{
 "cells": [
  {
   "cell_type": "markdown",
   "id": "c8093ee7-85fc-498f-9420-a5dde8668e91",
   "metadata": {},
   "source": [
    "# Introduction to R in Jupyter Notebooks"
   ]
  },
  {
   "cell_type": "markdown",
   "id": "544cfe97-aa94-4deb-b54e-f22856520e15",
   "metadata": {},
   "source": [
    "#### Compiled and written by Clark Jackson (Purdue University)\n",
    "#### Source credit: Dr. Jacob Hosen (Purdue University), ChatGPT, Wikipedia"
   ]
  },
  {
   "cell_type": "markdown",
   "id": "52968f86-5931-45b5-9003-7501a9430ac2",
   "metadata": {},
   "source": [
    "What is R? Why and how do we use it? These are foundational questions that are essential to understanding before properly taking advantage of all that this program has to offer. At its core, [R](https://en.wikipedia.org/wiki/R_(programming_language)) is a language. It is a program designed by Ross Ihaka and Robert Gentleman (yes, his real name) in the early 1990s, and its primary function, to avoid technical jargon, was to make peoples' lives easier. Who, in particular, you might ask? R can be compared to a calculator. There are simple desk calculators used by clerks in a bake shop to determine the total price of a dozen donuts. There are also high-level Texas Instrument graphing calculators that can plot advanced tables, graphs and displays while running equations in the background. R is on the same spectrum, but it far exceeds any tangible handheld calculator on the market. For the sake of this module, let us classify R as a high-tech calculator that can perform an array of functions.\n",
    "\n",
    "The primary purpose of this program is to manipulate data for a suite of applications. These real-world applications include business, finance analytics, data science and statistics. In this module, to practice R we will adopt an environmental statistics approach and advance through different stages of analysis to become familiar with this language. Specifically, we will extract data from USGS and visualize some plots!"
   ]
  },
  {
   "cell_type": "markdown",
   "id": "6c118720-e4d2-4910-9b31-7c702a84b2b7",
   "metadata": {},
   "source": [
    "#### What am I looking at right now?"
   ]
  },
  {
   "cell_type": "markdown",
   "id": "f594b26c-8604-4294-a19c-41a1b9674961",
   "metadata": {},
   "source": [
    "No doubt, if you are truly a novice to R, you are asking that right now. You are not currently looking at R itself, but rather an instrument designed to present R in a more user-friendly way. You, my friend, are looking at Jupyter Lab; specifically, within the warehouse of Jupyter Lab, you are looking at this module on a Jupyter Notebook. Jupyter Lab is an example of an IDE (Integrated Development Environment), which is just a platform that operates between the language (in this case, R) and the user (you). It is an interface to make the users interaction with R more efficient and less intimidating. There are lots of different types of IDEs, some you have likely heard of (including RStudio). Jupyter gets its name from the languages it can run with (JUlia, PYThon, R).\n",
    "\n",
    "#### What is the difference between R language and binary language?\n",
    "That is an excellent point. A helpful way of thinking about it is as follows: computers at their most basic are machines that run using binary (0's and 1's). However, because humans were not designed to communicate with 0's and 1's in specific sequences, programmers designed higher level languages that allow users to talk to commputers without needing binary. R is an example of that. As is Python, C/C++, Rust, and Sass. The advantage of programming languages like python and R is that they are open-source (i.e., free for the public to use)."
   ]
  },
  {
   "cell_type": "markdown",
   "id": "a5d5e1e4-4827-46de-a349-5ebd902b4f59",
   "metadata": {},
   "source": [
    "#### Getting Familiar with the Environment"
   ]
  },
  {
   "cell_type": "markdown",
   "id": "d9ba0f96-5cf9-4abe-9486-1465ebf2910a",
   "metadata": {},
   "source": [
    "If you are running this out of Jupyter Lab, you will see your screen split into two sections: the notebook section (where you are reading this right now) and the file manager section to the left. That section is collapsable if you desire, but I recommend keeping it open to have better visual control of your environment. In that file manager section, you can see different notebooks (marked with orange box icons to their left) along with other file types within a certain directory. You can open a different directory, the same way you walk through your computer File Explorer, by clicking on the little grey folder icon and selecting different locations to open up. This will be important for when you are trying to open different files from alternative locations.\n",
    "\n",
    "In the notebook section of your screen you will see a tab open at the top of the page, similar to how it looks when you have multiple tabs open on your internet explore. Directly beneath the tab display there is a control panel with a multitude of options. I will explain each one that will have significance in this beginner module, starting from the left and moving right.\n",
    "\n",
    "* \"File Save\": click this to save your notebook\n",
    "       \n",
    "* \"+\": Inserts a cell below (keyboard shortcut: \"esc\" from typing in cell but still have cell highlighted and press \"b\" for new \n",
    "    cell below and \"a\" for new cell above.\n",
    "        \n",
    "* \"Scissor icon\": cut this cell (keyboard shortcut: \"esc\" from typing in cell but still have cell highlighted and double tap \"d\"\n",
    "        \n",
    "* *Skip next six icons\"\n",
    "        \n",
    "* \"Dropdown menu\": determines cell type (markdown and code)\n",
    "    \n",
    "* \"Markdown\": this cell type is used for printing text (that is what I am using for these wordy cells)\n",
    "\n",
    "* \"Code\": this cell type is what you will use to actually run your code       "
   ]
  },
  {
   "cell_type": "markdown",
   "id": "7a3dbfec-fa8a-49e5-9730-d40baa59e032",
   "metadata": {},
   "source": [
    "## The Basics"
   ]
  },
  {
   "cell_type": "markdown",
   "id": "5392c57b-924a-4485-a2f0-fa6ef3d2d423",
   "metadata": {},
   "source": [
    "Let us begin with a simple task, because R is designed for us users to complete tasks. In the cell below, enter a simple mathematical equation and click Shft+Enter. You can either enter a new row underneath my examples or delete the \"# Example:\" portion of the cell to display the answer. If you're feeling extra ambitious, you can use the keyboard shortcuts listed above to create a new cell underneath the cell below."
   ]
  },
  {
   "cell_type": "code",
   "execution_count": null,
   "id": "46322da1-a297-4304-a91f-dfa4e701facb",
   "metadata": {},
   "outputs": [],
   "source": [
    "# Example: 2+2\n",
    "# Example: 6/2"
   ]
  },
  {
   "cell_type": "markdown",
   "id": "e1f73c7a-9589-416e-ad6b-a6c0f2a56f27",
   "metadata": {},
   "source": [
    "##### Note: When writing code in a Code Cell type, prefacing any statement with the \"#\" oeprator will null everything that follows it. This allows you to keep personal notes when you are writing your code, and I will use it to explain code in the rest of this module."
   ]
  },
  {
   "cell_type": "markdown",
   "id": "a22b5937-91e2-4922-b8a8-616f4c573414",
   "metadata": {},
   "source": [
    "#### Assigning objects"
   ]
  },
  {
   "cell_type": "code",
   "execution_count": null,
   "id": "6d41d06a-679b-4bb3-bedd-3b9858cb1a5d",
   "metadata": {},
   "outputs": [],
   "source": [
    "object_a <- \"apple\" # we assign object_a the value \"apple\"\n",
    "object_b <- \"banana\" # we assign object_b the value \"banana\"\n",
    "\n",
    "object_a # let's print out object_a and object_b to see what the output is\n",
    "object_b"
   ]
  },
  {
   "cell_type": "code",
   "execution_count": null,
   "id": "7b55af6f-92ec-44a9-8f93-ee46b7ca6347",
   "metadata": {},
   "outputs": [],
   "source": [
    "x = 1  # let's assign x as equal to 1\n",
    "y = 2  # let's assign y as equal to 2\n",
    "\n",
    "object_1 <- x + y  # we will define object_1 as the sum of x and y, which we defined above, using the operator \"<-\"\n",
    "object_1 # you can display the output by typing the code for it in a line of its own"
   ]
  },
  {
   "cell_type": "markdown",
   "id": "60a20dc8-e827-45af-a51f-61acdf800811",
   "metadata": {},
   "source": [
    "Using the object operator (\"<-\") is at the core of using R, and it will be something you likely use in the rest of your R-based applications. We can use \"=\" and \"<-\" interchangeably for the most part. There are some nuances with their respective uses, though, and for the sake of this beginner module (as well as the general paradigm of R syntax) we will use the \"<-\" operator to assign variables. For example, in the code cell above we can assign values to x and y using \"<-\" instead of \"=\"."
   ]
  },
  {
   "cell_type": "markdown",
   "id": "820c3ec4-764e-449e-8f1b-c9bdc1423c8f",
   "metadata": {},
   "source": [
    "#### Data Frames and Lists"
   ]
  },
  {
   "cell_type": "markdown",
   "id": "4d63a8d9-ba4e-4fcd-8def-66d8b0cc1998",
   "metadata": {},
   "source": [
    "Data frames and lists are both ways of organizing and categorizing data. We create them to simplify the coding process and ultimately write less code for the same purpose. We can create these groups by using the \"<-\" operator and assigning a list of variables to an object. The differences between the two are a little nuance and we won't need to get into it for the purposes of this module. However, to appease any curiosity, the differences lie in the structural limitations. Data frames are a bit more strict with their capabilities because they are essentially coded representations of tabular data. Due to this, each row in a data frame needs to have the same number of columns in order to have correct call-backs. They also need to have the same category of variable in each column (i.e., numerical, character, string, etc.). Lists, on the other hand, are much more open and flexible. They can store data of different variable types in the same list, and do not require matching column quantities. "
   ]
  },
  {
   "cell_type": "code",
   "execution_count": null,
   "id": "3476acb8-1ab7-4042-a294-08ab68c656ac",
   "metadata": {},
   "outputs": [],
   "source": [
    "df_1 <- data.frame( ## df_1 is the name of our data frame, and we use the <- operator followed by the \"data.frame\" code\n",
    "    fruit = c(\"apple\",\"kiwi\",\"banana\"), ## our first row of data\n",
    "    color = c(\"red\",\"green\",\"yellow\"), ## second row\n",
    "    length = c(5,3,9) ## third row\n",
    "    ) ## close function\n",
    "\n",
    "## notice that each row of data contains the same variable type and quantity"
   ]
  },
  {
   "cell_type": "code",
   "execution_count": null,
   "id": "4704cb8b-a289-43af-b1b2-183c066379a8",
   "metadata": {},
   "outputs": [],
   "source": [
    "list_1 <- list(  ## list_1 is the name of our list, and we use the <- operator followed by the \"list\" code\n",
    "    fruit = c(\"apple\",\"kiwi\"), ## first row\n",
    "    color = \"red\", ## second row\n",
    "    length = c(5,3,9,6,2,7) ## third row\n",
    "    ) ## close function\n",
    "\n",
    "## notice that each row of data contains a different quantity of variables"
   ]
  },
  {
   "cell_type": "markdown",
   "id": "2c912e0e-e511-482c-8d13-b7a7eb8ea88c",
   "metadata": {},
   "source": [
    "We have successfully created a list and a data frame...what now? Below we use the print function to display both list and data frame so that we can compare differences in outputs. The data frame prints a table of data without the lines separating columns and rows, and is much more organized. The list prints three rows (one for each row in the list) and lists the contents of each row."
   ]
  },
  {
   "cell_type": "code",
   "execution_count": null,
   "id": "d389bba1-c446-47b1-9167-ed149c671eee",
   "metadata": {},
   "outputs": [],
   "source": [
    "print(df_1)"
   ]
  },
  {
   "cell_type": "code",
   "execution_count": null,
   "id": "54f860cd-429e-4cab-98a2-fd243e798d5a",
   "metadata": {},
   "outputs": [],
   "source": [
    "print(list_1)"
   ]
  },
  {
   "cell_type": "markdown",
   "id": "033e9422-3c1b-4cbc-a5a0-a3064f883b77",
   "metadata": {},
   "source": [
    "#### How do we access data inside the data frame and list?"
   ]
  },
  {
   "cell_type": "markdown",
   "id": "7fd197f2-1145-4696-a5eb-f5e52e67dcac",
   "metadata": {},
   "source": [
    "Accessing lists and data frames is fairly similar in terms of code. There are two basic formats to pull data: by name and by index. Refer to the cells below that explain each of those types."
   ]
  },
  {
   "cell_type": "code",
   "execution_count": null,
   "id": "27e58cb1-035a-40aa-8128-3544e67d97bb",
   "metadata": {},
   "outputs": [],
   "source": [
    "## Access by index\n",
    "print(df_1[[1]])\n",
    "print(df_1[[1,2]])\n",
    "print(df_1[[1,3]])\n",
    "\n",
    "print(list_1[[1]])\n",
    "\n",
    "## the \"[[]]\" syntax is used to index data from a data frame or list. The number you enter will pull data from that row, and the \n",
    "## second number you enter after a comma will pull that number from the designated row. For example, we directed R to the 1st row of data\n",
    "## in our data frame and then told it to pull the 2nd unit of data from within that first row ([[1,2]])."
   ]
  },
  {
   "cell_type": "code",
   "execution_count": null,
   "id": "bdd3a353-7a73-414a-b61f-e25af793664f",
   "metadata": {},
   "outputs": [],
   "source": [
    "## Access by name\n",
    "print(df_1$fruit)\n",
    "print(df_1$color)\n",
    "\n",
    "print(list_1$fruit)\n",
    "print(list_1$color)\n",
    "\n",
    "## in this method we use the $ operator to extract data. Imagine the dollar sign is telling R to open up the file before it and \n",
    "## extract the data from the file name after it. This operator is one that will be essential for your tool kit."
   ]
  },
  {
   "cell_type": "markdown",
   "id": "349709f4-da2c-4c22-8445-b632b451958e",
   "metadata": {},
   "source": [
    "# Downloading and Manipulating USGS Data"
   ]
  },
  {
   "cell_type": "markdown",
   "id": "27d2ab44-0568-48c7-a93c-0e76cbcff130",
   "metadata": {},
   "source": [
    "Now we are going to apply a few of the principles we just covered, along with some new material, to extract data from the USGS database and create some graphical displays. A lot of this information may seem new, but I will explain it thoroghly in each step so that you have an understanding of what we are doing/why we are doing it. Let's begin!"
   ]
  },
  {
   "cell_type": "markdown",
   "id": "60d12787-1e2e-42cb-a35d-938a2d2e213d",
   "metadata": {},
   "source": [
    "Although R has a lot of capabilities and functions in its purest form, there are still other functions that cannot be done without first downloading the proper equipment into your workspace. This is known as 'downloading packages', and will be essential for all R users from now until the end of time (in theory). The first step of downloading a package is to install it into your R program. This step only needs to be done once for each package. The next step is to call on that specific package in your workspace whenever you plan on using it, and that function needs to be completed before starting any work with the code that accompanies those packages. Run the cell below:"
   ]
  },
  {
   "cell_type": "code",
   "execution_count": 1,
   "id": "a86adf70-78bd-404d-88e3-5f50c9a0968b",
   "metadata": {},
   "outputs": [
    {
     "ename": "ERROR",
     "evalue": "Error in install.package(dataRetrieval): could not find function \"install.package\"\n",
     "output_type": "error",
     "traceback": [
      "Error in install.package(dataRetrieval): could not find function \"install.package\"\nTraceback:\n"
     ]
    }
   ],
   "source": [
    "install.packages(dataRetrieval)\n",
    "install.packages(stringr)\n",
    "install.packages(gridExtra)\n",
    "install.packages(ggplot2)\n",
    "install.packages(reshape2)\n",
    "install.packages(tidyverse)"
   ]
  },
  {
   "cell_type": "markdown",
   "id": "8d7e697b-6ed6-4a60-912a-34779e1002a0",
   "metadata": {},
   "source": [
    "Like I stated above, you only need to install these packages once. Every time you wish to use functions within them, though, you need to load them into your workspace by using the \"library()\" code as seen below. Run the cell below:"
   ]
  },
  {
   "cell_type": "code",
   "execution_count": 1,
   "id": "26ab5b33-f43c-4c7a-9f22-dd7ba2c48062",
   "metadata": {},
   "outputs": [
    {
     "name": "stderr",
     "output_type": "stream",
     "text": [
      "── \u001b[1mAttaching core tidyverse packages\u001b[22m ──────────────────────────────────────────────────────────────── tidyverse 2.0.0 ──\n",
      "\u001b[32m✔\u001b[39m \u001b[34mdplyr    \u001b[39m 1.1.4     \u001b[32m✔\u001b[39m \u001b[34mreadr    \u001b[39m 2.1.5\n",
      "\u001b[32m✔\u001b[39m \u001b[34mforcats  \u001b[39m 1.0.0     \u001b[32m✔\u001b[39m \u001b[34mtibble   \u001b[39m 3.2.1\n",
      "\u001b[32m✔\u001b[39m \u001b[34mlubridate\u001b[39m 1.9.3     \u001b[32m✔\u001b[39m \u001b[34mtidyr    \u001b[39m 1.3.1\n",
      "\u001b[32m✔\u001b[39m \u001b[34mpurrr    \u001b[39m 1.0.2     \n",
      "── \u001b[1mConflicts\u001b[22m ────────────────────────────────────────────────────────────────────────────────── tidyverse_conflicts() ──\n",
      "\u001b[31m✖\u001b[39m \u001b[34mdplyr\u001b[39m::\u001b[32mcombine()\u001b[39m masks \u001b[34mgridExtra\u001b[39m::combine()\n",
      "\u001b[31m✖\u001b[39m \u001b[34mdplyr\u001b[39m::\u001b[32mfilter()\u001b[39m  masks \u001b[34mstats\u001b[39m::filter()\n",
      "\u001b[31m✖\u001b[39m \u001b[34mdplyr\u001b[39m::\u001b[32mlag()\u001b[39m     masks \u001b[34mstats\u001b[39m::lag()\n",
      "\u001b[36mℹ\u001b[39m Use the conflicted package (\u001b[3m\u001b[34m<http://conflicted.r-lib.org/>\u001b[39m\u001b[23m) to force all conflicts to become errors\n"
     ]
    }
   ],
   "source": [
    "library(dataRetrieval)\n",
    "library(stringr)\n",
    "library(gridExtra)\n",
    "library(ggplot2)\n",
    "library(reshape2)\n",
    "library(tidyverse)"
   ]
  },
  {
   "cell_type": "markdown",
   "id": "9a7ab02a-d373-449e-ab2e-ebc8fb9ef44d",
   "metadata": {},
   "source": [
    "You may see some conflicts with your package calls, but for the purposes of this module you don't need to worry about what they mean. As my advisor told me, \"Warnings are fine, errors are bad\".\n",
    "\n",
    "I won't explain what each package does, but I will describe a couple. The dataRetrieval package is specific to USGS: it is linked with their online database and this package opens the pathway for extracting data directly from their warehouse. The ggplot2 package will be the one you likely use the most. It stores all of the programs for ploting visual displays and graphs, as well as manipulating/customizing those outputs.\n",
    "\n",
    "We are also going to run the line of code below which tells R how many columsn and rows of output data we would like to be shown whenever we pull data from a databse."
   ]
  },
  {
   "cell_type": "code",
   "execution_count": 3,
   "id": "ab5e9646-1667-4fd6-8253-6a7e3ce5b10b",
   "metadata": {},
   "outputs": [],
   "source": [
    "options(repr.matrix.max.cols=40, repr.matrix.max.rows=10)"
   ]
  },
  {
   "cell_type": "markdown",
   "id": "73f05e59-d593-4c24-b5e3-1d469d7c08d1",
   "metadata": {},
   "source": [
    "### Extracting Data"
   ]
  },
  {
   "cell_type": "markdown",
   "id": "d15a1940-e6eb-4531-b5ef-420274cd2837",
   "metadata": {},
   "source": [
    "Once we have these packages loaded, we can begin pulling data from the USGS database. Sites with sensor data are numerated with 8-digit unique codes and are what you will use to start extracting data from their database. I suggest you follow this [link](https://waterdata.usgs.gov/nwis/current/?type=quality) and find a site identifier (8-digit code) for a system you would like to do your own supplementary practice research on. The best way to learn these skills is to repeat them. For this module we will be looking at sites on the Kankakee River and Ohio River. Specifically, sites \"05527000\" and \"03216070\", respectively. Run the cell below:"
   ]
  },
  {
   "cell_type": "code",
   "execution_count": 5,
   "id": "9bc17c57-f1f2-4988-ba8b-11d9b52ee2c3",
   "metadata": {},
   "outputs": [
    {
     "data": {
      "text/html": [
       "<style>\n",
       ".list-inline {list-style: none; margin:0; padding: 0}\n",
       ".list-inline>li {display: inline-block}\n",
       ".list-inline>li:not(:last-child)::after {content: \"\\00b7\"; padding: 0 .5ex}\n",
       "</style>\n",
       "<ol class=list-inline><li>'agency_cd'</li><li>'site_no'</li><li>'station_nm'</li><li>'site_tp_cd'</li><li>'lat_va'</li><li>'long_va'</li><li>'dec_lat_va'</li><li>'dec_long_va'</li><li>'coord_meth_cd'</li><li>'coord_acy_cd'</li><li>'coord_datum_cd'</li><li>'dec_coord_datum_cd'</li><li>'district_cd'</li><li>'state_cd'</li><li>'county_cd'</li><li>'country_cd'</li><li>'land_net_ds'</li><li>'map_nm'</li><li>'map_scale_fc'</li><li>'alt_va'</li><li>'alt_meth_cd'</li><li>'alt_acy_va'</li><li>'alt_datum_cd'</li><li>'huc_cd'</li><li>'basin_cd'</li><li>'topo_cd'</li><li>'instruments_cd'</li><li>'construction_dt'</li><li>'inventory_dt'</li><li>'drain_area_va'</li><li>'contrib_drain_area_va'</li><li>'tz_cd'</li><li>'local_time_fg'</li><li>'reliability_cd'</li><li>'gw_file_cd'</li><li>'nat_aqfr_cd'</li><li>'aqfr_cd'</li><li>'aqfr_type_cd'</li><li>'well_depth_va'</li><li>'hole_depth_va'</li><li>'depth_src_cd'</li><li>'project_no'</li></ol>\n"
      ],
      "text/latex": [
       "\\begin{enumerate*}\n",
       "\\item 'agency\\_cd'\n",
       "\\item 'site\\_no'\n",
       "\\item 'station\\_nm'\n",
       "\\item 'site\\_tp\\_cd'\n",
       "\\item 'lat\\_va'\n",
       "\\item 'long\\_va'\n",
       "\\item 'dec\\_lat\\_va'\n",
       "\\item 'dec\\_long\\_va'\n",
       "\\item 'coord\\_meth\\_cd'\n",
       "\\item 'coord\\_acy\\_cd'\n",
       "\\item 'coord\\_datum\\_cd'\n",
       "\\item 'dec\\_coord\\_datum\\_cd'\n",
       "\\item 'district\\_cd'\n",
       "\\item 'state\\_cd'\n",
       "\\item 'county\\_cd'\n",
       "\\item 'country\\_cd'\n",
       "\\item 'land\\_net\\_ds'\n",
       "\\item 'map\\_nm'\n",
       "\\item 'map\\_scale\\_fc'\n",
       "\\item 'alt\\_va'\n",
       "\\item 'alt\\_meth\\_cd'\n",
       "\\item 'alt\\_acy\\_va'\n",
       "\\item 'alt\\_datum\\_cd'\n",
       "\\item 'huc\\_cd'\n",
       "\\item 'basin\\_cd'\n",
       "\\item 'topo\\_cd'\n",
       "\\item 'instruments\\_cd'\n",
       "\\item 'construction\\_dt'\n",
       "\\item 'inventory\\_dt'\n",
       "\\item 'drain\\_area\\_va'\n",
       "\\item 'contrib\\_drain\\_area\\_va'\n",
       "\\item 'tz\\_cd'\n",
       "\\item 'local\\_time\\_fg'\n",
       "\\item 'reliability\\_cd'\n",
       "\\item 'gw\\_file\\_cd'\n",
       "\\item 'nat\\_aqfr\\_cd'\n",
       "\\item 'aqfr\\_cd'\n",
       "\\item 'aqfr\\_type\\_cd'\n",
       "\\item 'well\\_depth\\_va'\n",
       "\\item 'hole\\_depth\\_va'\n",
       "\\item 'depth\\_src\\_cd'\n",
       "\\item 'project\\_no'\n",
       "\\end{enumerate*}\n"
      ],
      "text/markdown": [
       "1. 'agency_cd'\n",
       "2. 'site_no'\n",
       "3. 'station_nm'\n",
       "4. 'site_tp_cd'\n",
       "5. 'lat_va'\n",
       "6. 'long_va'\n",
       "7. 'dec_lat_va'\n",
       "8. 'dec_long_va'\n",
       "9. 'coord_meth_cd'\n",
       "10. 'coord_acy_cd'\n",
       "11. 'coord_datum_cd'\n",
       "12. 'dec_coord_datum_cd'\n",
       "13. 'district_cd'\n",
       "14. 'state_cd'\n",
       "15. 'county_cd'\n",
       "16. 'country_cd'\n",
       "17. 'land_net_ds'\n",
       "18. 'map_nm'\n",
       "19. 'map_scale_fc'\n",
       "20. 'alt_va'\n",
       "21. 'alt_meth_cd'\n",
       "22. 'alt_acy_va'\n",
       "23. 'alt_datum_cd'\n",
       "24. 'huc_cd'\n",
       "25. 'basin_cd'\n",
       "26. 'topo_cd'\n",
       "27. 'instruments_cd'\n",
       "28. 'construction_dt'\n",
       "29. 'inventory_dt'\n",
       "30. 'drain_area_va'\n",
       "31. 'contrib_drain_area_va'\n",
       "32. 'tz_cd'\n",
       "33. 'local_time_fg'\n",
       "34. 'reliability_cd'\n",
       "35. 'gw_file_cd'\n",
       "36. 'nat_aqfr_cd'\n",
       "37. 'aqfr_cd'\n",
       "38. 'aqfr_type_cd'\n",
       "39. 'well_depth_va'\n",
       "40. 'hole_depth_va'\n",
       "41. 'depth_src_cd'\n",
       "42. 'project_no'\n",
       "\n",
       "\n"
      ],
      "text/plain": [
       " [1] \"agency_cd\"             \"site_no\"               \"station_nm\"           \n",
       " [4] \"site_tp_cd\"            \"lat_va\"                \"long_va\"              \n",
       " [7] \"dec_lat_va\"            \"dec_long_va\"           \"coord_meth_cd\"        \n",
       "[10] \"coord_acy_cd\"          \"coord_datum_cd\"        \"dec_coord_datum_cd\"   \n",
       "[13] \"district_cd\"           \"state_cd\"              \"county_cd\"            \n",
       "[16] \"country_cd\"            \"land_net_ds\"           \"map_nm\"               \n",
       "[19] \"map_scale_fc\"          \"alt_va\"                \"alt_meth_cd\"          \n",
       "[22] \"alt_acy_va\"            \"alt_datum_cd\"          \"huc_cd\"               \n",
       "[25] \"basin_cd\"              \"topo_cd\"               \"instruments_cd\"       \n",
       "[28] \"construction_dt\"       \"inventory_dt\"          \"drain_area_va\"        \n",
       "[31] \"contrib_drain_area_va\" \"tz_cd\"                 \"local_time_fg\"        \n",
       "[34] \"reliability_cd\"        \"gw_file_cd\"            \"nat_aqfr_cd\"          \n",
       "[37] \"aqfr_cd\"               \"aqfr_type_cd\"          \"well_depth_va\"        \n",
       "[40] \"hole_depth_va\"         \"depth_src_cd\"          \"project_no\"           "
      ]
     },
     "metadata": {},
     "output_type": "display_data"
    },
    {
     "data": {
      "text/html": [
       "<table class=\"dataframe\">\n",
       "<caption>A data.frame: 2 × 42</caption>\n",
       "<thead>\n",
       "\t<tr><th scope=col>agency_cd</th><th scope=col>site_no</th><th scope=col>station_nm</th><th scope=col>site_tp_cd</th><th scope=col>lat_va</th><th scope=col>long_va</th><th scope=col>dec_lat_va</th><th scope=col>dec_long_va</th><th scope=col>coord_meth_cd</th><th scope=col>coord_acy_cd</th><th scope=col>coord_datum_cd</th><th scope=col>dec_coord_datum_cd</th><th scope=col>district_cd</th><th scope=col>state_cd</th><th scope=col>county_cd</th><th scope=col>country_cd</th><th scope=col>land_net_ds</th><th scope=col>map_nm</th><th scope=col>map_scale_fc</th><th scope=col>alt_va</th><th scope=col>⋯</th><th scope=col>alt_datum_cd</th><th scope=col>huc_cd</th><th scope=col>basin_cd</th><th scope=col>topo_cd</th><th scope=col>instruments_cd</th><th scope=col>construction_dt</th><th scope=col>inventory_dt</th><th scope=col>drain_area_va</th><th scope=col>contrib_drain_area_va</th><th scope=col>tz_cd</th><th scope=col>local_time_fg</th><th scope=col>reliability_cd</th><th scope=col>gw_file_cd</th><th scope=col>nat_aqfr_cd</th><th scope=col>aqfr_cd</th><th scope=col>aqfr_type_cd</th><th scope=col>well_depth_va</th><th scope=col>hole_depth_va</th><th scope=col>depth_src_cd</th><th scope=col>project_no</th></tr>\n",
       "\t<tr><th scope=col>&lt;chr&gt;</th><th scope=col>&lt;chr&gt;</th><th scope=col>&lt;chr&gt;</th><th scope=col>&lt;chr&gt;</th><th scope=col>&lt;dbl&gt;</th><th scope=col>&lt;dbl&gt;</th><th scope=col>&lt;dbl&gt;</th><th scope=col>&lt;dbl&gt;</th><th scope=col>&lt;chr&gt;</th><th scope=col>&lt;chr&gt;</th><th scope=col>&lt;chr&gt;</th><th scope=col>&lt;chr&gt;</th><th scope=col>&lt;chr&gt;</th><th scope=col>&lt;chr&gt;</th><th scope=col>&lt;chr&gt;</th><th scope=col>&lt;chr&gt;</th><th scope=col>&lt;chr&gt;</th><th scope=col>&lt;chr&gt;</th><th scope=col>&lt;chr&gt;</th><th scope=col>&lt;dbl&gt;</th><th scope=col>⋯</th><th scope=col>&lt;chr&gt;</th><th scope=col>&lt;chr&gt;</th><th scope=col>&lt;chr&gt;</th><th scope=col>&lt;chr&gt;</th><th scope=col>&lt;chr&gt;</th><th scope=col>&lt;lgl&gt;</th><th scope=col>&lt;dbl&gt;</th><th scope=col>&lt;dbl&gt;</th><th scope=col>&lt;dbl&gt;</th><th scope=col>&lt;chr&gt;</th><th scope=col>&lt;chr&gt;</th><th scope=col>&lt;chr&gt;</th><th scope=col>&lt;chr&gt;</th><th scope=col>&lt;chr&gt;</th><th scope=col>&lt;chr&gt;</th><th scope=col>&lt;chr&gt;</th><th scope=col>&lt;dbl&gt;</th><th scope=col>&lt;dbl&gt;</th><th scope=col>&lt;chr&gt;</th><th scope=col>&lt;chr&gt;</th></tr>\n",
       "</thead>\n",
       "<tbody>\n",
       "\t<tr><td>USGS</td><td>03216070</td><td>OHIO RIVER AT IRONTON, OH  </td><td>ST</td><td>383155.4</td><td>824109.4</td><td>38.53206</td><td>-82.68594</td><td>N</td><td>1</td><td>NAD83</td><td>NAD83</td><td>21</td><td>39</td><td>087</td><td>US</td><td>NA                     </td><td>IRONTON             </td><td>  24000</td><td>480.41</td><td>⋯</td><td>NAVD88</td><td>05090103</td><td>NA</td><td>C</td><td>NNNNYNNNNNNNNNNNNNNNNNNNNNNNNN</td><td>NA</td><td>20150825</td><td> NA</td><td> NA</td><td>EST</td><td>Y</td><td>NA</td><td>NA      </td><td>NA</td><td>NA</td><td>NA</td><td>NA</td><td>NA</td><td>NA</td><td>NA       </td></tr>\n",
       "\t<tr><td>USGS</td><td>05515500</td><td>KANKAKEE RIVER AT DAVIS, IN</td><td>ST</td><td>412322.7</td><td>864222.2</td><td>41.38964</td><td>-86.70617</td><td>G</td><td>1</td><td>NAD83</td><td>NAD83</td><td>18</td><td>18</td><td>149</td><td>US</td><td>  NWNES24 T34N  R03W  2</td><td>KINGSFORD HEIGHT 31A</td><td>  24000</td><td>664.34</td><td>⋯</td><td>NAVD88</td><td>07120001</td><td>NA</td><td>C</td><td>YNNNYNYNNNNNNYNNNNNNNNNNNNNNNN</td><td>NA</td><td>      NA</td><td>542</td><td>405</td><td>EST</td><td>N</td><td>C </td><td>NYNNNNNN</td><td>NA</td><td>NA</td><td>NA</td><td>NA</td><td>NA</td><td>NA</td><td>441800100</td></tr>\n",
       "</tbody>\n",
       "</table>\n"
      ],
      "text/latex": [
       "A data.frame: 2 × 42\n",
       "\\begin{tabular}{lllllllllllllllllllllllllllllllllllllllll}\n",
       " agency\\_cd & site\\_no & station\\_nm & site\\_tp\\_cd & lat\\_va & long\\_va & dec\\_lat\\_va & dec\\_long\\_va & coord\\_meth\\_cd & coord\\_acy\\_cd & coord\\_datum\\_cd & dec\\_coord\\_datum\\_cd & district\\_cd & state\\_cd & county\\_cd & country\\_cd & land\\_net\\_ds & map\\_nm & map\\_scale\\_fc & alt\\_va & ⋯ & alt\\_datum\\_cd & huc\\_cd & basin\\_cd & topo\\_cd & instruments\\_cd & construction\\_dt & inventory\\_dt & drain\\_area\\_va & contrib\\_drain\\_area\\_va & tz\\_cd & local\\_time\\_fg & reliability\\_cd & gw\\_file\\_cd & nat\\_aqfr\\_cd & aqfr\\_cd & aqfr\\_type\\_cd & well\\_depth\\_va & hole\\_depth\\_va & depth\\_src\\_cd & project\\_no\\\\\n",
       " <chr> & <chr> & <chr> & <chr> & <dbl> & <dbl> & <dbl> & <dbl> & <chr> & <chr> & <chr> & <chr> & <chr> & <chr> & <chr> & <chr> & <chr> & <chr> & <chr> & <dbl> & ⋯ & <chr> & <chr> & <chr> & <chr> & <chr> & <lgl> & <dbl> & <dbl> & <dbl> & <chr> & <chr> & <chr> & <chr> & <chr> & <chr> & <chr> & <dbl> & <dbl> & <chr> & <chr>\\\\\n",
       "\\hline\n",
       "\t USGS & 03216070 & OHIO RIVER AT IRONTON, OH   & ST & 383155.4 & 824109.4 & 38.53206 & -82.68594 & N & 1 & NAD83 & NAD83 & 21 & 39 & 087 & US & NA                      & IRONTON              &   24000 & 480.41 & ⋯ & NAVD88 & 05090103 & NA & C & NNNNYNNNNNNNNNNNNNNNNNNNNNNNNN & NA & 20150825 &  NA &  NA & EST & Y & NA & NA       & NA & NA & NA & NA & NA & NA & NA       \\\\\n",
       "\t USGS & 05515500 & KANKAKEE RIVER AT DAVIS, IN & ST & 412322.7 & 864222.2 & 41.38964 & -86.70617 & G & 1 & NAD83 & NAD83 & 18 & 18 & 149 & US &   NWNES24 T34N  R03W  2 & KINGSFORD HEIGHT 31A &   24000 & 664.34 & ⋯ & NAVD88 & 07120001 & NA & C & YNNNYNYNNNNNNYNNNNNNNNNNNNNNNN & NA &       NA & 542 & 405 & EST & N & C  & NYNNNNNN & NA & NA & NA & NA & NA & NA & 441800100\\\\\n",
       "\\end{tabular}\n"
      ],
      "text/markdown": [
       "\n",
       "A data.frame: 2 × 42\n",
       "\n",
       "| agency_cd &lt;chr&gt; | site_no &lt;chr&gt; | station_nm &lt;chr&gt; | site_tp_cd &lt;chr&gt; | lat_va &lt;dbl&gt; | long_va &lt;dbl&gt; | dec_lat_va &lt;dbl&gt; | dec_long_va &lt;dbl&gt; | coord_meth_cd &lt;chr&gt; | coord_acy_cd &lt;chr&gt; | coord_datum_cd &lt;chr&gt; | dec_coord_datum_cd &lt;chr&gt; | district_cd &lt;chr&gt; | state_cd &lt;chr&gt; | county_cd &lt;chr&gt; | country_cd &lt;chr&gt; | land_net_ds &lt;chr&gt; | map_nm &lt;chr&gt; | map_scale_fc &lt;chr&gt; | alt_va &lt;dbl&gt; | ⋯ ⋯ | alt_datum_cd &lt;chr&gt; | huc_cd &lt;chr&gt; | basin_cd &lt;chr&gt; | topo_cd &lt;chr&gt; | instruments_cd &lt;chr&gt; | construction_dt &lt;lgl&gt; | inventory_dt &lt;dbl&gt; | drain_area_va &lt;dbl&gt; | contrib_drain_area_va &lt;dbl&gt; | tz_cd &lt;chr&gt; | local_time_fg &lt;chr&gt; | reliability_cd &lt;chr&gt; | gw_file_cd &lt;chr&gt; | nat_aqfr_cd &lt;chr&gt; | aqfr_cd &lt;chr&gt; | aqfr_type_cd &lt;chr&gt; | well_depth_va &lt;dbl&gt; | hole_depth_va &lt;dbl&gt; | depth_src_cd &lt;chr&gt; | project_no &lt;chr&gt; |\n",
       "|---|---|---|---|---|---|---|---|---|---|---|---|---|---|---|---|---|---|---|---|---|---|---|---|---|---|---|---|---|---|---|---|---|---|---|---|---|---|---|---|---|\n",
       "| USGS | 03216070 | OHIO RIVER AT IRONTON, OH   | ST | 383155.4 | 824109.4 | 38.53206 | -82.68594 | N | 1 | NAD83 | NAD83 | 21 | 39 | 087 | US | NA                      | IRONTON              |   24000 | 480.41 | ⋯ | NAVD88 | 05090103 | NA | C | NNNNYNNNNNNNNNNNNNNNNNNNNNNNNN | NA | 20150825 |  NA |  NA | EST | Y | NA | NA       | NA | NA | NA | NA | NA | NA | NA        |\n",
       "| USGS | 05515500 | KANKAKEE RIVER AT DAVIS, IN | ST | 412322.7 | 864222.2 | 41.38964 | -86.70617 | G | 1 | NAD83 | NAD83 | 18 | 18 | 149 | US |   NWNES24 T34N  R03W  2 | KINGSFORD HEIGHT 31A |   24000 | 664.34 | ⋯ | NAVD88 | 07120001 | NA | C | YNNNYNYNNNNNNYNNNNNNNNNNNNNNNN | NA |       NA | 542 | 405 | EST | N | C  | NYNNNNNN | NA | NA | NA | NA | NA | NA | 441800100 |\n",
       "\n"
      ],
      "text/plain": [
       "  agency_cd site_no  station_nm                  site_tp_cd lat_va   long_va \n",
       "1 USGS      03216070 OHIO RIVER AT IRONTON, OH   ST         383155.4 824109.4\n",
       "2 USGS      05515500 KANKAKEE RIVER AT DAVIS, IN ST         412322.7 864222.2\n",
       "  dec_lat_va dec_long_va coord_meth_cd coord_acy_cd coord_datum_cd\n",
       "1 38.53206   -82.68594   N             1            NAD83         \n",
       "2 41.38964   -86.70617   G             1            NAD83         \n",
       "  dec_coord_datum_cd district_cd state_cd county_cd country_cd\n",
       "1 NAD83              21          39       087       US        \n",
       "2 NAD83              18          18       149       US        \n",
       "  land_net_ds             map_nm               map_scale_fc alt_va ⋯\n",
       "1 NA                      IRONTON                24000      480.41 ⋯\n",
       "2   NWNES24 T34N  R03W  2 KINGSFORD HEIGHT 31A   24000      664.34 ⋯\n",
       "  alt_datum_cd huc_cd   basin_cd topo_cd instruments_cd                \n",
       "1 NAVD88       05090103 NA       C       NNNNYNNNNNNNNNNNNNNNNNNNNNNNNN\n",
       "2 NAVD88       07120001 NA       C       YNNNYNYNNNNNNYNNNNNNNNNNNNNNNN\n",
       "  construction_dt inventory_dt drain_area_va contrib_drain_area_va tz_cd\n",
       "1 NA              20150825      NA            NA                   EST  \n",
       "2 NA                    NA     542           405                   EST  \n",
       "  local_time_fg reliability_cd gw_file_cd nat_aqfr_cd aqfr_cd aqfr_type_cd\n",
       "1 Y             NA             NA         NA          NA      NA          \n",
       "2 N             C              NYNNNNNN   NA          NA      NA          \n",
       "  well_depth_va hole_depth_va depth_src_cd project_no\n",
       "1 NA            NA            NA           NA        \n",
       "2 NA            NA            NA           441800100 "
      ]
     },
     "metadata": {},
     "output_type": "display_data"
    }
   ],
   "source": [
    "site_identifiers <- c(\"05515500\",\"03216070\") # here we condense our two site identifiers into a list for easier manipulation\n",
    "siteInfo <- readNWISsite(site_identifiers) # we create an object that contains the actual code that reads our site numbers (readNWISsite)\n",
    "\n",
    "names(siteInfo) # this will show us the names of all the columns in the data set\n",
    "siteInfo # this will display a table of all the physical data"
   ]
  },
  {
   "cell_type": "markdown",
   "id": "21135755-d34c-478e-bb76-a33ab0071950",
   "metadata": {},
   "source": [
    "#### Data Identifiers"
   ]
  },
  {
   "cell_type": "markdown",
   "id": "3e16c9de-bf3e-4790-8c30-012165176036",
   "metadata": {},
   "source": [
    "We'll be using a couple other data identifiers to specify what kind of information we want to pull from the USGS data base. The first is called a parameter code and is used to extract data like discharge, temperature, pH and dissolved oxygen. More can be found on their website [here](https://help.waterdata.usgs.gov/codes-and-parameters/parameters). These five-digit codes will be used to tell R what kind of data you want to pull from within the river system you are looking at. \n",
    "\n",
    "The next type of identifier code we will use for this module is called the statistics code. This five-digit code is used to filter the type of statistical data you'd like to have displayed. Examples of these codes include maximum, minimum, median and mean. Those codes can be found at this [page](https://help.waterdata.usgs.gov/stat_code) on the USGS website.\n",
    "\n",
    "The last class of identifier code we will use is called the service code. Essentially, this code tells R how much of the dataset you'd like to display. Examples include daily values, instantaneous values, water quality, and groundwater levels. These codes and their details can be found [here](https://waterservices.usgs.gov/). As you might have noticed by now, all of these code identifiers are different ways to filter the data that you want displayed for the purposes of your project."
   ]
  },
  {
   "cell_type": "markdown",
   "id": "953ec077-f93b-4d3c-8c38-10431936a406",
   "metadata": {},
   "source": [
    "### Extracting Data Continued"
   ]
  },
  {
   "cell_type": "markdown",
   "id": "3d159d5f-8d64-441c-bcec-529a074427d6",
   "metadata": {},
   "source": [
    "We will now use some identifier codes to extract some specific values out of the Ohio River and Kankakee River site datasets. The first question we should ask, though, is what data can we even pull? How do we know what kind of data is available at each site? We must start by running the code _whatNWISdata_ to receive a table of different data options. "
   ]
  },
  {
   "cell_type": "code",
   "execution_count": 7,
   "id": "63a72093-8983-44ef-86ac-022bab446d63",
   "metadata": {
    "scrolled": true
   },
   "outputs": [
    {
     "data": {
      "text/html": [
       "<style>\n",
       ".list-inline {list-style: none; margin:0; padding: 0}\n",
       ".list-inline>li {display: inline-block}\n",
       ".list-inline>li:not(:last-child)::after {content: \"\\00b7\"; padding: 0 .5ex}\n",
       "</style>\n",
       "<ol class=list-inline><li>'agency_cd'</li><li>'site_no'</li><li>'station_nm'</li><li>'site_tp_cd'</li><li>'dec_lat_va'</li><li>'dec_long_va'</li><li>'coord_acy_cd'</li><li>'dec_coord_datum_cd'</li><li>'alt_va'</li><li>'alt_acy_va'</li><li>'alt_datum_cd'</li><li>'huc_cd'</li><li>'data_type_cd'</li><li>'parm_cd'</li><li>'stat_cd'</li><li>'ts_id'</li><li>'loc_web_ds'</li><li>'medium_grp_cd'</li><li>'parm_grp_cd'</li><li>'srs_id'</li><li>'access_cd'</li><li>'begin_date'</li><li>'end_date'</li><li>'count_nu'</li></ol>\n"
      ],
      "text/latex": [
       "\\begin{enumerate*}\n",
       "\\item 'agency\\_cd'\n",
       "\\item 'site\\_no'\n",
       "\\item 'station\\_nm'\n",
       "\\item 'site\\_tp\\_cd'\n",
       "\\item 'dec\\_lat\\_va'\n",
       "\\item 'dec\\_long\\_va'\n",
       "\\item 'coord\\_acy\\_cd'\n",
       "\\item 'dec\\_coord\\_datum\\_cd'\n",
       "\\item 'alt\\_va'\n",
       "\\item 'alt\\_acy\\_va'\n",
       "\\item 'alt\\_datum\\_cd'\n",
       "\\item 'huc\\_cd'\n",
       "\\item 'data\\_type\\_cd'\n",
       "\\item 'parm\\_cd'\n",
       "\\item 'stat\\_cd'\n",
       "\\item 'ts\\_id'\n",
       "\\item 'loc\\_web\\_ds'\n",
       "\\item 'medium\\_grp\\_cd'\n",
       "\\item 'parm\\_grp\\_cd'\n",
       "\\item 'srs\\_id'\n",
       "\\item 'access\\_cd'\n",
       "\\item 'begin\\_date'\n",
       "\\item 'end\\_date'\n",
       "\\item 'count\\_nu'\n",
       "\\end{enumerate*}\n"
      ],
      "text/markdown": [
       "1. 'agency_cd'\n",
       "2. 'site_no'\n",
       "3. 'station_nm'\n",
       "4. 'site_tp_cd'\n",
       "5. 'dec_lat_va'\n",
       "6. 'dec_long_va'\n",
       "7. 'coord_acy_cd'\n",
       "8. 'dec_coord_datum_cd'\n",
       "9. 'alt_va'\n",
       "10. 'alt_acy_va'\n",
       "11. 'alt_datum_cd'\n",
       "12. 'huc_cd'\n",
       "13. 'data_type_cd'\n",
       "14. 'parm_cd'\n",
       "15. 'stat_cd'\n",
       "16. 'ts_id'\n",
       "17. 'loc_web_ds'\n",
       "18. 'medium_grp_cd'\n",
       "19. 'parm_grp_cd'\n",
       "20. 'srs_id'\n",
       "21. 'access_cd'\n",
       "22. 'begin_date'\n",
       "23. 'end_date'\n",
       "24. 'count_nu'\n",
       "\n",
       "\n"
      ],
      "text/plain": [
       " [1] \"agency_cd\"          \"site_no\"            \"station_nm\"        \n",
       " [4] \"site_tp_cd\"         \"dec_lat_va\"         \"dec_long_va\"       \n",
       " [7] \"coord_acy_cd\"       \"dec_coord_datum_cd\" \"alt_va\"            \n",
       "[10] \"alt_acy_va\"         \"alt_datum_cd\"       \"huc_cd\"            \n",
       "[13] \"data_type_cd\"       \"parm_cd\"            \"stat_cd\"           \n",
       "[16] \"ts_id\"              \"loc_web_ds\"         \"medium_grp_cd\"     \n",
       "[19] \"parm_grp_cd\"        \"srs_id\"             \"access_cd\"         \n",
       "[22] \"begin_date\"         \"end_date\"           \"count_nu\"          "
      ]
     },
     "metadata": {},
     "output_type": "display_data"
    },
    {
     "data": {
      "text/html": [
       "<table class=\"dataframe\">\n",
       "<caption>A data.frame: 11 × 24</caption>\n",
       "<thead>\n",
       "\t<tr><th></th><th scope=col>agency_cd</th><th scope=col>site_no</th><th scope=col>station_nm</th><th scope=col>site_tp_cd</th><th scope=col>dec_lat_va</th><th scope=col>dec_long_va</th><th scope=col>coord_acy_cd</th><th scope=col>dec_coord_datum_cd</th><th scope=col>alt_va</th><th scope=col>alt_acy_va</th><th scope=col>alt_datum_cd</th><th scope=col>huc_cd</th><th scope=col>data_type_cd</th><th scope=col>parm_cd</th><th scope=col>stat_cd</th><th scope=col>ts_id</th><th scope=col>loc_web_ds</th><th scope=col>medium_grp_cd</th><th scope=col>parm_grp_cd</th><th scope=col>srs_id</th><th scope=col>access_cd</th><th scope=col>begin_date</th><th scope=col>end_date</th><th scope=col>count_nu</th></tr>\n",
       "\t<tr><th></th><th scope=col>&lt;chr&gt;</th><th scope=col>&lt;chr&gt;</th><th scope=col>&lt;chr&gt;</th><th scope=col>&lt;chr&gt;</th><th scope=col>&lt;dbl&gt;</th><th scope=col>&lt;dbl&gt;</th><th scope=col>&lt;chr&gt;</th><th scope=col>&lt;chr&gt;</th><th scope=col>&lt;dbl&gt;</th><th scope=col>&lt;dbl&gt;</th><th scope=col>&lt;chr&gt;</th><th scope=col>&lt;chr&gt;</th><th scope=col>&lt;chr&gt;</th><th scope=col>&lt;chr&gt;</th><th scope=col>&lt;chr&gt;</th><th scope=col>&lt;chr&gt;</th><th scope=col>&lt;chr&gt;</th><th scope=col>&lt;chr&gt;</th><th scope=col>&lt;chr&gt;</th><th scope=col>&lt;chr&gt;</th><th scope=col>&lt;chr&gt;</th><th scope=col>&lt;date&gt;</th><th scope=col>&lt;date&gt;</th><th scope=col>&lt;dbl&gt;</th></tr>\n",
       "</thead>\n",
       "<tbody>\n",
       "\t<tr><th scope=row>4</th><td>USGS</td><td>03216070</td><td>OHIO RIVER AT IRONTON, OH</td><td>ST</td><td>38.53206</td><td>-82.68594</td><td>1</td><td>NAD83</td><td>480.41</td><td>0.07</td><td>NAVD88</td><td>05090103</td><td>dv</td><td>00010</td><td>00003</td><td>58407 </td><td>NA          </td><td>wat</td><td>NA</td><td>1645597 </td><td>0</td><td>2015-09-03</td><td>2024-09-12</td><td>3185</td></tr>\n",
       "\t<tr><th scope=row>5</th><td>USGS</td><td>03216070</td><td>OHIO RIVER AT IRONTON, OH</td><td>ST</td><td>38.53206</td><td>-82.68594</td><td>1</td><td>NAD83</td><td>480.41</td><td>0.07</td><td>NAVD88</td><td>05090103</td><td>dv</td><td>00060</td><td>00003</td><td>210106</td><td>[Daily Mean]</td><td>wat</td><td>NA</td><td>1645423 </td><td>0</td><td>2015-09-04</td><td>2024-09-12</td><td>3213</td></tr>\n",
       "\t<tr><th scope=row>6</th><td>USGS</td><td>03216070</td><td>OHIO RIVER AT IRONTON, OH</td><td>ST</td><td>38.53206</td><td>-82.68594</td><td>1</td><td>NAD83</td><td>480.41</td><td>0.07</td><td>NAVD88</td><td>05090103</td><td>dv</td><td>00065</td><td>00003</td><td>58406 </td><td>NA          </td><td>wat</td><td>NA</td><td>17164583</td><td>0</td><td>2015-09-03</td><td>2024-09-12</td><td>3253</td></tr>\n",
       "\t<tr><th scope=row>9</th><td>USGS</td><td>03216070</td><td>OHIO RIVER AT IRONTON, OH</td><td>ST</td><td>38.53206</td><td>-82.68594</td><td>1</td><td>NAD83</td><td>480.41</td><td>0.07</td><td>NAVD88</td><td>05090103</td><td>dv</td><td>00095</td><td>00003</td><td>58409 </td><td>NA          </td><td>wat</td><td>NA</td><td>1646694 </td><td>0</td><td>2015-09-03</td><td>2024-09-12</td><td>3105</td></tr>\n",
       "\t<tr><th scope=row>12</th><td>USGS</td><td>03216070</td><td>OHIO RIVER AT IRONTON, OH</td><td>ST</td><td>38.53206</td><td>-82.68594</td><td>1</td><td>NAD83</td><td>480.41</td><td>0.07</td><td>NAVD88</td><td>05090103</td><td>dv</td><td>00300</td><td>00003</td><td>58410 </td><td>NA          </td><td>wat</td><td>NA</td><td>1736457 </td><td>0</td><td>2015-09-03</td><td>2024-09-12</td><td>3181</td></tr>\n",
       "\t<tr><th scope=row>⋮</th><td>⋮</td><td>⋮</td><td>⋮</td><td>⋮</td><td>⋮</td><td>⋮</td><td>⋮</td><td>⋮</td><td>⋮</td><td>⋮</td><td>⋮</td><td>⋮</td><td>⋮</td><td>⋮</td><td>⋮</td><td>⋮</td><td>⋮</td><td>⋮</td><td>⋮</td><td>⋮</td><td>⋮</td><td>⋮</td><td>⋮</td><td>⋮</td></tr>\n",
       "\t<tr><th scope=row>20</th><td>USGS</td><td>03216070</td><td>OHIO RIVER AT IRONTON, OH</td><td>ST</td><td>38.53206</td><td>-82.68594</td><td>1</td><td>NAD83</td><td>480.41</td><td>0.07</td><td>NAVD88</td><td>05090103</td><td>dv</td><td>32316</td><td>00003</td><td>313921</td><td>NA</td><td>wat</td><td>NA</td><td>47076  </td><td>0</td><td>2020-07-21</td><td>2024-03-10</td><td> 900</td></tr>\n",
       "\t<tr><th scope=row>23</th><td>USGS</td><td>03216070</td><td>OHIO RIVER AT IRONTON, OH</td><td>ST</td><td>38.53206</td><td>-82.68594</td><td>1</td><td>NAD83</td><td>480.41</td><td>0.07</td><td>NAVD88</td><td>05090103</td><td>dv</td><td>32319</td><td>00003</td><td>313925</td><td>NA</td><td>wat</td><td>NA</td><td>0      </td><td>0</td><td>2020-07-21</td><td>2024-03-10</td><td> 905</td></tr>\n",
       "\t<tr><th scope=row>26</th><td>USGS</td><td>03216070</td><td>OHIO RIVER AT IRONTON, OH</td><td>ST</td><td>38.53206</td><td>-82.68594</td><td>1</td><td>NAD83</td><td>480.41</td><td>0.07</td><td>NAVD88</td><td>05090103</td><td>dv</td><td>32321</td><td>00003</td><td>313919</td><td>NA</td><td>wat</td><td>NA</td><td>0      </td><td>0</td><td>2020-07-21</td><td>2024-03-10</td><td> 905</td></tr>\n",
       "\t<tr><th scope=row>29</th><td>USGS</td><td>03216070</td><td>OHIO RIVER AT IRONTON, OH</td><td>ST</td><td>38.53206</td><td>-82.68594</td><td>1</td><td>NAD83</td><td>480.41</td><td>0.07</td><td>NAVD88</td><td>05090103</td><td>dv</td><td>63680</td><td>00003</td><td>214829</td><td>NA</td><td>wat</td><td>NA</td><td>1640507</td><td>0</td><td>2015-09-03</td><td>2024-09-12</td><td>3167</td></tr>\n",
       "\t<tr><th scope=row>32</th><td>USGS</td><td>03216070</td><td>OHIO RIVER AT IRONTON, OH</td><td>ST</td><td>38.53206</td><td>-82.68594</td><td>1</td><td>NAD83</td><td>480.41</td><td>0.07</td><td>NAVD88</td><td>05090103</td><td>dv</td><td>99133</td><td>00003</td><td>58412 </td><td>NA</td><td>wat</td><td>NA</td><td>701177 </td><td>0</td><td>2015-09-03</td><td>2024-09-12</td><td>3014</td></tr>\n",
       "</tbody>\n",
       "</table>\n"
      ],
      "text/latex": [
       "A data.frame: 11 × 24\n",
       "\\begin{tabular}{r|llllllllllllllllllllllll}\n",
       "  & agency\\_cd & site\\_no & station\\_nm & site\\_tp\\_cd & dec\\_lat\\_va & dec\\_long\\_va & coord\\_acy\\_cd & dec\\_coord\\_datum\\_cd & alt\\_va & alt\\_acy\\_va & alt\\_datum\\_cd & huc\\_cd & data\\_type\\_cd & parm\\_cd & stat\\_cd & ts\\_id & loc\\_web\\_ds & medium\\_grp\\_cd & parm\\_grp\\_cd & srs\\_id & access\\_cd & begin\\_date & end\\_date & count\\_nu\\\\\n",
       "  & <chr> & <chr> & <chr> & <chr> & <dbl> & <dbl> & <chr> & <chr> & <dbl> & <dbl> & <chr> & <chr> & <chr> & <chr> & <chr> & <chr> & <chr> & <chr> & <chr> & <chr> & <chr> & <date> & <date> & <dbl>\\\\\n",
       "\\hline\n",
       "\t4 & USGS & 03216070 & OHIO RIVER AT IRONTON, OH & ST & 38.53206 & -82.68594 & 1 & NAD83 & 480.41 & 0.07 & NAVD88 & 05090103 & dv & 00010 & 00003 & 58407  & NA           & wat & NA & 1645597  & 0 & 2015-09-03 & 2024-09-12 & 3185\\\\\n",
       "\t5 & USGS & 03216070 & OHIO RIVER AT IRONTON, OH & ST & 38.53206 & -82.68594 & 1 & NAD83 & 480.41 & 0.07 & NAVD88 & 05090103 & dv & 00060 & 00003 & 210106 & {[}Daily Mean{]} & wat & NA & 1645423  & 0 & 2015-09-04 & 2024-09-12 & 3213\\\\\n",
       "\t6 & USGS & 03216070 & OHIO RIVER AT IRONTON, OH & ST & 38.53206 & -82.68594 & 1 & NAD83 & 480.41 & 0.07 & NAVD88 & 05090103 & dv & 00065 & 00003 & 58406  & NA           & wat & NA & 17164583 & 0 & 2015-09-03 & 2024-09-12 & 3253\\\\\n",
       "\t9 & USGS & 03216070 & OHIO RIVER AT IRONTON, OH & ST & 38.53206 & -82.68594 & 1 & NAD83 & 480.41 & 0.07 & NAVD88 & 05090103 & dv & 00095 & 00003 & 58409  & NA           & wat & NA & 1646694  & 0 & 2015-09-03 & 2024-09-12 & 3105\\\\\n",
       "\t12 & USGS & 03216070 & OHIO RIVER AT IRONTON, OH & ST & 38.53206 & -82.68594 & 1 & NAD83 & 480.41 & 0.07 & NAVD88 & 05090103 & dv & 00300 & 00003 & 58410  & NA           & wat & NA & 1736457  & 0 & 2015-09-03 & 2024-09-12 & 3181\\\\\n",
       "\t⋮ & ⋮ & ⋮ & ⋮ & ⋮ & ⋮ & ⋮ & ⋮ & ⋮ & ⋮ & ⋮ & ⋮ & ⋮ & ⋮ & ⋮ & ⋮ & ⋮ & ⋮ & ⋮ & ⋮ & ⋮ & ⋮ & ⋮ & ⋮ & ⋮\\\\\n",
       "\t20 & USGS & 03216070 & OHIO RIVER AT IRONTON, OH & ST & 38.53206 & -82.68594 & 1 & NAD83 & 480.41 & 0.07 & NAVD88 & 05090103 & dv & 32316 & 00003 & 313921 & NA & wat & NA & 47076   & 0 & 2020-07-21 & 2024-03-10 &  900\\\\\n",
       "\t23 & USGS & 03216070 & OHIO RIVER AT IRONTON, OH & ST & 38.53206 & -82.68594 & 1 & NAD83 & 480.41 & 0.07 & NAVD88 & 05090103 & dv & 32319 & 00003 & 313925 & NA & wat & NA & 0       & 0 & 2020-07-21 & 2024-03-10 &  905\\\\\n",
       "\t26 & USGS & 03216070 & OHIO RIVER AT IRONTON, OH & ST & 38.53206 & -82.68594 & 1 & NAD83 & 480.41 & 0.07 & NAVD88 & 05090103 & dv & 32321 & 00003 & 313919 & NA & wat & NA & 0       & 0 & 2020-07-21 & 2024-03-10 &  905\\\\\n",
       "\t29 & USGS & 03216070 & OHIO RIVER AT IRONTON, OH & ST & 38.53206 & -82.68594 & 1 & NAD83 & 480.41 & 0.07 & NAVD88 & 05090103 & dv & 63680 & 00003 & 214829 & NA & wat & NA & 1640507 & 0 & 2015-09-03 & 2024-09-12 & 3167\\\\\n",
       "\t32 & USGS & 03216070 & OHIO RIVER AT IRONTON, OH & ST & 38.53206 & -82.68594 & 1 & NAD83 & 480.41 & 0.07 & NAVD88 & 05090103 & dv & 99133 & 00003 & 58412  & NA & wat & NA & 701177  & 0 & 2015-09-03 & 2024-09-12 & 3014\\\\\n",
       "\\end{tabular}\n"
      ],
      "text/markdown": [
       "\n",
       "A data.frame: 11 × 24\n",
       "\n",
       "| <!--/--> | agency_cd &lt;chr&gt; | site_no &lt;chr&gt; | station_nm &lt;chr&gt; | site_tp_cd &lt;chr&gt; | dec_lat_va &lt;dbl&gt; | dec_long_va &lt;dbl&gt; | coord_acy_cd &lt;chr&gt; | dec_coord_datum_cd &lt;chr&gt; | alt_va &lt;dbl&gt; | alt_acy_va &lt;dbl&gt; | alt_datum_cd &lt;chr&gt; | huc_cd &lt;chr&gt; | data_type_cd &lt;chr&gt; | parm_cd &lt;chr&gt; | stat_cd &lt;chr&gt; | ts_id &lt;chr&gt; | loc_web_ds &lt;chr&gt; | medium_grp_cd &lt;chr&gt; | parm_grp_cd &lt;chr&gt; | srs_id &lt;chr&gt; | access_cd &lt;chr&gt; | begin_date &lt;date&gt; | end_date &lt;date&gt; | count_nu &lt;dbl&gt; |\n",
       "|---|---|---|---|---|---|---|---|---|---|---|---|---|---|---|---|---|---|---|---|---|---|---|---|---|\n",
       "| 4 | USGS | 03216070 | OHIO RIVER AT IRONTON, OH | ST | 38.53206 | -82.68594 | 1 | NAD83 | 480.41 | 0.07 | NAVD88 | 05090103 | dv | 00010 | 00003 | 58407  | NA           | wat | NA | 1645597  | 0 | 2015-09-03 | 2024-09-12 | 3185 |\n",
       "| 5 | USGS | 03216070 | OHIO RIVER AT IRONTON, OH | ST | 38.53206 | -82.68594 | 1 | NAD83 | 480.41 | 0.07 | NAVD88 | 05090103 | dv | 00060 | 00003 | 210106 | [Daily Mean] | wat | NA | 1645423  | 0 | 2015-09-04 | 2024-09-12 | 3213 |\n",
       "| 6 | USGS | 03216070 | OHIO RIVER AT IRONTON, OH | ST | 38.53206 | -82.68594 | 1 | NAD83 | 480.41 | 0.07 | NAVD88 | 05090103 | dv | 00065 | 00003 | 58406  | NA           | wat | NA | 17164583 | 0 | 2015-09-03 | 2024-09-12 | 3253 |\n",
       "| 9 | USGS | 03216070 | OHIO RIVER AT IRONTON, OH | ST | 38.53206 | -82.68594 | 1 | NAD83 | 480.41 | 0.07 | NAVD88 | 05090103 | dv | 00095 | 00003 | 58409  | NA           | wat | NA | 1646694  | 0 | 2015-09-03 | 2024-09-12 | 3105 |\n",
       "| 12 | USGS | 03216070 | OHIO RIVER AT IRONTON, OH | ST | 38.53206 | -82.68594 | 1 | NAD83 | 480.41 | 0.07 | NAVD88 | 05090103 | dv | 00300 | 00003 | 58410  | NA           | wat | NA | 1736457  | 0 | 2015-09-03 | 2024-09-12 | 3181 |\n",
       "| ⋮ | ⋮ | ⋮ | ⋮ | ⋮ | ⋮ | ⋮ | ⋮ | ⋮ | ⋮ | ⋮ | ⋮ | ⋮ | ⋮ | ⋮ | ⋮ | ⋮ | ⋮ | ⋮ | ⋮ | ⋮ | ⋮ | ⋮ | ⋮ | ⋮ |\n",
       "| 20 | USGS | 03216070 | OHIO RIVER AT IRONTON, OH | ST | 38.53206 | -82.68594 | 1 | NAD83 | 480.41 | 0.07 | NAVD88 | 05090103 | dv | 32316 | 00003 | 313921 | NA | wat | NA | 47076   | 0 | 2020-07-21 | 2024-03-10 |  900 |\n",
       "| 23 | USGS | 03216070 | OHIO RIVER AT IRONTON, OH | ST | 38.53206 | -82.68594 | 1 | NAD83 | 480.41 | 0.07 | NAVD88 | 05090103 | dv | 32319 | 00003 | 313925 | NA | wat | NA | 0       | 0 | 2020-07-21 | 2024-03-10 |  905 |\n",
       "| 26 | USGS | 03216070 | OHIO RIVER AT IRONTON, OH | ST | 38.53206 | -82.68594 | 1 | NAD83 | 480.41 | 0.07 | NAVD88 | 05090103 | dv | 32321 | 00003 | 313919 | NA | wat | NA | 0       | 0 | 2020-07-21 | 2024-03-10 |  905 |\n",
       "| 29 | USGS | 03216070 | OHIO RIVER AT IRONTON, OH | ST | 38.53206 | -82.68594 | 1 | NAD83 | 480.41 | 0.07 | NAVD88 | 05090103 | dv | 63680 | 00003 | 214829 | NA | wat | NA | 1640507 | 0 | 2015-09-03 | 2024-09-12 | 3167 |\n",
       "| 32 | USGS | 03216070 | OHIO RIVER AT IRONTON, OH | ST | 38.53206 | -82.68594 | 1 | NAD83 | 480.41 | 0.07 | NAVD88 | 05090103 | dv | 99133 | 00003 | 58412  | NA | wat | NA | 701177  | 0 | 2015-09-03 | 2024-09-12 | 3014 |\n",
       "\n"
      ],
      "text/plain": [
       "   agency_cd site_no  station_nm                site_tp_cd dec_lat_va\n",
       "4  USGS      03216070 OHIO RIVER AT IRONTON, OH ST         38.53206  \n",
       "5  USGS      03216070 OHIO RIVER AT IRONTON, OH ST         38.53206  \n",
       "6  USGS      03216070 OHIO RIVER AT IRONTON, OH ST         38.53206  \n",
       "9  USGS      03216070 OHIO RIVER AT IRONTON, OH ST         38.53206  \n",
       "12 USGS      03216070 OHIO RIVER AT IRONTON, OH ST         38.53206  \n",
       "⋮  ⋮         ⋮        ⋮                         ⋮          ⋮         \n",
       "20 USGS      03216070 OHIO RIVER AT IRONTON, OH ST         38.53206  \n",
       "23 USGS      03216070 OHIO RIVER AT IRONTON, OH ST         38.53206  \n",
       "26 USGS      03216070 OHIO RIVER AT IRONTON, OH ST         38.53206  \n",
       "29 USGS      03216070 OHIO RIVER AT IRONTON, OH ST         38.53206  \n",
       "32 USGS      03216070 OHIO RIVER AT IRONTON, OH ST         38.53206  \n",
       "   dec_long_va coord_acy_cd dec_coord_datum_cd alt_va alt_acy_va alt_datum_cd\n",
       "4  -82.68594   1            NAD83              480.41 0.07       NAVD88      \n",
       "5  -82.68594   1            NAD83              480.41 0.07       NAVD88      \n",
       "6  -82.68594   1            NAD83              480.41 0.07       NAVD88      \n",
       "9  -82.68594   1            NAD83              480.41 0.07       NAVD88      \n",
       "12 -82.68594   1            NAD83              480.41 0.07       NAVD88      \n",
       "⋮  ⋮           ⋮            ⋮                  ⋮      ⋮          ⋮           \n",
       "20 -82.68594   1            NAD83              480.41 0.07       NAVD88      \n",
       "23 -82.68594   1            NAD83              480.41 0.07       NAVD88      \n",
       "26 -82.68594   1            NAD83              480.41 0.07       NAVD88      \n",
       "29 -82.68594   1            NAD83              480.41 0.07       NAVD88      \n",
       "32 -82.68594   1            NAD83              480.41 0.07       NAVD88      \n",
       "   huc_cd   data_type_cd parm_cd stat_cd ts_id  loc_web_ds   medium_grp_cd\n",
       "4  05090103 dv           00010   00003   58407  NA           wat          \n",
       "5  05090103 dv           00060   00003   210106 [Daily Mean] wat          \n",
       "6  05090103 dv           00065   00003   58406  NA           wat          \n",
       "9  05090103 dv           00095   00003   58409  NA           wat          \n",
       "12 05090103 dv           00300   00003   58410  NA           wat          \n",
       "⋮  ⋮        ⋮            ⋮       ⋮       ⋮      ⋮            ⋮            \n",
       "20 05090103 dv           32316   00003   313921 NA           wat          \n",
       "23 05090103 dv           32319   00003   313925 NA           wat          \n",
       "26 05090103 dv           32321   00003   313919 NA           wat          \n",
       "29 05090103 dv           63680   00003   214829 NA           wat          \n",
       "32 05090103 dv           99133   00003   58412  NA           wat          \n",
       "   parm_grp_cd srs_id   access_cd begin_date end_date   count_nu\n",
       "4  NA          1645597  0         2015-09-03 2024-09-12 3185    \n",
       "5  NA          1645423  0         2015-09-04 2024-09-12 3213    \n",
       "6  NA          17164583 0         2015-09-03 2024-09-12 3253    \n",
       "9  NA          1646694  0         2015-09-03 2024-09-12 3105    \n",
       "12 NA          1736457  0         2015-09-03 2024-09-12 3181    \n",
       "⋮  ⋮           ⋮        ⋮         ⋮          ⋮          ⋮       \n",
       "20 NA          47076    0         2020-07-21 2024-03-10  900    \n",
       "23 NA          0        0         2020-07-21 2024-03-10  905    \n",
       "26 NA          0        0         2020-07-21 2024-03-10  905    \n",
       "29 NA          1640507  0         2015-09-03 2024-09-12 3167    \n",
       "32 NA          701177   0         2015-09-03 2024-09-12 3014    "
      ]
     },
     "metadata": {},
     "output_type": "display_data"
    }
   ],
   "source": [
    "dataForOH <- whatNWISdata(\n",
    "    siteNumber = \"03216070\", ## we start our filter with the site identifier for this location on the Ohio River\n",
    "    service = \"dv\", ## we want to extract daily values as opposed to instantaneous values\n",
    "    statCd = \"00003\" ## we want to extract mean values as opposed to median or maximum values\n",
    ")\n",
    "names(dataForOH) ## we want to see a list of the columns in this table\n",
    "dataForOH ## print the new dataset"
   ]
  },
  {
   "cell_type": "markdown",
   "id": "36a7b3bc-99b6-45b8-a21d-6c041a5c4157",
   "metadata": {},
   "source": [
    "Now we can view what types of data are available at this site under the filters we listed (daily values and mean values). However, instead of scrolling through each row to find different parameter types, let's utilize the _head_ code to dig into the column we would like information on. Run the code below to see a list of contents within the \"parm_cd\" column (which, if you were intuitive enough, stands for parameter code)."
   ]
  },
  {
   "cell_type": "code",
   "execution_count": 9,
   "id": "790f3906-beba-4037-827d-c9fcf0ff0227",
   "metadata": {},
   "outputs": [
    {
     "data": {
      "text/html": [
       "<style>\n",
       ".list-inline {list-style: none; margin:0; padding: 0}\n",
       ".list-inline>li {display: inline-block}\n",
       ".list-inline>li:not(:last-child)::after {content: \"\\00b7\"; padding: 0 .5ex}\n",
       "</style>\n",
       "<ol class=list-inline><li>'00010'</li><li>'00060'</li><li>'00065'</li><li>'00095'</li><li>'00300'</li><li>'32315'</li></ol>\n"
      ],
      "text/latex": [
       "\\begin{enumerate*}\n",
       "\\item '00010'\n",
       "\\item '00060'\n",
       "\\item '00065'\n",
       "\\item '00095'\n",
       "\\item '00300'\n",
       "\\item '32315'\n",
       "\\end{enumerate*}\n"
      ],
      "text/markdown": [
       "1. '00010'\n",
       "2. '00060'\n",
       "3. '00065'\n",
       "4. '00095'\n",
       "5. '00300'\n",
       "6. '32315'\n",
       "\n",
       "\n"
      ],
      "text/plain": [
       "[1] \"00010\" \"00060\" \"00065\" \"00095\" \"00300\" \"32315\""
      ]
     },
     "metadata": {},
     "output_type": "display_data"
    }
   ],
   "source": [
    "head(dataForOH$parm_cd)"
   ]
  },
  {
   "cell_type": "markdown",
   "id": "6dc8e784-5b83-41e9-b491-edecad23517d",
   "metadata": {},
   "source": [
    "You can use the links above to identify each of those parameter codes if you are interested, but we will use '00060' (discharge) for this module to practice our skills. Before we start that process, let's run the same code above to find a list of parameter codes for the Kankakee River site. Run the cells below:"
   ]
  },
  {
   "cell_type": "code",
   "execution_count": 11,
   "id": "71e1476a-fe83-4ebf-98fd-af7c34062430",
   "metadata": {
    "scrolled": true
   },
   "outputs": [
    {
     "data": {
      "text/html": [
       "<table class=\"dataframe\">\n",
       "<caption>A data.frame: 7 × 24</caption>\n",
       "<thead>\n",
       "\t<tr><th></th><th scope=col>agency_cd</th><th scope=col>site_no</th><th scope=col>station_nm</th><th scope=col>site_tp_cd</th><th scope=col>dec_lat_va</th><th scope=col>dec_long_va</th><th scope=col>coord_acy_cd</th><th scope=col>dec_coord_datum_cd</th><th scope=col>alt_va</th><th scope=col>alt_acy_va</th><th scope=col>alt_datum_cd</th><th scope=col>huc_cd</th><th scope=col>data_type_cd</th><th scope=col>parm_cd</th><th scope=col>stat_cd</th><th scope=col>ts_id</th><th scope=col>loc_web_ds</th><th scope=col>medium_grp_cd</th><th scope=col>parm_grp_cd</th><th scope=col>srs_id</th><th scope=col>access_cd</th><th scope=col>begin_date</th><th scope=col>end_date</th><th scope=col>count_nu</th></tr>\n",
       "\t<tr><th></th><th scope=col>&lt;chr&gt;</th><th scope=col>&lt;chr&gt;</th><th scope=col>&lt;chr&gt;</th><th scope=col>&lt;chr&gt;</th><th scope=col>&lt;dbl&gt;</th><th scope=col>&lt;dbl&gt;</th><th scope=col>&lt;chr&gt;</th><th scope=col>&lt;chr&gt;</th><th scope=col>&lt;dbl&gt;</th><th scope=col>&lt;dbl&gt;</th><th scope=col>&lt;chr&gt;</th><th scope=col>&lt;chr&gt;</th><th scope=col>&lt;chr&gt;</th><th scope=col>&lt;chr&gt;</th><th scope=col>&lt;chr&gt;</th><th scope=col>&lt;chr&gt;</th><th scope=col>&lt;chr&gt;</th><th scope=col>&lt;chr&gt;</th><th scope=col>&lt;chr&gt;</th><th scope=col>&lt;chr&gt;</th><th scope=col>&lt;chr&gt;</th><th scope=col>&lt;date&gt;</th><th scope=col>&lt;date&gt;</th><th scope=col>&lt;dbl&gt;</th></tr>\n",
       "</thead>\n",
       "<tbody>\n",
       "\t<tr><th scope=row>4</th><td>USGS</td><td>05515500</td><td>KANKAKEE RIVER AT DAVIS, IN</td><td>ST</td><td>41.38964</td><td>-86.70617</td><td>1</td><td>NAD83</td><td>664.34</td><td>0.06</td><td>NAVD88</td><td>07120001</td><td>dv</td><td>00010</td><td>00003</td><td>312580</td><td>NA </td><td>wat</td><td>NA</td><td>1645597</td><td>0</td><td>2013-12-05</td><td>2024-09-12</td><td> 3848</td></tr>\n",
       "\t<tr><th scope=row>5</th><td>USGS</td><td>05515500</td><td>KANKAKEE RIVER AT DAVIS, IN</td><td>ST</td><td>41.38964</td><td>-86.70617</td><td>1</td><td>NAD83</td><td>664.34</td><td>0.06</td><td>NAVD88</td><td>07120001</td><td>dv</td><td>00060</td><td>00003</td><td>52150 </td><td>NA </td><td>wat</td><td>NA</td><td>1645423</td><td>0</td><td>1925-10-01</td><td>2024-09-12</td><td>35226</td></tr>\n",
       "\t<tr><th scope=row>8</th><td>USGS</td><td>05515500</td><td>KANKAKEE RIVER AT DAVIS, IN</td><td>ST</td><td>41.38964</td><td>-86.70617</td><td>1</td><td>NAD83</td><td>664.34</td><td>0.06</td><td>NAVD88</td><td>07120001</td><td>dv</td><td>00095</td><td>00003</td><td>312608</td><td>NA </td><td>wat</td><td>NA</td><td>1646694</td><td>0</td><td>2013-12-05</td><td>2024-09-12</td><td> 3758</td></tr>\n",
       "\t<tr><th scope=row>11</th><td>USGS</td><td>05515500</td><td>KANKAKEE RIVER AT DAVIS, IN</td><td>ST</td><td>41.38964</td><td>-86.70617</td><td>1</td><td>NAD83</td><td>664.34</td><td>0.06</td><td>NAVD88</td><td>07120001</td><td>dv</td><td>00300</td><td>00003</td><td>312568</td><td>NA </td><td>wat</td><td>NA</td><td>1736457</td><td>0</td><td>2013-12-05</td><td>2024-09-12</td><td> 3820</td></tr>\n",
       "\t<tr><th scope=row>19</th><td>USGS</td><td>05515500</td><td>KANKAKEE RIVER AT DAVIS, IN</td><td>ST</td><td>41.38964</td><td>-86.70617</td><td>1</td><td>NAD83</td><td>664.34</td><td>0.06</td><td>NAVD88</td><td>07120001</td><td>dv</td><td>63680</td><td>00003</td><td>215214</td><td>NA </td><td>wat</td><td>NA</td><td>1640507</td><td>0</td><td>2013-12-05</td><td>2020-08-23</td><td> 2314</td></tr>\n",
       "\t<tr><th scope=row>20</th><td>USGS</td><td>05515500</td><td>KANKAKEE RIVER AT DAVIS, IN</td><td>ST</td><td>41.38964</td><td>-86.70617</td><td>1</td><td>NAD83</td><td>664.34</td><td>0.06</td><td>NAVD88</td><td>07120001</td><td>dv</td><td>63680</td><td>00003</td><td>245469</td><td>EXO</td><td>wat</td><td>NA</td><td>1640507</td><td>0</td><td>2018-12-15</td><td>2024-09-12</td><td> 2007</td></tr>\n",
       "\t<tr><th scope=row>23</th><td>USGS</td><td>05515500</td><td>KANKAKEE RIVER AT DAVIS, IN</td><td>ST</td><td>41.38964</td><td>-86.70617</td><td>1</td><td>NAD83</td><td>664.34</td><td>0.06</td><td>NAVD88</td><td>07120001</td><td>dv</td><td>99133</td><td>00003</td><td>52169 </td><td>NA </td><td>wat</td><td>NA</td><td>701177 </td><td>0</td><td>2013-12-05</td><td>2024-09-12</td><td> 3718</td></tr>\n",
       "</tbody>\n",
       "</table>\n"
      ],
      "text/latex": [
       "A data.frame: 7 × 24\n",
       "\\begin{tabular}{r|llllllllllllllllllllllll}\n",
       "  & agency\\_cd & site\\_no & station\\_nm & site\\_tp\\_cd & dec\\_lat\\_va & dec\\_long\\_va & coord\\_acy\\_cd & dec\\_coord\\_datum\\_cd & alt\\_va & alt\\_acy\\_va & alt\\_datum\\_cd & huc\\_cd & data\\_type\\_cd & parm\\_cd & stat\\_cd & ts\\_id & loc\\_web\\_ds & medium\\_grp\\_cd & parm\\_grp\\_cd & srs\\_id & access\\_cd & begin\\_date & end\\_date & count\\_nu\\\\\n",
       "  & <chr> & <chr> & <chr> & <chr> & <dbl> & <dbl> & <chr> & <chr> & <dbl> & <dbl> & <chr> & <chr> & <chr> & <chr> & <chr> & <chr> & <chr> & <chr> & <chr> & <chr> & <chr> & <date> & <date> & <dbl>\\\\\n",
       "\\hline\n",
       "\t4 & USGS & 05515500 & KANKAKEE RIVER AT DAVIS, IN & ST & 41.38964 & -86.70617 & 1 & NAD83 & 664.34 & 0.06 & NAVD88 & 07120001 & dv & 00010 & 00003 & 312580 & NA  & wat & NA & 1645597 & 0 & 2013-12-05 & 2024-09-12 &  3848\\\\\n",
       "\t5 & USGS & 05515500 & KANKAKEE RIVER AT DAVIS, IN & ST & 41.38964 & -86.70617 & 1 & NAD83 & 664.34 & 0.06 & NAVD88 & 07120001 & dv & 00060 & 00003 & 52150  & NA  & wat & NA & 1645423 & 0 & 1925-10-01 & 2024-09-12 & 35226\\\\\n",
       "\t8 & USGS & 05515500 & KANKAKEE RIVER AT DAVIS, IN & ST & 41.38964 & -86.70617 & 1 & NAD83 & 664.34 & 0.06 & NAVD88 & 07120001 & dv & 00095 & 00003 & 312608 & NA  & wat & NA & 1646694 & 0 & 2013-12-05 & 2024-09-12 &  3758\\\\\n",
       "\t11 & USGS & 05515500 & KANKAKEE RIVER AT DAVIS, IN & ST & 41.38964 & -86.70617 & 1 & NAD83 & 664.34 & 0.06 & NAVD88 & 07120001 & dv & 00300 & 00003 & 312568 & NA  & wat & NA & 1736457 & 0 & 2013-12-05 & 2024-09-12 &  3820\\\\\n",
       "\t19 & USGS & 05515500 & KANKAKEE RIVER AT DAVIS, IN & ST & 41.38964 & -86.70617 & 1 & NAD83 & 664.34 & 0.06 & NAVD88 & 07120001 & dv & 63680 & 00003 & 215214 & NA  & wat & NA & 1640507 & 0 & 2013-12-05 & 2020-08-23 &  2314\\\\\n",
       "\t20 & USGS & 05515500 & KANKAKEE RIVER AT DAVIS, IN & ST & 41.38964 & -86.70617 & 1 & NAD83 & 664.34 & 0.06 & NAVD88 & 07120001 & dv & 63680 & 00003 & 245469 & EXO & wat & NA & 1640507 & 0 & 2018-12-15 & 2024-09-12 &  2007\\\\\n",
       "\t23 & USGS & 05515500 & KANKAKEE RIVER AT DAVIS, IN & ST & 41.38964 & -86.70617 & 1 & NAD83 & 664.34 & 0.06 & NAVD88 & 07120001 & dv & 99133 & 00003 & 52169  & NA  & wat & NA & 701177  & 0 & 2013-12-05 & 2024-09-12 &  3718\\\\\n",
       "\\end{tabular}\n"
      ],
      "text/markdown": [
       "\n",
       "A data.frame: 7 × 24\n",
       "\n",
       "| <!--/--> | agency_cd &lt;chr&gt; | site_no &lt;chr&gt; | station_nm &lt;chr&gt; | site_tp_cd &lt;chr&gt; | dec_lat_va &lt;dbl&gt; | dec_long_va &lt;dbl&gt; | coord_acy_cd &lt;chr&gt; | dec_coord_datum_cd &lt;chr&gt; | alt_va &lt;dbl&gt; | alt_acy_va &lt;dbl&gt; | alt_datum_cd &lt;chr&gt; | huc_cd &lt;chr&gt; | data_type_cd &lt;chr&gt; | parm_cd &lt;chr&gt; | stat_cd &lt;chr&gt; | ts_id &lt;chr&gt; | loc_web_ds &lt;chr&gt; | medium_grp_cd &lt;chr&gt; | parm_grp_cd &lt;chr&gt; | srs_id &lt;chr&gt; | access_cd &lt;chr&gt; | begin_date &lt;date&gt; | end_date &lt;date&gt; | count_nu &lt;dbl&gt; |\n",
       "|---|---|---|---|---|---|---|---|---|---|---|---|---|---|---|---|---|---|---|---|---|---|---|---|---|\n",
       "| 4 | USGS | 05515500 | KANKAKEE RIVER AT DAVIS, IN | ST | 41.38964 | -86.70617 | 1 | NAD83 | 664.34 | 0.06 | NAVD88 | 07120001 | dv | 00010 | 00003 | 312580 | NA  | wat | NA | 1645597 | 0 | 2013-12-05 | 2024-09-12 |  3848 |\n",
       "| 5 | USGS | 05515500 | KANKAKEE RIVER AT DAVIS, IN | ST | 41.38964 | -86.70617 | 1 | NAD83 | 664.34 | 0.06 | NAVD88 | 07120001 | dv | 00060 | 00003 | 52150  | NA  | wat | NA | 1645423 | 0 | 1925-10-01 | 2024-09-12 | 35226 |\n",
       "| 8 | USGS | 05515500 | KANKAKEE RIVER AT DAVIS, IN | ST | 41.38964 | -86.70617 | 1 | NAD83 | 664.34 | 0.06 | NAVD88 | 07120001 | dv | 00095 | 00003 | 312608 | NA  | wat | NA | 1646694 | 0 | 2013-12-05 | 2024-09-12 |  3758 |\n",
       "| 11 | USGS | 05515500 | KANKAKEE RIVER AT DAVIS, IN | ST | 41.38964 | -86.70617 | 1 | NAD83 | 664.34 | 0.06 | NAVD88 | 07120001 | dv | 00300 | 00003 | 312568 | NA  | wat | NA | 1736457 | 0 | 2013-12-05 | 2024-09-12 |  3820 |\n",
       "| 19 | USGS | 05515500 | KANKAKEE RIVER AT DAVIS, IN | ST | 41.38964 | -86.70617 | 1 | NAD83 | 664.34 | 0.06 | NAVD88 | 07120001 | dv | 63680 | 00003 | 215214 | NA  | wat | NA | 1640507 | 0 | 2013-12-05 | 2020-08-23 |  2314 |\n",
       "| 20 | USGS | 05515500 | KANKAKEE RIVER AT DAVIS, IN | ST | 41.38964 | -86.70617 | 1 | NAD83 | 664.34 | 0.06 | NAVD88 | 07120001 | dv | 63680 | 00003 | 245469 | EXO | wat | NA | 1640507 | 0 | 2018-12-15 | 2024-09-12 |  2007 |\n",
       "| 23 | USGS | 05515500 | KANKAKEE RIVER AT DAVIS, IN | ST | 41.38964 | -86.70617 | 1 | NAD83 | 664.34 | 0.06 | NAVD88 | 07120001 | dv | 99133 | 00003 | 52169  | NA  | wat | NA | 701177  | 0 | 2013-12-05 | 2024-09-12 |  3718 |\n",
       "\n"
      ],
      "text/plain": [
       "   agency_cd site_no  station_nm                  site_tp_cd dec_lat_va\n",
       "4  USGS      05515500 KANKAKEE RIVER AT DAVIS, IN ST         41.38964  \n",
       "5  USGS      05515500 KANKAKEE RIVER AT DAVIS, IN ST         41.38964  \n",
       "8  USGS      05515500 KANKAKEE RIVER AT DAVIS, IN ST         41.38964  \n",
       "11 USGS      05515500 KANKAKEE RIVER AT DAVIS, IN ST         41.38964  \n",
       "19 USGS      05515500 KANKAKEE RIVER AT DAVIS, IN ST         41.38964  \n",
       "20 USGS      05515500 KANKAKEE RIVER AT DAVIS, IN ST         41.38964  \n",
       "23 USGS      05515500 KANKAKEE RIVER AT DAVIS, IN ST         41.38964  \n",
       "   dec_long_va coord_acy_cd dec_coord_datum_cd alt_va alt_acy_va alt_datum_cd\n",
       "4  -86.70617   1            NAD83              664.34 0.06       NAVD88      \n",
       "5  -86.70617   1            NAD83              664.34 0.06       NAVD88      \n",
       "8  -86.70617   1            NAD83              664.34 0.06       NAVD88      \n",
       "11 -86.70617   1            NAD83              664.34 0.06       NAVD88      \n",
       "19 -86.70617   1            NAD83              664.34 0.06       NAVD88      \n",
       "20 -86.70617   1            NAD83              664.34 0.06       NAVD88      \n",
       "23 -86.70617   1            NAD83              664.34 0.06       NAVD88      \n",
       "   huc_cd   data_type_cd parm_cd stat_cd ts_id  loc_web_ds medium_grp_cd\n",
       "4  07120001 dv           00010   00003   312580 NA         wat          \n",
       "5  07120001 dv           00060   00003   52150  NA         wat          \n",
       "8  07120001 dv           00095   00003   312608 NA         wat          \n",
       "11 07120001 dv           00300   00003   312568 NA         wat          \n",
       "19 07120001 dv           63680   00003   215214 NA         wat          \n",
       "20 07120001 dv           63680   00003   245469 EXO        wat          \n",
       "23 07120001 dv           99133   00003   52169  NA         wat          \n",
       "   parm_grp_cd srs_id  access_cd begin_date end_date   count_nu\n",
       "4  NA          1645597 0         2013-12-05 2024-09-12  3848   \n",
       "5  NA          1645423 0         1925-10-01 2024-09-12 35226   \n",
       "8  NA          1646694 0         2013-12-05 2024-09-12  3758   \n",
       "11 NA          1736457 0         2013-12-05 2024-09-12  3820   \n",
       "19 NA          1640507 0         2013-12-05 2020-08-23  2314   \n",
       "20 NA          1640507 0         2018-12-15 2024-09-12  2007   \n",
       "23 NA          701177  0         2013-12-05 2024-09-12  3718   "
      ]
     },
     "metadata": {},
     "output_type": "display_data"
    }
   ],
   "source": [
    "dataForKN <- whatNWISdata(\n",
    "    siteNumber = \"05515500\", \n",
    "    service = \"dv\", \n",
    "    statCd = \"00003\"\n",
    "\n",
    ")\n",
    " \n",
    "dataForKN "
   ]
  },
  {
   "cell_type": "code",
   "execution_count": 13,
   "id": "ad5eeee7-47fe-47e3-a993-712f832c9c07",
   "metadata": {},
   "outputs": [
    {
     "data": {
      "text/html": [
       "<style>\n",
       ".list-inline {list-style: none; margin:0; padding: 0}\n",
       ".list-inline>li {display: inline-block}\n",
       ".list-inline>li:not(:last-child)::after {content: \"\\00b7\"; padding: 0 .5ex}\n",
       "</style>\n",
       "<ol class=list-inline><li>'00010'</li><li>'00060'</li><li>'00095'</li><li>'00300'</li><li>'63680'</li><li>'63680'</li></ol>\n"
      ],
      "text/latex": [
       "\\begin{enumerate*}\n",
       "\\item '00010'\n",
       "\\item '00060'\n",
       "\\item '00095'\n",
       "\\item '00300'\n",
       "\\item '63680'\n",
       "\\item '63680'\n",
       "\\end{enumerate*}\n"
      ],
      "text/markdown": [
       "1. '00010'\n",
       "2. '00060'\n",
       "3. '00095'\n",
       "4. '00300'\n",
       "5. '63680'\n",
       "6. '63680'\n",
       "\n",
       "\n"
      ],
      "text/plain": [
       "[1] \"00010\" \"00060\" \"00095\" \"00300\" \"63680\" \"63680\""
      ]
     },
     "metadata": {},
     "output_type": "display_data"
    }
   ],
   "source": [
    "head(dataForKN$parm_cd)"
   ]
  },
  {
   "cell_type": "markdown",
   "id": "59e725d6-62b9-4403-aee2-1cbe83f8825a",
   "metadata": {},
   "source": [
    "So we now know that our two sites both have the discharge parameter code that we need to make some graphical displays. Where do we go from there?"
   ]
  },
  {
   "cell_type": "markdown",
   "id": "485e3c6a-fc4d-484d-abbb-ad7f29577bb1",
   "metadata": {},
   "source": [
    "## Prepping the data and Plotting"
   ]
  },
  {
   "cell_type": "markdown",
   "id": "855ecc09-e41c-48b2-aec3-6dbb654c520d",
   "metadata": {},
   "source": [
    "To start preparing our data for the ggplot phase, we need to create a vector containing the filters and variables we desire to be shown in our plots. Study the code below and read the notes to understand what we are doing."
   ]
  },
  {
   "cell_type": "code",
   "execution_count": 15,
   "id": "0eebbd66-57e4-419c-8d3f-faee697b4b9f",
   "metadata": {},
   "outputs": [
    {
     "data": {
      "text/html": [
       "<table class=\"dataframe\">\n",
       "<caption>A data.frame: 3212 × 6</caption>\n",
       "<thead>\n",
       "\t<tr><th></th><th scope=col>agency_cd</th><th scope=col>site_no</th><th scope=col>dateTime</th><th scope=col>X_00060_00003</th><th scope=col>X_00060_00003_cd</th><th scope=col>tz_cd</th></tr>\n",
       "\t<tr><th></th><th scope=col>&lt;chr&gt;</th><th scope=col>&lt;chr&gt;</th><th scope=col>&lt;dttm&gt;</th><th scope=col>&lt;dbl&gt;</th><th scope=col>&lt;chr&gt;</th><th scope=col>&lt;chr&gt;</th></tr>\n",
       "</thead>\n",
       "<tbody>\n",
       "\t<tr><th scope=row>1</th><td>USGS</td><td>03216070</td><td>2015-09-03 20:00:00</td><td>17200</td><td>A</td><td>EST</td></tr>\n",
       "\t<tr><th scope=row>2</th><td>USGS</td><td>03216070</td><td>2015-09-04 20:00:00</td><td>15200</td><td>A</td><td>EST</td></tr>\n",
       "\t<tr><th scope=row>3</th><td>USGS</td><td>03216070</td><td>2015-09-05 20:00:00</td><td>15000</td><td>A</td><td>EST</td></tr>\n",
       "\t<tr><th scope=row>4</th><td>USGS</td><td>03216070</td><td>2015-09-06 20:00:00</td><td>16200</td><td>A</td><td>EST</td></tr>\n",
       "\t<tr><th scope=row>5</th><td>USGS</td><td>03216070</td><td>2015-09-07 20:00:00</td><td>18100</td><td>A</td><td>EST</td></tr>\n",
       "\t<tr><th scope=row>⋮</th><td>⋮</td><td>⋮</td><td>⋮</td><td>⋮</td><td>⋮</td><td>⋮</td></tr>\n",
       "\t<tr><th scope=row>3208</th><td>USGS</td><td>03216070</td><td>2024-09-06 20:00:00</td><td>9570</td><td>P</td><td>EST</td></tr>\n",
       "\t<tr><th scope=row>3209</th><td>USGS</td><td>03216070</td><td>2024-09-07 20:00:00</td><td>8360</td><td>P</td><td>EST</td></tr>\n",
       "\t<tr><th scope=row>3210</th><td>USGS</td><td>03216070</td><td>2024-09-08 20:00:00</td><td>8850</td><td>P</td><td>EST</td></tr>\n",
       "\t<tr><th scope=row>3211</th><td>USGS</td><td>03216070</td><td>2024-09-09 20:00:00</td><td>9980</td><td>P</td><td>EST</td></tr>\n",
       "\t<tr><th scope=row>3212</th><td>USGS</td><td>03216070</td><td>2024-09-10 20:00:00</td><td>1800</td><td>P</td><td>EST</td></tr>\n",
       "</tbody>\n",
       "</table>\n"
      ],
      "text/latex": [
       "A data.frame: 3212 × 6\n",
       "\\begin{tabular}{r|llllll}\n",
       "  & agency\\_cd & site\\_no & dateTime & X\\_00060\\_00003 & X\\_00060\\_00003\\_cd & tz\\_cd\\\\\n",
       "  & <chr> & <chr> & <dttm> & <dbl> & <chr> & <chr>\\\\\n",
       "\\hline\n",
       "\t1 & USGS & 03216070 & 2015-09-03 20:00:00 & 17200 & A & EST\\\\\n",
       "\t2 & USGS & 03216070 & 2015-09-04 20:00:00 & 15200 & A & EST\\\\\n",
       "\t3 & USGS & 03216070 & 2015-09-05 20:00:00 & 15000 & A & EST\\\\\n",
       "\t4 & USGS & 03216070 & 2015-09-06 20:00:00 & 16200 & A & EST\\\\\n",
       "\t5 & USGS & 03216070 & 2015-09-07 20:00:00 & 18100 & A & EST\\\\\n",
       "\t⋮ & ⋮ & ⋮ & ⋮ & ⋮ & ⋮ & ⋮\\\\\n",
       "\t3208 & USGS & 03216070 & 2024-09-06 20:00:00 & 9570 & P & EST\\\\\n",
       "\t3209 & USGS & 03216070 & 2024-09-07 20:00:00 & 8360 & P & EST\\\\\n",
       "\t3210 & USGS & 03216070 & 2024-09-08 20:00:00 & 8850 & P & EST\\\\\n",
       "\t3211 & USGS & 03216070 & 2024-09-09 20:00:00 & 9980 & P & EST\\\\\n",
       "\t3212 & USGS & 03216070 & 2024-09-10 20:00:00 & 1800 & P & EST\\\\\n",
       "\\end{tabular}\n"
      ],
      "text/markdown": [
       "\n",
       "A data.frame: 3212 × 6\n",
       "\n",
       "| <!--/--> | agency_cd &lt;chr&gt; | site_no &lt;chr&gt; | dateTime &lt;dttm&gt; | X_00060_00003 &lt;dbl&gt; | X_00060_00003_cd &lt;chr&gt; | tz_cd &lt;chr&gt; |\n",
       "|---|---|---|---|---|---|---|\n",
       "| 1 | USGS | 03216070 | 2015-09-03 20:00:00 | 17200 | A | EST |\n",
       "| 2 | USGS | 03216070 | 2015-09-04 20:00:00 | 15200 | A | EST |\n",
       "| 3 | USGS | 03216070 | 2015-09-05 20:00:00 | 15000 | A | EST |\n",
       "| 4 | USGS | 03216070 | 2015-09-06 20:00:00 | 16200 | A | EST |\n",
       "| 5 | USGS | 03216070 | 2015-09-07 20:00:00 | 18100 | A | EST |\n",
       "| ⋮ | ⋮ | ⋮ | ⋮ | ⋮ | ⋮ | ⋮ |\n",
       "| 3208 | USGS | 03216070 | 2024-09-06 20:00:00 | 9570 | P | EST |\n",
       "| 3209 | USGS | 03216070 | 2024-09-07 20:00:00 | 8360 | P | EST |\n",
       "| 3210 | USGS | 03216070 | 2024-09-08 20:00:00 | 8850 | P | EST |\n",
       "| 3211 | USGS | 03216070 | 2024-09-09 20:00:00 | 9980 | P | EST |\n",
       "| 3212 | USGS | 03216070 | 2024-09-10 20:00:00 | 1800 | P | EST |\n",
       "\n"
      ],
      "text/plain": [
       "     agency_cd site_no  dateTime            X_00060_00003 X_00060_00003_cd\n",
       "1    USGS      03216070 2015-09-03 20:00:00 17200         A               \n",
       "2    USGS      03216070 2015-09-04 20:00:00 15200         A               \n",
       "3    USGS      03216070 2015-09-05 20:00:00 15000         A               \n",
       "4    USGS      03216070 2015-09-06 20:00:00 16200         A               \n",
       "5    USGS      03216070 2015-09-07 20:00:00 18100         A               \n",
       "⋮    ⋮         ⋮        ⋮                   ⋮             ⋮               \n",
       "3208 USGS      03216070 2024-09-06 20:00:00 9570          P               \n",
       "3209 USGS      03216070 2024-09-07 20:00:00 8360          P               \n",
       "3210 USGS      03216070 2024-09-08 20:00:00 8850          P               \n",
       "3211 USGS      03216070 2024-09-09 20:00:00 9980          P               \n",
       "3212 USGS      03216070 2024-09-10 20:00:00 1800          P               \n",
       "     tz_cd\n",
       "1    EST  \n",
       "2    EST  \n",
       "3    EST  \n",
       "4    EST  \n",
       "5    EST  \n",
       "⋮    ⋮    \n",
       "3208 EST  \n",
       "3209 EST  \n",
       "3210 EST  \n",
       "3211 EST  \n",
       "3212 EST  "
      ]
     },
     "metadata": {},
     "output_type": "display_data"
    }
   ],
   "source": [
    "OH_d_dv <- readNWISdata( # to open the data that we want to plot, we use the readNWISdata code\n",
    "    site = \"03216070\", # specify what site you want the code to read\n",
    "    service = \"dv\", # specify what kind of service value you want (e.g., you could choose instantaneous values)\n",
    "    parameterCd = \"00060\", # specify which data you want to pull from the site (in this case, discharge)\n",
    "    startDate = \"2015-09-04\", endDate = \"2024-09-11\", # use this format to create a timeline for your data\n",
    "    tz = \"EST\" # we are choosing the eastern time zone\n",
    ")\n",
    "\n",
    "OH_d_dv # print your data table"
   ]
  },
  {
   "cell_type": "markdown",
   "id": "743264d5-5623-4b61-8266-35913fb1e45b",
   "metadata": {},
   "source": [
    "We will repeat the step above except with our Kankakee River site. Notice the quantity and type of data that is displayed in the table. Over 3000 individual data points were pulled, and oyu can see the start and end date in the table. The column labeled _X_00060_00003_ is the discharge data, and that is the column name we will be using when we create our ggplots."
   ]
  },
  {
   "cell_type": "code",
   "execution_count": 17,
   "id": "c589461a-a594-4acd-8e2f-696b4bb6ad86",
   "metadata": {},
   "outputs": [
    {
     "data": {
      "text/html": [
       "<table class=\"dataframe\">\n",
       "<caption>A data.frame: 3293 × 6</caption>\n",
       "<thead>\n",
       "\t<tr><th></th><th scope=col>agency_cd</th><th scope=col>site_no</th><th scope=col>dateTime</th><th scope=col>X_00060_00003</th><th scope=col>X_00060_00003_cd</th><th scope=col>tz_cd</th></tr>\n",
       "\t<tr><th></th><th scope=col>&lt;chr&gt;</th><th scope=col>&lt;chr&gt;</th><th scope=col>&lt;dttm&gt;</th><th scope=col>&lt;dbl&gt;</th><th scope=col>&lt;chr&gt;</th><th scope=col>&lt;chr&gt;</th></tr>\n",
       "</thead>\n",
       "<tbody>\n",
       "\t<tr><th scope=row>1</th><td>USGS</td><td>05515500</td><td>2015-09-03 20:00:00</td><td>350</td><td>A</td><td>EST</td></tr>\n",
       "\t<tr><th scope=row>2</th><td>USGS</td><td>05515500</td><td>2015-09-04 20:00:00</td><td>358</td><td>A</td><td>EST</td></tr>\n",
       "\t<tr><th scope=row>3</th><td>USGS</td><td>05515500</td><td>2015-09-05 20:00:00</td><td>384</td><td>A</td><td>EST</td></tr>\n",
       "\t<tr><th scope=row>4</th><td>USGS</td><td>05515500</td><td>2015-09-06 20:00:00</td><td>378</td><td>A</td><td>EST</td></tr>\n",
       "\t<tr><th scope=row>5</th><td>USGS</td><td>05515500</td><td>2015-09-07 20:00:00</td><td>378</td><td>A</td><td>EST</td></tr>\n",
       "\t<tr><th scope=row>⋮</th><td>⋮</td><td>⋮</td><td>⋮</td><td>⋮</td><td>⋮</td><td>⋮</td></tr>\n",
       "\t<tr><th scope=row>3289</th><td>USGS</td><td>05515500</td><td>2024-09-06 20:00:00</td><td>307</td><td>P</td><td>EST</td></tr>\n",
       "\t<tr><th scope=row>3290</th><td>USGS</td><td>05515500</td><td>2024-09-07 20:00:00</td><td>308</td><td>P</td><td>EST</td></tr>\n",
       "\t<tr><th scope=row>3291</th><td>USGS</td><td>05515500</td><td>2024-09-08 20:00:00</td><td>304</td><td>P</td><td>EST</td></tr>\n",
       "\t<tr><th scope=row>3292</th><td>USGS</td><td>05515500</td><td>2024-09-09 20:00:00</td><td>297</td><td>P</td><td>EST</td></tr>\n",
       "\t<tr><th scope=row>3293</th><td>USGS</td><td>05515500</td><td>2024-09-10 20:00:00</td><td>287</td><td>P</td><td>EST</td></tr>\n",
       "</tbody>\n",
       "</table>\n"
      ],
      "text/latex": [
       "A data.frame: 3293 × 6\n",
       "\\begin{tabular}{r|llllll}\n",
       "  & agency\\_cd & site\\_no & dateTime & X\\_00060\\_00003 & X\\_00060\\_00003\\_cd & tz\\_cd\\\\\n",
       "  & <chr> & <chr> & <dttm> & <dbl> & <chr> & <chr>\\\\\n",
       "\\hline\n",
       "\t1 & USGS & 05515500 & 2015-09-03 20:00:00 & 350 & A & EST\\\\\n",
       "\t2 & USGS & 05515500 & 2015-09-04 20:00:00 & 358 & A & EST\\\\\n",
       "\t3 & USGS & 05515500 & 2015-09-05 20:00:00 & 384 & A & EST\\\\\n",
       "\t4 & USGS & 05515500 & 2015-09-06 20:00:00 & 378 & A & EST\\\\\n",
       "\t5 & USGS & 05515500 & 2015-09-07 20:00:00 & 378 & A & EST\\\\\n",
       "\t⋮ & ⋮ & ⋮ & ⋮ & ⋮ & ⋮ & ⋮\\\\\n",
       "\t3289 & USGS & 05515500 & 2024-09-06 20:00:00 & 307 & P & EST\\\\\n",
       "\t3290 & USGS & 05515500 & 2024-09-07 20:00:00 & 308 & P & EST\\\\\n",
       "\t3291 & USGS & 05515500 & 2024-09-08 20:00:00 & 304 & P & EST\\\\\n",
       "\t3292 & USGS & 05515500 & 2024-09-09 20:00:00 & 297 & P & EST\\\\\n",
       "\t3293 & USGS & 05515500 & 2024-09-10 20:00:00 & 287 & P & EST\\\\\n",
       "\\end{tabular}\n"
      ],
      "text/markdown": [
       "\n",
       "A data.frame: 3293 × 6\n",
       "\n",
       "| <!--/--> | agency_cd &lt;chr&gt; | site_no &lt;chr&gt; | dateTime &lt;dttm&gt; | X_00060_00003 &lt;dbl&gt; | X_00060_00003_cd &lt;chr&gt; | tz_cd &lt;chr&gt; |\n",
       "|---|---|---|---|---|---|---|\n",
       "| 1 | USGS | 05515500 | 2015-09-03 20:00:00 | 350 | A | EST |\n",
       "| 2 | USGS | 05515500 | 2015-09-04 20:00:00 | 358 | A | EST |\n",
       "| 3 | USGS | 05515500 | 2015-09-05 20:00:00 | 384 | A | EST |\n",
       "| 4 | USGS | 05515500 | 2015-09-06 20:00:00 | 378 | A | EST |\n",
       "| 5 | USGS | 05515500 | 2015-09-07 20:00:00 | 378 | A | EST |\n",
       "| ⋮ | ⋮ | ⋮ | ⋮ | ⋮ | ⋮ | ⋮ |\n",
       "| 3289 | USGS | 05515500 | 2024-09-06 20:00:00 | 307 | P | EST |\n",
       "| 3290 | USGS | 05515500 | 2024-09-07 20:00:00 | 308 | P | EST |\n",
       "| 3291 | USGS | 05515500 | 2024-09-08 20:00:00 | 304 | P | EST |\n",
       "| 3292 | USGS | 05515500 | 2024-09-09 20:00:00 | 297 | P | EST |\n",
       "| 3293 | USGS | 05515500 | 2024-09-10 20:00:00 | 287 | P | EST |\n",
       "\n"
      ],
      "text/plain": [
       "     agency_cd site_no  dateTime            X_00060_00003 X_00060_00003_cd\n",
       "1    USGS      05515500 2015-09-03 20:00:00 350           A               \n",
       "2    USGS      05515500 2015-09-04 20:00:00 358           A               \n",
       "3    USGS      05515500 2015-09-05 20:00:00 384           A               \n",
       "4    USGS      05515500 2015-09-06 20:00:00 378           A               \n",
       "5    USGS      05515500 2015-09-07 20:00:00 378           A               \n",
       "⋮    ⋮         ⋮        ⋮                   ⋮             ⋮               \n",
       "3289 USGS      05515500 2024-09-06 20:00:00 307           P               \n",
       "3290 USGS      05515500 2024-09-07 20:00:00 308           P               \n",
       "3291 USGS      05515500 2024-09-08 20:00:00 304           P               \n",
       "3292 USGS      05515500 2024-09-09 20:00:00 297           P               \n",
       "3293 USGS      05515500 2024-09-10 20:00:00 287           P               \n",
       "     tz_cd\n",
       "1    EST  \n",
       "2    EST  \n",
       "3    EST  \n",
       "4    EST  \n",
       "5    EST  \n",
       "⋮    ⋮    \n",
       "3289 EST  \n",
       "3290 EST  \n",
       "3291 EST  \n",
       "3292 EST  \n",
       "3293 EST  "
      ]
     },
     "metadata": {},
     "output_type": "display_data"
    }
   ],
   "source": [
    "KN_d_dv <- readNWISdata(\n",
    "    site = \"05515500\",\n",
    "    service = \"dv\",\n",
    "    parameterCd = \"00060\",\n",
    "    startDate = \"2015-09-04\", endDate = \"2024-09-11\",\n",
    "    tz = \"EST\"\n",
    ")\n",
    "\n",
    "KN_d_dv"
   ]
  },
  {
   "cell_type": "markdown",
   "id": "bf5118ff-7367-46c6-8b46-0264d543689e",
   "metadata": {},
   "source": [
    "## Plotting the Data"
   ]
  },
  {
   "cell_type": "markdown",
   "id": "b1dd8606-39aa-4df1-bf6d-32ce7b4fed07",
   "metadata": {},
   "source": [
    "So we now have all the data that we need in order to create a graph. We will create line charts displaying discharge over time for both river sites. We will do this by using the ggplot package to display a graph according to our choosing. Study the code below to understand how we are creating these displays."
   ]
  },
  {
   "cell_type": "code",
   "execution_count": 19,
   "id": "ce25ded0-410c-4b22-9f38-e12cf513ff67",
   "metadata": {},
   "outputs": [
    {
     "name": "stderr",
     "output_type": "stream",
     "text": [
      "Warning message:\n",
      "\"\u001b[1m\u001b[22mUsing `size` aesthetic for lines was deprecated in ggplot2 3.4.0.\n",
      "\u001b[36mℹ\u001b[39m Please use `linewidth` instead.\"\n"
     ]
    },
    {
     "data": {
      "image/png": "[encoded data removed]",
      "text/plain": [
       "plot without title"
      ]
     },
     "metadata": {
      "image/png": {
       "height": 420,
       "width": 420
      }
     },
     "output_type": "display_data"
    }
   ],
   "source": [
    "# We will start by naming an object that will be our plot and assigning the ggplot code to it.\n",
    "# We must specify what data set ggplot will pull data from (OH_d_dv) and then use the \"aes()\" to \n",
    "# instruct R what our x and y axis will be. Recall we are using the \"X_00060_00003\" from above for discharge.\n",
    "\n",
    "OH_d_dv_plot<-ggplot(OH_d_dv,aes(x=dateTime,y=X_00060_00003))+ \n",
    "# the geom_line() tells ggplot we want a line graph. The size parameter sets the diameter of the line and the color sets the color.\n",
    "    geom_line(size=0.5, color = \"blue\")+\n",
    "# the labs() code allows us to customize the labels of our plot.\n",
    "    labs(title = \"Ohio River Discharge\", x = \"Time\", y = \"Discharge (cfs)\")+\n",
    "# the theme() code opens the door for some advanced customization with your plot. The code inside the parantheses centers the plot\n",
    "# title above our graph.\n",
    "    theme(plot.title = element_text(hjust=0.5))\n",
    "\n",
    "# We will organize our code for the Kankakee River graph below\n",
    "KN_d_dv_plot<-ggplot(KN_d_dv,aes(x=dateTime,y=X_00060_00003))+\n",
    "    geom_line(size=0.5, color = \"red\")+\n",
    "    labs(title = \"Kankakee River Discharge\", x = \"Time\", y = \"Discharge (cfs)\")+\n",
    "    theme(plot.title = element_text(hjust=0.5))\n",
    "\n",
    "# the grid.arrange function allows us to compile multiple plots into a single display. The \"nrow=\" sets the number of rows.\n",
    "grid.arrange(OH_d_dv_plot, KN_d_dv_plot, nrow=2) "
   ]
  },
  {
   "cell_type": "markdown",
   "id": "996a7465-12f7-4b1e-8b60-cfd5193f8d39",
   "metadata": {},
   "source": [
    "What would happen if we changed some of the coding within our ggplot code? Let's explore a couple of graphical alternatives to increase your familiarity with this package:"
   ]
  },
  {
   "cell_type": "code",
   "execution_count": 21,
   "id": "81eede3e-b645-47ac-b899-ad434b4619f8",
   "metadata": {},
   "outputs": [
    {
     "data": {
      "image/png": "[encoded data removed]",
      "text/plain": [
       "plot without title"
      ]
     },
     "metadata": {
      "image/png": {
       "height": 420,
       "width": 420
      }
     },
     "output_type": "display_data"
    }
   ],
   "source": [
    "KN_d_dv_plot<-ggplot(KN_d_dv,aes(x=dateTime,y=X_00060_00003))+\n",
    "    geom_point(size=0.5, color = \"red\")+ ## let's change this from a line graph to a scatterplot by replacing\n",
    "                                        ##  geom_line with geom_point\n",
    "    labs(title = \"Kankakee River Discharge\", x = \"Time\", y = \"Discharge (cfs)\")+\n",
    "    theme(plot.title = element_text(hjust=0.5))\n",
    "\n",
    "KN_d_dv_plot"
   ]
  },
  {
   "cell_type": "code",
   "execution_count": 93,
   "id": "8d051d63-d270-446c-9c31-2b79379c3e59",
   "metadata": {},
   "outputs": [
    {
     "name": "stderr",
     "output_type": "stream",
     "text": [
      "\u001b[1m\u001b[22m`geom_smooth()` using formula = 'y ~ x'\n"
     ]
    },
    {
     "data": {
      "image/png": "[encoded data removed]",
      "text/plain": [
       "plot without title"
      ]
     },
     "metadata": {
      "image/png": {
       "height": 420,
       "width": 420
      }
     },
     "output_type": "display_data"
    }
   ],
   "source": [
    "KN_d_dv_plot<-ggplot(KN_d_dv,aes(x=dateTime,y=X_00060_00003))+\n",
    "    geom_line(size=0.5, color = \"red\")+\n",
    "    geom_smooth(method=\"lm\", se=FALSE)+  ## adding the code \"geom_smooth()\" creates a trendline for the plot.\n",
    "                                        ## the method determines the type of trendline (\"lm\" = linear model).\n",
    "                                        ## the \"se\" is the standard error, and by dictating FALSE we are telling it to omit\n",
    "                                        ## the measure of spread.\n",
    "    labs(title = \"Kankakee River Discharge\", x = \"Time\", y = \"Discharge (cfs)\")+\n",
    "    theme(plot.title = element_text(hjust=0.5))\n",
    "\n",
    "KN_d_dv_plot"
   ]
  },
  {
   "cell_type": "markdown",
   "id": "e71de3ef-5b37-49f8-861d-dca547eb5de6",
   "metadata": {},
   "source": [
    "If you modify the code above and change \"se=FALSE\" to \"se=TRUE\", there will be a measure of spread (standard error) displayed along the trendline. However, for this particular plot, the measure of spread wont be very visible. "
   ]
  },
  {
   "cell_type": "markdown",
   "id": "9e38cf50-0909-4c83-a29c-20b8902a3f18",
   "metadata": {},
   "source": [
    "## Your turn!"
   ]
  },
  {
   "cell_type": "markdown",
   "id": "6660c99e-27bc-472b-8cd4-cc46ebe97d55",
   "metadata": {},
   "source": [
    "You have been given all the fundamental information you need in order to perform a task just like we have done, so browse through the USGS site (link above) and find one or two river systems you would like to make a graphical display with. You can fool around with what variables you choose, too. Try using a different parameter code (dissolved oxygen, temperature, etc.) or try modifying the type of graph you are displaying. \n",
    "\n",
    "The best way to learn R, in my experience, is to just dive in and explore the code on your own. Embrace the syntax errors, use AI to help you answer those errors, and try modifying your code to do new things. Learning to code becomes much more effective if you choose to combine your intuition, so approach this self-assignment with intent. Explore R with everything you have been taught, and once you have a conceptual understanding of the fundamentals you can expand your knowledge tenfold."
   ]
  },
  {
   "cell_type": "code",
   "execution_count": null,
   "id": "575b706d-58cc-4027-8a85-892742624b07",
   "metadata": {},
   "outputs": [],
   "source": []
  }
 ],
 "metadata": {
  "kernelspec": {
   "display_name": "R",
   "language": "R",
   "name": "ir"
  },
  "language_info": {
   "codemirror_mode": "r",
   "file_extension": ".r",
   "mimetype": "text/x-r-source",
   "name": "R",
   "pygments_lexer": "r",
   "version": "4.4.1"
  }
 },
 "nbformat": 4,
 "nbformat_minor": 5
}
