{
 "cells": [
  {
   "cell_type": "code",
   "execution_count": null,
   "id": "adf91f97",
   "metadata": {},
   "outputs": [],
   "source": [
    "pip install transformers\n",
    "pip install InstructorEmbedding"
   ]
  },
  {
   "cell_type": "code",
   "execution_count": 1,
   "id": "f096d9fa",
   "metadata": {
    "collapsed": true
   },
   "outputs": [
    {
     "name": "stdout",
     "output_type": "stream",
     "text": [
      "Requirement already satisfied: langchain==0.0.284 in c:\\users\\mohni\\appdata\\local\\programs\\python\\python310\\lib\\site-packages (from -r requirements.txt (line 1)) (0.0.284)Note: you may need to restart the kernel to use updated packages.\n",
      "\n",
      "Requirement already satisfied: python-dotenv==1.0.0 in c:\\users\\mohni\\appdata\\local\\programs\\python\\python310\\lib\\site-packages (from -r requirements.txt (line 2)) (1.0.0)\n",
      "Requirement already satisfied: streamlit==1.22.0 in c:\\users\\mohni\\appdata\\local\\programs\\python\\python310\\lib\\site-packages (from -r requirements.txt (line 3)) (1.22.0)\n",
      "Requirement already satisfied: tiktoken==0.4.0 in c:\\users\\mohni\\appdata\\local\\programs\\python\\python310\\lib\\site-packages (from -r requirements.txt (line 4)) (0.4.0)\n",
      "Requirement already satisfied: faiss-cpu==1.7.4 in c:\\users\\mohni\\appdata\\local\\programs\\python\\python310\\lib\\site-packages (from -r requirements.txt (line 5)) (1.7.4)\n",
      "Collecting protobuf~=3.19.0 (from -r requirements.txt (line 6))\n",
      "  Using cached protobuf-3.19.6-cp310-cp310-win_amd64.whl (895 kB)\n",
      "Requirement already satisfied: PyYAML>=5.3 in c:\\users\\mohni\\appdata\\local\\programs\\python\\python310\\lib\\site-packages (from langchain==0.0.284->-r requirements.txt (line 1)) (6.0)\n",
      "Requirement already satisfied: SQLAlchemy<3,>=1.4 in c:\\users\\mohni\\appdata\\local\\programs\\python\\python310\\lib\\site-packages (from langchain==0.0.284->-r requirements.txt (line 1)) (1.4.46)\n",
      "Requirement already satisfied: aiohttp<4.0.0,>=3.8.3 in c:\\users\\mohni\\appdata\\local\\programs\\python\\python310\\lib\\site-packages (from langchain==0.0.284->-r requirements.txt (line 1)) (3.8.4)\n",
      "Requirement already satisfied: async-timeout<5.0.0,>=4.0.0 in c:\\users\\mohni\\appdata\\local\\programs\\python\\python310\\lib\\site-packages (from langchain==0.0.284->-r requirements.txt (line 1)) (4.0.2)\n",
      "Requirement already satisfied: dataclasses-json<0.6.0,>=0.5.7 in c:\\users\\mohni\\appdata\\local\\programs\\python\\python310\\lib\\site-packages (from langchain==0.0.284->-r requirements.txt (line 1)) (0.5.14)\n",
      "Requirement already satisfied: langsmith<0.1.0,>=0.0.21 in c:\\users\\mohni\\appdata\\local\\programs\\python\\python310\\lib\\site-packages (from langchain==0.0.284->-r requirements.txt (line 1)) (0.0.71)\n",
      "Requirement already satisfied: numexpr<3.0.0,>=2.8.4 in c:\\users\\mohni\\appdata\\local\\programs\\python\\python310\\lib\\site-packages (from langchain==0.0.284->-r requirements.txt (line 1)) (2.8.8)\n",
      "Requirement already satisfied: numpy<2,>=1 in c:\\users\\mohni\\appdata\\local\\programs\\python\\python310\\lib\\site-packages (from langchain==0.0.284->-r requirements.txt (line 1)) (1.26.2)\n",
      "Requirement already satisfied: pydantic<3,>=1 in c:\\users\\mohni\\appdata\\local\\programs\\python\\python310\\lib\\site-packages (from langchain==0.0.284->-r requirements.txt (line 1)) (2.5.2)\n",
      "Requirement already satisfied: requests<3,>=2 in c:\\users\\mohni\\appdata\\local\\programs\\python\\python310\\lib\\site-packages (from langchain==0.0.284->-r requirements.txt (line 1)) (2.31.0)\n",
      "Requirement already satisfied: tenacity<9.0.0,>=8.1.0 in c:\\users\\mohni\\appdata\\local\\programs\\python\\python310\\lib\\site-packages (from langchain==0.0.284->-r requirements.txt (line 1)) (8.1.0)\n",
      "Requirement already satisfied: altair<5,>=3.2.0 in c:\\users\\mohni\\appdata\\local\\programs\\python\\python310\\lib\\site-packages (from streamlit==1.22.0->-r requirements.txt (line 3)) (4.2.2)\n",
      "Requirement already satisfied: blinker>=1.0.0 in c:\\users\\mohni\\appdata\\local\\programs\\python\\python310\\lib\\site-packages (from streamlit==1.22.0->-r requirements.txt (line 3)) (1.7.0)\n",
      "Requirement already satisfied: cachetools>=4.0 in c:\\users\\mohni\\appdata\\local\\programs\\python\\python310\\lib\\site-packages (from streamlit==1.22.0->-r requirements.txt (line 3)) (5.3.0)\n",
      "Requirement already satisfied: click>=7.0 in c:\\users\\mohni\\appdata\\local\\programs\\python\\python310\\lib\\site-packages (from streamlit==1.22.0->-r requirements.txt (line 3)) (8.1.3)\n",
      "Requirement already satisfied: importlib-metadata>=1.4 in c:\\users\\mohni\\appdata\\local\\programs\\python\\python310\\lib\\site-packages (from streamlit==1.22.0->-r requirements.txt (line 3)) (6.0.0)\n",
      "Requirement already satisfied: packaging>=14.1 in c:\\users\\mohni\\appdata\\local\\programs\\python\\python310\\lib\\site-packages (from streamlit==1.22.0->-r requirements.txt (line 3)) (23.2)\n",
      "Requirement already satisfied: pandas<3,>=0.25 in c:\\users\\mohni\\appdata\\local\\programs\\python\\python310\\lib\\site-packages (from streamlit==1.22.0->-r requirements.txt (line 3)) (1.5.1)\n",
      "Requirement already satisfied: pillow>=6.2.0 in c:\\users\\mohni\\appdata\\local\\programs\\python\\python310\\lib\\site-packages (from streamlit==1.22.0->-r requirements.txt (line 3)) (9.2.0)\n",
      "Requirement already satisfied: pyarrow>=4.0 in c:\\users\\mohni\\appdata\\local\\programs\\python\\python310\\lib\\site-packages (from streamlit==1.22.0->-r requirements.txt (line 3)) (14.0.1)\n",
      "Requirement already satisfied: pympler>=0.9 in c:\\users\\mohni\\appdata\\local\\programs\\python\\python310\\lib\\site-packages (from streamlit==1.22.0->-r requirements.txt (line 3)) (1.0.1)\n",
      "Requirement already satisfied: python-dateutil in c:\\users\\mohni\\appdata\\local\\programs\\python\\python310\\lib\\site-packages (from streamlit==1.22.0->-r requirements.txt (line 3)) (2.8.2)\n",
      "Requirement already satisfied: rich>=10.11.0 in c:\\users\\mohni\\appdata\\local\\programs\\python\\python310\\lib\\site-packages (from streamlit==1.22.0->-r requirements.txt (line 3)) (13.7.0)\n",
      "Requirement already satisfied: toml in c:\\users\\mohni\\appdata\\local\\programs\\python\\python310\\lib\\site-packages (from streamlit==1.22.0->-r requirements.txt (line 3)) (0.10.2)\n",
      "Requirement already satisfied: typing-extensions>=3.10.0.0 in c:\\users\\mohni\\appdata\\local\\programs\\python\\python310\\lib\\site-packages (from streamlit==1.22.0->-r requirements.txt (line 3)) (4.8.0)\n",
      "Requirement already satisfied: tzlocal>=1.1 in c:\\users\\mohni\\appdata\\local\\programs\\python\\python310\\lib\\site-packages (from streamlit==1.22.0->-r requirements.txt (line 3)) (5.2)\n",
      "Requirement already satisfied: validators>=0.2 in c:\\users\\mohni\\appdata\\local\\programs\\python\\python310\\lib\\site-packages (from streamlit==1.22.0->-r requirements.txt (line 3)) (0.22.0)\n",
      "Requirement already satisfied: gitpython!=3.1.19 in c:\\users\\mohni\\appdata\\local\\programs\\python\\python310\\lib\\site-packages (from streamlit==1.22.0->-r requirements.txt (line 3)) (3.1.40)\n",
      "Requirement already satisfied: pydeck>=0.1.dev5 in c:\\users\\mohni\\appdata\\local\\programs\\python\\python310\\lib\\site-packages (from streamlit==1.22.0->-r requirements.txt (line 3)) (0.8.1b0)\n",
      "Requirement already satisfied: tornado>=6.0.3 in c:\\users\\mohni\\appdata\\local\\programs\\python\\python310\\lib\\site-packages (from streamlit==1.22.0->-r requirements.txt (line 3)) (6.2)\n",
      "Requirement already satisfied: watchdog in c:\\users\\mohni\\appdata\\local\\programs\\python\\python310\\lib\\site-packages (from streamlit==1.22.0->-r requirements.txt (line 3)) (3.0.0)\n",
      "Requirement already satisfied: regex>=2022.1.18 in c:\\users\\mohni\\appdata\\local\\programs\\python\\python310\\lib\\site-packages (from tiktoken==0.4.0->-r requirements.txt (line 4)) (2022.10.31)\n",
      "Requirement already satisfied: attrs>=17.3.0 in c:\\users\\mohni\\appdata\\local\\programs\\python\\python310\\lib\\site-packages (from aiohttp<4.0.0,>=3.8.3->langchain==0.0.284->-r requirements.txt (line 1)) (22.1.0)\n",
      "Requirement already satisfied: charset-normalizer<4.0,>=2.0 in c:\\users\\mohni\\appdata\\local\\programs\\python\\python310\\lib\\site-packages (from aiohttp<4.0.0,>=3.8.3->langchain==0.0.284->-r requirements.txt (line 1)) (3.3.2)\n",
      "Requirement already satisfied: multidict<7.0,>=4.5 in c:\\users\\mohni\\appdata\\local\\programs\\python\\python310\\lib\\site-packages (from aiohttp<4.0.0,>=3.8.3->langchain==0.0.284->-r requirements.txt (line 1)) (6.0.4)\n",
      "Requirement already satisfied: yarl<2.0,>=1.0 in c:\\users\\mohni\\appdata\\local\\programs\\python\\python310\\lib\\site-packages (from aiohttp<4.0.0,>=3.8.3->langchain==0.0.284->-r requirements.txt (line 1)) (1.9.2)\n",
      "Requirement already satisfied: frozenlist>=1.1.1 in c:\\users\\mohni\\appdata\\local\\programs\\python\\python310\\lib\\site-packages (from aiohttp<4.0.0,>=3.8.3->langchain==0.0.284->-r requirements.txt (line 1)) (1.3.3)\n",
      "Requirement already satisfied: aiosignal>=1.1.2 in c:\\users\\mohni\\appdata\\local\\programs\\python\\python310\\lib\\site-packages (from aiohttp<4.0.0,>=3.8.3->langchain==0.0.284->-r requirements.txt (line 1)) (1.3.1)\n",
      "Requirement already satisfied: entrypoints in c:\\users\\mohni\\appdata\\local\\programs\\python\\python310\\lib\\site-packages (from altair<5,>=3.2.0->streamlit==1.22.0->-r requirements.txt (line 3)) (0.4)\n",
      "Requirement already satisfied: jinja2 in c:\\users\\mohni\\appdata\\local\\programs\\python\\python310\\lib\\site-packages (from altair<5,>=3.2.0->streamlit==1.22.0->-r requirements.txt (line 3)) (3.1.2)\n",
      "Requirement already satisfied: jsonschema>=3.0 in c:\\users\\mohni\\appdata\\local\\programs\\python\\python310\\lib\\site-packages (from altair<5,>=3.2.0->streamlit==1.22.0->-r requirements.txt (line 3)) (4.16.0)\n",
      "Requirement already satisfied: toolz in c:\\users\\mohni\\appdata\\local\\programs\\python\\python310\\lib\\site-packages (from altair<5,>=3.2.0->streamlit==1.22.0->-r requirements.txt (line 3)) (0.12.0)\n",
      "Requirement already satisfied: colorama in c:\\users\\mohni\\appdata\\local\\programs\\python\\python310\\lib\\site-packages (from click>=7.0->streamlit==1.22.0->-r requirements.txt (line 3)) (0.4.6)\n",
      "Requirement already satisfied: marshmallow<4.0.0,>=3.18.0 in c:\\users\\mohni\\appdata\\local\\programs\\python\\python310\\lib\\site-packages (from dataclasses-json<0.6.0,>=0.5.7->langchain==0.0.284->-r requirements.txt (line 1)) (3.20.1)\n",
      "Requirement already satisfied: typing-inspect<1,>=0.4.0 in c:\\users\\mohni\\appdata\\local\\programs\\python\\python310\\lib\\site-packages (from dataclasses-json<0.6.0,>=0.5.7->langchain==0.0.284->-r requirements.txt (line 1)) (0.9.0)\n",
      "Requirement already satisfied: gitdb<5,>=4.0.1 in c:\\users\\mohni\\appdata\\local\\programs\\python\\python310\\lib\\site-packages (from gitpython!=3.1.19->streamlit==1.22.0->-r requirements.txt (line 3)) (4.0.11)\n",
      "Requirement already satisfied: zipp>=0.5 in c:\\users\\mohni\\appdata\\local\\programs\\python\\python310\\lib\\site-packages (from importlib-metadata>=1.4->streamlit==1.22.0->-r requirements.txt (line 3)) (3.15.0)\n",
      "Requirement already satisfied: pytz>=2020.1 in c:\\users\\mohni\\appdata\\local\\programs\\python\\python310\\lib\\site-packages (from pandas<3,>=0.25->streamlit==1.22.0->-r requirements.txt (line 3)) (2022.2.1)\n",
      "Requirement already satisfied: annotated-types>=0.4.0 in c:\\users\\mohni\\appdata\\local\\programs\\python\\python310\\lib\\site-packages (from pydantic<3,>=1->langchain==0.0.284->-r requirements.txt (line 1)) (0.6.0)\n",
      "Requirement already satisfied: pydantic-core==2.14.5 in c:\\users\\mohni\\appdata\\local\\programs\\python\\python310\\lib\\site-packages (from pydantic<3,>=1->langchain==0.0.284->-r requirements.txt (line 1)) (2.14.5)\n",
      "Requirement already satisfied: six>=1.5 in c:\\users\\mohni\\appdata\\local\\programs\\python\\python310\\lib\\site-packages (from python-dateutil->streamlit==1.22.0->-r requirements.txt (line 3)) (1.16.0)\n",
      "Requirement already satisfied: idna<4,>=2.5 in c:\\users\\mohni\\appdata\\local\\programs\\python\\python310\\lib\\site-packages (from requests<3,>=2->langchain==0.0.284->-r requirements.txt (line 1)) (3.6)\n",
      "Requirement already satisfied: urllib3<3,>=1.21.1 in c:\\users\\mohni\\appdata\\local\\programs\\python\\python310\\lib\\site-packages (from requests<3,>=2->langchain==0.0.284->-r requirements.txt (line 1)) (2.1.0)\n",
      "Requirement already satisfied: certifi>=2017.4.17 in c:\\users\\mohni\\appdata\\local\\programs\\python\\python310\\lib\\site-packages (from requests<3,>=2->langchain==0.0.284->-r requirements.txt (line 1)) (2023.11.17)\n",
      "Requirement already satisfied: markdown-it-py>=2.2.0 in c:\\users\\mohni\\appdata\\local\\programs\\python\\python310\\lib\\site-packages (from rich>=10.11.0->streamlit==1.22.0->-r requirements.txt (line 3)) (3.0.0)\n",
      "Requirement already satisfied: pygments<3.0.0,>=2.13.0 in c:\\users\\mohni\\appdata\\local\\programs\\python\\python310\\lib\\site-packages (from rich>=10.11.0->streamlit==1.22.0->-r requirements.txt (line 3)) (2.13.0)\n",
      "Requirement already satisfied: greenlet!=0.4.17 in c:\\users\\mohni\\appdata\\local\\programs\\python\\python310\\lib\\site-packages (from SQLAlchemy<3,>=1.4->langchain==0.0.284->-r requirements.txt (line 1)) (2.0.1)\n",
      "Requirement already satisfied: tzdata in c:\\users\\mohni\\appdata\\local\\programs\\python\\python310\\lib\\site-packages (from tzlocal>=1.1->streamlit==1.22.0->-r requirements.txt (line 3)) (2023.3)\n",
      "Requirement already satisfied: smmap<6,>=3.0.1 in c:\\users\\mohni\\appdata\\local\\programs\\python\\python310\\lib\\site-packages (from gitdb<5,>=4.0.1->gitpython!=3.1.19->streamlit==1.22.0->-r requirements.txt (line 3)) (5.0.0)\n",
      "Requirement already satisfied: MarkupSafe>=2.0 in c:\\users\\mohni\\appdata\\local\\programs\\python\\python310\\lib\\site-packages (from jinja2->altair<5,>=3.2.0->streamlit==1.22.0->-r requirements.txt (line 3)) (2.1.1)\n",
      "Requirement already satisfied: pyrsistent!=0.17.0,!=0.17.1,!=0.17.2,>=0.14.0 in c:\\users\\mohni\\appdata\\local\\programs\\python\\python310\\lib\\site-packages (from jsonschema>=3.0->altair<5,>=3.2.0->streamlit==1.22.0->-r requirements.txt (line 3)) (0.18.1)\n",
      "Requirement already satisfied: mdurl~=0.1 in c:\\users\\mohni\\appdata\\local\\programs\\python\\python310\\lib\\site-packages (from markdown-it-py>=2.2.0->rich>=10.11.0->streamlit==1.22.0->-r requirements.txt (line 3)) (0.1.2)\n",
      "Requirement already satisfied: mypy-extensions>=0.3.0 in c:\\users\\mohni\\appdata\\local\\programs\\python\\python310\\lib\\site-packages (from typing-inspect<1,>=0.4.0->dataclasses-json<0.6.0,>=0.5.7->langchain==0.0.284->-r requirements.txt (line 1)) (1.0.0)\n",
      "Installing collected packages: protobuf\n",
      "  Attempting uninstall: protobuf\n",
      "    Found existing installation: protobuf 4.25.1\n",
      "    Uninstalling protobuf-4.25.1:\n",
      "      Successfully uninstalled protobuf-4.25.1\n",
      "Successfully installed protobuf-3.19.6\n"
     ]
    },
    {
     "name": "stderr",
     "output_type": "stream",
     "text": [
      "ERROR: pip's dependency resolver does not currently take into account all the packages that are installed. This behaviour is the source of the following dependency conflicts.\n",
      "grpcio-status 1.59.0 requires protobuf>=4.21.6, but you have protobuf 3.19.6 which is incompatible.\n",
      "mysql-connector-python 8.2.0 requires protobuf<=4.21.12,>=4.21.1, but you have protobuf 3.19.6 which is incompatible.\n",
      "tensorflow-intel 2.15.0 requires protobuf!=4.21.0,!=4.21.1,!=4.21.2,!=4.21.3,!=4.21.4,!=4.21.5,<5.0.0dev,>=3.20.3, but you have protobuf 3.19.6 which is incompatible.\n",
      "web3 6.7.0 requires protobuf>=4.21.6, but you have protobuf 3.19.6 which is incompatible.\n",
      "WARNING: There was an error checking the latest version of pip.\n"
     ]
    }
   ],
   "source": [
    "pip install -r requirements.txt"
   ]
  },
  {
   "cell_type": "code",
   "execution_count": 2,
   "id": "f1cd95cb",
   "metadata": {},
   "outputs": [],
   "source": [
    "import warnings\n",
    "warnings.filterwarnings(\"ignore\")"
   ]
  },
  {
   "cell_type": "code",
   "execution_count": null,
   "id": "6c60b6ab",
   "metadata": {},
   "outputs": [],
   "source": [
    "# python -m pip install --upgrade pip --user"
   ]
  },
  {
   "cell_type": "code",
   "execution_count": 46,
   "id": "bb216b38",
   "metadata": {
    "collapsed": true
   },
   "outputs": [
    {
     "name": "stdout",
     "output_type": "stream",
     "text": [
      "Collecting google-generativeai\n",
      "  Downloading google_generativeai-0.3.1-py3-none-any.whl.metadata (5.9 kB)\n",
      "Collecting google-ai-generativelanguage==0.4.0 (from google-generativeai)\n",
      "  Downloading google_ai_generativelanguage-0.4.0-py3-none-any.whl.metadata (5.1 kB)\n",
      "Requirement already satisfied: google-auth in c:\\users\\mohni\\appdata\\local\\programs\\python\\python310\\lib\\site-packages (from google-generativeai) (2.16.2)\n",
      "Requirement already satisfied: google-api-core in c:\\users\\mohni\\appdata\\local\\programs\\python\\python310\\lib\\site-packages (from google-generativeai) (2.12.0)\n",
      "Requirement already satisfied: protobuf in c:\\users\\mohni\\appdata\\local\\programs\\python\\python310\\lib\\site-packages (from google-generativeai) (3.19.6)\n",
      "Requirement already satisfied: tqdm in c:\\users\\mohni\\appdata\\local\\programs\\python\\python310\\lib\\site-packages (from google-generativeai) (4.65.0)\n",
      "Requirement already satisfied: proto-plus<2.0.0dev,>=1.22.3 in c:\\users\\mohni\\appdata\\local\\programs\\python\\python310\\lib\\site-packages (from google-ai-generativelanguage==0.4.0->google-generativeai) (1.22.3)\n",
      "Requirement already satisfied: googleapis-common-protos<2.0.dev0,>=1.56.2 in c:\\users\\mohni\\appdata\\local\\programs\\python\\python310\\lib\\site-packages (from google-api-core->google-generativeai) (1.61.0)\n",
      "Requirement already satisfied: requests<3.0.0.dev0,>=2.18.0 in c:\\users\\mohni\\appdata\\local\\programs\\python\\python310\\lib\\site-packages (from google-api-core->google-generativeai) (2.31.0)\n",
      "Requirement already satisfied: cachetools<6.0,>=2.0.0 in c:\\users\\mohni\\appdata\\local\\programs\\python\\python310\\lib\\site-packages (from google-auth->google-generativeai) (5.3.0)\n",
      "Requirement already satisfied: pyasn1-modules>=0.2.1 in c:\\users\\mohni\\appdata\\local\\programs\\python\\python310\\lib\\site-packages (from google-auth->google-generativeai) (0.2.8)\n",
      "Requirement already satisfied: six>=1.9.0 in c:\\users\\mohni\\appdata\\local\\programs\\python\\python310\\lib\\site-packages (from google-auth->google-generativeai) (1.16.0)\n",
      "Requirement already satisfied: rsa<5,>=3.1.4 in c:\\users\\mohni\\appdata\\local\\programs\\python\\python310\\lib\\site-packages (from google-auth->google-generativeai) (4.9)\n",
      "Requirement already satisfied: colorama in c:\\users\\mohni\\appdata\\local\\programs\\python\\python310\\lib\\site-packages (from tqdm->google-generativeai) (0.4.6)\n",
      "Requirement already satisfied: grpcio<2.0dev,>=1.33.2 in c:\\users\\mohni\\appdata\\local\\programs\\python\\python310\\lib\\site-packages (from google-api-core[grpc]!=2.0.*,!=2.1.*,!=2.10.*,!=2.2.*,!=2.3.*,!=2.4.*,!=2.5.*,!=2.6.*,!=2.7.*,!=2.8.*,!=2.9.*,<3.0.0dev,>=1.34.0->google-ai-generativelanguage==0.4.0->google-generativeai) (1.59.0)\n",
      "Requirement already satisfied: grpcio-status<2.0.dev0,>=1.33.2 in c:\\users\\mohni\\appdata\\local\\programs\\python\\python310\\lib\\site-packages (from google-api-core[grpc]!=2.0.*,!=2.1.*,!=2.10.*,!=2.2.*,!=2.3.*,!=2.4.*,!=2.5.*,!=2.6.*,!=2.7.*,!=2.8.*,!=2.9.*,<3.0.0dev,>=1.34.0->google-ai-generativelanguage==0.4.0->google-generativeai) (1.59.0)\n",
      "Requirement already satisfied: pyasn1<0.5.0,>=0.4.6 in c:\\users\\mohni\\appdata\\local\\programs\\python\\python310\\lib\\site-packages (from pyasn1-modules>=0.2.1->google-auth->google-generativeai) (0.4.8)\n",
      "Requirement already satisfied: charset-normalizer<4,>=2 in c:\\users\\mohni\\appdata\\local\\programs\\python\\python310\\lib\\site-packages (from requests<3.0.0.dev0,>=2.18.0->google-api-core->google-generativeai) (3.3.2)\n",
      "Requirement already satisfied: idna<4,>=2.5 in c:\\users\\mohni\\appdata\\local\\programs\\python\\python310\\lib\\site-packages (from requests<3.0.0.dev0,>=2.18.0->google-api-core->google-generativeai) (3.6)\n",
      "Requirement already satisfied: urllib3<3,>=1.21.1 in c:\\users\\mohni\\appdata\\local\\programs\\python\\python310\\lib\\site-packages (from requests<3.0.0.dev0,>=2.18.0->google-api-core->google-generativeai) (2.1.0)\n",
      "Requirement already satisfied: certifi>=2017.4.17 in c:\\users\\mohni\\appdata\\local\\programs\\python\\python310\\lib\\site-packages (from requests<3.0.0.dev0,>=2.18.0->google-api-core->google-generativeai) (2023.11.17)\n",
      "Collecting protobuf (from google-generativeai)\n",
      "  Downloading protobuf-4.25.1-cp310-abi3-win_amd64.whl.metadata (541 bytes)\n",
      "Downloading google_generativeai-0.3.1-py3-none-any.whl (146 kB)\n",
      "   -------------------------------------- 146.6/146.6 kB 514.5 kB/s eta 0:00:00\n",
      "Downloading google_ai_generativelanguage-0.4.0-py3-none-any.whl (598 kB)\n",
      "   ---------------------------------------- 598.7/598.7 kB 1.3 MB/s eta 0:00:00\n",
      "Downloading protobuf-4.25.1-cp310-abi3-win_amd64.whl (413 kB)\n",
      "   ---------------------------------------- 413.4/413.4 kB 2.6 MB/s eta 0:00:00\n",
      "Installing collected packages: protobuf, google-ai-generativelanguage, google-generativeai\n",
      "  Attempting uninstall: protobuf\n",
      "    Found existing installation: protobuf 3.19.6\n",
      "    Uninstalling protobuf-3.19.6:\n",
      "      Successfully uninstalled protobuf-3.19.6\n",
      "Successfully installed google-ai-generativelanguage-0.4.0 google-generativeai-0.3.1 protobuf-4.25.1\n",
      "Note: you may need to restart the kernel to use updated packages.\n"
     ]
    },
    {
     "name": "stderr",
     "output_type": "stream",
     "text": [
      "ERROR: pip's dependency resolver does not currently take into account all the packages that are installed. This behaviour is the source of the following dependency conflicts.\n",
      "mysql-connector-python 8.2.0 requires protobuf<=4.21.12,>=4.21.1, but you have protobuf 4.25.1 which is incompatible.\n",
      "streamlit 1.22.0 requires protobuf<4,>=3.12, but you have protobuf 4.25.1 which is incompatible.\n",
      "tensorboard 2.15.1 requires protobuf<4.24,>=3.19.6, but you have protobuf 4.25.1 which is incompatible.\n",
      "WARNING: There was an error checking the latest version of pip.\n"
     ]
    }
   ],
   "source": [
    "pip install google-generativeai"
   ]
  },
  {
   "cell_type": "code",
   "execution_count": 45,
   "id": "1dbb51c7",
   "metadata": {},
   "outputs": [],
   "source": [
    "from langchain.llms import GooglePalm"
   ]
  },
  {
   "cell_type": "code",
   "execution_count": 11,
   "id": "a80058fd",
   "metadata": {},
   "outputs": [],
   "source": [
    "api_key = \"COPY_GOOGLE_API_KEY\"\n",
    "llm = GooglePalm(google_api_key=api_key, temperature=0.8 )"
   ]
  },
  {
   "cell_type": "code",
   "execution_count": 15,
   "id": "e8d91496",
   "metadata": {},
   "outputs": [
    {
     "data": {
      "text/plain": [
       "'doing fine'"
      ]
     },
     "execution_count": 15,
     "metadata": {},
     "output_type": "execute_result"
    }
   ],
   "source": [
    "llm(\"how are you \")"
   ]
  },
  {
   "cell_type": "code",
   "execution_count": 16,
   "id": "0105b2ee",
   "metadata": {},
   "outputs": [],
   "source": [
    "from langchain.document_loaders.csv_loader import CSVLoader\n"
   ]
  },
  {
   "cell_type": "code",
   "execution_count": 18,
   "id": "42e36c3a",
   "metadata": {},
   "outputs": [
    {
     "data": {
      "text/plain": [
       "[Document(page_content='prompt: I have never done programming in my life. Can I take this bootcamp?\\nresponse: Yes, this is the perfect bootcamp for anyone who has never done coding and wants to build a career in the IT/Data Analytics industry or just wants to perform better in your current job or business using data.', metadata={'source': 'I have never done programming in my life. Can I take this bootcamp?', 'row': 0}),\n",
       " Document(page_content='prompt: Why should I trust Codebasics?\\nresponse: Till now 9000 + learners have benefitted from the quality of our courses. You can check the review section and also we have attached their LinkedIn profiles so that you can connect with them and ask directly.', metadata={'source': 'Why should I trust Codebasics?', 'row': 1}),\n",
       " Document(page_content='prompt: Is there any prerequisite for taking this bootcamp ?\\nresponse: Our bootcamp is specifically designed for beginners with no prior experience in this field. The only prerequisite is that you need to have a functional laptop with at least 4GB ram, an internet connection, and a thrill to learn data analysis.', metadata={'source': 'Is there any prerequisite for taking this bootcamp ?', 'row': 2}),\n",
       " Document(page_content='prompt: What datasets are used in this bootcamp? Is it some toy datasets or\\n something that mimics a real-world business problem?\\nresponse: The datasets used in this bootcamp are crafted from scratch to mimic the real business world by consolidating our years of experience. The datasets not just contain more than a million rows but also cover multiple facets of the business.', metadata={'source': 'What datasets are used in this bootcamp? Is it some toy datasets or\\n something that mimics a real-world business problem?', 'row': 3}),\n",
       " Document(page_content='prompt: I’m not sure if this bootcamp is good enough for me to invest some \\nmoney. What can I do?\\nresponse: We got you covered. Go ahead and watch our youtube videos if you like them and want to learn further then this bootcamp is the perfect extension.', metadata={'source': 'I’m not sure if this bootcamp is good enough for me to invest some \\nmoney. What can I do?', 'row': 4}),\n",
       " Document(page_content='prompt: How can I contact the instructors for any doubts/support?\\nresponse: We have created every lecture with a motive to explain everything in an easy-to-understand manner. While working on these lectures you could make mistakes in steps or have some doubts. You need to commit yourself to hold patience, make efforts & diagnose the errors yourself by googling in order to become truly job ready. For any questions, that Google cannot answer or if you hit a wall - we got you covered! You can join our active discord community. which is a dedicated platform to discuss & clear your doubts with fellow learners & mentors.', metadata={'source': 'How can I contact the instructors for any doubts/support?', 'row': 5}),\n",
       " Document(page_content='prompt: What if I don’t like this bootcamp?\\nresponse: As promised we will give you a 100% refund based on the guidelines (Please refer to our course refund policy before enrolling).', metadata={'source': 'What if I don’t like this bootcamp?', 'row': 6}),\n",
       " Document(page_content='prompt: Does this bootcamp have lifetime access?\\nresponse: Yes', metadata={'source': 'Does this bootcamp have lifetime access?', 'row': 7}),\n",
       " Document(page_content='prompt: What is the duration of this bootcamp? How long will it last?\\nresponse: You can complete all courses in 3 months if you dedicate 2-3 hours per day.', metadata={'source': 'What is the duration of this bootcamp? How long will it last?', 'row': 8}),\n",
       " Document(page_content='prompt: Can I attend this bootcamp while working full time?\\nresponse: Yes. This bootcamp is self-paced. You can learn on your own schedule.', metadata={'source': 'Can I attend this bootcamp while working full time?', 'row': 9}),\n",
       " Document(page_content='prompt: What kind of skills can I expect to learn in this bootcamp?\\nresponse: You can expect to learn tech skills like Python, Excel, SQL, and Power BI along with other skills like basic project management, stakeholder management, communication skills, and Business knowledge for domains like Finance, Supply chain, Sales, and Marketing.', metadata={'source': 'What kind of skills can I expect to learn in this bootcamp?', 'row': 10}),\n",
       " Document(page_content='prompt: Do you provide any job assistance?\\nresponse: Yes, We help you with resume and interview preparation along with that we help you in building online credibility, and based on requirements we refer candidates to potential recruiters.', metadata={'source': 'Do you provide any job assistance?', 'row': 11}),\n",
       " Document(page_content='prompt: Is this bootcamp enough for me in Microsoft Power BI and\\n Excel certifications?\\nresponse: Yes, this bootcamp will certainly help because we cover the majority of the skills measured in these exams. However, please be informed that this course focuses on Job ready aspects and not on all aspects required to clear the exams. In addition to this course, you might need to visit the official learning material designed by Microsoft which is available for free on their website.', metadata={'source': 'Is this bootcamp enough for me in Microsoft Power BI and\\n Excel certifications?', 'row': 12}),\n",
       " Document(page_content='prompt: Do we have an EMI option?\\nresponse: No', metadata={'source': 'Do we have an EMI option?', 'row': 13}),\n",
       " Document(page_content='prompt: Do you provide any virtual internship?\\nresponse: Yes', metadata={'source': 'Do you provide any virtual internship?', 'row': 14}),\n",
       " Document(page_content='prompt: Will this bootcamp guarantee me a job?\\nresponse: The courses included in this bootcamp are done by 9000+ learners and many of them have secured a job which gives us ample confidence that you will be able to get a job. However, we want to be honest and do not want to make any impractical promises! Our guarantee is to prepare you for the job market by teaching the most relevant skills, knowledge & timeless principles good enough to fetch the job.', metadata={'source': 'Will this bootcamp guarantee me a job?', 'row': 15}),\n",
       " Document(page_content='prompt: I have zero knowledge of Excel and belong to a non-technical\\n background. Can I take this course?\\nresponse: Yes, this is the perfect course for anyone who has never worked on excel and wants to build a career in the IT/Data Analytics industry or just wants to perform better in their current job or business using data.', metadata={'source': 'I have zero knowledge of Excel and belong to a non-technical\\n background. Can I take this course?', 'row': 16}),\n",
       " Document(page_content='prompt: What are the things I need to know before starting this course?\\nresponse: This course is for absolute beginners hence you do not need any specific skills other than basic familiarity with computers', metadata={'source': 'What are the things I need to know before starting this course?', 'row': 17}),\n",
       " Document(page_content='prompt: What is different in this course compared to hundreds of courses on the internet and free tutorials on YouTube?\\nresponse: Most of the courses available on the internet teach you how to build x & y without any business context and do not prepare you for real business world problem-solving. This course is rather an experience in which you will learn Excel by solving real-life use cases in an imaginary company called AtliQ Hardware. The tutorials are very easy to understand and also have a lot of fun elements into them so that you don’t get bored ??', metadata={'source': 'What is different in this course compared to hundreds of courses on the internet and free tutorials on YouTube?', 'row': 18}),\n",
       " Document(page_content='prompt: Can I add this course to my resume?\\nresponse: Yes. Absolutely you can mention the AtliQ Hardware project experience in your resume with the relevant skills that you will learn from this course', metadata={'source': 'Can I add this course to my resume?', 'row': 19}),\n",
       " Document(page_content='prompt: I’m not sure if this course is good enough for me to invest some money. What can I do?\\nresponse: Don’t worry. Many videos in this course are free so watch them to get an idea of the quality of teaching. Dhaval Patel (the course instructor) runs a popular data science YouTube channel called Codebasics. On that, you can watch his videos and read comments to get an idea of his teaching style', metadata={'source': 'I’m not sure if this course is good enough for me to invest some money. What can I do?', 'row': 20}),\n",
       " Document(page_content='prompt: What dataset is used in this course? Is it some toy dataset or something that mimics a real-world problem?\\nresponse: For initial basics, we have used a toy dataset of movies but for advanced concepts, we used a dataset that is crafted to mimic the real business world by consolidating our years of experience and the FMCG industry. That dataset contains more than 1 million records.', metadata={'source': 'What dataset is used in this course? Is it some toy dataset or something that mimics a real-world problem?', 'row': 21}),\n",
       " Document(page_content='prompt: Once purchased, is this course available for lifetime access?\\nresponse: Yes', metadata={'source': 'Once purchased, is this course available for lifetime access?', 'row': 22}),\n",
       " Document(page_content='prompt: How can I get help if I have a doubt and need support?\\nresponse: We have an active discord server where you can post your question and most of the time you will get an answer in a reasonable time frame.', metadata={'source': 'How can I get help if I have a doubt and need support?', 'row': 23}),\n",
       " Document(page_content='prompt: I have never done programming and belong to a non-technical background. Can I take this course?\\nresponse: Yes, this is the perfect course for anyone who has never done coding and wants to build a career in the IT/Data Analytics industry or just wants to perform better in their current job or business using data.', metadata={'source': 'I have never done programming and belong to a non-technical background. Can I take this course?', 'row': 24}),\n",
       " Document(page_content='prompt: I don’t have a laptop, can I take this course?\\nresponse: We recommend learning by doing and therefore you need to have a laptop or a PC (at least 4 GB ram).', metadata={'source': '\\nI don’t have a laptop, can I take this course?', 'row': 25}),\n",
       " Document(page_content='prompt: Will the course help me in PL - 300 Microsoft exam preparation?\\nresponse: Yes, this course will certainly help because we cover the majority of the skills measured in the PL - 300 exam in this course. However, please be informed that this course focuses on Job ready aspects and not on all aspects required to clear PL - 300 exam. In addition to this course, you might need to visit the official learning material designed by Microsoft which is available for free -> https://docs.microsoft.com/en-us/certifications/exams/pl-300?tab=tab-learning-paths', metadata={'source': 'Will the course help me in PL - 300 Microsoft exam preparation?', 'row': 26}),\n",
       " Document(page_content='prompt: Will the course be upgraded when there are new features in Power BI?\\nresponse: Yes, the course will be upgraded periodically based on the new features in Power BI, and learners who have already bought this course will have free access to the upgrades.', metadata={'source': 'Will the course be upgraded when there are new features in Power BI?', 'row': 27}),\n",
       " Document(page_content='prompt: I use tableau, can I take this course?\\nresponse: Yes, you will still benefit from the concepts outside the tools that are discussed in this course such as business context, problem solving, project management tools, etc.', metadata={'source': 'I use tableau, can I take this course?', 'row': 28}),\n",
       " Document(page_content='prompt: Power BI or Tableau which one is better?\\nresponse: This is a contextual question. If you are talking about a pure visualization tool Tableau is slightly better. Data connectors, modeling and transformation features are available in both. However, factually speaking Power BI is cheaper and offers tighter integration with the Microsoft environment. Since most companies use excel & Microsoft tools they start with Power BI or move towards Power BI for seamless integration with other Microsoft tools (called as Power platform). This makes the job openings grow at a much higher rate on Power BI and Power Platform. Also, Power BI has been leading the Gartner’s magic quadrant in BI for the last few years as the industry leader.', metadata={'source': '\\nPower BI or Tableau which one is better?', 'row': 29}),\n",
       " Document(page_content='prompt: What dataset is used in this course? Is it some Toy dataset or something that mimics a real-world business problem?\\nresponse: The dataset used in this course is crafted from scratch to mimic the real business world by consolidating our years of experience. The dataset not just contains more than a million rows but also covers multiple facets of business data such as sales, finance, targets, forecasts, products, etc.', metadata={'source': 'What dataset is used in this course? Is it some Toy dataset or something that mimics a real-world business problem?', 'row': 30}),\n",
       " Document(page_content='prompt: Does Power BI work in Mac OS/Ubuntu?\\nresponse: Power BI desktop works only in Windows OS. Please look into the system requirements section on this page. However, you can use a virtual machine to install and work with Power BI in other Operating systems.', metadata={'source': 'Does Power BI work in Mac OS/Ubuntu?', 'row': 31}),\n",
       " Document(page_content='prompt: What business concepts and domains are covered in this course?\\nresponse: We have covered the core functions such as Sales, Marketing, Finance, and Supply Chain with their fundamentals related to this course. The domain you will learn in this course is consumer goods which is projected to have more openings and high data analytics requirements at least until 2030.', metadata={'source': 'What business concepts and domains are covered in this course?', 'row': 32}),\n",
       " Document(page_content='prompt: Will this course guarantee me a job?\\nresponse: We created a much lighter version of this course on YouTube available for free (click this link) and many people gave us feedback that they were able to fetch jobs (see testimonials). Now this paid course is at least 5x better than the YouTube course which gives us ample confidence that you will be able to get a job. However, we want to be honest and do not want to make any impractical promises! Our guarantee is to prepare you for the job market by teaching the most relevant skills, knowledge & timeless principles good enough to fetch the job.', metadata={'source': 'Will this course guarantee me a job?', 'row': 33}),\n",
       " Document(page_content='prompt: Can I add this course to my resume? If Yes, how?\\nresponse: Absolutely, we have a section in this course explaining how you can add the learnings from this course in your resume that will appeal to the hiring team.', metadata={'source': 'Can I add this course to my resume? If Yes, how?', 'row': 34}),\n",
       " Document(page_content='prompt: Is there any prerequisite for taking this course?\\nresponse: The only prerequisite is that you need to have a functional laptop with at least 4GB ram, internet connection and a thrill to learn data analysis.', metadata={'source': 'Is there any prerequisite for taking this course?', 'row': 35}),\n",
       " Document(page_content='prompt: What is different in this course from thousands of other Power BI courses available online?\\nresponse: Most of the courses available on the internet teach you how to build x & y without any business context and do not prepare you for the real business world. This course is rather an experience in which you will learn how to use Power BI & other non-technical skills to solve a real-life business problem using analytics. Here you focus on solving a business problem and in that process learn how Power BI can be used as a tool. This is how you will do the work when you start working as a data analyst/ Business analyst/ Power BI developer in the industry. This course will prepare you for not just fetching the job but, shine in it & grow further.', metadata={'source': 'What is different in this course from thousands of other Power BI courses available online?', 'row': 36}),\n",
       " Document(page_content='prompt: I already know basic Power BI, what benefit do I get by taking this course?\\nresponse: This course is taught through a true end-to-end project in a Consumer goods company involving all the steps mimicking the real business environment, so you will learn how to execute end-to-end projects Power BI projects successfully along with the business fundamentals. You will learn a lot of extra things such as Project management tools, effective communication techniques & organizational nuances.', metadata={'source': 'I already know basic Power BI, what benefit do I get by taking this course?', 'row': 37}),\n",
       " Document(page_content='prompt: How to install power pivot if its not available in system?\\nresponse: Follow this thread for instructions - https://support.microsoft.com/en-us/office/start-the-power-pivot-add-in-for-excel-a891a66d-36e3-43fc-81e8-fc4798f39ea8\\nIf it doesn\\'t show in the ribbon then go to \"insert\" tab. You will be able to see pivot table option there.', metadata={'source': 'How to install power pivot if its not available in system?', 'row': 38}),\n",
       " Document(page_content='prompt: Hi all, could someone please help me understand what I am writing wrong in this code?\\nresponse: Go to ChatGPT (https://chat.openai.com/) and type this command\\n\\nDebug me this code ( copy paste your code)\\n\\n\\nWhy I am suggesting this way is once you learn it you will love it. \\nAnd it will be SUPER USEFUL in your career when you get a data analyst jobs. Companies love folks who are capable of finding their answers on their own (Using Google, ChatGPT etc.)', metadata={'source': 'Hi all, could someone please help me understand what I am writing wrong in this code?', 'row': 39}),\n",
       " Document(page_content='prompt: I am getting this error, what is wrong?\\nresponse: Go to ChatGPT (https://chat.openai.com/) and type this command\\n\\nDebug me this code ( copy paste your code) and also provide the error you are getting\\n\\n\\nWhy I am suggesting this way is once you learn it you will love it. \\nAnd it will be SUPER USEFUL in your career when you get a data analyst jobs. Companies love folks who are capable of finding their answers on their own (Using Google, ChatGPT etc.)', metadata={'source': 'I am getting this error, what is wrong?', 'row': 40}),\n",
       " Document(page_content=\"prompt: Hey all, I've been trying this for past one hour but not working. \\nI am getting this error in my SQL code, what could be wrong?\\nresponse: Go to ChatGPT (https://chat.openai.com/) and type this command\\n\\nDebug me this code ( copy paste your code) and also provide the error you are getting\\n\\n\\nWhy I am suggesting this way is once you learn it you will love it. \\nAnd it will be SUPER USEFUL in your career when you get a data analyst jobs. Companies love folks who are capable of finding their answers on their own (Using Google, ChatGPT etc.)\", metadata={'source': \"Hey all, I've been trying this for past one hour but not working. \\nI am getting this error in my SQL code, what could be wrong?\", 'row': 41}),\n",
       " Document(page_content='prompt: when I am entering the index match formula in the cell outside the table it is working and when i enter the same formula inside the table cell it is showing a SPILL! error ..why?\\nresponse: Go to ChatGPT (https://chat.openai.com/) and ask this same question.\\n\\nWhy I am suggesting this way is once you learn it you will love it. \\nAnd it will be SUPER USEFUL in your career when you get a data analyst jobs. Companies love folks who are capable of finding their answers on their own (Using Google, ChatGPT etc.)', metadata={'source': 'when I am entering the index match formula in the cell outside the table it is working and when i enter the same formula inside the table cell it is showing a SPILL! error ..why?', 'row': 42}),\n",
       " Document(page_content=\"prompt: I am not allowing to post doubt in the discord group\\nresponse: Sure I can guide you\\n\\nGo to the 'click-here-to-ask-questions' section and verify yourself here by clicking on the checkmark.\", metadata={'source': 'I am not allowing to post doubt in the discord group', 'row': 43}),\n",
       " Document(page_content='prompt: How can I use PowerBI on my Mac system?\\nresponse: Hi\\n\\nYou can use VirtualBox to create a virtual machine and install Windows on it. This will allow you to run Power BI and Excel on your Mac.\\n\\nIf you\\'re not familiar with setting up a virtual machine, there are many resources available on YouTube that can guide you through the process. Simply search for \"installing virtual machines\" and you\\'ll find plenty of helpful videos.\\n\\nBest of luck with your studies!', metadata={'source': 'How can I use PowerBI on my Mac system?', 'row': 44}),\n",
       " Document(page_content='prompt: In sales analytics chapter , when creating pivot table a blank column is getting added. How to solve this?\\nresponse: Hi, please check these instructions.\\n\\nOption - 1:\\nIf you are from India, you can change your system default date format to India, then restart your computer once. and see, whether it fixed your issue or not. Else you can follow the second option.\\n\\nOption - 2:\\n\\n1. Reason for the Issue:\\nIn the dim_date table, the date is in dd/mm/yyyy format. Whereas the fact table is in mm/dd/yyyy format. Because of the different formats, causing the issue. Power BI/Excel will likely use your system\\'s default date format whenever you open any file. This could cause the date format issue - dd/mm/yyyy --- mm/dd/yyyy. Please look for this whenever you face issues with values mismatch.\\n\\n2. Steps to resolve:\\n    1. Change the data type of the date column to ‘Date’ if it is in ‘Date/Time’ format. Skip this step if it is already in ‘Date’ format.\\n    2. Create a new custom column in the fact_sales_monthly table. you can name it date_modified or any other name accordingly.\\n    Formula\\n    = Date.ToText([date],\"yyyy\") & \"/\" & Text.PadStart(Text.From(Date.Day([date])),2,\"0\") & \"/\" & Text.PadStart(Text.From(Date.Month([date])),2,\"0\")\\n    3. change the data type of the above-created column to date.\\n    4. In Power Pivot, Go to the \\'Manage\\' tab and select the \\'Diagram\\' view. Map the date column in the \\'dim_date\\' table with the newly created column in the \\'fact_sales_monthly\\' table. Make sure to delete the previous relationship (date from fact_sales_month).', metadata={'source': 'In sales analytics chapter , when creating pivot table a blank column is getting added. How to solve this?', 'row': 45}),\n",
       " Document(page_content='prompt: why row and value option is not showing for the visual in PowerBI , any setting need to be change, please let me know?\\nresponse: You have selected Table Visual instead of Matrix. That is why you are seeing a different interface.', metadata={'source': 'why row and value option is not showing for the visual in PowerBI , any setting need to be change, please let me know?', 'row': 46}),\n",
       " Document(page_content='prompt: Hello, I have a issue to calculate WHF%. Can you give me numbers for checklist and debbuging?\\nresponse: Hello \\n\\nPlease confirm whether you got these values right!\\n\\nBefore Data Cleaning Stats:\\nNumber of rows: 6336\\nNumber of distinct employees: 198\\nNumber of distinct employee_id: 106\\n\\nAfter Data Cleaning Stats:\\nNumber of rows: 6208\\nNumber of distinct employees: 99\\nNumber of distinct employee_id: 74\\n\\nIf these values are not matching, I highly suggest doing the data-cleaning steps correctly (mainly removing duplicates)', metadata={'source': 'Hello, I have a issue to calculate WHF%. Can you give me numbers for checklist and debbuging?', 'row': 47}),\n",
       " Document(page_content=\"prompt: How do become good and comfortable with SQL?\\nresponse: To master SQL, we need to practice it every day and keep in touch with it all the time.\\n\\n---\\nHere are some references where you can practice daily. First start with easy problems, then medium, and finally hard questions. Don't directly jump into Hard questions.\\n- Hacker rank: https://www.hackerrank.com/domains/sql\\n- Leetcode: https://leetcode.com/problemset/database/\\n- Datalemur: https://datalemur.com/\\n---\\n\\nI have created a LinkedIn post attaching some youtube resources which discussed interview-related problems and help to solve interesting questions. check out this too.\\nLink:  https://www.linkedin.com/posts/kirandeepmarala_sql-careers-data-activity-7012258071334854656-jRgf?utm_source=share&utm_medium=member_desktop\\n---\\n\\nAlso, I highly recommend participating in the Codebasics SQL challenge, which has been conducted in the past, as it can help you brush up on your skills and provide an opportunity to test your knowledge further\\nLink:  https://codebasics.io/challenge/codebasics-resume-project-challenge  (Challenge #4)\", metadata={'source': 'How do become good and comfortable with SQL?', 'row': 48}),\n",
       " Document(page_content='prompt: Why SUM() function not working in my Excel?\\nresponse: Because of having  #N/A values, the SUM() function is not working as expected.\\n\\nso we need to handle this case by filling the #N/A(not available) with 0.\\n\\nThread for further explanation: https://discord.com/channels/1090613684163850280/1107909641989525524/1107926537988227073', metadata={'source': 'Why SUM() function not working in my Excel?', 'row': 49}),\n",
       " Document(page_content='prompt: What is the difference between Business Analyst Vs Data Analyst\\nresponse: While both business analysts and data analysts work with data, they have different focuses and responsibilities. Here are some key distinctions:\\n\\n1. Focus: Business analysts focus on the business side of things, such as business processes, workflows, and strategies. They use data analysis to identify business problems, opportunities, and solutions. Data analysts, on the other hand, focus on the data itself. They collect, process, and analyze data to extract insights and make data-driven decisions.\\n2. Skill set: Business analysts need to have strong communication, problem-solving, and strategic thinking skills, as they often work closely with stakeholders and decision-makers to identify business needs and develop solutions. They also need to have some knowledge of data analysis, such as data visualization and basic statistical analysis. Data analysts, on the other hand, need to have a strong foundation in data analysis and programming skills, such as SQL, Python, etc. They also need to have a good understanding of data visualization and statistical analysis to derive insights from the data.\\n3. Tools: Business analysts typically use tools like spreadsheets, business process modeling software, and business intelligence (BI) tools to analyze data and create reports. Data analysts use more advanced tools like statistical software, programming languages, and database management systems to collect, process, and analyze data.\\n4. Outputs: Business analysts typically produce reports, presentations, and recommendations based on their analysis of the data. Data analysts produce statistical models, visualizations, and reports to help stakeholders understand the data and make informed decisions.\\n\\nI recommend watching this video by Dhaval sir which explained more details: https://www.youtube.com/watch?v=7sFRpbPKTG4&t=1s', metadata={'source': 'What is the difference between Business Analyst Vs Data Analyst', 'row': 50}),\n",
       " Document(page_content=\"prompt: Can you state the distinction among the SAMEPERIODLASTYEAR(), PARALLELPERIOD(), and DATEADD() function in Power BI?\\nresponse: Here is the brief explanation.\\n\\nSAMEPERIODLASTYEAR() compares the given period with the exact same period of last year as the name suggests. But it has a limitation like King of the chess board - it can go only compare 1 year backward for a given day, month, week, or quarter. If you want to go backward or forward or if you need to go 3 or 6 months/years/days you need to use DATEADD().\\n\\nDATEADD() is more like the queen of the chessboard. It is very dynamic as it compares a day, month, quarter, year, etc. over any specified no. of time period.\\n\\nPARALLELPERIOD() works exactly like DATEADD() but there is a minor difference. Parallelperiod() does not work dynamically like DATEADD().\\n\\nFor example, if you use PARALLELPERIOD() to get the previous month's value for dates between 1/5/2023 - 12/5/2023..it will compare these 12 days with the entire previous month of April 2023 (1/4/2023 - 30/4/2023) whereas DATEADD will compare the exact same days (1/4/2023- 12/4/2023).\\n\\nLikewise, if you use PARALLELPERIOD() to get the previous year's value for dates between 1/1/2023 - 12/5/2023..it will compare this time period with the entire previous year 2022 (1/1/2022 - 31/12/2022) whereas DATEADD will compare the exact same period (1/1/2022- 12/5/2022).\\n\\nRefer this thread for more info: https://discord.com/channels/1090613684163850280/1106528524023648326\", metadata={'source': 'Can you state the distinction among the SAMEPERIODLASTYEAR(), PARALLELPERIOD(), and DATEADD() function in Power BI?', 'row': 51}),\n",
       " Document(page_content=\"prompt: My Excel Excel VLookup() showing formula instead of result\\nresponse: Solution1:\\n\\nPlease check the cell type, if it is 'text', change that to 'general', and once hit enter execute the formula.\\n\\nSolution2:\\n\\nThe primary reason for this issue is the accidental enabling of the 'show formulas' mode.\\n To gain more clarity and resolve the problem, please refer to the following resource: https://exceljet.net/articles/excel-shows-formula-not-result\", metadata={'source': 'My Excel Excel VLookup() showing formula instead of result', 'row': 52}),\n",
       " Document(page_content='prompt: I have a doubt regarding Vlookup() giving zero values in Exercise-3.\\nresponse: check this demo video to fix the issue: https://drive.google.com/file/d/1gp0krl2wMN0YhZYja3IKmt59SBsUK7xB/view?usp=share_link', metadata={'source': 'I have a doubt regarding Vlookup() giving zero values in Exercise-3.', 'row': 53}),\n",
       " Document(page_content='prompt: i am unable to import data from mysql in power bi ,connector issue is coming continuously i have done all steps according to connector pdf still its not resolving please guide\\nresponse: Please refer to this thread: https://discord.com/channels/1090613684163850280/1107992760105054238/1107993007606730802', metadata={'source': 'i am unable to import data from mysql in power bi ,connector issue is coming continuously i have done all steps according to connector pdf still its not resolving please guide', 'row': 54}),\n",
       " Document(page_content='prompt: Do data analysts need to learn database design?\\nresponse: As a data analyst, it is not typically expected that you would be responsible for creating a database from scratch. However, you may be involved in designing the structure and schema of a database, as well as configuring and populating it with data.\\n\\nCreating a database usually falls under the purview of a database administrator (DBA) or a data engineer. These roles are focused on the technical aspects of database design, implementation, and maintenance.\\n\\nAs a data analyst, your primary responsibilities would typically include querying and analyzing data within an existing database, creating reports and visualizations to communicate insights, and helping to inform business decisions based on data analysis. However, depending on the organization and the specific role, there may be some overlap or variation in responsibilities.', metadata={'source': 'Do data analysts need to learn database design?', 'row': 55}),\n",
       " Document(page_content='prompt: Can you explain me more about the foreign key?\\nresponse: A foreign key is a column or set of columns in a table that refers to the primary key of another table. It is used to establish a relationship between two tables in a relational database. The primary key of one table is used as a foreign key in another table to link the data between the tables.\\n\\nFor example, let\\'s say we have two tables in a database: a \"customers\" table and an \"orders\" table. The customer\\'s table has a primary key column called \"customer_id\", and the orders table has a foreign key column called \"customer_id\" that references the \"customer_id\" column in the customer\\'s table.\\n\\nBy establishing this relationship between the two tables, we can ensure that every order in the orders table is associated with a valid customer in the customer\\'s table.', metadata={'source': 'Can you explain me more about the foreign key?', 'row': 56}),\n",
       " Document(page_content='prompt: I\\'m experiencing an issue where the target value appears the same in every row, and it is incorrect. Can you please help me understand why this is happening?\\nresponse: That is happening because you are pulling \"market\" from wrong table\\nPull \"Market\" From dim_market\\n\\nCheck out this thread : https://discord.com/channels/1090613684163850280/1108671672434839562/1108672494958817301', metadata={'source': \"I'm experiencing an issue where the target value appears the same in every row, and it is incorrect. Can you please help me understand why this is happening?\", 'row': 57}),\n",
       " Document(page_content='prompt: Hello Everyone, I am using 2016 excel. So far, I have noticed there are few functions which are not available in 2016 Excel like xlookup, unique etc. is there any option \\navailable other than buying new updated version ?\\nresponse: Here are some add-in links. Please go through the videos , you will be able to use those functions in your Excel version. \\n\\n? UNIQUE function:\\n?? https://youtu.be/wiCH-YTacKU\\n\\n?XLOOKUP function: \\n?? https://www.youtube.com/watch?v=NWZaM7ZbE3Q\\nor,\\n?? https://www.youtube.com/watch?v=e60-J_u-K7o\\n\\n?? https://www.youtube.com/watch?v=TUTMfhCS62M', metadata={'source': 'Hello Everyone, I am using 2016 excel. So far, I have noticed there are few functions which are not available in 2016 Excel like xlookup, unique etc. is there any option \\navailable other than buying new updated version ?', 'row': 58}),\n",
       " Document(page_content='prompt: Can someone help me to create same chart exactly like this. I have created more than half of it. I want to add quadrant labels. Low medium high on x & y axis\\nresponse: Check this thread for instructions : https://discord.com/channels/1090613684163850280/1107745807848980490/1107746891418058762', metadata={'source': 'Can someone help me to create same chart exactly like this. I have created more than half of it. I want to add quadrant labels. Low medium high on x & y axis', 'row': 59}),\n",
       " Document(page_content=\"prompt: whenever I am loading fact_sales_monthly table in Power query not all columns are visible\\nresponse: Have you taken SQL course in Codebasics first ?\\nIf yes, delete the existing databases in MySQL workbench and re-import again. After this go to 'Home' tab in Power Query and click on Refresh button and see if it works any.\\n\\nCheck this reference too: https://discordapp.com/channels/1090613684163850280/1111180401478746163/1111190746507251732\", metadata={'source': 'whenever I am loading fact_sales_monthly table in Power query not all columns are visible', 'row': 60}),\n",
       " Document(page_content=\"prompt: The fact_sales_monthly table seems to be missing. Could you please provide information about why it is not available?\\nresponse: Delete the existing databases in MySQL workbench and re-import again. After this go to 'Home' tab in Power Query and click on Refresh button and see if it works any.\", metadata={'source': 'The fact_sales_monthly table seems to be missing. Could you please provide information about why it is not available?', 'row': 61}),\n",
       " Document(page_content='prompt: I am getting this error in PowerBI, \\n\\n\"there are pending changes in your queries that have havent been applied\"\\n\\nAny suggestions to solve it?\\nresponse: To resolve the annoying message, follow these steps:\\n1. Access Power Query by selecting \\'Transform Data.\\'\\n2. Click on \\'Refresh Preview\\' and then choose \\'Refresh All\\' to run a refresh on the tables.\\n3. After completing the refresh, select \\'Close & Apply\\' to save the changes.\\nBy following these steps, the annoying message should disappear.\\n\\nCheck this reference for further details: https://community.fabric.microsoft.com/t5/Desktop/quot-There-are-pending-changes-in-your-queries-that-haven-t-been/td-p/1142424\\nHope this helps!', metadata={'source': 'I am getting this error in PowerBI, \\n\\n\"there are pending changes in your queries that have havent been applied\"\\n\\nAny suggestions to solve it?', 'row': 62}),\n",
       " Document(page_content='prompt: I am encountering an error with the pre-invoice discount where I am receiving \"0\" values. Could you assist me in resolving this issue?\\nresponse: To troubleshoot the issue, please consider the following steps:\\n\\n1. Verify your data modeling by accessing \"Manage Relationships.\"\\n2. Review the measures you have created for any potential errors or inconsistencies.\\n3. Ensure that the column format is set correctly as the \"Fixed Decimal Number\" type.\\nBy examining these aspects, you can address the pre-invoice discount error and resolve the issue.\\n\\nCheck this reference for further details: https://discordapp.com/channels/1090613684163850280/1106513101693669466/1106516289905766433', metadata={'source': 'I am encountering an error with the pre-invoice discount where I am receiving \"0\" values. Could you assist me in resolving this issue?', 'row': 63}),\n",
       " Document(page_content='prompt: The year column is missing in the P&L check. How can I resolve this issue and obtain the year column?\\nresponse: Check this reference:\\n https://discord.com/channels/1090613684163850280/1111101322406658098/1111137901816848494', metadata={'source': 'The year column is missing in the P&L check. How can I resolve this issue and obtain the year column?', 'row': 64}),\n",
       " Document(page_content='prompt: There are missing values in the P&L check. How can I address this issue and handle the missing values appropriately?\\nresponse: Check this reference:\\nhttps://discordapp.com/channels/1090613684163850280/1108980495477395486/1109016973662240848', metadata={'source': 'There are missing values in the P&L check. How can I address this issue and handle the missing values appropriately?', 'row': 65}),\n",
       " Document(page_content='prompt: How can I rearrange the column order in the P&L check? I would like to change the order of the columns.\\nresponse: Check this reference:\\nhttps://discord.com/channels/1090613684163850280/1112342820930453516/1112399292792062022', metadata={'source': 'How can I rearrange the column order in the P&L check? I would like to change the order of the columns.', 'row': 66}),\n",
       " Document(page_content='prompt: Why is the year 2018 missing or disappeared?\\nresponse: Check this reference:\\nhttps://discordapp.com/channels/1090613684163850280/1111545547426369637/1111563527753318430', metadata={'source': 'Why is the year 2018 missing or disappeared?', 'row': 67}),\n",
       " Document(page_content=\"prompt: I'm experiencing a flat line in the Line chart of the Finance View. How can I address this issue and ensure the chart displays the expected data correctly?\\nresponse: Check this reference:\\nhttps://discord.com/channels/1090613684163850280/1112243985784774687/1112244353126113302\", metadata={'source': \"I'm experiencing a flat line in the Line chart of the Finance View. How can I address this issue and ensure the chart displays the expected data correctly?\", 'row': 68}),\n",
       " Document(page_content='prompt: During the process of creating the line chart for forecast accuracy vs month in the Supply Chain View, I encountered an issue with the visual representation.\\nThe problem occurred at the 5:00-minute mark. I selected the year 2021, expecting the graph to display data only from September 2020 to August 2021.\\nHowever, instead of the desired timeframe, the chart displayed data from all months between 2017 and 2022.\\n\\nHow to solve and fix this issue?\\nresponse: Check this reference:\\nhttps://discordapp.com/channels/1090613684163850280/1113690341929918505/1113750218618445824', metadata={'source': 'During the process of creating the line chart for forecast accuracy vs month in the Supply Chain View, I encountered an issue with the visual representation.\\nThe problem occurred at the 5:00-minute mark. I selected the year 2021, expecting the graph to display data only from September 2020 to August 2021.\\nHowever, instead of the desired timeframe, the chart displayed data from all months between 2017 and 2022.\\n\\nHow to solve and fix this issue?\\n', 'row': 69}),\n",
       " Document(page_content='prompt: It appears that the X-axis of the chart is not starting with the month of September as expected. Instead, it is starting with a different month.\\nHow to solve this?\\nresponse: Check this reference:\\nhttps://discordapp.com/channels/1090613684163850280/1112567189724213339/1112596364862423090', metadata={'source': 'It appears that the X-axis of the chart is not starting with the month of September as expected. Instead, it is starting with a different month.\\nHow to solve this?', 'row': 70}),\n",
       " Document(page_content='prompt: Why we use Net error in place of absolute net error\\nresponse: Directional Insight: The net error metric offers valuable information regarding the direction of the error in forecasting, distinguishing between positive (overestimation) and negative (underestimation) values. This enables the identification of specific products that consistently outperform or underperform relative to the expected values. Additionally, net error provides insights into the risk factor, indicating if there are instances of stockouts or excessive inventory levels.', metadata={'source': 'Why we use Net error in place of absolute net error', 'row': 71}),\n",
       " Document(page_content=\"prompt: I am encountering an issue where the NIS IND column has the same value in all rows. As a result, I am unable to obtain the correct value for the benchmark variable.\\n How can I address this problem and obtain accurate benchmark values?\\nresponse: Have you taken the 'market' column from dim_market? Can you please check again. \\n\\nCheck this reference for further details: https://discordapp.com/channels/1090613684163850280/1107202294476443789/1107208944931311647\", metadata={'source': 'I am encountering an issue where the NIS IND column has the same value in all rows. As a result, I am unable to obtain the correct value for the benchmark variable.\\n How can I address this problem and obtain accurate benchmark values?', 'row': 72}),\n",
       " Document(page_content='prompt: How do I update source in power query ?\\nresponse: Follow the discord link : \\n\\n https://discord.com/channels/1090613684163850280/1114113976616353832/1114121330925768754', metadata={'source': 'How do I update source in power query ?', 'row': 73}),\n",
       " Document(page_content='prompt: How do I enable Power Pivot before using it for the first time ?\\nresponse: Follow the process in the link : \\n\\nhttps://drive.google.com/file/d/1-mO-v52h-YTY1s-v30liBJPu6Yj4OUxb/view?usp=share_link', metadata={'source': 'How do I enable Power Pivot before using it for the first time ?', 'row': 74})]"
      ]
     },
     "execution_count": 18,
     "metadata": {},
     "output_type": "execute_result"
    }
   ],
   "source": [
    "loader = CSVLoader(file_path='Csv_file', source_column = \"prompt\")\n",
    "data = loader.load()\n",
    "data"
   ]
  },
  {
   "cell_type": "code",
   "execution_count": 20,
   "id": "1b954ca7",
   "metadata": {},
   "outputs": [],
   "source": [
    "from langchain.embeddings import HuggingFaceInstructEmbeddings\n",
    "from langchain.vectorstores import FAISS"
   ]
  },
  {
   "cell_type": "code",
   "execution_count": 29,
   "id": "153dd569",
   "metadata": {
    "collapsed": true
   },
   "outputs": [
    {
     "data": {
      "application/vnd.jupyter.widget-view+json": {
       "model_id": "5cfe32c6147544cb9203f32baaeb09fe",
       "version_major": 2,
       "version_minor": 0
      },
      "text/plain": [
       "Downloading .gitattributes:   0%|          | 0.00/1.48k [00:00<?, ?B/s]"
      ]
     },
     "metadata": {},
     "output_type": "display_data"
    },
    {
     "data": {
      "application/vnd.jupyter.widget-view+json": {
       "model_id": "87243ff52f774e0cbf29f75e15fcff48",
       "version_major": 2,
       "version_minor": 0
      },
      "text/plain": [
       "Downloading 1_Pooling/config.json:   0%|          | 0.00/270 [00:00<?, ?B/s]"
      ]
     },
     "metadata": {},
     "output_type": "display_data"
    },
    {
     "data": {
      "application/vnd.jupyter.widget-view+json": {
       "model_id": "1b52cae15682404f99ea03ea568ef455",
       "version_major": 2,
       "version_minor": 0
      },
      "text/plain": [
       "Downloading 2_Dense/config.json:   0%|          | 0.00/116 [00:00<?, ?B/s]"
      ]
     },
     "metadata": {},
     "output_type": "display_data"
    },
    {
     "data": {
      "application/vnd.jupyter.widget-view+json": {
       "model_id": "76ce68a2512141e3a8eca7e2f3681680",
       "version_major": 2,
       "version_minor": 0
      },
      "text/plain": [
       "Downloading pytorch_model.bin:   0%|          | 0.00/3.15M [00:00<?, ?B/s]"
      ]
     },
     "metadata": {},
     "output_type": "display_data"
    },
    {
     "data": {
      "application/vnd.jupyter.widget-view+json": {
       "model_id": "47784aac7d074ba7815397920a3b850e",
       "version_major": 2,
       "version_minor": 0
      },
      "text/plain": [
       "Downloading README.md:   0%|          | 0.00/66.3k [00:00<?, ?B/s]"
      ]
     },
     "metadata": {},
     "output_type": "display_data"
    },
    {
     "data": {
      "application/vnd.jupyter.widget-view+json": {
       "model_id": "03679f2b2d384f92b18f043d42342f45",
       "version_major": 2,
       "version_minor": 0
      },
      "text/plain": [
       "Downloading config.json:   0%|          | 0.00/1.53k [00:00<?, ?B/s]"
      ]
     },
     "metadata": {},
     "output_type": "display_data"
    },
    {
     "data": {
      "application/vnd.jupyter.widget-view+json": {
       "model_id": "95c4a82a4de24081b2b45da3fc108705",
       "version_major": 2,
       "version_minor": 0
      },
      "text/plain": [
       "Downloading (…)ce_transformers.json:   0%|          | 0.00/122 [00:00<?, ?B/s]"
      ]
     },
     "metadata": {},
     "output_type": "display_data"
    },
    {
     "data": {
      "application/vnd.jupyter.widget-view+json": {
       "model_id": "7208ccb546dc4d22acf76cc5c64ad927",
       "version_major": 2,
       "version_minor": 0
      },
      "text/plain": [
       "Downloading pytorch_model.bin:   0%|          | 0.00/1.34G [00:00<?, ?B/s]"
      ]
     },
     "metadata": {},
     "output_type": "display_data"
    },
    {
     "data": {
      "application/vnd.jupyter.widget-view+json": {
       "model_id": "fee33c55769a45988c5da9ef3c1de1ca",
       "version_major": 2,
       "version_minor": 0
      },
      "text/plain": [
       "Downloading (…)nce_bert_config.json:   0%|          | 0.00/53.0 [00:00<?, ?B/s]"
      ]
     },
     "metadata": {},
     "output_type": "display_data"
    },
    {
     "data": {
      "application/vnd.jupyter.widget-view+json": {
       "model_id": "2b18ff0be40b40308660fee430c1e347",
       "version_major": 2,
       "version_minor": 0
      },
      "text/plain": [
       "Downloading (…)cial_tokens_map.json:   0%|          | 0.00/2.20k [00:00<?, ?B/s]"
      ]
     },
     "metadata": {},
     "output_type": "display_data"
    },
    {
     "data": {
      "application/vnd.jupyter.widget-view+json": {
       "model_id": "b7465e38b6bd465c9b71b0c0394ea9c5",
       "version_major": 2,
       "version_minor": 0
      },
      "text/plain": [
       "Downloading spiece.model:   0%|          | 0.00/792k [00:00<?, ?B/s]"
      ]
     },
     "metadata": {},
     "output_type": "display_data"
    },
    {
     "data": {
      "application/vnd.jupyter.widget-view+json": {
       "model_id": "8e4775150be04d2a97ec42ea9245c0c3",
       "version_major": 2,
       "version_minor": 0
      },
      "text/plain": [
       "Downloading tokenizer.json:   0%|          | 0.00/2.42M [00:00<?, ?B/s]"
      ]
     },
     "metadata": {},
     "output_type": "display_data"
    },
    {
     "data": {
      "application/vnd.jupyter.widget-view+json": {
       "model_id": "ff3e27dd5ccf4894b5d8d61cd8d2a2cc",
       "version_major": 2,
       "version_minor": 0
      },
      "text/plain": [
       "Downloading tokenizer_config.json:   0%|          | 0.00/2.41k [00:00<?, ?B/s]"
      ]
     },
     "metadata": {},
     "output_type": "display_data"
    },
    {
     "data": {
      "application/vnd.jupyter.widget-view+json": {
       "model_id": "cce065dd463d4de2b2d204039cdebe01",
       "version_major": 2,
       "version_minor": 0
      },
      "text/plain": [
       "Downloading modules.json:   0%|          | 0.00/461 [00:00<?, ?B/s]"
      ]
     },
     "metadata": {},
     "output_type": "display_data"
    },
    {
     "name": "stdout",
     "output_type": "stream",
     "text": [
      "load INSTRUCTOR_Transformer\n",
      "max_seq_length  512\n"
     ]
    }
   ],
   "source": [
    "instuct_embedding = HuggingFaceInstructEmbeddings()\n",
    "\n",
    "vectorsbd = FAISS.from_documents(documents=data, embedding=instuct_embedding)"
   ]
  },
  {
   "cell_type": "code",
   "execution_count": 30,
   "id": "f9718fd3",
   "metadata": {},
   "outputs": [],
   "source": [
    "retriever = vectorsbd.as_retriever()\n",
    "rdocs = retriever.get_relevant_documents(\"How many course do you have ?\")"
   ]
  },
  {
   "cell_type": "code",
   "execution_count": 32,
   "id": "07b5999a",
   "metadata": {},
   "outputs": [
    {
     "name": "stdout",
     "output_type": "stream",
     "text": [
      "[Document(page_content='prompt: What business concepts and domains are covered in this course?\\nresponse: We have covered the core functions such as Sales, Marketing, Finance, and Supply Chain with their fundamentals related to this course. The domain you will learn in this course is consumer goods which is projected to have more openings and high data analytics requirements at least until 2030.', metadata={'source': 'What business concepts and domains are covered in this course?', 'row': 32}), Document(page_content='prompt: What is the duration of this bootcamp? How long will it last?\\nresponse: You can complete all courses in 3 months if you dedicate 2-3 hours per day.', metadata={'source': 'What is the duration of this bootcamp? How long will it last?', 'row': 8}), Document(page_content='prompt: Can I add this course to my resume? If Yes, how?\\nresponse: Absolutely, we have a section in this course explaining how you can add the learnings from this course in your resume that will appeal to the hiring team.', metadata={'source': 'Can I add this course to my resume? If Yes, how?', 'row': 34}), Document(page_content='prompt: What is different in this course from thousands of other Power BI courses available online?\\nresponse: Most of the courses available on the internet teach you how to build x & y without any business context and do not prepare you for the real business world. This course is rather an experience in which you will learn how to use Power BI & other non-technical skills to solve a real-life business problem using analytics. Here you focus on solving a business problem and in that process learn how Power BI can be used as a tool. This is how you will do the work when you start working as a data analyst/ Business analyst/ Power BI developer in the industry. This course will prepare you for not just fetching the job but, shine in it & grow further.', metadata={'source': 'What is different in this course from thousands of other Power BI courses available online?', 'row': 36})]\n"
     ]
    }
   ],
   "source": [
    "print(rdocs)"
   ]
  },
  {
   "cell_type": "code",
   "execution_count": 33,
   "id": "9acbcf28",
   "metadata": {},
   "outputs": [],
   "source": [
    "from langchain.chains import RetrievalQA"
   ]
  },
  {
   "cell_type": "code",
   "execution_count": 34,
   "id": "68cba538",
   "metadata": {},
   "outputs": [],
   "source": [
    "chain = RetrievalQA.from_chain_type(llm=llm, chain_type=\"stuff\", \n",
    "                                    retriever = retriever, \n",
    "                                    input_key = \"query\", \n",
    "                                    return_source_documents = True )"
   ]
  },
  {
   "cell_type": "code",
   "execution_count": 35,
   "id": "205f1541",
   "metadata": {},
   "outputs": [
    {
     "data": {
      "text/plain": [
       "{'query': 'tell me about python course',\n",
       " 'result': 'This course is designed to teach you the basics of Python programming language. It will cover the fundamentals of Python including variables, data types, operators, control flow statements, functions, modules and packages. You will also learn how to use Python to solve real-world problems.',\n",
       " 'source_documents': [Document(page_content='prompt: What are the things I need to know before starting this course?\\nresponse: This course is for absolute beginners hence you do not need any specific skills other than basic familiarity with computers', metadata={'source': 'What are the things I need to know before starting this course?', 'row': 17}),\n",
       "  Document(page_content='prompt: What is different in this course compared to hundreds of courses on the internet and free tutorials on YouTube?\\nresponse: Most of the courses available on the internet teach you how to build x & y without any business context and do not prepare you for real business world problem-solving. This course is rather an experience in which you will learn Excel by solving real-life use cases in an imaginary company called AtliQ Hardware. The tutorials are very easy to understand and also have a lot of fun elements into them so that you don’t get bored ??', metadata={'source': 'What is different in this course compared to hundreds of courses on the internet and free tutorials on YouTube?', 'row': 18}),\n",
       "  Document(page_content='prompt: I have never done programming and belong to a non-technical background. Can I take this course?\\nresponse: Yes, this is the perfect course for anyone who has never done coding and wants to build a career in the IT/Data Analytics industry or just wants to perform better in their current job or business using data.', metadata={'source': 'I have never done programming and belong to a non-technical background. Can I take this course?', 'row': 24}),\n",
       "  Document(page_content='prompt: Hi all, could someone please help me understand what I am writing wrong in this code?\\nresponse: Go to ChatGPT (https://chat.openai.com/) and type this command\\n\\nDebug me this code ( copy paste your code)\\n\\n\\nWhy I am suggesting this way is once you learn it you will love it. \\nAnd it will be SUPER USEFUL in your career when you get a data analyst jobs. Companies love folks who are capable of finding their answers on their own (Using Google, ChatGPT etc.)', metadata={'source': 'Hi all, could someone please help me understand what I am writing wrong in this code?', 'row': 39})]}"
      ]
     },
     "execution_count": 35,
     "metadata": {},
     "output_type": "execute_result"
    }
   ],
   "source": [
    "chain(\"tell me about python course\")"
   ]
  },
  {
   "cell_type": "code",
   "execution_count": 36,
   "id": "e2790358",
   "metadata": {},
   "outputs": [],
   "source": [
    "from langchain.prompts import PromptTemplate"
   ]
  },
  {
   "cell_type": "code",
   "execution_count": 37,
   "id": "ff363559",
   "metadata": {},
   "outputs": [],
   "source": [
    "template = \"\"\"Given the following context and question, generate the answer based on the context only.\n",
    "try to provide as much text as possible from \"response\" section in the source document context without make things up.\n",
    "is not found in the context, kindly state \"I dont know.\" Don't try to make up an answer.\n",
    "\n",
    "CONTEXT : {context},\n",
    "QUESTION : {question}\n",
    "\n",
    "\"\"\""
   ]
  },
  {
   "cell_type": "code",
   "execution_count": 39,
   "id": "f5b46940",
   "metadata": {},
   "outputs": [],
   "source": [
    "prompt = PromptTemplate(template=template, input_variables= [\"context\", \"question\"])"
   ]
  },
  {
   "cell_type": "code",
   "execution_count": 41,
   "id": "08e3a412",
   "metadata": {},
   "outputs": [],
   "source": [
    "chain = RetrievalQA.from_chain_type(llm=llm, chain_type=\"stuff\", \n",
    "                                    retriever = retriever, \n",
    "                                    input_key = \"query\", \n",
    "                                    return_source_documents = True,\n",
    "                                    chain_type_kwargs = {\"prompt\":prompt})"
   ]
  },
  {
   "cell_type": "code",
   "execution_count": 44,
   "id": "c64d3f49",
   "metadata": {},
   "outputs": [
    {
     "data": {
      "text/plain": [
       "{'query': 'Do you have java script course',\n",
       " 'result': \"I don't know.\",\n",
       " 'source_documents': [Document(page_content='prompt: I have never done programming and belong to a non-technical background. Can I take this course?\\nresponse: Yes, this is the perfect course for anyone who has never done coding and wants to build a career in the IT/Data Analytics industry or just wants to perform better in their current job or business using data.', metadata={'source': 'I have never done programming and belong to a non-technical background. Can I take this course?', 'row': 24}),\n",
       "  Document(page_content='prompt: I have never done programming in my life. Can I take this bootcamp?\\nresponse: Yes, this is the perfect bootcamp for anyone who has never done coding and wants to build a career in the IT/Data Analytics industry or just wants to perform better in your current job or business using data.', metadata={'source': 'I have never done programming in my life. Can I take this bootcamp?', 'row': 0}),\n",
       "  Document(page_content='prompt: Is there any prerequisite for taking this bootcamp ?\\nresponse: Our bootcamp is specifically designed for beginners with no prior experience in this field. The only prerequisite is that you need to have a functional laptop with at least 4GB ram, an internet connection, and a thrill to learn data analysis.', metadata={'source': 'Is there any prerequisite for taking this bootcamp ?', 'row': 2}),\n",
       "  Document(page_content='prompt: Is there any prerequisite for taking this course?\\nresponse: The only prerequisite is that you need to have a functional laptop with at least 4GB ram, internet connection and a thrill to learn data analysis.', metadata={'source': 'Is there any prerequisite for taking this course?', 'row': 35})]}"
      ]
     },
     "execution_count": 44,
     "metadata": {},
     "output_type": "execute_result"
    }
   ],
   "source": [
    "chain(\"Do you have java script course\")"
   ]
  },
  {
   "cell_type": "code",
   "execution_count": null,
   "id": "a8b211fa",
   "metadata": {},
   "outputs": [],
   "source": []
  }
 ],
 "metadata": {
  "kernelspec": {
   "display_name": "Python 3 (ipykernel)",
   "language": "python",
   "name": "python3"
  },
  "language_info": {
   "codemirror_mode": {
    "name": "ipython",
    "version": 3
   },
   "file_extension": ".py",
   "mimetype": "text/x-python",
   "name": "python",
   "nbconvert_exporter": "python",
   "pygments_lexer": "ipython3",
   "version": "3.10.7"
  }
 },
 "nbformat": 4,
 "nbformat_minor": 5
}
