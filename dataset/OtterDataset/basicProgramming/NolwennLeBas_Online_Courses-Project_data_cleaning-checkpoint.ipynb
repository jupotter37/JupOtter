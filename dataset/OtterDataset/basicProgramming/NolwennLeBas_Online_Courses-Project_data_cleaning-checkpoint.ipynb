{
 "cells": [
  {
   "cell_type": "code",
   "execution_count": 1,
   "id": "b486d54c",
   "metadata": {},
   "outputs": [],
   "source": [
    "import pandas as pd\n",
    "import numpy as np\n",
    "\n",
    "import seaborn as sns\n",
    "import matplotlib.pyplot as plt\n",
    "\n",
    "pd.set_option('display.max_columns', None)"
   ]
  },
  {
   "cell_type": "code",
   "execution_count": 2,
   "id": "c171afc6",
   "metadata": {},
   "outputs": [
    {
     "name": "stdout",
     "output_type": "stream",
     "text": [
      "<class 'pandas.core.frame.DataFrame'>\n",
      "RangeIndex: 3368 entries, 0 to 3367\n",
      "Data columns (total 16 columns):\n",
      " #   Column               Non-Null Count  Dtype  \n",
      "---  ------               --------------  -----  \n",
      " 0   course_id            3368 non-null   int64  \n",
      " 1   course_title         2514 non-null   object \n",
      " 2   url                  3368 non-null   object \n",
      " 3   is_paid              3368 non-null   bool   \n",
      " 4   price                3368 non-null   int64  \n",
      " 5   num_subscribers      3368 non-null   int64  \n",
      " 6   num_reviews          3368 non-null   int64  \n",
      " 7   num_lectures         3368 non-null   int64  \n",
      " 8   level                3368 non-null   object \n",
      " 9   content_duration     3368 non-null   float64\n",
      " 10  published_timestamp  3368 non-null   object \n",
      " 11  subject              2388 non-null   object \n",
      " 12  rating               2730 non-null   object \n",
      " 13  number_of_ratings    1930 non-null   object \n",
      " 14  update_date          1975 non-null   object \n",
      " 15  number_of_students   1925 non-null   object \n",
      "dtypes: bool(1), float64(1), int64(5), object(9)\n",
      "memory usage: 398.1+ KB\n"
     ]
    }
   ],
   "source": [
    "data = pd.read_csv('updated_udemy_courses.csv')\n",
    "data.info()"
   ]
  },
  {
   "cell_type": "code",
   "execution_count": 3,
   "id": "1be2eeff",
   "metadata": {},
   "outputs": [
    {
     "data": {
      "text/plain": [
       "(3368, 15)"
      ]
     },
     "execution_count": 3,
     "metadata": {},
     "output_type": "execute_result"
    }
   ],
   "source": [
    "data.drop(['is_paid'], axis=1, inplace=True)\n",
    "data.shape"
   ]
  },
  {
   "cell_type": "code",
   "execution_count": 4,
   "id": "b7606546",
   "metadata": {},
   "outputs": [
    {
     "data": {
      "text/plain": [
       "(3368, 14)"
      ]
     },
     "execution_count": 4,
     "metadata": {},
     "output_type": "execute_result"
    }
   ],
   "source": [
    "data.drop(['course_id'], axis=1, inplace=True)\n",
    "data.shape"
   ]
  },
  {
   "cell_type": "code",
   "execution_count": 5,
   "id": "34511365",
   "metadata": {},
   "outputs": [
    {
     "data": {
      "text/plain": [
       "number_of_students\n",
       "NaN     1443\n",
       "174        4\n",
       "1410       4\n",
       "1156       4\n",
       "122        3\n",
       "        ... \n",
       "826        1\n",
       "2730       1\n",
       "612        1\n",
       "1431       1\n",
       "1061       1\n",
       "Name: count, Length: 1701, dtype: int64"
      ]
     },
     "execution_count": 5,
     "metadata": {},
     "output_type": "execute_result"
    }
   ],
   "source": [
    "data['number_of_students'].value_counts(dropna=False)"
   ]
  },
  {
   "cell_type": "code",
   "execution_count": 6,
   "id": "bd060337",
   "metadata": {},
   "outputs": [
    {
     "data": {
      "text/html": [
       "<div>\n",
       "<style scoped>\n",
       "    .dataframe tbody tr th:only-of-type {\n",
       "        vertical-align: middle;\n",
       "    }\n",
       "\n",
       "    .dataframe tbody tr th {\n",
       "        vertical-align: top;\n",
       "    }\n",
       "\n",
       "    .dataframe thead th {\n",
       "        text-align: right;\n",
       "    }\n",
       "</style>\n",
       "<table border=\"1\" class=\"dataframe\">\n",
       "  <thead>\n",
       "    <tr style=\"text-align: right;\">\n",
       "      <th></th>\n",
       "      <th>course_title</th>\n",
       "      <th>url</th>\n",
       "      <th>price</th>\n",
       "      <th>num_subscribers</th>\n",
       "      <th>num_reviews</th>\n",
       "      <th>num_lectures</th>\n",
       "      <th>level</th>\n",
       "      <th>content_duration</th>\n",
       "      <th>published_timestamp</th>\n",
       "      <th>subject</th>\n",
       "      <th>rating</th>\n",
       "      <th>number_of_ratings</th>\n",
       "      <th>update_date</th>\n",
       "      <th>number_of_students</th>\n",
       "    </tr>\n",
       "  </thead>\n",
       "  <tbody>\n",
       "    <tr>\n",
       "      <th>5</th>\n",
       "      <td>NaN</td>\n",
       "      <td>https://www.udemy.com/trading-penny-stocks-a-g...</td>\n",
       "      <td>150</td>\n",
       "      <td>9221</td>\n",
       "      <td>138</td>\n",
       "      <td>25</td>\n",
       "      <td>All Levels</td>\n",
       "      <td>3.000000</td>\n",
       "      <td>2014-05-02T15:13:30Z</td>\n",
       "      <td>NaN</td>\n",
       "      <td>alert</td>\n",
       "      <td>NaN</td>\n",
       "      <td>NaN</td>\n",
       "      <td>NaN</td>\n",
       "    </tr>\n",
       "    <tr>\n",
       "      <th>8</th>\n",
       "      <td>This is a private course.</td>\n",
       "      <td>https://www.udemy.com/day-trading-stock-option...</td>\n",
       "      <td>195</td>\n",
       "      <td>5172</td>\n",
       "      <td>34</td>\n",
       "      <td>38</td>\n",
       "      <td>Expert Level</td>\n",
       "      <td>2.500000</td>\n",
       "      <td>2015-05-28T00:14:03Z</td>\n",
       "      <td>NaN</td>\n",
       "      <td>NaN</td>\n",
       "      <td>NaN</td>\n",
       "      <td>NaN</td>\n",
       "      <td>NaN</td>\n",
       "    </tr>\n",
       "    <tr>\n",
       "      <th>11</th>\n",
       "      <td>NaN</td>\n",
       "      <td>https://www.udemy.com/trading-options-using-mo...</td>\n",
       "      <td>200</td>\n",
       "      <td>1380</td>\n",
       "      <td>42</td>\n",
       "      <td>17</td>\n",
       "      <td>All Levels</td>\n",
       "      <td>1.000000</td>\n",
       "      <td>2016-10-18T22:52:31Z</td>\n",
       "      <td>NaN</td>\n",
       "      <td>alert</td>\n",
       "      <td>NaN</td>\n",
       "      <td>NaN</td>\n",
       "      <td>NaN</td>\n",
       "    </tr>\n",
       "    <tr>\n",
       "      <th>14</th>\n",
       "      <td>NaN</td>\n",
       "      <td>https://www.udemy.com/hedge-fund-strategy-trad...</td>\n",
       "      <td>200</td>\n",
       "      <td>294</td>\n",
       "      <td>19</td>\n",
       "      <td>42</td>\n",
       "      <td>All Levels</td>\n",
       "      <td>7.000000</td>\n",
       "      <td>2017-04-28T16:41:44Z</td>\n",
       "      <td>NaN</td>\n",
       "      <td>alert</td>\n",
       "      <td>NaN</td>\n",
       "      <td>NaN</td>\n",
       "      <td>NaN</td>\n",
       "    </tr>\n",
       "    <tr>\n",
       "      <th>16</th>\n",
       "      <td>NaN</td>\n",
       "      <td>https://www.udemy.com/learn-basic-technical-an...</td>\n",
       "      <td>20</td>\n",
       "      <td>4919</td>\n",
       "      <td>79</td>\n",
       "      <td>16</td>\n",
       "      <td>Beginner Level</td>\n",
       "      <td>1.500000</td>\n",
       "      <td>2016-01-08T17:21:26Z</td>\n",
       "      <td>NaN</td>\n",
       "      <td>alert</td>\n",
       "      <td>NaN</td>\n",
       "      <td>NaN</td>\n",
       "      <td>NaN</td>\n",
       "    </tr>\n",
       "    <tr>\n",
       "      <th>...</th>\n",
       "      <td>...</td>\n",
       "      <td>...</td>\n",
       "      <td>...</td>\n",
       "      <td>...</td>\n",
       "      <td>...</td>\n",
       "      <td>...</td>\n",
       "      <td>...</td>\n",
       "      <td>...</td>\n",
       "      <td>...</td>\n",
       "      <td>...</td>\n",
       "      <td>...</td>\n",
       "      <td>...</td>\n",
       "      <td>...</td>\n",
       "      <td>...</td>\n",
       "    </tr>\n",
       "    <tr>\n",
       "      <th>3357</th>\n",
       "      <td>XML Courses</td>\n",
       "      <td>https://www.udemy.com/xpath-basics-for-beginners/</td>\n",
       "      <td>40</td>\n",
       "      <td>878</td>\n",
       "      <td>6</td>\n",
       "      <td>8</td>\n",
       "      <td>All Levels</td>\n",
       "      <td>0.616667</td>\n",
       "      <td>2016-09-27T15:20:47Z</td>\n",
       "      <td>Search for anything</td>\n",
       "      <td>NaN</td>\n",
       "      <td>NaN</td>\n",
       "      <td>content</td>\n",
       "      <td>NaN</td>\n",
       "    </tr>\n",
       "    <tr>\n",
       "      <th>3361</th>\n",
       "      <td>This is a private course.</td>\n",
       "      <td>https://www.udemy.com/csharpyahoostockdownloader/</td>\n",
       "      <td>20</td>\n",
       "      <td>436</td>\n",
       "      <td>36</td>\n",
       "      <td>22</td>\n",
       "      <td>Intermediate Level</td>\n",
       "      <td>1.500000</td>\n",
       "      <td>2015-11-19T17:22:47Z</td>\n",
       "      <td>NaN</td>\n",
       "      <td>NaN</td>\n",
       "      <td>NaN</td>\n",
       "      <td>NaN</td>\n",
       "      <td>NaN</td>\n",
       "    </tr>\n",
       "    <tr>\n",
       "      <th>3363</th>\n",
       "      <td>jQuery Courses</td>\n",
       "      <td>https://www.udemy.com/easy-jquery-for-beginner...</td>\n",
       "      <td>100</td>\n",
       "      <td>1040</td>\n",
       "      <td>14</td>\n",
       "      <td>21</td>\n",
       "      <td>All Levels</td>\n",
       "      <td>2.000000</td>\n",
       "      <td>2016-06-14T17:36:46Z</td>\n",
       "      <td>Search for anything</td>\n",
       "      <td>NaN</td>\n",
       "      <td>NaN</td>\n",
       "      <td>NaN</td>\n",
       "      <td>NaN</td>\n",
       "    </tr>\n",
       "    <tr>\n",
       "      <th>3364</th>\n",
       "      <td>NaN</td>\n",
       "      <td>https://www.udemy.com/how-to-make-a-wordpress-...</td>\n",
       "      <td>25</td>\n",
       "      <td>306</td>\n",
       "      <td>3</td>\n",
       "      <td>42</td>\n",
       "      <td>Beginner Level</td>\n",
       "      <td>3.500000</td>\n",
       "      <td>2017-03-10T22:24:30Z</td>\n",
       "      <td>NaN</td>\n",
       "      <td>alert</td>\n",
       "      <td>NaN</td>\n",
       "      <td>NaN</td>\n",
       "      <td>NaN</td>\n",
       "    </tr>\n",
       "    <tr>\n",
       "      <th>3366</th>\n",
       "      <td>NaN</td>\n",
       "      <td>https://www.udemy.com/css-animations-create-am...</td>\n",
       "      <td>50</td>\n",
       "      <td>300</td>\n",
       "      <td>31</td>\n",
       "      <td>38</td>\n",
       "      <td>All Levels</td>\n",
       "      <td>3.000000</td>\n",
       "      <td>2016-08-11T19:06:15Z</td>\n",
       "      <td>NaN</td>\n",
       "      <td>alert</td>\n",
       "      <td>NaN</td>\n",
       "      <td>NaN</td>\n",
       "      <td>NaN</td>\n",
       "    </tr>\n",
       "  </tbody>\n",
       "</table>\n",
       "<p>1443 rows × 14 columns</p>\n",
       "</div>"
      ],
      "text/plain": [
       "                   course_title  \\\n",
       "5                           NaN   \n",
       "8     This is a private course.   \n",
       "11                          NaN   \n",
       "14                          NaN   \n",
       "16                          NaN   \n",
       "...                         ...   \n",
       "3357                XML Courses   \n",
       "3361  This is a private course.   \n",
       "3363             jQuery Courses   \n",
       "3364                        NaN   \n",
       "3366                        NaN   \n",
       "\n",
       "                                                    url  price  \\\n",
       "5     https://www.udemy.com/trading-penny-stocks-a-g...    150   \n",
       "8     https://www.udemy.com/day-trading-stock-option...    195   \n",
       "11    https://www.udemy.com/trading-options-using-mo...    200   \n",
       "14    https://www.udemy.com/hedge-fund-strategy-trad...    200   \n",
       "16    https://www.udemy.com/learn-basic-technical-an...     20   \n",
       "...                                                 ...    ...   \n",
       "3357  https://www.udemy.com/xpath-basics-for-beginners/     40   \n",
       "3361  https://www.udemy.com/csharpyahoostockdownloader/     20   \n",
       "3363  https://www.udemy.com/easy-jquery-for-beginner...    100   \n",
       "3364  https://www.udemy.com/how-to-make-a-wordpress-...     25   \n",
       "3366  https://www.udemy.com/css-animations-create-am...     50   \n",
       "\n",
       "      num_subscribers  num_reviews  num_lectures               level  \\\n",
       "5                9221          138            25          All Levels   \n",
       "8                5172           34            38        Expert Level   \n",
       "11               1380           42            17          All Levels   \n",
       "14                294           19            42          All Levels   \n",
       "16               4919           79            16      Beginner Level   \n",
       "...               ...          ...           ...                 ...   \n",
       "3357              878            6             8          All Levels   \n",
       "3361              436           36            22  Intermediate Level   \n",
       "3363             1040           14            21          All Levels   \n",
       "3364              306            3            42      Beginner Level   \n",
       "3366              300           31            38          All Levels   \n",
       "\n",
       "      content_duration   published_timestamp              subject rating  \\\n",
       "5             3.000000  2014-05-02T15:13:30Z                  NaN  alert   \n",
       "8             2.500000  2015-05-28T00:14:03Z                  NaN    NaN   \n",
       "11            1.000000  2016-10-18T22:52:31Z                  NaN  alert   \n",
       "14            7.000000  2017-04-28T16:41:44Z                  NaN  alert   \n",
       "16            1.500000  2016-01-08T17:21:26Z                  NaN  alert   \n",
       "...                ...                   ...                  ...    ...   \n",
       "3357          0.616667  2016-09-27T15:20:47Z  Search for anything    NaN   \n",
       "3361          1.500000  2015-11-19T17:22:47Z                  NaN    NaN   \n",
       "3363          2.000000  2016-06-14T17:36:46Z  Search for anything    NaN   \n",
       "3364          3.500000  2017-03-10T22:24:30Z                  NaN  alert   \n",
       "3366          3.000000  2016-08-11T19:06:15Z                  NaN  alert   \n",
       "\n",
       "     number_of_ratings update_date number_of_students  \n",
       "5                  NaN         NaN                NaN  \n",
       "8                  NaN         NaN                NaN  \n",
       "11                 NaN         NaN                NaN  \n",
       "14                 NaN         NaN                NaN  \n",
       "16                 NaN         NaN                NaN  \n",
       "...                ...         ...                ...  \n",
       "3357               NaN     content                NaN  \n",
       "3361               NaN         NaN                NaN  \n",
       "3363               NaN         NaN                NaN  \n",
       "3364               NaN         NaN                NaN  \n",
       "3366               NaN         NaN                NaN  \n",
       "\n",
       "[1443 rows x 14 columns]"
      ]
     },
     "execution_count": 6,
     "metadata": {},
     "output_type": "execute_result"
    }
   ],
   "source": [
    "data[data['number_of_students'].isna()]\n",
    "#corresponds to courses that do not exist anymore or url have been assigned to another page than a course description\n",
    "# considering that I can not extract updated information from them I'll drop those rows"
   ]
  },
  {
   "cell_type": "code",
   "execution_count": 7,
   "id": "b9685f09",
   "metadata": {},
   "outputs": [
    {
     "data": {
      "text/plain": [
       "'https://www.udemy.com/easy-jquery-for-beginner-learn-from-scratch-step-by-step/'"
      ]
     },
     "execution_count": 7,
     "metadata": {},
     "output_type": "execute_result"
    }
   ],
   "source": [
    "data['url'][3363]"
   ]
  },
  {
   "cell_type": "code",
   "execution_count": 8,
   "id": "92a03627",
   "metadata": {},
   "outputs": [
    {
     "data": {
      "text/plain": [
       "(1925, 14)"
      ]
     },
     "execution_count": 8,
     "metadata": {},
     "output_type": "execute_result"
    }
   ],
   "source": [
    "data.dropna(subset=['number_of_students'], inplace=True)\n",
    "data.shape"
   ]
  },
  {
   "cell_type": "code",
   "execution_count": 9,
   "id": "4c2da11b",
   "metadata": {},
   "outputs": [
    {
     "data": {
      "text/plain": [
       "course_title           0\n",
       "url                    0\n",
       "price                  0\n",
       "num_subscribers        0\n",
       "num_reviews            0\n",
       "num_lectures           0\n",
       "level                  0\n",
       "content_duration       0\n",
       "published_timestamp    0\n",
       "subject                0\n",
       "rating                 0\n",
       "number_of_ratings      2\n",
       "update_date            8\n",
       "number_of_students     0\n",
       "dtype: int64"
      ]
     },
     "execution_count": 9,
     "metadata": {},
     "output_type": "execute_result"
    }
   ],
   "source": [
    "data.isna().sum()"
   ]
  },
  {
   "cell_type": "code",
   "execution_count": 10,
   "id": "97065efc",
   "metadata": {},
   "outputs": [
    {
     "data": {
      "text/plain": [
       "course_title\n",
       "HTML5 Specialist: Comprehensive HTML5 Training                 2\n",
       "Learn Web Designing & HTML5/CSS3 Essentials in 4-Hours         2\n",
       "Time Value of Money: Different Dimensions of Value of Money    2\n",
       "RESTful API with Laravel: Build a Real API with Laravel        2\n",
       "Understanding Financial Statements                             2\n",
       "                                                              ..\n",
       "How to Draw and Sketch for Absolute Beginners pt 1             1\n",
       "Logo Design Masterclass: Learn Logo Design and Illustrator     1\n",
       "How to Design a Logo - a Beginners Course                      1\n",
       "Sketch from A to Z (2022): Become an app designer              1\n",
       "Using MODX CMS to Build Websites: A Beginner's Guide           1\n",
       "Name: count, Length: 1919, dtype: int64"
      ]
     },
     "metadata": {},
     "output_type": "display_data"
    },
    {
     "data": {
      "text/plain": [
       "url\n",
       "https://www.udemy.com/understanding-financial-statements/                    2\n",
       "https://www.udemy.com/essentials-of-money-value/                             2\n",
       "https://www.udemy.com/cfa-level-2-quantitative-methods/                      2\n",
       "https://www.udemy.com/build-beautiful-html5-website/                         2\n",
       "https://www.udemy.com/go-programming-language/                               1\n",
       "                                                                            ..\n",
       "https://www.udemy.com/graphic-design/                                        1\n",
       "https://www.udemy.com/drawing-and-sketching-for-beginners/                   1\n",
       "https://www.udemy.com/become-a-professional-logo-designer/                   1\n",
       "https://www.udemy.com/how-to-design-a-logo-a-beginners-course/               1\n",
       "https://www.udemy.com/using-modx-cms-to-build-websites-a-beginners-guide/    1\n",
       "Name: count, Length: 1921, dtype: int64"
      ]
     },
     "metadata": {},
     "output_type": "display_data"
    },
    {
     "data": {
      "text/plain": [
       "price\n",
       "20     334\n",
       "50     241\n",
       "200    201\n",
       "40     128\n",
       "195    100\n",
       "100     96\n",
       "95      94\n",
       "30      92\n",
       "25      79\n",
       "150     65\n",
       "45      61\n",
       "60      60\n",
       "75      57\n",
       "35      52\n",
       "120     34\n",
       "65      26\n",
       "55      22\n",
       "70      20\n",
       "80      19\n",
       "145     19\n",
       "85      17\n",
       "125     15\n",
       "180     14\n",
       "115     13\n",
       "90      10\n",
       "175     10\n",
       "190      8\n",
       "140      7\n",
       "110      7\n",
       "105      6\n",
       "185      5\n",
       "165      5\n",
       "160      3\n",
       "135      2\n",
       "170      2\n",
       "130      1\n",
       "Name: count, dtype: int64"
      ]
     },
     "metadata": {},
     "output_type": "display_data"
    },
    {
     "data": {
      "text/plain": [
       "num_subscribers\n",
       "0       22\n",
       "2       10\n",
       "32       8\n",
       "3        8\n",
       "50       8\n",
       "        ..\n",
       "3481     1\n",
       "711      1\n",
       "1418     1\n",
       "3390     1\n",
       "901      1\n",
       "Name: count, Length: 1382, dtype: int64"
      ]
     },
     "metadata": {},
     "output_type": "display_data"
    },
    {
     "data": {
      "text/plain": [
       "num_reviews\n",
       "0       74\n",
       "3       62\n",
       "2       58\n",
       "6       57\n",
       "1       57\n",
       "        ..\n",
       "1017     1\n",
       "655      1\n",
       "820      1\n",
       "662      1\n",
       "113      1\n",
       "Name: count, Length: 391, dtype: int64"
      ]
     },
     "metadata": {},
     "output_type": "display_data"
    },
    {
     "data": {
      "text/plain": [
       "num_lectures\n",
       "16     54\n",
       "19     52\n",
       "20     51\n",
       "15     51\n",
       "25     50\n",
       "       ..\n",
       "212     1\n",
       "395     1\n",
       "527     1\n",
       "402     1\n",
       "140     1\n",
       "Name: count, Length: 211, dtype: int64"
      ]
     },
     "metadata": {},
     "output_type": "display_data"
    },
    {
     "data": {
      "text/plain": [
       "level\n",
       "All Levels            1040\n",
       "Beginner Level         622\n",
       "Intermediate Level     233\n",
       "Expert Level            30\n",
       "Name: count, dtype: int64"
      ]
     },
     "metadata": {},
     "output_type": "display_data"
    },
    {
     "data": {
      "text/plain": [
       "content_duration\n",
       "1.50     262\n",
       "1.00     243\n",
       "2.00     209\n",
       "2.50     161\n",
       "3.00     133\n",
       "        ... \n",
       "21.00      1\n",
       "68.50      1\n",
       "78.50      1\n",
       "0.65       1\n",
       "66.50      1\n",
       "Name: count, Length: 97, dtype: int64"
      ]
     },
     "metadata": {},
     "output_type": "display_data"
    },
    {
     "data": {
      "text/plain": [
       "published_timestamp\n",
       "2016-12-15T14:56:17Z    2\n",
       "2016-05-16T18:28:30Z    2\n",
       "2017-07-02T14:29:35Z    2\n",
       "2013-01-03T00:55:31Z    2\n",
       "2017-01-17T22:30:33Z    1\n",
       "                       ..\n",
       "2015-11-09T21:17:04Z    1\n",
       "2017-01-25T22:07:38Z    1\n",
       "2015-08-18T18:56:04Z    1\n",
       "2012-07-25T13:41:42Z    1\n",
       "2014-09-28T19:51:11Z    1\n",
       "Name: count, Length: 1921, dtype: int64"
      ]
     },
     "metadata": {},
     "output_type": "display_data"
    },
    {
     "data": {
      "text/plain": [
       "subject\n",
       "Development                     664\n",
       "Finance & Accounting            562\n",
       "Music                           308\n",
       "Design                          276\n",
       "Música                           21\n",
       "財務会計                             14\n",
       "Finanças e contabilidade         12\n",
       "Finanzas y contabilidad          11\n",
       "Finanzen & Rechnungswesen         8\n",
       "デザイン                              6\n",
       "Business                          5\n",
       "Diseño                            4\n",
       "Tasarım                           4\n",
       "Finance et comptabilité           4\n",
       "音楽                                4\n",
       "Office Productivity               3\n",
       "Fotografia e vídeo                3\n",
       "Финансы и бухгалтерский учет      3\n",
       "Musik                             3\n",
       "IT & Software                     3\n",
       "Lifestyle                         2\n",
       "Musique                           2\n",
       "Finanza e contabilità             1\n",
       "디자인                               1\n",
       "Teaching & Academics              1\n",
       "Name: count, dtype: int64"
      ]
     },
     "metadata": {},
     "output_type": "display_data"
    },
    {
     "data": {
      "text/plain": [
       "rating\n",
       "4.6          193\n",
       "4.5          186\n",
       "4.4          185\n",
       "4.3          153\n",
       "4.7          132\n",
       "4.2          127\n",
       "4.0          124\n",
       "4.1          113\n",
       "3.9           94\n",
       "4.8           92\n",
       "3.7           72\n",
       "3.8           63\n",
       "3.6           63\n",
       "3.5           38\n",
       "4.9           38\n",
       "5.0           25\n",
       "3.4           24\n",
       "3.3           22\n",
       "3.0           15\n",
       "3.2           14\n",
       "4,7           12\n",
       "3.1           10\n",
       "4,4           10\n",
       "4,5           10\n",
       "4,3            9\n",
       "4,8            9\n",
       ":              7\n",
       "3,9            6\n",
       "4,1            6\n",
       "4,2            6\n",
       "4.2（5段階中）      6\n",
       "2.9            6\n",
       "4,6            6\n",
       "4,0            4\n",
       "3,7            4\n",
       "2.7            4\n",
       "2.6            3\n",
       "0.0            3\n",
       "3,6            3\n",
       "3.8（5段階中）      2\n",
       "4.5（5段階中）      2\n",
       "4,9            2\n",
       "5.0（5段階中）      2\n",
       "3,5            2\n",
       "4.3（5段階中）      2\n",
       "3.6（5段階中）      2\n",
       "3.7（5段階中）      2\n",
       "4.0（5段階中）      2\n",
       "3,8            1\n",
       "4.4（5段階中）      1\n",
       "5점             1\n",
       "3.3（5段階中）      1\n",
       "2.4            1\n",
       "3.9（5段階中）      1\n",
       "5,0            1\n",
       "0.0（5段階中）      1\n",
       "1.4            1\n",
       "2.5            1\n",
       "Name: count, dtype: int64"
      ]
     },
     "metadata": {},
     "output_type": "display_data"
    },
    {
     "data": {
      "text/plain": [
       "number_of_ratings\n",
       "hr       52\n",
       "9        19\n",
       "15       19\n",
       "10       18\n",
       "21       18\n",
       "         ..\n",
       "3,584     1\n",
       "579       1\n",
       "543       1\n",
       "564       1\n",
       "669       1\n",
       "Name: count, Length: 794, dtype: int64"
      ]
     },
     "metadata": {},
     "output_type": "display_data"
    },
    {
     "data": {
      "text/plain": [
       "update_date\n",
       "[Auto]     59\n",
       "1/2017     52\n",
       "5/2024     46\n",
       "4/2016     43\n",
       "2/2016     43\n",
       "           ..\n",
       "4/2012      1\n",
       "3/2014      1\n",
       "3/2013      1\n",
       "12/2012     1\n",
       "1/2013      1\n",
       "Name: count, Length: 145, dtype: int64"
      ]
     },
     "metadata": {},
     "output_type": "display_data"
    },
    {
     "data": {
      "text/plain": [
       "number_of_students\n",
       "174     4\n",
       "1410    4\n",
       "1156    4\n",
       "134     3\n",
       "106     3\n",
       "       ..\n",
       "826     1\n",
       "2730    1\n",
       "612     1\n",
       "1431    1\n",
       "1061    1\n",
       "Name: count, Length: 1700, dtype: int64"
      ]
     },
     "metadata": {},
     "output_type": "display_data"
    }
   ],
   "source": [
    "for column in data.columns:\n",
    "    display(data[column].value_counts(dropna=False))"
   ]
  },
  {
   "cell_type": "code",
   "execution_count": 11,
   "id": "9fca7e1c",
   "metadata": {},
   "outputs": [
    {
     "data": {
      "text/plain": [
       "subject\n",
       "Development             678\n",
       "Finance & Accounting    615\n",
       "Music                   338\n",
       "Design                  283\n",
       "Business                  8\n",
       "Health                    2\n",
       "Teaching & Academics      1\n",
       "Name: count, dtype: int64"
      ]
     },
     "execution_count": 11,
     "metadata": {},
     "output_type": "execute_result"
    }
   ],
   "source": [
    "#cleaning 'subject'\n",
    "music_list=['Música', '音楽', 'Musik', 'Musique']\n",
    "finance_list=[\"財務会計\", \"Finanças e contabilidade\", \"Finanzas y contabilidad\", \"Finanzen & Rechnungswesen\", \"Finance et comptabilité\",\"Финансы и бухгалтерский учет\",\"Finanza e contabilità\"]\n",
    "dev_list=[\"デザイン\",\"Tasarım\",\"디자인\", \"IT & Software\"]\n",
    "design_list=[\"Diseño\",\"Fotografia e vídeo\"]\n",
    "\n",
    "def clean_subject(x):\n",
    "    if x in music_list:\n",
    "        return 'Music'\n",
    "    elif x in finance_list:\n",
    "        return 'Finance & Accounting'\n",
    "    elif x in dev_list:\n",
    "        return 'Development'\n",
    "    elif x in design_list:\n",
    "        return 'Design'\n",
    "    elif x == 'Office Productivity':\n",
    "        return 'Business'\n",
    "    elif x == 'Lifestyle':\n",
    "        return 'Health'\n",
    "    else:\n",
    "        return x\n",
    "        \n",
    "data['subject'] = list(map(clean_subject, data['subject']))\n",
    "data['subject'].value_counts(dropna=False)"
   ]
  },
  {
   "cell_type": "code",
   "execution_count": 12,
   "id": "59cd869f",
   "metadata": {
    "scrolled": true
   },
   "outputs": [
    {
     "data": {
      "text/plain": [
       "rating\n",
       "4.6    199\n",
       "4.5    198\n",
       "4.4    196\n",
       "4.3    164\n",
       "4.7    144\n",
       "4.2    139\n",
       "4.0    130\n",
       "4.1    119\n",
       "4.8    101\n",
       "3.9    101\n",
       "3.7     78\n",
       "3.6     68\n",
       "3.8     66\n",
       "4.9     40\n",
       "3.5     40\n",
       "5.0     29\n",
       "3.4     24\n",
       "3.3     23\n",
       "3.0     15\n",
       "3.2     14\n",
       "3.1     10\n",
       "NaN      7\n",
       "2.9      6\n",
       "0.0      4\n",
       "2.7      4\n",
       "2.6      3\n",
       "2.4      1\n",
       "1.4      1\n",
       "2.5      1\n",
       "Name: count, dtype: int64"
      ]
     },
     "execution_count": 12,
     "metadata": {},
     "output_type": "execute_result"
    }
   ],
   "source": [
    "#cleaning 'rating'\n",
    "import re\n",
    "\n",
    "def clean_parenthesis(x):\n",
    "    if x==':':\n",
    "        return float('nan')\n",
    "    elif x!=':':\n",
    "        pattern='（5段階中）'\n",
    "        s_new = re.sub(pattern,'',x)\n",
    "        s_new = s_new.replace(',','.')\n",
    "        pattern_2 = '점'\n",
    "        s_new = re.sub(pattern_2,'.0',s_new)\n",
    "        return s_new\n",
    "\n",
    "data['rating'] = list(map(clean_parenthesis, data['rating']))\n",
    "data['rating'].value_counts(dropna=False)"
   ]
  },
  {
   "cell_type": "code",
   "execution_count": 13,
   "id": "5063e9fe",
   "metadata": {
    "scrolled": true
   },
   "outputs": [
    {
     "data": {
      "text/plain": [
       "rating\n",
       "4.600000    199\n",
       "4.500000    198\n",
       "4.400000    196\n",
       "4.300000    164\n",
       "4.700000    144\n",
       "4.200000    139\n",
       "4.000000    130\n",
       "4.100000    119\n",
       "4.800000    101\n",
       "3.900000    101\n",
       "3.700000     78\n",
       "3.600000     68\n",
       "3.800000     66\n",
       "4.900000     40\n",
       "3.500000     40\n",
       "5.000000     29\n",
       "3.400000     24\n",
       "3.300000     23\n",
       "3.000000     15\n",
       "3.200000     14\n",
       "3.100000     10\n",
       "4.226799      7\n",
       "2.900000      6\n",
       "0.000000      4\n",
       "2.700000      4\n",
       "2.600000      3\n",
       "2.400000      1\n",
       "1.400000      1\n",
       "2.500000      1\n",
       "Name: count, dtype: int64"
      ]
     },
     "execution_count": 13,
     "metadata": {},
     "output_type": "execute_result"
    }
   ],
   "source": [
    "#replacing Nan with the rating mean\n",
    "data['rating'] = data['rating'].astype(float)\n",
    "data['rating'].fillna(data['rating'].mean(), inplace=True)\n",
    "data['rating'].value_counts(dropna=False)"
   ]
  },
  {
   "cell_type": "code",
   "execution_count": 14,
   "id": "8d8de17a",
   "metadata": {},
   "outputs": [
    {
     "data": {
      "text/plain": [
       "number_of_ratings\n",
       "NaN       96\n",
       "9         19\n",
       "15        19\n",
       "10        18\n",
       "21        18\n",
       "          ..\n",
       "3.194      1\n",
       "154        1\n",
       "11,018     1\n",
       "1,436      1\n",
       "669        1\n",
       "Name: count, Length: 759, dtype: int64"
      ]
     },
     "execution_count": 14,
     "metadata": {},
     "output_type": "execute_result"
    }
   ],
   "source": [
    "# cleaning 'number_of_ratings'\n",
    "\n",
    "def clean_num_rating(x):\n",
    "    if type(x)!=float:\n",
    "        pattern='件の評価）|時間|hr|min|평가'\n",
    "        matches = re.findall(pattern, x, flags=re.IGNORECASE)\n",
    "        if len(matches)>0:\n",
    "            return float('nan')\n",
    "        else:\n",
    "            return x\n",
    "    else:\n",
    "        return x\n",
    "    \n",
    "data['number_of_ratings'] = list(map(clean_num_rating, data['number_of_ratings']))\n",
    "data['number_of_ratings'].value_counts(dropna=False)"
   ]
  },
  {
   "cell_type": "code",
   "execution_count": 15,
   "id": "a835002e",
   "metadata": {},
   "outputs": [
    {
     "data": {
      "text/plain": [
       "number_of_ratings\n",
       "NaN      96\n",
       "9        19\n",
       "15       19\n",
       "10       18\n",
       "21       18\n",
       "         ..\n",
       "3.194     1\n",
       "154       1\n",
       "11018     1\n",
       "1436      1\n",
       "669       1\n",
       "Name: count, Length: 759, dtype: int64"
      ]
     },
     "execution_count": 15,
     "metadata": {},
     "output_type": "execute_result"
    }
   ],
   "source": [
    "def clean_separator(x):\n",
    "    if type(x)==float:\n",
    "        return x\n",
    "    else:\n",
    "        s_new = x.replace(',','')\n",
    "        return s_new\n",
    "\n",
    "data['number_of_ratings'] = list(map(clean_separator, data['number_of_ratings']))\n",
    "data['number_of_ratings'].value_counts(dropna=False)"
   ]
  },
  {
   "cell_type": "code",
   "execution_count": 16,
   "id": "3c9c3b6f",
   "metadata": {},
   "outputs": [
    {
     "data": {
      "text/plain": [
       "number_of_ratings\n",
       "1728.286554     96\n",
       "9.000000        19\n",
       "15.000000       19\n",
       "10.000000       18\n",
       "21.000000       18\n",
       "                ..\n",
       "3.194000         1\n",
       "154.000000       1\n",
       "11018.000000     1\n",
       "1436.000000      1\n",
       "669.000000       1\n",
       "Name: count, Length: 759, dtype: int64"
      ]
     },
     "execution_count": 16,
     "metadata": {},
     "output_type": "execute_result"
    }
   ],
   "source": [
    "#replacing Nan with the nuumber_of_rating mean\n",
    "data['number_of_ratings'] = data['number_of_ratings'].astype(float)\n",
    "data['number_of_ratings'].fillna(data['number_of_ratings'].mean(), inplace=True)\n",
    "data['number_of_ratings'].value_counts(dropna=False)"
   ]
  },
  {
   "cell_type": "code",
   "execution_count": 17,
   "id": "ebb2d5a3",
   "metadata": {},
   "outputs": [
    {
     "data": {
      "text/plain": [
       "update_date\n",
       "Unknown    67\n",
       "1/2017     52\n",
       "5/2024     46\n",
       "2/2016     43\n",
       "4/2016     43\n",
       "           ..\n",
       "8/2014      1\n",
       "4/2012      1\n",
       "12/2012     1\n",
       "1/2013      1\n",
       "3/2013      1\n",
       "Name: count, Length: 144, dtype: int64"
      ]
     },
     "execution_count": 17,
     "metadata": {},
     "output_type": "execute_result"
    }
   ],
   "source": [
    "#cleaning update_date\n",
    "def clean_date(x):\n",
    "    if x=='[Auto]':\n",
    "        return 'Unknown'\n",
    "    else:\n",
    "        return x\n",
    "data['update_date'] = list(map(clean_date, data['update_date']))\n",
    "data['update_date'].fillna('Unknown', inplace=True)\n",
    "data['update_date'].value_counts(dropna=False)"
   ]
  },
  {
   "cell_type": "code",
   "execution_count": 18,
   "id": "8325ca77",
   "metadata": {},
   "outputs": [
    {
     "data": {
      "text/plain": [
       "25"
      ]
     },
     "execution_count": 18,
     "metadata": {},
     "output_type": "execute_result"
    }
   ],
   "source": [
    "#clean number_of_students\n",
    "def clean_separator2(x):\n",
    "    if type(x)!=float:\n",
    "        x = x.replace('.','')\n",
    "        pattern='人の受講生|명의'\n",
    "        matches = re.findall(pattern, x, flags=re.IGNORECASE)\n",
    "        if len(matches)>0:\n",
    "            return float('nan')\n",
    "        else:\n",
    "            return x\n",
    "    else:\n",
    "        return x\n",
    "\n",
    "data['number_of_students'] = list(map(clean_separator2, data['number_of_students']))\n",
    "data['number_of_students'] = data['number_of_students'].astype(float)\n",
    "data['number_of_students'].isna().sum()"
   ]
  },
  {
   "cell_type": "code",
   "execution_count": 19,
   "id": "8311014d",
   "metadata": {},
   "outputs": [
    {
     "data": {
      "text/plain": [
       "number_of_students\n",
       "12469.926316    25\n",
       "1410.000000      4\n",
       "1156.000000      4\n",
       "174.000000       4\n",
       "404.000000       3\n",
       "                ..\n",
       "60135.000000     1\n",
       "3925.000000      1\n",
       "1611.000000      1\n",
       "5541.000000      1\n",
       "1061.000000      1\n",
       "Name: count, Length: 1670, dtype: int64"
      ]
     },
     "execution_count": 19,
     "metadata": {},
     "output_type": "execute_result"
    }
   ],
   "source": [
    "#replacing Nan with the nuumber_of_students mean\n",
    "data['number_of_students'].fillna(data['number_of_students'].mean(), inplace=True)\n",
    "data['number_of_students'].value_counts(dropna=False)"
   ]
  },
  {
   "cell_type": "code",
   "execution_count": 20,
   "id": "37d1ba7d",
   "metadata": {},
   "outputs": [],
   "source": [
    "#creating a column for time since course creation\n",
    "def time_since(x):\n",
    "    s_new=x.split('-')\n",
    "    return s_new[0]\n",
    "\n",
    "data['time_since_creation'] = list(map(time_since, data['published_timestamp']))"
   ]
  },
  {
   "cell_type": "code",
   "execution_count": 21,
   "id": "97d746f7",
   "metadata": {},
   "outputs": [],
   "source": [
    "data['time_since_creation']=data['time_since_creation'].astype(int)\n",
    "def calculate_time(x):\n",
    "    time=2024-x\n",
    "    return time\n",
    "data['time_since_creation'] = list(map(calculate_time, data['time_since_creation']))"
   ]
  },
  {
   "cell_type": "code",
   "execution_count": 22,
   "id": "cd90f22d",
   "metadata": {},
   "outputs": [
    {
     "data": {
      "text/plain": [
       "time_since_creation\n",
       "8     651\n",
       "9     536\n",
       "7     361\n",
       "10    227\n",
       "11    116\n",
       "12     30\n",
       "13      4\n",
       "Name: count, dtype: int64"
      ]
     },
     "execution_count": 22,
     "metadata": {},
     "output_type": "execute_result"
    }
   ],
   "source": [
    "data['time_since_creation'].value_counts(dropna=False)"
   ]
  },
  {
   "cell_type": "code",
   "execution_count": 23,
   "id": "1486f69b",
   "metadata": {},
   "outputs": [
    {
     "data": {
      "text/plain": [
       "course_title           0\n",
       "url                    0\n",
       "price                  0\n",
       "num_subscribers        0\n",
       "num_reviews            0\n",
       "num_lectures           0\n",
       "level                  0\n",
       "content_duration       0\n",
       "published_timestamp    0\n",
       "subject                0\n",
       "rating                 0\n",
       "number_of_ratings      0\n",
       "update_date            0\n",
       "number_of_students     0\n",
       "time_since_creation    0\n",
       "dtype: int64"
      ]
     },
     "execution_count": 23,
     "metadata": {},
     "output_type": "execute_result"
    }
   ],
   "source": [
    "data.isna().sum()"
   ]
  },
  {
   "cell_type": "code",
   "execution_count": 24,
   "id": "5909c1d3",
   "metadata": {},
   "outputs": [
    {
     "data": {
      "text/plain": [
       "course_title            object\n",
       "url                     object\n",
       "price                    int64\n",
       "num_subscribers          int64\n",
       "num_reviews              int64\n",
       "num_lectures             int64\n",
       "level                   object\n",
       "content_duration       float64\n",
       "published_timestamp     object\n",
       "subject                 object\n",
       "rating                 float64\n",
       "number_of_ratings      float64\n",
       "update_date             object\n",
       "number_of_students     float64\n",
       "time_since_creation      int64\n",
       "dtype: object"
      ]
     },
     "execution_count": 24,
     "metadata": {},
     "output_type": "execute_result"
    }
   ],
   "source": [
    "data.dtypes"
   ]
  },
  {
   "cell_type": "code",
   "execution_count": 25,
   "id": "cf764810",
   "metadata": {},
   "outputs": [],
   "source": [
    "data.to_csv('cleaned_data.csv', index=False)"
   ]
  },
  {
   "cell_type": "code",
   "execution_count": 26,
   "id": "14fedb0e",
   "metadata": {},
   "outputs": [
    {
     "data": {
      "text/html": [
       "<div>\n",
       "<style scoped>\n",
       "    .dataframe tbody tr th:only-of-type {\n",
       "        vertical-align: middle;\n",
       "    }\n",
       "\n",
       "    .dataframe tbody tr th {\n",
       "        vertical-align: top;\n",
       "    }\n",
       "\n",
       "    .dataframe thead th {\n",
       "        text-align: right;\n",
       "    }\n",
       "</style>\n",
       "<table border=\"1\" class=\"dataframe\">\n",
       "  <thead>\n",
       "    <tr style=\"text-align: right;\">\n",
       "      <th></th>\n",
       "      <th>course_title</th>\n",
       "      <th>url</th>\n",
       "      <th>price</th>\n",
       "      <th>num_subscribers</th>\n",
       "      <th>num_reviews</th>\n",
       "      <th>num_lectures</th>\n",
       "      <th>level</th>\n",
       "      <th>content_duration</th>\n",
       "      <th>published_timestamp</th>\n",
       "      <th>subject</th>\n",
       "      <th>rating</th>\n",
       "      <th>number_of_ratings</th>\n",
       "      <th>update_date</th>\n",
       "      <th>number_of_students</th>\n",
       "      <th>time_since_creation</th>\n",
       "    </tr>\n",
       "  </thead>\n",
       "  <tbody>\n",
       "    <tr>\n",
       "      <th>0</th>\n",
       "      <td>Ultimate Investment Banking Course</td>\n",
       "      <td>https://www.udemy.com/ultimate-investment-bank...</td>\n",
       "      <td>200</td>\n",
       "      <td>2147</td>\n",
       "      <td>23</td>\n",
       "      <td>51</td>\n",
       "      <td>All Levels</td>\n",
       "      <td>1.5</td>\n",
       "      <td>2017-01-18T20:58:58Z</td>\n",
       "      <td>Finance &amp; Accounting</td>\n",
       "      <td>3.6</td>\n",
       "      <td>114.0</td>\n",
       "      <td>2/2017</td>\n",
       "      <td>2612.0</td>\n",
       "      <td>7</td>\n",
       "    </tr>\n",
       "    <tr>\n",
       "      <th>1</th>\n",
       "      <td>Complete GST Course &amp; Certification - Grow You...</td>\n",
       "      <td>https://www.udemy.com/goods-and-services-tax/</td>\n",
       "      <td>75</td>\n",
       "      <td>2792</td>\n",
       "      <td>923</td>\n",
       "      <td>274</td>\n",
       "      <td>All Levels</td>\n",
       "      <td>39.0</td>\n",
       "      <td>2017-03-09T16:34:20Z</td>\n",
       "      <td>Finance &amp; Accounting</td>\n",
       "      <td>3.7</td>\n",
       "      <td>1436.0</td>\n",
       "      <td>7/2017</td>\n",
       "      <td>4292.0</td>\n",
       "      <td>7</td>\n",
       "    </tr>\n",
       "    <tr>\n",
       "      <th>2</th>\n",
       "      <td>Financial Modeling for Business Analysts and C...</td>\n",
       "      <td>https://www.udemy.com/financial-modeling-for-b...</td>\n",
       "      <td>45</td>\n",
       "      <td>2174</td>\n",
       "      <td>74</td>\n",
       "      <td>51</td>\n",
       "      <td>Intermediate Level</td>\n",
       "      <td>2.5</td>\n",
       "      <td>2016-12-19T19:26:30Z</td>\n",
       "      <td>Finance &amp; Accounting</td>\n",
       "      <td>4.6</td>\n",
       "      <td>1636.0</td>\n",
       "      <td>5/2024</td>\n",
       "      <td>12820.0</td>\n",
       "      <td>8</td>\n",
       "    </tr>\n",
       "    <tr>\n",
       "      <th>3</th>\n",
       "      <td>Beginner to Pro - Excel Tutorial</td>\n",
       "      <td>https://www.udemy.com/complete-excel-finance-c...</td>\n",
       "      <td>95</td>\n",
       "      <td>2451</td>\n",
       "      <td>11</td>\n",
       "      <td>36</td>\n",
       "      <td>All Levels</td>\n",
       "      <td>3.0</td>\n",
       "      <td>2017-05-30T20:07:24Z</td>\n",
       "      <td>Finance &amp; Accounting</td>\n",
       "      <td>4.0</td>\n",
       "      <td>551.0</td>\n",
       "      <td>8/2020</td>\n",
       "      <td>17498.0</td>\n",
       "      <td>7</td>\n",
       "    </tr>\n",
       "    <tr>\n",
       "      <th>4</th>\n",
       "      <td>How To Maximize Your Profits Trading Options</td>\n",
       "      <td>https://www.udemy.com/how-to-maximize-your-pro...</td>\n",
       "      <td>200</td>\n",
       "      <td>1276</td>\n",
       "      <td>45</td>\n",
       "      <td>26</td>\n",
       "      <td>Intermediate Level</td>\n",
       "      <td>2.0</td>\n",
       "      <td>2016-12-13T14:57:18Z</td>\n",
       "      <td>Finance &amp; Accounting</td>\n",
       "      <td>4.7</td>\n",
       "      <td>200.0</td>\n",
       "      <td>11/2022</td>\n",
       "      <td>21164.0</td>\n",
       "      <td>8</td>\n",
       "    </tr>\n",
       "    <tr>\n",
       "      <th>...</th>\n",
       "      <td>...</td>\n",
       "      <td>...</td>\n",
       "      <td>...</td>\n",
       "      <td>...</td>\n",
       "      <td>...</td>\n",
       "      <td>...</td>\n",
       "      <td>...</td>\n",
       "      <td>...</td>\n",
       "      <td>...</td>\n",
       "      <td>...</td>\n",
       "      <td>...</td>\n",
       "      <td>...</td>\n",
       "      <td>...</td>\n",
       "      <td>...</td>\n",
       "      <td>...</td>\n",
       "    </tr>\n",
       "    <tr>\n",
       "      <th>1920</th>\n",
       "      <td>Building Better APIs with GraphQL</td>\n",
       "      <td>https://www.udemy.com/building-better-apis-wit...</td>\n",
       "      <td>50</td>\n",
       "      <td>555</td>\n",
       "      <td>89</td>\n",
       "      <td>16</td>\n",
       "      <td>All Levels</td>\n",
       "      <td>2.5</td>\n",
       "      <td>2015-11-29T22:02:02Z</td>\n",
       "      <td>Development</td>\n",
       "      <td>4.1</td>\n",
       "      <td>145.0</td>\n",
       "      <td>12/2015</td>\n",
       "      <td>932.0</td>\n",
       "      <td>9</td>\n",
       "    </tr>\n",
       "    <tr>\n",
       "      <th>1921</th>\n",
       "      <td>Learn Grunt with Examples: Automate Your Front...</td>\n",
       "      <td>https://www.udemy.com/learn-grunt-automate-you...</td>\n",
       "      <td>20</td>\n",
       "      <td>496</td>\n",
       "      <td>113</td>\n",
       "      <td>17</td>\n",
       "      <td>All Levels</td>\n",
       "      <td>1.0</td>\n",
       "      <td>2014-12-19T21:38:54Z</td>\n",
       "      <td>Development</td>\n",
       "      <td>3.6</td>\n",
       "      <td>231.0</td>\n",
       "      <td>12/2014</td>\n",
       "      <td>906.0</td>\n",
       "      <td>10</td>\n",
       "    </tr>\n",
       "    <tr>\n",
       "      <th>1922</th>\n",
       "      <td>jQuery UI in Action: Build 13 jQuery UI Projects</td>\n",
       "      <td>https://www.udemy.com/jquery-ui-practical-buil...</td>\n",
       "      <td>150</td>\n",
       "      <td>382</td>\n",
       "      <td>28</td>\n",
       "      <td>140</td>\n",
       "      <td>All Levels</td>\n",
       "      <td>15.5</td>\n",
       "      <td>2016-10-10T22:00:32Z</td>\n",
       "      <td>Development</td>\n",
       "      <td>4.6</td>\n",
       "      <td>222.0</td>\n",
       "      <td>11/2021</td>\n",
       "      <td>3205.0</td>\n",
       "      <td>8</td>\n",
       "    </tr>\n",
       "    <tr>\n",
       "      <th>1923</th>\n",
       "      <td>Learn and Build using Polymer LitElement (beyo...</td>\n",
       "      <td>https://www.udemy.com/learn-and-build-using-po...</td>\n",
       "      <td>40</td>\n",
       "      <td>513</td>\n",
       "      <td>169</td>\n",
       "      <td>48</td>\n",
       "      <td>All Levels</td>\n",
       "      <td>3.5</td>\n",
       "      <td>2015-12-30T16:41:42Z</td>\n",
       "      <td>Development</td>\n",
       "      <td>3.3</td>\n",
       "      <td>669.0</td>\n",
       "      <td>10/2018</td>\n",
       "      <td>2405.0</td>\n",
       "      <td>9</td>\n",
       "    </tr>\n",
       "    <tr>\n",
       "      <th>1924</th>\n",
       "      <td>Using MODX CMS to Build Websites: A Beginner's...</td>\n",
       "      <td>https://www.udemy.com/using-modx-cms-to-build-...</td>\n",
       "      <td>45</td>\n",
       "      <td>901</td>\n",
       "      <td>36</td>\n",
       "      <td>20</td>\n",
       "      <td>Beginner Level</td>\n",
       "      <td>2.0</td>\n",
       "      <td>2014-09-28T19:51:11Z</td>\n",
       "      <td>Development</td>\n",
       "      <td>4.0</td>\n",
       "      <td>73.0</td>\n",
       "      <td>10/2014</td>\n",
       "      <td>1061.0</td>\n",
       "      <td>10</td>\n",
       "    </tr>\n",
       "  </tbody>\n",
       "</table>\n",
       "<p>1925 rows × 15 columns</p>\n",
       "</div>"
      ],
      "text/plain": [
       "                                           course_title  \\\n",
       "0                    Ultimate Investment Banking Course   \n",
       "1     Complete GST Course & Certification - Grow You...   \n",
       "2     Financial Modeling for Business Analysts and C...   \n",
       "3                      Beginner to Pro - Excel Tutorial   \n",
       "4          How To Maximize Your Profits Trading Options   \n",
       "...                                                 ...   \n",
       "1920                  Building Better APIs with GraphQL   \n",
       "1921  Learn Grunt with Examples: Automate Your Front...   \n",
       "1922   jQuery UI in Action: Build 13 jQuery UI Projects   \n",
       "1923  Learn and Build using Polymer LitElement (beyo...   \n",
       "1924  Using MODX CMS to Build Websites: A Beginner's...   \n",
       "\n",
       "                                                    url  price  \\\n",
       "0     https://www.udemy.com/ultimate-investment-bank...    200   \n",
       "1         https://www.udemy.com/goods-and-services-tax/     75   \n",
       "2     https://www.udemy.com/financial-modeling-for-b...     45   \n",
       "3     https://www.udemy.com/complete-excel-finance-c...     95   \n",
       "4     https://www.udemy.com/how-to-maximize-your-pro...    200   \n",
       "...                                                 ...    ...   \n",
       "1920  https://www.udemy.com/building-better-apis-wit...     50   \n",
       "1921  https://www.udemy.com/learn-grunt-automate-you...     20   \n",
       "1922  https://www.udemy.com/jquery-ui-practical-buil...    150   \n",
       "1923  https://www.udemy.com/learn-and-build-using-po...     40   \n",
       "1924  https://www.udemy.com/using-modx-cms-to-build-...     45   \n",
       "\n",
       "      num_subscribers  num_reviews  num_lectures               level  \\\n",
       "0                2147           23            51          All Levels   \n",
       "1                2792          923           274          All Levels   \n",
       "2                2174           74            51  Intermediate Level   \n",
       "3                2451           11            36          All Levels   \n",
       "4                1276           45            26  Intermediate Level   \n",
       "...               ...          ...           ...                 ...   \n",
       "1920              555           89            16          All Levels   \n",
       "1921              496          113            17          All Levels   \n",
       "1922              382           28           140          All Levels   \n",
       "1923              513          169            48          All Levels   \n",
       "1924              901           36            20      Beginner Level   \n",
       "\n",
       "      content_duration   published_timestamp               subject  rating  \\\n",
       "0                  1.5  2017-01-18T20:58:58Z  Finance & Accounting     3.6   \n",
       "1                 39.0  2017-03-09T16:34:20Z  Finance & Accounting     3.7   \n",
       "2                  2.5  2016-12-19T19:26:30Z  Finance & Accounting     4.6   \n",
       "3                  3.0  2017-05-30T20:07:24Z  Finance & Accounting     4.0   \n",
       "4                  2.0  2016-12-13T14:57:18Z  Finance & Accounting     4.7   \n",
       "...                ...                   ...                   ...     ...   \n",
       "1920               2.5  2015-11-29T22:02:02Z           Development     4.1   \n",
       "1921               1.0  2014-12-19T21:38:54Z           Development     3.6   \n",
       "1922              15.5  2016-10-10T22:00:32Z           Development     4.6   \n",
       "1923               3.5  2015-12-30T16:41:42Z           Development     3.3   \n",
       "1924               2.0  2014-09-28T19:51:11Z           Development     4.0   \n",
       "\n",
       "      number_of_ratings update_date  number_of_students  time_since_creation  \n",
       "0                 114.0      2/2017              2612.0                    7  \n",
       "1                1436.0      7/2017              4292.0                    7  \n",
       "2                1636.0      5/2024             12820.0                    8  \n",
       "3                 551.0      8/2020             17498.0                    7  \n",
       "4                 200.0     11/2022             21164.0                    8  \n",
       "...                 ...         ...                 ...                  ...  \n",
       "1920              145.0     12/2015               932.0                    9  \n",
       "1921              231.0     12/2014               906.0                   10  \n",
       "1922              222.0     11/2021              3205.0                    8  \n",
       "1923              669.0     10/2018              2405.0                    9  \n",
       "1924               73.0     10/2014              1061.0                   10  \n",
       "\n",
       "[1925 rows x 15 columns]"
      ]
     },
     "execution_count": 26,
     "metadata": {},
     "output_type": "execute_result"
    }
   ],
   "source": [
    "data_2=pd.read_csv('cleaned_data.csv')\n",
    "data_2"
   ]
  },
  {
   "cell_type": "code",
   "execution_count": null,
   "id": "8f703453",
   "metadata": {},
   "outputs": [],
   "source": []
  }
 ],
 "metadata": {
  "kernelspec": {
   "display_name": "Python 3 (ipykernel)",
   "language": "python",
   "name": "python3"
  },
  "language_info": {
   "codemirror_mode": {
    "name": "ipython",
    "version": 3
   },
   "file_extension": ".py",
   "mimetype": "text/x-python",
   "name": "python",
   "nbconvert_exporter": "python",
   "pygments_lexer": "ipython3",
   "version": "3.11.7"
  }
 },
 "nbformat": 4,
 "nbformat_minor": 5
}
