{
 "cells": [
  {
   "cell_type": "markdown",
   "metadata": {},
   "source": [
    "# Lecture 0: Introduction to Python "
   ]
  },
  {
   "cell_type": "markdown",
   "metadata": {},
   "source": [
    "\n",
    "\n",
    "### <left> <b> <span style=\"color:brown;\"> Objective: </span> </b></left>\n",
    "\n",
    "My primary concern is to spark interest in a subject as challenging as computer programming. My approach isn't heavily focused on pure algorithmics, but this is becoming less and less of a requirement for learning modern object-oriented programming. I also hope to open as many doors as possible with these notes. Indeed, it seems important to me to show that computer programming is a vast universe of concepts and methods, in which everyone can find their area of interest. I want each student to develop skills somewhat different from those of others, tailored to their inclinations, allowing them to value themselves in their own eyes as well as in those of their peers, and also to make a specific contribution when asked to collaborate on large-scale projects. Moreover, emphasis is placed on manipulating different types of data structures, as these are the backbone of any software development. The ultimate goal for each student will be to complete an original programming project of significant importance. There are a large number of programming languages, each with its own advantages and disadvantages. One must be chosen. For my own beginnings in studying programming, I used Python, which is a very modern language with growing popularity.\n",
    "\n",
    "****\n"
   ]
  },
  {
   "cell_type": "markdown",
   "metadata": {},
   "source": [
    "## 0. Introduction"
   ]
  },
  {
   "cell_type": "markdown",
   "metadata": {},
   "source": [
    "### 0.0. Why Python?\n",
    "\n",
    "The Python programming language is an excellent option for both beginners and those with more advanced knowledge. It is a high-level language with a syntax that encourages writing clear and high-quality code. Additionally, learning Python is facilitated by the existence of an interactive interface, particularly through the use of `Jupyter notebooks`. That said, its appeal goes beyond just learning programming or algorithms; its popularity and usage extend well beyond the academic realm, as evidenced by its growing popularity. It has been chosen by major players such as `Google`, `YouTube`, and `NASA`.\n",
    "\n",
    "Python is a general-purpose programming language (i.e., serving multiple purposes and applicable to various fields of computer science). It is an interpreted language (meaning each line of code is read and then interpreted to be executed) rather than a compiled language. One of Python's greatest strengths is its portability, meaning its ability to run on different platforms (Mac OS X, Unix, Windows, etc.). It operates with an object-oriented approach and provides a complete development environment that includes, in addition to an interpreter, a set of libraries. It has numerous modules that offer flexibility in their usage: writing web applications (Django), scientific calculations, data processing, text processing, data analysis, network management (socket library), access to relational databases, etc. This great flexibility and its ability to integrate into different technical environments make it a top choice for Big Data analysis.\n",
    "\n",
    "\n",
    "\n",
    "The main features of the Python language:\n",
    "\n",
    "- **Simple** and __readable__ syntax: educational language that is easy to learn and use;\n",
    "- __Interpreted language__: interactive use or line-by-line script execution, no compilation process;\n",
    "- __High-level__: dynamic typing, active memory management, for greater ease of use;\n",
    "- __Multi-paradigm__: imperative and/or object-oriented language, depending on individual needs and capabilities;\n",
    "- __Free__ and __open-source__ software, widely spread (multi-platform) and used (strong community);\n",
    "- __Rich standard library__: Batteries included;\n",
    "- __Rich external library__: many high-quality libraries available in various fields (including scientific).\n",
    "\n",
    "Different versions of Python (for *Windows*, *Unix*, etc.), its original **tutorial**, its __reference manual__, the **documentation** for function libraries, etc., are available for free download from the [official website](http://www.python.org).\n",
    "\n",
    "\n",
    "\n",
    "\n",
    "\n",
    "\n",
    "The goal of this course is to learn a *single* high-level language, which allows for both quick analyses in everyday life – with just a few lines of interactive code – as well as more complex programs (larger projects, e.g., more than 100,000 lines).\n",
    "\n",
    "\n",
    "\n",
    "\n",
    "\n",
    "### 0.1. Prerequisites\n",
    "\n",
    "This notebook introduces the free Python language and describes the initial commands necessary to get started with the language. The content is accessible to both beginners and relatively experienced users. It is well-suited for someone who wants to learn Python programming, but it also contains the essentials for getting acquainted with data analysis.\n",
    "\n",
    "For more in-depth study, there are numerous educational resources available online. For example, the [official tutorial](https://docs.python.org/3/tutorial/index.html) for Python 3.4 provides abundant information for beginners. There is also [Sheppard's (2014)](http://www.kevinsheppard.com/images/0/09/Python_introduction.pdf) book, which offers an introduction to Python for Econometrics, Statistics, and Data Analysis, and [Mac Kinney's (2013)](http://it-ebooks.info/book/1041/) book, the principal author of the `pandas` library that we will discuss in a later notebook.\n",
    "\n",
    "In addition to this introductory chapter on the basics of the Python language, you can also benefit from consulting the first five sections of the [official tutorial](http://docs.python.org/py3k/tutorial/) for Python.\n",
    "\n",
    "\n",
    "\n",
    "### 0.2. Installation\n",
    "\n",
    "Python and its libraries can be installed on almost any operating system from the [official site](https://www.python.org/downloads/). Here, we list the main scientific libraries useful for scientific computing and for defining essential data structures and calculation functions:\n",
    "\n",
    "- `ipython`: for interactive use of Python,\n",
    "- `numpy`: for working with vectors and arrays,\n",
    "- `scipy`: integrates key numerical algorithms,\n",
    "- `matplotlib`: for plotting graphs,\n",
    "- `pandas`: for data structures and spreadsheets,\n",
    "- `patsy`: for statistical formulas,\n",
    "- `statsmodels`: for statistical modeling,\n",
    "- `seaborn`: for data visualization,\n",
    "- `scikit-learn`: for statistical learning algorithms,\n",
    "- `sympy`: for symbolic computation.\n",
    "\n",
    "\n",
    "\n",
    "\n",
    "### 0.3. Python 2.7 vs. 3 (or more specifically, Python 2.7 vs 3.5)\n",
    "\n",
    "I will briefly discuss the differences between Python 2.x and Python 3.x. Although this is not a major issue for this course, I think it's worth mentioning. Python comes in several versions that may be suitable for econometrics, statistics, and numerical analysis. Python 2.7 is the final version of the Python 2.x series — all future development work will focus on Python 3. Most differences between Python 2.7 and 3 are not critical for using Python in econometrics, statistics, and numerical analysis, i.e., scientific computing in general.\n",
    "\n",
    "Here, I mention four notable differences that will allow you to use 2.7 and 3 interchangeably. Note that these differences are relatively significant in standalone Python programs.\n",
    "\n",
    "1. **`print`**\n",
    "\n",
    "`print()` is a function used to display text in the console when running programs. In Python 2.7, `print` is a keyword that behaves differently from other functions. In Python 3, `print` behaves like most other functions. The standard usage in Python 2.7 is\n",
    "\n",
    "```python\n",
    "   print \"Strings to display.\"\n",
    "```\n",
    "\n",
    "whereas in Python 3, the standard usage is\n",
    "\n",
    "```python\n",
    "   print(\"Strings to display.\")\n",
    "```\n",
    "\n",
    "which resembles the call of a standard function. Python 2.7 includes a version of the Python 3 print function, which can be used in any program by including:\n",
    "\n",
    "\n",
    "```python\n",
    "   from __future__ import print_function\n",
    "```\n",
    "at the top of the program.\n",
    "\n",
    "\n",
    "2. <left> <b> <span style=\"color:brown;\">division</span> </b></left>\n",
    "\n",
    "Python 3 changes the way integers are divided. In Python 2.7, the division of two integers always resulted in an integer, and so the results were truncated toward 0 if the result was fractional. For example, in Python 2.7, 9/5 is 1. Python 3 gracefully converts the result to a floating-point number, so in Python 3, 9/5 is 1.8. When working with numerical data, automatic conversion of divisions helps avoid some rare errors. Python 2.7 can use Python 3's behavior by including:\n",
    "\n",
    "```python\n",
    "   from __future__ import division\n",
    "```\n",
    "at the top of the program.\n",
    "\n",
    "\n",
    "3. <left> <b> <span style=\"color:brown;\">range</span> </b></left> and <left> <b> <span style=\"color:brown;\">xrange</span> </b></left>\n",
    "\n",
    "It is often useful to generate a sequence of numbers for iteration over some data. In Python 2.7, the best practice is to use the keyword `xrange` for this purpose, while in Python 3, this keyword has been renamed to `range`.\n",
    "\n",
    "\n",
    "\n",
    "\n",
    "4. <left> <b> <span style=\"color:brown;\">Unicode Strings</span> </b></left>\n",
    "\n",
    "In Python 3, text strings are Unicode by default. In Python 2, strings are stored in ASCII by default—you need to add a \"u\" if you want to store Unicode strings in Python 2.x. This is important because Unicode is more versatile than ASCII. Unicode strings can store foreign language letters, Roman numerals, symbols, emojis, etc., giving you more options. In practice, this is unlikely to affect numeric code written in Python except possibly when reading or writing data. If you work in a language context where characters outside the standard 128-character ASCII set are used but are limited to those commonly encountered, it may be useful to use:\n",
    "\n",
    "\n",
    "```python\n",
    "   from __future__ import unicode_literals\n",
    "\n",
    "```\n",
    "\n",
    "to aid future compatibility when transitioning to Python 3.\n",
    "\n",
    "\n",
    "\n",
    "\n",
    "You can read more about these differences and other technical details on the following pages:\n",
    "\n",
    "  - [What Should I Learn as a Beginner: Python 2 or Python 3?](https://learntocodewith.me/programming/python/python-2-vs-python-3/)\n",
    "  - [The key differences between Python 2.7.x and Python 3.x with examples](https://sebastianraschka.com/Articles/2014_python_2_3_key_diff.html)\n",
    "  - [Python 2 vs Python 3: Key Differences](https://www.guru99.com/python-2-vs-python-3.html)\n",
    "\n",
    "  - [La migration de Python 2.X à Python 3.X](https://blog.invivoo.com/la-migration-de-python-2-x-a-python-3-x/)\n",
    "  \n",
    "  - [Différences entres python 2 et python 3](https://python.doctor/page-syntaxe-differente-python2-python3-python-differences)\n",
    "  - [Table de comparaison Python 2 vs 3](https://waytolearnx.com/2018/12/differences-entres-python-2-et-python-3.html)\n",
    "\n",
    "\n"
   ]
  },
  {
   "cell_type": "markdown",
   "metadata": {},
   "source": [
    "## 1. Using Python\n",
    "\n",
    "Python executes programs or scripts. This language also runs interactively using a command interpreter (`IDLE`) or `{IPython}`. In educational settings, using and creating a *Jupyter notebook* (formerly *IPython notebook*) through a simple browser (avoiding *Internet Explorer*) is preferred.\n",
    "\n",
    "### Python Environments\n",
    "\n",
    "You can run Python in various ways, including creating scripts or using the Python interpreter. There are several integrated development environments (IDEs) available:\n",
    "\n",
    "\n",
    "- **[PyCharm](https://www.jetbrains.com/pycharm/)**: A popular Python IDE by JetBrains with a range of features including code analysis, a debugger, and an integrated development environment for web development.\n",
    "\n",
    "- **[Spyder](https://www.spyder-ide.org/)**: An open-source IDE specifically designed for scientific computing and data analysis in Python, providing features such as an interactive console and variable explorer.\n",
    "\n",
    "- **[PyDev for Eclipse](https://www.pydev.org/)**: A Python IDE plugin for Eclipse, offering features such as code completion, debugging, and interactive console integration.\n",
    "\n",
    "- **[Rodeo](https://github.com/yhat/rodeo)**: An IDE for data science and analytics, providing a user-friendly interface similar to RStudio, designed to handle Python code, data exploration, and visualization.\n",
    "\n",
    "- **[Sublime Text](https://www.sublimetext.com/)**: A versatile text editor with support for Python development through various plugins and packages.\n",
    "\n",
    "- **[LiClipse](https://www.liclipse.com/)**: An Eclipse-based IDE that enhances the basic Eclipse features with additional support for Python and other languages.\n",
    "\n",
    "- **[Ninja IDE](https://ninja-ide.org/)**: A cross-platform IDE with support for Python development, offering features like a debugger, code completion, and project management.\n",
    "\n",
    "- **[Komodo IDE](https://www.activestate.com/products/komodo-ide/)**: A powerful IDE for multiple languages including Python, known for its advanced features such as debugging, code profiling, and version control integration.\n",
    "\n",
    "You can also run Python using the `Jupyter notebook`. This allows you to save your commands, do more than simple development, and is the approach we will follow.\n",
    "\n",
    "### Jupyter Notebook\n",
    "\n",
    "Commands are grouped into cells followed by their results after execution. These results and comments are stored in a specific `.ipynb` file and saved. LaTeX commands are accepted for integrating formulas, and the layout is managed using HTML tags or [*Markdown*](http://fr.wikipedia.org/wiki/Markdown).\n",
    "\n",
    "The save command also allows you to extract only the Python commands into a `.py` file. This is a simple and effective way to keep a complete history of an analysis for presentations or creating tutorials. The notebook can be loaded in different formats: `.html` page, `.pdf` file, or slideshow. Additional extensions might need to be installed. You can find a list of available extensions [here](https://pypi.org/project/jupyter-contrib-nbextensions/).\n",
    "\n",
    "According to the [Jupyter project](http://jupyter.org/), it provides this notebook environment for most programming languages (Python, Julia, ...). It becomes an essential tool for ensuring the *reproducibility* of analyses.\n",
    "\n",
    "Opening a notebook (IPython or Jupyter) in a browser can be done, depending on the installation, through menus or by executing: \n",
    "                              `jupyter notebook`.\n"
   ]
  },
  {
   "cell_type": "markdown",
   "metadata": {},
   "source": [
    "\n",
    "### Some Guidelines for Effective Use of the Notebook\n",
    "\n",
    "Although learning to navigate a Jupyter notebook could be covered in a tutorial, users will find it intuitive as the tabs at the top of the page are self-explanatory. Tutorials can be read on the [Jupyter project site](http://jupyter.org/). However, here are a few small pointers:\n",
    "\n",
    "Once the notebook is open:\n",
    "- Enter Python commands in a cell.\n",
    "- Click the cell execution button (or use `Shift + Enter` or `Ctrl + Enter`):\n",
    "   - `Shift + Enter` executes the current cell and moves the cursor to the next cell.\n",
    "   - `Ctrl + Enter` executes the current cell and keeps the cursor in the same cell.\n",
    "- Add comment cells and HTML or [Markdown](http://fr.wikipedia.org/wiki/Markdown) tags.\n",
    "\n",
    "Iterate by adding cells as needed. Once execution is complete:\n",
    "- Save the `.ipynb` notebook.\n",
    "- Optionally, export to a `.html` version for a web page.\n",
    "- Export the `.py` file containing the Python commands for an operational version.\n"
   ]
  },
  {
   "cell_type": "markdown",
   "metadata": {},
   "source": [
    "### Executing Files\n",
    "\n",
    "It is possible to execute scripts (with the `.py` extension) from within a Jupyter notebook using the magic command `%run`. Note that the script you want to execute must be saved in the same directory as the current notebook."
   ]
  },
  {
   "cell_type": "code",
   "execution_count": 1,
   "metadata": {},
   "outputs": [
    {
     "name": "stdout",
     "output_type": "stream",
     "text": [
      "hello world\n",
      "Are you looking for me?\n",
      "                               ..  .  .           .\n",
      "                                    :,.     ?NI  .\n",
      "                    ..       .:::?MMMMMMMMMMMMMM8=..:~,   .  .\n",
      "                        8MMMMMMMMMMMMMMMMMMMMMMMMMMMMMMMMMM?\n",
      "                    .:$MMMMMMMMMMMMMMMMMMMMMMMMMMMMMMMMMMMMMM,\n",
      "              . DMMMMMMMMMMMMMMMMMMMMMMMMMMMMMMMMMMMMMMMMMMMMMMM,.\n",
      "              MMMMMMMMMMMMMMMMMMMMMMMMMMMMMMMMMMMMMMMMMMMMMMMMMMM\n",
      "             MMMMMMMMMMMMMMMMMMMMMMMMMMMMMMMMMMMMMMMMMMMMMMMMMMMMMN~\n",
      "         .  8MMMMMMMMMMMMMMMMMMMMMMMMMMMMMMMMMMMMMMMMMMMMMMMMMMMMMMMM,.\n",
      "          $MMMMMMMMMMMMMMMMMMMMMMMMMMMMMMMMMMMMMMMMMMMMMMMMMMMMMMMMMMM\n",
      "        .8MMMMMMMMMMMMMMMMMMMMMMMMMMMMMMMMMMMMMMMMMMMMMMMMMMMMMMMMMMMM, ..\n",
      "        ZMMMMMMMMMMMMMMMMMMMMMMMMMMMMMMMMMMMMMMMMMMMMMMMMMMMMMMMMMMMMMM\n",
      "        MMMMMMMMMMMMMMMMMMMMMMMMMMMMMMMMMMMMMMMMMMMMMMMMMMMMMMMMMMMMMMMM8\n",
      "   .   NMMMMMMMMMMMMMMMMMMMMMMMMMMMMMMMMMMMMMMMMMMMMMMMMMMMMMMMMMMMMMMMMM=\n",
      "    .?MMMMMMMMMMMMMMMMMMMMMMMMMMMMMMMMMMMMMMMMMMMMMMMMMMMMMMMMMMMMMMMMMMMZ\n",
      "    =MMMMMMMMMMMMMMMMMMMMMMMMMMMMMMMMMMMMMMMMMMMMMMMMMMMMMMMMMMMMMMMMMMMMMM\n",
      "    MMMMMMMMMMMMMMMMMMMMMMMMMMMMMMMMMMMMMMMMMMMMMMMMMMMMMMMMMMMMMMMMMMMMMMMM.\n",
      "   .MMMMMMMMMMMMMMMMMMMMMMMMMMMMMMMMMMMMMMMMMMMMMMMMMMMMZ  +MMMMMMMMMMMMMMMMO\n",
      "   .MMMMMMMMMMMMMMMMMMMMMMMMMMMMMMMMMMMMMMM .MM~.ZIMMMM .   ~MMMMMMMMMMMMMMM?\n",
      "    NMMMMMMMMMMMMMMMMMIDD, =+MOMM,    8$M.~    .. .,MM8.     MMMMMMMMMMMMMMN\n",
      "   8MMMMMMMMMMMMMMMM.                               .        8MMMMMMMMMMMMMN .\n",
      "  .MMMMMMMMMMMMMMMMM,.       .                              .MMMMMMMMMMMMMMMO\n",
      "  ,MMMMMMMMMMMMMMMMMO                                      ..MMMMMMMMMMMMMMM~\n",
      "   DMMMMMMMMMMMMMMMMM                                       :MMMMMMMMMMMMMMM:\n",
      "   IMMMMMMMMMMMMMMMMMO                                     . MMMMMMMMMMMMMMM+\n",
      "   IMMMMMMMMMMMMMMMMM      .                       .       . +MMMMMMMMMMMMMM:\n",
      "   :MMMMMMMMMMMMMMMMO                                        ,MMMMMMMMMMMMMM\n",
      "   NMMMMMMMMMMMMMMMMD   ~NMMD.                    ..7OMMMMMO .MMMMMMMMMMMMM7\n",
      ". .MMMMMMMMMMMMMMMMMM  NMNNMMMMMMN8         .   OMMMMM$.   ,O MMMMMMMMMMMM~  .\n",
      "   MMMMMMMMMMMMMMMMM7 .         IMMMM.      . .7. . .=$7?   . .MM?MMMMMMM\n",
      "    +MMMMMMMMMMMMMMM.    .ZMMMMMMM8, :  . .  D. Z$MMMMO.$MM    M$ MMMMMMM\n",
      "    ..MMMMMMMMM:8 MM... . NM $M=M.O,N :, .  ,. 78: IMN I:N    .8 ~MMMMMMM8\n",
      "   . ?MMMMMMMMMD. ZO.   .  ZI$I$O+~= ? O    =...::~$Z$8+       8 MMMMMMMMM\n",
      "    .?MMMMMMMMMM  $$.       . ...      + .  ~.         .      .7 MMMMMMMM=\n",
      "      MMMMMMMMMM= O~..              ..      ~.               ..7~MMMMMMMI\n",
      "        DMMMMMMMM,M.O                       ,.             ...=.NMMMMMMMO\n",
      "   .  .  MMMMMMMMM  M                       .~.               Z.MMMMMMMMM\n",
      "         7MMMMMMMM8 M                        O                MMMMMMMMMM:.\n",
      "         ?MMMMMMMMM8M              .         +                MMMMMMMMMM  .\n",
      "        .MMMMMMMMMMMM              ~            .$         ..:MMMMMMMMM..\n",
      "        ZMMMMMMMMMMMM:         .  ,.          .  ,=          +M ~OMMMM7~::::.\n",
      "       .,MMMMMMMMMMMM7           .:I.7~      MMD?M         . 8~   .       .\n",
      "         =MMMMMMMMMMMM             .DMO DD?D,+               M.           ..\n",
      "          MMMMMMMMMMMM,           . ~MMMMMMMMMMMN:          ,8\n",
      "       .   ,MMMMMMMMMMM           $MMMMMMMMMMMMMMMM8        M~\n",
      "            OMMMMMMMMMM=        OMMMMMMMMMIMMMMMMMMMM7     =M\n",
      "           .  ,MMMMMMM+.7      7MMMMI.     .  ..:=MMMM.  .$8.\n",
      "                    M~  :Z     .ND88NND?,.  .?DN8O,$~I   :Z\n",
      "                   D+ .  .M     .7,      ~87      M   ..~I\n",
      "                  7I  .    M   .. .Z       ..    M    .+Z.\n",
      "                 ,N         M    .  8.     . ..$~.    :$\n",
      "            ..  .M.        . M.  .  . D+    =D:.     ,N\n",
      "              $M~             M   .     .,.  .  .   .M\n",
      "          . +D.               .~+                  .M\n",
      "          .DO                   ,O              .  M\n",
      "        ,M+                      .M.      ..     =M\n",
      "    ..+M?..                        =M7.  .     ?M? .\n",
      "   .D8   .                       .... .?8MMMNO?  .   .\n",
      "  +.\n",
      "\n",
      "                                                                 GlassGiant.com\n",
      "\n"
     ]
    }
   ],
   "source": [
    "%run hello.py"
   ]
  },
  {
   "cell_type": "markdown",
   "metadata": {},
   "source": [
    "### Getting Help\n",
    "\n",
    "Finding your way around can be done with the help feature. To get help on the `int` type in Python, you can use the `help()` function. Here’s how you can do it in a Jupyter notebook or Python environment:\n",
    "\n",
    "```python\n",
    "help(int)\n",
    "```\n",
    "\n",
    "This will display information about the `int` type, including its methods and how it can be used.\n"
   ]
  },
  {
   "cell_type": "code",
   "execution_count": 2,
   "metadata": {},
   "outputs": [
    {
     "name": "stdout",
     "output_type": "stream",
     "text": [
      "Help on class int in module builtins:\n",
      "\n",
      "class int(object)\n",
      " |  int([x]) -> integer\n",
      " |  int(x, base=10) -> integer\n",
      " |  \n",
      " |  Convert a number or string to an integer, or return 0 if no arguments\n",
      " |  are given.  If x is a number, return x.__int__().  For floating point\n",
      " |  numbers, this truncates towards zero.\n",
      " |  \n",
      " |  If x is not a number or if base is given, then x must be a string,\n",
      " |  bytes, or bytearray instance representing an integer literal in the\n",
      " |  given base.  The literal can be preceded by '+' or '-' and be surrounded\n",
      " |  by whitespace.  The base defaults to 10.  Valid bases are 0 and 2-36.\n",
      " |  Base 0 means to interpret the base from the string as an integer literal.\n",
      " |  >>> int('0b100', base=0)\n",
      " |  4\n",
      " |  \n",
      " |  Built-in subclasses:\n",
      " |      bool\n",
      " |  \n",
      " |  Methods defined here:\n",
      " |  \n",
      " |  __abs__(self, /)\n",
      " |      abs(self)\n",
      " |  \n",
      " |  __add__(self, value, /)\n",
      " |      Return self+value.\n",
      " |  \n",
      " |  __and__(self, value, /)\n",
      " |      Return self&value.\n",
      " |  \n",
      " |  __bool__(self, /)\n",
      " |      True if self else False\n",
      " |  \n",
      " |  __ceil__(...)\n",
      " |      Ceiling of an Integral returns itself.\n",
      " |  \n",
      " |  __divmod__(self, value, /)\n",
      " |      Return divmod(self, value).\n",
      " |  \n",
      " |  __eq__(self, value, /)\n",
      " |      Return self==value.\n",
      " |  \n",
      " |  __float__(self, /)\n",
      " |      float(self)\n",
      " |  \n",
      " |  __floor__(...)\n",
      " |      Flooring an Integral returns itself.\n",
      " |  \n",
      " |  __floordiv__(self, value, /)\n",
      " |      Return self//value.\n",
      " |  \n",
      " |  __format__(self, format_spec, /)\n",
      " |      Default object formatter.\n",
      " |  \n",
      " |  __ge__(self, value, /)\n",
      " |      Return self>=value.\n",
      " |  \n",
      " |  __getattribute__(self, name, /)\n",
      " |      Return getattr(self, name).\n",
      " |  \n",
      " |  __getnewargs__(self, /)\n",
      " |  \n",
      " |  __gt__(self, value, /)\n",
      " |      Return self>value.\n",
      " |  \n",
      " |  __hash__(self, /)\n",
      " |      Return hash(self).\n",
      " |  \n",
      " |  __index__(self, /)\n",
      " |      Return self converted to an integer, if self is suitable for use as an index into a list.\n",
      " |  \n",
      " |  __int__(self, /)\n",
      " |      int(self)\n",
      " |  \n",
      " |  __invert__(self, /)\n",
      " |      ~self\n",
      " |  \n",
      " |  __le__(self, value, /)\n",
      " |      Return self<=value.\n",
      " |  \n",
      " |  __lshift__(self, value, /)\n",
      " |      Return self<<value.\n",
      " |  \n",
      " |  __lt__(self, value, /)\n",
      " |      Return self<value.\n",
      " |  \n",
      " |  __mod__(self, value, /)\n",
      " |      Return self%value.\n",
      " |  \n",
      " |  __mul__(self, value, /)\n",
      " |      Return self*value.\n",
      " |  \n",
      " |  __ne__(self, value, /)\n",
      " |      Return self!=value.\n",
      " |  \n",
      " |  __neg__(self, /)\n",
      " |      -self\n",
      " |  \n",
      " |  __or__(self, value, /)\n",
      " |      Return self|value.\n",
      " |  \n",
      " |  __pos__(self, /)\n",
      " |      +self\n",
      " |  \n",
      " |  __pow__(self, value, mod=None, /)\n",
      " |      Return pow(self, value, mod).\n",
      " |  \n",
      " |  __radd__(self, value, /)\n",
      " |      Return value+self.\n",
      " |  \n",
      " |  __rand__(self, value, /)\n",
      " |      Return value&self.\n",
      " |  \n",
      " |  __rdivmod__(self, value, /)\n",
      " |      Return divmod(value, self).\n",
      " |  \n",
      " |  __repr__(self, /)\n",
      " |      Return repr(self).\n",
      " |  \n",
      " |  __rfloordiv__(self, value, /)\n",
      " |      Return value//self.\n",
      " |  \n",
      " |  __rlshift__(self, value, /)\n",
      " |      Return value<<self.\n",
      " |  \n",
      " |  __rmod__(self, value, /)\n",
      " |      Return value%self.\n",
      " |  \n",
      " |  __rmul__(self, value, /)\n",
      " |      Return value*self.\n",
      " |  \n",
      " |  __ror__(self, value, /)\n",
      " |      Return value|self.\n",
      " |  \n",
      " |  __round__(...)\n",
      " |      Rounding an Integral returns itself.\n",
      " |      \n",
      " |      Rounding with an ndigits argument also returns an integer.\n",
      " |  \n",
      " |  __rpow__(self, value, mod=None, /)\n",
      " |      Return pow(value, self, mod).\n",
      " |  \n",
      " |  __rrshift__(self, value, /)\n",
      " |      Return value>>self.\n",
      " |  \n",
      " |  __rshift__(self, value, /)\n",
      " |      Return self>>value.\n",
      " |  \n",
      " |  __rsub__(self, value, /)\n",
      " |      Return value-self.\n",
      " |  \n",
      " |  __rtruediv__(self, value, /)\n",
      " |      Return value/self.\n",
      " |  \n",
      " |  __rxor__(self, value, /)\n",
      " |      Return value^self.\n",
      " |  \n",
      " |  __sizeof__(self, /)\n",
      " |      Returns size in memory, in bytes.\n",
      " |  \n",
      " |  __sub__(self, value, /)\n",
      " |      Return self-value.\n",
      " |  \n",
      " |  __truediv__(self, value, /)\n",
      " |      Return self/value.\n",
      " |  \n",
      " |  __trunc__(...)\n",
      " |      Truncating an Integral returns itself.\n",
      " |  \n",
      " |  __xor__(self, value, /)\n",
      " |      Return self^value.\n",
      " |  \n",
      " |  as_integer_ratio(self, /)\n",
      " |      Return integer ratio.\n",
      " |      \n",
      " |      Return a pair of integers, whose ratio is exactly equal to the original int\n",
      " |      and with a positive denominator.\n",
      " |      \n",
      " |      >>> (10).as_integer_ratio()\n",
      " |      (10, 1)\n",
      " |      >>> (-10).as_integer_ratio()\n",
      " |      (-10, 1)\n",
      " |      >>> (0).as_integer_ratio()\n",
      " |      (0, 1)\n",
      " |  \n",
      " |  bit_count(self, /)\n",
      " |      Number of ones in the binary representation of the absolute value of self.\n",
      " |      \n",
      " |      Also known as the population count.\n",
      " |      \n",
      " |      >>> bin(13)\n",
      " |      '0b1101'\n",
      " |      >>> (13).bit_count()\n",
      " |      3\n",
      " |  \n",
      " |  bit_length(self, /)\n",
      " |      Number of bits necessary to represent self in binary.\n",
      " |      \n",
      " |      >>> bin(37)\n",
      " |      '0b100101'\n",
      " |      >>> (37).bit_length()\n",
      " |      6\n",
      " |  \n",
      " |  conjugate(...)\n",
      " |      Returns self, the complex conjugate of any int.\n",
      " |  \n",
      " |  to_bytes(self, /, length=1, byteorder='big', *, signed=False)\n",
      " |      Return an array of bytes representing an integer.\n",
      " |      \n",
      " |      length\n",
      " |        Length of bytes object to use.  An OverflowError is raised if the\n",
      " |        integer is not representable with the given number of bytes.  Default\n",
      " |        is length 1.\n",
      " |      byteorder\n",
      " |        The byte order used to represent the integer.  If byteorder is 'big',\n",
      " |        the most significant byte is at the beginning of the byte array.  If\n",
      " |        byteorder is 'little', the most significant byte is at the end of the\n",
      " |        byte array.  To request the native byte order of the host system, use\n",
      " |        `sys.byteorder' as the byte order value.  Default is to use 'big'.\n",
      " |      signed\n",
      " |        Determines whether two's complement is used to represent the integer.\n",
      " |        If signed is False and a negative integer is given, an OverflowError\n",
      " |        is raised.\n",
      " |  \n",
      " |  ----------------------------------------------------------------------\n",
      " |  Class methods defined here:\n",
      " |  \n",
      " |  from_bytes(bytes, byteorder='big', *, signed=False) from builtins.type\n",
      " |      Return the integer represented by the given array of bytes.\n",
      " |      \n",
      " |      bytes\n",
      " |        Holds the array of bytes to convert.  The argument must either\n",
      " |        support the buffer protocol or be an iterable object producing bytes.\n",
      " |        Bytes and bytearray are examples of built-in objects that support the\n",
      " |        buffer protocol.\n",
      " |      byteorder\n",
      " |        The byte order used to represent the integer.  If byteorder is 'big',\n",
      " |        the most significant byte is at the beginning of the byte array.  If\n",
      " |        byteorder is 'little', the most significant byte is at the end of the\n",
      " |        byte array.  To request the native byte order of the host system, use\n",
      " |        `sys.byteorder' as the byte order value.  Default is to use 'big'.\n",
      " |      signed\n",
      " |        Indicates whether two's complement is used to represent the integer.\n",
      " |  \n",
      " |  ----------------------------------------------------------------------\n",
      " |  Static methods defined here:\n",
      " |  \n",
      " |  __new__(*args, **kwargs) from builtins.type\n",
      " |      Create and return a new object.  See help(type) for accurate signature.\n",
      " |  \n",
      " |  ----------------------------------------------------------------------\n",
      " |  Data descriptors defined here:\n",
      " |  \n",
      " |  denominator\n",
      " |      the denominator of a rational number in lowest terms\n",
      " |  \n",
      " |  imag\n",
      " |      the imaginary part of a complex number\n",
      " |  \n",
      " |  numerator\n",
      " |      the numerator of a rational number in lowest terms\n",
      " |  \n",
      " |  real\n",
      " |      the real part of a complex number\n",
      "\n"
     ]
    }
   ],
   "source": [
    "help(int)"
   ]
  },
  {
   "cell_type": "markdown",
   "metadata": {},
   "source": [
    "In a Jupyter notebook, you can use the `?` syntax to get a simplified version of the help for the `int` type:\n",
    "\n",
    "```python\n",
    "int?\n",
    "```\n",
    "\n",
    "This will display a brief overview of the `int` type, including a summary of its methods and usage."
   ]
  },
  {
   "cell_type": "code",
   "execution_count": 3,
   "metadata": {},
   "outputs": [],
   "source": [
    "\n",
    "int?"
   ]
  },
  {
   "cell_type": "markdown",
   "metadata": {},
   "source": [
    "### Resetting Jupyter\n",
    "\n",
    "The magic command `%reset` is used to reset the notebook. It clears all variables existing in the current session.\n",
    "\n",
    "To use it, simply type:\n",
    "\n",
    "```python\n",
    "%reset\n",
    "```\n",
    "\n",
    "This command will prompt you to confirm the reset. If you want to reset without confirmation, you can use:\n",
    "\n",
    "```python\n",
    "%reset -f\n",
    "```\n",
    "\n"
   ]
  },
  {
   "cell_type": "code",
   "execution_count": 4,
   "metadata": {},
   "outputs": [
    {
     "name": "stdout",
     "output_type": "stream",
     "text": [
      "Let's do the necessary.\n"
     ]
    }
   ],
   "source": [
    "my_char1 = \"Let's do the necessary.\" \n",
    "print(my_char1)"
   ]
  },
  {
   "cell_type": "code",
   "execution_count": 5,
   "metadata": {},
   "outputs": [
    {
     "name": "stdout",
     "output_type": "stream",
     "text": [
      "Once deleted, variables cannot be recovered. Proceed (y/[n])? y\n"
     ]
    }
   ],
   "source": [
    "%reset"
   ]
  },
  {
   "cell_type": "code",
   "execution_count": 6,
   "metadata": {},
   "outputs": [
    {
     "ename": "NameError",
     "evalue": "name 'my_char1' is not defined",
     "output_type": "error",
     "traceback": [
      "\u001b[0;31m---------------------------------------------------------------------------\u001b[0m",
      "\u001b[0;31mNameError\u001b[0m                                 Traceback (most recent call last)",
      "Cell \u001b[0;32mIn [6], line 1\u001b[0m\n\u001b[0;32m----> 1\u001b[0m \u001b[38;5;28mprint\u001b[39m(\u001b[43mmy_char1\u001b[49m)\n",
      "\u001b[0;31mNameError\u001b[0m: name 'my_char1' is not defined"
     ]
    }
   ],
   "source": [
    "print(my_char1)"
   ]
  },
  {
   "cell_type": "code",
   "execution_count": 7,
   "metadata": {},
   "outputs": [
    {
     "name": "stdout",
     "output_type": "stream",
     "text": [
      "Have we done it?\n"
     ]
    }
   ],
   "source": [
    "my_char2 = \"Have we done it?\" \n",
    "print(my_char2)"
   ]
  },
  {
   "cell_type": "code",
   "execution_count": 8,
   "metadata": {},
   "outputs": [],
   "source": [
    "%reset -f"
   ]
  },
  {
   "cell_type": "code",
   "execution_count": 9,
   "metadata": {},
   "outputs": [
    {
     "ename": "NameError",
     "evalue": "name 'my_char2' is not defined",
     "output_type": "error",
     "traceback": [
      "\u001b[0;31m---------------------------------------------------------------------------\u001b[0m",
      "\u001b[0;31mNameError\u001b[0m                                 Traceback (most recent call last)",
      "Cell \u001b[0;32mIn [9], line 1\u001b[0m\n\u001b[0;32m----> 1\u001b[0m \u001b[38;5;28mprint\u001b[39m(\u001b[43mmy_char2\u001b[49m)\n",
      "\u001b[0;31mNameError\u001b[0m: name 'my_char2' is not defined"
     ]
    }
   ],
   "source": [
    "print(my_char2)"
   ]
  },
  {
   "cell_type": "markdown",
   "metadata": {},
   "source": [
    "## 2. Date types"
   ]
  },
  {
   "cell_type": "markdown",
   "metadata": {},
   "source": [
    "### 2.0 Scalars and Strings\n",
    "\n",
    "Variable declaration is implicit (e.g., integer, float, boolean, string)."
   ]
  },
  {
   "cell_type": "code",
   "execution_count": 10,
   "metadata": {},
   "outputs": [
    {
     "data": {
      "text/plain": [
       "2.0"
      ]
     },
     "execution_count": 10,
     "metadata": {},
     "output_type": "execute_result"
    }
   ],
   "source": [
    "a = 4  # is an integer\n",
    "b = 2.  # is a float\n",
    "\n",
    "# Note:\n",
    "a/2  # the result is 1.5 in Python 3.4 \n",
    "     # but 1 in 2.7\n",
    "    "
   ]
  },
  {
   "cell_type": "markdown",
   "metadata": {},
   "source": [
    "Comparison operators: `==, >, <, !=` return a boolean result. They return `True` or `False`.\n",
    "In Python, `a == b` is a comparison operator used to check if the value of `a` is equal to the value of `b`. It returns `True` if `a` and `b` are equal, and `False` otherwise.\n",
    "\n",
    "For example:\n",
    "\n",
    "```python\n",
    "a = 5\n",
    "b = 10\n",
    "print(a == b)  # This will print False because 5 is not equal to 10\n",
    "```"
   ]
  },
  {
   "cell_type": "code",
   "execution_count": 11,
   "metadata": {},
   "outputs": [
    {
     "data": {
      "text/plain": [
       "False"
      ]
     },
     "execution_count": 11,
     "metadata": {},
     "output_type": "execute_result"
    }
   ],
   "source": [
    "# Comparaison\n",
    "a == b  "
   ]
  },
  {
   "cell_type": "markdown",
   "metadata": {},
   "source": [
    "In Python, `type(a)` is used to determine the type of the variable `a`. It returns the type of `a` as a type object.\n",
    "\n",
    "For example:\n",
    "\n",
    "```python\n",
    "a = 5\n",
    "print(type(a))  # This will print <class 'int'> because 'a' is an integer\n",
    "\n",
    "b = 3.14\n",
    "print(type(b))  # This will print <class 'float'> because 'b' is a float\n",
    "\n",
    "c = \"Hello\"\n",
    "print(type(c))  # This will print <class 'str'> because 'c' is a string\n",
    "```\n",
    "\n",
    "If you have any specific questions about variable types or need more examples, let me know!"
   ]
  },
  {
   "cell_type": "code",
   "execution_count": 12,
   "metadata": {},
   "outputs": [
    {
     "data": {
      "text/plain": [
       "int"
      ]
     },
     "execution_count": 12,
     "metadata": {},
     "output_type": "execute_result"
    }
   ],
   "source": [
    "type(a)"
   ]
  },
  {
   "cell_type": "markdown",
   "metadata": {},
   "source": [
    "In Python, concatenating strings is straightforward using the `+` operator. When you add strings together, they are combined into a single string.\n",
    "\n",
    "Here is the example you provided:\n",
    "\n",
    "```python\n",
    "a = 'bonjour '\n",
    "b = 'tout le '\n",
    "c = 'monde'\n",
    "d = 'la famille'\n",
    "\n",
    "result = a + b + c\n",
    "print(result)  # This will print 'bonjour tout le monde'\n",
    "```\n",
    "\n",
    "In this case, `a + b + c` combines the strings `'bonjour '`, `'tout le '`, and `'monde'` into the single string `'bonjour tout le monde'`."
   ]
  },
  {
   "cell_type": "code",
   "execution_count": 13,
   "metadata": {},
   "outputs": [
    {
     "data": {
      "text/plain": [
       "'bonjour tout le monde'"
      ]
     },
     "execution_count": 13,
     "metadata": {},
     "output_type": "execute_result"
    }
   ],
   "source": [
    "# Chaîne de caractère\n",
    "a = 'bonjour '\n",
    "b = 'tout le '\n",
    "c = 'monde'\n",
    "d = 'la famille'\n",
    "a + b + c"
   ]
  },
  {
   "cell_type": "code",
   "execution_count": 14,
   "metadata": {},
   "outputs": [
    {
     "data": {
      "text/plain": [
       "'bonjour la famille'"
      ]
     },
     "execution_count": 14,
     "metadata": {},
     "output_type": "execute_result"
    }
   ],
   "source": [
    "a + d"
   ]
  },
  {
   "cell_type": "markdown",
   "metadata": {},
   "source": [
    "### 2.1 Basic Structures"
   ]
  },
  {
   "cell_type": "markdown",
   "metadata": {},
   "source": [
    "\n",
    "### Lists\n",
    "Lists allow combinations of types. \n",
    "**Note**: The first element of a list or array is indexed by **0**, not by **1**.\n",
    "\n",
    "#### Initializing Lists\n",
    "```python\n",
    "liste_A = [1, 34, 52, 'Slt']\n",
    "liste_B = [0, 3, 209, 4025, 554, 6, 1]\n",
    "liste_C = [0, 53, 562, 'rdv', [17, \"l\", 298, 43]]\n",
    "```"
   ]
  },
  {
   "cell_type": "code",
   "execution_count": 15,
   "metadata": {},
   "outputs": [],
   "source": [
    "### Initializing Lists\n",
    "liste_A = [1, 34, 52, 'Slt']\n",
    "liste_B = [0, 3, 209, 4025, 554, 6, 1]\n",
    "liste_C = [0, 53, 562, 'rdv', [17, \"l\", 298, 43]]"
   ]
  },
  {
   "cell_type": "markdown",
   "metadata": {},
   "source": [
    "In Python, to access an element in a list, you use indexing. Here's how you access an element from `liste_A`:\n",
    "\n",
    "```python\n",
    "# Accessing an element from the list\n",
    "liste_A[1]\n",
    "```\n",
    "\n",
    "This will return `34`, as indexing starts from `0`, so `liste_A[1]` refers to the second element in the list."
   ]
  },
  {
   "cell_type": "code",
   "execution_count": 16,
   "metadata": {},
   "outputs": [
    {
     "data": {
      "text/plain": [
       "34"
      ]
     },
     "execution_count": 16,
     "metadata": {},
     "output_type": "execute_result"
    }
   ],
   "source": [
    "# Entry of a list\n",
    "liste_A[1]"
   ]
  },
  {
   "cell_type": "code",
   "execution_count": 17,
   "metadata": {},
   "outputs": [
    {
     "data": {
      "text/plain": [
       "[17, 'l', 298, 43]"
      ]
     },
     "execution_count": 17,
     "metadata": {},
     "output_type": "execute_result"
    }
   ],
   "source": [
    "liste_C[-1] #  last entry"
   ]
  },
  {
   "cell_type": "code",
   "execution_count": 18,
   "metadata": {},
   "outputs": [
    {
     "data": {
      "text/plain": [
       "[0, 53, 562, 45, [17, 'l', 298, 43]]"
      ]
     },
     "execution_count": 18,
     "metadata": {},
     "output_type": "execute_result"
    }
   ],
   "source": [
    "liste_C[3] = 45 # Modify an entry of the list\n",
    "liste_C"
   ]
  },
  {
   "cell_type": "markdown",
   "metadata": {},
   "source": [
    "To access elements within a nested list, you use multiple indices. In this case, `list_C[-1]` refers to the last element of `list_C`, which is itself a list. To access elements within this nested list, you use an additional index.\n",
    "\n",
    "For example:\n",
    "\n",
    "```python\n",
    "# Accessing the first element of the last list in list_C\n",
    "liste_C[-1][0]\n",
    "```\n",
    "\n",
    "This will return `17`, as `list_C[-1]` refers to `[17, \"l\", 298, 43]`, and `[0]` accesses the first element of this nested list."
   ]
  },
  {
   "cell_type": "code",
   "execution_count": 19,
   "metadata": {},
   "outputs": [
    {
     "data": {
      "text/plain": [
       "17"
      ]
     },
     "execution_count": 19,
     "metadata": {},
     "output_type": "execute_result"
    }
   ],
   "source": [
    "liste_C[-1][0]"
   ]
  },
  {
   "cell_type": "markdown",
   "metadata": {},
   "source": [
    "The expression `liste_B[0:2]` is used to create a sublist from `liste_B`, including elements from index `0` up to but not including index `2`. In Python, slicing is performed using the format `list[start:end]`, where `start` is the index to begin the slice (inclusive) and `end` is the index to end the slice (exclusive).\n",
    "\n",
    "For example:\n",
    "\n",
    "```python\n",
    "# Given list_B\n",
    "liste_B = [0, 3, 209, 4025, 554, 6, 1]\n",
    "\n",
    "# Creating a sublist from index 0 to 2 (not including 2)\n",
    "sous_liste = liste_B[0:2]\n",
    "print(sous_liste)  # Output: [0, 3]\n",
    "```\n",
    "\n",
    "Here, `sous_liste` will contain the elements `[0, 3]`, which are the elements at indices `0` and `1` of `liste_B`."
   ]
  },
  {
   "cell_type": "code",
   "execution_count": 20,
   "metadata": {},
   "outputs": [
    {
     "data": {
      "text/plain": [
       "[0, 3]"
      ]
     },
     "execution_count": 20,
     "metadata": {},
     "output_type": "execute_result"
    }
   ],
   "source": [
    "liste_B[0:2] #  Sublist, runs throuh liste_B at the indices 0 and 1."
   ]
  },
  {
   "cell_type": "markdown",
   "metadata": {},
   "source": [
    "The expression `liste_B[0:5:2]` is used for slicing with a step. It extracts elements from `liste_B` starting at index `0`, up to but not including index `5`, with a step of `2`. \n",
    "\n",
    "In this case:\n",
    "\n",
    "- `0` is the starting index (inclusive).\n",
    "- `5` is the ending index (exclusive).\n",
    "- `2` is the step, meaning every second element is selected.\n",
    "\n",
    "Here’s how it works:\n",
    "\n",
    "```python\n",
    "# Given list_B\n",
    "liste_B = [0, 3, 209, 4025, 554, 6, 1]\n",
    "\n",
    "# Slicing with start=0, end=5, and step=2\n",
    "sous_liste = liste_B[0:5:2]\n",
    "print(sous_liste)  # Output: [0, 209, 554]\n",
    "```\n",
    "\n",
    "In this example, `sous_liste` contains `[0, 209, 554]`, which are the elements at indices `0`, `2`, and `4` of `liste_B`."
   ]
  },
  {
   "cell_type": "code",
   "execution_count": 21,
   "metadata": {},
   "outputs": [
    {
     "data": {
      "text/plain": [
       "[0, 209, 554]"
      ]
     },
     "execution_count": 21,
     "metadata": {},
     "output_type": "execute_result"
    }
   ],
   "source": [
    "liste_B[0:5:2] # start:end:step"
   ]
  },
  {
   "cell_type": "markdown",
   "metadata": {},
   "source": [
    "#### What is happening here ?"
   ]
  },
  {
   "cell_type": "code",
   "execution_count": 22,
   "metadata": {},
   "outputs": [
    {
     "data": {
      "text/plain": [
       "[1, 6, 554, 4025, 209, 3, 0]"
      ]
     },
     "execution_count": 22,
     "metadata": {},
     "output_type": "execute_result"
    }
   ],
   "source": [
    "liste_B[::-1]# Comprendre ce qui se passe ici"
   ]
  },
  {
   "cell_type": "markdown",
   "metadata": {},
   "source": [
    "The expression `liste_B[::-1]` is used for reversing a list. \n",
    "\n",
    "Here’s a breakdown of how it works:\n",
    "\n",
    "- `:` specifies that the slicing should include the entire list.\n",
    "- The first `:` indicates the start and end of the slice, but since both are omitted, it defaults to the entire list.\n",
    "- The `-1` is the step, which tells Python to take elements in reverse order.\n",
    "\n",
    "So, `liste_B[::-1]` creates a reversed copy of `liste_B`. \n",
    "\n",
    "Here's an example:\n",
    "\n",
    "```python\n",
    "# Given list_B\n",
    "liste_B = [0, 3, 209, 4025, 554, 6, 1]\n",
    "\n",
    "# Reversing the list\n",
    "reversed_list = liste_B[::-1]\n",
    "print(reversed_list)  # Output: [1, 6, 554, 4025, 209, 3, 0]\n",
    "```\n",
    "\n",
    "In this example, `reversed_list` is the reverse of `liste_B`, with the elements in the opposite order."
   ]
  },
  {
   "cell_type": "code",
   "execution_count": 23,
   "metadata": {},
   "outputs": [
    {
     "name": "stdout",
     "output_type": "stream",
     "text": [
      "[187, 276, 333, 984, 4827]\n"
     ]
    }
   ],
   "source": [
    "# Methods on lists\n",
    "List = [333,276,4827,187,984]\n",
    "List.sort() \n",
    "print(List)"
   ]
  },
  {
   "cell_type": "code",
   "execution_count": 24,
   "metadata": {},
   "outputs": [
    {
     "name": "stdout",
     "output_type": "stream",
     "text": [
      "[187, 276, 333, 984, 4827, 'hi']\n"
     ]
    }
   ],
   "source": [
    "List.append('hi') # Add an entry an the end\n",
    "print(List)"
   ]
  },
  {
   "cell_type": "code",
   "execution_count": 25,
   "metadata": {},
   "outputs": [
    {
     "data": {
      "text/plain": [
       "0"
      ]
     },
     "execution_count": 25,
     "metadata": {},
     "output_type": "execute_result"
    }
   ],
   "source": [
    "List.count(3) # \"Counts the number of times the entry '3' appears\""
   ]
  },
  {
   "cell_type": "markdown",
   "metadata": {},
   "source": [
    "#### Observe the difference between the two methods `.append()` and `.extend()`."
   ]
  },
  {
   "cell_type": "code",
   "execution_count": 26,
   "metadata": {},
   "outputs": [
    {
     "name": "stdout",
     "output_type": "stream",
     "text": [
      "[187, 276, 333, 984, 4827, 'hi', 7, 8, 9]\n"
     ]
    }
   ],
   "source": [
    "List.extend([7,8,9])\n",
    "print(List)"
   ]
  },
  {
   "cell_type": "code",
   "execution_count": 27,
   "metadata": {},
   "outputs": [
    {
     "name": "stdout",
     "output_type": "stream",
     "text": [
      "[187, 276, 333, 984, 4827, 'hi', 7, 8, 9, [10, 11, 12]]\n"
     ]
    }
   ],
   "source": [
    "List.append([10,11,12])\n",
    "print(List)"
   ]
  },
  {
   "cell_type": "markdown",
   "metadata": {},
   "source": [
    "#### Tuple\n",
    "A tuple is similar to a list but cannot be modified; it is defined by parentheses."
   ]
  },
  {
   "cell_type": "code",
   "execution_count": 28,
   "metadata": {},
   "outputs": [
    {
     "data": {
      "text/plain": [
       "34"
      ]
     },
     "execution_count": 28,
     "metadata": {},
     "output_type": "execute_result"
    }
   ],
   "source": [
    "MyTuple = (2020,34,42,'h')\n",
    "MyTuple[1]"
   ]
  },
  {
   "cell_type": "code",
   "execution_count": 29,
   "metadata": {},
   "outputs": [
    {
     "ename": "TypeError",
     "evalue": "'tuple' object does not support item assignment",
     "output_type": "error",
     "traceback": [
      "\u001b[0;31m---------------------------------------------------------------------------\u001b[0m",
      "\u001b[0;31mTypeError\u001b[0m                                 Traceback (most recent call last)",
      "Cell \u001b[0;32mIn [29], line 1\u001b[0m\n\u001b[0;32m----> 1\u001b[0m \u001b[43mMyTuple\u001b[49m\u001b[43m[\u001b[49m\u001b[38;5;241;43m1\u001b[39;49m\u001b[43m]\u001b[49m \u001b[38;5;241m=\u001b[39m \u001b[38;5;241m10\u001b[39m \u001b[38;5;66;03m# TypeError: \"tuple\" object\u001b[39;00m\n\u001b[1;32m      2\u001b[0m \u001b[38;5;66;03m# You cannot modify an entry in a tuple, unlike lists\u001b[39;00m\n",
      "\u001b[0;31mTypeError\u001b[0m: 'tuple' object does not support item assignment"
     ]
    }
   ],
   "source": [
    "MyTuple[1] = 10 # TypeError: \"tuple\" object\n",
    "# You cannot modify an entry in a tuple, unlike lists\n"
   ]
  },
  {
   "cell_type": "markdown",
   "metadata": {},
   "source": [
    "#### Dictionary\n",
    "\n",
    "A dictionary is similar to a list, but each entry is assigned by a key/name and is defined with curly braces. This object is used for constructing column indexes (variables) of the *DataFrame* type in the `pandas` library."
   ]
  },
  {
   "cell_type": "code",
   "execution_count": 30,
   "metadata": {},
   "outputs": [
    {
     "ename": "NameError",
     "evalue": "name 'mois' is not defined",
     "output_type": "error",
     "traceback": [
      "\u001b[0;31m---------------------------------------------------------------------------\u001b[0m",
      "\u001b[0;31mNameError\u001b[0m                                 Traceback (most recent call last)",
      "Cell \u001b[0;32mIn [30], line 2\u001b[0m\n\u001b[1;32m      1\u001b[0m months \u001b[38;5;241m=\u001b[39m {\u001b[38;5;124m'\u001b[39m\u001b[38;5;124mJan\u001b[39m\u001b[38;5;124m'\u001b[39m:\u001b[38;5;241m31\u001b[39m , \u001b[38;5;124m'\u001b[39m\u001b[38;5;124mFev\u001b[39m\u001b[38;5;124m'\u001b[39m: \u001b[38;5;241m29\u001b[39m, \u001b[38;5;124m'\u001b[39m\u001b[38;5;124mMar\u001b[39m\u001b[38;5;124m'\u001b[39m:\u001b[38;5;241m31\u001b[39m, \u001b[38;5;124m'\u001b[39m\u001b[38;5;124mApr\u001b[39m\u001b[38;5;124m'\u001b[39m:\u001b[38;5;241m30\u001b[39m}\n\u001b[0;32m----> 2\u001b[0m \u001b[43mmois\u001b[49m[\u001b[38;5;124m'\u001b[39m\u001b[38;5;124mApr\u001b[39m\u001b[38;5;124m'\u001b[39m] \n",
      "\u001b[0;31mNameError\u001b[0m: name 'mois' is not defined"
     ]
    }
   ],
   "source": [
    "months = {'Jan':31 , 'Fev': 29, 'Mar':31, 'Apr':30}\n",
    "mois['Apr'] "
   ]
  },
  {
   "cell_type": "markdown",
   "metadata": {},
   "source": [
    "The methods `.values()`, `.keys()`, and `.items()` are very useful for a dictionary."
   ]
  },
  {
   "cell_type": "code",
   "execution_count": 31,
   "metadata": {},
   "outputs": [
    {
     "data": {
      "text/plain": [
       "dict_values([31, 29, 31, 30])"
      ]
     },
     "execution_count": 31,
     "metadata": {},
     "output_type": "execute_result"
    }
   ],
   "source": [
    "months.values()"
   ]
  },
  {
   "cell_type": "code",
   "execution_count": 32,
   "metadata": {},
   "outputs": [
    {
     "data": {
      "text/plain": [
       "dict_keys(['Jan', 'Fev', 'Mar', 'Apr'])"
      ]
     },
     "execution_count": 32,
     "metadata": {},
     "output_type": "execute_result"
    }
   ],
   "source": [
    "months.keys()"
   ]
  },
  {
   "cell_type": "code",
   "execution_count": 33,
   "metadata": {},
   "outputs": [
    {
     "data": {
      "text/plain": [
       "dict_items([('Jan', 31), ('Fev', 29), ('Mar', 31), ('Apr', 30)])"
      ]
     },
     "execution_count": 33,
     "metadata": {},
     "output_type": "execute_result"
    }
   ],
   "source": [
    "months.items()"
   ]
  },
  {
   "cell_type": "markdown",
   "metadata": {},
   "source": [
    "#### Create a dataframe with pandas"
   ]
  },
  {
   "cell_type": "markdown",
   "metadata": {},
   "source": [
    "To create a DataFrame with pandas, you can follow these steps:\n",
    "\n",
    "1. **Import pandas**: First, ensure that you have pandas installed and import it into your Python environment.\n",
    "\n",
    "   ```python\n",
    "   import pandas as pd\n",
    "   ```\n",
    "\n",
    "2. **Create a DataFrame**: You can create a DataFrame using various methods such as from a dictionary, list of lists, or other data structures.\n",
    "\n",
    "   - **From a dictionary**:\n",
    "\n",
    "     ```python\n",
    "     data = {\n",
    "         'Column1': [1, 2, 3],\n",
    "         'Column2': ['A', 'B', 'C']\n",
    "     }\n",
    "     df = pd.DataFrame(data)\n",
    "     ```\n",
    "\n",
    "   - **From a list of lists**:\n",
    "\n",
    "     ```python\n",
    "     data = [\n",
    "         [1, 'A'],\n",
    "         [2, 'B'],\n",
    "         [3, 'C']\n",
    "     ]\n",
    "     df = pd.DataFrame(data, columns=['Column1', 'Column2'])\n",
    "     ```\n",
    "\n",
    "   - **From a CSV file**:\n",
    "\n",
    "     ```python\n",
    "     df = pd.read_csv('path_to_file.csv')\n",
    "     ```\n",
    "\n",
    "3. **Inspect the DataFrame**: Use methods to view the DataFrame and understand its structure.\n",
    "\n",
    "   ```python\n",
    "   print(df.head())  # View the first few rows\n",
    "   print(df.info())  # Get a summary of the DataFrame\n",
    "   print(df.describe())  # Get statistical summaries of numerical columns\n",
    "   ```\n",
    "\n",
    "4. **Manipulate the DataFrame**: Perform operations such as filtering, sorting, and aggregating.\n",
    "\n",
    "   ```python\n",
    "   # Filtering rows\n",
    "   filtered_df = df[df['Column1'] > 1]\n",
    "   \n",
    "   # Sorting by a column\n",
    "   sorted_df = df.sort_values(by='Column1')\n",
    "   \n",
    "   # Adding a new column\n",
    "   df['NewColumn'] = df['Column1'] * 10\n",
    "   ```\n",
    "\n",
    "This basic overview should help you get started with creating and manipulating DataFrames in pandas."
   ]
  },
  {
   "cell_type": "code",
   "execution_count": 34,
   "metadata": {},
   "outputs": [],
   "source": [
    "import pandas as pd  # Importing the pandas library with the alias \"pd\"\n",
    "# Using lists and dictionaries."
   ]
  },
  {
   "cell_type": "code",
   "execution_count": 35,
   "metadata": {},
   "outputs": [
    {
     "data": {
      "text/html": [
       "<div>\n",
       "<style scoped>\n",
       "    .dataframe tbody tr th:only-of-type {\n",
       "        vertical-align: middle;\n",
       "    }\n",
       "\n",
       "    .dataframe tbody tr th {\n",
       "        vertical-align: top;\n",
       "    }\n",
       "\n",
       "    .dataframe thead th {\n",
       "        text-align: right;\n",
       "    }\n",
       "</style>\n",
       "<table border=\"1\" class=\"dataframe\">\n",
       "  <thead>\n",
       "    <tr style=\"text-align: right;\">\n",
       "      <th></th>\n",
       "      <th>Gender</th>\n",
       "      <th>TV</th>\n",
       "    </tr>\n",
       "  </thead>\n",
       "  <tbody>\n",
       "    <tr>\n",
       "      <th>0</th>\n",
       "      <td>f</td>\n",
       "      <td>3.4</td>\n",
       "    </tr>\n",
       "    <tr>\n",
       "      <th>1</th>\n",
       "      <td>f</td>\n",
       "      <td>3.5</td>\n",
       "    </tr>\n",
       "    <tr>\n",
       "      <th>2</th>\n",
       "      <td>m</td>\n",
       "      <td>2.6</td>\n",
       "    </tr>\n",
       "    <tr>\n",
       "      <th>3</th>\n",
       "      <td>f</td>\n",
       "      <td>4.7</td>\n",
       "    </tr>\n",
       "    <tr>\n",
       "      <th>4</th>\n",
       "      <td>m</td>\n",
       "      <td>4.1</td>\n",
       "    </tr>\n",
       "    <tr>\n",
       "      <th>5</th>\n",
       "      <td>m</td>\n",
       "      <td>4.0</td>\n",
       "    </tr>\n",
       "    <tr>\n",
       "      <th>6</th>\n",
       "      <td>f</td>\n",
       "      <td>5.1</td>\n",
       "    </tr>\n",
       "    <tr>\n",
       "      <th>7</th>\n",
       "      <td>m</td>\n",
       "      <td>4.0</td>\n",
       "    </tr>\n",
       "    <tr>\n",
       "      <th>8</th>\n",
       "      <td>f</td>\n",
       "      <td>3.7</td>\n",
       "    </tr>\n",
       "    <tr>\n",
       "      <th>9</th>\n",
       "      <td>f</td>\n",
       "      <td>2.1</td>\n",
       "    </tr>\n",
       "  </tbody>\n",
       "</table>\n",
       "</div>"
      ],
      "text/plain": [
       "  Gender   TV\n",
       "0      f  3.4\n",
       "1      f  3.5\n",
       "2      m  2.6\n",
       "3      f  4.7\n",
       "4      m  4.1\n",
       "5      m  4.0\n",
       "6      f  5.1\n",
       "7      m  4.0\n",
       "8      f  3.7\n",
       "9      f  2.1"
      ]
     },
     "execution_count": 35,
     "metadata": {},
     "output_type": "execute_result"
    }
   ],
   "source": [
    "# Gender and the number of hours spent in front of the TV.\n",
    "# m = male; f = female\n",
    "data = pd.DataFrame({\n",
    "    'Gender': ['f', 'f', 'm', 'f', 'm', 'm', 'f', 'm', 'f', 'f'],\n",
    "    'TV': [3.4, 3.5, 2.6, 4.7, 4.1, 4.0, 5.1, 4.0, 3.7, 2.1]})\n",
    "data"
   ]
  },
  {
   "cell_type": "markdown",
   "metadata": {},
   "source": [
    "### 3. Python Syntax\n",
    "\n",
    "Here's an overview of basic Python syntax:\n",
    "\n",
    "#### 3.1 Variables and Data Types\n",
    "- **Variables**: Store values. Python uses dynamic typing, so you don't need to declare the type of a variable explicitly.\n",
    "- **Data Types**: Includes integers (`int`), floating-point numbers (`float`), booleans (`bool`), and strings (`str`).\n",
    "\n",
    "#### 3.2 Operators\n",
    "- **Arithmetic Operators**: `+`, `-`, `*`, `/`, `//` (integer division), `%` (modulo), `**` (exponentiation)\n",
    "- **Comparison Operators**: `==`, `!=`, `>`, `<`, `>=`, `<=`\n",
    "- **Logical Operators**: `and`, `or`, `not`\n",
    "\n",
    "#### 3.3 Control Flow\n",
    "- **Conditional Statements**: Use `if`, `elif`, and `else` to control the flow of your program based on conditions.\n",
    "  ```python\n",
    "  if condition:\n",
    "      # code block\n",
    "  elif another_condition:\n",
    "      # code block\n",
    "  else:\n",
    "      # code block\n",
    "  ```\n",
    "- **Loops**:\n",
    "  - **For Loops**: Iterate over a sequence (like a list or range).\n",
    "    ```python\n",
    "    for item in sequence:\n",
    "        # code block\n",
    "    ```\n",
    "  - **While Loops**: Continue executing as long as a condition is true.\n",
    "    ```python\n",
    "    while condition:\n",
    "        # code block\n",
    "    ```\n",
    "\n",
    "#### 3.4 Functions\n",
    "- **Defining Functions**: Use `def` to define a function.\n",
    "  ```python\n",
    "  def function_name(parameters):\n",
    "      # code block\n",
    "      return result\n",
    "  ```\n",
    "- **Calling Functions**: Use the function name followed by parentheses.\n",
    "  ```python\n",
    "  result = function_name(arguments)\n",
    "  ```\n",
    "\n",
    "#### 3.5 Lists and Dictionaries\n",
    "- **Lists**: Ordered, mutable collections.\n",
    "  ```python\n",
    "  my_list = [1, 2, 3, 'a', 'b']\n",
    "  ```\n",
    "- **Dictionaries**: Unordered collections of key-value pairs.\n",
    "  ```python\n",
    "  my_dict = {'key1': 'value1', 'key2': 'value2'}\n",
    "  ```\n",
    "\n",
    "#### 3.6 Exception Handling\n",
    "- **Try-Except Blocks**: Handle errors gracefully using `try` and `except`.\n",
    "  ```python\n",
    "  try:\n",
    "      # code block that might raise an exception\n",
    "  except ExceptionType as e:\n",
    "      # code block to handle the exception\n",
    "  ```\n",
    "\n",
    "#### 3.7 Comments\n",
    "- **Single-line Comments**: Use `#` to write comments.\n",
    "  ```python\n",
    "  # This is a comment\n",
    "  ```\n",
    "- **Multi-line Comments**: Use triple quotes `'''` or `\"\"\"`.\n",
    "  ```python\n",
    "  '''\n",
    "  This is a multi-line comment\n",
    "  '''\n",
    "  ```\n",
    "\n",
    "#### 3.8 Indentation\n",
    "- **Indentation**: Python uses indentation to define code blocks. Consistent indentation is crucial for defining scope in control flow statements and function definitions."
   ]
  },
  {
   "cell_type": "markdown",
   "metadata": {},
   "source": [
    "#### Conditional Structure"
   ]
  },
  {
   "cell_type": "code",
   "execution_count": 36,
   "metadata": {},
   "outputs": [
    {
     "name": "stdout",
     "output_type": "stream",
     "text": [
      "-1\n"
     ]
    }
   ],
   "source": [
    "# **If-Then-Else**\n",
    "a = -23\n",
    "if a > 0:\n",
    "    b = 0\n",
    "    print(b)\n",
    "else:\n",
    "    b = -1\n",
    "print(b)"
   ]
  },
  {
   "cell_type": "markdown",
   "metadata": {},
   "source": [
    "#### Iterative Structure "
   ]
  },
  {
   "cell_type": "code",
   "execution_count": 37,
   "metadata": {},
   "outputs": [
    {
     "name": "stdout",
     "output_type": "stream",
     "text": [
      "0\n",
      "1\n",
      "2\n",
      "3\n"
     ]
    }
   ],
   "source": [
    "for i in range(4):\n",
    "    print(i)"
   ]
  },
  {
   "cell_type": "code",
   "execution_count": 38,
   "metadata": {},
   "outputs": [
    {
     "name": "stdout",
     "output_type": "stream",
     "text": [
      "1\n",
      "3\n",
      "5\n",
      "7\n"
     ]
    }
   ],
   "source": [
    "for i in range(1,8,2):\n",
    "    print(i)"
   ]
  },
  {
   "cell_type": "markdown",
   "metadata": {},
   "source": [
    "#### Functions"
   ]
  },
  {
   "cell_type": "code",
   "execution_count": 39,
   "metadata": {},
   "outputs": [
    {
     "data": {
      "text/plain": [
       "(5, 6, 7.810249675906654)"
      ]
     },
     "execution_count": 39,
     "metadata": {},
     "output_type": "execute_result"
    }
   ],
   "source": [
    "# Definition of a function\n",
    "def pythagorus(x,y):\n",
    "    \"\"\" \"Calculate the hypotenuse of a triangle\" \"\"\"\n",
    "    r = pow(x**2+y**2,0.5)\n",
    "    return x,y,r\n",
    "pythagorus(5,6)"
   ]
  },
  {
   "cell_type": "code",
   "execution_count": 40,
   "metadata": {},
   "outputs": [
    {
     "data": {
      "text/plain": [
       "(5, 7, 8.602325267042627)"
      ]
     },
     "execution_count": 40,
     "metadata": {},
     "output_type": "execute_result"
    }
   ],
   "source": [
    "# Example of a call\n",
    "pythagorus(x=5,y=7)"
   ]
  },
  {
   "cell_type": "code",
   "execution_count": 41,
   "metadata": {},
   "outputs": [
    {
     "name": "stdout",
     "output_type": "stream",
     "text": [
      "Help on function pythagorus in module __main__:\n",
      "\n",
      "pythagorus(x, y)\n",
      "    \"Calculate the hypotenuse of a triangle\"\n",
      "\n"
     ]
    }
   ],
   "source": [
    "# integrated help\n",
    "help(pythagorus)"
   ]
  },
  {
   "cell_type": "code",
   "execution_count": 42,
   "metadata": {},
   "outputs": [
    {
     "data": {
      "text/plain": [
       "' \"Calculate the hypotenuse of a triangle\" '"
      ]
     },
     "execution_count": 42,
     "metadata": {},
     "output_type": "execute_result"
    }
   ],
   "source": [
    "pythagorus.__doc__"
   ]
  },
  {
   "cell_type": "markdown",
   "metadata": {},
   "source": [
    "#### Modules \n",
    "\"A module contains several functions and commands grouped in a file with the `.py` extension. It is called using the `import` command.\""
   ]
  },
  {
   "cell_type": "markdown",
   "metadata": {},
   "source": [
    "Start by defining a module in a text file with the following commands:\n",
    "\n",
    "```python\n",
    "def DitBonjour():\n",
    "    print(\"Bonjour\")\n",
    "def DivPar2(x):\n",
    "    return x/2\n",
    "```\n",
    "\n",
    "Save the file as `testM.py` in the current directory.\n",
    "\n",
    "It is possible to import all functions with a single `import` command.\n"
   ]
  },
  {
   "cell_type": "code",
   "execution_count": 43,
   "metadata": {},
   "outputs": [
    {
     "name": "stdout",
     "output_type": "stream",
     "text": [
      "Bonjour\n"
     ]
    }
   ],
   "source": [
    "import testM # import the module\n",
    "testM.DitBonjour()"
   ]
  },
  {
   "cell_type": "code",
   "execution_count": 44,
   "metadata": {},
   "outputs": [
    {
     "data": {
      "text/plain": [
       "3.5"
      ]
     },
     "execution_count": 44,
     "metadata": {},
     "output_type": "execute_result"
    }
   ],
   "source": [
    "testM.DivPar2(7)"
   ]
  },
  {
   "cell_type": "code",
   "execution_count": 45,
   "metadata": {},
   "outputs": [
    {
     "name": "stdout",
     "output_type": "stream",
     "text": [
      "5.0\n"
     ]
    }
   ],
   "source": [
    "print(testM.DivPar2(10))"
   ]
  },
  {
   "cell_type": "code",
   "execution_count": 46,
   "metadata": {},
   "outputs": [
    {
     "name": "stdout",
     "output_type": "stream",
     "text": [
      "Bonjour\n"
     ]
    }
   ],
   "source": [
    "# We can also do\n",
    "from testM import *\n",
    "DitBonjour()"
   ]
  },
  {
   "cell_type": "code",
   "execution_count": 47,
   "metadata": {},
   "outputs": [
    {
     "name": "stdout",
     "output_type": "stream",
     "text": [
      "5.0\n"
     ]
    }
   ],
   "source": [
    "print(DivPar2(10))"
   ]
  },
  {
   "cell_type": "code",
   "execution_count": 48,
   "metadata": {},
   "outputs": [
    {
     "name": "stdout",
     "output_type": "stream",
     "text": [
      "Bonjour\n"
     ]
    }
   ],
   "source": [
    "# Or\n",
    "import testM as tm\n",
    "tm.DitBonjour()"
   ]
  },
  {
   "cell_type": "code",
   "execution_count": 49,
   "metadata": {},
   "outputs": [
    {
     "name": "stdout",
     "output_type": "stream",
     "text": [
      "5.0\n"
     ]
    }
   ],
   "source": [
    "print(tm.DivPar2(10))\n",
    "# deletion of objects\n"
   ]
  },
  {
   "cell_type": "code",
   "execution_count": 51,
   "metadata": {},
   "outputs": [
    {
     "name": "stdout",
     "output_type": "stream",
     "text": [
      "Once deleted, variables cannot be recovered. Proceed (y/[n])? y\n"
     ]
    }
   ],
   "source": [
    "# deletion of objects\n",
    "%reset "
   ]
  },
  {
   "cell_type": "code",
   "execution_count": 52,
   "metadata": {},
   "outputs": [
    {
     "name": "stdout",
     "output_type": "stream",
     "text": [
      "Bonjour\n"
     ]
    }
   ],
   "source": [
    "from testM import DitBonjour \n",
    "## Only one function has been called. Prefer this method for large libraries.\n",
    "DitBonjour()"
   ]
  },
  {
   "cell_type": "code",
   "execution_count": 53,
   "metadata": {},
   "outputs": [
    {
     "ename": "NameError",
     "evalue": "name 'DivPar2' is not defined",
     "output_type": "error",
     "traceback": [
      "\u001b[0;31m---------------------------------------------------------------------------\u001b[0m",
      "\u001b[0;31mNameError\u001b[0m                                 Traceback (most recent call last)",
      "Cell \u001b[0;32mIn [53], line 1\u001b[0m\n\u001b[0;32m----> 1\u001b[0m \u001b[38;5;28mprint\u001b[39m(\u001b[43mDivPar2\u001b[49m(\u001b[38;5;241m10\u001b[39m)) \u001b[38;5;66;03m# error\u001b[39;00m\n",
      "\u001b[0;31mNameError\u001b[0m: name 'DivPar2' is not defined"
     ]
    }
   ],
   "source": [
    "print(DivPar2(10)) # error"
   ]
  },
  {
   "cell_type": "markdown",
   "metadata": {},
   "source": [
    "## 4. Scientific Computing\n",
    "Here are three of the main libraries essential for scientific computing. Two other libraries: `pandas` and `scikit-learn`, are covered in detail in specific notebooks.\n"
   ]
  },
  {
   "cell_type": "markdown",
   "metadata": {},
   "source": [
    "### 4.0 *Packages*"
   ]
  },
  {
   "cell_type": "markdown",
   "metadata": {},
   "source": [
    "\n",
    "#### `NumPy`\n",
    "This library defines the `array` data type and the associated computation functions. It also includes some linear algebra and statistical functions. However, numerical functions are much more extensive in `SciPy`.\n",
    "\n",
    "#### `SciPy`\n",
    "This library is a very comprehensive collection of modules for linear algebra, statistics, and other numerical algorithms. The [documentation site](http://docs.scipy.org/doc/scipy/reference) provides a complete list.\n",
    "\n",
    "#### `Matplotlib`\n",
    "This library offers visualization/graph functions with commands similar to those in Matlab. It is also known as `pylab`. The [gallery](http://matplotlib.org/1.3.1/gallery.html) of this library features a wide range of example plots with Python code to generate them.\n"
   ]
  },
  {
   "cell_type": "code",
   "execution_count": 54,
   "metadata": {},
   "outputs": [
    {
     "data": {
      "image/png": "[encoded data removed]",
      "text/plain": [
       "<Figure size 640x480 with 1 Axes>"
      ]
     },
     "metadata": {},
     "output_type": "display_data"
    }
   ],
   "source": [
    "# Import\n",
    "import numpy as np\n",
    "from pylab import *\n",
    "gaussian = lambda x: np.exp(-(0.5-x)**2/1.5)\n",
    "x=np.arange(-2,2.5,0.01)\n",
    "y=gaussian(x)\n",
    "plot(x,y)\n",
    "xlabel(\"x values\")\n",
    "ylabel(\"y values\")\n",
    "title(\"Gaussian function\")\n",
    "show()"
   ]
  },
  {
   "cell_type": "markdown",
   "metadata": {},
   "source": [
    "### 4.1 Array Type\n",
    "This is by far the most commonly used data structure for scientific computing in Python. It describes arrays or multi-index *matrices* of dimension \\( n = 1, 2, 3, \\ldots, 40 \\). All elements are of the same type (boolean, integer, real, complex).\n",
    "\n",
    "Data tables (*data frames*), which are the basis for statistical analysis and aggregate objects of different types, are described using the `pandas` library.\n",
    "\n",
    "#### Definition of the `array` Type\n"
   ]
  },
  {
   "cell_type": "code",
   "execution_count": 55,
   "metadata": {},
   "outputs": [
    {
     "name": "stdout",
     "output_type": "stream",
     "text": [
      "[44 33 22]\n"
     ]
    }
   ],
   "source": [
    "# Import\n",
    "import numpy as np\n",
    "mon_tableau_en_dim1 = np.array([44,33,22])\n",
    "print(mon_tableau_en_dim1 )"
   ]
  },
  {
   "cell_type": "code",
   "execution_count": 56,
   "metadata": {},
   "outputs": [
    {
     "name": "stdout",
     "output_type": "stream",
     "text": [
      "[[1 0 0]\n",
      " [0 2 0]\n",
      " [0 0 3]]\n"
     ]
    }
   ],
   "source": [
    "mon_tableau_in_dim2 = np.array([[1,0,0],[0,2,0],[0,0,3]]) # lignes & colones\n",
    "print(mon_tableau_in_dim2)"
   ]
  },
  {
   "cell_type": "code",
   "execution_count": 57,
   "metadata": {},
   "outputs": [
    {
     "name": "stdout",
     "output_type": "stream",
     "text": [
      "[121 245 398 872]\n"
     ]
    }
   ],
   "source": [
    "MaListe = [121,245,398,872]\n",
    "mon_tableau = np.array(MaListe)\n",
    "print(mon_tableau)"
   ]
  },
  {
   "cell_type": "code",
   "execution_count": 58,
   "metadata": {},
   "outputs": [
    {
     "data": {
      "text/plain": [
       "5"
      ]
     },
     "execution_count": 58,
     "metadata": {},
     "output_type": "execute_result"
    }
   ],
   "source": [
    "a = np.array([[0,1],[2,3],[4,5]])\n",
    "a[2,1]"
   ]
  },
  {
   "cell_type": "code",
   "execution_count": 59,
   "metadata": {},
   "outputs": [
    {
     "data": {
      "text/plain": [
       "array([1, 3, 5])"
      ]
     },
     "execution_count": 59,
     "metadata": {},
     "output_type": "execute_result"
    }
   ],
   "source": [
    "a[:,1]"
   ]
  },
  {
   "cell_type": "code",
   "execution_count": 60,
   "metadata": {},
   "outputs": [
    {
     "data": {
      "text/plain": [
       "numpy.ndarray"
      ]
     },
     "execution_count": 60,
     "metadata": {},
     "output_type": "execute_result"
    }
   ],
   "source": [
    "type(a[:,1])"
   ]
  },
  {
   "cell_type": "markdown",
   "metadata": {},
   "source": [
    "#### Methods of type `array`"
   ]
  },
  {
   "cell_type": "code",
   "execution_count": 61,
   "metadata": {},
   "outputs": [
    {
     "data": {
      "text/plain": [
       "array([ 0,  1,  2,  3,  4,  5,  6,  7,  8,  9, 10, 11, 12, 13, 14, 15, 16,\n",
       "       17, 18, 19, 20])"
      ]
     },
     "execution_count": 61,
     "metadata": {},
     "output_type": "execute_result"
    }
   ],
   "source": [
    "np.arange(21)"
   ]
  },
  {
   "cell_type": "code",
   "execution_count": 62,
   "metadata": {},
   "outputs": [
    {
     "data": {
      "text/plain": [
       "array([1., 1., 1., 1., 1.])"
      ]
     },
     "execution_count": 62,
     "metadata": {},
     "output_type": "execute_result"
    }
   ],
   "source": [
    "np.ones(5)"
   ]
  },
  {
   "cell_type": "code",
   "execution_count": 63,
   "metadata": {},
   "outputs": [
    {
     "data": {
      "text/plain": [
       "array([[1., 1., 1., 1., 1.],\n",
       "       [1., 1., 1., 1., 1.],\n",
       "       [1., 1., 1., 1., 1.],\n",
       "       [1., 1., 1., 1., 1.],\n",
       "       [1., 1., 1., 1., 1.],\n",
       "       [1., 1., 1., 1., 1.],\n",
       "       [1., 1., 1., 1., 1.]])"
      ]
     },
     "execution_count": 63,
     "metadata": {},
     "output_type": "execute_result"
    }
   ],
   "source": [
    "np.ones((7,5))"
   ]
  },
  {
   "cell_type": "code",
   "execution_count": 64,
   "metadata": {},
   "outputs": [
    {
     "data": {
      "text/plain": [
       "array([[1., 0., 0., 0.],\n",
       "       [0., 1., 0., 0.],\n",
       "       [0., 0., 1., 0.],\n",
       "       [0., 0., 0., 1.]])"
      ]
     },
     "execution_count": 64,
     "metadata": {},
     "output_type": "execute_result"
    }
   ],
   "source": [
    "np.eye(4)"
   ]
  },
  {
   "cell_type": "code",
   "execution_count": 65,
   "metadata": {},
   "outputs": [
    {
     "data": {
      "text/plain": [
       "array([3., 5., 7.])"
      ]
     },
     "execution_count": 65,
     "metadata": {},
     "output_type": "execute_result"
    }
   ],
   "source": [
    "np.linspace(3, 7, 3)"
   ]
  },
  {
   "cell_type": "code",
   "execution_count": 66,
   "metadata": {},
   "outputs": [
    {
     "data": {
      "text/plain": [
       "array([[[0, 0],\n",
       "        [1, 1],\n",
       "        [2, 2]],\n",
       "\n",
       "       [[0, 1],\n",
       "        [0, 1],\n",
       "        [0, 1]]])"
      ]
     },
     "execution_count": 66,
     "metadata": {},
     "output_type": "execute_result"
    }
   ],
   "source": [
    "np.mgrid[0:3,0:2]"
   ]
  },
  {
   "cell_type": "code",
   "execution_count": 67,
   "metadata": {},
   "outputs": [
    {
     "name": "stdout",
     "output_type": "stream",
     "text": [
      "[[111   0   0]\n",
      " [  0 202   0]\n",
      " [  0   0 904]]\n",
      "[111 202 904]\n"
     ]
    }
   ],
   "source": [
    "D = np.diag([111,202,904])\n",
    "print(D)\n",
    "print(np.diag(D))"
   ]
  },
  {
   "cell_type": "code",
   "execution_count": 68,
   "metadata": {},
   "outputs": [
    {
     "name": "stdout",
     "output_type": "stream",
     "text": [
      "[[ 0 10 20]\n",
      " [ 1 11 21]]\n"
     ]
    }
   ],
   "source": [
    "M = np.array([[10*n+m for n in range(3)] \n",
    "for m in range(2)]) \n",
    "print(M)"
   ]
  },
  {
   "cell_type": "markdown",
   "metadata": {},
   "source": [
    "The `numpy.random` module provides a whole range of functions for generating random matrices."
   ]
  },
  {
   "cell_type": "code",
   "execution_count": 69,
   "metadata": {},
   "outputs": [
    {
     "data": {
      "text/plain": [
       "array([[0.53073701, 0.31297603, 0.5641477 ],\n",
       "       [0.43777429, 0.83163615, 0.66496753],\n",
       "       [0.24002488, 0.95816308, 0.57628792],\n",
       "       [0.24424045, 0.89968047, 0.75104168],\n",
       "       [0.1641301 , 0.44323146, 0.56220595],\n",
       "       [0.4760593 , 0.01161395, 0.19141526],\n",
       "       [0.51026382, 0.81099477, 0.48375166]])"
      ]
     },
     "execution_count": 69,
     "metadata": {},
     "output_type": "execute_result"
    }
   ],
   "source": [
    "from numpy import random\n",
    "random.rand(7,3) # uniform sampling"
   ]
  },
  {
   "cell_type": "code",
   "execution_count": 70,
   "metadata": {},
   "outputs": [
    {
     "data": {
      "text/plain": [
       "array([[ 0.88907886,  0.12507027,  0.09150879, -2.42828769, -0.2430704 ],\n",
       "       [-1.83810087, -0.7139083 , -0.70324809,  1.03869728, -2.06852043],\n",
       "       [ 0.54693172,  0.47675494,  1.13256001,  1.18915764,  0.82072297],\n",
       "       [-1.08843424,  1.81255327, -2.29072737, -0.50313616,  0.30826458],\n",
       "       [-0.97381724, -0.41838826,  0.85145296, -0.33294871, -0.18852696],\n",
       "       [-1.4338638 , -0.16385629, -0.91086764,  0.4628748 , -0.45713318],\n",
       "       [ 1.82422127,  0.62571939, -0.31407905,  0.00758607,  0.42176071],\n",
       "       [ 0.97845495, -1.80729864, -0.18570848,  1.05945622,  0.12493888]])"
      ]
     },
     "execution_count": 70,
     "metadata": {},
     "output_type": "execute_result"
    }
   ],
   "source": [
    "random.randn(8,5) # **Sampling from the N(0,1) Distribution**"
   ]
  },
  {
   "cell_type": "code",
   "execution_count": 71,
   "metadata": {},
   "outputs": [
    {
     "data": {
      "image/png": "[encoded data removed]",
      "text/plain": [
       "<Figure size 640x480 with 1 Axes>"
      ]
     },
     "metadata": {},
     "output_type": "display_data"
    }
   ],
   "source": [
    "v = random.randn(1000)\n",
    "import matplotlib.pyplot as plt\n",
    "h = plt.hist(v,30) # **histogram with 30 Bins**\n",
    "show()"
   ]
  },
  {
   "cell_type": "markdown",
   "metadata": {},
   "source": [
    "#### Other functions"
   ]
  },
  {
   "cell_type": "code",
   "execution_count": 72,
   "metadata": {},
   "outputs": [
    {
     "data": {
      "text/plain": [
       "2"
      ]
     },
     "execution_count": 72,
     "metadata": {},
     "output_type": "execute_result"
    }
   ],
   "source": [
    "a = np.array([[0,1],[2,3],[4,5]])\n",
    "np.ndim(a) # Number of dimensions)"
   ]
  },
  {
   "cell_type": "markdown",
   "metadata": {},
   "source": [
    "There are many functions you can test, including:\n",
    "\n",
    "- `np.size(a)` for the number of elements,\n",
    "- `np.shape(a)` which returns a tuple containing the dimensions of `a`,\n",
    "- `np.transpose(a)` or `a.T` for the transpose,\n",
    "- `a.min()` or `np.min(a)` for the minimum value,\n",
    "- `a.sum()` or `np.sum(a)` for the sum of the values.\n",
    "\n",
    "and many other functions.\n"
   ]
  },
  {
   "cell_type": "markdown",
   "metadata": {},
   "source": [
    "#### Operations on `arrays`"
   ]
  },
  {
   "cell_type": "code",
   "execution_count": 73,
   "metadata": {},
   "outputs": [
    {
     "data": {
      "text/plain": [
       "array([[ 3,  5],\n",
       "       [ 7,  9],\n",
       "       [11, 13]])"
      ]
     },
     "execution_count": 73,
     "metadata": {},
     "output_type": "execute_result"
    }
   ],
   "source": [
    "# Sum\n",
    "a = np.arange(6).reshape(3,2)\n",
    "b = np.arange(3,9).reshape(3,2)\n",
    "c = np.transpose(b)\n",
    "a + b"
   ]
  },
  {
   "cell_type": "code",
   "execution_count": 74,
   "metadata": {},
   "outputs": [
    {
     "data": {
      "text/plain": [
       "array([[ 0,  4],\n",
       "       [10, 18],\n",
       "       [28, 40]])"
      ]
     },
     "execution_count": 74,
     "metadata": {},
     "output_type": "execute_result"
    }
   ],
   "source": [
    "a * b # term-by-term product (element-wise product)"
   ]
  },
  {
   "cell_type": "code",
   "execution_count": 75,
   "metadata": {},
   "outputs": [
    {
     "data": {
      "text/plain": [
       "array([[ 4,  6,  8],\n",
       "       [18, 28, 38],\n",
       "       [32, 50, 68]])"
      ]
     },
     "execution_count": 75,
     "metadata": {},
     "output_type": "execute_result"
    }
   ],
   "source": [
    "np.dot(a,c) # matrix product (or dot product) "
   ]
  },
  {
   "cell_type": "code",
   "execution_count": 76,
   "metadata": {},
   "outputs": [
    {
     "data": {
      "text/plain": [
       "array([[ 0,  1],\n",
       "       [ 4,  9],\n",
       "       [16, 25]])"
      ]
     },
     "execution_count": 76,
     "metadata": {},
     "output_type": "execute_result"
    }
   ],
   "source": [
    "np.power(a,2)"
   ]
  },
  {
   "cell_type": "markdown",
   "metadata": {},
   "source": [
    "In other notebooks that are fully developed on this topic, we will discuss the `NumPy` and `SciPy` libraries in more detail (should time permit). We conclude this introductory notebook with what we call **programming structures**, which form the backbone of this course."
   ]
  },
  {
   "cell_type": "markdown",
   "metadata": {},
   "source": [
    "## Programming Structures\n",
    "\n",
    "- Blocks are defined by **indentation** (usually by 4 spaces);\n",
    "- One statement per line *generally* (or statements separated by `;`);\n",
    "- **Comments** start with `#` and extend to the end of the line;\n",
    "- **Boolean Expression**: a condition is an expression that evaluates to `True` or `False`:\n",
    "  - `False`: false logical test (e.g., 3 == 4), null value, empty string (''), empty list ([]), etc.,\n",
    "  - `True`: true logical test (e.g., 2 + 2 == 4), any non-null value or object (and thus evaluating to True by default *except exceptions*);\n",
    "  - **Logical Tests**: `==`, `!=`, `>`, `>=`, etc.;\n",
    "  - **Logical Operators**: `and`, `or`, `not`;\n",
    "  - **Ternary Operator**: `value **if** condition **else** value`;\n",
    "- **Conditional Expression**: `**if** condition1 : ... [**elif** condition2 : ...] [**else**: ...]`;  \n",
    "- **For Loop**: `**for** element **in** iterable`, executes on each element of an iterable object:\n",
    "  - `continue`: interrupts the current iteration and resumes the loop at the next iteration,\n",
    "  - `break`: completely interrupts the loop;\n",
    "- **While Loop**: `while condition`: repeats as long as the condition is true, or after an explicit exit with `break`.\n",
    "\n",
    "These structures will be discussed in detail in upcoming notebooks."
   ]
  },
  {
   "cell_type": "markdown",
   "metadata": {},
   "source": [
    "## Further reading\n",
    "\n",
    "0. [Programming with Python](python.aims.ac.za); [Section 1](https://python.aims.ac.za/pages/overview.html)\n",
    "1. [Programming with Python](python.aims.ac.za); [Section 2](https://python.aims.ac.za/pages/notations.html)\n",
    "2. [Programming with Python](python.aims.ac.za); [Section 3](https://python.aims.ac.za/pages/setup.html)"
   ]
  }
 ],
 "metadata": {
  "kernelspec": {
   "display_name": "Python 3 (ipykernel)",
   "language": "python",
   "name": "python3"
  },
  "language_info": {
   "codemirror_mode": {
    "name": "ipython",
    "version": 3
   },
   "file_extension": ".py",
   "mimetype": "text/x-python",
   "name": "python",
   "nbconvert_exporter": "python",
   "pygments_lexer": "ipython3",
   "version": "3.11.2"
  }
 },
 "nbformat": 4,
 "nbformat_minor": 2
}
