{
 "cells": [
  {
   "cell_type": "code",
   "execution_count": null,
   "metadata": {},
   "outputs": [],
   "source": [
    "\n"
   ]
  },
  {
   "cell_type": "code",
   "execution_count": 1,
   "metadata": {},
   "outputs": [
    {
     "data": {
      "text/plain": [
       "\"Python is a popular programming language due to several key features:\\n\\nSimplicity and Readability: Python's syntax is clean and easy to understand, making it ideal for beginners. The use of indentation for block delimitation also enhances readability.\\n\\nVersatility: Python is a general-purpose language that can be used for web development, data analysis, artificial intelligence, scientific computing, automation, and more.\\n\\nLarge Standard Library: Python comes with a vast standard library that includes modules for handling everything from file I/O to web services. This reduces the need for writing code from scratch.\\n\\nInterpreted Language: Python is an interpreted language, meaning that it executes code line by line. This makes debugging easier, as errors can be identified quickly.\\n\\nCross-Platform Compatibility: Python runs on various platforms like Windows, macOS, and Linux, making it a cross-platform language.\\n\\nDynamic Typing: Python uses dynamic typing, meaning that variable types are determined at runtime, which can make development faster.\\n\\nCommunity and Support: Python has a large and active community, providing extensive documentation, tutorials, and third-party libraries.\""
      ]
     },
     "execution_count": 1,
     "metadata": {},
     "output_type": "execute_result"
    }
   ],
   "source": [
    "# 1 Explain the key features of Python that make it a popular choice for programming0\n",
    "'''Python is a popular programming language due to several key features:\n",
    "\n",
    "Simplicity and Readability: Python's syntax is clean and easy to understand, making it ideal for beginners. The use of indentation for block delimitation also enhances readability.\n",
    "\n",
    "Versatility: Python is a general-purpose language that can be used for web development, data analysis, artificial intelligence, scientific computing, automation, and more.\n",
    "\n",
    "Large Standard Library: Python comes with a vast standard library that includes modules for handling everything from file I/O to web services. This reduces the need for writing code from scratch.\n",
    "\n",
    "Interpreted Language: Python is an interpreted language, meaning that it executes code line by line. This makes debugging easier, as errors can be identified quickly.\n",
    "\n",
    "Cross-Platform Compatibility: Python runs on various platforms like Windows, macOS, and Linux, making it a cross-platform language.\n",
    "\n",
    "Dynamic Typing: Python uses dynamic typing, meaning that variable types are determined at runtime, which can make development faster.\n",
    "\n",
    "Community and Support: Python has a large and active community, providing extensive documentation, tutorials, and third-party libraries.'''"
   ]
  },
  {
   "cell_type": "code",
   "execution_count": 3,
   "metadata": {},
   "outputs": [
    {
     "data": {
      "text/plain": [
       "'Predefined keywords in Python are reserved words that have special meanings and are used to define the syntax and structure of Python programs. They cannot be used as variable names, function names, or any other identifiers.'"
      ]
     },
     "execution_count": 3,
     "metadata": {},
     "output_type": "execute_result"
    }
   ],
   "source": [
    "# 2 Describe the role of predefined keywords in Python and provide examples of how they are used in a\n",
    "# program\n",
    "'''Predefined keywords in Python are reserved words that have special meanings and are used to define the syntax and structure of Python programs. They cannot be used as variable names, function names, or any other identifiers.'''\n",
    "\n"
   ]
  },
  {
   "cell_type": "code",
   "execution_count": 5,
   "metadata": {},
   "outputs": [
    {
     "name": "stdout",
     "output_type": "stream",
     "text": [
      "x is less tan 10\n"
     ]
    }
   ],
   "source": [
    "#Examples:\n",
    "x = int(input(\"Enter a number\"))\n",
    "if x > 10:\n",
    "    print(\"x is greater than 10\")\n",
    "else:\n",
    "    print(\"x is less tan 10\")\n"
   ]
  },
  {
   "cell_type": "code",
   "execution_count": 6,
   "metadata": {},
   "outputs": [
    {
     "name": "stdout",
     "output_type": "stream",
     "text": [
      "0\n",
      "1\n",
      "2\n",
      "3\n",
      "4\n"
     ]
    }
   ],
   "source": [
    "for i in range(5):\n",
    "    print(i)\n"
   ]
  },
  {
   "cell_type": "code",
   "execution_count": 7,
   "metadata": {},
   "outputs": [],
   "source": [
    "def greet():\n",
    "    print(\"Hello, World!\")\n"
   ]
  },
  {
   "cell_type": "code",
   "execution_count": 8,
   "metadata": {},
   "outputs": [],
   "source": [
    "import pandas as pd\n"
   ]
  },
  {
   "cell_type": "code",
   "execution_count": 11,
   "metadata": {},
   "outputs": [
    {
     "name": "stdout",
     "output_type": "stream",
     "text": [
      "[1, 2, 3, 4]\n"
     ]
    }
   ],
   "source": [
    "# 3 Compare and contrast mutable and immutable objects in Python with examples0\n",
    "'''Mutable Objects: These are objects whose values can be changed after they are created. Examples include lists, dictionaries, and sets.'''\n",
    "my_list = [1, 2, 3]\n",
    "my_list.append(4)  # my_list is now [1, 2, 3, 4]\n",
    "print(my_list)"
   ]
  },
  {
   "cell_type": "code",
   "execution_count": 12,
   "metadata": {},
   "outputs": [
    {
     "data": {
      "text/plain": [
       "'hello world'"
      ]
     },
     "execution_count": 12,
     "metadata": {},
     "output_type": "execute_result"
    }
   ],
   "source": [
    "my_string = \"hello\"\n",
    "my_string = my_string + \" world\"  # A new string is created; the original is unchanged\n",
    "my_string"
   ]
  },
  {
   "cell_type": "code",
   "execution_count": 13,
   "metadata": {},
   "outputs": [
    {
     "data": {
      "text/plain": [
       "22"
      ]
     },
     "execution_count": 13,
     "metadata": {},
     "output_type": "execute_result"
    }
   ],
   "source": [
    "# 4 Discuss the different types of operators in Python and provide examples of how they are used\n",
    "# Pyhton have different type of operators :\n",
    "#1. Arethemetic operator:- Use for mathemetical operations like addition, subtraction, multiplication\n",
    "\n",
    "result = 10 + 12\n",
    "result"
   ]
  },
  {
   "cell_type": "code",
   "execution_count": 15,
   "metadata": {},
   "outputs": [
    {
     "data": {
      "text/plain": [
       "True"
      ]
     },
     "execution_count": 15,
     "metadata": {},
     "output_type": "execute_result"
    }
   ],
   "source": [
    "#2. Comperision Operators:- Use to comapre values\n",
    "greater_than = 10 > 5\n",
    "greater_than\n",
    "\n"
   ]
  },
  {
   "cell_type": "code",
   "execution_count": 17,
   "metadata": {},
   "outputs": [
    {
     "data": {
      "text/plain": [
       "True"
      ]
     },
     "execution_count": 17,
     "metadata": {},
     "output_type": "execute_result"
    }
   ],
   "source": [
    "#3. Logical Operators:- Used to perform logical operations\n",
    "result = (5 > 3) and (10 > 8)\n",
    "result"
   ]
  },
  {
   "cell_type": "code",
   "execution_count": 18,
   "metadata": {},
   "outputs": [
    {
     "data": {
      "text/plain": [
       "10"
      ]
     },
     "execution_count": 18,
     "metadata": {},
     "output_type": "execute_result"
    }
   ],
   "source": [
    "#4. Assignment Operators:- Used to assign values to variables\n",
    "x = 10\n",
    "x"
   ]
  },
  {
   "cell_type": "code",
   "execution_count": 19,
   "metadata": {},
   "outputs": [
    {
     "data": {
      "text/plain": [
       "1"
      ]
     },
     "execution_count": 19,
     "metadata": {},
     "output_type": "execute_result"
    }
   ],
   "source": [
    "#5. Bitwise Operators:- Used to perform operations on bits\n",
    "bit = 5 & 3\n",
    "bit"
   ]
  },
  {
   "cell_type": "code",
   "execution_count": 20,
   "metadata": {},
   "outputs": [],
   "source": [
    "# 5 Explain the concept of type casting in Python with examples\n",
    "# Type casting is the process of converting one data type to another. Python provides several built-in functions for type casting.\n",
    "num = int(\"10\")  # Converts string \"10\" to integer 10\n"
   ]
  },
  {
   "cell_type": "code",
   "execution_count": 21,
   "metadata": {},
   "outputs": [],
   "source": [
    "num = float(\"10.5\")  # Converts string \"10.5\" to float 10.5\n"
   ]
  },
  {
   "cell_type": "code",
   "execution_count": 22,
   "metadata": {},
   "outputs": [],
   "source": [
    "text = str(10)  # Converts integer 10 to string \"10\"\n"
   ]
  },
  {
   "cell_type": "code",
   "execution_count": 23,
   "metadata": {},
   "outputs": [
    {
     "name": "stdout",
     "output_type": "stream",
     "text": [
      "x is 10\n"
     ]
    }
   ],
   "source": [
    "# 6 How do conditional statements work in Python? Illustrate with examples\n",
    "# Conditional statements allow the execution of certain blocks of code based on specific conditions.\n",
    "x = 10\n",
    "if x > 10:\n",
    "    print(\"x is greater than 10\")\n",
    "elif x == 10:\n",
    "    print(\"x is 10\")\n",
    "else:\n",
    "    print(\"x is less than 10\")\n"
   ]
  },
  {
   "cell_type": "code",
   "execution_count": null,
   "metadata": {},
   "outputs": [],
   "source": [
    "# 7 Describe the different types of loops in Python and their use cases with examples.\n",
    "# for Loop: Used to iterate over a sequence (like a list, tuple, or string).\n",
    "# while Loop: Used to execute a block of code as long as a certain condition is met.\n",
    "# do-while Loop: Not available in Python, but can be achieved using a while loop with\n"
   ]
  },
  {
   "cell_type": "code",
   "execution_count": 24,
   "metadata": {},
   "outputs": [
    {
     "name": "stdout",
     "output_type": "stream",
     "text": [
      "0\n",
      "1\n",
      "2\n",
      "3\n",
      "4\n"
     ]
    }
   ],
   "source": [
    "#Example for loop\n",
    "for i in range(5):\n",
    "    print(i)"
   ]
  },
  {
   "cell_type": "code",
   "execution_count": 28,
   "metadata": {},
   "outputs": [
    {
     "name": "stdout",
     "output_type": "stream",
     "text": [
      "0\n",
      "1\n",
      "2\n",
      "3\n",
      "4\n"
     ]
    }
   ],
   "source": [
    "count = 0\n",
    "while count < 5:\n",
    "    print(count)\n",
    "    count += 1\n"
   ]
  },
  {
   "cell_type": "code",
   "execution_count": null,
   "metadata": {},
   "outputs": [],
   "source": []
  }
 ],
 "metadata": {
  "kernelspec": {
   "display_name": "base",
   "language": "python",
   "name": "python3"
  },
  "language_info": {
   "codemirror_mode": {
    "name": "ipython",
    "version": 3
   },
   "file_extension": ".py",
   "mimetype": "text/x-python",
   "name": "python",
   "nbconvert_exporter": "python",
   "pygments_lexer": "ipython3",
   "version": "3.11.5"
  }
 },
 "nbformat": 4,
 "nbformat_minor": 2
}
