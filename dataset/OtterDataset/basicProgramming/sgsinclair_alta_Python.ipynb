{
 "cells": [
  {
   "cell_type": "markdown",
   "metadata": {},
   "source": [
    "<div style=\"text-align: center\">\n",
    "<h1>Python for Literary Analysis</h1>\n",
    "<div>Stéfan Sinclair &amp; Geoffrey Rockwell</div>\n",
    "</div>\n",
    "\n",
    "<p style=\"margin-left: 60%\">“Every programmer is an author.”<br/>― Sercan Leylek</p>\n",
    "\n",
    "The purpose of this chapter is to demonstrate that the Python programming language can be a useful and powerful tool (among others) in the toolset of a scholar doing computational literary analysis. We will introduce Python in general, and a technology called iPython (or Jupyter) Notebooks in particular, we will briefly review some related technologies, and we will show a simple example of using Python to explore character name networks in *The Adventures of Sherlock Holmes*. Though working in Python won't be everyone's cup of tea, we hope this brief overview will serve to help readers recognize some of its strengths and potential applications."
   ]
  },
  {
   "cell_type": "markdown",
   "metadata": {},
   "source": [
    "## Python\n",
    "\n",
    "Python is a programming language, in other words, it's a language (with a vocabulary and syntax) intended to give instructions to a computer. Compared to many other programming languages, Python is also deliberately designed to be more easily read by humans. In principle, a programming language that's easier to read is also easier to learn (though it's never easy to learn a first programming language), as well as easier for other programmers to understand, maintain, and extend.\n",
    "\n",
    "We won't go into details on the syntax of Python here (there are plenty of good introductory guides and tutorials for Python), but there are a few characteristics that are worth mentioning (we invite you to skip over the exotic-sounding parts that don't make sense). Python\n",
    "\n",
    "* relies heavily on indentation as meaningful indicators of code blocks (loops, conditionals, functions, etc.)\n",
    "* uses natural language to some extent (_for_, _in_, _and_, _or_, _not_, etc.) \n",
    "* is dynamically typed, which means that the programmer need not declare the data type of variables (number, string, boolean, list, etc.)\n",
    "* supports Unicode very well (by default since Python 3)\n",
    "* performs memory allocation and garbage collection automatically\n",
    "* supports different styles through functional programming and dynamic object-oriented constructs\n",
    "\n",
    "It may be useful to see a concrete bit of code, even if it's a contrived example. Let's imagine that we wanted to list the even numbers between zero and ten (exclusively). We can iterate over a _range_ of numbers and use the [modulo operator](https://en.wikipedia.org/wiki/Modulo_operation) (%) to determine if a number divided by two has a remainder (if it doesn't then it's an even number).\n",
    "\n",
    "* 1 % 2 = 1 = there's a remainder = true\n",
    "* 2 % 2 = 0 = there's no remainder = false"
   ]
  },
  {
   "cell_type": "code",
   "execution_count": 1,
   "metadata": {},
   "outputs": [
    {
     "name": "stdout",
     "output_type": "stream",
     "text": [
      "even: 2\n",
      "even: 4\n",
      "even: 6\n",
      "even: 8\n"
     ]
    }
   ],
   "source": [
    "# loop through each number in the range from 0 up to (but not including) 9\n",
    "for n in range(0,9):\n",
    "    # if n is true (not zero) and there's no remainder, print the number\n",
    "    if n and not n % 2: print(\"even:\", n)"
   ]
  },
  {
   "cell_type": "markdown",
   "metadata": {},
   "source": [
    "So the syntax in Python could be something like this:\n",
    "\n",
    "```python\n",
    "for n in range(0,9):\n",
    "    if n and not n % 2: print(\"even: \", n)\n",
    "```\n",
    "\n",
    "Let's compare that to an equivalent bit of code in PHP:\n",
    "\n",
    "```php\n",
    "foreach(range(0,9) as $n) {\n",
    "    if ($n && !(n % 2)) {echo \"$n\\n\";}\n",
    "}\n",
    "```\n",
    "\n",
    "Do you find one easier to read than the other? Note some important stylistic differences and characteristics of Python:\n",
    "\n",
    "* no dollar sign ($) for variable names (like \"n\")\n",
    "* no curly brackets to indicate the start and finish of the block (just indentation)\n",
    "* more natural language operators (\"and not\" instead of &amp;&amp; !)\n",
    "\n",
    "Again, readability of code is an important aspect of Python – the easier it is to read, the quicker it is to learn and master. Style is a consideration for Python programmers, there's even the concept of a more _pythonic_ way of doing things, which roughly corresponds to using idioms motivated by the core philosophy of the language. Indeed, one of Python's aphorisims in the _[Zen of Python](https://www.python.org/dev/peps/pep-0020/)_ is that \"Flat is better than nested\", which means that our loop above, with nested indentation, might be better expressed using a structure called [list comprehension](https://docs.python.org/3/tutorial/datastructures.html#list-comprehensions): \n",
    "\n",
    "```python\n",
    "[print(\"even: \", n) for n in range(0,9) if n and not n % 2]\n",
    "```\n",
    "\n",
    "Another Python aphorism is that \"Readability counts\", and we're not entirely sure that this more compact version is more readable, which reinforces that programmers are authors who make stylistic choices, in part subject to personal preferences.\n",
    "\n",
    "In any case, another compelling advantage of Python is the large number of standard (built-in) and external libraries available for working with texts. Chief among these is [Natural Language Toolkit](http://www.nltk.org/) (NLTK), which provides convenient functions for processing a corpus, segmenting words, analyzing and graphing frequencies, concordancing, part-of-speech tagging (identifying determiners, nouns, etc.), and many other features. Moreover, the NLTK library can be used in conjunction with other libraries for advanced statistical analysis, machine learning and graphing."
   ]
  },
  {
   "cell_type": "markdown",
   "metadata": {},
   "source": [
    "## iPython (Jupyter) Notebooks\n",
    "\n",
    "Python code can be executed in several different ways. A common scenario is to use the command line to invoke the Python interpreter which parses and executes the contents of a file like this (where `python` is the command and `myscript.py` is the name of the file to be executed):\n",
    "\n",
    "    $ python myscript.py\n",
    "\n",
    "Another model is to an interactive command line environment. Instead of executing a file at once and then terminating, Python allows you to keep a session \"live\" which means that functions and variables that you define remain in memory until you leave the interactive environment. Here's an example session, where \">>>\" indicates the Python command line:\n",
    "\n",
    "    $ python\n",
    "    >>> msg = \"Hello World!\"\n",
    "    >>> print(msg)\n",
    "    Hello World!\n",
    "\n",
    "Jupyter Notebooks are in some ways a web-based version of interactive Python: they allow you to edit and execute bits of code directly in your browser and to keep your work (variables, functions, etc.) in memory for the duration of the session. But Jupyter Notebooks are much more than just interactive Python because they also add a second component: the ability to create and edit blocks of text that can be intertwingled with the blocks of code. This mix of code and text is sometimes called literate programming.\n",
    "\n",
    "Literate programming was first described by Donald Knuth in 1984, it emphasizes the primacy of thinking-through in a “literate” or human-readable fashion for others what a program should do. As Knuth put it (Knuth 1984, p. 1):\n",
    "\n",
    "> Instead of imagining that our main task is to instruct a computer what to do, let us concentrate rather on explaining to human beings what we want a computer to do. The practitioner of literate programming can be regarded as an essayist, whose main concern is with exposition and excellence of style. Such an author, with thesaurus in hand, chooses the names of variables carefully and explains what each variable means. He or she strives for a program that is comprehensible because its concepts have been introduced in an order that is best for human understanding, using a mixture of formal and informal methods that reinforce each other.\n",
    "\n",
    "Although no one would claim that literate programming has revolutionized computer science or become de facto standard practice, we believe that literate programming has enormous potential for the humanities because it privileges argumentation and human expression. Jupyter Notebooks allow students and scholars to develop an argument in prose while also providing direct access to the methods used. Indeed, our enthusiasm for literate programming in Python has led us to write an introductory guide called the [Art of Literary Programming](http://nbviewer.ipython.org/github/sgsinclair/alta/blob/master/ipynb/ArtOfLiteraryTextAnalysis.ipynb) (which includes instructions for [getting setup with Jupyter Notebooks](http://nbviewer.jupyter.org/github/sgsinclair/alta/blob/master/ipynb/GettingSetup.ipynb). This guide to iPython Notebooks, written in iPython Notebooks, is hosted at GitHub, a broadly used service for collaborative development (GitHub renders iPython notebooks directly, but we still tend to use [nbviewer.ipython.org](http://nbviewer.ipython.org) because of better formatting)."
   ]
  },
  {
   "cell_type": "markdown",
   "metadata": {},
   "source": [
    "## Related Technologies\n",
    "\n",
    "The opening claim in this chapter is that Python is a useful tool, which of course is *not* a claim that Python is always and necessarily the *best* tool for all aspects of computational literary analysis. On the contrary, just as no carpenter would embark on a project with a single tool, we believe that it's best to explore the broad range of tools available and to make strategic choices. Factors in choosing technologies strategically include\n",
    "\n",
    "- *Conceptual Approach*: before casting around for tools it's probably best to clarify as much as possible one's conceptual approach to literary analysis and how using tools might fit in methodologically. For instance, are texts *quantifiable* in some interesting ways, such as the rise and fall in frequency of logically grouped words? Can our understanding of texts benefit from experiencing them in unconventional ways by playing with aesthetically-motivated modes of representation? This volume contains a variety of perspectives, see also Hoover's _Quantitative Analysis and Literary Studies_ (2008) and Ramsay's _Algorithmic Criticism_ (2008).\n",
    "- *Desired Functionality*: based on the conceptual approach and other considerations, what do we want the tool to do? This can range from specific tasks for analysis (e.g. extract text from a PDF document or identify proper names) to more general features that relate to research and dissemination (e.g. annotate a text or publish and share data).\n",
    "- *Data Compatibility*: some technologies might be designed to work only or more effectively with certain specific data formats. Programming languages are typically useful in this regard since they can be used to convert some data formats to others.\n",
    "- *Tool Accessibility*: the (hypothetically) perfect tool won't be of much use if it's inaccessible, such as being prohibitively expensive, incompatible with one's work environment (e.g. can't be run on an iOS device), or inappropriate (e.g. a cloud-based service for working with privacy sensitive data).\n",
    "- *Technical Competencies*: some technologies are designed to be user-friendly for beginners while others require advanced technical competencies (a corollary is of course the user's willingness to acquire technical competencies as needed).\n",
    "\n",
    "There are several lists of text analysis tools out there (some of which are more or less up-to-date), but we'll mention two in particular that are maintained by and for digital humanists. First, there's TAPoR ([tapor.ca](http://tapor.ca)), the Text Analysis Portal for Research (led by co-author Rockwell and others). TAPoR includes hundreds of tools organized by categories and user-defined tags. Each tool entry defines useful characteristics such as \"ease of use\" and \"type of license\" and includes user-contributed reviews. Second, there's DiRT ([dirtdirectory.org](http://dirtdirectory.org)), the Digital Research Tools Directory. DiRT organizes a broad range of tools (not just for literary analysis) by research task and by kinds of data. DiRT also defines several useful characteristics for tool entries, as well as screenshots for many of the tools.\n",
    "\n",
    "There's a dizzying number of specialized tools that can be used for literary text analysis (we distinguish here between specialized tools with defined functionality and programming languages that are more general and can be used to develop specialized tools). We (the authors) have developed Voyant Tools ([voyant-tools.org](http://voyant-tools.org)), a web-based digital text reading and analysis environment. Voyant allows users to upload content in a a variety of of formats (plain text, MS Word, XML, PDF, etc.) and provides extensive analytic functionality, particularly for studying the frequency and distribution of words in one or more documents. Another specialized tool for literary text analysis is TXM ([textometrie.ens-lyon.fr](textometrie.ens-lyon.fr/?lang=en)), which is especially good at working with XML and TEI documents. Commercial and tiered-license solutions include RapidMiner ([rapidminer.com](https://rapidminer.com/)) and Provalis Research ([provalisresearch.com](http://provalisresearch.com/)).\n",
    "\n",
    "![Voyant Tools](http://beta.voyant-tools.org/docs/guides/start/default-skin.png)\n",
    "\n",
    "A strength of Voyant is that it provides a (relatively) friendly and familiar  user interface for working with texts, no programming or advanced technical skills are needed. However, this is also a weakness: the functionality is limited to what the developers have included, and if users want to do something differently, they're stuck. That's one of the strongest arguments for learning how to program, to not be constrained by what others have created.\n",
    "\n",
    "Just as there's no best tool for literary analysis, there's no best programming language (even though some programmers are committed to their favourite language with almost religious zeal). We have developed functional tools in C, Java, Javascript, Mathematica, Perl, PHP, Python, R, Ruby, Swift, XSLT (and probably others we've forgotten). If anything, learning new languages often makes us better programmers in whatever language we happen to use.\n",
    "\n",
    "Any text analysis operation that can be programmed in one language can also be programmed in another, but two important factors are how quickly and conveniently things can be done, as well as how generally useful a language is. We like PHP as a programming language because it's widely used for web applications (like WordPress) and because some common operations are very easily accomplished. As mentioned before, Python has the advantage of a large number of useful libraries for natural language processing. We tend to use Java when speed is more important and when projects get bigger.\n",
    "\n",
    "Below is a simple example of fetching the contents of a URL into a string variable with three different languages: PHP, Python and Java. This operation could be programmed in different ways for each language, the purpose here is to show more generally that that are significant differences in style and that there are always trade-offs between brevity, clarity, convenience, speed, robustness, and other considerations.\n",
    "\n",
    "```PHP\n",
    "// PHP (notice that no additional modules or libraries need to be included)\n",
    "$holmes = file_get_contents(\"http://www.gutenberg.org/cache/epub/1661/pg1661.txt\")\n",
    "```\n",
    "\n",
    "```PYTHON\n",
    "# Python\n",
    "import urllib.request\n",
    "url = \"http://www.gutenberg.org/cache/epub/1661/pg1661.txt\"\n",
    "holmes = urllib.request.urlopen(url).read().decode()\n",
    "```\n",
    "\n",
    "```JAVA\n",
    "// Java\n",
    "URL holmesUrl = new URL(\"http://www.gutenberg.org/cache/epub/1661/pg1661.txt\");\n",
    "URLConnection connection = holmesUrl.openConnection();\n",
    "InputStream is = new InputStreamReader(connection.getInputStream())\n",
    "BufferedReader in = new BufferedReader(is);\n",
    "StringBuilder response = new StringBuilder();\n",
    "String inputLine;\n",
    "while ((inputLine = in.readLine()) != null) \n",
    "    response.append(inputLine);\n",
    "in.close();\n",
    "String holmes = response.toString();\n",
    "```\n",
    "\n",
    "Let's now look at a more developed example of a literate programming notebook in Python."
   ]
  },
  {
   "cell_type": "markdown",
   "metadata": {},
   "source": [
    "## Character Name Networks in _The Adventures of Sherlock Holmes_\n",
    "\n",
    "Who talks to whom in a story? Which characters in a story form into a social network by virtue of being mentioned in close proximity? Are there associations we may not have noticed during a close reading? Are there suggestive structures we can observe in a larger corpus that we have not read closely? These are some of the questions that might motivate literary text analysis with computers (indeed, the example below is derived from a question first posed on [Twitter](https://twitter.com/merisamartinez/status/577795285746900992)).\n",
    "\n",
    "What follows is a simple example of a Jupyter iPython Notebook for the rapid analysis of character names in _The Adventures of Sherlock Holmes_ by Sir Arthur Conan Doyle. Our purpose here is to provide a quick demonstration of an an iPython Notebook, including the mix of prose and code, as well as the power of Python, and we make no claims about contributing to Holmesian studies. The superficiality of this example can even be considered a virtue: sometimes computational methods allow us to quickly ask questions (that we might not otherwise be able to ask) and to determine if more rigorous analysis is warranted.\n",
    "\n",
    "Our plan for studying character name networks can be summarized as follows:\n",
    "\n",
    "1. Prepare a digital corpus of _The Adventures of Sherlock Holmes_\n",
    "1. Segment the corpus into paragraphs\n",
    "1. Identify people mentioned in each paragraph\n",
    "1. Build links between people mentioned within a window of two consecutive paragraphs\n",
    "1. Graph the links to show a network of character names"
   ]
  },
  {
   "cell_type": "markdown",
   "metadata": {},
   "source": [
    "### 1. Prepare a digital corpus of _The Adventures of Sherlock Holmes_\n",
    "\n",
    "Not all texts are created equal when it comes to literary text analysis: some texts are more readily available than others (because of copyright, format, language, condition of the original, etc.). Fortunately, Conan Doyle's works are public domain and available from various sources, including Project Gutenberg. While Project Gutenberg texts may not be the preferred editions for some kinds of scholarship, for our experiment on character names they will work just fine.\n",
    "\n",
    "We'll begin by fetching the contents of Project Gutenberg's [_The Adventures of Sherlock Holmes_](http://www.gutenberg.org/cache/epub/1661/pg1661.txt), by Arthur Conan Doyle (it's worth opening the contents of this link to see what we'll be getting). Using Python to fetch the contents of a URL is more fully described in [Getting Texts](http://nbviewer.ipython.org/github/sgsinclair/alta/blob/master/ipynb/GettingTexts.ipynb).\n",
    "\n",
    "In the Python code blocks below, the hash (#) symbol indicates a comment (not executed as code), which can be a useful way of differentiating pragmatic programming concerns with the conceptual narration that is expressed in this prosaic (non-code) block of text."
   ]
  },
  {
   "cell_type": "code",
   "execution_count": 2,
   "metadata": {},
   "outputs": [],
   "source": [
    "# start by importing a module that helps with fetching contents form URLs\n",
    "import urllib.request\n",
    "\n",
    "# define the URL to fetch\n",
    "url = \"http://www.gutenberg.org/cache/epub/1661/pg1661.txt\"\n",
    "\n",
    "# fetch the contens of the URL and convert from bytes to UTF-8\n",
    "string = urllib.request.urlopen(url).read().decode()"
   ]
  },
  {
   "cell_type": "markdown",
   "metadata": {},
   "source": [
    "If all goes well, we now have a string variable (called `string` that contains the feteched contents. We can double check the length of the string and have a peek at its contents. It's a good idea to have these sanity checks as we go along since a lot of things can go wrong (like a URL no longer working)."
   ]
  },
  {
   "cell_type": "code",
   "execution_count": 3,
   "metadata": {},
   "outputs": [
    {
     "name": "stdout",
     "output_type": "stream",
     "text": [
      "string contains 594916 characters (not to be confused with narrative characters)\n",
      "start of string: ﻿Project Gutenberg's The Adventures of Sherlock Holmes, by Arthur Conan Doy …\n"
     ]
    }
   ],
   "source": [
    "# show the length of the string\n",
    "print(\"string contains\", len(string), \"characters (not to be confused with narrative characters)\")\n",
    "\n",
    "# show the first 75 characters\n",
    "print(\"start of string:\", string[:75], \"…\")"
   ]
  },
  {
   "cell_type": "markdown",
   "metadata": {},
   "source": [
    "We have the full string, but that includes some paratextual content like the Project Gutenberg header and license. By [looking at the original file](http://www.gutenberg.org/cache/epub/1661/pg1661.txt), we can identify the \"real\" start and end of the of the text (for our purposes), and then isolate just that section."
   ]
  },
  {
   "cell_type": "code",
   "execution_count": 4,
   "metadata": {},
   "outputs": [
    {
     "name": "stdout",
     "output_type": "stream",
     "text": [
      "filteredText contains 574456 characters\n",
      "start of filteredText: ADVENTURE I. A SCANDAL IN BOHE …\n"
     ]
    }
   ],
   "source": [
    "# find the character index of the \"real\" start of the text\n",
    "startText = string.find(\"ADVENTURE I. A SCANDAL IN BOHEMIA\")\n",
    "\n",
    "# find the character index of the \"real\" end of the text\"\n",
    "endText = string.find(\"End of the Project Gutenberg EBook of The Adventures of Sherlock Holmes\")\n",
    "\n",
    "# keep only the \"real\" text, filtering out the rest and stripping trailing whitespace\n",
    "filteredText = string[startText:endText].strip()\n",
    "\n",
    "# show the length of the string\n",
    "print(\"filteredText contains\", len(filteredText), \"characters\")\n",
    "\n",
    "# show the first 30 characters\n",
    "print(\"start of filteredText:\", filteredText[:30], \"…\")"
   ]
  },
  {
   "cell_type": "markdown",
   "metadata": {},
   "source": [
    "### 2. Segment the corpus into paragraphs\n",
    "\n",
    "We now have one long string with all the texts, but what we really want is to look for the co-occurrence of character names by paragraph, so we need a way of segmenting our string into paragraphs. For the sake of simplicity, we can simply use double newline characters as an indication of a new paragraph. We can see this by looking at the first couple of hundred characters:"
   ]
  },
  {
   "cell_type": "code",
   "execution_count": 5,
   "metadata": {},
   "outputs": [
    {
     "name": "stdout",
     "output_type": "stream",
     "text": [
      "ADVENTURE I. A SCANDAL IN BOHEMIA\r\n",
      "\r\n",
      "I.\r\n",
      "\r\n",
      "To Sherlock Holmes she is always THE woman. I have seldom heard\r\n",
      "him mention her under any other name. In his eyes she eclipses\r\n",
      "and predominates the whole of her sex. It was not that he \n"
     ]
    }
   ],
   "source": [
    "print(filteredText[:230])"
   ]
  },
  {
   "cell_type": "markdown",
   "metadata": {},
   "source": [
    "Project Gutenberg uses the Windows cariage return (\\r) and line feed (\\n) sequence, as we can see if we show the first couple of hundred characters in a rawer format:"
   ]
  },
  {
   "cell_type": "code",
   "execution_count": 6,
   "metadata": {},
   "outputs": [
    {
     "data": {
      "text/plain": [
       "'ADVENTURE I. A SCANDAL IN BOHEMIA\\r\\n\\r\\nI.\\r\\n\\r\\nTo Sherlock Holmes she is always THE woman. I have seldom heard\\r\\nhim mention her under any other name. In his eyes she eclipses\\r\\nand predominates the whole of her sex. It was not that he '"
      ]
     },
     "execution_count": 6,
     "metadata": {},
     "output_type": "execute_result"
    }
   ],
   "source": [
    "filteredText[:230]"
   ]
  },
  {
   "cell_type": "markdown",
   "metadata": {},
   "source": [
    "So, to identify paragraphs, we can separate the text using two or more sequences of \\r\\n in a row. The code below uses [Regular Expressions](https://docs.python.org/3/library/re.html) to split our text into a list of smaller strings based on newlines. It filters out paragraphs that are empty (once leading and trailing whitespace is removed). The code uses a very compact and convenient syntax called [list comprehension](https://docs.python.org/3/tutorial/datastructures.html#list-comprehensions) to manipulate our list."
   ]
  },
  {
   "cell_type": "code",
   "execution_count": 7,
   "metadata": {},
   "outputs": [
    {
     "name": "stdout",
     "output_type": "stream",
     "text": [
      "we have 2537 paragraphs\n"
     ]
    }
   ],
   "source": [
    "import re\n",
    "\n",
    "# create a list of paragraphs from (Windows) double (or more) newlines\n",
    "# the p.strip() removes any leading or trailing whitespace and the paragraph\n",
    "# is only kept if there are still characters after stripping whitespace\n",
    "paragraphs = [p for p in re.split(r'\\r\\n(\\r\\n)+', filteredText) if p.strip()]\n",
    "print(\"we have\", len(paragraphs), \"paragraphs\")"
   ]
  },
  {
   "cell_type": "markdown",
   "metadata": {},
   "source": [
    "### 3. Identify people mentioned in each paragraph\n",
    "\n",
    "We now have a list of paragraphs. Next we'll want to look for character names in each paragraph. There are several ways this might be done, including looking for capitalized words (probably too generic), looking for matches from known lists of names (probably too specific), or combining a variety of heuristics. This last approach is essentially what the Natural Language Toolkit part-of-speech tagger does, using what it knows about a multi-domain training corpus (in other words, based on tags that have been manually verified in a variety of known texts, it tries to tag the contents of texts it hasn't seen). The NLTK library is one of the real benefits of working with Python. It's very convenient for a wide range of natural language analysis tasks, and though it's not always as accurate as we might like, it's still very powerful.\n",
    "\n",
    "Part of the NLTK worklow is to create a linguistic tree that can combine smaller units. For instance a tree might represent an entire sentence, a clause, or successive proper nouns that together represent the first and last names of a person. So we'll create a function to _findPeople_ that takes as an argument a tree where the tree is either labeled as a person or another kind of tree that we can further breakdown into branches. This is called a recursive function, a function that can call itself until it finds what it needs (or can look no further)."
   ]
  },
  {
   "cell_type": "code",
   "execution_count": 8,
   "metadata": {},
   "outputs": [],
   "source": [
    "# import the Natural Language Toolkit\n",
    "import nltk\n",
    "\n",
    "# a function that looks at a parsed NLTK tree (or list of trees) and looks for tagged people\n",
    "def findPeopleInTree(tree):\n",
    "\n",
    "    # an empty set of people\n",
    "    people = []\n",
    "    \n",
    "    # if we have a tree and its label is \"PERSON\", return the person\n",
    "    if type(tree) is nltk.tree.Tree and tree.label() == \"PERSON\":\n",
    "        return \" \".join([word for word, pos in tree])\n",
    "\n",
    "    # otherwise, if we have a list, try calling this function recursively\n",
    "    elif (type(tree) is nltk.tree.Tree) or (type(tree) is list):\n",
    "        for branch in tree:\n",
    "            person = findPeopleInTree(branch)\n",
    "            \n",
    "            # if we actually get a person, add it to our list\n",
    "            if person:\n",
    "                people.append(person)\n",
    "    \n",
    "    # return a set of unique people (may be empty)\n",
    "    return people"
   ]
  },
  {
   "cell_type": "markdown",
   "metadata": {},
   "source": [
    "That code may be a bit difficult to understand in the abstract, so let's now create some code that will let us demonstrate it. Essentially we want to be able to send a paragraph through a pipeline that accomplishes the following operations:\n",
    "\n",
    "* find sentences within the paragraph\n",
    "* find tokens (words) within the sentences\n",
    "* assign a part-of-speech tag to each token (as determiner, verb, common noun, proper noun, etc.)\n",
    "* chunk the tokens in sentences (in some cases combine two proper names into a single person, for instance)"
   ]
  },
  {
   "cell_type": "code",
   "execution_count": 9,
   "metadata": {
    "collapsed": true
   },
   "outputs": [],
   "source": [
    "# a function that parses a pargraph and returns a list of tagged people\n",
    "def findPeopleInParagraph(paragraph):\n",
    "    \n",
    "    # parse sentences from the paragraph\n",
    "    sentences = nltk.sent_tokenize(paragraph)\n",
    "    \n",
    "    # word tokenization of the sentences\n",
    "    tokenizedSentences = [nltk.word_tokenize(sent) for sent in sentences]\n",
    "    \n",
    "    # part-of-speech tagging of the tokenized sentences\n",
    "    taggedSentences = [nltk.pos_tag(sent) for sent in tokenizedSentences]\n",
    "    \n",
    "    # chunk tagged sentences (allows first and last names to be combined, for instance)\n",
    "    chunkedSentences = [nltk.ne_chunk(sent) for sent in taggedSentences]\n",
    "    \n",
    "    # get people from our chunked sentences\n",
    "    people = findPeopleInTree(chunkedSentences)\n",
    "    \n",
    "    # flatten the list of lists\n",
    "    people = [person for sublist in people for person in sublist]\n",
    "\n",
    "    # return a list without duplicates\n",
    "    return list(set(people))"
   ]
  },
  {
   "cell_type": "markdown",
   "metadata": {},
   "source": [
    "Now we can show our new functions in action. We'll show the first full paragraph in our corpus as an example and try to find people in it."
   ]
  },
  {
   "cell_type": "code",
   "execution_count": 10,
   "metadata": {},
   "outputs": [
    {
     "name": "stdout",
     "output_type": "stream",
     "text": [
      "To Sherlock Holmes she is always THE woman. I have seldom heard\r\n",
      "him mention her under any other name. In his eyes she eclipses\r\n",
      "and predominates the whole of her sex. It was not that he felt\r\n",
      "any emotion akin to love for Irene Adler. All emotions, and that\r\n",
      "one particularly, were abhorrent to his cold, precise but\r\n",
      "admirably balanced mind. He was, I take it, the most perfect\r\n",
      "reasoning and observing machine that the world has seen, but as a\r\n",
      "lover he would have placed himself in a false position. He never\r\n",
      "spoke of the softer passions, save with a gibe and a sneer. They\r\n",
      "were admirable things for the observer--excellent for drawing the\r\n",
      "veil from men's motives and actions. But for the trained reasoner\r\n",
      "to admit such intrusions into his own delicate and finely\r\n",
      "adjusted temperament was to introduce a distracting factor which\r\n",
      "might throw a doubt upon all his mental results. Grit in a\r\n",
      "sensitive instrument, or a crack in one of his own high-power\r\n",
      "lenses, would not be more disturbing than a strong emotion in a\r\n",
      "nature such as his. And yet there was but one woman to him, and\r\n",
      "that woman was the late Irene Adler, of dubious and questionable\r\n",
      "memory.\n"
     ]
    }
   ],
   "source": [
    "print(paragraphs[2])"
   ]
  },
  {
   "cell_type": "code",
   "execution_count": 11,
   "metadata": {},
   "outputs": [
    {
     "data": {
      "text/plain": [
       "['Irene Adler']"
      ]
     },
     "execution_count": 11,
     "metadata": {},
     "output_type": "execute_result"
    }
   ],
   "source": [
    "findPeopleInParagraph(paragraphs[2])"
   ]
  },
  {
   "cell_type": "markdown",
   "metadata": {},
   "source": [
    "We see here some good and bad: the character name \"Irene Adler\" was correctly identified, but the name \"Sherlock Holmes\" was not. This may seem surprising in some ways, but \"Sherlock\" and \"Sherlock Holmes\" can actually refer to many things, as evidence by the [disambiguation page on Wikipedia](https://en.wikipedia.org/wiki/Sherlock_Holmes_(disambiguation)). Still, let's press forward, noting that we want to be even more circumspect about the results given these disambiguation challenges and the fact that we may be missing several character names (and possibly including some \"people\" who aren't actually character names).\n",
    "\n",
    "Following this demonstration with one paragraph, we're now ready to try to parse the entire corpus."
   ]
  },
  {
   "cell_type": "code",
   "execution_count": 12,
   "metadata": {},
   "outputs": [],
   "source": [
    "all_people = [findPeopleInParagraph(paragraph) for paragraph in paragraphs]"
   ]
  },
  {
   "cell_type": "markdown",
   "metadata": {},
   "source": [
    "Before we go further, we can have a peek at the character names that have been identified by generating a frequency graph."
   ]
  },
  {
   "cell_type": "code",
   "execution_count": 13,
   "metadata": {},
   "outputs": [
    {
     "data": {
      "image/png": "[encoded data removed]",
      "text/plain": [
       "<matplotlib.figure.Figure at 0x101f2fa20>"
      ]
     },
     "metadata": {},
     "output_type": "display_data"
    }
   ],
   "source": [
    "# make sure to plot graphs inline\n",
    "%matplotlib inline\n",
    "\n",
    "# let's have a peak at the results\n",
    "nltk.FreqDist([person for sublist in all_people for person in sublist]).plot(20)"
   ]
  },
  {
   "cell_type": "markdown",
   "metadata": {},
   "source": [
    "### 4. Build links between people mentioned within a window of two consecutive paragraphs\n",
    "\n",
    "Now that we've identified (some) people mentioned in each paragraph, we can look for co-occurrences by creating links between any two character names that occur within a span of two paragraphs. As we're doing this, we'll do some clean-up of the names, including the following:\n",
    "\n",
    "* consider \"Sherlock Holmes\" and \"Holmes\" as the same\n",
    "* try to find other occurrences where firstnames are used along with full names\n",
    "* remove some common titles (Mr., Miss, Sir, Lord, etc.)\n",
    "* remove names that contain unlikely words like \"Street\" (\"Baker Street\")"
   ]
  },
  {
   "cell_type": "code",
   "execution_count": 14,
   "metadata": {},
   "outputs": [],
   "source": [
    "# this is a list of paragraphs that contain multiple people\n",
    "multi_people = []\n",
    "\n",
    "# this variable stores people from the previous paragraph\n",
    "previous_people = []\n",
    "\n",
    "# loop through each list in our list of all_people\n",
    "for people in all_people:\n",
    "\n",
    "    # if we have any people in our list\n",
    "    if people:\n",
    "        \n",
    "        # normalize Holmes\n",
    "        people = [\"Holmes\" if (\"Holmes\" in person or \"Sherlock\" in person) else person for person in people]\n",
    "        \n",
    "        # remove titles\n",
    "        people = [re.sub(\"(Mr\\.|Miss|Sir|Lord)\", \"\", person) for person in people]\n",
    "        \n",
    "        # remove names with stopwords\n",
    "        people = [person for person in people if not any([w for w in [\"Street\", \"Station\"] if w in person])]\n",
    "        \n",
    "        # remove people where nothing is left\n",
    "        people = list(set([person.strip() for person in people if person.strip()]))\n",
    "        \n",
    "        # combine people from this paragraph with those from the previous one\n",
    "        combined_people = people+previous_people\n",
    "        \n",
    "        # try to remove possible first names only (localized to current and previous paragraphs)\n",
    "        firstnames = [name.split(\" \")[0] for name in combined_people if len(name.split(\" \"))>1]       \n",
    "        combined_people = [person for person in people if person not in firstnames]\n",
    "        \n",
    "        # remove duplicates of people\n",
    "        combined_people = set(combined_people)\n",
    "                \n",
    "        # we have a winner (more than one person in this paragraph)\n",
    "        if len(combined_people) > 1:\n",
    "            multi_people.append(combined_people)\n",
    "    \n",
    "    # no people in this paragraph, so let's ensure an empty list\n",
    "    else:\n",
    "        people = []\n",
    "    \n",
    "    # remember the people from the current paragraph to use with the next one\n",
    "    previous_people = people"
   ]
  },
  {
   "cell_type": "markdown",
   "metadata": {},
   "source": [
    "Now we'll go through and prepare a set of relationships that can be counted. We'll create a link between every pair of people for each element in our list (which contains people from each paragraph and the one before it). So, if people A, B and C are mentioned, we'll have three relationships:\n",
    "\n",
    "* A - B\n",
    "* A - C\n",
    "* B - C\n",
    "\n",
    "Then we can count how many times these relationships repeat."
   ]
  },
  {
   "cell_type": "code",
   "execution_count": 15,
   "metadata": {},
   "outputs": [
    {
     "data": {
      "text/plain": [
       "[(('Watson', 'Holmes'), 18),\n",
       " (('Hosmer Angel', 'Holmes'), 7),\n",
       " (('Windibank', 'Holmes'), 6),\n",
       " (('Lestrade', 'Holmes'), 6),\n",
       " (('Doctor', 'Holmes'), 6)]"
      ]
     },
     "execution_count": 15,
     "metadata": {},
     "output_type": "execute_result"
    }
   ],
   "source": [
    "import itertools\n",
    "from collections import defaultdict\n",
    "\n",
    "# we want to create a dictionary with edges and counts (with default of 0)\n",
    "edgesDictionary = defaultdict(int)\n",
    "\n",
    "# we go through each set of people\n",
    "for people in multi_people:\n",
    "    \n",
    "    # go through each combination of people: A, B, C => A,B, A,C, B,C\n",
    "    for (a,b) in itertools.combinations(people, 2):\n",
    "        \n",
    "        # increment this combination\n",
    "        edgesDictionary[(a,b)]+=1\n",
    "\n",
    "# now count the frequencies\n",
    "edgesFreqs = nltk.FreqDist(edgesDictionary)\n",
    "\n",
    "# and have a peek\n",
    "edgesFreqs.most_common(5)\n"
   ]
  },
  {
   "cell_type": "markdown",
   "metadata": {},
   "source": [
    "It's reassuring to see that Holmes and Watson have the most co-occurrences (within subsequent paragraphs). Of course we also see another example of the limitations of this approach: \"Doctor\" (in the fourth line) probably refers most often to \"Doctor Watson\" and so the two could conceivably be collapsed.\n",
    "\n",
    "### 5. Graph the links to show a network of character names\n",
    "\n",
    "Now that we have relationships and counts, we can graph the results. The code below provides only superficial explanations of graphing with the [NetworkX module](https://networkx.github.io/), but much more detailed descriptions are available from the [Getting Graphical](http://nbviewer.ipython.org/github/sgsinclair/alta/blob/master/ipynb/GettingGraphical.ipynb) and [Topic Modelling](http://nbviewer.ipython.org/github/sgsinclair/alta/blob/master/ipynb/TopicModelling.ipynb) notebooks."
   ]
  },
  {
   "cell_type": "code",
   "execution_count": 16,
   "metadata": {},
   "outputs": [
    {
     "data": {
      "image/png": "[encoded data removed]",
      "text/plain": [
       "<matplotlib.figure.Figure at 0x10f822470>"
      ]
     },
     "metadata": {},
     "output_type": "display_data"
    }
   ],
   "source": [
    "import networkx as nx # a network graph module\n",
    "import matplotlib.pyplot as plt # a general graphing module\n",
    "\n",
    "# create a new 10x10 network graph\n",
    "G = nx.Graph()\n",
    "plt.figure(figsize=(10,10))\n",
    "\n",
    "# create graph edges (node pairs) and keep track of edges for each count \n",
    "edges = defaultdict(list)\n",
    "for names, count in edgesFreqs.most_common():\n",
    "    \n",
    "    # only include repeating pairs\n",
    "    if count > 1:\n",
    "        \n",
    "        # isolate each person in the pair and create an edge\n",
    "        G.add_edge(names[0], names[1], width=count)\n",
    "        edges[count].append((names[0], names[1]))\n",
    "\n",
    "# determine the position of nodes using a force directed spring algorithm\n",
    "pos = nx.spring_layout(G, k=.9)\n",
    "\n",
    "# draw labels (nx.draw(G) doesn't really work)\n",
    "nx.draw_networkx_labels(G, pos)\n",
    "\n",
    "# draw edges with different widths indicating the frequency\n",
    "for count, edgelist in edges.items():\n",
    "    g = G.subgraph(pos)\n",
    "    nx.draw_networkx_edges(g, pos, edgelist=edgelist, width=count, alpha=0.05)\n",
    "\n",
    "# wrap it up!\n",
    "plt.axis('off')\n",
    "plt.show()"
   ]
  },
  {
   "cell_type": "markdown",
   "metadata": {},
   "source": [
    "Tada! This graph may not reveal any deep cosmic mysteries, but it does places Holmes and Watson at the centre and establishes several other associations that might warrant further exploration. Let's reiterate that this was a quick and dirty experiment to try to automatically identify character names and to represent the network of character names that occur in promimity, but as we've seen throughout, there are important limitations to this approach and choices to be made. Still, we've used iPython to demonstrate that with some relatively modest code, we're able to begin exploring some literary analysis questions while narrating the process. For a somewhat less contrived example, see Matthew Wilken's [Literary Attention Lag blog post](http://mattwilkens.com/2015/01/13/literary-attention-lag/) and acccompanying iPython Notebook."
   ]
  },
  {
   "cell_type": "markdown",
   "metadata": {},
   "source": [
    "## Conclusion\n",
    "\n"
   ]
  },
  {
   "cell_type": "markdown",
   "metadata": {},
   "source": [
    "If you want to have a bookself, you can get a pre-assembled one, you can get a kit of parts and assemble it, or you can get materials and tools and build one yourself. Much will depend on your needs, your time and your competencies. Programming is a bit like building your own furniture: in some ways it can be messier and more work, but if you have very specific needs (unusual dimensions, particular materials, etc.), it may be the best solution (it can also be very rewarding).\n",
    "\n",
    "If you're thinking about programming for literary analysis, Python is worth considering: it's a high-level language designed for rapid development and for readability. With iPython (Jupyter) Notebooks, it also supports a literate programming model that combines prosaic expression and code. Because of these aspects, as well as the potential for web-based sharing and adaptation, iPython Notebooks are valuable tools in the toolkit of the digital humanist."
   ]
  },
  {
   "cell_type": "markdown",
   "metadata": {},
   "source": [
    "## Further Resources\n",
    "\n",
    "If we've succeeded in conveying some of the potential of Python and Jupyter Notebooks, you may be looking for some further resources. Here are some starting points:\n",
    "\n",
    "* Our iPython guide [The Art of Literary Text Analysis](http://nbviewer.jupyter.org/github/sgsinclair/alta/blob/master/ipynb/ArtOfLiteraryTextAnalysis.ipynb), with instructions on [setting up Jupyter Notebooks](http://nbviewer.jupyter.org/github/sgsinclair/alta/blob/master/ipynb/GettingSetup.ipynb) and practical guides for working with literary texts.\n",
    "* Additional Python-centric guides that are well-suited to the digital humanities include [Python for the Humanities](http://fbkarsdorp.github.io/python-course/), [Text Analysis with Topic Models for the Humanities and Social Sciences](https://de.dariah.eu/tatom-intro), and [The Programming Historian](http://programminghistorian.org/)\n",
    "* In the spirit of equal importance of code and text, you may want to get to know Markdown, the syntax used for text blocks; here is a cheatsheet we find useful https://github.com/adam-p/markdown-here/wiki/Markdown-Cheatsheet.\n",
    "* You may want to bookmark the [Python 3 documentation](https://docs.python.org/3/contents.html). \n",
    "* The [Python web site](http://www.python.org) has useful materials for beginners including a [section for beginners](https://wiki.python.org/moin/BeginnersGuide/NonProgrammers).\n",
    "* If you are new to programming, [How to Think Like a Computer Scientist](http://openbookproject.net/thinkcs/python/english3e/index.html) is a good introduction to programming and data structures through Python.\n",
    "* For ideas on natural language processing you might want to look at Bird, S., et al. (2009). Natural Language Processing with Python, O'Reilly."
   ]
  }
 ],
 "metadata": {
  "kernelspec": {
   "display_name": "Python 3",
   "language": "python",
   "name": "python3"
  },
  "language_info": {
   "codemirror_mode": {
    "name": "ipython",
    "version": 3
   },
   "file_extension": ".py",
   "mimetype": "text/x-python",
   "name": "python",
   "nbconvert_exporter": "python",
   "pygments_lexer": "ipython3",
   "version": "3.6.3"
  }
 },
 "nbformat": 4,
 "nbformat_minor": 1
}
