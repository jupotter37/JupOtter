{
 "cells": [
  {
   "cell_type": "markdown",
   "metadata": {},
   "source": [
    "# Python Basic Tutorial and Spinup\n",
    "### For IS-296 Introduction to Python \n",
    "#### By Dr. Matthew Millar\n",
    "This code is designed to give a crash coarse into computer sciecne topics and coding practices for beginners to help quickly get spun up on terms and methods in programming.\n",
    "This code is built in Python and can be used for other languages with changes to the specific language."
   ]
  },
  {
   "cell_type": "markdown",
   "metadata": {},
   "source": [
    "# Data types\n",
    "Data types are 5 main data types in Python. We will cover them in this section. "
   ]
  },
  {
   "cell_type": "markdown",
   "metadata": {},
   "source": [
    "####There are 3 of numerical data types in Python\n",
    "**Interger** which is either positive or negative whole number. This does not allow decimals.\n",
    "\n",
    "**Float** is a real number with decimals \n",
    "\n",
    "**Complex Numbers** this is for complex numbers like imaginary numbers.This will have a j or J at the end of the number and will look like **3 +6j**. You will not need this in this course"
   ]
  },
  {
   "cell_type": "code",
   "execution_count": 1,
   "metadata": {},
   "outputs": [
    {
     "name": "stdout",
     "output_type": "stream",
     "text": [
      "Interger Value:  10\n",
      "Float value:  10.5\n",
      "My formated float:  10.50\n"
     ]
    }
   ],
   "source": [
    "# To create a varialbe to use in the code the form is\n",
    "# variable_name = value\n",
    "# Integers\n",
    "my_int = 10 \n",
    "\n",
    "# Float\n",
    "my_float = 10.50\n",
    "\n",
    "print(\"Interger Value: \", my_int)\n",
    "print(\"Float value: \", my_float)\n",
    "\n",
    "# to format the number of decimal places behind the float you can use the following code\n",
    "# First convert the float into a string, then chose the percision wanted\n",
    "format_float = \"{:.2f}\".format(my_float)\n",
    "print(\"My formated float: \", format_float)"
   ]
  },
  {
   "cell_type": "markdown",
   "metadata": {},
   "source": [
    "# Sequence Types\n",
    "Sequence types in Python are ordered collection of data which can be either similar or different types.\n",
    "Strings, List, and Typles are the main sequence types used in Python.\n",
    "This code will focus on Strings and List as they are the most commonly used in this course. "
   ]
  },
  {
   "cell_type": "code",
   "execution_count": 2,
   "metadata": {},
   "outputs": [
    {
     "name": "stdout",
     "output_type": "stream",
     "text": [
      "Welcome to IS-296 Introduction to Python\n",
      "This course is about Python and learning to code\n"
     ]
    }
   ],
   "source": [
    "#Strings\n",
    "# To create a String you would do the following form\n",
    "# variable_name = \"value\"\n",
    "# Note the values must be between \"\" to make it a string\n",
    "my_string = \"Welcome to IS-296 Introduction to Python\"\n",
    "my_string2 = \"This course is about Python and learning to code\"\n",
    "# Printing both tring out to the terminal or consol \n",
    "print(my_string)\n",
    "print(my_string2)"
   ]
  },
  {
   "cell_type": "code",
   "execution_count": 3,
   "metadata": {},
   "outputs": [
    {
     "name": "stdout",
     "output_type": "stream",
     "text": [
      "[]\n",
      "[1, 2, 3, 4, 5]\n",
      "1\n",
      "4\n",
      "Valuse of x:  5\n",
      "Length of my list 5\n"
     ]
    }
   ],
   "source": [
    "# List\n",
    "# variable_name = []\n",
    "# Please not that list index starts at 0 not 1 in Python\n",
    "# [0,1,2,3,4,5,6,7,8,9,10,11,n]\n",
    "# A trick in python using -1 will refer to the last index in the list\n",
    "\n",
    "my_list = [] # This is a empty list\n",
    "print(my_list)\n",
    "\n",
    "# Lets enter some information\n",
    "my_list = [1,2,3,4,5] # This is not creating a new varialbe just assigning a values to items in the list\n",
    "print(my_list)\n",
    "\n",
    "# We can access certain elements (numbers) in the list using the index\n",
    "print(my_list[0])\n",
    "print(my_list[3])\n",
    "x = my_list[4]\n",
    "print(\"Valuse of x: \", x)\n",
    "# NOTE you have only 0-4 indexes in this as the length of the list is 5\n",
    "print(\"Length of my list\", len(my_list))\n",
    "# As you can see values of x is the last index which is 4, but returns the values of 5"
   ]
  },
  {
   "cell_type": "markdown",
   "metadata": {},
   "source": [
    "# Booleans\n",
    "Booleans are the true and flase values of all programming languages. These are very good for controlling loops and execution control in any programs. "
   ]
  },
  {
   "cell_type": "code",
   "execution_count": 4,
   "metadata": {},
   "outputs": [
    {
     "name": "stdout",
     "output_type": "stream",
     "text": [
      "True\n",
      "False\n",
      "Still  True\n",
      "Still  True\n",
      "Still  True\n",
      "Still  True\n",
      "Still  True\n",
      "finished loop becuase my_bool=  False\n"
     ]
    }
   ],
   "source": [
    "# Boolean data types take this forms\n",
    "# variable_name = True\n",
    "# variable_name = False\n",
    "my_bool = True\n",
    "print(my_bool)\n",
    "my_bool = False\n",
    "print(my_bool)\n",
    "my_bool = True\n",
    "\n",
    "# lets see it in action in a while loop\n",
    "my_counter = 5\n",
    "while my_bool:\n",
    "    if(my_counter > 0):\n",
    "        print(\"Still \", my_bool)\n",
    "        my_counter = my_counter - 1\n",
    "    else:\n",
    "        my_bool = False\n",
    "print(\"finished loop becuase my_bool= \", my_bool)\n",
    "    "
   ]
  },
  {
   "cell_type": "markdown",
   "metadata": {},
   "source": [
    "# Set\n",
    "Sets are unordered collection o data that can be itterated through.Sets can hold different types of data in there so you can mix and match which makes them useful."
   ]
  },
  {
   "cell_type": "code",
   "execution_count": 5,
   "metadata": {},
   "outputs": [
    {
     "name": "stdout",
     "output_type": "stream",
     "text": [
      "()\n",
      "[1, 'Dog', 5, 'Python', 'Learn', 255]\n",
      "Dog\n",
      "255\n",
      "In for Loop:  1\n",
      "In for Loop:  Dog\n",
      "In for Loop:  5\n",
      "In for Loop:  Python\n",
      "In for Loop:  Learn\n",
      "In for Loop:  255\n",
      "True\n"
     ]
    }
   ],
   "source": [
    "# Sets take the form of\n",
    "# variable_name = ()\n",
    "\n",
    "my_set = ()\n",
    "# Print a black set\n",
    "print(my_set)\n",
    "my_set = ([1, \"Dog\", 5, \"Python\", \"Learn\", 255])\n",
    "print(my_set)\n",
    "\n",
    "# To access elements in a set you can use this\n",
    "print(my_set[1])\n",
    "print(my_set[5])\n",
    "\n",
    "# Loop through each itmes in a set you can do the follwoing \n",
    "for item in my_set:\n",
    "    print(\"In for Loop: \", item)\n",
    "    \n",
    "# To check if a value is in a set you can use this\n",
    "print(\"Dog\" in my_set)"
   ]
  },
  {
   "cell_type": "markdown",
   "metadata": {},
   "source": [
    "# Dictionary\n",
    "Are unordered collections of values and data types with a key:value pairs. "
   ]
  },
  {
   "cell_type": "code",
   "execution_count": 6,
   "metadata": {},
   "outputs": [
    {
     "name": "stdout",
     "output_type": "stream",
     "text": [
      "Empty Dictionary:  {}\n",
      "{1: 'Python', 2: 'Java', 3: 'C++'}\n",
      "Python\n",
      "Java\n"
     ]
    }
   ],
   "source": [
    "# Dictionary form is\n",
    "# variable_name = {} \n",
    "my_dict = {}\n",
    "print(\"Empty Dictionary: \", my_dict)\n",
    "# adding in values\n",
    "my_dict = {1:\"Python\", 2:\"Java\", 3:\"C++\"}\n",
    "print(my_dict)\n",
    "\n",
    "# To access elements in a dictionary \n",
    "# using key\n",
    "print(my_dict[1])\n",
    "# Using get method\n",
    "print(my_dict.get(2))\n"
   ]
  },
  {
   "cell_type": "code",
   "execution_count": null,
   "metadata": {},
   "outputs": [],
   "source": []
  }
 ],
 "metadata": {
  "kernelspec": {
   "display_name": "Python 3",
   "language": "python",
   "name": "python3"
  },
  "language_info": {
   "codemirror_mode": {
    "name": "ipython",
    "version": 3
   },
   "file_extension": ".py",
   "mimetype": "text/x-python",
   "name": "python",
   "nbconvert_exporter": "python",
   "pygments_lexer": "ipython3",
   "version": "3.7.1"
  }
 },
 "nbformat": 4,
 "nbformat_minor": 2
}
