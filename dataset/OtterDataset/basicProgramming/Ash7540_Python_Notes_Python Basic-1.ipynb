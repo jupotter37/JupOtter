{
 "cells": [
  {
   "cell_type": "markdown",
   "id": "773aa1ec",
   "metadata": {},
   "source": [
    "# **Python Basic-1** "
   ]
  },
  {
   "cell_type": "markdown",
   "id": "9a6732a1",
   "metadata": {},
   "source": [
    "Q1. What is Python?\n",
    "\n",
    "\n",
    "Python is a high-level language, which means that it is easy to read and write, even for beginners. It is also a dynamic language, which means that it does not require strict type declarations. It was created by Guido van Rossum and was released in 1991.\n",
    "Python is an interpreted(means that code is excetued line by line), object-oriented, high-level programming language with dynamic semantics."
   ]
  },
  {
   "cell_type": "markdown",
   "id": "d91e4c07",
   "metadata": {},
   "source": [
    "Q2. Why Python?\n",
    "\n",
    "* Ease of use: Python is a relatively easy language to learn and use, even for beginners. It has a simple syntax that is similar to natural language, making it easy to read and write Python code.\n",
    "* Versatility: Python is a general-purpose language that can be used for a wide variety of tasks, including web development, software development, data science, machine learning, automation, and scripting.\n",
    "* Large community: Python has a large and active community of users and developers. This means that there are many resources available to help you learn and use Python, and that you can easily find help if you get stuck.\n",
    "* Free and open-source: Python is free and open-source software, which means that you can use and modify it without any restrictions. This also means that there are many libraries and frameworks available for Python, which can extend its functionality and make it easier to develop complex applications."
   ]
  },
  {
   "attachments": {},
   "cell_type": "markdown",
   "id": "cd19ce64",
   "metadata": {},
   "source": [
    "Q3. Features of Python:\n",
    "\n",
    "* Can Be operated in Multiple Operators like windows, Linux, Mac.\n",
    "* Less Coding\n",
    "* Simple Syntax\n",
    "* Dynamically Typed\n",
    "* Has A Vast Library hat provides a wide range of modules and functions for various purposes"
   ]
  },
  {
   "cell_type": "markdown",
   "id": "9b77d150",
   "metadata": {},
   "source": [
    "Q4. Where is Python used?\n",
    "\n",
    "* Web development: Python frameworks such as Django and Flask make it easy to develop web applications.\n",
    "* Software development: Python can be used to develop desktop applications, mobile applications, and command-line tools.\n",
    "* Data science: Python libraries such as NumPy, Pandas, and SciPy make it easy to analyze and visualize data.\n",
    "* Machine learning: Python libraries such as TensorFlow and PyTorch make it easy to develop and train machine learning models.\n",
    "* Automation: Python can be used to automate a wide variety of tasks, such as system administration, data processing, and software testing.\n",
    "* Scripting: Python can be used to write scripts to perform repetitive tasks or to automate complex workflows."
   ]
  },
  {
   "cell_type": "markdown",
   "id": "3c734b7e",
   "metadata": {},
   "source": [
    "Q5. Which Company uses Python?\n",
    "\n",
    "* Google\n",
    "* Intel\n",
    "* NASA\n",
    "* PayPal\n",
    "* Meta\n",
    "* Amazon and so on"
   ]
  },
  {
   "cell_type": "markdown",
   "id": "c8cc6138",
   "metadata": {},
   "source": [
    "Q6. What is an Interpreted language?\n",
    "\n",
    "An Interpreted language executes its statements line by line. Languages such as Python, Javascript, R, PHP, and Ruby are prime examples of Interpreted languages. Programs written in an interpreted language runs directly from the source code, with no intermediary compilation step."
   ]
  },
  {
   "cell_type": "markdown",
   "id": "bb4aa489",
   "metadata": {},
   "source": [
    "Q7. How to Print anything in Python?\n",
    "\n",
    "print(\"Hello World!\")"
   ]
  },
  {
   "cell_type": "code",
   "execution_count": 1,
   "id": "45d1fdba",
   "metadata": {},
   "outputs": [
    {
     "name": "stdout",
     "output_type": "stream",
     "text": [
      "Hello World!\n"
     ]
    }
   ],
   "source": [
    "print(\"Hello World!\")"
   ]
  },
  {
   "cell_type": "code",
   "execution_count": 2,
   "id": "366a6361",
   "metadata": {},
   "outputs": [
    {
     "name": "stdout",
     "output_type": "stream",
     "text": [
      "2\n"
     ]
    }
   ],
   "source": [
    "print(2)"
   ]
  },
  {
   "cell_type": "code",
   "execution_count": 3,
   "id": "4682d951",
   "metadata": {},
   "outputs": [
    {
     "name": "stdout",
     "output_type": "stream",
     "text": [
      "11\n"
     ]
    }
   ],
   "source": [
    "print(5+6)"
   ]
  },
  {
   "cell_type": "code",
   "execution_count": 4,
   "id": "5d939028",
   "metadata": {},
   "outputs": [
    {
     "name": "stdout",
     "output_type": "stream",
     "text": [
      "False\n"
     ]
    }
   ],
   "source": [
    "print(6>8)"
   ]
  },
  {
   "cell_type": "code",
   "execution_count": 5,
   "id": "481641e9",
   "metadata": {},
   "outputs": [
    {
     "name": "stdout",
     "output_type": "stream",
     "text": [
      "0\n"
     ]
    }
   ],
   "source": [
    "print(4%4)"
   ]
  },
  {
   "cell_type": "markdown",
   "id": "7232d7c9",
   "metadata": {},
   "source": [
    "Q8. Is Indentation Required in Python?\n",
    "\n",
    "Yes, indentation is required in Python. A Python interpreter can be informed that a group of statements belongs to a specific block of code by using Python indentation. Indentations make the code easy to read for developers in all programming languages but in Python, it is very important to indent the code in a specific order."
   ]
  },
  {
   "cell_type": "markdown",
   "id": "37b623d0",
   "metadata": {},
   "source": [
    "Q9. What are Comments?\n",
    "\n",
    "\n",
    "Comments in Python are lines of code that are ignored by the Python interpreter. They are used to make code more readable and to document what the code does.\n",
    "\n",
    "There are two types of comments in Python:\n",
    "\n",
    "Single-line comments: Single-line comments start with a hash (#) symbol and extend to the end of the line.\n",
    "Multi-line comments: Multi-line comments start with three single quotes (''') and end with three single quotes (''').\n",
    "Here are some examples of comments in Python:"
   ]
  },
  {
   "cell_type": "code",
   "execution_count": 7,
   "id": "c081572c",
   "metadata": {},
   "outputs": [],
   "source": [
    "# This is a single-line comment.\n",
    "\n",
    "'''\n",
    "This is a multi-line comment.\n",
    "It can span multiple lines.\n",
    "'''\n",
    "\n",
    "# Comments can be used to explain what the code does:\n",
    "\n",
    "def add_numbers(a, b):\n",
    "  \"\"\"Returns the sum of two numbers.\"\"\"\n",
    "  return a + b\n",
    "\n",
    "# Comments can also be used to disable code:\n",
    "\n",
    "# This code will not be executed because it is commented out.\n",
    "# print(\"Hello, world!\")"
   ]
  },
  {
   "cell_type": "markdown",
   "id": "5d35d477",
   "metadata": {},
   "source": [
    "***Installing Python***\n",
    "\n",
    "https://www.python.org/downloads/"
   ]
  },
  {
   "cell_type": "markdown",
   "id": "83fef579",
   "metadata": {},
   "source": [
    "**Note**: Always Go with the latest version of Python."
   ]
  },
  {
   "cell_type": "markdown",
   "id": "957175b8",
   "metadata": {},
   "source": [
    "Q10. Variables?\n",
    "\n",
    "Variables are containers for storing data values.\n",
    "For Examples: a=5\n",
    "a=10\n",
    "\n",
    "Declaring Vairables:\n",
    "\n",
    "To declare a variable in Python, simply assign a value to it. There is no need to explicitly declare the variable's type. The type of the variable will be inferred from the value that is assigned to it.\n",
    "\n",
    "For example, to declare a variable named name and assign it the string value \"Bard\", you would simply write:"
   ]
  },
  {
   "cell_type": "code",
   "execution_count": 8,
   "id": "d4a1fcbe",
   "metadata": {},
   "outputs": [],
   "source": [
    "name = \"Ash\""
   ]
  },
  {
   "cell_type": "code",
   "execution_count": 9,
   "id": "fa12c70c",
   "metadata": {},
   "outputs": [
    {
     "name": "stdout",
     "output_type": "stream",
     "text": [
      "Ash\n"
     ]
    }
   ],
   "source": [
    "print(name)"
   ]
  },
  {
   "cell_type": "markdown",
   "id": "17dc3ca9",
   "metadata": {},
   "source": [
    "Q11. Variables Naming?\n",
    "\n",
    "When naming variables in Python, it is important to follow some basic conventions. This will make your code more readable and easier to maintain.\n",
    "\n",
    "Here are some tips for naming variables in Python:\n",
    "\n",
    "* **Use descriptive variable names.** The name of a variable should describe what it stores. For example, instead of using the variable name `x`, use a more descriptive name such as `customer_name` or `total_price`.\n",
    "* **Use lowercase letters.** Variable names should be written in lowercase letters, with the exception of acronyms. For example, the variable name `customerName` is not acceptable. Instead, use the variable name `customer_name`.\n",
    "* **Use underscores to separate words.** If a variable name consists of multiple words, use underscores to separate the words. For example, the variable name `customer_name` is acceptable.\n",
    "* **Avoid using reserved words.** Reserved words are special words that have a specific meaning to the Python interpreter. Do not use reserved words as variable names. For example, the word `class` is a reserved word, so you should not use it as a variable name.\n",
    "\n",
    "Here are some examples of good variable names:\n",
    "\n",
    "* `customer_name`\n",
    "* `total_price`\n",
    "* `product_id`\n",
    "* `order_date`\n",
    "* `is_active`\n",
    "\n",
    "Here are some examples of bad variable names:\n",
    "\n",
    "* `x`\n",
    "* `y`\n",
    "* `z`\n",
    "* `customerName`\n",
    "* `class`\n"
   ]
  }
 ],
 "metadata": {
  "kernelspec": {
   "display_name": "Python 3 (ipykernel)",
   "language": "python",
   "name": "python3"
  },
  "language_info": {
   "codemirror_mode": {
    "name": "ipython",
    "version": 3
   },
   "file_extension": ".py",
   "mimetype": "text/x-python",
   "name": "python",
   "nbconvert_exporter": "python",
   "pygments_lexer": "ipython3",
   "version": "3.9.12"
  }
 },
 "nbformat": 4,
 "nbformat_minor": 5
}
