{
 "cells": [
  {
   "cell_type": "markdown",
   "metadata": {},
   "source": [
    "# <font color=darkred>Laboratory 8: AI & Basic Python All Together  </font>"
   ]
  },
  {
   "cell_type": "code",
   "execution_count": null,
   "metadata": {},
   "outputs": [],
   "source": [
    "# Preamble script block to identify host, user, and kernel\n",
    "import sys\n",
    "! hostname\n",
    "! whoami\n",
    "print(sys.executable)\n",
    "print(sys.version)\n",
    "print(sys.version_info)"
   ]
  },
  {
   "cell_type": "markdown",
   "metadata": {},
   "source": [
    "## Full name: \n",
    "## R#: \n",
    "## Title of the notebook:\n",
    "## Date: \n",
    "___"
   ]
  },
  {
   "cell_type": "markdown",
   "metadata": {},
   "source": [
    "### Warning: Relying on AI to Write Python Code\n",
    "\n",
    "While AI tools, such as CoPilot and ChatGPT, can assist in generating Python code and providing coding solutions, it is crucial to be cautious when relying solely on these tools. For this course we expect that all your solution be your own code but you can use AI to see different approaches to the solution. \n",
    "#### Some important considerations:\n",
    "\n",
    "1. **Accuracy:** AI-generated code may contain errors or bugs. Always review and test the code thoroughly to ensure it meets your requirements and functions correctly.\n",
    "\n",
    "2. **Understanding:** Relying too heavily on AI can impede your understanding of the underlying concepts and logic. It is essential to comprehend the code and the principles behind it to write efficient and effective programs.\n",
    "\n",
    "3. **Security:** AI tools may not always consider security best practices. Ensure that your code adheres to security standards and does not introduce vulnerabilities.\n",
    "\n",
    "4. **Customization:** AI-generated code may not be tailored to your specific needs or constraints. Customize and adapt the code as necessary to fit your particular use case.\n",
    "\n",
    "5. **Learning:** Writing code manually and solving problems on your own helps build valuable skills and knowledge. Use AI as a supplement, not a replacement, for learning and problem-solving.\n",
    "\n",
    "#### Below are example of previous exam question and solutions that were flagged"
   ]
  },
  {
   "cell_type": "markdown",
   "metadata": {},
   "source": [
    "---\n",
    "## Example 1\n",
    "### Here we show a previous exam Question and a wrong solution by ChatGPT\n",
    "Define a function that takes input as a string (let’s call it mystring) and an integer  (let’s call it myint) as parameters. The function should move myint character of mystring to the beginning and return the resulting string. \n",
    "\n",
    "For example, if mystring is  “This exam is easy” and myint is 5, then the returned string will be “eThis xam is easy” \n",
    "\n",
    "If myint is larger than the length of mystr, then the function should return mystr unchanged. \n",
    "\n",
    "Call this function in the 2nd cell with your full name as the string input and last digit of your R number as the integer input\n"
   ]
  },
  {
   "cell_type": "code",
   "execution_count": 13,
   "metadata": {},
   "outputs": [
    {
     "name": "stdout",
     "output_type": "stream",
     "text": [
      "Original string: John Doe\n",
      "Modified string: n DoeJoh\n"
     ]
    }
   ],
   "source": [
    "# Wrong Solution by ChatGPT\n",
    "def move_chars_to_front(mystring, myint):\n",
    "    # Check if myint is larger than the length of mystring\n",
    "    if myint > len(mystring):\n",
    "        return mystring\n",
    "    else:\n",
    "        # Move the last myint characters to the front\n",
    "        return mystring[-myint:] + mystring[:-myint]\n",
    "\n",
    "# Example usage with full name and last digit of R number\n",
    "mystring = \"John Doe\"  # Replace this with your full name\n",
    "myint = 5  # Replace this with the last digit of your R number\n",
    "result = move_chars_to_front(mystring, myint)\n",
    "print(f\"Original string: {mystring}\")\n",
    "print(f\"Modified string: {result}\")\n"
   ]
  },
  {
   "cell_type": "markdown",
   "metadata": {},
   "source": [
    "### Explanation by ChatGPT:\n",
    "The function checks if `myint` is greater than the length of `mystring`. If it is, it simply returns the original string.  \n",
    "If `myint` is within bounds, the function slices the last `myint` characters from the string using `mystring[-myint:]` and concatenates them at the front of the string with `mystring[:-myint]` (the rest of the string).  \n",
    "Replace `\"John Doe\"` with your full name and `5` with the last digit of your R number in the example usage.\n",
    "\n",
    "### ChatGPT's Mistake\n",
    "The Question asked we move myint character of mystring to the beginning and **not the the last `myint` characters**. <br>\n",
    "\n",
    "### Correct Solution"
   ]
  },
  {
   "cell_type": "code",
   "execution_count": 15,
   "metadata": {},
   "outputs": [],
   "source": [
    "#Define the function here\n",
    "def swap(mystring, myint):\n",
    "    # First we check if myint is larger than the length of mystring\n",
    "    if myint > len(mystring):\n",
    "        return mystring\n",
    "    else:\n",
    "        # Move the last myint characters to the front\n",
    "        return mystring[myint] + mystring[:myint] +  mystring[myint+1:]"
   ]
  },
  {
   "cell_type": "code",
   "execution_count": 17,
   "metadata": {},
   "outputs": [
    {
     "name": "stdin",
     "output_type": "stream",
     "text": [
      "Please enter your full name :  John Doe\n",
      "Please enter the last digit of your R number :  5\n"
     ]
    },
    {
     "name": "stdout",
     "output_type": "stream",
     "text": [
      "Original string: John Doe\n",
      "Modified string: DJohn oe\n"
     ]
    }
   ],
   "source": [
    "# Call the function here\n",
    "mystring = input('Please enter your full name : ')\n",
    "myint = int(input('Please enter the last digit of your R number : '))\n",
    "result = swap(mystring, myint)\n",
    "print(f\"Original string: {mystring}\")\n",
    "print(f\"Modified string: {result}\")"
   ]
  },
  {
   "cell_type": "markdown",
   "metadata": {},
   "source": [
    "___\n",
    "## Example 2\n",
    "### Here we present a previous exam question, and the solution contains additional information that indicates it was copied. If you fully understand the code, those extra details wouldn't be included.\n",
    "Define a function to calculate the energy required to lift a given weight to a given height.\n",
    "\n",
    "The formula for calculating energy is:\n",
    "\n",
    "E = mgh\n",
    "\n",
    "where m is the mass of the object being lifted in kg, g is the acceleration due to gravity (9.8 m/s^2 on Earth), and h is the height to which the object is lifted in meters.\n",
    "\n",
    "The program should prompt the user to enter the mass and height, and then use a function to calculate the energy required. If the mass entered is less than or equal to 0, the program should display an error message and ask the user to enter the mass again. The program should repeat this process until a valid mass is entered.\n",
    "\n",
    "Once a valid mass is entered, the program should use a for loop to calculate the total energy required to lift the object to each meter of the given height, starting from 0. The program should use conditional statements to determine whether the current height is a multiple of 5, and if so, print the energy required at that height.\n",
    "\n",
    "Try the code in the 2nd cell by entering first 2 digits of your Rnumber as mass and last 2 digits of your Rnumber as height. "
   ]
  },
  {
   "cell_type": "code",
   "execution_count": null,
   "metadata": {},
   "outputs": [],
   "source": [
    "def calculate_energy(mass, height):\n",
    "    g = 9.8  # acceleration due to gravity in m/s^2\n",
    "    return mass * g * height\n",
    "\n",
    "def main():\n",
    "    while True:\n",
    "        try:\n",
    "            mass = float(input(\"Enter the mass in kg (must be greater than 0): \"))\n",
    "            if mass <= 0:\n",
    "                print(\"Error: Mass must be greater than 0. Please try again.\")\n",
    "            else:\n",
    "                break\n",
    "        except ValueError:\n",
    "            print(\"Invalid input. Please enter a valid number.\")\n",
    "\n",
    "    try:\n",
    "        height = int(input(\"Enter the height in meters: \"))\n",
    "    except ValueError:\n",
    "        print(\"Invalid input. Height should be an integer.\")\n",
    "        return\n",
    "\n",
    "    print(f\"\\nCalculating energy for each meter from 0 to {height} meters...\\n\")\n",
    "    \n",
    "    for h in range(1, height + 1):\n",
    "        energy = calculate_energy(mass, h)\n",
    "        if h % 5 == 0:\n",
    "            print(f\"At height {h} meters, the energy required is {energy:.2f} Joules.\")\n",
    "\n",
    "# Example usage with R-number values\n",
    "mass = 12  # Replace with the first 2 digits of your R number\n",
    "height = 34  # Replace with the last 2 digits of your R number\n",
    "\n",
    "# Manually set these values for testing the program\n",
    "print(f\"Test with mass = {mass} kg and height = {height} meters:\\n\")\n",
    "main()\n"
   ]
  },
  {
   "cell_type": "markdown",
   "metadata": {},
   "source": [
    "While this solution is technically correct, the presence of extra text suggests to someone reading your code that you either do not fully understand it or did not take the time to review and clean up the output. This extra text can indicate a lack of attention to detail and may give the impression that you didn't invest effort into ensuring the code and its comments are clear and relevant. To present a polished solution, it's important to remove any unnecessary or redundant information and ensure that comments and explanations are meaningful and directly related to the code.<br>\n",
    "#### Extra Text\n",
    "**Example usage with R-number values**<br>\n",
    "**mass = 12  # Replace with the first 2 digits of your R number**<br>\n",
    "**height = 34  # Replace with the last 2 digits of your R number**\n",
    "___"
   ]
  },
  {
   "cell_type": "markdown",
   "metadata": {},
   "source": [
    "### Example 3\n",
    "#### In this example, we present a previous exam question and a solution provided by ChatGPT. Since ChatGPT used list comprehension, understanding and correcting the code may be more challenging compared to writing your own solution from scratch.\n",
    "Use the input function to provide your full name. Pick 8 characters from your name being at index positions as the 8 digits of your R number and print them with a space between every 2 characters.\n",
    "\n",
    "    Example: \n",
    "    If your name is Ronald Weasley and you R number is 11201385, you will pick characters from index positions 1,1,2,0,1,3,8,5 and the output will be \"o o n R o a e d\".\n"
   ]
  },
  {
   "cell_type": "code",
   "execution_count": 10,
   "metadata": {},
   "outputs": [
    {
     "name": "stdin",
     "output_type": "stream",
     "text": [
      "Enter your full name:  Ronald Weasley\n"
     ]
    },
    {
     "name": "stdout",
     "output_type": "stream",
     "text": [
      "o o o n R R o a a e d d\n"
     ]
    }
   ],
   "source": [
    "def format_name_from_indices(full_name, indices):\n",
    "    # Extract characters from the specified indices\n",
    "    characters = [full_name[int(index)] for index in indices]\n",
    "    # Join characters with a space between every two characters\n",
    "    formatted_output = ' '.join(characters[i] + ((' ' + characters[i+1]) if i % 2 == 0 else '') for i in range(len(characters)))\n",
    "    return formatted_output\n",
    "\n",
    "# Input your full name\n",
    "full_name = input(\"Enter your full name: \")\n",
    "\n",
    "# R number indices (assuming R number is 8 digits long)\n",
    "r_number = \"11201385\"  # Replace this with your actual R number if different\n",
    "indices = [int(digit) for digit in r_number]\n",
    "\n",
    "# Get the formatted name\n",
    "result = format_name_from_indices(full_name, indices)\n",
    "print(result)\n"
   ]
  },
  {
   "cell_type": "markdown",
   "metadata": {},
   "source": [
    "---"
   ]
  },
  {
   "cell_type": "markdown",
   "metadata": {},
   "source": [
    "### Exercise 8.1 (80 marks)\n",
    "1. Write a Python function to calculate the factorial of a number (a non-negative integer). The function accepts the number as an argument."
   ]
  },
  {
   "cell_type": "code",
   "execution_count": null,
   "metadata": {},
   "outputs": [],
   "source": [
    "# Ask the user to input a number to compute its factorial and store it in variable 'n'\n"
   ]
  },
  {
   "cell_type": "markdown",
   "metadata": {},
   "source": [
    "2. Write a Python program to convert degrees to radians."
   ]
  },
  {
   "cell_type": "markdown",
   "metadata": {},
   "source": [
    "![](https://www.w3resource.com/w3r_images/python-math-image-exercise-1.svg)"
   ]
  },
  {
   "cell_type": "code",
   "execution_count": null,
   "metadata": {},
   "outputs": [],
   "source": []
  },
  {
   "cell_type": "markdown",
   "metadata": {},
   "source": [
    "3. Write a Python program to calculate the area of a trapezoid. <br>\n",
    "Note : A trapezoid is a quadrilateral with two sides parallel. The trapezoid is equivalent to the British definition of the trapezium. An isosceles trapezoid is a trapezoid in which the base angles are equal so."
   ]
  },
  {
   "cell_type": "code",
   "execution_count": null,
   "metadata": {},
   "outputs": [],
   "source": []
  },
  {
   "cell_type": "markdown",
   "metadata": {},
   "source": [
    "4. Write a Python program to calculate the surface volume and area of a sphere.\n",
    "Note: A sphere is a perfectly round geometrical object in three-dimensional space that is the surface of a completely round ball."
   ]
  },
  {
   "cell_type": "markdown",
   "metadata": {},
   "source": [
    "![](https://www.w3resource.com/w3r_images/python-volume-sphere-math-exercise-6.png)\n",
    "![](https://www.w3resource.com/w3r_images/python-area-sphere-math-exercise-6.png)"
   ]
  },
  {
   "cell_type": "code",
   "execution_count": null,
   "metadata": {},
   "outputs": [],
   "source": []
  },
  {
   "cell_type": "markdown",
   "metadata": {},
   "source": [
    "5. Write a Python program to calculate the distance between two points using latitude and longitude."
   ]
  },
  {
   "cell_type": "code",
   "execution_count": null,
   "metadata": {},
   "outputs": [],
   "source": []
  },
  {
   "cell_type": "markdown",
   "metadata": {},
   "source": [
    "6. Write a Python program to find the roots of a quadratic function."
   ]
  },
  {
   "cell_type": "code",
   "execution_count": null,
   "metadata": {},
   "outputs": [],
   "source": []
  },
  {
   "cell_type": "markdown",
   "metadata": {},
   "source": [
    "7. Write a program in which a user can guess a secret number. The program has a secret number saved in a variable. The user is repeatedly asked to guess the number, and the program will tell if the number is higher, lower, or equal to the secret number. If they are equal, then the game ends and player wins. If the number of attempts exceeds 10, the player loses and the game ends."
   ]
  },
  {
   "cell_type": "code",
   "execution_count": null,
   "metadata": {},
   "outputs": [],
   "source": []
  },
  {
   "cell_type": "markdown",
   "metadata": {},
   "source": [
    "8. Run the following cell to create a list of random integers (You should provide the inputs as prompted). The use the next 2 cells to write your code. You should create (define) a function \n",
    "that will take one argument, which is supposed to be a list. Then, perform the following tasks within the function:\n",
    "- Count the number of unique elements in the list and print it.\n",
    "- Count how many times each of the unique element appear in the list. \n",
    "\n",
    "    The function should return a dictionary: the keys should be made of the unique elements, and an integer under the keys for the occurances of the unique element in the key. You should use print function with appropriate message to display the functions output.\n"
   ]
  },
  {
   "cell_type": "code",
   "execution_count": null,
   "metadata": {},
   "outputs": [],
   "source": [
    "#just run this cell to generate your list of random integers\n",
    "import numpy as np\n",
    "lo=int(float(input(\"First 2 digits of your R number:\")))\n",
    "hi=int(float(input(\"Last 3 digits of your R number:\")))\n",
    "thelist=list(np.random.randint(lo,hi,100)) \n",
    "print(\"\\n\\n The list you have is: \",thelist)"
   ]
  },
  {
   "cell_type": "code",
   "execution_count": null,
   "metadata": {},
   "outputs": [],
   "source": [
    "## define your function in this cell\n",
    "\n",
    "\n"
   ]
  },
  {
   "cell_type": "code",
   "execution_count": null,
   "metadata": {},
   "outputs": [],
   "source": [
    "## call the function providing thelist as argument, \n",
    "## and print the returns from the function\n",
    "\n"
   ]
  },
  {
   "cell_type": "markdown",
   "metadata": {},
   "source": [
    "---\n",
    "## Lab Exercise 8.2 (20 marks)\n",
    "Ensure you entered your full name and R Number in the top cell<br>\n",
    "Convert to PDF and submit both PDF and IPYNB"
   ]
  },
  {
   "cell_type": "markdown",
   "metadata": {},
   "source": [
    "___\n",
    "![](https://media2.giphy.com/media/5nj4ZZWl6QwneEaBX4/source.gif) <br>\n",
    "\n",
    "\n",
    "*Here are some great reads on this topic:* \n",
    "- __\"Functions in Python\"__ available at *https://www.geeksforgeeks.org/functions-in-python/<br>\n",
    "- __\"Defining Your Own Python Function\"__ by __John Sturtz__ available at *https://realpython.com/defining-your-own-python-function/ <br>\n",
    "- __\"Graph Plotting in Python | Set 1\"__ available at *https://www.geeksforgeeks.org/graph-plotting-in-python-set-1/ <br>\n",
    "- __\"Python Plotting With Matplotlib (Guide)\"__ by __Brad Solomon__ available at *https://realpython.com/python-matplotlib-guide/ <br>\n",
    "\n",
    "*Here are some great videos on these topics:* \n",
    "- __\"How To Use Functions In Python (Python Tutorial #3)\"__ by __CS Dojo__ available at *https://www.youtube.com/watch?v=NSbOtYzIQI0 <br>\n",
    "- __\"Python Tutorial for Beginners 8: Functions\"__ by __Corey Schafer__ available at *https://www.youtube.com/watch?v=9Os0o3wzS_I <br>\n",
    "- __\"Python 3 Programming Tutorial - Functions\"__ by __sentdex__ available at *https://www.youtube.com/watch?v=owglNL1KQf0 <br><br>"
   ]
  },
  {
   "cell_type": "code",
   "execution_count": null,
   "metadata": {},
   "outputs": [],
   "source": []
  }
 ],
 "metadata": {
  "kernelspec": {
   "display_name": "Python 3 (ipykernel)",
   "language": "python",
   "name": "python3"
  },
  "language_info": {
   "codemirror_mode": {
    "name": "ipython",
    "version": 3
   },
   "file_extension": ".py",
   "mimetype": "text/x-python",
   "name": "python",
   "nbconvert_exporter": "python",
   "pygments_lexer": "ipython3",
   "version": "3.11.4"
  }
 },
 "nbformat": 4,
 "nbformat_minor": 4
}
