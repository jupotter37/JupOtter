{
  "cells": [
    {
      "cell_type": "markdown",
      "metadata": {
        "id": "view-in-github",
        "colab_type": "text"
      },
      "source": [
        "<a href=\"https://colab.research.google.com/github/Pradeep24191/AI-ML/blob/main/AI_and_ML_with_Ben_Notebook_1_v4_1.ipynb\" target=\"_parent\"><img src=\"https://colab.research.google.com/assets/colab-badge.svg\" alt=\"Open In Colab\"/></a>"
      ]
    },
    {
      "cell_type": "markdown",
      "metadata": {
        "id": "_0_i0DMMVW9J"
      },
      "source": [
        "## Welcome to the Python Kitchen in Google Colab!\n",
        "\n",
        "\n",
        "\n",
        "\n",
        "# Introduction\n",
        "**Hello and welcome** to your exciting journey into the world of Python, Artificial Intelligence (AI), and Machine Learning (ML), all within the comfortable and powerful environment of Google Colab!\n",
        "\n",
        "Just like embarking on learning a new recipe or cooking style, venturing into Python programming, especially for AI and ML, is an adventure filled with new concepts, techniques, and endless possibilities. In this course, we'll start from the very basics of Python programming and gradually move towards more complex concepts, eventually dipping our toes into the fascinating world of Machine Learning.\n",
        "\n",
        "But fear not! **We will take this journey step by step, ensuring you grasp each concept just like mastering each step of a recipe.** And what better place to do this than in Google Colab, a tool that lets you write and execute Python in your browser. It's like having a state-of-the-art kitchen accessible anywhere, anytime!\n",
        "\n",
        "# What is Programming?\n",
        "**Programming, at its core, is the process of creating a set of instructions that tell a computer how to perform a task.** Programming can be used to solve problems, automate tasks, create interactive games, develop apps, and much more. At the heart of programming is the creation of software, which runs on various devices such as computers, smartphones, tablets, and even appliances.\n",
        "\n",
        "### The Language of Computers\n",
        "**Computers, despite their complexity, fundamentally operate on a simple principle: they process data in binary form (zeros and ones). Programming languages allow us to communicate with computers in a more human-readable form.** These languages range from low-level languages, closer to binary code, to high-level languages like Python, Java, and JavaScript, which are more abstract and easier for humans to understand and write.\n",
        "\n",
        "### Writing Code\n",
        "Writing code involves defining the logic and instructions that the computer will follow. This can be as simple as adding two numbers, or as complex as running the software that powers a self-driving car. Code is written in a 'text editor' or an Integrated Development Environment (IDE), which provides tools and features to help write and manage code.\n",
        "\n",
        "### From Code to Execution\n",
        "When you write code, you're essentially writing down the steps you want the computer to take. For a computer to understand and execute these steps, the code often needs to be translated from a high-level programming language to machine code through a process called compilation or interpretation. This depends on the language and the environment in which the code is being run.\n",
        "\n",
        "### Problem-Solving with Programming\n",
        "Programming is fundamentally about problem-solving. You start with a problem or a task you want to accomplish, break it down into smaller steps or components, and then write code to solve each part. This process often involves a lot of trial and error, testing, and debugging (finding and fixing errors).\n",
        "\n",
        "### Creativity and Logic\n",
        "While programming is a logical and technical skill, it's also a highly creative one. Writing software is often compared to crafting or building — it's about creating something new and functional from your ideas and logic. Programmers must not only understand how to write code but also be able to think creatively about how to solve problems and implement solutions.\n",
        "\n",
        "### Why Learn Programming?\n",
        "Learning to program has numerous benefits. It:\n",
        "\n",
        "- **Enhances Problem-Solving Skills**: Programming teaches you to think logically and approach problems systematically.\n",
        "- **Opens Career Opportunities**: Proficiency in programming opens up a wide range of career paths in software development, data science, AI, web development, and many other fields.\n",
        "- **Empowers You to Create**: Knowing how to code allows you to build your own projects and tools, from simple scripts to automate tasks to full-fledged applications.\n",
        "- **Fosters a Continuous Learning Mindset**: The tech field is always evolving, and programming encourages a mindset of continuous learning and adaptation.\n",
        "\n",
        "### Programming in the Context of AI and ML\n",
        "In Artificial Intelligence (AI) and Machine Learning (ML), programming takes on a pivotal role. It's the means by which we teach computers to learn from data, make decisions, and even mimic human-like intelligence to solve complex problems. Python has emerged as one of the most popular languages for AI and ML due to its simplicity, readability, and the powerful libraries and frameworks it offers for data analysis, visualisation, and machine learning.\n",
        "\n",
        "As we dive deeper into this course, you'll see how programming not only enables us to communicate with computers but also empowers us to harness their capabilities to analyse data, learn from it, and make intelligent decisions.\n",
        "\n",
        "# Computational Thinking\n",
        "Computational thinking involves solving problems, designing systems, and understanding human behavior by drawing on the concepts fundamental to computer science. It includes a set of problem-solving skills that software engineers use to write programs and algorithms.\n",
        "\n",
        "### Example: Building a Recommendation System\n",
        "Imagine you're tasked with developing a recommendation system for a streaming service, similar to those used by Netflix or Spotify. Using computational thinking, you'd break down this complex problem into manageable parts:\n",
        "\n",
        "- **Decomposition**: Break down the large problem into smaller, more manageable problems. For instance, understanding user preferences, categorising content, and matching content to user interests.\n",
        "- **Pattern Recognition**: Identify patterns and trends in user behavior and content attributes. For example, noticing that users who like certain genres tend to rate similar movies or songs higher.\n",
        "- **Abstraction**: Focus on the important information only, ignoring irrelevant details. For instance, focusing on user ratings and genres instead of the entire catalog of content.\n",
        "- **Algorithm Design**: Develop a step-by-step solution for the problem. This could involve creating a system that ranks content based on user preferences and suggests the top matches.\n",
        "\n",
        "# Human-Computer Interaction (HCI)\n",
        "Human-Computer Interaction studies how people interact with computers and to design technologies that let humans interact with computers in novel ways. It's about making software user-friendly and accessible.\n",
        "\n",
        "### Example: Voice Assistants\n",
        "Consider the design of voice assistants like Siri or Google Assistant. HCI principles guide the development of these systems to ensure they understand natural language, accommodate various speech patterns, accents, and dialects, and provide helpful, contextually relevant responses. The goal is to create an interaction that feels natural and intuitive to the user, minimising frustration and maximising efficiency.\n",
        "\n",
        "# Cognitive Ergonomics\n",
        "Cognitive ergonomics, part of human factors engineering, focuses on mental processes, such as perception, memory, reasoning, and motor response, as they affect interactions among humans and other elements of a system. It addresses how systems are designed to facilitate the user's cognitive processes.\n",
        "\n",
        "### Example: Dashboard Design for Self-Driving Cars\n",
        "Imagine designing a dashboard for a self-driving car. Cognitive ergonomics would influence how information (like speed, navigation, and system status) is presented to minimise driver distraction and cognitive load. Information should be easy to find and understand at a glance, with important alerts designed to catch the driver's attention without causing panic or confusion.\n",
        "\n",
        "## What is a Jupyter Notebook?\n",
        "\n",
        "Jupyter Notebooks are an open document format based on JSON that allows you to create and share documents that contain live code, equations, visualisations, and narrative text. It's an invaluable tool for data cleaning and transformation, numerical simulation, statistical modeling, data visualisation, machine learning, and much more.\n",
        "\n",
        "### Key Features of Jupyter Notebooks:\n",
        "- **Interactive Coding**: Jupyter Notebooks provide an interactive environment where code is executed in blocks or \"cells,\" allowing for testing and debugging in real-time.\n",
        "- **Support for Multiple Languages**: While Jupyter stands for Julia, Python, and R, Jupyter Notebooks support over 40 programming languages, including Python, R, Julia, and Scala.\n",
        "- **Data Visualisation**: With integration capabilities with libraries like Matplotlib, Plotly, and Bokeh, Jupyter Notebooks offer powerful tools for data visualisation, making it easier to analyse data and communicate results.\n",
        "- **Integration with Big Data**: Jupyter Notebooks can be connected to big data processing tools like Apache Spark, allowing for analysis of large datasets.\n",
        "- **Markdown Support**: Notebooks support Markdown, which allows you to include formatted text, images, links, and other media, making your documents more informative and engaging.\n",
        "- **Export Options**: Jupyter Notebooks can be exported in multiple formats, including HTML, PDF, and slideshows, facilitating easy sharing and presentation of your work.\n",
        "\n",
        "### Why Use Jupyter Notebooks?\n",
        "Jupyter Notebooks are widely used by data scientists, researchers, and educators to perform exploratory data analysis, prototype code, and teach coding and data science concepts. The ability to combine executable code with rich text and visualisations in a single document makes Jupyter Notebooks an ideal choice for tutorials, labs, and research papers.\n",
        "\n",
        "### Getting Started with Jupyter Notebooks\n",
        "To begin using Jupyter Notebooks, you can install Jupyter via Python's package manager pip, or use containerized solutions like Docker, or cloud-based services such as Google Colab that provide Jupyter Notebooks in a pre-configured environment.\n",
        "\n",
        "Jupyter Notebooks offer a flexible, powerful, and interactive way to work with data and code, making it a staple in the toolkits of those working in data-driven fields.\n",
        "\n",
        "\n",
        "### What is Google Colab?\n",
        "Google Colab is an exceptional cloud-based service that provides an environment for Python programming. It's akin to the Jupyter Notebook but boasts additional benefits, particularly appealing for machine learning, data analysis, and educational purposes. **One of the key features of Google Colab is its provision of free access to high-end computing resources like GPUs (Graphics Processing Units) and TPUs (Tensor Processing Units)**. These resources are typically expensive and not readily accessible but are essential for handling the demanding computational needs of AI and ML projects. Google Colab democratises access to these resources, making advanced computing capabilities available to a broader audience. This accessibility is crucial in leveling the playing field, allowing students and researchers to undertake complex data processing and computations that were previously limited to well-funded laboratories or institutions.\n",
        "\n",
        "### Why Python?\n",
        "Python's prominence in various fields, ranging from web development to data science, can be attributed to its versatility, simplicity, and readability. These attributes make Python an excellent choice for beginners, as it allows for a smoother learning curve compared to other programming languages. The simplicity of Python does not come at the expense of its capability; it is a powerful language capable of handling complex tasks efficiently.\n",
        "\n",
        "In the context of AI and ML, Python stands out due to its comprehensive ecosystem of libraries and frameworks. Libraries like NumPy, Pandas, TensorFlow, and Scikit-learn provide pre-written code that simplifies complex tasks, such as data manipulation, statistical analysis, and machine learning model development. This extensive support accelerates the development process and allows practitioners to focus more on problem-solving and less on the intricacies of programming."
      ]
    },
    {
      "cell_type": "markdown",
      "metadata": {
        "id": "_l9bmHF-VW9K"
      },
      "source": [
        "# Touring the Colab Kitchen\n",
        "\n",
        "Welcome to the second part of our journey! In this section, we'll explore the features and functionalities of Google Colab. Think of Google Colab as your virtual kitchen, where you have all the tools you need to cook up some amazing Python projects.\n",
        "\n",
        "Google Colab is essentially a cloud-based version of Jupyter Notebook. It allows you to write and execute Python code, add text and images, and much more. The best part? You don't need to install anything on your computer, and you get access to powerful computing resources!\n",
        "\n",
        "Let's start by familiarising ourselves with the Colab interface.\n"
      ]
    },
    {
      "cell_type": "markdown",
      "metadata": {
        "id": "2xoFxaqSVW9K"
      },
      "source": [
        "## Google Colab Features\n",
        "\n",
        "- **Text and Code Cells**: Colab notebooks consist of cells. A cell can be a text cell (like this one) or a code cell (where you write Python code).\n",
        "- **Running Code**: To run a code cell, click on it and press the play button on the left or use `Shift + Enter`.\n",
        "- **Saving Work**: Your notebooks are automatically saved to your Google Drive.\n",
        "- **Sharing Notebooks**: You can easily share your Colab notebooks with others.\n",
        "\n",
        "Let's test your understanding with a few simple questions. Don't worry, you'll get immediate feedback!\n"
      ]
    },
    {
      "cell_type": "code",
      "execution_count": 1,
      "metadata": {
        "colab": {
          "base_uri": "https://localhost:8080/",
          "height": 269
        },
        "cellView": "form",
        "id": "NOwtznvfVW9K",
        "outputId": "0025e999-9dcf-4c1c-b306-f4b57aaa8ee7"
      },
      "outputs": [
        {
          "output_type": "execute_result",
          "data": {
            "text/plain": [
              "<IPython.core.display.HTML object>"
            ],
            "text/html": [
              "\n",
              "<div id=\"quiz-container\">\n",
              "    <p><b>Quiz: Understanding Google Colab</b></p>\n",
              "    <div id=\"question1\">\n",
              "        <p>1. How do you run a code cell in Google Colab? (Your choices are 'any button' or 'shift + enter')</p>\n",
              "        <input type=\"text\" id=\"answer1\" placeholder=\"Type your answer here\">\n",
              "        <button onclick=\"checkAnswer('answer1', 'shift + enter', 'feedback1')\">Submit</button>\n",
              "        <p id=\"feedback1\"></p>\n",
              "    </div>\n",
              "    <div id=\"question2\">\n",
              "        <p>2. Are your Colab notebooks automatically saved to Google Drive? (Your choices are 'yes' or 'no')</p>\n",
              "        <input type=\"text\" id=\"answer2\" placeholder=\"Type yes or no\">\n",
              "        <button onclick=\"checkAnswer('answer2', 'yes', 'feedback2')\">Submit</button>\n",
              "        <p id=\"feedback2\"></p>\n",
              "    </div>\n",
              "    <div id=\"question3\">\n",
              "        <p>3. Can you share your Colab notebooks with others? (Your choices are 'yes' or 'no')</p>\n",
              "        <input type=\"text\" id=\"answer3\" placeholder=\"Type yes or no\">\n",
              "        <button onclick=\"checkAnswer('answer3', 'yes', 'feedback3')\">Submit</button>\n",
              "        <p id=\"feedback3\"></p>\n",
              "    </div>\n",
              "</div>\n",
              "\n",
              "<script type=\"text/javascript\">\n",
              "    function checkAnswer(answerId, correctAnswer, feedbackId) {\n",
              "        var userAnswer = document.getElementById(answerId).value.trim().toLowerCase();\n",
              "        var feedback = document.getElementById(feedbackId);\n",
              "        if (userAnswer === correctAnswer) {\n",
              "            feedback.innerHTML = \"Correct! 🎉\";\n",
              "            feedback.style.color = \"green\";\n",
              "        } else {\n",
              "            feedback.innerHTML = \"Oops! That's not right. Try again.\";\n",
              "            feedback.style.color = \"red\";\n",
              "        }\n",
              "    }\n",
              "</script>\n"
            ]
          },
          "metadata": {},
          "execution_count": 1
        }
      ],
      "source": [
        "# @title Quiz 1: Run the Code Block without expanding it\n",
        "from IPython.display import HTML\n",
        "\n",
        "HTML(\"\"\"\n",
        "<div id=\"quiz-container\">\n",
        "    <p><b>Quiz: Understanding Google Colab</b></p>\n",
        "    <div id=\"question1\">\n",
        "        <p>1. How do you run a code cell in Google Colab? (Your choices are 'any button' or 'shift + enter')</p>\n",
        "        <input type=\"text\" id=\"answer1\" placeholder=\"Type your answer here\">\n",
        "        <button onclick=\"checkAnswer('answer1', 'shift + enter', 'feedback1')\">Submit</button>\n",
        "        <p id=\"feedback1\"></p>\n",
        "    </div>\n",
        "    <div id=\"question2\">\n",
        "        <p>2. Are your Colab notebooks automatically saved to Google Drive? (Your choices are 'yes' or 'no')</p>\n",
        "        <input type=\"text\" id=\"answer2\" placeholder=\"Type yes or no\">\n",
        "        <button onclick=\"checkAnswer('answer2', 'yes', 'feedback2')\">Submit</button>\n",
        "        <p id=\"feedback2\"></p>\n",
        "    </div>\n",
        "    <div id=\"question3\">\n",
        "        <p>3. Can you share your Colab notebooks with others? (Your choices are 'yes' or 'no')</p>\n",
        "        <input type=\"text\" id=\"answer3\" placeholder=\"Type yes or no\">\n",
        "        <button onclick=\"checkAnswer('answer3', 'yes', 'feedback3')\">Submit</button>\n",
        "        <p id=\"feedback3\"></p>\n",
        "    </div>\n",
        "</div>\n",
        "\n",
        "<script type=\"text/javascript\">\n",
        "    function checkAnswer(answerId, correctAnswer, feedbackId) {\n",
        "        var userAnswer = document.getElementById(answerId).value.trim().toLowerCase();\n",
        "        var feedback = document.getElementById(feedbackId);\n",
        "        if (userAnswer === correctAnswer) {\n",
        "            feedback.innerHTML = \"Correct! 🎉\";\n",
        "            feedback.style.color = \"green\";\n",
        "        } else {\n",
        "            feedback.innerHTML = \"Oops! That's not right. Try again.\";\n",
        "            feedback.style.color = \"red\";\n",
        "        }\n",
        "    }\n",
        "</script>\n",
        "\"\"\")\n",
        "\n"
      ]
    },
    {
      "cell_type": "markdown",
      "metadata": {
        "id": "r6bLPkAUVW9L"
      },
      "source": [
        "**Great job** on completing the quiz! You're now more familiar with the basics of Google Colab. As we progress through this course, you'll get to practice and learn more about Colab's various features.\n",
        "\n",
        "Up next, we'll start diving into the Python language and begin our programming journey. Get ready to start coding!\n",
        "\n"
      ]
    },
    {
      "cell_type": "markdown",
      "metadata": {
        "id": "tRKe75PaVW9L"
      },
      "source": [
        "# Basic Ingredients (Python Basics in Colab)\n",
        "\n",
        "## Introduction\n",
        "Welcome to the 'Basic Ingredients' section of our Python kitchen! Just like every dish begins with some fundamental ingredients, learning Python starts with understanding its basic elements: variables, data types, and operators.\n",
        "\n",
        "### The Python Pantry: Variables and Data Types\n",
        "In Python, variables are like containers in your kitchen pantry, each holding a specific type of ingredient. These ingredients can be of various types:\n",
        "- Integers (int): Whole numbers like 3, 300, -200.\n",
        "- Floating Point Numbers (float): Decimal numbers like 3.14, 2.17.\n",
        "- Strings (str): Textual data like \"hello\", \"Python3\".\n",
        "- Booleans (bool): True or False values.\n",
        "\n",
        "### Mixing Ingredients: Basic Operators\n",
        "Operators in Python are like your kitchen tools, used to perform operations on your variables. The basic ones include:\n",
        "- Addition (+)\n",
        "- Subtraction (-)\n",
        "- Multiplication (*)\n",
        "- Division (/)\n",
        "\n",
        "## Exercise: Practice in the Kitchen\n",
        "Time to get your hands dirty! Let's get hands on!\n"
      ]
    },
    {
      "cell_type": "code",
      "execution_count": null,
      "metadata": {
        "id": "c9RvaA_KVW9L",
        "outputId": "2e6d6538-047a-4f37-a4f8-9ef6173e279e",
        "colab": {
          "base_uri": "https://localhost:8080/"
        }
      },
      "outputs": [
        {
          "output_type": "stream",
          "name": "stdout",
          "text": [
            "Total eggs needed: 18\n",
            "Half of the milk volume: 0.25\n"
          ]
        }
      ],
      "source": [
        "# Define variables of different types\n",
        "number_of_eggs = 12  # An integer\n",
        "milk_volume = 0.5    # A float\n",
        "recipe_name = \"Pancake\"  # A string\n",
        "is_oven_preheated = False  # A boolean\n",
        "\n",
        "# Basic operations\n",
        "total_eggs = number_of_eggs + 6\n",
        "half_milk_volume = milk_volume / 2\n",
        "\n",
        "print(\"Total eggs needed:\", total_eggs)\n",
        "print(\"Half of the milk volume:\", half_milk_volume)\n"
      ]
    },
    {
      "cell_type": "markdown",
      "source": [
        "### String Concatenation\n",
        "In Python, you can combine or 'concatenate' strings using the `+` operator. This is useful for creating sentences or combining text in various ways. In the example, `first_word` and `second_word` are two strings that hold \"Hello\" and \"World\", respectively. By using the `+` operator between them (and adding a space for clarity), we create the combined string \"Hello World\", which is then printed out.\n"
      ],
      "metadata": {
        "id": "vlz032jmZaV3"
      }
    },
    {
      "cell_type": "code",
      "source": [
        "# String Concatenation Example\n",
        "\n",
        "# Let's combine two words together\n",
        "first_word = \"Hello\"\n",
        "second_word = \"World\"\n",
        "combined_words = first_word + \" \" + second_word\n",
        "print(combined_words)  # This will print \"Hello World\"\n"
      ],
      "metadata": {
        "colab": {
          "base_uri": "https://localhost:8080/"
        },
        "id": "sZo_b-I5ZZ5g",
        "outputId": "02225d1c-45b1-4d94-8001-f0d9b3661411"
      },
      "execution_count": null,
      "outputs": [
        {
          "output_type": "stream",
          "name": "stdout",
          "text": [
            "Hello World\n"
          ]
        }
      ]
    },
    {
      "cell_type": "markdown",
      "source": [
        "### List Operations\n",
        "Lists in Python are used to store collections of items. In the given example, we start with a list of fruits: `[\"Apple\", \"Banana\", \"Cherry\"]`. We can add items to the list using the `.append()` method, which adds the new item to the end of the list. Here, \"Orange\" is added. To remove an item, we use the `.remove()` method, specifying the item to remove. In this case, \"Banana\" is removed, leaving us with a modified list of fruits.\n"
      ],
      "metadata": {
        "id": "ss9C55PyZa0V"
      }
    },
    {
      "cell_type": "code",
      "source": [
        "# List Operations Example\n",
        "\n",
        "# Creating a list of fruits\n",
        "fruits = [\"Apple\", \"Banana\", \"Cherry\"]\n",
        "print(\"Original list:\", fruits)\n",
        "\n",
        "# Adding a new fruit to the list\n",
        "fruits.append(\"Orange\")\n",
        "print(\"List after adding a new fruit:\", fruits)\n",
        "\n",
        "# Removing a fruit from the list\n",
        "fruits.remove(\"Banana\")\n",
        "print(\"List after removing a fruit:\", fruits)\n"
      ],
      "metadata": {
        "colab": {
          "base_uri": "https://localhost:8080/"
        },
        "id": "k-m5pUVEZZe6",
        "outputId": "c208229c-780c-4fb4-bea4-2345b8a768e0"
      },
      "execution_count": null,
      "outputs": [
        {
          "output_type": "stream",
          "name": "stdout",
          "text": [
            "Original list: ['Apple', 'Banana', 'Cherry']\n",
            "List after adding a new fruit: ['Apple', 'Banana', 'Cherry', 'Orange']\n",
            "List after removing a fruit: ['Apple', 'Cherry', 'Orange']\n"
          ]
        }
      ]
    },
    {
      "cell_type": "markdown",
      "source": [
        "### Using Loops\n",
        "Loops in Python allow us to repeat a block of code multiple times. The `for` loop used here iterates over a sequence of numbers generated by `range(1, 6)`, which produces numbers from 1 to 5. For each number in this sequence, the loop's body (in this case, a `print` statement) is executed, printing numbers 1 through 5, one per line.\n"
      ],
      "metadata": {
        "id": "WrEwHqT5aPAT"
      }
    },
    {
      "cell_type": "code",
      "source": [
        "# Using Loops Example\n",
        "\n",
        "# Printing numbers from 1 to 5 using a for loop\n",
        "for number in range(1, 6):  # range(1, 6) gives us numbers from 1 to 5\n",
        "    print(number)\n"
      ],
      "metadata": {
        "colab": {
          "base_uri": "https://localhost:8080/"
        },
        "id": "X0cC9VVRZpTF",
        "outputId": "e357036a-3cb1-42e9-fdfc-f0f294d18dcb"
      },
      "execution_count": null,
      "outputs": [
        {
          "output_type": "stream",
          "name": "stdout",
          "text": [
            "1\n",
            "2\n",
            "3\n",
            "4\n",
            "5\n"
          ]
        }
      ]
    },
    {
      "cell_type": "markdown",
      "source": [
        "### Conditional Statements\n",
        "Conditional statements in Python, such as `if` and `else`, allow us to execute different blocks of code based on certain conditions. In this example, we check if the variable `number` is greater than 0. If it is (`number > 0`), we print that the number is positive. Otherwise, the `else` block is executed, indicating that the number is negative.\n"
      ],
      "metadata": {
        "id": "8RiCMAjuaUIX"
      }
    },
    {
      "cell_type": "code",
      "source": [
        "# Conditional Statements Example\n",
        "\n",
        "# Checking if a number is positive or negative\n",
        "number = -5\n",
        "if number > 0:\n",
        "    print(number, \"is positive\")\n",
        "else:\n",
        "    print(number, \"is negative\")\n"
      ],
      "metadata": {
        "colab": {
          "base_uri": "https://localhost:8080/"
        },
        "id": "9UvDTt5mZpLl",
        "outputId": "7ae83e7b-0238-4f99-e788-179705e89adc"
      },
      "execution_count": null,
      "outputs": [
        {
          "output_type": "stream",
          "name": "stdout",
          "text": [
            "-5 is negative\n"
          ]
        }
      ]
    },
    {
      "cell_type": "markdown",
      "source": [
        "### Dictionary Basics\n",
        "Dictionaries in Python are collections of key-value pairs. Here, `grades` is a dictionary storing student names as keys and their grades as values. We access a value in a dictionary by specifying its key, like `grades[\"Alice\"]` to get Alice's grade. Adding a new key-value pair to a dictionary is straightforward; `grades[\"Diana\"] = 95` adds a new student, Diana, with her grade.\n"
      ],
      "metadata": {
        "id": "OhYLA0ZsaaFU"
      }
    },
    {
      "cell_type": "code",
      "source": [
        "# Dictionary Basics Example\n",
        "\n",
        "# Creating a dictionary with some student grades\n",
        "grades = {\"Alice\": 90, \"Bob\": 75, \"Charlie\": 85}\n",
        "\n",
        "# Accessing a value from the dictionary\n",
        "print(\"Alice's grade:\", grades[\"Alice\"])\n",
        "\n",
        "# Adding a new key-value pair to the dictionary\n",
        "grades[\"Diana\"] = 95\n",
        "print(\"Updated grades:\", grades)\n"
      ],
      "metadata": {
        "colab": {
          "base_uri": "https://localhost:8080/"
        },
        "id": "uXlUas80ZpE5",
        "outputId": "70f1d19b-8756-4eb3-f8de-99f50c4d4ef5"
      },
      "execution_count": null,
      "outputs": [
        {
          "output_type": "stream",
          "name": "stdout",
          "text": [
            "Alice's grade: 90\n",
            "Updated grades: {'Alice': 90, 'Bob': 75, 'Charlie': 85, 'Diana': 95}\n"
          ]
        }
      ]
    },
    {
      "cell_type": "markdown",
      "source": [
        "### Function Definition and Call\n",
        "Functions in Python are defined using the `def` keyword, followed by the function name and parameters in parentheses. In the example, `add_numbers` is a function that takes two parameters, `a` and `b`, and returns their sum. We 'call' this function with specific values (2 and 3) and store the result in `result`, which is then printed. Functions help encapsulate code blocks for reuse and organization.\n"
      ],
      "metadata": {
        "id": "lJAlgSoiagtP"
      }
    },
    {
      "cell_type": "code",
      "source": [
        "# Function Definition and Call Example\n",
        "\n",
        "# Defining a simple function to add two numbers\n",
        "def add_numbers(a, b):\n",
        "    return a + b\n",
        "\n",
        "# Calling the function with 2 and 3 as arguments\n",
        "result = add_numbers(2, 3)\n",
        "print(\"The sum of 2 and 3 is\", result)\n"
      ],
      "metadata": {
        "colab": {
          "base_uri": "https://localhost:8080/"
        },
        "id": "FknmbmYJZo-V",
        "outputId": "325d8695-439d-4bf4-93ea-0b6f95193dd5"
      },
      "execution_count": null,
      "outputs": [
        {
          "output_type": "stream",
          "name": "stdout",
          "text": [
            "The sum of 2 and 3 is 5\n"
          ]
        }
      ]
    },
    {
      "cell_type": "markdown",
      "source": [
        "### Using List Comprehensions\n",
        "List comprehensions in Python provide a concise way to create lists. The syntax includes an expression followed by a `for` clause, enclosed in brackets. In the example, we generate a list of squares of numbers from 1 to 5. `number**2` computes the square of each `number` as it iterates through `range(1, 6)`, creating a new list of these squared values.\n"
      ],
      "metadata": {
        "id": "6TTKBn3valYw"
      }
    },
    {
      "cell_type": "code",
      "source": [
        "# Using List Comprehensions Example\n",
        "\n",
        "# Creating a list of squares of numbers from 1 to 5\n",
        "squares = [number**2 for number in range(1, 6)]\n",
        "print(\"Squares of numbers from 1 to 5:\", squares)\n"
      ],
      "metadata": {
        "colab": {
          "base_uri": "https://localhost:8080/"
        },
        "id": "Wk5lSniIZoa8",
        "outputId": "06fd5c2b-bc8e-4a3a-b4e8-a8e0431cd6cb"
      },
      "execution_count": null,
      "outputs": [
        {
          "output_type": "stream",
          "name": "stdout",
          "text": [
            "Squares of numbers from 1 to 5: [1, 4, 9, 16, 25]\n"
          ]
        }
      ]
    },
    {
      "cell_type": "markdown",
      "source": [
        "### Working with Sets\n",
        "Sets in Python are collections of unique items. In the example, we start with a set of numbers. Using the `.add()` method, we can add a new element to the set, and with `.remove()`, we can remove a specific element. Since sets only store unique items, adding an existing item won't change the set.\n"
      ],
      "metadata": {
        "id": "Gq_wOlP0aqcV"
      }
    },
    {
      "cell_type": "code",
      "source": [
        "# Working with Sets Example\n",
        "\n",
        "# Creating a set of numbers\n",
        "numbers = {1, 2, 3, 4, 5}\n",
        "print(\"Original set:\", numbers)\n",
        "\n",
        "# Adding a new number to the set\n",
        "numbers.add(6)\n",
        "print(\"Set after adding a new number:\", numbers)\n",
        "\n",
        "# Removing a number from the set\n",
        "numbers.remove(2)\n",
        "print(\"Set after removing a number:\", numbers)\n"
      ],
      "metadata": {
        "colab": {
          "base_uri": "https://localhost:8080/"
        },
        "id": "piStknk6ZoTC",
        "outputId": "bf3ea24a-5745-4750-fb1b-0432cd069e7f"
      },
      "execution_count": null,
      "outputs": [
        {
          "output_type": "stream",
          "name": "stdout",
          "text": [
            "Original set: {1, 2, 3, 4, 5}\n",
            "Set after adding a new number: {1, 2, 3, 4, 5, 6}\n",
            "Set after removing a number: {1, 3, 4, 5, 6}\n"
          ]
        }
      ]
    },
    {
      "cell_type": "markdown",
      "source": [
        "### Tuple Unpacking\n",
        "Tuples in Python are immutable sequences, typically used to store collections of heterogeneous data. Tuple unpacking allows us to assign each item in a tuple to a variable in a single statement. In the example, `coordinates` is a tuple with two items. By writing `x, y = coordinates`, we assign the first item of the tuple to `x` and the second to `y`.\n"
      ],
      "metadata": {
        "id": "TUqUpXxFat43"
      }
    },
    {
      "cell_type": "code",
      "source": [
        "# Tuple Unpacking Example\n",
        "\n",
        "# Creating a tuple\n",
        "coordinates = (10, 20)\n",
        "\n",
        "# Unpacking the tuple into variables x and y\n",
        "x, y = coordinates\n",
        "print(\"X coordinate:\", x)\n",
        "print(\"Y coordinate:\", y)\n"
      ],
      "metadata": {
        "colab": {
          "base_uri": "https://localhost:8080/"
        },
        "id": "BAAtbWmtZoIo",
        "outputId": "297a59f1-78aa-4e1f-af57-7383a2b7c9f7"
      },
      "execution_count": null,
      "outputs": [
        {
          "output_type": "stream",
          "name": "stdout",
          "text": [
            "X coordinate: 10\n",
            "Y coordinate: 20\n"
          ]
        }
      ]
    },
    {
      "cell_type": "markdown",
      "source": [
        "### Simple Input and Output\n",
        "Python's `input()` function allows you to prompt the user for input, which is returned as a string. In the example, we ask the user for their name and store it in the variable `name`. We then use the `print()` function to output a greeting, incorporating the user's name into the message. This demonstrates basic user interaction in Python.\n"
      ],
      "metadata": {
        "id": "5_KMwAdsaxvj"
      }
    },
    {
      "cell_type": "code",
      "source": [
        "# Simple Input and Output Example\n",
        "\n",
        "# Asking the user for their name\n",
        "name = input(\"What is your name? \")\n",
        "\n",
        "# Greeting the user with their name\n",
        "print(\"Hello,\", name, \"!\")\n"
      ],
      "metadata": {
        "colab": {
          "base_uri": "https://localhost:8080/"
        },
        "id": "tRF2riGKZnzb",
        "outputId": "8b3b10b9-328f-4cad-ade2-9a6993e39b5a"
      },
      "execution_count": null,
      "outputs": [
        {
          "output_type": "stream",
          "name": "stdout",
          "text": [
            "What is your name? Ben\n",
            "Hello, Ben !\n"
          ]
        }
      ]
    },
    {
      "cell_type": "code",
      "execution_count": null,
      "metadata": {
        "colab": {
          "base_uri": "https://localhost:8080/",
          "height": 197
        },
        "cellView": "form",
        "id": "75HURs0BVW9M",
        "outputId": "c6986e9c-78c8-4635-a960-7d909043e61e"
      },
      "outputs": [
        {
          "output_type": "execute_result",
          "data": {
            "text/plain": [
              "<IPython.core.display.HTML object>"
            ],
            "text/html": [
              "\n",
              "<div id=\"quiz-container\">\n",
              "    <p><b>Quiz: Python Basics</b></p>\n",
              "    <div id=\"question1\">\n",
              "        <p>1. What type of data is the number 3 in Python? (int, float, str, bool)</p>\n",
              "        <input type=\"text\" id=\"answer1\" placeholder=\"Type your answer here\">\n",
              "        <button onclick=\"checkAnswer('answer1', 'int', 'feedback1')\">Submit</button>\n",
              "        <p id=\"feedback1\"></p>\n",
              "    </div>\n",
              "    <div id=\"question2\">\n",
              "        <p>2. What operator would you use to add two numbers? (+, -, *, /)</p>\n",
              "        <input type=\"text\" id=\"answer2\" placeholder=\"Type the symbol\">\n",
              "        <button onclick=\"checkAnswer('answer2', '+', 'feedback2')\">Submit</button>\n",
              "        <p id=\"feedback2\"></p>\n",
              "    </div>\n",
              "    <div id=\"question3\">\n",
              "        <p>3. Which data type would you use for textual data? (int, float, str, bool)</p>\n",
              "        <input type=\"text\" id=\"answer3\" placeholder=\"Type your answer here\">\n",
              "        <button onclick=\"checkAnswer('answer3', 'str', 'feedback3')\">Submit</button>\n",
              "        <p id=\"feedback3\"></p>\n",
              "    </div>\n",
              "</div>\n",
              "\n",
              "<script type=\"text/javascript\">\n",
              "    function checkAnswer(answerId, correctAnswer, feedbackId) {\n",
              "        var userAnswer = document.getElementById(answerId).value.trim().toLowerCase();\n",
              "        var feedback = document.getElementById(feedbackId);\n",
              "        if (userAnswer === correctAnswer) {\n",
              "            feedback.innerHTML = \"Correct! 🎉\";\n",
              "            feedback.style.color = \"green\";\n",
              "        } else {\n",
              "            feedback.innerHTML = \"Oops! That's not right. Try again.\";\n",
              "            feedback.style.color = \"red\";\n",
              "        }\n",
              "    }\n",
              "</script>\n"
            ]
          },
          "metadata": {},
          "execution_count": 32
        }
      ],
      "source": [
        "# @title Quiz 2: Run the Code Block without expanding it\n",
        "from IPython.display import HTML\n",
        "\n",
        "HTML(\"\"\"\n",
        "<div id=\"quiz-container\">\n",
        "    <p><b>Quiz: Python Basics</b></p>\n",
        "    <div id=\"question1\">\n",
        "        <p>1. What type of data is the number 3 in Python? (int, float, str, bool)</p>\n",
        "        <input type=\"text\" id=\"answer1\" placeholder=\"Type your answer here\">\n",
        "        <button onclick=\"checkAnswer('answer1', 'int', 'feedback1')\">Submit</button>\n",
        "        <p id=\"feedback1\"></p>\n",
        "    </div>\n",
        "    <div id=\"question2\">\n",
        "        <p>2. What operator would you use to add two numbers? (+, -, *, /)</p>\n",
        "        <input type=\"text\" id=\"answer2\" placeholder=\"Type the symbol\">\n",
        "        <button onclick=\"checkAnswer('answer2', '+', 'feedback2')\">Submit</button>\n",
        "        <p id=\"feedback2\"></p>\n",
        "    </div>\n",
        "    <div id=\"question3\">\n",
        "        <p>3. Which data type would you use for textual data? (int, float, str, bool)</p>\n",
        "        <input type=\"text\" id=\"answer3\" placeholder=\"Type your answer here\">\n",
        "        <button onclick=\"checkAnswer('answer3', 'str', 'feedback3')\">Submit</button>\n",
        "        <p id=\"feedback3\"></p>\n",
        "    </div>\n",
        "</div>\n",
        "\n",
        "<script type=\"text/javascript\">\n",
        "    function checkAnswer(answerId, correctAnswer, feedbackId) {\n",
        "        var userAnswer = document.getElementById(answerId).value.trim().toLowerCase();\n",
        "        var feedback = document.getElementById(feedbackId);\n",
        "        if (userAnswer === correctAnswer) {\n",
        "            feedback.innerHTML = \"Correct! 🎉\";\n",
        "            feedback.style.color = \"green\";\n",
        "        } else {\n",
        "            feedback.innerHTML = \"Oops! That's not right. Try again.\";\n",
        "            feedback.style.color = \"red\";\n",
        "        }\n",
        "    }\n",
        "</script>\n",
        "\"\"\")\n"
      ]
    },
    {
      "cell_type": "markdown",
      "metadata": {
        "id": "o951YX6tVW9M"
      },
      "source": [
        "# Following Colab Recipes (Control Structures)\n",
        "\n",
        "## Introduction\n",
        "In this section, we're going to learn about control structures in Python, which are like following a recipe in cooking. Just as a recipe has certain steps that need to be followed in order, control structures in programming dictate the flow of execution.\n",
        "\n",
        "### Python's Cooking Instructions: If-Else Statements\n",
        "`if-else` statements in Python are like decision points in a recipe. Based on certain conditions, they direct the flow of your program.\n",
        "\n",
        "### The Art of Repetition: Loops\n",
        "Loops in Python, such as `for` and `while` loops, allow us to perform a task repeatedly, just like stirring a mixture or kneading dough multiple times.\n",
        "\n",
        "## Exercise: Practice Cooking with Control Structures\n",
        "Let's put these concepts into practice. We'll write a few simple scripts to understand how `if-else` statements and loops work in Python.\n"
      ]
    },
    {
      "cell_type": "code",
      "execution_count": null,
      "metadata": {
        "id": "ytatNlqBVW9M",
        "outputId": "c1eca1a4-23d1-4c83-dc7b-a1ab1621be19",
        "colab": {
          "base_uri": "https://localhost:8080/"
        }
      },
      "outputs": [
        {
          "output_type": "stream",
          "name": "stdout",
          "text": [
            "The oven is at the perfect temperature.\n",
            "Kneading the dough...\n",
            "Kneading the dough...\n",
            "Kneading the dough...\n",
            "Waiting for the bread to bake. 5 minutes remaining.\n",
            "Waiting for the bread to bake. 4 minutes remaining.\n",
            "Waiting for the bread to bake. 3 minutes remaining.\n",
            "Waiting for the bread to bake. 2 minutes remaining.\n",
            "Waiting for the bread to bake. 1 minutes remaining.\n"
          ]
        }
      ],
      "source": [
        "# If-Else Example\n",
        "oven_temperature = 180\n",
        "if oven_temperature < 180:\n",
        "    print(\"The oven is not hot enough.\")\n",
        "elif oven_temperature == 180:\n",
        "    print(\"The oven is at the perfect temperature.\")\n",
        "else:\n",
        "    print(\"The oven is too hot.\")\n",
        "\n",
        "# For Loop Example\n",
        "for i in range(3):\n",
        "    print(\"Kneading the dough...\")\n",
        "\n",
        "# While Loop Example\n",
        "minutes_left = 5\n",
        "while minutes_left > 0:\n",
        "    print(f\"Waiting for the bread to bake. {minutes_left} minutes remaining.\")\n",
        "    minutes_left -= 1\n"
      ]
    },
    {
      "cell_type": "code",
      "execution_count": null,
      "metadata": {
        "colab": {
          "base_uri": "https://localhost:8080/",
          "height": 197
        },
        "cellView": "form",
        "id": "Ak2ypbk_VW9M",
        "outputId": "e3fe4ffd-2de2-4ee4-db46-f718365f2bf8"
      },
      "outputs": [
        {
          "output_type": "execute_result",
          "data": {
            "text/plain": [
              "<IPython.core.display.HTML object>"
            ],
            "text/html": [
              "\n",
              "<div id=\"quiz-container\">\n",
              "    <p><b>Quiz: Control Structures in Python</b></p>\n",
              "    <div id=\"question1\">\n",
              "        <p>1. What keyword starts an if-else statement in Python?</p>\n",
              "        <input type=\"text\" id=\"answer1\" placeholder=\"Type your answer here\">\n",
              "        <button onclick=\"checkAnswer('answer1', 'if', 'feedback1')\">Submit</button>\n",
              "        <p id=\"feedback1\"></p>\n",
              "    </div>\n",
              "    <div id=\"question2\">\n",
              "        <p>2. Which loop is typically used for repeating a task a specific number of times? ('for' or 'while')</p>\n",
              "        <input type=\"text\" id=\"answer2\" placeholder=\"Type 'for' or 'while'\">\n",
              "        <button onclick=\"checkAnswer('answer2', 'for', 'feedback2')\">Submit</button>\n",
              "        <p id=\"feedback2\"></p>\n",
              "    </div>\n",
              "    <div id=\"question3\">\n",
              "        <p>3. What do you use to check multiple conditions in an if statement? ('and', 'or', 'not')</p>\n",
              "        <input type=\"text\" id=\"answer3\" placeholder=\"Type 'and', 'or', or 'not'\">\n",
              "        <button onclick=\"checkAnswer('answer3', 'and', 'feedback3')\">Submit</button>\n",
              "        <p id=\"feedback3\"></p>\n",
              "    </div>\n",
              "</div>\n",
              "\n",
              "<script type=\"text/javascript\">\n",
              "    function checkAnswer(answerId, correctAnswer, feedbackId) {\n",
              "        var userAnswer = document.getElementById(answerId).value.trim().toLowerCase();\n",
              "        var feedback = document.getElementById(feedbackId);\n",
              "        if (userAnswer === correctAnswer) {\n",
              "            feedback.innerHTML = \"Correct! 🎉\";\n",
              "            feedback.style.color = \"green\";\n",
              "        } else {\n",
              "            feedback.innerHTML = \"Oops! That's not right. Try again.\";\n",
              "            feedback.style.color = \"red\";\n",
              "        }\n",
              "    }\n",
              "</script>\n"
            ]
          },
          "metadata": {},
          "execution_count": 33
        }
      ],
      "source": [
        "# @title Quiz 3: Run the Code Block without expanding it\n",
        "from IPython.display import HTML\n",
        "\n",
        "HTML(\"\"\"\n",
        "<div id=\"quiz-container\">\n",
        "    <p><b>Quiz: Control Structures in Python</b></p>\n",
        "    <div id=\"question1\">\n",
        "        <p>1. What keyword starts an if-else statement in Python?</p>\n",
        "        <input type=\"text\" id=\"answer1\" placeholder=\"Type your answer here\">\n",
        "        <button onclick=\"checkAnswer('answer1', 'if', 'feedback1')\">Submit</button>\n",
        "        <p id=\"feedback1\"></p>\n",
        "    </div>\n",
        "    <div id=\"question2\">\n",
        "        <p>2. Which loop is typically used for repeating a task a specific number of times? ('for' or 'while')</p>\n",
        "        <input type=\"text\" id=\"answer2\" placeholder=\"Type 'for' or 'while'\">\n",
        "        <button onclick=\"checkAnswer('answer2', 'for', 'feedback2')\">Submit</button>\n",
        "        <p id=\"feedback2\"></p>\n",
        "    </div>\n",
        "    <div id=\"question3\">\n",
        "        <p>3. What do you use to check multiple conditions in an if statement? ('and', 'or', 'not')</p>\n",
        "        <input type=\"text\" id=\"answer3\" placeholder=\"Type 'and', 'or', or 'not'\">\n",
        "        <button onclick=\"checkAnswer('answer3', 'and', 'feedback3')\">Submit</button>\n",
        "        <p id=\"feedback3\"></p>\n",
        "    </div>\n",
        "</div>\n",
        "\n",
        "<script type=\"text/javascript\">\n",
        "    function checkAnswer(answerId, correctAnswer, feedbackId) {\n",
        "        var userAnswer = document.getElementById(answerId).value.trim().toLowerCase();\n",
        "        var feedback = document.getElementById(feedbackId);\n",
        "        if (userAnswer === correctAnswer) {\n",
        "            feedback.innerHTML = \"Correct! 🎉\";\n",
        "            feedback.style.color = \"green\";\n",
        "        } else {\n",
        "            feedback.innerHTML = \"Oops! That's not right. Try again.\";\n",
        "            feedback.style.color = \"red\";\n",
        "        }\n",
        "    }\n",
        "</script>\n",
        "\"\"\")\n"
      ]
    },
    {
      "cell_type": "markdown",
      "metadata": {
        "id": "qKP-AW9pVW9M"
      },
      "source": [
        "# Colab's Kitchen Tools (Functions and Libraries)\n",
        "\n",
        "## Introduction\n",
        "In this section, we go into Python functions and libraries. Think of functions as specialised kitchen tools in your Google Colab kitchen, designed to perform specific tasks. Libraries, on the other hand, are like recipe books that you can refer to for pre-written functions and tools. You could also think of it as pre-made sauces.\n",
        "\n",
        "### Python's Handy Tools: Functions\n",
        "Functions in Python are reusable blocks of code that perform a specific task. Just like using a blender to mix ingredients, you can use functions to execute a particular set of instructions.\n",
        "\n",
        "### The Recipe Books: Libraries\n",
        "Libraries in Python are collections of functions and methods that you can use. They are like various recipe books in your kitchen, each offering different recipes (functions) to try.\n",
        "\n",
        "## Exercise: Practice with Functions and Libraries\n",
        "Let's get hands-on with creating our own functions and using some standard Python libraries.\n"
      ]
    },
    {
      "cell_type": "code",
      "execution_count": null,
      "metadata": {
        "id": "zmg929u5VW9M",
        "outputId": "b60bb04d-cb6b-49b8-ddca-3608a81095b4",
        "colab": {
          "base_uri": "https://localhost:8080/"
        }
      },
      "outputs": [
        {
          "output_type": "stream",
          "name": "stdout",
          "text": [
            "Baking a marshmallow cake!\n",
            "The square root of 256 is: 16.0\n"
          ]
        }
      ],
      "source": [
        "# Defining a simple function\n",
        "def bake_cake(flavor):\n",
        "    print(f\"Baking a {flavor} cake!\")\n",
        "\n",
        "# Using the function\n",
        "bake_cake(\"marshmallow\")\n",
        "\n",
        "# Importing and using a library\n",
        "import math\n",
        "print(\"The square root of 256 is:\", math.sqrt(256))\n"
      ]
    },
    {
      "cell_type": "code",
      "execution_count": null,
      "metadata": {
        "colab": {
          "base_uri": "https://localhost:8080/",
          "height": 197
        },
        "cellView": "form",
        "id": "Nw2myN4HVW9M",
        "outputId": "c882942b-feff-4490-e4f2-4a355f2b34a6"
      },
      "outputs": [
        {
          "output_type": "execute_result",
          "data": {
            "text/plain": [
              "<IPython.core.display.HTML object>"
            ],
            "text/html": [
              "\n",
              "<div id=\"quiz-container\">\n",
              "    <p><b>Quiz: Functions and Libraries in Python</b></p>\n",
              "    <div id=\"question1\">\n",
              "        <p>1. What keyword is used to define a function in Python?</p>\n",
              "        <input type=\"text\" id=\"answer1\" placeholder=\"Type your answer here\">\n",
              "        <button onclick=\"checkAnswer('answer1', 'def', 'feedback1')\">Submit</button>\n",
              "        <p id=\"feedback1\"></p>\n",
              "    </div>\n",
              "    <div id=\"question2\">\n",
              "        <p>2. Which library would you use in Python for mathematical tasks? ('math', 'string', 'os')</p>\n",
              "        <input type=\"text\" id=\"answer2\" placeholder=\"Type the library name\">\n",
              "        <button onclick=\"checkAnswer('answer2', 'math', 'feedback2')\">Submit</button>\n",
              "        <p id=\"feedback2\"></p>\n",
              "    </div>\n",
              "    <div id=\"question3\">\n",
              "        <p>3. To use a function from a library, what Python keyword is used before the library name? ('import', 'use', 'include')</p>\n",
              "        <input type=\"text\" id=\"answer3\" placeholder=\"Type the keyword\">\n",
              "        <button onclick=\"checkAnswer('answer3', 'import', 'feedback3')\">Submit</button>\n",
              "        <p id=\"feedback3\"></p>\n",
              "    </div>\n",
              "</div>\n",
              "\n",
              "<script type=\"text/javascript\">\n",
              "    function checkAnswer(answerId, correctAnswer, feedbackId) {\n",
              "        var userAnswer = document.getElementById(answerId).value.trim().toLowerCase();\n",
              "        var feedback = document.getElementById(feedbackId);\n",
              "        if (userAnswer === correctAnswer) {\n",
              "            feedback.innerHTML = \"Correct! 🎉\";\n",
              "            feedback.style.color = \"green\";\n",
              "        } else {\n",
              "            feedback.innerHTML = \"Oops! That's not right. Try again.\";\n",
              "            feedback.style.color = \"red\";\n",
              "        }\n",
              "    }\n",
              "</script>\n"
            ]
          },
          "metadata": {},
          "execution_count": 4
        }
      ],
      "source": [
        "# @title Quiz 4: Run the Code Block without expanding it\n",
        "from IPython.display import HTML\n",
        "\n",
        "HTML(\"\"\"\n",
        "<div id=\"quiz-container\">\n",
        "    <p><b>Quiz: Functions and Libraries in Python</b></p>\n",
        "    <div id=\"question1\">\n",
        "        <p>1. What keyword is used to define a function in Python?</p>\n",
        "        <input type=\"text\" id=\"answer1\" placeholder=\"Type your answer here\">\n",
        "        <button onclick=\"checkAnswer('answer1', 'def', 'feedback1')\">Submit</button>\n",
        "        <p id=\"feedback1\"></p>\n",
        "    </div>\n",
        "    <div id=\"question2\">\n",
        "        <p>2. Which library would you use in Python for mathematical tasks? ('math', 'string', 'os')</p>\n",
        "        <input type=\"text\" id=\"answer2\" placeholder=\"Type the library name\">\n",
        "        <button onclick=\"checkAnswer('answer2', 'math', 'feedback2')\">Submit</button>\n",
        "        <p id=\"feedback2\"></p>\n",
        "    </div>\n",
        "    <div id=\"question3\">\n",
        "        <p>3. To use a function from a library, what Python keyword is used before the library name? ('import', 'use', 'include')</p>\n",
        "        <input type=\"text\" id=\"answer3\" placeholder=\"Type the keyword\">\n",
        "        <button onclick=\"checkAnswer('answer3', 'import', 'feedback3')\">Submit</button>\n",
        "        <p id=\"feedback3\"></p>\n",
        "    </div>\n",
        "</div>\n",
        "\n",
        "<script type=\"text/javascript\">\n",
        "    function checkAnswer(answerId, correctAnswer, feedbackId) {\n",
        "        var userAnswer = document.getElementById(answerId).value.trim().toLowerCase();\n",
        "        var feedback = document.getElementById(feedbackId);\n",
        "        if (userAnswer === correctAnswer) {\n",
        "            feedback.innerHTML = \"Correct! 🎉\";\n",
        "            feedback.style.color = \"green\";\n",
        "        } else {\n",
        "            feedback.innerHTML = \"Oops! That's not right. Try again.\";\n",
        "            feedback.style.color = \"red\";\n",
        "        }\n",
        "    }\n",
        "</script>\n",
        "\"\"\")\n"
      ]
    },
    {
      "cell_type": "markdown",
      "metadata": {
        "id": "Jf0JDcFaVW9N"
      },
      "source": [
        "# Plating Up in Colab (Data Structures)\n",
        "\n",
        "## Introduction\n",
        "Welcome to the section on data structures! In the world of cooking, plating is the art of presenting food in an appealing way. Similarly, in Python, data structures are ways to organise and store data effectively. We'll explore lists, dictionaries, sets, and tuples, and learn how they can be used in different scenarios.\n",
        "\n",
        "### The Variety of Plates: Lists, Dictionaries, Sets, Tuples\n",
        "- **Lists** are like a platter, allowing you to arrange a collection of items (elements) in a specific order.\n",
        "- **Dictionaries** are like labeled containers, where each item (value) has a specific label (key).\n",
        "- **Sets** are similar to a unique collection of dishes, with no duplicates allowed.\n",
        "- **Tuples** are like a fixed menu - once you decide on the items (elements), they cannot be changed.\n",
        "\n",
        "## Exercise: Practice Plating Your Data\n",
        "Let's practice using these data structures in Python with some exercises.\n"
      ]
    },
    {
      "cell_type": "code",
      "execution_count": null,
      "metadata": {
        "colab": {
          "base_uri": "https://localhost:8080/"
        },
        "id": "Hi5dzZgaVW9N",
        "outputId": "2f89406e-8dea-403f-8ee1-bdca476ada55"
      },
      "outputs": [
        {
          "output_type": "stream",
          "name": "stdout",
          "text": [
            "Fruits List: ['apple', 'banana', 'cherry', 'orange']\n",
            "Fruit Calories: {'apple': 52, 'banana': 89, 'cherry': 50, 'orange': 47}\n",
            "Unique Fruits Set: {'cherry', 'banana', 'apple'}\n",
            "Fixed Menu Tuple: ('starter', 'main course', 'dessert')\n"
          ]
        }
      ],
      "source": [
        "# Working with a List\n",
        "fruits = [\"apple\", \"banana\", \"cherry\"]\n",
        "fruits.append(\"orange\")\n",
        "print(\"Fruits List:\", fruits)\n",
        "\n",
        "# Using a Dictionary\n",
        "calories = {\"apple\": 52, \"banana\": 89, \"cherry\": 50}\n",
        "calories[\"orange\"] = 47\n",
        "print(\"Fruit Calories:\", calories)\n",
        "\n",
        "# Creating a Set\n",
        "unique_fruits = set([\"apple\", \"banana\", \"apple\", \"cherry\"])\n",
        "print(\"Unique Fruits Set:\", unique_fruits)\n",
        "\n",
        "# Defining a Tuple\n",
        "fixed_menu = (\"starter\", \"main course\", \"dessert\")\n",
        "print(\"Fixed Menu Tuple:\", fixed_menu)\n"
      ]
    },
    {
      "cell_type": "code",
      "execution_count": null,
      "metadata": {
        "cellView": "form",
        "id": "zh2gxX61VW9N",
        "outputId": "2b79b527-3979-4357-f9f9-b7878c8ecd88"
      },
      "outputs": [
        {
          "data": {
            "text/html": [
              "\n",
              "<div id=\"quiz-container\">\n",
              "    <p><b>Quiz: Data Structures in Python</b></p>\n",
              "    <div id=\"question1\">\n",
              "        <p>1. Which data structure would you use to store elements in a specific order? ('list', 'dictionary', 'set', 'tuple')</p>\n",
              "        <input type=\"text\" id=\"answer1\" placeholder=\"Type your answer here\">\n",
              "        <button onclick=\"checkAnswer('answer1', 'list', 'feedback1')\">Submit</button>\n",
              "        <p id=\"feedback1\"></p>\n",
              "    </div>\n",
              "    <div id=\"question2\">\n",
              "        <p>2. For storing unique items with no duplicates, which data structure is the best choice? ('list', 'set', 'tuple')</p>\n",
              "        <input type=\"text\" id=\"answer2\" placeholder=\"Type 'list', 'set', or 'tuple'\">\n",
              "        <button onclick=\"checkAnswer('answer2', 'set', 'feedback2')\">Submit</button>\n",
              "        <p id=\"feedback2\"></p>\n",
              "    </div>\n",
              "    <div id=\"question3\">\n",
              "        <p>3. Which data structure uses key-value pairs for storing data? ('list', 'dictionary', 'set')</p>\n",
              "        <input type=\"text\" id=\"answer3\" placeholder=\"Type 'list', 'dictionary', or 'set'\">\n",
              "        <button onclick=\"checkAnswer('answer3', 'dictionary', 'feedback3')\">Submit</button>\n",
              "        <p id=\"feedback3\"></p>\n",
              "    </div>\n",
              "</div>\n",
              "\n",
              "<script type=\"text/javascript\">\n",
              "    function checkAnswer(answerId, correctAnswer, feedbackId) {\n",
              "        var userAnswer = document.getElementById(answerId).value.trim().toLowerCase();\n",
              "        var feedback = document.getElementById(feedbackId);\n",
              "        if (userAnswer === correctAnswer) {\n",
              "            feedback.innerHTML = \"Correct! 🎉\";\n",
              "            feedback.style.color = \"green\";\n",
              "        } else {\n",
              "            feedback.innerHTML = \"Oops! That's not right. Try again.\";\n",
              "            feedback.style.color = \"red\";\n",
              "        }\n",
              "    }\n",
              "</script>\n"
            ],
            "text/plain": [
              "<IPython.core.display.HTML object>"
            ]
          },
          "execution_count": 9,
          "metadata": {},
          "output_type": "execute_result"
        }
      ],
      "source": [
        "# @title Quiz 5: Run the Code Block without expanding it\n",
        "from IPython.display import HTML\n",
        "\n",
        "HTML(\"\"\"\n",
        "<div id=\"quiz-container\">\n",
        "    <p><b>Quiz: Data Structures in Python</b></p>\n",
        "    <div id=\"question1\">\n",
        "        <p>1. Which data structure would you use to store elements in a specific order? ('list', 'dictionary', 'set', 'tuple')</p>\n",
        "        <input type=\"text\" id=\"answer1\" placeholder=\"Type your answer here\">\n",
        "        <button onclick=\"checkAnswer('answer1', 'list', 'feedback1')\">Submit</button>\n",
        "        <p id=\"feedback1\"></p>\n",
        "    </div>\n",
        "    <div id=\"question2\">\n",
        "        <p>2. For storing unique items with no duplicates, which data structure is the best choice? ('list', 'set', 'tuple')</p>\n",
        "        <input type=\"text\" id=\"answer2\" placeholder=\"Type 'list', 'set', or 'tuple'\">\n",
        "        <button onclick=\"checkAnswer('answer2', 'set', 'feedback2')\">Submit</button>\n",
        "        <p id=\"feedback2\"></p>\n",
        "    </div>\n",
        "    <div id=\"question3\">\n",
        "        <p>3. Which data structure uses key-value pairs for storing data? ('list', 'dictionary', 'set')</p>\n",
        "        <input type=\"text\" id=\"answer3\" placeholder=\"Type 'list', 'dictionary', or 'set'\">\n",
        "        <button onclick=\"checkAnswer('answer3', 'dictionary', 'feedback3')\">Submit</button>\n",
        "        <p id=\"feedback3\"></p>\n",
        "    </div>\n",
        "</div>\n",
        "\n",
        "<script type=\"text/javascript\">\n",
        "    function checkAnswer(answerId, correctAnswer, feedbackId) {\n",
        "        var userAnswer = document.getElementById(answerId).value.trim().toLowerCase();\n",
        "        var feedback = document.getElementById(feedbackId);\n",
        "        if (userAnswer === correctAnswer) {\n",
        "            feedback.innerHTML = \"Correct! 🎉\";\n",
        "            feedback.style.color = \"green\";\n",
        "        } else {\n",
        "            feedback.innerHTML = \"Oops! That's not right. Try again.\";\n",
        "            feedback.style.color = \"red\";\n",
        "        }\n",
        "    }\n",
        "</script>\n",
        "\"\"\")\n"
      ]
    },
    {
      "cell_type": "markdown",
      "metadata": {
        "id": "J4n4MAwfVW9N"
      },
      "source": [
        "# Storing Ingredients (File I/O and Error Handling in Colab)\n",
        "\n",
        "## Introduction\n",
        "In this section, we're going to learn about file input/output (I/O) and error handling in Python, especially in the context of Google Colab. Think of file I/O as storing and retrieving ingredients from your pantry. Error handling, meanwhile, is like dealing with unexpected kitchen accidents - knowing how to handle them is crucial!\n",
        "\n",
        "### The Colab Pantry: File I/O\n",
        "File I/O involves reading data from files and writing data to files. It's an essential part of working with data in Python, allowing you to store results, configurations, and data sets.\n",
        "\n",
        "### Managing Kitchen Accidents: Error Handling\n",
        "Error handling in Python is about anticipating and managing potential errors that might occur during program execution. This helps in making your programs more robust and user-friendly.\n",
        "\n",
        "## Exercise: Practice with File I/O and Error Handling\n",
        "Let's practice reading from and writing to files, and handling some common errors.\n"
      ]
    },
    {
      "cell_type": "code",
      "execution_count": null,
      "metadata": {
        "colab": {
          "base_uri": "https://localhost:8080/"
        },
        "id": "GdcHGF0mVW9N",
        "outputId": "deffcc8e-bbd8-4fcf-af32-f20da5683047"
      },
      "outputs": [
        {
          "output_type": "stream",
          "name": "stdout",
          "text": [
            "Pancake Recipe Ingredients\n",
            "\n",
            "Oops! You can't divide by zero.\n"
          ]
        }
      ],
      "source": [
        "# File I/O Example\n",
        "try:\n",
        "    # Writing to a file\n",
        "    with open('recipe.txt', 'w') as file:\n",
        "        file.write('Pancake Recipe Ingredients\\n')\n",
        "\n",
        "    # Reading from a file\n",
        "    with open('recipe.txt', 'r') as file:\n",
        "        content = file.read()\n",
        "        print(content)\n",
        "\n",
        "except IOError as e:\n",
        "    print(\"An IOError occurred:\", e)\n",
        "\n",
        "# Error Handling Example\n",
        "try:\n",
        "    # A simple division operation that might cause an error\n",
        "    result = 10 / 0\n",
        "except ZeroDivisionError:\n",
        "    print(\"Oops! You can't divide by zero.\")\n"
      ]
    },
    {
      "cell_type": "code",
      "execution_count": null,
      "metadata": {
        "colab": {
          "base_uri": "https://localhost:8080/",
          "height": 197
        },
        "cellView": "form",
        "id": "DAev_RjEVW9N",
        "outputId": "066c3f47-6765-40dc-9318-0704404137e8"
      },
      "outputs": [
        {
          "output_type": "execute_result",
          "data": {
            "text/plain": [
              "<IPython.core.display.HTML object>"
            ],
            "text/html": [
              "\n",
              "<div id=\"quiz-container\">\n",
              "    <p><b>Quiz: File I/O and Error Handling in Python</b></p>\n",
              "    <div id=\"question1\">\n",
              "        <p>1. True or False: You can use the 'with' statement for file operations in Python.</p>\n",
              "        <input type=\"text\" id=\"answer1\" placeholder=\"Type 'true' or 'false'\">\n",
              "        <button onclick=\"checkAnswer('answer1', 'true', 'feedback1')\">Submit</button>\n",
              "        <p id=\"feedback1\"></p>\n",
              "    </div>\n",
              "    <div id=\"question2\">\n",
              "        <p>2. True or False: A ZeroDivisionError occurs when you try to divide a number by zero.</p>\n",
              "        <input type=\"text\" id=\"answer2\" placeholder=\"Type 'true' or 'false'\">\n",
              "        <button onclick=\"checkAnswer('answer2', 'true', 'feedback2')\">Submit</button>\n",
              "        <p id=\"feedback2\"></p>\n",
              "    </div>\n",
              "    <div id=\"question3\">\n",
              "        <p>3. True or False: The IOError is raised when an input/output operation fails, such as when a file can't be opened.</p>\n",
              "        <input type=\"text\" id=\"answer3\" placeholder=\"Type 'true' or 'false'\">\n",
              "        <button onclick=\"checkAnswer('answer3', 'true', 'feedback3')\">Submit</button>\n",
              "        <p id=\"feedback3\"></p>\n",
              "    </div>\n",
              "</div>\n",
              "\n",
              "<script type=\"text/javascript\">\n",
              "    function checkAnswer(answerId, correctAnswer, feedbackId) {\n",
              "        var userAnswer = document.getElementById(answerId).value.trim().toLowerCase();\n",
              "        var feedback = document.getElementById(feedbackId);\n",
              "        if (userAnswer === correctAnswer) {\n",
              "            feedback.innerHTML = \"Correct! 🎉\";\n",
              "            feedback.style.color = \"green\";\n",
              "        } else {\n",
              "            feedback.innerHTML = \"Oops! That's not right. Try again.\";\n",
              "            feedback.style.color = \"red\";\n",
              "        }\n",
              "    }\n",
              "</script>\n"
            ]
          },
          "metadata": {},
          "execution_count": 5
        }
      ],
      "source": [
        "# @title Quiz 6: Run the Code Block without expanding it\n",
        "from IPython.display import HTML\n",
        "\n",
        "HTML(\"\"\"\n",
        "<div id=\"quiz-container\">\n",
        "    <p><b>Quiz: File I/O and Error Handling in Python</b></p>\n",
        "    <div id=\"question1\">\n",
        "        <p>1. True or False: You can use the 'with' statement for file operations in Python.</p>\n",
        "        <input type=\"text\" id=\"answer1\" placeholder=\"Type 'true' or 'false'\">\n",
        "        <button onclick=\"checkAnswer('answer1', 'true', 'feedback1')\">Submit</button>\n",
        "        <p id=\"feedback1\"></p>\n",
        "    </div>\n",
        "    <div id=\"question2\">\n",
        "        <p>2. True or False: A ZeroDivisionError occurs when you try to divide a number by zero.</p>\n",
        "        <input type=\"text\" id=\"answer2\" placeholder=\"Type 'true' or 'false'\">\n",
        "        <button onclick=\"checkAnswer('answer2', 'true', 'feedback2')\">Submit</button>\n",
        "        <p id=\"feedback2\"></p>\n",
        "    </div>\n",
        "    <div id=\"question3\">\n",
        "        <p>3. True or False: The IOError is raised when an input/output operation fails, such as when a file can't be opened.</p>\n",
        "        <input type=\"text\" id=\"answer3\" placeholder=\"Type 'true' or 'false'\">\n",
        "        <button onclick=\"checkAnswer('answer3', 'true', 'feedback3')\">Submit</button>\n",
        "        <p id=\"feedback3\"></p>\n",
        "    </div>\n",
        "</div>\n",
        "\n",
        "<script type=\"text/javascript\">\n",
        "    function checkAnswer(answerId, correctAnswer, feedbackId) {\n",
        "        var userAnswer = document.getElementById(answerId).value.trim().toLowerCase();\n",
        "        var feedback = document.getElementById(feedbackId);\n",
        "        if (userAnswer === correctAnswer) {\n",
        "            feedback.innerHTML = \"Correct! 🎉\";\n",
        "            feedback.style.color = \"green\";\n",
        "        } else {\n",
        "            feedback.innerHTML = \"Oops! That's not right. Try again.\";\n",
        "            feedback.style.color = \"red\";\n",
        "        }\n",
        "    }\n",
        "</script>\n",
        "\"\"\")\n"
      ]
    },
    {
      "cell_type": "markdown",
      "source": [
        "# Training Data and Data Annotation\n",
        "Before diving into the world of machine learning, it's crucial to understand the foundation upon which all machine learning models are built: Training Data. Training data refers to the dataset used to train a machine learning model. The quality, quantity, and relevance of the training data directly influence the model's ability to learn and make accurate predictions or decisions.\n",
        "\n",
        "### Understanding Training Data\n",
        "Training data consists of input-output pairs. The model learns to map inputs to outputs during the training process. This learning process is like studying for an exam; just as a student uses textbooks and practice problems to prepare, a machine learning model uses training data to learn.\n",
        "\n",
        "### Data Annotation\n",
        "Data Annotation is the process of labeling or tagging data with the correct answer or outcome. For example, in a dataset used to train a model to recognise animals in images, each image would be tagged with the name of the animal it contains. This tagging process is crucial for supervised learning models, as it provides the ground truth that the model will try to predict.\n",
        "\n",
        "### Importance of Quality Data\n",
        "The phrase \"garbage in, garbage out\" is particularly apt in machine learning. The quality of the training data significantly impacts the model's performance. High-quality data is:\n",
        "\n",
        "- **Relevant**: The data should be representative of the scenarios in which the model will be used.\n",
        "- **Accurate**: The data, especially the annotations, should be correct.\n",
        "- **Diverse**: The data should cover a wide range of examples and edge cases.\n",
        "\n",
        "### Exercise: Preparing Your Dataset\n",
        "Let's start with a simple exercise to understand how to prepare and annotate a dataset."
      ],
      "metadata": {
        "id": "0irDAxQKYJ4o"
      }
    },
    {
      "cell_type": "code",
      "source": [
        "# Exercise: Annotating a Simple Dataset\n",
        "\n",
        "# Imagine we have a simple dataset of images and their descriptions. Our task is to annotate these images with a label: 'animal' or 'not_animal'.\n",
        "\n",
        "# Sample dataset (normally, you would have actual images; for simplicity, we'll use descriptions)\n",
        "dataset = [\n",
        "    (\"A photo of a dog playing in the park\", 'animal'),\n",
        "    (\"A landscape photo of a mountain range\", 'not_animal'),\n",
        "    (\"A street view with people walking\", 'not_animal'),\n",
        "    (\"A close-up photo of a cat\", 'animal')\n",
        "]\n",
        "\n",
        "# Function to annotate the dataset\n",
        "def annotate_dataset(data):\n",
        "    annotated_data = []\n",
        "    for description, label in data:\n",
        "        # In a real scenario, you would analyse the image and determine the correct label\n",
        "        # For this exercise, we're provided with the correct labels\n",
        "        annotated_data.append((description, label))\n",
        "    return annotated_data\n",
        "\n",
        "# Annotate the dataset\n",
        "annotated_dataset = annotate_dataset(dataset)\n",
        "\n",
        "# Print the annotated dataset\n",
        "for description, label in annotated_dataset:\n",
        "    print(f\"Description: {description} - Label: {label}\")\n"
      ],
      "metadata": {
        "colab": {
          "base_uri": "https://localhost:8080/"
        },
        "id": "Ws4C1AwJYass",
        "outputId": "d6aab8e9-9c30-4aeb-a667-da4acfde953e"
      },
      "execution_count": null,
      "outputs": [
        {
          "output_type": "stream",
          "name": "stdout",
          "text": [
            "Description: A photo of a dog playing in the park - Label: animal\n",
            "Description: A landscape photo of a mountain range - Label: not_animal\n",
            "Description: A street view with people walking - Label: not_animal\n",
            "Description: A close-up photo of a cat - Label: animal\n"
          ]
        }
      ]
    },
    {
      "cell_type": "code",
      "source": [
        "# @title Quiz 7: Run Code cell without expanding it\n",
        "from IPython.display import HTML\n",
        "HTML(\"\"\"\n",
        "<div id=\"quiz-container\">\n",
        "    <h3>Quiz: Understanding Training Data and Annotation</h3>\n",
        "    <div id=\"question1\" class=\"quiz-question\">\n",
        "        <p>1. What is the purpose of data annotation in machine learning?</p>\n",
        "        <input type=\"radio\" id=\"q1a1\" name=\"q1\" value=\"a\">\n",
        "        <label for=\"q1a1\">A. To organize data</label><br>\n",
        "        <input type=\"radio\" id=\"q1a2\" name=\"q1\" value=\"b\">\n",
        "        <label for=\"q1a2\">B. To label data with correct answers</label><br>\n",
        "        <input type=\"radio\" id=\"q1a3\" name=\"q1\" value=\"c\">\n",
        "        <label for=\"q1a3\">C. To increase data quantity</label><br>\n",
        "    </div>\n",
        "    <button onclick=\"checkQuizAnswers()\">Submit Answers</button>\n",
        "</div>\n",
        "<div id=\"quiz-result\"></div>\n",
        "\n",
        "<script>\n",
        "function checkQuizAnswers() {\n",
        "    var correctAnswers = 0;\n",
        "    var totalQuestions = 1;\n",
        "\n",
        "    // Check each question\n",
        "    var q1 = document.querySelector('input[name=\"q1\"]:checked');\n",
        "    if(q1 && q1.value === \"b\") {\n",
        "        correctAnswers++;\n",
        "    }\n",
        "\n",
        "    // Display result\n",
        "    var resultText = \"You got \" + correctAnswers + \" out of \" + totalQuestions + \" questions correct.\";\n",
        "    document.getElementById(\"quiz-result\").innerText = resultText;\n",
        "}\n",
        "</script>\n",
        "\"\"\")"
      ],
      "metadata": {
        "colab": {
          "base_uri": "https://localhost:8080/",
          "height": 181
        },
        "cellView": "form",
        "id": "TGN_x7Z5YyzQ",
        "outputId": "15c8da49-ae22-46f4-bf5a-c0f2c1bcb10d"
      },
      "execution_count": 1,
      "outputs": [
        {
          "output_type": "execute_result",
          "data": {
            "text/plain": [
              "<IPython.core.display.HTML object>"
            ],
            "text/html": [
              "\n",
              "<div id=\"quiz-container\">\n",
              "    <h3>Quiz: Understanding Training Data and Annotation</h3>\n",
              "    <div id=\"question1\" class=\"quiz-question\">\n",
              "        <p>1. What is the purpose of data annotation in machine learning?</p>\n",
              "        <input type=\"radio\" id=\"q1a1\" name=\"q1\" value=\"a\">\n",
              "        <label for=\"q1a1\">A. To organize data</label><br>\n",
              "        <input type=\"radio\" id=\"q1a2\" name=\"q1\" value=\"b\">\n",
              "        <label for=\"q1a2\">B. To label data with correct answers</label><br>\n",
              "        <input type=\"radio\" id=\"q1a3\" name=\"q1\" value=\"c\">\n",
              "        <label for=\"q1a3\">C. To increase data quantity</label><br>\n",
              "    </div>\n",
              "    <button onclick=\"checkQuizAnswers()\">Submit Answers</button>\n",
              "</div>\n",
              "<div id=\"quiz-result\"></div>\n",
              "\n",
              "<script>\n",
              "function checkQuizAnswers() {\n",
              "    var correctAnswers = 0;\n",
              "    var totalQuestions = 1;\n",
              "\n",
              "    // Check each question\n",
              "    var q1 = document.querySelector('input[name=\"q1\"]:checked');\n",
              "    if(q1 && q1.value === \"b\") {\n",
              "        correctAnswers++;\n",
              "    }\n",
              "\n",
              "    // Display result\n",
              "    var resultText = \"You got \" + correctAnswers + \" out of \" + totalQuestions + \" questions correct.\";\n",
              "    document.getElementById(\"quiz-result\").innerText = resultText;\n",
              "}\n",
              "</script>\n"
            ]
          },
          "metadata": {},
          "execution_count": 1
        }
      ]
    },
    {
      "cell_type": "markdown",
      "source": [
        "# Data Visualisation and Analysis in AI/ML\n",
        "Welcome to our section on Data Visualisation and Analysis, key skills in the field of AI and ML. In this section, we'll explore how to use Python libraries, such as Matplotlib and pandas, to visualise datasets and gain insights through analysis.\n",
        "\n",
        "**Data Visualisation** is the graphical representation of information and data. By using visual elements like charts, graphs, and maps, data visualisation tools provide an accessible way to see and understand trends, outliers, and patterns in data.\n",
        "\n",
        "**Data Analysis** involves inspecting, cleansing, transforming, and modeling data with the goal of discovering useful information, informing conclusions, and supporting decision-making.\n",
        "\n",
        "We'll start by introducing **Matplotlib**, a plotting library for the Python programming language and its numerical mathematics extension, **NumPy**. Then, we'll explore **pandas**, an open-source data analysis and manipulation tool, built on top of the Python programming language."
      ],
      "metadata": {
        "id": "Dk9Ob8Q5fTYF"
      }
    },
    {
      "cell_type": "markdown",
      "source": [
        "### Exercise 1: Basic Line Plot\n",
        "Let's start with a simple line plot using Matplotlib to understand trends over time."
      ],
      "metadata": {
        "id": "tTl7UJu9fk_U"
      }
    },
    {
      "cell_type": "code",
      "source": [
        "import matplotlib.pyplot as plt\n",
        "\n",
        "# Sample data\n",
        "months = ['Jan', 'Feb', 'Mar', 'Apr', 'May', 'Jun']\n",
        "temperatures = [22, 25, 27, 28, 32, 33]\n",
        "\n",
        "# Creating the line plot\n",
        "plt.plot(months, temperatures)\n",
        "plt.title('Monthly Temperatures')\n",
        "plt.xlabel('Month')\n",
        "plt.ylabel('Temperature (°C)')\n",
        "plt.show()\n"
      ],
      "metadata": {
        "colab": {
          "base_uri": "https://localhost:8080/",
          "height": 472
        },
        "id": "crFtS2D_foP_",
        "outputId": "756517e3-7074-4452-d74b-90d540e63a8e"
      },
      "execution_count": null,
      "outputs": [
        {
          "output_type": "display_data",
          "data": {
            "text/plain": [
              "<Figure size 640x480 with 1 Axes>"
            ],
            "image/png": "[encoded data removed]"
          },
          "metadata": {}
        }
      ]
    },
    {
      "cell_type": "markdown",
      "source": [
        "### Exercise 2: Bar Chart Using pandas\n",
        "Now, we'll create a bar chart to compare different categories using pandas and Matplotlib."
      ],
      "metadata": {
        "id": "qhvUrxEOfrgv"
      }
    },
    {
      "cell_type": "code",
      "source": [
        "import pandas as pd\n",
        "\n",
        "# Sample data in a dictionary\n",
        "data = {'Fruits': ['Apples', 'Bananas', 'Oranges'],\n",
        "        'Quantity': [23, 18, 30]}\n",
        "\n",
        "# Creating a DataFrame\n",
        "df = pd.DataFrame(data)\n",
        "\n",
        "# Creating a bar chart\n",
        "df.plot(kind='bar', x='Fruits', y='Quantity', legend=None)\n",
        "plt.title('Fruit Quantities')\n",
        "plt.ylabel('Quantity')\n",
        "plt.show()\n"
      ],
      "metadata": {
        "colab": {
          "base_uri": "https://localhost:8080/",
          "height": 518
        },
        "id": "txlpb3wXfvuM",
        "outputId": "0d8ae75f-e2a9-4cb4-c635-c1062098b728"
      },
      "execution_count": null,
      "outputs": [
        {
          "output_type": "display_data",
          "data": {
            "text/plain": [
              "<Figure size 640x480 with 1 Axes>"
            ],
            "image/png": "[encoded data removed]"
          },
          "metadata": {}
        }
      ]
    },
    {
      "cell_type": "markdown",
      "source": [
        "### Exercise 3: Scatter Plot for Correlation Analysis\n",
        "Finally, let's use a scatter plot to visualize the correlation between two variables."
      ],
      "metadata": {
        "id": "QsXa-2EBf1Y9"
      }
    },
    {
      "cell_type": "code",
      "source": [
        "import numpy as np\n",
        "\n",
        "# Generating sample data\n",
        "x = np.random.randint(1, 100, 50)\n",
        "y = x + np.random.normal(0, 10, 50)  # Adding some noise\n",
        "\n",
        "# Creating the scatter plot\n",
        "plt.scatter(x, y)\n",
        "plt.title('X vs Y Correlation')\n",
        "plt.xlabel('X Value')\n",
        "plt.ylabel('Y Value')\n",
        "plt.show()\n"
      ],
      "metadata": {
        "colab": {
          "base_uri": "https://localhost:8080/",
          "height": 472
        },
        "id": "j6O-kY6MfztD",
        "outputId": "24e6d7ca-0c14-4d78-b25f-804d9dbeaa0d"
      },
      "execution_count": null,
      "outputs": [
        {
          "output_type": "display_data",
          "data": {
            "text/plain": [
              "<Figure size 640x480 with 1 Axes>"
            ],
            "image/png": "[encoded data removed]"
          },
          "metadata": {}
        }
      ]
    },
    {
      "cell_type": "code",
      "source": [
        "# @title Quiz 8: Do not expand code cell\n",
        "from IPython.display import HTML\n",
        "\n",
        "HTML(\"\"\"\n",
        "<div style=\"background-color: #f9f9f9; border-radius: 10px; padding: 20px;\">\n",
        "    <h2>Easy Data Viz Quiz</h2>\n",
        "    <div>\n",
        "        <p>1. What command do we use in Matplotlib to draw a line chart?</p>\n",
        "        <input type=\"text\" id=\"q1\" placeholder=\"Type the command here\">\n",
        "    </div>\n",
        "    <div>\n",
        "        <p>2. Can we use pandas to make charts? (Yes or No)</p>\n",
        "        <input type=\"text\" id=\"q2\" placeholder=\"Yes or No\">\n",
        "    </div>\n",
        "    <div>\n",
        "        <p>3. What can we see with a dot plot? How two things...</p>\n",
        "        <input type=\"text\" id=\"q3\" placeholder=\"Complete the sentence\">\n",
        "    </div>\n",
        "    <button onclick=\"checkAnswers()\">Check My Answers</button>\n",
        "    <div id=\"feedback\"></div>\n",
        "</div>\n",
        "\n",
        "<script>\n",
        "function checkAnswers() {\n",
        "    var q1 = document.getElementById('q1').value.toLowerCase().trim();\n",
        "    var q2 = document.getElementById('q2').value.toLowerCase().trim();\n",
        "    var q3 = document.getElementById('q3').value.toLowerCase().trim();\n",
        "\n",
        "    var feedback = \"\";\n",
        "\n",
        "    if(q1 === 'plot') {\n",
        "        feedback += \"<p>1. Right on! 'plot' is correct.</p>\";\n",
        "    } else {\n",
        "        feedback += \"<p>1. Oops, the right command is 'plot'.</p>\";\n",
        "    }\n",
        "\n",
        "    if(q2 === 'yes') {\n",
        "        feedback += \"<p>2. Exactly! You can use pandas for charts.</p>\";\n",
        "    } else {\n",
        "        feedback += \"<p>2. Actually, 'Yes' is the answer. pandas can make charts!</p>\";\n",
        "    }\n",
        "\n",
        "    if(q3.includes('go together') || q3.includes('relate')) {\n",
        "        feedback += \"<p>3. You got it! It shows how two things go together or relate.</p>\";\n",
        "    } else {\n",
        "        feedback += \"<p>3. Not quite. A dot plot shows how two things 'go together' or 'relate'.</p>\";\n",
        "    }\n",
        "\n",
        "    document.getElementById('feedback').innerHTML = feedback;\n",
        "}\n",
        "</script>\n",
        "\"\"\")\n"
      ],
      "metadata": {
        "colab": {
          "base_uri": "https://localhost:8080/",
          "height": 267
        },
        "cellView": "form",
        "id": "zGuHMnydf5sj",
        "outputId": "d7206d56-362d-41ef-a74e-c958ff65694a"
      },
      "execution_count": null,
      "outputs": [
        {
          "output_type": "execute_result",
          "data": {
            "text/plain": [
              "<IPython.core.display.HTML object>"
            ],
            "text/html": [
              "\n",
              "<div style=\"background-color: #f9f9f9; border-radius: 10px; padding: 20px;\">\n",
              "    <h2>Easy Data Viz Quiz</h2>\n",
              "    <div>\n",
              "        <p>1. What command do we use in Matplotlib to draw a line chart?</p>\n",
              "        <input type=\"text\" id=\"q1\" placeholder=\"Type the command here\">\n",
              "    </div>\n",
              "    <div>\n",
              "        <p>2. Can we use pandas to make charts? (Yes or No)</p>\n",
              "        <input type=\"text\" id=\"q2\" placeholder=\"Yes or No\">\n",
              "    </div>\n",
              "    <div>\n",
              "        <p>3. What can we see with a dot plot? How two things...</p>\n",
              "        <input type=\"text\" id=\"q3\" placeholder=\"Complete the sentence\">\n",
              "    </div>\n",
              "    <button onclick=\"checkAnswers()\">Check My Answers</button>\n",
              "    <div id=\"feedback\"></div>\n",
              "</div>\n",
              "\n",
              "<script>\n",
              "function checkAnswers() {\n",
              "    var q1 = document.getElementById('q1').value.toLowerCase().trim();\n",
              "    var q2 = document.getElementById('q2').value.toLowerCase().trim();\n",
              "    var q3 = document.getElementById('q3').value.toLowerCase().trim();\n",
              "    \n",
              "    var feedback = \"\";\n",
              "    \n",
              "    if(q1 === 'plot') {\n",
              "        feedback += \"<p>1. Right on! 'plot' is correct.</p>\";\n",
              "    } else {\n",
              "        feedback += \"<p>1. Oops, the right command is 'plot'.</p>\";\n",
              "    }\n",
              "    \n",
              "    if(q2 === 'yes') {\n",
              "        feedback += \"<p>2. Exactly! You can use pandas for charts.</p>\";\n",
              "    } else {\n",
              "        feedback += \"<p>2. Actually, 'Yes' is the answer. pandas can make charts!</p>\";\n",
              "    }\n",
              "    \n",
              "    if(q3.includes('go together') || q3.includes('relate')) {\n",
              "        feedback += \"<p>3. You got it! It shows how two things go together or relate.</p>\";\n",
              "    } else {\n",
              "        feedback += \"<p>3. Not quite. A dot plot shows how two things 'go together' or 'relate'.</p>\";\n",
              "    }\n",
              "    \n",
              "    document.getElementById('feedback').innerHTML = feedback;\n",
              "}\n",
              "</script>\n"
            ]
          },
          "metadata": {},
          "execution_count": 22
        }
      ]
    },
    {
      "cell_type": "markdown",
      "metadata": {
        "id": "ZWLZKGfwVW9N"
      },
      "source": [
        "# The Main Course (Intro to Machine Learning in Colab)\n",
        "\n",
        "## Introduction\n",
        " Imagine ML as a magic kitchen where, instead of dishes, we cook up models that learn from data. Just as chefs use various techniques to create culinary masterpieces, in ML, we use different methods to teach computers how to learn from data.\n",
        "\n",
        "### The Ingredients of ML: Basic Concepts\n",
        "Machine Learning is the science of getting computers to learn and act like humans do, and improve their learning over time autonomously. The key concepts include:\n",
        "- **Supervised Learning**: The chef (algorithm) learns by following a cookbook (labeled data).\n",
        "- **Unsupervised Learning**: The chef experiments with ingredients (data) to create new dishes (patterns).\n",
        "- **Reinforcement Learning**: The chef tastes (evaluates) the dish and adjusts the seasoning (parameters) based on feedback.\n",
        "\n",
        "## Exercise:  Your First ML Dish - Classifying Iris Flowers\n",
        "Let's step into the ML kitchen and prepare a simple yet delightful dish: classifying iris flowers using scikit-learn, a popular ML library in Python.\n"
      ]
    },
    {
      "cell_type": "code",
      "execution_count": null,
      "metadata": {
        "colab": {
          "base_uri": "https://localhost:8080/",
          "height": 487
        },
        "id": "I6SBbKnlVW9N",
        "outputId": "e24fa55d-49be-496b-af0c-ec24c84e8823"
      },
      "outputs": [
        {
          "output_type": "display_data",
          "data": {
            "text/plain": [
              "<Figure size 800x500 with 1 Axes>"
            ],
            "image/png": "[encoded data removed]"
          },
          "metadata": {}
        }
      ],
      "source": [
        "# Import the necessary ingredients from scikit-learn\n",
        "from sklearn.datasets import load_iris\n",
        "from sklearn.model_selection import train_test_split\n",
        "from sklearn.neighbors import KNeighborsClassifier\n",
        "from sklearn.metrics import accuracy_score\n",
        "import matplotlib.pyplot as plt\n",
        "\n",
        "# Load the Iris dataset\n",
        "iris = load_iris()\n",
        "X = iris.data[:, :2]  # Only using Sepal Length and Sepal Width as features\n",
        "y = iris.target  # The labels (species)\n",
        "\n",
        "# Split the data into a training set and a test set\n",
        "X_train, X_test, y_train, y_test = train_test_split(X, y, test_size=0.2, random_state=42)\n",
        "\n",
        "# Create and train the K-Nearest Neighbors (KNN) model\n",
        "model = KNeighborsClassifier(n_neighbors=3)\n",
        "model.fit(X_train, y_train)\n",
        "\n",
        "# Use the trained model to make predictions on the test set\n",
        "predictions = model.predict(X_test)\n",
        "\n",
        "# Visualising the model's predictions\n",
        "plt.figure(figsize=(8, 5))\n",
        "plt.scatter(X_test[:, 0], X_test[:, 1], c=predictions, cmap='viridis', marker='o', label='Predicted')\n",
        "plt.scatter(X_train[:, 0], X_train[:, 1], c=y_train, cmap='viridis', marker='x', label='Training')\n",
        "plt.xlabel('Sepal Length')\n",
        "plt.ylabel('Sepal Width')\n",
        "plt.title('Iris Classification Results with Sepal Features')\n",
        "plt.legend()\n",
        "plt.show()\n",
        "\n",
        "\n"
      ]
    },
    {
      "cell_type": "markdown",
      "source": [
        "This simple exercise introduces you to the process of training a model and making predictions. The scatter plot visually represents how our model has classified the iris flowers based on sepal length and width."
      ],
      "metadata": {
        "id": "HFTFDCuibypp"
      }
    },
    {
      "cell_type": "markdown",
      "metadata": {
        "id": "OFUf2B8aVW9N"
      },
      "source": [
        "# Tasting Session: Model Evaluation\n",
        "\n",
        "## Introduction\n",
        "Just like tasting a dish helps a chef understand if the flavors are balanced, evaluating our ML model helps us know how well it performs. For our iris classification, we can use metrics like accuracy to measure how often the model correctly identifies the iris species.\n"
      ]
    },
    {
      "cell_type": "code",
      "execution_count": null,
      "metadata": {
        "id": "qP8wh0pAVW9N",
        "colab": {
          "base_uri": "https://localhost:8080/"
        },
        "outputId": "614f38f4-ef20-4a69-bda3-5b88e143aee5"
      },
      "outputs": [
        {
          "output_type": "stream",
          "name": "stdout",
          "text": [
            "Model accuracy: 83.33%\n"
          ]
        }
      ],
      "source": [
        "from sklearn.metrics import accuracy_score\n",
        "\n",
        "# Calculate the accuracy of our model\n",
        "accuracy = accuracy_score(y_test, predictions)\n",
        "print(f\"Model accuracy: {accuracy * 100:.2f}%\")\n"
      ]
    },
    {
      "cell_type": "markdown",
      "source": [
        "This simple metric, accuracy, gives us a quick taste of our model's performance, showing us the percentage of iris species correctly classified."
      ],
      "metadata": {
        "id": "xyT_CgedcY3S"
      }
    },
    {
      "cell_type": "markdown",
      "source": [
        "# Conclusion\n",
        "Congratulations on completing this journey through the fascinating world of Python programming and Machine Learning (ML) in Google Colab! We've explored a wide range of topics, starting from the basics of Python and gradually stepping into the more advanced territory of machine learning. Here's a quick recap of what we've covered:\n",
        "\n",
        "- Introduction to Python and Google Colab: We began by familiarizing ourselves with Python programming and the versatile environment of Google Colab.\n",
        "- Python Basics: Variables, data types, and basic operations laid the foundation for our programming skills.\n",
        "- Control Structures: We learned to direct the flow of our programs using conditional statements and loops.\n",
        "- Functions and Libraries: By defining functions and utilizing powerful Python libraries, we've seen how to organize our code and extend its capabilities.\n",
        "- Data Structures: Understanding lists, dictionaries, and other data structures enabled us to organize and manage data efficiently.\n",
        "- File I/O and Error Handling: We tackled reading from and writing to files while gracefully handling errors.\n",
        "- Training Data and Data Annotation: We looked at how data labelling works\n",
        "- Data Visualisation and Analysis in AI/ML: We experimented with turning code and data in to visualisations!\n",
        "- Introduction to Machine Learning: Stepping into ML, we explored different learning paradigms and built a basic model to classify Iris flowers.\n",
        "- Model Evaluation: Finally, we learned how to evaluate our ML models, understanding that like tasting a dish, evaluating models is crucial to ensure their effectiveness.\n",
        "\n",
        "Through interactive exercises, quizzes, and hands-on projects, you've gained not just theoretical knowledge but practical skills that you can apply to real-world problems. Remember, the field of programming and machine learning is vast and continually evolving. What we've covered is just the beginning, and there's much more to learn and discover."
      ],
      "metadata": {
        "id": "uWchfaJTdNFK"
      }
    },
    {
      "cell_type": "markdown",
      "source": [
        "# Summary Quiz\n",
        "Let's test your understanding of the key concepts we've covered with a summary quiz. Try to answer these questions based on what you've learned:"
      ],
      "metadata": {
        "id": "vLTIeYiodXD8"
      }
    },
    {
      "cell_type": "code",
      "execution_count": null,
      "metadata": {
        "colab": {
          "base_uri": "https://localhost:8080/",
          "height": 399
        },
        "cellView": "form",
        "id": "AqJUvVhbVW9N",
        "outputId": "136af33a-b429-4e9c-ce67-2b1d799409c5"
      },
      "outputs": [
        {
          "output_type": "execute_result",
          "data": {
            "text/plain": [
              "<IPython.core.display.HTML object>"
            ],
            "text/html": [
              "\n",
              "<div id=\"quiz-container\">\n",
              "    <p><b>Final Summary Quiz: Python and ML in Colab</b></p>\n",
              "    <div id=\"question1\">\n",
              "        <p>1. What is the output of the following Python code snippet? <code>x = 8; y = 2; print(x ** y)</code></p>\n",
              "        <input type=\"text\" id=\"answer1\" placeholder=\"Type your answer here\">\n",
              "        <button onclick=\"checkAnswer('answer1', '64', 'feedback1')\">Submit</button>\n",
              "        <p id=\"feedback1\"></p>\n",
              "    </div>\n",
              "    <div id=\"question2\">\n",
              "        <p>2. Which keyword is used to create a loop that iterates over a sequence of numbers in Python?</p>\n",
              "        <input type=\"text\" id=\"answer2\" placeholder=\"Type your answer here\">\n",
              "        <button onclick=\"checkAnswer('answer2', 'for', 'feedback2')\">Submit</button>\n",
              "        <p id=\"feedback2\"></p>\n",
              "    </div>\n",
              "    <div id=\"question3\">\n",
              "        <p>3. True or False: A function in Python can return more than one value.</p>\n",
              "        <input type=\"text\" id=\"answer3\" placeholder=\"Type your answer here\">\n",
              "        <button onclick=\"checkAnswer('answer3', 'true', 'feedback3')\">Submit</button>\n",
              "        <p id=\"feedback3\"></p>\n",
              "    </div>\n",
              "    <div id=\"question4\">\n",
              "        <p>4. Which data structure in Python is used to store data in key-value pairs?</p>\n",
              "        <input type=\"text\" id=\"answer4\" placeholder=\"Type your answer here\">\n",
              "        <button onclick=\"checkAnswer('answer4', 'dictionary', 'feedback4')\">Submit</button>\n",
              "        <p id=\"feedback4\"></p>\n",
              "    </div>\n",
              "    <div id=\"question5\">\n",
              "        <p>5. What does the 'r' mode do in the <code>open()</code> function in Python?</p>\n",
              "        <input type=\"text\" id=\"answer5\" placeholder=\"Type your answer here\">\n",
              "        <button onclick=\"checkAnswer('answer5', 'read', 'feedback5')\">Submit</button>\n",
              "        <p id=\"feedback5\"></p>\n",
              "    </div>\n",
              "    <div id=\"question6\">\n",
              "        <p>6. In supervised learning, what type of data do models learn from?</p>\n",
              "        <input type=\"text\" id=\"answer6\" placeholder=\"Type your answer here\">\n",
              "        <button onclick=\"checkAnswer('answer6', 'labeled data', 'feedback6')\">Submit</button>\n",
              "        <p id=\"feedback6\"></p>\n",
              "    </div>\n",
              "    <div id=\"question7\">\n",
              "        <p>7. Which metric was used to evaluate the performance of the Iris flower classification model?</p>\n",
              "        <input type=\"text\" id=\"answer7\" placeholder=\"Type your answer here\">\n",
              "        <button onclick=\"checkAnswer('answer7', 'accuracy', 'feedback7')\">Submit</button>\n",
              "        <p id=\"feedback7\"></p>\n",
              "    </div>\n",
              "</div>\n",
              "\n",
              "<script type=\"text/javascript\">\n",
              "    function checkAnswer(answerId, correctAnswer, feedbackId) {\n",
              "        var userAnswer = document.getElementById(answerId).value.trim().toLowerCase();\n",
              "        var feedback = document.getElementById(feedbackId);\n",
              "        if (userAnswer === correctAnswer) {\n",
              "            feedback.innerHTML = \"Correct! 🎉\";\n",
              "            feedback.style.color = \"green\";\n",
              "        } else {\n",
              "            feedback.innerHTML = \"Oops! That's not right. Try again.\";\n",
              "            feedback.style.color = \"red\";\n",
              "        }\n",
              "    }\n",
              "</script>\n"
            ]
          },
          "metadata": {},
          "execution_count": 14
        }
      ],
      "source": [
        "# @title Final Summary Quiz: Python and ML in Colab\n",
        "from IPython.display import HTML\n",
        "\n",
        "HTML(\"\"\"\n",
        "<div id=\"quiz-container\">\n",
        "    <p><b>Final Summary Quiz: Python and ML in Colab</b></p>\n",
        "    <div id=\"question1\">\n",
        "        <p>1. What is the output of the following Python code snippet? <code>x = 8; y = 2; print(x ** y)</code></p>\n",
        "        <input type=\"text\" id=\"answer1\" placeholder=\"Type your answer here\">\n",
        "        <button onclick=\"checkAnswer('answer1', '64', 'feedback1')\">Submit</button>\n",
        "        <p id=\"feedback1\"></p>\n",
        "    </div>\n",
        "    <div id=\"question2\">\n",
        "        <p>2. Which keyword is used to create a loop that iterates over a sequence of numbers in Python?</p>\n",
        "        <input type=\"text\" id=\"answer2\" placeholder=\"Type your answer here\">\n",
        "        <button onclick=\"checkAnswer('answer2', 'for', 'feedback2')\">Submit</button>\n",
        "        <p id=\"feedback2\"></p>\n",
        "    </div>\n",
        "    <div id=\"question3\">\n",
        "        <p>3. True or False: A function in Python can return more than one value.</p>\n",
        "        <input type=\"text\" id=\"answer3\" placeholder=\"Type your answer here\">\n",
        "        <button onclick=\"checkAnswer('answer3', 'true', 'feedback3')\">Submit</button>\n",
        "        <p id=\"feedback3\"></p>\n",
        "    </div>\n",
        "    <div id=\"question4\">\n",
        "        <p>4. Which data structure in Python is used to store data in key-value pairs?</p>\n",
        "        <input type=\"text\" id=\"answer4\" placeholder=\"Type your answer here\">\n",
        "        <button onclick=\"checkAnswer('answer4', 'dictionary', 'feedback4')\">Submit</button>\n",
        "        <p id=\"feedback4\"></p>\n",
        "    </div>\n",
        "    <div id=\"question5\">\n",
        "        <p>5. What does the 'r' mode do in the <code>open()</code> function in Python?</p>\n",
        "        <input type=\"text\" id=\"answer5\" placeholder=\"Type your answer here\">\n",
        "        <button onclick=\"checkAnswer('answer5', 'read', 'feedback5')\">Submit</button>\n",
        "        <p id=\"feedback5\"></p>\n",
        "    </div>\n",
        "    <div id=\"question6\">\n",
        "        <p>6. In supervised learning, what type of data do models learn from?</p>\n",
        "        <input type=\"text\" id=\"answer6\" placeholder=\"Type your answer here\">\n",
        "        <button onclick=\"checkAnswer('answer6', 'labeled data', 'feedback6')\">Submit</button>\n",
        "        <p id=\"feedback6\"></p>\n",
        "    </div>\n",
        "    <div id=\"question7\">\n",
        "        <p>7. Which metric was used to evaluate the performance of the Iris flower classification model?</p>\n",
        "        <input type=\"text\" id=\"answer7\" placeholder=\"Type your answer here\">\n",
        "        <button onclick=\"checkAnswer('answer7', 'accuracy', 'feedback7')\">Submit</button>\n",
        "        <p id=\"feedback7\"></p>\n",
        "    </div>\n",
        "</div>\n",
        "\n",
        "<script type=\"text/javascript\">\n",
        "    function checkAnswer(answerId, correctAnswer, feedbackId) {\n",
        "        var userAnswer = document.getElementById(answerId).value.trim().toLowerCase();\n",
        "        var feedback = document.getElementById(feedbackId);\n",
        "        if (userAnswer === correctAnswer) {\n",
        "            feedback.innerHTML = \"Correct! 🎉\";\n",
        "            feedback.style.color = \"green\";\n",
        "        } else {\n",
        "            feedback.innerHTML = \"Oops! That's not right. Try again.\";\n",
        "            feedback.style.color = \"red\";\n",
        "        }\n",
        "    }\n",
        "</script>\n",
        "\"\"\")\n",
        "\n"
      ]
    }
  ],
  "metadata": {
    "kernelspec": {
      "display_name": "Python 3",
      "language": "python",
      "name": "python3"
    },
    "language_info": {
      "codemirror_mode": {
        "name": "ipython",
        "version": 3
      },
      "file_extension": ".py",
      "mimetype": "text/x-python",
      "name": "python",
      "nbconvert_exporter": "python",
      "pygments_lexer": "ipython3",
      "version": "3.12.0"
    },
    "colab": {
      "provenance": [],
      "include_colab_link": true
    }
  },
  "nbformat": 4,
  "nbformat_minor": 0
}