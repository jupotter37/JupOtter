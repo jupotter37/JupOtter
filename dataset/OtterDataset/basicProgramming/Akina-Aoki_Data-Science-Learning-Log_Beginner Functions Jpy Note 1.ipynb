{
 "cells": [
  {
   "cell_type": "markdown",
   "id": "3cf26130",
   "metadata": {},
   "source": [
    "# Python Functions for Beginners\n",
    "\n",
    "\n",
    "## Objectives\n",
    " \n",
    "1. Describe the function concept and the importance of functions\n",
    "2. Write a function that takes inputs and performs tasks\n",
    "3. Use built-in functions like len(), sum(), and others effectively\n",
    "4. Define and use your functions in Python\n",
    "5. Differentiate between global and local variable scopes\n",
    "6. Use loops within the function\n",
    "7. Modify data structures using functions\n",
    "- Function to append an element\n",
    "- Function to remove an element\n",
    "- Modifying lists\n",
    "- Modifying dictionaries\n",
    "- Modifying sets\n",
    "\n",
    "\n",
    "### Introduction to functions\n",
    "\n",
    "#### Definition\n",
    "\n",
    "A function is a fundamental building block that encapsulates specific actions or computations. As in mathematics, where functions take inputs and produce outputs, programming functions perform similarly. They take inputs, execute predefined actions or calculations, and then return an output.\n",
    "\n",
    "#### Purpose of functions\n",
    "\n",
    "Functions promote code **modularity and reusability.** Imagine you have a task that needs to be performed multiple times within a program. Instead of duplicating the same code at various places, you can define a function once and call it whenever you need that task. This **reduces redundancy** and makes the code easier to manage and maintain.\n",
    "\n",
    "#### Benefits of using functions\n",
    "\n",
    "**Modularity:** Functions break down complex tasks into manageable components\n",
    "**Reusability:** Functions can be used multiple times without rewriting code\n",
    "**Readability:** Functions with meaningful names enhance code understanding\n",
    "**Debugging:** Isolating functions eases troubleshooting and issue fixing\n",
    "**Abstraction:** Functions simplify complex processes behind a user-friendly interface\n",
    "**Collaboration:** Team members can work on different functions concurrently\n",
    "**Maintenance:** Changes made in a function automatically apply wherever it's used"
   ]
  },
  {
   "cell_type": "markdown",
   "id": "39cc3bbd",
   "metadata": {},
   "source": [
    "Example:\n",
    "\n",
    "**Inputs(Parameters)** Inputs are known as parameters or arguments. Parameters provide functions with the necessary information they need to perform their tasks.\n",
    "\n",
    "**Tasks**  The purpose of a function determines the tasks it performs. \n",
    "\n",
    "**Producing outputs** The output is the result of the operations carried out within the function. It's the value that the function “returns” to the code that called it. Think of the output as the end product of the function's work."
   ]
  },
  {
   "cell_type": "code",
   "execution_count": null,
   "id": "bb1fe496",
   "metadata": {},
   "outputs": [],
   "source": [
    "def calculate_total(a,b):      #p arameters: a and b\n",
    "    total = a + b              # task\n",
    "    return total              # output: sum of a and b\n",
    "\n",
    "result = calculate_total(5, 7) # call the functions\n",
    "print(result)                  # output"
   ]
  },
  {
   "cell_type": "markdown",
   "id": "621c5439",
   "metadata": {},
   "source": [
    "### Python's built-in functions\n",
    "\n",
    "Python has a rich set of built-in functions that provide a wide range of functionalities. These functions are readily available for you to use.\n",
    "\n",
    "\n",
    "#### Built-in functions\n",
    "\n",
    "To use a built-in function, you simply call the function's name followed by parentheses. Any required arguments or parameters are passed into the function within these parentheses. The function then performs its predefined task and may return an output you can use in your code.\n",
    "\n",
    "Python's built-in functions offer a wide array of functionalities, from basic operations like len() and sum() to more specialized tasks.\n"
   ]
  },
  {
   "cell_type": "code",
   "execution_count": null,
   "id": "5363ea64",
   "metadata": {},
   "outputs": [],
   "source": [
    "# len() Calculates the length of a sequence or collection\n",
    "str_len = len(\"Nice shirt!\") # output: 11\n",
    "int_len = len(1, 2, 3)       # output: 3"
   ]
  },
  {
   "cell_type": "code",
   "execution_count": null,
   "id": "d5c79c17",
   "metadata": {},
   "outputs": [],
   "source": [
    "# sum(): Adds up the elements in an iterable (list, tuple, and so on)\n",
    "total = sum(100 + 100)    #output: 200"
   ]
  },
  {
   "cell_type": "markdown",
   "id": "ac3858bc",
   "metadata": {},
   "source": [
    "### Defining your functions\n",
    "\n",
    "\n",
    "#### pass\n",
    "\n",
    "A \"pass\" statement in a programming function is a placeholder or a no-op (no operation) statement. Use it when you want to define a function or a code block syntactically but do not want to specify any functionality or implementation at that moment."
   ]
  },
  {
   "cell_type": "markdown",
   "id": "d0ba2e5a",
   "metadata": {},
   "source": [
    "- **Placeholder:** \"pass\" acts as a temporary placeholder for future code that you intend to write within a function or a code block.\n",
    "\n",
    "- **Syntax Requirement:** In many programming languages like Python, using \"pass\" is necessary when you define a function or a conditional block. It ensures that the code remains syntactically correct, even if it doesn't do anything yet.\n",
    "\n",
    "- **No Operation:** \"pass\" itself doesn't perform any meaningful action. When the interpreter encounters “pass”, it simply moves on to the next statement without executing any code."
   ]
  },
  {
   "cell_type": "code",
   "execution_count": null,
   "id": "cb122596",
   "metadata": {},
   "outputs": [],
   "source": [
    "# Syntax:\n",
    "def function_name():\n",
    "    pass"
   ]
  },
  {
   "cell_type": "markdown",
   "id": "315d1bb6",
   "metadata": {},
   "source": [
    "#### Parameters\n",
    "\n",
    "- Parameters are like inputs for functions\n",
    "- They go inside parentheses when defining the function\n",
    "- Functions can have multiple parameters\n",
    "\n",
    "Example:"
   ]
  },
  {
   "cell_type": "code",
   "execution_count": null,
   "id": "d80a9e26",
   "metadata": {},
   "outputs": [],
   "source": [
    "def greet(name):\n",
    "    print(\"Hello, \" + name)\n",
    "    \n",
    "result = greet(\"John\")\n",
    "print(result)              # Output: Hello, John"
   ]
  },
  {
   "cell_type": "markdown",
   "id": "07330cad",
   "metadata": {},
   "source": [
    "#### Return statement\n",
    "\n",
    "- Return gives back a value from a function\n",
    "- Ends the function's execution and sends the result\n",
    "- A function can return various types of data\n",
    "\n",
    "Example:"
   ]
  },
  {
   "cell_type": "code",
   "execution_count": null,
   "id": "e51a1e6f",
   "metadata": {},
   "outputs": [],
   "source": [
    "def add(a, b):\n",
    "    return a + b\n",
    "\n",
    "result = add(10, 4)"
   ]
  },
  {
   "cell_type": "markdown",
   "id": "cc7368f7",
   "metadata": {},
   "source": [
    "### Scopes and Variables\n",
    "\n",
    "Understanding scope is crucial to avoid naming conflicts and to manage variable accessibility effectively. Scope refers to the accessibility of variables, objects, and functions within a program.\n",
    "\n",
    "\n",
    "#### Global Scope\n",
    "\n",
    "- Variables, objects, and functions defined **outside** of any function or class have global scope.\n",
    "- Global variables and functions can be accessed from anywhere in the program, including inside functions and classes.\n",
    "- To create a global variable inside a function, you can use the global keyword."
   ]
  },
  {
   "cell_type": "code",
   "execution_count": null,
   "id": "5c5843fa",
   "metadata": {},
   "outputs": [],
   "source": [
    "# example\n",
    "\n",
    "x = \"Welcome\"         # global variable\n",
    "\n",
    "def greeting():\n",
    "    print(x)          # access global variable inside a function\n",
    "    \n",
    "greeting()"
   ]
  },
  {
   "cell_type": "markdown",
   "id": "f1becccf",
   "metadata": {},
   "source": [
    "#### Local Scope\n",
    "\n",
    "- Variables, objects, and functions defined **inside** a function or class have local scope.\n",
    "\n",
    "- Local variables are accessible only within the function or class where they are defined.\n",
    "\n",
    "- Local variables take precedence over global variables with the same name within the same scope."
   ]
  },
  {
   "cell_type": "code",
   "execution_count": null,
   "id": "5eeef44d",
   "metadata": {},
   "outputs": [],
   "source": [
    "# example\n",
    "\n",
    "def greeting():\n",
    "    y = \"Hi\"         # local variable\n",
    "    print(y)         # accessing local variable\n",
    "    \n",
    "greeting()    \n",
    "\n",
    "# Trying to access local variable outside its scope will raise NameError\n",
    "# print(y)  # This will raise NameError: name 'y' is not defined"
   ]
  },
  {
   "cell_type": "code",
   "execution_count": null,
   "id": "8efbf307",
   "metadata": {},
   "outputs": [],
   "source": [
    "# example\n",
    "\n",
    "x = 10              # global variable\n",
    "\n",
    "def greeting():\n",
    "    x = \"Hi\"        # local variable, same name as global variable\n",
    "    print(x)\n",
    "    \n",
    "greeting()          # outout: \"Hi\"\n",
    "print(x)            # output: 10 (global variable remains unchanged)\n",
    "    "
   ]
  },
  {
   "cell_type": "markdown",
   "id": "df88f06e",
   "metadata": {},
   "source": [
    "### Using functions with loops\n",
    "\n",
    "Functions and loops are often used together to perform repetitive tasks or iterate over collections of data. \n",
    "\n",
    "- Functions group similar actions for easy understanding\n",
    "- Looping within functions keeps code clean\n",
    "- You can reuse a function to repeat actions"
   ]
  },
  {
   "cell_type": "code",
   "execution_count": null,
   "id": "b5b5d796",
   "metadata": {},
   "outputs": [],
   "source": [
    "# for loop with function\n",
    "\n",
    "def print_numbers(n):\n",
    "    for i in range(1, n +1):     # iterate through numbers from 1 to n\n",
    "        print(i)\n",
    "        \n",
    "print(3)  \n",
    "#Output:\n",
    "# 1\n",
    "# 2\n",
    "# 3"
   ]
  },
  {
   "cell_type": "code",
   "execution_count": null,
   "id": "7e8df950",
   "metadata": {},
   "outputs": [],
   "source": [
    "def greet(name):\n",
    "    return \"Hello, \" + name     # Concatenate the string with the parameter.\n",
    "\n",
    "for _ in range(3):              # iterate 3 times\n",
    "    print(greet(\"John\")) \n",
    "    \n",
    "# Output:\n",
    "# Hello, John\n",
    "# Hello, John\n",
    "# Hello, John"
   ]
  },
  {
   "cell_type": "code",
   "execution_count": 1,
   "id": "65002d8a",
   "metadata": {},
   "outputs": [],
   "source": [
    "# while loop with function\n",
    "\n",
    "\n",
    "def countdown(n):\n",
    "    while n > 0:       # continues as long as 'n' is greater than 0\n",
    "        print(n)\n",
    "        n -= 1         # Decrement 'n' by 1 in each iteration.\n",
    "\n",
    "countdown(5)\n",
    "# Output:\n",
    "# 5\n",
    "# 4\n",
    "# 3\n",
    "# 2\n",
    "# 1"
   ]
  },
  {
   "cell_type": "code",
   "execution_count": null,
   "id": "ff30f744",
   "metadata": {},
   "outputs": [],
   "source": [
    "# conditional statements andd functions with loop\n",
    "\n",
    "def print_even_numbers(n):\n",
    "    for i in range(1, n +1):      # Iterate through numbers from 1 to n\n",
    "        if i % 2 ==0:             # use the modulo operator, if divided by 2 and remainder is 0, it's even\n",
    "            print(i)\n",
    "            \n",
    "print_even_numbers(10)\n",
    "# Output:\n",
    "# 2\n",
    "# 4\n",
    "# 6\n",
    "# 8\n",
    "# 10"
   ]
  },
  {
   "cell_type": "code",
   "execution_count": null,
   "id": "f8b9e8f4",
   "metadata": {},
   "outputs": [],
   "source": [
    "# Function with Loop and List Comprehension\n",
    "\n",
    "# squares of each number\n",
    "# Iterate over each number 'num' in the input list 'numbers', calculate its square 'num ** 2', and add it to the new list.\n",
    "\n",
    "def square_numbers(numbers):\n",
    "    return [num ** 2 for num in numbers]\n",
    "\n",
    "numbers = [1, 2, 3, 4, 5]\n",
    "\n",
    "# Call the 'square_numbers' function with the 'numbers' list as an argument.\n",
    "squared = square_numbers(numbers)\n",
    "print(squared)\n",
    "\n",
    "# Output: [1, 4, 9, 16, 25]"
   ]
  },
  {
   "cell_type": "markdown",
   "id": "0c3d730d",
   "metadata": {},
   "source": [
    "### Modify data structures using functions\n",
    "\n",
    "Modifying data structures using functions involves defining functions that perform operations on data structures such as lists, dictionaries, sets, etc. These functions can add, remove, update, or perform any desired modification on the data structure.\n",
    "\n",
    "\n",
    "#### Define Functions\n",
    "##### Modifying Lists\n",
    "\n",
    "**Function to append an element** \n",
    "-add_element- Start by defining functions that encapsulate specific operations to perform. This function takes two parameters.\n",
    "\n",
    "-data_structure- This parameter represents the list to which you want to add an element. Data structures can be passed (lists, dictionaries, sets) as arguments to functions.\n",
    "\n",
    "-element- This parameter represents the element you want to add to the list.\n",
    "\n",
    "- Inside the function, you use the -append- method to add the provided element to the data_structure, which is assumed to be a list."
   ]
  },
  {
   "cell_type": "code",
   "execution_count": null,
   "id": "e2abacb3",
   "metadata": {},
   "outputs": [],
   "source": [
    "# Function to append an element to the list\n",
    "\n",
    "def add_element(data_structure, element):\n",
    "    data_structure.append(element)"
   ]
  },
  {
   "cell_type": "markdown",
   "id": "e9e64d54",
   "metadata": {},
   "source": [
    "**Function to remove an element**\n",
    "-remove_element- define a function that takes two parameters.\n",
    "\n",
    "-data_structure- This parameter represents the list to which you want to remove an element.\n",
    "\n",
    "-element- This parameter represents the element you want to remove to the list.\n",
    "\n",
    "-conditional statements- using the else statement, a string will be printed if the element is not found in the list."
   ]
  },
  {
   "cell_type": "code",
   "execution_count": null,
   "id": "03a99ea9",
   "metadata": {},
   "outputs": [],
   "source": [
    "# Function to remove an element from the list\n",
    "\n",
    "def remove_element(data_structure, element):\n",
    "    if element in data_structure:\n",
    "        data_structure.remove(element)\n",
    "    else:\n",
    "        print(f\"{element} not found in the list.\")"
   ]
  },
  {
   "cell_type": "markdown",
   "id": "6ea58420",
   "metadata": {},
   "source": [
    "**Add elements to list**\n",
    "Use the -add_element- function to add three elements (10, 20, and 30) to the my_list."
   ]
  },
  {
   "cell_type": "code",
   "execution_count": null,
   "id": "7ed81a22",
   "metadata": {},
   "outputs": [],
   "source": [
    "# Add elements to the list using the add_element function\n",
    "\n",
    "add_element(my_list, 10)\n",
    "add_element(my_list, 20)\n",
    "add_element(my_list, 30)"
   ]
  },
  {
   "cell_type": "markdown",
   "id": "2c47818b",
   "metadata": {},
   "source": [
    "**Remove elements from the list**\n",
    "Use the -remove_element- function to remove elements from the my_list. "
   ]
  },
  {
   "cell_type": "code",
   "execution_count": null,
   "id": "a6c57013",
   "metadata": {},
   "outputs": [],
   "source": [
    "# Remove an element from the list using the remove_element function\n",
    "\n",
    "remove_element(my_list, 10)\n",
    "remove_element(my_list, 50)  # Conditional statement. This will print a message since 50 is not in the list"
   ]
  },
  {
   "cell_type": "markdown",
   "id": "8e24e061",
   "metadata": {},
   "source": [
    "##### Modifying Dictionaries\n",
    "\n",
    "**add_to_dict** function takes 3 arguments. **my_dict** the dictionary where key-value pair will be added. **key** the key to be added, and **value** corresponding to key.\n",
    "\n",
    "**remove_from_dict** function takes 2 arguments. **my_dict** the dictionary wherein the key to be removed. If the condition is true, the **del** statement is performed which removes the key-value pair from the **my_dict.** If the key is not found, it prints a message indicating that the key was not found."
   ]
  },
  {
   "cell_type": "code",
   "execution_count": null,
   "id": "9594b948",
   "metadata": {},
   "outputs": [],
   "source": [
    "# Function to add a key-value pair to a dictionary\n",
    "def add_to_dict(my_dict, key, value):\n",
    "    my_dict[key] = value\n",
    "\n",
    "# Function to remove a key-value pair from a dictionary\n",
    "def remove_from_dict(my_dict, key):\n",
    "    if key in my_dict:\n",
    "        del my_dict[key]\n",
    "    else:\n",
    "        print(f\"{key} not found in the dictionary.\")\n",
    "\n",
    "# Example:\n",
    "my_dict = {'a': 1, 'b': 2, 'c': 3}\n",
    "add_to_dict(my_dict, 'd', 4)\n",
    "print(my_dict)  # Output: {'a': 1, 'b': 2, 'c': 3, 'd': 4}\n",
    "\n",
    "remove_from_dict(my_dict, 'b')\n",
    "print(my_dict)  # Output: {'a': 1, 'c': 3, 'd': 4}"
   ]
  },
  {
   "cell_type": "markdown",
   "id": "5ad5ff12",
   "metadata": {},
   "source": [
    "##### Modifying Sets\n",
    "\n",
    "**add_to_set** function adds an element to the given set using the add method. It takes two parameters: **my_set**, which the element will be added, and **element**, the element to add.\n",
    "\n",
    "**remove_from_set** function removes an element from the set if it exists in the set. It checks if the element is present in the set using the **in** operator. If it is, it removes the element using the **remove** method. If the element is not found using the **else** statement, it prints a message indicating that the element was not found in the set.\n"
   ]
  },
  {
   "cell_type": "code",
   "execution_count": null,
   "id": "8a2364a3",
   "metadata": {},
   "outputs": [],
   "source": [
    "# Function to add an element to a set\n",
    "def add_to_set(my_set, element):\n",
    "    my_set.add(element)\n",
    "    \n",
    "# Function to remove an element from a set\n",
    "def remove_from_set(my_set, element):\n",
    "    if element in my_set:\n",
    "        my_set.remove(element)\n",
    "    else:\n",
    "        print(f'{element} not found in the set.')\n",
    "        \n",
    "\n",
    "# Example:\n",
    "my_set = {1, 2, 3, 4}\n",
    "add_to_set(my_set, 5, 6)\n",
    "print(my_set)\n",
    "# output: {1, 2, 3, 4, 5, 6}\n",
    "\n",
    "remove_from_set{my_set, 2}\n",
    "print(my_set)\n",
    "# output: {1, 3, 4, 5, 6}"
   ]
  }
 ],
 "metadata": {
  "kernelspec": {
   "display_name": "Python 3 (ipykernel)",
   "language": "python",
   "name": "python3"
  },
  "language_info": {
   "codemirror_mode": {
    "name": "ipython",
    "version": 3
   },
   "file_extension": ".py",
   "mimetype": "text/x-python",
   "name": "python",
   "nbconvert_exporter": "python",
   "pygments_lexer": "ipython3",
   "version": "3.11.4"
  }
 },
 "nbformat": 4,
 "nbformat_minor": 5
}
