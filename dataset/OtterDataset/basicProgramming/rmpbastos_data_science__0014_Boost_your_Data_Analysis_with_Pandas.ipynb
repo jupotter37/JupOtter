{
  "nbformat": 4,
  "nbformat_minor": 0,
  "metadata": {
    "colab": {
      "name": "#0014 -Boost your Data Analysis with Pandas.ipynb",
      "provenance": [],
      "collapsed_sections": [],
      "authorship_tag": "ABX9TyPF5a1o0nQYaz36BpZjvui+",
      "include_colab_link": true
    },
    "kernelspec": {
      "name": "python3",
      "display_name": "Python 3"
    },
    "language_info": {
      "name": "python"
    }
  },
  "cells": [
    {
      "cell_type": "markdown",
      "metadata": {
        "id": "view-in-github",
        "colab_type": "text"
      },
      "source": [
        "<a href=\"https://colab.research.google.com/github/rmpbastos/data_science/blob/master/_0014_Boost_your_Data_Analysis_with_Pandas.ipynb\" target=\"_parent\"><img src=\"https://colab.research.google.com/assets/colab-badge.svg\" alt=\"Open In Colab\"/></a>"
      ]
    },
    {
      "cell_type": "markdown",
      "metadata": {
        "id": "QRVEK8h_fr3P"
      },
      "source": [
        "# Boost your Data Analysis with Pandas\n",
        "\n",
        "### Everything you need to know to start increasing your productivity with code examples\n",
        "\n",
        "\n",
        "---\n",
        "![Panda](https://raw.githubusercontent.com/rmpbastos/data_science/master/img/%230014/vince-russell-kMyAy2IYlbU-unsplash.jpg)\n",
        "\n",
        "Whether you are building complex Machine Learning models or you just want to organize your monthly budget in an Excel spreadsheet, you must know how to manipulate and analyze your data.\n",
        "\n",
        "While many tools can get the job done, today we're going to talk about one of the most used and beginner-friendly of them all, [**Pandas**](https://pandas.pydata.org/).\n"
      ]
    },
    {
      "cell_type": "markdown",
      "metadata": {
        "id": "sT3RUeeugMcJ"
      },
      "source": [
        "## Why use Pandas?\n",
        "\n",
        "**Pandas** is an open-source Python library designed to deal with data analysis and data manipulation. Citing the [official website](https://pandas.pydata.org/),\n",
        "\n",
        "**\"pandas is a fast, powerful, flexible and easy to use open source data analysis and manipulation tool,\n",
        "built on top of the Python programming language.\"**\n",
        "\n",
        "It is built on top of [NumPy](https://numpy.org/) (a Python library for scientific computing) and it has several functions for cleaning, analyzing, and manipulating data, which can help you extract valuable insights about your data set. *Pandas* is great for working with tabular data, as in SQL tables or Excel spreadsheets.\n",
        "\n",
        "The main data structure in *Pandas* is a 2-dimensional table called **DataFrame**. To create a DataFrame, you can import data in several formats, such as *CSV*, *XLSX*, *JSON*, *SQL*, to name a few. With some lines of code, you can add, delete, or edit data in your rows/columns, check your set's statistics, identify and handle missing entries, etc.\n",
        "\n",
        "Besides, as stated above, *Pandas* is widely used and friendly for beginners, which means you'll find a lot of content online about it and it shouldn't be hard to find answers to your questions.  \n",
        "\n"
      ]
    },
    {
      "cell_type": "markdown",
      "metadata": {
        "id": "7hyAwQ9aI4jY"
      },
      "source": [
        "## Getting started\n",
        "\n",
        "First of all, we need to install *Pandas* and there are several different environments where you can run it. If you want to run it directly in your machine, you should take a look at [Anaconda](https://www.anaconda.com/), a distribution aimed at scientific computing that comes with hundreds of pre-installed packages. Anaconda can be installed in Windows, macOS, and Linux.\n",
        "\n",
        "However, there is an easier way to get started with *Pandas* through your browser, using a [Jupyter Notebook](https://jupyter.org/) in the cloud. For instance, you could use [IBM Watson Studio](https://www.ibm.com/cloud/watson-studio) or [Google Colab](https://colab.research.google.com/). Both can be used for free and come with several Python packages pre-installed.\n",
        "\n",
        "In this article, I am using **Google Colab** because it is really easy to use out of the box and doesn't require any previous setups.\n",
        "\n",
        "\n"
      ]
    },
    {
      "cell_type": "markdown",
      "metadata": {
        "id": "iuXpRDS8I-ki"
      },
      "source": [
        "### Installing and importing Pandas\n",
        "\n",
        "To install *Pandas*, you need to write the following command in your environment, depending on your package manager."
      ]
    },
    {
      "cell_type": "code",
      "metadata": {
        "colab": {
          "base_uri": "https://localhost:8080/"
        },
        "id": "j_s6aR8SmU1E",
        "outputId": "32196f90-bc22-4792-95bc-bfe5ce15ab4d"
      },
      "source": [
        "pip install pandas"
      ],
      "execution_count": null,
      "outputs": [
        {
          "output_type": "stream",
          "text": [
            "Requirement already satisfied: pandas in /usr/local/lib/python3.7/dist-packages (1.1.5)\n",
            "Requirement already satisfied: python-dateutil>=2.7.3 in /usr/local/lib/python3.7/dist-packages (from pandas) (2.8.2)\n",
            "Requirement already satisfied: numpy>=1.15.4 in /usr/local/lib/python3.7/dist-packages (from pandas) (1.19.5)\n",
            "Requirement already satisfied: pytz>=2017.2 in /usr/local/lib/python3.7/dist-packages (from pandas) (2018.9)\n",
            "Requirement already satisfied: six>=1.5 in /usr/local/lib/python3.7/dist-packages (from python-dateutil>=2.7.3->pandas) (1.15.0)\n"
          ],
          "name": "stdout"
        }
      ]
    },
    {
      "cell_type": "markdown",
      "metadata": {
        "id": "y7Zwc6DDmblo"
      },
      "source": [
        "or"
      ]
    },
    {
      "cell_type": "code",
      "metadata": {
        "id": "zeGIrPWQmap6"
      },
      "source": [
        "conda install pandas"
      ],
      "execution_count": null,
      "outputs": []
    },
    {
      "cell_type": "markdown",
      "metadata": {
        "id": "djMhqCQQmiXv"
      },
      "source": [
        "Please notice that in Google Colab we don't need to use the code above, since *Pandas* comes pre-installed.\n",
        "\n",
        "Now, we need to import *Pandas*, so we can use it in our Jupyter Notebook."
      ]
    },
    {
      "cell_type": "code",
      "metadata": {
        "id": "ej5FaL9TnSjJ"
      },
      "source": [
        "import pandas as pd"
      ],
      "execution_count": 47,
      "outputs": []
    },
    {
      "cell_type": "markdown",
      "metadata": {
        "id": "88agdEXAnWb0"
      },
      "source": [
        "We commonly import it \"as pd\" as a shortcut, so we don't need to write the full word every time we need to call a *Pandas* function."
      ]
    },
    {
      "cell_type": "markdown",
      "metadata": {
        "id": "qO0vcbfWJMiy"
      },
      "source": [
        "## Pandas DataFrame\n",
        "\n",
        "After installing and importing *Pandas*, let's see how we can read a file and create a **Pandas DataFrame**. The data set we'll be working on in this article is a simplified version of a set provided in a [Kaggle competition](https://www.kaggle.com/c/home-data-for-ml-course/overview) about housing prices.\n",
        "\n",
        "The file that contains this data set is a **.CSV** (Comma-separated values). If you want to play with it yourself, you can find it [here](https://raw.githubusercontent.com/rmpbastos/data_sets/main/kaggle_housing/house_df.csv), in my Github repository."
      ]
    },
    {
      "cell_type": "markdown",
      "metadata": {
        "id": "28tsmvJFEDkV"
      },
      "source": [
        "### Reading files and creating a DataFrame\n",
        "\n",
        "To read the file into a DataFrame, we just need to input the file path as an argument in the function below:"
      ]
    },
    {
      "cell_type": "code",
      "metadata": {
        "id": "_BNrJgG8kgff"
      },
      "source": [
        "PATH = 'https://raw.githubusercontent.com/rmpbastos/data_sets/main/kaggle_housing/house_df.csv'\n",
        "df = pd.read_csv(PATH)"
      ],
      "execution_count": 48,
      "outputs": []
    },
    {
      "cell_type": "markdown",
      "metadata": {
        "id": "O5griR-xELJE"
      },
      "source": [
        "Notice that I used the function *read_csv* because we are working with a *csv* file. As mentioned above, Pandas can handle several file extensions, as you can check [here](https://pandas.pydata.org/pandas-docs/stable/user_guide/io.html).\n",
        "\n",
        "The function above read the *csv* file and automatically created a DataFame from it. But if you want to create a DataFrame from a Python **Dict**, **List**, **NumPy Array**, or even from another **DataFrame**, you may use the function below."
      ]
    },
    {
      "cell_type": "code",
      "metadata": {
        "id": "4r-c7Dnw-ukE"
      },
      "source": [
        "df = pd.DataFrame(mydict)"
      ],
      "execution_count": null,
      "outputs": []
    },
    {
      "cell_type": "markdown",
      "metadata": {
        "id": "GrmD-qgUJpTO"
      },
      "source": [
        "Let's check the type of the DataFrame we just created."
      ]
    },
    {
      "cell_type": "code",
      "metadata": {
        "colab": {
          "base_uri": "https://localhost:8080/"
        },
        "id": "H8jMlNnvJzZj",
        "outputId": "6913e57c-1f9c-4130-942b-c7b53ee094c0"
      },
      "source": [
        "type(df)"
      ],
      "execution_count": null,
      "outputs": [
        {
          "output_type": "execute_result",
          "data": {
            "text/plain": [
              "pandas.core.frame.DataFrame"
            ]
          },
          "metadata": {},
          "execution_count": 3
        }
      ]
    },
    {
      "cell_type": "markdown",
      "metadata": {
        "id": "cwIm_69XJ_P9"
      },
      "source": [
        "## Examining the DataFrame\n",
        "\n",
        "For the rest of this article, we'll be working with the housing data set mentioned above. The next thing we should do is taking a look at our DataFrame. We can check the first *n* entries with the function *head*. If *n* is not provided, we'll see the first 5 rows as default."
      ]
    },
    {
      "cell_type": "code",
      "metadata": {
        "colab": {
          "base_uri": "https://localhost:8080/",
          "height": 224
        },
        "id": "8V3accdwKi74",
        "outputId": "f3bf1410-8137-4bd0-c8d4-ebad3687cc2d"
      },
      "source": [
        "df.head()"
      ],
      "execution_count": 3,
      "outputs": [
        {
          "output_type": "execute_result",
          "data": {
            "text/html": [
              "<div>\n",
              "<style scoped>\n",
              "    .dataframe tbody tr th:only-of-type {\n",
              "        vertical-align: middle;\n",
              "    }\n",
              "\n",
              "    .dataframe tbody tr th {\n",
              "        vertical-align: top;\n",
              "    }\n",
              "\n",
              "    .dataframe thead th {\n",
              "        text-align: right;\n",
              "    }\n",
              "</style>\n",
              "<table border=\"1\" class=\"dataframe\">\n",
              "  <thead>\n",
              "    <tr style=\"text-align: right;\">\n",
              "      <th></th>\n",
              "      <th>Id</th>\n",
              "      <th>LotArea</th>\n",
              "      <th>Street</th>\n",
              "      <th>Neighborhood</th>\n",
              "      <th>HouseStyle</th>\n",
              "      <th>YearBuilt</th>\n",
              "      <th>CentralAir</th>\n",
              "      <th>BedroomAbvGr</th>\n",
              "      <th>Fireplaces</th>\n",
              "      <th>GarageType</th>\n",
              "      <th>GarageYrBlt</th>\n",
              "      <th>GarageArea</th>\n",
              "      <th>PoolArea</th>\n",
              "      <th>PoolQC</th>\n",
              "      <th>Fence</th>\n",
              "      <th>SalePrice</th>\n",
              "    </tr>\n",
              "  </thead>\n",
              "  <tbody>\n",
              "    <tr>\n",
              "      <th>0</th>\n",
              "      <td>1</td>\n",
              "      <td>8450</td>\n",
              "      <td>Pave</td>\n",
              "      <td>CollgCr</td>\n",
              "      <td>2Story</td>\n",
              "      <td>2003</td>\n",
              "      <td>Y</td>\n",
              "      <td>3</td>\n",
              "      <td>0</td>\n",
              "      <td>Attchd</td>\n",
              "      <td>2003.0</td>\n",
              "      <td>548</td>\n",
              "      <td>0</td>\n",
              "      <td>NaN</td>\n",
              "      <td>NaN</td>\n",
              "      <td>208500</td>\n",
              "    </tr>\n",
              "    <tr>\n",
              "      <th>1</th>\n",
              "      <td>2</td>\n",
              "      <td>9600</td>\n",
              "      <td>Pave</td>\n",
              "      <td>Veenker</td>\n",
              "      <td>1Story</td>\n",
              "      <td>1976</td>\n",
              "      <td>Y</td>\n",
              "      <td>3</td>\n",
              "      <td>1</td>\n",
              "      <td>Attchd</td>\n",
              "      <td>1976.0</td>\n",
              "      <td>460</td>\n",
              "      <td>0</td>\n",
              "      <td>NaN</td>\n",
              "      <td>NaN</td>\n",
              "      <td>181500</td>\n",
              "    </tr>\n",
              "    <tr>\n",
              "      <th>2</th>\n",
              "      <td>3</td>\n",
              "      <td>11250</td>\n",
              "      <td>Pave</td>\n",
              "      <td>CollgCr</td>\n",
              "      <td>2Story</td>\n",
              "      <td>2001</td>\n",
              "      <td>Y</td>\n",
              "      <td>3</td>\n",
              "      <td>1</td>\n",
              "      <td>Attchd</td>\n",
              "      <td>2001.0</td>\n",
              "      <td>608</td>\n",
              "      <td>0</td>\n",
              "      <td>NaN</td>\n",
              "      <td>NaN</td>\n",
              "      <td>223500</td>\n",
              "    </tr>\n",
              "    <tr>\n",
              "      <th>3</th>\n",
              "      <td>4</td>\n",
              "      <td>9550</td>\n",
              "      <td>Pave</td>\n",
              "      <td>Crawfor</td>\n",
              "      <td>2Story</td>\n",
              "      <td>1915</td>\n",
              "      <td>Y</td>\n",
              "      <td>3</td>\n",
              "      <td>1</td>\n",
              "      <td>Detchd</td>\n",
              "      <td>1998.0</td>\n",
              "      <td>642</td>\n",
              "      <td>0</td>\n",
              "      <td>NaN</td>\n",
              "      <td>NaN</td>\n",
              "      <td>140000</td>\n",
              "    </tr>\n",
              "    <tr>\n",
              "      <th>4</th>\n",
              "      <td>5</td>\n",
              "      <td>14260</td>\n",
              "      <td>Pave</td>\n",
              "      <td>NoRidge</td>\n",
              "      <td>2Story</td>\n",
              "      <td>2000</td>\n",
              "      <td>Y</td>\n",
              "      <td>4</td>\n",
              "      <td>1</td>\n",
              "      <td>Attchd</td>\n",
              "      <td>2000.0</td>\n",
              "      <td>836</td>\n",
              "      <td>0</td>\n",
              "      <td>NaN</td>\n",
              "      <td>NaN</td>\n",
              "      <td>250000</td>\n",
              "    </tr>\n",
              "  </tbody>\n",
              "</table>\n",
              "</div>"
            ],
            "text/plain": [
              "   Id  LotArea Street Neighborhood  ... PoolArea  PoolQC Fence  SalePrice\n",
              "0   1     8450   Pave      CollgCr  ...        0     NaN   NaN     208500\n",
              "1   2     9600   Pave      Veenker  ...        0     NaN   NaN     181500\n",
              "2   3    11250   Pave      CollgCr  ...        0     NaN   NaN     223500\n",
              "3   4     9550   Pave      Crawfor  ...        0     NaN   NaN     140000\n",
              "4   5    14260   Pave      NoRidge  ...        0     NaN   NaN     250000\n",
              "\n",
              "[5 rows x 16 columns]"
            ]
          },
          "metadata": {},
          "execution_count": 3
        }
      ]
    },
    {
      "cell_type": "markdown",
      "metadata": {
        "id": "XWRObauJKnBG"
      },
      "source": [
        "At first glance, everything looks fine. We can also check the last entries of the set with *tail*."
      ]
    },
    {
      "cell_type": "code",
      "metadata": {
        "colab": {
          "base_uri": "https://localhost:8080/",
          "height": 224
        },
        "id": "xV-vK8fFKxmN",
        "outputId": "fb0984fc-b15f-4020-f941-a2551fc36866"
      },
      "source": [
        "df.tail()"
      ],
      "execution_count": 4,
      "outputs": [
        {
          "output_type": "execute_result",
          "data": {
            "text/html": [
              "<div>\n",
              "<style scoped>\n",
              "    .dataframe tbody tr th:only-of-type {\n",
              "        vertical-align: middle;\n",
              "    }\n",
              "\n",
              "    .dataframe tbody tr th {\n",
              "        vertical-align: top;\n",
              "    }\n",
              "\n",
              "    .dataframe thead th {\n",
              "        text-align: right;\n",
              "    }\n",
              "</style>\n",
              "<table border=\"1\" class=\"dataframe\">\n",
              "  <thead>\n",
              "    <tr style=\"text-align: right;\">\n",
              "      <th></th>\n",
              "      <th>Id</th>\n",
              "      <th>LotArea</th>\n",
              "      <th>Street</th>\n",
              "      <th>Neighborhood</th>\n",
              "      <th>HouseStyle</th>\n",
              "      <th>YearBuilt</th>\n",
              "      <th>CentralAir</th>\n",
              "      <th>BedroomAbvGr</th>\n",
              "      <th>Fireplaces</th>\n",
              "      <th>GarageType</th>\n",
              "      <th>GarageYrBlt</th>\n",
              "      <th>GarageArea</th>\n",
              "      <th>PoolArea</th>\n",
              "      <th>PoolQC</th>\n",
              "      <th>Fence</th>\n",
              "      <th>SalePrice</th>\n",
              "    </tr>\n",
              "  </thead>\n",
              "  <tbody>\n",
              "    <tr>\n",
              "      <th>1455</th>\n",
              "      <td>1456</td>\n",
              "      <td>7917</td>\n",
              "      <td>Pave</td>\n",
              "      <td>Gilbert</td>\n",
              "      <td>2Story</td>\n",
              "      <td>1999</td>\n",
              "      <td>Y</td>\n",
              "      <td>3</td>\n",
              "      <td>1</td>\n",
              "      <td>Attchd</td>\n",
              "      <td>1999.0</td>\n",
              "      <td>460</td>\n",
              "      <td>0</td>\n",
              "      <td>NaN</td>\n",
              "      <td>NaN</td>\n",
              "      <td>175000</td>\n",
              "    </tr>\n",
              "    <tr>\n",
              "      <th>1456</th>\n",
              "      <td>1457</td>\n",
              "      <td>13175</td>\n",
              "      <td>Pave</td>\n",
              "      <td>NWAmes</td>\n",
              "      <td>1Story</td>\n",
              "      <td>1978</td>\n",
              "      <td>Y</td>\n",
              "      <td>3</td>\n",
              "      <td>2</td>\n",
              "      <td>Attchd</td>\n",
              "      <td>1978.0</td>\n",
              "      <td>500</td>\n",
              "      <td>0</td>\n",
              "      <td>NaN</td>\n",
              "      <td>MnPrv</td>\n",
              "      <td>210000</td>\n",
              "    </tr>\n",
              "    <tr>\n",
              "      <th>1457</th>\n",
              "      <td>1458</td>\n",
              "      <td>9042</td>\n",
              "      <td>Pave</td>\n",
              "      <td>Crawfor</td>\n",
              "      <td>2Story</td>\n",
              "      <td>1941</td>\n",
              "      <td>Y</td>\n",
              "      <td>4</td>\n",
              "      <td>2</td>\n",
              "      <td>Attchd</td>\n",
              "      <td>1941.0</td>\n",
              "      <td>252</td>\n",
              "      <td>0</td>\n",
              "      <td>NaN</td>\n",
              "      <td>GdPrv</td>\n",
              "      <td>266500</td>\n",
              "    </tr>\n",
              "    <tr>\n",
              "      <th>1458</th>\n",
              "      <td>1459</td>\n",
              "      <td>9717</td>\n",
              "      <td>Pave</td>\n",
              "      <td>NAmes</td>\n",
              "      <td>1Story</td>\n",
              "      <td>1950</td>\n",
              "      <td>Y</td>\n",
              "      <td>2</td>\n",
              "      <td>0</td>\n",
              "      <td>Attchd</td>\n",
              "      <td>1950.0</td>\n",
              "      <td>240</td>\n",
              "      <td>0</td>\n",
              "      <td>NaN</td>\n",
              "      <td>NaN</td>\n",
              "      <td>142125</td>\n",
              "    </tr>\n",
              "    <tr>\n",
              "      <th>1459</th>\n",
              "      <td>1460</td>\n",
              "      <td>9937</td>\n",
              "      <td>Pave</td>\n",
              "      <td>Edwards</td>\n",
              "      <td>1Story</td>\n",
              "      <td>1965</td>\n",
              "      <td>Y</td>\n",
              "      <td>3</td>\n",
              "      <td>0</td>\n",
              "      <td>Attchd</td>\n",
              "      <td>1965.0</td>\n",
              "      <td>276</td>\n",
              "      <td>0</td>\n",
              "      <td>NaN</td>\n",
              "      <td>NaN</td>\n",
              "      <td>147500</td>\n",
              "    </tr>\n",
              "  </tbody>\n",
              "</table>\n",
              "</div>"
            ],
            "text/plain": [
              "        Id  LotArea Street Neighborhood  ... PoolArea  PoolQC  Fence  SalePrice\n",
              "1455  1456     7917   Pave      Gilbert  ...        0     NaN    NaN     175000\n",
              "1456  1457    13175   Pave       NWAmes  ...        0     NaN  MnPrv     210000\n",
              "1457  1458     9042   Pave      Crawfor  ...        0     NaN  GdPrv     266500\n",
              "1458  1459     9717   Pave        NAmes  ...        0     NaN    NaN     142125\n",
              "1459  1460     9937   Pave      Edwards  ...        0     NaN    NaN     147500\n",
              "\n",
              "[5 rows x 16 columns]"
            ]
          },
          "metadata": {},
          "execution_count": 4
        }
      ]
    },
    {
      "cell_type": "markdown",
      "metadata": {
        "id": "TAyYe0OvZ3-L"
      },
      "source": [
        "Next, let's check the dimensions of our data using the *shape* attribute."
      ]
    },
    {
      "cell_type": "code",
      "metadata": {
        "colab": {
          "base_uri": "https://localhost:8080/"
        },
        "id": "Emyw2V2Rw1qZ",
        "outputId": "f991ee14-a334-46d9-be38-cc5bde33f285"
      },
      "source": [
        "df.shape"
      ],
      "execution_count": 5,
      "outputs": [
        {
          "output_type": "execute_result",
          "data": {
            "text/plain": [
              "(1460, 16)"
            ]
          },
          "metadata": {},
          "execution_count": 5
        }
      ]
    },
    {
      "cell_type": "markdown",
      "metadata": {
        "id": "h4ydwYnnw4Za"
      },
      "source": [
        "It returns a tuple with the number of rows and columns. Our DataFrame has 1,460 rows and 16 columns, or features.\n",
        "\n",
        "Moving on, we can view a summary of the data set with the function *info*."
      ]
    },
    {
      "cell_type": "code",
      "metadata": {
        "colab": {
          "base_uri": "https://localhost:8080/"
        },
        "id": "QrDZWwSvxTCj",
        "outputId": "770e1695-b8b0-4fa2-d782-68f321233c1f"
      },
      "source": [
        "df.info()"
      ],
      "execution_count": 6,
      "outputs": [
        {
          "output_type": "stream",
          "text": [
            "<class 'pandas.core.frame.DataFrame'>\n",
            "RangeIndex: 1460 entries, 0 to 1459\n",
            "Data columns (total 16 columns):\n",
            " #   Column        Non-Null Count  Dtype  \n",
            "---  ------        --------------  -----  \n",
            " 0   Id            1460 non-null   int64  \n",
            " 1   LotArea       1460 non-null   int64  \n",
            " 2   Street        1460 non-null   object \n",
            " 3   Neighborhood  1460 non-null   object \n",
            " 4   HouseStyle    1460 non-null   object \n",
            " 5   YearBuilt     1460 non-null   int64  \n",
            " 6   CentralAir    1460 non-null   object \n",
            " 7   BedroomAbvGr  1460 non-null   int64  \n",
            " 8   Fireplaces    1460 non-null   int64  \n",
            " 9   GarageType    1379 non-null   object \n",
            " 10  GarageYrBlt   1379 non-null   float64\n",
            " 11  GarageArea    1460 non-null   int64  \n",
            " 12  PoolArea      1460 non-null   int64  \n",
            " 13  PoolQC        7 non-null      object \n",
            " 14  Fence         281 non-null    object \n",
            " 15  SalePrice     1460 non-null   int64  \n",
            "dtypes: float64(1), int64(8), object(7)\n",
            "memory usage: 182.6+ KB\n"
          ],
          "name": "stdout"
        }
      ]
    },
    {
      "cell_type": "markdown",
      "metadata": {
        "id": "RnFbDLwSyCy_"
      },
      "source": [
        "It shows us useful information about the DataFrame, such as column names, non-null values, dtypes, and memory usage. From this summary, we can observe that some columns have missing values, a topic we'll see later.\n",
        "\n",
        "The following function will give us some descriptive statistics about the dataset.\n"
      ]
    },
    {
      "cell_type": "code",
      "metadata": {
        "colab": {
          "base_uri": "https://localhost:8080/",
          "height": 317
        },
        "id": "NidlTByCzOQ4",
        "outputId": "7d96a43a-85b5-4e8b-ba27-16e8cac947e6"
      },
      "source": [
        "df.describe()"
      ],
      "execution_count": 7,
      "outputs": [
        {
          "output_type": "execute_result",
          "data": {
            "text/html": [
              "<div>\n",
              "<style scoped>\n",
              "    .dataframe tbody tr th:only-of-type {\n",
              "        vertical-align: middle;\n",
              "    }\n",
              "\n",
              "    .dataframe tbody tr th {\n",
              "        vertical-align: top;\n",
              "    }\n",
              "\n",
              "    .dataframe thead th {\n",
              "        text-align: right;\n",
              "    }\n",
              "</style>\n",
              "<table border=\"1\" class=\"dataframe\">\n",
              "  <thead>\n",
              "    <tr style=\"text-align: right;\">\n",
              "      <th></th>\n",
              "      <th>Id</th>\n",
              "      <th>LotArea</th>\n",
              "      <th>YearBuilt</th>\n",
              "      <th>BedroomAbvGr</th>\n",
              "      <th>Fireplaces</th>\n",
              "      <th>GarageYrBlt</th>\n",
              "      <th>GarageArea</th>\n",
              "      <th>PoolArea</th>\n",
              "      <th>SalePrice</th>\n",
              "    </tr>\n",
              "  </thead>\n",
              "  <tbody>\n",
              "    <tr>\n",
              "      <th>count</th>\n",
              "      <td>1460.000000</td>\n",
              "      <td>1460.000000</td>\n",
              "      <td>1460.000000</td>\n",
              "      <td>1460.000000</td>\n",
              "      <td>1460.000000</td>\n",
              "      <td>1379.000000</td>\n",
              "      <td>1460.000000</td>\n",
              "      <td>1460.000000</td>\n",
              "      <td>1460.000000</td>\n",
              "    </tr>\n",
              "    <tr>\n",
              "      <th>mean</th>\n",
              "      <td>730.500000</td>\n",
              "      <td>10516.828082</td>\n",
              "      <td>1971.267808</td>\n",
              "      <td>2.866438</td>\n",
              "      <td>0.613014</td>\n",
              "      <td>1978.506164</td>\n",
              "      <td>472.980137</td>\n",
              "      <td>2.758904</td>\n",
              "      <td>180921.195890</td>\n",
              "    </tr>\n",
              "    <tr>\n",
              "      <th>std</th>\n",
              "      <td>421.610009</td>\n",
              "      <td>9981.264932</td>\n",
              "      <td>30.202904</td>\n",
              "      <td>0.815778</td>\n",
              "      <td>0.644666</td>\n",
              "      <td>24.689725</td>\n",
              "      <td>213.804841</td>\n",
              "      <td>40.177307</td>\n",
              "      <td>79442.502883</td>\n",
              "    </tr>\n",
              "    <tr>\n",
              "      <th>min</th>\n",
              "      <td>1.000000</td>\n",
              "      <td>1300.000000</td>\n",
              "      <td>1872.000000</td>\n",
              "      <td>0.000000</td>\n",
              "      <td>0.000000</td>\n",
              "      <td>1900.000000</td>\n",
              "      <td>0.000000</td>\n",
              "      <td>0.000000</td>\n",
              "      <td>34900.000000</td>\n",
              "    </tr>\n",
              "    <tr>\n",
              "      <th>25%</th>\n",
              "      <td>365.750000</td>\n",
              "      <td>7553.500000</td>\n",
              "      <td>1954.000000</td>\n",
              "      <td>2.000000</td>\n",
              "      <td>0.000000</td>\n",
              "      <td>1961.000000</td>\n",
              "      <td>334.500000</td>\n",
              "      <td>0.000000</td>\n",
              "      <td>129975.000000</td>\n",
              "    </tr>\n",
              "    <tr>\n",
              "      <th>50%</th>\n",
              "      <td>730.500000</td>\n",
              "      <td>9478.500000</td>\n",
              "      <td>1973.000000</td>\n",
              "      <td>3.000000</td>\n",
              "      <td>1.000000</td>\n",
              "      <td>1980.000000</td>\n",
              "      <td>480.000000</td>\n",
              "      <td>0.000000</td>\n",
              "      <td>163000.000000</td>\n",
              "    </tr>\n",
              "    <tr>\n",
              "      <th>75%</th>\n",
              "      <td>1095.250000</td>\n",
              "      <td>11601.500000</td>\n",
              "      <td>2000.000000</td>\n",
              "      <td>3.000000</td>\n",
              "      <td>1.000000</td>\n",
              "      <td>2002.000000</td>\n",
              "      <td>576.000000</td>\n",
              "      <td>0.000000</td>\n",
              "      <td>214000.000000</td>\n",
              "    </tr>\n",
              "    <tr>\n",
              "      <th>max</th>\n",
              "      <td>1460.000000</td>\n",
              "      <td>215245.000000</td>\n",
              "      <td>2010.000000</td>\n",
              "      <td>8.000000</td>\n",
              "      <td>3.000000</td>\n",
              "      <td>2010.000000</td>\n",
              "      <td>1418.000000</td>\n",
              "      <td>738.000000</td>\n",
              "      <td>755000.000000</td>\n",
              "    </tr>\n",
              "  </tbody>\n",
              "</table>\n",
              "</div>"
            ],
            "text/plain": [
              "                Id        LotArea  ...     PoolArea      SalePrice\n",
              "count  1460.000000    1460.000000  ...  1460.000000    1460.000000\n",
              "mean    730.500000   10516.828082  ...     2.758904  180921.195890\n",
              "std     421.610009    9981.264932  ...    40.177307   79442.502883\n",
              "min       1.000000    1300.000000  ...     0.000000   34900.000000\n",
              "25%     365.750000    7553.500000  ...     0.000000  129975.000000\n",
              "50%     730.500000    9478.500000  ...     0.000000  163000.000000\n",
              "75%    1095.250000   11601.500000  ...     0.000000  214000.000000\n",
              "max    1460.000000  215245.000000  ...   738.000000  755000.000000\n",
              "\n",
              "[8 rows x 9 columns]"
            ]
          },
          "metadata": {},
          "execution_count": 7
        }
      ]
    },
    {
      "cell_type": "markdown",
      "metadata": {
        "id": "P-rkBYis08rO"
      },
      "source": [
        "This function displays the count, mean, median, standard deviation, and the upper and lower quartiles, as well as the minimum and maximum values for each feature. Notice that it only shows data about the numeric features (columns where the data type is int or float).\n",
        "\n"
      ]
    },
    {
      "cell_type": "markdown",
      "metadata": {
        "id": "tUgmq8iL8_Eu"
      },
      "source": [
        "In the sequence, let me show you one more function, *value_counts*, before moving on to the next section."
      ]
    },
    {
      "cell_type": "code",
      "metadata": {
        "colab": {
          "base_uri": "https://localhost:8080/"
        },
        "id": "qcCaKiIG9fWL",
        "outputId": "43ebf5e6-b983-4ac2-f954-1a40d9ab91c3"
      },
      "source": [
        "df['Neighborhood'].value_counts()"
      ],
      "execution_count": 8,
      "outputs": [
        {
          "output_type": "execute_result",
          "data": {
            "text/plain": [
              "NAmes      225\n",
              "CollgCr    150\n",
              "OldTown    113\n",
              "Edwards    100\n",
              "Somerst     86\n",
              "Gilbert     79\n",
              "NridgHt     77\n",
              "Sawyer      74\n",
              "NWAmes      73\n",
              "SawyerW     59\n",
              "BrkSide     58\n",
              "Crawfor     51\n",
              "Mitchel     49\n",
              "NoRidge     41\n",
              "Timber      38\n",
              "IDOTRR      37\n",
              "ClearCr     28\n",
              "SWISU       25\n",
              "StoneBr     25\n",
              "Blmngtn     17\n",
              "MeadowV     17\n",
              "BrDale      16\n",
              "Veenker     11\n",
              "NPkVill      9\n",
              "Blueste      2\n",
              "Name: Neighborhood, dtype: int64"
            ]
          },
          "metadata": {},
          "execution_count": 8
        }
      ]
    },
    {
      "cell_type": "markdown",
      "metadata": {
        "id": "j6cNK2SR9yFC"
      },
      "source": [
        "This function returns Series containing the number of unique values for each column. It can be applied to the whole DataFrame, but in the example above, we applied it only to the column \"Neighborhood\"."
      ]
    },
    {
      "cell_type": "markdown",
      "metadata": {
        "id": "qK-TVV_Y88p3"
      },
      "source": [
        "Before we move on, let me summarize each feature of the dataset, for a better understanding.\n",
        "\n",
        "*   *Id* - Unique identification for each row (we'll use it as our index).\n",
        "*   *LotArea* - Lot size in square feet\n",
        "*   *Street* - Type of road access\n",
        "*   *Neighborhood* - Physical location of the house\n",
        "*   *HouseStyle* - Style of residence\n",
        "*   *YearBuilt* - Construction date\n",
        "*   *CentralAir* - Central air conditioning\n",
        "*   *BedroomAbvGr* - Number of bedrooms above basement level\n",
        "*   *Fireplaces* - Number of fireplaces\n",
        "*   *GarageType* - Garage location\n",
        "*   *GarageYrBlt* - Year garage was built\n",
        "*   *GarageArea* - Size of garage in square feet\n",
        "*   *PoolArea* - Pool area in square feet\n",
        "*   *PoolQC* - Pool quality\n",
        "*   *Fence* - Fence quality\n",
        "*   *SalePrice* - House price\n",
        "\n",
        "Our dataset contains data of different types such as numerical, categorical, boolean, but we won't dive into these concepts, as they are out of scope here.\n",
        "\n",
        "Now, let's start manipulating our DataFrame."
      ]
    },
    {
      "cell_type": "markdown",
      "metadata": {
        "id": "WGzircRy7Q7l"
      },
      "source": [
        "## Manipulating data with Pandas\n",
        "\n",
        "*Pandas* provides us with several tools for handling data. In this section, we'll see how to manipulate rows and columns as well as locate and edit values in our table. Let's start setting an index for our DataFrame."
      ]
    },
    {
      "cell_type": "markdown",
      "metadata": {
        "id": "X6CafjHbLg8b"
      },
      "source": [
        "### DataFrame Index\n",
        "\n",
        "After checking our data, we noticed that the first column (**Id**) has a unique value for each row. We can take advantage of it and use this column as our index, in place of the index created by default when we set up the DataFrame."
      ]
    },
    {
      "cell_type": "code",
      "metadata": {
        "id": "OlHnybLXMl-G"
      },
      "source": [
        "df.set_index('Id', inplace=True)"
      ],
      "execution_count": 49,
      "outputs": []
    },
    {
      "cell_type": "code",
      "metadata": {
        "colab": {
          "base_uri": "https://localhost:8080/"
        },
        "id": "DBNfeuBpUTQv",
        "outputId": "e4dfcc98-32e5-448c-de02-bb8f764c6bcb"
      },
      "source": [
        "df.index"
      ],
      "execution_count": 10,
      "outputs": [
        {
          "output_type": "execute_result",
          "data": {
            "text/plain": [
              "Int64Index([   1,    2,    3,    4,    5,    6,    7,    8,    9,   10,\n",
              "            ...\n",
              "            1451, 1452, 1453, 1454, 1455, 1456, 1457, 1458, 1459, 1460],\n",
              "           dtype='int64', name='Id', length=1460)"
            ]
          },
          "metadata": {},
          "execution_count": 10
        }
      ]
    },
    {
      "cell_type": "markdown",
      "metadata": {
        "id": "P-JSj662NC1E"
      },
      "source": [
        "When setting the argument *inplace* as *True* the DataFrame will be updated in place. Otherwise, using *inplace = False*, which is the default value, would return a copy of the DataFrame.\n",
        "\n",
        "If you know beforehand that you are going to use a column in your data set as the index, you can set it up when reading the file, as below.\n",
        "\n"
      ]
    },
    {
      "cell_type": "code",
      "metadata": {
        "id": "yNtjOG4A-zIq"
      },
      "source": [
        "df = pd.read_csv(PATH, index_col='Id')"
      ],
      "execution_count": null,
      "outputs": []
    },
    {
      "cell_type": "markdown",
      "metadata": {
        "id": "zPXUbkLB-yPI"
      },
      "source": [
        "Let's check out how the set looks after setting the index."
      ]
    },
    {
      "cell_type": "code",
      "metadata": {
        "colab": {
          "base_uri": "https://localhost:8080/",
          "height": 255
        },
        "id": "Fm0D96uoMylF",
        "outputId": "0c6c9d10-4905-491f-9214-d3916f2e7a64"
      },
      "source": [
        "df.head()"
      ],
      "execution_count": 11,
      "outputs": [
        {
          "output_type": "execute_result",
          "data": {
            "text/html": [
              "<div>\n",
              "<style scoped>\n",
              "    .dataframe tbody tr th:only-of-type {\n",
              "        vertical-align: middle;\n",
              "    }\n",
              "\n",
              "    .dataframe tbody tr th {\n",
              "        vertical-align: top;\n",
              "    }\n",
              "\n",
              "    .dataframe thead th {\n",
              "        text-align: right;\n",
              "    }\n",
              "</style>\n",
              "<table border=\"1\" class=\"dataframe\">\n",
              "  <thead>\n",
              "    <tr style=\"text-align: right;\">\n",
              "      <th></th>\n",
              "      <th>LotArea</th>\n",
              "      <th>Street</th>\n",
              "      <th>Neighborhood</th>\n",
              "      <th>HouseStyle</th>\n",
              "      <th>YearBuilt</th>\n",
              "      <th>CentralAir</th>\n",
              "      <th>BedroomAbvGr</th>\n",
              "      <th>Fireplaces</th>\n",
              "      <th>GarageType</th>\n",
              "      <th>GarageYrBlt</th>\n",
              "      <th>GarageArea</th>\n",
              "      <th>PoolArea</th>\n",
              "      <th>PoolQC</th>\n",
              "      <th>Fence</th>\n",
              "      <th>SalePrice</th>\n",
              "    </tr>\n",
              "    <tr>\n",
              "      <th>Id</th>\n",
              "      <th></th>\n",
              "      <th></th>\n",
              "      <th></th>\n",
              "      <th></th>\n",
              "      <th></th>\n",
              "      <th></th>\n",
              "      <th></th>\n",
              "      <th></th>\n",
              "      <th></th>\n",
              "      <th></th>\n",
              "      <th></th>\n",
              "      <th></th>\n",
              "      <th></th>\n",
              "      <th></th>\n",
              "      <th></th>\n",
              "    </tr>\n",
              "  </thead>\n",
              "  <tbody>\n",
              "    <tr>\n",
              "      <th>1</th>\n",
              "      <td>8450</td>\n",
              "      <td>Pave</td>\n",
              "      <td>CollgCr</td>\n",
              "      <td>2Story</td>\n",
              "      <td>2003</td>\n",
              "      <td>Y</td>\n",
              "      <td>3</td>\n",
              "      <td>0</td>\n",
              "      <td>Attchd</td>\n",
              "      <td>2003.0</td>\n",
              "      <td>548</td>\n",
              "      <td>0</td>\n",
              "      <td>NaN</td>\n",
              "      <td>NaN</td>\n",
              "      <td>208500</td>\n",
              "    </tr>\n",
              "    <tr>\n",
              "      <th>2</th>\n",
              "      <td>9600</td>\n",
              "      <td>Pave</td>\n",
              "      <td>Veenker</td>\n",
              "      <td>1Story</td>\n",
              "      <td>1976</td>\n",
              "      <td>Y</td>\n",
              "      <td>3</td>\n",
              "      <td>1</td>\n",
              "      <td>Attchd</td>\n",
              "      <td>1976.0</td>\n",
              "      <td>460</td>\n",
              "      <td>0</td>\n",
              "      <td>NaN</td>\n",
              "      <td>NaN</td>\n",
              "      <td>181500</td>\n",
              "    </tr>\n",
              "    <tr>\n",
              "      <th>3</th>\n",
              "      <td>11250</td>\n",
              "      <td>Pave</td>\n",
              "      <td>CollgCr</td>\n",
              "      <td>2Story</td>\n",
              "      <td>2001</td>\n",
              "      <td>Y</td>\n",
              "      <td>3</td>\n",
              "      <td>1</td>\n",
              "      <td>Attchd</td>\n",
              "      <td>2001.0</td>\n",
              "      <td>608</td>\n",
              "      <td>0</td>\n",
              "      <td>NaN</td>\n",
              "      <td>NaN</td>\n",
              "      <td>223500</td>\n",
              "    </tr>\n",
              "    <tr>\n",
              "      <th>4</th>\n",
              "      <td>9550</td>\n",
              "      <td>Pave</td>\n",
              "      <td>Crawfor</td>\n",
              "      <td>2Story</td>\n",
              "      <td>1915</td>\n",
              "      <td>Y</td>\n",
              "      <td>3</td>\n",
              "      <td>1</td>\n",
              "      <td>Detchd</td>\n",
              "      <td>1998.0</td>\n",
              "      <td>642</td>\n",
              "      <td>0</td>\n",
              "      <td>NaN</td>\n",
              "      <td>NaN</td>\n",
              "      <td>140000</td>\n",
              "    </tr>\n",
              "    <tr>\n",
              "      <th>5</th>\n",
              "      <td>14260</td>\n",
              "      <td>Pave</td>\n",
              "      <td>NoRidge</td>\n",
              "      <td>2Story</td>\n",
              "      <td>2000</td>\n",
              "      <td>Y</td>\n",
              "      <td>4</td>\n",
              "      <td>1</td>\n",
              "      <td>Attchd</td>\n",
              "      <td>2000.0</td>\n",
              "      <td>836</td>\n",
              "      <td>0</td>\n",
              "      <td>NaN</td>\n",
              "      <td>NaN</td>\n",
              "      <td>250000</td>\n",
              "    </tr>\n",
              "  </tbody>\n",
              "</table>\n",
              "</div>"
            ],
            "text/plain": [
              "    LotArea Street Neighborhood HouseStyle  ...  PoolArea PoolQC  Fence  SalePrice\n",
              "Id                                          ...                                   \n",
              "1      8450   Pave      CollgCr     2Story  ...         0    NaN    NaN     208500\n",
              "2      9600   Pave      Veenker     1Story  ...         0    NaN    NaN     181500\n",
              "3     11250   Pave      CollgCr     2Story  ...         0    NaN    NaN     223500\n",
              "4      9550   Pave      Crawfor     2Story  ...         0    NaN    NaN     140000\n",
              "5     14260   Pave      NoRidge     2Story  ...         0    NaN    NaN     250000\n",
              "\n",
              "[5 rows x 15 columns]"
            ]
          },
          "metadata": {},
          "execution_count": 11
        }
      ]
    },
    {
      "cell_type": "markdown",
      "metadata": {
        "id": "4w9RGYAVN9Qo"
      },
      "source": [
        "The data set looks a bit cleaner now! Moving on, let's talk about rows and columns."
      ]
    },
    {
      "cell_type": "markdown",
      "metadata": {
        "id": "0azSB2AKOTtQ"
      },
      "source": [
        "### Rows and Columns\n",
        "\n",
        "As you have noticed, data frames are tabular data, containing rows and columns. In *Pandas*, a single column can be called *Series*. We can easily check the columns and access them with the codes below."
      ]
    },
    {
      "cell_type": "code",
      "metadata": {
        "colab": {
          "base_uri": "https://localhost:8080/"
        },
        "id": "QXOCq6aUT8EK",
        "outputId": "9a419097-a50b-42f2-ea57-082f9dc2a1fc"
      },
      "source": [
        "df.columns"
      ],
      "execution_count": null,
      "outputs": [
        {
          "output_type": "execute_result",
          "data": {
            "text/plain": [
              "Index(['LotArea', 'Street', 'Neighborhood', 'HouseStyle', 'YearBuilt',\n",
              "       'CentralAir', 'BedroomAbvGr', 'Fireplaces', 'GarageType', 'GarageYrBlt',\n",
              "       'GarageArea', 'PoolArea', 'PoolQC', 'Fence', 'SalePrice'],\n",
              "      dtype='object')"
            ]
          },
          "metadata": {},
          "execution_count": 13
        }
      ]
    },
    {
      "cell_type": "code",
      "metadata": {
        "colab": {
          "base_uri": "https://localhost:8080/"
        },
        "id": "_grWZT8xVZ4t",
        "outputId": "d490fa38-fc7e-4aa2-b9d2-a1f7efe22c82"
      },
      "source": [
        "df['LotArea'].head()"
      ],
      "execution_count": null,
      "outputs": [
        {
          "output_type": "execute_result",
          "data": {
            "text/plain": [
              "Id\n",
              "1     8450\n",
              "2     9600\n",
              "3    11250\n",
              "4     9550\n",
              "5    14260\n",
              "Name: LotArea, dtype: int64"
            ]
          },
          "metadata": {},
          "execution_count": 14
        }
      ]
    },
    {
      "cell_type": "code",
      "metadata": {
        "colab": {
          "base_uri": "https://localhost:8080/"
        },
        "id": "KWxMIs3_VpFv",
        "outputId": "0624a20e-8e97-45df-a2ea-5fcef005401c"
      },
      "source": [
        "type(df['LotArea'])"
      ],
      "execution_count": null,
      "outputs": [
        {
          "output_type": "execute_result",
          "data": {
            "text/plain": [
              "pandas.core.series.Series"
            ]
          },
          "metadata": {},
          "execution_count": 15
        }
      ]
    },
    {
      "cell_type": "markdown",
      "metadata": {
        "id": "jUf6ACVlVtFZ"
      },
      "source": [
        "Notice that a column in our DataFrame is of type *Series*."
      ]
    },
    {
      "cell_type": "markdown",
      "metadata": {
        "id": "cpYsyr5_A-ri"
      },
      "source": [
        "#### Renaming columns\n",
        "\n",
        "It is really simple to rename your columns with *Pandas*. For instance, let's take our feature *BedroomAbvGr*, and rename it to *Bedroom*.\n"
      ]
    },
    {
      "cell_type": "code",
      "metadata": {
        "id": "pKy0QOWACERM"
      },
      "source": [
        "df.rename(columns={'BedroomAbvGr': 'Bedroom'}, inplace=True)"
      ],
      "execution_count": 50,
      "outputs": []
    },
    {
      "cell_type": "markdown",
      "metadata": {
        "id": "H8plHLYBCsSq"
      },
      "source": [
        "You can rename several columns at once. Just add all \"old names\" and \"new names\" as key/value pairs in the *columns* dictionary, inside the function *rename*."
      ]
    },
    {
      "cell_type": "markdown",
      "metadata": {
        "id": "Cm1y4j0JDf-J"
      },
      "source": [
        "#### Adding columns\n",
        "\n",
        "You might want to add a column to your DataFrame. Let's see how you can do that.\n",
        "\n",
        "I'll take the opportunity to show you how we can create a copy of our DataFrame. Let's add a column to our copy so we don't change the original DataFrame."
      ]
    },
    {
      "cell_type": "code",
      "metadata": {
        "id": "VUtiaejAFErI"
      },
      "source": [
        "df_copy = df.copy()"
      ],
      "execution_count": null,
      "outputs": []
    },
    {
      "cell_type": "code",
      "metadata": {
        "id": "ErLnJG9HFPWA"
      },
      "source": [
        "df_copy['Sold'] = 'N'"
      ],
      "execution_count": null,
      "outputs": []
    },
    {
      "cell_type": "markdown",
      "metadata": {
        "id": "OlMUjV96G9Pd"
      },
      "source": [
        "This is the easiest way to create a new column. Notice that I assigned a value *N* for all entries in this column."
      ]
    },
    {
      "cell_type": "code",
      "metadata": {
        "colab": {
          "base_uri": "https://localhost:8080/",
          "height": 235
        },
        "id": "uA2OeKQ2HaRl",
        "outputId": "2d48743f-a39a-4882-e3eb-fcdbee4be19b"
      },
      "source": [
        "df_copy.tail()"
      ],
      "execution_count": null,
      "outputs": [
        {
          "output_type": "execute_result",
          "data": {
            "text/html": [
              "<div>\n",
              "<style scoped>\n",
              "    .dataframe tbody tr th:only-of-type {\n",
              "        vertical-align: middle;\n",
              "    }\n",
              "\n",
              "    .dataframe tbody tr th {\n",
              "        vertical-align: top;\n",
              "    }\n",
              "\n",
              "    .dataframe thead th {\n",
              "        text-align: right;\n",
              "    }\n",
              "</style>\n",
              "<table border=\"1\" class=\"dataframe\">\n",
              "  <thead>\n",
              "    <tr style=\"text-align: right;\">\n",
              "      <th></th>\n",
              "      <th>LotArea</th>\n",
              "      <th>Street</th>\n",
              "      <th>Neighborhood</th>\n",
              "      <th>HouseStyle</th>\n",
              "      <th>YearBuilt</th>\n",
              "      <th>CentralAir</th>\n",
              "      <th>Bedroom</th>\n",
              "      <th>Fireplaces</th>\n",
              "      <th>GarageType</th>\n",
              "      <th>GarageYrBlt</th>\n",
              "      <th>GarageArea</th>\n",
              "      <th>PoolArea</th>\n",
              "      <th>PoolQC</th>\n",
              "      <th>Fence</th>\n",
              "      <th>SalePrice</th>\n",
              "      <th>Sold</th>\n",
              "    </tr>\n",
              "    <tr>\n",
              "      <th>Id</th>\n",
              "      <th></th>\n",
              "      <th></th>\n",
              "      <th></th>\n",
              "      <th></th>\n",
              "      <th></th>\n",
              "      <th></th>\n",
              "      <th></th>\n",
              "      <th></th>\n",
              "      <th></th>\n",
              "      <th></th>\n",
              "      <th></th>\n",
              "      <th></th>\n",
              "      <th></th>\n",
              "      <th></th>\n",
              "      <th></th>\n",
              "      <th></th>\n",
              "    </tr>\n",
              "  </thead>\n",
              "  <tbody>\n",
              "    <tr>\n",
              "      <th>1456</th>\n",
              "      <td>7917</td>\n",
              "      <td>Pave</td>\n",
              "      <td>Gilbert</td>\n",
              "      <td>2Story</td>\n",
              "      <td>1999</td>\n",
              "      <td>Y</td>\n",
              "      <td>3</td>\n",
              "      <td>1</td>\n",
              "      <td>Attchd</td>\n",
              "      <td>1999.0</td>\n",
              "      <td>460</td>\n",
              "      <td>0</td>\n",
              "      <td>NaN</td>\n",
              "      <td>NaN</td>\n",
              "      <td>175000</td>\n",
              "      <td>N</td>\n",
              "    </tr>\n",
              "    <tr>\n",
              "      <th>1457</th>\n",
              "      <td>13175</td>\n",
              "      <td>Pave</td>\n",
              "      <td>NWAmes</td>\n",
              "      <td>1Story</td>\n",
              "      <td>1978</td>\n",
              "      <td>Y</td>\n",
              "      <td>3</td>\n",
              "      <td>2</td>\n",
              "      <td>Attchd</td>\n",
              "      <td>1978.0</td>\n",
              "      <td>500</td>\n",
              "      <td>0</td>\n",
              "      <td>NaN</td>\n",
              "      <td>MnPrv</td>\n",
              "      <td>210000</td>\n",
              "      <td>N</td>\n",
              "    </tr>\n",
              "    <tr>\n",
              "      <th>1458</th>\n",
              "      <td>9042</td>\n",
              "      <td>Pave</td>\n",
              "      <td>Crawfor</td>\n",
              "      <td>2Story</td>\n",
              "      <td>1941</td>\n",
              "      <td>Y</td>\n",
              "      <td>4</td>\n",
              "      <td>2</td>\n",
              "      <td>Attchd</td>\n",
              "      <td>1941.0</td>\n",
              "      <td>252</td>\n",
              "      <td>0</td>\n",
              "      <td>NaN</td>\n",
              "      <td>GdPrv</td>\n",
              "      <td>266500</td>\n",
              "      <td>N</td>\n",
              "    </tr>\n",
              "    <tr>\n",
              "      <th>1459</th>\n",
              "      <td>9717</td>\n",
              "      <td>Pave</td>\n",
              "      <td>NAmes</td>\n",
              "      <td>1Story</td>\n",
              "      <td>1950</td>\n",
              "      <td>Y</td>\n",
              "      <td>2</td>\n",
              "      <td>0</td>\n",
              "      <td>Attchd</td>\n",
              "      <td>1950.0</td>\n",
              "      <td>240</td>\n",
              "      <td>0</td>\n",
              "      <td>NaN</td>\n",
              "      <td>NaN</td>\n",
              "      <td>142125</td>\n",
              "      <td>N</td>\n",
              "    </tr>\n",
              "    <tr>\n",
              "      <th>1460</th>\n",
              "      <td>9937</td>\n",
              "      <td>Pave</td>\n",
              "      <td>Edwards</td>\n",
              "      <td>1Story</td>\n",
              "      <td>1965</td>\n",
              "      <td>Y</td>\n",
              "      <td>3</td>\n",
              "      <td>0</td>\n",
              "      <td>Attchd</td>\n",
              "      <td>1965.0</td>\n",
              "      <td>276</td>\n",
              "      <td>0</td>\n",
              "      <td>NaN</td>\n",
              "      <td>NaN</td>\n",
              "      <td>147500</td>\n",
              "      <td>N</td>\n",
              "    </tr>\n",
              "  </tbody>\n",
              "</table>\n",
              "</div>"
            ],
            "text/plain": [
              "      LotArea Street Neighborhood HouseStyle  ...  PoolQC  Fence  SalePrice  Sold\n",
              "Id                                            ...                                \n",
              "1456     7917   Pave      Gilbert     2Story  ...     NaN    NaN     175000     N\n",
              "1457    13175   Pave       NWAmes     1Story  ...     NaN  MnPrv     210000     N\n",
              "1458     9042   Pave      Crawfor     2Story  ...     NaN  GdPrv     266500     N\n",
              "1459     9717   Pave        NAmes     1Story  ...     NaN    NaN     142125     N\n",
              "1460     9937   Pave      Edwards     1Story  ...     NaN    NaN     147500     N\n",
              "\n",
              "[5 rows x 16 columns]"
            ]
          },
          "metadata": {},
          "execution_count": 19
        }
      ]
    },
    {
      "cell_type": "markdown",
      "metadata": {
        "id": "iiwn5vgCHv-m"
      },
      "source": [
        "#### Adding rows\n",
        "\n",
        "Now, let's suppose you have another DataFrame (called *df_to_append*) containing 2 rows that you want to add to *df_copy*. One way to append rows to the end of a DataFrame is with the function *append*."
      ]
    },
    {
      "cell_type": "code",
      "metadata": {
        "id": "IWdMWuixLSBv"
      },
      "source": [
        "data_to_append = {'LotArea': [9500, 15000],\n",
        "                  'Steet': ['Pave', 'Gravel'],\n",
        "                  'Neighborhood': ['Downtown', 'Downtown'],\n",
        "                  'HouseStyle': ['2Story', '1Story'],\n",
        "                  'YearBuilt': [2021, 2019],\n",
        "                  'CentralAir': ['Y', 'N'],\n",
        "                  'Bedroom': [5, 4],\n",
        "                  'Fireplaces': [1, 0],\n",
        "                  'GarageType': ['Attchd', 'Attchd'],\n",
        "                  'GarageYrBlt': [2021, 2019],\n",
        "                  'GarageArea': [300, 250],\n",
        "                  'PoolArea': [0, 0],\n",
        "                  'PoolQC': ['G', 'G'],\n",
        "                  'Fence': ['G', 'G'],\n",
        "                  'SalePrice': [250000, 195000],\n",
        "                  'Sold': ['Y', 'Y']}\n",
        "\n",
        "df_to_append = pd.DataFrame(data_to_append)"
      ],
      "execution_count": null,
      "outputs": []
    },
    {
      "cell_type": "code",
      "metadata": {
        "colab": {
          "base_uri": "https://localhost:8080/",
          "height": 111
        },
        "id": "gqnB5eH9Mn4U",
        "outputId": "d5690628-1a49-4769-f208-e57f2a498cf2"
      },
      "source": [
        "df_to_append"
      ],
      "execution_count": null,
      "outputs": [
        {
          "output_type": "execute_result",
          "data": {
            "text/html": [
              "<div>\n",
              "<style scoped>\n",
              "    .dataframe tbody tr th:only-of-type {\n",
              "        vertical-align: middle;\n",
              "    }\n",
              "\n",
              "    .dataframe tbody tr th {\n",
              "        vertical-align: top;\n",
              "    }\n",
              "\n",
              "    .dataframe thead th {\n",
              "        text-align: right;\n",
              "    }\n",
              "</style>\n",
              "<table border=\"1\" class=\"dataframe\">\n",
              "  <thead>\n",
              "    <tr style=\"text-align: right;\">\n",
              "      <th></th>\n",
              "      <th>LotArea</th>\n",
              "      <th>Steet</th>\n",
              "      <th>Neighborhood</th>\n",
              "      <th>HouseStyle</th>\n",
              "      <th>YearBuilt</th>\n",
              "      <th>CentralAir</th>\n",
              "      <th>Bedroom</th>\n",
              "      <th>Fireplaces</th>\n",
              "      <th>GarageType</th>\n",
              "      <th>GarageYrBlt</th>\n",
              "      <th>GarageArea</th>\n",
              "      <th>PoolArea</th>\n",
              "      <th>PoolQC</th>\n",
              "      <th>Fence</th>\n",
              "      <th>SalePrice</th>\n",
              "      <th>Sold</th>\n",
              "    </tr>\n",
              "  </thead>\n",
              "  <tbody>\n",
              "    <tr>\n",
              "      <th>0</th>\n",
              "      <td>9500</td>\n",
              "      <td>Pave</td>\n",
              "      <td>Downtown</td>\n",
              "      <td>2Story</td>\n",
              "      <td>2021</td>\n",
              "      <td>Y</td>\n",
              "      <td>5</td>\n",
              "      <td>1</td>\n",
              "      <td>Attchd</td>\n",
              "      <td>2021</td>\n",
              "      <td>300</td>\n",
              "      <td>0</td>\n",
              "      <td>G</td>\n",
              "      <td>G</td>\n",
              "      <td>250000</td>\n",
              "      <td>Y</td>\n",
              "    </tr>\n",
              "    <tr>\n",
              "      <th>1</th>\n",
              "      <td>15000</td>\n",
              "      <td>Gravel</td>\n",
              "      <td>Downtown</td>\n",
              "      <td>1Story</td>\n",
              "      <td>2019</td>\n",
              "      <td>N</td>\n",
              "      <td>4</td>\n",
              "      <td>0</td>\n",
              "      <td>Attchd</td>\n",
              "      <td>2019</td>\n",
              "      <td>250</td>\n",
              "      <td>0</td>\n",
              "      <td>G</td>\n",
              "      <td>G</td>\n",
              "      <td>195000</td>\n",
              "      <td>Y</td>\n",
              "    </tr>\n",
              "  </tbody>\n",
              "</table>\n",
              "</div>"
            ],
            "text/plain": [
              "   LotArea   Steet Neighborhood HouseStyle  ...  PoolQC Fence  SalePrice  Sold\n",
              "0     9500    Pave     Downtown     2Story  ...       G     G     250000     Y\n",
              "1    15000  Gravel     Downtown     1Story  ...       G     G     195000     Y\n",
              "\n",
              "[2 rows x 16 columns]"
            ]
          },
          "metadata": {},
          "execution_count": 21
        }
      ]
    },
    {
      "cell_type": "markdown",
      "metadata": {
        "id": "06L4LowoQFIG"
      },
      "source": [
        "Now, let's append the 2-row DataFrame above to *df_copy*."
      ]
    },
    {
      "cell_type": "code",
      "metadata": {
        "id": "tafBTdFBMqSd"
      },
      "source": [
        "df_copy = df_copy.append(df_to_append, ignore_index=True)"
      ],
      "execution_count": null,
      "outputs": []
    },
    {
      "cell_type": "markdown",
      "metadata": {
        "id": "KVrmVeJiQh7X"
      },
      "source": [
        "Checking the last entries of *df_copy* we have:"
      ]
    },
    {
      "cell_type": "code",
      "metadata": {
        "colab": {
          "base_uri": "https://localhost:8080/",
          "height": 142
        },
        "id": "stK5oc-uQoqO",
        "outputId": "cadfa59f-e9c7-4f18-d082-8b3ea8bd07a8"
      },
      "source": [
        "df_copy.tail(3)"
      ],
      "execution_count": null,
      "outputs": [
        {
          "output_type": "execute_result",
          "data": {
            "text/html": [
              "<div>\n",
              "<style scoped>\n",
              "    .dataframe tbody tr th:only-of-type {\n",
              "        vertical-align: middle;\n",
              "    }\n",
              "\n",
              "    .dataframe tbody tr th {\n",
              "        vertical-align: top;\n",
              "    }\n",
              "\n",
              "    .dataframe thead th {\n",
              "        text-align: right;\n",
              "    }\n",
              "</style>\n",
              "<table border=\"1\" class=\"dataframe\">\n",
              "  <thead>\n",
              "    <tr style=\"text-align: right;\">\n",
              "      <th></th>\n",
              "      <th>LotArea</th>\n",
              "      <th>Street</th>\n",
              "      <th>Neighborhood</th>\n",
              "      <th>HouseStyle</th>\n",
              "      <th>YearBuilt</th>\n",
              "      <th>CentralAir</th>\n",
              "      <th>Bedroom</th>\n",
              "      <th>Fireplaces</th>\n",
              "      <th>GarageType</th>\n",
              "      <th>GarageYrBlt</th>\n",
              "      <th>GarageArea</th>\n",
              "      <th>PoolArea</th>\n",
              "      <th>PoolQC</th>\n",
              "      <th>Fence</th>\n",
              "      <th>SalePrice</th>\n",
              "      <th>Sold</th>\n",
              "      <th>Steet</th>\n",
              "    </tr>\n",
              "  </thead>\n",
              "  <tbody>\n",
              "    <tr>\n",
              "      <th>1459</th>\n",
              "      <td>9937</td>\n",
              "      <td>Pave</td>\n",
              "      <td>Edwards</td>\n",
              "      <td>1Story</td>\n",
              "      <td>1965</td>\n",
              "      <td>Y</td>\n",
              "      <td>3</td>\n",
              "      <td>0</td>\n",
              "      <td>Attchd</td>\n",
              "      <td>1965.0</td>\n",
              "      <td>276</td>\n",
              "      <td>0</td>\n",
              "      <td>NaN</td>\n",
              "      <td>NaN</td>\n",
              "      <td>147500</td>\n",
              "      <td>N</td>\n",
              "      <td>NaN</td>\n",
              "    </tr>\n",
              "    <tr>\n",
              "      <th>1460</th>\n",
              "      <td>9500</td>\n",
              "      <td>NaN</td>\n",
              "      <td>Downtown</td>\n",
              "      <td>2Story</td>\n",
              "      <td>2021</td>\n",
              "      <td>Y</td>\n",
              "      <td>5</td>\n",
              "      <td>1</td>\n",
              "      <td>Attchd</td>\n",
              "      <td>2021.0</td>\n",
              "      <td>300</td>\n",
              "      <td>0</td>\n",
              "      <td>G</td>\n",
              "      <td>G</td>\n",
              "      <td>250000</td>\n",
              "      <td>Y</td>\n",
              "      <td>Pave</td>\n",
              "    </tr>\n",
              "    <tr>\n",
              "      <th>1461</th>\n",
              "      <td>15000</td>\n",
              "      <td>NaN</td>\n",
              "      <td>Downtown</td>\n",
              "      <td>1Story</td>\n",
              "      <td>2019</td>\n",
              "      <td>N</td>\n",
              "      <td>4</td>\n",
              "      <td>0</td>\n",
              "      <td>Attchd</td>\n",
              "      <td>2019.0</td>\n",
              "      <td>250</td>\n",
              "      <td>0</td>\n",
              "      <td>G</td>\n",
              "      <td>G</td>\n",
              "      <td>195000</td>\n",
              "      <td>Y</td>\n",
              "      <td>Gravel</td>\n",
              "    </tr>\n",
              "  </tbody>\n",
              "</table>\n",
              "</div>"
            ],
            "text/plain": [
              "      LotArea Street Neighborhood HouseStyle  ...  Fence SalePrice  Sold   Steet\n",
              "1459     9937   Pave      Edwards     1Story  ...    NaN    147500     N     NaN\n",
              "1460     9500    NaN     Downtown     2Story  ...      G    250000     Y    Pave\n",
              "1461    15000    NaN     Downtown     1Story  ...      G    195000     Y  Gravel\n",
              "\n",
              "[3 rows x 17 columns]"
            ]
          },
          "metadata": {},
          "execution_count": 59
        }
      ]
    },
    {
      "cell_type": "markdown",
      "metadata": {
        "id": "QKpAUVnDDQ12"
      },
      "source": [
        "#### Removing rows and columns\n",
        "\n",
        "To eliminate rows and columns of a DataFrame, we can use the function *drop*. Let's assume we want to delete the last row and the column 'Fence'. Check out the codes below."
      ]
    },
    {
      "cell_type": "code",
      "metadata": {
        "id": "1qAEOGqWD4e5"
      },
      "source": [
        "df_copy.drop(labels=1461, axis=0, inplace=True)"
      ],
      "execution_count": null,
      "outputs": []
    },
    {
      "cell_type": "markdown",
      "metadata": {
        "id": "2fLemzkIEqpk"
      },
      "source": [
        "The function above removed the last row (the one with *Id* 1461). You can also drop several rows at once, passing a list of indexes as an argument.\n",
        "\n",
        "The axis=0, which is the default value, means that you are removing a row. For columns, we need to specify that axis=1, as below."
      ]
    },
    {
      "cell_type": "code",
      "metadata": {
        "id": "o8lXOUPgFwQD"
      },
      "source": [
        "df_copy.drop(labels='Fence', axis=1, inplace=True)"
      ],
      "execution_count": null,
      "outputs": []
    },
    {
      "cell_type": "markdown",
      "metadata": {
        "id": "6DIWO3OIaH6c"
      },
      "source": [
        "### Selecting data with *loc* and *iloc*\n",
        "\n",
        "One of the easiest ways to select data is with the methods *loc* and *iloc*. \n",
        "\n",
        "*loc* is used to access rows and columns by label/index or based on a boolean array. Imagine we want to access the row with index = 1000."
      ]
    },
    {
      "cell_type": "code",
      "metadata": {
        "colab": {
          "base_uri": "https://localhost:8080/"
        },
        "id": "sC6BsIY-9QKg",
        "outputId": "d731c7b4-6a2c-46f1-f97d-e7cc1547844c"
      },
      "source": [
        "df.loc[1000]"
      ],
      "execution_count": null,
      "outputs": [
        {
          "output_type": "execute_result",
          "data": {
            "text/plain": [
              "LotArea            6762\n",
              "Street             Pave\n",
              "Neighborhood    CollgCr\n",
              "HouseStyle       1Story\n",
              "YearBuilt          2006\n",
              "CentralAir            Y\n",
              "Bedroom               2\n",
              "Fireplaces            0\n",
              "GarageType       Attchd\n",
              "GarageYrBlt        2006\n",
              "GarageArea          632\n",
              "PoolArea              0\n",
              "PoolQC              NaN\n",
              "Fence               NaN\n",
              "SalePrice        206000\n",
              "Name: 1000, dtype: object"
            ]
          },
          "metadata": {},
          "execution_count": 27
        }
      ]
    },
    {
      "cell_type": "markdown",
      "metadata": {
        "id": "iPxM3AnC9hh0"
      },
      "source": [
        "The method above selected the row with index = 1000 and displayed all data contained in this row. We can also select which columns we want to visualize."
      ]
    },
    {
      "cell_type": "code",
      "metadata": {
        "colab": {
          "base_uri": "https://localhost:8080/"
        },
        "id": "r5xso3KW-Beb",
        "outputId": "d54d735f-16bd-4fcd-8496-d639072858d7"
      },
      "source": [
        "df.loc[1000, ['LotArea', 'SalePrice']]"
      ],
      "execution_count": null,
      "outputs": [
        {
          "output_type": "execute_result",
          "data": {
            "text/plain": [
              "LotArea        6762\n",
              "SalePrice    206000\n",
              "Name: 1000, dtype: object"
            ]
          },
          "metadata": {},
          "execution_count": 28
        }
      ]
    },
    {
      "cell_type": "markdown",
      "metadata": {
        "id": "bXf0kqDk-QQJ"
      },
      "source": [
        "Now, let's see how we can apply a condition to *loc*. Imagine we want to select all houses that have a sale price of at least $600,000."
      ]
    },
    {
      "cell_type": "code",
      "metadata": {
        "colab": {
          "base_uri": "https://localhost:8080/",
          "height": 204
        },
        "id": "ooctf1UG-azK",
        "outputId": "702e983a-ac57-4b35-9be6-2fbd4aa98eaf"
      },
      "source": [
        "df.loc[df['SalePrice'] >= 600000]"
      ],
      "execution_count": null,
      "outputs": [
        {
          "output_type": "execute_result",
          "data": {
            "text/html": [
              "<div>\n",
              "<style scoped>\n",
              "    .dataframe tbody tr th:only-of-type {\n",
              "        vertical-align: middle;\n",
              "    }\n",
              "\n",
              "    .dataframe tbody tr th {\n",
              "        vertical-align: top;\n",
              "    }\n",
              "\n",
              "    .dataframe thead th {\n",
              "        text-align: right;\n",
              "    }\n",
              "</style>\n",
              "<table border=\"1\" class=\"dataframe\">\n",
              "  <thead>\n",
              "    <tr style=\"text-align: right;\">\n",
              "      <th></th>\n",
              "      <th>LotArea</th>\n",
              "      <th>Street</th>\n",
              "      <th>Neighborhood</th>\n",
              "      <th>HouseStyle</th>\n",
              "      <th>YearBuilt</th>\n",
              "      <th>CentralAir</th>\n",
              "      <th>Bedroom</th>\n",
              "      <th>Fireplaces</th>\n",
              "      <th>GarageType</th>\n",
              "      <th>GarageYrBlt</th>\n",
              "      <th>GarageArea</th>\n",
              "      <th>PoolArea</th>\n",
              "      <th>PoolQC</th>\n",
              "      <th>Fence</th>\n",
              "      <th>SalePrice</th>\n",
              "    </tr>\n",
              "    <tr>\n",
              "      <th>Id</th>\n",
              "      <th></th>\n",
              "      <th></th>\n",
              "      <th></th>\n",
              "      <th></th>\n",
              "      <th></th>\n",
              "      <th></th>\n",
              "      <th></th>\n",
              "      <th></th>\n",
              "      <th></th>\n",
              "      <th></th>\n",
              "      <th></th>\n",
              "      <th></th>\n",
              "      <th></th>\n",
              "      <th></th>\n",
              "      <th></th>\n",
              "    </tr>\n",
              "  </thead>\n",
              "  <tbody>\n",
              "    <tr>\n",
              "      <th>692</th>\n",
              "      <td>21535</td>\n",
              "      <td>Pave</td>\n",
              "      <td>NoRidge</td>\n",
              "      <td>2Story</td>\n",
              "      <td>1994</td>\n",
              "      <td>Y</td>\n",
              "      <td>4</td>\n",
              "      <td>2</td>\n",
              "      <td>Attchd</td>\n",
              "      <td>1994.0</td>\n",
              "      <td>832</td>\n",
              "      <td>0</td>\n",
              "      <td>NaN</td>\n",
              "      <td>NaN</td>\n",
              "      <td>755000</td>\n",
              "    </tr>\n",
              "    <tr>\n",
              "      <th>899</th>\n",
              "      <td>12919</td>\n",
              "      <td>Pave</td>\n",
              "      <td>NridgHt</td>\n",
              "      <td>1Story</td>\n",
              "      <td>2009</td>\n",
              "      <td>Y</td>\n",
              "      <td>2</td>\n",
              "      <td>2</td>\n",
              "      <td>Attchd</td>\n",
              "      <td>2009.0</td>\n",
              "      <td>820</td>\n",
              "      <td>0</td>\n",
              "      <td>NaN</td>\n",
              "      <td>NaN</td>\n",
              "      <td>611657</td>\n",
              "    </tr>\n",
              "    <tr>\n",
              "      <th>1170</th>\n",
              "      <td>35760</td>\n",
              "      <td>Pave</td>\n",
              "      <td>NoRidge</td>\n",
              "      <td>2Story</td>\n",
              "      <td>1995</td>\n",
              "      <td>Y</td>\n",
              "      <td>4</td>\n",
              "      <td>1</td>\n",
              "      <td>Attchd</td>\n",
              "      <td>1995.0</td>\n",
              "      <td>807</td>\n",
              "      <td>0</td>\n",
              "      <td>NaN</td>\n",
              "      <td>NaN</td>\n",
              "      <td>625000</td>\n",
              "    </tr>\n",
              "    <tr>\n",
              "      <th>1183</th>\n",
              "      <td>15623</td>\n",
              "      <td>Pave</td>\n",
              "      <td>NoRidge</td>\n",
              "      <td>2Story</td>\n",
              "      <td>1996</td>\n",
              "      <td>Y</td>\n",
              "      <td>4</td>\n",
              "      <td>2</td>\n",
              "      <td>Attchd</td>\n",
              "      <td>1996.0</td>\n",
              "      <td>813</td>\n",
              "      <td>555</td>\n",
              "      <td>Ex</td>\n",
              "      <td>MnPrv</td>\n",
              "      <td>745000</td>\n",
              "    </tr>\n",
              "  </tbody>\n",
              "</table>\n",
              "</div>"
            ],
            "text/plain": [
              "      LotArea Street Neighborhood HouseStyle  ...  PoolArea PoolQC  Fence  SalePrice\n",
              "Id                                            ...                                   \n",
              "692     21535   Pave      NoRidge     2Story  ...         0    NaN    NaN     755000\n",
              "899     12919   Pave      NridgHt     1Story  ...         0    NaN    NaN     611657\n",
              "1170    35760   Pave      NoRidge     2Story  ...         0    NaN    NaN     625000\n",
              "1183    15623   Pave      NoRidge     2Story  ...       555     Ex  MnPrv     745000\n",
              "\n",
              "[4 rows x 15 columns]"
            ]
          },
          "metadata": {},
          "execution_count": 39
        }
      ]
    },
    {
      "cell_type": "markdown",
      "metadata": {
        "id": "O1QZRQrU_HH9"
      },
      "source": [
        "With a simple line of code, we found only 4 houses worth over $600,000."
      ]
    },
    {
      "cell_type": "markdown",
      "metadata": {
        "id": "mL09HKxN9Agj"
      },
      "source": [
        "*iloc* is used to select data based on their integer location or based on a boolean array as well. For instance, if we want to select the data contained in the first row and the first column, we have the following: "
      ]
    },
    {
      "cell_type": "code",
      "metadata": {
        "colab": {
          "base_uri": "https://localhost:8080/"
        },
        "id": "fK-7dOukAlY6",
        "outputId": "59fc0c8d-8509-4128-d588-7cb8fb53d20e"
      },
      "source": [
        "df.iloc[0,0]"
      ],
      "execution_count": null,
      "outputs": [
        {
          "output_type": "execute_result",
          "data": {
            "text/plain": [
              "8450"
            ]
          },
          "metadata": {},
          "execution_count": 41
        }
      ]
    },
    {
      "cell_type": "markdown",
      "metadata": {
        "id": "v_eP5D1dAxks"
      },
      "source": [
        "The value displayed is the *LotArea* of the row where *ID* is 1. Remember that the integer location is zero-based.\n",
        "\n",
        "We can also select an entire row. In this case, the row is in position 10"
      ]
    },
    {
      "cell_type": "code",
      "metadata": {
        "colab": {
          "base_uri": "https://localhost:8080/"
        },
        "id": "Fes7ENCKAo4p",
        "outputId": "de6b7982-7b9b-4640-d8b9-208c7440cd8d"
      },
      "source": [
        "df.iloc[10,:]"
      ],
      "execution_count": null,
      "outputs": [
        {
          "output_type": "execute_result",
          "data": {
            "text/plain": [
              "LotArea          11200\n",
              "Street            Pave\n",
              "Neighborhood    Sawyer\n",
              "HouseStyle      1Story\n",
              "YearBuilt         1965\n",
              "CentralAir           Y\n",
              "Bedroom              3\n",
              "Fireplaces           0\n",
              "GarageType      Detchd\n",
              "GarageYrBlt       1965\n",
              "GarageArea         384\n",
              "PoolArea             0\n",
              "PoolQC             NaN\n",
              "Fence              NaN\n",
              "SalePrice       129500\n",
              "Name: 11, dtype: object"
            ]
          },
          "metadata": {},
          "execution_count": 47
        }
      ]
    },
    {
      "cell_type": "markdown",
      "metadata": {
        "id": "1Qi8H8jGBrZO"
      },
      "source": [
        "We can select an entire column, for instance, the last column."
      ]
    },
    {
      "cell_type": "code",
      "metadata": {
        "colab": {
          "base_uri": "https://localhost:8080/"
        },
        "id": "RegDD-qDBteU",
        "outputId": "2cdb04b0-778b-49d3-b697-6d423f9cf80b"
      },
      "source": [
        "df.iloc[:,-1]"
      ],
      "execution_count": null,
      "outputs": [
        {
          "output_type": "execute_result",
          "data": {
            "text/plain": [
              "Id\n",
              "1       208500\n",
              "2       181500\n",
              "3       223500\n",
              "4       140000\n",
              "5       250000\n",
              "         ...  \n",
              "1456    175000\n",
              "1457    210000\n",
              "1458    266500\n",
              "1459    142125\n",
              "1460    147500\n",
              "Name: SalePrice, Length: 1460, dtype: int64"
            ]
          },
          "metadata": {},
          "execution_count": 48
        }
      ]
    },
    {
      "cell_type": "markdown",
      "metadata": {
        "id": "fknj2_u9CM1H"
      },
      "source": [
        "And we can also multiple rows and columns, as below."
      ]
    },
    {
      "cell_type": "code",
      "metadata": {
        "colab": {
          "base_uri": "https://localhost:8080/",
          "height": 204
        },
        "id": "k_ZC_DKGCdtx",
        "outputId": "b9a4aa3d-324b-4802-f1fa-457a4f9ff9d3"
      },
      "source": [
        "df.iloc[8:12, 2:5]"
      ],
      "execution_count": null,
      "outputs": [
        {
          "output_type": "execute_result",
          "data": {
            "text/html": [
              "<div>\n",
              "<style scoped>\n",
              "    .dataframe tbody tr th:only-of-type {\n",
              "        vertical-align: middle;\n",
              "    }\n",
              "\n",
              "    .dataframe tbody tr th {\n",
              "        vertical-align: top;\n",
              "    }\n",
              "\n",
              "    .dataframe thead th {\n",
              "        text-align: right;\n",
              "    }\n",
              "</style>\n",
              "<table border=\"1\" class=\"dataframe\">\n",
              "  <thead>\n",
              "    <tr style=\"text-align: right;\">\n",
              "      <th></th>\n",
              "      <th>Neighborhood</th>\n",
              "      <th>HouseStyle</th>\n",
              "      <th>YearBuilt</th>\n",
              "    </tr>\n",
              "    <tr>\n",
              "      <th>Id</th>\n",
              "      <th></th>\n",
              "      <th></th>\n",
              "      <th></th>\n",
              "    </tr>\n",
              "  </thead>\n",
              "  <tbody>\n",
              "    <tr>\n",
              "      <th>9</th>\n",
              "      <td>OldTown</td>\n",
              "      <td>1.5Fin</td>\n",
              "      <td>1931</td>\n",
              "    </tr>\n",
              "    <tr>\n",
              "      <th>10</th>\n",
              "      <td>BrkSide</td>\n",
              "      <td>1.5Unf</td>\n",
              "      <td>1939</td>\n",
              "    </tr>\n",
              "    <tr>\n",
              "      <th>11</th>\n",
              "      <td>Sawyer</td>\n",
              "      <td>1Story</td>\n",
              "      <td>1965</td>\n",
              "    </tr>\n",
              "    <tr>\n",
              "      <th>12</th>\n",
              "      <td>NridgHt</td>\n",
              "      <td>2Story</td>\n",
              "      <td>2005</td>\n",
              "    </tr>\n",
              "  </tbody>\n",
              "</table>\n",
              "</div>"
            ],
            "text/plain": [
              "   Neighborhood HouseStyle  YearBuilt\n",
              "Id                                   \n",
              "9       OldTown     1.5Fin       1931\n",
              "10      BrkSide     1.5Unf       1939\n",
              "11       Sawyer     1Story       1965\n",
              "12      NridgHt     2Story       2005"
            ]
          },
          "metadata": {},
          "execution_count": 52
        }
      ]
    },
    {
      "cell_type": "markdown",
      "metadata": {
        "id": "nJ1mHfZnGcVl"
      },
      "source": [
        "## Handling missing values\n",
        "\n",
        "A lot can be talked about dealing with missing values. Please bear in mind that the goal here is not to go deep into the subject, but to show you the tools provided by *Pandas* to handle missing values.\n",
        "\n",
        "### Detecting missing values\n",
        "\n",
        "The first step here is to find the values that are missing in your data set with the function *isnull*. This function will return an object with the same size as the original DataFrame, containing boolean values for each element in the set. It will consider as *True* values such as *None* and *numpy.NaN*. You can find them with the following line of code."
      ]
    },
    {
      "cell_type": "code",
      "metadata": {
        "colab": {
          "base_uri": "https://localhost:8080/",
          "height": 470
        },
        "id": "Hr8JEYb4O-mR",
        "outputId": "4fbd3863-8e19-40d0-ae44-406fe96f1ca9"
      },
      "source": [
        "df.isnull()"
      ],
      "execution_count": 39,
      "outputs": [
        {
          "output_type": "execute_result",
          "data": {
            "text/html": [
              "<div>\n",
              "<style scoped>\n",
              "    .dataframe tbody tr th:only-of-type {\n",
              "        vertical-align: middle;\n",
              "    }\n",
              "\n",
              "    .dataframe tbody tr th {\n",
              "        vertical-align: top;\n",
              "    }\n",
              "\n",
              "    .dataframe thead th {\n",
              "        text-align: right;\n",
              "    }\n",
              "</style>\n",
              "<table border=\"1\" class=\"dataframe\">\n",
              "  <thead>\n",
              "    <tr style=\"text-align: right;\">\n",
              "      <th></th>\n",
              "      <th>LotArea</th>\n",
              "      <th>Street</th>\n",
              "      <th>Neighborhood</th>\n",
              "      <th>HouseStyle</th>\n",
              "      <th>YearBuilt</th>\n",
              "      <th>CentralAir</th>\n",
              "      <th>Bedroom</th>\n",
              "      <th>Fireplaces</th>\n",
              "      <th>GarageType</th>\n",
              "      <th>GarageYrBlt</th>\n",
              "      <th>GarageArea</th>\n",
              "      <th>PoolArea</th>\n",
              "      <th>PoolQC</th>\n",
              "      <th>Fence</th>\n",
              "      <th>SalePrice</th>\n",
              "    </tr>\n",
              "    <tr>\n",
              "      <th>Id</th>\n",
              "      <th></th>\n",
              "      <th></th>\n",
              "      <th></th>\n",
              "      <th></th>\n",
              "      <th></th>\n",
              "      <th></th>\n",
              "      <th></th>\n",
              "      <th></th>\n",
              "      <th></th>\n",
              "      <th></th>\n",
              "      <th></th>\n",
              "      <th></th>\n",
              "      <th></th>\n",
              "      <th></th>\n",
              "      <th></th>\n",
              "    </tr>\n",
              "  </thead>\n",
              "  <tbody>\n",
              "    <tr>\n",
              "      <th>1</th>\n",
              "      <td>False</td>\n",
              "      <td>False</td>\n",
              "      <td>False</td>\n",
              "      <td>False</td>\n",
              "      <td>False</td>\n",
              "      <td>False</td>\n",
              "      <td>False</td>\n",
              "      <td>False</td>\n",
              "      <td>False</td>\n",
              "      <td>False</td>\n",
              "      <td>False</td>\n",
              "      <td>False</td>\n",
              "      <td>True</td>\n",
              "      <td>True</td>\n",
              "      <td>False</td>\n",
              "    </tr>\n",
              "    <tr>\n",
              "      <th>2</th>\n",
              "      <td>False</td>\n",
              "      <td>False</td>\n",
              "      <td>False</td>\n",
              "      <td>False</td>\n",
              "      <td>False</td>\n",
              "      <td>False</td>\n",
              "      <td>False</td>\n",
              "      <td>False</td>\n",
              "      <td>False</td>\n",
              "      <td>False</td>\n",
              "      <td>False</td>\n",
              "      <td>False</td>\n",
              "      <td>True</td>\n",
              "      <td>True</td>\n",
              "      <td>False</td>\n",
              "    </tr>\n",
              "    <tr>\n",
              "      <th>3</th>\n",
              "      <td>False</td>\n",
              "      <td>False</td>\n",
              "      <td>False</td>\n",
              "      <td>False</td>\n",
              "      <td>False</td>\n",
              "      <td>False</td>\n",
              "      <td>False</td>\n",
              "      <td>False</td>\n",
              "      <td>False</td>\n",
              "      <td>False</td>\n",
              "      <td>False</td>\n",
              "      <td>False</td>\n",
              "      <td>True</td>\n",
              "      <td>True</td>\n",
              "      <td>False</td>\n",
              "    </tr>\n",
              "    <tr>\n",
              "      <th>4</th>\n",
              "      <td>False</td>\n",
              "      <td>False</td>\n",
              "      <td>False</td>\n",
              "      <td>False</td>\n",
              "      <td>False</td>\n",
              "      <td>False</td>\n",
              "      <td>False</td>\n",
              "      <td>False</td>\n",
              "      <td>False</td>\n",
              "      <td>False</td>\n",
              "      <td>False</td>\n",
              "      <td>False</td>\n",
              "      <td>True</td>\n",
              "      <td>True</td>\n",
              "      <td>False</td>\n",
              "    </tr>\n",
              "    <tr>\n",
              "      <th>5</th>\n",
              "      <td>False</td>\n",
              "      <td>False</td>\n",
              "      <td>False</td>\n",
              "      <td>False</td>\n",
              "      <td>False</td>\n",
              "      <td>False</td>\n",
              "      <td>False</td>\n",
              "      <td>False</td>\n",
              "      <td>False</td>\n",
              "      <td>False</td>\n",
              "      <td>False</td>\n",
              "      <td>False</td>\n",
              "      <td>True</td>\n",
              "      <td>True</td>\n",
              "      <td>False</td>\n",
              "    </tr>\n",
              "    <tr>\n",
              "      <th>...</th>\n",
              "      <td>...</td>\n",
              "      <td>...</td>\n",
              "      <td>...</td>\n",
              "      <td>...</td>\n",
              "      <td>...</td>\n",
              "      <td>...</td>\n",
              "      <td>...</td>\n",
              "      <td>...</td>\n",
              "      <td>...</td>\n",
              "      <td>...</td>\n",
              "      <td>...</td>\n",
              "      <td>...</td>\n",
              "      <td>...</td>\n",
              "      <td>...</td>\n",
              "      <td>...</td>\n",
              "    </tr>\n",
              "    <tr>\n",
              "      <th>1456</th>\n",
              "      <td>False</td>\n",
              "      <td>False</td>\n",
              "      <td>False</td>\n",
              "      <td>False</td>\n",
              "      <td>False</td>\n",
              "      <td>False</td>\n",
              "      <td>False</td>\n",
              "      <td>False</td>\n",
              "      <td>False</td>\n",
              "      <td>False</td>\n",
              "      <td>False</td>\n",
              "      <td>False</td>\n",
              "      <td>True</td>\n",
              "      <td>True</td>\n",
              "      <td>False</td>\n",
              "    </tr>\n",
              "    <tr>\n",
              "      <th>1457</th>\n",
              "      <td>False</td>\n",
              "      <td>False</td>\n",
              "      <td>False</td>\n",
              "      <td>False</td>\n",
              "      <td>False</td>\n",
              "      <td>False</td>\n",
              "      <td>False</td>\n",
              "      <td>False</td>\n",
              "      <td>False</td>\n",
              "      <td>False</td>\n",
              "      <td>False</td>\n",
              "      <td>False</td>\n",
              "      <td>True</td>\n",
              "      <td>False</td>\n",
              "      <td>False</td>\n",
              "    </tr>\n",
              "    <tr>\n",
              "      <th>1458</th>\n",
              "      <td>False</td>\n",
              "      <td>False</td>\n",
              "      <td>False</td>\n",
              "      <td>False</td>\n",
              "      <td>False</td>\n",
              "      <td>False</td>\n",
              "      <td>False</td>\n",
              "      <td>False</td>\n",
              "      <td>False</td>\n",
              "      <td>False</td>\n",
              "      <td>False</td>\n",
              "      <td>False</td>\n",
              "      <td>True</td>\n",
              "      <td>False</td>\n",
              "      <td>False</td>\n",
              "    </tr>\n",
              "    <tr>\n",
              "      <th>1459</th>\n",
              "      <td>False</td>\n",
              "      <td>False</td>\n",
              "      <td>False</td>\n",
              "      <td>False</td>\n",
              "      <td>False</td>\n",
              "      <td>False</td>\n",
              "      <td>False</td>\n",
              "      <td>False</td>\n",
              "      <td>False</td>\n",
              "      <td>False</td>\n",
              "      <td>False</td>\n",
              "      <td>False</td>\n",
              "      <td>True</td>\n",
              "      <td>True</td>\n",
              "      <td>False</td>\n",
              "    </tr>\n",
              "    <tr>\n",
              "      <th>1460</th>\n",
              "      <td>False</td>\n",
              "      <td>False</td>\n",
              "      <td>False</td>\n",
              "      <td>False</td>\n",
              "      <td>False</td>\n",
              "      <td>False</td>\n",
              "      <td>False</td>\n",
              "      <td>False</td>\n",
              "      <td>False</td>\n",
              "      <td>False</td>\n",
              "      <td>False</td>\n",
              "      <td>False</td>\n",
              "      <td>True</td>\n",
              "      <td>True</td>\n",
              "      <td>False</td>\n",
              "    </tr>\n",
              "  </tbody>\n",
              "</table>\n",
              "<p>1460 rows × 15 columns</p>\n",
              "</div>"
            ],
            "text/plain": [
              "      LotArea  Street  Neighborhood  ...  PoolQC  Fence  SalePrice\n",
              "Id                                   ...                          \n",
              "1       False   False         False  ...    True   True      False\n",
              "2       False   False         False  ...    True   True      False\n",
              "3       False   False         False  ...    True   True      False\n",
              "4       False   False         False  ...    True   True      False\n",
              "5       False   False         False  ...    True   True      False\n",
              "...       ...     ...           ...  ...     ...    ...        ...\n",
              "1456    False   False         False  ...    True   True      False\n",
              "1457    False   False         False  ...    True  False      False\n",
              "1458    False   False         False  ...    True  False      False\n",
              "1459    False   False         False  ...    True   True      False\n",
              "1460    False   False         False  ...    True   True      False\n",
              "\n",
              "[1460 rows x 15 columns]"
            ]
          },
          "metadata": {},
          "execution_count": 39
        }
      ]
    },
    {
      "cell_type": "markdown",
      "metadata": {
        "id": "C2u2pIYFPfZW"
      },
      "source": [
        "Notice that it can be cumbersome to work with the data returned above. If you are working with a really small data set you should be fine, but with thousands of rows and several columns, as in our case, we can only add the number of missing values per column, as follows."
      ]
    },
    {
      "cell_type": "code",
      "metadata": {
        "colab": {
          "base_uri": "https://localhost:8080/"
        },
        "id": "orfgU_8gRaOx",
        "outputId": "aff9f19c-445a-4b2e-80d5-d64be4a53980"
      },
      "source": [
        "df.isnull().sum()"
      ],
      "execution_count": 68,
      "outputs": [
        {
          "output_type": "execute_result",
          "data": {
            "text/plain": [
              "LotArea            0\n",
              "Street             0\n",
              "Neighborhood       0\n",
              "HouseStyle         0\n",
              "YearBuilt          0\n",
              "CentralAir         0\n",
              "Bedroom            0\n",
              "Fireplaces         0\n",
              "GarageType        81\n",
              "GarageYrBlt       81\n",
              "GarageArea         0\n",
              "PoolArea           0\n",
              "PoolQC          1453\n",
              "Fence           1179\n",
              "SalePrice          0\n",
              "dtype: int64"
            ]
          },
          "metadata": {},
          "execution_count": 68
        }
      ]
    },
    {
      "cell_type": "markdown",
      "metadata": {
        "id": "8O53iNbfReMC"
      },
      "source": [
        "Much better now! We can easily visualize the number of missing values for each column. We could also realize that most columns are complete, which is great. The *sum* function added all values returned as *True* by *isnull* because they are equivalent to *1*. *False* values are equivalent to *0*. \n",
        "\n",
        "We can also check the proportion of missing values for each column:"
      ]
    },
    {
      "cell_type": "code",
      "metadata": {
        "colab": {
          "base_uri": "https://localhost:8080/"
        },
        "id": "10fgwF4fSOP5",
        "outputId": "a2fca0be-66c5-449b-81ff-9214e87c954f"
      },
      "source": [
        "df.isnull().sum() / df.shape[0]"
      ],
      "execution_count": 41,
      "outputs": [
        {
          "output_type": "execute_result",
          "data": {
            "text/plain": [
              "LotArea         0.000000\n",
              "Street          0.000000\n",
              "Neighborhood    0.000000\n",
              "HouseStyle      0.000000\n",
              "YearBuilt       0.000000\n",
              "CentralAir      0.000000\n",
              "Bedroom         0.000000\n",
              "Fireplaces      0.000000\n",
              "GarageType      0.055479\n",
              "GarageYrBlt     0.055479\n",
              "GarageArea      0.000000\n",
              "PoolArea        0.000000\n",
              "PoolQC          0.995205\n",
              "Fence           0.807534\n",
              "SalePrice       0.000000\n",
              "dtype: float64"
            ]
          },
          "metadata": {},
          "execution_count": 41
        }
      ]
    },
    {
      "cell_type": "markdown",
      "metadata": {
        "id": "oihoq6tkbrUC"
      },
      "source": [
        "Let's take a step further and use Python to get only the columns with missing values and display the percentage of values that are missing."
      ]
    },
    {
      "cell_type": "code",
      "metadata": {
        "colab": {
          "base_uri": "https://localhost:8080/"
        },
        "id": "xmx2J8-ZTDdG",
        "outputId": "117170fa-748b-43f7-83ee-70fff347ade9"
      },
      "source": [
        "for column in df.columns:\n",
        "  if df[column].isnull().sum() > 0:\n",
        "    print(column, ': {:.2%}'.format(df[column].isnull().sum() / df[column].shape[0]))"
      ],
      "execution_count": 42,
      "outputs": [
        {
          "output_type": "stream",
          "text": [
            "GarageType : 5.55%\n",
            "GarageYrBlt : 5.55%\n",
            "PoolQC : 99.52%\n",
            "Fence : 80.75%\n"
          ],
          "name": "stdout"
        }
      ]
    },
    {
      "cell_type": "markdown",
      "metadata": {
        "id": "fDqhMrr7cVW1"
      },
      "source": [
        "### Removing missing values\n",
        "\n",
        "After detecting the missing values, we need to decide what to do with them. Here, I'll show you how to eliminate missing values.\n",
        "\n",
        "We should be very cautious before removing a whole column or row because we are taking data out of our data set and it can harm your analysis.\n",
        "\n",
        "First, let's think about the feature *PoolQC*. Since over 99% of the values are missing in this column, we are going to remove it. As we already saw in an earlier section, we can drop a column with the function *drop*.\n",
        "\n",
        "Here, I'll use a copy of the original DataFrame.\n",
        "\n"
      ]
    },
    {
      "cell_type": "code",
      "metadata": {
        "id": "SZFcKAHyCUYQ"
      },
      "source": [
        "df_toremove = df.copy()"
      ],
      "execution_count": 51,
      "outputs": []
    },
    {
      "cell_type": "code",
      "metadata": {
        "id": "3U6j3M5KzZ5Z"
      },
      "source": [
        "df_toremove.drop(labels='PoolQC', axis=1, inplace=True)"
      ],
      "execution_count": 53,
      "outputs": []
    },
    {
      "cell_type": "markdown",
      "metadata": {
        "id": "t3-QfSjU0-l5"
      },
      "source": [
        "Now, let's take a look at *GarageType*. Since it only has about 5% of values missing, we can simply remove the rows where we have missing values for this feature, using the function *dropna*."
      ]
    },
    {
      "cell_type": "code",
      "metadata": {
        "id": "UcqhY9kI1Ydp"
      },
      "source": [
        "df_toremove.dropna(subset=['GarageType'], axis=0, inplace=True)"
      ],
      "execution_count": 55,
      "outputs": []
    },
    {
      "cell_type": "markdown",
      "metadata": {
        "id": "WIcM-vzRcXTV"
      },
      "source": [
        "### Filling missing values\n",
        "\n",
        "When we are dealing with missing values, besides removing them we can fill these missing data with some non-null value. There are several techniques to help you determine which values you should insert in your data, including using machine learning, and I really recommend you search for articles about this topic, but here I'm only showing the tools provided by *Pandas* to do the job.\n",
        "\n",
        "First, let's take a look at the feature *Fence*. Notice that it has 80% of missing values. Suppose it happened because these houses just don't have fences! So, we are filling these missing data with the string *NoFence*.\n",
        "\n",
        "Once again, I'll use a copy of the original DataFrame."
      ]
    },
    {
      "cell_type": "code",
      "metadata": {
        "id": "vokjjHs5C0oH"
      },
      "source": [
        "df_tofill = df.copy()"
      ],
      "execution_count": 57,
      "outputs": []
    },
    {
      "cell_type": "code",
      "metadata": {
        "id": "6yJSUcZRAfEZ"
      },
      "source": [
        "df_tofill['Fence'].fillna(value='NoFence', inplace=True)"
      ],
      "execution_count": 59,
      "outputs": []
    },
    {
      "cell_type": "markdown",
      "metadata": {
        "id": "HaodbhxGDDQa"
      },
      "source": [
        "Now, let's check the feature *GarageYrBlt*. In this example, I'll show you how to fill the entries with the median value for the column."
      ]
    },
    {
      "cell_type": "code",
      "metadata": {
        "id": "I8vw-ICoD6Xs"
      },
      "source": [
        "garage_median = df_tofill['GarageYrBlt'].median()\n",
        "df_tofill.fillna({'GarageYrBlt': garage_median}, inplace=True)"
      ],
      "execution_count": 66,
      "outputs": []
    },
    {
      "cell_type": "markdown",
      "metadata": {
        "id": "-4ivAW2S1sEF"
      },
      "source": [
        "Let me remember you that these examples are just for educational purposes. You might have realized that *GarageType* and *GarageYrBlt* had 81 missing values. It's probably because those houses don't have any garages. Removing these rows for missing *GarageType* and filling *GarageYrBlt* with some value might not be the smartest thing to do in a real-life analysis. In fact, if I wasn't using copies of the original DataFrame, you would see that when we dropped the rows where *GarageType* was missing, those were the same 81 rows where *GarageYrBlt* was missing as well. This shows the importance of interpreting and knowing your data."
      ]
    },
    {
      "cell_type": "markdown",
      "metadata": {
        "id": "UuhYPa1MRaoZ"
      },
      "source": [
        "## Visualizing data\n",
        "\n",
        "In this section, I'll talk about how to do some simple plotting with *Pandas*. If you want to build more elaborate charts, I recommend you take a look at 2 other Python libraries: [Matplotlib](https://matplotlib.org/) and [Seaborn](https://seaborn.pydata.org/).\n",
        "\n",
        "Here, we'll see  two types of charts: histogram and scatter plot.\n"
      ]
    },
    {
      "cell_type": "markdown",
      "metadata": {
        "id": "-DTHyUZBN4sm"
      },
      "source": [
        "### Histograms\n",
        "\n",
        "Histograms are great to display the distribution of data. Below is a histogram of the feature *SalePrice*, where the **x-axis** contains *bins* that divide the values into intervals, and the **y-axis** is for the frequency."
      ]
    },
    {
      "cell_type": "code",
      "metadata": {
        "colab": {
          "base_uri": "https://localhost:8080/",
          "height": 265
        },
        "id": "pdSC2yNJOSJM",
        "outputId": "e445e8cb-c7a5-44f9-e31c-65858c15f7e7"
      },
      "source": [
        "df['SalePrice'].plot(kind='hist');"
      ],
      "execution_count": 83,
      "outputs": [
        {
          "output_type": "display_data",
          "data": {
            "image/png": "[encoded data removed]",
            "text/plain": [
              "<Figure size 432x288 with 1 Axes>"
            ]
          },
          "metadata": {
            "needs_background": "light"
          }
        }
      ]
    },
    {
      "cell_type": "markdown",
      "metadata": {
        "id": "Yoi-8Z8gQ9E3"
      },
      "source": [
        "### Scatter plots\n",
        "\n",
        "With a scatter plot you can visualize the relationship between two variables. The chart is built using [cartesian coordinates](https://en.wikipedia.org/wiki/Cartesian_coordinate_system) to display the values as a collection of points, each having the value of one variable determining the position on the **x-axis** and the value of the other variable determining the position on the **y-axis**.\n",
        "\n",
        "Let's build a scatter plot for the variables *SalePrice* and *YearBuilt* to check if there is any relationship between them."
      ]
    },
    {
      "cell_type": "code",
      "metadata": {
        "colab": {
          "base_uri": "https://localhost:8080/",
          "height": 297
        },
        "id": "CH3dg-ZqSavZ",
        "outputId": "259abb0a-fb79-4add-849f-00154062d02d"
      },
      "source": [
        "df.plot(x='SalePrice', y='YearBuilt', kind='scatter')"
      ],
      "execution_count": 87,
      "outputs": [
        {
          "output_type": "execute_result",
          "data": {
            "text/plain": [
              "<matplotlib.axes._subplots.AxesSubplot at 0x7f72eca45a10>"
            ]
          },
          "metadata": {},
          "execution_count": 87
        },
        {
          "output_type": "display_data",
          "data": {
            "image/png": "[encoded data removed]",
            "text/plain": [
              "<Figure size 432x288 with 1 Axes>"
            ]
          },
          "metadata": {
            "needs_background": "light"
          }
        }
      ]
    },
    {
      "cell_type": "markdown",
      "metadata": {
        "id": "Vvpp06prTBko"
      },
      "source": [
        "Well, we can see that there is a small positive relationship between the sale price and the year of construction.\n",
        "\n",
        "The *plot* function also supports many other kinds of charts, such as line, bar, area, pie, etc."
      ]
    },
    {
      "cell_type": "markdown",
      "metadata": {
        "id": "lWCJUc3FT-Vx"
      },
      "source": [
        "## Saving to file\n",
        "\n",
        "In the last section of this article, let's see how to save our DataFrame as a file. \n",
        "\n",
        "Just like when we read the *csv* file to create our DataFrame, we can also save our DataFrame in [various formats](https://pandas.pydata.org/pandas-docs/stable/user_guide/io.html). If you are using *Google Colab*, you can simply write the following line of code, to save a *csv* file."
      ]
    },
    {
      "cell_type": "code",
      "metadata": {
        "id": "Lis5Moc9VgM-"
      },
      "source": [
        "df.to_csv('My_DataFrame.csv')"
      ],
      "execution_count": 88,
      "outputs": []
    },
    {
      "cell_type": "markdown",
      "metadata": {
        "id": "XVZi8Vjwf0m1"
      },
      "source": [
        "You can also specify a path in your machine. In windows, for instance:"
      ]
    },
    {
      "cell_type": "code",
      "metadata": {
        "id": "FN2KeHp1fEvL"
      },
      "source": [
        "df.to_csv('C:/Users/username/Documents/My_DataFrame.csv')"
      ],
      "execution_count": 93,
      "outputs": []
    },
    {
      "cell_type": "markdown",
      "metadata": {
        "id": "ChimQnmLDeFV"
      },
      "source": [
        "## Conclusion\n",
        "\n",
        "I hope this article helped you get a grasp of what you can do with *Pandas*. After some practice, it gets quite effortless to manipulate your data.\n",
        "\n",
        "*Pandas* is widely used in data science. Many data scientists make use of it to manipulate data before building machine learning models, but you can benefit from it even in simpler tasks you would do in *Excel*.\n",
        "\n",
        "Nowadays, at work, many of the activities I used to do in excel I'm doing with Python and Pandas. Maybe the learning curve is a little steeper, but the potential increase in your productivity pays off, not to mention that Python is an excellent tool to have under your belt!"
      ]
    }
  ]
}