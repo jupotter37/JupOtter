{
  "nbformat": 4,
  "nbformat_minor": 0,
  "metadata": {
    "colab": {
      "provenance": [],
      "collapsed_sections": [
        "rGJOITtJZdMB",
        "jUnCA3AJbm8a",
        "4VKs6ymOe6Sd",
        "mCeVv25bzqEp",
        "4KJFoeA5DBMT",
        "nx5jlUvFPf3H"
      ],
      "include_colab_link": true
    },
    "kernelspec": {
      "name": "python3",
      "display_name": "Python 3"
    },
    "language_info": {
      "name": "python"
    }
  },
  "cells": [
    {
      "cell_type": "markdown",
      "metadata": {
        "id": "view-in-github",
        "colab_type": "text"
      },
      "source": [
        "<a href=\"https://colab.research.google.com/github/JeslyP/JeslyP/blob/main/W1_Python.ipynb\" target=\"_parent\"><img src=\"https://colab.research.google.com/assets/colab-badge.svg\" alt=\"Open In Colab\"/></a>"
      ]
    },
    {
      "cell_type": "markdown",
      "source": [
        "## AI Society Python Tutorial #1"
      ],
      "metadata": {
        "id": "RBmfJ7_jWlAF"
      }
    },
    {
      "cell_type": "markdown",
      "source": [
        "Welcome to the first beginner's Python tutorial! I'll do my best to explain everything that we will introduce today, but if there's anything you don't understand or get stuck on, please let us know and we will come over and help you."
      ],
      "metadata": {
        "id": "rEbh8feTXBnl"
      }
    },
    {
      "cell_type": "markdown",
      "source": [
        "**PLEASE MAKE A COPY OF THIS NOTEBOOK ( FILE -> SAVE A COPY... ) TO BE ABLE TO EDIT IT**"
      ],
      "metadata": {
        "id": "nFo9ewC_CiyJ"
      }
    },
    {
      "cell_type": "code",
      "source": [],
      "metadata": {
        "id": "29oVamEKMEbU"
      },
      "execution_count": null,
      "outputs": []
    },
    {
      "cell_type": "markdown",
      "source": [
        "# **What is Python?**"
      ],
      "metadata": {
        "id": "rGJOITtJZdMB"
      }
    },
    {
      "cell_type": "markdown",
      "source": [
        "Programming is telling a computer what to do. We do this using **programming languages**. We will be using the **Python** programming language in these sessions, both because it is widely used in AI but also because it is one of the easiest languages to learn nowadays, for a few reasons:\n",
        "\n",
        "Python has a lot of good documentation online - if you Google any question you might have, someone has probably already asked and answered it.\n",
        "\n",
        "Python also has a very *'readable syntax'*. This means that it is quite easy to look at some Python code and be able to tell what is going on, compared to a lot of other programming languages. This makes it a little bit easier to learn.\n",
        "\n",
        "Conveniently, this Google Colab notebook you're looking at right now allows us to write and execute Python code in the web browser. This saves us having to install anything or use a text editor, we can do everything we need to on this page."
      ],
      "metadata": {
        "id": "uFKIbCwvW9cT"
      }
    },
    {
      "cell_type": "markdown",
      "source": [
        "If you click the little play button next to the block of code below, it should execute and show you some output."
      ],
      "metadata": {
        "id": "Q7NKT-qyY6cI"
      }
    },
    {
      "cell_type": "code",
      "source": [
        "print(\"Hello! Please run me\")"
      ],
      "metadata": {
        "colab": {
          "base_uri": "https://localhost:8080/"
        },
        "id": "8J2Ygb5OZQk_",
        "outputId": "9b1ced14-0f4e-4ff6-9e7e-3d60339e5352"
      },
      "execution_count": null,
      "outputs": [
        {
          "output_type": "stream",
          "name": "stdout",
          "text": [
            "Hello! Please run me\n"
          ]
        }
      ]
    },
    {
      "cell_type": "markdown",
      "source": [
        "If that worked, and a little box popped up saying 'Hello! Please run me', then perfect! That's all we need to get started. If not, give one of us a shout.\n",
        "\n",
        "You should run every block of code that appears in the notebook in order, because some of the later blocks rely on code that appears in earlier ones."
      ],
      "metadata": {
        "id": "L0d1Ngt3ZrJ6"
      }
    },
    {
      "cell_type": "markdown",
      "source": [
        "One more thing I would recommend before we start is turning off the futuristic automatic code generation that's built into Google Colab, because it will instantly solve all of the practise problems for you and you won't learn anything.\n",
        "\n",
        "You can do this by going to Tools -> Settings -> Editor and unchecking 'Automatically trigger code completions', or go one step further and disable the AI altogether by doing Tools -> Settings -> AI assistance -> 'Hide all generative AI features'.\n",
        "\n",
        "However, you're definitely okay to ask the Gemini chatbot for help if you get stuck on anything - programmers do this all the time and it's generally pretty helpful, but don't rely on it to solve the problems for you because you need to be able to do them yourself to check if the generated answers are correct!"
      ],
      "metadata": {
        "id": "fWzZQmuOaAns"
      }
    },
    {
      "cell_type": "markdown",
      "source": [
        "**Stop making me read and teach me some Python**"
      ],
      "metadata": {
        "id": "iempbXana5jo"
      }
    },
    {
      "cell_type": "markdown",
      "source": [
        "# **Variables**"
      ],
      "metadata": {
        "id": "jUnCA3AJbm8a"
      }
    },
    {
      "cell_type": "markdown",
      "source": [
        "In programming, variables are how we store information. If I wanted to write some code which used your name and your age in some way, I would store your name and age as a variable. Let's see an example:"
      ],
      "metadata": {
        "id": "VNaFcSt9bsUp"
      }
    },
    {
      "cell_type": "code",
      "source": [
        "my_age = 22"
      ],
      "metadata": {
        "id": "scD97jM0cMTU"
      },
      "execution_count": null,
      "outputs": []
    },
    {
      "cell_type": "markdown",
      "source": [
        "This line of code creates a variable called *my_age* and stores the value *22* in that variable. This means, that if I wanted to use my age later on, I could write something like:\n",
        "\n"
      ],
      "metadata": {
        "id": "4gUyKlg6cP-w"
      }
    },
    {
      "cell_type": "code",
      "source": [
        "print(my_age)"
      ],
      "metadata": {
        "colab": {
          "base_uri": "https://localhost:8080/"
        },
        "id": "jJ5M80FYcpHJ",
        "outputId": "732d32c7-c7a3-4560-e522-a409ed6dc05d"
      },
      "execution_count": null,
      "outputs": [
        {
          "output_type": "stream",
          "name": "stdout",
          "text": [
            "22\n"
          ]
        }
      ]
    },
    {
      "cell_type": "markdown",
      "source": [
        "I've used this magic 'print' word a few times now. It just displays whatever I put inside the brackets."
      ],
      "metadata": {
        "id": "mLg0dZ0Gc_fE"
      }
    },
    {
      "cell_type": "markdown",
      "source": [
        "We can update the value in the variable as we go. For example:"
      ],
      "metadata": {
        "id": "XMZtUAZgdmoK"
      }
    },
    {
      "cell_type": "code",
      "source": [
        "number = 100\n",
        "print(number)\n",
        "number = 200\n",
        "print(number)"
      ],
      "metadata": {
        "colab": {
          "base_uri": "https://localhost:8080/"
        },
        "id": "z3-4zc5MdqQH",
        "outputId": "06b87638-e418-470b-b04f-a8852ea08ab7"
      },
      "execution_count": null,
      "outputs": [
        {
          "output_type": "stream",
          "name": "stdout",
          "text": [
            "100\n",
            "200\n"
          ]
        }
      ]
    },
    {
      "cell_type": "markdown",
      "source": [
        "I hope this is fairly intuitive. *number* is first set to 100, we display it, we change the value of *number* to 200, then we display it again."
      ],
      "metadata": {
        "id": "7lQkI9eQdwwJ"
      }
    },
    {
      "cell_type": "markdown",
      "source": [
        "**TASK 1**\n",
        "\n",
        "In the box below, can you create a variable called *current_year* and set it to the current year?"
      ],
      "metadata": {
        "id": "qCQrUb5eeGr7"
      }
    },
    {
      "cell_type": "markdown",
      "source": [
        "By the way, the # symbol is a comment - it means we can write whatever we want afterwards and Python will ignore it. Comments let us write notes for ourselves or other programmers."
      ],
      "metadata": {
        "id": "h4eGaxWvwmBx"
      }
    },
    {
      "cell_type": "code",
      "source": [
        "#Start typing on the next line\n"
      ],
      "metadata": {
        "id": "v7Yor6zMeWvO"
      },
      "execution_count": null,
      "outputs": []
    },
    {
      "cell_type": "markdown",
      "source": [
        "Can you now display it to the screen?"
      ],
      "metadata": {
        "id": "ljoM4bkxeZg2"
      }
    },
    {
      "cell_type": "code",
      "source": [
        "#Start typing on the next line\n"
      ],
      "metadata": {
        "id": "DgW9X4lGecyo"
      },
      "execution_count": null,
      "outputs": []
    },
    {
      "cell_type": "markdown",
      "source": [
        "Can you update *current_year* to some other number, and display it again?"
      ],
      "metadata": {
        "id": "2VHuSD5eeeLg"
      }
    },
    {
      "cell_type": "code",
      "source": [
        "#Start typing on the next line\n"
      ],
      "metadata": {
        "id": "H3SU5bzlejg7"
      },
      "execution_count": null,
      "outputs": []
    },
    {
      "cell_type": "markdown",
      "source": [
        "**END OF TASK 1 - See the bottom of the page for model answers if you got stuck!**"
      ],
      "metadata": {
        "id": "LsLxnXJliNOc"
      }
    },
    {
      "cell_type": "markdown",
      "source": [
        "If you want to read more about variables in Python, you can have a look at this web page: https://www.w3schools.com/python/python_variables.asp"
      ],
      "metadata": {
        "id": "kH8tZYe_6vrb"
      }
    },
    {
      "cell_type": "markdown",
      "source": [
        "What if I wanted to make a variable to store my name? Let's try it:"
      ],
      "metadata": {
        "id": "lG3ttOrseDSR"
      }
    },
    {
      "cell_type": "code",
      "source": [
        "my_name = Luke"
      ],
      "metadata": {
        "colab": {
          "base_uri": "https://localhost:8080/",
          "height": 144
        },
        "id": "8Jd8-rTcepAV",
        "outputId": "f86dbba9-365f-4c05-987b-da85a9aaca93"
      },
      "execution_count": null,
      "outputs": [
        {
          "output_type": "error",
          "ename": "NameError",
          "evalue": "name 'Luke' is not defined",
          "traceback": [
            "\u001b[0;31m---------------------------------------------------------------------------\u001b[0m",
            "\u001b[0;31mNameError\u001b[0m                                 Traceback (most recent call last)",
            "\u001b[0;32m<ipython-input-9-f419c8c431dc>\u001b[0m in \u001b[0;36m<cell line: 1>\u001b[0;34m()\u001b[0m\n\u001b[0;32m----> 1\u001b[0;31m \u001b[0mmy_name\u001b[0m \u001b[0;34m=\u001b[0m \u001b[0mLuke\u001b[0m\u001b[0;34m\u001b[0m\u001b[0;34m\u001b[0m\u001b[0m\n\u001b[0m",
            "\u001b[0;31mNameError\u001b[0m: name 'Luke' is not defined"
          ]
        }
      ]
    },
    {
      "cell_type": "markdown",
      "source": [
        "When you run this, you'll get a big scary error message. This is because we have to treat some types of information, like text, differently to how we treat numbers. This is because of something called data types..."
      ],
      "metadata": {
        "id": "y8G9DGJAerzT"
      }
    },
    {
      "cell_type": "markdown",
      "source": [
        "# **Data Types**"
      ],
      "metadata": {
        "id": "4VKs6ymOe6Sd"
      }
    },
    {
      "cell_type": "markdown",
      "source": [
        "Under the hood, Python treats numbers and text very differently. This is because some of the things we do with numbers, we can't do with text, and vice versa. '6 squared' makes perfect sense. What's 'Luke squared' ? I wouldn't want to find out."
      ],
      "metadata": {
        "id": "baBh9pSCqyhO"
      }
    },
    {
      "cell_type": "markdown",
      "source": [
        "We address this problem with data types. A data type is just the **type** of the **data** we are storing or dealing with.\n",
        "\n",
        "I'll introduce four data types that we need to be concerned with. Python has many more than this in-built but these are the main ones you need to know about:\n",
        "\n",
        "\n",
        "\n",
        "1.   **Integers (int)**\n",
        "\n",
        "Integers are *whole numbers*. 40, 6, 38 are all integers. So are -15, 0, 9999999.\n",
        "\n",
        "2.   **Floats (float)**\n",
        "\n",
        "Floating point numbers, or 'floats' are numbers with a *decimal point*. 16.5, 30.2, and -83.68739 are all floats.\n",
        "\n",
        "If you want to know why we call them floats, you can Google it because I'm sure they will explain it better than I will.\n",
        "\n",
        "3. **Strings (string)**\n",
        "\n",
        "A string is how we store *text*. You can think of text as a *string of letters* - \"ABC\" is A then B then C. This is how we store text in a computer, so we call it a string.\n",
        "\n",
        "You might see individual letters referred to as Characters (or 'char's). This is another datatype, but we probably won't need to remember that for now.\n",
        "\n",
        "4. **Boolean values (bool)**\n",
        "\n",
        "A Boolean value is either *True or False*. This is an extremely important concept when we come to doing anything useful.\n",
        "\n",
        "The expression '6 is less than 10', or '6 < 10' is True.\n",
        "\n",
        "'6 > 10' is False.\n",
        "\n",
        "This is another case where you can Google for why we call them Boolean values to save this turning into a Computer Science history lesson.\n",
        "\n"
      ],
      "metadata": {
        "id": "GqZ09aoGrJmH"
      }
    },
    {
      "cell_type": "markdown",
      "source": [
        "You'll notice I've been subtly lying to you. The £5 membership fee is absolutely not optional and I expect it to come through from all of you by the end of the week.\n",
        "\n",
        "Just kidding! I've been saying 'numbers' and 'text' are treated differently - when in fact, integer numbers, floating point numbers and strings are the things that are treated differently. We distinguish between whole and decimal numbers. *my_age* and *number* have been integers all along."
      ],
      "metadata": {
        "id": "fNKjscBpudTy"
      }
    },
    {
      "cell_type": "markdown",
      "source": [
        "Let's get back to our name variable. When we assign a String to a variable we need to surround the String in speech marks (\" \") to tell Python we want it to be a String."
      ],
      "metadata": {
        "id": "A7C3MIxwt4Sb"
      }
    },
    {
      "cell_type": "code",
      "source": [
        "my_name = \"Luke\"\n",
        "print(my_name)"
      ],
      "metadata": {
        "colab": {
          "base_uri": "https://localhost:8080/"
        },
        "id": "HjmGpuqjuIIt",
        "outputId": "01947b84-c84d-4547-f1e9-334a830b3a05"
      },
      "execution_count": null,
      "outputs": [
        {
          "output_type": "stream",
          "name": "stdout",
          "text": [
            "Luke\n"
          ]
        }
      ]
    },
    {
      "cell_type": "markdown",
      "source": [
        "Now it works!"
      ],
      "metadata": {
        "id": "cwXpCNatuLIF"
      }
    },
    {
      "cell_type": "markdown",
      "source": [
        "We can convert from one datatype to another. Say we have an integer, 50. It would be valid to express that as a float - 50.0 . We can do that with *casting*."
      ],
      "metadata": {
        "id": "dGWTMqr8wGk1"
      }
    },
    {
      "cell_type": "code",
      "source": [
        "number_2 = 50\n",
        "\n",
        "#here, 'type' tells us the datatype of a variable\n",
        "print(type(number_2))\n",
        "\n",
        "new_number_2 = float(number_2)\n",
        "\n",
        "print(type(new_number_2))\n"
      ],
      "metadata": {
        "colab": {
          "base_uri": "https://localhost:8080/"
        },
        "id": "t9Ow6f_6wSLf",
        "outputId": "fbb21c00-b20c-4e96-9c7f-5c69fa81528b"
      },
      "execution_count": null,
      "outputs": [
        {
          "output_type": "stream",
          "name": "stdout",
          "text": [
            "<class 'int'>\n",
            "<class 'float'>\n"
          ]
        }
      ]
    },
    {
      "cell_type": "markdown",
      "source": [
        "Let's see another example:"
      ],
      "metadata": {
        "id": "LhFcQxi5yIu_"
      }
    },
    {
      "cell_type": "code",
      "source": [
        "counter = 5\n",
        "print(counter)\n",
        "\n",
        "float_counter = float(counter)\n",
        "print(float_counter)\n",
        "\n",
        "back_into_an_int_counter = int(float_counter)\n",
        "print(back_into_an_int_counter)\n",
        "\n",
        "string_counter = str(counter)\n",
        "#or str(float_counter) or str(back_into_an_int_counter) !\n",
        "print(string_counter)\n",
        "\n",
        "confusing_counter = str(float(int(counter)))\n",
        "print(confusing_counter)"
      ],
      "metadata": {
        "colab": {
          "base_uri": "https://localhost:8080/"
        },
        "id": "3KWY2AtuyK9y",
        "outputId": "8e0b6789-2e09-42e0-e66c-ed8ce2b6c5ce"
      },
      "execution_count": null,
      "outputs": [
        {
          "output_type": "stream",
          "name": "stdout",
          "text": [
            "5\n",
            "5.0\n",
            "5\n",
            "5\n",
            "5.0\n"
          ]
        }
      ]
    },
    {
      "cell_type": "markdown",
      "source": [
        "You'll notice that *counter* and *string_counter* look the same in the output when you click the run button. But we know that the string version is different somehow. Where are the \" \" ?\n",
        "\n",
        "When we want to display a value, we use *print*. *print* actually converts - casts - whatever you give it into a String before displaying it. So all of the values we've seen throughout this notebook have been the String representations of them. When we display these values we drop the \" \" because they are redundant."
      ],
      "metadata": {
        "id": "4ttXZzVay8K2"
      }
    },
    {
      "cell_type": "markdown",
      "source": [
        "We can cast to an integer with int(), to a float with float(), to a string with str(). It doesn't really make sense to cast to a bool for reasons we'll see later.\n",
        "\n",
        "This is probably the first place we have to start exercising a bit of caution. I could just try to cast anything into anything. I could try to cast \"Hello\" to an integer - but this obviously doesn't make sense. If I tried that, I would get an error message.\n",
        "\n",
        "We have to make sure that our casts are sensible for them to work properly:\n",
        "\n",
        "\n",
        "*   Converting between numeric types is pretty much fine, but you might sometimes get some weird behaviour. 35.6 converted to an Integer would be 35, and we'd lose the 0.6 .\n",
        "*   Converting from a String to a number will work IF the string will make sense as a number.\n",
        "*   Converting into a String is pretty safe.\n"
      ],
      "metadata": {
        "id": "dD8edxAwxB7C"
      }
    },
    {
      "cell_type": "markdown",
      "source": [
        "You can read more about data types here if you want to: https://www.w3schools.com/python/python_datatypes.asp"
      ],
      "metadata": {
        "id": "MKNptsK36idb"
      }
    },
    {
      "cell_type": "markdown",
      "source": [
        "# **Operations**"
      ],
      "metadata": {
        "id": "mCeVv25bzqEp"
      }
    },
    {
      "cell_type": "markdown",
      "source": [
        "An operation is just something we do to some data.\n",
        "\n",
        "If we have two numbers, one operation could be to add them. Or to multiply them.\n",
        "\n",
        "I'll list some of the common operations you might use."
      ],
      "metadata": {
        "id": "OGvKsot84cwY"
      }
    },
    {
      "cell_type": "markdown",
      "source": [
        "For integers and floats, everything works pretty much how you might expect:"
      ],
      "metadata": {
        "id": "X15g0a3y4ueY"
      }
    },
    {
      "cell_type": "code",
      "source": [
        "a = 10\n",
        "b = 5\n",
        "\n",
        "print(a + b)  #addition\n",
        "print(a - b)  #subtraction\n",
        "print(a * b)  #multiplication\n",
        "print(a / b)  #division\n",
        "print(a ** b) #a to the power of b\n",
        "print(a % b)  #a modulo b - this is the remainder of a / b\n",
        "#and more ..."
      ],
      "metadata": {
        "colab": {
          "base_uri": "https://localhost:8080/"
        },
        "id": "TBqb7r2F4z1x",
        "outputId": "b94d6e40-1f55-45b8-908d-3057a49c5e5b"
      },
      "execution_count": null,
      "outputs": [
        {
          "output_type": "stream",
          "name": "stdout",
          "text": [
            "15\n",
            "5\n",
            "50\n",
            "2.0\n",
            "100000\n",
            "0\n"
          ]
        }
      ]
    },
    {
      "cell_type": "code",
      "source": [
        "c = 6.5\n",
        "d = 4.0\n",
        "\n",
        "print(c + d)  #addition\n",
        "print(c - d)  #subtraction\n",
        "print(c * d)  #multiplication\n",
        "print(c / d)  #division\n",
        "print(c ** d) #c to the power of d\n",
        "print(c % d)  #c modulo d - this is the remainder of c / d\n",
        "#and more ..."
      ],
      "metadata": {
        "colab": {
          "base_uri": "https://localhost:8080/"
        },
        "outputId": "c760da82-8987-4f33-940b-fedc07a1a4a7",
        "id": "f4A0uCEb5V9A"
      },
      "execution_count": null,
      "outputs": [
        {
          "output_type": "stream",
          "name": "stdout",
          "text": [
            "10.5\n",
            "2.5\n",
            "26.0\n",
            "1.625\n",
            "1785.0625\n",
            "2.5\n"
          ]
        }
      ]
    },
    {
      "cell_type": "markdown",
      "source": [
        "With strings, some of the symbols we use are the same, but they mean different things.\n",
        "\n",
        "We can 'add' two strings - this is called String Concatenation, and it means joining one string onto the end of another."
      ],
      "metadata": {
        "id": "qmD7mfbB5r1p"
      }
    },
    {
      "cell_type": "code",
      "source": [
        "word1 = \"Hello \"\n",
        "word2 = \"World\"\n",
        "print(word1 + word2)"
      ],
      "metadata": {
        "colab": {
          "base_uri": "https://localhost:8080/"
        },
        "id": "y4eMGO4J50ie",
        "outputId": "52f0881a-237e-41d3-9650-199bcc29f043"
      },
      "execution_count": null,
      "outputs": [
        {
          "output_type": "stream",
          "name": "stdout",
          "text": [
            "Hello World\n"
          ]
        }
      ]
    },
    {
      "cell_type": "markdown",
      "source": [
        "We can also 'multiply' strings. This is like repeated string concantenation, but we are concatenating the original string onto itself multiple times."
      ],
      "metadata": {
        "id": "xPYnJS1H58MO"
      }
    },
    {
      "cell_type": "code",
      "source": [
        "word3 = \"Banana\"\n",
        "print(word3 * 5)"
      ],
      "metadata": {
        "colab": {
          "base_uri": "https://localhost:8080/"
        },
        "id": "OnteJsjO6EJn",
        "outputId": "78f8738b-da3b-4870-cdb9-0c4fe06b0b06"
      },
      "execution_count": null,
      "outputs": [
        {
          "output_type": "stream",
          "name": "stdout",
          "text": [
            "BananaBananaBananaBananaBanana\n"
          ]
        }
      ]
    },
    {
      "cell_type": "markdown",
      "source": [
        "There are lots more string operations. There is a good list here https://www.w3schools.com/python/python_strings.asp"
      ],
      "metadata": {
        "id": "wksXHMJh6Yo_"
      }
    },
    {
      "cell_type": "markdown",
      "source": [
        "I have touched on Boolean values but we haven't made much use of them. They're a bit hard to contextualise without the stuff in the next section, but there are also some operations we can do on them we need to cover.\n",
        "\n",
        "Say we have two boolean variables, A and B."
      ],
      "metadata": {
        "id": "vV-VTFBD65AI"
      }
    },
    {
      "cell_type": "code",
      "source": [
        "A = True\n",
        "B = False"
      ],
      "metadata": {
        "id": "XGpzMhTf7JS5"
      },
      "execution_count": null,
      "outputs": []
    },
    {
      "cell_type": "markdown",
      "source": [
        "*A AND B* is True if and only if **both** A and B are True, otherwise it is False."
      ],
      "metadata": {
        "id": "oZE1dJHo7MJz"
      }
    },
    {
      "cell_type": "code",
      "source": [
        "print(A and B)"
      ],
      "metadata": {
        "colab": {
          "base_uri": "https://localhost:8080/"
        },
        "id": "n6vPg7t87W6c",
        "outputId": "0735cc15-14f7-45a3-f827-e1cfe60a77ed"
      },
      "execution_count": null,
      "outputs": [
        {
          "output_type": "stream",
          "name": "stdout",
          "text": [
            "False\n"
          ]
        }
      ]
    },
    {
      "cell_type": "markdown",
      "source": [
        "*A OR B* is True if **either** A or B are True, otherwise it is False."
      ],
      "metadata": {
        "id": "pvlLfz807b0e"
      }
    },
    {
      "cell_type": "code",
      "source": [
        "print(A or B)"
      ],
      "metadata": {
        "colab": {
          "base_uri": "https://localhost:8080/"
        },
        "id": "urMiZS4k7gCf",
        "outputId": "a617345d-625d-4d54-c5c8-20c8a04efd50"
      },
      "execution_count": null,
      "outputs": [
        {
          "output_type": "stream",
          "name": "stdout",
          "text": [
            "True\n"
          ]
        }
      ]
    },
    {
      "cell_type": "markdown",
      "source": [
        "*NOT A* is True if A is False, and False if A is True.\n",
        "\n",
        "*'NOT'* basically gives you back the opposite of whatever you give it.\n",
        "\n"
      ],
      "metadata": {
        "id": "Altn4n7s7mu-"
      }
    },
    {
      "cell_type": "code",
      "source": [
        "print(not A)\n",
        "print(not B)"
      ],
      "metadata": {
        "colab": {
          "base_uri": "https://localhost:8080/"
        },
        "id": "sBMRqYFO752T",
        "outputId": "7dd596c3-7075-4bc3-8887-3b43e080c094"
      },
      "execution_count": null,
      "outputs": [
        {
          "output_type": "stream",
          "name": "stdout",
          "text": [
            "False\n",
            "True\n"
          ]
        }
      ]
    },
    {
      "cell_type": "markdown",
      "source": [
        "That covers the main operations we'll need. As always there are more that I haven't mentioned. A complete-ish list can be found here: https://www.w3schools.com/python/python_operators.asp"
      ],
      "metadata": {
        "id": "SH3OSIx37-xl"
      }
    },
    {
      "cell_type": "markdown",
      "source": [
        "**TASK 2**\n",
        "\n",
        "Write some code which declares a variable *radius*. Give it whatever numerical value you want.\n",
        "\n",
        "Calculate the area of a circle with that radius. The formula for the area of a circle is π × radius^2.\n",
        "\n",
        "Display the result using print."
      ],
      "metadata": {
        "id": "1BJid-mJ8OrX"
      }
    },
    {
      "cell_type": "code",
      "source": [
        "#start typing on the next line!\n"
      ],
      "metadata": {
        "id": "G6pG3M-A8sQc"
      },
      "execution_count": null,
      "outputs": []
    },
    {
      "cell_type": "markdown",
      "source": [
        "Now cast the result of that calculation to a string, and display ten copies of it. For an extra challenge, can you do this in one line of code?"
      ],
      "metadata": {
        "id": "ysVLaxoY82cs"
      }
    },
    {
      "cell_type": "code",
      "source": [
        "#start typing on the next line!\n"
      ],
      "metadata": {
        "id": "9ab9QjCj9FL9"
      },
      "execution_count": null,
      "outputs": []
    },
    {
      "cell_type": "markdown",
      "source": [
        "# **If Statements**"
      ],
      "metadata": {
        "id": "4KJFoeA5DBMT"
      }
    },
    {
      "cell_type": "markdown",
      "source": [
        "Okay! We can now create variables, understand their type and do operations on them. So what?"
      ],
      "metadata": {
        "id": "0jvHJbHwDMUL"
      }
    },
    {
      "cell_type": "markdown",
      "source": [
        "There isn't much interactivity. Things happen the same way every time. We don't even have a way to make any decisions. This is where 'control flow' comes in - starting with the 'if statement'."
      ],
      "metadata": {
        "id": "WtvkjBCnDVNj"
      }
    },
    {
      "cell_type": "markdown",
      "source": [
        "An 'if statement' allows us to run (execute) a block of code ONLY if a certain condition is met.\n",
        "\n",
        "Let's say I want to congratulate someone on their exam result - but only if they passed!"
      ],
      "metadata": {
        "id": "Pp3VhNTgDkrQ"
      }
    },
    {
      "cell_type": "code",
      "source": [
        "grade = 60\n",
        "\n",
        "if (grade > 40):\n",
        "  print(\"Well done!\")"
      ],
      "metadata": {
        "colab": {
          "base_uri": "https://localhost:8080/"
        },
        "id": "rxFF_A87ECy8",
        "outputId": "c7383ecb-f55d-4df9-b65b-743ed394d3fb"
      },
      "execution_count": null,
      "outputs": [
        {
          "output_type": "stream",
          "name": "stdout",
          "text": [
            "Well done!\n"
          ]
        }
      ]
    },
    {
      "cell_type": "markdown",
      "source": [
        "This is the point of an if statement. Edit the code above and change *grade* to some value less than 40 - you'll see that the 'Well done!' message no longer shows."
      ],
      "metadata": {
        "id": "Bp7hXUWJEIlk"
      }
    },
    {
      "cell_type": "markdown",
      "source": [
        "There are a few notes on syntax. An if statement consists of:\n",
        "\n",
        "\n",
        "1.   *if (*\n",
        "2.   some condition. This can be literally anything *which evaluates to a Boolean*. More on this in a second.\n",
        "3. *):*\n",
        "4. **IMPORTANT:** An indentation. Usually one 'tab' key press or four spaces.\n",
        "5. Whatever you want to go inside the if block. This code only executes if the condition evaluates to True. There can be as many lines of code in here as you want, they just all need to be indented the same amount.\n",
        "\n",
        "*Strictly speaking, in Python you don't need the brackets. In every single other sensible programming language you do, so it's good practice, and I think it makes it much clearer to read and to be able to tell what's going on, so I'm sticking with them.*\n"
      ],
      "metadata": {
        "id": "uZc8-iMTEWRD"
      }
    },
    {
      "cell_type": "markdown",
      "source": [
        "All comparisons are evaluated by Python as a Boolean value - True or False.\n"
      ],
      "metadata": {
        "id": "7HfLiCsVFNzh"
      }
    },
    {
      "cell_type": "code",
      "source": [
        "num1 = 40\n",
        "num2 = 10\n",
        "\n",
        "print(num1 > num2)  #num1 is greater than num2\n",
        "print(num1 < num2)  #num1 is less than num2\n",
        "print(num1 >= num2) #num1 is greater than or equal to num2\n",
        "print(num1 == num2) #num1 is equal to num2\n",
        "print(num1 != num2) #num1 is not equal to num2"
      ],
      "metadata": {
        "colab": {
          "base_uri": "https://localhost:8080/"
        },
        "id": "8SCkxte6FkpG",
        "outputId": "6fe7063e-7044-4a46-91b5-4fd56024bad7"
      },
      "execution_count": null,
      "outputs": [
        {
          "output_type": "stream",
          "name": "stdout",
          "text": [
            "True\n",
            "False\n",
            "True\n",
            "False\n",
            "True\n"
          ]
        }
      ]
    },
    {
      "cell_type": "markdown",
      "source": [
        "In an if statement, if the comparison in the middle of the ( ) comes out as True, then the code inside the indented block will be executed."
      ],
      "metadata": {
        "id": "qZq7IcvCGAqS"
      }
    },
    {
      "cell_type": "markdown",
      "source": [
        "Sometimes, we want something to happen based on some condition, but something else to happen if the condition is not true.\n",
        "\n",
        "When I was congratulating people based on their grades earlier, maybe I would have wanted to say something to those who failed:"
      ],
      "metadata": {
        "id": "lCklopBTGgbV"
      }
    },
    {
      "cell_type": "code",
      "source": [
        "grade = 39\n",
        "\n",
        "if (grade > 40):\n",
        "  print(\"Well done!\")\n",
        "else:\n",
        "  print(\"Whoops!\")"
      ],
      "metadata": {
        "colab": {
          "base_uri": "https://localhost:8080/"
        },
        "id": "92wAHJwwGv2Z",
        "outputId": "a90be099-c26f-4ec8-b4b0-c2684539297f"
      },
      "execution_count": null,
      "outputs": [
        {
          "output_type": "stream",
          "name": "stdout",
          "text": [
            "Whoops!\n"
          ]
        }
      ]
    },
    {
      "cell_type": "markdown",
      "source": [
        "This is the purpose of *else*. If the condition is not met, and evaluates to False, we execute the else block instead. The same rules apply about indentation."
      ],
      "metadata": {
        "id": "ZAH1hdUgG20z"
      }
    },
    {
      "cell_type": "markdown",
      "source": [
        "We can get even more fine-grained. I might have different things to say to someone if they got an amazing grade, or barely a pass. How could I do this?"
      ],
      "metadata": {
        "id": "p55K-L8bHJAR"
      }
    },
    {
      "cell_type": "markdown",
      "source": [
        "We can 'chain' multiple *if* statements together. We evaluate each condition, one after another. The first condition which comes out as True has it's block executed. If none of the conditions come out as True, we eventually reach the *else* statement and execute that code instead.\n",
        "\n",
        "We do this using *elif* - which is short for for 'else if'."
      ],
      "metadata": {
        "id": "WQNGNoQwHTAM"
      }
    },
    {
      "cell_type": "code",
      "source": [
        "grade = 45\n",
        "\n",
        "if (grade >= 70):\n",
        "  print(\"Amazing! A first!\")\n",
        "elif (grade >= 60):\n",
        "  print(\"Well done! A 2:1!\")\n",
        "elif (grade >= 50):\n",
        "  print(\"A 2:2\")\n",
        "elif (grade >= 40):\n",
        "  print(\"You're passing!\")\n",
        "else:\n",
        "  print(\"Oof\")\n",
        "\n",
        "print(\"You can keep going with the normal code after a block like this\")"
      ],
      "metadata": {
        "colab": {
          "base_uri": "https://localhost:8080/"
        },
        "id": "PIwIHh6bHynl",
        "outputId": "bad3c04a-350c-4641-fed2-2fa4e0cefb6e"
      },
      "execution_count": null,
      "outputs": [
        {
          "output_type": "stream",
          "name": "stdout",
          "text": [
            "You're passing!\n",
            "You can keep going with the normal code after a block like this\n"
          ]
        }
      ]
    },
    {
      "cell_type": "markdown",
      "source": [
        "Here's what's happening:\n",
        "\n",
        "\n",
        "1.   *grade* is initialised and set to 45\n",
        "2.   The first check happens: *grade >= 70*. This evaluates to False, so we move onto the first *elif*.\n",
        "3.   The next check: *grade >= 60*. This is again False, so we move onto the next *elif*.\n",
        "4.   I'm sure you get the picture. *grade >=50* is again False.\n",
        "5.   We reach *grade >= 40*. *grade* is 45, so this evaluates to True. Therefore, we execute the code in the indented block: *print(\"You're passing!\")*\n",
        "6.   Since we've executed one of the indented blocks, we skip the else statement and move straight onto the print statement at the end of the code. This statement gets executed no matter what grade is.\n",
        "\n"
      ],
      "metadata": {
        "id": "hGqW6lbnInoc"
      }
    },
    {
      "cell_type": "markdown",
      "source": [
        "I think if statements really become clear when we introduce user input. Python has a function called *input* which lets you type in some value, and then use that in your program. Let's try the grading code again but with user input."
      ],
      "metadata": {
        "id": "9XyUUDRdJqf6"
      }
    },
    {
      "cell_type": "markdown",
      "source": [
        "Make sure to cick run on the code below and enter your grade in the box that appears."
      ],
      "metadata": {
        "id": "MBZD8o8hPSB5"
      }
    },
    {
      "cell_type": "code",
      "source": [
        "grade = int(input(\"Please enter your grade: \"))\n",
        "\n",
        "if (grade >= 70):\n",
        "  print(\"Amazing! A first!\")\n",
        "elif (grade >= 60):\n",
        "  print(\"Well done! A 2:1!\")\n",
        "elif (grade >= 50):\n",
        "  print(\"A 2:2\")\n",
        "elif (grade >= 40):\n",
        "  print(\"You're passing!\")\n",
        "else:\n",
        "  print(\"Oof\")"
      ],
      "metadata": {
        "colab": {
          "base_uri": "https://localhost:8080/"
        },
        "id": "qGPm0DngJ7zJ",
        "outputId": "af1b9eb7-a2f5-4cdc-8475-216197bee466"
      },
      "execution_count": null,
      "outputs": [
        {
          "output_type": "stream",
          "name": "stdout",
          "text": [
            "Please enter your grade: 100\n",
            "Amazing! A first!\n"
          ]
        }
      ]
    },
    {
      "cell_type": "markdown",
      "source": [
        "There are a few things to note:\n",
        "\n",
        "\n",
        "1.   *input()* can be given a String between the brackets. This is the message that will display to the user and prompt them to type something in.\n",
        "2.   *input()* will give you back (return) a String, because the user has typed in a string of characters. We want to deal with it as an integer, so we have to cast the returned value before using it.\n",
        "\n",
        "Some of this probably won't make complete sense because *input()* (and *print()* ) are **functions** - which we will cover next week. For now, you can copy the structure of the code example above to make use of this feature.\n",
        "\n"
      ],
      "metadata": {
        "id": "9b9UIJDqKEMd"
      }
    },
    {
      "cell_type": "markdown",
      "source": [
        "**TASK 3**\n",
        "\n",
        "Write a program which displays your activity level based on your daily steps.\n",
        "\n",
        "The activity levels are:\n",
        "\n",
        "*   Over 10,000 - very healthy\n",
        "*   8,000 to 10,000 - pretty healthy\n",
        "*   4,000 to 7,999 - not bad\n",
        "*   Less than 4,000 - could do more walking\n",
        "\n",
        "As a bonus challenge, get the information about daily steps from the user using *input()*.\n",
        "\n"
      ],
      "metadata": {
        "id": "aGx5If18Ockb"
      }
    },
    {
      "cell_type": "code",
      "source": [
        "#write your code on the next line\n"
      ],
      "metadata": {
        "id": "wWG8_0ziPZ_W"
      },
      "execution_count": null,
      "outputs": []
    },
    {
      "cell_type": "markdown",
      "source": [
        "# **TASK ANSWERS**"
      ],
      "metadata": {
        "id": "nx5jlUvFPf3H"
      }
    },
    {
      "cell_type": "markdown",
      "source": [
        "**Task 1**"
      ],
      "metadata": {
        "id": "UzOv6Pt2PoJt"
      }
    },
    {
      "cell_type": "code",
      "source": [
        "current_year = 2024"
      ],
      "metadata": {
        "id": "TUKMTh5cPrw0"
      },
      "execution_count": null,
      "outputs": []
    },
    {
      "cell_type": "code",
      "source": [
        "print(current_year)"
      ],
      "metadata": {
        "colab": {
          "base_uri": "https://localhost:8080/"
        },
        "id": "SLiliYbiPxVD",
        "outputId": "dad90ac6-beb2-42b7-dd59-9fd670ed6556"
      },
      "execution_count": null,
      "outputs": [
        {
          "output_type": "stream",
          "name": "stdout",
          "text": [
            "2024\n"
          ]
        }
      ]
    },
    {
      "cell_type": "code",
      "source": [
        "current_year = 10000\n",
        "print(current_year)"
      ],
      "metadata": {
        "colab": {
          "base_uri": "https://localhost:8080/"
        },
        "id": "x8m45MwWP1hm",
        "outputId": "5bb350bd-849c-4390-d7a1-bc5c915c4e1c"
      },
      "execution_count": null,
      "outputs": [
        {
          "output_type": "stream",
          "name": "stdout",
          "text": [
            "10000\n"
          ]
        }
      ]
    },
    {
      "cell_type": "markdown",
      "source": [
        "**Task 2**"
      ],
      "metadata": {
        "id": "sah_DOwuP9Ht"
      }
    },
    {
      "cell_type": "code",
      "source": [
        "radius = 10\n",
        "PI = 3.1415\n",
        "\n",
        "area = PI * radius ** 2\n",
        "#you could have done 3.14 * radius ** 2 - but it is good practise to store things like Pi in a variable\n",
        "#this means we can use it in multiple lines of code without having to write it out every time\n",
        "\n",
        "print(area)"
      ],
      "metadata": {
        "colab": {
          "base_uri": "https://localhost:8080/"
        },
        "id": "mBY5tHR1QAUw",
        "outputId": "50ce7830-a3fa-4dc5-9ef5-8739d5e71653"
      },
      "execution_count": null,
      "outputs": [
        {
          "output_type": "stream",
          "name": "stdout",
          "text": [
            "314.15000000000003\n"
          ]
        }
      ]
    },
    {
      "cell_type": "code",
      "source": [
        "print(str(area) * 10)"
      ],
      "metadata": {
        "colab": {
          "base_uri": "https://localhost:8080/"
        },
        "id": "cv7hUv2lQVKT",
        "outputId": "bc46aaec-ceda-4c80-9657-ffdaf3434eec"
      },
      "execution_count": null,
      "outputs": [
        {
          "output_type": "stream",
          "name": "stdout",
          "text": [
            "314.15000000000003314.15000000000003314.15000000000003314.15000000000003314.15000000000003314.15000000000003314.15000000000003314.15000000000003314.15000000000003314.15000000000003\n"
          ]
        }
      ]
    },
    {
      "cell_type": "markdown",
      "source": [
        "**Task 3**"
      ],
      "metadata": {
        "id": "eFLF8jW6QelH"
      }
    },
    {
      "cell_type": "code",
      "source": [
        "#bonus challenge:\n",
        "steps = int(input(\"Enter your daily steps: \"))\n",
        "#otherwise you could have just said steps = ...some value...\n",
        "\n",
        "if (steps > 10000):\n",
        "  print(\"Very healthy\")\n",
        "elif (steps >= 8000):\n",
        "  print(\"Pretty healthy\")\n",
        "elif (steps >= 4000):\n",
        "  print(\"Not bad\")\n",
        "else:\n",
        "  print(\"Could do more walking\")"
      ],
      "metadata": {
        "colab": {
          "base_uri": "https://localhost:8080/"
        },
        "id": "QdmLfaEVQhPQ",
        "outputId": "80525b4d-518d-4c17-f8a0-92c52f7293c3"
      },
      "execution_count": null,
      "outputs": [
        {
          "output_type": "stream",
          "name": "stdout",
          "text": [
            "Enter your daily steps: 6000\n",
            "Not bad\n"
          ]
        }
      ]
    }
  ]
}