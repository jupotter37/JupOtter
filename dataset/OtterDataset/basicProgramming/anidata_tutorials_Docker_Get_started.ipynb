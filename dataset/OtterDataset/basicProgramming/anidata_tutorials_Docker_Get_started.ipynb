{
 "cells": [
  {
   "cell_type": "markdown",
   "metadata": {
    "slideshow": {
     "slide_type": "slide"
    }
   },
   "source": [
    "## Welcome to Data Engineering Workshop"
   ]
  },
  {
   "cell_type": "markdown",
   "metadata": {
    "slideshow": {
     "slide_type": "slide"
    }
   },
   "source": [
    "# Orientation & Setup"
   ]
  },
  {
   "cell_type": "markdown",
   "metadata": {
    "slideshow": {
     "slide_type": "fragment"
    }
   },
   "source": [
    "## Your computer\n",
    "* Docker <br />\n",
    "    * [Linux](https://docs.docker.com/install/) \n",
    "    * [Mac OS](https://docs.docker.com/docker-for-mac/) \n",
    "    * [Windows](https://docs.docker.com/docker-for-windows/) \n",
    "\n",
    "## You\n",
    "* Linux/Unix skills\n",
    "* Command Line Interface (CLI)\n",
    "* Editing files\n",
    "* Python programming"
   ]
  },
  {
   "cell_type": "markdown",
   "metadata": {
    "slideshow": {
     "slide_type": "slide"
    }
   },
   "source": [
    "## What is a container? <br>\n",
    "[\"A standard Unit of Software\"](https://www.docker.com/resources/what-container) that runs on top of an operating system's kernel.\n",
    "\n",
    "**Most recent container technologies**\n",
    "* [OpenVZ](https://openvz.org/)\n",
    "* [Solais Zones](https://docs.oracle.com/cd/E18440_01/doc.111/e18415/chapter_zones.htm#OPCUG426)\n",
    "* [Linux containers](https://linuxcontainers.org/)"
   ]
  },
  {
   "cell_type": "markdown",
   "metadata": {
    "slideshow": {
     "slide_type": "subslide"
    }
   },
   "source": [
    "## Main idea -- isolate the computing environment<br>\n",
    "   * Allow regenerating computing environments\n",
    "   * Allow sharing your computing environments"
   ]
  },
  {
   "cell_type": "markdown",
   "metadata": {
    "slideshow": {
     "slide_type": "fragment"
    }
   },
   "source": [
    "## Docker <br>\n",
    "* an open-source project that automates the deployement of applications into containers\n",
    "* According to the Docker documentation, containers are:\n",
    "    * flexible - you can containerize complex applications\n",
    "        * <span style=\"color:green\">Although some might disagree: they can generally run the same or similar guest operating systems as the underlying host</span>\n",
    "    * lightweight - you can leverage and share the host kernel\n",
    "    * interchangeable - you can deploy updates and upgrades on-the-fly\n",
    "    * portable - you can build locally, deploy to the cloud, and run anywhere\n",
    "    * scalable - you can increase and automatically distribute container replicas\n",
    "   "
   ]
  },
  {
   "cell_type": "markdown",
   "metadata": {
    "slideshow": {
     "slide_type": "subslide"
    }
   },
   "source": [
    "## Why do we need containers? <br>\n",
    "\n",
    "* Each Project in a lab depends on complex software environments\n",
    "    * Operating system\n",
    "    * drivers\n",
    "    * software dependencies: Python/MATLAB/R+libraries\n",
    "* To avoid\n",
    "    * you <span style=\"color:red\">cannot</span> make updates to this computer EVER or you will not be able to run that application that your research depends on.\n",
    "    * worked in development, now an operations problem\n",
    "    * it works on my computer...\n",
    "* Collaboration with others\n",
    "    * Sharing your code or using a repository or jupyter notebook might not be enough\n",
    "* Freedom to experiment!\n",
    "   * Building and testing complex application locally before launching into a production environment\n",
    "   \n",
    "* list of projects built with Docker can be found [here](https://blog.docker.com/2013/07/docker-projects-from-the-docker-community/)"
   ]
  },
  {
   "cell_type": "markdown",
   "metadata": {
    "slideshow": {
     "slide_type": "subslide"
    }
   },
   "source": [
    "## Docker Terminology <br>\n",
    "**images** -- an executable package that includes everything needed to run an application -- the code, a runtime, libraries, environment variables, and configuration files <br>\n",
    "**containers** -- runtime instance of an image<br>\n",
    "**Dockerfile** -- an automated setup file that defines what goes in the environment inside your computer.<br>\n",
    "**Docker Hub** -- repositories to share Docker images\n"
   ]
  },
  {
   "cell_type": "markdown",
   "metadata": {
    "slideshow": {
     "slide_type": "fragment"
    }
   },
   "source": [
    "## Testing your Docker Installation: <br>\n",
    "\n",
    "1. Run ```docker info``` or (```docker version``` without ```--```) to view even more details about your docker installation\n",
    "2. Run ```docker run hello-world``` in a CLI to confirm that you have successfully installed docker\n",
    "3. Run ```docker image ls``` to list the images that are downloaded to your machine"
   ]
  },
  {
   "cell_type": "markdown",
   "metadata": {
    "slideshow": {
     "slide_type": "subslide"
    }
   },
   "source": [
    "## Package and run a custom app using Dockerfile"
   ]
  },
  {
   "cell_type": "markdown",
   "metadata": {
    "slideshow": {
     "slide_type": "fragment"
    }
   },
   "source": [
    "```\n",
    "# Use an official Python runtime as a parent image\n",
    "FROM python:3.7.0-slim\n",
    "\n",
    "# Set the working directory to /app\n",
    "WORKDIR /app\n",
    "\n",
    "# Copy the current directory contents into the container at /app\n",
    "ADD . /app\n",
    "\n",
    "# Install any needed packages specified in requirements.txt\n",
    "RUN pip install --trusted-host pypi.python.org -r requirements.txt\n",
    "\n",
    "# Make port 80 available to the world outside this container\n",
    "EXPOSE 80\n",
    "\n",
    "# Define environment variable\n",
    "ENV NAME World\n",
    "\n",
    "# Run app.py when the container launches\n",
    "CMD [\"python\", \"app.py\"]\n",
    "\n",
    "```"
   ]
  },
  {
   "cell_type": "markdown",
   "metadata": {},
   "source": [
    "## Create requirements.txt <br>\n",
    "\n",
    "Flask<br> "
   ]
  },
  {
   "cell_type": "markdown",
   "metadata": {},
   "source": [
    "## Create app.py\n",
    "```\n",
    "from flask import Flask\n",
    "import os\n",
    "import socket\n",
    "\n",
    "app = Flask(__name__)\n",
    "\n",
    "@app.route(\"/\")\n",
    "def hello():\n",
    "\n",
    "    html = \"<h3>Hello {name}!</h3>\" \\\n",
    "           \"<b>Hostname:</b> {hostname}<br/>\" \\\n",
    "\n",
    "    return html.format(name=os.getenv(\"NAME\", \"world\"), hostname=socket.gethostname())\n",
    "\n",
    "if __name__ == \"__main__\":\n",
    "        app.run(host='0.0.0.0', port=80)\n",
    "\n",
    "```"
   ]
  },
  {
   "cell_type": "markdown",
   "metadata": {},
   "source": [
    "## Build the app\n",
    "```\n",
    "pip install -r requirements.txt\n",
    "\n",
    "docker build -t friendlyhello .\n",
    "```"
   ]
  },
  {
   "cell_type": "markdown",
   "metadata": {},
   "source": [
    "## Run the app\n",
    "```\n",
    "docker run -p 4000:80 friendlyhello\n",
    "```\n",
    "\n",
    "Go to ``` http://localhost:4000 ``` in a web browser or type ``` curl http://localhost:4000```\n",
    "\n",
    "Run the app in the background, in detached mode:\n",
    "```\n",
    "docker run -d -p 4000:80 friendlyhello\n",
    "```"
   ]
  },
  {
   "cell_type": "markdown",
   "metadata": {},
   "source": [
    "## Stop the app\n",
    "```\n",
    "docker container ls -a\n",
    "\n",
    "docker container stop CONTAINER ID\n",
    "```"
   ]
  },
  {
   "cell_type": "markdown",
   "metadata": {},
   "source": [
    "## Share your image\n",
    "\n",
    "If you don’t have a Docker account, sign up for one at [hub.docker.com](https://hub.docker.com/). Make note of your username.<br><br>\n",
    "**Log in with your Docker ID**\n",
    "```\n",
    " docker login\n",
    " ```\n",
    "**Tag the image**\n",
    "```\n",
    "docker tag image username/repository:tag\n",
    "```\n",
    "**Verify new image**p\n",
    "```\n",
    "docker image ls \n",
    "```\n",
    "**Publish the image**\n",
    "```\n",
    "docker push username/repository:tag\n",
    "```\n",
    "**Pull and run the image from the remote repository**\n",
    "```\n",
    "docker run -p 4000:80 username/repository:tag\n",
    "```"
   ]
  },
  {
   "cell_type": "markdown",
   "metadata": {
    "slideshow": {
     "slide_type": "slide"
    }
   },
   "source": [
    "# Break"
   ]
  },
  {
   "cell_type": "markdown",
   "metadata": {
    "slideshow": {
     "slide_type": "fragment"
    }
   },
   "source": [
    "## Interesting tutorials and blog posts:\n",
    "\n",
    "* [A beginner friendly intro to VMs and Docker](https://medium.freecodecamp.org/a-beginner-friendly-introduction-to-containers-vms-and-docker-79a9e3e119b)\n",
    "* [Intro to Docker from Neurohackweek](https://neurohackweek.github.io/docker-for-scientists/)\n",
    "* [Understanding Images](https://code.tutsplus.com/tutorials/docker-from-the-ground-up-understanding-images--cms-28165)\n",
    "* [Cloud Native Trail Map](https://raw.githubusercontent.com/cncf/landscape/master/trail_map/CNCF_TrailMap_latest.png)\n",
    "* [Cloud Native Landscapes](https://raw.githubusercontent.com/cncf/landscape/master/landscape/CloudNativeLandscape_latest.png)\n"
   ]
  }
 ],
 "metadata": {
  "celltoolbar": "Slideshow",
  "kernelspec": {
   "display_name": "Python 3",
   "language": "python",
   "name": "python3"
  },
  "language_info": {
   "codemirror_mode": {
    "name": "ipython",
    "version": 3
   },
   "file_extension": ".py",
   "mimetype": "text/x-python",
   "name": "python",
   "nbconvert_exporter": "python",
   "pygments_lexer": "ipython3",
   "version": "3.6.3"
  }
 },
 "nbformat": 4,
 "nbformat_minor": 2
}
