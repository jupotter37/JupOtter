{
 "cells": [
  {
   "cell_type": "markdown",
   "id": "309072f4",
   "metadata": {},
   "source": [
    "# $\\color{green}{\\text{Week 1: Python and GitHub Solutions}}$ "
   ]
  },
  {
   "cell_type": "markdown",
   "id": "9174c7df",
   "metadata": {},
   "source": [
    "**Instructions:** Read all text blocks and comments in code cells carefully. These contain important information regarding content you'll need to know for operating the notebook and research/coding in general. They may also contain instructions/hints for filling out activity blocks. "
   ]
  },
  {
   "cell_type": "markdown",
   "id": "c1fb1bcc",
   "metadata": {},
   "source": [
    "## $\\color{Orange}{\\text{Reminder: There are multiple ways to solve each problem, this guide is just for reference!}}$ "
   ]
  },
  {
   "cell_type": "markdown",
   "id": "61a62695",
   "metadata": {},
   "source": [
    "___________________________________________"
   ]
  },
  {
   "cell_type": "markdown",
   "id": "528fd72a",
   "metadata": {},
   "source": [
    "# Importing, Updating, and Downloading Packages"
   ]
  },
  {
   "cell_type": "markdown",
   "id": "181c5d1b",
   "metadata": {},
   "source": [
    "The first thing you must do whenever you create a new notebook or other coding file is to import all the packages you'll need to complete your computations. Packages are a relatively universal concept in higher-level programming; not all functionalities needed for a project are necessarily going to be incorportated into the natural programming language, so we must import external code telling Python how to compute special functions. It's good to have a single block you can run at the beginning of the notebook that initializes all the imports. **Once this block is run, you won't have to run it again so long as you don't shut down or restart your kernel.**"
   ]
  },
  {
   "cell_type": "code",
   "execution_count": 1,
   "id": "80c8e72e",
   "metadata": {},
   "outputs": [],
   "source": [
    "# Run this cell. Notice that a number appears on the left-hand side. This number keeps track of the order in which the cells are run.\n",
    "# Use a pound symbol '#' to insert comments into coding blocks. It is important that you keep your code well-commented so others can follow along.\n",
    "\n",
    "import numpy as np #Whenever we reference the NumPy package later, we will abreviate it as 'np'; using \"as np\" tells the computer this is our intention. 'np' is the standard abbreviation for NumPy.\n",
    "import scipy\n",
    "import pandas as pd #'pd' is the standard Pandas abbreviation \n",
    "import matplotlib as plt"
   ]
  },
  {
   "cell_type": "markdown",
   "id": "0b3a1162",
   "metadata": {},
   "source": [
    "Let's check what version of each package we're using. Whenever the developers of the package update something, the version changes. This can cause problems if one package requires a certain version of another; we can change which version we use if needed. "
   ]
  },
  {
   "cell_type": "code",
   "execution_count": 2,
   "id": "da366642",
   "metadata": {},
   "outputs": [
    {
     "name": "stdout",
     "output_type": "stream",
     "text": [
      "1.25.2\n",
      "We are running NumPy version 1.25.2.\n"
     ]
    }
   ],
   "source": [
    "print(np.__version__) #The '.__version__' command prints the version of the package\n",
    "\n",
    "#Let's format this into a sentance we can print. If you need help with Python strings and datatypes, we recommend CodeAcademy's intro course.\n",
    "version_number = np.__version__ #Save the version number as a variable\n",
    "print(f\"We are running NumPy version {version_number}.\") #This formatting is called an f-string. It prints combined strings and variables as strings. "
   ]
  },
  {
   "cell_type": "markdown",
   "id": "82684296",
   "metadata": {},
   "source": [
    "Let's say we need to use a new Python package that's not already installed on our kernel. We won't have access to the source code we need unless we install this package. We do this using the `!pip install` command. Once this command is run for a particular package, it never needs run again. `!pip install` is also a Bash command that works in Terminal, too. "
   ]
  },
  {
   "cell_type": "code",
   "execution_count": 73,
   "id": "7641f8c1",
   "metadata": {},
   "outputs": [
    {
     "name": "stdout",
     "output_type": "stream",
     "text": [
      "Defaulting to user installation because normal site-packages is not writeable\n",
      "Requirement already satisfied: numpy in ./.local/lib/python3.9/site-packages (1.26.4)\n"
     ]
    }
   ],
   "source": [
    "#Let's pip install NumPy just for practice, even though it is generally installed on most servers by default. It should return a line telling you the package is already installed (\"Requirement already satisfied\")\n",
    "!pip install numpy"
   ]
  },
  {
   "cell_type": "markdown",
   "id": "cd9e432c",
   "metadata": {},
   "source": [
    "Let's say we want to use a different version of NumPy, maybe because of some dependency issues. We can revert to an older version and update the package. We need to reinstall the package under a new version using `! pip install` again. You may get some errors, pip install is really finiky, just run the cell again to see that the requirement is satisfied.\n",
    "\n",
    "If you're having problems in your code, it is important to read the errors that are returned. You can Google these errors or ask ChatGPT to find solutions. "
   ]
  },
  {
   "cell_type": "code",
   "execution_count": 74,
   "id": "0e5e0a35",
   "metadata": {},
   "outputs": [
    {
     "name": "stdout",
     "output_type": "stream",
     "text": [
      "Defaulting to user installation because normal site-packages is not writeable\n",
      "Collecting numpy==1.20.0\n",
      "  Using cached numpy-1.20.0-cp39-cp39-manylinux2010_x86_64.whl (15.4 MB)\n",
      "Installing collected packages: numpy\n",
      "  Attempting uninstall: numpy\n",
      "    Found existing installation: numpy 1.26.4\n",
      "    Uninstalling numpy-1.26.4:\n",
      "      Successfully uninstalled numpy-1.26.4\n",
      "\u001b[33m  WARNING: The scripts f2py, f2py3 and f2py3.9 are installed in '/home/abinau/.local/bin' which is not on PATH.\n",
      "  Consider adding this directory to PATH or, if you prefer to suppress this warning, use --no-warn-script-location.\u001b[0m\n",
      "\u001b[31mERROR: Could not install packages due to an OSError: [Errno 16] Device or resource busy: '.nfs00000000401a129000001de8'\n",
      "\u001b[0m\n"
     ]
    }
   ],
   "source": [
    "!pip install numpy==1.20.0"
   ]
  },
  {
   "cell_type": "markdown",
   "id": "3ffffac1",
   "metadata": {},
   "source": [
    "But uh oh! We realize that reverting to an older version of NumPy causes some dependency problems (newer packages we're using rely on updated versions of NumPy, so they won't run unless we make sure NumPy is updated). Let's use `!pip install` to uninstall the old version of NumPy and reinstall a new version of NumPy. "
   ]
  },
  {
   "cell_type": "code",
   "execution_count": 75,
   "id": "188efd8e",
   "metadata": {},
   "outputs": [
    {
     "name": "stdout",
     "output_type": "stream",
     "text": [
      "Defaulting to user installation because normal site-packages is not writeable\n",
      "Requirement already satisfied: numpy in ./.local/lib/python3.9/site-packages (1.20.0)\n",
      "Collecting numpy\n",
      "  Using cached numpy-1.26.4-cp39-cp39-manylinux_2_17_x86_64.manylinux2014_x86_64.whl (18.2 MB)\n",
      "Installing collected packages: numpy\n",
      "  Attempting uninstall: numpy\n",
      "    Found existing installation: numpy 1.20.0\n",
      "    Uninstalling numpy-1.20.0:\n",
      "      Successfully uninstalled numpy-1.20.0\n",
      "\u001b[33m  WARNING: The script f2py is installed in '/home/abinau/.local/bin' which is not on PATH.\n",
      "  Consider adding this directory to PATH or, if you prefer to suppress this warning, use --no-warn-script-location.\u001b[0m\n",
      "Successfully installed numpy-1.26.4\n",
      "The updated version number of NumPy is 1.26.4.\n"
     ]
    }
   ],
   "source": [
    "!pip install numpy --upgrade\n",
    "\n",
    "new_version = np.__version__\n",
    "print(f\"The updated version number of NumPy is {new_version}.\")"
   ]
  },
  {
   "cell_type": "markdown",
   "id": "79efbc08",
   "metadata": {},
   "source": [
    "### $\\color{orange}{\\text{Activity 1: Import and Update}}$ "
   ]
  },
  {
   "cell_type": "markdown",
   "id": "1c07c2b3",
   "metadata": {},
   "source": [
    "In the block below, install a Python package of your choosing (find some here: https://www.geeksforgeeks.org/python-packages/), import it, and check the version number. Research the package documentation/GitHub to ensure it is the most recent version number. "
   ]
  },
  {
   "cell_type": "markdown",
   "id": "b75e99d8",
   "metadata": {},
   "source": [
    "In the block below, import the package of your choosing (find some here: https://www.geeksforgeeks.org/python-packages/) and make sure it's updated to the latest version. "
   ]
  },
  {
   "cell_type": "code",
   "execution_count": 76,
   "id": "f77721c5",
   "metadata": {},
   "outputs": [
    {
     "name": "stdout",
     "output_type": "stream",
     "text": [
      "Defaulting to user installation because normal site-packages is not writeable\n",
      "Requirement already satisfied: tensorflow in ./.local/lib/python3.9/site-packages (2.16.1)\n",
      "Requirement already satisfied: numpy<2.0.0,>=1.23.5 in ./.local/lib/python3.9/site-packages (from tensorflow) (1.26.4)\n",
      "Requirement already satisfied: gast!=0.5.0,!=0.5.1,!=0.5.2,>=0.2.1 in ./.local/lib/python3.9/site-packages (from tensorflow) (0.5.4)\n",
      "Requirement already satisfied: grpcio<2.0,>=1.24.3 in ./.local/lib/python3.9/site-packages (from tensorflow) (1.64.0)\n",
      "Requirement already satisfied: requests<3,>=2.21.0 in /apps/cent7/jupyterhub/lib/python3.9/site-packages (from tensorflow) (2.26.0)\n",
      "Requirement already satisfied: h5py>=3.10.0 in ./.local/lib/python3.9/site-packages (from tensorflow) (3.11.0)\n",
      "Requirement already satisfied: tensorboard<2.17,>=2.16 in ./.local/lib/python3.9/site-packages (from tensorflow) (2.16.2)\n",
      "Requirement already satisfied: tensorflow-io-gcs-filesystem>=0.23.1 in ./.local/lib/python3.9/site-packages (from tensorflow) (0.37.0)\n",
      "Requirement already satisfied: libclang>=13.0.0 in ./.local/lib/python3.9/site-packages (from tensorflow) (18.1.1)\n",
      "Requirement already satisfied: typing-extensions>=3.6.6 in ./.local/lib/python3.9/site-packages (from tensorflow) (4.8.0)\n",
      "Requirement already satisfied: protobuf!=4.21.0,!=4.21.1,!=4.21.2,!=4.21.3,!=4.21.4,!=4.21.5,<5.0.0dev,>=3.20.3 in ./.local/lib/python3.9/site-packages (from tensorflow) (4.25.3)\n",
      "Requirement already satisfied: google-pasta>=0.1.1 in ./.local/lib/python3.9/site-packages (from tensorflow) (0.2.0)\n",
      "Requirement already satisfied: packaging in /apps/cent7/jupyterhub/lib/python3.9/site-packages (from tensorflow) (21.0)\n",
      "Requirement already satisfied: six>=1.12.0 in ./.local/lib/python3.9/site-packages (from tensorflow) (1.16.0)\n",
      "Requirement already satisfied: keras>=3.0.0 in ./.local/lib/python3.9/site-packages (from tensorflow) (3.3.3)\n",
      "Requirement already satisfied: flatbuffers>=23.5.26 in ./.local/lib/python3.9/site-packages (from tensorflow) (24.3.25)\n",
      "Requirement already satisfied: absl-py>=1.0.0 in ./.local/lib/python3.9/site-packages (from tensorflow) (2.1.0)\n",
      "Requirement already satisfied: ml-dtypes~=0.3.1 in ./.local/lib/python3.9/site-packages (from tensorflow) (0.3.2)\n",
      "Requirement already satisfied: wrapt>=1.11.0 in /apps/cent7/jupyterhub/lib/python3.9/site-packages (from tensorflow) (1.12.1)\n",
      "Requirement already satisfied: opt-einsum>=2.3.2 in ./.local/lib/python3.9/site-packages (from tensorflow) (3.3.0)\n",
      "Requirement already satisfied: astunparse>=1.6.0 in ./.local/lib/python3.9/site-packages (from tensorflow) (1.6.3)\n",
      "Requirement already satisfied: setuptools in /apps/cent7/jupyterhub/lib/python3.9/site-packages (from tensorflow) (58.0.4)\n",
      "Requirement already satisfied: termcolor>=1.1.0 in ./.local/lib/python3.9/site-packages (from tensorflow) (2.4.0)\n",
      "Requirement already satisfied: wheel<1.0,>=0.23.0 in /apps/cent7/jupyterhub/lib/python3.9/site-packages (from astunparse>=1.6.0->tensorflow) (0.37.0)\n",
      "Requirement already satisfied: namex in ./.local/lib/python3.9/site-packages (from keras>=3.0.0->tensorflow) (0.0.8)\n",
      "Requirement already satisfied: rich in ./.local/lib/python3.9/site-packages (from keras>=3.0.0->tensorflow) (13.7.1)\n",
      "Requirement already satisfied: optree in ./.local/lib/python3.9/site-packages (from keras>=3.0.0->tensorflow) (0.11.0)\n",
      "Requirement already satisfied: certifi>=2017.4.17 in /apps/cent7/jupyterhub/lib/python3.9/site-packages (from requests<3,>=2.21.0->tensorflow) (2021.10.8)\n",
      "Requirement already satisfied: idna<4,>=2.5 in /apps/cent7/jupyterhub/lib/python3.9/site-packages (from requests<3,>=2.21.0->tensorflow) (3.2)\n",
      "Requirement already satisfied: charset-normalizer~=2.0.0 in /apps/cent7/jupyterhub/lib/python3.9/site-packages (from requests<3,>=2.21.0->tensorflow) (2.0.4)\n",
      "Requirement already satisfied: urllib3<1.27,>=1.21.1 in /apps/cent7/jupyterhub/lib/python3.9/site-packages (from requests<3,>=2.21.0->tensorflow) (1.26.7)\n",
      "Requirement already satisfied: werkzeug>=1.0.1 in /apps/cent7/jupyterhub/lib/python3.9/site-packages (from tensorboard<2.17,>=2.16->tensorflow) (2.0.2)\n",
      "Requirement already satisfied: markdown>=2.6.8 in ./.local/lib/python3.9/site-packages (from tensorboard<2.17,>=2.16->tensorflow) (3.6)\n",
      "Requirement already satisfied: tensorboard-data-server<0.8.0,>=0.7.0 in ./.local/lib/python3.9/site-packages (from tensorboard<2.17,>=2.16->tensorflow) (0.7.2)\n",
      "Requirement already satisfied: importlib-metadata>=4.4 in ./.local/lib/python3.9/site-packages (from markdown>=2.6.8->tensorboard<2.17,>=2.16->tensorflow) (6.8.0)\n",
      "Requirement already satisfied: zipp>=0.5 in ./.local/lib/python3.9/site-packages (from importlib-metadata>=4.4->markdown>=2.6.8->tensorboard<2.17,>=2.16->tensorflow) (3.17.0)\n",
      "Requirement already satisfied: pyparsing>=2.0.2 in /apps/cent7/jupyterhub/lib/python3.9/site-packages (from packaging->tensorflow) (3.0.4)\n",
      "Requirement already satisfied: pygments<3.0.0,>=2.13.0 in ./.local/lib/python3.9/site-packages (from rich->keras>=3.0.0->tensorflow) (2.17.2)\n",
      "Requirement already satisfied: markdown-it-py>=2.2.0 in ./.local/lib/python3.9/site-packages (from rich->keras>=3.0.0->tensorflow) (3.0.0)\n",
      "Requirement already satisfied: mdurl~=0.1 in ./.local/lib/python3.9/site-packages (from markdown-it-py>=2.2.0->rich->keras>=3.0.0->tensorflow) (0.1.2)\n"
     ]
    }
   ],
   "source": [
    "!pip install tensorflow"
   ]
  },
  {
   "cell_type": "code",
   "execution_count": 77,
   "id": "bdb15658",
   "metadata": {},
   "outputs": [
    {
     "name": "stderr",
     "output_type": "stream",
     "text": [
      "2024-05-31 14:44:38.183097: I tensorflow/core/platform/cpu_feature_guard.cc:210] This TensorFlow binary is optimized to use available CPU instructions in performance-critical operations.\n",
      "To enable the following instructions: AVX2 AVX512F FMA, in other operations, rebuild TensorFlow with the appropriate compiler flags.\n",
      "2024-05-31 14:44:39.634045: W tensorflow/compiler/tf2tensorrt/utils/py_utils.cc:38] TF-TRT Warning: Could not find TensorRT\n"
     ]
    },
    {
     "name": "stdout",
     "output_type": "stream",
     "text": [
      "2.16.1\n"
     ]
    }
   ],
   "source": [
    "import tensorflow as tf\n",
    "tf_version = tf.__version__\n",
    "\n",
    "print(tf_version) #This matches the version number found here: https://www.tensorflow.org/api_docs/python/tf "
   ]
  },
  {
   "cell_type": "markdown",
   "id": "2b57486f",
   "metadata": {},
   "source": [
    "Cool. Our packges are ready to use. "
   ]
  },
  {
   "cell_type": "markdown",
   "id": "4ad0f43b",
   "metadata": {},
   "source": [
    "________________________________________"
   ]
  },
  {
   "cell_type": "markdown",
   "id": "ced8a8e4",
   "metadata": {},
   "source": [
    "# Pulling from GitHub"
   ]
  },
  {
   "cell_type": "markdown",
   "id": "3d2b74a4",
   "metadata": {},
   "source": [
    "We have the course GitHub, where you probably got this notebook. You can download individual notebooks from GitHub, similar to how you's upload a new notebook to GitHub **(IMPORTANT: all Python Jupyter notebooks end in a .ipynb file type)**. Let's \"clone\" the entire repository into our local folder, however, and just download it all at once. We can do this using Jupyter notebooks. "
   ]
  },
  {
   "cell_type": "code",
   "execution_count": 78,
   "id": "86adee99",
   "metadata": {},
   "outputs": [
    {
     "name": "stdout",
     "output_type": "stream",
     "text": [
      "fatal: destination path 'STARTUP_Purdue' already exists and is not an empty directory.\r\n"
     ]
    }
   ],
   "source": [
    "!git clone https://github.com/ameliabinau/STARTUP_Purdue.git #This address can be found under \"<>Code\" -> \"HTTPS\" on the homepage of the repository."
   ]
  },
  {
   "cell_type": "markdown",
   "id": "bd4dd903",
   "metadata": {},
   "source": [
    "Check your files. The entire repository should be saved under a new folder there. "
   ]
  },
  {
   "cell_type": "markdown",
   "id": "f6eac0a7",
   "metadata": {},
   "source": [
    "### $\\color{orange}{\\text{Activity 2: Commit to GitHub}}$ "
   ]
  },
  {
   "cell_type": "markdown",
   "id": "c05fb909",
   "metadata": {},
   "source": [
    "When you have completed working through this notebook, download a copy (File -> Download as -> Notebook (.ipynb)). In the course GitHub, upload a copy of this notebook under the folder `Week_1/Week_1_Completed`. "
   ]
  },
  {
   "cell_type": "markdown",
   "id": "e33800b2",
   "metadata": {},
   "source": [
    "If you were working in a group on a project that needs **continuously updated as you work on it**, GitHub allows you to sync your notebooks with the repository. This is, in fact, what GitHub is designed for and a common use for the repositories. While we will not be using this functionality for this course, find more information here: https://docs.qubole.com/en/latest/user-guide/notebooks-and-dashboards/notebooks/jupyter-notebooks/managing-jupy-notebook-versions/link-jupy-notebook-github.html "
   ]
  },
  {
   "cell_type": "markdown",
   "id": "c3ebf5ce",
   "metadata": {},
   "source": [
    "# NumPy"
   ]
  },
  {
   "cell_type": "markdown",
   "id": "cb5c8012",
   "metadata": {},
   "source": [
    "Let's use NumPy for some array manipulation. **NumPy is a standard package for computaing involving large sets of data, including statistical analyses.** Documentation and more information, inculding an array of interesting compatable packages for research purposes, can be found here: https://numpy.org/. "
   ]
  },
  {
   "cell_type": "code",
   "execution_count": 3,
   "id": "f6686674",
   "metadata": {},
   "outputs": [],
   "source": [
    "#Let's create a 4x4 NumPy array. A NumPy array is a specific dataframe type that is used universally across many packages. \n",
    "array = np.array([[2.4, 6.4, 2.1, 8.0], [1.1, 1.2, 6.4, 3.2], [9.3, 0.3, 5.6, 5.7], [7.8, 3.2, 5.5, 7.0]])"
   ]
  },
  {
   "cell_type": "code",
   "execution_count": 4,
   "id": "c73b6206",
   "metadata": {},
   "outputs": [
    {
     "name": "stdout",
     "output_type": "stream",
     "text": [
      "float64\n",
      "<class 'numpy.ndarray'>\n"
     ]
    }
   ],
   "source": [
    "#Let's check the data and object types. \n",
    "print(array.dtype)\n",
    "print(type(array))"
   ]
  },
  {
   "cell_type": "markdown",
   "id": "d7504016",
   "metadata": {},
   "source": [
    "Often, we will have to convert to the appropriate dataframe/object type in order to use certain functions. NumPy has some functions that convert between object types. Let's generate a regular Python list and convert it to a NumPy array. "
   ]
  },
  {
   "cell_type": "code",
   "execution_count": 5,
   "id": "babfa107",
   "metadata": {},
   "outputs": [
    {
     "name": "stdout",
     "output_type": "stream",
     "text": [
      "[1, 2, 3, 4, 5, 6, 7]\n",
      "<class 'list'>\n",
      "[1 2 3 4 5 6 7]\n",
      "<class 'numpy.ndarray'>\n"
     ]
    }
   ],
   "source": [
    "list = [1, 2, 3, 4, 5, 6, 7]\n",
    "print(list)\n",
    "print(type(list))\n",
    "\n",
    "list = np.asarray(list)\n",
    "print(list)\n",
    "print(type(list))"
   ]
  },
  {
   "cell_type": "markdown",
   "id": "f9f140a2",
   "metadata": {},
   "source": [
    "See what happened there?"
   ]
  },
  {
   "cell_type": "markdown",
   "id": "113c56f2",
   "metadata": {},
   "source": [
    "### $\\color{orange}{\\text{Activity 3: Manipulating NumPy Arrays}}$"
   ]
  },
  {
   "cell_type": "markdown",
   "id": "719842f4",
   "metadata": {},
   "source": [
    "Print this NumPy array. \n",
    "\n",
    "**1.** Use indexing to return/print the element in the [3,3] position. \n",
    "\n",
    "**2.** Then, swap the element in the [2,4] position with the element in the [1,3] position; print the result. \n",
    "\n",
    "**3.** Next, rewrite the element in the [1,4] position to equal 0. Print the result. \n",
    "\n",
    "**4.** Lastly, use indexing to locate which coordinate the value of 9.3 is located. Print the result. \n",
    "\n",
    "More information on indexing and basic NumPy can be found here: https://numpy.org/doc/stable/user/absolute_beginners.html "
   ]
  },
  {
   "cell_type": "code",
   "execution_count": 6,
   "id": "1b988801",
   "metadata": {},
   "outputs": [
    {
     "name": "stdout",
     "output_type": "stream",
     "text": [
      "7.0\n",
      "[[2.4 6.4 2.1 8. ]\n",
      " [1.1 1.2 6.4 3.2]\n",
      " [9.3 0.3 5.6 5.7]\n",
      " [7.8 3.2 5.5 7. ]]\n",
      "[[2.4 6.4 2.1 8. ]\n",
      " [1.1 1.2 6.4 5.7]\n",
      " [9.3 0.3 5.6 3.2]\n",
      " [7.8 3.2 5.5 7. ]]\n",
      "[[2.4 6.4 2.1 8. ]\n",
      " [1.1 1.2 6.4 0. ]\n",
      " [9.3 0.3 5.6 3.2]\n",
      " [7.8 3.2 5.5 7. ]]\n",
      "[[False False False False]\n",
      " [False False False False]\n",
      " [ True False False False]\n",
      " [False False False False]]\n",
      "The element with value 9.3 is located at [2,0]\n"
     ]
    }
   ],
   "source": [
    "#1: \n",
    "print(array[3,3])\n",
    "\n",
    "#2: I mistyped this, apologies. Python indexes starting at 0. So, in a 4x4 matrix, the highest index is 3. I'll swap [2,3] and [1,3], instead.\n",
    "print(array)\n",
    "two_three = array[2,3]\n",
    "one_three = array[1,3]\n",
    "array[1,3] = two_three\n",
    "array[2,3] = one_three\n",
    "print(array) #Notice the swap\n",
    "\n",
    "#3: Again, mistype, apologies. Let's reassign [1,3] as 0. \n",
    "array[1,3] = 0\n",
    "print(array) #Cool.\n",
    "\n",
    "#4: \n",
    "x = array == 9.3\n",
    "print(x) #We can see that 9.3 is located at the [0,2] index. \n",
    "\n",
    "#Another way: \n",
    "for i in range(3):\n",
    "    for j in range(3): \n",
    "        if array[i,j] == 9.3:\n",
    "            print(f\"The element with value 9.3 is located at [{i},{j}]\")"
   ]
  },
  {
   "cell_type": "markdown",
   "id": "dad63821",
   "metadata": {},
   "source": [
    "### np.mean & More!"
   ]
  },
  {
   "cell_type": "markdown",
   "id": "8d5a120b",
   "metadata": {},
   "source": [
    "NumPy hosts an array of statistical functions that are relatively easy to use. Let's find the mean of the array we created. "
   ]
  },
  {
   "cell_type": "code",
   "execution_count": 7,
   "id": "08a4a55d",
   "metadata": {},
   "outputs": [
    {
     "name": "stdout",
     "output_type": "stream",
     "text": [
      "4.34375\n",
      "[5.15  2.775 4.9   4.55 ]\n"
     ]
    }
   ],
   "source": [
    "print(np.mean(array)) #This takes the mean of all 16 values in the array.\n",
    "\n",
    "mean = np.mean(array, axis=0)\n",
    "print(mean) #Prints an array of the mean of each column of the array."
   ]
  },
  {
   "cell_type": "markdown",
   "id": "78375f08",
   "metadata": {},
   "source": [
    "You can also take the standard deviation. See documentation for more example functions (https://numpy.org/doc/stable/reference/routines.statistics.html). "
   ]
  },
  {
   "cell_type": "code",
   "execution_count": 8,
   "id": "5162bd05",
   "metadata": {},
   "outputs": [
    {
     "name": "stdout",
     "output_type": "stream",
     "text": [
      "2.9086011994599743\n"
     ]
    }
   ],
   "source": [
    "print(np.std(array))"
   ]
  },
  {
   "cell_type": "markdown",
   "id": "1bf85a52",
   "metadata": {},
   "source": [
    "### $\\color{orange}{\\text{Activity 4: Statistics}}$"
   ]
  },
  {
   "cell_type": "markdown",
   "id": "6b29b737",
   "metadata": {},
   "source": [
    "This activity will have you test a variety of statistical functions from NumPy on the dataframe `array`. Use NumPy documentation to find the appropriate functions for each step. \n",
    "\n",
    "**1.** Compute and print the variance ($\\sigma^2$) of the entire array. \n",
    "\n",
    "**2.** Compute and print the median, first quartile, and third quartile of the enitre array. \n",
    "\n",
    "**3.** Compute and print the corrolation coefficient, using indexing, of Row 1 against Row 2 of the array."
   ]
  },
  {
   "cell_type": "code",
   "execution_count": 9,
   "id": "74cd221f",
   "metadata": {},
   "outputs": [
    {
     "name": "stdout",
     "output_type": "stream",
     "text": [
      "8.4599609375\n",
      "8.459960937500002\n",
      "4.35\n",
      "1.875\n",
      "6.550000000000001\n",
      "[[ 1.         -0.68700066]\n",
      " [-0.68700066  1.        ]]\n"
     ]
    }
   ],
   "source": [
    "#1: \n",
    "print(np.var(array))\n",
    "#Another way: \n",
    "print((np.std(array))**2)\n",
    "\n",
    "#2: \n",
    "print(np.median(array))\n",
    "print(np.quantile(array, 0.25))\n",
    "print(np.quantile(array, 0.75)) #Notice NumPy has a \"quantile\" function, not a \"quartile\" function, you need to specificy which percentile from [0,1]\n",
    "\n",
    "#3: \n",
    "row1 = array[0,:]\n",
    "row2 = array[1,:]\n",
    "print(np.corrcoef(row1, row2)) #The [0,1] and [1,0] values here are the correlation coefficients. "
   ]
  },
  {
   "cell_type": "markdown",
   "id": "a3116fee",
   "metadata": {},
   "source": [
    "### np.random"
   ]
  },
  {
   "cell_type": "markdown",
   "id": "811a978a",
   "metadata": {},
   "source": [
    "NumPy can be used to generate arrays of random variables, selected using a variety of sampling methods. "
   ]
  },
  {
   "cell_type": "code",
   "execution_count": 10,
   "id": "3ea6f099",
   "metadata": {},
   "outputs": [
    {
     "name": "stdout",
     "output_type": "stream",
     "text": [
      "[[0.69096137 0.59568917 0.8039776  0.87122369]]\n"
     ]
    }
   ],
   "source": [
    "random_array = np.random.rand(1,4) #np.random.rand generates an array of the given size from a uniform distribution between 0 (inclusive) and 1 (exclusive).\n",
    "print(random_array)"
   ]
  },
  {
   "cell_type": "markdown",
   "id": "b71ec01d",
   "metadata": {},
   "source": [
    "### $\\color{orange}{\\text{Activity 5: Random Normal and Poisson Distributions}}$"
   ]
  },
  {
   "cell_type": "markdown",
   "id": "7c12b4d3",
   "metadata": {},
   "source": [
    "Use NumPy documentation to learn how to generate random values selected from a Normal and a Poisson distribution. Comment the link to the documentation. Then:\n",
    "\n",
    "**1.** Generate a random array of size [10000] of values selected from a Poisson distribution of frequency $\\lambda$ = 2.0. Do not print the array! (Note: How did I get the lambda symbol on here? You can use LaTeX formatting in Python. We will talk about this next week.)\n",
    "\n",
    "**2.** Calculate and print the mean of this distribution, the standard deviation, the first and third quartile, and the median using NumPy. \n",
    "\n",
    "**3.** Now generate a new Poisson-sampled array of size [10]. Calculate and print the mean, standard deviation, first and third quartile, and median. \n",
    "\n",
    "**4.** Compare the values between Steps 2 and 3. What changed? Why? What is a Poisson distribution and what is it used for? \n",
    "\n",
    "**5.** Repeat Steps 1-4 for random values sampled from a normal distribution of mean $\\mu$ = 10.0 and standard deviation $\\sigma$ = 3.0. \n",
    "\n",
    "**6.** Why do you think understanding statistics and the distributions from which random numbers are generated is important to physics research? "
   ]
  },
  {
   "cell_type": "code",
   "execution_count": 11,
   "id": "b3177f2c",
   "metadata": {},
   "outputs": [
    {
     "name": "stdout",
     "output_type": "stream",
     "text": [
      "Poisson 10,000\n",
      "Mean: 2.0115\n",
      "Std: 1.418156461748844\n",
      "1st quartile: 1.0\n",
      "3rd quartile: 3.0\n",
      "Median: 2.0\n",
      "____\n",
      "Poisson 10\n",
      "Mean: 3.4\n",
      "Std: 1.7435595774162693\n",
      "1st quartile: 2.25\n",
      "3rd quartile: 4.75\n",
      "Median: 3.0\n"
     ]
    }
   ],
   "source": [
    "#1: \n",
    "poisson = np.random.poisson(2.0, 10000)\n",
    "\n",
    "#2: \n",
    "print(\"Poisson 10,000\")\n",
    "print(f\"Mean: {np.mean(poisson)}\")\n",
    "print(f\"Std: {np.std(poisson)}\")\n",
    "print(f\"1st quartile: {np.quantile(poisson, 0.25)}\")\n",
    "print(f\"3rd quartile: {np.quantile(poisson, 0.75)}\")\n",
    "print(f\"Median: {np.median(poisson)}\")\n",
    "\n",
    "#3: \n",
    "print(\"____\")\n",
    "poisson2 = np.random.poisson(2.0, 10)\n",
    "\n",
    "print(\"Poisson 10\")\n",
    "print(f\"Mean: {np.mean(poisson2)}\")\n",
    "print(f\"Std: {np.std(poisson2)}\")\n",
    "print(f\"1st quartile: {np.quantile(poisson2, 0.25)}\")\n",
    "print(f\"3rd quartile: {np.quantile(poisson2, 0.75)}\")\n",
    "print(f\"Median: {np.median(poisson2)}\")"
   ]
  },
  {
   "cell_type": "markdown",
   "id": "1cf5fc69",
   "metadata": {},
   "source": [
    "4: Poisson distributions are skewed distibutions used to describe probabilities of discrete events occuring (normally \"small\" (countable) numbers of events that occur **independently** from eachother at a specified mean value $\\lambda$). Particle detections in detector physics are often described using Poisson distributions. For instance, you would use Poisson statistics to describe 10,000 photons gathered in a telescope within a specific period of time. \n",
    "\n",
    "The more random numbers you sample (i.e. the more events you measure), the better your statistics (the closer they will be to the true, real-life values ($\\lambda$ = 2 in this case for the mean)). The closer your mean will be to the true value (the less skewed your data is). Medians, however, tend to be statistics that are invariant under skewing in your data."
   ]
  },
  {
   "cell_type": "code",
   "execution_count": 12,
   "id": "d42ae770",
   "metadata": {},
   "outputs": [
    {
     "name": "stdout",
     "output_type": "stream",
     "text": [
      "Normal 10,000\n",
      "Mean: 9.983475251488157\n",
      "Std: 3.0127233466072467\n",
      "1st quartile: 7.995260990145055\n",
      "3rd quartile: 12.06049172337028\n",
      "Median: 9.988668364199093\n",
      "____\n",
      "Normal 10\n",
      "Mean: 9.71956443410869\n",
      "Std: 3.5368300732355666\n",
      "1st quartile: 7.982490226920943\n",
      "3rd quartile: 12.05136757816281\n",
      "Median: 8.88013545042229\n"
     ]
    }
   ],
   "source": [
    "#5:\n",
    "normal = np.random.normal(10, 3, 10000)\n",
    "\n",
    "\n",
    "print(\"Normal 10,000\")\n",
    "print(f\"Mean: {np.mean(normal)}\")\n",
    "print(f\"Std: {np.std(normal)}\")\n",
    "print(f\"1st quartile: {np.quantile(normal, 0.25)}\")\n",
    "print(f\"3rd quartile: {np.quantile(normal, 0.75)}\")\n",
    "print(f\"Median: {np.median(normal)}\")\n",
    "\n",
    "\n",
    "print(\"____\")\n",
    "normal2 = np.random.normal(10, 3, 10)\n",
    "\n",
    "print(\"Normal 10\")\n",
    "print(f\"Mean: {np.mean(normal2)}\")\n",
    "print(f\"Std: {np.std(normal2)}\")\n",
    "print(f\"1st quartile: {np.quantile(normal2, 0.25)}\")\n",
    "print(f\"3rd quartile: {np.quantile(normal2, 0.75)}\")\n",
    "print(f\"Median: {np.median(normal2)}\")"
   ]
  },
  {
   "cell_type": "markdown",
   "id": "3d88d675",
   "metadata": {},
   "source": [
    "Again, the more datapoints you collect, the more your statistics will reflect what the true, real-life values are (10 and 3). Therefore, mean and standard devation will be closer to the true values.\n",
    "\n",
    "6: A lot of physical processes, often relating to particle production and measurement, follow various statistical distributions based on their correlations and causalities. Therefore, understanding variances, means, etc. give us an idea of errors and averages in our data that we collect. "
   ]
  },
  {
   "cell_type": "markdown",
   "id": "19c6348f",
   "metadata": {},
   "source": [
    "### Math in NumPy"
   ]
  },
  {
   "cell_type": "markdown",
   "id": "46ada0e0",
   "metadata": {},
   "source": [
    "NumPy has a few mathematical functions available that it stole from SciPy (reformatting a function in this way, between packages, objects, or programming languages, is broadly called a \"wrapper\"). Let's practice using some of these (found here: https://numpy.org/doc/stable/reference/routines.emath.html). "
   ]
  },
  {
   "cell_type": "code",
   "execution_count": 13,
   "id": "e77ffca7",
   "metadata": {},
   "outputs": [
    {
     "name": "stdout",
     "output_type": "stream",
     "text": [
      "[[1.54919334 2.52982213 1.44913767 2.82842712]\n",
      " [1.04880885 1.09544512 2.52982213 0.        ]\n",
      " [3.04959014 0.54772256 2.36643191 1.78885438]\n",
      " [2.79284801 1.78885438 2.34520788 2.64575131]]\n"
     ]
    }
   ],
   "source": [
    "#Lets take the square root of the original array and save it under the same variable. \n",
    "array = np.sqrt(array)\n",
    "print(array)"
   ]
  },
  {
   "cell_type": "markdown",
   "id": "22022865",
   "metadata": {},
   "source": [
    "### $\\color{orange}{\\text{Activity 6: Log Transform}}$"
   ]
  },
  {
   "cell_type": "markdown",
   "id": "8a7af354",
   "metadata": {},
   "source": [
    "Use NumPy mathematical functions to take the base-10 logrithum of the entire `array`. This is called a log transform and is often performed on data displayed in graphs to emphasize certain trends/data points. We will talk about this more next week. "
   ]
  },
  {
   "cell_type": "code",
   "execution_count": 14,
   "id": "a13963be",
   "metadata": {},
   "outputs": [
    {
     "name": "stdout",
     "output_type": "stream",
     "text": [
      "[[ 0.19010562  0.40308999  0.16110965  0.45154499]\n",
      " [ 0.02069634  0.03959062  0.40308999        -inf]\n",
      " [ 0.48424147 -0.26143937  0.37409401  0.25257499]\n",
      " [ 0.4460473   0.25257499  0.37018134  0.42254902]]\n"
     ]
    },
    {
     "name": "stderr",
     "output_type": "stream",
     "text": [
      "/tmp/ipykernel_5282/4050089338.py:1: RuntimeWarning: divide by zero encountered in log10\n",
      "  log = np.log10(array)\n"
     ]
    }
   ],
   "source": [
    "log = np.log10(array)\n",
    "#We have two values in our dataframe that contain 0's, so we get an error. \n",
    "print(log)"
   ]
  },
  {
   "cell_type": "markdown",
   "id": "1ca77b9e",
   "metadata": {},
   "source": [
    "### Special Functions in NumPy"
   ]
  },
  {
   "cell_type": "markdown",
   "id": "9b6f0b16",
   "metadata": {},
   "source": [
    "Aside from these, NumPy hosts an array (Ha! See what I did there?) of other special functions that can be applied to NumPy dataframes. "
   ]
  },
  {
   "cell_type": "markdown",
   "id": "e22ef28b",
   "metadata": {},
   "source": [
    "### $\\color{orange}{\\text{Activity 7: Fast Fourier Transform}}$"
   ]
  },
  {
   "cell_type": "code",
   "execution_count": 15,
   "id": "1f1fcde8",
   "metadata": {},
   "outputs": [],
   "source": [
    "data = np.random.rand(100)"
   ]
  },
  {
   "cell_type": "markdown",
   "id": "514c2e68",
   "metadata": {},
   "source": [
    "Use NumPy and documentation to perform a 1D, discrete fast Fourier Transform on the `data` dataframe provided. Print the result and describe the data; are the data real or complex? What is a Fourier Transform?"
   ]
  },
  {
   "cell_type": "code",
   "execution_count": 16,
   "id": "a4a526bd",
   "metadata": {},
   "outputs": [
    {
     "name": "stdout",
     "output_type": "stream",
     "text": [
      "[48.08546429+0.00000000e+00j -1.55526139-2.86973677e+00j\n",
      " -1.47880823-3.12545968e+00j  0.35433567+2.57120874e+00j\n",
      " -1.67883865+7.22085364e-01j -0.38413225+4.10145820e-01j\n",
      " -2.69923853+2.13760898e+00j -1.18885366-7.79309231e-01j\n",
      " -1.08599513+1.87558465e+00j -3.28962103+1.11708006e+00j\n",
      "  2.44175165+1.86753488e+00j  0.92255782+8.48779852e-01j\n",
      "  0.35611813+4.05419607e-02j  3.27603523-1.66438250e-01j\n",
      " -1.60502431+1.65313948e+00j -2.59959872-8.23775247e-03j\n",
      " -4.05541407+1.76922208e-01j -0.37271849+5.06051684e-01j\n",
      "  0.85842525+1.17107999e+00j  1.64597677+5.63291971e+00j\n",
      "  0.5133642 -2.26140728e+00j -1.22001466-1.49470580e+00j\n",
      "  1.69934054-6.51950717e-01j -0.60351231-1.02723394e+00j\n",
      " -0.57264212-4.68346923e-01j  0.66475089-3.12389621e+00j\n",
      "  1.51377012+3.63815694e+00j  2.77572164-1.78613389e+00j\n",
      "  2.60075668+3.39817737e-01j -1.79255416-8.04598054e-01j\n",
      "  1.81102443-1.84174410e+00j -4.41600109+7.47298445e-01j\n",
      " -1.45335978-3.07247860e-01j -3.07420267+1.80220242e-01j\n",
      "  0.30229182-7.66207982e-01j -3.65535099+2.26151602e-01j\n",
      "  0.22273586-1.40647511e+00j  2.57819018-7.98876579e-01j\n",
      "  0.83846625-3.55762025e+00j -0.24337675+1.63133098e+00j\n",
      " -0.98750656+3.34595588e+00j -0.59215827+2.96072259e+00j\n",
      "  0.88611007-2.62048198e+00j -2.43084353-3.36405898e+00j\n",
      " -1.60815869-6.30706111e-01j  2.35552304+5.06882194e+00j\n",
      "  1.77325569-1.07333278e+00j -0.78096236-2.76609198e+00j\n",
      "  3.46815853+1.26704516e+00j  0.42931759-2.41968171e+00j\n",
      " -4.41114747+1.11022302e-16j  0.42931759+2.41968171e+00j\n",
      "  3.46815853-1.26704516e+00j -0.78096236+2.76609198e+00j\n",
      "  1.77325569+1.07333278e+00j  2.35552304-5.06882194e+00j\n",
      " -1.60815869+6.30706111e-01j -2.43084353+3.36405898e+00j\n",
      "  0.88611007+2.62048198e+00j -0.59215827-2.96072259e+00j\n",
      " -0.98750656-3.34595588e+00j -0.24337675-1.63133098e+00j\n",
      "  0.83846625+3.55762025e+00j  2.57819018+7.98876579e-01j\n",
      "  0.22273586+1.40647511e+00j -3.65535099-2.26151602e-01j\n",
      "  0.30229182+7.66207982e-01j -3.07420267-1.80220242e-01j\n",
      " -1.45335978+3.07247860e-01j -4.41600109-7.47298445e-01j\n",
      "  1.81102443+1.84174410e+00j -1.79255416+8.04598054e-01j\n",
      "  2.60075668-3.39817737e-01j  2.77572164+1.78613389e+00j\n",
      "  1.51377012-3.63815694e+00j  0.66475089+3.12389621e+00j\n",
      " -0.57264212+4.68346923e-01j -0.60351231+1.02723394e+00j\n",
      "  1.69934054+6.51950717e-01j -1.22001466+1.49470580e+00j\n",
      "  0.5133642 +2.26140728e+00j  1.64597677-5.63291971e+00j\n",
      "  0.85842525-1.17107999e+00j -0.37271849-5.06051684e-01j\n",
      " -4.05541407-1.76922208e-01j -2.59959872+8.23775247e-03j\n",
      " -1.60502431-1.65313948e+00j  3.27603523+1.66438250e-01j\n",
      "  0.35611813-4.05419607e-02j  0.92255782-8.48779852e-01j\n",
      "  2.44175165-1.86753488e+00j -3.28962103-1.11708006e+00j\n",
      " -1.08599513-1.87558465e+00j -1.18885366+7.79309231e-01j\n",
      " -2.69923853-2.13760898e+00j -0.38413225-4.10145820e-01j\n",
      " -1.67883865-7.22085364e-01j  0.35433567-2.57120874e+00j\n",
      " -1.47880823+3.12545968e+00j -1.55526139+2.86973677e+00j]\n"
     ]
    }
   ],
   "source": [
    "fft = np.fft.fft(data)\n",
    "print(fft)"
   ]
  },
  {
   "cell_type": "markdown",
   "id": "c7d56c68",
   "metadata": {},
   "source": [
    "These are complex numbers, where the complex part is designated by j. A Fourier transform breaks down a set of data, which could define a function (signal), into its complex frequencies and amplitudes. These frquencies and amplitudes can then be represented as trigonometric functions, which in sum, tend to the original function. See more here: https://www.thefouriertransform.com/"
   ]
  },
  {
   "cell_type": "markdown",
   "id": "f63e2285",
   "metadata": {},
   "source": [
    "____________________________________________________"
   ]
  },
  {
   "cell_type": "markdown",
   "id": "1bcb1c7e",
   "metadata": {},
   "source": [
    "# Matplotlib"
   ]
  },
  {
   "cell_type": "markdown",
   "id": "95782d52",
   "metadata": {},
   "source": [
    "Where there is science, there's observations. Where there's observations, there's data. How do we plot the data we collect such that conclusions can be drawn and results communicated? We mostly frequently use a Python package called `Matplotlib`. "
   ]
  },
  {
   "cell_type": "markdown",
   "id": "1dd4404b",
   "metadata": {},
   "source": [
    "$\\color{Blue}{\\text{A helpful Matplotlib cheatsheet is located here:}}$ https://matplotlib.org/cheatsheets/_images/cheatsheets-1.png\n",
    "\n",
    "\n",
    "$\\color{Green}{\\text{An important part of data visualization is what colors you use to represent datasets. A list of Matplotlib color names is located here:}}$ https://matplotlib.org/stable/gallery/color/named_colors.html#sphx-glr-gallery-color-named-colors-py$\\color{Green}{\\text{. A list of color gradient names is located here:}}$ https://matplotlib.org/stable/users/explain/colors/colormaps.html \n"
   ]
  },
  {
   "cell_type": "markdown",
   "id": "b43751d0",
   "metadata": {},
   "source": [
    "Let's create a variety of basic plots. "
   ]
  },
  {
   "cell_type": "markdown",
   "id": "97924fb5",
   "metadata": {},
   "source": [
    "### Plotting a Function"
   ]
  },
  {
   "cell_type": "code",
   "execution_count": 17,
   "id": "9ef08db4",
   "metadata": {},
   "outputs": [
    {
     "data": {
      "image/png": "[encoded data removed]",
      "text/plain": [
       "<Figure size 640x480 with 1 Axes>"
      ]
     },
     "metadata": {},
     "output_type": "display_data"
    }
   ],
   "source": [
    "#Let's plot a quadratic function.\n",
    "import matplotlib.pyplot as plt\n",
    "\n",
    "def y(x):\n",
    "    return x**2\n",
    "x = np.linspace(-10, 10, 100) #It's important to understand what this function does: https://numpy.org/doc/stable/reference/generated/numpy.linspace.html \n",
    "y = y(x)\n",
    "\n",
    "plot = plt.plot(x, y, color='red') #Plotting a continuous curve requires the `plt.plot()` function. \n",
    "plt.xlabel(\"x\") #x-axis label\n",
    "plt.ylabel(\"y\") #y-axis label\n",
    "plt.title(\"Quadratic Function\")\n",
    "plt.show() #While not needed for some `plt` functions, `plt.show()` must often be written in order to tell "
   ]
  },
  {
   "cell_type": "markdown",
   "id": "e1274117",
   "metadata": {},
   "source": [
    "### Scatterplots and Histograms"
   ]
  },
  {
   "cell_type": "markdown",
   "id": "01e9da84",
   "metadata": {},
   "source": [
    "Let's generate two arrays of random datapoints taken from a chi-squared distribution (see a description of Chi-Squared distributions here: https://www.scribbr.com/statistics/chi-square-distributions/) using NumPy and plot both of them using a scatterplot and histograms."
   ]
  },
  {
   "cell_type": "code",
   "execution_count": 18,
   "id": "e43dace3",
   "metadata": {},
   "outputs": [],
   "source": [
    "chi_squared_1 = np.random.chisquare(5, 100)\n",
    "chi_squared_2 = np.random.chisquare(3, 100)"
   ]
  },
  {
   "cell_type": "code",
   "execution_count": 19,
   "id": "ed3e9548",
   "metadata": {},
   "outputs": [
    {
     "data": {
      "image/png": "[encoded data removed]",
      "text/plain": [
       "<Figure size 640x480 with 1 Axes>"
      ]
     },
     "metadata": {},
     "output_type": "display_data"
    }
   ],
   "source": [
    "#Scatterplot (takes two variables)\n",
    "\n",
    "plot2 = plt.scatter(chi_squared_1, chi_squared_2, color = 'navy', marker = \"*\") #Notice the markers!\n",
    "plt.xlabel(\"Chi-Squared 1\") #x-axis label\n",
    "plt.ylabel(\"Chi-Squared 2\") #y-axis label\n",
    "plt.title(\"Chi-Squared Compared\")\n",
    "plt.show()"
   ]
  },
  {
   "cell_type": "code",
   "execution_count": 20,
   "id": "b9a5108f",
   "metadata": {},
   "outputs": [
    {
     "data": {
      "image/png": "[encoded data removed]",
      "text/plain": [
       "<Figure size 640x480 with 1 Axes>"
      ]
     },
     "metadata": {},
     "output_type": "display_data"
    },
    {
     "data": {
      "image/png": "[encoded data removed]",
      "text/plain": [
       "<Figure size 640x480 with 1 Axes>"
      ]
     },
     "metadata": {},
     "output_type": "display_data"
    }
   ],
   "source": [
    "#Two histograms (one-dimensional), one for each dataset \n",
    "\n",
    "plot3 = plt.hist(chi_squared_1, bins = 20, color = 'violet') #The \"bins\" value is the number of divisions/bars that display the frequency of datapoints within the numeric range of each bin.\n",
    "plt.xlabel(\"Values\") \n",
    "plt.ylabel(\"Frequency\") \n",
    "plt.title(\"Chi-Squared 1\")\n",
    "plt.show()\n",
    "\n",
    "plot4 = plt.hist(chi_squared_2, bins = 20, color = 'darkviolet') #The \"bins\" value is the number of divisions/bars that display the frequency of datapoints within the numeric range of each bin.\n",
    "plt.xlabel(\"Values\") \n",
    "plt.ylabel(\"Frequency\") \n",
    "plt.title(\"Chi-Squared 2\")\n",
    "plt.show()"
   ]
  },
  {
   "cell_type": "markdown",
   "id": "77e1b5e0",
   "metadata": {},
   "source": [
    "### $\\color{orange}{\\text{Activity 8: 2D Histograms}}$"
   ]
  },
  {
   "cell_type": "markdown",
   "id": "9a21adff",
   "metadata": {},
   "source": [
    "Histograms display the number/frequency of datapoints in a dataset that reside in numeric bins lying along a 1D \"axis.\" What if we want to display the number of datapoints in bins along two intersecting axes? In this case, we use a 2D histogram which uses a \"colorbar\" to represent the frequency of datapoints in each bin. Below is some code used to plot one such 2D histogram. "
   ]
  },
  {
   "cell_type": "code",
   "execution_count": 21,
   "id": "e854d3f1",
   "metadata": {},
   "outputs": [
    {
     "data": {
      "image/png": "[encoded data removed]",
      "text/plain": [
       "<Figure size 640x480 with 2 Axes>"
      ]
     },
     "metadata": {},
     "output_type": "display_data"
    }
   ],
   "source": [
    "import matplotlib.pyplot as plt\n",
    "import matplotlib as mpl\n",
    "\n",
    "fig, ax = plt.subplots(tight_layout=True)\n",
    "hist = ax.hist2d(chi_squared_1, chi_squared_2, norm=mpl.colors.LogNorm())\n",
    "ax.set_xlabel('chi_squared_1')\n",
    "ax.set_ylabel('chi_squared_2')\n",
    "\n",
    "cbar = fig.colorbar(hist[3], ax=ax)\n",
    "cbar.set_label('Counts') "
   ]
  },
  {
   "cell_type": "markdown",
   "id": "6db4dd49",
   "metadata": {},
   "source": [
    "Use documentation, StackExchange, ChatGPT, etc. to learn how to add x- and y-labels and a colorbar to this graph. "
   ]
  },
  {
   "cell_type": "markdown",
   "id": "ce0c0ac0",
   "metadata": {},
   "source": [
    "--------------------------------------------------------"
   ]
  },
  {
   "cell_type": "markdown",
   "id": "7df6888c",
   "metadata": {},
   "source": [
    "# SciPy"
   ]
  },
  {
   "cell_type": "markdown",
   "id": "5d832610",
   "metadata": {},
   "source": [
    "SciPy is a package that contains a variety of advanced mathematical functions such as numerical intregration, special functions, optimization (linear regressions, etc.), linear algebra, and more. \n",
    "\n",
    "First, let's check which version of SciPy we're using. "
   ]
  },
  {
   "cell_type": "markdown",
   "id": "31baf3bd",
   "metadata": {},
   "source": [
    "### $\\color{orange}{\\text{Activity 9: SciPy Version}}$"
   ]
  },
  {
   "cell_type": "markdown",
   "id": "9da01006",
   "metadata": {},
   "source": [
    "Print which version of SciPy you're running using an f-string that reads \"The version of SciPy we're running is {insert version number}.\" "
   ]
  },
  {
   "cell_type": "code",
   "execution_count": 22,
   "id": "9096e51b",
   "metadata": {},
   "outputs": [
    {
     "name": "stdout",
     "output_type": "stream",
     "text": [
      "The version of SciPy we're running is 1.11.2.\n"
     ]
    }
   ],
   "source": [
    "print(f\"The version of SciPy we're running is {scipy.__version__}.\")"
   ]
  },
  {
   "cell_type": "markdown",
   "id": "5a7fd3f3",
   "metadata": {},
   "source": [
    "### scipy.integrate: Numerical Integration"
   ]
  },
  {
   "cell_type": "markdown",
   "id": "175ea129",
   "metadata": {},
   "source": [
    "One of the most common reasons to use SciPy is its numerical integration function. Let's integrate a variety of functions provided by SciPy. \n",
    "\n",
    "A list of SciPy special functions are provided here: https://docs.scipy.org/doc/scipy/reference/special.html "
   ]
  },
  {
   "cell_type": "code",
   "execution_count": 23,
   "id": "8cca14b2",
   "metadata": {},
   "outputs": [
    {
     "name": "stdout",
     "output_type": "stream",
     "text": [
      "(2490.0, 2.7661051045708712e-11)\n"
     ]
    }
   ],
   "source": [
    "#Import submodules of SciPy, which are not necessarily imported with the base package. Additionally, this makes it easier to call the entire submodule AND SciPy when we go to use a function from that submodule.\n",
    "import scipy.integrate as integrate\n",
    "import scipy.special as special #Special functions in SciPy. \n",
    "\n",
    "#Let's define a simple function using variable x and output \"function\"\n",
    "def function(x):\n",
    "    return (x**3 - 1) #Python uses ** to represent exponentiation. \n",
    "\n",
    "#Integrate using integrate.quad (https://docs.scipy.org/doc/scipy/tutorial/integrate.html)\n",
    "#Here, we integrate from x = 0 to x = 10.\n",
    "numerical = integrate.quad(function, 0, 10)\n",
    "print(numerical)"
   ]
  },
  {
   "cell_type": "markdown",
   "id": "e63da795",
   "metadata": {},
   "source": [
    "In the printed result, there are two values. The first is the actual value of the definite integral. The second in the error in that value, since `integrate.quad` uses numerical integration using the quadrature method. "
   ]
  },
  {
   "cell_type": "markdown",
   "id": "31cbf962",
   "metadata": {},
   "source": [
    "### $\\color{orange}{\\text{Activity 10: Integrating Bessel Functions}}$"
   ]
  },
  {
   "cell_type": "markdown",
   "id": "a07e56cd",
   "metadata": {},
   "source": [
    "Use SciPy to integrate a Bessel Function (`scipy.special.jv`, https://docs.scipy.org/doc/scipy/reference/generated/scipy.special.jv.html#scipy.special.jv) at $\\nu$ = 1 from z = 0 to z = 10. Hint: Check documentation on `scipy.integrate`! Print the results.\n",
    "\n",
    "Then, perform the same calculation using Trapezoidal integration. Print the results. \n",
    "\n",
    "What is a Bessel function? What types of physical phenomena do they represent? "
   ]
  },
  {
   "cell_type": "code",
   "execution_count": 24,
   "id": "9caefb17",
   "metadata": {},
   "outputs": [
    {
     "data": {
      "text/plain": [
       "(1.2459357644513482, 1.1600766172282117e-12)"
      ]
     },
     "execution_count": 24,
     "metadata": {},
     "output_type": "execute_result"
    }
   ],
   "source": [
    "import scipy.integrate as integrate\n",
    "import scipy.special as special\n",
    "result = integrate.quad(lambda x: special.jv(1,x), 0, 10)\n",
    "result"
   ]
  },
  {
   "cell_type": "code",
   "execution_count": 25,
   "id": "c5523199",
   "metadata": {},
   "outputs": [
    {
     "data": {
      "text/plain": [
       "-0.8112082402266396"
      ]
     },
     "execution_count": 25,
     "metadata": {},
     "output_type": "execute_result"
    }
   ],
   "source": [
    "x = np.linspace(0, 10, 10000)\n",
    "f = lambda x: special.jv(1,x)\n",
    "y = f(x)\n",
    "trap = integrate.trapezoid(x, y)\n",
    "trap"
   ]
  },
  {
   "cell_type": "markdown",
   "id": "76e5457b",
   "metadata": {},
   "source": [
    "Bessel functions are functions that satisfy the differential equation found here: https://en.wikipedia.org/wiki/Bessel_function. A list of phenomena they represent is included. "
   ]
  },
  {
   "cell_type": "markdown",
   "id": "87643987",
   "metadata": {},
   "source": [
    "### Curve-fitting"
   ]
  },
  {
   "cell_type": "markdown",
   "id": "72563b49",
   "metadata": {},
   "source": [
    "If you take anything from this homework, **curve fitting may be one of the most important topics to remember.** In experimental physics, a vast majority of data processesing (and eventually, discoveries!) are made by fitting functions, either by hand or with machine learning, to data. This way, theoretical predictions can be matched to real data and background noise can be removed. Let's generate some random data and fit a 1. linear function and 2. a normal distribution to it. "
   ]
  },
  {
   "cell_type": "markdown",
   "id": "6b9c9d63",
   "metadata": {},
   "source": [
    "To create a histogram of data, we use the `Boost_Histogram`package. This package allows us to create an \"axis\" of \"bins\" we can \"fill\" with data (i.e. if there are five data points, x = 0,1,2,4,5 and two bins, one between x = 0 and x = 3 and one between x = 3 and x = 6, three datapoints would go in the first bin and two in the second bin). In this example, we fill a `Boost_Histogram` histogram called `random_hist` with our data and plot it. You can get the center \"x\" value of each histogram bin (if a bin spans from x = 0 to x = 3, its center will be at x = 1.5) using `random_hist.axes[0].centers` (you can define a histogram with multiple axes; here, we use a histogram with just one axis, a.k.a. a 1D axis). `random_hist.values()` returns an array of the number of datapoints in each bin, and `random_hist.axes[0].widths` return an array of the \"size\" of each bin along the \"x\" axis (a bin that spans from x = 0 to 3 will have a width of 3). "
   ]
  },
  {
   "cell_type": "code",
   "execution_count": 26,
   "id": "0477cd4d",
   "metadata": {},
   "outputs": [
    {
     "data": {
      "text/plain": [
       "Text(0, 0.5, 'Frequency')"
      ]
     },
     "execution_count": 26,
     "metadata": {},
     "output_type": "execute_result"
    },
    {
     "data": {
      "image/png": "[encoded data removed]",
      "text/plain": [
       "<Figure size 640x480 with 1 Axes>"
      ]
     },
     "metadata": {},
     "output_type": "display_data"
    }
   ],
   "source": [
    "#First, let's import.\n",
    "import scipy.optimize as optimize\n",
    "\n",
    "#Now, let's create some data. \n",
    "random = np.random.normal(loc=0, scale=1, size=1000) #This is a normal distribution centered around 0 with a standard distribution of 1.\n",
    "\n",
    "#We'll fill a histogram with these data. \n",
    "import boost_histogram as bh\n",
    "random_hist = bh.Histogram(bh.axis.Regular(20, -3, 3))\n",
    "random_hist.fill(random)\n",
    "\n",
    "#Let's plot this data. We use `matplotlib` to plot histograms. We'll discuss this later in the notebook. \n",
    "import matplotlib.pyplot as plt\n",
    "random_plot = plt.bar(random_hist.axes[0].centers, random_hist.values(), width=random_hist.axes[0].widths, color = \"mediumspringgreen\")\n",
    "plt.xlabel(\"Value\")\n",
    "plt.ylabel(\"Frequency\")"
   ]
  },
  {
   "cell_type": "code",
   "execution_count": 27,
   "id": "25ee1143",
   "metadata": {},
   "outputs": [
    {
     "name": "stdout",
     "output_type": "stream",
     "text": [
      "(array([ 0.68671684, 49.9       ]), array([[3.13037925e+01, 4.48701589e-09],\n",
      "       [4.48701589e-09, 9.36765995e+01]]))\n"
     ]
    }
   ],
   "source": [
    "#Now, we will use curve_fit to fit a linear function to the data and plot it on he same graph. We'll notice that the linear function doesn't \"fit\" very well to this normal distribution, which makes sense.\n",
    "#To do this, we need to define a linear function fro curve_fit to use as the first argument. \n",
    "\n",
    "def linear(x, a, b):\n",
    "    return a*x+b   #Pretty underwhelming. The point of `curve_fit` is to find an a and b that produce a line that best matches the `random` data.\n",
    "\n",
    "#`optimize.curve_fit` will return a tuple of parameters that describe the geometry of the function of best fit. For it to compute the linear regression on the data that produces this function of best fit, \n",
    "#we must provide it an \"x\" axis through which to analyze (we'll use a linear range, defined using np.linspace(), to provide this axis) and the y function (the regression function in action) to analyze.\n",
    "\n",
    "x = np.linspace(-4, 4, 1000) \n",
    "\n",
    "#We can now fit a cur\n",
    "parameters = scipy.optimize.curve_fit(linear, random_hist.axes[0].centers, random_hist.values(), p0=[0,60]) #\"Linear\" is our function of best fit, \"x\" is our x-axis range,\"random\" are our randomly generated data graphed above, and \"p0\" is an optional \"starting place\" we can provide the curve_fit function for [a,b] to help it \"make guesses\" as it calculates the regression. \n",
    "print(parameters)"
   ]
  },
  {
   "cell_type": "markdown",
   "id": "6569b799",
   "metadata": {},
   "source": [
    "We have now printed an tuple this two arrays: the first, `parameters[0]`, are the a and b values of `linear` which produce the line of best fit. `parameters[1]` are the values of the covariance matrix for the line of best fit. The covariance matrix describes the 'proportionality' of the variables in question (in this case, `a` and `b`). Because the [1,2] and [2,1] entries (covariances) of the covariance matrix are both positive, we know that when `curve_fit` is running the regression, large `a` values tend to correspond to large `b` values (positive correlation). See: https://en.wikipedia.org/wiki/Covariance\n",
    "\n",
    "Notice the produced `a` and `b` values are pretty close to our initial guess `p0` in the `curve_fit` function. Feel free to change this `p0` and see what happens. Since this is a pretty simple dataset and function, statistically speaking, `curve_fit` does a pretty good job, no matter what the initial guess is, generating the line of best fit.  \n",
    "\n",
    "Let's plot the line of best fit with the data. "
   ]
  },
  {
   "cell_type": "code",
   "execution_count": 28,
   "id": "9f914acf",
   "metadata": {},
   "outputs": [
    {
     "data": {
      "image/png": "[encoded data removed]",
      "text/plain": [
       "<Figure size 640x480 with 1 Axes>"
      ]
     },
     "metadata": {},
     "output_type": "display_data"
    }
   ],
   "source": [
    "a_b_values = parameters[0]\n",
    "a = a_b_values[0]\n",
    "b = a_b_values[1]\n",
    "\n",
    "random_plot = plt.hist(random, bins=20, range=[-4,4], color = 'mediumspringgreen')\n",
    "random_plot_linear = plt.plot(x, linear(x, a, b), color = 'purple')\n",
    "plt.xlabel(\"Value\")\n",
    "plt.ylabel(\"Frequency\")\n",
    "plt.show()"
   ]
  },
  {
   "cell_type": "markdown",
   "id": "1ff6fbb4",
   "metadata": {},
   "source": [
    "The line of best fit is placed about halfway up the \"pile\" of data. It won't look very \"well-fit,\" so to speak. Why do you think this is?"
   ]
  },
  {
   "cell_type": "markdown",
   "id": "915591b6",
   "metadata": {},
   "source": [
    "### $\\color{orange}{\\text{Activity 11: Fitting a Normal Curve}}$"
   ]
  },
  {
   "cell_type": "markdown",
   "id": "4ad899f1",
   "metadata": {},
   "source": [
    "Similar to the example, fit a Gaussian normal curve to the data in `random_hist`. Print the parameters generated and plot the Gaussian with the data. Use the provided function `Gaussian` to define the curve. "
   ]
  },
  {
   "cell_type": "code",
   "execution_count": 32,
   "id": "16c20d9f",
   "metadata": {},
   "outputs": [],
   "source": [
    "def normal_distribution(x, a, m, s):\n",
    "    return a*(1 / (s * np.sqrt(2 * np.pi))) * np.exp(-0.5 * ((x - m) / s) ** 2) #I definitely didn't use ChatGPT to generate this function."
   ]
  },
  {
   "cell_type": "code",
   "execution_count": 33,
   "id": "3ee9376f",
   "metadata": {},
   "outputs": [
    {
     "name": "stdout",
     "output_type": "stream",
     "text": [
      "(array([2.96536340e+02, 1.44937211e-02, 9.95656272e-01]), array([[4.74504159e+01, 1.05367920e-05, 1.06467077e-01],\n",
      "       [1.05367920e-05, 7.12513378e-04, 6.35666591e-08],\n",
      "       [1.06467077e-01, 6.35666591e-08, 7.14700084e-04]]))\n"
     ]
    }
   ],
   "source": [
    "normal_param = scipy.optimize.curve_fit(normal_distribution, random_hist.axes[0].centers, random_hist.values(), p0=[1,0,1]) #\"Linear\" is our function of best fit, \"x\" is our x-axis range,\"random\" are our randomly generated data graphed above, and \"p0\" is an optional \"starting place\" we can provide the curve_fit function for [a,b] to help it \"make guesses\" as it calculates the regression. \n",
    "print(normal_param)"
   ]
  },
  {
   "cell_type": "markdown",
   "id": "dcd402d8",
   "metadata": {},
   "source": [
    "# Plot out the fit of the normal distribution to the data to visually confirm that it is a good fit."
   ]
  },
  {
   "cell_type": "code",
   "execution_count": 41,
   "id": "705fbe58",
   "metadata": {},
   "outputs": [
    {
     "name": "stdout",
     "output_type": "stream",
     "text": [
      "Fitted Parameters \n",
      " \n",
      "Amplitude: 296.53633976282487 \n",
      "Mean: 0.014493721123501606 \n",
      "Standard Deviation: 0.9956562718565424\n"
     ]
    },
    {
     "data": {
      "image/png": "[encoded data removed]",
      "text/plain": [
       "<Figure size 640x480 with 1 Axes>"
      ]
     },
     "metadata": {},
     "output_type": "display_data"
    }
   ],
   "source": [
    "fitted_amplitude, fitted_mean, fitted_stddev = normal_param[0]\n",
    "\n",
    "# Generate fitted Gaussian curve\n",
    "x_fit = np.linspace(-4, 4, 1000)\n",
    "y_fit = normal_distribution(x_fit, *normal_param[0])\n",
    "\n",
    "\n",
    "plt.plot(x_fit, y_fit, label='Fitted Gaussian', color='r')\n",
    "random_plot = plt.hist(random, bins=25, range=[-4,4], color = 'mediumspringgreen')\n",
    "\n",
    "print(f\"Fitted Parameters \\n \\nAmplitude: {fitted_amplitude} \\nMean: {fitted_mean} \\nStandard Deviation: {fitted_stddev}\")"
   ]
  },
  {
   "cell_type": "markdown",
   "id": "e850b711",
   "metadata": {},
   "source": [
    "_______________________________________________"
   ]
  },
  {
   "cell_type": "markdown",
   "id": "2294432e",
   "metadata": {},
   "source": [
    "# Pandas"
   ]
  },
  {
   "cell_type": "markdown",
   "id": "a96d201e",
   "metadata": {},
   "source": [
    "Lastly, we will take a look at the Python package `Pandas`. `Pandas` is a package for manipulating dataframes, which are more organized \"structures\" or \"tables\" of data that can easily be edited. \n",
    "\n",
    "`Pandas` hosts two main object types for holding data, the series and the dataframe. Most commonly, a dataframe will be used, which serves as an organized matrix of data with column and row titles, reflecting how someone may input data into an Excel spreadsheet. Let's generate a dataframe for us to use using `Pandas`. `Pandas` dataframes can use a combination of string and float entry values. Recall we imported `Pandas` as \"pd.\" "
   ]
  },
  {
   "cell_type": "code",
   "execution_count": 108,
   "id": "37ab7215",
   "metadata": {},
   "outputs": [
    {
     "name": "stdout",
     "output_type": "stream",
     "text": [
      "  Experiment Name          Experiment Type  Fiducial Volume (Tonnes)  \\\n",
      "0         XENONnT         Liquid Xenon TPC                   7.00000   \n",
      "1              LZ         Liquid Xenon TPC                   6.00000   \n",
      "2             LUX         Liquid Xenon TPC                   0.37000   \n",
      "3       PandaX-II         Liquid Xenon TPC                   0.50000   \n",
      "4      CRESST-III  Cryogenic Scintillators                   0.00002   \n",
      "\n",
      "   Unnamed Random Statistic Detected Darkmatter?  \n",
      "0                    0.3350                   No  \n",
      "1                    0.1345                   No  \n",
      "2                    0.4420                   No  \n",
      "3                    0.4620                   No  \n",
      "4                    0.8590                   No  \n"
     ]
    }
   ],
   "source": [
    "#Let's create some data that needs organized\n",
    "experiment_names = [\"XENONnT\", \"LZ\", \"LUX\", \"PandaX-II\", \"CRESST-III\"]\n",
    "experiment_type = [\"Liquid Xenon TPC\", \"Liquid Xenon TPC\", \"Liquid Xenon TPC\", \"Liquid Xenon TPC\", \"Cryogenic Scintillators\"]\n",
    "fiducial_volume_tonnes = [7, 6, 0.37, 0.5, 0.00002]\n",
    "random_other_statistic = [0.335, 0.1345, 0.442, 0.462, 0.859]\n",
    "detected_darkmatter = [\"No\", \"No\", \"No\", \"No\", \"No\"]\n",
    "\n",
    "#Constructing the dataframe\n",
    "dark_matter_data = pd.DataFrame({\"Experiment Name\": experiment_names, \"Experiment Type\": experiment_type, \"Fiducial Volume (Tonnes)\": fiducial_volume_tonnes, \"Unnamed Random Statistic\": random_other_statistic, \"Detected Darkmatter?\": detected_darkmatter})\n",
    "\n",
    "#Let's view our dataframe. \n",
    "print(dark_matter_data)"
   ]
  },
  {
   "cell_type": "markdown",
   "id": "fd54aa75",
   "metadata": {},
   "source": [
    "When a `Pandas` dataframe is printed, it will contain a somewhat unorganized display of all columns and their contents. Let's say our dataframe is HUGE. That is, maybe it has several hundred rows and we just want to view the first few or last few rows to get a sense of the data contained inside. To do this, we use the `.head()` and `.tail()` function. Additionally, `Pandas` will format the data into a much more readable display. "
   ]
  },
  {
   "cell_type": "code",
   "execution_count": 109,
   "id": "b2723166",
   "metadata": {},
   "outputs": [
    {
     "data": {
      "text/html": [
       "<div>\n",
       "<style scoped>\n",
       "    .dataframe tbody tr th:only-of-type {\n",
       "        vertical-align: middle;\n",
       "    }\n",
       "\n",
       "    .dataframe tbody tr th {\n",
       "        vertical-align: top;\n",
       "    }\n",
       "\n",
       "    .dataframe thead th {\n",
       "        text-align: right;\n",
       "    }\n",
       "</style>\n",
       "<table border=\"1\" class=\"dataframe\">\n",
       "  <thead>\n",
       "    <tr style=\"text-align: right;\">\n",
       "      <th></th>\n",
       "      <th>Experiment Name</th>\n",
       "      <th>Experiment Type</th>\n",
       "      <th>Fiducial Volume (Tonnes)</th>\n",
       "      <th>Unnamed Random Statistic</th>\n",
       "      <th>Detected Darkmatter?</th>\n",
       "    </tr>\n",
       "  </thead>\n",
       "  <tbody>\n",
       "    <tr>\n",
       "      <th>0</th>\n",
       "      <td>XENONnT</td>\n",
       "      <td>Liquid Xenon TPC</td>\n",
       "      <td>7.0</td>\n",
       "      <td>0.3350</td>\n",
       "      <td>No</td>\n",
       "    </tr>\n",
       "    <tr>\n",
       "      <th>1</th>\n",
       "      <td>LZ</td>\n",
       "      <td>Liquid Xenon TPC</td>\n",
       "      <td>6.0</td>\n",
       "      <td>0.1345</td>\n",
       "      <td>No</td>\n",
       "    </tr>\n",
       "  </tbody>\n",
       "</table>\n",
       "</div>"
      ],
      "text/plain": [
       "  Experiment Name   Experiment Type  Fiducial Volume (Tonnes)  \\\n",
       "0         XENONnT  Liquid Xenon TPC                       7.0   \n",
       "1              LZ  Liquid Xenon TPC                       6.0   \n",
       "\n",
       "   Unnamed Random Statistic Detected Darkmatter?  \n",
       "0                    0.3350                   No  \n",
       "1                    0.1345                   No  "
      ]
     },
     "execution_count": 109,
     "metadata": {},
     "output_type": "execute_result"
    }
   ],
   "source": [
    "dark_matter_data.head(2) #Prints the first two ROWS of data. "
   ]
  },
  {
   "cell_type": "code",
   "execution_count": 110,
   "id": "6fd60305",
   "metadata": {},
   "outputs": [
    {
     "data": {
      "text/html": [
       "<div>\n",
       "<style scoped>\n",
       "    .dataframe tbody tr th:only-of-type {\n",
       "        vertical-align: middle;\n",
       "    }\n",
       "\n",
       "    .dataframe tbody tr th {\n",
       "        vertical-align: top;\n",
       "    }\n",
       "\n",
       "    .dataframe thead th {\n",
       "        text-align: right;\n",
       "    }\n",
       "</style>\n",
       "<table border=\"1\" class=\"dataframe\">\n",
       "  <thead>\n",
       "    <tr style=\"text-align: right;\">\n",
       "      <th></th>\n",
       "      <th>Experiment Name</th>\n",
       "      <th>Experiment Type</th>\n",
       "      <th>Fiducial Volume (Tonnes)</th>\n",
       "      <th>Unnamed Random Statistic</th>\n",
       "      <th>Detected Darkmatter?</th>\n",
       "    </tr>\n",
       "  </thead>\n",
       "  <tbody>\n",
       "    <tr>\n",
       "      <th>3</th>\n",
       "      <td>PandaX-II</td>\n",
       "      <td>Liquid Xenon TPC</td>\n",
       "      <td>0.50000</td>\n",
       "      <td>0.462</td>\n",
       "      <td>No</td>\n",
       "    </tr>\n",
       "    <tr>\n",
       "      <th>4</th>\n",
       "      <td>CRESST-III</td>\n",
       "      <td>Cryogenic Scintillators</td>\n",
       "      <td>0.00002</td>\n",
       "      <td>0.859</td>\n",
       "      <td>No</td>\n",
       "    </tr>\n",
       "  </tbody>\n",
       "</table>\n",
       "</div>"
      ],
      "text/plain": [
       "  Experiment Name          Experiment Type  Fiducial Volume (Tonnes)  \\\n",
       "3       PandaX-II         Liquid Xenon TPC                   0.50000   \n",
       "4      CRESST-III  Cryogenic Scintillators                   0.00002   \n",
       "\n",
       "   Unnamed Random Statistic Detected Darkmatter?  \n",
       "3                     0.462                   No  \n",
       "4                     0.859                   No  "
      ]
     },
     "execution_count": 110,
     "metadata": {},
     "output_type": "execute_result"
    }
   ],
   "source": [
    "dark_matter_data.tail(2) #Prints the last two rows of data. "
   ]
  },
  {
   "cell_type": "markdown",
   "id": "b6430e25",
   "metadata": {},
   "source": [
    "Using `.describe()` prints a statistical summary of the data in your dataframe. "
   ]
  },
  {
   "cell_type": "code",
   "execution_count": 111,
   "id": "02ec1402",
   "metadata": {},
   "outputs": [
    {
     "data": {
      "text/html": [
       "<div>\n",
       "<style scoped>\n",
       "    .dataframe tbody tr th:only-of-type {\n",
       "        vertical-align: middle;\n",
       "    }\n",
       "\n",
       "    .dataframe tbody tr th {\n",
       "        vertical-align: top;\n",
       "    }\n",
       "\n",
       "    .dataframe thead th {\n",
       "        text-align: right;\n",
       "    }\n",
       "</style>\n",
       "<table border=\"1\" class=\"dataframe\">\n",
       "  <thead>\n",
       "    <tr style=\"text-align: right;\">\n",
       "      <th></th>\n",
       "      <th>Fiducial Volume (Tonnes)</th>\n",
       "      <th>Unnamed Random Statistic</th>\n",
       "    </tr>\n",
       "  </thead>\n",
       "  <tbody>\n",
       "    <tr>\n",
       "      <th>count</th>\n",
       "      <td>5.000000</td>\n",
       "      <td>5.000000</td>\n",
       "    </tr>\n",
       "    <tr>\n",
       "      <th>mean</th>\n",
       "      <td>2.774004</td>\n",
       "      <td>0.446500</td>\n",
       "    </tr>\n",
       "    <tr>\n",
       "      <th>std</th>\n",
       "      <td>3.424595</td>\n",
       "      <td>0.264666</td>\n",
       "    </tr>\n",
       "    <tr>\n",
       "      <th>min</th>\n",
       "      <td>0.000020</td>\n",
       "      <td>0.134500</td>\n",
       "    </tr>\n",
       "    <tr>\n",
       "      <th>25%</th>\n",
       "      <td>0.370000</td>\n",
       "      <td>0.335000</td>\n",
       "    </tr>\n",
       "    <tr>\n",
       "      <th>50%</th>\n",
       "      <td>0.500000</td>\n",
       "      <td>0.442000</td>\n",
       "    </tr>\n",
       "    <tr>\n",
       "      <th>75%</th>\n",
       "      <td>6.000000</td>\n",
       "      <td>0.462000</td>\n",
       "    </tr>\n",
       "    <tr>\n",
       "      <th>max</th>\n",
       "      <td>7.000000</td>\n",
       "      <td>0.859000</td>\n",
       "    </tr>\n",
       "  </tbody>\n",
       "</table>\n",
       "</div>"
      ],
      "text/plain": [
       "       Fiducial Volume (Tonnes)  Unnamed Random Statistic\n",
       "count                  5.000000                  5.000000\n",
       "mean                   2.774004                  0.446500\n",
       "std                    3.424595                  0.264666\n",
       "min                    0.000020                  0.134500\n",
       "25%                    0.370000                  0.335000\n",
       "50%                    0.500000                  0.442000\n",
       "75%                    6.000000                  0.462000\n",
       "max                    7.000000                  0.859000"
      ]
     },
     "execution_count": 111,
     "metadata": {},
     "output_type": "execute_result"
    }
   ],
   "source": [
    "dark_matter_data.describe()"
   ]
  },
  {
   "cell_type": "markdown",
   "id": "befe3fc7",
   "metadata": {},
   "source": [
    "Let's say we imported a dataframe and need to check how large it is. There are two ways to do this. One way, using the `np.size()` function, prints the number of elements in the dataframe. Then, the `np.shape()` function returns the dimensions, in (row,column) format, of the dataframe. Let's try it. As you can tell from the format, these are actually `NumPy` functions that we are applying to `Pandas` dataframe. "
   ]
  },
  {
   "cell_type": "code",
   "execution_count": 112,
   "id": "ba712fd7",
   "metadata": {},
   "outputs": [
    {
     "data": {
      "text/plain": [
       "25"
      ]
     },
     "execution_count": 112,
     "metadata": {},
     "output_type": "execute_result"
    }
   ],
   "source": [
    "np.size(dark_matter_data)"
   ]
  },
  {
   "cell_type": "code",
   "execution_count": 113,
   "id": "28915b77",
   "metadata": {},
   "outputs": [
    {
     "data": {
      "text/plain": [
       "(5, 5)"
      ]
     },
     "execution_count": 113,
     "metadata": {},
     "output_type": "execute_result"
    }
   ],
   "source": [
    "np.shape(dark_matter_data)"
   ]
  },
  {
   "cell_type": "markdown",
   "id": "46005c53",
   "metadata": {},
   "source": [
    "### $\\color{orange}{\\text{Activity 12: Working with Dataframes}}$"
   ]
  },
  {
   "cell_type": "markdown",
   "id": "9e35c6c3",
   "metadata": {},
   "source": [
    "You will need to reference documentation for this problem: https://pandas.pydata.org/docs/user_guide/10min.html\n",
    "\n",
    "You need to generate a `Pandas` dataframe containing some data you collected in the lab. This dataframe should have 5 columns and 7 rows. Construct a dataframe, containing a combination of floating-point data and strings, that describe a fictional experiment of your own design (i.e. the data can be random). Then:\n",
    "\n",
    "**1.** Print the size and shape of the dataframe. Print a list of statistics for the floating-point values in your dataframe. \n",
    "\n",
    "**2.** Oops! You made a systematic error in taking three of your datapoints. Use indexing to replace 3 elements of data, at random, with a `NaN`. What does `NaN` represent?\n",
    "\n",
    "**3.** Use the `concat()` function and indexing to select the 3rd and 5th column and create a new dataframe with them. \n",
    "\n",
    "**4.** Convert your original dataframe (not the one from part 3) to a .csv file and then read it back in from the .csv format. "
   ]
  },
  {
   "cell_type": "code",
   "execution_count": 114,
   "id": "ffd652c7",
   "metadata": {},
   "outputs": [
    {
     "name": "stdout",
     "output_type": "stream",
     "text": [
      "  Experiment Name          Experiment Type  Fiducial Volume (Tonnes)  \\\n",
      "0         XENONnT         Liquid Xenon TPC                   7.00000   \n",
      "1              LZ         Liquid Xenon TPC                   6.00000   \n",
      "2             LUX         Liquid Xenon TPC                   0.37000   \n",
      "3       PandaX-II         Liquid Xenon TPC                   0.50000   \n",
      "4      CRESST-III  Cryogenic Scintillators                   0.00002   \n",
      "5          Random                       NA                   0.00000   \n",
      "6          Random                       NA                   0.00000   \n",
      "\n",
      "   Unnamed Random Statistic Detected Darkmatter?  \n",
      "0                    0.3350                   No  \n",
      "1                    0.1345                   No  \n",
      "2                    0.4420                   No  \n",
      "3                    0.4620                   No  \n",
      "4                    0.8590                   No  \n",
      "5                    0.0000                   No  \n",
      "6                    0.0000                   No  \n"
     ]
    }
   ],
   "source": [
    "#I'm going to use the Dark Matter dataframe again for this example but expand on it so it's 7x5. \n",
    "experiment_names = [\"XENONnT\", \"LZ\", \"LUX\", \"PandaX-II\", \"CRESST-III\",\"Random\", \"Random\"]\n",
    "experiment_type = [\"Liquid Xenon TPC\", \"Liquid Xenon TPC\", \"Liquid Xenon TPC\", \"Liquid Xenon TPC\", \"Cryogenic Scintillators\", \"NA\", \"NA\"]\n",
    "fiducial_volume_tonnes = [7, 6, 0.37, 0.5, 0.00002,0.00,0.00]\n",
    "random_other_statistic = [0.335, 0.1345, 0.442, 0.462, 0.859,0.00,0.00]\n",
    "detected_darkmatter = [\"No\", \"No\", \"No\", \"No\", \"No\", \"No\", \"No\"]\n",
    "\n",
    "#Constructing the dataframe\n",
    "dark_matter_data = pd.DataFrame({\"Experiment Name\": experiment_names, \"Experiment Type\": experiment_type, \"Fiducial Volume (Tonnes)\": fiducial_volume_tonnes, \"Unnamed Random Statistic\": random_other_statistic, \"Detected Darkmatter?\": detected_darkmatter})\n",
    "\n",
    "#Let's view our dataframe. \n",
    "print(dark_matter_data)"
   ]
  },
  {
   "cell_type": "code",
   "execution_count": 115,
   "id": "55970a87",
   "metadata": {},
   "outputs": [
    {
     "name": "stdout",
     "output_type": "stream",
     "text": [
      "35\n",
      "(7, 5)\n"
     ]
    },
    {
     "data": {
      "text/html": [
       "<div>\n",
       "<style scoped>\n",
       "    .dataframe tbody tr th:only-of-type {\n",
       "        vertical-align: middle;\n",
       "    }\n",
       "\n",
       "    .dataframe tbody tr th {\n",
       "        vertical-align: top;\n",
       "    }\n",
       "\n",
       "    .dataframe thead th {\n",
       "        text-align: right;\n",
       "    }\n",
       "</style>\n",
       "<table border=\"1\" class=\"dataframe\">\n",
       "  <thead>\n",
       "    <tr style=\"text-align: right;\">\n",
       "      <th></th>\n",
       "      <th>Fiducial Volume (Tonnes)</th>\n",
       "      <th>Unnamed Random Statistic</th>\n",
       "    </tr>\n",
       "  </thead>\n",
       "  <tbody>\n",
       "    <tr>\n",
       "      <th>count</th>\n",
       "      <td>7.000000</td>\n",
       "      <td>7.000000</td>\n",
       "    </tr>\n",
       "    <tr>\n",
       "      <th>mean</th>\n",
       "      <td>1.981431</td>\n",
       "      <td>0.318929</td>\n",
       "    </tr>\n",
       "    <tr>\n",
       "      <th>std</th>\n",
       "      <td>3.106563</td>\n",
       "      <td>0.306865</td>\n",
       "    </tr>\n",
       "    <tr>\n",
       "      <th>min</th>\n",
       "      <td>0.000000</td>\n",
       "      <td>0.000000</td>\n",
       "    </tr>\n",
       "    <tr>\n",
       "      <th>25%</th>\n",
       "      <td>0.000010</td>\n",
       "      <td>0.067250</td>\n",
       "    </tr>\n",
       "    <tr>\n",
       "      <th>50%</th>\n",
       "      <td>0.370000</td>\n",
       "      <td>0.335000</td>\n",
       "    </tr>\n",
       "    <tr>\n",
       "      <th>75%</th>\n",
       "      <td>3.250000</td>\n",
       "      <td>0.452000</td>\n",
       "    </tr>\n",
       "    <tr>\n",
       "      <th>max</th>\n",
       "      <td>7.000000</td>\n",
       "      <td>0.859000</td>\n",
       "    </tr>\n",
       "  </tbody>\n",
       "</table>\n",
       "</div>"
      ],
      "text/plain": [
       "       Fiducial Volume (Tonnes)  Unnamed Random Statistic\n",
       "count                  7.000000                  7.000000\n",
       "mean                   1.981431                  0.318929\n",
       "std                    3.106563                  0.306865\n",
       "min                    0.000000                  0.000000\n",
       "25%                    0.000010                  0.067250\n",
       "50%                    0.370000                  0.335000\n",
       "75%                    3.250000                  0.452000\n",
       "max                    7.000000                  0.859000"
      ]
     },
     "execution_count": 115,
     "metadata": {},
     "output_type": "execute_result"
    }
   ],
   "source": [
    "#1:\n",
    "print(np.size(dark_matter_data))\n",
    "print(np.shape(dark_matter_data))\n",
    "dark_matter_data.describe()"
   ]
  },
  {
   "cell_type": "code",
   "execution_count": 116,
   "id": "3a941f8f",
   "metadata": {},
   "outputs": [
    {
     "data": {
      "text/html": [
       "<div>\n",
       "<style scoped>\n",
       "    .dataframe tbody tr th:only-of-type {\n",
       "        vertical-align: middle;\n",
       "    }\n",
       "\n",
       "    .dataframe tbody tr th {\n",
       "        vertical-align: top;\n",
       "    }\n",
       "\n",
       "    .dataframe thead th {\n",
       "        text-align: right;\n",
       "    }\n",
       "</style>\n",
       "<table border=\"1\" class=\"dataframe\">\n",
       "  <thead>\n",
       "    <tr style=\"text-align: right;\">\n",
       "      <th></th>\n",
       "      <th>Experiment Name</th>\n",
       "      <th>Experiment Type</th>\n",
       "      <th>Fiducial Volume (Tonnes)</th>\n",
       "      <th>Unnamed Random Statistic</th>\n",
       "      <th>Detected Darkmatter?</th>\n",
       "    </tr>\n",
       "  </thead>\n",
       "  <tbody>\n",
       "    <tr>\n",
       "      <th>0</th>\n",
       "      <td>XENONnT</td>\n",
       "      <td>Liquid Xenon TPC</td>\n",
       "      <td>7.00000</td>\n",
       "      <td>0.3350</td>\n",
       "      <td>No</td>\n",
       "    </tr>\n",
       "    <tr>\n",
       "      <th>1</th>\n",
       "      <td>LZ</td>\n",
       "      <td>Liquid Xenon TPC</td>\n",
       "      <td>6.00000</td>\n",
       "      <td>0.1345</td>\n",
       "      <td>No</td>\n",
       "    </tr>\n",
       "    <tr>\n",
       "      <th>2</th>\n",
       "      <td>LUX</td>\n",
       "      <td>Liquid Xenon TPC</td>\n",
       "      <td>0.37000</td>\n",
       "      <td>0.4420</td>\n",
       "      <td>No</td>\n",
       "    </tr>\n",
       "    <tr>\n",
       "      <th>3</th>\n",
       "      <td>PandaX-II</td>\n",
       "      <td>Liquid Xenon TPC</td>\n",
       "      <td>0.50000</td>\n",
       "      <td>0.4620</td>\n",
       "      <td>No</td>\n",
       "    </tr>\n",
       "    <tr>\n",
       "      <th>4</th>\n",
       "      <td>CRESST-III</td>\n",
       "      <td>Cryogenic Scintillators</td>\n",
       "      <td>0.00002</td>\n",
       "      <td>0.8590</td>\n",
       "      <td>No</td>\n",
       "    </tr>\n",
       "  </tbody>\n",
       "</table>\n",
       "</div>"
      ],
      "text/plain": [
       "  Experiment Name          Experiment Type  Fiducial Volume (Tonnes)  \\\n",
       "0         XENONnT         Liquid Xenon TPC                   7.00000   \n",
       "1              LZ         Liquid Xenon TPC                   6.00000   \n",
       "2             LUX         Liquid Xenon TPC                   0.37000   \n",
       "3       PandaX-II         Liquid Xenon TPC                   0.50000   \n",
       "4      CRESST-III  Cryogenic Scintillators                   0.00002   \n",
       "\n",
       "   Unnamed Random Statistic Detected Darkmatter?  \n",
       "0                    0.3350                   No  \n",
       "1                    0.1345                   No  \n",
       "2                    0.4420                   No  \n",
       "3                    0.4620                   No  \n",
       "4                    0.8590                   No  "
      ]
     },
     "execution_count": 116,
     "metadata": {},
     "output_type": "execute_result"
    }
   ],
   "source": [
    "#2:\n",
    "dark_matter_data.head()"
   ]
  },
  {
   "cell_type": "code",
   "execution_count": 117,
   "id": "6c688946",
   "metadata": {},
   "outputs": [],
   "source": [
    "dark_matter_data.iloc[0,3] = np.nan #NaN represents a missing datapoint. \n",
    "dark_matter_data.iloc[1,3] = np.nan\n",
    "dark_matter_data.iloc[2,3] = np.nan"
   ]
  },
  {
   "cell_type": "code",
   "execution_count": 118,
   "id": "c6540d5f",
   "metadata": {},
   "outputs": [
    {
     "data": {
      "text/html": [
       "<div>\n",
       "<style scoped>\n",
       "    .dataframe tbody tr th:only-of-type {\n",
       "        vertical-align: middle;\n",
       "    }\n",
       "\n",
       "    .dataframe tbody tr th {\n",
       "        vertical-align: top;\n",
       "    }\n",
       "\n",
       "    .dataframe thead th {\n",
       "        text-align: right;\n",
       "    }\n",
       "</style>\n",
       "<table border=\"1\" class=\"dataframe\">\n",
       "  <thead>\n",
       "    <tr style=\"text-align: right;\">\n",
       "      <th></th>\n",
       "      <th>Experiment Name</th>\n",
       "      <th>Experiment Type</th>\n",
       "      <th>Fiducial Volume (Tonnes)</th>\n",
       "      <th>Unnamed Random Statistic</th>\n",
       "      <th>Detected Darkmatter?</th>\n",
       "    </tr>\n",
       "  </thead>\n",
       "  <tbody>\n",
       "    <tr>\n",
       "      <th>0</th>\n",
       "      <td>XENONnT</td>\n",
       "      <td>Liquid Xenon TPC</td>\n",
       "      <td>7.00000</td>\n",
       "      <td>NaN</td>\n",
       "      <td>No</td>\n",
       "    </tr>\n",
       "    <tr>\n",
       "      <th>1</th>\n",
       "      <td>LZ</td>\n",
       "      <td>Liquid Xenon TPC</td>\n",
       "      <td>6.00000</td>\n",
       "      <td>NaN</td>\n",
       "      <td>No</td>\n",
       "    </tr>\n",
       "    <tr>\n",
       "      <th>2</th>\n",
       "      <td>LUX</td>\n",
       "      <td>Liquid Xenon TPC</td>\n",
       "      <td>0.37000</td>\n",
       "      <td>NaN</td>\n",
       "      <td>No</td>\n",
       "    </tr>\n",
       "    <tr>\n",
       "      <th>3</th>\n",
       "      <td>PandaX-II</td>\n",
       "      <td>Liquid Xenon TPC</td>\n",
       "      <td>0.50000</td>\n",
       "      <td>0.462</td>\n",
       "      <td>No</td>\n",
       "    </tr>\n",
       "    <tr>\n",
       "      <th>4</th>\n",
       "      <td>CRESST-III</td>\n",
       "      <td>Cryogenic Scintillators</td>\n",
       "      <td>0.00002</td>\n",
       "      <td>0.859</td>\n",
       "      <td>No</td>\n",
       "    </tr>\n",
       "  </tbody>\n",
       "</table>\n",
       "</div>"
      ],
      "text/plain": [
       "  Experiment Name          Experiment Type  Fiducial Volume (Tonnes)  \\\n",
       "0         XENONnT         Liquid Xenon TPC                   7.00000   \n",
       "1              LZ         Liquid Xenon TPC                   6.00000   \n",
       "2             LUX         Liquid Xenon TPC                   0.37000   \n",
       "3       PandaX-II         Liquid Xenon TPC                   0.50000   \n",
       "4      CRESST-III  Cryogenic Scintillators                   0.00002   \n",
       "\n",
       "   Unnamed Random Statistic Detected Darkmatter?  \n",
       "0                       NaN                   No  \n",
       "1                       NaN                   No  \n",
       "2                       NaN                   No  \n",
       "3                     0.462                   No  \n",
       "4                     0.859                   No  "
      ]
     },
     "execution_count": 118,
     "metadata": {},
     "output_type": "execute_result"
    }
   ],
   "source": [
    "dark_matter_data.head()"
   ]
  },
  {
   "cell_type": "code",
   "execution_count": 119,
   "id": "4493e633",
   "metadata": {},
   "outputs": [
    {
     "name": "stdout",
     "output_type": "stream",
     "text": [
      "   Fiducial Volume (Tonnes) Detected Darkmatter?\n",
      "0                   7.00000                   No\n",
      "1                   6.00000                   No\n",
      "2                   0.37000                   No\n",
      "3                   0.50000                   No\n",
      "4                   0.00002                   No\n",
      "5                   0.00000                   No\n",
      "6                   0.00000                   No\n"
     ]
    }
   ],
   "source": [
    "#3: \n",
    "third_column = dark_matter_data.iloc[:,2]\n",
    "fifth_column = dark_matter_data.iloc[:,4]\n",
    "\n",
    "new_data = pd.concat([third_column, fifth_column], axis=1) #axis=1 sets the function to concat by columns. \n",
    "print(new_data)"
   ]
  },
  {
   "cell_type": "code",
   "execution_count": 120,
   "id": "3989375a",
   "metadata": {},
   "outputs": [],
   "source": [
    "#4: \n",
    "dark_matter_data.to_csv('dark_matter_data.csv', index=False)  \n",
    "dark_matter_data_fromcsv = pd.read_csv('dark_matter_data.csv')"
   ]
  },
  {
   "cell_type": "markdown",
   "id": "5c37fc0f",
   "metadata": {},
   "source": [
    "___________________________"
   ]
  },
  {
   "cell_type": "markdown",
   "id": "99f45b1a",
   "metadata": {},
   "source": [
    "## $\\color{Blue}{\\text{Congrats! You've completed Week 1 of STARTUP homework!}}$\n",
    "### $\\color{Orange}{\\text{Remember to commit this notebook to GitHub as instructed in Activity 2.}}$"
   ]
  }
 ],
 "metadata": {
  "kernelspec": {
   "display_name": "Python 3.9 (Default)",
   "language": "python",
   "name": "python3"
  },
  "language_info": {
   "codemirror_mode": {
    "name": "ipython",
    "version": 3
   },
   "file_extension": ".py",
   "mimetype": "text/x-python",
   "name": "python",
   "nbconvert_exporter": "python",
   "pygments_lexer": "ipython3",
   "version": "3.11.4"
  }
 },
 "nbformat": 4,
 "nbformat_minor": 5
}
