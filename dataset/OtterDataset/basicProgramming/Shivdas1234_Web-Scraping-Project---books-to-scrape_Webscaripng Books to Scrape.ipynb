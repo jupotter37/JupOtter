{
 "cells": [
  {
   "cell_type": "markdown",
   "id": "f1c43d57",
   "metadata": {},
   "source": [
    "<div align=\"center\" style=\"border: 2px solid #4CAF50; padding: 20px; border-radius: 10px; background-color: #f9f9f9;\">\n",
    "\n",
    "   <h1 style=\"font-family: Arial, sans-serif; color: #4CAF50; margin-bottom: 10px;\">Project Title</h1>\n",
    "   <h2 style=\"font-family: Georgia, serif; color: #333;\">Comprehensive Book Data Extraction by Category</h2>\n",
    "   <h3 style=\"font-family: Georgia, serif; color: #555;\">From 'Books to Scrape'</h3>\n",
    "\n",
    "</div>\n"
   ]
  },
  {
   "cell_type": "markdown",
   "id": "91fb779f",
   "metadata": {},
   "source": [
    "<div align=\"center\" style=\"border: 2px solid #4CAF50; border-radius: 10px; padding: 10px; background-color: #f9f9f9;\">\n",
    "    <img src=\"https://i.imgur.com/fcT2BGm.png\" alt=\"Sample Image\" style=\"width: 80%; border-radius: 10px; box-shadow: 0px 4px 6px rgba(0, 0, 0, 0.1);\">\n",
    "    \n",
    "</div>\n"
   ]
  },
  {
   "cell_type": "markdown",
   "id": "bf200015",
   "metadata": {},
   "source": [
    "<div align=\"center\" style=\"border: 2px solid #4CAF50; border-radius: 10px; padding: 20px; background-color: #f9f9f9; max-width: 1000px; margin: 20px auto; font-family: Arial, sans-serif;\">\n",
    "    <h2 style=\"color: #333; font-family: Arial, sans-serif; text-align: left;\">🌐 Before Starting: Basics of Web Scraping</h2>\n",
    "    <h3 style=\"color: #444; font-family: Arial, sans-serif; text-align: left;\"><strong>Web Scraping: What & Why?</strong></h3>\n",
    "    <h4 style=\"color: #444; text-align: left;\"><strong>📖 What is Web Scraping?</strong></h4>\n",
    "    <p>\n",
    "        Web scraping is the process of <strong>automatically extracting data from websites</strong>. It uses tools or scripts to:\n",
    "    </p>\n",
    "    <ul style=\"font-family: Arial, sans-serif; line-height: 1.6; padding-left: 20px; text-align: left;\">\n",
    "        <li><strong>Fetch Content</strong>: Automatically retrieve content from a website.</li>\n",
    "        <li><strong>Parse Information</strong>: Extract and organize relevant details from web pages.</li>\n",
    "        <li><strong>Organize Data</strong>: Structure information into usable formats like <strong>spreadsheets</strong> or <strong>databases</strong>.</li>\n",
    "    </ul>\n",
    "    <p><strong>Imagine this:</strong></p>\n",
    "    <p><em>Web scraping is like sending a robot to a library to collect specific pages or books for you, saving time and effort.</em></p>\n",
    "    <h4 style=\"color: #444;text-align: left;\"><strong>🤔 Why Do We Need Web Scraping?</strong></h4>\n",
    "    <ol style=\"font-family: Arial, sans-serif; line-height: 1.6; padding-left: 20px; text-align: left;\">\n",
    "        <li><strong>Save Time & Effort</strong>:  \n",
    "            Automates the collection of data, replacing hours of manual work with minutes of processing.</li>\n",
    "        <li><strong>Discover Patterns & Insights</strong>:  \n",
    "            Businesses use it for competitor analysis, market trends, and customer reviews to make smarter decisions.</li>\n",
    "        <li><strong>Stay Updated</strong>:  \n",
    "            Fetch real-time information such as stock prices, sports scores, or weather updates.</li>\n",
    "        <li><strong>Organize Unstructured Data</strong>:  \n",
    "            Convert raw website content into structured, ready-to-use formats for analysis or storage.</li>\n",
    "        <li><strong>Drive Innovation</strong>:  \n",
    "            Build tools like job boards, price trackers, or travel aggregators using scraped data.</li>\n",
    "    </ol>\n",
    "    <h4 style=\"color: #444;\">💡 A Wise Take</h4>\n",
    "    <blockquote style=\"font-family: Arial, sans-serif; font-style: italic; background-color: #e8f7fa; padding: 15px; border-radius: 5px; margin-top: 15px;\">\n",
    "        <p><strong>Web scraping is like a sharp knife:</strong></p>\n",
    "        <p>- In skilled hands, it creates value and solves problems.</p>\n",
    "        <p>- But misuse can harm, so always use it ethically, respect privacy, and adhere to website terms.</p>\n",
    "    </blockquote>\n",
    "</div>\n"
   ]
  },
  {
   "cell_type": "markdown",
   "id": "6a5d3bd8",
   "metadata": {},
   "source": [
    "<div align=\"center\" style=\"border: 2px solid #4CAF50; border-radius: 10px; padding: 20px; background-color: #f9f9f9; max-width: 800px; margin: 20px auto; font-family: Arial, sans-serif;\">\n",
    "    <h2 style=\"color: #333; font-family: Arial, sans-serif;\">📚 About the 'Books to Scrape' Website</h2>\n",
    "    <p>\n",
    "        The website <a href=\"https://books.toscrape.com/index.html\" target=\"_blank\" style=\"color: #007BFF; text-decoration: none; font-weight: bold;\">**Books to Scrape**</a> is a <strong>mock e-commerce platform</strong> designed specifically for <strong>web scraping practice and learning</strong>. \n",
    "        It offers a well-structured catalog of books, making it an ideal resource for beginners.\n",
    "    </p>\n",
    "    <h3 style=\"color: #444; text-align: left;\">What You’ll Find on the Website:</h3>\n",
    "    <ul style=\"font-family: Arial, sans-serif; line-height: 1.6; padding-left: 20px; text-align: left;\">\n",
    "        <li><strong>Book Title</strong></li>\n",
    "        <li><strong>Price</strong></li>\n",
    "        <li><strong>Stock Availability</strong></li>\n",
    "        <li><strong>Rating</strong></li>\n",
    "    </ul>\n",
    "    <h3 style=\"color: #444; text-align: left;\">Why It's Perfect for Beginners:</h3>\n",
    "    <ul style=\"font-family: Arial, sans-serif; line-height: 1.6; padding-left: 20px; text-align: left;\">\n",
    "        <li><strong>Simple Structure</strong>: Easy-to-navigate and well-organized content.</li>\n",
    "        <li><strong>No Restrictions</strong>: Designed to allow automated scripts without blocking access.</li>\n",
    "        <li><strong>Real-World Practice</strong>: Provides hands-on experience in extracting and processing data from e-commerce websites.</li>\n",
    "    </ul>\n",
    "</div>\n"
   ]
  },
  {
   "cell_type": "markdown",
   "id": "fb5c3559",
   "metadata": {},
   "source": [
    "<div align=\"center\" style=\"border: 2px solid #4CAF50; border-radius: 10px; padding: 20px; background-color: #f9f9f9;\">\n",
    " <h2 style=\"font-family: Arial, sans-serif; color: #333;\">Project Workflow: Scraping Book Data from 'Books to Scrape'</h2>\n",
    "              <p style=\"text-align: center-left;\"><strong>Here are the steps we'll follow:</strong></p>\n",
    "<ol style=\"text-align: left; font-family: Arial, sans-serif; line-height: 1.6; padding-left: 20px; max-width: 800px; margin: 0 auto;\">\n",
    "    <li><strong>Scrape the Website</strong><br>\n",
    "        We’ll start by scraping data from the website: \n",
    "<a href=\"https://books.toscrape.com/index.html\" target=\"_blank\">Books to Scrape</a>.\n",
    "    </li>\n",
    "<li><strong>Extract Categories</strong><br>\n",
    "        - Gather a list of <strong><code>book categories</code></strong> from the site.<br>\n",
    "        - For each category, identify the <strong><code>URLs for all available pages</code></strong> containing book information.\n",
    "    </li>\n",
    "<li><strong>Collect Book Information</strong><br>\n",
    "    <span style=\"margin: 0; display: inline;\">From each page URL, we'll extract key book details:</span>\n",
    "    <ul style=\"margin: 5px 0;\">\n",
    "        <li><strong>Title</strong></li>\n",
    "        <li><strong>Price</strong></li>\n",
    "        <li><strong>Rating</strong></li>\n",
    "    </ul>\n",
    "</li>\n",
    "<li><strong>Save the Data in a CSV File</strong><br>\n",
    "    Save the scraped data in a <strong><code>CSV file</code></strong> with the following format:\n",
    "<pre style=\"background-color: #e8f7fa; padding: 10px; border-radius: 5px;\">\n",
    "category,title,price,rating\n",
    "Travel,It's Only the Himalayas,45.17,2\n",
    "Travel,Full Moon over Noah’s Ark: An Odyssey to Mount Ararat and Beyond,49.43,4\n",
    "Travel,See America: A Celebration of Our National Parks & Treasured Sites,48.87,3\n",
    "</pre>\n",
    "        </li>\n",
    "<li><strong>Visualize Data in a Spreadsheet</strong><br>\n",
    "        Import the CSV into a spreadsheet, and it would look like this:\n",
    "<div align=\"center\" style=\"padding: 15px; background-color: #f1f8e9; border-radius: 10px; margin: 15px; max-width: 500px; overflow: hidden;\">\n",
    "        <img src=\"https://imgur.com/Ku9JYtr.png\" alt=\"Spreadsheet Format\" width=\"100%\">\n",
    "        </div>\n",
    "        </li>\n",
    "    </ol>\n",
    "</div>\n"
   ]
  },
  {
   "cell_type": "markdown",
   "id": "5e14b0b5",
   "metadata": {},
   "source": [
    "<div align=\"center\" style=\"border: 2px solid #4CAF50; border-radius: 10px; padding: 20px; background-color: #f9f9f9; max-width: 800px; margin: 20px auto; font-family: Arial, sans-serif;\">\n",
    "    <h2 style=\"color: #333; font-family: Arial, sans-serif;\">🛠️ Tools Used</h2>\n",
    "    <h3 style=\"color: #444; text-align: left;\">1. Programming Language:</h3>\n",
    "    <p style=\"text-align: left; margin-left: 20px;\"> <strong>- Python</strong></p>\n",
    "    <h3 style=\"color: #444; text-align: left;\">2. Libraries & Modules:</h3>\n",
    "    <ul style=\"font-family: Arial, sans-serif; line-height: 1.6; padding-left: 40px; text-align: left;\">\n",
    "        <li><strong>os</strong>: For file and path operations</li>\n",
    "        <li><strong>pandas</strong>: Data manipulation and storage</li>\n",
    "        <li><strong>requests</strong>: Fetching web content</li>\n",
    "        <li><strong>BeautifulSoup</strong>: Parsing HTML and XML</li>\n",
    "        <li><strong>time</strong>: Introduce delays to ensure ethical scraping</li>\n",
    "    </ul>\n",
    "    <h3 style=\"color: #444; text-align: left;\">3. Development Environment:</h3>\n",
    "    <p style=\"text-align: left; margin-left: 20px;\"><strong>- Jupyter Notebook</strong></p>\n",
    "</div>\n"
   ]
  },
  {
   "cell_type": "code",
   "execution_count": 2,
   "id": "2baccb1a",
   "metadata": {},
   "outputs": [],
   "source": [
    "# Imoprting Libraries\n",
    "\n",
    "import os\n",
    "import pandas as pd\n",
    "import requests\n",
    "from bs4 import BeautifulSoup\n",
    "import time"
   ]
  },
  {
   "cell_type": "code",
   "execution_count": 3,
   "id": "970b6bc1",
   "metadata": {},
   "outputs": [],
   "source": [
    "# Base URL of the 'Books to Scrape' website\n",
    "# This is the starting point for fetching book data across categories and pages\n",
    "\n",
    "url = 'https://books.toscrape.com/index.html'"
   ]
  },
  {
   "cell_type": "code",
   "execution_count": 5,
   "id": "21257bfe",
   "metadata": {},
   "outputs": [],
   "source": [
    "# Headers to mimic a legitimate browser request\n",
    "headers = {\n",
    "    # The \"User-Agent\" helps identify the request as coming from a browser\n",
    "    \"User-Agent\": \"Mozilla/5.0 (Windows NT 10.0; Win64; x64) \\\n",
    "    AppleWebKit/537.36 (KHTML, like Gecko) Chrome/91.0.4472.124 Safari/537.36\" }"
   ]
  },
  {
   "cell_type": "code",
   "execution_count": 6,
   "id": "31df7ca8",
   "metadata": {},
   "outputs": [],
   "source": [
    "# The requests.get method sends an HTTP GET request to the specified URL\n",
    "# It retrieves the content of the webpage (HTML, JSON, etc.) for further processing\n",
    "\n",
    "response = requests.get(url, headers=headers)\n"
   ]
  },
  {
   "cell_type": "code",
   "execution_count": 7,
   "id": "1308c0c0",
   "metadata": {},
   "outputs": [
    {
     "data": {
      "text/plain": [
       "200"
      ]
     },
     "execution_count": 7,
     "metadata": {},
     "output_type": "execute_result"
    }
   ],
   "source": [
    "# The status_code attribute provides the HTTP status code of the response\n",
    "# A code of 200 indicates success, while other codes (e.g., 404, 500) indicate errors or issues\n",
    "\n",
    "response.status_code\n"
   ]
  },
  {
   "cell_type": "code",
   "execution_count": 8,
   "id": "10c6f5cc",
   "metadata": {},
   "outputs": [],
   "source": [
    "# Extracting the content of the response as a string\n",
    "# The 'text' attribute contains the HTML source code of the webpage\n",
    "page_content = response.text"
   ]
  },
  {
   "cell_type": "code",
   "execution_count": 9,
   "id": "1ba92014",
   "metadata": {},
   "outputs": [
    {
     "data": {
      "text/plain": [
       "'<!DOCTYPE html>\\n<!--[if lt IE 7]>      <html lang=\"en-us\" class=\"no-js lt-ie9 lt-ie8 lt-ie7\"> <![endif]-->\\n<!--[if IE 7]>         <html lang=\"en-us\" class=\"no-js lt-ie9 lt-ie8\"> <![endif]-->\\n<!--[if IE 8]>         <html lang=\"en-us\" class=\"no-js lt-ie9\"> <![endif]-->\\n<!--[if gt IE 8]><!--> <html lang=\"en-us\" class=\"no-js\"> <!--<![endif]-->\\n    <head>\\n        <title>\\n    All products | Books to Scrape - Sandbox\\n</title>\\n\\n        <meta http-equiv=\"content-type\" content=\"text/html; charset=UTF-8\" />\\n        <meta name=\"created\" content=\"24th Jun 2016 09:29\" />\\n        <meta name=\"description\" content=\"\" />\\n        <meta name=\"viewport\" content=\"width=device-width\" />\\n        <meta name=\"robots\" content=\"NOARCHIVE,NOCACHE\" />\\n\\n        <!-- Le HTML5 shim, for IE6-8 support of HTML elements -->\\n        <!--[if lt IE 9]>\\n        <script src=\"//html5shim.googlecode.com/svn/trunk/html5.js\"></script>\\n        <![endif]-->\\n\\n        \\n            <link rel=\"shortcut icon\" href=\"static/oscar/favicon.'"
      ]
     },
     "execution_count": 9,
     "metadata": {},
     "output_type": "execute_result"
    }
   ],
   "source": [
    "# let us see what we have in page_content \n",
    "page_content[:1000]  # Displaying the first 1000 characters of the page content for a quick preview"
   ]
  },
  {
   "cell_type": "markdown",
   "id": "2e906d89",
   "metadata": {},
   "source": [
    "<div style=\"border: 2px solid #4CAF50; background-color: #F9FFF5; padding: 15px; border-radius: 10px;\">\n",
    "\n",
    "### **Inspecting the HTML Content**\n",
    "\n",
    "![](https://imgur.com/gdaMqWr.png)\n",
    "\n",
    "When we navigate to the base page of **Books to Scrape**, right-click, and select **Inspect**, we can view the **HTML document** containing all the information about the page.\n",
    "\n",
    "This is exactly what we fetched in the `page_content` variable earlier.  \n",
    "\n",
    "We can compare this image with the output of the previous cell to confirm that:\n",
    "- The **HTML structure** contains all the data for the page.  \n",
    "- This **HTML** is the foundation for extracting the required information.  \n",
    "\n",
    "</div>\n"
   ]
  },
  {
   "cell_type": "code",
   "execution_count": 10,
   "id": "15186324",
   "metadata": {},
   "outputs": [],
   "source": [
    "# Parsing the HTML content using BeautifulSoup\n",
    "# The 'html.parser' argument specifies the parser to process the HTML structure\n",
    "# This converts the raw HTML string into a BeautifulSoup object for easy data extraction\n",
    "\n",
    "doc = BeautifulSoup(page_content, 'html.parser')\n"
   ]
  },
  {
   "cell_type": "markdown",
   "id": "010cdf7b",
   "metadata": {},
   "source": [
    "<div style=\"border: 2px solid #4CAF50; background-color: #F9FFF5; padding: 15px; border-radius: 10px;\">\n",
    "\n",
    "### **What We Need from the HTML Document**\n",
    "\n",
    "From the HTML document, our goal is to extract:  \n",
    "1. **Names of the Categories**: To identify all the available book categories on the website.  \n",
    "2. **Their Respective URLs**: To access each category's page for detailed book information.  \n",
    "\n",
    "\n",
    "</div>\n"
   ]
  },
  {
   "cell_type": "markdown",
   "id": "0e7c5a7f",
   "metadata": {},
   "source": [
    "<div style=\"border: 2px solid #4CAF50; background-color: #F9FFF5; padding: 15px; border-radius: 10px;\">\n",
    "\n",
    "### **Locating Categories in the HTML**<br>\n",
    "\n",
    "![](https://imgur.com/kGSpVdK.png)\n",
    "\n",
    "In the HTML structure of the **Books to Scrape** website, we can see that:  \n",
    "- The `<ul>` tag with the class **\"nav nav-list\"** contains all the information about the categories.  \n",
    "- Each category is nested within an `<a>` tag, making it easy to identify:  \n",
    "  - **Category Names**  \n",
    "  - **Respective URLs**\n",
    "\n",
    "\n",
    "</div>\n"
   ]
  },
  {
   "cell_type": "code",
   "execution_count": 11,
   "id": "0aba5312",
   "metadata": {},
   "outputs": [
    {
     "name": "stdout",
     "output_type": "stream",
     "text": [
      "Category Name: Travel\n",
      "Category URL: https://books.toscrape.com/catalogue/category/books/travel_2/index.html\n"
     ]
    }
   ],
   "source": [
    "# Base URL of the website\n",
    "base_url = 'https://books.toscrape.com/'\n",
    "\n",
    "# Extract the first category name and its corresponding URL\n",
    "# Locate the <ul> tag with class \"nav nav-list\" and find all <a> tags within it (excluding the first element as it's not a category)\n",
    "first_category_name = doc.find('ul', class_=\"nav nav-list\").find_all('a')[1].text.strip()\n",
    "first_category_url = base_url + doc.find('ul', class_=\"nav nav-list\").find_all('a')[1]['href']\n",
    "\n",
    "# Print the extracted category name and URL\n",
    "print(\"Category Name:\", first_category_name)\n",
    "print(\"Category URL:\", first_category_url)\n"
   ]
  },
  {
   "cell_type": "markdown",
   "id": "3ed98278",
   "metadata": {},
   "source": [
    "<div style=\"border: 2px solid #4CAF50; background-color: #F0FFF4; padding: 15px; border-radius: 10px;\">\n",
    "You can click the link in the output to verify the extracted URL and check its contents."
   ]
  },
  {
   "cell_type": "markdown",
   "id": "a6a9e948",
   "metadata": {},
   "source": [
    "<div style=\"border: 2px solid #4CAF50; background-color: #F0FFF4; padding: 15px; border-radius: 10px;\">\n",
    "    \n",
    "<strong>\n",
    "    \n",
    "    \"Okay, let's write some functions to extract the information. Using functions will make our work easier and more efficient, as we can reuse them multiple times without duplicating code.\""
   ]
  },
  {
   "cell_type": "markdown",
   "id": "0b915682",
   "metadata": {},
   "source": [
    "<div style=\"border: 2px solid #4CAF50; background-color: #F0FFF4; padding: 15px; border-radius: 10px;\">\n",
    "\n",
    "### **Function 1: get_doc()**\n",
    "    "
   ]
  },
  {
   "cell_type": "code",
   "execution_count": 12,
   "id": "ae5d32a9",
   "metadata": {},
   "outputs": [],
   "source": [
    "def get_doc(url):\n",
    "    headers = {\"User-Agent\": \"Mozilla/5.0 (Windows NT 10.0; Win64; x64)AppleWebKit/537.36 (KHTML, like Gecko) Chrome/91.0.4472.124 Safari/537.36\" }\n",
    "    response = requests.get(url,headers=headers)\n",
    "    doc = BeautifulSoup(response.text,'html.parser')\n",
    "    return doc"
   ]
  },
  {
   "cell_type": "markdown",
   "id": "87df3fd1",
   "metadata": {},
   "source": [
    "<div style=\"border: 2px solid #4CAF50; background-color: #F0FFF4; padding: 15px; border-radius: 10px;\">\n",
    "\n",
    "\n",
    "**Explaination**: Fetches the HTML content from the specified URL in a single request.\n",
    "\n",
    "</div>\n"
   ]
  },
  {
   "cell_type": "markdown",
   "id": "8236257f",
   "metadata": {},
   "source": [
    "<div style=\"border: 2px solid #4CAF50; background-color: #F0FFF4; padding: 15px; border-radius: 10px;\">\n",
    "\n",
    "### **Function 2: get_cat_urls()**"
   ]
  },
  {
   "cell_type": "code",
   "execution_count": 13,
   "id": "8b2576a8",
   "metadata": {},
   "outputs": [],
   "source": [
    "def get_cat_urls():\n",
    "    \n",
    "    url = 'https://books.toscrape.com/index.html'\n",
    "    base_url = 'https://books.toscrape.com/'\n",
    "    \n",
    "    doc = get_doc(url)\n",
    "    category_elements = doc.find('ul', class_=\"nav nav-list\").find_all('a')[1:]\n",
    "\n",
    "    # Extract category names and their URLs\n",
    "    category_names = [category.text.strip() for category in category_elements]\n",
    "    category_urls = [base_url + category['href'] for category in category_elements]\n",
    "\n",
    "    # Create a DataFrame to store categories and their URLs\n",
    "    categories_df = pd.DataFrame({'name': category_names, 'url': category_urls})\n",
    "    \n",
    "    return get_all_page_urls(categories_df)\n"
   ]
  },
  {
   "cell_type": "markdown",
   "id": "bd50b7a3",
   "metadata": {},
   "source": [
    "\n",
    "<div style=\"border: 2px solid #4CAF50; background-color: #F0FFF4; padding: 15px; border-radius: 10px;\">\n",
    "\n",
    "\n",
    "- **Purpose:** To collect and organize book category information from the 'Books to Scrape' website for further web scraping.\n",
    "\n",
    "- **Input:** The URL of the 'Books to Scrape' website (`'https://books.toscrape.com/index.html'`).\n",
    "\n",
    "- **Process:**  \n",
    "  - Fetch the HTML content of the main page.  \n",
    "  - Extract book categories and their URLs from the HTML.  \n",
    "  - Store the extracted data in a pandas DataFrame.\n",
    "\n",
    "- **Output:** A DataFrame containing category names and their corresponding URLs, which will be used to gather all available book pages.\n",
    "\n",
    "</div>\n"
   ]
  },
  {
   "cell_type": "markdown",
   "id": "80182caa",
   "metadata": {},
   "source": [
    "<div style=\"border: 2px solid #4CAF50; background-color: #F0FFF4; padding: 15px; border-radius: 10px;\">\n",
    "\n",
    "### **Function 3: get_all_page_urls()**"
   ]
  },
  {
   "cell_type": "code",
   "execution_count": 14,
   "id": "e477acaa",
   "metadata": {},
   "outputs": [],
   "source": [
    "def get_all_page_urls(df):\n",
    "    result_df = pd.DataFrame([])  # To store results across all iterations\n",
    "\n",
    "    for index, row in df.iterrows():  # Iterate through each row\n",
    "        count = 1  # Initialize page count for each row\n",
    "\n",
    "        def inner(row, count, result_df):\n",
    "            url = row['url']\n",
    "            doc = get_doc(url)  # Get document for the current URL\n",
    "            doc = doc.find_all('article', class_='product_pod')\n",
    "            # Process the document\n",
    "            if len(doc) < 1:\n",
    "                pass  # No data on this page\n",
    "            elif len(doc) > 0 and len(doc) < 20:\n",
    "                # Append current row to the result DataFrame\n",
    "                result_df = pd.concat([result_df, row.to_frame().T])\n",
    "            elif len(doc) == 20:\n",
    "                # Append row and process the next page\n",
    "                result_df = pd.concat([result_df, row.to_frame().T])\n",
    "                next_row = get_next_page(row, count + 1)  # Get the next page row\n",
    "                result_df = inner(next_row, count + 1, result_df)  # Recursive call\n",
    "            \n",
    "            return result_df  # Return updated DataFrame\n",
    "\n",
    "        # Update result_df with results from processing this row\n",
    "        result_df = inner(row, count, result_df)\n",
    "\n",
    "    return result_df\n"
   ]
  },
  {
   "cell_type": "markdown",
   "id": "cd5aadaa",
   "metadata": {},
   "source": [
    "<div style=\"border: 2px solid #4CAF50; background-color: #F0FFF4; padding: 15px; border-radius: 10px;\">\n",
    "\n",
    "\n",
    "- **Purpose:** Recursively retrieves all product pages for each book category.\n",
    "- **Input:** A DataFrame containing category names and their respective URLs.\n",
    "- **Process:**  \n",
    "  - Extracts HTML content from each page.  \n",
    "  - Parses product information across multiple pages until no further data is found.  \n",
    "  - Appends the extracted information to a comprehensive DataFrame.  \n",
    "- **Output:** A DataFrame containing all products with their details (title, price, rating) across multiple pages.\n",
    "\n",
    "</div>\n"
   ]
  },
  {
   "cell_type": "markdown",
   "id": "b5e140d6",
   "metadata": {},
   "source": [
    "<div style=\"border: 2px solid #4CAF50; background-color: #F0FFF4; padding: 15px; border-radius: 10px;\">\n",
    "\n",
    "### **Function 4: get_next_page()**"
   ]
  },
  {
   "cell_type": "code",
   "execution_count": 15,
   "id": "769fc834",
   "metadata": {},
   "outputs": [],
   "source": [
    "def get_next_page(row,count):\n",
    "    if 'index' in(row['url']):\n",
    "        row['url'] = row['url'].replace('index',f'page-{count}') \n",
    "        return row\n",
    "    else:\n",
    "        row['url'] = row['url'].replace(f'page-{count-1}',f'page-{count}')\n",
    "        return row"
   ]
  },
  {
   "cell_type": "markdown",
   "id": "79a3c322",
   "metadata": {},
   "source": [
    "<div style=\"border: 2px solid #4CAF50; background-color: #F0FFF4; padding: 15px; border-radius: 10px;\">\n",
    "\n",
    "\n",
    "- **Purpose:** To generate the URL for the next page of book categories, ensuring proper navigation through paginated content.\n",
    "\n",
    "- **Input:**  \n",
    "  - `row`: A row of the DataFrame containing the current row's URL information.  \n",
    "  - `count`: An integer representing the current page number.\n",
    "\n",
    "- **Process:**  \n",
    "  - If it's the main page (`'index'` in URL), replace `'index'` with `'page-{count}'`.  \n",
    "  - If it's a subsequent page, replace `'page-{count-1}'` with `'page-{count}'`.\n",
    "\n",
    "- **Output:**  An updated row containing the URL pointing to the next page in the category sequence.\n",
    "\n",
    "\n",
    "</div>\n"
   ]
  },
  {
   "cell_type": "markdown",
   "id": "270930d6",
   "metadata": {},
   "source": [
    "<div style=\"border: 2px solid #4CAF50; background-color: #F0FFF4; padding: 15px; border-radius: 10px;\">\n",
    "    \n",
    "<strong>\n",
    "  \n",
    "\n",
    "    \"Now we have the URLs for each page categorized in a DataFrame. Next, we need to extract the actual data from these pages, such as the title, price, and rating. Let’s dive into the pages and start scraping!\""
   ]
  },
  {
   "cell_type": "code",
   "execution_count": 16,
   "id": "8116472f",
   "metadata": {},
   "outputs": [
    {
     "name": "stdout",
     "output_type": "stream",
     "text": [
      "https://books.toscrape.com/catalogue/category/books/travel_2/index.html\n"
     ]
    }
   ],
   "source": [
    "# getting document for the first category i.e Travel as we seen already \n",
    "\n",
    "doc = get_doc(first_category_url)\n",
    "print(first_category_url)"
   ]
  },
  {
   "cell_type": "markdown",
   "id": "a1a76d36",
   "metadata": {},
   "source": [
    "<div style=\"border: 2px solid #4CAF50; background-color: #F9FFFB; padding: 15px; border-radius: 10px;\">\n",
    "\n",
    "### **Inspecting the Book Information**  \n",
    "![](https://imgur.com/XYI7RnK.png)  \n",
    "<br>\n",
    "Upon inspecting the given URL, we find that each book's information is neatly encapsulated within an **`<article>`** tag with the class **`product_pod`**.  \n",
    "We will use this tag to extract important information such as the book's title, price, and rating.  \n",
    "\n",
    "\n",
    "</div>\n"
   ]
  },
  {
   "cell_type": "code",
   "execution_count": 17,
   "id": "8a78c413",
   "metadata": {},
   "outputs": [
    {
     "name": "stdout",
     "output_type": "stream",
     "text": [
      "Bingo! We found 11 books in the 'Travel' category.\n"
     ]
    }
   ],
   "source": [
    "\"\"\"\n",
    "Cross-checking: For the 'Travel' category, there are 11 books available on the website.  \n",
    "We should find exactly 11 'article' tags with the class 'product_pod' to ensure we are targeting the correct container.\n",
    "\"\"\"\n",
    "\n",
    "number_of_books = len(doc.find_all('article', class_='product_pod'))\n",
    "\n",
    "if number_of_books == 11:\n",
    "    print(f\"Bingo! We found {number_of_books} books in the 'Travel' category.\")\n",
    "else:\n",
    "    print(\"Oops! This is not the correct container.\")\n"
   ]
  },
  {
   "cell_type": "markdown",
   "id": "7777dfb6",
   "metadata": {},
   "source": [
    "<div style=\"border: 2px solid #4CAF50; background-color: #F9FFF6; padding: 15px; border-radius: 10px;\">\n",
    "\n",
    "### **🎯 Step: Fetch Information for the First Book**\n",
    "\n",
    "Before extracting details for all books, we’ll first focus on the **first book** in the *Travel* category.  \n",
    "This includes extracting the **title**, **price**, and **rating**.  \n",
    "Once verified, the same approach will be applied to fetch details for all books.\n",
    "\n",
    "</div>\n"
   ]
  },
  {
   "cell_type": "markdown",
   "id": "e51a7408",
   "metadata": {},
   "source": [
    "<div style=\"border: 2px solid #4CAF50; background-color: #F9FFF6; padding: 15px; border-radius: 10px;\">\n",
    "\n",
    "### **Inspecting Book Title**<br>\n",
    "![](https://imgur.com/JsKPsif.png)<br>\n",
    "In the provided HTML structure, the **title of the book** can be found within the `<a>` tag's `title` attribute.  \n",
    "\n",
    "\n",
    "\n",
    "</div>\n"
   ]
  },
  {
   "cell_type": "code",
   "execution_count": 18,
   "id": "134aba16",
   "metadata": {},
   "outputs": [
    {
     "name": "stdout",
     "output_type": "stream",
     "text": [
      "Title of the book: It's Only the Himalayas\n"
     ]
    }
   ],
   "source": [
    "# to fetch the title of the book\n",
    "title = doc.find_all('article',class_='product_pod')[0].find_all('a')[1]['title'].strip()\n",
    "print(f'Title of the book: {title}')"
   ]
  },
  {
   "cell_type": "markdown",
   "id": "f163b7a5",
   "metadata": {},
   "source": [
    "<div style=\"border: 2px solid #4CAF50; background-color: #F9FFF1; padding: 15px; border-radius: 10px; margin-bottom: 15px;\">\n",
    "    <p>\n",
    "        <img src=\"https://imgur.com/fkWKOgi.png\" alt=\"Book Price Inspection\" style=\"max-width: 100%; border-radius: 5px;\">\n",
    "    </p>\n",
    "    <p style=\"font-family: Arial, sans-serif; font-size: 16px; color: #333;\">\n",
    "        The price of the book is located within the <strong>&lt;p&gt;</strong> tag that has the class <code>price_color</code>. \n",
    "</p>\n",
    "</div>\n"
   ]
  },
  {
   "cell_type": "code",
   "execution_count": 22,
   "id": "acb17708",
   "metadata": {},
   "outputs": [
    {
     "name": "stdout",
     "output_type": "stream",
     "text": [
      "Price of the book : 45.17 £\n"
     ]
    }
   ],
   "source": [
    "# finding the price \n",
    "price = doc.find_all('article',class_='product_pod')[0].find('p',class_='price_color').text.strip()[2:]\n",
    "print(f'Price of the book : {price} £')"
   ]
  },
  {
   "cell_type": "markdown",
   "id": "441f8583",
   "metadata": {},
   "source": [
    "<div style=\"border: 2px solid #4CAF50; background-color: #F9FFF1; padding: 15px; border-radius: 10px; margin-bottom: 15px;\">\n",
    "    <p>\n",
    "        <img src=\"https://imgur.com/QxG6jik.png\" alt=\"Star Rating Inspection\" style=\"max-width: 100%; border-radius: 5px;\">\n",
    "    </p><br>\n",
    "    <p style=\"font-family: Arial, sans-serif; font-size: 16px; color: #333;\">\n",
    "        The star rating for the book is embedded in the class attribute of one of its <strong>&lt;p&gt;</strong> tags, represented as a string like \n",
    "        <code>'star-rating Two'</code>. We'll extract this class name and convert the star rating from text to a numeric format for processing.\n",
    "    </p>\n",
    "</div>\n"
   ]
  },
  {
   "cell_type": "code",
   "execution_count": 25,
   "id": "5183741a",
   "metadata": {},
   "outputs": [
    {
     "name": "stdout",
     "output_type": "stream",
     "text": [
      "Rating of the book out of 5 is : 2\n"
     ]
    }
   ],
   "source": [
    "# fetching the rating \n",
    "rate = doc.find_all('article',class_='product_pod')[0].find('p').get('class')[1].strip()\n",
    "lis = ['One','Two','Three','Four','Five']\n",
    "rating = lis.index(rate)+1\n",
    "print(f'Rating of the book out of 5 is : {rating}')"
   ]
  },
  {
   "cell_type": "markdown",
   "id": "e63e9dfa",
   "metadata": {},
   "source": [
    "<div style=\"border: 2px solid #4CAF50; background-color: #F9FFF1; padding: 15px; border-radius: 10px; margin-bottom: 15px;\">\n",
    "    <p style=\"font-family: Arial, sans-serif; font-size: 16px; color: #333;\">  \n",
    "        \n",
    "    Let’s create some functions to extract book details like title, price, and rating from the pages and store the extracted information into a CSV file.\n",
    "</p>\n",
    "</div>\n"
   ]
  },
  {
   "cell_type": "markdown",
   "id": "b52fcd9e",
   "metadata": {},
   "source": [
    "<div style=\"border: 2px solid #4CAF50; background-color: #F0FFF4; padding: 15px; border-radius: 10px;\">\n",
    "\n",
    "### **Function 5 - 7: get_title(), get_price(), get_ratings()**"
   ]
  },
  {
   "cell_type": "code",
   "execution_count": 26,
   "id": "82e65c7b",
   "metadata": {},
   "outputs": [],
   "source": [
    "def get_title(doc):\n",
    "    return doc.find_all('a')[1]['title'].strip()\n",
    "def get_price(doc):\n",
    "    return doc.find('p',class_='price_color').text.strip()[2:]\n",
    "def get_ratings(doc):\n",
    "    rate = doc.find('p').get('class')[1].strip()\n",
    "    lis = ['One','Two','Three','Four','Five']\n",
    "    return lis.index(rate)+1\n",
    "    "
   ]
  },
  {
   "cell_type": "markdown",
   "id": "738097ae",
   "metadata": {},
   "source": [
    "<div style=\"border: 2px solid #4CAF50; background-color: #F9FFF1; padding: 15px; border-radius: 10px; margin-bottom: 15px;\">\n",
    "    <ul style=\"font-family: Arial, sans-serif; font-size: 16px; color: #333; line-height: 1.6;\">\n",
    "        <li><strong>Purpose:</strong> These functions extract specific details about a book: title, price, and star rating.</li>\n",
    "        <li><strong>Input:</strong> Each function takes a BeautifulSoup object representing a single book's HTML.</li>\n",
    "        <li><strong>Process:</strong>\n",
    "            <ul>\n",
    "                <li><strong><code>get_title()</code></strong>: Fetches the book's title from the second 'a' tag in the document. </li>\n",
    "                <li><strong><code>get_price()</code></strong>: Retrieves the book's price from the 'p' tag with the class `price_color` and removes the currency symbol.</li>\n",
    "                <li><strong><code>get_ratings()</code></strong>: Extracts the star rating from the class of a 'p' tag, converts it from words (e.g., \"Three\") to a numeric value, and returns it.</li>\n",
    "            </ul>\n",
    "        </li>\n",
    "        <li><strong>Output:</strong> Each function returns the respective information (title as a string, price as a string, rating as an integer).</li>\n",
    "    </ul>\n",
    "</div>\n"
   ]
  },
  {
   "cell_type": "markdown",
   "id": "a4abaa42",
   "metadata": {},
   "source": [
    "<div style=\"border: 2px solid #4CAF50; background-color: #F0FFF4; padding: 15px; border-radius: 10px;\">\n",
    "\n",
    "### **Function 8: get_book_info()**"
   ]
  },
  {
   "cell_type": "code",
   "execution_count": 27,
   "id": "5bb7b4c5",
   "metadata": {},
   "outputs": [],
   "source": [
    "def get_book_info(doc,cat):\n",
    "    doc =doc.find_all('article',class_='product_pod')\n",
    "    cats = []\n",
    "    title = []\n",
    "    price = []\n",
    "    rating = []\n",
    "    for i in range(len(doc)):\n",
    "        title.append(get_title(doc[i]))\n",
    "        price.append(get_price(doc[i]))\n",
    "        rating.append(get_ratings(doc[i]))\n",
    "        cats.append(cat)\n",
    "    df = pd.DataFrame({'category':cats,\n",
    "                       'title':title,\n",
    "                      'price':price,\n",
    "                      'rating':rating})\n",
    "    return df\n",
    "    "
   ]
  },
  {
   "cell_type": "markdown",
   "id": "57c06a04",
   "metadata": {},
   "source": [
    "<div style=\"border: 2px solid #4CAF50; background-color: #F9FFF1; padding: 15px; border-radius: 10px; margin-bottom: 15px;\">\n",
    "    <ul style=\"font-family: Arial, sans-serif; font-size: 16px; color: #333; line-height: 1.6;\">\n",
    "        <li><strong>Purpose:</strong> This function extracts detailed information about all books in a given category.</li>\n",
    "        <li><strong>Input:</strong> Takes a BeautifulSoup object of the HTML content and the category name (<code>cat</code>).</li>\n",
    "        <li><strong>Process:</strong>\n",
    "            <ul>\n",
    "                <li>Finds all book elements (<code>article</code> tags with the class <code>product_pod</code>).</li>\n",
    "                <li>Iterates through each book to extract:\n",
    "                    <ul>\n",
    "                        <li><strong>Title:</strong> Using the <code>get_title()</code> function.</li>\n",
    "                        <li><strong>Price:</strong> Using the <code>get_price()</code> function.</li>\n",
    "                        <li><strong>Rating:</strong> Using the <code>get_ratings()</code> function.</li>\n",
    "                        <li><strong>Category:</strong> Assigns the input category name to each book.</li>\n",
    "                    </ul>\n",
    "                </li>\n",
    "                <li>Appends the extracted data into lists.</li>\n",
    "                <li>Creates a DataFrame with columns: <code>category</code>, <code>title</code>, <code>price</code>, and <code>rating</code>.</li>\n",
    "            </ul>\n",
    "        </li>\n",
    "        <li><strong>Output:</strong> Returns a Pandas DataFrame containing the extracted book details for the given category.</li>\n",
    "    </ul>\n",
    "</div>\n"
   ]
  },
  {
   "cell_type": "markdown",
   "id": "da27caf9",
   "metadata": {},
   "source": [
    "<div style=\"border: 2px solid #4CAF50; background-color: #F0FFF4; padding: 15px; border-radius: 10px;\">\n",
    "\n",
    "### **Function 9: get_csv()**"
   ]
  },
  {
   "cell_type": "code",
   "execution_count": 29,
   "id": "974b4256",
   "metadata": {},
   "outputs": [],
   "source": [
    "def get_csv():\n",
    "    df = get_cat_urls()\n",
    "    final_df = pd.DataFrame([])\n",
    "    for index, row in df.iterrows():\n",
    "        temp_df = get_book_info(get_doc(row['url']),row['name'])\n",
    "        final_df = pd.concat([final_df,temp_df]).reset_index(drop=True)\n",
    "    os.makedirs('data',exist_ok=True)\n",
    "    if os.path.exists('data/scraped_books.csv'):\n",
    "        print(\"the file 'scraped_books' already exists. Skipping...\")\n",
    "        return\n",
    "    final_df.to_csv('data/scraped_books.csv',index=None)\n"
   ]
  },
  {
   "cell_type": "markdown",
   "id": "ddca9441",
   "metadata": {},
   "source": [
    "<div style=\"border: 2px solid #4CAF50; background-color: #F9FFF1; padding: 15px; border-radius: 10px; margin-bottom: 15px;\">\n",
    "    <ul style=\"font-family: Arial, sans-serif; font-size: 16px; color: #333; line-height: 1.6;\">\n",
    "        <li><strong>Purpose:</strong> This function fetches book data for all categories and saves it into a CSV file.</li>\n",
    "        <li><strong>Input:</strong> No explicit input; it internally uses other functions like <code>get_cat_urls()</code>, <code>get_book_info()</code>, and <code>get_doc()</code>.</li>\n",
    "        <li><strong>Process:</strong>\n",
    "            <ul>\n",
    "                <li>Retrieves a DataFrame of all categories and their URLs using <code>get_cat_urls()</code>.</li>\n",
    "                <li>Iterates through each category:\n",
    "                    <ul>\n",
    "                        <li>Fetches book data for each category using <code>get_book_info()</code>.</li>\n",
    "                        <li>Concatenates the data from each category into a single DataFrame (<code>final_df</code>).</li>\n",
    "                    </ul>\n",
    "                </li>\n",
    "                <li>Checks if the <code>data</code> directory exists, creating it if necessary.</li>\n",
    "                <li>If a file named <code>scraped_books.csv</code> already exists, the process is skipped with a message.</li>\n",
    "                <li>Saves the consolidated book data to <code>data/scraped_books.csv</code> in CSV format.</li>\n",
    "            </ul>\n",
    "        </li>\n",
    "        <li><strong>Output:</strong> A CSV file (<code>scraped_books.csv</code>) containing all book details, organized by category.</li>\n",
    "    </ul>\n",
    "</div>\n"
   ]
  },
  {
   "cell_type": "markdown",
   "id": "0e24416a",
   "metadata": {},
   "source": [
    "<div style=\"border: 2px solid #4CAF50; background-color: #F0FFF4; padding: 15px; border-radius: 10px;\">\n",
    "\n",
    "### **Finally, Calling  get_csv() function**"
   ]
  },
  {
   "cell_type": "code",
   "execution_count": 36,
   "id": "7843c24a",
   "metadata": {},
   "outputs": [
    {
     "name": "stdout",
     "output_type": "stream",
     "text": [
      "Scraping completed in: 3.84 minutes\n"
     ]
    }
   ],
   "source": [
    "# Measure the time taken to scrape and save the book data\n",
    "start_time = time.time() \n",
    "get_csv()  \n",
    "end_time = time.time()\n",
    "\n",
    "elapsed_time = (end_time - start_time) / 60\n",
    "print(f\"Scraping completed in: {elapsed_time:.2f} minutes\")\n"
   ]
  },
  {
   "cell_type": "markdown",
   "id": "51b08eaf",
   "metadata": {},
   "source": [
    "<div style=\"border: 2px solid #4CAF50; background-color: #F0FFF4; padding: 15px; border-radius: 10px;\">\n",
    "\n",
    "### **Previewing Scraped Book Data**  \n",
    "This code reads the scraped book data from a CSV file and displays the first few rows for quick verification.  \n",
    "\n",
    "</div>\n"
   ]
  },
  {
   "cell_type": "code",
   "execution_count": 31,
   "id": "2ba962c9",
   "metadata": {},
   "outputs": [
    {
     "data": {
      "text/html": [
       "<div>\n",
       "<style scoped>\n",
       "    .dataframe tbody tr th:only-of-type {\n",
       "        vertical-align: middle;\n",
       "    }\n",
       "\n",
       "    .dataframe tbody tr th {\n",
       "        vertical-align: top;\n",
       "    }\n",
       "\n",
       "    .dataframe thead th {\n",
       "        text-align: right;\n",
       "    }\n",
       "</style>\n",
       "<table border=\"1\" class=\"dataframe\">\n",
       "  <thead>\n",
       "    <tr style=\"text-align: right;\">\n",
       "      <th></th>\n",
       "      <th>category</th>\n",
       "      <th>title</th>\n",
       "      <th>price</th>\n",
       "      <th>rating</th>\n",
       "    </tr>\n",
       "  </thead>\n",
       "  <tbody>\n",
       "    <tr>\n",
       "      <th>0</th>\n",
       "      <td>Travel</td>\n",
       "      <td>It's Only the Himalayas</td>\n",
       "      <td>45.17</td>\n",
       "      <td>2</td>\n",
       "    </tr>\n",
       "    <tr>\n",
       "      <th>1</th>\n",
       "      <td>Travel</td>\n",
       "      <td>Full Moon over Noahâs Ark: An Odyssey to Mou...</td>\n",
       "      <td>49.43</td>\n",
       "      <td>4</td>\n",
       "    </tr>\n",
       "    <tr>\n",
       "      <th>2</th>\n",
       "      <td>Travel</td>\n",
       "      <td>See America: A Celebration of Our National Par...</td>\n",
       "      <td>48.87</td>\n",
       "      <td>3</td>\n",
       "    </tr>\n",
       "    <tr>\n",
       "      <th>3</th>\n",
       "      <td>Travel</td>\n",
       "      <td>Vagabonding: An Uncommon Guide to the Art of L...</td>\n",
       "      <td>36.94</td>\n",
       "      <td>2</td>\n",
       "    </tr>\n",
       "    <tr>\n",
       "      <th>4</th>\n",
       "      <td>Travel</td>\n",
       "      <td>Under the Tuscan Sun</td>\n",
       "      <td>37.33</td>\n",
       "      <td>3</td>\n",
       "    </tr>\n",
       "  </tbody>\n",
       "</table>\n",
       "</div>"
      ],
      "text/plain": [
       "  category                                              title  price  rating\n",
       "0   Travel                            It's Only the Himalayas  45.17       2\n",
       "1   Travel  Full Moon over Noahâs Ark: An Odyssey to Mou...  49.43       4\n",
       "2   Travel  See America: A Celebration of Our National Par...  48.87       3\n",
       "3   Travel  Vagabonding: An Uncommon Guide to the Art of L...  36.94       2\n",
       "4   Travel                               Under the Tuscan Sun  37.33       3"
      ]
     },
     "execution_count": 31,
     "metadata": {},
     "output_type": "execute_result"
    }
   ],
   "source": [
    "df = pd.read_csv('data/scraped_books.csv')\n",
    "df.head()"
   ]
  },
  {
   "cell_type": "code",
   "execution_count": 35,
   "id": "8f37340c",
   "metadata": {},
   "outputs": [
    {
     "name": "stdout",
     "output_type": "stream",
     "text": [
      "Successfully scraped information for a total of 1000 books!\n"
     ]
    }
   ],
   "source": [
    "# Display the total number of books scraped\n",
    "total_books = df.shape[0]\n",
    "print(f\"Successfully scraped information for a total of {total_books} books!\")\n"
   ]
  },
  {
   "cell_type": "markdown",
   "id": "e218a40f",
   "metadata": {},
   "source": [
    "<div style=\"border: 2px solid #4CAF50; background-color: #F0FFF4; padding: 15px; border-radius: 10px; text-align: center; font-family: Arial, sans-serif; font-size: 18px;\">\n",
    "    <strong>🎉 Thank You! 🎉</strong><br>\n",
    "    This concludes the project. Hope you enjoyed learning and found it insightful!<br>\n",
    "    Happy Scraping! 🚀\n",
    "</div>\n"
   ]
  }
 ],
 "metadata": {
  "kernelspec": {
   "display_name": "Python 3 (ipykernel)",
   "language": "python",
   "name": "python3"
  },
  "language_info": {
   "codemirror_mode": {
    "name": "ipython",
    "version": 3
   },
   "file_extension": ".py",
   "mimetype": "text/x-python",
   "name": "python",
   "nbconvert_exporter": "python",
   "pygments_lexer": "ipython3",
   "version": "3.12.3"
  },
  "varInspector": {
   "cols": {
    "lenName": 16,
    "lenType": 16,
    "lenVar": 40
   },
   "kernels_config": {
    "python": {
     "delete_cmd_postfix": "",
     "delete_cmd_prefix": "del ",
     "library": "var_list.py",
     "varRefreshCmd": "print(var_dic_list())"
    },
    "r": {
     "delete_cmd_postfix": ") ",
     "delete_cmd_prefix": "rm(",
     "library": "var_list.r",
     "varRefreshCmd": "cat(var_dic_list()) "
    }
   },
   "types_to_exclude": [
    "module",
    "function",
    "builtin_function_or_method",
    "instance",
    "_Feature"
   ],
   "window_display": false
  }
 },
 "nbformat": 4,
 "nbformat_minor": 5
}
