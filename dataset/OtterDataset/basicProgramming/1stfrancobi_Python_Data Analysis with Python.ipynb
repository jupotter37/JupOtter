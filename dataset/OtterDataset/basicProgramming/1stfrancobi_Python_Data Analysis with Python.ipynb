{
 "cells": [
  {
   "cell_type": "markdown",
   "id": "c699a577-5d01-4a61-9862-8b2384f324b6",
   "metadata": {},
   "source": [
    "# 1. Introduction to Python for Data Analytics"
   ]
  },
  {
   "cell_type": "markdown",
   "id": "586a3630-e30d-42ab-9b65-a46345532350",
   "metadata": {},
   "source": [
    "## 1.1 What is Python?"
   ]
  },
  {
   "cell_type": "markdown",
   "id": "0f30d781-fccc-4ec0-8391-7394f778421f",
   "metadata": {},
   "source": [
    "**Python** is a high-level, versatile programming language known for its simplicity and readability, making it an excellent choice for beginners and experts alike. Created in the late 1980s, Python has become one of the most popular languages, especially in data science, web development, artificial intelligence, and automation.\n",
    "\n",
    "- Python’s syntax is easy to read, allowing developers to write and understand code quickly.\n",
    "- Python has a rich ecosystem of libraries, such as pandas for data manipulation, NumPy for numerical calculations, and matplotlib for data visualization."
   ]
  },
  {
   "cell_type": "markdown",
   "id": "e832e787-1693-4647-b30a-6f8a2e24ffa1",
   "metadata": {},
   "source": [
    "## 1.2 Why Python for Data Analysis?"
   ]
  },
  {
   "cell_type": "markdown",
   "id": "a609a108-ba7c-4dc8-b83e-f14f27d72ace",
   "metadata": {},
   "source": [
    "Python has become the go-to language for data analysis due to several advantages:\n",
    "\n",
    "- User-Friendly Syntax: Python is easy to learn and read, making it accessible to those new to programming.\n",
    "- Extensive Libraries:\n",
    "    - Pandas: For data manipulation and analysis.\n",
    "    - NumPy: For numerical calculations.\n",
    "    - Matplotlib & Seaborn: For data visualization.\n",
    "    - Scikit-Learn: For machine learning.\n",
    "- Strong Community Support: Python has a large community, which means an abundance of resources, tutorials, and forums for help and collaboration.\n",
    "- Integration Capabilities: Python integrates well with other languages and platforms, making it versatile in data engineering, data science, and production environments."
   ]
  },
  {
   "cell_type": "markdown",
   "id": "ba534aa2-2650-4aa0-aef2-97ed470757b9",
   "metadata": {},
   "source": [
    "## 1.3 Jupyter Notebooks"
   ]
  },
  {
   "cell_type": "markdown",
   "id": "cde5ec62-35ff-4d3a-b2b2-9cab173d0ca3",
   "metadata": {},
   "source": [
    "**Jupyter Notebook** is an interactive web-based environment or computing platform that allows users to create and share documents containing live code, visualizations, equations and narrative text.\n",
    "\n",
    "It is widely used in data science and data analytics field because of it's cell-based coding with immediate output, which is perfect for experimenting with code and visualizing data.\n",
    "\n",
    "*Benefits:*\n",
    "\n",
    "- Code and results are shown side by side, making it easier to debug and test.\n",
    "- Markdown cells let you add explanations, headings and notes alongside your code.\n",
    "- You can save and share notebooks, making collaboration easy.\n",
    "\n",
    "- *Markdown Cells in Jupyter Notebook can be created as follows:*"
   ]
  },
  {
   "cell_type": "markdown",
   "id": "b1da9450-8985-45a8-bd72-28c95ae728ba",
   "metadata": {},
   "source": [
    "# This is a Heading\n",
    "## Subheading\n",
    "\n",
    "- Bullet point 1\n",
    "- Bullet point 2\n",
    "\n",
    "**Bold Text** and *Italic Text*"
   ]
  },
  {
   "cell_type": "markdown",
   "id": "51692fbb-39f9-47f7-8356-e8f3ea29e81e",
   "metadata": {},
   "source": [
    "# This is a Heading"
   ]
  },
  {
   "cell_type": "markdown",
   "id": "7af03ee1-9550-45f9-9977-7f5d0509035e",
   "metadata": {},
   "source": [
    "## First things to Look at "
   ]
  },
  {
   "cell_type": "markdown",
   "id": "3b8fa297-f8ba-4bab-9cbf-9c42cef6e2af",
   "metadata": {},
   "source": [
    "# 2. Variables"
   ]
  },
  {
   "cell_type": "code",
   "execution_count": 2,
   "id": "bed8df25-9633-4b0f-b6ad-7311b8369779",
   "metadata": {},
   "outputs": [
    {
     "name": "stdout",
     "output_type": "stream",
     "text": [
      "10\n"
     ]
    }
   ],
   "source": [
    "x = 10\n",
    "print (x)"
   ]
  },
  {
   "cell_type": "code",
   "execution_count": 5,
   "id": "d57dc4e6-e5a0-4998-ba9f-7ac86e3fd5ed",
   "metadata": {},
   "outputs": [
    {
     "name": "stdout",
     "output_type": "stream",
     "text": [
      "14\n"
     ]
    }
   ],
   "source": [
    "y =14\n",
    "print(y)"
   ]
  },
  {
   "cell_type": "code",
   "execution_count": 6,
   "id": "1bbe7c4e-c43c-430d-9216-b672ae5383c2",
   "metadata": {},
   "outputs": [
    {
     "name": "stdout",
     "output_type": "stream",
     "text": [
      "10\n",
      "14\n"
     ]
    }
   ],
   "source": [
    "print(x)\n",
    "print(y)"
   ]
  },
  {
   "cell_type": "code",
   "execution_count": 7,
   "id": "db63112c-efce-42bb-81f9-a17a42618d68",
   "metadata": {},
   "outputs": [
    {
     "data": {
      "text/plain": [
       "10"
      ]
     },
     "execution_count": 7,
     "metadata": {},
     "output_type": "execute_result"
    }
   ],
   "source": [
    "x"
   ]
  },
  {
   "cell_type": "code",
   "execution_count": 8,
   "id": "69c5fd92-0d30-4f05-8927-84f0aa0f9174",
   "metadata": {},
   "outputs": [],
   "source": [
    "a = 'This is python programming'"
   ]
  },
  {
   "cell_type": "code",
   "execution_count": 9,
   "id": "25aafdc6-e986-44aa-8fba-a765b1770787",
   "metadata": {},
   "outputs": [
    {
     "name": "stdout",
     "output_type": "stream",
     "text": [
      "This is python programming\n"
     ]
    }
   ],
   "source": [
    "print(a)"
   ]
  },
  {
   "cell_type": "markdown",
   "id": "1c8a527a-13af-40f4-be60-5aac99fe7f5c",
   "metadata": {},
   "source": [
    "- Variable can be letters, numbers, underscores\n",
    "- They must start with a letter or underscores\n",
    "- Variable names are case sensitive  "
   ]
  },
  {
   "cell_type": "code",
   "execution_count": null,
   "id": "7f9ee62f-e38d-4ef7-b3db-a5aedc0b9420",
   "metadata": {},
   "outputs": [],
   "source": []
  },
  {
   "cell_type": "code",
   "execution_count": null,
   "id": "919d1acf-160d-4343-92eb-31dc7ac892ad",
   "metadata": {},
   "outputs": [],
   "source": []
  },
  {
   "cell_type": "code",
   "execution_count": null,
   "id": "c529c29a-e921-4944-bdff-4e1974884f14",
   "metadata": {},
   "outputs": [],
   "source": []
  },
  {
   "cell_type": "code",
   "execution_count": null,
   "id": "7e1fbc5f-eccc-4e9e-bcc6-5b0b852ca2d9",
   "metadata": {},
   "outputs": [],
   "source": []
  },
  {
   "cell_type": "code",
   "execution_count": null,
   "id": "950cf52c-d703-4a08-9b4b-1f359f990d17",
   "metadata": {},
   "outputs": [],
   "source": []
  },
  {
   "cell_type": "markdown",
   "id": "56b31565-028e-4fcb-a168-92f3e7c2dcff",
   "metadata": {},
   "source": [
    "# 3. Data Types"
   ]
  },
  {
   "cell_type": "code",
   "execution_count": 11,
   "id": "7e798a44-214b-426a-b332-58115850bc02",
   "metadata": {},
   "outputs": [],
   "source": [
    "## INTEGER\n",
    "my_variable = 10\n",
    "my_name = 'Math'\n",
    "_myVariable = 10"
   ]
  },
  {
   "cell_type": "code",
   "execution_count": 12,
   "id": "56fd4bf3-1835-46cd-8cfd-142fe8488acf",
   "metadata": {},
   "outputs": [
    {
     "data": {
      "text/plain": [
       "int"
      ]
     },
     "execution_count": 12,
     "metadata": {},
     "output_type": "execute_result"
    }
   ],
   "source": [
    "type(my_variable)"
   ]
  },
  {
   "cell_type": "code",
   "execution_count": 13,
   "id": "3ed9c2e3-481e-4360-b167-1fa78f8b3c94",
   "metadata": {},
   "outputs": [
    {
     "data": {
      "text/plain": [
       "str"
      ]
     },
     "execution_count": 13,
     "metadata": {},
     "output_type": "execute_result"
    }
   ],
   "source": [
    "type(my_name)"
   ]
  },
  {
   "cell_type": "code",
   "execution_count": 14,
   "id": "a387996c-6994-4186-8592-3b34adcdbd21",
   "metadata": {},
   "outputs": [
    {
     "data": {
      "text/plain": [
       "int"
      ]
     },
     "execution_count": 14,
     "metadata": {},
     "output_type": "execute_result"
    }
   ],
   "source": [
    "type(_myVariable)"
   ]
  },
  {
   "cell_type": "code",
   "execution_count": 17,
   "id": "abe8c4a8-3a49-4b16-a561-f06097e87c11",
   "metadata": {},
   "outputs": [
    {
     "data": {
      "text/plain": [
       "float"
      ]
     },
     "execution_count": 17,
     "metadata": {},
     "output_type": "execute_result"
    }
   ],
   "source": [
    "v = 3.14\n",
    "y = -3.7\n",
    "z = 0.7\n",
    "\n",
    "type(v)\n",
    "type(y)\n",
    "type(z)"
   ]
  },
  {
   "cell_type": "code",
   "execution_count": null,
   "id": "d9448b43-a5dc-4e6d-8353-828c68d2b655",
   "metadata": {},
   "outputs": [],
   "source": []
  },
  {
   "cell_type": "code",
   "execution_count": 18,
   "id": "de1ad5c9-41c1-409d-b40a-810df9ea256c",
   "metadata": {},
   "outputs": [
    {
     "data": {
      "text/plain": [
       "float"
      ]
     },
     "execution_count": 18,
     "metadata": {},
     "output_type": "execute_result"
    }
   ],
   "source": [
    "type (v)"
   ]
  },
  {
   "cell_type": "code",
   "execution_count": null,
   "id": "1fbd0fc6-a8a9-48fe-bdd3-b65dedf1e697",
   "metadata": {},
   "outputs": [],
   "source": []
  },
  {
   "cell_type": "code",
   "execution_count": 19,
   "id": "7d7cba4c-264e-4c18-9b86-d72acc94b594",
   "metadata": {},
   "outputs": [
    {
     "data": {
      "text/plain": [
       "float"
      ]
     },
     "execution_count": 19,
     "metadata": {},
     "output_type": "execute_result"
    }
   ],
   "source": [
    "type (y)"
   ]
  },
  {
   "cell_type": "code",
   "execution_count": null,
   "id": "8c2d5094-d945-40ab-843a-682de1a00411",
   "metadata": {},
   "outputs": [],
   "source": []
  },
  {
   "cell_type": "code",
   "execution_count": 21,
   "id": "bae3038b-136d-4e4b-b6a7-adcfc167217c",
   "metadata": {},
   "outputs": [
    {
     "data": {
      "text/plain": [
       "float"
      ]
     },
     "execution_count": 21,
     "metadata": {},
     "output_type": "execute_result"
    }
   ],
   "source": [
    "type (z)"
   ]
  },
  {
   "cell_type": "code",
   "execution_count": 22,
   "id": "56e87d10-92bb-4e00-bcbb-0aef94a48ce1",
   "metadata": {},
   "outputs": [
    {
     "data": {
      "text/plain": [
       "bool"
      ]
     },
     "execution_count": 22,
     "metadata": {},
     "output_type": "execute_result"
    }
   ],
   "source": [
    "# Boolean\n",
    "b = True\n",
    "\n",
    "type (b)"
   ]
  },
  {
   "cell_type": "code",
   "execution_count": 23,
   "id": "72f77f23-528c-46ac-a991-22a2ea1c1712",
   "metadata": {},
   "outputs": [
    {
     "data": {
      "text/plain": [
       "True"
      ]
     },
     "execution_count": 23,
     "metadata": {},
     "output_type": "execute_result"
    }
   ],
   "source": [
    "5 > 3"
   ]
  },
  {
   "cell_type": "code",
   "execution_count": null,
   "id": "4c6cc3da-a27b-4adf-a062-853224356a71",
   "metadata": {},
   "outputs": [],
   "source": []
  },
  {
   "cell_type": "code",
   "execution_count": 5,
   "id": "d199010d-37f9-4c28-9f70-5aa9f598e10a",
   "metadata": {},
   "outputs": [
    {
     "data": {
      "text/plain": [
       "str"
      ]
     },
     "execution_count": 5,
     "metadata": {},
     "output_type": "execute_result"
    }
   ],
   "source": [
    "# String\n",
    "c = 'Hello'\n",
    "type (c)"
   ]
  },
  {
   "cell_type": "code",
   "execution_count": 2,
   "id": "0957b866-6957-4717-88c0-dc147c912275",
   "metadata": {},
   "outputs": [
    {
     "name": "stdout",
     "output_type": "stream",
     "text": [
      "Hello\n"
     ]
    }
   ],
   "source": [
    "print (c)"
   ]
  },
  {
   "cell_type": "code",
   "execution_count": 3,
   "id": "0952dc13-9ce8-4145-9d2f-7f9aec8395a6",
   "metadata": {},
   "outputs": [],
   "source": [
    "m = '''- Variable can be letters, numbers, underscores\n",
    "- They must start with a letter or underscores\n",
    "- Variable names are case sensitive  \n",
    "'''"
   ]
  },
  {
   "cell_type": "code",
   "execution_count": 4,
   "id": "1ead52ca-d3d2-4701-b939-7ec37946ad9c",
   "metadata": {},
   "outputs": [
    {
     "name": "stdout",
     "output_type": "stream",
     "text": [
      "- Variable can be letters, numbers, underscores\n",
      "- They must start with a letter or underscores\n",
      "- Variable names are case sensitive  \n",
      "\n"
     ]
    }
   ],
   "source": [
    "print (m)"
   ]
  },
  {
   "cell_type": "code",
   "execution_count": null,
   "id": "90459115-0239-4445-9464-224658142592",
   "metadata": {},
   "outputs": [],
   "source": []
  },
  {
   "cell_type": "code",
   "execution_count": 6,
   "id": "9b916a77-fdb0-4cf4-aeee-41d617afd232",
   "metadata": {},
   "outputs": [],
   "source": [
    "# Set\n",
    "\n",
    "p = {1, 2, 3, 4, 5, 6, 7}\n",
    "q = {'apple', 'orange', 'banana'}\n",
    "r = {1, 'banana', 6.7}"
   ]
  },
  {
   "cell_type": "code",
   "execution_count": 7,
   "id": "e79e2dbe-5e70-4fea-bfd8-fe3f049eee20",
   "metadata": {},
   "outputs": [
    {
     "data": {
      "text/plain": [
       "set"
      ]
     },
     "execution_count": 7,
     "metadata": {},
     "output_type": "execute_result"
    }
   ],
   "source": [
    "type (p)"
   ]
  },
  {
   "cell_type": "code",
   "execution_count": 8,
   "id": "3b981283-de7e-4db8-84c8-d1b5ef6c819c",
   "metadata": {},
   "outputs": [],
   "source": [
    "# Dictionary\n",
    "\n",
    "n = {'name': 'John', 'age': 24, 'City': 'New York'}"
   ]
  },
  {
   "cell_type": "code",
   "execution_count": 9,
   "id": "c9ffa9a4-2b42-451e-8300-4a5a3b909ca6",
   "metadata": {},
   "outputs": [
    {
     "data": {
      "text/plain": [
       "dict"
      ]
     },
     "execution_count": 9,
     "metadata": {},
     "output_type": "execute_result"
    }
   ],
   "source": [
    "type (n)"
   ]
  },
  {
   "cell_type": "code",
   "execution_count": 10,
   "id": "bd76158f-4478-45d6-b2f5-bef35e5f5cb4",
   "metadata": {},
   "outputs": [
    {
     "name": "stdout",
     "output_type": "stream",
     "text": [
      "{'name': 'John', 'age': 24, 'City': 'New York'}\n"
     ]
    }
   ],
   "source": [
    "print (n)"
   ]
  },
  {
   "cell_type": "code",
   "execution_count": 11,
   "id": "d563a4f5-930f-4491-96f6-d880dc8106da",
   "metadata": {},
   "outputs": [
    {
     "data": {
      "text/plain": [
       "dict_keys(['name', 'age', 'City'])"
      ]
     },
     "execution_count": 11,
     "metadata": {},
     "output_type": "execute_result"
    }
   ],
   "source": [
    "n.keys()"
   ]
  },
  {
   "cell_type": "code",
   "execution_count": 12,
   "id": "66770a73-193f-4870-bfd2-ff1a30fa80a3",
   "metadata": {},
   "outputs": [
    {
     "data": {
      "text/plain": [
       "dict_values(['John', 24, 'New York'])"
      ]
     },
     "execution_count": 12,
     "metadata": {},
     "output_type": "execute_result"
    }
   ],
   "source": [
    "n.values()"
   ]
  },
  {
   "cell_type": "code",
   "execution_count": 13,
   "id": "06dec93c-094a-494f-9227-385ba8e11044",
   "metadata": {},
   "outputs": [
    {
     "data": {
      "text/plain": [
       "'John'"
      ]
     },
     "execution_count": 13,
     "metadata": {},
     "output_type": "execute_result"
    }
   ],
   "source": [
    "n['name']"
   ]
  },
  {
   "cell_type": "code",
   "execution_count": 14,
   "id": "9d1a1bdb-45cf-48c9-bd02-698fbde6fce8",
   "metadata": {},
   "outputs": [],
   "source": [
    "n['name'] = 'Francobi'"
   ]
  },
  {
   "cell_type": "code",
   "execution_count": 15,
   "id": "29ab6c32-a981-4429-9a54-7b6dedb1d297",
   "metadata": {},
   "outputs": [
    {
     "name": "stdout",
     "output_type": "stream",
     "text": [
      "{'name': 'Francobi', 'age': 24, 'City': 'New York'}\n"
     ]
    }
   ],
   "source": [
    "print (n)"
   ]
  },
  {
   "cell_type": "code",
   "execution_count": null,
   "id": "78c8194e-ce45-46ac-bf01-684e78097755",
   "metadata": {},
   "outputs": [],
   "source": []
  },
  {
   "cell_type": "code",
   "execution_count": null,
   "id": "410f7447-c79d-4e60-8677-e699c9b60f9c",
   "metadata": {},
   "outputs": [],
   "source": []
  },
  {
   "cell_type": "markdown",
   "id": "e42689bd-acf9-4249-9306-c096eed45aec",
   "metadata": {},
   "source": [
    "# 4. Operations in Python"
   ]
  },
  {
   "cell_type": "code",
   "execution_count": 16,
   "id": "2796ba86-d3da-483b-939d-7632290fbdba",
   "metadata": {},
   "outputs": [],
   "source": [
    "a = 33\n",
    "b = 51\n",
    "c = 5"
   ]
  },
  {
   "cell_type": "code",
   "execution_count": 19,
   "id": "b8c912f0-4a26-4f25-931e-141e9f697430",
   "metadata": {},
   "outputs": [
    {
     "name": "stdout",
     "output_type": "stream",
     "text": [
      "84\n",
      "-18\n",
      "255\n",
      "17.0\n"
     ]
    }
   ],
   "source": [
    "print (a + b)\n",
    "print (a - b)\n",
    "print (b * c)\n",
    "print (b / 3)"
   ]
  },
  {
   "cell_type": "code",
   "execution_count": 20,
   "id": "6e7f965f-42fd-48f8-a9a9-1bbb0bd854ef",
   "metadata": {},
   "outputs": [],
   "source": [
    "z = 2"
   ]
  },
  {
   "cell_type": "raw",
   "id": "3faaf4f2-7437-44c8-aa30-80d9c0b26bfd",
   "metadata": {},
   "source": [
    "print (z ** 4)"
   ]
  },
  {
   "cell_type": "code",
   "execution_count": 21,
   "id": "bebe543c-a025-4b31-9788-952c9c4f9d91",
   "metadata": {},
   "outputs": [
    {
     "data": {
      "text/plain": [
       "5"
      ]
     },
     "execution_count": 21,
     "metadata": {},
     "output_type": "execute_result"
    }
   ],
   "source": [
    "2 + 3"
   ]
  },
  {
   "cell_type": "code",
   "execution_count": 22,
   "id": "377a0aeb-6b1e-4915-9888-0dd3ae27dc53",
   "metadata": {},
   "outputs": [
    {
     "data": {
      "text/plain": [
       "2"
      ]
     },
     "execution_count": 22,
     "metadata": {},
     "output_type": "execute_result"
    }
   ],
   "source": [
    "z"
   ]
  },
  {
   "cell_type": "code",
   "execution_count": 23,
   "id": "e8bd1ef3-eabd-41e6-b9b2-057644bb2caf",
   "metadata": {},
   "outputs": [
    {
     "name": "stdout",
     "output_type": "stream",
     "text": [
      "8\n"
     ]
    }
   ],
   "source": [
    "print (z ** 3)"
   ]
  },
  {
   "cell_type": "code",
   "execution_count": 24,
   "id": "252b702f-52bc-4fe8-846d-87ee620a3447",
   "metadata": {},
   "outputs": [
    {
     "name": "stdout",
     "output_type": "stream",
     "text": [
      "False\n"
     ]
    }
   ],
   "source": [
    "print ( c > b)"
   ]
  },
  {
   "cell_type": "code",
   "execution_count": 25,
   "id": "5955a997-1564-4c52-9ed1-fab484caafd0",
   "metadata": {},
   "outputs": [
    {
     "name": "stdout",
     "output_type": "stream",
     "text": [
      "False\n"
     ]
    }
   ],
   "source": [
    "print (c == b)"
   ]
  },
  {
   "cell_type": "code",
   "execution_count": 26,
   "id": "002da14b-4775-4845-a940-ae2a299a0120",
   "metadata": {},
   "outputs": [
    {
     "name": "stdout",
     "output_type": "stream",
     "text": [
      "True\n"
     ]
    }
   ],
   "source": [
    "print (c != b)"
   ]
  },
  {
   "cell_type": "code",
   "execution_count": 28,
   "id": "6f62b459-7c33-4b48-90de-7f83bd74697c",
   "metadata": {},
   "outputs": [],
   "source": [
    "l = 'Fran'\n",
    "k = 'cobi'"
   ]
  },
  {
   "cell_type": "code",
   "execution_count": 29,
   "id": "ff0e37f3-3695-41e8-9727-fa27cc5fa70b",
   "metadata": {},
   "outputs": [
    {
     "name": "stdout",
     "output_type": "stream",
     "text": [
      "Francobi\n"
     ]
    }
   ],
   "source": [
    "print (l + k)"
   ]
  },
  {
   "cell_type": "code",
   "execution_count": 30,
   "id": "6afb4883-0660-4161-8693-43c42cff696b",
   "metadata": {},
   "outputs": [
    {
     "name": "stdout",
     "output_type": "stream",
     "text": [
      "False\n"
     ]
    }
   ],
   "source": [
    "print (c > 10 and b <100)"
   ]
  },
  {
   "cell_type": "code",
   "execution_count": 31,
   "id": "df6f97d9-d863-482b-826e-adf42989a52a",
   "metadata": {},
   "outputs": [
    {
     "name": "stdout",
     "output_type": "stream",
     "text": [
      "True\n"
     ]
    }
   ],
   "source": [
    "print (c > 10 or b < 100)"
   ]
  },
  {
   "cell_type": "code",
   "execution_count": 32,
   "id": "13e73b3d-23da-40f2-be0c-fe926032612f",
   "metadata": {},
   "outputs": [
    {
     "name": "stdout",
     "output_type": "stream",
     "text": [
      "False\n"
     ]
    }
   ],
   "source": [
    "print (not (c > 10 or b < 100))"
   ]
  },
  {
   "cell_type": "code",
   "execution_count": null,
   "id": "ca5139bc-2589-471b-9351-6a13876a0bd6",
   "metadata": {},
   "outputs": [],
   "source": []
  },
  {
   "cell_type": "code",
   "execution_count": 33,
   "id": "bd384a03-cdd5-4452-ba3b-7d5a824a403d",
   "metadata": {},
   "outputs": [
    {
     "name": "stdout",
     "output_type": "stream",
     "text": [
      "33\n"
     ]
    }
   ],
   "source": [
    "print (a & b) # Bitwice AND"
   ]
  },
  {
   "cell_type": "code",
   "execution_count": 35,
   "id": "ecfa1c4e-5c62-45c7-9864-dd4fa1fd9ea4",
   "metadata": {},
   "outputs": [
    {
     "data": {
      "text/plain": [
       "1"
      ]
     },
     "execution_count": 35,
     "metadata": {},
     "output_type": "execute_result"
    }
   ],
   "source": [
    "3^2 # 2 in to 3 and returns the remainder"
   ]
  },
  {
   "cell_type": "code",
   "execution_count": 36,
   "id": "5b5d5480-2cfc-4031-b20e-dab5bd035e7c",
   "metadata": {},
   "outputs": [],
   "source": [
    "new_list =[1, 3, 5, 7, 9] # membership operations"
   ]
  },
  {
   "cell_type": "code",
   "execution_count": 37,
   "id": "7df12d8d-010f-4ba1-860c-8d23f2bf4ca5",
   "metadata": {},
   "outputs": [
    {
     "name": "stdout",
     "output_type": "stream",
     "text": [
      "False\n"
     ]
    }
   ],
   "source": [
    "print ( 2 in new_list)"
   ]
  },
  {
   "cell_type": "code",
   "execution_count": 38,
   "id": "84b2ef98-c4bc-4697-8b51-0f82e10fd847",
   "metadata": {},
   "outputs": [
    {
     "name": "stdout",
     "output_type": "stream",
     "text": [
      "True\n"
     ]
    }
   ],
   "source": [
    "print (3 in new_list)"
   ]
  },
  {
   "cell_type": "code",
   "execution_count": 39,
   "id": "0101e527-8ee1-493f-8d7d-360f48d760a8",
   "metadata": {},
   "outputs": [
    {
     "name": "stdout",
     "output_type": "stream",
     "text": [
      "True\n"
     ]
    }
   ],
   "source": [
    "print (4 not in new_list)"
   ]
  },
  {
   "cell_type": "code",
   "execution_count": 40,
   "id": "eecc57fb-aadf-48df-b417-fce585c13e74",
   "metadata": {},
   "outputs": [],
   "source": [
    "new_str = 'I prefer strawberry ice cream'"
   ]
  },
  {
   "cell_type": "code",
   "execution_count": 41,
   "id": "db1a2eae-632b-4b45-bd89-eae1ba170eb5",
   "metadata": {},
   "outputs": [
    {
     "data": {
      "text/plain": [
       "True"
      ]
     },
     "execution_count": 41,
     "metadata": {},
     "output_type": "execute_result"
    }
   ],
   "source": [
    "'prefer' in new_str"
   ]
  },
  {
   "cell_type": "code",
   "execution_count": 42,
   "id": "cd32ce62-834b-47b0-b928-70b6f1434abe",
   "metadata": {},
   "outputs": [
    {
     "data": {
      "text/plain": [
       "True"
      ]
     },
     "execution_count": 42,
     "metadata": {},
     "output_type": "execute_result"
    }
   ],
   "source": [
    "'love' not in new_str"
   ]
  },
  {
   "cell_type": "code",
   "execution_count": null,
   "id": "ef8643fa-c8ff-4bd1-b9de-b9a36ac061c2",
   "metadata": {},
   "outputs": [],
   "source": []
  },
  {
   "cell_type": "code",
   "execution_count": null,
   "id": "a2800645-d609-459d-9e93-74913772a80a",
   "metadata": {},
   "outputs": [],
   "source": []
  },
  {
   "cell_type": "markdown",
   "id": "0f02e992-a285-4e42-952e-3eb74ded402e",
   "metadata": {},
   "source": [
    "# 5. Conditional Statements and Loops"
   ]
  },
  {
   "cell_type": "code",
   "execution_count": 43,
   "id": "d783214d-a0e1-4922-a549-5048cbe3f05b",
   "metadata": {},
   "outputs": [
    {
     "name": "stdout",
     "output_type": "stream",
     "text": [
      "You are not qualified\n"
     ]
    }
   ],
   "source": [
    "age = 22\n",
    "\n",
    "if age >= 18:\n",
    "    print ('You are not qualified')"
   ]
  },
  {
   "cell_type": "code",
   "execution_count": 45,
   "id": "4cb8a13c-7e3b-4dcf-bd7f-4874157a5f64",
   "metadata": {},
   "outputs": [
    {
     "name": "stdout",
     "output_type": "stream",
     "text": [
      "You are too young\n"
     ]
    }
   ],
   "source": [
    "age = 16\n",
    "if age >= 18:\n",
    "    print ('You can vote')\n",
    "elif age == 17:\n",
    "    print ('You can vote next year')\n",
    "else:\n",
    "    print ('You are too young')"
   ]
  },
  {
   "cell_type": "code",
   "execution_count": null,
   "id": "f1857a25-5279-407b-baff-a2dbd67bb9fa",
   "metadata": {},
   "outputs": [],
   "source": []
  },
  {
   "cell_type": "code",
   "execution_count": 47,
   "id": "52ac5599-b53c-43bf-975f-dac62b91613b",
   "metadata": {},
   "outputs": [
    {
     "name": "stdout",
     "output_type": "stream",
     "text": [
      "You are not qualified\n"
     ]
    }
   ],
   "source": [
    "if 22 > 23:\n",
    "    print ('You are qualified')\n",
    "else:\n",
    "    print ('You are not qualified')"
   ]
  },
  {
   "cell_type": "code",
   "execution_count": null,
   "id": "db47a20d-c747-41d2-b292-0cf4ad021431",
   "metadata": {},
   "outputs": [],
   "source": []
  },
  {
   "cell_type": "code",
   "execution_count": 51,
   "id": "eb8aece6-d5e8-435d-b434-a0d86cadca30",
   "metadata": {},
   "outputs": [],
   "source": [
    "# For Loop"
   ]
  },
  {
   "cell_type": "code",
   "execution_count": 48,
   "id": "77632b39-4316-4f73-baa2-901cb4fc775b",
   "metadata": {},
   "outputs": [
    {
     "name": "stdout",
     "output_type": "stream",
     "text": [
      "orange\n",
      "banana\n",
      "apple\n"
     ]
    }
   ],
   "source": [
    "fruits = ['orange', 'banana', 'apple']\n",
    "for fruit in fruits:\n",
    "    print (fruit)"
   ]
  },
  {
   "cell_type": "code",
   "execution_count": 49,
   "id": "54550562-8df1-4836-86e0-0419daa82f21",
   "metadata": {},
   "outputs": [],
   "source": [
    "integers = [1, 2, 3, 4, 5, 6, 7, 8, 9]"
   ]
  },
  {
   "cell_type": "code",
   "execution_count": 50,
   "id": "c5f3c543-f143-46fc-8aa2-e03e083ec084",
   "metadata": {},
   "outputs": [
    {
     "name": "stdout",
     "output_type": "stream",
     "text": [
      "1\n",
      "2\n",
      "3\n",
      "4\n",
      "5\n",
      "6\n",
      "7\n",
      "8\n",
      "9\n"
     ]
    }
   ],
   "source": [
    "for number in integers:\n",
    "    print (number)"
   ]
  },
  {
   "cell_type": "code",
   "execution_count": null,
   "id": "74b6cafe-c2fb-45ed-83fa-f22074d00986",
   "metadata": {},
   "outputs": [],
   "source": []
  },
  {
   "cell_type": "code",
   "execution_count": 52,
   "id": "3d1bbe21-1674-45c7-baef-28da7699ac07",
   "metadata": {},
   "outputs": [],
   "source": [
    "# While Loop"
   ]
  },
  {
   "cell_type": "code",
   "execution_count": 53,
   "id": "63ee68a3-1c7d-456e-b12d-e947459fe290",
   "metadata": {},
   "outputs": [
    {
     "name": "stdout",
     "output_type": "stream",
     "text": [
      "0\n",
      "1\n",
      "2\n",
      "3\n",
      "4\n"
     ]
    }
   ],
   "source": [
    "i = 0\n",
    "while i < 5:\n",
    "    print (i)\n",
    "    i = i+1"
   ]
  },
  {
   "cell_type": "code",
   "execution_count": 55,
   "id": "86841e34-ce77-4428-883a-080a7ca465d6",
   "metadata": {},
   "outputs": [
    {
     "name": "stdout",
     "output_type": "stream",
     "text": [
      "0\n",
      "1\n",
      "2\n",
      "3\n"
     ]
    }
   ],
   "source": [
    "i = 0\n",
    "while i< 5:\n",
    "    print (i)\n",
    "    if i == 3:\n",
    "        break\n",
    "    i = i + 1\n",
    "else:\n",
    "    print ('None')"
   ]
  },
  {
   "cell_type": "code",
   "execution_count": null,
   "id": "922fad22-ed77-4816-9a70-4eb5c55ebfa6",
   "metadata": {},
   "outputs": [],
   "source": []
  },
  {
   "cell_type": "code",
   "execution_count": null,
   "id": "3fb2a410-e1f7-496c-a04e-d5c633a77d9a",
   "metadata": {},
   "outputs": [],
   "source": []
  },
  {
   "cell_type": "code",
   "execution_count": null,
   "id": "0b1ef60c-c6a4-4de3-960f-497db99f6053",
   "metadata": {},
   "outputs": [],
   "source": []
  },
  {
   "cell_type": "code",
   "execution_count": null,
   "id": "d884e575-de45-4e25-925f-9bb7acc55fa9",
   "metadata": {},
   "outputs": [],
   "source": []
  },
  {
   "cell_type": "code",
   "execution_count": null,
   "id": "fc7ca1fc-0a28-4a3a-b20b-1b8c27230b24",
   "metadata": {},
   "outputs": [],
   "source": []
  },
  {
   "cell_type": "markdown",
   "id": "a49e2ded-8c39-4931-a7e3-7c9fd301c4bc",
   "metadata": {},
   "source": [
    "# 6. Break & Continue Statement"
   ]
  },
  {
   "cell_type": "code",
   "execution_count": 56,
   "id": "f6636d0f-99b8-420f-a3e7-81869b805c25",
   "metadata": {},
   "outputs": [
    {
     "name": "stdout",
     "output_type": "stream",
     "text": [
      "0\n",
      "1\n",
      "2\n",
      "3\n",
      "4\n"
     ]
    }
   ],
   "source": [
    "for i in range (10):\n",
    "    if i == 5:\n",
    "        break\n",
    "    print (i)"
   ]
  },
  {
   "cell_type": "code",
   "execution_count": 57,
   "id": "1a58cd13-31f7-462e-98ff-273117c91732",
   "metadata": {},
   "outputs": [
    {
     "name": "stdout",
     "output_type": "stream",
     "text": [
      "0\n",
      "1\n",
      "2\n",
      "3\n",
      "4\n",
      "6\n",
      "7\n",
      "8\n",
      "9\n"
     ]
    }
   ],
   "source": [
    "for i in range (10):\n",
    "    if i == 5:\n",
    "        continue\n",
    "    print (i)"
   ]
  },
  {
   "cell_type": "code",
   "execution_count": null,
   "id": "921081a5-235d-491f-8866-ce4f3ada548f",
   "metadata": {},
   "outputs": [],
   "source": []
  },
  {
   "cell_type": "markdown",
   "id": "372a575d-73bd-464f-8cf5-226728bf9f8a",
   "metadata": {},
   "source": [
    "# 7. Function"
   ]
  },
  {
   "cell_type": "code",
   "execution_count": 58,
   "id": "850fbcf1-6fbb-4d3a-a31c-46731d28fcea",
   "metadata": {},
   "outputs": [],
   "source": [
    "def calcus(number):\n",
    "    print(number ** 2, 3 *number)"
   ]
  },
  {
   "cell_type": "code",
   "execution_count": 59,
   "id": "3ef08398-1ea1-4110-a5d8-13e7575dd5de",
   "metadata": {},
   "outputs": [
    {
     "name": "stdout",
     "output_type": "stream",
     "text": [
      "4 6\n"
     ]
    }
   ],
   "source": [
    "calcus (2)"
   ]
  },
  {
   "cell_type": "code",
   "execution_count": 62,
   "id": "df9573b4-4d65-4444-8cf0-c29c24d6e832",
   "metadata": {},
   "outputs": [
    {
     "name": "stdout",
     "output_type": "stream",
     "text": [
      "16 12\n"
     ]
    }
   ],
   "source": [
    "calcus (4)"
   ]
  },
  {
   "cell_type": "code",
   "execution_count": null,
   "id": "2f95ad74-d046-4517-94dd-b2e0d905f1ca",
   "metadata": {},
   "outputs": [],
   "source": []
  },
  {
   "cell_type": "code",
   "execution_count": null,
   "id": "068c8ab6-0460-4a51-9347-8d3d802269fe",
   "metadata": {},
   "outputs": [],
   "source": []
  },
  {
   "cell_type": "markdown",
   "id": "470fb347-78a2-467a-bda5-dda8c5ff2d2b",
   "metadata": {},
   "source": [
    "# 8. Numpy & Pandas"
   ]
  },
  {
   "cell_type": "code",
   "execution_count": 63,
   "id": "f0d1b690-91f5-4002-a9a1-c36c647efc9c",
   "metadata": {},
   "outputs": [
    {
     "name": "stdout",
     "output_type": "stream",
     "text": [
      "Requirement already satisfied: numpy in c:\\users\\hp\\anaconda3\\lib\\site-packages (1.26.4)\n",
      "Could not fetch URL https://pypi.org/simple/pip/: There was a problem confirming the ssl certificate: HTTPSConnectionPool(host='pypi.org', port=443): Max retries exceeded with url: /simple/pip/ (Caused by SSLError(SSLCertVerificationError(1, '[SSL: CERTIFICATE_VERIFY_FAILED] certificate verify failed: unable to get local issuer certificate (_ssl.c:1006)'))) - skipping\n"
     ]
    }
   ],
   "source": [
    "!pip install numpy"
   ]
  },
  {
   "cell_type": "code",
   "execution_count": 64,
   "id": "0401d165-5c51-4639-8e5b-adedbf17723b",
   "metadata": {},
   "outputs": [
    {
     "name": "stdout",
     "output_type": "stream",
     "text": [
      "Requirement already satisfied: pandas in c:\\users\\hp\\anaconda3\\lib\\site-packages (2.1.4)\n",
      "Requirement already satisfied: numpy<2,>=1.23.2 in c:\\users\\hp\\anaconda3\\lib\\site-packages (from pandas) (1.26.4)\n",
      "Requirement already satisfied: python-dateutil>=2.8.2 in c:\\users\\hp\\appdata\\roaming\\python\\python311\\site-packages (from pandas) (2.8.2)\n",
      "Requirement already satisfied: pytz>=2020.1 in c:\\users\\hp\\anaconda3\\lib\\site-packages (from pandas) (2023.3.post1)\n",
      "Requirement already satisfied: tzdata>=2022.1 in c:\\users\\hp\\anaconda3\\lib\\site-packages (from pandas) (2023.3)\n",
      "Requirement already satisfied: six>=1.5 in c:\\users\\hp\\appdata\\roaming\\python\\python311\\site-packages (from python-dateutil>=2.8.2->pandas) (1.16.0)\n",
      "Could not fetch URL https://pypi.org/simple/pip/: There was a problem confirming the ssl certificate: HTTPSConnectionPool(host='pypi.org', port=443): Max retries exceeded with url: /simple/pip/ (Caused by SSLError(SSLCertVerificationError(1, '[SSL: CERTIFICATE_VERIFY_FAILED] certificate verify failed: unable to get local issuer certificate (_ssl.c:1006)'))) - skipping\n"
     ]
    }
   ],
   "source": [
    "!pip install pandas"
   ]
  },
  {
   "cell_type": "code",
   "execution_count": 1,
   "id": "977cd9a0-b21e-4352-861c-59f73858560b",
   "metadata": {},
   "outputs": [],
   "source": [
    "import numpy as np"
   ]
  },
  {
   "cell_type": "code",
   "execution_count": 3,
   "id": "e8be7a80-506a-4ab3-b8ba-637b7c54ec93",
   "metadata": {},
   "outputs": [
    {
     "name": "stdout",
     "output_type": "stream",
     "text": [
      "Numpy array is: [1 2 3 4 5]\n"
     ]
    }
   ],
   "source": [
    "array = np.array([1,2,3,4,5])\n",
    "\n",
    "print ('Numpy array is:' , array) "
   ]
  },
  {
   "cell_type": "code",
   "execution_count": 4,
   "id": "77d2807c-02a7-48e7-bcef-1b587fd0a1f8",
   "metadata": {},
   "outputs": [],
   "source": [
    "arr_1d = np.array([1,2,3,4])"
   ]
  },
  {
   "cell_type": "code",
   "execution_count": 5,
   "id": "83637676-694e-494f-bd8f-9536586c3849",
   "metadata": {},
   "outputs": [
    {
     "name": "stdout",
     "output_type": "stream",
     "text": [
      "[1 2 3 4]\n"
     ]
    }
   ],
   "source": [
    "print (arr_1d)"
   ]
  },
  {
   "cell_type": "code",
   "execution_count": 7,
   "id": "8d9890d2-62ed-43de-b80b-019932f60f9c",
   "metadata": {},
   "outputs": [],
   "source": [
    "arr_2d = np.array([[1,2,3,4], [3,4,5,6]])"
   ]
  },
  {
   "cell_type": "code",
   "execution_count": 8,
   "id": "8de3060b-f6eb-44f5-ae32-d22f13fd9376",
   "metadata": {},
   "outputs": [
    {
     "name": "stdout",
     "output_type": "stream",
     "text": [
      "[[1 2 3 4]\n",
      " [3 4 5 6]]\n"
     ]
    }
   ],
   "source": [
    "print (arr_2d)"
   ]
  },
  {
   "cell_type": "code",
   "execution_count": 9,
   "id": "781d34cf-0570-4ac7-9f4b-9a48c2b06e1e",
   "metadata": {},
   "outputs": [],
   "source": [
    "zero_arrs = np.zeros((2,3))"
   ]
  },
  {
   "cell_type": "code",
   "execution_count": 10,
   "id": "adf7104e-1d52-4df2-8362-a610acf8a049",
   "metadata": {},
   "outputs": [
    {
     "data": {
      "text/plain": [
       "array([[0., 0., 0.],\n",
       "       [0., 0., 0.]])"
      ]
     },
     "execution_count": 10,
     "metadata": {},
     "output_type": "execute_result"
    }
   ],
   "source": [
    "zero_arrs"
   ]
  },
  {
   "cell_type": "code",
   "execution_count": 11,
   "id": "69d4b8cf-8c46-4fa1-98a7-9774aacd7625",
   "metadata": {},
   "outputs": [],
   "source": [
    "ones_arrs = np.ones((2,3))"
   ]
  },
  {
   "cell_type": "code",
   "execution_count": 12,
   "id": "1b24fdc7-2aa5-4749-8160-250183d15e9e",
   "metadata": {},
   "outputs": [
    {
     "data": {
      "text/plain": [
       "array([[1., 1., 1.],\n",
       "       [1., 1., 1.]])"
      ]
     },
     "execution_count": 12,
     "metadata": {},
     "output_type": "execute_result"
    }
   ],
   "source": [
    "ones_arrs"
   ]
  },
  {
   "cell_type": "code",
   "execution_count": 13,
   "id": "ecce4a0d-4a24-420d-8ce2-c8c3b912adf6",
   "metadata": {},
   "outputs": [],
   "source": [
    "identity_arrs = np.eye(4)"
   ]
  },
  {
   "cell_type": "code",
   "execution_count": 14,
   "id": "b64e9cb3-9fe8-48dc-a914-277451c6b484",
   "metadata": {},
   "outputs": [
    {
     "data": {
      "text/plain": [
       "array([[1., 0., 0., 0.],\n",
       "       [0., 1., 0., 0.],\n",
       "       [0., 0., 1., 0.],\n",
       "       [0., 0., 0., 1.]])"
      ]
     },
     "execution_count": 14,
     "metadata": {},
     "output_type": "execute_result"
    }
   ],
   "source": [
    "identity_arrs"
   ]
  },
  {
   "cell_type": "code",
   "execution_count": null,
   "id": "17a28925-2125-4033-8748-c0a90467c099",
   "metadata": {},
   "outputs": [],
   "source": []
  },
  {
   "cell_type": "code",
   "execution_count": 15,
   "id": "17a701f5-6825-492b-8af2-9744fbc439f7",
   "metadata": {},
   "outputs": [],
   "source": [
    "arr = np.array([1,2,3,4,5])\n",
    "\n",
    "arr_sum = arr + 5"
   ]
  },
  {
   "cell_type": "code",
   "execution_count": 16,
   "id": "aae96e58-9537-493a-8095-bc82fc0ffb82",
   "metadata": {},
   "outputs": [
    {
     "data": {
      "text/plain": [
       "array([ 6,  7,  8,  9, 10])"
      ]
     },
     "execution_count": 16,
     "metadata": {},
     "output_type": "execute_result"
    }
   ],
   "source": [
    "arr_sum"
   ]
  },
  {
   "cell_type": "code",
   "execution_count": null,
   "id": "4391382f-9aae-4209-b1e9-f2b9095f30ae",
   "metadata": {},
   "outputs": [],
   "source": []
  },
  {
   "cell_type": "code",
   "execution_count": 17,
   "id": "0164dbf4-527c-43bd-adcf-b0dfa99ca2ac",
   "metadata": {},
   "outputs": [],
   "source": [
    "import pandas as pd"
   ]
  },
  {
   "cell_type": "code",
   "execution_count": 21,
   "id": "0940238b-9361-4ba5-9236-db90f14a9522",
   "metadata": {},
   "outputs": [],
   "source": [
    "data = {'Name': ['Alice', 'Bob', 'Clara'], 'Age': [21, 30, 34], 'City': ['Accra', 'Tarkwa', 'Cape Coast']}"
   ]
  },
  {
   "cell_type": "code",
   "execution_count": 20,
   "id": "a481bfef-7551-48d3-ab8a-5fc8fddac65e",
   "metadata": {},
   "outputs": [
    {
     "data": {
      "text/plain": [
       "dict"
      ]
     },
     "execution_count": 20,
     "metadata": {},
     "output_type": "execute_result"
    }
   ],
   "source": [
    "type (data)"
   ]
  },
  {
   "cell_type": "code",
   "execution_count": 22,
   "id": "b1cc305d-4184-41a2-979d-e2d77004e299",
   "metadata": {},
   "outputs": [],
   "source": [
    "df = pd.DataFrame(data)"
   ]
  },
  {
   "cell_type": "code",
   "execution_count": 23,
   "id": "a3d6365f-a788-40c2-8711-09d4e708a320",
   "metadata": {},
   "outputs": [
    {
     "data": {
      "text/html": [
       "<div>\n",
       "<style scoped>\n",
       "    .dataframe tbody tr th:only-of-type {\n",
       "        vertical-align: middle;\n",
       "    }\n",
       "\n",
       "    .dataframe tbody tr th {\n",
       "        vertical-align: top;\n",
       "    }\n",
       "\n",
       "    .dataframe thead th {\n",
       "        text-align: right;\n",
       "    }\n",
       "</style>\n",
       "<table border=\"1\" class=\"dataframe\">\n",
       "  <thead>\n",
       "    <tr style=\"text-align: right;\">\n",
       "      <th></th>\n",
       "      <th>Name</th>\n",
       "      <th>Age</th>\n",
       "      <th>City</th>\n",
       "    </tr>\n",
       "  </thead>\n",
       "  <tbody>\n",
       "    <tr>\n",
       "      <th>0</th>\n",
       "      <td>Alice</td>\n",
       "      <td>21</td>\n",
       "      <td>Accra</td>\n",
       "    </tr>\n",
       "    <tr>\n",
       "      <th>1</th>\n",
       "      <td>Bob</td>\n",
       "      <td>30</td>\n",
       "      <td>Tarkwa</td>\n",
       "    </tr>\n",
       "    <tr>\n",
       "      <th>2</th>\n",
       "      <td>Clara</td>\n",
       "      <td>34</td>\n",
       "      <td>Cape Coast</td>\n",
       "    </tr>\n",
       "  </tbody>\n",
       "</table>\n",
       "</div>"
      ],
      "text/plain": [
       "    Name  Age        City\n",
       "0  Alice   21       Accra\n",
       "1    Bob   30      Tarkwa\n",
       "2  Clara   34  Cape Coast"
      ]
     },
     "execution_count": 23,
     "metadata": {},
     "output_type": "execute_result"
    }
   ],
   "source": [
    "df"
   ]
  },
  {
   "cell_type": "code",
   "execution_count": null,
   "id": "fb342ab8-e0a6-49f9-b027-857c9771b55e",
   "metadata": {},
   "outputs": [],
   "source": []
  },
  {
   "cell_type": "code",
   "execution_count": null,
   "id": "09081d31-1f80-4524-8d5e-1735d344153b",
   "metadata": {},
   "outputs": [],
   "source": []
  },
  {
   "cell_type": "markdown",
   "id": "a9c5c9fa-6065-4550-b7ac-bc9a7187b939",
   "metadata": {},
   "source": [
    "# 9. Matplotlib & Seaborn"
   ]
  },
  {
   "cell_type": "code",
   "execution_count": 24,
   "id": "74f7956b-189f-4edc-8fca-2ab59cb1110d",
   "metadata": {},
   "outputs": [
    {
     "name": "stdout",
     "output_type": "stream",
     "text": [
      "Requirement already satisfied: matplotlib in c:\\users\\hp\\anaconda3\\lib\\site-packages (3.8.0)\n",
      "Requirement already satisfied: contourpy>=1.0.1 in c:\\users\\hp\\anaconda3\\lib\\site-packages (from matplotlib) (1.2.0)\n",
      "Requirement already satisfied: cycler>=0.10 in c:\\users\\hp\\anaconda3\\lib\\site-packages (from matplotlib) (0.11.0)\n",
      "Requirement already satisfied: fonttools>=4.22.0 in c:\\users\\hp\\anaconda3\\lib\\site-packages (from matplotlib) (4.25.0)\n",
      "Requirement already satisfied: kiwisolver>=1.0.1 in c:\\users\\hp\\anaconda3\\lib\\site-packages (from matplotlib) (1.4.4)\n",
      "Requirement already satisfied: numpy<2,>=1.21 in c:\\users\\hp\\anaconda3\\lib\\site-packages (from matplotlib) (1.26.4)\n",
      "Requirement already satisfied: packaging>=20.0 in c:\\users\\hp\\appdata\\roaming\\python\\python311\\site-packages (from matplotlib) (22.0)\n",
      "Requirement already satisfied: pillow>=6.2.0 in c:\\users\\hp\\anaconda3\\lib\\site-packages (from matplotlib) (10.2.0)\n",
      "Requirement already satisfied: pyparsing>=2.3.1 in c:\\users\\hp\\anaconda3\\lib\\site-packages (from matplotlib) (3.0.9)\n",
      "Requirement already satisfied: python-dateutil>=2.7 in c:\\users\\hp\\appdata\\roaming\\python\\python311\\site-packages (from matplotlib) (2.8.2)\n",
      "Requirement already satisfied: six>=1.5 in c:\\users\\hp\\appdata\\roaming\\python\\python311\\site-packages (from python-dateutil>=2.7->matplotlib) (1.16.0)\n",
      "Could not fetch URL https://pypi.org/simple/pip/: There was a problem confirming the ssl certificate: HTTPSConnectionPool(host='pypi.org', port=443): Max retries exceeded with url: /simple/pip/ (Caused by SSLError(SSLCertVerificationError(1, '[SSL: CERTIFICATE_VERIFY_FAILED] certificate verify failed: unable to get local issuer certificate (_ssl.c:1006)'))) - skipping\n"
     ]
    }
   ],
   "source": [
    "!pip install matplotlib"
   ]
  },
  {
   "cell_type": "code",
   "execution_count": 25,
   "id": "f21e36ad-e647-4bdd-9726-fef544d5d907",
   "metadata": {},
   "outputs": [],
   "source": [
    "import matplotlib.pyplot as plt"
   ]
  },
  {
   "cell_type": "code",
   "execution_count": 26,
   "id": "265c1310-cfac-4c70-9d3d-fd3e729a76db",
   "metadata": {},
   "outputs": [],
   "source": [
    "x = [1, 2, 3, 4, 5]\n",
    "y = [2, 3, 5, 7, 11]"
   ]
  },
  {
   "cell_type": "code",
   "execution_count": 29,
   "id": "d4a0cc0d-1644-4293-b5ec-3e2168b9239d",
   "metadata": {},
   "outputs": [
    {
     "data": {
      "image/png": "[encoded data removed]",
      "text/plain": [
       "<Figure size 640x480 with 1 Axes>"
      ]
     },
     "metadata": {},
     "output_type": "display_data"
    }
   ],
   "source": [
    "plt.plot(x,y, color = 'blue', marker = 'o', linestyle = '--')\n",
    "plt.title('Line Plot')\n",
    "plt.xlabel('X-axis')\n",
    "plt.ylabel('Y-axis')\n",
    "plt.show()"
   ]
  },
  {
   "cell_type": "code",
   "execution_count": 30,
   "id": "f0da1a52-7703-4266-8e2c-ecc294b32332",
   "metadata": {},
   "outputs": [
    {
     "data": {
      "image/png": "[encoded data removed]",
      "text/plain": [
       "<Figure size 640x480 with 1 Axes>"
      ]
     },
     "metadata": {},
     "output_type": "display_data"
    }
   ],
   "source": [
    "plt.plot(x,y, color = 'green', marker = 's', linestyle = '-')\n",
    "plt.title('Line Plot')\n",
    "plt.xlabel('X-axis')\n",
    "plt.ylabel('Y-axis')\n",
    "plt.grid(True)\n",
    "plt.show()"
   ]
  },
  {
   "cell_type": "code",
   "execution_count": null,
   "id": "6136fcc7-d17a-48e0-8820-315d69da3bd0",
   "metadata": {},
   "outputs": [],
   "source": []
  },
  {
   "cell_type": "code",
   "execution_count": 31,
   "id": "173d9581-ec1d-4666-9d8f-11fe910fc5a5",
   "metadata": {},
   "outputs": [
    {
     "data": {
      "image/png": "[encoded data removed]",
      "text/plain": [
       "<Figure size 640x480 with 1 Axes>"
      ]
     },
     "metadata": {},
     "output_type": "display_data"
    }
   ],
   "source": [
    "#Scatter plot\n",
    "\n",
    "x = [5, 7, 8, 2, 17, 2, 9, 4, 11, 6]\n",
    "y = [99, 86, 87, 88, 100, 86, 100, 87, 94, 78]\n",
    "\n",
    "plt.scatter(x,y, color = 'purple')\n",
    "plt.title('Scatter Plot')\n",
    "plt.xlabel('X-axis')\n",
    "plt.ylabel('Y-axis')\n",
    "plt.show()"
   ]
  },
  {
   "cell_type": "code",
   "execution_count": null,
   "id": "1889f3d0-cb95-4cca-9c82-88ac35f546e6",
   "metadata": {},
   "outputs": [],
   "source": []
  },
  {
   "cell_type": "code",
   "execution_count": 34,
   "id": "0c2b3ad9-9fea-4e96-896c-a72a387dca49",
   "metadata": {},
   "outputs": [
    {
     "data": {
      "image/png": "[encoded data removed]",
      "text/plain": [
       "<Figure size 640x480 with 1 Axes>"
      ]
     },
     "metadata": {},
     "output_type": "display_data"
    }
   ],
   "source": [
    "# Histogram\n",
    "\n",
    "data = np.random.randn(1000)\n",
    "\n",
    "plt.hist(data, bins = 10, color = 'skyblue', edgecolor = 'black')\n",
    "plt.title('Histogram')\n",
    "plt.xlabel('X-axis')\n",
    "plt.ylabel('Y-axis')\n",
    "plt.show()"
   ]
  },
  {
   "cell_type": "code",
   "execution_count": null,
   "id": "639a097f-889d-4a6f-8eb8-7e0fdbe27563",
   "metadata": {},
   "outputs": [],
   "source": []
  },
  {
   "cell_type": "code",
   "execution_count": null,
   "id": "b9f12606-1eb6-4987-8942-cbe5239c0fd6",
   "metadata": {},
   "outputs": [],
   "source": []
  },
  {
   "cell_type": "code",
   "execution_count": null,
   "id": "b27c117a-b2f7-4b39-9909-78937104f363",
   "metadata": {},
   "outputs": [],
   "source": []
  }
 ],
 "metadata": {
  "kernelspec": {
   "display_name": "Python 3 (ipykernel)",
   "language": "python",
   "name": "python3"
  },
  "language_info": {
   "codemirror_mode": {
    "name": "ipython",
    "version": 3
   },
   "file_extension": ".py",
   "mimetype": "text/x-python",
   "name": "python",
   "nbconvert_exporter": "python",
   "pygments_lexer": "ipython3",
   "version": "3.11.7"
  }
 },
 "nbformat": 4,
 "nbformat_minor": 5
}
