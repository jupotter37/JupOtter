{
 "cells": [
  {
   "cell_type": "code",
   "execution_count": 1,
   "id": "a6903ffb-539e-49fc-85fb-7feee8f8df85",
   "metadata": {},
   "outputs": [
    {
     "name": "stdout",
     "output_type": "stream",
     "text": [
      "What is Python language?                                                \n",
      "Python is a widely used high-level, general-purpose, interpreted, dynamic programming language.Its design philosophy emphasizes code readability, and its syntax allows programmers to express concepts in fewer lines of code than possible in \n",
      "languages such as C++ or Java. \n",
      "Python supports multiple programming paradigms, including object-oriented, imperative and functional programming or procedural styles. It features a dynamic type system and automatic memory management and has a large and comprehensive standard library.The best way we learn anything is by practice and exercise questions. We  have started this section for those (beginner to intermediate) who are familiar with Python.\n"
     ]
    }
   ],
   "source": [
    "#Write a Python program to read an entire text file.\n",
    "f = open(\"python.txt\", \"r\")\n",
    "print(f.read())"
   ]
  },
  {
   "cell_type": "code",
   "execution_count": 2,
   "id": "c8ca9ce5-eb4d-4fc9-957e-a530eca7e688",
   "metadata": {},
   "outputs": [
    {
     "name": "stdout",
     "output_type": "stream",
     "text": [
      "What is Python language?                                                \n",
      "\n",
      "Python is a widely used high-level, general-purpose, interpreted, dynamic programming language.Its design philosophy emphasizes code readability, and its syntax allows programmers to express concepts in fewer lines of code than possible in \n",
      "\n"
     ]
    }
   ],
   "source": [
    "#Write a Python program to read the first n lines of a file.\n",
    "f = open(\"python.txt\", \"r\")\n",
    "print(f.readline())\n",
    "print(f.readline())"
   ]
  },
  {
   "cell_type": "code",
   "execution_count": 4,
   "id": "937454bc-b672-4f64-9813-638fcf9f4f93",
   "metadata": {},
   "outputs": [
    {
     "name": "stdin",
     "output_type": "stream",
     "text": [
      "Enter N value:  3\n"
     ]
    },
    {
     "name": "stdout",
     "output_type": "stream",
     "text": [
      "The following are the first 3 lines of a text file:\n",
      "What is Python language?                                                \n",
      "Python is a widely used high-level, general-purpose, interpreted, dynamic programming language.Its design philosophy emphasizes code readability, and its syntax allows programmers to express concepts in fewer lines of code than possible in \n",
      "languages such as C++ or Java. \n"
     ]
    }
   ],
   "source": [
    "#Write a Python program to read the first n lines of a file.\n",
    "inputFile = \"python.txt\"\n",
    "\n",
    "# Enter N value\n",
    "N = int(input(\"Enter N value: \"))\n",
    "\n",
    "# Opening the given file in read-only mode\n",
    "with open(inputFile, 'r') as filedata:\n",
    "    linesList= filedata.readlines()\n",
    "print(\"The following are the first\",N,\"lines of a text file:\")\n",
    "\n",
    "# Traverse in the list of lines to retrieve the first N lines of a file\n",
    "for textline in (linesList[:N]):\n",
    "    print(textline, end ='')\n",
    "\n",
    "# Closing the input file\n",
    "filedata.close()"
   ]
  },
  {
   "cell_type": "code",
   "execution_count": 10,
   "id": "94f3ec90-6967-4a36-aaf1-0ae614270e7a",
   "metadata": {},
   "outputs": [
    {
     "name": "stdout",
     "output_type": "stream",
     "text": [
      "languages such as C++ or Java.\n",
      "Python supports multiple programming paradigms, including object-oriented, imperative and functional programming or procedural styles. It features a dynamic type system and automatic memory management and has a large and comprehensive standard library.The best way we learn anything is by practice and exercise questions. We  have started this section for those (beginner to intermediate) who are familiar with Python.\n"
     ]
    }
   ],
   "source": [
    "#Write a Python program to read the last n lines of a file.\n",
    "with open(\"python.txt\", \"r\") as file:\n",
    "    lines = file.readlines()\n",
    "    last_n_lines = lines[-N:]\n",
    "\n",
    "for line in last_n_lines:\n",
    "    print(line.strip())"
   ]
  },
  {
   "cell_type": "code",
   "execution_count": 11,
   "id": "a055cdd7-6030-4cfd-b9f7-05eb1dad27ee",
   "metadata": {},
   "outputs": [
    {
     "name": "stdin",
     "output_type": "stream",
     "text": [
      "Enter the filename:  python.txt\n"
     ]
    },
    {
     "name": "stdout",
     "output_type": "stream",
     "text": [
      "The number of words in python.txt is: 100\n"
     ]
    }
   ],
   "source": [
    "#Write a Python program that takes a text file as input and returns the number of words of a given text file.\n",
    "def count_words_in_file(filename):\n",
    "    try:\n",
    "        with open(\"python.txt\", 'r') as file:\n",
    "            text = file.read()\n",
    "            words = text.split()\n",
    "            return len(words)\n",
    "    except FileNotFoundError:\n",
    "        print(f\"{filename} not found.\")\n",
    "        return None\n",
    "\n",
    "filename = input(\"Enter the filename: \")\n",
    "word_count = count_words_in_file(filename)\n",
    "\n",
    "if word_count is not None:\n",
    "    print(f\"The number of words in {filename} is: {word_count}\")"
   ]
  },
  {
   "cell_type": "code",
   "execution_count": null,
   "id": "04058c09-da1b-4fb8-9ee4-b4488d834197",
   "metadata": {},
   "outputs": [],
   "source": [
    "#(Bonus) Write a Python program to read the last n lines of a file.\n",
    "def read_last_n_lines(filename, n):\n",
    "    try:\n",
    "        with open(filename, 'r') as file:\n",
    "            lines = file.readlines()\n",
    "            last_n_lines = lines[-n:]\n",
    "            return last_n_lines\n",
    "    except FileNotFoundError:\n",
    "        print(f\"{filename} not found.\")\n",
    "        return None\n",
    "\n",
    "filename = input(\"Enter the filename: \")\n",
    "n = int(input(\"Enter the number of lines to read: \"))\n",
    "\n",
    "last_n_lines = read_last_n_lines(filename, n)\n",
    "\n",
    "if last_n_lines is not None:\n",
    "    print(\"Last {} lines of {}:\".format(n, filename))\n",
    "    for line in last_n_lines:\n",
    "        print(line.strip())"
   ]
  }
 ],
 "metadata": {
  "kernelspec": {
   "display_name": "Python 3 (ipykernel)",
   "language": "python",
   "name": "python3"
  },
  "language_info": {
   "codemirror_mode": {
    "name": "ipython",
    "version": 3
   },
   "file_extension": ".py",
   "mimetype": "text/x-python",
   "name": "python",
   "nbconvert_exporter": "python",
   "pygments_lexer": "ipython3",
   "version": "3.11.7"
  }
 },
 "nbformat": 4,
 "nbformat_minor": 5
}
