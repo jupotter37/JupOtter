{
 "cells": [
  {
   "cell_type": "markdown",
   "id": "9923e9c4",
   "metadata": {
    "deletable": false,
    "editable": false,
    "nbgrader": {
     "cell_type": "markdown",
     "checksum": "5879ca07d79bd6d2ec666ee1779b0f75",
     "grade": false,
     "grade_id": "cell-af9cc8d837aebce9",
     "locked": true,
     "schema_version": 3,
     "solution": false,
     "task": false
    },
    "tags": []
   },
   "source": [
    "# Module 1 Reflective Practice Assignment "
   ]
  },
  {
   "cell_type": "markdown",
   "id": "64845279",
   "metadata": {
    "deletable": false,
    "editable": false,
    "nbgrader": {
     "cell_type": "markdown",
     "checksum": "83eb5bb51fab5891b34eb53ed24aedf5",
     "grade": false,
     "grade_id": "cell-ff5eef82ae0a7de3",
     "locked": true,
     "schema_version": 3,
     "solution": false,
     "task": false
    },
    "tags": []
   },
   "source": [
    "Spend between 20 and 30 minutes just experimenting with the python concepts that we have learned this week.  Get creative!  Try new things! \n",
    "Fail and try again!  Suggested practice items:\n",
    "\n",
    "- Using mathematical operations to add, subtract, multiply, divide, or find the remainder \n",
    "\n",
    "- Using if statements with comparison operators such as >, >=, <, <=, ==, or!= \n",
    "\n",
    "Once you're done, save this Jupyter Notebook - you will submit it as part of this assignment. It is perfectly acceptable to describe trying to get something to work, and then failing to get it functioning as desired in the 20-30 min time block.  This does not mean you'll get a bad grade for this assignment -- failing is a necessary part of learning, though none of us particularly enjoy it.  Sometimes what you'll try to accomplish is just too big of a task for a Reflective Practice session, and that is ok -- you will still have learned from the experience."
   ]
  },
  {
   "cell_type": "markdown",
   "id": "d4d46bc2",
   "metadata": {
    "deletable": false,
    "editable": false,
    "nbgrader": {
     "cell_type": "markdown",
     "checksum": "57f1897b1bab0711d9df0267ffd90ee9",
     "grade": false,
     "grade_id": "cell-acf62cab23157c1e",
     "locked": true,
     "schema_version": 3,
     "solution": false,
     "task": false
    },
    "tags": []
   },
   "source": [
    "## You can experiment with your code in the notebook cells below."
   ]
  },
  {
   "cell_type": "code",
   "execution_count": 1,
   "id": "df57ecf8-0cc2-42ab-a548-0d59064158af",
   "metadata": {
    "tags": []
   },
   "outputs": [
    {
     "name": "stdout",
     "output_type": "stream",
     "text": [
      "Addition: 15\n"
     ]
    }
   ],
   "source": [
    "#Using mathematical operations to add, subtract, multiply, divide, or find the remainder\n",
    "\n",
    "num1 = 10\n",
    "num2 = 5\n",
    "result_addition = num1 + num2\n",
    "print(\"Addition:\", result_addition)"
   ]
  },
  {
   "cell_type": "code",
   "execution_count": 2,
   "id": "30fbdc72-92d2-4bad-ba56-9d0148183195",
   "metadata": {},
   "outputs": [
    {
     "name": "stdout",
     "output_type": "stream",
     "text": [
      "Subtraction: 5\n"
     ]
    }
   ],
   "source": [
    "num1 = 10\n",
    "num2 = 5\n",
    "result_subtraction = num1 - num2\n",
    "print(\"Subtraction:\", result_subtraction)"
   ]
  },
  {
   "cell_type": "code",
   "execution_count": 3,
   "id": "eae3e2a2-9c1c-4877-8415-20c8d3e7d7d6",
   "metadata": {},
   "outputs": [
    {
     "name": "stdout",
     "output_type": "stream",
     "text": [
      "Multiplication: 50\n"
     ]
    }
   ],
   "source": [
    "num1 = 10\n",
    "num2 = 5\n",
    "result_multiplication = num1 * num2\n",
    "print(\"Multiplication:\", result_multiplication)"
   ]
  },
  {
   "cell_type": "code",
   "execution_count": 4,
   "id": "26c1b11b-9cce-4013-97a5-ec069d0a005c",
   "metadata": {},
   "outputs": [
    {
     "name": "stdout",
     "output_type": "stream",
     "text": [
      "Division: 2.0\n"
     ]
    }
   ],
   "source": [
    "num1 = 10\n",
    "num2 = 5\n",
    "result_division = num1 / num2\n",
    "print(\"Division:\", result_division)"
   ]
  },
  {
   "cell_type": "code",
   "execution_count": 5,
   "id": "2d6e9b8a-3e2c-46d4-b35a-93f86778e3cd",
   "metadata": {},
   "outputs": [
    {
     "name": "stdout",
     "output_type": "stream",
     "text": [
      "Remainder: 1\n"
     ]
    }
   ],
   "source": [
    "num1 = 10\n",
    "num2 = 3\n",
    "result_remainder = num1 % num2\n",
    "print(\"Remainder:\", result_remainder)"
   ]
  },
  {
   "cell_type": "code",
   "execution_count": 6,
   "id": "a4c9b2cf-2060-45f3-9d85-5997a8d09bab",
   "metadata": {},
   "outputs": [
    {
     "name": "stdout",
     "output_type": "stream",
     "text": [
      "x is greater than y\n"
     ]
    }
   ],
   "source": [
    "x = 10\n",
    "y = 5\n",
    "if x > y:\n",
    "    print(\"x is greater than y\")"
   ]
  },
  {
   "cell_type": "code",
   "execution_count": 7,
   "id": "e564d7a0-651e-42c5-a061-139c76dabb33",
   "metadata": {},
   "outputs": [
    {
     "name": "stdout",
     "output_type": "stream",
     "text": [
      "x is greater than or equal to y\n"
     ]
    }
   ],
   "source": [
    "x = 10\n",
    "y = 10\n",
    "if x >= y:\n",
    "    print(\"x is greater than or equal to y\")"
   ]
  },
  {
   "cell_type": "code",
   "execution_count": 8,
   "id": "ca1e498b-b0ab-4500-8832-9c71efe8fdbf",
   "metadata": {},
   "outputs": [
    {
     "name": "stdout",
     "output_type": "stream",
     "text": [
      "a is less than b\n"
     ]
    }
   ],
   "source": [
    "a = 7\n",
    "b = 15\n",
    "if a < b:\n",
    "    print(\"a is less than b\")"
   ]
  },
  {
   "cell_type": "code",
   "execution_count": 9,
   "id": "d62c5926-da20-4bda-a870-2376df6842c0",
   "metadata": {},
   "outputs": [
    {
     "name": "stdout",
     "output_type": "stream",
     "text": [
      "value1 is equal to value2\n"
     ]
    }
   ],
   "source": [
    "value1 = 10\n",
    "value2 = 10\n",
    "if value1 == value2:\n",
    "    print(\"value1 is equal to value2\")"
   ]
  },
  {
   "cell_type": "code",
   "execution_count": 10,
   "id": "96c13729-c320-49d3-b886-e6ccdcec5e53",
   "metadata": {},
   "outputs": [
    {
     "name": "stdout",
     "output_type": "stream",
     "text": [
      "value1 is not equal to value2\n"
     ]
    }
   ],
   "source": [
    "value1 = 10\n",
    "value2 = 5\n",
    "if value1 != value2:\n",
    "    print(\"value1 is not equal to value2\")"
   ]
  },
  {
   "cell_type": "markdown",
   "id": "94c9aaa3-9cfe-4d6a-a57a-b69ce3dd9736",
   "metadata": {
    "deletable": false,
    "editable": false,
    "nbgrader": {
     "cell_type": "markdown",
     "checksum": "e83c63bcd9536bdf74e3878dd15e7c44",
     "grade": false,
     "grade_id": "cell-f95893fa698683c6",
     "locked": true,
     "schema_version": 3,
     "solution": false,
     "task": false
    },
    "tags": []
   },
   "source": [
    "#### Please place all code experimentation above this comment. ####"
   ]
  },
  {
   "cell_type": "markdown",
   "id": "778141b4",
   "metadata": {
    "deletable": false,
    "editable": false,
    "nbgrader": {
     "cell_type": "markdown",
     "checksum": "e0c14a0ca9aa4ed4778eb1c0f2e5affa",
     "grade": false,
     "grade_id": "cell-7ccb79a53f7c89b2",
     "locked": true,
     "schema_version": 3,
     "solution": false,
     "task": false
    }
   },
   "source": [
    "# Module 1 Reflection Submission"
   ]
  },
  {
   "cell_type": "markdown",
   "id": "75e6ae4b",
   "metadata": {
    "deletable": false,
    "editable": false,
    "nbgrader": {
     "cell_type": "markdown",
     "checksum": "31393ebea6837e960f92aa3c6c3f3a4f",
     "grade": false,
     "grade_id": "cell-227ea0fa9fdb6130",
     "locked": true,
     "schema_version": 3,
     "solution": false,
     "task": false
    },
    "tags": []
   },
   "source": [
    "Reflect on what you have learned below.  Write a short (4-8 sentence summary) reflecting on what you figured out through this practice session. "
   ]
  },
  {
   "cell_type": "markdown",
   "id": "e6f89290",
   "metadata": {
    "deletable": false,
    "editable": false,
    "nbgrader": {
     "cell_type": "markdown",
     "checksum": "fdb31303a2c3d7857e128fce9c757af1",
     "grade": false,
     "grade_id": "cell-574144c829d666e1",
     "locked": true,
     "schema_version": 3,
     "solution": false,
     "task": false
    },
    "tags": []
   },
   "source": [
    "#### Enter Your Reflection Under this Cell ####"
   ]
  },
  {
   "cell_type": "markdown",
   "id": "151867f3",
   "metadata": {
    "deletable": false,
    "nbgrader": {
     "cell_type": "markdown",
     "checksum": "71ddbbf3ac3bfff3a76911e0cb382e2b",
     "grade": true,
     "grade_id": "cell-498c413593a65abb",
     "locked": false,
     "points": 0,
     "schema_version": 3,
     "solution": true,
     "task": false
    },
    "tags": []
   },
   "source": [
    "In the practice session on Python fundamentals, I delved into the basics of variables and assignment statements, arithmetic operations, user input using the input() function, and decision-making with the if statement. This hands-on experience highlighted the simplicity and readability of Python syntax, making it beginner-friendly. Understanding the concept of variables and how to assign values to them is fundamental for any programming language, and Python's dynamic typing system adds flexibility.\n",
    "\n",
    "Arithmetic operations were straightforward, and the input() function proved to be a convenient way to interact with users, allowing for dynamic input within a program. The introduction of the if statement for decision-making was a pivotal moment, enabling me to control the flow of the program based on specific conditions. Overall, this practice session underscored Python's accessibility and versatility for both beginners and experienced programmers, laying a solid foundation for more complex concepts in the language.\n",
    "\n",
    "\n",
    "Understanding Python basics, particularly decision-making with if statements, is foundational to programming proficiency. \n",
    "In Python, if statements allow the creation of conditional branches, enabling the execution of specific code blocks based on predefined conditions.\n",
    "\n",
    "This facilitates the development of dynamic and responsive programs. The syntax of an if statement is straightforward, with a condition followed by an indented code block that executes if the condition is true. \n",
    "\n",
    "Python's readability is a key strength, making the code intuitive and easy to follow. Decision-making with if statements is crucial in controlling program flow, enabling developers to respond to varying inputs or circumstances."
   ]
  },
  {
   "cell_type": "markdown",
   "id": "d0348f1c-6689-4901-a612-79d4d14cbf42",
   "metadata": {
    "deletable": false,
    "editable": false,
    "nbgrader": {
     "cell_type": "markdown",
     "checksum": "a1fbf885ac8c6745e7bf96ebd28969b6",
     "grade": false,
     "grade_id": "cell-de0a0a081f87a48d",
     "locked": true,
     "schema_version": 3,
     "solution": false,
     "task": false
    },
    "tags": []
   },
   "source": [
    "#### Enter Your Reflection Above this Cell ####"
   ]
  }
 ],
 "metadata": {
  "kernelspec": {
   "display_name": "Python 3 (ipykernel)",
   "language": "python",
   "name": "python3"
  },
  "language_info": {
   "codemirror_mode": {
    "name": "ipython",
    "version": 3
   },
   "file_extension": ".py",
   "mimetype": "text/x-python",
   "name": "python",
   "nbconvert_exporter": "python",
   "pygments_lexer": "ipython3",
   "version": "3.9.12"
  }
 },
 "nbformat": 4,
 "nbformat_minor": 5
}
