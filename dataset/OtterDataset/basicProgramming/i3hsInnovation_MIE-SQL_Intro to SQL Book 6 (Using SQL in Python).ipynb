{
 "cells": [
  {
   "cell_type": "markdown",
   "metadata": {},
   "source": [
    "<img src=\"./intro_images/MIE.PNG\" width=\"100%\" align=\"left\" />"
   ]
  },
  {
   "cell_type": "markdown",
   "metadata": {},
   "source": [
    "<table style=\"float:right;\">\n",
    "    <tr>\n",
    "        <td>                      \n",
    "            <div style=\"text-align: right\"><a href=\"https://alandavies.netlify.com\" target=\"_blank\">Dr Alan Davies</a></div>\n",
    "            <div style=\"text-align: right\">Senior Lecturer health data science</div>\n",
    "            <div style=\"text-align: right\">University of Manchester</div>\n",
    "         </td>\n",
    "         <td>\n",
    "             <img src=\"./intro_images/alan.PNG\" width=\"30%\" />\n",
    "         </td>\n",
    "     </tr>\n",
    "</table>"
   ]
  },
  {
   "cell_type": "markdown",
   "metadata": {},
   "source": [
    "# 6.0 Using SQL in Python\n",
    "****"
   ]
  },
  {
   "cell_type": "markdown",
   "metadata": {},
   "source": [
    "#### About this Notebook\n",
    "This notebook introduces the concept of using SQL in another programming language (Python). This includes using the SQL directly or via Object Relational Mapping (ORM)."
   ]
  },
  {
   "cell_type": "markdown",
   "metadata": {},
   "source": [
    "<div class=\"alert alert-block alert-warning\"><b>Learning Objectives:</b> \n",
    "<br/> At the end of this notebook you will be able to:\n",
    "    \n",
    "- Investigate key features of applying SQL in Python\n",
    "\n",
    "- Explore and practice using ORM in Python\n",
    "\n",
    "</div> "
   ]
  },
  {
   "cell_type": "markdown",
   "metadata": {},
   "source": [
    "<a id=\"top\"></a>\n",
    "\n",
    "<b>Table of contents</b><br>\n",
    "\n",
    "6.1 [Using SQL in Python](#sql)\n",
    "\n",
    "6.2 [Object-Relational Mapping](#orm)"
   ]
  },
  {
   "cell_type": "markdown",
   "metadata": {},
   "source": [
    "We have looked at Python in previous notebooks and in this series at using SQL. Here we look at how we can use both Python and SQL together. This is typical of many modern programs that use databases at their core. Instead of using the SQL inline in the notebook we will now use the Python <code>sqlite3</code> library to connect to a database file."
   ]
  },
  {
   "cell_type": "markdown",
   "metadata": {},
   "source": [
    "<div class=\"alert alert-success\">\n",
    "<b>Note:</b> The previous knowledge gained about how SQL works will help make more sense of how to use SQL in Python. In some cases it may be easier to first write the code in SQL and transfer it into Python until you become more familiar with the Python libraries.\n",
    "</div>"
   ]
  },
  {
   "cell_type": "markdown",
   "metadata": {},
   "source": [
    "<a id=\"sql\"></a>\n",
    "#### 6.1 Using SQL in Python"
   ]
  },
  {
   "cell_type": "code",
   "execution_count": 1,
   "metadata": {},
   "outputs": [
    {
     "name": "stdout",
     "output_type": "stream",
     "text": [
      "(1, 'Alan Smith', 24, 'M', '120/70', 78)\n",
      "(2, 'Maureen Gdiver', 87, 'F', '156/82', 82)\n",
      "(3, 'Adam Blythe', 54, 'M', '132/73', 72)\n",
      "(4, 'Darren Sanders', 34, 'M', '155/67', 67)\n",
      "(5, 'Sally-Ann Joyce', 19, 'F', '121/72', 65)\n"
     ]
    }
   ],
   "source": [
    "import sqlite3\n",
    "med_data_db = sqlite3.connect(\"medical_db.db\") \n",
    "cursor = med_data_db.cursor()\n",
    "cursor.execute(\"SELECT * FROM med_data;\")\n",
    "results = cursor.fetchall()\n",
    "\n",
    "for result in results:\n",
    "    print(result)\n",
    "    \n",
    "cursor.close()\n",
    "med_data_db.close()"
   ]
  },
  {
   "cell_type": "markdown",
   "metadata": {},
   "source": [
    "There is a lot going on here. Firstly I made a database file called <code>medical_db.db</code> and I recreated the <code>med_data</code> table we created in previous examples in that file. Next we load the <code>sqlite3</code> library. We then make a connection to the database using a variable I am calling <code>med_data_db</code>. We then make a <code>cursor</code>. This essentially lets us iterate over a set of records. We then use this to execute an SQL command. The command <code>SELECT * FROM med_data;</code> should be familiar to you by now. We then store the results in a variable and iterate through them in a loop. Finally we close the cursor and the connection to the database when we are done."
   ]
  },
  {
   "cell_type": "markdown",
   "metadata": {},
   "source": [
    "Now we have the data stored in the <code>results</code> variable, we can access it like a regular Python data structure. So I can view all of the record or a specific part:"
   ]
  },
  {
   "cell_type": "code",
   "execution_count": 4,
   "metadata": {},
   "outputs": [
    {
     "name": "stdout",
     "output_type": "stream",
     "text": [
      "(1, 'Alan Smith', 24, 'M', '120/70', 78)\n"
     ]
    }
   ],
   "source": [
    "print(results[0])"
   ]
  },
  {
   "cell_type": "code",
   "execution_count": 5,
   "metadata": {},
   "outputs": [
    {
     "name": "stdout",
     "output_type": "stream",
     "text": [
      "Alan Smith\n"
     ]
    }
   ],
   "source": [
    "print(results[0][1])"
   ]
  },
  {
   "cell_type": "code",
   "execution_count": 7,
   "metadata": {},
   "outputs": [
    {
     "name": "stdout",
     "output_type": "stream",
     "text": [
      "Patient: Alan Smith heart rate = 78\n"
     ]
    }
   ],
   "source": [
    "print(\"Patient:\", results[0][1], \"heart rate =\" ,results[0][5])"
   ]
  },
  {
   "cell_type": "markdown",
   "metadata": {},
   "source": [
    "<div class=\"alert alert-danger\">\n",
    "<b>Note:</b> We wouldn't typically try to read a whole database into a single variable. This might not be possible with a very large database and also would be very inefficient. Instead we would perform a query to return a subset of the data we are interested in using.\n",
    "</div>"
   ]
  },
  {
   "cell_type": "markdown",
   "metadata": {
    "collapsed": true
   },
   "source": [
    "This lets us integrate data stored in a database with the programs we create. Hopefully you can see how useful such methods are for building a complete application that interacts with data, which is a core component of software systems and used frequently in both data science and informatics projects. "
   ]
  },
  {
   "cell_type": "markdown",
   "metadata": {
    "collapsed": true,
    "solution2": "hidden",
    "solution2_first": true
   },
   "source": [
    "<div class=\"alert alert-block alert-info\">\n",
    "<b>Task 1:</b>\n",
    "<br> \n",
    "Print out the blood pressure for patient <code>Darren Sanders</code> with the patients name and unit of measure (mmHG).\n",
    "</div>"
   ]
  },
  {
   "cell_type": "code",
   "execution_count": 8,
   "metadata": {
    "solution2": "hidden"
   },
   "outputs": [
    {
     "name": "stdout",
     "output_type": "stream",
     "text": [
      "Darren Sanders blood pressure = 155/67 mmHG\n"
     ]
    }
   ],
   "source": [
    "print(results[3][1], \"blood pressure =\", results[3][4], \"mmHG\")"
   ]
  },
  {
   "cell_type": "code",
   "execution_count": null,
   "metadata": {
    "collapsed": true
   },
   "outputs": [],
   "source": [
    "# Type your code here\n"
   ]
  },
  {
   "cell_type": "markdown",
   "metadata": {
    "solution2": "hidden",
    "solution2_first": true
   },
   "source": [
    "<div class=\"alert alert-block alert-info\">\n",
    "<b>Task 2:</b>\n",
    "<br> \n",
    "Write a query to return all the patients details for patients over the age of 50 years. Print out the returned values with the Python <code>print()</code> function.\n",
    "</div>"
   ]
  },
  {
   "cell_type": "code",
   "execution_count": 16,
   "metadata": {
    "solution2": "hidden"
   },
   "outputs": [
    {
     "name": "stdout",
     "output_type": "stream",
     "text": [
      "(2, 'Maureen Gdiver', 87, 'F', '156/82', 82)\n",
      "(3, 'Adam Blythe', 54, 'M', '132/73', 72)\n"
     ]
    }
   ],
   "source": [
    "med_data_db = sqlite3.connect(\"medical_db.db\") \n",
    "cursor = med_data_db.cursor()\n",
    "cursor.execute(\"SELECT * FROM med_data WHERE Age > 50;\")\n",
    "results = cursor.fetchall()\n",
    "\n",
    "for result in results:\n",
    "    print(result)\n",
    "    \n",
    "cursor.close()\n",
    "med_data_db.close()"
   ]
  },
  {
   "cell_type": "code",
   "execution_count": null,
   "metadata": {
    "collapsed": true
   },
   "outputs": [],
   "source": [
    "# Type your code here\n"
   ]
  },
  {
   "cell_type": "markdown",
   "metadata": {},
   "source": [
    "<a id=\"orm\"></a>\n",
    "#### 6.2 Object-Relational Mapping"
   ]
  },
  {
   "cell_type": "markdown",
   "metadata": {},
   "source": [
    "The only issue with this approach is that you tend to have a mixture of Python and SQL code intermixed in your code. This also requires you to be proficient in both SQL and Python and can also be harder to maintain. One way to overcome this is to use a technique called <code>Object-Relational Mapping (ORM)</code>. This works by converting the data  using Object Orientated Programming techniques to make the conversion between otherwise incompatible systems. The mapping process maps tables in an SQL database to objects in Python. "
   ]
  },
  {
   "cell_type": "markdown",
   "metadata": {},
   "source": [
    "The figure below shows how this works. From the programmers perspective, they only ever deal with writing to and from Python objects (or whatever language they are using). The Object mapper converts this to SQL and queries the database returning data and converting it into objects. This way a developer doesn't need to mix SQL and Python in the same program. This also makes it easier to swap out database engines (say you wanted to change form SQLite to MySQL for instance) without rewriting large amounts of code."
   ]
  },
  {
   "cell_type": "markdown",
   "metadata": {
    "collapsed": true
   },
   "source": [
    "<img src=\"./intro_images/orm.PNG\" width=\"100%\" />"
   ]
  },
  {
   "cell_type": "markdown",
   "metadata": {},
   "source": [
    "Lets look at an example. First we will make the object to store the data in. We make one object per table in the database."
   ]
  },
  {
   "cell_type": "code",
   "execution_count": 2,
   "metadata": {
    "collapsed": true
   },
   "outputs": [],
   "source": [
    "from sqlalchemy import create_engine, MetaData, Table, Column, Integer, String, select\n",
    "engine = create_engine('sqlite:///medical_db.db', echo = False)\n",
    "meta = MetaData()\n",
    "\n",
    "med_data = Table(\n",
    "   'med_data', meta, \n",
    "   Column('id', Integer, primary_key = True), \n",
    "   Column('Name', String), \n",
    "   Column('Age', Integer),\n",
    "   Column('Sex', String),\n",
    "   Column('Blood pressure', String), \n",
    "   Column('Heart rate', String),\n",
    ")\n",
    "meta.create_all(engine)"
   ]
  },
  {
   "cell_type": "markdown",
   "metadata": {},
   "source": [
    "Here we import the <code>sqlalchemy</code> library and then load the database. We use the <code>Table</code> and <code>Column</code> functions to create an object to store the data from the SQL table along with its associated data type. Note that we are using an <code>SQLite</code> engine. We could swap this for a different vendor i.e. PostgreSQL or MySQL."
   ]
  },
  {
   "cell_type": "markdown",
   "metadata": {},
   "source": [
    "<div class=\"alert alert-success\">\n",
    "<b>Note:</b> By setting <code>echo = False</code> in the <code>create_engine</code> function, we just see the output. If we set it to <code>True</code>, we would also see the SQL statements it is executing behind the scenes. If you want to see what that looks like, change to <code>echo = True</code> and rerun the cell.\n",
    "</div>"
   ]
  },
  {
   "cell_type": "code",
   "execution_count": 3,
   "metadata": {},
   "outputs": [
    {
     "name": "stdout",
     "output_type": "stream",
     "text": [
      "(1, 'Alan Smith', 24, 'M', '120/70', 78)\n",
      "(2, 'Maureen Gdiver', 87, 'F', '156/82', 82)\n",
      "(3, 'Adam Blythe', 54, 'M', '132/73', 72)\n",
      "(4, 'Darren Sanders', 34, 'M', '155/67', 67)\n",
      "(5, 'Sally-Ann Joyce', 19, 'F', '121/72', 65)\n"
     ]
    }
   ],
   "source": [
    "data = med_data.select()\n",
    "conn = engine.connect()\n",
    "result = conn.execute(data)\n",
    "\n",
    "for each_row in result:\n",
    "    print(each_row)"
   ]
  },
  {
   "cell_type": "markdown",
   "metadata": {},
   "source": [
    "we can then create a command and execute it. We store the result in a variable that we can iterate through as before. Now we can perform queries just using Python code. This keeps all our code in a project in the same language. Below we see an example query to find all the females in the table (note the use of the Python double equal operator for equality). "
   ]
  },
  {
   "cell_type": "code",
   "execution_count": 4,
   "metadata": {},
   "outputs": [
    {
     "name": "stdout",
     "output_type": "stream",
     "text": [
      "(2, 'Maureen Gdiver', 87, 'F', '156/82', 82)\n",
      "(5, 'Sally-Ann Joyce', 19, 'F', '121/72', 65)\n"
     ]
    }
   ],
   "source": [
    "females = med_data.select().where(med_data.c.Sex == 'F')\n",
    "result = conn.execute(females)\n",
    "\n",
    "for each_row in result:\n",
    "    print(each_row)"
   ]
  },
  {
   "cell_type": "markdown",
   "metadata": {},
   "source": [
    "This query returns the 2 records where the <code>Sex</code> is female.  "
   ]
  },
  {
   "cell_type": "markdown",
   "metadata": {
    "collapsed": true,
    "solution2": "hidden",
    "solution2_first": true
   },
   "source": [
    "<div class=\"alert alert-block alert-info\">\n",
    "<b>Task 3:</b>\n",
    "<br> \n",
    "1. Using the <code>sqlalchemy</code> library, create a table object for the <code>drug_table</code> table that contains the following fields.<br />\n",
    "<code>\n",
    "id (primary key),\n",
    "medication (string),\n",
    "route (string),\n",
    "dose (string),\n",
    "patient_id (int),\n",
    "freq per day (int)\n",
    "</code>\n",
    "<br />\n",
    "2. Output the results of the table (print the entire table).<br />\n",
    "3. Write the following queries:<br />\n",
    "<ul>\n",
    "    <li>Return all records containing the drug <code>WARFARIN</code></li>\n",
    "    <li>Return all records where the frequency per day is more than 0 and less than 3</li>\n",
    "</ul>\n",
    "<br />\n",
    "Don't worry about making <code>patient_id</code> a foreign key for now, just treat it like a regular column.<br />\n",
    "<br />\n",
    "<strong>HINT:</strong> for the last task you will need to lookup and use the <code>and&#95;</code> function (<code>from sqlalchemy import and&#95;)</code>. Also for accessing columns that have spaces in their name, you would write <code>drug_table.c['freq per day']</code>.\n",
    "</div>"
   ]
  },
  {
   "cell_type": "code",
   "execution_count": 9,
   "metadata": {
    "collapsed": true,
    "solution2": "hidden"
   },
   "outputs": [],
   "source": [
    "drug_table = Table(\n",
    "   'drug_table', meta, \n",
    "   Column('id', Integer, primary_key = True), \n",
    "   Column('medication', String), \n",
    "   Column('route', String),\n",
    "   Column('dose', String),\n",
    "   Column('patient_id', Integer), \n",
    "   Column('freq per day', Integer)\n",
    ")\n",
    "meta.create_all(engine)"
   ]
  },
  {
   "cell_type": "code",
   "execution_count": 10,
   "metadata": {
    "solution2": "hidden"
   },
   "outputs": [
    {
     "name": "stdout",
     "output_type": "stream",
     "text": [
      "(1, 'AMOXICILLIN', 'PO', '500mg', 1, 3)\n",
      "(2, 'IRBESARTAN', 'PO', '150mg', 2, 1)\n",
      "(3, 'DIGOXIN', 'PO', '1.5mg', 2, 1)\n",
      "(4, 'SIMVASTATIN', 'PO', '40', 3, 1)\n",
      "(5, 'RAMIPRIL', 'PO', '2.5mg', 4, 1)\n",
      "(6, 'WARFARIN', 'PO', 'variable', 4, 1)\n",
      "(7, 'SENNA', 'PO', '15mg', 4, 1)\n",
      "(8, 'None', 'NA', 'NA', 5, 0)\n"
     ]
    }
   ],
   "source": [
    "data = drug_table.select()\n",
    "conn = engine.connect()\n",
    "result = conn.execute(data)\n",
    "\n",
    "for each_row in result:\n",
    "    print(each_row)"
   ]
  },
  {
   "cell_type": "code",
   "execution_count": 12,
   "metadata": {
    "solution2": "hidden"
   },
   "outputs": [
    {
     "name": "stdout",
     "output_type": "stream",
     "text": [
      "(6, 'WARFARIN', 'PO', 'variable', 4, 1)\n"
     ]
    }
   ],
   "source": [
    "warfarin = drug_table.select().where(drug_table.c.medication == 'WARFARIN')\n",
    "result = conn.execute(warfarin)\n",
    "\n",
    "for each_row in result:\n",
    "    print(each_row)"
   ]
  },
  {
   "cell_type": "code",
   "execution_count": 27,
   "metadata": {
    "solution2": "hidden"
   },
   "outputs": [
    {
     "name": "stdout",
     "output_type": "stream",
     "text": [
      "(2, 'IRBESARTAN', 'PO', '150mg', 2, 1)\n",
      "(3, 'DIGOXIN', 'PO', '1.5mg', 2, 1)\n",
      "(4, 'SIMVASTATIN', 'PO', '40', 3, 1)\n",
      "(5, 'RAMIPRIL', 'PO', '2.5mg', 4, 1)\n",
      "(6, 'WARFARIN', 'PO', 'variable', 4, 1)\n",
      "(7, 'SENNA', 'PO', '15mg', 4, 1)\n"
     ]
    }
   ],
   "source": [
    "from sqlalchemy import and_\n",
    "\n",
    "freq = drug_table.select().where(and_(drug_table.c['freq per day'] > 0, drug_table.c['freq per day'] < 3))\n",
    "result = conn.execute(freq)\n",
    "\n",
    "for each_row in result:\n",
    "    print(each_row)"
   ]
  },
  {
   "cell_type": "code",
   "execution_count": null,
   "metadata": {
    "collapsed": true
   },
   "outputs": [],
   "source": [
    "# Type your code here\n"
   ]
  },
  {
   "cell_type": "code",
   "execution_count": null,
   "metadata": {
    "collapsed": true
   },
   "outputs": [],
   "source": [
    "# Type your code here\n"
   ]
  },
  {
   "cell_type": "code",
   "execution_count": null,
   "metadata": {
    "collapsed": true
   },
   "outputs": [],
   "source": [
    "# Type your code here\n"
   ]
  },
  {
   "cell_type": "code",
   "execution_count": null,
   "metadata": {
    "collapsed": true
   },
   "outputs": [],
   "source": [
    "# Type your code here\n"
   ]
  },
  {
   "cell_type": "markdown",
   "metadata": {},
   "source": [
    "Another way you might see a table defined is like that below. This is now the SQLAlchemy standard and is referred to as <code>Declarative Mapping</code>."
   ]
  },
  {
   "cell_type": "code",
   "execution_count": 5,
   "metadata": {
    "collapsed": true
   },
   "outputs": [],
   "source": [
    "from sqlalchemy import Table, Column, Integer, String\n",
    "from sqlalchemy.ext.declarative import declarative_base\n",
    "\n",
    "Base = declarative_base()\n",
    "\n",
    "class DrugTable(Base):\n",
    "    __tablename__ = 'drug_table'\n",
    "    id = Column(Integer, primary_key = True)\n",
    "    medication = Column(String)\n",
    "    route = Column(String)\n",
    "    dose = Column(String)\n",
    "    patient_id = Column(Integer)\n",
    "    freq_per_day = Column(Integer)\n"
   ]
  },
  {
   "cell_type": "markdown",
   "metadata": {},
   "source": [
    "Here we are using the standard <code>class</code> to create a table. Each table would have a class. The table name is defined, as are the variables with the columns data types. We can now set the <code>patient_id</code> to be a <code>foreign key</code> to link the two tables."
   ]
  },
  {
   "cell_type": "code",
   "execution_count": 6,
   "metadata": {
    "collapsed": true
   },
   "outputs": [],
   "source": [
    "from sqlalchemy import ForeignKey\n",
    "from sqlalchemy.orm import relationship\n",
    "\n",
    "Base = declarative_base()\n",
    "\n",
    "class MedData(Base):\n",
    "    __tablename__ = 'med_data'\n",
    "    id = Column(Integer, primary_key = True)\n",
    "    name = Column(String)\n",
    "    age = Column(Integer)\n",
    "    sex = Column(String)\n",
    "    blood_pressure = Column(\"Blood pressure\", String)\n",
    "    heart_rate = Column(\"Heart rate\", String)\n",
    "    drug_table = relationship(\"DrugTable\", back_populates=\"med_data\")\n",
    "    \n",
    "class DrugTable(Base):\n",
    "    __tablename__ = 'drug_table'\n",
    "    id = Column(Integer, primary_key = True)\n",
    "    medication = Column(String)\n",
    "    route = Column(String)\n",
    "    dose = Column(String)\n",
    "    freq_per_day = Column(Integer)\n",
    "    patient_id = Column(Integer, ForeignKey('med_data.id'))\n",
    "    med_data = relationship(\"MedData\", back_populates=\"drug_table\")\n"
   ]
  },
  {
   "cell_type": "markdown",
   "metadata": {},
   "source": [
    "To create a <code>one-to-many</code> relationship we added the <code>relationship()</code> function to both the <code>MedData</code> and <code>DrugTable</code> classes. The <code>medications</code> variable creates a relationship with the <code>DrugTable</code> and the <code>med_data</code> variable links this with the <code>medications</code> variable. Note that the <code>patient_id</code> is now set as a foreign key using the <code>ForeignKey()</code> function to point to the <code>id</code> column in the <code>MedData</code> class."
   ]
  },
  {
   "cell_type": "markdown",
   "metadata": {},
   "source": [
    "To see the different types of relationship patterns, look at this link: <a href=\"https://docs.sqlalchemy.org/en/13/orm/basic_relationships.html\" target=\"_blank\">SQLAlchemy relationships</a>."
   ]
  },
  {
   "cell_type": "markdown",
   "metadata": {},
   "source": [
    "<div class=\"alert alert-success\">\n",
    "<b>Note:</b> Be careful to refer to the class name and table name in the correct places. Mixing these up is a common cause of error and the first thing you might want to check.\n",
    "</div>"
   ]
  },
  {
   "cell_type": "markdown",
   "metadata": {},
   "source": [
    "So now we have setup the classes to store the data, lets go ahead and use them. As before we start by creating an engine with the same database file we used previously."
   ]
  },
  {
   "cell_type": "code",
   "execution_count": 7,
   "metadata": {
    "collapsed": true
   },
   "outputs": [],
   "source": [
    "from sqlalchemy import create_engine\n",
    "engine = create_engine('sqlite:///medical_db.db', echo = False)"
   ]
  },
  {
   "cell_type": "markdown",
   "metadata": {},
   "source": [
    "We start by making an <code>instance</code> of the mapped class."
   ]
  },
  {
   "cell_type": "code",
   "execution_count": 8,
   "metadata": {},
   "outputs": [],
   "source": [
    "admission_data = MedData()\n",
    "medication_data = DrugTable()"
   ]
  },
  {
   "cell_type": "markdown",
   "metadata": {},
   "source": [
    "We then set up a <code>session</code>. This handles multiple users accessing our database through our application (possibly even at the same time if we have a lot of users)."
   ]
  },
  {
   "cell_type": "code",
   "execution_count": 9,
   "metadata": {},
   "outputs": [],
   "source": [
    "from sqlalchemy.orm import sessionmaker\n",
    "Session = sessionmaker(bind=engine)\n",
    "session = Session()\n",
    "session.add(admission_data)"
   ]
  },
  {
   "cell_type": "markdown",
   "metadata": {},
   "source": [
    "We can now query the database to return all the data."
   ]
  },
  {
   "cell_type": "code",
   "execution_count": 10,
   "metadata": {},
   "outputs": [
    {
     "name": "stdout",
     "output_type": "stream",
     "text": [
      "Alan Smith, 24, M, 120/70, 78\n",
      "Maureen Gdiver, 87, F, 156/82, 82\n",
      "Adam Blythe, 54, M, 132/73, 72\n",
      "Darren Sanders, 34, M, 155/67, 67\n",
      "Sally-Ann Joyce, 19, F, 121/72, 65\n",
      "None, None, None, None, None\n"
     ]
    }
   ],
   "source": [
    "patients = session.query(MedData).all()\n",
    "for pt in patients:\n",
    "    print(f'{pt.name}, {pt.age}, {pt.sex}, {pt.blood_pressure}, {pt.heart_rate}')"
   ]
  },
  {
   "cell_type": "markdown",
   "metadata": {},
   "source": [
    "We can also carry out specific queries as before. For example lets get all the heart rates more than 70 bpm."
   ]
  },
  {
   "cell_type": "code",
   "execution_count": 11,
   "metadata": {},
   "outputs": [
    {
     "name": "stdout",
     "output_type": "stream",
     "text": [
      "Alan Smith, 24, M, 120/70, 78\n",
      "Maureen Gdiver, 87, F, 156/82, 82\n",
      "Adam Blythe, 54, M, 132/73, 72\n"
     ]
    }
   ],
   "source": [
    "patients = session.query(MedData).filter(MedData.heart_rate > 70).all()\n",
    "for pt in patients:\n",
    "    print(f'{pt.name}, {pt.age}, {pt.sex}, {pt.blood_pressure}, {pt.heart_rate}')"
   ]
  },
  {
   "cell_type": "markdown",
   "metadata": {
    "solution2": "hidden",
    "solution2_first": true
   },
   "source": [
    "<div class=\"alert alert-block alert-info\">\n",
    "<b>Task 4:</b>\n",
    "<br> \n",
    "Write a query like the one above to return all the patients aged 30 and under.\n",
    "</div>"
   ]
  },
  {
   "cell_type": "code",
   "execution_count": 57,
   "metadata": {
    "solution2": "hidden"
   },
   "outputs": [
    {
     "name": "stdout",
     "output_type": "stream",
     "text": [
      "Alan Smith, 24, M, 120/70, 78\n",
      "Sally-Ann Joyce, 19, F, 121/72, 65\n"
     ]
    }
   ],
   "source": [
    "patients = session.query(MedData).filter(MedData.age <= 30).all()\n",
    "for pt in patients:\n",
    "    print(f'{pt.name}, {pt.age}, {pt.sex}, {pt.blood_pressure}, {pt.heart_rate}')"
   ]
  },
  {
   "cell_type": "code",
   "execution_count": null,
   "metadata": {
    "collapsed": true
   },
   "outputs": [],
   "source": [
    "# Type your code here\n"
   ]
  },
  {
   "cell_type": "markdown",
   "metadata": {
    "collapsed": true
   },
   "source": [
    "We can use a join to find all the patients that are taking medications ending with the letters 'IN'."
   ]
  },
  {
   "cell_type": "code",
   "execution_count": 16,
   "metadata": {},
   "outputs": [
    {
     "name": "stdout",
     "output_type": "stream",
     "text": [
      "Alan Smith, 24, M\n",
      "Maureen Gdiver, 87, F\n",
      "Adam Blythe, 54, M\n",
      "Darren Sanders, 34, M\n"
     ]
    }
   ],
   "source": [
    "hypertension_meds = session.query(MedData).join(DrugTable).filter(DrugTable.medication.ilike('%IN')).all()\n",
    "            \n",
    "for med in hypertension_meds:\n",
    "    print(f'{med.name}, {med.age}, {med.sex}')"
   ]
  },
  {
   "cell_type": "markdown",
   "metadata": {},
   "source": [
    "<div class=\"alert alert-success\">\n",
    "<b>Note:</b> Remember that the results returned are iterable (can be iterated over) and you may need to carry out further processing on the results to get them into the correct format for subsequent use. This is one of the most common issues with using these methods in Python that beginners tend to struggle with. Try outputting (printing) the raw results so you can see what kind of data structure they are returned in. This will give you a clue as to how to process them further to extract the exact required information.\n",
    "</div>"
   ]
  },
  {
   "cell_type": "markdown",
   "metadata": {},
   "source": [
    "Finally when we have finished interacting with our database we can close the session."
   ]
  },
  {
   "cell_type": "code",
   "execution_count": 17,
   "metadata": {
    "collapsed": true
   },
   "outputs": [],
   "source": [
    "session.close()"
   ]
  },
  {
   "cell_type": "markdown",
   "metadata": {
    "collapsed": true
   },
   "source": [
    "You have come to the end of the SQL notebooks. We have introduced you to the basic SQL commands and taken you right through to using SQL in Python and Object Relational Mapping. When you view the code in the skeleton project we have given you, we hope that this now makes more sense as it was constructed using the techniques we have covered with these notebooks. The dashboard uses ORM to load prescription data from the database for use in the dashboard. The system was built in Python with a web front end to provide a graphical interface to the data in the form of a dashboard. Modern software systems are made using multiple frameworks and libraries to help with the heavy lifting and prevent us having to reinvent the wheel. To use these frameworks and libraries, one must become familiar with their APIs (Application Programing Interfaces). The best way to do this is to start with the documentation. For example here is the documentation for <a href=\"https://docs.sqlalchemy.org/en/13/orm/tutorial.html#connecting\" target=\"_blank\">SQLAlchemy</a>. Sometimes people (including me) often find the documentation less than clear or intuitive. We get round this by searching for simple examples or tutorial blogs/videos on the internet. This is really the best way to learn, and professional software engineers and data scientists do this all the time. We recommend you start to do this if your are not already to help build on your skills and extend your knowledge. "
   ]
  },
  {
   "cell_type": "markdown",
   "metadata": {
    "collapsed": true
   },
   "source": [
    "### Notebook details\n",
    "<br>\n",
    "<i>Notebook created by <strong>Dr. Alan Davies</strong>\n",
    "\n",
    "Publish date: March 2021<br>\n",
    "Review date: March 2022</i>\n",
    "\n",
    "Please give your feedback using the button below:"
   ]
  },
  {
   "cell_type": "markdown",
   "metadata": {},
   "source": [
    "<a class=\"typeform-share button\" href=\"https://hub11.typeform.com/to/q2cwvhNu\" data-mode=\"popup\" style=\"display:inline-block;text-decoration:none;background-color:#3A7685;color:white;cursor:pointer;font-family:Helvetica,Arial,sans-serif;font-size:18px;line-height:45px;text-align:center;margin:0;height:45px;padding:0px 30px;border-radius:22px;max-width:100%;white-space:nowrap;overflow:hidden;text-overflow:ellipsis;font-weight:bold;-webkit-font-smoothing:antialiased;-moz-osx-font-smoothing:grayscale;\" target=\"_blank\">Rate this notebook </a> <script> (function() { var qs,js,q,s,d=document, gi=d.getElementById, ce=d.createElement, gt=d.getElementsByTagName, id=\"typef_orm_share\", b=\"https://embed.typeform.com/\"; if(!gi.call(d,id)){ js=ce.call(d,\"script\"); js.id=id; js.src=b+\"embed.js\"; q=gt.call(d,\"script\")[0]; q.parentNode.insertBefore(js,q) } })() </script>"
   ]
  },
  {
   "cell_type": "markdown",
   "metadata": {},
   "source": [
    "## Notes:"
   ]
  },
  {
   "cell_type": "code",
   "execution_count": null,
   "metadata": {},
   "outputs": [],
   "source": []
  },
  {
   "cell_type": "code",
   "execution_count": null,
   "metadata": {},
   "outputs": [],
   "source": []
  },
  {
   "cell_type": "code",
   "execution_count": null,
   "metadata": {},
   "outputs": [],
   "source": []
  }
 ],
 "metadata": {
  "hide_input": false,
  "kernelspec": {
   "display_name": "Python 3",
   "language": "python",
   "name": "python3"
  },
  "language_info": {
   "codemirror_mode": {
    "name": "ipython",
    "version": 3
   },
   "file_extension": ".py",
   "mimetype": "text/x-python",
   "name": "python",
   "nbconvert_exporter": "python",
   "pygments_lexer": "ipython3",
   "version": "3.7.6"
  }
 },
 "nbformat": 4,
 "nbformat_minor": 2
}
