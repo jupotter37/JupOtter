{
 "cells": [
  {
   "cell_type": "markdown",
   "metadata": {},
   "source": [
    "# PRAW Tutorial"
   ]
  },
  {
   "cell_type": "markdown",
   "metadata": {},
   "source": [
    "Use PRAW to use Reddit."
   ]
  },
  {
   "cell_type": "markdown",
   "metadata": {},
   "source": [
    "For setup, see [here](http://nbviewer.jupyter.org/github/yang-zhang/yang-zhang.github.io/blob/master/ds_app/reddit/reddit_setup.ipynb)."
   ]
  },
  {
   "cell_type": "code",
   "execution_count": 1,
   "metadata": {
    "collapsed": true
   },
   "outputs": [],
   "source": [
    "from secrets import REDDIT_USER_NAME, REDDIT_PASSWORD, APP_CLIENT_ID, APP_CLIENT_SECRET"
   ]
  },
  {
   "cell_type": "code",
   "execution_count": 2,
   "metadata": {},
   "outputs": [
    {
     "name": "stdout",
     "output_type": "stream",
     "text": [
      "Version 5.0.1 of praw is outdated. Version 5.1.0 was released Friday September 01, 2017.\n"
     ]
    }
   ],
   "source": [
    "import praw\n",
    "reddit = praw.Reddit(client_id=APP_CLIENT_ID, \n",
    "                     client_secret=APP_CLIENT_SECRET,\n",
    "                     password=REDDIT_PASSWORD, \n",
    "                     user_agent=\"test:com.example.myredditapp:v0.0.0 (by /u/yang-zhang)\",\n",
    "                     username=REDDIT_USER_NAME)"
   ]
  },
  {
   "cell_type": "markdown",
   "metadata": {},
   "source": [
    "## Reddit"
   ]
  },
  {
   "cell_type": "code",
   "execution_count": 3,
   "metadata": {},
   "outputs": [
    {
     "name": "stdout",
     "output_type": "stream",
     "text": [
      "How I went from no coding or machine learning experience to data scientist job offer in 20 months. \n",
      "\n",
      "Every article about python decorators be like... \n",
      "\n",
      "Strongly Typed Languages Reduce Bugs by 15% \n",
      "\n"
     ]
    }
   ],
   "source": [
    "for submission in reddit.front.hot(limit=3):\n",
    "    print(submission.title, '\\n')"
   ]
  },
  {
   "cell_type": "code",
   "execution_count": 5,
   "metadata": {},
   "outputs": [
    {
     "name": "stdout",
     "output_type": "stream",
     "text": [
      "Immortals vs. Team SoloMid / 2017 NA LCS Summer Playoffs - Final / Post-Match Discussion \n",
      "\n",
      "Nathan Filliom gets it.... \n",
      "\n",
      "Installing PC games sure is difficult \n",
      "\n"
     ]
    }
   ],
   "source": [
    "all_ = reddit.subreddit('all')\n",
    "for submission in all_.hot(limit=3):\n",
    "    print(submission.title, '\\n')"
   ]
  },
  {
   "cell_type": "markdown",
   "metadata": {},
   "source": [
    "## Me"
   ]
  },
  {
   "cell_type": "code",
   "execution_count": 6,
   "metadata": {
    "scrolled": true
   },
   "outputs": [
    {
     "data": {
      "text/plain": [
       "Redditor(name='yang-zhang')"
      ]
     },
     "execution_count": 6,
     "metadata": {},
     "output_type": "execute_result"
    }
   ],
   "source": [
    "me = reddit.user.me()\n",
    "me"
   ]
  },
  {
   "cell_type": "markdown",
   "metadata": {},
   "source": [
    "Get my subscriptions"
   ]
  },
  {
   "cell_type": "code",
   "execution_count": 7,
   "metadata": {},
   "outputs": [
    {
     "data": {
      "text/plain": [
       "[Subreddit(display_name='programming'),\n",
       " Subreddit(display_name='Python'),\n",
       " Subreddit(display_name='statistics'),\n",
       " Subreddit(display_name='MachineLearning'),\n",
       " Subreddit(display_name='learnprogramming'),\n",
       " Subreddit(display_name='learnpython'),\n",
       " Subreddit(display_name='golang'),\n",
       " Subreddit(display_name='datascience'),\n",
       " Subreddit(display_name='DataScienceJobs'),\n",
       " Subreddit(display_name='MLQuestions'),\n",
       " Subreddit(display_name='datasciencenews'),\n",
       " Subreddit(display_name='learndatascience'),\n",
       " Subreddit(display_name='pythonforengineers'),\n",
       " Subreddit(display_name='learngolang'),\n",
       " Subreddit(display_name='learnmachinelearning'),\n",
       " Subreddit(display_name='pythontips')]"
      ]
     },
     "execution_count": 7,
     "metadata": {},
     "output_type": "execute_result"
    }
   ],
   "source": [
    "list(reddit.user.subreddits(limit=None))"
   ]
  },
  {
   "cell_type": "markdown",
   "metadata": {},
   "source": [
    "What articles have I saved?"
   ]
  },
  {
   "cell_type": "code",
   "execution_count": 36,
   "metadata": {
    "scrolled": false
   },
   "outputs": [
    {
     "name": "stdout",
     "output_type": "stream",
     "text": [
      "TITLE: Want to help reddit build a recommender? -- A public dump of voting data that our users have donated for research\n",
      "BODY: submission.selftext and submission.url\n",
      "\n",
      "When looking for an object's properties, try doing dir(object), and it will show you a list of its methods and attributes.\n",
      "TITLE: Quick \"build-a-bot\" tutorial\n",
      "TITLE: People who have worked for 20+ years, how did you adapt to the changes in technology?\n"
     ]
    }
   ],
   "source": [
    "for saved in me.saved():\n",
    "    if isinstance(saved, praw.models.Submission):\n",
    "        print('TITLE:', saved.title)\n",
    "    else:\n",
    "        print('BODY:', saved.body)"
   ]
  },
  {
   "cell_type": "markdown",
   "metadata": {},
   "source": [
    "## Subreddit"
   ]
  },
  {
   "cell_type": "code",
   "execution_count": 57,
   "metadata": {
    "collapsed": true
   },
   "outputs": [],
   "source": [
    "subreddit = reddit.subreddit('datascience')"
   ]
  },
  {
   "cell_type": "code",
   "execution_count": 58,
   "metadata": {},
   "outputs": [
    {
     "name": "stdout",
     "output_type": "stream",
     "text": [
      "*****\n",
      "##[How to get user flair](https://www.reddit.com/r/datascience/comments/6lrrle/meta_now_accepting_user_flair_requests/) - (NEW!)\n",
      "*****\n",
      "\n",
      "Welcome to /r/datascience, a place to discuss data, data science, becoming a data scientist, data munging, and more!\n",
      "\n",
      "*****\n",
      "###Data Science Related Subreddits\n",
      "\n",
      "**Related Applications**\n",
      "\n",
      "* /r/analytics\n",
      "* /r/bigdata_analytics/\n",
      "* /r/bigdata\n",
      "* /r/BusinessIntelligence/\n",
      "* /r/visualization\n",
      "\n",
      "\n",
      "**Related Methods**\n",
      "\n",
      "* /r/machinelearning\n",
      "* /r/statistics\n",
      "* /r/rstats\n",
      "* /r/pystats\n",
      "* /r/datasets\n",
      "\n",
      "**Related Help**\n",
      "\n",
      "* /r/AskStatistics\n",
      "* /r/learnmachinelearning \n",
      "* /r/MLQuestions/\n",
      "\n",
      "*****\n",
      "\n",
      "###r/datascience Curated Content\n",
      "* [Official Podcast List](https://www.reddit.com/r/datascience/wiki/podcasts)\n",
      "\n",
      "*****\n",
      "\n",
      "###Where to start\n",
      "\n",
      "If you're brand new to this subreddit and want to ask a question, please use the search functionality first before posting. This way you can search if someone has already asked your question. You can use the search form on this page, or visit the following link which will allow you to search only this subreddit => [Data Science Subreddit Search](https://www.reddit.com/search?q=subreddit%3Adatascience&restrict_sr=&sort=relevance&t=all)\n",
      "\n",
      "*****\n",
      "\n",
      "###Rules of The Road\n",
      "\n",
      "* Be fair\n",
      "* Be patient\n",
      "* Be helpful\n",
      "* [Read This](https://www.reddit.com/r/datascience/comments/6njyw2/meta_the_future_of_rdatascience_and_its_moderation/)\n",
      "\n",
      "***\n",
      "\n",
      "###Post Suggestions\n",
      "\n",
      "* Anything you think is worthy of discussion\n",
      "* No Listicles (N free videos, Y free book, Z free courses, etc...)\n",
      "* No \"Best of\" posts that are just lists - rather than show a list, contribute a post that describes your top choice \n",
      "* Remember the reddit self-promotion rule of thumb: \"\"For every 1 time you post self-promotional content, 9 other posts (submissions or comments) should not contain self-promotional content.\"\"\n",
      "* If cross-posting, please put it in the title - it is very helpful to see what other discussions are happening elsewhere on Reddit.\n"
     ]
    }
   ],
   "source": [
    "print(subreddit.description)"
   ]
  },
  {
   "cell_type": "code",
   "execution_count": 59,
   "metadata": {
    "scrolled": true
   },
   "outputs": [
    {
     "name": "stdout",
     "output_type": "stream",
     "text": [
      "xkcd: Machine Learning \n",
      "\n",
      "I need to print this out and put it on my cube. \n",
      "\n",
      "Some advice for young and aspiring Data Scientists \n",
      "\n",
      "I hire data scientists - this is the stuff this forum doesn't discuss enough...: \n",
      "\n",
      "Cheat Sheets for R and Python \n",
      "\n",
      "This is an OUTSTANDING resource for Python data science: whole book as free Jupyter notebooks \n",
      "\n",
      "Difference between false positive and false negative \n",
      "\n",
      "What are the best Data Science-related Podcasts? \n",
      "\n",
      "Python overtakes R as the leading language in Data Science \n",
      "\n",
      "Thank you community, I got a job today \n",
      "\n"
     ]
    }
   ],
   "source": [
    "for submission in subreddit.top(limit=10):\n",
    "    print(submission.title, '\\n')"
   ]
  },
  {
   "cell_type": "markdown",
   "metadata": {},
   "source": [
    "Sum of subreddits"
   ]
  },
  {
   "cell_type": "code",
   "execution_count": 60,
   "metadata": {
    "scrolled": false
   },
   "outputs": [
    {
     "name": "stdout",
     "output_type": "stream",
     "text": [
      "We started late, but we managed to leave Python footprint on r/place! \n",
      "\n",
      "Python Section at Foyle's, London \n",
      "\n",
      "He's a Parsertongue. \n",
      "\n",
      "The Microsoft Excel team has responded to this suggestion to integrate Python with Excel. Can we show it some Reddit love? \n",
      "\n",
      "Python for Scientists and Engineers is Now Free to Read Online \n",
      "\n"
     ]
    }
   ],
   "source": [
    "subreddit = reddit.subreddit('datascience+python+learnpython')\n",
    "for submission in subreddit.top(limit=5):\n",
    "    print(submission.title, '\\n')"
   ]
  },
  {
   "cell_type": "markdown",
   "metadata": {},
   "source": [
    "## Submission"
   ]
  },
  {
   "cell_type": "code",
   "execution_count": 93,
   "metadata": {},
   "outputs": [
    {
     "data": {
      "text/plain": [
       "Submission(id='6bat6d')"
      ]
     },
     "execution_count": 93,
     "metadata": {},
     "output_type": "execute_result"
    }
   ],
   "source": [
    "submission"
   ]
  },
  {
   "cell_type": "code",
   "execution_count": 99,
   "metadata": {
    "scrolled": true
   },
   "outputs": [
    {
     "data": {
      "text/plain": [
       "'Python for Scientists and Engineers is Now Free to Read Online'"
      ]
     },
     "execution_count": 99,
     "metadata": {},
     "output_type": "execute_result"
    }
   ],
   "source": [
    "submission.title"
   ]
  },
  {
   "cell_type": "code",
   "execution_count": 95,
   "metadata": {
    "collapsed": true
   },
   "outputs": [
    {
     "name": "stdout",
     "output_type": "stream",
     "text": [
      "Hello /r/python,\n",
      "\n",
      "Python for Scientists and Engineers was the first book I wrote, and the one I still get queries about.  It had been out of print for more than a year, but I could never get myself to update it, because it looked like too much work.\n",
      "\n",
      "Recently, I asked for help in updating it, and a few people volunteered. Thanks to these volunteers, the book is now free to read online (and will remain so). \n",
      "\n",
      "The book assumes you already know Python, or any other language. I feel there are too many resources for beginners, and not enough for intermediate/advanced programmers.\n",
      "\n",
      "Anyway, check it out here:\n",
      "\n",
      "[http://pythonforengineers.com/python-for-scientists-and-engineers/](http://pythonforengineers.com/python-for-scientists-and-engineers/)\n",
      "\n",
      "Cheers,\n",
      "Shantnu \n",
      "\n",
      "\n",
      "\n",
      "\n",
      "\n"
     ]
    }
   ],
   "source": [
    "print(submission.selftext)"
   ]
  },
  {
   "cell_type": "code",
   "execution_count": 112,
   "metadata": {
    "collapsed": true
   },
   "outputs": [],
   "source": [
    "multi = reddit.multireddit('yang-zhang', 'work')"
   ]
  },
  {
   "cell_type": "code",
   "execution_count": 115,
   "metadata": {
    "scrolled": true
   },
   "outputs": [
    {
     "name": "stdout",
     "output_type": "stream",
     "text": [
      "Accidentally destroyed production database on first day of a job, and was told to leave, on top of this i was told by the CTO that they need to get legal involved, how screwed am i?\n",
      "Google wins trial against Oracle as jury finds Android is “fair use”\n",
      "Eye tracking software for sufferers of ALS/MND can cost tens of thousands of dollars, so I've spent 3.5 years of my spare time writing a free & open-source alternative - meet OptiKey (C#, Rx, WPF) (x-post from r/Software)\n"
     ]
    }
   ],
   "source": [
    "for s in multi.top(limit=3):\n",
    "    print(s.title)"
   ]
  },
  {
   "cell_type": "markdown",
   "metadata": {
    "collapsed": true
   },
   "source": [
    "## Redditor"
   ]
  },
  {
   "cell_type": "code",
   "execution_count": 121,
   "metadata": {},
   "outputs": [
    {
     "data": {
      "text/plain": [
       "'f3v27'"
      ]
     },
     "execution_count": 121,
     "metadata": {},
     "output_type": "execute_result"
    }
   ],
   "source": [
    "submission.author.id"
   ]
  },
  {
   "cell_type": "code",
   "execution_count": 119,
   "metadata": {},
   "outputs": [
    {
     "data": {
      "text/plain": [
       "praw.models.reddit.redditor.Redditor"
      ]
     },
     "execution_count": 119,
     "metadata": {},
     "output_type": "execute_result"
    }
   ],
   "source": [
    "praw.models.Redditor"
   ]
  }
 ],
 "metadata": {
  "kernelspec": {
   "display_name": "Python 3",
   "language": "python",
   "name": "python3"
  },
  "language_info": {
   "codemirror_mode": {
    "name": "ipython",
    "version": 3
   },
   "file_extension": ".py",
   "mimetype": "text/x-python",
   "name": "python",
   "nbconvert_exporter": "python",
   "pygments_lexer": "ipython3",
   "version": "3.6.1"
  },
  "toc": {
   "colors": {
    "hover_highlight": "#DAA520",
    "navigate_num": "#000000",
    "navigate_text": "#333333",
    "running_highlight": "#FF0000",
    "selected_highlight": "#FFD700",
    "sidebar_border": "#EEEEEE",
    "wrapper_background": "#FFFFFF"
   },
   "moveMenuLeft": true,
   "nav_menu": {
    "height": "12px",
    "width": "252px"
   },
   "navigate_menu": true,
   "number_sections": true,
   "sideBar": true,
   "threshold": 4,
   "toc_cell": false,
   "toc_section_display": "block",
   "toc_window_display": true,
   "widenNotebook": false
  }
 },
 "nbformat": 4,
 "nbformat_minor": 2
}
