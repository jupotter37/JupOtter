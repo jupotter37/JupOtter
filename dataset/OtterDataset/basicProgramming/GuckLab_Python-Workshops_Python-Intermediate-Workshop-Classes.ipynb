{
 "cells": [
  {
   "cell_type": "markdown",
   "id": "floating-terrorist",
   "metadata": {
    "pycharm": {
     "name": "#%% md\n"
    }
   },
   "source": [
    "# Welcome to the Intermediate Python Workshops\n",
    "\n",
    "## Classes\n",
    "\n",
    "This notebooks will give you an intermediate introduction to Python classes.\n",
    "Corey Schafer has a nice series aimed at beginners/intermediate-level programmers [here](https://www.youtube.com/watch?v=ZDa-Z5JzLYM&list=PL-osiE80TeTsqhIuOqKhwlXsIBIdSeYtc).\n",
    "\n",
    "Eoghan O'Connell, Guck Division, MPL, 2023"
   ]
  },
  {
   "cell_type": "code",
   "execution_count": null,
   "id": "young-conjunction",
   "metadata": {
    "pycharm": {
     "name": "#%%\n"
    }
   },
   "outputs": [],
   "source": [
    "# notebook metadata you can ignore!\n",
    "info = {\"topic\": [\"classes\"],\n",
    "        \"version\" : \"0.0.7\"}"
   ]
  },
  {
   "cell_type": "markdown",
   "id": "enabling-madrid",
   "metadata": {
    "pycharm": {
     "name": "#%% md\n"
    }
   },
   "source": [
    "### How to use this notebook\n",
    "\n",
    "- Click on a cell (each box is called a cell). Hit \"shift+enter\", this will run the cell!\n",
    "- You can run the cells in any order!\n",
    "- The output of runnable code is printed below the cell.\n",
    "- Check out this [Jupyter Notebook Tutorial video](https://www.youtube.com/watch?v=HW29067qVWk).\n",
    "\n",
    "See the help tab above for more information!\n"
   ]
  },
  {
   "cell_type": "markdown",
   "id": "ahead-adventure",
   "metadata": {
    "pycharm": {
     "name": "#%% md\n"
    }
   },
   "source": [
    "# What is in this Workshop?\n",
    "In this notebook we cover:\n",
    "- What is a Class\n",
    "  - why/when to use it (DRY, remove interdependence)\n",
    "- Object oriented programming. Classes as objects (__name___ etc.)\n",
    "- Creating a class\n",
    "  - Instantiation\n",
    "  - The init method\n",
    "- Basic Attributes\n",
    "- Basic Methods\n",
    "- Advanced Attributes\n",
    "  - class variables\n",
    "- Advanced Methods\n",
    "  - Instance, class and static methods\n",
    "  - “private”, dunder methods\n",
    "  - Decorators: getter, setter, property\n",
    "- Inheritance (children)\n",
    "  - Inheritance\n",
    "  - Composition\n",
    "- Abstract classes\n",
    "- Docstrings"
   ]
  },
  {
   "cell_type": "markdown",
   "id": "74efd9ab",
   "metadata": {
    "pycharm": {
     "name": "#%% md\n"
    }
   },
   "source": [
    "-----------\n",
    "## What is a Class\n",
    "  - Logically groups related data and functions as objects\n",
    "       - Example: A Door is an object with:\n",
    "          - Data (attributes): colour, height, width\n",
    "          - Functions (methods): open, close, lock\n",
    "\n",
    "## Why do we use class?\n",
    "  - Allows us to group code relating to a specific object – clean OOP\n",
    "  - Changing the code only has to be done in one place!\n",
    "\n",
    "## When to use a class?\n",
    "  - Anytime you have code that:\n",
    "      - Does one thing that is too complicated for a single function\n",
    "      - Will be reused\n",
    "      - You need to “store” or change information about an object during the code\n",
    "\n",
    "## Object Oriented Programming\n",
    "\n",
    "Using objects (class) to operate (method) on data (attribute). These objects (classes) are resusable and can store data (attributes).\n",
    "This will become clear when we see some examples!\n",
    "\n",
    "### Class Example:\n",
    "Create a simple class: the **Door** object (yes, really, we are going to talk about doors!)\n",
    "\n",
    "This is specific, describes one object, the object has attributes and methods, and there can be many instances of doors!\n",
    "Let's see how it looks on its own...\n"
   ]
  },
  {
   "cell_type": "code",
   "execution_count": null,
   "id": "d8613c36",
   "metadata": {
    "pycharm": {
     "name": "#%%\n"
    }
   },
   "outputs": [],
   "source": [
    "# create the door class with the CamelCase naming convention\n",
    "\n",
    "class Door:\n",
    "    # this is the class! Simple!\n",
    "    pass\n",
    "\n",
    "# instantiate an instance of the class i.e. \"use\" the class\n",
    "\n",
    "my_door = Door()\n",
    "print(my_door)\n",
    "\n",
    "# has the word door started to look weird by now?"
   ]
  },
  {
   "cell_type": "raw",
   "id": "fe983176",
   "metadata": {
    "pycharm": {
     "name": "#%% raw\n"
    }
   },
   "source": [
    "You can imagine that you might need to have another instance (version) of a door:"
   ]
  },
  {
   "cell_type": "code",
   "execution_count": null,
   "id": "9a7fa6eb",
   "metadata": {
    "pycharm": {
     "name": "#%%\n"
    }
   },
   "outputs": [],
   "source": [
    "kitchen_door = Door()\n",
    "print(kitchen_door)\n",
    "\n",
    "# notice how the memory locations are different! These are different instances (versions) of the Door class"
   ]
  },
  {
   "cell_type": "markdown",
   "id": "840c8c74",
   "metadata": {
    "pycharm": {
     "name": "#%% md\n"
    }
   },
   "source": [
    "Let's give our Door class some functionality!"
   ]
  },
  {
   "cell_type": "code",
   "execution_count": null,
   "id": "637d9bde",
   "metadata": {
    "pycharm": {
     "name": "#%%\n"
    }
   },
   "outputs": [],
   "source": [
    "class Door:\n",
    "    def __init__(self):\n",
    "        self.colour = 'blue'\n",
    "    \n",
    "    def paint_door(self, new_colour):\n",
    "        self.colour = new_colour\n"
   ]
  },
  {
   "cell_type": "markdown",
   "id": "00816a45",
   "metadata": {
    "pycharm": {
     "name": "#%% md\n"
    }
   },
   "source": [
    "Wait a minute, we just added lots of things to the class. Let's go through them one-by-one:\n",
    "\n",
    "- `def __init__(self):`\n",
    "  - The `__init__` method is used during instantiation of the class. [It is called the \"constructor\"](https://pythonbasics.org/constructor/). It is the first thing that will be run!\n",
    "    - a method is just a function that belongs to a class\n",
    "  - `self` just refers to the class instance (\"itself\"), and is required by all instance methods\n",
    "    - an instance method is the normal method you will use for classes\n",
    "  - `self.colour` is an attribute of the class. It stores some data within the class. You can access this data easily!\n",
    "  - `self.paint_door` is a method of the class. It can be used to operate on attributes stored in the class.\n"
   ]
  },
  {
   "cell_type": "code",
   "execution_count": null,
   "id": "4f3f5ab6",
   "metadata": {
    "pycharm": {
     "name": "#%%\n"
    }
   },
   "outputs": [],
   "source": [
    "# let's access the colour attribute (data) of the class\n",
    "bathroom_door = Door()\n",
    "\n",
    "print(bathroom_door.colour)\n",
    "\n",
    "bathroom_door.paint_door(new_colour='yellow')\n",
    "\n",
    "print(bathroom_door.colour)\n"
   ]
  },
  {
   "cell_type": "markdown",
   "id": "06516ae4",
   "metadata": {
    "pycharm": {
     "name": "#%% md\n"
    }
   },
   "source": [
    "This is **Object Oriented Programming**! Using the objects (class) to operate (method) on data (attribute).\n",
    "\n",
    "I mention using **methods** and **attributes**, let's first learn about attributes and then create our own method for our Door class:"
   ]
  },
  {
   "cell_type": "markdown",
   "id": "811cc2f0",
   "metadata": {
    "pycharm": {
     "name": "#%% md\n"
    }
   },
   "source": [
    "-----------\n",
    "## Basic Attributes\n",
    "\n",
    "Attributes are just the data stored in the class. Let's look at some simple examples. \n",
    "\n",
    "We will talk about more advanced attributes later."
   ]
  },
  {
   "cell_type": "code",
   "execution_count": null,
   "id": "85bd6615",
   "metadata": {
    "pycharm": {
     "name": "#%%\n"
    }
   },
   "outputs": [],
   "source": [
    "class Door:\n",
    "    def __init__(self):\n",
    "        # usually all of the instance methods are defined in the __init__ method\n",
    "        self.colour = 'yellow'\n",
    "        self.door_is_open = 'unknown'\n",
    "        self.height = None\n",
    "        self.width = None\n",
    "        self.thickness = None\n",
    "        self.number_of_locks = 1\n",
    "\n",
    "    def door_info(self):\n",
    "        print(f'{self.__dict__}')\n",
    "\n",
    "\n",
    "front_door = Door()"
   ]
  },
  {
   "cell_type": "code",
   "execution_count": null,
   "id": "5092c8ce",
   "metadata": {
    "pycharm": {
     "name": "#%%\n"
    }
   },
   "outputs": [],
   "source": [
    "print(front_door.colour)\n",
    "front_door.colour = 'blue'\n",
    "print(front_door.colour)"
   ]
  },
  {
   "cell_type": "code",
   "execution_count": null,
   "id": "e7b0cf83",
   "metadata": {
    "pycharm": {
     "name": "#%%\n"
    }
   },
   "outputs": [],
   "source": [
    "front_door.height = 2.5\n",
    "front_door.width = 1\n",
    "front_door.thickness = 0.2"
   ]
  },
  {
   "cell_type": "code",
   "execution_count": null,
   "id": "5ead7562",
   "metadata": {
    "pycharm": {
     "name": "#%%\n"
    }
   },
   "outputs": [],
   "source": [
    "# use our convenience method to look at all the instance variables\n",
    "front_door.door_info()"
   ]
  },
  {
   "cell_type": "markdown",
   "id": "7b88d40b",
   "metadata": {
    "pycharm": {
     "name": "#%% md\n"
    }
   },
   "source": [
    "The class can store anything as attributes (variables); arrays, datasets, dataframes, numbers, strings etc.\n",
    "\n",
    "With methods, we can operate on the attributes (data) stored in the class! Here is where things get interesting!"
   ]
  },
  {
   "cell_type": "markdown",
   "id": "e5a41fc6",
   "metadata": {
    "pycharm": {
     "name": "#%% md\n"
    }
   },
   "source": [
    "-----------\n",
    "## Basic Methods\n",
    "\n",
    "We have learned about functions, and have seen some \"methods\" above.\n",
    "In this section we will learn about methods, specifically instance methods. Later we will see different types of methods.\n"
   ]
  },
  {
   "cell_type": "code",
   "execution_count": null,
   "id": "96f45f9f",
   "metadata": {
    "pycharm": {
     "name": "#%%\n"
    }
   },
   "outputs": [],
   "source": [
    "class Door:\n",
    "    def __init__(self):\n",
    "        self.colour = 'red'\n",
    "        self.door_is_open = 'unknown'\n",
    "    \n",
    "    def open_door(self):\n",
    "        self.door_is_open = \"Yes\""
   ]
  },
  {
   "cell_type": "markdown",
   "id": "65c7dcab",
   "metadata": {
    "pycharm": {
     "name": "#%% md\n"
    }
   },
   "source": [
    "Now we can use the `open_door` method! "
   ]
  },
  {
   "cell_type": "code",
   "execution_count": null,
   "id": "4f07226a",
   "metadata": {
    "pycharm": {
     "name": "#%%\n"
    }
   },
   "outputs": [],
   "source": [
    "kitchen_door = Door()\n",
    "\n",
    "print(f'Attribute before using method: Is the door open? {kitchen_door.door_is_open}')\n",
    "\n",
    "# use the method to change an attribute\n",
    "kitchen_door.open_door()\n",
    "\n",
    "# let's look at the attribute\n",
    "print(f'Attribute after using method:  Is the door open? {kitchen_door.door_is_open}')"
   ]
  },
  {
   "cell_type": "markdown",
   "id": "dec17674",
   "metadata": {
    "pycharm": {
     "name": "#%% md\n"
    }
   },
   "source": [
    "So we can use our methods to change attributes, that is really powerful when we have multiple instances of the class!\n",
    "\n",
    "Let's expand the Door class and play around with different instances:"
   ]
  },
  {
   "cell_type": "code",
   "execution_count": null,
   "id": "cf6f58f4",
   "metadata": {
    "pycharm": {
     "name": "#%%\n"
    }
   },
   "outputs": [],
   "source": [
    "class Door:\n",
    "    def __init__(self):\n",
    "        \"\"\"Example class for learning OOP and Python classes!\"\"\"\n",
    "        self.colour = 'red'\n",
    "        self.door_position = 'unknown'\n",
    "\n",
    "    def open_door(self):\n",
    "        \"\"\"Open the door\"\"\"\n",
    "        self.door_position = 'open'\n",
    "\n",
    "    def close_door(self):\n",
    "        \"\"\"Close the door\"\"\"\n",
    "        self.door_position = 'closed'\n",
    "\n",
    "    def lock_door(self):\n",
    "        \"\"\"Lock the door\"\"\"\n",
    "        if self.door_position == 'closed':\n",
    "            self.door_position = 'locked'\n",
    "        else:\n",
    "            raise ValueError(\"The door must be closed before it is locked!\")\n"
   ]
  },
  {
   "cell_type": "code",
   "execution_count": null,
   "id": "fd3d8f6d",
   "metadata": {
    "pycharm": {
     "name": "#%%\n"
    }
   },
   "outputs": [],
   "source": [
    "kitchen_door = Door()\n",
    "\n",
    "kitchen_door.open_door()\n",
    "kitchen_door.close_door()\n",
    "kitchen_door.lock_door()\n",
    "\n",
    "print(f'{kitchen_door.door_position=}')\n"
   ]
  },
  {
   "cell_type": "code",
   "execution_count": null,
   "id": "02ff09bd",
   "metadata": {
    "pycharm": {
     "name": "#%%\n"
    }
   },
   "outputs": [],
   "source": [
    "front_door = Door()\n",
    "\n",
    "front_door.open_door()\n",
    "\n",
    "# THIS WON'T WORK!\n",
    "front_door.lock_door()\n"
   ]
  },
  {
   "cell_type": "markdown",
   "id": "4dd3cf9b",
   "metadata": {
    "pycharm": {
     "name": "#%% md\n"
    }
   },
   "source": [
    "We could of course make this all a bit simpler"
   ]
  },
  {
   "cell_type": "code",
   "execution_count": null,
   "id": "29085e37",
   "metadata": {
    "pycharm": {
     "name": "#%%\n"
    }
   },
   "outputs": [],
   "source": [
    "class Door:\n",
    "    def __init__(self):\n",
    "        \"\"\"Example class for learning OOP and Python classes!\"\"\"\n",
    "        self.colour = 'red'\n",
    "        self.door_position = 'unknown'\n",
    "        self.allowed_positions = ['unknown', 'open', 'closed', 'locked']\n",
    "\n",
    "    def set_door_position(self, position):\n",
    "        \"\"\"Set the door position.\"\"\"\n",
    "        if position in self.allowed_positions:\n",
    "            # logic of how doors work\n",
    "            if position == 'locked' and self.door_position != 'closed':\n",
    "                raise ValueError(\"The door must be closed before it is locked!\")\n",
    "            self.door_position = position\n",
    "        else:\n",
    "            raise ValueError(f\"The door position can only be one of {self.allowed_positions=}!\")\n"
   ]
  },
  {
   "cell_type": "code",
   "execution_count": null,
   "id": "25de13cc",
   "metadata": {
    "pycharm": {
     "name": "#%%\n"
    }
   },
   "outputs": [],
   "source": [
    "kitchen_door = Door()\n",
    "\n",
    "kitchen_door.set_door_position(position='open')\n",
    "print(f'{kitchen_door.door_position=}')\n",
    "\n",
    "kitchen_door.set_door_position(position='closed')\n",
    "print(f'{kitchen_door.door_position=}')\n",
    "\n",
    "kitchen_door.set_door_position(position='locked')\n",
    "print(f'{kitchen_door.door_position=}')\n"
   ]
  },
  {
   "cell_type": "code",
   "execution_count": null,
   "id": "690df77a",
   "metadata": {
    "pycharm": {
     "name": "#%%\n"
    }
   },
   "outputs": [],
   "source": [
    "kitchen_door = Door()\n",
    "\n",
    "kitchen_door.set_door_position(position='open')\n",
    "print(f'{kitchen_door.door_position=}')\n",
    "\n",
    "kitchen_door.set_door_position(position='locked')\n",
    "print(f'{kitchen_door.door_position=}')\n"
   ]
  },
  {
   "cell_type": "markdown",
   "id": "a9a4337b",
   "metadata": {
    "pycharm": {
     "name": "#%% md\n"
    }
   },
   "source": [
    "Let's leave the door slightly ajar. (won't work)"
   ]
  },
  {
   "cell_type": "code",
   "execution_count": null,
   "id": "1665fbc1",
   "metadata": {
    "pycharm": {
     "name": "#%%\n"
    }
   },
   "outputs": [],
   "source": [
    "kitchen_door = Door()\n",
    "\n",
    "kitchen_door.set_door_position(position='slightly ajar')\n",
    "\n",
    "print(f'{kitchen_door.door_position=}')\n"
   ]
  },
  {
   "cell_type": "markdown",
   "id": "df1eb30d",
   "metadata": {
    "pycharm": {
     "name": "#%% md\n"
    }
   },
   "source": [
    "Here we have to start thinking \"how do we want our class to work\" for our users. This is an important part of designing a class.\n",
    "\n",
    "If the user wants the door to lock, shouldn't we just automatically assume they want it to close? Let's do that."
   ]
  },
  {
   "cell_type": "code",
   "execution_count": null,
   "id": "54eff06a",
   "metadata": {
    "pycharm": {
     "name": "#%%\n"
    }
   },
   "outputs": [],
   "source": [
    "class Door:\n",
    "    def __init__(self):\n",
    "        \"\"\"Example class for learning OOP and Python classes!\"\"\"\n",
    "        self.colour = 'red'\n",
    "        self.door_position = 'unknown'\n",
    "        self.allowed_positions = ['unknown', 'open', 'closed', 'locked']\n",
    "\n",
    "    def set_door_position(self, position):\n",
    "        \"\"\"Set the door position.\"\"\"\n",
    "        if position in self.allowed_positions:\n",
    "            # logic of how doors work - might not need this!\n",
    "            if position == 'locked' and self.door_position != 'closed':\n",
    "                self.door_position = 'closed'  # so that when you look at the behaviour, it makes sense!\n",
    "            self.door_position = position\n",
    "        else:\n",
    "            raise ValueError(f\"The door position can only be one of {self.allowed_positions=}!\")\n"
   ]
  },
  {
   "cell_type": "code",
   "execution_count": null,
   "id": "1abc70f0",
   "metadata": {
    "pycharm": {
     "name": "#%%\n"
    }
   },
   "outputs": [],
   "source": [
    "kitchen_door = Door()\n",
    "\n",
    "kitchen_door.set_door_position(position='open')\n",
    "print(f'{kitchen_door.door_position=}')\n",
    "\n",
    "# now this works!\n",
    "kitchen_door.set_door_position(position='locked')\n",
    "print(f'{kitchen_door.door_position=}')\n"
   ]
  },
  {
   "cell_type": "markdown",
   "id": "8da25578",
   "metadata": {
    "pycharm": {
     "name": "#%% md\n"
    }
   },
   "source": [
    "-----------\n",
    "## Advanced Attributes\n",
    "\n",
    "- attributes are either\n",
    "    - instance variables (90% of the time you will use these)\n",
    "    - class variables\n",
    "- Attributes can also be “private/protected” or dunder variables"
   ]
  },
  {
   "cell_type": "markdown",
   "id": "f0bc5dbc",
   "metadata": {
    "pycharm": {
     "name": "#%% md\n"
    }
   },
   "source": [
    "### Class attributes/variables\n",
    "\n",
    "Sometimes it makes sense to have class attrbutes (class variables). These are variables that don't depend on an instance of the class e.g. A Person is always a homo-sapien!"
   ]
  },
  {
   "cell_type": "code",
   "execution_count": null,
   "id": "8c57eaa1",
   "metadata": {
    "pycharm": {
     "name": "#%%\n"
    }
   },
   "outputs": [],
   "source": [
    "class Person():\n",
    "    species='homo_sapien' # This is class variable\n",
    "\n",
    "    def __init__(self, name, age, address):\n",
    "        self.name = name # This is instance variable\n",
    "        self.age = age\n",
    "        self._address = address\n",
    "        # I have never done this, just showing that you can do this\n",
    "        self.__name__ = f\"A Person called {self.name}, with a private address.\"\n",
    "\n",
    "    def show(self):\n",
    "        print(f'Name: {self.name}, Age: {self.age}.')\n"
   ]
  },
  {
   "cell_type": "markdown",
   "id": "12508899",
   "metadata": {
    "pycharm": {
     "name": "#%% md\n"
    }
   },
   "source": [
    "Let's create an instance of the Person class"
   ]
  },
  {
   "cell_type": "code",
   "execution_count": null,
   "id": "7fb205ce",
   "metadata": {
    "pycharm": {
     "name": "#%%\n"
    }
   },
   "outputs": [],
   "source": [
    "eoghan = Person(name=\"Eoghan\", age=30, address=\"Bag End, The Shire\")\n",
    "\n",
    "eoghan.show()"
   ]
  },
  {
   "cell_type": "markdown",
   "id": "f1881fd1",
   "metadata": {
    "pycharm": {
     "name": "#%% md\n"
    }
   },
   "source": [
    "Let's look at the class attribute (class variable) `species`...\n",
    "\n",
    "We can access this without needing to have an instance of the class!"
   ]
  },
  {
   "cell_type": "code",
   "execution_count": null,
   "id": "3e014994",
   "metadata": {
    "pycharm": {
     "name": "#%%\n"
    }
   },
   "outputs": [],
   "source": [
    "# class attribute can be accessed outside of an instance\n",
    "print(f\"Just using the class:   {Person.species}\")\n",
    "\n",
    "# and inside an instance\n",
    "print(f\"Using a class instance: {eoghan.species}\")\n",
    "\n",
    "# but we CAN change it if needed (unlikely)\n",
    "eoghan.species = \"Hobbit\"\n",
    "print(f\"Changing a class attribute from an instance: {eoghan.species}\")\n"
   ]
  },
  {
   "cell_type": "markdown",
   "id": "8745b8f8",
   "metadata": {
    "pycharm": {
     "name": "#%% md\n"
    }
   },
   "source": [
    "### Private/Protected attributes (intro)\n",
    "\n",
    "Although there are no restricted attributes and methods in python classes, we can signify to the user (and the IDE) that certain attributes and methods should not be used directly by the user.\n",
    "\n",
    "We do this by putting a single underscore before the attribute or method name. e.g. `_address`. In this case, we don't want the user changing or looking at the addres directly."
   ]
  },
  {
   "cell_type": "code",
   "execution_count": null,
   "id": "e0dedd92",
   "metadata": {
    "pycharm": {
     "name": "#%%\n"
    }
   },
   "outputs": [],
   "source": [
    "# we can still access the \"private\" attribute without issue:\n",
    "eoghan._address"
   ]
  },
  {
   "cell_type": "markdown",
   "id": "0e473b1a",
   "metadata": {
    "pycharm": {
     "name": "#%% md\n"
    }
   },
   "source": [
    "### Dunder attributes (intro)\n",
    "\n",
    "Dunder means **d**ouble **under**score. In Python, the dunder at the start and end of an attribute or method usually signify that they are special and you shouldn't do anything with them unless you know what you're doing!\n",
    "\n",
    "In the above `Person` class, we redefined the `__name__` attribute within the `__init__` method. Let's see what kind of behaviour this leads to... "
   ]
  },
  {
   "cell_type": "code",
   "execution_count": null,
   "id": "0588d730",
   "metadata": {
    "pycharm": {
     "name": "#%%\n"
    }
   },
   "outputs": [],
   "source": [
    "# we can look at the new __name__ definition:\n",
    "eoghan.__name__"
   ]
  },
  {
   "cell_type": "code",
   "execution_count": null,
   "id": "89898245",
   "metadata": {
    "pycharm": {
     "name": "#%%\n"
    }
   },
   "outputs": [],
   "source": [
    "# if accessing it without an instance, then the original __name__ is used (because the __init__ is not called):\n",
    "Person.__name__"
   ]
  },
  {
   "cell_type": "markdown",
   "id": "4c454996",
   "metadata": {
    "pycharm": {
     "name": "#%% md\n"
    }
   },
   "source": [
    "-----------\n",
    "## Advanced Methods\n",
    "\n",
    "There are three types of methods:\n",
    "- **Instance methods: What we have talked about, the usual type of method, used 99% of the time!**\n",
    "    - `self` is the first argument\n",
    "- Class methods: Can be called by either class instance or class object.\n",
    "    - `cls` is the first argument\n",
    "- Static methods: they don’t use anything from the class instance.\n",
    "    - `self` is not the first argument\n",
    "\n",
    "Example adapted from [this nice stack-overflow answer](https://stackoverflow.com/questions/54264073/what-is-the-use-and-when-to-use-classmethod-in-python)."
   ]
  },
  {
   "cell_type": "markdown",
   "id": "c67e1408",
   "metadata": {
    "pycharm": {
     "name": "#%% md\n"
    }
   },
   "source": [
    "### Instance, class and static methods"
   ]
  },
  {
   "cell_type": "code",
   "execution_count": null,
   "id": "83f77c00",
   "metadata": {
    "pycharm": {
     "name": "#%%\n"
    }
   },
   "outputs": [],
   "source": [
    "# Example of each method\n",
    "from datetime import date\n",
    "\n",
    "class Person():\n",
    "    species='homo_sapiens' # This is class variable\n",
    "\n",
    "    def __init__(self, name, age):\n",
    "        self.name = name # This is instance variable\n",
    "        self.age = age\n",
    "\n",
    "    def show(self):\n",
    "        print(f'Name: {self.name}, Age: {self.age}.')\n",
    "\n",
    "    @classmethod\n",
    "    def create_with_birth_year(cls, name, *, birth_year):\n",
    "        age = date.today().year - birth_year\n",
    "        return cls(name, age)\n",
    "\n",
    "    @classmethod\n",
    "    def print_species(cls):\n",
    "        print(f'species: {cls.species}')\n",
    "\n",
    "    @staticmethod\n",
    "    def get_birth_year_from_age(age):\n",
    "        return date.today().year - age\n",
    "\n",
    "\n",
    "class Teacher(Person):\n",
    "    pass\n"
   ]
  },
  {
   "cell_type": "markdown",
   "id": "fb9563ef",
   "metadata": {
    "pycharm": {
     "name": "#%% md\n"
    }
   },
   "source": [
    "#### Instance method\n",
    "The `show` instance method needs an instance and must use self as the first parameter. It can access the instance through self and influence the state of an instance."
   ]
  },
  {
   "cell_type": "code",
   "execution_count": null,
   "id": "691e3ed7",
   "metadata": {
    "pycharm": {
     "name": "#%%\n"
    }
   },
   "outputs": [],
   "source": [
    "jona = Person(name='Jona', age=30)\n",
    "jona.show()"
   ]
  },
  {
   "cell_type": "markdown",
   "id": "885a2466",
   "metadata": {
    "pycharm": {
     "name": "#%% md\n"
    }
   },
   "source": [
    "#### Class method\n",
    "The class methods `create_with_birth_year` and `print_species` need no instance and use `cls` to access the class and influence the state of a class. We can use @classmethod to make a factory, such as:"
   ]
  },
  {
   "cell_type": "code",
   "execution_count": null,
   "id": "e202c3b7",
   "metadata": {},
   "outputs": [],
   "source": [
    "# we can create a person directly from the class method `create_with_birth_year` because it returns an instance of the class\n",
    "eoghan = Person.create_with_birth_year('Eoghan', birth_year=1993)\n",
    "eoghan.show()\n"
   ]
  },
  {
   "cell_type": "code",
   "execution_count": null,
   "id": "502d6555",
   "metadata": {
    "pycharm": {
     "name": "#%%\n"
    }
   },
   "outputs": [],
   "source": [
    "# and this factory can be inherited:\n",
    "marie = Teacher.create_with_birth_year('Marie', birth_year=1967)\n",
    "marie.show()\n"
   ]
  },
  {
   "cell_type": "code",
   "execution_count": null,
   "id": "e1c0473e",
   "metadata": {},
   "outputs": [],
   "source": [
    "# and class method can be used access class variable without an instance:\n",
    "Person.print_species()\n",
    "\n",
    "# we can use class methods via the instance\n",
    "eoghan.print_species()\n"
   ]
  },
  {
   "cell_type": "markdown",
   "id": "46989005",
   "metadata": {
    "pycharm": {
     "name": "#%% md\n"
    }
   },
   "source": [
    "#### Static Method\n",
    "The `get_birth_year_from_age` static method needs no special parameter (`self` or `cls`) and will change state of a class or instance. It can provide some helper functions to a class."
   ]
  },
  {
   "cell_type": "code",
   "execution_count": null,
   "id": "887ce1df",
   "metadata": {
    "pycharm": {
     "name": "#%%\n"
    }
   },
   "outputs": [],
   "source": [
    "jona = Person(name='Jona', age=30)\n",
    "\n",
    "# get the birth year without using any variables, general helper function\n",
    "# for example, what year would jona be born if he were 23\n",
    "jona.get_birth_year_from_age(23)"
   ]
  },
  {
   "cell_type": "markdown",
   "id": "72891bca",
   "metadata": {
    "pycharm": {
     "name": "#%% md\n"
    }
   },
   "source": [
    "You shouldn't worry about static and class methods very much."
   ]
  },
  {
   "cell_type": "markdown",
   "id": "8eafe96a",
   "metadata": {
    "pycharm": {
     "name": "#%% md\n"
    }
   },
   "source": [
    "### \"Private/Protected\" and Dunder: Methods and Attributes (continued)\n",
    "\n",
    "Often we want users to know that they shouldn't use some inner functionality of a class. In Python there is no way to stop a user from accessing methods or attributes, but we can indicate what shouldn't be used with underscores (`_`) and double underscores (`__`)"
   ]
  },
  {
   "cell_type": "code",
   "execution_count": null,
   "id": "862a35d8",
   "metadata": {
    "pycharm": {
     "name": "#%% md\n"
    }
   },
   "outputs": [],
   "source": [
    "import time\n",
    "\n",
    "class SomeComplexCalculation:\n",
    "    def __init__(self, array):\n",
    "        self.array = array\n",
    "        # we don't want the user to use this, it is for inner-working of class\n",
    "        self._calculation_halfway_point = None\n",
    "    \n",
    "    def calculate(self):\n",
    "        \"\"\"The user should call this method.\"\"\"\n",
    "        # do some checks\n",
    "        assert len(self.array) >= 10\n",
    "        # call the actual calculator method\n",
    "        self._calculate_array_statistics()\n",
    "    \n",
    "    def _calculate_array_statistics(self):\n",
    "        \"\"\"\n",
    "        Calculate something about the array. The user shouldn't call this,\n",
    "        because it doesn't do any checks prior to calculation.\n",
    "        \"\"\"\n",
    "        \n",
    "        # Does the actual calculation\n",
    "        print(\"Doing a really complex calculation!\")\n",
    "        print(\"...\")\n",
    "        time.sleep(1)\n",
    "        self._calculation_halfway_point = 42\n",
    "        print(f'Calculation at halfway is: {self._calculation_halfway_point}')\n",
    "        print(\"...\")\n",
    "        time.sleep(1)\n",
    "        print(\"Wow that was difficult!\")\n",
    "    \n",
    "    def __repr__(self):\n",
    "        return f\"A class for handling complex calulations - {self.__class__} - You should use the `calculate()` method only.\"\n"
   ]
  },
  {
   "cell_type": "markdown",
   "id": "c7789b6a",
   "metadata": {
    "pycharm": {
     "name": "#%% md\n"
    }
   },
   "source": [
    "So the user can now see that they should use the `calculate` method only. It is simple to remember for the user."
   ]
  },
  {
   "cell_type": "code",
   "execution_count": null,
   "id": "2ea8ce57",
   "metadata": {
    "pycharm": {
     "name": "#%%\n"
    }
   },
   "outputs": [],
   "source": [
    "import numpy as np\n",
    "\n",
    "my_arr = np.zeros(10)\n",
    "calc_ds = SomeComplexCalculation(array=my_arr)\n",
    "calc_ds.calculate()"
   ]
  },
  {
   "cell_type": "markdown",
   "id": "34c84b74",
   "metadata": {},
   "source": [
    "We can use the built-in dunder methods in classes to personalise the class, for example the `__repr__` method..."
   ]
  },
  {
   "cell_type": "code",
   "execution_count": null,
   "id": "e017d024",
   "metadata": {
    "pycharm": {
     "name": "#%%\n"
    }
   },
   "outputs": [],
   "source": [
    "print(calc_ds)\n",
    "\n",
    "print(calc_ds.__repr__())"
   ]
  },
  {
   "cell_type": "markdown",
   "id": "6c89711f",
   "metadata": {
    "pycharm": {
     "name": "#%% md\n"
    }
   },
   "source": [
    "There are also some other built in dunder methods in classes, you need to create your version of them if your class doesn't inherit them: [see this link for a list](https://holycoders.com/python-dunder-special-methods/)!"
   ]
  },
  {
   "cell_type": "markdown",
   "id": "9089d622",
   "metadata": {
    "pycharm": {
     "name": "#%% md\n"
    }
   },
   "source": [
    "And of course there are \"private\" and (usually built-in) dunder attributes."
   ]
  },
  {
   "cell_type": "code",
   "execution_count": null,
   "id": "cbc1de1c",
   "metadata": {
    "pycharm": {
     "name": "#%%\n"
    }
   },
   "outputs": [],
   "source": [
    "# the user shouldn't use this, as indicated by the single underscore\n",
    "print(calc_ds._calculation_halfway_point)"
   ]
  },
  {
   "cell_type": "code",
   "execution_count": null,
   "id": "94e91486",
   "metadata": {
    "pycharm": {
     "name": "#%%\n"
    }
   },
   "outputs": [],
   "source": [
    "# __dict__ will print out all of the class's attributes, neat!\n",
    "print(calc_ds.__dict__)"
   ]
  },
  {
   "cell_type": "markdown",
   "id": "e51f8815",
   "metadata": {
    "pycharm": {
     "name": "#%% md\n"
    }
   },
   "source": [
    "### Decorators: Getter, Setter, Property\n",
    "\n",
    "We can have getter and setter methods for attributes. We use this because it allows us to use a method to change an attribute, rather than having to change the attribute manually. This way, we can have built-in checks to stop bad values.\n",
    "\n",
    "Below is a simple example:"
   ]
  },
  {
   "cell_type": "code",
   "execution_count": null,
   "id": "3d52556b",
   "metadata": {
    "pycharm": {
     "name": "#%%\n"
    }
   },
   "outputs": [],
   "source": [
    "class Person:\n",
    "    def __init__(self, name):\n",
    "        self.name = name\n",
    "        self._age = None  # example: age shouldn't be changed directly\n",
    "\n",
    "    @property\n",
    "    def age(self):\n",
    "        \"\"\"This is the Getter for _age.\"\"\"\n",
    "        return self._age\n",
    "\n",
    "    @age.setter\n",
    "    def age(self, value):\n",
    "        \"\"\"This is the Setter for _age.\"\"\"\n",
    "        if isinstance(value, int) or value is None:\n",
    "            self._age = value\n",
    "        else:\n",
    "            raise ValueError(\"age must be an integer\")\n",
    "\n",
    "    @age.deleter\n",
    "    def age(self):\n",
    "        \"\"\"This will delete the _age value.\"\"\"\n",
    "        del self._age\n",
    "        # self.age = None  # if you want to just reset it to None instead\n",
    "\n",
    "    def show(self):\n",
    "        print(f'Name: {self.name}, Age: {self.age}.')"
   ]
  },
  {
   "cell_type": "code",
   "execution_count": null,
   "id": "863c0857",
   "metadata": {
    "pycharm": {
     "name": "#%%\n"
    }
   },
   "outputs": [],
   "source": [
    "# let's see how the age property works...\n",
    "\n",
    "jona = Person('Jona')\n",
    "jona.show()\n",
    "\n",
    "# set the age\n",
    "jona.age = 31\n",
    "\n",
    "jona.show()\n"
   ]
  },
  {
   "cell_type": "code",
   "execution_count": null,
   "id": "c6112004",
   "metadata": {
    "pycharm": {
     "name": "#%%\n"
    }
   },
   "outputs": [],
   "source": [
    "# let's see how the _age works if we use it directly...\n",
    "\n",
    "jona = Person('Jona')\n",
    "jona._age = 76\n",
    "\n",
    "print(f'{jona._age=}')\n",
    "print(f'{jona.age=}')\n",
    "\n",
    "# that's pretty cool! It automatically updated `age` even though we didn't change it directly"
   ]
  },
  {
   "cell_type": "code",
   "execution_count": null,
   "id": "46ff7f4d",
   "metadata": {
    "pycharm": {
     "name": "#%%\n"
    }
   },
   "outputs": [],
   "source": [
    "# now we see the power of the setter to allow only certain values or types\n",
    "\n",
    "jona = Person('Jona')\n",
    "\n",
    "# this will cause an error, because only integers are allowed!\n",
    "jona.age = 12.5\n"
   ]
  },
  {
   "cell_type": "code",
   "execution_count": null,
   "id": "5aa75481",
   "metadata": {
    "pycharm": {
     "name": "#%%\n"
    }
   },
   "outputs": [],
   "source": [
    "# what about the deleter...\n",
    "\n",
    "jona = Person('Jona')\n",
    "jona.age = 12\n",
    "jona.show()\n",
    "\n",
    "del jona.age\n",
    "\n",
    "# this will cause an error, because age is not longer an attribute!\n",
    "jona.show()\n"
   ]
  },
  {
   "cell_type": "code",
   "execution_count": null,
   "id": "c1d88063",
   "metadata": {
    "pycharm": {
     "name": "#%%\n"
    }
   },
   "outputs": [],
   "source": [
    "# we can set it again here afterwards...\n",
    "\n",
    "jona.age = 12\n",
    "jona.show()\n"
   ]
  },
  {
   "cell_type": "markdown",
   "id": "43540e79",
   "metadata": {
    "pycharm": {
     "name": "#%% md\n"
    }
   },
   "source": [
    "-----------\n",
    "## Inheritance\n",
    "\n",
    "We touched on inheritance with our `Person` and `Teacher` classes above. But how does this work and why would you use it?"
   ]
  },
  {
   "cell_type": "code",
   "execution_count": null,
   "id": "dccaa7de",
   "metadata": {
    "pycharm": {
     "name": "#%%\n"
    }
   },
   "outputs": [],
   "source": [
    "class Person:\n",
    "    species='homo_sapiens' # This is class variable\n",
    "\n",
    "    def __init__(self, name, age):\n",
    "        self.name = name # This is instance variable\n",
    "        self.age = age\n",
    "\n",
    "    def show(self):\n",
    "        print(f'Name: {self.name}, Age: {self.age}.')\n",
    "\n",
    "\n",
    "class Teacher(Person):\n",
    "    profession = 'Teacher'\n"
   ]
  },
  {
   "cell_type": "markdown",
   "id": "3ef31f58",
   "metadata": {
    "pycharm": {
     "name": "#%% md\n"
    }
   },
   "source": [
    "- `Person` is a class that has a name and an age. Pretty simple.\n",
    "- `Teacher` is a class that **is a** Person, so it inherits from it all of its attributes and methods!\n",
    "\n",
    "This means we can have a hierarchy of classes that makes logical sense. It reduces the amount of code!\n",
    "\n",
    "Let's use the classes and see how they behave"
   ]
  },
  {
   "cell_type": "code",
   "execution_count": null,
   "id": "da3e83f3",
   "metadata": {
    "pycharm": {
     "name": "#%%\n"
    }
   },
   "outputs": [],
   "source": [
    "mary = Person(name='Mary', age=35)\n",
    "mary.show()"
   ]
  },
  {
   "cell_type": "code",
   "execution_count": null,
   "id": "dad7ae94",
   "metadata": {
    "pycharm": {
     "name": "#%%\n"
    }
   },
   "outputs": [],
   "source": [
    "lizzy = Teacher(name='Lizzy', age=58)\n",
    "lizzy.show()\n",
    "print(f\"{lizzy.profession=}\")\n"
   ]
  },
  {
   "cell_type": "markdown",
   "id": "e57576e4",
   "metadata": {
    "pycharm": {
     "name": "#%% md\n"
    }
   },
   "source": [
    "So the `Teacher` class uses the attributes and methods from the parent `Person` class. It has **inherited** from the `Person` class.\n",
    "\n",
    "The inheritance only works in one direction e.g. the Person doesn't have a profession..."
   ]
  },
  {
   "cell_type": "code",
   "execution_count": null,
   "id": "728a2806",
   "metadata": {
    "pycharm": {
     "name": "#%%\n"
    }
   },
   "outputs": [],
   "source": [
    "# we can't do this -> ERROR!\n",
    "mary.profession"
   ]
  },
  {
   "cell_type": "markdown",
   "id": "c5c80d67",
   "metadata": {
    "pycharm": {
     "name": "#%% md\n"
    }
   },
   "source": [
    "What if we want the `Teacher` class to have an `__init__` method too, is that okay?"
   ]
  },
  {
   "cell_type": "code",
   "execution_count": null,
   "id": "c77ca7d6",
   "metadata": {
    "pycharm": {
     "name": "#%%\n"
    }
   },
   "outputs": [],
   "source": [
    "class Person:\n",
    "    species='homo_sapiens' # This is class variable\n",
    "\n",
    "    def __init__(self, name, age):\n",
    "        self.name = name # This is instance variable\n",
    "        self.age = age\n",
    "\n",
    "    def show(self):\n",
    "        print(f'Name: {self.name}, Age: {self.age}.')\n",
    "\n",
    "\n",
    "class Teacher(Person):\n",
    "    profession = 'Teacher'\n",
    "\n",
    "    def __init__(self, name, age, subject):\n",
    "        self.subject = subject\n",
    "\n",
    "    def show_subject(self):\n",
    "        print(f\"Subject is: {self.subject}\")\n"
   ]
  },
  {
   "cell_type": "code",
   "execution_count": null,
   "id": "f4f40afb",
   "metadata": {
    "pycharm": {
     "name": "#%%\n"
    }
   },
   "outputs": [],
   "source": [
    "lizzy = Teacher(name='Mary', age=58, subject=\"Science\")\n",
    "\n",
    "lizzy.show_subject()\n"
   ]
  },
  {
   "cell_type": "markdown",
   "id": "b7e975e8",
   "metadata": {},
   "source": [
    "Let's try to use the inherited `.show()` method as we did above for our `Teacher`"
   ]
  },
  {
   "cell_type": "code",
   "execution_count": null,
   "id": "5024fbac",
   "metadata": {},
   "outputs": [],
   "source": [
    "# will cause an ERROR\n",
    "lizzy.show()"
   ]
  },
  {
   "cell_type": "markdown",
   "id": "4bc8f90e",
   "metadata": {
    "pycharm": {
     "name": "#%%\n"
    }
   },
   "source": [
    "Wait, this worked before!?\n",
    "\n",
    "It seems that the new `__init__` overwrites the old `__init__` from `Person`. How do we get around this?"
   ]
  },
  {
   "cell_type": "code",
   "execution_count": null,
   "id": "77b6cc50",
   "metadata": {
    "pycharm": {
     "name": "#%%\n"
    }
   },
   "outputs": [],
   "source": [
    "class Person:\n",
    "    species='homo_sapiens' # This is class variable\n",
    "\n",
    "    def __init__(self, name, age):\n",
    "        self.name = name # This is instance variable\n",
    "        self.age = age\n",
    "\n",
    "    def show(self):\n",
    "        print(f'Name: {self.name}, Age: {self.age}.')\n",
    "\n",
    "\n",
    "class Teacher(Person):\n",
    "    profession = 'Teacher'\n",
    "\n",
    "    def __init__(self, name, age, subject):\n",
    "        # use this super function to use the parent (aka super) class init arguments\n",
    "        super().__init__(name, age)  # name and age are needed because they are reqiured positional args\n",
    "        self.subject = subject\n",
    "\n",
    "    def show_subject(self):\n",
    "        print(f\"Subject is: {self.subject}\")\n"
   ]
  },
  {
   "cell_type": "code",
   "execution_count": null,
   "id": "a34ccef3",
   "metadata": {
    "pycharm": {
     "name": "#%%\n"
    }
   },
   "outputs": [],
   "source": [
    "lizzy = Teacher(name='Lizzy', age=58, subject='Science')\n",
    "\n",
    "# now this works\n",
    "lizzy.show()\n",
    "lizzy.show_subject()"
   ]
  },
  {
   "cell_type": "markdown",
   "id": "e694c729",
   "metadata": {
    "pycharm": {
     "name": "#%% md\n"
    }
   },
   "source": [
    "### Composition\n",
    "\n",
    "Composition is another way to use classes inside your class.\n",
    "\n",
    "What is the difference between inheritance and composition?!\n",
    "\n",
    "- Inheritance: A Teacher **is a** Person.\n",
    "- Composition: A Teacher **has a** Boss or a Person **has an** address.\n",
    "\n",
    "So the relationship is slightly different.\n",
    "\n",
    "Let's look at an example where a `Person` has an `Address` class. \n"
   ]
  },
  {
   "cell_type": "code",
   "execution_count": null,
   "id": "0ddab963",
   "metadata": {
    "pycharm": {
     "name": "#%%\n"
    }
   },
   "outputs": [],
   "source": [
    "class Person:\n",
    "    species='homo_sapiens' # This is class variable\n",
    "\n",
    "    def __init__(self, name, age, address=None):\n",
    "        self.name = name # This is instance variable\n",
    "        self.age = age\n",
    "        self.address = address  # we made address optional!\n",
    "\n",
    "    def show(self):\n",
    "        print(f'Name: {self.name}, Age: {self.age}, Address: {self.address}')\n",
    "\n",
    "\n",
    "class Address:\n",
    "    def __init__(self, street, city, postcode):\n",
    "        self.street = street\n",
    "        self.city = city\n",
    "        self.postcode = postcode\n",
    "\n",
    "    def __repr__(self):\n",
    "        return f'{self.__dict__}'\n"
   ]
  },
  {
   "cell_type": "code",
   "execution_count": null,
   "id": "5a2af9e5",
   "metadata": {},
   "outputs": [],
   "source": [
    "# let's make an address for John\n",
    "john_address = Address(\"Staudstr\", \"Erlangen\", \"91058\")\n",
    "\n",
    "# john has an address\n",
    "john = Person(name=\"John\", age=45, address=john_address)\n",
    "john.show()"
   ]
  },
  {
   "cell_type": "markdown",
   "id": "4df5ebb2",
   "metadata": {
    "pycharm": {
     "name": "#%% md\n"
    }
   },
   "source": [
    "-----------\n",
    "## Abstract Classes\n",
    "\n",
    "- An abstract class is just a class that defines some functionality\n",
    "   - Defines how we want a child class to behave\n",
    "- We can use abstract classes to define how we want our class to work\n",
    "   - Real Example:\n",
    "        - We have a camera device that must have the “acquire_image” method.\n",
    "        - We can make an abstract class with this method.\n",
    "        - All classes that inherit from this class **must** now have the “acquire_image” method\n"
   ]
  },
  {
   "cell_type": "code",
   "execution_count": null,
   "id": "f813d091",
   "metadata": {
    "pycharm": {
     "name": "#%%\n"
    }
   },
   "outputs": [],
   "source": [
    "# make the abstract camera class\n",
    "\n",
    "from abc import ABC, abstractmethod  # ABC=Abstract Base Class\n",
    "\n",
    "\n",
    "class Camera(ABC):\n",
    "    def __init__(self) -> None:\n",
    "        \"\"\"Abstract Camera class. All camera devices should implement the\n",
    "        methods and attributes implemented here.\"\"\"\n",
    "        self.camera_model = ''\n",
    "\n",
    "    @abstractmethod\n",
    "    def acquire_image(self):\n",
    "        pass\n"
   ]
  },
  {
   "cell_type": "code",
   "execution_count": null,
   "id": "369e08ec",
   "metadata": {
    "pycharm": {
     "name": "#%%\n"
    }
   },
   "outputs": [],
   "source": [
    "# now we create a class that inherits from this abstract class and use it\n",
    "\n",
    "class CameraModel9000(Camera):\n",
    "    def __init__(self):\n",
    "        super().__init__()\n"
   ]
  },
  {
   "cell_type": "code",
   "execution_count": null,
   "id": "59404a53",
   "metadata": {
    "pycharm": {
     "name": "#%%\n"
    }
   },
   "outputs": [],
   "source": [
    "# this will cause a (slightly unclear) ERROR!\n",
    "\n",
    "my_camera = CameraModel9000()"
   ]
  },
  {
   "cell_type": "markdown",
   "id": "578dd370",
   "metadata": {
    "pycharm": {
     "name": "#%% md\n"
    }
   },
   "source": [
    "We must implement the above defined `@abstractmethod` method `acquire_image` in our class!"
   ]
  },
  {
   "cell_type": "code",
   "execution_count": null,
   "id": "f816f10e",
   "metadata": {
    "pycharm": {
     "name": "#%%\n"
    }
   },
   "outputs": [],
   "source": [
    "# now we create a class that inherits from this abstract class and use it\n",
    "\n",
    "class CameraModel9000(Camera):\n",
    "    def __init__(self):\n",
    "        super().__init__()\n",
    "\n",
    "    def acquire_image(self):\n",
    "        # self._accesses_some_api_to_take_image()\n",
    "        print(\"Say Cheese!\")"
   ]
  },
  {
   "cell_type": "code",
   "execution_count": null,
   "id": "c45bc864",
   "metadata": {
    "pycharm": {
     "name": "#%%\n"
    }
   },
   "outputs": [],
   "source": [
    "my_camera = CameraModel9000()\n",
    "my_camera.acquire_image()"
   ]
  },
  {
   "cell_type": "markdown",
   "id": "db6f5707",
   "metadata": {
    "pycharm": {
     "name": "#%% md\n"
    }
   },
   "source": [
    "We can see that inheriting from the abstract class forced us to design our CameraModel9000 class in a consistent way!"
   ]
  },
  {
   "cell_type": "markdown",
   "id": "d514872a",
   "metadata": {
    "pycharm": {
     "name": "#%% md\n"
    }
   },
   "source": [
    "-----------\n",
    "## Docstrings\n",
    "\n",
    "Always remember **docstrings**!!\n",
    "\n",
    "Document your code!"
   ]
  },
  {
   "cell_type": "code",
   "execution_count": null,
   "id": "ff956cfb",
   "metadata": {
    "pycharm": {
     "name": "#%%\n"
    }
   },
   "outputs": [],
   "source": [
    "class Person():\n",
    "    species='homo_sapiens' # This is class variable\n",
    "\n",
    "    def __init__(self, name, age):\n",
    "        \"\"\"Class to handle Persons and their information.\n",
    "        \n",
    "        Parameters\n",
    "        ----------\n",
    "        name : str\n",
    "            Name of the person.\n",
    "        age : int\n",
    "            Age of the person\n",
    "        \n",
    "        \"\"\"\n",
    "        self.name = name # This is instance variable\n",
    "        self.age = age\n",
    "\n",
    "    def show(self):\n",
    "        \"\"\"Print the person's information.\"\"\"\n",
    "        print(f'Name: {self.name}, Age: {self.age}.')\n",
    "\n",
    "    @classmethod\n",
    "    def create_with_birth_year(cls, name, age):\n",
    "        \"\"\"Create a person directly.\n",
    "        \n",
    "        Parameters\n",
    "        ----------\n",
    "        cls : Person or class inheriting from Person\n",
    "        name : str\n",
    "            Name of the person.\n",
    "        age : int\n",
    "            Age of the person\n",
    "        \n",
    "        \"\"\"\n",
    "        return cls(name, age)\n",
    "\n",
    "    @classmethod\n",
    "    def print_species(cls):\n",
    "        \"\"\"Print out information about the Person's species.\n",
    "        \n",
    "        Parameters\n",
    "        ----------\n",
    "        cls : Person or child class of Person\n",
    "\n",
    "        \"\"\"\n",
    "        print('species: {}'.format(cls.species))\n",
    "\n",
    "    @staticmethod\n",
    "    def get_birth_year(age):\n",
    "        \"\"\"Calculates the birth year based on an age\n",
    "        \n",
    "        Parameters\n",
    "        ----------\n",
    "        age : int\n",
    "            Age of the person\n",
    "\n",
    "        \"\"\"\n",
    "        return date.today().year - age\n",
    "\n",
    "\n",
    "class Teacher(Person):\n",
    "    \"\"\"Class for Teachers, inherits from Person.\"\"\"\n",
    "    pass\n"
   ]
  },
  {
   "cell_type": "markdown",
   "id": "78a0c083",
   "metadata": {
    "pycharm": {
     "name": "#%% md\n"
    }
   },
   "source": [
    "Wow, the number of codelines really ballooned! That is okay. Now people can understand what the classes and methods are for!"
   ]
  },
  {
   "cell_type": "markdown",
   "id": "2609fd2f",
   "metadata": {
    "pycharm": {
     "name": "#%% md\n"
    }
   },
   "source": [
    "-----------\n",
    "## Summary\n",
    "\n",
    "Classes are the building blocks of Object Oriented Programming. They allow us to orgaise our data and functionality in one logical place.\n",
    "\n",
    "If you feel there is anything missing from this workshop on functions, please let me now in the [issues on GitHub](https://github.com/GuckLab/Python-Workshops/issues)!"
   ]
  },
  {
   "cell_type": "code",
   "execution_count": null,
   "id": "32905553",
   "metadata": {
    "pycharm": {
     "name": "#%%\n"
    }
   },
   "outputs": [],
   "source": []
  }
 ],
 "metadata": {
  "kernelspec": {
   "display_name": "Python 3 (ipykernel)",
   "language": "python",
   "name": "python3"
  },
  "language_info": {
   "codemirror_mode": {
    "name": "ipython",
    "version": 3
   },
   "file_extension": ".py",
   "mimetype": "text/x-python",
   "name": "python",
   "nbconvert_exporter": "python",
   "pygments_lexer": "ipython3",
   "version": "3.9.13"
  }
 },
 "nbformat": 4,
 "nbformat_minor": 5
}
