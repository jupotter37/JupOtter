{
 "cells": [
  {
   "cell_type": "code",
   "execution_count": 1,
   "metadata": {},
   "outputs": [
    {
     "name": "stdout",
     "output_type": "stream",
     "text": [
      "Note: you may need to restart the kernel to use updated packages.\n",
      "Note: you may need to restart the kernel to use updated packages.\n",
      "Note: you may need to restart the kernel to use updated packages.\n"
     ]
    }
   ],
   "source": [
    "%pip install --upgrade --quiet  langchain-google-genai\n",
    "%pip install python-dotenv --quiet\n",
    "%pip install --upgrade --quiet  langchain pandas fpdf"
   ]
  },
  {
   "cell_type": "code",
   "execution_count": 32,
   "metadata": {},
   "outputs": [
    {
     "data": {
      "text/plain": [
       "True"
      ]
     },
     "execution_count": 32,
     "metadata": {},
     "output_type": "execute_result"
    }
   ],
   "source": [
    "import os\n",
    "import sys\n",
    "import json\n",
    "from langchain_google_genai import GoogleGenerativeAI\n",
    "from dotenv import load_dotenv\n",
    "from langchain.prompts import PromptTemplate\n",
    "from langchain.chains import LLMChain\n",
    "from langchain.chains import SequentialChain\n",
    "import pandas as pd\n",
    "from fpdf import FPDF\n",
    "load_dotenv()"
   ]
  },
  {
   "cell_type": "code",
   "execution_count": 33,
   "metadata": {},
   "outputs": [],
   "source": [
    "KEY = os.getenv(\"GOOGLE_API_KEY\")"
   ]
  },
  {
   "cell_type": "code",
   "execution_count": 34,
   "metadata": {},
   "outputs": [],
   "source": [
    "llm = GoogleGenerativeAI(model=\"gemini-pro\", google_api_key=KEY,temperature=.7)\n"
   ]
  },
  {
   "cell_type": "code",
   "execution_count": 35,
   "metadata": {},
   "outputs": [
    {
     "name": "stdout",
     "output_type": "stream",
     "text": [
      "**Pros of Python:**\n",
      "\n",
      "* **Simplicity and Readability:** Python is known for its simple and intuitive syntax, making it easy to learn and write code. Its code structure resembles natural language, making it highly readable.\n",
      "* **Versatility:** Python is a versatile language that can be used in various domains, including web development, data science, machine learning, and scripting.\n",
      "* **Extensive Libraries:** Python has a vast collection of libraries and frameworks that provide pre-built modules for common tasks, such as data manipulation, machine learning, and web development.\n",
      "* **Cross-Platform Compatibility:** Python code can run on multiple operating systems (Windows, macOS, Linux) without the need for recompilation.\n",
      "* **Beginner-Friendly:** Python's simplicity makes it an excellent choice for beginners who are starting their programming journey.\n",
      "* **Community Support:** Python has a large and active community of developers who provide support, documentation, and resources.\n",
      "\n",
      "**Cons of Python:**\n",
      "\n",
      "* **Speed:** Python is generally slower than compiled languages like C or Java. This can be a disadvantage for performance-intensive applications.\n",
      "* **Memory Management:** Python uses automatic garbage collection for memory management, which can lead to overhead and unpredictable memory usage.\n",
      "* **Data Structures:** Python's built-in data structures, such as lists and dictionaries, are dynamic, which can result in slower performance compared to statically typed languages.\n",
      "* **Lack of Low-Level Control:** Python is a high-level language that lacks direct access to system resources, limiting its capabilities in certain applications.\n",
      "* **GIL (Global Interpreter Lock):** Python has a global interpreter lock (GIL) that prevents multiple threads from executing Python code simultaneously, potentially affecting performance in multithreaded applications.\n",
      "* **Type Safety:** Python is a dynamically typed language, which means that variables do not have explicit types. This can lead to errors and bugs during development.\n"
     ]
    }
   ],
   "source": [
    "print(\n",
    "    llm.invoke(\n",
    "        \"What are some of the pros and cons of Python as a programming language?\"\n",
    "    )\n",
    ")"
   ]
  },
  {
   "cell_type": "markdown",
   "metadata": {},
   "source": [
    "***design of response***"
   ]
  },
  {
   "cell_type": "code",
   "execution_count": 36,
   "metadata": {},
   "outputs": [],
   "source": [
    "RESPONSE_JSON = {\n",
    "    \"1\":{\n",
    "        \"mcq\": \"question\",\n",
    "        \"options\":{\n",
    "            \"a\": \"choice\",\n",
    "            \"b\": \"choice\",\n",
    "            \"c\": \"choice\",\n",
    "            \"d\": \"choice\"\n",
    "        },\n",
    "        \"correct\": \"correct_answer\"\n",
    "    },\n",
    "    \"2\":{\n",
    "        \"mcq\": \"question\",\n",
    "        \"options\":{\n",
    "            \"a\": \"choice\",\n",
    "            \"b\": \"choice\",\n",
    "            \"c\": \"choice\",\n",
    "            \"d\": \"choice\"\n",
    "        },\n",
    "        \"correct\": \"correct_answer\"\n",
    "    },\n",
    "    \"3\":{\n",
    "        \"mcq\": \"question\",\n",
    "        \"options\":{\n",
    "            \"a\": \"choice\",\n",
    "            \"b\": \"choice\",\n",
    "            \"c\": \"choice\",\n",
    "            \"d\": \"choice\"\n",
    "        },\n",
    "        \"correct\": \"correct_answer\"\n",
    "    },\n",
    "    \"4\":{\n",
    "        \"mcq\": \"question\",\n",
    "        \"options\":{\n",
    "            \"a\": \"choice\",\n",
    "            \"b\": \"choice\",\n",
    "            \"c\": \"choice\",\n",
    "            \"d\": \"choice\"\n",
    "        },\n",
    "        \"correct\": \"correct_answer\"\n",
    "    },\n",
    "}"
   ]
  },
  {
   "cell_type": "code",
   "execution_count": 37,
   "metadata": {},
   "outputs": [],
   "source": [
    "TEMPLATE_1='''\n",
    "   TEXT: {text}\n",
    "You are an expert in creating multiple choice questions. Given the above text, it is your job to create a quiz of {number} questions for {subject} students in a {tone} tone. Ensure the questions are unique and relevant to the text.\n",
    "Use the format provided below as a guide to construct your quiz, making sure to include {number} MCQs:\n",
    "\n",
    "{response_json}\n",
    "\n",
    "'''"
   ]
  },
  {
   "cell_type": "code",
   "execution_count": 38,
   "metadata": {},
   "outputs": [],
   "source": [
    "quiz_generation_prompt = PromptTemplate(\n",
    "    input_variables=[\"text\",\"number\",\"subject\",\"tone\",\"response_json\"],\n",
    "    template=TEMPLATE_1\n",
    ")"
   ]
  },
  {
   "cell_type": "code",
   "execution_count": 39,
   "metadata": {},
   "outputs": [],
   "source": [
    "quiz_chain = LLMChain(\n",
    "    llm=llm,\n",
    "    prompt = quiz_generation_prompt,\n",
    "    output_key = \"quiz\",\n",
    "    verbose=True\n",
    ")"
   ]
  },
  {
   "cell_type": "code",
   "execution_count": 40,
   "metadata": {},
   "outputs": [],
   "source": [
    "TEMPLATE_2 = '''\n",
    "    You are expert in english gramer and writer. Give a muitiple choice for students in subject {subject}. \\\n",
    "    You need to evaluate the complexity of question and give a complete ananylsis of quiz. Only use at max 50 words for each.\\\n",
    "    Quiz_MCQs:\n",
    "    {quiz}\n",
    "\n",
    "    check from expert English writer of the above quiz:\n",
    "'''"
   ]
  },
  {
   "cell_type": "code",
   "execution_count": 41,
   "metadata": {},
   "outputs": [],
   "source": [
    "quiz_evaluation_prompt = PromptTemplate(\n",
    "    input_variables=[\"subject\",\"quiz\"],\n",
    "    template=TEMPLATE_2\n",
    ")"
   ]
  },
  {
   "cell_type": "code",
   "execution_count": 42,
   "metadata": {},
   "outputs": [],
   "source": [
    "review_chain = LLMChain(\n",
    "    llm=llm,\n",
    "    prompt = quiz_evaluation_prompt,\n",
    "    output_key = \"review\",\n",
    "    verbose=True\n",
    ")"
   ]
  },
  {
   "cell_type": "code",
   "execution_count": 43,
   "metadata": {},
   "outputs": [],
   "source": [
    "generate_evalution_chain = SequentialChain(\n",
    "    chains=[quiz_chain,review_chain],\n",
    "    input_variables=[\"text\",\"number\",\"subject\",\"tone\",\"response_json\"],\n",
    "    output_variables=[\"quiz\",\"review\"],\n",
    "    verbose=True\n",
    ")"
   ]
  },
  {
   "cell_type": "code",
   "execution_count": 44,
   "metadata": {},
   "outputs": [],
   "source": [
    "file_path = \"/Users/naveen/Developer/GenAI/quiz_generator/data.txt\""
   ]
  },
  {
   "cell_type": "code",
   "execution_count": 45,
   "metadata": {},
   "outputs": [],
   "source": [
    "with open(file_path, 'r') as file:\n",
    "    TEXT = file.read()"
   ]
  },
  {
   "cell_type": "code",
   "execution_count": 46,
   "metadata": {},
   "outputs": [
    {
     "data": {
      "text/plain": [
       "'{\"1\": {\"mcq\": \"question\", \"options\": {\"a\": \"choice\", \"b\": \"choice\", \"c\": \"choice\", \"d\": \"choice\"}, \"correct\": \"correct_answer\"}, \"2\": {\"mcq\": \"question\", \"options\": {\"a\": \"choice\", \"b\": \"choice\", \"c\": \"choice\", \"d\": \"choice\"}, \"correct\": \"correct_answer\"}, \"3\": {\"mcq\": \"question\", \"options\": {\"a\": \"choice\", \"b\": \"choice\", \"c\": \"choice\", \"d\": \"choice\"}, \"correct\": \"correct_answer\"}, \"4\": {\"mcq\": \"question\", \"options\": {\"a\": \"choice\", \"b\": \"choice\", \"c\": \"choice\", \"d\": \"choice\"}, \"correct\": \"correct_answer\"}}'"
      ]
     },
     "execution_count": 46,
     "metadata": {},
     "output_type": "execute_result"
    }
   ],
   "source": [
    "json.dumps(RESPONSE_JSON)"
   ]
  },
  {
   "cell_type": "code",
   "execution_count": 47,
   "metadata": {},
   "outputs": [],
   "source": [
    "NUMBER = 10\n",
    "SUBJECT = \"deep Learning\",\n",
    "TONE = \"simple\""
   ]
  },
  {
   "cell_type": "code",
   "execution_count": 70,
   "metadata": {},
   "outputs": [
    {
     "name": "stdout",
     "output_type": "stream",
     "text": [
      "\n",
      "\n",
      "\u001b[1m> Entering new SequentialChain chain...\u001b[0m\n",
      "\n",
      "\n",
      "\u001b[1m> Entering new LLMChain chain...\u001b[0m\n",
      "Prompt after formatting:\n",
      "\u001b[32;1m\u001b[1;3m\n",
      "   TEXT: Collaborative filtering (CF) is a successful approach commonly used by many recommender systems.\n",
      "Conventional CF-based methods use the ratings given to items by users as the sole source of information for learning to make recommendation. \n",
      "However, the ratings are often very sparse in many applications, causing CF-based methods to degrade significantly in their recommendation performance. \n",
      "To address this sparsity problem, auxiliary information such as item content information may be utilized. Collaborative topic regression (CTR) is an appealing recent method taking this approach which tightly couples the two components that learn from two different sources of information. \n",
      "Nevertheless, the latent representation learned by CTR may not be very effective when the auxiliary information is very sparse. \n",
      "To address this problem, we generalize recently advances in deep learning from i.i.d. input to non-i.i.d. (CF-based) input and propose in this paper a hierarchical Bayesian model called collaborative deep learning (CDL), which jointly performs deep representation learning for the content information and collaborative filtering for the ratings (feedback) matrix. Extensive experiments on three real-world datasets from different domains show that CDL can significantly advance the state of the art.\n",
      "You are an expert in creating multiple choice questions. Given the above text, it is your job to create a quiz of 10 questions for ('deep Learning',) students in a simple tone. Ensure the questions are unique and relevant to the text.\n",
      "Use the format provided below as a guide to construct your quiz, making sure to include 10 MCQs:\n",
      "\n",
      "{\"1\": {\"mcq\": \"question\", \"options\": {\"a\": \"choice\", \"b\": \"choice\", \"c\": \"choice\", \"d\": \"choice\"}, \"correct\": \"correct_answer\"}, \"2\": {\"mcq\": \"question\", \"options\": {\"a\": \"choice\", \"b\": \"choice\", \"c\": \"choice\", \"d\": \"choice\"}, \"correct\": \"correct_answer\"}, \"3\": {\"mcq\": \"question\", \"options\": {\"a\": \"choice\", \"b\": \"choice\", \"c\": \"choice\", \"d\": \"choice\"}, \"correct\": \"correct_answer\"}, \"4\": {\"mcq\": \"question\", \"options\": {\"a\": \"choice\", \"b\": \"choice\", \"c\": \"choice\", \"d\": \"choice\"}, \"correct\": \"correct_answer\"}}\n",
      "\n",
      "\u001b[0m\n",
      "\n",
      "\u001b[1m> Finished chain.\u001b[0m\n",
      "\n",
      "\n",
      "\u001b[1m> Entering new LLMChain chain...\u001b[0m\n",
      "Prompt after formatting:\n",
      "\u001b[32;1m\u001b[1;3m\n",
      "    You are expert in english gramer and writer. Give a muitiple choice for students in subject ('deep Learning',).     You need to evaluate the complexity of question and give a complete ananylsis of quiz. Only use at max 50 words for each.    Quiz_MCQs:\n",
      "    {\"1\": {\"mcq\": \"What is the main issue with conventional CF-based methods?\", \"options\": {\"a\": \"They rely solely on ratings.\", \"b\": \"They are too complex to implement.\", \"c\": \"They cannot handle sparse data.\", \"d\": \"They are not scalable to large datasets.\"}, \"correct\": \"c\"}, \"2\": {\"mcq\": \"What is the purpose of CTR?\", \"options\": {\"a\": \"To improve the latent representation learned by CF.\", \"b\": \"To reduce the sparsity of rating data.\", \"c\": \"To combine item content information with ratings.\", \"d\": \"To make recommendations based on user demographics.\"}, \"correct\": \"c\"}, \"3\": {\"mcq\": \"What is the main limitation of CTR?\", \"options\": {\"a\": \"It is not suitable for sparse auxiliary information.\", \"b\": \"It requires a large amount of training data.\", \"c\": \"It cannot handle non-i.i.d. input.\", \"d\": \"It is computationally expensive.\"}, \"correct\": \"a\"}, \"4\": {\"mcq\": \"What is the main contribution of CDL?\", \"options\": {\"a\": \"It extends deep learning to non-i.i.d. input.\", \"b\": \"It combines deep representation learning with collaborative filtering.\", \"c\": \"It addresses the sparsity problem in CF.\", \"d\": \"All of the above.\"}, \"correct\": \"d\"}, \"5\": {\"mcq\": \"What type of model is CDL?\", \"options\": {\"a\": \"Hierarchical Bayesian model\", \"b\": \"Neural network model\", \"c\": \"Linear regression model\", \"d\": \"Decision tree model\"}, \"correct\": \"a\"}, \"6\": {\"mcq\": \"What is the purpose of deep representation learning in CDL?\", \"options\": {\"a\": \"To extract features from item content information.\", \"b\": \"To predict user ratings.\", \"c\": \"To improve the latent representation learned by CF.\", \"d\": \"To reduce the sparsity of rating data.\"}, \"correct\": \"a\"}, \"7\": {\"mcq\": \"What is the purpose of collaborative filtering in CDL?\", \"options\": {\"a\": \"To make recommendations based on user-item interactions.\", \"b\": \"To learn a latent representation of users and items.\", \"c\": \"To predict user ratings.\", \"d\": \"To extract features from item content information.\"}, \"correct\": \"c\"}, \"8\": {\"mcq\": \"What type of data is CDL suitable for?\", \"options\": {\"a\": \"Sparse rating data with auxiliary content information.\", \"b\": \"Dense rating data with no auxiliary information.\", \"c\": \"Structured data with no missing values.\", \"d\": \"Unstructured data with no labels.\"}, \"correct\": \"a\"}, \"9\": {\"mcq\": \"What is the main advantage of CDL over CTR?\", \"options\": {\"a\": \"It can handle sparse auxiliary information.\", \"b\": \"It requires less training data.\", \"c\": \"It is more computationally efficient.\", \"d\": \"It can make more accurate recommendations.\"}, \"correct\": \"a\"}, \"10\": {\"mcq\": \"Which of the following is NOT a potential application of CDL?\", \"options\": {\"a\": \"Recommender systems\", \"b\": \"Fraud detection\", \"c\": \"Image classification\", \"d\": \"Natural language processing\"}, \"correct\": \"c\"}}\n",
      "\n",
      "    check from expert English writer of the above quiz:\n",
      "\u001b[0m\n",
      "\n",
      "\u001b[1m> Finished chain.\u001b[0m\n",
      "\n",
      "\u001b[1m> Finished chain.\u001b[0m\n"
     ]
    }
   ],
   "source": [
    "res = generate_evalution_chain.__call__(\n",
    "        {\n",
    "        \"text\":TEXT,\n",
    "        \"number\": NUMBER,\n",
    "        \"subject\": SUBJECT,\n",
    "        \"tone\": TONE,\n",
    "        \"response_json\": json.dumps(RESPONSE_JSON)\n",
    "        }\n",
    "    )"
   ]
  },
  {
   "cell_type": "code",
   "execution_count": 71,
   "metadata": {},
   "outputs": [
    {
     "data": {
      "text/plain": [
       "{'text': 'Collaborative filtering (CF) is a successful approach commonly used by many recommender systems.\\nConventional CF-based methods use the ratings given to items by users as the sole source of information for learning to make recommendation. \\nHowever, the ratings are often very sparse in many applications, causing CF-based methods to degrade significantly in their recommendation performance. \\nTo address this sparsity problem, auxiliary information such as item content information may be utilized. Collaborative topic regression (CTR) is an appealing recent method taking this approach which tightly couples the two components that learn from two different sources of information. \\nNevertheless, the latent representation learned by CTR may not be very effective when the auxiliary information is very sparse. \\nTo address this problem, we generalize recently advances in deep learning from i.i.d. input to non-i.i.d. (CF-based) input and propose in this paper a hierarchical Bayesian model called collaborative deep learning (CDL), which jointly performs deep representation learning for the content information and collaborative filtering for the ratings (feedback) matrix. Extensive experiments on three real-world datasets from different domains show that CDL can significantly advance the state of the art.',\n",
       " 'number': 10,\n",
       " 'subject': ('deep Learning',),\n",
       " 'tone': 'simple',\n",
       " 'response_json': '{\"1\": {\"mcq\": \"question\", \"options\": {\"a\": \"choice\", \"b\": \"choice\", \"c\": \"choice\", \"d\": \"choice\"}, \"correct\": \"correct_answer\"}, \"2\": {\"mcq\": \"question\", \"options\": {\"a\": \"choice\", \"b\": \"choice\", \"c\": \"choice\", \"d\": \"choice\"}, \"correct\": \"correct_answer\"}, \"3\": {\"mcq\": \"question\", \"options\": {\"a\": \"choice\", \"b\": \"choice\", \"c\": \"choice\", \"d\": \"choice\"}, \"correct\": \"correct_answer\"}, \"4\": {\"mcq\": \"question\", \"options\": {\"a\": \"choice\", \"b\": \"choice\", \"c\": \"choice\", \"d\": \"choice\"}, \"correct\": \"correct_answer\"}}',\n",
       " 'quiz': '{\"1\": {\"mcq\": \"What is the main issue with conventional CF-based methods?\", \"options\": {\"a\": \"They rely solely on ratings.\", \"b\": \"They are too complex to implement.\", \"c\": \"They cannot handle sparse data.\", \"d\": \"They are not scalable to large datasets.\"}, \"correct\": \"c\"}, \"2\": {\"mcq\": \"What is the purpose of CTR?\", \"options\": {\"a\": \"To improve the latent representation learned by CF.\", \"b\": \"To reduce the sparsity of rating data.\", \"c\": \"To combine item content information with ratings.\", \"d\": \"To make recommendations based on user demographics.\"}, \"correct\": \"c\"}, \"3\": {\"mcq\": \"What is the main limitation of CTR?\", \"options\": {\"a\": \"It is not suitable for sparse auxiliary information.\", \"b\": \"It requires a large amount of training data.\", \"c\": \"It cannot handle non-i.i.d. input.\", \"d\": \"It is computationally expensive.\"}, \"correct\": \"a\"}, \"4\": {\"mcq\": \"What is the main contribution of CDL?\", \"options\": {\"a\": \"It extends deep learning to non-i.i.d. input.\", \"b\": \"It combines deep representation learning with collaborative filtering.\", \"c\": \"It addresses the sparsity problem in CF.\", \"d\": \"All of the above.\"}, \"correct\": \"d\"}, \"5\": {\"mcq\": \"What type of model is CDL?\", \"options\": {\"a\": \"Hierarchical Bayesian model\", \"b\": \"Neural network model\", \"c\": \"Linear regression model\", \"d\": \"Decision tree model\"}, \"correct\": \"a\"}, \"6\": {\"mcq\": \"What is the purpose of deep representation learning in CDL?\", \"options\": {\"a\": \"To extract features from item content information.\", \"b\": \"To predict user ratings.\", \"c\": \"To improve the latent representation learned by CF.\", \"d\": \"To reduce the sparsity of rating data.\"}, \"correct\": \"a\"}, \"7\": {\"mcq\": \"What is the purpose of collaborative filtering in CDL?\", \"options\": {\"a\": \"To make recommendations based on user-item interactions.\", \"b\": \"To learn a latent representation of users and items.\", \"c\": \"To predict user ratings.\", \"d\": \"To extract features from item content information.\"}, \"correct\": \"c\"}, \"8\": {\"mcq\": \"What type of data is CDL suitable for?\", \"options\": {\"a\": \"Sparse rating data with auxiliary content information.\", \"b\": \"Dense rating data with no auxiliary information.\", \"c\": \"Structured data with no missing values.\", \"d\": \"Unstructured data with no labels.\"}, \"correct\": \"a\"}, \"9\": {\"mcq\": \"What is the main advantage of CDL over CTR?\", \"options\": {\"a\": \"It can handle sparse auxiliary information.\", \"b\": \"It requires less training data.\", \"c\": \"It is more computationally efficient.\", \"d\": \"It can make more accurate recommendations.\"}, \"correct\": \"a\"}, \"10\": {\"mcq\": \"Which of the following is NOT a potential application of CDL?\", \"options\": {\"a\": \"Recommender systems\", \"b\": \"Fraud detection\", \"c\": \"Image classification\", \"d\": \"Natural language processing\"}, \"correct\": \"c\"}}',\n",
       " 'review': '**Question 1:**\\n* Complexity: Medium\\n* Analysis: Requires understanding of the limitations of traditional collaborative filtering methods.\\n\\n**Question 2:**\\n* Complexity: Easy\\n* Analysis: Basic comprehension of the concept of CTR.\\n\\n**Question 3:**\\n* Complexity: Medium\\n* Analysis: Requires knowledge of the limitations of CTR and an understanding of auxiliary information.\\n\\n**Question 4:**\\n* Complexity: Easy\\n* Analysis: Basic understanding of the main contributions of CDL.\\n\\n**Question 5:**\\n* Complexity: Easy\\n* Analysis: Simple identification of the type of model used in CDL.\\n\\n**Question 6:**\\n* Complexity: Medium\\n* Analysis: Requires understanding of the role of deep representation learning in CDL.\\n\\n**Question 7:**\\n* Complexity: Easy\\n* Analysis: Basic comprehension of the purpose of collaborative filtering.\\n\\n**Question 8:**\\n* Complexity: Medium\\n* Analysis: Requires understanding of the type of data suitable for CDL.\\n\\n**Question 9:**\\n* Complexity: Medium\\n* Analysis: Requires comparison of CDL and CTR with respect to their capabilities.\\n\\n**Question 10:**\\n* Complexity: Medium\\n* Analysis: Requires understanding of the potential applications of CDL and the identification of an incorrect option.'}"
      ]
     },
     "execution_count": 71,
     "metadata": {},
     "output_type": "execute_result"
    }
   ],
   "source": [
    "res"
   ]
  },
  {
   "cell_type": "code",
   "execution_count": 72,
   "metadata": {},
   "outputs": [],
   "source": [
    "quiz = res.get('quiz')"
   ]
  },
  {
   "cell_type": "code",
   "execution_count": 73,
   "metadata": {},
   "outputs": [],
   "source": [
    "quiz2 = json.loads(quiz)\n"
   ]
  },
  {
   "cell_type": "code",
   "execution_count": 74,
   "metadata": {},
   "outputs": [
    {
     "data": {
      "text/plain": [
       "dict"
      ]
     },
     "execution_count": 74,
     "metadata": {},
     "output_type": "execute_result"
    }
   ],
   "source": [
    "type(quiz2)"
   ]
  },
  {
   "cell_type": "code",
   "execution_count": 75,
   "metadata": {},
   "outputs": [],
   "source": [
    "data = quiz2"
   ]
  },
  {
   "cell_type": "code",
   "execution_count": 22,
   "metadata": {},
   "outputs": [],
   "source": [
    "quiz_data = []\n",
    "for key,value in quiz.items():\n",
    "    mcq = value.get('mcq')\n",
    "    options = [f'{key}: {val}' for key, val in value.get('options').items()]\n",
    "    correct = value.get('correct')\n",
    "    quiz_data.append({'MCQ':mcq,\"options\":options, \"Correct Answer\": correct})"
   ]
  },
  {
   "cell_type": "code",
   "execution_count": 23,
   "metadata": {},
   "outputs": [
    {
     "data": {
      "text/plain": [
       "[{'MCQ': 'What is the primary drawback of conventional Collaborative Filtering (CF)-based methods?',\n",
       "  'options': ['a: Overfitting',\n",
       "   'b: Sparsity of ratings',\n",
       "   'c: High computational cost',\n",
       "   'd: Lack of user personalization'],\n",
       "  'Correct Answer': 'b'},\n",
       " {'MCQ': 'What type of information is utilized by Collaborative Topic Regression (CTR) to address the sparsity problem?',\n",
       "  'options': ['a: User demographics',\n",
       "   'b: Item content',\n",
       "   'c: Social network connections',\n",
       "   'd: Historical purchase data'],\n",
       "  'Correct Answer': 'b'},\n",
       " {'MCQ': 'What is the main limitation of CTR when auxiliary information is sparse?',\n",
       "  'options': ['a: Increased overfitting',\n",
       "   'b: Ineffective latent representation',\n",
       "   'c: Poor convergence',\n",
       "   'd: Difficulty in model training'],\n",
       "  'Correct Answer': 'b'},\n",
       " {'MCQ': 'In Collaborative Deep Learning (CDL), what type of representation learning is performed for content information?',\n",
       "  'options': ['a: Linear regression',\n",
       "   'b: Deep representation learning',\n",
       "   'c: Clustering',\n",
       "   'd: Dimensionality reduction'],\n",
       "  'Correct Answer': 'b'},\n",
       " {'MCQ': 'What is the main advantage of CDL over CTR?',\n",
       "  'options': ['a: Improved handling of sparse auxiliary information',\n",
       "   'b: Faster training time',\n",
       "   'c: Ability to capture more complex user preferences',\n",
       "   'd: No need for parameter tuning'],\n",
       "  'Correct Answer': 'a'},\n",
       " {'MCQ': 'What type of input does CDL generalize recently advances in deep learning from?',\n",
       "  'options': ['a: i.i.d.',\n",
       "   'b: Non-i.i.d.',\n",
       "   'c: Structured',\n",
       "   'd: Unstructured'],\n",
       "  'Correct Answer': 'b'},\n",
       " {'MCQ': 'What is the purpose of the feedback matrix in CDL?',\n",
       "  'options': ['a: To store user ratings',\n",
       "   'b: To represent item content',\n",
       "   'c: To model user-item interactions',\n",
       "   'd: To regularize the model'],\n",
       "  'Correct Answer': 'a'},\n",
       " {'MCQ': 'Which of the following is NOT a benefit of using CDL?',\n",
       "  'options': ['a: Enhanced recommendation performance',\n",
       "   'b: Reduced overfitting',\n",
       "   'c: Increased interpretability',\n",
       "   'd: Faster convergence'],\n",
       "  'Correct Answer': 'c'},\n",
       " {'MCQ': 'In which domains have experiments shown that CDL significantly advances the state of the art?',\n",
       "  'options': ['a: E-commerce',\n",
       "   'b: Movie recommendation',\n",
       "   'c: Music streaming',\n",
       "   'd: All of the above'],\n",
       "  'Correct Answer': 'd'},\n",
       " {'MCQ': 'What is the main idea behind CDL?',\n",
       "  'options': ['a: Combining deep learning and collaborative filtering',\n",
       "   'b: Using auxiliary information to enhance recommendation performance',\n",
       "   'c: Learning a hierarchical representation of user preferences',\n",
       "   'd: Improving the scalability of recommender systems'],\n",
       "  'Correct Answer': 'a'}]"
      ]
     },
     "execution_count": 23,
     "metadata": {},
     "output_type": "execute_result"
    }
   ],
   "source": [
    "quiz_data"
   ]
  },
  {
   "cell_type": "code",
   "execution_count": 24,
   "metadata": {},
   "outputs": [
    {
     "data": {
      "text/html": [
       "<div>\n",
       "<style scoped>\n",
       "    .dataframe tbody tr th:only-of-type {\n",
       "        vertical-align: middle;\n",
       "    }\n",
       "\n",
       "    .dataframe tbody tr th {\n",
       "        vertical-align: top;\n",
       "    }\n",
       "\n",
       "    .dataframe thead th {\n",
       "        text-align: right;\n",
       "    }\n",
       "</style>\n",
       "<table border=\"1\" class=\"dataframe\">\n",
       "  <thead>\n",
       "    <tr style=\"text-align: right;\">\n",
       "      <th></th>\n",
       "      <th>MCQ</th>\n",
       "      <th>options</th>\n",
       "      <th>Correct Answer</th>\n",
       "    </tr>\n",
       "  </thead>\n",
       "  <tbody>\n",
       "    <tr>\n",
       "      <th>0</th>\n",
       "      <td>What is the primary drawback of conventional C...</td>\n",
       "      <td>[a: Overfitting, b: Sparsity of ratings, c: Hi...</td>\n",
       "      <td>b</td>\n",
       "    </tr>\n",
       "    <tr>\n",
       "      <th>1</th>\n",
       "      <td>What type of information is utilized by Collab...</td>\n",
       "      <td>[a: User demographics, b: Item content, c: Soc...</td>\n",
       "      <td>b</td>\n",
       "    </tr>\n",
       "    <tr>\n",
       "      <th>2</th>\n",
       "      <td>What is the main limitation of CTR when auxili...</td>\n",
       "      <td>[a: Increased overfitting, b: Ineffective late...</td>\n",
       "      <td>b</td>\n",
       "    </tr>\n",
       "    <tr>\n",
       "      <th>3</th>\n",
       "      <td>In Collaborative Deep Learning (CDL), what typ...</td>\n",
       "      <td>[a: Linear regression, b: Deep representation ...</td>\n",
       "      <td>b</td>\n",
       "    </tr>\n",
       "    <tr>\n",
       "      <th>4</th>\n",
       "      <td>What is the main advantage of CDL over CTR?</td>\n",
       "      <td>[a: Improved handling of sparse auxiliary info...</td>\n",
       "      <td>a</td>\n",
       "    </tr>\n",
       "    <tr>\n",
       "      <th>5</th>\n",
       "      <td>What type of input does CDL generalize recentl...</td>\n",
       "      <td>[a: i.i.d., b: Non-i.i.d., c: Structured, d: U...</td>\n",
       "      <td>b</td>\n",
       "    </tr>\n",
       "    <tr>\n",
       "      <th>6</th>\n",
       "      <td>What is the purpose of the feedback matrix in ...</td>\n",
       "      <td>[a: To store user ratings, b: To represent ite...</td>\n",
       "      <td>a</td>\n",
       "    </tr>\n",
       "    <tr>\n",
       "      <th>7</th>\n",
       "      <td>Which of the following is NOT a benefit of usi...</td>\n",
       "      <td>[a: Enhanced recommendation performance, b: Re...</td>\n",
       "      <td>c</td>\n",
       "    </tr>\n",
       "    <tr>\n",
       "      <th>8</th>\n",
       "      <td>In which domains have experiments shown that C...</td>\n",
       "      <td>[a: E-commerce, b: Movie recommendation, c: Mu...</td>\n",
       "      <td>d</td>\n",
       "    </tr>\n",
       "    <tr>\n",
       "      <th>9</th>\n",
       "      <td>What is the main idea behind CDL?</td>\n",
       "      <td>[a: Combining deep learning and collaborative ...</td>\n",
       "      <td>a</td>\n",
       "    </tr>\n",
       "  </tbody>\n",
       "</table>\n",
       "</div>"
      ],
      "text/plain": [
       "                                                 MCQ  \\\n",
       "0  What is the primary drawback of conventional C...   \n",
       "1  What type of information is utilized by Collab...   \n",
       "2  What is the main limitation of CTR when auxili...   \n",
       "3  In Collaborative Deep Learning (CDL), what typ...   \n",
       "4        What is the main advantage of CDL over CTR?   \n",
       "5  What type of input does CDL generalize recentl...   \n",
       "6  What is the purpose of the feedback matrix in ...   \n",
       "7  Which of the following is NOT a benefit of usi...   \n",
       "8  In which domains have experiments shown that C...   \n",
       "9                  What is the main idea behind CDL?   \n",
       "\n",
       "                                             options Correct Answer  \n",
       "0  [a: Overfitting, b: Sparsity of ratings, c: Hi...              b  \n",
       "1  [a: User demographics, b: Item content, c: Soc...              b  \n",
       "2  [a: Increased overfitting, b: Ineffective late...              b  \n",
       "3  [a: Linear regression, b: Deep representation ...              b  \n",
       "4  [a: Improved handling of sparse auxiliary info...              a  \n",
       "5  [a: i.i.d., b: Non-i.i.d., c: Structured, d: U...              b  \n",
       "6  [a: To store user ratings, b: To represent ite...              a  \n",
       "7  [a: Enhanced recommendation performance, b: Re...              c  \n",
       "8  [a: E-commerce, b: Movie recommendation, c: Mu...              d  \n",
       "9  [a: Combining deep learning and collaborative ...              a  "
      ]
     },
     "execution_count": 24,
     "metadata": {},
     "output_type": "execute_result"
    }
   ],
   "source": [
    "pd.DataFrame(quiz_data)"
   ]
  },
  {
   "cell_type": "code",
   "execution_count": 25,
   "metadata": {},
   "outputs": [],
   "source": [
    "df = pd.DataFrame(quiz_data)"
   ]
  },
  {
   "cell_type": "code",
   "execution_count": 78,
   "metadata": {},
   "outputs": [],
   "source": [
    "class MCQPDF(FPDF):\n",
    "    def __init__(self, include_answers=True):\n",
    "        super().__init__()\n",
    "        self.include_answers = include_answers\n",
    "        self.title_added = False\n",
    "        self.add_page()\n",
    "        self.set_auto_page_break(auto=True, margin=30)\n",
    "\n",
    "    def header(self):\n",
    "        title = 'MCQ Assessment - Answers Included' if self.include_answers else 'MCQ Assessment - For Students'\n",
    "        if not self.title_added:\n",
    "            self.set_font('Arial', 'I', 16)\n",
    "            self.cell(0, 10, title, 0, 1, 'C')\n",
    "            self.cell(0, 10, '', 0, 1, 'C')\n",
    "            self.title_added = True\n",
    "\n",
    "    def footer(self):\n",
    "\n",
    "        self.set_y(-15)\n",
    "        self.set_font('Arial', 'I', 8)\n",
    "        self.cell(0, 10, 'Generated by Hana-AI', 0, 0, 'L')\n",
    "        self.cell(0, 10, 'Page %s' % self.page_no(), 0, 0, 'C')\n",
    "\n",
    "    def create_document(self,data):\n",
    "        self.set_font(\"Arial\", size=12)\n",
    "        for key, value in data.items():\n",
    "            self.set_font(\"Arial\", 'B', 12)\n",
    "            self.multi_cell(0, 10, f\"Question {key}: {value['mcq']}\")\n",
    "            self.set_font(\"Arial\", size=12)\n",
    "            for opt_key, opt_value in value['options'].items():\n",
    "                self.multi_cell(0, 10, f\"{opt_key}: {opt_value}\")\n",
    "            if self.include_answers:\n",
    "                self.multi_cell(0, 10, f\"Correct Answer: {value['correct']}\")\n",
    "            self.ln(10)\n"
   ]
  },
  {
   "cell_type": "code",
   "execution_count": 79,
   "metadata": {},
   "outputs": [
    {
     "data": {
      "text/plain": [
       "''"
      ]
     },
     "execution_count": 79,
     "metadata": {},
     "output_type": "execute_result"
    }
   ],
   "source": [
    "pdf_with_answers = MCQPDF(include_answers=True)\n",
    "pdf_with_answers.set_author(\"Hana-AI\")\n",
    "pdf_with_answers.create_document(data)\n",
    "pdf_with_answers.output(\"MCQs_by_HanaAi_with_Answers.pdf\")\n",
    "\n",
    "pdf_without_answers = MCQPDF(include_answers=False)\n",
    "pdf_without_answers.set_author(\"Hana-AI\")\n",
    "pdf_without_answers.create_document(data)\n",
    "pdf_without_answers.output(\"MCQs_by_HanaAi_.pdf\")"
   ]
  },
  {
   "cell_type": "code",
   "execution_count": 28,
   "metadata": {},
   "outputs": [
    {
     "name": "stdout",
     "output_type": "stream",
     "text": [
      "fucked successfully....\n"
     ]
    }
   ],
   "source": [
    "print(\"fucked successfully....\")"
   ]
  },
  {
   "cell_type": "code",
   "execution_count": null,
   "metadata": {},
   "outputs": [],
   "source": []
  }
 ],
 "metadata": {
  "kernelspec": {
   "display_name": "quiz_generator",
   "language": "python",
   "name": "python3"
  },
  "language_info": {
   "codemirror_mode": {
    "name": "ipython",
    "version": 3
   },
   "file_extension": ".py",
   "mimetype": "text/x-python",
   "name": "python",
   "nbconvert_exporter": "python",
   "pygments_lexer": "ipython3",
   "version": "3.12.3"
  }
 },
 "nbformat": 4,
 "nbformat_minor": 2
}
