{
 "cells": [
  {
   "cell_type": "code",
   "execution_count": 1,
   "id": "3c722e93",
   "metadata": {},
   "outputs": [],
   "source": [
    "import spacy\n",
    "import pandas as pd\n",
    "import numpy as np"
   ]
  },
  {
   "cell_type": "code",
   "execution_count": 2,
   "id": "6b804e66",
   "metadata": {},
   "outputs": [],
   "source": [
    "q=pd.read_csv('quora_questions.csv')"
   ]
  },
  {
   "cell_type": "code",
   "execution_count": 4,
   "id": "a1af1bf1",
   "metadata": {},
   "outputs": [
    {
     "data": {
      "text/html": [
       "<div>\n",
       "<style scoped>\n",
       "    .dataframe tbody tr th:only-of-type {\n",
       "        vertical-align: middle;\n",
       "    }\n",
       "\n",
       "    .dataframe tbody tr th {\n",
       "        vertical-align: top;\n",
       "    }\n",
       "\n",
       "    .dataframe thead th {\n",
       "        text-align: right;\n",
       "    }\n",
       "</style>\n",
       "<table border=\"1\" class=\"dataframe\">\n",
       "  <thead>\n",
       "    <tr style=\"text-align: right;\">\n",
       "      <th></th>\n",
       "      <th>Question</th>\n",
       "    </tr>\n",
       "  </thead>\n",
       "  <tbody>\n",
       "    <tr>\n",
       "      <th>404284</th>\n",
       "      <td>How many keywords are there in the Racket prog...</td>\n",
       "    </tr>\n",
       "    <tr>\n",
       "      <th>404285</th>\n",
       "      <td>Do you believe there is life after death?</td>\n",
       "    </tr>\n",
       "    <tr>\n",
       "      <th>404286</th>\n",
       "      <td>What is one coin?</td>\n",
       "    </tr>\n",
       "    <tr>\n",
       "      <th>404287</th>\n",
       "      <td>What is the approx annual cost of living while...</td>\n",
       "    </tr>\n",
       "    <tr>\n",
       "      <th>404288</th>\n",
       "      <td>What is like to have sex with cousin?</td>\n",
       "    </tr>\n",
       "  </tbody>\n",
       "</table>\n",
       "</div>"
      ],
      "text/plain": [
       "                                                 Question\n",
       "404284  How many keywords are there in the Racket prog...\n",
       "404285          Do you believe there is life after death?\n",
       "404286                                  What is one coin?\n",
       "404287  What is the approx annual cost of living while...\n",
       "404288              What is like to have sex with cousin?"
      ]
     },
     "execution_count": 4,
     "metadata": {},
     "output_type": "execute_result"
    }
   ],
   "source": [
    "q.tail()"
   ]
  },
  {
   "cell_type": "code",
   "execution_count": 5,
   "id": "01a9d362",
   "metadata": {},
   "outputs": [],
   "source": [
    "from sklearn.feature_extraction.text import TfidfVectorizer"
   ]
  },
  {
   "cell_type": "code",
   "execution_count": 12,
   "id": "9f711507",
   "metadata": {},
   "outputs": [],
   "source": [
    "tf=TfidfVectorizer(max_df=0.3,min_df=5,stop_words='english')"
   ]
  },
  {
   "cell_type": "code",
   "execution_count": 13,
   "id": "9d1c82b1",
   "metadata": {},
   "outputs": [],
   "source": [
    "dtm=tf.fit_transform(q['Question'])"
   ]
  },
  {
   "cell_type": "code",
   "execution_count": 14,
   "id": "d5aeab78",
   "metadata": {},
   "outputs": [
    {
     "data": {
      "text/plain": [
       "<404289x21804 sparse matrix of type '<class 'numpy.float64'>'\n",
       "\twith 1957885 stored elements in Compressed Sparse Row format>"
      ]
     },
     "execution_count": 14,
     "metadata": {},
     "output_type": "execute_result"
    }
   ],
   "source": [
    "dtm"
   ]
  },
  {
   "cell_type": "code",
   "execution_count": 15,
   "id": "ae48a7b3",
   "metadata": {},
   "outputs": [],
   "source": [
    "from sklearn.decomposition import NMF"
   ]
  },
  {
   "cell_type": "code",
   "execution_count": 16,
   "id": "023a8a5c",
   "metadata": {},
   "outputs": [],
   "source": [
    "tpa=NMF(n_components=20,random_state=42)"
   ]
  },
  {
   "cell_type": "code",
   "execution_count": 17,
   "id": "7ce7db94",
   "metadata": {},
   "outputs": [
    {
     "data": {
      "text/plain": [
       "NMF(alpha=0.0, beta_loss='frobenius', init=None, l1_ratio=0.0, max_iter=200,\n",
       "  n_components=20, random_state=42, shuffle=False, solver='cd', tol=0.0001,\n",
       "  verbose=0)"
      ]
     },
     "execution_count": 17,
     "metadata": {},
     "output_type": "execute_result"
    }
   ],
   "source": [
    "tpa.fit(dtm)"
   ]
  },
  {
   "cell_type": "code",
   "execution_count": 25,
   "id": "45ff090a",
   "metadata": {},
   "outputs": [
    {
     "data": {
      "text/plain": [
       "'viscosity'"
      ]
     },
     "execution_count": 25,
     "metadata": {},
     "output_type": "execute_result"
    }
   ],
   "source": [
    "tf.get_feature_names()[21000]"
   ]
  },
  {
   "cell_type": "code",
   "execution_count": 22,
   "id": "8a82afbb",
   "metadata": {},
   "outputs": [
    {
     "data": {
      "text/plain": [
       "array([0.0004637 , 0.00557612, 0.        , ..., 0.        , 0.        ,\n",
       "       0.00785395])"
      ]
     },
     "execution_count": 22,
     "metadata": {},
     "output_type": "execute_result"
    }
   ],
   "source": [
    "tpa.components_[18]"
   ]
  },
  {
   "cell_type": "code",
   "execution_count": 23,
   "id": "a5f9ccb8",
   "metadata": {},
   "outputs": [
    {
     "name": "stdout",
     "output_type": "stream",
     "text": [
      "this is topic 0\n",
      "['thing', 'read', 'place', 'visit', 'places', 'phone', 'buy', 'laptop', 'movie', 'ways', '2016', 'book', 'books', 'movies', 'best']\n",
      "\n",
      "\n",
      "this is topic 1\n",
      "['majors', 'grads', 'recruit', 'looking', 'differ', 'use', 'exist', 'really', 'compare', 'cost', 'long', 'feel', 'work', 'mean', 'does']\n",
      "\n",
      "\n",
      "this is topic 2\n",
      "['add', 'answered', 'needing', 'post', 'easily', 'improvement', 'delete', 'asked', 'google', 'answers', 'answer', 'ask', 'question', 'questions', 'quora']\n",
      "\n",
      "\n",
      "this is topic 3\n",
      "['investment', 'website', 'friends', 'com', 'black', 'internet', 'free', 'home', 'easy', 'youtube', 'ways', 'earn', 'online', 'make', 'money']\n",
      "\n",
      "\n",
      "this is topic 4\n",
      "['balance', 'earth', 'day', 'death', 'changed', 'live', 'change', 'want', 'moment', 'real', 'important', 'thing', 'meaning', 'purpose', 'life']\n",
      "\n",
      "\n",
      "this is topic 5\n",
      "['chinese', 'blowing', 'stop', 'easily', 'mind', 'use', 'google', 'flat', 'questions', 'believe', 'hate', 'ask', 'don', 'think', 'people']\n",
      "\n",
      "\n",
      "this is topic 6\n",
      "['beginner', 'beginners', 'computer', 'online', 'book', 'hacking', 'want', 'python', 'languages', 'java', 'learning', 'start', 'programming', 'language', 'learn']\n",
      "\n",
      "\n",
      "this is topic 7\n",
      "['happen', 'presidency', 'think', 'presidential', '2016', 'vote', 'better', 'election', 'did', 'win', 'hillary', 'president', 'clinton', 'donald', 'trump']\n",
      "\n",
      "\n",
      "this is topic 8\n",
      "['reservation', 'president', 'minister', 'company', 'engineering', 'china', 'business', 'country', 'olympics', 'available', 'job', 'spotify', 'war', 'pakistan', 'india']\n",
      "\n",
      "\n",
      "this is topic 9\n",
      "['indian', 'don', 'guy', 'companies', 'men', 'women', 'culture', 'girls', 'live', 'work', 'girl', 'look', 'sex', 'feel', 'like']\n",
      "\n",
      "\n",
      "this is topic 10\n",
      "['ca', 'installation', 'solar', 'panel', 'read', 'provider', 'start', 'business', 'job', 'work', 'engineering', 'ways', 'bad', 'books', 'good']\n",
      "\n",
      "\n",
      "this is topic 11\n",
      "['blowing', 'resolutions', 'resolution', 'mind', 'likes', 'girl', '2017', 'year', 'don', 'employees', 'going', 'day', 'things', 'new', 'know']\n",
      "\n",
      "\n",
      "this is topic 12\n",
      "['money', 'modi', 'currency', 'economy', 'government', 'think', 'ban', 'banning', 'black', 'indian', 'rupee', 'rs', '1000', 'notes', '500']\n",
      "\n",
      "\n",
      "this is topic 13\n",
      "['fluent', 'word', 'skill', 'spoken', 'ways', 'language', 'fluently', 'communication', 'speak', 'pronunciation', 'speaking', 'writing', 'skills', 'improve', 'english']\n",
      "\n",
      "\n",
      "this is topic 14\n",
      "['diet', 'healthy', 'help', 'exercise', 'month', 'pounds', 'reduce', 'quickly', 'loss', 'fast', 'fat', 'ways', 'gain', 'lose', 'weight']\n",
      "\n",
      "\n",
      "this is topic 15\n",
      "['learning', 'company', 'web', 'programming', 'use', 'chinese', 'java', 'scripting', 'better', 'data', 'software', 'science', 'computer', 'engineering', 'difference']\n",
      "\n",
      "\n",
      "this is topic 16\n",
      "['having', 'feel', 'did', 'spend', 'long', 'person', 'machine', 'favorite', 'movies', 'job', 'home', 'sex', 'possible', 'travel', 'time']\n",
      "\n",
      "\n",
      "this is topic 17\n",
      "['doesn', 'marriage', 'did', 'girlfriend', 'feel', 'tell', 'forget', 'friend', 'really', 'true', 'know', 'person', 'girl', 'fall', 'love']\n",
      "\n",
      "\n",
      "this is topic 18\n",
      "['rid', 'start', 'quickest', 'prepare', 'facebook', 'increase', 'painless', 'instagram', 'account', 'best', 'commit', 'fastest', 'suicide', 'easiest', 'way']\n",
      "\n",
      "\n",
      "this is topic 19\n",
      "['thing', 'business', 'win', 'coming', 'countries', 'place', 'pakistan', 'happen', 'end', 'country', 'iii', 'start', 'did', 'war', 'world']\n",
      "\n",
      "\n"
     ]
    }
   ],
   "source": [
    "for i,topic in enumerate(tpa.components_):\n",
    "    print(f'this is topic {i}')\n",
    "    print([tf.get_feature_names()[index] for index in topic.argsort()[-15:]])\n",
    "    print('\\n')"
   ]
  },
  {
   "cell_type": "code",
   "execution_count": 31,
   "id": "a2909b18",
   "metadata": {},
   "outputs": [],
   "source": [
    "topics_from_documents=tpa.transform(dtm)"
   ]
  },
  {
   "cell_type": "code",
   "execution_count": 39,
   "id": "eee1aea7",
   "metadata": {},
   "outputs": [
    {
     "data": {
      "text/plain": [
       "13"
      ]
     },
     "execution_count": 39,
     "metadata": {},
     "output_type": "execute_result"
    }
   ],
   "source": [
    "topics_from_documents[401000].argmax()"
   ]
  },
  {
   "cell_type": "code",
   "execution_count": 40,
   "id": "e0914ca9",
   "metadata": {},
   "outputs": [],
   "source": [
    "top_dict={0:'fun',1:'Education',2:'Internet_Surf',3:'Remote_work',4:'life & Death',\n",
    "         5:'The Chinese',6:'Coding',7:'Politics',8:'Asian Countries',9:'Indian_culture',\n",
    "         10:'solar_energy',11:'personal_goals',12:'Indian_finance',13:'Communication',\n",
    "         14:'Physical_Exercise',15:'chinese_IT',16:'Lifestyle',17:'Love & Dating',18:'Social_media_topic',\n",
    "         19:'World_war 3'}"
   ]
  },
  {
   "cell_type": "code",
   "execution_count": 50,
   "id": "03feee90",
   "metadata": {},
   "outputs": [
    {
     "data": {
      "text/plain": [
       "array([ 8, 17, 18, ..., 12, 12,  9], dtype=int64)"
      ]
     },
     "execution_count": 50,
     "metadata": {},
     "output_type": "execute_result"
    }
   ],
   "source": [
    "q['topics']=topics_from_documents.argmax(axis=1)"
   ]
  },
  {
   "cell_type": "code",
   "execution_count": 43,
   "id": "a0956413",
   "metadata": {},
   "outputs": [],
   "source": [
    "q['topic_category']=q['topics'].map(top_dict)"
   ]
  },
  {
   "cell_type": "code",
   "execution_count": 55,
   "id": "37cf5c71",
   "metadata": {},
   "outputs": [
    {
     "data": {
      "text/html": [
       "<div>\n",
       "<style scoped>\n",
       "    .dataframe tbody tr th:only-of-type {\n",
       "        vertical-align: middle;\n",
       "    }\n",
       "\n",
       "    .dataframe tbody tr th {\n",
       "        vertical-align: top;\n",
       "    }\n",
       "\n",
       "    .dataframe thead th {\n",
       "        text-align: right;\n",
       "    }\n",
       "</style>\n",
       "<table border=\"1\" class=\"dataframe\">\n",
       "  <thead>\n",
       "    <tr style=\"text-align: right;\">\n",
       "      <th></th>\n",
       "      <th>Question</th>\n",
       "      <th>topics</th>\n",
       "      <th>topic_category</th>\n",
       "    </tr>\n",
       "  </thead>\n",
       "  <tbody>\n",
       "    <tr>\n",
       "      <th>0</th>\n",
       "      <td>What is the step by step guide to invest in sh...</td>\n",
       "      <td>8</td>\n",
       "      <td>Asian Countries</td>\n",
       "    </tr>\n",
       "    <tr>\n",
       "      <th>1</th>\n",
       "      <td>What is the story of Kohinoor (Koh-i-Noor) Dia...</td>\n",
       "      <td>17</td>\n",
       "      <td>Love &amp; Dating</td>\n",
       "    </tr>\n",
       "    <tr>\n",
       "      <th>2</th>\n",
       "      <td>How can I increase the speed of my internet co...</td>\n",
       "      <td>18</td>\n",
       "      <td>Social_media_topic</td>\n",
       "    </tr>\n",
       "    <tr>\n",
       "      <th>3</th>\n",
       "      <td>Why am I mentally very lonely? How can I solve...</td>\n",
       "      <td>12</td>\n",
       "      <td>Indian_finance</td>\n",
       "    </tr>\n",
       "    <tr>\n",
       "      <th>4</th>\n",
       "      <td>Which one dissolve in water quikly sugar, salt...</td>\n",
       "      <td>1</td>\n",
       "      <td>Education</td>\n",
       "    </tr>\n",
       "  </tbody>\n",
       "</table>\n",
       "</div>"
      ],
      "text/plain": [
       "                                            Question  topics  \\\n",
       "0  What is the step by step guide to invest in sh...       8   \n",
       "1  What is the story of Kohinoor (Koh-i-Noor) Dia...      17   \n",
       "2  How can I increase the speed of my internet co...      18   \n",
       "3  Why am I mentally very lonely? How can I solve...      12   \n",
       "4  Which one dissolve in water quikly sugar, salt...       1   \n",
       "\n",
       "       topic_category  \n",
       "0     Asian Countries  \n",
       "1       Love & Dating  \n",
       "2  Social_media_topic  \n",
       "3      Indian_finance  \n",
       "4           Education  "
      ]
     },
     "execution_count": 55,
     "metadata": {},
     "output_type": "execute_result"
    }
   ],
   "source": [
    "q.head()"
   ]
  },
  {
   "cell_type": "code",
   "execution_count": 56,
   "id": "53a28ff5",
   "metadata": {},
   "outputs": [
    {
     "data": {
      "text/plain": [
       "'What is the step by step guide to invest in share market in india?'"
      ]
     },
     "execution_count": 56,
     "metadata": {},
     "output_type": "execute_result"
    }
   ],
   "source": [
    "q['Question'][0]"
   ]
  },
  {
   "cell_type": "code",
   "execution_count": null,
   "id": "8d80f711",
   "metadata": {},
   "outputs": [],
   "source": []
  }
 ],
 "metadata": {
  "kernelspec": {
   "display_name": "Python 3 (ipykernel)",
   "language": "python",
   "name": "python3"
  },
  "language_info": {
   "codemirror_mode": {
    "name": "ipython",
    "version": 3
   },
   "file_extension": ".py",
   "mimetype": "text/x-python",
   "name": "python",
   "nbconvert_exporter": "python",
   "pygments_lexer": "ipython3",
   "version": "3.7.16"
  }
 },
 "nbformat": 4,
 "nbformat_minor": 5
}
