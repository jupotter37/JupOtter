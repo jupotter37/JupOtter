{
 "cells": [
  {
   "cell_type": "markdown",
   "metadata": {},
   "source": [
    "<img src=\"https://imgs.xkcd.com/comics/python.png\" />\n",
    "\n",
    "\n",
    "From https://wiki.python.org/moin/BeginnersGuide/Overview\n",
    "\n",
    "\n",
    "### Python is a clear and powerful object-oriented programming language, comparable to Perl, Ruby, Scheme, or Java.\n",
    "\n",
    "Some of Python's notable features:\n",
    "\n",
    " * Uses an elegant syntax, making the programs you write easier to read.\n",
    " * Is an easy-to-use language that makes it simple to get your program working. This makes Python ideal for prototype development and other ad-hoc programming tasks, without compromising maintainability.\n",
    " * Comes with a large standard library that supports many common programming tasks such as connecting to web servers, searching text with regular expressions,  reading and modifying files.\n",
    " * Python's interactive mode makes it easy to test short snippets of code. There's also a bundled development environment called IDLE.\n",
    " * Is easily extended by adding new modules implemented in a compiled language such as C or C++.\n",
    " * Can also be embedded into an application to provide a programmable interface.\n",
    " * Runs on many different computers and operating systems: Windows, MacOS, many brands of Unix, OS/2, ...\n",
    " * Is free software in two senses.  It doesn't cost anything to download or use Python, or to include it in your application.  Python can also be freely modified and re-distributed, because while the language is copyrighted it's available under [open source license](http://www.python.org/psf/license/).\n",
    "\n",
    "Some programming-language features of Python are:\n",
    "\n",
    " * A variety of basic data types are available: numbers (floating point, complex, and unlimited-length long integers), strings (both ASCII and Unicode), lists, and dictionaries.\n",
    " * Python supports object-oriented programming with classes and multiple inheritance.\n",
    " * Code can be grouped into modules and packages.\n",
    " * The language supports raising and catching exceptions, resulting in cleaner error handling.\n",
    " * Data types are strongly and dynamically typed. Mixing incompatible types (e.g. attempting to add a string and a number) causes an exception to be raised, so errors are caught sooner.\n",
    " * Python contains advanced programming features such as generators and list comprehensions.\n",
    " * Python's automatic memory management frees you from having to manually allocate and free memory in your code.\n",
    "\n",
    "See the SimplePrograms collection of short programs, gradually increasing in length, which show off Python's syntax and readability."
   ]
  },
  {
   "cell_type": "code",
   "execution_count": null,
   "metadata": {
    "collapsed": false
   },
   "outputs": [],
   "source": [
    "\"hello world\""
   ]
  },
  {
   "cell_type": "markdown",
   "metadata": {},
   "source": [
    "# Some of Python's notable features"
   ]
  },
  {
   "cell_type": "markdown",
   "metadata": {},
   "source": [
    "### A variety of basic data types are available: numbers (floating point, complex, and unlimited-length long integers), strings (both ASCII and Unicode), lists, and dictionaries."
   ]
  },
  {
   "cell_type": "code",
   "execution_count": null,
   "metadata": {
    "collapsed": false
   },
   "outputs": [],
   "source": [
    "a = \"1\"\n",
    "print(type(a))\n",
    "a = 1\n",
    "print(type(a))"
   ]
  },
  {
   "cell_type": "markdown",
   "metadata": {},
   "source": [
    "lists\n",
    "<img src=\"http://vignette4.wikia.nocookie.net/seuss/images/d/d3/Thing1-and-thing2.jpg/revision/latest/scale-to-width-down/180?cb=20131013015212&format=webp\"/>\n"
   ]
  },
  {
   "cell_type": "code",
   "execution_count": null,
   "metadata": {
    "collapsed": false
   },
   "outputs": [],
   "source": [
    "things = [\"Thing One\", \"Thing Two\", \"Thing Three\"]\n",
    "things"
   ]
  },
  {
   "cell_type": "code",
   "execution_count": null,
   "metadata": {
    "collapsed": false
   },
   "outputs": [],
   "source": [
    "type(things)"
   ]
  },
  {
   "cell_type": "code",
   "execution_count": null,
   "metadata": {
    "collapsed": false
   },
   "outputs": [],
   "source": [
    "len(things)"
   ]
  },
  {
   "cell_type": "code",
   "execution_count": null,
   "metadata": {
    "collapsed": true
   },
   "outputs": [],
   "source": [
    "things?"
   ]
  },
  {
   "cell_type": "code",
   "execution_count": null,
   "metadata": {
    "collapsed": false
   },
   "outputs": [],
   "source": [
    "things.append(\"Thing Four\")"
   ]
  },
  {
   "cell_type": "code",
   "execution_count": null,
   "metadata": {
    "collapsed": false
   },
   "outputs": [],
   "source": [
    "things"
   ]
  },
  {
   "cell_type": "markdown",
   "metadata": {},
   "source": [
    "Dictionaries"
   ]
  },
  {
   "cell_type": "code",
   "execution_count": null,
   "metadata": {
    "collapsed": false
   },
   "outputs": [],
   "source": [
    "my_dictionary = {'something_unique': 1,\n",
    "                 'somthing_else_unique': 2}\n",
    "\n",
    "type(my_dictionary)"
   ]
  },
  {
   "cell_type": "code",
   "execution_count": null,
   "metadata": {
    "collapsed": false
   },
   "outputs": [],
   "source": [
    "my_dictionary"
   ]
  },
  {
   "cell_type": "code",
   "execution_count": null,
   "metadata": {
    "collapsed": false
   },
   "outputs": [],
   "source": [
    "my_dictionary['something_unique']"
   ]
  },
  {
   "cell_type": "code",
   "execution_count": null,
   "metadata": {
    "collapsed": true
   },
   "outputs": [],
   "source": [
    "my_dictionary['something_unique'] = 2"
   ]
  },
  {
   "cell_type": "code",
   "execution_count": null,
   "metadata": {
    "collapsed": false
   },
   "outputs": [],
   "source": [
    "my_dictionary"
   ]
  },
  {
   "cell_type": "code",
   "execution_count": null,
   "metadata": {
    "collapsed": false
   },
   "outputs": [],
   "source": [
    "my_dictionary.values()\n",
    "# in Python 2 returns [2, 2], in 3 returns dict_values([2, 2])"
   ]
  },
  {
   "cell_type": "code",
   "execution_count": null,
   "metadata": {
    "collapsed": false
   },
   "outputs": [],
   "source": [
    "my_dictionary.keys()\n",
    "# in Python 2 returns ['something_unique', 'somthing_else_unique'], \n",
    "# in 3 returns dict_keys(['something_unique', 'somthing_else_unique'])"
   ]
  },
  {
   "cell_type": "code",
   "execution_count": null,
   "metadata": {
    "collapsed": true
   },
   "outputs": [],
   "source": [
    "my_dictionary?"
   ]
  },
  {
   "cell_type": "markdown",
   "metadata": {},
   "source": [
    "### Python supports object-oriented programming with classes and multiple inheritance."
   ]
  },
  {
   "cell_type": "code",
   "execution_count": null,
   "metadata": {
    "collapsed": false
   },
   "outputs": [],
   "source": [
    "def say_hi(name, last):\n",
    "    return \"hi {} {}\".format(name, last)\n",
    "\n",
    "say_hi(\"AJ\", \"Hussein\")"
   ]
  },
  {
   "cell_type": "code",
   "execution_count": null,
   "metadata": {
    "collapsed": true
   },
   "outputs": [],
   "source": [
    "\n",
    "class Fancy(object):\n",
    "    def get_y(self):\n",
    "        return self.y\n",
    "    \n",
    "class FancyMixIns(object):\n",
    "    def add(self):\n",
    "        return self.y + self.x\n",
    "\n",
    "class Fancier(Fancy, FancyMixIns):\n",
    "    \"\"\" Some really good docs \"\"\"\n",
    "    def __init__(self, x, y):\n",
    "        self.x = x\n",
    "        self.y = y\n",
    "    \n",
    "    def __eq__(self, lhs):\n",
    "        return bool(self.x == lhs.x)\n",
    "        \n",
    "    def get_x(self):\n",
    "        \"Yo this get 'x' of course\"\n",
    "        return self.x\n",
    "    \n",
    "    @staticmethod\n",
    "    def help():\n",
    "        help(Fancy)\n",
    "        "
   ]
  },
  {
   "cell_type": "code",
   "execution_count": null,
   "metadata": {
    "collapsed": false
   },
   "outputs": [],
   "source": [
    "help(Fancier)"
   ]
  },
  {
   "cell_type": "code",
   "execution_count": null,
   "metadata": {
    "collapsed": false
   },
   "outputs": [],
   "source": [
    "a = Fancier(100, 250)\n",
    "a.get_y()"
   ]
  },
  {
   "cell_type": "code",
   "execution_count": null,
   "metadata": {
    "collapsed": false
   },
   "outputs": [],
   "source": [
    "a.get_x()"
   ]
  },
  {
   "cell_type": "code",
   "execution_count": null,
   "metadata": {
    "collapsed": false
   },
   "outputs": [],
   "source": [
    "a.__dict__"
   ]
  },
  {
   "cell_type": "code",
   "execution_count": null,
   "metadata": {
    "collapsed": false
   },
   "outputs": [],
   "source": [
    "a.add()"
   ]
  },
  {
   "cell_type": "code",
   "execution_count": null,
   "metadata": {
    "collapsed": false
   },
   "outputs": [],
   "source": [
    "b = FancyMixIns()\n",
    "b.y = 1\n",
    "b.x = 2\n",
    "b.add()"
   ]
  },
  {
   "cell_type": "markdown",
   "metadata": {},
   "source": [
    "### Code can be grouped into modules and packages."
   ]
  },
  {
   "cell_type": "code",
   "execution_count": null,
   "metadata": {
    "collapsed": false
   },
   "outputs": [],
   "source": [
    "import this"
   ]
  },
  {
   "cell_type": "code",
   "execution_count": null,
   "metadata": {
    "collapsed": true
   },
   "outputs": [],
   "source": [
    "this?"
   ]
  },
  {
   "cell_type": "markdown",
   "metadata": {},
   "source": [
    "### The language supports raising and catching exceptions, resulting in cleaner error handling."
   ]
  },
  {
   "cell_type": "code",
   "execution_count": null,
   "metadata": {
    "collapsed": false
   },
   "outputs": [],
   "source": [
    "1/0"
   ]
  },
  {
   "cell_type": "code",
   "execution_count": null,
   "metadata": {
    "collapsed": false
   },
   "outputs": [],
   "source": [
    "try:\n",
    "    1 + 1\n",
    "    2 + 2\n",
    "    1/0\n",
    "except ZeroDivisionError as e:\n",
    "    print(e)\n",
    "    print(\"I meant to do that\")\n",
    "    \n",
    "    "
   ]
  },
  {
   "cell_type": "markdown",
   "metadata": {},
   "source": [
    "### Data types are strongly and dynamically typed. Mixing incompatible types (e.g. attempting to add a string and a number) causes an exception to be raised, so errors are caught sooner."
   ]
  },
  {
   "cell_type": "code",
   "execution_count": null,
   "metadata": {
    "collapsed": false
   },
   "outputs": [],
   "source": [
    "1 + \"1\""
   ]
  },
  {
   "cell_type": "markdown",
   "metadata": {},
   "source": [
    "User defined types:\n",
    "\n",
    "```python\n",
    "class MyType(object):   #  name it what you want\n",
    "    \"\"\" Some documentation \"\"\"  # documentation is fun\n",
    "    def my_method(self):  # create a method\n",
    "        return \"have a nice day\" # return something \n",
    "```\n"
   ]
  },
  {
   "cell_type": "code",
   "execution_count": null,
   "metadata": {
    "collapsed": true
   },
   "outputs": [],
   "source": [
    "class MyType(object):\n",
    "    \"\"\" Some documentation \"\"\"\n",
    "    def my_method(self):\n",
    "        return \"have a nice day\""
   ]
  },
  {
   "cell_type": "markdown",
   "metadata": {},
   "source": [
    "> Note: Python uses whitespace. For example \"space-space-space-space def my_method...\""
   ]
  },
  {
   "cell_type": "code",
   "execution_count": null,
   "metadata": {
    "collapsed": true
   },
   "outputs": [],
   "source": [
    "my_instance = MyType()"
   ]
  },
  {
   "cell_type": "code",
   "execution_count": null,
   "metadata": {
    "collapsed": false
   },
   "outputs": [],
   "source": [
    "my_instance.my_method()"
   ]
  },
  {
   "cell_type": "code",
   "execution_count": null,
   "metadata": {
    "collapsed": false
   },
   "outputs": [],
   "source": [
    "type(my_instance)"
   ]
  },
  {
   "cell_type": "code",
   "execution_count": null,
   "metadata": {
    "collapsed": false
   },
   "outputs": [],
   "source": [
    "type(MyType)"
   ]
  },
  {
   "cell_type": "markdown",
   "metadata": {},
   "source": [
    "### Python contains advanced programming features such as generators and list comprehensions."
   ]
  },
  {
   "cell_type": "markdown",
   "metadata": {},
   "source": [
    "list comprehension"
   ]
  },
  {
   "cell_type": "code",
   "execution_count": null,
   "metadata": {
    "collapsed": false
   },
   "outputs": [],
   "source": [
    "data = [\"Happy\", \"good\", \"sad\", \"ecstatic\"]\n",
    "[x.upper() for x in data if x != \"sad\"]"
   ]
  },
  {
   "cell_type": "markdown",
   "metadata": {},
   "source": [
    "decorators"
   ]
  },
  {
   "cell_type": "code",
   "execution_count": null,
   "metadata": {
    "collapsed": false
   },
   "outputs": [],
   "source": [
    "def my_decr(f):\n",
    "    def inner_f(x):\n",
    "        x += 1\n",
    "        return x\n",
    "    return inner_f\n",
    "\n",
    "\n",
    "@my_decr\n",
    "def pretty_function(x):\n",
    "    return x\n",
    "\n",
    "pretty_function(1)"
   ]
  },
  {
   "cell_type": "markdown",
   "metadata": {},
   "source": [
    "### Python's automatic memory management frees you from having to manually allocate and free memory in your code."
   ]
  },
  {
   "cell_type": "code",
   "execution_count": null,
   "metadata": {
    "collapsed": false
   },
   "outputs": [],
   "source": [
    "list_of_ones = [1] * 10\n",
    "print(list_of_ones)\n",
    "[id(value) for value in list_of_ones]"
   ]
  },
  {
   "cell_type": "code",
   "execution_count": null,
   "metadata": {
    "collapsed": false
   },
   "outputs": [],
   "source": [
    "import copy\n",
    "new_list_of_ones = copy.copy(list_of_ones)\n",
    "[id(value) for value in new_list_of_ones]"
   ]
  },
  {
   "cell_type": "code",
   "execution_count": null,
   "metadata": {
    "collapsed": false
   },
   "outputs": [],
   "source": [
    "id(list_of_ones)"
   ]
  },
  {
   "cell_type": "code",
   "execution_count": null,
   "metadata": {
    "collapsed": false
   },
   "outputs": [],
   "source": [
    "id(new_list_of_ones)"
   ]
  },
  {
   "cell_type": "code",
   "execution_count": null,
   "metadata": {
    "collapsed": false
   },
   "outputs": [],
   "source": [
    "id(copy.copy(new_list_of_ones))"
   ]
  },
  {
   "cell_type": "markdown",
   "metadata": {},
   "source": [
    "### Some Extra notes\n",
    "\n",
    "dictonaries point at data"
   ]
  },
  {
   "cell_type": "code",
   "execution_count": null,
   "metadata": {
    "collapsed": false
   },
   "outputs": [],
   "source": [
    "\n",
    "a = {'a': 1, 'b': 2}\n",
    "\n",
    "def do(my_dict):\n",
    "    my_dict['a'] = 7\n",
    "    # return nothing\n",
    "    \n",
    "    \n",
    "print(a)\n",
    "do(a)\n",
    "print(a)\n",
    "\n",
    "\n",
    "\n"
   ]
  },
  {
   "cell_type": "markdown",
   "metadata": {},
   "source": [
    "argument and key word expansion"
   ]
  },
  {
   "cell_type": "code",
   "execution_count": null,
   "metadata": {
    "collapsed": false
   },
   "outputs": [],
   "source": [
    "\n",
    "def somestuff(*args, **kwargs):\n",
    "    print(\"{} {}\".format(args, kwargs))\n",
    "    \n",
    "\n",
    "somestuff(*[4, 5, 6, \"a\"], x=7, xxxxxx=555)\n",
    "\n",
    "\n",
    "\n"
   ]
  },
  {
   "cell_type": "markdown",
   "metadata": {},
   "source": [
    "tuples as keys"
   ]
  },
  {
   "cell_type": "code",
   "execution_count": null,
   "metadata": {
    "collapsed": false
   },
   "outputs": [],
   "source": [
    "{('1', ): 1}"
   ]
  },
  {
   "cell_type": "code",
   "execution_count": null,
   "metadata": {
    "collapsed": true
   },
   "outputs": [],
   "source": []
  }
 ],
 "metadata": {
  "kernelspec": {
   "display_name": "Python 3",
   "language": "python",
   "name": "python3"
  },
  "language_info": {
   "codemirror_mode": {
    "name": "ipython",
    "version": 3
   },
   "file_extension": ".py",
   "mimetype": "text/x-python",
   "name": "python",
   "nbconvert_exporter": "python",
   "pygments_lexer": "ipython3",
   "version": "3.5.1"
  }
 },
 "nbformat": 4,
 "nbformat_minor": 0
}
