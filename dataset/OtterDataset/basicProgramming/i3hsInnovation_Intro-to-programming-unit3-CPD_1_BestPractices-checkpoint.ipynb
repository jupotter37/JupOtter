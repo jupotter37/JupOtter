{
 "cells": [
  {
   "cell_type": "markdown",
   "metadata": {
    "collapsed": true
   },
   "source": [
    "<img src=\"https://github.com/i3hsInnovation/resources/blob/master/images/introbanner.png?raw=true\" />"
   ]
  },
  {
   "cell_type": "markdown",
   "metadata": {},
   "source": [
    "<table style=\"float:right\" width=\"50%\">\n",
    "    <tr>\n",
    "        <td>                      \n",
    "            <div style=\"text-align: left\"><a href=\"\" target=\"_blank\">Dr Peter Causey-Freeman</a></div>\n",
    "            <div style=\"text-align: left\">Lecturer - Healthcare Sciences</div>\n",
    "            <div style=\"text-align: left\">(Clinical Bioinformatics)</div>\n",
    "            <div style=\"text-align: left\">The University of Manchester</div>\n",
    "         </td>\n",
    "         <td>\n",
    "             <img src=\"https://github.com/i3hsInnovation/resources/blob/master/images/pete.001.png?raw=true\" width=\"40%\" />\n",
    "         </td>\n",
    "     </tr>\n",
    "</table>"
   ]
  },
  {
   "cell_type": "markdown",
   "metadata": {},
   "source": [
    "# Introduction to Best Practices in Python Coding \n",
    "****\n",
    "\n",
    "### About this Notebook\n",
    "\n",
    "By now you will be have more confidence in your skills as a Python programmer. \n",
    "\n",
    "In this tutorial, we will learn about Python coding best practices which will help you to write beautiful and, above all else, **readable code**.\n",
    "\n",
    "We will also learn about the expectations of writing code for use in clinical practice.\n",
    "\n",
    "Finally, we will also introduce Swagger documentation and why you should consider using it if you create your own APIs.\n",
    "\n",
    "This notebook is at <code>Beginner</code> level and will take approximately 2 - 3 hours to complete.\n"
   ]
  },
  {
   "cell_type": "markdown",
   "metadata": {},
   "source": [
    "<div class=\"alert alert-block alert-warning\"><b>Learning Objective:</b> Create functioning, standards compliant and well documented Python code</div>"
   ]
  },
  {
   "cell_type": "markdown",
   "metadata": {},
   "source": [
    "<b><h2>Table of Contents</h2></b>"
   ]
  },
  {
   "cell_type": "markdown",
   "metadata": {
    "cell_style": "center"
   },
   "source": [
    "#### 1 [Introduction to Style Guides](#peppy)\n",
    "- [Coding standards and the Python coding Style Guide](#pep8)\n",
    "- [PyCharm helps you write PEP-8 compliant code](#pych)\n",
    "- [Other Style Guides](#osg)\n",
    "\n",
    "#### 2 [Writing code for use in Clinical Practice](#clinprac)\n",
    "- [Introducing ISO 15189](#cliniso)\n",
    "- [National and local style-guides](#inhouse)\n",
    "- [Commenting and Documentation](#docs)\n",
    "- [Accessing your documentation](#accdocs)\n",
    "\n",
    "#### 3 [Introduction to Swagger](#swagger)\n",
    "\n",
    "#### 4 [Writing modular code](#mody)\n",
    "\n",
    "#### 5 [Let's improve our API](#resty)\n",
    "- [Let's make our API look amazing!](#purdy)\n",
    "- [Let's make our code look amazing!](#curdy)\n",
    "- [Let's Modularise our code](#mod_apis)\n",
    "\n",
    "#### 6 [Summary](#summary)"
   ]
  },
  {
   "cell_type": "markdown",
   "metadata": {},
   "source": [
    "<a id=\"peppy\"></a>\n",
    "<table width=\"100%\" style=\"float:left\">\n",
    "    <tr>\n",
    "        <td width=\"60%\" style=\"text-align: left\">\n",
    "            <h1>1 Introduction to Style Guides</h1>\n",
    "        </td>\n",
    "        <td width=\"40%\">\n",
    "            <img src=\"https://github.com/i3hsInnovation/resources/blob/master/images/pep8.png?raw=true\" width=\"75%\"/>\n",
    "        </td>\n",
    "    </tr>\n",
    "</table>"
   ]
  },
  {
   "cell_type": "markdown",
   "metadata": {},
   "source": [
    "<sup>Image by Peter Causey-Freeman</sup>"
   ]
  },
  {
   "cell_type": "markdown",
   "metadata": {
    "hide_input": false
   },
   "source": [
    "<a name=\"pep8\"></a>\n",
    "## Coding standards and the Python coding Style Guide\n",
    "\n",
    "#### Why do we need coding standards\n",
    "In simple terms \n",
    "\n",
    "\n",
    "> \"[Code is read more often than it is written](https://danieljscheufler.wordpress.com/2016/12/27/code-is-read-more-often-than-it-is-written/#targetText=As%20a%20result%2C%20the%20culture,often%20than%20it%20is%20written'.)\"<sup>1</sup> <br/>\n",
    "\n",
    "\n",
    "By adhering to best practices we make our code more accessible to other programmers who may want to use what we have written. Why does this matter. Well, if you are working as part of a team, it is essential that your team mates can understand the code you have written.\n",
    "<br/>\n",
    "\n",
    "***\n",
    "<sup>1. Courtesy of the blog \"A Journeyman's Travels\" © 2019 by Daniel Scheufle</sup><br/>\n",
    "\n",
    "#### Best-practice guidelines for coding in Python\n",
    "\n",
    "The [Python Software Foundation](https://www.python.org/psf/) provide a [Style Guide for Python Code](https://www.python.org/dev/peps/pep-0008/). The current version of this style-guide, PEP-8, is essentially a set of rules for how to format your Python code to maximize its readability."
   ]
  },
  {
   "cell_type": "markdown",
   "metadata": {
    "hide_input": false
   },
   "source": [
    "<div class=\"alert alert-block alert-info\">\n",
    "\n",
    "### Exercise\n",
    "\n",
    "Watch these 2 short introductory [videos](https://realpython.com/lessons/what-pep-8-and-why-you-need-it/) to give you an overview of PEP 8 and how to write naming conventions.\n",
    "\n",
    "Follow this link for the rest of this [PEP-8 Tutorial](https://realpython.com/python-pep8/#targetText=PEP%208%2C%20sometimes%20spelled%20PEP8,and%20consistency%20of%20Python%20code)\n",
    "\n",
    "</div>"
   ]
  },
  {
   "cell_type": "markdown",
   "metadata": {},
   "source": [
    "<a name=\"pych\"></a>\n",
    "<h2>PyCharm helps you write PEP-8 compliant code</h2>\n"
   ]
  },
  {
   "cell_type": "markdown",
   "metadata": {},
   "source": [
    "### PyCharm and PEP-8\n",
    "Since PyCharm version 7.1 (Early 2013) PyCharm was upgraded to provide [\"on-the-fly\" PEP-8 code inspections](https://blog.jetbrains.com/pycharm/2013/02/long-awaited-pep-8-checks-on-the-fly-improved-doctest-support-and-more-in-pycharm-2-7/).\n",
    "\n",
    "So that PyCharm can inspect your code, you need to configure a project interpreter. This [guide](https://www.jetbrains.com/help/pycharm-edu/conda-support-creating-conda-virtual-environment.html) will tell you how to use your existing conda virtual environment as the project interpreter\n",
    "\n",
    "You will need to identify your Python executable. To find the path to the executable you will need to\n",
    "\n",
    "\n",
    "```\n",
    "# Activate your environment if you have not already done so\n",
    "$ conda activate sprint\n",
    "# where \"sprint\" is the name of the Python virtual environment I want to activate\"\n",
    "```\n",
    "\n",
    "Code inspections run *on-the-fly* but you can perform [manual inspections, or custom inspections](https://www.jetbrains.com/help/pycharm/code-inspection.html)"
   ]
  },
  {
   "cell_type": "code",
   "execution_count": 6,
   "metadata": {},
   "outputs": [],
   "source": [
    "# Ask which Python the environment is using\n",
    "! which python"
   ]
  },
  {
   "cell_type": "markdown",
   "metadata": {
    "hide_input": true
   },
   "source": [
    "#### Reformatting simple PEP-8 violations in existing code"
   ]
  },
  {
   "cell_type": "code",
   "execution_count": 1,
   "metadata": {
    "hide_input": true,
    "init_cell": true,
    "scrolled": false
   },
   "outputs": [
    {
     "data": {
      "image/jpeg": "[encoded data removed]",
      "text/html": [
       "\n",
       "        <iframe\n",
       "            width=\"560\"\n",
       "            height=\"315\"\n",
       "            src=\"https://www.youtube.com/embed/mpJH60TNLLE\"\n",
       "            frameborder=\"0\"\n",
       "            allowfullscreen\n",
       "        ></iframe>\n",
       "        "
      ],
      "text/plain": [
       "<IPython.lib.display.YouTubeVideo at 0x24688449748>"
      ]
     },
     "execution_count": 1,
     "metadata": {},
     "output_type": "execute_result"
    }
   ],
   "source": [
    "from IPython.display import YouTubeVideo\n",
    "# Youtube\n",
    "YouTubeVideo('mpJH60TNLLE', width=560, height=315)"
   ]
  },
  {
   "cell_type": "markdown",
   "metadata": {
    "hide_input": false,
    "init_cell": true
   },
   "source": [
    "***How to [Reformat and rearrange code](https://www.jetbrains.com/help/pycharm/reformat-and-rearrange-code.html) using PyCharm***"
   ]
  },
  {
   "cell_type": "markdown",
   "metadata": {},
   "source": [
    "<a id=\"osg\"></a>\n",
    "\n",
    "<b><h2>Other Style Guides</h2></b>  \n",
    "</div>"
   ]
  },
  {
   "cell_type": "markdown",
   "metadata": {},
   "source": [
    "Although you will comply with the PEP-8 guidelines for most of the Python programming you ever do, it is worth noting that some organisations have their own Style Guides. For example,\n",
    "\n",
    "### The Google Python Style Guide\n",
    "\n",
    "If you are lucky enough to land a job working for Google, you will not use PEP-8, as commented in this [article](https://medium.com/@wyounas/style-guides-and-googles-python-code-2e3f6b35403d). Instead, you will need to code adhering to the [Google Python Stlye Guide](https://google.github.io/styleguide/pyguide.html), which is the second most common (by a long way) Style Guide used by Python programmers.\n",
    "\n",
    "### The Chromium Python Style Guide\n",
    "\n",
    "Even thought there is a Google Python Style Guide, if you want to contribute to the Chromium project, you will need to adhere to the [Chromium Python Style Guide](https://chromium.googlesource.com/chromiumos/docs/+/master/styleguide/python.md)"
   ]
  },
  {
   "cell_type": "markdown",
   "metadata": {},
   "source": [
    "<a id=\"clinprac\"></a>\n",
    "<table width=\"100%\" style=\"float:left\">\n",
    "    <tr>\n",
    "        <td width=\"60%\" style=\"text-align: left\">\n",
    "            <h1>2 Writing code for use in Clinical Practice</h1>\n",
    "        </td>\n",
    "        <td width=\"40%\">\n",
    "            <img src=\"https://github.com/i3hsInnovation/resources/blob/master/images/clinicalcoding.png?raw=true\" width=\"50%\"/>\n",
    "        </td>\n",
    "    </tr>\n",
    "</table>"
   ]
  },
  {
   "cell_type": "markdown",
   "metadata": {},
   "source": [
    "***\n",
    "<sup>Image by Peter Causey-Freeman</sup>"
   ]
  },
  {
   "cell_type": "markdown",
   "metadata": {},
   "source": [
    "<a id=\"cliniso\"></a>\n",
    "\n",
    "<b><h2>Introducing ISO 15189</h2></b>  \n",
    "</div>"
   ]
  },
  {
   "cell_type": "markdown",
   "metadata": {},
   "source": [
    "### ISO 15189 - Medical Laboratory Accreditation\n",
    "\n",
    "Globally, there is an increasingly recognised need to assure medical laboratories are able to \"consistently deliver technically valid results\". But why? "
   ]
  },
  {
   "cell_type": "code",
   "execution_count": 2,
   "metadata": {
    "hide_input": true,
    "init_cell": true,
    "scrolled": false
   },
   "outputs": [
    {
     "data": {
      "image/jpeg": "[encoded data removed]",
      "text/html": [
       "\n",
       "        <iframe\n",
       "            width=\"560\"\n",
       "            height=\"315\"\n",
       "            src=\"https://www.youtube.com/embed/AsE4biv5T8s\"\n",
       "            frameborder=\"0\"\n",
       "            allowfullscreen\n",
       "        ></iframe>\n",
       "        "
      ],
      "text/plain": [
       "<IPython.lib.display.YouTubeVideo at 0x2468845f550>"
      ]
     },
     "execution_count": 2,
     "metadata": {},
     "output_type": "execute_result"
    }
   ],
   "source": [
    "from IPython.display import YouTubeVideo\n",
    "# Youtube\n",
    "YouTubeVideo('AsE4biv5T8s', width=560, height=315)"
   ]
  },
  {
   "cell_type": "markdown",
   "metadata": {},
   "source": [
    "### Why does ISO 15189 apply to programming?\n",
    "[ISO 15189](https://static1.squarespace.com/static/56dea3e101dbaeec7a87c949/t/57c6e74120099e737dc75958/1472653123455/ISO.pdf) is a document detailing the \"Requirements for quality and competence\" or medical laboratories. \n",
    "\n",
    "If you click the link and perform a text search for software, you will find three instances in the document. Only one of these instances is relevant in the context of this tutorial. \n",
    "\n",
    "### ISO 15189 Section 4.3: Document control\n",
    "The intention of document control is to ensure\n",
    "> \"The laboratory shall control documents required by the quality management system and shall ensure that\n",
    "unintended use of any obsolete document is prevented.\"\n",
    "<sup>2</sup> <br/>\n",
    "\n",
    "Document control applies to \n",
    "> \"Documents that should be considered for document control are those that may vary based on changes\n",
    "in versions or time.\"\n",
    "<sup>2</sup> <br/>\n",
    "\n",
    "and examples include **software documentation**\n",
    "\n",
    "<div class=\"alert alert-block alert-info\">\n",
    "    \n",
    "### Exercise 1. Read section 4.3 of the ISO 15189 document\n",
    "\n",
    "</div>\n",
    "\n",
    "### So what exactly do I need to do to meet the ISO 15189 standard?????\n",
    "You will agree that section 4.3 does provide expectations relating to documents, *e.g.*  \n",
    "\n",
    ">\"b) All documents are identified to include:\n",
    "— a title;<br>\n",
    "— a unique identifier on each page;<br>\n",
    "— the date of the current edition and/or edition number;<br>\n",
    "— page number to total number of pages (e.g. “Page 1 of 5,” “Page 2 of 5,”);<br>\n",
    "— authority for issue.\"\n",
    "<sup>2</sup> <br/>\n",
    "\n",
    "However, it is not instantly clear how to implement the documented requirements in your programming \n",
    "\n",
    "***\n",
    "<sup>2. Courtesy of the \"Medical laboratories — Requirements for\n",
    "quality and competence\" © 2012 International Organization for standardization ISO</sup><br/>"
   ]
  },
  {
   "cell_type": "markdown",
   "metadata": {},
   "source": [
    "<a id=\"inhouse\"></a>\n",
    "\n",
    "<b><h2>National and local style-guides</h2></b>  \n",
    "</div>"
   ]
  },
  {
   "cell_type": "code",
   "execution_count": 9,
   "metadata": {
    "hide_input": true,
    "scrolled": true
   },
   "outputs": [
    {
     "data": {
      "text/html": [
       "\n",
       "        <iframe\n",
       "            width=\"560\"\n",
       "            height=\"315\"\n",
       "            src=\"https://www.youtube.com/embed/https://youtu.be/ojKftYl1ifs\"\n",
       "            frameborder=\"0\"\n",
       "            allowfullscreen\n",
       "        ></iframe>\n",
       "        "
      ],
      "text/plain": [
       "<IPython.lib.display.YouTubeVideo at 0x108608f28>"
      ]
     },
     "execution_count": 9,
     "metadata": {},
     "output_type": "execute_result"
    }
   ],
   "source": [
    "from IPython.display import YouTubeVideo\n",
    "# Youtube\n",
    "YouTubeVideo('https://youtu.be/ojKftYl1ifs', width=560, height=315)"
   ]
  },
  {
   "cell_type": "markdown",
   "metadata": {},
   "source": [
    "### National guidelines for development of software\n",
    "\n",
    "In the UK, national guidelines for software development have been published by the Association of Clinical Genomic Science [ACGS](https://acgs.uk.com). The guidelines entitled [Guidelines for development and validation of software, with particular focus on bioinformatics pipelines for processing NGS data](https://www.acgs.uk.com/media/10790/ngs_bioinformatics_bpg_final_version_2016.pdf). \n",
    "\n",
    "***If you are not UK based, you should check which guidelines have been published by professional bodies in your own country. If there is nothing available, consider adhering the ACGS guidelines*** \n",
    "\n",
    "Although it is not entirely clear from reading the document, many aspects of ISO 15189 accreditation are tackled. For example, the guidelines suggest the use of a dedicated Version Control platform such as git and GitHub.\n",
    "\n",
    "> \"The version control system shall be used to record all changes, and informative commit messages shall be logged to aid traceability and audit.\"\n",
    "<sup>3</sup> <br/>\n",
    "\n",
    "Consequently, each Package and module has a unique ID linked to a specific commit ID. Each module also has a, Title *i.e.* the module name. Each commit also has a time-stamp, so we are able to track the date and time of the current version of each module. The version control software also provides a mechanism by which new code can bee peer revied to ensure it is robust. \n",
    "\n",
    "*We will explore version control in the next tutorial*\n",
    "\n",
    "<div class=\"alert alert-block alert-info\">\n",
    "    \n",
    "### Exercise 2. Read pages 1-4 of the ACGS guidelines\n",
    "\n",
    "</div>\n",
    "\n",
    "<br>\n",
    "\n",
    "### Local guidelines\n",
    "The ACGS guidelines suggest the\n",
    "\n",
    "> \"Benefits of developing a \"house-style\" should be considered and if adopted, this shall be enforced\"\n",
    "<sup>3</sup> <br/>\n",
    "\n",
    "*i.e.* it is the responsibility of the laboratory which is being audited to demonstrate compliance with the ISO standard, so it makes sense that the laboratory (and where relevant its host organisation) create templates and style guides which to which all staff must adhere. These style guides will reflect \"normal standards\" such as PEP-8, but may include exceptions and stricter use-cases for aspects of the normal standards."
   ]
  },
  {
   "cell_type": "markdown",
   "metadata": {},
   "source": [
    "<a id=\"docs\"></a>\n",
    "\n",
    "<b><h2>Commenting and Documentation</h2></b>  \n",
    "</div>"
   ]
  },
  {
   "cell_type": "markdown",
   "metadata": {},
   "source": [
    "To meet the ISO 15189 standard you will need to make extensive use of commenting. You will also need to document your code. What is the difference between commenting and documenting, and how do we do it.\n",
    "\n",
    "This [video tutorial](https://realpython.com/lessons/how-write-comments-python/) explains the difference between commenting and documentation.\n",
    "\n",
    "It is essential that your code is well documented so that you and other developers working on a project know exactly what each class and function does, and how to use it.\n",
    "\n",
    "The ACGS guidelines state\n",
    "\n",
    "If you are lucky enough to land a job working for Google, you will not use PEP-8, as commented in this [article](https://medium.com/@wyounas/style-guides-and-googles-python-code-2e3f6b35403d). Instead, you will need to code adhering to the [Google Python Style Guide](https://google.github.io/styleguide/pyguide.html), which is the second most common (by a long way) Style Guide used by Python programmers.\n",
    "\n",
    "> \"Annotation within code shall be used for the benefit of other developers and as memory aids for the initial developer, including documenting purpose and rationale.\"\n",
    "<sup>3</sup> <br/>\n",
    "\n",
    "As always, writing effective docstrings is governed by Syle Guides, as this [tutorial](https://www.datacamp.com/community/tutorials/docstrings-python#third-head) explains. There is also a Python Style Guide for writing docstrings called [PEP-257](https://www.python.org/dev/peps/pep-0257/)\n",
    "\n",
    "Since you will most likely be writing scientific applications, we recommend that you your the [numpy docstring Stype Guide](https://numpydoc.readthedocs.io/en/latest/format.html)"
   ]
  },
  {
   "cell_type": "markdown",
   "metadata": {},
   "source": [
    "\n",
    "--------\n",
    "\n",
    "<a id=\"accdocs\"></a>\n",
    "\n",
    "## Accessing your documentation\n"
   ]
  },
  {
   "cell_type": "markdown",
   "metadata": {},
   "source": [
    "### The advantage of writing high-quality docstrings\n",
    "Documenting code can seem tedious, and in truth, it is (for most people at least!). However, it is necessary and can be rewarding. \n",
    "\n",
    "**Why?**\n",
    "\n",
    "Because there are multiple Python tools that can read your docstrings and convert them into graphical User Manuals so that others can use your code."
   ]
  },
  {
   "cell_type": "code",
   "execution_count": 3,
   "metadata": {
    "hide_input": true,
    "init_cell": true
   },
   "outputs": [
    {
     "data": {
      "image/jpeg": "[encoded data removed]",
      "text/html": [
       "\n",
       "        <iframe\n",
       "            width=\"560\"\n",
       "            height=\"315\"\n",
       "            src=\"https://www.youtube.com/embed/URBSvqib0xw\"\n",
       "            frameborder=\"0\"\n",
       "            allowfullscreen\n",
       "        ></iframe>\n",
       "        "
      ],
      "text/plain": [
       "<IPython.lib.display.YouTubeVideo at 0x2468847a4e0>"
      ]
     },
     "execution_count": 3,
     "metadata": {},
     "output_type": "execute_result"
    }
   ],
   "source": [
    "from IPython.display import YouTubeVideo\n",
    "# Youtube\n",
    "YouTubeVideo('URBSvqib0xw', width=560, height=315)"
   ]
  },
  {
   "cell_type": "markdown",
   "metadata": {},
   "source": [
    "<a id=\"swagger\"></a>\n",
    "<table width=\"100%\" style=\"float:left\">\n",
    "    <tr>\n",
    "        <td width=\"60%\" style=\"text-align: left\">\n",
    "            <h1>Introduction to Swagger</h1>\n",
    "        </td>\n",
    "        <td width=\"40%\">\n",
    "            <img src=\"https://github.com/i3hsInnovation/resources/blob/master/images/Swagger-logo.png?raw=true\" width=\"25%\"/>\n",
    "        </td>\n",
    "    </tr>\n",
    "</table>"
   ]
  },
  {
   "cell_type": "markdown",
   "metadata": {},
   "source": [
    "***\n",
    "<sup>The Swagger logo [CC BY-SA 4.0](https://creativecommons.org/licenses/by-sa/4.0/) © 2019 by Fehguy. Source [WikipediA](https://en.wikipedia.org/wiki/Swagger_(software)#/media/File:Swagger-logo.png)</sup>"
   ]
  },
  {
   "cell_type": "markdown",
   "metadata": {},
   "source": [
    "According to the ACGS guidelines, a key component of  clinical coding involves\n",
    "> \"Ongoing support for end users shall be considered, particularly when designing user interfaces, and user guides shall be provided\"\n",
    "<sup>3</sup> <br/>\n",
    "\n",
    "Swagger is a method enabling us to document REST APIs and create beautiful user-friendly interfaces, but **[What is Swagger](https://blog.readme.io/what-is-swagger-and-why-it-matters/)**\n",
    "\n",
    "A key message to take away here is that Swagger (or more-correctly the [Open API iniatitive](https://www.openapis.org/about) is itself a standard. It provides an industry standard for documenting APIs.\n",
    "\n",
    "### Why do I need to know this?\n",
    "\n",
    "The reason that we are introducing you to the world of Swagger is quite simple. As a bioinformatics programmer, it is highly-likely that you will want to make resources that you, or your colleagues want to use. \n",
    "\n",
    "A REST API is a very simple way to provide access to your tools, but without clear documentation, your colleagues ond others may struggle to use it. Swagger provides a standardised and user-friendly method through which you can make your API accessible. \n",
    "\n",
    "If you build an API, we encourage you to use Swagger to document it.\n",
    "\n",
    "\n",
    "***\n",
    "<sup>3. Courtesy of the ACGS \"Guidelines for development and validation of software, with particular focus on bioinformatics pipelines for processing NGS data\" © 2016 by Nicola Whiffin1, Kim Brugger andJoo Wook Ahn</sup><br/>"
   ]
  },
  {
   "cell_type": "markdown",
   "metadata": {},
   "source": [
    "<a id=\"peppy\"></a>\n",
    "<table width=\"100%\" style=\"float:left\">\n",
    "    <tr>\n",
    "        <td width=\"60%\" style=\"text-align: left\">\n",
    "            <h1>Writing modular code</h1>\n",
    "        </td>\n",
    "        <td width=\"40%\">\n",
    "            <img src=\"https://github.com/i3hsInnovation/resources/blob/master/images/modular.png?raw=true\" width=\"50%\"/>\n",
    "        </td>\n",
    "    </tr>\n",
    "</table>"
   ]
  },
  {
   "cell_type": "markdown",
   "metadata": {},
   "source": [
    "***\n",
    "<sup>Image by Peter Causey-Freeman</sup>"
   ]
  },
  {
   "cell_type": "markdown",
   "metadata": {},
   "source": [
    "### Why write modular code?\n",
    "Alongside writing your code to be compliant with a Style Guide, another aspect of writing **readable code** is breaking your project into modules (modular code). "
   ]
  },
  {
   "cell_type": "code",
   "execution_count": 4,
   "metadata": {
    "hide_input": true,
    "init_cell": true
   },
   "outputs": [
    {
     "data": {
      "image/jpeg": "[encoded data removed]",
      "text/html": [
       "\n",
       "        <iframe\n",
       "            width=\"560\"\n",
       "            height=\"315\"\n",
       "            src=\"https://www.youtube.com/embed/1RuMJ53CKds\"\n",
       "            frameborder=\"0\"\n",
       "            allowfullscreen\n",
       "        ></iframe>\n",
       "        "
      ],
      "text/plain": [
       "<IPython.lib.display.YouTubeVideo at 0x2468847a8d0>"
      ]
     },
     "execution_count": 4,
     "metadata": {},
     "output_type": "execute_result"
    }
   ],
   "source": [
    "from IPython.display import YouTubeVideo\n",
    "# Youtube\n",
    "YouTubeVideo('1RuMJ53CKds', width=560, height=315)"
   ]
  },
  {
   "cell_type": "markdown",
   "metadata": {
    "hide_input": false
   },
   "source": [
    "<div class=\"alert alert-block alert-info\">\n",
    "    \n",
    "### Exercise 3\n",
    "Key advantages of writing modular code are improved readability and improved re-useability, as discussed in this [tutorial](https://www.datacamp.com/community/tutorials/modules-in-python#targetText=Simply%20put%2C%20a%20module%20is,its%20name%20would%20be%20test%20.)\n",
    "\n",
    "</div>"
   ]
  },
  {
   "cell_type": "markdown",
   "metadata": {},
   "source": [
    "<a id=\"resty\"></a>\n",
    "<table width=\"100%\" style=\"float:left\">\n",
    "    <tr>\n",
    "        <td width=\"60%\" style=\"text-align: left\">\n",
    "            <h1>Let's improve our API</h1>\n",
    "        </td>\n",
    "        <td width=\"30%\">\n",
    "            <img src=\"https://github.com/i3hsInnovation/resources/blob/master/images/rest_api.png?raw=true\" width=\"30%\"/>\n",
    "        </td>\n",
    "    </tr>\n",
    "</table>"
   ]
  },
  {
   "cell_type": "markdown",
   "metadata": {},
   "source": [
    "***\n",
    "<sup>Image by Peter Causey-Freeman</sup>"
   ]
  },
  {
   "cell_type": "markdown",
   "metadata": {},
   "source": [
    "#### Why should we bother?\n",
    "\n",
    "Currently, out API is not well structured and the code is not PEP-8 compliant and we have not provided sufficient information so that our users can get stuck in and use the wonderful resource we are creating! \n",
    "\n",
    "Depending on how you have structured your coding during the SPRINT projects, you will likely have:\n",
    "\n",
    "1. a single large Python module containing the REST API functions and your functional code\n",
    "\n",
    "**or**\n",
    "\n",
    "2. a large Python module containing the REST API functions and one or more modules containing your functional code\n",
    "\n",
    "**Because the project is becoming large, it makes sense to break it down into modules, and to improve the coding style to make the code more-readable. Readable code will help us navigate our modular code structure and will help us understand our code if we re-visit in several months/years time.**\n",
    "\n",
    "But, as always, we can only do one thing at a time."
   ]
  },
  {
   "cell_type": "markdown",
   "metadata": {},
   "source": [
    "<a id=\"purdy\"></a>\n",
    "\n",
    "<b><h2>Let's make our API look amazing!</h2></b>  \n",
    "</div>"
   ]
  },
  {
   "cell_type": "markdown",
   "metadata": {},
   "source": [
    "### Swagger is versatile\n",
    "I have added additional Swagger documentation to our API in `application/app_v7` to make our API look beautiful!\n",
    "\n",
    "Take a look in the file and run it to see how any additional documentation is handled by the REST interface.\n",
    "\n",
    "```bash\n",
    "$ python application/app_v7.py\n",
    "```\n",
    "\n",
    "*Note: I slogged my way through loads of very unhelpful tutorials to create Swagger documented code which actually works! Hopefully it will be a good starting point for you! :\\)*"
   ]
  },
  {
   "cell_type": "markdown",
   "metadata": {},
   "source": [
    "<a id=\"curdy\"></a>\n",
    "\n",
    "<b><h2>Let's make our code look amazing!</h2></b>  \n",
    "</div>"
   ]
  },
  {
   "cell_type": "markdown",
   "metadata": {},
   "source": [
    "<div class=\"alert alert-block alert-info\">\n",
    "\n",
    "### Exercise 4. Reformatting code to comply with PEP-8 \n",
    "\n",
    "Take a look at `application/app_v7` compared to `application/app_v8`. You will notice that I have re-formatted the code to massively reduce the number of PEP-8 exceptions and other bits of dud-programming such as my usual glut of spelling-mistakes and typos (We are all human!)\n",
    "\n",
    "<br>\n",
    "\n",
    "***Take a look at the remaining \"PEP-8 violations\" in `application/app_v8`***\n",
    "\n",
    "\n",
    "Sometimes it is impossible to fully comply with the PEP-8 standards in your code depending upon the requirements of the external modules you are importing and using.\n",
    "\n",
    "<br>\n",
    "\n",
    "**Your task is to**\n",
    "1. Use PyCharm's Reformat function to make the the code you wrote during your SPRINT projects PEP-8 compliant as possible.\n",
    "2. Work through the remaining exceptions highlighted by PyCharm and document the reason why there is a potential PEP-8 violation and any necessary information needed to understand why this has occurred\n",
    "\n",
    "</div>"
   ]
  },
  {
   "cell_type": "markdown",
   "metadata": {},
   "source": [
    "<a id=\"mod_apis\"></a>\n",
    "\n",
    "<b><h2>Let's modularise our code</h2></b>  \n",
    "</div>"
   ]
  },
  {
   "cell_type": "markdown",
   "metadata": {},
   "source": [
    "#### Intended project structure\n",
    "\n",
    "For the 8th iteration of our API, I am going to format the code into the following structure where: \n",
    "- the project will be rest_api\n",
    "- utils will be a package of modules required by the API\n",
    "- Each endpoint will be created in a new module in the Endpoints package\n",
    "\n",
    "```\n",
    "application/\n",
    "├── app.py\n",
    "├── utils\n",
    "│   ├── __init__.py\n",
    "│   ├── functional_module_1.py\n",
    "│   ├── functional_module_2.py\n",
    "│   └── ...\n",
    "└── endpoints\n",
    "    ├── __init__.py\n",
    "    ├── exceptions.py\n",
    "    ├── representations.py\n",
    "    ├── request_parser.py\n",
    "    ├── namespace1.py\n",
    "    ├── namespace2.py\n",
    "    ├── ...\n",
    "    └── namespaceX.py\n",
    "```\n",
    "\n",
    "My restructured code mimics the **Multiple namespaces** example provided [here](https://flask-restplus.readthedocs.io/en/stable/scaling.html)\n",
    "\n",
    "Take a look at the example and how I have re-structured the code in `application/rest_api/`. In particular, pay attention to the import statements at the top of each module, and the comments I have made within the code.\n",
    "\n",
    "<div class=\"alert alert-block alert-info\">\n",
    "    \n",
    "### Exercise 5. Adding your code to the modular API\n",
    "The beauty of this new structure is that project is much simpler to expand.\n",
    "\n",
    "<br>\n",
    "\n",
    "**Your task is to**\n",
    "1. Create a new module in the endpoints package into which you will write/copy the necessary code to mount the function you created in SPRINT 2 to the API\n",
    "\n",
    "\n",
    "2. Create a new module in the utils package to store the actual function\n",
    "\n",
    "\n",
    "3. Import the function into the new endpoint module\n",
    "\n",
    "\n",
    "4. Run the app ``` $ python application/rest_api/app.py``` and adjust your code until the API runs correctly\n",
    "\n",
    "</div>"
   ]
  },
  {
   "cell_type": "markdown",
   "metadata": {},
   "source": [
    "<a id=\"documenting\"></a>\n",
    "\n",
    "<b><h2>Let's document our code</h2></b>  \n",
    "</div>"
   ]
  },
  {
   "cell_type": "markdown",
   "metadata": {},
   "source": [
    "Take a look at the modules in `application/rest_api`. You will notice that I have massively improved the commenting of the code so that I know exactly what each line/few lines of code is doing. \n",
    "\n",
    "Because Python is very much a \"plain English\" programming language, some of the comments may seem redundant, but hey, it keeps the \"men in grey suits\" happy!\n",
    "\n",
    "<div class=\"alert alert-block alert-info\">\n",
    "    \n",
    "### Exercise 6. Comment and document your own code\n",
    "\n",
    "You have added modules to the API. If I am going to use your code in the live version of the VariantValidator REST API, I will need to know how your code works and how to operate it. \n",
    "\n",
    "Your task is to add comments and docstrings to your code so that I will understand every last bit of it as soon as I take a peek!\n",
    "\n",
    "</div>"
   ]
  },
  {
   "cell_type": "markdown",
   "metadata": {
    "cell_style": "center"
   },
   "source": [
    "<a id=\"summary\"></a>\n",
    "<table width=\"100%\" style=\"float:left\">\n",
    "    <tr>\n",
    "        <td width=\"60%\" style=\"text-align: left\">\n",
    "            <h1>Summary</h1>\n",
    "        </td>\n",
    "        <td width=\"40%\">\n",
    "        </td>\n",
    "    </tr>\n",
    "    <br>\n",
    "</table>"
   ]
  },
  {
   "cell_type": "markdown",
   "metadata": {},
   "source": [
    "In this tutorial, we have introduced the key concepts of how to write clear, well documented and well structured code. If you follow what you have learned in this tutorial, your code will be easier to read by yourself and any team members working on the same project. It will also be neatly ordered in a sensible modular structure which will make it easier to maintain and develop "
   ]
  }
 ],
 "metadata": {
  "celltoolbar": "Initialization Cell",
  "kernelspec": {
   "display_name": "Python 3",
   "language": "python",
   "name": "python3"
  },
  "language_info": {
   "codemirror_mode": {
    "name": "ipython",
    "version": 3
   },
   "file_extension": ".py",
   "mimetype": "text/x-python",
   "name": "python",
   "nbconvert_exporter": "python",
   "pygments_lexer": "ipython3",
   "version": "3.7.3"
  }
 },
 "nbformat": 4,
 "nbformat_minor": 1
}
