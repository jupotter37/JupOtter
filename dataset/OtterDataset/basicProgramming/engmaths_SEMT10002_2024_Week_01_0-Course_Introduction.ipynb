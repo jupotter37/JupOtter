{
 "cells": [
  {
   "cell_type": "markdown",
   "metadata": {
    "slideshow": {
     "slide_type": "slide"
    }
   },
   "source": [
    "\n",
    "<img src=\"https://github.com/engmaths/EMAT10007_2023/blob/main/weekly_content/img/full-colour-logo-UoB.png?raw=true\" width=\"20%\">\n",
    "</p>\n",
    "\n",
    "# Computer Programming and Algorithms\n",
    "\n",
    "## Course Introduction\n",
    "\n",
    "In today's session, we will:\n",
    "\n",
    "* Introduce the teaching team for CPA.\n",
    "* Give you an overview of what you'll be studying in CPA this year.\n",
    "* Overview some essential information about how the course will run, including what you can expect from us and what we expect from you.\n",
    "* Give you some time to get to know each other.\n",
    "* Provide some support for software installation on personal devices.\n",
    "* Practice using the terminal to navigate the filesystem and run Python code.\n",
    "\n",
    "\n"
   ]
  },
  {
   "cell_type": "markdown",
   "metadata": {
    "slideshow": {
     "slide_type": "slide"
    }
   },
   "source": [
    "# Lecturers \n",
    "\n",
    "- Dr Martin Garrad [Unit Director] (weeks 7, 13-21)\n",
    "- Dr Hemma Philamore [Unit Director] (weeks 1, 8, 9)\n",
    "- Prof Arthur Richards (weeks 2-5, 10)\n",
    "- Dr Michael Rule (weeks 11-12)"
   ]
  },
  {
   "cell_type": "markdown",
   "metadata": {
    "slideshow": {
     "slide_type": "slide"
    }
   },
   "source": [
    "\n",
    "# Computer programming\n",
    "\n",
    "Giving instructions to a computer to make it do a task \n",
    "<br>(Store a value, open a file, plot a graph...)\n",
    "\n",
    "We will study how to give instructions to computers to make them do what we want!  "
   ]
  },
  {
   "cell_type": "markdown",
   "metadata": {
    "slideshow": {
     "slide_type": "slide"
    }
   },
   "source": [
    "# Algorithms\n",
    "\n",
    "A set of well-defined instructions or steps to perform a specific task or solve a particular problem. \n",
    "<br>(Approximating the solution to an ODE, finding the shortest path from one location to another, sorting a set of values into an order...)\n",
    "\n",
    "On this unit we will learn how to implement basic algorithms (e.g. for searching or sorting) in computer code. "
   ]
  },
  {
   "cell_type": "markdown",
   "metadata": {
    "slideshow": {
     "slide_type": "slide"
    }
   },
   "source": [
    "# Programming Language\n",
    "\n",
    "A formal set of instructions and rules used to communicate with a computer. \n",
    "\n",
    "Must conform to a specific Syntax.\n",
    "\n",
    "Enables programmers to write programs that can be executed by a computer to perform specific tasks. \n",
    "\n",
    "We will use the Python programming language but the principles we will study can be applied in any programming language "
   ]
  },
  {
   "cell_type": "markdown",
   "metadata": {
    "slideshow": {
     "slide_type": "slide"
    }
   },
   "source": [
    "# Python\n",
    " - Free and open source\n",
    " - Versatile - both a *scripting* and a *programming* language:\n",
    "    - *scripting* : run in a host computer application (e.g. a mathematical model)\n",
    "    - *programming* : controls a computer or machine (e.g. a microcontroller on a robot)\n",
    " - Increasingly used in industry and academia\n",
    " - Large and diverse community of users and developers\n",
    " \n",
    " <img src=\"https://github.com/engmaths/EMAT10007_2023/blob/main/weekly_content/img/Python-Symbol.png?raw=true\" width=\"20%\">\n",
    "</p>\n"
   ]
  },
  {
   "cell_type": "markdown",
   "metadata": {
    "slideshow": {
     "slide_type": "slide"
    }
   },
   "source": [
    "# Why study programming?\n",
    "- A tool you can use for your studies (data, calculation, modeling, simulation...). \n",
    "- A growing sector of the jobs market (software engineering, data science, AI, robotics...).\n",
    "- Increasing use of coding within jobs and areas of academia not traditionally related to computing.\n",
    "- Coding is fun! (personal projects, competitions, charity sector...)\n",
    "\n",
    "ç"
   ]
  },
  {
   "cell_type": "markdown",
   "metadata": {
    "slideshow": {
     "slide_type": "slide"
    }
   },
   "source": [
    "# Learning Objectives\n",
    "\n",
    "We will study:\n",
    "\n",
    "- The fundamentals of programming (e.g. data types, controlling the flow of a computer program, modularising code with functions)\n",
    "- How to read, write, process and visualize data\n",
    "- How to write code that is not only correct, but also understood by others\n",
    "- How to think about and implement basic algorithms (e.g. for searching or sorting)\n",
    "- How to translate a mathematical model or algorithm into a computer program\n"
   ]
  },
  {
   "cell_type": "markdown",
   "metadata": {
    "slideshow": {
     "slide_type": "slide"
    }
   },
   "source": [
    "# Course Entry Level\n",
    "\n",
    "Beginner, no prior programming knowlegde.\n",
    "\n",
    "Suitable for students on engineering degree programmes"
   ]
  },
  {
   "cell_type": "markdown",
   "metadata": {
    "slideshow": {
     "slide_type": "slide"
    }
   },
   "source": [
    "# Course stucture - TB1\n",
    "\n",
    "| Week    | Lab Topic           | Seminar Topic               |  Assessment                            | Taught by\n",
    "| :------ | :---------------    | :---------------            |:---------------                        |:-----------\n",
    "| 1       | Objects             | Notional Machine            |                                        |Hemma\n",
    "| 2       | Operators           |                             | Portfolio 1  *(formative)*             |Arthur\n",
    "| 3       | Conditionals        | Programming Environments    |                                        |Arthur\n",
    "| 4       | Loops               |                             | Portfolio 2 *(formative)*              |Arthur\n",
    "| 5       | **Consolidation 1** | Debugging 1                 |                                        |Arthur\n",
    "| 6       | *Reading Week*      |                             | Consolidation 1 *(formative)*          |\n",
    "| 7       | Data Structures     | Style and structure         |                                        |Martin\n",
    "| 8       | Reading Data        |                             | Portfolio 3  *(formative)*             |Hemma\n",
    "| 9       | Modules             | Libraries you should know   |                                        |Hemma\n",
    "| 10      | **Consolidation 2** |                             | Consolidation 2 *(formative)*          |Arthur\n",
    "| 11      | Functions 1         | Refactoring                 |                                        |Michael\n",
    "| 12      | Functions 2         |                             | Portfolio 4  *(formative)*             |Michael"
   ]
  },
  {
   "cell_type": "markdown",
   "metadata": {
    "slideshow": {
     "slide_type": "slide"
    }
   },
   "source": [
    "# Course stucture - TB2\n",
    "\n",
    "| Week    | Lab Topic           | Seminar Topic               |  Assessment                            |Taught by\n",
    "| :------ | :---------------    | :---------------            |:---------------                        |:------------\n",
    "| 13      | **Consolidation 3** | Algorithms                  |                                        |Martin\n",
    "| 14      | Solving ODEs        |                             | Consolidation 3 *(formative)*          |Martin\n",
    "| 15      | **Consolidation 4** | Algorithmic Complexity      | __Complete Portfolio *(SUMMATIVE 1)*__ |Martin\n",
    "| 16      | Abstract Data Types |                             | Consolidation 4 *(formative)*          |Martin\n",
    "| 17      | **Consolidation 5** | Tesing and AI generated code|                                        |Martin\n",
    "| 18      | *Reading Week*      |                             |  Consolidation 5 *(formative)*         |Martin\n",
    "| 19      | Coursework Support  |                             | [Summative coursework 2 released]      |Martin\n",
    "| 20      | Coursework Support  |                             |                                        |Martin\n",
    "| 21      | Coursework Support  |                             | __Coursework Assignment *(SUMMATIVE 2)*__|Martin\n",
    "| 12      |                     |                             | Vivas                                  |\n",
    "| 23      |                     |                             | Vivas                                  |"
   ]
  },
  {
   "cell_type": "markdown",
   "metadata": {
    "slideshow": {
     "slide_type": "slide"
    }
   },
   "source": [
    "# How you'll learn\n",
    "\n",
    "The materials for each week are posted on Blackboard\n",
    "\n",
    "Blackboard Page for this unit: **Computer Programming and Algorithms 2024** >> Teaching and Learning Area >> week e.g. Week 1"
   ]
  },
  {
   "cell_type": "markdown",
   "metadata": {
    "slideshow": {
     "slide_type": "slide"
    }
   },
   "source": [
    "### Pre-watch/ pre-read material\n",
    "\n",
    "Each week (excluding consolidation weeks) you MUST view the pre-watch/pre-read material before coming to the lab class (Tuesday).\n",
    "\n",
    "The pre-watch/pre-read material is available as:\n",
    "1) Videos: 3-4, videos per week, 10-15 minute each\n",
    "2) Google Colaboratory (Colab) notebook\n",
    "\n",
    "The pre-watch/pre-read material will help you work through the fundamental concepts for the week at your own pace and go over things multiple times if needed. \n",
    "\n",
    "### Lab material\n",
    "\n",
    "The lab material is available as Google Colaboratory (Colab) notebook"
   ]
  },
  {
   "cell_type": "markdown",
   "metadata": {
    "slideshow": {
     "slide_type": "slide"
    }
   },
   "source": [
    "\n",
    "# Opening a Google Colab notebook\n",
    "\n",
    "Go to Google Colab in a web browser https://colab.research.google.com/\n",
    "\n",
    "Select File >> Open Notebook >> Github\n",
    "\n",
    "Under \"Enter a Github URL or search by organisation or user\", paste the link to this week's notebook (on blackboard)\n",
    "\n",
    "You will need to login with a gmail account to run the interactive code cells. \n",
    "\n",
    "You can create an account here: https://accounts.google.com/lifecycle/steps/signup/name?ddm=0&dsh=S-486515162:1725811412833849&flowEntry=SignUp&flowName=GlifWebSignIn&TL=AKeb6mzfdqkyy6n5Ap2mbOARYW-k7Nfpjpow-iGnq_QB2sb7Ft6Su69Z1rvpjrEW"
   ]
  },
  {
   "cell_type": "markdown",
   "metadata": {
    "slideshow": {
     "slide_type": "slide"
    }
   },
   "source": [
    "# Saving a notebook\n",
    "\n",
    "The notebooks contain interactive code cells that you can edit during the class. \n",
    "\n",
    "You may want to save your own copy of your edited notebook. \n",
    "\n",
    "To download the notebook, you can select: File >> Download >> Download .ipynb\n",
    "\n",
    "Next time you want to open the file in Colab, you can select: File >> Upload Notebook >> Browse <br>...and then select your file. "
   ]
  },
  {
   "cell_type": "markdown",
   "metadata": {
    "slideshow": {
     "slide_type": "slide"
    }
   },
   "source": [
    "\n",
    "### Labs (Tuesday 1-3 pm)\n",
    "- Taught material to build on pre-watch/pre-read content\n",
    "- Code demonstrations\n",
    "- Lab exercises: Practise and demonstrate programming fundamentals by completing short and focused programming tasks\n",
    "- Consolidation exercises: Longer activities in which you bring together multiple different programming fundamentals\n",
    "- Note the first two weeks we'll be in MVB 2.11. For the rest of the semester, we'll be in QB 1.80"
   ]
  },
  {
   "cell_type": "markdown",
   "metadata": {
    "slideshow": {
     "slide_type": "slide"
    }
   },
   "source": [
    "### Seminar (Thursday, bi-weekly, 1-2 pm)\n",
    "- Discussions and group work on high-level concepts of programming and algorithms\n",
    "- In Queens Building, F.05 (\"The Stack Room\")"
   ]
  },
  {
   "cell_type": "markdown",
   "metadata": {
    "slideshow": {
     "slide_type": "slide"
    }
   },
   "source": [
    "### Drop-in support session (Tuesday/Wednesday + Friday)\n",
    "- An extra session for additional 1-to-1 support\n",
    "- TA-run session\n",
    "- Wednesday sessions 10-11 am in QB 1.80, **but**\n",
    "  - Week 2 and 3 sessions will be Tuesday 5-6 pm in MVB 1.15\n",
    "- Friday sessions 1-2 pm in QB 1.80 **but**\n",
    "  - Week 2 and 3 sessions will be Friday 5-6 pm in MVB 1.15"
   ]
  },
  {
   "cell_type": "markdown",
   "metadata": {
    "slideshow": {
     "slide_type": "slide"
    }
   },
   "source": [
    "# Study Groups\n",
    "\n",
    "- You have all been assigned to a study group containing 6 students. \n",
    "\n",
    "- Each group has been assigned a number, and you should sit on the table with the same number as your group, for the entire duration of the course.\n",
    "\n",
    "- We also expect members of a study group to support each other throughout the course - we encourage you to work on the lab exercises in pairs. \n",
    "\n",
    "- If you are stuck on an exercise, or don't understand something, please first ask the other members of your study group for support. \n",
    "\n",
    "- Similarly, if you finish with the lab exercises, we encourage you to help out other members of your study group.\n",
    "\n",
    "- Each study group will be assigned a teaching assistant, who will work with you throughout the course. \n",
    "\n",
    "- TAs will be available to offer support during the labs, and will also be responsible for providing formative feedback on your submitted work."
   ]
  },
  {
   "cell_type": "markdown",
   "metadata": {
    "slideshow": {
     "slide_type": "slide"
    }
   },
   "source": [
    "# Keeping on top of this course\n",
    "2 hours a week is not enough for you to get a good mark on this course. \n",
    "\n",
    "While in some weeks it may be possible for you to complete everything within the labs, in general, we expect you to have to do some work in your own time. \n",
    "\n",
    "To stay on track with CPA, you should aim to finish each lab sheet within the week it is assigned. \n",
    "\n",
    "If you have not done so, then we particularly encourage you to come to the drop-ins to get some extra help."
   ]
  },
  {
   "cell_type": "markdown",
   "metadata": {
    "slideshow": {
     "slide_type": "slide"
    }
   },
   "source": [
    "# Staying motivated on this course\n",
    "\n",
    "For many of you, this will be your first exposure to programming. It's our strong belief that every person on this course is fully able to become a confident and capable programmer. However, programming (and especially learning to program) can also be incredibly frustrating- often our code won't work and sometimes we'll get confusing error messages or see syntax we don't understand. This can then be compounded by the fact that some of our peers may not seem to be struggling at all (i.e someone may have done A level Computing, or self-taught themselves as a hobby). Unfortunately, every year, we see students decide that programming \"just isn't for them\". While we don't need everybody here to love programming, to access many of the modules in the later years of your course, you will be expected to be able to write code. \n",
    "\n",
    "Also remember that computing is a huge subject and by necessity we've had to skip over many details to focus on the core things you need in this course. This means it's completely normal to occasionally feel unsure or frustrated about something. With time, and practice, this will turn into confident and capability. But if you do find yourself struggling like this, please don't suffer in silence! Talk to us, your peers or your TA.  "
   ]
  },
  {
   "cell_type": "markdown",
   "metadata": {
    "slideshow": {
     "slide_type": "slide"
    }
   },
   "source": [
    "# Communication\n",
    "\n",
    "Communication about this course will predominantly be via Blackboard- please look out for announcements. \n",
    "\n",
    "Any questions you have about the course should be posted in the Blackboard Discussions board so everybody can benefit from the same information. \n",
    "\n",
    "Email should only be used for discussing personal issues (i.e extenuating circumstances or need for individual adjustments)."
   ]
  },
  {
   "cell_type": "markdown",
   "metadata": {
    "slideshow": {
     "slide_type": "slide"
    }
   },
   "source": [
    "# Assessment \n",
    "\n",
    "You will submit three assessment exercise types:\n",
    "- __Code Portfolio__: A subset of the weekly lab exercises. \n",
    "- __Consolidation Exercises__: A longer exercise to consolidate your learning from multiple lab sessions\n",
    "- __Coursework Assignment__: A modelling exercise and report, supported by an oral viva\n",
    "\n",
    "### Formative (ungraded) assessment: \n",
    "Submission of consolidation exercises 1-5 / code portfolio section 1-4 __every 2 weeks__  \n",
    "You will receive verbal feedback from your allocated TA\n",
    "<br>Additionally, you will receive automatically generated written feedback on code portfolio sections\n",
    "\n",
    "### Summative (graded) assessment: \n",
    "- Complete code portfolio [sections 1-4], __20%__ , week 15\n",
    "- Coursework assignment, __80%__, week 21"
   ]
  },
  {
   "cell_type": "markdown",
   "metadata": {
    "slideshow": {
     "slide_type": "slide"
    }
   },
   "source": [
    "# Need more practise or want some more advanced information?  \n",
    "\n",
    "We understand that you are coming to this course from different backgrounds and with different levels of programming experience. \n",
    "\n",
    "At the end of each video there are mulitple links to:\n",
    "- online examples to help you practise what you have seen\n",
    "- online quizzes to help you to test your understanding \n",
    "- articles with more advanced information in case you are curious to know more"
   ]
  },
  {
   "cell_type": "markdown",
   "metadata": {
    "slideshow": {
     "slide_type": "slide"
    }
   },
   "source": [
    "# Introductions\n",
    "\n",
    "Now, it's time for us all to get to know each other a little bit. \n",
    "\n",
    "First, we would like to introduce yourself to the other members of your study group and your TA.\n",
    "\n",
    "We'll give you 15 minutes for this- you may want to discuss:\n",
    "* Your name and where you are from.\n",
    "* How much programming you've done previously- who in your group has done the most programming? who is starting from scratch?\n",
    "* What you're excited or worried about in this course.\n",
    "* What is your TA's name? How much programming have they done and how do they use code in their research (if at all)? How did they learn to program? What did they struggle with most when learning to program?\n",
    "\n",
    "Once you've finished, please go to menti.com and enter code: <CODE GOES HERE>\n",
    "\n"
   ]
  },
  {
   "cell_type": "markdown",
   "metadata": {
    "slideshow": {
     "slide_type": "slide"
    }
   },
   "source": [
    "# Software \n",
    "\n",
    "To access this course, you will need the following pieces of software:\n",
    "\n",
    "* A web browser (to access Google Collab)\n",
    "* A bash terminal (i.e Git-bash, iterm2)\n",
    "* A text editor (Visual Studio (VS) Code)\n",
    "* Python3.12\n",
    "* Python Libraries: numpy and matplotlib\n",
    "\n",
    "\n",
    "Many of you will want to install this software on your own machines- we've put some instructions on Blackboard to show you how to do this. "
   ]
  },
  {
   "cell_type": "markdown",
   "metadata": {
    "slideshow": {
     "slide_type": "skip"
    }
   },
   "source": [
    "\n",
    "The rest of this session is given over for you to run through these instructions (with support from us). \n",
    "\n",
    "Beyond this session, we will *not* be offering support with software installation on personal devices. \n",
    "\n",
    "You can instead get help with this from IT services (link goes here). "
   ]
  },
  {
   "cell_type": "markdown",
   "metadata": {
    "slideshow": {
     "slide_type": "slide"
    }
   },
   "source": [
    "# Getting started with the terminal\n",
    "\n",
    "Now that you have your Terminal installed and setup, let's see what you can do with it. Start by opening a Terminal. You should see a screen like the image below (Mac and Linux users may appear slightly different):\n",
    "\n",
    "<img src=\"https://github.com/engmaths/SEMT10002_2024/blob/main/img/BlankTerminal.png?raw=true\" width=\"60%\">\n",
    "\n",
    "\n",
    "The $ symbol here is the bash prompt, indicating that you can enter bash commands. When you first open a terminal, it will by default open looking at a specific directory. You can find out which directory you are in by typing *pwd*, which stands for \"print working directory\". You can also see the contents of the directory you are in by typing *ls*. The image below shows what happens when I type these commands on my machine- as your files and folders are different to mine, your output will also be slightly different. \n",
    "\n",
    "<img src=\"https://github.com/engmaths/SEMT10002_2024/blob/main/img/TerminalImage2.png?raw=true\" width=\"60%\">\n",
    "\n",
    "\n",
    "If you compare the list we get from terminal, to the files shown in File Explorer you should see they are the same- as explained above, the terminal is a text-based interface, that allows us to do many of the same (and more!) tasks we can do with a graphical user interface. To start navigating the file system with the terminal, we can use the command *cd \\<name of folder>* (which stands for change directory). For example, if I want to see what's in the *Lab* folder, I would type:\n",
    "\n",
    "```bash\n",
    "$ cd Lab\n",
    "```\n",
    "\n",
    "Initially, it might feel like using the terminal to navigate the file system is much slower than with a GUI (so much typing!). A few things that can speed up file system navigation are:\n",
    "\n",
    "1. Bash uses \"..\" to represent the directory that contains the one I am currently in. If I wanted to return from the **Lab** folder to the previous folder, I can just type **cd ..**\n",
    "2. Bash has \"Tab autocompletion\". Rather than typing the entire name of the directory I want to enter, I can simply type the first letter and then hit the *Tab* key on my keyboard. If the directory I want is the only option with that letter, Bash will autocomplete the path for me. \n",
    "3. You can cycle through old commands by pressing the up arrow. Hitting enter will then run the previous command. To see a list of previously entered commands, you can type history and then hit enter. This will give you a list of previous commands with a number next to them. e.g. \n",
    "\n",
    "```bash\n",
    "$ history\n",
    "  121 rm some_rubbish.txt\n",
    "  122 cd homework_solutions P\n",
    "  123 ls\n",
    "  124 cd engmaths/week13\n",
    "```\n",
    "\n",
    "Typing !122 and hitting enter will run \"cd homework_solutions\"\n",
    "\n",
    "<h4> Basic Terminal commands </h4>\n",
    "We have already seen 3 examples of terminal commands. These are:\n",
    "\n",
    "1. *ls*  (list) - lists the contents of a directory\n",
    "2. *pwd* (print working directory) - prints the name of the current directory you are in\n",
    "3. *cd \\<name of directory\\>* (change directory) - navigates to a new directory\n",
    "\n",
    "We will now introduce some further commands that will allow you to manipulate the files on your computer. Note that I'm using angle brackets *\\<>* to show where a command requires a parameter, and curly brackets *()* to give the name of the command. Some further useful Bash commands are:\n",
    "\n",
    "4. *mkdir \\<name of directory\\>* (make directory) - makes a new directory\n",
    "5. *touch \\<name of file\\>* (touch) - makes a new (empty) file\n",
    "6. *cp \\<source file\\> \\<destination file\\>* (copy) - copies a file from source to destination\n",
    "7. *mv \\<source file\\> \\<destination file\\>* (move) - moves a file from source to destination\n",
    "8. *rm \\<name of file\\>* (remove) - deletes a file\n",
    "9. *cat \\<name of file\\>* (concatenate) - displays the contents of a file\n",
    "10. *rmdir \\<name of directory\\>* (remove directory) - deletes a directory\n",
    "\n",
    "**Exercise:** Using these commands, make a new directory called \"CPA\", with a subdirectory called \"Week 1\" inside it. Inside \"Block 1\", create an empty file called \"Exercise 1.py\"\n",
    "\n",
    "**Exercise:** Now create a second directory inside your CPA folder called \"Week 2\". Copy the file \"Exercise 1.py\" from the folder \"Week 1\" into folder \"Week 2\". Now delete the original file from \"Block 1\"\n",
    "\n",
    "When completing this exercise, you may had had some issues when using \"cd\" as the directory names have a space in them. This is because the cd command interprets a string containing a space as two separate strings. You can get around this by using quotation marks, e.g. ```cd \"Week 1\"```. However, it's good practice to avoid using spaces in the directory names- using a dash(-) or an underscore(\\_) to represent spaces instead. \n",
    "\n",
    "**Exercise:** Delete the two directories, and file, then make a new directory \"Week_1\", and make a new file inside it called \"Exercise_1.py\"\n",
    "\n",
    "Each of the commands we have introduced can be modified by the addition of one or more *flags*. For example, if we type ```rm -i \\<name of file>``` then we will be prompted prior to the deletion of each file. To find out more about the various options available for these commands, you can usually type the name of the command followed by --help. \n",
    "\n",
    "<h4> Running code through the terminal </h4>\n",
    "\n",
    "A terminal not only allows us to use the built-in commands that we have seen, but also lets us run code that we have written.\n",
    "\n",
    "**Exercise:** Open the text file you previously created (\"Exercise1.py\") and type in the following code:\n",
    "\n",
    "```python\n",
    "print(\"Hello, World!\")\n",
    "```\n",
    "\n",
    "Save the file (in the directory \"CPA/Block_1\"), and then run it through the terminal by typing \n",
    "\n",
    "```bash\n",
    "python3 Exercise1.py\n",
    "```\n",
    "\n",
    "**Exercise:** Check that you have correctly installed all the necessary software for this course by typing in and running the following code:\n",
    "\n",
    "```python\n",
    "#Import the numpy library\n",
    "import numpy as np \n",
    "#Import the matplotlib library\n",
    "import matplotlib.pyplot as plt \n",
    "\n",
    "xs = np.linspace(0, 100)\n",
    "ys = np.sin(xs)\n",
    "plt.plot(xs, ys)\n",
    "plt.show()\n",
    "```\n",
    "\n",
    "If you've finished all of these exercises, please help other members of your study group for the remainder of the session. If everybody in your group has finished, please feel free to leave early! \n"
   ]
  },
  {
   "cell_type": "code",
   "execution_count": null,
   "metadata": {},
   "outputs": [],
   "source": []
  }
 ],
 "metadata": {
  "celltoolbar": "Slideshow",
  "kernelspec": {
   "display_name": "Python 3 (ipykernel)",
   "language": "python",
   "name": "python3"
  },
  "language_info": {
   "codemirror_mode": {
    "name": "ipython",
    "version": 3
   },
   "file_extension": ".py",
   "mimetype": "text/x-python",
   "name": "python",
   "nbconvert_exporter": "python",
   "pygments_lexer": "ipython3",
   "version": "3.9.10"
  }
 },
 "nbformat": 4,
 "nbformat_minor": 4
}
