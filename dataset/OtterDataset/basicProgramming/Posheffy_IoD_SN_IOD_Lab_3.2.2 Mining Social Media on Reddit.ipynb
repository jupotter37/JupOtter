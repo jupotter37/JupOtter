{
 "cells": [
  {
   "cell_type": "markdown",
   "metadata": {
    "id": "nOGGU7gNKck0"
   },
   "source": [
    "<div>\n",
    "<img src=https://www.institutedata.com/wp-content/uploads/2019/10/iod_h_tp_primary_c.svg width=\"300\">\n",
    "</div>"
   ]
  },
  {
   "cell_type": "markdown",
   "metadata": {
    "id": "_D_idRWZKck4"
   },
   "source": [
    "# Lab 3.2.2 \n",
    "# *Mining Social Media on Reddit*"
   ]
  },
  {
   "cell_type": "markdown",
   "metadata": {
    "id": "atJ1XMr3Kck7",
    "tags": []
   },
   "source": [
    "## The Reddit API and the PRAW Package"
   ]
  },
  {
   "cell_type": "markdown",
   "metadata": {
    "id": "aJ9o1EfAKck-"
   },
   "source": [
    "The Reddit API is rich and complex, with many endpoints (https://www.reddit.com/dev/api/). It includes methods for navigating its collections, which include various kinds of media as well as comments. Fortunately, the Python library PRAW (which means Python Reddit API Wrapper) reduces much of this complexity.\n",
    "\n",
    "Reddit requires developers to create and authenticate an app before they can use the API, but the process is much less onerous than some, and does not have waiting period for approval of new developers."
   ]
  },
  {
   "cell_type": "markdown",
   "metadata": {
    "id": "egz9IUhlKclB"
   },
   "source": [
    "### 1. Create a Reddit App\n",
    "\n",
    "Go to https://www.reddit.com/prefs/apps and click \"create an app\".\n",
    "\n",
    "Enter the following in the form:\n",
    "\n",
    "- a name for your app\n",
    "- select \"script\" radio button\n",
    "- a description\n",
    "- a redirect URI\n",
    "\n",
    "(Nb. For pulling data into a data science experiment, a local port can be used for the Redirect URI; try http://127.0.0.1:1410)\n",
    "\n",
    "\n",
    "- click \"create app\"\n",
    "- from the form that displays, copy the following to a local text file (or to this notebook):\n",
    "\n",
    "  - name (the name you gave to your app)\n",
    "  - redirect URI\n",
    "  - personal use script (this is your OAuth 2 Client ID)\n",
    "  - secret (this is your OAuth 2 Secret)"
   ]
  },
  {
   "cell_type": "markdown",
   "metadata": {
    "id": "LF9V-LJ2KclE"
   },
   "source": [
    "### 2. Register for API Access\n",
    "\n",
    "- follow the link at https://www.reddit.com/wiki/api and read the terms of use for Reddit API access \n",
    "- fill in the form fields at the bottom \n",
    "  - make sure to enter your new OAuth Client ID where indicated\n",
    "  - your use case could be something like \"Training in API usage for data science projects\"\n",
    "  - your platform could be something like \"Jupyter Notebooks / Python\"\n",
    "  \n",
    "- click \"SUBMIT\"\n",
    " \n",
    "- when asked for User-Agent, enter something that fits this pattern:\n",
    "  `your_os-python:your_reddit_appname:v1.0 (by /u/your_reddit_username)`"
   ]
  },
  {
   "cell_type": "markdown",
   "metadata": {
    "id": "JIsv8YAMKclG"
   },
   "source": [
    "### 3. Load Python Libraries"
   ]
  },
  {
   "cell_type": "raw",
   "metadata": {
    "colab": {
     "base_uri": "https://localhost:8080/"
    },
    "executionInfo": {
     "elapsed": 4231,
     "status": "ok",
     "timestamp": 1685516919188,
     "user": {
      "displayName": "Maheshkumar Paik",
      "userId": "02349378107593826691"
     },
     "user_tz": -480
    },
    "id": "U3ZVHsiYoubq",
    "outputId": "ab731409-5046-47f5-aeed-c7d5a5b8f4bb"
   },
   "source": [
    "!pip install praw"
   ]
  },
  {
   "cell_type": "code",
   "execution_count": 1,
   "metadata": {
    "executionInfo": {
     "elapsed": 3,
     "status": "ok",
     "timestamp": 1685516922260,
     "user": {
      "displayName": "Maheshkumar Paik",
      "userId": "02349378107593826691"
     },
     "user_tz": -480
    },
    "id": "xqi2BT66KclI"
   },
   "outputs": [],
   "source": [
    "import praw # means Python Reddit API Wrapper\n",
    "import requests\n",
    "import json\n",
    "import pprint # pretty print - prints in a more humanly friendly way\n",
    "from datetime import datetime, date, time"
   ]
  },
  {
   "cell_type": "markdown",
   "metadata": {
    "id": "wwXaO9GPKclP"
   },
   "source": [
    "### 4. Authenticate from your Python script"
   ]
  },
  {
   "cell_type": "markdown",
   "metadata": {
    "id": "ZF5oh54RKclR"
   },
   "source": [
    "You could assign your authentication details explicitly, as follows:"
   ]
  },
  {
   "cell_type": "code",
   "execution_count": null,
   "metadata": {
    "id": "qH2-X9juKclS"
   },
   "outputs": [],
   "source": [
    "my_user_agent = '' # your user Agent string goes in here\n",
    "my_client_id = '' # your Client ID string goes in here\n",
    "my_client_secret = '' # your Secret string goes in here"
   ]
  },
  {
   "cell_type": "markdown",
   "metadata": {
    "id": "1TmzPxHIKclX"
   },
   "source": [
    "A better way would be to store these details externally, so they are not displayed in the notebook:\n",
    "\n",
    "- create a file called \"auth_reddit.json\" in your \"notebooks\" directory, and save your credentials there in JSON format:\n",
    "\n",
    "`{   \"my_client_id\": \"your Client ID string goes in here\",` <br>\n",
    "&nbsp;&nbsp;&nbsp;&nbsp;&nbsp;&nbsp;&nbsp;&nbsp;` \"my_client_secret\": \"your Secret string goes in here\",` <br>\n",
    "&nbsp;&nbsp;&nbsp;&nbsp;&nbsp;&nbsp;&nbsp;&nbsp;`\"my_user_agent\": \"your user Agent string goes in here\"` <br>\n",
    "`}`\n",
    "\n",
    "Use the following code to load the credentials:  "
   ]
  },
  {
   "cell_type": "code",
   "execution_count": null,
   "metadata": {
    "colab": {
     "base_uri": "https://localhost:8080/",
     "height": 35
    },
    "executionInfo": {
     "elapsed": 324,
     "status": "ok",
     "timestamp": 1685517832027,
     "user": {
      "displayName": "Maheshkumar Paik",
      "userId": "02349378107593826691"
     },
     "user_tz": -480
    },
    "id": "mFbFWGnVKclY",
    "outputId": "97c00516-ffaa-4ea3-a62f-943f12278dcf"
   },
   "outputs": [],
   "source": [
    "pwd()  # make sure your working directory is where the file is"
   ]
  },
  {
   "cell_type": "code",
   "execution_count": null,
   "metadata": {
    "colab": {
     "base_uri": "https://localhost:8080/"
    },
    "executionInfo": {
     "elapsed": 333,
     "status": "ok",
     "timestamp": 1685518100680,
     "user": {
      "displayName": "Maheshkumar Paik",
      "userId": "02349378107593826691"
     },
     "user_tz": -480
    },
    "id": "Jc5_dh-jKclc",
    "outputId": "8b5c246d-e9aa-4713-d041-6d7257ea69af"
   },
   "outputs": [],
   "source": [
    "path_auth = 'auth_reddit.json'\n",
    "auth = json.loads(open(path_auth).read())"
   ]
  },
  {
   "cell_type": "code",
   "execution_count": null,
   "metadata": {},
   "outputs": [],
   "source": [
    "# For debugging only:\n",
    "pp = pprint.PrettyPrinter(indent=4)\n",
    "pp.pprint(auth)"
   ]
  },
  {
   "cell_type": "code",
   "execution_count": 3,
   "metadata": {
    "executionInfo": {
     "elapsed": 4,
     "status": "ok",
     "timestamp": 1685518173477,
     "user": {
      "displayName": "Maheshkumar Paik",
      "userId": "02349378107593826691"
     },
     "user_tz": -480
    },
    "id": "IyPlUZ-wtRrS"
   },
   "outputs": [],
   "source": [
    "my_user_agent = auth['my_user_agent']\n",
    "my_client_id = auth['my_client_id']\n",
    "my_client_secret = auth['my_client_secret']"
   ]
  },
  {
   "cell_type": "markdown",
   "metadata": {
    "id": "lVKFy9rZKclf"
   },
   "source": [
    "Security considerations: \n",
    "- this method only keeps your credentials invisible as long as nobody else gets access to this notebook file \n",
    "- if you wanted another user to have access to the executable notebook without divulging your credentials you should set up an OAuth 2.0 workflow to let them obtain and apply their own API tokens when using your app\n",
    "- if you just want to share your analyses, you could use a separate script (which you don't share) to fetch the data and save it locally, then use a second notebook (with no API access) to load and analyse the locally stored data"
   ]
  },
  {
   "cell_type": "markdown",
   "metadata": {
    "id": "fgHqt72rKclg"
   },
   "source": [
    "### 5. Exploring the API"
   ]
  },
  {
   "cell_type": "markdown",
   "metadata": {
    "id": "ByEQS6QsKclh"
   },
   "source": [
    "Here is how to connect to Reddit with read-only access:"
   ]
  },
  {
   "cell_type": "code",
   "execution_count": 4,
   "metadata": {
    "colab": {
     "base_uri": "https://localhost:8080/"
    },
    "executionInfo": {
     "elapsed": 392,
     "status": "ok",
     "timestamp": 1685518185231,
     "user": {
      "displayName": "Maheshkumar Paik",
      "userId": "02349378107593826691"
     },
     "user_tz": -480
    },
    "id": "8hkZJlcJKcli",
    "outputId": "8e736632-b9cc-4ddd-808c-9fa125dada0f"
   },
   "outputs": [
    {
     "name": "stdout",
     "output_type": "stream",
     "text": [
      "Read-only = True\n"
     ]
    }
   ],
   "source": [
    "reddit = praw.Reddit(client_id = my_client_id, \n",
    "                     client_secret = my_client_secret, \n",
    "                     user_agent = my_user_agent)\n",
    "\n",
    "print('Read-only = ' + str(reddit.read_only))  # Output: True"
   ]
  },
  {
   "cell_type": "markdown",
   "metadata": {
    "id": "slGz0lS5Kclk"
   },
   "source": [
    "In the next cell, put the cursor after the '.' and hit the [tab] key to see the available members and methods in the response object:"
   ]
  },
  {
   "cell_type": "code",
   "execution_count": 5,
   "metadata": {
    "executionInfo": {
     "elapsed": 14,
     "status": "ok",
     "timestamp": 1685518225981,
     "user": {
      "displayName": "Maheshkumar Paik",
      "userId": "02349378107593826691"
     },
     "user_tz": -480
    },
    "id": "poGsr4X9tv42"
   },
   "outputs": [],
   "source": [
    "# Connect to a subreddit\n",
    "subreddit_name = 'funny'\n",
    "subreddit = reddit.subreddit(subreddit_name)"
   ]
  },
  {
   "cell_type": "code",
   "execution_count": 6,
   "metadata": {
    "colab": {
     "base_uri": "https://localhost:8080/"
    },
    "executionInfo": {
     "elapsed": 96527,
     "status": "ok",
     "timestamp": 1685518357553,
     "user": {
      "displayName": "Maheshkumar Paik",
      "userId": "02349378107593826691"
     },
     "user_tz": -480
    },
    "id": "_iuNlRadtx9T",
    "outputId": "deee9289-d1f9-4811-eb8e-80db3438e8f1"
   },
   "outputs": [],
   "source": [
    "# Retrieve comments from subreddits\n",
    "comments = []\n",
    "for comment in subreddit.comments(limit=1000):\n",
    "    comments.append(comment)"
   ]
  },
  {
   "cell_type": "code",
   "execution_count": 7,
   "metadata": {},
   "outputs": [
    {
     "name": "stdout",
     "output_type": "stream",
     "text": [
      "That shit will only last as long as his mom thinks it's cute.\n",
      "Frankly? I'm impressed.\n",
      "Whoa, somebody had hay for dinner ..\n",
      "Funny, or you just being ignorant to how things work?\n",
      "\n",
      "Why is this dogshit post on my home page, it only has 200 upvotes? Reddit really sucks these days.\n",
      "Perfect if every attacker wants to grab your shirt and hold on for dear life\n"
     ]
    }
   ],
   "source": [
    "# Print first 5 comments\n",
    "for comment in comments[:5]:\n",
    "    print(comment.body)"
   ]
  },
  {
   "cell_type": "code",
   "execution_count": 8,
   "metadata": {
    "colab": {
     "base_uri": "https://localhost:8080/"
    },
    "executionInfo": {
     "elapsed": 7,
     "status": "ok",
     "timestamp": 1685521538900,
     "user": {
      "displayName": "Maheshkumar Paik",
      "userId": "02349378107593826691"
     },
     "user_tz": -480
    },
    "id": "6MvyYewEKcll",
    "outputId": "3c40f831-334b-4f57-bd1b-d229134ae7f8"
   },
   "outputs": [
    {
     "data": {
      "text/plain": [
       "Subreddit(display_name='funny')"
      ]
     },
     "execution_count": 8,
     "metadata": {},
     "output_type": "execute_result"
    }
   ],
   "source": [
    "# Check subreddit name\n",
    "reddit.subreddit(subreddit_name)"
   ]
  },
  {
   "cell_type": "markdown",
   "metadata": {
    "id": "AKfXBu7yKcln"
   },
   "source": [
    "Consult the PRAW and Reddit API documentation. Print a few of the response members below:"
   ]
  },
  {
   "cell_type": "markdown",
   "metadata": {
    "id": "31Njl99lKcln"
   },
   "source": [
    "PRAW documentation:https://praw.readthedocs.io/en/stable/\n",
    "\n",
    "Reddit API documentation: https://www.reddit.com/dev/api/"
   ]
  },
  {
   "cell_type": "markdown",
   "metadata": {
    "id": "5L10cuKfKclp"
   },
   "source": [
    "Content in Reddit is grouped by topics called \"subreddits\". Content, called \"submissions\", is fetched by calling the `subreddit` method of the connection object (which is our `reddit` variable) with an argument that matches an actual topic. \n",
    "\n",
    "We also need to append a further method call to a \"subinstance\", such as one of the following:\n",
    "\n",
    "- controversial\n",
    "- gilded\n",
    "- hot\n",
    "- new\n",
    "- rising\n",
    "- top\n",
    "\n",
    "One of the submission objects members is `title`. Fetch and print 10 submission titles from the 'learnpython' subreddit using one of the subinstances above:"
   ]
  },
  {
   "cell_type": "code",
   "execution_count": 9,
   "metadata": {
    "colab": {
     "base_uri": "https://localhost:8080/"
    },
    "executionInfo": {
     "elapsed": 433,
     "status": "ok",
     "timestamp": 1685521546523,
     "user": {
      "displayName": "Maheshkumar Paik",
      "userId": "02349378107593826691"
     },
     "user_tz": -480
    },
    "id": "2W1iCDE9Kclp",
    "outputId": "1af1e406-d056-4cf6-da9c-e80705981b37"
   },
   "outputs": [
    {
     "name": "stdout",
     "output_type": "stream",
     "text": [
      "Ask Anything Monday - Weekly Thread\n",
      "Best Python course with lots of exercises and quizzes?\n",
      "How to write a line that allows a customer to enter a number between 1-100\n",
      "What to do when the learning to code process starts to get boring and tiring ?\n",
      "How to activate multiple devices with differing Mac addresses in one python code?\n",
      "FastAPI and SwiftUI\n",
      "Get elements of list in the form (i, j, k) separately, divided by comma\n",
      "How do python \"reads\" new paragraf (enter)\n",
      "I cannot import my module.\n",
      "Best paid courses for Python?\n"
     ]
    }
   ],
   "source": [
    "for submission in reddit.subreddit('learnpython').hot(limit=10):\n",
    "    print(submission.title)"
   ]
  },
  {
   "cell_type": "markdown",
   "metadata": {
    "id": "00coF0YJKclr"
   },
   "source": [
    "Now retrieve 10 authors:"
   ]
  },
  {
   "cell_type": "code",
   "execution_count": 10,
   "metadata": {
    "colab": {
     "base_uri": "https://localhost:8080/"
    },
    "executionInfo": {
     "elapsed": 7086,
     "status": "ok",
     "timestamp": 1685521557229,
     "user": {
      "displayName": "Maheshkumar Paik",
      "userId": "02349378107593826691"
     },
     "user_tz": -480
    },
    "id": "U1vTByCGKclr",
    "outputId": "836a8bf7-dbaa-45f2-ae11-559bee7c2744"
   },
   "outputs": [
    {
     "name": "stdout",
     "output_type": "stream",
     "text": [
      "AutoModerator\n",
      "pixieshit\n",
      "SithAbsolutes\n",
      "Tech-HRT\n",
      "Relevant-Arachnid402\n",
      "Regular-Hospital-281\n",
      "Char-car92\n",
      "JofoBoss\n",
      "That_guy3475\n",
      "Formal-Sale-9818\n"
     ]
    }
   ],
   "source": [
    "for submission in reddit.subreddit('learnpython').hot(limit=10):\n",
    "    print(submission.author)"
   ]
  },
  {
   "cell_type": "markdown",
   "metadata": {
    "id": "dOFMMl6AKclt"
   },
   "source": [
    "Note that we obtained the titles and authors from separate API calls. Can we expect these to correspond to the same submissions? If not, how could we gurantee that they do?\n",
    "\n",
    "- SN_note: The comment above acknowledges the need to ensure that the titles and authors align correctly with the same submissions. It's possible that due to the asynchronous nature of API calls or other factors, the data retrieved from one call might not perfectly match the data from another call."
   ]
  },
  {
   "cell_type": "code",
   "execution_count": 11,
   "metadata": {},
   "outputs": [
    {
     "name": "stdout",
     "output_type": "stream",
     "text": [
      "Title:  Ask Anything Monday - Weekly Thread\n",
      "Author:  AutoModerator\n",
      "----------------------------------\n",
      "Title:  Best Python course with lots of exercises and quizzes?\n",
      "Author:  pixieshit\n",
      "----------------------------------\n",
      "Title:  How to write a line that allows a customer to enter a number between 1-100\n",
      "Author:  SithAbsolutes\n",
      "----------------------------------\n",
      "Title:  What to do when the learning to code process starts to get boring and tiring ?\n",
      "Author:  Tech-HRT\n",
      "----------------------------------\n",
      "Title:  How to activate multiple devices with differing Mac addresses in one python code?\n",
      "Author:  Relevant-Arachnid402\n",
      "----------------------------------\n",
      "Title:  FastAPI and SwiftUI\n",
      "Author:  Regular-Hospital-281\n",
      "----------------------------------\n",
      "Title:  Get elements of list in the form (i, j, k) separately, divided by comma\n",
      "Author:  Char-car92\n",
      "----------------------------------\n",
      "Title:  How do python \"reads\" new paragraf (enter)\n",
      "Author:  JofoBoss\n",
      "----------------------------------\n",
      "Title:  I cannot import my module.\n",
      "Author:  That_guy3475\n",
      "----------------------------------\n",
      "Title:  Best paid courses for Python?\n",
      "Author:  Formal-Sale-9818\n",
      "----------------------------------\n"
     ]
    }
   ],
   "source": [
    "# submissions = reddit.subreddit('learnpython')\n",
    "\n",
    "for submission in reddit.subreddit('learnpython').hot(limit=10):\n",
    "    print(\"Title: \", submission.title)\n",
    "    print(\"Author: \", submission.author)\n",
    "    print(\"----------------------------------\")"
   ]
  },
  {
   "cell_type": "code",
   "execution_count": 12,
   "metadata": {
    "executionInfo": {
     "elapsed": 3,
     "status": "ok",
     "timestamp": 1685521615487,
     "user": {
      "displayName": "Maheshkumar Paik",
      "userId": "02349378107593826691"
     },
     "user_tz": -480
    },
    "id": "eIPVr-WaKclu"
   },
   "outputs": [],
   "source": [
    "submissions=reddit.subreddit('learnpython')"
   ]
  },
  {
   "cell_type": "markdown",
   "metadata": {
    "id": "IjIJ6ojAKclv"
   },
   "source": [
    "Why doesn't the next cell produce output?\n",
    "- SN_answer: No output is produced because the submission.comments attribute doesn't directly contain the comments for each submission. Instead, it's a PRAW object that you need to iterate through to access the comments."
   ]
  },
  {
   "cell_type": "code",
   "execution_count": 13,
   "metadata": {
    "colab": {
     "base_uri": "https://localhost:8080/",
     "height": 183
    },
    "executionInfo": {
     "elapsed": 6,
     "status": "error",
     "timestamp": 1685521616248,
     "user": {
      "displayName": "Maheshkumar Paik",
      "userId": "02349378107593826691"
     },
     "user_tz": -480
    },
    "id": "ifxjcJ2aKclw",
    "outputId": "7e555d2c-0489-4eaa-888d-66fe598c1bf9"
   },
   "outputs": [
    {
     "ename": "TypeError",
     "evalue": "'Subreddit' object is not iterable",
     "output_type": "error",
     "traceback": [
      "\u001b[0;31m---------------------------------------------------------------------------\u001b[0m",
      "\u001b[0;31mTypeError\u001b[0m                                 Traceback (most recent call last)",
      "Cell \u001b[0;32mIn[13], line 1\u001b[0m\n\u001b[0;32m----> 1\u001b[0m \u001b[38;5;28;01mfor\u001b[39;00m submission \u001b[38;5;129;01min\u001b[39;00m submissions:\n\u001b[1;32m      2\u001b[0m     \u001b[38;5;28mprint\u001b[39m(submission\u001b[38;5;241m.\u001b[39mcomments)\n",
      "\u001b[0;31mTypeError\u001b[0m: 'Subreddit' object is not iterable"
     ]
    }
   ],
   "source": [
    "for submission in submissions:\n",
    "    print(submission.comments)"
   ]
  },
  {
   "cell_type": "markdown",
   "metadata": {
    "id": "4aZ2OSd_Kclz"
   },
   "source": [
    "Print two comments associated with each of these submissions:"
   ]
  },
  {
   "cell_type": "code",
   "execution_count": 14,
   "metadata": {},
   "outputs": [
    {
     "name": "stdout",
     "output_type": "stream",
     "text": [
      "Comment: I would love to learn Python, and I'm a bit overwhelmed and the bevy of options online.  \n",
      "Are any of you self-taught and where do you recommend starting as a beginner?\n",
      "-----------------------------------------------------------------\n",
      "Comment: Practicing codewars everybody for at least one hour but just feels like i’m not improving… :(\n",
      "-----------------------------------------------------------------\n",
      "Comment: https://programming-23.mooc.fi from the University of Helsinki\n",
      "\n",
      "Honestly, far better for complete beginners than ATBS. ATBS is great for the later parts where the projects come, but the early parts are too short for complete beginners.\n",
      "\n",
      "The MOOC I've linked above addresses exactly your \"repeated exercises\" statement as it is majorly based on having you program.\n",
      "-----------------------------------------------------------------\n",
      "Comment: harvard university's              \n",
      "CS50’s Introduction to Programming with Python                     \n",
      "\n",
      "https://cs50.harvard.edu/python/2022/\n",
      "-----------------------------------------------------------------\n"
     ]
    }
   ],
   "source": [
    "# Fetch the 2 hottest (most upvoted) submissions from the 'learnpython' subreddit\n",
    "submissions = reddit.subreddit('learnpython').hot(limit=2)\n",
    "\n",
    "# Iterate through each submission in the fetched list\n",
    "for submission in submissions:\n",
    "    \n",
    "    # Get a list of the comments for the current submission\n",
    "    # comments = list(submission.comments)\n",
    "    \n",
    "    # Or you can get the specific number of comments\n",
    "    # comments2 = submission.comments.list()[:2]\n",
    "    \n",
    "    # Iterate through all the comments and print their body text\n",
    "    for comment in submission.comments.list()[:2]:\n",
    "        print('Comment:', comment.body)\n",
    "        print('-----------------------------------------------------------------')"
   ]
  },
  {
   "cell_type": "markdown",
   "metadata": {
    "id": "JvYEOesKKcl2"
   },
   "source": [
    "Referring to the API documentation, explore the submissions object and print some interesting data:"
   ]
  },
  {
   "cell_type": "code",
   "execution_count": 15,
   "metadata": {
    "collapsed": true,
    "id": "glEShYZbKcl3",
    "jupyter": {
     "outputs_hidden": true
    },
    "tags": []
   },
   "outputs": [
    {
     "name": "stdout",
     "output_type": "stream",
     "text": [
      "Submission Title: How to activate multiple devices with differing Mac addresses in one python code?\n",
      "Submission Author: Relevant-Arachnid402\n",
      "Submission Score: 2\n",
      "Number of Comments: 1\n",
      "URL: https://www.reddit.com/r/learnpython/comments/16tplnv/how_to_activate_multiple_devices_with_differing/\n",
      "Self Text:\n",
      " I am trying to make a code more efficient by making python code activate multiple devices at once. Currently, this code is being used to run 5 of the same devices, same instructions, but the script is being run separately for each device. The code starts out with system\\_init() and is connected to a Mac address, but I wanted to know if it was possible to define the system\\_init() function with these devices and their Mac addresses to run them all simultaneously? This code is currently being run in Fenics dolfin. I am unsure how the devices are connected to the computer system, I am pretty sure it is by some physical port and not bluetooth. An example of the code I am envisioning looks something like this:\n",
      "\n",
      "&#x200B;\n",
      "\n",
      "def system\\_init():  \n",
      "\\# Define a list of device configurations including device names and MAC addresses  \n",
      "device\\_configs = \\[  \n",
      "{'device\\_name': 'Device1', 'mac\\_address': '00:11:22:33:44:55'},  \n",
      "{'device\\_name': 'Device2', 'mac\\_address': '11:22:33:44:55:66'},  \n",
      "\\# Add more devices with their respective MAC addresses  \n",
      "\\]  \n",
      "\\# Initialize devices with their known MAC addresses  \n",
      "for config in device\\_configs:  \n",
      "device\\_name = config\\['device\\_name'\\]  \n",
      "mac\\_address = config\\['mac\\_address'\\]  \n",
      "  \n",
      "\\# Configure the device with its known MAC address  \n",
      "configure\\_device\\_mac(device\\_name, mac\\_address)  \n",
      "def configure\\_device\\_mac(device\\_name, mac\\_address):  \n",
      "\\# Use platform-specific code to configure the network interface  \n",
      "\\# with the known MAC address for the specified device  \n",
      "\\# The exact implementation will depend on the platform and programming language used  \n",
      "\\# Call the initialization routine to set up devices with known MAC addresses  \n",
      "system\\_init()\n",
      "\n",
      "&#x200B;\n",
      "\n",
      "The spot where I am a little confused lies in the \"def configure\\_device\\_mac(device\\_name, mac\\_address): # Use platform-specific code to configure the network interface # with the known MAC address for the specified device # The exact implementation will depend on the platform and programming language used\" piece of this proposed code. What lines of code do I need to add after this def function?  \n",
      "After this first function is coded, the rest of the script goes into defining some variables and then def main()  \n",
      "Does this proposal seem like it could work? The Mac addresses of each device that will be run are readily available to me. Will I need to identify how the systems are connected to the computer? If so, how can I tell what kind of connection it is and what code to add? Thanks.  \n",
      "This is just a proposed code, I have not tested it yet.  \n",
      "\n",
      "-------------------------------------------------------------\n",
      "Submission Title: FastAPI and SwiftUI\n",
      "Submission Author: Regular-Hospital-281\n",
      "Submission Score: 2\n",
      "Number of Comments: 0\n",
      "URL: https://www.reddit.com/r/learnpython/comments/16tpl7g/fastapi_and_swiftui/\n",
      "Self Text:\n",
      " i'm new to FastAPI, as a learning process i'm trying to implement the full-stack development of an app using FastAPI for the backend and APIs and SwiftUI for the front-end.  \n",
      "What should i expect while learning and using FastAPI in production and when the project gets bigger, or what should i expect in my situation?  \n",
      "\n",
      "-------------------------------------------------------------\n",
      "Submission Title: Get elements of list in the form (i, j, k) separately, divided by comma\n",
      "Submission Author: Char-car92\n",
      "Submission Score: 2\n",
      "Number of Comments: 1\n",
      "URL: https://www.reddit.com/r/learnpython/comments/16tpjmx/get_elements_of_list_in_the_form_i_j_k_separately/\n",
      "Self Text:\n",
      " So I am taking user input in the form of a string that looks like this:\n",
      "\n",
      "i, j, k\n",
      "\n",
      "And I want to turn it into three different float values, automatically getting the values up to but not including each comma as separate values, like so:\n",
      "\n",
      "float1 = i\n",
      "\n",
      "float2 = j\n",
      "\n",
      "float3 = k\n",
      "\n",
      "So for example, it would do this:\n",
      "\n",
      "userInput = 2.15, 6, 8.334\n",
      "\n",
      "float1 = 2.15\n",
      "\n",
      "float2 = 6\n",
      "\n",
      "float3 = 8.334\n",
      "\n",
      "Where userInput is a string and the floats are float values.\n",
      "\n",
      "**Thanks in advance!**\n",
      "-------------------------------------------------------------\n",
      "Submission Title: I cannot import my module.\n",
      "Submission Author: That_guy3475\n",
      "Submission Score: 2\n",
      "Number of Comments: 2\n",
      "URL: https://www.reddit.com/r/learnpython/comments/16tphd0/i_cannot_import_my_module/\n",
      "Self Text:\n",
      " I’m currently working and a project that requires me to create a module. I cannot import my module, and it says there is no module of that name. I’m looking directly at my module browser, and it contains said module. Any hep will be greatly appreciated.\n",
      "-------------------------------------------------------------\n",
      "Submission Title: Best paid courses for Python?\n",
      "Submission Author: Formal-Sale-9818\n",
      "Submission Score: 2\n",
      "Number of Comments: 0\n",
      "URL: https://www.reddit.com/r/learnpython/comments/16tp08x/best_paid_courses_for_python/\n",
      "Self Text:\n",
      " Hello!\n",
      "\n",
      "I am in IT but new to programming and want to learn Python. My employer offers up to $1500 for tuition reimbursement. Catch is that is needs to be from a College/University, so Udemy, Linux Academy etc. won't help. I'm aware there are various free courses for Python, but I want to make use of paid courses since there is employer support.\n",
      "\n",
      "I tried looking into some colleges nearby, and many are self-paced with no live lectures. My criteria is to have live lectures. Even better, if there is any certification offered at the end of course completion and projects/assignments. Willing to pay out of pocket also (\\~$1000) if there is a good paid python course. (Employer + Out of pocket = \\~ $3k maximum).\n",
      "\n",
      "Came across this 10-week Python program from Carnegie Mellon which appears to be good.\n",
      "\n",
      "[https://execonline.cs.cmu.edu/programming-python?utm\\_source=Google&utm\\_network=g&utm\\_medium=c&utm\\_term=carnegie%20mellon%20python%20course&utm\\_location=9021653&utm\\_campaign=B-365D\\_WW\\_GG\\_SE\\_PRPY\\_Brand&utm\\_content=PRPY\\_Brand&gad=1&gclid=Cj0KCQjwpc-oBhCGARIsAH6ote9Vx7qRzo8evSdM26ZOJveyW0cEtpMQadGlSvm9Brl9yrFJzs0ujp4aAgPBEALw\\_wcB](https://execonline.cs.cmu.edu/programming-python?utm_source=Google&utm_network=g&utm_medium=c&utm_term=carnegie%20mellon%20python%20course&utm_location=9021653&utm_campaign=B-365D_WW_GG_SE_PRPY_Brand&utm_content=PRPY_Brand&gad=1&gclid=Cj0KCQjwpc-oBhCGARIsAH6ote9Vx7qRzo8evSdM26ZOJveyW0cEtpMQadGlSvm9Brl9yrFJzs0ujp4aAgPBEALw_wcB)\n",
      "\n",
      "Any suggestions if above course is good or recommendations for similar courses from other colleges/universities?\n",
      "\n",
      "Thanks!\n",
      "-------------------------------------------------------------\n"
     ]
    }
   ],
   "source": [
    "# Fetch a list of the latest submissions from a specific subreddit\n",
    "submissions = reddit.subreddit('learnpython').new(limit=5)  # Limiting to the latest 5 submissions\n",
    "\n",
    "# Iterate through the submissions and print interesting data\n",
    "for submission in submissions:\n",
    "    print(\"Submission Title:\", submission.title)  # Print the title of the submission\n",
    "    print(\"Submission Author:\", submission.author)  # Print the author of the submission\n",
    "    print(\"Submission Score:\", submission.score)  # Print the submission score (upvotes - downvotes)\n",
    "    print(\"Number of Comments:\", submission.num_comments)  # Print the number of comments on the submission\n",
    "    print(\"URL:\", submission.url)  # Print the URL of the submission if it's a link\n",
    "    print(\"Self Text:\\n\", submission.selftext)  # Print the self text of the submission if it's a text post\n",
    "    print(\"-------------------------------------------------------------\")"
   ]
  },
  {
   "cell_type": "markdown",
   "metadata": {
    "id": "Khno5kpWKcl5"
   },
   "source": [
    "#### Posting to Reddit"
   ]
  },
  {
   "cell_type": "markdown",
   "metadata": {
    "id": "zjnyN1OfKcl6"
   },
   "source": [
    "To be able to post to your Reddit account (i.e. contribute submissions), you need to connect to the API with read/write privilege. This requires an *authorised instance*, which is obtained by including your Reddit user name and password in the connection request: "
   ]
  },
  {
   "cell_type": "code",
   "execution_count": 16,
   "metadata": {
    "colab": {
     "base_uri": "https://localhost:8080/"
    },
    "executionInfo": {
     "elapsed": 12,
     "status": "ok",
     "timestamp": 1685521718870,
     "user": {
      "displayName": "Maheshkumar Paik",
      "userId": "02349378107593826691"
     },
     "user_tz": -480
    },
    "id": "ZXG7kouZKcl7",
    "outputId": "5afb108d-aab6-4bb9-af3e-8329d75b1c72"
   },
   "outputs": [
    {
     "name": "stdout",
     "output_type": "stream",
     "text": [
      "False\n"
     ]
    }
   ],
   "source": [
    "reddit = praw.Reddit(client_id='my client id',\n",
    "                     client_secret='my client secret',\n",
    "                     user_agent='my user agent',\n",
    "                     username='my username',\n",
    "                     password='my password')\n",
    "print(reddit.read_only)  # Output: False"
   ]
  },
  {
   "cell_type": "markdown",
   "metadata": {
    "id": "nEjrsF9vKcl-"
   },
   "source": [
    "You could hide these last two credentials by adding them to your JSON file and then reading all five values at once."
   ]
  },
  {
   "cell_type": "code",
   "execution_count": null,
   "metadata": {
    "id": "BVcbR0K1Kcl_"
   },
   "outputs": [],
   "source": [
    "path_auth = 'auth_reddit.json'\n",
    "auth = json.loads(open(path_auth).read())\n",
    "pp = pprint.PrettyPrinter(indent=4)\n",
    "\n",
    "pp.pprint(auth)"
   ]
  },
  {
   "cell_type": "code",
   "execution_count": 18,
   "metadata": {},
   "outputs": [],
   "source": [
    "my_user_agent = auth['my_user_agent']\n",
    "my_client_id = auth['my_client_id']\n",
    "my_client_secret = auth['my_client_secret']\n",
    "my_username = auth['my_username']\n",
    "my_password = auth['my_password']"
   ]
  },
  {
   "cell_type": "code",
   "execution_count": 19,
   "metadata": {
    "id": "WqBG4xS5Kk3X"
   },
   "outputs": [
    {
     "name": "stdout",
     "output_type": "stream",
     "text": [
      "Read-only = False\n"
     ]
    }
   ],
   "source": [
    "reddit = praw.Reddit(client_id='my_client_id',\n",
    "                     client_secret='my_client_secret',\n",
    "                     user_agent='my_user_agent',\n",
    "                     username='my_username',\n",
    "                     password='my_password')\n",
    "\n",
    "print('Read-only = ' + str(reddit.read_only))  # Output: False"
   ]
  },
  {
   "cell_type": "markdown",
   "metadata": {
    "id": "5Uo-KnYhKoRA"
   },
   "source": [
    "\n",
    "\n",
    "---\n",
    "\n",
    "\n",
    "\n",
    "---\n",
    "\n",
    "\n",
    "\n",
    "> > > > > > > > > © 2023 Institute of Data\n",
    "\n",
    "\n",
    "---\n",
    "\n",
    "\n",
    "\n",
    "---\n",
    "\n",
    "\n",
    "\n"
   ]
  }
 ],
 "metadata": {
  "colab": {
   "provenance": []
  },
  "kernelspec": {
   "display_name": "Python 3 (ipykernel)",
   "language": "python",
   "name": "python3"
  },
  "language_info": {
   "codemirror_mode": {
    "name": "ipython",
    "version": 3
   },
   "file_extension": ".py",
   "mimetype": "text/x-python",
   "name": "python",
   "nbconvert_exporter": "python",
   "pygments_lexer": "ipython3",
   "version": "3.10.9"
  }
 },
 "nbformat": 4,
 "nbformat_minor": 4
}
