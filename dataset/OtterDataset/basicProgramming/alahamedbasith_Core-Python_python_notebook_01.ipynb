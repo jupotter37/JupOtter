{
 "cells": [
  {
   "cell_type": "markdown",
   "id": "b2deecfd",
   "metadata": {},
   "source": [
    "# 1.Introduction to Python Programming\n",
    "\n",
    "Python is an interpreted, object-oriented, high-level programming language that can be used for a wide variety of applications. It was first developed in the late 1980s by Guido van Rossum, who named it after the BBC Comedy TV series Monty Python’s Flying Circus. Python is open-source and has gained popularity due to its simplicity and versatility.\n",
    "\n",
    "## Founder of Python\n",
    "Guido van Rossum\n",
    "\n",
    "## Advantages of Python Programming\n",
    "\n",
    "- **Easy to Learn and Use**: Python's syntax is designed to be readable and straightforward, making it accessible for beginners.\n",
    "- **Rich Library Ecosystem**: Python boasts a large number of libraries that cover various domains, allowing developers to leverage existing code for their projects.\n",
    "- **High-Level Language**: Python abstracts away low-level details, enabling developers to focus on solving problems rather than managing memory or system resources.\n",
    "- **Active Community**: Python has a vast and active community of developers who contribute to its growth, provide support, and share resources.\n",
    "- **Object-Oriented**: Python supports object-oriented programming paradigms, facilitating code organization and reusability.\n",
    "- **Cross-Platform Compatibility**: Python code can run on different operating systems without modification, enhancing its portability.\n",
    "\n",
    "## Organizations Using Python\n",
    "\n",
    "- Google\n",
    "- Microsoft\n",
    "- Facebook\n",
    "- Mozilla\n",
    "- Cisco\n",
    "- Quora\n",
    "- YouTube\n",
    "- and many more...\n",
    "\n",
    "## Python-Based Jobs\n",
    "\n",
    "Python is widely used across various industries and domains for:\n",
    "- Data Science\n",
    "- Data Analysis\n",
    "- Artificial Intelligence\n",
    "- Automation\n",
    "- Web Application Development\n",
    "- Desktop Application Development\n",
    "- Ethical Hacking\n",
    "\n",
    "## High-Level Languages\n",
    "\n",
    "High-level languages like Python are designed to be closer to human language, making programming more intuitive. However, they require translation into machine code before execution. This translation process is performed by either a compiler or an interpreter.\n",
    "\n",
    "### Machine Code\n",
    "\n",
    "Machine languages are specific to each computer architecture and consist of binary patterns that directly control hardware operations.\n",
    "\n",
    "### Compiler\n",
    "\n",
    "A compiler translates the entire source code into machine code or an intermediate representation. It reports errors after the entire code is processed and needs not be present during program execution.\n",
    "\n",
    "### Interpreter\n",
    "\n",
    "An interpreter translates the source code line-by-line during runtime, executing it immediately. It reports errors as soon as they occur and needs to be present in memory during program execution.\n",
    "\n",
    "### Installation\n",
    "\n",
    "There is number of IDE's available in online like pycharm etc.In this course I used jupyter notebook for anaconda distribution\n"
   ]
  },
  {
   "cell_type": "markdown",
   "id": "18eaad1e",
   "metadata": {},
   "source": [
    "# 2.Interactive Mode and Script Mode"
   ]
  },
  {
   "cell_type": "markdown",
   "id": "5b9051b2",
   "metadata": {},
   "source": [
    "### Interactive Mode:\n",
    "\n",
    "- In interactive mode, you interact with the Python interpreter directly.\n",
    "- You can type commands and expressions directly into the interpreter, and it will execute them immediately.\n",
    "- This mode is useful for testing small snippets of code, experimenting with language features, or exploring the behavior of functions and modules.\n",
    "- Interactive mode is initiated by simply typing `python` or `python3` in the command line without specifying a script file.\n",
    "\n",
    "Example:\n",
    "```python\n",
    "$ python\n",
    "Python 3.9.7 (default, Sep 16 2021, 16:59:04)\n",
    ">>> x = 5\n",
    ">>> x * 2\n",
    "10\n",
    ">>> print(\"Hello, World!\")\n",
    "Hello, World!\n"
   ]
  },
  {
   "cell_type": "markdown",
   "id": "99773328",
   "metadata": {},
   "source": [
    "### Script Mode:\n",
    "\n",
    "- In script mode, you write your Python code in a file (commonly with a `.py` extension) and execute it using the Python interpreter.\n",
    "- You can create complex programs with multiple functions and classes in script mode.\n",
    "- Script mode is suitable for developing larger applications, organizing code into modules, and building reusable components.\n",
    "- Script mode is initiated by executing a Python file using the `python` command followed by the filename.\n",
    "\n",
    "Example (script file: `hello.py`):\n",
    "```python\n",
    "# hello.py\n",
    "print(\"Hello, World!\")\n"
   ]
  },
  {
   "cell_type": "markdown",
   "id": "59a9acfa",
   "metadata": {},
   "source": [
    "# 3.Keywords and Variables in Python"
   ]
  },
  {
   "cell_type": "markdown",
   "id": "c79f2db5",
   "metadata": {},
   "source": [
    "### Keywords in Python:\n",
    "\n",
    "Python programming language has a set of reserved words that have special meanings and cannot be used as identifiers (e.g., variable names, function names). These words are known as keywords. Here is a list of keywords in Python:\n",
    "\n",
    "- **and**: Logical operator for conjunction.\n",
    "- **as**: Used for aliasing imports or defining context managers.\n",
    "- **assert**: Used for debugging purposes to check whether a condition is True.\n",
    "- **break**: Used to exit from a loop prematurely.\n",
    "- **class**: Used to define a new class.\n",
    "- **continue**: Skips the rest of the loop's code and starts the next iteration.\n",
    "- **def**: Used to define a new function.\n",
    "- **del**: Deletes an object or an item in a list or dictionary.\n",
    "- **elif**: Stands for \"else if\" and is used in conditional statements.\n",
    "- **else**: Specifies a block of code to be executed if the condition in the preceding if statement is false.\n",
    "- **except**: Used in exception handling to catch and handle exceptions.\n",
    "- **False**: Boolean value representing false.\n",
    "- **finally**: Used in exception handling to specify a block of code to be executed regardless of whether an exception occurred.\n",
    "- **for**: Used to iterate over a sequence (e.g., list, tuple, string).\n",
    "- **from**: Used for importing specific attributes or functions from a module.\n",
    "- **global**: Declares a global variable within a function.\n",
    "- **if**: Used to conditionally execute a block of code.\n",
    "- **import**: Used to import modules or packages.\n",
    "- **in**: Used to check if a value is present in a sequence.\n",
    "- **is**: Used for identity testing (checks if two objects refer to the same memory location).\n",
    "- **lambda**: Used to create anonymous functions.\n",
    "- **None**: Represents a null value or absence of value.\n",
    "- **nonlocal**: Declares a variable as non-local in nested function scopes.\n",
    "- **not**: Logical operator for negation.\n",
    "- **or**: Logical operator for disjunction.\n",
    "- **pass**: Placeholder that does nothing. Used when a statement is syntactically required but no action is needed.\n",
    "- **raise**: Used to raise exceptions.\n",
    "- **return**: Used to exit a function and return a value.\n",
    "- **True**: Boolean value representing true.\n",
    "- **try**: Starts a block of code for exception handling.\n",
    "- **while**: Used to create a loop that executes as long as a specified condition is true.\n",
    "- **with**: Used to define a context manager.\n",
    "- **yield**: Used in generator functions to produce a series of values.\n",
    "\n",
    "These keywords are part of the Python language specification and have predefined meanings. Attempting to use them as identifiers will result in a syntax error.\n"
   ]
  },
  {
   "cell_type": "code",
   "execution_count": 2,
   "id": "bfb6c1a7",
   "metadata": {},
   "outputs": [
    {
     "name": "stdout",
     "output_type": "stream",
     "text": [
      "['False', 'None', 'True', 'and', 'as', 'assert', 'async', 'await', 'break', 'class', 'continue', 'def', 'del', 'elif', 'else', 'except', 'finally', 'for', 'from', 'global', 'if', 'import', 'in', 'is', 'lambda', 'nonlocal', 'not', 'or', 'pass', 'raise', 'return', 'try', 'while', 'with', 'yield']\n",
      "Total keywords Count: 35\n"
     ]
    }
   ],
   "source": [
    "# To view all keywords in output\n",
    "import keyword as key\n",
    "print(key.kwlist)\n",
    "print(\"Total keywords Count:\",len(key.kwlist))"
   ]
  },
  {
   "cell_type": "markdown",
   "id": "3ee00b1f",
   "metadata": {},
   "source": [
    "### Variables in Python:\n",
    "\n",
    "In Python, variables are used to store data values. Unlike many other programming languages, Python variables do not require explicit declaration to reserve memory space. The declaration happens automatically when a value is assigned to a variable. Here are some key points about variables in Python:\n",
    "\n",
    "- **Variable Naming Rules**:\n",
    "  - Variable names can contain letters (a-z, A-Z), digits (0-9), and underscores (_).\n",
    "  - They must begin with a letter or an underscore.\n",
    "  - Variable names are case-sensitive (`age`, `Age`, and `AGE` are different variables).\n",
    "  - Python keywords cannot be used as variable names.\n",
    "  - Variable names should be descriptive and meaningful to enhance code readability.\n",
    "\n",
    "- **Variable Assignment**:\n",
    "  - Variables are assigned using the `=` operator.\n",
    "  - The value on the right side is assigned to the variable on the left side.\n",
    "  - Variables can hold different types of data, including numbers, strings, lists, tuples, dictionaries, and more.\n",
    "  \n",
    "\n",
    "- **Example of Variable Assignment**:\n",
    "\n",
    "```python\n",
    "x = 5            # Integer assignment\n",
    "name = \"John\"    # String assignment\n",
    "is_student = True   # Boolean assignment\n",
    "my_list = [1, 2, 3]   # List assignment\n"
   ]
  },
  {
   "cell_type": "markdown",
   "id": "a844b81b",
   "metadata": {},
   "source": [
    "# 4.Single Line and Multiple Line Comments in Python:\n",
    "\n",
    "#### Single Line Statements:\n",
    "\n",
    "Single-line comments begin with the hash character (#) and continue until the end of the line. They are used to add short explanations or notes to a single line of code.\n",
    "\n",
    "#### Multiple Line Statements:\n",
    "\n",
    "While Python does not have built-in syntax for multi-line comments like some other programming languages, you can use multi-line strings (also known as docstrings) to achieve a similar effect. However, these are not true comments and will be treated as strings by Python.\n",
    "\n",
    "```python\n",
    "\n",
    "# Single Line Comments:\n",
    "\n",
    "x = 5  # Assignment statement\n",
    "print(\"Hello, World!\")  # Print statement\n",
    "result = a + b  # Arithmetic operation\n",
    "\n",
    "# Multiple Line Comments:\n",
    "\n",
    "''' \n",
    "Python is a programming language\n",
    "Python is easy to use\n",
    "Python is the Object Oriented Programming\n",
    "\n",
    "'''\n"
   ]
  },
  {
   "cell_type": "code",
   "execution_count": 3,
   "id": "47d292a6",
   "metadata": {},
   "outputs": [
    {
     "data": {
      "text/plain": [
       "' \\nPython is a programming language\\nPython is easy to use\\nPython is the Object Oriented Programming\\n\\n'"
      ]
     },
     "execution_count": 3,
     "metadata": {},
     "output_type": "execute_result"
    }
   ],
   "source": [
    "''' \n",
    "Python is a programming language\n",
    "Python is easy to use\n",
    "Python is the Object Oriented Programming\n",
    "\n",
    "'''"
   ]
  },
  {
   "cell_type": "markdown",
   "id": "a6ccbafe",
   "metadata": {},
   "source": [
    "# 5.Input Function in Python"
   ]
  },
  {
   "cell_type": "markdown",
   "id": "3cfe0a5d",
   "metadata": {},
   "source": [
    "To get input from the user in Python, you can use the `input()` function. Here's a basic example:\n",
    "\n",
    "```python\n",
    "# Get input from the user\n",
    "name = input(\"Enter your name: \")\n",
    "\n",
    "# Print the input\n",
    "print(\"Hello,\", name)\n"
   ]
  },
  {
   "cell_type": "code",
   "execution_count": 4,
   "id": "b9a4e16a",
   "metadata": {},
   "outputs": [
    {
     "name": "stdout",
     "output_type": "stream",
     "text": [
      "Enter your name:Ahamed\n",
      "Enter your age:22\n",
      "Welcome Ahamed! Your age is 22\n"
     ]
    }
   ],
   "source": [
    "name = input(\"Enter your name:\")\n",
    "age = int(input(\"Enter your age:\")) # Change string to integer (Type Casting)\n",
    "\n",
    "print(\"Welcome {}! Your age is {}\".format(name, age))"
   ]
  },
  {
   "cell_type": "code",
   "execution_count": 5,
   "id": "a50fbdb7",
   "metadata": {},
   "outputs": [
    {
     "name": "stdout",
     "output_type": "stream",
     "text": [
      "Enter your name:\n",
      "Enter your age:\n",
      "Error: invalid literal for int() with base 10: ''\n"
     ]
    }
   ],
   "source": [
    "# Suppose user skips the details,We need to implement exception handling\n",
    "try:\n",
    "    name = input(\"Enter your name:\")\n",
    "    age = int(input(\"Enter your age:\"))  # Change string to integer (Type Casting)\n",
    "\n",
    "    print(\"Welcome {}! Your age is {}\".format(name, age))\n",
    "except ValueError as e:\n",
    "    print(\"Error:\", e)"
   ]
  },
  {
   "cell_type": "code",
   "execution_count": 6,
   "id": "71f27403",
   "metadata": {},
   "outputs": [
    {
     "name": "stdout",
     "output_type": "stream",
     "text": [
      "Enter your first name:Ahamed\n",
      "Enter your last name:Basith\n",
      "Welcome Ahamed Basith!\n"
     ]
    }
   ],
   "source": [
    "# Another Example\n",
    "# Suppose user skips the details,We need to implement exception handling\n",
    "try:\n",
    "    fname = input(\"Enter your first name:\")\n",
    "    lname = input(\"Enter your last name:\") \n",
    "\n",
    "    print(\"Welcome {} {}!\".format(fname, lname))\n",
    "    if fname == \"\" or lname == \"\":\n",
    "        raise ValueError(\"Custom Error: Enter the value properly\")  # Raise an exception manually\n",
    "except ValueError as e:\n",
    "    print(\"Error:\", e)\n"
   ]
  },
  {
   "cell_type": "markdown",
   "id": "32d1dd91",
   "metadata": {},
   "source": [
    "# 6.Type Casting in Python\n",
    "\n",
    "In Python, type casting refers to the process of converting one data type into another. This is often necessary when you want to perform operations that require compatible data types or when you need to enforce a specific data type for a variable. Python provides several built-in functions for type casting:\n",
    "\n",
    "1. **int()**: Converts a value to an integer.\n",
    "2. **float()**: Converts a value to a floating-point number.\n",
    "3. **str()**: Converts a value to a string.\n",
    "4. **bool()**: Converts a value to a boolean."
   ]
  },
  {
   "cell_type": "code",
   "execution_count": 7,
   "id": "e600e2d6",
   "metadata": {},
   "outputs": [
    {
     "name": "stdout",
     "output_type": "stream",
     "text": [
      "Integer to float: 10.0\n",
      "<class 'float'>\n",
      "Float to integer: 3\n",
      "<class 'int'>\n",
      "String to integer: 25\n",
      "<class 'int'>\n",
      "Boolean to integer: 1\n",
      "<class 'int'>\n",
      "Integer to string: 42\n",
      "<class 'str'>\n",
      "Float to string: 3.14\n",
      "<class 'str'>\n"
     ]
    }
   ],
   "source": [
    "# Integer to float\n",
    "int_num = 10\n",
    "float_num = float(int_num)\n",
    "print(\"Integer to float:\", float_num)\n",
    "print(type(float_num))\n",
    "\n",
    "# Float to integer\n",
    "float_num = 3.14\n",
    "int_num = int(float_num)\n",
    "print(\"Float to integer:\", int_num)\n",
    "print(type(int_num))\n",
    "\n",
    "\n",
    "# String to integer\n",
    "str_num = \"25\"\n",
    "int_num = int(str_num)\n",
    "print(\"String to integer:\", int_num)\n",
    "print(type(int_num))\n",
    "\n",
    "\n",
    "# Boolean to integer\n",
    "bool_val = True\n",
    "int_val = int(bool_val)\n",
    "print(\"Boolean to integer:\", int_val)\n",
    "print(type(int_val))\n",
    "\n",
    "\n",
    "# Integer to string\n",
    "int_num = 42\n",
    "str_num = str(int_num)\n",
    "print(\"Integer to string:\", str_num)\n",
    "print(type(str_num))\n",
    "\n",
    "\n",
    "# Float to string\n",
    "float_num = 3.14\n",
    "str_num = str(float_num)\n",
    "print(\"Float to string:\", str_num)\n",
    "print(type(str_num))\n"
   ]
  },
  {
   "cell_type": "markdown",
   "id": "2372d6a8",
   "metadata": {},
   "source": [
    "# 7.Strings and String Functions in Python\n",
    "\n",
    "In Python, a string is a sequence of characters enclosed within either single quotes (`'`) or double quotes (`\"`). Strings are immutable, meaning their contents cannot be changed after they are created. Python provides a rich set of built-in functions and methods for working with strings.\n",
    "\n",
    "## Creating Strings\n",
    "\n",
    "Strings can be created using either single quotes or double quotes:\n",
    "\n",
    "```python\n",
    "single_quoted_string = 'Hello, world!'\n",
    "double_quoted_string = \"Hello, world!\""
   ]
  },
  {
   "cell_type": "markdown",
   "id": "eb706d93",
   "metadata": {},
   "source": [
    "## String Functions and Methods\n",
    "\n",
    "Python provides various built-in functions and methods for performing operations on strings:\n",
    "\n",
    "## Built-in Functions\n",
    "\n",
    "- **len()**: Returns the length of the string.\n",
    "- **str()**: Converts the specified value into a string.\n",
    "\n",
    "## String Methods\n",
    "\n",
    "- **capitalize()**: Converts the first character of the string to uppercase.\n",
    "- **casefold()**: Converts the string to lowercase.\n",
    "- **center(width[, fillchar])**: Returns a centered string of specified width.\n",
    "- **count(sub[, start[, end]])**: Returns the number of occurrences of a substring in the string.\n",
    "- **encode([encoding[, errors]])**: Returns an encoded version of the string.\n",
    "- **endswith(suffix[, start[, end]])**: Checks if the string ends with a specified suffix.\n",
    "- **expandtabs([tabsize])**: Sets the tab size of the string.\n",
    "- **find(sub[, start[, end]])**: Returns the lowest index of the substring if found in the string.\n",
    "- **format (args, kwargs)**: Formats the string using the specified arguments.\n",
    "- **format_map(mapping)**: Formats the string using a mapping object.\n",
    "- **index(sub[, start[, end]])**: Returns the lowest index of the substring if found in the string, otherwise raises an exception.\n",
    "- **isalnum()**: Checks if all characters in the string are alphanumeric.\n",
    "- **isalpha()**: Checks if all characters in the string are alphabetic.\n",
    "- **isascii()**: Checks if the string contains only ASCII characters.\n",
    "- **isdecimal()**: Checks if all characters in the string are decimals.\n",
    "- **isdigit()**: Checks if all characters in the string are digits.\n",
    "- **isidentifier()**: Checks if the string is a valid identifier.\n",
    "- **islower()**: Checks if all characters in the string are lowercase.\n",
    "- **isnumeric()**: Checks if all characters in the string are numeric.\n",
    "- **isprintable()**: Checks if all characters in the string are printable.\n",
    "- **isspace()**: Checks if all characters in the string are whitespaces.\n",
    "- **istitle()**: Checks if the string follows the rules of a title.\n",
    "- **isupper()**: Checks if all characters in the string are uppercase.\n",
    "- **join(iterable)**: Joins the elements of an iterable with the string as a separator.\n",
    "- **ljust(width[, fillchar])**: Returns a left-justified string of specified width.\n",
    "- **lower()**: Converts all characters in the string to lowercase.\n",
    "- **lstrip([chars])**: Removes leading characters from the string.\n",
    "- **maketrans(x[, y[, z]])**: Returns a translation table to be used in translations.\n",
    "- **partition(sep)**: Searches for the specified separator and returns a tuple containing the part before the separator, the separator itself, and the part after the separator.\n",
    "- **replace(old, new[, count])**: Replaces occurrences of a substring with another substring.\n",
    "- **rfind(sub[, start[, end]])**: Returns the highest index of the substring if found in the string.\n",
    "- **rindex(sub[, start[, end]])**: Returns the highest index of the substring if found in the string, otherwise raises an exception.\n",
    "- **rjust(width[, fillchar])**: Returns a right-justified string of specified width.\n",
    "- **rpartition(sep)**: Searches for the last occurrence of the specified separator and returns a tuple containing the part before the separator, the separator itself, and the part after the separator.\n",
    "- **rsplit([sep[, maxsplit]])**: Splits the string from the right at the specified separator and returns a list of strings.\n",
    "- **rstrip([chars])**: Removes trailing characters from the string.\n",
    "- **split([sep[, maxsplit]])**: Splits the string at the specified separator and returns a list of strings.\n",
    "- **splitlines([keepends])**: Splits the string at line breaks and returns a list of lines.\n",
    "- **startswith(prefix[, start[, end]])**: Checks if the string starts with a specified prefix.\n",
    "- **strip([chars])**: Removes leading and trailing characters from the string.\n",
    "- **swapcase()**: Swaps the case of the string.\n",
    "- **title()**: Converts the first character of each word to uppercase.\n",
    "- **translate(table)**: Returns a copy of the string in which each character has been mapped through the given translation table.\n",
    "- **upper()**: Converts all characters in the string to uppercase.\n",
    "- **zfill(width)**: Returns a copy of the string padded with zeros to make it a specified width.\n"
   ]
  },
  {
   "cell_type": "code",
   "execution_count": 8,
   "id": "58542bd1",
   "metadata": {},
   "outputs": [],
   "source": [
    "sample_string = \"hello, world!\""
   ]
  },
  {
   "cell_type": "code",
   "execution_count": 9,
   "id": "d3068904",
   "metadata": {},
   "outputs": [
    {
     "name": "stdout",
     "output_type": "stream",
     "text": [
      "Hello, world!\n"
     ]
    }
   ],
   "source": [
    "# capitalize(): Converts the first character of the string to uppercase\n",
    "print(sample_string.capitalize())  # Output: \"Hello, world!\""
   ]
  },
  {
   "cell_type": "code",
   "execution_count": 10,
   "id": "d47ea2a2",
   "metadata": {},
   "outputs": [
    {
     "name": "stdout",
     "output_type": "stream",
     "text": [
      "hello, world!\n"
     ]
    }
   ],
   "source": [
    "# casefold(): Converts the string to lowercase\n",
    "print(sample_string.casefold())  # Output: \"hello, world!\""
   ]
  },
  {
   "cell_type": "code",
   "execution_count": 11,
   "id": "8ae71fae",
   "metadata": {},
   "outputs": [
    {
     "name": "stdout",
     "output_type": "stream",
     "text": [
      "******************hello, world!*******************\n"
     ]
    }
   ],
   "source": [
    "# center(width[, fillchar]): Returns a centered string of specified width\n",
    "print(sample_string.center(50,'*'))  # Output: \"***hello, world!***\""
   ]
  },
  {
   "cell_type": "code",
   "execution_count": 12,
   "id": "c5610e1a",
   "metadata": {},
   "outputs": [
    {
     "name": "stdout",
     "output_type": "stream",
     "text": [
      "3\n"
     ]
    }
   ],
   "source": [
    "# count(sub[, start[, end]]): Returns the number of occurrences of a substring in the string\n",
    "print(sample_string.count('l'))  # Output: 3"
   ]
  },
  {
   "cell_type": "code",
   "execution_count": 13,
   "id": "a3fcbfc0",
   "metadata": {},
   "outputs": [
    {
     "name": "stdout",
     "output_type": "stream",
     "text": [
      "b'hello, world!'\n"
     ]
    }
   ],
   "source": [
    "# encode([encoding[, errors]]): Returns an encoded version of the string\n",
    "print(sample_string.encode())  # Output: b'hello, world!'"
   ]
  },
  {
   "cell_type": "code",
   "execution_count": 14,
   "id": "d04630c0",
   "metadata": {},
   "outputs": [
    {
     "name": "stdout",
     "output_type": "stream",
     "text": [
      "True\n"
     ]
    }
   ],
   "source": [
    "# endswith(suffix[, start[, end]]): Checks if the string ends with a specified suffix\n",
    "print(sample_string.endswith('!'))  # Output: True"
   ]
  },
  {
   "cell_type": "code",
   "execution_count": 15,
   "id": "87ff930b",
   "metadata": {},
   "outputs": [
    {
     "name": "stdout",
     "output_type": "stream",
     "text": [
      "hello   world\n"
     ]
    }
   ],
   "source": [
    "# expandtabs([tabsize]): Sets the tab size of the string\n",
    "print('hello\\tworld'.expandtabs(4))  # Output: 'hello   world'"
   ]
  },
  {
   "cell_type": "code",
   "execution_count": 16,
   "id": "89ec6d1a",
   "metadata": {},
   "outputs": [
    {
     "name": "stdout",
     "output_type": "stream",
     "text": [
      "7\n"
     ]
    }
   ],
   "source": [
    "# find(sub[, start[, end]]): Returns the lowest index of the substring if found in the string\n",
    "print(sample_string.find('world'))  # Output: 7"
   ]
  },
  {
   "cell_type": "code",
   "execution_count": 17,
   "id": "70c5cb83",
   "metadata": {},
   "outputs": [
    {
     "name": "stdout",
     "output_type": "stream",
     "text": [
      "The answer is 42\n"
     ]
    }
   ],
   "source": [
    "# format(args,kwargs): Formats the string using the specified arguments\n",
    "print(\"The {} is {}\".format(\"answer\", 42))  # Output: \"The answer is 42\""
   ]
  },
  {
   "cell_type": "code",
   "execution_count": 18,
   "id": "d7b609d3",
   "metadata": {},
   "outputs": [
    {
     "name": "stdout",
     "output_type": "stream",
     "text": [
      "This pizza is delicious\n"
     ]
    }
   ],
   "source": [
    "# format_map(mapping): Formats the string using a mapping object\n",
    "print(\"This {food} is {adjective}\".format_map({\"food\": \"pizza\", \"adjective\": \"delicious\"}))  # Output: \"This pizza is delicious\""
   ]
  },
  {
   "cell_type": "code",
   "execution_count": 19,
   "id": "f87472b0",
   "metadata": {},
   "outputs": [
    {
     "name": "stdout",
     "output_type": "stream",
     "text": [
      "7\n"
     ]
    }
   ],
   "source": [
    "# index(sub[, start[, end]]): Returns the lowest index of the substring if found in the string, otherwise raises an exception\n",
    "print(sample_string.index('world'))  # Output: 7"
   ]
  },
  {
   "cell_type": "code",
   "execution_count": 20,
   "id": "f9960183",
   "metadata": {},
   "outputs": [
    {
     "name": "stdout",
     "output_type": "stream",
     "text": [
      "False\n",
      "False\n",
      "True\n",
      "False\n",
      "False\n",
      "False\n",
      "True\n",
      "False\n",
      "True\n",
      "False\n",
      "False\n",
      "False\n"
     ]
    }
   ],
   "source": [
    "# isalnum(): Checks if all characters in the string are alphanumeric\n",
    "print(sample_string.isalnum())  # Output: False\n",
    "\n",
    "# isalpha(): Checks if all characters in the string are alphabetic\n",
    "print(sample_string.isalpha())  # Output: False\n",
    "\n",
    "# isascii(): Checks if the string contains only ASCII characters\n",
    "print(sample_string.isascii())  # Output: True\n",
    "\n",
    "# isdecimal(): Checks if all characters in the string are decimals\n",
    "print(sample_string.isdecimal())  # Output: False\n",
    "\n",
    "# isdigit(): Checks if all characters in the string are digits\n",
    "print(sample_string.isdigit())  # Output: False\n",
    "\n",
    "# isidentifier(): Checks if the string is a valid identifier\n",
    "print(sample_string.isidentifier())  # Output: False\n",
    "\n",
    "# islower(): Checks if all characters in the string are lowercase\n",
    "print(sample_string.islower())  # Output: True\n",
    "\n",
    "# isnumeric(): Checks if all characters in the string are numeric\n",
    "print(sample_string.isnumeric())  # Output: False\n",
    "\n",
    "# isprintable(): Checks if all characters in the string are printable\n",
    "print(sample_string.isprintable())  # Output: True\n",
    "\n",
    "# isspace(): Checks if all characters in the string are whitespaces\n",
    "print(sample_string.isspace())  # Output: False\n",
    "\n",
    "# istitle(): Checks if the string follows the rules of a title\n",
    "print(sample_string.istitle())  # Output: False\n",
    "\n",
    "# isupper(): Checks if all characters in the string are uppercase\n",
    "print(sample_string.isupper())  # Output: False"
   ]
  },
  {
   "cell_type": "code",
   "execution_count": 21,
   "id": "8115c3e5",
   "metadata": {},
   "outputs": [
    {
     "name": "stdout",
     "output_type": "stream",
     "text": [
      "apple,banana,cherry\n"
     ]
    }
   ],
   "source": [
    "# join(iterable): Joins the elements of an iterable with the string as a separator\n",
    "print(','.join(['apple', 'banana', 'cherry']))  # Output: \"apple,banana,cherry\""
   ]
  },
  {
   "cell_type": "code",
   "execution_count": 22,
   "id": "3d05b579",
   "metadata": {},
   "outputs": [
    {
     "name": "stdout",
     "output_type": "stream",
     "text": [
      "hello, world!***********************************************\n"
     ]
    }
   ],
   "source": [
    "# ljust(width[, fillchar]): Returns a left-justified string of specified width\n",
    "print(sample_string.ljust(60, '*'))  # Output: \"hello, world!*******\""
   ]
  },
  {
   "cell_type": "code",
   "execution_count": 23,
   "id": "bd3a4a62",
   "metadata": {},
   "outputs": [
    {
     "name": "stdout",
     "output_type": "stream",
     "text": [
      "hello, world!\n"
     ]
    }
   ],
   "source": [
    "# lower(): Converts all characters in the string to lowercase\n",
    "print(sample_string.lower())  # Output: \"hello, world!\""
   ]
  },
  {
   "cell_type": "code",
   "execution_count": 24,
   "id": "4e8ada7d",
   "metadata": {},
   "outputs": [
    {
     "name": "stdout",
     "output_type": "stream",
     "text": [
      "llo, world!\n"
     ]
    }
   ],
   "source": [
    "# lstrip([chars]): Removes leading characters from the string\n",
    "print(sample_string.lstrip('he'))  # Output: \"llo, world!\""
   ]
  },
  {
   "cell_type": "code",
   "execution_count": 25,
   "id": "08b624a1",
   "metadata": {},
   "outputs": [
    {
     "name": "stdout",
     "output_type": "stream",
     "text": [
      "hippo, worpd!\n"
     ]
    }
   ],
   "source": [
    "# maketrans(x[, y[, z]]): Returns a translation table to be used in translations\n",
    "translation_table = sample_string.maketrans('el', 'ip')\n",
    "print(sample_string.translate(translation_table))  # Output: \"hippo, worpd!\""
   ]
  },
  {
   "cell_type": "code",
   "execution_count": 26,
   "id": "69c2b4c0",
   "metadata": {},
   "outputs": [
    {
     "name": "stdout",
     "output_type": "stream",
     "text": [
      "('hello', ',', ' world!')\n"
     ]
    }
   ],
   "source": [
    "# partition(sep): Searches for the specified separator and returns a tuple containing the part before the separator, the separator itself, and the part after the separator\n",
    "print(sample_string.partition(','))  # Output: ('hello', ',', ' world!')"
   ]
  },
  {
   "cell_type": "code",
   "execution_count": 27,
   "id": "cba06bf4",
   "metadata": {},
   "outputs": [
    {
     "name": "stdout",
     "output_type": "stream",
     "text": [
      "hello, Python!\n"
     ]
    }
   ],
   "source": [
    "# replace(old, new[, count]): Replaces occurrences of a substring with another substring\n",
    "print(sample_string.replace('world', 'Python'))  # Output: \"hello, Python!\""
   ]
  },
  {
   "cell_type": "code",
   "execution_count": 28,
   "id": "812d5307",
   "metadata": {},
   "outputs": [
    {
     "name": "stdout",
     "output_type": "stream",
     "text": [
      "10\n"
     ]
    }
   ],
   "source": [
    "# rfind(sub[, start[, end]]): Returns the highest index of the substring if found in the string\n",
    "print(sample_string.rfind('l'))  # Output: 10"
   ]
  },
  {
   "cell_type": "code",
   "execution_count": 29,
   "id": "6c00467b",
   "metadata": {},
   "outputs": [
    {
     "name": "stdout",
     "output_type": "stream",
     "text": [
      "10\n"
     ]
    }
   ],
   "source": [
    "# rindex(sub[, start[, end]]): Returns the highest index of the substring if found in the string, otherwise raises an exception\n",
    "print(sample_string.rindex('l'))  # Output: 10"
   ]
  },
  {
   "cell_type": "code",
   "execution_count": 30,
   "id": "c4c97d2f",
   "metadata": {},
   "outputs": [
    {
     "name": "stdout",
     "output_type": "stream",
     "text": [
      "*******hello, world!\n"
     ]
    }
   ],
   "source": [
    "# rjust(width[, fillchar]): Returns a right-justified string of specified width\n",
    "print(sample_string.rjust(20, '*'))  # Output: \"*******hello, world!\""
   ]
  },
  {
   "cell_type": "code",
   "execution_count": 31,
   "id": "4bdc2222",
   "metadata": {},
   "outputs": [
    {
     "name": "stdout",
     "output_type": "stream",
     "text": [
      "('hello', ',', ' world!')\n"
     ]
    }
   ],
   "source": [
    "# rpartition(sep): Searches for the last occurrence of the specified separator and returns a tuple containing the part before the separator, the separator itself, and the part after the separator\n",
    "print(sample_string.rpartition(','))  # Output: ('hello', ',', ' world!')"
   ]
  },
  {
   "cell_type": "code",
   "execution_count": 32,
   "id": "cf793881",
   "metadata": {},
   "outputs": [
    {
     "name": "stdout",
     "output_type": "stream",
     "text": [
      "['hello', ' world!']\n"
     ]
    }
   ],
   "source": [
    "# rsplit([sep[, maxsplit]]): Splits the string from the right at the specified separator and returns a list of strings\n",
    "print(sample_string.rsplit(','))  # Output: ['hello', ' world!']"
   ]
  },
  {
   "cell_type": "code",
   "execution_count": 33,
   "id": "1dbdba60",
   "metadata": {},
   "outputs": [
    {
     "name": "stdout",
     "output_type": "stream",
     "text": [
      "hello, world\n"
     ]
    }
   ],
   "source": [
    "# rstrip([chars]): Removes trailing characters from the string\n",
    "print(sample_string.rstrip('!'))  # Output: \"hello, world\""
   ]
  },
  {
   "cell_type": "code",
   "execution_count": 34,
   "id": "68ea90f0",
   "metadata": {},
   "outputs": [
    {
     "name": "stdout",
     "output_type": "stream",
     "text": [
      "['hello', ' world!']\n"
     ]
    }
   ],
   "source": [
    "# split([sep[, maxsplit]]): Splits the string at the specified separator and returns a list of strings\n",
    "print(sample_string.split(','))  # Output: ['hello', ' world!']"
   ]
  },
  {
   "cell_type": "code",
   "execution_count": 35,
   "id": "469fbc66",
   "metadata": {},
   "outputs": [
    {
     "name": "stdout",
     "output_type": "stream",
     "text": [
      "['Hello', 'World']\n"
     ]
    }
   ],
   "source": [
    "# splitlines([keepends]): Splits the string at line breaks and returns a list of lines\n",
    "multiline_string = \"Hello\\nWorld\\n\"\n",
    "print(multiline_string.splitlines())  # Output: ['Hello', 'World']"
   ]
  },
  {
   "cell_type": "code",
   "execution_count": 36,
   "id": "54467cb1",
   "metadata": {},
   "outputs": [
    {
     "name": "stdout",
     "output_type": "stream",
     "text": [
      "True\n"
     ]
    }
   ],
   "source": [
    "# startswith(prefix[, start[, end]]): Checks if the string starts with a specified prefix\n",
    "print(sample_string.startswith('hello'))  # Output: True"
   ]
  },
  {
   "cell_type": "code",
   "execution_count": 37,
   "id": "a19336c7",
   "metadata": {},
   "outputs": [
    {
     "name": "stdout",
     "output_type": "stream",
     "text": [
      "ello, world\n"
     ]
    }
   ],
   "source": [
    "# strip([chars]): Removes leading and trailing characters from the string\n",
    "print(sample_string.strip('h!'))  # Output: \"ello, world\""
   ]
  },
  {
   "cell_type": "code",
   "execution_count": 38,
   "id": "f3c77ea5",
   "metadata": {},
   "outputs": [
    {
     "name": "stdout",
     "output_type": "stream",
     "text": [
      "HELLO, WORLD!\n"
     ]
    }
   ],
   "source": [
    "# swapcase(): Swaps the case of the string\n",
    "print(sample_string.swapcase())  # Output: \"HELLO, WORLD!\""
   ]
  },
  {
   "cell_type": "code",
   "execution_count": 39,
   "id": "e7841314",
   "metadata": {},
   "outputs": [
    {
     "name": "stdout",
     "output_type": "stream",
     "text": [
      "Hello, World!\n"
     ]
    }
   ],
   "source": [
    "# title(): Converts the first character of each word to uppercase\n",
    "print(sample_string.title())  # Output: \"Hello, World!\""
   ]
  },
  {
   "cell_type": "code",
   "execution_count": 40,
   "id": "1d106f6f",
   "metadata": {},
   "outputs": [
    {
     "name": "stdout",
     "output_type": "stream",
     "text": [
      "hippo, worpd!\n"
     ]
    }
   ],
   "source": [
    "# translate(table): Returns a copy of the string in which each character has been mapped through the given translation table\n",
    "print(sample_string.translate(translation_table))  # Output: \"hippo, worpd!\""
   ]
  },
  {
   "cell_type": "code",
   "execution_count": 41,
   "id": "97c86597",
   "metadata": {},
   "outputs": [
    {
     "name": "stdout",
     "output_type": "stream",
     "text": [
      "HELLO, WORLD!\n"
     ]
    }
   ],
   "source": [
    "# upper(): Converts all characters in the string to uppercase\n",
    "print(sample_string.upper())  # Output: \"HELLO, WORLD!\""
   ]
  },
  {
   "cell_type": "code",
   "execution_count": 42,
   "id": "a6c64d8a",
   "metadata": {},
   "outputs": [
    {
     "name": "stdout",
     "output_type": "stream",
     "text": [
      "0000000hello, world!\n"
     ]
    }
   ],
   "source": [
    "# zfill(width): Returns a copy of the string padded with zeros to make it a specified width\n",
    "print(sample_string.zfill(20))  # Output: \"0000000hello, world!\""
   ]
  },
  {
   "cell_type": "markdown",
   "id": "2e89b096",
   "metadata": {},
   "source": [
    "# 8.String Manipulation in Python"
   ]
  },
  {
   "cell_type": "markdown",
   "id": "aa4468a5",
   "metadata": {},
   "source": [
    " String manipulation is a process of manipulating the string, such as slicing, parsing, analyzing, etc. String slicing in python programming is all about fetching a substring from a given string by slicing it from a start to end index.\n",
    "\n",
    " Syntax :\n",
    "   s [ start : end ],\n",
    "   s [ start : ],\n",
    "   s [ : end ],\n",
    "   s [ : : ] "
   ]
  },
  {
   "cell_type": "code",
   "execution_count": 43,
   "id": "011d0795",
   "metadata": {},
   "outputs": [
    {
     "data": {
      "text/plain": [
       "'\\n S  t  r  i  n  g          \\n 0  1  2  3  4  5\\n-6 -5 -4 -3 -2 -1\\n\\n'"
      ]
     },
     "execution_count": 43,
     "metadata": {},
     "output_type": "execute_result"
    }
   ],
   "source": [
    "# String Manipulation\n",
    "'''\n",
    " S  t  r  i  n  g          \n",
    " 0  1  2  3  4  5\n",
    "-6 -5 -4 -3 -2 -1\n",
    "\n",
    "'''"
   ]
  },
  {
   "cell_type": "code",
   "execution_count": 44,
   "id": "f3f65d3b",
   "metadata": {},
   "outputs": [],
   "source": [
    "# sample string\n",
    "sample_str  = \"String\""
   ]
  },
  {
   "cell_type": "code",
   "execution_count": 45,
   "id": "37e8bf5d",
   "metadata": {},
   "outputs": [
    {
     "data": {
      "text/plain": [
       "'String'"
      ]
     },
     "execution_count": 45,
     "metadata": {},
     "output_type": "execute_result"
    }
   ],
   "source": [
    "sample_str"
   ]
  },
  {
   "cell_type": "code",
   "execution_count": 46,
   "id": "139f0ce5",
   "metadata": {},
   "outputs": [
    {
     "name": "stdout",
     "output_type": "stream",
     "text": [
      "S\n"
     ]
    }
   ],
   "source": [
    "print(sample_str[0])"
   ]
  },
  {
   "cell_type": "code",
   "execution_count": 47,
   "id": "097e10f4",
   "metadata": {},
   "outputs": [
    {
     "name": "stdout",
     "output_type": "stream",
     "text": [
      "Str\n"
     ]
    }
   ],
   "source": [
    "print(sample_str[0:3])"
   ]
  },
  {
   "cell_type": "code",
   "execution_count": 48,
   "id": "99d9cdcb",
   "metadata": {},
   "outputs": [
    {
     "name": "stdout",
     "output_type": "stream",
     "text": [
      "String\n"
     ]
    }
   ],
   "source": [
    "print(sample_str[0:])"
   ]
  },
  {
   "cell_type": "code",
   "execution_count": 49,
   "id": "41af0049",
   "metadata": {},
   "outputs": [
    {
     "name": "stdout",
     "output_type": "stream",
     "text": [
      "String\n"
     ]
    }
   ],
   "source": [
    "print(sample_str[:6])"
   ]
  },
  {
   "cell_type": "code",
   "execution_count": 50,
   "id": "9c411fa5",
   "metadata": {},
   "outputs": [
    {
     "name": "stdout",
     "output_type": "stream",
     "text": [
      "g\n"
     ]
    }
   ],
   "source": [
    "print(sample_str[-1])"
   ]
  },
  {
   "cell_type": "code",
   "execution_count": 51,
   "id": "3dfd1a0e",
   "metadata": {},
   "outputs": [
    {
     "name": "stdout",
     "output_type": "stream",
     "text": [
      "Strin\n"
     ]
    }
   ],
   "source": [
    "print(sample_str[-6:-1])"
   ]
  },
  {
   "cell_type": "code",
   "execution_count": 52,
   "id": "cd99dbfe",
   "metadata": {},
   "outputs": [
    {
     "name": "stdout",
     "output_type": "stream",
     "text": [
      "Strin\n"
     ]
    }
   ],
   "source": [
    "print(sample_str[:-1])"
   ]
  },
  {
   "cell_type": "code",
   "execution_count": 53,
   "id": "2b1d6a79",
   "metadata": {},
   "outputs": [
    {
     "name": "stdout",
     "output_type": "stream",
     "text": [
      "gnirtS\n"
     ]
    }
   ],
   "source": [
    "print(sample_str[::-1]) # Reverse the string"
   ]
  },
  {
   "cell_type": "code",
   "execution_count": 54,
   "id": "1c11e576",
   "metadata": {},
   "outputs": [
    {
     "name": "stdout",
     "output_type": "stream",
     "text": [
      "g\n"
     ]
    }
   ],
   "source": [
    "print(sample_str[-1::])"
   ]
  },
  {
   "cell_type": "markdown",
   "id": "30aff3a5",
   "metadata": {},
   "source": [
    "#### Prepared By,\n",
    "Ahamed Basith"
   ]
  },
  {
   "cell_type": "code",
   "execution_count": null,
   "id": "0a4db8e7",
   "metadata": {},
   "outputs": [],
   "source": []
  }
 ],
 "metadata": {
  "kernelspec": {
   "display_name": "Python 3 (ipykernel)",
   "language": "python",
   "name": "python3"
  },
  "language_info": {
   "codemirror_mode": {
    "name": "ipython",
    "version": 3
   },
   "file_extension": ".py",
   "mimetype": "text/x-python",
   "name": "python",
   "nbconvert_exporter": "python",
   "pygments_lexer": "ipython3",
   "version": "3.11.5"
  }
 },
 "nbformat": 4,
 "nbformat_minor": 5
}
