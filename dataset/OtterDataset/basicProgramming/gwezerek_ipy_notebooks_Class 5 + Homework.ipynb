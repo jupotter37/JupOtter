{
 "metadata": {
  "name": "",
  "signature": "sha256:2bc378b639f27b259d0be34a9d3e6569986afff1b31c1e20c7917e939e90d1d8"
 },
 "nbformat": 3,
 "nbformat_minor": 0,
 "worksheets": [
  {
   "cells": [
    {
     "cell_type": "code",
     "collapsed": false,
     "input": [
      "class Person:\n",
      "    def add_info(self, name, age):\n",
      "        self.name = name\n",
      "        self.age = age\n",
      "\n",
      "test_person = Person()\n",
      "type(test_person)"
     ],
     "language": "python",
     "metadata": {},
     "outputs": [
      {
       "metadata": {},
       "output_type": "pyout",
       "prompt_number": 5,
       "text": [
        "instance"
       ]
      }
     ],
     "prompt_number": 5
    },
    {
     "cell_type": "code",
     "collapsed": false,
     "input": [
      "test_person.add_info(\"Bill\",36)\n",
      "print test_person.age"
     ],
     "language": "python",
     "metadata": {},
     "outputs": [
      {
       "output_type": "stream",
       "stream": "stdout",
       "text": [
        "36\n"
       ]
      }
     ],
     "prompt_number": 7
    },
    {
     "cell_type": "code",
     "collapsed": false,
     "input": [
      "## HOMEWORK"
     ],
     "language": "python",
     "metadata": {},
     "outputs": [],
     "prompt_number": 1
    },
    {
     "cell_type": "code",
     "collapsed": false,
     "input": [
      "\"\"\"1. Write a function findSubsequences(sequence, value) which takes two arguments, a list of ints and an integer. The function should return an int representing the number of subsequences which have a sum equal to the value of the integer argument. Sequences of length 1 do count! For the record, this problem becomes somewhat difficult once you have to worry about performance. I myself once botched a job interview over it. But if you only have to find any solution, it is quite simple.\"\"\""
     ],
     "language": "python",
     "metadata": {},
     "outputs": [
      {
       "metadata": {},
       "output_type": "pyout",
       "prompt_number": 4,
       "text": [
        "'1. Write a function findSubsequences(sequence, value) which takes two arguments, a list of ints and an integer. The function should return an int representing the number of subsequences which have a sum equal to the value of the integer argument. Sequences of length 1 do count! For the record, this problem becomes somewhat difficult once you have to worry about performance. I myself once botched a job interview over it. But if you only have to find any solution, it is quite simple.'"
       ]
      }
     ],
     "prompt_number": 4
    },
    {
     "cell_type": "code",
     "collapsed": false,
     "input": [
      "def checkSum(L,num):\n",
      "    start = 0\n",
      "    end = 0\n",
      "    result = 0\n",
      "    while start < len(L):\n",
      "        while end < len(L):\n",
      "            if sum(L[start:end+1]) == num:\n",
      "                print L[start:end+1]\n",
      "                result += 1\n",
      "            end += 1\n",
      "        start += 1\n",
      "        end = start\n",
      "    return result\n",
      "        \n",
      "\n",
      "ourList = [1,2,0,3,4,5,6]\n",
      "ourInt = 3\n",
      "\n",
      "checkSum(ourList, ourInt)"
     ],
     "language": "python",
     "metadata": {},
     "outputs": [
      {
       "output_type": "stream",
       "stream": "stdout",
       "text": [
        "[1, 2]\n",
        "[1, 2, 0]\n",
        "[0, 3]\n",
        "[3]\n"
       ]
      },
      {
       "metadata": {},
       "output_type": "pyout",
       "prompt_number": 2,
       "text": [
        "4"
       ]
      }
     ],
     "prompt_number": 2
    },
    {
     "cell_type": "code",
     "collapsed": false,
     "input": [
      "###2\n",
      "\"\"\"2. Write a function findSubstringLocations(string, sub) which takes two arguments, a string and a substring which you must search for in the string. Return a list containing all the indices at which the substring is found to begin in the string.\"\"\""
     ],
     "language": "python",
     "metadata": {},
     "outputs": [
      {
       "metadata": {},
       "output_type": "pyout",
       "prompt_number": 4,
       "text": [
        "'2. Write a function findSubstringLocations(string, sub) which takes two arguments, a string and a substring which you must search for in the string. Return a list containing all the indices at which the substring is found to begin in the string.'"
       ]
      }
     ],
     "prompt_number": 4
    },
    {
     "cell_type": "code",
     "collapsed": false,
     "input": [
      "import re\n",
      "\n",
      "def findSubstringLocations(string, sub):\n",
      "    if sub in string:\n",
      "        return [s.start() for s in re.finditer(sub, string)]\n",
      "        \n",
      "print findSubstringLocations(\"hello is it me you're hello\", \"hello\")"
     ],
     "language": "python",
     "metadata": {},
     "outputs": [
      {
       "output_type": "stream",
       "stream": "stdout",
       "text": [
        "[0, 22]\n"
       ]
      }
     ],
     "prompt_number": 7
    },
    {
     "cell_type": "code",
     "collapsed": false,
     "input": [
      "### 3\n",
      "\"\"\"3. Google the algorithm 'insertion sort,' which is a well-known and easy-to-understand yet inefficient method for sorting a collection of values. Write out pseudocode for the algorithm. This means it does not need to run as valid python, but should communicate clearly how it would be written. If you dont understand the first explanation you find, keep looking! You have no idea how much I mean it when I say being able to effectively find useful information is the single most important part of programming.\"\"\""
     ],
     "language": "python",
     "metadata": {},
     "outputs": [
      {
       "metadata": {},
       "output_type": "pyout",
       "prompt_number": 11,
       "text": [
        "\"3. Google the algorithm 'insertion sort,' which is a well-known and easy-to-understand yet inefficient method for sorting a collection of values. Write out pseudocode for the algorithm. This means it does not need to run as valid python, but should communicate clearly how it would be written. If you dont understand the first explanation you find, keep looking! You have no idea how much I mean it when I say being able to effectively find useful information is the single most important part of programming.\""
       ]
      }
     ],
     "prompt_number": 11
    },
    {
     "cell_type": "code",
     "collapsed": false,
     "input": [
      "# for each element in list\n",
      "    #for each element2 in list\n",
      "        # while element < element2\n",
      "            #increment element2\n",
      "        # when element >= element2\n",
      "            #swap element and element2\n",
      "    # increment element"
     ],
     "language": "python",
     "metadata": {},
     "outputs": [],
     "prompt_number": 12
    },
    {
     "cell_type": "code",
     "collapsed": false,
     "input": [
      "### 4\n",
      "\"\"\"4. Write a recursive function countToZero(n) which takes a single argument, an int, and prints numbers from n to zero, regardless of whether n is positive or negative. It should return None.\"\"\""
     ],
     "language": "python",
     "metadata": {},
     "outputs": [
      {
       "metadata": {},
       "output_type": "pyout",
       "prompt_number": 13,
       "text": [
        "'4. Write a recursive function countToZero(n) which takes a single argument, an int, and prints numbers from n to zero, regardless of whether n is positive or negative. It should return None.'"
       ]
      }
     ],
     "prompt_number": 13
    },
    {
     "cell_type": "code",
     "collapsed": false,
     "input": [
      "def countToZero(n):\n",
      "    print(n)\n",
      "    if n < 0:\n",
      "        countToZero(n+1)\n",
      "    elif n > 0:\n",
      "        countToZero(n-1)\n",
      "    return None\n",
      "        \n",
      "\n",
      "countToZero(-10)"
     ],
     "language": "python",
     "metadata": {},
     "outputs": [
      {
       "output_type": "stream",
       "stream": "stdout",
       "text": [
        "-10\n",
        "-9\n",
        "-8\n",
        "-7\n",
        "-6\n",
        "-5\n",
        "-4\n",
        "-3\n",
        "-2\n",
        "-1\n",
        "0\n"
       ]
      }
     ],
     "prompt_number": 30
    },
    {
     "cell_type": "code",
     "collapsed": false,
     "input": [
      "### 5\n",
      "\"\"\"5. Write a recursive function tripleAndBack(n) which takes a single argument, an int, and prints numbers from n to triple n\u2019s value, then all the way back down to n. It should return None.\"\"\""
     ],
     "language": "python",
     "metadata": {},
     "outputs": [
      {
       "metadata": {},
       "output_type": "pyout",
       "prompt_number": 32,
       "text": [
        "'5. Write a recursive function tripleAndBack(n) which takes a single argument, an int, and prints numbers from n to triple n\\xe2\\x80\\x99s value, then all the way back down to n. It should return None.'"
       ]
      }
     ],
     "prompt_number": 32
    },
    {
     "cell_type": "code",
     "collapsed": false,
     "input": [
      "def tripleAndBack(n, orig=None, back=None):\n",
      "    if orig == None:\n",
      "        orig = n\n",
      "    print(n)\n",
      "    if back == None:\n",
      "        if n == (orig*3):\n",
      "            back = True\n",
      "            tripleAndBack(n-1, orig, back)\n",
      "        else:\n",
      "            tripleAndBack(n+1, orig)\n",
      "    elif back == True:\n",
      "        if not n == orig:\n",
      "            tripleAndBack(n-1, orig, back)\n",
      "    return None\n",
      "\n",
      "tripleAndBack(2)"
     ],
     "language": "python",
     "metadata": {},
     "outputs": [
      {
       "output_type": "stream",
       "stream": "stdout",
       "text": [
        "2\n",
        "3\n",
        "4\n",
        "5\n",
        "6\n",
        "5\n",
        "4\n",
        "3\n",
        "2\n"
       ]
      }
     ],
     "prompt_number": 37
    },
    {
     "cell_type": "code",
     "collapsed": false,
     "input": [
      "### 6\n",
      "\"\"\"6. Write a function join(strings, sep) which takes two arguments, a list of strings and a string, and returns a single string which is equivalent to all the strings in the list concatenated end to end but separated by the string in the second argument. The second argument should have a default value of the space character.\"\"\""
     ],
     "language": "python",
     "metadata": {},
     "outputs": [
      {
       "metadata": {},
       "output_type": "pyout",
       "prompt_number": 40,
       "text": [
        "'6. Write a function join(strings, sep) which takes two arguments, a list of strings and a string, and returns a single string which is equivalent to all the strings in the list concatenated end to end but separated by the string in the second argument. The second argument should have a default value of the space character.'"
       ]
      }
     ],
     "prompt_number": 40
    },
    {
     "cell_type": "code",
     "collapsed": false,
     "input": [
      "def join(strings,sep=\" \"):\n",
      "    return sep.join(strings)\n",
      "\n",
      "join([\"hello\",\"is\",\"it\"], \"meow\")"
     ],
     "language": "python",
     "metadata": {},
     "outputs": [
      {
       "metadata": {},
       "output_type": "pyout",
       "prompt_number": 42,
       "text": [
        "'hellomeowismeowit'"
       ]
      }
     ],
     "prompt_number": 42
    },
    {
     "cell_type": "code",
     "collapsed": false,
     "input": [
      "### 7\n",
      "\"\"\"7.\tWrite a recursive version of problem #2. Hint1: you do not need any kind of loop, for or while. Recursion is an alternative to that. Hint2: default arguments will be very useful. Hint3: String slicing will be very useful, which is again discussed in slide 14 of the Advanced Class 2 slides.\"\"\""
     ],
     "language": "python",
     "metadata": {},
     "outputs": [
      {
       "metadata": {},
       "output_type": "pyout",
       "prompt_number": 43,
       "text": [
        "'7.\\tWrite a recursive version of problem #2. Hint1: you do not need any kind of loop, for or while. Recursion is an alternative to that. Hint2: default arguments will be very useful. Hint3: String slicing will be very useful, which is again discussed in slide 14 of the Advanced Class 2 slides.'"
       ]
      }
     ],
     "prompt_number": 43
    },
    {
     "cell_type": "code",
     "collapsed": false,
     "input": [
      "def findSubstringLocations(string, sub, i=0, result=None):\n",
      "    if not result: #beginner note: why not set it to [] as default? This is discussed in Advanced Class 9.\n",
      "        result = []\n",
      "    if string[i:i+len(sub)] == sub:\n",
      "            result.append(i)\n",
      "    if i == len(string):\n",
      "        return result\n",
      "    return findSubstringLocations(string, sub, i+1, result)\n",
      "\n",
      "print(findSubstringLocations(\"cough thought ouchouou\", \"ou\"))"
     ],
     "language": "python",
     "metadata": {},
     "outputs": [
      {
       "output_type": "stream",
       "stream": "stdout",
       "text": [
        "[1, 8, 14, 18, 20]\n"
       ]
      }
     ],
     "prompt_number": 48
    },
    {
     "cell_type": "code",
     "collapsed": false,
     "input": [
      "### 8\n",
      "\"\"\"8.\tGoogle the algorithm \u201cbinary search\u201d, briefly discussed in a previous class. Write out pseudocode that clearly describes how the code would need to be written. See advice from problem #3.\"\"\""
     ],
     "language": "python",
     "metadata": {},
     "outputs": [
      {
       "metadata": {},
       "output_type": "pyout",
       "prompt_number": 49,
       "text": [
        "'8.\\tGoogle the algorithm \\xe2\\x80\\x9cbinary search\\xe2\\x80\\x9d, briefly discussed in a previous class. Write out pseudocode that clearly describes how the code would need to be written. See advice from problem #3.'"
       ]
      }
     ],
     "prompt_number": 49
    },
    {
     "cell_type": "code",
     "collapsed": false,
     "input": [
      "# Take the length of the list and divide by 2\n",
      "# Find the list element with that index\n",
      "#     If ourNum is higher, throw out the element and everything lower\n",
      "#         Rerun function with new list\n",
      "#     If ourNum is lower, throw out the element and everything higher\n",
      "#         Rerun function with new list\n",
      "#     If ourNum is equal, return ourNum or ourNum index"
     ],
     "language": "python",
     "metadata": {},
     "outputs": [],
     "prompt_number": 50
    },
    {
     "cell_type": "code",
     "collapsed": false,
     "input": [
      "### 9\n",
      "\"\"\"9. Write a function binary(n) which takes as its single argument a positive non-zero integer. Return as a string a binary representation of that number. If you don\u2019t know how to convert to binary, I highly suggest learning\u2014it\u2019s not very difficult and is essential to understanding computers and software in general. The knowledge will come in handy over and over.\"\"\""
     ],
     "language": "python",
     "metadata": {},
     "outputs": [
      {
       "metadata": {},
       "output_type": "pyout",
       "prompt_number": 51,
       "text": [
        "'9. Write a function binary(n) which takes as its single argument a positive non-zero integer. Return as a string a binary representation of that number. If you don\\xe2\\x80\\x99t know how to convert to binary, I highly suggest learning\\xe2\\x80\\x94it\\xe2\\x80\\x99s not very difficult and is essential to understanding computers and software in general. The knowledge will come in handy over and over.'"
       ]
      }
     ],
     "prompt_number": 51
    },
    {
     "cell_type": "code",
     "collapsed": false,
     "input": [
      "import math\n",
      "\n",
      "def binary(n,converted=\"\"):\n",
      "    if type(n) != int or n < 0:\n",
      "        print(\"Bad argument: \", n)\n",
      "        return\n",
      "    if n == 1:\n",
      "        converted += \"1\"\n",
      "        return converted[::-1]\n",
      "    if n % 2 != 0:\n",
      "        converted += \"1\"\n",
      "        return binary(int(math.floor(n/2)), converted)\n",
      "    elif n % 2 == 0:\n",
      "        converted += \"0\"\n",
      "        return binary(int(math.floor(n/2)), converted)\n",
      "        \n",
      "print(binary(458))\n",
      "        "
     ],
     "language": "python",
     "metadata": {},
     "outputs": [
      {
       "output_type": "stream",
       "stream": "stdout",
       "text": [
        "111001010\n"
       ]
      }
     ],
     "prompt_number": 70
    },
    {
     "cell_type": "code",
     "collapsed": false,
     "input": [
      "### 10\n",
      "\"\"\"Write a function anagrams(word) which takes as its single argument a string. Return a list of all possible orderings of the characters in that word. Be warned that the number of possibilities increases dramatically with each additional character. A 3 letter word has 3 x 2 x 1 orderings, or 6. A 4 letter word has 4x3x2x1 orderings, or 24. It increases quickly. A 9 letter word has over 360,000 orderings. So if you give your function a longer word, expect it to take awhile. It may crash the program if you\u2019re not careful. This will have to be recursive, by the way.\"\"\""
     ],
     "language": "python",
     "metadata": {},
     "outputs": [
      {
       "metadata": {},
       "output_type": "pyout",
       "prompt_number": 71,
       "text": [
        "'Write a function anagrams(word) which takes as its single argument a string. Return a list of all possible orderings of the characters in that word. Be warned that the number of possibilities increases dramatically with each additional character. A 3 letter word has 3 x 2 x 1 orderings, or 6. A 4 letter word has 4x3x2x1 orderings, or 24. It increases quickly. A 9 letter word has over 360,000 orderings. So if you give your function a longer word, expect it to take awhile. It may crash the program if you\\xe2\\x80\\x99re not careful. This will have to be recursive, by the way.'"
       ]
      }
     ],
     "prompt_number": 71
    },
    {
     "cell_type": "code",
     "collapsed": false,
     "input": [
      "def anagrams(word):\n",
      "    if len(word) <= 1:\n",
      "        return word\n",
      "    result = []\n",
      "    for a in anagrams(word[1:]):\n",
      "        for i in range(len(word)):\n",
      "            result.append(a[:i] + word[0] + a[i:])\n",
      "    return result\n",
      "\n",
      "anagrams(\"meo\")"
     ],
     "language": "python",
     "metadata": {},
     "outputs": [
      {
       "metadata": {},
       "output_type": "pyout",
       "prompt_number": 1,
       "text": [
        "['meo', 'emo', 'eom', 'moe', 'ome', 'oem']"
       ]
      }
     ],
     "prompt_number": 1
    },
    {
     "cell_type": "code",
     "collapsed": false,
     "input": [
      "### 11\n",
      "\"\"\"11. Write an object-oriented version of the ATM program from class 1. Include the ability to create a new account and to deposit funds. Additionally, users must identify themselves by both a PIN number AND a card number.\"\"\""
     ],
     "language": "python",
     "metadata": {},
     "outputs": [
      {
       "metadata": {},
       "output_type": "pyout",
       "prompt_number": 76,
       "text": [
        "'11. Write an object-oriented version of the ATM program from class 1. Include the ability to create a new account and to deposit funds. Additionally, users must identify themselves by both a PIN number AND a card number.'"
       ]
      }
     ],
     "prompt_number": 76
    },
    {
     "cell_type": "code",
     "collapsed": false,
     "input": [],
     "language": "python",
     "metadata": {},
     "outputs": []
    }
   ],
   "metadata": {}
  }
 ]
}