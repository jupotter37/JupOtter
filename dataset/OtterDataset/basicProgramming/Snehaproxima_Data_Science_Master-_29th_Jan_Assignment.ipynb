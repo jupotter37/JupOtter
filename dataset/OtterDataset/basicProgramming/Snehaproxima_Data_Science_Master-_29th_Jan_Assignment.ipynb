{
 "cells": [
  {
   "attachments": {},
   "cell_type": "markdown",
   "id": "72864194-0668-4b63-b42e-b22b324bfd31",
   "metadata": {},
   "source": [
    "1. Who developed Python programming?"
   ]
  },
  {
   "cell_type": "markdown",
   "id": "c44d45e7-b0c6-4c50-8693-91c0ac1dff16",
   "metadata": {},
   "source": [
    "Ans. Guido van Rossum in 1991 developed the python programming language."
   ]
  },
  {
   "cell_type": "markdown",
   "id": "ef2a6fed-e6d4-4e80-b7a6-0563b6d6b442",
   "metadata": {},
   "source": [
    "2. Which type of programming does python support?"
   ]
  },
  {
   "cell_type": "markdown",
   "id": "72ab00da-1fdf-4a82-9ebc-a969d2bcedb6",
   "metadata": {},
   "source": [
    "Ans. Python is the general purpose programming language.Python is the multi paradigm programming language.\n",
    "     It supports three types of programming which are mentioned as follows.\n",
    "     \n",
    "     1.Object Oriented programming\n",
    "     2.Procedure Oriented programming\n",
    "     3.Functional programming "
   ]
  },
  {
   "cell_type": "markdown",
   "id": "5375b0b7-b002-49c4-956a-a8e263e0e36c",
   "metadata": {},
   "source": [
    "3. Is python case sensitive when dealing with the identifier?"
   ]
  },
  {
   "cell_type": "markdown",
   "id": "96298d61-1091-4c11-b284-58752cafa3ce",
   "metadata": {},
   "source": [
    "Ans. Yes python is case sensitive when dealing with the identifier.For example:"
   ]
  },
  {
   "cell_type": "code",
   "execution_count": 8,
   "id": "6df58bb7-e1b4-4f6f-8ae4-67780b855075",
   "metadata": {},
   "outputs": [],
   "source": [
    "   name = \"Sneha\"\n",
    "   Name = \"Lovely\""
   ]
  },
  {
   "cell_type": "code",
   "execution_count": 9,
   "id": "71a610f4-3cc6-46d6-965c-12ecf32f3a63",
   "metadata": {},
   "outputs": [
    {
     "name": "stdout",
     "output_type": "stream",
     "text": [
      "Sneha\n",
      "Lovely\n"
     ]
    }
   ],
   "source": [
    " print(name)\n",
    " print(Name)"
   ]
  },
  {
   "cell_type": "markdown",
   "id": "288d4822-767b-409b-a87a-296490fa9536",
   "metadata": {},
   "source": [
    "4. What is the correct extension of python file?"
   ]
  },
  {
   "cell_type": "markdown",
   "id": "25e62e3d-e396-4629-baf9-d84924df1f53",
   "metadata": {},
   "source": [
    "Ans. The correct extension of python file is .py"
   ]
  },
  {
   "cell_type": "markdown",
   "id": "6fa10c17-df13-4745-92c5-f266c318f678",
   "metadata": {},
   "source": [
    "5. Is python code compiled or interpreted?"
   ]
  },
  {
   "cell_type": "markdown",
   "id": "c80f2bd7-3c15-454c-ad64-9813ec63c24d",
   "metadata": {},
   "source": [
    "Ans. Python code is both compiled and interpreted.But compilation part is hidden from the programmer."
   ]
  },
  {
   "cell_type": "markdown",
   "id": "1573ec56-1e13-470c-a7a8-d787010bd41c",
   "metadata": {},
   "source": [
    "6. Name a few blocks of code used to define in Python language?"
   ]
  },
  {
   "cell_type": "markdown",
   "id": "c723b9d4-6061-43c9-bb4e-17ab56e937ec",
   "metadata": {},
   "source": [
    "Ans. Indentation is used to define a block of code in python. "
   ]
  },
  {
   "cell_type": "markdown",
   "id": "23333346-1e9b-457d-920d-87133535246f",
   "metadata": {},
   "source": [
    "7. State a character used to give single-line comments in python?"
   ]
  },
  {
   "cell_type": "markdown",
   "id": "d5ffd29f-27f5-4836-972c-dd4455549f89",
   "metadata": {},
   "source": [
    "Ans. '#' is the character which states the single line comments in python."
   ]
  },
  {
   "cell_type": "markdown",
   "id": "0dbaa8bd-bee7-44b2-af3c-954e0e24ebf4",
   "metadata": {},
   "source": [
    "8. Mention function which can help us to find the version of python that we are currently working on ?"
   ]
  },
  {
   "cell_type": "markdown",
   "id": "f91f55eb-d85e-490b-82d2-786cc347ef90",
   "metadata": {},
   "source": [
    "Ans. The function sys.version can help us to find the version of python that we are currently working on. It also contains information on the build number and compiler used."
   ]
  },
  {
   "cell_type": "markdown",
   "id": "62ed1126-18dc-4c02-b879-01172e7a95ce",
   "metadata": {},
   "source": [
    "9. Python supports the creation of anonymous functions at runtime, using a construct called_ _ _ _"
   ]
  },
  {
   "cell_type": "markdown",
   "id": "72aee3ac-521c-4606-a4f0-9511e4a0fd4e",
   "metadata": {},
   "source": [
    "Ans. Python supports the creation of anonymous functions (i.e. functions that are not bound to a name) at runtime, using a construct called lambda. Lambda functions are restricted to a single expression. They can be used wherever normal functions can be used."
   ]
  },
  {
   "cell_type": "markdown",
   "id": "acf89fce-77c0-4482-bbbd-f800e15a2fc1",
   "metadata": {},
   "source": [
    "10. What does pip stand for python?"
   ]
  },
  {
   "cell_type": "markdown",
   "id": "f106658f-3d24-48fb-b8b7-b3477de8cea9",
   "metadata": {},
   "source": [
    "Ans. Pip stand as package manager for python. It used to install different modules and packages."
   ]
  },
  {
   "cell_type": "markdown",
   "id": "e706af37-0afb-4cd1-bee2-e887eff780a4",
   "metadata": {},
   "source": [
    "11. Mention a few built-in functions in python?"
   ]
  },
  {
   "cell_type": "markdown",
   "id": "5b3d7eca-89c7-4004-a3ee-bd72e8831ae7",
   "metadata": {},
   "source": [
    "Ans. Python provides a lot of built-in functions that ease the writing of code.Such as Python dict()\n",
    "Creates a Dictionary\n",
    "\n",
    "Python dir()\n",
    "Tries to Return Attributes of Object\n",
    "\n",
    "Python divmod()\n",
    "Returns a Tuple of Quotient and Remainder\n",
    "\n",
    "Python enumerate()\n",
    "returns an enumerated object\n",
    "\n",
    "Python eval()\n",
    "Runs Python Code Within Program"
   ]
  },
  {
   "cell_type": "markdown",
   "id": "5caeb791-6822-4834-b1d8-1974b3525cba",
   "metadata": {},
   "source": [
    "12. What is the maximum possible length of an identifier in Python?"
   ]
  },
  {
   "cell_type": "markdown",
   "id": "c9deeb57-2c63-4302-9531-94edd12e27da",
   "metadata": {},
   "source": [
    "Ans. The maximum possible length of an identifier in python is 79 characters."
   ]
  },
  {
   "cell_type": "markdown",
   "id": "099fb8a6-6880-42fd-acf0-40547daa2bc8",
   "metadata": {},
   "source": [
    "13. What are the benefits of using Python?"
   ]
  },
  {
   "cell_type": "markdown",
   "id": "40f804a1-f23d-4a2d-be42-ce86e941ef34",
   "metadata": {},
   "source": [
    "Ans. The benefits of python are mentioned are as follows:\n",
    "\n",
    "Presence of third-party modules: Python has a rich ecosystem of third-party modules and libraries that extend its functionality for various tasks.\n",
    "\n",
    "Extensive support libraries: Python boasts extensive support libraries like NumPy for numerical calculations and Pandas for data analytics, making it suitable for scientific and data-related applications. \n",
    "\n",
    "Open source and large active community base: Python is open source, and it has a large and active community that contributes to its development and provides support.\n",
    "\n",
    "Versatile, easy to read, learn, and write: Python is known for its simplicity and readability, making it an excellent choice for both beginners and experienced programmers.\n",
    "\n",
    "User-friendly data structures: Python offers intuitive and easy-to-use data structures, simplifying data manipulation and management.\n",
    "\n",
    "High-level language: Python is a high-level language that abstracts low-level details, making it more user-friendly.\n",
    "\n",
    "Dynamically typed language: Python is dynamically typed, meaning you don’t need to declare data types explicitly, making it flexible but still reliable.\n",
    "Object-Oriented and Procedural programming language: Python supports both object-oriented and procedural programming, providing versatility in coding styles.\n",
    "\n",
    "Portable and interactive: Python is portable across operating systems and interactive, allowing real-time code execution and testing.\n",
    "Ideal for prototypes: Python’s concise syntax allows developers to prototype applications quickly with less code.\n",
    "\n",
    "Highly efficient: Python’s clean design provides enhanced process control, and it has excellent text processing capabilities, making it efficient for various applications.\n",
    "\n",
    "Internet of Things (IoT) opportunities: Python is used in IoT applications due to its simplicity and versatility.\n",
    "\n",
    "Interpreted language: Python is interpreted, which allows for easier debugging and code development."
   ]
  },
  {
   "cell_type": "markdown",
   "id": "c6369a86-3d99-4998-a0a8-b1c4a85f7787",
   "metadata": {},
   "source": [
    "14. How is memory managed in Python?"
   ]
  },
  {
   "cell_type": "markdown",
   "id": "f6568441-2e61-4de3-8cfd-9c525d54798b",
   "metadata": {},
   "source": [
    "Ans.In Python memory allocation and deallocation method is automatic.Some of the ways in which Python manages memory:\n",
    "1. Memory Allocation:\n",
    "Whenever a new object is created, Python dynamically allocates memory for it. Python allocates a specific memory space for the object, depending on the object’s type and size. The process of allocating memory for an object is known as memory allocation.\n",
    "\n",
    "2. Memory Deallocation:\n",
    "When an object is no longer required, Python deallocates the memory allocated to it. Python has a built-in garbage collector that manages memory deallocation automatically. The garbage collector frees up memory occupied by objects that are no longer in use and not referenced by any other part of the program\n",
    "\n",
    "3. Reference Counting:\r\n",
    "Python uses a technique called reference counting to keep track of objects in memory. Every object has a reference count associated with it that keeps track of the number of references to that object. The reference count is incremented whenever a new reference to an object is created and decremented whenever a reference is deleted. When the reference count of an object reaches zero, the object is no longer in use and can be deallocated.\r\n",
    "\r\n",
    "4. Garbage Collection:\r\n",
    "Garbage collection is the process of automatically freeing up memory occupied by objects that are no longer in use. Python’s garbage collector runs periodically to check for objects that are no longer referenced and frees up the memory occupied by them."
   ]
  },
  {
   "cell_type": "markdown",
   "id": "d3901ccc-fd55-4ada-a2b9-4dd539d80b9e",
   "metadata": {},
   "source": [
    "15. How to install Python on Windows and set path varaiables?"
   ]
  },
  {
   "cell_type": "markdown",
   "id": "9b8b60a8-1145-4a47-967b-ba722ce4e704",
   "metadata": {},
   "source": [
    "Ans.To install python, first go to google and search python for windows and install the latest version according to your computer configuration.\n",
    "Run the application and accept the terms and conditions.\n",
    "\n",
    "To set path variables,first copy the location of python file then go to the enviornment varaiables and copy the path in user variable path."
   ]
  },
  {
   "cell_type": "markdown",
   "id": "dd224040-fcba-4a88-bbc8-d2d35daca58c",
   "metadata": {},
   "source": [
    "16. Is indentation required in python?"
   ]
  },
  {
   "cell_type": "markdown",
   "id": "3ec14300-d42d-4638-8d0f-a8e449f17c10",
   "metadata": {},
   "source": [
    "Ans.Indentation refers to the spaces at the beginning of a code line.Python uses indentation to indicate a block of code.It will give you an error if you skip the indentation."
   ]
  },
  {
   "cell_type": "code",
   "execution_count": null,
   "id": "1912828b-8af8-49ba-b6fe-7a4777fffa00",
   "metadata": {},
   "outputs": [],
   "source": []
  }
 ],
 "metadata": {
  "kernelspec": {
   "display_name": "Python 3 (ipykernel)",
   "language": "python",
   "name": "python3"
  },
  "language_info": {
   "codemirror_mode": {
    "name": "ipython",
    "version": 3
   },
   "file_extension": ".py",
   "mimetype": "text/x-python",
   "name": "python",
   "nbconvert_exporter": "python",
   "pygments_lexer": "ipython3",
   "version": "3.12.6"
  }
 },
 "nbformat": 4,
 "nbformat_minor": 5
}
