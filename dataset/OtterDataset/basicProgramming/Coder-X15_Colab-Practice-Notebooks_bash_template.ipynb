{
  "nbformat": 4,
  "nbformat_minor": 0,
  "metadata": {
    "colab": {
      "provenance": []
    },
    "kernelspec": {
      "name": "python3",
      "display_name": "Python 3"
    },
    "language_info": {
      "name": "python"
    }
  },
  "cells": [
    {
      "cell_type": "markdown",
      "source": [
        "Program: Bash/shell"
      ],
      "metadata": {
        "id": "tiIJsO8vbK58"
      }
    },
    {
      "cell_type": "markdown",
      "source": [
        "## Programming: Basics"
      ],
      "metadata": {
        "id": "60eUslhAbOF4"
      }
    },
    {
      "cell_type": "markdown",
      "source": [
        "### Bash: CheatSheet\n",
        "\n",
        "1. [devhints](https://devhints.io/bash)\n",
        "2. [quickref](https://quickref.me/bash.html)\n",
        "3. [guthub/Bash CheatSheet](https://github.com/RehanSaeed/Bash-Cheat-Sheet)\n",
        "4. [github/Commandline Shortcuts and CheatSheet](https://github.com/LeCoupa/awesome-cheatsheets/blob/master/languages/bash.sh)\n",
        "5. [Book: Linux Bash shell CHeatSheet](https://oit.ua.edu/wp-content/uploads/2020/12/Linux_bash_cheat_sheet-1.pdf)\n"
      ],
      "metadata": {
        "id": "KCezcERrBGRX"
      }
    },
    {
      "cell_type": "markdown",
      "source": [
        "Youtube Course on Linux"
      ],
      "metadata": {
        "id": "1aZKCKHtCUPk"
      }
    },
    {
      "cell_type": "code",
      "source": [
        "%%html\n",
        "\n",
        "<h3> Top 50 Linux Commands</h3>\n",
        "\n",
        "<iframe width=\"560\" height=\"315\" src=\"https://www.youtube.com/embed/ZtqBQ68cfJc?si=X_ZtC4s8-duV638e\" title=\"YouTube video player\" frameborder=\"0\" allow=\"accelerometer; autoplay; clipboard-write; encrypted-media; gyroscope; picture-in-picture; web-share\" referrerpolicy=\"strict-origin-when-cross-origin\" allowfullscreen></iframe>"
      ],
      "metadata": {
        "id": "k1JqdaqHCXVc",
        "outputId": "ebd29d72-3b92-430d-f4a5-51fa0d69986b",
        "colab": {
          "base_uri": "https://localhost:8080/",
          "height": 377
        }
      },
      "execution_count": null,
      "outputs": [
        {
          "output_type": "display_data",
          "data": {
            "text/plain": [
              "<IPython.core.display.HTML object>"
            ],
            "text/html": [
              "\n",
              "<h3> Top 50 Linux Commands</h3>\n",
              "\n",
              "<iframe width=\"560\" height=\"315\" src=\"https://www.youtube.com/embed/ZtqBQ68cfJc?si=X_ZtC4s8-duV638e\" title=\"YouTube video player\" frameborder=\"0\" allow=\"accelerometer; autoplay; clipboard-write; encrypted-media; gyroscope; picture-in-picture; web-share\" referrerpolicy=\"strict-origin-when-cross-origin\" allowfullscreen></iframe>\n"
            ]
          },
          "metadata": {}
        }
      ]
    },
    {
      "cell_type": "code",
      "source": [
        "%%html\n",
        "\n",
        "<h3> Linux Full Course</h3>\n",
        "\n",
        "\n",
        "<iframe width=\"560\" height=\"315\" src=\"https://www.youtube.com/embed/sWbUDq4S6Y8?si=qpLDqt2ti0jxCn-l\" title=\"YouTube video player\" frameborder=\"0\" allow=\"accelerometer; autoplay; clipboard-write; encrypted-media; gyroscope; picture-in-picture; web-share\" referrerpolicy=\"strict-origin-when-cross-origin\" allowfullscreen></iframe>\n"
      ],
      "metadata": {
        "id": "OhxwrVF4Cu4a",
        "outputId": "7f042baf-db44-48f5-b4ef-c789eb2e522d",
        "colab": {
          "base_uri": "https://localhost:8080/",
          "height": 377
        }
      },
      "execution_count": null,
      "outputs": [
        {
          "output_type": "display_data",
          "data": {
            "text/plain": [
              "<IPython.core.display.HTML object>"
            ],
            "text/html": [
              "\n",
              "<h3> Linux Full Course</h3>\n",
              "\n",
              "\n",
              "<iframe width=\"560\" height=\"315\" src=\"https://www.youtube.com/embed/sWbUDq4S6Y8?si=qpLDqt2ti0jxCn-l\" title=\"YouTube video player\" frameborder=\"0\" allow=\"accelerometer; autoplay; clipboard-write; encrypted-media; gyroscope; picture-in-picture; web-share\" referrerpolicy=\"strict-origin-when-cross-origin\" allowfullscreen></iframe>\n"
            ]
          },
          "metadata": {}
        }
      ]
    },
    {
      "cell_type": "markdown",
      "source": [
        "### Colab Introduction and executing code\n",
        "\n",
        "Practice colab with the following notebook\n",
        "\n",
        "https://colab.research.google.com/github/Tanu-N-Prabhu/Python/blob/master/Cheat_sheet_for_Google_Colab.ipynb\n"
      ],
      "metadata": {
        "id": "7Tvgc9-mCeUM"
      }
    },
    {
      "cell_type": "code",
      "source": [
        "%lsmagic"
      ],
      "metadata": {
        "id": "VSn-VNPa-Kn_",
        "outputId": "c1f8f2ce-7786-4eb5-dd21-2f5737623162",
        "colab": {
          "base_uri": "https://localhost:8080/",
          "height": 303
        }
      },
      "execution_count": null,
      "outputs": [
        {
          "output_type": "execute_result",
          "data": {
            "text/plain": [
              "Available line magics:\n",
              "%alias  %alias_magic  %autoawait  %autocall  %automagic  %autosave  %bookmark  %cat  %cd  %clear  %colors  %conda  %config  %connect_info  %cp  %debug  %dhist  %dirs  %doctest_mode  %ed  %edit  %env  %gui  %hist  %history  %killbgscripts  %ldir  %less  %lf  %lk  %ll  %load  %load_ext  %loadpy  %logoff  %logon  %logstart  %logstate  %logstop  %ls  %lsmagic  %lx  %macro  %magic  %man  %matplotlib  %mkdir  %more  %mv  %notebook  %page  %pastebin  %pdb  %pdef  %pdoc  %pfile  %pinfo  %pinfo2  %pip  %popd  %pprint  %precision  %prun  %psearch  %psource  %pushd  %pwd  %pycat  %pylab  %qtconsole  %quickref  %recall  %rehashx  %reload_ext  %rep  %rerun  %reset  %reset_selective  %rm  %rmdir  %run  %save  %sc  %set_env  %shell  %store  %sx  %system  %tb  %tensorflow_version  %time  %timeit  %unalias  %unload_ext  %who  %who_ls  %whos  %xdel  %xmode\n",
              "\n",
              "Available cell magics:\n",
              "%%!  %%HTML  %%SVG  %%bash  %%bigquery  %%capture  %%debug  %%file  %%html  %%javascript  %%js  %%latex  %%markdown  %%perl  %%prun  %%pypy  %%python  %%python2  %%python3  %%ruby  %%script  %%sh  %%shell  %%svg  %%sx  %%system  %%time  %%timeit  %%writefile\n",
              "\n",
              "Automagic is ON, % prefix IS NOT needed for line magics."
            ],
            "application/json": {
              "line": {
                "automagic": "AutoMagics",
                "autocall": "AutoMagics",
                "alias_magic": "BasicMagics",
                "lsmagic": "BasicMagics",
                "magic": "BasicMagics",
                "page": "BasicMagics",
                "pprint": "BasicMagics",
                "colors": "BasicMagics",
                "xmode": "BasicMagics",
                "quickref": "BasicMagics",
                "doctest_mode": "BasicMagics",
                "gui": "BasicMagics",
                "precision": "BasicMagics",
                "notebook": "BasicMagics",
                "save": "CodeMagics",
                "pastebin": "CodeMagics",
                "loadpy": "CodeMagics",
                "load": "CodeMagics",
                "edit": "KernelMagics",
                "config": "ConfigMagics",
                "prun": "ExecutionMagics",
                "pdb": "ExecutionMagics",
                "debug": "ExecutionMagics",
                "tb": "ExecutionMagics",
                "run": "ExecutionMagics",
                "timeit": "ExecutionMagics",
                "time": "ExecutionMagics",
                "macro": "ExecutionMagics",
                "load_ext": "ExtensionMagics",
                "unload_ext": "ExtensionMagics",
                "reload_ext": "ExtensionMagics",
                "history": "HistoryMagics",
                "recall": "HistoryMagics",
                "rerun": "HistoryMagics",
                "logstart": "LoggingMagics",
                "logstop": "LoggingMagics",
                "logoff": "LoggingMagics",
                "logon": "LoggingMagics",
                "logstate": "LoggingMagics",
                "pinfo": "NamespaceMagics",
                "pinfo2": "NamespaceMagics",
                "pdef": "NamespaceMagics",
                "pdoc": "NamespaceMagics",
                "psource": "NamespaceMagics",
                "pfile": "NamespaceMagics",
                "psearch": "NamespaceMagics",
                "who_ls": "NamespaceMagics",
                "who": "NamespaceMagics",
                "whos": "NamespaceMagics",
                "reset": "NamespaceMagics",
                "reset_selective": "NamespaceMagics",
                "xdel": "NamespaceMagics",
                "alias": "OSMagics",
                "unalias": "OSMagics",
                "rehashx": "OSMagics",
                "pwd": "OSMagics",
                "cd": "OSMagics",
                "env": "OSMagics",
                "set_env": "OSMagics",
                "pushd": "OSMagics",
                "popd": "OSMagics",
                "dirs": "OSMagics",
                "dhist": "OSMagics",
                "sc": "OSMagics",
                "sx": "OSMagics",
                "system": "OSMagics",
                "bookmark": "OSMagics",
                "pycat": "OSMagics",
                "pip": "Other",
                "conda": "PackagingMagics",
                "matplotlib": "PylabMagics",
                "pylab": "PylabMagics",
                "killbgscripts": "ScriptMagics",
                "autoawait": "AsyncMagics",
                "ed": "Other",
                "hist": "Other",
                "rep": "Other",
                "clear": "KernelMagics",
                "less": "KernelMagics",
                "more": "KernelMagics",
                "man": "KernelMagics",
                "connect_info": "KernelMagics",
                "qtconsole": "KernelMagics",
                "autosave": "KernelMagics",
                "mkdir": "Other",
                "rmdir": "Other",
                "mv": "Other",
                "rm": "Other",
                "cp": "Other",
                "cat": "Other",
                "ls": "Other",
                "ll": "Other",
                "lf": "Other",
                "lk": "Other",
                "ldir": "Other",
                "lx": "Other",
                "store": "StoreMagics",
                "shell": "Other",
                "tensorflow_version": "Other"
              },
              "cell": {
                "js": "DisplayMagics",
                "javascript": "DisplayMagics",
                "latex": "DisplayMagics",
                "svg": "DisplayMagics",
                "html": "DisplayMagics",
                "markdown": "DisplayMagics",
                "prun": "ExecutionMagics",
                "debug": "ExecutionMagics",
                "timeit": "ExecutionMagics",
                "time": "ExecutionMagics",
                "capture": "ExecutionMagics",
                "sx": "OSMagics",
                "system": "OSMagics",
                "!": "OSMagics",
                "writefile": "OSMagics",
                "script": "ScriptMagics",
                "sh": "Other",
                "bash": "Other",
                "perl": "Other",
                "ruby": "Other",
                "python": "Other",
                "python2": "Other",
                "python3": "Other",
                "pypy": "Other",
                "SVG": "Other",
                "HTML": "Other",
                "file": "Other",
                "bigquery": "Other",
                "shell": "Other"
              }
            }
          },
          "metadata": {},
          "execution_count": 5
        }
      ]
    },
    {
      "cell_type": "markdown",
      "source": [
        "### Introduction\n",
        "\n",
        "- Syntax\n",
        "- execution\n",
        "    - shell\n",
        "    - colab\n",
        "    - script\n",
        "- Comments"
      ],
      "metadata": {
        "id": "utCNv4lWbyyK"
      }
    },
    {
      "cell_type": "markdown",
      "source": [
        "#### Shell\n",
        "\n",
        "```bash\n",
        "$ echo \"Hello\"\n",
        "```"
      ],
      "metadata": {
        "id": "MGQBRTYe9pDM"
      }
    },
    {
      "cell_type": "markdown",
      "source": [],
      "metadata": {
        "id": "-N8X0lPc5_uw"
      }
    },
    {
      "cell_type": "markdown",
      "source": [
        "#### Execution: Colab"
      ],
      "metadata": {
        "id": "4DPXP7d89riy"
      }
    },
    {
      "cell_type": "code",
      "execution_count": null,
      "metadata": {
        "id": "9jf6uEMUbIGA",
        "outputId": "e345b436-6cbd-4349-8e4d-43919e5a5c57",
        "colab": {
          "base_uri": "https://localhost:8080/"
        }
      },
      "outputs": [
        {
          "output_type": "stream",
          "name": "stdout",
          "text": [
            "Hello, ROHIT!\n"
          ]
        },
        {
          "output_type": "execute_result",
          "data": {
            "text/plain": []
          },
          "metadata": {},
          "execution_count": 7
        }
      ],
      "source": [
        "%%shell\n",
        "\n",
        "\n",
        "name=\"ROHIT\" #Hello\n",
        "echo \"Hello, ${name}!\"\n"
      ]
    },
    {
      "cell_type": "code",
      "source": [
        "!echo \"Hello\""
      ],
      "metadata": {
        "id": "8RNGcpH8-DEs",
        "outputId": "2ca0407f-0f22-4490-8a08-31720157e25c",
        "colab": {
          "base_uri": "https://localhost:8080/"
        }
      },
      "execution_count": null,
      "outputs": [
        {
          "output_type": "stream",
          "name": "stdout",
          "text": [
            "Hello\n"
          ]
        }
      ]
    },
    {
      "cell_type": "markdown",
      "source": [
        "#### Examples"
      ],
      "metadata": {
        "id": "karAKDc5nryH"
      }
    },
    {
      "cell_type": "code",
      "source": [
        "%%shell\n",
        "\n",
        "x=10\n",
        "y=16\n",
        "\n",
        "if [ $(($x-$y)) -gt 0 ]; then\n",
        "  echo \"Positive difference between ${x} and ${y}\"\n",
        "else\n",
        "  echo \"Negative difference between ${x} and ${y}\"\n",
        "fi"
      ],
      "metadata": {
        "id": "hSgE4QxgnthC",
        "outputId": "696a6199-52c9-4845-ccf8-d26cca99227e",
        "colab": {
          "base_uri": "https://localhost:8080/"
        }
      },
      "execution_count": null,
      "outputs": [
        {
          "output_type": "stream",
          "name": "stdout",
          "text": [
            "Negative difference between 10 and 16\n"
          ]
        },
        {
          "output_type": "execute_result",
          "data": {
            "text/plain": []
          },
          "metadata": {},
          "execution_count": 116
        }
      ]
    },
    {
      "cell_type": "markdown",
      "source": [
        "### Data types and Variables\n",
        "\n",
        "**Data Types**\n",
        "\n",
        "- str\n",
        "- int\n",
        "- float\n",
        "- array\n",
        "- dictionary\n",
        "- others\n",
        "\n",
        "**Variables**\n",
        "\n",
        "How to define and use varaibles for different data types"
      ],
      "metadata": {
        "id": "7NadGc3ob2wn"
      }
    },
    {
      "cell_type": "code",
      "source": [
        "%%shell\n",
        "\n",
        "# first we go for an int\n",
        "x=5\n",
        "\n",
        "# then for a float\n",
        "y=0.97\n",
        "\n",
        "# then a string\n",
        "z=\"Foo\" # Yeah, the Pythonic way of typing random strings unlike the Lorem Ipsum suff\n",
        "\n",
        "# we're gonna use the variables to do some weird stuff\n",
        "\n",
        "if [ $((($x+2)/7)) -eq 1 ]; then\n",
        "  if [[ ${z} -eq \"Foo\" ]]; then\n",
        "    echo \"You've scored ${y} points\"\n",
        "  fi\n",
        "else\n",
        "  echo \"You've failed to satisfy the conditions, friend!\"\n",
        "fi"
      ],
      "metadata": {
        "id": "Q7EQja9UcI1U",
        "outputId": "4e8e0914-4bb8-4f99-e61e-23f1a286cf78",
        "colab": {
          "base_uri": "https://localhost:8080/"
        }
      },
      "execution_count": null,
      "outputs": [
        {
          "output_type": "stream",
          "name": "stdout",
          "text": [
            "You've scored 0.97 points\n"
          ]
        },
        {
          "output_type": "execute_result",
          "data": {
            "text/plain": []
          },
          "metadata": {},
          "execution_count": 12
        }
      ]
    },
    {
      "cell_type": "code",
      "source": [
        "%%shell\n",
        "\n",
        "# okay so for using dictionaries we have to use associated arrays\n",
        "\n",
        "declare -A dictionary\n",
        "\n",
        "dictionary[\"foo\"]=\"The sound when you blow through your mouth forcibly\"\n",
        "dictionary[\"bar\"]=\"Another word for a rod, but usually used for longer ones/something referring to the association of lawyers?\"\n",
        "dictionary[\"baz\"]=\"'Bus' in a (bad) accent\"\n",
        "\n",
        "echo \"The dictionary I made has only ${#dictionary[@]} words\"\n",
        "for key in ${!dictionary[@]}; do\n",
        "  echo \"The meaning of ${key} is '${dictionary[$key]}'\"\n",
        "done\n",
        "\n",
        "# in 2024, the word bar gets removed\n",
        "unset dictionary[\"bar\"]\n",
        "echo \"The dictionary now has only ${#dictionary[@]} words, due to the 2024 amendment\"\n",
        "for key in ${!dictionary[@]}; do\n",
        "  echo \"The meaning of ${key} is '${dictionary[$key]}'\"\n",
        "done"
      ],
      "metadata": {
        "colab": {
          "base_uri": "https://localhost:8080/"
        },
        "id": "-fZKYfARqdDV",
        "outputId": "9254c0fd-1b02-46b4-8d85-d1eca15001ae"
      },
      "execution_count": null,
      "outputs": [
        {
          "output_type": "stream",
          "name": "stdout",
          "text": [
            "The dictionary I made has only 3 words\n",
            "The meaning of foo is 'The sound when you blow through your mouth forcibly'\n",
            "The meaning of bar is 'Another word for a rod, but usually used for longer ones/something referring to the association of lawyers?'\n",
            "The meaning of baz is ''Bus' in a (bad) accent'\n",
            "The dictionary now has only 2 words, due to the 2024 amendment\n",
            "The meaning of foo is 'The sound when you blow through your mouth forcibly'\n",
            "The meaning of baz is ''Bus' in a (bad) accent'\n"
          ]
        },
        {
          "output_type": "execute_result",
          "data": {
            "text/plain": []
          },
          "metadata": {},
          "execution_count": 25
        }
      ]
    },
    {
      "cell_type": "code",
      "source": [
        "%%shell\n",
        "\n",
        "# some more dictionary stuff\n",
        "\n",
        "declare -A car\n",
        "car[brand]=\"GM\"\n",
        "car[name]=\"Corvette\"\n",
        "car[year]=\"2023\"\n",
        "car[colors]=('blue' 'red' 'white' 'green' 'black') # seemingly doesn't work\n",
        "\n",
        "echo \"Car details:\"\n",
        "echo \"------------\"\n",
        "echo \"Name:${car[brand]} ${car[name]}\"\n",
        "echo \"Year of making: ${car[year]}\"\n",
        "list=${car[colors]}\n",
        "echo \"The number of available colours is ${#(${car[colors]})[@]}\" # seemingly doesn't work\n",
        "echo \"Available colours:\""
      ],
      "metadata": {
        "colab": {
          "base_uri": "https://localhost:8080/"
        },
        "id": "Vhrna0kZrftd",
        "outputId": "c4add786-93a0-4605-b527-33c2286fadf6"
      },
      "execution_count": 32,
      "outputs": [
        {
          "output_type": "stream",
          "name": "stdout",
          "text": [
            "/bin/bash: line 8: car[colors]: cannot assign list to array member\n",
            "Car details:\n",
            "------------\n",
            "Name:GM Corvette\n",
            "Year of making: 2023\n",
            "/bin/bash: line 15: The number of available colours is ${#(${car[colors]})[@]}: bad substitution\n",
            "Available colours:\n"
          ]
        },
        {
          "output_type": "execute_result",
          "data": {
            "text/plain": []
          },
          "metadata": {},
          "execution_count": 32
        }
      ]
    },
    {
      "cell_type": "markdown",
      "source": [
        "#### Examples"
      ],
      "metadata": {
        "id": "dgbed9RQn1L_"
      }
    },
    {
      "cell_type": "code",
      "source": [
        "%%shell\n",
        "\n",
        "# a simple authentication loop\n",
        "\n",
        "username=\"sam\"\n",
        "pwd=\"1517\"\n",
        "\n",
        "ok=0\n",
        "\n",
        "while [ $ok -eq 0 ]; do\n",
        "  read -p \"Username:\" uname\n",
        "  read -p \"Password:\" pass\n",
        "  if [[ $uname -eq $username && $pass -eq $pwd ]]; then\n",
        "    ok=1\n",
        "  else\n",
        "    echo \"Wrong username or password, please try again.\"\n",
        "  fi\n",
        "\n",
        "done\n",
        "\n",
        "if [ $ok -eq 1 ]; then\n",
        "  echo \"Welcome, ${uname}!\"\n",
        "fi"
      ],
      "metadata": {
        "id": "G0ZfsYq0oOC9",
        "colab": {
          "base_uri": "https://localhost:8080/"
        },
        "outputId": "0592a0fb-62d2-43fe-bb55-3195929ddb0f"
      },
      "execution_count": null,
      "outputs": [
        {
          "output_type": "stream",
          "name": "stdout",
          "text": [
            "Username:sam\n",
            "Password:1517\n",
            "Welcome, sam!\n"
          ]
        },
        {
          "output_type": "execute_result",
          "data": {
            "text/plain": []
          },
          "metadata": {},
          "execution_count": 30
        }
      ]
    },
    {
      "cell_type": "markdown",
      "source": [
        "### Interacting with User"
      ],
      "metadata": {
        "id": "v631xgMNoUqw"
      }
    },
    {
      "cell_type": "code",
      "source": [
        "%%shell\n",
        "\n",
        "number=0\n",
        "\n",
        "read -p \"Enter a number:\" number\n",
        "\n",
        "if [ $(($number%2)) -eq 0 ]; then\n",
        "  echo \"Even!\"\n",
        "else\n",
        "  echo \"Odd!\"\n",
        "fi"
      ],
      "metadata": {
        "id": "mBpffzyFoTW8",
        "outputId": "6fc2ff1a-4a31-49b2-e56b-e46e72446057",
        "colab": {
          "base_uri": "https://localhost:8080/"
        }
      },
      "execution_count": null,
      "outputs": [
        {
          "output_type": "stream",
          "name": "stdout",
          "text": [
            "Enter a number:123456789\n",
            "Odd!\n"
          ]
        },
        {
          "output_type": "execute_result",
          "data": {
            "text/plain": []
          },
          "metadata": {},
          "execution_count": 13
        }
      ]
    },
    {
      "cell_type": "markdown",
      "source": [
        "#### Arguments\n",
        "\n",
        "Pass information as arguments to the script.\n",
        "\n",
        "Examples:\n",
        "\n",
        "Followiing examples, `2, 3, 5, and 6 are arguments`\n",
        "\n",
        "    - `sum_of_numbers.c 2 5 4 6`\n",
        "    - `sum_of_numbers.py 2 5 4 6`\n"
      ],
      "metadata": {
        "id": "9rxnDgcRcNd6"
      }
    },
    {
      "cell_type": "code",
      "source": [
        "%%writefile msg.c\n",
        "\n",
        "# include <stdio.h>\n",
        "\n",
        "int main(int argc, char *argv[]){\n",
        "  for(int i = 0; i < argc; i++){\n",
        "    printf(\"%s\\n\", argv[i]);\n",
        "  }\n",
        "  return(0);\n",
        "}"
      ],
      "metadata": {
        "colab": {
          "base_uri": "https://localhost:8080/"
        },
        "id": "hi0i77KaVxSf",
        "outputId": "a7841614-017c-4bb2-defc-3b552fca84c5"
      },
      "execution_count": null,
      "outputs": [
        {
          "output_type": "stream",
          "name": "stdout",
          "text": [
            "Writing msg.c\n"
          ]
        }
      ]
    },
    {
      "cell_type": "code",
      "source": [
        "%%shell\n",
        "\n",
        "gcc msg.c -o msg.out\n",
        "./msg.out \"Hi\" \"This is a program\""
      ],
      "metadata": {
        "id": "vBVfOYrJcPpA",
        "outputId": "d1a33558-b3e5-4d7f-daaf-71bd511fe776",
        "colab": {
          "base_uri": "https://localhost:8080/"
        }
      },
      "execution_count": null,
      "outputs": [
        {
          "output_type": "stream",
          "name": "stdout",
          "text": [
            "./msg.out\n",
            "Hi\n",
            "This is a program\n"
          ]
        },
        {
          "output_type": "execute_result",
          "data": {
            "text/plain": []
          },
          "metadata": {},
          "execution_count": 12
        }
      ]
    },
    {
      "cell_type": "markdown",
      "source": [
        "#### Interactive\n",
        "\n",
        "Prompting- program asks question and user gives answer or data. If user types 'Q' or quit, program stops taking data and presents the result to user.\n",
        "\n",
        "For ex:\n",
        "\n",
        "    - `scanf()` in `c`\n",
        "    - `input()` in `python`"
      ],
      "metadata": {
        "id": "gdz8AR_VoYGV"
      }
    },
    {
      "cell_type": "code",
      "source": [
        "%%writefile interactive.py\n",
        "print(\"Enter the numbers to find the product of.\")\n",
        "prod = 1\n",
        "choice = \" \"\n",
        "while choice not in \"Qquit\":\n",
        "  choice = input(\"Type number, else 'Q' or 'q' or 'quit' to quit:\")\n",
        "  if choice.isdigit():\n",
        "    prod *= int(choice)\n",
        "print(f\"Product:{prod}\")"
      ],
      "metadata": {
        "id": "uQhNLrVLWIqS",
        "colab": {
          "base_uri": "https://localhost:8080/"
        },
        "outputId": "cd861416-0964-42de-f7fd-c319e15588b5"
      },
      "execution_count": null,
      "outputs": [
        {
          "output_type": "stream",
          "name": "stdout",
          "text": [
            "Overwriting interactive.py\n"
          ]
        }
      ]
    },
    {
      "cell_type": "code",
      "source": [
        "%%shell\n",
        "python3 interactive.py"
      ],
      "metadata": {
        "id": "9k63mi0rofB_",
        "colab": {
          "base_uri": "https://localhost:8080/"
        },
        "outputId": "72093c7f-56ea-42f9-a54a-43dc525af7e7"
      },
      "execution_count": null,
      "outputs": [
        {
          "output_type": "stream",
          "name": "stdout",
          "text": [
            "Enter the numbers to find the product of.\n",
            "Type number, else 'Q' or 'q' or 'quit' to quit:1\n",
            "Type number, else 'Q' or 'q' or 'quit' to quit:2\n",
            "Type number, else 'Q' or 'q' or 'quit' to quit:3\n",
            "Type number, else 'Q' or 'q' or 'quit' to quit:4\n",
            "Type number, else 'Q' or 'q' or 'quit' to quit:5\n",
            "Type number, else 'Q' or 'q' or 'quit' to quit:6\n",
            "Type number, else 'Q' or 'q' or 'quit' to quit:q\n",
            "Product:720\n"
          ]
        },
        {
          "output_type": "execute_result",
          "data": {
            "text/plain": []
          },
          "metadata": {},
          "execution_count": 18
        }
      ]
    },
    {
      "cell_type": "markdown",
      "source": [
        "### Conditions\n",
        "\n",
        "Examples\n",
        "\n",
        "- `if`\n",
        "- `if else`\n",
        "- `if else if else`\n",
        "- `tertiary` operator\n",
        "- etc\n"
      ],
      "metadata": {
        "id": "gAJUXgFEb5vD"
      }
    },
    {
      "cell_type": "code",
      "source": [
        "# tertiatry operator"
      ],
      "metadata": {
        "id": "_s8Sv-gsb_Zj"
      },
      "execution_count": null,
      "outputs": []
    },
    {
      "cell_type": "markdown",
      "source": [
        "### Loops\n",
        "\n",
        "Examples\n",
        "\n",
        "- `for`\n",
        "- `while`\n",
        "- `do while`\n",
        "- `switch case`\n",
        "- etc\n",
        "\n"
      ],
      "metadata": {
        "id": "KTGXBIhTb7Zr"
      }
    },
    {
      "cell_type": "code",
      "source": [
        "%%shell\n",
        "# to do : do while and switch case\n",
        "\n",
        "i=1\n",
        "until [[ $i -gt 10 ]]; do\n",
        "  echo $i\n",
        "  i=$(($i+1))\n",
        "done"
      ],
      "metadata": {
        "id": "LmgRYcklcCZA",
        "colab": {
          "base_uri": "https://localhost:8080/"
        },
        "outputId": "3e4730ed-d566-4c4d-d943-44612de9b9f4"
      },
      "execution_count": null,
      "outputs": [
        {
          "output_type": "stream",
          "name": "stdout",
          "text": [
            "1\n",
            "2\n",
            "3\n",
            "4\n",
            "5\n",
            "6\n",
            "7\n",
            "8\n",
            "9\n",
            "10\n"
          ]
        },
        {
          "output_type": "execute_result",
          "data": {
            "text/plain": []
          },
          "metadata": {},
          "execution_count": 32
        }
      ]
    },
    {
      "cell_type": "markdown",
      "source": [
        "### Functions\n",
        "\n",
        "- Function definition\n",
        "- Function with no arguments\n",
        "- Function with no retrun\n",
        "- Function with return\n",
        "- Function with arguments\n",
        "- Function with default arguments\n",
        "- etc\n"
      ],
      "metadata": {
        "id": "21STM_6Ub9HZ"
      }
    },
    {
      "cell_type": "code",
      "source": [
        "%%shell\n",
        "\n",
        "# program to list out all odd numbers in a range given by the user, utilising functions, conditionals and loops\n",
        "check_parity(){\n",
        "  echo $(($1%2))\n",
        "}\n",
        "\n",
        "read -p \"Enter the last number:\" ran\n",
        "\n",
        "# C-style looping (reference)\n",
        "for (( i=0 ; i < $ran ; i++));do\n",
        "  value=$(check_parity $i)\n",
        "  if [ $value -eq 1 ]; then\n",
        "    echo $i\n",
        "  fi\n",
        "done"
      ],
      "metadata": {
        "id": "EY_AFbzhb_vk",
        "colab": {
          "base_uri": "https://localhost:8080/"
        },
        "outputId": "d16aec42-295f-4f83-a2d3-8044b0602693"
      },
      "execution_count": null,
      "outputs": [
        {
          "output_type": "stream",
          "name": "stdout",
          "text": [
            "Enter the last number:10\n",
            "1\n",
            "3\n",
            "5\n",
            "7\n",
            "9\n"
          ]
        },
        {
          "output_type": "execute_result",
          "data": {
            "text/plain": []
          },
          "metadata": {},
          "execution_count": 5
        }
      ]
    },
    {
      "cell_type": "markdown",
      "source": [
        "### Handling files\n",
        "\n",
        "- Reading files\n",
        "- writing files\n",
        "\n"
      ],
      "metadata": {
        "id": "TfE7hdBwuLDt"
      }
    },
    {
      "cell_type": "code",
      "source": [
        "%%writefile smth.txt\n",
        "\n",
        "(Chorus of \"Viva La Vida\" by Coldplay)\n",
        "I hear Jerusalem bells a' ringing\n",
        "Roman cavalry choirs are singing\n",
        "Be my mirror my sword and shield\n",
        "My missionaries in a foreign field\n",
        "For some reason I can't explain\n",
        "I know Saint Peter won't call my name\n",
        "Never an honest word\n",
        "But that was when I ruled the world"
      ],
      "metadata": {
        "colab": {
          "base_uri": "https://localhost:8080/"
        },
        "id": "HhILnoBsgsGU",
        "outputId": "589bb373-735b-4c6b-8cb9-e23b2c983e71"
      },
      "execution_count": null,
      "outputs": [
        {
          "output_type": "stream",
          "name": "stdout",
          "text": [
            "Writing smth.txt\n"
          ]
        }
      ]
    },
    {
      "cell_type": "code",
      "source": [
        "%%shell\n",
        "\n",
        "set -euo pipefail\n",
        "IFS=$'\\n' # so as to print the text in my text file line by line\n",
        "\n",
        "# task: cat the file, print the lines in the file line by line\n",
        "for line in $(cat smth.txt); do\n",
        "  echo $line\n",
        "done\n",
        "\n",
        "echo \"Searching for a specific line\"\n",
        "echo \"-----------------------------\"\n",
        "\n",
        "for line in $(cat smth.txt); do\n",
        "  if [ $line == \"But that was when I ruled the world\" ]; then\n",
        "    echo \"Found the line:'${line}'\"\n",
        "  fi\n",
        "done"
      ],
      "metadata": {
        "id": "KykhRuCpuP5E",
        "colab": {
          "base_uri": "https://localhost:8080/"
        },
        "outputId": "89930151-a4ac-4e0f-97de-10fcf5f345a9"
      },
      "execution_count": null,
      "outputs": [
        {
          "output_type": "stream",
          "name": "stdout",
          "text": [
            "(Chorus of \"Viva La Vida\" by Coldplay)\n",
            "I hear Jerusalem bells a' ringing\n",
            "Roman cavalry choirs are singing\n",
            "Be my mirror my sword and shield\n",
            "My missionaries in a foreign field \n",
            "For some reason I can't explain\n",
            "I know Saint Peter won't call my name\n",
            "Never an honest word\n",
            "But that was when I ruled the world\n",
            "Searching for a specific line\n",
            "-----------------------------\n",
            "Found the line:'But that was when I ruled the world'\n"
          ]
        },
        {
          "output_type": "execute_result",
          "data": {
            "text/plain": []
          },
          "metadata": {},
          "execution_count": 7
        }
      ]
    },
    {
      "cell_type": "markdown",
      "source": [
        "## Standard libraries\n",
        "\n",
        "- list of stard libraries\n",
        "- How to use them?\n",
        "-"
      ],
      "metadata": {
        "id": "3YxXvUmyuWWE"
      }
    },
    {
      "cell_type": "code",
      "source": [],
      "metadata": {
        "id": "DJPSqcU_uYZX"
      },
      "execution_count": null,
      "outputs": []
    },
    {
      "cell_type": "markdown",
      "source": [
        "## Advanced"
      ],
      "metadata": {
        "id": "SINjyO6ZcqIq"
      }
    },
    {
      "cell_type": "markdown",
      "source": [
        "### Arrays"
      ],
      "metadata": {
        "id": "DHYHF50LGSRP"
      }
    },
    {
      "cell_type": "code",
      "source": [
        "%%shell\n",
        "\n",
        "# printing contents in an array (not exactly, tbh)\n",
        "for i in {1..10..1}; do\n",
        "  echo $i\n",
        "done"
      ],
      "metadata": {
        "id": "C1rw_fnCbTEN",
        "colab": {
          "base_uri": "https://localhost:8080/"
        },
        "outputId": "20c25505-6997-41c0-d548-f223e94e8463"
      },
      "execution_count": null,
      "outputs": [
        {
          "output_type": "stream",
          "name": "stdout",
          "text": [
            "1\n",
            "2\n",
            "3\n",
            "4\n",
            "5\n",
            "6\n",
            "7\n",
            "8\n",
            "9\n",
            "10\n"
          ]
        },
        {
          "output_type": "execute_result",
          "data": {
            "text/plain": []
          },
          "metadata": {},
          "execution_count": 21
        }
      ]
    },
    {
      "cell_type": "code",
      "source": [
        "%%shell\n",
        "# more array examples, especially manipulation\n",
        "array=(\"Joji\" \"Coldplay\" \"Bastille\" \"Gotye\")\n",
        "\n",
        "echo \"Earlier my favourite artists used to be :${array[0]}, ${array[1]}, ${array[2]} and ${array[3]}.\"\n",
        "array[3]=\"Eminem\"\n",
        "echo \"Now, my favourite artists are :${array[0]}, ${array[1]}, ${array[2]} and ${array[3]}.\""
      ],
      "metadata": {
        "colab": {
          "base_uri": "https://localhost:8080/"
        },
        "id": "UWDiW3WLiJCT",
        "outputId": "13bc611d-cf78-4401-ec3c-30e32a661e8c"
      },
      "execution_count": null,
      "outputs": [
        {
          "output_type": "stream",
          "name": "stdout",
          "text": [
            "Earlier my favourite artists used to be :Joji, Coldplay, Bastille and Gotye.\n",
            "Now, my favourite artists are :Joji, Coldplay, Bastille and Eminem.\n"
          ]
        },
        {
          "output_type": "execute_result",
          "data": {
            "text/plain": []
          },
          "metadata": {},
          "execution_count": 8
        }
      ]
    },
    {
      "cell_type": "markdown",
      "source": [
        "### Alias"
      ],
      "metadata": {
        "id": "S3ZSyZtHGVFO"
      }
    },
    {
      "cell_type": "code",
      "source": [],
      "metadata": {
        "id": "ALYTVxR9GUz_"
      },
      "execution_count": null,
      "outputs": []
    },
    {
      "cell_type": "markdown",
      "source": [
        "### Grep/Sed/awk with RegEx"
      ],
      "metadata": {
        "id": "HaMfAJ9YGfaB"
      }
    },
    {
      "cell_type": "code",
      "source": [
        "# do it, Sam!"
      ],
      "metadata": {
        "id": "PBWmCBY9GfCV"
      },
      "execution_count": null,
      "outputs": []
    },
    {
      "cell_type": "markdown",
      "source": [
        "## Best Practices"
      ],
      "metadata": {
        "id": "t0e22kzJcW1I"
      }
    },
    {
      "cell_type": "markdown",
      "source": [
        "### Shebang and File Extension\n",
        "\n",
        "1. **Purpose of Shebang**\n",
        "   - The shebang (`#!`) at the beginning of a script specifies which program should execute the script. Not having a shebang can cause issues during execution.\n",
        "   ```bash\n",
        "   #!/bin/bash\n",
        "   echo \"Hello, World!\"\n",
        "   ```\n",
        "\n",
        "2. **Importance of Shebang**\n",
        "   - Without a shebang, you might need to manually specify the shell to execute the script, which can be problematic if the script uses specific syntax from shells like bash or zsh.\n",
        "   ```bash\n",
        "   #!/bin/bash\n",
        "   for i in {1..5}; do\n",
        "       echo \"Number $i\"\n",
        "   done\n",
        "   ```\n",
        "\n",
        "3. **Using `env` for Portability**\n",
        "   - Instead of hardcoding the absolute path of the shell binary, use `env` to find the shell. This ensures compatibility across different operating systems where the shell might be located in different paths.\n",
        "   ```bash\n",
        "   #!/usr/bin/env bash\n",
        "   echo \"This script is portable!\"\n",
        "   ```\n",
        "\n",
        "4. **Shell Selection**\n",
        "   - Avoid using the shell with the most features by default. While most systems have `sh` and `bash`, they might not have `zsh` or other shells. Start with `sh` and switch to `bash` if you need more advanced or non-POSIX syntax.\n",
        "   ```sh\n",
        "   #!/usr/bin/env sh\n",
        "   echo \"Using sh for compatibility\"\n",
        "   ```\n",
        "\n",
        "5. **Avoid Passing Arguments in Shebang**\n",
        "   - Do not pass arguments to your shell in the shebang. It will result in undesired behavior as everything following the first whitespace will be considered as the first argument.\n",
        "   ```bash\n",
        "   #!/usr/bin/env bash -e  # Incorrect\n",
        "   #!/usr/bin/env bash\n",
        "   set -e  # Correct way to set options\n",
        "   ```\n",
        "\n",
        "6. **File Extension Usage**\n",
        "   - The file extension does not determine the interpreter; the shebang does. However, using extensions like `.sh`, `.bash`, or `.zsh` can help distinguish scripts and make them easier to find.\n",
        "   ```bash\n",
        "   #!/usr/bin/env bash\n",
        "   echo \"File extension is just a clue!\"\n",
        "   ```\n",
        "\n",
        "7. **Starting with `sh`**\n",
        "   - Begin with `sh` for maximum compatibility and switch to `bash` if you need more advanced features.\n",
        "   ```sh\n",
        "   #!/usr/bin/env sh\n",
        "   echo \"Starting with sh\"\n",
        "   ```\n",
        "\n",
        "8. **Switching to `bash`**\n",
        "   - Use `bash` if `sh` is not sufficient for your script's needs.\n",
        "   ```bash\n",
        "   #!/usr/bin/env bash\n",
        "   echo \"Switching to bash for advanced features\"\n",
        "   ```\n",
        "\n",
        "9. **Using `zsh`**\n",
        "   - Only use `zsh` if you need features that `bash` does not provide, but be aware that not all systems have `zsh` installed.\n",
        "   ```zsh\n",
        "   #!/usr/bin/env zsh\n",
        "   echo \"Using zsh for specific features\"\n",
        "   ```\n",
        "\n",
        "10. **Finding Scripts by Extension**\n",
        "    - Adding an extension like `.sh` allows for easy identification and searching of scripts.\n",
        "    ```bash\n",
        "    find . -name '*.sh'\n",
        "    ```\n",
        "\n",
        "Would you like more details or examples on any of these points?"
      ],
      "metadata": {
        "id": "wF9khYBo0ygT"
      }
    },
    {
      "cell_type": "code",
      "source": [],
      "metadata": {
        "id": "emrfPszi0-Lu"
      },
      "execution_count": null,
      "outputs": []
    },
    {
      "cell_type": "markdown",
      "source": [
        "### Arguments"
      ],
      "metadata": {
        "id": "9WF-X9tv1ZPr"
      }
    },
    {
      "cell_type": "markdown",
      "source": [
        "**Arguments**\n",
        "\n",
        "You can always handle arguments very easily, with a piece of code like this:\n",
        "```bash\n",
        "#!/usr/bin/env sh\n",
        "\n",
        "SOME_PARAM=\"$1\"\n",
        "OTHER_PARAM=\"$2\"\n",
        "```"
      ],
      "metadata": {
        "id": "Wn_a3zDX1a72"
      }
    },
    {
      "cell_type": "code",
      "source": [
        "%%writefile arguments.sh\n",
        "\n",
        "echo \"Number of args supplied:$#\"\n",
        "\n",
        "# $# -> gives argument count (i.e., argc- 1)\n",
        "\n",
        "# $@ takes all the arguments to the script separatey (unlike $* - gives the whole list of arguments as a single argument item)\n",
        "for item in $@; do\n",
        "  echo \"Argument supplied:${item}\"\n",
        "done"
      ],
      "metadata": {
        "id": "tP4zGtL41ZC0",
        "colab": {
          "base_uri": "https://localhost:8080/"
        },
        "outputId": "f2218ed7-192c-40fd-9842-3dda82b1d564"
      },
      "execution_count": null,
      "outputs": [
        {
          "output_type": "stream",
          "name": "stdout",
          "text": [
            "Overwriting arguments.sh\n"
          ]
        }
      ]
    },
    {
      "cell_type": "code",
      "source": [
        "!chmod u+x arguments.sh\n",
        "!./arguments.sh foo bar baz"
      ],
      "metadata": {
        "colab": {
          "base_uri": "https://localhost:8080/"
        },
        "id": "H29PT8iWlaQO",
        "outputId": "acec73e2-afad-49a8-baa9-a668facb3daa"
      },
      "execution_count": null,
      "outputs": [
        {
          "output_type": "stream",
          "name": "stdout",
          "text": [
            "Number of args supplied:3\n",
            "Argument supplied:foo\n",
            "Argument supplied:bar\n",
            "Argument supplied:baz\n"
          ]
        }
      ]
    },
    {
      "cell_type": "markdown",
      "source": [
        "### Functions\n"
      ],
      "metadata": {
        "id": "pmC82uez1n5y"
      }
    },
    {
      "cell_type": "markdown",
      "source": [
        "**Use functions!**\n",
        "\n",
        "\n",
        "- Apply the Single Responsibility Principle: a function does one thing.\n",
        "- Don’t mix levels of abstraction\n",
        "- Create functions with a meaningful name for complex tests\n",
        "- Describe the usage of each function: number of arguments, return value, output\n",
        "- Declare variables with a meaningful name for positional parameters of functions\n",
        "\n",
        "```bash\n",
        "    foo() {\n",
        "        local first_arg=\"${1}\"\n",
        "        local second_arg=\"${2}\"\n",
        "        [...]\n",
        "    }\n",
        "```\n",
        "- Cleanup code:  An idiom for tasks that need to be done before the script ends (e.g. removing temporary files, etc.). The exit status of the script is the status of the last statement before the finish function.\n",
        "\n",
        "```bash\n",
        "inish() {\n",
        "    result=$?\n",
        "    # Your cleanup code here\n",
        "    exit ${result}\n",
        "}\n",
        "trap finish EXIT ERR\n",
        "```"
      ],
      "metadata": {
        "id": "8GPOIo9t1pze"
      }
    },
    {
      "cell_type": "code",
      "source": [],
      "metadata": {
        "id": "EO5nIZdq1nuo"
      },
      "execution_count": null,
      "outputs": []
    },
    {
      "cell_type": "markdown",
      "source": [
        "### Variables and subshells\n",
        "\n",
        "1. **Variable Naming Convention**\n",
        "   - Use capital letters, underscores, and digits for variable names to avoid confusion with functions and commands.\n",
        "   ```bash\n",
        "   MY_VARIABLE=10\n",
        "   ```\n",
        "\n",
        "2. **Common Practice for Variable Names**\n",
        "   - Good practice suggests using lowercase for variable names to prevent collisions with environment variables.\n",
        "   ```bash\n",
        "   my_variable=10\n",
        "   ```\n",
        "\n",
        "3. **Declaring Variables Early**\n",
        "   - Declare variables at the beginning of the script or function for clarity, except for loop variables.\n",
        "   ```bash\n",
        "   MY_VAR=10\n",
        "   for i in {1..5}; do\n",
        "       echo \"Loop variable $i\"\n",
        "   done\n",
        "   ```\n",
        "\n",
        "4. **Minimize Temporary Variables**\n",
        "   - Avoid using too many temporary variables; instead, use subshells and pipes.\n",
        "   ```bash\n",
        "   result=$(command | grep \"pattern\")\n",
        "   ```\n",
        "\n",
        "5. **Subshells Usage**\n",
        "   - Use subshells as much as possible to avoid temporary variables.\n",
        "   ```bash\n",
        "   (cd /tmp && ls)\n",
        "   ```\n",
        "\n",
        "6. **Backticks for Subshells**\n",
        "   - Backticks can be used for subshells but are less readable and harder to nest.\n",
        "   ```bash\n",
        "   result=`command`\n",
        "   ```\n",
        "\n",
        "7. **Preferred Subshell Syntax**\n",
        "   - Use `$(command)` for subshells as it supports nesting and is more readable.\n",
        "   ```bash\n",
        "   result=$(command)\n",
        "   nested_result=$(echo $(command))\n",
        "   ```\n",
        "\n",
        "8. **Avoid Subshells in `sh`**\n",
        "   - Avoid using `$(command)` syntax with `sh` as it was not initially supported by the traditional Bourne shell.\n",
        "   ```sh\n",
        "   result=`command`  # Use backticks in sh\n",
        "   ```\n",
        "\n",
        "9. **Combining Subshells with Pipes**\n",
        "   - Combine subshells with pipes to streamline commands and reduce temporary variables.\n",
        "   ```bash\n",
        "   result=$(command | grep \"pattern\")\n",
        "   ```\n",
        "\n",
        "10. **Temporary Variables in Subshells**\n",
        "    - Use subshells to set temporary variables without affecting the parent shell.\n",
        "    ```bash\n",
        "    MY_VAR=10\n",
        "    (MY_VAR=20; echo $MY_VAR)  # Outputs 20\n",
        "    echo $MY_VAR  # Outputs 10\n",
        "    ```\n",
        "\n",
        "**Example**\n",
        "\n",
        "```bash\n",
        "#!/usr/bin/env bash\n",
        "\n",
        "# Code showing two methods for calculating the total size of all GIF\n",
        "# files found recursively from the current directory.\n",
        "\n",
        "# Method 1: Without intelligent use of subshells or piping\n",
        "TMP_FILE=gifs.tmp\n",
        "find . -name '*.gif' > $TMP_FILE\n",
        "\n",
        "GIFS_TOTAL_1=0\n",
        "while read l; do\n",
        "    SIZE=`stat -c%s $l`\n",
        "    GIFS_TOTAL_1=$(($GIFS_TOTAL_1 + $SIZE))\n",
        "done <$TMP_FILE\n",
        "\n",
        "rm $TMP_FILE\n",
        "\n",
        "# Method 2: One liner using subshells and piping\n",
        "GIFS_TOTAL_2=$(stat -c%s $(find . -name '*.gif') | paste -s -d+ | bc)\n",
        "```\n",
        "\n",
        "**Source: ***\n",
        "- Linux Subshells for Beginners With Examples. https://linuxconfig.org/linux-subshells-for-beginners-with-examples.\n",
        "- Shell Scripting - Subshell - GeeksforGeeks. https://www.geeksforgeeks.org/shell-scripting-subshell/.\n",
        "- Bash-Best-practices - GitHub. https://github.com/imoisharma/bash_best_practices.\n",
        "- shell - When are bash variables exported to subshells and/or accessible .... https://stackoverflow.com/questions/51903718/when-are-bash-variables-exported-to-subshells-and-or-accessible-by-scripts."
      ],
      "metadata": {
        "id": "pNVHOxvT2ESN"
      }
    },
    {
      "cell_type": "code",
      "source": [],
      "metadata": {
        "id": "8xDcxoWX3HMk"
      },
      "execution_count": null,
      "outputs": []
    },
    {
      "cell_type": "markdown",
      "source": [
        "### The set builtin\n",
        "\n",
        " Using it will allow you to alter the shell’s behavior in order to facilitate debugging or make sure commands are executed the way they are intended to.\n"
      ],
      "metadata": {
        "id": "k0O_lSXO3HhN"
      }
    },
    {
      "cell_type": "code",
      "source": [],
      "metadata": {
        "id": "TTCyv5vI3V_x"
      },
      "execution_count": null,
      "outputs": []
    },
    {
      "cell_type": "markdown",
      "source": [
        "### Unofficial Bash strict mode\n",
        "\n",
        "Ref: [Aron Maxwell Blog](http://redsymbol.net/articles/unofficial-bash-strict-mode/)\n",
        "\n",
        "\n",
        "In order to get a “stricter” bash, you can use a two-line trick that will most likely help the writing of your scripts.\n",
        "\n",
        "```bash\n",
        "#!/usr/bin/env bash\n",
        "\n",
        "set -euo pipefail\n",
        "IFS=$'\\n\\t'\n",
        "```\n",
        "\n",
        "- `set -e` makes the script exit if a command fails (exit code different from 0). It can help find invisible errors before the script is used in a production environment.\n",
        "- `set -u` makes the script exit if a referenced variable is not declared. Pretty useful since an undeclared variable can be mistaken for an empty one.\n",
        "- `set -o` pipefail affects pipes to once again avoid invisible errors. If one command in a pipeline fails, its exit code will be returned as the result of the whole pipeline. As you can imagine, it makes debugging a lot easier when combined with -e. \\\n",
        "- `N.B. This option is not recognized by the Bourne shell.\n",
        "- `IFS` stands for Internal Field Separator. Each character it contains will be used as a delimiter when splitting a string (in a for loop for instance). N.B. Default IFS for zsh is: $' \\n\\t\\0'\n"
      ],
      "metadata": {
        "id": "Uh67U3V23WiV"
      }
    },
    {
      "cell_type": "code",
      "source": [],
      "metadata": {
        "id": "xyZooplO3HJu"
      },
      "execution_count": null,
      "outputs": []
    },
    {
      "cell_type": "code",
      "source": [],
      "metadata": {
        "id": "IPA-rxpt3G7N"
      },
      "execution_count": null,
      "outputs": []
    },
    {
      "cell_type": "code",
      "source": [],
      "metadata": {
        "id": "w6B7dvE93WFF"
      },
      "execution_count": null,
      "outputs": []
    },
    {
      "cell_type": "markdown",
      "source": [
        "**Notes**\n",
        "\n",
        "- Shebang\n",
        "\n",
        "    1. **Purpose of Shebang**\n",
        "    - The shebang (`#!`) at the beginning of a script specifies which program should execute the script. Not having a shebang can cause issues during execution.\n",
        "    ```bash\n",
        "    #!/bin/bash\n",
        "    echo \"Hello, World!\"\n",
        "    ```\n",
        "\n",
        "    2. **Importance of Shebang**\n",
        "    - Without a shebang, you might need to manually specify the shell to execute the script, which can be problematic if the script uses specific syntax from shells like bash or zsh.\n",
        "    ```bash\n",
        "    #!/bin/bash\n",
        "    for i in {1..5}; do\n",
        "        echo \"Number $i\"\n",
        "    done\n",
        "    ```\n",
        "\n",
        "    3. **Using `env` for Portability**\n",
        "    - Instead of hardcoding the absolute path of the shell binary, use `env` to find the shell. This ensures compatibility across different operating systems where the shell might be located in different paths.\n",
        "    ```bash\n",
        "    #!/usr/bin/env bash\n",
        "    echo \"This script is portable!\"\n",
        "    ```\n",
        "\n",
        "    4. **Shell Selection**\n",
        "    - Avoid using the shell with the most features by default. While most systems have `sh` and `bash`, they might not have `zsh` or other shells. Start with `sh` and switch to `bash` if you need more advanced or non-POSIX syntax.\n",
        "    ```sh\n",
        "    #!/bin/sh\n",
        "    echo \"Using sh for compatibility\"\n",
        "    ```\n",
        "\n",
        "    5. **File Extension Irrelevance**\n",
        "    - The file extension does not determine the interpreter; the shebang does. However, the extension can provide a visible clue about the script's purpose.\n",
        "    ```bash\n",
        "    #!/bin/bash\n",
        "    echo \"File extension is just a clue!\"\n",
        "    ```\n",
        "-"
      ],
      "metadata": {
        "id": "ykENRv_SzdXX"
      }
    },
    {
      "cell_type": "code",
      "source": [
        "!printf \"${red}!!! %s${reset}\\\\n\" \"${*}\" 1>&2"
      ],
      "metadata": {
        "id": "NyIkUV4Z3Eur",
        "colab": {
          "base_uri": "https://localhost:8080/"
        },
        "outputId": "d6a6c494-d5a4-4cf6-f10b-2299dd2f35df"
      },
      "execution_count": 65,
      "outputs": [
        {
          "output_type": "stream",
          "name": "stdout",
          "text": [
            "!!! \n"
          ]
        }
      ]
    },
    {
      "cell_type": "markdown",
      "source": [],
      "metadata": {
        "id": "GCJoQq593FWe"
      }
    },
    {
      "cell_type": "markdown",
      "source": [
        "**Refs:**\n",
        "- [Bash best practices](https://bertvv.github.io/cheat-sheets/Bash.html)\n",
        "- [Good practices for writing shell scripts](https://yoone.eu/article/good-practices-for-writing-shell-scripts/)\n",
        "- [Bash shell-scripting libraries](https://dberkholz.com/2011/04/07/bash-shell-scripting-libraries/)\n",
        "\n",
        "**Notes**\n",
        "\n",
        "- Prefer local variables within functions over global variables\n",
        "- If you need global variables, make them readonly\n",
        "- Variables should always be referred to in the `${var}` form (as opposed to `$var`).\n",
        "- Variables should always be quoted, especially if their value may contain a whitespace or separator character: `\"${var}\"`\n",
        "- Capitalization:\n",
        "    - Environment (exported) variables: `${ALL_CAPS}`\n",
        "    - Local variables: `${lower_case}`\n",
        "- Always use $(cmd) for command substitution (as opposed to backquotes)\n",
        "- Prepend a command with \\ to override alias/builtin lookup. E.g.:\n",
        "```bash\n",
        "$ \\time bash -c \"dnf list installed | wc -l\"\n",
        "```\n",
        "\n",
        "- printf is preferable to echo. printf gives more control over the output, it’s more portable and its behaviour is defined better.\n",
        "Ex: Print error messages on stderr. E.g.\n",
        "```bash\n",
        "error() {\n",
        "    printf \"${red}!!! %s${reset}\\\\n\" \"${*}\" 1>&2\n",
        "  }\n",
        "```\n",
        "- When combining a sudo command with redirection, it’s important to realize that the root permissions only apply to the command, not to the part after the redirection operator.\n",
        "\n",
        "An example where a script needs to write to a file that’s only writeable as root:\n",
        "\n",
        "```bash\n",
        "# this won't work:\n",
        "  sudo printf \"...\" > /root/some_file\n",
        "\n",
        "  # this will:\n",
        "  printf \"...\" | sudo tee /root/some_file > /dev/null\n",
        "```\n",
        "- functions\n",
        "    - Apply the Single Responsibility Principle: a function does one thing.\n",
        "    - Don’t mix levels of abstraction\n",
        "    - Create functions with a meaningful name for complex tests\n",
        "    - Describe the usage of each function: number of arguments, return value, output\n",
        "    - Declare variables with a meaningful name for positional parameters of functions\n",
        "\n",
        "    ```bash\n",
        "     foo() {\n",
        "        local first_arg=\"${1}\"\n",
        "        local second_arg=\"${2}\"\n",
        "        [...]\n",
        "    }\n",
        "    ```\n",
        "    - Cleanup code:  An idiom for tasks that need to be done before the script ends (e.g. removing temporary files, etc.). The exit status of the script is the status of the last statement before the finish function.\n",
        "\n",
        "    ```bash\n",
        "    inish() {\n",
        "        result=$?\n",
        "        # Your cleanup code here\n",
        "        exit ${result}\n",
        "    }\n",
        "    trap finish EXIT ERR\n",
        "    ```\n",
        "- Writing robust scripts and debugging\n",
        "    - Bash is not very easy to debug. There’s no built-in debugger like you have with other programming languages. By default, undefined variables are interpreted as empty strings, which can cause problems further down the line. A few tips that may help:\n",
        "    - Always check for syntax errors by running the script with bash -n myscript.sh\n",
        "    - Use ShellCheck and fix all warnings. This is a static code analyzer that can find a lot of common bugs in shell scripts. Integrate ShellCheck in your text editor (e.g. Syntastic plugin in Vim)\n",
        "    - Abort the script on errors and undbound variables. Put the following code at the beginning of each script.\n",
        "    ```bash\n",
        "        set -o errexit   # abort on nonzero exitstatus\n",
        "        set -o nounset   # abort on unbound variable\n",
        "        set -o pipefail  # don't hide errors within pipes\n",
        "    ```\n",
        "    - A shorter version is shown below, but writing it out makes the script more readable.\n",
        "    ```bash\n",
        "        set -euo pipefail\n",
        "    ```\n",
        "    - Use Bash’s debug output feature. This will print each statement after applying all forms of substitution (parameter/command substitution, brace expansion, globbing, etc.)\n",
        "    - Run the script with `bash -x myscript.sh`\n",
        "    - Put set -x at the top of the script\n",
        "    - If you only want debug output in a specific section of the script, put `set -x` before and `set +x` after the section.\n",
        "    - Write lots of log messages to stdout or stderr so it’s easier to drill down to what part of the script contains problematic code.\n",
        "    - Use [`bashdb`](http://bashdb.sourceforge.net/)\n",
        "-\n"
      ],
      "metadata": {
        "id": "4Nte5-5YuHQS"
      }
    },
    {
      "cell_type": "code",
      "source": [],
      "metadata": {
        "id": "1NZ7u3W8cbDt"
      },
      "execution_count": null,
      "outputs": []
    },
    {
      "cell_type": "markdown",
      "source": [
        "## Miscellinious"
      ],
      "metadata": {
        "id": "kmiB1_wXcbZe"
      }
    },
    {
      "cell_type": "code",
      "source": [
        "%%shell\n",
        "\n",
        "for i in $(ls)\n",
        "do\n",
        "  echo $i\n",
        "done"
      ],
      "metadata": {
        "id": "m_ID36gfcdrp",
        "colab": {
          "base_uri": "https://localhost:8080/"
        },
        "outputId": "ff64753b-8d55-4eb5-c066-0e14eb8d4afd"
      },
      "execution_count": null,
      "outputs": [
        {
          "output_type": "stream",
          "name": "stdout",
          "text": [
            "interactive.py\n",
            "msg.c\n",
            "msg.out\n",
            "sample_data\n",
            "script.sh\n"
          ]
        },
        {
          "output_type": "execute_result",
          "data": {
            "text/plain": []
          },
          "metadata": {},
          "execution_count": 19
        }
      ]
    },
    {
      "cell_type": "markdown",
      "source": [
        "## Applications"
      ],
      "metadata": {
        "id": "opeyFMsrcep6"
      }
    },
    {
      "cell_type": "code",
      "source": [
        "%%writefile args.sh\n",
        "\n",
        "#!/usr/bin/env bash\n",
        "\n",
        "appname=$1"
      ],
      "metadata": {
        "id": "jD-5VUfPcg74",
        "colab": {
          "base_uri": "https://localhost:8080/"
        },
        "outputId": "d7529590-8153-47f2-e0bb-dfdbdef737c9"
      },
      "execution_count": null,
      "outputs": [
        {
          "output_type": "stream",
          "name": "stdout",
          "text": [
            "Overwriting args.sh\n"
          ]
        }
      ]
    },
    {
      "cell_type": "code",
      "source": [
        "!chmod u+x args.sh\n",
        "!./args.sh foo bar baz"
      ],
      "metadata": {
        "colab": {
          "base_uri": "https://localhost:8080/"
        },
        "id": "W_PP3_90tN6f",
        "outputId": "707fea79-2b45-4688-93c3-b76fc5b9c3dc"
      },
      "execution_count": null,
      "outputs": [
        {
          "output_type": "stream",
          "name": "stdout",
          "text": [
            "foo bar baz[1]\n"
          ]
        }
      ]
    },
    {
      "cell_type": "markdown",
      "source": [
        "## Projects"
      ],
      "metadata": {
        "id": "vTdA1s0KbQum"
      }
    },
    {
      "cell_type": "markdown",
      "source": [
        "### 1. project1\n",
        "\n",
        "1. path as argument\n",
        "2. read contents of the path\n",
        "3. count number of letters in the file/folder name\n",
        "4. check if the number is even or odd\n",
        "5. print message\n",
        "    ```\n",
        "    #folder\n",
        "    folder: <name> : EVEN/ODD\n",
        "    #file\n",
        "    file: <name> : EVEN/ODD\n",
        "    ```\n"
      ],
      "metadata": {
        "id": "bh2FYPv1jg0A"
      }
    },
    {
      "cell_type": "code",
      "source": [
        "%%writefile script.sh\n",
        "\n",
        "#!/usr/bin/env bash\n",
        "path=$(ls $1)\n",
        "\n",
        "check_parity(){\n",
        "  # hint : use different variable names to avoid ambiguity, eg. using $1 for the script argument and the function argument is\n",
        "  # gonna result in the wrong result ; hence I used $@ (one can also use %*) instead of $1\n",
        "  if [[ $(($@%2)) == 0 ]]; then\n",
        "    echo \"EVEN\"\n",
        "  else\n",
        "    echo \"ODD\"\n",
        "  fi\n",
        "}\n",
        "for item in $path; do\n",
        "  if [[ -d $item ]]; then\n",
        "    echo \"folder: ${item} : $(check_parity ${#item})\"\n",
        "  else\n",
        "    echo \"file: ${item} : $(check_parity ${#item})\"\n",
        "  fi\n",
        "done"
      ],
      "metadata": {
        "colab": {
          "base_uri": "https://localhost:8080/"
        },
        "id": "30YkjLFrqMAK",
        "outputId": "8d34058b-cafe-4eef-bf68-ef7cdf6a7c96"
      },
      "execution_count": null,
      "outputs": [
        {
          "output_type": "stream",
          "name": "stdout",
          "text": [
            "Overwriting script.sh\n"
          ]
        }
      ]
    },
    {
      "cell_type": "code",
      "source": [
        "!chmod u+x ./script.sh\n",
        "!./script.sh ."
      ],
      "metadata": {
        "id": "naBJqGwrj8uN",
        "colab": {
          "base_uri": "https://localhost:8080/"
        },
        "outputId": "80c9261b-692f-4de4-f93a-c3ee8d7f76f2"
      },
      "execution_count": null,
      "outputs": [
        {
          "output_type": "stream",
          "name": "stdout",
          "text": [
            "file: interactive.py : EVEN\n",
            "file: msg.c : ODD\n",
            "file: msg.out : ODD\n",
            "folder: sample_data : ODD\n",
            "file: script.sh : ODD\n"
          ]
        }
      ]
    },
    {
      "cell_type": "markdown",
      "source": [
        "### 2. Django project wrapper"
      ],
      "metadata": {
        "id": "K50ijsR0j9Hv"
      }
    },
    {
      "cell_type": "markdown",
      "source": [
        "Create project structure similar to django [python framework] project\n",
        "\n",
        "#### Guidelines\n",
        "\n",
        "1. Read arguments\n",
        "    - First argument: project name\n",
        "    - all other arguments: apps\n",
        "2. All files in the folders are empty.\n",
        "3. Ignore files and folders (do not create)\n",
        "    - `__pycache__`\n",
        "    - `*.pyc`\n",
        "3. Following command should create the project structure as shown in the image.\n",
        "\n",
        "```bash\n",
        "$ ./create_django_project.sh projectName appOne appTwo appThree\n",
        "```\n",
        "4. Project structure\n",
        "\n",
        "<!-- ![Django Project Strue](https://drive.google.com/uc?id=1e2RFmRR8Rg1iNfOkTEfjT4UIEFgQ65kf) -->\n",
        "\n",
        "<p align=center>\n",
        "<img src=\"https://drive.google.com/uc?id=1e2RFmRR8Rg1iNfOkTEfjT4UIEFgQ65kf\" alt=\"django project structure\">\n",
        "</p>"
      ],
      "metadata": {
        "id": "V31fvLEwp1U3"
      }
    },
    {
      "cell_type": "code",
      "source": [
        "%%writefile create_django_project.sh\n",
        "\n",
        "#!/usr/bin/env bash\n",
        "\n",
        "# reading the arguments\n",
        "\n",
        "declare -A project\n",
        "counter=0\n",
        "\n",
        "# parsing the command line arguments into the project skeleton\n",
        "\n",
        "printf \"${green}!!! Project build initialising...!!!${reset}\\\\n\"\n",
        "for item in $@; do\n",
        "  # echo \"$item\"\n",
        "  if [ $counter -eq 0 ]; then\n",
        "    project[\"projectName\"]=\"$item\"\n",
        "    counter=$(($counter+1))\n",
        "    echo \"Project name:${project[\"projectName\"]}\"\n",
        "  else\n",
        "    project[\"app$counter\"]=\"$item\"\n",
        "    echo \"|----App name:${project[\"app$counter\"]}\"\n",
        "    counter=$(($counter+1))\n",
        "  fi\n",
        "done\n",
        "\n",
        "mkdir -p ./${project[\"projectName\"]}/${project[\"projectName\"]}\n",
        "\n",
        "app_deps=(\"__init__.py\" \"admin.py\" \"apps.py\" \"models.py\" \"tests.py\" \"views.py\")\n",
        "proj_deps=(\"__init__.py\" \"settings.py\" \"urls.py\" \"wsgi.py\" \"asgi.py\")\n",
        "for (( i=1; i<counter; i++ )); do\n",
        "  app_path=${project[\"projectName\"]}/${project[\"app${i}\"]}\n",
        "  mkdir -p ./$app_path\n",
        "  for (( j=0 ; j < ${#app_deps[@]} ; j++ )); do\n",
        "    touch ./$app_path/${app_deps[$j]}\n",
        "  done\n",
        "  mkdir -p ./$app_path/migrations/\n",
        "  touch ./$app_path/migrations/__init__.py\n",
        "done\n",
        "\n",
        "proj_path=${project[\"projectName\"]}\n",
        "for (( j=0 ; j < ${#proj_deps[@]} ; j++ )); do\n",
        "  touch ./$proj_path/$proj_path/${proj_deps[$j]}\n",
        "done\n",
        "\n"
      ],
      "metadata": {
        "colab": {
          "base_uri": "https://localhost:8080/"
        },
        "id": "yoxS-6mVs1KI",
        "outputId": "3a26479e-4d4e-48b7-d26c-451548d1fe5c"
      },
      "execution_count": 66,
      "outputs": [
        {
          "output_type": "stream",
          "name": "stdout",
          "text": [
            "Overwriting create_django_project.sh\n"
          ]
        }
      ]
    },
    {
      "cell_type": "code",
      "source": [
        "!chmod u+x create_django_project.sh\n",
        "!./create_django_project.sh projectName appOne appTwo appThree"
      ],
      "metadata": {
        "id": "xPYo5qzGcuiC",
        "colab": {
          "base_uri": "https://localhost:8080/"
        },
        "outputId": "05c17613-861e-4261-91a7-7ae7da3ab984"
      },
      "execution_count": 68,
      "outputs": [
        {
          "output_type": "stream",
          "name": "stdout",
          "text": [
            "!!! Project build initialising...!!!\n",
            "Project name:projectName\n",
            "|----App name:appOne\n",
            "|----App name:appTwo\n",
            "|----App name:appThree\n"
          ]
        }
      ]
    },
    {
      "cell_type": "code",
      "source": [
        "!rm -rf projectName"
      ],
      "metadata": {
        "id": "sHqeLHSTCcly"
      },
      "execution_count": 67,
      "outputs": []
    },
    {
      "cell_type": "markdown",
      "source": [
        "### 3. Express Project Structure"
      ],
      "metadata": {
        "id": "tRG2BxXxssZ7"
      }
    },
    {
      "cell_type": "code",
      "source": [
        "# done already :)"
      ],
      "metadata": {
        "id": "uKWwSiomsvuI"
      },
      "execution_count": null,
      "outputs": []
    },
    {
      "cell_type": "markdown",
      "source": [
        "Project Guidelines\n",
        "\n",
        "\n",
        "\n",
        "\n",
        "Create project structure similar to express [nodels framework] project\n",
        "\n",
        "#### Guidelines\n",
        "\n",
        "1. Read arguments\n",
        "    - First argument: project name\n",
        "2. All files in the folders are empty.\n",
        "3. Following command should create the project structure as shown in the image\n",
        "\n",
        "```bash\n",
        "$ ./create_express_project.sh ExpProjectName\n",
        "```\n",
        "4. Project structure\n",
        "\n",
        "<!--\n",
        "https://drive.google.com/file/d/16HzF3QfSsyyrd4VG4OXwEdOFqP-xuhjg/view?usp=drive_link\n",
        " -->\n",
        "<!-- ![Django Project Strue](https://drive.google.com/uc?id=16HzF3QfSsyyrd4VG4OXwEdOFqP-xuhjg) -->\n",
        "\n",
        "<p align=center>\n",
        "<img src=\"https://drive.google.com/uc?id=16HzF3QfSsyyrd4VG4OXwEdOFqP-xuhjg\" alt=\"django project structure\">\n",
        "</p>"
      ],
      "metadata": {
        "id": "V-kYMoLHswWS"
      }
    },
    {
      "cell_type": "code",
      "source": [
        "%%writefile create_express_project.sh\n",
        "\n",
        "#!/usr/bin/env bash\n",
        "\n",
        "# I'm avoiding pipelines here for systematicity\n",
        "# project directory\n",
        "prj=$1\n",
        "\n",
        "#main dir items:\n",
        "main_file_items=('app.js' 'package.json')\n",
        "main_dir_items=('bin' 'public' 'routes' 'views')\n",
        "public_dirs=('stylesheets' 'images' 'javascript')\n",
        "route_items=('index.js' 'users.js')\n",
        "view_items=('index.pug' 'layout.pug' 'error.pug')\n",
        "\n",
        "#creating project directory and skeletal structure\n",
        "\n",
        "mkdir $prj\n",
        "\n",
        "for item in ${main_file_items[@]}; do\n",
        "  touch ./$prj/$item\n",
        "done\n",
        "\n",
        "for item in ${main_dir_items[@]}; do\n",
        "  mkdir -p ./$prj/$item\n",
        "done\n",
        "\n",
        "# doing the individual setups\n",
        "# 1. bin/www and $prj/public/stylesheets/style.css\n",
        "touch ./$prj/bin/www\n",
        "\n",
        "#2. public\n",
        "for item in ${public_dirs[@]}; do\n",
        "  mkdir -p ./$prj/public/$item\n",
        "done\n",
        "\n",
        "touch ./$prj/public/stylesheets/style.css\n",
        "\n",
        "# 3. routes\n",
        "for item in ${route_items[@]}; do\n",
        "  touch ./$prj/routes/$item\n",
        "done\n",
        "\n",
        "# 4. views\n",
        "for item in ${view_items[@]}; do\n",
        "  touch ./$prj/views/$item\n",
        "done"
      ],
      "metadata": {
        "colab": {
          "base_uri": "https://localhost:8080/"
        },
        "id": "ZN4eOrjDzSQb",
        "outputId": "10ef964c-0a0a-435f-d588-2b21f796b2c5"
      },
      "execution_count": 51,
      "outputs": [
        {
          "output_type": "stream",
          "name": "stdout",
          "text": [
            "Overwriting create_express_project.sh\n"
          ]
        }
      ]
    },
    {
      "cell_type": "code",
      "source": [
        "!chmod u+x create_express_project.sh\n",
        "!./create_express_project.sh ExpProjectName"
      ],
      "metadata": {
        "id": "iK3hrTNr7WHr"
      },
      "execution_count": 53,
      "outputs": []
    },
    {
      "cell_type": "code",
      "source": [
        "!rm -rf ExpProjectName"
      ],
      "metadata": {
        "id": "UQ9y4oxx72m7"
      },
      "execution_count": 52,
      "outputs": []
    },
    {
      "cell_type": "markdown",
      "source": [
        "### Project4: File Size Summary\n",
        "\n",
        "Guidelines\n",
        "\n",
        "- Pass an argument to the script - path\n",
        "- read the path into a variable\n",
        "- reaad the contents of the path\n",
        "- use loops to check whether each content is a file or a directory\n",
        "- print the message-\n",
        "    - if file-\n",
        "        \"File: [filename]: [size of filename]\"\n",
        "    - if directory:\n",
        "        \"Directory: [dirname] : [sum of all size of files in the directory]\"\n"
      ],
      "metadata": {
        "id": "TC74jZ99bXRj"
      }
    },
    {
      "cell_type": "code",
      "source": [
        "%%writefile project4.sh\n",
        "\n",
        "#!/usr/bin/env bash\n",
        "\n",
        "for item in $(ls $1); do\n",
        "  if [[ -f $item ]]; then\n",
        "    echo \"File : ${item} : $(stat -c%s $item) bytes\"\n",
        "  else\n",
        "    echo \"Directory : ${item} : $(stat -c%s $item) bytes\"\n",
        "  fi\n",
        "done"
      ],
      "metadata": {
        "colab": {
          "base_uri": "https://localhost:8080/"
        },
        "id": "uBd7UFsGJY0j",
        "outputId": "a6a85ffa-ed6a-435a-c68c-bbe1a60bea60"
      },
      "execution_count": 19,
      "outputs": [
        {
          "output_type": "stream",
          "name": "stdout",
          "text": [
            "Writing project4.sh\n"
          ]
        }
      ]
    },
    {
      "cell_type": "code",
      "source": [
        "!chmod u+x ./project4.sh\n",
        "!./project4.sh ."
      ],
      "metadata": {
        "colab": {
          "base_uri": "https://localhost:8080/"
        },
        "id": "Fa2YCFrKLJVZ",
        "outputId": "b1d4e0c6-6403-41ae-d41d-58d19af5d980"
      },
      "execution_count": 47,
      "outputs": [
        {
          "output_type": "stream",
          "name": "stdout",
          "text": [
            "File : create_django_project.sh : 1025 bytes\n",
            "File : create_express_project.sh : 781 bytes\n",
            "Directory : ExpProjectName : 4096 bytes\n",
            "File : project4.sh : 201 bytes\n",
            "Directory : projectName : 4096 bytes\n",
            "Directory : sample_data : 4096 bytes\n"
          ]
        }
      ]
    },
    {
      "cell_type": "markdown",
      "source": [
        "## Appendix"
      ],
      "metadata": {
        "id": "Bv0sBQiHbVoW"
      }
    },
    {
      "cell_type": "code",
      "source": [
        "!stat -c%s script.sh"
      ],
      "metadata": {
        "id": "M2Y-pEECbWrn",
        "colab": {
          "base_uri": "https://localhost:8080/"
        },
        "outputId": "8d5d0199-80e0-41d7-8fd9-3ddf8465a90d"
      },
      "execution_count": null,
      "outputs": [
        {
          "output_type": "stream",
          "name": "stdout",
          "text": [
            "518\n"
          ]
        }
      ]
    }
  ]
}