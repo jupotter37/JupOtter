{
 "cells": [
  {
   "cell_type": "code",
   "id": "initial_id",
   "metadata": {
    "collapsed": true,
    "ExecuteTime": {
     "end_time": "2024-09-02T18:43:00.082754Z",
     "start_time": "2024-09-02T18:42:59.200623Z"
    }
   },
   "source": [
    "\n",
    "from bs4 import BeautifulSoup\n",
    "import requests\n",
    "import os\n",
    "\n",
    "with open('home.html', 'r') as html_file:\n",
    "    content = html_file.read()\n",
    "    print(content)\n"
   ],
   "outputs": [
    {
     "name": "stdout",
     "output_type": "stream",
     "text": [
      "<!doctype html>\n",
      "<html lang=\"en\">\n",
      "   <head>\n",
      "      <meta charset=\"utf-8\">\n",
      "      <meta name=\"viewport\" content=\"width=device-width, initial-scale=1, shrink-to-fit=no\">\n",
      "      <link rel=\"stylesheet\" href=\"https://stackpath.bootstrapcdn.com/bootstrap/4.5.2/css/bootstrap.min.css\" integrity=\"sha384-JcKb8q3iqJ61gNV9KGb8thSsNjpSL0n8PARn9HuZOnIxN0hoP+VmmDGMN5t9UJ0Z\" crossorigin=\"anonymous\">\n",
      "      <title>My Courses</title>\n",
      "   </head>\n",
      "   <body>\n",
      "      <h1>Hello, Start Learning!</h1>\n",
      "      <div class=\"card\" id=\"card-python-for-beginners\">\n",
      "         <div class=\"card-header\">\n",
      "            Python\n",
      "         </div>\n",
      "         <div class=\"card-body\">\n",
      "            <h5 class=\"card-title\">Python for beginners</h5>\n",
      "            <p class=\"card-text\">If you are new to Python, this is the course that you should buy!</p>\n",
      "            <a href=\"#\" class=\"btn btn-primary\">Start for 20$</a>\n",
      "         </div>\n",
      "      </div>\n",
      "      <div class=\"card\" id=\"card-python-web-development\">\n",
      "         <div class=\"card-header\">\n",
      "            Python\n",
      "         </div>\n",
      "         <div class=\"card-body\">\n",
      "            <h5 class=\"card-title\">Python Web Development</h5>\n",
      "            <p class=\"card-text\">If you feel enough confident with python, you are ready to learn how to create your own website!</p>\n",
      "            <a href=\"#\" class=\"btn btn-primary\">Start for 50$</a>\n",
      "         </div>\n",
      "      </div>\n",
      "      <div class=\"card\" id=\"card-python-machine-learning\">\n",
      "         <div class=\"card-header\">\n",
      "            Python\n",
      "         </div>\n",
      "         <div class=\"card-body\">\n",
      "            <h5 class=\"card-title\">Python Machine Learning</h5>\n",
      "            <p class=\"card-text\">Become a Python Machine Learning master!</p>\n",
      "            <a href=\"#\" class=\"btn btn-primary\">Start for 100$</a>\n",
      "         </div>\n",
      "      </div>\n",
      "   </body>\n",
      "</html>\n"
     ]
    }
   ],
   "execution_count": 1
  },
  {
   "metadata": {
    "ExecuteTime": {
     "end_time": "2024-09-02T18:43:00.090058Z",
     "start_time": "2024-09-02T18:43:00.083763Z"
    }
   },
   "cell_type": "code",
   "source": [
    "\n",
    "with open('home.html', 'r') as html_file:\n",
    "    content = html_file.read()\n",
    "    soup = BeautifulSoup(content, 'lxml')\n",
    "    print(soup)"
   ],
   "id": "af281d9dbd4b48d6",
   "outputs": [
    {
     "name": "stdout",
     "output_type": "stream",
     "text": [
      "<!DOCTYPE html>\n",
      "<html lang=\"en\">\n",
      "<head>\n",
      "<meta charset=\"utf-8\"/>\n",
      "<meta content=\"width=device-width, initial-scale=1, shrink-to-fit=no\" name=\"viewport\"/>\n",
      "<link crossorigin=\"anonymous\" href=\"https://stackpath.bootstrapcdn.com/bootstrap/4.5.2/css/bootstrap.min.css\" integrity=\"sha384-JcKb8q3iqJ61gNV9KGb8thSsNjpSL0n8PARn9HuZOnIxN0hoP+VmmDGMN5t9UJ0Z\" rel=\"stylesheet\"/>\n",
      "<title>My Courses</title>\n",
      "</head>\n",
      "<body>\n",
      "<h1>Hello, Start Learning!</h1>\n",
      "<div class=\"card\" id=\"card-python-for-beginners\">\n",
      "<div class=\"card-header\">\n",
      "            Python\n",
      "         </div>\n",
      "<div class=\"card-body\">\n",
      "<h5 class=\"card-title\">Python for beginners</h5>\n",
      "<p class=\"card-text\">If you are new to Python, this is the course that you should buy!</p>\n",
      "<a class=\"btn btn-primary\" href=\"#\">Start for 20$</a>\n",
      "</div>\n",
      "</div>\n",
      "<div class=\"card\" id=\"card-python-web-development\">\n",
      "<div class=\"card-header\">\n",
      "            Python\n",
      "         </div>\n",
      "<div class=\"card-body\">\n",
      "<h5 class=\"card-title\">Python Web Development</h5>\n",
      "<p class=\"card-text\">If you feel enough confident with python, you are ready to learn how to create your own website!</p>\n",
      "<a class=\"btn btn-primary\" href=\"#\">Start for 50$</a>\n",
      "</div>\n",
      "</div>\n",
      "<div class=\"card\" id=\"card-python-machine-learning\">\n",
      "<div class=\"card-header\">\n",
      "            Python\n",
      "         </div>\n",
      "<div class=\"card-body\">\n",
      "<h5 class=\"card-title\">Python Machine Learning</h5>\n",
      "<p class=\"card-text\">Become a Python Machine Learning master!</p>\n",
      "<a class=\"btn btn-primary\" href=\"#\">Start for 100$</a>\n",
      "</div>\n",
      "</div>\n",
      "</body>\n",
      "</html>\n"
     ]
    }
   ],
   "execution_count": 2
  },
  {
   "metadata": {
    "ExecuteTime": {
     "end_time": "2024-09-02T18:43:00.095846Z",
     "start_time": "2024-09-02T18:43:00.091066Z"
    }
   },
   "cell_type": "code",
   "source": [
    "\n",
    "with open('home.html', 'r') as html_file:\n",
    "    content = html_file.read()\n",
    "    soup = BeautifulSoup(content, 'lxml')\n",
    "    tags = soup.find('h5')\n",
    "    print(tags)"
   ],
   "id": "3b06f60af3a38924",
   "outputs": [
    {
     "name": "stdout",
     "output_type": "stream",
     "text": [
      "<h5 class=\"card-title\">Python for beginners</h5>\n"
     ]
    }
   ],
   "execution_count": 3
  },
  {
   "metadata": {
    "ExecuteTime": {
     "end_time": "2024-09-02T18:43:00.101033Z",
     "start_time": "2024-09-02T18:43:00.096857Z"
    }
   },
   "cell_type": "code",
   "source": [
    "with open('home.html', 'r') as html_file:\n",
    "    content = html_file.read()\n",
    "    soup = BeautifulSoup(content, 'lxml')\n",
    "    tags = soup.find_all('h5')\n",
    "    print(tags)"
   ],
   "id": "8b7a4b0abe970c9b",
   "outputs": [
    {
     "name": "stdout",
     "output_type": "stream",
     "text": [
      "[<h5 class=\"card-title\">Python for beginners</h5>, <h5 class=\"card-title\">Python Web Development</h5>, <h5 class=\"card-title\">Python Machine Learning</h5>]\n"
     ]
    }
   ],
   "execution_count": 4
  },
  {
   "metadata": {
    "ExecuteTime": {
     "end_time": "2024-09-02T18:43:00.107153Z",
     "start_time": "2024-09-02T18:43:00.102042Z"
    }
   },
   "cell_type": "code",
   "source": [
    "with open('home.html', 'r') as html_file:\n",
    "    content = html_file.read()\n",
    "    soup = BeautifulSoup(content, 'lxml')\n",
    "    corses_html_tags = soup.find_all('h5')\n",
    "    for course in corses_html_tags:\n",
    "       print(course.text)"
   ],
   "id": "5e89f2f232b45445",
   "outputs": [
    {
     "name": "stdout",
     "output_type": "stream",
     "text": [
      "Python for beginners\n",
      "Python Web Development\n",
      "Python Machine Learning\n"
     ]
    }
   ],
   "execution_count": 5
  },
  {
   "metadata": {
    "ExecuteTime": {
     "end_time": "2024-09-02T18:43:00.113221Z",
     "start_time": "2024-09-02T18:43:00.108157Z"
    }
   },
   "cell_type": "code",
   "source": [
    "with open('home.html', 'r') as html_file:\n",
    "    content = html_file.read()\n",
    "    soup = BeautifulSoup(content, 'lxml')\n",
    "    course_card = soup.find_all('div', class_='card')\n",
    "    print(course_card)"
   ],
   "id": "cfd3c28567ec72d9",
   "outputs": [
    {
     "name": "stdout",
     "output_type": "stream",
     "text": [
      "[<div class=\"card\" id=\"card-python-for-beginners\">\n",
      "<div class=\"card-header\">\n",
      "            Python\n",
      "         </div>\n",
      "<div class=\"card-body\">\n",
      "<h5 class=\"card-title\">Python for beginners</h5>\n",
      "<p class=\"card-text\">If you are new to Python, this is the course that you should buy!</p>\n",
      "<a class=\"btn btn-primary\" href=\"#\">Start for 20$</a>\n",
      "</div>\n",
      "</div>, <div class=\"card\" id=\"card-python-web-development\">\n",
      "<div class=\"card-header\">\n",
      "            Python\n",
      "         </div>\n",
      "<div class=\"card-body\">\n",
      "<h5 class=\"card-title\">Python Web Development</h5>\n",
      "<p class=\"card-text\">If you feel enough confident with python, you are ready to learn how to create your own website!</p>\n",
      "<a class=\"btn btn-primary\" href=\"#\">Start for 50$</a>\n",
      "</div>\n",
      "</div>, <div class=\"card\" id=\"card-python-machine-learning\">\n",
      "<div class=\"card-header\">\n",
      "            Python\n",
      "         </div>\n",
      "<div class=\"card-body\">\n",
      "<h5 class=\"card-title\">Python Machine Learning</h5>\n",
      "<p class=\"card-text\">Become a Python Machine Learning master!</p>\n",
      "<a class=\"btn btn-primary\" href=\"#\">Start for 100$</a>\n",
      "</div>\n",
      "</div>]\n"
     ]
    }
   ],
   "execution_count": 6
  },
  {
   "metadata": {
    "ExecuteTime": {
     "end_time": "2024-09-02T18:43:00.120489Z",
     "start_time": "2024-09-02T18:43:00.114230Z"
    }
   },
   "cell_type": "code",
   "source": [
    "with open('home.html', 'r') as html_file:\n",
    "    content = html_file.read()\n",
    "    soup = BeautifulSoup(content, 'lxml')\n",
    "    course_card = soup.find_all('div', class_='card')\n",
    "    for course in course_card:\n",
    "        print(course_card)"
   ],
   "id": "ec878297e8e47ba2",
   "outputs": [
    {
     "name": "stdout",
     "output_type": "stream",
     "text": [
      "[<div class=\"card\" id=\"card-python-for-beginners\">\n",
      "<div class=\"card-header\">\n",
      "            Python\n",
      "         </div>\n",
      "<div class=\"card-body\">\n",
      "<h5 class=\"card-title\">Python for beginners</h5>\n",
      "<p class=\"card-text\">If you are new to Python, this is the course that you should buy!</p>\n",
      "<a class=\"btn btn-primary\" href=\"#\">Start for 20$</a>\n",
      "</div>\n",
      "</div>, <div class=\"card\" id=\"card-python-web-development\">\n",
      "<div class=\"card-header\">\n",
      "            Python\n",
      "         </div>\n",
      "<div class=\"card-body\">\n",
      "<h5 class=\"card-title\">Python Web Development</h5>\n",
      "<p class=\"card-text\">If you feel enough confident with python, you are ready to learn how to create your own website!</p>\n",
      "<a class=\"btn btn-primary\" href=\"#\">Start for 50$</a>\n",
      "</div>\n",
      "</div>, <div class=\"card\" id=\"card-python-machine-learning\">\n",
      "<div class=\"card-header\">\n",
      "            Python\n",
      "         </div>\n",
      "<div class=\"card-body\">\n",
      "<h5 class=\"card-title\">Python Machine Learning</h5>\n",
      "<p class=\"card-text\">Become a Python Machine Learning master!</p>\n",
      "<a class=\"btn btn-primary\" href=\"#\">Start for 100$</a>\n",
      "</div>\n",
      "</div>]\n",
      "[<div class=\"card\" id=\"card-python-for-beginners\">\n",
      "<div class=\"card-header\">\n",
      "            Python\n",
      "         </div>\n",
      "<div class=\"card-body\">\n",
      "<h5 class=\"card-title\">Python for beginners</h5>\n",
      "<p class=\"card-text\">If you are new to Python, this is the course that you should buy!</p>\n",
      "<a class=\"btn btn-primary\" href=\"#\">Start for 20$</a>\n",
      "</div>\n",
      "</div>, <div class=\"card\" id=\"card-python-web-development\">\n",
      "<div class=\"card-header\">\n",
      "            Python\n",
      "         </div>\n",
      "<div class=\"card-body\">\n",
      "<h5 class=\"card-title\">Python Web Development</h5>\n",
      "<p class=\"card-text\">If you feel enough confident with python, you are ready to learn how to create your own website!</p>\n",
      "<a class=\"btn btn-primary\" href=\"#\">Start for 50$</a>\n",
      "</div>\n",
      "</div>, <div class=\"card\" id=\"card-python-machine-learning\">\n",
      "<div class=\"card-header\">\n",
      "            Python\n",
      "         </div>\n",
      "<div class=\"card-body\">\n",
      "<h5 class=\"card-title\">Python Machine Learning</h5>\n",
      "<p class=\"card-text\">Become a Python Machine Learning master!</p>\n",
      "<a class=\"btn btn-primary\" href=\"#\">Start for 100$</a>\n",
      "</div>\n",
      "</div>]\n",
      "[<div class=\"card\" id=\"card-python-for-beginners\">\n",
      "<div class=\"card-header\">\n",
      "            Python\n",
      "         </div>\n",
      "<div class=\"card-body\">\n",
      "<h5 class=\"card-title\">Python for beginners</h5>\n",
      "<p class=\"card-text\">If you are new to Python, this is the course that you should buy!</p>\n",
      "<a class=\"btn btn-primary\" href=\"#\">Start for 20$</a>\n",
      "</div>\n",
      "</div>, <div class=\"card\" id=\"card-python-web-development\">\n",
      "<div class=\"card-header\">\n",
      "            Python\n",
      "         </div>\n",
      "<div class=\"card-body\">\n",
      "<h5 class=\"card-title\">Python Web Development</h5>\n",
      "<p class=\"card-text\">If you feel enough confident with python, you are ready to learn how to create your own website!</p>\n",
      "<a class=\"btn btn-primary\" href=\"#\">Start for 50$</a>\n",
      "</div>\n",
      "</div>, <div class=\"card\" id=\"card-python-machine-learning\">\n",
      "<div class=\"card-header\">\n",
      "            Python\n",
      "         </div>\n",
      "<div class=\"card-body\">\n",
      "<h5 class=\"card-title\">Python Machine Learning</h5>\n",
      "<p class=\"card-text\">Become a Python Machine Learning master!</p>\n",
      "<a class=\"btn btn-primary\" href=\"#\">Start for 100$</a>\n",
      "</div>\n",
      "</div>]\n"
     ]
    }
   ],
   "execution_count": 7
  },
  {
   "metadata": {
    "ExecuteTime": {
     "end_time": "2024-09-02T18:43:00.127731Z",
     "start_time": "2024-09-02T18:43:00.121496Z"
    }
   },
   "cell_type": "code",
   "source": [
    "with open('home.html', 'r') as html_file:\n",
    "    content = html_file.read()\n",
    "    soup = BeautifulSoup(content, 'lxml')\n",
    "    course_card = soup.find_all('div', class_='card')\n",
    "    for course in course_card:\n",
    "       course_name = course.h5.text\n",
    "       course_price = course.a\n",
    "       print(course_name)\n",
    "       print(course_price)"
   ],
   "id": "2a8940fecfb4a3d4",
   "outputs": [
    {
     "name": "stdout",
     "output_type": "stream",
     "text": [
      "Python for beginners\n",
      "<a class=\"btn btn-primary\" href=\"#\">Start for 20$</a>\n",
      "Python Web Development\n",
      "<a class=\"btn btn-primary\" href=\"#\">Start for 50$</a>\n",
      "Python Machine Learning\n",
      "<a class=\"btn btn-primary\" href=\"#\">Start for 100$</a>\n"
     ]
    }
   ],
   "execution_count": 8
  },
  {
   "metadata": {
    "ExecuteTime": {
     "end_time": "2024-09-02T18:43:00.133962Z",
     "start_time": "2024-09-02T18:43:00.128738Z"
    }
   },
   "cell_type": "code",
   "source": [
    "with open('home.html', 'r') as html_file:\n",
    "    content = html_file.read()\n",
    "    soup = BeautifulSoup(content, 'lxml')\n",
    "    course_card = soup.find_all('div', class_='card')\n",
    "    for course in course_card:\n",
    "       course_name = course.h5.text\n",
    "       course_price = course.a\n",
    "       print(course_name)\n",
    "       print(course_price.text)"
   ],
   "id": "d29a003886dc4990",
   "outputs": [
    {
     "name": "stdout",
     "output_type": "stream",
     "text": [
      "Python for beginners\n",
      "Start for 20$\n",
      "Python Web Development\n",
      "Start for 50$\n",
      "Python Machine Learning\n",
      "Start for 100$\n"
     ]
    }
   ],
   "execution_count": 9
  },
  {
   "metadata": {
    "ExecuteTime": {
     "end_time": "2024-09-02T18:43:00.140980Z",
     "start_time": "2024-09-02T18:43:00.134968Z"
    }
   },
   "cell_type": "code",
   "source": [
    "with open('home.html', 'r') as html_file:\n",
    "    content = html_file.read()\n",
    "    soup = BeautifulSoup(content, 'lxml')\n",
    "    course_card = soup.find_all('div', class_='card')\n",
    "    for course in course_card:\n",
    "       course_name = course.h5.text\n",
    "       course_price = course.a.text.split()[-1]\n",
    "       print(f'{course_name} cost: {course_price}')\n",
    "      "
   ],
   "id": "e53c6d26ec24908a",
   "outputs": [
    {
     "name": "stdout",
     "output_type": "stream",
     "text": [
      "Python for beginners cost: 20$\n",
      "Python Web Development cost: 50$\n",
      "Python Machine Learning cost: 100$\n"
     ]
    }
   ],
   "execution_count": 10
  },
  {
   "metadata": {
    "ExecuteTime": {
     "end_time": "2024-09-02T18:43:03.621983Z",
     "start_time": "2024-09-02T18:43:00.141986Z"
    }
   },
   "cell_type": "code",
   "source": [
    "\n",
    "\n",
    "\n",
    "html_text = requests.get('https://www.timesjobs.com/candidate/job-search.html?searchType=personalizedSearch&from=submit&searchTextSrc=&searchTextText=&txtKeywords=python&txtLocation=').text\n",
    "soup = BeautifulSoup(html_text, 'lxml')\n",
    "jobs = soup.find('li', class_='clearfix job-bx wht-shd-bx')\n",
    "print(jobs)\n",
    "\n"
   ],
   "id": "be7e29bd860f624e",
   "outputs": [
    {
     "name": "stdout",
     "output_type": "stream",
     "text": [
      "<li class=\"clearfix job-bx wht-shd-bx\">\n",
      "<header class=\"clearfix\">\n",
      "<!--\n",
      "-->\n",
      "<!-- -->\n",
      "<h2>\n",
      "<a href=\"https://www.timesjobs.com/job-detail/python-virtusa-consulting-services-pvt-ltd-4-to-5-yrs-jobid-XguO8H2brt5zpSvf__PLUS__uAgZw==&amp;source=srp\" onclick=\"logViewUSBT('view','70592644','**  python development   ,   java   ,   debugging   ,   problem solving   ,   communication skills **  ,  css','','4 - 5','IT Software : Software Products &amp; Services','1','' )\" target=\"_blank\">\n",
      "<strong class=\"blkclor\">Python</strong></a> </h2>\n",
      "<h3 class=\"joblist-comp-name\">\n",
      "    virtusa consulting services pvt. ltd.\n",
      "    \n",
      "    </h3>\n",
      "</header>\n",
      "<ul class=\"top-jd-dtl clearfix\">\n",
      "<li><i class=\"material-icons\">card_travel</i>4 - 5 yrs</li>\n",
      "<li>\n",
      "<i class=\"material-icons\">location_on</i>\n",
      "<span title=\"\"></span>\n",
      "</li>\n",
      "</ul>\n",
      "<ul class=\"list-job-dtl clearfix\">\n",
      "<li>\n",
      "<label>Job Description:</label>\n",
      "###  Python - CREQ197883- **Description**  - Minimum 4  years of experience in software development with proficiency in Python  - Good to have Java  - Excellent debugging and ... <a href=\"https://www.timesjobs.com/job-detail/python-virtusa-consulting-services-pvt-ltd-4-to-5-yrs-jobid-XguO8H2brt5zpSvf__PLUS__uAgZw==&amp;source=srp\" target=\"_blank\">More Details</a>\n",
      "</li>\n",
      "<li>\n",
      "<label>KeySkills:</label>\n",
      "<span class=\"srp-skills\">\n",
      "      \n",
      "          **  <strong class=\"blkclor\">python</strong> development   ,   java   ,   debugging   ,   problem solving   ,   communication skills **  ,  css\n",
      "        \n",
      "      </span> </li>\n",
      "<!--\n",
      "            <li>\n",
      "              <i class=\"material-icons\">location_on</i>\n",
      "              \n",
      "              </li>\n",
      "-->\n",
      "</ul>\n",
      "<div class=\"list-job-bt clearfix\">\n",
      "<div class=\"list-action\">\n",
      "<div class=\"applied-dtl clearfix\" id=\"showPostApplyData_70592644\">\n",
      "<a class=\"waves-effect waves-light btn\" href=\"javascript:callExtJobApply('70592644','adId=XguO8H2brt5zpSvf__PLUS__uAgZw==&amp;compName=Career Progress Consultants','TJPFSRP');\" onclick=\"trackClickEvent('View_AND_Apply_SRP','from_srp_externalJobs');logViewUSBT('apply','70592644','**  python development   ,   java   ,   debugging   ,   problem solving   ,   communication skills **  ,  css','','4 - 5','IT Software : Software Products &amp; Services','1','')\">Apply</a>\n",
      "<span class=\"jobs-status clearfix\">\n",
      "<!--\n",
      "-->\n",
      "</span>\n",
      "<span class=\"sim-posted\">\n",
      "<span>Posted 3 days ago</span>\n",
      "</span>\n",
      "</div>\n",
      "</div>\n",
      "</div>\n",
      "</li>\n"
     ]
    }
   ],
   "execution_count": 11
  },
  {
   "metadata": {
    "ExecuteTime": {
     "end_time": "2024-09-02T18:43:07.217885Z",
     "start_time": "2024-09-02T18:43:03.623993Z"
    }
   },
   "cell_type": "code",
   "source": [
    "\n",
    "html_text = requests.get('https://www.timesjobs.com/candidate/job-search.html?searchType=personalizedSearch&from=submit&searchTextSrc=&searchTextText=&txtKeywords=python&txtLocation=').text\n",
    "soup = BeautifulSoup(html_text, 'lxml')\n",
    "job = soup.find('li', class_='clearfix job-bx wht-shd-bx')\n",
    "company_name = job.find('h3', class_='joblist-comp-name').text.replace('\\n', '')\n",
    "print(company_name)"
   ],
   "id": "f9d9068659ccd2b2",
   "outputs": [
    {
     "name": "stdout",
     "output_type": "stream",
     "text": [
      "    virtusa consulting services pvt. ltd.        \n"
     ]
    }
   ],
   "execution_count": 12
  },
  {
   "metadata": {
    "ExecuteTime": {
     "end_time": "2024-09-02T18:43:08.824873Z",
     "start_time": "2024-09-02T18:43:07.218905Z"
    }
   },
   "cell_type": "code",
   "source": [
    "html_text = requests.get('https://www.timesjobs.com/candidate/job-search.html?searchType=personalizedSearch&from=submit&searchTextSrc=&searchTextText=&txtKeywords=python&txtLocation=').text\n",
    "soup = BeautifulSoup(html_text, 'lxml')\n",
    "job = soup.find('li', class_='clearfix job-bx wht-shd-bx')\n",
    "company_name = job.find('h3', class_='joblist-comp-name').text.replace(' ', '')\n",
    "skills = job.find('span', class_='srp-skills').text.replace(' ', '')\n",
    "print(f'company_name: {company_name}  \\n skills: {skills}')\n"
   ],
   "id": "cc094db902cc17ba",
   "outputs": [
    {
     "name": "stdout",
     "output_type": "stream",
     "text": [
      "company_name: \n",
      "virtusaconsultingservicespvt.ltd.\n",
      "\n",
      "  \n",
      " skills: \n",
      "\n",
      "**pythondevelopment,java,debugging,problemsolving,communicationskills**,css\n",
      "\n",
      "\n"
     ]
    }
   ],
   "execution_count": 13
  },
  {
   "metadata": {
    "ExecuteTime": {
     "end_time": "2024-09-02T18:43:10.241678Z",
     "start_time": "2024-09-02T18:43:08.827964Z"
    }
   },
   "cell_type": "code",
   "source": [
    "html_text = requests.get('https://www.timesjobs.com/candidate/job-search.html?searchType=personalizedSearch&from=submit&searchTextSrc=&searchTextText=&txtKeywords=python&txtLocation=').text\n",
    "soup = BeautifulSoup(html_text, 'lxml')\n",
    "job = soup.find('li', class_='clearfix job-bx wht-shd-bx')\n",
    "company_name = job.find('h3', class_='joblist-comp-name').text.replace(' ', '')\n",
    "skills = job.find('span', class_='srp-skills').text.replace(' ', '')\n",
    "print(f'''\n",
    "company_name: {company_name}  \n",
    "Requist Skill: {skills}''''')"
   ],
   "id": "aa81b144de54c582",
   "outputs": [
    {
     "name": "stdout",
     "output_type": "stream",
     "text": [
      "\n",
      "company_name: \n",
      "virtusaconsultingservicespvt.ltd.\n",
      "\n",
      "  \n",
      "Requist Skill: \n",
      "\n",
      "**pythondevelopment,java,debugging,problemsolving,communicationskills**,css\n",
      "\n",
      "\n"
     ]
    }
   ],
   "execution_count": 14
  },
  {
   "metadata": {
    "ExecuteTime": {
     "end_time": "2024-09-02T18:43:11.748547Z",
     "start_time": "2024-09-02T18:43:10.242682Z"
    }
   },
   "cell_type": "code",
   "source": [
    "html_text = requests.get('https://www.timesjobs.com/candidate/job-search.html?searchType=personalizedSearch&from=submit&searchTextSrc=&searchTextText=&txtKeywords=python&txtLocation=').text\n",
    "soup = BeautifulSoup(html_text, 'lxml')\n",
    "job = soup.find('li', class_='clearfix job-bx wht-shd-bx')\n",
    "company_name = job.find('h3', class_='joblist-comp-name').text.replace('\\n','')\n",
    "skills = job.find('span', class_='srp-skills').text.replace('\\n','')\n",
    "published_date = job.find('span', class_='sim-posted').span.text\n",
    "print(f'''\n",
    "company_name: {company_name}  \n",
    "Requist Skill: {skills}\n",
    "Published Date: {published_date}\n",
    "''''')"
   ],
   "id": "e0281e86d3ce61ff",
   "outputs": [
    {
     "name": "stdout",
     "output_type": "stream",
     "text": [
      "\n",
      "company_name:     virtusa consulting services pvt. ltd.          \n",
      "Requist Skill:                 **  python development   ,   java   ,   debugging   ,   problem solving   ,   communication skills **  ,  css              \n",
      "Published Date: Posted 3 days ago\n",
      "\n"
     ]
    }
   ],
   "execution_count": 15
  },
  {
   "metadata": {
    "ExecuteTime": {
     "end_time": "2024-09-02T18:43:13.198458Z",
     "start_time": "2024-09-02T18:43:11.749553Z"
    }
   },
   "cell_type": "code",
   "source": [
    "html_text = requests.get('https://www.timesjobs.com/candidate/job-search.html?searchType=personalizedSearch&from=submit&searchTextSrc=&searchTextText=&txtKeywords=python&txtLocation=').text\n",
    "soup = BeautifulSoup(html_text, 'lxml')\n",
    "jobs = soup.find_all('li', class_='clearfix job-bx wht-shd-bx')\n",
    "for job in jobs:\n",
    "    \n",
    "    company_name = job.find('h3', class_='joblist-comp-name').text.replace('\\n','')\n",
    "    skills = job.find('span', class_='srp-skills').text.replace('\\n','')\n",
    "    published_date = job.find('span', class_='sim-posted').span.text\n",
    "    print(f'''\n",
    "    company_name: {company_name}  \n",
    "    Requist Skill: {skills}\n",
    "    Published Date: {published_date}\n",
    "    ''''')"
   ],
   "id": "b9569c69a272420e",
   "outputs": [
    {
     "name": "stdout",
     "output_type": "stream",
     "text": [
      "\n",
      "    company_name:     virtusa consulting services pvt. ltd.          \n",
      "    Requist Skill:                 **  python development   ,   java   ,   debugging   ,   problem solving   ,   communication skills **  ,  css              \n",
      "    Published Date: Posted 3 days ago\n",
      "    \n",
      "\n",
      "    company_name:     virtusa consulting services pvt. ltd.          \n",
      "    Requist Skill:                 **  python development   ,   software development   ,   debugging skills   ,   problem solving   ,   communication skills **  ,  css  ,  software engineer              \n",
      "    Published Date: Posted 3 days ago\n",
      "    \n",
      "\n",
      "    company_name:     virtusa consulting services pvt. ltd.          \n",
      "    Requist Skill: python development   ,   object oriented programming   ,   test driven development   ,   database connectors   ,   linux environment   ,  git  ,  api              \n",
      "    Published Date: Posted few days ago\n",
      "    \n",
      "\n",
      "    company_name:     virtusa consulting services pvt. ltd.          \n",
      "    Requist Skill:                 data analysis  ,   communication  ,   problem solving  ,   microsoft office  ,   visualization tools    ,  data analytics  ,  data analyst  ,  sql  ,  tableau  ,  written communication              \n",
      "    Published Date: Posted a month ago\n",
      "    \n",
      "\n",
      "    company_name:     SEVEN CONSULTANCY          \n",
      "    Requist Skill: python  ,  mvc  ,  sql              \n",
      "    Published Date: Posted 4 days ago\n",
      "    \n",
      "\n",
      "    company_name:     art technology and software india pvt ltd          \n",
      "    Requist Skill:                 rest  ,  python  ,  database  ,  django  ,  api              \n",
      "    Published Date: Posted 6 days ago\n",
      "    \n",
      "\n",
      "    company_name:     CONNECTING 2 WORK          \n",
      "    Requist Skill:                 rest  ,  python  ,  django  ,  mongodb              \n",
      "    Published Date: Posted few days ago\n",
      "    \n",
      "\n",
      "    company_name:     east india securities ltd.          \n",
      "    Requist Skill: python  ,  hadoop  ,  machine learning              \n",
      "    Published Date: Posted few days ago\n",
      "    \n",
      "\n",
      "    company_name:     LAKSH HUMAN RESOURCE          \n",
      "    Requist Skill:                 rest  ,  python  ,  django  ,  git              \n",
      "    Published Date: Posted few days ago\n",
      "    \n",
      "\n",
      "    company_name:     xonier technologies pvt ltd          \n",
      "    Requist Skill: python  ,  django  ,  testing tools  ,  debugging  ,  storage              \n",
      "    Published Date: Posted 6 days ago\n",
      "    \n",
      "\n",
      "    company_name:     day1 technologies          \n",
      "    Requist Skill:                 rest  ,  python  ,  django  ,  git  ,  postgresql  ,  sql  ,  docker              \n",
      "    Published Date: Posted 6 days ago\n",
      "    \n",
      "\n",
      "    company_name:     virtusa consulting services pvt. ltd.          \n",
      "    Requist Skill: python  ,   java  ,   debugging  ,   communication  ,   problem solving   ,  job posting              \n",
      "    Published Date: Posted 2 days ago\n",
      "    \n",
      "\n",
      "    company_name:     zenga tv          \n",
      "    Requist Skill: python  ,  django  ,  html5  ,  javascript              \n",
      "    Published Date: Posted few days ago\n",
      "    \n",
      "\n",
      "    company_name:     INFINITY GROUP          \n",
      "    Requist Skill: python  ,  css  ,  django  ,  html  ,  bootstrap              \n",
      "    Published Date: Posted few days ago\n",
      "    \n",
      "\n",
      "    company_name:     DREAMAJAX TECHNOLOGIES          \n",
      "    Requist Skill: python  ,  django  ,  api  ,  sql  ,  nosql              \n",
      "    Published Date: Posted few days ago\n",
      "    \n",
      "\n",
      "    company_name:     Datagrid Solutions          \n",
      "    Requist Skill: python  ,  database  ,  django  ,  mysql  ,  api              \n",
      "    Published Date: Posted few days ago\n",
      "    \n",
      "\n",
      "    company_name:     virtusa consulting services pvt. ltd.          \n",
      "    Requist Skill:                 react js  ,   python  ,   microservices  ,   aws integration  ,   chatbot development    ,  version control  ,  application development  ,  coding              \n",
      "    Published Date: Posted 1 day ago\n",
      "    \n",
      "\n",
      "    company_name:     Infocom Software          \n",
      "    Requist Skill:                 rest  ,  python  ,  css  ,  html5  ,  machine learning  ,  artificial intelligence  ,  javascript  ,  jquery  ,  security  ,  django  ,  debugging              \n",
      "    Published Date: Posted 1 day ago\n",
      "    \n",
      "\n",
      "    company_name:     virtusa consulting services pvt. ltd.          \n",
      "    Requist Skill:                 ai  ,   ml  ,   python  ,   machine learning  ,   data science   ,  .net              \n",
      "    Published Date: Posted 6 days ago\n",
      "    \n",
      "\n",
      "    company_name:     TekPillar          \n",
      "    Requist Skill: python development  ,   backend development  ,   frontend technologies  ,   database management  ,   problem solving   ,  security  ,  django  ,  postgresql  ,  debugging  ,  html  ,  javascript              \n",
      "    Published Date: Posted 2 days ago\n",
      "    \n",
      "\n",
      "    company_name:     virtusa consulting services pvt. ltd.          \n",
      "    Requist Skill: python development   ,   java   (  good to have  )     ,   debugging   ,   problem solving   ,   communication skills   ,  css              \n",
      "    Published Date: Posted 2 days ago\n",
      "    \n",
      "\n",
      "    company_name:     virtusa consulting services pvt. ltd.          \n",
      "    Requist Skill:                 bdd frameworks   ,   qa testing   ,   scripting languages   ,   distributed computing   ,   api testing   ,  python  ,  maven  ,  database  ,  git  ,  java  ,  shell scripting              \n",
      "    Published Date: Posted few days ago\n",
      "    \n",
      "\n",
      "    company_name:     CONNECTING 2 WORK          \n",
      "    Requist Skill: python  ,  storage  ,  django  ,  testing tools  ,  debugging              \n",
      "    Published Date: Posted few days ago\n",
      "    \n",
      "\n",
      "    company_name:     CONNECTING 2 WORK          \n",
      "    Requist Skill:                 database  ,  python  ,  css  ,  rest api  ,  html  ,  javascript              \n",
      "    Published Date: Posted few days ago\n",
      "    \n",
      "\n",
      "    company_name:     virtusa consulting services pvt. ltd.          \n",
      "    Requist Skill: python development   ,   java development   ,   debugging skills   ,   problem solving   ,   communication skills   ,  job posting              \n",
      "    Published Date: Posted 3 days ago\n",
      "    \n"
     ]
    }
   ],
   "execution_count": 16
  },
  {
   "metadata": {
    "ExecuteTime": {
     "end_time": "2024-09-02T18:43:14.911949Z",
     "start_time": "2024-09-02T18:43:13.199467Z"
    }
   },
   "cell_type": "code",
   "source": [
    "html_text = requests.get('https://www.timesjobs.com/candidate/job-search.html?searchType=personalizedSearch&from=submit&searchTextSrc=&searchTextText=&txtKeywords=python&txtLocation=').text\n",
    "soup = BeautifulSoup(html_text, 'lxml')\n",
    "jobs = soup.find_all('li', class_='clearfix job-bx wht-shd-bx')\n",
    "\n",
    "for job in jobs:\n",
    "   published_date = job.find('span', class_='sim-posted').span.text\n",
    "   if '1 day' in published_date or 'few' in published_date:\n",
    "        company_name = job.find('h3', class_='joblist-comp-name').text.replace('\\n','')\n",
    "        skills = job.find('span', class_='srp-skills').text.replace('\\n','')\n",
    "       \n",
    "        print(f'''\n",
    "        company_name: {company_name}  \n",
    "        Requist Skill: {skills}\n",
    "        ''')"
   ],
   "id": "acd5d5a421fedc0d",
   "outputs": [
    {
     "name": "stdout",
     "output_type": "stream",
     "text": [
      "\n",
      "        company_name:     virtusa consulting services pvt. ltd.          \n",
      "        Requist Skill: python development   ,   object oriented programming   ,   test driven development   ,   database connectors   ,   linux environment   ,  git  ,  api              \n",
      "        \n",
      "\n",
      "        company_name:     CONNECTING 2 WORK          \n",
      "        Requist Skill:                 rest  ,  python  ,  django  ,  mongodb              \n",
      "        \n",
      "\n",
      "        company_name:     east india securities ltd.          \n",
      "        Requist Skill: python  ,  hadoop  ,  machine learning              \n",
      "        \n",
      "\n",
      "        company_name:     LAKSH HUMAN RESOURCE          \n",
      "        Requist Skill:                 rest  ,  python  ,  django  ,  git              \n",
      "        \n",
      "\n",
      "        company_name:     zenga tv          \n",
      "        Requist Skill: python  ,  django  ,  html5  ,  javascript              \n",
      "        \n",
      "\n",
      "        company_name:     INFINITY GROUP          \n",
      "        Requist Skill: python  ,  css  ,  django  ,  html  ,  bootstrap              \n",
      "        \n",
      "\n",
      "        company_name:     DREAMAJAX TECHNOLOGIES          \n",
      "        Requist Skill: python  ,  django  ,  api  ,  sql  ,  nosql              \n",
      "        \n",
      "\n",
      "        company_name:     Datagrid Solutions          \n",
      "        Requist Skill: python  ,  database  ,  django  ,  mysql  ,  api              \n",
      "        \n",
      "\n",
      "        company_name:     virtusa consulting services pvt. ltd.          \n",
      "        Requist Skill:                 react js  ,   python  ,   microservices  ,   aws integration  ,   chatbot development    ,  version control  ,  application development  ,  coding              \n",
      "        \n",
      "\n",
      "        company_name:     Infocom Software          \n",
      "        Requist Skill:                 rest  ,  python  ,  css  ,  html5  ,  machine learning  ,  artificial intelligence  ,  javascript  ,  jquery  ,  security  ,  django  ,  debugging              \n",
      "        \n",
      "\n",
      "        company_name:     virtusa consulting services pvt. ltd.          \n",
      "        Requist Skill:                 bdd frameworks   ,   qa testing   ,   scripting languages   ,   distributed computing   ,   api testing   ,  python  ,  maven  ,  database  ,  git  ,  java  ,  shell scripting              \n",
      "        \n",
      "\n",
      "        company_name:     CONNECTING 2 WORK          \n",
      "        Requist Skill: python  ,  storage  ,  django  ,  testing tools  ,  debugging              \n",
      "        \n",
      "\n",
      "        company_name:     CONNECTING 2 WORK          \n",
      "        Requist Skill:                 database  ,  python  ,  css  ,  rest api  ,  html  ,  javascript              \n",
      "        \n"
     ]
    }
   ],
   "execution_count": 17
  },
  {
   "metadata": {
    "ExecuteTime": {
     "end_time": "2024-09-02T18:43:17.023752Z",
     "start_time": "2024-09-02T18:43:14.913492Z"
    }
   },
   "cell_type": "code",
   "source": [
    "html_text = requests.get('https://www.timesjobs.com/candidate/job-search.html?searchType=personalizedSearch&from=submit&searchTextSrc=&searchTextText=&txtKeywords=python&txtLocation=').text\n",
    "soup = BeautifulSoup(html_text, 'lxml')\n",
    "jobs = soup.find_all('li', class_='clearfix job-bx wht-shd-bx')\n",
    "\n",
    "for job in jobs:\n",
    "   published_date = job.find('span', class_='sim-posted').span.text\n",
    "   if '1 day' in published_date or 'few' in published_date:\n",
    "        company_name = job.find('h3', class_='joblist-comp-name').text.replace('\\n','')\n",
    "        skills = job.find('span', class_='srp-skills').text.replace('\\n','')\n",
    "        print(f\"Company Name: {company_name.strip()}\")\n",
    "        print(f\"Requist Skill: {skills.strip()}\")\n",
    "        "
   ],
   "id": "c37ddcd0057bc2d9",
   "outputs": [
    {
     "name": "stdout",
     "output_type": "stream",
     "text": [
      "Company Name: virtusa consulting services pvt. ltd.\n",
      "Requist Skill: python development   ,   object oriented programming   ,   test driven development   ,   database connectors   ,   linux environment   ,  git  ,  api\n",
      "Company Name: CONNECTING 2 WORK\n",
      "Requist Skill: rest  ,  python  ,  django  ,  mongodb\n",
      "Company Name: east india securities ltd.\n",
      "Requist Skill: python  ,  hadoop  ,  machine learning\n",
      "Company Name: LAKSH HUMAN RESOURCE\n",
      "Requist Skill: rest  ,  python  ,  django  ,  git\n",
      "Company Name: zenga tv\n",
      "Requist Skill: python  ,  django  ,  html5  ,  javascript\n",
      "Company Name: INFINITY GROUP\n",
      "Requist Skill: python  ,  css  ,  django  ,  html  ,  bootstrap\n",
      "Company Name: DREAMAJAX TECHNOLOGIES\n",
      "Requist Skill: python  ,  django  ,  api  ,  sql  ,  nosql\n",
      "Company Name: Datagrid Solutions\n",
      "Requist Skill: python  ,  database  ,  django  ,  mysql  ,  api\n",
      "Company Name: virtusa consulting services pvt. ltd.\n",
      "Requist Skill: react js  ,   python  ,   microservices  ,   aws integration  ,   chatbot development    ,  version control  ,  application development  ,  coding\n",
      "Company Name: Infocom Software\n",
      "Requist Skill: rest  ,  python  ,  css  ,  html5  ,  machine learning  ,  artificial intelligence  ,  javascript  ,  jquery  ,  security  ,  django  ,  debugging\n",
      "Company Name: virtusa consulting services pvt. ltd.\n",
      "Requist Skill: bdd frameworks   ,   qa testing   ,   scripting languages   ,   distributed computing   ,   api testing   ,  python  ,  maven  ,  database  ,  git  ,  java  ,  shell scripting\n",
      "Company Name: CONNECTING 2 WORK\n",
      "Requist Skill: python  ,  storage  ,  django  ,  testing tools  ,  debugging\n",
      "Company Name: CONNECTING 2 WORK\n",
      "Requist Skill: database  ,  python  ,  css  ,  rest api  ,  html  ,  javascript\n"
     ]
    }
   ],
   "execution_count": 18
  },
  {
   "metadata": {
    "ExecuteTime": {
     "end_time": "2024-09-02T18:43:19.011565Z",
     "start_time": "2024-09-02T18:43:17.024761Z"
    }
   },
   "cell_type": "code",
   "source": [
    "html_text = requests.get('https://www.timesjobs.com/candidate/job-search.html?searchType=personalizedSearch&from=submit&searchTextSrc=&searchTextText=&txtKeywords=python&txtLocation=').text\n",
    "soup = BeautifulSoup(html_text, 'lxml')\n",
    "jobs = soup.find_all('li', class_='clearfix job-bx wht-shd-bx')\n",
    "\n",
    "for job in jobs:\n",
    "   published_date = job.find('span', class_='sim-posted').span.text\n",
    "   if '1 day' in published_date or 'few' in published_date:\n",
    "        company_name = job.find('h3', class_='joblist-comp-name').text.replace('\\n','')\n",
    "        skills = job.find('span', class_='srp-skills').text.replace('\\n','')\n",
    "        more_info =job.header.h2.a['href']\n",
    "        print(f\"Company Name: {company_name.strip()}\")\n",
    "        print(f\"Requist Skill: {skills.strip()}\")\n",
    "        print(f\"More Info: {more_info}\")"
   ],
   "id": "e3d23c7f76171886",
   "outputs": [
    {
     "name": "stdout",
     "output_type": "stream",
     "text": [
      "Company Name: virtusa consulting services pvt. ltd.\n",
      "Requist Skill: python development   ,   object oriented programming   ,   test driven development   ,   database connectors   ,   linux environment   ,  git  ,  api\n",
      "More Info: https://www.timesjobs.com/job-detail/python-virtusa-consulting-services-pvt-ltd-pune-8-to-11-yrs-jobid-PRoGGHjEoVVzpSvf__PLUS__uAgZw==&source=srp\n",
      "Company Name: CONNECTING 2 WORK\n",
      "Requist Skill: rest  ,  python  ,  django  ,  mongodb\n",
      "More Info: https://www.timesjobs.com/job-detail/python-trainer-connecting-2-work-calicut-kozhikode-0-to-3-yrs-jobid-MFJXBwZBWVhzpSvf__PLUS__uAgZw==&source=srp\n",
      "Company Name: east india securities ltd.\n",
      "Requist Skill: python  ,  hadoop  ,  machine learning\n",
      "More Info: https://www.timesjobs.com/job-detail/python-engineer-east-india-securities-ltd-kolkata-2-to-5-yrs-jobid-O9JSjUglX3hzpSvf__PLUS__uAgZw==&source=srp\n",
      "Company Name: LAKSH HUMAN RESOURCE\n",
      "Requist Skill: rest  ,  python  ,  django  ,  git\n",
      "More Info: https://www.timesjobs.com/job-detail/python-developer-laksh-human-resource-mumbai-1-to-3-yrs-jobid-uUEqcx71MRdzpSvf__PLUS__uAgZw==&source=srp\n",
      "Company Name: zenga tv\n",
      "Requist Skill: python  ,  django  ,  html5  ,  javascript\n",
      "More Info: https://www.timesjobs.com/job-detail/python-developer-zenga-tv-gurgaon-2-to-5-yrs-jobid-cQGeFhRqgNdzpSvf__PLUS__uAgZw==&source=srp\n",
      "Company Name: INFINITY GROUP\n",
      "Requist Skill: python  ,  css  ,  django  ,  html  ,  bootstrap\n",
      "More Info: https://www.timesjobs.com/job-detail/python-developer-infinity-group-noida-greater-noida-2-to-5-yrs-jobid-WKzksjq__PLUS__GXxzpSvf__PLUS__uAgZw==&source=srp\n",
      "Company Name: DREAMAJAX TECHNOLOGIES\n",
      "Requist Skill: python  ,  django  ,  api  ,  sql  ,  nosql\n",
      "More Info: https://www.timesjobs.com/job-detail/python-developer-dreamajax-technologies-bengaluru-bangalore-4-to-7-yrs-jobid-55iKtddZNCdzpSvf__PLUS__uAgZw==&source=srp\n",
      "Company Name: Datagrid Solutions\n",
      "Requist Skill: python  ,  database  ,  django  ,  mysql  ,  api\n",
      "More Info: https://www.timesjobs.com/job-detail/python-developer-datagrid-solutions-mumbai-2-to-3-yrs-jobid-hdLfInxHIFxzpSvf__PLUS__uAgZw==&source=srp\n",
      "Company Name: virtusa consulting services pvt. ltd.\n",
      "Requist Skill: react js  ,   python  ,   microservices  ,   aws integration  ,   chatbot development    ,  version control  ,  application development  ,  coding\n",
      "More Info: https://www.timesjobs.com/job-detail/python-ai-virtusa-consulting-services-pvt-ltd-chennai-8-to-10-yrs-jobid-ec6__PLUS__HJv8qf9zpSvf__PLUS__uAgZw==&source=srp\n",
      "Company Name: Infocom Software\n",
      "Requist Skill: rest  ,  python  ,  css  ,  html5  ,  machine learning  ,  artificial intelligence  ,  javascript  ,  jquery  ,  security  ,  django  ,  debugging\n",
      "More Info: https://www.timesjobs.com/job-detail/python-developer-infocom-software-thiruvananthapuram-0-to-3-yrs-jobid-h1Ea547wfolzpSvf__PLUS__uAgZw==&source=srp\n",
      "Company Name: virtusa consulting services pvt. ltd.\n",
      "Requist Skill: bdd frameworks   ,   qa testing   ,   scripting languages   ,   distributed computing   ,   api testing   ,  python  ,  maven  ,  database  ,  git  ,  java  ,  shell scripting\n",
      "More Info: https://www.timesjobs.com/job-detail/python-automation-virtusa-consulting-services-pvt-ltd-pune-5-to-10-yrs-jobid-OBK__PLUS__kztaCvVzpSvf__PLUS__uAgZw==&source=srp\n",
      "Company Name: CONNECTING 2 WORK\n",
      "Requist Skill: python  ,  storage  ,  django  ,  testing tools  ,  debugging\n",
      "More Info: https://www.timesjobs.com/job-detail/python-developer-connecting-2-work-thiruvananthapuram-5-to-10-yrs-jobid-15ymTnn475xzpSvf__PLUS__uAgZw==&source=srp\n",
      "Company Name: CONNECTING 2 WORK\n",
      "Requist Skill: database  ,  python  ,  css  ,  rest api  ,  html  ,  javascript\n",
      "More Info: https://www.timesjobs.com/job-detail/python-developer-connecting-2-work-cochin-kochi-ernakulam-2-to-3-yrs-jobid-CZYubAVhafJzpSvf__PLUS__uAgZw==&source=srp\n"
     ]
    }
   ],
   "execution_count": 19
  },
  {
   "metadata": {
    "ExecuteTime": {
     "end_time": "2024-09-02T18:43:28.869144Z",
     "start_time": "2024-09-02T18:43:19.013575Z"
    }
   },
   "cell_type": "code",
   "source": [
    "print('Put some skill that you are not familair with')\n",
    "unfamiliar_skill = input('>')\n",
    "print(f'Filtering out {unfamiliar_skill}')\n",
    "html_text = requests.get('https://www.timesjobs.com/candidate/job-search.html?searchType=personalizedSearch&from=submit&searchTextSrc=&searchTextText=&txtKeywords=python&txtLocation=').text\n",
    "soup = BeautifulSoup(html_text, 'lxml')\n",
    "jobs = soup.find_all('li', class_='clearfix job-bx wht-shd-bx')\n",
    "\n",
    "for job in jobs:\n",
    "   published_date = job.find('span', class_='sim-posted').span.text\n",
    "   if '1 day' in published_date or 'few' in published_date:\n",
    "        company_name = job.find('h3', class_='joblist-comp-name').text.replace('\\n','')\n",
    "        skills = job.find('span', class_='srp-skills').text.replace('\\n','')\n",
    "        more_info =job.header.h2.a['href']\n",
    "        if unfamiliar_skill not  in skills:\n",
    "            print(f\"Company Name: {company_name.strip()}\")\n",
    "            print(f\"Requist Skill: {skills.strip()}\")\n",
    "            print(f\"More Info: {more_info}\")"
   ],
   "id": "cd7765b78ec86440",
   "outputs": [
    {
     "name": "stdout",
     "output_type": "stream",
     "text": [
      "Put some skill that you are not familair with\n",
      "Filtering out linux\n",
      "Company Name: CONNECTING 2 WORK\n",
      "Requist Skill: rest  ,  python  ,  django  ,  mongodb\n",
      "More Info: https://www.timesjobs.com/job-detail/python-trainer-connecting-2-work-calicut-kozhikode-0-to-3-yrs-jobid-MFJXBwZBWVhzpSvf__PLUS__uAgZw==&source=srp\n",
      "Company Name: east india securities ltd.\n",
      "Requist Skill: python  ,  hadoop  ,  machine learning\n",
      "More Info: https://www.timesjobs.com/job-detail/python-engineer-east-india-securities-ltd-kolkata-2-to-5-yrs-jobid-O9JSjUglX3hzpSvf__PLUS__uAgZw==&source=srp\n",
      "Company Name: LAKSH HUMAN RESOURCE\n",
      "Requist Skill: rest  ,  python  ,  django  ,  git\n",
      "More Info: https://www.timesjobs.com/job-detail/python-developer-laksh-human-resource-mumbai-1-to-3-yrs-jobid-uUEqcx71MRdzpSvf__PLUS__uAgZw==&source=srp\n",
      "Company Name: zenga tv\n",
      "Requist Skill: python  ,  django  ,  html5  ,  javascript\n",
      "More Info: https://www.timesjobs.com/job-detail/python-developer-zenga-tv-gurgaon-2-to-5-yrs-jobid-cQGeFhRqgNdzpSvf__PLUS__uAgZw==&source=srp\n",
      "Company Name: INFINITY GROUP\n",
      "Requist Skill: python  ,  css  ,  django  ,  html  ,  bootstrap\n",
      "More Info: https://www.timesjobs.com/job-detail/python-developer-infinity-group-noida-greater-noida-2-to-5-yrs-jobid-WKzksjq__PLUS__GXxzpSvf__PLUS__uAgZw==&source=srp\n",
      "Company Name: DREAMAJAX TECHNOLOGIES\n",
      "Requist Skill: python  ,  django  ,  api  ,  sql  ,  nosql\n",
      "More Info: https://www.timesjobs.com/job-detail/python-developer-dreamajax-technologies-bengaluru-bangalore-4-to-7-yrs-jobid-55iKtddZNCdzpSvf__PLUS__uAgZw==&source=srp\n",
      "Company Name: Datagrid Solutions\n",
      "Requist Skill: python  ,  database  ,  django  ,  mysql  ,  api\n",
      "More Info: https://www.timesjobs.com/job-detail/python-developer-datagrid-solutions-mumbai-2-to-3-yrs-jobid-hdLfInxHIFxzpSvf__PLUS__uAgZw==&source=srp\n",
      "Company Name: virtusa consulting services pvt. ltd.\n",
      "Requist Skill: react js  ,   python  ,   microservices  ,   aws integration  ,   chatbot development    ,  version control  ,  application development  ,  coding\n",
      "More Info: https://www.timesjobs.com/job-detail/python-ai-virtusa-consulting-services-pvt-ltd-chennai-8-to-10-yrs-jobid-ec6__PLUS__HJv8qf9zpSvf__PLUS__uAgZw==&source=srp\n",
      "Company Name: Infocom Software\n",
      "Requist Skill: rest  ,  python  ,  css  ,  html5  ,  machine learning  ,  artificial intelligence  ,  javascript  ,  jquery  ,  security  ,  django  ,  debugging\n",
      "More Info: https://www.timesjobs.com/job-detail/python-developer-infocom-software-thiruvananthapuram-0-to-3-yrs-jobid-h1Ea547wfolzpSvf__PLUS__uAgZw==&source=srp\n",
      "Company Name: virtusa consulting services pvt. ltd.\n",
      "Requist Skill: bdd frameworks   ,   qa testing   ,   scripting languages   ,   distributed computing   ,   api testing   ,  python  ,  maven  ,  database  ,  git  ,  java  ,  shell scripting\n",
      "More Info: https://www.timesjobs.com/job-detail/python-automation-virtusa-consulting-services-pvt-ltd-pune-5-to-10-yrs-jobid-OBK__PLUS__kztaCvVzpSvf__PLUS__uAgZw==&source=srp\n",
      "Company Name: CONNECTING 2 WORK\n",
      "Requist Skill: python  ,  storage  ,  django  ,  testing tools  ,  debugging\n",
      "More Info: https://www.timesjobs.com/job-detail/python-developer-connecting-2-work-thiruvananthapuram-5-to-10-yrs-jobid-15ymTnn475xzpSvf__PLUS__uAgZw==&source=srp\n",
      "Company Name: CONNECTING 2 WORK\n",
      "Requist Skill: database  ,  python  ,  css  ,  rest api  ,  html  ,  javascript\n",
      "More Info: https://www.timesjobs.com/job-detail/python-developer-connecting-2-work-cochin-kochi-ernakulam-2-to-3-yrs-jobid-CZYubAVhafJzpSvf__PLUS__uAgZw==&source=srp\n"
     ]
    }
   ],
   "execution_count": 20
  },
  {
   "metadata": {},
   "cell_type": "markdown",
   "source": "",
   "id": "24a051f85e16ec69"
  },
  {
   "metadata": {
    "ExecuteTime": {
     "end_time": "2024-09-02T19:43:24.827927Z",
     "start_time": "2024-09-02T19:43:24.318556Z"
    }
   },
   "cell_type": "code",
   "source": [
    "html_text = requests.get('https://www.nuuvem.com/br-pt/catalog/platforms/pc/price/promo/sort/bestselling/sort-mode/desc').text\n",
    "soup = BeautifulSoup(html_text, 'lxml')\n",
    "games = soup.find_all('div', class_='product-card--grid')\n",
    "\n",
    "for game in games:\n",
    "    game_name = game.find('h3', class_='product-title').text.replace('\\n','')\n",
    "    plataforms = game.find('i', class_='icon')\n",
    "    price_integer = game.find('span', class_='integer').text.replace('\\n','')\n",
    "    price_decimal = game.find('span', class_='decimal').text.replace('\\n','')\n",
    "    print(f\"Game Name: {game_name.strip()}\")\n",
    "    print(f\"Plataforms: {plataforms.text.replace('\\n','')}\")\n",
    "    print(f\"Price: R${price_integer}.{price_decimal}\")\n"
   ],
   "id": "ecb2cbe180ca8fb8",
   "outputs": [
    {
     "name": "stdout",
     "output_type": "stream",
     "text": [
      "Game Name: Black Myth: Wukong\n",
      "Plataforms: \n",
      "Price: R$.\n",
      "Game Name: Mad Max\n",
      "Plataforms: \n",
      "Price: R$.\n",
      "Game Name: Middle-earth: Shadow of Mordor - Game of the Year Edition\n",
      "Plataforms: \n",
      "Price: R$.\n",
      "Game Name: Middle-earth: Shadow of War Definitive Edition\n",
      "Plataforms: \n",
      "Price: R$.\n",
      "Game Name: LEGO Harry Potter Collection\n",
      "Plataforms: \n",
      "Price: R$.\n",
      "Game Name: LEGO City Undercover\n",
      "Plataforms: \n",
      "Price: R$.\n",
      "Game Name: Batman: Arkham Origins - Season Pass\n",
      "Plataforms: \n",
      "Price: R$.\n",
      "Game Name: LEGO The Lord of the Rings\n",
      "Plataforms: \n",
      "Price: R$.\n",
      "Game Name: LEGO Marvel Super Heroes 2: Deluxe Edition\n",
      "Plataforms: \n",
      "Price: R$.\n",
      "Game Name: Batman Arkham Collection\n",
      "Plataforms: \n",
      "Price: R$.\n",
      "Game Name: F.E.A.R. 3\n",
      "Plataforms: \n",
      "Price: R$.\n",
      "Game Name: LEGO Marvel Vingadores Deluxe Edition\n",
      "Plataforms: \n",
      "Price: R$.\n",
      "Game Name: Scribblenauts Unmasked: A DC Comics Adventures\n",
      "Plataforms: \n",
      "Price: R$.\n",
      "Game Name: Mortal Kombat 11 Kombat Pack 1\n",
      "Plataforms: \n",
      "Price: R$.\n",
      "Game Name: LEGO The Hobbit\n",
      "Plataforms: \n",
      "Price: R$.\n",
      "Game Name: Batman: Arkham Knight\n",
      "Plataforms: \n",
      "Price: R$.\n",
      "Game Name: LEGO Batman\n",
      "Plataforms: \n",
      "Price: R$.\n",
      "Game Name: Mortal Kombat XL\n",
      "Plataforms: \n",
      "Price: R$.\n",
      "Game Name: Scribblenauts Unlimited\n",
      "Plataforms: \n",
      "Price: R$.\n",
      "Game Name: Hogwarts Legacy - Deluxe Edition\n",
      "Plataforms: \n",
      "Price: R$.\n"
     ]
    }
   ],
   "execution_count": 48
  },
  {
   "metadata": {
    "ExecuteTime": {
     "end_time": "2024-09-02T19:48:10.860288Z",
     "start_time": "2024-09-02T19:48:10.249115Z"
    }
   },
   "cell_type": "code",
   "source": [
    "import requests\n",
    "from bs4 import BeautifulSoup\n",
    "\n",
    "# Fazendo a requisição para a página\n",
    "html_text = requests.get('https://www.nuuvem.com/br-pt/catalog/platforms/pc/price/promo/sort/bestselling/sort-mode/desc').text\n",
    "soup = BeautifulSoup(html_text, 'lxml')\n",
    "\n",
    "# Encontrando todos os jogos\n",
    "games = soup.find_all('div', class_='product-card--grid')\n",
    "\n",
    "# Iterando pelos jogos encontrados\n",
    "for game in games:\n",
    "    # Capturando o nome do jogo\n",
    "    game_name = game.find('h3', class_='product-title').text.strip()\n",
    "    \n",
    "    # Capturando as plataformas (caso existam múltiplas plataformas, ajustamos para pegar todas)\n",
    "    platforms = game.find_all('i', class_='icon')\n",
    "    platform_names = ', '.join([platform['title'] for platform in platforms if 'title' in platform.attrs])\n",
    "    \n",
    "    # Capturando o preço\n",
    "    price_integer = game.find('span', class_='integer')\n",
    "    price_decimal = game.find('span', class_='decimal')\n",
    "    \n",
    "    # Se o preço for encontrado, formata corretamente\n",
    "    if price_integer and price_decimal:\n",
    "        price = f\"R$ {price_integer.text.strip()},{price_decimal.text.strip()}\"\n",
    "    else:\n",
    "        price = \"Preço não disponível\"\n",
    "\n",
    "    # Exibindo as informações\n",
    "    print(f\"Nome do Jogo: {game_name}\")\n",
    "    print(f\"Plataformas: {platform_names}\")\n",
    "    print(f\"Preço: {price}\")\n",
    "    print(\"-\" * 40)\n"
   ],
   "id": "ce3266a2c0b32286",
   "outputs": [
    {
     "name": "stdout",
     "output_type": "stream",
     "text": [
      "Nome do Jogo: Black Myth: Wukong\n",
      "Plataformas: Ativação: Steam\n",
      "Preço: R$ ,\n",
      "----------------------------------------\n",
      "Nome do Jogo: Mad Max\n",
      "Plataformas: Ativação: Steam\n",
      "Preço: R$ ,\n",
      "----------------------------------------\n",
      "Nome do Jogo: Middle-earth: Shadow of Mordor - Game of the Year Edition\n",
      "Plataformas: Ativação: Steam\n",
      "Preço: R$ ,\n",
      "----------------------------------------\n",
      "Nome do Jogo: Middle-earth: Shadow of War Definitive Edition\n",
      "Plataformas: Ativação: Steam\n",
      "Preço: R$ ,\n",
      "----------------------------------------\n",
      "Nome do Jogo: LEGO Harry Potter Collection\n",
      "Plataformas: Ativação: Steam\n",
      "Preço: R$ ,\n",
      "----------------------------------------\n",
      "Nome do Jogo: LEGO City Undercover\n",
      "Plataformas: Ativação: Steam\n",
      "Preço: R$ ,\n",
      "----------------------------------------\n",
      "Nome do Jogo: Batman: Arkham Origins - Season Pass\n",
      "Plataformas: Ativação: Steam\n",
      "Preço: R$ ,\n",
      "----------------------------------------\n",
      "Nome do Jogo: LEGO The Lord of the Rings\n",
      "Plataformas: Ativação: Steam\n",
      "Preço: R$ ,\n",
      "----------------------------------------\n",
      "Nome do Jogo: LEGO Marvel Super Heroes 2: Deluxe Edition\n",
      "Plataformas: Ativação: Steam\n",
      "Preço: R$ ,\n",
      "----------------------------------------\n",
      "Nome do Jogo: Batman Arkham Collection\n",
      "Plataformas: Ativação: Steam\n",
      "Preço: R$ ,\n",
      "----------------------------------------\n",
      "Nome do Jogo: F.E.A.R. 3\n",
      "Plataformas: Ativação: Steam\n",
      "Preço: R$ ,\n",
      "----------------------------------------\n",
      "Nome do Jogo: LEGO Marvel Vingadores Deluxe Edition\n",
      "Plataformas: Ativação: Steam\n",
      "Preço: R$ ,\n",
      "----------------------------------------\n",
      "Nome do Jogo: Scribblenauts Unmasked: A DC Comics Adventures\n",
      "Plataformas: Ativação: Steam\n",
      "Preço: R$ ,\n",
      "----------------------------------------\n",
      "Nome do Jogo: Mortal Kombat 11 Kombat Pack 1\n",
      "Plataformas: Ativação: Steam\n",
      "Preço: R$ ,\n",
      "----------------------------------------\n",
      "Nome do Jogo: LEGO The Hobbit\n",
      "Plataformas: Ativação: Steam\n",
      "Preço: R$ ,\n",
      "----------------------------------------\n",
      "Nome do Jogo: Batman: Arkham Knight\n",
      "Plataformas: Ativação: Steam\n",
      "Preço: R$ ,\n",
      "----------------------------------------\n",
      "Nome do Jogo: LEGO Batman\n",
      "Plataformas: Ativação: Steam\n",
      "Preço: R$ ,\n",
      "----------------------------------------\n",
      "Nome do Jogo: Mortal Kombat XL\n",
      "Plataformas: Ativação: Steam\n",
      "Preço: R$ ,\n",
      "----------------------------------------\n",
      "Nome do Jogo: Scribblenauts Unlimited\n",
      "Plataformas: Ativação: Steam\n",
      "Preço: R$ ,\n",
      "----------------------------------------\n",
      "Nome do Jogo: Hogwarts Legacy - Deluxe Edition\n",
      "Plataformas: Ativação: Steam\n",
      "Preço: R$ ,\n",
      "----------------------------------------\n"
     ]
    }
   ],
   "execution_count": 49
  },
  {
   "metadata": {
    "ExecuteTime": {
     "end_time": "2024-09-02T19:49:16.451533Z",
     "start_time": "2024-09-02T19:49:15.460085Z"
    }
   },
   "cell_type": "code",
   "source": [
    "import requests\n",
    "from bs4 import BeautifulSoup\n",
    "\n",
    "# Fazendo a requisição para a página\n",
    "html_text = requests.get('https://www.nuuvem.com/br-pt/catalog/platforms/pc/price/promo/sort/bestselling/sort-mode/desc').text\n",
    "soup = BeautifulSoup(html_text, 'lxml')\n",
    "\n",
    "# Encontrando todos os jogos\n",
    "games = soup.find_all('div', class_='product-card--grid')\n",
    "\n",
    "# Iterando pelos jogos encontrados\n",
    "for game in games:\n",
    "    # Capturando o nome do jogo\n",
    "    game_name = game.find('h3', class_='product-title').text.strip()\n",
    "    \n",
    "    # Capturando as plataformas (caso existam múltiplas plataformas, ajustamos para pegar todas)\n",
    "    platforms = game.find_all('i', class_='icon')\n",
    "    platform_names = ', '.join([platform['title'] for platform in platforms if 'title' in platform.attrs])\n",
    "    \n",
    "    # Capturando o preço\n",
    "    price_integer = game.select_one('.product-button__label .integer')\n",
    "    price_decimal = game.select_one('.product-button__label .decimal')\n",
    "    \n",
    "    # Se o preço for encontrado, formata corretamente\n",
    "    if price_integer and price_decimal:\n",
    "        price = f\"R$ {price_integer.text.strip()},{price_decimal.text.strip()}\"\n",
    "    else:\n",
    "        price = \"Preço não disponível\"\n",
    "\n",
    "    # Exibindo as informações\n",
    "    print(f\"Nome do Jogo: {game_name}\")\n",
    "    print(f\"Plataformas: {platform_names}\")\n",
    "    print(f\"Preço: {price}\")\n",
    "    print(\"-\" * 40)\n"
   ],
   "id": "c723c56762144722",
   "outputs": [
    {
     "name": "stdout",
     "output_type": "stream",
     "text": [
      "Nome do Jogo: Black Myth: Wukong\n",
      "Plataformas: Ativação: Steam\n",
      "Preço: R$ ,\n",
      "----------------------------------------\n",
      "Nome do Jogo: Mad Max\n",
      "Plataformas: Ativação: Steam\n",
      "Preço: R$ ,\n",
      "----------------------------------------\n",
      "Nome do Jogo: Middle-earth: Shadow of Mordor - Game of the Year Edition\n",
      "Plataformas: Ativação: Steam\n",
      "Preço: R$ ,\n",
      "----------------------------------------\n",
      "Nome do Jogo: Middle-earth: Shadow of War Definitive Edition\n",
      "Plataformas: Ativação: Steam\n",
      "Preço: R$ ,\n",
      "----------------------------------------\n",
      "Nome do Jogo: LEGO Harry Potter Collection\n",
      "Plataformas: Ativação: Steam\n",
      "Preço: R$ ,\n",
      "----------------------------------------\n",
      "Nome do Jogo: LEGO City Undercover\n",
      "Plataformas: Ativação: Steam\n",
      "Preço: R$ ,\n",
      "----------------------------------------\n",
      "Nome do Jogo: Batman: Arkham Origins - Season Pass\n",
      "Plataformas: Ativação: Steam\n",
      "Preço: R$ ,\n",
      "----------------------------------------\n",
      "Nome do Jogo: LEGO The Lord of the Rings\n",
      "Plataformas: Ativação: Steam\n",
      "Preço: R$ ,\n",
      "----------------------------------------\n",
      "Nome do Jogo: LEGO Marvel Super Heroes 2: Deluxe Edition\n",
      "Plataformas: Ativação: Steam\n",
      "Preço: R$ ,\n",
      "----------------------------------------\n",
      "Nome do Jogo: Batman Arkham Collection\n",
      "Plataformas: Ativação: Steam\n",
      "Preço: R$ ,\n",
      "----------------------------------------\n",
      "Nome do Jogo: F.E.A.R. 3\n",
      "Plataformas: Ativação: Steam\n",
      "Preço: R$ ,\n",
      "----------------------------------------\n",
      "Nome do Jogo: LEGO Marvel Vingadores Deluxe Edition\n",
      "Plataformas: Ativação: Steam\n",
      "Preço: R$ ,\n",
      "----------------------------------------\n",
      "Nome do Jogo: Scribblenauts Unmasked: A DC Comics Adventures\n",
      "Plataformas: Ativação: Steam\n",
      "Preço: R$ ,\n",
      "----------------------------------------\n",
      "Nome do Jogo: Mortal Kombat 11 Kombat Pack 1\n",
      "Plataformas: Ativação: Steam\n",
      "Preço: R$ ,\n",
      "----------------------------------------\n",
      "Nome do Jogo: LEGO The Hobbit\n",
      "Plataformas: Ativação: Steam\n",
      "Preço: R$ ,\n",
      "----------------------------------------\n",
      "Nome do Jogo: Batman: Arkham Knight\n",
      "Plataformas: Ativação: Steam\n",
      "Preço: R$ ,\n",
      "----------------------------------------\n",
      "Nome do Jogo: LEGO Batman\n",
      "Plataformas: Ativação: Steam\n",
      "Preço: R$ ,\n",
      "----------------------------------------\n",
      "Nome do Jogo: Mortal Kombat XL\n",
      "Plataformas: Ativação: Steam\n",
      "Preço: R$ ,\n",
      "----------------------------------------\n",
      "Nome do Jogo: Scribblenauts Unlimited\n",
      "Plataformas: Ativação: Steam\n",
      "Preço: R$ ,\n",
      "----------------------------------------\n",
      "Nome do Jogo: Hogwarts Legacy - Deluxe Edition\n",
      "Plataformas: Ativação: Steam\n",
      "Preço: R$ ,\n",
      "----------------------------------------\n"
     ]
    }
   ],
   "execution_count": 50
  },
  {
   "metadata": {
    "ExecuteTime": {
     "end_time": "2024-09-02T19:57:15.494673Z",
     "start_time": "2024-09-02T19:56:52.724366Z"
    }
   },
   "cell_type": "code",
   "source": [
    "from selenium import webdriver\n",
    "from bs4 import BeautifulSoup\n",
    "import time\n",
    "\n",
    "# Configurando o Selenium\n",
    "driver = webdriver.Chrome()  # ou webdriver.Firefox() se você estiver usando o Firefox\n",
    "driver.get('https://www.nuuvem.com/br-pt/catalog/platforms/pc/price/promo/sort/bestselling/sort-mode/desc')\n",
    "\n",
    "# Esperando a página carregar completamente (você pode ajustar o tempo se necessário)\n",
    "time.sleep(5)  # Espera 5 segundos para garantir que a página carregue\n",
    "\n",
    "# Capturando o HTML renderizado pelo JavaScript\n",
    "html_text = driver.page_source\n",
    "soup = BeautifulSoup(html_text, 'lxml')\n",
    "\n",
    "# Fechando o navegador\n",
    "driver.quit()\n",
    "\n",
    "# Extraindo os dados como antes\n",
    "games = soup.find_all('div', class_='product-card--grid')\n",
    "\n",
    "for game in games:\n",
    "    game_name = game.find('h3', class_='product-title').text.strip()\n",
    "    \n",
    "    platforms = game.find_all('i', class_='icon')\n",
    "    platform_names = ', '.join([platform['title'] for platform in platforms if 'title' in platform.attrs])\n",
    "    \n",
    "    price_integer = game.select_one('.product-button__label .integer')\n",
    "    price_decimal = game.select_one('.product-button__label .decimal')\n",
    "    \n",
    "    if price_integer and price_decimal:\n",
    "        price = f\"R$ {price_integer.text.strip()}{price_decimal.text.strip()}\"\n",
    "    else:\n",
    "        price = \"Preço não disponível\"\n",
    "\n",
    "    print(f\"Nome do Jogo: {game_name}\")\n",
    "    print(f\"Plataformas: {platform_names}\")\n",
    "    print(f\"Preço: {price}\")\n",
    "    print(\"-\" * 40)\n"
   ],
   "id": "b0c261b4f7a79317",
   "outputs": [
    {
     "name": "stdout",
     "output_type": "stream",
     "text": [
      "Nome do Jogo: Black Myth: Wukong\n",
      "Plataformas: Ativação: Steam\n",
      "Preço: R$ 204,99\n",
      "----------------------------------------\n",
      "Nome do Jogo: Mad Max\n",
      "Plataformas: Ativação: Steam\n",
      "Preço: R$ 4,49\n",
      "----------------------------------------\n",
      "Nome do Jogo: Middle-earth: Shadow of Mordor - Game of the Year Edition\n",
      "Plataformas: Ativação: Steam\n",
      "Preço: R$ 4,49\n",
      "----------------------------------------\n",
      "Nome do Jogo: Middle-earth: Shadow of War Definitive Edition\n",
      "Plataformas: Ativação: Steam\n",
      "Preço: R$ 13,99\n",
      "----------------------------------------\n",
      "Nome do Jogo: LEGO Harry Potter Collection\n",
      "Plataformas: Ativação: Steam\n",
      "Preço: R$ 12,59\n",
      "----------------------------------------\n",
      "Nome do Jogo: LEGO City Undercover\n",
      "Plataformas: Ativação: Steam\n",
      "Preço: R$ 8,99\n",
      "----------------------------------------\n",
      "Nome do Jogo: Batman: Arkham Origins - Season Pass\n",
      "Plataformas: Ativação: Steam\n",
      "Preço: R$ 5,54\n",
      "----------------------------------------\n",
      "Nome do Jogo: LEGO The Lord of the Rings\n",
      "Plataformas: Ativação: Steam\n",
      "Preço: R$ 4,49\n",
      "----------------------------------------\n",
      "Nome do Jogo: LEGO Marvel Super Heroes 2: Deluxe Edition\n",
      "Plataformas: Ativação: Steam\n",
      "Preço: R$ 7,99\n",
      "----------------------------------------\n",
      "Nome do Jogo: Batman Arkham Collection\n",
      "Plataformas: Ativação: Steam\n",
      "Preço: R$ 27,99\n",
      "----------------------------------------\n",
      "Nome do Jogo: F.E.A.R. 3\n",
      "Plataformas: Ativação: Steam\n",
      "Preço: R$ 4,49\n",
      "----------------------------------------\n",
      "Nome do Jogo: LEGO Marvel Vingadores Deluxe Edition\n",
      "Plataformas: Ativação: Steam\n",
      "Preço: R$ 6,49\n",
      "----------------------------------------\n",
      "Nome do Jogo: Scribblenauts Unmasked: A DC Comics Adventures\n",
      "Plataformas: Ativação: Steam\n",
      "Preço: R$ 1,84\n",
      "----------------------------------------\n",
      "Nome do Jogo: LEGO The Hobbit\n",
      "Plataformas: Ativação: Steam\n",
      "Preço: R$ 4,49\n",
      "----------------------------------------\n",
      "Nome do Jogo: Mortal Kombat 11 Kombat Pack 1\n",
      "Plataformas: Ativação: Steam\n",
      "Preço: R$ 5,99\n",
      "----------------------------------------\n",
      "Nome do Jogo: Batman: Arkham Knight\n",
      "Plataformas: Ativação: Steam\n",
      "Preço: R$ 8,99\n",
      "----------------------------------------\n",
      "Nome do Jogo: LEGO Batman\n",
      "Plataformas: Ativação: Steam\n",
      "Preço: R$ 4,49\n",
      "----------------------------------------\n",
      "Nome do Jogo: Mortal Kombat XL\n",
      "Plataformas: Ativação: Steam\n",
      "Preço: R$ 12,99\n",
      "----------------------------------------\n",
      "Nome do Jogo: Scribblenauts Unlimited\n",
      "Plataformas: Ativação: Steam\n",
      "Preço: R$ 4,49\n",
      "----------------------------------------\n",
      "Nome do Jogo: Hogwarts Legacy - Deluxe Edition\n",
      "Plataformas: Ativação: Steam\n",
      "Preço: R$ 89,99\n",
      "----------------------------------------\n"
     ]
    }
   ],
   "execution_count": 53
  },
  {
   "metadata": {},
   "cell_type": "code",
   "outputs": [],
   "execution_count": null,
   "source": "",
   "id": "b8e03c79fc5d15fa"
  }
 ],
 "metadata": {
  "kernelspec": {
   "display_name": "Python 3",
   "language": "python",
   "name": "python3"
  },
  "language_info": {
   "codemirror_mode": {
    "name": "ipython",
    "version": 2
   },
   "file_extension": ".py",
   "mimetype": "text/x-python",
   "name": "python",
   "nbconvert_exporter": "python",
   "pygments_lexer": "ipython2",
   "version": "2.7.6"
  }
 },
 "nbformat": 4,
 "nbformat_minor": 5
}
