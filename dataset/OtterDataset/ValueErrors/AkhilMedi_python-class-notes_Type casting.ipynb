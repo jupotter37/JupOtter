{
 "cells": [
  {
   "cell_type": "code",
   "execution_count": 1,
   "id": "797f1312-e8eb-49b2-abd0-a18ce87f9f6f",
   "metadata": {},
   "outputs": [
    {
     "name": "stdout",
     "output_type": "stream",
     "text": [
      "1020\n",
      "30\n"
     ]
    }
   ],
   "source": [
    "a = \"10\"\n",
    "b = \"20\"\n",
    "print(a + b)\n",
    "a = int(a)\n",
    "b = int(b)\n",
    "print(a + b)"
   ]
  },
  {
   "cell_type": "code",
   "execution_count": 7,
   "id": "ea35b9fc-2ea9-4ef7-979d-2a800fe08228",
   "metadata": {},
   "outputs": [
    {
     "name": "stdout",
     "output_type": "stream",
     "text": [
      "200\n",
      "0.5\n",
      "0\n",
      "10\n"
     ]
    }
   ],
   "source": [
    "c = \"10\"\n",
    "d = \"20\"\n",
    "\n",
    "print(int(c) * int(d))\n",
    "print(int(c) / int(d))\n",
    "print(int(c) // int(d))\n",
    "print(int(c) % int(d))"
   ]
  },
  {
   "cell_type": "code",
   "execution_count": 8,
   "id": "e51470c0-39a7-45d4-9fe7-ef53f3b9138a",
   "metadata": {},
   "outputs": [
    {
     "name": "stdout",
     "output_type": "stream",
     "text": [
      "200\n",
      "0.5\n",
      "0\n"
     ]
    }
   ],
   "source": [
    "a = \"10\"\n",
    "b = \"20\"\n",
    "\n",
    "print(int(c) * int(d))\n",
    "print(int(c) / int(d))\n",
    "print(int(c) // int(d))\n",
    "\n"
   ]
  },
  {
   "cell_type": "code",
   "execution_count": 10,
   "id": "18164ee1-c10f-4ded-ad53-133719742727",
   "metadata": {},
   "outputs": [
    {
     "name": "stdout",
     "output_type": "stream",
     "text": [
      "1234 <class 'str'>\n",
      "1234 <class 'str'>\n"
     ]
    }
   ],
   "source": [
    "a = \"1234\"\n",
    "print(a, type(a))\n",
    "b = str(a)\n",
    "print(b, type(b))"
   ]
  },
  {
   "cell_type": "code",
   "execution_count": 11,
   "id": "fde94b5b-6171-4463-92e6-b3784d5ce8e8",
   "metadata": {},
   "outputs": [
    {
     "ename": "TypeError",
     "evalue": "'int' object is not iterable",
     "output_type": "error",
     "traceback": [
      "\u001b[1;31m---------------------------------------------------------------------------\u001b[0m",
      "\u001b[1;31mTypeError\u001b[0m                                 Traceback (most recent call last)",
      "Cell \u001b[1;32mIn[11], line 2\u001b[0m\n\u001b[0;32m      1\u001b[0m a \u001b[38;5;241m=\u001b[39m \u001b[38;5;241m1000\u001b[39m\n\u001b[1;32m----> 2\u001b[0m a \u001b[38;5;241m=\u001b[39m \u001b[38;5;28mlist\u001b[39m(a)\n\u001b[0;32m      3\u001b[0m \u001b[38;5;28mprint\u001b[39m(a)\n",
      "\u001b[1;31mTypeError\u001b[0m: 'int' object is not iterable"
     ]
    }
   ],
   "source": [
    "# a = 1000\n",
    "# a = list(a)\n",
    "# print(a) # Type Error"
   ]
  },
  {
   "cell_type": "code",
   "execution_count": 12,
   "id": "9b4753cc-f4d5-48a7-bc77-a0ce6ede8b15",
   "metadata": {},
   "outputs": [
    {
     "ename": "ValueError",
     "evalue": "invalid literal for int() with base 10: '12a'",
     "output_type": "error",
     "traceback": [
      "\u001b[1;31m---------------------------------------------------------------------------\u001b[0m",
      "\u001b[1;31mValueError\u001b[0m                                Traceback (most recent call last)",
      "Cell \u001b[1;32mIn[12], line 2\u001b[0m\n\u001b[0;32m      1\u001b[0m a \u001b[38;5;241m=\u001b[39m \u001b[38;5;124m\"\u001b[39m\u001b[38;5;124m12a\u001b[39m\u001b[38;5;124m\"\u001b[39m\n\u001b[1;32m----> 2\u001b[0m b \u001b[38;5;241m=\u001b[39m \u001b[38;5;28mint\u001b[39m(a)\n\u001b[0;32m      3\u001b[0m \u001b[38;5;28mprint\u001b[39m(b)\n",
      "\u001b[1;31mValueError\u001b[0m: invalid literal for int() with base 10: '12a'"
     ]
    }
   ],
   "source": [
    "a = \"12a\"\n",
    "b = int(a)\n",
    "print(b)"
   ]
  },
  {
   "cell_type": "code",
   "execution_count": 13,
   "id": "dae0c6d4-fc2c-443d-b070-070511667554",
   "metadata": {},
   "outputs": [
    {
     "ename": "ValueError",
     "evalue": "could not convert string to float: '12a'",
     "output_type": "error",
     "traceback": [
      "\u001b[1;31m---------------------------------------------------------------------------\u001b[0m",
      "\u001b[1;31mValueError\u001b[0m                                Traceback (most recent call last)",
      "Cell \u001b[1;32mIn[13], line 2\u001b[0m\n\u001b[0;32m      1\u001b[0m a \u001b[38;5;241m=\u001b[39m \u001b[38;5;124m\"\u001b[39m\u001b[38;5;124m12a\u001b[39m\u001b[38;5;124m\"\u001b[39m\n\u001b[1;32m----> 2\u001b[0m b \u001b[38;5;241m=\u001b[39m \u001b[38;5;28mfloat\u001b[39m(a)\n\u001b[0;32m      3\u001b[0m \u001b[38;5;28mprint\u001b[39m(b)\n",
      "\u001b[1;31mValueError\u001b[0m: could not convert string to float: '12a'"
     ]
    }
   ],
   "source": [
    "# a = \"12a\"\n",
    "# b = float(a)\n",
    "# print(b)"
   ]
  },
  {
   "cell_type": "code",
   "execution_count": 14,
   "id": "b62f1c8f-98be-4502-99e9-d9575473d501",
   "metadata": {},
   "outputs": [
    {
     "name": "stdout",
     "output_type": "stream",
     "text": [
      "298\n"
     ]
    }
   ],
   "source": [
    "a = \"12a\"\n",
    "b = int(a, 16)\n",
    "print(b)"
   ]
  },
  {
   "cell_type": "code",
   "execution_count": 10,
   "id": "0e198812-4d53-4263-9a10-1c2f8e44729d",
   "metadata": {},
   "outputs": [
    {
     "name": "stdout",
     "output_type": "stream",
     "text": [
      "153\n"
     ]
    }
   ],
   "source": [
    "a = \"12a\"\n",
    "b = int(a, 11)\n",
    "print(b)"
   ]
  },
  {
   "cell_type": "code",
   "execution_count": 6,
   "id": "1c090ab4-84d3-447e-834e-32fc6c032d6e",
   "metadata": {},
   "outputs": [
    {
     "name": "stdout",
     "output_type": "stream",
     "text": [
      "10\n",
      "74\n"
     ]
    }
   ],
   "source": [
    "a = \"12\"\n",
    "b = int(a, 8)\n",
    "print(b)\n",
    "\n",
    "b = \"112\"\n",
    "c = int(b, 8)\n",
    "print(c)"
   ]
  },
  {
   "cell_type": "code",
   "execution_count": 17,
   "id": "d232c464-fd1b-4f36-816c-0573b71c591e",
   "metadata": {},
   "outputs": [
    {
     "data": {
      "text/plain": [
       "'\\nbinary : 21(0, 1)\\nocta : 8(0, 1, 2,3, 4, 5,6,7)\\ndecimal : 10(0, 1,2,3,4,5,6,7,8,9)\\nhexa decimal : 16(0,1,2,3,4,5,6,7,8,9, a\\n\\n'"
      ]
     },
     "execution_count": 17,
     "metadata": {},
     "output_type": "execute_result"
    }
   ],
   "source": [
    "\"\"\"\n",
    "binary : 21(0, 1)\n",
    "octa : 8(0, 1, 2,3, 4, 5,6,7)\n",
    "decimal : 10(0, 1,2,3,4,5,6,7,8,9)\n",
    "hexa decimal : 16(0,1,2,3,4,5,6,7,8,9, a,b,c,d,e,f)\n",
    "\n",
    "\"\"\""
   ]
  },
  {
   "cell_type": "code",
   "execution_count": 4,
   "id": "06ac804f-5a28-4799-bd96-2c6fe93b9105",
   "metadata": {},
   "outputs": [
    {
     "name": "stdout",
     "output_type": "stream",
     "text": [
      "4831\n"
     ]
    }
   ],
   "source": [
    "print(int(\"12df\", 16))\n"
   ]
  },
  {
   "cell_type": "code",
   "execution_count": 2,
   "id": "03d6ae51-6227-4d6b-ada3-989427d8980b",
   "metadata": {},
   "outputs": [
    {
     "name": "stdout",
     "output_type": "stream",
     "text": [
      "339\n"
     ]
    }
   ],
   "source": [
    "print(int(\"12g\", 17))"
   ]
  },
  {
   "cell_type": "code",
   "execution_count": 1,
   "id": "75efe232-7985-410e-b15a-00b69f6fe060",
   "metadata": {},
   "outputs": [
    {
     "name": "stdout",
     "output_type": "stream",
     "text": [
      "97375\n"
     ]
    }
   ],
   "source": [
    "print(int(\"12dfg\", 17))"
   ]
  },
  {
   "cell_type": "code",
   "execution_count": 23,
   "id": "657f9412-2c1d-4b4f-be22-add779f1867c",
   "metadata": {},
   "outputs": [
    {
     "data": {
      "text/plain": [
       "'\\nbinary : 21(0, 1)\\nocta : 8(0, 1, 2,3, 4, 5,6,7)\\ndecimal : 10(0, 1,2,3,4,5,6,7,8,9)\\nhexa decimal : 16(0,1,2,3,4,5,6,7,8,9, a,b,c,d,e,f)\\n\\n'"
      ]
     },
     "execution_count": 23,
     "metadata": {},
     "output_type": "execute_result"
    }
   ],
   "source": [
    "\"\"\"\n",
    "binary : 21(0, 1)\n",
    "octa : 8(0, 1, 2,3, 4, 5,6,7)\n",
    "decimal : 10(0, 1,2,3,4,5,6,7,8,9)\n",
    "hexa decimal : 16(0,1,2,3,4,5,6,7,8,9, a,b,c,d,e,f)\n",
    "\n",
    "\"\"\""
   ]
  },
  {
   "cell_type": "code",
   "execution_count": 24,
   "id": "c3387599-86ec-467a-8302-fa47f1040224",
   "metadata": {},
   "outputs": [
    {
     "ename": "ValueError",
     "evalue": "invalid literal for int() with base 10: '12.34'",
     "output_type": "error",
     "traceback": [
      "\u001b[1;31m---------------------------------------------------------------------------\u001b[0m",
      "\u001b[1;31mValueError\u001b[0m                                Traceback (most recent call last)",
      "Cell \u001b[1;32mIn[24], line 2\u001b[0m\n\u001b[0;32m      1\u001b[0m a \u001b[38;5;241m=\u001b[39m \u001b[38;5;124m\"\u001b[39m\u001b[38;5;124m12.34\u001b[39m\u001b[38;5;124m\"\u001b[39m\n\u001b[1;32m----> 2\u001b[0m \u001b[38;5;28mprint\u001b[39m(\u001b[38;5;28mint\u001b[39m(a))\n",
      "\u001b[1;31mValueError\u001b[0m: invalid literal for int() with base 10: '12.34'"
     ]
    }
   ],
   "source": [
    "a = \"12.34\"\n",
    "print(int(a))"
   ]
  },
  {
   "cell_type": "code",
   "execution_count": 25,
   "id": "a51d2731-8706-4b59-a1a1-889a8bd36a2f",
   "metadata": {},
   "outputs": [
    {
     "data": {
      "text/plain": [
       "\u001b[1;31mInit signature:\u001b[0m \u001b[0mint\u001b[0m\u001b[1;33m(\u001b[0m\u001b[0mself\u001b[0m\u001b[1;33m,\u001b[0m \u001b[1;33m/\u001b[0m\u001b[1;33m,\u001b[0m \u001b[1;33m*\u001b[0m\u001b[0margs\u001b[0m\u001b[1;33m,\u001b[0m \u001b[1;33m**\u001b[0m\u001b[0mkwargs\u001b[0m\u001b[1;33m)\u001b[0m\u001b[1;33m\u001b[0m\u001b[1;33m\u001b[0m\u001b[0m\n",
       "\u001b[1;31mDocstring:\u001b[0m     \n",
       "int([x]) -> integer\n",
       "int(x, base=10) -> integer\n",
       "\n",
       "Convert a number or string to an integer, or return 0 if no arguments\n",
       "are given.  If x is a number, return x.__int__().  For floating point\n",
       "numbers, this truncates towards zero.\n",
       "\n",
       "If x is not a number or if base is given, then x must be a string,\n",
       "bytes, or bytearray instance representing an integer literal in the\n",
       "given base.  The literal can be preceded by '+' or '-' and be surrounded\n",
       "by whitespace.  The base defaults to 10.  Valid bases are 0 and 2-36.\n",
       "Base 0 means to interpret the base from the string as an integer literal.\n",
       ">>> int('0b100', base=0)\n",
       "4\n",
       "\u001b[1;31mType:\u001b[0m           type\n",
       "\u001b[1;31mSubclasses:\u001b[0m     bool, IntEnum, IntFlag, _NamedIntConstant, Handle"
      ]
     },
     "metadata": {},
     "output_type": "display_data"
    }
   ],
   "source": [
    "# int?\n",
    "\n",
    "# \"\"\"\n",
    "# Init signature: int(self, /, *args, **kwargs)\n",
    "# Docstring:     \n",
    "# int([x]) -> integer\n",
    "# int(x, base=10) -> integer\n",
    "\n",
    "# Convert a number or string to an integer, or return 0 if no arguments\n",
    "# are given.  If x is a number, return x.__int__().  For floating point\n",
    "# numbers, this truncates towards zero.\n",
    "\n",
    "# If x is not a number or if base is given, then x must be a string,\n",
    "# bytes, or bytearray instance representing an integer literal in the\n",
    "# given base.  The literal can be preceded by '+' or '-' and be surrounded\n",
    "# by whitespace.  The base defaults to 10.  Valid bases are 0 and 2-36.\n",
    "# Base 0 means to interpret the base from the string as an integer literal.\n",
    "# >>> int('0b100', base=0)\n",
    "# 4\n",
    "# Type:           type\n",
    "# Subclasses:     bool, IntEnum, IntFlag, _NamedIntConstant, Handle\n",
    "# \"\"\""
   ]
  },
  {
   "cell_type": "code",
   "execution_count": 3,
   "id": "3da51e2a-f350-4412-954c-91e29d94b191",
   "metadata": {},
   "outputs": [],
   "source": [
    "# float?\n",
    "\n",
    "# Init signature: float(x=0, /)\n",
    "# Docstring:      Convert a string or number to a floating point number, if possible.\n",
    "# Type:           type\n",
    "# Subclasses:     "
   ]
  },
  {
   "cell_type": "code",
   "execution_count": null,
   "id": "5f0fb1bd-5b51-4a19-a776-24c7fd38eb09",
   "metadata": {},
   "outputs": [],
   "source": []
  }
 ],
 "metadata": {
  "kernelspec": {
   "display_name": "Python 3 (ipykernel)",
   "language": "python",
   "name": "python3"
  },
  "language_info": {
   "codemirror_mode": {
    "name": "ipython",
    "version": 3
   },
   "file_extension": ".py",
   "mimetype": "text/x-python",
   "name": "python",
   "nbconvert_exporter": "python",
   "pygments_lexer": "ipython3",
   "version": "3.12.4"
  }
 },
 "nbformat": 4,
 "nbformat_minor": 5
}
