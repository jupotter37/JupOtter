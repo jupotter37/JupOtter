{
 "cells": [
  {
   "cell_type": "code",
   "execution_count": 4,
   "metadata": {},
   "outputs": [
    {
     "data": {
      "application/vnd.jupyter.widget-view+json": {
       "model_id": "6c95687a19d34cdf9db73e6ee9e0f1cb",
       "version_major": 2,
       "version_minor": 0
      },
      "text/plain": [
       "Textarea(value='')"
      ]
     },
     "metadata": {},
     "output_type": "display_data"
    }
   ],
   "source": [
    "from ipywidgets import Textarea\n",
    "import ipywidgets as widgets\n",
    "from IPython.display import display, clear_output\n",
    "\n",
    "def get_input(change):\n",
    "    global Input\n",
    "    Input = change[\"new\"]\n",
    "\n",
    "output = widgets.Output()\n",
    "textarea = Textarea()\n",
    "textarea.observe(get_input, names='value')\n",
    "display(textarea)\n"
   ]
  },
  {
   "cell_type": "code",
   "execution_count": 15,
   "metadata": {},
   "outputs": [
    {
     "data": {
      "application/vnd.jupyter.widget-view+json": {
       "model_id": "97ff1529ac2842c5b522132e1c99f8de",
       "version_major": 2,
       "version_minor": 0
      },
      "text/plain": [
       "Textarea(value='Hello World', description='String:', placeholder='Type something')"
      ]
     },
     "metadata": {},
     "output_type": "display_data"
    }
   ],
   "source": [
    "Textarea(\n",
    "    value='Hello World',\n",
    "    placeholder='Type something',\n",
    "    description='String:',\n",
    "    disabled=False\n",
    ")"
   ]
  },
  {
   "cell_type": "code",
   "execution_count": 7,
   "metadata": {},
   "outputs": [
    {
     "ename": "NameError",
     "evalue": "name 'Input' is not defined",
     "output_type": "error",
     "traceback": [
      "\u001b[0;31m---------------------------------------------------------------------------\u001b[0m",
      "\u001b[0;31mNameError\u001b[0m                                 Traceback (most recent call last)",
      "Input \u001b[0;32mIn [7]\u001b[0m, in \u001b[0;36m<cell line: 1>\u001b[0;34m()\u001b[0m\n\u001b[0;32m----> 1\u001b[0m IN \u001b[38;5;241m=\u001b[39m \u001b[38;5;28miter\u001b[39m(\u001b[43mInput\u001b[49m\u001b[38;5;241m.\u001b[39msplit(\u001b[38;5;124m'\u001b[39m\u001b[38;5;130;01m\\n\u001b[39;00m\u001b[38;5;124m'\u001b[39m))\u001b[38;5;241m.\u001b[39m\u001b[38;5;21m__next__\u001b[39m\n\u001b[1;32m      2\u001b[0m \u001b[38;5;28;01mdef\u001b[39;00m \u001b[38;5;21minput\u001b[39m():\n\u001b[1;32m      3\u001b[0m     \u001b[38;5;28;01mreturn\u001b[39;00m IN()\n",
      "\u001b[0;31mNameError\u001b[0m: name 'Input' is not defined"
     ]
    }
   ],
   "source": [
    "IN = iter(Input.split('\\n')).__next__\n",
    "def input():\n",
    "    return IN()\n",
    "\n"
   ]
  },
  {
   "cell_type": "code",
   "execution_count": 21,
   "metadata": {},
   "outputs": [
    {
     "name": "stdout",
     "output_type": "stream",
     "text": [
      "3333\n"
     ]
    }
   ],
   "source": [
    "IN = iter(Input.split('\\n')).__next__\n",
    "def input():\n",
    "    return IN()\n",
    "\n",
    "n = int(input())\n",
    "a, b, c = map(int, input().split())\n",
    "ans = pow(10, 18)\n",
    "for i in range(10000):\n",
    "    if a * i > n:\n",
    "        break\n",
    "    for j in range(10000-i):\n",
    "        if a * i + b * j > n:\n",
    "            break\n",
    "        if (n - (a * i + b * j )) % c == 0:\n",
    "            k = (n - (a * i + b * j )) / c\n",
    "            ans = min(ans, i+j+k)\n",
    "\n",
    "print(int(ans))"
   ]
  },
  {
   "cell_type": "code",
   "execution_count": null,
   "metadata": {},
   "outputs": [],
   "source": [
    "IN = iter(Input.split('\\n')).__next__\n",
    "def input():\n",
    "    return IN()\n",
    "\n",
    "n = int(input())\n",
    "cps = [list(map(int, input().split())) for cp in range(n)]\n",
    "q = int(input())\n",
    "lrs = [list(map(int, input().split())) for lr in range(q)]\n",
    "\n",
    "## a組とb組とする\n",
    "a_sums = []\n",
    "a = 0\n",
    "b_sums = []\n",
    "b = 0\n",
    "for cp in cps:\n",
    "    if cp[0] == 1: \n",
    "        a += cp[1]\n",
    "        a_sums.append(a)\n",
    "        b_sums.append(b)\n",
    "    else:\n",
    "        b += cp[1]\n",
    "        b_sums.append(b)\n",
    "        a_sums.append(a)\n",
    "\n",
    "for lr in lrs:\n",
    "    start = 0 if lr[0] - 2 < 0 else a_sums[lr[0] - 2]\n",
    "    ans_a = a_sums[lr[1]-1] - start\n",
    "    start = 0 if lr[0] - 2 < 0 else b_sums[lr[0] - 2]\n",
    "    ans_b = b_sums[lr[1]-1] - start  \n",
    "    print(ans_a, ans_b)"
   ]
  },
  {
   "cell_type": "code",
   "execution_count": 23,
   "metadata": {},
   "outputs": [
    {
     "name": "stdout",
     "output_type": "stream",
     "text": [
      "72 172\n",
      "23 172\n",
      "23 183\n",
      "63 89\n",
      "115 89\n",
      "95 261\n",
      "63 261\n",
      "138 183\n",
      "135 261\n",
      "138 261\n"
     ]
    }
   ],
   "source": [
    "IN = iter(Input.split('\\n')).__next__\n",
    "def input():\n",
    "    return IN()\n",
    "\n",
    "n = int(input())\n",
    "cps = [list(map(int, input().split())) for cp in range(n)]\n",
    "q = int(input())\n",
    "lrs = [list(map(int, input().split())) for lr in range(q)]\n",
    "\n",
    "## a組とb組とする\n",
    "a_sums = []\n",
    "a = 0\n",
    "b_sums = []\n",
    "b = 0\n",
    "for cp in cps:\n",
    "    if cp[0] == 1: \n",
    "        a += cp[1]\n",
    "        a_sums.append(a)\n",
    "        b_sums.append(b)\n",
    "    else:\n",
    "        b += cp[1]\n",
    "        b_sums.append(b)\n",
    "        a_sums.append(a)\n",
    "\n",
    "for lr in lrs:\n",
    "    start = 0 if lr[0] - 2 < 0 else a_sums[lr[0] - 2]\n",
    "    ans_a = a_sums[lr[1]-1] - start\n",
    "    start = 0 if lr[0] - 2 < 0 else b_sums[lr[0] - 2]\n",
    "    ans_b = b_sums[lr[1]-1] - start  \n",
    "    print(ans_a, ans_b)"
   ]
  },
  {
   "cell_type": "code",
   "execution_count": 46,
   "metadata": {},
   "outputs": [
    {
     "data": {
      "text/plain": [
       "['1']"
      ]
     },
     "execution_count": 46,
     "metadata": {},
     "output_type": "execute_result"
    }
   ],
   "source": [
    "n = int(input())\n",
    "n, m, k, s, t, x= map(int, input().split())\n",
    "\n",
    "xy = [list(map(int, input().split())) for xy in range(n)]\n",
    "y = list(map(lambda aa: aa[1], xy))\n",
    "y = collections.Counter(y)    \n",
    "y_c = list(y.items())"
   ]
  },
  {
   "cell_type": "code",
   "execution_count": 22,
   "metadata": {},
   "outputs": [
    {
     "name": "stdout",
     "output_type": "stream",
     "text": [
      "25 4\n",
      "71 18\n",
      "195\n"
     ]
    }
   ],
   "source": [
    "IN = iter(Input.split('\\n')).__next__\n",
    "def input():\n",
    "    return IN()\n",
    "\n",
    "n = int(input())\n",
    "cnt_2 = 4\n",
    "cnt_all = 25\n",
    "if n == 1:\n",
    "    print(9)\n",
    "elif n == 2:\n",
    "    print(25)\n",
    "else:\n",
    "    for i in range(n-2):\n",
    "        cnt_all = 2 * (cnt_2) + 3 * (cnt_all - cnt_2)\n",
    "        cnt_2 = 2 * ( 2 * (cnt_2) + 1)\n",
    "print(cnt_all)"
   ]
  },
  {
   "cell_type": "code",
   "execution_count": 11,
   "metadata": {},
   "outputs": [
    {
     "data": {
      "text/plain": [
       "3"
      ]
     },
     "execution_count": 11,
     "metadata": {},
     "output_type": "execute_result"
    }
   ],
   "source": [
    "memo"
   ]
  },
  {
   "cell_type": "code",
   "execution_count": 8,
   "metadata": {},
   "outputs": [
    {
     "ename": "ValueError",
     "evalue": "invalid literal for int() with base 10: 'saxasx'",
     "output_type": "error",
     "traceback": [
      "\u001b[0;31m---------------------------------------------------------------------------\u001b[0m",
      "\u001b[0;31mValueError\u001b[0m                                Traceback (most recent call last)",
      "\u001b[0;32m<ipython-input-8-5255184ee991>\u001b[0m in \u001b[0;36m<module>\u001b[0;34m\u001b[0m\n\u001b[1;32m     13\u001b[0m \u001b[0;34m\u001b[0m\u001b[0m\n\u001b[1;32m     14\u001b[0m \u001b[0;34m\u001b[0m\u001b[0m\n\u001b[0;32m---> 15\u001b[0;31m \u001b[0mn\u001b[0m \u001b[0;34m=\u001b[0m \u001b[0mint\u001b[0m\u001b[0;34m(\u001b[0m\u001b[0minput\u001b[0m\u001b[0;34m(\u001b[0m\u001b[0;34m)\u001b[0m\u001b[0;34m)\u001b[0m\u001b[0;34m\u001b[0m\u001b[0;34m\u001b[0m\u001b[0m\n\u001b[0m\u001b[1;32m     16\u001b[0m \u001b[0mat\u001b[0m \u001b[0;34m=\u001b[0m \u001b[0;34m[\u001b[0m\u001b[0mlist\u001b[0m\u001b[0;34m(\u001b[0m\u001b[0mmap\u001b[0m\u001b[0;34m(\u001b[0m\u001b[0mint\u001b[0m\u001b[0;34m,\u001b[0m \u001b[0minput\u001b[0m\u001b[0;34m(\u001b[0m\u001b[0;34m)\u001b[0m\u001b[0;34m.\u001b[0m\u001b[0msplit\u001b[0m\u001b[0;34m(\u001b[0m\u001b[0;34m)\u001b[0m\u001b[0;34m)\u001b[0m\u001b[0;34m)\u001b[0m \u001b[0;32mfor\u001b[0m \u001b[0mat\u001b[0m \u001b[0;32min\u001b[0m \u001b[0mrange\u001b[0m\u001b[0;34m(\u001b[0m\u001b[0mn\u001b[0m\u001b[0;34m)\u001b[0m\u001b[0;34m]\u001b[0m\u001b[0;34m\u001b[0m\u001b[0;34m\u001b[0m\u001b[0m\n\u001b[1;32m     17\u001b[0m \u001b[0mq\u001b[0m \u001b[0;34m=\u001b[0m \u001b[0mint\u001b[0m\u001b[0;34m(\u001b[0m\u001b[0minput\u001b[0m\u001b[0;34m(\u001b[0m\u001b[0;34m)\u001b[0m\u001b[0;34m)\u001b[0m\u001b[0;34m\u001b[0m\u001b[0;34m\u001b[0m\u001b[0m\n",
      "\u001b[0;31mValueError\u001b[0m: invalid literal for int() with base 10: 'saxasx'"
     ]
    }
   ],
   "source": [
    "IN = iter(Input.split('\\n')).__next__\n",
    "def input():\n",
    "    return IN()\n",
    "\n",
    "\n",
    "def x_solve(x,a,t):\n",
    "    if t == 1:\n",
    "        return x + a\n",
    "    elif t == 2:\n",
    "        return max(x, a)\n",
    "    elif t == 3:\n",
    "        return min(x, a)\n",
    "    \n",
    "\n",
    "n = int(input())\n",
    "at = [list(map(int, input().split())) for at in range(n)]\n",
    "q = int(input())\n",
    "x = list(map(int, input().split()))\n",
    "\n",
    "\n",
    "for i in range(q):\n",
    "    x_0 = x[i]\n",
    "    for m in range(n):\n",
    "        x_0 = x_solve(x_0, at[m][0], at[m][1])\n",
    "    print(x_0)"
   ]
  },
  {
   "cell_type": "code",
   "execution_count": 18,
   "metadata": {},
   "outputs": [
    {
     "name": "stdout",
     "output_type": "stream",
     "text": [
      "{'test': 1}\n",
      "{'test': 1, '-15 -10 2': -10}\n",
      "{'test': 1, '-15 -10 2': -10, '-10 10 1': 0}\n",
      "0\n",
      "{'test': 1, '-15 -10 2': -10, '-10 10 1': 0, '0 10 3': 0}\n",
      "{'test': 1, '-15 -10 2': -10, '-10 10 1': 0, '0 10 3': 0, '-10 -10 2': -10}\n",
      "{'test': 1, '-15 -10 2': -10, '-10 10 1': 0, '0 10 3': 0, '-10 -10 2': -10}\n",
      "0\n",
      "{'test': 1, '-15 -10 2': -10, '-10 10 1': 0, '0 10 3': 0, '-10 -10 2': -10}\n",
      "{'test': 1, '-15 -10 2': -10, '-10 10 1': 0, '0 10 3': 0, '-10 -10 2': -10, '-5 -10 2': -5}\n",
      "{'test': 1, '-15 -10 2': -10, '-10 10 1': 0, '0 10 3': 0, '-10 -10 2': -10, '-5 -10 2': -5, '-5 10 1': 5}\n",
      "5\n",
      "{'test': 1, '-15 -10 2': -10, '-10 10 1': 0, '0 10 3': 0, '-10 -10 2': -10, '-5 -10 2': -5, '-5 10 1': 5, '5 10 3': 5}\n",
      "{'test': 1, '-15 -10 2': -10, '-10 10 1': 0, '0 10 3': 0, '-10 -10 2': -10, '-5 -10 2': -5, '-5 10 1': 5, '5 10 3': 5, '0 -10 2': 0}\n",
      "{'test': 1, '-15 -10 2': -10, '-10 10 1': 0, '0 10 3': 0, '-10 -10 2': -10, '-5 -10 2': -5, '-5 10 1': 5, '5 10 3': 5, '0 -10 2': 0, '0 10 1': 10}\n",
      "10\n",
      "{'test': 1, '-15 -10 2': -10, '-10 10 1': 0, '0 10 3': 0, '-10 -10 2': -10, '-5 -10 2': -5, '-5 10 1': 5, '5 10 3': 5, '0 -10 2': 0, '0 10 1': 10, '10 10 3': 10}\n",
      "{'test': 1, '-15 -10 2': -10, '-10 10 1': 0, '0 10 3': 0, '-10 -10 2': -10, '-5 -10 2': -5, '-5 10 1': 5, '5 10 3': 5, '0 -10 2': 0, '0 10 1': 10, '10 10 3': 10, '5 -10 2': 5}\n",
      "{'test': 1, '-15 -10 2': -10, '-10 10 1': 0, '0 10 3': 0, '-10 -10 2': -10, '-5 -10 2': -5, '-5 10 1': 5, '5 10 3': 5, '0 -10 2': 0, '0 10 1': 10, '10 10 3': 10, '5 -10 2': 5, '5 10 1': 15}\n",
      "10\n"
     ]
    }
   ],
   "source": [
    "IN = iter(Input.split('\\n')).__next__\n",
    "def input():\n",
    "    return IN()\n",
    "\n",
    "\n",
    "def x_solve(x,a,t):\n",
    "    memo_str = str(x)+' ' + str(a)+' ' + str(t)\n",
    "    if memo_str in d.keys():\n",
    "        return d[memo_str]\n",
    "    else:\n",
    "        if t == 1:\n",
    "            d[memo_str] = x + a\n",
    "            return d[memo_str]\n",
    "        elif t == 2:\n",
    "            d[memo_str] = max(x,a)\n",
    "            return d[memo_str]\n",
    "        elif t == 3:\n",
    "            d[memo_str] = min(x,a)\n",
    "            return d[memo_str]\n",
    "    \n",
    "\n",
    "n = int(input())\n",
    "at = [list(map(int, input().split())) for at in range(n)]\n",
    "q = int(input())\n",
    "x = list(map(int, input().split()))\n",
    "d = {'test': 1}\n",
    "\n",
    "for i in range(q):\n",
    "    x_0 = x[i]\n",
    "    for m in range(n):\n",
    "        x_0 = x_solve(x_0, at[m][0], at[m][1])\n",
    "    print(x_0)\n",
    "    \n",
    "\n",
    "    \n"
   ]
  },
  {
   "cell_type": "code",
   "execution_count": 53,
   "metadata": {},
   "outputs": [
    {
     "name": "stdout",
     "output_type": "stream",
     "text": [
      "99634\n"
     ]
    }
   ],
   "source": [
    "IN = iter(Input.split('\\n')).__next__\n",
    "def input():\n",
    "    return IN()\n",
    "\n",
    "import math\n",
    "\n",
    "# write codes\n",
    "n = int(input())\n",
    "num_list = []\n",
    "\n",
    "sqr = math.sqrt(n)\n",
    "sqr = math.floor(sqr)\n",
    "for i in range(2, sqr):\n",
    "    for m in range(2, 40):\n",
    "        reu = math.pow(i, m)\n",
    "        if reu > n:\n",
    "            break\n",
    "        else:\n",
    "            num_list.append(int(reu))\n",
    "\n",
    "num_list_uniu = list(set(num_list))\n",
    "print(n - len(num_list_uniu) - 1)"
   ]
  },
  {
   "cell_type": "code",
   "execution_count": 1,
   "metadata": {},
   "outputs": [
    {
     "name": "stdout",
     "output_type": "stream",
     "text": [
      "\n"
     ]
    },
    {
     "ename": "ValueError",
     "evalue": "invalid literal for int() with base 10: ''",
     "output_type": "error",
     "traceback": [
      "\u001b[0;31m---------------------------------------------------------------------------\u001b[0m",
      "\u001b[0;31mValueError\u001b[0m                                Traceback (most recent call last)",
      "\u001b[0;32m<ipython-input-1-5ad510bb01dc>\u001b[0m in \u001b[0;36m<module>\u001b[0;34m\u001b[0m\n\u001b[1;32m      1\u001b[0m \u001b[0;31m# -*- coding: utf-8 -*-\u001b[0m\u001b[0;34m\u001b[0m\u001b[0;34m\u001b[0m\u001b[0;34m\u001b[0m\u001b[0m\n\u001b[1;32m      2\u001b[0m \u001b[0;31m# 整数の入力\u001b[0m\u001b[0;34m\u001b[0m\u001b[0;34m\u001b[0m\u001b[0;34m\u001b[0m\u001b[0m\n\u001b[0;32m----> 3\u001b[0;31m \u001b[0ma\u001b[0m \u001b[0;34m=\u001b[0m \u001b[0mint\u001b[0m\u001b[0;34m(\u001b[0m\u001b[0minput\u001b[0m\u001b[0;34m(\u001b[0m\u001b[0;34m)\u001b[0m\u001b[0;34m)\u001b[0m\u001b[0;34m\u001b[0m\u001b[0;34m\u001b[0m\u001b[0m\n\u001b[0m\u001b[1;32m      4\u001b[0m \u001b[0;31m# スペース区切りの整数の入力\u001b[0m\u001b[0;34m\u001b[0m\u001b[0;34m\u001b[0m\u001b[0;34m\u001b[0m\u001b[0m\n\u001b[1;32m      5\u001b[0m \u001b[0mb\u001b[0m\u001b[0;34m,\u001b[0m \u001b[0mc\u001b[0m \u001b[0;34m=\u001b[0m \u001b[0mmap\u001b[0m\u001b[0;34m(\u001b[0m\u001b[0mint\u001b[0m\u001b[0;34m,\u001b[0m \u001b[0minput\u001b[0m\u001b[0;34m(\u001b[0m\u001b[0;34m)\u001b[0m\u001b[0;34m.\u001b[0m\u001b[0msplit\u001b[0m\u001b[0;34m(\u001b[0m\u001b[0;34m)\u001b[0m\u001b[0;34m)\u001b[0m\u001b[0;34m\u001b[0m\u001b[0;34m\u001b[0m\u001b[0m\n",
      "\u001b[0;31mValueError\u001b[0m: invalid literal for int() with base 10: ''"
     ]
    }
   ],
   "source": [
    "# -*- coding: utf-8 -*-\n",
    "# 整数の入力\n",
    "a = int(input())\n",
    "# スペース区切りの整数の入力\n",
    "b, c = map(int, input().split())\n",
    "# 文字列の入力\n",
    "s = input()\n",
    "# 出力\n",
    "print(\"{} {}\".format(a+b+c, s))"
   ]
  },
  {
   "cell_type": "code",
   "execution_count": 3,
   "metadata": {},
   "outputs": [
    {
     "name": "stdout",
     "output_type": "stream",
     "text": [
      "1\n",
      "2 3\n",
      "r\n",
      "6 r\n"
     ]
    }
   ],
   "source": [
    "a = int(input())\n",
    "b, c= map(int, input().split())\n",
    "s = input()\n",
    "\n",
    "print(a+b+c, s)\n"
   ]
  },
  {
   "cell_type": "code",
   "execution_count": 6,
   "metadata": {},
   "outputs": [
    {
     "name": "stdout",
     "output_type": "stream",
     "text": [
      "3 5\n",
      "Odd\n"
     ]
    }
   ],
   "source": [
    "b, c= map(int, input().split())\n",
    "print('Odd') if b*c % 2 != 0 else print('Even')\n"
   ]
  },
  {
   "cell_type": "code",
   "execution_count": 10,
   "metadata": {},
   "outputs": [
    {
     "name": "stdout",
     "output_type": "stream",
     "text": [
      "101\n",
      "2\n"
     ]
    }
   ],
   "source": [
    "a = input()\n",
    "print(a.count('1'))\n"
   ]
  },
  {
   "cell_type": "code",
   "execution_count": 7,
   "metadata": {},
   "outputs": [
    {
     "ename": "StopIteration",
     "evalue": "",
     "output_type": "error",
     "traceback": [
      "\u001b[0;31m---------------------------------------------------------------------------\u001b[0m",
      "\u001b[0;31mStopIteration\u001b[0m                             Traceback (most recent call last)",
      "\u001b[0;32m<ipython-input-7-c8553be0ef79>\u001b[0m in \u001b[0;36m<module>\u001b[0;34m\u001b[0m\n\u001b[0;32m----> 1\u001b[0;31m \u001b[0mn\u001b[0m \u001b[0;34m=\u001b[0m \u001b[0minput\u001b[0m\u001b[0;34m(\u001b[0m\u001b[0;34m)\u001b[0m\u001b[0;34m\u001b[0m\u001b[0;34m\u001b[0m\u001b[0m\n\u001b[0m\u001b[1;32m      2\u001b[0m \u001b[0ma\u001b[0m \u001b[0;34m=\u001b[0m \u001b[0mmap\u001b[0m\u001b[0;34m(\u001b[0m\u001b[0mint\u001b[0m\u001b[0;34m,\u001b[0m \u001b[0minput\u001b[0m\u001b[0;34m(\u001b[0m\u001b[0;34m)\u001b[0m\u001b[0;34m.\u001b[0m\u001b[0msplit\u001b[0m\u001b[0;34m(\u001b[0m\u001b[0;34m)\u001b[0m\u001b[0;34m)\u001b[0m\u001b[0;34m\u001b[0m\u001b[0;34m\u001b[0m\u001b[0m\n",
      "\u001b[0;32m<ipython-input-6-62ddd76eda4c>\u001b[0m in \u001b[0;36minput\u001b[0;34m()\u001b[0m\n\u001b[1;32m      1\u001b[0m \u001b[0mIN\u001b[0m \u001b[0;34m=\u001b[0m \u001b[0miter\u001b[0m\u001b[0;34m(\u001b[0m\u001b[0mInput\u001b[0m\u001b[0;34m.\u001b[0m\u001b[0msplit\u001b[0m\u001b[0;34m(\u001b[0m\u001b[0;34m'\\n'\u001b[0m\u001b[0;34m)\u001b[0m\u001b[0;34m)\u001b[0m\u001b[0;34m.\u001b[0m\u001b[0m__next__\u001b[0m\u001b[0;34m\u001b[0m\u001b[0;34m\u001b[0m\u001b[0m\n\u001b[1;32m      2\u001b[0m \u001b[0;32mdef\u001b[0m \u001b[0minput\u001b[0m\u001b[0;34m(\u001b[0m\u001b[0;34m)\u001b[0m\u001b[0;34m:\u001b[0m\u001b[0;34m\u001b[0m\u001b[0;34m\u001b[0m\u001b[0m\n\u001b[0;32m----> 3\u001b[0;31m     \u001b[0;32mreturn\u001b[0m \u001b[0mIN\u001b[0m\u001b[0;34m(\u001b[0m\u001b[0;34m)\u001b[0m\u001b[0;34m\u001b[0m\u001b[0;34m\u001b[0m\u001b[0m\n\u001b[0m\u001b[1;32m      4\u001b[0m \u001b[0;34m\u001b[0m\u001b[0m\n\u001b[1;32m      5\u001b[0m \u001b[0;34m\u001b[0m\u001b[0m\n",
      "\u001b[0;31mStopIteration\u001b[0m: "
     ]
    }
   ],
   "source": [
    "n = input()\n",
    "a = input().split()\n",
    "a = list(map(int, a))"
   ]
  },
  {
   "cell_type": "code",
   "execution_count": null,
   "metadata": {},
   "outputs": [],
   "source": []
  }
 ],
 "metadata": {
  "kernelspec": {
   "display_name": "Python 3 (ipykernel)",
   "language": "python",
   "name": "python3"
  },
  "language_info": {
   "codemirror_mode": {
    "name": "ipython",
    "version": 3
   },
   "file_extension": ".py",
   "mimetype": "text/x-python",
   "name": "python",
   "nbconvert_exporter": "python",
   "pygments_lexer": "ipython3",
   "version": "3.9.13"
  }
 },
 "nbformat": 4,
 "nbformat_minor": 4
}
