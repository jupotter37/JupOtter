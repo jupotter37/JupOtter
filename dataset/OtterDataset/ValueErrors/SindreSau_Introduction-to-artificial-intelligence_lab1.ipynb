{
 "cells": [
  {
   "cell_type": "code",
   "execution_count": 1,
   "id": "initial_id",
   "metadata": {
    "collapsed": true,
    "ExecuteTime": {
     "end_time": "2023-09-28T15:53:12.683691Z",
     "start_time": "2023-09-28T15:53:12.682376Z"
    }
   },
   "outputs": [],
   "source": [
    "import pandas as pd\n",
    "import numpy as np\n",
    "import matplotlib.pyplot as plt"
   ]
  },
  {
   "cell_type": "code",
   "execution_count": 2,
   "outputs": [],
   "source": [
    "url = \"https://raw.githubusercontent.com/umaimehm/Intro_to_AI_2021/main/Lab1/stud.csv\""
   ],
   "metadata": {
    "collapsed": false,
    "ExecuteTime": {
     "end_time": "2023-09-28T15:53:12.689981Z",
     "start_time": "2023-09-28T15:53:12.684337Z"
    }
   },
   "id": "c813b23558c981dc"
  },
  {
   "cell_type": "code",
   "execution_count": 3,
   "outputs": [],
   "source": [
    "# df = pd.read_csv(url, index_col='StudentID')\n",
    "df = pd.read_csv(url)"
   ],
   "metadata": {
    "collapsed": false,
    "ExecuteTime": {
     "end_time": "2023-09-28T15:53:12.788516Z",
     "start_time": "2023-09-28T15:53:12.687256Z"
    }
   },
   "id": "74bb3747e17175a7"
  },
  {
   "cell_type": "code",
   "execution_count": 4,
   "outputs": [
    {
     "name": "stdout",
     "output_type": "stream",
     "text": [
      "<class 'pandas.core.frame.DataFrame'>\n",
      "RangeIndex: 50 entries, 0 to 49\n",
      "Data columns (total 5 columns):\n",
      " #   Column      Non-Null Count  Dtype  \n",
      "---  ------      --------------  -----  \n",
      " 0   StudentID   50 non-null     int64  \n",
      " 1   Age         50 non-null     object \n",
      " 2   email       50 non-null     object \n",
      " 3   hrsStudy    50 non-null     object \n",
      " 4   FinalGrade  49 non-null     float64\n",
      "dtypes: float64(1), int64(1), object(3)\n",
      "memory usage: 2.1+ KB\n"
     ]
    }
   ],
   "source": [
    "df.info()"
   ],
   "metadata": {
    "collapsed": false,
    "ExecuteTime": {
     "end_time": "2023-09-28T15:53:12.795759Z",
     "start_time": "2023-09-28T15:53:12.791785Z"
    }
   },
   "id": "20dae404ea66980d"
  },
  {
   "cell_type": "code",
   "execution_count": 5,
   "outputs": [
    {
     "data": {
      "text/plain": "    StudentID  Age              email hrsStudy  FinalGrade\n0       47412   20  s47412@oslomet.no        5        46.0\n1       15077   22  s15077@oslomet.no        0        65.0\n2       15467   27  s15467@oslomet.no        1        26.0\n3       17907   21  s17907@oslomet.no        6        68.0\n4       13352  333  s13352@oslomet.no        4        34.0\n5       88403   29  s88403@oslomet.no       11        62.0\n6       56387   32  s56387@oslomet.no        9        29.0\n7       95648   23  s95648@oslomet.no        3        38.0\n8       63176   20  s63176@oslomet.no        0        98.0\n9       15406   31  s15406@oslomet.no        2        68.0\n10      41908   24  s41908@oslomet.no        0        62.0\n11      35600   30  s35600@oslomet.no       11        70.0\n12      16171   25  s16171@oslomet.no       10        81.0\n13      55586   24  s55586@oslomet.no        7        31.0\n14      71505   23  s71505@oslomet.no        1        49.0\n15      31235   33  s31235@oslomet.no        1        72.0\n16      80811   21  s80811@oslomet.no        6        51.0\n17      33041   21  s33041@oslomet.no        2        97.0\n18      99823   23  s99823@oslomet.no       10        56.0\n19      41092   33  s41092@oslomet.no       10        42.0\n20      15976   32  s15976@oslomet.no        9        78.0\n21      91520   33  s91520@oslomet.no        9        60.0\n22      11758   33  s11758@oslomet.no        6        54.0\n23      67086   22  s67086@oslomet.no       10        51.0\n24      84127   20  s84127@oslomet.no        5        92.0\n25      59109   32  s59109@oslomet.no        7        97.0\n26      10736    2  s10736@oslomet.no       10         NaN\n27      71581   25  s71581@oslomet.no        9        26.0\n28      29254   22  s29254@oslomet.no       10        88.0\n29      20161   22  s20161@oslomet.no       11        90.0\n30      21523   31  s21523@oslomet.no                 51.0\n31      66815   21  s66815@oslomet.no        8        35.0\n32      26914   31  s26914@oslomet.no        9        93.0\n33      58153  220  s58153@oslomet.no       10        35.0\n34      58387   20  s58387@oslomet.no        9       673.0\n35      44561   28  s44561@oslomet.no       10        78.0\n36      84163   25  s84163@oslomet.no        7        71.0\n37      26584   27  s26584@oslomet.no       10        31.0\n38      74289   31  s74289@oslomet.no        6        45.0\n39      30158   21  s30158@oslomet.no        3        37.0\n40      25452   24  s25452@oslomet.no       10        41.0\n41      92390       s92390@oslomet.no        2        35.0\n42      83390   22  s83390@oslomet.no        7        88.0\n43      32946   31  s32946@oslomet.no       10        24.0\n44      44023   31  s44023@oslomet.no        6        83.0\n45      62039   23  s62039@oslomet.no        4        46.0\n46      42989   27  s42989@oslomet.no        0        80.0\n47      85370   29  s85370@oslomet.no        2        77.0\n48      63135   26  s63135@oslomet.no        9        39.0\n49      28895   19  s28895@oslomet.no       10        68.0",
      "text/html": "<div>\n<style scoped>\n    .dataframe tbody tr th:only-of-type {\n        vertical-align: middle;\n    }\n\n    .dataframe tbody tr th {\n        vertical-align: top;\n    }\n\n    .dataframe thead th {\n        text-align: right;\n    }\n</style>\n<table border=\"1\" class=\"dataframe\">\n  <thead>\n    <tr style=\"text-align: right;\">\n      <th></th>\n      <th>StudentID</th>\n      <th>Age</th>\n      <th>email</th>\n      <th>hrsStudy</th>\n      <th>FinalGrade</th>\n    </tr>\n  </thead>\n  <tbody>\n    <tr>\n      <th>0</th>\n      <td>47412</td>\n      <td>20</td>\n      <td>s47412@oslomet.no</td>\n      <td>5</td>\n      <td>46.0</td>\n    </tr>\n    <tr>\n      <th>1</th>\n      <td>15077</td>\n      <td>22</td>\n      <td>s15077@oslomet.no</td>\n      <td>0</td>\n      <td>65.0</td>\n    </tr>\n    <tr>\n      <th>2</th>\n      <td>15467</td>\n      <td>27</td>\n      <td>s15467@oslomet.no</td>\n      <td>1</td>\n      <td>26.0</td>\n    </tr>\n    <tr>\n      <th>3</th>\n      <td>17907</td>\n      <td>21</td>\n      <td>s17907@oslomet.no</td>\n      <td>6</td>\n      <td>68.0</td>\n    </tr>\n    <tr>\n      <th>4</th>\n      <td>13352</td>\n      <td>333</td>\n      <td>s13352@oslomet.no</td>\n      <td>4</td>\n      <td>34.0</td>\n    </tr>\n    <tr>\n      <th>5</th>\n      <td>88403</td>\n      <td>29</td>\n      <td>s88403@oslomet.no</td>\n      <td>11</td>\n      <td>62.0</td>\n    </tr>\n    <tr>\n      <th>6</th>\n      <td>56387</td>\n      <td>32</td>\n      <td>s56387@oslomet.no</td>\n      <td>9</td>\n      <td>29.0</td>\n    </tr>\n    <tr>\n      <th>7</th>\n      <td>95648</td>\n      <td>23</td>\n      <td>s95648@oslomet.no</td>\n      <td>3</td>\n      <td>38.0</td>\n    </tr>\n    <tr>\n      <th>8</th>\n      <td>63176</td>\n      <td>20</td>\n      <td>s63176@oslomet.no</td>\n      <td>0</td>\n      <td>98.0</td>\n    </tr>\n    <tr>\n      <th>9</th>\n      <td>15406</td>\n      <td>31</td>\n      <td>s15406@oslomet.no</td>\n      <td>2</td>\n      <td>68.0</td>\n    </tr>\n    <tr>\n      <th>10</th>\n      <td>41908</td>\n      <td>24</td>\n      <td>s41908@oslomet.no</td>\n      <td>0</td>\n      <td>62.0</td>\n    </tr>\n    <tr>\n      <th>11</th>\n      <td>35600</td>\n      <td>30</td>\n      <td>s35600@oslomet.no</td>\n      <td>11</td>\n      <td>70.0</td>\n    </tr>\n    <tr>\n      <th>12</th>\n      <td>16171</td>\n      <td>25</td>\n      <td>s16171@oslomet.no</td>\n      <td>10</td>\n      <td>81.0</td>\n    </tr>\n    <tr>\n      <th>13</th>\n      <td>55586</td>\n      <td>24</td>\n      <td>s55586@oslomet.no</td>\n      <td>7</td>\n      <td>31.0</td>\n    </tr>\n    <tr>\n      <th>14</th>\n      <td>71505</td>\n      <td>23</td>\n      <td>s71505@oslomet.no</td>\n      <td>1</td>\n      <td>49.0</td>\n    </tr>\n    <tr>\n      <th>15</th>\n      <td>31235</td>\n      <td>33</td>\n      <td>s31235@oslomet.no</td>\n      <td>1</td>\n      <td>72.0</td>\n    </tr>\n    <tr>\n      <th>16</th>\n      <td>80811</td>\n      <td>21</td>\n      <td>s80811@oslomet.no</td>\n      <td>6</td>\n      <td>51.0</td>\n    </tr>\n    <tr>\n      <th>17</th>\n      <td>33041</td>\n      <td>21</td>\n      <td>s33041@oslomet.no</td>\n      <td>2</td>\n      <td>97.0</td>\n    </tr>\n    <tr>\n      <th>18</th>\n      <td>99823</td>\n      <td>23</td>\n      <td>s99823@oslomet.no</td>\n      <td>10</td>\n      <td>56.0</td>\n    </tr>\n    <tr>\n      <th>19</th>\n      <td>41092</td>\n      <td>33</td>\n      <td>s41092@oslomet.no</td>\n      <td>10</td>\n      <td>42.0</td>\n    </tr>\n    <tr>\n      <th>20</th>\n      <td>15976</td>\n      <td>32</td>\n      <td>s15976@oslomet.no</td>\n      <td>9</td>\n      <td>78.0</td>\n    </tr>\n    <tr>\n      <th>21</th>\n      <td>91520</td>\n      <td>33</td>\n      <td>s91520@oslomet.no</td>\n      <td>9</td>\n      <td>60.0</td>\n    </tr>\n    <tr>\n      <th>22</th>\n      <td>11758</td>\n      <td>33</td>\n      <td>s11758@oslomet.no</td>\n      <td>6</td>\n      <td>54.0</td>\n    </tr>\n    <tr>\n      <th>23</th>\n      <td>67086</td>\n      <td>22</td>\n      <td>s67086@oslomet.no</td>\n      <td>10</td>\n      <td>51.0</td>\n    </tr>\n    <tr>\n      <th>24</th>\n      <td>84127</td>\n      <td>20</td>\n      <td>s84127@oslomet.no</td>\n      <td>5</td>\n      <td>92.0</td>\n    </tr>\n    <tr>\n      <th>25</th>\n      <td>59109</td>\n      <td>32</td>\n      <td>s59109@oslomet.no</td>\n      <td>7</td>\n      <td>97.0</td>\n    </tr>\n    <tr>\n      <th>26</th>\n      <td>10736</td>\n      <td>2</td>\n      <td>s10736@oslomet.no</td>\n      <td>10</td>\n      <td>NaN</td>\n    </tr>\n    <tr>\n      <th>27</th>\n      <td>71581</td>\n      <td>25</td>\n      <td>s71581@oslomet.no</td>\n      <td>9</td>\n      <td>26.0</td>\n    </tr>\n    <tr>\n      <th>28</th>\n      <td>29254</td>\n      <td>22</td>\n      <td>s29254@oslomet.no</td>\n      <td>10</td>\n      <td>88.0</td>\n    </tr>\n    <tr>\n      <th>29</th>\n      <td>20161</td>\n      <td>22</td>\n      <td>s20161@oslomet.no</td>\n      <td>11</td>\n      <td>90.0</td>\n    </tr>\n    <tr>\n      <th>30</th>\n      <td>21523</td>\n      <td>31</td>\n      <td>s21523@oslomet.no</td>\n      <td></td>\n      <td>51.0</td>\n    </tr>\n    <tr>\n      <th>31</th>\n      <td>66815</td>\n      <td>21</td>\n      <td>s66815@oslomet.no</td>\n      <td>8</td>\n      <td>35.0</td>\n    </tr>\n    <tr>\n      <th>32</th>\n      <td>26914</td>\n      <td>31</td>\n      <td>s26914@oslomet.no</td>\n      <td>9</td>\n      <td>93.0</td>\n    </tr>\n    <tr>\n      <th>33</th>\n      <td>58153</td>\n      <td>220</td>\n      <td>s58153@oslomet.no</td>\n      <td>10</td>\n      <td>35.0</td>\n    </tr>\n    <tr>\n      <th>34</th>\n      <td>58387</td>\n      <td>20</td>\n      <td>s58387@oslomet.no</td>\n      <td>9</td>\n      <td>673.0</td>\n    </tr>\n    <tr>\n      <th>35</th>\n      <td>44561</td>\n      <td>28</td>\n      <td>s44561@oslomet.no</td>\n      <td>10</td>\n      <td>78.0</td>\n    </tr>\n    <tr>\n      <th>36</th>\n      <td>84163</td>\n      <td>25</td>\n      <td>s84163@oslomet.no</td>\n      <td>7</td>\n      <td>71.0</td>\n    </tr>\n    <tr>\n      <th>37</th>\n      <td>26584</td>\n      <td>27</td>\n      <td>s26584@oslomet.no</td>\n      <td>10</td>\n      <td>31.0</td>\n    </tr>\n    <tr>\n      <th>38</th>\n      <td>74289</td>\n      <td>31</td>\n      <td>s74289@oslomet.no</td>\n      <td>6</td>\n      <td>45.0</td>\n    </tr>\n    <tr>\n      <th>39</th>\n      <td>30158</td>\n      <td>21</td>\n      <td>s30158@oslomet.no</td>\n      <td>3</td>\n      <td>37.0</td>\n    </tr>\n    <tr>\n      <th>40</th>\n      <td>25452</td>\n      <td>24</td>\n      <td>s25452@oslomet.no</td>\n      <td>10</td>\n      <td>41.0</td>\n    </tr>\n    <tr>\n      <th>41</th>\n      <td>92390</td>\n      <td></td>\n      <td>s92390@oslomet.no</td>\n      <td>2</td>\n      <td>35.0</td>\n    </tr>\n    <tr>\n      <th>42</th>\n      <td>83390</td>\n      <td>22</td>\n      <td>s83390@oslomet.no</td>\n      <td>7</td>\n      <td>88.0</td>\n    </tr>\n    <tr>\n      <th>43</th>\n      <td>32946</td>\n      <td>31</td>\n      <td>s32946@oslomet.no</td>\n      <td>10</td>\n      <td>24.0</td>\n    </tr>\n    <tr>\n      <th>44</th>\n      <td>44023</td>\n      <td>31</td>\n      <td>s44023@oslomet.no</td>\n      <td>6</td>\n      <td>83.0</td>\n    </tr>\n    <tr>\n      <th>45</th>\n      <td>62039</td>\n      <td>23</td>\n      <td>s62039@oslomet.no</td>\n      <td>4</td>\n      <td>46.0</td>\n    </tr>\n    <tr>\n      <th>46</th>\n      <td>42989</td>\n      <td>27</td>\n      <td>s42989@oslomet.no</td>\n      <td>0</td>\n      <td>80.0</td>\n    </tr>\n    <tr>\n      <th>47</th>\n      <td>85370</td>\n      <td>29</td>\n      <td>s85370@oslomet.no</td>\n      <td>2</td>\n      <td>77.0</td>\n    </tr>\n    <tr>\n      <th>48</th>\n      <td>63135</td>\n      <td>26</td>\n      <td>s63135@oslomet.no</td>\n      <td>9</td>\n      <td>39.0</td>\n    </tr>\n    <tr>\n      <th>49</th>\n      <td>28895</td>\n      <td>19</td>\n      <td>s28895@oslomet.no</td>\n      <td>10</td>\n      <td>68.0</td>\n    </tr>\n  </tbody>\n</table>\n</div>"
     },
     "execution_count": 5,
     "metadata": {},
     "output_type": "execute_result"
    }
   ],
   "source": [
    "df.sort_index()"
   ],
   "metadata": {
    "collapsed": false,
    "ExecuteTime": {
     "end_time": "2023-09-28T15:53:12.804951Z",
     "start_time": "2023-09-28T15:53:12.795634Z"
    }
   },
   "id": "b73524b68e8ffb25"
  },
  {
   "cell_type": "code",
   "execution_count": 6,
   "outputs": [
    {
     "data": {
      "text/plain": "StudentID     0\nAge           0\nemail         0\nhrsStudy      0\nFinalGrade    1\ndtype: int64"
     },
     "execution_count": 6,
     "metadata": {},
     "output_type": "execute_result"
    }
   ],
   "source": [
    "df.isna().sum()"
   ],
   "metadata": {
    "collapsed": false,
    "ExecuteTime": {
     "end_time": "2023-09-28T15:53:12.811650Z",
     "start_time": "2023-09-28T15:53:12.806138Z"
    }
   },
   "id": "2a9fab3c213a33be"
  },
  {
   "cell_type": "code",
   "execution_count": 7,
   "outputs": [
    {
     "ename": "ValueError",
     "evalue": "invalid literal for int() with base 10: 'nan'",
     "output_type": "error",
     "traceback": [
      "\u001B[0;31m---------------------------------------------------------------------------\u001B[0m",
      "\u001B[0;31mValueError\u001B[0m                                Traceback (most recent call last)",
      "Cell \u001B[0;32mIn[7], line 3\u001B[0m\n\u001B[1;32m      1\u001B[0m df\u001B[38;5;241m=\u001B[39mdf\u001B[38;5;241m.\u001B[39mreplace(\u001B[38;5;124mr\u001B[39m\u001B[38;5;124m'\u001B[39m\u001B[38;5;124m^\u001B[39m\u001B[38;5;124m\\\u001B[39m\u001B[38;5;124ms*$\u001B[39m\u001B[38;5;124m'\u001B[39m, np\u001B[38;5;241m.\u001B[39mnan, regex\u001B[38;5;241m=\u001B[39m\u001B[38;5;28;01mTrue\u001B[39;00m) \u001B[38;5;66;03m#Replace blank values with np.nan values\u001B[39;00m\n\u001B[0;32m----> 3\u001B[0m df[\u001B[38;5;124m'\u001B[39m\u001B[38;5;124mAge\u001B[39m\u001B[38;5;124m'\u001B[39m] \u001B[38;5;241m=\u001B[39m \u001B[43mdf\u001B[49m\u001B[43m[\u001B[49m\u001B[38;5;124;43m'\u001B[39;49m\u001B[38;5;124;43mAge\u001B[39;49m\u001B[38;5;124;43m'\u001B[39;49m\u001B[43m]\u001B[49m\u001B[38;5;241;43m.\u001B[39;49m\u001B[43mastype\u001B[49m\u001B[43m(\u001B[49m\u001B[38;5;28;43mstr\u001B[39;49m\u001B[43m)\u001B[49m\u001B[38;5;241;43m.\u001B[39;49m\u001B[43mastype\u001B[49m\u001B[43m(\u001B[49m\u001B[38;5;28;43mint\u001B[39;49m\u001B[43m)\u001B[49m\n",
      "File \u001B[0;32m~/miniconda3/envs/dave3625/lib/python3.8/site-packages/pandas/core/generic.py:6324\u001B[0m, in \u001B[0;36mNDFrame.astype\u001B[0;34m(self, dtype, copy, errors)\u001B[0m\n\u001B[1;32m   6317\u001B[0m     results \u001B[38;5;241m=\u001B[39m [\n\u001B[1;32m   6318\u001B[0m         \u001B[38;5;28mself\u001B[39m\u001B[38;5;241m.\u001B[39miloc[:, i]\u001B[38;5;241m.\u001B[39mastype(dtype, copy\u001B[38;5;241m=\u001B[39mcopy)\n\u001B[1;32m   6319\u001B[0m         \u001B[38;5;28;01mfor\u001B[39;00m i \u001B[38;5;129;01min\u001B[39;00m \u001B[38;5;28mrange\u001B[39m(\u001B[38;5;28mlen\u001B[39m(\u001B[38;5;28mself\u001B[39m\u001B[38;5;241m.\u001B[39mcolumns))\n\u001B[1;32m   6320\u001B[0m     ]\n\u001B[1;32m   6322\u001B[0m \u001B[38;5;28;01melse\u001B[39;00m:\n\u001B[1;32m   6323\u001B[0m     \u001B[38;5;66;03m# else, only a single dtype is given\u001B[39;00m\n\u001B[0;32m-> 6324\u001B[0m     new_data \u001B[38;5;241m=\u001B[39m \u001B[38;5;28;43mself\u001B[39;49m\u001B[38;5;241;43m.\u001B[39;49m\u001B[43m_mgr\u001B[49m\u001B[38;5;241;43m.\u001B[39;49m\u001B[43mastype\u001B[49m\u001B[43m(\u001B[49m\u001B[43mdtype\u001B[49m\u001B[38;5;241;43m=\u001B[39;49m\u001B[43mdtype\u001B[49m\u001B[43m,\u001B[49m\u001B[43m \u001B[49m\u001B[43mcopy\u001B[49m\u001B[38;5;241;43m=\u001B[39;49m\u001B[43mcopy\u001B[49m\u001B[43m,\u001B[49m\u001B[43m \u001B[49m\u001B[43merrors\u001B[49m\u001B[38;5;241;43m=\u001B[39;49m\u001B[43merrors\u001B[49m\u001B[43m)\u001B[49m\n\u001B[1;32m   6325\u001B[0m     \u001B[38;5;28;01mreturn\u001B[39;00m \u001B[38;5;28mself\u001B[39m\u001B[38;5;241m.\u001B[39m_constructor(new_data)\u001B[38;5;241m.\u001B[39m__finalize__(\u001B[38;5;28mself\u001B[39m, method\u001B[38;5;241m=\u001B[39m\u001B[38;5;124m\"\u001B[39m\u001B[38;5;124mastype\u001B[39m\u001B[38;5;124m\"\u001B[39m)\n\u001B[1;32m   6327\u001B[0m \u001B[38;5;66;03m# GH 33113: handle empty frame or series\u001B[39;00m\n",
      "File \u001B[0;32m~/miniconda3/envs/dave3625/lib/python3.8/site-packages/pandas/core/internals/managers.py:451\u001B[0m, in \u001B[0;36mBaseBlockManager.astype\u001B[0;34m(self, dtype, copy, errors)\u001B[0m\n\u001B[1;32m    448\u001B[0m \u001B[38;5;28;01melif\u001B[39;00m using_copy_on_write():\n\u001B[1;32m    449\u001B[0m     copy \u001B[38;5;241m=\u001B[39m \u001B[38;5;28;01mFalse\u001B[39;00m\n\u001B[0;32m--> 451\u001B[0m \u001B[38;5;28;01mreturn\u001B[39;00m \u001B[38;5;28;43mself\u001B[39;49m\u001B[38;5;241;43m.\u001B[39;49m\u001B[43mapply\u001B[49m\u001B[43m(\u001B[49m\n\u001B[1;32m    452\u001B[0m \u001B[43m    \u001B[49m\u001B[38;5;124;43m\"\u001B[39;49m\u001B[38;5;124;43mastype\u001B[39;49m\u001B[38;5;124;43m\"\u001B[39;49m\u001B[43m,\u001B[49m\n\u001B[1;32m    453\u001B[0m \u001B[43m    \u001B[49m\u001B[43mdtype\u001B[49m\u001B[38;5;241;43m=\u001B[39;49m\u001B[43mdtype\u001B[49m\u001B[43m,\u001B[49m\n\u001B[1;32m    454\u001B[0m \u001B[43m    \u001B[49m\u001B[43mcopy\u001B[49m\u001B[38;5;241;43m=\u001B[39;49m\u001B[43mcopy\u001B[49m\u001B[43m,\u001B[49m\n\u001B[1;32m    455\u001B[0m \u001B[43m    \u001B[49m\u001B[43merrors\u001B[49m\u001B[38;5;241;43m=\u001B[39;49m\u001B[43merrors\u001B[49m\u001B[43m,\u001B[49m\n\u001B[1;32m    456\u001B[0m \u001B[43m    \u001B[49m\u001B[43musing_cow\u001B[49m\u001B[38;5;241;43m=\u001B[39;49m\u001B[43musing_copy_on_write\u001B[49m\u001B[43m(\u001B[49m\u001B[43m)\u001B[49m\u001B[43m,\u001B[49m\n\u001B[1;32m    457\u001B[0m \u001B[43m\u001B[49m\u001B[43m)\u001B[49m\n",
      "File \u001B[0;32m~/miniconda3/envs/dave3625/lib/python3.8/site-packages/pandas/core/internals/managers.py:352\u001B[0m, in \u001B[0;36mBaseBlockManager.apply\u001B[0;34m(self, f, align_keys, **kwargs)\u001B[0m\n\u001B[1;32m    350\u001B[0m         applied \u001B[38;5;241m=\u001B[39m b\u001B[38;5;241m.\u001B[39mapply(f, \u001B[38;5;241m*\u001B[39m\u001B[38;5;241m*\u001B[39mkwargs)\n\u001B[1;32m    351\u001B[0m     \u001B[38;5;28;01melse\u001B[39;00m:\n\u001B[0;32m--> 352\u001B[0m         applied \u001B[38;5;241m=\u001B[39m \u001B[38;5;28;43mgetattr\u001B[39;49m\u001B[43m(\u001B[49m\u001B[43mb\u001B[49m\u001B[43m,\u001B[49m\u001B[43m \u001B[49m\u001B[43mf\u001B[49m\u001B[43m)\u001B[49m\u001B[43m(\u001B[49m\u001B[38;5;241;43m*\u001B[39;49m\u001B[38;5;241;43m*\u001B[39;49m\u001B[43mkwargs\u001B[49m\u001B[43m)\u001B[49m\n\u001B[1;32m    353\u001B[0m     result_blocks \u001B[38;5;241m=\u001B[39m extend_blocks(applied, result_blocks)\n\u001B[1;32m    355\u001B[0m out \u001B[38;5;241m=\u001B[39m \u001B[38;5;28mtype\u001B[39m(\u001B[38;5;28mself\u001B[39m)\u001B[38;5;241m.\u001B[39mfrom_blocks(result_blocks, \u001B[38;5;28mself\u001B[39m\u001B[38;5;241m.\u001B[39maxes)\n",
      "File \u001B[0;32m~/miniconda3/envs/dave3625/lib/python3.8/site-packages/pandas/core/internals/blocks.py:511\u001B[0m, in \u001B[0;36mBlock.astype\u001B[0;34m(self, dtype, copy, errors, using_cow)\u001B[0m\n\u001B[1;32m    491\u001B[0m \u001B[38;5;250m\u001B[39m\u001B[38;5;124;03m\"\"\"\u001B[39;00m\n\u001B[1;32m    492\u001B[0m \u001B[38;5;124;03mCoerce to the new dtype.\u001B[39;00m\n\u001B[1;32m    493\u001B[0m \n\u001B[0;32m   (...)\u001B[0m\n\u001B[1;32m    507\u001B[0m \u001B[38;5;124;03mBlock\u001B[39;00m\n\u001B[1;32m    508\u001B[0m \u001B[38;5;124;03m\"\"\"\u001B[39;00m\n\u001B[1;32m    509\u001B[0m values \u001B[38;5;241m=\u001B[39m \u001B[38;5;28mself\u001B[39m\u001B[38;5;241m.\u001B[39mvalues\n\u001B[0;32m--> 511\u001B[0m new_values \u001B[38;5;241m=\u001B[39m \u001B[43mastype_array_safe\u001B[49m\u001B[43m(\u001B[49m\u001B[43mvalues\u001B[49m\u001B[43m,\u001B[49m\u001B[43m \u001B[49m\u001B[43mdtype\u001B[49m\u001B[43m,\u001B[49m\u001B[43m \u001B[49m\u001B[43mcopy\u001B[49m\u001B[38;5;241;43m=\u001B[39;49m\u001B[43mcopy\u001B[49m\u001B[43m,\u001B[49m\u001B[43m \u001B[49m\u001B[43merrors\u001B[49m\u001B[38;5;241;43m=\u001B[39;49m\u001B[43merrors\u001B[49m\u001B[43m)\u001B[49m\n\u001B[1;32m    513\u001B[0m new_values \u001B[38;5;241m=\u001B[39m maybe_coerce_values(new_values)\n\u001B[1;32m    515\u001B[0m refs \u001B[38;5;241m=\u001B[39m \u001B[38;5;28;01mNone\u001B[39;00m\n",
      "File \u001B[0;32m~/miniconda3/envs/dave3625/lib/python3.8/site-packages/pandas/core/dtypes/astype.py:242\u001B[0m, in \u001B[0;36mastype_array_safe\u001B[0;34m(values, dtype, copy, errors)\u001B[0m\n\u001B[1;32m    239\u001B[0m     dtype \u001B[38;5;241m=\u001B[39m dtype\u001B[38;5;241m.\u001B[39mnumpy_dtype\n\u001B[1;32m    241\u001B[0m \u001B[38;5;28;01mtry\u001B[39;00m:\n\u001B[0;32m--> 242\u001B[0m     new_values \u001B[38;5;241m=\u001B[39m \u001B[43mastype_array\u001B[49m\u001B[43m(\u001B[49m\u001B[43mvalues\u001B[49m\u001B[43m,\u001B[49m\u001B[43m \u001B[49m\u001B[43mdtype\u001B[49m\u001B[43m,\u001B[49m\u001B[43m \u001B[49m\u001B[43mcopy\u001B[49m\u001B[38;5;241;43m=\u001B[39;49m\u001B[43mcopy\u001B[49m\u001B[43m)\u001B[49m\n\u001B[1;32m    243\u001B[0m \u001B[38;5;28;01mexcept\u001B[39;00m (\u001B[38;5;167;01mValueError\u001B[39;00m, \u001B[38;5;167;01mTypeError\u001B[39;00m):\n\u001B[1;32m    244\u001B[0m     \u001B[38;5;66;03m# e.g. _astype_nansafe can fail on object-dtype of strings\u001B[39;00m\n\u001B[1;32m    245\u001B[0m     \u001B[38;5;66;03m#  trying to convert to float\u001B[39;00m\n\u001B[1;32m    246\u001B[0m     \u001B[38;5;28;01mif\u001B[39;00m errors \u001B[38;5;241m==\u001B[39m \u001B[38;5;124m\"\u001B[39m\u001B[38;5;124mignore\u001B[39m\u001B[38;5;124m\"\u001B[39m:\n",
      "File \u001B[0;32m~/miniconda3/envs/dave3625/lib/python3.8/site-packages/pandas/core/dtypes/astype.py:187\u001B[0m, in \u001B[0;36mastype_array\u001B[0;34m(values, dtype, copy)\u001B[0m\n\u001B[1;32m    184\u001B[0m     values \u001B[38;5;241m=\u001B[39m values\u001B[38;5;241m.\u001B[39mastype(dtype, copy\u001B[38;5;241m=\u001B[39mcopy)\n\u001B[1;32m    186\u001B[0m \u001B[38;5;28;01melse\u001B[39;00m:\n\u001B[0;32m--> 187\u001B[0m     values \u001B[38;5;241m=\u001B[39m \u001B[43m_astype_nansafe\u001B[49m\u001B[43m(\u001B[49m\u001B[43mvalues\u001B[49m\u001B[43m,\u001B[49m\u001B[43m \u001B[49m\u001B[43mdtype\u001B[49m\u001B[43m,\u001B[49m\u001B[43m \u001B[49m\u001B[43mcopy\u001B[49m\u001B[38;5;241;43m=\u001B[39;49m\u001B[43mcopy\u001B[49m\u001B[43m)\u001B[49m\n\u001B[1;32m    189\u001B[0m \u001B[38;5;66;03m# in pandas we don't store numpy str dtypes, so convert to object\u001B[39;00m\n\u001B[1;32m    190\u001B[0m \u001B[38;5;28;01mif\u001B[39;00m \u001B[38;5;28misinstance\u001B[39m(dtype, np\u001B[38;5;241m.\u001B[39mdtype) \u001B[38;5;129;01mand\u001B[39;00m \u001B[38;5;28missubclass\u001B[39m(values\u001B[38;5;241m.\u001B[39mdtype\u001B[38;5;241m.\u001B[39mtype, \u001B[38;5;28mstr\u001B[39m):\n",
      "File \u001B[0;32m~/miniconda3/envs/dave3625/lib/python3.8/site-packages/pandas/core/dtypes/astype.py:138\u001B[0m, in \u001B[0;36m_astype_nansafe\u001B[0;34m(arr, dtype, copy, skipna)\u001B[0m\n\u001B[1;32m    134\u001B[0m     \u001B[38;5;28;01mraise\u001B[39;00m \u001B[38;5;167;01mValueError\u001B[39;00m(msg)\n\u001B[1;32m    136\u001B[0m \u001B[38;5;28;01mif\u001B[39;00m copy \u001B[38;5;129;01mor\u001B[39;00m is_object_dtype(arr\u001B[38;5;241m.\u001B[39mdtype) \u001B[38;5;129;01mor\u001B[39;00m is_object_dtype(dtype):\n\u001B[1;32m    137\u001B[0m     \u001B[38;5;66;03m# Explicit copy, or required since NumPy can't view from / to object.\u001B[39;00m\n\u001B[0;32m--> 138\u001B[0m     \u001B[38;5;28;01mreturn\u001B[39;00m \u001B[43marr\u001B[49m\u001B[38;5;241;43m.\u001B[39;49m\u001B[43mastype\u001B[49m\u001B[43m(\u001B[49m\u001B[43mdtype\u001B[49m\u001B[43m,\u001B[49m\u001B[43m \u001B[49m\u001B[43mcopy\u001B[49m\u001B[38;5;241;43m=\u001B[39;49m\u001B[38;5;28;43;01mTrue\u001B[39;49;00m\u001B[43m)\u001B[49m\n\u001B[1;32m    140\u001B[0m \u001B[38;5;28;01mreturn\u001B[39;00m arr\u001B[38;5;241m.\u001B[39mastype(dtype, copy\u001B[38;5;241m=\u001B[39mcopy)\n",
      "\u001B[0;31mValueError\u001B[0m: invalid literal for int() with base 10: 'nan'"
     ]
    }
   ],
   "source": [
    "df=df.replace(r'^\\s*$', np.nan, regex=True) #Replace blank values with np.nan values\n",
    "\n",
    "df['Age'] = df['Age'].astype(str).astype(int) #Convert from obj to int"
   ],
   "metadata": {
    "collapsed": false,
    "ExecuteTime": {
     "end_time": "2023-09-28T15:53:13.960568Z",
     "start_time": "2023-09-28T15:53:12.809799Z"
    }
   },
   "id": "a685e26502d81458"
  },
  {
   "cell_type": "code",
   "execution_count": null,
   "outputs": [],
   "source": [
    "df.info()"
   ],
   "metadata": {
    "collapsed": false,
    "ExecuteTime": {
     "end_time": "2023-09-28T15:53:13.967371Z",
     "start_time": "2023-09-28T15:53:13.962060Z"
    }
   },
   "id": "5769c6845d632be2"
  },
  {
   "cell_type": "code",
   "execution_count": null,
   "outputs": [],
   "source": [
    "df[\"FinalGrade\"].plot()"
   ],
   "metadata": {
    "collapsed": false,
    "ExecuteTime": {
     "start_time": "2023-09-28T15:53:13.963912Z"
    }
   },
   "id": "560d52dbca1f727d"
  },
  {
   "cell_type": "code",
   "execution_count": null,
   "outputs": [],
   "source": [
    "bins = [0, 50, 60, 70, 80, 90, 100]\n",
    "labels = ['F', 'E', 'D', 'C', 'B', 'A']\n",
    "\n",
    "df['Grade'] = pd.cut(df['FinalGrade'], bins=bins, labels=labels)\n",
    "df.head(50)"
   ],
   "metadata": {
    "collapsed": false,
    "ExecuteTime": {
     "start_time": "2023-09-28T15:53:13.965870Z"
    }
   },
   "id": "51eda0f82e5b22d9"
  },
  {
   "cell_type": "code",
   "execution_count": null,
   "outputs": [],
   "source": [
    "df['Grade'].value_counts().sort_index(ascending=False).plot(kind='bar', xlabel='Grade', ylabel='Count', rot=0)"
   ],
   "metadata": {
    "collapsed": false,
    "ExecuteTime": {
     "start_time": "2023-09-28T15:53:13.967635Z"
    }
   },
   "id": "5ec0f810ff8dc5e5"
  },
  {
   "cell_type": "code",
   "execution_count": null,
   "outputs": [],
   "source": [
    "age_df = pd.DataFrame({\n",
    "    'Name': ['Tom', 'Charles', 'Julia', 'Mary', 'John', 'Mike', 'Lisa', 'Peter', 'Carl', 'Linda', 'Eric', 'John', 'John', 'John', 'John', 'John', 'John', 'John'],\n",
    "    'Age': [8, 22, 16, 18, 21, 25, 28, 29, 30, 40, 45, 50, 55, 60, 65, 70, 75, 80]\n",
    "})\n",
    "\n",
    "age_df.head(age_df.size)"
   ],
   "metadata": {
    "collapsed": false,
    "ExecuteTime": {
     "start_time": "2023-09-28T15:53:13.969207Z"
    }
   },
   "id": "7f3a1f33dd599eb6"
  },
  {
   "cell_type": "code",
   "execution_count": null,
   "outputs": [],
   "source": [
    "age_bins = [0, 17, 200]\n",
    "age_labels = ['No', 'Yes']\n",
    "\n",
    "age_df['Can buy beer?'] = pd.cut(age_df['Age'], bins=age_bins, labels=age_labels)\n",
    "\n",
    "age_df.head(age_df.size)"
   ],
   "metadata": {
    "collapsed": false,
    "ExecuteTime": {
     "start_time": "2023-09-28T15:53:13.970798Z"
    }
   },
   "id": "9a31797553a7e101"
  },
  {
   "cell_type": "code",
   "execution_count": null,
   "outputs": [],
   "source": [],
   "metadata": {
    "collapsed": false,
    "ExecuteTime": {
     "start_time": "2023-09-28T15:53:13.972322Z"
    }
   },
   "id": "1f793dfa1b735d59"
  },
  {
   "cell_type": "code",
   "execution_count": null,
   "outputs": [],
   "source": [],
   "metadata": {
    "collapsed": false,
    "ExecuteTime": {
     "start_time": "2023-09-28T15:53:13.973397Z"
    }
   },
   "id": "d5373159bedf2e43"
  },
  {
   "cell_type": "code",
   "execution_count": 14,
   "outputs": [],
   "source": [
    "### SOLUTION ###"
   ],
   "metadata": {
    "collapsed": false,
    "ExecuteTime": {
     "end_time": "2023-09-28T15:55:59.415483Z",
     "start_time": "2023-09-28T15:55:59.382426Z"
    }
   },
   "id": "c3313d24f9d4706a"
  },
  {
   "cell_type": "code",
   "execution_count": 15,
   "outputs": [],
   "source": [
    "#Import modules\n",
    "%matplotlib inline\n",
    "import pandas as pd\n",
    "import numpy as np\n",
    "from scipy import stats\n",
    "import matplotlib as plt"
   ],
   "metadata": {
    "collapsed": false,
    "ExecuteTime": {
     "end_time": "2023-09-28T15:55:59.415661Z",
     "start_time": "2023-09-28T15:55:59.386701Z"
    }
   },
   "id": "df71904b3bf542f0"
  },
  {
   "cell_type": "code",
   "execution_count": 16,
   "outputs": [
    {
     "name": "stdout",
     "output_type": "stream",
     "text": [
      "<class 'pandas.core.frame.DataFrame'>\n",
      "RangeIndex: 50 entries, 0 to 49\n",
      "Data columns (total 5 columns):\n",
      " #   Column      Non-Null Count  Dtype  \n",
      "---  ------      --------------  -----  \n",
      " 0   StudentID   50 non-null     int64  \n",
      " 1   Age         49 non-null     float64\n",
      " 2   email       50 non-null     object \n",
      " 3   hrsStudy    49 non-null     float64\n",
      " 4   FinalGrade  49 non-null     float64\n",
      "dtypes: float64(3), int64(1), object(1)\n",
      "memory usage: 2.1+ KB\n"
     ]
    }
   ],
   "source": [
    "url = 'https://raw.githubusercontent.com/umaimehm/Intro_to_AI_2021/main/Lab1/stud.csv'\n",
    "df = pd.read_csv(url, na_values=' ')\n",
    "\n",
    "df.info()"
   ],
   "metadata": {
    "collapsed": false,
    "ExecuteTime": {
     "end_time": "2023-09-28T15:55:59.470326Z",
     "start_time": "2023-09-28T15:55:59.409071Z"
    }
   },
   "id": "d5fb19455f50e284"
  },
  {
   "cell_type": "code",
   "execution_count": 17,
   "outputs": [],
   "source": [
    "df[\"Age\"].replace(np.nan, 0, inplace=True)\n",
    "# df['Age'].astype(str).astype(int)"
   ],
   "metadata": {
    "collapsed": false,
    "ExecuteTime": {
     "end_time": "2023-09-28T15:55:59.471072Z",
     "start_time": "2023-09-28T15:55:59.468391Z"
    }
   },
   "id": "767852856389a1db"
  },
  {
   "cell_type": "code",
   "execution_count": 18,
   "outputs": [
    {
     "name": "stdout",
     "output_type": "stream",
     "text": [
      "<class 'pandas.core.frame.DataFrame'>\n",
      "RangeIndex: 50 entries, 0 to 49\n",
      "Data columns (total 5 columns):\n",
      " #   Column      Non-Null Count  Dtype  \n",
      "---  ------      --------------  -----  \n",
      " 0   StudentID   50 non-null     int64  \n",
      " 1   Age         50 non-null     float64\n",
      " 2   email       50 non-null     object \n",
      " 3   hrsStudy    49 non-null     float64\n",
      " 4   FinalGrade  49 non-null     float64\n",
      "dtypes: float64(3), int64(1), object(1)\n",
      "memory usage: 2.1+ KB\n"
     ]
    }
   ],
   "source": [
    "df.info()"
   ],
   "metadata": {
    "collapsed": false,
    "ExecuteTime": {
     "end_time": "2023-09-28T15:55:59.475618Z",
     "start_time": "2023-09-28T15:55:59.473961Z"
    }
   },
   "id": "296ae631891bfd88"
  },
  {
   "cell_type": "code",
   "execution_count": 19,
   "outputs": [],
   "source": [
    "df.dropna(inplace = True)"
   ],
   "metadata": {
    "collapsed": false,
    "ExecuteTime": {
     "end_time": "2023-09-28T15:55:59.479036Z",
     "start_time": "2023-09-28T15:55:59.477136Z"
    }
   },
   "id": "589264e50a2324ff"
  },
  {
   "cell_type": "code",
   "execution_count": 20,
   "outputs": [
    {
     "name": "stdout",
     "output_type": "stream",
     "text": [
      "<class 'pandas.core.frame.DataFrame'>\n",
      "Index: 48 entries, 0 to 49\n",
      "Data columns (total 5 columns):\n",
      " #   Column      Non-Null Count  Dtype  \n",
      "---  ------      --------------  -----  \n",
      " 0   StudentID   48 non-null     int64  \n",
      " 1   Age         48 non-null     float64\n",
      " 2   email       48 non-null     object \n",
      " 3   hrsStudy    48 non-null     float64\n",
      " 4   FinalGrade  48 non-null     float64\n",
      "dtypes: float64(3), int64(1), object(1)\n",
      "memory usage: 2.2+ KB\n"
     ]
    }
   ],
   "source": [
    "df.info()"
   ],
   "metadata": {
    "collapsed": false,
    "ExecuteTime": {
     "end_time": "2023-09-28T15:55:59.482959Z",
     "start_time": "2023-09-28T15:55:59.481354Z"
    }
   },
   "id": "87a1bb188225ebef"
  },
  {
   "cell_type": "code",
   "execution_count": 22,
   "outputs": [],
   "source": [
    "df['Age'] = df['Age'].astype(int)\n",
    "df['hrsStudy'] = df['hrsStudy'].astype(int)\n"
   ],
   "metadata": {
    "collapsed": false,
    "ExecuteTime": {
     "end_time": "2023-09-28T15:58:04.865587Z",
     "start_time": "2023-09-28T15:58:04.864006Z"
    }
   },
   "id": "f0a3a92d6f5d0ebd"
  },
  {
   "cell_type": "code",
   "execution_count": 23,
   "outputs": [
    {
     "name": "stdout",
     "output_type": "stream",
     "text": [
      "<class 'pandas.core.frame.DataFrame'>\n",
      "Index: 48 entries, 0 to 49\n",
      "Data columns (total 5 columns):\n",
      " #   Column      Non-Null Count  Dtype  \n",
      "---  ------      --------------  -----  \n",
      " 0   StudentID   48 non-null     int64  \n",
      " 1   Age         48 non-null     int64  \n",
      " 2   email       48 non-null     object \n",
      " 3   hrsStudy    48 non-null     int64  \n",
      " 4   FinalGrade  48 non-null     float64\n",
      "dtypes: float64(1), int64(3), object(1)\n",
      "memory usage: 2.2+ KB\n"
     ]
    }
   ],
   "source": [
    "df.info()"
   ],
   "metadata": {
    "collapsed": false,
    "ExecuteTime": {
     "end_time": "2023-09-28T15:58:09.681750Z",
     "start_time": "2023-09-28T15:58:09.677675Z"
    }
   },
   "id": "57a3bb0a56650244"
  },
  {
   "cell_type": "code",
   "execution_count": 24,
   "outputs": [
    {
     "name": "stdout",
     "output_type": "stream",
     "text": [
      "<class 'pandas.core.frame.DataFrame'>\n",
      "Index: 48 entries, 0 to 49\n",
      "Data columns (total 5 columns):\n",
      " #   Column      Non-Null Count  Dtype  \n",
      "---  ------      --------------  -----  \n",
      " 0   StudentID   48 non-null     int64  \n",
      " 1   Age         48 non-null     int64  \n",
      " 2   email       48 non-null     object \n",
      " 3   hrsStudy    48 non-null     int64  \n",
      " 4   FinalGrade  48 non-null     float64\n",
      "dtypes: float64(1), int64(3), object(1)\n",
      "memory usage: 2.2+ KB\n"
     ]
    },
    {
     "data": {
      "text/plain": "          StudentID         Age   hrsStudy  FinalGrade\ncount     48.000000   48.000000  48.000000   48.000000\nmean   50338.166667   35.666667   6.395833   72.083333\nstd    26526.981827   52.388619   3.648022   91.362461\nmin    11758.000000    0.000000   0.000000   24.000000\n25%    28399.750000   22.000000   3.000000   38.750000\n50%    45986.500000   25.000000   7.000000   61.000000\n75%    71524.000000   31.000000  10.000000   78.500000\nmax    99823.000000  333.000000  11.000000  673.000000",
      "text/html": "<div>\n<style scoped>\n    .dataframe tbody tr th:only-of-type {\n        vertical-align: middle;\n    }\n\n    .dataframe tbody tr th {\n        vertical-align: top;\n    }\n\n    .dataframe thead th {\n        text-align: right;\n    }\n</style>\n<table border=\"1\" class=\"dataframe\">\n  <thead>\n    <tr style=\"text-align: right;\">\n      <th></th>\n      <th>StudentID</th>\n      <th>Age</th>\n      <th>hrsStudy</th>\n      <th>FinalGrade</th>\n    </tr>\n  </thead>\n  <tbody>\n    <tr>\n      <th>count</th>\n      <td>48.000000</td>\n      <td>48.000000</td>\n      <td>48.000000</td>\n      <td>48.000000</td>\n    </tr>\n    <tr>\n      <th>mean</th>\n      <td>50338.166667</td>\n      <td>35.666667</td>\n      <td>6.395833</td>\n      <td>72.083333</td>\n    </tr>\n    <tr>\n      <th>std</th>\n      <td>26526.981827</td>\n      <td>52.388619</td>\n      <td>3.648022</td>\n      <td>91.362461</td>\n    </tr>\n    <tr>\n      <th>min</th>\n      <td>11758.000000</td>\n      <td>0.000000</td>\n      <td>0.000000</td>\n      <td>24.000000</td>\n    </tr>\n    <tr>\n      <th>25%</th>\n      <td>28399.750000</td>\n      <td>22.000000</td>\n      <td>3.000000</td>\n      <td>38.750000</td>\n    </tr>\n    <tr>\n      <th>50%</th>\n      <td>45986.500000</td>\n      <td>25.000000</td>\n      <td>7.000000</td>\n      <td>61.000000</td>\n    </tr>\n    <tr>\n      <th>75%</th>\n      <td>71524.000000</td>\n      <td>31.000000</td>\n      <td>10.000000</td>\n      <td>78.500000</td>\n    </tr>\n    <tr>\n      <th>max</th>\n      <td>99823.000000</td>\n      <td>333.000000</td>\n      <td>11.000000</td>\n      <td>673.000000</td>\n    </tr>\n  </tbody>\n</table>\n</div>"
     },
     "execution_count": 24,
     "metadata": {},
     "output_type": "execute_result"
    }
   ],
   "source": [
    "#So lets see then..\n",
    "df.info()\n",
    "df.describe()"
   ],
   "metadata": {
    "collapsed": false,
    "ExecuteTime": {
     "end_time": "2023-09-28T15:58:58.674633Z",
     "start_time": "2023-09-28T15:58:58.661655Z"
    }
   },
   "id": "2dcaf9614dd4fb59"
  },
  {
   "cell_type": "code",
   "execution_count": 25,
   "outputs": [
    {
     "data": {
      "text/plain": "    StudentID  Age              email  hrsStudy  FinalGrade\n43      62039   23  s62039@oslomet.no         4        46.0\n44      42989   27  s42989@oslomet.no         0        80.0\n45      85370   29  s85370@oslomet.no         2        77.0\n46      63135   26  s63135@oslomet.no         9        39.0\n47      28895   19  s28895@oslomet.no        10        68.0",
      "text/html": "<div>\n<style scoped>\n    .dataframe tbody tr th:only-of-type {\n        vertical-align: middle;\n    }\n\n    .dataframe tbody tr th {\n        vertical-align: top;\n    }\n\n    .dataframe thead th {\n        text-align: right;\n    }\n</style>\n<table border=\"1\" class=\"dataframe\">\n  <thead>\n    <tr style=\"text-align: right;\">\n      <th></th>\n      <th>StudentID</th>\n      <th>Age</th>\n      <th>email</th>\n      <th>hrsStudy</th>\n      <th>FinalGrade</th>\n    </tr>\n  </thead>\n  <tbody>\n    <tr>\n      <th>43</th>\n      <td>62039</td>\n      <td>23</td>\n      <td>s62039@oslomet.no</td>\n      <td>4</td>\n      <td>46.0</td>\n    </tr>\n    <tr>\n      <th>44</th>\n      <td>42989</td>\n      <td>27</td>\n      <td>s42989@oslomet.no</td>\n      <td>0</td>\n      <td>80.0</td>\n    </tr>\n    <tr>\n      <th>45</th>\n      <td>85370</td>\n      <td>29</td>\n      <td>s85370@oslomet.no</td>\n      <td>2</td>\n      <td>77.0</td>\n    </tr>\n    <tr>\n      <th>46</th>\n      <td>63135</td>\n      <td>26</td>\n      <td>s63135@oslomet.no</td>\n      <td>9</td>\n      <td>39.0</td>\n    </tr>\n    <tr>\n      <th>47</th>\n      <td>28895</td>\n      <td>19</td>\n      <td>s28895@oslomet.no</td>\n      <td>10</td>\n      <td>68.0</td>\n    </tr>\n  </tbody>\n</table>\n</div>"
     },
     "execution_count": 25,
     "metadata": {},
     "output_type": "execute_result"
    }
   ],
   "source": [
    "#As you can see, the index counts to 49, but we have dropped several values.. to reset the index you can use\n",
    "df = df.reset_index(drop=True)\n",
    "df.tail(5)"
   ],
   "metadata": {
    "collapsed": false,
    "ExecuteTime": {
     "end_time": "2023-09-28T16:01:09.434636Z",
     "start_time": "2023-09-28T16:01:09.405972Z"
    }
   },
   "id": "7fbcf262c324adc6"
  },
  {
   "cell_type": "code",
   "execution_count": 26,
   "outputs": [
    {
     "data": {
      "text/plain": "    StudentID  Age              email  hrsStudy  FinalGrade Grade\n0       47412   20  s47412@oslomet.no         5        46.0     F\n1       15077   22  s15077@oslomet.no         0        65.0     D\n2       15467   27  s15467@oslomet.no         1        26.0     F\n3       17907   21  s17907@oslomet.no         6        68.0     D\n4       13352  333  s13352@oslomet.no         4        34.0     F\n5       88403   29  s88403@oslomet.no        11        62.0     D\n6       56387   32  s56387@oslomet.no         9        29.0     F\n7       95648   23  s95648@oslomet.no         3        38.0     F\n8       63176   20  s63176@oslomet.no         0        98.0     A\n9       15406   31  s15406@oslomet.no         2        68.0     D\n10      41908   24  s41908@oslomet.no         0        62.0     D\n11      35600   30  s35600@oslomet.no        11        70.0     D\n12      16171   25  s16171@oslomet.no        10        81.0     B\n13      55586   24  s55586@oslomet.no         7        31.0     F\n14      71505   23  s71505@oslomet.no         1        49.0     F\n15      31235   33  s31235@oslomet.no         1        72.0     C\n16      80811   21  s80811@oslomet.no         6        51.0     E\n17      33041   21  s33041@oslomet.no         2        97.0     A\n18      99823   23  s99823@oslomet.no        10        56.0     E\n19      41092   33  s41092@oslomet.no        10        42.0     F\n20      15976   32  s15976@oslomet.no         9        78.0     C\n21      91520   33  s91520@oslomet.no         9        60.0     E\n22      11758   33  s11758@oslomet.no         6        54.0     E\n23      67086   22  s67086@oslomet.no        10        51.0     E\n24      84127   20  s84127@oslomet.no         5        92.0     A\n25      59109   32  s59109@oslomet.no         7        97.0     A\n26      71581   25  s71581@oslomet.no         9        26.0     F\n27      29254   22  s29254@oslomet.no        10        88.0     B\n28      20161   22  s20161@oslomet.no        11        90.0     B\n29      66815   21  s66815@oslomet.no         8        35.0     F\n30      26914   31  s26914@oslomet.no         9        93.0     A\n31      58153  220  s58153@oslomet.no        10        35.0     F\n32      58387   20  s58387@oslomet.no         9       673.0   NaN\n33      44561   28  s44561@oslomet.no        10        78.0     C\n34      84163   25  s84163@oslomet.no         7        71.0     C\n35      26584   27  s26584@oslomet.no        10        31.0     F\n36      74289   31  s74289@oslomet.no         6        45.0     F\n37      30158   21  s30158@oslomet.no         3        37.0     F\n38      25452   24  s25452@oslomet.no        10        41.0     F\n39      92390    0  s92390@oslomet.no         2        35.0     F\n40      83390   22  s83390@oslomet.no         7        88.0     B\n41      32946   31  s32946@oslomet.no        10        24.0     F\n42      44023   31  s44023@oslomet.no         6        83.0     B\n43      62039   23  s62039@oslomet.no         4        46.0     F\n44      42989   27  s42989@oslomet.no         0        80.0     C\n45      85370   29  s85370@oslomet.no         2        77.0     C\n46      63135   26  s63135@oslomet.no         9        39.0     F\n47      28895   19  s28895@oslomet.no        10        68.0     D",
      "text/html": "<div>\n<style scoped>\n    .dataframe tbody tr th:only-of-type {\n        vertical-align: middle;\n    }\n\n    .dataframe tbody tr th {\n        vertical-align: top;\n    }\n\n    .dataframe thead th {\n        text-align: right;\n    }\n</style>\n<table border=\"1\" class=\"dataframe\">\n  <thead>\n    <tr style=\"text-align: right;\">\n      <th></th>\n      <th>StudentID</th>\n      <th>Age</th>\n      <th>email</th>\n      <th>hrsStudy</th>\n      <th>FinalGrade</th>\n      <th>Grade</th>\n    </tr>\n  </thead>\n  <tbody>\n    <tr>\n      <th>0</th>\n      <td>47412</td>\n      <td>20</td>\n      <td>s47412@oslomet.no</td>\n      <td>5</td>\n      <td>46.0</td>\n      <td>F</td>\n    </tr>\n    <tr>\n      <th>1</th>\n      <td>15077</td>\n      <td>22</td>\n      <td>s15077@oslomet.no</td>\n      <td>0</td>\n      <td>65.0</td>\n      <td>D</td>\n    </tr>\n    <tr>\n      <th>2</th>\n      <td>15467</td>\n      <td>27</td>\n      <td>s15467@oslomet.no</td>\n      <td>1</td>\n      <td>26.0</td>\n      <td>F</td>\n    </tr>\n    <tr>\n      <th>3</th>\n      <td>17907</td>\n      <td>21</td>\n      <td>s17907@oslomet.no</td>\n      <td>6</td>\n      <td>68.0</td>\n      <td>D</td>\n    </tr>\n    <tr>\n      <th>4</th>\n      <td>13352</td>\n      <td>333</td>\n      <td>s13352@oslomet.no</td>\n      <td>4</td>\n      <td>34.0</td>\n      <td>F</td>\n    </tr>\n    <tr>\n      <th>5</th>\n      <td>88403</td>\n      <td>29</td>\n      <td>s88403@oslomet.no</td>\n      <td>11</td>\n      <td>62.0</td>\n      <td>D</td>\n    </tr>\n    <tr>\n      <th>6</th>\n      <td>56387</td>\n      <td>32</td>\n      <td>s56387@oslomet.no</td>\n      <td>9</td>\n      <td>29.0</td>\n      <td>F</td>\n    </tr>\n    <tr>\n      <th>7</th>\n      <td>95648</td>\n      <td>23</td>\n      <td>s95648@oslomet.no</td>\n      <td>3</td>\n      <td>38.0</td>\n      <td>F</td>\n    </tr>\n    <tr>\n      <th>8</th>\n      <td>63176</td>\n      <td>20</td>\n      <td>s63176@oslomet.no</td>\n      <td>0</td>\n      <td>98.0</td>\n      <td>A</td>\n    </tr>\n    <tr>\n      <th>9</th>\n      <td>15406</td>\n      <td>31</td>\n      <td>s15406@oslomet.no</td>\n      <td>2</td>\n      <td>68.0</td>\n      <td>D</td>\n    </tr>\n    <tr>\n      <th>10</th>\n      <td>41908</td>\n      <td>24</td>\n      <td>s41908@oslomet.no</td>\n      <td>0</td>\n      <td>62.0</td>\n      <td>D</td>\n    </tr>\n    <tr>\n      <th>11</th>\n      <td>35600</td>\n      <td>30</td>\n      <td>s35600@oslomet.no</td>\n      <td>11</td>\n      <td>70.0</td>\n      <td>D</td>\n    </tr>\n    <tr>\n      <th>12</th>\n      <td>16171</td>\n      <td>25</td>\n      <td>s16171@oslomet.no</td>\n      <td>10</td>\n      <td>81.0</td>\n      <td>B</td>\n    </tr>\n    <tr>\n      <th>13</th>\n      <td>55586</td>\n      <td>24</td>\n      <td>s55586@oslomet.no</td>\n      <td>7</td>\n      <td>31.0</td>\n      <td>F</td>\n    </tr>\n    <tr>\n      <th>14</th>\n      <td>71505</td>\n      <td>23</td>\n      <td>s71505@oslomet.no</td>\n      <td>1</td>\n      <td>49.0</td>\n      <td>F</td>\n    </tr>\n    <tr>\n      <th>15</th>\n      <td>31235</td>\n      <td>33</td>\n      <td>s31235@oslomet.no</td>\n      <td>1</td>\n      <td>72.0</td>\n      <td>C</td>\n    </tr>\n    <tr>\n      <th>16</th>\n      <td>80811</td>\n      <td>21</td>\n      <td>s80811@oslomet.no</td>\n      <td>6</td>\n      <td>51.0</td>\n      <td>E</td>\n    </tr>\n    <tr>\n      <th>17</th>\n      <td>33041</td>\n      <td>21</td>\n      <td>s33041@oslomet.no</td>\n      <td>2</td>\n      <td>97.0</td>\n      <td>A</td>\n    </tr>\n    <tr>\n      <th>18</th>\n      <td>99823</td>\n      <td>23</td>\n      <td>s99823@oslomet.no</td>\n      <td>10</td>\n      <td>56.0</td>\n      <td>E</td>\n    </tr>\n    <tr>\n      <th>19</th>\n      <td>41092</td>\n      <td>33</td>\n      <td>s41092@oslomet.no</td>\n      <td>10</td>\n      <td>42.0</td>\n      <td>F</td>\n    </tr>\n    <tr>\n      <th>20</th>\n      <td>15976</td>\n      <td>32</td>\n      <td>s15976@oslomet.no</td>\n      <td>9</td>\n      <td>78.0</td>\n      <td>C</td>\n    </tr>\n    <tr>\n      <th>21</th>\n      <td>91520</td>\n      <td>33</td>\n      <td>s91520@oslomet.no</td>\n      <td>9</td>\n      <td>60.0</td>\n      <td>E</td>\n    </tr>\n    <tr>\n      <th>22</th>\n      <td>11758</td>\n      <td>33</td>\n      <td>s11758@oslomet.no</td>\n      <td>6</td>\n      <td>54.0</td>\n      <td>E</td>\n    </tr>\n    <tr>\n      <th>23</th>\n      <td>67086</td>\n      <td>22</td>\n      <td>s67086@oslomet.no</td>\n      <td>10</td>\n      <td>51.0</td>\n      <td>E</td>\n    </tr>\n    <tr>\n      <th>24</th>\n      <td>84127</td>\n      <td>20</td>\n      <td>s84127@oslomet.no</td>\n      <td>5</td>\n      <td>92.0</td>\n      <td>A</td>\n    </tr>\n    <tr>\n      <th>25</th>\n      <td>59109</td>\n      <td>32</td>\n      <td>s59109@oslomet.no</td>\n      <td>7</td>\n      <td>97.0</td>\n      <td>A</td>\n    </tr>\n    <tr>\n      <th>26</th>\n      <td>71581</td>\n      <td>25</td>\n      <td>s71581@oslomet.no</td>\n      <td>9</td>\n      <td>26.0</td>\n      <td>F</td>\n    </tr>\n    <tr>\n      <th>27</th>\n      <td>29254</td>\n      <td>22</td>\n      <td>s29254@oslomet.no</td>\n      <td>10</td>\n      <td>88.0</td>\n      <td>B</td>\n    </tr>\n    <tr>\n      <th>28</th>\n      <td>20161</td>\n      <td>22</td>\n      <td>s20161@oslomet.no</td>\n      <td>11</td>\n      <td>90.0</td>\n      <td>B</td>\n    </tr>\n    <tr>\n      <th>29</th>\n      <td>66815</td>\n      <td>21</td>\n      <td>s66815@oslomet.no</td>\n      <td>8</td>\n      <td>35.0</td>\n      <td>F</td>\n    </tr>\n    <tr>\n      <th>30</th>\n      <td>26914</td>\n      <td>31</td>\n      <td>s26914@oslomet.no</td>\n      <td>9</td>\n      <td>93.0</td>\n      <td>A</td>\n    </tr>\n    <tr>\n      <th>31</th>\n      <td>58153</td>\n      <td>220</td>\n      <td>s58153@oslomet.no</td>\n      <td>10</td>\n      <td>35.0</td>\n      <td>F</td>\n    </tr>\n    <tr>\n      <th>32</th>\n      <td>58387</td>\n      <td>20</td>\n      <td>s58387@oslomet.no</td>\n      <td>9</td>\n      <td>673.0</td>\n      <td>NaN</td>\n    </tr>\n    <tr>\n      <th>33</th>\n      <td>44561</td>\n      <td>28</td>\n      <td>s44561@oslomet.no</td>\n      <td>10</td>\n      <td>78.0</td>\n      <td>C</td>\n    </tr>\n    <tr>\n      <th>34</th>\n      <td>84163</td>\n      <td>25</td>\n      <td>s84163@oslomet.no</td>\n      <td>7</td>\n      <td>71.0</td>\n      <td>C</td>\n    </tr>\n    <tr>\n      <th>35</th>\n      <td>26584</td>\n      <td>27</td>\n      <td>s26584@oslomet.no</td>\n      <td>10</td>\n      <td>31.0</td>\n      <td>F</td>\n    </tr>\n    <tr>\n      <th>36</th>\n      <td>74289</td>\n      <td>31</td>\n      <td>s74289@oslomet.no</td>\n      <td>6</td>\n      <td>45.0</td>\n      <td>F</td>\n    </tr>\n    <tr>\n      <th>37</th>\n      <td>30158</td>\n      <td>21</td>\n      <td>s30158@oslomet.no</td>\n      <td>3</td>\n      <td>37.0</td>\n      <td>F</td>\n    </tr>\n    <tr>\n      <th>38</th>\n      <td>25452</td>\n      <td>24</td>\n      <td>s25452@oslomet.no</td>\n      <td>10</td>\n      <td>41.0</td>\n      <td>F</td>\n    </tr>\n    <tr>\n      <th>39</th>\n      <td>92390</td>\n      <td>0</td>\n      <td>s92390@oslomet.no</td>\n      <td>2</td>\n      <td>35.0</td>\n      <td>F</td>\n    </tr>\n    <tr>\n      <th>40</th>\n      <td>83390</td>\n      <td>22</td>\n      <td>s83390@oslomet.no</td>\n      <td>7</td>\n      <td>88.0</td>\n      <td>B</td>\n    </tr>\n    <tr>\n      <th>41</th>\n      <td>32946</td>\n      <td>31</td>\n      <td>s32946@oslomet.no</td>\n      <td>10</td>\n      <td>24.0</td>\n      <td>F</td>\n    </tr>\n    <tr>\n      <th>42</th>\n      <td>44023</td>\n      <td>31</td>\n      <td>s44023@oslomet.no</td>\n      <td>6</td>\n      <td>83.0</td>\n      <td>B</td>\n    </tr>\n    <tr>\n      <th>43</th>\n      <td>62039</td>\n      <td>23</td>\n      <td>s62039@oslomet.no</td>\n      <td>4</td>\n      <td>46.0</td>\n      <td>F</td>\n    </tr>\n    <tr>\n      <th>44</th>\n      <td>42989</td>\n      <td>27</td>\n      <td>s42989@oslomet.no</td>\n      <td>0</td>\n      <td>80.0</td>\n      <td>C</td>\n    </tr>\n    <tr>\n      <th>45</th>\n      <td>85370</td>\n      <td>29</td>\n      <td>s85370@oslomet.no</td>\n      <td>2</td>\n      <td>77.0</td>\n      <td>C</td>\n    </tr>\n    <tr>\n      <th>46</th>\n      <td>63135</td>\n      <td>26</td>\n      <td>s63135@oslomet.no</td>\n      <td>9</td>\n      <td>39.0</td>\n      <td>F</td>\n    </tr>\n    <tr>\n      <th>47</th>\n      <td>28895</td>\n      <td>19</td>\n      <td>s28895@oslomet.no</td>\n      <td>10</td>\n      <td>68.0</td>\n      <td>D</td>\n    </tr>\n  </tbody>\n</table>\n</div>"
     },
     "execution_count": 26,
     "metadata": {},
     "output_type": "execute_result"
    }
   ],
   "source": [
    "bins = [0, 50, 60, 70, 80, 90, 100]\n",
    "labels = ['F', 'E', 'D', 'C', 'B', 'A']\n",
    "\n",
    "df['Grade'] = pd.cut(df.FinalGrade, bins=bins, labels=labels)\n",
    "df"
   ],
   "metadata": {
    "collapsed": false,
    "ExecuteTime": {
     "end_time": "2023-09-28T16:02:53.641521Z",
     "start_time": "2023-09-28T16:02:53.623006Z"
    }
   },
   "id": "debcce9aaf201d2a"
  },
  {
   "cell_type": "code",
   "execution_count": 41,
   "outputs": [
    {
     "data": {
      "text/plain": "<Axes: xlabel='Grade'>"
     },
     "execution_count": 41,
     "metadata": {},
     "output_type": "execute_result"
    },
    {
     "data": {
      "text/plain": "<Figure size 640x480 with 1 Axes>",
      "image/png": "[encoded data removed]"
     },
     "metadata": {},
     "output_type": "display_data"
    }
   ],
   "source": [
    "df_gradeCount = df.groupby(df.Grade).count()\n",
    "\n",
    "df_gradeCount['FinalGrade'].sort_index(ascending=False).plot.bar()"
   ],
   "metadata": {
    "collapsed": false,
    "ExecuteTime": {
     "end_time": "2023-09-28T16:08:17.945695Z",
     "start_time": "2023-09-28T16:08:17.877213Z"
    }
   },
   "id": "811149b3a085d9ac"
  },
  {
   "cell_type": "code",
   "execution_count": null,
   "outputs": [],
   "source": [],
   "metadata": {
    "collapsed": false
   },
   "id": "a2e47acfdf079cdf"
  }
 ],
 "metadata": {
  "kernelspec": {
   "display_name": "Python 3",
   "language": "python",
   "name": "python3"
  },
  "language_info": {
   "codemirror_mode": {
    "name": "ipython",
    "version": 2
   },
   "file_extension": ".py",
   "mimetype": "text/x-python",
   "name": "python",
   "nbconvert_exporter": "python",
   "pygments_lexer": "ipython2",
   "version": "2.7.6"
  }
 },
 "nbformat": 4,
 "nbformat_minor": 5
}
