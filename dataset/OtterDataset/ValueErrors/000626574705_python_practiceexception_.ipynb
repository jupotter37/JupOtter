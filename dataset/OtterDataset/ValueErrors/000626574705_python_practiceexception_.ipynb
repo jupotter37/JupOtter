{
  "nbformat": 4,
  "nbformat_minor": 0,
  "metadata": {
    "colab": {
      "provenance": [],
      "authorship_tag": "ABX9TyPKq4F+20FXcD/sX0zY9iEK",
      "include_colab_link": true
    },
    "kernelspec": {
      "name": "python3",
      "display_name": "Python 3"
    },
    "language_info": {
      "name": "python"
    }
  },
  "cells": [
    {
      "cell_type": "markdown",
      "metadata": {
        "id": "view-in-github",
        "colab_type": "text"
      },
      "source": [
        "<a href=\"https://colab.research.google.com/github/000626574705/python/blob/main/practiceexception_.ipynb\" target=\"_parent\"><img src=\"https://colab.research.google.com/assets/colab-badge.svg\" alt=\"Open In Colab\"/></a>"
      ]
    },
    {
      "cell_type": "code",
      "execution_count": 2,
      "metadata": {
        "colab": {
          "base_uri": "https://localhost:8080/"
        },
        "id": "RCZ_dIZSPrek",
        "outputId": "430136c5-d89c-487c-f6a6-f7ce7bd94353"
      },
      "outputs": [
        {
          "output_type": "stream",
          "name": "stdout",
          "text": [
            "division by zero\n"
          ]
        }
      ],
      "source": [
        "try:\n",
        "  a=10/0\n",
        "except ZeroDivisionError as e:\n",
        "  print(e)\n"
      ]
    },
    {
      "cell_type": "code",
      "source": [
        "try:\n",
        "  int(\"sudh\")\n",
        "except(ValueError,TypeError) as e:\n",
        "  print(e)"
      ],
      "metadata": {
        "colab": {
          "base_uri": "https://localhost:8080/"
        },
        "id": "zRmH4cRsRo4B",
        "outputId": "76bb6f3f-35a8-40cf-9f3b-ac2977f6bed6"
      },
      "execution_count": 3,
      "outputs": [
        {
          "output_type": "stream",
          "name": "stdout",
          "text": [
            "invalid literal for int() with base 10: 'sudh'\n"
          ]
        }
      ]
    },
    {
      "cell_type": "code",
      "source": [
        "try:\n",
        "  int(\"sudh\")\n",
        "except:\n",
        "  print(\"this is will catch an error\")"
      ],
      "metadata": {
        "colab": {
          "base_uri": "https://localhost:8080/"
        },
        "id": "T95DjnctR5dd",
        "outputId": "585436f6-286d-4bb5-e4a2-926529dc7613"
      },
      "execution_count": 6,
      "outputs": [
        {
          "output_type": "stream",
          "name": "stdout",
          "text": [
            "this is will catch an error\n"
          ]
        }
      ]
    },
    {
      "cell_type": "code",
      "source": [
        "try:\n",
        "  import sudh\n",
        "except ImportError as e:\n",
        "  print(e)\n",
        ""
      ],
      "metadata": {
        "colab": {
          "base_uri": "https://localhost:8080/"
        },
        "id": "ULxAXhmrSH2T",
        "outputId": "03bc2a2f-2b69-4104-c15a-61c73220f202"
      },
      "execution_count": 7,
      "outputs": [
        {
          "output_type": "stream",
          "name": "stdout",
          "text": [
            "No module named 'sudh'\n"
          ]
        }
      ]
    },
    {
      "cell_type": "code",
      "source": [
        "try:\n",
        "  d = {\"key\":\"sudh\",1:[2,3,4,5]}\n",
        "  print(d[\"key\"])\n",
        "except KeyError as e:\n",
        "  print(e)\n"
      ],
      "metadata": {
        "colab": {
          "base_uri": "https://localhost:8080/"
        },
        "id": "k8L-axAQSnUh",
        "outputId": "cf32ad61-d186-41fa-fd50-39b635fc5cd4"
      },
      "execution_count": 8,
      "outputs": [
        {
          "output_type": "stream",
          "name": "stdout",
          "text": [
            "sudh\n"
          ]
        }
      ]
    },
    {
      "cell_type": "code",
      "source": [
        "try:\n",
        "  \"sudh\".test()\n",
        "except AttributeError as e:\n",
        "  print(e)"
      ],
      "metadata": {
        "colab": {
          "base_uri": "https://localhost:8080/"
        },
        "id": "M-76WxOwTYV4",
        "outputId": "384cb1dc-6667-4568-afdd-4c6100e3fa50"
      },
      "execution_count": 10,
      "outputs": [
        {
          "output_type": "stream",
          "name": "stdout",
          "text": [
            "'str' object has no attribute 'test'\n"
          ]
        }
      ]
    },
    {
      "cell_type": "code",
      "source": [
        "try:\n",
        "  l = [2,3,55,5]\n",
        "  print(l[6])\n",
        "except IndexError as e:\n",
        "  print(e)"
      ],
      "metadata": {
        "colab": {
          "base_uri": "https://localhost:8080/"
        },
        "id": "9S9oYA8dUCh8",
        "outputId": "39b74b51-f805-4917-9a50-5a53bfcae620"
      },
      "execution_count": 11,
      "outputs": [
        {
          "output_type": "stream",
          "name": "stdout",
          "text": [
            "list index out of range\n"
          ]
        }
      ]
    },
    {
      "cell_type": "code",
      "source": [
        "try:\n",
        "  123 + \"sudh\"\n",
        "except TypeError as e:\n",
        "  print(e)"
      ],
      "metadata": {
        "colab": {
          "base_uri": "https://localhost:8080/"
        },
        "id": "0J7CYgyZUpfE",
        "outputId": "328c5547-4e4f-4e58-8335-b3a84fd25a1e"
      },
      "execution_count": 14,
      "outputs": [
        {
          "output_type": "stream",
          "name": "stdout",
          "text": [
            "unsupported operand type(s) for +: 'int' and 'str'\n"
          ]
        }
      ]
    },
    {
      "cell_type": "code",
      "source": [
        "try:\n",
        "  with open(\"test.txt\",'r') as f:\n",
        "    f.read()\n",
        "except FileNotFoundError as e:\n",
        "  print(e)"
      ],
      "metadata": {
        "colab": {
          "base_uri": "https://localhost:8080/"
        },
        "id": "OZgurq02U8Fx",
        "outputId": "fbe1483f-5e9b-4585-d6c8-ab482eab3c93"
      },
      "execution_count": 15,
      "outputs": [
        {
          "output_type": "stream",
          "name": "stdout",
          "text": [
            "[Errno 2] No such file or directory: 'test.txt'\n"
          ]
        }
      ]
    },
    {
      "cell_type": "code",
      "source": [
        "#best practice of exception handline"
      ],
      "metadata": {
        "id": "kHVtHLy9Vc5l"
      },
      "execution_count": 16,
      "outputs": []
    },
    {
      "cell_type": "code",
      "source": [
        "# usr always a specific exception\n",
        "try:\n",
        "  10/0\n",
        "  #use Zerodivisionerror instead of exception\n",
        "except ZeroDivisionError as e:\n",
        "  print(e)\n"
      ],
      "metadata": {
        "colab": {
          "base_uri": "https://localhost:8080/"
        },
        "id": "Sp7rjRrbW-wk",
        "outputId": "03ab55d3-3e01-407b-c846-164106fb36e0"
      },
      "execution_count": 17,
      "outputs": [
        {
          "output_type": "stream",
          "name": "stdout",
          "text": [
            "division by zero\n"
          ]
        }
      ]
    },
    {
      "cell_type": "code",
      "source": [
        "#always try to log your error\n",
        "import logging\n",
        "logging.basicConfig(filename = \"text.log\",level  =logging.ERROR)\n",
        "try:\n",
        "  10/0\n",
        "except ZeroDivisionError as e:\n",
        "  logging.info(\"i am trying to handle zerodivision error \".format(e))"
      ],
      "metadata": {
        "id": "fdA-UhuTXhZB"
      },
      "execution_count": 22,
      "outputs": []
    },
    {
      "cell_type": "code",
      "source": [
        "#always avoid to write a multiple exception handling"
      ],
      "metadata": {
        "id": "jXl_VTVBX9l1"
      },
      "execution_count": 23,
      "outputs": []
    },
    {
      "cell_type": "code",
      "source": [
        "#document all the error"
      ],
      "metadata": {
        "id": "TcX60czDYh1g"
      },
      "execution_count": 24,
      "outputs": []
    },
    {
      "cell_type": "code",
      "source": [
        "#cleanup all the resources"
      ],
      "metadata": {
        "id": "RUZ_lIKsYpxn"
      },
      "execution_count": 25,
      "outputs": []
    },
    {
      "cell_type": "code",
      "source": [],
      "metadata": {
        "id": "dQwLDS9-YtCJ"
      },
      "execution_count": 25,
      "outputs": []
    }
  ]
}