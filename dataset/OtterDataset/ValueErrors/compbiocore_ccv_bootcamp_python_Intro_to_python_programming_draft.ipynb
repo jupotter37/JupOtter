{
 "cells": [
  {
   "cell_type": "markdown",
   "metadata": {
    "************New Notebook**********": "week_1/day_1_lecture.ipynb",
    "slideshow": {
     "slide_type": "slide"
    }
   },
   "source": [
    "# <center>Introduction to Python Programming</center>\n",
    "## <center>Instructors: August Guang and Ashok Ragavendran</center>\n",
    "### <center>Center for Computation and Visualization</center>\n",
    "### <center>Center for Computational Biology of Human Disease - Computational Biology Core</center>"
   ]
  },
  {
   "cell_type": "markdown",
   "metadata": {
    "slideshow": {
     "slide_type": "slide"
    }
   },
   "source": [
    "## <center>Overview of the workshop</center>\n",
    "Learning objectives\n",
    "- Understand basics of variables, lists, dictionaries, and arrays,\n",
    "- Understand the logic of control flow techniques such as if-then statements, for loops, and list comprehensions,\n",
    "- understand functions\n"
   ]
  },
  {
   "cell_type": "markdown",
   "metadata": {
    "slideshow": {
     "slide_type": "slide"
    }
   },
   "source": [
    "## <center>What is programming?</center>\n",
    "- You type instructions for the computer to perform.\n",
    "- The computer performs those instructions to the letter.\n",
    "- **Testing**: you make sure the computer does what you want it to do\n",
    "- **Debugging**: your instructions are inaccurate, so you fix them. :)\n",
    "- It is a language heavy with mathematical concepts that might seem  weird at first"
   ]
  },
  {
   "cell_type": "markdown",
   "metadata": {
    "slideshow": {
     "slide_type": "slide"
    }
   },
   "source": [
    "## <center>Coding is a language</center>\n",
    "- It is tough to learn a new language, be patient with yourself!\n",
    "- You learn to \"talk\" to a computer\n",
    "   - it's tough because the computer is unforgiving\n",
    "   - it's easy because you'll know if your code is correct or not - feedback through testing\n",
    "- Don't expect to be 'fluent' by the end of this workshop."
   ]
  },
  {
   "cell_type": "markdown",
   "metadata": {
    "slideshow": {
     "slide_type": "slide"
    }
   },
   "source": [
    "## <center>The language analogy</center>\n",
    "- variables are the letters\n",
    "- containers are the words\n",
    "- control flow is grammar\n",
    "- functions are sentences"
   ]
  },
  {
   "cell_type": "markdown",
   "metadata": {
    "slideshow": {
     "slide_type": "slide"
    }
   },
   "source": [
    "## <center>What is programming good for?</center>\n",
    "### <center>AUTOMATION!</center>\n",
    "\n",
    "#### Computer is explicitly programmed how to perform a task.\n",
    "- Manipulate data,\n",
    "- Automatically download files and text from websites,\n",
    "- Perform any task with excel spreadsheets.\n"
   ]
  },
  {
   "cell_type": "markdown",
   "metadata": {},
   "source": [
    "## Notes for using Jupyter Notebook\n",
    "\n",
    " * With Jupyter Notebook you can get a nice popup of function definitions just like you can in RStudio. Simply navigate to a cell or start a new one, and enter in `?function` like you would normally. A popup will appear.\n",
    " * You should see an `Insert` dropdown menu and `Run` button at the top which lets you add cells as well as run code or render Markdown in the cells, but these are very useful keyboard shortcuts for the same functions:\n",
    "     * `Shift+Enter`: Run code or render Markdown in the current cell you're on\n",
    "     * `Esc+a`: Add a cell above\n",
    "     * `Esc+b`: Add a cell below\n",
    "     * `Esc+dd`: Delete a cell\n",
    "     * `Esc+m`: Convert cell to markdown\n",
    "     * `Esc+y`: Convert cell to code"
   ]
  },
  {
   "cell_type": "markdown",
   "metadata": {
    "slideshow": {
     "slide_type": "slide"
    }
   },
   "source": [
    "# <center> Python as a calculator </center>"
   ]
  },
  {
   "cell_type": "code",
   "execution_count": null,
   "metadata": {},
   "outputs": [],
   "source": [
    "12/5.1"
   ]
  },
  {
   "cell_type": "markdown",
   "metadata": {
    "slideshow": {
     "slide_type": "slide"
    }
   },
   "source": [
    "# <center> Variables - Overview</center>\n",
    "- Data is represented as numbers, strings, or boolean variables.\n",
    "    - Variables store a value but it can be changed/updated by the program\n",
    "- Numbers can be integers (whole numbers) or floats/doubles (numbers with decimal points).\n",
    "- Boolean variables can have only two values: True or False.\n",
    "- Strings are a sequence of characters within quotation marks.\n"
   ]
  },
  {
   "cell_type": "markdown",
   "metadata": {
    "slideshow": {
     "slide_type": "slide"
    }
   },
   "source": [
    "# <center> Numbers </center>"
   ]
  },
  {
   "cell_type": "code",
   "execution_count": 5,
   "metadata": {
    "slideshow": {
     "slide_type": "-"
    }
   },
   "outputs": [
    {
     "name": "stdout",
     "output_type": "stream",
     "text": [
      "<class 'int'>\n",
      "<class 'int'>\n",
      "<class 'float'>\n",
      "<class 'float'>\n"
     ]
    }
   ],
   "source": [
    "# variables store values that we can work with and modify it later.\n",
    "# variable names can be arbitrary\n",
    "# assign value to variables\n",
    "a_int = 5\n",
    "b_int = 8\n",
    "c_flt = 1.6\n",
    "d_flt = 5.2\n",
    "\n",
    "# to check the type of a variable:\n",
    "print(type(a_int)) # use parentheses for type and print\n",
    "print(type(b_int))\n",
    "print(type(c_flt))\n",
    "print(type(d_flt))"
   ]
  },
  {
   "cell_type": "markdown",
   "metadata": {
    "slideshow": {
     "slide_type": "subslide"
    }
   },
   "source": [
    "### Let's work with the variables and create new ones"
   ]
  },
  {
   "cell_type": "code",
   "execution_count": 7,
   "metadata": {
    "slideshow": {
     "slide_type": "-"
    }
   },
   "outputs": [
    {
     "name": "stdout",
     "output_type": "stream",
     "text": [
      "13\n",
      "8.0\n",
      "<class 'float'>\n",
      "8.0\n"
     ]
    }
   ],
   "source": [
    "a_int = 5\n",
    "b_int = 8\n",
    "c_flt = 1.6\n",
    "d_flt = 5.2\n",
    "\n",
    "# print the sum of two numbers\n",
    "print(a_int+b_int)\n",
    "# print the product of two numbers\n",
    "print(a_int*c_flt)\n",
    "# what is the type of this new variable?\n",
    "print(type(a_int*c_flt))\n",
    "# create a new varible!\n",
    "e_flt = a_int*c_flt\n",
    "print(e_flt)"
   ]
  },
  {
   "cell_type": "code",
   "execution_count": 9,
   "metadata": {
    "slideshow": {
     "slide_type": "subslide"
    }
   },
   "outputs": [
    {
     "name": "stdout",
     "output_type": "stream",
     "text": [
      "<class 'float'>\n",
      "-2.8\n",
      "<class 'int'>\n",
      "40\n"
     ]
    }
   ],
   "source": [
    "# create a new variable and equate it to the difference of two numbers\n",
    "print(type(d_flt - b_int))\n",
    "f_flt = d_flt - b_int\n",
    "print(f_flt)\n",
    "# multiply two numbers and store the value in a new variable\n",
    "print(type(b_int*a_int))\n",
    "g_int = b_int*a_int\n",
    "print(g_int) "
   ]
  },
  {
   "cell_type": "markdown",
   "metadata": {
    "slideshow": {
     "slide_type": "subslide"
    }
   },
   "source": [
    "### Change the value of a variable"
   ]
  },
  {
   "cell_type": "code",
   "execution_count": 15,
   "metadata": {
    "slideshow": {
     "slide_type": "-"
    }
   },
   "outputs": [
    {
     "name": "stdout",
     "output_type": "stream",
     "text": [
      "15\n",
      "17\n"
     ]
    }
   ],
   "source": [
    "# let's add 2 to a_int\n",
    "print(a_int)\n",
    "a_int = a_int + 2\n",
    "print(a_int)\n",
    "# be careful! if you rerun this cell, a_int will keep increasing by 2."
   ]
  },
  {
   "cell_type": "code",
   "execution_count": 19,
   "metadata": {
    "slideshow": {
     "slide_type": "subslide"
    }
   },
   "outputs": [
    {
     "name": "stdout",
     "output_type": "stream",
     "text": [
      "12.0\n",
      "<class 'float'>\n",
      "<class 'int'>\n",
      "<class 'float'>\n"
     ]
    }
   ],
   "source": [
    "# let's multiply b_int with 1.5\n",
    "# what's the type of the new variable? \n",
    "# Should we store this value in b_int?\n",
    "b_int = 8\n",
    "print(b_int*1.5)\n",
    "print(type(b_int*1.5))\n",
    "print(type(b_int))\n",
    "b_flt = b_int*1.5 # NOT CORRECT!\n",
    "print(type(b_flt))\n"
   ]
  },
  {
   "cell_type": "markdown",
   "metadata": {
    "slideshow": {
     "slide_type": "slide"
    }
   },
   "source": [
    "# <center> Boolean variables</center>"
   ]
  },
  {
   "cell_type": "code",
   "execution_count": 32,
   "metadata": {},
   "outputs": [
    {
     "name": "stdout",
     "output_type": "stream",
     "text": [
      "True False\n",
      "<class 'bool'>\n"
     ]
    }
   ],
   "source": [
    "# create a boolean variable\n",
    "var1_bool = True\n",
    "var2_bool = False\n",
    "print(var1_bool, var2_bool)\n",
    "print(type(var1_bool))"
   ]
  },
  {
   "cell_type": "markdown",
   "metadata": {
    "slideshow": {
     "slide_type": "subslide"
    }
   },
   "source": [
    "### Compare variables"
   ]
  },
  {
   "cell_type": "code",
   "execution_count": 33,
   "metadata": {},
   "outputs": [
    {
     "name": "stdout",
     "output_type": "stream",
     "text": [
      "True\n",
      "False\n",
      "True\n"
     ]
    }
   ],
   "source": [
    "a_int = 5\n",
    "b_int = 8\n",
    "c_flt = 1.6\n",
    "d_flt = 5.0\n",
    "c1_bool = c_flt < b_int\n",
    "c2_bool = a_int > b_int\n",
    "c3_bool = a_int == d_flt\n",
    "print(c1_bool)\n",
    "print(c2_bool)\n",
    "print(c3_bool)"
   ]
  },
  {
   "cell_type": "code",
   "execution_count": 21,
   "metadata": {
    "slideshow": {
     "slide_type": "subslide"
    }
   },
   "outputs": [
    {
     "name": "stdout",
     "output_type": "stream",
     "text": [
      "False\n",
      "True\n"
     ]
    }
   ],
   "source": [
    "a_int = 5\n",
    "b_int = 8\n",
    "c_flt = 1.6\n",
    "d_flt = 5.0\n",
    "# is b_int+c_flt larger than a_int+d_flt?\n",
    "compvars1_bool = b_int+c_flt > a_int+d_flt\n",
    "# is c_flt-a_int smaller than b_int-d_flt?\n",
    "compvars2_bool = c_flt-a_int < b_int-d_flt\n",
    "print(compvars1_bool)\n",
    "print(compvars2_bool)"
   ]
  },
  {
   "cell_type": "markdown",
   "metadata": {
    "slideshow": {
     "slide_type": "subslide"
    }
   },
   "source": [
    "### check variable type"
   ]
  },
  {
   "cell_type": "code",
   "execution_count": 23,
   "metadata": {
    "slideshow": {
     "slide_type": "-"
    }
   },
   "outputs": [
    {
     "name": "stdout",
     "output_type": "stream",
     "text": [
      "False\n",
      "True\n",
      "True\n"
     ]
    }
   ],
   "source": [
    "# is the type of a_int and c_flt the same?\n",
    "comptypes1_bool = type(a_int) == type(c_flt)\n",
    "print(comptypes1_bool)\n",
    "\n",
    "# is a_int of type int?\n",
    "type_a_bool = type(a_int) == int\n",
    "print(type_a_bool)\n",
    "\n",
    "# is d_flt really a float?\n",
    "type_d_bool = type(d_flt) == float\n",
    "print(type_d_bool)"
   ]
  },
  {
   "cell_type": "markdown",
   "metadata": {
    "slideshow": {
     "slide_type": "slide"
    }
   },
   "source": [
    "# <center> String Variables </center>\n",
    "- Describe and create characters and strings\n",
    "- Index strings\n",
    "- Use string operations\n",
    "- Describe special characters\n",
    "- Convert strings to numbers and numbers to strings"
   ]
  },
  {
   "cell_type": "markdown",
   "metadata": {
    "slideshow": {
     "slide_type": "slide"
    }
   },
   "source": [
    "# <center> Strings and Characters </center>"
   ]
  },
  {
   "cell_type": "code",
   "execution_count": 1,
   "metadata": {
    "slideshow": {
     "slide_type": "subslide"
    }
   },
   "outputs": [
    {
     "name": "stdout",
     "output_type": "stream",
     "text": [
      "string\n",
      "This is my first string!\n"
     ]
    }
   ],
   "source": [
    "short_str = \"string\"\n",
    "longer_str = 'This is my first string!'\n",
    "\n",
    "print(short_str)\n",
    "print(longer_str) "
   ]
  },
  {
   "cell_type": "code",
   "execution_count": 2,
   "metadata": {
    "slideshow": {
     "slide_type": "subslide"
    }
   },
   "outputs": [
    {
     "ename": "SyntaxError",
     "evalue": "invalid syntax (<ipython-input-2-872004ebd701>, line 4)",
     "output_type": "error",
     "traceback": [
      "\u001b[0;36m  File \u001b[0;32m\"<ipython-input-2-872004ebd701>\"\u001b[0;36m, line \u001b[0;32m4\u001b[0m\n\u001b[0;31m    print('There's my first string!')\u001b[0m\n\u001b[0m                 ^\u001b[0m\n\u001b[0;31mSyntaxError\u001b[0m\u001b[0;31m:\u001b[0m invalid syntax\n"
     ]
    }
   ],
   "source": [
    "# beware of apostrophe in strings!\n",
    "\n",
    "# NOT VALID\n",
    "print('There's my first string!')\n",
    "\n",
    "# VALID\n",
    "print(\"There's my first string!\")"
   ]
  },
  {
   "cell_type": "markdown",
   "metadata": {
    "slideshow": {
     "slide_type": "slide"
    }
   },
   "source": [
    "- <font color='LIGHTGRAY'> Describe and create characters and strings </font>\n",
    "- Index strings\n",
    "- <font color='LIGHTGRAY'>Use string operations </font>\n",
    "- <font color='LIGHTGRAY'>Describe special characters </font>\n",
    "- <font color='LIGHTGRAY'>Convert strings to numbers and numbers to strings </font>"
   ]
  },
  {
   "cell_type": "markdown",
   "metadata": {
    "slideshow": {
     "slide_type": "subslide"
    }
   },
   "source": [
    "# <center> String indexing </center>\n",
    "\n",
    "### <center> string[*starting index* : *stopping index* : *step size*] </center>\n",
    "\n",
    "#### Default Values:\n",
    "* start = beginning of string\n",
    "* stop = end of string\n",
    "* step = 1\n"
   ]
  },
  {
   "cell_type": "code",
   "execution_count": 3,
   "metadata": {
    "slideshow": {
     "slide_type": "subslide"
    }
   },
   "outputs": [
    {
     "name": "stdout",
     "output_type": "stream",
     "text": [
      "A\n",
      "u\n",
      "r\n"
     ]
    }
   ],
   "source": [
    "my_name_str = 'Audre Lorde'\n",
    "\n",
    "# indexing one character\n",
    "print(my_name_str[0])\n",
    "print(my_name_str[1])\n",
    "print(my_name_str[-3])"
   ]
  },
  {
   "cell_type": "code",
   "execution_count": 4,
   "metadata": {
    "slideshow": {
     "slide_type": "subslide"
    }
   },
   "outputs": [
    {
     "name": "stdout",
     "output_type": "stream",
     "text": [
      "Aud\n"
     ]
    }
   ],
   "source": [
    "# indexing a range of characters\n",
    "print(my_name_str[0:3]) # stop index is not included"
   ]
  },
  {
   "cell_type": "code",
   "execution_count": 5,
   "metadata": {
    "slideshow": {
     "slide_type": "fragment"
    }
   },
   "outputs": [
    {
     "name": "stdout",
     "output_type": "stream",
     "text": [
      "re Lorde\n"
     ]
    }
   ],
   "source": [
    "print(my_name_str[3:])"
   ]
  },
  {
   "cell_type": "code",
   "execution_count": 6,
   "metadata": {
    "slideshow": {
     "slide_type": "fragment"
    }
   },
   "outputs": [
    {
     "name": "stdout",
     "output_type": "stream",
     "text": [
      "Audre \n"
     ]
    }
   ],
   "source": [
    "print(my_name_str[:6]) "
   ]
  },
  {
   "cell_type": "code",
   "execution_count": 7,
   "metadata": {
    "slideshow": {
     "slide_type": "subslide"
    }
   },
   "outputs": [
    {
     "name": "stdout",
     "output_type": "stream",
     "text": [
      "AdeLre\n"
     ]
    }
   ],
   "source": [
    "# indexing a range of characters with a step\n",
    "print(my_name_str[::2])"
   ]
  },
  {
   "cell_type": "code",
   "execution_count": 8,
   "metadata": {
    "slideshow": {
     "slide_type": "fragment"
    }
   },
   "outputs": [
    {
     "name": "stdout",
     "output_type": "stream",
     "text": [
      "ueoe\n"
     ]
    }
   ],
   "source": [
    "print(my_name_str[1::3]) "
   ]
  },
  {
   "cell_type": "code",
   "execution_count": 9,
   "metadata": {
    "slideshow": {
     "slide_type": "fragment"
    }
   },
   "outputs": [
    {
     "name": "stdout",
     "output_type": "stream",
     "text": [
      "Audre Lorde\n"
     ]
    }
   ],
   "source": [
    "print(my_name_str[::]) # default step size = 1"
   ]
  },
  {
   "cell_type": "code",
   "execution_count": 10,
   "metadata": {
    "slideshow": {
     "slide_type": "subslide"
    }
   },
   "outputs": [
    {
     "name": "stdout",
     "output_type": "stream",
     "text": [
      "edroL erduA\n"
     ]
    }
   ],
   "source": [
    "# backwards indexing\n",
    "print(my_name_str[::-1])"
   ]
  },
  {
   "cell_type": "markdown",
   "metadata": {
    "slideshow": {
     "slide_type": "slide"
    }
   },
   "source": [
    "- <font color='LIGHTGRAY'> Describe and create characters and strings </font>\n",
    "- <font color='LIGHTGRAY'>Index strings </font>\n",
    "- Use string operations\n",
    "- <font color='LIGHTGRAY'>Describe special characters </font>\n",
    "- <font color='LIGHTGRAY'>Convert strings to numbers and numbers to strings </font>"
   ]
  },
  {
   "cell_type": "markdown",
   "metadata": {
    "slideshow": {
     "slide_type": "subslide"
    }
   },
   "source": [
    "# <center> Useful string operations </center>"
   ]
  },
  {
   "cell_type": "code",
   "execution_count": 11,
   "metadata": {
    "slideshow": {
     "slide_type": "subslide"
    }
   },
   "outputs": [
    {
     "name": "stdout",
     "output_type": "stream",
     "text": [
      "AudreLorde\n"
     ]
    }
   ],
   "source": [
    "# combine strings\n",
    "first_name_str = 'Audre'\n",
    "second_name_str = 'Lorde'\n",
    "full_name_str = first_name_str + second_name_str\n",
    "print(full_name_str)"
   ]
  },
  {
   "cell_type": "code",
   "execution_count": 12,
   "metadata": {
    "slideshow": {
     "slide_type": "subslide"
    }
   },
   "outputs": [
    {
     "name": "stdout",
     "output_type": "stream",
     "text": [
      "Audre Lorde\n"
     ]
    }
   ],
   "source": [
    "space_name_str = first_name_str + \" \" + second_name_str\n",
    "print(space_name_str)"
   ]
  },
  {
   "cell_type": "code",
   "execution_count": 13,
   "metadata": {
    "slideshow": {
     "slide_type": "subslide"
    }
   },
   "outputs": [
    {
     "name": "stdout",
     "output_type": "stream",
     "text": [
      "hahaha\n"
     ]
    }
   ],
   "source": [
    "# repeat strings\n",
    "laugh_str = 'ha'\n",
    "print(laugh_str*3)"
   ]
  },
  {
   "cell_type": "code",
   "execution_count": 14,
   "metadata": {
    "slideshow": {
     "slide_type": "subslide"
    }
   },
   "outputs": [
    {
     "name": "stdout",
     "output_type": "stream",
     "text": [
      "Audre Lorde\n"
     ]
    }
   ],
   "source": [
    "# split strings\n",
    "print(space_name_str)"
   ]
  },
  {
   "cell_type": "code",
   "execution_count": 15,
   "metadata": {
    "slideshow": {
     "slide_type": "fragment"
    }
   },
   "outputs": [
    {
     "name": "stdout",
     "output_type": "stream",
     "text": [
      "['Audre', 'Lorde']\n",
      "['Audre', 'Lorde']\n"
     ]
    }
   ],
   "source": [
    "# split on space\n",
    "print(space_name_str.split())\n",
    "print(space_name_str.split(' '))"
   ]
  },
  {
   "cell_type": "code",
   "execution_count": 16,
   "metadata": {
    "slideshow": {
     "slide_type": "fragment"
    }
   },
   "outputs": [
    {
     "name": "stdout",
     "output_type": "stream",
     "text": [
      "['Audre Lorde']\n"
     ]
    }
   ],
   "source": [
    "# split on another character\n",
    "print(space_name_str.split('l'))"
   ]
  },
  {
   "cell_type": "code",
   "execution_count": 18,
   "metadata": {
    "slideshow": {
     "slide_type": "subslide"
    }
   },
   "outputs": [
    {
     "name": "stdout",
     "output_type": "stream",
     "text": [
      "False\n"
     ]
    }
   ],
   "source": [
    "# check if characters are in string\n",
    "full_name_str = 'August Guang'\n",
    "chars = 'aug'\n",
    "check_bool = chars in full_name_str\n",
    "print(check_bool)"
   ]
  },
  {
   "cell_type": "code",
   "execution_count": 19,
   "metadata": {
    "slideshow": {
     "slide_type": "subslide"
    }
   },
   "outputs": [
    {
     "name": "stdout",
     "output_type": "stream",
     "text": [
      "True\n"
     ]
    }
   ],
   "source": [
    "chars = 'Aug'\n",
    "check_bool = chars in full_name_str\n",
    "print(check_bool)"
   ]
  },
  {
   "cell_type": "code",
   "execution_count": 22,
   "metadata": {
    "slideshow": {
     "slide_type": "subslide"
    }
   },
   "outputs": [
    {
     "name": "stdout",
     "output_type": "stream",
     "text": [
      "August Guang\n",
      "1\n",
      "-1\n"
     ]
    }
   ],
   "source": [
    "# find - returns the first occurrence of a character\n",
    "print(full_name_str)\n",
    "print(full_name_str.find('u'))\n",
    "print(full_name_str.find('e'))"
   ]
  },
  {
   "cell_type": "markdown",
   "metadata": {
    "slideshow": {
     "slide_type": "slide"
    }
   },
   "source": [
    "# <center> Special String Characters </center>"
   ]
  },
  {
   "cell_type": "code",
   "execution_count": 23,
   "metadata": {
    "slideshow": {
     "slide_type": "subslide"
    }
   },
   "outputs": [
    {
     "name": "stdout",
     "output_type": "stream",
     "text": [
      "first line \n",
      " second line\n"
     ]
    }
   ],
   "source": [
    "print('first line \\n second line')"
   ]
  },
  {
   "cell_type": "code",
   "execution_count": 24,
   "metadata": {
    "slideshow": {
     "slide_type": "subslide"
    }
   },
   "outputs": [
    {
     "name": "stdout",
     "output_type": "stream",
     "text": [
      "first line \\n second line\n"
     ]
    }
   ],
   "source": [
    "print('first line \\\\n second line')"
   ]
  },
  {
   "cell_type": "markdown",
   "metadata": {
    "slideshow": {
     "slide_type": "subslide"
    }
   },
   "source": [
    "## Casting between types"
   ]
  },
  {
   "cell_type": "code",
   "execution_count": 25,
   "metadata": {
    "slideshow": {
     "slide_type": "-"
    }
   },
   "outputs": [
    {
     "name": "stdout",
     "output_type": "stream",
     "text": [
      "14\n"
     ]
    }
   ],
   "source": [
    "print(9 + 5)"
   ]
  },
  {
   "cell_type": "code",
   "execution_count": 26,
   "metadata": {
    "slideshow": {
     "slide_type": "-"
    }
   },
   "outputs": [
    {
     "name": "stdout",
     "output_type": "stream",
     "text": [
      "95\n"
     ]
    }
   ],
   "source": [
    "print('9' + '5')"
   ]
  },
  {
   "cell_type": "code",
   "execution_count": 27,
   "metadata": {
    "slideshow": {
     "slide_type": "-"
    }
   },
   "outputs": [
    {
     "ename": "TypeError",
     "evalue": "must be str, not int",
     "output_type": "error",
     "traceback": [
      "\u001b[0;31m---------------------------------------------------------------------------\u001b[0m",
      "\u001b[0;31mTypeError\u001b[0m                                 Traceback (most recent call last)",
      "\u001b[0;32m<ipython-input-27-bcba248463ee>\u001b[0m in \u001b[0;36m<module>\u001b[0;34m\u001b[0m\n\u001b[0;32m----> 1\u001b[0;31m \u001b[0mprint\u001b[0m\u001b[0;34m(\u001b[0m\u001b[0;34m'9'\u001b[0m \u001b[0;34m+\u001b[0m \u001b[0;36m5\u001b[0m\u001b[0;34m)\u001b[0m\u001b[0;34m\u001b[0m\u001b[0;34m\u001b[0m\u001b[0m\n\u001b[0m",
      "\u001b[0;31mTypeError\u001b[0m: must be str, not int"
     ]
    }
   ],
   "source": [
    "print('9' + 5)"
   ]
  },
  {
   "cell_type": "code",
   "execution_count": 28,
   "metadata": {
    "slideshow": {
     "slide_type": "subslide"
    }
   },
   "outputs": [
    {
     "name": "stdout",
     "output_type": "stream",
     "text": [
      "9\n",
      "<class 'str'>\n",
      "9\n",
      "<class 'int'>\n"
     ]
    }
   ],
   "source": [
    "print(str(9))\n",
    "print(type(str(9)))\n",
    "\n",
    "print(int('9'))\n",
    "print(type(int('9')))"
   ]
  },
  {
   "cell_type": "code",
   "execution_count": 29,
   "metadata": {
    "slideshow": {
     "slide_type": "-"
    }
   },
   "outputs": [
    {
     "name": "stdout",
     "output_type": "stream",
     "text": [
      "14\n"
     ]
    }
   ],
   "source": [
    "print(int('9') + 5)"
   ]
  },
  {
   "cell_type": "code",
   "execution_count": 30,
   "metadata": {
    "slideshow": {
     "slide_type": "subslide"
    }
   },
   "outputs": [
    {
     "name": "stdout",
     "output_type": "stream",
     "text": [
      "9.5\n",
      "<class 'float'>\n"
     ]
    }
   ],
   "source": [
    "print(float('9.5'))\n",
    "print(type(float('9.5')))"
   ]
  },
  {
   "cell_type": "code",
   "execution_count": 31,
   "metadata": {
    "slideshow": {
     "slide_type": "-"
    }
   },
   "outputs": [
    {
     "ename": "ValueError",
     "evalue": "invalid literal for int() with base 10: 'a'",
     "output_type": "error",
     "traceback": [
      "\u001b[0;31m---------------------------------------------------------------------------\u001b[0m",
      "\u001b[0;31mValueError\u001b[0m                                Traceback (most recent call last)",
      "\u001b[0;32m<ipython-input-31-233884bacd4e>\u001b[0m in \u001b[0;36m<module>\u001b[0;34m\u001b[0m\n\u001b[0;32m----> 1\u001b[0;31m \u001b[0mint\u001b[0m\u001b[0;34m(\u001b[0m\u001b[0;34m'a'\u001b[0m\u001b[0;34m)\u001b[0m\u001b[0;34m\u001b[0m\u001b[0;34m\u001b[0m\u001b[0m\n\u001b[0m",
      "\u001b[0;31mValueError\u001b[0m: invalid literal for int() with base 10: 'a'"
     ]
    }
   ],
   "source": [
    "int('a')"
   ]
  },
  {
   "cell_type": "markdown",
   "metadata": {
    "************New Notebook**********": "week_1/day_3_lists.ipynb",
    "slideshow": {
     "slide_type": "slide"
    }
   },
   "source": [
    "# Container Types - the 'words' of programing languages\n",
    "## Objectives\n",
    "- create lists and add elements in it\n",
    "- slice lists\n",
    "- modify lists\n",
    "- concatenate, sort, and replicate lists\n",
    "- better understand what str.split returns"
   ]
  },
  {
   "cell_type": "markdown",
   "metadata": {
    "slideshow": {
     "slide_type": "subslide"
    }
   },
   "source": [
    "- You never work with just variables.\n",
    "- Variables are collected into containers\n",
    "- Containers help to perform the same operation on an arbitrary number of variables easily\n",
    "- Your code uses a mix of variables and containers"
   ]
  },
  {
   "cell_type": "markdown",
   "metadata": {
    "slideshow": {
     "slide_type": "slide"
    }
   },
   "source": [
    "### <font color='LIGHTGRAY'>By the end of the day you'll be able to </font>\n",
    "- **create lists and add elements in it**\n",
    "- <font color='LIGHTGRAY'>slice lists</font>\n",
    "- <font color='LIGHTGRAY'>modify lists</font>\n",
    "- <font color='LIGHTGRAY'>concatenate, sort, and replicate lists</font>\n",
    "- <font color='LIGHTGRAY'>better understand what str.split returns</font>"
   ]
  },
  {
   "cell_type": "markdown",
   "metadata": {
    "slideshow": {
     "slide_type": "slide"
    }
   },
   "source": [
    "## The list Type\n",
    "- Can store arbitrary elements of any type\n",
    "- One of the most-often used objects in Python"
   ]
  },
  {
   "cell_type": "code",
   "execution_count": 32,
   "metadata": {
    "slideshow": {
     "slide_type": "-"
    }
   },
   "outputs": [
    {
     "name": "stdout",
     "output_type": "stream",
     "text": [
      "[]\n",
      "<class 'list'>\n",
      "True\n",
      "0\n"
     ]
    }
   ],
   "source": [
    "# create an empty list, follow the hungarian notation and end the container name with _lst\n",
    "foo_lst = []\n",
    "print(foo_lst)\n",
    "print(type(foo_lst))\n",
    "check_type_bool = type(foo_lst) == list\n",
    "print(check_type_bool)\n",
    "print(len(foo_lst)) # the length of the list, how many elements are in the list."
   ]
  },
  {
   "cell_type": "code",
   "execution_count": 33,
   "metadata": {
    "slideshow": {
     "slide_type": "subslide"
    }
   },
   "outputs": [
    {
     "name": "stdout",
     "output_type": "stream",
     "text": [
      "['milk', 'bread', 'apples', 'eggs']\n",
      "4\n"
     ]
    }
   ],
   "source": [
    "groceries_lst = [\"milk\", \"bread\", \"apples\", \"eggs\"]\n",
    "print(groceries_lst)\n",
    "print(len(groceries_lst))"
   ]
  },
  {
   "cell_type": "code",
   "execution_count": 34,
   "metadata": {
    "slideshow": {
     "slide_type": "subslide"
    }
   },
   "outputs": [
    {
     "name": "stdout",
     "output_type": "stream",
     "text": [
      "[2, 3, 5, 7, 11, 13, 17, 19, 23, 29]\n",
      "10\n"
     ]
    }
   ],
   "source": [
    "prime_nums_lst = [2, 3, 5, 7, 11, 13, 17, 19, 23, 29]\n",
    "print(prime_nums_lst)\n",
    "print(len(prime_nums_lst))"
   ]
  },
  {
   "cell_type": "code",
   "execution_count": 35,
   "metadata": {
    "slideshow": {
     "slide_type": "subslide"
    }
   },
   "outputs": [
    {
     "name": "stdout",
     "output_type": "stream",
     "text": [
      "['ashok', 9.9, 'providence', True]\n",
      "4\n"
     ]
    }
   ],
   "source": [
    "stats_lst = ['ashok', 9.9, 'providence', True]\n",
    "print(stats_lst)\n",
    "print(len(stats_lst))"
   ]
  },
  {
   "cell_type": "markdown",
   "metadata": {
    "slideshow": {
     "slide_type": "slide"
    }
   },
   "source": [
    "### <font color='LIGHTGRAY'>By the end of this session you'll be able to </font>\n",
    "- <font color='LIGHTGRAY'>create lists and add elements in it</font>\n",
    "- **slice lists**\n",
    "- <font color='LIGHTGRAY'>modify lists</font>\n",
    "- <font color='LIGHTGRAY'>concatenate, sort, and replicate lists</font>\n",
    "- <font color='LIGHTGRAY'>better understand what str.split returns</font>"
   ]
  },
  {
   "cell_type": "markdown",
   "metadata": {
    "slideshow": {
     "slide_type": "subslide"
    }
   },
   "source": [
    "## Indexing a list\n",
    "Behaves much like indexing a string"
   ]
  },
  {
   "cell_type": "code",
   "execution_count": 36,
   "metadata": {
    "slideshow": {
     "slide_type": "-"
    }
   },
   "outputs": [
    {
     "name": "stdout",
     "output_type": "stream",
     "text": [
      "[2, 3, 5, 7, 11, 13, 17, 19, 23, 29]\n",
      "10\n",
      "2\n",
      "3\n"
     ]
    }
   ],
   "source": [
    "print(prime_nums_lst)\n",
    "print(len(prime_nums_lst))     # get length of list\n",
    "print(prime_nums_lst[0])       # get first element\n",
    "print(prime_nums_lst[1])      # get second element"
   ]
  },
  {
   "cell_type": "markdown",
   "metadata": {
    "slideshow": {
     "slide_type": "subslide"
    }
   },
   "source": [
    "### Slicing\n",
    "\n",
    "Just as we can use square brackets to access individual list elements, we can also use them to access sublists with the slice notation, marked by the colon (:) character. \n",
    "\n",
    "`x[start:stop:step]`\n",
    "\n",
    "If any of these are unspecified, they default to the values: \n",
    "- `start=0`\n",
    "- `stop=size of dimension`\n",
    "- `step=1`"
   ]
  },
  {
   "cell_type": "code",
   "execution_count": 37,
   "metadata": {
    "slideshow": {
     "slide_type": "subslide"
    }
   },
   "outputs": [
    {
     "name": "stdout",
     "output_type": "stream",
     "text": [
      "[2, 5, 11, 17, 23]\n"
     ]
    }
   ],
   "source": [
    "#print(prime_nums_lst[0:3])     # get first three elements - you can delete the 0\n",
    "#print(prime_nums_lst[2:])      # get third element to end of list - you can add the step of 1\n",
    "#print(prime_nums_lst[::-1])    # reverse a list\n",
    "print(prime_nums_lst[::2])     # every other element"
   ]
  },
  {
   "cell_type": "markdown",
   "metadata": {
    "slideshow": {
     "slide_type": "subslide"
    }
   },
   "source": [
    "Lists can contain other lists! "
   ]
  },
  {
   "cell_type": "code",
   "execution_count": 38,
   "metadata": {
    "slideshow": {
     "slide_type": "-"
    }
   },
   "outputs": [
    {
     "name": "stdout",
     "output_type": "stream",
     "text": [
      "2\n",
      "['cat', 'bat']\n",
      "bat\n"
     ]
    }
   ],
   "source": [
    "a_pile_lst = [['cat', 'bat'], [10, 20, 30, 40, 50]]\n",
    "print(len(a_pile_lst))\n",
    "print(a_pile_lst[0])\n",
    "print(a_pile_lst[0][1])"
   ]
  },
  {
   "cell_type": "markdown",
   "metadata": {
    "slideshow": {
     "slide_type": "slide"
    }
   },
   "source": [
    "### <font color='LIGHTGRAY'>By the end of the day you'll be able to </font>\n",
    "- <font color='LIGHTGRAY'>create lists and add elements in it</font>\n",
    "- <font color='LIGHTGRAY'>slice lists</font>\n",
    "- **modify lists**\n",
    "- <font color='LIGHTGRAY'>concatenate, sort, and replicate lists</font>\n",
    "- <font color='LIGHTGRAY'>better understand what str.split returns</font>"
   ]
  },
  {
   "cell_type": "markdown",
   "metadata": {
    "slideshow": {
     "slide_type": "subslide"
    }
   },
   "source": [
    "### Modifying list Objects\n",
    "- List objects are mutable\n",
    "- We can add, remove, or change elements"
   ]
  },
  {
   "cell_type": "code",
   "execution_count": 39,
   "metadata": {
    "slideshow": {
     "slide_type": "-"
    }
   },
   "outputs": [],
   "source": [
    "names_lst = [\"john\", \"paul\", \"george\", \"ringo\"]"
   ]
  },
  {
   "cell_type": "code",
   "execution_count": 40,
   "metadata": {
    "slideshow": {
     "slide_type": "subslide"
    }
   },
   "outputs": [
    {
     "name": "stdout",
     "output_type": "stream",
     "text": [
      "['john', 'paul', 'george', 'ringo', 'yoko']\n"
     ]
    }
   ],
   "source": [
    "names_lst.append(\"yoko\")\n",
    "print(names_lst)"
   ]
  },
  {
   "cell_type": "code",
   "execution_count": 41,
   "metadata": {
    "slideshow": {
     "slide_type": "subslide"
    }
   },
   "outputs": [
    {
     "name": "stdout",
     "output_type": "stream",
     "text": [
      "['john', 'freddie', 'paul', 'george', 'ringo', 'yoko']\n"
     ]
    }
   ],
   "source": [
    "names_lst.insert(1, \"freddie\")\n",
    "print(names_lst)"
   ]
  },
  {
   "cell_type": "code",
   "execution_count": 42,
   "metadata": {
    "slideshow": {
     "slide_type": "subslide"
    }
   },
   "outputs": [
    {
     "name": "stdout",
     "output_type": "stream",
     "text": [
      "['john', 'freddie', 'paul', 'pete', 'ringo', 'yoko']\n"
     ]
    }
   ],
   "source": [
    "names_lst[3] = \"pete\"    # we can modify with assignment\n",
    "print(names_lst)"
   ]
  },
  {
   "cell_type": "code",
   "execution_count": 43,
   "metadata": {
    "slideshow": {
     "slide_type": "subslide"
    }
   },
   "outputs": [
    {
     "name": "stdout",
     "output_type": "stream",
     "text": [
      "['john', 'freddie', 'pete', 'ringo', 'yoko']\n"
     ]
    }
   ],
   "source": [
    "# remove element by value\n",
    "names_lst.remove(\"paul\")\n",
    "print(names_lst)"
   ]
  },
  {
   "cell_type": "code",
   "execution_count": 44,
   "metadata": {},
   "outputs": [
    {
     "name": "stdout",
     "output_type": "stream",
     "text": [
      "['john', 'freddie', 'pete', 'ringo', 'yoko']\n",
      "['freddie', 'ringo']\n"
     ]
    }
   ],
   "source": [
    "# you can also delete elements by index or slice\n",
    "print(names_lst)\n",
    "del names_lst[::2]\n",
    "\n",
    "print(names_lst)\n"
   ]
  },
  {
   "cell_type": "markdown",
   "metadata": {
    "slideshow": {
     "slide_type": "slide"
    }
   },
   "source": [
    "### <font color='LIGHTGRAY'>By the end of the day you'll be able to </font>\n",
    "- <font color='LIGHTGRAY'>create lists and add elements in it</font>\n",
    "- <font color='LIGHTGRAY'>slice lists</font>\n",
    "- <font color='LIGHTGRAY'>modify lists</font>\n",
    "- **concatenate, sort, and replicate lists**\n",
    "- <font color='LIGHTGRAY'>better understand what str.split returns</font>"
   ]
  },
  {
   "cell_type": "markdown",
   "metadata": {
    "slideshow": {
     "slide_type": "subslide"
    }
   },
   "source": [
    "### List Concatenation and Replication\n",
    "\n",
    "The `+` operator can combine two lists to create a new list value in the same way it combines two strings into a new string value. The `*` operator can also be used with a list and an integer value to replicate the list."
   ]
  },
  {
   "cell_type": "code",
   "execution_count": 45,
   "metadata": {
    "slideshow": {
     "slide_type": "-"
    }
   },
   "outputs": [
    {
     "name": "stdout",
     "output_type": "stream",
     "text": [
      "[1, 2, 3, 'A', 'B', 'C']\n",
      "[1, 2, 3, 1, 2, 3, 1, 2, 3, 1, 2, 3, 1, 2, 3]\n"
     ]
    }
   ],
   "source": [
    "print([1, 2, 3] + ['A', 'B', 'C'])\n",
    "print([1, 2, 3] * 5)"
   ]
  },
  {
   "cell_type": "markdown",
   "metadata": {
    "slideshow": {
     "slide_type": "subslide"
    }
   },
   "source": [
    "### List Containment - back to boolean variables"
   ]
  },
  {
   "cell_type": "code",
   "execution_count": 46,
   "metadata": {
    "slideshow": {
     "slide_type": "-"
    }
   },
   "outputs": [
    {
     "name": "stdout",
     "output_type": "stream",
     "text": [
      "['freddie', 'ringo']\n",
      "False\n"
     ]
    }
   ],
   "source": [
    "print(names_lst)\n",
    "print(\"pete\" in names_lst)"
   ]
  },
  {
   "cell_type": "code",
   "execution_count": 47,
   "metadata": {
    "slideshow": {
     "slide_type": "subslide"
    }
   },
   "outputs": [
    {
     "name": "stdout",
     "output_type": "stream",
     "text": [
      "False\n"
     ]
    }
   ],
   "source": [
    "print(9 in [5, 4, 3])"
   ]
  },
  {
   "cell_type": "markdown",
   "metadata": {
    "slideshow": {
     "slide_type": "subslide"
    }
   },
   "source": [
    "### Sorting Lists\n",
    "\n",
    "Lists of number values or lists of strings can be sorted with the sort() method."
   ]
  },
  {
   "cell_type": "code",
   "execution_count": 48,
   "metadata": {
    "slideshow": {
     "slide_type": "-"
    }
   },
   "outputs": [
    {
     "name": "stdout",
     "output_type": "stream",
     "text": [
      "[-7, 1, 2, 3.14, 5]\n"
     ]
    }
   ],
   "source": [
    "spam_lst = [2, 5, 3.14, 1, -7]\n",
    "spam_lst.sort() # .sort is applied on the list directly, the list is updated without value assignment\n",
    "print(spam_lst)"
   ]
  },
  {
   "cell_type": "code",
   "execution_count": 49,
   "metadata": {
    "slideshow": {
     "slide_type": "subslide"
    }
   },
   "outputs": [
    {
     "name": "stdout",
     "output_type": "stream",
     "text": [
      "['ants', 'badgers', 'cats', 'dogs', 'elephants']\n",
      "['elephants', 'dogs', 'cats', 'badgers', 'ants']\n"
     ]
    }
   ],
   "source": [
    "spam_lst = ['ants', 'cats', 'dogs', 'badgers', 'elephants']\n",
    "spam_lst.sort()\n",
    "print(spam_lst)\n",
    "spam_lst.sort(reverse=True) # argument of a method\n",
    "print(spam_lst)"
   ]
  },
  {
   "cell_type": "markdown",
   "metadata": {
    "slideshow": {
     "slide_type": "subslide"
    }
   },
   "source": [
    "You cannot sort lists that have both number values and string values in them, since Python doesn’t know how to compare these values. Python will throw a TypeError error.\n"
   ]
  },
  {
   "cell_type": "code",
   "execution_count": 50,
   "metadata": {
    "slideshow": {
     "slide_type": "-"
    }
   },
   "outputs": [
    {
     "ename": "TypeError",
     "evalue": "'<' not supported between instances of 'str' and 'int'",
     "output_type": "error",
     "traceback": [
      "\u001b[0;31m---------------------------------------------------------------------------\u001b[0m",
      "\u001b[0;31mTypeError\u001b[0m                                 Traceback (most recent call last)",
      "\u001b[0;32m<ipython-input-50-65b2d6cb7ff1>\u001b[0m in \u001b[0;36m<module>\u001b[0;34m\u001b[0m\n\u001b[1;32m      1\u001b[0m \u001b[0mspam_lst\u001b[0m \u001b[0;34m=\u001b[0m \u001b[0;34m[\u001b[0m\u001b[0;36m1\u001b[0m\u001b[0;34m,\u001b[0m \u001b[0;36m3\u001b[0m\u001b[0;34m,\u001b[0m \u001b[0;36m2\u001b[0m\u001b[0;34m,\u001b[0m \u001b[0;36m4\u001b[0m\u001b[0;34m,\u001b[0m \u001b[0;34m'dua'\u001b[0m\u001b[0;34m,\u001b[0m \u001b[0;34m'lipa'\u001b[0m\u001b[0;34m]\u001b[0m\u001b[0;34m\u001b[0m\u001b[0;34m\u001b[0m\u001b[0m\n\u001b[0;32m----> 2\u001b[0;31m \u001b[0mspam_lst\u001b[0m\u001b[0;34m.\u001b[0m\u001b[0msort\u001b[0m\u001b[0;34m(\u001b[0m\u001b[0;34m)\u001b[0m\u001b[0;34m\u001b[0m\u001b[0;34m\u001b[0m\u001b[0m\n\u001b[0m\u001b[1;32m      3\u001b[0m \u001b[0mprint\u001b[0m\u001b[0;34m(\u001b[0m\u001b[0mspam_lst\u001b[0m\u001b[0;34m)\u001b[0m\u001b[0;34m\u001b[0m\u001b[0;34m\u001b[0m\u001b[0m\n",
      "\u001b[0;31mTypeError\u001b[0m: '<' not supported between instances of 'str' and 'int'"
     ]
    }
   ],
   "source": [
    "spam_lst = [1, 3, 2, 4, 'dua', 'lipa']\n",
    "spam_lst.sort()\n",
    "print(spam_lst)"
   ]
  },
  {
   "cell_type": "markdown",
   "metadata": {
    "slideshow": {
     "slide_type": "subslide"
    }
   },
   "source": [
    "`sort()` uses “ASCIIbetical order” rather than actual alphabetical order for sorting strings. This means uppercase letters come before lowercase letters. Therefore, the lowercase a is sorted so that it comes after the uppercase Z. "
   ]
  },
  {
   "cell_type": "code",
   "execution_count": 51,
   "metadata": {
    "slideshow": {
     "slide_type": "-"
    }
   },
   "outputs": [
    {
     "name": "stdout",
     "output_type": "stream",
     "text": [
      "['A', 'Z', 'a', 'z']\n"
     ]
    }
   ],
   "source": [
    "spam_lst = ['z', 'a', 'A', 'Z']\n",
    "spam_lst.sort()\n",
    "print(spam_lst)"
   ]
  },
  {
   "cell_type": "markdown",
   "metadata": {
    "slideshow": {
     "slide_type": "subslide"
    }
   },
   "source": [
    "If you need to sort the values in regular alphabetical order, pass `str.lower` for the `key` keyword argument in the `sort()` method call. This causes the `sort()` method to treat all the items in the list as if they were lowercase without actually changing the values in the list."
   ]
  },
  {
   "cell_type": "code",
   "execution_count": 52,
   "metadata": {
    "slideshow": {
     "slide_type": "-"
    }
   },
   "outputs": [
    {
     "name": "stdout",
     "output_type": "stream",
     "text": [
      "['a', 'A', 'z', 'Z']\n"
     ]
    }
   ],
   "source": [
    "spam_lst = ['z', 'a', 'A', 'Z']\n",
    "spam_lst.sort(key=str.lower)\n",
    "print(spam_lst)"
   ]
  },
  {
   "cell_type": "markdown",
   "metadata": {
    "slideshow": {
     "slide_type": "slide"
    }
   },
   "source": [
    "### <font color='LIGHTGRAY'>By the end of the day you'll be able to </font>\n",
    "- <font color='LIGHTGRAY'>create lists and add elements in it</font>\n",
    "- <font color='LIGHTGRAY'>slice lists</font>\n",
    "- <font color='LIGHTGRAY'>modify lists</font>\n",
    "- <font color='LIGHTGRAY'>concatenate, sort, and replicate lists</font>\n",
    "- **better understand what str.split returns**"
   ]
  },
  {
   "cell_type": "markdown",
   "metadata": {
    "slideshow": {
     "slide_type": "subslide"
    }
   },
   "source": [
    "### Going back to strings and .split()"
   ]
  },
  {
   "cell_type": "code",
   "execution_count": 53,
   "metadata": {
    "slideshow": {
     "slide_type": "-"
    }
   },
   "outputs": [
    {
     "name": "stdout",
     "output_type": "stream",
     "text": [
      "True\n",
      "['There w', 's no possibility of t', 'king ', ' w', 'lk th', 't d', 'y.']\n"
     ]
    }
   ],
   "source": [
    "sentence_str = \"There was no possibility of taking a walk that day.\"\n",
    "words_lst = sentence_str.split('a') # .split returns a list! We glossed over this yesterday.\n",
    "print(type(words_lst) == list)\n",
    "print(words_lst)"
   ]
  },
  {
   "cell_type": "markdown",
   "metadata": {
    "slideshow": {
     "slide_type": "subslide"
    }
   },
   "source": [
    "# <center>What we learned so far... </center>\n",
    "- What is a container\n",
    "- What is a list\n",
    "- How to index and slice lists\n",
    "- Strings are a special type of list"
   ]
  },
  {
   "cell_type": "markdown",
   "metadata": {
    "slideshow": {
     "slide_type": "subslide"
    }
   },
   "source": [
    "# <center> Dictionaries </center>\n",
    "## Objectives\n",
    "- Describe dictionaries and why they are useful\n",
    "- Creating dictionaries\n",
    "- Adding entries to a dictionary\n",
    "- Accessing, updating, removing key/values from a dictionary\n",
    "- Dictionary methods\n",
    "- Casting between lists and dictionaries"
   ]
  },
  {
   "cell_type": "markdown",
   "metadata": {
    "slideshow": {
     "slide_type": "slide"
    }
   },
   "source": [
    "- Describe dictionaries and why they are useful\n",
    "- <font color='LIGHTGRAY'>Creating dictionaries </font>\n",
    "- <font color='LIGHTGRAY'>Adding entries to a dictionary </font>\n",
    "- <font color='LIGHTGRAY'>Accessing, updating, removing key/values from a dictionary </font>\n",
    "- <font color='LIGHTGRAY'>Dictionary methods </font>\n",
    "- <font color='LIGHTGRAY'>Casting between lists and dictionaries </font>"
   ]
  },
  {
   "cell_type": "markdown",
   "metadata": {
    "slideshow": {
     "slide_type": "subslide"
    }
   },
   "source": [
    "# <center> The `dict` container type </center>\n",
    "* Fast lookup table with keys and values\n",
    "* Similar and different from `list`\n",
    "    * Unlike lists, which are indexed by a range of numbers, dictionaries are indexed by keys\n",
    "        * keys can be any type (int, flt, str, bool, dict, list, etc.)\n",
    "    * Like lists, can store mixed types"
   ]
  },
  {
   "cell_type": "markdown",
   "metadata": {
    "slideshow": {
     "slide_type": "slide"
    }
   },
   "source": [
    "- <font color='LIGHTGRAY'>Describe dictionaries and why they are useful </font>\n",
    "- Creating dictionaries\n",
    "- <font color='LIGHTGRAY'>Adding entries to a dictionary </font>\n",
    "- <font color='LIGHTGRAY'>Accessing, updating, removing key/values from a dictionary </font>\n",
    "- <font color='LIGHTGRAY'>Dictionary methods </font>\n",
    "- <font color='LIGHTGRAY'>Casting between lists and dictionaries </font>"
   ]
  },
  {
   "cell_type": "markdown",
   "metadata": {
    "slideshow": {
     "slide_type": "subslide"
    }
   },
   "source": [
    "## Defining a dict, one key value pair at a time"
   ]
  },
  {
   "cell_type": "code",
   "execution_count": 9,
   "metadata": {
    "slideshow": {
     "slide_type": "-"
    }
   },
   "outputs": [
    {
     "name": "stdout",
     "output_type": "stream",
     "text": [
      "{}\n",
      "<class 'dict'>\n",
      "0\n"
     ]
    }
   ],
   "source": [
    "# create an empty dictionary\n",
    "phone_nums_dict = {}\n",
    "print(phone_nums_dict)\n",
    "print(type(phone_nums_dict))\n",
    "print(len(phone_nums_dict))"
   ]
  },
  {
   "cell_type": "code",
   "execution_count": 10,
   "metadata": {
    "slideshow": {
     "slide_type": "-"
    }
   },
   "outputs": [
    {
     "name": "stdout",
     "output_type": "stream",
     "text": [
      "{'zsom': '555-666-777'}\n",
      "1\n"
     ]
    }
   ],
   "source": [
    "phone_nums_dict[\"zsom\"] = \"555-666-777\"\n",
    "print(phone_nums_dict)\n",
    "print(len(phone_nums_dict))"
   ]
  },
  {
   "cell_type": "code",
   "execution_count": 11,
   "metadata": {
    "slideshow": {
     "slide_type": "-"
    }
   },
   "outputs": [
    {
     "name": "stdout",
     "output_type": "stream",
     "text": [
      "{'zsom': '555-666-777', 'lee': '555-444-333'}\n"
     ]
    }
   ],
   "source": [
    "phone_nums_dict[\"lee\"] = \"555-444-333\"\n",
    "print(phone_nums_dict)"
   ]
  },
  {
   "cell_type": "markdown",
   "metadata": {
    "slideshow": {
     "slide_type": "subslide"
    }
   },
   "source": [
    "## Exercise: add key=\"smith\" and value=\"307-821-7788\" to the `phone_nums_dict`"
   ]
  },
  {
   "cell_type": "code",
   "execution_count": 2,
   "metadata": {
    "slideshow": {
     "slide_type": "-"
    }
   },
   "outputs": [
    {
     "data": {
      "text/html": [
       "\n",
       "    \n",
       "    \n",
       "        <p>0 of 1 tests passed</p>\n",
       "        \n",
       "        \n",
       "        <p> <strong>Tests failed: </strong>\n",
       "            <ul>\n",
       "            \n",
       "                <li> \n",
       "    <p><strong style='color: red;'>tests/lec4_p1.py</strong></p>\n",
       "\n",
       "    <p><strong>Test code:</strong><pre><div class=\"highlight\" style=\"background: #f8f8f8\"><pre style=\"line-height: 125%\"><span></span><span style=\"color: #000080; font-weight: bold\">&gt;&gt;&gt; </span><span style=\"color: #408080; font-style: italic\"># It looks like &#39;smith&#39; is not a key in phone_nums_dict</span>\n",
       "<span style=\"color: #000080; font-weight: bold\">&gt;&gt;&gt; </span><span style=\"color: #BA2121\">&#39;smith&#39;</span> <span style=\"color: #AA22FF; font-weight: bold\">in</span> phone_nums_dict\n",
       "<span style=\"color: #888888\">True</span>\n",
       "</pre></div>\n",
       "</pre></p>\n",
       "\n",
       "    <p><strong>Test result:</strong><pre>Trying:\n",
       "    'smith' in phone_nums_dict\n",
       "Expecting:\n",
       "    True\n",
       "**********************************************************************\n",
       "Line 3, in tests/lec4_p1.py 0\n",
       "Failed example:\n",
       "    'smith' in phone_nums_dict\n",
       "Exception raised:\n",
       "    Traceback (most recent call last):\n",
       "      File \"/Users/aguang/miniconda3/lib/python3.6/doctest.py\", line 1330, in __run\n",
       "        compileflags, 1), test.globs)\n",
       "      File \"<doctest tests/lec4_p1.py 0[0]>\", line 1, in <module>\n",
       "        'smith' in phone_nums_dict\n",
       "    NameError: name 'phone_nums_dict' is not defined\n",
       "</pre></p>\n",
       "     </li>\n",
       "            \n",
       "            </ul>\n",
       "        \n",
       "    \n",
       "    "
      ],
      "text/plain": [
       "<gofer.ok.OKTestsResult at 0x1056263c8>"
      ]
     },
     "execution_count": 2,
     "metadata": {},
     "output_type": "execute_result"
    }
   ],
   "source": [
    "#pip install git+https://github.com/grading/gradememaybe.git\n",
    "from gofer.ok import check\n",
    "# write your code below this line\n",
    "\n",
    "\n",
    "# write your code above this line\n",
    "check('tests/lec4_p1.py')"
   ]
  },
  {
   "cell_type": "markdown",
   "metadata": {
    "slideshow": {
     "slide_type": "subslide"
    }
   },
   "source": [
    "## Defining a dict with all key value pairs at once"
   ]
  },
  {
   "cell_type": "code",
   "execution_count": 3,
   "metadata": {
    "slideshow": {
     "slide_type": "fragment"
    }
   },
   "outputs": [
    {
     "name": "stdout",
     "output_type": "stream",
     "text": [
      "{'BOS': 'Boston', 'NYC': 'New York City', 'LAX': 'Los Angeles'}\n"
     ]
    }
   ],
   "source": [
    "cities_dict = {'BOS': 'Boston',\n",
    "          'NYC': 'New York City',\n",
    "          'LAX': 'Los Angeles'}\n",
    "print(cities_dict)"
   ]
  },
  {
   "cell_type": "code",
   "execution_count": 4,
   "metadata": {
    "slideshow": {
     "slide_type": "fragment"
    }
   },
   "outputs": [
    {
     "name": "stdout",
     "output_type": "stream",
     "text": [
      "{'Ashley': 1990, 'Jenny': 1990}\n"
     ]
    }
   ],
   "source": [
    "birth_year_dict = dict(Ashley=1990, Jenny=1990)\n",
    "print(birth_year_dict) "
   ]
  },
  {
   "cell_type": "code",
   "execution_count": 5,
   "metadata": {
    "slideshow": {
     "slide_type": "subslide"
    }
   },
   "outputs": [
    {
     "name": "stdout",
     "output_type": "stream",
     "text": [
      "{'Ashley': 'McLean', 'Jenny': 'Reston'}\n"
     ]
    }
   ],
   "source": [
    "hometown_dict = dict([('Ashley', 'McLean'), ('Jenny', 'Reston')])\n",
    "print(hometown_dict)"
   ]
  },
  {
   "cell_type": "code",
   "execution_count": 6,
   "metadata": {
    "slideshow": {
     "slide_type": "fragment"
    }
   },
   "outputs": [
    {
     "name": "stdout",
     "output_type": "stream",
     "text": [
      "{'Ashley': 30, 'Jenny': 29}\n"
     ]
    }
   ],
   "source": [
    "age_dict = dict([('Ashley', 30), ('Jenny', 29)])\n",
    "print(age_dict)"
   ]
  },
  {
   "cell_type": "markdown",
   "metadata": {
    "slideshow": {
     "slide_type": "slide"
    }
   },
   "source": [
    "- <font color='LIGHTGRAY'>Describe dictionaries and why they are useful </font>\n",
    "- <font color='LIGHTGRAY'>Creating dictionaries </font>\n",
    "- Adding entries to a dictionary\n",
    "- <font color='LIGHTGRAY'>Accessing, updating, removing key/values from a dictionary </font>\n",
    "- <font color='LIGHTGRAY'>Dictionary methods </font>\n",
    "- <font color='LIGHTGRAY'>Casting between lists and dictionaries </font>"
   ]
  },
  {
   "cell_type": "markdown",
   "metadata": {
    "slideshow": {
     "slide_type": "subslide"
    }
   },
   "source": [
    "## Adding Entries of Arbitrary Type"
   ]
  },
  {
   "cell_type": "code",
   "execution_count": 12,
   "metadata": {
    "slideshow": {
     "slide_type": "-"
    }
   },
   "outputs": [
    {
     "name": "stdout",
     "output_type": "stream",
     "text": [
      "{'zsom': '555-666-777', 'lee': '555-444-333'}\n"
     ]
    }
   ],
   "source": [
    "print(phone_nums_dict)"
   ]
  },
  {
   "cell_type": "code",
   "execution_count": 13,
   "metadata": {
    "slideshow": {
     "slide_type": "-"
    }
   },
   "outputs": [
    {
     "name": "stdout",
     "output_type": "stream",
     "text": [
      "{'zsom': '555-666-777', 'lee': '555-444-333', 16: 'abc'}\n"
     ]
    }
   ],
   "source": [
    "phone_nums_dict[16] = 'abc'\n",
    "print(phone_nums_dict)"
   ]
  },
  {
   "cell_type": "code",
   "execution_count": 14,
   "metadata": {
    "slideshow": {
     "slide_type": "subslide"
    }
   },
   "outputs": [
    {
     "ename": "KeyError",
     "evalue": "0",
     "output_type": "error",
     "traceback": [
      "\u001b[0;31m---------------------------------------------------------------------------\u001b[0m",
      "\u001b[0;31mKeyError\u001b[0m                                  Traceback (most recent call last)",
      "\u001b[0;32m<ipython-input-14-fc4b46bf9c34>\u001b[0m in \u001b[0;36m<module>\u001b[0;34m\u001b[0m\n\u001b[0;32m----> 1\u001b[0;31m \u001b[0mprint\u001b[0m\u001b[0;34m(\u001b[0m\u001b[0mphone_nums_dict\u001b[0m\u001b[0;34m[\u001b[0m\u001b[0;36m0\u001b[0m\u001b[0;34m]\u001b[0m\u001b[0;34m)\u001b[0m \u001b[0;31m# this will throw an error\u001b[0m\u001b[0;34m\u001b[0m\u001b[0;34m\u001b[0m\u001b[0m\n\u001b[0m",
      "\u001b[0;31mKeyError\u001b[0m: 0"
     ]
    }
   ],
   "source": [
    "print(phone_nums_dict[0]) # this will throw an error"
   ]
  },
  {
   "cell_type": "code",
   "execution_count": 15,
   "metadata": {
    "slideshow": {
     "slide_type": "-"
    }
   },
   "outputs": [
    {
     "name": "stdout",
     "output_type": "stream",
     "text": [
      "abc\n"
     ]
    }
   ],
   "source": [
    " print(phone_nums_dict[16]) # this will not throw an error"
   ]
  },
  {
   "cell_type": "code",
   "execution_count": 16,
   "metadata": {
    "slideshow": {
     "slide_type": "subslide"
    }
   },
   "outputs": [
    {
     "name": "stdout",
     "output_type": "stream",
     "text": [
      "{'zsom': '555-666-777', 'lee': '555-444-333', 16: 'abc', 'gomez': ['999-999-9999', '1-800-666-6666']}\n"
     ]
    }
   ],
   "source": [
    "phone_nums_dict['gomez'] = ['999-999-9999', '1-800-666-6666']\n",
    "print(phone_nums_dict)"
   ]
  },
  {
   "cell_type": "code",
   "execution_count": 17,
   "metadata": {
    "slideshow": {
     "slide_type": "-"
    }
   },
   "outputs": [
    {
     "name": "stdout",
     "output_type": "stream",
     "text": [
      "1-800-666-6666\n"
     ]
    }
   ],
   "source": [
    "print(phone_nums_dict['gomez'][1])"
   ]
  },
  {
   "cell_type": "markdown",
   "metadata": {
    "slideshow": {
     "slide_type": "slide"
    }
   },
   "source": [
    "- <font color='LIGHTGRAY'>Describe dictionaries and why they are useful </font>\n",
    "- <font color='LIGHTGRAY'>Creating dictionaries </font>\n",
    "- <font color='LIGHTGRAY'>Adding entries to a dictionary </font>\n",
    "- Accessing, updating, removing key/values from a dictionary\n",
    "- <font color='LIGHTGRAY'>Dictionary methods </font>\n",
    "- <font color='LIGHTGRAY'>Casting between lists and dictionaries </font>"
   ]
  },
  {
   "cell_type": "markdown",
   "metadata": {
    "slideshow": {
     "slide_type": "subslide"
    }
   },
   "source": [
    "## Accessing a value in a dictionary"
   ]
  },
  {
   "cell_type": "code",
   "execution_count": 18,
   "metadata": {
    "slideshow": {
     "slide_type": "-"
    }
   },
   "outputs": [
    {
     "name": "stdout",
     "output_type": "stream",
     "text": [
      "555-666-777\n"
     ]
    }
   ],
   "source": [
    "print(phone_nums_dict[\"zsom\"])"
   ]
  },
  {
   "cell_type": "code",
   "execution_count": 19,
   "metadata": {
    "slideshow": {
     "slide_type": "-"
    }
   },
   "outputs": [
    {
     "ename": "KeyError",
     "evalue": "'jones'",
     "output_type": "error",
     "traceback": [
      "\u001b[0;31m---------------------------------------------------------------------------\u001b[0m",
      "\u001b[0;31mKeyError\u001b[0m                                  Traceback (most recent call last)",
      "\u001b[0;32m<ipython-input-19-fcd66342373a>\u001b[0m in \u001b[0;36m<module>\u001b[0;34m\u001b[0m\n\u001b[0;32m----> 1\u001b[0;31m \u001b[0mprint\u001b[0m\u001b[0;34m(\u001b[0m\u001b[0mphone_nums_dict\u001b[0m\u001b[0;34m[\u001b[0m\u001b[0;34m\"jones\"\u001b[0m\u001b[0;34m]\u001b[0m\u001b[0;34m)\u001b[0m\u001b[0;34m\u001b[0m\u001b[0;34m\u001b[0m\u001b[0m\n\u001b[0m",
      "\u001b[0;31mKeyError\u001b[0m: 'jones'"
     ]
    }
   ],
   "source": [
    "print(phone_nums_dict[\"jones\"])"
   ]
  },
  {
   "cell_type": "markdown",
   "metadata": {
    "slideshow": {
     "slide_type": "subslide"
    }
   },
   "source": [
    "## Updating a value in a dictionary"
   ]
  },
  {
   "cell_type": "code",
   "execution_count": 20,
   "metadata": {
    "slideshow": {
     "slide_type": "-"
    }
   },
   "outputs": [
    {
     "name": "stdout",
     "output_type": "stream",
     "text": [
      "{'zsom': '555-666-777', 'lee': '555-444-333', 16: 'abc', 'gomez': ['999-999-9999', '1-800-666-6666']}\n",
      "{'zsom': '555-666-777', 'lee': '666-666-6666', 16: 'abc', 'gomez': ['999-999-9999', '1-800-666-6666']}\n"
     ]
    }
   ],
   "source": [
    "print(phone_nums_dict)\n",
    "phone_nums_dict[\"lee\"] = '666-666-6666'\n",
    "print(phone_nums_dict)"
   ]
  },
  {
   "cell_type": "code",
   "execution_count": 21,
   "metadata": {
    "slideshow": {
     "slide_type": "-"
    }
   },
   "outputs": [
    {
     "name": "stdout",
     "output_type": "stream",
     "text": [
      "{'BOS': 'Providence', 'NYC': 'New York City', 'LAX': 'Los Angeles'}\n"
     ]
    }
   ],
   "source": [
    "# if you specify a key twice when constructing a dictionary, the second key will override the first\n",
    "cities_dict = {'BOS': 'Boston',\n",
    "              'NYC': 'New York City',\n",
    "              'LAX': 'Los Angeles',\n",
    "              'BOS': 'Providence'}\n",
    "print(cities_dict)"
   ]
  },
  {
   "cell_type": "markdown",
   "metadata": {
    "slideshow": {
     "slide_type": "subslide"
    }
   },
   "source": [
    "## Removing entries from a dictionary"
   ]
  },
  {
   "cell_type": "code",
   "execution_count": 22,
   "metadata": {
    "slideshow": {
     "slide_type": "-"
    }
   },
   "outputs": [
    {
     "name": "stdout",
     "output_type": "stream",
     "text": [
      "{'zsom': '555-666-777', 'lee': '666-666-6666', 16: 'abc', 'gomez': ['999-999-9999', '1-800-666-6666']}\n"
     ]
    },
    {
     "ename": "KeyError",
     "evalue": "'smith'",
     "output_type": "error",
     "traceback": [
      "\u001b[0;31m---------------------------------------------------------------------------\u001b[0m",
      "\u001b[0;31mKeyError\u001b[0m                                  Traceback (most recent call last)",
      "\u001b[0;32m<ipython-input-22-a48c148cf5ea>\u001b[0m in \u001b[0;36m<module>\u001b[0;34m\u001b[0m\n\u001b[1;32m      1\u001b[0m \u001b[0mprint\u001b[0m\u001b[0;34m(\u001b[0m\u001b[0mphone_nums_dict\u001b[0m\u001b[0;34m)\u001b[0m\u001b[0;34m\u001b[0m\u001b[0;34m\u001b[0m\u001b[0m\n\u001b[0;32m----> 2\u001b[0;31m \u001b[0;32mdel\u001b[0m \u001b[0mphone_nums_dict\u001b[0m\u001b[0;34m[\u001b[0m\u001b[0;34m'smith'\u001b[0m\u001b[0;34m]\u001b[0m\u001b[0;34m\u001b[0m\u001b[0;34m\u001b[0m\u001b[0m\n\u001b[0m\u001b[1;32m      3\u001b[0m \u001b[0mprint\u001b[0m\u001b[0;34m(\u001b[0m\u001b[0mphone_nums_dict\u001b[0m\u001b[0;34m)\u001b[0m\u001b[0;34m\u001b[0m\u001b[0;34m\u001b[0m\u001b[0m\n",
      "\u001b[0;31mKeyError\u001b[0m: 'smith'"
     ]
    }
   ],
   "source": [
    "print(phone_nums_dict)\n",
    "del phone_nums_dict['smith']\n",
    "print(phone_nums_dict)"
   ]
  },
  {
   "cell_type": "markdown",
   "metadata": {
    "slideshow": {
     "slide_type": "subslide"
    }
   },
   "source": [
    "## Checking if a key is in a dictionary"
   ]
  },
  {
   "cell_type": "code",
   "execution_count": 23,
   "metadata": {
    "slideshow": {
     "slide_type": "-"
    }
   },
   "outputs": [
    {
     "name": "stdout",
     "output_type": "stream",
     "text": [
      "True\n"
     ]
    }
   ],
   "source": [
    "check_bool = 'NYC' in cities_dict\n",
    "print(check_bool)"
   ]
  },
  {
   "cell_type": "code",
   "execution_count": 24,
   "metadata": {
    "slideshow": {
     "slide_type": "-"
    }
   },
   "outputs": [
    {
     "name": "stdout",
     "output_type": "stream",
     "text": [
      "False\n"
     ]
    }
   ],
   "source": [
    "check_bool = 'NYC' not in cities_dict\n",
    "print(check_bool)"
   ]
  },
  {
   "cell_type": "markdown",
   "metadata": {
    "slideshow": {
     "slide_type": "slide"
    }
   },
   "source": [
    "- <font color='LIGHTGRAY'>Describe dictionaries and why they are useful </font>\n",
    "- <font color='LIGHTGRAY'>Creating dictionaries </font>\n",
    "- <font color='LIGHTGRAY'>Adding entries to a dictionary </font>\n",
    "- <font color='LIGHTGRAY'>Accessing, updating, removing key/values from a dictionary </font>\n",
    "- Dictionary methods\n",
    "- <font color='LIGHTGRAY'>Casting between lists and dictionaries </font>"
   ]
  },
  {
   "cell_type": "markdown",
   "metadata": {
    "slideshow": {
     "slide_type": "subslide"
    }
   },
   "source": [
    "## Dictionary methods"
   ]
  },
  {
   "cell_type": "code",
   "execution_count": 25,
   "metadata": {
    "slideshow": {
     "slide_type": "-"
    }
   },
   "outputs": [
    {
     "name": "stdout",
     "output_type": "stream",
     "text": [
      "dict_keys(['BOS', 'NYC', 'LAX'])\n"
     ]
    }
   ],
   "source": [
    "print(cities_dict.keys())"
   ]
  },
  {
   "cell_type": "code",
   "execution_count": 26,
   "metadata": {
    "slideshow": {
     "slide_type": "-"
    }
   },
   "outputs": [
    {
     "name": "stdout",
     "output_type": "stream",
     "text": [
      "dict_values(['Providence', 'New York City', 'Los Angeles'])\n"
     ]
    }
   ],
   "source": [
    "print(cities_dict.values())"
   ]
  },
  {
   "cell_type": "code",
   "execution_count": 27,
   "metadata": {
    "slideshow": {
     "slide_type": "-"
    }
   },
   "outputs": [
    {
     "name": "stdout",
     "output_type": "stream",
     "text": [
      "dict_items([('BOS', 'Providence'), ('NYC', 'New York City'), ('LAX', 'Los Angeles')])\n"
     ]
    }
   ],
   "source": [
    "print(cities_dict.items())"
   ]
  },
  {
   "cell_type": "code",
   "execution_count": 28,
   "metadata": {
    "slideshow": {
     "slide_type": "subslide"
    }
   },
   "outputs": [
    {
     "name": "stdout",
     "output_type": "stream",
     "text": [
      "{'BOS': 'Providence', 'NYC': 'New York City', 'LAX': 'Los Angeles'}\n",
      "Los Angeles\n",
      "{'BOS': 'Providence', 'NYC': 'New York City'}\n"
     ]
    }
   ],
   "source": [
    "print(cities_dict)\n",
    "print(cities_dict.pop('LAX'))\n",
    "print(cities_dict)"
   ]
  },
  {
   "cell_type": "code",
   "execution_count": 29,
   "metadata": {
    "slideshow": {
     "slide_type": "subslide"
    }
   },
   "outputs": [
    {
     "name": "stdout",
     "output_type": "stream",
     "text": [
      "New York City\n",
      "None\n",
      "-1\n"
     ]
    }
   ],
   "source": [
    "print(cities_dict.get('NYC'))\n",
    "print(cities_dict.get('CHI'))\n",
    "print(cities_dict.get('CHI', -1))"
   ]
  },
  {
   "cell_type": "code",
   "execution_count": 30,
   "metadata": {
    "slideshow": {
     "slide_type": "subslide"
    }
   },
   "outputs": [
    {
     "name": "stdout",
     "output_type": "stream",
     "text": [
      "{'BOS': 'Providence', 'NYC': 'New York City'}\n",
      "{'BOS': 'Boston', 'NYC': 'New York City', 'PHL': 'Philadelphia', 'SF': 'San Francisco', 'ATL': 'Atlanta'}\n"
     ]
    }
   ],
   "source": [
    "print(cities_dict)\n",
    "another_cities_dict = {'PHL': 'Philadelphia',\n",
    "                       'SF': 'San Francisco',\n",
    "                       'ATL': 'Atlanta',\n",
    "                       'BOS': 'Boston'}\n",
    "cities_dict.update(another_cities_dict)\n",
    "print(cities_dict)"
   ]
  },
  {
   "cell_type": "code",
   "execution_count": 31,
   "metadata": {
    "slideshow": {
     "slide_type": "-"
    }
   },
   "outputs": [
    {
     "name": "stdout",
     "output_type": "stream",
     "text": [
      "{'BOS': 'Boston', 'NYC': 'New York City', 'PHL': 'Philadelphia', 'SF': 'San Francisco', 'ATL': 'Atlanta'}\n",
      "{'BOS': 'Boston', 'NYC': 'New York City', 'PHL': 'Philadelphia', 'SF': 'San Fran', 'ATL': 'Atlanta'}\n"
     ]
    }
   ],
   "source": [
    "print(cities_dict)\n",
    "cities_dict.update(SF='San Fran')\n",
    "print(cities_dict)"
   ]
  },
  {
   "cell_type": "code",
   "execution_count": 32,
   "metadata": {
    "slideshow": {
     "slide_type": "-"
    }
   },
   "outputs": [
    {
     "name": "stdout",
     "output_type": "stream",
     "text": [
      "{'BOS': 'Boston', 'NYC': 'New York City', 'PHL': 'Philadelphia', 'SF': 'San Fran', 'ATL': 'Atlanta'}\n",
      "{'BOS': 'Boston', 'NYC': 'New York City', 'PHL': 'Philadelphia', 'SF': 'San Francisco', 'ATL': 'Atlanta'}\n"
     ]
    }
   ],
   "source": [
    "print(cities_dict)\n",
    "cities_dict.update([('SF', 'San Francisco')])\n",
    "print(cities_dict)"
   ]
  },
  {
   "cell_type": "markdown",
   "metadata": {
    "slideshow": {
     "slide_type": "subslide"
    }
   },
   "source": [
    "# <center> Casting from one container type to another </center>"
   ]
  },
  {
   "cell_type": "code",
   "execution_count": 33,
   "metadata": {
    "slideshow": {
     "slide_type": "subslide"
    }
   },
   "outputs": [
    {
     "name": "stdout",
     "output_type": "stream",
     "text": [
      "{'NYC': 'new york', 'BOS': 'boston', 'LAX': 'los angeles', 'PHL': 'philadelphia', 'WAS': 'washington dc'}\n"
     ]
    }
   ],
   "source": [
    "# cast lists to dictionary\n",
    "codes = ['NYC', 'BOS', 'LAX', 'PHL', 'WAS']\n",
    "cities = ['new york', 'boston', 'los angeles', 'philadelphia', 'washington dc']\n",
    "\n",
    "d_dict = dict(zip(codes, cities))\n",
    "print(d_dict)"
   ]
  },
  {
   "cell_type": "code",
   "execution_count": 34,
   "metadata": {
    "slideshow": {
     "slide_type": "-"
    }
   },
   "outputs": [
    {
     "name": "stdout",
     "output_type": "stream",
     "text": [
      "{'NYC': 'chicago', 'BOS': 'new york', 'LAX': 'boston', 'PHL': 'los angeles', 'WAS': 'philadelphia'}\n"
     ]
    }
   ],
   "source": [
    "# WATCH OUT!!!\n",
    "codes = ['NYC', 'BOS', 'LAX', 'PHL', 'WAS']\n",
    "cities = ['chicago', 'new york', 'boston', 'los angeles', 'philadelphia', 'washington dc']\n",
    "\n",
    "d_dict = dict(zip(codes, cities))\n",
    "print(d_dict)"
   ]
  },
  {
   "cell_type": "code",
   "execution_count": 35,
   "metadata": {
    "slideshow": {
     "slide_type": "subslide"
    }
   },
   "outputs": [
    {
     "name": "stdout",
     "output_type": "stream",
     "text": [
      "['NYC', 'BOS', 'LAX', 'PHL', 'WAS']\n",
      "<class 'list'>\n",
      "['chicago', 'new york', 'boston', 'los angeles', 'philadelphia']\n",
      "<class 'list'>\n"
     ]
    }
   ],
   "source": [
    "keys_lst = list(d_dict.keys())\n",
    "values_lst = list(d_dict.values())\n",
    "\n",
    "print(keys_lst)\n",
    "print(type(keys_lst))\n",
    "print(values_lst)\n",
    "print(type(values_lst))"
   ]
  },
  {
   "cell_type": "markdown",
   "metadata": {
    "************New Notebook**********": "week_1/day_5_if_statements.ipynb",
    "slideshow": {
     "slide_type": "slide"
    }
   },
   "source": [
    "# Control flow - the 'grammar' of programing languages\n",
    "Today we cover if statements, on monday you'll learn about for loops\n",
    "\n",
    "### By the end of the day you'll be able to\n",
    "- create simple if statements\n",
    "- create if statements with multiple conditions\n",
    "- create a sequence of if-else statements"
   ]
  },
  {
   "cell_type": "markdown",
   "metadata": {
    "slideshow": {
     "slide_type": "slide"
    }
   },
   "source": [
    "# <center> Control flow </center>\n",
    "### Every code can be broken down to pieces like this:\n",
    "- **Instructions**: \"Do this; then do that.\"\n",
    "- **If statements**: \"If the condition is true, perform this action; otherwise, do that action.\"\n",
    "- **For loops**: \"Do this action that number of times.\"\n",
    "- **While loops**: \"Keep doing that until this condition is false.\"\n",
    "\n",
    "**The instructions operate on variables and containers.**\n",
    "\n",
    "### Programming is like playing with lego. "
   ]
  },
  {
   "cell_type": "markdown",
   "metadata": {
    "slideshow": {
     "slide_type": "slide"
    }
   },
   "source": [
    "### <font color='LIGHTGRAY'>By the end of the day you'll be able to</font>\n",
    "- **create simple if statements**\n",
    "- <font color='LIGHTGRAY'>create if statements with multiple conditions</font>\n",
    "- <font color='LIGHTGRAY'>create a sequence of if-else statements</font>"
   ]
  },
  {
   "cell_type": "code",
   "execution_count": 36,
   "metadata": {},
   "outputs": [
    {
     "ename": "IndentationError",
     "evalue": "expected an indented block (<ipython-input-36-cc7874eb0c6c>, line 4)",
     "output_type": "error",
     "traceback": [
      "\u001b[0;36m  File \u001b[0;32m\"<ipython-input-36-cc7874eb0c6c>\"\u001b[0;36m, line \u001b[0;32m4\u001b[0m\n\u001b[0;31m    else:\u001b[0m\n\u001b[0m       ^\u001b[0m\n\u001b[0;31mIndentationError\u001b[0m\u001b[0;31m:\u001b[0m expected an indented block\n"
     ]
    }
   ],
   "source": [
    "if condition(s):\n",
    "    # do something\n",
    "    # you must indent\n",
    "else:\n",
    "    # do something else\n",
    "    # you must indent this as well\n",
    "# instructions"
   ]
  },
  {
   "cell_type": "code",
   "execution_count": 37,
   "metadata": {
    "slideshow": {
     "slide_type": "subslide"
    }
   },
   "outputs": [
    {
     "name": "stdout",
     "output_type": "stream",
     "text": [
      "can vote\n"
     ]
    }
   ],
   "source": [
    "age_int = 100 # instruction: assign the integer value 18 to age_int\n",
    "\n",
    "if age_int > 17: # note that the condition is a boolean variable with a value true or false\n",
    "    print(\"can vote\") # what we print is a string variable\n",
    "else:\n",
    "    print(\"cannot vote\") # another string variable"
   ]
  },
  {
   "cell_type": "code",
   "execution_count": 38,
   "metadata": {
    "slideshow": {
     "slide_type": "subslide"
    }
   },
   "outputs": [
    {
     "name": "stdout",
     "output_type": "stream",
     "text": [
      "cannot vote\n"
     ]
    }
   ],
   "source": [
    "# four instructions: assign values to variables\n",
    "age_int = 17\n",
    "check_age_bool = age_int > 17\n",
    "var1_str = 'can vote'\n",
    "var2_str = 'cannot vote'\n",
    "\n",
    "# if-else statement\n",
    "if check_age_bool: \n",
    "    print(var1_str)\n",
    "else:\n",
    "    print(var2_str)\n",
    "    "
   ]
  },
  {
   "cell_type": "code",
   "execution_count": 39,
   "metadata": {
    "slideshow": {
     "slide_type": "subslide"
    }
   },
   "outputs": [
    {
     "name": "stdout",
     "output_type": "stream",
     "text": [
      "True\n",
      "this is outside of the if statement\n"
     ]
    }
   ],
   "source": [
    "# you can also change a variable's value in an if statement\n",
    "\n",
    "age_int = 19\n",
    "\n",
    "if age_int > 17: \n",
    "    can_vote_bool = True\n",
    "else:\n",
    "    can_vote_bool = False\n",
    "\n",
    "print(can_vote_bool)\n",
    "print('this is outside of the if statement')"
   ]
  },
  {
   "cell_type": "code",
   "execution_count": 40,
   "metadata": {
    "slideshow": {
     "slide_type": "subslide"
    }
   },
   "outputs": [
    {
     "name": "stdout",
     "output_type": "stream",
     "text": [
      "yes\n"
     ]
    }
   ],
   "source": [
    "# condition/boolean variable can check type, list length, anything really\n",
    "# and you can do anything inside the if and else parts too\n",
    "age_int = 99\n",
    "\n",
    "if type(age_int) == int:\n",
    "    variable_named_correctly_str = 'yes'\n",
    "else:\n",
    "    variable_named_correctly_str = 'no'\n",
    "    \n",
    "print(variable_named_correctly_str)"
   ]
  },
  {
   "cell_type": "markdown",
   "metadata": {
    "slideshow": {
     "slide_type": "slide"
    }
   },
   "source": [
    "### <font color='LIGHTGRAY'>By the end of the day you'll be able to</font>\n",
    "- <font color='LIGHTGRAY'>create simple if statements</font>\n",
    "- **create if statements with multiple conditions**\n",
    "- <font color='LIGHTGRAY'>create a sequence of if-else statements</font>"
   ]
  },
  {
   "cell_type": "code",
   "execution_count": 41,
   "metadata": {
    "slideshow": {
     "slide_type": "-"
    }
   },
   "outputs": [
    {
     "name": "stdout",
     "output_type": "stream",
     "text": [
      "can walk\n"
     ]
    }
   ],
   "source": [
    "# multiple conditions with *and*\n",
    "# all conditions need to be True\n",
    "\n",
    "age_int = 100\n",
    "\n",
    "if (age_int >= 2) and (age_int <= 100): # multiple conditions need to be in parentheses, these are boolean variables  \n",
    "    print(\"can walk\") # print a string\n",
    "else:\n",
    "    print(\"cannot walk\") # print another string"
   ]
  },
  {
   "cell_type": "code",
   "execution_count": 42,
   "metadata": {
    "slideshow": {
     "slide_type": "subslide"
    }
   },
   "outputs": [
    {
     "name": "stdout",
     "output_type": "stream",
     "text": [
      "cannot walk\n"
     ]
    }
   ],
   "source": [
    "# multiple conditions with *or*\n",
    "# it is enough if one condition is True\n",
    "\n",
    "age_int = 101\n",
    "\n",
    "if (age_int < 2) or (age_int > 100): # multiple conditions need to be in parentheses, these are boolean variables  \n",
    "    print(\"cannot walk\") # print a string\n",
    "else:\n",
    "    print(\"can walk\") # print another string"
   ]
  },
  {
   "cell_type": "code",
   "execution_count": 43,
   "metadata": {},
   "outputs": [
    {
     "name": "stdout",
     "output_type": "stream",
     "text": [
      "washington\n"
     ]
    }
   ],
   "source": [
    "cents_int = 25\n",
    "\n",
    "if cents_int == 25:\n",
    "    print(\"washington\")\n",
    "elif cents_int == 10:\n",
    "    print(\"roosevelt\")\n",
    "elif cents_int == 5:\n",
    "    print(\"jefferson\")\n",
    "elif cents_int == 1:\n",
    "    print(\"lincoln\")\n",
    "else:\n",
    "    print(\"not US coin\")"
   ]
  },
  {
   "cell_type": "markdown",
   "metadata": {
    "slideshow": {
     "slide_type": "slide"
    }
   },
   "source": [
    "# <center> What we learned so far...</center>\n",
    "- What are if statements useful for\n",
    "- How to write simple and multiple condition if statements"
   ]
  },
  {
   "cell_type": "markdown",
   "metadata": {
    "slideshow": {
     "slide_type": "slide"
    }
   },
   "source": [
    "# <center> `for` loops </center>\n",
    "## Objectives\n",
    "- write for loops to iterate over containers\n",
    "- write for loops to iterate a given number of times\n",
    "- updating containers in a for loop\n",
    "- write a list comprehension\n",
    "- write a dictionary comprehension"
   ]
  },
  {
   "cell_type": "markdown",
   "metadata": {
    "slideshow": {
     "slide_type": "slide"
    }
   },
   "source": [
    "- write for loops to iterate over containers\n",
    "- <font color='LIGHTGRAY'> write for loops to iterate a given number of times </font>\n",
    "- <font color='LIGHTGRAY'> updating containers in a for loop </font>\n",
    "- <font color='LIGHTGRAY'> write a list comprehension </font>\n",
    "- <font color='LIGHTGRAY'> write a dictionary comprehension </font>"
   ]
  },
  {
   "cell_type": "markdown",
   "metadata": {
    "slideshow": {
     "slide_type": "subslide"
    }
   },
   "source": [
    "## <center>For loop</center>\n",
    "```sequence_list = [item 1, item 2, item 3, item 4, item 5]\n",
    "for item in sequence_list:\n",
    "    do something with item\n",
    "    (do another thing with item)```"
   ]
  },
  {
   "cell_type": "code",
   "execution_count": 44,
   "metadata": {
    "slideshow": {
     "slide_type": "-"
    }
   },
   "outputs": [
    {
     "name": "stdout",
     "output_type": "stream",
     "text": [
      "1\n",
      "2\n",
      "3\n",
      "4\n",
      "5\n"
     ]
    }
   ],
   "source": [
    "num_list = [1,2,3,4,5]\n",
    "\n",
    "for item in num_list:\n",
    "    print(item)"
   ]
  },
  {
   "cell_type": "code",
   "execution_count": 45,
   "metadata": {
    "slideshow": {
     "slide_type": "subslide"
    }
   },
   "outputs": [
    {
     "name": "stdout",
     "output_type": "stream",
     "text": [
      "1\n",
      "10\n",
      "2\n",
      "20\n",
      "3\n",
      "30\n",
      "4\n",
      "40\n",
      "5\n",
      "50\n"
     ]
    }
   ],
   "source": [
    "for item in num_list:\n",
    "    print(item)\n",
    "    print(item * 10)"
   ]
  },
  {
   "cell_type": "code",
   "execution_count": 46,
   "metadata": {
    "slideshow": {
     "slide_type": "subslide"
    }
   },
   "outputs": [
    {
     "name": "stdout",
     "output_type": "stream",
     "text": [
      "a\n",
      "aZ\n",
      "s\n",
      "sZ\n",
      "h\n",
      "hZ\n",
      "l\n",
      "lZ\n",
      "e\n",
      "eZ\n",
      "y\n",
      "yZ\n"
     ]
    }
   ],
   "source": [
    "letters_list = ['a','s','h','l','e','y']\n",
    "for item in letters_list:\n",
    "    print(item)\n",
    "    new_item = item + 'Z'\n",
    "    print(new_item)"
   ]
  },
  {
   "cell_type": "markdown",
   "metadata": {
    "slideshow": {
     "slide_type": "subslide"
    }
   },
   "source": [
    "## Iterating over strings"
   ]
  },
  {
   "cell_type": "code",
   "execution_count": 47,
   "metadata": {
    "slideshow": {
     "slide_type": "-"
    }
   },
   "outputs": [
    {
     "name": "stdout",
     "output_type": "stream",
     "text": [
      "a\n",
      "s\n",
      "h\n",
      "l\n",
      "e\n",
      "y\n",
      " \n",
      "s\n",
      ".\n",
      " \n",
      "l\n",
      "e\n",
      "e\n"
     ]
    }
   ],
   "source": [
    "# iterate over characters in a string\n",
    "my_str = 'ashley s. lee'\n",
    "\n",
    "for char in my_str:\n",
    "    print(char)"
   ]
  },
  {
   "cell_type": "code",
   "execution_count": 48,
   "metadata": {
    "slideshow": {
     "slide_type": "subslide"
    }
   },
   "outputs": [
    {
     "name": "stdout",
     "output_type": "stream",
     "text": [
      "ashley\n",
      "s.\n",
      "lee\n"
     ]
    }
   ],
   "source": [
    "# iterate over words in a string (split by space)\n",
    "for word in my_str.split():\n",
    "    print(word)"
   ]
  },
  {
   "cell_type": "markdown",
   "metadata": {
    "slideshow": {
     "slide_type": "subslide"
    }
   },
   "source": [
    "## For loops that iterate over dictionaries"
   ]
  },
  {
   "cell_type": "code",
   "execution_count": 49,
   "metadata": {
    "slideshow": {
     "slide_type": "-"
    }
   },
   "outputs": [
    {
     "name": "stdout",
     "output_type": "stream",
     "text": [
      "{'Ashley': 1990, 'Rihanna': 1992, 'Emily': 1986}\n"
     ]
    }
   ],
   "source": [
    "birth_year_dict = dict(Ashley=1990, Rihanna=1992, Emily=1986)\n",
    "print(birth_year_dict)"
   ]
  },
  {
   "cell_type": "code",
   "execution_count": 50,
   "metadata": {
    "slideshow": {
     "slide_type": "-"
    }
   },
   "outputs": [
    {
     "name": "stdout",
     "output_type": "stream",
     "text": [
      "Ashley\n",
      "Rihanna\n",
      "Emily\n"
     ]
    }
   ],
   "source": [
    "for key in birth_year_dict.keys():\n",
    "    print(key)"
   ]
  },
  {
   "cell_type": "code",
   "execution_count": 51,
   "metadata": {
    "slideshow": {
     "slide_type": "subslide"
    }
   },
   "outputs": [
    {
     "name": "stdout",
     "output_type": "stream",
     "text": [
      "1990\n",
      "1992\n",
      "1986\n"
     ]
    }
   ],
   "source": [
    "for value in birth_year_dict.values():\n",
    "    print(value)"
   ]
  },
  {
   "cell_type": "code",
   "execution_count": 52,
   "metadata": {
    "slideshow": {
     "slide_type": "-"
    }
   },
   "outputs": [
    {
     "name": "stdout",
     "output_type": "stream",
     "text": [
      "Ashley 1990\n",
      "Rihanna 1992\n",
      "Emily 1986\n"
     ]
    }
   ],
   "source": [
    "for key, value in birth_year_dict.items():\n",
    "    print(key, value)"
   ]
  },
  {
   "cell_type": "code",
   "execution_count": 53,
   "metadata": {
    "slideshow": {
     "slide_type": "subslide"
    }
   },
   "outputs": [
    {
     "name": "stdout",
     "output_type": "stream",
     "text": [
      "{'Ashley': 1991, 'Rihanna': 1993, 'Emily': 1987}\n"
     ]
    }
   ],
   "source": [
    "for k, v in birth_year_dict.items():\n",
    "    birth_year_dict[k] = v + 1\n",
    "    \n",
    "print(birth_year_dict)\n",
    "# keys cannot be updated in this way"
   ]
  },
  {
   "cell_type": "markdown",
   "metadata": {
    "slideshow": {
     "slide_type": "slide"
    }
   },
   "source": [
    "- <font color='LIGHTGRAY'> write for loops to iterate over containers </font>\n",
    "- write for loops to iterate a given number of times\n",
    "- <font color='LIGHTGRAY'> updating containers in a for loop </font>\n",
    "- <font color='LIGHTGRAY'> write a list comprehension </font>\n",
    "- <font color='LIGHTGRAY'> write a dictionary comprehension </font>"
   ]
  },
  {
   "cell_type": "markdown",
   "metadata": {
    "slideshow": {
     "slide_type": "subslide"
    }
   },
   "source": [
    "## Iterating for a given number of times"
   ]
  },
  {
   "cell_type": "code",
   "execution_count": 54,
   "metadata": {
    "slideshow": {
     "slide_type": "-"
    }
   },
   "outputs": [
    {
     "name": "stdout",
     "output_type": "stream",
     "text": [
      "0\n",
      "1\n",
      "2\n",
      "3\n",
      "4\n",
      "5\n",
      "6\n",
      "7\n",
      "8\n",
      "9\n",
      "10\n",
      "11\n"
     ]
    }
   ],
   "source": [
    "for i in range(12):\n",
    "    print(i)"
   ]
  },
  {
   "cell_type": "code",
   "execution_count": 55,
   "metadata": {
    "slideshow": {
     "slide_type": "subslide"
    }
   },
   "outputs": [
    {
     "name": "stdout",
     "output_type": "stream",
     "text": [
      "0 a\n",
      "1 s\n",
      "2 h\n",
      "3 l\n",
      "4 e\n",
      "5 y\n",
      "6  \n",
      "7 s\n",
      "8 .\n",
      "9  \n",
      "10 l\n",
      "11 e\n",
      "12 e\n"
     ]
    }
   ],
   "source": [
    "for i in range(len(my_str)):\n",
    "    print(i, my_str[i])"
   ]
  },
  {
   "cell_type": "markdown",
   "metadata": {
    "slideshow": {
     "slide_type": "slide"
    }
   },
   "source": [
    "- <font color='LIGHTGRAY'> write for loops to iterate over containers </font>\n",
    "- <font color='LIGHTGRAY'> write for loops to iterate a given number of times </font>\n",
    "- updating containers in a for loop\n",
    "- <font color='LIGHTGRAY'> write a list comprehension </font>\n",
    "- <font color='LIGHTGRAY'> write a dictionary comprehension </font>"
   ]
  },
  {
   "cell_type": "markdown",
   "metadata": {
    "slideshow": {
     "slide_type": "subslide"
    }
   },
   "source": [
    "## Updating list elements by index"
   ]
  },
  {
   "cell_type": "code",
   "execution_count": 56,
   "metadata": {
    "slideshow": {
     "slide_type": "-"
    }
   },
   "outputs": [
    {
     "name": "stdout",
     "output_type": "stream",
     "text": [
      "[1, 9, 25, 49, 121]\n"
     ]
    }
   ],
   "source": [
    "\n",
    "prime_list = [1,3,5,7,11]\n",
    "for i in range(len(prime_list)):\n",
    "    prime_list[i] = prime_list[i] ** 2\n",
    "    \n",
    "print(prime_list)"
   ]
  },
  {
   "cell_type": "markdown",
   "metadata": {
    "slideshow": {
     "slide_type": "subslide"
    }
   },
   "source": [
    "## Appending to a list in a loop"
   ]
  },
  {
   "cell_type": "code",
   "execution_count": 57,
   "metadata": {
    "slideshow": {
     "slide_type": "-"
    }
   },
   "outputs": [
    {
     "name": "stdout",
     "output_type": "stream",
     "text": [
      "[0.01, 0.05, 0.1, 0.25, 1.0]\n"
     ]
    }
   ],
   "source": [
    "coins_list = [0.01, 0.05, 0.1, 0.25]\n",
    "coins_list.append(1.0)\n",
    "print(coins_list)"
   ]
  },
  {
   "cell_type": "code",
   "execution_count": 58,
   "metadata": {
    "slideshow": {
     "slide_type": "-"
    }
   },
   "outputs": [
    {
     "name": "stdout",
     "output_type": "stream",
     "text": [
      "[1.0]\n"
     ]
    }
   ],
   "source": [
    "new_coins_list = []\n",
    "new_coins_list.append(1.0)\n",
    "print(new_coins_list)"
   ]
  },
  {
   "cell_type": "code",
   "execution_count": 59,
   "metadata": {
    "slideshow": {
     "slide_type": "subslide"
    }
   },
   "outputs": [
    {
     "name": "stdout",
     "output_type": "stream",
     "text": [
      "[1, 4, 9, 16]\n"
     ]
    }
   ],
   "source": [
    "ints_list = [1,2,3,4]\n",
    "sq_list = []\n",
    "for item in ints_list:\n",
    "    sq_list.append(item**2)\n",
    "    \n",
    "print(sq_list)"
   ]
  },
  {
   "cell_type": "markdown",
   "metadata": {
    "slideshow": {
     "slide_type": "slide"
    }
   },
   "source": [
    "- <font color='LIGHTGRAY'> write for loops to iterate over containers </font>\n",
    "- <font color='LIGHTGRAY'> write for loops to iterate a given number of times </font>\n",
    "- <font color='LIGHTGRAY'> updating containers in a for loop </font>\n",
    "- write a list comprehension\n",
    "- <font color='LIGHTGRAY'> write a dictionary comprehension </font>"
   ]
  },
  {
   "cell_type": "markdown",
   "metadata": {
    "slideshow": {
     "slide_type": "subslide"
    }
   },
   "source": [
    "## List Comprehensions (another way to iterate over a list)\n",
    "`[do something to item for item in sequence]`"
   ]
  },
  {
   "cell_type": "code",
   "execution_count": 60,
   "metadata": {
    "slideshow": {
     "slide_type": "-"
    }
   },
   "outputs": [
    {
     "name": "stdout",
     "output_type": "stream",
     "text": [
      "[1, 2, 3, 4, 5]\n",
      "[1, 2, 3, 4, 5]\n"
     ]
    }
   ],
   "source": [
    "print(num_list)\n",
    "print([item for item in num_list])"
   ]
  },
  {
   "cell_type": "code",
   "execution_count": 61,
   "metadata": {
    "slideshow": {
     "slide_type": "-"
    }
   },
   "outputs": [
    {
     "name": "stdout",
     "output_type": "stream",
     "text": [
      "[1, 2, 3, 4, 5]\n"
     ]
    }
   ],
   "source": [
    "print([number for number in num_list])"
   ]
  },
  {
   "cell_type": "code",
   "execution_count": 62,
   "metadata": {
    "slideshow": {
     "slide_type": "-"
    }
   },
   "outputs": [
    {
     "name": "stdout",
     "output_type": "stream",
     "text": [
      "[100, 200, 300, 400, 500]\n"
     ]
    }
   ],
   "source": [
    "print([item * 100 for item in num_list])"
   ]
  },
  {
   "cell_type": "code",
   "execution_count": 63,
   "metadata": {
    "slideshow": {
     "slide_type": "subslide"
    }
   },
   "outputs": [
    {
     "name": "stdout",
     "output_type": "stream",
     "text": [
      "hello world\n"
     ]
    }
   ],
   "source": [
    "this_str = 'hello world'\n",
    "print(this_str)"
   ]
  },
  {
   "cell_type": "code",
   "execution_count": 64,
   "metadata": {
    "slideshow": {
     "slide_type": "-"
    }
   },
   "outputs": [
    {
     "name": "stdout",
     "output_type": "stream",
     "text": [
      "['h', 'e', 'l', 'l', 'o', ' ', 'w', 'o', 'r', 'l', 'd']\n"
     ]
    }
   ],
   "source": [
    "chars_list = [char for char in this_str]\n",
    "print(chars_list)"
   ]
  },
  {
   "cell_type": "code",
   "execution_count": 65,
   "metadata": {
    "slideshow": {
     "slide_type": "-"
    }
   },
   "outputs": [
    {
     "name": "stdout",
     "output_type": "stream",
     "text": [
      "['hello', 'world']\n"
     ]
    }
   ],
   "source": [
    "words_list = [word for word in this_str.split()]\n",
    "print(words_list)"
   ]
  },
  {
   "cell_type": "code",
   "execution_count": 66,
   "metadata": {
    "slideshow": {
     "slide_type": "subslide"
    }
   },
   "outputs": [
    {
     "name": "stdout",
     "output_type": "stream",
     "text": [
      "[[0, 'h'], [1, 'e'], [2, 'l'], [3, 'l'], [4, 'o'], [5, ' '], [6, 'w'], [7, 'o'], [8, 'r'], [9, 'l'], [10, 'd']]\n"
     ]
    }
   ],
   "source": [
    "index_list = [[i, this_str[i]] for i in range(len(this_str))]\n",
    "print(index_list)"
   ]
  },
  {
   "cell_type": "markdown",
   "metadata": {
    "slideshow": {
     "slide_type": "subslide"
    }
   },
   "source": [
    "## Dictionary Comprehensions"
   ]
  },
  {
   "cell_type": "code",
   "execution_count": 67,
   "metadata": {
    "slideshow": {
     "slide_type": "-"
    }
   },
   "outputs": [
    {
     "name": "stdout",
     "output_type": "stream",
     "text": [
      "['Ashley', 'Rihanna', 'Emily']\n"
     ]
    }
   ],
   "source": [
    "print([key for key in birth_year_dict.keys()])"
   ]
  },
  {
   "cell_type": "code",
   "execution_count": 68,
   "metadata": {
    "slideshow": {
     "slide_type": "-"
    }
   },
   "outputs": [
    {
     "name": "stdout",
     "output_type": "stream",
     "text": [
      "[1991, 1993, 1987]\n"
     ]
    }
   ],
   "source": [
    "print([value for value in birth_year_dict.values()])"
   ]
  },
  {
   "cell_type": "code",
   "execution_count": 69,
   "metadata": {
    "slideshow": {
     "slide_type": "-"
    }
   },
   "outputs": [
    {
     "name": "stdout",
     "output_type": "stream",
     "text": [
      "[['Ashley', 1991], ['Rihanna', 1993], ['Emily', 1987]]\n"
     ]
    }
   ],
   "source": [
    "print([[key, value] for key, value in birth_year_dict.items()])"
   ]
  },
  {
   "cell_type": "markdown",
   "metadata": {
    "************New Notebook**********": "week_2/day_7_for_if.ipynb",
    "slideshow": {
     "slide_type": "slide"
    }
   },
   "source": [
    "# Control flow - the 'grammar' of programing languages\n",
    "Today we combine for loops and if statements to do more complex operations\n",
    "\n",
    "### By the end of the day you'll be able to\n",
    "- filter container elements using a combination of a for loop and an if statement\n",
    "- update values in a nested list using double for loops (aka nested loop)\n",
    "- sort a list of numbers using a nested loop and an if statement\n"
   ]
  },
  {
   "cell_type": "markdown",
   "metadata": {
    "slideshow": {
     "slide_type": "slide"
    }
   },
   "source": [
    "## Recap - if statement"
   ]
  },
  {
   "cell_type": "code",
   "execution_count": null,
   "metadata": {},
   "outputs": [],
   "source": [
    "if var1_bool: # by default python check for True condition \n",
    "    # do something\n",
    "elif var2_bool:\n",
    "    # do something else\n",
    "...\n",
    "else: # if none of the conditions above were true\n",
    "    # do something else\n",
    "# continue the code"
   ]
  },
  {
   "cell_type": "markdown",
   "metadata": {
    "slideshow": {
     "slide_type": "slide"
    }
   },
   "source": [
    "## Recap - for loop"
   ]
  },
  {
   "cell_type": "code",
   "execution_count": null,
   "metadata": {},
   "outputs": [],
   "source": [
    "for item in container:\n",
    "    # do something with the item\n",
    "# continue the code "
   ]
  },
  {
   "cell_type": "markdown",
   "metadata": {
    "slideshow": {
     "slide_type": "slide"
    }
   },
   "source": [
    "### <font color='LIGHTGRAY'>By the end of the workshop you'll be able to</font>\n",
    "- **filter container elements using a combination of a for loop and an if statement**\n",
    "- <font color='LIGHTGRAY'>update values in a nested list using double for loops (aka nested loop)</font>\n",
    "- <font color='LIGHTGRAY'>sort a list of numbers using a nested loop and an if statement</font>"
   ]
  },
  {
   "cell_type": "code",
   "execution_count": 70,
   "metadata": {
    "slideshow": {
     "slide_type": "slide"
    }
   },
   "outputs": [
    {
     "name": "stdout",
     "output_type": "stream",
     "text": [
      "ambivert\n",
      "24\n",
      "4567\n",
      "582\n",
      "78\n",
      "calcspar\n",
      "deaness\n",
      "12\n",
      "675\n",
      "entrete\n",
      "gades\n",
      "['ambivert', 'calcspar', 'deaness', 'entrete', 'gades']\n"
     ]
    }
   ],
   "source": [
    "my_lst = ['ambivert', 24, 4567, 582, 78, 'calcspar', 'deaness', 12, 675, 'entrete', 'gades']\n",
    "\n",
    "# collect the string items of this list\n",
    "\n",
    "str_lst = [] # empty list to collect strings in\n",
    "for item in my_lst:\n",
    "    if type(item) == str: # indented once\n",
    "        str_lst.append(item) # indented twice\n",
    "    print(item) # indented once so this line is outside the if statement\n",
    "print(str_lst) # no indent, this line is performed once the for loop is done\n"
   ]
  },
  {
   "cell_type": "markdown",
   "metadata": {
    "slideshow": {
     "slide_type": "slide"
    }
   },
   "source": [
    "### <font color='LIGHTGRAY'>By the end of the workshop you'll be able to</font>\n",
    "- <font color='LIGHTGRAY'>filter container elements using a combination of a for loop and an if statement</font>\n",
    "- **update values in a nested list using double for loops (aka nested loop)**\n",
    "- <font color='LIGHTGRAY'>sort a list of numbers using a nested loop and an if statement</font>"
   ]
  },
  {
   "cell_type": "code",
   "execution_count": 71,
   "metadata": {
    "scrolled": true,
    "slideshow": {
     "slide_type": "slide"
    }
   },
   "outputs": [
    {
     "name": "stdout",
     "output_type": "stream",
     "text": [
      "before: [1976, 1956, 2013]\n",
      "before: 1976\n",
      "after: 1977\n",
      "before: 1956\n",
      "after: 1957\n",
      "before: 2013\n",
      "after: 2014\n",
      "after: [1976, 1956, 2013]\n",
      "before: [1989, 2002]\n",
      "before: 1989\n",
      "after: 1990\n",
      "before: 2002\n",
      "after: 2003\n",
      "after: [1989, 2002]\n",
      "before: [1954, 1978, 1928, 2009, 1938]\n",
      "before: 1954\n",
      "after: 1955\n",
      "before: 1978\n",
      "after: 1979\n",
      "before: 1928\n",
      "after: 1929\n",
      "before: 2009\n",
      "after: 2010\n",
      "before: 1938\n",
      "after: 1939\n",
      "after: [1954, 1978, 1928, 2009, 1938]\n",
      "before: [2001]\n",
      "before: 2001\n",
      "after: 2002\n",
      "after: [2001]\n",
      "before: [1978, 2000, 2015, 1981, 1995]\n",
      "before: 1978\n",
      "after: 1979\n",
      "before: 2000\n",
      "after: 2001\n",
      "before: 2015\n",
      "after: 2016\n",
      "before: 1981\n",
      "after: 1982\n",
      "before: 1995\n",
      "after: 1996\n",
      "after: [1978, 2000, 2015, 1981, 1995]\n",
      "[[1976, 1956, 2013], [1989, 2002], [1954, 1978, 1928, 2009, 1938], [2001], [1978, 2000, 2015, 1981, 1995]]\n"
     ]
    }
   ],
   "source": [
    "# each item in the list contains the birthyears of people living in the same household\n",
    "birthyears_lst = [[1976,1956,2013],[1989,2002],[1954,1978,1928,2009,1938],[2001],[1978,2000,2015,1981,1995]]\n",
    "\n",
    "# let's print out each number\n",
    "for item in birthyears_lst:\n",
    "    print('before:',item) # one indent!\n",
    "    for num in item:\n",
    "        print('before:',num)\n",
    "        num = num + 1\n",
    "        print('after:',num)\n",
    "    print('after:',item)\n",
    "print(birthyears_lst)\n",
    "# can we modify birthyears_lst with this approach?"
   ]
  },
  {
   "cell_type": "code",
   "execution_count": 72,
   "metadata": {
    "scrolled": true,
    "slideshow": {
     "slide_type": "subslide"
    }
   },
   "outputs": [
    {
     "name": "stdout",
     "output_type": "stream",
     "text": [
      "1938\n",
      "i 0 sublist [1976, 1956, 2013]\n",
      "   before i: 0 j: 0 element: 1976\n",
      "   after i: 0 j: 0 element: 1977\n",
      "   before i: 0 j: 1 element: 1956\n",
      "   after i: 0 j: 1 element: 1957\n",
      "   before i: 0 j: 2 element: 2013\n",
      "   after i: 0 j: 2 element: 2014\n",
      "moving on to the next sublist\n",
      "i 1 sublist [1989, 2002]\n",
      "   before i: 1 j: 0 element: 1989\n",
      "   after i: 1 j: 0 element: 1990\n",
      "   before i: 1 j: 1 element: 2002\n",
      "   after i: 1 j: 1 element: 2003\n",
      "moving on to the next sublist\n",
      "i 2 sublist [1954, 1978, 1928, 2009, 1938]\n",
      "   before i: 2 j: 0 element: 1954\n",
      "   after i: 2 j: 0 element: 1955\n",
      "   before i: 2 j: 1 element: 1978\n",
      "   after i: 2 j: 1 element: 1979\n",
      "   before i: 2 j: 2 element: 1928\n",
      "   after i: 2 j: 2 element: 1929\n",
      "   before i: 2 j: 3 element: 2009\n",
      "   after i: 2 j: 3 element: 2010\n",
      "   before i: 2 j: 4 element: 1938\n",
      "   after i: 2 j: 4 element: 1939\n",
      "moving on to the next sublist\n",
      "i 3 sublist [2001]\n",
      "   before i: 3 j: 0 element: 2001\n",
      "   after i: 3 j: 0 element: 2002\n",
      "moving on to the next sublist\n",
      "i 4 sublist [1978, 2000, 2015, 1981, 1995]\n",
      "   before i: 4 j: 0 element: 1978\n",
      "   after i: 4 j: 0 element: 1979\n",
      "   before i: 4 j: 1 element: 2000\n",
      "   after i: 4 j: 1 element: 2001\n",
      "   before i: 4 j: 2 element: 2015\n",
      "   after i: 4 j: 2 element: 2016\n",
      "   before i: 4 j: 3 element: 1981\n",
      "   after i: 4 j: 3 element: 1982\n",
      "   before i: 4 j: 4 element: 1995\n",
      "   after i: 4 j: 4 element: 1996\n",
      "moving on to the next sublist\n",
      "[[1977, 1957, 2014], [1990, 2003], [1955, 1979, 1929, 2010, 1939], [2002], [1979, 2001, 2016, 1982, 1996]]\n"
     ]
    }
   ],
   "source": [
    "# if you want to modify a list element, you need to reference them by index.\n",
    "\n",
    "i = 2\n",
    "j = 4\n",
    "print(birthyears_lst[i][j]) # just a reminder how to index nested lists\n",
    "\n",
    "\n",
    "for i in range(len(birthyears_lst)):\n",
    "    print('i',i,'sublist',birthyears_lst[i]) # one indent!\n",
    "    for j in range(len(birthyears_lst[i])):\n",
    "        print('   before i:',i,'j:',j,'element:',birthyears_lst[i][j])\n",
    "        # birthyears_lst[i][j] can be modified!\n",
    "        birthyears_lst[i][j] = birthyears_lst[i][j] + 1\n",
    "        print('   after i:',i,'j:',j,'element:',birthyears_lst[i][j])\n",
    "\n",
    "    print('moving on to the next sublist')\n",
    "print(birthyears_lst)"
   ]
  },
  {
   "cell_type": "markdown",
   "metadata": {
    "slideshow": {
     "slide_type": "subslide"
    }
   },
   "source": [
    "### Let's create a list that contains everyone's age and has the same shape as birthyears_lst"
   ]
  },
  {
   "cell_type": "code",
   "execution_count": 73,
   "metadata": {
    "scrolled": true,
    "slideshow": {
     "slide_type": "-"
    }
   },
   "outputs": [
    {
     "name": "stdout",
     "output_type": "stream",
     "text": [
      "sublist before: [1977, 1957, 2014]\n",
      "   before: 1977\n",
      "   after: 43\n",
      "   before: 1957\n",
      "   after: 63\n",
      "   before: 2014\n",
      "   after: 6\n",
      "sublist after: [43, 63, 6]\n",
      "sublist before: [1990, 2003]\n",
      "   before: 1990\n",
      "   after: 30\n",
      "   before: 2003\n",
      "   after: 17\n",
      "sublist after: [30, 17]\n",
      "sublist before: [1955, 1979, 1929, 2010, 1939]\n",
      "   before: 1955\n",
      "   after: 65\n",
      "   before: 1979\n",
      "   after: 41\n",
      "   before: 1929\n",
      "   after: 91\n",
      "   before: 2010\n",
      "   after: 10\n",
      "   before: 1939\n",
      "   after: 81\n",
      "sublist after: [65, 41, 91, 10, 81]\n",
      "sublist before: [2002]\n",
      "   before: 2002\n",
      "   after: 18\n",
      "sublist after: [18]\n",
      "sublist before: [1979, 2001, 2016, 1982, 1996]\n",
      "   before: 1979\n",
      "   after: 41\n",
      "   before: 2001\n",
      "   after: 19\n",
      "   before: 2016\n",
      "   after: 4\n",
      "   before: 1982\n",
      "   after: 38\n",
      "   before: 1996\n",
      "   after: 24\n",
      "sublist after: [41, 19, 4, 38, 24]\n",
      "[[43, 63, 6], [30, 17], [65, 41, 91, 10, 81], [18], [41, 19, 4, 38, 24]]\n"
     ]
    }
   ],
   "source": [
    "ages_lst = [] \n",
    "for i in range(len(birthyears_lst)):\n",
    "    print('sublist before:',birthyears_lst[i])\n",
    "    ages_lst.append([]) # add an empty sublist\n",
    "    for j in range(len(birthyears_lst[i])):\n",
    "        print('   before:',birthyears_lst[i][j])\n",
    "        ages_lst[i].append(2020 - birthyears_lst[i][j]) # add an element to the sublist\n",
    "        print('   after:',ages_lst[i][j])\n",
    "    print('sublist after:',ages_lst[i])\n",
    "print(ages_lst)"
   ]
  },
  {
   "cell_type": "markdown",
   "metadata": {
    "slideshow": {
     "slide_type": "slide"
    }
   },
   "source": [
    "## Sorting\n",
    "- Given a list of numbers, rearrange the elements such that they are in increasing order.\n",
    "- Bubble sort is a simple but inefficient way to sort numbers.\n",
    "- It is good to learn about nesting loops and if statements\n",
    "\n",
    "[34, 8, 1335, 7]"
   ]
  },
  {
   "cell_type": "code",
   "execution_count": 74,
   "metadata": {
    "slideshow": {
     "slide_type": "subslide"
    }
   },
   "outputs": [
    {
     "name": "stdout",
     "output_type": "stream",
     "text": [
      "before: element 0 : 34 element 1 : 7\n",
      "   we switched elements\n",
      "after: element 0 : 7 element 1 : 34\n",
      "[7, 34, 1335, 8, 24, 78, 123, 576, 38]\n",
      "before: element 0 : 7 element 2 : 1335\n",
      "after: element 0 : 7 element 2 : 1335\n",
      "[7, 34, 1335, 8, 24, 78, 123, 576, 38]\n",
      "before: element 1 : 34 element 2 : 1335\n",
      "after: element 1 : 34 element 2 : 1335\n",
      "[7, 34, 1335, 8, 24, 78, 123, 576, 38]\n",
      "before: element 0 : 7 element 3 : 8\n",
      "after: element 0 : 7 element 3 : 8\n",
      "[7, 34, 1335, 8, 24, 78, 123, 576, 38]\n",
      "before: element 1 : 34 element 3 : 8\n",
      "   we switched elements\n",
      "after: element 1 : 8 element 3 : 34\n",
      "[7, 8, 1335, 34, 24, 78, 123, 576, 38]\n",
      "before: element 2 : 1335 element 3 : 34\n",
      "   we switched elements\n",
      "after: element 2 : 34 element 3 : 1335\n",
      "[7, 8, 34, 1335, 24, 78, 123, 576, 38]\n",
      "before: element 0 : 7 element 4 : 24\n",
      "after: element 0 : 7 element 4 : 24\n",
      "[7, 8, 34, 1335, 24, 78, 123, 576, 38]\n",
      "before: element 1 : 8 element 4 : 24\n",
      "after: element 1 : 8 element 4 : 24\n",
      "[7, 8, 34, 1335, 24, 78, 123, 576, 38]\n",
      "before: element 2 : 34 element 4 : 24\n",
      "   we switched elements\n",
      "after: element 2 : 24 element 4 : 34\n",
      "[7, 8, 24, 1335, 34, 78, 123, 576, 38]\n",
      "before: element 3 : 1335 element 4 : 34\n",
      "   we switched elements\n",
      "after: element 3 : 34 element 4 : 1335\n",
      "[7, 8, 24, 34, 1335, 78, 123, 576, 38]\n",
      "before: element 0 : 7 element 5 : 78\n",
      "after: element 0 : 7 element 5 : 78\n",
      "[7, 8, 24, 34, 1335, 78, 123, 576, 38]\n",
      "before: element 1 : 8 element 5 : 78\n",
      "after: element 1 : 8 element 5 : 78\n",
      "[7, 8, 24, 34, 1335, 78, 123, 576, 38]\n",
      "before: element 2 : 24 element 5 : 78\n",
      "after: element 2 : 24 element 5 : 78\n",
      "[7, 8, 24, 34, 1335, 78, 123, 576, 38]\n",
      "before: element 3 : 34 element 5 : 78\n",
      "after: element 3 : 34 element 5 : 78\n",
      "[7, 8, 24, 34, 1335, 78, 123, 576, 38]\n",
      "before: element 4 : 1335 element 5 : 78\n",
      "   we switched elements\n",
      "after: element 4 : 78 element 5 : 1335\n",
      "[7, 8, 24, 34, 78, 1335, 123, 576, 38]\n",
      "before: element 0 : 7 element 6 : 123\n",
      "after: element 0 : 7 element 6 : 123\n",
      "[7, 8, 24, 34, 78, 1335, 123, 576, 38]\n",
      "before: element 1 : 8 element 6 : 123\n",
      "after: element 1 : 8 element 6 : 123\n",
      "[7, 8, 24, 34, 78, 1335, 123, 576, 38]\n",
      "before: element 2 : 24 element 6 : 123\n",
      "after: element 2 : 24 element 6 : 123\n",
      "[7, 8, 24, 34, 78, 1335, 123, 576, 38]\n",
      "before: element 3 : 34 element 6 : 123\n",
      "after: element 3 : 34 element 6 : 123\n",
      "[7, 8, 24, 34, 78, 1335, 123, 576, 38]\n",
      "before: element 4 : 78 element 6 : 123\n",
      "after: element 4 : 78 element 6 : 123\n",
      "[7, 8, 24, 34, 78, 1335, 123, 576, 38]\n",
      "before: element 5 : 1335 element 6 : 123\n",
      "   we switched elements\n",
      "after: element 5 : 123 element 6 : 1335\n",
      "[7, 8, 24, 34, 78, 123, 1335, 576, 38]\n",
      "before: element 0 : 7 element 7 : 576\n",
      "after: element 0 : 7 element 7 : 576\n",
      "[7, 8, 24, 34, 78, 123, 1335, 576, 38]\n",
      "before: element 1 : 8 element 7 : 576\n",
      "after: element 1 : 8 element 7 : 576\n",
      "[7, 8, 24, 34, 78, 123, 1335, 576, 38]\n",
      "before: element 2 : 24 element 7 : 576\n",
      "after: element 2 : 24 element 7 : 576\n",
      "[7, 8, 24, 34, 78, 123, 1335, 576, 38]\n",
      "before: element 3 : 34 element 7 : 576\n",
      "after: element 3 : 34 element 7 : 576\n",
      "[7, 8, 24, 34, 78, 123, 1335, 576, 38]\n",
      "before: element 4 : 78 element 7 : 576\n",
      "after: element 4 : 78 element 7 : 576\n",
      "[7, 8, 24, 34, 78, 123, 1335, 576, 38]\n",
      "before: element 5 : 123 element 7 : 576\n",
      "after: element 5 : 123 element 7 : 576\n",
      "[7, 8, 24, 34, 78, 123, 1335, 576, 38]\n",
      "before: element 6 : 1335 element 7 : 576\n",
      "   we switched elements\n",
      "after: element 6 : 576 element 7 : 1335\n",
      "[7, 8, 24, 34, 78, 123, 576, 1335, 38]\n",
      "before: element 0 : 7 element 8 : 38\n",
      "after: element 0 : 7 element 8 : 38\n",
      "[7, 8, 24, 34, 78, 123, 576, 1335, 38]\n",
      "before: element 1 : 8 element 8 : 38\n",
      "after: element 1 : 8 element 8 : 38\n",
      "[7, 8, 24, 34, 78, 123, 576, 1335, 38]\n",
      "before: element 2 : 24 element 8 : 38\n",
      "after: element 2 : 24 element 8 : 38\n",
      "[7, 8, 24, 34, 78, 123, 576, 1335, 38]\n",
      "before: element 3 : 34 element 8 : 38\n",
      "after: element 3 : 34 element 8 : 38\n",
      "[7, 8, 24, 34, 78, 123, 576, 1335, 38]\n",
      "before: element 4 : 78 element 8 : 38\n",
      "   we switched elements\n",
      "after: element 4 : 38 element 8 : 78\n",
      "[7, 8, 24, 34, 38, 123, 576, 1335, 78]\n",
      "before: element 5 : 123 element 8 : 78\n",
      "   we switched elements\n",
      "after: element 5 : 78 element 8 : 123\n",
      "[7, 8, 24, 34, 38, 78, 576, 1335, 123]\n",
      "before: element 6 : 576 element 8 : 123\n",
      "   we switched elements\n",
      "after: element 6 : 123 element 8 : 576\n",
      "[7, 8, 24, 34, 38, 78, 123, 1335, 576]\n",
      "before: element 7 : 1335 element 8 : 576\n",
      "   we switched elements\n",
      "after: element 7 : 576 element 8 : 1335\n",
      "[7, 8, 24, 34, 38, 78, 123, 576, 1335]\n"
     ]
    }
   ],
   "source": [
    "nums_lst = [34,7,1335,8,24,78,123,576,38]\n",
    "\n",
    "for i in range(len(nums_lst)):\n",
    "    for j in range(i):\n",
    "        print('before:','element',j,':',nums_lst[j],'element', i,':', nums_lst[i])\n",
    "        if nums_lst[j] > nums_lst[i]: # if an item is smaller than its neighbor, switch them\n",
    "            temp = nums_lst[i] # temporary variable\n",
    "            nums_lst[i] = nums_lst[j]\n",
    "            nums_lst[j] = temp\n",
    "            print('   we switched elements')\n",
    "        # note: no else statement. if an element is equal or larger than its neighbor, there is nothing to do\n",
    "        print('after:','element',j,':',nums_lst[j],'element', i,':', nums_lst[i])\n",
    "        print(nums_lst)"
   ]
  },
  {
   "cell_type": "markdown",
   "metadata": {
    "slideshow": {
     "slide_type": "slide"
    }
   },
   "source": [
    "# <center> What we learned so far... </center>\n",
    "- Variables: integers, floats, booleans, strings\n",
    "- Container types: lists, dictionaries\n",
    "- Control flow: if-else statements, for loops, comprehensions"
   ]
  },
  {
   "cell_type": "markdown",
   "metadata": {
    "slideshow": {
     "slide_type": "slide"
    }
   },
   "source": [
    "# <center> Functions </center>\n",
    "### Objectives\n",
    "- Write simple functions for making code organized and reusable\n",
    "- Write functions with multiple arguments and outputs\n",
    "- Write functions with named arguments and default argument values\n",
    "- Describe the difference between Global and Local scope\n",
    "- Handle errors within your code"
   ]
  },
  {
   "cell_type": "markdown",
   "metadata": {
    "slideshow": {
     "slide_type": "slide"
    }
   },
   "source": [
    "- Write simple functions for making code organized and reusable\n",
    "- <font color='LIGHTGRAY'> Write functions with multiple arguments and outputs </font>\n",
    "- <font color='LIGHTGRAY'> Write functions with named arguments and default argument values </font>\n",
    "- <font color='LIGHTGRAY'> Describe the difference between Global and Local scope </font>\n",
    "- <font color='LIGHTGRAY'> Handle errors within your code </font>"
   ]
  },
  {
   "cell_type": "markdown",
   "metadata": {
    "slideshow": {
     "slide_type": "subslide"
    }
   },
   "source": [
    "## Defining Simple Functions"
   ]
  },
  {
   "cell_type": "markdown",
   "metadata": {
    "slideshow": {
     "slide_type": "-"
    }
   },
   "source": [
    "- Functions are discrete units of code\n",
    "- Similar to functions in mathematics\n",
    "  + Take some input, return some output (_usually_)\n",
    "- Functions have a very specific syntax that uses indentation and special keywords that let Python know you are defining or creating a new function\n",
    "\n",
    "```\n",
    "def function_name(input):\n",
    "    do something here\n",
    "    (maybe do another thing here)\n",
    "    \n",
    "    return output```"
   ]
  },
  {
   "cell_type": "code",
   "execution_count": 75,
   "metadata": {
    "slideshow": {
     "slide_type": "subslide"
    }
   },
   "outputs": [
    {
     "name": "stdout",
     "output_type": "stream",
     "text": [
      "43\n",
      "10\n"
     ]
    }
   ],
   "source": [
    "# Define simple function.\n",
    "# Note: Indentation used to denote function body\n",
    "# Note 2: The lines within def are only run when you call the function\n",
    "\n",
    "def add_one(number):\n",
    "    res = number + 1\n",
    "    \n",
    "    return res\n",
    "\n",
    "res1_int = add_one(42)\n",
    "res2_int = add_one(9)\n",
    "print(res1_int)\n",
    "print(res2_int)"
   ]
  },
  {
   "cell_type": "markdown",
   "metadata": {
    "slideshow": {
     "slide_type": "slide"
    }
   },
   "source": [
    "- <font color='LIGHTGRAY'> Write simple functions for making code organized and reusable </font>\n",
    "- Write functions with multiple arguments and outputs\n",
    "- <font color='LIGHTGRAY'> Write functions with named arguments and default argument values </font>\n",
    "- <font color='LIGHTGRAY'> Describe the difference between Global and Local scope </font>\n",
    "- <font color='LIGHTGRAY'> Handle errors within your code </font>"
   ]
  },
  {
   "cell_type": "markdown",
   "metadata": {
    "slideshow": {
     "slide_type": "subslide"
    }
   },
   "source": [
    "## Functions can take multiple inputs"
   ]
  },
  {
   "cell_type": "code",
   "execution_count": 76,
   "metadata": {
    "slideshow": {
     "slide_type": "-"
    }
   },
   "outputs": [
    {
     "name": "stdout",
     "output_type": "stream",
     "text": [
      "hello world\n",
      "goodbye moon\n"
     ]
    }
   ],
   "source": [
    "# Function with multiple arguments\n",
    "\n",
    "def combine_strings(string_1, string_2):\n",
    "    res = string_1 + ' ' + string_2\n",
    "    \n",
    "    return res \n",
    "\n",
    "res1_str = combine_strings('hello', 'world')\n",
    "res2_str = combine_strings('goodbye', 'moon')\n",
    "\n",
    "print(res1_str)\n",
    "print(res2_str)"
   ]
  },
  {
   "cell_type": "markdown",
   "metadata": {
    "slideshow": {
     "slide_type": "subslide"
    }
   },
   "source": [
    "## When defining a function, you can call another function you already defined."
   ]
  },
  {
   "cell_type": "code",
   "execution_count": 77,
   "metadata": {
    "slideshow": {
     "slide_type": "subslide"
    }
   },
   "outputs": [
    {
     "name": "stdout",
     "output_type": "stream",
     "text": [
      "False\n",
      "True\n"
     ]
    }
   ],
   "source": [
    "# Function to determine if number is even\n",
    "\n",
    "def is_even(n):\n",
    "    res = n % 2 == 0\n",
    "    \n",
    "    return res\n",
    "\n",
    "res1_int = is_even(17)\n",
    "res2_int = is_even(2)\n",
    "\n",
    "print(res1_int)\n",
    "print(res2_int)"
   ]
  },
  {
   "cell_type": "code",
   "execution_count": 78,
   "metadata": {
    "slideshow": {
     "slide_type": "-"
    }
   },
   "outputs": [
    {
     "name": "stdout",
     "output_type": "stream",
     "text": [
      "False\n",
      "True\n"
     ]
    }
   ],
   "source": [
    "# Functions that call other functions\n",
    "\n",
    "def is_odd(n):\n",
    "    res = not is_even(n)\n",
    "    \n",
    "    return res\n",
    "\n",
    "res1_int = is_odd(30)\n",
    "res2_int = is_odd(31)\n",
    "\n",
    "print(res1_int) \n",
    "print(res2_int)"
   ]
  },
  {
   "cell_type": "markdown",
   "metadata": {
    "slideshow": {
     "slide_type": "subslide"
    }
   },
   "source": [
    "## Functions can return multiple outputs"
   ]
  },
  {
   "cell_type": "code",
   "execution_count": 79,
   "metadata": {
    "slideshow": {
     "slide_type": "-"
    }
   },
   "outputs": [
    {
     "name": "stdout",
     "output_type": "stream",
     "text": [
      "5.5 5.259911279353167\n"
     ]
    }
   ],
   "source": [
    "# Functions that return multiple values\n",
    "from statistics import mean, stdev\n",
    "\n",
    "def mean_sd(numbers_list):\n",
    "    m = mean(numbers_list)\n",
    "    sd = stdev(numbers_list)\n",
    "    \n",
    "    return m, sd\n",
    "\n",
    "mean_flt, sd_flt = mean_sd([0,2,10,10])\n",
    "print(mean_flt, sd_flt)"
   ]
  },
  {
   "cell_type": "markdown",
   "metadata": {
    "slideshow": {
     "slide_type": "slide"
    }
   },
   "source": [
    "- <font color='LIGHTGRAY'> Write simple functions for making code organized and reusable </font>\n",
    "- <font color='LIGHTGRAY'> Write functions with multiple arguments and outputs </font>\n",
    "- Write functions with named arguments and default argument values\n",
    "- <font color='LIGHTGRAY'> Describe the difference between Global and Local scope </font>\n",
    "- <font color='LIGHTGRAY'> Handle errors within your code </font>"
   ]
  },
  {
   "cell_type": "markdown",
   "metadata": {
    "slideshow": {
     "slide_type": "subslide"
    }
   },
   "source": [
    "## Using Named Arguments\n",
    "- So far, we been using \"positional\" matching of arguments\n",
    "- More complicated functions can take many arguments\n",
    "- Remembering the order of the arguments can get tricky\n",
    "- Python allows \"keyword\" arguments"
   ]
  },
  {
   "cell_type": "code",
   "execution_count": 80,
   "metadata": {
    "slideshow": {
     "slide_type": "subslide"
    }
   },
   "outputs": [],
   "source": [
    "def make_sentence(subj, verb, obj):\n",
    "    res = subj + \" \" + verb + \" \" + obj\n",
    "    return res"
   ]
  },
  {
   "cell_type": "code",
   "execution_count": 81,
   "metadata": {
    "slideshow": {
     "slide_type": "-"
    }
   },
   "outputs": [
    {
     "data": {
      "text/plain": [
       "'paul ate the potato'"
      ]
     },
     "execution_count": 81,
     "metadata": {},
     "output_type": "execute_result"
    }
   ],
   "source": [
    "# Run our function with positional arguments\n",
    "make_sentence(\"paul\", \"ate\", \"the potato\")"
   ]
  },
  {
   "cell_type": "code",
   "execution_count": 82,
   "metadata": {
    "slideshow": {
     "slide_type": "-"
    }
   },
   "outputs": [
    {
     "data": {
      "text/plain": [
       "'the potato ate paul'"
      ]
     },
     "execution_count": 82,
     "metadata": {},
     "output_type": "execute_result"
    }
   ],
   "source": [
    "# Change order of positional arguments\n",
    "make_sentence(\"the potato\", \"ate\", \"paul\")"
   ]
  },
  {
   "cell_type": "code",
   "execution_count": 83,
   "metadata": {
    "slideshow": {
     "slide_type": "-"
    }
   },
   "outputs": [
    {
     "data": {
      "text/plain": [
       "'paul ate the potato'"
      ]
     },
     "execution_count": 83,
     "metadata": {},
     "output_type": "execute_result"
    }
   ],
   "source": [
    "# Change order of keyword arguments\n",
    "make_sentence(obj=\"the potato\", verb=\"ate\", subj=\"paul\")"
   ]
  },
  {
   "cell_type": "markdown",
   "metadata": {
    "slideshow": {
     "slide_type": "subslide"
    }
   },
   "source": [
    "## Default Argument Values\n",
    "- Can specify defaults for some (or all) arguments"
   ]
  },
  {
   "cell_type": "code",
   "execution_count": 84,
   "metadata": {
    "slideshow": {
     "slide_type": "-"
    }
   },
   "outputs": [
    {
     "name": "stdout",
     "output_type": "stream",
     "text": [
      "Ashley hates the potato\n"
     ]
    }
   ],
   "source": [
    "def make_sentence(subj, verb, obj='the potato'):\n",
    "    res = subj + \" \" + verb + \" \" + obj\n",
    "    \n",
    "    return res\n",
    "\n",
    "print(make_sentence('Ashley', 'hates'))"
   ]
  },
  {
   "cell_type": "code",
   "execution_count": 85,
   "metadata": {
    "slideshow": {
     "slide_type": "-"
    }
   },
   "outputs": [
    {
     "name": "stdout",
     "output_type": "stream",
     "text": [
      "Ashley hates the croissant\n"
     ]
    }
   ],
   "source": [
    "print(make_sentence('Ashley', 'hates', 'the croissant'))"
   ]
  },
  {
   "cell_type": "code",
   "execution_count": 86,
   "metadata": {
    "slideshow": {
     "slide_type": "subslide"
    }
   },
   "outputs": [
    {
     "name": "stdout",
     "output_type": "stream",
     "text": [
      "Ashley hates the croissant\n"
     ]
    }
   ],
   "source": [
    "print(make_sentence(verb='hates', subj='Ashley', obj='the croissant'))"
   ]
  },
  {
   "cell_type": "code",
   "execution_count": 87,
   "metadata": {
    "slideshow": {
     "slide_type": "-"
    }
   },
   "outputs": [
    {
     "name": "stdout",
     "output_type": "stream",
     "text": [
      "Ashley hates the potato\n"
     ]
    }
   ],
   "source": [
    "print(make_sentence(verb='hates', subj='Ashley'))"
   ]
  },
  {
   "cell_type": "markdown",
   "metadata": {
    "slideshow": {
     "slide_type": "slide"
    }
   },
   "source": [
    "- <font color='LIGHTGRAY'> Write simple functions for making code organized and reusable </font>\n",
    "- <font color='LIGHTGRAY'> Write functions with multiple arguments and outputs </font>\n",
    "- <font color='LIGHTGRAY'> Write functions with named arguments and default argument values </font>\n",
    "- Describe the difference between Global and Local scope\n",
    "- <font color='LIGHTGRAY'> Handle errors within your code </font>"
   ]
  },
  {
   "cell_type": "markdown",
   "metadata": {
    "slideshow": {
     "slide_type": "subslide"
    }
   },
   "source": [
    "## Functions and Scope\n",
    "\n",
    "#### Scope:\n",
    "The scope of a variable refers to the places where you can see and access it.\n",
    "\n",
    "- Global scope can be considered the top level\n",
    "- Functions introduce \"local scope\""
   ]
  },
  {
   "cell_type": "code",
   "execution_count": 88,
   "metadata": {
    "slideshow": {
     "slide_type": "subslide"
    }
   },
   "outputs": [
    {
     "name": "stdout",
     "output_type": "stream",
     "text": [
      "True\n",
      "False\n"
     ]
    },
    {
     "ename": "NameError",
     "evalue": "name 'eggs' is not defined",
     "output_type": "error",
     "traceback": [
      "\u001b[0;31m---------------------------------------------------------------------------\u001b[0m",
      "\u001b[0;31mNameError\u001b[0m                                 Traceback (most recent call last)",
      "\u001b[0;32m<ipython-input-88-5287b1d4d120>\u001b[0m in \u001b[0;36m<module>\u001b[0;34m\u001b[0m\n\u001b[1;32m     13\u001b[0m \u001b[0mprint\u001b[0m\u001b[0;34m(\u001b[0m\u001b[0meggs_bool\u001b[0m\u001b[0;34m)\u001b[0m\u001b[0;34m\u001b[0m\u001b[0;34m\u001b[0m\u001b[0m\n\u001b[1;32m     14\u001b[0m \u001b[0mprint\u001b[0m\u001b[0;34m(\u001b[0m\u001b[0mbacon_bool\u001b[0m\u001b[0;34m)\u001b[0m\u001b[0;34m\u001b[0m\u001b[0;34m\u001b[0m\u001b[0m\n\u001b[0;32m---> 15\u001b[0;31m \u001b[0mprint\u001b[0m\u001b[0;34m(\u001b[0m\u001b[0meggs\u001b[0m\u001b[0;34m)\u001b[0m\u001b[0;34m\u001b[0m\u001b[0;34m\u001b[0m\u001b[0m\n\u001b[0m\u001b[1;32m     16\u001b[0m \u001b[0mprint\u001b[0m\u001b[0;34m(\u001b[0m\u001b[0mbacon\u001b[0m\u001b[0;34m)\u001b[0m\u001b[0;34m\u001b[0m\u001b[0;34m\u001b[0m\u001b[0m\n\u001b[1;32m     17\u001b[0m \u001b[0mprint\u001b[0m\u001b[0;34m(\u001b[0m\u001b[0mham\u001b[0m\u001b[0;34m)\u001b[0m\u001b[0;34m\u001b[0m\u001b[0;34m\u001b[0m\u001b[0m\n",
      "\u001b[0;31mNameError\u001b[0m: name 'eggs' is not defined"
     ]
    }
   ],
   "source": [
    "# local variables cannot be used in the global scope, only the local scope\n",
    "def breakfast(ham):\n",
    "    eggs = True\n",
    "    if ham == True:\n",
    "        bacon = False\n",
    "    else:\n",
    "        bacon = True\n",
    "#     print(eggs, bacon, ham)\n",
    "    \n",
    "    return(eggs, bacon)\n",
    "\n",
    "eggs_bool, bacon_bool = breakfast(True)\n",
    "print(eggs_bool)\n",
    "print(bacon_bool)\n",
    "print(eggs)\n",
    "print(bacon)\n",
    "print(ham)"
   ]
  },
  {
   "cell_type": "code",
   "execution_count": 89,
   "metadata": {
    "slideshow": {
     "slide_type": "subslide"
    }
   },
   "outputs": [
    {
     "name": "stdout",
     "output_type": "stream",
     "text": [
      "over easy\n"
     ]
    }
   ],
   "source": [
    "# global variables can be read from a local scope or global scope\n",
    "def breakfast():\n",
    "    print(eggs_str)\n",
    "    \n",
    "    return\n",
    "    \n",
    "eggs_str = 'over easy'\n",
    "breakfast()"
   ]
  },
  {
   "cell_type": "code",
   "execution_count": 90,
   "metadata": {
    "slideshow": {
     "slide_type": "subslide"
    }
   },
   "outputs": [
    {
     "name": "stdout",
     "output_type": "stream",
     "text": [
      "['hi', 'hello', 'hey']\n"
     ]
    }
   ],
   "source": [
    "# don't use the same variable name in local and global scope\n",
    "def chop(my_string):\n",
    "    split_string = my_string.split()\n",
    "    \n",
    "    return split_string\n",
    "\n",
    "split_string = chop('hi hello hey')\n",
    "print(split_string)"
   ]
  },
  {
   "cell_type": "markdown",
   "metadata": {
    "slideshow": {
     "slide_type": "slide"
    }
   },
   "source": [
    "- <font color='LIGHTGRAY'> Write simple functions for making code organized and reusable </font>\n",
    "- <font color='LIGHTGRAY'> Write functions with multiple arguments and outputs </font>\n",
    "- <font color='LIGHTGRAY'> Write functions with named arguments and default argument values </font>\n",
    "- <font color='LIGHTGRAY'> Describe the difference between Global and Local scope </font>\n",
    "- Handle errors within your code"
   ]
  },
  {
   "cell_type": "markdown",
   "metadata": {
    "slideshow": {
     "slide_type": "subslide"
    }
   },
   "source": [
    "## Exception Handling\n",
    "\n",
    "As we have written code up until now, getting an error (or exception) means your entire program will crash. Instead, we can detect errors, handle them, and continue to run."
   ]
  },
  {
   "cell_type": "code",
   "execution_count": 91,
   "metadata": {
    "slideshow": {
     "slide_type": "-"
    }
   },
   "outputs": [
    {
     "data": {
      "text/plain": [
       "'EPON'"
      ]
     },
     "execution_count": 91,
     "metadata": {},
     "output_type": "execute_result"
    }
   ],
   "source": [
    "def reverse(my_string):\n",
    "    rev_string = my_string[::-1]\n",
    "    return rev_string\n",
    "\n",
    "reverse(\"NOPE\")"
   ]
  },
  {
   "cell_type": "code",
   "execution_count": 92,
   "metadata": {
    "slideshow": {
     "slide_type": "-"
    }
   },
   "outputs": [
    {
     "ename": "TypeError",
     "evalue": "'int' object is not subscriptable",
     "output_type": "error",
     "traceback": [
      "\u001b[0;31m---------------------------------------------------------------------------\u001b[0m",
      "\u001b[0;31mTypeError\u001b[0m                                 Traceback (most recent call last)",
      "\u001b[0;32m<ipython-input-92-356e52644604>\u001b[0m in \u001b[0;36m<module>\u001b[0;34m\u001b[0m\n\u001b[0;32m----> 1\u001b[0;31m \u001b[0mreverse\u001b[0m\u001b[0;34m(\u001b[0m\u001b[0;36m999\u001b[0m\u001b[0;34m)\u001b[0m\u001b[0;34m\u001b[0m\u001b[0;34m\u001b[0m\u001b[0m\n\u001b[0m",
      "\u001b[0;32m<ipython-input-91-9e2a8fe3d058>\u001b[0m in \u001b[0;36mreverse\u001b[0;34m(my_string)\u001b[0m\n\u001b[1;32m      1\u001b[0m \u001b[0;32mdef\u001b[0m \u001b[0mreverse\u001b[0m\u001b[0;34m(\u001b[0m\u001b[0mmy_string\u001b[0m\u001b[0;34m)\u001b[0m\u001b[0;34m:\u001b[0m\u001b[0;34m\u001b[0m\u001b[0;34m\u001b[0m\u001b[0m\n\u001b[0;32m----> 2\u001b[0;31m     \u001b[0mrev_string\u001b[0m \u001b[0;34m=\u001b[0m \u001b[0mmy_string\u001b[0m\u001b[0;34m[\u001b[0m\u001b[0;34m:\u001b[0m\u001b[0;34m:\u001b[0m\u001b[0;34m-\u001b[0m\u001b[0;36m1\u001b[0m\u001b[0;34m]\u001b[0m\u001b[0;34m\u001b[0m\u001b[0;34m\u001b[0m\u001b[0m\n\u001b[0m\u001b[1;32m      3\u001b[0m     \u001b[0;32mreturn\u001b[0m \u001b[0mrev_string\u001b[0m\u001b[0;34m\u001b[0m\u001b[0;34m\u001b[0m\u001b[0m\n\u001b[1;32m      4\u001b[0m \u001b[0;34m\u001b[0m\u001b[0m\n\u001b[1;32m      5\u001b[0m \u001b[0mreverse\u001b[0m\u001b[0;34m(\u001b[0m\u001b[0;34m\"NOPE\"\u001b[0m\u001b[0;34m)\u001b[0m\u001b[0;34m\u001b[0m\u001b[0;34m\u001b[0m\u001b[0m\n",
      "\u001b[0;31mTypeError\u001b[0m: 'int' object is not subscriptable"
     ]
    }
   ],
   "source": [
    "reverse(999)"
   ]
  },
  {
   "cell_type": "code",
   "execution_count": 93,
   "metadata": {
    "slideshow": {
     "slide_type": "subslide"
    }
   },
   "outputs": [
    {
     "name": "stdout",
     "output_type": "stream",
     "text": [
      "invalid argument\n"
     ]
    }
   ],
   "source": [
    "def reverse(my_string):\n",
    "    try:\n",
    "        rev_string = my_string[::-1]\n",
    "        return rev_string\n",
    "    except:\n",
    "        print('invalid argument')\n",
    "        return\n",
    "        \n",
    "reverse(999)"
   ]
  },
  {
   "cell_type": "markdown",
   "metadata": {
    "slideshow": {
     "slide_type": "slide"
    }
   },
   "source": [
    "## Overview\n",
    "\n",
    "We covered a lot so far!\n",
    "\n",
    "- variables\n",
    "- container types\n",
    "- control flow (if statements and for loops)\n",
    "- functions\n",
    "\n",
    "You can solve a ton of problems by combining these pieces"
   ]
  },
  {
   "cell_type": "markdown",
   "metadata": {
    "slideshow": {
     "slide_type": "slide"
    }
   },
   "source": [
    "###  Last but not least \n",
    "- **test your function inputs**\n"
   ]
  },
  {
   "cell_type": "markdown",
   "metadata": {
    "slideshow": {
     "slide_type": "slide"
    }
   },
   "source": [
    "## Type of errors\n",
    "- obvious errors that give you an error message\n",
    "   - usually syntax errors, forgotten :, type error, forgotten tabs, etc.\n",
    "   - it can be quickly resolved with some googling\n",
    "- sneaky errors that don't throw an error message\n",
    "   - your code runs but the results are incorrect\n",
    "   - it can only be caught by extensive testing   "
   ]
  },
  {
   "cell_type": "markdown",
   "metadata": {
    "slideshow": {
     "slide_type": "subslide"
    }
   },
   "source": [
    "- test-driven development is encouraged!\n",
    "   - figure out how you'll test your code even before you start writing it!\n",
    "- test your data too!\n",
    "   - what properties do you expect the data to have?\n",
    "   - test those!\n",
    "   - errors in data collection often occur"
   ]
  },
  {
   "cell_type": "markdown",
   "metadata": {
    "slideshow": {
     "slide_type": "slide"
    }
   },
   "source": [
    "### How to test your data?\n",
    "- consider what properties the input data to your functions should have:\n",
    "- age should be larger than 0 but smaller than ~150\n",
    "   - sounds obvious but negative values or values over 200 can occur due to typos\n",
    "- salary should be positive\n",
    "- names should not contain non-alpha characters like numbers or special characters"
   ]
  },
  {
   "cell_type": "markdown",
   "metadata": {
    "slideshow": {
     "slide_type": "slide"
    }
   },
   "source": [
    "## Example"
   ]
  },
  {
   "cell_type": "code",
   "execution_count": 106,
   "metadata": {},
   "outputs": [],
   "source": [
    "employees_dict = {}\n",
    "employees_dict['employee1'] = [50000,'male',39] # salary, gender, age\n",
    "employees_dict['employee2'] = [70000,5,46]\n",
    "employees_dict['employee3'] = [60000,'female',556]\n",
    "employees_dict['employee4'] = [130000,'',60]\n",
    "employees_dict['employee5'] = [80000,'female',29]\n",
    "employees_dict['employee6'] = [40000,'nb',45]\n",
    "employees_dict['employee7'] = [70000,'male',34]"
   ]
  },
  {
   "cell_type": "code",
   "execution_count": 105,
   "metadata": {
    "slideshow": {
     "slide_type": "subslide"
    }
   },
   "outputs": [],
   "source": [
    "# let's test data first\n",
    "\n",
    "def test_employee_dictionary(input_dict):\n",
    "    # let's iterate through each key-value pair and write tests\n",
    "    for key,value in input_dict.items():\n",
    "        # salary: salary should be positive\n",
    "        if value[0] < 0:\n",
    "            print('salary is negative')\n",
    "            print(key,value)\n",
    "            raise ValueError\n",
    "        # gender should be of character type\n",
    "        if (not(isinstance(value[1], str))):\n",
    "            print('unrecognized gender value')\n",
    "            print(key,value)\n",
    "            raise ValueError\n",
    "        # age should be between 0 and 150\n",
    "        if (value[2] < 0) or (value[2] > 150):\n",
    "            print('age is unrealistic')\n",
    "            print(key,value)\n",
    "            raise ValueError\n",
    "    return\n",
    "\n",
    "test_employee_dictionary(employees_dict)"
   ]
  },
  {
   "cell_type": "code",
   "execution_count": 107,
   "metadata": {
    "slideshow": {
     "slide_type": "slide"
    }
   },
   "outputs": [
    {
     "name": "stdout",
     "output_type": "stream",
     "text": [
      "60000 83333.33333333333\n"
     ]
    }
   ],
   "source": [
    "# let's compare the mean salaries of males and females\n",
    "import statistics\n",
    "\n",
    "def mean_salaries_by_gender(input_dict):\n",
    "    # test the data\n",
    "    test_employee_dictionary(input_dict)\n",
    "    \n",
    "    male_salaries = []\n",
    "    female_salaries = []\n",
    "    for key,value in input_dict.items():\n",
    "        if value[1] == 'male':\n",
    "            male_salaries.append(value[0])\n",
    "        else:\n",
    "            female_salaries.append(value[0])\n",
    "    \n",
    "    mean_male_salary = statistics.mean(male_salaries)\n",
    "    mean_female_salary = statistics.mean(female_salaries)\n",
    "    \n",
    "    return mean_male_salary, mean_female_salary\n",
    "\n",
    "male_sal_flt, female_sal_flt = mean_salaries_by_gender(employees_dict)\n",
    "print(male_sal_flt, female_sal_flt)"
   ]
  },
  {
   "cell_type": "markdown",
   "metadata": {
    "slideshow": {
     "slide_type": "slide"
    }
   },
   "source": [
    "## <center> Congratulations on mastering basic Python! </center>"
   ]
  },
  {
   "cell_type": "markdown",
   "metadata": {
    "slideshow": {
     "slide_type": "slide"
    }
   },
   "source": [
    "# <center> What we learned so far... </center>\n",
    "- Variables\n",
    "- Container types\n",
    "- Control flow\n",
    "- Functions\n",
    "- How to test your code"
   ]
  },
  {
   "cell_type": "markdown",
   "metadata": {
    "slideshow": {
     "slide_type": "slide"
    }
   },
   "source": [
    "# <center> (Boolean Logic), Packages\n",
    "## Objectives\n",
    "- boolean logic\n",
    "- import packages"
   ]
  },
  {
   "cell_type": "markdown",
   "metadata": {},
   "source": [
    "- boolean logic\n",
    "- <font color='LIGHTGRAY'> import packages </font>\n",
    "- <font color='LIGHTGRAY'> describe why the Pandas package is useful</font>\n",
    "- <font color='LIGHTGRAY'> create a dataframe and summarize it </font>\n",
    "- <font color='LIGHTGRAY'> read a CSV file into a Pandas dataframe</font>"
   ]
  },
  {
   "cell_type": "markdown",
   "metadata": {},
   "source": [
    "|Operator\t  |What it means\t             |What it looks like|\n",
    "|-------------|----------------------------|------------------|\n",
    "|`and`        |True if both are true       |x and y           |\n",
    "|`or`         |True if at least one is true|x or y            |\n",
    "|`not`        |True only if false          |not x             |"
   ]
  },
  {
   "cell_type": "markdown",
   "metadata": {},
   "source": [
    "## AND"
   ]
  },
  {
   "cell_type": "code",
   "execution_count": null,
   "metadata": {},
   "outputs": [],
   "source": [
    "print(True and True)\n",
    "print(True and False)\n",
    "print(False and True)\n",
    "print(False and False)"
   ]
  },
  {
   "cell_type": "markdown",
   "metadata": {},
   "source": [
    "## OR"
   ]
  },
  {
   "cell_type": "code",
   "execution_count": null,
   "metadata": {},
   "outputs": [],
   "source": [
    "print(True or True)\n",
    "print(True or False)\n",
    "print(False or True)\n",
    "print(False or False)"
   ]
  },
  {
   "cell_type": "markdown",
   "metadata": {},
   "source": [
    "## NOT"
   ]
  },
  {
   "cell_type": "code",
   "execution_count": null,
   "metadata": {},
   "outputs": [],
   "source": [
    "print(not True)\n",
    "print(not False)"
   ]
  },
  {
   "cell_type": "markdown",
   "metadata": {},
   "source": [
    "## Some more exciting examples..."
   ]
  },
  {
   "cell_type": "code",
   "execution_count": null,
   "metadata": {},
   "outputs": [],
   "source": [
    "print((5 > 3) and (5 < 9))\n",
    "print((5 > 3) and (5 > 9))\n",
    "print((5 < 3) and (5 < 9))\n",
    "print((5 < 3) and (5 > 9))"
   ]
  },
  {
   "cell_type": "code",
   "execution_count": null,
   "metadata": {},
   "outputs": [],
   "source": [
    "print(not((-0.2 > 1.4) and ((0.8 < 3.1) or (0.1 == 0.1))))"
   ]
  },
  {
   "cell_type": "code",
   "execution_count": null,
   "metadata": {},
   "outputs": [],
   "source": [
    "age = 59\n",
    "print((type(age) != float) or (type(age) != int))\n",
    "print((type(age) != float) and (type(age) != int))"
   ]
  },
  {
   "cell_type": "markdown",
   "metadata": {
    "slideshow": {
     "slide_type": "slide"
    }
   },
   "source": [
    "- <font color='LIGHTGRAY'> boolean logic </font>\n",
    "- import packages\n",
    "- <font color='LIGHTGRAY'> describe why the Pandas package is useful</font>\n",
    "- <font color='LIGHTGRAY'> create a dataframe and summarize it </font>\n",
    "- <font color='LIGHTGRAY'> read a CSV file into a Pandas dataframe</font>"
   ]
  },
  {
   "cell_type": "markdown",
   "metadata": {
    "slideshow": {
     "slide_type": "slide"
    }
   },
   "source": [
    "## What are packages\n",
    "- libraries of code\n",
    "- specific to tasks/functions\n",
    "- a lot of common functions are already written by computer scientists and are much faster than you can write\n",
    "- we will be using packages in addition to base Python in the next two weeks"
   ]
  },
  {
   "cell_type": "code",
   "execution_count": null,
   "metadata": {
    "slideshow": {
     "slide_type": "subslide"
    }
   },
   "outputs": [],
   "source": [
    "nums_list = [1,2,3,4,5,10,20,50,200]\n",
    "print(mean(nums_list))"
   ]
  },
  {
   "cell_type": "markdown",
   "metadata": {
    "slideshow": {
     "slide_type": "fragment"
    }
   },
   "source": [
    "### <center> Let's google it!"
   ]
  },
  {
   "cell_type": "code",
   "execution_count": null,
   "metadata": {
    "slideshow": {
     "slide_type": "subslide"
    }
   },
   "outputs": [],
   "source": [
    "import statistics\n",
    "\n",
    "print(statistics.mean(nums_list))"
   ]
  },
  {
   "cell_type": "code",
   "execution_count": null,
   "metadata": {
    "slideshow": {
     "slide_type": "-"
    }
   },
   "outputs": [],
   "source": [
    "help(statistics.mean)"
   ]
  },
  {
   "cell_type": "code",
   "execution_count": null,
   "metadata": {
    "slideshow": {
     "slide_type": "subslide"
    }
   },
   "outputs": [],
   "source": [
    "from statistics import mean\n",
    "\n",
    "print(mean(nums_list))"
   ]
  },
  {
   "cell_type": "code",
   "execution_count": null,
   "metadata": {
    "slideshow": {
     "slide_type": "subslide"
    }
   },
   "outputs": [],
   "source": [
    "import numpy as np\n",
    "\n",
    "print(np.mean(nums_list))"
   ]
  },
  {
   "cell_type": "code",
   "execution_count": null,
   "metadata": {
    "scrolled": true,
    "slideshow": {
     "slide_type": "-"
    }
   },
   "outputs": [],
   "source": [
    "help(np.mean)"
   ]
  }
 ],
 "metadata": {
  "kernelspec": {
   "display_name": "Python 3",
   "language": "python",
   "name": "python3"
  },
  "language_info": {
   "codemirror_mode": {
    "name": "ipython",
    "version": 3
   },
   "file_extension": ".py",
   "mimetype": "text/x-python",
   "name": "python",
   "nbconvert_exporter": "python",
   "pygments_lexer": "ipython3",
   "version": "3.6.7"
  }
 },
 "nbformat": 4,
 "nbformat_minor": 2
}
