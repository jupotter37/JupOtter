{
 "cells": [
  {
   "cell_type": "markdown",
   "metadata": {
    "slideshow": {
     "slide_type": "slide"
    }
   },
   "source": [
    "# 오류\n",
    "\n",
    "- 함수나 메소드가 처리 도중 다음 명령문을 실행할 수 없는 상황\n",
    "- 오류 중 처리가능한 것을 Exception(예외) 라고 한다. 그리고 그 예외를 처리하는 것을 Exception Handling 이라고 한다.\n",
    "\n",
    "![개요](images/ch08_01.png)\n"
   ]
  },
  {
   "cell_type": "markdown",
   "metadata": {
    "slideshow": {
     "slide_type": "slide"
    }
   },
   "source": [
    "## 오류의 종류\n",
    "- **파이썬 문법을 어겨서 발생하는 오류**\n",
    "    - 코드 상 100% 발생하는 오류\n",
    "    - 코드를 수정해야한다.\n",
    "    - 보통 이런 오류는 컴파일 방식 언어의 경우 컴파일 때 에러를 내서 수정하도록 한다.\n",
    "- **실행 환경의 문제로 발생하는 오류**\n",
    "    - 코드상에서는 Exception의 발생여부를 확신할 수 없다.\n",
    "    - 만약 발생할 경우 어떻게 처리할지를 구현해야 한다."
   ]
  },
  {
   "cell_type": "code",
   "execution_count": null,
   "metadata": {
    "slideshow": {
     "slide_type": "fragment"
    }
   },
   "outputs": [],
   "source": []
  },
  {
   "cell_type": "markdown",
   "metadata": {
    "slideshow": {
     "slide_type": "slide"
    }
   },
   "source": [
    "## Exception handling\n",
    "Exception이 발생되어 프로그램이 더 이상 실행될 수 없는 상황을 처리(handling)해서 정상화 시키는 작업을 말한다.  \n",
    "try - except 구문을 이용해 처리한다."
   ]
  },
  {
   "cell_type": "markdown",
   "metadata": {
    "slideshow": {
     "slide_type": "fragment"
    }
   },
   "source": [
    "###  try, except 구문\n",
    "\n",
    "```python\n",
    "try:\n",
    "    Exception 발생가능한 코드 블록\n",
    "except [Exception클래스 이름 [as 변수]] :\n",
    "    처리 코드   \n",
    "```"
   ]
  },
  {
   "cell_type": "code",
   "execution_count": 3,
   "metadata": {},
   "outputs": [
    {
     "name": "stdout",
     "output_type": "stream",
     "text": [
      "시작\n",
      "aa\n"
     ]
    },
    {
     "ename": "ValueError",
     "evalue": "invalid literal for int() with base 10: 'aa'",
     "output_type": "error",
     "traceback": [
      "\u001b[1;31m---------------------------------------------------------------------------\u001b[0m",
      "\u001b[1;31mValueError\u001b[0m                                Traceback (most recent call last)",
      "Cell \u001b[1;32mIn[3], line 4\u001b[0m\n\u001b[0;32m      1\u001b[0m \u001b[38;5;66;03m#try -except\u001b[39;00m\n\u001b[0;32m      3\u001b[0m \u001b[38;5;28mprint\u001b[39m(\u001b[38;5;124m'\u001b[39m\u001b[38;5;124m시작\u001b[39m\u001b[38;5;124m'\u001b[39m)             \u001b[38;5;66;03m#1\u001b[39;00m\n\u001b[1;32m----> 4\u001b[0m num \u001b[38;5;241m=\u001b[39m \u001b[38;5;28mint\u001b[39m(\u001b[38;5;28minput\u001b[39m())        \u001b[38;5;66;03m#2\u001b[39;00m\n\u001b[0;32m      5\u001b[0m result \u001b[38;5;241m=\u001b[39m \u001b[38;5;241m10\u001b[39m \u001b[38;5;241m/\u001b[39m\u001b[38;5;241m/\u001b[39m num        \u001b[38;5;66;03m#3\u001b[39;00m\n\u001b[0;32m      6\u001b[0m \u001b[38;5;28mprint\u001b[39m(\u001b[38;5;124m'\u001b[39m\u001b[38;5;124m결과:\u001b[39m\u001b[38;5;124m'\u001b[39m , result)   \u001b[38;5;66;03m#4\u001b[39;00m\n",
      "\u001b[1;31mValueError\u001b[0m: invalid literal for int() with base 10: 'aa'"
     ]
    }
   ],
   "source": [
    "#try -except\n",
    "\n",
    "print('시작')              #1\n",
    "num = int(input())        #2   2~4는 2가 실행안되면 3, 4실행이 안되는 코드\n",
    "result = 10 // num        #3\n",
    "print('결과:' , result)   #4\n",
    "print(\"프로그램 종료\")    #5   2~5가 실행 안되도 상관없는 코드."
   ]
  },
  {
   "cell_type": "code",
   "execution_count": 5,
   "metadata": {},
   "outputs": [
    {
     "name": "stdout",
     "output_type": "stream",
     "text": [
      "시작\n",
      "aa\n",
      "실행도중 문제 발생.\n",
      "프로그램 종료\n"
     ]
    }
   ],
   "source": [
    "#try -except\n",
    "\n",
    "print('시작')                       #1\n",
    "\n",
    "try:\n",
    "    num = int(input())              #2   2~4는 2가 실행안되면 실행이 안되는 코드\n",
    "    result = 10 // num              #3\n",
    "    print('결과:' , result)         #4\n",
    "except:\n",
    "    print(\"실행도중 문제 발생.\")    #예외처리\n",
    "\n",
    "print(\"프로그램 종료\")              #5   2~5가 실행 안되도 상관없는 코드."
   ]
  },
  {
   "cell_type": "code",
   "execution_count": 6,
   "metadata": {},
   "outputs": [],
   "source": [
    "#m 마크다운 모드\n",
    "#y 코드작성 모드"
   ]
  },
  {
   "cell_type": "markdown",
   "metadata": {},
   "source": [
    "-(exception)예외가 발생하지 않는 경우 실행순서.\n",
    "    -  1  =>  2  =>  3  =>  4 =>  5  ('예외처리'는 실행이 안됨)\n",
    "    \n",
    "-(exception)예외가 발생한 경우(#2에서 발생.)\n",
    "    -  1  =>  2(x)  =>  <예외처리>  =>  5\n",
    "    - 실행이 안된 라인 : 2, 3, 4"
   ]
  },
  {
   "cell_type": "code",
   "execution_count": 17,
   "metadata": {},
   "outputs": [
    {
     "name": "stdout",
     "output_type": "stream",
     "text": [
      "시작\n",
      "sdl\n",
      "실행도중 문제 발생.\n",
      "프로그램 종료\n"
     ]
    }
   ],
   "source": [
    "#try -except\n",
    "\n",
    "print('시작')                       #1\n",
    "\n",
    "try:\n",
    "    num = int(input())              #2   2~4는 2가 실행안되면 실행이 안되는 코드\n",
    "    result = 10 // num              #3\n",
    "    print('결과:' , result)         #4\n",
    "    print(result2)\n",
    "    \n",
    "except ValueError:    #except Exception이름 => Exception 이름의 예외만 처리.\n",
    "    print(\"실행도중 문제 발생.\")    #예외처리\n",
    "except ZeroDivisionError:   #int(input()) => 0 \n",
    "    print(\"실행 도중 ZeroDivisionError 에러 발생\")\n",
    "except:      #위 두개의 Exception을 제외한 나머지 Exception 을 처리하는 Block\n",
    "    print(\"VE, ZDE 이의의 예외가 발생함.\")\n",
    "    \n",
    "print(\"프로그램 종료\")              #5   2~5가 실행 안되도 상관없는 코드."
   ]
  },
  {
   "cell_type": "code",
   "execution_count": 11,
   "metadata": {},
   "outputs": [
    {
     "data": {
      "text/plain": [
       "0"
      ]
     },
     "execution_count": 11,
     "metadata": {},
     "output_type": "execute_result"
    }
   ],
   "source": [
    "int(\"0\")"
   ]
  },
  {
   "cell_type": "code",
   "execution_count": null,
   "metadata": {},
   "outputs": [],
   "source": []
  },
  {
   "cell_type": "markdown",
   "metadata": {
    "slideshow": {
     "slide_type": "fragment"
    }
   },
   "source": [
    "- **try block**\n",
    "    - Exception 발생 가능성 있는 코드와 그 코드와 연결된 코드들을 블록으로 묶는다.\n",
    "        - 연결된 코드란 Exception이 발생 안해야만 실행되는 코드를 말한다.\n",
    "- **except block**\n",
    "    - 발생한 Exception을 처리하는 코드 블록을 작성한다.\n",
    "        - try block의 코드를 실행하다 exception이 발생하면 except block이 실행된다. Exception이 발생하지 않으면 실행되지 않는다.\n",
    "    - try block에서 발생한 모든 Exception을 처리하는 경우 `except:` 로 선언한다.\n",
    "    - try block에서 발생한 특정 Exception만 따로 처리할 경우 `except Exception클래스 이름` 을 선언한다.\n",
    "        - 모든 Exception들은 클래스로 정의 되어 있다. 그 클래스 이름을 적어준다.\n",
    "        - **Exception 들 별로 각각 처리할 수 있으면 이 경우 except 구문(처리구문)을 연속해서 작성하면 된다.**\n",
    "    - try block에서 발생한 특정 Exception만 따로 처리하고 그 Exception이 왜 발생했는지 등의 정보를 사용할 경우 `except Exception 클래스 이름 as 변수명` 으로 선언하고 변수명을 이용해 정보를 조회한다.\n",
    "        "
   ]
  },
  {
   "cell_type": "code",
   "execution_count": null,
   "metadata": {
    "slideshow": {
     "slide_type": "fragment"
    }
   },
   "outputs": [],
   "source": []
  },
  {
   "cell_type": "markdown",
   "metadata": {
    "slideshow": {
     "slide_type": "subslide"
    }
   },
   "source": [
    "### finally 구문\n",
    "\n",
    "- 예외 발생여부, 처리 여부와 관계없이 무조건 실행되는 코드블록\n",
    "    - try 구문에 **반드시 실행되야 하는 코드블록을 작성할때 사용한다.**\n",
    "    - 보통 프로그램이 외부자원과 연결해서 데이터를 주고 받는 작업을 할때 마지막 연결을 종료하는 작업을 finally 블록에 넣는다.\n",
    "- finally 는 except 보다 먼저 올 수 없다.\n",
    "    - 구문순서\n",
    "        1. try - except - finally\n",
    "        1. try - except\n",
    "        1. try - finally"
   ]
  },
  {
   "cell_type": "code",
   "execution_count": 6,
   "metadata": {},
   "outputs": [
    {
     "name": "stdout",
     "output_type": "stream",
     "text": [
      "시작\n",
      "1\n",
      "2\n",
      "3\n",
      "정상코드 - 반드시 실행\n",
      "종료\n"
     ]
    }
   ],
   "source": [
    "print('시작')\n",
    "try:\n",
    "    print(1)\n",
    "    print(2)\n",
    "    print(aaaaaaaaaaa)   #except NameError\n",
    "    a = 10//0\n",
    "except NameError:\n",
    "    print(3)\n",
    "    \n",
    "finally:\n",
    "    print('정상코드 - 반드시 실행')\n",
    "    \n",
    "print('종료')"
   ]
  },
  {
   "cell_type": "code",
   "execution_count": null,
   "metadata": {
    "slideshow": {
     "slide_type": "fragment"
    }
   },
   "outputs": [
    {
     "name": "stdout",
     "output_type": "stream",
     "text": [
      "시작\n"
     ]
    }
   ],
   "source": [
    "#try - except - finally\n",
    "\n",
    "print('시작')                       #1\n",
    "\n",
    "try:\n",
    "    num = int(input())              #2   2~4는 2가 실행안되면 실행이 안되는 코드\n",
    "    result = 10 // num              #3\n",
    "    print('결과:' , result)         #4\n",
    "    print(result2)\n",
    "    \n",
    "except ValueError:          #except Exception이름 => Exception 이름의 예외만 처리.\n",
    "    print(\"실행도중 문제 발생.\")    #예외처리\n",
    "except ZeroDivisionError:   #int(input()) => 0 \n",
    "    print(\"실행 도중 ZeroDivisionError 에러 발생\")\n",
    "except:                     #위 두개의 Exception을 제외한 나머지 Exception 을 처리하는 Block\n",
    "    print(\"VE, ZDE 이의의 예외가 발생함.\")\n",
    "    \n",
    "finally:\n",
    "    print(\"정상코드 - 반드시 실행되야함\")\n",
    "    \n",
    "print(\"프로그램 종료\")              #5   2~5가 실행 안되도 상관없는 코드."
   ]
  },
  {
   "cell_type": "code",
   "execution_count": 3,
   "metadata": {},
   "outputs": [
    {
     "name": "stdout",
     "output_type": "stream",
     "text": [
      "#run.py에서 my_module의 함수 사용.\n",
      "import my_module as mm  #무조건 별칭으로 호출.\n",
      "from my_package import calculator as c\n",
      "print(c.plus(5,6))\n",
      "\n",
      "print(\"__name__:\", __name__)\n",
      "\n",
      "txt = mm.greet(\"홍길동\")\n",
      "print(txt)\n",
      "\n",
      "p = mm.Person(\"이순신\", 30)\n",
      "\n",
      "print(p)\n",
      "\n",
      "txt2 = mm.greet(p.name)\n",
      "print(txt2)\n",
      "#주피터에서 불러오기\n",
      "\n"
     ]
    }
   ],
   "source": [
    "#run.py 파일과 연결해서 그안의 text를 읽기.\n",
    "\n",
    "try:\n",
    "    #1. 파일과 연결. => 사용\n",
    "    fr = open(\"run.py\", encoding = 'UTF-8')\n",
    "    #2. 읽기\n",
    "    txt = fr.read()\n",
    "    print(txt)  #사용\n",
    "    \n",
    "\n",
    "except:\n",
    "    print('처리')\n",
    "    \n",
    "finally:\n",
    "    #3. 연결 끊기. => 사용종료\n",
    "    fr.close()\n",
    "    \n",
    "\n"
   ]
  },
  {
   "cell_type": "markdown",
   "metadata": {
    "slideshow": {
     "slide_type": "slide"
    }
   },
   "source": [
    "## Exception 발생 시키기\n",
    "\n",
    "### 사용자 정의 Exception 클래스 구현\n",
    "\n",
    "- 파이썬은 Exception 상황을 클래스로 정의해 사용한다.\n",
    "    - Exception이 발생하는 상황과 관련된 attribute들과 메소드들을 정의한 클래스\n",
    "    \n",
    "- 구현\n",
    "    - `Exception` 클래스를 **상속받는다.**\n",
    "    - 클래스 이름은 Exception 상황을 설명할 수 있는 이름을 준다.\n",
    "    "
   ]
  },
  {
   "cell_type": "code",
   "execution_count": 17,
   "metadata": {
    "slideshow": {
     "slide_type": "fragment"
    }
   },
   "outputs": [],
   "source": [
    "#월에 1~12 이외의 값이 대입 됬을 때 발생시킬 Exception 클래스 정의\n",
    "\n",
    "class InvalidMonthException(Exception):        #항상 Exception 클래스 상속.\n",
    "    \n",
    "    def __init__(self, invalid_month):   #exception과 관련된 값들을 초기화\n",
    "        self.invalid_month = invalid_month\n",
    "        \n",
    "    def __str__(self):                  #오류 메세지를 문자열로 반환.\n",
    "    \n",
    "        return f\"{self.invalid_month}는 잘못된 월 입니다. 1~12월 사이의 값을 넣으세요\"\n"
   ]
  },
  {
   "cell_type": "markdown",
   "metadata": {
    "slideshow": {
     "slide_type": "slide"
    }
   },
   "source": [
    "### Exception 발생시키기\n",
    "- 함수나 메소드가 더이상 작업을 진행 할 수 없는 조건이 되면 Exception을 강제로 발생시킨다.\n",
    "- **Call Stack Mechanism**\n",
    "    - 발생한 Exception은 처리를 하지 않으면 caller에게 전달된다.\n",
    "        - 발생한 Exception에 대한 처리가 모든 caller에서 안되면 결국 파이썬 실행환경까지 전달되어 프로그램은 비정상적으로 종료 되게 된다."
   ]
  },
  {
   "cell_type": "code",
   "execution_count": 22,
   "metadata": {},
   "outputs": [
    {
     "name": "stdout",
     "output_type": "stream",
     "text": [
      "a시작\n",
      "b시작\n",
      "c시작\n"
     ]
    },
    {
     "ename": "ZeroDivisionError",
     "evalue": "division by zero",
     "output_type": "error",
     "traceback": [
      "\u001b[1;31m---------------------------------------------------------------------------\u001b[0m",
      "\u001b[1;31mZeroDivisionError\u001b[0m                         Traceback (most recent call last)",
      "Cell \u001b[1;32mIn[22], line 18\u001b[0m\n\u001b[0;32m     15\u001b[0m     \u001b[38;5;28mprint\u001b[39m(\u001b[38;5;124m\"\u001b[39m\u001b[38;5;124mc종료\u001b[39m\u001b[38;5;124m\"\u001b[39m)\n\u001b[0;32m     17\u001b[0m \u001b[38;5;28;01mif\u001b[39;00m \u001b[38;5;18m__name__\u001b[39m \u001b[38;5;241m==\u001b[39m\u001b[38;5;124m\"\u001b[39m\u001b[38;5;124m__main__\u001b[39m\u001b[38;5;124m\"\u001b[39m:\n\u001b[1;32m---> 18\u001b[0m     a()\n",
      "Cell \u001b[1;32mIn[22], line 4\u001b[0m, in \u001b[0;36ma\u001b[1;34m()\u001b[0m\n\u001b[0;32m      2\u001b[0m \u001b[38;5;28;01mdef\u001b[39;00m \u001b[38;5;21ma\u001b[39m():\n\u001b[0;32m      3\u001b[0m     \u001b[38;5;28mprint\u001b[39m(\u001b[38;5;124m\"\u001b[39m\u001b[38;5;124ma시작\u001b[39m\u001b[38;5;124m\"\u001b[39m)\n\u001b[1;32m----> 4\u001b[0m     b()\n\u001b[0;32m      5\u001b[0m     \u001b[38;5;28mprint\u001b[39m(\u001b[38;5;124m'\u001b[39m\u001b[38;5;124ma종료\u001b[39m\u001b[38;5;124m'\u001b[39m)\n",
      "Cell \u001b[1;32mIn[22], line 9\u001b[0m, in \u001b[0;36mb\u001b[1;34m()\u001b[0m\n\u001b[0;32m      7\u001b[0m \u001b[38;5;28;01mdef\u001b[39;00m \u001b[38;5;21mb\u001b[39m():\n\u001b[0;32m      8\u001b[0m     \u001b[38;5;28mprint\u001b[39m(\u001b[38;5;124m\"\u001b[39m\u001b[38;5;124mb시작\u001b[39m\u001b[38;5;124m\"\u001b[39m)\n\u001b[1;32m----> 9\u001b[0m     c()\n\u001b[0;32m     10\u001b[0m     \u001b[38;5;28mprint\u001b[39m(\u001b[38;5;124m'\u001b[39m\u001b[38;5;124mb종료\u001b[39m\u001b[38;5;124m'\u001b[39m)\n",
      "Cell \u001b[1;32mIn[22], line 14\u001b[0m, in \u001b[0;36mc\u001b[1;34m()\u001b[0m\n\u001b[0;32m     12\u001b[0m \u001b[38;5;28;01mdef\u001b[39;00m \u001b[38;5;21mc\u001b[39m():\n\u001b[0;32m     13\u001b[0m     \u001b[38;5;28mprint\u001b[39m(\u001b[38;5;124m\"\u001b[39m\u001b[38;5;124mc시작\u001b[39m\u001b[38;5;124m\"\u001b[39m)\n\u001b[1;32m---> 14\u001b[0m     \u001b[38;5;28mprint\u001b[39m(\u001b[38;5;241m1\u001b[39m\u001b[38;5;241m/\u001b[39m\u001b[38;5;241m0\u001b[39m)\n\u001b[0;32m     15\u001b[0m     \u001b[38;5;28mprint\u001b[39m(\u001b[38;5;124m\"\u001b[39m\u001b[38;5;124mc종료\u001b[39m\u001b[38;5;124m\"\u001b[39m)\n",
      "\u001b[1;31mZeroDivisionError\u001b[0m: division by zero"
     ]
    }
   ],
   "source": [
    "#call stack mechanism (콜 스택 메카니즘)\n",
    "def a():\n",
    "    print(\"a시작\")\n",
    "    b()\n",
    "    print('a종료')\n",
    "    \n",
    "def b():\n",
    "    print(\"b시작\")\n",
    "    c()\n",
    "    print('b종료')\n",
    "    \n",
    "def c():\n",
    "    print(\"c시작\")\n",
    "    print(1/0)\n",
    "    print(\"c종료\")\n",
    "    \n",
    "if __name__ ==\"__main__\":\n",
    "    a()"
   ]
  },
  {
   "cell_type": "code",
   "execution_count": 24,
   "metadata": {},
   "outputs": [
    {
     "name": "stdout",
     "output_type": "stream",
     "text": [
      "a시작\n",
      "b시작\n",
      "c시작\n",
      "처리=============\n",
      "b종료\n",
      "a종료\n"
     ]
    }
   ],
   "source": [
    "#call stack mechanism (콜 스택 메카니즘)\n",
    "def a():\n",
    "    print(\"a시작\")\n",
    "    b()\n",
    "    print('a종료')\n",
    "    \n",
    "def b():\n",
    "    print(\"b시작\")\n",
    "    try:\n",
    "        c()\n",
    "    except:\n",
    "        print('처리=============')\n",
    "    print('b종료')\n",
    "    \n",
    "def c():\n",
    "    print(\"c시작\")\n",
    "    print(1/0)        #오류\n",
    "    print(\"c종료\")    #위에서 오류나서 프린트하지 못하고 b()메서드의 c()에서 try-except로 처리\n",
    "    \n",
    "if __name__ ==\"__main__\":\n",
    "    a()"
   ]
  },
  {
   "cell_type": "code",
   "execution_count": 41,
   "metadata": {},
   "outputs": [],
   "source": [
    "#월에 1~12 이외의 값이 대입 됬을 때 발생시킬 Exception 클래스 정의\n",
    "\n",
    "class InvalidMonthException(Exception):        #항상 Exception 클래스 상속.\n",
    "    \n",
    "    def __init__(self, invalid_month):   #exception과 관련된 값들을 초기화\n",
    "        self.invalid_month = invalid_month\n",
    "        \n",
    "    def __str__(self):                  #오류 메세지를 문자열로 반환.\n",
    "    \n",
    "        return f\"{self.invalid_month}는 잘못된 월 입니다. 1~12월 사이의 값을 넣으세요\"\n"
   ]
  },
  {
   "cell_type": "code",
   "execution_count": 42,
   "metadata": {},
   "outputs": [],
   "source": [
    "save_month?"
   ]
  },
  {
   "cell_type": "code",
   "execution_count": 40,
   "metadata": {},
   "outputs": [],
   "source": [
    "def save_month(month):\n",
    "    \"\"\"월을 저장하는 함수입니다.\n",
    "    Parameter :\n",
    "        month : int - 저장할 월 1~12\n",
    "    Return : x\n",
    "    Raise :\n",
    "        InvalidMonthException : 잘못된 월을 받았을때 발생.\n",
    "    \"\"\"\n",
    "    if month <1 or month > 12:\n",
    "#         print(\"저장할 수 없음\")\n",
    "        raise InvalidMonthException(month)  #오류값\n",
    "    print(f\"월로 {month}를 저장합니다.\")\n",
    "\n",
    "def save_day(day):\n",
    "    print(f\"일로 {day}를 저장합니다.\")"
   ]
  },
  {
   "cell_type": "code",
   "execution_count": 44,
   "metadata": {},
   "outputs": [
    {
     "name": "stdout",
     "output_type": "stream",
     "text": [
      "처리 -10는 잘못된 월 입니다. 1~12월 사이의 값을 넣으세요\n",
      "다음작업\n"
     ]
    }
   ],
   "source": [
    "try:\n",
    "    save_month(-10)   #In[38]에서 if month <1 or month > 12: 을 raise로 지정.\n",
    "    save_day(3)\n",
    "except InvalidMonthException as e:    # InvalidMonthException as 변수명\n",
    "                                      # e : 발생된 Exception 객체를 받을 변수명.\n",
    "    \n",
    "    print('처리', e)\n",
    "    \n",
    "print('다음작업')"
   ]
  },
  {
   "cell_type": "code",
   "execution_count": null,
   "metadata": {},
   "outputs": [],
   "source": []
  },
  {
   "cell_type": "code",
   "execution_count": null,
   "metadata": {},
   "outputs": [],
   "source": []
  },
  {
   "cell_type": "code",
   "execution_count": null,
   "metadata": {},
   "outputs": [],
   "source": []
  },
  {
   "cell_type": "markdown",
   "metadata": {
    "slideshow": {
     "slide_type": "subslide"
    }
   },
   "source": [
    "### raise 구문\n",
    "- Exception을 강제로 발생시킨다.\n",
    "    - 업무 규칙을 어겼거나 다음 명령문을 실행할 수 없는 조건이 되면 진행을 멈추고 caller로 요청에게 작업을 처리 못했음을 알리며 돌아가도록 할때 exception을 발생시킨다.\n",
    "    - 구문\n",
    "    ```python\n",
    "        raise Exception객체\n",
    "    ```\n",
    "- **raise와 return**\n",
    "    - 함수나 메소드에서 return과 raise 구문이 실행되면 모두 caller로 돌아간다.\n",
    "    - return은 정상적으로 끝나서 돌아가는 의미이다. 그래서 처리결과가 있으면 그 값을 가지고 돌아간다.\n",
    "        - caller는 그 다음작업을 이어서 하면 된다.\n",
    "    - raise는 실행도중 문제(Exception)가 생겨 비정상적으로 끝나서 돌아가는 의미이다. 그래서 비정상적인 상황 정보를 가지는 Exception객체를 반환값으로 가지고 돌아간다.\n",
    "        - caller는 try - except구문으로 발생한 exception을 처리하여 프로그램을 정상화 하거나 자신도 caller에게 exception을 발생시키는 처리를 한다.\n",
    "        "
   ]
  },
  {
   "cell_type": "code",
   "execution_count": 18,
   "metadata": {},
   "outputs": [
    {
     "ename": "ValueError",
     "evalue": "invalid literal for int() with base 10: 'aaaa'",
     "output_type": "error",
     "traceback": [
      "\u001b[1;31m---------------------------------------------------------------------------\u001b[0m",
      "\u001b[1;31mValueError\u001b[0m                                Traceback (most recent call last)",
      "Cell \u001b[1;32mIn[18], line 1\u001b[0m\n\u001b[1;32m----> 1\u001b[0m \u001b[38;5;28mint\u001b[39m(\u001b[38;5;124m\"\u001b[39m\u001b[38;5;124maaaa\u001b[39m\u001b[38;5;124m\"\u001b[39m)\n",
      "\u001b[1;31mValueError\u001b[0m: invalid literal for int() with base 10: 'aaaa'"
     ]
    }
   ],
   "source": [
    "int(\"aaaa\")   #raise ValueError() 클래스가 실행되는 중"
   ]
  },
  {
   "cell_type": "code",
   "execution_count": 19,
   "metadata": {
    "slideshow": {
     "slide_type": "fragment"
    }
   },
   "outputs": [
    {
     "ename": "InvalidMonthException",
     "evalue": "500는 잘못된 월 입니다. 1~12월 사이의 값을 넣으세요",
     "output_type": "error",
     "traceback": [
      "\u001b[1;31m---------------------------------------------------------------------------\u001b[0m",
      "\u001b[1;31mInvalidMonthException\u001b[0m                     Traceback (most recent call last)",
      "Cell \u001b[1;32mIn[19], line 2\u001b[0m\n\u001b[0;32m      1\u001b[0m \u001b[38;5;66;03m#Exception 발생\u001b[39;00m\n\u001b[1;32m----> 2\u001b[0m \u001b[38;5;28;01mraise\u001b[39;00m InvalidMonthException(\u001b[38;5;241m500\u001b[39m)\n",
      "\u001b[1;31mInvalidMonthException\u001b[0m: 500는 잘못된 월 입니다. 1~12월 사이의 값을 넣으세요"
     ]
    }
   ],
   "source": [
    "#Exception 발생\n",
    "raise InvalidMonthException(500) #exception을 상속받은 객체만 raise 다음으로 온다."
   ]
  },
  {
   "cell_type": "code",
   "execution_count": 20,
   "metadata": {},
   "outputs": [
    {
     "ename": "InvalidMonthException",
     "evalue": "5는 잘못된 월 입니다. 1~12월 사이의 값을 넣으세요",
     "output_type": "error",
     "traceback": [
      "\u001b[1;31m---------------------------------------------------------------------------\u001b[0m",
      "\u001b[1;31mInvalidMonthException\u001b[0m                     Traceback (most recent call last)",
      "Cell \u001b[1;32mIn[20], line 2\u001b[0m\n\u001b[0;32m      1\u001b[0m month \u001b[38;5;241m=\u001b[39m \u001b[38;5;241m5\u001b[39m\n\u001b[1;32m----> 2\u001b[0m \u001b[38;5;28;01mraise\u001b[39;00m InvalidMonthException(month)\n",
      "\u001b[1;31mInvalidMonthException\u001b[0m: 5는 잘못된 월 입니다. 1~12월 사이의 값을 넣으세요"
     ]
    }
   ],
   "source": [
    "month = 5\n",
    "raise InvalidMonthException(month)"
   ]
  }
 ],
 "metadata": {
  "kernelspec": {
   "display_name": "Python 3 (ipykernel)",
   "language": "python",
   "name": "python3"
  },
  "language_info": {
   "codemirror_mode": {
    "name": "ipython",
    "version": 3
   },
   "file_extension": ".py",
   "mimetype": "text/x-python",
   "name": "python",
   "nbconvert_exporter": "python",
   "pygments_lexer": "ipython3",
   "version": "3.11.5"
  },
  "toc": {
   "base_numbering": 1,
   "nav_menu": {},
   "number_sections": true,
   "sideBar": true,
   "skip_h1_title": false,
   "title_cell": "Table of Contents",
   "title_sidebar": "Contents",
   "toc_cell": false,
   "toc_position": {},
   "toc_section_display": true,
   "toc_window_display": false
  },
  "varInspector": {
   "cols": {
    "lenName": 16,
    "lenType": 16,
    "lenVar": 40
   },
   "kernels_config": {
    "python": {
     "delete_cmd_postfix": "",
     "delete_cmd_prefix": "del ",
     "library": "var_list.py",
     "varRefreshCmd": "print(var_dic_list())"
    },
    "r": {
     "delete_cmd_postfix": ") ",
     "delete_cmd_prefix": "rm(",
     "library": "var_list.r",
     "varRefreshCmd": "cat(var_dic_list()) "
    }
   },
   "types_to_exclude": [
    "module",
    "function",
    "builtin_function_or_method",
    "instance",
    "_Feature"
   ],
   "window_display": false
  }
 },
 "nbformat": 4,
 "nbformat_minor": 4
}
