{
 "cells": [
  {
   "cell_type": "markdown",
   "metadata": {},
   "source": [
    "![image.png](Images/exception1.png)"
   ]
  },
  {
   "cell_type": "markdown",
   "metadata": {},
   "source": [
    "![image.png](Images/exception.png)"
   ]
  },
  {
   "cell_type": "markdown",
   "metadata": {},
   "source": [
    "\n",
    "- Every Exception in Python is a class.\n",
    "- All exception classes are child classes of `BaseException`. i.e., every exception class extends `BaseException` either directly or indirectly. Hence, `BaseException` acts as the root for the Python Exception Hierarchy.\n",
    "- Most of the time, programmers focus on `Exception` and its child classes.\n",
    "\n",
    "\n",
    "### Customized Exception Handling by using `try-except`\n",
    "- It is highly recommended to handle exceptions.\n",
    "- The code which may raise exceptions is called **risky code**, and it should be placed inside the `try` block.\n",
    "- The corresponding handling code should be placed inside the `except` block.\n",
    "\n",
    "```python\n",
    "try:\n",
    "    Risky Code\n",
    "except XXX:\n",
    "    Handling code/Alternative Code\n",
    "```\n",
    "\n",
    "\n",
    "### Example: Without `try-except`\n",
    "```python\n",
    "print(\"stmt-1\")\n",
    "print(10/0)\n",
    "print(\"stmt-3\")\n",
    "```\n",
    "\n",
    "### Output\n",
    "```\n",
    "stmt-1\n",
    "ZeroDivisionError: division by zero\n",
    "Abnormal termination/Non-Graceful Termination\n",
    "```\n",
    "\n",
    "\n",
    "## Example: With `try-except`\n",
    "```python\n",
    "print(\"stmt-1\")\n",
    "try:\n",
    "    print(10/0)\n",
    "except ZeroDivisionError:\n",
    "    print(10/2)\n",
    "print(\"stmt-3\")\n",
    "```\n",
    "\n",
    "### Output\n",
    "```\n",
    "stmt-1\n",
    "5.0\n",
    "stmt-3\n",
    "Normal termination/Graceful Termination\n",
    "```\n"
   ]
  },
  {
   "cell_type": "markdown",
   "metadata": {},
   "source": [
    "\n",
    "### Control Flow in `try-except`\n",
    "\n",
    "```python\n",
    "try:\n",
    "    stmt-1\n",
    "    stmt-2\n",
    "    stmt-3\n",
    "except XXX:\n",
    "    stmt-4\n",
    "stmt-5\n",
    "```\n",
    "\n",
    "**Cases**\n",
    "\n",
    "1. **Case-1: If there is no exception**\n",
    "   - Execution: `stmt-1`, `stmt-2`, `stmt-3`, `stmt-5`\n",
    "   - Termination: Normal Termination\n",
    "\n",
    "2. **Case-2: If an exception is raised at `stmt-2` and the corresponding `except` block is matched**\n",
    "   - Execution: `stmt-1`, `stmt-4`, `stmt-5`\n",
    "   - Termination: Normal Termination\n",
    "\n",
    "3. **Case-3: If an exception is raised at `stmt-2` and the corresponding `except` block is not matched**\n",
    "   - Execution: `stmt-1`\n",
    "   - Termination: Abnormal Termination\n",
    "\n",
    "4. **Case-4: If an exception is raised at `stmt-4` or `stmt-5`**\n",
    "   - Termination: Always Abnormal Termination\n",
    "\n",
    "\n",
    "**Conclusions**\n",
    "1. Within the `try` block, if an exception is raised, the rest of the `try` block will not be executed, even if the exception is handled.  \n",
    "   - **Recommendation:** Only include risky code in the `try` block, and keep the block as short as possible.\n",
    "\n",
    "2. Exceptions can also be raised in the `except` or `finally` blocks.\n",
    "\n",
    "3. If an exception is raised outside of the `try` block, it will always result in abnormal termination.\n"
   ]
  },
  {
   "cell_type": "markdown",
   "metadata": {},
   "source": [
    "**Printing Exception Information**\n",
    "\n",
    "```python\n",
    "try:\n",
    "    print(10/0)\n",
    "except ZeroDivisionError as msg:\n",
    "    print(\"Exception raised and its description is:\", msg)\n",
    "```\n",
    "```\n",
    "Exception raised and its description is: division by zero\n",
    "```\n",
    "\n",
    "- The `as msg` syntax is used to capture the exception object.\n",
    "- The exception object contains the description of the error, which can be printed or logged for debugging purposes.\n"
   ]
  },
  {
   "cell_type": "code",
   "execution_count": 1,
   "metadata": {},
   "outputs": [
    {
     "name": "stdout",
     "output_type": "stream",
     "text": [
      "division by zero\n"
     ]
    }
   ],
   "source": [
    "try:\n",
    "    print(10/0)\n",
    "except ZeroDivisionError as msg:\n",
    "    print(msg)"
   ]
  },
  {
   "cell_type": "code",
   "execution_count": 2,
   "metadata": {},
   "outputs": [
    {
     "name": "stdout",
     "output_type": "stream",
     "text": [
      "Exception occured during execution:  ZeroDivisionError\n"
     ]
    }
   ],
   "source": [
    "try:\n",
    "    print(10/0)\n",
    "except ZeroDivisionError as msg:\n",
    "    print(\"Exception occured during execution: \", msg.__class__.__name__)"
   ]
  },
  {
   "cell_type": "code",
   "execution_count": 3,
   "metadata": {},
   "outputs": [
    {
     "name": "stdout",
     "output_type": "stream",
     "text": [
      "Exception occured during execution:  ZeroDivisionError\n"
     ]
    }
   ],
   "source": [
    "try:\n",
    "    print(10/0)\n",
    "except Exception as msg:\n",
    "    print(\"Exception occured during execution: \", msg.__class__.__name__)"
   ]
  },
  {
   "cell_type": "code",
   "execution_count": 4,
   "metadata": {},
   "outputs": [
    {
     "name": "stdout",
     "output_type": "stream",
     "text": [
      "Exception occured during execution:  ValueError\n"
     ]
    }
   ],
   "source": [
    "try:\n",
    "    x=int(input(\"10.4\"))\n",
    "except Exception as msg:\n",
    "    print(\"Exception occured during execution: \", msg.__class__.__name__)"
   ]
  },
  {
   "cell_type": "code",
   "execution_count": null,
   "metadata": {},
   "outputs": [],
   "source": [
    "try:\n",
    "    print(10/0)\n",
    "except ZeroDivisionError as msg:\n",
    "    print(\"Exception occured during execution: \", msg.__class__.__name__)"
   ]
  },
  {
   "cell_type": "code",
   "execution_count": 7,
   "metadata": {},
   "outputs": [
    {
     "name": "stdout",
     "output_type": "stream",
     "text": [
      "invalid literal for int() with base 10: 'r'\n"
     ]
    }
   ],
   "source": [
    "try:\n",
    "    x = int(input(\"Enter first number: \"))\n",
    "    y = int(input(\"Enter second number: \"))\n",
    "except ArithmeticError as e:\n",
    "    print(str(e))\n",
    "except ValueError as e:\n",
    "    print(str(e))    \n",
    "except IndentationError as e:    \n",
    "    print(str(e))\n",
    "except Exception as e:\n",
    "    print(str(e))\n"
   ]
  },
  {
   "cell_type": "code",
   "execution_count": 14,
   "metadata": {},
   "outputs": [
    {
     "name": "stdout",
     "output_type": "stream",
     "text": [
      "Some other exception occurred. Description:\n",
      "IndexError\n",
      "list index out of range\n"
     ]
    }
   ],
   "source": [
    "try:\n",
    "    numbers = [1, 2, 3]\n",
    "    index = int(input(\"Enter an index: \"))\n",
    "    print(\"Value at index:\", numbers[index])\n",
    "# except IndexError as e:\n",
    "#     print(\"Exception raised and its description is:\", str(e))\n",
    "except ValueError as e:\n",
    "    print(\"Invalid input! Exception raised and its description is:\", str(e))\n",
    "except Exception as e:\n",
    "    print(\"Some other exception occurred. Description:\")\n",
    "    print(e.__class__.__name__)\n",
    "    print(str(e))"
   ]
  },
  {
   "cell_type": "code",
   "execution_count": null,
   "metadata": {},
   "outputs": [],
   "source": []
  }
 ],
 "metadata": {
  "kernelspec": {
   "display_name": "Python 3",
   "language": "python",
   "name": "python3"
  },
  "language_info": {
   "codemirror_mode": {
    "name": "ipython",
    "version": 3
   },
   "file_extension": ".py",
   "mimetype": "text/x-python",
   "name": "python",
   "nbconvert_exporter": "python",
   "pygments_lexer": "ipython3",
   "version": "3.12.7"
  }
 },
 "nbformat": 4,
 "nbformat_minor": 2
}
