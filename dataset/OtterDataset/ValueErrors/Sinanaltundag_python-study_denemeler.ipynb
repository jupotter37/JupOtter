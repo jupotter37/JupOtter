{
 "cells": [
  {
   "cell_type": "code",
   "execution_count": 1,
   "metadata": {},
   "outputs": [],
   "source": [
    "# import random\n",
    "# class Employee:\n",
    "\n",
    "#     def __init__(self, first, last, pay):\n",
    "#         self.first = first\n",
    "#         self.last = last\n",
    "#         self.email = first + '.' + last + '@email.com'\n",
    "#         self.pay = pay\n",
    "\n",
    "#     def fullname(self):\n",
    "#         return '{} {}'.format(self.first, self.last)\n",
    "#     def changeEmail(self):\n",
    "#         newEmail = input('Change your email')\n",
    "#         return \"{}_{}@{}\".format(newEmail, random.randbytes(1), \"email.com\")\n",
    "\n",
    "# emp_1 = Employee('Corey', 'Schafer', 50000)\n",
    "# emp_2 = Employee('Test', 'Employee', 60000)"
   ]
  },
  {
   "cell_type": "code",
   "execution_count": 2,
   "metadata": {},
   "outputs": [],
   "source": [
    "# print(emp_1.fullname())"
   ]
  },
  {
   "cell_type": "code",
   "execution_count": 3,
   "metadata": {},
   "outputs": [],
   "source": [
    "# print(emp_1.email)"
   ]
  },
  {
   "cell_type": "code",
   "execution_count": 4,
   "metadata": {},
   "outputs": [],
   "source": [
    "# emp_1.changeEmail()"
   ]
  },
  {
   "cell_type": "code",
   "execution_count": 5,
   "metadata": {},
   "outputs": [],
   "source": [
    "def unluUyumu(word):\n",
    "    if word.find(\"a\"):\n",
    "        print(word)"
   ]
  },
  {
   "cell_type": "code",
   "execution_count": 6,
   "metadata": {},
   "outputs": [
    {
     "name": "stdout",
     "output_type": "stream",
     "text": [
      "kitap\n"
     ]
    }
   ],
   "source": [
    "unluUyumu(\"kitap\")"
   ]
  },
  {
   "cell_type": "code",
   "execution_count": 7,
   "metadata": {},
   "outputs": [],
   "source": [
    "def unluUyumu2(word):\n",
    "    for i in word:\n",
    "        if i==\"a\" or i==\"ı\" or i==\"o\" or i==\"u\":\n",
    "            if i==\"e\" or i==\"i\" or i==\"ö\" or i==\"ü\":\n",
    "                print(\"uyumsuz\")\n",
    "            else:\n",
    "                print(\"uyumlu\")"
   ]
  },
  {
   "cell_type": "code",
   "execution_count": 8,
   "metadata": {},
   "outputs": [
    {
     "name": "stdout",
     "output_type": "stream",
     "text": [
      "uyumlu\n",
      "uyumlu\n",
      "uyumlu\n"
     ]
    }
   ],
   "source": [
    "unluUyumu2(\"okul\")\n",
    "unluUyumu2(\"kitap\")"
   ]
  },
  {
   "cell_type": "code",
   "execution_count": 9,
   "metadata": {},
   "outputs": [
    {
     "name": "stdout",
     "output_type": "stream",
     "text": [
      "akıl uyumlu\n",
      "kitap uyumsuz\n",
      "istanbul uyumsuz\n",
      "ezik uyumlu\n"
     ]
    }
   ],
   "source": [
    "def unluUyumu(word):\n",
    "    if \"a\" in word or \"ı\" in word or \"o\" in word or \"u\" in word:\n",
    "        if \"e\" in word or \"i\" in word or \"ö\" in word or \"ü\" in word:\n",
    "            print(f\"{word} uyumsuz\")\n",
    "        else:\n",
    "            print(f\"{word} uyumlu\")\n",
    "    else:\n",
    "        print(f\"{word} uyumlu\")\n",
    "\n",
    "unluUyumu(\"akıl\")\n",
    "unluUyumu(\"kitap\")\n",
    "unluUyumu(\"istanbul\")\n",
    "unluUyumu(\"ezik\")"
   ]
  },
  {
   "cell_type": "code",
   "execution_count": 10,
   "metadata": {},
   "outputs": [
    {
     "name": "stdout",
     "output_type": "stream",
     "text": [
      "30\n",
      "27\n"
     ]
    }
   ],
   "source": [
    "def sum(list1):\n",
    "    temp =[]\n",
    "    result = 0\n",
    "    for i in range(len(list1)):\n",
    "        if list1[i] == \"C\":\n",
    "            temp.pop()\n",
    "            # print(list1)\n",
    "        elif list1[i] == \"D\":\n",
    "            temp.append(temp[-1]*2)\n",
    "        elif list1[i] == \"+\":\n",
    "            temp.append(temp[-1]+temp[-2])\n",
    "        else:\n",
    "            temp.append(int(list1[i]))\n",
    "    for i in temp:\n",
    "        result += i\n",
    "    return result\n",
    "\n",
    "    \n",
    "\n",
    "print(sum([\"5\",\"2\",\"C\",\"D\", \"+\"]))\n",
    "print(sum([\"5\",\"-2\",\"4\",\"C\", \"D\", \"9\", \"+\", \"+\"]))\n",
    "\n"
   ]
  },
  {
   "cell_type": "code",
   "execution_count": 11,
   "metadata": {},
   "outputs": [
    {
     "ename": "ValueError",
     "evalue": "invalid literal for int() with base 10: ''",
     "output_type": "error",
     "traceback": [
      "\u001b[1;31m---------------------------------------------------------------------------\u001b[0m",
      "\u001b[1;31mValueError\u001b[0m                                Traceback (most recent call last)",
      "\u001b[1;32mc:\\Users\\peyka\\python\\python-study\\clarusway\\exercise\\denemeler.ipynb Cell 11'\u001b[0m in \u001b[0;36m<module>\u001b[1;34m\u001b[0m\n\u001b[1;32m----> <a href='vscode-notebook-cell:/c%3A/Users/peyka/python/python-study/clarusway/exercise/denemeler.ipynb#ch0000010?line=0'>1</a>\u001b[0m \u001b[39mprint\u001b[39m(\u001b[39mint\u001b[39;49m(num1\u001b[39m:=\u001b[39;49m\u001b[39minput\u001b[39;49m())\u001b[39m*\u001b[39m\u001b[39mint\u001b[39m(num2\u001b[39m:=\u001b[39m\u001b[39minput\u001b[39m()))\n",
      "\u001b[1;31mValueError\u001b[0m: invalid literal for int() with base 10: ''"
     ]
    }
   ],
   "source": [
    "print(int(num1:=input())*int(num2:=input()))"
   ]
  },
  {
   "cell_type": "code",
   "execution_count": null,
   "metadata": {},
   "outputs": [],
   "source": [
    "x = [\n",
    " 'a',\n",
    " 'b',\n",
    " {\n",
    " 'foo': 1,\n",
    " 'bar':\n",
    " {\n",
    " 'x' : 10,\n",
    " 'y' : 20,\n",
    " 'z' : 30\n",
    " },\n",
    " 'baz': 3\n",
    " },\n",
    " 'c',\n",
    " 'd'\n",
    "]"
   ]
  },
  {
   "cell_type": "code",
   "execution_count": null,
   "metadata": {},
   "outputs": [
    {
     "data": {
      "text/plain": [
       "30"
      ]
     },
     "execution_count": 7,
     "metadata": {},
     "output_type": "execute_result"
    }
   ],
   "source": [
    "x[2][\"bar\"][\"z\"]"
   ]
  },
  {
   "cell_type": "code",
   "execution_count": null,
   "metadata": {},
   "outputs": [
    {
     "data": {
      "text/plain": [
       "True"
      ]
     },
     "execution_count": 8,
     "metadata": {},
     "output_type": "execute_result"
    }
   ],
   "source": [
    "\"z\" in x[2][\"bar\"]"
   ]
  },
  {
   "cell_type": "code",
   "execution_count": 14,
   "metadata": {},
   "outputs": [
    {
     "name": "stdout",
     "output_type": "stream",
     "text": [
      "[1, 2, 3, 1, 2, 3, 1, 2, 3]\n",
      "[2]\n",
      "[1, 2, 3]\n",
      "False\n",
      "False\n",
      "True\n",
      "False\n",
      "[1, 2, 3, 4, 5, 6]\n"
     ]
    }
   ],
   "source": [
    "nums= [1,2,3]\n",
    "print(nums*3)\n",
    "print(nums and [2])\n",
    "print(nums or [2])\n",
    "print(nums in [2])\n",
    "print([2] in nums)\n",
    "print(2 in nums)\n",
    "print(not 2 in nums)\n",
    "print(nums+[4,5,6])"
   ]
  },
  {
   "cell_type": "code",
   "execution_count": 15,
   "metadata": {},
   "outputs": [
    {
     "name": "stdout",
     "output_type": "stream",
     "text": [
      "True\n",
      "True\n",
      "True\n",
      "True\n"
     ]
    }
   ],
   "source": [
    "kelime=\"deneme123\"\n",
    "\n",
    "print(\"ene\" in kelime)\n",
    "print(\"123\" in kelime)\n",
    "print(not \"124\" in kelime)\n",
    "a=str(123)\n",
    "print(a in kelime)\n"
   ]
  },
  {
   "cell_type": "code",
   "execution_count": 19,
   "metadata": {},
   "outputs": [
    {
     "name": "stdout",
     "output_type": "stream",
     "text": [
      "2\n",
      "['b', 'a', 'h', 'g', 'f', 'e', 'd', 'c', 'b', 'a']\n",
      "['b', 'a', 'h', 'g', 'f', 'e', 'c', 'b', 'a']\n",
      "h\n"
     ]
    }
   ],
   "source": [
    "strList=[\"a\",\"b\",\"c\",\"d\",\"e\",\"f\",\"g\",\"h\",\"a\",\"b\"]\n",
    "print(strList.count(\"a\"))\n",
    "strList.reverse()\n",
    "print(strList)\n",
    "strList.remove(\"d\")\n",
    "print(strList)\n",
    "print(max(strList))\n",
    "\n",
    "\n",
    "\n"
   ]
  },
  {
   "cell_type": "code",
   "execution_count": 21,
   "metadata": {},
   "outputs": [
    {
     "name": "stdout",
     "output_type": "stream",
     "text": [
      "3\n",
      "2\n"
     ]
    }
   ],
   "source": [
    "stmt1=\"bu bir cümle.burada kaç kelime var?\"\n",
    "print(stmt1.count(\"e\"))\n",
    "print(stmt1.count(\"bu\"))"
   ]
  },
  {
   "cell_type": "code",
   "execution_count": null,
   "metadata": {},
   "outputs": [],
   "source": []
  }
 ],
 "metadata": {
  "interpreter": {
   "hash": "37eadf006269a09e83806bee64c447f7a310dadfd7fdb93284a24a7d184fe87a"
  },
  "kernelspec": {
   "display_name": "Python 3.10.2 64-bit",
   "language": "python",
   "name": "python3"
  },
  "language_info": {
   "codemirror_mode": {
    "name": "ipython",
    "version": 3
   },
   "file_extension": ".py",
   "mimetype": "text/x-python",
   "name": "python",
   "nbconvert_exporter": "python",
   "pygments_lexer": "ipython3",
   "version": "3.10.2"
  },
  "orig_nbformat": 4
 },
 "nbformat": 4,
 "nbformat_minor": 2
}
