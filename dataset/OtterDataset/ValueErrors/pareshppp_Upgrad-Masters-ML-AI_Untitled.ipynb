{
 "cells": [
  {
   "cell_type": "code",
   "execution_count": 39,
   "metadata": {},
   "outputs": [
    {
     "name": "stdout",
     "output_type": "stream",
     "text": [
      "invalid\n"
     ]
    }
   ],
   "source": [
    "from IPython.core.debugger import set_trace\n",
    "import re\n",
    "def checkmail(email):\n",
    "    #complete the function\n",
    "    #the function should return the strings \"invalid\" or \"valid\" based on the email ID entered\n",
    "    if (email.count('@') != 1) | (email.count('.') != 1):\n",
    "        return \"invalid\"\n",
    "    \n",
    "    username = email.split('@')[0]\n",
    "    website = email.split('@')[1].split('.')[0]\n",
    "    extension = email.split('@')[1].split('.')[1]\n",
    "    \n",
    "    check_username = re.search('[^a-zA-Z0-9]+', username)\n",
    "    check_website = re.search('[^a-z]+', website)\n",
    "    check_extension = re.search('[^a-z]+', extension)\n",
    "    \n",
    "    check_username = True if check_username is None else False\n",
    "    check_website = True if check_website is None else False\n",
    "    check_extension = True if check_extension is None else False\n",
    "#     set_trace()\n",
    "    if (len(username) > 0) & (len(website) > 0) & (len(extension) in [2, 3]):\n",
    "        if check_username & check_website & check_extension:\n",
    "            return \"valid\"\n",
    "    \n",
    "    return \"invalid\"\n",
    "    \n",
    "email='abc@.gmailcom'\n",
    "print(checkmail(email))"
   ]
  },
  {
   "cell_type": "code",
   "execution_count": 13,
   "metadata": {},
   "outputs": [
    {
     "data": {
      "text/plain": [
       "<re.Match object; span=(1, 2), match='#'>"
      ]
     },
     "execution_count": 13,
     "metadata": {},
     "output_type": "execute_result"
    }
   ],
   "source": [
    "re.search('[^a-zA-Z0-9]+','a#bc')"
   ]
  },
  {
   "cell_type": "code",
   "execution_count": 42,
   "metadata": {},
   "outputs": [
    {
     "ename": "ValueError",
     "evalue": "invalid literal for int() with base 10: '1.2'",
     "output_type": "error",
     "traceback": [
      "\u001b[0;31m---------------------------------------------------------------------------\u001b[0m",
      "\u001b[0;31mValueError\u001b[0m                                Traceback (most recent call last)",
      "\u001b[0;32m<ipython-input-42-b36c460efb9b>\u001b[0m in \u001b[0;36m<module>\u001b[0;34m\u001b[0m\n\u001b[0;32m----> 1\u001b[0;31m \u001b[0mint\u001b[0m\u001b[0;34m(\u001b[0m\u001b[0;34m'1.2'\u001b[0m\u001b[0;34m)\u001b[0m\u001b[0;34m\u001b[0m\u001b[0;34m\u001b[0m\u001b[0m\n\u001b[0m",
      "\u001b[0;31mValueError\u001b[0m: invalid literal for int() with base 10: '1.2'"
     ]
    }
   ],
   "source": [
    "int('1.2')"
   ]
  },
  {
   "cell_type": "code",
   "execution_count": 67,
   "metadata": {},
   "outputs": [
    {
     "data": {
      "text/plain": [
       "(['a', 'c', 'f', 'g', 'i'],\n",
       " {'a': 8, 'b': 3, 'c': 13, 'd': 5, 'e': 3, 'f': 16, 'g': 10, 'h': 7, 'i': 15})"
      ]
     },
     "execution_count": 67,
     "metadata": {},
     "output_type": "execute_result"
    }
   ],
   "source": [
    "import pandas as pd\n",
    "from collections import Counter\n",
    "def frequent_letters(string, n):\n",
    "    count_dict = dict(Counter(string))\n",
    "    df_count = pd.DataFrame.from_dict(count_dict, orient='index')\n",
    "    df_count = df_count.reset_index().rename(columns={'index':'char', 0:'count'})\n",
    "    df_count = df_count.sort_values(['count'], ascending=False).head(n)\n",
    "    return sorted(df_count['char'].unique().tolist()), count_dict\n",
    "frequent_letters('aaaaaaaabbbcccccccccccccdddddeeeffffffffffffffffgggggggggghhhhhhhiiiiiiiiiiiiiii', 5)"
   ]
  },
  {
   "cell_type": "code",
   "execution_count": 72,
   "metadata": {},
   "outputs": [
    {
     "data": {
      "text/plain": [
       "array([[0. , 0.5, 1. ],\n",
       "       [0.5, 1. , 1.5],\n",
       "       [1. , 1.5, 2. ],\n",
       "       [1.5, 2. , 2.5]])"
      ]
     },
     "execution_count": 72,
     "metadata": {},
     "output_type": "execute_result"
    }
   ],
   "source": [
    "import numpy as np\n",
    "def d2_array(x, y):\n",
    "    outarr = np.zeros([x, y])\n",
    "    for i in range(x):\n",
    "        for j in range(y):\n",
    "            outarr[i, j] = (i + j) / 2\n",
    "    return outarr\n",
    "d2_array(4, 3)"
   ]
  },
  {
   "cell_type": "code",
   "execution_count": null,
   "metadata": {},
   "outputs": [],
   "source": []
  }
 ],
 "metadata": {
  "kernelspec": {
   "display_name": "Python 3",
   "language": "python",
   "name": "python3"
  },
  "language_info": {
   "codemirror_mode": {
    "name": "ipython",
    "version": 3
   },
   "file_extension": ".py",
   "mimetype": "text/x-python",
   "name": "python",
   "nbconvert_exporter": "python",
   "pygments_lexer": "ipython3",
   "version": "3.7.4"
  }
 },
 "nbformat": 4,
 "nbformat_minor": 4
}
