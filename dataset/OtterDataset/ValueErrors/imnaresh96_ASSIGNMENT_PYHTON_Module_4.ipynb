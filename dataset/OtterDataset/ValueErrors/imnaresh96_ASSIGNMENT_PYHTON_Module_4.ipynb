{
 "cells": [
  {
   "cell_type": "markdown",
   "id": "b5bc6391",
   "metadata": {},
   "source": [
    "## What is File function in python? What is keywords to create and write file. "
   ]
  },
  {
   "cell_type": "markdown",
   "id": "0e64cf25",
   "metadata": {},
   "source": [
    "#### A file object allows us to use, access and manipulate all the user accessible files. One can read and write any such files.When a file operation fails for an I/O-related reason, the exception IOError is raised."
   ]
  },
  {
   "cell_type": "markdown",
   "id": "77e6fcc1",
   "metadata": {},
   "source": [
    "#### Create and write a  file"
   ]
  },
  {
   "cell_type": "code",
   "execution_count": 12,
   "id": "0d995df8",
   "metadata": {},
   "outputs": [],
   "source": [
    "file_obj=open('module_practice2.txt','x') #creat a file\n",
    "file_obj.write('hello this is demo for write data in file') #write data to the created file\n",
    "file_obj.close()"
   ]
  },
  {
   "cell_type": "code",
   "execution_count": 11,
   "id": "10cffab9",
   "metadata": {},
   "outputs": [],
   "source": []
  },
  {
   "cell_type": "markdown",
   "id": "ee678cfd",
   "metadata": {},
   "source": [
    "## Write a Python program to read an entire text file. "
   ]
  },
  {
   "cell_type": "code",
   "execution_count": 2,
   "id": "de9f15f8",
   "metadata": {},
   "outputs": [
    {
     "name": "stdout",
     "output_type": "stream",
     "text": [
      "hello this is demo for write data in file\n"
     ]
    }
   ],
   "source": [
    "file_obj=open('module_practice.txt')\n",
    "print(file_obj.read())\n",
    "file_obj.close()"
   ]
  },
  {
   "cell_type": "code",
   "execution_count": 13,
   "id": "cdf7ae1a",
   "metadata": {},
   "outputs": [],
   "source": []
  },
  {
   "cell_type": "markdown",
   "id": "dd46afa5",
   "metadata": {},
   "source": [
    "## Write a Python program to append text to a file and display the text."
   ]
  },
  {
   "cell_type": "code",
   "execution_count": 8,
   "id": "44d2ab96",
   "metadata": {},
   "outputs": [
    {
     "name": "stdout",
     "output_type": "stream",
     "text": [
      "hello this is demo for write data in file\n",
      " its use to open and append data to end of file data\n",
      " its use to open and append data to end of file data\n",
      " its use to open and append data to end of file data\n",
      " its use to open and append data to end of file data\n"
     ]
    }
   ],
   "source": [
    "file_obj=open('module_practice.txt','a+')\n",
    "file_obj.write('\\n its use to open and append data to end of file data')\n",
    "file_obj.seek(0)\n",
    "print(file_obj.read())\n",
    "file_obj.close()"
   ]
  },
  {
   "cell_type": "markdown",
   "id": "52316493",
   "metadata": {},
   "source": [
    "## Write a Python program to read first n lines of a file. "
   ]
  },
  {
   "cell_type": "code",
   "execution_count": 10,
   "id": "d590e2d0",
   "metadata": {},
   "outputs": [
    {
     "name": "stdout",
     "output_type": "stream",
     "text": [
      "hello this is demo for write data in file\n",
      "\n"
     ]
    }
   ],
   "source": [
    "file_obj=open('module_practice.txt') ## Bydefault open in read mode\n",
    "print(file_obj.readline())\n",
    "file_obj.close()"
   ]
  },
  {
   "cell_type": "markdown",
   "id": "45dba4dc",
   "metadata": {},
   "source": [
    "## Write a Python program to read last n lines of a file. "
   ]
  },
  {
   "cell_type": "code",
   "execution_count": 3,
   "id": "a99ca356",
   "metadata": {},
   "outputs": [
    {
     "name": "stdout",
     "output_type": "stream",
     "text": [
      "[' its use to open and append data to end of file data']\n"
     ]
    }
   ],
   "source": [
    "file_obj=open('module_practice.txt')\n",
    "last_readline = file_obj.readlines()\n",
    "print(last_readline[-1:])\n",
    "file_obj.close()"
   ]
  },
  {
   "cell_type": "markdown",
   "id": "76a74d09",
   "metadata": {},
   "source": [
    "## Write a Python program to read a file line by line and store it into a list"
   ]
  },
  {
   "cell_type": "code",
   "execution_count": 5,
   "id": "6194da07",
   "metadata": {},
   "outputs": [
    {
     "name": "stdout",
     "output_type": "stream",
     "text": [
      "[['hello this is demo for write data in fileits use to open and append data to end of file data \\n', 'its use to open and append data to end of file data\\n', ' its use to open and append data to end of file data']]\n"
     ]
    }
   ],
   "source": [
    "a=list()\n",
    "file_obj=open('module_practice.txt')\n",
    "a.append(file_obj.readlines())\n",
    "print(a)\n",
    "file_obj.close()"
   ]
  },
  {
   "cell_type": "markdown",
   "id": "589e624c",
   "metadata": {},
   "source": [
    "## Write a Python program to read a file line by line store it into a variable."
   ]
  },
  {
   "cell_type": "code",
   "execution_count": 8,
   "id": "cc0e6b7d",
   "metadata": {},
   "outputs": [
    {
     "name": "stdout",
     "output_type": "stream",
     "text": [
      "hello this is demo for write data in file\n",
      " its use to open and append data to end of file data\n",
      " its use to open and append data to end of file data\n",
      " its use to open and append data to end of file data\n",
      " its use to open and append data to end of file data\n"
     ]
    }
   ],
   "source": [
    "a=file_obj=open('module_practice.txt')\n",
    "b=a.read()\n",
    "print(b)"
   ]
  },
  {
   "cell_type": "code",
   "execution_count": 69,
   "id": "ab6ce220",
   "metadata": {},
   "outputs": [],
   "source": [
    "file_obj.close()"
   ]
  },
  {
   "cell_type": "markdown",
   "id": "c5a5e0a9",
   "metadata": {},
   "source": [
    "## Write a Python program to copy the contents of a file to another file. "
   ]
  },
  {
   "cell_type": "code",
   "execution_count": 7,
   "id": "913aa906",
   "metadata": {},
   "outputs": [
    {
     "name": "stdout",
     "output_type": "stream",
     "text": [
      "hello this is demo for write data in fileits use to open and append data to end of file data \n",
      "its use to open and append data to end of file data\n",
      " its use to open and append data to end of file data\n"
     ]
    }
   ],
   "source": [
    "file_obj=open('module_practice.txt')\n",
    "c=file_obj.read()\n",
    "file_obj.close()\n",
    "file_obj=open('copy_file2.txt','x')\n",
    "file_obj.write(c)\n",
    "file_obj.close()\n",
    "file_obj=open('copy_file.txt')\n",
    "print(file_obj.read())\n",
    "file_obj.close()"
   ]
  },
  {
   "cell_type": "markdown",
   "id": "056551f3",
   "metadata": {},
   "source": [
    "## Write python program that user to enter only odd numbers, else will raise an exception"
   ]
  },
  {
   "cell_type": "code",
   "execution_count": 11,
   "id": "c29ca924",
   "metadata": {},
   "outputs": [
    {
     "name": "stdout",
     "output_type": "stream",
     "text": [
      "Enter A Number: 4\n"
     ]
    },
    {
     "ename": "ValueError",
     "evalue": "Invalid Number",
     "output_type": "error",
     "traceback": [
      "\u001b[1;31m---------------------------------------------------------------------------\u001b[0m",
      "\u001b[1;31mValueError\u001b[0m                                Traceback (most recent call last)",
      "Input \u001b[1;32mIn [11]\u001b[0m, in \u001b[0;36m<cell line: 2>\u001b[1;34m()\u001b[0m\n\u001b[0;32m      4\u001b[0m         \u001b[38;5;28mprint\u001b[39m(\u001b[38;5;124m'\u001b[39m\u001b[38;5;124mOdd Number\u001b[39m\u001b[38;5;124m'\u001b[39m)\n\u001b[0;32m      5\u001b[0m     \u001b[38;5;28;01melse\u001b[39;00m:\n\u001b[1;32m----> 6\u001b[0m         \u001b[38;5;28;01mraise\u001b[39;00m \u001b[38;5;167;01mValueError\u001b[39;00m (\u001b[38;5;124m'\u001b[39m\u001b[38;5;124mInvalid Number\u001b[39m\u001b[38;5;124m'\u001b[39m)\n\u001b[0;32m      7\u001b[0m \u001b[38;5;28;01melse\u001b[39;00m:\n\u001b[0;32m      8\u001b[0m     \u001b[38;5;28;01mraise\u001b[39;00m \u001b[38;5;167;01mTypeError\u001b[39;00m (\u001b[38;5;124m'\u001b[39m\u001b[38;5;124mEnter Only Numeric Value\u001b[39m\u001b[38;5;124m'\u001b[39m)\n",
      "\u001b[1;31mValueError\u001b[0m: Invalid Number"
     ]
    }
   ],
   "source": [
    "num=input('Enter A Number: ')\n",
    "if num.isnumeric():\n",
    "    if int(num)%2!=0:\n",
    "        print('Odd Number')\n",
    "    else:\n",
    "        raise ValueError ('Invalid Number')\n",
    "else:\n",
    "    raise TypeError ('Enter Only Numeric Value')"
   ]
  },
  {
   "cell_type": "markdown",
   "id": "80df0631",
   "metadata": {},
   "source": [
    "## When is the finally block executed?\n",
    "\n",
    "\n",
    "#### The finally keyword is used in try...except blocks. It defines a block of code to run when the try...except...else block is final.\n",
    "\n",
    "#### The finally block will be executed no matter if the try block raises an error or not.\n",
    "\n",
    "#### This can be useful to close objects and clean up resources.\n",
    "\n"
   ]
  },
  {
   "cell_type": "markdown",
   "id": "165279e1",
   "metadata": {},
   "source": [
    "## Can one block of except statements handle multiple exception? "
   ]
  },
  {
   "cell_type": "code",
   "execution_count": 17,
   "id": "b9b55473",
   "metadata": {},
   "outputs": [
    {
     "name": "stdout",
     "output_type": "stream",
     "text": [
      "\n",
      "5\n",
      "invalid literal for int() with base 10: ''\n"
     ]
    }
   ],
   "source": [
    "\n",
    "a=input()\n",
    "b=input()\n",
    "try:\n",
    "    print(int(a)/int(b))\n",
    "except Exception as e:\n",
    "    print(e)"
   ]
  },
  {
   "cell_type": "code",
   "execution_count": 3,
   "id": "06d4b69c",
   "metadata": {},
   "outputs": [
    {
     "name": "stdout",
     "output_type": "stream",
     "text": [
      "5\n",
      "0\n",
      "division by zero\n"
     ]
    }
   ],
   "source": [
    "\n",
    "a=input()\n",
    "b=input()\n",
    "try:\n",
    "    print(int(a)/int(b))\n",
    "except (NameError,ValueError,ZeroDivisionError) as e:\n",
    "    print(e)"
   ]
  },
  {
   "cell_type": "markdown",
   "id": "759b2c5f",
   "metadata": {},
   "source": [
    "## Explain Exception handling? What is an Error in Python?\n",
    "#### An Exception is an error that happens during the execution of a program. Whenever there is an error, Python generates an exception that could be handled. It basically prevents the program from getting crashed.\n",
    "\n",
    "#### Errors are the problems in a program due to which the program will stop the execution. On the other hand, exceptions are raised when some internal events occur which changes the normal flow of the program. "
   ]
  },
  {
   "cell_type": "code",
   "execution_count": null,
   "id": "555171f7",
   "metadata": {},
   "outputs": [],
   "source": []
  },
  {
   "cell_type": "markdown",
   "id": "d1ed0f9e",
   "metadata": {},
   "source": [
    "# When is the finally block executed? \n",
    "\n",
    "### The finally block will be executed no matter if the try block raises an error or not.\n",
    "### This can be useful to close objects and clean up resources.\n",
    "\n"
   ]
  },
  {
   "cell_type": "markdown",
   "id": "b6f09500",
   "metadata": {},
   "source": [
    "# How Do You Handle Exceptions With Try/Except/Finally In Python?Explain with coding snippets\n",
    "\n",
    "### We can specify which exceptions an except clause should catch. A try clause can have any number of except clauses to handle different exceptions, however, only one will be executed in case an exception occurs. We can use a tuple of values to specify multiple exceptions in an except clause."
   ]
  },
  {
   "cell_type": "code",
   "execution_count": 7,
   "id": "ef22fb9e",
   "metadata": {},
   "outputs": [
    {
     "name": "stdout",
     "output_type": "stream",
     "text": [
      "65\n",
      "12\n",
      "38.5\n",
      "final statement\n"
     ]
    }
   ],
   "source": [
    "num=input()\n",
    "num2=input()\n",
    "try:\n",
    "    avg=(int(num)+int(num2))/2\n",
    "except Exception as err:\n",
    "    print(err)\n",
    "finally:\n",
    "    print(avg)\n",
    "    print(\"final statement\")"
   ]
  },
  {
   "cell_type": "markdown",
   "id": "503ae851",
   "metadata": {},
   "source": [
    "## Write a Python program to count the number of lines in a text file. "
   ]
  },
  {
   "cell_type": "code",
   "execution_count": 8,
   "id": "0331029f",
   "metadata": {},
   "outputs": [
    {
     "name": "stdout",
     "output_type": "stream",
     "text": [
      "number of line: 1\n"
     ]
    }
   ],
   "source": [
    "file_obj=open('module_practice.txt')\n",
    "d=file_obj.readlines()\n",
    "k=1+(d.count('/n'))\n",
    "print(f'number of line: {k}')"
   ]
  },
  {
   "cell_type": "code",
   "execution_count": 40,
   "id": "2fd2b2bf",
   "metadata": {},
   "outputs": [
    {
     "data": {
      "text/plain": [
       "3"
      ]
     },
     "execution_count": 40,
     "metadata": {},
     "output_type": "execute_result"
    }
   ],
   "source": [
    "3*1**3"
   ]
  },
  {
   "cell_type": "markdown",
   "id": "7dd706b2",
   "metadata": {},
   "source": [
    "## Write a Python program to write a list to a file. "
   ]
  },
  {
   "cell_type": "code",
   "execution_count": 4,
   "id": "ca95b691",
   "metadata": {},
   "outputs": [
    {
     "name": "stdout",
     "output_type": "stream",
     "text": [
      "apple\n",
      "mango\n",
      "banana\n",
      "\n"
     ]
    }
   ],
   "source": [
    "file_obj=open('newlistdata4','x')\n",
    "a=['apple','mango','banana']\n",
    "for i in a:\n",
    "    file_obj.write(f'{i}\\n')\n",
    "else:\n",
    "    file_obj.close()\n",
    "    file_obj=open('newlistdata4')\n",
    "    print(file_obj.read())\n",
    "    file_obj.close()\n"
   ]
  },
  {
   "cell_type": "markdown",
   "id": "452eb320",
   "metadata": {},
   "source": [
    "# Explain Inheritance in Python with an example?What is init? Or What Is A Constructor In Python? \n",
    "\n",
    "### Inheritance relationship defines the classes that inherit from other classes as derived, subclass, or sub-type classes. Base class remains to be the source from which a subclass inherits. For example, you have a Base class of “Animal,” and a “Lion” is a Derived class. The inheritance will be Lion is an Animal\n",
    ".\n",
    "### The __init__ method is the Python equivalent of the C++ constructor in an object-oriented approach. \n",
    ".\n",
    "### A constructor is a special method in a class used to create and initialize an object of a class."
   ]
  },
  {
   "cell_type": "markdown",
   "id": "a498a822",
   "metadata": {},
   "source": [
    "# Write a python program to find the longest words."
   ]
  },
  {
   "cell_type": "code",
   "execution_count": 1,
   "id": "41a524d6",
   "metadata": {},
   "outputs": [
    {
     "name": "stdout",
     "output_type": "stream",
     "text": [
      "Enter sentence: this is demo for new users\n",
      "Longest word is:  users\n",
      "And its length is:  5\n"
     ]
    }
   ],
   "source": [
    "sentence = input(\"Enter sentence: \")\n",
    "\n",
    "# Finding longest word\n",
    "longest = max(sentence.split(), key=len)\n",
    "\n",
    "# Displaying longest word\n",
    "print(\"Longest word is: \", longest)\n",
    "print(\"And its length is: \", len(longest))"
   ]
  },
  {
   "cell_type": "markdown",
   "id": "95312ade",
   "metadata": {},
   "source": [
    "# Write a Python program to count the number of lines in a text file."
   ]
  },
  {
   "cell_type": "code",
   "execution_count": 2,
   "id": "ce74be16",
   "metadata": {},
   "outputs": [
    {
     "name": "stdout",
     "output_type": "stream",
     "text": [
      "Total Number of lines: 5\n"
     ]
    }
   ],
   "source": [
    "with open(\"module_practice.txt\", 'r') as f:\n",
    "    lines = len(f.readlines())\n",
    "    print('Total Number of lines:', lines)"
   ]
  },
  {
   "cell_type": "markdown",
   "id": "0c9c781a",
   "metadata": {},
   "source": [
    "# What are oops concepts? Is multiple inheritance supported in java"
   ]
  },
  {
   "cell_type": "markdown",
   "id": "265afdad",
   "metadata": {},
   "source": [
    "#### Inheritance is the central point of Object-Oriented Programming. Java supports Multiple types of Inheritance, but Java does not support Multiple Inheritance. In Multiple Inheritance, the subclass inherits more than one Super class. Java Interface would help us in achieving the Multiple Inheritance Program in Java"
   ]
  },
  {
   "cell_type": "markdown",
   "id": "cbbc881b",
   "metadata": {},
   "source": [
    "# How to Define a Class in Python? What Is Self? Give An Example Of A Python Class\n",
    ".\n",
    "#### A class in Python can be defined using the class keyword. self represents the instance of the class. By using the “self” we can access the attributes and methods of the class in python."
   ]
  },
  {
   "cell_type": "code",
   "execution_count": 3,
   "id": "95b81cf7",
   "metadata": {},
   "outputs": [
    {
     "name": "stdout",
     "output_type": "stream",
     "text": [
      "Address of self =  1432835091616\n",
      "Address of class object =  1432835091616\n"
     ]
    }
   ],
   "source": [
    "class check:\n",
    "    def __init__(self):\n",
    "        print(\"Address of self = \",id(self))\n",
    "  \n",
    "obj = check()\n",
    "print(\"Address of class object = \",id(obj))"
   ]
  },
  {
   "cell_type": "markdown",
   "id": "f856028b",
   "metadata": {},
   "source": [
    "# Write a Python class named Rectangle constructed by a length and width and a method which will compute the area of a rectangle"
   ]
  },
  {
   "cell_type": "code",
   "execution_count": 5,
   "id": "b25a99ae",
   "metadata": {},
   "outputs": [
    {
     "name": "stdout",
     "output_type": "stream",
     "text": [
      "210\n"
     ]
    }
   ],
   "source": [
    "class Rectangle():\n",
    "    def __init__(self, l, w):\n",
    "        self.length = l\n",
    "        self.width  = w\n",
    "\n",
    "    def rectangle_area(self):\n",
    "        return self.length*self.width\n",
    "\n",
    "newRectangle = Rectangle(15, 14)\n",
    "print(newRectangle.rectangle_area())"
   ]
  },
  {
   "cell_type": "markdown",
   "id": "95f34a09",
   "metadata": {},
   "source": [
    "# What is used to check whether an object o is an instance of class A?\n",
    ".\n",
    "#### If you need to check the type of an object, it is recommended to use the Python isinstance() function instead. It's because isinstance() function also checks if the given object is an instance of the subclass."
   ]
  },
  {
   "cell_type": "markdown",
   "id": "445a45f7",
   "metadata": {},
   "source": [
    "## Write a Python program to count the frequency of words in a file. "
   ]
  },
  {
   "cell_type": "code",
   "execution_count": 3,
   "id": "42da0395",
   "metadata": {},
   "outputs": [],
   "source": [
    "from collections import Counter\n",
    "def count_word_frequency(file_path):\n",
    "    with open(file_path, \"r\") as file:\n",
    "        file_contents = file.read()\n",
    "        words = file_contents.split()\n",
    "        word_frequency = Counter(words)\n",
    "        return word_frequency"
   ]
  },
  {
   "cell_type": "code",
   "execution_count": 4,
   "id": "fced763c",
   "metadata": {},
   "outputs": [
    {
     "data": {
      "text/plain": [
       "Counter({'hello': 1,\n",
       "         'this': 1,\n",
       "         'is': 1,\n",
       "         'demo': 1,\n",
       "         'for': 1,\n",
       "         'write': 1,\n",
       "         'data': 7,\n",
       "         'in': 1,\n",
       "         'fileits': 1,\n",
       "         'use': 3,\n",
       "         'to': 6,\n",
       "         'open': 3,\n",
       "         'and': 3,\n",
       "         'append': 3,\n",
       "         'end': 3,\n",
       "         'of': 3,\n",
       "         'file': 3,\n",
       "         'its': 2})"
      ]
     },
     "execution_count": 4,
     "metadata": {},
     "output_type": "execute_result"
    }
   ],
   "source": [
    "count_word_frequency(\"copy_file2.txt\")"
   ]
  },
  {
   "cell_type": "markdown",
   "id": "e627277a",
   "metadata": {},
   "source": [
    "## Explain Exception handling? What is an Error in Python? "
   ]
  },
  {
   "cell_type": "markdown",
   "id": "7421c390",
   "metadata": {},
   "source": [
    "#### In general, when a Python script encounters a situation that it cannot cope with, it raises an exception. An exception is a Python object that represents an error. When a Python script raises an exception, it must either handle the exception immediately otherwise it terminates and quits.\n",
    "\n",
    "#### Errors cannot be handled, while Python exceptions can be handled at the run time. An error can be a syntax (parsing) error, while there can be many types of exceptions that could occur during the execution and are not unconditionally inoperable."
   ]
  },
  {
   "cell_type": "markdown",
   "id": "bed33f31",
   "metadata": {},
   "source": [
    "## How many except statements can a try-except block have? Name Some built-in exception classes: "
   ]
  },
  {
   "cell_type": "markdown",
   "id": "587fa67b",
   "metadata": {},
   "source": [
    "#### A try-except block can have one or more except statements to handle different types of exceptions. Each except statement can handle a different type of exception.\n",
    "\n",
    "#### There are many built-in exception classes in Python. Here are some examples:\n",
    "#### ValueError: raised when a function receives an argument of the correct type but an inappropriate value\n",
    "#### TypeError: raised when a function receives an argument of the wrong type\n",
    "#### NameError: raised when an identifier (such as a variable or function name) is not found in the current scope\n",
    "#### ZeroDivisionError: raised when trying to divide a number by zero\n",
    "#### FileNotFoundError: raised when a file is not found at the specified path\n",
    "#### IndexError: raised when trying to access an index that is out of range in a list or other sequence\n",
    "#### KeyError: raised when trying to access a dictionary key that does not exist\n",
    "#### AttributeError: raised when trying to access an attribute that does not exist on an object\n",
    "#### These are just a few examples of the many built-in exception classes in Python."
   ]
  },
  {
   "cell_type": "markdown",
   "id": "955dd3a8",
   "metadata": {},
   "source": [
    "## When will the else part of try-except-else be executed? "
   ]
  },
  {
   "cell_type": "markdown",
   "id": "e04bb5cb",
   "metadata": {},
   "source": [
    "#### The else block in a try-except-else statement in Python is executed when no exception is raised in the try block. It is an optional block that comes after the try and except blocks."
   ]
  },
  {
   "cell_type": "code",
   "execution_count": null,
   "id": "360313c9",
   "metadata": {},
   "outputs": [],
   "source": [
    "try:\n",
    "    # Some code that might raise an exception\n",
    "except SomeException:\n",
    "    # Handle the exception\n",
    "else:\n",
    "    # Execute this block if no exception was raised in the try block"
   ]
  },
  {
   "cell_type": "markdown",
   "id": "8707c296",
   "metadata": {},
   "source": [
    "## Can one block of except statements handle multiple exception? "
   ]
  },
  {
   "cell_type": "code",
   "execution_count": 11,
   "id": "cd96ab68",
   "metadata": {},
   "outputs": [
    {
     "name": "stdout",
     "output_type": "stream",
     "text": [
      "5\n",
      "0\n",
      "division by zero\n"
     ]
    }
   ],
   "source": [
    "a=input()\n",
    "b=input()\n",
    "try:\n",
    "    print(int(a)/int(b))\n",
    "except Exception as e:\n",
    "    print(e)"
   ]
  },
  {
   "cell_type": "markdown",
   "id": "da48818a",
   "metadata": {},
   "source": [
    "## What happens when „1‟== 1 is executed? "
   ]
  },
  {
   "cell_type": "markdown",
   "id": "af24e8c1",
   "metadata": {},
   "source": [
    "#### This is because the == operator checks for equality between the two operands, but it does not automatically convert between different types of values. In this case, the first operand is an integer (1), and the second operand is a string ('1').\n",
    "\n",
    "#### Since the two operands have different types, they are not considered equal. In Python, the value 1 is not the same as the string '1'."
   ]
  },
  {
   "cell_type": "markdown",
   "id": "46edeff0",
   "metadata": {},
   "source": [
    "## How Do You Handle Exceptions With Try/Except/Finally In Python? Explain with coding snippets. "
   ]
  },
  {
   "cell_type": "code",
   "execution_count": 13,
   "id": "7a1492f9",
   "metadata": {},
   "outputs": [
    {
     "name": "stdout",
     "output_type": "stream",
     "text": [
      "5\n",
      "j\n",
      "invalid literal for int() with base 10: 'j'\n",
      "4.0\n",
      "final statement\n"
     ]
    }
   ],
   "source": [
    "num=input()\n",
    "num2=input()\n",
    "try:\n",
    "    avg=(int(num)+int(num2))/2\n",
    "except Exception as err:\n",
    "    print(err)\n",
    "finally:\n",
    "    print(avg)\n",
    "    print(\"final statement\")"
   ]
  },
  {
   "cell_type": "markdown",
   "id": "9d89a755",
   "metadata": {},
   "source": [
    "## Write python program that user to enter only odd numbers, else will raise an exception. "
   ]
  },
  {
   "cell_type": "code",
   "execution_count": 14,
   "id": "fc0bcc4c",
   "metadata": {},
   "outputs": [
    {
     "name": "stdout",
     "output_type": "stream",
     "text": [
      "Please enter an odd number: 6\n",
      "Even numbers are not allowed\n",
      "Please enter an odd number: 5\n"
     ]
    }
   ],
   "source": [
    "while True:\n",
    "    try:\n",
    "        num = int(input(\"Please enter an odd number: \"))\n",
    "        if num % 2 == 0:\n",
    "            raise ValueError(\"Even numbers are not allowed\")\n",
    "        break\n",
    "    except ValueError as e:\n",
    "        print(e)"
   ]
  },
  {
   "cell_type": "markdown",
   "id": "e8497bda",
   "metadata": {},
   "source": [
    "## Write a Python class named Circle constructed by a radius and two methods which will compute the area and the perimeter of a circle "
   ]
  },
  {
   "cell_type": "code",
   "execution_count": 15,
   "id": "ef801668",
   "metadata": {},
   "outputs": [],
   "source": [
    "class Circle:\n",
    "    def __init__(self, radius):\n",
    "        self.radius = radius\n",
    "\n",
    "    def area(self):\n",
    "        return 3.14 * self.radius ** 2\n",
    "\n",
    "    def perimeter(self):\n",
    "        return 2 * 3.14 * self.radius"
   ]
  },
  {
   "cell_type": "markdown",
   "id": "fc384afd",
   "metadata": {},
   "source": [
    "## Explain Inheritance in Python with an example? What is init? Or What Is A Constructor In Python? "
   ]
  },
  {
   "cell_type": "markdown",
   "id": "7b93e1f0",
   "metadata": {},
   "source": [
    "#### Inheritance is a concept in object-oriented programming where a new class can be based on an existing class, inheriting all of its attributes and methods. The new class can then add additional attributes and methods, or modify the existing ones as needed.\n",
    "### inheritance allows us to create classes that build upon the functionality of existing classes, making our code more reusable and easier to maintain."
   ]
  },
  {
   "cell_type": "code",
   "execution_count": 16,
   "id": "640cbfc5",
   "metadata": {},
   "outputs": [],
   "source": [
    "class Animal:\n",
    "    def __init__(self, name):\n",
    "        self.name = name\n",
    "\n",
    "    def speak(self):\n",
    "        print(\"The animal makes a sound\")\n",
    "\n",
    "class Dog(Animal):\n",
    "    def speak(self):\n",
    "        print(\"The dog barks\")\n",
    "\n",
    "class Cat(Animal):\n",
    "    def speak(self):\n",
    "        print(\"The cat meows\")"
   ]
  },
  {
   "cell_type": "markdown",
   "id": "ca9350b1",
   "metadata": {},
   "source": [
    "## What is Instantiation in terms of OOP terminology?\n",
    "\n",
    "#### Instantiation is the process of creating an instance of a class, which is an individual object that contains all the attributes and methods defined by the class. In other words, an instance is a specific realization of a class.\n",
    "\n",
    "#### When a class is defined, it serves as a blueprint for creating objects. Each time a new object is created, it is an instance of that class, and it has its own set of attributes that are separate from any other instances of that class.\n",
    "\n",
    "#### Instantiation is performed in Python by calling the class like a function, with any necessary arguments inside the parentheses. The result of this call is a new instance of the class, which can be assigned to a variable for later use."
   ]
  },
  {
   "cell_type": "markdown",
   "id": "0d006575",
   "metadata": {},
   "source": [
    "## What relationship is appropriate for Course and Faculty?"
   ]
  },
  {
   "cell_type": "markdown",
   "id": "0a824dde",
   "metadata": {},
   "source": [
    "## What relationship is appropriate for Student and Person?\n",
    "\n",
    "### polymorphism"
   ]
  },
  {
   "cell_type": "code",
   "execution_count": null,
   "id": "59d11a69",
   "metadata": {},
   "outputs": [],
   "source": []
  }
 ],
 "metadata": {
  "kernelspec": {
   "display_name": "Python 3 (ipykernel)",
   "language": "python",
   "name": "python3"
  },
  "language_info": {
   "codemirror_mode": {
    "name": "ipython",
    "version": 3
   },
   "file_extension": ".py",
   "mimetype": "text/x-python",
   "name": "python",
   "nbconvert_exporter": "python",
   "pygments_lexer": "ipython3",
   "version": "3.9.12"
  },
  "vscode": {
   "interpreter": {
    "hash": "2043299c89c8cd0b4d1a6f5cf4529bd58e6a4e0fe3181a25e0d328c821cdc5c5"
   }
  }
 },
 "nbformat": 4,
 "nbformat_minor": 5
}
