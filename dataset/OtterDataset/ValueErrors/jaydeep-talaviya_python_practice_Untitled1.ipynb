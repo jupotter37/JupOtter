{
 "cells": [
  {
   "cell_type": "code",
   "execution_count": 1,
   "metadata": {},
   "outputs": [
    {
     "name": "stdout",
     "output_type": "stream",
     "text": [
      "1234\n",
      "123\n",
      "12\n",
      "1\n"
     ]
    }
   ],
   "source": [
    "for i in reversed(range(1,5)):\n",
    "    for j in range(1,i+1):\n",
    "        print(j,end='')\n",
    "    print()"
   ]
  },
  {
   "cell_type": "code",
   "execution_count": 80,
   "metadata": {},
   "outputs": [
    {
     "name": "stdout",
     "output_type": "stream",
     "text": [
      "1234\n",
      "234\n",
      "34\n",
      "4\n"
     ]
    }
   ],
   "source": [
    "for i in range(1,5):\n",
    "    for j in range(i,5):\n",
    "        print(j,end='')\n",
    "    print()"
   ]
  },
  {
   "cell_type": "code",
   "execution_count": 100,
   "metadata": {},
   "outputs": [],
   "source": [
    "l=[1,2,3,4,5]\n",
    "l=l[0:2]+l[3:]# second index which is 3 is removed"
   ]
  },
  {
   "cell_type": "code",
   "execution_count": 101,
   "metadata": {},
   "outputs": [
    {
     "data": {
      "text/plain": [
       "[1, 2, 4, 5]"
      ]
     },
     "execution_count": 101,
     "metadata": {},
     "output_type": "execute_result"
    }
   ],
   "source": [
    "l"
   ]
  },
  {
   "cell_type": "code",
   "execution_count": 94,
   "metadata": {},
   "outputs": [
    {
     "name": "stdout",
     "output_type": "stream",
     "text": [
      "1 and 5\n"
     ]
    }
   ],
   "source": [
    "print(l[0],\"and\",l[4])"
   ]
  },
  {
   "cell_type": "code",
   "execution_count": 97,
   "metadata": {},
   "outputs": [
    {
     "data": {
      "text/plain": [
       "3"
      ]
     },
     "execution_count": 97,
     "metadata": {},
     "output_type": "execute_result"
    }
   ],
   "source": [
    "Lambda Functions (Anonymous Functions)l[2]"
   ]
  },
  {
   "cell_type": "code",
   "execution_count": 98,
   "metadata": {},
   "outputs": [],
   "source": [
    "l=l[0:2]+l[3:]"
   ]
  },
  {
   "cell_type": "code",
   "execution_count": 99,
   "metadata": {},
   "outputs": [
    {
     "data": {
      "text/plain": [
       "[1, 2, 4, 5]"
      ]
     },
     "execution_count": 99,
     "metadata": {},
     "output_type": "execute_result"
    }
   ],
   "source": [
    "l"
   ]
  },
  {
   "cell_type": "code",
   "execution_count": 5,
   "metadata": {},
   "outputs": [
    {
     "name": "stdout",
     "output_type": "stream",
     "text": [
      "1\n"
     ]
    },
    {
     "ename": "TypeError",
     "evalue": "object of type 'type' has no len()",
     "output_type": "error",
     "traceback": [
      "\u001b[0;31m---------------------------------------------------------------------------\u001b[0m",
      "\u001b[0;31mTypeError\u001b[0m                                 Traceback (most recent call last)",
      "\u001b[0;32m<ipython-input-5-90ba417497e4>\u001b[0m in \u001b[0;36m<module>\u001b[0;34m\u001b[0m\n\u001b[1;32m      2\u001b[0m     \u001b[0mn\u001b[0m \u001b[0;34m=\u001b[0m \u001b[0mint\u001b[0m\u001b[0;34m(\u001b[0m\u001b[0minput\u001b[0m\u001b[0;34m(\u001b[0m\u001b[0;34m)\u001b[0m\u001b[0;34m)\u001b[0m\u001b[0;34m\u001b[0m\u001b[0;34m\u001b[0m\u001b[0m\n\u001b[1;32m      3\u001b[0m \u001b[0;34m\u001b[0m\u001b[0m\n\u001b[0;32m----> 4\u001b[0;31m     \u001b[0minteger_list\u001b[0m \u001b[0;34m=\u001b[0m \u001b[0mlist\u001b[0m\u001b[0;34m(\u001b[0m\u001b[0mmap\u001b[0m\u001b[0;34m(\u001b[0m\u001b[0mlen\u001b[0m\u001b[0;34m(\u001b[0m\u001b[0mint\u001b[0m\u001b[0;34m)\u001b[0m\u001b[0;34m,\u001b[0m \u001b[0minput\u001b[0m\u001b[0;34m(\u001b[0m\u001b[0;34m)\u001b[0m\u001b[0;34m.\u001b[0m\u001b[0msplit\u001b[0m\u001b[0;34m(\u001b[0m\u001b[0;34m)\u001b[0m\u001b[0;34m)\u001b[0m\u001b[0;34m)\u001b[0m\u001b[0;34m\u001b[0m\u001b[0;34m\u001b[0m\u001b[0m\n\u001b[0m\u001b[1;32m      5\u001b[0m     \u001b[0mt\u001b[0m\u001b[0;34m=\u001b[0m\u001b[0mtuple\u001b[0m\u001b[0;34m(\u001b[0m\u001b[0minteger_list\u001b[0m\u001b[0;34m)\u001b[0m\u001b[0;34m\u001b[0m\u001b[0;34m\u001b[0m\u001b[0m\n\u001b[1;32m      6\u001b[0m \u001b[0mhash\u001b[0m\u001b[0;34m(\u001b[0m\u001b[0mt\u001b[0m\u001b[0;34m)\u001b[0m\u001b[0;34m\u001b[0m\u001b[0;34m\u001b[0m\u001b[0m\n",
      "\u001b[0;31mTypeError\u001b[0m: object of type 'type' has no len()"
     ]
    }
   ],
   "source": [
    "if __name__ == '__main__':\n",
    "    n = int(input())\n",
    "     \n",
    "    integer_list = list(map(len(int), input().split()))\n",
    "    t=tuple(integer_list)\n",
    "hash(t)\n"
   ]
  },
  {
   "cell_type": "code",
   "execution_count": 7,
   "metadata": {},
   "outputs": [
    {
     "name": "stdout",
     "output_type": "stream",
     "text": [
      "5\n",
      "push 1\n",
      "print\n",
      "[]\n",
      "append 1\n",
      "print\n",
      "[1]\n",
      "reverse\n"
     ]
    }
   ],
   "source": [
    "if __name__ == '__main__':\n",
    "    l=[]\n",
    "    N = int(input())\n",
    "    for i in range(N):\n",
    "        s=input().split()\n",
    "        for i in range(1,len(s)):\n",
    "            s[i]=int(s[i])\n",
    "        if s[0]=='append':\n",
    "            l.append(s[1])\n",
    "        elif s[0] == \"extend\":    \n",
    "            l.extend(s[1:])\n",
    "        elif s[0] == \"insert\":\n",
    "            l.insert(s[1],s[2])\n",
    "        elif s[0] == \"remove\":\n",
    "                l.remove(s[1])\n",
    "        elif s[0] == \"pop\":\n",
    "            l.pop()\n",
    "        elif s[0] == \"index\":\n",
    "            print(l.index(s[1]))\n",
    "        elif s[0] == \"count\":\n",
    "            print(l.count(s[1]))\n",
    "        elif s[0] == \"sort\":\n",
    "            l.sort()\n",
    "        elif s[0] == \"reverse\":\n",
    "            l.reverse()\n",
    "        elif s[0] == \"print\":\n",
    "            print(l) "
   ]
  },
  {
   "cell_type": "code",
   "execution_count": 65,
   "metadata": {},
   "outputs": [
    {
     "name": "stdout",
     "output_type": "stream",
     "text": [
      "ThIsisCoNfUsInG\n",
      "is\n",
      "1\n",
      "None\n"
     ]
    }
   ],
   "source": [
    "def count_substring(string, sub_string):\n",
    "    count = 0\n",
    "    for i in range(len(string) - len(sub_string) + 1):\n",
    "        if string[i:i+len(sub_string)] == sub_string:\n",
    "            count += 1\n",
    "    return count\n",
    "    \n",
    "\n",
    "\n",
    "if __name__ == '__main__':\n",
    "    string = input().strip()\n",
    "    sub_string = input().strip()\n",
    "    \n",
    "    count = count_substring(string, sub_string)\n",
    "    print(count)"
   ]
  },
  {
   "cell_type": "code",
   "execution_count": 39,
   "metadata": {},
   "outputs": [],
   "source": [
    "s=\"ABCDCDC\"\n",
    "subs=\"CDC\""
   ]
  },
  {
   "cell_type": "code",
   "execution_count": 87,
   "metadata": {},
   "outputs": [
    {
     "name": "stdout",
     "output_type": "stream",
     "text": [
      "q2A\n",
      "True\n",
      "True\n",
      "True\n",
      "True\n",
      "True\n"
     ]
    }
   ],
   "source": [
    "if __name__ == '__main__':\n",
    "    s = input()\n",
    "    isalphanum=[]\n",
    "    isalphas=[]\n",
    "    isdigits=[]\n",
    "    islowers=[]\n",
    "    isuppers=[]\n",
    "    for i in s:\n",
    "        if i.isalnum():\n",
    "            isalphanum.append(True)\n",
    "        else:\n",
    "            isalphanum.append(False)\n",
    "        if i.isalpha():\n",
    "            isalphas.append(True)\n",
    "        else:\n",
    "            isalphas.append(False)\n",
    "        if i.isdigit():\n",
    "            isdigits.append(True)\n",
    "        else:\n",
    "            isdigits.append(False)\n",
    "        if i.islower():\n",
    "            islowers.append(True)\n",
    "        else:\n",
    "            islowers.append(False)\n",
    "        if i.isupper():\n",
    "            isuppers.append(True)\n",
    "        else:\n",
    "            isuppers.append(False)\n",
    "    print(any(isalphanum))\n",
    "    print(any(isalphas))\n",
    "    print(any(isdigits))\n",
    "    print(any(islowers))\n",
    "    print(any(isuppers))\n",
    "#     print(s.isalnum())\n",
    "#     print(s.isalpha())\n",
    "#     print(s.isdigit())\n",
    "#     print(s.islower())\n",
    "#     print(s.isupper())"
   ]
  },
  {
   "cell_type": "code",
   "execution_count": 81,
   "metadata": {},
   "outputs": [
    {
     "data": {
      "text/plain": [
       "True"
      ]
     },
     "execution_count": 81,
     "metadata": {},
     "output_type": "execute_result"
    }
   ],
   "source": [
    "any((True,False,True))"
   ]
  },
  {
   "cell_type": "code",
   "execution_count": 3,
   "metadata": {},
   "outputs": [
    {
     "name": "stdout",
     "output_type": "stream",
     "text": [
      "abcd\n",
      "absdf\n"
     ]
    },
    {
     "ename": "ValueError",
     "evalue": "invalid literal for int() with base 10: 'absdf'",
     "output_type": "error",
     "traceback": [
      "\u001b[0;31m---------------------------------------------------------------------------\u001b[0m",
      "\u001b[0;31mValueError\u001b[0m                                Traceback (most recent call last)",
      "Input \u001b[0;32mIn [3]\u001b[0m, in \u001b[0;36m<cell line: 8>\u001b[0;34m()\u001b[0m\n\u001b[1;32m      5\u001b[0m     \u001b[38;5;28mprint\u001b[39m(res)\n\u001b[1;32m      8\u001b[0m \u001b[38;5;28;01mif\u001b[39;00m \u001b[38;5;18m__name__\u001b[39m \u001b[38;5;241m==\u001b[39m \u001b[38;5;124m'\u001b[39m\u001b[38;5;124m__main__\u001b[39m\u001b[38;5;124m'\u001b[39m:\n\u001b[0;32m----> 9\u001b[0m     string, max_width \u001b[38;5;241m=\u001b[39m \u001b[38;5;28minput\u001b[39m(), \u001b[38;5;28;43mint\u001b[39;49m\u001b[43m(\u001b[49m\u001b[38;5;28;43minput\u001b[39;49m\u001b[43m(\u001b[49m\u001b[43m)\u001b[49m\u001b[43m)\u001b[49m\n\u001b[1;32m     10\u001b[0m     result \u001b[38;5;241m=\u001b[39m wrap(string, max_width)\n",
      "\u001b[0;31mValueError\u001b[0m: invalid literal for int() with base 10: 'absdf'"
     ]
    }
   ],
   "source": [
    "import textwrap\n",
    "\n",
    "def wrap(string, max_width):\n",
    "    res=textwrap.fill(string,max_width)\n",
    "    print(res)\n",
    "\n",
    "    \n",
    "if __name__ == '__main__':\n",
    "    string, max_width = input(), int(input())\n",
    "    result = wrap(string, max_width)\n"
   ]
  },
  {
   "cell_type": "code",
   "execution_count": 4,
   "metadata": {},
   "outputs": [
    {
     "name": "stdout",
     "output_type": "stream",
     "text": [
      "abcd\n",
      "defg\n",
      "high\n"
     ]
    }
   ],
   "source": [
    "l=['abcd','defg','high']\n",
    "\n",
    "\" \".join(l)\n",
    "print(textwrap.fill(\" \".join(l),8))"
   ]
  },
  {
   "cell_type": "code",
   "execution_count": 5,
   "metadata": {},
   "outputs": [
    {
     "name": "stdout",
     "output_type": "stream",
     "text": [
      "4\n",
      "9\n"
     ]
    }
   ],
   "source": [
    "def square(x,y):\n",
    "    return x*x, y*y\n",
    "\n",
    "xsq, ysq = square(2,3)\n",
    "print(xsq)  # Prints 4\n",
    "print(ysq)  # Prints 9 "
   ]
  },
  {
   "cell_type": "code",
   "execution_count": 137,
   "metadata": {},
   "outputs": [
    {
     "name": "stdout",
     "output_type": "stream",
     "text": [
      "2\n",
      "Circle 2\n"
     ]
    },
    {
     "ename": "ValueError",
     "evalue": "invalid shape type",
     "output_type": "error",
     "traceback": [
      "\u001b[1;31m---------------------------------------------------------------------------\u001b[0m",
      "\u001b[1;31mValueError\u001b[0m                                Traceback (most recent call last)",
      "\u001b[1;32m<ipython-input-137-b4e3ca5705b8>\u001b[0m in \u001b[0;36m<module>\u001b[1;34m\u001b[0m\n\u001b[0;32m     36\u001b[0m             \u001b[0mshape\u001b[0m \u001b[1;33m=\u001b[0m \u001b[0mCircle\u001b[0m\u001b[1;33m(\u001b[0m\u001b[0mr\u001b[0m\u001b[1;33m)\u001b[0m\u001b[1;33m\u001b[0m\u001b[1;33m\u001b[0m\u001b[0m\n\u001b[0;32m     37\u001b[0m         \u001b[1;32melse\u001b[0m\u001b[1;33m:\u001b[0m\u001b[1;33m\u001b[0m\u001b[1;33m\u001b[0m\u001b[0m\n\u001b[1;32m---> 38\u001b[1;33m             \u001b[1;32mraise\u001b[0m \u001b[0mValueError\u001b[0m\u001b[1;33m(\u001b[0m\u001b[1;34m\"invalid shape type\"\u001b[0m\u001b[1;33m)\u001b[0m\u001b[1;33m\u001b[0m\u001b[1;33m\u001b[0m\u001b[0m\n\u001b[0m\u001b[0;32m     39\u001b[0m         \u001b[0mfptr\u001b[0m\u001b[1;33m.\u001b[0m\u001b[0mwrite\u001b[0m\u001b[1;33m(\u001b[0m\u001b[1;34m\"%.2f\\n\"\u001b[0m \u001b[1;33m%\u001b[0m \u001b[0mshape\u001b[0m\u001b[1;33m.\u001b[0m\u001b[0marea\u001b[0m\u001b[1;33m(\u001b[0m\u001b[1;33m)\u001b[0m\u001b[1;33m)\u001b[0m\u001b[1;33m\u001b[0m\u001b[1;33m\u001b[0m\u001b[0m\n\u001b[0;32m     40\u001b[0m     \u001b[0mfptr\u001b[0m\u001b[1;33m.\u001b[0m\u001b[0mclose\u001b[0m\u001b[1;33m(\u001b[0m\u001b[1;33m)\u001b[0m\u001b[1;33m\u001b[0m\u001b[1;33m\u001b[0m\u001b[0m\n",
      "\u001b[1;31mValueError\u001b[0m: invalid shape type"
     ]
    }
   ],
   "source": [
    "#!/bin/python3\n",
    "\n",
    "import math\n",
    "import os\n",
    "import random\n",
    "import re\n",
    "import sys\n",
    "\n",
    "\n",
    "class Rectangle:\n",
    "    def __init__(self,a,b):\n",
    "        self.a=a\n",
    "        self.b=b\n",
    "    def area(self):\n",
    "        return 2(self.a*self.b)\n",
    "\n",
    "class Circle:\n",
    "    def __init__(self,r):\n",
    "        self.r=r\n",
    "    \n",
    "    def area(self):\n",
    "        return 2(self.r*self.r)\n",
    "\n",
    "if __name__ == '__main__':  \n",
    "#     fptr = open(os.environ['OUTPUT_PATH'], 'w')\n",
    "    q = int(input())\n",
    "    queries = []\n",
    "    for _ in range(q):\n",
    "        args = input().split()\n",
    "        shape_name, params = args[0], tuple(map(int, args[1:]))\n",
    "        if shape_name == \"rectangle\":\n",
    "            a, b = params[0], params[1]\n",
    "            shape = Rectangle(a, b)\n",
    "        elif shape_name == \"circle\":\n",
    "            r = params[0]\n",
    "            shape = Circle(r)\n",
    "        else:\n",
    "            raise ValueError(\"invalid shape type\")\n",
    "        fptr.write(\"%.2f\\n\" % shape.area())\n",
    "    fptr.close()\n"
   ]
  },
  {
   "cell_type": "code",
   "execution_count": 139,
   "metadata": {},
   "outputs": [
    {
     "name": "stdout",
     "output_type": "stream",
     "text": [
      "2\n",
      "Car 120 km/h\n"
     ]
    },
    {
     "ename": "ValueError",
     "evalue": "invalid vehicle type",
     "output_type": "error",
     "traceback": [
      "\u001b[1;31m---------------------------------------------------------------------------\u001b[0m",
      "\u001b[1;31mValueError\u001b[0m                                Traceback (most recent call last)",
      "\u001b[1;32m<ipython-input-139-4642e513251d>\u001b[0m in \u001b[0;36m<module>\u001b[1;34m\u001b[0m\n\u001b[0;32m     34\u001b[0m             \u001b[0mvehicle\u001b[0m \u001b[1;33m=\u001b[0m \u001b[0mBoat\u001b[0m\u001b[1;33m(\u001b[0m\u001b[0mmax_speed\u001b[0m\u001b[1;33m)\u001b[0m\u001b[1;33m\u001b[0m\u001b[1;33m\u001b[0m\u001b[0m\n\u001b[0;32m     35\u001b[0m         \u001b[1;32melse\u001b[0m\u001b[1;33m:\u001b[0m\u001b[1;33m\u001b[0m\u001b[1;33m\u001b[0m\u001b[0m\n\u001b[1;32m---> 36\u001b[1;33m             \u001b[1;32mraise\u001b[0m \u001b[0mValueError\u001b[0m\u001b[1;33m(\u001b[0m\u001b[1;34m\"invalid vehicle type\"\u001b[0m\u001b[1;33m)\u001b[0m\u001b[1;33m\u001b[0m\u001b[1;33m\u001b[0m\u001b[0m\n\u001b[0m\u001b[0;32m     37\u001b[0m         \u001b[0mfptr\u001b[0m\u001b[1;33m.\u001b[0m\u001b[0mwrite\u001b[0m\u001b[1;33m(\u001b[0m\u001b[1;34m\"%s\\n\"\u001b[0m \u001b[1;33m%\u001b[0m \u001b[0mvehicle\u001b[0m\u001b[1;33m)\u001b[0m\u001b[1;33m\u001b[0m\u001b[1;33m\u001b[0m\u001b[0m\n\u001b[0;32m     38\u001b[0m     \u001b[0mfptr\u001b[0m\u001b[1;33m.\u001b[0m\u001b[0mclose\u001b[0m\u001b[1;33m(\u001b[0m\u001b[1;33m)\u001b[0m\u001b[1;33m\u001b[0m\u001b[1;33m\u001b[0m\u001b[0m\n",
      "\u001b[1;31mValueError\u001b[0m: invalid vehicle type"
     ]
    }
   ],
   "source": [
    "#!/bin/python3\n",
    "\n",
    "import math\n",
    "import os\n",
    "import random\n",
    "import re\n",
    "import sys\n",
    "\n",
    "\n",
    "class Car:\n",
    "    def __init__(self,max_speed,speed_unit):\n",
    "        self.max_speed=max_speed\n",
    "        self.speed_unit=speed_unit\n",
    "    def speeds(self):\n",
    "        return \"Car with the maximum speed of {0} {1}\".format(self.max_speed,self.speed_unit)\n",
    "\n",
    "class Boat:\n",
    "    def __init__(self,max_speed):\n",
    "        self.max_speed=max_speed\n",
    "    def speeds(self):\n",
    "        return \"Boat with the maximum speed of {0} knots\".format(self.max_speed)\n",
    "\n",
    "if __name__ == '__main__':\n",
    "    q = int(input())\n",
    "    queries = []\n",
    "    for _ in range(q):\n",
    "        args = input().split()\n",
    "        vehicle_type, params = args[0], args[1:]\n",
    "        if vehicle_type == \"car\":\n",
    "            max_speed, speed_unit = int(params[0]), params[1]\n",
    "            vehicle = Car(max_speed, speed_unit)\n",
    "        elif vehicle_type == \"boat\":\n",
    "            max_speed = int(params[0])\n",
    "            vehicle = Boat(max_speed)\n",
    "        else:\n",
    "            raise ValueError(\"invalid vehicle type\")\n",
    "        fptr.write(\"%s\\n\" % vehicle)\n",
    "    fptr.close()\n"
   ]
  },
  {
   "cell_type": "code",
   "execution_count": 6,
   "metadata": {},
   "outputs": [],
   "source": [
    "li=['abc','bds','xyz','pqr']"
   ]
  },
  {
   "cell_type": "code",
   "execution_count": 15,
   "metadata": {},
   "outputs": [
    {
     "name": "stdout",
     "output_type": "stream",
     "text": [
      "['apple', 'apple', 'banana', 'orange', 'apple']\n"
     ]
    }
   ],
   "source": [
    "import numpy as np\n",
    "choice=np.random.choice(['lemon','orange','apple','banana'],5)\n",
    "print(choice.tolist())"
   ]
  },
  {
   "cell_type": "code",
   "execution_count": 16,
   "metadata": {},
   "outputs": [
    {
     "data": {
      "text/plain": [
       "[['lemon', 'lemon', 'orange', 'orange', 'orange'],\n",
       " ['orange', 'orange', 'lemon', 'lemon', 'banana'],\n",
       " ['orange', 'apple', 'apple', 'apple', 'lemon'],\n",
       " ['lemon', 'orange', 'lemon', 'lemon', 'apple'],\n",
       " ['apple', 'apple', 'orange', 'orange', 'lemon']]"
      ]
     },
     "execution_count": 16,
     "metadata": {},
     "output_type": "execute_result"
    }
   ],
   "source": [
    "li=[]\n",
    "for i in range(0,5):\n",
    "    li.append(np.random.choice(['lemon','orange','apple','banana'],5).tolist())\n",
    "li"
   ]
  },
  {
   "cell_type": "code",
   "execution_count": 18,
   "metadata": {},
   "outputs": [],
   "source": [
    "li1=[]\n",
    "for i in li:\n",
    "    li1.append(\" \".join(i))\n",
    "    \n",
    "    "
   ]
  },
  {
   "cell_type": "code",
   "execution_count": 19,
   "metadata": {},
   "outputs": [
    {
     "ename": "NameError",
     "evalue": "name 'a' is not defined",
     "output_type": "error",
     "traceback": [
      "\u001b[0;31m---------------------------------------------------------------------------\u001b[0m",
      "\u001b[0;31mNameError\u001b[0m                                 Traceback (most recent call last)",
      "Input \u001b[0;32mIn [19]\u001b[0m, in \u001b[0;36m<cell line: 1>\u001b[0;34m()\u001b[0m\n\u001b[1;32m      1\u001b[0m \u001b[38;5;28;01mfor\u001b[39;00m i \u001b[38;5;129;01min\u001b[39;00m li1:\n\u001b[0;32m----> 2\u001b[0m     \u001b[38;5;28;01mif\u001b[39;00m i\u001b[38;5;241m.\u001b[39mcount(\u001b[43ma\u001b[49m)\u001b[38;5;241m!=\u001b[39m\u001b[38;5;241m0\u001b[39m:\n\u001b[1;32m      3\u001b[0m         \u001b[38;5;28;01mfor\u001b[39;00m j \u001b[38;5;129;01min\u001b[39;00m \u001b[38;5;28mrange\u001b[39m(\u001b[38;5;28mlen\u001b[39m(i\u001b[38;5;241m.\u001b[39msplit())):\n\u001b[1;32m      4\u001b[0m             \u001b[38;5;28;01mif\u001b[39;00m a\u001b[38;5;241m==\u001b[39mi\u001b[38;5;241m.\u001b[39msplit()[j]:\n",
      "\u001b[0;31mNameError\u001b[0m: name 'a' is not defined"
     ]
    }
   ],
   "source": [
    "for i in li1:\n",
    "    if i.count(a)!=0:\n",
    "        for j in range(len(i.split())):\n",
    "            if a==i.split()[j]:\n",
    "                print(j,i.split()[j])\n",
    "                "
   ]
  },
  {
   "cell_type": "code",
   "execution_count": 65,
   "metadata": {},
   "outputs": [
    {
     "data": {
      "text/plain": [
       "['banana lemon apple lemon orange',\n",
       " 'apple lemon banana lemon orange',\n",
       " 'orange lemon apple orange orange',\n",
       " 'apple banana lemon lemon orange',\n",
       " 'lemon banana apple orange banana']"
      ]
     },
     "execution_count": 65,
     "metadata": {},
     "output_type": "execute_result"
    }
   ],
   "source": [
    "li1"
   ]
  },
  {
   "cell_type": "code",
   "execution_count": null,
   "metadata": {},
   "outputs": [],
   "source": []
  },
  {
   "cell_type": "code",
   "execution_count": null,
   "metadata": {},
   "outputs": [],
   "source": []
  },
  {
   "cell_type": "code",
   "execution_count": null,
   "metadata": {},
   "outputs": [],
   "source": []
  },
  {
   "cell_type": "code",
   "execution_count": null,
   "metadata": {},
   "outputs": [],
   "source": []
  },
  {
   "cell_type": "code",
   "execution_count": null,
   "metadata": {},
   "outputs": [],
   "source": []
  },
  {
   "cell_type": "code",
   "execution_count": null,
   "metadata": {},
   "outputs": [],
   "source": []
  },
  {
   "cell_type": "code",
   "execution_count": null,
   "metadata": {},
   "outputs": [],
   "source": []
  },
  {
   "cell_type": "code",
   "execution_count": null,
   "metadata": {},
   "outputs": [],
   "source": []
  },
  {
   "cell_type": "code",
   "execution_count": null,
   "metadata": {},
   "outputs": [],
   "source": []
  },
  {
   "cell_type": "code",
   "execution_count": null,
   "metadata": {},
   "outputs": [],
   "source": []
  },
  {
   "cell_type": "code",
   "execution_count": null,
   "metadata": {},
   "outputs": [],
   "source": []
  },
  {
   "cell_type": "code",
   "execution_count": null,
   "metadata": {},
   "outputs": [],
   "source": []
  },
  {
   "cell_type": "code",
   "execution_count": null,
   "metadata": {},
   "outputs": [],
   "source": []
  },
  {
   "cell_type": "code",
   "execution_count": null,
   "metadata": {},
   "outputs": [],
   "source": []
  },
  {
   "cell_type": "code",
   "execution_count": null,
   "metadata": {},
   "outputs": [],
   "source": []
  },
  {
   "cell_type": "code",
   "execution_count": null,
   "metadata": {},
   "outputs": [],
   "source": []
  },
  {
   "cell_type": "code",
   "execution_count": 30,
   "metadata": {},
   "outputs": [],
   "source": [
    "a=['Apple15-inch MacBook Pro with Touch Bar: 2.3GHz 8-core 9th-generation Intel/Core/i9 processor, 512GB Space Grey',\n",
    "'Macbook Proapple 16 Core I7 16GB RAM 512 SSD 16-inch Laptop 2019 Smoke Grey Apple',\n",
    "' 27-Inch iMac With AppleRetina 5K Display: 3.3Ghz 6-Core 10Th-Generation Intel Core I5 Processor, 512Gb',\n",
    "'Apple MacBook Pro 2019 13\" i5 8GB, 512GB Silver','cjdbkdjcbdkcbdApplejhjh','AppApple kdhkdjfd','app le kjk']\n",
    "\n",
    "\n",
    "b='Apple'\n",
    "b=b.lower()"
   ]
  },
  {
   "cell_type": "code",
   "execution_count": 31,
   "metadata": {},
   "outputs": [
    {
     "data": {
      "text/plain": [
       "'apple'"
      ]
     },
     "execution_count": 31,
     "metadata": {},
     "output_type": "execute_result"
    }
   ],
   "source": [
    "b"
   ]
  },
  {
   "cell_type": "code",
   "execution_count": 20,
   "metadata": {},
   "outputs": [
    {
     "name": "stdout",
     "output_type": "stream",
     "text": [
      "['Apple MacBook Pro 2019 13\" i5 8GB, 512GB Silver', 'Macbook Proapple 16 Core I7 16GB RAM 512 SSD 16-inch Laptop 2019 Smoke Grey Apple', 'Macbook Proapple 16 Core I7 16GB RAM 512 SSD 16-inch Laptop 2019 Smoke Grey Apple', 'Apple15-inch MacBook Pro with Touch Bar: 2.3GHz 8-core 9th-generation Intel/Core/i9 processor, 512GB Space Grey', 'AppApple kdhkdjfd', 'cjdbkdjcbdkcbdApplejhjh', ' 27-Inch iMac With AppleRetina 5K Display: 3.3Ghz 6-Core 10Th-Generation Intel Core I5 Processor, 512Gb']\n"
     ]
    }
   ],
   "source": [
    "li=[]\n",
    "li2=[]\n",
    "for i in a:\n",
    "    d={}\n",
    "\n",
    "    for j in range(0,len(i)):\n",
    "        if i[j:j+len(b)].lower()==b:\n",
    "            d['string']=i\n",
    "            d['start']=j\n",
    "            d['end']=j+len(b)\n",
    "#             print(j,j+len(b),i)\n",
    "            li.append(d)\n",
    "            \n",
    "sortedlist=sorted(li, key = lambda i: i['start'])\n",
    "li=[]\n",
    "counter=0\n",
    "for i in sortedlist:\n",
    "    if i['string'].split().count('Apple')!=0:\n",
    "        counter+=1\n",
    "        \n",
    "        i['sequence']=counter\n",
    "        li.append(i)\n",
    "        \n",
    "counter=len(li)\n",
    "li1=[]\n",
    "for i in sortedlist:\n",
    "    if i['string'].split().count('Apple')==0:\n",
    "        counter+=1\n",
    "        i['sequence']=counter\n",
    "        li1.append(i)\n",
    "lifinal=li+li1\n",
    "lifinal=[i['string'] for i in lifinal]\n",
    "print(lifinal)"
   ]
  },
  {
   "cell_type": "code",
   "execution_count": 38,
   "metadata": {},
   "outputs": [],
   "source": [
    "li=[]\n",
    "for i in a:\n",
    "    d={}\n",
    "\n",
    "    for j in range(0,len(i)):\n",
    "        if i[j:j+len(b)].lower()==b:\n",
    "            d['string']=i\n",
    "            d['start']=j\n",
    "            d['end']=j+len(b)\n",
    "#             print(j,j+len(b),i)\n",
    "            li.append(d)"
   ]
  },
  {
   "cell_type": "code",
   "execution_count": 39,
   "metadata": {},
   "outputs": [],
   "source": [
    "sortedlist=sorted(li, key = lambda i: i['start'])"
   ]
  },
  {
   "cell_type": "code",
   "execution_count": 40,
   "metadata": {},
   "outputs": [
    {
     "data": {
      "text/plain": [
       "[{'string': 'Apple15-inch MacBook Pro with Touch Bar: 2.3GHz 8-core 9th-generation Intel/Core/i9 processor, 512GB Space Grey',\n",
       "  'start': 0,\n",
       "  'end': 5},\n",
       " {'string': 'Apple MacBook Pro 2019 13\" i5 8GB, 512GB Silver',\n",
       "  'start': 0,\n",
       "  'end': 5},\n",
       " {'string': 'AppApple kdhkdjfd', 'start': 3, 'end': 8},\n",
       " {'string': 'cjdbkdjcbdkcbdApplejhjh', 'start': 14, 'end': 19},\n",
       " {'string': ' 27-Inch iMac With AppleRetina 5K Display: 3.3Ghz 6-Core 10Th-Generation Intel Core I5 Processor, 512Gb',\n",
       "  'start': 19,\n",
       "  'end': 24},\n",
       " {'string': 'Macbook Proapple 16 Core I7 16GB RAM 512 SSD 16-inch Laptop 2019 Smoke Grey Apple',\n",
       "  'start': 76,\n",
       "  'end': 81},\n",
       " {'string': 'Macbook Proapple 16 Core I7 16GB RAM 512 SSD 16-inch Laptop 2019 Smoke Grey Apple',\n",
       "  'start': 76,\n",
       "  'end': 81}]"
      ]
     },
     "execution_count": 40,
     "metadata": {},
     "output_type": "execute_result"
    }
   ],
   "source": [
    "sortedlist"
   ]
  },
  {
   "cell_type": "code",
   "execution_count": 8,
   "metadata": {},
   "outputs": [
    {
     "data": {
      "text/plain": [
       "[{'string': 'apple15-inch macbook pro with touch bar: 2.3ghz 8-core 9th-generation intel/core/i9 processor, 512gb space grey',\n",
       "  'start': 0,\n",
       "  'end': 5,\n",
       "  'sequence': 1},\n",
       " {'string': 'apple macbook pro 2019 13\" i5 8gb, 512gb silver',\n",
       "  'start': 0,\n",
       "  'end': 5,\n",
       "  'sequence': 2},\n",
       " {'string': 'appapple kdhkdjfd', 'start': 3, 'end': 8, 'sequence': 3},\n",
       " {'string': 'cjdbkdjcbdkcbdapplejhjh', 'start': 14, 'end': 19, 'sequence': 4},\n",
       " {'string': ' 27-inch imac with appleretina 5k display: 3.3ghz 6-core 10th-generation intel core i5 processor, 512gb',\n",
       "  'start': 19,\n",
       "  'end': 24,\n",
       "  'sequence': 5},\n",
       " {'string': 'macbook proapple 16 core i7 16gb ram 512 ssd 16-inch laptop 2019 smoke grey apple',\n",
       "  'start': 76,\n",
       "  'end': 81,\n",
       "  'sequence': 7},\n",
       " {'string': 'macbook proapple 16 core i7 16gb ram 512 ssd 16-inch laptop 2019 smoke grey apple',\n",
       "  'start': 76,\n",
       "  'end': 81,\n",
       "  'sequence': 7}]"
      ]
     },
     "execution_count": 8,
     "metadata": {},
     "output_type": "execute_result"
    }
   ],
   "source": [
    "sortedlist"
   ]
  },
  {
   "cell_type": "code",
   "execution_count": 9,
   "metadata": {},
   "outputs": [],
   "source": [
    "li=[]\n",
    "counter=0\n",
    "for i in sortedlist:\n",
    "    if i['string'].split().count('Apple')!=0:\n",
    "        counter+=1\n",
    "        \n",
    "        i['sequence']=counter\n",
    "        li.append(i)"
   ]
  },
  {
   "cell_type": "code",
   "execution_count": 10,
   "metadata": {},
   "outputs": [],
   "source": [
    "counter=len(li)\n",
    "li1=[]\n",
    "for i in sortedlist:\n",
    "    if i['string'].split().count('Apple')==0:\n",
    "        counter+=1\n",
    "        i['sequence']=counter\n",
    "        li1.append(i)\n",
    "    "
   ]
  },
  {
   "cell_type": "code",
   "execution_count": 11,
   "metadata": {},
   "outputs": [
    {
     "data": {
      "text/plain": [
       "[{'string': 'apple15-inch macbook pro with touch bar: 2.3ghz 8-core 9th-generation intel/core/i9 processor, 512gb space grey',\n",
       "  'start': 0,\n",
       "  'end': 5,\n",
       "  'sequence': 1},\n",
       " {'string': 'apple macbook pro 2019 13\" i5 8gb, 512gb silver',\n",
       "  'start': 0,\n",
       "  'end': 5,\n",
       "  'sequence': 2},\n",
       " {'string': 'appapple kdhkdjfd', 'start': 3, 'end': 8, 'sequence': 3},\n",
       " {'string': 'cjdbkdjcbdkcbdapplejhjh', 'start': 14, 'end': 19, 'sequence': 4},\n",
       " {'string': ' 27-inch imac with appleretina 5k display: 3.3ghz 6-core 10th-generation intel core i5 processor, 512gb',\n",
       "  'start': 19,\n",
       "  'end': 24,\n",
       "  'sequence': 5},\n",
       " {'string': 'macbook proapple 16 core i7 16gb ram 512 ssd 16-inch laptop 2019 smoke grey apple',\n",
       "  'start': 76,\n",
       "  'end': 81,\n",
       "  'sequence': 7},\n",
       " {'string': 'macbook proapple 16 core i7 16gb ram 512 ssd 16-inch laptop 2019 smoke grey apple',\n",
       "  'start': 76,\n",
       "  'end': 81,\n",
       "  'sequence': 7}]"
      ]
     },
     "execution_count": 11,
     "metadata": {},
     "output_type": "execute_result"
    }
   ],
   "source": [
    "li1"
   ]
  },
  {
   "cell_type": "code",
   "execution_count": 195,
   "metadata": {},
   "outputs": [],
   "source": [
    "lifinal=li+li1\n"
   ]
  },
  {
   "cell_type": "code",
   "execution_count": 205,
   "metadata": {},
   "outputs": [
    {
     "data": {
      "text/plain": [
       "['Apple MacBook Pro 2019 13\" i5 8GB, 512GB Silver',\n",
       " 'Macbook Proapple 16 Core I7 16GB RAM 512 SSD 16-inch Laptop 2019 Smoke Grey Apple',\n",
       " 'Apple15-inch MacBook Pro with Touch Bar: 2.3GHz 8-core 9th-generation Intel/Core/i9 processor, 512GB Space Grey',\n",
       " 'AppApple kdhkdjfd',\n",
       " 'cjdbkdjcbdkcbdApplejhjh',\n",
       " ' 27-Inch iMac With AppleRetina 5K Display: 3.3Ghz 6-Core 10Th-Generation Intel Core I5 Processor, 512Gb']"
      ]
     },
     "execution_count": 205,
     "metadata": {},
     "output_type": "execute_result"
    }
   ],
   "source": [
    "[i['string'] for i in lifinal]"
   ]
  },
  {
   "cell_type": "code",
   "execution_count": 199,
   "metadata": {},
   "outputs": [],
   "source": [
    "lifinal1=[]\n",
    "for j in lifinal:\n",
    "    lifinal1.append(j['string'])"
   ]
  },
  {
   "cell_type": "code",
   "execution_count": 211,
   "metadata": {},
   "outputs": [
    {
     "name": "stdout",
     "output_type": "stream",
     "text": [
      "['Apple MacBook Pro 2019 13\" i5 8GB, 512GB Silver', 'Macbook Proapple 16 Core I7 16GB RAM 512 SSD 16-inch Laptop 2019 Smoke Grey Apple', 'Apple15-inch MacBook Pro with Touch Bar: 2.3GHz 8-core 9th-generation Intel/Core/i9 processor, 512GB Space Grey', 'AppApple kdhkdjfd', 'cjdbkdjcbdkcbdApplejhjh', ' 27-Inch iMac With AppleRetina 5K Display: 3.3Ghz 6-Core 10Th-Generation Intel Core I5 Processor, 512Gb']\n"
     ]
    }
   ],
   "source": [
    "li=[]\n",
    "li2=[]\n",
    "for i in a:\n",
    "    d={}\n",
    "    \n",
    "    for j in range(0,len(i)):\n",
    "        if i[j:j+len(b)]==b:\n",
    "            d['string']=i\n",
    "            d['start']=j\n",
    "            d['end']=j+len(b)\n",
    "            li.append(d)\n",
    "            \n",
    "sortedlist=sorted(li, key = lambda i: i['start'])\n",
    "li=[]\n",
    "counter=0\n",
    "for i in sortedlist:\n",
    "    if i['string'].split().count('Apple')!=0:\n",
    "        counter+=1\n",
    "        \n",
    "        i['sequence']=counter\n",
    "        li.append(i)\n",
    "        \n",
    "counter=len(li)\n",
    "li1=[]\n",
    "for i in sortedlist:\n",
    "    if i['string'].split().count('Apple')==0:\n",
    "        counter+=1\n",
    "        i['sequence']=counter\n",
    "        li1.append(i)\n",
    "lifinal=li+li1\n",
    "lifinal=[i['string'] for i in lifinal]\n",
    "print(lifinal)"
   ]
  },
  {
   "cell_type": "code",
   "execution_count": 41,
   "metadata": {},
   "outputs": [],
   "source": [
    " a=['DevApple','Apple D1','D1 Apple D3', 'D1 D2 Apple', 'Dev Apple']"
   ]
  },
  {
   "cell_type": "code",
   "execution_count": 42,
   "metadata": {},
   "outputs": [],
   "source": [
    "li=[]\n",
    "for i in a:\n",
    "    d={}\n",
    "\n",
    "    for j in range(0,len(i)):\n",
    "        if i[j:j+len(b)].lower()==b:\n",
    "            d['string']=i\n",
    "            d['start']=j\n",
    "            d['end']=j+len(b)\n",
    "#             print(j,j+len(b),i)\n",
    "            li.append(d)"
   ]
  },
  {
   "cell_type": "code",
   "execution_count": 43,
   "metadata": {},
   "outputs": [
    {
     "data": {
      "text/plain": [
       "[{'string': 'DevApple', 'start': 3, 'end': 8},\n",
       " {'string': 'Apple D1', 'start': 0, 'end': 5},\n",
       " {'string': 'D1 Apple D3', 'start': 3, 'end': 8},\n",
       " {'string': 'D1 D2 Apple', 'start': 6, 'end': 11},\n",
       " {'string': 'Dev Apple', 'start': 4, 'end': 9}]"
      ]
     },
     "execution_count": 43,
     "metadata": {},
     "output_type": "execute_result"
    }
   ],
   "source": [
    "li"
   ]
  },
  {
   "cell_type": "code",
   "execution_count": 44,
   "metadata": {},
   "outputs": [],
   "source": [
    "sortedlist=sorted(li, key = lambda i: i['start'])"
   ]
  },
  {
   "cell_type": "code",
   "execution_count": 45,
   "metadata": {},
   "outputs": [
    {
     "data": {
      "text/plain": [
       "[{'string': 'Apple D1', 'start': 0, 'end': 5},\n",
       " {'string': 'DevApple', 'start': 3, 'end': 8},\n",
       " {'string': 'D1 Apple D3', 'start': 3, 'end': 8},\n",
       " {'string': 'Dev Apple', 'start': 4, 'end': 9},\n",
       " {'string': 'D1 D2 Apple', 'start': 6, 'end': 11}]"
      ]
     },
     "execution_count": 45,
     "metadata": {},
     "output_type": "execute_result"
    }
   ],
   "source": [
    "sortedlist"
   ]
  },
  {
   "cell_type": "code",
   "execution_count": 3,
   "metadata": {},
   "outputs": [],
   "source": [
    "# create file and append new data into it\n",
    "\n",
    "with open('testing.txt','w') as file: # write from the start or remove older content and write new data\n",
    "    file.write(\"Writing First Line\\n\")\n",
    "    file.close()\n",
    "with open('testing.txt','a') as file:\n",
    "    for i in range(0,4):\n",
    "        file.write(\"writing in %s line\\n\" % i)\n",
    "    file.close()"
   ]
  },
  {
   "cell_type": "code",
   "execution_count": 17,
   "metadata": {},
   "outputs": [
    {
     "name": "stdout",
     "output_type": "stream",
     "text": [
      "1\n",
      "2\n",
      "4\n",
      "8\n",
      "16\n",
      "32\n",
      "64\n",
      "128\n",
      "256\n",
      "512\n",
      "1024\n",
      "2048\n",
      "4096\n",
      "8192\n",
      "16384\n",
      "32768\n",
      "65536\n",
      "131072\n",
      "262144\n",
      "524288\n",
      "1048576\n",
      "2097152\n",
      "4194304\n",
      "8388608\n",
      "16777216\n",
      "33554432\n",
      "67108864\n",
      "134217728\n",
      "268435456\n",
      "536870912\n",
      "1073741824\n",
      "2147483648\n",
      "4294967296\n",
      "8589934592\n",
      "17179869184\n",
      "34359738368\n",
      "68719476736\n",
      "137438953472\n",
      "274877906944\n",
      "549755813888\n",
      "1099511627776\n",
      "2199023255552\n",
      "4398046511104\n",
      "8796093022208\n",
      "17592186044416\n",
      "35184372088832\n",
      "70368744177664\n",
      "140737488355328\n",
      "281474976710656\n",
      "562949953421312\n",
      "1125899906842624\n",
      "2251799813685248\n",
      "4503599627370496\n",
      "9007199254740992\n",
      "18014398509481984\n",
      "36028797018963968\n",
      "72057594037927936\n",
      "144115188075855872\n",
      "288230376151711744\n",
      "576460752303423488\n",
      "1152921504606846976\n",
      "2305843009213693952\n",
      "4611686018427387904\n",
      "9223372036854775808\n"
     ]
    }
   ],
   "source": [
    "# double of number\n",
    "a=1\n",
    "# ,2,4,8\n",
    "for i in range(1,65):\n",
    "    print(a)\n",
    "    a*=2"
   ]
  },
  {
   "cell_type": "code",
   "execution_count": 119,
   "metadata": {},
   "outputs": [
    {
     "name": "stdout",
     "output_type": "stream",
     "text": [
      "0 2\n",
      "1 3\n",
      "2 4\n"
     ]
    }
   ],
   "source": [
    "# modulo\n",
    "a=['one','two','three','four','five']\n",
    "start_idx=3\n",
    "for i in range(1,start_idx+1):\n",
    "#     a[len(a)%i],a[-(len(a)%i)-1]=a[-(len(a)%i)-1],a[len(a)%i]\n",
    "    print(i-1,len(a)%start_idx+i-1)\n",
    "    a[i-1],a[len(a)%start_idx+i-1]=a[len(a)%start_idx+i-1],a[i-1]"
   ]
  },
  {
   "cell_type": "code",
   "execution_count": 120,
   "metadata": {},
   "outputs": [
    {
     "data": {
      "text/plain": [
       "['three', 'four', 'five', 'two', 'one']"
      ]
     },
     "execution_count": 120,
     "metadata": {},
     "output_type": "execute_result"
    }
   ],
   "source": [
    "a"
   ]
  },
  {
   "cell_type": "code",
   "execution_count": 103,
   "metadata": {},
   "outputs": [
    {
     "name": "stdout",
     "output_type": "stream",
     "text": [
      "two three\n",
      "two four\n",
      "two one\n"
     ]
    }
   ],
   "source": [
    "for i in range(1,start_idx+1):\n",
    "#     a[len(a)%i],a[-(len(a)%i)-1]=a[-(len(a)%i)-1],a[len(a)%i]\n",
    "    print(a[len(a)%i],a[len(a)%i+1])\n",
    "#     a[len(a)%i],a[len(a)%i+1]=a[len(a)%i+1],a[len(a)%i]"
   ]
  },
  {
   "cell_type": "code",
   "execution_count": 169,
   "metadata": {},
   "outputs": [],
   "source": [
    "# modulo\n",
    "a=['one','two','three','four','five']\n",
    "start_idx=3\n",
    "total_len = len(a)\n",
    "\n",
    "for i in range(0,total_len):\n",
    "    a[i],a[(start_idx+i)%total_len]=a[(start_idx+i)%total_len],a[i]"
   ]
  },
  {
   "cell_type": "code",
   "execution_count": 170,
   "metadata": {},
   "outputs": [
    {
     "data": {
      "text/plain": [
       "['three', 'one', 'two', 'five', 'four']"
      ]
     },
     "execution_count": 170,
     "metadata": {},
     "output_type": "execute_result"
    }
   ],
   "source": [
    "a"
   ]
  },
  {
   "cell_type": "code",
   "execution_count": 172,
   "metadata": {},
   "outputs": [
    {
     "name": "stdout",
     "output_type": "stream",
     "text": [
      "[3, 1, 2, 5, 4]\n"
     ]
    }
   ],
   "source": [
    "def circular_swap(arr, n):\n",
    "    length = len(arr)\n",
    "\n",
    "    # Ensure n is within the range of array length\n",
    "    n = n % length\n",
    "\n",
    "    # Perform circular swapping\n",
    "    for i in range(length):\n",
    "        # Calculate the new index after circular swapping\n",
    "        new_index = (i - n) % length\n",
    "\n",
    "        # Swap elements\n",
    "        arr[i], arr[new_index] = arr[new_index], arr[i]\n",
    "\n",
    "    return arr\n",
    "\n",
    "# Example usage\n",
    "my_array = [1, 2, 3, 4, 5]\n",
    "shift_by = 2\n",
    "result = circular_swap(my_array, shift_by)\n",
    "print(result)\n"
   ]
  },
  {
   "cell_type": "code",
   "execution_count": null,
   "metadata": {},
   "outputs": [],
   "source": []
  },
  {
   "cell_type": "code",
   "execution_count": null,
   "metadata": {},
   "outputs": [],
   "source": []
  },
  {
   "cell_type": "code",
   "execution_count": null,
   "metadata": {},
   "outputs": [],
   "source": []
  },
  {
   "cell_type": "code",
   "execution_count": null,
   "metadata": {},
   "outputs": [],
   "source": []
  },
  {
   "cell_type": "code",
   "execution_count": null,
   "metadata": {},
   "outputs": [],
   "source": []
  },
  {
   "cell_type": "code",
   "execution_count": null,
   "metadata": {},
   "outputs": [],
   "source": []
  },
  {
   "cell_type": "code",
   "execution_count": null,
   "metadata": {},
   "outputs": [],
   "source": []
  },
  {
   "cell_type": "code",
   "execution_count": 1,
   "metadata": {},
   "outputs": [],
   "source": [
    "# global and local"
   ]
  },
  {
   "cell_type": "code",
   "execution_count": 42,
   "metadata": {},
   "outputs": [],
   "source": [
    "def abc():\n",
    "    global y\n",
    "    y = 4\n",
    "    return y\n"
   ]
  },
  {
   "cell_type": "code",
   "execution_count": 43,
   "metadata": {},
   "outputs": [
    {
     "data": {
      "text/plain": [
       "4"
      ]
     },
     "execution_count": 43,
     "metadata": {},
     "output_type": "execute_result"
    }
   ],
   "source": [
    "abc()"
   ]
  },
  {
   "cell_type": "code",
   "execution_count": 46,
   "metadata": {},
   "outputs": [],
   "source": [
    "def abc2():\n",
    "    print(y)"
   ]
  },
  {
   "cell_type": "code",
   "execution_count": 47,
   "metadata": {},
   "outputs": [
    {
     "name": "stdout",
     "output_type": "stream",
     "text": [
      "4\n"
     ]
    }
   ],
   "source": [
    "abc2()"
   ]
  },
  {
   "cell_type": "code",
   "execution_count": 48,
   "metadata": {},
   "outputs": [],
   "source": [
    "# Recursion"
   ]
  },
  {
   "cell_type": "code",
   "execution_count": null,
   "metadata": {},
   "outputs": [],
   "source": []
  },
  {
   "cell_type": "code",
   "execution_count": 49,
   "metadata": {},
   "outputs": [
    {
     "data": {
      "text/plain": [
       "120"
      ]
     },
     "execution_count": 49,
     "metadata": {},
     "output_type": "execute_result"
    }
   ],
   "source": [
    "5*4*3*2*1"
   ]
  },
  {
   "cell_type": "code",
   "execution_count": 53,
   "metadata": {},
   "outputs": [],
   "source": [
    "def factorial(num):\n",
    "    fact = 1\n",
    "    for i in range(1,num+1):\n",
    "        fact*=i\n",
    "    return fact"
   ]
  },
  {
   "cell_type": "code",
   "execution_count": 57,
   "metadata": {},
   "outputs": [],
   "source": [
    "f=factorial(5)"
   ]
  },
  {
   "cell_type": "code",
   "execution_count": 61,
   "metadata": {},
   "outputs": [],
   "source": [
    "def factorial2(num):  -> 3\n",
    "    if num == 0 or num == 1:\n",
    "        return 1\n",
    "    else:\n",
    "        return num*factorial2(num-1)  5*4*3*2*1"
   ]
  },
  {
   "cell_type": "code",
   "execution_count": 63,
   "metadata": {},
   "outputs": [
    {
     "data": {
      "text/plain": [
       "120"
      ]
     },
     "execution_count": 63,
     "metadata": {},
     "output_type": "execute_result"
    }
   ],
   "source": [
    "f2=factorial2(1000)\n",
    "f2"
   ]
  },
  {
   "cell_type": "code",
   "execution_count": 64,
   "metadata": {},
   "outputs": [
    {
     "data": {
      "text/plain": [
       "120"
      ]
     },
     "execution_count": 64,
     "metadata": {},
     "output_type": "execute_result"
    }
   ],
   "source": [
    "# Data type\n",
    "\n",
    "Numeric\n",
    "int -> -2147483647...0...2147483647\n",
    "float-> 3.40282347e+38\n",
    "complex -> 1+2j\n",
    "\n",
    "Bool -< bool\n",
    "\n",
    "\n",
    "sequencial data type\n",
    "# Data structure \n",
    "string\n",
    "List\n",
    "Tuple\n",
    "Set\n",
    "Dictionary\n",
    "\n",
    "None"
   ]
  },
  {
   "cell_type": "code",
   "execution_count": 70,
   "metadata": {},
   "outputs": [
    {
     "data": {
      "text/plain": [
       "3.0"
      ]
     },
     "execution_count": 70,
     "metadata": {},
     "output_type": "execute_result"
    }
   ],
   "source": [
    "int(2.5)\n",
    "float(3)"
   ]
  },
  {
   "cell_type": "code",
   "execution_count": 71,
   "metadata": {},
   "outputs": [
    {
     "data": {
      "text/plain": [
       "False"
      ]
     },
     "execution_count": 71,
     "metadata": {},
     "output_type": "execute_result"
    }
   ],
   "source": [
    "0== True"
   ]
  },
  {
   "cell_type": "code",
   "execution_count": 72,
   "metadata": {},
   "outputs": [
    {
     "data": {
      "text/plain": [
       "False"
      ]
     },
     "execution_count": 72,
     "metadata": {},
     "output_type": "execute_result"
    }
   ],
   "source": [
    "bool(0) "
   ]
  },
  {
   "cell_type": "code",
   "execution_count": 76,
   "metadata": {},
   "outputs": [
    {
     "data": {
      "text/plain": [
       "True"
      ]
     },
     "execution_count": 76,
     "metadata": {},
     "output_type": "execute_result"
    }
   ],
   "source": [
    "bool(10) "
   ]
  },
  {
   "cell_type": "code",
   "execution_count": 78,
   "metadata": {},
   "outputs": [
    {
     "name": "stdout",
     "output_type": "stream",
     "text": [
      "Enter your namejay\n"
     ]
    }
   ],
   "source": [
    "a = input(\"Enter your name\")"
   ]
  },
  {
   "cell_type": "code",
   "execution_count": 82,
   "metadata": {},
   "outputs": [
    {
     "name": "stdout",
     "output_type": "stream",
     "text": [
      "1\n"
     ]
    }
   ],
   "source": [
    "num = int(input())"
   ]
  },
  {
   "cell_type": "code",
   "execution_count": 88,
   "metadata": {},
   "outputs": [
    {
     "name": "stdout",
     "output_type": "stream",
     "text": [
      "1.1\n"
     ]
    }
   ],
   "source": [
    "num = float(input())"
   ]
  },
  {
   "cell_type": "code",
   "execution_count": 89,
   "metadata": {},
   "outputs": [
    {
     "data": {
      "text/plain": [
       "1.1"
      ]
     },
     "execution_count": 89,
     "metadata": {},
     "output_type": "execute_result"
    }
   ],
   "source": [
    "num"
   ]
  },
  {
   "cell_type": "code",
   "execution_count": 90,
   "metadata": {},
   "outputs": [
    {
     "data": {
      "text/plain": [
       "2.1"
      ]
     },
     "execution_count": 90,
     "metadata": {},
     "output_type": "execute_result"
    }
   ],
   "source": [
    "num = num-1\n",
    "num"
   ]
  },
  {
   "cell_type": "code",
   "execution_count": 91,
   "metadata": {},
   "outputs": [
    {
     "ename": "SyntaxError",
     "evalue": "invalid syntax (<ipython-input-91-f7dd1b77ea1a>, line 1)",
     "output_type": "error",
     "traceback": [
      "\u001b[0;36m  File \u001b[0;32m\"<ipython-input-91-f7dd1b77ea1a>\"\u001b[0;36m, line \u001b[0;32m1\u001b[0m\n\u001b[0;31m    +-*%/\u001b[0m\n\u001b[0m      ^\u001b[0m\n\u001b[0;31mSyntaxError\u001b[0m\u001b[0;31m:\u001b[0m invalid syntax\n"
     ]
    }
   ],
   "source": [
    "# +-*%/"
   ]
  },
  {
   "cell_type": "code",
   "execution_count": 111,
   "metadata": {},
   "outputs": [
    {
     "data": {
      "text/plain": [
       "True"
      ]
     },
     "execution_count": 111,
     "metadata": {},
     "output_type": "execute_result"
    }
   ],
   "source": [
    "bool(0) == bool(0)"
   ]
  },
  {
   "cell_type": "code",
   "execution_count": 148,
   "metadata": {},
   "outputs": [
    {
     "name": "stdout",
     "output_type": "stream",
     "text": [
      ">>>task ...\n"
     ]
    }
   ],
   "source": [
    "# Logical Operators\n",
    "\n",
    "a = 1\n",
    "b= 0\n",
    "\n",
    "\n",
    "username = ''\n",
    "email =''\n",
    "phone_number = ''\n",
    "\n",
    "email = \"\"\n",
    "\n",
    "if not (username or email or phone_number):\n",
    "    print(\">>>task ...\")\n",
    "else:\n",
    "    print(\">>>>>>> invalid\")"
   ]
  },
  {
   "cell_type": "code",
   "execution_count": 149,
   "metadata": {},
   "outputs": [],
   "source": [
    "a = [1,2,3]"
   ]
  },
  {
   "cell_type": "code",
   "execution_count": 154,
   "metadata": {},
   "outputs": [
    {
     "name": "stdout",
     "output_type": "stream",
     "text": [
      "step 3\n",
      "step 6\n",
      "step 8\n"
     ]
    }
   ],
   "source": [
    "x= 10\n",
    "if x > 20:\n",
    "    print(\"step 1\")\n",
    "    if x < 9:\n",
    "        print(\"step 2\")\n",
    "elif x > 9:\n",
    "    print(\"step 3\")\n",
    "    if x > 90:\n",
    "        print(\"step 4\")\n",
    "        if x < 100:\n",
    "            print(\"step 5\")\n",
    "    elif x < 12:\n",
    "        print(\"step 6\")\n",
    "        if x > 9:\n",
    "            print(\"step 8\")\n",
    "    else:\n",
    "        print(\"step 7\")"
   ]
  },
  {
   "cell_type": "code",
   "execution_count": 159,
   "metadata": {},
   "outputs": [
    {
     "name": "stdout",
     "output_type": "stream",
     "text": [
      "1\n",
      "3\n",
      "5\n",
      "7\n",
      "9\n"
     ]
    }
   ],
   "source": [
    "for i in range(1,10,2):\n",
    "    print(i)"
   ]
  },
  {
   "cell_type": "code",
   "execution_count": 160,
   "metadata": {},
   "outputs": [
    {
     "name": "stdout",
     "output_type": "stream",
     "text": [
      "9\n",
      "8\n",
      "7\n",
      "6\n",
      "5\n",
      "4\n",
      "3\n",
      "2\n",
      "1\n"
     ]
    }
   ],
   "source": [
    "for i in range(9,0,-1):\n",
    "    print(i)"
   ]
  },
  {
   "cell_type": "code",
   "execution_count": 161,
   "metadata": {},
   "outputs": [
    {
     "name": "stdout",
     "output_type": "stream",
     "text": [
      "9\n",
      "8\n",
      "7\n",
      "6\n",
      "5\n",
      "4\n",
      "3\n",
      "2\n",
      "1\n"
     ]
    }
   ],
   "source": [
    "for i in range(1,10):\n",
    "    print(10-i)"
   ]
  },
  {
   "cell_type": "code",
   "execution_count": 168,
   "metadata": {},
   "outputs": [
    {
     "name": "stdout",
     "output_type": "stream",
     "text": [
      "\n",
      "1 2\n",
      "1 32 3\n",
      "1 42 43 4\n",
      "1 52 53 54 5\n",
      "1 62 63 64 65 6\n",
      "1 72 73 74 75 76 7\n",
      "1 82 83 84 85 86 87 8\n",
      "1 92 93 94 95 96 97 98 9\n"
     ]
    }
   ],
   "source": [
    "for i in list(range(1,10)):\n",
    "    for j in range(1,3):\n",
    "        print(j,i,end=\"\")\n",
    "    print()"
   ]
  },
  {
   "cell_type": "code",
   "execution_count": 169,
   "metadata": {},
   "outputs": [],
   "source": [
    "# Strings and String Manipulation"
   ]
  },
  {
   "cell_type": "code",
   "execution_count": 170,
   "metadata": {},
   "outputs": [
    {
     "data": {
      "text/plain": [
       "'abc'"
      ]
     },
     "execution_count": 170,
     "metadata": {},
     "output_type": "execute_result"
    }
   ],
   "source": [
    "'abc'\n",
    "\"abc\"\n",
    "'''abc'''\n",
    "\"\"\"abc\"\"\""
   ]
  },
  {
   "cell_type": "code",
   "execution_count": 175,
   "metadata": {},
   "outputs": [
    {
     "data": {
      "text/plain": [
       "('abc', \"abc's\")"
      ]
     },
     "execution_count": 175,
     "metadata": {},
     "output_type": "execute_result"
    }
   ],
   "source": [
    "'abc',\"abc's\""
   ]
  },
  {
   "cell_type": "code",
   "execution_count": 211,
   "metadata": {},
   "outputs": [],
   "source": [
    "a='''asdfas \\\\ asdf adf asdf sadf\n",
    "adsfsdf asdfasdf asdf asdf adsf asdf\n",
    " asdfsdf asdf sadf asdf \"asdf\" adsfs\n",
    "  asdfasdfsadf'''"
   ]
  },
  {
   "cell_type": "code",
   "execution_count": 212,
   "metadata": {},
   "outputs": [
    {
     "name": "stdout",
     "output_type": "stream",
     "text": [
      "asdfas \\ asdf adf asdf sadf\n",
      "adsfsdf asdfasdf asdf asdf adsf asdf\n",
      " asdfsdf asdf sadf asdf \"asdf\" adsfs\n",
      "  asdfasdfsadf\n"
     ]
    }
   ],
   "source": [
    "print(a)"
   ]
  },
  {
   "cell_type": "code",
   "execution_count": 222,
   "metadata": {},
   "outputs": [
    {
     "name": "stderr",
     "output_type": "stream",
     "text": [
      "<>:1: SyntaxWarning: \"is\" with a literal. Did you mean \"==\"?\n",
      "<>:1: SyntaxWarning: \"is\" with a literal. Did you mean \"==\"?\n",
      "<ipython-input-222-c4ba21148a2b>:1: SyntaxWarning: \"is\" with a literal. Did you mean \"==\"?\n",
      "  1 is 1\n"
     ]
    },
    {
     "data": {
      "text/plain": [
       "True"
      ]
     },
     "execution_count": 222,
     "metadata": {},
     "output_type": "execute_result"
    }
   ],
   "source": [
    "1 is 1"
   ]
  },
  {
   "cell_type": "code",
   "execution_count": 223,
   "metadata": {},
   "outputs": [
    {
     "name": "stderr",
     "output_type": "stream",
     "text": [
      "<>:1: SyntaxWarning: \"is\" with a literal. Did you mean \"==\"?\n",
      "<>:1: SyntaxWarning: \"is\" with a literal. Did you mean \"==\"?\n",
      "<ipython-input-223-34048f99332a>:1: SyntaxWarning: \"is\" with a literal. Did you mean \"==\"?\n",
      "  4 is 4\n"
     ]
    },
    {
     "data": {
      "text/plain": [
       "True"
      ]
     },
     "execution_count": 223,
     "metadata": {},
     "output_type": "execute_result"
    }
   ],
   "source": [
    "4 is 4"
   ]
  },
  {
   "cell_type": "code",
   "execution_count": 3,
   "metadata": {},
   "outputs": [],
   "source": [
    "# Lists\n",
    "\n",
    "l=list(range(0,16))"
   ]
  },
  {
   "cell_type": "code",
   "execution_count": 5,
   "metadata": {},
   "outputs": [],
   "source": [
    "l.append(16)"
   ]
  },
  {
   "cell_type": "code",
   "execution_count": 6,
   "metadata": {},
   "outputs": [
    {
     "data": {
      "text/plain": [
       "[0, 1, 2, 3, 4, 5, 6, 7, 8, 9, 10, 11, 12, 13, 14, 15, 16]"
      ]
     },
     "execution_count": 6,
     "metadata": {},
     "output_type": "execute_result"
    }
   ],
   "source": [
    "l"
   ]
  },
  {
   "cell_type": "code",
   "execution_count": 7,
   "metadata": {},
   "outputs": [],
   "source": [
    "l.extend([1,2,3])"
   ]
  },
  {
   "cell_type": "code",
   "execution_count": null,
   "metadata": {},
   "outputs": [],
   "source": []
  },
  {
   "cell_type": "code",
   "execution_count": 8,
   "metadata": {},
   "outputs": [
    {
     "data": {
      "text/plain": [
       "[0, 1, 2, 3, 4, 5, 6, 7, 8, 9, 10, 11, 12, 13, 14, 15, 16, 1, 2, 3]"
      ]
     },
     "execution_count": 8,
     "metadata": {},
     "output_type": "execute_result"
    }
   ],
   "source": [
    "l"
   ]
  },
  {
   "cell_type": "code",
   "execution_count": 10,
   "metadata": {},
   "outputs": [
    {
     "data": {
      "text/plain": [
       "1"
      ]
     },
     "execution_count": 10,
     "metadata": {},
     "output_type": "execute_result"
    }
   ],
   "source": [
    "l.count(0)"
   ]
  },
  {
   "cell_type": "code",
   "execution_count": 12,
   "metadata": {},
   "outputs": [
    {
     "data": {
      "text/plain": [
       "1"
      ]
     },
     "execution_count": 12,
     "metadata": {},
     "output_type": "execute_result"
    }
   ],
   "source": [
    "l.index(1)"
   ]
  },
  {
   "cell_type": "code",
   "execution_count": 14,
   "metadata": {},
   "outputs": [],
   "source": [
    "l.insert(-1,2)"
   ]
  },
  {
   "cell_type": "code",
   "execution_count": 15,
   "metadata": {},
   "outputs": [
    {
     "data": {
      "text/plain": [
       "[0, 1, 2, 3, 4, 5, 6, 7, 8, 9, 10, 11, 12, 13, 14, 15, 16, 1, 2, 2, 3]"
      ]
     },
     "execution_count": 15,
     "metadata": {},
     "output_type": "execute_result"
    }
   ],
   "source": [
    "l"
   ]
  },
  {
   "cell_type": "code",
   "execution_count": 17,
   "metadata": {},
   "outputs": [],
   "source": [
    "l.insert(len(l),10)"
   ]
  },
  {
   "cell_type": "code",
   "execution_count": 18,
   "metadata": {},
   "outputs": [
    {
     "data": {
      "text/plain": [
       "[0, 1, 2, 3, 4, 5, 6, 7, 8, 9, 10, 11, 12, 13, 14, 15, 16, 1, 2, 2, 3, 10]"
      ]
     },
     "execution_count": 18,
     "metadata": {},
     "output_type": "execute_result"
    }
   ],
   "source": [
    "l"
   ]
  },
  {
   "cell_type": "code",
   "execution_count": 20,
   "metadata": {},
   "outputs": [
    {
     "data": {
      "text/plain": [
       "3"
      ]
     },
     "execution_count": 20,
     "metadata": {},
     "output_type": "execute_result"
    }
   ],
   "source": [
    "len([1,2,3])"
   ]
  },
  {
   "cell_type": "code",
   "execution_count": 21,
   "metadata": {},
   "outputs": [],
   "source": [
    "a=len([1,2,3])"
   ]
  },
  {
   "cell_type": "code",
   "execution_count": 22,
   "metadata": {},
   "outputs": [
    {
     "data": {
      "text/plain": [
       "2"
      ]
     },
     "execution_count": 22,
     "metadata": {},
     "output_type": "execute_result"
    }
   ],
   "source": [
    "a-1"
   ]
  },
  {
   "cell_type": "code",
   "execution_count": 27,
   "metadata": {},
   "outputs": [],
   "source": [
    "l.remove(10)"
   ]
  },
  {
   "cell_type": "code",
   "execution_count": 29,
   "metadata": {},
   "outputs": [
    {
     "data": {
      "text/plain": [
       "10"
      ]
     },
     "execution_count": 29,
     "metadata": {},
     "output_type": "execute_result"
    }
   ],
   "source": [
    "l.pop()"
   ]
  },
  {
   "cell_type": "code",
   "execution_count": 126,
   "metadata": {},
   "outputs": [],
   "source": [
    "# set"
   ]
  },
  {
   "cell_type": "code",
   "execution_count": 140,
   "metadata": {},
   "outputs": [],
   "source": [
    "a=set([1,2])"
   ]
  },
  {
   "cell_type": "code",
   "execution_count": 143,
   "metadata": {},
   "outputs": [],
   "source": [
    "a.discard(3)\n",
    "if 3 in a:\n",
    "    a.remove(3)"
   ]
  },
  {
   "cell_type": "code",
   "execution_count": 154,
   "metadata": {},
   "outputs": [],
   "source": [
    "a={1,2,3}\n",
    "b={1,2}"
   ]
  },
  {
   "cell_type": "code",
   "execution_count": 146,
   "metadata": {},
   "outputs": [
    {
     "data": {
      "text/plain": [
       "True"
      ]
     },
     "execution_count": 146,
     "metadata": {},
     "output_type": "execute_result"
    }
   ],
   "source": [
    "a.issuperset(b)"
   ]
  },
  {
   "cell_type": "code",
   "execution_count": 148,
   "metadata": {},
   "outputs": [
    {
     "data": {
      "text/plain": [
       "True"
      ]
     },
     "execution_count": 148,
     "metadata": {},
     "output_type": "execute_result"
    }
   ],
   "source": [
    "b.issubset(a)"
   ]
  },
  {
   "cell_type": "code",
   "execution_count": 149,
   "metadata": {},
   "outputs": [
    {
     "data": {
      "text/plain": [
       "1"
      ]
     },
     "execution_count": 149,
     "metadata": {},
     "output_type": "execute_result"
    }
   ],
   "source": [
    "a.pop()"
   ]
  },
  {
   "cell_type": "code",
   "execution_count": 152,
   "metadata": {},
   "outputs": [
    {
     "data": {
      "text/plain": [
       "3"
      ]
     },
     "execution_count": 152,
     "metadata": {},
     "output_type": "execute_result"
    }
   ],
   "source": [
    "a.pop()"
   ]
  },
  {
   "cell_type": "code",
   "execution_count": 157,
   "metadata": {},
   "outputs": [
    {
     "data": {
      "text/plain": [
       "1"
      ]
     },
     "execution_count": 157,
     "metadata": {},
     "output_type": "execute_result"
    }
   ],
   "source": [
    "a.pop()"
   ]
  },
  {
   "cell_type": "code",
   "execution_count": 159,
   "metadata": {},
   "outputs": [
    {
     "data": {
      "text/plain": [
       "{1, 2, 3}"
      ]
     },
     "execution_count": 159,
     "metadata": {},
     "output_type": "execute_result"
    }
   ],
   "source": [
    "a.union(b)"
   ]
  },
  {
   "cell_type": "code",
   "execution_count": 168,
   "metadata": {},
   "outputs": [],
   "source": [
    "a.update(set([1,5]))"
   ]
  },
  {
   "cell_type": "code",
   "execution_count": 170,
   "metadata": {},
   "outputs": [],
   "source": [
    "# Functions"
   ]
  },
  {
   "cell_type": "code",
   "execution_count": 175,
   "metadata": {},
   "outputs": [],
   "source": [
    "def add():\n",
    "    print(\"asfasd\")\n",
    "    return \"abc\",\"note\""
   ]
  },
  {
   "cell_type": "code",
   "execution_count": 179,
   "metadata": {},
   "outputs": [
    {
     "name": "stdout",
     "output_type": "stream",
     "text": [
      "asfasd\n"
     ]
    }
   ],
   "source": [
    "a,b=add()"
   ]
  },
  {
   "cell_type": "code",
   "execution_count": 180,
   "metadata": {},
   "outputs": [
    {
     "data": {
      "text/plain": [
       "'abc'"
      ]
     },
     "execution_count": 180,
     "metadata": {},
     "output_type": "execute_result"
    }
   ],
   "source": [
    "a"
   ]
  },
  {
   "cell_type": "code",
   "execution_count": 181,
   "metadata": {},
   "outputs": [
    {
     "data": {
      "text/plain": [
       "'note'"
      ]
     },
     "execution_count": 181,
     "metadata": {},
     "output_type": "execute_result"
    }
   ],
   "source": [
    "b"
   ]
  },
  {
   "cell_type": "code",
   "execution_count": 182,
   "metadata": {},
   "outputs": [],
   "source": [
    "a,b=(1,2)"
   ]
  },
  {
   "cell_type": "code",
   "execution_count": 183,
   "metadata": {},
   "outputs": [
    {
     "data": {
      "text/plain": [
       "1"
      ]
     },
     "execution_count": 183,
     "metadata": {},
     "output_type": "execute_result"
    }
   ],
   "source": [
    "a"
   ]
  },
  {
   "cell_type": "code",
   "execution_count": 185,
   "metadata": {},
   "outputs": [],
   "source": [
    "def abc(num):\n",
    "    return num**2"
   ]
  },
  {
   "cell_type": "code",
   "execution_count": 188,
   "metadata": {},
   "outputs": [
    {
     "data": {
      "text/plain": [
       "64"
      ]
     },
     "execution_count": 188,
     "metadata": {},
     "output_type": "execute_result"
    }
   ],
   "source": [
    "abc(8)"
   ]
  },
  {
   "cell_type": "code",
   "execution_count": 200,
   "metadata": {},
   "outputs": [],
   "source": [
    "def abc(a,b,c=0,d=1):\n",
    "    return a+b+c"
   ]
  },
  {
   "cell_type": "code",
   "execution_count": 215,
   "metadata": {},
   "outputs": [],
   "source": [
    "def get_printed(num):\n",
    "    for i in range(1,num):\n",
    "        if i == 5:\n",
    "            continue\n",
    "        print(i)\n",
    "\n",
    "    return i,num,3"
   ]
  },
  {
   "cell_type": "code",
   "execution_count": 217,
   "metadata": {},
   "outputs": [],
   "source": [
    "a=lambda x:x*x"
   ]
  },
  {
   "cell_type": "code",
   "execution_count": 222,
   "metadata": {},
   "outputs": [
    {
     "data": {
      "text/plain": [
       "[0, 1, 2, 3, 4, 5, 6, 7, 8, 9, 1, 2, 2, 3]"
      ]
     },
     "execution_count": 222,
     "metadata": {},
     "output_type": "execute_result"
    }
   ],
   "source": [
    "list(filter(lambda x:x < 10,l))"
   ]
  },
  {
   "cell_type": "code",
   "execution_count": 224,
   "metadata": {},
   "outputs": [
    {
     "data": {
      "text/plain": [
       "[0, 3, 6, 9, 12, 15, 18, 21, 24, 27, 33, 36, 39, 42, 45, 48, 3, 6, 6, 9]"
      ]
     },
     "execution_count": 224,
     "metadata": {},
     "output_type": "execute_result"
    }
   ],
   "source": [
    "list(map(lambda x:x*3,l))"
   ]
  },
  {
   "cell_type": "code",
   "execution_count": 225,
   "metadata": {},
   "outputs": [
    {
     "ename": "ZeroDivisionError",
     "evalue": "division by zero",
     "output_type": "error",
     "traceback": [
      "\u001b[0;31m----------------------------------------------------------------------\u001b[0m",
      "\u001b[0;31mZeroDivisionError\u001b[0m                    Traceback (most recent call last)",
      "\u001b[0;32m<ipython-input-225-bd13cc71059f>\u001b[0m in \u001b[0;36m<module>\u001b[0;34m\u001b[0m\n\u001b[1;32m      2\u001b[0m \u001b[0mb\u001b[0m\u001b[0;34m=\u001b[0m \u001b[0;36m0\u001b[0m\u001b[0;34m\u001b[0m\u001b[0;34m\u001b[0m\u001b[0m\n\u001b[1;32m      3\u001b[0m \u001b[0;34m\u001b[0m\u001b[0m\n\u001b[0;32m----> 4\u001b[0;31m \u001b[0ma\u001b[0m\u001b[0;34m/\u001b[0m\u001b[0mb\u001b[0m\u001b[0;34m\u001b[0m\u001b[0;34m\u001b[0m\u001b[0m\n\u001b[0m",
      "\u001b[0;31mZeroDivisionError\u001b[0m: division by zero"
     ]
    }
   ],
   "source": [
    "a= 1\n",
    "b= 0\n",
    "\n",
    "a/b"
   ]
  },
  {
   "cell_type": "code",
   "execution_count": 230,
   "metadata": {},
   "outputs": [
    {
     "name": "stdout",
     "output_type": "stream",
     "text": [
      "abc\n",
      "abcd\n",
      "division by zero\n",
      "always execute\n",
      "abcd\n",
      "abcd\n"
     ]
    }
   ],
   "source": [
    "\n",
    "print(\"abc\")\n",
    "print(\"abcd\")\n",
    "# a/b\n",
    "try:\n",
    "    a/b\n",
    "except Exception as e:\n",
    "    print(e)\n",
    "finally:\n",
    "    print(\"always execute\")\n",
    "    \n",
    "print(\"abcd\")\n",
    "print(\"abcd\")"
   ]
  },
  {
   "cell_type": "code",
   "execution_count": null,
   "metadata": {},
   "outputs": [],
   "source": []
  }
 ],
 "metadata": {
  "kernelspec": {
   "display_name": "Python 3",
   "language": "python",
   "name": "python3"
  },
  "language_info": {
   "codemirror_mode": {
    "name": "ipython",
    "version": 3
   },
   "file_extension": ".py",
   "mimetype": "text/x-python",
   "name": "python",
   "nbconvert_exporter": "python",
   "pygments_lexer": "ipython3",
   "version": "3.8.10"
  }
 },
 "nbformat": 4,
 "nbformat_minor": 4
}
