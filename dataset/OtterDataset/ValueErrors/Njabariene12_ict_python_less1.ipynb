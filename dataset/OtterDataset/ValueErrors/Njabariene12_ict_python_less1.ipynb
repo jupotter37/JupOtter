{
 "cells": [
  {
   "cell_type": "code",
   "execution_count": 1,
   "id": "d9b2d304-d06f-4cb2-8a94-8fc6a9934fe7",
   "metadata": {},
   "outputs": [
    {
     "name": "stdout",
     "output_type": "stream",
     "text": [
      "  *\n",
      " ***\n",
      "*****\n"
     ]
    }
   ],
   "source": [
    "a= \"*\"\n",
    "b = \" \" * 2 + a\n",
    "c = \" \" + (a * 3)\n",
    "d = a * 5\n",
    "print(b + \"\\n\" + c + \"\\n\" + d)\n"
   ]
  },
  {
   "cell_type": "code",
   "execution_count": 3,
   "id": "d86a1b35-dec0-4bf1-8360-7462996ed93a",
   "metadata": {},
   "outputs": [
    {
     "name": "stdin",
     "output_type": "stream",
     "text": [
      "Enter an integer:  10\n"
     ]
    },
    {
     "name": "stdout",
     "output_type": "stream",
     "text": [
      "5.0\n"
     ]
    }
   ],
   "source": [
    "n = int(input('Enter an integer: '))\n",
    "p = n/2\n",
    "print(p)"
   ]
  },
  {
   "cell_type": "code",
   "execution_count": 4,
   "id": "74433951-246a-4556-a00f-8eeb96bbabb1",
   "metadata": {},
   "outputs": [
    {
     "name": "stdin",
     "output_type": "stream",
     "text": [
      " 21\n"
     ]
    },
    {
     "name": "stdout",
     "output_type": "stream",
     "text": [
      "21 True\n"
     ]
    }
   ],
   "source": [
    "n = int(input())\n",
    "p = n%2\n",
    "print(n, bool(p))"
   ]
  },
  {
   "cell_type": "code",
   "execution_count": 5,
   "id": "c6a18170-00a8-46b7-b053-299faf72e682",
   "metadata": {},
   "outputs": [
    {
     "name": "stdin",
     "output_type": "stream",
     "text": [
      "Enter an integer:  20\n"
     ]
    },
    {
     "ename": "TypeError",
     "evalue": "unsupported operand type(s) for +: 'int' and 'str'",
     "output_type": "error",
     "traceback": [
      "\u001b[1;31m---------------------------------------------------------------------------\u001b[0m",
      "\u001b[1;31mTypeError\u001b[0m                                 Traceback (most recent call last)",
      "Cell \u001b[1;32mIn[5], line 3\u001b[0m\n\u001b[0;32m      1\u001b[0m n \u001b[38;5;241m=\u001b[39m \u001b[38;5;28mint\u001b[39m(\u001b[38;5;28minput\u001b[39m(\u001b[38;5;124m'\u001b[39m\u001b[38;5;124mEnter an integer: \u001b[39m\u001b[38;5;124m'\u001b[39m))\n\u001b[0;32m      2\u001b[0m p \u001b[38;5;241m=\u001b[39m \u001b[38;5;28mbool\u001b[39m(n\u001b[38;5;241m/\u001b[39m\u001b[38;5;241m/\u001b[39m\u001b[38;5;241m2\u001b[39m)\n\u001b[1;32m----> 3\u001b[0m \u001b[38;5;28mprint\u001b[39m(n \u001b[38;5;241m+\u001b[39m \u001b[38;5;124m\"\u001b[39m\u001b[38;5;130;01m\\n\u001b[39;00m\u001b[38;5;124m\"\u001b[39m \u001b[38;5;241m+\u001b[39m \u001b[38;5;124m\"\u001b[39m\u001b[38;5;124mIs the integer odd: \u001b[39m\u001b[38;5;124m\"\u001b[39m \u001b[38;5;241m+\u001b[39m p)\n",
      "\u001b[1;31mTypeError\u001b[0m: unsupported operand type(s) for +: 'int' and 'str'"
     ]
    }
   ],
   "source": [
    "n = int(input('Enter an integer: '))\n",
    "p = bool(n//2)\n",
    "print(n + \"\\n\" + \"Is the integer odd: \" + p)\n"
   ]
  },
  {
   "cell_type": "code",
   "execution_count": 6,
   "id": "1c160179-746d-4af4-81f2-43b9435952a7",
   "metadata": {},
   "outputs": [
    {
     "ename": "TypeError",
     "evalue": "can only concatenate str (not \"int\") to str",
     "output_type": "error",
     "traceback": [
      "\u001b[1;31m---------------------------------------------------------------------------\u001b[0m",
      "\u001b[1;31mTypeError\u001b[0m                                 Traceback (most recent call last)",
      "Cell \u001b[1;32mIn[6], line 1\u001b[0m\n\u001b[1;32m----> 1\u001b[0m \u001b[38;5;28mprint\u001b[39m(\u001b[38;5;124m\"\u001b[39m\u001b[38;5;124mone, \u001b[39m\u001b[38;5;124m\"\u001b[39m \u001b[38;5;241m+\u001b[39m \u001b[38;5;241m1\u001b[39m)\n",
      "\u001b[1;31mTypeError\u001b[0m: can only concatenate str (not \"int\") to str"
     ]
    }
   ],
   "source": [
    "print(\"one, \" + 1)\n"
   ]
  },
  {
   "cell_type": "code",
   "execution_count": 7,
   "id": "f6a9ab7e-d9f3-479f-9268-2c9b87c8db0a",
   "metadata": {},
   "outputs": [
    {
     "name": "stdin",
     "output_type": "stream",
     "text": [
      "Enter an integer:  20\n"
     ]
    },
    {
     "name": "stdout",
     "output_type": "stream",
     "text": [
      "20 True False\n"
     ]
    }
   ],
   "source": [
    "n = int(input('Enter an integer: '))\n",
    "p = n//2\n",
    "l = n%2\n",
    "print(n, bool(p), bool(l))\n",
    "\n"
   ]
  },
  {
   "cell_type": "code",
   "execution_count": 8,
   "id": "f62eab70-27ae-4028-9d73-1a2dac669040",
   "metadata": {},
   "outputs": [
    {
     "name": "stdin",
     "output_type": "stream",
     "text": [
      "Enter an integer:  20\n"
     ]
    },
    {
     "name": "stdout",
     "output_type": "stream",
     "text": [
      "20\n",
      "Is the integer odd: False\n"
     ]
    }
   ],
   "source": [
    "n = int(input('Enter an integer: '))\n",
    "p = n%2\n",
    "l = str(bool(p))\n",
    "print(str(n) + \"\\n\" + \"Is the integer odd: \" + l )\n"
   ]
  },
  {
   "cell_type": "code",
   "execution_count": 9,
   "id": "f805d581-bbce-4bee-80a6-6dc44ee0fb3a",
   "metadata": {},
   "outputs": [
    {
     "name": "stdin",
     "output_type": "stream",
     "text": [
      "Enter an integer:  21\n"
     ]
    },
    {
     "name": "stdout",
     "output_type": "stream",
     "text": [
      "Is the integer odd: True\n"
     ]
    }
   ],
   "source": [
    "n = int(input('Enter an integer: '))\n",
    "p = n%2\n",
    "l = str(bool(p))\n",
    "print(\"Is the integer odd: \" + l )\n"
   ]
  },
  {
   "cell_type": "code",
   "execution_count": 10,
   "id": "a09ae857-a027-45fa-bcd7-3a7793670b86",
   "metadata": {},
   "outputs": [
    {
     "name": "stdin",
     "output_type": "stream",
     "text": [
      " 2000\n"
     ]
    },
    {
     "name": "stdout",
     "output_type": "stream",
     "text": [
      "True\n"
     ]
    }
   ],
   "source": [
    "y = int(input())\n",
    "ly = bool(y//4)\n",
    "print(ly)\n"
   ]
  },
  {
   "cell_type": "code",
   "execution_count": 11,
   "id": "fed48f56-3cee-4536-81ef-2b7b1be021dd",
   "metadata": {},
   "outputs": [
    {
     "name": "stdin",
     "output_type": "stream",
     "text": [
      " 2001\n"
     ]
    },
    {
     "name": "stdout",
     "output_type": "stream",
     "text": [
      "True\n"
     ]
    }
   ],
   "source": [
    "y = int(input())\n",
    "ly = bool(y//4)\n",
    "print(ly)\n"
   ]
  },
  {
   "cell_type": "code",
   "execution_count": 12,
   "id": "34e7dc6c-b9c7-4853-a1e1-958794f386e9",
   "metadata": {},
   "outputs": [
    {
     "name": "stdin",
     "output_type": "stream",
     "text": [
      " 2000\n"
     ]
    },
    {
     "name": "stdout",
     "output_type": "stream",
     "text": [
      "False\n"
     ]
    }
   ],
   "source": [
    "y = int(input())\n",
    "ly = bool(y%4)\n",
    "print(ly)\n"
   ]
  },
  {
   "cell_type": "code",
   "execution_count": 13,
   "id": "fe8eb1ea-3515-48e7-8793-73079edb86dd",
   "metadata": {},
   "outputs": [
    {
     "name": "stdin",
     "output_type": "stream",
     "text": [
      " 2000\n"
     ]
    },
    {
     "name": "stdout",
     "output_type": "stream",
     "text": [
      "False\n"
     ]
    }
   ],
   "source": [
    "y = int(input())\n",
    "ly = bool(y%4 != 0)\n",
    "print(ly)"
   ]
  },
  {
   "cell_type": "code",
   "execution_count": 14,
   "id": "cb8d1d60-be5d-4b57-8afe-72d46b7d33ef",
   "metadata": {},
   "outputs": [
    {
     "name": "stdin",
     "output_type": "stream",
     "text": [
      " 2000\n"
     ]
    },
    {
     "name": "stdout",
     "output_type": "stream",
     "text": [
      "True\n"
     ]
    }
   ],
   "source": [
    "y = int(input())\n",
    "ly = bool(y//4 != 0)\n",
    "print(ly)\n"
   ]
  },
  {
   "cell_type": "code",
   "execution_count": 15,
   "id": "a62a220c-cdd8-4469-90e4-327790da85d9",
   "metadata": {},
   "outputs": [
    {
     "name": "stdin",
     "output_type": "stream",
     "text": [
      " 2001\n"
     ]
    },
    {
     "name": "stdout",
     "output_type": "stream",
     "text": [
      "True\n"
     ]
    }
   ],
   "source": [
    "y = int(input())\n",
    "ly = bool(y//4 != 0)\n",
    "print(ly)\n"
   ]
  },
  {
   "cell_type": "code",
   "execution_count": 16,
   "id": "85465a19-3e43-47c5-bba1-60a5fe0a52c6",
   "metadata": {},
   "outputs": [
    {
     "name": "stdin",
     "output_type": "stream",
     "text": [
      " 2000\n"
     ]
    },
    {
     "name": "stdout",
     "output_type": "stream",
     "text": [
      "True\n"
     ]
    }
   ],
   "source": [
    "y = int(input())\n",
    "ly = bool(y%4 ==0)\n",
    "print(ly)"
   ]
  },
  {
   "cell_type": "code",
   "execution_count": 20,
   "id": "5d7eada6-8e68-4d6c-b096-e31ff91c4174",
   "metadata": {},
   "outputs": [
    {
     "name": "stdin",
     "output_type": "stream",
     "text": [
      " 2000\n"
     ]
    },
    {
     "name": "stdout",
     "output_type": "stream",
     "text": [
      "True\n"
     ]
    }
   ],
   "source": [
    "y = int(input())\n",
    "ly = bool(y%4 == 0)\n",
    "print(ly)\n"
   ]
  },
  {
   "cell_type": "code",
   "execution_count": 22,
   "id": "bb564048-3ea6-4afc-919d-73c9295b0369",
   "metadata": {},
   "outputs": [
    {
     "name": "stdout",
     "output_type": "stream",
     "text": [
      "Youth discount\n"
     ]
    }
   ],
   "source": [
    "age = 18\n",
    "if age < 20:\n",
    "    print('Youth discount')\n",
    "    "
   ]
  },
  {
   "cell_type": "code",
   "execution_count": 34,
   "id": "3a8147aa-9c2a-426d-8f1b-2ab9e855c261",
   "metadata": {},
   "outputs": [
    {
     "name": "stdin",
     "output_type": "stream",
     "text": [
      " y\n"
     ]
    },
    {
     "ename": "ValueError",
     "evalue": "invalid literal for int() with base 10: 'y'",
     "output_type": "error",
     "traceback": [
      "\u001b[1;31m---------------------------------------------------------------------------\u001b[0m",
      "\u001b[1;31mValueError\u001b[0m                                Traceback (most recent call last)",
      "Cell \u001b[1;32mIn[34], line 2\u001b[0m\n\u001b[0;32m      1\u001b[0m age \u001b[38;5;241m=\u001b[39m \u001b[38;5;28minput\u001b[39m()\n\u001b[1;32m----> 2\u001b[0m \u001b[38;5;28;01mif\u001b[39;00m \u001b[38;5;28mtype\u001b[39m(\u001b[38;5;28mint\u001b[39m(age)):\n\u001b[0;32m      3\u001b[0m  \u001b[38;5;28mprint\u001b[39m(\u001b[38;5;124m'\u001b[39m\u001b[38;5;124mYouth discount\u001b[39m\u001b[38;5;124m'\u001b[39m)\n",
      "\u001b[1;31mValueError\u001b[0m: invalid literal for int() with base 10: 'y'"
     ]
    }
   ],
   "source": [
    "age = input()\n",
    "if type(int(age)):\n",
    " print('Youth discount')"
   ]
  },
  {
   "cell_type": "code",
   "execution_count": null,
   "id": "1c153054-91e2-4841-a31b-3de0007dd4a3",
   "metadata": {},
   "outputs": [],
   "source": []
  }
 ],
 "metadata": {
  "kernelspec": {
   "display_name": "Python 3 (ipykernel)",
   "language": "python",
   "name": "python3"
  },
  "language_info": {
   "codemirror_mode": {
    "name": "ipython",
    "version": 3
   },
   "file_extension": ".py",
   "mimetype": "text/x-python",
   "name": "python",
   "nbconvert_exporter": "python",
   "pygments_lexer": "ipython3",
   "version": "3.11.7"
  }
 },
 "nbformat": 4,
 "nbformat_minor": 5
}
