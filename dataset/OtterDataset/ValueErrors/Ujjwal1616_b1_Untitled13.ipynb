{
 "cells": [
  {
   "cell_type": "code",
   "execution_count": 1,
   "id": "bcc474a4-985f-41a4-9b8d-3e3448213cb2",
   "metadata": {},
   "outputs": [
    {
     "name": "stdout",
     "output_type": "stream",
     "text": [
      "Cannot divide by zero!\n"
     ]
    }
   ],
   "source": [
    "\n",
    "try:\n",
    "    a = 5/0\n",
    "    b = int(\"Hello\")\n",
    "except ZeroDivisionError:\n",
    "     print(\"Cannot divide by zero!\")\n",
    "except valueerror:\n",
    "    print(\"Invalid literal for int()!\")"
   ]
  },
  {
   "cell_type": "code",
   "execution_count": 3,
   "id": "3238d82e-ffa0-467e-a4d4-9e70d2640f2b",
   "metadata": {},
   "outputs": [
    {
     "ename": "AssertionError",
     "evalue": "x should be greater than 15!",
     "output_type": "error",
     "traceback": [
      "\u001b[1;31m---------------------------------------------------------------------------\u001b[0m",
      "\u001b[1;31mAssertionError\u001b[0m                            Traceback (most recent call last)",
      "Cell \u001b[1;32mIn[3], line 3\u001b[0m\n\u001b[0;32m      1\u001b[0m x \u001b[38;5;241m=\u001b[39m \u001b[38;5;241m10\u001b[39m\n\u001b[0;32m      2\u001b[0m \u001b[38;5;28;01massert\u001b[39;00m x \u001b[38;5;241m>\u001b[39m \u001b[38;5;241m5\u001b[39m, \u001b[38;5;124m\"\u001b[39m\u001b[38;5;124mx should be greater than 5!\u001b[39m\u001b[38;5;124m\"\u001b[39m\n\u001b[1;32m----> 3\u001b[0m \u001b[38;5;28;01massert\u001b[39;00m x \u001b[38;5;241m>\u001b[39m \u001b[38;5;241m15\u001b[39m, \u001b[38;5;124m\"\u001b[39m\u001b[38;5;124mx should be greater than 15!\u001b[39m\u001b[38;5;124m\"\u001b[39m\n",
      "\u001b[1;31mAssertionError\u001b[0m: x should be greater than 15!"
     ]
    }
   ],
   "source": [
    "x = 10\n",
    "assert x > 5, \"x should be greater than 5!\"\n",
    "assert x > 15, \"x should be greater than 15!\"  # This will raise AssertionError\n"
   ]
  },
  {
   "cell_type": "code",
   "execution_count": 7,
   "id": "7fee5fbc-0309-4d45-8dc9-e58d695a94dc",
   "metadata": {},
   "outputs": [],
   "source": [
    "file = open(\"example.txt\", \"w\")\n",
    "file.write(\"Hello, this is a test.\")\n",
    "file.close()\n"
   ]
  },
  {
   "cell_type": "code",
   "execution_count": 9,
   "id": "8f762f5c-5e90-43b6-9fda-44d64fd52d4e",
   "metadata": {},
   "outputs": [],
   "source": [
    "file = open(\"example.txt\", \"w\")\n",
    "dataString = \"Some dummy text data\"\n",
    "fileContent = file.write(dataString)\n",
    "file.close()\n"
   ]
  },
  {
   "cell_type": "code",
   "execution_count": 13,
   "id": "15a73c92-9080-4dae-acf0-2235463ac4f2",
   "metadata": {},
   "outputs": [
    {
     "name": "stdout",
     "output_type": "stream",
     "text": [
      "['Some', 'dummy', 'text', 'data']\n"
     ]
    }
   ],
   "source": [
    "file = open(\"example.txt\", \"w\")\n",
    "dataString = \"Some dummy text data\".split()\n",
    "print(dataString)\n",
    "fileContent = file.writelines(dataString)\n",
    "file.close()\n"
   ]
  },
  {
   "cell_type": "code",
   "execution_count": 17,
   "id": "22472c84-9c90-45f1-8002-1adc430d76f4",
   "metadata": {},
   "outputs": [
    {
     "name": "stdout",
     "output_type": "stream",
     "text": [
      "line1\n",
      "line2\n",
      "line3\n",
      "line4\n"
     ]
    }
   ],
   "source": [
    "filename = \"example.txt\"\n",
    "file = open(filename, \"r\")\n",
    "fileContent = file.read()\n",
    "print(fileContent)\n",
    "file.close()"
   ]
  },
  {
   "cell_type": "code",
   "execution_count": null,
   "id": "fc1e6cbb-78e7-4fd3-ae35-7fef8981db82",
   "metadata": {},
   "outputs": [],
   "source": []
  }
 ],
 "metadata": {
  "kernelspec": {
   "display_name": "Python 3 (ipykernel)",
   "language": "python",
   "name": "python3"
  },
  "language_info": {
   "codemirror_mode": {
    "name": "ipython",
    "version": 3
   },
   "file_extension": ".py",
   "mimetype": "text/x-python",
   "name": "python",
   "nbconvert_exporter": "python",
   "pygments_lexer": "ipython3",
   "version": "3.12.4"
  }
 },
 "nbformat": 4,
 "nbformat_minor": 5
}
