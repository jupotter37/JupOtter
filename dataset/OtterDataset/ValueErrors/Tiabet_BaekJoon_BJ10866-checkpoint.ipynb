{
 "cells": [
  {
   "cell_type": "code",
   "execution_count": 3,
   "id": "57488d37",
   "metadata": {},
   "outputs": [
    {
     "ename": "ValueError",
     "evalue": "invalid literal for int() with base 10: ''",
     "output_type": "error",
     "traceback": [
      "\u001b[1;31m---------------------------------------------------------------------------\u001b[0m",
      "\u001b[1;31mValueError\u001b[0m                                Traceback (most recent call last)",
      "\u001b[1;32m~\\AppData\\Local\\Temp\\ipykernel_18964\\2478901299.py\u001b[0m in \u001b[0;36m<module>\u001b[1;34m\u001b[0m\n\u001b[0;32m      7\u001b[0m \u001b[1;33m\u001b[0m\u001b[0m\n\u001b[0;32m      8\u001b[0m \u001b[1;31m# 명령어 수 입력 받기\u001b[0m\u001b[1;33m\u001b[0m\u001b[1;33m\u001b[0m\u001b[0m\n\u001b[1;32m----> 9\u001b[1;33m \u001b[0mn\u001b[0m \u001b[1;33m=\u001b[0m \u001b[0mint\u001b[0m\u001b[1;33m(\u001b[0m\u001b[0minput\u001b[0m\u001b[1;33m(\u001b[0m\u001b[1;33m)\u001b[0m\u001b[1;33m)\u001b[0m\u001b[1;33m\u001b[0m\u001b[1;33m\u001b[0m\u001b[0m\n\u001b[0m\u001b[0;32m     10\u001b[0m \u001b[1;33m\u001b[0m\u001b[0m\n\u001b[0;32m     11\u001b[0m \u001b[1;31m# 각 명령어에 대해 처리\u001b[0m\u001b[1;33m\u001b[0m\u001b[1;33m\u001b[0m\u001b[0m\n",
      "\u001b[1;31mValueError\u001b[0m: invalid literal for int() with base 10: ''"
     ]
    }
   ],
   "source": [
    "from collections import deque\n",
    "import sys\n",
    "input = sys.stdin.readline\n",
    "\n",
    "# 덱 생성\n",
    "dq = deque()\n",
    "\n",
    "# 명령어 수 입력 받기\n",
    "n = int(input())\n",
    "\n",
    "# 각 명령어에 대해 처리\n",
    "for _ in range(n):\n",
    "    cmd = input().split()\n",
    "\n",
    "    if cmd[0] == 'push_front':\n",
    "        dq.appendleft(cmd[1])\n",
    "    elif cmd[0] == 'push_back':\n",
    "        dq.append(cmd[1])\n",
    "    elif cmd[0] == 'pop_front':\n",
    "        if len(dq) == 0:\n",
    "            print(-1)\n",
    "        else:\n",
    "            print(dq.popleft())\n",
    "    elif cmd[0] == 'pop_back':\n",
    "        if len(dq) == 0:\n",
    "            print(-1)\n",
    "        else:\n",
    "            print(dq.pop())\n",
    "    elif cmd[0] == 'size':\n",
    "        print(len(dq))\n",
    "    elif cmd[0] == 'empty':\n",
    "        if len(dq) == 0:\n",
    "            print(1)\n",
    "        else:\n",
    "            print(0)\n",
    "    elif cmd[0] == 'front':\n",
    "        if len(dq) == 0:\n",
    "            print(-1)\n",
    "        else:\n",
    "            print(dq[0])\n",
    "    elif cmd[0] == 'back':\n",
    "        if len(dq) == 0:\n",
    "            print(-1)\n",
    "        else:\n",
    "            print(dq[-1])\n"
   ]
  },
  {
   "cell_type": "code",
   "execution_count": null,
   "id": "ff49dbd1",
   "metadata": {},
   "outputs": [],
   "source": []
  }
 ],
 "metadata": {
  "kernelspec": {
   "display_name": "Python 3 (ipykernel)",
   "language": "python",
   "name": "python3"
  },
  "language_info": {
   "codemirror_mode": {
    "name": "ipython",
    "version": 3
   },
   "file_extension": ".py",
   "mimetype": "text/x-python",
   "name": "python",
   "nbconvert_exporter": "python",
   "pygments_lexer": "ipython3",
   "version": "3.9.13"
  }
 },
 "nbformat": 4,
 "nbformat_minor": 5
}
