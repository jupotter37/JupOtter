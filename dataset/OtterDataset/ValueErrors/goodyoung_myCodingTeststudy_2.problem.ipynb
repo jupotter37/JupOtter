{
 "cells": [
  {
   "cell_type": "markdown",
   "id": "ca1a9e54-2e35-4cd4-8dba-48a12fd77609",
   "metadata": {
    "jp-MarkdownHeadingCollapsed": true
   },
   "source": [
    "# 모험가 길드\n",
    "- Solve idea\n",
    "  - 가장 큰 수가 있는 사람의 개수로 그룹을 만듬"
   ]
  },
  {
   "cell_type": "code",
   "execution_count": 1,
   "id": "4a778ee9-a080-4a18-a7d2-68d278cf136b",
   "metadata": {},
   "outputs": [],
   "source": [
    "import sys"
   ]
  },
  {
   "cell_type": "code",
   "execution_count": 2,
   "id": "2bde61a4-dfd2-45b0-8450-ff78cffef486",
   "metadata": {
    "collapsed": true,
    "jupyter": {
     "outputs_hidden": true
    },
    "scrolled": true
   },
   "outputs": [
    {
     "ename": "ValueError",
     "evalue": "invalid literal for int() with base 10: ''",
     "output_type": "error",
     "traceback": [
      "\u001b[0;31m---------------------------------------------------------------------------\u001b[0m",
      "\u001b[0;31mValueError\u001b[0m                                Traceback (most recent call last)",
      "Cell \u001b[0;32mIn[2], line 1\u001b[0m\n\u001b[0;32m----> 1\u001b[0m N  \u001b[38;5;241m=\u001b[39m \u001b[38;5;28;43mint\u001b[39;49m\u001b[43m(\u001b[49m\u001b[43msys\u001b[49m\u001b[38;5;241;43m.\u001b[39;49m\u001b[43mstdin\u001b[49m\u001b[38;5;241;43m.\u001b[39;49m\u001b[43mreadline\u001b[49m\u001b[43m(\u001b[49m\u001b[43m)\u001b[49m\u001b[43m)\u001b[49m\n",
      "\u001b[0;31mValueError\u001b[0m: invalid literal for int() with base 10: ''"
     ]
    }
   ],
   "source": [
    "N  = int(sys.stdin.readline())"
   ]
  },
  {
   "cell_type": "code",
   "execution_count": null,
   "id": "abca8a0e-0e08-4cdc-87aa-d81b85b7ee7d",
   "metadata": {},
   "outputs": [],
   "source": [
    "arr = list(sys.stdin.readline().split())"
   ]
  },
  {
   "cell_type": "code",
   "execution_count": 19,
   "id": "24e3ff6f-0d6a-4799-b641-b06d6b3440da",
   "metadata": {},
   "outputs": [],
   "source": [
    "arr = [2,3,1,2,2]\n",
    "arr = [1,1,1,1,1,1,1]"
   ]
  },
  {
   "cell_type": "code",
   "execution_count": 20,
   "id": "9e55b088-f659-4ea7-9444-f4e9dd723471",
   "metadata": {},
   "outputs": [],
   "source": [
    "arr.sort()"
   ]
  },
  {
   "cell_type": "code",
   "execution_count": 21,
   "id": "ccf98014-7099-492c-a536-9c9f9d9991f8",
   "metadata": {},
   "outputs": [
    {
     "name": "stdout",
     "output_type": "stream",
     "text": [
      "7\n"
     ]
    }
   ],
   "source": [
    "cnt = 0\n",
    "while(len(arr)):\n",
    "    max_num = arr[-1]\n",
    "    arr = arr[:-max_num]\n",
    "    cnt +=1\n",
    "print(cnt)"
   ]
  },
  {
   "cell_type": "markdown",
   "id": "37b1c662-097e-4c69-8241-43f84036e7d9",
   "metadata": {
    "jp-MarkdownHeadingCollapsed": true
   },
   "source": [
    "# 곱하기 혹은 더하기\n",
    "- Solve idea\n",
    "  - 지금 숫자나 다음 숫자가 0이면 무조건 + 나머지는 *"
   ]
  },
  {
   "cell_type": "code",
   "execution_count": null,
   "id": "5b7d68fd-2669-4f5a-b75f-4079c572328f",
   "metadata": {},
   "outputs": [],
   "source": [
    "import sys\n",
    "\n",
    "S = sys.stdin.readline()\n",
    "\n",
    "S = '02984'\n",
    "S = '567'\n",
    "\n",
    "result = int(S[0])\n",
    "if result: #첫 숫자가 0이 아니면\n",
    "    flag = 1\n",
    "else:\n",
    "    flag = 0\n",
    "    \n",
    "for i in S[1:]:\n",
    "    num = int(i)\n",
    "    if flag:\n",
    "        result *= num\n",
    "    else:\n",
    "        result += num\n",
    "        \n",
    "    if num:\n",
    "        flag = 1\n",
    "    else:\n",
    "         flag = 0\n",
    "print(result)"
   ]
  },
  {
   "cell_type": "markdown",
   "id": "0ed2d52b-b73a-4afd-aa95-894c76790f6b",
   "metadata": {
    "jp-MarkdownHeadingCollapsed": true
   },
   "source": [
    "# 문자열 뒤집기\n",
    "https://www.acmicpc.net/problem/1439\n",
    "- Solve idea\n",
    "  - 첫번째 그 다음 숫자부터 센다"
   ]
  },
  {
   "cell_type": "code",
   "execution_count": null,
   "id": "8c21128a-0614-45f0-8d50-4b71172305ca",
   "metadata": {},
   "outputs": [],
   "source": [
    "import sys\n",
    "S = sys.stdin.readline().rstrip()\n",
    "\n",
    "num = int(S[0])\n",
    "cnt, flag = 0, 1\n",
    "for i in S[1:]:\n",
    "    if int(i) == num:\n",
    "        flag = 1\n",
    "    else:\n",
    "        if flag:\n",
    "            cnt += 1\n",
    "            flag = 0\n",
    "print(cnt)"
   ]
  },
  {
   "cell_type": "markdown",
   "id": "32e66a8b-695a-4625-8301-a11c875522db",
   "metadata": {
    "jp-MarkdownHeadingCollapsed": true
   },
   "source": [
    "# 만들 수 없는 금액\n",
    "- N개의 동전을 이용하여 만들 수 없는 양의 정수 금액 중 최솟값을 구하는 프로그램\n",
    "- **기존 그리디 개념과 살짝 다른 유형**\n",
    "- Solve idea\n",
    "  - 1 + 1 + 2 점점 쌓인다는 사실을 이해하자.\n",
    "  - 동전의 개수가 유한하다."
   ]
  },
  {
   "cell_type": "code",
   "execution_count": 3,
   "id": "6911e076-8948-4bf4-9685-d36508c503e6",
   "metadata": {},
   "outputs": [
    {
     "name": "stdout",
     "output_type": "stream",
     "text": [
      "2\n",
      "3\n",
      "5\n",
      "8\n"
     ]
    }
   ],
   "source": [
    "target = 1\n",
    "for x in [1,1,2,3,9]:\n",
    "    if target < x:\n",
    "        break\n",
    "    target += x\n",
    "    print(target)"
   ]
  },
  {
   "cell_type": "markdown",
   "id": "9f03a847-81e0-4895-a80d-f44ff68c82f6",
   "metadata": {
    "jp-MarkdownHeadingCollapsed": true
   },
   "source": [
    "# 볼링공 고르기\n",
    "- 볼링공을 고르는 경우의 수\n",
    "- Solve idea\n",
    "  - N이 5이면 -> 4,3,2"
   ]
  },
  {
   "cell_type": "markdown",
   "id": "0e85f830-ee85-4c50-aeb1-41f196f000f2",
   "metadata": {
    "jp-MarkdownHeadingCollapsed": true
   },
   "source": [
    "### 나의 풀이"
   ]
  },
  {
   "cell_type": "code",
   "execution_count": null,
   "id": "62804f52-a7f2-40b4-949a-6153f836b220",
   "metadata": {},
   "outputs": [],
   "source": [
    "import sys\n",
    "\n",
    "N, M = map(int,sys.stdin.readline())\n",
    "arr = map(int,sys.stdin.readline())\n",
    "\n",
    "N = 5\n",
    "arr = [1,3,2,3,2]\n",
    "arr.sort()\n",
    "cnt = 0\n",
    "for i in range(N-1):\n",
    "    num = arr[i]\n",
    "    for j in arr[i+1:]:\n",
    "        if num == j:\n",
    "            continue\n",
    "        cnt += 1\n",
    "        \n",
    "print(cnt)"
   ]
  },
  {
   "cell_type": "markdown",
   "id": "1f8d868d-43ca-4fd3-8674-954254ab7793",
   "metadata": {
    "jp-MarkdownHeadingCollapsed": true
   },
   "source": [
    "### 책 풀이"
   ]
  },
  {
   "cell_type": "code",
   "execution_count": null,
   "id": "b4f7a3b6-4c55-4cd3-a9c8-1aa596705a8b",
   "metadata": {},
   "outputs": [],
   "source": [
    "import sys\n",
    "\n",
    "N, M = map(int,sys.stdin.readline())\n",
    "data = map(int,sys.stdin.readline())\n",
    "# N, M = 5,3\n",
    "# data = [1,3,2,3,2]\n",
    "\n",
    "arr = [0] * (M+1)\n",
    "\n",
    "\n",
    "for i in data:\n",
    "    arr[i] += 1\n",
    "\n",
    "result = 0\n",
    "for i in range(1,M):\n",
    "    N -= arr[i]\n",
    "    result += (arr[i] * N)\n",
    "\n",
    "print(result)"
   ]
  },
  {
   "cell_type": "markdown",
   "id": "7de70e2c-ff96-4f2a-9700-bedee6fbddc3",
   "metadata": {},
   "source": [
    "# 무지의 먹방 라이브\n",
    "https://school.programmers.co.kr/learn/courses/30/lessons/42891"
   ]
  },
  {
   "cell_type": "code",
   "execution_count": null,
   "id": "cef86c55-2938-4630-acec-68696d2e29c4",
   "metadata": {},
   "outputs": [],
   "source": []
  }
 ],
 "metadata": {
  "kernelspec": {
   "display_name": "Python 3 (ipykernel)",
   "language": "python",
   "name": "python3"
  },
  "language_info": {
   "codemirror_mode": {
    "name": "ipython",
    "version": 3
   },
   "file_extension": ".py",
   "mimetype": "text/x-python",
   "name": "python",
   "nbconvert_exporter": "python",
   "pygments_lexer": "ipython3",
   "version": "3.11.5"
  }
 },
 "nbformat": 4,
 "nbformat_minor": 5
}
