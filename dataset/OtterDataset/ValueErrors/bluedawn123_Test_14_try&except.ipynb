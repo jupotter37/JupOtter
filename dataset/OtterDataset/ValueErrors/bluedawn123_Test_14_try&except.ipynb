{
 "cells": [
  {
   "cell_type": "code",
   "execution_count": 1,
   "source": [
    "#예외 처리 전\r\n",
    "userData = int(input())\r\n",
    "result = int(10 / userData)\r\n",
    "print(\"result : {0}\".format(result))  #단어를 넣으면 에러 발생"
   ],
   "outputs": [
    {
     "output_type": "error",
     "ename": "ValueError",
     "evalue": "invalid literal for int() with base 10: 'd'",
     "traceback": [
      "\u001b[1;31m---------------------------------------------------------------------------\u001b[0m",
      "\u001b[1;31mValueError\u001b[0m                                Traceback (most recent call last)",
      "\u001b[1;32m<ipython-input-1-c38178b65870>\u001b[0m in \u001b[0;36m<module>\u001b[1;34m\u001b[0m\n\u001b[1;32m----> 1\u001b[1;33m \u001b[0muserData\u001b[0m \u001b[1;33m=\u001b[0m \u001b[0mint\u001b[0m\u001b[1;33m(\u001b[0m\u001b[0minput\u001b[0m\u001b[1;33m(\u001b[0m\u001b[1;33m)\u001b[0m\u001b[1;33m)\u001b[0m\u001b[1;33m\u001b[0m\u001b[1;33m\u001b[0m\u001b[0m\n\u001b[0m\u001b[0;32m      2\u001b[0m \u001b[0mresult\u001b[0m \u001b[1;33m=\u001b[0m \u001b[0mint\u001b[0m\u001b[1;33m(\u001b[0m\u001b[1;36m10\u001b[0m \u001b[1;33m/\u001b[0m \u001b[0muserData\u001b[0m\u001b[1;33m)\u001b[0m\u001b[1;33m\u001b[0m\u001b[1;33m\u001b[0m\u001b[0m\n\u001b[0;32m      3\u001b[0m \u001b[0mprint\u001b[0m\u001b[1;33m(\u001b[0m\u001b[1;34m\"result : {0}\"\u001b[0m\u001b[1;33m.\u001b[0m\u001b[0mformat\u001b[0m\u001b[1;33m(\u001b[0m\u001b[0mresult\u001b[0m\u001b[1;33m)\u001b[0m\u001b[1;33m)\u001b[0m\u001b[1;33m\u001b[0m\u001b[1;33m\u001b[0m\u001b[0m\n",
      "\u001b[1;31mValueError\u001b[0m: invalid literal for int() with base 10: 'd'"
     ]
    }
   ],
   "metadata": {}
  },
  {
   "cell_type": "code",
   "execution_count": 2,
   "source": [
    "#예외 처리 후\r\n",
    "try:\r\n",
    "    userData = int(input())\r\n",
    "    result = int(10 / userData)\r\n",
    "    print(\"result : {0}\".format(result))  #단어를 넣으면 에러 발생\r\n",
    "\r\n",
    "except:\r\n",
    "    print(\"죄송해요\")"
   ],
   "outputs": [
    {
     "output_type": "stream",
     "name": "stdout",
     "text": [
      "죄송해요\n"
     ]
    }
   ],
   "metadata": {}
  },
  {
   "cell_type": "code",
   "execution_count": 5,
   "source": [
    "#else and finally\r\n",
    "#예외 발생 여부와 상관없이 항상 finally문 실행\r\n",
    "#예외 처리 후\r\n",
    "try:\r\n",
    "    userData = int(input())\r\n",
    "    result = int(10 / userData)\r\n",
    "    print(\"result : {0}\".format(result))  #단어를 넣으면 에러 발생\r\n",
    "\r\n",
    "except:\r\n",
    "    print(\"죄송해요\")\r\n",
    "\r\n",
    "else:\r\n",
    "    print(\"예외 발생 ㄴㄴ\")\r\n",
    "\r\n",
    "finally:\r\n",
    "    print(\"항상 실행\")        #예외가 발생하건 말건 실행 후, 꼭 실행해야하는 경우. (예를들면 db연결 끊기)\r\n",
    "\r\n",
    "'''정상 실행시..\r\n",
    "result : 10\r\n",
    "예외 발생 ㄴㄴ\r\n",
    "항상 실행'''\r\n",
    "\r\n",
    "'''오류실행시...\r\n",
    "죄송해요\r\n",
    "항상 실행\r\n",
    "'''"
   ],
   "outputs": [
    {
     "output_type": "stream",
     "name": "stdout",
     "text": [
      "죄송해요\n",
      "항상 실행\n"
     ]
    },
    {
     "output_type": "execute_result",
     "data": {
      "text/plain": [
       "'오류실행시\\n죄송해요\\n항상 실행...\\n'"
      ]
     },
     "metadata": {},
     "execution_count": 5
    }
   ],
   "metadata": {}
  },
  {
   "cell_type": "code",
   "execution_count": null,
   "source": [],
   "outputs": [],
   "metadata": {}
  }
 ],
 "metadata": {
  "orig_nbformat": 4,
  "language_info": {
   "name": "python",
   "version": "3.8.8",
   "mimetype": "text/x-python",
   "codemirror_mode": {
    "name": "ipython",
    "version": 3
   },
   "pygments_lexer": "ipython3",
   "nbconvert_exporter": "python",
   "file_extension": ".py"
  },
  "kernelspec": {
   "name": "python3",
   "display_name": "Python 3.8.8 64-bit ('base': conda)"
  },
  "interpreter": {
   "hash": "fa422f78b08b4ed23ea77d9d51ba71e035ebabb7673f323e99ba8b680a1634b6"
  }
 },
 "nbformat": 4,
 "nbformat_minor": 2
}