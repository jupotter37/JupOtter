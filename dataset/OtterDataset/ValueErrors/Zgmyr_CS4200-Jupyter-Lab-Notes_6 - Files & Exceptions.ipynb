{
 "cells": [
  {
   "cell_type": "markdown",
   "id": "bf878d16-73dd-42b5-ac50-fb90fe706dfb",
   "metadata": {},
   "source": [
    "# Files & Exceptions"
   ]
  },
  {
   "cell_type": "markdown",
   "id": "187fc72e-5bb9-4848-810f-77b89b99f4f2",
   "metadata": {},
   "source": [
    "## Files"
   ]
  },
  {
   "cell_type": "markdown",
   "id": "fbcf4b2c-c5db-47ec-9719-ee65023d3722",
   "metadata": {},
   "source": [
    "#### 'with' Statement\n",
    "'with' acquires a resource and assigns its corresponding object to a variable. Allows the application to use the resource via that variable. Calls the resource object's close method to release the resource when program control reaches the end of with statement's suite."
   ]
  },
  {
   "cell_type": "markdown",
   "id": "c0674b93-a4f5-4683-9f55-a7ce115e6b50",
   "metadata": {},
   "source": [
    "#### open() Opening Files\n",
    "Opens a file and associates it with a file object. Mode argument specifies the file-open mode:\n",
    "- 'w' ~ opens for writing\n",
    "- 'r' ~ opens for reading\n",
    "- 'r+' or 'W+' ~ opens for both reading & writing\n",
    "- 'a' ~ opens for writing but appends to the end of file\n",
    "- 'a+' ~ opens for both reading & writing but appends to end of file"
   ]
  },
  {
   "cell_type": "markdown",
   "id": "04c01b1f-8c4f-4cc1-99bf-584e407c2f90",
   "metadata": {},
   "source": [
    "#### Writing to Files"
   ]
  },
  {
   "cell_type": "code",
   "execution_count": 11,
   "id": "64119a3d-dbdd-45ca-93d4-a84b8ebd70a9",
   "metadata": {},
   "outputs": [],
   "source": [
    "with open('accounts.txt', mode='w') as accounts:\n",
    "    accounts.write('100 Jones 24.98\\n')\n",
    "    accounts.write('200 Doe 345.67\\n')\n",
    "    accounts.write('300 White 0.00\\n')\n",
    "    accounts.write('400 Stone -42.16\\n')\n",
    "    accounts.write('500 Rich 224.62\\n')"
   ]
  },
  {
   "cell_type": "markdown",
   "id": "a72b902b-0b02-4724-8cfe-5026aa1b5c46",
   "metadata": {},
   "source": [
    "#### Reading Files\n",
    "We can read files using a for-in structure (see example below).\n",
    "\n",
    "Additionally, readlines() can be used to read an entire text file. Returns each line as a string in a list of strings.\n",
    "\n",
    "The system maintains a file-position pointer representing the location of the next character to read. We can adjust this position using the seek() method (i.e. file_object.seek(0) )."
   ]
  },
  {
   "cell_type": "code",
   "execution_count": 13,
   "id": "179200f4-53e6-41f6-b5c6-d86a44b5770d",
   "metadata": {},
   "outputs": [
    {
     "name": "stdout",
     "output_type": "stream",
     "text": [
      "Account   Name         Balance\n",
      "100       Jones          24.98\n",
      "200       Doe           345.67\n",
      "300       White           0.00\n",
      "400       Stone         -42.16\n",
      "500       Rich          224.62\n"
     ]
    }
   ],
   "source": [
    "# reading accounts.txt using a simple for-in structure\n",
    "with open('accounts.txt', mode='r') as accounts:\n",
    "    print(f'{\"Account\":<10}{\"Name\":<10}{\"Balance\":>10}')\n",
    "    for record in accounts:\n",
    "        account, name, balance = record.split()\n",
    "        print(f'{account:<10}{name:<10}{balance:>10}')"
   ]
  },
  {
   "cell_type": "markdown",
   "id": "ea373e54-774e-4e20-ae9d-9a01508682c5",
   "metadata": {},
   "source": [
    "#### Formatting Data Using a Temp File\n",
    "Formatted data written to a text file cannot be modified without the risk of destroying other data. To reformat data, we can make a new temporary file with the desired changes, delete the original file, and rename this new file as the old one"
   ]
  },
  {
   "cell_type": "code",
   "execution_count": 40,
   "id": "9e5f989e-1b23-4d5a-8956-99a2d92fdb16",
   "metadata": {},
   "outputs": [],
   "source": [
    "# os module used for removing & renaming files\n",
    "import os\n",
    "\n",
    "accounts = open('accounts.txt', 'r')\n",
    "temp_file = open('temp_file.txt', 'w')\n",
    "\n",
    "# working with two separate files at the same time\n",
    "with accounts, temp_file:\n",
    "    for record in accounts:\n",
    "        # extracting three variables from each line, stored in account, name, balance\n",
    "        account, name, balance = record.split()\n",
    "        if account != '300':\n",
    "            temp_file.write(record)\n",
    "        else:\n",
    "            # if account is '300' then replace name with 'Williams' on temp file\n",
    "            new_record = ' '.join([account, 'Williams', balance])\n",
    "            temp_file.write(new_record + '\\n')\n",
    "\n",
    "# we may now delete the old file and rename this one to the old filename\n",
    "os.remove('accounts.txt')\n",
    "os.rename('temp_file.txt', 'accounts.txt')"
   ]
  },
  {
   "cell_type": "markdown",
   "id": "a5ca9267-607f-4589-9565-cfb49d2bf561",
   "metadata": {},
   "source": [
    "#### Note on JSON Files\n",
    "JSON objects are similar to Python dictionaries & store:\n",
    "- strings\n",
    "- numbers\n",
    "- JSON boolean values\n",
    "- Null\n",
    "- Arrays\n",
    "- Other JSON objects"
   ]
  },
  {
   "cell_type": "markdown",
   "id": "727bcb27-ac47-44eb-8219-5d626e5396d2",
   "metadata": {},
   "source": [
    "#### JSON Serialization\n",
    "Use json.dump() to convert Pyton objects into appropriate JSON objects."
   ]
  },
  {
   "cell_type": "code",
   "execution_count": 2,
   "id": "1aabdaff-0c7e-4486-9630-43c74ae53ff6",
   "metadata": {},
   "outputs": [],
   "source": [
    "accounts_dict = {'accounts': [\n",
    "    {'account': 100, 'name': 'Jones', 'balance': 24.98},\n",
    "    {'account': 200, 'name': 'Doe', 'balance': 345.67}\n",
    "]}\n",
    "\n",
    "import json\n",
    "\n",
    "with open('accounts.json', 'w') as accounts:\n",
    "    json.dump(accounts_dict, accounts)"
   ]
  },
  {
   "cell_type": "markdown",
   "id": "82207dce-094c-4f3b-bdcd-f2bbe69cd2c2",
   "metadata": {},
   "source": [
    "#### JSON Deserializing\n",
    "We can use json.load() to read an entire JSON contents (from a file object) and convert it into a Python object."
   ]
  },
  {
   "cell_type": "code",
   "execution_count": 5,
   "id": "7d0cf1c4-a5bf-48a9-ae20-88a62b35c8ab",
   "metadata": {},
   "outputs": [
    {
     "data": {
      "text/plain": [
       "{'account': 200, 'name': 'Doe', 'balance': 345.67}"
      ]
     },
     "execution_count": 5,
     "metadata": {},
     "output_type": "execute_result"
    }
   ],
   "source": [
    "with open('accounts.json', 'r') as accounts:\n",
    "    accounts_json = json.load(accounts)\n",
    "\n",
    "# must specify 'accounts' due to the structure of our dictionary\n",
    "#    and can use subscripts 0 & 1 to access two different accounts\n",
    "accounts_json['accounts'][1]"
   ]
  },
  {
   "cell_type": "code",
   "execution_count": 72,
   "id": "065a9a56-0c38-4b5e-aeb3-d8bd8660c5be",
   "metadata": {},
   "outputs": [
    {
     "name": "stdout",
     "output_type": "stream",
     "text": [
      "{\n",
      "    \"accounts\": [\n",
      "        {\n",
      "            \"account\": 100,\n",
      "            \"name\": \"Jones\",\n",
      "            \"balance\": 24.98\n",
      "        },\n",
      "        {\n",
      "            \"account\": 200,\n",
      "            \"name\": \"Doe\",\n",
      "            \"balance\": 345.67\n",
      "        }\n",
      "    ]\n",
      "}\n"
     ]
    }
   ],
   "source": [
    "# we can see the JSON text serialized by printing json.dumps(json.load())\n",
    "with open('accounts.json', 'r') as accounts:\n",
    "    print(json.dumps(json.load(accounts), indent=4))"
   ]
  },
  {
   "cell_type": "markdown",
   "id": "7f966c03-bbba-4c91-910f-671259793a6d",
   "metadata": {},
   "source": [
    "## Exceptions"
   ]
  },
  {
   "cell_type": "markdown",
   "id": "80273898-4dcc-4931-be94-584c37ba61c8",
   "metadata": {},
   "source": [
    "#### Error Types\n",
    "Types of exceptions that may occur when working with files:\n",
    "- FileNotFoundError ~ non-existent file attempted opening for reading\n",
    "- PermissionsError ~ operation is attempted for which one does not have permission\n",
    "- ValueError ~ when an attempt is made to write to a file that is already closed"
   ]
  },
  {
   "cell_type": "code",
   "execution_count": 83,
   "id": "5bd3619a-1be8-414a-a6c4-0d1407a0dcbe",
   "metadata": {},
   "outputs": [
    {
     "ename": "ZeroDivisionError",
     "evalue": "division by zero",
     "output_type": "error",
     "traceback": [
      "\u001b[1;31m---------------------------------------------------------------------------\u001b[0m",
      "\u001b[1;31mZeroDivisionError\u001b[0m                         Traceback (most recent call last)",
      "Cell \u001b[1;32mIn[83], line 2\u001b[0m\n\u001b[0;32m      1\u001b[0m \u001b[38;5;66;03m# ZeroDivisionError\u001b[39;00m\n\u001b[1;32m----> 2\u001b[0m \u001b[38;5;241m10\u001b[39m\u001b[38;5;241m/\u001b[39m\u001b[38;5;241m0\u001b[39m\n",
      "\u001b[1;31mZeroDivisionError\u001b[0m: division by zero"
     ]
    }
   ],
   "source": [
    "# ZeroDivisionError\n",
    "10/0"
   ]
  },
  {
   "cell_type": "code",
   "execution_count": 85,
   "id": "fbccef01-b590-4889-a618-0938c4b919b0",
   "metadata": {},
   "outputs": [
    {
     "ename": "ValueError",
     "evalue": "invalid literal for int() with base 10: 'Hello'",
     "output_type": "error",
     "traceback": [
      "\u001b[1;31m---------------------------------------------------------------------------\u001b[0m",
      "\u001b[1;31mValueError\u001b[0m                                Traceback (most recent call last)",
      "Cell \u001b[1;32mIn[85], line 2\u001b[0m\n\u001b[0;32m      1\u001b[0m \u001b[38;5;66;03m# ValueError\u001b[39;00m\n\u001b[1;32m----> 2\u001b[0m \u001b[38;5;28mint\u001b[39m(\u001b[38;5;124m\"\u001b[39m\u001b[38;5;124mHello\u001b[39m\u001b[38;5;124m\"\u001b[39m)\n",
      "\u001b[1;31mValueError\u001b[0m: invalid literal for int() with base 10: 'Hello'"
     ]
    }
   ],
   "source": [
    "# ValueError\n",
    "int(\"Hello\")"
   ]
  },
  {
   "cell_type": "markdown",
   "id": "8e7d8a27-6ac1-49c0-a70b-54e47bc9dcfd",
   "metadata": {},
   "source": [
    "#### Try Statement - Handling Exceptions\n",
    "Basic structure of a try statement: try -> except (Error_Type) -> else.\n",
    "\n",
    "Note: we can store exceptions in a variable wtih 'except (type1, type2, ...) as variable_name'"
   ]
  },
  {
   "cell_type": "code",
   "execution_count": 94,
   "id": "c5c0b4c3-e14a-4b12-95d3-9b9ee46a8c9f",
   "metadata": {},
   "outputs": [
    {
     "name": "stdin",
     "output_type": "stream",
     "text": [
      "Enter numerator: hello\n"
     ]
    },
    {
     "name": "stdout",
     "output_type": "stream",
     "text": [
      "You must enter two integers\n",
      "\n"
     ]
    },
    {
     "name": "stdin",
     "output_type": "stream",
     "text": [
      "Enter numerator: 3\n",
      "Enter denominator: 0\n"
     ]
    },
    {
     "name": "stdout",
     "output_type": "stream",
     "text": [
      "Attempted to divide by zero\n",
      "\n"
     ]
    },
    {
     "name": "stdin",
     "output_type": "stream",
     "text": [
      "Enter numerator: 3\n",
      "Enter denominator: 2\n"
     ]
    },
    {
     "name": "stdout",
     "output_type": "stream",
     "text": [
      "3.000 / 2.000 = 1.500\n"
     ]
    }
   ],
   "source": [
    "# dividebyzero.py\n",
    "\"\"\"Simple exception handling example\"\"\"\n",
    "\n",
    "while True:\n",
    "    # attempt to convert and divide values\n",
    "    try:\n",
    "        number1 = int(input('Enter numerator:'))\n",
    "        number2 = int(input('Enter denominator:'))\n",
    "        result = number1 / number2\n",
    "    except ValueError: # tried to convert non-numeric value to int\n",
    "        print('You must enter two integers\\n')\n",
    "    except ZeroDivisionError: # denominator was 0\n",
    "        print('Attempted to divide by zero\\n')\n",
    "    else: # executes only if no exceptions occur\n",
    "        print(f'{number1:.3f} / {number2:.3f} = {result:.3f}')\n",
    "        break # terminate the loop"
   ]
  },
  {
   "cell_type": "markdown",
   "id": "a827f97b-dd18-4280-b7aa-a1b1e8d96b8d",
   "metadata": {},
   "source": [
    "#### Note on Exceptions Raised by Functions/Methods\n",
    "Before using any function/method, read the online API documentation for it to be aware of what exceptions are thrown (if any). For each esception, the associated online API documentation must be read to investigate the potential reasons why such an exception may occur."
   ]
  },
  {
   "cell_type": "markdown",
   "id": "f34237d2-8092-40df-ab47-b6048085e03c",
   "metadata": {},
   "source": [
    "#### Note on try Suites\n",
    "Place in a try suite a significant logical selection of a program in which several statements can raise exceptions. For proper execution-handling granularity, each try statement should enclose a section of code small enough to identify the specific context and the except handlers can process the exception properly. If many statements in a try suite raise the same exception types, multiple try statements may be required to determine each exception's context."
   ]
  },
  {
   "cell_type": "markdown",
   "id": "c6d91ddd-0dde-48c2-a073-cae4cfdd59ef",
   "metadata": {},
   "source": [
    "#### Finally Clause\n",
    "A 'finally' clause comes after any except clauses or else clause & is guaranteed to execute, regardless of whether its try suite executes successfully, or an exception occurs."
   ]
  },
  {
   "cell_type": "code",
   "execution_count": 113,
   "id": "cfbf4c47-7746-474e-94c4-54869e1db48c",
   "metadata": {},
   "outputs": [
    {
     "name": "stdout",
     "output_type": "stream",
     "text": [
      "try suite that raises an exception\n",
      "a ValueError occurred\n",
      "finally always executes\n"
     ]
    }
   ],
   "source": [
    "# quick demonstration\n",
    "try:\n",
    "    print('try suite that raises an exception')\n",
    "    int('hello')\n",
    "except ValueError:\n",
    "    print('a ValueError occurred')\n",
    "else:\n",
    "    print('else will not execute because an exception occurred')\n",
    "finally:\n",
    "    print('finally always executes')"
   ]
  },
  {
   "cell_type": "code",
   "execution_count": 119,
   "id": "bf1c421f-b196-4415-8cbf-63e7d90c641b",
   "metadata": {},
   "outputs": [
    {
     "name": "stdout",
     "output_type": "stream",
     "text": [
      "The file name you specified does not exist\n"
     ]
    }
   ],
   "source": [
    "# using finally for file opening\n",
    "try:\n",
    "    with open('gradez.txt', 'r') as accounts:\n",
    "        print(f'{\"ID\":<3}{\"Name\":<7}{\"Grade\"}')\n",
    "        for record in accounts:\n",
    "            student_id, name, grade = record.split()\n",
    "            print(f'{student_id:<3}{name:<7}{grade}')\n",
    "except FileNotFoundError:\n",
    "    print('The file name you specified does not exist')"
   ]
  },
  {
   "cell_type": "markdown",
   "id": "a0a73ce6-305d-44ee-9dab-713c0320019b",
   "metadata": {},
   "source": [
    "#### Raising an Exception\n",
    "When writing functions we can raise exceptions to inform callers of errors that occur. Raise statement creates an object of the specified exception class.\n",
    "- Exception class name may be followed by parentheses containing arguments to initialize the exception object (e.g. provide custom error message string)\n",
    "- Each exception object stores information indicating the precise serires of function calls that led to exception"
   ]
  },
  {
   "cell_type": "code",
   "execution_count": 129,
   "id": "aaddb5df-9715-46d1-81ad-153fe34fad3d",
   "metadata": {},
   "outputs": [
    {
     "ename": "Exception",
     "evalue": "An exception occurred",
     "output_type": "error",
     "traceback": [
      "\u001b[1;31m---------------------------------------------------------------------------\u001b[0m",
      "\u001b[1;31mException\u001b[0m                                 Traceback (most recent call last)",
      "Cell \u001b[1;32mIn[129], line 8\u001b[0m\n\u001b[0;32m      5\u001b[0m \u001b[38;5;28;01mdef\u001b[39;00m \u001b[38;5;21mfunction2\u001b[39m():\n\u001b[0;32m      6\u001b[0m     \u001b[38;5;28;01mraise\u001b[39;00m \u001b[38;5;167;01mException\u001b[39;00m(\u001b[38;5;124m'\u001b[39m\u001b[38;5;124mAn exception occurred\u001b[39m\u001b[38;5;124m'\u001b[39m)\n\u001b[1;32m----> 8\u001b[0m function1()\n",
      "Cell \u001b[1;32mIn[129], line 3\u001b[0m, in \u001b[0;36mfunction1\u001b[1;34m()\u001b[0m\n\u001b[0;32m      2\u001b[0m \u001b[38;5;28;01mdef\u001b[39;00m \u001b[38;5;21mfunction1\u001b[39m():\n\u001b[1;32m----> 3\u001b[0m     function2()\n",
      "Cell \u001b[1;32mIn[129], line 6\u001b[0m, in \u001b[0;36mfunction2\u001b[1;34m()\u001b[0m\n\u001b[0;32m      5\u001b[0m \u001b[38;5;28;01mdef\u001b[39;00m \u001b[38;5;21mfunction2\u001b[39m():\n\u001b[1;32m----> 6\u001b[0m     \u001b[38;5;28;01mraise\u001b[39;00m \u001b[38;5;167;01mException\u001b[39;00m(\u001b[38;5;124m'\u001b[39m\u001b[38;5;124mAn exception occurred\u001b[39m\u001b[38;5;124m'\u001b[39m)\n",
      "\u001b[1;31mException\u001b[0m: An exception occurred"
     ]
    }
   ],
   "source": [
    "# raising an exception through stacked function calls\n",
    "def function1():\n",
    "    function2()\n",
    "\n",
    "def function2():\n",
    "    raise Exception('An exception occurred')\n",
    "\n",
    "function1()\n",
    "\n",
    "# see Traceback below to see function stack"
   ]
  },
  {
   "cell_type": "markdown",
   "id": "8fe41c0c-7ad7-4abe-b737-b05781f3087d",
   "metadata": {},
   "source": [
    "#### Stack Unwinding\n",
    "Traceback shows the type of exception that occurred followed by the complete function call stack that led to the raise point. When an exception is not caught, stack unwinding occurs (see previous example)."
   ]
  },
  {
   "cell_type": "markdown",
   "id": "5b5478bf-b96d-41e2-a502-51377ae6791c",
   "metadata": {},
   "source": [
    "## Data Science - CSV Files"
   ]
  },
  {
   "cell_type": "markdown",
   "id": "bfd49cab-383a-4ea3-a60f-632caa2eb656",
   "metadata": {},
   "source": [
    "#### Writing to csv File\n",
    "The csv module's writer function returns an object that writes CSV data to the specified file object."
   ]
  },
  {
   "cell_type": "code",
   "execution_count": 135,
   "id": "4cfc9df6-5845-45f6-9e51-b3b6fc4fe517",
   "metadata": {},
   "outputs": [],
   "source": [
    "import csv\n",
    "\n",
    "with open('accounts.csv', mode='w', newline='') as accounts:\n",
    "    writer = csv.writer(accounts)\n",
    "    writer.writerow([100, 'Jones', 24.98])\n",
    "    writer.writerow([200, 'Doe', 345.67])\n",
    "    writer.writerow([300, 'White', 0.00])\n",
    "    writer.writerow([400, 'Stone', -42.16])\n",
    "    writer.writerow([500, 'Rich', 224.62])"
   ]
  },
  {
   "cell_type": "markdown",
   "id": "5675d01b-1c69-4360-8850-8fa6d15cf496",
   "metadata": {},
   "source": [
    "#### Reading from a csv File\n",
    "The csv module's reader function allows us to read CSV data from specified file object."
   ]
  },
  {
   "cell_type": "code",
   "execution_count": 142,
   "id": "29675670-6212-470b-8b90-59e8a84cc064",
   "metadata": {},
   "outputs": [
    {
     "name": "stdout",
     "output_type": "stream",
     "text": [
      "Account   Name         Balance\n",
      "100       Jones          24.98\n",
      "200       Doe           345.67\n",
      "300       White            0.0\n",
      "400       Stone         -42.16\n",
      "500       Rich          224.62\n"
     ]
    }
   ],
   "source": [
    "with open('accounts.csv', 'r', newline='') as accounts:\n",
    "    print(f'{\"Account\":<10}{\"Name\":<10}{\"Balance\":>10}')\n",
    "    reader = csv.reader(accounts)\n",
    "    for record in reader:\n",
    "        account, name, balance = record\n",
    "        print(f'{account:<10}{name:<10}{balance:>10}')"
   ]
  },
  {
   "cell_type": "markdown",
   "id": "02b82f63-d789-4692-ae1d-8466d2f422e5",
   "metadata": {},
   "source": [
    "#### Reading CSV files into Pandas DataFrames"
   ]
  },
  {
   "cell_type": "code",
   "execution_count": 146,
   "id": "938ff448-2901-4390-b748-c73b42629483",
   "metadata": {},
   "outputs": [
    {
     "data": {
      "text/html": [
       "<div>\n",
       "<style scoped>\n",
       "    .dataframe tbody tr th:only-of-type {\n",
       "        vertical-align: middle;\n",
       "    }\n",
       "\n",
       "    .dataframe tbody tr th {\n",
       "        vertical-align: top;\n",
       "    }\n",
       "\n",
       "    .dataframe thead th {\n",
       "        text-align: right;\n",
       "    }\n",
       "</style>\n",
       "<table border=\"1\" class=\"dataframe\">\n",
       "  <thead>\n",
       "    <tr style=\"text-align: right;\">\n",
       "      <th></th>\n",
       "      <th>account</th>\n",
       "      <th>name</th>\n",
       "      <th>balance</th>\n",
       "    </tr>\n",
       "  </thead>\n",
       "  <tbody>\n",
       "    <tr>\n",
       "      <th>0</th>\n",
       "      <td>100</td>\n",
       "      <td>Jones</td>\n",
       "      <td>24.98</td>\n",
       "    </tr>\n",
       "    <tr>\n",
       "      <th>1</th>\n",
       "      <td>200</td>\n",
       "      <td>Doe</td>\n",
       "      <td>345.67</td>\n",
       "    </tr>\n",
       "    <tr>\n",
       "      <th>2</th>\n",
       "      <td>300</td>\n",
       "      <td>White</td>\n",
       "      <td>0.00</td>\n",
       "    </tr>\n",
       "    <tr>\n",
       "      <th>3</th>\n",
       "      <td>400</td>\n",
       "      <td>Stone</td>\n",
       "      <td>-42.16</td>\n",
       "    </tr>\n",
       "    <tr>\n",
       "      <th>4</th>\n",
       "      <td>500</td>\n",
       "      <td>Rich</td>\n",
       "      <td>224.62</td>\n",
       "    </tr>\n",
       "  </tbody>\n",
       "</table>\n",
       "</div>"
      ],
      "text/plain": [
       "   account   name  balance\n",
       "0      100  Jones    24.98\n",
       "1      200    Doe   345.67\n",
       "2      300  White     0.00\n",
       "3      400  Stone   -42.16\n",
       "4      500   Rich   224.62"
      ]
     },
     "execution_count": 146,
     "metadata": {},
     "output_type": "execute_result"
    }
   ],
   "source": [
    "import pandas as pd\n",
    "\n",
    "df = pd.read_csv('accounts.csv',\n",
    "                names=['account','name','balance'])\n",
    "df"
   ]
  },
  {
   "cell_type": "markdown",
   "id": "3cb22ce1-eda6-4016-ab0a-63eb172127d5",
   "metadata": {},
   "source": [
    "#### Example - Reading the Titanic Disaster Dataset"
   ]
  },
  {
   "cell_type": "code",
   "execution_count": 160,
   "id": "8f25a05e-c554-422b-885e-3f484f9a7de2",
   "metadata": {},
   "outputs": [
    {
     "data": {
      "text/html": [
       "<div>\n",
       "<style scoped>\n",
       "    .dataframe tbody tr th:only-of-type {\n",
       "        vertical-align: middle;\n",
       "    }\n",
       "\n",
       "    .dataframe tbody tr th {\n",
       "        vertical-align: top;\n",
       "    }\n",
       "\n",
       "    .dataframe thead th {\n",
       "        text-align: right;\n",
       "    }\n",
       "</style>\n",
       "<table border=\"1\" class=\"dataframe\">\n",
       "  <thead>\n",
       "    <tr style=\"text-align: right;\">\n",
       "      <th></th>\n",
       "      <th>rownames</th>\n",
       "      <th>survived</th>\n",
       "      <th>sex</th>\n",
       "      <th>age</th>\n",
       "      <th>passengerClass</th>\n",
       "    </tr>\n",
       "  </thead>\n",
       "  <tbody>\n",
       "    <tr>\n",
       "      <th>0</th>\n",
       "      <td>Allen, Miss. Elisabeth Walton</td>\n",
       "      <td>yes</td>\n",
       "      <td>female</td>\n",
       "      <td>29.00</td>\n",
       "      <td>1st</td>\n",
       "    </tr>\n",
       "    <tr>\n",
       "      <th>1</th>\n",
       "      <td>Allison, Master. Hudson Trevor</td>\n",
       "      <td>yes</td>\n",
       "      <td>male</td>\n",
       "      <td>0.92</td>\n",
       "      <td>1st</td>\n",
       "    </tr>\n",
       "    <tr>\n",
       "      <th>2</th>\n",
       "      <td>Allison, Miss. Helen Loraine</td>\n",
       "      <td>no</td>\n",
       "      <td>female</td>\n",
       "      <td>2.00</td>\n",
       "      <td>1st</td>\n",
       "    </tr>\n",
       "    <tr>\n",
       "      <th>3</th>\n",
       "      <td>Allison, Mr. Hudson Joshua Crei</td>\n",
       "      <td>no</td>\n",
       "      <td>male</td>\n",
       "      <td>30.00</td>\n",
       "      <td>1st</td>\n",
       "    </tr>\n",
       "    <tr>\n",
       "      <th>4</th>\n",
       "      <td>Allison, Mrs. Hudson J C (Bessi</td>\n",
       "      <td>no</td>\n",
       "      <td>female</td>\n",
       "      <td>25.00</td>\n",
       "      <td>1st</td>\n",
       "    </tr>\n",
       "  </tbody>\n",
       "</table>\n",
       "</div>"
      ],
      "text/plain": [
       "                          rownames survived     sex    age passengerClass\n",
       "0    Allen, Miss. Elisabeth Walton      yes  female  29.00            1st\n",
       "1   Allison, Master. Hudson Trevor      yes    male   0.92            1st\n",
       "2     Allison, Miss. Helen Loraine       no  female   2.00            1st\n",
       "3  Allison, Mr. Hudson Joshua Crei       no    male  30.00            1st\n",
       "4  Allison, Mrs. Hudson J C (Bessi       no  female  25.00            1st"
      ]
     },
     "execution_count": 160,
     "metadata": {},
     "output_type": "execute_result"
    }
   ],
   "source": [
    "# getting our dataset from URL\n",
    "titanic = pd.read_csv('https://vincentarelbundock.github.io/' +\n",
    "                     'Rdatasets/csv/carData/TitanicSurvival.csv')\n",
    "\n",
    "# format for floating-point values\n",
    "pd.set_option('display.precision', 2)\n",
    "\n",
    "# view some rows\n",
    "titanic.head()"
   ]
  },
  {
   "cell_type": "code",
   "execution_count": 162,
   "id": "a48e3383-623f-4fe1-bfeb-bbecdfdc26f2",
   "metadata": {},
   "outputs": [
    {
     "data": {
      "text/html": [
       "<div>\n",
       "<style scoped>\n",
       "    .dataframe tbody tr th:only-of-type {\n",
       "        vertical-align: middle;\n",
       "    }\n",
       "\n",
       "    .dataframe tbody tr th {\n",
       "        vertical-align: top;\n",
       "    }\n",
       "\n",
       "    .dataframe thead th {\n",
       "        text-align: right;\n",
       "    }\n",
       "</style>\n",
       "<table border=\"1\" class=\"dataframe\">\n",
       "  <thead>\n",
       "    <tr style=\"text-align: right;\">\n",
       "      <th></th>\n",
       "      <th>name</th>\n",
       "      <th>survived</th>\n",
       "      <th>sex</th>\n",
       "      <th>age</th>\n",
       "      <th>class</th>\n",
       "    </tr>\n",
       "  </thead>\n",
       "  <tbody>\n",
       "    <tr>\n",
       "      <th>0</th>\n",
       "      <td>Allen, Miss. Elisabeth Walton</td>\n",
       "      <td>yes</td>\n",
       "      <td>female</td>\n",
       "      <td>29.00</td>\n",
       "      <td>1st</td>\n",
       "    </tr>\n",
       "    <tr>\n",
       "      <th>1</th>\n",
       "      <td>Allison, Master. Hudson Trevor</td>\n",
       "      <td>yes</td>\n",
       "      <td>male</td>\n",
       "      <td>0.92</td>\n",
       "      <td>1st</td>\n",
       "    </tr>\n",
       "    <tr>\n",
       "      <th>2</th>\n",
       "      <td>Allison, Miss. Helen Loraine</td>\n",
       "      <td>no</td>\n",
       "      <td>female</td>\n",
       "      <td>2.00</td>\n",
       "      <td>1st</td>\n",
       "    </tr>\n",
       "    <tr>\n",
       "      <th>3</th>\n",
       "      <td>Allison, Mr. Hudson Joshua Crei</td>\n",
       "      <td>no</td>\n",
       "      <td>male</td>\n",
       "      <td>30.00</td>\n",
       "      <td>1st</td>\n",
       "    </tr>\n",
       "    <tr>\n",
       "      <th>4</th>\n",
       "      <td>Allison, Mrs. Hudson J C (Bessi</td>\n",
       "      <td>no</td>\n",
       "      <td>female</td>\n",
       "      <td>25.00</td>\n",
       "      <td>1st</td>\n",
       "    </tr>\n",
       "  </tbody>\n",
       "</table>\n",
       "</div>"
      ],
      "text/plain": [
       "                              name survived     sex    age class\n",
       "0    Allen, Miss. Elisabeth Walton      yes  female  29.00   1st\n",
       "1   Allison, Master. Hudson Trevor      yes    male   0.92   1st\n",
       "2     Allison, Miss. Helen Loraine       no  female   2.00   1st\n",
       "3  Allison, Mr. Hudson Joshua Crei       no    male  30.00   1st\n",
       "4  Allison, Mrs. Hudson J C (Bessi       no  female  25.00   1st"
      ]
     },
     "execution_count": 162,
     "metadata": {},
     "output_type": "execute_result"
    }
   ],
   "source": [
    "# cleaning up our dataset\n",
    "titanic.columns = ['name', 'survived', 'sex', 'age', 'class']\n",
    "\n",
    "titanic.head()"
   ]
  },
  {
   "cell_type": "code",
   "execution_count": 166,
   "id": "838e3093-9478-43ed-a328-de530ade4a3f",
   "metadata": {},
   "outputs": [
    {
     "data": {
      "text/html": [
       "<div>\n",
       "<style scoped>\n",
       "    .dataframe tbody tr th:only-of-type {\n",
       "        vertical-align: middle;\n",
       "    }\n",
       "\n",
       "    .dataframe tbody tr th {\n",
       "        vertical-align: top;\n",
       "    }\n",
       "\n",
       "    .dataframe thead th {\n",
       "        text-align: right;\n",
       "    }\n",
       "</style>\n",
       "<table border=\"1\" class=\"dataframe\">\n",
       "  <thead>\n",
       "    <tr style=\"text-align: right;\">\n",
       "      <th></th>\n",
       "      <th>age</th>\n",
       "    </tr>\n",
       "  </thead>\n",
       "  <tbody>\n",
       "    <tr>\n",
       "      <th>count</th>\n",
       "      <td>1046.00</td>\n",
       "    </tr>\n",
       "    <tr>\n",
       "      <th>mean</th>\n",
       "      <td>29.88</td>\n",
       "    </tr>\n",
       "    <tr>\n",
       "      <th>std</th>\n",
       "      <td>14.41</td>\n",
       "    </tr>\n",
       "    <tr>\n",
       "      <th>min</th>\n",
       "      <td>0.17</td>\n",
       "    </tr>\n",
       "    <tr>\n",
       "      <th>25%</th>\n",
       "      <td>21.00</td>\n",
       "    </tr>\n",
       "    <tr>\n",
       "      <th>50%</th>\n",
       "      <td>28.00</td>\n",
       "    </tr>\n",
       "    <tr>\n",
       "      <th>75%</th>\n",
       "      <td>39.00</td>\n",
       "    </tr>\n",
       "    <tr>\n",
       "      <th>max</th>\n",
       "      <td>80.00</td>\n",
       "    </tr>\n",
       "  </tbody>\n",
       "</table>\n",
       "</div>"
      ],
      "text/plain": [
       "           age\n",
       "count  1046.00\n",
       "mean     29.88\n",
       "std      14.41\n",
       "min       0.17\n",
       "25%      21.00\n",
       "50%      28.00\n",
       "75%      39.00\n",
       "max      80.00"
      ]
     },
     "execution_count": 166,
     "metadata": {},
     "output_type": "execute_result"
    }
   ],
   "source": [
    "# simple data analysis with titanic disaster dataset\n",
    "# note: describe() only calculates statistics for numeric columns\n",
    "titanic.describe()"
   ]
  },
  {
   "cell_type": "code",
   "execution_count": 170,
   "id": "088cdb55-5c37-4f9a-b071-bf5633fd71fb",
   "metadata": {},
   "outputs": [
    {
     "data": {
      "text/plain": [
       "count      1309\n",
       "unique        2\n",
       "top       False\n",
       "freq        809\n",
       "Name: survived, dtype: object"
      ]
     },
     "execution_count": 170,
     "metadata": {},
     "output_type": "execute_result"
    }
   ],
   "source": [
    "(titanic.survived == 'yes').describe()"
   ]
  },
  {
   "cell_type": "code",
   "execution_count": 176,
   "id": "97ccbd7f-86e3-4151-8c52-472598e1b6b2",
   "metadata": {},
   "outputs": [
    {
     "name": "stdout",
     "output_type": "stream",
     "text": [
      "Using matplotlib backend: QtAgg\n"
     ]
    },
    {
     "data": {
      "text/plain": [
       "array([[<Axes: title={'center': 'age'}>]], dtype=object)"
      ]
     },
     "execution_count": 176,
     "metadata": {},
     "output_type": "execute_result"
    }
   ],
   "source": [
    "%matplotlib\n",
    "histogram = titanic.hist()\n",
    "histogram"
   ]
  },
  {
   "cell_type": "code",
   "execution_count": null,
   "id": "c035d6de-819a-4e0c-9ec0-4e1a9639cc02",
   "metadata": {},
   "outputs": [],
   "source": []
  }
 ],
 "metadata": {
  "kernelspec": {
   "display_name": "Python [conda env:base] *",
   "language": "python",
   "name": "conda-base-py"
  },
  "language_info": {
   "codemirror_mode": {
    "name": "ipython",
    "version": 3
   },
   "file_extension": ".py",
   "mimetype": "text/x-python",
   "name": "python",
   "nbconvert_exporter": "python",
   "pygments_lexer": "ipython3",
   "version": "3.12.3"
  }
 },
 "nbformat": 4,
 "nbformat_minor": 5
}
