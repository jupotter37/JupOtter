{
 "cells": [
  {
   "cell_type": "markdown",
   "metadata": {
    "toc": true
   },
   "source": [
    "<h1>Table of Contents<span class=\"tocSkip\"></span></h1>\n",
    "<div class=\"toc\"><ul class=\"toc-item\"><li><span><a href=\"#Slicing-and-indexing\" data-toc-modified-id=\"Slicing-and-indexing-1\">Slicing and indexing</a></span></li><li><span><a href=\"#Concatenating-&amp;-Repetition\" data-toc-modified-id=\"Concatenating-&amp;-Repetition-2\">Concatenating &amp; Repetition</a></span></li><li><span><a href=\"#String-methods\" data-toc-modified-id=\"String-methods-3\">String methods</a></span></li><li><span><a href=\"#Converting-from-string-to-number-(and-back)\" data-toc-modified-id=\"Converting-from-string-to-number-(and-back)-4\">Converting from string to number (and back)</a></span></li><li><span><a href=\"#Building-strings-by-concatenation\" data-toc-modified-id=\"Building-strings-by-concatenation-5\">Building strings by concatenation</a></span></li><li><span><a href=\"#Optional:-converting-floats-to-nicely-formatted-text\" data-toc-modified-id=\"Optional:-converting-floats-to-nicely-formatted-text-6\">Optional: converting floats to nicely formatted text</a></span></li><li><span><a href=\"#Exercises\" data-toc-modified-id=\"Exercises-7\">Exercises</a></span><ul class=\"toc-item\"><li><span><a href=\"#Exercise-1:-simple-stuff\" data-toc-modified-id=\"Exercise-1:-simple-stuff-7.1\">Exercise 1: simple stuff</a></span></li><li><span><a href=\"#Exercise-2:-Revisit-old-code\" data-toc-modified-id=\"Exercise-2:-Revisit-old-code-7.2\">Exercise 2: Revisit old code</a></span></li><li><span><a href=\"#Exercise-3\" data-toc-modified-id=\"Exercise-3-7.3\">Exercise 3</a></span></li><li><span><a href=\"#Exercise-4\" data-toc-modified-id=\"Exercise-4-7.4\">Exercise 4</a></span></li><li><span><a href=\"#Exercise-5\" data-toc-modified-id=\"Exercise-5-7.5\">Exercise 5</a></span></li><li><span><a href=\"#Exercise-6\" data-toc-modified-id=\"Exercise-6-7.6\">Exercise 6</a></span></li><li><span><a href=\"#Exercise-7\" data-toc-modified-id=\"Exercise-7-7.7\">Exercise 7</a></span></li></ul></li></ul></div>"
   ]
  },
  {
   "cell_type": "markdown",
   "metadata": {},
   "source": [
    "# Strings\n",
    "\n",
    "See also: https://www.tutorialspoint.com/python_text_processing/index.htm\n",
    "\n",
    "## Slicing and indexing\n",
    "\n",
    "Strings are used to record textual information. Strings should be considered as a sequence: an ordered collection of characters.\n",
    "\n",
    "![](https://developers.google.com/edu/python/images/hello.png)\n",
    "\n",
    "See also here for more information about slicing and indexing strings: https://developers.google.com/edu/python/strings#string-slices\n"
   ]
  },
  {
   "cell_type": "code",
   "execution_count": 1,
   "metadata": {},
   "outputs": [
    {
     "name": "stdout",
     "output_type": "stream",
     "text": [
      "16\n",
      "t\n"
     ]
    }
   ],
   "source": [
    "a = 'this is a string'\n",
    "\n",
    "print(len(a)) #Get the length of string (the number of characters).\n",
    "print(a[0]) #The first character has index 0"
   ]
  },
  {
   "cell_type": "code",
   "execution_count": 7,
   "metadata": {},
   "outputs": [
    {
     "name": "stdout",
     "output_type": "stream",
     "text": [
      " \n"
     ]
    }
   ],
   "source": [
    "print(a[4]) #Spaces are characters as well - this will print a whitespace"
   ]
  },
  {
   "cell_type": "code",
   "execution_count": 8,
   "metadata": {},
   "outputs": [
    {
     "name": "stdout",
     "output_type": "stream",
     "text": [
      "this i\n"
     ]
    }
   ],
   "source": [
    "print(a[0:6])"
   ]
  },
  {
   "cell_type": "code",
   "execution_count": 9,
   "metadata": {},
   "outputs": [
    {
     "name": "stdout",
     "output_type": "stream",
     "text": [
      "g\n",
      "n\n"
     ]
    }
   ],
   "source": [
    "print(a[-1]) # The last item from the end in S\n",
    "print(a[-2]) # The second-to-last item from the end"
   ]
  },
  {
   "cell_type": "code",
   "execution_count": 10,
   "metadata": {},
   "outputs": [
    {
     "name": "stdout",
     "output_type": "stream",
     "text": [
      "his is a string\n",
      "thi\n",
      "thi\n",
      "this is a strin\n",
      "this is a string\n"
     ]
    }
   ],
   "source": [
    "print(a[1:]) # Everything past the first (1:len(a))\n",
    "print(a[0:3]) # Three first characters\n",
    "print(a[:3]) # Same as a[0:3]\n",
    "print(a[:-1]) # Everything but the last again, but simpler (0:-1)\n",
    "print(a[:]) # All of a"
   ]
  },
  {
   "cell_type": "markdown",
   "metadata": {},
   "source": [
    "## Concatenating & Repetition\n",
    "\n",
    "Strings also support concatenation with the plus sign (joining two strings into a new string) and repetition (making a new string by repeating another)."
   ]
  },
  {
   "cell_type": "code",
   "execution_count": 11,
   "metadata": {},
   "outputs": [
    {
     "name": "stdout",
     "output_type": "stream",
     "text": [
      "this is a stringthis is a string\n",
      "this is a string this is a string\n"
     ]
    }
   ],
   "source": [
    "print(a+a)\n",
    "print(a + \" \" + a)"
   ]
  },
  {
   "cell_type": "code",
   "execution_count": 12,
   "metadata": {},
   "outputs": [
    {
     "name": "stdout",
     "output_type": "stream",
     "text": [
      "this is a stringthis is a stringthis is a string\n"
     ]
    }
   ],
   "source": [
    "print(a*3)"
   ]
  },
  {
   "cell_type": "code",
   "execution_count": 13,
   "metadata": {},
   "outputs": [
    {
     "name": "stdout",
     "output_type": "stream",
     "text": [
      "well, this is very very very nice!!!\n"
     ]
    }
   ],
   "source": [
    "print('well, ' + 'this is ' + 'very ' * 3 + 'nice' + '!'*3)"
   ]
  },
  {
   "cell_type": "markdown",
   "metadata": {},
   "source": [
    "## String methods\n",
    "\n",
    "Strings come with a number of neat methods for string manipulations. Below I show a selection of these.\n",
    "\n",
    "See https://docs.python.org/3/library/stdtypes.html#string-methods for the full documentation."
   ]
  },
  {
   "cell_type": "code",
   "execution_count": 14,
   "metadata": {},
   "outputs": [
    {
     "data": {
      "text/plain": [
       "'This is a string'"
      ]
     },
     "execution_count": 14,
     "metadata": {},
     "output_type": "execute_result"
    }
   ],
   "source": [
    "a.capitalize() #Capitalizes first letter of string"
   ]
  },
  {
   "cell_type": "code",
   "execution_count": 15,
   "metadata": {},
   "outputs": [
    {
     "data": {
      "text/plain": [
       "'**this is a string**'"
      ]
     },
     "execution_count": 15,
     "metadata": {},
     "output_type": "execute_result"
    }
   ],
   "source": [
    "a.center(20,'*') #Returns a space-padded string with the original string centered to a total of width columns."
   ]
  },
  {
   "cell_type": "code",
   "execution_count": 16,
   "metadata": {},
   "outputs": [
    {
     "data": {
      "text/plain": [
       "3"
      ]
     },
     "execution_count": 16,
     "metadata": {},
     "output_type": "execute_result"
    }
   ],
   "source": [
    "a.count('i') #Counts how many times a substring occurs in the string"
   ]
  },
  {
   "cell_type": "code",
   "execution_count": 17,
   "metadata": {},
   "outputs": [
    {
     "data": {
      "text/plain": [
       "True"
      ]
     },
     "execution_count": 17,
     "metadata": {},
     "output_type": "execute_result"
    }
   ],
   "source": [
    "a.endswith('ng') #Determines if string or a substring of string ends with a given suffix"
   ]
  },
  {
   "cell_type": "code",
   "execution_count": 18,
   "metadata": {},
   "outputs": [
    {
     "data": {
      "text/plain": [
       "False"
      ]
     },
     "execution_count": 18,
     "metadata": {},
     "output_type": "execute_result"
    }
   ],
   "source": [
    "a.startswith('string') #Determines if string or a substring of string starts with a given suffix"
   ]
  },
  {
   "cell_type": "code",
   "execution_count": 19,
   "metadata": {},
   "outputs": [
    {
     "data": {
      "text/plain": [
       "False"
      ]
     },
     "execution_count": 19,
     "metadata": {},
     "output_type": "execute_result"
    }
   ],
   "source": [
    "a.isspace() #Returns true if string contains only whitespace characters and false otherwise."
   ]
  },
  {
   "cell_type": "code",
   "execution_count": 20,
   "metadata": {},
   "outputs": [
    {
     "data": {
      "text/plain": [
       "'THIS IS A STRING'"
      ]
     },
     "execution_count": 20,
     "metadata": {},
     "output_type": "execute_result"
    }
   ],
   "source": [
    "a.upper() #Converts the string to upper case"
   ]
  },
  {
   "cell_type": "code",
   "execution_count": 21,
   "metadata": {},
   "outputs": [
    {
     "name": "stdout",
     "output_type": "stream",
     "text": [
      "this is a string\n",
      "his is a string\n"
     ]
    }
   ],
   "source": [
    "print(a.rstrip(\",\")) #Removes selected trailing/leading characters\n",
    "print(a.lstrip('t'))\n"
   ]
  },
  {
   "cell_type": "code",
   "execution_count": 22,
   "metadata": {},
   "outputs": [
    {
     "data": {
      "text/plain": [
       "'this is a banana'"
      ]
     },
     "execution_count": 22,
     "metadata": {},
     "output_type": "execute_result"
    }
   ],
   "source": [
    "a.replace('string','banana') #replace a substring"
   ]
  },
  {
   "cell_type": "code",
   "execution_count": 23,
   "metadata": {},
   "outputs": [
    {
     "name": "stdout",
     "output_type": "stream",
     "text": [
      "['John', 'Doe']\n"
     ]
    }
   ],
   "source": [
    "a.split(' ')\n",
    "name = 'John,Doe'\n",
    "print(name.split(','))"
   ]
  },
  {
   "cell_type": "markdown",
   "metadata": {},
   "source": [
    "## Converting from string to number (and back)"
   ]
  },
  {
   "cell_type": "code",
   "execution_count": 24,
   "metadata": {},
   "outputs": [
    {
     "data": {
      "text/plain": [
       "'10'"
      ]
     },
     "execution_count": 24,
     "metadata": {},
     "output_type": "execute_result"
    }
   ],
   "source": [
    "# From a float or an integer to a string\n",
    "a = 10\n",
    "str(a)"
   ]
  },
  {
   "cell_type": "code",
   "execution_count": 25,
   "metadata": {},
   "outputs": [
    {
     "data": {
      "text/plain": [
       "'10.5'"
      ]
     },
     "execution_count": 25,
     "metadata": {},
     "output_type": "execute_result"
    }
   ],
   "source": [
    "b = 10.5\n",
    "str(b)"
   ]
  },
  {
   "cell_type": "code",
   "execution_count": 3,
   "metadata": {},
   "outputs": [
    {
     "data": {
      "text/plain": [
       "10.0"
      ]
     },
     "execution_count": 3,
     "metadata": {},
     "output_type": "execute_result"
    }
   ],
   "source": [
    "# The other way around\n",
    "a = '10'\n",
    "float(a)"
   ]
  },
  {
   "cell_type": "code",
   "execution_count": 4,
   "metadata": {},
   "outputs": [
    {
     "data": {
      "text/plain": [
       "10"
      ]
     },
     "execution_count": 4,
     "metadata": {},
     "output_type": "execute_result"
    }
   ],
   "source": [
    "a = '10'\n",
    "int(a)"
   ]
  },
  {
   "cell_type": "code",
   "execution_count": 5,
   "metadata": {
    "scrolled": true
   },
   "outputs": [
    {
     "ename": "ValueError",
     "evalue": "invalid literal for int() with base 10: '10/.5'",
     "output_type": "error",
     "traceback": [
      "\u001b[0;31m---------------------------------------------------------------------------\u001b[0m",
      "\u001b[0;31mValueError\u001b[0m                                Traceback (most recent call last)",
      "\u001b[0;32m<ipython-input-5-4c979d3048b0>\u001b[0m in \u001b[0;36m<module>\u001b[0;34m()\u001b[0m\n\u001b[1;32m      1\u001b[0m \u001b[0;31m# This does not work!\u001b[0m\u001b[0;34m\u001b[0m\u001b[0;34m\u001b[0m\u001b[0m\n\u001b[1;32m      2\u001b[0m \u001b[0ma\u001b[0m \u001b[0;34m=\u001b[0m \u001b[0;34m'10/.5'\u001b[0m\u001b[0;34m\u001b[0m\u001b[0m\n\u001b[0;32m----> 3\u001b[0;31m \u001b[0mint\u001b[0m\u001b[0;34m(\u001b[0m\u001b[0ma\u001b[0m\u001b[0;34m)\u001b[0m\u001b[0;34m\u001b[0m\u001b[0m\n\u001b[0m",
      "\u001b[0;31mValueError\u001b[0m: invalid literal for int() with base 10: '10/.5'"
     ]
    }
   ],
   "source": [
    "# This does not work!\n",
    "a = '10/.5'\n",
    "int(a)"
   ]
  },
  {
   "cell_type": "markdown",
   "metadata": {},
   "source": [
    "## Building strings by concatenation\n",
    "\n",
    "You can build strings, for nicer output, by sticking strings together before printing to the screen. The easiest way is using the `+` sign."
   ]
  },
  {
   "cell_type": "code",
   "execution_count": 1,
   "metadata": {},
   "outputs": [
    {
     "name": "stdout",
     "output_type": "stream",
     "text": [
      "This is a random number: 0.3591519926256337\n"
     ]
    }
   ],
   "source": [
    "import random\n",
    "n = random.random()\n",
    "print('This is a random number: ' + str(n))"
   ]
  },
  {
   "cell_type": "code",
   "execution_count": 5,
   "metadata": {},
   "outputs": [
    {
     "name": "stdout",
     "output_type": "stream",
     "text": [
      "I've slept 1501 milliseconds\n"
     ]
    }
   ],
   "source": [
    "import time\n",
    "start = time.time()\n",
    "time.sleep(1.5)\n",
    "end = time.time()\n",
    "\n",
    "delta = int((end - start) * 1000)\n",
    "delta = str(delta)\n",
    "print(\"I've slept \" + delta + \" milliseconds!\")"
   ]
  },
  {
   "cell_type": "markdown",
   "metadata": {},
   "source": [
    "## Optional: converting floats to nicely formatted text\n",
    "\n",
    "Floats can be printed in a nice format by using a formatting string. This describes the 'old' way formatting strings: https://docs.python.org/2/library/stdtypes.html#string-formatting. This old way formatting strings is still the most commonly used one. It's also the most intuitive method. In the interst of completness, this link describes the 'new' way to format strings: https://pyformat.info/.\n",
    "\n",
    "This is how you build a formating string\n",
    "\n",
    "+ required:   start sign: %\n",
    "+ optional:   flag: +, -, 0,\n",
    "+ optional:   minimum number of characters to use in printing the number\n",
    "+ required:   the decimal dot\n",
    "+ required:   number of decimal places\n",
    "+ required:   the letter `f` to indicate a float is printed"
   ]
  },
  {
   "cell_type": "code",
   "execution_count": 5,
   "metadata": {
    "scrolled": true
   },
   "outputs": [
    {
     "data": {
      "text/plain": [
       "'00012.2900'"
      ]
     },
     "execution_count": 5,
     "metadata": {},
     "output_type": "execute_result"
    }
   ],
   "source": [
    "'%010.4f' % 12.29"
   ]
  },
  {
   "cell_type": "code",
   "execution_count": 10,
   "metadata": {},
   "outputs": [
    {
     "name": "stdout",
     "output_type": "stream",
     "text": [
      "1235.4135\n"
     ]
    },
    {
     "data": {
      "text/plain": [
       "'099.23% of 1245.00 is 1235.41'"
      ]
     },
     "execution_count": 10,
     "metadata": {},
     "output_type": "execute_result"
    }
   ],
   "source": [
    "number = 1245\n",
    "pct = 99.23\n",
    "\n",
    "result = (pct * number)/100\n",
    "print(result)\n",
    "\n",
    "'%06.2f%% of %.2f is %.2f' % (pct, number, result)"
   ]
  },
  {
   "cell_type": "markdown",
   "metadata": {},
   "source": [
    "## Exercises\n",
    "\n",
    "### Exercise 1: simple stuff\n",
    "\n",
    "+ Write a script that (1) assigns your first name to a variable `v1`, (2) assigns your last name to a variable `v2`, (3) uses `v1` and `v2` to define a variable `v3` listing your complete name, and (4) prints `v3` to screen.\n",
    "+ Edit the previous script to make sure your name is always printed with capitals.\n",
    "+ Concatenate your name 10 times with each instance seperated with a space.\n",
    "+ Convert your name to all caps, assign the result to a new variable.\n",
    "+ Print a message to the screen saying `The current time is`, followed by the current time and date (use the `time.asctime()` function to get a string stating the current time & date).\n",
    "\n",
    "### Exercise 2: Revisit old code\n",
    "\n",
    "Now you know how to work with text, you can use these skills to make the output of your previous scripts nicer.\n",
    "\n",
    "Write a script that calculates the compounded interest $i$ given a starting capital $p$, an interest rate `r`, and a duration in years $y$. The equation is:\n",
    "\n",
    "$$i = p \\times (1 + r)^y$$\n",
    "\n",
    "Print out some nicely formatted text. For example\n",
    "\n",
    "\n",
    "```\n",
    "5.00 YEAR PROJECTION\n",
    "\n",
    "Capital:        $2500.00\n",
    "Rate:           3.00%\n",
    "Interest:       $398.19\n",
    "Total:          $2898.19\n",
    "```\n",
    "\n",
    "### Exercise 3\n",
    "\n",
    "Write a short script that does the following:\n",
    "\n",
    "* Assigns your first name to a variable\n",
    "* Assigns your family name to a variable\n",
    "* Creates a new variable containing your initials\n",
    "* Print that variable to screen\n",
    "\n",
    "For example, for me (Dieter Vanderelst), the script would print `DV` to screen.\n",
    "\n",
    "### Exercise 4\n",
    "\n",
    "Write a script that does the following:\n",
    "\n",
    "* Assign the text below to a variable.\n",
    "* Prints out the length of the text.\n",
    "* Prints out the number of e's in the text.\n",
    "\n",
    "```\n",
    "It was the best of times, it was the worst of times, it was the age of wisdom, it was the age of foolishness, it was the epoch of belief, it was the epoch of incredulity, it was the season of Light, it was the season of Darkness, it was the spring of hope, it was the winter of despair, we had everything before us, we had nothing before us, we were all going direct to Heaven, we were all going direct the other way – in short, the period was so far like the present period, that some of its noisiest authorities insisted on its being received, for good or for evil, in the superlative degree of comparison only.\n",
    "```\n",
    "\n",
    "### Exercise 5\n",
    "\n",
    "Write a script that does the following:\n",
    "\n",
    "* Assigns a number to a variable, .e.g, `number= 5` .\n",
    "* Assigns a some drink name to a variable, `drink='soda'` .\n",
    "* Prints out a variation of the rhyme below where\n",
    "  * The `x` is replaced by the number in the first variable.\n",
    "  * `y` is replaced by the drinks name\n",
    "  * The `z`  is replaced by the number in the first variable, minus 1 (`number-1`).\n",
    "\n",
    "```\n",
    "x bottles of y on the wall. x bottles of y. If one of those bottles should happen to fall, z bottles of y on the wall.\n",
    "```\n",
    "\n",
    "### Exercise 6\n",
    "\n",
    "Write a script that assigns a string to a variable `text`. The script swaps the first and the last letter in `text`, and prints the result. For example, for `text='python'`, the script print `nythop`.\n",
    "\n",
    "### Exercise 7\n",
    "\n",
    "Write a script that calculates the surface area of a circle from a given diameter. The script prints out the results using the following format (assuming the result of the calculation is 6.23553): \n",
    "\n",
    "```\n",
    "The surface is 6.23553\n",
    "```\n"
   ]
  }
 ],
 "metadata": {
  "anaconda-cloud": {},
  "kernelspec": {
   "display_name": "Python 3 (ipykernel)",
   "language": "python",
   "name": "python3"
  },
  "language_info": {
   "codemirror_mode": {
    "name": "ipython",
    "version": 3
   },
   "file_extension": ".py",
   "mimetype": "text/x-python",
   "name": "python",
   "nbconvert_exporter": "python",
   "pygments_lexer": "ipython3",
   "version": "3.7.13"
  },
  "nav_menu": {},
  "toc": {
   "base_numbering": 1,
   "nav_menu": {
    "height": "117px",
    "width": "252px"
   },
   "number_sections": false,
   "sideBar": true,
   "skip_h1_title": true,
   "title_cell": "Table of Contents",
   "title_sidebar": "Contents",
   "toc_cell": true,
   "toc_position": {
    "height": "353px",
    "left": "0px",
    "right": "751px",
    "top": "162px",
    "width": "188px"
   },
   "toc_section_display": "block",
   "toc_window_display": true
  },
  "toc_position": {
   "height": "846px",
   "left": "0px",
   "right": "1708px",
   "top": "107px",
   "width": "212px"
  }
 },
 "nbformat": 4,
 "nbformat_minor": 1
}
