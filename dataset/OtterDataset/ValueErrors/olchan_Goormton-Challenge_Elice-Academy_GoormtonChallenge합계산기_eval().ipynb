{
  "nbformat": 4,
  "nbformat_minor": 0,
  "metadata": {
    "colab": {
      "provenance": []
    },
    "kernelspec": {
      "name": "python3",
      "display_name": "Python 3"
    },
    "language_info": {
      "name": "python"
    }
  },
  "cells": [
    {
      "cell_type": "code",
      "execution_count": 7,
      "metadata": {
        "colab": {
          "base_uri": "https://localhost:8080/"
        },
        "id": "2n3t6OcOlJaw",
        "outputId": "40b9130a-78f2-4c1d-ea19-fa4bd1b2c82a"
      },
      "outputs": [
        {
          "output_type": "stream",
          "name": "stdout",
          "text": [
            "1\n",
            "2 + 4\n",
            "6\n"
          ]
        }
      ],
      "source": [
        "# My code\n",
        "import math\n",
        "calNum = int(input())\n",
        "c = []\n",
        "for i in range(calNum):\n",
        "\tcal_result = eval(input())\n",
        "\tcal_result = int(cal_result)\n",
        "\tc.append(cal_result)\n",
        "print(sum(c))"
      ]
    },
    {
      "cell_type": "code",
      "source": [
        "# Answer Code\n",
        "result = 0\n",
        "T = int(input())\n",
        "\n",
        "for i in range(T):\n",
        "\ts = input().split()\n",
        "\tfirstNum = int(s[0])\n",
        "\tcommand = s[1]\n",
        "\tsecondNum = int(s[2])\n",
        "\n",
        "\tif command == \"+\":\n",
        "\t\tresult += firstNum + secondNum\n",
        "\telif command == \"-\":\n",
        "\t\tresult += firstNum - secondNum\n",
        "\telif command == \"*\":\n",
        "\t\tresult += firstNum * secondNum\n",
        "\telse:\n",
        "\t\tresult += firstNum // secondNum\n",
        "\n",
        "print(result)"
      ],
      "metadata": {
        "id": "PbK5zcsuuhdc"
      },
      "execution_count": null,
      "outputs": []
    },
    {
      "cell_type": "markdown",
      "source": [
        "## **Newly noticed Acknowledge**\n",
        "- 문자열을 나눌 때 사용하는 split() : list를 반환\n",
        "## **eval() 메서드**\n",
        "- 문자로 표현된 expression을 그대로 실행해준다.\n",
        "```python\n",
        "exp = \"1 + 2\"\n",
        "result = eval(exp)\n",
        "print(result)\n",
        "# 3\n",
        "```\n",
        "### **eval()의 위험성**\n",
        "```python\n",
        "exp = \"__import__('os').system('ls -altr')\"\n",
        "result = eval(exp)\n",
        "print(result)\n",
        "```\n",
        "위의 스크립트를 실행하면 \"ls_altr\"를 실행한 결과가 리턴된다. 단순히 directory entry를 출력하는 ls명령어 대신 악성코드를 다운해서 실행시키는 것도 가능하기에, eval()함수는 여러 사용자가 함께 사용하는 프로그램에는 사용하지 않는 것이 좋다.\n",
        "---\n",
        "#### **계산식의 부호와 수를 분리하기**\n",
        "\n",
        "\n",
        "```python\n",
        "if command == \"+\":\n",
        "\tresult += firstNum + secondNum\n",
        "elif command == \"-\":\n",
        "\tresult += firstNum - secondNum\n",
        "elif command == \"*\":\n",
        "\tresult += firstNum * secondNum\n",
        "# 위의 셋 모두 아니므로 나누기 부분\n",
        "else:\n",
        "\tresult += firstNum // secondNum\n",
        "```\n",
        "\n",
        "\n",
        "---\n",
        "```python\n",
        "ValueError: invalid literal for int() with base 10:\n",
        "```\n",
        "- 실수형을 int로 변환하면 문제없이 코드가 돌아가지만 문자형일 경우 int함수가 받을 수 있는 값이 아니기 때문에 에러가 발생합니다.\n",
        "- ex) '2.4'를 정수형으로 바꾸기\n",
        "\n",
        "### **solution**\n",
        "- 문자형을 우선 실수형으로 변경 후 정수형으로 변경합니다.\n",
        "```python\n",
        "height = input(\"키 정보 cm 단위로 입력:\")\n",
        "height = float(height)\n",
        "height = int(height)\n",
        "```\n",
        "---\n",
        "- strip()은 공백 제거\n",
        "```python\n",
        "# strip()\n",
        "ex_str = \"                   hello         \"\n",
        "ex_str.strip()\n",
        "# 'hello'\n",
        "```\n",
        "- strip() 안에 문자열을 넣어도 된다.\n",
        "```python\n",
        "'www.example.com'.strip('w')\n",
        "# '.example.com'\n",
        "```\n",
        "```python\n",
        "# lstrip() 을 사용했을 때,\n",
        "url.lstrip('https://')\n",
        "```\n",
        "---\n",
        "#### **int()**\n",
        "- int() 함수는 주어진 숫자를 정수로 변환하는 함수이며, 소수점 이하는 단순히 제거됨"
      ],
      "metadata": {
        "id": "HYsGpm_YpNGM"
      }
    }
  ]
}