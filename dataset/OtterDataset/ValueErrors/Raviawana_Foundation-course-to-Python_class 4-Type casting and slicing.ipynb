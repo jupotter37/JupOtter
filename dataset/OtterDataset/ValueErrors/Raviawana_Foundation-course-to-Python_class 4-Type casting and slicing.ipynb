{
 "cells": [
  {
   "cell_type": "markdown",
   "id": "8de9193d",
   "metadata": {},
   "source": [
    "# Type casting \n",
    "\n",
    "\n",
    "IT is a process that converts a variable's data type into another data type. These conversions can be implicit (automatically interpreted) or explicit (using built-in functions)\n",
    "\n",
    "It is of two types\n",
    "\n",
    "1) Implicit type casting\n",
    "2) Explicit type casting"
   ]
  },
  {
   "cell_type": "markdown",
   "id": "894f0473",
   "metadata": {},
   "source": [
    "## 1- Implicit type casting\n",
    "\n",
    "Python automatically does this without programers intervention"
   ]
  },
  {
   "cell_type": "code",
   "execution_count": 1,
   "id": "1e77586d",
   "metadata": {},
   "outputs": [
    {
     "name": "stdout",
     "output_type": "stream",
     "text": [
      "<class 'int'>\n",
      "<class 'float'>\n"
     ]
    }
   ],
   "source": [
    "a=5\n",
    "b=10.00\n",
    "print(type(a))\n",
    "print(type(b))"
   ]
  },
  {
   "cell_type": "code",
   "execution_count": 2,
   "id": "b9c2928c",
   "metadata": {},
   "outputs": [
    {
     "data": {
      "text/plain": [
       "15.0"
      ]
     },
     "execution_count": 2,
     "metadata": {},
     "output_type": "execute_result"
    }
   ],
   "source": [
    "a+b"
   ]
  },
  {
   "cell_type": "code",
   "execution_count": 3,
   "id": "0835e49f",
   "metadata": {},
   "outputs": [],
   "source": [
    "c=a+b"
   ]
  },
  {
   "cell_type": "code",
   "execution_count": 4,
   "id": "867f4de4",
   "metadata": {},
   "outputs": [
    {
     "data": {
      "text/plain": [
       "float"
      ]
     },
     "execution_count": 4,
     "metadata": {},
     "output_type": "execute_result"
    }
   ],
   "source": [
    "type(c)"
   ]
  },
  {
   "cell_type": "markdown",
   "id": "bfadf5ab",
   "metadata": {},
   "source": [
    " Like above examples python automatically changed the type of variable ( int+flot= flot) so your data type is conveerted automatically to a larger one \n",
    " \n",
    " another example"
   ]
  },
  {
   "cell_type": "code",
   "execution_count": 5,
   "id": "c6d75e40",
   "metadata": {},
   "outputs": [
    {
     "data": {
      "text/plain": [
       "int"
      ]
     },
     "execution_count": 5,
     "metadata": {},
     "output_type": "execute_result"
    }
   ],
   "source": [
    "d=15\n",
    "e=True\n",
    "f=d+e\n",
    "type(f)\n"
   ]
  },
  {
   "cell_type": "markdown",
   "id": "a3ca4cce",
   "metadata": {},
   "source": [
    "## 2-Explicit type casting\n",
    "\n",
    "When done explicitly by the programmer "
   ]
  },
  {
   "cell_type": "code",
   "execution_count": 6,
   "id": "d98f52f8",
   "metadata": {},
   "outputs": [
    {
     "data": {
      "text/plain": [
       "''"
      ]
     },
     "execution_count": 6,
     "metadata": {},
     "output_type": "execute_result"
    }
   ],
   "source": [
    "int()\n",
    "float()\n",
    "bool()\n",
    "str()\n",
    " "
   ]
  },
  {
   "cell_type": "code",
   "execution_count": 7,
   "id": "5397307a",
   "metadata": {},
   "outputs": [
    {
     "data": {
      "text/plain": [
       "11"
      ]
     },
     "execution_count": 7,
     "metadata": {},
     "output_type": "execute_result"
    }
   ],
   "source": [
    "5+int(\"6\") "
   ]
  },
  {
   "cell_type": "code",
   "execution_count": 10,
   "id": "90b51a8d",
   "metadata": {},
   "outputs": [
    {
     "data": {
      "text/plain": [
       "'56'"
      ]
     },
     "execution_count": 10,
     "metadata": {},
     "output_type": "execute_result"
    }
   ],
   "source": [
    "str(5)+'6' # It doesnt know by itslef that (5) is a string me as a programmer told it "
   ]
  },
  {
   "cell_type": "markdown",
   "id": "6742fb38",
   "metadata": {},
   "source": [
    "### Int"
   ]
  },
  {
   "cell_type": "code",
   "execution_count": 11,
   "id": "2e9fba2e",
   "metadata": {},
   "outputs": [
    {
     "data": {
      "text/plain": [
       "4"
      ]
     },
     "execution_count": 11,
     "metadata": {},
     "output_type": "execute_result"
    }
   ],
   "source": [
    "int(4)"
   ]
  },
  {
   "cell_type": "code",
   "execution_count": 12,
   "id": "7d993749",
   "metadata": {},
   "outputs": [
    {
     "data": {
      "text/plain": [
       "56"
      ]
     },
     "execution_count": 12,
     "metadata": {},
     "output_type": "execute_result"
    }
   ],
   "source": [
    "int(56.9)"
   ]
  },
  {
   "cell_type": "code",
   "execution_count": 13,
   "id": "6e7a4e4a",
   "metadata": {},
   "outputs": [
    {
     "data": {
      "text/plain": [
       "1"
      ]
     },
     "execution_count": 13,
     "metadata": {},
     "output_type": "execute_result"
    }
   ],
   "source": [
    "int(True)"
   ]
  },
  {
   "cell_type": "code",
   "execution_count": 14,
   "id": "06464c18",
   "metadata": {},
   "outputs": [
    {
     "ename": "TypeError",
     "evalue": "int() argument must be a string, a bytes-like object or a real number, not 'complex'",
     "output_type": "error",
     "traceback": [
      "\u001b[0;31m---------------------------------------------------------------------------\u001b[0m",
      "\u001b[0;31mTypeError\u001b[0m                                 Traceback (most recent call last)",
      "Cell \u001b[0;32mIn[14], line 1\u001b[0m\n\u001b[0;32m----> 1\u001b[0m \u001b[38;5;28mint\u001b[39m(\u001b[38;5;241m3\u001b[39m\u001b[38;5;241m+\u001b[39m\u001b[38;5;241m5\u001b[39mj)\n",
      "\u001b[0;31mTypeError\u001b[0m: int() argument must be a string, a bytes-like object or a real number, not 'complex'"
     ]
    }
   ],
   "source": [
    "int(3+5j)"
   ]
  },
  {
   "cell_type": "code",
   "execution_count": 15,
   "id": "48fc20f0",
   "metadata": {},
   "outputs": [
    {
     "ename": "ValueError",
     "evalue": "invalid literal for int() with base 10: 'python'",
     "output_type": "error",
     "traceback": [
      "\u001b[0;31m---------------------------------------------------------------------------\u001b[0m",
      "\u001b[0;31mValueError\u001b[0m                                Traceback (most recent call last)",
      "Cell \u001b[0;32mIn[15], line 1\u001b[0m\n\u001b[0;32m----> 1\u001b[0m \u001b[38;5;28mint\u001b[39m(\u001b[38;5;124m'\u001b[39m\u001b[38;5;124mpython\u001b[39m\u001b[38;5;124m'\u001b[39m)\n",
      "\u001b[0;31mValueError\u001b[0m: invalid literal for int() with base 10: 'python'"
     ]
    }
   ],
   "source": [
    "int('python')"
   ]
  },
  {
   "cell_type": "code",
   "execution_count": 17,
   "id": "4575add3",
   "metadata": {},
   "outputs": [
    {
     "data": {
      "text/plain": [
       "10"
      ]
     },
     "execution_count": 17,
     "metadata": {},
     "output_type": "execute_result"
    }
   ],
   "source": [
    " int('0010')"
   ]
  },
  {
   "cell_type": "code",
   "execution_count": 18,
   "id": "c33e7d3f",
   "metadata": {},
   "outputs": [
    {
     "ename": "ValueError",
     "evalue": "invalid literal for int() with base 10: '2.447458'",
     "output_type": "error",
     "traceback": [
      "\u001b[0;31m---------------------------------------------------------------------------\u001b[0m",
      "\u001b[0;31mValueError\u001b[0m                                Traceback (most recent call last)",
      "Cell \u001b[0;32mIn[18], line 1\u001b[0m\n\u001b[0;32m----> 1\u001b[0m \u001b[38;5;28mint\u001b[39m(\u001b[38;5;124m'\u001b[39m\u001b[38;5;124m2.447458\u001b[39m\u001b[38;5;124m'\u001b[39m)\n",
      "\u001b[0;31mValueError\u001b[0m: invalid literal for int() with base 10: '2.447458'"
     ]
    }
   ],
   "source": [
    "int('2.447458')"
   ]
  },
  {
   "cell_type": "markdown",
   "id": "336fec99",
   "metadata": {},
   "source": [
    "### Float"
   ]
  },
  {
   "cell_type": "code",
   "execution_count": 19,
   "id": "2791cc86",
   "metadata": {},
   "outputs": [
    {
     "data": {
      "text/plain": [
       "25.0"
      ]
     },
     "execution_count": 19,
     "metadata": {},
     "output_type": "execute_result"
    }
   ],
   "source": [
    "float(25)"
   ]
  },
  {
   "cell_type": "code",
   "execution_count": 20,
   "id": "9084a0b1",
   "metadata": {},
   "outputs": [
    {
     "data": {
      "text/plain": [
       "1.0"
      ]
     },
     "execution_count": 20,
     "metadata": {},
     "output_type": "execute_result"
    }
   ],
   "source": [
    "float(True)"
   ]
  },
  {
   "cell_type": "code",
   "execution_count": 21,
   "id": "a7d970c9",
   "metadata": {},
   "outputs": [
    {
     "ename": "TypeError",
     "evalue": "float() argument must be a string or a real number, not 'complex'",
     "output_type": "error",
     "traceback": [
      "\u001b[0;31m---------------------------------------------------------------------------\u001b[0m",
      "\u001b[0;31mTypeError\u001b[0m                                 Traceback (most recent call last)",
      "Cell \u001b[0;32mIn[21], line 1\u001b[0m\n\u001b[0;32m----> 1\u001b[0m \u001b[38;5;28mfloat\u001b[39m(\u001b[38;5;241m35\u001b[39m\u001b[38;5;241m+\u001b[39m\u001b[38;5;241m8\u001b[39mj)\n",
      "\u001b[0;31mTypeError\u001b[0m: float() argument must be a string or a real number, not 'complex'"
     ]
    }
   ],
   "source": [
    " float(35+8j)"
   ]
  },
  {
   "cell_type": "code",
   "execution_count": 22,
   "id": "bf386e11",
   "metadata": {},
   "outputs": [
    {
     "data": {
      "text/plain": [
       "10.0"
      ]
     },
     "execution_count": 22,
     "metadata": {},
     "output_type": "execute_result"
    }
   ],
   "source": [
    "float(0b1010)"
   ]
  },
  {
   "cell_type": "markdown",
   "id": "ddc21f32",
   "metadata": {},
   "source": [
    "### Complex"
   ]
  },
  {
   "cell_type": "code",
   "execution_count": 23,
   "id": "faab76bb",
   "metadata": {},
   "outputs": [
    {
     "data": {
      "text/plain": [
       "(25+0j)"
      ]
     },
     "execution_count": 23,
     "metadata": {},
     "output_type": "execute_result"
    }
   ],
   "source": [
    "complex(25)"
   ]
  },
  {
   "cell_type": "code",
   "execution_count": 24,
   "id": "c3970bf6",
   "metadata": {},
   "outputs": [
    {
     "data": {
      "text/plain": [
       "(1+0j)"
      ]
     },
     "execution_count": 24,
     "metadata": {},
     "output_type": "execute_result"
    }
   ],
   "source": [
    " complex(True)"
   ]
  },
  {
   "cell_type": "code",
   "execution_count": 25,
   "id": "bb198b6a",
   "metadata": {},
   "outputs": [
    {
     "data": {
      "text/plain": [
       "(25+0j)"
      ]
     },
     "execution_count": 25,
     "metadata": {},
     "output_type": "execute_result"
    }
   ],
   "source": [
    "complex('25')"
   ]
  },
  {
   "cell_type": "code",
   "execution_count": 27,
   "id": "83724e36",
   "metadata": {},
   "outputs": [
    {
     "data": {
      "text/plain": [
       "(25+5j)"
      ]
     },
     "execution_count": 27,
     "metadata": {},
     "output_type": "execute_result"
    }
   ],
   "source": [
    "complex('25+5j')"
   ]
  },
  {
   "cell_type": "code",
   "execution_count": 28,
   "id": "867b37af",
   "metadata": {},
   "outputs": [
    {
     "data": {
      "text/plain": [
       "26j"
      ]
     },
     "execution_count": 28,
     "metadata": {},
     "output_type": "execute_result"
    }
   ],
   "source": [
    "complex(26j)"
   ]
  },
  {
   "cell_type": "code",
   "execution_count": 29,
   "id": "5063b3ae",
   "metadata": {},
   "outputs": [
    {
     "ename": "SyntaxError",
     "evalue": "invalid decimal literal (671045993.py, line 1)",
     "output_type": "error",
     "traceback": [
      "\u001b[0;36m  Cell \u001b[0;32mIn[29], line 1\u001b[0;36m\u001b[0m\n\u001b[0;31m    complex(25i)\u001b[0m\n\u001b[0m             ^\u001b[0m\n\u001b[0;31mSyntaxError\u001b[0m\u001b[0;31m:\u001b[0m invalid decimal literal\n"
     ]
    }
   ],
   "source": [
    " complex(25i)"
   ]
  },
  {
   "cell_type": "code",
   "execution_count": 30,
   "id": "2b956368",
   "metadata": {},
   "outputs": [
    {
     "data": {
      "text/plain": [
       "25j"
      ]
     },
     "execution_count": 30,
     "metadata": {},
     "output_type": "execute_result"
    }
   ],
   "source": [
    "complex('25J')"
   ]
  },
  {
   "cell_type": "markdown",
   "id": "a4dde3c2",
   "metadata": {},
   "source": [
    " ### Bool\n",
    " \n",
    " In bool everything but 0 is True\n",
    " \n",
    " 0 and 0.0  and 0+0j is False except it everything is Tru ( In int,float,complex but not in str)"
   ]
  },
  {
   "cell_type": "code",
   "execution_count": 31,
   "id": "7b25315b",
   "metadata": {},
   "outputs": [
    {
     "data": {
      "text/plain": [
       "True"
      ]
     },
     "execution_count": 31,
     "metadata": {},
     "output_type": "execute_result"
    }
   ],
   "source": [
    "bool(1)"
   ]
  },
  {
   "cell_type": "code",
   "execution_count": 32,
   "id": "d47fee22",
   "metadata": {},
   "outputs": [
    {
     "data": {
      "text/plain": [
       "False"
      ]
     },
     "execution_count": 32,
     "metadata": {},
     "output_type": "execute_result"
    }
   ],
   "source": [
    "bool(0)"
   ]
  },
  {
   "cell_type": "code",
   "execution_count": 33,
   "id": "5bee00eb",
   "metadata": {},
   "outputs": [
    {
     "data": {
      "text/plain": [
       "True"
      ]
     },
     "execution_count": 33,
     "metadata": {},
     "output_type": "execute_result"
    }
   ],
   "source": [
    "bool(-1)"
   ]
  },
  {
   "cell_type": "code",
   "execution_count": 34,
   "id": "9986ec35",
   "metadata": {},
   "outputs": [
    {
     "data": {
      "text/plain": [
       "True"
      ]
     },
     "execution_count": 34,
     "metadata": {},
     "output_type": "execute_result"
    }
   ],
   "source": [
    "bool('True')"
   ]
  },
  {
   "cell_type": "code",
   "execution_count": 35,
   "id": "405bb6d6",
   "metadata": {},
   "outputs": [
    {
     "data": {
      "text/plain": [
       "False"
      ]
     },
     "execution_count": 35,
     "metadata": {},
     "output_type": "execute_result"
    }
   ],
   "source": [
    "bool(False)"
   ]
  },
  {
   "cell_type": "code",
   "execution_count": 36,
   "id": "c5068fb4",
   "metadata": {},
   "outputs": [
    {
     "data": {
      "text/plain": [
       "True"
      ]
     },
     "execution_count": 36,
     "metadata": {},
     "output_type": "execute_result"
    }
   ],
   "source": [
    "bool('False')"
   ]
  },
  {
   "cell_type": "markdown",
   "id": "143e37ce",
   "metadata": {},
   "source": [
    " #### Str in bool\n",
    " \n",
    "1) Only empty str i.e ''  is false \n",
    "\n"
   ]
  },
  {
   "cell_type": "code",
   "execution_count": 37,
   "id": "3c211706",
   "metadata": {},
   "outputs": [
    {
     "data": {
      "text/plain": [
       "True"
      ]
     },
     "execution_count": 37,
     "metadata": {},
     "output_type": "execute_result"
    }
   ],
   "source": [
    "bool('False')"
   ]
  },
  {
   "cell_type": "code",
   "execution_count": 38,
   "id": "e7aa3009",
   "metadata": {},
   "outputs": [
    {
     "data": {
      "text/plain": [
       "True"
      ]
     },
     "execution_count": 38,
     "metadata": {},
     "output_type": "execute_result"
    }
   ],
   "source": [
    "bool('false')"
   ]
  },
  {
   "cell_type": "code",
   "execution_count": 39,
   "id": "c494a7f7",
   "metadata": {},
   "outputs": [
    {
     "data": {
      "text/plain": [
       "True"
      ]
     },
     "execution_count": 39,
     "metadata": {},
     "output_type": "execute_result"
    }
   ],
   "source": [
    "bool('5+5j')   # If you are seeing it as a complex number than it is false but see it as a str"
   ]
  },
  {
   "cell_type": "code",
   "execution_count": 40,
   "id": "30ee11c5",
   "metadata": {},
   "outputs": [
    {
     "data": {
      "text/plain": [
       "True"
      ]
     },
     "execution_count": 40,
     "metadata": {},
     "output_type": "execute_result"
    }
   ],
   "source": [
    "bool(\"0+0j\")"
   ]
  },
  {
   "cell_type": "code",
   "execution_count": 41,
   "id": "d9a47163",
   "metadata": {},
   "outputs": [],
   "source": [
    "# ONly empty str is false"
   ]
  },
  {
   "cell_type": "code",
   "execution_count": 42,
   "id": "a32d5400",
   "metadata": {},
   "outputs": [
    {
     "data": {
      "text/plain": [
       "False"
      ]
     },
     "execution_count": 42,
     "metadata": {},
     "output_type": "execute_result"
    }
   ],
   "source": [
    "bool('')"
   ]
  },
  {
   "cell_type": "code",
   "execution_count": 43,
   "id": "21d04b56",
   "metadata": {},
   "outputs": [
    {
     "data": {
      "text/plain": [
       "True"
      ]
     },
     "execution_count": 43,
     "metadata": {},
     "output_type": "execute_result"
    }
   ],
   "source": [
    "bool(' ')"
   ]
  },
  {
   "cell_type": "markdown",
   "id": "14b05159",
   "metadata": {},
   "source": [
    "Only str with len = 0 is False\n",
    "\n",
    "'0','0+0','0+0j' = True"
   ]
  },
  {
   "cell_type": "code",
   "execution_count": 44,
   "id": "1680f434",
   "metadata": {},
   "outputs": [
    {
     "data": {
      "text/plain": [
       "False"
      ]
     },
     "execution_count": 44,
     "metadata": {},
     "output_type": "execute_result"
    }
   ],
   "source": [
    " bool(complex(\"0+0j\"))"
   ]
  },
  {
   "cell_type": "markdown",
   "id": "ecb9ea44",
   "metadata": {},
   "source": [
    "  Empty list [] , set{}, () Tuple is False otherwise true"
   ]
  },
  {
   "cell_type": "code",
   "execution_count": 45,
   "id": "54660973",
   "metadata": {},
   "outputs": [
    {
     "data": {
      "text/plain": [
       "False"
      ]
     },
     "execution_count": 45,
     "metadata": {},
     "output_type": "execute_result"
    }
   ],
   "source": [
    "bool([])"
   ]
  },
  {
   "cell_type": "code",
   "execution_count": 46,
   "id": "9af05c25",
   "metadata": {},
   "outputs": [
    {
     "data": {
      "text/plain": [
       "False"
      ]
     },
     "execution_count": 46,
     "metadata": {},
     "output_type": "execute_result"
    }
   ],
   "source": [
    "bool({})"
   ]
  },
  {
   "cell_type": "code",
   "execution_count": 47,
   "id": "663ae0ab",
   "metadata": {},
   "outputs": [
    {
     "data": {
      "text/plain": [
       "False"
      ]
     },
     "execution_count": 47,
     "metadata": {},
     "output_type": "execute_result"
    }
   ],
   "source": [
    "bool(())"
   ]
  },
  {
   "cell_type": "markdown",
   "id": "32b34f05",
   "metadata": {},
   "source": [
    "  ### Str "
   ]
  },
  {
   "cell_type": "code",
   "execution_count": 48,
   "id": "c2308cb7",
   "metadata": {},
   "outputs": [
    {
     "data": {
      "text/plain": [
       "'939832'"
      ]
     },
     "execution_count": 48,
     "metadata": {},
     "output_type": "execute_result"
    }
   ],
   "source": [
    "str(939832)"
   ]
  },
  {
   "cell_type": "code",
   "execution_count": 49,
   "id": "1480441f",
   "metadata": {},
   "outputs": [
    {
     "data": {
      "text/plain": [
       "'0j'"
      ]
     },
     "execution_count": 49,
     "metadata": {},
     "output_type": "execute_result"
    }
   ],
   "source": [
    "str(0+0j)"
   ]
  },
  {
   "cell_type": "code",
   "execution_count": 50,
   "id": "5eccf5e6",
   "metadata": {},
   "outputs": [
    {
     "data": {
      "text/plain": [
       "'0+0j'"
      ]
     },
     "execution_count": 50,
     "metadata": {},
     "output_type": "execute_result"
    }
   ],
   "source": [
    "str('0+0j')"
   ]
  },
  {
   "cell_type": "code",
   "execution_count": 52,
   "id": "4aa558cf",
   "metadata": {},
   "outputs": [
    {
     "ename": "SyntaxError",
     "evalue": "invalid decimal literal (955579563.py, line 1)",
     "output_type": "error",
     "traceback": [
      "\u001b[0;36m  Cell \u001b[0;32mIn[52], line 1\u001b[0;36m\u001b[0m\n\u001b[0;31m    str(5+10i)\u001b[0m\n\u001b[0m           ^\u001b[0m\n\u001b[0;31mSyntaxError\u001b[0m\u001b[0;31m:\u001b[0m invalid decimal literal\n"
     ]
    }
   ],
   "source": [
    " str(5+10i)"
   ]
  },
  {
   "cell_type": "code",
   "execution_count": 53,
   "id": "1b631569",
   "metadata": {},
   "outputs": [
    {
     "data": {
      "text/plain": [
       "'5767'"
      ]
     },
     "execution_count": 53,
     "metadata": {},
     "output_type": "execute_result"
    }
   ],
   "source": [
    "str(10+5757)"
   ]
  },
  {
   "cell_type": "code",
   "execution_count": 54,
   "id": "fe5e15c9",
   "metadata": {},
   "outputs": [
    {
     "ename": "ZeroDivisionError",
     "evalue": "division by zero",
     "output_type": "error",
     "traceback": [
      "\u001b[0;31m---------------------------------------------------------------------------\u001b[0m",
      "\u001b[0;31mZeroDivisionError\u001b[0m                         Traceback (most recent call last)",
      "Cell \u001b[0;32mIn[54], line 1\u001b[0m\n\u001b[0;32m----> 1\u001b[0m \u001b[38;5;28mstr\u001b[39m(\u001b[38;5;241m5\u001b[39m\u001b[38;5;241m/\u001b[39m\u001b[38;5;241m0\u001b[39m)\n",
      "\u001b[0;31mZeroDivisionError\u001b[0m: division by zero"
     ]
    }
   ],
   "source": [
    "  str(5/0)"
   ]
  },
  {
   "cell_type": "code",
   "execution_count": 55,
   "id": "55b4b7de",
   "metadata": {},
   "outputs": [
    {
     "name": "stdout",
     "output_type": "stream",
     "text": [
      "5\n"
     ]
    }
   ],
   "source": [
    "mynum=input()"
   ]
  },
  {
   "cell_type": "code",
   "execution_count": 56,
   "id": "da45f103",
   "metadata": {},
   "outputs": [
    {
     "name": "stdout",
     "output_type": "stream",
     "text": [
      "entre a number50\n"
     ]
    }
   ],
   "source": [
    "mynum=input('entre a number')"
   ]
  },
  {
   "cell_type": "code",
   "execution_count": 57,
   "id": "857eb965",
   "metadata": {},
   "outputs": [
    {
     "data": {
      "text/plain": [
       "str"
      ]
     },
     "execution_count": 57,
     "metadata": {},
     "output_type": "execute_result"
    }
   ],
   "source": [
    "type(mynum)"
   ]
  },
  {
   "cell_type": "markdown",
   "id": "597da107",
   "metadata": {},
   "source": [
    "Input takes anything you entre as a string"
   ]
  },
  {
   "cell_type": "markdown",
   "id": "481e97d8",
   "metadata": {},
   "source": [
    "QUESTION- WAP to take 2 number from the user and multiply them"
   ]
  },
  {
   "cell_type": "code",
   "execution_count": 69,
   "id": "2c439b0b",
   "metadata": {},
   "outputs": [
    {
     "name": "stdout",
     "output_type": "stream",
     "text": [
      "give me a number32544\n",
      "give me second number45243\n",
      "1472388192\n"
     ]
    }
   ],
   "source": [
    "a=input('give me a number')\n",
    "b=input('give me second number')\n",
    "a=int(a)\n",
    "b=int(b)\n",
    "print(a*b)"
   ]
  },
  {
   "cell_type": "markdown",
   "id": "d6d97fb9",
   "metadata": {},
   "source": [
    "### String concatenation"
   ]
  },
  {
   "cell_type": "code",
   "execution_count": 70,
   "id": "5f8394f7",
   "metadata": {},
   "outputs": [
    {
     "data": {
      "text/plain": [
       "'hellloworld'"
      ]
     },
     "execution_count": 70,
     "metadata": {},
     "output_type": "execute_result"
    }
   ],
   "source": [
    "str1='helllo'\n",
    "str2='world'\n",
    "str1+str2"
   ]
  },
  {
   "cell_type": "markdown",
   "id": "17a3ea8e",
   "metadata": {},
   "source": [
    "If we have two strings and we do + then they will concatenated \n",
    "\n",
    "Examples for that are\n",
    "- if we write first name and last name in any form filling then they will concatenated\n",
    "- address"
   ]
  },
  {
   "cell_type": "code",
   "execution_count": 73,
   "id": "c7c8b994",
   "metadata": {},
   "outputs": [
    {
     "name": "stdout",
     "output_type": "stream",
     "text": [
      "entre website name yahoo\n",
      "www.yahoo.com\n"
     ]
    }
   ],
   "source": [
    " website=input('entre website name ')\n",
    "print('www.'+website+'.com')\n",
    "    "
   ]
  },
  {
   "cell_type": "code",
   "execution_count": 74,
   "id": "45ddf823",
   "metadata": {},
   "outputs": [
    {
     "data": {
      "text/plain": [
       "'ravindra gurjar'"
      ]
     },
     "execution_count": 74,
     "metadata": {},
     "output_type": "execute_result"
    }
   ],
   "source": [
    "'ravindra'+' '+'gurjar'"
   ]
  },
  {
   "cell_type": "markdown",
   "id": "964d1249",
   "metadata": {},
   "source": [
    "### String multiplication\n",
    "\n",
    "It can only be possible with integer"
   ]
  },
  {
   "cell_type": "code",
   "execution_count": 75,
   "id": "473762c9",
   "metadata": {},
   "outputs": [
    {
     "data": {
      "text/plain": [
       "'pythonpythonpython'"
      ]
     },
     "execution_count": 75,
     "metadata": {},
     "output_type": "execute_result"
    }
   ],
   "source": [
    "'python'*3"
   ]
  },
  {
   "cell_type": "code",
   "execution_count": 77,
   "id": "456e6e95",
   "metadata": {},
   "outputs": [
    {
     "ename": "TypeError",
     "evalue": "can't multiply sequence by non-int of type 'float'",
     "output_type": "error",
     "traceback": [
      "\u001b[0;31m---------------------------------------------------------------------------\u001b[0m",
      "\u001b[0;31mTypeError\u001b[0m                                 Traceback (most recent call last)",
      "Cell \u001b[0;32mIn[77], line 1\u001b[0m\n\u001b[0;32m----> 1\u001b[0m \u001b[38;5;124m'\u001b[39m\u001b[38;5;124mpython\u001b[39m\u001b[38;5;124m'\u001b[39m\u001b[38;5;241m*\u001b[39m\u001b[38;5;241m3.0\u001b[39m\n",
      "\u001b[0;31mTypeError\u001b[0m: can't multiply sequence by non-int of type 'float'"
     ]
    }
   ],
   "source": [
    "'python'*3.0"
   ]
  },
  {
   "cell_type": "code",
   "execution_count": 78,
   "id": "d8a07865",
   "metadata": {},
   "outputs": [
    {
     "data": {
      "text/plain": [
       "'python'"
      ]
     },
     "execution_count": 78,
     "metadata": {},
     "output_type": "execute_result"
    }
   ],
   "source": [
    "'python'* True"
   ]
  },
  {
   "cell_type": "code",
   "execution_count": 79,
   "id": "f335e7be",
   "metadata": {},
   "outputs": [
    {
     "data": {
      "text/plain": [
       "'pythonpython'"
      ]
     },
     "execution_count": 79,
     "metadata": {},
     "output_type": "execute_result"
    }
   ],
   "source": [
    "'python'* (True+True)"
   ]
  },
  {
   "cell_type": "code",
   "execution_count": 80,
   "id": "6ec8bf03",
   "metadata": {},
   "outputs": [
    {
     "name": "stdout",
     "output_type": "stream",
     "text": [
      "give me a number543636\n",
      "give me second number686867\n",
      "373405628412\n"
     ]
    }
   ],
   "source": [
    "  a=input('give me a number')\n",
    "b=input('give me second number')\n",
    "a=int(a)\n",
    "b=int(b)\n",
    "print(a*b)"
   ]
  },
  {
   "cell_type": "code",
   "execution_count": 81,
   "id": "1bb11933",
   "metadata": {},
   "outputs": [
    {
     "name": "stdout",
     "output_type": "stream",
     "text": [
      "give me a number9879798\n",
      "give me second number97079\n",
      "959120910042\n"
     ]
    }
   ],
   "source": [
    "c=int(input('give me a number'))\n",
    "d=int(input('give me second number'))\n",
    "\n",
    "print(c*d)"
   ]
  },
  {
   "cell_type": "markdown",
   "id": "4215a87f",
   "metadata": {},
   "source": [
    "## Slicing \n",
    "\n",
    "Slicing is pulling out a part from a sequence\n",
    "\n",
    "'[ ]' it is used in slicing\n",
    "\n",
    "\n",
    "Str we will take but it is valid on all sequances (list,range,tuples)\n",
    "\n"
   ]
  },
  {
   "cell_type": "code",
   "execution_count": 82,
   "id": "bb125cda",
   "metadata": {},
   "outputs": [],
   "source": [
    "a='python'"
   ]
  },
  {
   "cell_type": "code",
   "execution_count": 83,
   "id": "6760a0bd",
   "metadata": {},
   "outputs": [
    {
     "data": {
      "text/plain": [
       "'h'"
      ]
     },
     "execution_count": 83,
     "metadata": {},
     "output_type": "execute_result"
    }
   ],
   "source": [
    "a[3]"
   ]
  },
  {
   "cell_type": "code",
   "execution_count": 84,
   "id": "0b7ca816",
   "metadata": {},
   "outputs": [
    {
     "data": {
      "text/plain": [
       "'o'"
      ]
     },
     "execution_count": 84,
     "metadata": {},
     "output_type": "execute_result"
    }
   ],
   "source": [
    "a[-2]"
   ]
  },
  {
   "cell_type": "code",
   "execution_count": 86,
   "id": "b0c612d9",
   "metadata": {},
   "outputs": [
    {
     "data": {
      "text/plain": [
       "'pyth'"
      ]
     },
     "execution_count": 86,
     "metadata": {},
     "output_type": "execute_result"
    }
   ],
   "source": [
    "a[0:4] # It always stops one step earlier than the given value"
   ]
  },
  {
   "cell_type": "code",
   "execution_count": 88,
   "id": "794e22cf",
   "metadata": {},
   "outputs": [
    {
     "data": {
      "text/plain": [
       "'python'"
      ]
     },
     "execution_count": 88,
     "metadata": {},
     "output_type": "execute_result"
    }
   ],
   "source": [
    "a[0:7]"
   ]
  },
  {
   "cell_type": "code",
   "execution_count": 89,
   "id": "0cc637f9",
   "metadata": {},
   "outputs": [
    {
     "data": {
      "text/plain": [
       "'python'"
      ]
     },
     "execution_count": 89,
     "metadata": {},
     "output_type": "execute_result"
    }
   ],
   "source": [
    "a[0:len(a)]           # If we want to go to the lengths"
   ]
  },
  {
   "cell_type": "code",
   "execution_count": 90,
   "id": "e48ae53c",
   "metadata": {},
   "outputs": [
    {
     "data": {
      "text/plain": [
       "'yth'"
      ]
     },
     "execution_count": 90,
     "metadata": {},
     "output_type": "execute_result"
    }
   ],
   "source": [
    "a[1:4]"
   ]
  },
  {
   "cell_type": "code",
   "execution_count": 93,
   "id": "6d2f5eb6",
   "metadata": {},
   "outputs": [
    {
     "data": {
      "text/plain": [
       "'hon'"
      ]
     },
     "execution_count": 93,
     "metadata": {},
     "output_type": "execute_result"
    }
   ],
   "source": [
    "a[3:]     # Python by default takes ':' as last"
   ]
  },
  {
   "cell_type": "code",
   "execution_count": 94,
   "id": "b59d8b53",
   "metadata": {},
   "outputs": [],
   "source": [
    "# End takes one position before the specified index"
   ]
  },
  {
   "cell_type": "code",
   "execution_count": 96,
   "id": "3877a1fa",
   "metadata": {},
   "outputs": [
    {
     "data": {
      "text/plain": [
       "'pytho'"
      ]
     },
     "execution_count": 96,
     "metadata": {},
     "output_type": "execute_result"
    }
   ],
   "source": [
    "a[:5]            # [:end] defalt start is zero"
   ]
  },
  {
   "cell_type": "code",
   "execution_count": 97,
   "id": "af7d34d1",
   "metadata": {},
   "outputs": [
    {
     "data": {
      "text/plain": [
       "'python'"
      ]
     },
     "execution_count": 97,
     "metadata": {},
     "output_type": "execute_result"
    }
   ],
   "source": [
    "a[:]"
   ]
  },
  {
   "cell_type": "code",
   "execution_count": 98,
   "id": "092907a3",
   "metadata": {},
   "outputs": [
    {
     "data": {
      "text/plain": [
       "'p'"
      ]
     },
     "execution_count": 98,
     "metadata": {},
     "output_type": "execute_result"
    }
   ],
   "source": [
    "a[0:1]"
   ]
  },
  {
   "cell_type": "code",
   "execution_count": 100,
   "id": "553e3c91",
   "metadata": {},
   "outputs": [
    {
     "data": {
      "text/plain": [
       "''"
      ]
     },
     "execution_count": 100,
     "metadata": {},
     "output_type": "execute_result"
    }
   ],
   "source": [
    "a[0:0]"
   ]
  },
  {
   "cell_type": "code",
   "execution_count": 101,
   "id": "0f3db89e",
   "metadata": {},
   "outputs": [
    {
     "ename": "SyntaxError",
     "evalue": "invalid syntax (1145722274.py, line 1)",
     "output_type": "error",
     "traceback": [
      "\u001b[0;36m  Cell \u001b[0;32mIn[101], line 1\u001b[0;36m\u001b[0m\n\u001b[0;31m    a[]\u001b[0m\n\u001b[0m      ^\u001b[0m\n\u001b[0;31mSyntaxError\u001b[0m\u001b[0;31m:\u001b[0m invalid syntax\n"
     ]
    }
   ],
   "source": [
    "a[]"
   ]
  },
  {
   "cell_type": "code",
   "execution_count": 102,
   "id": "5b913775",
   "metadata": {},
   "outputs": [
    {
     "data": {
      "text/plain": [
       "''"
      ]
     },
     "execution_count": 102,
     "metadata": {},
     "output_type": "execute_result"
    }
   ],
   "source": [
    "a[5:3]"
   ]
  }
 ],
 "metadata": {
  "kernelspec": {
   "display_name": "Python 3 (ipykernel)",
   "language": "python",
   "name": "python3"
  },
  "language_info": {
   "codemirror_mode": {
    "name": "ipython",
    "version": 3
   },
   "file_extension": ".py",
   "mimetype": "text/x-python",
   "name": "python",
   "nbconvert_exporter": "python",
   "pygments_lexer": "ipython3",
   "version": "3.11.7"
  }
 },
 "nbformat": 4,
 "nbformat_minor": 5
}
