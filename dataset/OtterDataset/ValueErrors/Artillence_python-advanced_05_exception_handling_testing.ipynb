{
 "cells": [
  {
   "cell_type": "code",
   "execution_count": null,
   "id": "eaec5667-f0a7-442d-9d6c-b818495fa4b6",
   "metadata": {},
   "outputs": [],
   "source": [
    "# Hibakezelés, tesztelés"
   ]
  },
  {
   "cell_type": "markdown",
   "id": "474f3402-8ad5-48fb-9e20-7084b71e6f1c",
   "metadata": {},
   "source": [
    "# Python Course Material: Error Handling and Testing\n",
    "\n",
    "## Table of Contents\n",
    "\n",
    "1. Introduction to Error Handling\n",
    "    - Understanding Exceptions\n",
    "    - Built-in Exceptions\n",
    "    - Raising Exceptions\n",
    "2. Handling Exceptions\n",
    "    - The `try` Statement\n",
    "    - The `except` Block\n",
    "    - Multiple `except` Blocks\n",
    "    - The `else` Block\n",
    "    - The `finally` Block\n",
    "3. Custom Exceptions\n",
    "    - Creating Custom Exceptions\n",
    "    - Using Custom Exceptions\n",
    "4. Testing in Python\n",
    "    - Introduction to Testing\n",
    "    - Types of Tests\n",
    "    - Unit Testing with `unittest`\n",
    "    - Test Discovery\n",
    "    - Writing Effective Tests\n",
    "5. Advanced Testing Techniques\n",
    "    - Mocking\n",
    "    - Parameterized Testing\n",
    "    - Test Coverage\n",
    "6. Summary and Best Practices"
   ]
  },
  {
   "cell_type": "markdown",
   "id": "a7c02210-44db-4743-a5a8-dca6b287f250",
   "metadata": {},
   "source": [
    "## 1. Introduction to Error Handling\n",
    "\n",
    "### Understanding Exceptions\n",
    "\n",
    "In Python, an error is an issue that occurs during the execution of a program. Errors can be syntax errors or exceptions. Exceptions are errors that occur at runtime and can be handled to prevent the program from crashing."
   ]
  },
  {
   "cell_type": "code",
   "execution_count": 1,
   "id": "3e661835-9779-4da2-86d7-bc99019f10ef",
   "metadata": {},
   "outputs": [
    {
     "ename": "ZeroDivisionError",
     "evalue": "division by zero",
     "output_type": "error",
     "traceback": [
      "\u001b[1;31m---------------------------------------------------------------------------\u001b[0m",
      "\u001b[1;31mZeroDivisionError\u001b[0m                         Traceback (most recent call last)",
      "Cell \u001b[1;32mIn[1], line 2\u001b[0m\n\u001b[0;32m      1\u001b[0m \u001b[38;5;66;03m# Example of a runtime error (exception)\u001b[39;00m\n\u001b[1;32m----> 2\u001b[0m \u001b[38;5;28mprint\u001b[39m(\u001b[38;5;241;43m10\u001b[39;49m\u001b[43m \u001b[49m\u001b[38;5;241;43m/\u001b[39;49m\u001b[43m \u001b[49m\u001b[38;5;241;43m0\u001b[39;49m)  \u001b[38;5;66;03m# This will raise a ZeroDivisionError\u001b[39;00m\n",
      "\u001b[1;31mZeroDivisionError\u001b[0m: division by zero"
     ]
    }
   ],
   "source": [
    "# Example of a runtime error (exception)\n",
    "print(10 / 0)  # This will raise a ZeroDivisionError"
   ]
  },
  {
   "cell_type": "markdown",
   "id": "be01b084-1d5d-4624-b79a-aef4076ea076",
   "metadata": {},
   "source": [
    "### Built-in Exceptions\n",
    "\n",
    "Python provides many built-in exceptions, such as `ZeroDivisionError`, `TypeError`, `ValueError`, `KeyError`, and [more](https://docs.python.org/3/library/exceptions.html#exception-hierarchy)."
   ]
  },
  {
   "cell_type": "code",
   "execution_count": 3,
   "id": "b67657db-4cf6-4ab0-88f6-fc6ca75c48af",
   "metadata": {},
   "outputs": [
    {
     "ename": "ValueError",
     "evalue": "invalid literal for int() with base 10: 'a'",
     "output_type": "error",
     "traceback": [
      "\u001b[1;31m---------------------------------------------------------------------------\u001b[0m",
      "\u001b[1;31mValueError\u001b[0m                                Traceback (most recent call last)",
      "Cell \u001b[1;32mIn[3], line 2\u001b[0m\n\u001b[0;32m      1\u001b[0m \u001b[38;5;66;03m# Examples of built-in exceptions\u001b[39;00m\n\u001b[1;32m----> 2\u001b[0m \u001b[38;5;28;43mint\u001b[39;49m\u001b[43m(\u001b[49m\u001b[38;5;124;43m'\u001b[39;49m\u001b[38;5;124;43ma\u001b[39;49m\u001b[38;5;124;43m'\u001b[39;49m\u001b[43m)\u001b[49m  \u001b[38;5;66;03m# Raises ValueError\u001b[39;00m\n",
      "\u001b[1;31mValueError\u001b[0m: invalid literal for int() with base 10: 'a'"
     ]
    }
   ],
   "source": [
    "# Examples of built-in exceptions\n",
    "int('a')  # Raises ValueError"
   ]
  },
  {
   "cell_type": "code",
   "execution_count": 4,
   "id": "6db5f5c2-5089-4abb-85ba-ea415fc53701",
   "metadata": {},
   "outputs": [
    {
     "ename": "IndexError",
     "evalue": "list index out of range",
     "output_type": "error",
     "traceback": [
      "\u001b[1;31m---------------------------------------------------------------------------\u001b[0m",
      "\u001b[1;31mIndexError\u001b[0m                                Traceback (most recent call last)",
      "Cell \u001b[1;32mIn[4], line 1\u001b[0m\n\u001b[1;32m----> 1\u001b[0m \u001b[43m[\u001b[49m\u001b[38;5;241;43m1\u001b[39;49m\u001b[43m,\u001b[49m\u001b[43m \u001b[49m\u001b[38;5;241;43m2\u001b[39;49m\u001b[43m,\u001b[49m\u001b[43m \u001b[49m\u001b[38;5;241;43m3\u001b[39;49m\u001b[43m]\u001b[49m\u001b[43m[\u001b[49m\u001b[38;5;241;43m5\u001b[39;49m\u001b[43m]\u001b[49m  \u001b[38;5;66;03m# Raises IndexError\u001b[39;00m\n",
      "\u001b[1;31mIndexError\u001b[0m: list index out of range"
     ]
    }
   ],
   "source": [
    "[1, 2, 3][5]  # Raises IndexError"
   ]
  },
  {
   "cell_type": "markdown",
   "id": "f1712ead-7592-4cad-8954-f56f3661732f",
   "metadata": {},
   "source": [
    "### Raising Exceptions\n",
    "\n",
    "You can raise exceptions using the `raise` statement."
   ]
  },
  {
   "cell_type": "code",
   "execution_count": 7,
   "id": "0c7d534d-64f8-4b5f-9995-0f89d1172991",
   "metadata": {},
   "outputs": [
    {
     "ename": "ValueError",
     "evalue": "This is a custom error message",
     "output_type": "error",
     "traceback": [
      "\u001b[1;31m---------------------------------------------------------------------------\u001b[0m",
      "\u001b[1;31mValueError\u001b[0m                                Traceback (most recent call last)",
      "Cell \u001b[1;32mIn[7], line 2\u001b[0m\n\u001b[0;32m      1\u001b[0m \u001b[38;5;66;03m# Example of raising an exception\u001b[39;00m\n\u001b[1;32m----> 2\u001b[0m \u001b[38;5;28;01mraise\u001b[39;00m \u001b[38;5;167;01mValueError\u001b[39;00m(\u001b[38;5;124m\"\u001b[39m\u001b[38;5;124mThis is a custom error message\u001b[39m\u001b[38;5;124m\"\u001b[39m)\n\u001b[0;32m      4\u001b[0m \u001b[38;5;28mprint\u001b[39m(\u001b[38;5;124m\"\u001b[39m\u001b[38;5;124mThis code does not run\u001b[39m\u001b[38;5;124m\"\u001b[39m)\n",
      "\u001b[1;31mValueError\u001b[0m: This is a custom error message"
     ]
    }
   ],
   "source": [
    "# Example of raising an exception\n",
    "raise ValueError(\"This is a custom error message\")\n",
    "\n",
    "print(\"This code does not run\")"
   ]
  },
  {
   "cell_type": "markdown",
   "id": "d3b5b9c8-b339-4e90-ad1e-78d1e02945d5",
   "metadata": {},
   "source": [
    "## 2. Handling Exceptions\n",
    "\n",
    "### The `try` Statement\n",
    "\n",
    "To handle exceptions, use the `try` statement to wrap the code that might raise an exception."
   ]
  },
  {
   "cell_type": "code",
   "execution_count": 8,
   "id": "b8649c46-c0ef-4e3b-a5f0-fdb42bb43791",
   "metadata": {},
   "outputs": [
    {
     "name": "stdout",
     "output_type": "stream",
     "text": [
      "Cannot divide by zero\n",
      "This code runs\n"
     ]
    }
   ],
   "source": [
    "try:\n",
    "    # Code that might raise an exception\n",
    "    result = 10 / 0\n",
    "    print(\"This code does not run\")\n",
    "except ZeroDivisionError:\n",
    "    print(\"Cannot divide by zero\")\n",
    "\n",
    "print(\"This code runs\")"
   ]
  },
  {
   "cell_type": "markdown",
   "id": "3371f974-23ec-41b2-a47f-0f4584ba6fda",
   "metadata": {},
   "source": [
    "### The `except` Block\n",
    "\n",
    "The `except` block catches and handles the exception."
   ]
  },
  {
   "cell_type": "code",
   "execution_count": 9,
   "id": "eae366ed-7701-46a0-9b7c-f95d38c016ee",
   "metadata": {},
   "outputs": [
    {
     "name": "stdout",
     "output_type": "stream",
     "text": [
      "Cannot convert string to integer\n"
     ]
    }
   ],
   "source": [
    "try:\n",
    "    result = int('a')\n",
    "except ValueError:\n",
    "    print(\"Cannot convert string to integer\")"
   ]
  },
  {
   "cell_type": "markdown",
   "id": "b90ff139-6886-4f19-9968-6bfa28bc7396",
   "metadata": {},
   "source": [
    "### Multiple `except` Blocks\n",
    "\n",
    "You can use multiple `except` blocks to handle different exceptions."
   ]
  },
  {
   "cell_type": "code",
   "execution_count": 10,
   "id": "bd6e2331-a7cd-4e47-a1e6-6dcabe5314d3",
   "metadata": {},
   "outputs": [
    {
     "name": "stdout",
     "output_type": "stream",
     "text": [
      "ValueError: Cannot convert string to integer\n"
     ]
    }
   ],
   "source": [
    "try:\n",
    "    result = int('a')\n",
    "except ValueError:\n",
    "    print(\"ValueError: Cannot convert string to integer\")\n",
    "except TypeError:\n",
    "    print(\"TypeError: Invalid type\")"
   ]
  },
  {
   "cell_type": "markdown",
   "id": "7bed4786-a8d6-4a74-ae90-8cb4ff93c4c0",
   "metadata": {},
   "source": [
    "In some situations, you may want to print or log the exception without actually halting execution. To save the exact error message along with the stack trace, you can use Python's `traceback` module.\n",
    "\n",
    "The [traceback](https://docs.python.org/3/library/traceback.html) module in Python provides a way to extract, format, and print stack traces of Python programs. This is particularly useful when you're dealing with exceptions and want to get more detailed information about where an error occurred."
   ]
  },
  {
   "cell_type": "code",
   "execution_count": 9,
   "id": "c6d8d436-ce8d-4d35-b5f0-7a450faa0b05",
   "metadata": {},
   "outputs": [
    {
     "name": "stdout",
     "output_type": "stream",
     "text": [
      "Traceback (most recent call last):\n",
      "  File \"C:\\Users\\gregk\\AppData\\Local\\Temp\\ipykernel_21320\\1764533044.py\", line 9, in main\n",
      "    risky_function()\n",
      "  File \"C:\\Users\\gregk\\AppData\\Local\\Temp\\ipykernel_21320\\1764533044.py\", line 5, in risky_function\n",
      "    return 1 / 0\n",
      "           ~~^~~\n",
      "ZeroDivisionError: division by zero\n",
      "\n"
     ]
    }
   ],
   "source": [
    "import traceback\n",
    "\n",
    "def risky_function():\n",
    "    # This function will intentionally raise a ZeroDivisionError\n",
    "    return 1 / 0\n",
    "\n",
    "def main():\n",
    "    try:\n",
    "        risky_function()\n",
    "    except ZeroDivisionError as e:\n",
    "        print(traceback.format_exc())\n",
    "\n",
    "main()\n"
   ]
  },
  {
   "cell_type": "markdown",
   "id": "cc339978-c957-46f3-98a7-75c041d75314",
   "metadata": {},
   "source": [
    "### Re-Raising Exceptions as Different Exceptions\n",
    "\n",
    "Sometimes, you may need to catch an exception, perform some actions (e.g., logging or additional processing), and then re-raise it as a different type of exception. This can be useful for abstracting away implementation details and providing a more meaningful error context.\n",
    "\n",
    "#### Example: Re-Raising Exceptions"
   ]
  },
  {
   "cell_type": "code",
   "execution_count": 16,
   "id": "4f6a7efe-7af5-4a6a-a3ec-bcbdf7fa9aff",
   "metadata": {},
   "outputs": [
    {
     "name": "stdout",
     "output_type": "stream",
     "text": [
      "Logging original error: An error occurred with the data\n",
      "Handled custom error: A custom error occurred during processing\n",
      "Original exception: An error occurred with the data\n"
     ]
    }
   ],
   "source": [
    "class CustomError(Exception):\n",
    "    \"\"\"A custom exception type.\"\"\"\n",
    "    pass\n",
    "\n",
    "class AnotherError(Exception):\n",
    "    \"\"\"Another custom exception type.\"\"\"\n",
    "    pass\n",
    "\n",
    "def process_data(data):\n",
    "    if data == \"bad\":\n",
    "        raise ValueError(\"An error occurred with the data\")\n",
    "\n",
    "def main():\n",
    "    try:\n",
    "        process_data(\"bad\")\n",
    "    except ValueError as e:\n",
    "        # Log the original exception (could also perform other actions)\n",
    "        print(f\"Logging original error: {e}\")\n",
    "        # Re-raise a different exception with a custom message\n",
    "        raise CustomError(\"A custom error occurred during processing\") from e\n",
    "\n",
    "try:\n",
    "    main()\n",
    "except CustomError as e:\n",
    "    print(f\"Handled custom error: {e}\")\n",
    "    print(f\"Original exception: {e.__cause__}\")"
   ]
  },
  {
   "cell_type": "markdown",
   "id": "4b9d4108-3b88-4ec7-9f04-10af79e228bc",
   "metadata": {},
   "source": [
    "**Explanation:**\n",
    "\n",
    "- `process_data` raises a `ValueError`.\n",
    "- In the `main` function, the `ValueError` is caught, and a `CustomError` is raised instead, using the `raise ... from e` syntax to retain the context of the original exception.\n",
    "- `e.__cause__` provides access to the original `ValueError`.\n",
    "\n",
    "### Re-Raising the same Exception\n",
    "\n",
    "You can also re-raise an exception in the `except` block:"
   ]
  },
  {
   "cell_type": "code",
   "execution_count": 14,
   "id": "bfd60ec0-98bf-4e7f-a34f-29ad79533582",
   "metadata": {},
   "outputs": [
    {
     "name": "stdout",
     "output_type": "stream",
     "text": [
      "Caught an exception: division by zero\n"
     ]
    },
    {
     "ename": "ZeroDivisionError",
     "evalue": "division by zero",
     "output_type": "error",
     "traceback": [
      "\u001b[1;31m---------------------------------------------------------------------------\u001b[0m",
      "\u001b[1;31mZeroDivisionError\u001b[0m                         Traceback (most recent call last)",
      "Cell \u001b[1;32mIn[14], line 11\u001b[0m\n\u001b[0;32m      8\u001b[0m         \u001b[38;5;66;03m# Re-raise the same exception\u001b[39;00m\n\u001b[0;32m      9\u001b[0m         \u001b[38;5;28;01mraise\u001b[39;00m\n\u001b[1;32m---> 11\u001b[0m result \u001b[38;5;241m=\u001b[39m \u001b[43mdivide_numbers\u001b[49m\u001b[43m(\u001b[49m\u001b[38;5;241;43m10\u001b[39;49m\u001b[43m,\u001b[49m\u001b[43m \u001b[49m\u001b[38;5;241;43m0\u001b[39;49m\u001b[43m)\u001b[49m\n",
      "Cell \u001b[1;32mIn[14], line 3\u001b[0m, in \u001b[0;36mdivide_numbers\u001b[1;34m(a, b)\u001b[0m\n\u001b[0;32m      1\u001b[0m \u001b[38;5;28;01mdef\u001b[39;00m \u001b[38;5;21mdivide_numbers\u001b[39m(a, b):\n\u001b[0;32m      2\u001b[0m     \u001b[38;5;28;01mtry\u001b[39;00m:\n\u001b[1;32m----> 3\u001b[0m         result \u001b[38;5;241m=\u001b[39m \u001b[43ma\u001b[49m\u001b[43m \u001b[49m\u001b[38;5;241;43m/\u001b[39;49m\u001b[43m \u001b[49m\u001b[43mb\u001b[49m\n\u001b[0;32m      4\u001b[0m         \u001b[38;5;28;01mreturn\u001b[39;00m result\n\u001b[0;32m      5\u001b[0m     \u001b[38;5;28;01mexcept\u001b[39;00m \u001b[38;5;167;01mZeroDivisionError\u001b[39;00m \u001b[38;5;28;01mas\u001b[39;00m e:\n\u001b[0;32m      6\u001b[0m         \u001b[38;5;66;03m# Handle the ZeroDivisionError\u001b[39;00m\n",
      "\u001b[1;31mZeroDivisionError\u001b[0m: division by zero"
     ]
    }
   ],
   "source": [
    "def divide_numbers(a, b):\n",
    "    try:\n",
    "        result = a / b\n",
    "        return result\n",
    "    except ZeroDivisionError as e:\n",
    "        # Handle the ZeroDivisionError\n",
    "        print(f\"Caught an exception: {e}\")\n",
    "        # Re-raise the same exception\n",
    "        raise\n",
    "\n",
    "result = divide_numbers(10, 0)"
   ]
  },
  {
   "cell_type": "markdown",
   "id": "720195e5-9237-4018-872e-7911e4dc2bf1",
   "metadata": {},
   "source": [
    "### Exception Chaining\n",
    "\n",
    "When re-raising exceptions, Python allows you to chain exceptions to maintain the context of the original exception. This is done using the `raise ... from ...` syntax, as shown in the previous example. \n",
    "\n",
    "#### Example: Exception Chaining"
   ]
  },
  {
   "cell_type": "code",
   "execution_count": 15,
   "id": "636c5543-3b47-4c29-bf83-aaf5200e2fa2",
   "metadata": {},
   "outputs": [
    {
     "name": "stdout",
     "output_type": "stream",
     "text": [
      "Logging original ZeroDivisionError: division by zero\n",
      "Handled ValueError: Failed to perform division\n",
      "Original exception: division by zero\n"
     ]
    }
   ],
   "source": [
    "def divide(a, b):\n",
    "    try:\n",
    "        return a / b\n",
    "    except ZeroDivisionError as e:\n",
    "        # Handle or log the original exception\n",
    "        print(f\"Logging original ZeroDivisionError: {e}\")\n",
    "        # Re-raise a new exception with additional context\n",
    "        raise ValueError(\"Failed to perform division\") from e\n",
    "\n",
    "try:\n",
    "    result = divide(10, 0)\n",
    "except ValueError as e:\n",
    "    print(f\"Handled ValueError: {e}\")\n",
    "    print(f\"Original exception: {e.__cause__}\")"
   ]
  },
  {
   "cell_type": "markdown",
   "id": "37399a6a-6480-46ae-81e7-faff007817c1",
   "metadata": {},
   "source": [
    "**Explanation:**\n",
    "\n",
    "- `divide` catches `ZeroDivisionError` and re-raises it as a `ValueError`.\n",
    "- The `ValueError` retains the context of the `ZeroDivisionError`, which can be accessed through `e.__cause__`."
   ]
  },
  {
   "cell_type": "markdown",
   "id": "69c97ac5-a2a4-4ad7-bb6f-194e9f69ac69",
   "metadata": {},
   "source": [
    "### The `else` Block\n",
    "\n",
    "The `else` block is executed if no exceptions are raised in the `try` block."
   ]
  },
  {
   "cell_type": "code",
   "execution_count": 12,
   "id": "5ad9e45b-e682-4628-9b47-6ab356ad40de",
   "metadata": {},
   "outputs": [
    {
     "name": "stdout",
     "output_type": "stream",
     "text": [
      "Conversion successful: 10\n"
     ]
    }
   ],
   "source": [
    "try:\n",
    "    result = int('10')\n",
    "except ValueError:\n",
    "    print(\"Cannot convert string to integer\")\n",
    "else:\n",
    "    print(\"Conversion successful:\", result)"
   ]
  },
  {
   "cell_type": "markdown",
   "id": "ce60309b-a096-49f0-98ae-c1c713682103",
   "metadata": {},
   "source": [
    "Practical example:"
   ]
  },
  {
   "cell_type": "code",
   "execution_count": 13,
   "id": "14c78e5d-4e32-4dff-9ef8-83f37b335d55",
   "metadata": {},
   "outputs": [
    {
     "name": "stdout",
     "output_type": "stream",
     "text": [
      "File content successfully read. Processing content...\n",
      "The file has 3 lines.\n",
      "End of script.\n"
     ]
    }
   ],
   "source": [
    "try:\n",
    "    # Try to open and read the file\n",
    "    with open('myfile.txt', 'r') as file:\n",
    "        content = file.read()\n",
    "except FileNotFoundError:\n",
    "    # Handle the case where the file does not exist\n",
    "    print(\"Error: The file was not found.\")\n",
    "except IOError:\n",
    "    # Handle other I/O errors\n",
    "    print(\"Error: An I/O error occurred.\")\n",
    "else:\n",
    "    # This block will execute if no exceptions were raised\n",
    "    # Process the file content\n",
    "    print(\"File content successfully read. Processing content...\")\n",
    "    # Example processing: count the number of lines in the file\n",
    "    num_lines = len(content.splitlines())\n",
    "    print(f\"The file has {num_lines} lines.\")\n",
    "\n",
    "# Output message indicating the end of the script\n",
    "print(\"End of script.\")\n"
   ]
  },
  {
   "cell_type": "markdown",
   "id": "453ed0c6-84e0-4afc-bcaf-c7489ca32998",
   "metadata": {},
   "source": [
    "What would have happened if we tried to access the `content` variable when the file was not found?\n",
    "\n",
    "---\n",
    "\n",
    "On a related note, see the following (off-topic) example for the `else` block in `for` loops:"
   ]
  },
  {
   "cell_type": "code",
   "execution_count": 14,
   "id": "74172fad-353a-4061-bdba-dcdfcfbcf4f8",
   "metadata": {},
   "outputs": [
    {
     "name": "stdout",
     "output_type": "stream",
     "text": [
      "Target number 8 not found in the list.\n",
      "End of search.\n"
     ]
    }
   ],
   "source": [
    "numbers = [1, 3, 5, 7, 9, 11, 13]\n",
    "target = 8\n",
    "\n",
    "# Loop through the list to find the target number\n",
    "for number in numbers:\n",
    "    if number == target:\n",
    "        print(f\"Found the target number: {target}\")\n",
    "        break\n",
    "else:\n",
    "    # This block will execute if the loop completes without encountering a break\n",
    "    print(f\"Target number {target} not found in the list.\")\n",
    "\n",
    "# Output message indicating the end of the script\n",
    "print(\"End of search.\")"
   ]
  },
  {
   "cell_type": "markdown",
   "id": "fb22d736-8773-461c-9ef1-b31de6463e32",
   "metadata": {},
   "source": [
    "This also works with `while` loops."
   ]
  },
  {
   "cell_type": "markdown",
   "id": "6f931b72-e053-4c18-be12-b1264ed5f5f2",
   "metadata": {},
   "source": [
    "### The `finally` Block\n",
    "\n",
    "The `finally` block is always executed, regardless of whether an exception was raised or not. This is particularly useful for resource cleanup tasks such as closing files or releasing locks."
   ]
  },
  {
   "cell_type": "code",
   "execution_count": 15,
   "id": "bb4d213c-ef8e-42db-ba53-a3caeb8ac9cb",
   "metadata": {},
   "outputs": [
    {
     "name": "stdout",
     "output_type": "stream",
     "text": [
      "Cannot divide by zero\n",
      "This will always execute\n"
     ]
    }
   ],
   "source": [
    "try:\n",
    "    result = 10 / 0\n",
    "except ZeroDivisionError:\n",
    "    print(\"Cannot divide by zero\")\n",
    "finally:\n",
    "    print(\"This will always execute\")"
   ]
  },
  {
   "cell_type": "markdown",
   "id": "90e4a60b-7701-4dae-97bf-823916c9f543",
   "metadata": {},
   "source": [
    "A more practical example:"
   ]
  },
  {
   "cell_type": "code",
   "execution_count": 16,
   "id": "4c453c05-adab-48d5-9fd3-091e5559f53f",
   "metadata": {},
   "outputs": [
    {
     "name": "stdout",
     "output_type": "stream",
     "text": [
      "File content successfully read.\n",
      "File closed.\n"
     ]
    }
   ],
   "source": [
    "def read_file(file_path):\n",
    "    try:\n",
    "        # Try to open and read the file\n",
    "        file = open(file_path, 'r')\n",
    "        content = file.read()\n",
    "        print(\"File content successfully read.\")\n",
    "        return content\n",
    "    except FileNotFoundError:\n",
    "        # Handle the case where the file does not exist\n",
    "        print(f\"Error: The file at {file_path} was not found.\")\n",
    "    except Exception as e:\n",
    "        # Handle any other exceptions that may occur\n",
    "        print(f\"An error occurred: {e}\")\n",
    "    finally:\n",
    "        # This block will always execute, regardless of whether an exception was raised or not\n",
    "        try:\n",
    "            file.close()\n",
    "            print(\"File closed.\")\n",
    "        except NameError:\n",
    "            # Handle the case where 'file' was never opened\n",
    "            print(\"File was never opened, so it cannot be closed.\")\n",
    "        except Exception as e:\n",
    "            # Handle any other exceptions that may occur during file closing\n",
    "            print(f\"An error occurred while closing the file: {e}\")\n",
    "\n",
    "# Example usage\n",
    "file_path = \"myfile.txt\"\n",
    "content = read_file(file_path)\n"
   ]
  },
  {
   "cell_type": "markdown",
   "id": "a7d351bf-ffec-4157-beac-998626ec9bfc",
   "metadata": {},
   "source": [
    "**Note on file handling using context managers**\n",
    "\n",
    "Python provides a more concise and reliable way to handle files using the `with` statement, which simplifies file handling and ensures that files are properly closed without needing explicit exception handling for closing the file. This method automatically takes care of closing the file even if an error occurs.\n",
    "\n",
    "Here’s how you can use the `with` statement for file handling:"
   ]
  },
  {
   "cell_type": "code",
   "execution_count": 17,
   "id": "d8dede3c-ab9b-4552-bc95-b7cb29688047",
   "metadata": {},
   "outputs": [
    {
     "name": "stdout",
     "output_type": "stream",
     "text": [
      "Error: The file at example.txt was not found.\n"
     ]
    }
   ],
   "source": [
    "def read_file(file_path):\n",
    "    try:\n",
    "        # Using 'with' statement to open and read the file\n",
    "        with open(file_path, 'r') as file:\n",
    "            content = file.read()\n",
    "            print(\"File content successfully read.\")\n",
    "            return content\n",
    "    except FileNotFoundError:\n",
    "        # Handle the case where the file does not exist\n",
    "        print(f\"Error: The file at {file_path} was not found.\")\n",
    "    except Exception as e:\n",
    "        # Handle any other exceptions that may occur\n",
    "        print(f\"An error occurred: {e}\")\n",
    "\n",
    "# Example usage\n",
    "file_path = \"example.txt\"\n",
    "content = read_file(file_path)\n"
   ]
  },
  {
   "cell_type": "markdown",
   "id": "5444226a-c1b6-4882-88b5-6e036cf2e063",
   "metadata": {},
   "source": [
    "## 3. Custom Exceptions\n",
    "\n",
    "### Creating Custom Exceptions\n",
    "\n",
    "You can create custom exceptions by defining a new class that inherits from the `Exception` class."
   ]
  },
  {
   "cell_type": "code",
   "execution_count": 23,
   "id": "536b025c-4d34-4f51-a7a5-16d85aec24bd",
   "metadata": {},
   "outputs": [
    {
     "ename": "CustomError",
     "evalue": "This is a custom error",
     "output_type": "error",
     "traceback": [
      "\u001b[1;31m---------------------------------------------------------------------------\u001b[0m",
      "\u001b[1;31mCustomError\u001b[0m                               Traceback (most recent call last)",
      "Cell \u001b[1;32mIn[23], line 5\u001b[0m\n\u001b[0;32m      2\u001b[0m     \u001b[38;5;28;01mpass\u001b[39;00m\n\u001b[0;32m      4\u001b[0m \u001b[38;5;66;03m# Raising a custom exception\u001b[39;00m\n\u001b[1;32m----> 5\u001b[0m \u001b[38;5;28;01mraise\u001b[39;00m CustomError(\u001b[38;5;124m\"\u001b[39m\u001b[38;5;124mThis is a custom error\u001b[39m\u001b[38;5;124m\"\u001b[39m)\n",
      "\u001b[1;31mCustomError\u001b[0m: This is a custom error"
     ]
    }
   ],
   "source": [
    "class CustomError(Exception):\n",
    "    pass\n",
    "\n",
    "# Raising a custom exception\n",
    "raise CustomError(\"This is a custom error\")"
   ]
  },
  {
   "cell_type": "markdown",
   "id": "227d1e3a-fcfa-444e-ac0d-8e94b4755d56",
   "metadata": {},
   "source": [
    "### Using Custom Exceptions\n",
    "\n",
    "Custom exceptions can be used just like built-in exceptions."
   ]
  },
  {
   "cell_type": "code",
   "execution_count": 24,
   "id": "e48f936a-0926-4ad8-ab90-2ea804979395",
   "metadata": {},
   "outputs": [
    {
     "name": "stdout",
     "output_type": "stream",
     "text": [
      "This is a custom error\n"
     ]
    }
   ],
   "source": [
    "try:\n",
    "    raise CustomError(\"This is a custom error\")\n",
    "except CustomError as e:\n",
    "    print(e)"
   ]
  },
  {
   "cell_type": "markdown",
   "id": "4b25f54b-2fd3-49f0-b2f2-17db0f9a706e",
   "metadata": {},
   "source": [
    "## 4. Testing in Python\n",
    "\n",
    "### Introduction to Testing\n",
    "\n",
    "Testing is the process of evaluating and verifying that a software program or application does what it is supposed to do.\n",
    "\n",
    "### Types of Tests\n",
    "\n",
    "- Unit Tests: Test individual components or functions.\n",
    "- Integration Tests: Test how different components work together.\n",
    "- System Tests: Test the complete system.\n",
    "- Acceptance Tests: Test if the system meets business requirements.\n",
    "\n",
    "### Unit Testing with [unittest](https://docs.python.org/3.6/library/unittest.html)\n",
    "\n",
    "Python's `unittest` module provides a framework for creating and running tests."
   ]
  },
  {
   "cell_type": "code",
   "execution_count": 37,
   "id": "d7a0fd8b-6424-4bcc-8893-0d62f269dc3b",
   "metadata": {},
   "outputs": [
    {
     "name": "stderr",
     "output_type": "stream",
     "text": [
      "test_add (__main__.TestMath.test_add) ... ok\n",
      "\n",
      "----------------------------------------------------------------------\n",
      "Ran 1 test in 0.002s\n",
      "\n",
      "OK\n"
     ]
    },
    {
     "data": {
      "text/plain": [
       "<unittest.main.TestProgram at 0x1d5eb293380>"
      ]
     },
     "execution_count": 37,
     "metadata": {},
     "output_type": "execute_result"
    }
   ],
   "source": [
    "import unittest\n",
    "\n",
    "def add(a, b):\n",
    "    return a + b\n",
    "\n",
    "class TestMath(unittest.TestCase):\n",
    "    def test_add(self):\n",
    "        self.assertEqual(add(1, 2), 3)\n",
    "        self.assertEqual(add(-1, 1), 0)\n",
    "\n",
    "\"\"\"\n",
    "# For runing in VSCode or non-jupyter environment\n",
    "if __name__ == '__main__':\n",
    "    unittest.main()\n",
    "\"\"\"\n",
    "\n",
    "unittest.main(argv=[''], verbosity=2, exit=False)"
   ]
  },
  {
   "cell_type": "markdown",
   "id": "36edd7b8-c190-405c-9d50-936cd2b5e962",
   "metadata": {},
   "source": [
    "The list of assert methods in unittest is documented [here](https://docs.python.org/3.6/library/unittest.html#assert-methods)."
   ]
  },
  {
   "cell_type": "markdown",
   "id": "742556f7-e76c-42b8-a7e4-0233d22b0b85",
   "metadata": {},
   "source": [
    "### Test Discovery\n",
    "\n",
    "`unittest` can automatically discover tests in a directory.\n",
    "\n",
    "```sh\n",
    "python -m unittest discover\n",
    "```"
   ]
  },
  {
   "cell_type": "markdown",
   "id": "2f46090b-fe1c-4ada-90c3-e453215cfd86",
   "metadata": {},
   "source": [
    "### Unit Testing with [doctest](https://docs.python.org/3.6/library/doctest.html)\n",
    "\n",
    "Python's `doctest` module provides a framework for creating and running tests."
   ]
  },
  {
   "cell_type": "code",
   "execution_count": 38,
   "id": "2fff8535-fe02-4fdd-a60b-9c7977f07766",
   "metadata": {},
   "outputs": [
    {
     "name": "stdout",
     "output_type": "stream",
     "text": [
      "Trying:\n",
      "    add(2, 2)\n",
      "Expecting:\n",
      "    5\n",
      "**********************************************************************\n",
      "File \"__main__\", line 6, in __main__.add\n",
      "Failed example:\n",
      "    add(2, 2)\n",
      "Expected:\n",
      "    5\n",
      "Got:\n",
      "    4\n",
      "Trying:\n",
      "    add(1, 2)\n",
      "Expecting:\n",
      "    3\n",
      "ok\n",
      "9 items had no tests:\n",
      "    __main__\n",
      "    __main__.CustomError\n",
      "    __main__.CustomResource\n",
      "    __main__.CustomResource.__enter__\n",
      "    __main__.CustomResource.__exit__\n",
      "    __main__.TestMath\n",
      "    __main__.TestMath.test_add\n",
      "    __main__.custom_context\n",
      "    __main__.read_file\n",
      "**********************************************************************\n",
      "1 items had failures:\n",
      "   1 of   2 in __main__.add\n",
      "2 tests in 10 items.\n",
      "1 passed and 1 failed.\n",
      "***Test Failed*** 1 failures.\n"
     ]
    },
    {
     "data": {
      "text/plain": [
       "TestResults(failed=1, attempted=2)"
      ]
     },
     "execution_count": 38,
     "metadata": {},
     "output_type": "execute_result"
    }
   ],
   "source": [
    "import doctest\n",
    "\n",
    "def add(a, b):\n",
    "    '''\n",
    "    This is a test:\n",
    "    >>> add(2, 2)\n",
    "    5\n",
    "\n",
    "    This is a second test:\n",
    "    >>> add(1, 2)\n",
    "    3\n",
    "    '''\n",
    "    return a + b\n",
    "\n",
    "doctest.testmod(verbose=True)"
   ]
  },
  {
   "cell_type": "markdown",
   "id": "7e676599-3ba1-4938-ad91-e1dce0c80932",
   "metadata": {},
   "source": [
    "## Exercise: Factorial calculation with doctests\n",
    "\n",
    "### Instructions:\n",
    "\n",
    "1. **Implement the `factorial` function**: Write the `factorial` function so that it computes the factorial of a non-negative integer `n`. The function should also raise a `ValueError` if a negative integer is provided.\n",
    "\n",
    "2. **Include Tests**: Add appropriate test cases in the docstring of the function. Ensure that the test cases cover different scenarios including edge cases.\n",
    "\n",
    "3. **Run `doctest`**: Use the `doctest` framework to run the tests. Ensure that all tests pass and check the output.\n",
    "\n",
    "### Example code:"
   ]
  },
  {
   "cell_type": "code",
   "execution_count": 9,
   "id": "595f4f50-8616-49bc-805e-a9b7d52e05b8",
   "metadata": {},
   "outputs": [
    {
     "name": "stdout",
     "output_type": "stream",
     "text": [
      "Trying:\n",
      "    factorial(0)\n",
      "Expecting:\n",
      "    1\n",
      "ok\n",
      "Trying:\n",
      "    factorial(1)\n",
      "Expecting:\n",
      "    1\n",
      "ok\n",
      "Trying:\n",
      "    factorial(5)\n",
      "Expecting:\n",
      "    120\n",
      "ok\n",
      "Trying:\n",
      "    factorial(3)\n",
      "Expecting:\n",
      "    6\n",
      "ok\n",
      "1 items had no tests:\n",
      "    __main__\n",
      "1 items passed all tests:\n",
      "   4 tests in __main__.factorial\n",
      "4 tests in 2 items.\n",
      "4 passed and 0 failed.\n",
      "Test passed.\n"
     ]
    },
    {
     "data": {
      "text/plain": [
       "TestResults(failed=0, attempted=4)"
      ]
     },
     "execution_count": 9,
     "metadata": {},
     "output_type": "execute_result"
    }
   ],
   "source": [
    "import doctest\n",
    "\n",
    "# Implement the factorial function, include tests for 0, 1, 5 and 3 input values.\n",
    "def factorial(n):\n",
    "    # ...\n",
    "\n",
    "# Run the doctests\n",
    "doctest.testmod(verbose=True)"
   ]
  },
  {
   "cell_type": "code",
   "execution_count": 10,
   "id": "f1960c28-69f6-441b-909b-6a1d4f121bb7",
   "metadata": {
    "jupyter": {
     "source_hidden": true
    }
   },
   "outputs": [
    {
     "name": "stdout",
     "output_type": "stream",
     "text": [
      "Trying:\n",
      "    factorial(0)\n",
      "Expecting:\n",
      "    1\n",
      "ok\n",
      "Trying:\n",
      "    factorial(1)\n",
      "Expecting:\n",
      "    1\n",
      "ok\n",
      "Trying:\n",
      "    factorial(5)\n",
      "Expecting:\n",
      "    120\n",
      "ok\n",
      "Trying:\n",
      "    factorial(3)\n",
      "Expecting:\n",
      "    6\n",
      "ok\n",
      "1 items had no tests:\n",
      "    __main__\n",
      "1 items passed all tests:\n",
      "   4 tests in __main__.factorial\n",
      "4 tests in 2 items.\n",
      "4 passed and 0 failed.\n",
      "Test passed.\n"
     ]
    },
    {
     "data": {
      "text/plain": [
       "TestResults(failed=0, attempted=4)"
      ]
     },
     "execution_count": 10,
     "metadata": {},
     "output_type": "execute_result"
    }
   ],
   "source": [
    "# Solution\n",
    "\n",
    "import doctest\n",
    "\n",
    "def factorial(n):\n",
    "    '''\n",
    "    Returns the factorial of a non-negative integer n.\n",
    "    \n",
    "    A factorial of a number n (n!) is the product of all positive integers less than or equal to n.\n",
    "    \n",
    "    For example:\n",
    "    >>> factorial(0)\n",
    "    1\n",
    "    >>> factorial(1)\n",
    "    1\n",
    "    >>> factorial(5)\n",
    "    120\n",
    "    >>> factorial(3)\n",
    "    6\n",
    "    \n",
    "    Raises:\n",
    "    ValueError: If n is a negative integer.\n",
    "    '''\n",
    "    if n < 0:\n",
    "        raise ValueError(\"Input must be a non-negative integer.\")\n",
    "    if n == 0:\n",
    "        return 1\n",
    "    return n * factorial(n - 1)\n",
    "\n",
    "doctest.testmod(verbose=True)"
   ]
  },
  {
   "cell_type": "markdown",
   "id": "8cabf36d-0f1d-41e0-b1ad-0b788176ede4",
   "metadata": {},
   "source": [
    "### Writing Effective Tests\n",
    "\n",
    "Effective tests are:\n",
    "- Independent and repeatable\n",
    "- Comprehensive and cover edge cases\n",
    "- Easy to read and maintain"
   ]
  },
  {
   "cell_type": "markdown",
   "id": "f7d5f8c2-d2a1-4193-b54c-5b7fde0a3c5c",
   "metadata": {},
   "source": [
    "## 5. Advanced Testing Techniques\n",
    "\n",
    "### Mocking\n",
    "\n",
    "Mocking is used to replace parts of the system under test and make assertions about how they are used."
   ]
  },
  {
   "cell_type": "code",
   "execution_count": 41,
   "id": "1d8e166c-897c-4add-8209-54aefa033108",
   "metadata": {},
   "outputs": [
    {
     "name": "stderr",
     "output_type": "stream",
     "text": [
      "test_process (__main__.TestDataProcessor.test_process) ... ok\n",
      "test_add (__main__.TestMath.test_add) ... ok\n",
      "\n",
      "----------------------------------------------------------------------\n",
      "Ran 2 tests in 0.008s\n",
      "\n",
      "OK\n"
     ]
    },
    {
     "data": {
      "text/plain": [
       "<unittest.main.TestProgram at 0x1d5eb2e7b00>"
      ]
     },
     "execution_count": 41,
     "metadata": {},
     "output_type": "execute_result"
    }
   ],
   "source": [
    "import unittest\n",
    "from unittest.mock import Mock\n",
    "\n",
    "# Assume we have a service class that interacts with an external API\n",
    "class ExternalAPIService:\n",
    "    def fetch_data(self):\n",
    "        # Imagine this method makes a network call to fetch data\n",
    "        raise NotImplementedError(\"This should be implemented by a real API call.\")\n",
    "\n",
    "# A client class that uses the ExternalAPIService\n",
    "class DataProcessor:\n",
    "    def __init__(self, api_service):\n",
    "        self.api_service = api_service\n",
    "\n",
    "    def process(self):\n",
    "        data = self.api_service.fetch_data()\n",
    "        # Some processing logic here\n",
    "        return data * 2\n",
    "\n",
    "# Unit test case using unittest framework\n",
    "class TestDataProcessor(unittest.TestCase):\n",
    "    def test_process(self):\n",
    "        # Create a mock for the ExternalAPIService\n",
    "        mock_api_service = Mock(spec=ExternalAPIService)\n",
    "        mock_api_service.fetch_data.return_value = 10\n",
    "\n",
    "        # Inject the mock into the DataProcessor\n",
    "        processor = DataProcessor(mock_api_service)\n",
    "\n",
    "        # Run the method under test\n",
    "        result = processor.process()\n",
    "\n",
    "        # Assert that the result is as expected\n",
    "        self.assertEqual(result, 20)\n",
    "\n",
    "        # Verify that fetch_data was called once\n",
    "        mock_api_service.fetch_data.assert_called_once()\n",
    "\n",
    "unittest.main(argv=[''], verbosity=2, exit=False)"
   ]
  },
  {
   "cell_type": "markdown",
   "id": "98f960de-d9ec-4ecc-85c4-d5f73fccfb52",
   "metadata": {},
   "source": [
    "### Parameterized Testing\n",
    "\n",
    "Parameterized testing allows running the same test with different inputs. To see an example of parametrized testing, we have to install the [parametrized](https://github.com/wolever/parameterized) module."
   ]
  },
  {
   "cell_type": "code",
   "execution_count": 43,
   "id": "b42459b3-ad9a-48b5-8c8f-3bf6aca4e945",
   "metadata": {},
   "outputs": [
    {
     "name": "stdout",
     "output_type": "stream",
     "text": [
      "Collecting parameterized\n",
      "  Downloading parameterized-0.9.0-py2.py3-none-any.whl.metadata (18 kB)\n",
      "Downloading parameterized-0.9.0-py2.py3-none-any.whl (20 kB)\n",
      "Installing collected packages: parameterized\n",
      "Successfully installed parameterized-0.9.0\n"
     ]
    },
    {
     "name": "stderr",
     "output_type": "stream",
     "text": [
      "\n",
      "[notice] A new release of pip is available: 24.0 -> 24.1.2\n",
      "[notice] To update, run: python.exe -m pip install --upgrade pip\n"
     ]
    }
   ],
   "source": [
    "!pip install parameterized"
   ]
  },
  {
   "cell_type": "code",
   "execution_count": 47,
   "id": "44e2bbc2-06ef-433c-bdcf-0f13d602cbce",
   "metadata": {},
   "outputs": [
    {
     "name": "stderr",
     "output_type": "stream",
     "text": [
      "test_process (__main__.TestDataProcessor.test_process) ... ok\n",
      "test_add_0 (__main__.TestMath.test_add_0) ... ok\n",
      "test_add_1 (__main__.TestMath.test_add_1) ... ok\n",
      "test_add_2 (__main__.TestMath.test_add_2) ... ok\n",
      "\n",
      "----------------------------------------------------------------------\n",
      "Ran 4 tests in 0.008s\n",
      "\n",
      "OK\n"
     ]
    },
    {
     "data": {
      "text/plain": [
       "<unittest.main.TestProgram at 0x1d5e5da2ae0>"
      ]
     },
     "execution_count": 47,
     "metadata": {},
     "output_type": "execute_result"
    }
   ],
   "source": [
    "from parameterized import parameterized\n",
    "import unittest\n",
    "\n",
    "def add(a, b):\n",
    "    return a + b\n",
    "\n",
    "class TestMath(unittest.TestCase):\n",
    "    @parameterized.expand([\n",
    "        (1, 2, 3),\n",
    "        (-1, 1, 0),\n",
    "        (0, 0, 0),\n",
    "    ])\n",
    "    def test_add(self, a, b, expected):\n",
    "        self.assertEqual(add(a, b), expected)\n",
    "\n",
    "unittest.main(argv=[''], verbosity=2, exit=False)"
   ]
  },
  {
   "cell_type": "markdown",
   "id": "01949483-b0ed-4315-aaf5-cd12993c3b79",
   "metadata": {},
   "source": [
    "### Test Coverage\n",
    "\n",
    "Test coverage measures how much of your code is tested by your test suite. Tools like `coverage.py` can be used to measure this.\n",
    "\n",
    "```sh\n",
    "coverage run -m unittest discover\n",
    "coverage report\n",
    "```"
   ]
  },
  {
   "cell_type": "code",
   "execution_count": 3,
   "id": "33bde639-7241-416d-b0db-73cc11042cc8",
   "metadata": {},
   "outputs": [
    {
     "name": "stdout",
     "output_type": "stream",
     "text": [
      "Collecting coverage\n",
      "  Downloading coverage-7.6.0-cp312-cp312-win_amd64.whl.metadata (8.4 kB)\n",
      "Downloading coverage-7.6.0-cp312-cp312-win_amd64.whl (209 kB)\n",
      "   ---------------------------------------- 0.0/209.5 kB ? eta -:--:--\n",
      "   - -------------------------------------- 10.2/209.5 kB ? eta -:--:--\n",
      "   ----- --------------------------------- 30.7/209.5 kB 445.2 kB/s eta 0:00:01\n",
      "   ----------- --------------------------- 61.4/209.5 kB 550.5 kB/s eta 0:00:01\n",
      "   ---------------------------------------  204.8/209.5 kB 1.6 MB/s eta 0:00:01\n",
      "   ---------------------------------------- 209.5/209.5 kB 1.3 MB/s eta 0:00:00\n",
      "Installing collected packages: coverage\n",
      "Successfully installed coverage-7.6.0\n"
     ]
    },
    {
     "name": "stderr",
     "output_type": "stream",
     "text": [
      "\n",
      "[notice] A new release of pip is available: 24.0 -> 24.1.2\n",
      "[notice] To update, run: python.exe -m pip install --upgrade pip\n"
     ]
    }
   ],
   "source": [
    "!pip install coverage"
   ]
  },
  {
   "cell_type": "code",
   "execution_count": 5,
   "id": "efb6b7b8-d2dd-4db7-a29d-952b297c45bb",
   "metadata": {},
   "outputs": [
    {
     "name": "stderr",
     "output_type": "stream",
     "text": [
      "test_deposit (banking_system.tests.test_account.TestAccount.test_deposit) ... ok\n",
      "test_deposit_negative_amount (banking_system.tests.test_account.TestAccount.test_deposit_negative_amount) ... ok\n",
      "test_withdraw (banking_system.tests.test_account.TestAccount.test_withdraw) ... ok\n",
      "test_withdraw_insufficient_funds (banking_system.tests.test_account.TestAccount.test_withdraw_insufficient_funds) ... ok\n",
      "test_create_account (banking_system.tests.test_bank.TestBank.test_create_account) ... ok\n",
      "test_create_account_existing (banking_system.tests.test_bank.TestBank.test_create_account_existing) ... ok\n",
      "test_process_invalid_transaction (banking_system.tests.test_bank.TestBank.test_process_invalid_transaction) ... ok\n",
      "test_process_transaction (banking_system.tests.test_bank.TestBank.test_process_transaction) ... ok\n",
      "test_execute_deposit (banking_system.tests.test_transaction.TestTransaction.test_execute_deposit) ... ok\n",
      "test_execute_invalid_transaction_type (banking_system.tests.test_transaction.TestTransaction.test_execute_invalid_transaction_type) ... ok\n",
      "test_execute_withdraw (banking_system.tests.test_transaction.TestTransaction.test_execute_withdraw) ... ok\n",
      "\n",
      "----------------------------------------------------------------------\n",
      "Ran 11 tests in 0.002s\n",
      "\n",
      "OK\n"
     ]
    }
   ],
   "source": [
    "# Run tests with coverage measurement\n",
    "!coverage run -m unittest discover -v"
   ]
  },
  {
   "cell_type": "code",
   "execution_count": 6,
   "id": "e88dd510-fb6b-4428-8f60-04a33857042a",
   "metadata": {},
   "outputs": [
    {
     "name": "stdout",
     "output_type": "stream",
     "text": [
      "Name                                       Stmts   Miss  Cover   Missing\n",
      "------------------------------------------------------------------------\n",
      "banking_system\\__init__.py                     0      0   100%\n",
      "banking_system\\account.py                     16      1    94%   13\n",
      "banking_system\\bank.py                        17      1    94%   19\n",
      "banking_system\\tests\\__init__.py               0      0   100%\n",
      "banking_system\\tests\\test_account.py          19      1    95%   25\n",
      "banking_system\\tests\\test_bank.py             21      1    95%   27\n",
      "banking_system\\tests\\test_transaction.py      20      1    95%   25\n",
      "banking_system\\transaction.py                 11      0   100%\n",
      "------------------------------------------------------------------------\n",
      "TOTAL                                        104      5    95%\n"
     ]
    }
   ],
   "source": [
    "# Generate coverage report\n",
    "!coverage report -m"
   ]
  },
  {
   "cell_type": "code",
   "execution_count": 7,
   "id": "26de9239-779c-497c-9259-dd18664891ad",
   "metadata": {},
   "outputs": [
    {
     "name": "stdout",
     "output_type": "stream",
     "text": [
      "Wrote HTML report to htmlcov\\index.html\n"
     ]
    }
   ],
   "source": [
    "# Generate HTML coverage report (optional)\n",
    "!coverage html"
   ]
  },
  {
   "cell_type": "markdown",
   "id": "e35cad77-257f-4cde-a16f-99ba383073c4",
   "metadata": {},
   "source": [
    "## 6. Summary and Best Practices\n",
    "\n",
    "### Best Practices for Error Handling\n",
    "\n",
    "- Use exceptions for exceptional conditions.\n",
    "- Catch specific exceptions instead of a generic `except` block.\n",
    "- Avoid using exceptions for control flow.\n",
    "- Clean up resources in the `finally` block.\n",
    "\n",
    "### Best Practices for Testing\n",
    "\n",
    "- Write tests for all new features and bug fixes.\n",
    "- Keep tests simple and focused on one thing.\n",
    "- Use descriptive names for test methods.\n",
    "- Run tests frequently to catch issues early.\n"
   ]
  },
  {
   "cell_type": "markdown",
   "id": "2390317c-cf7d-47bb-ad7d-7cf8ccc8d472",
   "metadata": {},
   "source": [
    "*Note:* You can use a broad exception handler, but it's generally not recommended:\n",
    "\n",
    "```python\n",
    "try:\n",
    "    do_something()\n",
    "except:\n",
    "    print(\"Caught an exception!\")\n",
    "```\n",
    "\n",
    "This approach will catch all exceptions, including those you might not want to handle, like `KeyboardInterrupt`. To avoid this, it's better to catch specific exceptions or re-raise the exception after logging it. Here's an improved example:\n",
    "\n",
    "```python\n",
    "try:\n",
    "    do_something()\n",
    "except IOError as e:\n",
    "    print(f\"I/O error({e.errno}): {e.strerror}\")\n",
    "except ValueError:\n",
    "    print(\"Could not convert data to an integer.\")\n",
    "except Exception as e:\n",
    "    print(\"Unexpected error:\", type(e).__name__)\n",
    "    raise\n",
    "```\n",
    "\n",
    "In this example, `IOError` and `ValueError` are handled separately, while any other unexpected exceptions are caught and re-raised after printing the error type."
   ]
  },
  {
   "cell_type": "code",
   "execution_count": 8,
   "id": "75f6ac3e-8acd-4656-98a1-d159c91327bf",
   "metadata": {},
   "outputs": [
    {
     "name": "stdout",
     "output_type": "stream",
     "text": [
      "Caught an exception!\n",
      "Caught an exception!\n",
      "Caught an exception!\n",
      "Caught an exception!\n"
     ]
    }
   ],
   "source": [
    "import time\n",
    "\n",
    "# Imagine the situation if the outer loop was an infinite loop\n",
    "for i in range(3):\n",
    "    try:\n",
    "        for i in range(10):\n",
    "            time.sleep(1)\n",
    "    except:\n",
    "        print(\"Caught an exception!\")\n"
   ]
  },
  {
   "cell_type": "markdown",
   "id": "a73b6a71-e479-421c-85e2-549e2ef04703",
   "metadata": {},
   "source": [
    "---\n",
    "\n",
    "# Further notes regarding context managers\n",
    "\n",
    "The `with` block in Python uses context managers to manage resources. A context manager is an object that defines the runtime context to be established when executing a `with` statement. Context managers typically use the `__enter__` and `__exit__` methods to set up and tear down the context.\n",
    "\n",
    "You can create your own context managers by either implementing the `__enter__` and `__exit__` methods in a class or by using the `contextlib` module, which provides a decorator for creating context managers.\n",
    "\n",
    "### Creating a Context Manager by Implementing `__enter__` and `__exit__`\n",
    "\n",
    "Here's an example of creating a custom context manager by implementing the `__enter__` and `__exit__` methods in a class:"
   ]
  },
  {
   "cell_type": "code",
   "execution_count": 19,
   "id": "201718ac-eb00-46c8-ac55-fc280e636fbb",
   "metadata": {},
   "outputs": [
    {
     "name": "stdout",
     "output_type": "stream",
     "text": [
      "Entering the context\n",
      "Inside the context\n",
      "Exiting the context\n",
      "Outside the context\n"
     ]
    }
   ],
   "source": [
    "class CustomResource:\n",
    "    def __enter__(self):\n",
    "        print(\"Entering the context\")\n",
    "        # Initialization code here\n",
    "        return self\n",
    "\n",
    "    def __exit__(self, exc_type, exc_value, traceback):\n",
    "        print(\"Exiting the context\")\n",
    "        # Cleanup code here\n",
    "        if exc_type:\n",
    "            print(f\"An exception occurred: {exc_value}\")\n",
    "        # Returning False re-raises the exception, True suppresses it\n",
    "        return False\n",
    "\n",
    "# Using the custom context manager\n",
    "with CustomResource() as resource:\n",
    "    print(\"Inside the context\")\n",
    "    # Perform operations within the context\n",
    "\n",
    "print(\"Outside the context\")"
   ]
  },
  {
   "cell_type": "markdown",
   "id": "fb4005e5-e2c7-4b1d-b27a-66c3d99f656d",
   "metadata": {},
   "source": [
    "### Creating a Context Manager Using `contextlib` Module\n",
    "\n",
    "The `contextlib` module provides a convenient way to create context managers using the `@contextmanager` decorator:"
   ]
  },
  {
   "cell_type": "code",
   "execution_count": 21,
   "id": "bd2a8b5c-a203-4b70-852d-034db81555b1",
   "metadata": {},
   "outputs": [
    {
     "name": "stdout",
     "output_type": "stream",
     "text": [
      "Entering the context\n",
      "Inside the context\n",
      "Exiting the context\n",
      "Outside the context\n"
     ]
    }
   ],
   "source": [
    "from contextlib import contextmanager\n",
    "\n",
    "@contextmanager\n",
    "def custom_context():\n",
    "    print(\"Entering the context\")\n",
    "    # Initialization code here\n",
    "    try:\n",
    "        yield\n",
    "        # Code inside the 'with' block runs here\n",
    "    finally:\n",
    "        print(\"Exiting the context\")\n",
    "        # Cleanup code here\n",
    "\n",
    "# Using the custom context manager\n",
    "with custom_context():\n",
    "    print(\"Inside the context\")\n",
    "    # Perform operations within the context\n",
    "\n",
    "print(\"Outside the context\")"
   ]
  },
  {
   "cell_type": "markdown",
   "id": "37bd265a-bec7-4471-ae40-ca1b75ff4496",
   "metadata": {},
   "source": [
    "### Explanation\n",
    "\n",
    "1. **Custom Class with `__enter__` and `__exit__`**:\n",
    "   - The `__enter__` method is executed when the `with` block is entered.\n",
    "   - The `__exit__` method is executed when the `with` block is exited.\n",
    "   - Any exceptions raised inside the `with` block are passed to the `__exit__` method.\n",
    "\n",
    "2. **Using `contextlib.contextmanager` Decorator**:\n",
    "   - The function decorated with `@contextmanager` becomes a context manager.\n",
    "   - The code before the `yield` statement is executed when the `with` block is entered.\n",
    "   - The code after the `yield` statement is executed when the `with` block is exited.\n",
    "   - The `yield` statement can pass a value to the variable after `as` in the `with` statement.\n",
    "\n",
    "Both methods allow you to create custom context managers that can manage resources and ensure proper setup and teardown, making your code more robust and readable."
   ]
  },
  {
   "cell_type": "markdown",
   "id": "8f298065-181b-454e-9c61-ee4fe6c0aab9",
   "metadata": {},
   "source": [
    "# Sources\n",
    "\n",
    " - [Python built-in Exception hierarchy](https://docs.python.org/3/library/exceptions.html#exception-hierarchy)\n",
    " - [Traceback module documentation](https://docs.python.org/3/library/traceback.html)\n",
    " - [Python unittest framework](https://docs.python.org/3.6/library/unittest.html)\n",
    " - [Python unittest framework - list of assertion methods](https://docs.python.org/3.6/library/unittest.html#assert-methods)\n",
    " - [doctest library](https://docs.python.org/3.6/library/doctest.html)\n",
    " - [parametrized library](https://github.com/wolever/parameterized)"
   ]
  },
  {
   "cell_type": "code",
   "execution_count": null,
   "id": "165749b0-3619-450b-b530-9ad371573498",
   "metadata": {},
   "outputs": [],
   "source": []
  }
 ],
 "metadata": {
  "kernelspec": {
   "display_name": "Python 3 (ipykernel)",
   "language": "python",
   "name": "python3"
  },
  "language_info": {
   "codemirror_mode": {
    "name": "ipython",
    "version": 3
   },
   "file_extension": ".py",
   "mimetype": "text/x-python",
   "name": "python",
   "nbconvert_exporter": "python",
   "pygments_lexer": "ipython3",
   "version": "3.12.4"
  }
 },
 "nbformat": 4,
 "nbformat_minor": 5
}
