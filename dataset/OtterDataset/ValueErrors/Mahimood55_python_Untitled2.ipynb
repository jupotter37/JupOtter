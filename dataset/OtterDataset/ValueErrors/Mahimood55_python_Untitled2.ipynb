{
 "cells": [
  {
   "cell_type": "markdown",
   "id": "802d5c9e-bf21-45bc-9013-410d17537b61",
   "metadata": {},
   "source": [
    "TYPE CASTING"
   ]
  },
  {
   "cell_type": "code",
   "execution_count": null,
   "id": "7a873eff-a2bc-491a-8296-5711d21eda94",
   "metadata": {},
   "outputs": [],
   "source": [
    "#type casting is convert one data to another data "
   ]
  },
  {
   "cell_type": "markdown",
   "id": "22eb193e-ddba-4f57-ba1b-8b9c9369d27a",
   "metadata": {},
   "source": [
    "OTHER DATA TYPE TO INT "
   ]
  },
  {
   "cell_type": "code",
   "execution_count": 1,
   "id": "a33e2752-e6cb-4b08-9858-0278355a69ab",
   "metadata": {},
   "outputs": [
    {
     "data": {
      "text/plain": [
       "9"
      ]
     },
     "execution_count": 1,
     "metadata": {},
     "output_type": "execute_result"
    }
   ],
   "source": [
    "int(9.9)\n"
   ]
  },
  {
   "cell_type": "code",
   "execution_count": 2,
   "id": "a303f160-8014-42df-8f75-5654b368e57b",
   "metadata": {},
   "outputs": [
    {
     "data": {
      "text/plain": [
       "7"
      ]
     },
     "execution_count": 2,
     "metadata": {},
     "output_type": "execute_result"
    }
   ],
   "source": [
    "int(7.9) # INTEGER TO FLOAT "
   ]
  },
  {
   "cell_type": "markdown",
   "id": "3635db50-0029-4863-83b3-08580dd7aa1c",
   "metadata": {},
   "source": [
    "integer to string"
   ]
  },
  {
   "cell_type": "code",
   "execution_count": 3,
   "id": "683e36c9-49ee-45a1-a72e-430032fb4e1d",
   "metadata": {},
   "outputs": [
    {
     "data": {
      "text/plain": [
       "10"
      ]
     },
     "execution_count": 3,
     "metadata": {},
     "output_type": "execute_result"
    }
   ],
   "source": [
    "int('10')"
   ]
  },
  {
   "cell_type": "code",
   "execution_count": 4,
   "id": "c125bff5-5928-4e48-92c9-1c41bab14fab",
   "metadata": {},
   "outputs": [
    {
     "data": {
      "text/plain": [
       "500"
      ]
     },
     "execution_count": 4,
     "metadata": {},
     "output_type": "execute_result"
    }
   ],
   "source": [
    "int(500.9)"
   ]
  },
  {
   "cell_type": "code",
   "execution_count": 5,
   "id": "a7b965e4-499c-4ba7-bfba-da59ff6ad25f",
   "metadata": {},
   "outputs": [
    {
     "ename": "ValueError",
     "evalue": "invalid literal for int() with base 10: 'ten'",
     "output_type": "error",
     "traceback": [
      "\u001b[1;31m---------------------------------------------------------------------------\u001b[0m",
      "\u001b[1;31mValueError\u001b[0m                                Traceback (most recent call last)",
      "Cell \u001b[1;32mIn[5], line 1\u001b[0m\n\u001b[1;32m----> 1\u001b[0m \u001b[38;5;28mint\u001b[39m(\u001b[38;5;124m'\u001b[39m\u001b[38;5;124mten\u001b[39m\u001b[38;5;124m'\u001b[39m)\n",
      "\u001b[1;31mValueError\u001b[0m: invalid literal for int() with base 10: 'ten'"
     ]
    }
   ],
   "source": [
    "int('ten')       #string only numbers allowed text is not allowed"
   ]
  },
  {
   "cell_type": "code",
   "execution_count": 6,
   "id": "406500ea-e3b6-451f-a4ca-255841347f9f",
   "metadata": {},
   "outputs": [
    {
     "data": {
      "text/plain": [
       "56"
      ]
     },
     "execution_count": 6,
     "metadata": {},
     "output_type": "execute_result"
    }
   ],
   "source": [
    "int(56.9)"
   ]
  },
  {
   "cell_type": "markdown",
   "id": "1471f53b-152d-4c63-a0f0-3f66a84c184b",
   "metadata": {},
   "source": [
    "#integer to bool"
   ]
  },
  {
   "cell_type": "code",
   "execution_count": 7,
   "id": "aa253e34-5f23-4607-a03f-481b109ba22b",
   "metadata": {},
   "outputs": [
    {
     "data": {
      "text/plain": [
       "1"
      ]
     },
     "execution_count": 7,
     "metadata": {},
     "output_type": "execute_result"
    }
   ],
   "source": [
    "int(True)"
   ]
  },
  {
   "cell_type": "code",
   "execution_count": 8,
   "id": "f07573e6-c3b8-46ca-ae65-e4c136102765",
   "metadata": {},
   "outputs": [
    {
     "data": {
      "text/plain": [
       "1"
      ]
     },
     "execution_count": 8,
     "metadata": {},
     "output_type": "execute_result"
    }
   ],
   "source": [
    "int(False+True)"
   ]
  },
  {
   "cell_type": "markdown",
   "id": "84acdf25-073b-46da-bf5b-9b603b6b147b",
   "metadata": {},
   "source": [
    "Integer to complex"
   ]
  },
  {
   "cell_type": "code",
   "execution_count": 9,
   "id": "b54d9fb6-6ae1-401c-a61a-bf28fff78bb1",
   "metadata": {},
   "outputs": [
    {
     "ename": "TypeError",
     "evalue": "int() argument must be a string, a bytes-like object or a real number, not 'complex'",
     "output_type": "error",
     "traceback": [
      "\u001b[1;31m---------------------------------------------------------------------------\u001b[0m",
      "\u001b[1;31mTypeError\u001b[0m                                 Traceback (most recent call last)",
      "Cell \u001b[1;32mIn[9], line 1\u001b[0m\n\u001b[1;32m----> 1\u001b[0m \u001b[38;5;28mint\u001b[39m(\u001b[38;5;241m2\u001b[39m\u001b[38;5;241m+\u001b[39m\u001b[38;5;241m5\u001b[39mj)\n",
      "\u001b[1;31mTypeError\u001b[0m: int() argument must be a string, a bytes-like object or a real number, not 'complex'"
     ]
    }
   ],
   "source": [
    "int(2+5j)   #int to complex not allowed"
   ]
  },
  {
   "cell_type": "markdown",
   "id": "045de386-eb74-4b83-9141-c131ade4c484",
   "metadata": {},
   "source": [
    "* string with tex and complex can not casting to int\n",
    "* but rest of the data types we can able to INT"
   ]
  },
  {
   "cell_type": "code",
   "execution_count": null,
   "id": "9ab899c0-7b31-40f2-b3bc-bbdb7ab7719d",
   "metadata": {},
   "outputs": [],
   "source": []
  },
  {
   "cell_type": "markdown",
   "id": "9911ab10-a008-4cd5-a627-ab19e6964712",
   "metadata": {},
   "source": [
    "OTHER DATA TYPE TO FLOAT"
   ]
  },
  {
   "cell_type": "markdown",
   "id": "10032bae-b4a5-44ff-a58a-25744aaca3ae",
   "metadata": {},
   "source": [
    "FLOAT TO INT"
   ]
  },
  {
   "cell_type": "code",
   "execution_count": 10,
   "id": "e2d900ce-50c1-4031-b7aa-1327a5e1f8f9",
   "metadata": {},
   "outputs": [
    {
     "data": {
      "text/plain": [
       "80.0"
      ]
     },
     "execution_count": 10,
     "metadata": {},
     "output_type": "execute_result"
    }
   ],
   "source": [
    "float(80)"
   ]
  },
  {
   "cell_type": "code",
   "execution_count": 11,
   "id": "4540dde4-5b54-4eef-a494-2a41f8201eb5",
   "metadata": {},
   "outputs": [
    {
     "data": {
      "text/plain": [
       "87.0"
      ]
     },
     "execution_count": 11,
     "metadata": {},
     "output_type": "execute_result"
    }
   ],
   "source": [
    "float(87)"
   ]
  },
  {
   "cell_type": "code",
   "execution_count": 12,
   "id": "43cc0bce-7d34-4688-a292-f4bff8919b40",
   "metadata": {},
   "outputs": [
    {
     "data": {
      "text/plain": [
       "55.0"
      ]
     },
     "execution_count": 12,
     "metadata": {},
     "output_type": "execute_result"
    }
   ],
   "source": [
    "float(55)"
   ]
  },
  {
   "cell_type": "markdown",
   "id": "5c35d4fd-0e69-4edf-aff0-e045fa5795a3",
   "metadata": {},
   "source": [
    "FLOAT TO STRING"
   ]
  },
  {
   "cell_type": "code",
   "execution_count": 13,
   "id": "f10bc731-d67c-48bc-9fea-df363da81b99",
   "metadata": {},
   "outputs": [
    {
     "data": {
      "text/plain": [
       "10.0"
      ]
     },
     "execution_count": 13,
     "metadata": {},
     "output_type": "execute_result"
    }
   ],
   "source": [
    "float('10')"
   ]
  },
  {
   "cell_type": "code",
   "execution_count": 14,
   "id": "c0e2b6db-f610-4eab-b531-1f4d5dc4e356",
   "metadata": {},
   "outputs": [
    {
     "data": {
      "text/plain": [
       "55.0"
      ]
     },
     "execution_count": 14,
     "metadata": {},
     "output_type": "execute_result"
    }
   ],
   "source": [
    "float('55')"
   ]
  },
  {
   "cell_type": "code",
   "execution_count": 15,
   "id": "71dc2877-51c2-4827-8c86-ce9517b38eaf",
   "metadata": {},
   "outputs": [
    {
     "ename": "ValueError",
     "evalue": "could not convert string to float: 'apple'",
     "output_type": "error",
     "traceback": [
      "\u001b[1;31m---------------------------------------------------------------------------\u001b[0m",
      "\u001b[1;31mValueError\u001b[0m                                Traceback (most recent call last)",
      "Cell \u001b[1;32mIn[15], line 1\u001b[0m\n\u001b[1;32m----> 1\u001b[0m \u001b[38;5;28mfloat\u001b[39m(\u001b[38;5;124m'\u001b[39m\u001b[38;5;124mapple\u001b[39m\u001b[38;5;124m'\u001b[39m)\n",
      "\u001b[1;31mValueError\u001b[0m: could not convert string to float: 'apple'"
     ]
    }
   ],
   "source": [
    "float('apple')"
   ]
  },
  {
   "cell_type": "markdown",
   "id": "88696108-37a7-4d2b-acd9-8dd0eb0eaf3f",
   "metadata": {},
   "source": [
    "FLOAT TO BOOL"
   ]
  },
  {
   "cell_type": "code",
   "execution_count": 16,
   "id": "89818a31-fe3c-43f5-b161-e99c2fb17bc2",
   "metadata": {},
   "outputs": [
    {
     "data": {
      "text/plain": [
       "1.0"
      ]
     },
     "execution_count": 16,
     "metadata": {},
     "output_type": "execute_result"
    }
   ],
   "source": [
    "float(True)"
   ]
  },
  {
   "cell_type": "code",
   "execution_count": 17,
   "id": "c9facf9e-0dfa-472e-ad8c-575e8789edd3",
   "metadata": {},
   "outputs": [
    {
     "data": {
      "text/plain": [
       "0.0"
      ]
     },
     "execution_count": 17,
     "metadata": {},
     "output_type": "execute_result"
    }
   ],
   "source": [
    "float(False)"
   ]
  },
  {
   "cell_type": "code",
   "execution_count": 18,
   "id": "66e5708f-229f-4dbd-9c55-31867bf2351b",
   "metadata": {},
   "outputs": [
    {
     "data": {
      "text/plain": [
       "1.0"
      ]
     },
     "execution_count": 18,
     "metadata": {},
     "output_type": "execute_result"
    }
   ],
   "source": [
    "float(True+False)"
   ]
  },
  {
   "cell_type": "markdown",
   "id": "d75b8299-9004-4539-a93e-7fb6d70a4eb5",
   "metadata": {},
   "source": [
    "FLOAT TO COMPLEX"
   ]
  },
  {
   "cell_type": "code",
   "execution_count": 19,
   "id": "ef19f143-edc2-430b-93a8-590f09aaa431",
   "metadata": {},
   "outputs": [
    {
     "ename": "TypeError",
     "evalue": "float() argument must be a string or a real number, not 'complex'",
     "output_type": "error",
     "traceback": [
      "\u001b[1;31m---------------------------------------------------------------------------\u001b[0m",
      "\u001b[1;31mTypeError\u001b[0m                                 Traceback (most recent call last)",
      "Cell \u001b[1;32mIn[19], line 1\u001b[0m\n\u001b[1;32m----> 1\u001b[0m \u001b[38;5;28mfloat\u001b[39m(\u001b[38;5;241m4\u001b[39m\u001b[38;5;241m+\u001b[39m\u001b[38;5;241m5\u001b[39mj)\n",
      "\u001b[1;31mTypeError\u001b[0m: float() argument must be a string or a real number, not 'complex'"
     ]
    }
   ],
   "source": [
    "float(4+5j)"
   ]
  },
  {
   "cell_type": "code",
   "execution_count": null,
   "id": "d24bef53-6cde-4c64-b0d9-dff5a08eab1d",
   "metadata": {},
   "outputs": [],
   "source": [
    "*string with text and complex cannot casting to float\n",
    "*but rest of the data types we can able casting to float"
   ]
  },
  {
   "cell_type": "code",
   "execution_count": null,
   "id": "bf261f01-a654-43b3-aa91-acbdb663d38b",
   "metadata": {},
   "outputs": [],
   "source": []
  },
  {
   "cell_type": "markdown",
   "id": "243b88f8-5671-4652-9fc7-71a035a9420b",
   "metadata": {},
   "source": [
    "OTHER DATA TYPE TO BOOL"
   ]
  },
  {
   "cell_type": "markdown",
   "id": "a4c10348-51bb-421e-b6cc-028cbbd1b9c4",
   "metadata": {},
   "source": [
    "BOOL TO INT"
   ]
  },
  {
   "cell_type": "code",
   "execution_count": 20,
   "id": "384a7a0d-da5b-4ec1-b804-b1833ddf9a21",
   "metadata": {},
   "outputs": [
    {
     "data": {
      "text/plain": [
       "True"
      ]
     },
     "execution_count": 20,
     "metadata": {},
     "output_type": "execute_result"
    }
   ],
   "source": [
    "bool(560)"
   ]
  },
  {
   "cell_type": "code",
   "execution_count": 21,
   "id": "8bf8e3af-dcd4-4594-9c0b-fc408861e2d0",
   "metadata": {},
   "outputs": [
    {
     "data": {
      "text/plain": [
       "True"
      ]
     },
     "execution_count": 21,
     "metadata": {},
     "output_type": "execute_result"
    }
   ],
   "source": [
    "bool(78)"
   ]
  },
  {
   "cell_type": "markdown",
   "id": "636a9795-d5fb-4c80-9e28-96a3b6c7c1d1",
   "metadata": {},
   "source": [
    "BOOL TO STRING"
   ]
  },
  {
   "cell_type": "code",
   "execution_count": 22,
   "id": "55e65cc6-70f6-4c2f-8907-f7f427afa017",
   "metadata": {},
   "outputs": [
    {
     "data": {
      "text/plain": [
       "True"
      ]
     },
     "execution_count": 22,
     "metadata": {},
     "output_type": "execute_result"
    }
   ],
   "source": [
    "bool('mahimood')"
   ]
  },
  {
   "cell_type": "code",
   "execution_count": 23,
   "id": "b7d0fe1a-b096-4066-a64c-b8471681fd3a",
   "metadata": {},
   "outputs": [
    {
     "data": {
      "text/plain": [
       "True"
      ]
     },
     "execution_count": 23,
     "metadata": {},
     "output_type": "execute_result"
    }
   ],
   "source": [
    "bool('20')"
   ]
  },
  {
   "cell_type": "code",
   "execution_count": 24,
   "id": "5581891c-46a0-4a30-a196-47a21c81b0c6",
   "metadata": {},
   "outputs": [
    {
     "data": {
      "text/plain": [
       "True"
      ]
     },
     "execution_count": 24,
     "metadata": {},
     "output_type": "execute_result"
    }
   ],
   "source": [
    "bool('55')"
   ]
  },
  {
   "cell_type": "markdown",
   "id": "cc73dd2f-cff8-485b-acd6-0958732caa9a",
   "metadata": {},
   "source": [
    "BOOL TO FLOAT"
   ]
  },
  {
   "cell_type": "code",
   "execution_count": 25,
   "id": "61ba6f3a-b944-4527-b9fd-22afee5033eb",
   "metadata": {},
   "outputs": [
    {
     "data": {
      "text/plain": [
       "True"
      ]
     },
     "execution_count": 25,
     "metadata": {},
     "output_type": "execute_result"
    }
   ],
   "source": [
    "bool(9.99)"
   ]
  },
  {
   "cell_type": "code",
   "execution_count": 26,
   "id": "abdd2f30-6491-4ddb-a029-1cc9cafa3e20",
   "metadata": {},
   "outputs": [
    {
     "data": {
      "text/plain": [
       "True"
      ]
     },
     "execution_count": 26,
     "metadata": {},
     "output_type": "execute_result"
    }
   ],
   "source": [
    "bool(5.8)"
   ]
  },
  {
   "cell_type": "markdown",
   "id": "11b10951-0a65-41e3-b80d-35f8657c4224",
   "metadata": {},
   "source": [
    "BOOL TO COMPLEX"
   ]
  },
  {
   "cell_type": "code",
   "execution_count": 27,
   "id": "3a2ba1b8-75a3-43fc-bc69-0e793a54b72b",
   "metadata": {},
   "outputs": [
    {
     "data": {
      "text/plain": [
       "True"
      ]
     },
     "execution_count": 27,
     "metadata": {},
     "output_type": "execute_result"
    }
   ],
   "source": [
    "bool(3+5j)"
   ]
  },
  {
   "cell_type": "code",
   "execution_count": 28,
   "id": "8ac5f8b0-e06b-460c-a8e9-12545dbf4ea0",
   "metadata": {},
   "outputs": [
    {
     "data": {
      "text/plain": [
       "True"
      ]
     },
     "execution_count": 28,
     "metadata": {},
     "output_type": "execute_result"
    }
   ],
   "source": [
    "bool(6+7j)"
   ]
  },
  {
   "cell_type": "code",
   "execution_count": 29,
   "id": "6fd7945c-ae99-4533-b43f-678d158af031",
   "metadata": {},
   "outputs": [
    {
     "data": {
      "text/plain": [
       "False"
      ]
     },
     "execution_count": 29,
     "metadata": {},
     "output_type": "execute_result"
    }
   ],
   "source": [
    "bool()"
   ]
  },
  {
   "cell_type": "code",
   "execution_count": 30,
   "id": "ca34ec7a-1028-4ab9-965c-e5374378f53f",
   "metadata": {},
   "outputs": [
    {
     "data": {
      "text/plain": [
       "False"
      ]
     },
     "execution_count": 30,
     "metadata": {},
     "output_type": "execute_result"
    }
   ],
   "source": [
    "bool(0)"
   ]
  },
  {
   "cell_type": "markdown",
   "id": "7bdbb209-77e7-479b-8e33-af1180426963",
   "metadata": {},
   "source": [
    "*we can casting from other data type to bool\n",
    "*non-zero argument always gives you true\n",
    "zero argument----> its give the false"
   ]
  },
  {
   "cell_type": "code",
   "execution_count": null,
   "id": "17393103-6304-4d28-bf72-4c43d24b5b07",
   "metadata": {},
   "outputs": [],
   "source": []
  },
  {
   "cell_type": "markdown",
   "id": "fd98fe7d-9efd-4b20-9479-7c0039f64ebc",
   "metadata": {},
   "source": [
    "OTHER DATA TYPE TO STRING"
   ]
  },
  {
   "cell_type": "markdown",
   "id": "c98f26bc-ceee-4a9a-b35c-6c5a839994eb",
   "metadata": {},
   "source": [
    "string to int"
   ]
  },
  {
   "cell_type": "code",
   "execution_count": 31,
   "id": "be626620-be65-4cf0-a9c4-d129df761d86",
   "metadata": {},
   "outputs": [
    {
     "data": {
      "text/plain": [
       "'10'"
      ]
     },
     "execution_count": 31,
     "metadata": {},
     "output_type": "execute_result"
    }
   ],
   "source": [
    "str(10)"
   ]
  },
  {
   "cell_type": "code",
   "execution_count": 32,
   "id": "a3773136-402f-4495-8f53-90efdb2f4aa0",
   "metadata": {},
   "outputs": [
    {
     "data": {
      "text/plain": [
       "'55'"
      ]
     },
     "execution_count": 32,
     "metadata": {},
     "output_type": "execute_result"
    }
   ],
   "source": [
    "str(55)"
   ]
  },
  {
   "cell_type": "markdown",
   "id": "78496a85-6146-4dd9-bc33-41d238bfce84",
   "metadata": {},
   "source": [
    "STRING TO FLOAT"
   ]
  },
  {
   "cell_type": "code",
   "execution_count": 33,
   "id": "c8122356-cbf5-4874-8433-1a751ab7521d",
   "metadata": {},
   "outputs": [
    {
     "data": {
      "text/plain": [
       "'80.9'"
      ]
     },
     "execution_count": 33,
     "metadata": {},
     "output_type": "execute_result"
    }
   ],
   "source": [
    "str(80.9)"
   ]
  },
  {
   "cell_type": "code",
   "execution_count": 34,
   "id": "3496bca4-6b45-489f-9c97-576d93eda7b6",
   "metadata": {},
   "outputs": [
    {
     "data": {
      "text/plain": [
       "'55.9'"
      ]
     },
     "execution_count": 34,
     "metadata": {},
     "output_type": "execute_result"
    }
   ],
   "source": [
    "str(55.9)"
   ]
  },
  {
   "cell_type": "markdown",
   "id": "f9f1d5f5-40f0-413d-ae48-187dd1cb3e6e",
   "metadata": {},
   "source": [
    "STRING TO BOOL"
   ]
  },
  {
   "cell_type": "code",
   "execution_count": 35,
   "id": "0b8bf51f-efcf-4af8-8070-da7b19a523ec",
   "metadata": {},
   "outputs": [
    {
     "data": {
      "text/plain": [
       "'True'"
      ]
     },
     "execution_count": 35,
     "metadata": {},
     "output_type": "execute_result"
    }
   ],
   "source": [
    "str(True)"
   ]
  },
  {
   "cell_type": "code",
   "execution_count": 36,
   "id": "852daee3-4ffd-4036-a095-7a46f0c857c7",
   "metadata": {},
   "outputs": [
    {
     "data": {
      "text/plain": [
       "'False'"
      ]
     },
     "execution_count": 36,
     "metadata": {},
     "output_type": "execute_result"
    }
   ],
   "source": [
    "str(False)"
   ]
  },
  {
   "cell_type": "markdown",
   "id": "cd39679a-9142-4f16-9006-8b4574b4fe7b",
   "metadata": {},
   "source": [
    "STRING TO COMPLEX"
   ]
  },
  {
   "cell_type": "code",
   "execution_count": 37,
   "id": "728058da-8bde-4403-9f1d-b5f5944649a2",
   "metadata": {},
   "outputs": [
    {
     "data": {
      "text/plain": [
       "'(3+6j)'"
      ]
     },
     "execution_count": 37,
     "metadata": {},
     "output_type": "execute_result"
    }
   ],
   "source": [
    "str(3+6j)"
   ]
  },
  {
   "cell_type": "code",
   "execution_count": 38,
   "id": "13e0596d-e289-44c2-8f01-d5408b3d819f",
   "metadata": {},
   "outputs": [
    {
     "data": {
      "text/plain": [
       "'(5+7j)'"
      ]
     },
     "execution_count": 38,
     "metadata": {},
     "output_type": "execute_result"
    }
   ],
   "source": [
    "str(5+7j)"
   ]
  },
  {
   "cell_type": "code",
   "execution_count": null,
   "id": "610d5512-9827-4249-9ecf-13fc8a2ac60a",
   "metadata": {},
   "outputs": [],
   "source": []
  },
  {
   "cell_type": "markdown",
   "id": "9eaad40a-3b8d-40df-9121-613b01bd1bda",
   "metadata": {},
   "source": [
    "OTHER DATA TYPE TO COMPLEX"
   ]
  },
  {
   "cell_type": "markdown",
   "id": "f8157506-07f2-453b-9799-fb6bd43a3d0a",
   "metadata": {},
   "source": [
    "*COMPLEX TO INT"
   ]
  },
  {
   "cell_type": "code",
   "execution_count": 42,
   "id": "086838d4-95d6-49ee-8d14-35fdd50eb797",
   "metadata": {},
   "outputs": [
    {
     "data": {
      "text/plain": [
       "(60+70j)"
      ]
     },
     "execution_count": 42,
     "metadata": {},
     "output_type": "execute_result"
    }
   ],
   "source": [
    "complex(60,70)"
   ]
  },
  {
   "cell_type": "code",
   "execution_count": 43,
   "id": "643ec22a-37cd-43e2-9790-c4b3218a504b",
   "metadata": {},
   "outputs": [
    {
     "data": {
      "text/plain": [
       "(7+8j)"
      ]
     },
     "execution_count": 43,
     "metadata": {},
     "output_type": "execute_result"
    }
   ],
   "source": [
    "complex(7,8)"
   ]
  },
  {
   "cell_type": "markdown",
   "id": "b882fe3e-fa65-4da4-9fa0-26c4348457bf",
   "metadata": {},
   "source": [
    "COMPLEX TO FLOAT"
   ]
  },
  {
   "cell_type": "code",
   "execution_count": 44,
   "id": "971383c8-8d3e-498c-9924-f6e9d1482c7b",
   "metadata": {},
   "outputs": [
    {
     "data": {
      "text/plain": [
       "(9.8+0j)"
      ]
     },
     "execution_count": 44,
     "metadata": {},
     "output_type": "execute_result"
    }
   ],
   "source": [
    "complex(9.8)"
   ]
  },
  {
   "cell_type": "code",
   "execution_count": 46,
   "id": "fc475acd-430c-487f-9e95-0b70a8a65670",
   "metadata": {},
   "outputs": [
    {
     "data": {
      "text/plain": [
       "(90+78.9j)"
      ]
     },
     "execution_count": 46,
     "metadata": {},
     "output_type": "execute_result"
    }
   ],
   "source": [
    "complex(90.0,78.9)"
   ]
  },
  {
   "cell_type": "markdown",
   "id": "1d9f90a1-b2d0-43d9-b20d-c03013875bfc",
   "metadata": {},
   "source": [
    "COMPLEX TO STRING"
   ]
  },
  {
   "cell_type": "code",
   "execution_count": 47,
   "id": "b7e95e98-f2d5-440b-9d5f-cadd54079852",
   "metadata": {},
   "outputs": [
    {
     "data": {
      "text/plain": [
       "(79+0j)"
      ]
     },
     "execution_count": 47,
     "metadata": {},
     "output_type": "execute_result"
    }
   ],
   "source": [
    "complex('79')"
   ]
  },
  {
   "cell_type": "code",
   "execution_count": 50,
   "id": "70558410-e45b-419e-ad65-8cb3297b705f",
   "metadata": {},
   "outputs": [
    {
     "data": {
      "text/plain": [
       "(78+0j)"
      ]
     },
     "execution_count": 50,
     "metadata": {},
     "output_type": "execute_result"
    }
   ],
   "source": [
    "complex('7'+'8')"
   ]
  },
  {
   "cell_type": "code",
   "execution_count": 51,
   "id": "fff653b9-1051-4bf3-aa8b-95ea553fe85b",
   "metadata": {},
   "outputs": [
    {
     "ename": "ValueError",
     "evalue": "complex() arg is a malformed string",
     "output_type": "error",
     "traceback": [
      "\u001b[1;31m---------------------------------------------------------------------------\u001b[0m",
      "\u001b[1;31mValueError\u001b[0m                                Traceback (most recent call last)",
      "Cell \u001b[1;32mIn[51], line 1\u001b[0m\n\u001b[1;32m----> 1\u001b[0m \u001b[38;5;28mcomplex\u001b[39m(\u001b[38;5;124m'\u001b[39m\u001b[38;5;124mball\u001b[39m\u001b[38;5;124m'\u001b[39m)\n",
      "\u001b[1;31mValueError\u001b[0m: complex() arg is a malformed string"
     ]
    }
   ],
   "source": [
    "complex('ball')"
   ]
  },
  {
   "cell_type": "markdown",
   "id": "92d672e1-5148-4443-ab47-e2ba61ff096b",
   "metadata": {},
   "source": [
    "COMPLEX TO BOOL"
   ]
  },
  {
   "cell_type": "code",
   "execution_count": 52,
   "id": "945a66d6-155b-4509-bce3-41053bd7bea1",
   "metadata": {},
   "outputs": [
    {
     "data": {
      "text/plain": [
       "(1+0j)"
      ]
     },
     "execution_count": 52,
     "metadata": {},
     "output_type": "execute_result"
    }
   ],
   "source": [
    "complex(True,False)"
   ]
  },
  {
   "cell_type": "code",
   "execution_count": 53,
   "id": "374896bb-18ab-403d-b656-47831dc5514f",
   "metadata": {},
   "outputs": [
    {
     "data": {
      "text/plain": [
       "1j"
      ]
     },
     "execution_count": 53,
     "metadata": {},
     "output_type": "execute_result"
    }
   ],
   "source": [
    "complex(False,True)"
   ]
  },
  {
   "cell_type": "code",
   "execution_count": null,
   "id": "51857620-f62e-4660-95d1-b892fbd1f05e",
   "metadata": {},
   "outputs": [],
   "source": [
    "*COMPLEX TO STRING ONLY TEXT IS NOT ALLOWED\n",
    "*STRING IS ONLY NUMBERS ALLOWED\n",
    "*ONLY TWO ARGUMENTS ARE ALLOWED \n",
    "*3 ARGUMENTS ARE NOT ALLOWED\n",
    "*REST OF THE DATA TYPE WE CAN ABLE CASTING TO COMPLEX"
   ]
  },
  {
   "cell_type": "code",
   "execution_count": null,
   "id": "72cc4e71-6e9d-4c79-8e43-3602ab05ac6d",
   "metadata": {},
   "outputs": [],
   "source": []
  },
  {
   "cell_type": "code",
   "execution_count": null,
   "id": "6ee593e6-37a9-44da-a29c-bad996be1bed",
   "metadata": {},
   "outputs": [],
   "source": []
  },
  {
   "cell_type": "code",
   "execution_count": null,
   "id": "23f5c861-3d55-42fd-8e38-ca538832719e",
   "metadata": {},
   "outputs": [],
   "source": []
  },
  {
   "cell_type": "code",
   "execution_count": null,
   "id": "16406d5a-7256-4728-9b01-dab93604317f",
   "metadata": {},
   "outputs": [],
   "source": []
  },
  {
   "cell_type": "code",
   "execution_count": null,
   "id": "bdcadcbf-71d1-469a-845c-68e6dfd9d8a9",
   "metadata": {},
   "outputs": [],
   "source": []
  },
  {
   "cell_type": "code",
   "execution_count": null,
   "id": "5a3a2ea0-75a3-40bb-8598-5925a1bde0ce",
   "metadata": {},
   "outputs": [],
   "source": []
  }
 ],
 "metadata": {
  "kernelspec": {
   "display_name": "Python 3 (ipykernel)",
   "language": "python",
   "name": "python3"
  },
  "language_info": {
   "codemirror_mode": {
    "name": "ipython",
    "version": 3
   },
   "file_extension": ".py",
   "mimetype": "text/x-python",
   "name": "python",
   "nbconvert_exporter": "python",
   "pygments_lexer": "ipython3",
   "version": "3.12.7"
  }
 },
 "nbformat": 4,
 "nbformat_minor": 5
}
