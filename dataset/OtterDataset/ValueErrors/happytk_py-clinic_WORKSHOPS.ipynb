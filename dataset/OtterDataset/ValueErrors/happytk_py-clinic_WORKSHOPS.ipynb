{
 "cells": [
  {
   "cell_type": "code",
   "execution_count": 28,
   "metadata": {
    "collapsed": true
   },
   "outputs": [],
   "source": [
    "import os\n",
    "test_str = os.__doc__\n",
    "# test_str을 단어조합으로 만들어보세요. 총 몇개인가요?\n",
    "len(test_str.split()),\n",
    "test_str_set = set(test_str.split())"
   ]
  },
  {
   "cell_type": "code",
   "execution_count": 1,
   "metadata": {},
   "outputs": [
    {
     "ename": "NameError",
     "evalue": "name 'test_str_set' is not defined",
     "output_type": "error",
     "traceback": [
      "\u001b[0;31m---------------------------------------------------------------------------\u001b[0m",
      "\u001b[0;31mNameError\u001b[0m                                 Traceback (most recent call last)",
      "\u001b[0;32m<ipython-input-1-631ab120b093>\u001b[0m in \u001b[0;36m<module>\u001b[0;34m()\u001b[0m\n\u001b[1;32m      8\u001b[0m \u001b[0;31m# test_str2_set.intersection(test_str_set)\u001b[0m\u001b[0;34m\u001b[0m\u001b[0;34m\u001b[0m\u001b[0m\n\u001b[1;32m      9\u001b[0m \u001b[0;31m# test_str2에만 존재하는 단어조합을 만들어보세요.\u001b[0m\u001b[0;34m\u001b[0m\u001b[0;34m\u001b[0m\u001b[0m\n\u001b[0;32m---> 10\u001b[0;31m \u001b[0mtest_str2_set\u001b[0m \u001b[0;34m-\u001b[0m \u001b[0mtest_str_set\u001b[0m\u001b[0;34m\u001b[0m\u001b[0m\n\u001b[0m",
      "\u001b[0;31mNameError\u001b[0m: name 'test_str_set' is not defined"
     ]
    }
   ],
   "source": [
    "import sys\n",
    "test_str2 = sys.__doc__\n",
    "\n",
    "# test_str2의 단어조합을 만들어보세요. 총 몇개인가요?\n",
    "len(test_str2.split())\n",
    "# test_str2와 test_str의 중복된 단어목록을 만들어보세요.\n",
    "test_str2_set = set(test_str2.split())\n",
    "# test_str2_set.intersection(test_str_set)\n",
    "# test_str2에만 존재하는 단어조합을 만들어보세요.\n",
    "test_str2_set - test_str_set"
   ]
  },
  {
   "cell_type": "code",
   "execution_count": 3,
   "metadata": {},
   "outputs": [
    {
     "name": "stdout",
     "output_type": "stream",
     "text": [
      "사용자입력:import random  data = list(range(1,101))  def twenty_hill_simulation():     try_count = 0     my_pick = random.choice(data)     while try_count < 20:         your_pick = random.choice(data)         if your_pick == my_pick:             print(f'{your_pick} -> 제가 가진 숫자와 같습니다.')             break         elif your_pick > my_pick:             print(f'{your_pick} -> 제가 가진 숫자보다 큽니다.')         else:             print(f'{your_pick} -> 제가 가진 숫자보다 작습니다.')         try_count += 1     else:         print('20번이 넘어서 종료합니다.')  twenty_hill_simulation()\n"
     ]
    },
    {
     "ename": "ValueError",
     "evalue": "invalid literal for int() with base 10: \"import random  data = list(range(1,101))  def twenty_hill_simulation():     try_count = 0     my_pick = random.choice(data)     while try_count < 20:         your_pick = random.choice(data)         i",
     "output_type": "error",
     "traceback": [
      "\u001b[0;31m---------------------------------------------------------------------------\u001b[0m",
      "\u001b[0;31mValueError\u001b[0m                                Traceback (most recent call last)",
      "\u001b[0;32m<ipython-input-3-62733344e03f>\u001b[0m in \u001b[0;36m<module>\u001b[0;34m()\u001b[0m\n\u001b[0;32m----> 1\u001b[0;31m \u001b[0minp\u001b[0m \u001b[0;34m=\u001b[0m \u001b[0mint\u001b[0m\u001b[0;34m(\u001b[0m\u001b[0minput\u001b[0m\u001b[0;34m(\u001b[0m\u001b[0;34m'사용자입력:'\u001b[0m\u001b[0;34m)\u001b[0m\u001b[0;34m)\u001b[0m\u001b[0;34m\u001b[0m\u001b[0m\n\u001b[0m\u001b[1;32m      2\u001b[0m \u001b[0;34m\u001b[0m\u001b[0m\n\u001b[1;32m      3\u001b[0m \u001b[0;32mfor\u001b[0m \u001b[0mi\u001b[0m \u001b[0;32min\u001b[0m \u001b[0mrange\u001b[0m\u001b[0;34m(\u001b[0m\u001b[0;36m1\u001b[0m\u001b[0;34m,\u001b[0m\u001b[0;36m10\u001b[0m\u001b[0;34m)\u001b[0m\u001b[0;34m:\u001b[0m\u001b[0;34m\u001b[0m\u001b[0m\n\u001b[1;32m      4\u001b[0m     \u001b[0mprint\u001b[0m\u001b[0;34m(\u001b[0m\u001b[0;34mf'{inp} * {i} = {inp*i}'\u001b[0m\u001b[0;34m)\u001b[0m\u001b[0;34m\u001b[0m\u001b[0m\n",
      "\u001b[0;31mValueError\u001b[0m: invalid literal for int() with base 10: \"import random  data = list(range(1,101))  def twenty_hill_simulation():     try_count = 0     my_pick = random.choice(data)     while try_count < 20:         your_pick = random.choice(data)         i"
     ]
    }
   ],
   "source": [
    "inp = int(input('사용자입력:'))\n",
    "\n",
    "for i in range(1,10):\n",
    "    print(f'{inp} * {i} = {inp*i}')"
   ]
  },
  {
   "cell_type": "code",
   "execution_count": 5,
   "metadata": {},
   "outputs": [
    {
     "name": "stdout",
     "output_type": "stream",
     "text": [
      "47 -> 제가 가진 숫자와 같습니다.\n"
     ]
    }
   ],
   "source": [
    "import random\n",
    "\n",
    "data = list(range(1,101))\n",
    "\n",
    "def twenty_hill_simulation():\n",
    "    try_count = 0\n",
    "    my_pick = random.choice(data)\n",
    "    while try_count < 20:\n",
    "        your_pick = random.choice(data)\n",
    "        if your_pick == my_pick:\n",
    "            print(f'{your_pick} -> 제가 가진 숫자와 같습니다.')\n",
    "            break\n",
    "        elif your_pick > my_pick:\n",
    "            print(f'{your_pick} -> 제가 가진 숫자보다 큽니다.')\n",
    "        else:\n",
    "            print(f'{your_pick} -> 제가 가진 숫자보다 작습니다.')\n",
    "        try_count += 1\n",
    "    else:\n",
    "        print('20번이 넘어서 종료합니다.')\n",
    "\n",
    "twenty_hill_simulation()"
   ]
  },
  {
   "cell_type": "code",
   "execution_count": 7,
   "metadata": {},
   "outputs": [
    {
     "name": "stdout",
     "output_type": "stream",
     "text": [
      "1\n",
      "2\n",
      "clap\n",
      "4\n",
      "5\n",
      "clap\n",
      "7\n",
      "8\n",
      "clap\n",
      "10\n",
      "11\n",
      "12\n",
      "clap\n",
      "14\n",
      "15\n",
      "clap\n",
      "17\n",
      "18\n",
      "clap\n",
      "20\n",
      "21\n",
      "22\n",
      "clap\n",
      "24\n",
      "25\n",
      "clap\n",
      "27\n",
      "28\n",
      "clap\n",
      "clap\n",
      "clap\n",
      "clap\n",
      "clapclap\n",
      "clap\n",
      "clap\n",
      "clapclap\n",
      "clap\n",
      "clap\n",
      "clapclap\n",
      "40\n",
      "41\n",
      "42\n",
      "clap\n",
      "44\n",
      "45\n",
      "clap\n",
      "47\n",
      "48\n",
      "clap\n",
      "50\n",
      "51\n",
      "52\n",
      "clap\n",
      "54\n",
      "55\n",
      "clap\n",
      "57\n",
      "58\n",
      "clap\n",
      "clap\n",
      "clap\n",
      "clap\n",
      "clapclap\n",
      "clap\n",
      "clap\n",
      "clapclap\n",
      "clap\n",
      "clap\n",
      "clapclap\n",
      "70\n",
      "71\n",
      "72\n",
      "clap\n",
      "74\n",
      "75\n",
      "clap\n",
      "77\n",
      "78\n",
      "clap\n",
      "80\n",
      "81\n",
      "82\n",
      "clap\n",
      "84\n",
      "85\n",
      "clap\n",
      "87\n",
      "88\n",
      "clap\n",
      "clap\n",
      "clap\n",
      "clap\n",
      "clapclap\n",
      "clap\n",
      "clap\n",
      "clapclap\n",
      "clap\n",
      "clap\n",
      "clapclap\n",
      "100\n"
     ]
    }
   ],
   "source": [
    "for number in range(1, 101):\n",
    "    ret = []\n",
    "    for numstr in str(number):\n",
    "        if numstr in '369':\n",
    "            ret.append('clap')\n",
    "\n",
    "    if ret:\n",
    "        print(''.join(ret))\n",
    "    else:\n",
    "        print(number)"
   ]
  },
  {
   "cell_type": "code",
   "execution_count": 9,
   "metadata": {},
   "outputs": [
    {
     "data": {
      "text/plain": [
       "[1,\n",
       " 2,\n",
       " 'clap',\n",
       " 4,\n",
       " 5,\n",
       " 'clap',\n",
       " 7,\n",
       " 8,\n",
       " 'clap',\n",
       " 10,\n",
       " 11,\n",
       " 12,\n",
       " 'clap',\n",
       " 14,\n",
       " 15,\n",
       " 'clap',\n",
       " 17,\n",
       " 18,\n",
       " 'clap',\n",
       " 20,\n",
       " 21,\n",
       " 22,\n",
       " 'clap',\n",
       " 24,\n",
       " 25,\n",
       " 'clap',\n",
       " 27,\n",
       " 28,\n",
       " 'clap',\n",
       " 'clap',\n",
       " 'clap',\n",
       " 'clap',\n",
       " 'clapclap',\n",
       " 'clap',\n",
       " 'clap',\n",
       " 'clapclap',\n",
       " 'clap',\n",
       " 'clap',\n",
       " 'clapclap',\n",
       " 40,\n",
       " 41,\n",
       " 42,\n",
       " 'clap',\n",
       " 44,\n",
       " 45,\n",
       " 'clap',\n",
       " 47,\n",
       " 48,\n",
       " 'clap',\n",
       " 50,\n",
       " 51,\n",
       " 52,\n",
       " 'clap',\n",
       " 54,\n",
       " 55,\n",
       " 'clap',\n",
       " 57,\n",
       " 58,\n",
       " 'clap',\n",
       " 'clap',\n",
       " 'clap',\n",
       " 'clap',\n",
       " 'clapclap',\n",
       " 'clap',\n",
       " 'clap',\n",
       " 'clapclap',\n",
       " 'clap',\n",
       " 'clap',\n",
       " 'clapclap',\n",
       " 70,\n",
       " 71,\n",
       " 72,\n",
       " 'clap',\n",
       " 74,\n",
       " 75,\n",
       " 'clap',\n",
       " 77,\n",
       " 78,\n",
       " 'clap',\n",
       " 80,\n",
       " 81,\n",
       " 82,\n",
       " 'clap',\n",
       " 84,\n",
       " 85,\n",
       " 'clap',\n",
       " 87,\n",
       " 88,\n",
       " 'clap',\n",
       " 'clap',\n",
       " 'clap',\n",
       " 'clap',\n",
       " 'clapclap',\n",
       " 'clap',\n",
       " 'clap',\n",
       " 'clapclap',\n",
       " 'clap',\n",
       " 'clap',\n",
       " 'clapclap',\n",
       " 100]"
      ]
     },
     "execution_count": 9,
     "metadata": {},
     "output_type": "execute_result"
    }
   ],
   "source": [
    "[\n",
    "    ''.join([\n",
    "        'clap'\n",
    "        for numstr in str(number)\n",
    "        if numstr in '369'\n",
    "    ]) or number \n",
    "    for number in range(1, 101)\n",
    "]"
   ]
  },
  {
   "cell_type": "code",
   "execution_count": 11,
   "metadata": {},
   "outputs": [
    {
     "name": "stdout",
     "output_type": "stream",
     "text": [
      "abc\n",
      "def\n",
      "ghe\n"
     ]
    }
   ],
   "source": [
    "for x in ['abc', 'def', 'ghe']:\n",
    "    print(x)"
   ]
  },
  {
   "cell_type": "code",
   "execution_count": 13,
   "metadata": {},
   "outputs": [
    {
     "data": {
      "text/plain": [
       "['/bin/[',\n",
       " '/bin/bash',\n",
       " '/bin/cat',\n",
       " '/bin/chmod',\n",
       " '/bin/cp',\n",
       " '/bin/csh',\n",
       " '/bin/date',\n",
       " '/bin/dd',\n",
       " '/bin/df',\n",
       " '/bin/domainname',\n",
       " '/bin/echo',\n",
       " '/bin/ed',\n",
       " '/bin/expr',\n",
       " '/bin/hostname',\n",
       " '/bin/kill',\n",
       " '/bin/ksh',\n",
       " '/bin/launchctl',\n",
       " '/bin/link',\n",
       " '/bin/ln',\n",
       " '/bin/ls',\n",
       " '/bin/mkdir',\n",
       " '/bin/mv',\n",
       " '/bin/pax',\n",
       " '/bin/ps',\n",
       " '/bin/pwd',\n",
       " '/bin/rm',\n",
       " '/bin/rmdir',\n",
       " '/bin/sh',\n",
       " '/bin/sleep',\n",
       " '/bin/stty',\n",
       " '/bin/sync',\n",
       " '/bin/tcsh',\n",
       " '/bin/test',\n",
       " '/bin/unlink',\n",
       " '/bin/wait4path',\n",
       " '/bin/zsh']"
      ]
     },
     "execution_count": 13,
     "metadata": {},
     "output_type": "execute_result"
    }
   ],
   "source": [
    "import glob\n",
    "# basedir = 'c:\\\\windows\\\\system32\\\\*.dll'\n",
    "basedir = '/bin/*'\n",
    "glob.glob(basedir)"
   ]
  },
  {
   "cell_type": "code",
   "execution_count": 14,
   "metadata": {},
   "outputs": [
    {
     "ename": "NameError",
     "evalue": "name 'os' is not defined",
     "output_type": "error",
     "traceback": [
      "\u001b[0;31m---------------------------------------------------------------------------\u001b[0m",
      "\u001b[0;31mNameError\u001b[0m                                 Traceback (most recent call last)",
      "\u001b[0;32m<ipython-input-14-72654d4fddc5>\u001b[0m in \u001b[0;36m<module>\u001b[0;34m()\u001b[0m\n\u001b[1;32m      2\u001b[0m \u001b[0mbasedir\u001b[0m \u001b[0;34m=\u001b[0m \u001b[0;34m'c:\\\\windows\\\\system32'\u001b[0m\u001b[0;34m\u001b[0m\u001b[0m\n\u001b[1;32m      3\u001b[0m files = [\n\u001b[0;32m----> 4\u001b[0;31m     \u001b[0;34m(\u001b[0m\u001b[0mfile\u001b[0m\u001b[0;34m.\u001b[0m\u001b[0mlower\u001b[0m\u001b[0;34m(\u001b[0m\u001b[0;34m)\u001b[0m\u001b[0;34m,\u001b[0m \u001b[0mos\u001b[0m\u001b[0;34m.\u001b[0m\u001b[0mpath\u001b[0m\u001b[0;34m.\u001b[0m\u001b[0mgetsize\u001b[0m\u001b[0;34m(\u001b[0m\u001b[0mfile\u001b[0m\u001b[0;34m)\u001b[0m\u001b[0;34m)\u001b[0m \u001b[0;32mfor\u001b[0m \u001b[0mfile\u001b[0m \u001b[0;32min\u001b[0m \u001b[0mglob\u001b[0m\u001b[0;34m.\u001b[0m\u001b[0mglob\u001b[0m\u001b[0;34m(\u001b[0m\u001b[0mos\u001b[0m\u001b[0;34m.\u001b[0m\u001b[0mpath\u001b[0m\u001b[0;34m.\u001b[0m\u001b[0mjoin\u001b[0m\u001b[0;34m(\u001b[0m\u001b[0mbasedir\u001b[0m\u001b[0;34m,\u001b[0m \u001b[0;34m'*.dll'\u001b[0m\u001b[0;34m)\u001b[0m\u001b[0;34m)\u001b[0m\u001b[0;34m\u001b[0m\u001b[0m\n\u001b[0m\u001b[1;32m      5\u001b[0m ]\n\u001b[1;32m      6\u001b[0m \u001b[0;32mfor\u001b[0m \u001b[0mentry\u001b[0m \u001b[0;32min\u001b[0m \u001b[0msorted\u001b[0m\u001b[0;34m(\u001b[0m\u001b[0mfiles\u001b[0m\u001b[0;34m,\u001b[0m \u001b[0mkey\u001b[0m\u001b[0;34m=\u001b[0m\u001b[0;32mlambda\u001b[0m \u001b[0mx\u001b[0m\u001b[0;34m:\u001b[0m\u001b[0mx\u001b[0m\u001b[0;34m[\u001b[0m\u001b[0;36m1\u001b[0m\u001b[0;34m]\u001b[0m\u001b[0;34m)\u001b[0m\u001b[0;34m[\u001b[0m\u001b[0;34m-\u001b[0m\u001b[0;36m10\u001b[0m\u001b[0;34m:\u001b[0m\u001b[0;34m]\u001b[0m\u001b[0;34m:\u001b[0m\u001b[0;34m\u001b[0m\u001b[0m\n",
      "\u001b[0;31mNameError\u001b[0m: name 'os' is not defined"
     ]
    }
   ],
   "source": [
    "import glob, os\n",
    "basedir = 'c:\\\\windows\\\\system32'\n",
    "files = [\n",
    "    (file.lower(), os.path.getsize(file)) for file in glob.glob(os.path.join(basedir, '*.dll'))\n",
    "]\n",
    "for entry in sorted(files, key=lambda x:x[1])[-10:]:\n",
    "    print(entry)"
   ]
  },
  {
   "cell_type": "code",
   "execution_count": 15,
   "metadata": {},
   "outputs": [
    {
     "ename": "NameError",
     "evalue": "name 'os' is not defined",
     "output_type": "error",
     "traceback": [
      "\u001b[0;31m---------------------------------------------------------------------------\u001b[0m",
      "\u001b[0;31mNameError\u001b[0m                                 Traceback (most recent call last)",
      "\u001b[0;32m<ipython-input-15-72654d4fddc5>\u001b[0m in \u001b[0;36m<module>\u001b[0;34m()\u001b[0m\n\u001b[1;32m      2\u001b[0m \u001b[0mbasedir\u001b[0m \u001b[0;34m=\u001b[0m \u001b[0;34m'c:\\\\windows\\\\system32'\u001b[0m\u001b[0;34m\u001b[0m\u001b[0m\n\u001b[1;32m      3\u001b[0m files = [\n\u001b[0;32m----> 4\u001b[0;31m     \u001b[0;34m(\u001b[0m\u001b[0mfile\u001b[0m\u001b[0;34m.\u001b[0m\u001b[0mlower\u001b[0m\u001b[0;34m(\u001b[0m\u001b[0;34m)\u001b[0m\u001b[0;34m,\u001b[0m \u001b[0mos\u001b[0m\u001b[0;34m.\u001b[0m\u001b[0mpath\u001b[0m\u001b[0;34m.\u001b[0m\u001b[0mgetsize\u001b[0m\u001b[0;34m(\u001b[0m\u001b[0mfile\u001b[0m\u001b[0;34m)\u001b[0m\u001b[0;34m)\u001b[0m \u001b[0;32mfor\u001b[0m \u001b[0mfile\u001b[0m \u001b[0;32min\u001b[0m \u001b[0mglob\u001b[0m\u001b[0;34m.\u001b[0m\u001b[0mglob\u001b[0m\u001b[0;34m(\u001b[0m\u001b[0mos\u001b[0m\u001b[0;34m.\u001b[0m\u001b[0mpath\u001b[0m\u001b[0;34m.\u001b[0m\u001b[0mjoin\u001b[0m\u001b[0;34m(\u001b[0m\u001b[0mbasedir\u001b[0m\u001b[0;34m,\u001b[0m \u001b[0;34m'*.dll'\u001b[0m\u001b[0;34m)\u001b[0m\u001b[0;34m)\u001b[0m\u001b[0;34m\u001b[0m\u001b[0m\n\u001b[0m\u001b[1;32m      5\u001b[0m ]\n\u001b[1;32m      6\u001b[0m \u001b[0;32mfor\u001b[0m \u001b[0mentry\u001b[0m \u001b[0;32min\u001b[0m \u001b[0msorted\u001b[0m\u001b[0;34m(\u001b[0m\u001b[0mfiles\u001b[0m\u001b[0;34m,\u001b[0m \u001b[0mkey\u001b[0m\u001b[0;34m=\u001b[0m\u001b[0;32mlambda\u001b[0m \u001b[0mx\u001b[0m\u001b[0;34m:\u001b[0m\u001b[0mx\u001b[0m\u001b[0;34m[\u001b[0m\u001b[0;36m1\u001b[0m\u001b[0;34m]\u001b[0m\u001b[0;34m)\u001b[0m\u001b[0;34m[\u001b[0m\u001b[0;34m-\u001b[0m\u001b[0;36m10\u001b[0m\u001b[0;34m:\u001b[0m\u001b[0;34m]\u001b[0m\u001b[0;34m:\u001b[0m\u001b[0;34m\u001b[0m\u001b[0m\n",
      "\u001b[0;31mNameError\u001b[0m: name 'os' is not defined"
     ]
    }
   ],
   "source": [
    "import glob\n",
    "basedir = 'c:\\\\windows\\\\system32'\n",
    "files = [\n",
    "    (file.lower(), os.path.getsize(file)) for file in glob.glob(os.path.join(basedir, '*.dll'))\n",
    "]\n",
    "for entry in sorted(files, key=lambda x:x[1])[-10:]:\n",
    "    print(entry)"
   ]
  },
  {
   "cell_type": "code",
   "execution_count": 6,
   "metadata": {},
   "outputs": [
    {
     "data": {
      "text/html": [
       "<img src=\"downloads/in.gif\"/>"
      ],
      "text/plain": [
       "<IPython.core.display.Image object>"
      ]
     },
     "metadata": {},
     "output_type": "display_data"
    },
    {
     "data": {
      "text/html": [
       "<img src=\"downloads/id.gif\"/>"
      ],
      "text/plain": [
       "<IPython.core.display.Image object>"
      ]
     },
     "metadata": {},
     "output_type": "display_data"
    },
    {
     "data": {
      "text/html": [
       "<img src=\"downloads/cn.gif\"/>"
      ],
      "text/plain": [
       "<IPython.core.display.Image object>"
      ]
     },
     "metadata": {},
     "output_type": "display_data"
    },
    {
     "data": {
      "text/html": [
       "<img src=\"downloads/us.gif\"/>"
      ],
      "text/plain": [
       "<IPython.core.display.Image object>"
      ]
     },
     "metadata": {},
     "output_type": "display_data"
    },
    {
     "data": {
      "text/html": [
       "<img src=\"downloads/br.gif\"/>"
      ],
      "text/plain": [
       "<IPython.core.display.Image object>"
      ]
     },
     "metadata": {},
     "output_type": "display_data"
    },
    {
     "data": {
      "text/html": [
       "<img src=\"downloads/pk.gif\"/>"
      ],
      "text/plain": [
       "<IPython.core.display.Image object>"
      ]
     },
     "metadata": {},
     "output_type": "display_data"
    },
    {
     "data": {
      "text/html": [
       "<img src=\"downloads/ng.gif\"/>"
      ],
      "text/plain": [
       "<IPython.core.display.Image object>"
      ]
     },
     "metadata": {},
     "output_type": "display_data"
    },
    {
     "data": {
      "text/html": [
       "<img src=\"downloads/bd.gif\"/>"
      ],
      "text/plain": [
       "<IPython.core.display.Image object>"
      ]
     },
     "metadata": {},
     "output_type": "display_data"
    },
    {
     "data": {
      "text/html": [
       "<img src=\"downloads/ru.gif\"/>"
      ],
      "text/plain": [
       "<IPython.core.display.Image object>"
      ]
     },
     "metadata": {},
     "output_type": "display_data"
    },
    {
     "data": {
      "text/html": [
       "<img src=\"downloads/kr.gif\"/>"
      ],
      "text/plain": [
       "<IPython.core.display.Image object>"
      ]
     },
     "metadata": {},
     "output_type": "display_data"
    },
    {
     "data": {
      "text/html": [
       "<img src=\"downloads/jp.gif\"/>"
      ],
      "text/plain": [
       "<IPython.core.display.Image object>"
      ]
     },
     "metadata": {},
     "output_type": "display_data"
    },
    {
     "data": {
      "text/html": [
       "<img src=\"downloads/mx.gif\"/>"
      ],
      "text/plain": [
       "<IPython.core.display.Image object>"
      ]
     },
     "metadata": {},
     "output_type": "display_data"
    },
    {
     "data": {
      "text/html": [
       "<img src=\"downloads/ph.gif\"/>"
      ],
      "text/plain": [
       "<IPython.core.display.Image object>"
      ]
     },
     "metadata": {},
     "output_type": "display_data"
    },
    {
     "data": {
      "text/html": [
       "<img src=\"downloads/vn.gif\"/>"
      ],
      "text/plain": [
       "<IPython.core.display.Image object>"
      ]
     },
     "metadata": {},
     "output_type": "display_data"
    },
    {
     "data": {
      "text/html": [
       "<img src=\"downloads/eg.gif\"/>"
      ],
      "text/plain": [
       "<IPython.core.display.Image object>"
      ]
     },
     "metadata": {},
     "output_type": "display_data"
    },
    {
     "data": {
      "text/html": [
       "<img src=\"downloads/et.gif\"/>"
      ],
      "text/plain": [
       "<IPython.core.display.Image object>"
      ]
     },
     "metadata": {},
     "output_type": "display_data"
    },
    {
     "data": {
      "text/html": [
       "<img src=\"downloads/de.gif\"/>"
      ],
      "text/plain": [
       "<IPython.core.display.Image object>"
      ]
     },
     "metadata": {},
     "output_type": "display_data"
    },
    {
     "data": {
      "text/html": [
       "<img src=\"downloads/tr.gif\"/>"
      ],
      "text/plain": [
       "<IPython.core.display.Image object>"
      ]
     },
     "metadata": {},
     "output_type": "display_data"
    },
    {
     "data": {
      "text/html": [
       "<img src=\"downloads/ir.gif\"/>"
      ],
      "text/plain": [
       "<IPython.core.display.Image object>"
      ]
     },
     "metadata": {},
     "output_type": "display_data"
    },
    {
     "data": {
      "text/html": [
       "<img src=\"downloads/fr.gif\"/>"
      ],
      "text/plain": [
       "<IPython.core.display.Image object>"
      ]
     },
     "metadata": {},
     "output_type": "display_data"
    },
    {
     "data": {
      "text/html": [
       "<img src=\"downloads/cd.gif\"/>"
      ],
      "text/plain": [
       "<IPython.core.display.Image object>"
      ]
     },
     "metadata": {},
     "output_type": "display_data"
    },
    {
     "name": "stdout",
     "output_type": "stream",
     "text": [
      "elapsed in 6.63s\n"
     ]
    }
   ],
   "source": [
    "from IPython.display import display, Image\n",
    "from concurrent.futures import ThreadPoolExecutor\n",
    "from concurrent.futures import ProcessPoolExecutor\n",
    "import time, os.path, requests\n",
    "\n",
    "POP20_CC = (\n",
    "    ' CN IN US ID BR PK NG BD RU JP KR '\n",
    "    'MX PH VN ET EG DE IR TR CD FR'\n",
    ").split()\n",
    "BASE_URL = 'http://flupy.org/data/flags'\n",
    "DEST_DIR = 'downloads/'\n",
    "\n",
    "def get_flag(cc):\n",
    "    url = '{}/{cc}/{cc}.gif'.format(BASE_URL, cc = cc.lower())\n",
    "    resp = requests.get(url)\n",
    "    path = os.path.join(DEST_DIR, f'{cc.lower()}.gif')\n",
    "    with open(path, 'wb') as fp:\n",
    "        fp.write(resp.content)\n",
    "    path = os.path.join(DEST_DIR, f'{cc.lower()}.gif')\n",
    "    display(Image(url=path))\n",
    "\n",
    "pool = ThreadPoolExecutor(max_workers=4)\n",
    "# pool = ProcessPoolExecutor(max_workers=4)\n",
    "\n",
    "def proc():\n",
    "    t0 = time.time()\n",
    "    map_ = map\n",
    "    map_ = pool.map\n",
    "    list(map_(get_flag, POP20_CC))\n",
    "    elapsed = time.time() - t0\n",
    "    print('elapsed in {:.2f}s'.format(elapsed))\n",
    "\n",
    "os.makedirs(DEST_DIR, exist_ok=True)\n",
    "proc()"
   ]
  },
  {
   "cell_type": "code",
   "execution_count": 14,
   "metadata": {},
   "outputs": [
    {
     "name": "stderr",
     "output_type": "stream",
     "text": [
      "CRITICAL:root:('world',), {}\n",
      "CRITICAL:root:None\n"
     ]
    },
    {
     "name": "stdout",
     "output_type": "stream",
     "text": [
      "5\n"
     ]
    },
    {
     "data": {
      "text/plain": [
       "(None, 'world의 길이를 출력해주는 함수입니다.', 'hello')"
      ]
     },
     "execution_count": 14,
     "metadata": {},
     "output_type": "execute_result"
    }
   ],
   "source": [
    "from functools import wraps\n",
    "import logging\n",
    "\n",
    "def monitor(func):\n",
    "    @wraps(func)\n",
    "    def inner(*args, **kwargs):\n",
    "        logging.critical(f'{args}, {kwargs}')\n",
    "        ret = func(*args, **kwargs)        \n",
    "        logging.critical(ret)\n",
    "        return ret    \n",
    "    return inner\n",
    "\n",
    "@monitor\n",
    "def hello(world):\n",
    "    '''world의 길이를 출력해주는 함수입니다.'''\n",
    "    print(len(world))\n",
    "    \n",
    "hello('world'), hello.__doc__, hello.__name__"
   ]
  },
  {
   "cell_type": "code",
   "execution_count": 30,
   "metadata": {},
   "outputs": [
    {
     "name": "stdout",
     "output_type": "stream",
     "text": [
      "Sonata is a Red car worth $15000.00.\n",
      "Avante is a Black car worth $20000.00.\n",
      "Sonata is a Red car worth $15000.00.\n",
      "Avante is a Black car worth $20000.00.\n"
     ]
    }
   ],
   "source": [
    "# 클래스를 고쳐주세요. (코드작성)\n",
    "class Vehicle:\n",
    "    def __init__(self, name, color, kind, value):\n",
    "        self.name = name\n",
    "        self.color = color\n",
    "        self.kind = kind\n",
    "        self.value = value\n",
    "    \n",
    "    def description(self):\n",
    "        desc_str = \"%s is a %s %s worth $%.2f.\" % (\n",
    "            self.name, self.color, self.kind, self.value)\n",
    "        return desc_str\n",
    "\n",
    "    \n",
    "# test code\n",
    "car1 = Vehicle(\"Sonata\", \"Red\", \"car\", 15000)\n",
    "car2 = Vehicle(\"Avante\", \"Black\", \"car\", 20000)\n",
    "\n",
    "print(car1.description())\n",
    "print(car2.description())\n",
    "\n",
    "# 한화기준으로 출력될 수 있도록\n",
    "# krw_description 함수를 patch해봅시다. (클래스를 고치지 않는 별도 코드작성)\n",
    "# $15000 -> 1500만원\n",
    "\n",
    "def krw_description(self):\n",
    "    if self._locale == 'kr':\n",
    "        desc_str = \"%s 자동차(색:%s, 종류:%s)는 %d원입니다.\" % (\n",
    "            self.name, self.color, self.kind, self.value)\n",
    "        return desc_str\n",
    "    else:\n",
    "        return self._orig_description()\n",
    "\n",
    "Vehicle._locale = 'en'\n",
    "Vehicle._orig_description = Vehicle.description\n",
    "Vehicle.description = krw_description\n",
    "\n",
    "# test code\n",
    "print(car1.description())\n",
    "print(car2.description())"
   ]
  },
  {
   "cell_type": "code",
   "execution_count": 1,
   "metadata": {},
   "outputs": [
    {
     "name": "stderr",
     "output_type": "stream",
     "text": [
      "CRITICAL:root:1880\n",
      "CRITICAL:root:1881\n",
      "CRITICAL:root:1882\n",
      "CRITICAL:root:1884\n",
      "CRITICAL:root:1883\n",
      "CRITICAL:root:1885\n",
      "CRITICAL:root:1886\n",
      "CRITICAL:root:1887\n",
      "CRITICAL:root:1888\n",
      "CRITICAL:root:1889\n",
      "CRITICAL:root:1890\n",
      "CRITICAL:root:1891\n",
      "CRITICAL:root:1892\n",
      "CRITICAL:root:1894\n",
      "CRITICAL:root:1893\n",
      "CRITICAL:root:1895\n",
      "CRITICAL:root:1896\n",
      "CRITICAL:root:1897\n",
      "CRITICAL:root:1898\n",
      "CRITICAL:root:1899\n",
      "CRITICAL:root:1900\n",
      "CRITICAL:root:1902\n",
      "CRITICAL:root:1901\n",
      "CRITICAL:root:1903\n",
      "CRITICAL:root:1904\n",
      "CRITICAL:root:1905\n",
      "CRITICAL:root:1906\n",
      "CRITICAL:root:1907\n",
      "CRITICAL:root:1908\n",
      "CRITICAL:root:1909\n",
      "CRITICAL:root:1910\n",
      "CRITICAL:root:1912\n",
      "CRITICAL:root:1913\n",
      "CRITICAL:root:1911\n",
      "CRITICAL:root:1914\n",
      "CRITICAL:root:1915\n",
      "CRITICAL:root:1916\n",
      "CRITICAL:root:1917\n",
      "CRITICAL:root:1919\n",
      "CRITICAL:root:1918\n",
      "CRITICAL:root:1920\n",
      "CRITICAL:root:1923\n",
      "CRITICAL:root:1921\n",
      "CRITICAL:root:1922\n",
      "CRITICAL:root:1924\n",
      "CRITICAL:root:1927\n",
      "CRITICAL:root:1926\n",
      "CRITICAL:root:1925\n",
      "CRITICAL:root:1928\n",
      "CRITICAL:root:1930\n",
      "CRITICAL:root:1929\n",
      "CRITICAL:root:1931\n",
      "CRITICAL:root:1933\n",
      "CRITICAL:root:1932\n",
      "CRITICAL:root:1934\n",
      "CRITICAL:root:1935\n",
      "CRITICAL:root:1936\n",
      "CRITICAL:root:1938\n",
      "CRITICAL:root:1937\n",
      "CRITICAL:root:1940\n",
      "CRITICAL:root:1939\n",
      "CRITICAL:root:1941\n",
      "CRITICAL:root:1943\n",
      "CRITICAL:root:1942\n",
      "CRITICAL:root:1944\n",
      "CRITICAL:root:1945\n",
      "CRITICAL:root:1947\n",
      "CRITICAL:root:1946\n",
      "CRITICAL:root:1948\n",
      "CRITICAL:root:1949\n",
      "CRITICAL:root:1950\n",
      "CRITICAL:root:1951\n",
      "CRITICAL:root:1952\n",
      "CRITICAL:root:1953\n",
      "CRITICAL:root:1954\n",
      "CRITICAL:root:1955\n",
      "CRITICAL:root:1956\n",
      "CRITICAL:root:1957\n",
      "CRITICAL:root:1958\n",
      "CRITICAL:root:1959\n",
      "CRITICAL:root:1960\n",
      "CRITICAL:root:1961\n",
      "CRITICAL:root:1962\n",
      "CRITICAL:root:1963\n",
      "CRITICAL:root:1965\n",
      "CRITICAL:root:1964\n",
      "CRITICAL:root:1967\n",
      "CRITICAL:root:1966\n",
      "CRITICAL:root:1968\n",
      "CRITICAL:root:1969\n",
      "CRITICAL:root:1970\n",
      "CRITICAL:root:1971\n",
      "CRITICAL:root:1972\n",
      "CRITICAL:root:1973\n",
      "CRITICAL:root:1974\n",
      "CRITICAL:root:1975\n",
      "CRITICAL:root:1976\n",
      "CRITICAL:root:1977\n",
      "CRITICAL:root:1978\n",
      "CRITICAL:root:1979\n",
      "CRITICAL:root:1980\n",
      "CRITICAL:root:1981\n",
      "CRITICAL:root:1982\n",
      "CRITICAL:root:1983\n",
      "CRITICAL:root:1984\n",
      "CRITICAL:root:1985\n",
      "CRITICAL:root:1986\n",
      "CRITICAL:root:1987\n",
      "CRITICAL:root:1988\n",
      "CRITICAL:root:1989\n",
      "CRITICAL:root:1990\n",
      "CRITICAL:root:1991\n",
      "CRITICAL:root:1992\n",
      "CRITICAL:root:1993\n",
      "CRITICAL:root:1994\n",
      "CRITICAL:root:1995\n",
      "CRITICAL:root:1996\n",
      "CRITICAL:root:1997\n",
      "CRITICAL:root:1999\n",
      "CRITICAL:root:2000\n",
      "CRITICAL:root:1998\n",
      "CRITICAL:root:2001\n",
      "CRITICAL:root:2003\n",
      "CRITICAL:root:2002\n",
      "CRITICAL:root:2004\n",
      "CRITICAL:root:2005\n",
      "CRITICAL:root:2006\n",
      "CRITICAL:root:2007\n",
      "CRITICAL:root:2008\n",
      "CRITICAL:root:2009\n",
      "CRITICAL:root:2010\n"
     ]
    },
    {
     "ename": "TypeError",
     "evalue": "'NoneType' object is not subscriptable",
     "output_type": "error",
     "traceback": [
      "\u001b[0;31m---------------------------------------------------------------------------\u001b[0m",
      "\u001b[0;31mTypeError\u001b[0m                                 Traceback (most recent call last)",
      "\u001b[0;32m<ipython-input-1-45bc124f6041>\u001b[0m in \u001b[0;36m<module>\u001b[0;34m()\u001b[0m\n\u001b[1;32m     29\u001b[0m     )\n\u001b[1;32m     30\u001b[0m \u001b[0;34m\u001b[0m\u001b[0m\n\u001b[0;32m---> 31\u001b[0;31m \u001b[0msearch\u001b[0m\u001b[0;34m(\u001b[0m\u001b[0;34m'KangTaeWook'\u001b[0m\u001b[0;34m)\u001b[0m\u001b[0;34m\u001b[0m\u001b[0m\n\u001b[0m",
      "\u001b[0;32m<ipython-input-1-45bc124f6041>\u001b[0m in \u001b[0;36msearch\u001b[0;34m(search_name, gender, year_range, log)\u001b[0m\n\u001b[1;32m     25\u001b[0m             ))\n\u001b[1;32m     26\u001b[0m     return (\n\u001b[0;32m---> 27\u001b[0;31m         \u001b[0msum\u001b[0m\u001b[0;34m(\u001b[0m\u001b[0mx\u001b[0m\u001b[0;34m[\u001b[0m\u001b[0;36m0\u001b[0m\u001b[0;34m]\u001b[0m \u001b[0;32mfor\u001b[0m \u001b[0mx\u001b[0m \u001b[0;32min\u001b[0m \u001b[0mresult\u001b[0m\u001b[0;34m)\u001b[0m\u001b[0;34m,\u001b[0m\u001b[0;34m\u001b[0m\u001b[0m\n\u001b[0m\u001b[1;32m     28\u001b[0m         \u001b[0msum\u001b[0m\u001b[0;34m(\u001b[0m\u001b[0mx\u001b[0m\u001b[0;34m[\u001b[0m\u001b[0;36m1\u001b[0m\u001b[0;34m]\u001b[0m \u001b[0;32mfor\u001b[0m \u001b[0mx\u001b[0m \u001b[0;32min\u001b[0m \u001b[0mresult\u001b[0m\u001b[0;34m)\u001b[0m\u001b[0;34m,\u001b[0m\u001b[0;34m\u001b[0m\u001b[0m\n\u001b[1;32m     29\u001b[0m     )\n",
      "\u001b[0;32m<ipython-input-1-45bc124f6041>\u001b[0m in \u001b[0;36m<genexpr>\u001b[0;34m(.0)\u001b[0m\n\u001b[1;32m     25\u001b[0m             ))\n\u001b[1;32m     26\u001b[0m     return (\n\u001b[0;32m---> 27\u001b[0;31m         \u001b[0msum\u001b[0m\u001b[0;34m(\u001b[0m\u001b[0mx\u001b[0m\u001b[0;34m[\u001b[0m\u001b[0;36m0\u001b[0m\u001b[0;34m]\u001b[0m \u001b[0;32mfor\u001b[0m \u001b[0mx\u001b[0m \u001b[0;32min\u001b[0m \u001b[0mresult\u001b[0m\u001b[0;34m)\u001b[0m\u001b[0;34m,\u001b[0m\u001b[0;34m\u001b[0m\u001b[0m\n\u001b[0m\u001b[1;32m     28\u001b[0m         \u001b[0msum\u001b[0m\u001b[0;34m(\u001b[0m\u001b[0mx\u001b[0m\u001b[0;34m[\u001b[0m\u001b[0;36m1\u001b[0m\u001b[0;34m]\u001b[0m \u001b[0;32mfor\u001b[0m \u001b[0mx\u001b[0m \u001b[0;32min\u001b[0m \u001b[0mresult\u001b[0m\u001b[0;34m)\u001b[0m\u001b[0;34m,\u001b[0m\u001b[0;34m\u001b[0m\u001b[0m\n\u001b[1;32m     29\u001b[0m     )\n",
      "\u001b[0;31mTypeError\u001b[0m: 'NoneType' object is not subscriptable"
     ]
    }
   ],
   "source": [
    "from concurrent.futures import ProcessPoolExecutor as PoolExecutor\n",
    "import logging\n",
    "\n",
    "def file_search(year):    \n",
    "    logging.critical(year)\n",
    "\n",
    "def search(search_name, gender='M', year_range=('1880', '2010'), *, log=False):\n",
    "\n",
    "    def file_search(year):\n",
    "        filepath = 'data/names/yob{}.txt'.format(year)\n",
    "        logging.critical(filepath)\n",
    "        for i, line in enumerate(open(filepath)):\n",
    "            name, gender, value = line.split(',')\n",
    "            if search_name == name and gender == gender:\n",
    "                return (i, int(value))\n",
    "        return (i, 0)\n",
    "    \n",
    "    map_ = map\n",
    "    if True:\n",
    "        with PoolExecutor(max_workers=4) as executor:\n",
    "            map_ = executor.map\n",
    "            result = list(map_(\n",
    "                file_search,\n",
    "                range(int(year_range[0]), int(year_range[-1])+1)\n",
    "            ))\n",
    "    return (\n",
    "        sum(x[0] for x in result),\n",
    "        sum(x[1] for x in result),\n",
    "    )\n",
    "\n",
    "search('KangTaeWook')"
   ]
  }
 ],
 "metadata": {
  "kernelspec": {
   "display_name": "Python 3",
   "language": "python",
   "name": "python3"
  }
 },
 "nbformat": 4,
 "nbformat_minor": 2
}
