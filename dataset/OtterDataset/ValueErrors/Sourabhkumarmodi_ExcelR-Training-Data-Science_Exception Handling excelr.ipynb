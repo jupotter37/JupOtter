{
 "cells": [
  {
   "cell_type": "markdown",
   "id": "3500478b",
   "metadata": {},
   "source": [
    "### Exception Handling"
   ]
  },
  {
   "cell_type": "raw",
   "id": "c3c4fa1c",
   "metadata": {},
   "source": [
    "1. Syntax error --> cannt handle by the exception\n",
    "2. run time error --> can handle by the exception"
   ]
  },
  {
   "cell_type": "code",
   "execution_count": 3,
   "id": "393782a1",
   "metadata": {},
   "outputs": [
    {
     "ename": "ZeroDivisionError",
     "evalue": "division by zero",
     "output_type": "error",
     "traceback": [
      "\u001b[1;31m---------------------------------------------------------------------------\u001b[0m",
      "\u001b[1;31mZeroDivisionError\u001b[0m                         Traceback (most recent call last)",
      "\u001b[1;32m~\\AppData\\Local\\Temp\\ipykernel_14652\\463546037.py\u001b[0m in \u001b[0;36m<module>\u001b[1;34m\u001b[0m\n\u001b[0;32m      1\u001b[0m \u001b[0ma\u001b[0m \u001b[1;33m=\u001b[0m\u001b[1;36m10\u001b[0m\u001b[1;33m\u001b[0m\u001b[1;33m\u001b[0m\u001b[0m\n\u001b[0;32m      2\u001b[0m \u001b[0mb\u001b[0m\u001b[1;33m=\u001b[0m\u001b[1;36m0\u001b[0m\u001b[1;33m\u001b[0m\u001b[1;33m\u001b[0m\u001b[0m\n\u001b[1;32m----> 3\u001b[1;33m \u001b[0mc\u001b[0m\u001b[1;33m=\u001b[0m\u001b[0ma\u001b[0m\u001b[1;33m/\u001b[0m\u001b[0mb\u001b[0m\u001b[1;33m\u001b[0m\u001b[1;33m\u001b[0m\u001b[0m\n\u001b[0m\u001b[0;32m      4\u001b[0m \u001b[0md\u001b[0m\u001b[1;33m=\u001b[0m\u001b[0ma\u001b[0m\u001b[1;33m+\u001b[0m\u001b[0mb\u001b[0m\u001b[1;33m\u001b[0m\u001b[1;33m\u001b[0m\u001b[0m\n",
      "\u001b[1;31mZeroDivisionError\u001b[0m: division by zero"
     ]
    }
   ],
   "source": [
    "a =10\n",
    "b=0\n",
    "c=a/b\n",
    "d=a+b"
   ]
  },
  {
   "cell_type": "code",
   "execution_count": null,
   "id": "ce75fe6f",
   "metadata": {},
   "outputs": [],
   "source": [
    "try:\n",
    "    statments\n",
    "except Exception:\n",
    "    statments"
   ]
  },
  {
   "cell_type": "code",
   "execution_count": 4,
   "id": "6e6f2fe5",
   "metadata": {},
   "outputs": [
    {
     "name": "stdout",
     "output_type": "stream",
     "text": [
      "name 'e' is not defined\n"
     ]
    }
   ],
   "source": [
    "try:\n",
    "    c=a-b\n",
    "    d=a+b\n",
    "    print(e)\n",
    "except Exception as e:\n",
    "    print(e)"
   ]
  },
  {
   "cell_type": "code",
   "execution_count": 5,
   "id": "e0f9fdc2",
   "metadata": {},
   "outputs": [
    {
     "name": "stdout",
     "output_type": "stream",
     "text": [
      "division by zero\n"
     ]
    }
   ],
   "source": [
    "try:\n",
    "    c=a/b\n",
    "    print(e)\n",
    "except Exception as e:\n",
    "    print(e)"
   ]
  },
  {
   "cell_type": "code",
   "execution_count": 7,
   "id": "2097f75f",
   "metadata": {},
   "outputs": [
    {
     "name": "stdout",
     "output_type": "stream",
     "text": [
      "enter the value: sourabh\n"
     ]
    },
    {
     "ename": "ValueError",
     "evalue": "invalid literal for int() with base 10: 'sourabh'",
     "output_type": "error",
     "traceback": [
      "\u001b[1;31m---------------------------------------------------------------------------\u001b[0m",
      "\u001b[1;31mValueError\u001b[0m                                Traceback (most recent call last)",
      "\u001b[1;32m~\\AppData\\Local\\Temp\\ipykernel_14652\\4214052077.py\u001b[0m in \u001b[0;36m<module>\u001b[1;34m\u001b[0m\n\u001b[0;32m      1\u001b[0m \u001b[1;31m# value error\u001b[0m\u001b[1;33m\u001b[0m\u001b[1;33m\u001b[0m\u001b[0m\n\u001b[0;32m      2\u001b[0m \u001b[1;33m\u001b[0m\u001b[0m\n\u001b[1;32m----> 3\u001b[1;33m \u001b[0mvalue\u001b[0m \u001b[1;33m=\u001b[0m \u001b[0mint\u001b[0m\u001b[1;33m(\u001b[0m\u001b[0minput\u001b[0m\u001b[1;33m(\u001b[0m\u001b[1;34m\"enter the value: \"\u001b[0m\u001b[1;33m)\u001b[0m\u001b[1;33m)\u001b[0m\u001b[1;33m\u001b[0m\u001b[1;33m\u001b[0m\u001b[0m\n\u001b[0m",
      "\u001b[1;31mValueError\u001b[0m: invalid literal for int() with base 10: 'sourabh'"
     ]
    }
   ],
   "source": [
    "# value error\n",
    "\n",
    "value = int(input(\"enter the value: \"))\n"
   ]
  },
  {
   "cell_type": "code",
   "execution_count": 8,
   "id": "1a064ac9",
   "metadata": {},
   "outputs": [
    {
     "name": "stdout",
     "output_type": "stream",
     "text": [
      "enter the value: sourabh\n",
      "Please the number is digit\n"
     ]
    }
   ],
   "source": [
    "try:\n",
    "    value=int(input(\"enter the value: \"))\n",
    "except ValueError as V:\n",
    "    print('Please the number is digit')"
   ]
  },
  {
   "cell_type": "code",
   "execution_count": 12,
   "id": "45663a2b",
   "metadata": {},
   "outputs": [
    {
     "name": "stdout",
     "output_type": "stream",
     "text": [
      "enter your age: 26\n",
      "2626\n",
      "there is TypeError\n"
     ]
    }
   ],
   "source": [
    "# multiple exception\n",
    "\n",
    "try:\n",
    "    age = input('enter your age: ')\n",
    "    print(age*2)\n",
    "    #print(age/3) # there is TypeError \n",
    "except ValueError:\n",
    "    print('there is valueerror')\n",
    "except NameError:\n",
    "    print('there is NameError')\n",
    "except ZeroDivisionError:\n",
    "    print(\"there is Zerodivisionerror\")\n",
    "except TypeError:\n",
    "    print(\"there is TypeError\") \n",
    "else:\n",
    "    print(\"Try is block doesnt have any error\")\n",
    "\n",
    "    "
   ]
  },
  {
   "cell_type": "code",
   "execution_count": null,
   "id": "37f03cf9",
   "metadata": {},
   "outputs": [],
   "source": [
    "# multiple exception\n",
    "\n",
    "try:\n",
    "    age = input('enter your age: ')\n",
    "    print(age*2)\n",
    "    #print(age/3) # there is TypeError \n",
    "except ValueError:\n",
    "    print('there is valueerror')\n",
    "except NameError:\n",
    "    print('there is NameError')\n",
    "except ZeroDivisionError:\n",
    "    print(\"there is Zerodivisionerror\")\n",
    "except TypeError:\n",
    "    print(\"there is TypeError\") \n",
    "else:\n",
    "    print(\"Try is block doesnt have any error\")\n",
    "finally:\n",
    "    print(\"the finally block always will excute \")"
   ]
  },
  {
   "cell_type": "markdown",
   "id": "41cb7f5f",
   "metadata": {},
   "source": [
    "### raising an exceptions"
   ]
  },
  {
   "cell_type": "code",
   "execution_count": null,
   "id": "71670bd5",
   "metadata": {},
   "outputs": [],
   "source": [
    "raise errorname()"
   ]
  },
  {
   "cell_type": "code",
   "execution_count": 14,
   "id": "1e2a6ce4",
   "metadata": {},
   "outputs": [
    {
     "name": "stdout",
     "output_type": "stream",
     "text": [
      "enter the age:188\n"
     ]
    },
    {
     "ename": "ValueError",
     "evalue": "Please enter the value between 1 to 100",
     "output_type": "error",
     "traceback": [
      "\u001b[1;31m---------------------------------------------------------------------------\u001b[0m",
      "\u001b[1;31mValueError\u001b[0m                                Traceback (most recent call last)",
      "\u001b[1;32m~\\AppData\\Local\\Temp\\ipykernel_14652\\3345090315.py\u001b[0m in \u001b[0;36m<module>\u001b[1;34m\u001b[0m\n\u001b[0;32m      1\u001b[0m \u001b[0mage\u001b[0m \u001b[1;33m=\u001b[0m\u001b[0mint\u001b[0m\u001b[1;33m(\u001b[0m\u001b[0minput\u001b[0m\u001b[1;33m(\u001b[0m\u001b[1;34m\"enter the age:\"\u001b[0m\u001b[1;33m)\u001b[0m\u001b[1;33m)\u001b[0m\u001b[1;33m\u001b[0m\u001b[1;33m\u001b[0m\u001b[0m\n\u001b[0;32m      2\u001b[0m \u001b[1;32mif\u001b[0m \u001b[0mage\u001b[0m\u001b[1;33m<=\u001b[0m\u001b[1;36m0\u001b[0m \u001b[1;32mor\u001b[0m \u001b[0mage\u001b[0m\u001b[1;33m>\u001b[0m\u001b[1;36m100\u001b[0m\u001b[1;33m:\u001b[0m\u001b[1;33m\u001b[0m\u001b[1;33m\u001b[0m\u001b[0m\n\u001b[1;32m----> 3\u001b[1;33m     \u001b[1;32mraise\u001b[0m \u001b[0mValueError\u001b[0m\u001b[1;33m(\u001b[0m\u001b[1;34m\"Please enter the value between 1 to 100\"\u001b[0m\u001b[1;33m)\u001b[0m\u001b[1;33m\u001b[0m\u001b[1;33m\u001b[0m\u001b[0m\n\u001b[0m",
      "\u001b[1;31mValueError\u001b[0m: Please enter the value between 1 to 100"
     ]
    }
   ],
   "source": [
    "age =int(input(\"enter the age:\"))\n",
    "if age<=0 or age>100:\n",
    "    raise ValueError(\"Please enter the value between 1 to 100\")"
   ]
  },
  {
   "cell_type": "code",
   "execution_count": 16,
   "id": "eee5551d",
   "metadata": {},
   "outputs": [
    {
     "name": "stdout",
     "output_type": "stream",
     "text": [
      "enter the name: sourabh modi\n"
     ]
    },
    {
     "ename": "EOFError",
     "evalue": "name should be less then 10 value",
     "output_type": "error",
     "traceback": [
      "\u001b[1;31m---------------------------------------------------------------------------\u001b[0m",
      "\u001b[1;31mEOFError\u001b[0m                                  Traceback (most recent call last)",
      "\u001b[1;32m~\\AppData\\Local\\Temp\\ipykernel_14652\\2544404969.py\u001b[0m in \u001b[0;36m<module>\u001b[1;34m\u001b[0m\n\u001b[0;32m      1\u001b[0m \u001b[0mname\u001b[0m \u001b[1;33m=\u001b[0m \u001b[0minput\u001b[0m\u001b[1;33m(\u001b[0m\u001b[1;34m\"enter the name: \"\u001b[0m\u001b[1;33m)\u001b[0m\u001b[1;33m\u001b[0m\u001b[1;33m\u001b[0m\u001b[0m\n\u001b[0;32m      2\u001b[0m \u001b[1;32mif\u001b[0m \u001b[0mlen\u001b[0m\u001b[1;33m(\u001b[0m\u001b[0mname\u001b[0m\u001b[1;33m)\u001b[0m\u001b[1;33m>\u001b[0m\u001b[1;36m10\u001b[0m\u001b[1;33m:\u001b[0m\u001b[1;33m\u001b[0m\u001b[1;33m\u001b[0m\u001b[0m\n\u001b[1;32m----> 3\u001b[1;33m     \u001b[1;32mraise\u001b[0m \u001b[0mEOFError\u001b[0m\u001b[1;33m(\u001b[0m\u001b[1;34m'name should be less then 10 value'\u001b[0m\u001b[1;33m)\u001b[0m\u001b[1;33m\u001b[0m\u001b[1;33m\u001b[0m\u001b[0m\n\u001b[0m\u001b[0;32m      4\u001b[0m \u001b[1;33m\u001b[0m\u001b[0m\n",
      "\u001b[1;31mEOFError\u001b[0m: name should be less then 10 value"
     ]
    }
   ],
   "source": [
    "name = input(\"enter the name: \")\n",
    "if len(name)>10:\n",
    "    raise EOFError('name should be less then 10 value')\n",
    "    "
   ]
  },
  {
   "cell_type": "markdown",
   "id": "c6cf1888",
   "metadata": {},
   "source": [
    "### File Handling"
   ]
  },
  {
   "cell_type": "raw",
   "id": "08473862",
   "metadata": {},
   "source": [
    "reading --> text,csv\n",
    "writing --> text, csv, dictionary data\n",
    "append --> text"
   ]
  },
  {
   "cell_type": "code",
   "execution_count": 17,
   "id": "31d9d215",
   "metadata": {},
   "outputs": [],
   "source": [
    "import os #--> working with operating systems"
   ]
  },
  {
   "cell_type": "code",
   "execution_count": 18,
   "id": "a6926659",
   "metadata": {},
   "outputs": [
    {
     "data": {
      "text/plain": [
       "['In',\n",
       " 'Out',\n",
       " '_',\n",
       " '__',\n",
       " '___',\n",
       " '__builtin__',\n",
       " '__builtins__',\n",
       " '__doc__',\n",
       " '__loader__',\n",
       " '__name__',\n",
       " '__package__',\n",
       " '__spec__',\n",
       " '_dh',\n",
       " '_i',\n",
       " '_i1',\n",
       " '_i10',\n",
       " '_i11',\n",
       " '_i12',\n",
       " '_i13',\n",
       " '_i14',\n",
       " '_i15',\n",
       " '_i16',\n",
       " '_i17',\n",
       " '_i18',\n",
       " '_i2',\n",
       " '_i3',\n",
       " '_i4',\n",
       " '_i5',\n",
       " '_i6',\n",
       " '_i7',\n",
       " '_i8',\n",
       " '_i9',\n",
       " '_ih',\n",
       " '_ii',\n",
       " '_iii',\n",
       " '_oh',\n",
       " 'a',\n",
       " 'age',\n",
       " 'b',\n",
       " 'c',\n",
       " 'd',\n",
       " 'exit',\n",
       " 'get_ipython',\n",
       " 'name',\n",
       " 'os',\n",
       " 'quit']"
      ]
     },
     "execution_count": 18,
     "metadata": {},
     "output_type": "execute_result"
    }
   ],
   "source": [
    "# list of folders\n",
    "dir()"
   ]
  },
  {
   "cell_type": "code",
   "execution_count": 19,
   "id": "3921be92",
   "metadata": {},
   "outputs": [
    {
     "data": {
      "text/plain": [
       "'C:\\\\Users\\\\Saurabh'"
      ]
     },
     "execution_count": 19,
     "metadata": {},
     "output_type": "execute_result"
    }
   ],
   "source": [
    "# current working location\n",
    "os.getcwd()"
   ]
  },
  {
   "cell_type": "code",
   "execution_count": 20,
   "id": "7c29e9e3",
   "metadata": {},
   "outputs": [],
   "source": [
    "os.chdir(\"E://Excelr Assignment\")"
   ]
  },
  {
   "cell_type": "code",
   "execution_count": 21,
   "id": "2119fa33",
   "metadata": {},
   "outputs": [
    {
     "data": {
      "text/plain": [
       "'E:\\\\Excelr Assignment'"
      ]
     },
     "execution_count": 21,
     "metadata": {},
     "output_type": "execute_result"
    }
   ],
   "source": [
    "os.getcwd()"
   ]
  },
  {
   "cell_type": "code",
   "execution_count": 22,
   "id": "6e746678",
   "metadata": {},
   "outputs": [],
   "source": [
    "os.mkdir('File_handling')"
   ]
  },
  {
   "cell_type": "code",
   "execution_count": 23,
   "id": "1e7928da",
   "metadata": {},
   "outputs": [
    {
     "name": "stdout",
     "output_type": "stream",
     "text": [
      " Volume in drive E is HDD 2\n",
      " Volume Serial Number is D0B5-4025\n",
      "\n",
      " Directory of E:\\Excelr Assignment\n",
      "\n",
      "03-09-2024  16:09    <DIR>          .\n",
      "02-09-2024  14:53    <DIR>          Basic stats - 1\n",
      "27-08-2024  16:25               534 data.txt\n",
      "20-08-2024  23:41    <DIR>          EDA1\n",
      "03-09-2024  16:09    <DIR>          File_handling\n",
      "02-09-2024  15:55    <DIR>          Geomatry\n",
      "02-09-2024  16:55             6,920 Geomatry.zip\n",
      "29-08-2024  17:01            47,380 Python Interview Questions.docx\n",
      "21-08-2024  17:02            10,242 Python_Basics.ipynb\n",
      "23-08-2024  16:54            30,202 Python_Basics2.ipynb\n",
      "26-08-2024  17:02                 0 Python_Basics3.ipynb.zmdownload\n",
      "27-08-2024  16:55            83,242 Python_Basics4.ipynb\n",
      "28-08-2024  17:01            99,591 Python_Basics5.ipynb\n",
      "29-08-2024  17:00           116,013 Python_Basics6.ipynb\n",
      "30-08-2024  16:57           134,193 Python_Basics7.ipynb\n",
      "02-09-2024  16:53           146,342 Python_Basics8.ipynb\n",
      "03-09-2024  12:43    <DIR>          ReverseString\n",
      "28-08-2024  17:02             2,444 Task.txt\n",
      "30-08-2024  23:09               223 Task10.2.py\n",
      "30-08-2024  23:08               180 Task10.py\n",
      "              14 File(s)        677,506 bytes\n",
      "               6 Dir(s)  395,358,838,784 bytes free\n"
     ]
    }
   ],
   "source": [
    "ls"
   ]
  },
  {
   "cell_type": "code",
   "execution_count": 24,
   "id": "a4545d76",
   "metadata": {},
   "outputs": [],
   "source": [
    "os.chdir(\"E://Excelr Assignment//File_handling\")"
   ]
  },
  {
   "cell_type": "code",
   "execution_count": 25,
   "id": "743cb182",
   "metadata": {},
   "outputs": [
    {
     "data": {
      "text/plain": [
       "'E:\\\\Excelr Assignment\\\\File_handling'"
      ]
     },
     "execution_count": 25,
     "metadata": {},
     "output_type": "execute_result"
    }
   ],
   "source": [
    "os.getcwd()"
   ]
  },
  {
   "cell_type": "code",
   "execution_count": 27,
   "id": "855d3cc6",
   "metadata": {},
   "outputs": [
    {
     "name": "stdout",
     "output_type": "stream",
     "text": [
      " Volume in drive E is HDD 2\n",
      " Volume Serial Number is D0B5-4025\n",
      "\n",
      " Directory of E:\\Excelr Assignment\\File_handling\n",
      "\n",
      "03-09-2024  16:09    <DIR>          .\n",
      "03-09-2024  16:09    <DIR>          ..\n",
      "               0 File(s)              0 bytes\n",
      "               2 Dir(s)  395,358,838,784 bytes free\n"
     ]
    }
   ],
   "source": [
    "ls"
   ]
  },
  {
   "cell_type": "code",
   "execution_count": 28,
   "id": "c4fc14e2",
   "metadata": {},
   "outputs": [
    {
     "name": "stdout",
     "output_type": "stream",
     "text": [
      " Volume in drive E is HDD 2\n",
      " Volume Serial Number is D0B5-4025\n",
      "\n",
      " Directory of E:\\Excelr Assignment\\File_handling\n",
      "\n",
      "03-09-2024  16:14    <DIR>          .\n",
      "03-09-2024  16:09    <DIR>          ..\n",
      "03-09-2024  16:14             1,864 intro_python.txt\n",
      "               1 File(s)          1,864 bytes\n",
      "               2 Dir(s)  395,358,834,688 bytes free\n"
     ]
    }
   ],
   "source": [
    "ls"
   ]
  },
  {
   "cell_type": "raw",
   "id": "efb77ed4",
   "metadata": {},
   "source": [
    "# reading a file using open()\n",
    "1. read()--> read the data at once\n",
    "2. readline()--> read 1 line \n",
    "3. readlies()--> read the data line interms list\n",
    "\n"
   ]
  },
  {
   "cell_type": "code",
   "execution_count": 30,
   "id": "25cfc1ca",
   "metadata": {},
   "outputs": [
    {
     "name": "stdout",
     "output_type": "stream",
     "text": [
      "New to Python?\n",
      "Read BeginnersGuide/Overview for a short explanation of what Python is.\n",
      "\n",
      "Getting Python\n",
      "Next, install the Python 3 interpreter on your computer. This is the program that reads Python programs and carries out their instructions; you need it before you can do any Python programming. Mac and Linux distributions may include an outdated version of Python (Python 2), but you should install an updated one (Python 3). See BeginnersGuide/Download for instructions to download the correct version of Python.\n",
      "\n",
      "There are also Python interpreter and IDE bundles available, such as Thonny. Other options can be found at IntegratedDevelopmentEnvironments.\n",
      "\n",
      "At some stage, you'll want to edit and save your program code. Take a look at HowToEditPythonCode for some advice and recommendations.\n",
      "\n",
      "Learning Python\n",
      "Next, read a tutorial and try some simple experiments with your new Python interpreter.\n",
      "\n",
      "If you have never programmed before, see BeginnersGuide/NonProgrammers for a list of suitable tutorials.\n",
      "\n",
      "If you have previous programming experience, consult BeginnersGuide/Programmers, which lists more advanced tutorials.\n",
      "\n",
      "If English isn't your first language, you might be more comfortable with a tutorial that's been translated into your language. Consult python.org's list of Non-English resources.\n",
      "\n",
      "Most tutorials assume that you know how to run a program on your computer. If you are using Windows and need help with this, see How do I Run a Program Under Windows.\n",
      "\n",
      "Some sites offer in-browser coding for those who want to learn Python:\n",
      "\n",
      "\n",
      "CodÃ©dex\n",
      "\n",
      "Codecademy\n",
      "\n",
      "Coding Bootcamps\n",
      "\n",
      "DataCamp\n",
      "\n",
      "Dataquest for Python for data science.\n",
      "\n",
      "HackInScience free and open source platform.\n",
      "\n",
      "High School Technology Services for general Python\n",
      "\n",
      "Python Land: A completely free beginners tutorial with interactive, editable code examples\n"
     ]
    }
   ],
   "source": [
    "f=open('intro_python.txt',mode='r')\n",
    "print(f.read())\n",
    "f.close()"
   ]
  },
  {
   "cell_type": "code",
   "execution_count": 31,
   "id": "fe478dcc",
   "metadata": {},
   "outputs": [
    {
     "name": "stdout",
     "output_type": "stream",
     "text": [
      "New to Python?\n",
      "\n"
     ]
    }
   ],
   "source": [
    "f=open('intro_python.txt',mode='r')\n",
    "print(f.readline())\n",
    "f.close()"
   ]
  },
  {
   "cell_type": "code",
   "execution_count": 32,
   "id": "8ceb2f53",
   "metadata": {},
   "outputs": [
    {
     "name": "stdout",
     "output_type": "stream",
     "text": [
      "['New to Python?\\n', 'Read BeginnersGuide/Overview for a short explanation of what Python is.\\n', '\\n', 'Getting Python\\n', 'Next, install the Python 3 interpreter on your computer. This is the program that reads Python programs and carries out their instructions; you need it before you can do any Python programming. Mac and Linux distributions may include an outdated version of Python (Python 2), but you should install an updated one (Python 3). See BeginnersGuide/Download for instructions to download the correct version of Python.\\n', '\\n', 'There are also Python interpreter and IDE bundles available, such as Thonny. Other options can be found at IntegratedDevelopmentEnvironments.\\n', '\\n', \"At some stage, you'll want to edit and save your program code. Take a look at HowToEditPythonCode for some advice and recommendations.\\n\", '\\n', 'Learning Python\\n', 'Next, read a tutorial and try some simple experiments with your new Python interpreter.\\n', '\\n', 'If you have never programmed before, see BeginnersGuide/NonProgrammers for a list of suitable tutorials.\\n', '\\n', 'If you have previous programming experience, consult BeginnersGuide/Programmers, which lists more advanced tutorials.\\n', '\\n', \"If English isn't your first language, you might be more comfortable with a tutorial that's been translated into your language. Consult python.org's list of Non-English resources.\\n\", '\\n', 'Most tutorials assume that you know how to run a program on your computer. If you are using Windows and need help with this, see How do I Run a Program Under Windows.\\n', '\\n', 'Some sites offer in-browser coding for those who want to learn Python:\\n', '\\n', '\\n', 'CodÃ©dex\\n', '\\n', 'Codecademy\\n', '\\n', 'Coding Bootcamps\\n', '\\n', 'DataCamp\\n', '\\n', 'Dataquest for Python for data science.\\n', '\\n', 'HackInScience free and open source platform.\\n', '\\n', 'High School Technology Services for general Python\\n', '\\n', 'Python Land: A completely free beginners tutorial with interactive, editable code examples']\n"
     ]
    }
   ],
   "source": [
    "f=open('intro_python.txt',mode='r')\n",
    "print(f.readlines())\n",
    "f.close()"
   ]
  },
  {
   "cell_type": "code",
   "execution_count": 33,
   "id": "29bf9485",
   "metadata": {},
   "outputs": [
    {
     "name": "stdout",
     "output_type": "stream",
     "text": [
      "New to Python?\n",
      "Read BeginnersGuide/Overview for a short explanation of what Python is.\n",
      "\n",
      "Getting Python\n",
      "Next, install the Python 3 interpreter on your computer. This is the program that reads Python programs and carries out their instructions; you need it before you can do any Python programming. Mac and Linux distributions may include an outdated version of Python (Python 2), but you should install an updated one (Python 3). See BeginnersGuide/Download for instructions to download the correct version of Python.\n",
      "\n",
      "There are also Python interpreter and IDE bundles available, such as Thonny. Other options can be found at IntegratedDevelopmentEnvironments.\n",
      "\n",
      "At some stage, you'll want to edit and save your program code. Take a look at HowToEditPythonCode for some advice and recommendations.\n",
      "\n",
      "Learning Python\n",
      "Next, read a tutorial and try some simple experiments with your new Python interpreter.\n",
      "\n",
      "If you have never programmed before, see BeginnersGuide/NonProgrammers for a list of suitable tutorials.\n",
      "\n",
      "If you have previous programming experience, consult BeginnersGuide/Programmers, which lists more advanced tutorials.\n",
      "\n",
      "If English isn't your first language, you might be more comfortable with a tutorial that's been translated into your language. Consult python.org's list of Non-English resources.\n",
      "\n",
      "Most tutorials assume that you know how to run a program on your computer. If you are using Windows and need help with this, see How do I Run a Program Under Windows.\n",
      "\n",
      "Some sites offer in-browser coding for those who want to learn Python:\n",
      "\n",
      "\n",
      "CodÃ©dex\n",
      "\n",
      "Codecademy\n",
      "\n",
      "Coding Bootcamps\n",
      "\n",
      "DataCamp\n",
      "\n",
      "Dataquest for Python for data science.\n",
      "\n",
      "HackInScience free and open source platform.\n",
      "\n",
      "High School Technology Services for general Python\n",
      "\n",
      "Python Land: A completely free beginners tutorial with interactive, editable code examples\n"
     ]
    }
   ],
   "source": [
    "# with keyword\n",
    "\n",
    "with open('intro_python.txt') as f:\n",
    "    print(f.read())"
   ]
  },
  {
   "cell_type": "code",
   "execution_count": 34,
   "id": "a172757c",
   "metadata": {},
   "outputs": [
    {
     "name": "stdout",
     "output_type": "stream",
     "text": [
      "New to Python?\n",
      "\n"
     ]
    }
   ],
   "source": [
    "with open('intro_python.txt') as f:\n",
    "    print(f.readline())"
   ]
  },
  {
   "cell_type": "code",
   "execution_count": 35,
   "id": "a12678e8",
   "metadata": {},
   "outputs": [
    {
     "name": "stdout",
     "output_type": "stream",
     "text": [
      "['New to Python?\\n', 'Read BeginnersGuide/Overview for a short explanation of what Python is.\\n', '\\n', 'Getting Python\\n', 'Next, install the Python 3 interpreter on your computer. This is the program that reads Python programs and carries out their instructions; you need it before you can do any Python programming. Mac and Linux distributions may include an outdated version of Python (Python 2), but you should install an updated one (Python 3). See BeginnersGuide/Download for instructions to download the correct version of Python.\\n', '\\n', 'There are also Python interpreter and IDE bundles available, such as Thonny. Other options can be found at IntegratedDevelopmentEnvironments.\\n', '\\n', \"At some stage, you'll want to edit and save your program code. Take a look at HowToEditPythonCode for some advice and recommendations.\\n\", '\\n', 'Learning Python\\n', 'Next, read a tutorial and try some simple experiments with your new Python interpreter.\\n', '\\n', 'If you have never programmed before, see BeginnersGuide/NonProgrammers for a list of suitable tutorials.\\n', '\\n', 'If you have previous programming experience, consult BeginnersGuide/Programmers, which lists more advanced tutorials.\\n', '\\n', \"If English isn't your first language, you might be more comfortable with a tutorial that's been translated into your language. Consult python.org's list of Non-English resources.\\n\", '\\n', 'Most tutorials assume that you know how to run a program on your computer. If you are using Windows and need help with this, see How do I Run a Program Under Windows.\\n', '\\n', 'Some sites offer in-browser coding for those who want to learn Python:\\n', '\\n', '\\n', 'CodÃ©dex\\n', '\\n', 'Codecademy\\n', '\\n', 'Coding Bootcamps\\n', '\\n', 'DataCamp\\n', '\\n', 'Dataquest for Python for data science.\\n', '\\n', 'HackInScience free and open source platform.\\n', '\\n', 'High School Technology Services for general Python\\n', '\\n', 'Python Land: A completely free beginners tutorial with interactive, editable code examples']\n"
     ]
    }
   ],
   "source": [
    "with open('intro_python.txt') as f:\n",
    "    print(f.readlines())"
   ]
  },
  {
   "cell_type": "code",
   "execution_count": 36,
   "id": "baeb021f",
   "metadata": {},
   "outputs": [
    {
     "name": "stdout",
     "output_type": "stream",
     "text": [
      "New to Python?\n",
      "Read BeginnersGuide/Overview for a short explanation of what Python is.\n",
      "\n",
      "Getting Python\n",
      "Next, install the Python 3 interpreter on your computer. This is the program that reads Python programs and carries out their instructions; you need it before you can do any Python programming. Mac and Linux distributions may include an outdated version of Python (Python 2), but you should install an updated one (Python 3). See BeginnersGuide/Download for instructions to download the correct version of Python.\n",
      "\n",
      "There are also Python interpreter and IDE bundles available, such as Thonny. Other options can be found at IntegratedDevelopmentEnvironments.\n",
      "\n",
      "At some stage, you'll want to edit and save your program code. Take a look at HowToEditPythonCode for some advice and recommendations.\n",
      "\n",
      "Learning Python\n",
      "Next, read a tutorial and try some simple experiments with your new Python interpreter.\n",
      "\n",
      "If you have never programmed before, see BeginnersGuide/NonProgrammers for a list of suitable tutorials.\n",
      "\n",
      "If you have previous programming experience, consult BeginnersGuide/Programmers, which lists more advanced tutorials.\n",
      "\n",
      "If English isn't your first language, you might be more comfortable with a tutorial that's been translated into your language. Consult python.org's list of Non-English resources.\n",
      "\n",
      "Most tutorials assume that you know how to run a program on your computer. If you are using Windows and need help with this, see How do I Run a Program Under Windows.\n",
      "\n",
      "Some sites offer in-browser coding for those who want to learn Python:\n",
      "\n",
      "\n",
      "CodÃ©dex\n",
      "\n",
      "Codecademy\n",
      "\n",
      "Coding Bootcamps\n",
      "\n",
      "DataCamp\n",
      "\n",
      "Dataquest for Python for data science.\n",
      "\n",
      "HackInScience free and open source platform.\n",
      "\n",
      "High School Technology Services for general Python\n",
      "\n",
      "Python Land: A completely free beginners tutorial with interactive, editable code examples\n"
     ]
    }
   ],
   "source": [
    "# exception handling for operation\n",
    "\n",
    "try:\n",
    "    with open('intro.txt') as f:\n",
    "        file=f.read()\n",
    "except Exception:\n",
    "    with open('intro_python.txt') as f:\n",
    "        file=f.read()\n",
    "        print(file)"
   ]
  },
  {
   "cell_type": "code",
   "execution_count": 38,
   "id": "99519606",
   "metadata": {},
   "outputs": [
    {
     "name": "stdout",
     "output_type": "stream",
     "text": [
      "New to Python?\n",
      "\n",
      "Read BeginnersGuide/Overview for a short explanation of what Python is.\n",
      "\n",
      "Getting Python\n",
      "\n",
      "Next, install the Python 3 interpreter on your computer. This is the program that reads Python programs and carries out their instructions; you need it before you can do any Python programming. Mac and Linux distributions may include an outdated version of Python (Python 2), but you should install an updated one (Python 3). See BeginnersGuide/Download for instructions to download the correct version of Python.\n",
      "\n",
      "There are also Python interpreter and IDE bundles available, such as Thonny. Other options can be found at IntegratedDevelopmentEnvironments.\n",
      "\n",
      "At some stage, you'll want to edit and save your program code. Take a look at HowToEditPythonCode for some advice and recommendations.\n",
      "\n",
      "Learning Python\n",
      "\n",
      "Next, read a tutorial and try some simple experiments with your new Python interpreter.\n",
      "\n",
      "Some sites offer in-browser coding for those who want to learn Python:\n",
      "\n",
      "Dataquest for Python for data science.\n",
      "\n",
      "High School Technology Services for general Python\n",
      "\n",
      "Python Land: A completely free beginners tutorial with interactive, editable code examples\n"
     ]
    }
   ],
   "source": [
    "# manipulation of data\n",
    "with open('intro_python.txt') as f:\n",
    "    file=f.readlines()\n",
    "    for i in file:\n",
    "        if 'Python' in i:\n",
    "            print(i)"
   ]
  },
  {
   "cell_type": "code",
   "execution_count": 43,
   "id": "8b6e26cc",
   "metadata": {},
   "outputs": [
    {
     "name": "stdout",
     "output_type": "stream",
     "text": [
      "New to Java?\n",
      "\n",
      "Read BeginnersGuide/Overview for a short explanation of what Java is.\n",
      "\n",
      "\n",
      "\n",
      "Getting Java\n",
      "\n",
      "Next, install the Java 3 interpreter on your computer. This is the program that reads Java programs and carries out their instructions; you need it before you can do any Java programming. Mac and Linux distributions may include an outdated version of Java (Java 2), but you should install an updated one (Java 3). See BeginnersGuide/Download for instructions to download the correct version of Java.\n",
      "\n",
      "\n",
      "\n",
      "There are also Java interpreter and IDE bundles available, such as Thonny. Other options can be found at IntegratedDevelopmentEnvironments.\n",
      "\n",
      "\n",
      "\n",
      "At some stage, you'll want to edit and save your program code. Take a look at HowToEditJavaCode for some advice and recommendations.\n",
      "\n",
      "\n",
      "\n",
      "Learning Java\n",
      "\n",
      "Next, read a tutorial and try some simple experiments with your new Java interpreter.\n",
      "\n",
      "\n",
      "\n",
      "If you have never programmed before, see BeginnersGuide/NonProgrammers for a list of suitable tutorials.\n",
      "\n",
      "\n",
      "\n",
      "If you have previous programming experience, consult BeginnersGuide/Programmers, which lists more advanced tutorials.\n",
      "\n",
      "\n",
      "\n",
      "If English isn't your first language, you might be more comfortable with a tutorial that's been translated into your language. Consult python.org's list of Non-English resources.\n",
      "\n",
      "\n",
      "\n",
      "Most tutorials assume that you know how to run a program on your computer. If you are using Windows and need help with this, see How do I Run a Program Under Windows.\n",
      "\n",
      "\n",
      "\n",
      "Some sites offer in-browser coding for those who want to learn Java:\n",
      "\n",
      "\n",
      "\n",
      "\n",
      "\n",
      "CodÃ©dex\n",
      "\n",
      "\n",
      "\n",
      "Codecademy\n",
      "\n",
      "\n",
      "\n",
      "Coding Bootcamps\n",
      "\n",
      "\n",
      "\n",
      "DataCamp\n",
      "\n",
      "\n",
      "\n",
      "Dataquest for Java for data science.\n",
      "\n",
      "\n",
      "\n",
      "HackInScience free and open source platform.\n",
      "\n",
      "\n",
      "\n",
      "High School Technology Services for general Java\n",
      "\n",
      "\n",
      "\n",
      "Java Land: A completely free beginners tutorial with interactive, editable code examples\n"
     ]
    }
   ],
   "source": [
    "with open('intro_python.txt') as f:\n",
    "    file=f.readlines()\n",
    "    for i in file:\n",
    "        \n",
    "        i=i.replace(\"Python\",\"Java\")\n",
    "        print(i)"
   ]
  },
  {
   "cell_type": "code",
   "execution_count": 47,
   "id": "746ad252",
   "metadata": {},
   "outputs": [
    {
     "name": "stdout",
     "output_type": "stream",
     "text": [
      "Python Land: A completely free beginners tutorial with interactive, editable code examples\n"
     ]
    }
   ],
   "source": [
    "with open('intro_python.txt') as f:\n",
    "    file=f.readlines()\n",
    "    emp_line=0\n",
    "    for i in file:\n",
    "        \n",
    "        count=len(i)\n",
    "        if count<=1:\n",
    "            emp_line+=1\n",
    "    print(i)"
   ]
  },
  {
   "cell_type": "code",
   "execution_count": null,
   "id": "90dc9e77",
   "metadata": {},
   "outputs": [],
   "source": []
  }
 ],
 "metadata": {
  "kernelspec": {
   "display_name": "Python 3 (ipykernel)",
   "language": "python",
   "name": "python3"
  },
  "language_info": {
   "codemirror_mode": {
    "name": "ipython",
    "version": 3
   },
   "file_extension": ".py",
   "mimetype": "text/x-python",
   "name": "python",
   "nbconvert_exporter": "python",
   "pygments_lexer": "ipython3",
   "version": "3.9.13"
  }
 },
 "nbformat": 4,
 "nbformat_minor": 5
}
