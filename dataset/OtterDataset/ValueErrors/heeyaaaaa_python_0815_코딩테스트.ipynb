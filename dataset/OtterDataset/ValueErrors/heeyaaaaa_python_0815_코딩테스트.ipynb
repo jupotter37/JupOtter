{
 "cells": [
  {
   "cell_type": "markdown",
   "metadata": {},
   "source": [
    "# 카카오 코딩테스트 1"
   ]
  },
  {
   "cell_type": "code",
   "execution_count": 1,
   "metadata": {},
   "outputs": [],
   "source": [
    "n = 5\n",
    "arr1 = [9,20,28,18,11]\n",
    "arr2 = [30,1,21,17,28]"
   ]
  },
  {
   "cell_type": "code",
   "execution_count": 11,
   "metadata": {},
   "outputs": [
    {
     "name": "stdout",
     "output_type": "stream",
     "text": [
      "11111\n",
      "10101\n",
      "11101\n",
      "10011\n",
      "11111\n"
     ]
    }
   ],
   "source": [
    "for i in range(n):\n",
    "    result = arr1[i] | arr2[i]\n",
    "    print(\"{0:b}\".format(result))"
   ]
  },
  {
   "cell_type": "code",
   "execution_count": 21,
   "metadata": {},
   "outputs": [
    {
     "name": "stdout",
     "output_type": "stream",
     "text": [
      "#####\n",
      "# # #\n",
      "### #\n",
      "#  ##\n",
      "#####\n"
     ]
    }
   ],
   "source": [
    "for i in range(n):\n",
    "    result = arr1[i] | arr2[i]\n",
    "    result = \"{0:b}\".format(result)\n",
    "    for j in range(n):\n",
    "        string = str(result)\n",
    "        if string[j] == \"1\":\n",
    "            print(\"#\",end=\"\")\n",
    "        else :\n",
    "            print(\" \",end=\"\")\n",
    "    print(\"\")"
   ]
  },
  {
   "cell_type": "markdown",
   "metadata": {},
   "source": [
    "# 카카오 코딩테스트 2"
   ]
  },
  {
   "cell_type": "code",
   "execution_count": 125,
   "metadata": {},
   "outputs": [
    {
     "name": "stdout",
     "output_type": "stream",
     "text": [
      "Dart score : 1D2S#10S\n"
     ]
    }
   ],
   "source": [
    "scanner = input(\"Dart score : \")\n",
    "len_score = len(scanner) # 입력된 값의 길이\n",
    "step = 1 # 1: 점수 2:보너스 3:옵션\n",
    "lenPos = 0 # 입력된 값의 위치\n",
    "score_pos = 0 # 점수의 좌표\n",
    "score = [0,0,0]"
   ]
  },
  {
   "cell_type": "code",
   "execution_count": 30,
   "metadata": {},
   "outputs": [
    {
     "data": {
      "text/plain": [
       "'1S2D*3T'"
      ]
     },
     "execution_count": 30,
     "metadata": {},
     "output_type": "execute_result"
    }
   ],
   "source": [
    "scanner"
   ]
  },
  {
   "cell_type": "code",
   "execution_count": 126,
   "metadata": {},
   "outputs": [],
   "source": [
    "while lenPos<len_score :\n",
    "    target = scanner[lenPos]\n",
    "    if step == 1: #1.1 1단계 점수 처리( 숫자만 올 수 있다.)\n",
    "        try :\n",
    "            score[score_pos] = int(target)\n",
    "            step+=1\n",
    "        except : # 1.3 3단계 옵션 처리\n",
    "            if target == \"*\": # 1.3.1 스타상\n",
    "                score[score_pos-1] = score[score_pos-1]*2\n",
    "                if score_pos>1:\n",
    "                    score[score_pos-2] = score[score_pos-2]*2\n",
    "            elif target == \"#\": #1.3.2 아차상\n",
    "                score[score_pos-1] = score[score_pos-1]*(-1)\n",
    "            else:\n",
    "                print('유효한 다트 점수가 아닙니다.')\n",
    "                        \n",
    "    elif step == 2: # 1.2. 2단계 보너스 처리\n",
    "        if target == 'S':#1.2.1 single\n",
    "            score[score_pos] = pow(score[score_pos],1)\n",
    "        elif target == 'D': #1.2.2 double\n",
    "            score[score_pos] = pow(score[score_pos],2)\n",
    "        elif target == 'T':#1.2.3 triple\n",
    "            score[score_pos] = pow(score[score_pos],3)\n",
    "        elif target == '0': #10점 처리\n",
    "            if score[score_pos] == 1:\n",
    "                score[score_pos] = 10\n",
    "                score_pos-=1\n",
    "                step+=1\n",
    "        else:\n",
    "            print('유효한 다트 점수가 아닙니다.')\n",
    "            \n",
    "        score_pos+=1\n",
    "        step-=1\n",
    "        \n",
    "    lenPos+=1"
   ]
  },
  {
   "cell_type": "code",
   "execution_count": 127,
   "metadata": {},
   "outputs": [
    {
     "name": "stdout",
     "output_type": "stream",
     "text": [
      "9\n"
     ]
    }
   ],
   "source": [
    "print(score[0]+score[1]+score[2])"
   ]
  },
  {
   "cell_type": "code",
   "execution_count": 105,
   "metadata": {},
   "outputs": [
    {
     "data": {
      "text/plain": [
       "'T'"
      ]
     },
     "execution_count": 105,
     "metadata": {},
     "output_type": "execute_result"
    }
   ],
   "source": [
    "target"
   ]
  },
  {
   "cell_type": "code",
   "execution_count": 117,
   "metadata": {},
   "outputs": [
    {
     "data": {
      "text/plain": [
       "[2, 8, 27]"
      ]
     },
     "execution_count": 117,
     "metadata": {},
     "output_type": "execute_result"
    }
   ],
   "source": [
    "score"
   ]
  },
  {
   "cell_type": "code",
   "execution_count": 112,
   "metadata": {},
   "outputs": [
    {
     "ename": "ValueError",
     "evalue": "invalid literal for int() with base 10: 'S'",
     "output_type": "error",
     "traceback": [
      "\u001b[0;31m---------------------------------------------------------------------------\u001b[0m",
      "\u001b[0;31mValueError\u001b[0m                                Traceback (most recent call last)",
      "\u001b[0;32m<ipython-input-112-6dae25624a95>\u001b[0m in \u001b[0;36m<module>\u001b[0;34m\u001b[0m\n\u001b[0;32m----> 1\u001b[0;31m \u001b[0mint\u001b[0m\u001b[0;34m(\u001b[0m\u001b[0mscanner\u001b[0m\u001b[0;34m[\u001b[0m\u001b[0;36m1\u001b[0m\u001b[0;34m]\u001b[0m\u001b[0;34m)\u001b[0m\u001b[0;34m\u001b[0m\u001b[0;34m\u001b[0m\u001b[0m\n\u001b[0m",
      "\u001b[0;31mValueError\u001b[0m: invalid literal for int() with base 10: 'S'"
     ]
    }
   ],
   "source": [
    "int(scanner[1])"
   ]
  },
  {
   "cell_type": "markdown",
   "metadata": {},
   "source": [
    "## 무지의 먹방라이브"
   ]
  },
  {
   "cell_type": "code",
   "execution_count": 85,
   "metadata": {},
   "outputs": [],
   "source": [
    "def solution(food_times, k):\n",
    "    food_list = []\n",
    "    n = len(food_times)\n",
    "\n",
    "    for i in range(n):\n",
    "        food_list.append([i+1, food_times[i]])\n",
    "\n",
    "    food_list = sorted(food_list, key = lambda x: x[1])\n",
    "\n",
    "    pretime = 0\n",
    "    for i in range(len(food_list)):\n",
    "        spend = (food_list[i][1]-pretime)*n\n",
    "        if spend <= k :\n",
    "            k-=spend\n",
    "            pretime = food_list[i][1]\n",
    "        else:\n",
    "            k %= n\n",
    "            food_list = sorted(food_list[i:], key = lambda x: x[0])\n",
    "            return food_list[k][0]\n",
    "        n-=1    \n",
    "        \n",
    "    return -1"
   ]
  },
  {
   "cell_type": "code",
   "execution_count": 86,
   "metadata": {},
   "outputs": [],
   "source": [
    "food_times = [3, 1, 2]\n",
    "k = 5"
   ]
  },
  {
   "cell_type": "code",
   "execution_count": 87,
   "metadata": {},
   "outputs": [
    {
     "data": {
      "text/plain": [
       "1"
      ]
     },
     "execution_count": 87,
     "metadata": {},
     "output_type": "execute_result"
    }
   ],
   "source": [
    "solution(food_times, k)"
   ]
  },
  {
   "cell_type": "markdown",
   "metadata": {},
   "source": [
    "## 문자열 압축"
   ]
  },
  {
   "cell_type": "code",
   "execution_count": 1,
   "metadata": {},
   "outputs": [
    {
     "name": "stdout",
     "output_type": "stream",
     "text": [
      "7\n",
      "9\n",
      "8\n",
      "14\n",
      "17\n",
      "2\n"
     ]
    }
   ],
   "source": [
    "def compress(text, tok_len):\n",
    "    words = [text[i:i+tok_len] for i in range(0, len(text), tok_len)]\n",
    "    res = []\n",
    "    cur_word = words[0]\n",
    "    cur_cnt = 1\n",
    "    for a, b in zip(words, words[1:] + ['']):\n",
    "        if a == b:\n",
    "            cur_cnt += 1\n",
    "        else:\n",
    "            res.append([cur_word, cur_cnt])\n",
    "            cur_word = b\n",
    "            cur_cnt = 1\n",
    "    return sum(len(word) + (len(str(cnt)) if cnt > 1 else 0) for word, cnt in res)\n",
    "\n",
    "def solution(text):\n",
    "    return min(compress(text, tok_len) for tok_len in list(range(1, int(len(text)/2) + 1)) + [len(text)])\n",
    "\n",
    "a = [\n",
    "    \"aabbaccc\",\n",
    "    \"ababcdcdababcdcd\",\n",
    "    \"abcabcdede\",\n",
    "    \"abcabcabcabcdededededede\",\n",
    "    \"xababcdcdababcdcd\",\n",
    "\n",
    "    'aaaaaa',\n",
    "]\n",
    "\n",
    "for x in a:\n",
    "    print(solution(x))"
   ]
  },
  {
   "cell_type": "code",
   "execution_count": 4,
   "metadata": {},
   "outputs": [],
   "source": [
    "text = \"ababcdcdababcdcd\"\n",
    "tok_len = 2"
   ]
  },
  {
   "cell_type": "code",
   "execution_count": 5,
   "metadata": {},
   "outputs": [
    {
     "data": {
      "text/plain": [
       "12"
      ]
     },
     "execution_count": 5,
     "metadata": {},
     "output_type": "execute_result"
    }
   ],
   "source": [
    "words = [text[i:i+tok_len] for i in range(0, len(text), tok_len)]\n",
    "res = []\n",
    "cur_word = words[0]\n",
    "cur_cnt = 1\n",
    "for a, b in zip(words, words[1:] + ['']):\n",
    "    if a == b:\n",
    "        cur_cnt += 1\n",
    "    else:\n",
    "        res.append([cur_word, cur_cnt])\n",
    "        cur_word = b\n",
    "        cur_cnt = 1\n",
    "sum(len(word) + (len(str(cnt)) if cnt > 1 else 0) for word, cnt in res)\n",
    "\n"
   ]
  },
  {
   "cell_type": "code",
   "execution_count": 6,
   "metadata": {},
   "outputs": [
    {
     "data": {
      "text/plain": [
       "['ab', 'ab', 'cd', 'cd', 'ab', 'ab', 'cd', 'cd']"
      ]
     },
     "execution_count": 6,
     "metadata": {},
     "output_type": "execute_result"
    }
   ],
   "source": [
    "words"
   ]
  },
  {
   "cell_type": "code",
   "execution_count": 7,
   "metadata": {},
   "outputs": [
    {
     "data": {
      "text/plain": [
       "['ab', 'cd', 'cd', 'ab', 'ab', 'cd', 'cd', '']"
      ]
     },
     "execution_count": 7,
     "metadata": {},
     "output_type": "execute_result"
    }
   ],
   "source": [
    "words[1:] + ['']"
   ]
  },
  {
   "cell_type": "code",
   "execution_count": 8,
   "metadata": {},
   "outputs": [
    {
     "data": {
      "text/plain": [
       "[['ab', 2], ['cd', 2], ['ab', 2], ['cd', 2]]"
      ]
     },
     "execution_count": 8,
     "metadata": {},
     "output_type": "execute_result"
    }
   ],
   "source": [
    "res"
   ]
  },
  {
   "cell_type": "code",
   "execution_count": 10,
   "metadata": {},
   "outputs": [
    {
     "data": {
      "text/plain": [
       "[3, 3, 3, 3]"
      ]
     },
     "execution_count": 10,
     "metadata": {},
     "output_type": "execute_result"
    }
   ],
   "source": [
    "[len(word) + (len(str(cnt)) if cnt > 1 else 0) for word, cnt in res]"
   ]
  },
  {
   "cell_type": "code",
   "execution_count": 11,
   "metadata": {},
   "outputs": [
    {
     "data": {
      "text/plain": [
       "[16, 12, 16, 16, 16, 16, 16, 9, 16]"
      ]
     },
     "execution_count": 11,
     "metadata": {},
     "output_type": "execute_result"
    }
   ],
   "source": [
    "[compress(text, tok_len) for tok_len in list(range(1, int(len(text)/2) + 1)) + [len(text)]]"
   ]
  },
  {
   "cell_type": "markdown",
   "metadata": {},
   "source": [
    "# 2020 카카오 인턴"
   ]
  },
  {
   "cell_type": "markdown",
   "metadata": {},
   "source": [
    "##  1. 휴대폰 위치 변화"
   ]
  },
  {
   "cell_type": "code",
   "execution_count": 437,
   "metadata": {},
   "outputs": [],
   "source": [
    "num_matrix = [[1,2,3],[4,5,6],[7,8,9],['*',0,'#']]\n",
    "\n",
    "def where(num):\n",
    "    for r, sublist in enumerate(num_matrix):\n",
    "        for c, item in enumerate(sublist):\n",
    "            if num_matrix[r][c] == num:\n",
    "                return r,c\n",
    "\n",
    "def move_count(now,to_num):\n",
    "    r = abs(where(now)[0]-where(to_num)[0])\n",
    "    c = abs(where(now)[1]-where(to_num)[1])\n",
    "    return r+c\n",
    "\n",
    "def solution(numbers, hand):\n",
    "    left_hand = '*'\n",
    "    right_hand = '#'\n",
    "    answer = ''\n",
    "    for pos in numbers:\n",
    "        if pos in [1,4,7]:\n",
    "            answer+='L'\n",
    "            left_hand=pos\n",
    "        elif pos in [3,6,9]:\n",
    "            answer+='R'\n",
    "            right_hand=pos\n",
    "        else:\n",
    "            if move_count(left_hand, pos)<move_count(right_hand, pos):\n",
    "                answer+='L'\n",
    "                left_hand=pos\n",
    "            elif move_count(left_hand, pos) == move_count(right_hand, pos):\n",
    "                if hand == \"left\":\n",
    "                    answer+='L'\n",
    "                    left_hand=pos\n",
    "                else:\n",
    "                    answer+='R'\n",
    "                    right_hand=pos\n",
    "                \n",
    "            else:\n",
    "                answer+='R'\n",
    "                right_hand=pos\n",
    "    return answer"
   ]
  },
  {
   "cell_type": "code",
   "execution_count": 438,
   "metadata": {},
   "outputs": [],
   "source": [
    "numbers = [7, 0, 8, 2, 8, 3, 1, 5, 7, 6, 2]\n",
    "hand = \"left\""
   ]
  },
  {
   "cell_type": "code",
   "execution_count": 439,
   "metadata": {},
   "outputs": [
    {
     "data": {
      "text/plain": [
       "'LRLLRRLLLRR'"
      ]
     },
     "execution_count": 439,
     "metadata": {},
     "output_type": "execute_result"
    }
   ],
   "source": [
    "solution(numbers, hand)"
   ]
  },
  {
   "cell_type": "code",
   "execution_count": 181,
   "metadata": {},
   "outputs": [
    {
     "data": {
      "text/plain": [
       "1"
      ]
     },
     "execution_count": 181,
     "metadata": {},
     "output_type": "execute_result"
    }
   ],
   "source": [
    "\"LRLLRRLLLRR\""
   ]
  },
  {
   "cell_type": "markdown",
   "metadata": {},
   "source": [
    "## 2. 연산 우선순위"
   ]
  },
  {
   "cell_type": "code",
   "execution_count": 414,
   "metadata": {},
   "outputs": [],
   "source": [
    "from itertools import permutations\n",
    "\n",
    "\n",
    "def operator_priority(expression):\n",
    "    operator = []\n",
    "    for i in expression:\n",
    "        if i in ['+','-','*']:\n",
    "            if i not in operator:\n",
    "                operator.append(i)\n",
    "\n",
    "    priority = list(map(','.join, permutations(operator)))\n",
    "    return priority"
   ]
  },
  {
   "cell_type": "code",
   "execution_count": 658,
   "metadata": {
    "scrolled": true
   },
   "outputs": [],
   "source": [
    "def seperate(ex):\n",
    "    sol = ''\n",
    "    for i in ex:\n",
    "        if i.isnumeric():\n",
    "            sol+=i\n",
    "        else:\n",
    "            sol= sol+','+i+','\n",
    "    ex_lst = sol.split(',')\n",
    "    return ex_lst"
   ]
  },
  {
   "cell_type": "code",
   "execution_count": 694,
   "metadata": {},
   "outputs": [],
   "source": [
    "def oper_fun(first, second, operator):  \n",
    "    first = int(first); second = int(second)\n",
    "    if operator == '-': return first - second\n",
    "    elif operator == '*': return first * second\n",
    "    else: return first + second\n",
    "    \n",
    "def operate(ex_lst, operator):\n",
    "    term = ex_lst[:]\n",
    "    for i in term:\n",
    "        if i == operator:\n",
    "            index = ex_lst.index(i)\n",
    "            ex_lst[index] = oper_fun(ex_lst[index-1],ex_lst[index+1],operator)\n",
    "            del ex_lst[index-1]\n",
    "            del ex_lst[index]\n",
    "    return ex_lst"
   ]
  },
  {
   "cell_type": "code",
   "execution_count": 707,
   "metadata": {},
   "outputs": [],
   "source": [
    "def solution(expression):\n",
    "    answer = 0\n",
    "    priority_lst = operator_priority(expression)\n",
    "    sep_ex = seperate(expression)\n",
    "    ans_lst = []\n",
    "    for priority in priority_lst:\n",
    "        print(priority)\n",
    "        oper_lst = priority.split(',')\n",
    "        for oper in oper_lst:\n",
    "            print(oper)\n",
    "            sep_ex = operate(sep_ex, oper)\n",
    "            print(sep_ex)\n",
    "        ans_lst.append(abs(sep_ex[0]))\n",
    "        sep_ex = seperate(expression)\n",
    "    answer = min(ans_lst)\n",
    "    return answer"
   ]
  },
  {
   "cell_type": "code",
   "execution_count": 708,
   "metadata": {},
   "outputs": [],
   "source": [
    "ex = \"100-200*300-500+20\""
   ]
  },
  {
   "cell_type": "code",
   "execution_count": 698,
   "metadata": {},
   "outputs": [],
   "source": [
    "ex = \"50*6-3*2\""
   ]
  },
  {
   "cell_type": "code",
   "execution_count": 709,
   "metadata": {
    "scrolled": true
   },
   "outputs": [
    {
     "name": "stdout",
     "output_type": "stream",
     "text": [
      "-,*,+\n",
      "-\n",
      "[-100, '*', -200, '+', '20']\n",
      "*\n",
      "[20000, '+', '20']\n",
      "+\n",
      "[20020]\n",
      "-,+,*\n",
      "-\n",
      "[-100, '*', -200, '+', '20']\n",
      "+\n",
      "[-100, '*', -180]\n",
      "*\n",
      "[18000]\n",
      "*,-,+\n",
      "*\n",
      "['100', '-', 60000, '-', '500', '+', '20']\n",
      "-\n",
      "[-60400, '+', '20']\n",
      "+\n",
      "[-60380]\n",
      "*,+,-\n",
      "*\n",
      "['100', '-', 60000, '-', '500', '+', '20']\n",
      "+\n",
      "['100', '-', 60000, '-', 520]\n",
      "-\n",
      "[-60420]\n",
      "+,-,*\n",
      "+\n",
      "['100', '-', '200', '*', '300', '-', 520]\n",
      "-\n",
      "[-100, '*', -220]\n",
      "*\n",
      "[22000]\n",
      "+,*,-\n",
      "+\n",
      "['100', '-', '200', '*', '300', '-', 520]\n",
      "*\n",
      "['100', '-', 60000, '-', 520]\n",
      "-\n",
      "[-60420]\n"
     ]
    }
   ],
   "source": [
    "a = solution(ex)"
   ]
  },
  {
   "cell_type": "code",
   "execution_count": 710,
   "metadata": {},
   "outputs": [
    {
     "data": {
      "text/plain": [
       "18000"
      ]
     },
     "execution_count": 710,
     "metadata": {},
     "output_type": "execute_result"
    }
   ],
   "source": [
    "a"
   ]
  },
  {
   "cell_type": "markdown",
   "metadata": {},
   "source": [
    "## 3.시작과 끝"
   ]
  },
  {
   "cell_type": "code",
   "execution_count": 426,
   "metadata": {},
   "outputs": [],
   "source": [
    "gems = [\"DIA\", \"RUBY\", \"RUBY\", \"DIA\", \"DIA\", \"EMERALD\", \"SAPPHIRE\", \"DIA\"]"
   ]
  },
  {
   "cell_type": "code",
   "execution_count": 430,
   "metadata": {},
   "outputs": [],
   "source": [
    "gems = [\"AA\", \"AB\", \"AC\", \"AA\", \"AC\"]"
   ]
  },
  {
   "cell_type": "code",
   "execution_count": 432,
   "metadata": {},
   "outputs": [],
   "source": [
    "gems = [\"XYZ\", \"XYZ\", \"XYZ\"]"
   ]
  },
  {
   "cell_type": "code",
   "execution_count": 434,
   "metadata": {},
   "outputs": [],
   "source": [
    "gems = [\"ZZZ\", \"YYY\", \"NNNN\", \"YYY\", \"BBB\"]"
   ]
  },
  {
   "cell_type": "code",
   "execution_count": 435,
   "metadata": {},
   "outputs": [
    {
     "data": {
      "text/plain": [
       "[1, 5]"
      ]
     },
     "execution_count": 435,
     "metadata": {},
     "output_type": "execute_result"
    }
   ],
   "source": [
    "before = len(gems)\n",
    "before_result = []\n",
    "for start in range(len(gems)-len(set(gems))+1):\n",
    "    for end in range(len(set(gems))-1,len(gems)):\n",
    "        if set(gems[start:end+1])==set(gems):\n",
    "            n_sub = end-start+1\n",
    "            if before > n_sub:\n",
    "                result = [start+1, end+1]\n",
    "                before = n_sub\n",
    "                before_result = result\n",
    "                \n",
    "            elif before == n_sub:\n",
    "                result = before_result\n",
    "                if before_result == []:\n",
    "                    result = [start+1, end+1]\n",
    "result"
   ]
  },
  {
   "cell_type": "markdown",
   "metadata": {},
   "source": [
    "## 자물쇠와 열쇠"
   ]
  },
  {
   "cell_type": "code",
   "execution_count": 721,
   "metadata": {},
   "outputs": [],
   "source": [
    "def solution(key, lock):\n",
    "    N = len(lock)\n",
    "    v, vac = vacant(lock)\n",
    "    if not vac: return True\n",
    "    vac = vac[0]\n",
    "    find = False\n",
    "    for key in rotate(key):\n",
    "        for i in range(len(key)):\n",
    "            cnt = 0\n",
    "            rr, cc = vac[0]-key[i][0], vac[1]-key[i][1]\n",
    "            print(rr, cc)\n",
    "            for j in range(i, len(key)):\n",
    "                r, c = key[j]\n",
    "                r, c = r+rr, c+cc\n",
    "                if not (0 <= r < N and 0 <= c < N): continue\n",
    "                if lock[r][c] == 1: break\n",
    "                cnt += 1\n",
    "            if cnt == v:\n",
    "                find = True\n",
    "                break\n",
    "        if find: break\n",
    "    if find: return True\n",
    "    return False\n",
    "\n",
    "\n",
    "def vacant(lock):\n",
    "    N = len(lock)\n",
    "    vac = []\n",
    "    v = 0\n",
    "    for r in range(N):\n",
    "        for c in range(N):\n",
    "            if lock[r][c] == 0:\n",
    "                vac.append((r, c))\n",
    "                v += 1\n",
    "    return v, vac\n",
    "\n",
    "\n",
    "def rotate(key):\n",
    "    M = len(key)\n",
    "    key1 = [(r, c) for r in range(M) for c in range(M) if key[r][c] == 1]\n",
    "    key2 = [(M-r-1, c) for c, r in key1]\n",
    "    key3 = [(r, M-c-1) for c, r in key1]\n",
    "    key4 = [(M-r-1, M-c-1) for r, c in key1]\n",
    "\n",
    "    key1 = quick_sort(key1)\n",
    "    key2 = quick_sort(key2)\n",
    "    key3 = quick_sort(key3)\n",
    "    key4 = quick_sort(key4)\n",
    "    print(key1, key2, key3, key4)\n",
    "\n",
    "    return key1, key2, key3, key4\n",
    "\n",
    "\n",
    "def quick_sort(arr):\n",
    "    if not arr: return []\n",
    "    pivot = arr[len(arr)//2]\n",
    "    lesser, equal, greater = [], [pivot], []\n",
    "\n",
    "    for pos in arr:\n",
    "        if pos[0] < pivot[0]:\n",
    "            lesser.append(pos)\n",
    "        elif pos[0] > pivot[0]:\n",
    "            greater.append(pos)\n",
    "        else:\n",
    "            if pos[1] < pivot[1]:\n",
    "                lesser.append(pos)\n",
    "            elif pos[1] > pivot[1]:\n",
    "                greater.append(pos)\n",
    "\n",
    "    return quick_sort(lesser) + equal + quick_sort(greater)"
   ]
  },
  {
   "cell_type": "code",
   "execution_count": 727,
   "metadata": {},
   "outputs": [],
   "source": [
    "key = [[0, 0, 0], [1, 0, 0], [0, 1, 1]]"
   ]
  },
  {
   "cell_type": "code",
   "execution_count": 729,
   "metadata": {},
   "outputs": [],
   "source": [
    "lock = [[1, 1, 1], [1, 1, 0], [1, 0, 1]]"
   ]
  },
  {
   "cell_type": "code",
   "execution_count": 730,
   "metadata": {},
   "outputs": [
    {
     "data": {
      "text/plain": [
       "(2, [(1, 2), (2, 1)])"
      ]
     },
     "execution_count": 730,
     "metadata": {},
     "output_type": "execute_result"
    }
   ],
   "source": [
    "vacant(lock)"
   ]
  },
  {
   "cell_type": "code",
   "execution_count": 731,
   "metadata": {},
   "outputs": [
    {
     "name": "stdout",
     "output_type": "stream",
     "text": [
      "[(1, 0), (2, 1), (2, 2)] [(0, 2), (1, 2), (2, 1)] [(0, 1), (1, 0), (2, 0)] [(0, 0), (0, 1), (1, 2)]\n"
     ]
    },
    {
     "data": {
      "text/plain": [
       "([(1, 0), (2, 1), (2, 2)],\n",
       " [(0, 2), (1, 2), (2, 1)],\n",
       " [(0, 1), (1, 0), (2, 0)],\n",
       " [(0, 0), (0, 1), (1, 2)])"
      ]
     },
     "execution_count": 731,
     "metadata": {},
     "output_type": "execute_result"
    }
   ],
   "source": [
    "rotate(key)"
   ]
  },
  {
   "cell_type": "code",
   "execution_count": 736,
   "metadata": {},
   "outputs": [],
   "source": [
    "def solution(key, lock):\n",
    "    N = len(lock)\n",
    "    v, vac = vacant(lock)\n",
    "    if not vac: return True\n",
    "    vac = vac[0]\n",
    "    find = False\n",
    "    for key in rotate(key):\n",
    "        for i in range(len(key)):\n",
    "            cnt = 0\n",
    "            rr, cc = vac[0]-key[i][0], vac[1]-key[i][1]\n",
    "            print(rr, cc)\n",
    "            for j in range(i, len(key)):\n",
    "                r, c = key[j]\n",
    "                print(r,c)\n",
    "                r, c = r+rr, c+cc\n",
    "                print(r,c,'-----')\n",
    "                if not (0 <= r < N and 0 <= c < N): continue\n",
    "                if lock[r][c] == 1: break\n",
    "                cnt += 1\n",
    "            if cnt == v:\n",
    "                find = True\n",
    "                break\n",
    "        if find: break\n",
    "    if find: return True\n",
    "    return False"
   ]
  },
  {
   "cell_type": "code",
   "execution_count": 737,
   "metadata": {},
   "outputs": [
    {
     "name": "stdout",
     "output_type": "stream",
     "text": [
      "[(1, 0), (2, 1), (2, 2)] [(0, 2), (1, 2), (2, 1)] [(0, 1), (1, 0), (2, 0)] [(0, 0), (0, 1), (1, 2)]\n",
      "0 2\n",
      "1 0\n",
      "1 2 -----\n",
      "2 1\n",
      "2 3 -----\n",
      "2 2\n",
      "2 4 -----\n",
      "-1 1\n",
      "2 1\n",
      "1 2 -----\n",
      "2 2\n",
      "1 3 -----\n",
      "-1 0\n",
      "2 2\n",
      "1 2 -----\n",
      "1 0\n",
      "0 2\n",
      "1 2 -----\n",
      "1 2\n",
      "2 2 -----\n",
      "0 0\n",
      "1 2\n",
      "1 2 -----\n",
      "2 1\n",
      "2 1 -----\n"
     ]
    },
    {
     "data": {
      "text/plain": [
       "True"
      ]
     },
     "execution_count": 737,
     "metadata": {},
     "output_type": "execute_result"
    }
   ],
   "source": [
    "solution(key, lock)"
   ]
  },
  {
   "cell_type": "code",
   "execution_count": null,
   "metadata": {},
   "outputs": [],
   "source": []
  },
  {
   "cell_type": "code",
   "execution_count": 766,
   "metadata": {},
   "outputs": [],
   "source": [
    "import pandas as pd\n",
    "data_dict = {\n",
    "'Head': [3395.857, 3799.656, 3586.294, 3297.862, 3589.723, 3845.345, 3071.78, 4281.716, 3911.758, 3303.01, 3681.682, 3839.803, 3407.191, 3644.213, 3454.245, 3980.208, 3175.041, 4079.583, 3562.681, 3343.571, 3173.546, 3833.179, 3634.262, 3629.812, 3438.011, 3586.802, 3223.428, 3384.209, 3747.829, 3816.94, 3721.915, 3702.461, 4200.341, 3570.801, 3595.321, 3259.224, 3303.776, 3614.819, 3642.664, 3515.177]\n",
    ",'Age': [0, 0, 0, 1, 0, 0, 1, 1, 1, 0, 0, 1, 1, 0, 0, 1, 0, 0, 1, 0, 1, 1, 1, 1, 0, 0, 1, 0, 1, 0, 0, 1, 1, 1, 1, 1, 1, 0, 0, 0]\n",
    ",'Sex': [0, 0, 0, 1, 1, 1, 1, 1, 0, 1, 0, 0, 0, 0, 1, 1, 0, 0, 1, 0, 1, 0, 1, 1, 1, 1, 0, 0, 1, 1, 0, 0, 1, 1, 0, 0, 0, 1, 1, 0]\n",
    ",'Brain': [1285.719, 1268.747, 1340.691, 1130.687, 1273.834, 1390.031, 1080.863, 1439.722, 1433.383, 1108.224, 1410.731, 1327.043, 1302.406, 1315.217, 1283.354, 1281.671, 1324.262, 1388.247, 1386.904, 1286.05, 1110.415, 1266.181, 1232.842, 1237.006, 1212.072, 1254.097, 1150.887, 1282.197, 1322.598, 1295.226, 1407.769, 1321.068, 1340.529, 1217.902, 1259.377, 1240.106, 1229.781, 1316.603, 1344.734, 1255.443]}\n",
    "\n",
    "Q3_data = pd.DataFrame(data_dict)\n",
    "\n",
    "\n",
    "# Enter your code here. Read input from STDIN. Print output to STDOUT\n",
    "\n",
    "import numpy as np\n",
    "import statsmodels.api as sm\n",
    "import statsmodels.formula.api as smf\n",
    "\n",
    "model = smf.ols(formula = 'Head ~ Age+ Sex + Brain', data = Q3_data)\n",
    "result = model.fit()"
   ]
  },
  {
   "cell_type": "code",
   "execution_count": 767,
   "metadata": {},
   "outputs": [
    {
     "data": {
      "text/plain": [
       "Intercept    174.009856\n",
       "Age          109.456458\n",
       "Sex          148.228829\n",
       "Brain          2.565137\n",
       "dtype: float64"
      ]
     },
     "execution_count": 767,
     "metadata": {},
     "output_type": "execute_result"
    }
   ],
   "source": [
    "result.params"
   ]
  },
  {
   "cell_type": "code",
   "execution_count": 768,
   "metadata": {},
   "outputs": [
    {
     "data": {
      "text/html": [
       "<table class=\"simpletable\">\n",
       "<caption>OLS Regression Results</caption>\n",
       "<tr>\n",
       "  <th>Dep. Variable:</th>          <td>Head</td>       <th>  R-squared:         </th> <td>   0.591</td>\n",
       "</tr>\n",
       "<tr>\n",
       "  <th>Model:</th>                   <td>OLS</td>       <th>  Adj. R-squared:    </th> <td>   0.557</td>\n",
       "</tr>\n",
       "<tr>\n",
       "  <th>Method:</th>             <td>Least Squares</td>  <th>  F-statistic:       </th> <td>   17.36</td>\n",
       "</tr>\n",
       "<tr>\n",
       "  <th>Date:</th>             <td>Sun, 10 May 2020</td> <th>  Prob (F-statistic):</th> <td>3.88e-07</td>\n",
       "</tr>\n",
       "<tr>\n",
       "  <th>Time:</th>                 <td>15:39:12</td>     <th>  Log-Likelihood:    </th> <td> -263.57</td>\n",
       "</tr>\n",
       "<tr>\n",
       "  <th>No. Observations:</th>      <td>    40</td>      <th>  AIC:               </th> <td>   535.1</td>\n",
       "</tr>\n",
       "<tr>\n",
       "  <th>Df Residuals:</th>          <td>    36</td>      <th>  BIC:               </th> <td>   541.9</td>\n",
       "</tr>\n",
       "<tr>\n",
       "  <th>Df Model:</th>              <td>     3</td>      <th>                     </th>     <td> </td>   \n",
       "</tr>\n",
       "<tr>\n",
       "  <th>Covariance Type:</th>      <td>nonrobust</td>    <th>                     </th>     <td> </td>   \n",
       "</tr>\n",
       "</table>\n",
       "<table class=\"simpletable\">\n",
       "<tr>\n",
       "      <td></td>         <th>coef</th>     <th>std err</th>      <th>t</th>      <th>P>|t|</th>  <th>[0.025</th>    <th>0.975]</th>  \n",
       "</tr>\n",
       "<tr>\n",
       "  <th>Intercept</th> <td>  174.0099</td> <td>  476.023</td> <td>    0.366</td> <td> 0.717</td> <td> -791.409</td> <td> 1139.429</td>\n",
       "</tr>\n",
       "<tr>\n",
       "  <th>Age</th>       <td>  109.4565</td> <td>   60.113</td> <td>    1.821</td> <td> 0.077</td> <td>  -12.458</td> <td>  231.371</td>\n",
       "</tr>\n",
       "<tr>\n",
       "  <th>Sex</th>       <td>  148.2288</td> <td>   60.553</td> <td>    2.448</td> <td> 0.019</td> <td>   25.422</td> <td>  271.036</td>\n",
       "</tr>\n",
       "<tr>\n",
       "  <th>Brain</th>     <td>    2.5651</td> <td>    0.359</td> <td>    7.149</td> <td> 0.000</td> <td>    1.837</td> <td>    3.293</td>\n",
       "</tr>\n",
       "</table>\n",
       "<table class=\"simpletable\">\n",
       "<tr>\n",
       "  <th>Omnibus:</th>       <td> 0.689</td> <th>  Durbin-Watson:     </th> <td>   2.843</td>\n",
       "</tr>\n",
       "<tr>\n",
       "  <th>Prob(Omnibus):</th> <td> 0.709</td> <th>  Jarque-Bera (JB):  </th> <td>   0.134</td>\n",
       "</tr>\n",
       "<tr>\n",
       "  <th>Skew:</th>          <td> 0.069</td> <th>  Prob(JB):          </th> <td>   0.935</td>\n",
       "</tr>\n",
       "<tr>\n",
       "  <th>Kurtosis:</th>      <td> 3.248</td> <th>  Cond. No.          </th> <td>2.09e+04</td>\n",
       "</tr>\n",
       "</table><br/><br/>Warnings:<br/>[1] Standard Errors assume that the covariance matrix of the errors is correctly specified.<br/>[2] The condition number is large, 2.09e+04. This might indicate that there are<br/>strong multicollinearity or other numerical problems."
      ],
      "text/plain": [
       "<class 'statsmodels.iolib.summary.Summary'>\n",
       "\"\"\"\n",
       "                            OLS Regression Results                            \n",
       "==============================================================================\n",
       "Dep. Variable:                   Head   R-squared:                       0.591\n",
       "Model:                            OLS   Adj. R-squared:                  0.557\n",
       "Method:                 Least Squares   F-statistic:                     17.36\n",
       "Date:                Sun, 10 May 2020   Prob (F-statistic):           3.88e-07\n",
       "Time:                        15:39:12   Log-Likelihood:                -263.57\n",
       "No. Observations:                  40   AIC:                             535.1\n",
       "Df Residuals:                      36   BIC:                             541.9\n",
       "Df Model:                           3                                         \n",
       "Covariance Type:            nonrobust                                         \n",
       "==============================================================================\n",
       "                 coef    std err          t      P>|t|      [0.025      0.975]\n",
       "------------------------------------------------------------------------------\n",
       "Intercept    174.0099    476.023      0.366      0.717    -791.409    1139.429\n",
       "Age          109.4565     60.113      1.821      0.077     -12.458     231.371\n",
       "Sex          148.2288     60.553      2.448      0.019      25.422     271.036\n",
       "Brain          2.5651      0.359      7.149      0.000       1.837       3.293\n",
       "==============================================================================\n",
       "Omnibus:                        0.689   Durbin-Watson:                   2.843\n",
       "Prob(Omnibus):                  0.709   Jarque-Bera (JB):                0.134\n",
       "Skew:                           0.069   Prob(JB):                        0.935\n",
       "Kurtosis:                       3.248   Cond. No.                     2.09e+04\n",
       "==============================================================================\n",
       "\n",
       "Warnings:\n",
       "[1] Standard Errors assume that the covariance matrix of the errors is correctly specified.\n",
       "[2] The condition number is large, 2.09e+04. This might indicate that there are\n",
       "strong multicollinearity or other numerical problems.\n",
       "\"\"\""
      ]
     },
     "execution_count": 768,
     "metadata": {},
     "output_type": "execute_result"
    }
   ],
   "source": [
    "result.summary()"
   ]
  },
  {
   "cell_type": "code",
   "execution_count": 776,
   "metadata": {},
   "outputs": [
    {
     "data": {
      "text/html": [
       "<div>\n",
       "<style scoped>\n",
       "    .dataframe tbody tr th:only-of-type {\n",
       "        vertical-align: middle;\n",
       "    }\n",
       "\n",
       "    .dataframe tbody tr th {\n",
       "        vertical-align: top;\n",
       "    }\n",
       "\n",
       "    .dataframe thead th {\n",
       "        text-align: right;\n",
       "    }\n",
       "</style>\n",
       "<table border=\"1\" class=\"dataframe\">\n",
       "  <thead>\n",
       "    <tr style=\"text-align: right;\">\n",
       "      <th></th>\n",
       "      <th>df</th>\n",
       "      <th>sum_sq</th>\n",
       "      <th>mean_sq</th>\n",
       "      <th>F</th>\n",
       "      <th>PR(&gt;F)</th>\n",
       "    </tr>\n",
       "  </thead>\n",
       "  <tbody>\n",
       "    <tr>\n",
       "      <td>Age</td>\n",
       "      <td>1.0</td>\n",
       "      <td>9.248350e+03</td>\n",
       "      <td>9.248350e+03</td>\n",
       "      <td>0.268786</td>\n",
       "      <td>6.073193e-01</td>\n",
       "    </tr>\n",
       "    <tr>\n",
       "      <td>Sex</td>\n",
       "      <td>1.0</td>\n",
       "      <td>2.416528e+04</td>\n",
       "      <td>2.416528e+04</td>\n",
       "      <td>0.702319</td>\n",
       "      <td>4.075353e-01</td>\n",
       "    </tr>\n",
       "    <tr>\n",
       "      <td>Brain</td>\n",
       "      <td>1.0</td>\n",
       "      <td>1.758378e+06</td>\n",
       "      <td>1.758378e+06</td>\n",
       "      <td>51.104002</td>\n",
       "      <td>2.096997e-08</td>\n",
       "    </tr>\n",
       "    <tr>\n",
       "      <td>Residual</td>\n",
       "      <td>36.0</td>\n",
       "      <td>1.238682e+06</td>\n",
       "      <td>3.440783e+04</td>\n",
       "      <td>NaN</td>\n",
       "      <td>NaN</td>\n",
       "    </tr>\n",
       "  </tbody>\n",
       "</table>\n",
       "</div>"
      ],
      "text/plain": [
       "            df        sum_sq       mean_sq          F        PR(>F)\n",
       "Age        1.0  9.248350e+03  9.248350e+03   0.268786  6.073193e-01\n",
       "Sex        1.0  2.416528e+04  2.416528e+04   0.702319  4.075353e-01\n",
       "Brain      1.0  1.758378e+06  1.758378e+06  51.104002  2.096997e-08\n",
       "Residual  36.0  1.238682e+06  3.440783e+04        NaN           NaN"
      ]
     },
     "execution_count": 776,
     "metadata": {},
     "output_type": "execute_result"
    }
   ],
   "source": [
    "sm.stats.anova_lm(result)"
   ]
  },
  {
   "cell_type": "code",
   "execution_count": 782,
   "metadata": {},
   "outputs": [
    {
     "data": {
      "text/plain": [
       "17.358369296552127"
      ]
     },
     "execution_count": 782,
     "metadata": {},
     "output_type": "execute_result"
    }
   ],
   "source": [
    "result.fvalue"
   ]
  },
  {
   "cell_type": "code",
   "execution_count": null,
   "metadata": {},
   "outputs": [],
   "source": []
  }
 ],
 "metadata": {
  "kernelspec": {
   "display_name": "Python 3",
   "language": "python",
   "name": "python3"
  },
  "language_info": {
   "codemirror_mode": {
    "name": "ipython",
    "version": 3
   },
   "file_extension": ".py",
   "mimetype": "text/x-python",
   "name": "python",
   "nbconvert_exporter": "python",
   "pygments_lexer": "ipython3",
   "version": "3.7.4"
  }
 },
 "nbformat": 4,
 "nbformat_minor": 2
}
