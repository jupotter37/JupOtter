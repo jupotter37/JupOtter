{
 "cells": [
  {
   "cell_type": "markdown",
   "metadata": {},
   "source": [
    "# Introduction"
   ]
  },
  {
   "cell_type": "markdown",
   "metadata": {},
   "source": [
    "These will use Python 3 (Or whatever the software centre lets you download) to run these Jupyter notebooks. These notebooks let you run an interactive coding environment where you can evaluate cells one by one\n",
    "\n",
    "<hr>"
   ]
  },
  {
   "cell_type": "markdown",
   "metadata": {},
   "source": [
    "A cell refers to a box in Jupyter notebook, and you can evaulate the contents of a cell by **`<Shift> + <Enter>`**, whilst **`<Enter>`** addes new lines inside your active cell. \n",
    "**`A`** will add a cell above, and **`B`** will add a cell below. Markdown cells are used for text, whereas Code cells will exectute existing code\n",
    "\n",
    "<hr>"
   ]
  },
  {
   "cell_type": "markdown",
   "metadata": {},
   "source": [
    "#### Clear the output of all cells\n",
    "\n",
    "- Use \"EDIT\" -> \"Clear All OUTPUTS\" \n",
    "\n",
    "#### Clearing the memory / restarting the kernel\n",
    "\n",
    "- Use \"Runtime\" -> \"Restart Runtime\".\n",
    "\n",
    "#### Save your notebook file locally\n",
    "\n",
    "- Clear the output of all cells\n",
    "- Use \"File\" -> \"Download .ipynb\" to download a notebook file representing your session"
   ]
  },
  {
   "cell_type": "markdown",
   "metadata": {},
   "source": [
    "## Fundamentals - Objects, basic types, and variables\n",
    "\n",
    "Everything in Python is an **object** and on top of that every object in Python has a **type**. Some basic types include:\n",
    "\n",
    "- **`int`** (or integer; this is a whole number with no decimal place)\n",
    "  - `55`\n",
    "  - `-12`\n",
    "- **`float`** (float; which is a number that has a decimal place)\n",
    "  - `3.14`\n",
    "  - `-0.0156`\n",
    "- **`str`** (string; this is a sequence of characters enclosed in single, double, or triple quotes)\n",
    "  - `'string using single quotes'`\n",
    "  - `\"string using double quotes\"`\n",
    "  - `'''triple quoted string using single quotes'''`\n",
    "  - `\"\"\"triple quoted string using double quotes\"\"\"`\n",
    "- **`bool`** (boolean; this is a binary value, either true or false)\n",
    "  - `True`\n",
    "  - `False`\n",
    "- **`NoneType`** (a special type, this represents the absence of a value)\n",
    "  - `None`"
   ]
  },
  {
   "cell_type": "markdown",
   "metadata": {},
   "source": [
    "A **variable** is the name that you specify in your code which maps to an **object**, object **instance**, or a **value**. Defining variables allows us to refer to things by names that make sense to us. Names for variables can only contain letters, underscores (`_`), or numbers (no spaces, dashes, or other characters). Variable names must start with a letter or underscore."
   ]
  },
  {
   "cell_type": "markdown",
   "metadata": {},
   "source": []
  },
  {
   "cell_type": "code",
   "execution_count": 2,
   "metadata": {},
   "outputs": [
    {
     "name": "stdout",
     "output_type": "stream",
     "text": [
      "<class 'bool'>\n",
      "<class 'int'>\n",
      "<class 'float'>\n",
      "<class 'str'>\n",
      "<class 'str'>\n",
      "<class 'bool'>\n",
      "<class 'NoneType'>\n"
     ]
    }
   ],
   "source": [
    "print(type(False))\n",
    "print(type(10))\n",
    "print(type(5.0))\n",
    "print(type('char'))\n",
    "print(type(\"double char\"))\n",
    "print(type(True))\n",
    "print(type(None))"
   ]
  },
  {
   "cell_type": "markdown",
   "metadata": {},
   "source": [
    "Note that anything in the format `print(...)` will be printed after the cell has run"
   ]
  },
  {
   "cell_type": "markdown",
   "metadata": {},
   "source": [
    "## Basic Operations\n",
    "\n",
    "**Operators** are special symbols that operate on different values, which include: \n",
    "\n",
    "- arithmetic operators\n",
    "  - **`+`** (addition)\n",
    "  - **`-`** (subtraction)\n",
    "  - **`*`** (multiplication)\n",
    "  - **`/`** (division)\n",
    "  - **`//`** (integer division)\n",
    "  - **`%`** (modulus ... this means the remainder)\n",
    "  - __`**`__ (exponent)\n",
    "- assignment operators\n",
    "  - **`=`** (assign a value)\n",
    "- comparison operators (return either `True` or `False`)\n",
    "  - **`==`** (equal to)\n",
    "  - **`!=`** (not equal to)\n",
    "  - **`<`** (less than)\n",
    "  - **`<=`** (less than or equal to)\n",
    "  - **`>`** (greater than)\n",
    "  - **`>=`** (greater than or equal to)\n"
   ]
  },
  {
   "cell_type": "markdown",
   "metadata": {},
   "source": [
    "Operator precedence follows BIDMAS, so:\n",
    "\n",
    "- `()` parentheses, for grouping\n",
    "- `**` exponent\n",
    "- `*`, `/` multiplication and division\n",
    "- `+`, `-` addition and subtraction\n",
    "- `==`, `!=`, `<`, `<=`, `>`, `>=` comparisons"
   ]
  },
  {
   "cell_type": "code",
   "execution_count": 4,
   "metadata": {},
   "outputs": [
    {
     "data": {
      "text/plain": [
       "32"
      ]
     },
     "execution_count": 4,
     "metadata": {},
     "output_type": "execute_result"
    }
   ],
   "source": [
    "2**5 #Example of exponent"
   ]
  },
  {
   "cell_type": "markdown",
   "metadata": {},
   "source": [
    "We code $x^y$ as `x**y` instead of `x^y`. Try:\n",
    " 1. $2^{15}$\n",
    " 2. Square root of a million\n",
    " 3. Find the cube root of $4913$"
   ]
  },
  {
   "cell_type": "code",
   "execution_count": null,
   "metadata": {},
   "outputs": [],
   "source": []
  },
  {
   "cell_type": "code",
   "execution_count": null,
   "metadata": {},
   "outputs": [],
   "source": []
  },
  {
   "cell_type": "code",
   "execution_count": null,
   "metadata": {},
   "outputs": [],
   "source": []
  },
  {
   "cell_type": "markdown",
   "metadata": {},
   "source": []
  },
  {
   "cell_type": "markdown",
   "metadata": {},
   "source": [
    "Evaluate whether 9/3 is odd or even"
   ]
  },
  {
   "cell_type": "markdown",
   "metadata": {},
   "source": []
  },
  {
   "cell_type": "markdown",
   "metadata": {},
   "source": [
    "There is a complex type, which are in the form `1+5j` or `0.8-0.2j` where `j` is defined as the square-root of `-1`. What is their type? "
   ]
  },
  {
   "cell_type": "code",
   "execution_count": 5,
   "metadata": {},
   "outputs": [
    {
     "data": {
      "text/plain": [
       "complex"
      ]
     },
     "execution_count": 5,
     "metadata": {},
     "output_type": "execute_result"
    }
   ],
   "source": [
    "type(1j)"
   ]
  },
  {
   "cell_type": "markdown",
   "metadata": {},
   "source": [
    "## Variables \n",
    "\n",
    "**Variables** or **vars** are used to store values and objects. Use the assignment operator `=` to do so"
   ]
  },
  {
   "cell_type": "code",
   "execution_count": 7,
   "metadata": {},
   "outputs": [],
   "source": [
    "num = 1895743"
   ]
  },
  {
   "cell_type": "code",
   "execution_count": 8,
   "metadata": {},
   "outputs": [
    {
     "data": {
      "text/plain": [
       "3593841522049"
      ]
     },
     "execution_count": 8,
     "metadata": {},
     "output_type": "execute_result"
    }
   ],
   "source": [
    "num ** 2"
   ]
  },
  {
   "cell_type": "markdown",
   "metadata": {},
   "source": [
    "Various simple examples to show basic arithmetic"
   ]
  },
  {
   "cell_type": "code",
   "execution_count": 9,
   "metadata": {},
   "outputs": [],
   "source": [
    "num1 = 50\n",
    "num2 = -12\n",
    "num3 = 16.58\n",
    "num4 = -.78\n",
    "num5 = 14\n",
    "num6 = 89\n",
    "num7 = 11.11"
   ]
  },
  {
   "cell_type": "code",
   "execution_count": 10,
   "metadata": {},
   "outputs": [
    {
     "data": {
      "text/plain": [
       "38"
      ]
     },
     "execution_count": 10,
     "metadata": {},
     "output_type": "execute_result"
    }
   ],
   "source": [
    "# Addition\n",
    "num1 + num2"
   ]
  },
  {
   "cell_type": "code",
   "execution_count": 11,
   "metadata": {},
   "outputs": [
    {
     "data": {
      "text/plain": [
       "-28.58"
      ]
     },
     "execution_count": 11,
     "metadata": {},
     "output_type": "execute_result"
    }
   ],
   "source": [
    "# Subtraction\n",
    "num2 - num3"
   ]
  },
  {
   "cell_type": "code",
   "execution_count": 12,
   "metadata": {},
   "outputs": [
    {
     "data": {
      "text/plain": [
       "-12.9324"
      ]
     },
     "execution_count": 12,
     "metadata": {},
     "output_type": "execute_result"
    }
   ],
   "source": [
    "# Multiplication\n",
    "num3 * num4"
   ]
  },
  {
   "cell_type": "code",
   "execution_count": 13,
   "metadata": {},
   "outputs": [
    {
     "data": {
      "text/plain": [
       "-0.055714285714285716"
      ]
     },
     "execution_count": 13,
     "metadata": {},
     "output_type": "execute_result"
    }
   ],
   "source": [
    "# Division\n",
    "num4 / num5"
   ]
  },
  {
   "cell_type": "code",
   "execution_count": 14,
   "metadata": {},
   "outputs": [
    {
     "data": {
      "text/plain": [
       "1012500334496440019736846338763496828575459544161517257186895064610033021488387585533013795387142569984"
      ]
     },
     "execution_count": 14,
     "metadata": {},
     "output_type": "execute_result"
    }
   ],
   "source": [
    "# Exponent (powers)\n",
    "num5 ** num6"
   ]
  },
  {
   "cell_type": "code",
   "execution_count": 15,
   "metadata": {},
   "outputs": [
    {
     "data": {
      "text/plain": [
       "15.11"
      ]
     },
     "execution_count": 15,
     "metadata": {},
     "output_type": "execute_result"
    }
   ],
   "source": [
    "# Increment existing variable\n",
    "num7 += 4 # the same as num7 = num7 + 4\n",
    "num7"
   ]
  },
  {
   "cell_type": "code",
   "execution_count": 16,
   "metadata": {},
   "outputs": [
    {
     "data": {
      "text/plain": [
       "87"
      ]
     },
     "execution_count": 16,
     "metadata": {},
     "output_type": "execute_result"
    }
   ],
   "source": [
    "# Decrement existing variable\n",
    "num6 -= 2 # the same as num6 = num6 - 2\n",
    "num6"
   ]
  },
  {
   "cell_type": "code",
   "execution_count": 17,
   "metadata": {},
   "outputs": [
    {
     "data": {
      "text/plain": [
       "82.89999999999999"
      ]
     },
     "execution_count": 17,
     "metadata": {},
     "output_type": "execute_result"
    }
   ],
   "source": [
    "# Multiply & re-assign\n",
    "num3 *= 5 # the same as num3 = num3*5\n",
    "num3"
   ]
  },
  {
   "cell_type": "markdown",
   "metadata": {},
   "source": [
    "### Setting one **var** equal to another"
   ]
  },
  {
   "cell_type": "code",
   "execution_count": 19,
   "metadata": {},
   "outputs": [
    {
     "name": "stdout",
     "output_type": "stream",
     "text": [
      "9 12\n",
      "12 12\n"
     ]
    }
   ],
   "source": [
    "x = 9\n",
    "y = 12\n",
    "print(x, y)\n",
    "x = y\n",
    "print(x, y)"
   ]
  },
  {
   "cell_type": "code",
   "execution_count": 20,
   "metadata": {},
   "outputs": [
    {
     "name": "stdout",
     "output_type": "stream",
     "text": [
      "12 3\n"
     ]
    }
   ],
   "source": [
    "y = 3\n",
    "print(x, y)"
   ]
  },
  {
   "cell_type": "markdown",
   "metadata": {},
   "source": [
    "Var names should be descriptive but not too long. Any name made with letters, numbers, and underscores will work if it's not a reserved Python keyword. Additionally, add comments throughout for readability but using hash `#`"
   ]
  },
  {
   "cell_type": "markdown",
   "metadata": {},
   "source": [
    "## Booleans\n",
    "\n",
    "Boolean operators are just `==` `>=` `>` `<` `<=` `!=`. These mean \"is equal to\", \"is greater than or equal to\", \"greater than\", \"less than\", \"less than or equal to\", \"not equal to\""
   ]
  },
  {
   "cell_type": "code",
   "execution_count": 22,
   "metadata": {},
   "outputs": [
    {
     "data": {
      "text/plain": [
       "True"
      ]
     },
     "execution_count": 22,
     "metadata": {},
     "output_type": "execute_result"
    }
   ],
   "source": [
    "3 > 2\n"
   ]
  },
  {
   "cell_type": "code",
   "execution_count": 23,
   "metadata": {},
   "outputs": [
    {
     "data": {
      "text/plain": [
       "True"
      ]
     },
     "execution_count": 23,
     "metadata": {},
     "output_type": "execute_result"
    }
   ],
   "source": [
    "num3 != num4"
   ]
  },
  {
   "cell_type": "code",
   "execution_count": 24,
   "metadata": {},
   "outputs": [
    {
     "data": {
      "text/plain": [
       "False"
      ]
     },
     "execution_count": 24,
     "metadata": {},
     "output_type": "execute_result"
    }
   ],
   "source": [
    "(num1 + num2) == num5"
   ]
  },
  {
   "cell_type": "code",
   "execution_count": 25,
   "metadata": {},
   "outputs": [
    {
     "data": {
      "text/plain": [
       "False"
      ]
     },
     "execution_count": 25,
     "metadata": {},
     "output_type": "execute_result"
    }
   ],
   "source": [
    "2 > 12 < 4 == 3 + 1 # Unclear example"
   ]
  },
  {
   "cell_type": "markdown",
   "metadata": {},
   "source": [
    "## Strings\n",
    "\n",
    "Made by enclosing something within quotes, i.e. `''`, `\"\"`, `\"\"\"\"\"\"`. Triples quotes are used for strings that span several lines"
   ]
  },
  {
   "cell_type": "code",
   "execution_count": 26,
   "metadata": {},
   "outputs": [],
   "source": [
    "str1 = 'string 1'\n",
    "str2 = \"string 2\"\n",
    "str3 = \"\"\"string 3\"\"\""
   ]
  },
  {
   "cell_type": "markdown",
   "metadata": {},
   "source": [
    "### String Operations"
   ]
  },
  {
   "cell_type": "code",
   "execution_count": 27,
   "metadata": {},
   "outputs": [
    {
     "data": {
      "text/plain": [
       "'one5'"
      ]
     },
     "execution_count": 27,
     "metadata": {},
     "output_type": "execute_result"
    }
   ],
   "source": [
    "x = 9\n",
    "\"one \" + str(x) # Note you first have to convert x to a string type"
   ]
  },
  {
   "cell_type": "code",
   "execution_count": 28,
   "metadata": {},
   "outputs": [
    {
     "ename": "TypeError",
     "evalue": "can't multiply sequence by non-int of type 'str'",
     "output_type": "error",
     "traceback": [
      "\u001b[1;31m---------------------------------------------------------------------------\u001b[0m",
      "\u001b[1;31mTypeError\u001b[0m                                 Traceback (most recent call last)",
      "\u001b[1;32m<ipython-input-28-a4b498bcd295>\u001b[0m in \u001b[0;36m<module>\u001b[1;34m\u001b[0m\n\u001b[1;32m----> 1\u001b[1;33m \u001b[1;34m\"str1\"\u001b[0m \u001b[1;33m*\u001b[0m \u001b[1;34m\"str2\"\u001b[0m\u001b[1;33m\u001b[0m\u001b[1;33m\u001b[0m\u001b[0m\n\u001b[0m",
      "\u001b[1;31mTypeError\u001b[0m: can't multiply sequence by non-int of type 'str'"
     ]
    }
   ],
   "source": [
    "\"str1\" * \"str2\" "
   ]
  },
  {
   "cell_type": "markdown",
   "metadata": {},
   "source": [
    "The above does not work but the below does"
   ]
  },
  {
   "cell_type": "code",
   "execution_count": 29,
   "metadata": {},
   "outputs": [
    {
     "data": {
      "text/plain": [
       "'str1str1str1str1str1'"
      ]
     },
     "execution_count": 29,
     "metadata": {},
     "output_type": "execute_result"
    }
   ],
   "source": [
    "\"str1\"*5"
   ]
  },
  {
   "cell_type": "markdown",
   "metadata": {},
   "source": [
    "## Type conversion\n",
    "\n",
    "In some instances the type may be converted such as:"
   ]
  },
  {
   "cell_type": "code",
   "execution_count": 36,
   "metadata": {},
   "outputs": [
    {
     "data": {
      "text/plain": [
       "12.0"
      ]
     },
     "execution_count": 36,
     "metadata": {},
     "output_type": "execute_result"
    }
   ],
   "source": [
    "float(12)"
   ]
  },
  {
   "cell_type": "code",
   "execution_count": 30,
   "metadata": {},
   "outputs": [
    {
     "data": {
      "text/plain": [
       "7"
      ]
     },
     "execution_count": 30,
     "metadata": {},
     "output_type": "execute_result"
    }
   ],
   "source": [
    "int(7.9)"
   ]
  },
  {
   "cell_type": "code",
   "execution_count": 34,
   "metadata": {},
   "outputs": [
    {
     "data": {
      "text/plain": [
       "2"
      ]
     },
     "execution_count": 34,
     "metadata": {},
     "output_type": "execute_result"
    }
   ],
   "source": [
    "int(\"2\") # Works"
   ]
  },
  {
   "cell_type": "code",
   "execution_count": 33,
   "metadata": {},
   "outputs": [
    {
     "ename": "ValueError",
     "evalue": "invalid literal for int() with base 10: 'five'",
     "output_type": "error",
     "traceback": [
      "\u001b[1;31m---------------------------------------------------------------------------\u001b[0m",
      "\u001b[1;31mValueError\u001b[0m                                Traceback (most recent call last)",
      "\u001b[1;32m<ipython-input-33-66722305a9ac>\u001b[0m in \u001b[0;36m<module>\u001b[1;34m\u001b[0m\n\u001b[1;32m----> 1\u001b[1;33m \u001b[0mint\u001b[0m\u001b[1;33m(\u001b[0m\u001b[1;34m\"five\"\u001b[0m\u001b[1;33m)\u001b[0m \u001b[1;31m# Doesn't work\u001b[0m\u001b[1;33m\u001b[0m\u001b[1;33m\u001b[0m\u001b[0m\n\u001b[0m",
      "\u001b[1;31mValueError\u001b[0m: invalid literal for int() with base 10: 'five'"
     ]
    }
   ],
   "source": [
    "int(\"five\") # Doesn't work"
   ]
  },
  {
   "cell_type": "code",
   "execution_count": 35,
   "metadata": {},
   "outputs": [
    {
     "ename": "ValueError",
     "evalue": "invalid literal for int() with base 10: '5.6'",
     "output_type": "error",
     "traceback": [
      "\u001b[1;31m---------------------------------------------------------------------------\u001b[0m",
      "\u001b[1;31mValueError\u001b[0m                                Traceback (most recent call last)",
      "\u001b[1;32m<ipython-input-35-90ad7304485d>\u001b[0m in \u001b[0;36m<module>\u001b[1;34m\u001b[0m\n\u001b[1;32m----> 1\u001b[1;33m \u001b[0mint\u001b[0m\u001b[1;33m(\u001b[0m\u001b[1;34m\"5.6\"\u001b[0m\u001b[1;33m)\u001b[0m \u001b[1;31m# Also does not work\u001b[0m\u001b[1;33m\u001b[0m\u001b[1;33m\u001b[0m\u001b[0m\n\u001b[0m",
      "\u001b[1;31mValueError\u001b[0m: invalid literal for int() with base 10: '5.6'"
     ]
    }
   ],
   "source": [
    "int(\"5.6\") # Also does not work"
   ]
  },
  {
   "cell_type": "markdown",
   "metadata": {},
   "source": [
    "Try the following: \n",
    "\n",
    "Assign 3 numbers to 3 varibles, x1, x2, x3"
   ]
  },
  {
   "cell_type": "code",
   "execution_count": null,
   "metadata": {},
   "outputs": [],
   "source": []
  },
  {
   "cell_type": "markdown",
   "metadata": {},
   "source": [
    "In the cell below display \n",
    "\n",
    "$$x1 + x2 + x3$$ "
   ]
  },
  {
   "cell_type": "code",
   "execution_count": null,
   "metadata": {},
   "outputs": [],
   "source": []
  },
  {
   "cell_type": "markdown",
   "metadata": {},
   "source": [
    "Followed by $$\\frac{x1 + x2}{x2 - x3}$$"
   ]
  },
  {
   "cell_type": "code",
   "execution_count": null,
   "metadata": {},
   "outputs": [],
   "source": []
  },
  {
   "cell_type": "markdown",
   "metadata": {},
   "source": [
    "And $$x1 + \\frac{x2}{x2} - x3$$"
   ]
  },
  {
   "cell_type": "code",
   "execution_count": null,
   "metadata": {},
   "outputs": [],
   "source": []
  },
  {
   "cell_type": "markdown",
   "metadata": {},
   "source": [
    "$$x_{1}^{x3}$$"
   ]
  },
  {
   "cell_type": "code",
   "execution_count": null,
   "metadata": {},
   "outputs": [],
   "source": []
  },
  {
   "cell_type": "markdown",
   "metadata": {},
   "source": [
    "We often deal with expressions involving unknowns\n",
    "$$ 2 + x + x $$\n",
    "All varibles must be known in base Python to work"
   ]
  },
  {
   "cell_type": "code",
   "execution_count": 38,
   "metadata": {},
   "outputs": [
    {
     "ename": "NameError",
     "evalue": "name 'w' is not defined",
     "output_type": "error",
     "traceback": [
      "\u001b[1;31m---------------------------------------------------------------------------\u001b[0m",
      "\u001b[1;31mNameError\u001b[0m                                 Traceback (most recent call last)",
      "\u001b[1;32m<ipython-input-38-269efc06bbc1>\u001b[0m in \u001b[0;36m<module>\u001b[1;34m\u001b[0m\n\u001b[1;32m----> 1\u001b[1;33m \u001b[1;36m2\u001b[0m \u001b[1;33m+\u001b[0m \u001b[0mw\u001b[0m \u001b[1;33m+\u001b[0m \u001b[0mw\u001b[0m\u001b[1;33m\u001b[0m\u001b[1;33m\u001b[0m\u001b[0m\n\u001b[0m",
      "\u001b[1;31mNameError\u001b[0m: name 'w' is not defined"
     ]
    }
   ],
   "source": [
    "2 + w + w"
   ]
  },
  {
   "cell_type": "markdown",
   "metadata": {},
   "source": [
    "## Logic, Conditionals, and Functions"
   ]
  },
  {
   "cell_type": "markdown",
   "metadata": {},
   "source": [
    "## Keyboard Input"
   ]
  },
  {
   "cell_type": "code",
   "execution_count": 1,
   "metadata": {},
   "outputs": [],
   "source": [
    "input_1 = input(\"Input something: \")"
   ]
  },
  {
   "cell_type": "code",
   "execution_count": 3,
   "metadata": {},
   "outputs": [
    {
     "data": {
      "text/plain": [
       "str"
      ]
     },
     "execution_count": 3,
     "metadata": {},
     "output_type": "execute_result"
    }
   ],
   "source": [
    "input_1\n",
    "type(input_1)"
   ]
  },
  {
   "cell_type": "code",
   "execution_count": 8,
   "metadata": {},
   "outputs": [],
   "source": [
    "input_int = int(input(\"Input integer: \"))\n",
    "input_float = float(input(\"Input float: \"))\n"
   ]
  },
  {
   "cell_type": "code",
   "execution_count": 13,
   "metadata": {},
   "outputs": [
    {
     "name": "stdout",
     "output_type": "stream",
     "text": [
      "<class 'int'>\n",
      "<class 'float'>\n",
      "Input float value is 5.5\n"
     ]
    }
   ],
   "source": [
    "print(type(input_int))\n",
    "print(type(input_float))\n",
    "\n",
    "print(f'Input float value is {input_float}') #F string output"
   ]
  },
  {
   "cell_type": "markdown",
   "metadata": {},
   "source": [
    "# de Morgan's Laws\n",
    "\n",
    "Come from logic, states:\n",
    "\n",
    "$$ \\mathrm{not\\ (P\\ or\\ Q)} \\quad \\mathrm{is\\ equivalent\\ to\\ not\\ P\\ and\\ not\\ Q} $$\n",
    "\n",
    "$$ \\mathrm{not\\ (P\\ and\\ Q)} \\quad \\mathrm{is\\ equivalent\\ to\\ not\\ P\\ or\\ not\\ Q} $$\n",
    "\n",
    "Demonstrated in the cell below when P = True and Q = True for the first law\n",
    "\n",
    "Show that when `P=True` and `Q=True` these first of these relationships hold. Try with `P=True` and `Q=False`, `P=False` and `Q=True`, and `P=False` and `Q=False` by changing the values in the cell below and running it again"
   ]
  },
  {
   "cell_type": "code",
   "execution_count": 2,
   "metadata": {},
   "outputs": [
    {
     "name": "stdout",
     "output_type": "stream",
     "text": [
      "False False True\n"
     ]
    }
   ],
   "source": [
    "P = True\n",
    "Q = True\n",
    "LHS = not (P or Q)\n",
    "RHS = (not P) and (not Q)\n",
    "print(LHS, RHS, LHS == RHS)\n"
   ]
  },
  {
   "cell_type": "markdown",
   "metadata": {},
   "source": [
    "Repeat for the second law\n",
    "\n",
    "$$ \\mathrm{not\\ } (P \\mathrm{\\ and\\ } Q) \\quad\\ \\mathrm{\\ is\\ equivalent\\ to\\ }\\ \\quad (\\mathrm{\\ not\\ } P) \\mathrm{\\ or\\ }  (\\mathrm{\\ not\\ } Q)$$\n",
    "\n",
    "Copy the code from the cell above, but change the LHS and RHS to reflect the left hand side and right hand side of what is written above. (e.g. the `or`s change to `and` and the `and`s change to `or`). Check the left-hand side does equal the right-hand side for `P=True` and `Q=True`,  `P=True` and `Q=False`, `P=False` and `Q=True`, and `P=False` and `Q=False`."
   ]
  },
  {
   "cell_type": "code",
   "execution_count": null,
   "metadata": {},
   "outputs": [],
   "source": []
  },
  {
   "cell_type": "markdown",
   "metadata": {},
   "source": [
    "## Conditionals\n",
    "\n",
    "A test that evaluates the logical value of the expression.\n",
    "Execute code if test is true, and other code if the test is fale"
   ]
  },
  {
   "cell_type": "markdown",
   "metadata": {},
   "source": [
    "For multiple expressions\n",
    "## If, elif, and else\n",
    "\n",
    "`if`, `elif`, and `else` used for a conditional with multiple branches"
   ]
  },
  {
   "cell_type": "code",
   "execution_count": 15,
   "metadata": {},
   "outputs": [
    {
     "name": "stdout",
     "output_type": "stream",
     "text": [
      "Number is odd\n"
     ]
    }
   ],
   "source": [
    "input_test = input('Input an integer: ')\n",
    "input_test = int(input_test)\n",
    "\n",
    "if input_test % 2 == 0:\n",
    "    print(\"Number is even\")\n",
    "else:\n",
    "    print(\"Number is odd\")"
   ]
  },
  {
   "cell_type": "markdown",
   "metadata": {},
   "source": [
    "Try and use the above to test if an integer is divisible by 3, 5, and 3 and 5 together. Print something different for each case"
   ]
  },
  {
   "cell_type": "code",
   "execution_count": null,
   "metadata": {},
   "outputs": [],
   "source": []
  },
  {
   "cell_type": "code",
   "execution_count": 16,
   "metadata": {},
   "outputs": [
    {
     "name": "stdout",
     "output_type": "stream",
     "text": [
      "Input is less than or equal to 10\n"
     ]
    }
   ],
   "source": [
    "input_test2 = input('Input an integer: ')\n",
    "input_test2 = int(input_test2)\n",
    "\n",
    "if input_test2 < 5:\n",
    "    print(\"Input is less than 5\")\n",
    "elif input_test2 <= 10:\n",
    "    print(\"Input is less than or equal to 10, but larger than 5\")\n",
    "else:\n",
    "    print(\"Input is greater than 10\")\n",
    "\n"
   ]
  },
  {
   "cell_type": "code",
   "execution_count": 17,
   "metadata": {},
   "outputs": [
    {
     "name": "stdout",
     "output_type": "stream",
     "text": [
      "Input is less or equal to -10\n"
     ]
    }
   ],
   "source": [
    "#Nested conditionals\n",
    "\n",
    "x = int(input('Input an integer (either positive or negative): '))\n",
    "if x>0:\n",
    "    if x<=10:\n",
    "        print('Input is less than or equal to 10')\n",
    "    else:\n",
    "        print('Input is greater than 10')\n",
    "else:\n",
    "    if x>-10:\n",
    "        print('Input is negative and greater than -10')\n",
    "    else:\n",
    "        print('Input is less or equal to -10')\n"
   ]
  },
  {
   "cell_type": "markdown",
   "metadata": {},
   "source": [
    "<hr>\n",
    "\n",
    "# Functions\n",
    "\n",
    "Small blocks of code that do something useful\n",
    "\n",
    "- function name,\n",
    "- input parameters, can be $0$ or more\n",
    "- docstring (documentation)\n",
    "- body of a function\n",
    "\n",
    "Built-in function examples: `abs` gives the absolute value, `print` prints input to terminal"
   ]
  },
  {
   "cell_type": "code",
   "execution_count": 18,
   "metadata": {},
   "outputs": [],
   "source": [
    "def squared(x):\n",
    "    \"\"\"Squares input value x\"\"\"\n",
    "\n",
    "    y = x * x\n",
    "    return y"
   ]
  },
  {
   "cell_type": "code",
   "execution_count": 19,
   "metadata": {},
   "outputs": [
    {
     "data": {
      "text/plain": [
       "6561"
      ]
     },
     "execution_count": 19,
     "metadata": {},
     "output_type": "execute_result"
    }
   ],
   "source": [
    "squared(81)"
   ]
  },
  {
   "cell_type": "code",
   "execution_count": 21,
   "metadata": {},
   "outputs": [
    {
     "name": "stdout",
     "output_type": "stream",
     "text": [
      "\u001b[1;31mSignature:\u001b[0m \u001b[0msquared\u001b[0m\u001b[1;33m(\u001b[0m\u001b[0mx\u001b[0m\u001b[1;33m)\u001b[0m\u001b[1;33m\u001b[0m\u001b[1;33m\u001b[0m\u001b[0m\n",
      "\u001b[1;31mDocstring:\u001b[0m Squares input value x\n",
      "\u001b[1;31mFile:\u001b[0m      c:\\users\\chris\\onedrive\\documents\\myteaching\\<ipython-input-18-37ca5107d5f6>\n",
      "\u001b[1;31mType:\u001b[0m      function\n"
     ]
    }
   ],
   "source": [
    "squared?\n",
    "#This lists the help details for the function"
   ]
  },
  {
   "cell_type": "code",
   "execution_count": 22,
   "metadata": {},
   "outputs": [
    {
     "name": "stdout",
     "output_type": "stream",
     "text": [
      "\u001b[1;31mDocstring:\u001b[0m\n",
      "print(value, ..., sep=' ', end='\\n', file=sys.stdout, flush=False)\n",
      "\n",
      "Prints the values to a stream, or to sys.stdout by default.\n",
      "Optional keyword arguments:\n",
      "file:  a file-like object (stream); defaults to the current sys.stdout.\n",
      "sep:   string inserted between values, default a space.\n",
      "end:   string appended after the last value, default a newline.\n",
      "flush: whether to forcibly flush the stream.\n",
      "\u001b[1;31mType:\u001b[0m      builtin_function_or_method\n"
     ]
    }
   ],
   "source": [
    "print?\n"
   ]
  },
  {
   "cell_type": "markdown",
   "metadata": {},
   "source": [
    "No `return` listed in a function? congrats, it doesn't do anything *(most of the time)"
   ]
  },
  {
   "cell_type": "markdown",
   "metadata": {},
   "source": [
    "__return__ <br>\n",
    "- **return** has meaning only inside function.\n",
    "- Only one **return** can be executed inside the function.\t\n",
    "- Code inside the function placed after the **return** statement not executed \n",
    "- **return** has a value associated with it, given to a function caller\n",
    "\n",
    "You can use as many prints inside of a function as you want, however"
   ]
  },
  {
   "cell_type": "markdown",
   "metadata": {},
   "source": [
    "Define a function that returns the absolute value of any input value using conditionals, where\n",
    "\n",
    "- If `x` is greater than or equal to 0, return `x`\n",
    "- Otherwise, return `-x`\n",
    "\n",
    "i.e.\n",
    "$$f(x) = |x| = \\begin{cases}x & \\mathrm{if}\\ x \\geq 0 \\\\ -x & \\mathrm{if}\\ x<0 \\end{cases}.$$"
   ]
  },
  {
   "cell_type": "code",
   "execution_count": null,
   "metadata": {},
   "outputs": [],
   "source": []
  },
  {
   "cell_type": "markdown",
   "metadata": {},
   "source": [
    "Define a function that takes two numbers and returns the distance between them, i.e. the absolute value of the difference of the two"
   ]
  },
  {
   "cell_type": "markdown",
   "metadata": {},
   "source": [
    "## Package import"
   ]
  },
  {
   "cell_type": "code",
   "execution_count": 23,
   "metadata": {},
   "outputs": [],
   "source": [
    "import math"
   ]
  },
  {
   "cell_type": "code",
   "execution_count": 25,
   "metadata": {},
   "outputs": [
    {
     "data": {
      "text/plain": [
       "0.7071067811865476"
      ]
     },
     "execution_count": 25,
     "metadata": {},
     "output_type": "execute_result"
    }
   ],
   "source": [
    "math.sin(math.pi / 4) #Calculates Sin(x), where x is in radians\n",
    "\n"
   ]
  },
  {
   "cell_type": "code",
   "execution_count": 27,
   "metadata": {},
   "outputs": [
    {
     "data": {
      "text/plain": [
       "0.984807753012208"
      ]
     },
     "execution_count": 27,
     "metadata": {},
     "output_type": "execute_result"
    }
   ],
   "source": [
    "num_degrees = 80\n",
    "math.sin(num_degrees * (2 * math.pi / 360.)) #Converts to degrees"
   ]
  },
  {
   "cell_type": "code",
   "execution_count": 33,
   "metadata": {},
   "outputs": [
    {
     "name": "stdout",
     "output_type": "stream",
     "text": [
      "\u001b[1;31mSignature:\u001b[0m \u001b[0mmath\u001b[0m\u001b[1;33m.\u001b[0m\u001b[0msin\u001b[0m\u001b[1;33m(\u001b[0m\u001b[0mx\u001b[0m\u001b[1;33m,\u001b[0m \u001b[1;33m/\u001b[0m\u001b[1;33m)\u001b[0m\u001b[1;33m\u001b[0m\u001b[1;33m\u001b[0m\u001b[0m\n",
      "\u001b[1;31mDocstring:\u001b[0m Return the sine of x (measured in radians).\n",
      "\u001b[1;31mType:\u001b[0m      builtin_function_or_method\n"
     ]
    }
   ],
   "source": [
    "\n",
    "math.sin?"
   ]
  },
  {
   "cell_type": "markdown",
   "metadata": {},
   "source": [
    "Test the identity of  $\\cos^2 \\theta + \\sin^2 \\theta = 1$ for multiple values of $\\theta$"
   ]
  },
  {
   "cell_type": "code",
   "execution_count": null,
   "metadata": {},
   "outputs": [],
   "source": []
  },
  {
   "cell_type": "markdown",
   "metadata": {},
   "source": [
    "Define three functions for \n",
    "$$ x(R, \\theta, \\phi) = R \\cos \\phi \\sin \\theta $$ \n",
    "$$ y(R, \\theta, \\phi) = R \\sin \\phi \\sin \\theta $$ \n",
    "$$ z(R, \\theta, \\phi) = R \\cos \\theta $$ \n",
    "\n",
    "and then test for some input values. Take the three you have defined write it all as one function , returning all $x$, $y$, and $z$"
   ]
  },
  {
   "cell_type": "code",
   "execution_count": null,
   "metadata": {},
   "outputs": [],
   "source": []
  },
  {
   "cell_type": "code",
   "execution_count": null,
   "metadata": {},
   "outputs": [],
   "source": []
  },
  {
   "cell_type": "code",
   "execution_count": null,
   "metadata": {},
   "outputs": [],
   "source": []
  },
  {
   "cell_type": "code",
   "execution_count": null,
   "metadata": {},
   "outputs": [],
   "source": []
  },
  {
   "cell_type": "markdown",
   "metadata": {},
   "source": [
    "Next, define a function that takes a single float as input, and then decides if it is a value of interest or not following the criteria:\n",
    "* A float that is closer to the integer above it, than the integer below it\n",
    "* If you take the float, convert it to an integer using `int()` and then square it, is a multiple of 3\n",
    "* Multiply the float by 9, and the resulting number has a 9 in it *before* the decimal point\n",
    "\n",
    "Test for a few cases\n"
   ]
  },
  {
   "cell_type": "code",
   "execution_count": null,
   "metadata": {},
   "outputs": [],
   "source": []
  },
  {
   "cell_type": "code",
   "execution_count": null,
   "metadata": {},
   "outputs": [],
   "source": []
  },
  {
   "cell_type": "markdown",
   "metadata": {},
   "source": [
    "To do something many times, or for many different values, use a `for` loop. The lines of code to be repeated are indicated by `indenting` them. Code is indented by using 4 spaces (or Tab within Jupyter notebooks). You can type `Backspace` to remove an indentation\n",
    "\n",
    "The loop ends when there's a line with non-indented code, or when the code ends. Here is an example *for loop* which prints 10 numbers, then 'Done' when it's finished."
   ]
  },
  {
   "cell_type": "code",
   "execution_count": 34,
   "metadata": {},
   "outputs": [
    {
     "name": "stdout",
     "output_type": "stream",
     "text": [
      "Inside the for loop\n",
      "0\n",
      "Inside the for loop\n",
      "1\n",
      "Inside the for loop\n",
      "2\n",
      "Inside the for loop\n",
      "3\n",
      "Inside the for loop\n",
      "4\n",
      "Inside the for loop\n",
      "5\n",
      "Inside the for loop\n",
      "6\n",
      "Inside the for loop\n",
      "7\n",
      "Inside the for loop\n",
      "8\n",
      "Inside the for loop\n",
      "9\n",
      "Done\n"
     ]
    }
   ],
   "source": [
    "for x in range(10):\n",
    "    print('Inside the for loop')\n",
    "    # You can have multiple indented lines\n",
    "    print(x)\n",
    "print('Done')"
   ]
  },
  {
   "cell_type": "markdown",
   "metadata": {},
   "source": [
    "* The `for` line ends with a colon\n",
    "* Introduce the `range` builtin command, to loop over integers. If given only one value it will count the first ten numbers. If given 2 numbers (e.g. `range(4,19)` it will count from the first number to the second. If given 3 numbers (e.g. `range(4,19,3)` it will count from the first number to the second stepping forward by the third number each time\n",
    "* Python, when told to count ten numbers, by default will count from 0 to 9. 0 being the first number is an important concept in most computing languages (but not MATLAB)\n",
    "* The last line of code is not indented, so it happens once, outside the loop"
   ]
  },
  {
   "cell_type": "code",
   "execution_count": 41,
   "metadata": {},
   "outputs": [
    {
     "name": "stdout",
     "output_type": "stream",
     "text": [
      "j  = 10\n"
     ]
    }
   ],
   "source": [
    "j = 5\n",
    "for k in range(2, 9):\n",
    "    j = j + k * (-1)**k\n",
    "    \n",
    "print(f\"j  = {j}\")\n"
   ]
  },
  {
   "cell_type": "markdown",
   "metadata": {},
   "source": [
    "Loop over all numbers from 1 to 100, square each of them, and add them together\n",
    "\n",
    "$$ \\sum_{i=1}^{n} i^2 = 1^2 + 2^2 + 3^2 + \\ldots + n^2,$$"
   ]
  },
  {
   "cell_type": "code",
   "execution_count": null,
   "metadata": {},
   "outputs": [],
   "source": []
  },
  {
   "cell_type": "markdown",
   "metadata": {},
   "source": [
    "### Factorial function\n",
    "a factorial of a natural number *n* where n is a positive integer, such as\n",
    "$$ n! = 1 \\cdot 2 \\cdot 3 \\cdots (n-1)\\cdot n,$$\n",
    "and $0! = 1$.\n",
    "\n",
    "This is also written as $$n ! = \\prod_{k = 1}^n k$$ where $\\Pi$ (capital pi) represents product, rather than a summation\n",
    "\n",
    "Write a function that does this"
   ]
  },
  {
   "cell_type": "code",
   "execution_count": null,
   "metadata": {},
   "outputs": [],
   "source": []
  },
  {
   "cell_type": "markdown",
   "metadata": {},
   "source": [
    "### Estimate pi using the equation:\n",
    "$$ \\pi \\approx \\sqrt{12}\\sum_{k=0}^{21} \\frac{(-3)^{-k}}{2k+1} = \\sqrt{12}\\sum_{k=0}^{21} \\frac{(-\\frac{1}{3})^k}{2k+1} =  \\sum_{k=0}^{21} \\sqrt{12} \\frac{(-\\frac{1}{3})^k}{2k+1}$$\n",
    "This should be accurate up to 11 decimal places\n",
    "(this is long)\n"
   ]
  },
  {
   "cell_type": "code",
   "execution_count": null,
   "metadata": {},
   "outputs": [],
   "source": []
  },
  {
   "cell_type": "markdown",
   "metadata": {},
   "source": [
    "Calculate\n",
    "$$ \\prod_{k=1}^{10} \\frac{1}{k^2}$$"
   ]
  },
  {
   "cell_type": "code",
   "execution_count": null,
   "metadata": {},
   "outputs": [],
   "source": []
  },
  {
   "cell_type": "markdown",
   "metadata": {},
   "source": [
    "## While loop\n",
    "As soon as the `while` condition is not met the loop exits. You could also write this like:"
   ]
  },
  {
   "cell_type": "code",
   "execution_count": 37,
   "metadata": {},
   "outputs": [
    {
     "name": "stdout",
     "output_type": "stream",
     "text": [
      "The current temperature of your drink is 95, number of ice cubes added to the drink is 1\n",
      "The current temperature of your drink is 90, number of ice cubes added to the drink is 2\n",
      "The current temperature of your drink is 85, number of ice cubes added to the drink is 3\n",
      "The current temperature of your drink is 80, number of ice cubes added to the drink is 4\n",
      "The current temperature of your drink is 75, number of ice cubes added to the drink is 5\n",
      "The current temperature of your drink is 70, number of ice cubes added to the drink is 6\n",
      "The current temperature of your drink is 65, number of ice cubes added to the drink is 7\n",
      "The current temperature of your drink is 60, number of ice cubes added to the drink is 8\n",
      "The current temperature of your drink is 55, number of ice cubes added to the drink is 9\n",
      "The current temperature of your drink is 50, number of ice cubes added to the drink is 10\n",
      "The current temperature of your drink is 45, number of ice cubes added to the drink is 11\n",
      "The current temperature of your drink is 40, number of ice cubes added to the drink is 12\n",
      "The current temperature of your drink is 35, number of ice cubes added to the drink is 13\n"
     ]
    },
    {
     "data": {
      "text/plain": [
       "35"
      ]
     },
     "execution_count": 37,
     "metadata": {},
     "output_type": "execute_result"
    }
   ],
   "source": [
    "def cooling_hot_water(drinking_temp):\n",
    "    boiling_temp = 100 # boiling water temp. 100 degrees\n",
    "    current_temp = boiling_temp # current temp of the drink\n",
    "    ice_cube_temp  = -5 # adding one ice cube drops the temp by 5 degrees\n",
    "    number_of_ice_cubes = 0 # number of ice-cubes that has been added so far\n",
    "    while True: \n",
    "        if current_temp <= drinking_temp:\n",
    "            break\n",
    "        current_temp += ice_cube_temp\n",
    "        number_of_ice_cubes += 1\n",
    "        print(f\"The current temperature of your drink is {current_temp}, number of ice cubes added to the drink is {number_of_ice_cubes}\")\n",
    "    return current_temp\n",
    "\n",
    "drinking_temp = 35\n",
    "cooling_hot_water(drinking_temp)"
   ]
  },
  {
   "cell_type": "markdown",
   "metadata": {},
   "source": [
    "`while True` means loop until you manually tell me to stop. `True` will always be true. The `break` statement is used here to break from the loop. `while` loops can continue to run forever if you don't use them right"
   ]
  },
  {
   "cell_type": "markdown",
   "metadata": {},
   "source": [
    "## Functions within functions\n",
    "\n",
    "Computing:\n",
    "\n",
    "$$\\sum_{k = 1}^{100} \\frac{1}{k^2} $$"
   ]
  },
  {
   "cell_type": "code",
   "execution_count": 39,
   "metadata": {},
   "outputs": [
    {
     "name": "stdout",
     "output_type": "stream",
     "text": [
      "1.6444341918273961\n"
     ]
    }
   ],
   "source": [
    "def my_sum(start, stop):\n",
    "    \"\"\"Sum the function 1/k^2\"\"\"\n",
    "    total = 0\n",
    "    for k in range(start, stop + 1):\n",
    "        total = total + (1 / k**2)\n",
    "    return total\n",
    "\n",
    "print(my_sum(1,2000))"
   ]
  },
  {
   "cell_type": "code",
   "execution_count": 42,
   "metadata": {},
   "outputs": [
    {
     "name": "stdout",
     "output_type": "stream",
     "text": [
      "1.6444341918273961\n"
     ]
    }
   ],
   "source": [
    "#Same as above using nested function\n",
    "\n",
    "def my_sum(start, stop, my_func):\n",
    "    \"\"\"Sum the function 1/k^2\"\"\"\n",
    "    total = 0\n",
    "    for k in range(start, stop + 1):\n",
    "        total = total + my_func(k)\n",
    "    return total\n",
    "\n",
    "def my_func(k):\n",
    "    \"\"\"1/k**2\"\"\"\n",
    "    return 1/k**2\n",
    "\n",
    "print(my_sum(1, 2000, my_func))\n",
    "\n"
   ]
  },
  {
   "cell_type": "markdown",
   "metadata": {},
   "source": [
    "<hr>\n",
    "\n",
    "## Lists\n",
    "\n",
    "__List__ is an ordered sequence of information which can be accessed by index\n",
    "- A list is denoted by square brackets, <br> $\\verb:[item1, item2,:$ $\\ldots$ $\\verb:, itemN]:$\n",
    "- elements separated by a comma\n",
    "- An empty list is represented by $\\verb|[]|$\n",
    "- Elements of the list are usually of the same type, e.g. integers, or floats, but a list can be mixed\n",
    "- List elements, unlike string elements,  can be changed. This means that list is __mutable__\n",
    "\n",
    "`lst = [0, 1, 2, 3]`\n",
    "\n",
    "To get its length:\n",
    "\n",
    "`len(lst)`\n",
    "\n",
    "List method can convert some things, such as integers or strings - `list(\"c\")`"
   ]
  },
  {
   "cell_type": "code",
   "execution_count": 43,
   "metadata": {},
   "outputs": [
    {
     "name": "stdout",
     "output_type": "stream",
     "text": [
      "[0, 1, 2, 3, 4, 5, 6, 7, 8, 9]\n"
     ]
    }
   ],
   "source": [
    "list1 = []\n",
    "for i in range(10):\n",
    "    list1.append(i)\n",
    "print(list1)"
   ]
  },
  {
   "cell_type": "markdown",
   "metadata": {},
   "source": [
    "Make a `list` of the first 100 odd numbers"
   ]
  },
  {
   "cell_type": "code",
   "execution_count": null,
   "metadata": {},
   "outputs": [],
   "source": []
  },
  {
   "cell_type": "markdown",
   "metadata": {},
   "source": [
    "An __index__ is a position of an element in the list. The first element of a list has index $0$ not $1$, indices start from $0$. \n",
    "\n",
    "Access elements of the list (`list_`) in the following way: If we want the second element we do `list_[1]`\n",
    "\n",
    "`list_[-1]` will access the last element of the list, `list_[-2]` the second last element...  "
   ]
  },
  {
   "cell_type": "code",
   "execution_count": 45,
   "metadata": {},
   "outputs": [
    {
     "data": {
      "text/plain": [
       "[3, 2, 5, 7, 9]"
      ]
     },
     "execution_count": 45,
     "metadata": {},
     "output_type": "execute_result"
    }
   ],
   "source": [
    "list_ = [1,2,5,7,9]\n",
    "list_[0] = 3 # Changes value at index 0\n",
    "list_"
   ]
  },
  {
   "cell_type": "code",
   "execution_count": 46,
   "metadata": {},
   "outputs": [
    {
     "name": "stdout",
     "output_type": "stream",
     "text": [
      "1\n",
      "3\n",
      "5\n",
      "7\n",
      "9\n",
      "11\n"
     ]
    }
   ],
   "source": [
    "#Iterate over lists\n",
    "\n",
    "list_2 = [1,3,5,7,9,11]\n",
    "N = len(list_2)\n",
    "\n",
    "for i in range(N):\n",
    "    print(list_2[i])\n",
    "\n",
    "    "
   ]
  },
  {
   "cell_type": "code",
   "execution_count": 47,
   "metadata": {},
   "outputs": [
    {
     "name": "stdout",
     "output_type": "stream",
     "text": [
      "1\n",
      "3\n",
      "5\n",
      "7\n",
      "9\n",
      "11\n"
     ]
    }
   ],
   "source": [
    "# Or just do\n",
    "for item in list_2:\n",
    "    print(item)"
   ]
  },
  {
   "cell_type": "code",
   "execution_count": 49,
   "metadata": {},
   "outputs": [
    {
     "data": {
      "text/plain": [
       "[0, 1, 2, 3]"
      ]
     },
     "execution_count": 49,
     "metadata": {},
     "output_type": "execute_result"
    }
   ],
   "source": [
    "# Easily make a list\n",
    "\n",
    "list(range(4))"
   ]
  },
  {
   "cell_type": "code",
   "execution_count": 50,
   "metadata": {},
   "outputs": [
    {
     "name": "stdout",
     "output_type": "stream",
     "text": [
      "[4, 7, 8] [7, 3, 1] [4, 7, 8, 7, 3, 1]\n"
     ]
    }
   ],
   "source": [
    "#Add lists together\n",
    "\n",
    "L1 = [4,7,8]\n",
    "L2 = [7,3,1]\n",
    "\n",
    "L3 = L1 + L2\n",
    "\n",
    "print (L1, L2, L3)\n"
   ]
  },
  {
   "cell_type": "markdown",
   "metadata": {},
   "source": [
    "Try and find $$ \\sum_{k=0}^{100}  \\frac{4(-1)^k}{2k+1},$$\n",
    "using both a `for` loop, and seperately using the `sum` function"
   ]
  },
  {
   "cell_type": "markdown",
   "metadata": {},
   "source": [
    "## Tuples - Immutable list of values"
   ]
  },
  {
   "cell_type": "code",
   "execution_count": 1,
   "metadata": {},
   "outputs": [],
   "source": [
    "list_ex = [1,2,3,4,5,6,7]\n",
    "tuple_ex = (1,2,3,4,5,6,7) # Values within a tuple cannot be changed - Immutable"
   ]
  },
  {
   "cell_type": "markdown",
   "metadata": {},
   "source": [
    "## Set - A set contains a set of unique objects"
   ]
  },
  {
   "cell_type": "code",
   "execution_count": 2,
   "metadata": {},
   "outputs": [
    {
     "name": "stdout",
     "output_type": "stream",
     "text": [
      "{1, 2, 99, 5, 6, 7}\n"
     ]
    }
   ],
   "source": [
    "a = [1,2,2,2,2,2,2,2,5,5,5,5,5,6,7,99]\n",
    "b = set(a)\n",
    "print(b)"
   ]
  },
  {
   "cell_type": "code",
   "execution_count": 3,
   "metadata": {},
   "outputs": [
    {
     "ename": "TypeError",
     "evalue": "'set' object is not subscriptable",
     "output_type": "error",
     "traceback": [
      "\u001b[1;31m---------------------------------------------------------------------------\u001b[0m",
      "\u001b[1;31mTypeError\u001b[0m                                 Traceback (most recent call last)",
      "\u001b[1;32m<ipython-input-3-d6d82ca8c502>\u001b[0m in \u001b[0;36m<module>\u001b[1;34m\u001b[0m\n\u001b[1;32m----> 1\u001b[1;33m \u001b[0mb\u001b[0m\u001b[1;33m[\u001b[0m\u001b[1;36m3\u001b[0m\u001b[1;33m]\u001b[0m \u001b[1;31m# Will not work, as set type objects have no relevance for order\u001b[0m\u001b[1;33m\u001b[0m\u001b[1;33m\u001b[0m\u001b[0m\n\u001b[0m",
      "\u001b[1;31mTypeError\u001b[0m: 'set' object is not subscriptable"
     ]
    }
   ],
   "source": [
    "b[3] # Will not work, as set type objects have no relevance for order"
   ]
  },
  {
   "cell_type": "code",
   "execution_count": 5,
   "metadata": {},
   "outputs": [
    {
     "name": "stdout",
     "output_type": "stream",
     "text": [
      "2\n"
     ]
    }
   ],
   "source": [
    "c = list(b) # This will work instead\n",
    "print(c[1])"
   ]
  },
  {
   "cell_type": "code",
   "execution_count": 6,
   "metadata": {},
   "outputs": [
    {
     "name": "stdout",
     "output_type": "stream",
     "text": [
      "{2, 99, 5, 6, 7, 55}\n"
     ]
    }
   ],
   "source": [
    "# Add or remove from a set\n",
    "b.add(55)\n",
    "b.remove(1)\n",
    "print(b)"
   ]
  },
  {
   "cell_type": "markdown",
   "metadata": {},
   "source": [
    "### Set intersection/union\n",
    "Take two `sets` and create a new `set` that contains things that are in both `sets` (intersection) or create a new `set` that contains things in either of the originals (union) - Uses bitwise operators"
   ]
  },
  {
   "cell_type": "code",
   "execution_count": 13,
   "metadata": {},
   "outputs": [
    {
     "name": "stdout",
     "output_type": "stream",
     "text": [
      "** Intersections **\n",
      "set()\n",
      "set()\n",
      "{1, 2, 3}\n",
      "\n",
      "** Unions **\n",
      "{1, 2, 3, 4, 5, 6, 7, 8, 9, 10, 11}\n",
      "{1, 2, 3, 6, 7, 8, 9, 10, 11}\n",
      "{1, 2, 3, 4, 5}\n",
      "** Removing one set from another **\n",
      "{1, 2, 3, 4, 5}\n",
      "{1, 2, 3}\n",
      "{4, 5}\n",
      "\n",
      "** The exclusive or: Numbers in one set, but not both **\n",
      "{1, 2, 3, 4, 5, 6, 7, 8, 9, 10, 11}\n",
      "{1, 2, 3, 4, 5, 6, 7, 8, 9, 10, 11}\n",
      "{1, 2, 3, 6, 7, 8, 9, 10, 11}\n",
      "{4, 5}\n",
      "\n"
     ]
    }
   ],
   "source": [
    "set1 = set([1,2,3,4,5])\n",
    "set2 = set([6,7,8,9,10,11])\n",
    "set3 = set([1,2,3])\n",
    "\n",
    "\n",
    "print(\"** Intersections **\")\n",
    "print(set1 & set2)\n",
    "print(set3 & set2)\n",
    "print(set1 & set3)\n",
    "print(\"\")\n",
    "\n",
    "print(\"** Unions **\")\n",
    "print(set1 | set2)\n",
    "print(set3 | set2)\n",
    "print(set1 | set3)\n",
    "\n",
    "print(\"** Removing one set from another **\")\n",
    "print(set1 - set2)\n",
    "print(set3 - set2)\n",
    "print(set1 - set3)\n",
    "print()\n",
    "\n",
    "print(\"** The exclusive or: Numbers in one set, but not both **\")\n",
    "print(set1 ^ set2)\n",
    "print((set1 | set2) - (set1 & set2))\n",
    "print(set3 ^ set2)\n",
    "print(set1 ^ set3)\n",
    "print()"
   ]
  },
  {
   "cell_type": "markdown",
   "metadata": {},
   "source": [
    "Why use a `set`? It makes checking if a value is in an object quicker than using a list or a `tuple`, i.e."
   ]
  },
  {
   "cell_type": "code",
   "execution_count": 15,
   "metadata": {},
   "outputs": [
    {
     "name": "stdout",
     "output_type": "stream",
     "text": [
      "True\n",
      "False\n",
      "True\n"
     ]
    }
   ],
   "source": [
    "print(5 in list_ex)\n",
    "print(11 in tuple_ex)\n",
    "\n",
    "print(11 in set2) # A lot quicker"
   ]
  },
  {
   "cell_type": "markdown",
   "metadata": {},
   "source": [
    "## Dictionaries - Used for storing data with no obvious order\n",
    "built-in type that stores collections of data. Useful for when it is easier to access data based on something other than the order"
   ]
  },
  {
   "cell_type": "code",
   "execution_count": 16,
   "metadata": {},
   "outputs": [],
   "source": [
    "dictionary1 = {} # Initialise empty dictionary\n",
    "dictionary1['value_1'] = 11\n",
    "dictionary1['value_2'] = 22\n",
    "dictionary1['value_3'] = 33\n",
    "dictionary1['value_4'] = 44\n",
    "dictionary1['value_5'] = 55\n",
    "dictionary1['value_6'] = 66\n",
    "dictionary1['value_7'] = 77"
   ]
  },
  {
   "cell_type": "code",
   "execution_count": 19,
   "metadata": {},
   "outputs": [
    {
     "name": "stdout",
     "output_type": "stream",
     "text": [
      "{'value_1': 11, 'value_2': 22, 'value_3': 33, 'value_4': 44, 'value_5': 55, 'value_6': 66, 'value_7': 77}\n",
      "44\n"
     ]
    }
   ],
   "source": [
    "print(dictionary1)\n",
    "print(dictionary1['value_4']) # This accesses the information using the key, 'value_4'"
   ]
  },
  {
   "cell_type": "code",
   "execution_count": 20,
   "metadata": {},
   "outputs": [
    {
     "name": "stdout",
     "output_type": "stream",
     "text": [
      "['value_1', 'value_2', 'value_3', 'value_4', 'value_5', 'value_6', 'value_7']\n",
      "[11, 22, 33, 44, 55, 66, 77]\n",
      "[('value_1', 11), ('value_2', 22), ('value_3', 33), ('value_4', 44), ('value_5', 55), ('value_6', 66), ('value_7', 77)]\n"
     ]
    }
   ],
   "source": [
    "print( list( dictionary1.keys() ) )\n",
    "print( list( dictionary1.values() ) )\n",
    "print( list( dictionary1.items() ) )"
   ]
  },
  {
   "cell_type": "markdown",
   "metadata": {},
   "source": [
    "## List/Dictionary comprehension\n",
    "For the purposes of making a `list` or a `dictionary` from the result of a loop, you can use comprehension. Comprehension is a lot faster than a normal loop, because the iteration uses the `map` function which is compiled in `C`."
   ]
  },
  {
   "cell_type": "code",
   "execution_count": 23,
   "metadata": {},
   "outputs": [
    {
     "name": "stdout",
     "output_type": "stream",
     "text": [
      "[1, 4, 9, 16, 25, 36, 49, 64, 81]\n",
      "{'key1': 1, 'key2': 2, 'key3': 3, 'key4': 4, 'key5': 5, 'key6': 6, 'key7': 7, 'key8': 8, 'key9': 9}\n"
     ]
    }
   ],
   "source": [
    "comp_vals = [1,2,3,4,5,6,7,8,9]\n",
    "\n",
    "\n",
    "#Slow method\n",
    "loop_list = []\n",
    "loop_dict = {}\n",
    "\n",
    "for i in comp_vals:\n",
    "    loop_list.append(i ** 2)\n",
    "    loop_dict['key{0}'.format(i)] = i\n",
    "\n",
    "print(loop_list)\n",
    "print(loop_dict)"
   ]
  },
  {
   "cell_type": "code",
   "execution_count": 25,
   "metadata": {},
   "outputs": [
    {
     "name": "stdout",
     "output_type": "stream",
     "text": [
      "[1, 4, 9, 16, 25, 36, 49, 64, 81]\n",
      "{'key1': 1, 'key2': 2, 'key3': 3, 'key4': 4, 'key5': 5, 'key6': 6, 'key7': 7, 'key8': 8, 'key9': 9}\n"
     ]
    }
   ],
   "source": [
    "#Faster method\n",
    "\n",
    "comp_list = [i ** 2 for i in comp_vals]\n",
    "comp_dict = {'key{0}'.format(i): i for i in comp_vals}\n",
    "\n",
    "print(comp_list)\n",
    "print(comp_dict)\n",
    "\n",
    "\n",
    "\n"
   ]
  },
  {
   "cell_type": "markdown",
   "metadata": {},
   "source": [
    "# Classes\n",
    "`Classes` are used for when you will have multiple instances of an object type\n"
   ]
  },
  {
   "cell_type": "code",
   "execution_count": 37,
   "metadata": {},
   "outputs": [
    {
     "name": "stdout",
     "output_type": "stream",
     "text": [
      "rectangle area: 3, position [x: 0.0, y: 0.0]\n",
      "Square area: 25, position [x: 1, y: 1]\n",
      "Circle area: 314.159, position [x: 2.0, y: 2.0]\n"
     ]
    }
   ],
   "source": [
    "pi = 3.14159\n",
    "\n",
    "class Shape:\n",
    "    def __init__(self, x, y, cx = 0.0, cy = 0.0, name = 'rectangle'):\n",
    "        self.name = name\n",
    "        self.x = x\n",
    "        self.y = y\n",
    "        self.cx = cx\n",
    "        self.cy = cy\n",
    "\n",
    "    def move(self, dx, dy):\n",
    "        self.cx += dx\n",
    "        self.cy += dy\n",
    "\n",
    "    def area(self):\n",
    "        return self.x * self.y\n",
    "    \n",
    "    def GetPosition(self):\n",
    "        return '[x: {0}, y: {1}]'.format(self.cx, self.cy)\n",
    "    \n",
    "\n",
    "# Example of inheritance\n",
    "class Circle(Shape):\n",
    "    def __init__(self, r, cx = 0.0, cy = 0.0):\n",
    "        self.name = 'Circle'\n",
    "        self.r = r\n",
    "        self.cx = cx\n",
    "        self.cy = cy\n",
    "\n",
    "    def area(self):\n",
    "        return pi * self.r ** 2\n",
    "    \n",
    "class Square(Shape):\n",
    "    def __init__(self, x, cx=0, cy=0):\n",
    "        self.name = 'Square'\n",
    "        self.x = x\n",
    "        self.y = x\n",
    "        self.cx = cx\n",
    "        self.cy = cy\n",
    "\n",
    "\n",
    "shape_list = [Shape(1, 3), Square(5), Circle(10)]\n",
    "\n",
    "for sdx, s in enumerate(shape_list):\n",
    "    s.move(sdx, sdx)\n",
    "    print('{0} area: {1}, position {2}'.format(s.name, s.area(), s.GetPosition()))\n",
    "\n",
    "\n"
   ]
  },
  {
   "cell_type": "markdown",
   "metadata": {},
   "source": [
    "Try and create a calculator `class` that has all of the attributes that you would expect"
   ]
  },
  {
   "cell_type": "code",
   "execution_count": null,
   "metadata": {},
   "outputs": [],
   "source": []
  },
  {
   "cell_type": "markdown",
   "metadata": {},
   "source": [
    "You can show all the methods of a `class` using the `dir` function"
   ]
  },
  {
   "cell_type": "code",
   "execution_count": 38,
   "metadata": {},
   "outputs": [
    {
     "name": "stdout",
     "output_type": "stream",
     "text": [
      "['GetPosition', '__class__', '__delattr__', '__dict__', '__dir__', '__doc__', '__eq__', '__format__', '__ge__', '__getattribute__', '__gt__', '__hash__', '__init__', '__init_subclass__', '__le__', '__lt__', '__module__', '__ne__', '__new__', '__reduce__', '__reduce_ex__', '__repr__', '__setattr__', '__sizeof__', '__str__', '__subclasshook__', '__weakref__', 'area', 'move']\n",
      "\n"
     ]
    }
   ],
   "source": [
    "print(dir(Square))\n",
    "print('')\n"
   ]
  },
  {
   "cell_type": "markdown",
   "metadata": {},
   "source": [
    "File I/O brief intro\n"
   ]
  },
  {
   "cell_type": "code",
   "execution_count": 5,
   "metadata": {},
   "outputs": [],
   "source": [
    "# The \"w\" option here indicates that the file is to be written. If the file already exists **it will be deleted**\n",
    "\n",
    "# Options include:\n",
    "#  \"r\": The file is to be read. It will not be possible to change anything\n",
    "#  \"w\": The file is to be written. If it already exists it will be deleted\n",
    "#  \"a\": Open the file for both reading and writing. You could write to the file, but it will be written at the end\n",
    "#  \"b\": The \"b\" flag can be added to any of these \"rb\", \"wb\", or \"ab\". This indicates the file stores binary format\n",
    "#       data\n",
    "file_pointer = open('example_file.data', 'w')\n",
    "# The \\n here indicates a newline. It's what the return key produces.\n",
    "file_pointer.write(\"Test\\n\")\n",
    "file_pointer.write(\"Input\")\n",
    "file_pointer.close()"
   ]
  },
  {
   "cell_type": "code",
   "execution_count": 6,
   "metadata": {},
   "outputs": [
    {
     "name": "stdout",
     "output_type": "stream",
     "text": [
      "Test\n",
      "Input\n"
     ]
    }
   ],
   "source": [
    "file_pointer = open('example_file.data', 'r')\n",
    "for line in file_pointer:\n",
    "    print(line.strip())\n",
    "file_pointer.close()"
   ]
  },
  {
   "cell_type": "markdown",
   "metadata": {},
   "source": [
    "Could instead use the `with` statement. This ensures that the file is closed outside of the `with` block"
   ]
  },
  {
   "cell_type": "code",
   "execution_count": 9,
   "metadata": {},
   "outputs": [
    {
     "name": "stdout",
     "output_type": "stream",
     "text": [
      "Test\n",
      "Input\n"
     ]
    }
   ],
   "source": [
    "with open('example_file.data', 'w') as file_pointer:\n",
    "    file_pointer.write(\"Test\\n\")\n",
    "    file_pointer.write(\"Input\")\n",
    "\n",
    "with open('example_file.data', 'r') as file_pointer:\n",
    "    for line in file_pointer:\n",
    "        print(line.strip())"
   ]
  },
  {
   "cell_type": "markdown",
   "metadata": {},
   "source": [
    "Write a file that contains the first 10 square numbers (1, 4, 9, ...) and then read this back in and print it to the screen. \n"
   ]
  },
  {
   "cell_type": "code",
   "execution_count": null,
   "metadata": {},
   "outputs": [],
   "source": []
  },
  {
   "cell_type": "markdown",
   "metadata": {},
   "source": [
    "## Final note\n",
    "Usage of `if __name__ == '__main__':`\n",
    "This is for when you want to run a bit of code when called directly from the command line, but not call the code if it were to be imported into another file.\n",
    "Check the value of the global variable `__name__`, when some code is run `__name__` will be `__main__`, and when imported, it will not be"
   ]
  },
  {
   "cell_type": "code",
   "execution_count": null,
   "metadata": {},
   "outputs": [],
   "source": [
    "if __name__ == '__main__':\n",
    "\n",
    "    print('Example')"
   ]
  },
  {
   "cell_type": "code",
   "execution_count": null,
   "metadata": {},
   "outputs": [],
   "source": []
  }
 ],
 "metadata": {
  "kernelspec": {
   "display_name": "Python 3",
   "language": "python",
   "name": "python3"
  },
  "language_info": {
   "codemirror_mode": {
    "name": "ipython",
    "version": 3
   },
   "file_extension": ".py",
   "mimetype": "text/x-python",
   "name": "python",
   "nbconvert_exporter": "python",
   "pygments_lexer": "ipython3",
   "version": "3.8.8"
  },
  "orig_nbformat": 4
 },
 "nbformat": 4,
 "nbformat_minor": 2
}
