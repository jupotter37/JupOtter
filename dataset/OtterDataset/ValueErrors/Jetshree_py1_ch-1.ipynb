{
 "cells": [
  {
   "cell_type": "code",
   "execution_count": null,
   "metadata": {},
   "outputs": [],
   "source": [
    "x=int(input(\"num1: \"))\n",
    "y=int(input(\"num2: \"))\n",
    "print(x+y)"
   ]
  },
  {
   "cell_type": "code",
   "execution_count": null,
   "metadata": {},
   "outputs": [],
   "source": [
    "# type casting\n",
    "# int()\n",
    "\n",
    "print(int(1234.45))\n",
    "print(int(\"10\"))\n",
    "print(int(True))\n",
    "print(int(False))\n",
    "print(int(\"10.5\")) #error"
   ]
  },
  {
   "cell_type": "code",
   "execution_count": 4,
   "metadata": {},
   "outputs": [
    {
     "ename": "ValueError",
     "evalue": "invalid literal for int() with base 10: '0B1111'",
     "output_type": "error",
     "traceback": [
      "\u001b[1;31m---------------------------------------------------------------------------\u001b[0m",
      "\u001b[1;31mValueError\u001b[0m                                Traceback (most recent call last)",
      "\u001b[1;32m<ipython-input-4-d69b2a855e10>\u001b[0m in \u001b[0;36m<module>\u001b[1;34m\u001b[0m\n\u001b[1;32m----> 1\u001b[1;33m \u001b[0mprint\u001b[0m\u001b[1;33m(\u001b[0m\u001b[0mint\u001b[0m\u001b[1;33m(\u001b[0m\u001b[1;34m\"0B1111\"\u001b[0m\u001b[1;33m)\u001b[0m\u001b[1;33m)\u001b[0m\u001b[1;33m\u001b[0m\u001b[1;33m\u001b[0m\u001b[0m\n\u001b[0m",
      "\u001b[1;31mValueError\u001b[0m: invalid literal for int() with base 10: '0B1111'"
     ]
    }
   ],
   "source": [
    "print(int(\"0B1111\")) #error"
   ]
  },
  {
   "cell_type": "code",
   "execution_count": 6,
   "metadata": {},
   "outputs": [
    {
     "name": "stdout",
     "output_type": "stream",
     "text": [
      "1234.45\n",
      "10.0\n",
      "1.0\n",
      "0.0\n",
      "10.5\n"
     ]
    },
    {
     "ename": "ValueError",
     "evalue": "could not convert string to float: 'ten'",
     "output_type": "error",
     "traceback": [
      "\u001b[1;31m---------------------------------------------------------------------------\u001b[0m",
      "\u001b[1;31mValueError\u001b[0m                                Traceback (most recent call last)",
      "\u001b[1;32m<ipython-input-6-6752af4e5754>\u001b[0m in \u001b[0;36m<module>\u001b[1;34m\u001b[0m\n\u001b[0;32m      6\u001b[0m \u001b[0mprint\u001b[0m\u001b[1;33m(\u001b[0m\u001b[0mfloat\u001b[0m\u001b[1;33m(\u001b[0m\u001b[1;32mFalse\u001b[0m\u001b[1;33m)\u001b[0m\u001b[1;33m)\u001b[0m\u001b[1;33m\u001b[0m\u001b[1;33m\u001b[0m\u001b[0m\n\u001b[0;32m      7\u001b[0m \u001b[0mprint\u001b[0m\u001b[1;33m(\u001b[0m\u001b[0mfloat\u001b[0m\u001b[1;33m(\u001b[0m\u001b[1;34m\"10.5\"\u001b[0m\u001b[1;33m)\u001b[0m\u001b[1;33m)\u001b[0m\u001b[1;33m\u001b[0m\u001b[1;33m\u001b[0m\u001b[0m\n\u001b[1;32m----> 8\u001b[1;33m \u001b[0mprint\u001b[0m\u001b[1;33m(\u001b[0m\u001b[0mfloat\u001b[0m\u001b[1;33m(\u001b[0m\u001b[1;34m\"ten\"\u001b[0m\u001b[1;33m)\u001b[0m\u001b[1;33m)\u001b[0m \u001b[1;31m#error\u001b[0m\u001b[1;33m\u001b[0m\u001b[1;33m\u001b[0m\u001b[0m\n\u001b[0m\u001b[0;32m      9\u001b[0m \u001b[0mprint\u001b[0m\u001b[1;33m(\u001b[0m\u001b[0mfloat\u001b[0m\u001b[1;33m(\u001b[0m\u001b[1;34m\"0B1111\"\u001b[0m\u001b[1;33m)\u001b[0m\u001b[1;33m)\u001b[0m \u001b[1;31m#error\u001b[0m\u001b[1;33m\u001b[0m\u001b[1;33m\u001b[0m\u001b[0m\n",
      "\u001b[1;31mValueError\u001b[0m: could not convert string to float: 'ten'"
     ]
    }
   ],
   "source": [
    "# float()\n",
    "\n",
    "print(float(1234.45))\n",
    "print(float(\"10\"))\n",
    "print(float(True))\n",
    "print(float(False))\n",
    "print(float(\"10.5\"))\n",
    "print(float(\"ten\")) #error\n",
    "print(float(\"0B1111\")) #error"
   ]
  },
  {
   "cell_type": "code",
   "execution_count": 9,
   "metadata": {},
   "outputs": [
    {
     "name": "stdout",
     "output_type": "stream",
     "text": [
      "True\n",
      "True\n",
      "True\n",
      "True\n",
      "False\n",
      "False\n",
      "False\n",
      "False\n"
     ]
    }
   ],
   "source": [
    "# bool()\n",
    "\n",
    "print(bool(1))\n",
    "print(bool(True))\n",
    "print(bool(\"False\"))\n",
    "print(bool(10.0))\n",
    "print(bool(0.0))\n",
    "print(bool(False))\n",
    "print(bool(0))\n",
    "print(bool(\"\"))"
   ]
  },
  {
   "cell_type": "code",
   "execution_count": 12,
   "metadata": {},
   "outputs": [
    {
     "name": "stdout",
     "output_type": "stream",
     "text": [
      "10\n",
      "10.9\n",
      "tru\n"
     ]
    }
   ],
   "source": [
    "# str\n",
    "\n",
    "print(str(10))\n",
    "print(str(10.9))\n",
    "print(str(\"tru\"))"
   ]
  },
  {
   "cell_type": "markdown",
   "metadata": {},
   "source": [
    "# Python operators"
   ]
  },
  {
   "cell_type": "markdown",
   "metadata": {},
   "source": [
    "## 1. Arithmetic operator --> + -   *   /  **  % //"
   ]
  },
  {
   "cell_type": "code",
   "execution_count": 15,
   "metadata": {},
   "outputs": [],
   "source": [
    "# + addition (str - concatenation)\n",
    "# - sub\n",
    "# * multiplication (str - string multiplication or repetition)\n",
    "# / division (by default return type is float)\n",
    "# ** power or exponent\n",
    "# % modulus\n",
    "# // floor division"
   ]
  },
  {
   "cell_type": "code",
   "execution_count": 1,
   "metadata": {},
   "outputs": [
    {
     "name": "stdout",
     "output_type": "stream",
     "text": [
      "num1: 3\n",
      "num2: 2\n",
      "addition:  5\n",
      "subtraction:  1\n",
      "multiplication:  6\n",
      "division:  1.5\n",
      "floor division:  1\n",
      "modulus:  1\n",
      "exponrnt:  9\n"
     ]
    }
   ],
   "source": [
    "x=int(input(\"num1: \"))\n",
    "y=int(input(\"num2: \"))\n",
    "\n",
    "print(\"addition: \",x+y)\n",
    "print(\"subtraction: \",x-y)\n",
    "print(\"multiplication: \",x*y)\n",
    "print(\"division: \",x/y)\n",
    "print(\"floor division: \",x//y)\n",
    "print(\"modulus: \",x%y)\n",
    "print(\"exponrnt: \",x**y)"
   ]
  },
  {
   "cell_type": "code",
   "execution_count": 2,
   "metadata": {},
   "outputs": [],
   "source": [
    "# \"arman\"+10 --> error\n",
    "# \"arman\"+\"10\"\n",
    "# \"hi\"*2\n",
    "# \"hi\"*2.5 -->error"
   ]
  },
  {
   "cell_type": "markdown",
   "metadata": {},
   "source": [
    "## 2. Comparison or relational operator -->   > , <, >= , <= ,==, !="
   ]
  },
  {
   "cell_type": "code",
   "execution_count": 5,
   "metadata": {},
   "outputs": [
    {
     "name": "stdout",
     "output_type": "stream",
     "text": [
      "num1: Arman\n",
      "num2: Arman\n",
      "a>b:  False\n",
      "a<b:  False\n",
      "a>=b:  True\n",
      "a<=b:  True\n",
      "a==b:  True\n",
      "a!=b:  False\n"
     ]
    }
   ],
   "source": [
    "# operators:  > , <, >= , <= ,==, !=\n",
    "\n",
    "x=(input(\"num1: \"))\n",
    "y=(input(\"num2: \"))\n",
    "\n",
    "print(\"a>b: \",x>y)\n",
    "print(\"a<b: \",x<y)\n",
    "print(\"a>=b: \",x>=y)\n",
    "print(\"a<=b: \",x<=y)\n",
    "print(\"a==b: \",x==y)\n",
    "print(\"a!=b: \",x!=y)"
   ]
  },
  {
   "cell_type": "code",
   "execution_count": 10,
   "metadata": {},
   "outputs": [
    {
     "name": "stdout",
     "output_type": "stream",
     "text": [
      "True\n",
      "True\n",
      "False\n",
      "False\n",
      "1\n",
      "True\n"
     ]
    }
   ],
   "source": [
    "print(True>=True)\n",
    "print(10>=True)\n",
    "print(False>=True)\n",
    "print(10>20>30)\n",
    "print(int(True))\n",
    "print(True)"
   ]
  },
  {
   "cell_type": "markdown",
   "metadata": {},
   "source": [
    "## 3. Logical Operators --> and, or, not"
   ]
  },
  {
   "cell_type": "code",
   "execution_count": 16,
   "metadata": {},
   "outputs": [
    {
     "name": "stdout",
     "output_type": "stream",
     "text": [
      "False\n",
      "True\n",
      "True\n"
     ]
    }
   ],
   "source": [
    "# Boolean type behavior --> true or false type of answers\n",
    "\n",
    "print(True and False)\n",
    "print(True or False)\n",
    "print(not False)"
   ]
  },
  {
   "cell_type": "code",
   "execution_count": 17,
   "metadata": {},
   "outputs": [
    {
     "name": "stdout",
     "output_type": "stream",
     "text": [
      "20\n",
      "0\n",
      "20\n",
      "0\n",
      "False\n",
      "True\n"
     ]
    }
   ],
   "source": [
    "# Non-Boolean type behavior \n",
    "\n",
    "'''\n",
    "--> 0 means False\n",
    "--> non zero means True\n",
    "--> Empty string is always treated as False\n",
    "'''\n",
    "\n",
    "# a and b: if a evaluates as False then result is a otherwise b.\n",
    "print(10 and 20) #20\n",
    "print(0 and 20)  #0\n",
    "\n",
    "# a or b: if a evaluates as True then result is a otherwise b.\n",
    "print(10 and 20) #10\n",
    "print(0 and 20)  #20\n",
    "\n",
    "# not a: if a evaluates to False then result is True otherwise False.\n",
    "print(not 10) # False\n",
    "print(not 0)  #True"
   ]
  },
  {
   "cell_type": "markdown",
   "metadata": {},
   "source": [
    "## 4. Ternary (conditional) operator \n",
    " \n",
    "### syntax: x= 1st value if conditon else 2nd value"
   ]
  },
  {
   "cell_type": "code",
   "execution_count": 18,
   "metadata": {},
   "outputs": [
    {
     "name": "stdout",
     "output_type": "stream",
     "text": [
      "30\n"
     ]
    }
   ],
   "source": [
    "a,b=10,20\n",
    "x=30 if a<b else 40\n",
    "print(x)"
   ]
  },
  {
   "cell_type": "markdown",
   "metadata": {},
   "source": [
    "## 5. Assignment Operator -->  = ,    +=  ,   -=  ,   *=  ,   /=  ,  %=   ,  **=    , //="
   ]
  },
  {
   "cell_type": "markdown",
   "metadata": {},
   "source": [
    "## 6. Membership Operators --> in , not in \n"
   ]
  },
  {
   "cell_type": "code",
   "execution_count": 20,
   "metadata": {},
   "outputs": [
    {
     "name": "stdout",
     "output_type": "stream",
     "text": [
      "True\n",
      "False\n",
      "False\n"
     ]
    }
   ],
   "source": [
    "# in --> returns True if obeject is present in specific collection \n",
    "# not in --> returns True if given object is not present in specific collection \n",
    "\n",
    "x=\"Hello, learning python is very easy.\"\n",
    "print(\"l\" in x)\n",
    "print(\"j\" in x)\n",
    "print(\"Python\" in x)"
   ]
  },
  {
   "cell_type": "code",
   "execution_count": 22,
   "metadata": {},
   "outputs": [
    {
     "name": "stdout",
     "output_type": "stream",
     "text": [
      "2.25\n"
     ]
    }
   ],
   "source": [
    "a,b,c,d=1,2,3,4\n",
    "print((a+b)* c/d)"
   ]
  },
  {
   "cell_type": "code",
   "execution_count": 3,
   "metadata": {},
   "outputs": [
    {
     "name": "stdout",
     "output_type": "stream",
     "text": [
      "num1: 1\n",
      "num2: 2\n",
      "1.0\n"
     ]
    }
   ],
   "source": [
    "# write a program to find the area of a triangle\n",
    "b=int(input(\"num1: \"))\n",
    "a=int(input(\"num2: \"))\n",
    "c=0.5*b*a\n",
    "print(c)"
   ]
  },
  {
   "cell_type": "code",
   "execution_count": 5,
   "metadata": {},
   "outputs": [
    {
     "name": "stdout",
     "output_type": "stream",
     "text": [
      "radius: 2\n",
      "12.566370614359172\n"
     ]
    }
   ],
   "source": [
    "# area of circle\n",
    "\n",
    "import math\n",
    "r=int(input(\"radius: \"))\n",
    "c=math.pi*r*r\n",
    "print(c)"
   ]
  },
  {
   "cell_type": "code",
   "execution_count": 8,
   "metadata": {},
   "outputs": [
    {
     "name": "stdout",
     "output_type": "stream",
     "text": [
      "enter temperature in farenheit: 109\n",
      "42.77777777777778\n"
     ]
    }
   ],
   "source": [
    "# convert farenheit to celsius and vice versa\n",
    "\n",
    "f=float(input(\"enter temperature in farenheit: \"))\n",
    "print((f-32)*(5/9))"
   ]
  },
  {
   "cell_type": "code",
   "execution_count": 9,
   "metadata": {},
   "outputs": [
    {
     "name": "stdout",
     "output_type": "stream",
     "text": [
      "enter temperature in celsius: 42.777777\n",
      "108.9999986\n"
     ]
    }
   ],
   "source": [
    "c=float(input(\"enter temperature in celsius: \"))\n",
    "print(c/(5/9)+32)"
   ]
  },
  {
   "cell_type": "code",
   "execution_count": 15,
   "metadata": {},
   "outputs": [
    {
     "name": "stdout",
     "output_type": "stream",
     "text": [
      "enter number of days: 6980\n",
      "19  years  1  months  15  days \n"
     ]
    }
   ],
   "source": [
    "# no. of days into yymmdd format\n",
    "\n",
    "d=int(input(\"enter number of days: \"))\n",
    "yr=d//365\n",
    "mon=(d%365)//30\n",
    "days=(d%365)%30\n",
    "\n",
    "print(yr,\" years \",mon,\" months \",days,\" days \")\n",
    "\n"
   ]
  },
  {
   "cell_type": "code",
   "execution_count": null,
   "metadata": {},
   "outputs": [],
   "source": []
  }
 ],
 "metadata": {
  "kernelspec": {
   "display_name": "Python 3",
   "language": "python",
   "name": "python3"
  },
  "language_info": {
   "codemirror_mode": {
    "name": "ipython",
    "version": 3
   },
   "file_extension": ".py",
   "mimetype": "text/x-python",
   "name": "python",
   "nbconvert_exporter": "python",
   "pygments_lexer": "ipython3",
   "version": "3.8.5"
  }
 },
 "nbformat": 4,
 "nbformat_minor": 4
}
