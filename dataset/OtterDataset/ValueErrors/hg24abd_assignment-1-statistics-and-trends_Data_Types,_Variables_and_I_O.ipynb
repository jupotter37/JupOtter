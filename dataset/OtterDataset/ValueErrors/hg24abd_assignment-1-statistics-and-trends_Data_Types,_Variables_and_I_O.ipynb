{
  "nbformat": 4,
  "nbformat_minor": 0,
  "metadata": {
    "colab": {
      "provenance": [],
      "include_colab_link": true
    },
    "kernelspec": {
      "name": "python3",
      "display_name": "Python 3"
    },
    "language_info": {
      "name": "python"
    }
  },
  "cells": [
    {
      "cell_type": "markdown",
      "metadata": {
        "id": "view-in-github",
        "colab_type": "text"
      },
      "source": [
        "<a href=\"https://colab.research.google.com/github/hg24abd/assignment-1-statistics-and-trends/blob/main/Data_Types%2C_Variables_and_I_O.ipynb\" target=\"_parent\"><img src=\"https://colab.research.google.com/assets/colab-badge.svg\" alt=\"Open In Colab\"/></a>"
      ]
    },
    {
      "cell_type": "markdown",
      "source": [
        "06/12/2024\n",
        "Practice1: Data Types, Variables, and I/O"
      ],
      "metadata": {
        "id": "skgzTSOndsWn"
      }
    },
    {
      "cell_type": "markdown",
      "source": [],
      "metadata": {
        "id": "IY7HvnsnjQyX"
      }
    },
    {
      "cell_type": "code",
      "source": [
        "#Python is loosely types language\n",
        "#Python variables don't get married to a particular kind of value\n",
        "#python is dose not get attached to particular variable"
      ],
      "metadata": {
        "id": "0baEMTDejRXL"
      },
      "execution_count": 40,
      "outputs": []
    },
    {
      "cell_type": "markdown",
      "source": [
        "Predict the output of the following.\n",
        "print(8-5)\n",
        "Click on an option to submit your answer\n",
        "A\n",
        "8-5\n",
        "B\n",
        "3\n",
        "**C**\n",
        "Error"
      ],
      "metadata": {
        "id": "_Xbb8j6md6GL"
      }
    },
    {
      "cell_type": "code",
      "source": [
        "'''Predict the output of the following.\n",
        "print(8-5)\n",
        "Click on an option to submit your answer\n",
        "A\n",
        "8-5\n",
        "B\n",
        "3\n",
        "C\n",
        "Error '''\n",
        "\n",
        "print(8-5)"
      ],
      "metadata": {
        "colab": {
          "base_uri": "https://localhost:8080/"
        },
        "id": "XVoINbT1d0b3",
        "outputId": "0971bc5d-e17a-4afe-a221-d76980509e30"
      },
      "execution_count": 2,
      "outputs": [
        {
          "output_type": "stream",
          "name": "stdout",
          "text": [
            "3\n"
          ]
        }
      ]
    },
    {
      "cell_type": "code",
      "source": [
        "'''\n",
        "Quiz 2\n",
        "Which of the following values are of type float in Python?\n",
        "Click on an option to submit your answer\n",
        "A\n",
        ".2\n",
        "B\n",
        "\"2.3\"\n",
        "C\n",
        "'3.14'\n",
        "D\n",
        "-3\n",
        "'''"
      ],
      "metadata": {
        "colab": {
          "base_uri": "https://localhost:8080/",
          "height": 52
        },
        "id": "nBK08hfIfRrS",
        "outputId": "d2d0d676-cb27-4537-95f5-28f6353dcb3b"
      },
      "execution_count": 3,
      "outputs": [
        {
          "output_type": "execute_result",
          "data": {
            "text/plain": [
              "'\\nQuiz 2\\nWhich of the following values are of type float in Python?\\nClick on an option to submit your answer\\nA\\n.2\\nB\\n\"2.3\"\\nC\\n\\'3.14\\'\\nD\\n-3\\n'"
            ],
            "application/vnd.google.colaboratory.intrinsic+json": {
              "type": "string"
            }
          },
          "metadata": {},
          "execution_count": 3
        }
      ]
    },
    {
      "cell_type": "code",
      "source": [
        "'''\n",
        "Quiz 3\n",
        "Which of the following is a valid variable name?\n",
        "Click on an option to submit your answer\n",
        "A\n",
        "hELLO\n",
        "B\n",
        "1_name_Input\n",
        "C\n",
        "a*b*c\n",
        "D\n",
        "Cod3$#\n",
        "'''"
      ],
      "metadata": {
        "colab": {
          "base_uri": "https://localhost:8080/",
          "height": 52
        },
        "id": "jZ_kl2gHfZhv",
        "outputId": "a75f2f67-a9fb-4187-d148-7dfd5515e397"
      },
      "execution_count": 4,
      "outputs": [
        {
          "output_type": "execute_result",
          "data": {
            "text/plain": [
              "'\\nQuiz 3\\nWhich of the following is a valid variable name?\\nClick on an option to submit your answer\\nA\\nhELLO\\nB\\n1_name_Input\\nC\\na*b*c\\nD\\nCod3$#\\n'"
            ],
            "application/vnd.google.colaboratory.intrinsic+json": {
              "type": "string"
            }
          },
          "metadata": {},
          "execution_count": 4
        }
      ]
    },
    {
      "cell_type": "code",
      "source": [
        "'''\n",
        "Quiz 4\n",
        "Predict the output of the following.\n",
        "x = 3\n",
        "y = 'hello'\n",
        "num = y\n",
        "y = 5\n",
        "print(num, y)\n",
        "Click on an option to submit your answer\n",
        "A\n",
        "5 5\n",
        "B\n",
        "hello hello\n",
        "C\n",
        "hello 5\n",
        "'''"
      ],
      "metadata": {
        "colab": {
          "base_uri": "https://localhost:8080/",
          "height": 52
        },
        "id": "CB4wt2njfhTB",
        "outputId": "65972976-f87a-466e-a209-64e7aae576ab"
      },
      "execution_count": 5,
      "outputs": [
        {
          "output_type": "execute_result",
          "data": {
            "text/plain": [
              "\"\\nQuiz 4\\nPredict the output of the following.\\nx = 3\\ny = 'hello'\\nnum = y\\ny = 5\\nprint(num, y)\\nClick on an option to submit your answer\\nA\\n5 5\\nB\\nhello hello\\nC\\nhello 5\\n\""
            ],
            "application/vnd.google.colaboratory.intrinsic+json": {
              "type": "string"
            }
          },
          "metadata": {},
          "execution_count": 5
        }
      ]
    },
    {
      "cell_type": "code",
      "source": [
        "print(3000)"
      ],
      "metadata": {
        "colab": {
          "base_uri": "https://localhost:8080/"
        },
        "id": "_n1_mAuqfpvu",
        "outputId": "9460c84e-d4a5-4962-e166-a38a9d5f4c69"
      },
      "execution_count": 6,
      "outputs": [
        {
          "output_type": "stream",
          "name": "stdout",
          "text": [
            "3000\n"
          ]
        }
      ]
    },
    {
      "cell_type": "code",
      "source": [
        "print(20+30)"
      ],
      "metadata": {
        "id": "AZYvx7HXgZs-",
        "outputId": "c4076507-336b-4884-971e-7ebb2098a8d2",
        "colab": {
          "base_uri": "https://localhost:8080/"
        }
      },
      "execution_count": 7,
      "outputs": [
        {
          "output_type": "stream",
          "name": "stdout",
          "text": [
            "50\n"
          ]
        }
      ]
    },
    {
      "cell_type": "code",
      "source": [
        "print(4 + 5)"
      ],
      "metadata": {
        "id": "3VVm3kHLgb6_",
        "outputId": "9d91f32a-f679-4280-e1f4-e012e4053e9e",
        "colab": {
          "base_uri": "https://localhost:8080/"
        }
      },
      "execution_count": 9,
      "outputs": [
        {
          "output_type": "stream",
          "name": "stdout",
          "text": [
            "9\n"
          ]
        }
      ]
    },
    {
      "cell_type": "code",
      "source": [
        "print(\"India won the world cup in 2024\")"
      ],
      "metadata": {
        "id": "zYzK3rSmgeCy",
        "outputId": "2365b82f-e0a7-455b-e11f-77252b77f2c4",
        "colab": {
          "base_uri": "https://localhost:8080/"
        }
      },
      "execution_count": 10,
      "outputs": [
        {
          "output_type": "stream",
          "name": "stdout",
          "text": [
            "India won the world cup in 2024\n"
          ]
        }
      ]
    },
    {
      "cell_type": "code",
      "source": [
        "print('India won the world cup in 2024')"
      ],
      "metadata": {
        "id": "VfcwQNqggkwZ",
        "outputId": "56de05b0-2e37-4c71-a9fa-73ce30a263d7",
        "colab": {
          "base_uri": "https://localhost:8080/"
        }
      },
      "execution_count": 11,
      "outputs": [
        {
          "output_type": "stream",
          "name": "stdout",
          "text": [
            "India won the world cup in 2024\n"
          ]
        }
      ]
    },
    {
      "cell_type": "code",
      "source": [
        "PRINT(\"will this work in python with Capital letter in coding?\") # python is case sensitive"
      ],
      "metadata": {
        "id": "tcGkna1AgprT",
        "outputId": "26d1aabf-7996-4be1-d169-9db33424ba48",
        "colab": {
          "base_uri": "https://localhost:8080/",
          "height": 139
        }
      },
      "execution_count": 13,
      "outputs": [
        {
          "output_type": "error",
          "ename": "NameError",
          "evalue": "name 'PRINT' is not defined",
          "traceback": [
            "\u001b[0;31m---------------------------------------------------------------------------\u001b[0m",
            "\u001b[0;31mNameError\u001b[0m                                 Traceback (most recent call last)",
            "\u001b[0;32m<ipython-input-13-d75946b04ea9>\u001b[0m in \u001b[0;36m<cell line: 1>\u001b[0;34m()\u001b[0m\n\u001b[0;32m----> 1\u001b[0;31m \u001b[0mPRINT\u001b[0m\u001b[0;34m(\u001b[0m\u001b[0;34m\"will this work in python with Capital letter in coding?\"\u001b[0m\u001b[0;34m)\u001b[0m \u001b[0;31m# python is case sensitive\u001b[0m\u001b[0;34m\u001b[0m\u001b[0;34m\u001b[0m\u001b[0m\n\u001b[0m",
            "\u001b[0;31mNameError\u001b[0m: name 'PRINT' is not defined"
          ]
        }
      ]
    },
    {
      "cell_type": "code",
      "source": [
        "print(\"Hello world\")"
      ],
      "metadata": {
        "id": "lWWw6ddDhHAe",
        "outputId": "47b9b678-46be-472f-eca7-b3e8bb49d909",
        "colab": {
          "base_uri": "https://localhost:8080/"
        }
      },
      "execution_count": 14,
      "outputs": [
        {
          "output_type": "stream",
          "name": "stdout",
          "text": [
            "Hello world\n"
          ]
        }
      ]
    },
    {
      "cell_type": "code",
      "source": [
        "type(.2)"
      ],
      "metadata": {
        "id": "cDxfNYBZhUPL",
        "outputId": "54fd427b-4f8d-403a-c87e-37a5f65c42b4",
        "colab": {
          "base_uri": "https://localhost:8080/"
        }
      },
      "execution_count": 15,
      "outputs": [
        {
          "output_type": "execute_result",
          "data": {
            "text/plain": [
              "float"
            ]
          },
          "metadata": {},
          "execution_count": 15
        }
      ]
    },
    {
      "cell_type": "code",
      "source": [
        "type(2.)"
      ],
      "metadata": {
        "id": "86OwV6lfhVhF",
        "outputId": "2c8499df-d701-426f-b9c0-092e86496ad8",
        "colab": {
          "base_uri": "https://localhost:8080/"
        }
      },
      "execution_count": 16,
      "outputs": [
        {
          "output_type": "execute_result",
          "data": {
            "text/plain": [
              "float"
            ]
          },
          "metadata": {},
          "execution_count": 16
        }
      ]
    },
    {
      "cell_type": "code",
      "source": [
        "type(2)"
      ],
      "metadata": {
        "id": "MoZmhqzPhWyf",
        "outputId": "781e5d78-22ca-4e5f-92a3-264e96892036",
        "colab": {
          "base_uri": "https://localhost:8080/"
        }
      },
      "execution_count": 17,
      "outputs": [
        {
          "output_type": "execute_result",
          "data": {
            "text/plain": [
              "int"
            ]
          },
          "metadata": {},
          "execution_count": 17
        }
      ]
    },
    {
      "cell_type": "code",
      "source": [
        "type(\"2.4\")"
      ],
      "metadata": {
        "id": "XFmSeS1IhYE1",
        "outputId": "26ded8cb-a642-4372-d92e-e54be8291838",
        "colab": {
          "base_uri": "https://localhost:8080/"
        }
      },
      "execution_count": 18,
      "outputs": [
        {
          "output_type": "execute_result",
          "data": {
            "text/plain": [
              "str"
            ]
          },
          "metadata": {},
          "execution_count": 18
        }
      ]
    },
    {
      "cell_type": "code",
      "source": [
        "type(true) # python is case sensitive use True instead of true."
      ],
      "metadata": {
        "id": "AYikGFX8haZ8",
        "outputId": "66826a60-3993-4c5e-93c8-550bd0084114",
        "colab": {
          "base_uri": "https://localhost:8080/",
          "height": 139
        }
      },
      "execution_count": 20,
      "outputs": [
        {
          "output_type": "error",
          "ename": "NameError",
          "evalue": "name 'true' is not defined",
          "traceback": [
            "\u001b[0;31m---------------------------------------------------------------------------\u001b[0m",
            "\u001b[0;31mNameError\u001b[0m                                 Traceback (most recent call last)",
            "\u001b[0;32m<ipython-input-20-6fd2a27e5345>\u001b[0m in \u001b[0;36m<cell line: 1>\u001b[0;34m()\u001b[0m\n\u001b[0;32m----> 1\u001b[0;31m \u001b[0mtype\u001b[0m\u001b[0;34m(\u001b[0m\u001b[0mtrue\u001b[0m\u001b[0;34m)\u001b[0m \u001b[0;31m# python is case sensitive use True instead of true.\u001b[0m\u001b[0;34m\u001b[0m\u001b[0;34m\u001b[0m\u001b[0m\n\u001b[0m",
            "\u001b[0;31mNameError\u001b[0m: name 'true' is not defined"
          ]
        }
      ]
    },
    {
      "cell_type": "code",
      "source": [
        "type(True)"
      ],
      "metadata": {
        "id": "UFIaBp7BhbrW",
        "outputId": "b3b2a6ef-a515-4c48-b7d0-72f5e0976a71",
        "colab": {
          "base_uri": "https://localhost:8080/"
        }
      },
      "execution_count": 21,
      "outputs": [
        {
          "output_type": "execute_result",
          "data": {
            "text/plain": [
              "bool"
            ]
          },
          "metadata": {},
          "execution_count": 21
        }
      ]
    },
    {
      "cell_type": "code",
      "source": [
        "type(False)"
      ],
      "metadata": {
        "id": "TF-8ZINNhpKa",
        "outputId": "48ff6762-c319-4734-f327-f5bb37614295",
        "colab": {
          "base_uri": "https://localhost:8080/"
        }
      },
      "execution_count": 22,
      "outputs": [
        {
          "output_type": "execute_result",
          "data": {
            "text/plain": [
              "bool"
            ]
          },
          "metadata": {},
          "execution_count": 22
        }
      ]
    },
    {
      "cell_type": "code",
      "source": [
        "print(type(None))"
      ],
      "metadata": {
        "id": "y06JZ6dMhqNj",
        "outputId": "432cb940-c38d-446f-cba5-b6493f63dd28",
        "colab": {
          "base_uri": "https://localhost:8080/"
        }
      },
      "execution_count": 23,
      "outputs": [
        {
          "output_type": "stream",
          "name": "stdout",
          "text": [
            "<class 'NoneType'>\n"
          ]
        }
      ]
    },
    {
      "cell_type": "code",
      "source": [
        "type(None)"
      ],
      "metadata": {
        "id": "-cpPXHxDh2pQ",
        "outputId": "3c41c78e-a580-4402-ed25-5a1f58b46e68",
        "colab": {
          "base_uri": "https://localhost:8080/"
        }
      },
      "execution_count": 24,
      "outputs": [
        {
          "output_type": "execute_result",
          "data": {
            "text/plain": [
              "NoneType"
            ]
          },
          "metadata": {},
          "execution_count": 24
        }
      ]
    },
    {
      "cell_type": "code",
      "source": [
        "a = 3 + 4\n",
        "print(a)"
      ],
      "metadata": {
        "id": "H2rzZz2Dh4Rq",
        "outputId": "1e26da5d-3e14-48d9-aeaf-3cc7af82e690",
        "colab": {
          "base_uri": "https://localhost:8080/"
        }
      },
      "execution_count": 26,
      "outputs": [
        {
          "output_type": "stream",
          "name": "stdout",
          "text": [
            "7\n"
          ]
        }
      ]
    },
    {
      "cell_type": "code",
      "source": [
        "b = 5\n",
        "a + b"
      ],
      "metadata": {
        "id": "SSHlZXyBh7NH",
        "outputId": "88026604-419e-4649-bbc4-94431020b326",
        "colab": {
          "base_uri": "https://localhost:8080/"
        }
      },
      "execution_count": 27,
      "outputs": [
        {
          "output_type": "execute_result",
          "data": {
            "text/plain": [
              "12"
            ]
          },
          "metadata": {},
          "execution_count": 27
        }
      ]
    },
    {
      "cell_type": "code",
      "source": [
        "a = 6\n",
        "a + b"
      ],
      "metadata": {
        "id": "ftNPb8ZHiCSA",
        "outputId": "10a4d2f6-1c40-4885-adf4-d8632815858d",
        "colab": {
          "base_uri": "https://localhost:8080/"
        }
      },
      "execution_count": 29,
      "outputs": [
        {
          "output_type": "execute_result",
          "data": {
            "text/plain": [
              "11"
            ]
          },
          "metadata": {},
          "execution_count": 29
        }
      ]
    },
    {
      "cell_type": "code",
      "source": [
        "X = 6\n",
        "x = 5.2\n",
        "print(x) # python is case sensitive with small and caps letters in python coding."
      ],
      "metadata": {
        "id": "rKINi6y7iCaQ",
        "outputId": "92855137-fbe8-4ddb-c370-c6a8b46d0e9c",
        "colab": {
          "base_uri": "https://localhost:8080/"
        }
      },
      "execution_count": 31,
      "outputs": [
        {
          "output_type": "stream",
          "name": "stdout",
          "text": [
            "5.2\n"
          ]
        }
      ]
    },
    {
      "cell_type": "code",
      "source": [
        "x = \"I am\"\n",
        "y = \"Legend!\"\n",
        "print(x)\n",
        "print(y)"
      ],
      "metadata": {
        "id": "KSnLeXHviCc_",
        "outputId": "2753fc8a-3b79-49a7-ee40-45d489d8f08c",
        "colab": {
          "base_uri": "https://localhost:8080/"
        }
      },
      "execution_count": 32,
      "outputs": [
        {
          "output_type": "stream",
          "name": "stdout",
          "text": [
            "I am\n",
            "Legend!\n"
          ]
        }
      ]
    },
    {
      "cell_type": "code",
      "source": [
        "print(x + y)"
      ],
      "metadata": {
        "id": "TK-zCMMBiChl",
        "outputId": "60db861f-5e46-49d6-cf1b-7c4fa16eee92",
        "colab": {
          "base_uri": "https://localhost:8080/"
        }
      },
      "execution_count": 35,
      "outputs": [
        {
          "output_type": "stream",
          "name": "stdout",
          "text": [
            "I amLegend!\n"
          ]
        }
      ]
    },
    {
      "cell_type": "code",
      "source": [
        "print(x, y)"
      ],
      "metadata": {
        "id": "SMdGPUa7iCkm",
        "outputId": "a829af09-7c9f-407a-816c-98627e3ea719",
        "colab": {
          "base_uri": "https://localhost:8080/"
        }
      },
      "execution_count": 36,
      "outputs": [
        {
          "output_type": "stream",
          "name": "stdout",
          "text": [
            "I am Legend!\n"
          ]
        }
      ]
    },
    {
      "cell_type": "code",
      "source": [
        "x = 10\n",
        "X = 20\n",
        "print(X)"
      ],
      "metadata": {
        "id": "zxwse-yoiCml",
        "outputId": "37b7d57c-4275-48cc-94c8-665ae3293c88",
        "colab": {
          "base_uri": "https://localhost:8080/"
        }
      },
      "execution_count": 37,
      "outputs": [
        {
          "output_type": "stream",
          "name": "stdout",
          "text": [
            "20\n"
          ]
        }
      ]
    },
    {
      "cell_type": "code",
      "source": [
        "print(X, x)"
      ],
      "metadata": {
        "id": "RwaC_KfwiCo_",
        "outputId": "d38c7836-f63c-4fe1-cfe2-80e59ff1a6e1",
        "colab": {
          "base_uri": "https://localhost:8080/"
        }
      },
      "execution_count": 38,
      "outputs": [
        {
          "output_type": "stream",
          "name": "stdout",
          "text": [
            "20 10\n"
          ]
        }
      ]
    },
    {
      "cell_type": "code",
      "source": [
        "5_pulkit = 2"
      ],
      "metadata": {
        "id": "ULajgzbFiCvT",
        "outputId": "e45b761b-36bd-45bc-df3f-cc42ee9f587f",
        "colab": {
          "base_uri": "https://localhost:8080/",
          "height": 105
        }
      },
      "execution_count": 43,
      "outputs": [
        {
          "output_type": "error",
          "ename": "SyntaxError",
          "evalue": "invalid decimal literal (<ipython-input-43-1bcd3278c009>, line 1)",
          "traceback": [
            "\u001b[0;36m  File \u001b[0;32m\"<ipython-input-43-1bcd3278c009>\"\u001b[0;36m, line \u001b[0;32m1\u001b[0m\n\u001b[0;31m    5_pulkit = 2\u001b[0m\n\u001b[0m     ^\u001b[0m\n\u001b[0;31mSyntaxError\u001b[0m\u001b[0;31m:\u001b[0m invalid decimal literal\n"
          ]
        }
      ]
    },
    {
      "cell_type": "code",
      "source": [
        "# python on the fly update the memory size for python variables."
      ],
      "metadata": {
        "id": "kcUq5lJTiCxX"
      },
      "execution_count": 42,
      "outputs": []
    },
    {
      "cell_type": "code",
      "source": [
        "pulkit5 = 5"
      ],
      "metadata": {
        "id": "ggE7MPeOiCzl"
      },
      "execution_count": 44,
      "outputs": []
    },
    {
      "cell_type": "code",
      "source": [
        "_pulkit = 20"
      ],
      "metadata": {
        "id": "je1M3BZ3iC37"
      },
      "execution_count": 45,
      "outputs": []
    },
    {
      "cell_type": "code",
      "source": [
        "_ = 10 # highly recommend not to use this."
      ],
      "metadata": {
        "id": "k0__0UKKiC6G"
      },
      "execution_count": 46,
      "outputs": []
    },
    {
      "cell_type": "code",
      "source": [
        "x = 10\n",
        "y = x\n",
        "print(y)"
      ],
      "metadata": {
        "id": "3V5NNz8YiC-t",
        "outputId": "ad79230c-1633-43a7-a4e7-96815c8ebda0",
        "colab": {
          "base_uri": "https://localhost:8080/"
        }
      },
      "execution_count": 47,
      "outputs": [
        {
          "output_type": "stream",
          "name": "stdout",
          "text": [
            "10\n"
          ]
        }
      ]
    },
    {
      "cell_type": "code",
      "source": [
        "x = 5\n",
        "print(x)\n",
        "print(y)"
      ],
      "metadata": {
        "id": "tMPQ9cNfiDDX",
        "outputId": "337ea850-32a4-42ff-8859-e71b0116e209",
        "colab": {
          "base_uri": "https://localhost:8080/"
        }
      },
      "execution_count": 48,
      "outputs": [
        {
          "output_type": "stream",
          "name": "stdout",
          "text": [
            "5\n",
            "10\n"
          ]
        }
      ]
    },
    {
      "cell_type": "code",
      "source": [
        "name = input()\n",
        "print(\"Hello\", name)"
      ],
      "metadata": {
        "id": "CKbVaR7TiDFl",
        "outputId": "00e601d4-79b8-4670-d018-36d661fd77e3",
        "colab": {
          "base_uri": "https://localhost:8080/"
        }
      },
      "execution_count": 49,
      "outputs": [
        {
          "output_type": "stream",
          "name": "stdout",
          "text": [
            "Hurricanes\n",
            "Hello Hurricanes\n"
          ]
        }
      ]
    },
    {
      "cell_type": "code",
      "source": [
        "x = 3\n",
        "y = 'hello'\n",
        "num = y\n",
        "y = 5\n",
        "print(num, y)"
      ],
      "metadata": {
        "id": "MEl58t5uiDIF",
        "outputId": "c3ddb73a-c138-42ca-a6b9-90dee3a8438d",
        "colab": {
          "base_uri": "https://localhost:8080/"
        }
      },
      "execution_count": 50,
      "outputs": [
        {
          "output_type": "stream",
          "name": "stdout",
          "text": [
            "hello 5\n"
          ]
        }
      ]
    },
    {
      "cell_type": "code",
      "source": [
        "# Input Function with numeric data"
      ],
      "metadata": {
        "id": "h7SiYE9Jk3Av"
      },
      "execution_count": 51,
      "outputs": []
    },
    {
      "cell_type": "code",
      "source": [
        "x = input()\n",
        "y = input()\n",
        "x + y"
      ],
      "metadata": {
        "id": "7n_GwzF4iDKd",
        "outputId": "503c3f65-c84d-4646-d867-73929aa1add4",
        "colab": {
          "base_uri": "https://localhost:8080/",
          "height": 69
        }
      },
      "execution_count": 52,
      "outputs": [
        {
          "name": "stdout",
          "output_type": "stream",
          "text": [
            "4 + 5\n",
            "5\n"
          ]
        },
        {
          "output_type": "execute_result",
          "data": {
            "text/plain": [
              "'4 + 55'"
            ],
            "application/vnd.google.colaboratory.intrinsic+json": {
              "type": "string"
            }
          },
          "metadata": {},
          "execution_count": 52
        }
      ]
    },
    {
      "cell_type": "code",
      "source": [
        "x + y"
      ],
      "metadata": {
        "id": "rKmxijegiDMg",
        "outputId": "312bd7b8-6157-46df-a562-3f47db13c8dc",
        "colab": {
          "base_uri": "https://localhost:8080/",
          "height": 35
        }
      },
      "execution_count": 53,
      "outputs": [
        {
          "output_type": "execute_result",
          "data": {
            "text/plain": [
              "'4 + 55'"
            ],
            "application/vnd.google.colaboratory.intrinsic+json": {
              "type": "string"
            }
          },
          "metadata": {},
          "execution_count": 53
        }
      ]
    },
    {
      "cell_type": "code",
      "source": [
        "x = input()\n",
        "y = input()\n",
        "x + y # python doing here as concatination in terms of input() function.\n",
        "# example of python's flexibility"
      ],
      "metadata": {
        "id": "yZjS1NQ0iDPF",
        "outputId": "ea6a55b6-7d5d-4a79-d907-1ea9fb7b32f3",
        "colab": {
          "base_uri": "https://localhost:8080/",
          "height": 69
        }
      },
      "execution_count": 56,
      "outputs": [
        {
          "name": "stdout",
          "output_type": "stream",
          "text": [
            "4\n",
            "5 str\n"
          ]
        },
        {
          "output_type": "execute_result",
          "data": {
            "text/plain": [
              "'45 str'"
            ],
            "application/vnd.google.colaboratory.intrinsic+json": {
              "type": "string"
            }
          },
          "metadata": {},
          "execution_count": 56
        }
      ]
    },
    {
      "cell_type": "code",
      "source": [
        "print(type(x)) # example of python flexibility\n",
        "print(type(y))"
      ],
      "metadata": {
        "id": "Itmt0KP2iDRO",
        "outputId": "a549746c-8d2b-43c6-f48c-e7469fad93d6",
        "colab": {
          "base_uri": "https://localhost:8080/"
        }
      },
      "execution_count": 58,
      "outputs": [
        {
          "output_type": "stream",
          "name": "stdout",
          "text": [
            "<class 'str'>\n",
            "<class 'str'>\n"
          ]
        }
      ]
    },
    {
      "cell_type": "code",
      "source": [
        "x = input()\n",
        "y = input()\n",
        "int(x) + int(y) # example of python's flexibility and doing here type casting with help of int function in python."
      ],
      "metadata": {
        "id": "hn2yUxM2iDTw",
        "outputId": "70331541-d304-49ef-cdde-9fa1b2707420",
        "colab": {
          "base_uri": "https://localhost:8080/"
        }
      },
      "execution_count": 60,
      "outputs": [
        {
          "name": "stdout",
          "output_type": "stream",
          "text": [
            "4\n",
            "5\n"
          ]
        },
        {
          "output_type": "execute_result",
          "data": {
            "text/plain": [
              "9"
            ]
          },
          "metadata": {},
          "execution_count": 60
        }
      ]
    },
    {
      "cell_type": "code",
      "source": [
        "x = float(input())\n",
        "y = float(input())\n",
        "x + y"
      ],
      "metadata": {
        "id": "vlMF0uiUiDVn",
        "outputId": "5c5fedda-86a3-400a-a0bf-9b0ce805f8e9",
        "colab": {
          "base_uri": "https://localhost:8080/"
        }
      },
      "execution_count": 61,
      "outputs": [
        {
          "name": "stdout",
          "output_type": "stream",
          "text": [
            "10\n",
            "5.11\n"
          ]
        },
        {
          "output_type": "execute_result",
          "data": {
            "text/plain": [
              "15.11"
            ]
          },
          "metadata": {},
          "execution_count": 61
        }
      ]
    },
    {
      "cell_type": "code",
      "source": [
        "c = input() # python flexibility with input function.\n",
        "d = input()\n",
        "c + d"
      ],
      "metadata": {
        "id": "83aYn0UViDYF",
        "outputId": "d4e6d0bf-9f18-4cad-e74a-c5d42960ceec",
        "colab": {
          "base_uri": "https://localhost:8080/",
          "height": 69
        }
      },
      "execution_count": 63,
      "outputs": [
        {
          "name": "stdout",
          "output_type": "stream",
          "text": [
            "11.22\n",
            "33.44\n"
          ]
        },
        {
          "output_type": "execute_result",
          "data": {
            "text/plain": [
              "'11.2233.44'"
            ],
            "application/vnd.google.colaboratory.intrinsic+json": {
              "type": "string"
            }
          },
          "metadata": {},
          "execution_count": 63
        }
      ]
    },
    {
      "cell_type": "code",
      "source": [
        "e = \"this is a string\"\n",
        "int(e)"
      ],
      "metadata": {
        "id": "j05mGYJSiDai",
        "outputId": "c5e4bb0e-4254-413d-d2b3-b0bbeab37620",
        "colab": {
          "base_uri": "https://localhost:8080/",
          "height": 156
        }
      },
      "execution_count": 65,
      "outputs": [
        {
          "output_type": "error",
          "ename": "ValueError",
          "evalue": "invalid literal for int() with base 10: 'this is a string'",
          "traceback": [
            "\u001b[0;31m---------------------------------------------------------------------------\u001b[0m",
            "\u001b[0;31mValueError\u001b[0m                                Traceback (most recent call last)",
            "\u001b[0;32m<ipython-input-65-cf4a813468dd>\u001b[0m in \u001b[0;36m<cell line: 2>\u001b[0;34m()\u001b[0m\n\u001b[1;32m      1\u001b[0m \u001b[0me\u001b[0m \u001b[0;34m=\u001b[0m \u001b[0;34m\"this is a string\"\u001b[0m\u001b[0;34m\u001b[0m\u001b[0;34m\u001b[0m\u001b[0m\n\u001b[0;32m----> 2\u001b[0;31m \u001b[0mint\u001b[0m\u001b[0;34m(\u001b[0m\u001b[0me\u001b[0m\u001b[0;34m)\u001b[0m\u001b[0;34m\u001b[0m\u001b[0;34m\u001b[0m\u001b[0m\n\u001b[0m",
            "\u001b[0;31mValueError\u001b[0m: invalid literal for int() with base 10: 'this is a string'"
          ]
        }
      ]
    },
    {
      "cell_type": "code",
      "source": [
        "f = \"10.5\"\n",
        "int(f)\n",
        "'''\n",
        "The error you're encountering occurs because you're trying to convert a **string** representing a **floating-point number** (`\"10.5\"`) directly into an integer using `int()`, but the string contains a decimal point, which is not allowed when converting to an integer.\n",
        "\n",
        "### Solution:\n",
        "To convert a string with a decimal (like `\"10.5\"`) to an integer, you need to first convert it to a **float**, and then convert that float to an integer.\n",
        "\n",
        "### Corrected Code:\n",
        "\n",
        "```python\n",
        "f = \"10.5\"\n",
        "# First, convert the string to a float, then to an int\n",
        "result = int(float(f))\n",
        "print(result)\n",
        "```\n",
        "\n",
        "### Explanation:\n",
        "1. **`float(f)`**: This converts the string `\"10.5\"` to the floating-point number `10.5`.\n",
        "2. **`int(float(f))`**: This converts the floating-point number `10.5` to an integer (`10`), which drops the decimal part.\n",
        "\n",
        "### Output:\n",
        "```\n",
        "10\n",
        "```\n",
        "\n",
        "This approach works because:\n",
        "- The string `\"10.5\"` is first interpreted as a float (`10.5`).\n",
        "- Then, converting `10.5` to an integer using `int()` results in the integer part (`10`).\n",
        "\n",
        "If you want to **round** to the nearest integer instead of truncating (just dropping the decimal), you could use the `round()` function:\n",
        "\n",
        "```python\n",
        "f = \"10.5\"\n",
        "result = round(float(f))\n",
        "print(result)\n",
        "```\n",
        "\n",
        "This would output `10` for `\"10.5\"`, but it will output `11` for `\"10.7\"`.\n",
        "\n",
        "Let me know if you have more questions!\n",
        "'''"
      ],
      "metadata": {
        "id": "6MVTnSUuiDe-",
        "outputId": "cdfc024e-d779-438d-bfda-f52abb6aaea3",
        "colab": {
          "base_uri": "https://localhost:8080/",
          "height": 224
        }
      },
      "execution_count": 68,
      "outputs": [
        {
          "output_type": "error",
          "ename": "ValueError",
          "evalue": "invalid literal for int() with base 10: '10.5'",
          "traceback": [
            "\u001b[0;31m---------------------------------------------------------------------------\u001b[0m",
            "\u001b[0;31mValueError\u001b[0m                                Traceback (most recent call last)",
            "\u001b[0;32m<ipython-input-68-e2b770898fef>\u001b[0m in \u001b[0;36m<cell line: 2>\u001b[0;34m()\u001b[0m\n\u001b[1;32m      1\u001b[0m \u001b[0mf\u001b[0m \u001b[0;34m=\u001b[0m \u001b[0;34m\"10.5\"\u001b[0m\u001b[0;34m\u001b[0m\u001b[0;34m\u001b[0m\u001b[0m\n\u001b[0;32m----> 2\u001b[0;31m \u001b[0mint\u001b[0m\u001b[0;34m(\u001b[0m\u001b[0mf\u001b[0m\u001b[0;34m)\u001b[0m\u001b[0;34m\u001b[0m\u001b[0;34m\u001b[0m\u001b[0m\n\u001b[0m\u001b[1;32m      3\u001b[0m '''\n\u001b[1;32m      4\u001b[0m \u001b[0mThe\u001b[0m \u001b[0merror\u001b[0m \u001b[0myou\u001b[0m\u001b[0;34m're encountering occurs because you'\u001b[0m\u001b[0mre\u001b[0m \u001b[0mtrying\u001b[0m \u001b[0mto\u001b[0m \u001b[0mconvert\u001b[0m \u001b[0ma\u001b[0m \u001b[0;34m**\u001b[0m\u001b[0mstring\u001b[0m\u001b[0;34m**\u001b[0m \u001b[0mrepresenting\u001b[0m \u001b[0ma\u001b[0m \u001b[0;34m**\u001b[0m\u001b[0mfloating\u001b[0m\u001b[0;34m-\u001b[0m\u001b[0mpoint\u001b[0m \u001b[0mnumber\u001b[0m\u001b[0;34m**\u001b[0m \u001b[0;34m(\u001b[0m\u001b[0;31m`\u001b[0m\u001b[0;34m\"10.5\"\u001b[0m\u001b[0;31m`\u001b[0m\u001b[0;34m)\u001b[0m \u001b[0mdirectly\u001b[0m \u001b[0minto\u001b[0m \u001b[0man\u001b[0m \u001b[0minteger\u001b[0m \u001b[0musing\u001b[0m\u001b[0;31m \u001b[0m\u001b[0;31m`\u001b[0m\u001b[0mint\u001b[0m\u001b[0;34m(\u001b[0m\u001b[0;34m)\u001b[0m\u001b[0;31m`\u001b[0m\u001b[0;34m,\u001b[0m \u001b[0mbut\u001b[0m \u001b[0mthe\u001b[0m \u001b[0mstring\u001b[0m \u001b[0mcontains\u001b[0m \u001b[0ma\u001b[0m \u001b[0mdecimal\u001b[0m \u001b[0mpoint\u001b[0m\u001b[0;34m,\u001b[0m \u001b[0mwhich\u001b[0m \u001b[0;32mis\u001b[0m \u001b[0;32mnot\u001b[0m \u001b[0mallowed\u001b[0m \u001b[0mwhen\u001b[0m \u001b[0mconverting\u001b[0m \u001b[0mto\u001b[0m \u001b[0man\u001b[0m \u001b[0minteger\u001b[0m\u001b[0;34m.\u001b[0m\u001b[0;34m\u001b[0m\u001b[0;34m\u001b[0m\u001b[0m\n\u001b[1;32m      5\u001b[0m \u001b[0;34m\u001b[0m\u001b[0m\n",
            "\u001b[0;31mValueError\u001b[0m: invalid literal for int() with base 10: '10.5'"
          ]
        }
      ]
    },
    {
      "cell_type": "code",
      "source": [
        "g = \"11\"\n",
        "int(g)"
      ],
      "metadata": {
        "id": "GsSxSErriDhl",
        "outputId": "f463d65b-33b1-4916-915a-96eb9be0d354",
        "colab": {
          "base_uri": "https://localhost:8080/"
        }
      },
      "execution_count": 67,
      "outputs": [
        {
          "output_type": "execute_result",
          "data": {
            "text/plain": [
              "11"
            ]
          },
          "metadata": {},
          "execution_count": 67
        }
      ]
    },
    {
      "cell_type": "code",
      "source": [
        "h = 10\n",
        "print(str(10))"
      ],
      "metadata": {
        "id": "yg4qMl7hiDj8",
        "outputId": "b39e54cc-572c-4d55-dddb-cf2b3f88fb51",
        "colab": {
          "base_uri": "https://localhost:8080/"
        }
      },
      "execution_count": 69,
      "outputs": [
        {
          "output_type": "stream",
          "name": "stdout",
          "text": [
            "10\n"
          ]
        }
      ]
    },
    {
      "cell_type": "code",
      "source": [
        "type(None)"
      ],
      "metadata": {
        "id": "EeNmF_B0iDmV",
        "outputId": "4daa1613-079f-4309-a545-ab505d8e63e4",
        "colab": {
          "base_uri": "https://localhost:8080/"
        }
      },
      "execution_count": 70,
      "outputs": [
        {
          "output_type": "execute_result",
          "data": {
            "text/plain": [
              "NoneType"
            ]
          },
          "metadata": {},
          "execution_count": 70
        }
      ]
    },
    {
      "cell_type": "code",
      "source": [
        "int(x) = input() # doubt from the class."
      ],
      "metadata": {
        "id": "qNZHSupPiDo1",
        "outputId": "5e034394-4edf-4cf0-8447-d88e703a3159",
        "colab": {
          "base_uri": "https://localhost:8080/",
          "height": 105
        }
      },
      "execution_count": 71,
      "outputs": [
        {
          "output_type": "error",
          "ename": "SyntaxError",
          "evalue": "cannot assign to function call here. Maybe you meant '==' instead of '='? (<ipython-input-71-68a52920fc39>, line 1)",
          "traceback": [
            "\u001b[0;36m  File \u001b[0;32m\"<ipython-input-71-68a52920fc39>\"\u001b[0;36m, line \u001b[0;32m1\u001b[0m\n\u001b[0;31m    int(x) = input() # doubt from the class.\u001b[0m\n\u001b[0m    ^\u001b[0m\n\u001b[0;31mSyntaxError\u001b[0m\u001b[0;31m:\u001b[0m cannot assign to function call here. Maybe you meant '==' instead of '='?\n"
          ]
        }
      ]
    },
    {
      "cell_type": "code",
      "source": [
        "def main():\n",
        "\n",
        "  return 0"
      ],
      "metadata": {
        "id": "YTgpI-QRiDrc"
      },
      "execution_count": 72,
      "outputs": []
    },
    {
      "cell_type": "code",
      "source": [
        "main()"
      ],
      "metadata": {
        "id": "KiLi0eLbiDt9",
        "outputId": "5164e95c-0ad0-42c5-cca0-16785fab1d2e",
        "colab": {
          "base_uri": "https://localhost:8080/"
        }
      },
      "execution_count": 73,
      "outputs": [
        {
          "output_type": "stream",
          "name": "stdout",
          "text": [
            "This is main def function in python.\n"
          ]
        },
        {
          "output_type": "execute_result",
          "data": {
            "text/plain": [
              "0"
            ]
          },
          "metadata": {},
          "execution_count": 73
        }
      ]
    },
    {
      "cell_type": "code",
      "source": [
        "# Assignment questions"
      ],
      "metadata": {
        "id": "Ogd0fGSBiDwM"
      },
      "execution_count": 74,
      "outputs": []
    },
    {
      "cell_type": "code",
      "source": [
        "def main():\n",
        "  A = input()\n",
        "  print(\"Hello\", A)\n",
        "  return 0"
      ],
      "metadata": {
        "id": "YvDa6bfOiEJd"
      },
      "execution_count": 87,
      "outputs": []
    },
    {
      "cell_type": "code",
      "source": [
        "main()"
      ],
      "metadata": {
        "id": "s0aRmxymiEL1",
        "outputId": "8055bd7e-ba83-4a37-f381-5638a2de7947",
        "colab": {
          "base_uri": "https://localhost:8080/"
        }
      },
      "execution_count": 88,
      "outputs": [
        {
          "output_type": "stream",
          "name": "stdout",
          "text": [
            "Hurricanes\n",
            "Hello Hurricanes\n"
          ]
        },
        {
          "output_type": "execute_result",
          "data": {
            "text/plain": [
              "0"
            ]
          },
          "metadata": {},
          "execution_count": 88
        }
      ]
    },
    {
      "cell_type": "code",
      "source": [
        "print(6+3)\n",
        "print(6-3)\n",
        "print(6*3)\n",
        "print(6/3)"
      ],
      "metadata": {
        "id": "kSf2L5UgiEOG",
        "outputId": "929cc3d0-0821-4e3b-8eb6-71ad24d6467e",
        "colab": {
          "base_uri": "https://localhost:8080/"
        }
      },
      "execution_count": 90,
      "outputs": [
        {
          "output_type": "stream",
          "name": "stdout",
          "text": [
            "9\n",
            "3\n",
            "18\n",
            "2.0\n"
          ]
        }
      ]
    },
    {
      "cell_type": "code",
      "source": [
        "print(6+3, 6-3, 6*3, 6/3, sep=\"\\n\") # trick and short cut way of write code in python optimise with sep=\"\\n\""
      ],
      "metadata": {
        "id": "OCVaXOVciEQN",
        "outputId": "a921b69b-0d21-4d14-cd50-f8584bb4ea80",
        "colab": {
          "base_uri": "https://localhost:8080/"
        }
      },
      "execution_count": 92,
      "outputs": [
        {
          "output_type": "stream",
          "name": "stdout",
          "text": [
            "9\n",
            "3\n",
            "18\n",
            "2.0\n"
          ]
        }
      ]
    },
    {
      "cell_type": "code",
      "source": [
        "print(\"A\", \"B\", \"C\", \"D\", \"E\", sep=\"\\n\")"
      ],
      "metadata": {
        "id": "p1ljfMCTiEU5",
        "outputId": "4e93b29a-7001-444e-fa99-5c9c0f4d9cd0",
        "colab": {
          "base_uri": "https://localhost:8080/"
        }
      },
      "execution_count": 93,
      "outputs": [
        {
          "output_type": "stream",
          "name": "stdout",
          "text": [
            "A\n",
            "B\n",
            "C\n",
            "D\n",
            "E\n"
          ]
        }
      ]
    },
    {
      "cell_type": "code",
      "source": [
        "print(\"A\", 6+3, \"B\", \"A+B\", sep=\"\\n\")"
      ],
      "metadata": {
        "id": "l0V3PlFxiEXe",
        "outputId": "0d592d4e-cf83-4fd9-bbdd-4889ecd38ca7",
        "colab": {
          "base_uri": "https://localhost:8080/"
        }
      },
      "execution_count": 94,
      "outputs": [
        {
          "output_type": "stream",
          "name": "stdout",
          "text": [
            "A\n",
            "9\n",
            "B\n",
            "A+B\n"
          ]
        }
      ]
    },
    {
      "cell_type": "code",
      "source": [],
      "metadata": {
        "id": "aI_28mD9iEeG"
      },
      "execution_count": null,
      "outputs": []
    },
    {
      "cell_type": "code",
      "source": [],
      "metadata": {
        "id": "jCRQKb6OiEgm"
      },
      "execution_count": null,
      "outputs": []
    },
    {
      "cell_type": "code",
      "source": [],
      "metadata": {
        "id": "rNrYnvtSiElB"
      },
      "execution_count": null,
      "outputs": []
    },
    {
      "cell_type": "code",
      "source": [],
      "metadata": {
        "id": "aTjeyZGQiE4X"
      },
      "execution_count": null,
      "outputs": []
    },
    {
      "cell_type": "code",
      "source": [],
      "metadata": {
        "id": "aqbyGeVfiE6o"
      },
      "execution_count": null,
      "outputs": []
    },
    {
      "cell_type": "code",
      "source": [],
      "metadata": {
        "id": "OLXUkwUViE_H"
      },
      "execution_count": null,
      "outputs": []
    },
    {
      "cell_type": "code",
      "source": [],
      "metadata": {
        "id": "Q7qafB5riFBd"
      },
      "execution_count": null,
      "outputs": []
    },
    {
      "cell_type": "code",
      "source": [],
      "metadata": {
        "id": "QRi0_az9iFEF"
      },
      "execution_count": null,
      "outputs": []
    },
    {
      "cell_type": "code",
      "source": [],
      "metadata": {
        "id": "QO8guVJwiFIn"
      },
      "execution_count": null,
      "outputs": []
    },
    {
      "cell_type": "code",
      "source": [],
      "metadata": {
        "id": "APCx9KKciFK2"
      },
      "execution_count": null,
      "outputs": []
    },
    {
      "cell_type": "code",
      "source": [],
      "metadata": {
        "id": "rcUjs0GHiFM4"
      },
      "execution_count": null,
      "outputs": []
    },
    {
      "cell_type": "code",
      "source": [],
      "metadata": {
        "id": "l-_y-nZKiFPW"
      },
      "execution_count": null,
      "outputs": []
    }
  ]
}