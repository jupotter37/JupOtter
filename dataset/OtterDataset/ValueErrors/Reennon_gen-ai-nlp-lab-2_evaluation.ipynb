{
 "cells": [
  {
   "cell_type": "code",
   "execution_count": 2,
   "metadata": {
    "collapsed": true,
    "ExecuteTime": {
     "end_time": "2025-01-08T19:52:01.693870Z",
     "start_time": "2025-01-08T19:52:00.802981Z"
    }
   },
   "outputs": [],
   "source": [
    "import os\n",
    "\n",
    "import deepl\n",
    "import pandas as pd\n",
    "from dotenv import load_dotenv\n",
    "from tqdm import tqdm\n",
    "import tiktoken\n",
    "from openai import OpenAI\n",
    "import faiss\n",
    "import numpy as np\n",
    "\n",
    "\n",
    "# Enable tqdm for pandas\n",
    "tqdm.pandas()"
   ]
  },
  {
   "cell_type": "code",
   "execution_count": 3,
   "outputs": [
    {
     "data": {
      "text/plain": "True"
     },
     "execution_count": 3,
     "metadata": {},
     "output_type": "execute_result"
    }
   ],
   "source": [
    "load_dotenv(\"./../.env\")"
   ],
   "metadata": {
    "collapsed": false,
    "ExecuteTime": {
     "end_time": "2025-01-08T19:52:01.831633Z",
     "start_time": "2025-01-08T19:52:01.827004Z"
    }
   }
  },
  {
   "cell_type": "code",
   "execution_count": 4,
   "outputs": [],
   "source": [
    "openai_api_key = os.getenv(\"OPENAI_API_KEY\")"
   ],
   "metadata": {
    "collapsed": false,
    "ExecuteTime": {
     "end_time": "2025-01-08T19:52:02.786017Z",
     "start_time": "2025-01-08T19:52:02.782648Z"
    }
   }
  },
  {
   "cell_type": "code",
   "execution_count": 5,
   "outputs": [],
   "source": [
    "client = OpenAI(api_key=openai_api_key)\n",
    "\n",
    "def get_embedding(text, model=\"text-embedding-ada-002\"):\n",
    "    response = client.embeddings.create(input=text, model=model)\n",
    "    return response.data[0].embedding\n",
    "\n",
    "model = \"text-embedding-ada-002\""
   ],
   "metadata": {
    "collapsed": false,
    "ExecuteTime": {
     "end_time": "2025-01-08T19:52:03.461606Z",
     "start_time": "2025-01-08T19:52:03.417746Z"
    }
   }
  },
  {
   "cell_type": "code",
   "execution_count": 6,
   "outputs": [],
   "source": [
    "index = faiss.read_index('../datasets/math-500-uk.index')\n",
    "inference_df = pd.read_csv('../datasets/math-500-uk-inference.csv')\n",
    "test_df = pd.read_csv('../datasets/math-500-uk-test.csv')"
   ],
   "metadata": {
    "collapsed": false,
    "ExecuteTime": {
     "end_time": "2025-01-08T19:52:04.988439Z",
     "start_time": "2025-01-08T19:52:04.829200Z"
    }
   }
  },
  {
   "cell_type": "code",
   "execution_count": 26,
   "outputs": [
    {
     "data": {
      "text/plain": "                                               problem  \\\n222  The area of $\\triangle ABC$ is 6 square centim...   \n308  Let $ABCD$ be a regular tetrahedron with side ...   \n299  Consider the rectangle with vertices at $(5,4)...   \n169  What is the number of square units in the area...   \n123  In the diagram, $D$ and $E$ are the midpoints ...   \n152  The medians $AD$, $BE$, and $CF$ of triangle $...   \n154  A gecko is in a room that is 12 feet long, 10 ...   \n100  A hexagon is inscribed in a circle: [asy]\\npai...   \n129  In triangle $ABC$, $AB = 17$, $AC = 8$, and $B...   \n264  In the figure below, quadrilateral $CDEG$ is a...   \n274  Let $S$ be the union of the set of all points ...   \n41   The coordinates of a parallelogram are (5, 3),...   \n476  Jim and Martha are standing together at the co...   \n179  Find the equation of the plane containing the ...   \n192  In $\\triangle PQR$, we have $PQ = QR = 34$ and...   \n243  A triangle has sides measuring 1 unit and 3 un...   \n267  In circle $J$, $HO$ and $HN$ are tangent to th...   \n426  A square and an equilateral triangle have\\tequ...   \n382  A rectangular field is enclosed in an athletic...   \n376  Determine the coordinates of the point $P$ on ...   \n261  A triangle $\\triangle ABC$ with $\\angle A = 14...   \n67   The lengths of two opposite sides of a square ...   \n239  The parallelogram bounded by the lines $y=ax+c...   \n368  Two sides of a triangle are each $8$ units lon...   \n72   What is the length, in units, of the radius of...   \n\n                                              solution                 answer  \\\n222  Since $AB \\parallel DE,$ we know that $\\angle ...                     54   \n308  The plane intersects each face of the tetrahed...            1+2\\sqrt{3}   \n299  Points with integer coordinates are called lat...                     63   \n169  This triangle is isosceles, and so the altitud...                     12   \n123  $\\triangle DBC$ has base $\\overline{BC}$ of le...                      8   \n152  Since $E$ is the midpoint of $AC$, the area of...                      8   \n154  [asy]\\nimport three;\\ncurrentprojection=orthog...            2\\sqrt{113}   \n100  Labeling our vertices will help a great deal, ...              145^\\circ   \n129  By Pythagoras, $\\angle C = 90^\\circ$.  Triangl...       \\frac{3840}{289}   \n264  Let $J$ be the intersection of $\\overline{BE}$...           1\\frac{4}{5}   \n274  $S$ looks like a nonagon with slightly rounded...                18+2\\pi   \n41   Name the points $A(5,3)$, $B(6,8)$, $C(7,4)$, ...                     17   \n476  The diagonal of the field is $\\sqrt{300^2+400^...                    200   \n179  Let $\\mathbf{a} = \\begin{pmatrix} 0 \\\\ -1 \\\\ -...  5x - 7y + 11z + 4 = 0   \n192  Because $\\triangle PQR$ is isosceles with $PQ=...                     30   \n243  Call the length of the third side $n$. By the ...                      3   \n267  Since $\\overline{OH}$ and $\\overline{NH}$ are ...              180^\\circ   \n426  If we let $x = $ the side length of the triang...              6\\sqrt{2}   \n382  Let the width of the rectangle be $w,$ and let...      \\frac{20000}{\\pi}   \n376  If $P$ is equidistant from $A$ and $O$, it mus...                 (8,-2)   \n261  If $AB$ is a diameter, that means the triangle...               76^\\circ   \n67   Let $A$ be the area of the square. The lengths...                     10   \n239  Two vertices of the first parallelogram are at...                     16   \n368  The Triangle Inequality says that the sum of t...                     31   \n72   The volume of a sphere is $\\frac{4}{3}\\pi r^3$...                      3   \n\n                  subject                                              level  \\\n222              Geometry  High-Level Math Competition Problems; Regional...   \n308              Geometry  Advanced Math Competitions; International Olym...   \n299              Geometry  High-Level Math Competition Problems; Regional...   \n169              Geometry                      Foundational High-School Math   \n123              Geometry  High-Level Math Competition Problems; Regional...   \n152              Geometry  Advanced Math Competitions; International Olym...   \n154              Geometry  Advanced Math Competitions; International Olym...   \n100              Geometry  Advanced Math Competitions; International Olym...   \n129              Geometry  Advanced Math Competitions; International Olym...   \n264              Geometry  Advanced Math Competitions; International Olym...   \n274              Geometry  Advanced Math Competitions; International Olym...   \n41               Geometry  High-Level Math Competition Problems; Regional...   \n476            Prealgebra                      Foundational High-School Math   \n179           Precalculus  High-Level Math Competition Problems; Regional...   \n192              Geometry  High-School Intermediate Level Competition Mat...   \n243              Geometry                      Foundational High-School Math   \n267              Geometry                                Basic Math Concepts   \n426              Geometry  High-School Intermediate Level Competition Mat...   \n382  Intermediate Algebra  Advanced Math Competitions; International Olym...   \n376              Geometry  High-Level Math Competition Problems; Regional...   \n261              Geometry  High-School Intermediate Level Competition Mat...   \n67             Prealgebra  High-Level Math Competition Problems; Regional...   \n239              Geometry  Advanced Math Competitions; International Olym...   \n368              Geometry                      Foundational High-School Math   \n72               Geometry                      Foundational High-School Math   \n\n                               unique_id  original_level  problem_char_count  \\\n222               test/geometry/547.json               4                 342   \n308               test/geometry/711.json               5                 203   \n299              test/geometry/1097.json               4                 156   \n169               test/geometry/802.json               2                  98   \n123               test/geometry/283.json               4                 568   \n152               test/geometry/172.json               5                 260   \n154               test/geometry/880.json               5                 546   \n100               test/geometry/183.json               5                 409   \n129              test/geometry/1140.json               5                 143   \n264               test/geometry/826.json               5                 619   \n274               test/geometry/686.json               5                 235   \n41                test/geometry/627.json               4                 117   \n476            test/prealgebra/1252.json               2                 277   \n179            test/precalculus/659.json               4                 237   \n192               test/geometry/221.json               3                 101   \n243               test/geometry/254.json               2                 157   \n267               test/geometry/226.json               1                 500   \n426               test/geometry/843.json               3                 390   \n382  test/intermediate_algebra/1111.json               5                 489   \n376               test/geometry/538.json               4                 210   \n261               test/geometry/347.json               3                 140   \n67             test/prealgebra/1233.json               4                 204   \n239               test/geometry/229.json               5                 296   \n368               test/geometry/106.json               2                 162   \n72                test/geometry/456.json               2                 156   \n\n     solution_char_count  subject_char_count  ...  \\\n222                  424                   8  ...   \n308                  375                   8  ...   \n299                  387                   8  ...   \n169                  337                   8  ...   \n123                  587                   8  ...   \n152                  873                   8  ...   \n154                 3356                   8  ...   \n100                 1259                   8  ...   \n129                  621                   8  ...   \n264                 1352                   8  ...   \n274                 1677                   8  ...   \n41                  1041                   8  ...   \n476                  227                  10  ...   \n179                  915                  11  ...   \n192                  598                   8  ...   \n243                  157                   8  ...   \n267                  301                   8  ...   \n426                 1134                   8  ...   \n382                  808                  20  ...   \n376                  641                   8  ...   \n261                  236                   8  ...   \n67                   269                  10  ...   \n239                 1317                   8  ...   \n368                  334                   8  ...   \n72                   219                   8  ...   \n\n                                    problem_translated  \\\n222  Площа $\\трикутника ABC$ дорівнює 6 квадратних ...   \n308  Нехай $ABCD$ - правильний тетраедр зі стороною...   \n299  Розглянемо прямокутник з вершинами $(5,4),$ $(...   \n169  Скільки квадратних одиниць міститься у площі т...   \n123  На рисунку $D$ і $E$ - середини відрізків $\\ov...   \n152  Медіани $AD$, $BE$ і $CF$ трикутника $ABC$ пер...   \n154  Гекон знаходиться у кімнаті довжиною 12 футів,...   \n100  У коло вписано шестикутник: [asy].\\nпара pA, p...   \n129  У трикутнику $ABC$, $AB = 17$, $AC = 8$ і $BC ...   \n264  На рисунку нижче чотирикутник $CDEG$ є квадрат...   \n274  Нехай $S$ - це об'єднання множини всіх точок в...   \n41   Координати паралелограма: (5, 3), (6, 8), (7, ...   \n476  Джим і Марта стоять разом на розі прямокутного...   \n179  Знайти рівняння площини, яка містить точки $(0...   \n192  У $\\triangle PQR$ маємо $PQ = QR = 34$ і $PR =...   \n243  Трикутник має сторони, довжини яких дорівнюють...   \n267  У колі $J$, $HO$ і $HN$ проведені дотичні до к...   \n426  Квадрат і рівносторонній трикутник мають рівні...   \n382  Прямокутне поле оточене легкоатлетичною доріжк...   \n376  Визначте координати точки $P$ на прямій $y=-x+...   \n261  Трикутник $\\triangle ABC$ з $\\angle A = 14^\\ci...   \n67   Довжини двох протилежних сторін квадрата зменш...   \n239  Паралелограм, обмежений прямими $y=ax+c$, $y=a...   \n368  Дві сторони трикутника мають довжину по $8$ од...   \n72   Яка довжина в одиницях радіуса сфери, об'єм і ...   \n\n                                   solution_translated    subject_translated  \\\n222  Оскільки $AB \\паралельний DE,$ ми знаємо, що $...             Геометрія   \n308  Площина перетинає кожну грань тетраедра по сер...             Геометрія   \n299  Точки з цілочисельними координатами називаютьс...             Геометрія   \n169  Цей трикутник рівнобедрений, тому висота, пров...             Геометрія   \n123  Трикутник $\\triangle DBC$ має основу $\\overlin...             Геометрія   \n152  Оскільки $E$ є серединою $AC$, то площа трикут...             Геометрія   \n154  [asy]\\nімпортувати три;\\ncurrentprojection=ort...             Геометрія   \n100  Позначення наших вершин дуже допоможе, так сам...             Геометрія   \n129  За теоремою Піфагора, $\\кут C = 90^\\circ$.  Тр...             Геометрія   \n264  Нехай $J$ є перетином $\\overline{BE}$ та $\\ove...             Геометрія   \n274  $S$ виглядає як нонагон зі злегка заокругленим...             Геометрія   \n41   Назвіть точки $A(5,3)$, $B(6,8)$, $C(7,4)$ та ...             Геометрія   \n476  Діагональ поля дорівнює $\\sqrt{300^2+400^2}=50...            Преалгебра   \n179  Нехай $\\mathbf{a} = \\begin{pmatrix} 0 \\\\ -1 \\\\...  Попереднє обчислення   \n192  Оскільки $\\трикутник PQR$ рівнобедрений з $PQ=...             Геометрія   \n243  Назвемо довжину третьої сторони $n$. За нерівн...             Геометрія   \n267  Оскільки $\\overline{OH}$ і $\\overline{NH}$ є д...             Геометрія   \n426  Якщо нехай $x = $ довжина сторони трикутника, ...             Геометрія   \n382  Нехай ширина прямокутника дорівнює $w,$, а рад...      Проміжна алгебра   \n376  Якщо точка $P$ рівновіддалена від точок $A$ і ...             Геометрія   \n261  Якщо $AB$ є діаметром, то це означає, що трику...             Геометрія   \n67   Нехай $A$ - площа квадрата. Довжини однієї пар...            Преалгебра   \n239  Дві вершини першого паралелограма знаходяться ...             Геометрія   \n368  Нерівність трикутника говорить, що сума довжин...             Геометрія   \n72   Об'єм кулі дорівнює $\\frac{4}{3}\\pi r^3$, а пл...             Геометрія   \n\n                                      level_translated  \\\n222  Математичні олімпіадні задачі високого рівня; ...   \n308  Поглиблені математичні змагання; міжнародна ол...   \n299  Математичні олімпіадні задачі високого рівня; ...   \n169      Фундаментальна математика для середньої школи   \n123  Математичні олімпіадні задачі високого рівня; ...   \n152  Поглиблені математичні змагання; міжнародна ол...   \n154  Поглиблені математичні змагання; міжнародна ол...   \n100  Поглиблені математичні змагання; міжнародна ол...   \n129  Поглиблені математичні змагання; міжнародна ол...   \n264  Поглиблені математичні змагання; міжнародна ол...   \n274  Поглиблені математичні змагання; міжнародна ол...   \n41   Математичні олімпіадні задачі високого рівня; ...   \n476      Фундаментальна математика для середньої школи   \n179  Математичні олімпіадні задачі високого рівня; ...   \n192  Олімпіада з математики для середнього рівня дл...   \n243      Фундаментальна математика для середньої школи   \n267                        Основні математичні поняття   \n426  Олімпіада з математики для середнього рівня дл...   \n382  Поглиблені математичні змагання; міжнародна ол...   \n376  Математичні олімпіадні задачі високого рівня; ...   \n261  Олімпіада з математики для середнього рівня дл...   \n67   Математичні олімпіадні задачі високого рівня; ...   \n239  Поглиблені математичні змагання; міжнародна ол...   \n368      Фундаментальна математика для середньої школи   \n72       Фундаментальна математика для середньої школи   \n\n    problem_translated_token_count  solution_translated_token_count  \\\n222                            176                              272   \n308                            117                              191   \n299                             85                              209   \n169                             62                              225   \n123                            271                              318   \n152                            145                              453   \n154                            329                             1887   \n100                            199                              629   \n129                             73                              305   \n264                            335                              768   \n274                            141                              948   \n41                              60                              540   \n476                            131                              128   \n179                            136                              423   \n192                             50                              314   \n243                            110                              101   \n267                            217                              146   \n426                            224                              624   \n382                            243                              425   \n376                            118                              387   \n261                             58                              121   \n67                             104                              142   \n239                            155                              705   \n368                             89                              200   \n72                              81                              136   \n\n     subject_translated_token_count  level_translated_token_count  \\\n222                               7                            50   \n308                               7                            56   \n299                               7                            50   \n169                               7                            23   \n123                               7                            50   \n152                               7                            56   \n154                               7                            56   \n100                               7                            56   \n129                               7                            56   \n264                               7                            56   \n274                               7                            56   \n41                                7                            50   \n476                               6                            23   \n179                              12                            50   \n192                               7                            34   \n243                               7                            23   \n267                               7                            16   \n426                               7                            34   \n382                              10                            56   \n376                               7                            50   \n261                               7                            34   \n67                                6                            50   \n239                               7                            56   \n368                               7                            23   \n72                                7                            23   \n\n                                        embedding_text  \\\n222  Математичні олімпіадні задачі високого рівня; ...   \n308  Поглиблені математичні змагання; міжнародна ол...   \n299  Математичні олімпіадні задачі високого рівня; ...   \n169  Фундаментальна математика для середньої школи\\...   \n123  Математичні олімпіадні задачі високого рівня; ...   \n152  Поглиблені математичні змагання; міжнародна ол...   \n154  Поглиблені математичні змагання; міжнародна ол...   \n100  Поглиблені математичні змагання; міжнародна ол...   \n129  Поглиблені математичні змагання; міжнародна ол...   \n264  Поглиблені математичні змагання; міжнародна ол...   \n274  Поглиблені математичні змагання; міжнародна ол...   \n41   Математичні олімпіадні задачі високого рівня; ...   \n476  Фундаментальна математика для середньої школи\\...   \n179  Математичні олімпіадні задачі високого рівня; ...   \n192  Олімпіада з математики для середнього рівня дл...   \n243  Фундаментальна математика для середньої школи\\...   \n267  Основні математичні поняття\\nГеометрія\\nУ колі...   \n426  Олімпіада з математики для середнього рівня дл...   \n382  Поглиблені математичні змагання; міжнародна ол...   \n376  Математичні олімпіадні задачі високого рівня; ...   \n261  Олімпіада з математики для середнього рівня дл...   \n67   Математичні олімпіадні задачі високого рівня; ...   \n239  Поглиблені математичні змагання; міжнародна ол...   \n368  Фундаментальна математика для середньої школи\\...   \n72   Фундаментальна математика для середньої школи\\...   \n\n                                             embedding  \n222  [0.010712559334933758, -0.007907348684966564, ...  \n308  [0.008417361415922642, 0.000720419455319643, 5...  \n299  [-0.0031878254376351833, -0.003637160174548626...  \n169  [0.021239973604679108, 0.022146791219711304, 0...  \n123  [0.008777080103754997, -0.00464252894744277, -...  \n152  [0.010307596065104008, -0.0026040917728096247,...  \n154  [-0.005317579489201307, 0.01098331343382597, -...  \n100  [0.008953087031841278, -0.008230245672166348, ...  \n129  [0.004543466027826071, -0.0061322464607656, 0....  \n264  [-0.005745587404817343, -0.002533208578824997,...  \n274  [0.00911207776516676, 0.010200942866504192, 0....  \n41   [-0.00790895614773035, -0.010039271786808968, ...  \n476  [0.011948387138545513, 0.01732580177485943, -0...  \n179  [0.0026531366165727377, 0.009113087318837643, ...  \n192  [0.020815491676330566, 0.0028605533298105, 0.0...  \n243  [0.01385931670665741, 0.016113074496388435, 0....  \n267  [0.0035390304401516914, 0.0073977564461529255,...  \n426  [0.010262595489621162, 0.012190022505819798, -...  \n382  [0.010249917395412922, 0.006011402700096369, -...  \n376  [-0.010705342516303062, -0.007595266681164503,...  \n261  [0.0025655964855104685, -0.004616189282387495,...  \n67   [0.00012971088290214539, 0.011747276410460472,...  \n239  [-0.005379538983106613, -0.005849181208759546,...  \n368  [0.007907223887741566, 0.024386880919337273, -...  \n72   [0.04297228902578354, 0.017586568370461464, -0...  \n\n[25 rows x 21 columns]",
      "text/html": "<div>\n<style scoped>\n    .dataframe tbody tr th:only-of-type {\n        vertical-align: middle;\n    }\n\n    .dataframe tbody tr th {\n        vertical-align: top;\n    }\n\n    .dataframe thead th {\n        text-align: right;\n    }\n</style>\n<table border=\"1\" class=\"dataframe\">\n  <thead>\n    <tr style=\"text-align: right;\">\n      <th></th>\n      <th>problem</th>\n      <th>solution</th>\n      <th>answer</th>\n      <th>subject</th>\n      <th>level</th>\n      <th>unique_id</th>\n      <th>original_level</th>\n      <th>problem_char_count</th>\n      <th>solution_char_count</th>\n      <th>subject_char_count</th>\n      <th>...</th>\n      <th>problem_translated</th>\n      <th>solution_translated</th>\n      <th>subject_translated</th>\n      <th>level_translated</th>\n      <th>problem_translated_token_count</th>\n      <th>solution_translated_token_count</th>\n      <th>subject_translated_token_count</th>\n      <th>level_translated_token_count</th>\n      <th>embedding_text</th>\n      <th>embedding</th>\n    </tr>\n  </thead>\n  <tbody>\n    <tr>\n      <th>222</th>\n      <td>The area of $\\triangle ABC$ is 6 square centim...</td>\n      <td>Since $AB \\parallel DE,$ we know that $\\angle ...</td>\n      <td>54</td>\n      <td>Geometry</td>\n      <td>High-Level Math Competition Problems; Regional...</td>\n      <td>test/geometry/547.json</td>\n      <td>4</td>\n      <td>342</td>\n      <td>424</td>\n      <td>8</td>\n      <td>...</td>\n      <td>Площа $\\трикутника ABC$ дорівнює 6 квадратних ...</td>\n      <td>Оскільки $AB \\паралельний DE,$ ми знаємо, що $...</td>\n      <td>Геометрія</td>\n      <td>Математичні олімпіадні задачі високого рівня; ...</td>\n      <td>176</td>\n      <td>272</td>\n      <td>7</td>\n      <td>50</td>\n      <td>Математичні олімпіадні задачі високого рівня; ...</td>\n      <td>[0.010712559334933758, -0.007907348684966564, ...</td>\n    </tr>\n    <tr>\n      <th>308</th>\n      <td>Let $ABCD$ be a regular tetrahedron with side ...</td>\n      <td>The plane intersects each face of the tetrahed...</td>\n      <td>1+2\\sqrt{3}</td>\n      <td>Geometry</td>\n      <td>Advanced Math Competitions; International Olym...</td>\n      <td>test/geometry/711.json</td>\n      <td>5</td>\n      <td>203</td>\n      <td>375</td>\n      <td>8</td>\n      <td>...</td>\n      <td>Нехай $ABCD$ - правильний тетраедр зі стороною...</td>\n      <td>Площина перетинає кожну грань тетраедра по сер...</td>\n      <td>Геометрія</td>\n      <td>Поглиблені математичні змагання; міжнародна ол...</td>\n      <td>117</td>\n      <td>191</td>\n      <td>7</td>\n      <td>56</td>\n      <td>Поглиблені математичні змагання; міжнародна ол...</td>\n      <td>[0.008417361415922642, 0.000720419455319643, 5...</td>\n    </tr>\n    <tr>\n      <th>299</th>\n      <td>Consider the rectangle with vertices at $(5,4)...</td>\n      <td>Points with integer coordinates are called lat...</td>\n      <td>63</td>\n      <td>Geometry</td>\n      <td>High-Level Math Competition Problems; Regional...</td>\n      <td>test/geometry/1097.json</td>\n      <td>4</td>\n      <td>156</td>\n      <td>387</td>\n      <td>8</td>\n      <td>...</td>\n      <td>Розглянемо прямокутник з вершинами $(5,4),$ $(...</td>\n      <td>Точки з цілочисельними координатами називаютьс...</td>\n      <td>Геометрія</td>\n      <td>Математичні олімпіадні задачі високого рівня; ...</td>\n      <td>85</td>\n      <td>209</td>\n      <td>7</td>\n      <td>50</td>\n      <td>Математичні олімпіадні задачі високого рівня; ...</td>\n      <td>[-0.0031878254376351833, -0.003637160174548626...</td>\n    </tr>\n    <tr>\n      <th>169</th>\n      <td>What is the number of square units in the area...</td>\n      <td>This triangle is isosceles, and so the altitud...</td>\n      <td>12</td>\n      <td>Geometry</td>\n      <td>Foundational High-School Math</td>\n      <td>test/geometry/802.json</td>\n      <td>2</td>\n      <td>98</td>\n      <td>337</td>\n      <td>8</td>\n      <td>...</td>\n      <td>Скільки квадратних одиниць міститься у площі т...</td>\n      <td>Цей трикутник рівнобедрений, тому висота, пров...</td>\n      <td>Геометрія</td>\n      <td>Фундаментальна математика для середньої школи</td>\n      <td>62</td>\n      <td>225</td>\n      <td>7</td>\n      <td>23</td>\n      <td>Фундаментальна математика для середньої школи\\...</td>\n      <td>[0.021239973604679108, 0.022146791219711304, 0...</td>\n    </tr>\n    <tr>\n      <th>123</th>\n      <td>In the diagram, $D$ and $E$ are the midpoints ...</td>\n      <td>$\\triangle DBC$ has base $\\overline{BC}$ of le...</td>\n      <td>8</td>\n      <td>Geometry</td>\n      <td>High-Level Math Competition Problems; Regional...</td>\n      <td>test/geometry/283.json</td>\n      <td>4</td>\n      <td>568</td>\n      <td>587</td>\n      <td>8</td>\n      <td>...</td>\n      <td>На рисунку $D$ і $E$ - середини відрізків $\\ov...</td>\n      <td>Трикутник $\\triangle DBC$ має основу $\\overlin...</td>\n      <td>Геометрія</td>\n      <td>Математичні олімпіадні задачі високого рівня; ...</td>\n      <td>271</td>\n      <td>318</td>\n      <td>7</td>\n      <td>50</td>\n      <td>Математичні олімпіадні задачі високого рівня; ...</td>\n      <td>[0.008777080103754997, -0.00464252894744277, -...</td>\n    </tr>\n    <tr>\n      <th>152</th>\n      <td>The medians $AD$, $BE$, and $CF$ of triangle $...</td>\n      <td>Since $E$ is the midpoint of $AC$, the area of...</td>\n      <td>8</td>\n      <td>Geometry</td>\n      <td>Advanced Math Competitions; International Olym...</td>\n      <td>test/geometry/172.json</td>\n      <td>5</td>\n      <td>260</td>\n      <td>873</td>\n      <td>8</td>\n      <td>...</td>\n      <td>Медіани $AD$, $BE$ і $CF$ трикутника $ABC$ пер...</td>\n      <td>Оскільки $E$ є серединою $AC$, то площа трикут...</td>\n      <td>Геометрія</td>\n      <td>Поглиблені математичні змагання; міжнародна ол...</td>\n      <td>145</td>\n      <td>453</td>\n      <td>7</td>\n      <td>56</td>\n      <td>Поглиблені математичні змагання; міжнародна ол...</td>\n      <td>[0.010307596065104008, -0.0026040917728096247,...</td>\n    </tr>\n    <tr>\n      <th>154</th>\n      <td>A gecko is in a room that is 12 feet long, 10 ...</td>\n      <td>[asy]\\nimport three;\\ncurrentprojection=orthog...</td>\n      <td>2\\sqrt{113}</td>\n      <td>Geometry</td>\n      <td>Advanced Math Competitions; International Olym...</td>\n      <td>test/geometry/880.json</td>\n      <td>5</td>\n      <td>546</td>\n      <td>3356</td>\n      <td>8</td>\n      <td>...</td>\n      <td>Гекон знаходиться у кімнаті довжиною 12 футів,...</td>\n      <td>[asy]\\nімпортувати три;\\ncurrentprojection=ort...</td>\n      <td>Геометрія</td>\n      <td>Поглиблені математичні змагання; міжнародна ол...</td>\n      <td>329</td>\n      <td>1887</td>\n      <td>7</td>\n      <td>56</td>\n      <td>Поглиблені математичні змагання; міжнародна ол...</td>\n      <td>[-0.005317579489201307, 0.01098331343382597, -...</td>\n    </tr>\n    <tr>\n      <th>100</th>\n      <td>A hexagon is inscribed in a circle: [asy]\\npai...</td>\n      <td>Labeling our vertices will help a great deal, ...</td>\n      <td>145^\\circ</td>\n      <td>Geometry</td>\n      <td>Advanced Math Competitions; International Olym...</td>\n      <td>test/geometry/183.json</td>\n      <td>5</td>\n      <td>409</td>\n      <td>1259</td>\n      <td>8</td>\n      <td>...</td>\n      <td>У коло вписано шестикутник: [asy].\\nпара pA, p...</td>\n      <td>Позначення наших вершин дуже допоможе, так сам...</td>\n      <td>Геометрія</td>\n      <td>Поглиблені математичні змагання; міжнародна ол...</td>\n      <td>199</td>\n      <td>629</td>\n      <td>7</td>\n      <td>56</td>\n      <td>Поглиблені математичні змагання; міжнародна ол...</td>\n      <td>[0.008953087031841278, -0.008230245672166348, ...</td>\n    </tr>\n    <tr>\n      <th>129</th>\n      <td>In triangle $ABC$, $AB = 17$, $AC = 8$, and $B...</td>\n      <td>By Pythagoras, $\\angle C = 90^\\circ$.  Triangl...</td>\n      <td>\\frac{3840}{289}</td>\n      <td>Geometry</td>\n      <td>Advanced Math Competitions; International Olym...</td>\n      <td>test/geometry/1140.json</td>\n      <td>5</td>\n      <td>143</td>\n      <td>621</td>\n      <td>8</td>\n      <td>...</td>\n      <td>У трикутнику $ABC$, $AB = 17$, $AC = 8$ і $BC ...</td>\n      <td>За теоремою Піфагора, $\\кут C = 90^\\circ$.  Тр...</td>\n      <td>Геометрія</td>\n      <td>Поглиблені математичні змагання; міжнародна ол...</td>\n      <td>73</td>\n      <td>305</td>\n      <td>7</td>\n      <td>56</td>\n      <td>Поглиблені математичні змагання; міжнародна ол...</td>\n      <td>[0.004543466027826071, -0.0061322464607656, 0....</td>\n    </tr>\n    <tr>\n      <th>264</th>\n      <td>In the figure below, quadrilateral $CDEG$ is a...</td>\n      <td>Let $J$ be the intersection of $\\overline{BE}$...</td>\n      <td>1\\frac{4}{5}</td>\n      <td>Geometry</td>\n      <td>Advanced Math Competitions; International Olym...</td>\n      <td>test/geometry/826.json</td>\n      <td>5</td>\n      <td>619</td>\n      <td>1352</td>\n      <td>8</td>\n      <td>...</td>\n      <td>На рисунку нижче чотирикутник $CDEG$ є квадрат...</td>\n      <td>Нехай $J$ є перетином $\\overline{BE}$ та $\\ove...</td>\n      <td>Геометрія</td>\n      <td>Поглиблені математичні змагання; міжнародна ол...</td>\n      <td>335</td>\n      <td>768</td>\n      <td>7</td>\n      <td>56</td>\n      <td>Поглиблені математичні змагання; міжнародна ол...</td>\n      <td>[-0.005745587404817343, -0.002533208578824997,...</td>\n    </tr>\n    <tr>\n      <th>274</th>\n      <td>Let $S$ be the union of the set of all points ...</td>\n      <td>$S$ looks like a nonagon with slightly rounded...</td>\n      <td>18+2\\pi</td>\n      <td>Geometry</td>\n      <td>Advanced Math Competitions; International Olym...</td>\n      <td>test/geometry/686.json</td>\n      <td>5</td>\n      <td>235</td>\n      <td>1677</td>\n      <td>8</td>\n      <td>...</td>\n      <td>Нехай $S$ - це об'єднання множини всіх точок в...</td>\n      <td>$S$ виглядає як нонагон зі злегка заокругленим...</td>\n      <td>Геометрія</td>\n      <td>Поглиблені математичні змагання; міжнародна ол...</td>\n      <td>141</td>\n      <td>948</td>\n      <td>7</td>\n      <td>56</td>\n      <td>Поглиблені математичні змагання; міжнародна ол...</td>\n      <td>[0.00911207776516676, 0.010200942866504192, 0....</td>\n    </tr>\n    <tr>\n      <th>41</th>\n      <td>The coordinates of a parallelogram are (5, 3),...</td>\n      <td>Name the points $A(5,3)$, $B(6,8)$, $C(7,4)$, ...</td>\n      <td>17</td>\n      <td>Geometry</td>\n      <td>High-Level Math Competition Problems; Regional...</td>\n      <td>test/geometry/627.json</td>\n      <td>4</td>\n      <td>117</td>\n      <td>1041</td>\n      <td>8</td>\n      <td>...</td>\n      <td>Координати паралелограма: (5, 3), (6, 8), (7, ...</td>\n      <td>Назвіть точки $A(5,3)$, $B(6,8)$, $C(7,4)$ та ...</td>\n      <td>Геометрія</td>\n      <td>Математичні олімпіадні задачі високого рівня; ...</td>\n      <td>60</td>\n      <td>540</td>\n      <td>7</td>\n      <td>50</td>\n      <td>Математичні олімпіадні задачі високого рівня; ...</td>\n      <td>[-0.00790895614773035, -0.010039271786808968, ...</td>\n    </tr>\n    <tr>\n      <th>476</th>\n      <td>Jim and Martha are standing together at the co...</td>\n      <td>The diagonal of the field is $\\sqrt{300^2+400^...</td>\n      <td>200</td>\n      <td>Prealgebra</td>\n      <td>Foundational High-School Math</td>\n      <td>test/prealgebra/1252.json</td>\n      <td>2</td>\n      <td>277</td>\n      <td>227</td>\n      <td>10</td>\n      <td>...</td>\n      <td>Джим і Марта стоять разом на розі прямокутного...</td>\n      <td>Діагональ поля дорівнює $\\sqrt{300^2+400^2}=50...</td>\n      <td>Преалгебра</td>\n      <td>Фундаментальна математика для середньої школи</td>\n      <td>131</td>\n      <td>128</td>\n      <td>6</td>\n      <td>23</td>\n      <td>Фундаментальна математика для середньої школи\\...</td>\n      <td>[0.011948387138545513, 0.01732580177485943, -0...</td>\n    </tr>\n    <tr>\n      <th>179</th>\n      <td>Find the equation of the plane containing the ...</td>\n      <td>Let $\\mathbf{a} = \\begin{pmatrix} 0 \\\\ -1 \\\\ -...</td>\n      <td>5x - 7y + 11z + 4 = 0</td>\n      <td>Precalculus</td>\n      <td>High-Level Math Competition Problems; Regional...</td>\n      <td>test/precalculus/659.json</td>\n      <td>4</td>\n      <td>237</td>\n      <td>915</td>\n      <td>11</td>\n      <td>...</td>\n      <td>Знайти рівняння площини, яка містить точки $(0...</td>\n      <td>Нехай $\\mathbf{a} = \\begin{pmatrix} 0 \\\\ -1 \\\\...</td>\n      <td>Попереднє обчислення</td>\n      <td>Математичні олімпіадні задачі високого рівня; ...</td>\n      <td>136</td>\n      <td>423</td>\n      <td>12</td>\n      <td>50</td>\n      <td>Математичні олімпіадні задачі високого рівня; ...</td>\n      <td>[0.0026531366165727377, 0.009113087318837643, ...</td>\n    </tr>\n    <tr>\n      <th>192</th>\n      <td>In $\\triangle PQR$, we have $PQ = QR = 34$ and...</td>\n      <td>Because $\\triangle PQR$ is isosceles with $PQ=...</td>\n      <td>30</td>\n      <td>Geometry</td>\n      <td>High-School Intermediate Level Competition Mat...</td>\n      <td>test/geometry/221.json</td>\n      <td>3</td>\n      <td>101</td>\n      <td>598</td>\n      <td>8</td>\n      <td>...</td>\n      <td>У $\\triangle PQR$ маємо $PQ = QR = 34$ і $PR =...</td>\n      <td>Оскільки $\\трикутник PQR$ рівнобедрений з $PQ=...</td>\n      <td>Геометрія</td>\n      <td>Олімпіада з математики для середнього рівня дл...</td>\n      <td>50</td>\n      <td>314</td>\n      <td>7</td>\n      <td>34</td>\n      <td>Олімпіада з математики для середнього рівня дл...</td>\n      <td>[0.020815491676330566, 0.0028605533298105, 0.0...</td>\n    </tr>\n    <tr>\n      <th>243</th>\n      <td>A triangle has sides measuring 1 unit and 3 un...</td>\n      <td>Call the length of the third side $n$. By the ...</td>\n      <td>3</td>\n      <td>Geometry</td>\n      <td>Foundational High-School Math</td>\n      <td>test/geometry/254.json</td>\n      <td>2</td>\n      <td>157</td>\n      <td>157</td>\n      <td>8</td>\n      <td>...</td>\n      <td>Трикутник має сторони, довжини яких дорівнюють...</td>\n      <td>Назвемо довжину третьої сторони $n$. За нерівн...</td>\n      <td>Геометрія</td>\n      <td>Фундаментальна математика для середньої школи</td>\n      <td>110</td>\n      <td>101</td>\n      <td>7</td>\n      <td>23</td>\n      <td>Фундаментальна математика для середньої школи\\...</td>\n      <td>[0.01385931670665741, 0.016113074496388435, 0....</td>\n    </tr>\n    <tr>\n      <th>267</th>\n      <td>In circle $J$, $HO$ and $HN$ are tangent to th...</td>\n      <td>Since $\\overline{OH}$ and $\\overline{NH}$ are ...</td>\n      <td>180^\\circ</td>\n      <td>Geometry</td>\n      <td>Basic Math Concepts</td>\n      <td>test/geometry/226.json</td>\n      <td>1</td>\n      <td>500</td>\n      <td>301</td>\n      <td>8</td>\n      <td>...</td>\n      <td>У колі $J$, $HO$ і $HN$ проведені дотичні до к...</td>\n      <td>Оскільки $\\overline{OH}$ і $\\overline{NH}$ є д...</td>\n      <td>Геометрія</td>\n      <td>Основні математичні поняття</td>\n      <td>217</td>\n      <td>146</td>\n      <td>7</td>\n      <td>16</td>\n      <td>Основні математичні поняття\\nГеометрія\\nУ колі...</td>\n      <td>[0.0035390304401516914, 0.0073977564461529255,...</td>\n    </tr>\n    <tr>\n      <th>426</th>\n      <td>A square and an equilateral triangle have\\tequ...</td>\n      <td>If we let $x = $ the side length of the triang...</td>\n      <td>6\\sqrt{2}</td>\n      <td>Geometry</td>\n      <td>High-School Intermediate Level Competition Mat...</td>\n      <td>test/geometry/843.json</td>\n      <td>3</td>\n      <td>390</td>\n      <td>1134</td>\n      <td>8</td>\n      <td>...</td>\n      <td>Квадрат і рівносторонній трикутник мають рівні...</td>\n      <td>Якщо нехай $x = $ довжина сторони трикутника, ...</td>\n      <td>Геометрія</td>\n      <td>Олімпіада з математики для середнього рівня дл...</td>\n      <td>224</td>\n      <td>624</td>\n      <td>7</td>\n      <td>34</td>\n      <td>Олімпіада з математики для середнього рівня дл...</td>\n      <td>[0.010262595489621162, 0.012190022505819798, -...</td>\n    </tr>\n    <tr>\n      <th>382</th>\n      <td>A rectangular field is enclosed in an athletic...</td>\n      <td>Let the width of the rectangle be $w,$ and let...</td>\n      <td>\\frac{20000}{\\pi}</td>\n      <td>Intermediate Algebra</td>\n      <td>Advanced Math Competitions; International Olym...</td>\n      <td>test/intermediate_algebra/1111.json</td>\n      <td>5</td>\n      <td>489</td>\n      <td>808</td>\n      <td>20</td>\n      <td>...</td>\n      <td>Прямокутне поле оточене легкоатлетичною доріжк...</td>\n      <td>Нехай ширина прямокутника дорівнює $w,$, а рад...</td>\n      <td>Проміжна алгебра</td>\n      <td>Поглиблені математичні змагання; міжнародна ол...</td>\n      <td>243</td>\n      <td>425</td>\n      <td>10</td>\n      <td>56</td>\n      <td>Поглиблені математичні змагання; міжнародна ол...</td>\n      <td>[0.010249917395412922, 0.006011402700096369, -...</td>\n    </tr>\n    <tr>\n      <th>376</th>\n      <td>Determine the coordinates of the point $P$ on ...</td>\n      <td>If $P$ is equidistant from $A$ and $O$, it mus...</td>\n      <td>(8,-2)</td>\n      <td>Geometry</td>\n      <td>High-Level Math Competition Problems; Regional...</td>\n      <td>test/geometry/538.json</td>\n      <td>4</td>\n      <td>210</td>\n      <td>641</td>\n      <td>8</td>\n      <td>...</td>\n      <td>Визначте координати точки $P$ на прямій $y=-x+...</td>\n      <td>Якщо точка $P$ рівновіддалена від точок $A$ і ...</td>\n      <td>Геометрія</td>\n      <td>Математичні олімпіадні задачі високого рівня; ...</td>\n      <td>118</td>\n      <td>387</td>\n      <td>7</td>\n      <td>50</td>\n      <td>Математичні олімпіадні задачі високого рівня; ...</td>\n      <td>[-0.010705342516303062, -0.007595266681164503,...</td>\n    </tr>\n    <tr>\n      <th>261</th>\n      <td>A triangle $\\triangle ABC$ with $\\angle A = 14...</td>\n      <td>If $AB$ is a diameter, that means the triangle...</td>\n      <td>76^\\circ</td>\n      <td>Geometry</td>\n      <td>High-School Intermediate Level Competition Mat...</td>\n      <td>test/geometry/347.json</td>\n      <td>3</td>\n      <td>140</td>\n      <td>236</td>\n      <td>8</td>\n      <td>...</td>\n      <td>Трикутник $\\triangle ABC$ з $\\angle A = 14^\\ci...</td>\n      <td>Якщо $AB$ є діаметром, то це означає, що трику...</td>\n      <td>Геометрія</td>\n      <td>Олімпіада з математики для середнього рівня дл...</td>\n      <td>58</td>\n      <td>121</td>\n      <td>7</td>\n      <td>34</td>\n      <td>Олімпіада з математики для середнього рівня дл...</td>\n      <td>[0.0025655964855104685, -0.004616189282387495,...</td>\n    </tr>\n    <tr>\n      <th>67</th>\n      <td>The lengths of two opposite sides of a square ...</td>\n      <td>Let $A$ be the area of the square. The lengths...</td>\n      <td>10</td>\n      <td>Prealgebra</td>\n      <td>High-Level Math Competition Problems; Regional...</td>\n      <td>test/prealgebra/1233.json</td>\n      <td>4</td>\n      <td>204</td>\n      <td>269</td>\n      <td>10</td>\n      <td>...</td>\n      <td>Довжини двох протилежних сторін квадрата зменш...</td>\n      <td>Нехай $A$ - площа квадрата. Довжини однієї пар...</td>\n      <td>Преалгебра</td>\n      <td>Математичні олімпіадні задачі високого рівня; ...</td>\n      <td>104</td>\n      <td>142</td>\n      <td>6</td>\n      <td>50</td>\n      <td>Математичні олімпіадні задачі високого рівня; ...</td>\n      <td>[0.00012971088290214539, 0.011747276410460472,...</td>\n    </tr>\n    <tr>\n      <th>239</th>\n      <td>The parallelogram bounded by the lines $y=ax+c...</td>\n      <td>Two vertices of the first parallelogram are at...</td>\n      <td>16</td>\n      <td>Geometry</td>\n      <td>Advanced Math Competitions; International Olym...</td>\n      <td>test/geometry/229.json</td>\n      <td>5</td>\n      <td>296</td>\n      <td>1317</td>\n      <td>8</td>\n      <td>...</td>\n      <td>Паралелограм, обмежений прямими $y=ax+c$, $y=a...</td>\n      <td>Дві вершини першого паралелограма знаходяться ...</td>\n      <td>Геометрія</td>\n      <td>Поглиблені математичні змагання; міжнародна ол...</td>\n      <td>155</td>\n      <td>705</td>\n      <td>7</td>\n      <td>56</td>\n      <td>Поглиблені математичні змагання; міжнародна ол...</td>\n      <td>[-0.005379538983106613, -0.005849181208759546,...</td>\n    </tr>\n    <tr>\n      <th>368</th>\n      <td>Two sides of a triangle are each $8$ units lon...</td>\n      <td>The Triangle Inequality says that the sum of t...</td>\n      <td>31</td>\n      <td>Geometry</td>\n      <td>Foundational High-School Math</td>\n      <td>test/geometry/106.json</td>\n      <td>2</td>\n      <td>162</td>\n      <td>334</td>\n      <td>8</td>\n      <td>...</td>\n      <td>Дві сторони трикутника мають довжину по $8$ од...</td>\n      <td>Нерівність трикутника говорить, що сума довжин...</td>\n      <td>Геометрія</td>\n      <td>Фундаментальна математика для середньої школи</td>\n      <td>89</td>\n      <td>200</td>\n      <td>7</td>\n      <td>23</td>\n      <td>Фундаментальна математика для середньої школи\\...</td>\n      <td>[0.007907223887741566, 0.024386880919337273, -...</td>\n    </tr>\n    <tr>\n      <th>72</th>\n      <td>What is the length, in units, of the radius of...</td>\n      <td>The volume of a sphere is $\\frac{4}{3}\\pi r^3$...</td>\n      <td>3</td>\n      <td>Geometry</td>\n      <td>Foundational High-School Math</td>\n      <td>test/geometry/456.json</td>\n      <td>2</td>\n      <td>156</td>\n      <td>219</td>\n      <td>8</td>\n      <td>...</td>\n      <td>Яка довжина в одиницях радіуса сфери, об'єм і ...</td>\n      <td>Об'єм кулі дорівнює $\\frac{4}{3}\\pi r^3$, а пл...</td>\n      <td>Геометрія</td>\n      <td>Фундаментальна математика для середньої школи</td>\n      <td>81</td>\n      <td>136</td>\n      <td>7</td>\n      <td>23</td>\n      <td>Фундаментальна математика для середньої школи\\...</td>\n      <td>[0.04297228902578354, 0.017586568370461464, -0...</td>\n    </tr>\n  </tbody>\n</table>\n<p>25 rows × 21 columns</p>\n</div>"
     },
     "execution_count": 26,
     "metadata": {},
     "output_type": "execute_result"
    }
   ],
   "source": [
    "def similarity_search(query: str, top_k: int, similarity_threshold: float = 0.7) -> pd.DataFrame:\n",
    "    query_embedding = np.array(get_embedding(query, model=model)).astype('float32').reshape(1, -1)\n",
    "\n",
    "    # Normalize the query embedding\n",
    "    faiss.normalize_L2(query_embedding)\n",
    "\n",
    "    # Perform the search to retrieve top k similar embeddings\n",
    "    distances, indices = index.search(query_embedding, top_k)\n",
    "\n",
    "    # Convert distances to cosine similarities\n",
    "    # Since embeddings are normalized, the inner product is equivalent to cosine similarity\n",
    "    cosine_similarities = distances[0]\n",
    "\n",
    "\n",
    "    # Filter results based on the similarity threshold\n",
    "    filtered_indices = indices[0][cosine_similarities >= similarity_threshold]\n",
    "\n",
    "    # Retrieve corresponding texts\n",
    "    similar_texts = inference_df.iloc[filtered_indices]\n",
    "\n",
    "    return similar_texts\n",
    "\n",
    "similar_examples_df = similarity_search(\n",
    "    query=\"Задача по геометрії\",\n",
    "    top_k=25,\n",
    "    similarity_threshold=0.75\n",
    ")\n",
    "similar_examples_df"
   ],
   "metadata": {
    "collapsed": false,
    "ExecuteTime": {
     "end_time": "2025-01-08T20:10:02.438619Z",
     "start_time": "2025-01-08T20:10:01.888726Z"
    }
   }
  },
  {
   "cell_type": "code",
   "execution_count": 15,
   "outputs": [],
   "source": [
    "system_prompt = \"\"\"\n",
    "Ти корисний помічник для генерації задач з математики українською мовою.\n",
    "Маючи вхідний запит користувача (\"USER_INPUT\"), який включає тему, чи ключові слова, та знайдені схожі приклади задач (\"SIMILAR_EXAMPLES\") згенеруй 5 задач на тему, якщо користувач не попросить інакше.\n",
    "Візьми до уваги схожі теми задач, та тему з питання якщо така задана.\n",
    "Візьми до уваги потрібну складність задачі, якщо така задана. Якщо ж ні, спробуй згенерувати простіші завдання, вибираючи простіші приклади.\n",
    "Текст у прикладах (\"SIMILAR_EXAMPLES\") може мати помилки у LaTeX синтаксисі після перекладу, спробуй їх виправити у відповіді, щоб згенерувати валідну відповідь.\n",
    "Згенеруй 5 прикладів задач з покроковими розв’язками, уникаючи помилок.\n",
    "Використовуй увесь доступний контекст для більшої точності та різноманітності.\n",
    "Спробуй генерувати різноманітні задачі.\n",
    "Якщо ви генеруєте код LaTeX або рівняння, використовуйте формат $ замість W( і $$ замість \\\\I; замість багаторядкового LaTeX у форматі\n",
    "[\n",
    "довільне рівняння\n",
    "]\n",
    "генеруй $$\n",
    "довільне LaTeX рівняння для правильного трактування у Markdown форматі\n",
    "$$\n",
    "Також візьми до уваги, що при генерації коду чи рівняння LaTeX у однорядковому форматі, замість ( приклад LaTeX коду ) використовуй одинарний знак $ приклад LaTeX коду $\n",
    "\n",
    "SIMILAR_EXAMPLES:\n",
    "{examples}\n",
    "\"\"\"\n",
    "example_formatting = \"\"\"\n",
    "Тематика:\n",
    "{subject}\n",
    "\n",
    "Проблема:\n",
    "{problem}\n",
    "\n",
    "Вирішення:\n",
    "{solution}\n",
    "\n",
    "Відповідь:\n",
    "{answer}\n",
    "\n",
    "\"\"\""
   ],
   "metadata": {
    "collapsed": false,
    "ExecuteTime": {
     "end_time": "2025-01-08T20:01:14.520110Z",
     "start_time": "2025-01-08T20:01:14.517660Z"
    }
   }
  },
  {
   "cell_type": "code",
   "execution_count": 30,
   "outputs": [],
   "source": [
    "import re\n",
    "\n",
    "def evaluate_correctness(generated_answer, expected_answer, llm):\n",
    "    prompt = f\"\"\"\n",
    "    Оцініть правильність відповіді:\n",
    "    - Згенерована відповідь: {generated_answer}\n",
    "    - Очікувана відповідь: {expected_answer}\n",
    "\n",
    "    Майте на увазі, що згенерована відповідь включає розвязок та хід задачі, вам потрібно взяти до уваги лише кінцеву відповідь та порівняти її з очікуваною.\n",
    "    Чи відповідає згенерована відповідь очікуваній? Напишіть \"10\", якщо так, або \"0\", якщо ні.\n",
    "    \"\"\"\n",
    "    response = llm(prompt)\n",
    "    return int(response.strip())\n",
    "\n",
    "def evaluate_solution_similarity(generated_solution, expected_solution, llm):\n",
    "    prompt = f\"\"\"\n",
    "    Оцініть схожість між рішеннями:\n",
    "    - Згенероване рішення: {generated_solution}\n",
    "    - Очікуване рішення: {expected_solution}\n",
    "\n",
    "    Оцініть схожість на шкалі від 0 до 10, де 0 — зовсім не схоже, а 10 — ідентичне.\n",
    "    \"\"\"\n",
    "    response = llm(prompt)\n",
    "    try:\n",
    "        return float(response.strip())\n",
    "    except ValueError:\n",
    "        return 0.0  # Return 0 if parsing fails\n",
    "\n",
    "\n",
    "def llm(prompt):\n",
    "    model = \"gpt-4o-mini\"\n",
    "    completion = client.chat.completions.create(\n",
    "        model=model,\n",
    "        messages=[\n",
    "            {\"role\": \"developer\", \"content\": \"You are useful assistant.\"},\n",
    "            {\n",
    "                \"role\": \"user\",\n",
    "                \"content\": prompt\n",
    "            }\n",
    "        ]\n",
    "    )\n",
    "    response = completion.choices[0].message.content\n",
    "\n",
    "    return response\n",
    "\n",
    "def forward_pass(user_input):\n",
    "    model = \"gpt-4o-mini\"\n",
    "\n",
    "    similar_examples_df = similarity_search(\n",
    "        query=user_input,\n",
    "        top_k=15,\n",
    "        similarity_threshold=0.75\n",
    "    )\n",
    "\n",
    "    similar_examples_df.loc[:, \"example_text\"] = similar_examples_df.apply(lambda row: example_formatting.format(\n",
    "        subject=row[\"subject_translated\"],\n",
    "        problem=row[\"problem_translated\"],\n",
    "        solution=row[\"solution_translated\"],\n",
    "        answer=row[\"answer\"]\n",
    "    ), axis=1)\n",
    "    examples_text = \"\"\n",
    "\n",
    "    for example in similar_examples_df.loc[:, \"example_text\"]:\n",
    "        examples_text += re.sub(r'\\[asy\\].*?\\[/asy\\]', '', example, flags=re.DOTALL)\n",
    "\n",
    "    system_prompt_formatted = system_prompt.format(\n",
    "        examples=examples_text\n",
    "    )\n",
    "\n",
    "    completion = client.chat.completions.create(\n",
    "        model=model,\n",
    "        messages=[\n",
    "            {\"role\": \"developer\", \"content\": system_prompt_formatted},\n",
    "            {\n",
    "                \"role\": \"user\",\n",
    "                \"content\": user_input\n",
    "            }\n",
    "        ]\n",
    "    )\n",
    "    response = completion.choices[0].message.content\n",
    "\n",
    "    return response\n"
   ],
   "metadata": {
    "collapsed": false,
    "ExecuteTime": {
     "end_time": "2025-01-08T20:15:14.207230Z",
     "start_time": "2025-01-08T20:15:14.204835Z"
    }
   }
  },
  {
   "cell_type": "code",
   "execution_count": 31,
   "outputs": [
    {
     "name": "stderr",
     "output_type": "stream",
     "text": [
      "/var/folders/gg/1kd93k4x47q5_gj92ljtjf000000gq/T/ipykernel_39438/3683313276.py:55: SettingWithCopyWarning: \n",
      "A value is trying to be set on a copy of a slice from a DataFrame.\n",
      "Try using .loc[row_indexer,col_indexer] = value instead\n",
      "\n",
      "See the caveats in the documentation: https://pandas.pydata.org/pandas-docs/stable/user_guide/indexing.html#returning-a-view-versus-a-copy\n",
      "  similar_examples_df.loc[:, \"example_text\"] = similar_examples_df.apply(lambda row: example_formatting.format(\n",
      "/var/folders/gg/1kd93k4x47q5_gj92ljtjf000000gq/T/ipykernel_39438/3683313276.py:55: SettingWithCopyWarning: \n",
      "A value is trying to be set on a copy of a slice from a DataFrame.\n",
      "Try using .loc[row_indexer,col_indexer] = value instead\n",
      "\n",
      "See the caveats in the documentation: https://pandas.pydata.org/pandas-docs/stable/user_guide/indexing.html#returning-a-view-versus-a-copy\n",
      "  similar_examples_df.loc[:, \"example_text\"] = similar_examples_df.apply(lambda row: example_formatting.format(\n",
      "/var/folders/gg/1kd93k4x47q5_gj92ljtjf000000gq/T/ipykernel_39438/3683313276.py:55: SettingWithCopyWarning: \n",
      "A value is trying to be set on a copy of a slice from a DataFrame.\n",
      "Try using .loc[row_indexer,col_indexer] = value instead\n",
      "\n",
      "See the caveats in the documentation: https://pandas.pydata.org/pandas-docs/stable/user_guide/indexing.html#returning-a-view-versus-a-copy\n",
      "  similar_examples_df.loc[:, \"example_text\"] = similar_examples_df.apply(lambda row: example_formatting.format(\n",
      "/var/folders/gg/1kd93k4x47q5_gj92ljtjf000000gq/T/ipykernel_39438/3683313276.py:55: SettingWithCopyWarning: \n",
      "A value is trying to be set on a copy of a slice from a DataFrame.\n",
      "Try using .loc[row_indexer,col_indexer] = value instead\n",
      "\n",
      "See the caveats in the documentation: https://pandas.pydata.org/pandas-docs/stable/user_guide/indexing.html#returning-a-view-versus-a-copy\n",
      "  similar_examples_df.loc[:, \"example_text\"] = similar_examples_df.apply(lambda row: example_formatting.format(\n",
      "/var/folders/gg/1kd93k4x47q5_gj92ljtjf000000gq/T/ipykernel_39438/3683313276.py:55: SettingWithCopyWarning: \n",
      "A value is trying to be set on a copy of a slice from a DataFrame.\n",
      "Try using .loc[row_indexer,col_indexer] = value instead\n",
      "\n",
      "See the caveats in the documentation: https://pandas.pydata.org/pandas-docs/stable/user_guide/indexing.html#returning-a-view-versus-a-copy\n",
      "  similar_examples_df.loc[:, \"example_text\"] = similar_examples_df.apply(lambda row: example_formatting.format(\n"
     ]
    },
    {
     "ename": "ValueError",
     "evalue": "invalid literal for int() with base 10: 'Згенерована відповідь містить систему розрахунків, яка призводить до отримання площі $S$ як $\\\\frac{1}{2}$. \\n\\nОднак, очікувана відповідь - це $\\\\frac{1}{4}$. Це вказує на те, що згенерована відпові",
     "output_type": "error",
     "traceback": [
      "\u001B[0;31m---------------------------------------------------------------------------\u001B[0m",
      "\u001B[0;31mValueError\u001B[0m                                Traceback (most recent call last)",
      "Cell \u001B[0;32mIn[31], line 11\u001B[0m\n\u001B[1;32m      8\u001B[0m expected_answer \u001B[38;5;241m=\u001B[39m test_df\u001B[38;5;241m.\u001B[39mloc[i, \u001B[38;5;124m\"\u001B[39m\u001B[38;5;124manswer\u001B[39m\u001B[38;5;124m\"\u001B[39m]\n\u001B[1;32m      9\u001B[0m generated_answer \u001B[38;5;241m=\u001B[39m forward_pass(problem_translated)\n\u001B[0;32m---> 11\u001B[0m correctness_score \u001B[38;5;241m=\u001B[39m \u001B[43mevaluate_correctness\u001B[49m\u001B[43m(\u001B[49m\u001B[43mgenerated_answer\u001B[49m\u001B[43m,\u001B[49m\u001B[43m \u001B[49m\u001B[43mexpected_answer\u001B[49m\u001B[43m,\u001B[49m\u001B[43m \u001B[49m\u001B[43mllm\u001B[49m\u001B[43m)\u001B[49m\n\u001B[1;32m     12\u001B[0m similarity_score \u001B[38;5;241m=\u001B[39m evaluate_solution_similarity(generated_answer, solution_translated, llm)\n\u001B[1;32m     14\u001B[0m \u001B[38;5;66;03m# Log metrics in MLflow\u001B[39;00m\n",
      "Cell \u001B[0;32mIn[30], line 13\u001B[0m, in \u001B[0;36mevaluate_correctness\u001B[0;34m(generated_answer, expected_answer, llm)\u001B[0m\n\u001B[1;32m      4\u001B[0m prompt \u001B[38;5;241m=\u001B[39m \u001B[38;5;124mf\u001B[39m\u001B[38;5;124m\"\"\"\u001B[39m\n\u001B[1;32m      5\u001B[0m \u001B[38;5;124mОцініть правильність відповіді:\u001B[39m\n\u001B[1;32m      6\u001B[0m \u001B[38;5;124m- Згенерована відповідь: \u001B[39m\u001B[38;5;132;01m{\u001B[39;00mgenerated_answer\u001B[38;5;132;01m}\u001B[39;00m\n\u001B[0;32m   (...)\u001B[0m\n\u001B[1;32m     10\u001B[0m \u001B[38;5;124mЧи відповідає згенерована відповідь очікуваній? Напишіть \u001B[39m\u001B[38;5;124m\"\u001B[39m\u001B[38;5;124m10\u001B[39m\u001B[38;5;124m\"\u001B[39m\u001B[38;5;124m, якщо так, або \u001B[39m\u001B[38;5;124m\"\u001B[39m\u001B[38;5;124m0\u001B[39m\u001B[38;5;124m\"\u001B[39m\u001B[38;5;124m, якщо ні.\u001B[39m\n\u001B[1;32m     11\u001B[0m \u001B[38;5;124m\u001B[39m\u001B[38;5;124m\"\"\"\u001B[39m\n\u001B[1;32m     12\u001B[0m response \u001B[38;5;241m=\u001B[39m llm(prompt)\n\u001B[0;32m---> 13\u001B[0m \u001B[38;5;28;01mreturn\u001B[39;00m \u001B[38;5;28;43mint\u001B[39;49m\u001B[43m(\u001B[49m\u001B[43mresponse\u001B[49m\u001B[38;5;241;43m.\u001B[39;49m\u001B[43mstrip\u001B[49m\u001B[43m(\u001B[49m\u001B[43m)\u001B[49m\u001B[43m)\u001B[49m\n",
      "\u001B[0;31mValueError\u001B[0m: invalid literal for int() with base 10: 'Згенерована відповідь містить систему розрахунків, яка призводить до отримання площі $S$ як $\\\\frac{1}{2}$. \\n\\nОднак, очікувана відповідь - це $\\\\frac{1}{4}$. Це вказує на те, що згенерована відпові"
     ]
    }
   ],
   "source": [
    "import mlflow\n",
    "\n",
    "mlflow.set_registry_uri(\"http://127.0.0.1:5000\")\n",
    "\n",
    "for i in range(len(test_df)):\n",
    "    problem_translated = test_df.loc[i, \"problem_translated\"]\n",
    "    solution_translated = test_df.loc[i, \"solution_translated\"]\n",
    "    expected_answer = test_df.loc[i, \"answer\"]\n",
    "    generated_answer = forward_pass(problem_translated)\n",
    "\n",
    "    correctness_score = evaluate_correctness(generated_answer, expected_answer, llm)\n",
    "    similarity_score = evaluate_solution_similarity(generated_answer, solution_translated, llm)\n",
    "\n",
    "    # Log metrics in MLflow\n",
    "    with mlflow.start_run(run_name=problem_translated[:35] + \"...\"):\n",
    "        mlflow.log_metric(\"correctness\", correctness_score)\n",
    "        mlflow.log_metric(\"solution_similarity\", similarity_score)\n",
    "        mlflow.log_text(problem_translated, \"problem_translated.txt\")\n",
    "        mlflow.log_text(solution_translated, \"solution_translated.txt\")\n",
    "        mlflow.log_text(expected_answer, \"expected_answer.txt\")\n",
    "        mlflow.log_text(generated_answer, \"generated_answer.txt\")\n"
   ],
   "metadata": {
    "collapsed": false,
    "ExecuteTime": {
     "end_time": "2025-01-08T20:16:56.217722Z",
     "start_time": "2025-01-08T20:15:17.836492Z"
    }
   }
  }
 ],
 "metadata": {
  "kernelspec": {
   "display_name": "Python 3",
   "language": "python",
   "name": "python3"
  },
  "language_info": {
   "codemirror_mode": {
    "name": "ipython",
    "version": 2
   },
   "file_extension": ".py",
   "mimetype": "text/x-python",
   "name": "python",
   "nbconvert_exporter": "python",
   "pygments_lexer": "ipython2",
   "version": "2.7.6"
  }
 },
 "nbformat": 4,
 "nbformat_minor": 0
}
