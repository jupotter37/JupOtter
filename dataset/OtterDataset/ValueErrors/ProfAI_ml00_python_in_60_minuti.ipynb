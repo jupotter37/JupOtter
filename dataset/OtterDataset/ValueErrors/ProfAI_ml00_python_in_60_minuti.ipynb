{
 "cells": [
  {
   "cell_type": "markdown",
   "metadata": {
    "colab_type": "text",
    "id": "wFpQNKebb0VZ"
   },
   "source": [
    "# Da zero a Python in 60 minuti"
   ]
  },
  {
   "cell_type": "markdown",
   "metadata": {
    "colab_type": "text",
    "id": "7dSkI1WMZWEJ"
   },
   "source": [
    "## Indice\n",
    " * [Introduzione](#intro)\n",
    " * [Input e output](#io)\n",
    " * [Le variabili](#var)\n",
    " * [Tipi di dati](#types)\n",
    " * [Liste, tuple e set](#list)\n",
    " * [Dizionari](#dict)\n",
    " * [I cicli](#loop)\n",
    " * [Istruzioni condizionali](#if)\n",
    " * [Le funzioni](#func)\n",
    " * [Le classi](#oop)\n",
    " * [I moduli](#module)"
   ]
  },
  {
   "cell_type": "markdown",
   "metadata": {},
   "source": [
    "<a id='intro'></a>\n",
    "## Introduzione\n",
    "Python è uno dei linguaggi di programmazione più utilizzati al mondo, grazie alla sua semplicità e versalità viene sfruttato per moltissimi scopi diversi come lo sviluppo di applicazioni desktop, web e networking ma da del suo meglio proprio nel calcolo scientifico e nel **machine learning**.\n",
    "<br><br>\n",
    "Python è un **linguaggio interpretato**, questo vuol dire che, a differenza di un lingaggio compilato, il codice non viene direttamente compilato in un file eseguibile (ad esempio i file .exe di Windows), ma viene interpretato da un altro software, chiamato proprio *interprete*, che poi lo esegue. Questo vuol dire che lo stesso codice Python può essere eseguito su qualsiasi sistema operativo sulla quale sia disponibile l'interprete, come Windows, Unix/Linux, Macintosh e sistemi mobili come Android e iOS.\n",
    "<br><br>\n",
    "In realtà, prima di essere eseguito tramite l'interprete, un programma Python viene pre-compilato in un formato chiamato *bytecode*, il ché lo rende più performante di diversi linguaggi interpretati, anche se non al livello di linguaggi compilati a basso livello come C/C++ (Python è realizzato proprio in linguaggio C)."
   ]
  },
  {
   "cell_type": "markdown",
   "metadata": {
    "colab_type": "text",
    "id": "2F9KErpJd1lN"
   },
   "source": [
    "<a id='io'></a>\n",
    "## Input e Output\n",
    "Le funzioni fondamentali di un qualsiasi linguaggio di programmazione sono quelle che ci permettono di prendere delle informazioni in ingresso e mostrarle in uscita.\n",
    "<br>\n",
    "Con Python possiamo stampare dei dati su schermo utilizzando la funzione *print*."
   ]
  },
  {
   "cell_type": "code",
   "execution_count": 1,
   "metadata": {
    "colab": {
     "base_uri": "https://localhost:8080/",
     "height": 34
    },
    "colab_type": "code",
    "id": "fXvxjAOneNd6",
    "outputId": "8fcbf867-665a-4f59-99fc-6d8eed954998"
   },
   "outputs": [
    {
     "name": "stdout",
     "output_type": "stream",
     "text": [
      "Ciao mondo\n"
     ]
    }
   ],
   "source": [
    "print(\"Ciao mondo\")"
   ]
  },
  {
   "cell_type": "markdown",
   "metadata": {
    "colab_type": "text",
    "id": "dN_DpIrqeeH5"
   },
   "source": [
    "In questo caso il dato che abbiamo stampato è una stringa, cioè del testo, che viene racchiusa tra doppi apici. \n",
    "<br>\n",
    "Utilizzando questa stessa funzione avremmo potuto anche stampare dei numeri."
   ]
  },
  {
   "cell_type": "code",
   "execution_count": 2,
   "metadata": {
    "colab": {
     "base_uri": "https://localhost:8080/",
     "height": 34
    },
    "colab_type": "code",
    "id": "7Vr-DdaUe1gJ",
    "outputId": "ef7ef5f9-9bc8-4bc3-93ed-12b49624f418"
   },
   "outputs": [
    {
     "name": "stdout",
     "output_type": "stream",
     "text": [
      "5\n"
     ]
    }
   ],
   "source": [
    "print(5)"
   ]
  },
  {
   "cell_type": "markdown",
   "metadata": {
    "colab_type": "text",
    "id": "k08A3VkoeR_b"
   },
   "source": [
    "Con Python possiamo eseguire le varie **operazioni matematiche** utilizzando l'operatore corretto"
   ]
  },
  {
   "cell_type": "code",
   "execution_count": 3,
   "metadata": {
    "colab": {
     "base_uri": "https://localhost:8080/",
     "height": 103
    },
    "colab_type": "code",
    "id": "KGIGfXx6fB-X",
    "outputId": "7c1a8358-95ee-4c75-fe22-fdd127cf6379"
   },
   "outputs": [
    {
     "name": "stdout",
     "output_type": "stream",
     "text": [
      "8\n",
      "3\n",
      "6\n",
      "2.0\n",
      "1\n",
      "52\n"
     ]
    }
   ],
   "source": [
    "# somma\n",
    "print(5+3)\n",
    "\n",
    "# sottrazione\n",
    "print(4-1)\n",
    "\n",
    "# prodotto\n",
    "print(3*2)\n",
    "\n",
    "# divisione\n",
    "print(4/2)\n",
    "\n",
    "# resto\n",
    "print(5%2)\n",
    "\n",
    "# unire due stringhe\n",
    "print(\"5\"+\"2\")"
   ]
  },
  {
   "cell_type": "markdown",
   "metadata": {
    "colab_type": "text",
    "id": "bMW03EGEc_2r"
   },
   "source": [
    "Come vedi dall'ultimo print, l'utilizzo dell'operatore somma (+) su due stringhe ha l'effetto di unirle.\n",
    "<br>\n",
    "Il testo inserito dopo il carattere # è un **commento**, il suo scopo è quello di permetterci di inserire annotazioni nel codice, che poi verranno scartate dall'interprete e quindi non utilizzate in alcun modo dal programma.\n",
    "<br><br>\n",
    "E' possibile anche stampare più dati, anche di tipo differente, semplicemente separandoli con una virgola, se si tratta solo di stringhe possiamo anche utilizzare l'operatore somma (+)."
   ]
  },
  {
   "cell_type": "code",
   "execution_count": 4,
   "metadata": {},
   "outputs": [
    {
     "name": "stdout",
     "output_type": "stream",
     "text": [
      "5 + 3 = 8\n",
      "5 + 3 = 8\n",
      "5 + 3 = 8\n"
     ]
    }
   ],
   "source": [
    "print(\"5 + 3 = \"+\"8\")\n",
    "print(\"5 + 3 =\",8)\n",
    "print(\"5 + 3 =\",5+3)"
   ]
  },
  {
   "cell_type": "markdown",
   "metadata": {},
   "source": [
    "Per acquisire dei dati possiamo invece utilizzare la funzione input."
   ]
  },
  {
   "cell_type": "code",
   "execution_count": 5,
   "metadata": {
    "colab": {
     "base_uri": "https://localhost:8080/",
     "height": 51
    },
    "colab_type": "code",
    "id": "NQ7RzV5ggLda",
    "outputId": "9a101ecf-5b48-4f2e-9724-2a99d03570f3"
   },
   "outputs": [
    {
     "name": "stdout",
     "output_type": "stream",
     "text": [
      "Come ti chiami ? Giuseppe\n",
      "Felice di conoscerti Giuseppe\n"
     ]
    }
   ],
   "source": [
    "name = input(\"Come ti chiami ? \")\n",
    "print(\"Felice di conoscerti\",name)"
   ]
  },
  {
   "cell_type": "markdown",
   "metadata": {
    "colab_type": "text",
    "id": "iaKMAdIjgPQL"
   },
   "source": [
    "In questo caso abbiamo immagazzianto l'input inserito da tastiera all'interno di una **variabile** che poi abbiamo stampato su schermo.\n",
    "<br>"
   ]
  },
  {
   "cell_type": "markdown",
   "metadata": {
    "colab_type": "text",
    "id": "pdaVW7WLb23-"
   },
   "source": [
    "<a id='var'></a>\n",
    "## Le variabili\n",
    "Una variabile serve per immagazzinare dati, possiamo assegnare un dato a una variabile usando l'operatore di assegnazione (=)."
   ]
  },
  {
   "cell_type": "code",
   "execution_count": 7,
   "metadata": {
    "colab": {},
    "colab_type": "code",
    "id": "cmSc3Sy4hP7H"
   },
   "outputs": [
    {
     "name": "stdout",
     "output_type": "stream",
     "text": [
      "5\n",
      "ciao\n"
     ]
    }
   ],
   "source": [
    "num = 5\n",
    "print(num)\n",
    "\n",
    "word = \"ciao\"\n",
    "print(word)"
   ]
  },
  {
   "cell_type": "markdown",
   "metadata": {},
   "source": [
    "Il nome della variabile viene definito da noi, è buona norma utilizzare un nome che rappresenta il contenuto della variabile, in modo da facilitare la lettura del codice."
   ]
  },
  {
   "cell_type": "code",
   "execution_count": 9,
   "metadata": {},
   "outputs": [
    {
     "name": "stdout",
     "output_type": "stream",
     "text": [
      "Inserisci un nome per il tuo nuovo gatto: Fluffi\n",
      "Fluffi è il tuo nuovo padrone\n"
     ]
    }
   ],
   "source": [
    "cat = input(\"Inserisci un nome per il tuo nuovo gatto: \")\n",
    "print(cat+\" è il tuo nuovo padrone\")"
   ]
  },
  {
   "cell_type": "markdown",
   "metadata": {
    "colab_type": "text",
    "id": "dIqoBPy4kNSU"
   },
   "source": [
    "<a id='types'></a>\n",
    "## Tipi di dati\n",
    "Python è un linguaggio **non tipizzato** questo vuol dire che il tipo di dato che una variabile può contenere non va dichiarato espressamente. Per conoscere il tipo di dato che una variabile contiene possiamo usare la funzione type."
   ]
  },
  {
   "cell_type": "code",
   "execution_count": 10,
   "metadata": {
    "colab": {
     "base_uri": "https://localhost:8080/",
     "height": 34
    },
    "colab_type": "code",
    "id": "sXh6P8aZgnDe",
    "outputId": "49de4027-6218-4099-f57c-1dbd6c41e47b"
   },
   "outputs": [
    {
     "data": {
      "text/plain": [
       "str"
      ]
     },
     "execution_count": 10,
     "metadata": {},
     "output_type": "execute_result"
    }
   ],
   "source": [
    "var = \"ciao\"\n",
    "type(var)"
   ]
  },
  {
   "cell_type": "markdown",
   "metadata": {},
   "source": [
    "**NOTA BENE** Jupyter Notebook e l'interprete interattivo di Python stampano l'output dell'ultima istruzione anche senza utilizzare esplicitamente la funzione *print*."
   ]
  },
  {
   "cell_type": "markdown",
   "metadata": {
    "colab_type": "text",
    "id": "C4JNDK2gmOpV"
   },
   "source": [
    "I tipi di dati principali che Python ci mette a disposizine sono i seguenti:\n",
    " * **Interi**: numeri interi (es: 5, 10,  123)\n",
    " * **Float**: numeri in virgola mobile (es: 4.34, 5.31, 0.17)\n",
    " * **Stringhe**: del testo (es: \"ciao\", \"abc\", \"Yo, come butta fratello ?\")\n",
    " * **Booleani**: possono avere solo due valori vero/falso (True/False)"
   ]
  },
  {
   "cell_type": "code",
   "execution_count": 11,
   "metadata": {
    "colab": {
     "base_uri": "https://localhost:8080/",
     "height": 34
    },
    "colab_type": "code",
    "id": "qf2cRHTwn1CF",
    "outputId": "4f2f5605-c633-4180-a3a0-5853ae0a5cf6"
   },
   "outputs": [
    {
     "data": {
      "text/plain": [
       "bool"
      ]
     },
     "execution_count": 11,
     "metadata": {},
     "output_type": "execute_result"
    }
   ],
   "source": [
    "# Intero\n",
    "var = 5\n",
    "\n",
    "# Float\n",
    "var = 4.15\n",
    "\n",
    "# Stringa\n",
    "var = \"ciao ciao\"\n",
    "\n",
    "# Boolean\n",
    "var = True\n",
    "\n",
    "type(var)"
   ]
  },
  {
   "cell_type": "markdown",
   "metadata": {
    "colab_type": "text",
    "id": "aHjXd8iqoEg7"
   },
   "source": [
    "Con python possiamo convertire un tipo di dato in un altro con un'operazione chiamata casting"
   ]
  },
  {
   "cell_type": "markdown",
   "metadata": {
    "colab_type": "text",
    "id": "BgP1lT_ro6k2"
   },
   "source": [
    "#### ES. 1: Casting da intero a stringa"
   ]
  },
  {
   "cell_type": "code",
   "execution_count": 12,
   "metadata": {
    "colab": {
     "base_uri": "https://localhost:8080/",
     "height": 51
    },
    "colab_type": "code",
    "id": "8WjdSh1loCWw",
    "outputId": "a456e4fc-44fd-4cd5-841c-59d9e5909453"
   },
   "outputs": [
    {
     "name": "stdout",
     "output_type": "stream",
     "text": [
      "5\n",
      "<class 'str'>\n"
     ]
    }
   ],
   "source": [
    "# Creiamo una variabile che contiene un'intero\n",
    "var = 5\n",
    "\n",
    "# Convertiamo la variabile da intero a stringa\n",
    "var = str(var)\n",
    "\n",
    "print(var)\n",
    "print(type(var))"
   ]
  },
  {
   "cell_type": "markdown",
   "metadata": {
    "colab_type": "text",
    "id": "5WI__YUspQdp"
   },
   "source": [
    "#### ES. 2: Casting da intero a float"
   ]
  },
  {
   "cell_type": "code",
   "execution_count": 13,
   "metadata": {
    "colab": {
     "base_uri": "https://localhost:8080/",
     "height": 51
    },
    "colab_type": "code",
    "id": "n06E8AbNpCB5",
    "outputId": "fd9236b3-16a5-47cb-8c26-64c5aea47b94"
   },
   "outputs": [
    {
     "name": "stdout",
     "output_type": "stream",
     "text": [
      "1.0\n",
      "<class 'float'>\n"
     ]
    }
   ],
   "source": [
    "# Creiamo una variabile che contiene un intero\n",
    "var = 1\n",
    "\n",
    "# Convertiamo la variabile da intero a float\n",
    "var = float(var)\n",
    "\n",
    "print(var)\n",
    "print(type(var))"
   ]
  },
  {
   "cell_type": "markdown",
   "metadata": {
    "colab_type": "text",
    "id": "TB6rS6oGpZGf"
   },
   "source": [
    "#### ES. 3: Casting da stringa a intero\n",
    "\n"
   ]
  },
  {
   "cell_type": "code",
   "execution_count": 14,
   "metadata": {
    "colab": {
     "base_uri": "https://localhost:8080/",
     "height": 51
    },
    "colab_type": "code",
    "id": "sxwMFLWSpD_v",
    "outputId": "7c5bd9d0-a5e9-447d-8f3f-08f667c2237a"
   },
   "outputs": [
    {
     "name": "stdout",
     "output_type": "stream",
     "text": [
      "10\n",
      "<class 'int'>\n"
     ]
    }
   ],
   "source": [
    "# Creiamo una variabile che contiene una stringa\n",
    "var = \"10\"\n",
    "\n",
    "# Convertiamo la variabile da stringa a intero\n",
    "var = int(var)\n",
    "\n",
    "print(var)\n",
    "print(type(var))"
   ]
  },
  {
   "cell_type": "markdown",
   "metadata": {
    "colab_type": "text",
    "id": "ORxBFiNTpuBl"
   },
   "source": [
    "Ovviamente il casting da stringa ad intero non si può fare se la stringa non è un numero.\n",
    "#### ES. 3: Casting da stringa a intero (sbagliato)"
   ]
  },
  {
   "cell_type": "code",
   "execution_count": 15,
   "metadata": {
    "colab": {
     "base_uri": "https://localhost:8080/",
     "height": 233
    },
    "colab_type": "code",
    "id": "RS9qkW0cproH",
    "outputId": "d2de8784-4129-4173-a328-0a1a2a6e15ca"
   },
   "outputs": [
    {
     "ename": "ValueError",
     "evalue": "could not convert string to float: 'boh'",
     "output_type": "error",
     "traceback": [
      "\u001b[0;31m---------------------------------------------------------------------------\u001b[0m",
      "\u001b[0;31mValueError\u001b[0m                                Traceback (most recent call last)",
      "\u001b[0;32m<ipython-input-15-80155e966d89>\u001b[0m in \u001b[0;36m<module>\u001b[0;34m()\u001b[0m\n\u001b[1;32m      3\u001b[0m \u001b[0;34m\u001b[0m\u001b[0m\n\u001b[1;32m      4\u001b[0m \u001b[0;31m# Convertiamo la variabile da intero a float\u001b[0m\u001b[0;34m\u001b[0m\u001b[0;34m\u001b[0m\u001b[0m\n\u001b[0;32m----> 5\u001b[0;31m \u001b[0mvar\u001b[0m \u001b[0;34m=\u001b[0m \u001b[0mfloat\u001b[0m\u001b[0;34m(\u001b[0m\u001b[0mvar\u001b[0m\u001b[0;34m)\u001b[0m\u001b[0;34m\u001b[0m\u001b[0m\n\u001b[0m\u001b[1;32m      6\u001b[0m \u001b[0;34m\u001b[0m\u001b[0m\n\u001b[1;32m      7\u001b[0m \u001b[0mprint\u001b[0m\u001b[0;34m(\u001b[0m\u001b[0mvar\u001b[0m\u001b[0;34m)\u001b[0m\u001b[0;34m\u001b[0m\u001b[0m\n",
      "\u001b[0;31mValueError\u001b[0m: could not convert string to float: 'boh'"
     ]
    }
   ],
   "source": [
    "# Creiamo una variabile che contiene un intero\n",
    "var = \"boh\"\n",
    "\n",
    "# Convertiamo la variabile da intero a float\n",
    "var = float(var)\n",
    "\n",
    "print(var)\n",
    "print(type(var))"
   ]
  },
  {
   "cell_type": "markdown",
   "metadata": {
    "colab_type": "text",
    "id": "Lsej6DAzqEU7"
   },
   "source": [
    "Come vedi il tentativo di convertire una parola in numero ha causato un'errore, che in Python vengono chiamate **eccezioni**.<br> \n",
    "Ogni volta che si verifica un'eccezione Python ci mostra:\n",
    " * la riga esatta in cui si è verificato (La freccia verde)\n",
    " * il tipo di eccezone (ValueError)\n",
    " * una breve descrizione (*could not convert string to float: 'boh' / Impossibile convertire la stringa 'boh' in float*)\n",
    " \n",
    " \n",
    " **APPROFONDIMENTO**\n",
    " Possiamo gestire le eccezioni con dei try-except, non tratteremo l'argomento in questo tutorial, ma puoi trovare informazioni in merito [qui](https://docs.python.it/html/tut/node10.html)\n",
    " \n",
    " Quando si tratta di unire stringhe e numeri, possiamo usare il casting"
   ]
  },
  {
   "cell_type": "code",
   "execution_count": 16,
   "metadata": {},
   "outputs": [
    {
     "name": "stdout",
     "output_type": "stream",
     "text": [
      "I gatti hanno 7 vite\n"
     ]
    }
   ],
   "source": [
    "cat_lives = 7\n",
    "print(\"I gatti hanno \"+str(cat_lives)+\" vite\")"
   ]
  },
  {
   "cell_type": "markdown",
   "metadata": {},
   "source": [
    "### Formattazione"
   ]
  },
  {
   "cell_type": "markdown",
   "metadata": {},
   "source": [
    "Un'altra soluzione consiste nell'utilizzare l'operatore di formattazione (%)"
   ]
  },
  {
   "cell_type": "code",
   "execution_count": 17,
   "metadata": {},
   "outputs": [
    {
     "name": "stdout",
     "output_type": "stream",
     "text": [
      "I gatti hanno 7 vite\n"
     ]
    }
   ],
   "source": [
    "cat_lives = 7\n",
    "print(\"I gatti hanno %d vite\" % cat_lives)"
   ]
  },
  {
   "cell_type": "markdown",
   "metadata": {},
   "source": [
    "Il carattere dopo l'operatore di formattazione indica il tipo di variabile, i principali sono:\n",
    "* **%d**: numero intero\n",
    "* **%f**: numero in virgola mobile\n",
    "* **%s**: stringa\n",
    "\n",
    "Per la lista completa, dai uno sguardo [qui](https://docs.python.org/3/library/stdtypes.html#old-string-formatting).\n",
    "<br>\n",
    "Possiamo anche utilizzare più operatori di formattazione all'interno di una stringa."
   ]
  },
  {
   "cell_type": "code",
   "execution_count": 18,
   "metadata": {},
   "outputs": [
    {
     "name": "stdout",
     "output_type": "stream",
     "text": [
      "Come si chiama il tuo gatto ? Elon\n",
      "Quante vite ha perso ? 1\n",
      "Il tuo gatto Elon ha ancora 6 vite\n"
     ]
    }
   ],
   "source": [
    "cat_lives = 7\n",
    "\n",
    "cat = input(\"Come si chiama il tuo gatto ? \")\n",
    "my_cat_lives = input(\"Quante vite ha perso ? \")\n",
    "\n",
    "my_cat_lives = int(my_cat_lives)\n",
    "\n",
    "my_cat_lives = cat_lives-my_cat_lives\n",
    "\n",
    "print(\"Il tuo gatto %s ha ancora %d vite\" % (cat, my_cat_lives))"
   ]
  },
  {
   "cell_type": "markdown",
   "metadata": {},
   "source": [
    "**NOTA BENE** la funzione input ritorna una stringa, quindi abbiamo dovuto usare il casting per convertirla in un'intero"
   ]
  },
  {
   "cell_type": "markdown",
   "metadata": {},
   "source": [
    "Un'altra soluzione ancora, quella consigliata per Python 3, consiste nell'utilizzare il metodo lo *format*"
   ]
  },
  {
   "cell_type": "code",
   "execution_count": 19,
   "metadata": {},
   "outputs": [
    {
     "name": "stdout",
     "output_type": "stream",
     "text": [
      "Come si chiama il tuo gatto ? Elon\n",
      "Quante vite ha perso ? 6\n",
      "Il tuo gatto Elon ha ancora 1 vite\n"
     ]
    }
   ],
   "source": [
    "cat_lives = 7\n",
    "\n",
    "cat = input(\"Come si chiama il tuo gatto ? \")\n",
    "my_cat_lives = int(input(\"Quante vite ha perso ? \"))\n",
    "my_cat_lives = cat_lives-my_cat_lives\n",
    "\n",
    "print(\"Il tuo gatto {name} ha ancora {lives} vite\".format(name=cat, lives=my_cat_lives))"
   ]
  },
  {
   "cell_type": "markdown",
   "metadata": {},
   "source": [
    "Se usiamo una versione di Python superiore alla 3.6 abbiamo anche un'altro modo per formattare le stringhe, chiamato **f-strings**"
   ]
  },
  {
   "cell_type": "code",
   "execution_count": 20,
   "metadata": {},
   "outputs": [
    {
     "name": "stdout",
     "output_type": "stream",
     "text": [
      "Come si chiama il tuo gatto ? Elon\n",
      "Quante vite ha perso ? 2\n",
      "Il tuo gatto Elon ha ancora 5 vite\n"
     ]
    }
   ],
   "source": [
    "cat_lives = 7\n",
    "\n",
    "cat = input(\"Come si chiama il tuo gatto ? \")\n",
    "my_cat_lives = int(input(\"Quante vite ha perso ? \"))\n",
    "my_cat_lives = cat_lives-my_cat_lives\n",
    "\n",
    "# inseriamo una f prima della stringa per indicare la formattazione\n",
    "print(f\"Il tuo gatto {cat} ha ancora {my_cat_lives} vite\")"
   ]
  },
  {
   "cell_type": "markdown",
   "metadata": {
    "colab_type": "text",
    "id": "Nr-zPSGkrgUZ"
   },
   "source": [
    "<a id='list'></a>\n",
    "## Liste, Tuple e Set\n",
    "Ogni linguaggio di programmazione ci da la possibilità di creare sequenze di dati, Python lo fa con tre tipi, le liste e le tuple e i set\n",
    "<br>\n",
    "Possiamo creare una lista di dati semplicemente racchiudendoli tra parentesti quadre e separandoli con una virgola"
   ]
  },
  {
   "cell_type": "code",
   "execution_count": 4,
   "metadata": {
    "colab": {
     "base_uri": "https://localhost:8080/",
     "height": 51
    },
    "colab_type": "code",
    "id": "BvccptLFp7pz",
    "outputId": "5ee6094f-e704-4259-b2c5-8529cbdd95d3"
   },
   "outputs": [
    {
     "name": "stdout",
     "output_type": "stream",
     "text": [
      "[1, 2, 3, 5, 8, 13, 21]\n",
      "<class 'list'>\n"
     ]
    }
   ],
   "source": [
    "l = [1, 2 ,3 ,5 ,8 ,13 ,21]\n",
    "print(l)\n",
    "print(type(l))"
   ]
  },
  {
   "cell_type": "markdown",
   "metadata": {
    "colab_type": "text",
    "id": "gkF9MiT_sT1f"
   },
   "source": [
    "In questo caso abbiamo creato una lista che contiene i primi 7 valori della successione di Fibonacci. \n",
    "<br>\n",
    "Possiamo conoscere la lunghezza di una lista utilizzando la funzione len."
   ]
  },
  {
   "cell_type": "code",
   "execution_count": 5,
   "metadata": {
    "colab": {
     "base_uri": "https://localhost:8080/",
     "height": 34
    },
    "colab_type": "code",
    "id": "G8f7BB03sN8D",
    "outputId": "9b703c2b-c816-4d69-fab4-2e3ec5e8e9c7"
   },
   "outputs": [
    {
     "data": {
      "text/plain": [
       "7"
      ]
     },
     "execution_count": 5,
     "metadata": {},
     "output_type": "execute_result"
    }
   ],
   "source": [
    "len(l)"
   ]
  },
  {
   "cell_type": "markdown",
   "metadata": {},
   "source": [
    "### Indexing"
   ]
  },
  {
   "cell_type": "markdown",
   "metadata": {
    "colab_type": "text",
    "id": "EPYEIEPgsoqf"
   },
   "source": [
    "Per accedere ad un elemento della lista dobbiamo inserire il suo **indice** tra parentesi quadre, questa opeazione è chiamata *indexing*.\n",
    "<br>\n",
    "**NOTA BENISSIMO** In Python e in quasi tutti i linguaggi di programmazione gli indici partono da 0."
   ]
  },
  {
   "cell_type": "code",
   "execution_count": 6,
   "metadata": {
    "colab": {
     "base_uri": "https://localhost:8080/",
     "height": 51
    },
    "colab_type": "code",
    "id": "5muXSlokshvy",
    "outputId": "39f3617e-5d92-4641-c449-f2391c126ec3"
   },
   "outputs": [
    {
     "name": "stdout",
     "output_type": "stream",
     "text": [
      "1\n",
      "2\n"
     ]
    }
   ],
   "source": [
    "# stampiamo il primo elemento della lista\n",
    "print(l[0])\n",
    "\n",
    "#stampiamo il secondo elemento della lista\n",
    "print(l[1])"
   ]
  },
  {
   "cell_type": "markdown",
   "metadata": {
    "colab_type": "text",
    "id": "e7rGwjFOtP_8"
   },
   "source": [
    "L'utilizzo del - davanti all'indice ci permette di accedere alla lista dall'ultimo elemento verso il primo, in questo caso l'indice parte da 1 e non da zero, quindi con -1 accederemo all'ultimo elemento della lista."
   ]
  },
  {
   "cell_type": "code",
   "execution_count": 7,
   "metadata": {
    "colab": {
     "base_uri": "https://localhost:8080/",
     "height": 51
    },
    "colab_type": "code",
    "id": "0lhjx5XVtC35",
    "outputId": "dfad5ccc-893f-464e-b291-b21f697e5206"
   },
   "outputs": [
    {
     "name": "stdout",
     "output_type": "stream",
     "text": [
      "21\n",
      "8\n"
     ]
    }
   ],
   "source": [
    "# stampiamo l'ultimo elemento della lista\n",
    "print(l[-1])\n",
    "\n",
    "# stampiamo il terzultimo elemento della lista\n",
    "print(l[-3])"
   ]
  },
  {
   "cell_type": "markdown",
   "metadata": {},
   "source": [
    "### Slicing\n",
    "Possiamo estrarre solo una parte della lista inserendo gli indici di inizio (incluso) e fine (escluso) separati da (:)"
   ]
  },
  {
   "cell_type": "code",
   "execution_count": 8,
   "metadata": {},
   "outputs": [
    {
     "name": "stdout",
     "output_type": "stream",
     "text": [
      "[1, 2, 3]\n",
      "[8, 13]\n",
      "[13, 21]\n",
      "[1, 2, 3, 5, 8]\n"
     ]
    }
   ],
   "source": [
    "# primi 3 elementi della lista\n",
    "print(l[:3])\n",
    "\n",
    "# quarto e quinto elemento \n",
    "print(l[4:6])\n",
    "\n",
    "# ultimi due elementi\n",
    "print(l[-2:])\n",
    "\n",
    "# fino ali ultimi 2 elementi\n",
    "print(l[:-2])"
   ]
  },
  {
   "cell_type": "markdown",
   "metadata": {},
   "source": [
    "Possiamo anche utilizzare un terzo valore, che indicherà il verso della selezione, valore 1: da sinistra a destra (valore di default) valore -1 da destra a sinistra (per ribaltare la lista)."
   ]
  },
  {
   "cell_type": "code",
   "execution_count": 9,
   "metadata": {},
   "outputs": [
    {
     "data": {
      "text/plain": [
       "[21, 13, 8, 5, 3, 2, 1]"
      ]
     },
     "execution_count": 9,
     "metadata": {},
     "output_type": "execute_result"
    }
   ],
   "source": [
    "# dall'ultimo al primo\n",
    "l[::-1]"
   ]
  },
  {
   "cell_type": "markdown",
   "metadata": {},
   "source": [
    "### Verifica\n",
    "Possiamo verificare se un elemento è contenuto nella lista con lo statement *in*, questo ritorna True se l'elemento è contenuto nella lista, altrimenti ritorna False (*in* è molto utile utilizzato per creare istruzioni condizionali, di cui parleremo più sotto)."
   ]
  },
  {
   "cell_type": "code",
   "execution_count": 10,
   "metadata": {},
   "outputs": [
    {
     "name": "stdout",
     "output_type": "stream",
     "text": [
      "False\n",
      "True\n"
     ]
    }
   ],
   "source": [
    "l = [1, 2 ,3 ,5 ,8 ,13 ,21]\n",
    "print(7 in l)\n",
    "\n",
    "l = [\"casa\", \"pozzo\", \"albero\"]\n",
    "print(\"albero\" in l)"
   ]
  },
  {
   "cell_type": "markdown",
   "metadata": {},
   "source": [
    "### Modifica"
   ]
  },
  {
   "cell_type": "markdown",
   "metadata": {
    "colab_type": "text",
    "id": "ITIPxUB7txTI"
   },
   "source": [
    "Possiamo modificare il valore di un elemento della lista semplicemente accedendo ad esso e eseguendo un'assegnazione."
   ]
  },
  {
   "cell_type": "code",
   "execution_count": 30,
   "metadata": {
    "colab": {
     "base_uri": "https://localhost:8080/",
     "height": 51
    },
    "colab_type": "code",
    "id": "n2OlFHX6tv8E",
    "outputId": "e7122935-ec3c-4a20-9bb9-7fdebf5ec8b7"
   },
   "outputs": [
    {
     "name": "stdout",
     "output_type": "stream",
     "text": [
      "Vecchio valore in posizione 5: 8\n",
      "Nuovo valore in posizione 5: 10\n"
     ]
    }
   ],
   "source": [
    "l = [1, 2 ,3 ,5 ,8 ,13 ,21]\n",
    "\n",
    "print(\"Vecchio valore in posizione 5: %d\" % l[4])\n",
    "\n",
    "# sostituiamo il valore alla posizione 3 con un 10\n",
    "l[4]=10\n",
    "\n",
    "#stampiamo l'ultimo elemento della lista\n",
    "print(\"Nuovo valore in posizione 5: %d\" % l[4])"
   ]
  },
  {
   "cell_type": "markdown",
   "metadata": {
    "colab_type": "text",
    "id": "LA69JeRiutNa"
   },
   "source": [
    "Per modificare il contenuto di una lista possiamo sfruttare i seguenti metodi:\n",
    "* **append(e)** aggiunge un elemento e in fondo alla lista\n",
    "* **insert(i,e)** aggiunge l'elemento e all'indice i della lista\n",
    "* **remove(e)** rimuove l'elemento e dalla lista\n",
    "* **pop(i)** rimuove l'elemento all'indice i\n"
   ]
  },
  {
   "cell_type": "code",
   "execution_count": 32,
   "metadata": {
    "colab": {
     "base_uri": "https://localhost:8080/",
     "height": 86
    },
    "colab_type": "code",
    "id": "FRm5vukJuU9q",
    "outputId": "0b702cf7-0b8b-407b-8cc2-3e2b8b5c58ed"
   },
   "outputs": [
    {
     "name": "stdout",
     "output_type": "stream",
     "text": [
      "['topo', 'gatto', 'cane']\n",
      "['topo', 'cane']\n",
      "['topo', 'bestia demoniaca', 'cane']\n",
      "['topo', \"dominatore della terra, dell'universo e di tutto il creato\", 'cane']\n"
     ]
    }
   ],
   "source": [
    "# creiamo una lista contenente solo due elementi\n",
    "animals = [\"topo\", \"gatto\"]\n",
    "\n",
    "# aggiungiamo la parola \"cane\" alla lista\n",
    "animals.append(\"cane\")\n",
    "print(animals)\n",
    "\n",
    "# rimuoviamo la parola \"gatto\" dalla lista\n",
    "animals.remove(\"gatto\")\n",
    "print(animals)\n",
    "\n",
    "# aggiungiamo un sinonimo di gatto alla posizione 1\n",
    "animals.insert(1,\"bestia demoniaca\")\n",
    "print(animals)\n",
    "\n",
    "# rimuoviamo l'elemento alla posizione 1\n",
    "animals.pop(1)\n",
    "\n",
    "# aggiungiamo un sinonimo più realistico di gatto alla posizione 1\n",
    "animals.insert(1,\"dominatore della terra, dell'universo e di tutto il creato\")\n",
    "print(animals)"
   ]
  },
  {
   "cell_type": "markdown",
   "metadata": {
    "colab_type": "text",
    "id": "J0V5t-4mx_xA"
   },
   "source": [
    "Passiamo alle tuple, possiamo creare una tupla inserendo gli elementi tra parentesi tonde e separandoli con una virgola"
   ]
  },
  {
   "cell_type": "code",
   "execution_count": null,
   "metadata": {
    "colab": {
     "base_uri": "https://localhost:8080/",
     "height": 34
    },
    "colab_type": "code",
    "id": "aQzIoiJBvuqo",
    "outputId": "25309e59-ccb6-4069-d151-9819c4240462"
   },
   "outputs": [],
   "source": [
    "t = (1, 2 ,3 ,5 ,8 ,13 ,21)\n",
    "print(t)\n",
    "print(type(t))"
   ]
  },
  {
   "cell_type": "markdown",
   "metadata": {
    "colab_type": "text",
    "id": "MX1e_j3_yXYu"
   },
   "source": [
    "Per l'accesso agli elementi vale la stessa regola delle liste, quindi indexing e slicing."
   ]
  },
  {
   "cell_type": "code",
   "execution_count": 34,
   "metadata": {
    "colab": {
     "base_uri": "https://localhost:8080/",
     "height": 51
    },
    "colab_type": "code",
    "id": "D75mqwx9yWk2",
    "outputId": "d88f3238-62aa-4e9f-bd7c-fa9f581cbf9d"
   },
   "outputs": [
    {
     "name": "stdout",
     "output_type": "stream",
     "text": [
      "1\n",
      "21\n"
     ]
    }
   ],
   "source": [
    "# Stampiamo il primo elemento della tupla\n",
    "print(t[0])\n",
    "\n",
    "# Stampiamo l'ultimo elemento della tupla\n",
    "print(t[-1])"
   ]
  },
  {
   "cell_type": "markdown",
   "metadata": {
    "colab_type": "text",
    "id": "mjQ1Ftvqyx6S"
   },
   "source": [
    "Che differenza c'è tra una lista e una tupla ? La differenza consiste nel fatto che, una volta creata, una tupla non può essere modificata."
   ]
  },
  {
   "cell_type": "code",
   "execution_count": 35,
   "metadata": {
    "colab": {
     "base_uri": "https://localhost:8080/",
     "height": 164
    },
    "colab_type": "code",
    "id": "RTb8O4l2yxGA",
    "outputId": "9a886f3d-bdde-48d0-8b93-16453a33ecf6"
   },
   "outputs": [
    {
     "ename": "TypeError",
     "evalue": "'tuple' object does not support item assignment",
     "output_type": "error",
     "traceback": [
      "\u001b[0;31m---------------------------------------------------------------------------\u001b[0m",
      "\u001b[0;31mTypeError\u001b[0m                                 Traceback (most recent call last)",
      "\u001b[0;32m<ipython-input-35-6dd06f73cec4>\u001b[0m in \u001b[0;36m<module>\u001b[0;34m()\u001b[0m\n\u001b[0;32m----> 1\u001b[0;31m \u001b[0mt\u001b[0m\u001b[0;34m[\u001b[0m\u001b[0;36m0\u001b[0m\u001b[0;34m]\u001b[0m \u001b[0;34m=\u001b[0m \u001b[0;36m5\u001b[0m\u001b[0;34m\u001b[0m\u001b[0m\n\u001b[0m",
      "\u001b[0;31mTypeError\u001b[0m: 'tuple' object does not support item assignment"
     ]
    }
   ],
   "source": [
    "t[0] = 5"
   ]
  },
  {
   "cell_type": "markdown",
   "metadata": {
    "colab_type": "text",
    "id": "RKDMwMHxy2xN"
   },
   "source": [
    "Come vedi il tentativo di modificare un'elemento della lista scatena un'eccezione di tipo TypeError, che ci informa proprio del fatto che gli elementi di una tupla non possono essere modificati."
   ]
  },
  {
   "cell_type": "markdown",
   "metadata": {},
   "source": [
    "Le stringe in Python possono essere considerate come tuple di caratteri, questo vuol dire che possiamo usare le operazioni di indexing e slicing anche su di esse."
   ]
  },
  {
   "cell_type": "code",
   "execution_count": 11,
   "metadata": {},
   "outputs": [
    {
     "name": "stdout",
     "output_type": "stream",
     "text": [
      "Hello\n",
      "dlrow olleH\n"
     ]
    },
    {
     "ename": "TypeError",
     "evalue": "'str' object does not support item assignment",
     "output_type": "error",
     "traceback": [
      "\u001b[0;31m---------------------------------------------------------------------------\u001b[0m",
      "\u001b[0;31mTypeError\u001b[0m                                 Traceback (most recent call last)",
      "\u001b[0;32m<ipython-input-11-9888b16a9851>\u001b[0m in \u001b[0;36m<module>\u001b[0;34m()\u001b[0m\n\u001b[1;32m      4\u001b[0m \u001b[0mprint\u001b[0m\u001b[0;34m(\u001b[0m\u001b[0ms\u001b[0m\u001b[0;34m[\u001b[0m\u001b[0;34m:\u001b[0m\u001b[0;34m:\u001b[0m\u001b[0;34m-\u001b[0m\u001b[0;36m1\u001b[0m\u001b[0;34m]\u001b[0m\u001b[0;34m)\u001b[0m\u001b[0;34m\u001b[0m\u001b[0m\n\u001b[1;32m      5\u001b[0m \u001b[0;34m\u001b[0m\u001b[0m\n\u001b[0;32m----> 6\u001b[0;31m \u001b[0ms\u001b[0m\u001b[0;34m[\u001b[0m\u001b[0;36m4\u001b[0m\u001b[0;34m]\u001b[0m\u001b[0;34m=\u001b[0m\u001b[0;34m\"s\"\u001b[0m\u001b[0;34m\u001b[0m\u001b[0m\n\u001b[0m",
      "\u001b[0;31mTypeError\u001b[0m: 'str' object does not support item assignment"
     ]
    }
   ],
   "source": [
    "s = \"Hello world\"\n",
    "\n",
    "print(s[:5])\n",
    "print(s[::-1])\n",
    "\n",
    "s[4]=\"s\""
   ]
  },
  {
   "cell_type": "markdown",
   "metadata": {},
   "source": [
    "Anche in questo caso il tentativo di modificare un elemento ha scatenato la stessa eccezione."
   ]
  },
  {
   "cell_type": "markdown",
   "metadata": {},
   "source": [
    "### Altre funzioni utili per liste e tuple"
   ]
  },
  {
   "cell_type": "code",
   "execution_count": 37,
   "metadata": {},
   "outputs": [
    {
     "name": "stdout",
     "output_type": "stream",
     "text": [
      "3\n",
      "3\n",
      "2\n",
      "2\n"
     ]
    }
   ],
   "source": [
    "hello_list = [\"Ciao\",\"Hello\",\"Hola\",\"Salut\",\"Hallo\",\"Ciao\"]\n",
    "hello_tuple = (\"Ciao\",\"Hello\",\"Hola\",\"Salut\",\"Hallo\",\"Ciao\")\n",
    "\n",
    "# ottieni l'indice dell'elemento\n",
    "print(hello_list.index('Salut'))\n",
    "print(hello_tuple.index('Salut'))\n",
    "\n",
    "# conta quante volte è presente un'elemento\n",
    "print(hello_list.count('Ciao'))\n",
    "print(hello_tuple.count('Ciao'))"
   ]
  },
  {
   "cell_type": "markdown",
   "metadata": {},
   "source": [
    "Veniamo ai set, i set sono insiemi di elementi unici non ordinati, questo vuol dire che un set non può contenere due volte lo stesso elemento e che non tiene conto della disposizione degli elementi al suo interno.\n",
    "<br>\n",
    "Possiamo creare un set inserendo gli elementi tra parentesi graffe e separandoli con una virgola."
   ]
  },
  {
   "cell_type": "code",
   "execution_count": 13,
   "metadata": {},
   "outputs": [
    {
     "name": "stdout",
     "output_type": "stream",
     "text": [
      "{1, 2, 3, 4, 5}\n",
      "<class 'set'>\n"
     ]
    }
   ],
   "source": [
    "my_set = {1,2,2,3,4,5,5}\n",
    "print(my_set)\n",
    "print(type(my_set))"
   ]
  },
  {
   "cell_type": "markdown",
   "metadata": {},
   "source": [
    "Come vedi gli elementi duplicati sono stati rimossi. Vediamo alcune funzioni utili per lavorare con i set."
   ]
  },
  {
   "cell_type": "code",
   "execution_count": 23,
   "metadata": {},
   "outputs": [
    {
     "name": "stdout",
     "output_type": "stream",
     "text": [
      "{'Federico', 'Giuseppe', 'Matteo', 'Antonio'}\n",
      "{'Giuseppe', 'Matteo', 'Federico', 'Lorenzo', 'Antonio'}\n",
      "{'Giuseppe', 'Matteo', 'Federico', 'Lorenzo', 'Antonio'}\n",
      "{'Giuseppe', 'Matteo', 'Federico', 'Lorenzo'}\n",
      "{'Giuseppe', 'Matteo', 'Federico', 'Lorenzo'}\n",
      "Giuseppe\n",
      "{'Matteo', 'Federico', 'Lorenzo'}\n",
      "set()\n"
     ]
    }
   ],
   "source": [
    "# creiamo un set di nomi di persona\n",
    "names = {\"Giuseppe\",\"Federico\",\"Antonio\",\"Matteo\"}\n",
    "print(names)\n",
    "\n",
    "# aggiungiamo un elemento al set\n",
    "names.add(\"Lorenzo\")\n",
    "print(names)\n",
    "\n",
    "# se il nome è già presente, non verrà aggiunto\n",
    "names.add(\"Federico\")\n",
    "print(names)\n",
    "\n",
    "# rimuoviamo un nome\n",
    "names.remove(\"Antonio\")\n",
    "print(names)\n",
    "\n",
    "# se il nome non è presente otterremo un'eccezione KeyError\n",
    "# in tal caso possiamo piuttosto usare discard\n",
    "names.discard(\"Paolo\")\n",
    "print(names)\n",
    "\n",
    "# estraiamo un elemento dal set\n",
    "name = names.pop()\n",
    "print(name)\n",
    "print(names)\n",
    "\n",
    "# svuoitamo il set\n",
    "names.clear()\n",
    "print(names)"
   ]
  },
  {
   "cell_type": "markdown",
   "metadata": {},
   "source": [
    "Possiamo convertire una lista in un set e vice versa utilizzando il casting.\n",
    "<br>\n",
    "**NOTA BENE** convertendo una lista in un set, gli elementi al suo interno verrano mischiati e i duplicati verranno rimossi."
   ]
  },
  {
   "cell_type": "code",
   "execution_count": 30,
   "metadata": {},
   "outputs": [
    {
     "name": "stdout",
     "output_type": "stream",
     "text": [
      "['Giuseppe', 'Federico', 'Giuseppe', 'Antonio', 'Matteo', 'Matteo']\n",
      "<class 'list'>\n",
      "{'Federico', 'Giuseppe', 'Matteo', 'Antonio'}\n",
      "<class 'set'>\n",
      "['Federico', 'Giuseppe', 'Matteo', 'Antonio']\n",
      "<class 'list'>\n"
     ]
    }
   ],
   "source": [
    "my_list = [\"Giuseppe\",\"Federico\",\"Giuseppe\",\"Antonio\",\"Matteo\",\"Matteo\"]\n",
    "print(my_list)\n",
    "print(type(my_list))\n",
    "\n",
    "my_set = set(my_list)\n",
    "print(my_set)\n",
    "print(type(my_set))\n",
    "\n",
    "my_list = list(my_set)\n",
    "print(my_list)\n",
    "print(type(my_list))"
   ]
  },
  {
   "cell_type": "markdown",
   "metadata": {},
   "source": [
    "Possiamo anche creare un set immutabile utilizzando **frozenset**, in questo caso una volta creato non potremo più aggiungere o rimuovere elementi dal set."
   ]
  },
  {
   "cell_type": "code",
   "execution_count": 27,
   "metadata": {},
   "outputs": [
    {
     "name": "stdout",
     "output_type": "stream",
     "text": [
      "frozenset({'Federico', 'Giuseppe', 'Matteo', 'Antonio'})\n"
     ]
    }
   ],
   "source": [
    "names = frozenset({\"Giuseppe\",\"Federico\",\"Antonio\",\"Matteo\"})\n",
    "print(names)"
   ]
  },
  {
   "cell_type": "markdown",
   "metadata": {
    "colab_type": "text",
    "id": "vhgo2EnpzGAF"
   },
   "source": [
    "<a id='dict'></a>\n",
    "## Dizionari\n",
    "Un dizionario è un tipo Python che ci permette di salvare dei dati in un formato chiave valore, in maniera tale da poter utilizzare la chiave per accedere al valore. Possiamo creare un dizionario con Python racchiudendolo tra parentesi graffe e separando chiavi e valori con (:)"
   ]
  },
  {
   "cell_type": "code",
   "execution_count": 38,
   "metadata": {
    "colab": {},
    "colab_type": "code",
    "id": "G4oig6SPy0tU"
   },
   "outputs": [
    {
     "data": {
      "text/plain": [
       "dict"
      ]
     },
     "execution_count": 38,
     "metadata": {},
     "output_type": "execute_result"
    }
   ],
   "source": [
    "# Creiamo un dizionario con una lista della spesa\n",
    "# specificando cosa comprare come chiave e la quantità come valore\n",
    "items = {\"latte\":3,\"riso\": 2, \"tofu\":5}\n",
    "type(items)"
   ]
  },
  {
   "cell_type": "markdown",
   "metadata": {
    "colab_type": "text",
    "id": "0FKKz8Ku0IjY"
   },
   "source": [
    "Possiamo accedere ad un elemento del dizionario inserendo la chiave tra parentesi quadre"
   ]
  },
  {
   "cell_type": "code",
   "execution_count": 39,
   "metadata": {
    "colab": {
     "base_uri": "https://localhost:8080/",
     "height": 34
    },
    "colab_type": "code",
    "id": "CUUxEO9P0EPn",
    "outputId": "bab50da0-3937-4682-d686-7c4143c99bb7"
   },
   "outputs": [
    {
     "data": {
      "text/plain": [
       "5"
      ]
     },
     "execution_count": 39,
     "metadata": {},
     "output_type": "execute_result"
    }
   ],
   "source": [
    "items[\"tofu\"]"
   ]
  },
  {
   "cell_type": "markdown",
   "metadata": {},
   "source": [
    "Se la chiave è inesistente otterremo un'eccezione di tipo KeyError."
   ]
  },
  {
   "cell_type": "code",
   "execution_count": 40,
   "metadata": {},
   "outputs": [
    {
     "ename": "KeyError",
     "evalue": "'cereali'",
     "output_type": "error",
     "traceback": [
      "\u001b[0;31m---------------------------------------------------------------------------\u001b[0m",
      "\u001b[0;31mKeyError\u001b[0m                                  Traceback (most recent call last)",
      "\u001b[0;32m<ipython-input-40-80c7c537d81d>\u001b[0m in \u001b[0;36m<module>\u001b[0;34m()\u001b[0m\n\u001b[0;32m----> 1\u001b[0;31m \u001b[0mitems\u001b[0m\u001b[0;34m[\u001b[0m\u001b[0;34m\"cereali\"\u001b[0m\u001b[0;34m]\u001b[0m\u001b[0;34m\u001b[0m\u001b[0m\n\u001b[0m",
      "\u001b[0;31mKeyError\u001b[0m: 'cereali'"
     ]
    }
   ],
   "source": [
    "items[\"cereali\"]"
   ]
  },
  {
   "cell_type": "markdown",
   "metadata": {
    "colab_type": "text",
    "id": "XvTgJl9y0TY6"
   },
   "source": [
    "Possiamo aggiungere un'altro elemento al dizionario semplicemente inserendo la chiave tra parentesi quadre ed eseguendo un'assegnazione"
   ]
  },
  {
   "cell_type": "code",
   "execution_count": 41,
   "metadata": {
    "colab": {
     "base_uri": "https://localhost:8080/",
     "height": 34
    },
    "colab_type": "code",
    "id": "acIQ4ff50QIw",
    "outputId": "e3f6b64d-4da9-43d0-ea41-9bb41d3b779b"
   },
   "outputs": [
    {
     "name": "stdout",
     "output_type": "stream",
     "text": [
      "{'latte': 3, 'riso': 2, 'tofu': 5, 'cereali': 1}\n"
     ]
    }
   ],
   "source": [
    "items[\"cereali\"]=1\n",
    "print(items)"
   ]
  },
  {
   "cell_type": "markdown",
   "metadata": {
    "colab_type": "text",
    "id": "-S_SU4dp0zYu"
   },
   "source": [
    "E' possibile inserire all'interno di un elemento del dizionario un'altro dizionario."
   ]
  },
  {
   "cell_type": "code",
   "execution_count": 42,
   "metadata": {
    "colab": {
     "base_uri": "https://localhost:8080/",
     "height": 34
    },
    "colab_type": "code",
    "id": "Z_hB1zu20q2D",
    "outputId": "9457cfe0-2705-4e20-cda0-c55aa5686d2d"
   },
   "outputs": [
    {
     "name": "stdout",
     "output_type": "stream",
     "text": [
      "{'latte': 3, 'riso': 2, 'tofu': 5, 'cereali': 1, 'yogurt': {'fragola': 2, 'bianco': 3}}\n"
     ]
    }
   ],
   "source": [
    "items[\"yogurt\"] = {\"fragola\":2, \"bianco\":3}\n",
    "print(items)"
   ]
  },
  {
   "cell_type": "markdown",
   "metadata": {
    "colab_type": "text",
    "id": "vebmXA89261x"
   },
   "source": [
    "<a id='loop'></a>\n",
    "## I cicli\n",
    "I cicli ci permettono di eseguire una serie di istruzioni in maniera ciclica.\n",
    "<br>\n",
    "Un'esempio classico di ciclo è il **ciclo for**, utilizzato da molti linguaggi di programmazione, Python incluso.\n",
    "<br>\n",
    "Utilizziamolo per stampare una serie di numeri"
   ]
  },
  {
   "cell_type": "code",
   "execution_count": 43,
   "metadata": {
    "colab": {
     "base_uri": "https://localhost:8080/",
     "height": 120
    },
    "colab_type": "code",
    "id": "few_O2NBzC1s",
    "outputId": "6c651797-c02c-479e-c904-c2e8461434f2"
   },
   "outputs": [
    {
     "name": "stdout",
     "output_type": "stream",
     "text": [
      "Fino a che numero vuoi stampare ? 10\n",
      "0\n",
      "1\n",
      "2\n",
      "3\n",
      "4\n",
      "5\n",
      "6\n",
      "7\n",
      "8\n",
      "9\n"
     ]
    }
   ],
   "source": [
    "n = input(\"Fino a che numero vuoi stampare ? \")\n",
    "n = int(n)\n",
    "\n",
    "for i in range(0,n):\n",
    "    print(i)"
   ]
  },
  {
   "cell_type": "markdown",
   "metadata": {
    "colab_type": "text",
    "id": "3pfs_91n4K2_"
   },
   "source": [
    "La funzione range ritorna una sequenza di numeri, in questo caso che va da 0 a n, dove n è la variabile definita da noi con la fuzione input e ad ogni iterazione del ciclo la variabile i verrà incrementata di uno e otterrà il valore dell'i-esimo numero della sequenza, fino al valore n.\n",
    "<br>\n",
    "Passando un'unico valore come input della funzione range, questa farà partire la sequenza dal valore di default zero.\n",
    "<br><br>\n",
    "**NOTA BENISSIMO** Abbiamo lasciato 4 spazi prima dell'istruzione all'interno del ciclo for, questi spazi sono conosciuti l'**indentazione** e permettono all'interprete Python di comprendere il contesto delle istruzioni (ad esempio nel nostro codice permettono di comprendere quali istruzioni devono essere eseguite all'interno del ciclo for). Diversi linguaggi di programmazione, come C/C++, Java e Javascript, utilizzano le parentesi graffe per identifcare il contesto delle istruzioni, Python piuttosto forza ad usare l'indentazione per migliorare la leggibilità del codice (e lo fa benissimo !). I 4 caratteri per l'indentazione sono uno standard proposto nel [PEP 8](https://www.python.org/dev/peps/pep-0008/), in realtà è anche possibile utilizzare un numero differente di spazi (purché sia consistente in tutto il codice) oppure lo shift. Un blocco di codice indentanto viene sempre introdotto da (:) alla fine della riga precedente.\n",
    "<br>\n",
    "Se non indentiamo l'istruzione sotto il ciclo for otterremo un'eccezione di tipo *IndentationError*."
   ]
  },
  {
   "cell_type": "code",
   "execution_count": 44,
   "metadata": {},
   "outputs": [
    {
     "ename": "IndentationError",
     "evalue": "expected an indented block (<ipython-input-44-f5a262fe7a2d>, line 2)",
     "output_type": "error",
     "traceback": [
      "\u001b[0;36m  File \u001b[0;32m\"<ipython-input-44-f5a262fe7a2d>\"\u001b[0;36m, line \u001b[0;32m2\u001b[0m\n\u001b[0;31m    print(i)\u001b[0m\n\u001b[0m        ^\u001b[0m\n\u001b[0;31mIndentationError\u001b[0m\u001b[0;31m:\u001b[0m expected an indented block\n"
     ]
    }
   ],
   "source": [
    "for i in range(0,10):\n",
    "print(i)"
   ]
  },
  {
   "cell_type": "markdown",
   "metadata": {},
   "source": [
    "Implementiamo un ciclo for per il calcolo della successione di Fibonacci fino ad un indice definito da noi. Se non conosci la successione di Fibonacci, ogni elemento della sequenza è la somma dei due valori precedenti, per approfondire dai uno sguardo a [Wikipedia](https://it.wikipedia.org/wiki/Successione_di_Fibonacci)"
   ]
  },
  {
   "cell_type": "code",
   "execution_count": 47,
   "metadata": {
    "colab": {
     "base_uri": "https://localhost:8080/",
     "height": 206
    },
    "colab_type": "code",
    "id": "zHBS8qHf1FrP",
    "outputId": "b23d509e-1595-40fb-c626-3f1e6bdea7cc"
   },
   "outputs": [
    {
     "name": "stdout",
     "output_type": "stream",
     "text": [
      "Quanti numeri di Fibonacci vuoi stampare? 10\n",
      "1° numero di Fibonacci = 1\n",
      "2° numero di Fibonacci = 1\n",
      "3° numero di Fibonacci = 2\n",
      "4° numero di Fibonacci = 3\n",
      "5° numero di Fibonacci = 5\n",
      "6° numero di Fibonacci = 8\n",
      "7° numero di Fibonacci = 13\n",
      "8° numero di Fibonacci = 21\n",
      "9° numero di Fibonacci = 34\n",
      "10° numero di Fibonacci = 55\n"
     ]
    }
   ],
   "source": [
    "#n = input(\"Quanti numeri di Fibonacci vuoi stampare? \")\n",
    "#n = int(n)\n",
    "\n",
    "#Possiamo sintetizzare le due istruzioni sopra in un unico comando\n",
    "n = int(input(\"Quanti numeri di Fibonacci vuoi stampare? \"))\n",
    "\n",
    "fib_num = 0\n",
    "next_fib_num = 1\n",
    "\n",
    "for i in range(n):\n",
    "    #Salviamo il valore successivo in una variabile temporanea\n",
    "    tmp = next_fib_num\n",
    "    #Otteniamo il nuovo valore successivo sommando quello corrente\n",
    "    next_fib_num+=fib_num\n",
    "    #Assegnamo il valore successivo della successione a quello corrente\n",
    "    fib_num = tmp\n",
    "  \n",
    "    print(\"%d° numero di Fibonacci = %d\" % (i+1, fib_num))\n"
   ]
  },
  {
   "cell_type": "markdown",
   "metadata": {
    "colab_type": "text",
    "id": "mptV75aw5-qk"
   },
   "source": [
    "Come vedi ci siamo ritrovati a dover immagazzinare il valore del numero successivo in una variabile temporanea, questa è necessaria ogni volta che c'è da invertire il valore di due variabili (questa procedura è chiamata **swapping**)"
   ]
  },
  {
   "cell_type": "code",
   "execution_count": 48,
   "metadata": {
    "colab": {
     "base_uri": "https://localhost:8080/",
     "height": 51
    },
    "colab_type": "code",
    "id": "rD17saHH5-DR",
    "outputId": "62901af0-e6f6-4750-e08e-e074b41b80cc"
   },
   "outputs": [
    {
     "name": "stdout",
     "output_type": "stream",
     "text": [
      "a=cane b=gatto\n",
      "a=gatto b=cane\n"
     ]
    }
   ],
   "source": [
    "a = \"cane\"\n",
    "b = \"gatto\"\n",
    "\n",
    "print(\"a=%s b=%s\" % (a,b))\n",
    "\n",
    "tmp = a\n",
    "a = b\n",
    "b = tmp\n",
    "\n",
    "print(\"a=%s b=%s\" % (a,b))"
   ]
  },
  {
   "cell_type": "markdown",
   "metadata": {
    "colab_type": "text",
    "id": "VfN1hq1062Bq"
   },
   "source": [
    "Python ci mette a disposizione una tecnica per eseguire lo **swapping** senza dover utilizzare una terza variabile, ma semplicemente eseguendo l'assegnazione in simultanea separando i valori con una virgola."
   ]
  },
  {
   "cell_type": "code",
   "execution_count": 49,
   "metadata": {
    "colab": {
     "base_uri": "https://localhost:8080/",
     "height": 51
    },
    "colab_type": "code",
    "id": "6e5L6is063PD",
    "outputId": "6700c8e4-da8a-41fc-cf78-6f69ab850f9a"
   },
   "outputs": [
    {
     "name": "stdout",
     "output_type": "stream",
     "text": [
      "a=cane b=gatto\n",
      "a=gatto b=cane\n"
     ]
    }
   ],
   "source": [
    "a = \"cane\"\n",
    "b = \"gatto\"\n",
    "\n",
    "print(\"a=%s b=%s\" % (a,b))\n",
    "\n",
    "a,b = b,a\n",
    "\n",
    "print(\"a=%s b=%s\" % (a,b))"
   ]
  },
  {
   "cell_type": "markdown",
   "metadata": {
    "colab_type": "text",
    "id": "8RmjVtOl7I4Y"
   },
   "source": [
    "Alla luce di ciò, modifichiamo il nostro algoritmo per il calcolo della successione di Fibonacci."
   ]
  },
  {
   "cell_type": "code",
   "execution_count": 52,
   "metadata": {
    "colab": {
     "base_uri": "https://localhost:8080/",
     "height": 206
    },
    "colab_type": "code",
    "id": "nXYPqjv7wDCA",
    "outputId": "23add5e3-6c1e-4797-c236-a4a9d47a700c"
   },
   "outputs": [
    {
     "name": "stdout",
     "output_type": "stream",
     "text": [
      "Quanti numeri di Fibonacci vuoi stampare? 10\n",
      "1° numero di Fibonacci = 1\n",
      "2° numero di Fibonacci = 1\n",
      "3° numero di Fibonacci = 2\n",
      "4° numero di Fibonacci = 3\n",
      "5° numero di Fibonacci = 5\n",
      "6° numero di Fibonacci = 8\n",
      "7° numero di Fibonacci = 13\n",
      "8° numero di Fibonacci = 21\n",
      "9° numero di Fibonacci = 34\n",
      "10° numero di Fibonacci = 55\n"
     ]
    }
   ],
   "source": [
    "n = int(input(\"Quanti numeri di Fibonacci vuoi stampare? \"))\n",
    "\n",
    "fib_num = 0\n",
    "next_fib_num = 1\n",
    "\n",
    "for i in range(n):\n",
    "    fib_num, next_fib_num = next_fib_num, next_fib_num+fib_num\n",
    "    print(\"%d° numero di Fibonacci = %d\" % (i+1, fib_num))"
   ]
  },
  {
   "cell_type": "markdown",
   "metadata": {
    "colab_type": "text",
    "id": "8rACxU0X7Rtk"
   },
   "source": [
    "Decisamente meglio ! Possiamo utilizzare un ciclo for per iterare sugli elementi di una lista, potresti pensare che il modo per farlo possa essere questo:"
   ]
  },
  {
   "cell_type": "code",
   "execution_count": 53,
   "metadata": {
    "colab": {
     "base_uri": "https://localhost:8080/",
     "height": 103
    },
    "colab_type": "code",
    "id": "ki-kVgMc1_Ib",
    "outputId": "0fc99b67-0566-4a00-f683-fb1f5f5649b9"
   },
   "outputs": [
    {
     "name": "stdout",
     "output_type": "stream",
     "text": [
      "La mia lista della spesa:\n",
      "1) tofu\n",
      "2) latte di soia\n",
      "3) riso basmati\n",
      "4) yogurt greco\n"
     ]
    }
   ],
   "source": [
    "shopping_list = [\"tofu\", \"latte di soia\", \"riso basmati\",\"yogurt greco\"]\n",
    "\n",
    "print(\"La mia lista della spesa:\")\n",
    "\n",
    "for i in range(len(shopping_list)):\n",
    "    print(\"%d) %s\" % (i+1,shopping_list[i]))"
   ]
  },
  {
   "cell_type": "markdown",
   "metadata": {
    "colab_type": "text",
    "id": "C8WUmrAK7nxr"
   },
   "source": [
    "e funziona, ma in realtà esiste un metodo migliore per stampare la nostra lista della spesa, possiamo iterare direttamente sugli elementi della lista."
   ]
  },
  {
   "cell_type": "code",
   "execution_count": 54,
   "metadata": {
    "colab": {
     "base_uri": "https://localhost:8080/",
     "height": 103
    },
    "colab_type": "code",
    "id": "jfibk4zr1lV5",
    "outputId": "465a5444-7679-469f-ec5f-1ffd8f7e7b97"
   },
   "outputs": [
    {
     "name": "stdout",
     "output_type": "stream",
     "text": [
      "La mia lista della spesa:\n",
      "-tofu\n",
      "-latte di soia\n",
      "-riso basmati\n",
      "-yogurt greco\n"
     ]
    }
   ],
   "source": [
    "shopping_list = [\"tofu\", \"latte di soia\", \"riso basmati\",\"yogurt greco\"]\n",
    "\n",
    "print(\"La mia lista della spesa:\")\n",
    "\n",
    "for entry in shopping_list:\n",
    "    print(\"-\"+entry)"
   ]
  },
  {
   "cell_type": "markdown",
   "metadata": {
    "colab_type": "text",
    "id": "ZPV_CnaM8GCA"
   },
   "source": [
    "**NOTA BENE** entry è sempre una variabile il cui nome viene definito da noi, che conterrà ad ogni iterazione il successivo elemento della lista.\n",
    "<br><br>\n",
    "Come vedi adesso abbiamo stampato gli elementi della nostra lista della spesa in maniera decisamente più intuitiva, ma non abbiamo più l'indice i. Qualora ci servisse sia l'elemento che l'indice, possiamo utilizzare la funzione *enumerate*, che ci permette di iterare su entrambi."
   ]
  },
  {
   "cell_type": "code",
   "execution_count": 55,
   "metadata": {
    "colab": {
     "base_uri": "https://localhost:8080/",
     "height": 103
    },
    "colab_type": "code",
    "id": "SVctoXdX2NAH",
    "outputId": "533fb391-2e68-47e4-ccce-a34815e54f86"
   },
   "outputs": [
    {
     "name": "stdout",
     "output_type": "stream",
     "text": [
      "La mia lista della spesa:\n",
      "1) tofu\n",
      "2) latte di soia\n",
      "3) riso basmati\n",
      "4) yogurt greco\n"
     ]
    }
   ],
   "source": [
    "shopping_list = [\"tofu\", \"latte di soia\", \"riso basmati\",\"yogurt greco\"]\n",
    "\n",
    "print(\"La mia lista della spesa:\")\n",
    "\n",
    "for i,entry in enumerate(shopping_list):\n",
    "    print(\"%d) %s\" % (i+1, entry))"
   ]
  },
  {
   "cell_type": "markdown",
   "metadata": {
    "colab_type": "text",
    "id": "lQ8FuRga8eyo"
   },
   "source": [
    "Un'altra tiplogia di ciclo utilizzata da Python e da molti altri linguaggi di programmazione è il **ciclo while**, per creare un ciclo while dobbiamo definire un'**espressione booleana**, che ci permettono di eseguire confronti tra i dati, le espressioni booleane disponibili in python sono:\n",
    "\n",
    "* **==**: ritorna True se le due espressioni sono uguali, altrimenti ritorna False\n",
    "* **!=**: ritorna True se le due espressioni sono diverse, altrimenti ritorna False\n",
    "* **>**: ritorna True se la prima espressione è maggiore della seconda (solo numeri)\n",
    "* **>=**: ritorna True se la prima espressione è maggiore o uguale alla seconda (solo numeri)\n",
    "* **<**: ritorna True se la prima espressione è minore della seconda (solo numeri)\n",
    "* **<=**: ritorna True se la prima espressione è minore o uguale alla seconda (solo numeri)"
   ]
  },
  {
   "cell_type": "code",
   "execution_count": 56,
   "metadata": {},
   "outputs": [
    {
     "name": "stdout",
     "output_type": "stream",
     "text": [
      "True\n",
      "True\n",
      "False\n",
      "\n",
      "\n",
      "False\n",
      "False\n",
      "True\n",
      "\n",
      "\n",
      "True\n",
      "False\n",
      "True\n"
     ]
    }
   ],
   "source": [
    "print(1==1)\n",
    "print(3+2==6-1)\n",
    "print(1!=1)\n",
    "\n",
    "print(\"\\n\")\n",
    "\n",
    "print(5>6)\n",
    "print(5<5)\n",
    "print(5<=5)\n",
    "\n",
    "print(\"\\n\")\n",
    "\n",
    "print(\"gatto\"==\"gatto\")\n",
    "print(\"gatto\"==\"cane\")\n",
    "print(\"cane\"!=\"gatto\")\n"
   ]
  },
  {
   "cell_type": "markdown",
   "metadata": {},
   "source": [
    "Adesso creiamo un ciclo while che verrò eseguito fino a quando la variabile i è minore del numero che abbiamo inserito."
   ]
  },
  {
   "cell_type": "code",
   "execution_count": 57,
   "metadata": {
    "colab": {
     "base_uri": "https://localhost:8080/",
     "height": 206
    },
    "colab_type": "code",
    "id": "uOHl8-Bz2VRl",
    "outputId": "ec557453-8d90-4c4e-d4fe-cb46a32ee2be"
   },
   "outputs": [
    {
     "name": "stdout",
     "output_type": "stream",
     "text": [
      "Fino a che numero vuoi stampare ? 10\n",
      "0\n",
      "1\n",
      "2\n",
      "3\n",
      "4\n",
      "5\n",
      "6\n",
      "7\n",
      "8\n",
      "9\n"
     ]
    }
   ],
   "source": [
    "n = int(input(\"Fino a che numero vuoi stampare ? \"))\n",
    "\n",
    "i = 0\n",
    "\n",
    "while i<n:\n",
    "    print(i)\n",
    "    i+=1"
   ]
  },
  {
   "cell_type": "markdown",
   "metadata": {
    "colab_type": "text",
    "id": "Pv7D3MuZ9J5C"
   },
   "source": [
    "Come vedi la differenza consiste nel fatto che questa volta tocca a noi definire l'indice e incrementarlo di volta in volta, il vantaggio di questo approccio è che possiamo modificare l'indice a nostro piacimento e non solamente incrementandolo di un valore."
   ]
  },
  {
   "cell_type": "code",
   "execution_count": 62,
   "metadata": {
    "colab": {
     "base_uri": "https://localhost:8080/",
     "height": 120
    },
    "colab_type": "code",
    "id": "NbMSD1q69A7c",
    "outputId": "39ef150e-d002-4ebd-e0c2-ba8e7d915ba5"
   },
   "outputs": [
    {
     "name": "stdout",
     "output_type": "stream",
     "text": [
      "Fino a che numero dispari vuoi stampare ? a\n"
     ]
    },
    {
     "ename": "ValueError",
     "evalue": "invalid literal for int() with base 10: 'a'",
     "output_type": "error",
     "traceback": [
      "\u001b[0;31m---------------------------------------------------------------------------\u001b[0m",
      "\u001b[0;31mValueError\u001b[0m                                Traceback (most recent call last)",
      "\u001b[0;32m<ipython-input-62-c25466a0ea02>\u001b[0m in \u001b[0;36m<module>\u001b[0;34m()\u001b[0m\n\u001b[0;32m----> 1\u001b[0;31m \u001b[0mn\u001b[0m \u001b[0;34m=\u001b[0m \u001b[0mint\u001b[0m\u001b[0;34m(\u001b[0m\u001b[0minput\u001b[0m\u001b[0;34m(\u001b[0m\u001b[0;34m\"Fino a che numero dispari vuoi stampare ? \"\u001b[0m\u001b[0;34m)\u001b[0m\u001b[0;34m)\u001b[0m\u001b[0;34m\u001b[0m\u001b[0m\n\u001b[0m\u001b[1;32m      2\u001b[0m \u001b[0;34m\u001b[0m\u001b[0m\n\u001b[1;32m      3\u001b[0m \u001b[0mi\u001b[0m \u001b[0;34m=\u001b[0m \u001b[0;36m1\u001b[0m\u001b[0;34m\u001b[0m\u001b[0m\n\u001b[1;32m      4\u001b[0m \u001b[0;34m\u001b[0m\u001b[0m\n\u001b[1;32m      5\u001b[0m \u001b[0;32mwhile\u001b[0m \u001b[0mi\u001b[0m\u001b[0;34m<\u001b[0m\u001b[0mn\u001b[0m\u001b[0;34m:\u001b[0m\u001b[0;34m\u001b[0m\u001b[0m\n",
      "\u001b[0;31mValueError\u001b[0m: invalid literal for int() with base 10: 'a'"
     ]
    }
   ],
   "source": [
    "n = int(input(\"Fino a che numero dispari vuoi stampare ? \"))\n",
    "\n",
    "i = 1\n",
    "\n",
    "while i<n:\n",
    "    print(i)\n",
    "    i+=2"
   ]
  },
  {
   "cell_type": "markdown",
   "metadata": {},
   "source": [
    "Nel codice c'è un problema, se inseriamo una lettera o una parola, piuttosto che un numero, verrà generata un'eccezione di tipo ValueError, dato che non è possibile stabilire se l'indice è minore di una stringa. Cosa fare in questi casi ? Dobbiamo controllare preventivametne se l'input inserito è effettivamente un numero, possiamo farlo con un'istruzione condizionale."
   ]
  },
  {
   "cell_type": "markdown",
   "metadata": {
    "colab_type": "text",
    "id": "1KNdknOV9z1T"
   },
   "source": [
    "<a id='if'></a>\n",
    "## Istruzioni condizionali\n",
    "Le istruzioni condizionali ci permettono di eseguire del codice solo se una determinata condizione è soddisfatta, la condizione va definita sempre tramite le espressioni booleane. Conoscendo l'espressioni booleane, possiamo definire un'istruzione condizionale inserendo un'espressione dentro un **if**, il codice indentato sotto l'if verrà eseguito solo se la condizione sopra è soddisfatta, cioè se il suo risultato è *True*."
   ]
  },
  {
   "cell_type": "markdown",
   "metadata": {},
   "source": [
    "Conoscendo l'espressioni booleane, possiamo definire un'istruzione condizionale inserendo un'espressione dentro un **if**, il codice indentato sotto l'if verrà eseguito solo se la condizione sopra è soddisfatta, cioè se il suo risultato è *True*."
   ]
  },
  {
   "cell_type": "code",
   "execution_count": null,
   "metadata": {},
   "outputs": [],
   "source": [
    "n = input(\"Inserisci un numero: \")\n",
    "n = int(n)\n",
    "\n",
    "if(n%2==0):\n",
    "    print(\"%d è un numero pari\" % n)"
   ]
  },
  {
   "cell_type": "markdown",
   "metadata": {},
   "source": [
    "Se il resto della divisione del numero per due è zero, allora si tratta di un numero pari e lo stampiamo. Se invece è un numero dispari ? Per gestire il caso in cui la condizione definita nell'if non è soddisfatta possiamo usare un **else**"
   ]
  },
  {
   "cell_type": "code",
   "execution_count": null,
   "metadata": {},
   "outputs": [],
   "source": [
    "n = input(\"Inserisci un numero: \")\n",
    "n = int(n)\n",
    "\n",
    "if(n%2==0):\n",
    "    print(\"%d è un numero pari\" % n)\n",
    "else:\n",
    "    print(\"%d è un numero dispari\" % n)"
   ]
  },
  {
   "cell_type": "markdown",
   "metadata": {},
   "source": [
    "Possiamo anche gestire più casi utilizzando degli **elif**."
   ]
  },
  {
   "cell_type": "code",
   "execution_count": null,
   "metadata": {},
   "outputs": [],
   "source": [
    "n = int(input(\"Da quanti anni programmi ? \"))\n",
    "\n",
    "if(n<0):\n",
    "    print(\"Hai inventato il viaggio nel tempo ?\")\n",
    "elif(n>=0 and n<=1):\n",
    "    print(\"Sei un novellino !\")\n",
    "elif(n>1 and n<=3):\n",
    "    print(\"Stai imparando !\")\n",
    "elif(n>3 and n<=5):\n",
    "    print(\"Sarai già bravo !\")\n",
    "elif(n>5 and n<=10):\n",
    "    print(\"Sarai molto bravo !\")\n",
    "else:\n",
    "    print(\"Sarai un fenomeno !\")"
   ]
  },
  {
   "cell_type": "markdown",
   "metadata": {
    "colab": {},
    "colab_type": "code",
    "id": "8rr4jpid-EjA"
   },
   "source": [
    "All'interno degli *elif* abbiamo inserito due condizioni unendole con un *and*, questo è un'**operatore logico**."
   ]
  },
  {
   "cell_type": "markdown",
   "metadata": {},
   "source": [
    "### Operatori logici\n",
    "in Python abbiamo i seguenti operatori logici:\n",
    " * **and**: ritorna True se entrambe le due condizioni sono True, altrimenti ritorna False\n",
    " * **or**: ritorna True se almeno una delle due condizioni è True, altrimenti ritorna False\n",
    " * **not**: esegue una negazione, se la condizione è True ritornerà False, se è False ritornerà True"
   ]
  },
  {
   "cell_type": "code",
   "execution_count": null,
   "metadata": {},
   "outputs": [],
   "source": [
    "# entrambe le condizioni sono soddisfatte\n",
    "print(1==1 and \"casa\"!=\"albergo\")\n",
    "\n",
    "# la prima condizione non è soddisfatta\n",
    "print(1==2 and \"casa\"!=\"albergo\")\n",
    "\n",
    "# la prima condizione non è soddisfatta\n",
    "print(1==2 or \"casa\"!=\"albergo\")\n",
    "\n",
    "# Nessuna condizione è soddisfatta\n",
    "print(1==2 or \"casa\"==\"albergo\")\n",
    "\n",
    "# Nessuna condizione è soddisfatta\n",
    "print(not(1==2 or \"casa\"==\"albergo\"))\n",
    "\n",
    "# Tutte le condizioni sono soddisfatte\n",
    "print(not(1==1 or \"casa\"!=\"albergo\"))\n"
   ]
  },
  {
   "cell_type": "markdown",
   "metadata": {},
   "source": [
    "Riprendendo l'esempio della successione di Fibonacci, possiamo verificare che l'input sia effettivamente un numero in questo modo"
   ]
  },
  {
   "cell_type": "code",
   "execution_count": 4,
   "metadata": {},
   "outputs": [
    {
     "name": "stdout",
     "output_type": "stream",
     "text": [
      "Quanti numeri di Fibonacci vuoi stampare? dieci\n",
      "Numero non valido !\n"
     ]
    }
   ],
   "source": [
    "n = input(\"Quanti numeri di Fibonacci vuoi stampare? \")\n",
    "\n",
    "if(not n.isdigit()):\n",
    "    print(\"Numero non valido !\")\n",
    "else:\n",
    "    n = int(n)\n",
    "    fib_num = 0\n",
    "    next_fib_num = 1\n",
    "\n",
    "    for i in range(n):\n",
    "        fib_num, next_fib_num = next_fib_num, next_fib_num+fib_num\n",
    "        print(\"%d° numero di Fibonacci = %d\" % (i+1, fib_num))"
   ]
  },
  {
   "cell_type": "markdown",
   "metadata": {},
   "source": [
    "**NOTA BENE**\n",
    "* *isdigit* è un metodo della classe string (ne parleremo sotto), questo ritorna True se la stringa contiene un numero, altrimenti ritorna False\n",
    "* nota la doppia indentazione nel ciclo for, necessaria per indicare che le istruzini fanno parte del ciclo for, che a sua volta fa parte del blocco else."
   ]
  },
  {
   "cell_type": "markdown",
   "metadata": {
    "colab_type": "text",
    "id": "VJ5GKLTMCSbS"
   },
   "source": [
    "<a id='func'></a>\n",
    "## Le funzioni\n",
    "Le funzioni ci permettono di riutilizzare blocchi di codice prendendo eventualmente dei dati in ingresso, chiamati **argomenti** o **parametri** e ritornando un'output. \n",
    "<br>\n",
    "Ad esempio, scriviamo una funzione per il calcolo dell'aria di un triangolo."
   ]
  },
  {
   "cell_type": "code",
   "execution_count": null,
   "metadata": {
    "colab": {
     "base_uri": "https://localhost:8080/",
     "height": 34
    },
    "colab_type": "code",
    "id": "DtHVVJnOCWHU",
    "outputId": "3c1eb718-89f1-4ef2-b09a-2951714daca3"
   },
   "outputs": [],
   "source": [
    "def compute_area(b,h):\n",
    "    area = b*h/2\n",
    "    return area\n",
    "\n",
    "b = 5\n",
    "h = 3\n",
    "area = compute_area(b, h)\n",
    "\n",
    "print(\"L'area del triangolo con base %.2f e altezza %.2f è %.2f\" %(b,h,area))"
   ]
  },
  {
   "cell_type": "markdown",
   "metadata": {
    "colab_type": "text",
    "id": "qJLgm1K9DIBJ"
   },
   "source": [
    "La funzione viene definita con un *def* seguito dal nome della funzione e tra parentesi il nome dei suoi parametri, il valore che la funzione ritornerà sarà quello inserito dopo *return*.\n",
    "<br>\n",
    "Avremmo potuto scrivere la funzione in maniera più compatta inserendo il calcolo direttamente all'interno del return.\n"
   ]
  },
  {
   "cell_type": "code",
   "execution_count": null,
   "metadata": {
    "colab": {},
    "colab_type": "code",
    "id": "KFKsSCZFDFtc"
   },
   "outputs": [],
   "source": [
    "def compute_area(b,h):\n",
    "    return b*h/2"
   ]
  },
  {
   "cell_type": "markdown",
   "metadata": {
    "colab_type": "text",
    "id": "H_N0pc1kDfQA"
   },
   "source": [
    "Una funzione non deve per forza ritornare un valore, ad esempio può essere utilizzata per stampare un'ouput."
   ]
  },
  {
   "cell_type": "code",
   "execution_count": null,
   "metadata": {
    "colab": {
     "base_uri": "https://localhost:8080/",
     "height": 103
    },
    "colab_type": "code",
    "id": "riIeWJ_oCovp",
    "outputId": "475605a7-4fcf-4d85-c436-1aa27abcb336"
   },
   "outputs": [],
   "source": [
    "def print_shopping_list(shopping_list):\n",
    "    \n",
    "    print(\"La tua lista della spesa:\")\n",
    "    \n",
    "    for i, entry in enumerate(shopping_list):\n",
    "        print(\"%d) %s\" % (i+1, entry))\n",
    "    \n",
    "   \n",
    "shopping_list = [\"tofu\", \"latte di soia\", \"riso basmati\",\"yogurt greco\"]\n",
    "print_shopping_list(shopping_list)"
   ]
  },
  {
   "cell_type": "markdown",
   "metadata": {
    "colab_type": "text",
    "id": "B8K6s21sd81w"
   },
   "source": [
    "I Parametri di una funzione possono contenere dei valori di default che verranno utilizzati nel caso in cui non specifichiamo tali parametri quando chiamiamo la funzione."
   ]
  },
  {
   "cell_type": "code",
   "execution_count": null,
   "metadata": {
    "colab": {
     "base_uri": "https://localhost:8080/",
     "height": 130
    },
    "colab_type": "code",
    "id": "IWjsD5y9D-0D",
    "outputId": "89fb10b7-51fa-4332-d388-a28f93eed1e2"
   },
   "outputs": [],
   "source": [
    "def print_shopping_list(shopping_list, owner=\"Giuseppe\"):\n",
    "  \n",
    "  print(\"La lista della spesa di %s:\" % owner)\n",
    "  \n",
    "  for i, entry in enumerate(shopping_list):\n",
    "    print(\"%d) %s\" % (i+1, entry))\n",
    "    \n",
    "   \n",
    "shopping_list = [\"tofu\", \"latte di soia\", \"riso basmati\",\"yogurt greco\"]\n",
    "print_shopping_list(shopping_list)\n",
    "\n",
    "# Stampiamo una linea vuota per separare le due liste\n",
    "print(\"\\n\")\n",
    "\n",
    "shopping_list = [\"croccantini \", \"latte\", \"scatolette di tonno\",\"plutonio\"]\n",
    "print_shopping_list(shopping_list, owner=\"Elon\") # Elon è il nome del mio gatto :)"
   ]
  },
  {
   "cell_type": "markdown",
   "metadata": {},
   "source": [
    "**NOTA BENE** I parametri senza valore di default vanno sempre inseriti **prima** dei parametri con valore di defualt, altrimenti python genererà un'eccezione del tipo *SintaxError*, se vuoi sperimentarlo inserisci il parametro *owner* prima del parametro *shopping_list* nella definizione della funzione qui sotto."
   ]
  },
  {
   "cell_type": "markdown",
   "metadata": {
    "colab_type": "text",
    "id": "A8RJOinYGsUa"
   },
   "source": [
    "<a id='oop'></a>\n",
    "## Basi di programmazione ad oggetti\n",
    "Python supporta molti **paradigmi di programamazione**, che caratterizzano lo stile del codice. Il paradigma basato sulle funzioni è conosciuto come **Programmazione Procedurale (Procedural Programming)** (le funzioni vengono anche chiamate procedure). Un'altro paradigma di programmazione molto utilizzato è la **Programmazione Orientata agli Oggetti (Object Oriented Programming - OOP)**. \n",
    "<br>\n",
    "L'elemento centrale della programmazione ad oggetti sono (sorpresa sorpresa) **gli oggetti**, che ci permettono di racchiudere funzioni e variabili all'interno di un'unica entità e rendono il codice maggiormente riutilizzabile e più semplice da mantenere.\n",
    "<br><br>\n",
    "Per creare un oggetto dobbiamo definire una classe che lo rappresenterà, le funzioni definite all'interno della classe sono chiamati **metodi** della classe.\n",
    "<br>\n",
    "Ad esempio, creiamo una classe che rappresentà un triangolo, i cui metodi ci permettono di calcolarne area e perimetro."
   ]
  },
  {
   "cell_type": "code",
   "execution_count": null,
   "metadata": {
    "colab": {
     "base_uri": "https://localhost:8080/",
     "height": 51
    },
    "colab_type": "code",
    "id": "8r40_XHSGqHB",
    "outputId": "c00d4651-046c-46f3-f57f-2e829bd6f09e"
   },
   "outputs": [],
   "source": [
    "class Triangle:\n",
    "  \n",
    "    def area(self, b, h):\n",
    "        return b*h/2.\n",
    "  \n",
    "    def perimeter(self, a, b, c):\n",
    "        return a+b+c\n",
    "  \n",
    "# istanziamo la classe (creiamo l'oggetto)\n",
    "triangle = Triangle()\n",
    "\n",
    "print(\"Area del triangolo: %2.f\" % triangle.area(3.,4.))\n",
    "print(\"Perimetro del triangolo: %2.f\" % triangle.perimeter(5.,3.,5.))"
   ]
  },
  {
   "cell_type": "markdown",
   "metadata": {},
   "source": [
    "Come puoi vedere ogni metodo della classe ha come primo parametro *self*, questo ci permette di identificare attributi e metodi all'interno della classe stessa.\n",
    "Alla riga 10 creiamo l'oggetto, che a livello concettuale è un'**istanza** della classe triangolo. Per calcolare area e perimetro dobbiamo passare di volta in volta le informazioni sulle misure di base, altezze e lati del triangolo, che funziona ma è concettualmente sbagliato, un'oggetto deve contenere le proprie informazioni al suo interno, in apposite variabili chiamate **attributi**.\n",
    "<br>\n",
    "Possiamo definire gli attributi della classe all'interno di un **metodo costruttore** che in Python è l'*init*"
   ]
  },
  {
   "cell_type": "code",
   "execution_count": null,
   "metadata": {
    "colab": {
     "base_uri": "https://localhost:8080/",
     "height": 51
    },
    "colab_type": "code",
    "id": "-XBKcwYrIImt",
    "outputId": "5ec0f5dc-8007-4d81-a3d4-ef19702cc4f6"
   },
   "outputs": [],
   "source": [
    "class Triangle:\n",
    "  \n",
    "  \n",
    "    def __init__(self, a, b, c, h):\n",
    "    \n",
    "        # Questa istruzione è equivalente a quella sotto\n",
    "        #self.a, self.b, self.c, self.h = a, b, c ,h\n",
    "\n",
    "        self.a = a\n",
    "        self.b = b\n",
    "        self.c = c\n",
    "        self.h = h\n",
    "\n",
    "    \n",
    "    def area(self):\n",
    "            return self.b*self.h/2\n",
    "    \n",
    "    \n",
    "    def perimeter(self):\n",
    "        return self.a+self.b+self.c\n",
    "  \n",
    "triangle = Triangle(5.,3.,5.,4.)\n",
    "print(\"Area del triangolo: %2.f\" % triangle.area())\n",
    "print(\"Perimetro del triangolo: %2.f\" % triangle.perimeter())"
   ]
  },
  {
   "cell_type": "markdown",
   "metadata": {},
   "source": [
    "Ogni metodo può accedere agli attributi della classe utilizzando *self*, lo stesso discorso vale per l'utilizzo di metodi all'interno di altri metodi."
   ]
  },
  {
   "cell_type": "code",
   "execution_count": null,
   "metadata": {
    "colab": {
     "base_uri": "https://localhost:8080/",
     "height": 51
    },
    "colab_type": "code",
    "id": "YdQPq1_KI_kW",
    "outputId": "63b2f958-8a41-4c09-82d6-a4b37edef2f8"
   },
   "outputs": [],
   "source": [
    "class Triangle:\n",
    "  \n",
    "  \n",
    "    def __init__(self, a, b, c, h):\n",
    "        self.a, self.b, self.c, self.h = a, b, c ,h\n",
    "\n",
    "    \n",
    "    def area(self):\n",
    "        return float(self.b)*float(self.h)/2.\n",
    "  \n",
    "  \n",
    "    def perimeter(self):\n",
    "        return self.a+self.b+self.c\n",
    "  \n",
    "  \n",
    "    def print_info(self):\n",
    "        print(\"Area del triangolo: %2.f\" % self.area())\n",
    "        print(\"Perimetro del triangolo: %2.f\" % self.perimeter())\n",
    "\n",
    "\n",
    "triangle = Triangle(5.,3.,5.,4.)\n",
    "triangle.print_info()"
   ]
  },
  {
   "cell_type": "markdown",
   "metadata": {},
   "source": [
    "Le classi possono essere organizzate in moduli, cioè file python esterni a quello sulla quale stiamo lavorando (parlemeno di questo argomento sotto), in ogni caso possiamo vedere metodi e attributi di una classe usando la funzione help."
   ]
  },
  {
   "cell_type": "code",
   "execution_count": null,
   "metadata": {},
   "outputs": [],
   "source": [
    "class Triangle:\n",
    "  \n",
    "  \n",
    "    def __init__(self, a, b, c, h):\n",
    "        self.a, self.b, self.c, self.h = a, b, c ,h\n",
    "\n",
    "    \n",
    "    def area(self):\n",
    "        return float(self.b)*float(self.h)/2.\n",
    "  \n",
    "  \n",
    "    def perimeter(self):\n",
    "        return self.a+self.b+self.c\n",
    "  \n",
    "  \n",
    "    def print_info(self):\n",
    "        print(\"Area del triangolo: %2.f\" % self.area())\n",
    "        print(\"Perimetro del triangolo: %2.f\" % self.perimeter())\n",
    "\n",
    "\n",
    "triangle = Triangle(5.,3.,5.,4.)\n",
    "help(triangle)"
   ]
  },
  {
   "cell_type": "markdown",
   "metadata": {},
   "source": [
    "Una classe può contenere molti metodi differenti, possiamo utilizzare le **Docstrings** per documentare a cosa serve una classe e cosa fanno ognuno dei suoi metodi"
   ]
  },
  {
   "cell_type": "code",
   "execution_count": null,
   "metadata": {},
   "outputs": [],
   "source": [
    "class Triangle:\n",
    "  \n",
    "  \n",
    "    \"\"\"\n",
    "    Questa classe rappresenta un triangolo\n",
    "    \"\"\"\n",
    "    \n",
    "    def __init__(self, a, b, c, h):\n",
    "        self.a, self.b, self.c, self.h = a, b, c ,h\n",
    "\n",
    "    \n",
    "    def area(self):\n",
    "        \n",
    "        \"\"\"\n",
    "        Calcolo dell'area del triangolo\n",
    "        \"\"\"\n",
    "        \n",
    "        return float(self.b)*float(self.h)/2.\n",
    "  \n",
    "  \n",
    "    def perimeter(self):\n",
    "        \n",
    "        \"\"\"\n",
    "        Calcolo del perimetro del triangolo\n",
    "        \"\"\"\n",
    "        \n",
    "        return self.a+self.b+self.c\n",
    "  \n",
    "  \n",
    "    def print_info(self):\n",
    "        \n",
    "        \"\"\"\n",
    "        Stampiamo area e perimetro del triangolo\n",
    "        \"\"\"\n",
    "        \n",
    "        print(\"Area del triangolo: %2.f\" % self.area())\n",
    "        print(\"Perimetro del triangolo: %2.f\" % self.perimeter())\n",
    "\n",
    "\n",
    "triangle = Triangle(5.,3.,5.,4.)\n",
    "help(triangle)"
   ]
  },
  {
   "cell_type": "markdown",
   "metadata": {},
   "source": [
    "Questa piccola guida aveva lo scopo di introdurti agli oggetti, ma la programmazione orientata agli oggetti è un'argomento molto più vasto, se vuoi approfondirlo ti consiglio di dare uno sguardo al [Corso di Programmazione in Python di NinjaCloud](https://www.udemy.com/python-corso-pratico-di-programmazione/?couponCode=PROFAI)"
   ]
  },
  {
   "cell_type": "markdown",
   "metadata": {
    "colab_type": "text",
    "id": "GSzLjGxzME6R"
   },
   "source": [
    "<a id='module'></a>\n",
    "## I moduli\n",
    "I moduli ci permettono di organizzare il codice dei nostri programmi in più file, separandone le parti e garantendo una riutilizzabilità ottimale del codice. \n",
    "<br>\n",
    "Nella pratica, un modulo non è altro che uno script python (.py), con dentro definite delle classi o delle funzioni, possiamo utilizzare tali classi o tali funzioni all'interno di un'altro script python utilizzando *import*\n",
    "<br><br>\n",
    "**NOTA BENE** i due script devono trovarsi all'interno della stessa directory"
   ]
  },
  {
   "cell_type": "code",
   "execution_count": null,
   "metadata": {
    "colab": {},
    "colab_type": "code",
    "id": "HES1sTjCMFsS"
   },
   "outputs": [],
   "source": [
    "import script\n",
    "\n",
    "print(type(script))\n",
    "\n",
    "script.hello_world()"
   ]
  },
  {
   "cell_type": "markdown",
   "metadata": {},
   "source": [
    "Come vedi possiamo eseguire una funzione contenuta in un modulo possiamo usare una sintassi del tipo *nome_modulo.nome_funzione()*\n",
    "<br>\n",
    "Il discorso è uguale per le classi"
   ]
  },
  {
   "cell_type": "code",
   "execution_count": null,
   "metadata": {
    "colab": {
     "base_uri": "https://localhost:8080/",
     "height": 428
    },
    "colab_type": "code",
    "id": "qW9cM76_NnK4",
    "outputId": "ba671275-51cd-42f2-fb4f-f28cdc7172d0"
   },
   "outputs": [],
   "source": [
    "import geometry\n",
    "\n",
    "triangle = geometry.Triangle(3., 5., 4., 6.)\n",
    "print(\"L'area del triangolo è %.2f\" % triangle.area())\n",
    "\n",
    "square = geometry.Square(5.)\n",
    "print(\"L'area del quadrato è %.2f\" % square.area())\n",
    "\n",
    "rectangle = geometry.Rectangle(5.,4.)\n",
    "print(\"L'area del rettangolo è %.2f\" % rectangle.area())"
   ]
  },
  {
   "cell_type": "markdown",
   "metadata": {},
   "source": [
    "Possiamo anche decidere di importare solo le funzioni o classi che ci servono utilizziando una sintessi del tipo *from modulo import function* se vogliamo importare più classi o funzioni basta separarle da una virgola."
   ]
  },
  {
   "cell_type": "code",
   "execution_count": null,
   "metadata": {
    "colab": {
     "base_uri": "https://localhost:8080/",
     "height": 34
    },
    "colab_type": "code",
    "id": "t3DbWyO3NqsR",
    "outputId": "fc6509e2-abba-42d1-909f-6814d6ea1b7a"
   },
   "outputs": [],
   "source": [
    "from geometry import Triangle\n",
    "\n",
    "triangle = Triangle(3., 5., 4., 6.)\n",
    "print(\"L'area del triangolo è %.2f\" % triangle.area())\n",
    "\n",
    "from geometry import Square, Rectangle\n",
    "\n",
    "square = Square(5.)\n",
    "print(\"L'area del quadrato è %.2f\" % square.area())\n",
    "\n",
    "rectangle = Rectangle(5.,4.)\n",
    "print(\"L'area del rettangolo è %.2f\" % rectangle.area())"
   ]
  },
  {
   "cell_type": "markdown",
   "metadata": {},
   "source": [
    "### La Standard Library"
   ]
  },
  {
   "cell_type": "markdown",
   "metadata": {},
   "source": [
    "La [Standard Library](https://docs.python.org/3/library/) di Python mette a disposizione tutta una serie di moduli già realizzati per molti utilizzi differenti.\n",
    "<br>\n",
    "Ad esempio il [modulo os](https://docs.python.org/3/library/os.html) ci permette di utilizzare molte funzioni del nostro sistema operativo."
   ]
  },
  {
   "cell_type": "code",
   "execution_count": null,
   "metadata": {},
   "outputs": [],
   "source": [
    "import os\n",
    "\n",
    "# otteniamo il path alla directory corrente\n",
    "cwd = os.getcwd()\n",
    "print(cwd)"
   ]
  },
  {
   "cell_type": "markdown",
   "metadata": {},
   "source": [
    "Oppure il [modulo datetime](https://docs.python.org/3/library/datetime.html) ci permette di ottenere data e ora corrente ed effetturare operazioni su date."
   ]
  },
  {
   "cell_type": "code",
   "execution_count": null,
   "metadata": {},
   "outputs": [],
   "source": [
    "import datetime\n",
    "\n",
    "#il metodo now ci permette di ottenere data e ora correnti\n",
    "print(datetime.datetime.now())"
   ]
  },
  {
   "cell_type": "markdown",
   "metadata": {},
   "source": [
    "Un'altro modulo simile è il [modulo time](https://docs.python.org/3/library/time.html), vediamo un esempio di come utilizzarlo per calcolare il tempo di esecuzione di una funzione."
   ]
  },
  {
   "cell_type": "code",
   "execution_count": null,
   "metadata": {
    "colab": {
     "base_uri": "https://localhost:8080/",
     "height": 51
    },
    "colab_type": "code",
    "id": "HO_nbMIbQOfX",
    "outputId": "0c268f00-2aa0-4543-c1a3-6d442da1cb0c"
   },
   "outputs": [],
   "source": [
    "import time\n",
    "\n",
    "n = 2\n",
    "pow = 10\n",
    "\n",
    "n_pow = n\n",
    "\n",
    "tick = time.time()\n",
    "for _ in range(pow):\n",
    "  n_pow*=n\n",
    "\n",
    "duration = time.time()-tick\n",
    "  \n",
    "print(\"La %d° potenza di %d è %d\" % (pow, n, n_pow))\n",
    "print(\"Tempo di esecuzione: %.5f secondi\" % duration)\n"
   ]
  },
  {
   "cell_type": "markdown",
   "metadata": {},
   "source": [
    "il metodo time() ci permette di ottenere il timestamp corrente, cioè i secondi trascorsi dall'epoca. L'epoca è il punto in cui il tempo inizia per un computer e dipende dal sistema operativo, ad esempio per Unix/Linux è l'1 Gennaio 1970 per Windows è L'1 Gennaio 1601."
   ]
  },
  {
   "cell_type": "code",
   "execution_count": null,
   "metadata": {
    "colab": {
     "base_uri": "https://localhost:8080/",
     "height": 233
    },
    "colab_type": "code",
    "id": "CW_oV77BS614",
    "outputId": "80253dfa-1c59-4ae3-8683-8b965f0a1daa"
   },
   "outputs": [],
   "source": [
    "from time import time\n",
    "from math import pow\n",
    "\n",
    "n = 2\n",
    "pow = 10\n",
    "\n",
    "tick = time()\n",
    "\n",
    "pow(2,10)\n",
    "\n",
    "# il tempo di esecuzione è la differenza tra i timestamp\n",
    "\n",
    "duration = time()-tick\n",
    "\n",
    "print(\"La %d° potenza di %d è %d\" % (pow, n, n_pow))\n",
    "print(\"Tempo di esecuzione: %.5f secondi\" % duration)"
   ]
  },
  {
   "cell_type": "markdown",
   "metadata": {},
   "source": [
    "Come vedi abbiamo ottenuto un errore, riesci a vederlo ? Il problema è che la funzione pow del modulo math si chiama come la nostra variabile e Python pensa che stiamo cercando di trattare la nostra varaibile come una funzione, quindi genera un'eccezione di tipo TypeError. La soluzione migliore sarebbe rinominare la variabile, noi piuttosto creiamo un aias della funzione pow."
   ]
  },
  {
   "cell_type": "code",
   "execution_count": null,
   "metadata": {
    "colab": {
     "base_uri": "https://localhost:8080/",
     "height": 233
    },
    "colab_type": "code",
    "id": "bihwFPnARkIa",
    "outputId": "3bff23f8-001c-4844-c833-95b670448399"
   },
   "outputs": [],
   "source": [
    "from time import time\n",
    "from math import pow as power\n",
    "\n",
    "n = 2\n",
    "pow = 10\n",
    "\n",
    "tick = time()\n",
    "\n",
    "n_pow = power(n, pow)\n",
    "\n",
    "duration = time()-tick\n",
    "\n",
    "print(\"La %d° potenza di %d è %d\" % (pow, n, n_pow))\n",
    "print(\"Tempo di esecuzione: %.5f secondi\" % duration)"
   ]
  },
  {
   "cell_type": "markdown",
   "metadata": {},
   "source": [
    "### Python Package Index  (PyPI)\n",
    "Oltre ai moduli della Standard Library, Python ci da la possibilità di installare e utilizzare moduli creati da sviluppatori terzi, contenuti all'interno del Python Package Index (PyPI). Per installare uno di questi moduli possiamo usare pip, il gestore di pacchetti Python per eccellenza, utilizzabile da riga di comando e che viene installato automaticamente insieme a Python (se per qualche oscuro motivo pip non è stato installato insieme a Python, fai riferimento a [questa guida](https://pip.pypa.io/en/stable/installing/) per installarlo manualmente).\n",
    "<br>\n",
    "Utilizziamo pip per installare *numpy*, una utilissima libreria Python per il calcolo scientifico."
   ]
  },
  {
   "cell_type": "code",
   "execution_count": null,
   "metadata": {
    "colab": {
     "base_uri": "https://localhost:8080/",
     "height": 54
    },
    "colab_type": "code",
    "id": "fv0B4CN-SlQ5",
    "outputId": "33f73cec-7510-4049-d344-fb6a69a5fd4e"
   },
   "outputs": [],
   "source": [
    "!pip install numpy"
   ]
  },
  {
   "cell_type": "markdown",
   "metadata": {},
   "source": [
    "**NOTA BENE** pip è un software che va utilizzato da terminale, in Jupyter Notebook possiamo eseguire un comando da terminale aggiungendo un (!) prima del comando.\n",
    "<br>\n",
    "Una volta installato possiamo usare Numpy importandolo come qualsiasi altro modulo."
   ]
  },
  {
   "cell_type": "code",
   "execution_count": null,
   "metadata": {
    "colab": {
     "base_uri": "https://localhost:8080/",
     "height": 51
    },
    "colab_type": "code",
    "id": "Ms5FsVmqTOmZ",
    "outputId": "6cbea40d-daff-4a5e-9e83-05938c1f3f67"
   },
   "outputs": [],
   "source": [
    "from time import time\n",
    "import numpy as np\n",
    "\n",
    "n = 2\n",
    "power = 10\n",
    "\n",
    "tick = time()\n",
    "\n",
    "np_pow = np.power(n, power)\n",
    "\n",
    "duration = time()-tick\n",
    "\n",
    "print(\"La %d° potenza di %d è %s\" % (power, n, n_pow))\n",
    "print(\"Tempo di esecuzione: %.5f secondi\" % duration)"
   ]
  },
  {
   "cell_type": "markdown",
   "metadata": {},
   "source": [
    "Altri comandi utili di pip sono:\n",
    "* pip uninstall *nome_modulo*  (per rimuovere un modulo)\n",
    "* pip install *nome_modulo* --upgrade (per aggiornare un modulo)"
   ]
  }
 ],
 "metadata": {
  "colab": {
   "collapsed_sections": [],
   "name": "python_in_60_minuti.ipynb",
   "provenance": [],
   "version": "0.3.2"
  },
  "kernelspec": {
   "display_name": "Python 3",
   "language": "python",
   "name": "python3"
  },
  "language_info": {
   "codemirror_mode": {
    "name": "ipython",
    "version": 3
   },
   "file_extension": ".py",
   "mimetype": "text/x-python",
   "name": "python",
   "nbconvert_exporter": "python",
   "pygments_lexer": "ipython3",
   "version": "3.6.5"
  }
 },
 "nbformat": 4,
 "nbformat_minor": 1
}
