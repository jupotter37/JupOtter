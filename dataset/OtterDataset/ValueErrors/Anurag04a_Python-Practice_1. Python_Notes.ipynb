{
  "nbformat": 4,
  "nbformat_minor": 0,
  "metadata": {
    "kernelspec": {
      "display_name": "Python 2",
      "language": "python",
      "name": "python2"
    },
    "language_info": {
      "codemirror_mode": {
        "name": "ipython",
        "version": 2
      },
      "file_extension": ".py",
      "mimetype": "text/x-python",
      "name": "python",
      "nbconvert_exporter": "python",
      "pygments_lexer": "ipython2",
      "version": "2.7.13"
    },
    "colab": {
      "provenance": [],
      "toc_visible": true
    }
  },
  "cells": [
    {
      "cell_type": "markdown",
      "metadata": {
        "id": "XP2V7Ds3x9lJ"
      },
      "source": [
        "# Python Keywords"
      ]
    },
    {
      "cell_type": "markdown",
      "metadata": {
        "id": "WWafYKulx9lO"
      },
      "source": [
        "Keywords are the reserved words in python\n",
        "\n",
        "We can't use a keyword as variable name, function name or any other identifier\n",
        "\n",
        "Keywords are case sentive"
      ]
    },
    {
      "cell_type": "code",
      "metadata": {
        "id": "bmp-yw_cx9lP",
        "colab": {
          "base_uri": "https://localhost:8080/"
        },
        "outputId": "c9ba8e27-f16d-4a7c-c0f5-c265a9e909ed"
      },
      "source": [
        "#Get all keywords in python 3.6\n",
        "\n",
        "import keyword\n",
        "\n",
        "print(keyword.kwlist)\n",
        "print(\"Total number of keywords \", len(keyword.kwlist))"
      ],
      "execution_count": 3,
      "outputs": [
        {
          "output_type": "stream",
          "name": "stdout",
          "text": [
            "['False', 'None', 'True', 'and', 'as', 'assert', 'async', 'await', 'break', 'class', 'continue', 'def', 'del', 'elif', 'else', 'except', 'finally', 'for', 'from', 'global', 'if', 'import', 'in', 'is', 'lambda', 'nonlocal', 'not', 'or', 'pass', 'raise', 'return', 'try', 'while', 'with', 'yield']\n",
            "Total number of keywords  35\n"
          ]
        }
      ]
    },
    {
      "cell_type": "markdown",
      "metadata": {
        "collapsed": true,
        "id": "4wpq4Uomx9lW"
      },
      "source": [
        "# Identifiers"
      ]
    },
    {
      "cell_type": "markdown",
      "metadata": {
        "id": "VtGncKb3x9lY"
      },
      "source": [
        "Identifier is the name given to entities like class, functions, variables etc. in Python. It helps differentiating one entity from another."
      ]
    },
    {
      "cell_type": "markdown",
      "metadata": {
        "id": "YHO424Knx9lZ"
      },
      "source": [
        "Rules for Writing Identifiers:\n",
        "\n",
        "1. Identifiers can be a combination of letters in lowercase (a to z) or uppercase (A to Z) or digits (0 to 9) or an underscore (_).\n",
        "\n",
        "2. An identifier cannot start with a digit. 1variable is invalid, but variable1 is perfectly fine.\n",
        "\n",
        "3. Keywords cannot be used as identifiers."
      ]
    },
    {
      "cell_type": "code",
      "metadata": {
        "id": "tZQPhTryx9la",
        "outputId": "814c5b60-82f1-43ad-900e-a03d4772f14e"
      },
      "source": [
        "global = 1"
      ],
      "execution_count": null,
      "outputs": [
        {
          "output_type": "error",
          "ename": "SyntaxError",
          "evalue": "invalid syntax (<ipython-input-3-d0026cf49b71>, line 1)",
          "traceback": [
            "\u001b[0;36m  File \u001b[0;32m\"<ipython-input-3-d0026cf49b71>\"\u001b[0;36m, line \u001b[0;32m1\u001b[0m\n\u001b[0;31m    global = 1\u001b[0m\n\u001b[0m           ^\u001b[0m\n\u001b[0;31mSyntaxError\u001b[0m\u001b[0;31m:\u001b[0m invalid syntax\n"
          ]
        }
      ]
    },
    {
      "cell_type": "markdown",
      "metadata": {
        "id": "v-YqWZVHx9le"
      },
      "source": [
        " We cannot use special symbols like !, @, #, $, % etc. in our identifier."
      ]
    },
    {
      "cell_type": "code",
      "metadata": {
        "id": "FTqhcbK5x9lg",
        "outputId": "4e2c5993-4db4-4b6c-bb8d-447cc4d3a66b"
      },
      "source": [
        "a@ = 10             #can't use special symbols as an identifier"
      ],
      "execution_count": null,
      "outputs": [
        {
          "output_type": "error",
          "ename": "SyntaxError",
          "evalue": "invalid syntax (<ipython-input-5-b512271f00c8>, line 1)",
          "traceback": [
            "\u001b[0;36m  File \u001b[0;32m\"<ipython-input-5-b512271f00c8>\"\u001b[0;36m, line \u001b[0;32m1\u001b[0m\n\u001b[0;31m    a@ = 10             #can't use special symbols as an identifier\u001b[0m\n\u001b[0m     ^\u001b[0m\n\u001b[0;31mSyntaxError\u001b[0m\u001b[0;31m:\u001b[0m invalid syntax\n"
          ]
        }
      ]
    },
    {
      "cell_type": "markdown",
      "source": [
        "# Python Comments"
      ],
      "metadata": {
        "id": "UN4wWQmEd07Y"
      }
    },
    {
      "cell_type": "markdown",
      "source": [
        "Comments are lines that exist in computer programs that are ignored by compilers and interpreters.\n",
        "\n",
        "Including comments in programs makes code more readable for humans as it provides some information or explanation about what each part of a program is doing.\n",
        "\n",
        "In general, it is a good idea to write comments while you are writing or updating a program as it is easy to forget your thought process later on, and comments written later may be less useful in the long term."
      ],
      "metadata": {
        "id": "mmJzcB24d4J2"
      }
    },
    {
      "cell_type": "markdown",
      "source": [
        "In Python, we use the hash (#) symbol to start writing a comment."
      ],
      "metadata": {
        "id": "i495RKUMd-Tr"
      }
    },
    {
      "cell_type": "code",
      "source": [
        "#Print Hello, world to console\n",
        "print(\"Hello, world\")"
      ],
      "metadata": {
        "colab": {
          "base_uri": "https://localhost:8080/"
        },
        "id": "zkzdvM4bd_PD",
        "outputId": "0281b9e2-7796-4535-8388-82fe77c94868"
      },
      "execution_count": 4,
      "outputs": [
        {
          "output_type": "stream",
          "name": "stdout",
          "text": [
            "Hello, world\n"
          ]
        }
      ]
    },
    {
      "cell_type": "markdown",
      "source": [
        "# Multi Line Comments"
      ],
      "metadata": {
        "id": "dnn0sydleEG7"
      }
    },
    {
      "cell_type": "markdown",
      "source": [
        "If we have comments that extend multiple lines, one way of doing it is to use hash (#) in the beginning of each line."
      ],
      "metadata": {
        "id": "rKd9lK21eFZt"
      }
    },
    {
      "cell_type": "code",
      "source": [
        "#This is a long comment\n",
        "#and it extends\n",
        "#Multiple lines"
      ],
      "metadata": {
        "id": "LNyUiRF2eLCy"
      },
      "execution_count": null,
      "outputs": []
    },
    {
      "cell_type": "markdown",
      "source": [
        "Another way of doing this is to use triple quotes, either ''' or \"\"\"."
      ],
      "metadata": {
        "id": "rd8_FOZbeISR"
      }
    },
    {
      "cell_type": "code",
      "source": [
        "\"\"\"This is also a\n",
        "perfect example of\n",
        "multi-line comments\"\"\""
      ],
      "metadata": {
        "colab": {
          "base_uri": "https://localhost:8080/",
          "height": 35
        },
        "id": "_xmwoMiDePym",
        "outputId": "94f1eaa9-adc7-4e91-beed-f292be1ee731"
      },
      "execution_count": 5,
      "outputs": [
        {
          "output_type": "execute_result",
          "data": {
            "text/plain": [
              "'This is also a\\nperfect example of\\nmulti-line comments'"
            ],
            "application/vnd.google.colaboratory.intrinsic+json": {
              "type": "string"
            }
          },
          "metadata": {},
          "execution_count": 5
        }
      ]
    },
    {
      "cell_type": "markdown",
      "source": [
        "# DocString in python"
      ],
      "metadata": {
        "id": "erAcSbeMeVt4"
      }
    },
    {
      "cell_type": "markdown",
      "source": [
        "Docstring is short for documentation string.\n",
        "\n",
        "It is a string that occurs as the first statement in a module, function, class, or method definition."
      ],
      "metadata": {
        "id": "BVrc4z-beXCP"
      }
    },
    {
      "cell_type": "code",
      "source": [
        "def double(num):\n",
        "    \"\"\"\n",
        "    function to double the number\n",
        "    \"\"\"\n",
        "    return 2 * num\n",
        "\n",
        "print(double(10))"
      ],
      "metadata": {
        "colab": {
          "base_uri": "https://localhost:8080/"
        },
        "id": "i6kjbTeneZhy",
        "outputId": "0cbcf052-4cd1-4a6f-ea3f-a1e8b6f178b3"
      },
      "execution_count": 7,
      "outputs": [
        {
          "output_type": "stream",
          "name": "stdout",
          "text": [
            "20\n"
          ]
        }
      ]
    },
    {
      "cell_type": "code",
      "source": [
        "print(double.__doc__) #Docstring is available to us as the attribute __doc__ of the function"
      ],
      "metadata": {
        "colab": {
          "base_uri": "https://localhost:8080/"
        },
        "id": "2Q0B2GfhelMc",
        "outputId": "0e655454-c152-4c8e-b388-59aca0e6ee18"
      },
      "execution_count": 9,
      "outputs": [
        {
          "output_type": "stream",
          "name": "stdout",
          "text": [
            "\n",
            "    function to double the number\n",
            "    \n"
          ]
        }
      ]
    },
    {
      "cell_type": "markdown",
      "source": [
        "# Python Indentation"
      ],
      "metadata": {
        "id": "vr4dqye6eh7Y"
      }
    },
    {
      "cell_type": "markdown",
      "source": [
        "1. Most of the programming languages like C, C++, Java use braces { } to define a block of code. Python uses indentation.\n",
        "\n",
        "2. A code block (body of a function, loop etc.) starts with indentation and ends with the first unindented line. The amount of indentation is up to you, but it must be consistent throughout that block.\n",
        "\n",
        "3. Generally four whitespaces are used for indentation and is preferred over tabs."
      ],
      "metadata": {
        "id": "ZpoqJrouezme"
      }
    },
    {
      "cell_type": "code",
      "source": [
        "for i in range(10):\n",
        "    print(i)"
      ],
      "metadata": {
        "colab": {
          "base_uri": "https://localhost:8080/"
        },
        "id": "Z_hQud71e4PC",
        "outputId": "2a48c56c-eee2-47b4-f405-e661e2d534d1"
      },
      "execution_count": 11,
      "outputs": [
        {
          "output_type": "stream",
          "name": "stdout",
          "text": [
            "0\n",
            "1\n",
            "2\n",
            "3\n",
            "4\n",
            "5\n",
            "6\n",
            "7\n",
            "8\n",
            "9\n"
          ]
        }
      ]
    },
    {
      "cell_type": "markdown",
      "source": [
        "Indentation can be ignored in line continuation. But it's a good idea to always indent. It makes the code more readable."
      ],
      "metadata": {
        "id": "puhLJUO0e2ZE"
      }
    },
    {
      "cell_type": "code",
      "source": [
        "if True:\n",
        "    print(\"Machine Learning\")\n",
        "    c = \"AAIC\""
      ],
      "metadata": {
        "colab": {
          "base_uri": "https://localhost:8080/"
        },
        "id": "97-B-cPDfBuI",
        "outputId": "344ebcef-0989-4572-b61f-b543ec51ae31"
      },
      "execution_count": 13,
      "outputs": [
        {
          "output_type": "stream",
          "name": "stdout",
          "text": [
            "Machine Learning\n"
          ]
        }
      ]
    },
    {
      "cell_type": "code",
      "source": [
        "if True: print(\"Machine Learning\"); c = \"AAIC\""
      ],
      "metadata": {
        "colab": {
          "base_uri": "https://localhost:8080/"
        },
        "id": "d6CwRECyfQeh",
        "outputId": "e0b69797-82a8-4f44-ccbd-c2c71a7d4f31"
      },
      "execution_count": 14,
      "outputs": [
        {
          "output_type": "stream",
          "name": "stdout",
          "text": [
            "Machine Learning\n"
          ]
        }
      ]
    },
    {
      "cell_type": "markdown",
      "source": [
        "# Python Statement"
      ],
      "metadata": {
        "id": "akHLqtHefUzw"
      }
    },
    {
      "cell_type": "markdown",
      "source": [
        "Instructions that a Python interpreter can execute are called statements."
      ],
      "metadata": {
        "id": "mDRZQcpufYRh"
      }
    },
    {
      "cell_type": "markdown",
      "source": [
        "Examples:"
      ],
      "metadata": {
        "id": "tXHbYxTCfZOc"
      }
    },
    {
      "cell_type": "code",
      "source": [
        " a = 1  #single statement"
      ],
      "metadata": {
        "id": "S1NtDYV3fSVO"
      },
      "execution_count": 15,
      "outputs": []
    },
    {
      "cell_type": "markdown",
      "source": [
        "# Multi-Line Statement"
      ],
      "metadata": {
        "id": "tJR8xZuAfiwX"
      }
    },
    {
      "cell_type": "markdown",
      "source": [
        "In Python, end of a statement is marked by a newline character. But we can make a statement extend over multiple lines with the line continuation character (\\)."
      ],
      "metadata": {
        "id": "VDUKAwAHfkT-"
      }
    },
    {
      "cell_type": "code",
      "source": [
        "a = 1 + 2 + 3 + \\\n",
        "    4 + 5 + 6 + \\\n",
        "    7 + 8"
      ],
      "metadata": {
        "id": "afAFacjXfnsB"
      },
      "execution_count": 16,
      "outputs": []
    },
    {
      "cell_type": "code",
      "source": [
        "print(a)"
      ],
      "metadata": {
        "colab": {
          "base_uri": "https://localhost:8080/"
        },
        "id": "ru5GWJLzfrr8",
        "outputId": "12c47107-465b-44a9-dc47-e28eae722143"
      },
      "execution_count": 17,
      "outputs": [
        {
          "output_type": "stream",
          "name": "stdout",
          "text": [
            "36\n"
          ]
        }
      ]
    },
    {
      "cell_type": "code",
      "source": [
        "#another way is\n",
        "a = (1 + 2 + 3 +\n",
        "    4 + 5 + 6 +\n",
        "    7 + 8)\n",
        "print(a)"
      ],
      "metadata": {
        "colab": {
          "base_uri": "https://localhost:8080/"
        },
        "id": "uF63shrcfuMp",
        "outputId": "23193c06-05b7-4dca-b1ce-34b2e561c44c"
      },
      "execution_count": 18,
      "outputs": [
        {
          "output_type": "stream",
          "name": "stdout",
          "text": [
            "36\n"
          ]
        }
      ]
    },
    {
      "cell_type": "code",
      "source": [
        "a = 10; b = 20; c = 30   #put multiple statements in a single line using ;"
      ],
      "metadata": {
        "id": "401izNg0f0pr"
      },
      "execution_count": 19,
      "outputs": []
    },
    {
      "cell_type": "markdown",
      "source": [
        "# Variables"
      ],
      "metadata": {
        "id": "oNBVr1zQgCNn"
      }
    },
    {
      "cell_type": "markdown",
      "source": [
        "A variable is a location in memory used to store some data (value).\n",
        "\n",
        "They are given unique names to differentiate between different memory locations. The rules for writing a variable name is same as the rules for writing identifiers in Python.\n",
        "\n",
        "We don't need to declare a variable before using it. In Python, we simply assign a value to a variable and it will exist. We don't even have to declare the type of the variable. This is handled internally according to the type of value we assign to the variable."
      ],
      "metadata": {
        "id": "ZOgCmZuWgFQF"
      }
    },
    {
      "cell_type": "markdown",
      "source": [
        "# Variable Assignments"
      ],
      "metadata": {
        "id": "ONMHdWWagIgm"
      }
    },
    {
      "cell_type": "code",
      "source": [
        "#We use the assignment operator (=) to assign values to a variable\n",
        "\n",
        "a = 10\n",
        "b = 5.5\n",
        "c = \"ML\""
      ],
      "metadata": {
        "id": "bHEcQThSgGOS"
      },
      "execution_count": 20,
      "outputs": []
    },
    {
      "cell_type": "markdown",
      "source": [
        "# Multiple Assignments"
      ],
      "metadata": {
        "id": "P_jgoKnKgQrm"
      }
    },
    {
      "cell_type": "code",
      "source": [
        "a, b, c = 10, 5.5, \"ML\""
      ],
      "metadata": {
        "id": "iODpLWdlgRiO"
      },
      "execution_count": 21,
      "outputs": []
    },
    {
      "cell_type": "code",
      "source": [
        "a = b = c = \"AI\" #assign the same value to multiple variables at once"
      ],
      "metadata": {
        "id": "MR3XwbQWgWjA"
      },
      "execution_count": 22,
      "outputs": []
    },
    {
      "cell_type": "markdown",
      "source": [
        "# Storage Locations"
      ],
      "metadata": {
        "id": "wTXy3lTrgZ-v"
      }
    },
    {
      "cell_type": "code",
      "source": [
        "x = 3\n",
        "\n",
        "print(id(x))               #print address of variable x"
      ],
      "metadata": {
        "colab": {
          "base_uri": "https://localhost:8080/"
        },
        "id": "Wl0q1h9Ega0V",
        "outputId": "ddbdb7af-def4-4f50-c2a1-7259388f2072"
      },
      "execution_count": 23,
      "outputs": [
        {
          "output_type": "stream",
          "name": "stdout",
          "text": [
            "138908023898416\n"
          ]
        }
      ]
    },
    {
      "cell_type": "code",
      "source": [
        "y = 3\n",
        "\n",
        "print(id(y))               #print address of variable y"
      ],
      "metadata": {
        "colab": {
          "base_uri": "https://localhost:8080/"
        },
        "id": "4MUO2DV_gfxr",
        "outputId": "ebbef9dd-8aae-491a-997f-c27d8b9c337a"
      },
      "execution_count": 24,
      "outputs": [
        {
          "output_type": "stream",
          "name": "stdout",
          "text": [
            "138908023898416\n"
          ]
        }
      ]
    },
    {
      "cell_type": "markdown",
      "source": [
        "Observation:\n",
        "\n",
        "x and y points to same memory location\n",
        "    "
      ],
      "metadata": {
        "id": "EDHrssesgjXS"
      }
    },
    {
      "cell_type": "code",
      "source": [
        "y = 2\n",
        "print(id(y))               #print address of variable y"
      ],
      "metadata": {
        "colab": {
          "base_uri": "https://localhost:8080/"
        },
        "id": "Hus7FfGHggau",
        "outputId": "ea91b39d-6070-4a46-c5f8-58f65ce96bdb"
      },
      "execution_count": 25,
      "outputs": [
        {
          "output_type": "stream",
          "name": "stdout",
          "text": [
            "138908023898384\n"
          ]
        }
      ]
    },
    {
      "cell_type": "markdown",
      "source": [
        "# Data Types"
      ],
      "metadata": {
        "id": "7Dw6wvJngtUE"
      }
    },
    {
      "cell_type": "markdown",
      "source": [
        "Every value in Python has a datatype. Since everything is an object in Python programming, data types are actually classes and variables are instance (object) of these classes."
      ],
      "metadata": {
        "id": "ejkAXyZLgxix"
      }
    },
    {
      "cell_type": "markdown",
      "source": [
        "# Numbers"
      ],
      "metadata": {
        "id": "iXjpqH7ag0hR"
      }
    },
    {
      "cell_type": "markdown",
      "source": [
        "Integers, floating point numbers and complex numbers falls under Python numbers category. They are defined as int, float and complex class in Python.\n",
        "\n",
        "We can use the type() function to know which class a variable or a value belongs to and the isinstance() function to check if an object belongs to a particular class."
      ],
      "metadata": {
        "id": "odDrUNmag37b"
      }
    },
    {
      "cell_type": "code",
      "source": [
        "a = 5                               #data type is implicitly set to integer\n",
        "print(a, \" is of type\", type(a))"
      ],
      "metadata": {
        "colab": {
          "base_uri": "https://localhost:8080/"
        },
        "id": "T0-uZlCKguaT",
        "outputId": "cafe6f85-0194-41b2-f3db-6f300076e020"
      },
      "execution_count": 26,
      "outputs": [
        {
          "output_type": "stream",
          "name": "stdout",
          "text": [
            "5  is of type <class 'int'>\n"
          ]
        }
      ]
    },
    {
      "cell_type": "code",
      "source": [
        "a = 2.5                            #data type is changed to float\n",
        "print(a, \" is of type\", type(a))"
      ],
      "metadata": {
        "colab": {
          "base_uri": "https://localhost:8080/"
        },
        "id": "bJrlJlU4g7Fd",
        "outputId": "bdd4a68b-9e69-4a9b-c4cb-32483db08d12"
      },
      "execution_count": 27,
      "outputs": [
        {
          "output_type": "stream",
          "name": "stdout",
          "text": [
            "2.5  is of type <class 'float'>\n"
          ]
        }
      ]
    },
    {
      "cell_type": "code",
      "source": [
        "a = 1 + 2j                          #data type is changed to complex number\n",
        "print(a, \" is complex number?\")\n",
        "print(isinstance(1+2j, complex))"
      ],
      "metadata": {
        "colab": {
          "base_uri": "https://localhost:8080/"
        },
        "id": "CSytEjY4g9XG",
        "outputId": "623b2942-0c7b-4625-e5db-38a7b79a5605"
      },
      "execution_count": 28,
      "outputs": [
        {
          "output_type": "stream",
          "name": "stdout",
          "text": [
            "(1+2j)  is complex number?\n",
            "True\n"
          ]
        }
      ]
    },
    {
      "cell_type": "markdown",
      "source": [
        "# Boolean"
      ],
      "metadata": {
        "id": "-JSJ3JblhCYS"
      }
    },
    {
      "cell_type": "markdown",
      "source": [
        " Boolean represents the truth values False and True"
      ],
      "metadata": {
        "id": "nAZEbbW4hFKm"
      }
    },
    {
      "cell_type": "code",
      "source": [
        "a = True                          #a is a boolean type\n",
        "print(type(a))"
      ],
      "metadata": {
        "colab": {
          "base_uri": "https://localhost:8080/"
        },
        "id": "zLX0bVTChAFU",
        "outputId": "303ac676-fff0-425c-bcfb-84603dcdd391"
      },
      "execution_count": 29,
      "outputs": [
        {
          "output_type": "stream",
          "name": "stdout",
          "text": [
            "<class 'bool'>\n"
          ]
        }
      ]
    },
    {
      "cell_type": "markdown",
      "source": [
        "# Python Strings"
      ],
      "metadata": {
        "id": "4iqJHxXPhLQA"
      }
    },
    {
      "cell_type": "markdown",
      "source": [
        "String is sequence of Unicode characters.\n",
        "\n",
        "We can use single quotes or double quotes to represent strings.\n",
        "\n",
        "Multi-line strings can be denoted using triple quotes, ''' or \"\"\"."
      ],
      "metadata": {
        "id": "jxRYc_4ShNyf"
      }
    },
    {
      "cell_type": "markdown",
      "source": [
        "A string in Python consists of a series or sequence of characters - letters, numbers, and special characters.\n",
        "\n",
        "Strings can be indexed - often synonymously called subscripted as well.\n",
        "\n",
        "Similar to C, the first character of a string has the index 0."
      ],
      "metadata": {
        "id": "4XRtOBzOhOnU"
      }
    },
    {
      "cell_type": "code",
      "source": [
        "s = \"This is Online AI course\"\n",
        "print(s)"
      ],
      "metadata": {
        "colab": {
          "base_uri": "https://localhost:8080/"
        },
        "id": "N-X3DXwShIoG",
        "outputId": "6e0eb528-cfcb-4615-9d05-5d73cff7468f"
      },
      "execution_count": 30,
      "outputs": [
        {
          "output_type": "stream",
          "name": "stdout",
          "text": [
            "This is Online AI course\n"
          ]
        }
      ]
    },
    {
      "cell_type": "code",
      "source": [
        "print(s[0])\n",
        "#last char s[len(s)-1] or s[-1]"
      ],
      "metadata": {
        "colab": {
          "base_uri": "https://localhost:8080/"
        },
        "id": "avDs10UChTVc",
        "outputId": "071d879d-1910-4ae2-c558-89d47b24e2e1"
      },
      "execution_count": 31,
      "outputs": [
        {
          "output_type": "stream",
          "name": "stdout",
          "text": [
            "T\n"
          ]
        }
      ]
    },
    {
      "cell_type": "code",
      "source": [
        "#slicing\n",
        "s[5:]"
      ],
      "metadata": {
        "colab": {
          "base_uri": "https://localhost:8080/",
          "height": 35
        },
        "id": "gkBWUYK9hWFG",
        "outputId": "162ba780-b9dc-40b3-d47b-1c93a37f9d4c"
      },
      "execution_count": 32,
      "outputs": [
        {
          "output_type": "execute_result",
          "data": {
            "text/plain": [
              "'is Online AI course'"
            ],
            "application/vnd.google.colaboratory.intrinsic+json": {
              "type": "string"
            }
          },
          "metadata": {},
          "execution_count": 32
        }
      ]
    },
    {
      "cell_type": "markdown",
      "source": [
        "# Python List"
      ],
      "metadata": {
        "id": "Rz6N3axzhb0y"
      }
    },
    {
      "cell_type": "markdown",
      "source": [
        "vList is an ordered sequence of items. It is one of the most used datatype in Python and is very flexible. All the items in a list do not need to be of the same type.\n",
        "\n",
        "Declaring a list is , Items separated by commas are enclosed within brackets [ ]."
      ],
      "metadata": {
        "id": "HJ1698xvhe5D"
      }
    },
    {
      "cell_type": "code",
      "source": [
        "a = [10, 20.5, \"Hello\"]\n",
        "print(a[1])               #print 1st index element"
      ],
      "metadata": {
        "colab": {
          "base_uri": "https://localhost:8080/"
        },
        "id": "nskKWNUohY1L",
        "outputId": "a9b7d203-8cef-46b7-8cab-4e2d9c4e684b"
      },
      "execution_count": 33,
      "outputs": [
        {
          "output_type": "stream",
          "name": "stdout",
          "text": [
            "20.5\n"
          ]
        }
      ]
    },
    {
      "cell_type": "markdown",
      "source": [
        "Lists are mutable, meaning, value of elements of a list can be altered."
      ],
      "metadata": {
        "id": "IvEXjCZGhlgW"
      }
    },
    {
      "cell_type": "code",
      "source": [
        "a[1] = 30.7\n",
        "print(a)"
      ],
      "metadata": {
        "colab": {
          "base_uri": "https://localhost:8080/"
        },
        "id": "e47e_h32hh8I",
        "outputId": "c3e69da4-5c7a-4d21-a5d6-16da4218ef1f"
      },
      "execution_count": 34,
      "outputs": [
        {
          "output_type": "stream",
          "name": "stdout",
          "text": [
            "[10, 30.7, 'Hello']\n"
          ]
        }
      ]
    },
    {
      "cell_type": "markdown",
      "source": [
        "# Python Tuple"
      ],
      "metadata": {
        "id": "3-SPgFWAhrp0"
      }
    },
    {
      "cell_type": "markdown",
      "source": [
        "Tuple is an ordered sequence of items same as list.The only difference is that tuples are immutable. Tuples once created cannot be modified."
      ],
      "metadata": {
        "id": "cOIKLOq5hs11"
      }
    },
    {
      "cell_type": "code",
      "source": [
        "t = (1, 1.5, \"ML\")"
      ],
      "metadata": {
        "id": "DtnKfughhofb"
      },
      "execution_count": 35,
      "outputs": []
    },
    {
      "cell_type": "code",
      "source": [
        "print(t[1]) #extract particular element"
      ],
      "metadata": {
        "colab": {
          "base_uri": "https://localhost:8080/"
        },
        "id": "tzub0kzShzN4",
        "outputId": "9a036e78-77e4-4ee6-83c4-836d0363605e"
      },
      "execution_count": 36,
      "outputs": [
        {
          "output_type": "stream",
          "name": "stdout",
          "text": [
            "1.5\n"
          ]
        }
      ]
    },
    {
      "cell_type": "code",
      "source": [
        "t[1] = 1.25"
      ],
      "metadata": {
        "colab": {
          "base_uri": "https://localhost:8080/",
          "height": 176
        },
        "id": "LDqOuD46h1Sz",
        "outputId": "05926c16-4789-4104-aa51-91b1a0173b00"
      },
      "execution_count": 37,
      "outputs": [
        {
          "output_type": "error",
          "ename": "TypeError",
          "evalue": "ignored",
          "traceback": [
            "\u001b[0;31m---------------------------------------------------------------------------\u001b[0m",
            "\u001b[0;31mTypeError\u001b[0m                                 Traceback (most recent call last)",
            "\u001b[0;32m<ipython-input-37-826a3e5c5c91>\u001b[0m in \u001b[0;36m<cell line: 1>\u001b[0;34m()\u001b[0m\n\u001b[0;32m----> 1\u001b[0;31m \u001b[0mt\u001b[0m\u001b[0;34m[\u001b[0m\u001b[0;36m1\u001b[0m\u001b[0;34m]\u001b[0m \u001b[0;34m=\u001b[0m \u001b[0;36m1.25\u001b[0m\u001b[0;34m\u001b[0m\u001b[0;34m\u001b[0m\u001b[0m\n\u001b[0m",
            "\u001b[0;31mTypeError\u001b[0m: 'tuple' object does not support item assignment"
          ]
        }
      ]
    },
    {
      "cell_type": "markdown",
      "source": [
        "# Python Set"
      ],
      "metadata": {
        "id": "uCpGIB-oh8CK"
      }
    },
    {
      "cell_type": "markdown",
      "source": [
        "Set is an unordered collection of unique items. Set is defined by values separated by comma inside braces { }. Items in a set are not ordered."
      ],
      "metadata": {
        "id": "NRDBCe76iATP"
      }
    },
    {
      "cell_type": "code",
      "source": [
        "a = {10, 30, 20, 40, 5}\n",
        "print(a)"
      ],
      "metadata": {
        "colab": {
          "base_uri": "https://localhost:8080/"
        },
        "id": "i1qbXxCSh4X_",
        "outputId": "304f2699-9602-4514-a3ed-94e1f8c35ed3"
      },
      "execution_count": 38,
      "outputs": [
        {
          "output_type": "stream",
          "name": "stdout",
          "text": [
            "{20, 5, 40, 10, 30}\n"
          ]
        }
      ]
    },
    {
      "cell_type": "code",
      "source": [
        "print(type(a))             #print type of a"
      ],
      "metadata": {
        "colab": {
          "base_uri": "https://localhost:8080/"
        },
        "id": "-c6H2keXiEK0",
        "outputId": "39923933-3e1c-43f8-d053-8e431e660720"
      },
      "execution_count": 39,
      "outputs": [
        {
          "output_type": "stream",
          "name": "stdout",
          "text": [
            "<class 'set'>\n"
          ]
        }
      ]
    },
    {
      "cell_type": "markdown",
      "source": [
        "We can perform set operations like union, intersection on two sets. Set have unique values."
      ],
      "metadata": {
        "id": "eC_fk8SsiKQz"
      }
    },
    {
      "cell_type": "code",
      "source": [
        "s = {10, 20, 20, 30, 30, 30}\n",
        "print(s)                    #automatically set won't consider duplicate elements"
      ],
      "metadata": {
        "colab": {
          "base_uri": "https://localhost:8080/"
        },
        "id": "JUFRgVeUiHPG",
        "outputId": "2cda6afd-5b20-4fcb-a9f2-1ec5d8ff253a"
      },
      "execution_count": 40,
      "outputs": [
        {
          "output_type": "stream",
          "name": "stdout",
          "text": [
            "{10, 20, 30}\n"
          ]
        }
      ]
    },
    {
      "cell_type": "code",
      "source": [
        "print(s[1]) #we can't print particular element in set because\n",
        "            #it's unorder collections of items"
      ],
      "metadata": {
        "colab": {
          "base_uri": "https://localhost:8080/",
          "height": 193
        },
        "id": "OLIVYVbEiNuj",
        "outputId": "3ec030d7-9e41-4514-b07a-1cdd8cb9f32f"
      },
      "execution_count": 41,
      "outputs": [
        {
          "output_type": "error",
          "ename": "TypeError",
          "evalue": "ignored",
          "traceback": [
            "\u001b[0;31m---------------------------------------------------------------------------\u001b[0m",
            "\u001b[0;31mTypeError\u001b[0m                                 Traceback (most recent call last)",
            "\u001b[0;32m<ipython-input-41-3e2f312e6983>\u001b[0m in \u001b[0;36m<cell line: 1>\u001b[0;34m()\u001b[0m\n\u001b[0;32m----> 1\u001b[0;31m \u001b[0mprint\u001b[0m\u001b[0;34m(\u001b[0m\u001b[0ms\u001b[0m\u001b[0;34m[\u001b[0m\u001b[0;36m1\u001b[0m\u001b[0;34m]\u001b[0m\u001b[0;34m)\u001b[0m \u001b[0;31m#we can't print particular element in set because\u001b[0m\u001b[0;34m\u001b[0m\u001b[0;34m\u001b[0m\u001b[0m\n\u001b[0m\u001b[1;32m      2\u001b[0m             \u001b[0;31m#it's unorder collections of items\u001b[0m\u001b[0;34m\u001b[0m\u001b[0;34m\u001b[0m\u001b[0m\n",
            "\u001b[0;31mTypeError\u001b[0m: 'set' object is not subscriptable"
          ]
        }
      ]
    },
    {
      "cell_type": "markdown",
      "source": [
        "# Python Dictionary"
      ],
      "metadata": {
        "id": "pHmgIvtdiYp3"
      }
    },
    {
      "cell_type": "markdown",
      "source": [
        "Dictionary is an unordered collection of key-value pairs."
      ],
      "metadata": {
        "id": "uup2hb_hiZuT"
      }
    },
    {
      "cell_type": "markdown",
      "source": [
        "In Python, dictionaries are defined within braces {} with each item being a pair in the form key:value. Key and value can be of any type."
      ],
      "metadata": {
        "id": "R0Jj3Q6AicTF"
      }
    },
    {
      "cell_type": "code",
      "source": [
        "d = {'a': \"apple\", 'b': \"bat\"}\n",
        "print(d['a'])"
      ],
      "metadata": {
        "colab": {
          "base_uri": "https://localhost:8080/"
        },
        "id": "4GFmfMyDie95",
        "outputId": "ea7d0ef9-01e4-4175-94cd-e98c9f5353a8"
      },
      "execution_count": 43,
      "outputs": [
        {
          "output_type": "stream",
          "name": "stdout",
          "text": [
            "apple\n"
          ]
        }
      ]
    },
    {
      "cell_type": "markdown",
      "source": [
        "# Conversion between Datatypes"
      ],
      "metadata": {
        "id": "JX3LxctuioD8"
      }
    },
    {
      "cell_type": "markdown",
      "source": [
        "We can convert between different data types by using different type conversion functions like int(), float(), str() etc."
      ],
      "metadata": {
        "id": "YBkDpEXfio1s"
      }
    },
    {
      "cell_type": "code",
      "source": [
        "float(5)     #convert interger to float using float() method"
      ],
      "metadata": {
        "colab": {
          "base_uri": "https://localhost:8080/"
        },
        "id": "jrQ9CsrYitWp",
        "outputId": "25568e3e-25cb-4dd0-a718-b185bcad9eb5"
      },
      "execution_count": 44,
      "outputs": [
        {
          "output_type": "execute_result",
          "data": {
            "text/plain": [
              "5.0"
            ]
          },
          "metadata": {},
          "execution_count": 44
        }
      ]
    },
    {
      "cell_type": "code",
      "source": [
        "int(100.5)   #convert float to integer using int() method"
      ],
      "metadata": {
        "colab": {
          "base_uri": "https://localhost:8080/"
        },
        "id": "-hTm8L2Livqi",
        "outputId": "d5c06321-bf11-45c3-ba06-bb84d473363c"
      },
      "execution_count": 46,
      "outputs": [
        {
          "output_type": "execute_result",
          "data": {
            "text/plain": [
              "100"
            ]
          },
          "metadata": {},
          "execution_count": 46
        }
      ]
    },
    {
      "cell_type": "code",
      "source": [
        "str(20)      #convert integer to string"
      ],
      "metadata": {
        "colab": {
          "base_uri": "https://localhost:8080/",
          "height": 35
        },
        "id": "d-sJZbSZiyVB",
        "outputId": "e336e987-d733-4d4d-8198-4e835a01d2a5"
      },
      "execution_count": 47,
      "outputs": [
        {
          "output_type": "execute_result",
          "data": {
            "text/plain": [
              "'20'"
            ],
            "application/vnd.google.colaboratory.intrinsic+json": {
              "type": "string"
            }
          },
          "metadata": {},
          "execution_count": 47
        }
      ]
    },
    {
      "cell_type": "code",
      "source": [
        "import math\n",
        "math.ceil(110.4)"
      ],
      "metadata": {
        "colab": {
          "base_uri": "https://localhost:8080/"
        },
        "id": "XY8mjY3Ui4WT",
        "outputId": "8c537f2f-3068-468c-eea0-b07968beb7ad"
      },
      "execution_count": 49,
      "outputs": [
        {
          "output_type": "execute_result",
          "data": {
            "text/plain": [
              "111"
            ]
          },
          "metadata": {},
          "execution_count": 49
        }
      ]
    },
    {
      "cell_type": "code",
      "source": [
        "round(100.695,2)"
      ],
      "metadata": {
        "colab": {
          "base_uri": "https://localhost:8080/"
        },
        "id": "p5ayHo0RjALd",
        "outputId": "aba29a65-23df-4f97-d998-2911606de426"
      },
      "execution_count": 50,
      "outputs": [
        {
          "output_type": "execute_result",
          "data": {
            "text/plain": [
              "100.69"
            ]
          },
          "metadata": {},
          "execution_count": 50
        }
      ]
    },
    {
      "cell_type": "markdown",
      "source": [
        "Conversion to and from string must contain compatible values."
      ],
      "metadata": {
        "id": "BbwATR-qjRGa"
      }
    },
    {
      "cell_type": "code",
      "source": [
        "int('10p')"
      ],
      "metadata": {
        "colab": {
          "base_uri": "https://localhost:8080/",
          "height": 176
        },
        "id": "RJgwbl3wjTO3",
        "outputId": "5e04942d-6bf1-4a76-f1a8-83c74e508909"
      },
      "execution_count": 51,
      "outputs": [
        {
          "output_type": "error",
          "ename": "ValueError",
          "evalue": "ignored",
          "traceback": [
            "\u001b[0;31m---------------------------------------------------------------------------\u001b[0m",
            "\u001b[0;31mValueError\u001b[0m                                Traceback (most recent call last)",
            "\u001b[0;32m<ipython-input-51-8bb83f613c14>\u001b[0m in \u001b[0;36m<cell line: 1>\u001b[0;34m()\u001b[0m\n\u001b[0;32m----> 1\u001b[0;31m \u001b[0mint\u001b[0m\u001b[0;34m(\u001b[0m\u001b[0;34m'10p'\u001b[0m\u001b[0;34m)\u001b[0m\u001b[0;34m\u001b[0m\u001b[0;34m\u001b[0m\u001b[0m\n\u001b[0m",
            "\u001b[0;31mValueError\u001b[0m: invalid literal for int() with base 10: '10p'"
          ]
        }
      ]
    },
    {
      "cell_type": "code",
      "source": [
        "user = \"Anurag\"\n",
        "lines = 100\n",
        "\n",
        "print(\"Congratulations, \" + user + \"! You just wrote \" + str(lines) + \" lines of code\" )\n",
        "#remove str and gives error"
      ],
      "metadata": {
        "colab": {
          "base_uri": "https://localhost:8080/"
        },
        "id": "BLLpo4c6jWNZ",
        "outputId": "c6d3332c-9116-4836-dd65-120015141615"
      },
      "execution_count": 53,
      "outputs": [
        {
          "output_type": "stream",
          "name": "stdout",
          "text": [
            "Congratulations, Anurag! You just wrote 100 lines of code\n"
          ]
        }
      ]
    },
    {
      "cell_type": "code",
      "source": [
        "a = [1, 2, 3]\n",
        "\n",
        "print(type(a))      #type of a is list\n",
        "\n",
        "s = set(a)          #convert list to set using set() method\n",
        "\n",
        "print(type(s))      #now type of s is set"
      ],
      "metadata": {
        "colab": {
          "base_uri": "https://localhost:8080/"
        },
        "id": "5V1hXLV0jd6M",
        "outputId": "4149604c-961e-40e5-8dbd-e14249d8240e"
      },
      "execution_count": 54,
      "outputs": [
        {
          "output_type": "stream",
          "name": "stdout",
          "text": [
            "<class 'list'>\n",
            "<class 'set'>\n"
          ]
        }
      ]
    },
    {
      "cell_type": "code",
      "source": [
        "list(\"Hello\")       #convert String to list using list() method"
      ],
      "metadata": {
        "colab": {
          "base_uri": "https://localhost:8080/"
        },
        "id": "z-M0ko_tji1-",
        "outputId": "4deafc27-2973-4e8f-9649-fd290b058516"
      },
      "execution_count": 55,
      "outputs": [
        {
          "output_type": "execute_result",
          "data": {
            "text/plain": [
              "['H', 'e', 'l', 'l', 'o']"
            ]
          },
          "metadata": {},
          "execution_count": 55
        }
      ]
    },
    {
      "cell_type": "markdown",
      "source": [
        "# Python Input and Output"
      ],
      "metadata": {
        "id": "4uNXKXtEjveA"
      }
    },
    {
      "cell_type": "markdown",
      "source": [
        "# Python Output"
      ],
      "metadata": {
        "id": "u7XduS3jjypX"
      }
    },
    {
      "cell_type": "markdown",
      "source": [
        "We use the print() function to output data to the standard output device"
      ],
      "metadata": {
        "id": "2B4J4rInjzzy"
      }
    },
    {
      "cell_type": "code",
      "source": [
        "print(\"Hello World\")"
      ],
      "metadata": {
        "colab": {
          "base_uri": "https://localhost:8080/"
        },
        "id": "MZmHxxLvjvCL",
        "outputId": "a1515700-a5c8-4da9-cb7f-51fcf863d349"
      },
      "execution_count": 56,
      "outputs": [
        {
          "output_type": "stream",
          "name": "stdout",
          "text": [
            "Hello World\n"
          ]
        }
      ]
    },
    {
      "cell_type": "code",
      "source": [
        "a = 10\n",
        "print(\"The value of a is \" + a)"
      ],
      "metadata": {
        "colab": {
          "base_uri": "https://localhost:8080/",
          "height": 193
        },
        "id": "_IaLd70xj4gQ",
        "outputId": "1923f3e7-b892-490f-9119-5551766f1fa7"
      },
      "execution_count": 59,
      "outputs": [
        {
          "output_type": "error",
          "ename": "TypeError",
          "evalue": "ignored",
          "traceback": [
            "\u001b[0;31m---------------------------------------------------------------------------\u001b[0m",
            "\u001b[0;31mTypeError\u001b[0m                                 Traceback (most recent call last)",
            "\u001b[0;32m<ipython-input-59-3d5daea892ff>\u001b[0m in \u001b[0;36m<cell line: 2>\u001b[0;34m()\u001b[0m\n\u001b[1;32m      1\u001b[0m \u001b[0ma\u001b[0m \u001b[0;34m=\u001b[0m \u001b[0;36m10\u001b[0m\u001b[0;34m\u001b[0m\u001b[0;34m\u001b[0m\u001b[0m\n\u001b[0;32m----> 2\u001b[0;31m \u001b[0mprint\u001b[0m\u001b[0;34m(\u001b[0m\u001b[0;34m\"The value of a is \"\u001b[0m \u001b[0;34m+\u001b[0m \u001b[0ma\u001b[0m\u001b[0;34m)\u001b[0m\u001b[0;34m\u001b[0m\u001b[0;34m\u001b[0m\u001b[0m\n\u001b[0m",
            "\u001b[0;31mTypeError\u001b[0m: can only concatenate str (not \"int\") to str"
          ]
        }
      ]
    },
    {
      "cell_type": "code",
      "source": [
        "a = 10\n",
        "print(\"The value of a is\", a) #python 3\n",
        "print(\"The value of a is \" + str(a))"
      ],
      "metadata": {
        "colab": {
          "base_uri": "https://localhost:8080/"
        },
        "id": "ZWwfoQiikBpI",
        "outputId": "4ac81ea0-2b5a-4f7f-e6b1-59258a8e08c5"
      },
      "execution_count": 60,
      "outputs": [
        {
          "output_type": "stream",
          "name": "stdout",
          "text": [
            "The value of a is 10\n",
            "The value of a is 10\n"
          ]
        }
      ]
    },
    {
      "cell_type": "markdown",
      "source": [
        "# Output Formatting"
      ],
      "metadata": {
        "id": "MS6XCo1vkJxB"
      }
    },
    {
      "cell_type": "code",
      "source": [
        "a = 10; b = 20 #multiple statements in single line.\n",
        "\n",
        "print(\"The value of a is {} and b is {}\".format(a, b))    #default"
      ],
      "metadata": {
        "colab": {
          "base_uri": "https://localhost:8080/"
        },
        "id": "iorR2PAZkPOJ",
        "outputId": "ec722d79-240a-400f-b785-a132cc82d4ec"
      },
      "execution_count": 61,
      "outputs": [
        {
          "output_type": "stream",
          "name": "stdout",
          "text": [
            "The value of a is 10 and b is 20\n"
          ]
        }
      ]
    },
    {
      "cell_type": "code",
      "source": [
        "a = 10; b = 20  #multiple statements in single line\n",
        "\n",
        "print(\"The value of b is {1} and a is {0}\".format(a, b)) #specify position of arguments"
      ],
      "metadata": {
        "colab": {
          "base_uri": "https://localhost:8080/"
        },
        "id": "UMNlJQA0kR0h",
        "outputId": "3c20aa42-d41d-4c91-9eb8-f45e88c86a46"
      },
      "execution_count": 62,
      "outputs": [
        {
          "output_type": "stream",
          "name": "stdout",
          "text": [
            "The value of b is 20 and a is 10\n"
          ]
        }
      ]
    },
    {
      "cell_type": "code",
      "source": [
        "#we can use keyword arguments to format the string\n",
        "print(\"Hello {name}, {greeting}\".format(name=\"satish\", greeting=\"Good Morning\"))"
      ],
      "metadata": {
        "colab": {
          "base_uri": "https://localhost:8080/"
        },
        "id": "aFqavDXokUmB",
        "outputId": "409572c5-5153-468b-d47e-f98c6836598f"
      },
      "execution_count": 63,
      "outputs": [
        {
          "output_type": "stream",
          "name": "stdout",
          "text": [
            "Hello satish, Good Morning\n"
          ]
        }
      ]
    },
    {
      "cell_type": "code",
      "source": [
        "#we can combine positional arguments with keyword arguments\n",
        "print('The story of {0}, {1}, and {other}'.format('Bill', 'Manfred',\n",
        "                                                       other='Georg'))"
      ],
      "metadata": {
        "colab": {
          "base_uri": "https://localhost:8080/"
        },
        "id": "r5X5yufRkVAs",
        "outputId": "0c91a55c-4d99-47f0-8bc8-7e126ceaa721"
      },
      "execution_count": 64,
      "outputs": [
        {
          "output_type": "stream",
          "name": "stdout",
          "text": [
            "The story of Bill, Manfred, and Georg\n"
          ]
        }
      ]
    },
    {
      "cell_type": "markdown",
      "source": [
        "#FString"
      ],
      "metadata": {
        "id": "iiR1doZ2kZ2-"
      }
    },
    {
      "cell_type": "code",
      "source": [
        "a = 10; b = 20 #multiple statements in single line.\n",
        "\n",
        "print(f\"The value of a is {a} and b is {b}\")    #default"
      ],
      "metadata": {
        "colab": {
          "base_uri": "https://localhost:8080/"
        },
        "id": "4y4sImHzkcEf",
        "outputId": "4b38b9a6-3fbb-44c7-f843-e8aa854f8b06"
      },
      "execution_count": 65,
      "outputs": [
        {
          "output_type": "stream",
          "name": "stdout",
          "text": [
            "The value of a is 10 and b is 20\n"
          ]
        }
      ]
    },
    {
      "cell_type": "markdown",
      "source": [
        "# Python Input"
      ],
      "metadata": {
        "id": "hwO6otshkm3K"
      }
    },
    {
      "cell_type": "markdown",
      "source": [
        "want to take the input from the user. In Python, we have the input() function to allow this."
      ],
      "metadata": {
        "id": "wzw1D3dOkzme"
      }
    },
    {
      "cell_type": "code",
      "source": [
        "num = input(\"Enter a number: \")\n",
        "print(num)"
      ],
      "metadata": {
        "colab": {
          "base_uri": "https://localhost:8080/"
        },
        "id": "PDmNIsd0kxI_",
        "outputId": "4b0760dd-82ad-4f90-9f0f-a71af1378aa3"
      },
      "execution_count": 67,
      "outputs": [
        {
          "output_type": "stream",
          "name": "stdout",
          "text": [
            "Enter a number: 123\n",
            "123\n"
          ]
        }
      ]
    },
    {
      "cell_type": "code",
      "source": [
        "num = input(\"Enter a number: \\n\")\n",
        "print(num)"
      ],
      "metadata": {
        "colab": {
          "base_uri": "https://localhost:8080/"
        },
        "id": "-bOk1JBGlB2b",
        "outputId": "0b1a3e24-baf1-4528-ee94-c96414446477"
      },
      "execution_count": 68,
      "outputs": [
        {
          "output_type": "stream",
          "name": "stdout",
          "text": [
            "Enter a number: \n",
            "123\n",
            "123\n"
          ]
        }
      ]
    },
    {
      "cell_type": "markdown",
      "source": [
        "# Operators"
      ],
      "metadata": {
        "id": "CnApDlOjlPy0"
      }
    },
    {
      "cell_type": "markdown",
      "source": [
        "Operators are special symbols in Python that carry out arithmetic or logical computation. The value that the operator operates on is called the operand."
      ],
      "metadata": {
        "id": "vIpKhdjWlQvg"
      }
    },
    {
      "cell_type": "markdown",
      "source": [
        "# Operator Types"
      ],
      "metadata": {
        "id": "lbXaamdalYK2"
      }
    },
    {
      "cell_type": "markdown",
      "source": [
        "1. Arithmetic operators\n",
        "    \n",
        "2. Comparison (Relational) operators\n",
        "\n",
        "3. Logical (Boolean) operators\n",
        "\n",
        "4. Bitwise operators\n",
        "\n",
        "5. Assignment operators\n",
        "\n",
        "6. Special operators"
      ],
      "metadata": {
        "id": "YLB_B-fWla2J"
      }
    },
    {
      "cell_type": "markdown",
      "source": [
        "# Arithmetic Operators"
      ],
      "metadata": {
        "id": "sKlzPRnxldYl"
      }
    },
    {
      "cell_type": "markdown",
      "source": [
        "Arithmetic operators are used to perform mathematical operations like addition, subtraction, multiplication etc."
      ],
      "metadata": {
        "id": "7_tnMKOPliZE"
      }
    },
    {
      "cell_type": "markdown",
      "source": [
        "    + , -, *, /, %, //, **  are arithmetic operators"
      ],
      "metadata": {
        "id": "b4nTs-rDlgIj"
      }
    },
    {
      "cell_type": "markdown",
      "source": [
        "Example:"
      ],
      "metadata": {
        "id": "BIOZdd_8loly"
      }
    },
    {
      "cell_type": "code",
      "source": [
        "x, y = 10, 20\n",
        "\n",
        "#addition\n",
        "print(x + y)\n",
        "\n",
        "#subtraction(-)\n",
        "\n",
        "#multiplication(*)\n",
        "\n",
        "#division(/)\n",
        "\n",
        "#modulo division (%)\n",
        "\n",
        "#Floor Division (//)\n",
        "\n",
        "#Exponent (**)"
      ],
      "metadata": {
        "colab": {
          "base_uri": "https://localhost:8080/"
        },
        "id": "2MyDHpVXllqn",
        "outputId": "b9aacc32-3297-4de5-b221-0a3add95a82b"
      },
      "execution_count": 69,
      "outputs": [
        {
          "output_type": "stream",
          "name": "stdout",
          "text": [
            "30\n"
          ]
        }
      ]
    },
    {
      "cell_type": "markdown",
      "source": [
        "# Comparision Operators"
      ],
      "metadata": {
        "id": "HmHscmYfltPW"
      }
    },
    {
      "cell_type": "markdown",
      "source": [
        "Comparison operators are used to compare values. It either returns True or False according to the condition."
      ],
      "metadata": {
        "id": "oWcMum7Yl0pI"
      }
    },
    {
      "cell_type": "markdown",
      "source": [
        "    >, <, ==, !=, >=, <= are comparision operators"
      ],
      "metadata": {
        "id": "WlnD-ROolurw"
      }
    },
    {
      "cell_type": "code",
      "source": [
        "a, b = 10, 20\n",
        "\n",
        "print(a < b)  #check a is less than b\n",
        "\n",
        "#check a is greater than b\n",
        "\n",
        "#check a is equal to b\n",
        "\n",
        "#check a is not equal to b (!=)\n",
        "\n",
        "#check a greater than or equal to b\n",
        "\n",
        "#check a less than or equal to b\n"
      ],
      "metadata": {
        "colab": {
          "base_uri": "https://localhost:8080/"
        },
        "id": "tVrhRIgAl4ZL",
        "outputId": "69b058ca-26d4-4148-e68b-0c2bfc70ee25"
      },
      "execution_count": 70,
      "outputs": [
        {
          "output_type": "stream",
          "name": "stdout",
          "text": [
            "True\n"
          ]
        }
      ]
    },
    {
      "cell_type": "markdown",
      "source": [
        "# Logical Operators"
      ],
      "metadata": {
        "id": "rlRG4kR-l6J5"
      }
    },
    {
      "cell_type": "markdown",
      "source": [
        "Logical operators are  **and, or, not** operators."
      ],
      "metadata": {
        "id": "0VQNnA-Fl9zI"
      }
    },
    {
      "cell_type": "code",
      "source": [
        "a, b = True, False\n",
        "\n",
        "#print a and b\n",
        "print(a and b)\n",
        "\n",
        "#print a or b\n",
        "\n",
        "#print not b\n"
      ],
      "metadata": {
        "colab": {
          "base_uri": "https://localhost:8080/"
        },
        "id": "Dnx-loRKmAPj",
        "outputId": "8a7a7268-5083-41b3-89f4-b5ac97900216"
      },
      "execution_count": 71,
      "outputs": [
        {
          "output_type": "stream",
          "name": "stdout",
          "text": [
            "False\n"
          ]
        }
      ]
    },
    {
      "cell_type": "markdown",
      "source": [
        "# Bitwise operators"
      ],
      "metadata": {
        "id": "3UJ1nqEHmEoL"
      }
    },
    {
      "cell_type": "markdown",
      "source": [
        "Bitwise operators act on operands as if they were string of binary digits. It operates bit by bit"
      ],
      "metadata": {
        "id": "ts_2N0JVmHkB"
      }
    },
    {
      "cell_type": "markdown",
      "source": [
        "    &,  |,  ~,  ^,  >>,  << are Bitwise operators"
      ],
      "metadata": {
        "id": "-EdvbXPLmKlj"
      }
    },
    {
      "cell_type": "code",
      "source": [
        "a, b = 10, 4\n",
        "\n",
        "#Bitwise AND\n",
        "print(a & b)\n",
        "\n",
        "#Bitwise OR\n",
        "\n",
        "\n",
        "#Bitwise NOT\n",
        "\n",
        "\n",
        "#Bitwise XOR\n",
        "\n",
        "\n",
        "#Bitwise rightshift\n",
        "\n",
        "\n",
        "#Bitwise Leftshift\n"
      ],
      "metadata": {
        "colab": {
          "base_uri": "https://localhost:8080/"
        },
        "id": "u4lj3LRxmDsU",
        "outputId": "ac5b5edf-4620-41c1-d5a7-0a7290d3c412"
      },
      "execution_count": 72,
      "outputs": [
        {
          "output_type": "stream",
          "name": "stdout",
          "text": [
            "0\n"
          ]
        }
      ]
    },
    {
      "cell_type": "markdown",
      "source": [
        "# Assignment operators"
      ],
      "metadata": {
        "id": "kbqfubbNmR5s"
      }
    },
    {
      "cell_type": "markdown",
      "source": [
        "Assignment operators are used in Python to assign values to variables.\n",
        "\n",
        "a = 5 is a simple assignment operator that assigns the value 5 on the right to the variable a on the left."
      ],
      "metadata": {
        "id": "wixAUm_PmS2W"
      }
    },
    {
      "cell_type": "markdown",
      "source": [
        "    =,  +=,  -=,  *=,  /=,  %=,  //=,  **=, &=,  |=,  ^=,  >>=,  <<= are Assignment operators"
      ],
      "metadata": {
        "id": "04jLS3hMmVAV"
      }
    },
    {
      "cell_type": "code",
      "source": [
        "a = 10\n",
        "\n",
        "a += 10         #add AND\n",
        "print(a)\n",
        "\n",
        "#subtract AND (-=)\n",
        "\n",
        "#Multiply AND (*=)\n",
        "\n",
        "#Divide AND (/=)\n",
        "\n",
        "#Modulus AND (%=)\n",
        "\n",
        "#Floor Division (//=)\n",
        "\n",
        "#Exponent AND (**=)\n"
      ],
      "metadata": {
        "colab": {
          "base_uri": "https://localhost:8080/"
        },
        "id": "Z1UUYeDmmXLE",
        "outputId": "6d852035-6d88-44e4-ae66-65f8831db3b8"
      },
      "execution_count": 73,
      "outputs": [
        {
          "output_type": "stream",
          "name": "stdout",
          "text": [
            "20\n"
          ]
        }
      ]
    },
    {
      "cell_type": "markdown",
      "source": [
        "# Special Operators"
      ],
      "metadata": {
        "id": "upKr4xa2mlIh"
      }
    },
    {
      "cell_type": "markdown",
      "source": [
        "# Identity Operators"
      ],
      "metadata": {
        "id": "LMw0S607mnlO"
      }
    },
    {
      "cell_type": "markdown",
      "source": [
        "**is and is not** are the identity operators in Python.\n",
        "\n",
        "They are used to check if two values (or variables) are located on the same part of the memory."
      ],
      "metadata": {
        "id": "cZr0VHUmmqxl"
      }
    },
    {
      "cell_type": "code",
      "source": [
        "a = 5\n",
        "b = 5\n",
        "print(a is b)    #5 is object created once both a and b points to same object\n",
        "\n",
        "#check is not"
      ],
      "metadata": {
        "colab": {
          "base_uri": "https://localhost:8080/"
        },
        "id": "x59ksh4Vmthj",
        "outputId": "db4c6bcb-90fc-47ca-b0e4-10b33504a553"
      },
      "execution_count": 74,
      "outputs": [
        {
          "output_type": "stream",
          "name": "stdout",
          "text": [
            "True\n"
          ]
        }
      ]
    },
    {
      "cell_type": "code",
      "source": [
        "l1 = [1, 2, 3]\n",
        "l2 = [1, 2, 3]\n",
        "print(l1 is l2)"
      ],
      "metadata": {
        "colab": {
          "base_uri": "https://localhost:8080/"
        },
        "id": "KFTRdHjxmx9V",
        "outputId": "df0e483e-8b85-4f3e-8876-074ca9f4c072"
      },
      "execution_count": 75,
      "outputs": [
        {
          "output_type": "stream",
          "name": "stdout",
          "text": [
            "False\n"
          ]
        }
      ]
    },
    {
      "cell_type": "code",
      "source": [
        "s1 = \"Satish\"\n",
        "s2 = \"Satish\"\n",
        "print(s1 is not s2)"
      ],
      "metadata": {
        "colab": {
          "base_uri": "https://localhost:8080/"
        },
        "id": "c347o83Fm1C6",
        "outputId": "020886f5-d635-4df7-bbf3-46c263c6abbd"
      },
      "execution_count": 76,
      "outputs": [
        {
          "output_type": "stream",
          "name": "stdout",
          "text": [
            "False\n"
          ]
        }
      ]
    },
    {
      "cell_type": "markdown",
      "source": [
        "# MemberShip Operators"
      ],
      "metadata": {
        "id": "SFiaqq2dm5Dm"
      }
    },
    {
      "cell_type": "markdown",
      "source": [
        "**in and not in** are the membership operators in Python.\n",
        "    \n",
        "They are used to test whether a value or variable is found in a sequence (string, list, tuple, set and   dictionary)."
      ],
      "metadata": {
        "id": "v5kX_i9Tm99k"
      }
    },
    {
      "cell_type": "code",
      "source": [
        "lst = [1, 2, 3, 4]\n",
        "print(1 in lst)       #check 1 is present in a given list or not\n",
        "\n",
        "#check 5 is present in a given list\n"
      ],
      "metadata": {
        "colab": {
          "base_uri": "https://localhost:8080/"
        },
        "id": "2Y4JH0TIm4jT",
        "outputId": "7273d64e-efb1-4808-daa1-eeb3d6176f7c"
      },
      "execution_count": 77,
      "outputs": [
        {
          "output_type": "stream",
          "name": "stdout",
          "text": [
            "True\n"
          ]
        }
      ]
    },
    {
      "cell_type": "code",
      "source": [
        "d = {1: \"a\", 2: \"b\"}\n",
        "print(1 in d)"
      ],
      "metadata": {
        "colab": {
          "base_uri": "https://localhost:8080/"
        },
        "id": "Gg7fUHmZnAxG",
        "outputId": "5886a7b6-e573-482c-f6d2-03100428f36b"
      },
      "execution_count": 78,
      "outputs": [
        {
          "output_type": "stream",
          "name": "stdout",
          "text": [
            "True\n"
          ]
        }
      ]
    },
    {
      "cell_type": "markdown",
      "source": [
        "# Python if ... else Statement"
      ],
      "metadata": {
        "id": "YuO2Of5ZoZU8"
      }
    },
    {
      "cell_type": "markdown",
      "source": [
        "The **if…elif…else** statement is used in Python for decision making."
      ],
      "metadata": {
        "id": "fTIUxbH0oavB"
      }
    },
    {
      "cell_type": "markdown",
      "source": [
        "# if statement syntax"
      ],
      "metadata": {
        "id": "Q3Mljo6Lofir"
      }
    },
    {
      "cell_type": "markdown",
      "source": [
        "    if test expression:\n",
        "\n",
        "        statement(s)"
      ],
      "metadata": {
        "id": "qAWZ40eTomBI"
      }
    },
    {
      "cell_type": "markdown",
      "source": [
        "The program evaluates the test expression and will execute statement(s) only if the text expression is True.\n",
        "\n",
        "If the text expression is False, the statement(s) is not executed."
      ],
      "metadata": {
        "id": "8FCwKc9Aoow8"
      }
    },
    {
      "cell_type": "markdown",
      "source": [
        "Python interprets non-zero values as True. None and 0 are interpreted as False."
      ],
      "metadata": {
        "id": "9cZ9RIh7osvQ"
      }
    },
    {
      "cell_type": "markdown",
      "source": [
        "# Flow Chart"
      ],
      "metadata": {
        "id": "tvvawj2ioypk"
      }
    },
    {
      "cell_type": "markdown",
      "source": [
        "![Python_if_statement.jpg](data:image/jpeg;base64,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)![If Statement]"
      ],
      "metadata": {
        "id": "Xu33p6GRozlr"
      }
    },
    {
      "cell_type": "markdown",
      "source": [
        "# Example"
      ],
      "metadata": {
        "id": "GJsGneSJo9lT"
      }
    },
    {
      "cell_type": "code",
      "source": [
        "num = 10\n",
        "\n",
        "# try 0, -1 and None\n",
        "if None:\n",
        "    print(\"Number is positive\")\n",
        "print(\"This will print always\")      #This print statement always print\n",
        "\n",
        "#change number\n"
      ],
      "metadata": {
        "colab": {
          "base_uri": "https://localhost:8080/"
        },
        "id": "Q5S6RW8XpEhs",
        "outputId": "9843d3de-b600-48f8-92a2-d5c5e966dd11"
      },
      "execution_count": 80,
      "outputs": [
        {
          "output_type": "stream",
          "name": "stdout",
          "text": [
            "This will print always\n"
          ]
        }
      ]
    },
    {
      "cell_type": "markdown",
      "source": [
        "# if ... else Statement"
      ],
      "metadata": {
        "id": "ThSz6YuEpCqb"
      }
    },
    {
      "cell_type": "markdown",
      "source": [
        "# Syntax:"
      ],
      "metadata": {
        "id": "tvfS6Tu4pJoX"
      }
    },
    {
      "cell_type": "markdown",
      "source": [
        "    if test expression:\n",
        "    \n",
        "        Body of if\n",
        "\n",
        "    else:\n",
        "    \n",
        "        Body of else"
      ],
      "metadata": {
        "id": "TX72S4lopMlI"
      }
    },
    {
      "cell_type": "markdown",
      "source": [
        "# Flow Chart"
      ],
      "metadata": {
        "id": "A0Rqw71TpSzL"
      }
    },
    {
      "cell_type": "markdown",
      "source": [
        "![Python_if_else_statement.jpg](data:image/jpeg;base64,/9j/4AAQSkZJRgABAgAAAQABAAD/2wBDAAMCAgMCAgMDAwMEAwMEBQgFBQQEBQoHBwYIDAoMDAsKCwsNDhIQDQ4RDgsLEBYQERMUFRUVDA8XGBYUGBIUFRT/2wBDAQMEBAUEBQkFBQkUDQsNFBQUFBQUFBQUFBQUFBQUFBQUFBQUFBQUFBQUFBQUFBQUFBQUFBQUFBQUFBQUFBQUFBT/wAARCAEQARcDASIAAhEBAxEB/8QAHwAAAQUBAQEBAQEAAAAAAAAAAAECAwQFBgcICQoL/8QAtRAAAgEDAwIEAwUFBAQAAAF9AQIDAAQRBRIhMUEGE1FhByJxFDKBkaEII0KxwRVS0fAkM2JyggkKFhcYGRolJicoKSo0NTY3ODk6Q0RFRkdISUpTVFVWV1hZWmNkZWZnaGlqc3R1dnd4eXqDhIWGh4iJipKTlJWWl5iZmqKjpKWmp6ipqrKztLW2t7i5usLDxMXGx8jJytLT1NXW19jZ2uHi4+Tl5ufo6erx8vP09fb3+Pn6/8QAHwEAAwEBAQEBAQEBAQAAAAAAAAECAwQFBgcICQoL/8QAtREAAgECBAQDBAcFBAQAAQJ3AAECAxEEBSExBhJBUQdhcRMiMoEIFEKRobHBCSMzUvAVYnLRChYkNOEl8RcYGRomJygpKjU2Nzg5OkNERUZHSElKU1RVVldYWVpjZGVmZ2hpanN0dXZ3eHl6goOEhYaHiImKkpOUlZaXmJmaoqOkpaanqKmqsrO0tba3uLm6wsPExcbHyMnK0tPU1dbX2Nna4uPk5ebn6Onq8vP09fb3+Pn6/9oADAMBAAIRAxEAPwD9U6KKKACiiigAooooAKKKKACiiigDmdQ8SXVr8S9B0BFiNlfaRqN9KxU7xJBNZIgBzjGLmTIx2Xpg56auE1j/AJLp4R/7FzWv/SrS67uqa0Ql1CiiipGFFFFABRRRQAUUUUAFFFFABRRRQAUUUUAFFFFABRRRQAUUUUAFFFFABRRRQAUUUUAFFFFABRRRQAUUUUAFFFFAHCax/wAl08I/9i5rX/pVpdd3Xyp4/m+Isf7bHhDTdP12aLw9d2T3EYFpGyw2eYmu4N23+N7WLknK+YuCMjP1XWs42UfQiLu2FFFFZFhRRRQAUUUUAFFFFABRRRQAUUUUAFFFFABRRRQAUUUUAFFFFABRRRQAUUUUAFFFFABRRRQAUUUUAFFZut+I9N8OW6TaleR2qyNsiRjl5W/uogyzt/sqCfasT+1PEniQgaZYr4fsD/y/aqm+4ccf6u3BG3Iz80jAgjmM07COg1fWrDQLJrzUr2CwtVIUy3EgRck4ABPUk8AdSa58+Idc8RDboOm/2fasONU1uJkGPVLbKyN/wMxeozVzRvA+naVepqE7T6vrCgj+09ScSzLkAHZwFiBwMrGqKeuK6GjRAcTJ8LLS7v4tWu9Y1efxHDG8UGrrdeW8CMQWRIlAh2Ehcq0bBtiFtxUEWhqXiXw2cajZr4isB/y+6Ynl3KD/AG4CcPgdWjbJPSMV1lFO/cLGZofiTTPEsEkum3kdyIm2SxjKyQtjO2RDhkbBHysAeeladYmueD9L1+4juriBodRiXbFqFo5huYxnO0SKQduQCVOVOOQazFfxV4YwJVXxbp6/8tIwlvqCDj7y8RSnqSV8rA4CsaVr7AddRWRoXizS/EbSx2Vz/pUIBms50aG4hz03xOAyg9iRg9s1r0hhRRRQAUUUUAFFFFABRRRQAUUUUAFFFFABRRRQAUUUUAFFFFABRRRQAUUUUAFFYet+MtL0K5Szkle61ORd0enWUZmuXBOA2xclVz/G2FHcis1YPFPibDXEq+E9PbB8i3KXF+w4OGcgxRHqCEEnqHBp2Ea+u+K9L8N+Ul9dbbibPk2kKNLcTY67IkBdvwBx3rIMvinxMSIY18J6c3HmzBLi/ccj5UGYouxBYykjIKKa2NB8K6X4aWQ2FqEmmx511K7S3E5HQySuS7n3YmtajToBiaH4O0vQbmS7hha41KUbZdQvJDNcyDJO0yNkhck4QYUZ4ArboopDCisHxxc+JbPwxdy+ENP0zVPEClPs9rrF5JaWzjeA++WOORlwu4jCHJAHGcjwv4EftJ+MviFofibxZ420Dwn4O8C+HbnUrHUNTg1ye4mjms5DHIxR7aNRF8rsG35wB8uTwAfSVFeW2H7SvgS4tNWur++v/DsGmaSmvXDa/plzYf6AxIE6iVFLDIwVHzKSAVBIzxfxW/bH0fwB8Jr7xrp3hjxFqH2ebTFSz1LRr2w82G8uBEkqs0BztG87QN24IpCmRMgH0NRVDQ9Yh1/S4b+CG7t4pd22O+tZLaYYYr80ciqy9OMgZGCOCKv0AZOveFdL8SpF/aFosssJJhuY2aOeAkYJjlUh0OO6kGsg23ijwzlrWZfFWnrz9numWC+QcnCSDEcvYAOEPcyE11tFO4jC0Xxnpmt3ZsVkks9UVSz6bfRmG4UDgsEb76543puU9ia3az9a8P6b4jtVt9Tsob2JWDoJVyY3HRlPVWHZgQR2NYQ0bxD4awdI1Aa3YL/zD9YlPnIOOI7kAscDJxKHLE8uoo0YHW0Vzuk+OdP1C9j0+7SfRdXf7un6kojkc4yfLYEpLjuY2YDviuipDCiivkj4rfGzx3Z/tRa34B0bVdetNGs/Ddlq8Ufh7wzFq0wlkmmjk8wsPlXCJjJznOARnAB9b0V8/fGL9p9/gPodxd6rpVrrcOmaVHf3ZbVorXUZgEzIy2ew7T1OGZQTkCsjXv2g9Q8EfFz4r6jdx6rrnhTw94H0jXrTQdPgWSdpppbsPsA5LMI4gckgBSfXIB9MUV83Q/tseHU+GGp+NpYNJ1LT7fULDSrb/hHPEFvqKS3V1KI1jlYBTBsyrtuX7hJXcRiu/wDg18c4vixrPijSG0htNvdCe3LTwTm5sryKZCyvDPsTdhldGQqGUrnGGUkA9SooooAKKKKACiiigAooooAKKKKAOd1vxzp2kaidLhSfV9b8sSjStOQSThTnaz5IWJWKsA0jKpIIBzVT+yPEfiQ51W/XQbA/8uGkyFp3HPElyQCuRjiJVII4kYVq674S0rxHJFNeW3+mQgiG9gdobmEHBISVCGUHAyAcHHINZTL4p8MjKFfFmnr/AAOUt79Rz0PyxSnoMHysDJJY1WnQRuaL4e03w5bNBptnFaI7b5Cg+aRu7Ox5dv8AaYkn1rRrF0PxhpXiCeW1trgxahCu6bT7pGhuYhkjc0bANtJBwwG044JrapPzGFFFFIAor4r/AGXv2mvH3xk8WaTHrfiq1hguNS1C1k0W1+H+oiNo7eSdF/4m3mG2BIiDE7epKY3V7f4R/af0Lxn8Q08CWGha2PF1vc3MOsaZJHDnRYosbLi6dZCqxzBkMQUs7hwdoCuVAPZa8D0P9k+wg+BHxD+GGs67Nf6f4w1LVb+S9tIBBJbC8maVVUFmBMZI5PDY6DOKb4a/a+0vxPP4OuYPBXiaDw54m1y68OQa9KlsYIL6GWaILKiTNIqO8DhX24zgHBq3aftc+GJdH8X67daD4h0/wv4Vm1W31TXri2iNrFLYzGF412yF3aQqxQKp4ADFSwBAMPw/+yvf6bp+vQ3Y+Hc15eaHJoUOoReCgJrmJpQxF6TcZmjZFCtEhjBYs+QSoXnrH9hkx+A/iD4ebxJb6Za+Izpr6bo2nQXTaRo0tlIssckdvLdMxZ3Rd4R41Kqo28EnqNM/bc8EtH4j/tm0udHn0Pw3/wAJVNbQ3lnqErWQYrINtrNJtkRtoZWwBuGGIyQXH7aHh7SfhLqPxD1fw/fWWgwRWTW81tqWnXkdzJdNsjhM0Ny0cLKxTe0rIiiRTvPOAD3jQIdUt9Jt49ZurW91Jd3mz2du0ET/ADHbhGdyPlwD8xyQTxnA0K8S1P41XOt6F4Yv4YtQ8LC+8V2ejJJbtYanFfpIhY7ZI5XUREkqzAiRWjOFIwTRm/bA8PQz3V+fD+sHwXa+J/8AhEZ/FWbcWsd95ohLeX5nmmETsIvMCdecbPmoA97or538Vftn6N4X1PXIz4J8UX2jaB4ni8K6vrlutp9ls7iU24jchpxI6E3UY+VCRg5A+XP0RQAUUUUAU9V0ix12xkstRs4L+0k+/BcxiRG9Mg8Vzx8M6z4dy3h7VDdWw5/srWpHlj78R3HMseSR97zFAGFUVsa94n0vw1FG+o3awNKSsMCqZJp2AyVjjUF5GxzhQTWP9u8T+JTiytU8M6eePtV+omvHHPKQg7I8jBDOzHs0YqlcRDc/FbRPD4CeLJk8GzE7Q2szJDbSnn/V3GfLfIBO3cHA5KrXD2Pif4Lad8VdU+IUPxE8N/8ACRalpcOkXDN4htTEbeKRpEATfwQztznnP0r03RvBWm6Pefb2WXUdWKlW1PUH864wcZCseI1OAdkYVfat6n7vYWp8y+P/AAv8AfiLrvi/VNR+JulWj+LtLi0jXLfT/FNtDFfQRBxGGG4kFRI4+UgEHkGtqS4+Cn/CQazrlr8U9J07V9U0ux0ia8svFFtFIkFpI0kOwhvlbdI+T0YMQRjivoCii8e39fcGp8vf8IP+zpd6T4stdV+IGia3eeJ5bWfUdWvfE9st5vtubZopImQQmJiXUxhcMzNySSe/8FfEL4Z+DftbSfGfT/EMtysamTWvE9pN5YTdjYFKqudxycZOBknFexUUXj2/r7g1OE/4X38Mv+ii+E//AAeWv/xdH/C+/hl/0UXwn/4PLX/4uu7oovHt/X3Bqc14b+Jvg7xlfPZeH/Fmh65eJGZWt9N1KG4kVAQCxVGJAyQM+4rpa5PWf+SmeF/+vDUP/QrausqXboNBRRRSGFFFFABRRRQAUUUUAZeveGdL8TQRxalZx3PlMXhl5SWBsY3xyKQ0bYJ+ZSD71j/2d4l8NnOn3a+I7EH/AI9NScR3SD0ScDD4HQSLk95K6yincRz+jeN9N1e8Wwk87S9X2ljpmop5U+BjcVGSsijIBaMsue9dBVHWND07xDZm01Oygv7bcHEdxGHAYHKsM9GB5BHIPSsBfD+veGgDoepHVLJemma3Kzso44jusFx3P7wSEk9VFGjA84+Ef7LT/Bm7sotE+J3jKbw5a3dzeL4bujYGyZ55JJXBK2ol2+ZKzD95noM44q34S/ZZ0DwZ8QYPHdhrutnxjLcXMur6tJJDv1uGUjbb3aLEEaOILGItoVkCD5jlt3ouneO7Ge+i0/Uop9B1WU7Y7PUQE8488RSAlJeAThGLAdQK6Si1hny7+z9+yfqnhrQvDE3jjxFrDyaDrmpazZ+Fra5t/wCzI55r25lhnYpEJZHEc4O1pCgbkLkA16dpv7N/hK0+GvjfwJe/bNX8PeL9R1LUtRiu5QHD3srSyqjIq7QrN8p6jA5J5r1SikB5NoXwK1LRtI1DTW+Jfii6tpbA6fZF4bBXsU8wOrgi2/euAFjzNvUoMFSWZm5zw/8AshaJ4YufFup6d4hv7HxD4nkszf6haafp8ULxWwYJAbUW/kujB33l0Zzu4ddq7ffKKAPDvBH7JHhLwLpKWljd3vnv4sTxldXEccECz3qjaFEMUaxxxbQBtRQTjJYkkmvN+x/4anubqybXdaHg668S/wDCWz+FA0H2R7/zBMQX8vzfJMw83y9/3uM7Pkr3migDxfW/2VvDGu+G/HWiz6nq6W/i/wAT23iu9kjkiDxXML2rpHHmMgRk2ceQwJ+ZsMOMe0Vgaz4203R737ArS6jqxUMNM09POuMHOCwHEanBAeQque9UvsHiXxLze3S+GrA/8utgwlu3Ho8xG2PI4IRSR/DIKdhGlrvi/SvDssVvdXBe+mGYbC2jae5lGQMrEgLFQSMtjaM5JArMH/CU+JhyF8JWDdvkuNQYf+PRRH/v7kf3TWzoXhjS/DUMiadZpA0pDTTEl5p2AxukkYlpGwB8zEn3rUouugGNoXhHSvD0ss9rbl76YYmvrl2muZRknDSuSxAJOFzgZwABWzRRSGFFFFABRRRQAUUUUAFFFFAHJ6z/AMlM8L/9eGof+hW1dZXJ6z/yUzwv/wBeGof+hW1dZTYgooopDCiiigAooooAKKKKACiiigAooooAralplnrNlNZ39rDe2ky7ZLe4jEkbj0Kng1zX/CJ6r4eJfw3qrfZxz/ZOrs09uepxHLzLFkkDq6KBhYxXXUU7gctB49trSeO18QWsvhy7dgiNdsDbTMSABHOPkJJOArbXP92upqOe3iuoJIZ40mhkUq8cihlYHqCD1Fct/wAIPPoWH8Lak2kRjH/EsuENxYEccLHkNFwMARsqjOSjdKNGI62iuHf4g6lZ6pbaFd+Gpz4iuYJLiCG1uY3tZY42jWSQTNtYIjTRA7kDfONqtVoeFtX8QkP4k1Upbnn+ydHdoYB0OJJuJZcEHp5akHDIadrbhct6l46sLa9l0/T459c1WI7ZLLTlDmI4BxK5ISLgg4dgSOgNVDoOv+JQTrepf2RYsMHTdFlZXYc8SXWA/of3QjII+8wrpNM0qy0WxistPtILGzhG2O3toxHGg9Ao4FWqV7bAUNG0HTvDtn9l0yygsbcsXKQIF3MTlmb1Ynkk8k9av0UUhhRRRQAUUUUAFFFFABRRRQAUUUUAFFFFAHJ6z/yUzwv/ANeGof8AoVtXWVyes/8AJTPC/wD14ah/6FbV1lNiCiiikMKKKKACiiigAooooAKKKKACiiigAooooAKKKKAOE1j/AJLp4R/7FzWv/SrS67uvmr9r7XvFHgxz4t8J6+NC1Pw54G8TauA9lFcpdeS2nOsTB/ugsoyRzWloHxN8XfDX4U+CfEfiq/uviTqni650u0hs9PsrbT2tpLmIsxQFgrKDzhmBwOCT1t7Ilbs+g6K8z074xXb+Km8O6t4Zm0fVo/DsviCWF7yOXy1S4aERbkBBJwG3A45xivN1/bY0a+074fmw0Pbqfi7w03imK31O/FtDbWgaNAjSiN90rNIAFC4+ViWGBmCj6UorkvhN8RLf4s/Djw/4vtdOvdIi1a1W4+wajH5dxbNkho3X1VgR74zXW0AFFFFABRRRQAUUUUAFFFFABRRRQAUUUUAcnrP/ACUzwv8A9eGof+hW1dZXJ6z/AMlM8L/9eGof+hW1dZTYgooopDCiiigAooooAKKKKACiiigAooooAKKKKACiiigDyf4qeC9N+I/j7T/CmsrI+ka34N8QadeLC+x2hlm0xHCt2O1jzXTX3wo0PUfD3hDRpTdfY/C11Z3mn7ZQG32ybIt5x8wweemfavCfHvxP8f6X+2n4S8LWWm6NLpc9k8VrNLFL5psJ2gku3YiQDzFayYIQMYzkN1H1RWs4uKj6ERd2zznx38C9C8f+MrLxPdajrml6rb6fJpbnSdSe2jubV23mKVRww3cg8EZPOOKxbP8AZa8HaPZeDV0S41jQNS8JaSdD0vV9Ovdt0tiSjGCQsrJIuY0PzKSCCQRk59gorIszPDehr4b0S101b291EQAj7VqM5mnkJYkl3PU5P4DAHStOiigAooooAKKKKACiiigAooooAKKKKACiiigDjdcu4I/if4XRpo1f7BqA2lgDy1tiuyr5g+MH7O83jL9qzwB4phtnOjPEZ9VeOPKCS1IaPzD0/eZjQDrhD6cfT9aSSSVmSm23cKKKKzKCiiigAooooAKKKKACuB0HWPGPim0ur+zutDs7Vb+8tYoZ7KaVwsNzJCCzCZQSfLzwB1rvq474T/8AIpT/APYY1b/043FUthdSX7J46/6Cnh7/AMFs/wD8kUfZPHX/AEFPD3/gtn/+SK6yilcLHJ/ZPHX/AEFPD3/gtn/+SKPsnjr/AKCnh7/wWz//ACRXWUUXCxyf2Tx1/wBBTw9/4LZ//kij7J46/wCgp4e/8Fs//wAkV1lFFwsec3fgPxHe+LtP8TTXPhx9asLWazt7n+zrjKRSsjOMfaMHmMYPbLepra+yeOv+gp4e/wDBbP8A/JFdZRTuwscn9k8df9BTw9/4LZ//AJIo+yeOv+gp4e/8Fs//AMkV1lFK4WOT+yeOv+gp4e/8Fs//AMkUfZPHX/QU8Pf+C2f/AOSK6yii4WOLTVvE+j+I9DstWn0m8tNTmlg/0K1lhkjZYXkBy0rAj5MYx3612lcn4t/5G7wR/wBf9x/6Rz11lDAKKKKQwooooA5Dx099Pq3hbTrPVLrSY769lSeWzEfmMq20rhcujADcqngZ4p//AAg19/0OfiH/AL6tf/jFHi3/AJG7wR/1/wBx/wCkc9dZVXsI5P8A4Qa+/wChz8Q/99Wv/wAYo/4Qa+/6HPxD/wB9Wv8A8YrrKKVwscn/AMINff8AQ5+If++rX/4xR/wg19/0OfiH/vq1/wDjFdZRRcLHJ/8ACDX3/Q5+If8Avq1/+MUf8INff9Dn4h/76tf/AIxXWUUXCxyf/CDX3/Q5+If++rX/AOMUf8INff8AQ5+If++rX/4xXWUUXCxyf/CDX3/Q5+If++rX/wCMUf8ACDX3/Q5+If8Avq1/+MV1lFFwsee2f9qeHfitomjPr+oarp2oaLqV3LFfiE7ZYJ7FI2UpGpHFxICOQcj0r0KuE1j/AJLp4R/7FzWv/SrS67uqlshLqFFFFQUFcd8J/wDkUp/+wxq3/pxuK7GuO+E//IpT/wDYY1b/ANONxT6C6nY0yaUQRPI2dqKWOPQU+ob2NpbOdEGWaNlA9SRSGeF+Av20vh/8QbzwZFaWfiXTbTxjLJBoOp6rok0FnfSoGJjWXBAYhGI3YDbTjNe0r4j0l9ZbSF1SybVlXebAXCeeFxnPl53Yx3xXwr8E/wBkz4j+AtG+DNnZ6bq3hvxF4Y1CGTXNav8AxSdQ017IFjcW9tYPJKiGVSqBo0hK8tuHIOpYfs0+PE1DSPD0vhGGLXrT4hv4xufikLq2JlsvtbyLEMN9pM7QGOAxlRGEz85ACkA+ofi38ePDHwdttNfVZXvrq91ax0hbCwkia4je6lEUcjozqQgLAk9cdAa7ttXsUt552vbdYIH8uWUyrtjfIG1jnAOSOD618La/+y5451BtY0iTwLZ6rq6/E638Zw+OZ7q18y6sftYlMQ3N5ySRRKYtv3duzB5Kru+K/hvd6v8AtnXfw4sobJ/AOvSWHxK1+GNpGljvLR/JWOQAhVWeWK1fn732eX5TyQAfaF9f22mWct3eXEVpawqXknncIiL6ljwB9a4r4jfGzwn8Mvh5P401HUFvdESaC2jk01luDPNLMsMaJg4JLuoPOAMkkAGuX/ae+HOv/EXw14TTQ7K11yDR/E1jq+p+H7wxrHqtpEW3Q7pAVDKzJKueCYgMjOR4Pr37MXjLxf4B+K81t4Us/D58WeLtB17RvCs89vv06G0NkLl3MbNCksiQSZWNmHAG45oA+tIvG07/AA5fxU3h7Uop1sHvv7DaS2N2SqlvJDCYwFjjAPm7OQd2Oa5y4+OmnReM/DPhWDRNUvdZ1m0hvpooGtgumwSfxzlplyQcArFvbkEAjmpPj14BvPGn7Pfj7wZ4btLdL7VfDl7pWn2oKwxLJJbvHGvYKuSB6AVxPgb4IS6T8b/DXi3UfDGnhrHwFa6NLqrJA8yXscykoG5fhB94fLjjPagD32iiigDk/Fv/ACN3gj/r/uP/AEjnrrK5Pxb/AMjd4I/6/wC4/wDSOeuspsQUUUUhhRRRQByfi3/kbvBH/X/cf+kc9eO/tc/GjxJ8KPEHwr0/QtUn0m08SatdWOoXFnocmsXKxpavKhito1Z3O5RkKDwST0yPYvFv/I3eCP8Ar/uP/SOesv4ofBbR/irq/hTVb/UNU0vU/DF1Le6Zd6VMkbxSyRGJid6MD8jMMEd/phsR4l8Jf2ttSn+G2oXviaFfEHiY+M38KaLpUMC6VqV4WOYDd2s7j7K5RZJCG5MaBwoLbB02sftj6X4d8P8Ais6l4S1dPF3h/X9P8NSeGbeaCSW6vb1YmtRDMXWMoyyjLMVxsbjpnYg/ZA8CwaPqFubjXLjWb3xBF4pk8SXGotJqS6jGNscySkYUKmYwgUJsZl24Jpl9+yF4R1bwlr2m3+q65e69req2mu3fiuS4iGpf2jaqi21ym2MRIY/LXaixhOo24JpDPP8Awn+034n8O+I/j/q/jbTLv+xfB2qaPDHo0M1qzaVbT2cLTyeaNokQNIZmLMSFzjptr3bwL8XtN+Ifjjxp4f0i0uJrbwtLa21zq+VNtPcTQicxRYOWKRvGWOAP3igEndjnLb9nfQ/Dmj/E97b7b4p1HxzZiPVIdfuEeO9kjtTboGIjAUMm1W4I4yAO8n7KnwaufgP8C/DPhTU5xeeIIoBcavdi4efz71wDKwkf5mAwFHThRgDpQBz3j79rSx8Gav4+Sy8J6pr+ieABbnxPq1tPDGtn5sYlYRRuwaYxxMHfGODhdzZFY/gn4n+MviR+1r4h0WDUrux8B+HNI0+/hs7JbQw3wvI7nZLcM6NMQfKRkWJkKn7+RxXTeP8A9kzwx4/8ReJtQl1vxBo2m+LIY4PE2h6VcxR2etKieWhl3RNIjbcKWheMsAoYkAY7vwx8JtA8IePPEHi3TI54dS1uysdPuIi48hIbRZFgWNcfLgSvnk5yPSgDjfi1+03oXwu8dW/g7ybe/wDED6RJrckFzqdvZpHbLJ5ageY25pHbcFVVI+Q5ZeM8DZ/tQz6x8V/CuswNqtr4BvvhjqXi660J7BWvVngubYYKKC5lRXlTYrYJPfg16z4/+Bmn+M/F0Hi7TNf1rwX4wisP7LOuaBJD5stp5okEMkc8UsUgDbipZCV3tgjNOk+BekTeJ7LxLJrOuv4is/D9x4ci1U3a+eIJpUleTOzHm740IbGBjG3FAHAeFP2zfDuufC7XPiJqGnJYeE9L03+05Lqw1e01KQLuC+S8cDsUlycbeVyrDccV1Hwm/aM074o+OtV8JjTfseo2WnQ6rHcWt5He2k8LuUKCWPgSowXfGRwJEIJBrNi/ZA8D3y+MX8Ryah4ru/Felf2JqN1ftDA5shK8qRqLaOJQVZ+JMFztXLHFdx8O/hld+AppmufHHibxZFsMNtBrk1uyW0WVIVfJhjLkbcb5C74JyxoAbrH/ACXTwj/2Lmtf+lWl13dcJrH/ACXTwj/2Lmtf+lWl13dXLZf11JW7CiiioKCuO+E//IpT/wDYY1b/ANONxXY1598MPEOlWfhm6hn1OzgmTWdWDRyXCKw/4mNx1BNV0F1PQaKyv+Eq0T/oMWH/AIFJ/jR/wlWif9Biw/8AApP8aVhmrRWV/wAJVon/AEGLD/wKT/Gj/hKtE/6DFh/4FJ/jRYDVqFLO3juZLlYI1uJAFeUIA7AdAT1NUP8AhKtE/wCgxYf+BSf40HxXogBJ1jTwB/09J/jRYDVorK/4SrRP+gxYf+BSf40f8JVon/QYsP8AwKT/ABosBq0Vlf8ACVaJ/wBBiw/8Ck/xo/4SrRP+gxYf+BSf40WA1aKyv+Eq0T/oMWH/AIFJ/jR/wlWif9Biw/8AApP8aLAZHi3/AJG7wR/1/wBx/wCkc9dZXDeINa0/UvGfgmO0v7a6kW+uGKQzK5A+xz84BruaGIKKKKQwooooA5Pxb/yN3gj/AK/7j/0jnrrK5fxt4a1fXZdGu9D1Wy0rUNNumnWTULB7yJ1aGSMqUSaIg/PkHd26HNZn9j/E3/obvCf/AISt1/8ALKrsmtyb26Hd0Vwn9j/E3/obvCf/AISt1/8ALKj+x/ib/wBDd4T/APCVuv8A5ZUcq7/mF32O7orhP7H+Jv8A0N3hP/wlbr/5ZUf2P8Tf+hu8J/8AhK3X/wAsqOVd/wAwu+x3dFeXXs3xNs/E2l6R/wAJP4Tf7db3E/nf8IxdDZ5RiGMf2jznzeuRjHfPGt/Y/wATf+hu8J/+Erdf/LKjlXf8wv5Hd0Vwn9j/ABN/6G7wn/4St1/8sqP7H+Jv/Q3eE/8Awlbr/wCWVHKu/wCYXfY7uiuE/sf4m/8AQ3eE/wDwlbr/AOWVH9j/ABN/6G7wn/4St1/8sqOVd/zC77BrH/JdPCP/AGLmtf8ApVpdd3XDaF4L8Sf8JtZ+IvEmv6Vqb2OnXWn29vpekSWQAnkt5HZy9zNux9lQAAL95s54x3NEraJAuoUUUVBQVmy+GtInleWXSrKSRyWZ3t0JYnqScc1pUUAZX/CK6J/0B7D/AMBU/wAKP+EV0T/oD2H/AICp/hWrRTuBlf8ACK6J/wBAew/8BU/wo/4RXRP+gPYf+Aqf4Vq0UXAyv+EV0T/oD2H/AICp/hXK/FXwxo8Xw28Sumk2KMthKQy2yAj5T7V39cn8Wf8Akmfib/rwl/8AQTTW6E9jX/4RXRP+gPYf+Aqf4Uf8Iron/QHsP/AVP8K1aKVxmV/wiuif9Aew/wDAVP8ACj/hFdE/6A9h/wCAqf4Vq0UXAyv+EV0T/oD2H/gKn+FH/CK6J/0B7D/wFT/CtWii4FC00HTLCYTWunWltKBgSQwKrAfUCr9FFIAooooAKKKKACiiigAooooAKKKKAOT1n/kpnhf/AK8NQ/8AQrausrk9Z/5KZ4X/AOvDUP8A0K2rrKbEFFFFIYUUUUAFFFFABRRRQAUUUUAFFFFABRRRQAVyXxaYL8MvE7MQANPmJJ7fKa62uR+LsSTfC/xTHIiyRtp8ysrDIIKnIIprdCexiv8AtFfDr/hM9P8ACtv4psr/AFy+kMUVvZMZlDAEndIoKLjaeCc1339p2f8Az9wf9/F/xryeX9kn4XDxlp3ia08M2+m39lN53kWgC2s3yFdrwEFNvOcKF5Arv/8AhW/hL/oVtF/8F8P/AMTVy5NOW4lzdTZ/tOz/AOfuD/v4v+NH9p2f/P3B/wB/F/xrG/4Vv4S/6FbRf/BfD/8AE0f8K38Jf9Ctov8A4L4f/iajQeps/wBp2f8Az9wf9/F/xo/tOz/5+4P+/i/41jf8K38Jf9Ctov8A4L4f/iaP+Fb+Ev8AoVtF/wDBfD/8TRoGps/2nZ/8/cH/AH8X/Gj+07P/AJ+4P+/i/wCNY3/Ct/CX/QraL/4L4f8A4mj/AIVv4S/6FbRf/BfD/wDE0aBqbP8Aadn/AM/cH/fxf8aP7Ts/+fuD/v4v+NY3/Ct/CX/QraL/AOC+H/4mj/hW/hL/AKFbRf8AwXw//E0aBqbP9p2f/P3B/wB/F/xo/tOz/wCfuD/v4v8AjWN/wrfwl/0K2i/+C+H/AOJo/wCFb+Ev+hW0X/wXw/8AxNGgamz/AGnZ/wDP3B/38X/Gj+07P/n7g/7+L/jWN/wrfwl/0K2i/wDgvh/+Jo/4Vv4S/wChW0X/AMF8P/xNGgamz/adn/z9wf8Afxf8aP7Ts/8An7g/7+L/AI1jf8K38Jf9Ctov/gvh/wDiaP8AhW/hL/oVtF/8F8P/AMTRoGps/wBp2f8Az9wf9/F/xo/tOz/5+4P+/i/41jf8K38Jf9Ctov8A4L4f/iaP+Fb+Ev8AoVtF/wDBfD/8TRoGpQ1O7gufib4YEU0cpGn6hkIwOPmtvSuyrJ0rwloWg3DXGmaLp+nTsuwy2lrHExXIOMqAccDj2rWoYBRRRSGFFFFABRRRQAUUUUAFFFFABRRRQAUUUUAFeQ/tSfFHTfhX8J7+61Syv7uDUidNjaxjR/LkdGKl9zrhflIyMnpxXr1cP8a/hjB8YfhlrfhSadbRr6NfJuWTeIZVYMjY4yMjBwRwTVwspLm2Jlezsanw68c2nxL8FaV4nsLK90+y1KMyw2+oxrHOF3EAsqswGcZGCeCK6SqGg6La+G9D0/SbGMRWVhbx2sEY/hRFCqPyAq/Uu19BrzCiiikMKKKKACiiigAooooAKKKKACiiigAooooAKKKKACiiigAooooAKKKKACiiigAooooAKKKKACiiigAooooAKKKKACiiigAooooAKKKKACiiigAooooAKKKKACiiigAooooAKKKKACiiigAooooAKKKKACiiigAooooAK4P4xfFzT/g3oOl6pqUCzRahqcOlR+ZdRWyLLKG2FpJSFUErt5I5YV3lc74x8C6d44OhHUXnUaPqcWqwLCygPLGrqqvkHK/OcgYPA5oA5S2+PnhyC3u7nWr7TtIt7Sws76cLei6kQXVxLBbAeUrI/mPEVTy3Ys3yhc9eg0b4q+GdfktI7K+maW6vZtNjimsp4ZBcRJvkjdXQFCq8/MAO3XiuY+JfwF0fxu/iDU4o5Rrmp2+kwK32xreOI6dePd2joVRirJLK7Z2sDhQVIyKm+F/wl1Hwfp6yar4hvLjU5NZu9ZuVtJgIZ2mXb5cuUHmKoAbIVPm6AAYoAveM/inc+H/Gdp4V0Xw1eeJdZk02TVp0guIoI7e3SRYxlnOWkdiwRQCDsbcy8Zz9M/aS8B6j4e0fWH1G7s7bUtPh1NVn0643W8MrsgM5VCsRDo6NuIwVOe2djxh8KLLxV4otvEdvrGr+HtdhsJdLa80mdFM1rI6uY3SRHQkMuVfaGUs2CMnPFX37MOkX0q6KL66tvAw8N23h6bSY5VlkvYoppXZJ5JUdmVxJhmDK7Etk80Ad5cfF3wna6pd2EuqlJrUXHmSG2m8ktAhedFl2eW7oqsWRWLDacjg1Rv8A47eCtM8Mr4judUuI9A2NK+p/2bdG3ijVVZpJJBFtjQK6nc5A688HFAfs++G49X1m+gnu7dNWa7kubdIrYjfcxskrLK0JmXIckL5m0HHy44qt8Qf2bfC/xK8M2Wgavdal/ZVro0uheRG0LeZbSIqMSXibZJhBiSPYw55wcUAF9+0X4et/EHjjQ47a/jvvCYtWurm+sriCxmE4Qr5dwImVseYBgAknpxkjp0+LfhSTXLnSF1Q/bLeSeFybWYQtJCu+aNJtnlvIi5LIrFhg8cGsjXPgVomvXniaabUNUhh8RRWseoWsMkXlu1vs8qRSYyysAgBw20gn5c4Ijf4C6HN4hOpTX+pT26X13qltpsjxNBa3lzFJFNPGfL37ik0oALkDzGwMHFAG54L+LXhT4hajdWGg6r9rvra0t7+S3kt5YHFvPv8AJlAkRSyMY3AYZGVI6ioLn4y+ErbUdQsP7RllurH7QsixWc7I8kCb5oo5NmySVVBJjRiwweODTPBvwd0LwN4jXXNPkvJNQGgWPhwtcSqyta2jStCSAo+fM0mSMA56DArNf4C6HN4hOpTX+pT26X13qltpsjxNBa3lzFJFNPGfL37ik0oALkDzGwMHFAFTwT8ebfxj8CNO+J76YNH03UbWG9tra+mkUiKUoEMjCIkH5/4VdTwQxBzWj8PPjHb/ABH8e+PfDthpdxb2/hDUF0u5vrkOnn3BhimPlqU2lAJcZ35O3O3aysbMHwZ8P2vwf0z4awteR+HNOsLXToCJQZxDb7PLy5XBP7tcnHPNP0v4RaXoWqa7qGmalqun3Ot6/F4hv2t7hQJpkhih8ojb/qWjgjDL1OCcgmgDsb+/ttLsbm9vJ47W0to2mmnlYKkaKCWZieAAASTXA3vxy0ANpaaaJ7+W81az0uSGaCW0kgFyHMcxSVFZkIQ4IGGwcHg1p33wxt9VtpbS/wBd1y+sJxfJcWc14PLnjuhtaN8KDtjBIjAI2571iaL+z/oGiW9hAl5ezR2N9aX9uPJtINr2wcRqxhgQuMSHJfLHA+Yc5ANm1+MnhG+0+7v7fUpprG3kEP2lLC4MU8hk8sJA3l4nYv8ALti3HPatGL4jeHJfB2oeKn1WK10DT455L28vEa3FqsG7zvNWQK0ZTa2QwBGK82uv2R/BOoya7LeSX08+r3NpezSxpbW+Li2nSeGYpDCiSyB40y0yuWVQpyMg+h6T8PbPSPBt74cju5pLe7SZZLg21qj/ALwEMRGkKw9+hjIPcHJoA5fxB+0Z4V8PX/gu2kt9cuF8V6jLptlLHo9yvlyR2r3JZ0dFfYUTAKq2c5+6rFZfG/7Q3hHwJ4b8XateHU5ZPDOlz6xd6eumzw3EsEXDNCJlRZBuwNwbaMgkgc1j6F+yv4T8NWOgw6ZfarYT6HrLa5YT2zwRrbTtaGzZI4BF5EcRhYjy0jAyS33iSSL9lXwf9i8SWd1c6nfWuv6RfaJepM8KO1tdOHl/eRxLIz5zh3ZiMnrxgA6q2+NnhKeHT3e9urY3qwsFuNPuE+z+bIY4vPJjxDvcEKZCobGVJHNQ3vx78D6fqVxYTavOLuB7mJo0066fc9u22dUKxEOUIyQuSF+b7vNY6/s3+Hx4jh199T1KfWRZWun3F5cRWcrXUFtJK8CsHtyqFPOdd0QjYjGSSAa2U+CmhJqEN59ovzNFd6neJmVMB77PnD7nQZ+X07lqALd18ZvBlnPp0UutxgX/ANk8mdYZWgBumC2qyShSkTSllCK7KWLDAORWJq/7SPgTS7LVpU1K5vbnT9NvtV+xQafcedcw2jBLjyAUAlKOVUhScbgTwc0lh+zx4c0rVdL1Cyur2GeytrG1cvFaz/aVtFVYS5lhYo21QCYjHn6gYG/Z08Kyy6fJNJqEz2On6xpcZadRmDUpVluQ2FHO5F2kYIA780Adn4E8ZWPxC8IaT4j02K8gsdSt0uIotQtJLadQwzho5FDAj6YPbI5rerH8I+HF8IeG9P0WO+utRhsYVginvfL83y1GEU+WiKcAAZxnjkk5NbFABRRRQAUUUUAFFFFABRRRQB//2Q==)![if-else]"
      ],
      "metadata": {
        "id": "wRHB4B8BpVMw"
      }
    },
    {
      "cell_type": "markdown",
      "source": [
        "# Example"
      ],
      "metadata": {
        "id": "3owA8m85pYWh"
      }
    },
    {
      "cell_type": "code",
      "source": [
        "num = 10\n",
        "if num > 0:\n",
        "    print(\"Positive number\")\n",
        "else:\n",
        "    print(\"Negative Number\")"
      ],
      "metadata": {
        "colab": {
          "base_uri": "https://localhost:8080/"
        },
        "id": "6PpkNrYGpdp9",
        "outputId": "9ea8e8ef-aaca-4938-8987-3c221b59b816"
      },
      "execution_count": 81,
      "outputs": [
        {
          "output_type": "stream",
          "name": "stdout",
          "text": [
            "Positive number\n"
          ]
        }
      ]
    },
    {
      "cell_type": "markdown",
      "source": [
        "# if...elif...else Statement"
      ],
      "metadata": {
        "id": "0qrU3w61pi2J"
      }
    },
    {
      "cell_type": "markdown",
      "source": [
        "# Syntax:"
      ],
      "metadata": {
        "id": "ab34-f4YpkHJ"
      }
    },
    {
      "cell_type": "markdown",
      "source": [
        "    if test expression:\n",
        "\n",
        "        Body of if\n",
        "    elif test expression:\n",
        "    \n",
        "        Body of elif\n",
        "    else:\n",
        "    \n",
        "        Body of else"
      ],
      "metadata": {
        "id": "m23_JSrRpm1C"
      }
    },
    {
      "cell_type": "markdown",
      "source": [
        "# Flow Chart"
      ],
      "metadata": {
        "id": "GPmMInkIppBE"
      }
    },
    {
      "cell_type": "markdown",
      "source": [
        "if-elif-else![Python_if_elif_else_statement.jpg](data:image/jpeg;base64,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)"
      ],
      "metadata": {
        "id": "hTYLKpBopvkM"
      }
    },
    {
      "cell_type": "markdown",
      "source": [
        "# Example:"
      ],
      "metadata": {
        "id": "DF7Col3Ep2t2"
      }
    },
    {
      "cell_type": "code",
      "source": [
        "num = 0\n",
        "\n",
        "if num > 0:\n",
        "    print(\"Positive number\")\n",
        "elif num == 0:\n",
        "    print(\"ZERO\")\n",
        "else:\n",
        "    print(\"Negative Number\")"
      ],
      "metadata": {
        "colab": {
          "base_uri": "https://localhost:8080/"
        },
        "id": "WG4DtXqVp7bC",
        "outputId": "dd52c75e-8411-49d2-e730-e1db3f0aa5ec"
      },
      "execution_count": 82,
      "outputs": [
        {
          "output_type": "stream",
          "name": "stdout",
          "text": [
            "ZERO\n"
          ]
        }
      ]
    },
    {
      "cell_type": "markdown",
      "source": [
        "# Nested if Statements"
      ],
      "metadata": {
        "id": "eE7ZrbKep_cQ"
      }
    },
    {
      "cell_type": "markdown",
      "source": [
        "We can have a if...elif...else statement inside another if...elif...else statement. This is called nesting in computer programming."
      ],
      "metadata": {
        "id": "Q_UPFcCwqCOn"
      }
    },
    {
      "cell_type": "markdown",
      "source": [
        "# Example:"
      ],
      "metadata": {
        "id": "vEoStR5wqFNJ"
      }
    },
    {
      "cell_type": "code",
      "source": [
        "num = 10.5\n",
        "\n",
        "if num >= 0:\n",
        "    if num == 0:\n",
        "        print(\"Zero\")\n",
        "    else:\n",
        "        print(\"Positive number\")\n",
        "else:\n",
        "    print(\"Negative Number\")"
      ],
      "metadata": {
        "colab": {
          "base_uri": "https://localhost:8080/"
        },
        "id": "n_7txLy5qAP0",
        "outputId": "f828b2aa-ee34-41bb-a9c0-590b8bbcef45"
      },
      "execution_count": 83,
      "outputs": [
        {
          "output_type": "stream",
          "name": "stdout",
          "text": [
            "Positive number\n"
          ]
        }
      ]
    },
    {
      "cell_type": "markdown",
      "source": [
        "# Python program to find the largest element among three Numbers"
      ],
      "metadata": {
        "id": "8U3gDieBqK8-"
      }
    },
    {
      "cell_type": "code",
      "source": [
        "num1 = 10\n",
        "num2 = 50\n",
        "num3 = 15\n",
        "\n",
        "if (num1 >= num2) and (num1 >= num3):           #logical operator   and\n",
        "    largest = num1\n",
        "elif (num2 >= num1) and (num2 >= num3):\n",
        "    largest = num2\n",
        "else:\n",
        "    largest = num3\n",
        "print(\"Largest element among three numbers is: {}\".format(largest))"
      ],
      "metadata": {
        "colab": {
          "base_uri": "https://localhost:8080/"
        },
        "id": "z56PLnGvqMKq",
        "outputId": "199093dc-e674-413d-e9dc-9c2790558bd0"
      },
      "execution_count": 84,
      "outputs": [
        {
          "output_type": "stream",
          "name": "stdout",
          "text": [
            "Largest element among three numbers is: 50\n"
          ]
        }
      ]
    },
    {
      "cell_type": "markdown",
      "source": [
        "# Python while Loop"
      ],
      "metadata": {
        "id": "aeTrk0ToqlAq"
      }
    },
    {
      "cell_type": "markdown",
      "source": [
        "The while loop in Python is used to iterate over a block of code as long as the test expression (condition) is true.\n",
        "\n"
      ],
      "metadata": {
        "id": "br-5DElUqlz8"
      }
    },
    {
      "cell_type": "markdown",
      "source": [
        "# Syntax:"
      ],
      "metadata": {
        "id": "F-_YvKHFqoTQ"
      }
    },
    {
      "cell_type": "markdown",
      "source": [
        "    while test_expression:\n",
        "        \n",
        "        Body of while"
      ],
      "metadata": {
        "id": "yVP1tKXdqqzn"
      }
    },
    {
      "cell_type": "markdown",
      "source": [
        "The body of the loop is entered only if the test_expression evaluates to True.\n",
        "\n",
        "After one iteration, the test expression is checked again.\n",
        "\n",
        "This process continues until the test_expression evaluates to False."
      ],
      "metadata": {
        "id": "n7wpaiclqxq8"
      }
    },
    {
      "cell_type": "markdown",
      "source": [
        "# Example"
      ],
      "metadata": {
        "id": "2RAl3Qyqq0lU"
      }
    },
    {
      "cell_type": "code",
      "source": [
        "#Find product of all numbers present in a list\n",
        "\n",
        "lst = [10, 20, 30, 40, 60]\n",
        "\n",
        "product = 1\n",
        "index = 0\n",
        "\n",
        "while index < len(lst):\n",
        "    product *= lst[index]\n",
        "    index += 1\n",
        "\n",
        "print(\"Product is: {}\".format(product))\n"
      ],
      "metadata": {
        "colab": {
          "base_uri": "https://localhost:8080/"
        },
        "id": "ttTAvKvjq1Z8",
        "outputId": "b27db809-5c99-45c1-d661-757d29a9df40"
      },
      "execution_count": 85,
      "outputs": [
        {
          "output_type": "stream",
          "name": "stdout",
          "text": [
            "Product is: 14400000\n"
          ]
        }
      ]
    },
    {
      "cell_type": "markdown",
      "source": [
        "# while Loop with else\n"
      ],
      "metadata": {
        "id": "DEWDdJgFq5c-"
      }
    },
    {
      "cell_type": "markdown",
      "source": [
        "Same as that of for loop, we can have an optional else block with while loop as well.\n",
        "\n",
        "The else part is executed if the condition in the while loop evaluates to False. The while loop can be terminated with a break statement.\n",
        "\n",
        "In such case, the else part is ignored. Hence, a while loop's else part runs if no break occurs and the condition is false.\n",
        "\n"
      ],
      "metadata": {
        "id": "D2tG2Af7q8VX"
      }
    },
    {
      "cell_type": "code",
      "source": [
        "numbers = [1, 2, 3,4,5]\n",
        "\n",
        "#iterating over the list\n",
        "index = 0\n",
        "while index < len(numbers):\n",
        "    print(numbers[index])\n",
        "    index += 1\n",
        "\n",
        "else:\n",
        "    print(\"no item left in the list\")"
      ],
      "metadata": {
        "colab": {
          "base_uri": "https://localhost:8080/"
        },
        "id": "YI71DucFq3Cm",
        "outputId": "5d42150e-1197-4291-f1be-ceb0143176ab"
      },
      "execution_count": 86,
      "outputs": [
        {
          "output_type": "stream",
          "name": "stdout",
          "text": [
            "1\n",
            "2\n",
            "3\n",
            "4\n",
            "5\n",
            "no item left in the list\n"
          ]
        }
      ]
    },
    {
      "cell_type": "markdown",
      "source": [
        "# Python Program to check given number is Prime number or not"
      ],
      "metadata": {
        "id": "03sYWdvFrKno"
      }
    },
    {
      "cell_type": "code",
      "source": [
        "num = int(input(\"Enter a number: \"))        #convert string to int\n",
        "\n",
        "\n",
        "isDivisible = False;\n",
        "\n",
        "i=2;\n",
        "while i < num:\n",
        "    if num % i == 0:\n",
        "        isDivisible = True;\n",
        "        print (\"{} is divisible by {}\".format(num,i) )\n",
        "    i += 1;\n",
        "\n",
        "if isDivisible:\n",
        "    print(\"{} is NOT a Prime number\".format(num))\n",
        "else:\n",
        "    print(\"{} is a Prime number\".format(num))\n"
      ],
      "metadata": {
        "colab": {
          "base_uri": "https://localhost:8080/"
        },
        "id": "Yr0ouyczq_3N",
        "outputId": "360ee90b-9b1c-48c3-faf8-897737fa0626"
      },
      "execution_count": 87,
      "outputs": [
        {
          "output_type": "stream",
          "name": "stdout",
          "text": [
            "Enter a number: 123\n",
            "123 is divisible by 3\n",
            "123 is divisible by 41\n",
            "123 is NOT a Prime number\n"
          ]
        }
      ]
    },
    {
      "cell_type": "markdown",
      "source": [
        "# Python for Loop"
      ],
      "metadata": {
        "id": "65rQxKkDr0oj"
      }
    },
    {
      "cell_type": "markdown",
      "source": [
        "The for loop in Python is used to iterate over a sequence (list, tuple, string) or other iterable objects.\n",
        "    \n",
        "Iterating over a sequence is called traversal."
      ],
      "metadata": {
        "id": "uWtkMyW9r1jb"
      }
    },
    {
      "cell_type": "markdown",
      "source": [
        "# Syntax:"
      ],
      "metadata": {
        "id": "m061x-XBr3qP"
      }
    },
    {
      "cell_type": "markdown",
      "source": [
        "    for element in sequence :\n",
        "\n",
        "        Body of for"
      ],
      "metadata": {
        "id": "qmcecgoTr6NM"
      }
    },
    {
      "cell_type": "markdown",
      "source": [
        "Here, element is the variable that takes the value of the item inside the sequence on each iteration.\n",
        "\n",
        "Loop continues until we reach the last item in the sequence."
      ],
      "metadata": {
        "id": "RuTxrENwr8nH"
      }
    },
    {
      "cell_type": "markdown",
      "source": [
        "# Flow Chart"
      ],
      "metadata": {
        "id": "YPxtz2Ghr_jR"
      }
    },
    {
      "cell_type": "markdown",
      "source": [
        "![forLoop.jpg](data:image/jpeg;base64,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)"
      ],
      "metadata": {
        "id": "hAO-rkB-sCFN"
      }
    },
    {
      "cell_type": "markdown",
      "source": [
        "# Example"
      ],
      "metadata": {
        "id": "zzsz-KJPsEmG"
      }
    },
    {
      "cell_type": "code",
      "source": [
        "#Find product of all numbers present in a list\n",
        "\n",
        "lst = [10, 20, 30, 40, 50]\n",
        "\n",
        "product = 1\n",
        "#iterating over the list\n",
        "for ele in lst:\n",
        "    print(type(ele))\n",
        "    product *= ele\n",
        "\n",
        "print(\"Product is: {}\".format(product))"
      ],
      "metadata": {
        "colab": {
          "base_uri": "https://localhost:8080/"
        },
        "id": "qCr30FO0sH83",
        "outputId": "ab45c27b-b091-4e26-b414-f95c323357e2"
      },
      "execution_count": 88,
      "outputs": [
        {
          "output_type": "stream",
          "name": "stdout",
          "text": [
            "<class 'int'>\n",
            "<class 'int'>\n",
            "<class 'int'>\n",
            "<class 'int'>\n",
            "<class 'int'>\n",
            "Product is: 12000000\n"
          ]
        }
      ]
    },
    {
      "cell_type": "code",
      "source": [
        "ele"
      ],
      "metadata": {
        "colab": {
          "base_uri": "https://localhost:8080/"
        },
        "id": "YBz3QZz4sLKh",
        "outputId": "67bced35-a8f5-4e25-bbfd-0e99f35c7b67"
      },
      "execution_count": 89,
      "outputs": [
        {
          "output_type": "execute_result",
          "data": {
            "text/plain": [
              "50"
            ]
          },
          "metadata": {},
          "execution_count": 89
        }
      ]
    },
    {
      "cell_type": "markdown",
      "source": [
        "# range() function"
      ],
      "metadata": {
        "id": "d54hI22UsOMc"
      }
    },
    {
      "cell_type": "markdown",
      "source": [
        "We can generate a sequence of numbers using range() function. range(10) will generate numbers from 0 to 9 (10 numbers).\n",
        "\n",
        "We can also define the start, stop and step size as range(start,stop,step size). step size defaults to 1 if not provided.\n",
        "\n",
        "This function does not store all the values in memory, it would be inefficient. So it remembers the start, stop, step size and generates the next number on the go."
      ],
      "metadata": {
        "id": "2PpRTb9HsSaL"
      }
    },
    {
      "cell_type": "code",
      "source": [
        "#print range of 10\n",
        "for i in range(10):\n",
        "    print(i)"
      ],
      "metadata": {
        "colab": {
          "base_uri": "https://localhost:8080/"
        },
        "id": "cpobxeYisWCX",
        "outputId": "cbaba69c-cbef-449f-a671-0ab81c79652f"
      },
      "execution_count": 90,
      "outputs": [
        {
          "output_type": "stream",
          "name": "stdout",
          "text": [
            "0\n",
            "1\n",
            "2\n",
            "3\n",
            "4\n",
            "5\n",
            "6\n",
            "7\n",
            "8\n",
            "9\n"
          ]
        }
      ]
    },
    {
      "cell_type": "code",
      "source": [
        "#print range of numbers from 1 to 20 with step size of 2\n",
        "for i in range(0, 20, 5):\n",
        "    print(i)"
      ],
      "metadata": {
        "colab": {
          "base_uri": "https://localhost:8080/"
        },
        "id": "cudKCVhbsWeI",
        "outputId": "46beb6ec-0b13-4370-ed2e-051f3ebe7faf"
      },
      "execution_count": 91,
      "outputs": [
        {
          "output_type": "stream",
          "name": "stdout",
          "text": [
            "0\n",
            "5\n",
            "10\n",
            "15\n"
          ]
        }
      ]
    },
    {
      "cell_type": "code",
      "source": [
        "lst = [\"satish\", \"srinu\", \"murali\", \"naveen\", \"bramha\"]\n",
        "\n",
        "#iterate over the list using index\n",
        "#for index in range(len(lst)):\n",
        "#    print(lst[index])\n",
        "for ele in lst:\n",
        "    print(ele)"
      ],
      "metadata": {
        "colab": {
          "base_uri": "https://localhost:8080/"
        },
        "id": "f8eqNWmDsadV",
        "outputId": "fd154524-2bd4-4958-dc83-54486eb30d49"
      },
      "execution_count": 92,
      "outputs": [
        {
          "output_type": "stream",
          "name": "stdout",
          "text": [
            "satish\n",
            "srinu\n",
            "murali\n",
            "naveen\n",
            "bramha\n"
          ]
        }
      ]
    },
    {
      "cell_type": "markdown",
      "source": [
        "# for loop with else"
      ],
      "metadata": {
        "id": "XzUCnmfjsyqU"
      }
    },
    {
      "cell_type": "markdown",
      "source": [
        "A for loop can have an optional else block as well. The else part is executed if the items in the sequence used in for loop exhausts.\n",
        "\n",
        "break statement can be used to stop a for loop. In such case, the else part is ignored.\n",
        "\n",
        "Hence, a for loop's else part runs if no break occurs."
      ],
      "metadata": {
        "id": "mzeGwl4ss1e8"
      }
    },
    {
      "cell_type": "code",
      "source": [
        "numbers = [1, 2, 3]\n",
        "\n",
        "#iterating over the list\n",
        "for item in numbers:\n",
        "    print(item)\n",
        "else:\n",
        "    print(\"no item left in the list\")"
      ],
      "metadata": {
        "colab": {
          "base_uri": "https://localhost:8080/"
        },
        "id": "zR9mKnbGs2ku",
        "outputId": "ff1e12f2-74cd-46ee-8691-039c199daabf"
      },
      "execution_count": 93,
      "outputs": [
        {
          "output_type": "stream",
          "name": "stdout",
          "text": [
            "1\n",
            "2\n",
            "3\n",
            "no item left in the list\n"
          ]
        }
      ]
    },
    {
      "cell_type": "code",
      "source": [
        "for item in numbers:\n",
        "    print(item)\n",
        "    if item % 2 == 0:\n",
        "        break\n",
        "else:\n",
        "    print(\"no item left in the list\")"
      ],
      "metadata": {
        "colab": {
          "base_uri": "https://localhost:8080/"
        },
        "id": "Chwn_-OGs6nw",
        "outputId": "9a433ab3-17f8-4ef6-b9cc-55099b91c7b9"
      },
      "execution_count": 94,
      "outputs": [
        {
          "output_type": "stream",
          "name": "stdout",
          "text": [
            "1\n",
            "2\n"
          ]
        }
      ]
    },
    {
      "cell_type": "markdown",
      "source": [
        "# Python Program to display all prime numbers within an interval"
      ],
      "metadata": {
        "id": "2z9ffAbBs9Js"
      }
    },
    {
      "cell_type": "code",
      "source": [
        "index1 = 20\n",
        "index2 = 50\n",
        "\n",
        "print(\"Prime numbers between {0} and {1} are :\".format(index1, index2))\n",
        "\n",
        "for num in range(index1, index2+1):      #default step size is 1\n",
        "    if num > 1:\n",
        "        isDivisible = False;\n",
        "        for index in range(2, num):\n",
        "            if num % index == 0:\n",
        "                isDivisible = True;\n",
        "        if not isDivisible:\n",
        "            print(num);\n",
        ""
      ],
      "metadata": {
        "colab": {
          "base_uri": "https://localhost:8080/"
        },
        "id": "diVcBU6Es-Vs",
        "outputId": "8e3381be-2d91-471d-bcec-085afe4fe6a8"
      },
      "execution_count": 95,
      "outputs": [
        {
          "output_type": "stream",
          "name": "stdout",
          "text": [
            "Prime numbers between 20 and 50 are :\n",
            "23\n",
            "29\n",
            "31\n",
            "37\n",
            "41\n",
            "43\n",
            "47\n"
          ]
        }
      ]
    },
    {
      "cell_type": "markdown",
      "source": [
        "# Python break and continue Statements"
      ],
      "metadata": {
        "id": "J9dYba5ktTM7"
      }
    },
    {
      "cell_type": "markdown",
      "source": [
        "In Python, break and continue statements can alter the flow of a normal loop.\n",
        "\n",
        "Loops iterate over a block of code until test expression is false, but sometimes we wish to terminate the current iteration or even the whole loop without cheking test expression.\n",
        "\n",
        "The break and continue statements are used in these cases."
      ],
      "metadata": {
        "id": "_G1swMqJtUHd"
      }
    },
    {
      "cell_type": "markdown",
      "source": [
        "# Python break Statement"
      ],
      "metadata": {
        "id": "lmeapk9jtYr0"
      }
    },
    {
      "cell_type": "markdown",
      "source": [
        "Syntax:\n",
        "    \n",
        "    break"
      ],
      "metadata": {
        "id": "NlKUCse6tbHh"
      }
    },
    {
      "cell_type": "markdown",
      "source": [
        "# Example"
      ],
      "metadata": {
        "id": "hsex5rOmtuYr"
      }
    },
    {
      "cell_type": "code",
      "source": [
        "numbers = [1, 2, 3, 4]\n",
        "for num in numbers:          #iterating over list\n",
        "    if num == 4:\n",
        "        break\n",
        "    print(num)\n",
        "else:\n",
        "    print(\"in the else-block\")\n",
        "print(\"Outside of for loop\")"
      ],
      "metadata": {
        "colab": {
          "base_uri": "https://localhost:8080/"
        },
        "id": "QeimE0sFtWUU",
        "outputId": "de44ec53-8c96-4608-8f02-39a1690d7a25"
      },
      "execution_count": 96,
      "outputs": [
        {
          "output_type": "stream",
          "name": "stdout",
          "text": [
            "1\n",
            "2\n",
            "3\n",
            "Outside of for loop\n"
          ]
        }
      ]
    },
    {
      "cell_type": "markdown",
      "source": [
        "# Python Program to check given number is Prime number or not (using break)\n"
      ],
      "metadata": {
        "id": "zgRzoadZt0IL"
      }
    },
    {
      "cell_type": "code",
      "source": [
        "num = int(input(\"Enter a number: \"))        #convert string to int\n",
        "\n",
        "\n",
        "isDivisible = False;\n",
        "\n",
        "i=2;\n",
        "while i < num:\n",
        "    if num % i == 0:\n",
        "        isDivisible = True;\n",
        "        print (\"{} is divisible by {}\".format(num,i) )\n",
        "        break; # this line is the only addition.\n",
        "    i += 1;\n",
        "\n",
        "if isDivisible:\n",
        "    print(\"{} is NOT a Prime number\".format(num))\n",
        "else:\n",
        "    print(\"{} is a Prime number\".format(num))"
      ],
      "metadata": {
        "colab": {
          "base_uri": "https://localhost:8080/"
        },
        "id": "92D_Be7At1R-",
        "outputId": "13e81621-63e7-43bf-9548-374264bc0528"
      },
      "execution_count": 97,
      "outputs": [
        {
          "output_type": "stream",
          "name": "stdout",
          "text": [
            "Enter a number: 12\n",
            "12 is divisible by 2\n",
            "12 is NOT a Prime number\n"
          ]
        }
      ]
    },
    {
      "cell_type": "markdown",
      "source": [
        "# Python Continue Statement"
      ],
      "metadata": {
        "id": "BMDidSy_t6Z9"
      }
    },
    {
      "cell_type": "markdown",
      "source": [
        "syntax:\n",
        "    \n",
        "    continue"
      ],
      "metadata": {
        "id": "QBPH6Frxt9dc"
      }
    },
    {
      "cell_type": "markdown",
      "source": [
        "# Flow Chart"
      ],
      "metadata": {
        "id": "1iX7ZBjdt-xx"
      }
    },
    {
      "cell_type": "markdown",
      "source": [
        "# Example"
      ],
      "metadata": {
        "id": "Bkbmt-xauBjW"
      }
    },
    {
      "cell_type": "code",
      "source": [
        "#print odd numbers present in a list\n",
        "numbers = [1, 2, 3, 4, 5]\n",
        "\n",
        "for num in numbers:\n",
        "    if num % 2 == 0:\n",
        "        continue\n",
        "    print(num)\n",
        "else:\n",
        "    print(\"else-block\")"
      ],
      "metadata": {
        "colab": {
          "base_uri": "https://localhost:8080/"
        },
        "id": "LzBAJokIuHjE",
        "outputId": "36082f3a-b115-4a87-a24f-963328dd6348"
      },
      "execution_count": 98,
      "outputs": [
        {
          "output_type": "stream",
          "name": "stdout",
          "text": [
            "1\n",
            "3\n",
            "5\n",
            "else-block\n"
          ]
        }
      ]
    }
  ]
}