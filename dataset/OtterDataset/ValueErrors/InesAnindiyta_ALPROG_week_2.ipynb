{
  "nbformat": 4,
  "nbformat_minor": 0,
  "metadata": {
    "colab": {
      "provenance": [],
      "authorship_tag": "ABX9TyMDSzHIdzyrxu2tEPtmkJLX",
      "include_colab_link": true
    },
    "kernelspec": {
      "name": "python3",
      "display_name": "Python 3"
    },
    "language_info": {
      "name": "python"
    }
  },
  "cells": [
    {
      "cell_type": "markdown",
      "metadata": {
        "id": "view-in-github",
        "colab_type": "text"
      },
      "source": [
        "<a href=\"https://colab.research.google.com/github/InesAnindiyta/ALPROG/blob/main/week_2.ipynb\" target=\"_parent\"><img src=\"https://colab.research.google.com/assets/colab-badge.svg\" alt=\"Open In Colab\"/></a>"
      ]
    },
    {
      "cell_type": "markdown",
      "source": [
        "### pertemuan 2"
      ],
      "metadata": {
        "id": "AHmOc1klEHhK"
      }
    },
    {
      "cell_type": "code",
      "source": [
        "# Type of 12\n",
        "type(12)"
      ],
      "metadata": {
        "colab": {
          "base_uri": "https://localhost:8080/"
        },
        "id": "znYOxqCkWQYM",
        "outputId": "a64d0add-5a09-4050-abf0-824c7d720617"
      },
      "execution_count": null,
      "outputs": [
        {
          "output_type": "execute_result",
          "data": {
            "text/plain": [
              "int"
            ]
          },
          "metadata": {},
          "execution_count": 21
        }
      ]
    },
    {
      "cell_type": "code",
      "source": [
        "# Integer\n",
        "11"
      ],
      "metadata": {
        "colab": {
          "base_uri": "https://localhost:8080/"
        },
        "id": "D8na_yFdV534",
        "outputId": "460176a4-f521-48af-ca9e-650304463861"
      },
      "execution_count": null,
      "outputs": [
        {
          "output_type": "execute_result",
          "data": {
            "text/plain": [
              "11"
            ]
          },
          "metadata": {},
          "execution_count": 18
        }
      ]
    },
    {
      "cell_type": "code",
      "source": [
        "# Float\n",
        "2.14"
      ],
      "metadata": {
        "colab": {
          "base_uri": "https://localhost:8080/"
        },
        "id": "vLj4ff_bWBfy",
        "outputId": "e6bb9d7a-9396-4bb6-b2e2-71dbce989666"
      },
      "execution_count": null,
      "outputs": [
        {
          "output_type": "execute_result",
          "data": {
            "text/plain": [
              "2.14"
            ]
          },
          "metadata": {},
          "execution_count": 19
        }
      ]
    },
    {
      "cell_type": "code",
      "source": [
        "# String\n",
        "\"Hello, Python 101!\""
      ],
      "metadata": {
        "colab": {
          "base_uri": "https://localhost:8080/",
          "height": 35
        },
        "id": "NFht22_jWITc",
        "outputId": "bd9976e8-f4c8-4969-d466-9131ce2718f5"
      },
      "execution_count": null,
      "outputs": [
        {
          "output_type": "execute_result",
          "data": {
            "text/plain": [
              "'Hello, Python 101!'"
            ],
            "application/vnd.google.colaboratory.intrinsic+json": {
              "type": "string"
            }
          },
          "metadata": {},
          "execution_count": 20
        }
      ]
    },
    {
      "cell_type": "code",
      "source": [
        "# Type of 2.14\n",
        "type(2.14)"
      ],
      "metadata": {
        "colab": {
          "base_uri": "https://localhost:8080/"
        },
        "id": "hMXNlpdvWYQs",
        "outputId": "53cbe746-8b8d-4117-ed08-7f917973f42a"
      },
      "execution_count": null,
      "outputs": [
        {
          "output_type": "execute_result",
          "data": {
            "text/plain": [
              "float"
            ]
          },
          "metadata": {},
          "execution_count": 22
        }
      ]
    },
    {
      "cell_type": "code",
      "source": [
        "# Type of \"Hello, Python 101!\"\n",
        "type(\"Hello, Python 101!\")"
      ],
      "metadata": {
        "colab": {
          "base_uri": "https://localhost:8080/"
        },
        "id": "JtfQ6ONTWhJk",
        "outputId": "5d37f224-058f-4a2c-c19a-a8b2d197fc22"
      },
      "execution_count": null,
      "outputs": [
        {
          "output_type": "execute_result",
          "data": {
            "text/plain": [
              "str"
            ]
          },
          "metadata": {},
          "execution_count": 24
        }
      ]
    },
    {
      "cell_type": "code",
      "source": [
        "# Write your code below. Don't forget to press Shift+Enter to execute the cell"
      ],
      "metadata": {
        "id": "a_Ooz7p5W2ML"
      },
      "execution_count": null,
      "outputs": []
    },
    {
      "cell_type": "code",
      "source": [
        "# Print the type of -1\n",
        "type(-1)"
      ],
      "metadata": {
        "colab": {
          "base_uri": "https://localhost:8080/"
        },
        "id": "lk_ErwtyXWD9",
        "outputId": "078b0a6c-a4fd-4da6-f36e-d496a37b0dc0"
      },
      "execution_count": null,
      "outputs": [
        {
          "output_type": "execute_result",
          "data": {
            "text/plain": [
              "int"
            ]
          },
          "metadata": {},
          "execution_count": 26
        }
      ]
    },
    {
      "cell_type": "code",
      "source": [
        "type(-6)"
      ],
      "metadata": {
        "colab": {
          "base_uri": "https://localhost:8080/"
        },
        "id": "5HeuLyHJXmj0",
        "outputId": "4188766a-2490-4fa3-974c-a3603c5f48e2"
      },
      "execution_count": null,
      "outputs": [
        {
          "output_type": "execute_result",
          "data": {
            "text/plain": [
              "int"
            ]
          },
          "metadata": {},
          "execution_count": 27
        }
      ]
    },
    {
      "cell_type": "code",
      "source": [
        "# Print the type of 4\n",
        "type(4)"
      ],
      "metadata": {
        "colab": {
          "base_uri": "https://localhost:8080/"
        },
        "id": "G5-_i5UZXrKc",
        "outputId": "6f40aecc-f108-4273-9129-4859f13879b1"
      },
      "execution_count": null,
      "outputs": [
        {
          "output_type": "execute_result",
          "data": {
            "text/plain": [
              "int"
            ]
          },
          "metadata": {},
          "execution_count": 28
        }
      ]
    },
    {
      "cell_type": "code",
      "source": [
        "# Print the type of 0\n",
        "type(0)"
      ],
      "metadata": {
        "colab": {
          "base_uri": "https://localhost:8080/"
        },
        "id": "nwunycbzYF7N",
        "outputId": "6cf4862a-9fb4-463b-fbcc-26540b4b5acc"
      },
      "execution_count": null,
      "outputs": [
        {
          "output_type": "execute_result",
          "data": {
            "text/plain": [
              "int"
            ]
          },
          "metadata": {},
          "execution_count": 30
        }
      ]
    },
    {
      "cell_type": "code",
      "source": [
        "# Print the type of 1.0\n",
        "type(1.0) #Notice that 1 is an int, and 1.0 is a float"
      ],
      "metadata": {
        "id": "4pu0R1BIYOtK",
        "colab": {
          "base_uri": "https://localhost:8080/"
        },
        "outputId": "a54621fc-0f8f-4d8b-ce92-8700d9208275"
      },
      "execution_count": null,
      "outputs": [
        {
          "output_type": "execute_result",
          "data": {
            "text/plain": [
              "float"
            ]
          },
          "metadata": {},
          "execution_count": 3
        }
      ]
    },
    {
      "cell_type": "code",
      "source": [
        "# Print the type of 0.5\n",
        "type(0.5)"
      ],
      "metadata": {
        "colab": {
          "base_uri": "https://localhost:8080/"
        },
        "id": "OK16RudvR50T",
        "outputId": "d2a85885-60d6-4d82-f1ce-5ff0e1b75360"
      },
      "execution_count": null,
      "outputs": [
        {
          "output_type": "execute_result",
          "data": {
            "text/plain": [
              "float"
            ]
          },
          "metadata": {},
          "execution_count": 4
        }
      ]
    },
    {
      "cell_type": "code",
      "source": [
        "# Print the type of 0.56\n",
        "type(0.56)"
      ],
      "metadata": {
        "colab": {
          "base_uri": "https://localhost:8080/"
        },
        "id": "8Ec5NoUQSLrS",
        "outputId": "684f2913-e82d-41de-ef55-8da8fcab7da2"
      },
      "execution_count": null,
      "outputs": [
        {
          "output_type": "execute_result",
          "data": {
            "text/plain": [
              "float"
            ]
          },
          "metadata": {},
          "execution_count": 5
        }
      ]
    },
    {
      "cell_type": "code",
      "source": [
        "# System settings about float type\n",
        "import sys # it is needes to declare the library \"sys\" before using it\n",
        "sys.float_info"
      ],
      "metadata": {
        "colab": {
          "base_uri": "https://localhost:8080/"
        },
        "id": "ExkaRUd8Sb7j",
        "outputId": "0e11d683-ef1f-408c-80d6-74cb2d0de478"
      },
      "execution_count": null,
      "outputs": [
        {
          "output_type": "execute_result",
          "data": {
            "text/plain": [
              "sys.float_info(max=1.7976931348623157e+308, max_exp=1024, max_10_exp=308, min=2.2250738585072014e-308, min_exp=-1021, min_10_exp=-307, dig=15, mant_dig=53, epsilon=2.220446049250313e-16, radix=2, rounds=1)"
            ]
          },
          "metadata": {},
          "execution_count": 6
        }
      ]
    },
    {
      "cell_type": "code",
      "metadata": {
        "id": "o0V4huh7a4TV",
        "colab": {
          "base_uri": "https://localhost:8080/"
        },
        "outputId": "2fe2c2ea-4c4e-485d-88b0-7a9213db139d"
      },
      "source": [
        "# Verify that this is an integer\n",
        "\n",
        "type(2)"
      ],
      "execution_count": null,
      "outputs": [
        {
          "output_type": "execute_result",
          "data": {
            "text/plain": [
              "int"
            ]
          },
          "metadata": {},
          "execution_count": 9
        }
      ]
    },
    {
      "cell_type": "code",
      "source": [
        "# Convert 2 to a float\n",
        "float(2)"
      ],
      "metadata": {
        "colab": {
          "base_uri": "https://localhost:8080/"
        },
        "id": "J1CKebnYTtJ5",
        "outputId": "baa18b08-9ea6-4a22-9545-8f8399756164"
      },
      "execution_count": null,
      "outputs": [
        {
          "output_type": "execute_result",
          "data": {
            "text/plain": [
              "2.0"
            ]
          },
          "metadata": {},
          "execution_count": 7
        }
      ]
    },
    {
      "cell_type": "code",
      "metadata": {
        "id": "fn0D602ra4Tc",
        "colab": {
          "base_uri": "https://localhost:8080/"
        },
        "outputId": "0855b5bc-acf3-4d8b-beab-7f3fd4d34286"
      },
      "source": [
        "# Convert integer 2 to a float and check its type\n",
        "\n",
        "type(float(2))"
      ],
      "execution_count": null,
      "outputs": [
        {
          "output_type": "execute_result",
          "data": {
            "text/plain": [
              "float"
            ]
          },
          "metadata": {},
          "execution_count": 8
        }
      ]
    },
    {
      "cell_type": "code",
      "metadata": {
        "id": "XAphrC8sa4Tf",
        "colab": {
          "base_uri": "https://localhost:8080/"
        },
        "outputId": "aa719df2-9f02-4c14-d645-a1448305eaae"
      },
      "source": [
        "# Casting 1.1 to integer will result in loss of information\n",
        "\n",
        "int(1.1)"
      ],
      "execution_count": null,
      "outputs": [
        {
          "output_type": "execute_result",
          "data": {
            "text/plain": [
              "1"
            ]
          },
          "metadata": {},
          "execution_count": 10
        }
      ]
    },
    {
      "cell_type": "code",
      "metadata": {
        "id": "ADF3Y3yMa4Tu",
        "colab": {
          "base_uri": "https://localhost:8080/"
        },
        "outputId": "3b1ac992-4099-4bb2-a1da-53f09a683a65"
      },
      "source": [
        "# Convert a string into an integer\n",
        "\n",
        "int('1')\n",
        "int('6')"
      ],
      "execution_count": null,
      "outputs": [
        {
          "output_type": "execute_result",
          "data": {
            "text/plain": [
              "6"
            ]
          },
          "metadata": {},
          "execution_count": 11
        }
      ]
    },
    {
      "cell_type": "code",
      "metadata": {
        "id": "C4muW09aa4T1",
        "colab": {
          "base_uri": "https://localhost:8080/",
          "height": 176
        },
        "outputId": "564b30ed-d475-4c8c-bdb8-6db26544b451"
      },
      "source": [
        "# Convert a string into an integer with error\n",
        "\n",
        "int('1 or 2 people')"
      ],
      "execution_count": null,
      "outputs": [
        {
          "output_type": "error",
          "ename": "ValueError",
          "evalue": "invalid literal for int() with base 10: '1 or 2 people'",
          "traceback": [
            "\u001b[0;31m---------------------------------------------------------------------------\u001b[0m",
            "\u001b[0;31mValueError\u001b[0m                                Traceback (most recent call last)",
            "\u001b[0;32m<ipython-input-12-b78145d165c7>\u001b[0m in \u001b[0;36m<cell line: 3>\u001b[0;34m()\u001b[0m\n\u001b[1;32m      1\u001b[0m \u001b[0;31m# Convert a string into an integer with error\u001b[0m\u001b[0;34m\u001b[0m\u001b[0;34m\u001b[0m\u001b[0m\n\u001b[1;32m      2\u001b[0m \u001b[0;34m\u001b[0m\u001b[0m\n\u001b[0;32m----> 3\u001b[0;31m \u001b[0mint\u001b[0m\u001b[0;34m(\u001b[0m\u001b[0;34m'1 or 2 people'\u001b[0m\u001b[0;34m)\u001b[0m\u001b[0;34m\u001b[0m\u001b[0;34m\u001b[0m\u001b[0m\n\u001b[0m",
            "\u001b[0;31mValueError\u001b[0m: invalid literal for int() with base 10: '1 or 2 people'"
          ]
        }
      ]
    },
    {
      "cell_type": "code",
      "metadata": {
        "id": "J2pwRdlBa4T4",
        "colab": {
          "base_uri": "https://localhost:8080/"
        },
        "outputId": "7ab6db4e-4f20-4a85-a684-bbe0ef3789c8"
      },
      "source": [
        "# Convert the string \"1.2\" into a float\n",
        "\n",
        "float('1.2')"
      ],
      "execution_count": null,
      "outputs": [
        {
          "output_type": "execute_result",
          "data": {
            "text/plain": [
              "1.2"
            ]
          },
          "metadata": {},
          "execution_count": 13
        }
      ]
    },
    {
      "cell_type": "code",
      "metadata": {
        "id": "XyOVd3jUa4UB",
        "colab": {
          "base_uri": "https://localhost:8080/",
          "height": 35
        },
        "outputId": "bbeb587e-868f-4787-969c-fe97e5b4fa42"
      },
      "source": [
        "# Convert an integer to a string\n",
        "\n",
        "str(1)"
      ],
      "execution_count": null,
      "outputs": [
        {
          "output_type": "execute_result",
          "data": {
            "text/plain": [
              "'1'"
            ],
            "application/vnd.google.colaboratory.intrinsic+json": {
              "type": "string"
            }
          },
          "metadata": {},
          "execution_count": 14
        }
      ]
    },
    {
      "cell_type": "code",
      "metadata": {
        "id": "f04KcV0Na4UH",
        "colab": {
          "base_uri": "https://localhost:8080/",
          "height": 35
        },
        "outputId": "d89a4dae-68b9-4ddb-cb14-625591ee27ab"
      },
      "source": [
        "# Convert a float to a string\n",
        "\n",
        "str(1.2)"
      ],
      "execution_count": null,
      "outputs": [
        {
          "output_type": "execute_result",
          "data": {
            "text/plain": [
              "'1.2'"
            ],
            "application/vnd.google.colaboratory.intrinsic+json": {
              "type": "string"
            }
          },
          "metadata": {},
          "execution_count": 15
        }
      ]
    },
    {
      "cell_type": "code",
      "metadata": {
        "id": "asDQybS7a4UM",
        "colab": {
          "base_uri": "https://localhost:8080/"
        },
        "outputId": "be38bff5-53b2-4a48-8cd1-44f39ebb4565"
      },
      "source": [
        "# Value true\n",
        "\n",
        "True"
      ],
      "execution_count": null,
      "outputs": [
        {
          "output_type": "execute_result",
          "data": {
            "text/plain": [
              "True"
            ]
          },
          "metadata": {},
          "execution_count": 16
        }
      ]
    },
    {
      "cell_type": "code",
      "metadata": {
        "id": "Fe-erKcZa4UP",
        "colab": {
          "base_uri": "https://localhost:8080/"
        },
        "outputId": "713dfe86-0b82-440f-b631-34d135ff5a69"
      },
      "source": [
        "# Value false\n",
        "\n",
        "False"
      ],
      "execution_count": null,
      "outputs": [
        {
          "output_type": "execute_result",
          "data": {
            "text/plain": [
              "False"
            ]
          },
          "metadata": {},
          "execution_count": 17
        }
      ]
    },
    {
      "cell_type": "code",
      "metadata": {
        "id": "oCdwKQuHa4UR",
        "colab": {
          "base_uri": "https://localhost:8080/"
        },
        "outputId": "72e88385-b8af-4c1b-aa8d-59f3feafe005"
      },
      "source": [
        "# Type of True\n",
        "\n",
        "type(True)"
      ],
      "execution_count": null,
      "outputs": [
        {
          "output_type": "execute_result",
          "data": {
            "text/plain": [
              "bool"
            ]
          },
          "metadata": {},
          "execution_count": 18
        }
      ]
    },
    {
      "cell_type": "code",
      "metadata": {
        "id": "XBieSUbNa4UT",
        "colab": {
          "base_uri": "https://localhost:8080/"
        },
        "outputId": "17d4e464-912b-4689-d1bd-2afa6ca3190b"
      },
      "source": [
        "# Type of False\n",
        "\n",
        "type(False)"
      ],
      "execution_count": null,
      "outputs": [
        {
          "output_type": "execute_result",
          "data": {
            "text/plain": [
              "bool"
            ]
          },
          "metadata": {},
          "execution_count": 19
        }
      ]
    },
    {
      "cell_type": "code",
      "metadata": {
        "id": "ATODCv3na4UV",
        "colab": {
          "base_uri": "https://localhost:8080/"
        },
        "outputId": "0b25e648-eafe-40c6-abd1-4c6cbd0a96f4"
      },
      "source": [
        "# Convert True to int\n",
        "\n",
        "int(True)"
      ],
      "execution_count": null,
      "outputs": [
        {
          "output_type": "execute_result",
          "data": {
            "text/plain": [
              "1"
            ]
          },
          "metadata": {},
          "execution_count": 20
        }
      ]
    },
    {
      "cell_type": "code",
      "metadata": {
        "id": "UEBlaM1Ka4UX",
        "colab": {
          "base_uri": "https://localhost:8080/"
        },
        "outputId": "d96c0e60-beb7-411a-d3fc-62769a64c6bc"
      },
      "source": [
        "# Convert 1 to boolean\n",
        "\n",
        "bool(1)"
      ],
      "execution_count": null,
      "outputs": [
        {
          "output_type": "execute_result",
          "data": {
            "text/plain": [
              "True"
            ]
          },
          "metadata": {},
          "execution_count": 21
        }
      ]
    },
    {
      "cell_type": "code",
      "metadata": {
        "id": "Io-pqQlVa4UZ",
        "colab": {
          "base_uri": "https://localhost:8080/"
        },
        "outputId": "2cecfbfa-9d83-411c-e1de-6e9c0669c95b"
      },
      "source": [
        "# Convert 0 to boolean\n",
        "\n",
        "bool(0)"
      ],
      "execution_count": null,
      "outputs": [
        {
          "output_type": "execute_result",
          "data": {
            "text/plain": [
              "False"
            ]
          },
          "metadata": {},
          "execution_count": 22
        }
      ]
    },
    {
      "cell_type": "code",
      "metadata": {
        "id": "lefh8J-1a4Uc",
        "colab": {
          "base_uri": "https://localhost:8080/"
        },
        "outputId": "b10264e2-5dba-4c4b-958c-a3d50706d429"
      },
      "source": [
        "# Convert True to float\n",
        "\n",
        "float(True)"
      ],
      "execution_count": null,
      "outputs": [
        {
          "output_type": "execute_result",
          "data": {
            "text/plain": [
              "1.0"
            ]
          },
          "metadata": {},
          "execution_count": 23
        }
      ]
    },
    {
      "cell_type": "code",
      "metadata": {
        "id": "oN3v6DoPa4Uj",
        "colab": {
          "base_uri": "https://localhost:8080/"
        },
        "outputId": "bb77f55b-b611-4d75-9844-43f1d6b29040"
      },
      "source": [
        "# Write your code below. Don't forget to press Shift+Enter to execute the cell\n",
        "type(6/2)"
      ],
      "execution_count": null,
      "outputs": [
        {
          "output_type": "execute_result",
          "data": {
            "text/plain": [
              "float"
            ]
          },
          "metadata": {},
          "execution_count": 24
        }
      ]
    },
    {
      "cell_type": "code",
      "metadata": {
        "id": "Fe97ugAxa4Un",
        "colab": {
          "base_uri": "https://localhost:8080/"
        },
        "outputId": "c3a3ec7d-2fda-4190-ae86-c401cf5d0468"
      },
      "source": [
        "# Write your code below. Don't forget to press Shift+Enter to execute the cell\n",
        "type(6//2)"
      ],
      "execution_count": null,
      "outputs": [
        {
          "output_type": "execute_result",
          "data": {
            "text/plain": [
              "int"
            ]
          },
          "metadata": {},
          "execution_count": 25
        }
      ]
    },
    {
      "cell_type": "code",
      "metadata": {
        "id": "XW8BxuAha4Uv",
        "colab": {
          "base_uri": "https://localhost:8080/"
        },
        "outputId": "1631a152-a393-4a68-e878-e234204c6960"
      },
      "source": [
        "# Addition operation expression\n",
        "\n",
        "43 + 60 + 16 + 41\n",
        "\n",
        "type(10.55+10.5-5)"
      ],
      "execution_count": null,
      "outputs": [
        {
          "output_type": "execute_result",
          "data": {
            "text/plain": [
              "float"
            ]
          },
          "metadata": {},
          "execution_count": 26
        }
      ]
    },
    {
      "cell_type": "code",
      "metadata": {
        "id": "G1B5BDima4Uz",
        "colab": {
          "base_uri": "https://localhost:8080/"
        },
        "outputId": "ebd8131f-5fb0-4205-9772-aa9de7f9da7c"
      },
      "source": [
        "# Subtraction operation expression\n",
        "\n",
        "type(50 - 60)"
      ],
      "execution_count": null,
      "outputs": [
        {
          "output_type": "execute_result",
          "data": {
            "text/plain": [
              "int"
            ]
          },
          "metadata": {},
          "execution_count": 27
        }
      ]
    },
    {
      "cell_type": "code",
      "metadata": {
        "id": "4ejlFGL1a4U8",
        "colab": {
          "base_uri": "https://localhost:8080/"
        },
        "outputId": "b1b0a9c1-46a7-467e-f3e4-49795a53e8c4"
      },
      "source": [
        "# Multiplication operation expression\n",
        "\n",
        "5 * 5"
      ],
      "execution_count": null,
      "outputs": [
        {
          "output_type": "execute_result",
          "data": {
            "text/plain": [
              "25"
            ]
          },
          "metadata": {},
          "execution_count": 28
        }
      ]
    },
    {
      "cell_type": "code",
      "metadata": {
        "id": "SAoJClw9a4U_",
        "colab": {
          "base_uri": "https://localhost:8080/"
        },
        "outputId": "c701b0e1-18ea-4375-f063-ec69a31aba40"
      },
      "source": [
        "# Division operation expression\n",
        "\n",
        "25 / 5"
      ],
      "execution_count": null,
      "outputs": [
        {
          "output_type": "execute_result",
          "data": {
            "text/plain": [
              "5.0"
            ]
          },
          "metadata": {},
          "execution_count": 29
        }
      ]
    },
    {
      "cell_type": "code",
      "metadata": {
        "id": "N2B_sUgba4VC",
        "colab": {
          "base_uri": "https://localhost:8080/"
        },
        "outputId": "b5a02d02-fd27-4ea6-dfe1-79957b2780d6"
      },
      "source": [
        "# Division operation expression\n",
        "\n",
        "25 / 6"
      ],
      "execution_count": null,
      "outputs": [
        {
          "output_type": "execute_result",
          "data": {
            "text/plain": [
              "4.166666666666667"
            ]
          },
          "metadata": {},
          "execution_count": 30
        }
      ]
    },
    {
      "cell_type": "code",
      "metadata": {
        "id": "xBPDkY2Pa4VG",
        "colab": {
          "base_uri": "https://localhost:8080/"
        },
        "outputId": "227a064f-38f2-40a8-f28e-9a0e824667c8"
      },
      "source": [
        "# Integer division operation expression\n",
        "\n",
        "25 // 5"
      ],
      "execution_count": null,
      "outputs": [
        {
          "output_type": "execute_result",
          "data": {
            "text/plain": [
              "5"
            ]
          },
          "metadata": {},
          "execution_count": 31
        }
      ]
    },
    {
      "cell_type": "code",
      "metadata": {
        "id": "UIsdvBfma4VH",
        "colab": {
          "base_uri": "https://localhost:8080/"
        },
        "outputId": "b5a07108-4bad-4bb1-885d-cedaaff78c08"
      },
      "source": [
        "# Integer division operation expression\n",
        "\n",
        "25 // 6"
      ],
      "execution_count": null,
      "outputs": [
        {
          "output_type": "execute_result",
          "data": {
            "text/plain": [
              "4"
            ]
          },
          "metadata": {},
          "execution_count": 32
        }
      ]
    },
    {
      "cell_type": "code",
      "metadata": {
        "id": "AbjCCudLa4VK",
        "colab": {
          "base_uri": "https://localhost:8080/"
        },
        "outputId": "4dfab47f-93cb-47a4-85e2-579a15b504ce"
      },
      "source": [
        "# Write your code below. Don't forget to press Shift+Enter to execute the cell\n",
        "160/60"
      ],
      "execution_count": null,
      "outputs": [
        {
          "output_type": "execute_result",
          "data": {
            "text/plain": [
              "2.6666666666666665"
            ]
          },
          "metadata": {},
          "execution_count": 33
        }
      ]
    },
    {
      "cell_type": "code",
      "metadata": {
        "id": "rR43d169a4VN",
        "colab": {
          "base_uri": "https://localhost:8080/"
        },
        "outputId": "ff7f6bfe-0101-45ef-c004-2fedcb9a6d93"
      },
      "source": [
        "# Mathematical expression\n",
        "\n",
        "30 + 2 * 60 // 10"
      ],
      "execution_count": null,
      "outputs": [
        {
          "output_type": "execute_result",
          "data": {
            "text/plain": [
              "42"
            ]
          },
          "metadata": {},
          "execution_count": 34
        }
      ]
    },
    {
      "cell_type": "code",
      "metadata": {
        "id": "_6vLgItga4VS",
        "colab": {
          "base_uri": "https://localhost:8080/"
        },
        "outputId": "d33d3212-c6a0-4dbf-cfcf-49d627f2bb05"
      },
      "source": [
        "# Mathematical expression\n",
        "\n",
        "(30 + 2) * 60"
      ],
      "execution_count": null,
      "outputs": [
        {
          "output_type": "execute_result",
          "data": {
            "text/plain": [
              "1920"
            ]
          },
          "metadata": {},
          "execution_count": 35
        }
      ]
    },
    {
      "cell_type": "code",
      "metadata": {
        "id": "_1SBG9l2a4VY"
      },
      "source": [
        "# Store value into variable\n",
        "\n",
        "x = 43 + 60 + 16 + 41"
      ],
      "execution_count": null,
      "outputs": []
    },
    {
      "cell_type": "code",
      "metadata": {
        "id": "abbrBhIVa4Vc",
        "colab": {
          "base_uri": "https://localhost:8080/"
        },
        "outputId": "c6918e22-835c-4522-be69-529b6e258df6"
      },
      "source": [
        "# Print out the value in variable\n",
        "\n",
        "x = 43 + 60 + 16 + 41\n",
        "x"
      ],
      "execution_count": null,
      "outputs": [
        {
          "output_type": "execute_result",
          "data": {
            "text/plain": [
              "160"
            ]
          },
          "metadata": {},
          "execution_count": 38
        }
      ]
    },
    {
      "cell_type": "code",
      "metadata": {
        "id": "lBjnJZHla4Vi",
        "colab": {
          "base_uri": "https://localhost:8080/"
        },
        "outputId": "500b8548-ba46-4128-eb87-3ac40cffc357"
      },
      "source": [
        "# Use another variable to store the result of the operation between variable and value\n",
        "\n",
        "y = x / 60\n",
        "y"
      ],
      "execution_count": null,
      "outputs": [
        {
          "output_type": "execute_result",
          "data": {
            "text/plain": [
              "2.6666666666666665"
            ]
          },
          "metadata": {},
          "execution_count": 39
        }
      ]
    },
    {
      "cell_type": "code",
      "metadata": {
        "id": "R7Q4Fa_Ha4Vm",
        "colab": {
          "base_uri": "https://localhost:8080/"
        },
        "outputId": "7f96c924-657a-4468-8abe-ebfee1fed55a"
      },
      "source": [
        "# Overwrite variable with new value\n",
        "\n",
        "x = x / 60\n",
        "print(x)"
      ],
      "execution_count": null,
      "outputs": [
        {
          "output_type": "stream",
          "name": "stdout",
          "text": [
            "2.6666666666666665\n"
          ]
        }
      ]
    },
    {
      "cell_type": "code",
      "metadata": {
        "id": "wEaYRJHVa4Vq",
        "colab": {
          "base_uri": "https://localhost:8080/"
        },
        "outputId": "60a91823-b4d9-4b6f-ae1b-9544cd9fd7f5"
      },
      "source": [
        "# Name the variables meaningfully\n",
        "\n",
        "total_min = 43 + 42 + 57 # Total length of albums in minutes\n",
        "total_min"
      ],
      "execution_count": null,
      "outputs": [
        {
          "output_type": "execute_result",
          "data": {
            "text/plain": [
              "142"
            ]
          },
          "metadata": {},
          "execution_count": 41
        }
      ]
    },
    {
      "cell_type": "code",
      "metadata": {
        "id": "ciAkc5Hda4Vu",
        "colab": {
          "base_uri": "https://localhost:8080/"
        },
        "outputId": "452b5652-33b5-43c3-b6c0-69e453cafad5"
      },
      "source": [
        "# Name the variables meaningfully\n",
        "\n",
        "total_hours = total_min / 60 # Total length of albums in hours\n",
        "total_hours"
      ],
      "execution_count": null,
      "outputs": [
        {
          "output_type": "execute_result",
          "data": {
            "text/plain": [
              "2.3666666666666667"
            ]
          },
          "metadata": {},
          "execution_count": 42
        }
      ]
    },
    {
      "cell_type": "code",
      "metadata": {
        "id": "E0AKn1yJa4Vx",
        "colab": {
          "base_uri": "https://localhost:8080/"
        },
        "outputId": "ddd633a0-7111-4de1-9827-b55bf13d1a36"
      },
      "source": [
        "# Complicate expression\n",
        "\n",
        "total_hours = (43 + 42 + 57) / 60  # Total hours in a single expression\n",
        "total_hours"
      ],
      "execution_count": null,
      "outputs": [
        {
          "output_type": "execute_result",
          "data": {
            "text/plain": [
              "2.3666666666666667"
            ]
          },
          "metadata": {},
          "execution_count": 43
        }
      ]
    },
    {
      "cell_type": "code",
      "metadata": {
        "id": "gfmCHsoOa4V1"
      },
      "source": [
        "# Write your code below. Don't forget to press Shift+Enter to execute the cell"
      ],
      "execution_count": null,
      "outputs": []
    },
    {
      "cell_type": "code",
      "metadata": {
        "id": "0GYlGqbVa4WA"
      },
      "source": [
        "# Write your code below. Don't forget to press Shift+Enter to execute the cell\n"
      ],
      "execution_count": null,
      "outputs": []
    },
    {
      "cell_type": "markdown",
      "source": [
        "## latihan 1"
      ],
      "metadata": {
        "id": "8BE2FItBY9nE"
      }
    },
    {
      "cell_type": "code",
      "source": [
        "Panjang = 20.5\n",
        "Lebar = 25\n",
        "Tinggi = 10\n",
        "Keliling = 2*(Panjang+Lebar)\n",
        "Luas = Panjang*Lebar\n",
        "Volume = Panjang * Lebar * Tinggi\n",
        "\n",
        "print('panjang = 20.5')\n",
        "print('lebar = 25')\n",
        "print('tinggi = 10')\n",
        "Keliling =2*(Panjang+Lebar)\n",
        "print('keliling = ',Keliling)\n",
        "Luas = Panjang*Lebar\n",
        "print('luas = ',Lebar)\n",
        "Volume = (Panjang*Lebar*Tinggi)\n",
        "print('volume=',Volume)"
      ],
      "metadata": {
        "id": "O6HLiJPxZDKE",
        "colab": {
          "base_uri": "https://localhost:8080/"
        },
        "outputId": "6206d522-8b2d-42a6-a009-9cddcd6f72f1"
      },
      "execution_count": null,
      "outputs": [
        {
          "output_type": "stream",
          "name": "stdout",
          "text": [
            "panjang = 20.5\n",
            "lebar = 25\n",
            "tinggi = 10\n",
            "keliling =  91.0\n",
            "luas =  25\n",
            "volume= 5125.0\n"
          ]
        }
      ]
    },
    {
      "cell_type": "markdown",
      "source": [
        "## LATIHAN 2"
      ],
      "metadata": {
        "id": "IFOlXtWuikzg"
      }
    },
    {
      "cell_type": "code",
      "source": [
        "nilai_shafira = (85 + 75) / 2\n",
        "nilai_shafira"
      ],
      "metadata": {
        "colab": {
          "base_uri": "https://localhost:8080/"
        },
        "id": "zPQveGIDirjR",
        "outputId": "b1032e92-a839-4957-884b-23ec466a7fc9"
      },
      "execution_count": null,
      "outputs": [
        {
          "output_type": "execute_result",
          "data": {
            "text/plain": [
              "80.0"
            ]
          },
          "metadata": {},
          "execution_count": 2
        }
      ]
    },
    {
      "cell_type": "code",
      "source": [
        "jumlah_nilai_andi_dan_hanif = 70 + 75 + 75 + 90\n",
        "jumlah_nilai_andi_dan_hanif"
      ],
      "metadata": {
        "colab": {
          "base_uri": "https://localhost:8080/"
        },
        "id": "LgpsybZHjHfr",
        "outputId": "3d45df7d-500c-4498-f267-af7ac4000b2a"
      },
      "execution_count": null,
      "outputs": [
        {
          "output_type": "execute_result",
          "data": {
            "text/plain": [
              "310"
            ]
          },
          "metadata": {},
          "execution_count": 53
        }
      ]
    },
    {
      "cell_type": "code",
      "source": [
        "rata_rata_kalkulus = (80 + 85 + 85 + 95) / 4\n",
        "rata_rata_kalkulus"
      ],
      "metadata": {
        "colab": {
          "base_uri": "https://localhost:8080/"
        },
        "id": "wNkFwjEUjl3K",
        "outputId": "83b375eb-05d5-4748-dbe2-da76ef7a9e07"
      },
      "execution_count": null,
      "outputs": [
        {
          "output_type": "execute_result",
          "data": {
            "text/plain": [
              "86.25"
            ]
          },
          "metadata": {},
          "execution_count": 54
        }
      ]
    },
    {
      "cell_type": "code",
      "source": [
        "rata_rata_statiska = (75 + 80 + 85 + 90) / 4\n",
        "rata_rata_statiska"
      ],
      "metadata": {
        "colab": {
          "base_uri": "https://localhost:8080/"
        },
        "id": "oPwcYoU8kEPb",
        "outputId": "12633215-9938-48d8-bca5-5acf3a94d1d2"
      },
      "execution_count": null,
      "outputs": [
        {
          "output_type": "execute_result",
          "data": {
            "text/plain": [
              "82.5"
            ]
          },
          "metadata": {},
          "execution_count": 55
        }
      ]
    },
    {
      "cell_type": "code",
      "source": [
        "rata_rata_nilai_kuliah_kalkulus = (85+80+75+95+85+75+70+85+80) / 9\n",
        "rata_rata_nilai_kuliah_kalkulus"
      ],
      "metadata": {
        "colab": {
          "base_uri": "https://localhost:8080/"
        },
        "id": "IGwBS57p2uaO",
        "outputId": "c154cf94-97b9-4955-debd-2b96e473c703"
      },
      "execution_count": null,
      "outputs": [
        {
          "output_type": "execute_result",
          "data": {
            "text/plain": [
              "81.11111111111111"
            ]
          },
          "metadata": {},
          "execution_count": 3
        }
      ]
    },
    {
      "cell_type": "code",
      "source": [
        "rata_rata_nilai_kuliah_statiska = (75+90+80+80+85+90+75+85+75) / 9\n",
        "rata_rata_nilai_kuliah_statiska"
      ],
      "metadata": {
        "colab": {
          "base_uri": "https://localhost:8080/"
        },
        "id": "KEbdCZs4lk5j",
        "outputId": "d762794e-7000-42df-921e-587b7852e130"
      },
      "execution_count": null,
      "outputs": [
        {
          "output_type": "execute_result",
          "data": {
            "text/plain": [
              "81.66666666666667"
            ]
          },
          "metadata": {},
          "execution_count": 57
        }
      ]
    },
    {
      "cell_type": "code",
      "source": [
        "print('1.Rata-rata nilai shafira =' ,nilai_shafira)\n",
        "print('2.Jumlah nilai hanif dan andi =' ,jumlah_nilai_andi_dan_hanif)\n",
        "print('3.Rata-rata nilai kalkulus widya,Dhanar,Hikma dan Nedia =' , rata_rata_kalkulus)\n",
        "print('  Rata-rata nilai statiska widya,Dhanar,Hikma dan Nedua =' , rata_rata_statiska)\n",
        "print('4.Rata-rata nilai mata kuliah kalkulus =' ,rata_rata_nilai_kuliah_kalkulus)\n",
        "print('5.Rata-rata nilai mata kuliah statiska =' ,rata_rata_nilai_kuliah_statiska)"
      ],
      "metadata": {
        "colab": {
          "base_uri": "https://localhost:8080/"
        },
        "id": "xaovhRSLmvqf",
        "outputId": "a6011bae-9b3c-46ce-b442-187fae19e0cc"
      },
      "execution_count": null,
      "outputs": [
        {
          "output_type": "stream",
          "name": "stdout",
          "text": [
            "1.Rata-rata nilai shafira = 80.0\n",
            "2.Jumlah nilai hanif dan andi = 310\n",
            "3.Rata-rata nilai kalkulus widya,Dhanar,Hikma dan Nedia = 86.25\n",
            "  Rata-rata nilai statiska widya,Dhanar,Hikma dan Nedua = 82.5\n",
            "4.Rata-rata nilai mata kuliah kalkulus = 81.11111111111111\n",
            "5.Rata-rata nilai mata kuliah statiska = 81.66666666666667\n"
          ]
        }
      ]
    },
    {
      "cell_type": "markdown",
      "source": [
        "### LATIHAN 3"
      ],
      "metadata": {
        "id": "Ugb8DkKzpzPo"
      }
    },
    {
      "cell_type": "code",
      "source": [
        "masa_kerja = 10\n",
        "upah_perhari = 8*30000\n",
        "tunjangan  = 10/ 100\n",
        "upah_lembur  = 10000*5\n",
        "Gaji_Bulan_Agustus  =(31-3) * upah_perhari\n",
        "Jumlah_Tunjangan  = Gaji_Bulan_Agustus*tunjangan\n",
        "Gaji_Total  = Gaji_Bulan_Agustus+Jumlah_Tunjangan+upah_lembur\n",
        "print (Gaji_Bulan_Agustus)\n",
        "print (Jumlah_Tunjangan)\n",
        "print (Gaji_Total)"
      ],
      "metadata": {
        "colab": {
          "base_uri": "https://localhost:8080/"
        },
        "id": "eosWFKCdp6rB",
        "outputId": "d2ae9e6f-7055-491a-9a89-6981d097d1b8"
      },
      "execution_count": null,
      "outputs": [
        {
          "output_type": "stream",
          "name": "stdout",
          "text": [
            "6720000\n",
            "672000.0\n",
            "7442000.0\n"
          ]
        }
      ]
    }
  ]
}