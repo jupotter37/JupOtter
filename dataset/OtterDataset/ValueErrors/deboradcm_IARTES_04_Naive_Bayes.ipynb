{
  "cells": [
    {
      "cell_type": "markdown",
      "metadata": {
        "id": "view-in-github",
        "colab_type": "text"
      },
      "source": [
        "<a href=\"https://colab.research.google.com/github/deboradcm/IARTES/blob/master/04_Naive_Bayes.ipynb\" target=\"_parent\"><img src=\"https://colab.research.google.com/assets/colab-badge.svg\" alt=\"Open In Colab\"/></a>"
      ]
    },
    {
      "cell_type": "markdown",
      "id": "derived-meter",
      "metadata": {
        "id": "derived-meter"
      },
      "source": [
        "# Aula 07 - Naive Bayes"
      ]
    },
    {
      "cell_type": "markdown",
      "id": "downtown-tomato",
      "metadata": {
        "id": "downtown-tomato"
      },
      "source": [
        "**Índice**"
      ]
    },
    {
      "cell_type": "markdown",
      "id": "impaired-friend",
      "metadata": {
        "id": "impaired-friend"
      },
      "source": [
        "  - [Carregando o conjunto de dados](#Carregando-o-conjunto-de-dados)\n",
        "  - [Naive Bayes \"na mão\"](#Naive-Bayes-\"na-mão\")\n",
        "    - [Probabilidades a priori](#Probabilidades-a-priori)\n",
        "    - [Cálculo das verossimilhanças \"ingênuas\"](#Cálculo-das-verossimilhanças-\"ingênuas\")\n",
        "    - [Classificando um exemplo](#Classificando-um-exemplo)\n",
        "  - [Uma classe para Naive Bayes](#Uma-classe-para-Naive-Bayes)\n",
        "  - [Naive Bayes com o Scikit-Learn](#Naive-Bayes-com-o-Scikit-Learn)"
      ]
    },
    {
      "cell_type": "markdown",
      "id": "toxic-logic",
      "metadata": {
        "id": "toxic-logic"
      },
      "source": [
        "## Carregando o conjunto de dados"
      ]
    },
    {
      "cell_type": "markdown",
      "id": "empirical-minimum",
      "metadata": {
        "id": "empirical-minimum"
      },
      "source": [
        "Especifica o diretório onde os dados estão. Melhor usar em todos os *notebooks* para que você possa manter todos  arquivos de dados juntos.\n",
        "\n",
        "Caso a localização dos dados no seu computador seja diferente, troque a variável abaixo. Caso esteja no mesmo diretório (*e.g.*, no Colaboratory), coloque `DIR_DADOS = ./`."
      ]
    },
    {
      "cell_type": "code",
      "execution_count": null,
      "id": "latest-pearl",
      "metadata": {
        "id": "latest-pearl"
      },
      "outputs": [],
      "source": [
        "DIR_DADOS = '../dados/'"
      ]
    },
    {
      "cell_type": "markdown",
      "id": "creative-scenario",
      "metadata": {
        "id": "creative-scenario"
      },
      "source": [
        "Comandos iniciando com `!` são executados pelo *shell* do sistema operacional. Por exemplo, a imagem abaixo foi gerada quando o *notebook* foi executado pela última vez, mostrando o conteúdo do diretório `../dados`."
      ]
    },
    {
      "cell_type": "code",
      "execution_count": null,
      "id": "civic-corpus",
      "metadata": {
        "id": "civic-corpus",
        "colab": {
          "base_uri": "https://localhost:8080/"
        },
        "outputId": "3fdc0298-cb58-4319-9523-66086de926e1"
      },
      "outputs": [
        {
          "output_type": "stream",
          "name": "stdout",
          "text": [
            "ls: cannot access '../dados/': No such file or directory\n"
          ]
        }
      ],
      "source": [
        "!ls ../dados/"
      ]
    },
    {
      "cell_type": "markdown",
      "id": "vanilla-afghanistan",
      "metadata": {
        "id": "vanilla-afghanistan"
      },
      "source": [
        "Vamos trabalhar com o conjunto de dados `playtennis`, que está disponibilizado no ColabWeb como um arquivo CSV.\n",
        "\n",
        "O jeito mais fácil de trabalhar arquivos CSV em Python é utilizando o Pandas. Normalmente nós importamos o Pandas dando a ele o apelido `pd`."
      ]
    },
    {
      "cell_type": "code",
      "execution_count": null,
      "id": "political-blanket",
      "metadata": {
        "id": "political-blanket"
      },
      "outputs": [],
      "source": [
        "import pandas as pd"
      ]
    },
    {
      "cell_type": "markdown",
      "id": "thousand-handy",
      "metadata": {
        "id": "thousand-handy"
      },
      "source": [
        "A função `pandas.read_csv` lê o arquivo como CSV em um objeto `pandas.DataFrame`."
      ]
    },
    {
      "cell_type": "code",
      "execution_count": null,
      "id": "municipal-emerald",
      "metadata": {
        "id": "municipal-emerald",
        "colab": {
          "base_uri": "https://localhost:8080/",
          "height": 287
        },
        "outputId": "b99cd9c1-23a5-4b9e-b4dd-184d3f2c0cfa"
      },
      "outputs": [
        {
          "output_type": "error",
          "ename": "FileNotFoundError",
          "evalue": "[Errno 2] No such file or directory: '../dados/tennis.csv'",
          "traceback": [
            "\u001b[0;31m---------------------------------------------------------------------------\u001b[0m",
            "\u001b[0;31mFileNotFoundError\u001b[0m                         Traceback (most recent call last)",
            "\u001b[0;32m<ipython-input-5-fe06876df427>\u001b[0m in \u001b[0;36m<cell line: 1>\u001b[0;34m()\u001b[0m\n\u001b[0;32m----> 1\u001b[0;31m \u001b[0mtennis\u001b[0m \u001b[0;34m=\u001b[0m \u001b[0mpd\u001b[0m\u001b[0;34m.\u001b[0m\u001b[0mread_csv\u001b[0m\u001b[0;34m(\u001b[0m\u001b[0mDIR_DADOS\u001b[0m \u001b[0;34m+\u001b[0m \u001b[0;34m'tennis.csv'\u001b[0m\u001b[0;34m)\u001b[0m\u001b[0;34m\u001b[0m\u001b[0;34m\u001b[0m\u001b[0m\n\u001b[0m",
            "\u001b[0;32m/usr/local/lib/python3.10/dist-packages/pandas/util/_decorators.py\u001b[0m in \u001b[0;36mwrapper\u001b[0;34m(*args, **kwargs)\u001b[0m\n\u001b[1;32m    209\u001b[0m                 \u001b[0;32melse\u001b[0m\u001b[0;34m:\u001b[0m\u001b[0;34m\u001b[0m\u001b[0;34m\u001b[0m\u001b[0m\n\u001b[1;32m    210\u001b[0m                     \u001b[0mkwargs\u001b[0m\u001b[0;34m[\u001b[0m\u001b[0mnew_arg_name\u001b[0m\u001b[0;34m]\u001b[0m \u001b[0;34m=\u001b[0m \u001b[0mnew_arg_value\u001b[0m\u001b[0;34m\u001b[0m\u001b[0;34m\u001b[0m\u001b[0m\n\u001b[0;32m--> 211\u001b[0;31m             \u001b[0;32mreturn\u001b[0m \u001b[0mfunc\u001b[0m\u001b[0;34m(\u001b[0m\u001b[0;34m*\u001b[0m\u001b[0margs\u001b[0m\u001b[0;34m,\u001b[0m \u001b[0;34m**\u001b[0m\u001b[0mkwargs\u001b[0m\u001b[0;34m)\u001b[0m\u001b[0;34m\u001b[0m\u001b[0;34m\u001b[0m\u001b[0m\n\u001b[0m\u001b[1;32m    212\u001b[0m \u001b[0;34m\u001b[0m\u001b[0m\n\u001b[1;32m    213\u001b[0m         \u001b[0;32mreturn\u001b[0m \u001b[0mcast\u001b[0m\u001b[0;34m(\u001b[0m\u001b[0mF\u001b[0m\u001b[0;34m,\u001b[0m \u001b[0mwrapper\u001b[0m\u001b[0;34m)\u001b[0m\u001b[0;34m\u001b[0m\u001b[0;34m\u001b[0m\u001b[0m\n",
            "\u001b[0;32m/usr/local/lib/python3.10/dist-packages/pandas/util/_decorators.py\u001b[0m in \u001b[0;36mwrapper\u001b[0;34m(*args, **kwargs)\u001b[0m\n\u001b[1;32m    329\u001b[0m                     \u001b[0mstacklevel\u001b[0m\u001b[0;34m=\u001b[0m\u001b[0mfind_stack_level\u001b[0m\u001b[0;34m(\u001b[0m\u001b[0;34m)\u001b[0m\u001b[0;34m,\u001b[0m\u001b[0;34m\u001b[0m\u001b[0;34m\u001b[0m\u001b[0m\n\u001b[1;32m    330\u001b[0m                 )\n\u001b[0;32m--> 331\u001b[0;31m             \u001b[0;32mreturn\u001b[0m \u001b[0mfunc\u001b[0m\u001b[0;34m(\u001b[0m\u001b[0;34m*\u001b[0m\u001b[0margs\u001b[0m\u001b[0;34m,\u001b[0m \u001b[0;34m**\u001b[0m\u001b[0mkwargs\u001b[0m\u001b[0;34m)\u001b[0m\u001b[0;34m\u001b[0m\u001b[0;34m\u001b[0m\u001b[0m\n\u001b[0m\u001b[1;32m    332\u001b[0m \u001b[0;34m\u001b[0m\u001b[0m\n\u001b[1;32m    333\u001b[0m         \u001b[0;31m# error: \"Callable[[VarArg(Any), KwArg(Any)], Any]\" has no\u001b[0m\u001b[0;34m\u001b[0m\u001b[0;34m\u001b[0m\u001b[0m\n",
            "\u001b[0;32m/usr/local/lib/python3.10/dist-packages/pandas/io/parsers/readers.py\u001b[0m in \u001b[0;36mread_csv\u001b[0;34m(filepath_or_buffer, sep, delimiter, header, names, index_col, usecols, squeeze, prefix, mangle_dupe_cols, dtype, engine, converters, true_values, false_values, skipinitialspace, skiprows, skipfooter, nrows, na_values, keep_default_na, na_filter, verbose, skip_blank_lines, parse_dates, infer_datetime_format, keep_date_col, date_parser, dayfirst, cache_dates, iterator, chunksize, compression, thousands, decimal, lineterminator, quotechar, quoting, doublequote, escapechar, comment, encoding, encoding_errors, dialect, error_bad_lines, warn_bad_lines, on_bad_lines, delim_whitespace, low_memory, memory_map, float_precision, storage_options)\u001b[0m\n\u001b[1;32m    948\u001b[0m     \u001b[0mkwds\u001b[0m\u001b[0;34m.\u001b[0m\u001b[0mupdate\u001b[0m\u001b[0;34m(\u001b[0m\u001b[0mkwds_defaults\u001b[0m\u001b[0;34m)\u001b[0m\u001b[0;34m\u001b[0m\u001b[0;34m\u001b[0m\u001b[0m\n\u001b[1;32m    949\u001b[0m \u001b[0;34m\u001b[0m\u001b[0m\n\u001b[0;32m--> 950\u001b[0;31m     \u001b[0;32mreturn\u001b[0m \u001b[0m_read\u001b[0m\u001b[0;34m(\u001b[0m\u001b[0mfilepath_or_buffer\u001b[0m\u001b[0;34m,\u001b[0m \u001b[0mkwds\u001b[0m\u001b[0;34m)\u001b[0m\u001b[0;34m\u001b[0m\u001b[0;34m\u001b[0m\u001b[0m\n\u001b[0m\u001b[1;32m    951\u001b[0m \u001b[0;34m\u001b[0m\u001b[0m\n\u001b[1;32m    952\u001b[0m \u001b[0;34m\u001b[0m\u001b[0m\n",
            "\u001b[0;32m/usr/local/lib/python3.10/dist-packages/pandas/io/parsers/readers.py\u001b[0m in \u001b[0;36m_read\u001b[0;34m(filepath_or_buffer, kwds)\u001b[0m\n\u001b[1;32m    603\u001b[0m \u001b[0;34m\u001b[0m\u001b[0m\n\u001b[1;32m    604\u001b[0m     \u001b[0;31m# Create the parser.\u001b[0m\u001b[0;34m\u001b[0m\u001b[0;34m\u001b[0m\u001b[0m\n\u001b[0;32m--> 605\u001b[0;31m     \u001b[0mparser\u001b[0m \u001b[0;34m=\u001b[0m \u001b[0mTextFileReader\u001b[0m\u001b[0;34m(\u001b[0m\u001b[0mfilepath_or_buffer\u001b[0m\u001b[0;34m,\u001b[0m \u001b[0;34m**\u001b[0m\u001b[0mkwds\u001b[0m\u001b[0;34m)\u001b[0m\u001b[0;34m\u001b[0m\u001b[0;34m\u001b[0m\u001b[0m\n\u001b[0m\u001b[1;32m    606\u001b[0m \u001b[0;34m\u001b[0m\u001b[0m\n\u001b[1;32m    607\u001b[0m     \u001b[0;32mif\u001b[0m \u001b[0mchunksize\u001b[0m \u001b[0;32mor\u001b[0m \u001b[0miterator\u001b[0m\u001b[0;34m:\u001b[0m\u001b[0;34m\u001b[0m\u001b[0;34m\u001b[0m\u001b[0m\n",
            "\u001b[0;32m/usr/local/lib/python3.10/dist-packages/pandas/io/parsers/readers.py\u001b[0m in \u001b[0;36m__init__\u001b[0;34m(self, f, engine, **kwds)\u001b[0m\n\u001b[1;32m   1440\u001b[0m \u001b[0;34m\u001b[0m\u001b[0m\n\u001b[1;32m   1441\u001b[0m         \u001b[0mself\u001b[0m\u001b[0;34m.\u001b[0m\u001b[0mhandles\u001b[0m\u001b[0;34m:\u001b[0m \u001b[0mIOHandles\u001b[0m \u001b[0;34m|\u001b[0m \u001b[0;32mNone\u001b[0m \u001b[0;34m=\u001b[0m \u001b[0;32mNone\u001b[0m\u001b[0;34m\u001b[0m\u001b[0;34m\u001b[0m\u001b[0m\n\u001b[0;32m-> 1442\u001b[0;31m         \u001b[0mself\u001b[0m\u001b[0;34m.\u001b[0m\u001b[0m_engine\u001b[0m \u001b[0;34m=\u001b[0m \u001b[0mself\u001b[0m\u001b[0;34m.\u001b[0m\u001b[0m_make_engine\u001b[0m\u001b[0;34m(\u001b[0m\u001b[0mf\u001b[0m\u001b[0;34m,\u001b[0m \u001b[0mself\u001b[0m\u001b[0;34m.\u001b[0m\u001b[0mengine\u001b[0m\u001b[0;34m)\u001b[0m\u001b[0;34m\u001b[0m\u001b[0;34m\u001b[0m\u001b[0m\n\u001b[0m\u001b[1;32m   1443\u001b[0m \u001b[0;34m\u001b[0m\u001b[0m\n\u001b[1;32m   1444\u001b[0m     \u001b[0;32mdef\u001b[0m \u001b[0mclose\u001b[0m\u001b[0;34m(\u001b[0m\u001b[0mself\u001b[0m\u001b[0;34m)\u001b[0m \u001b[0;34m->\u001b[0m \u001b[0;32mNone\u001b[0m\u001b[0;34m:\u001b[0m\u001b[0;34m\u001b[0m\u001b[0;34m\u001b[0m\u001b[0m\n",
            "\u001b[0;32m/usr/local/lib/python3.10/dist-packages/pandas/io/parsers/readers.py\u001b[0m in \u001b[0;36m_make_engine\u001b[0;34m(self, f, engine)\u001b[0m\n\u001b[1;32m   1733\u001b[0m                 \u001b[0;32mif\u001b[0m \u001b[0;34m\"b\"\u001b[0m \u001b[0;32mnot\u001b[0m \u001b[0;32min\u001b[0m \u001b[0mmode\u001b[0m\u001b[0;34m:\u001b[0m\u001b[0;34m\u001b[0m\u001b[0;34m\u001b[0m\u001b[0m\n\u001b[1;32m   1734\u001b[0m                     \u001b[0mmode\u001b[0m \u001b[0;34m+=\u001b[0m \u001b[0;34m\"b\"\u001b[0m\u001b[0;34m\u001b[0m\u001b[0;34m\u001b[0m\u001b[0m\n\u001b[0;32m-> 1735\u001b[0;31m             self.handles = get_handle(\n\u001b[0m\u001b[1;32m   1736\u001b[0m                 \u001b[0mf\u001b[0m\u001b[0;34m,\u001b[0m\u001b[0;34m\u001b[0m\u001b[0;34m\u001b[0m\u001b[0m\n\u001b[1;32m   1737\u001b[0m                 \u001b[0mmode\u001b[0m\u001b[0;34m,\u001b[0m\u001b[0;34m\u001b[0m\u001b[0;34m\u001b[0m\u001b[0m\n",
            "\u001b[0;32m/usr/local/lib/python3.10/dist-packages/pandas/io/common.py\u001b[0m in \u001b[0;36mget_handle\u001b[0;34m(path_or_buf, mode, encoding, compression, memory_map, is_text, errors, storage_options)\u001b[0m\n\u001b[1;32m    854\u001b[0m         \u001b[0;32mif\u001b[0m \u001b[0mioargs\u001b[0m\u001b[0;34m.\u001b[0m\u001b[0mencoding\u001b[0m \u001b[0;32mand\u001b[0m \u001b[0;34m\"b\"\u001b[0m \u001b[0;32mnot\u001b[0m \u001b[0;32min\u001b[0m \u001b[0mioargs\u001b[0m\u001b[0;34m.\u001b[0m\u001b[0mmode\u001b[0m\u001b[0;34m:\u001b[0m\u001b[0;34m\u001b[0m\u001b[0;34m\u001b[0m\u001b[0m\n\u001b[1;32m    855\u001b[0m             \u001b[0;31m# Encoding\u001b[0m\u001b[0;34m\u001b[0m\u001b[0;34m\u001b[0m\u001b[0m\n\u001b[0;32m--> 856\u001b[0;31m             handle = open(\n\u001b[0m\u001b[1;32m    857\u001b[0m                 \u001b[0mhandle\u001b[0m\u001b[0;34m,\u001b[0m\u001b[0;34m\u001b[0m\u001b[0;34m\u001b[0m\u001b[0m\n\u001b[1;32m    858\u001b[0m                 \u001b[0mioargs\u001b[0m\u001b[0;34m.\u001b[0m\u001b[0mmode\u001b[0m\u001b[0;34m,\u001b[0m\u001b[0;34m\u001b[0m\u001b[0;34m\u001b[0m\u001b[0m\n",
            "\u001b[0;31mFileNotFoundError\u001b[0m: [Errno 2] No such file or directory: '../dados/tennis.csv'"
          ]
        }
      ],
      "source": [
        "tennis = pd.read_csv(DIR_DADOS + 'tennis.csv')"
      ]
    },
    {
      "cell_type": "code",
      "execution_count": null,
      "id": "foreign-neutral",
      "metadata": {
        "id": "foreign-neutral"
      },
      "outputs": [],
      "source": [
        "type(tennis)"
      ]
    },
    {
      "cell_type": "markdown",
      "id": "divine-algorithm",
      "metadata": {
        "id": "divine-algorithm"
      },
      "source": [
        "O *data frame* é uma estrutura de dados que se comporta como uma matriz que contém dois índices."
      ]
    },
    {
      "cell_type": "code",
      "execution_count": null,
      "id": "public-purse",
      "metadata": {
        "id": "public-purse"
      },
      "outputs": [],
      "source": [
        "tennis"
      ]
    },
    {
      "cell_type": "markdown",
      "id": "royal-toronto",
      "metadata": {
        "id": "royal-toronto"
      },
      "source": [
        "Eis o índice das colunas..."
      ]
    },
    {
      "cell_type": "code",
      "execution_count": null,
      "id": "gothic-guide",
      "metadata": {
        "id": "gothic-guide"
      },
      "outputs": [],
      "source": [
        "tennis.columns"
      ]
    },
    {
      "cell_type": "markdown",
      "id": "advance-century",
      "metadata": {
        "id": "advance-century"
      },
      "source": [
        "E o índice das linhas:"
      ]
    },
    {
      "cell_type": "code",
      "execution_count": null,
      "id": "handed-habitat",
      "metadata": {
        "id": "handed-habitat"
      },
      "outputs": [],
      "source": [
        "tennis.index"
      ]
    },
    {
      "cell_type": "markdown",
      "id": "executive-radius",
      "metadata": {
        "id": "executive-radius"
      },
      "source": [
        "Se você utilizar o operador sobrecarregado `[]`, você pode acessar uma coluna por meio de sua chave no índice. Por exemplo:"
      ]
    },
    {
      "cell_type": "code",
      "execution_count": null,
      "id": "internal-beaver",
      "metadata": {
        "id": "internal-beaver"
      },
      "outputs": [],
      "source": [
        "tennis['aparencia']"
      ]
    },
    {
      "cell_type": "markdown",
      "id": "exact-float",
      "metadata": {
        "id": "exact-float"
      },
      "source": [
        "Quando você acessa uma coluna ou uma linha em um *data frame*, o resultado é um objeto da classe `Series`, também do Pandas.\n",
        "\n",
        "Se o *data frame* é uma matriz com dois índices, então a série é um vetor com um único índice. No caso do acesso às colunas, o índice da série é o índice das linhas do *data frame*."
      ]
    },
    {
      "cell_type": "code",
      "execution_count": null,
      "id": "facial-celebration",
      "metadata": {
        "id": "facial-celebration"
      },
      "outputs": [],
      "source": [
        "type(tennis['aparencia'])"
      ]
    },
    {
      "cell_type": "markdown",
      "id": "beneficial-submission",
      "metadata": {
        "id": "beneficial-submission"
      },
      "source": [
        "Além do acesso implícito por meio do operador sobrecarregado `[]`, o `DataFrame` permite acecssar de maneira explícita o índice `iloc`, que é puramente posicional, e o índice `loc`, que usa chaves para encontrar as linhas e as colunas."
      ]
    },
    {
      "cell_type": "code",
      "execution_count": null,
      "id": "bulgarian-jefferson",
      "metadata": {
        "id": "bulgarian-jefferson"
      },
      "outputs": [],
      "source": [
        "tennis.loc[3, 'aparencia']"
      ]
    },
    {
      "cell_type": "code",
      "execution_count": null,
      "id": "invalid-vietnam",
      "metadata": {
        "id": "invalid-vietnam"
      },
      "outputs": [],
      "source": [
        "tennis.iloc[0, 1]"
      ]
    },
    {
      "cell_type": "markdown",
      "id": "forbidden-lodge",
      "metadata": {
        "id": "forbidden-lodge"
      },
      "source": [
        "Para vermos os valores únicos, podemos usar o método `drop_duplicates()` do Series."
      ]
    },
    {
      "cell_type": "code",
      "execution_count": null,
      "id": "addressed-precipitation",
      "metadata": {
        "id": "addressed-precipitation"
      },
      "outputs": [],
      "source": [
        "tennis['aparencia'].drop_duplicates()"
      ]
    },
    {
      "cell_type": "code",
      "execution_count": null,
      "id": "neither-tourist",
      "metadata": {
        "id": "neither-tourist"
      },
      "outputs": [],
      "source": [
        "tennis['aparencia'].value_counts()"
      ]
    },
    {
      "cell_type": "markdown",
      "id": "unusual-border",
      "metadata": {
        "id": "unusual-border"
      },
      "source": [
        "## Naive Bayes \"na mão\""
      ]
    },
    {
      "cell_type": "markdown",
      "id": "latin-solomon",
      "metadata": {
        "id": "latin-solomon"
      },
      "source": [
        "Vamos implementar primeiro o Naive Bayes. Vamos praticar um pouco manipulando o *data frame*. Depois vamos escrever uma classse que faz o treinamento, isto é, que aprende os parâmetros para generalizar os dados passados."
      ]
    },
    {
      "cell_type": "markdown",
      "id": "prerequisite-marker",
      "metadata": {
        "id": "prerequisite-marker"
      },
      "source": [
        "### Probabilidades a priori"
      ]
    },
    {
      "cell_type": "markdown",
      "id": "official-lambda",
      "metadata": {
        "id": "official-lambda"
      },
      "source": [
        "Vamos começar calculando as probabilidades priori. Neste momento, vamos fazer isso especificamente para o problema `playtennis`, fazendo uso do conhecimento que existem duas classes.\n",
        "\n",
        "Para calcular as prioris, fazemos a contagem dos exemplos do conjunto de treinamento para estimar as frequências de ambas as classes.\n",
        "\n",
        "Primeiro, separamos os exemplos da classe positiva dos exemplos da classe negativa."
      ]
    },
    {
      "cell_type": "code",
      "execution_count": null,
      "id": "surgical-policy",
      "metadata": {
        "id": "surgical-policy"
      },
      "outputs": [],
      "source": [
        "idx_sim = tennis['jogar'] == 'sim'"
      ]
    },
    {
      "cell_type": "markdown",
      "id": "quick-operation",
      "metadata": {
        "id": "quick-operation"
      },
      "source": [
        "Essa comparação vai produzir uma máscara, um índice de onde se encontram os exemplos da classe positiva."
      ]
    },
    {
      "cell_type": "code",
      "execution_count": null,
      "id": "mental-delicious",
      "metadata": {
        "id": "mental-delicious"
      },
      "outputs": [],
      "source": [
        "idx_sim"
      ]
    },
    {
      "cell_type": "markdown",
      "id": "synthetic-captain",
      "metadata": {
        "id": "synthetic-captain"
      },
      "source": [
        "Utilizando o operador de negação bit-a-bit, podemos gerar a máscara dos exemplos negativos:"
      ]
    },
    {
      "cell_type": "code",
      "execution_count": null,
      "id": "floral-radius",
      "metadata": {
        "id": "floral-radius"
      },
      "outputs": [],
      "source": [
        "idx_nao = ~idx_sim"
      ]
    },
    {
      "cell_type": "code",
      "execution_count": null,
      "id": "scientific-lodging",
      "metadata": {
        "id": "scientific-lodging"
      },
      "outputs": [],
      "source": [
        "idx_nao"
      ]
    },
    {
      "cell_type": "markdown",
      "id": "prime-distinction",
      "metadata": {
        "id": "prime-distinction"
      },
      "source": [
        "Agora, aplicando essa máscara no *data frame*, podemos obter apenas as linhas que contém exemplos positivos ou negativos."
      ]
    },
    {
      "cell_type": "code",
      "execution_count": null,
      "id": "mexican-collapse",
      "metadata": {
        "id": "mexican-collapse"
      },
      "outputs": [],
      "source": [
        "exemplos_sim = tennis[idx_sim]"
      ]
    },
    {
      "cell_type": "code",
      "execution_count": null,
      "id": "attractive-grammar",
      "metadata": {
        "id": "attractive-grammar"
      },
      "outputs": [],
      "source": [
        "exemplos_sim"
      ]
    },
    {
      "cell_type": "markdown",
      "id": "attempted-proof",
      "metadata": {
        "id": "attempted-proof"
      },
      "source": [
        "As primeiras frequências que precisamos guardar é, portanto, a frequência das duas classes. Ou seja, as probabilidades a priori."
      ]
    },
    {
      "cell_type": "code",
      "execution_count": null,
      "id": "complimentary-model",
      "metadata": {
        "id": "complimentary-model"
      },
      "outputs": [],
      "source": [
        "exemplos_nao = tennis[idx_nao]"
      ]
    },
    {
      "cell_type": "code",
      "execution_count": null,
      "id": "imperial-assist",
      "metadata": {
        "id": "imperial-assist"
      },
      "outputs": [],
      "source": [
        "exemplos_nao"
      ]
    },
    {
      "cell_type": "markdown",
      "id": "ideal-difference",
      "metadata": {
        "id": "ideal-difference"
      },
      "source": [
        "Excelente.\n",
        "\n",
        "O próximo passo é calcular os números de exemplos. As classes do Pandas (e também as do NumPy) possuem um atributo chamado `shape` que armazena os tamanhos das dimensões dos objetos.\n",
        "\n",
        "No caso de *data frames*, a propriedade `pandas.DataFrame.shape` é uma tupla com dois valores. O primeiro é o número de linhas e o segundo é o número de colunas. Usaremos essa informação para calcular o número de exemplos de cada classe."
      ]
    },
    {
      "cell_type": "code",
      "execution_count": null,
      "id": "blond-harris",
      "metadata": {
        "id": "blond-harris"
      },
      "outputs": [],
      "source": [
        "tennis.shape"
      ]
    },
    {
      "cell_type": "code",
      "execution_count": null,
      "id": "verbal-explanation",
      "metadata": {
        "id": "verbal-explanation"
      },
      "outputs": [],
      "source": [
        "num_sim = exemplos_sim.shape[0]\n",
        "num_sim"
      ]
    },
    {
      "cell_type": "code",
      "execution_count": null,
      "id": "parallel-drive",
      "metadata": {
        "id": "parallel-drive"
      },
      "outputs": [],
      "source": [
        "num_nao = exemplos_nao.shape[0]\n",
        "num_nao"
      ]
    },
    {
      "cell_type": "markdown",
      "id": "lasting-fiber",
      "metadata": {
        "id": "lasting-fiber"
      },
      "source": [
        "Vamos criar um dicionário chamado `nb_tennis` no qual iremos guardar todas as probabilidades (prioris e verossimilhanças)."
      ]
    },
    {
      "cell_type": "code",
      "execution_count": null,
      "id": "powered-marble",
      "metadata": {
        "id": "powered-marble"
      },
      "outputs": [],
      "source": [
        "nb_tennis = {}"
      ]
    },
    {
      "cell_type": "code",
      "execution_count": null,
      "id": "tutorial-alabama",
      "metadata": {
        "id": "tutorial-alabama"
      },
      "outputs": [],
      "source": [
        "nb_tennis['sim'] = num_sim / (num_sim + num_nao)"
      ]
    },
    {
      "cell_type": "code",
      "execution_count": null,
      "id": "textile-insulin",
      "metadata": {
        "id": "textile-insulin"
      },
      "outputs": [],
      "source": [
        "nb_tennis['nao'] = num_nao / (num_sim + num_nao)"
      ]
    },
    {
      "cell_type": "code",
      "execution_count": null,
      "id": "acknowledged-blink",
      "metadata": {
        "id": "acknowledged-blink"
      },
      "outputs": [],
      "source": [
        "nb_tennis"
      ]
    },
    {
      "cell_type": "markdown",
      "id": "arbitrary-chemistry",
      "metadata": {
        "id": "arbitrary-chemistry"
      },
      "source": [
        "### Adendo: *list comprehensions*, *lambda*"
      ]
    },
    {
      "cell_type": "markdown",
      "id": "dimensional-bracket",
      "metadata": {
        "id": "dimensional-bracket"
      },
      "source": [
        "O restante dos cálculos poderia ser feito de duas formas. A primeira é com \"programação tradicional\", usando `for`, iteradores e acumuladores. Mas podemos utilizar recursos de programação funcional do Python para fazer a mesma coisa mais rapidamente."
      ]
    },
    {
      "cell_type": "markdown",
      "id": "diverse-radical",
      "metadata": {
        "id": "diverse-radical"
      },
      "source": [
        "O primeiro recurso que vamos utilizar aqui é o de função lambda. A função lambda é uma função anônima que pode ser declarada como uma expressão.\n",
        "\n",
        "Uma declaração \"tradicional\" de função é feita com `def`. Nome a sintaxe:\n",
        "\n",
        "    def IDENTIFICADOR(PARAMETROS):\n",
        "        CORPO\n",
        "\n",
        "Quando essa declaração é executada, um nome é definido e associado à função."
      ]
    },
    {
      "cell_type": "code",
      "execution_count": null,
      "id": "loving-pocket",
      "metadata": {
        "id": "loving-pocket"
      },
      "outputs": [],
      "source": [
        "def fsoma(x, y):\n",
        "    return x + y"
      ]
    },
    {
      "cell_type": "code",
      "execution_count": null,
      "id": "american-brunswick",
      "metadata": {
        "id": "american-brunswick"
      },
      "outputs": [],
      "source": [
        "type(fsoma)"
      ]
    },
    {
      "cell_type": "markdown",
      "id": "ceramic-astrology",
      "metadata": {
        "id": "ceramic-astrology"
      },
      "source": [
        "Se utilizarmos esse nome em uma chamada, a função é executada e o valor retornado é avaliado como a saída da célula."
      ]
    },
    {
      "cell_type": "code",
      "execution_count": null,
      "id": "varied-garden",
      "metadata": {
        "id": "varied-garden"
      },
      "outputs": [],
      "source": [
        "fsoma(4, 2)"
      ]
    },
    {
      "cell_type": "markdown",
      "id": "advised-spirit",
      "metadata": {
        "id": "advised-spirit"
      },
      "source": [
        "A mesma função poderia ser definida com expressão lambda. A expressão lambda cria uma função anônima, que podemos referenciar com uma variável.\n",
        "\n",
        "A sintaxe é bem parecida. Compare:\n",
        "\n",
        "```Python\n",
        "def    fsoma(x, y): return x + y\n",
        "lambda       x, y :        x + y\n",
        "```\n",
        "      \n",
        "Essencialmente, a palavra `def` é substituída pela palavra `lambda` e, como a função lambda é anônima, o identificador da função some. Os parênteses na lista de parâmetros são desnecessários. E, como tudo o que uma função lambda pode fazer é executar um único comando `return`, a palavra `return` também é desnecessária.\n",
        "\n",
        "Para não perdermos acesso à função anônima, iremos referenciá-la com uma variável."
      ]
    },
    {
      "cell_type": "code",
      "execution_count": null,
      "id": "saved-republic",
      "metadata": {
        "id": "saved-republic"
      },
      "outputs": [],
      "source": [
        "lsoma = lambda x, y: x + y"
      ]
    },
    {
      "cell_type": "markdown",
      "id": "decent-majority",
      "metadata": {
        "id": "decent-majority"
      },
      "source": [
        "Essa variável pode ser utilizada do mesmo jeito que o identificador de funções é utilizado:"
      ]
    },
    {
      "cell_type": "code",
      "execution_count": null,
      "id": "freelance-survival",
      "metadata": {
        "id": "freelance-survival"
      },
      "outputs": [],
      "source": [
        "lsoma(4, 2)"
      ]
    },
    {
      "cell_type": "markdown",
      "id": "pressed-keyboard",
      "metadata": {
        "id": "pressed-keyboard"
      },
      "source": [
        "O segundo recurso que vamos utilizar aqui é o de *list comprehension* ou compreensão de listas. A compreensão de lsitas permite declarar listas com uma notação semelhante à que utilizamos na matemática para descrever conjuntos implícitos.\n",
        "\n",
        "Por exemplo, o conjunto de todos os números quadrados no intervalo $[0,10]$ pode ser descrito da seguinte forma:\n",
        "\n",
        "$$\\{x^2 | 0 \\leq x \\leq 10 \\wedge x \\in \\mathbb{Z}\\}$$\n",
        "\n",
        "Em Python, uma lista com esses valores poderia ser escrita da seguinte maneira:"
      ]
    },
    {
      "cell_type": "code",
      "execution_count": null,
      "id": "damaged-plain",
      "metadata": {
        "id": "damaged-plain"
      },
      "outputs": [],
      "source": [
        "[x**2 for x in range(11)]"
      ]
    },
    {
      "cell_type": "markdown",
      "id": "joined-methodology",
      "metadata": {
        "id": "joined-methodology"
      },
      "source": [
        "A notação é:\n",
        "\n",
        "```Python\n",
        "[EXPRESSAO for VARIAVEL in CONJUNTO]\n",
        "```\n",
        "\n",
        "Nesse caso, `range(11)` sozinho já especifica ao mesmo tempo que todos os valores estão no intervalo $[0, 10]$ e também que são números inteiros.\n",
        "\n",
        "Na compreensão de listas também podemos especificar uma condição. Por exemplo, se quisermos todos os números pares entre 0 e 10, a notação matemática é:\n",
        "\n",
        "$$\\{x | 0 \\leq x \\leq 100 \\wedge x \\in \\mathbb{Z} \\wedge x \\equiv 0 (\\text{mod } 2)\\}$$\n",
        "\n",
        "Em Python, as condições da compreensão de listas podem ser especificadas com um `if`:"
      ]
    },
    {
      "cell_type": "code",
      "execution_count": null,
      "id": "arctic-suggestion",
      "metadata": {
        "id": "arctic-suggestion"
      },
      "outputs": [],
      "source": [
        "[x for x in range(11) if x % 2 == 0]"
      ]
    },
    {
      "cell_type": "markdown",
      "id": "ready-columbus",
      "metadata": {
        "id": "ready-columbus"
      },
      "source": [
        "No restante do *notebook*, vamos ver os comandos com compreensão de listas."
      ]
    },
    {
      "cell_type": "markdown",
      "id": "disabled-shepherd",
      "metadata": {
        "id": "disabled-shepherd"
      },
      "source": [
        "### Cálculo das verossimilhanças \"ingênuas\""
      ]
    },
    {
      "cell_type": "markdown",
      "id": "political-upper",
      "metadata": {
        "id": "political-upper"
      },
      "source": [
        "Agora vamos calcular as verossimilhanças. Para isso, faremos uso do método `value_counts()`, que retorna uma contagem de cada valor de uma série.\n",
        "\n",
        "Por exemplo, se quisermos saber quantas vezes cada valor de aparência aparece na coluna `aparencia`, podemos fazer o seguinte:"
      ]
    },
    {
      "cell_type": "code",
      "execution_count": null,
      "id": "interior-newfoundland",
      "metadata": {
        "id": "interior-newfoundland"
      },
      "outputs": [],
      "source": [
        "tennis['aparencia'].value_counts()"
      ]
    },
    {
      "cell_type": "markdown",
      "id": "municipal-entertainment",
      "metadata": {
        "id": "municipal-entertainment"
      },
      "source": [
        "Se fizermos isso apenas para os exemplos da classe positiva e depois dividirmos pelo número de exemplos dessa classe, o resultado será $p(\\textsf{aparencia}=x_i|\\textsf{sim})$ para cada valor $x_i$ do atributo `aparencia`:"
      ]
    },
    {
      "cell_type": "code",
      "execution_count": null,
      "id": "under-consumer",
      "metadata": {
        "id": "under-consumer"
      },
      "outputs": [],
      "source": [
        "exemplos_sim['aparencia'].value_counts() / num_sim"
      ]
    },
    {
      "cell_type": "markdown",
      "id": "architectural-pharmacology",
      "metadata": {
        "id": "architectural-pharmacology"
      },
      "source": [
        "Fascinante!\n",
        "\n",
        "Então, vamos fazer a mesma coisa para todos os atributos. Primeiro, vamos declarar uma lista que contém todos os nomes dos atributos. Essa lista vai nos ajudar a montar a compreensão de lista depois."
      ]
    },
    {
      "cell_type": "code",
      "execution_count": null,
      "id": "knowing-mauritius",
      "metadata": {
        "id": "knowing-mauritius"
      },
      "outputs": [],
      "source": [
        "atributos = ['aparencia', 'temperatura', 'umidade', 'vento']\n",
        "atributos"
      ]
    },
    {
      "cell_type": "markdown",
      "id": "governmental-brief",
      "metadata": {
        "id": "governmental-brief"
      },
      "source": [
        "Veja que é bem semelhante ao exemplo anterior. Se tivermos uma compreensão `[EXPRESSÃO for VAR in atributos]`, então a lista será construída com base na expressão para cada valor da lista `atributos`.\n",
        "\n",
        "Se a expressão for simplesmente o nome da variável, então o resultado será uma cópia da lista original:"
      ]
    },
    {
      "cell_type": "code",
      "execution_count": null,
      "id": "worthy-grass",
      "metadata": {
        "id": "worthy-grass"
      },
      "outputs": [],
      "source": [
        "[X for X in atributos]"
      ]
    },
    {
      "cell_type": "markdown",
      "id": "verbal-newcastle",
      "metadata": {
        "id": "verbal-newcastle"
      },
      "source": [
        "Mas podemos usar a variável em algumas expressões mais interessantes. Por exemplo, se fizermos `len(X)`, então o resultado será uma lista equivalente à seguinte:\n",
        "\n",
        "```Python\n",
        "[len(atributos[0]), len(atributos[1]), len(atributos[2]), len(atributos[3])]\n",
        "```"
      ]
    },
    {
      "cell_type": "code",
      "execution_count": null,
      "id": "bronze-optics",
      "metadata": {
        "id": "bronze-optics"
      },
      "outputs": [],
      "source": [
        "[len(X) for X in atributos]"
      ]
    },
    {
      "cell_type": "markdown",
      "id": "white-senegal",
      "metadata": {
        "id": "white-senegal"
      },
      "source": [
        "Da mesma maneira, podemos usar `X` em uma expressão que obtém as verossimilhanças:"
      ]
    },
    {
      "cell_type": "code",
      "execution_count": null,
      "id": "decent-polls",
      "metadata": {
        "id": "decent-polls"
      },
      "outputs": [],
      "source": [
        "freq_sim = [exemplos_sim[X].value_counts() / num_sim for X in atributos]\n",
        "freq_sim"
      ]
    },
    {
      "cell_type": "markdown",
      "id": "portable-anger",
      "metadata": {
        "id": "portable-anger"
      },
      "source": [
        "Esse código seria equivalente ao seguinte:\n",
        "\n",
        "```Python\n",
        "# Cria uma lista com o tamanho certo e valores iniciais quaiser\n",
        "freq_sim = []\n",
        "for X in atributos:\n",
        "    freq_sim.append(exemplos_sim[X].value_counts() / num_sim)\n",
        "```\n",
        "\n",
        "Note como a compreensão de listas é be mais expressiva. Além disso, em muitas situações ela pode ser bem mais eficiente. Por exemplo, na compreensão de lista o tamanho da lista não muda com cada iteração do laço `for`.\n",
        "\n",
        "Agora fazemos o mesmo para a verossimilhanças da classe negativa."
      ]
    },
    {
      "cell_type": "code",
      "execution_count": null,
      "id": "inappropriate-evidence",
      "metadata": {
        "id": "inappropriate-evidence"
      },
      "outputs": [],
      "source": [
        "freq_nao = [tennis[idx_nao][X].value_counts() / num_nao for X in atributos]\n",
        "freq_nao"
      ]
    },
    {
      "cell_type": "markdown",
      "id": "perceived-fifteen",
      "metadata": {
        "id": "perceived-fifteen"
      },
      "source": [
        "E finalmente guardamos o resultado no dicionário."
      ]
    },
    {
      "cell_type": "code",
      "execution_count": null,
      "id": "individual-jenny",
      "metadata": {
        "id": "individual-jenny"
      },
      "outputs": [],
      "source": [
        "nb_tennis['vsim'] = freq_sim\n",
        "nb_tennis['vnao'] = freq_nao"
      ]
    },
    {
      "cell_type": "code",
      "execution_count": null,
      "id": "alike-premises",
      "metadata": {
        "id": "alike-premises"
      },
      "outputs": [],
      "source": [
        "nb_tennis"
      ]
    },
    {
      "cell_type": "markdown",
      "id": "circular-budget",
      "metadata": {
        "id": "circular-budget"
      },
      "source": [
        "### Classificando um exemplo"
      ]
    },
    {
      "cell_type": "markdown",
      "id": "lyric-hollow",
      "metadata": {
        "id": "lyric-hollow"
      },
      "source": [
        "Agora vamos pensar no código que realiza a classificação. Para simplificar, vamos supor que o exemplo a ser classificado está numa série do Pandas.\n",
        "\n",
        "Então vamos começar recriando o exemplo do dia 15 que vimos em aula."
      ]
    },
    {
      "cell_type": "code",
      "execution_count": null,
      "id": "talented-theme",
      "metadata": {
        "id": "talented-theme"
      },
      "outputs": [],
      "source": [
        "atributos = ['ensolarado', 'moderado', 'alta', 'forte']"
      ]
    },
    {
      "cell_type": "code",
      "execution_count": null,
      "id": "signal-courage",
      "metadata": {
        "id": "signal-courage"
      },
      "outputs": [],
      "source": [
        "valores = ['aparencia', 'temperatura', 'umidade', 'vento']"
      ]
    },
    {
      "cell_type": "code",
      "execution_count": null,
      "id": "express-trustee",
      "metadata": {
        "id": "express-trustee"
      },
      "outputs": [],
      "source": [
        "exemplo = pd.Series(atributos, valores)\n",
        "exemplo"
      ]
    },
    {
      "cell_type": "markdown",
      "id": "ranging-devices",
      "metadata": {
        "id": "ranging-devices"
      },
      "source": [
        "Para classificar esse exemplo, precisamos descobrir se $p(\\textsf{sim}|x)$ é maior que $p(\\textsf{não}|x)$ ou o contrário. Isso significa estimar os valores proporcionais a eles multiplicando as verossimilhanças pelas prioris.\n",
        "\n",
        "No dicionário que criamos, `nb_tennis['vsim']` é uma lista que contém todas as verossimilhanças de cada exemplo. O primeiro elemento dessa lista é o conjunto das verossimilhanças $p(\\textsf{aparencia}=x_i|\\textsf{sim})$. Se indexarmos essa lista pelo valor que o exemplo possui para o atributo `aparencia`, o resultado será $p(\\textsf{ensolarado}|\\textsf{sim})$:"
      ]
    },
    {
      "cell_type": "code",
      "execution_count": null,
      "id": "swiss-exposure",
      "metadata": {
        "id": "swiss-exposure"
      },
      "outputs": [],
      "source": [
        "nb_tennis['vsim'][0]['ensolarado']"
      ]
    },
    {
      "cell_type": "markdown",
      "id": "suited-gnome",
      "metadata": {
        "id": "suited-gnome"
      },
      "source": [
        "Ou:"
      ]
    },
    {
      "cell_type": "code",
      "execution_count": null,
      "id": "proprietary-leather",
      "metadata": {
        "id": "proprietary-leather"
      },
      "outputs": [],
      "source": [
        "nb_tennis['vsim'][0][exemplo[0]]"
      ]
    },
    {
      "cell_type": "markdown",
      "id": "stuffed-soundtrack",
      "metadata": {
        "id": "stuffed-soundtrack"
      },
      "source": [
        "Se empregarmos isso em uma compreensão de lista, o resultado será o conjunto de todas as verossimilhanças que procuramos:"
      ]
    },
    {
      "cell_type": "code",
      "execution_count": null,
      "id": "certified-silicon",
      "metadata": {
        "id": "certified-silicon"
      },
      "outputs": [],
      "source": [
        "[nb_tennis['vsim'][X][exemplo[X]] for X in range(4)]"
      ]
    },
    {
      "cell_type": "markdown",
      "id": "recorded-granny",
      "metadata": {
        "id": "recorded-granny"
      },
      "source": [
        "Essa compreensão é equivalente à seguinte iteração:\n",
        "\n",
        "```Python\n",
        "l = []\n",
        "for X in range(4):\n",
        "    l.append(nb_tennis['vsim'][X][exemplo[X]])\n",
        "```"
      ]
    },
    {
      "cell_type": "markdown",
      "id": "modern-combine",
      "metadata": {
        "id": "modern-combine"
      },
      "source": [
        "Agora podemos fazer uso do NumPy para multiplicar todos esses valores. A função `numpy.prod()` recebe como entra uma coleção que pode ser um vetor, uma matriz, um *data frame* ou semelhante, e retorna o produto de todos os elementos dessa coleção.\n",
        "\n",
        "Por exemplo, o produto de `2 * 3 * 4 * 5` é 120:"
      ]
    },
    {
      "cell_type": "code",
      "execution_count": null,
      "id": "dying-apple",
      "metadata": {
        "id": "dying-apple"
      },
      "outputs": [],
      "source": [
        "import numpy as np"
      ]
    },
    {
      "cell_type": "code",
      "execution_count": null,
      "id": "present-appliance",
      "metadata": {
        "id": "present-appliance"
      },
      "outputs": [],
      "source": [
        "np.prod([2, 3, 4, 5])"
      ]
    },
    {
      "cell_type": "markdown",
      "id": "literary-calcium",
      "metadata": {
        "id": "literary-calcium"
      },
      "source": [
        "Usamos `np.prod` para multiplicar todas as verossimilhanças e depois multiplicamos pela priori de cada classe:"
      ]
    },
    {
      "cell_type": "code",
      "execution_count": null,
      "id": "spoken-primary",
      "metadata": {
        "id": "spoken-primary"
      },
      "outputs": [],
      "source": [
        "np.prod([nb_tennis['vsim'][X][exemplo[X]] for X in range(4)]) * nb_tennis['sim']"
      ]
    },
    {
      "cell_type": "markdown",
      "id": "rapid-kitty",
      "metadata": {
        "id": "rapid-kitty"
      },
      "source": [
        "Esse código é equivalente ao seguinte:\n",
        "\n",
        "```Python\n",
        "prod = 1\n",
        "for X in range(4):\n",
        "    prod *= nb_tennis['vsim'][X][exemplo[X]]\n",
        "prod *= nb_tennis['sim']\n",
        "prod\n",
        "```\n",
        "\n",
        "E fazemos o mesmo para a classe negativa:"
      ]
    },
    {
      "cell_type": "code",
      "execution_count": null,
      "id": "ruled-complex",
      "metadata": {
        "id": "ruled-complex"
      },
      "outputs": [],
      "source": [
        "np.prod([nb_tennis['vnao'][X][exemplo[X]] for X in range(4)]) * nb_tennis['nao']"
      ]
    },
    {
      "cell_type": "markdown",
      "id": "fiscal-hierarchy",
      "metadata": {
        "id": "fiscal-hierarchy"
      },
      "source": [
        "Como você pode ver, isso nos levaria à decisão de que a classe positiva é a mais provável, assim como concluímos com os exemplos dos slides."
      ]
    },
    {
      "cell_type": "markdown",
      "id": "classical-diploma",
      "metadata": {
        "id": "classical-diploma"
      },
      "source": [
        "## Uma classe para Naive Bayes"
      ]
    },
    {
      "cell_type": "markdown",
      "id": "brazilian-acceptance",
      "metadata": {
        "id": "brazilian-acceptance"
      },
      "source": [
        "Agora podemos juntar tudo em uma classe. Ela tem o método `fit` para, assim como os modelos do Scikit, aprender os parâmetros do modelo para um conjunto de treinamento. E tem também o método `predict`, que faz inferência. Diferentemente do Scikit, nossa classe só faz inferência em um exemplo."
      ]
    },
    {
      "cell_type": "code",
      "execution_count": null,
      "id": "falling-canberra",
      "metadata": {
        "id": "falling-canberra"
      },
      "outputs": [],
      "source": [
        "class NaiveBayes:\n",
        "    def __init__(self):\n",
        "        self._prioris = {}\n",
        "        self._likelihoods = {}\n",
        "\n",
        "        self._labels = []\n",
        "        self._num_labels = -1\n",
        "\n",
        "        self._features = []\n",
        "        self._num_features = -1\n",
        "\n",
        "    def _estimate_frequencies(self, series):\n",
        "        return series.value_counts() / series.shape[0]\n",
        "\n",
        "    def fit(self, X, y):\n",
        "        self._labels = list(y.drop_duplicates())\n",
        "        self._features = X.keys().values\n",
        "\n",
        "        self._num_features = X.shape[1]\n",
        "        self._num_labels = len(self._labels)\n",
        "\n",
        "        self._prioris = self._estimate_frequencies(y)\n",
        "        for label in self._labels:\n",
        "            subset = X[y == label]\n",
        "            self._likelihoods[label] = [self._estimate_frequencies(subset[X]) for X in self._features]\n",
        "\n",
        "    def _get_likelihood(self, feature, value, label):\n",
        "        return self._likelihoods[label][feature][value]\n",
        "\n",
        "    def predict(self, Xpred):\n",
        "        ypred = None\n",
        "        ypred_chance = -1\n",
        "\n",
        "        chance_sum = 0\n",
        "        prob = np.zeros((self._num_labels,), dtype=np.float64)\n",
        "\n",
        "        for l in range(self._num_labels):\n",
        "            label = self._labels[l]\n",
        "            this_priori = self._prioris[label]\n",
        "            this_chance = np.prod([self._get_likelihood(X, Xpred[X], label) for X in range(4)]) * this_priori\n",
        "\n",
        "            prob[l] = this_chance\n",
        "            chance_sum += this_chance\n",
        "\n",
        "            if this_chance > ypred_chance:\n",
        "                ypred = label\n",
        "                ypred_chance = this_chance\n",
        "\n",
        "        prob /= chance_sum\n",
        "        return (ypred, prob)"
      ]
    },
    {
      "cell_type": "markdown",
      "id": "dangerous-stretch",
      "metadata": {
        "id": "dangerous-stretch"
      },
      "source": [
        "Para treinar, primeiro separamos os dados em atributos e rótulos.\n",
        "\n",
        "Para a nossa classe, é imperativo que os dados estejam em um `DataFrame`  e os rótulos estejam em um `Series`. O Scikit não é tão exigente, apenas requer matrizes para as características e veteores para os rótulos."
      ]
    },
    {
      "cell_type": "code",
      "execution_count": null,
      "id": "binding-arrow",
      "metadata": {
        "id": "binding-arrow"
      },
      "outputs": [],
      "source": [
        "X = tennis.iloc[:, :-1]\n",
        "X"
      ]
    },
    {
      "cell_type": "code",
      "execution_count": null,
      "id": "spectacular-technical",
      "metadata": {
        "id": "spectacular-technical"
      },
      "outputs": [],
      "source": [
        "y = tennis.iloc[:, -1]\n",
        "y"
      ]
    },
    {
      "cell_type": "markdown",
      "id": "devoted-cable",
      "metadata": {
        "id": "devoted-cable"
      },
      "source": [
        "Agora, assim como no Scikit, usamos o método `fit` para aprender os parâmetros."
      ]
    },
    {
      "cell_type": "code",
      "execution_count": null,
      "id": "contemporary-fourth",
      "metadata": {
        "id": "contemporary-fourth"
      },
      "outputs": [],
      "source": [
        "nb = NaiveBayes()\n",
        "nb.fit(X, y)"
      ]
    },
    {
      "cell_type": "markdown",
      "id": "boolean-thickness",
      "metadata": {
        "id": "boolean-thickness"
      },
      "source": [
        "Mostre os parâmetros aprendidos:"
      ]
    },
    {
      "cell_type": "code",
      "execution_count": null,
      "id": "conservative-berlin",
      "metadata": {
        "id": "conservative-berlin"
      },
      "outputs": [],
      "source": [
        "nb._prioris"
      ]
    },
    {
      "cell_type": "code",
      "execution_count": null,
      "id": "powered-blade",
      "metadata": {
        "id": "powered-blade"
      },
      "outputs": [],
      "source": [
        "nb._likelihoods"
      ]
    },
    {
      "cell_type": "markdown",
      "id": "starting-yacht",
      "metadata": {
        "id": "starting-yacht"
      },
      "source": [
        "Faça predição do exemplo e veja o resultado e as probabilidades **estimadas**."
      ]
    },
    {
      "cell_type": "code",
      "execution_count": null,
      "id": "pediatric-pencil",
      "metadata": {
        "id": "pediatric-pencil"
      },
      "outputs": [],
      "source": [
        "exemplo"
      ]
    },
    {
      "cell_type": "code",
      "execution_count": null,
      "id": "certain-trance",
      "metadata": {
        "id": "certain-trance"
      },
      "outputs": [],
      "source": [
        "nb.predict(exemplo)"
      ]
    },
    {
      "cell_type": "markdown",
      "id": "green-pursuit",
      "metadata": {
        "id": "green-pursuit"
      },
      "source": [
        "## Naive Bayes com o Scikit-Learn"
      ]
    },
    {
      "cell_type": "markdown",
      "id": "spoken-creator",
      "metadata": {
        "id": "spoken-creator"
      },
      "source": [
        "Agora, vamos utilizar o Naive Bayes categórico do ScikitLearn.\n",
        "\n",
        "Antes de começar, vamos importar novamente os dados para que as manipulações da seção anterior não nos atrapalhem. Vamos separar as características em uma matriz X e os rótulos em um vetor y."
      ]
    },
    {
      "cell_type": "code",
      "execution_count": null,
      "id": "timely-pierce",
      "metadata": {
        "id": "timely-pierce"
      },
      "outputs": [],
      "source": [
        "import pandas as pd\n",
        "import numpy as np"
      ]
    },
    {
      "cell_type": "markdown",
      "id": "d23b1885",
      "metadata": {
        "id": "d23b1885"
      },
      "source": [
        "Carregue os dados."
      ]
    },
    {
      "cell_type": "code",
      "execution_count": null,
      "id": "crude-meaning",
      "metadata": {
        "colab": {
          "base_uri": "https://localhost:8080/",
          "height": 488
        },
        "id": "crude-meaning",
        "outputId": "5027789c-1c2c-4a06-ac65-c94b223a1e97"
      },
      "outputs": [
        {
          "output_type": "execute_result",
          "data": {
            "text/plain": [
              "     aparencia temperatura umidade  vento jogar\n",
              "0   ensolarado      quente    alta  fraco   nao\n",
              "1   ensolarado      quente    alta  forte   nao\n",
              "2      nublado      quente    alta  fraco   sim\n",
              "3      chuvoso    moderado    alta  fraco   sim\n",
              "4      chuvoso        frio   baixa  fraco   sim\n",
              "5      chuvoso        frio   baixa  forte   nao\n",
              "6      nublado        frio   baixa  forte   sim\n",
              "7   ensolarado    moderado    alta  fraco   nao\n",
              "8   ensolarado        frio   baixa  fraco   sim\n",
              "9      chuvoso    moderado   baixa  fraco   sim\n",
              "10  ensolarado    moderado   baixa  forte   sim\n",
              "11     nublado    moderado    alta  forte   sim\n",
              "12     nublado      quente   baixa  fraco   sim\n",
              "13     chuvoso    moderado    alta  forte   nao"
            ],
            "text/html": [
              "\n",
              "  <div id=\"df-5a58d1eb-dc34-498e-bb1d-57f84530dc5b\" class=\"colab-df-container\">\n",
              "    <div>\n",
              "<style scoped>\n",
              "    .dataframe tbody tr th:only-of-type {\n",
              "        vertical-align: middle;\n",
              "    }\n",
              "\n",
              "    .dataframe tbody tr th {\n",
              "        vertical-align: top;\n",
              "    }\n",
              "\n",
              "    .dataframe thead th {\n",
              "        text-align: right;\n",
              "    }\n",
              "</style>\n",
              "<table border=\"1\" class=\"dataframe\">\n",
              "  <thead>\n",
              "    <tr style=\"text-align: right;\">\n",
              "      <th></th>\n",
              "      <th>aparencia</th>\n",
              "      <th>temperatura</th>\n",
              "      <th>umidade</th>\n",
              "      <th>vento</th>\n",
              "      <th>jogar</th>\n",
              "    </tr>\n",
              "  </thead>\n",
              "  <tbody>\n",
              "    <tr>\n",
              "      <th>0</th>\n",
              "      <td>ensolarado</td>\n",
              "      <td>quente</td>\n",
              "      <td>alta</td>\n",
              "      <td>fraco</td>\n",
              "      <td>nao</td>\n",
              "    </tr>\n",
              "    <tr>\n",
              "      <th>1</th>\n",
              "      <td>ensolarado</td>\n",
              "      <td>quente</td>\n",
              "      <td>alta</td>\n",
              "      <td>forte</td>\n",
              "      <td>nao</td>\n",
              "    </tr>\n",
              "    <tr>\n",
              "      <th>2</th>\n",
              "      <td>nublado</td>\n",
              "      <td>quente</td>\n",
              "      <td>alta</td>\n",
              "      <td>fraco</td>\n",
              "      <td>sim</td>\n",
              "    </tr>\n",
              "    <tr>\n",
              "      <th>3</th>\n",
              "      <td>chuvoso</td>\n",
              "      <td>moderado</td>\n",
              "      <td>alta</td>\n",
              "      <td>fraco</td>\n",
              "      <td>sim</td>\n",
              "    </tr>\n",
              "    <tr>\n",
              "      <th>4</th>\n",
              "      <td>chuvoso</td>\n",
              "      <td>frio</td>\n",
              "      <td>baixa</td>\n",
              "      <td>fraco</td>\n",
              "      <td>sim</td>\n",
              "    </tr>\n",
              "    <tr>\n",
              "      <th>5</th>\n",
              "      <td>chuvoso</td>\n",
              "      <td>frio</td>\n",
              "      <td>baixa</td>\n",
              "      <td>forte</td>\n",
              "      <td>nao</td>\n",
              "    </tr>\n",
              "    <tr>\n",
              "      <th>6</th>\n",
              "      <td>nublado</td>\n",
              "      <td>frio</td>\n",
              "      <td>baixa</td>\n",
              "      <td>forte</td>\n",
              "      <td>sim</td>\n",
              "    </tr>\n",
              "    <tr>\n",
              "      <th>7</th>\n",
              "      <td>ensolarado</td>\n",
              "      <td>moderado</td>\n",
              "      <td>alta</td>\n",
              "      <td>fraco</td>\n",
              "      <td>nao</td>\n",
              "    </tr>\n",
              "    <tr>\n",
              "      <th>8</th>\n",
              "      <td>ensolarado</td>\n",
              "      <td>frio</td>\n",
              "      <td>baixa</td>\n",
              "      <td>fraco</td>\n",
              "      <td>sim</td>\n",
              "    </tr>\n",
              "    <tr>\n",
              "      <th>9</th>\n",
              "      <td>chuvoso</td>\n",
              "      <td>moderado</td>\n",
              "      <td>baixa</td>\n",
              "      <td>fraco</td>\n",
              "      <td>sim</td>\n",
              "    </tr>\n",
              "    <tr>\n",
              "      <th>10</th>\n",
              "      <td>ensolarado</td>\n",
              "      <td>moderado</td>\n",
              "      <td>baixa</td>\n",
              "      <td>forte</td>\n",
              "      <td>sim</td>\n",
              "    </tr>\n",
              "    <tr>\n",
              "      <th>11</th>\n",
              "      <td>nublado</td>\n",
              "      <td>moderado</td>\n",
              "      <td>alta</td>\n",
              "      <td>forte</td>\n",
              "      <td>sim</td>\n",
              "    </tr>\n",
              "    <tr>\n",
              "      <th>12</th>\n",
              "      <td>nublado</td>\n",
              "      <td>quente</td>\n",
              "      <td>baixa</td>\n",
              "      <td>fraco</td>\n",
              "      <td>sim</td>\n",
              "    </tr>\n",
              "    <tr>\n",
              "      <th>13</th>\n",
              "      <td>chuvoso</td>\n",
              "      <td>moderado</td>\n",
              "      <td>alta</td>\n",
              "      <td>forte</td>\n",
              "      <td>nao</td>\n",
              "    </tr>\n",
              "  </tbody>\n",
              "</table>\n",
              "</div>\n",
              "    <div class=\"colab-df-buttons\">\n",
              "\n",
              "  <div class=\"colab-df-container\">\n",
              "    <button class=\"colab-df-convert\" onclick=\"convertToInteractive('df-5a58d1eb-dc34-498e-bb1d-57f84530dc5b')\"\n",
              "            title=\"Convert this dataframe to an interactive table.\"\n",
              "            style=\"display:none;\">\n",
              "\n",
              "  <svg xmlns=\"http://www.w3.org/2000/svg\" height=\"24px\" viewBox=\"0 -960 960 960\">\n",
              "    <path d=\"M120-120v-720h720v720H120Zm60-500h600v-160H180v160Zm220 220h160v-160H400v160Zm0 220h160v-160H400v160ZM180-400h160v-160H180v160Zm440 0h160v-160H620v160ZM180-180h160v-160H180v160Zm440 0h160v-160H620v160Z\"/>\n",
              "  </svg>\n",
              "    </button>\n",
              "\n",
              "  <style>\n",
              "    .colab-df-container {\n",
              "      display:flex;\n",
              "      gap: 12px;\n",
              "    }\n",
              "\n",
              "    .colab-df-convert {\n",
              "      background-color: #E8F0FE;\n",
              "      border: none;\n",
              "      border-radius: 50%;\n",
              "      cursor: pointer;\n",
              "      display: none;\n",
              "      fill: #1967D2;\n",
              "      height: 32px;\n",
              "      padding: 0 0 0 0;\n",
              "      width: 32px;\n",
              "    }\n",
              "\n",
              "    .colab-df-convert:hover {\n",
              "      background-color: #E2EBFA;\n",
              "      box-shadow: 0px 1px 2px rgba(60, 64, 67, 0.3), 0px 1px 3px 1px rgba(60, 64, 67, 0.15);\n",
              "      fill: #174EA6;\n",
              "    }\n",
              "\n",
              "    .colab-df-buttons div {\n",
              "      margin-bottom: 4px;\n",
              "    }\n",
              "\n",
              "    [theme=dark] .colab-df-convert {\n",
              "      background-color: #3B4455;\n",
              "      fill: #D2E3FC;\n",
              "    }\n",
              "\n",
              "    [theme=dark] .colab-df-convert:hover {\n",
              "      background-color: #434B5C;\n",
              "      box-shadow: 0px 1px 3px 1px rgba(0, 0, 0, 0.15);\n",
              "      filter: drop-shadow(0px 1px 2px rgba(0, 0, 0, 0.3));\n",
              "      fill: #FFFFFF;\n",
              "    }\n",
              "  </style>\n",
              "\n",
              "    <script>\n",
              "      const buttonEl =\n",
              "        document.querySelector('#df-5a58d1eb-dc34-498e-bb1d-57f84530dc5b button.colab-df-convert');\n",
              "      buttonEl.style.display =\n",
              "        google.colab.kernel.accessAllowed ? 'block' : 'none';\n",
              "\n",
              "      async function convertToInteractive(key) {\n",
              "        const element = document.querySelector('#df-5a58d1eb-dc34-498e-bb1d-57f84530dc5b');\n",
              "        const dataTable =\n",
              "          await google.colab.kernel.invokeFunction('convertToInteractive',\n",
              "                                                    [key], {});\n",
              "        if (!dataTable) return;\n",
              "\n",
              "        const docLinkHtml = 'Like what you see? Visit the ' +\n",
              "          '<a target=\"_blank\" href=https://colab.research.google.com/notebooks/data_table.ipynb>data table notebook</a>'\n",
              "          + ' to learn more about interactive tables.';\n",
              "        element.innerHTML = '';\n",
              "        dataTable['output_type'] = 'display_data';\n",
              "        await google.colab.output.renderOutput(dataTable, element);\n",
              "        const docLink = document.createElement('div');\n",
              "        docLink.innerHTML = docLinkHtml;\n",
              "        element.appendChild(docLink);\n",
              "      }\n",
              "    </script>\n",
              "  </div>\n",
              "\n",
              "\n",
              "<div id=\"df-83e67417-1a3d-4277-9bf2-c6369705d52a\">\n",
              "  <button class=\"colab-df-quickchart\" onclick=\"quickchart('df-83e67417-1a3d-4277-9bf2-c6369705d52a')\"\n",
              "            title=\"Suggest charts\"\n",
              "            style=\"display:none;\">\n",
              "\n",
              "<svg xmlns=\"http://www.w3.org/2000/svg\" height=\"24px\"viewBox=\"0 0 24 24\"\n",
              "     width=\"24px\">\n",
              "    <g>\n",
              "        <path d=\"M19 3H5c-1.1 0-2 .9-2 2v14c0 1.1.9 2 2 2h14c1.1 0 2-.9 2-2V5c0-1.1-.9-2-2-2zM9 17H7v-7h2v7zm4 0h-2V7h2v10zm4 0h-2v-4h2v4z\"/>\n",
              "    </g>\n",
              "</svg>\n",
              "  </button>\n",
              "\n",
              "<style>\n",
              "  .colab-df-quickchart {\n",
              "      --bg-color: #E8F0FE;\n",
              "      --fill-color: #1967D2;\n",
              "      --hover-bg-color: #E2EBFA;\n",
              "      --hover-fill-color: #174EA6;\n",
              "      --disabled-fill-color: #AAA;\n",
              "      --disabled-bg-color: #DDD;\n",
              "  }\n",
              "\n",
              "  [theme=dark] .colab-df-quickchart {\n",
              "      --bg-color: #3B4455;\n",
              "      --fill-color: #D2E3FC;\n",
              "      --hover-bg-color: #434B5C;\n",
              "      --hover-fill-color: #FFFFFF;\n",
              "      --disabled-bg-color: #3B4455;\n",
              "      --disabled-fill-color: #666;\n",
              "  }\n",
              "\n",
              "  .colab-df-quickchart {\n",
              "    background-color: var(--bg-color);\n",
              "    border: none;\n",
              "    border-radius: 50%;\n",
              "    cursor: pointer;\n",
              "    display: none;\n",
              "    fill: var(--fill-color);\n",
              "    height: 32px;\n",
              "    padding: 0;\n",
              "    width: 32px;\n",
              "  }\n",
              "\n",
              "  .colab-df-quickchart:hover {\n",
              "    background-color: var(--hover-bg-color);\n",
              "    box-shadow: 0 1px 2px rgba(60, 64, 67, 0.3), 0 1px 3px 1px rgba(60, 64, 67, 0.15);\n",
              "    fill: var(--button-hover-fill-color);\n",
              "  }\n",
              "\n",
              "  .colab-df-quickchart-complete:disabled,\n",
              "  .colab-df-quickchart-complete:disabled:hover {\n",
              "    background-color: var(--disabled-bg-color);\n",
              "    fill: var(--disabled-fill-color);\n",
              "    box-shadow: none;\n",
              "  }\n",
              "\n",
              "  .colab-df-spinner {\n",
              "    border: 2px solid var(--fill-color);\n",
              "    border-color: transparent;\n",
              "    border-bottom-color: var(--fill-color);\n",
              "    animation:\n",
              "      spin 1s steps(1) infinite;\n",
              "  }\n",
              "\n",
              "  @keyframes spin {\n",
              "    0% {\n",
              "      border-color: transparent;\n",
              "      border-bottom-color: var(--fill-color);\n",
              "      border-left-color: var(--fill-color);\n",
              "    }\n",
              "    20% {\n",
              "      border-color: transparent;\n",
              "      border-left-color: var(--fill-color);\n",
              "      border-top-color: var(--fill-color);\n",
              "    }\n",
              "    30% {\n",
              "      border-color: transparent;\n",
              "      border-left-color: var(--fill-color);\n",
              "      border-top-color: var(--fill-color);\n",
              "      border-right-color: var(--fill-color);\n",
              "    }\n",
              "    40% {\n",
              "      border-color: transparent;\n",
              "      border-right-color: var(--fill-color);\n",
              "      border-top-color: var(--fill-color);\n",
              "    }\n",
              "    60% {\n",
              "      border-color: transparent;\n",
              "      border-right-color: var(--fill-color);\n",
              "    }\n",
              "    80% {\n",
              "      border-color: transparent;\n",
              "      border-right-color: var(--fill-color);\n",
              "      border-bottom-color: var(--fill-color);\n",
              "    }\n",
              "    90% {\n",
              "      border-color: transparent;\n",
              "      border-bottom-color: var(--fill-color);\n",
              "    }\n",
              "  }\n",
              "</style>\n",
              "\n",
              "  <script>\n",
              "    async function quickchart(key) {\n",
              "      const quickchartButtonEl =\n",
              "        document.querySelector('#' + key + ' button');\n",
              "      quickchartButtonEl.disabled = true;  // To prevent multiple clicks.\n",
              "      quickchartButtonEl.classList.add('colab-df-spinner');\n",
              "      try {\n",
              "        const charts = await google.colab.kernel.invokeFunction(\n",
              "            'suggestCharts', [key], {});\n",
              "      } catch (error) {\n",
              "        console.error('Error during call to suggestCharts:', error);\n",
              "      }\n",
              "      quickchartButtonEl.classList.remove('colab-df-spinner');\n",
              "      quickchartButtonEl.classList.add('colab-df-quickchart-complete');\n",
              "    }\n",
              "    (() => {\n",
              "      let quickchartButtonEl =\n",
              "        document.querySelector('#df-83e67417-1a3d-4277-9bf2-c6369705d52a button');\n",
              "      quickchartButtonEl.style.display =\n",
              "        google.colab.kernel.accessAllowed ? 'block' : 'none';\n",
              "    })();\n",
              "  </script>\n",
              "</div>\n",
              "    </div>\n",
              "  </div>\n"
            ],
            "application/vnd.google.colaboratory.intrinsic+json": {
              "type": "dataframe",
              "variable_name": "tennis",
              "summary": "{\n  \"name\": \"tennis\",\n  \"rows\": 14,\n  \"fields\": [\n    {\n      \"column\": \"aparencia\",\n      \"properties\": {\n        \"dtype\": \"category\",\n        \"num_unique_values\": 3,\n        \"samples\": [\n          \"ensolarado\",\n          \"nublado\",\n          \"chuvoso\"\n        ],\n        \"semantic_type\": \"\",\n        \"description\": \"\"\n      }\n    },\n    {\n      \"column\": \"temperatura\",\n      \"properties\": {\n        \"dtype\": \"category\",\n        \"num_unique_values\": 3,\n        \"samples\": [\n          \"quente\",\n          \"moderado\",\n          \"frio\"\n        ],\n        \"semantic_type\": \"\",\n        \"description\": \"\"\n      }\n    },\n    {\n      \"column\": \"umidade\",\n      \"properties\": {\n        \"dtype\": \"category\",\n        \"num_unique_values\": 2,\n        \"samples\": [\n          \"baixa\",\n          \"alta\"\n        ],\n        \"semantic_type\": \"\",\n        \"description\": \"\"\n      }\n    },\n    {\n      \"column\": \"vento\",\n      \"properties\": {\n        \"dtype\": \"category\",\n        \"num_unique_values\": 2,\n        \"samples\": [\n          \"forte\",\n          \"fraco\"\n        ],\n        \"semantic_type\": \"\",\n        \"description\": \"\"\n      }\n    },\n    {\n      \"column\": \"jogar\",\n      \"properties\": {\n        \"dtype\": \"category\",\n        \"num_unique_values\": 2,\n        \"samples\": [\n          \"sim\",\n          \"nao\"\n        ],\n        \"semantic_type\": \"\",\n        \"description\": \"\"\n      }\n    }\n  ]\n}"
            }
          },
          "metadata": {},
          "execution_count": 8
        }
      ],
      "source": [
        "tennis = pd.read_csv(\"/content/tennis.csv\");\n",
        "tennis"
      ]
    },
    {
      "cell_type": "markdown",
      "id": "b7a1f441",
      "metadata": {
        "id": "b7a1f441"
      },
      "source": [
        "Separe os dados em `X` (data frame/matriz) e `y` (série/vetor)."
      ]
    },
    {
      "cell_type": "code",
      "execution_count": null,
      "id": "79e9d34c",
      "metadata": {
        "colab": {
          "base_uri": "https://localhost:8080/",
          "height": 488
        },
        "id": "79e9d34c",
        "outputId": "e752c752-dffa-4c91-a59c-7a8506a307bc"
      },
      "outputs": [
        {
          "output_type": "execute_result",
          "data": {
            "text/plain": [
              "     aparencia temperatura umidade  vento\n",
              "0   ensolarado      quente    alta  fraco\n",
              "1   ensolarado      quente    alta  forte\n",
              "2      nublado      quente    alta  fraco\n",
              "3      chuvoso    moderado    alta  fraco\n",
              "4      chuvoso        frio   baixa  fraco\n",
              "5      chuvoso        frio   baixa  forte\n",
              "6      nublado        frio   baixa  forte\n",
              "7   ensolarado    moderado    alta  fraco\n",
              "8   ensolarado        frio   baixa  fraco\n",
              "9      chuvoso    moderado   baixa  fraco\n",
              "10  ensolarado    moderado   baixa  forte\n",
              "11     nublado    moderado    alta  forte\n",
              "12     nublado      quente   baixa  fraco\n",
              "13     chuvoso    moderado    alta  forte"
            ],
            "text/html": [
              "\n",
              "  <div id=\"df-b766a863-68f5-4bf4-bc01-5c273b505b1a\" class=\"colab-df-container\">\n",
              "    <div>\n",
              "<style scoped>\n",
              "    .dataframe tbody tr th:only-of-type {\n",
              "        vertical-align: middle;\n",
              "    }\n",
              "\n",
              "    .dataframe tbody tr th {\n",
              "        vertical-align: top;\n",
              "    }\n",
              "\n",
              "    .dataframe thead th {\n",
              "        text-align: right;\n",
              "    }\n",
              "</style>\n",
              "<table border=\"1\" class=\"dataframe\">\n",
              "  <thead>\n",
              "    <tr style=\"text-align: right;\">\n",
              "      <th></th>\n",
              "      <th>aparencia</th>\n",
              "      <th>temperatura</th>\n",
              "      <th>umidade</th>\n",
              "      <th>vento</th>\n",
              "    </tr>\n",
              "  </thead>\n",
              "  <tbody>\n",
              "    <tr>\n",
              "      <th>0</th>\n",
              "      <td>ensolarado</td>\n",
              "      <td>quente</td>\n",
              "      <td>alta</td>\n",
              "      <td>fraco</td>\n",
              "    </tr>\n",
              "    <tr>\n",
              "      <th>1</th>\n",
              "      <td>ensolarado</td>\n",
              "      <td>quente</td>\n",
              "      <td>alta</td>\n",
              "      <td>forte</td>\n",
              "    </tr>\n",
              "    <tr>\n",
              "      <th>2</th>\n",
              "      <td>nublado</td>\n",
              "      <td>quente</td>\n",
              "      <td>alta</td>\n",
              "      <td>fraco</td>\n",
              "    </tr>\n",
              "    <tr>\n",
              "      <th>3</th>\n",
              "      <td>chuvoso</td>\n",
              "      <td>moderado</td>\n",
              "      <td>alta</td>\n",
              "      <td>fraco</td>\n",
              "    </tr>\n",
              "    <tr>\n",
              "      <th>4</th>\n",
              "      <td>chuvoso</td>\n",
              "      <td>frio</td>\n",
              "      <td>baixa</td>\n",
              "      <td>fraco</td>\n",
              "    </tr>\n",
              "    <tr>\n",
              "      <th>5</th>\n",
              "      <td>chuvoso</td>\n",
              "      <td>frio</td>\n",
              "      <td>baixa</td>\n",
              "      <td>forte</td>\n",
              "    </tr>\n",
              "    <tr>\n",
              "      <th>6</th>\n",
              "      <td>nublado</td>\n",
              "      <td>frio</td>\n",
              "      <td>baixa</td>\n",
              "      <td>forte</td>\n",
              "    </tr>\n",
              "    <tr>\n",
              "      <th>7</th>\n",
              "      <td>ensolarado</td>\n",
              "      <td>moderado</td>\n",
              "      <td>alta</td>\n",
              "      <td>fraco</td>\n",
              "    </tr>\n",
              "    <tr>\n",
              "      <th>8</th>\n",
              "      <td>ensolarado</td>\n",
              "      <td>frio</td>\n",
              "      <td>baixa</td>\n",
              "      <td>fraco</td>\n",
              "    </tr>\n",
              "    <tr>\n",
              "      <th>9</th>\n",
              "      <td>chuvoso</td>\n",
              "      <td>moderado</td>\n",
              "      <td>baixa</td>\n",
              "      <td>fraco</td>\n",
              "    </tr>\n",
              "    <tr>\n",
              "      <th>10</th>\n",
              "      <td>ensolarado</td>\n",
              "      <td>moderado</td>\n",
              "      <td>baixa</td>\n",
              "      <td>forte</td>\n",
              "    </tr>\n",
              "    <tr>\n",
              "      <th>11</th>\n",
              "      <td>nublado</td>\n",
              "      <td>moderado</td>\n",
              "      <td>alta</td>\n",
              "      <td>forte</td>\n",
              "    </tr>\n",
              "    <tr>\n",
              "      <th>12</th>\n",
              "      <td>nublado</td>\n",
              "      <td>quente</td>\n",
              "      <td>baixa</td>\n",
              "      <td>fraco</td>\n",
              "    </tr>\n",
              "    <tr>\n",
              "      <th>13</th>\n",
              "      <td>chuvoso</td>\n",
              "      <td>moderado</td>\n",
              "      <td>alta</td>\n",
              "      <td>forte</td>\n",
              "    </tr>\n",
              "  </tbody>\n",
              "</table>\n",
              "</div>\n",
              "    <div class=\"colab-df-buttons\">\n",
              "\n",
              "  <div class=\"colab-df-container\">\n",
              "    <button class=\"colab-df-convert\" onclick=\"convertToInteractive('df-b766a863-68f5-4bf4-bc01-5c273b505b1a')\"\n",
              "            title=\"Convert this dataframe to an interactive table.\"\n",
              "            style=\"display:none;\">\n",
              "\n",
              "  <svg xmlns=\"http://www.w3.org/2000/svg\" height=\"24px\" viewBox=\"0 -960 960 960\">\n",
              "    <path d=\"M120-120v-720h720v720H120Zm60-500h600v-160H180v160Zm220 220h160v-160H400v160Zm0 220h160v-160H400v160ZM180-400h160v-160H180v160Zm440 0h160v-160H620v160ZM180-180h160v-160H180v160Zm440 0h160v-160H620v160Z\"/>\n",
              "  </svg>\n",
              "    </button>\n",
              "\n",
              "  <style>\n",
              "    .colab-df-container {\n",
              "      display:flex;\n",
              "      gap: 12px;\n",
              "    }\n",
              "\n",
              "    .colab-df-convert {\n",
              "      background-color: #E8F0FE;\n",
              "      border: none;\n",
              "      border-radius: 50%;\n",
              "      cursor: pointer;\n",
              "      display: none;\n",
              "      fill: #1967D2;\n",
              "      height: 32px;\n",
              "      padding: 0 0 0 0;\n",
              "      width: 32px;\n",
              "    }\n",
              "\n",
              "    .colab-df-convert:hover {\n",
              "      background-color: #E2EBFA;\n",
              "      box-shadow: 0px 1px 2px rgba(60, 64, 67, 0.3), 0px 1px 3px 1px rgba(60, 64, 67, 0.15);\n",
              "      fill: #174EA6;\n",
              "    }\n",
              "\n",
              "    .colab-df-buttons div {\n",
              "      margin-bottom: 4px;\n",
              "    }\n",
              "\n",
              "    [theme=dark] .colab-df-convert {\n",
              "      background-color: #3B4455;\n",
              "      fill: #D2E3FC;\n",
              "    }\n",
              "\n",
              "    [theme=dark] .colab-df-convert:hover {\n",
              "      background-color: #434B5C;\n",
              "      box-shadow: 0px 1px 3px 1px rgba(0, 0, 0, 0.15);\n",
              "      filter: drop-shadow(0px 1px 2px rgba(0, 0, 0, 0.3));\n",
              "      fill: #FFFFFF;\n",
              "    }\n",
              "  </style>\n",
              "\n",
              "    <script>\n",
              "      const buttonEl =\n",
              "        document.querySelector('#df-b766a863-68f5-4bf4-bc01-5c273b505b1a button.colab-df-convert');\n",
              "      buttonEl.style.display =\n",
              "        google.colab.kernel.accessAllowed ? 'block' : 'none';\n",
              "\n",
              "      async function convertToInteractive(key) {\n",
              "        const element = document.querySelector('#df-b766a863-68f5-4bf4-bc01-5c273b505b1a');\n",
              "        const dataTable =\n",
              "          await google.colab.kernel.invokeFunction('convertToInteractive',\n",
              "                                                    [key], {});\n",
              "        if (!dataTable) return;\n",
              "\n",
              "        const docLinkHtml = 'Like what you see? Visit the ' +\n",
              "          '<a target=\"_blank\" href=https://colab.research.google.com/notebooks/data_table.ipynb>data table notebook</a>'\n",
              "          + ' to learn more about interactive tables.';\n",
              "        element.innerHTML = '';\n",
              "        dataTable['output_type'] = 'display_data';\n",
              "        await google.colab.output.renderOutput(dataTable, element);\n",
              "        const docLink = document.createElement('div');\n",
              "        docLink.innerHTML = docLinkHtml;\n",
              "        element.appendChild(docLink);\n",
              "      }\n",
              "    </script>\n",
              "  </div>\n",
              "\n",
              "\n",
              "<div id=\"df-fcb7c99b-da52-4491-941c-938904f82003\">\n",
              "  <button class=\"colab-df-quickchart\" onclick=\"quickchart('df-fcb7c99b-da52-4491-941c-938904f82003')\"\n",
              "            title=\"Suggest charts\"\n",
              "            style=\"display:none;\">\n",
              "\n",
              "<svg xmlns=\"http://www.w3.org/2000/svg\" height=\"24px\"viewBox=\"0 0 24 24\"\n",
              "     width=\"24px\">\n",
              "    <g>\n",
              "        <path d=\"M19 3H5c-1.1 0-2 .9-2 2v14c0 1.1.9 2 2 2h14c1.1 0 2-.9 2-2V5c0-1.1-.9-2-2-2zM9 17H7v-7h2v7zm4 0h-2V7h2v10zm4 0h-2v-4h2v4z\"/>\n",
              "    </g>\n",
              "</svg>\n",
              "  </button>\n",
              "\n",
              "<style>\n",
              "  .colab-df-quickchart {\n",
              "      --bg-color: #E8F0FE;\n",
              "      --fill-color: #1967D2;\n",
              "      --hover-bg-color: #E2EBFA;\n",
              "      --hover-fill-color: #174EA6;\n",
              "      --disabled-fill-color: #AAA;\n",
              "      --disabled-bg-color: #DDD;\n",
              "  }\n",
              "\n",
              "  [theme=dark] .colab-df-quickchart {\n",
              "      --bg-color: #3B4455;\n",
              "      --fill-color: #D2E3FC;\n",
              "      --hover-bg-color: #434B5C;\n",
              "      --hover-fill-color: #FFFFFF;\n",
              "      --disabled-bg-color: #3B4455;\n",
              "      --disabled-fill-color: #666;\n",
              "  }\n",
              "\n",
              "  .colab-df-quickchart {\n",
              "    background-color: var(--bg-color);\n",
              "    border: none;\n",
              "    border-radius: 50%;\n",
              "    cursor: pointer;\n",
              "    display: none;\n",
              "    fill: var(--fill-color);\n",
              "    height: 32px;\n",
              "    padding: 0;\n",
              "    width: 32px;\n",
              "  }\n",
              "\n",
              "  .colab-df-quickchart:hover {\n",
              "    background-color: var(--hover-bg-color);\n",
              "    box-shadow: 0 1px 2px rgba(60, 64, 67, 0.3), 0 1px 3px 1px rgba(60, 64, 67, 0.15);\n",
              "    fill: var(--button-hover-fill-color);\n",
              "  }\n",
              "\n",
              "  .colab-df-quickchart-complete:disabled,\n",
              "  .colab-df-quickchart-complete:disabled:hover {\n",
              "    background-color: var(--disabled-bg-color);\n",
              "    fill: var(--disabled-fill-color);\n",
              "    box-shadow: none;\n",
              "  }\n",
              "\n",
              "  .colab-df-spinner {\n",
              "    border: 2px solid var(--fill-color);\n",
              "    border-color: transparent;\n",
              "    border-bottom-color: var(--fill-color);\n",
              "    animation:\n",
              "      spin 1s steps(1) infinite;\n",
              "  }\n",
              "\n",
              "  @keyframes spin {\n",
              "    0% {\n",
              "      border-color: transparent;\n",
              "      border-bottom-color: var(--fill-color);\n",
              "      border-left-color: var(--fill-color);\n",
              "    }\n",
              "    20% {\n",
              "      border-color: transparent;\n",
              "      border-left-color: var(--fill-color);\n",
              "      border-top-color: var(--fill-color);\n",
              "    }\n",
              "    30% {\n",
              "      border-color: transparent;\n",
              "      border-left-color: var(--fill-color);\n",
              "      border-top-color: var(--fill-color);\n",
              "      border-right-color: var(--fill-color);\n",
              "    }\n",
              "    40% {\n",
              "      border-color: transparent;\n",
              "      border-right-color: var(--fill-color);\n",
              "      border-top-color: var(--fill-color);\n",
              "    }\n",
              "    60% {\n",
              "      border-color: transparent;\n",
              "      border-right-color: var(--fill-color);\n",
              "    }\n",
              "    80% {\n",
              "      border-color: transparent;\n",
              "      border-right-color: var(--fill-color);\n",
              "      border-bottom-color: var(--fill-color);\n",
              "    }\n",
              "    90% {\n",
              "      border-color: transparent;\n",
              "      border-bottom-color: var(--fill-color);\n",
              "    }\n",
              "  }\n",
              "</style>\n",
              "\n",
              "  <script>\n",
              "    async function quickchart(key) {\n",
              "      const quickchartButtonEl =\n",
              "        document.querySelector('#' + key + ' button');\n",
              "      quickchartButtonEl.disabled = true;  // To prevent multiple clicks.\n",
              "      quickchartButtonEl.classList.add('colab-df-spinner');\n",
              "      try {\n",
              "        const charts = await google.colab.kernel.invokeFunction(\n",
              "            'suggestCharts', [key], {});\n",
              "      } catch (error) {\n",
              "        console.error('Error during call to suggestCharts:', error);\n",
              "      }\n",
              "      quickchartButtonEl.classList.remove('colab-df-spinner');\n",
              "      quickchartButtonEl.classList.add('colab-df-quickchart-complete');\n",
              "    }\n",
              "    (() => {\n",
              "      let quickchartButtonEl =\n",
              "        document.querySelector('#df-fcb7c99b-da52-4491-941c-938904f82003 button');\n",
              "      quickchartButtonEl.style.display =\n",
              "        google.colab.kernel.accessAllowed ? 'block' : 'none';\n",
              "    })();\n",
              "  </script>\n",
              "</div>\n",
              "    </div>\n",
              "  </div>\n"
            ],
            "application/vnd.google.colaboratory.intrinsic+json": {
              "type": "dataframe",
              "variable_name": "X",
              "summary": "{\n  \"name\": \"X\",\n  \"rows\": 14,\n  \"fields\": [\n    {\n      \"column\": \"aparencia\",\n      \"properties\": {\n        \"dtype\": \"category\",\n        \"num_unique_values\": 3,\n        \"samples\": [\n          \"ensolarado\",\n          \"nublado\",\n          \"chuvoso\"\n        ],\n        \"semantic_type\": \"\",\n        \"description\": \"\"\n      }\n    },\n    {\n      \"column\": \"temperatura\",\n      \"properties\": {\n        \"dtype\": \"category\",\n        \"num_unique_values\": 3,\n        \"samples\": [\n          \"quente\",\n          \"moderado\",\n          \"frio\"\n        ],\n        \"semantic_type\": \"\",\n        \"description\": \"\"\n      }\n    },\n    {\n      \"column\": \"umidade\",\n      \"properties\": {\n        \"dtype\": \"category\",\n        \"num_unique_values\": 2,\n        \"samples\": [\n          \"baixa\",\n          \"alta\"\n        ],\n        \"semantic_type\": \"\",\n        \"description\": \"\"\n      }\n    },\n    {\n      \"column\": \"vento\",\n      \"properties\": {\n        \"dtype\": \"category\",\n        \"num_unique_values\": 2,\n        \"samples\": [\n          \"forte\",\n          \"fraco\"\n        ],\n        \"semantic_type\": \"\",\n        \"description\": \"\"\n      }\n    }\n  ]\n}"
            }
          },
          "metadata": {},
          "execution_count": 9
        }
      ],
      "source": [
        "X = tennis.iloc[:,:-1] #[0:-1] pega todas as colunas até a última coluna deixando a última de fora [0; tam -1]\n",
        "X"
      ]
    },
    {
      "cell_type": "code",
      "execution_count": null,
      "id": "52fb75de",
      "metadata": {
        "colab": {
          "base_uri": "https://localhost:8080/"
        },
        "id": "52fb75de",
        "outputId": "9364afed-b057-4dd8-adbe-c9ae1917a6c0"
      },
      "outputs": [
        {
          "output_type": "execute_result",
          "data": {
            "text/plain": [
              "0     nao\n",
              "1     nao\n",
              "2     sim\n",
              "3     sim\n",
              "4     sim\n",
              "5     nao\n",
              "6     sim\n",
              "7     nao\n",
              "8     sim\n",
              "9     sim\n",
              "10    sim\n",
              "11    sim\n",
              "12    sim\n",
              "13    nao\n",
              "Name: jogar, dtype: object"
            ]
          },
          "metadata": {},
          "execution_count": 10
        }
      ],
      "source": [
        "y = tennis.iloc[:,-1]\n",
        "y"
      ]
    },
    {
      "cell_type": "code",
      "execution_count": null,
      "id": "5a0d7d73",
      "metadata": {
        "colab": {
          "base_uri": "https://localhost:8080/"
        },
        "id": "5a0d7d73",
        "outputId": "f1d31962-ee81-4e94-87c0-60960e38f9d6"
      },
      "outputs": [
        {
          "output_type": "execute_result",
          "data": {
            "text/plain": [
              "(     aparencia temperatura umidade  vento\n",
              " 0   ensolarado      quente    alta  fraco\n",
              " 1   ensolarado      quente    alta  forte\n",
              " 2      nublado      quente    alta  fraco\n",
              " 3      chuvoso    moderado    alta  fraco\n",
              " 4      chuvoso        frio   baixa  fraco\n",
              " 5      chuvoso        frio   baixa  forte\n",
              " 6      nublado        frio   baixa  forte\n",
              " 7   ensolarado    moderado    alta  fraco\n",
              " 8   ensolarado        frio   baixa  fraco\n",
              " 9      chuvoso    moderado   baixa  fraco\n",
              " 10  ensolarado    moderado   baixa  forte\n",
              " 11     nublado    moderado    alta  forte\n",
              " 12     nublado      quente   baixa  fraco\n",
              " 13     chuvoso    moderado    alta  forte,\n",
              " 0     nao\n",
              " 1     nao\n",
              " 2     sim\n",
              " 3     sim\n",
              " 4     sim\n",
              " 5     nao\n",
              " 6     sim\n",
              " 7     nao\n",
              " 8     sim\n",
              " 9     sim\n",
              " 10    sim\n",
              " 11    sim\n",
              " 12    sim\n",
              " 13    nao\n",
              " Name: jogar, dtype: object)"
            ]
          },
          "metadata": {},
          "execution_count": 11
        }
      ],
      "source": [
        "X, y"
      ]
    },
    {
      "cell_type": "markdown",
      "id": "clean-terminal",
      "metadata": {
        "id": "clean-terminal"
      },
      "source": [
        "O scikit-learn implementa diferentes modelos de classificação baseados em probabilidades no módulo `sklearn.naive_bayes`. Eles se diferem pela forma como calculam as probabilidades dos atributos.\n",
        "\n",
        "O Naive Bayes categórico é implementado pela classe `sklearn.naive_bayes.CategoricalNB`. Por exemplo, para estimar a verossimilhança, ele usa a seguinte fórmula,\n",
        "\n",
        "$$p(x|y) = \\frac{N_x+\\alpha}{N_y+\\alpha{}n_i},$$\n",
        "\n",
        "na qual as variáveis representam o seguinte:\n",
        "\n",
        "- $N_x$ é o número de exemplos da classe $y$ que possuem o valor $x$ para o atributo em questão;\n",
        "- $N_y$ é o número de exemplos da classe $y$;\n",
        "- $\\alpha$ é um fator de ajuste;\n",
        "- $n_i$ é o número de valores distintos que o atributo em questão pode assumir.\n",
        "\n",
        "Tomando o conjunto `play_tennis` como exemplo, tínhamos o seguinte:\n",
        "\n",
        "- Havia 9 instâncias da classe `sim` no conjunto de treinamento;\n",
        "- O atributo `aparencia` possuía três possíveis valores: `ensolarado`, `nublado` e `chuvoso`;\n",
        "- Das 9 instâncias da classe `sim`, duas possuem valor `ensolarado`.\n",
        "\n",
        "Nesse caso, a verossimilhança do valor `ensolarado` seria calculada da seguinte maneira:\n",
        "\n",
        "$$p(\\textsf{ensolarado}|\\textsf{sim})=\\frac{2+\\alpha}{9+3\\alpha}$$\n",
        "\n",
        "Isso se chama suavização de Laplace e serve para resolver problemas que podem acontecer quando um exemplo possui um valor que não estava presente no conjunto de treinamento."
      ]
    },
    {
      "cell_type": "markdown",
      "id": "attached-moderator",
      "metadata": {
        "id": "attached-moderator"
      },
      "source": [
        "Vamos começar importando esta classe."
      ]
    },
    {
      "cell_type": "code",
      "execution_count": null,
      "id": "acute-panama",
      "metadata": {
        "colab": {
          "base_uri": "https://localhost:8080/"
        },
        "id": "acute-panama",
        "outputId": "7779c57c-b281-49f3-b846-5c64549c2ffe"
      },
      "outputs": [
        {
          "output_type": "execute_result",
          "data": {
            "text/plain": [
              "['ABCMeta',\n",
              " 'BaseEstimator',\n",
              " 'BernoulliNB',\n",
              " 'CategoricalNB',\n",
              " 'ClassifierMixin',\n",
              " 'ComplementNB',\n",
              " 'GaussianNB',\n",
              " 'Hidden',\n",
              " 'Integral',\n",
              " 'Interval',\n",
              " 'LabelBinarizer',\n",
              " 'MultinomialNB',\n",
              " 'Real',\n",
              " 'StrOptions',\n",
              " '_BaseDiscreteNB',\n",
              " '_BaseNB',\n",
              " '__all__',\n",
              " '__builtins__',\n",
              " '__cached__',\n",
              " '__doc__',\n",
              " '__file__',\n",
              " '__loader__',\n",
              " '__name__',\n",
              " '__package__',\n",
              " '__spec__',\n",
              " '_check_partial_fit_first_call',\n",
              " '_check_sample_weight',\n",
              " 'abstractmethod',\n",
              " 'binarize',\n",
              " 'check_is_fitted',\n",
              " 'check_non_negative',\n",
              " 'label_binarize',\n",
              " 'logsumexp',\n",
              " 'np',\n",
              " 'safe_sparse_dot',\n",
              " 'warnings']"
            ]
          },
          "metadata": {},
          "execution_count": 12
        }
      ],
      "source": [
        "from sklearn.naive_bayes import CategoricalNB\n",
        "import sklearn.naive_bayes\n",
        "dir(sklearn.naive_bayes)"
      ]
    },
    {
      "cell_type": "markdown",
      "id": "suitable-halloween",
      "metadata": {
        "id": "suitable-halloween"
      },
      "source": [
        "Como no problema `play_tennis` todas as categorias ocorrem para todos os exemplos pelo menos uma vez, não há possibilidade de um exemplo de inferência conter valores novos. Portanto podemos especificar um valor bem pequeno para esse hiperparâmetro—por exemplo, $\\alpha=1\\times10^{-10}$."
      ]
    },
    {
      "cell_type": "code",
      "execution_count": null,
      "id": "identified-premises",
      "metadata": {
        "id": "identified-premises"
      },
      "outputs": [],
      "source": [
        "nb = CategoricalNB(alpha=1e-10)"
      ]
    },
    {
      "cell_type": "markdown",
      "id": "technological-opening",
      "metadata": {
        "id": "technological-opening"
      },
      "source": [
        "Entretanto, se tentarmos treinar o classificador Naive Bayes com o  conjunto de atributos que selecionamos, uma exceção será lançada:"
      ]
    },
    {
      "cell_type": "code",
      "execution_count": null,
      "id": "resistant-pursuit",
      "metadata": {
        "colab": {
          "base_uri": "https://localhost:8080/",
          "height": 287
        },
        "id": "resistant-pursuit",
        "outputId": "ca2d6565-dbf5-486a-9f03-1e140f03983b"
      },
      "outputs": [
        {
          "output_type": "error",
          "ename": "ValueError",
          "evalue": "invalid literal for int() with base 10: 'ensolarado'",
          "traceback": [
            "\u001b[0;31m---------------------------------------------------------------------------\u001b[0m",
            "\u001b[0;31mValueError\u001b[0m                                Traceback (most recent call last)",
            "\u001b[0;32m<ipython-input-14-557cab9083e4>\u001b[0m in \u001b[0;36m<cell line: 1>\u001b[0;34m()\u001b[0m\n\u001b[0;32m----> 1\u001b[0;31m \u001b[0mnb\u001b[0m\u001b[0;34m.\u001b[0m\u001b[0mfit\u001b[0m\u001b[0;34m(\u001b[0m\u001b[0mX\u001b[0m\u001b[0;34m,\u001b[0m \u001b[0my\u001b[0m\u001b[0;34m)\u001b[0m\u001b[0;34m\u001b[0m\u001b[0;34m\u001b[0m\u001b[0m\n\u001b[0m",
            "\u001b[0;32m/usr/local/lib/python3.10/dist-packages/sklearn/naive_bayes.py\u001b[0m in \u001b[0;36mfit\u001b[0;34m(self, X, y, sample_weight)\u001b[0m\n\u001b[1;32m   1393\u001b[0m             \u001b[0mReturns\u001b[0m \u001b[0mthe\u001b[0m \u001b[0minstance\u001b[0m \u001b[0mitself\u001b[0m\u001b[0;34m.\u001b[0m\u001b[0;34m\u001b[0m\u001b[0;34m\u001b[0m\u001b[0m\n\u001b[1;32m   1394\u001b[0m         \"\"\"\n\u001b[0;32m-> 1395\u001b[0;31m         \u001b[0;32mreturn\u001b[0m \u001b[0msuper\u001b[0m\u001b[0;34m(\u001b[0m\u001b[0;34m)\u001b[0m\u001b[0;34m.\u001b[0m\u001b[0mfit\u001b[0m\u001b[0;34m(\u001b[0m\u001b[0mX\u001b[0m\u001b[0;34m,\u001b[0m \u001b[0my\u001b[0m\u001b[0;34m,\u001b[0m \u001b[0msample_weight\u001b[0m\u001b[0;34m=\u001b[0m\u001b[0msample_weight\u001b[0m\u001b[0;34m)\u001b[0m\u001b[0;34m\u001b[0m\u001b[0;34m\u001b[0m\u001b[0m\n\u001b[0m\u001b[1;32m   1396\u001b[0m \u001b[0;34m\u001b[0m\u001b[0m\n\u001b[1;32m   1397\u001b[0m     \u001b[0;32mdef\u001b[0m \u001b[0mpartial_fit\u001b[0m\u001b[0;34m(\u001b[0m\u001b[0mself\u001b[0m\u001b[0;34m,\u001b[0m \u001b[0mX\u001b[0m\u001b[0;34m,\u001b[0m \u001b[0my\u001b[0m\u001b[0;34m,\u001b[0m \u001b[0mclasses\u001b[0m\u001b[0;34m=\u001b[0m\u001b[0;32mNone\u001b[0m\u001b[0;34m,\u001b[0m \u001b[0msample_weight\u001b[0m\u001b[0;34m=\u001b[0m\u001b[0;32mNone\u001b[0m\u001b[0;34m)\u001b[0m\u001b[0;34m:\u001b[0m\u001b[0;34m\u001b[0m\u001b[0;34m\u001b[0m\u001b[0m\n",
            "\u001b[0;32m/usr/local/lib/python3.10/dist-packages/sklearn/naive_bayes.py\u001b[0m in \u001b[0;36mfit\u001b[0;34m(self, X, y, sample_weight)\u001b[0m\n\u001b[1;32m    747\u001b[0m         \"\"\"\n\u001b[1;32m    748\u001b[0m         \u001b[0mself\u001b[0m\u001b[0;34m.\u001b[0m\u001b[0m_validate_params\u001b[0m\u001b[0;34m(\u001b[0m\u001b[0;34m)\u001b[0m\u001b[0;34m\u001b[0m\u001b[0;34m\u001b[0m\u001b[0m\n\u001b[0;32m--> 749\u001b[0;31m         \u001b[0mX\u001b[0m\u001b[0;34m,\u001b[0m \u001b[0my\u001b[0m \u001b[0;34m=\u001b[0m \u001b[0mself\u001b[0m\u001b[0;34m.\u001b[0m\u001b[0m_check_X_y\u001b[0m\u001b[0;34m(\u001b[0m\u001b[0mX\u001b[0m\u001b[0;34m,\u001b[0m \u001b[0my\u001b[0m\u001b[0;34m)\u001b[0m\u001b[0;34m\u001b[0m\u001b[0;34m\u001b[0m\u001b[0m\n\u001b[0m\u001b[1;32m    750\u001b[0m         \u001b[0m_\u001b[0m\u001b[0;34m,\u001b[0m \u001b[0mn_features\u001b[0m \u001b[0;34m=\u001b[0m \u001b[0mX\u001b[0m\u001b[0;34m.\u001b[0m\u001b[0mshape\u001b[0m\u001b[0;34m\u001b[0m\u001b[0;34m\u001b[0m\u001b[0m\n\u001b[1;32m    751\u001b[0m \u001b[0;34m\u001b[0m\u001b[0m\n",
            "\u001b[0;32m/usr/local/lib/python3.10/dist-packages/sklearn/naive_bayes.py\u001b[0m in \u001b[0;36m_check_X_y\u001b[0;34m(self, X, y, reset)\u001b[0m\n\u001b[1;32m   1451\u001b[0m \u001b[0;34m\u001b[0m\u001b[0m\n\u001b[1;32m   1452\u001b[0m     \u001b[0;32mdef\u001b[0m \u001b[0m_check_X_y\u001b[0m\u001b[0;34m(\u001b[0m\u001b[0mself\u001b[0m\u001b[0;34m,\u001b[0m \u001b[0mX\u001b[0m\u001b[0;34m,\u001b[0m \u001b[0my\u001b[0m\u001b[0;34m,\u001b[0m \u001b[0mreset\u001b[0m\u001b[0;34m=\u001b[0m\u001b[0;32mTrue\u001b[0m\u001b[0;34m)\u001b[0m\u001b[0;34m:\u001b[0m\u001b[0;34m\u001b[0m\u001b[0;34m\u001b[0m\u001b[0m\n\u001b[0;32m-> 1453\u001b[0;31m         X, y = self._validate_data(\n\u001b[0m\u001b[1;32m   1454\u001b[0m             \u001b[0mX\u001b[0m\u001b[0;34m,\u001b[0m \u001b[0my\u001b[0m\u001b[0;34m,\u001b[0m \u001b[0mdtype\u001b[0m\u001b[0;34m=\u001b[0m\u001b[0;34m\"int\"\u001b[0m\u001b[0;34m,\u001b[0m \u001b[0maccept_sparse\u001b[0m\u001b[0;34m=\u001b[0m\u001b[0;32mFalse\u001b[0m\u001b[0;34m,\u001b[0m \u001b[0mforce_all_finite\u001b[0m\u001b[0;34m=\u001b[0m\u001b[0;32mTrue\u001b[0m\u001b[0;34m,\u001b[0m \u001b[0mreset\u001b[0m\u001b[0;34m=\u001b[0m\u001b[0mreset\u001b[0m\u001b[0;34m\u001b[0m\u001b[0;34m\u001b[0m\u001b[0m\n\u001b[1;32m   1455\u001b[0m         )\n",
            "\u001b[0;32m/usr/local/lib/python3.10/dist-packages/sklearn/base.py\u001b[0m in \u001b[0;36m_validate_data\u001b[0;34m(self, X, y, reset, validate_separately, **check_params)\u001b[0m\n\u001b[1;32m    582\u001b[0m                 \u001b[0my\u001b[0m \u001b[0;34m=\u001b[0m \u001b[0mcheck_array\u001b[0m\u001b[0;34m(\u001b[0m\u001b[0my\u001b[0m\u001b[0;34m,\u001b[0m \u001b[0minput_name\u001b[0m\u001b[0;34m=\u001b[0m\u001b[0;34m\"y\"\u001b[0m\u001b[0;34m,\u001b[0m \u001b[0;34m**\u001b[0m\u001b[0mcheck_y_params\u001b[0m\u001b[0;34m)\u001b[0m\u001b[0;34m\u001b[0m\u001b[0;34m\u001b[0m\u001b[0m\n\u001b[1;32m    583\u001b[0m             \u001b[0;32melse\u001b[0m\u001b[0;34m:\u001b[0m\u001b[0;34m\u001b[0m\u001b[0;34m\u001b[0m\u001b[0m\n\u001b[0;32m--> 584\u001b[0;31m                 \u001b[0mX\u001b[0m\u001b[0;34m,\u001b[0m \u001b[0my\u001b[0m \u001b[0;34m=\u001b[0m \u001b[0mcheck_X_y\u001b[0m\u001b[0;34m(\u001b[0m\u001b[0mX\u001b[0m\u001b[0;34m,\u001b[0m \u001b[0my\u001b[0m\u001b[0;34m,\u001b[0m \u001b[0;34m**\u001b[0m\u001b[0mcheck_params\u001b[0m\u001b[0;34m)\u001b[0m\u001b[0;34m\u001b[0m\u001b[0;34m\u001b[0m\u001b[0m\n\u001b[0m\u001b[1;32m    585\u001b[0m             \u001b[0mout\u001b[0m \u001b[0;34m=\u001b[0m \u001b[0mX\u001b[0m\u001b[0;34m,\u001b[0m \u001b[0my\u001b[0m\u001b[0;34m\u001b[0m\u001b[0;34m\u001b[0m\u001b[0m\n\u001b[1;32m    586\u001b[0m \u001b[0;34m\u001b[0m\u001b[0m\n",
            "\u001b[0;32m/usr/local/lib/python3.10/dist-packages/sklearn/utils/validation.py\u001b[0m in \u001b[0;36mcheck_X_y\u001b[0;34m(X, y, accept_sparse, accept_large_sparse, dtype, order, copy, force_all_finite, ensure_2d, allow_nd, multi_output, ensure_min_samples, ensure_min_features, y_numeric, estimator)\u001b[0m\n\u001b[1;32m   1104\u001b[0m         )\n\u001b[1;32m   1105\u001b[0m \u001b[0;34m\u001b[0m\u001b[0m\n\u001b[0;32m-> 1106\u001b[0;31m     X = check_array(\n\u001b[0m\u001b[1;32m   1107\u001b[0m         \u001b[0mX\u001b[0m\u001b[0;34m,\u001b[0m\u001b[0;34m\u001b[0m\u001b[0;34m\u001b[0m\u001b[0m\n\u001b[1;32m   1108\u001b[0m         \u001b[0maccept_sparse\u001b[0m\u001b[0;34m=\u001b[0m\u001b[0maccept_sparse\u001b[0m\u001b[0;34m,\u001b[0m\u001b[0;34m\u001b[0m\u001b[0;34m\u001b[0m\u001b[0m\n",
            "\u001b[0;32m/usr/local/lib/python3.10/dist-packages/sklearn/utils/validation.py\u001b[0m in \u001b[0;36mcheck_array\u001b[0;34m(array, accept_sparse, accept_large_sparse, dtype, order, copy, force_all_finite, ensure_2d, allow_nd, ensure_min_samples, ensure_min_features, estimator, input_name)\u001b[0m\n\u001b[1;32m    875\u001b[0m                             \u001b[0minput_name\u001b[0m\u001b[0;34m=\u001b[0m\u001b[0minput_name\u001b[0m\u001b[0;34m,\u001b[0m\u001b[0;34m\u001b[0m\u001b[0;34m\u001b[0m\u001b[0m\n\u001b[1;32m    876\u001b[0m                         )\n\u001b[0;32m--> 877\u001b[0;31m                     \u001b[0marray\u001b[0m \u001b[0;34m=\u001b[0m \u001b[0mxp\u001b[0m\u001b[0;34m.\u001b[0m\u001b[0mastype\u001b[0m\u001b[0;34m(\u001b[0m\u001b[0marray\u001b[0m\u001b[0;34m,\u001b[0m \u001b[0mdtype\u001b[0m\u001b[0;34m,\u001b[0m \u001b[0mcopy\u001b[0m\u001b[0;34m=\u001b[0m\u001b[0;32mFalse\u001b[0m\u001b[0;34m)\u001b[0m\u001b[0;34m\u001b[0m\u001b[0;34m\u001b[0m\u001b[0m\n\u001b[0m\u001b[1;32m    878\u001b[0m                 \u001b[0;32melse\u001b[0m\u001b[0;34m:\u001b[0m\u001b[0;34m\u001b[0m\u001b[0;34m\u001b[0m\u001b[0m\n\u001b[1;32m    879\u001b[0m                     \u001b[0marray\u001b[0m \u001b[0;34m=\u001b[0m \u001b[0m_asarray_with_order\u001b[0m\u001b[0;34m(\u001b[0m\u001b[0marray\u001b[0m\u001b[0;34m,\u001b[0m \u001b[0morder\u001b[0m\u001b[0;34m=\u001b[0m\u001b[0morder\u001b[0m\u001b[0;34m,\u001b[0m \u001b[0mdtype\u001b[0m\u001b[0;34m=\u001b[0m\u001b[0mdtype\u001b[0m\u001b[0;34m,\u001b[0m \u001b[0mxp\u001b[0m\u001b[0;34m=\u001b[0m\u001b[0mxp\u001b[0m\u001b[0;34m)\u001b[0m\u001b[0;34m\u001b[0m\u001b[0;34m\u001b[0m\u001b[0m\n",
            "\u001b[0;32m/usr/local/lib/python3.10/dist-packages/sklearn/utils/_array_api.py\u001b[0m in \u001b[0;36mastype\u001b[0;34m(self, x, dtype, copy, casting)\u001b[0m\n\u001b[1;32m     66\u001b[0m     \u001b[0;32mdef\u001b[0m \u001b[0mastype\u001b[0m\u001b[0;34m(\u001b[0m\u001b[0mself\u001b[0m\u001b[0;34m,\u001b[0m \u001b[0mx\u001b[0m\u001b[0;34m,\u001b[0m \u001b[0mdtype\u001b[0m\u001b[0;34m,\u001b[0m \u001b[0;34m*\u001b[0m\u001b[0;34m,\u001b[0m \u001b[0mcopy\u001b[0m\u001b[0;34m=\u001b[0m\u001b[0;32mTrue\u001b[0m\u001b[0;34m,\u001b[0m \u001b[0mcasting\u001b[0m\u001b[0;34m=\u001b[0m\u001b[0;34m\"unsafe\"\u001b[0m\u001b[0;34m)\u001b[0m\u001b[0;34m:\u001b[0m\u001b[0;34m\u001b[0m\u001b[0;34m\u001b[0m\u001b[0m\n\u001b[1;32m     67\u001b[0m         \u001b[0;31m# astype is not defined in the top level NumPy namespace\u001b[0m\u001b[0;34m\u001b[0m\u001b[0;34m\u001b[0m\u001b[0m\n\u001b[0;32m---> 68\u001b[0;31m         \u001b[0;32mreturn\u001b[0m \u001b[0mx\u001b[0m\u001b[0;34m.\u001b[0m\u001b[0mastype\u001b[0m\u001b[0;34m(\u001b[0m\u001b[0mdtype\u001b[0m\u001b[0;34m,\u001b[0m \u001b[0mcopy\u001b[0m\u001b[0;34m=\u001b[0m\u001b[0mcopy\u001b[0m\u001b[0;34m,\u001b[0m \u001b[0mcasting\u001b[0m\u001b[0;34m=\u001b[0m\u001b[0mcasting\u001b[0m\u001b[0;34m)\u001b[0m\u001b[0;34m\u001b[0m\u001b[0;34m\u001b[0m\u001b[0m\n\u001b[0m\u001b[1;32m     69\u001b[0m \u001b[0;34m\u001b[0m\u001b[0m\n\u001b[1;32m     70\u001b[0m     \u001b[0;32mdef\u001b[0m \u001b[0masarray\u001b[0m\u001b[0;34m(\u001b[0m\u001b[0mself\u001b[0m\u001b[0;34m,\u001b[0m \u001b[0mx\u001b[0m\u001b[0;34m,\u001b[0m \u001b[0;34m*\u001b[0m\u001b[0;34m,\u001b[0m \u001b[0mdtype\u001b[0m\u001b[0;34m=\u001b[0m\u001b[0;32mNone\u001b[0m\u001b[0;34m,\u001b[0m \u001b[0mdevice\u001b[0m\u001b[0;34m=\u001b[0m\u001b[0;32mNone\u001b[0m\u001b[0;34m,\u001b[0m \u001b[0mcopy\u001b[0m\u001b[0;34m=\u001b[0m\u001b[0;32mNone\u001b[0m\u001b[0;34m)\u001b[0m\u001b[0;34m:\u001b[0m\u001b[0;34m\u001b[0m\u001b[0;34m\u001b[0m\u001b[0m\n",
            "\u001b[0;31mValueError\u001b[0m: invalid literal for int() with base 10: 'ensolarado'"
          ]
        }
      ],
      "source": [
        "nb.fit(X, y)"
      ]
    },
    {
      "cell_type": "markdown",
      "id": "fabulous-egypt",
      "metadata": {
        "id": "fabulous-egypt"
      },
      "source": [
        "De modo geral, todos os indutores do Scikit-Learn exigem que os atributos sejam numéricos. Neste caso em que os atributos são categóricos, eles precisam ser mapeados para um conjunto de valores numéricos e discretos.\n",
        "\n",
        "Isso pode ser feito, por exemplo, com a classe `OrdinalEncoder`."
      ]
    },
    {
      "cell_type": "code",
      "execution_count": null,
      "id": "annual-encoding",
      "metadata": {
        "id": "annual-encoding"
      },
      "outputs": [],
      "source": [
        "from sklearn.preprocessing import OrdinalEncoder"
      ]
    },
    {
      "cell_type": "markdown",
      "id": "falling-bonus",
      "metadata": {
        "id": "falling-bonus"
      },
      "source": [
        "Vamos começar criando um codificador para as características armazenadas em `X`."
      ]
    },
    {
      "cell_type": "markdown",
      "id": "e8a11ae6",
      "metadata": {
        "id": "e8a11ae6"
      },
      "source": [
        "Instancie um objeto da calsse `OrdinalEncoder` e \"treine-o\" nos dados de entrada."
      ]
    },
    {
      "cell_type": "code",
      "execution_count": null,
      "id": "composed-relation",
      "metadata": {
        "id": "composed-relation"
      },
      "outputs": [],
      "source": [
        "tennis_oe = OrdinalEncoder()"
      ]
    },
    {
      "cell_type": "code",
      "execution_count": null,
      "id": "exotic-probability",
      "metadata": {
        "id": "exotic-probability"
      },
      "outputs": [],
      "source": [
        "tennis_oe.fit(X);"
      ]
    },
    {
      "cell_type": "markdown",
      "id": "stretch-constitutional",
      "metadata": {
        "id": "stretch-constitutional"
      },
      "source": [
        "Agora, aplique a transformação aos exemplos originais, produzindo uma nova versão da matriz `X`."
      ]
    },
    {
      "cell_type": "code",
      "execution_count": null,
      "id": "recovered-airplane",
      "metadata": {
        "colab": {
          "base_uri": "https://localhost:8080/"
        },
        "id": "recovered-airplane",
        "outputId": "048a2afa-3838-4c70-da43-db99ba1a432a"
      },
      "outputs": [
        {
          "output_type": "execute_result",
          "data": {
            "text/plain": [
              "array([[1., 2., 0., 1.],\n",
              "       [1., 2., 0., 0.],\n",
              "       [2., 2., 0., 1.],\n",
              "       [0., 1., 0., 1.],\n",
              "       [0., 0., 1., 1.],\n",
              "       [0., 0., 1., 0.],\n",
              "       [2., 0., 1., 0.],\n",
              "       [1., 1., 0., 1.],\n",
              "       [1., 0., 1., 1.],\n",
              "       [0., 1., 1., 1.],\n",
              "       [1., 1., 1., 0.],\n",
              "       [2., 1., 0., 0.],\n",
              "       [2., 2., 1., 1.],\n",
              "       [0., 1., 0., 0.]])"
            ]
          },
          "metadata": {},
          "execution_count": 18
        }
      ],
      "source": [
        "Xenc = tennis_oe.transform(X)\n",
        "Xenc"
      ]
    },
    {
      "cell_type": "markdown",
      "id": "brilliant-prophet",
      "metadata": {
        "id": "brilliant-prophet"
      },
      "source": [
        "Precisamos fazer a mesma coisa para os rótulos. Entretanto, a classe `OrdinalEncoder` só trabalha com matrizes e `DataFrames`. Para discretizar uma série ou um vetor, usamos a classe `LabelEncoder`."
      ]
    },
    {
      "cell_type": "code",
      "execution_count": null,
      "id": "bigger-webmaster",
      "metadata": {
        "id": "bigger-webmaster"
      },
      "outputs": [],
      "source": [
        "from sklearn.preprocessing import LabelEncoder"
      ]
    },
    {
      "cell_type": "code",
      "execution_count": null,
      "id": "sacred-passage",
      "metadata": {
        "id": "sacred-passage"
      },
      "outputs": [],
      "source": [
        "tennis_le = LabelEncoder()"
      ]
    },
    {
      "cell_type": "code",
      "execution_count": null,
      "id": "useful-dating",
      "metadata": {
        "id": "useful-dating"
      },
      "outputs": [],
      "source": [
        "tennis_le.fit(y);"
      ]
    },
    {
      "cell_type": "code",
      "execution_count": null,
      "id": "approximate-former",
      "metadata": {
        "id": "approximate-former"
      },
      "outputs": [],
      "source": [
        "yenc = tennis_le.transform(y);"
      ]
    },
    {
      "cell_type": "markdown",
      "id": "standard-paste",
      "metadata": {
        "id": "standard-paste"
      },
      "source": [
        "Para treinar o modelo, basta usar o método `fit` sobre os exemplos de treinamento."
      ]
    },
    {
      "cell_type": "code",
      "execution_count": null,
      "id": "scheduled-chess",
      "metadata": {
        "colab": {
          "base_uri": "https://localhost:8080/",
          "height": 75
        },
        "id": "scheduled-chess",
        "outputId": "e9d7f48d-ff67-4b8b-cb77-d3afad17c85a"
      },
      "outputs": [
        {
          "output_type": "execute_result",
          "data": {
            "text/plain": [
              "CategoricalNB(alpha=1e-10)"
            ],
            "text/html": [
              "<style>#sk-container-id-1 {color: black;background-color: white;}#sk-container-id-1 pre{padding: 0;}#sk-container-id-1 div.sk-toggleable {background-color: white;}#sk-container-id-1 label.sk-toggleable__label {cursor: pointer;display: block;width: 100%;margin-bottom: 0;padding: 0.3em;box-sizing: border-box;text-align: center;}#sk-container-id-1 label.sk-toggleable__label-arrow:before {content: \"▸\";float: left;margin-right: 0.25em;color: #696969;}#sk-container-id-1 label.sk-toggleable__label-arrow:hover:before {color: black;}#sk-container-id-1 div.sk-estimator:hover label.sk-toggleable__label-arrow:before {color: black;}#sk-container-id-1 div.sk-toggleable__content {max-height: 0;max-width: 0;overflow: hidden;text-align: left;background-color: #f0f8ff;}#sk-container-id-1 div.sk-toggleable__content pre {margin: 0.2em;color: black;border-radius: 0.25em;background-color: #f0f8ff;}#sk-container-id-1 input.sk-toggleable__control:checked~div.sk-toggleable__content {max-height: 200px;max-width: 100%;overflow: auto;}#sk-container-id-1 input.sk-toggleable__control:checked~label.sk-toggleable__label-arrow:before {content: \"▾\";}#sk-container-id-1 div.sk-estimator input.sk-toggleable__control:checked~label.sk-toggleable__label {background-color: #d4ebff;}#sk-container-id-1 div.sk-label input.sk-toggleable__control:checked~label.sk-toggleable__label {background-color: #d4ebff;}#sk-container-id-1 input.sk-hidden--visually {border: 0;clip: rect(1px 1px 1px 1px);clip: rect(1px, 1px, 1px, 1px);height: 1px;margin: -1px;overflow: hidden;padding: 0;position: absolute;width: 1px;}#sk-container-id-1 div.sk-estimator {font-family: monospace;background-color: #f0f8ff;border: 1px dotted black;border-radius: 0.25em;box-sizing: border-box;margin-bottom: 0.5em;}#sk-container-id-1 div.sk-estimator:hover {background-color: #d4ebff;}#sk-container-id-1 div.sk-parallel-item::after {content: \"\";width: 100%;border-bottom: 1px solid gray;flex-grow: 1;}#sk-container-id-1 div.sk-label:hover label.sk-toggleable__label {background-color: #d4ebff;}#sk-container-id-1 div.sk-serial::before {content: \"\";position: absolute;border-left: 1px solid gray;box-sizing: border-box;top: 0;bottom: 0;left: 50%;z-index: 0;}#sk-container-id-1 div.sk-serial {display: flex;flex-direction: column;align-items: center;background-color: white;padding-right: 0.2em;padding-left: 0.2em;position: relative;}#sk-container-id-1 div.sk-item {position: relative;z-index: 1;}#sk-container-id-1 div.sk-parallel {display: flex;align-items: stretch;justify-content: center;background-color: white;position: relative;}#sk-container-id-1 div.sk-item::before, #sk-container-id-1 div.sk-parallel-item::before {content: \"\";position: absolute;border-left: 1px solid gray;box-sizing: border-box;top: 0;bottom: 0;left: 50%;z-index: -1;}#sk-container-id-1 div.sk-parallel-item {display: flex;flex-direction: column;z-index: 1;position: relative;background-color: white;}#sk-container-id-1 div.sk-parallel-item:first-child::after {align-self: flex-end;width: 50%;}#sk-container-id-1 div.sk-parallel-item:last-child::after {align-self: flex-start;width: 50%;}#sk-container-id-1 div.sk-parallel-item:only-child::after {width: 0;}#sk-container-id-1 div.sk-dashed-wrapped {border: 1px dashed gray;margin: 0 0.4em 0.5em 0.4em;box-sizing: border-box;padding-bottom: 0.4em;background-color: white;}#sk-container-id-1 div.sk-label label {font-family: monospace;font-weight: bold;display: inline-block;line-height: 1.2em;}#sk-container-id-1 div.sk-label-container {text-align: center;}#sk-container-id-1 div.sk-container {/* jupyter's `normalize.less` sets `[hidden] { display: none; }` but bootstrap.min.css set `[hidden] { display: none !important; }` so we also need the `!important` here to be able to override the default hidden behavior on the sphinx rendered scikit-learn.org. See: https://github.com/scikit-learn/scikit-learn/issues/21755 */display: inline-block !important;position: relative;}#sk-container-id-1 div.sk-text-repr-fallback {display: none;}</style><div id=\"sk-container-id-1\" class=\"sk-top-container\"><div class=\"sk-text-repr-fallback\"><pre>CategoricalNB(alpha=1e-10)</pre><b>In a Jupyter environment, please rerun this cell to show the HTML representation or trust the notebook. <br />On GitHub, the HTML representation is unable to render, please try loading this page with nbviewer.org.</b></div><div class=\"sk-container\" hidden><div class=\"sk-item\"><div class=\"sk-estimator sk-toggleable\"><input class=\"sk-toggleable__control sk-hidden--visually\" id=\"sk-estimator-id-1\" type=\"checkbox\" checked><label for=\"sk-estimator-id-1\" class=\"sk-toggleable__label sk-toggleable__label-arrow\">CategoricalNB</label><div class=\"sk-toggleable__content\"><pre>CategoricalNB(alpha=1e-10)</pre></div></div></div></div></div>"
            ]
          },
          "metadata": {},
          "execution_count": 23
        }
      ],
      "source": [
        "nb.fit(Xenc, yenc)"
      ]
    },
    {
      "cell_type": "markdown",
      "id": "entitled-semiconductor",
      "metadata": {
        "id": "entitled-semiconductor"
      },
      "source": [
        "Vamos testar com o exemplo do dia 15."
      ]
    },
    {
      "cell_type": "code",
      "execution_count": null,
      "id": "frequent-planet",
      "metadata": {
        "id": "frequent-planet"
      },
      "outputs": [],
      "source": [
        "dia15 = ['ensolarado', 'moderado', 'alta', 'forte']"
      ]
    },
    {
      "cell_type": "code",
      "execution_count": null,
      "id": "fatal-franchise",
      "metadata": {
        "colab": {
          "base_uri": "https://localhost:8080/"
        },
        "id": "fatal-franchise",
        "outputId": "03eb7358-360b-4112-9cb9-17cdd7330ed4"
      },
      "outputs": [
        {
          "output_type": "execute_result",
          "data": {
            "text/plain": [
              "['ensolarado', 'moderado', 'alta', 'forte']"
            ]
          },
          "metadata": {},
          "execution_count": 25
        }
      ],
      "source": [
        "dia15\n"
      ]
    },
    {
      "cell_type": "markdown",
      "id": "incomplete-issue",
      "metadata": {
        "id": "incomplete-issue"
      },
      "source": [
        "Para codificar esse exemplo em valores ordinais, ele precisa estar contido em uma matriz ou um *data frame*. Basta"
      ]
    },
    {
      "cell_type": "code",
      "execution_count": null,
      "id": "beautiful-background",
      "metadata": {
        "colab": {
          "base_uri": "https://localhost:8080/"
        },
        "id": "beautiful-background",
        "outputId": "3a6b6c22-d9d3-4a13-d827-76899de128f2"
      },
      "outputs": [
        {
          "output_type": "stream",
          "name": "stderr",
          "text": [
            "/usr/local/lib/python3.10/dist-packages/sklearn/base.py:439: UserWarning: X does not have valid feature names, but OrdinalEncoder was fitted with feature names\n",
            "  warnings.warn(\n"
          ]
        },
        {
          "output_type": "execute_result",
          "data": {
            "text/plain": [
              "array([[1., 1., 0., 0.]])"
            ]
          },
          "metadata": {},
          "execution_count": 26
        }
      ],
      "source": [
        "Xteste = tennis_oe.transform([dia15])\n",
        "Xteste"
      ]
    },
    {
      "cell_type": "markdown",
      "id": "rational-trout",
      "metadata": {
        "id": "rational-trout"
      },
      "source": [
        "E agora usamos o método `predict()` para classificar."
      ]
    },
    {
      "cell_type": "code",
      "execution_count": null,
      "id": "existing-ecology",
      "metadata": {
        "colab": {
          "base_uri": "https://localhost:8080/"
        },
        "id": "existing-ecology",
        "outputId": "a56671e8-ed1d-42a4-e1ea-3eace996817c"
      },
      "outputs": [
        {
          "output_type": "execute_result",
          "data": {
            "text/plain": [
              "array([0])"
            ]
          },
          "metadata": {},
          "execution_count": 27
        }
      ],
      "source": [
        "resultado = nb.predict(Xteste)\n",
        "resultado\n",
        "#array([0])"
      ]
    },
    {
      "cell_type": "markdown",
      "id": "flush-database",
      "metadata": {
        "id": "flush-database"
      },
      "source": [
        "Para nos certificarmos de que ele previu a classe como esperado, usamos o `LabelEncoder` com uma transformação inversa:"
      ]
    },
    {
      "cell_type": "code",
      "execution_count": null,
      "id": "portable-shade",
      "metadata": {
        "colab": {
          "base_uri": "https://localhost:8080/"
        },
        "id": "portable-shade",
        "outputId": "ccb0997e-f573-486a-e4f0-f980469cfaaf"
      },
      "outputs": [
        {
          "output_type": "execute_result",
          "data": {
            "text/plain": [
              "array(['nao'], dtype=object)"
            ]
          },
          "metadata": {},
          "execution_count": 28
        }
      ],
      "source": [
        "tennis_le.inverse_transform(resultado)"
      ]
    }
  ],
  "metadata": {
    "kernelspec": {
      "display_name": "Python 3 (ipykernel)",
      "language": "python",
      "name": "python3"
    },
    "language_info": {
      "codemirror_mode": {
        "name": "ipython",
        "version": 3
      },
      "file_extension": ".py",
      "mimetype": "text/x-python",
      "name": "python",
      "nbconvert_exporter": "python",
      "pygments_lexer": "ipython3",
      "version": "3.11.2"
    },
    "colab": {
      "provenance": [],
      "include_colab_link": true
    }
  },
  "nbformat": 4,
  "nbformat_minor": 5
}