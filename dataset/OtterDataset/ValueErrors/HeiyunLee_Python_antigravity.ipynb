{
 "cells": [
  {
   "cell_type": "code",
   "execution_count": 1,
   "id": "7b96b8db",
   "metadata": {},
   "outputs": [],
   "source": [
    "import antigravity"
   ]
  },
  {
   "cell_type": "markdown",
   "id": "f6b57b37",
   "metadata": {},
   "source": [
    "# Header 1"
   ]
  },
  {
   "cell_type": "markdown",
   "id": "c58c29f6",
   "metadata": {},
   "source": [
    "## Header 2"
   ]
  },
  {
   "cell_type": "markdown",
   "id": "9514bd8d",
   "metadata": {},
   "source": [
    "### Header 3"
   ]
  },
  {
   "cell_type": "markdown",
   "id": "574fbcd4",
   "metadata": {},
   "source": [
    "#### Header 4"
   ]
  },
  {
   "cell_type": "markdown",
   "id": "ff909530",
   "metadata": {},
   "source": [
    "- Bulleted List 1\n",
    "    - Bulleted List 2\n",
    "        - Bulleted List 3"
   ]
  },
  {
   "cell_type": "markdown",
   "id": "d31bfc0e",
   "metadata": {},
   "source": [
    "1. Numbered LIst\n",
    "     1. Numbered List\n",
    "     2. Numbered List\n",
    "         1. Numbered List"
   ]
  },
  {
   "cell_type": "markdown",
   "id": "e3e57bc0",
   "metadata": {},
   "source": [
    "**Bold**"
   ]
  },
  {
   "cell_type": "markdown",
   "id": "482b8d23",
   "metadata": {},
   "source": [
    "*Italic*"
   ]
  },
  {
   "cell_type": "code",
   "execution_count": 5,
   "id": "be163a0b",
   "metadata": {},
   "outputs": [
    {
     "name": "stdout",
     "output_type": "stream",
     "text": [
      "1\n",
      "2\n",
      "3\n",
      "4\n",
      "5\n"
     ]
    }
   ],
   "source": [
    "print(1)\n",
    "print(2)\n",
    "print(3)\n",
    "print(4)\n",
    "print(5)"
   ]
  },
  {
   "cell_type": "code",
   "execution_count": 7,
   "id": "dd3f5123",
   "metadata": {},
   "outputs": [],
   "source": [
    "from IPython.display import Image"
   ]
  },
  {
   "cell_type": "code",
   "execution_count": 10,
   "id": "f9e6ee55",
   "metadata": {},
   "outputs": [
    {
     "data": {
      "text/html": [
       "<img src=\"https://pbs.twimg.com/media/Est5afEUwAEtUdj.jpg?name=small\" width=\"500\" height=\"300\"/>"
      ],
      "text/plain": [
       "<IPython.core.display.Image object>"
      ]
     },
     "execution_count": 10,
     "metadata": {},
     "output_type": "execute_result"
    }
   ],
   "source": [
    "Image (url = 'https://pbs.twimg.com/media/Est5afEUwAEtUdj.jpg?name=small', width = 500, height = 300)"
   ]
  },
  {
   "cell_type": "code",
   "execution_count": 13,
   "id": "851152ee",
   "metadata": {},
   "outputs": [],
   "source": [
    "from IPython.lib.display import YouTubeVideo"
   ]
  },
  {
   "cell_type": "code",
   "execution_count": 17,
   "id": "d8e61e27",
   "metadata": {},
   "outputs": [
    {
     "data": {
      "image/jpeg": "[encoded data removed]",
      "text/html": [
       "\n",
       "        <iframe\n",
       "            width=\"500\"\n",
       "            height=\"300\"\n",
       "            src=\"https://www.youtube.com/embed/I5cq54MFQCo\"\n",
       "            frameborder=\"0\"\n",
       "            allowfullscreen\n",
       "            \n",
       "        ></iframe>\n",
       "        "
      ],
      "text/plain": [
       "<IPython.lib.display.YouTubeVideo at 0x1d4e5e36f10>"
      ]
     },
     "execution_count": 17,
     "metadata": {},
     "output_type": "execute_result"
    }
   ],
   "source": [
    "YouTubeVideo('I5cq54MFQCo', width = 500, height = 300)"
   ]
  },
  {
   "cell_type": "code",
   "execution_count": 18,
   "id": "d581f843",
   "metadata": {},
   "outputs": [
    {
     "data": {
      "text/plain": [
       "2"
      ]
     },
     "execution_count": 18,
     "metadata": {},
     "output_type": "execute_result"
    }
   ],
   "source": [
    "1+1"
   ]
  },
  {
   "cell_type": "code",
   "execution_count": 21,
   "id": "0d999002",
   "metadata": {},
   "outputs": [
    {
     "name": "stdout",
     "output_type": "stream",
     "text": [
      "2\n",
      "3\n"
     ]
    }
   ],
   "source": [
    "print(1+1)\n",
    "print(1+2)"
   ]
  },
  {
   "cell_type": "code",
   "execution_count": 22,
   "id": "f56e6055",
   "metadata": {},
   "outputs": [
    {
     "name": "stdout",
     "output_type": "stream",
     "text": [
      "3\n"
     ]
    }
   ],
   "source": [
    "num = 3\n",
    "print(num)"
   ]
  },
  {
   "cell_type": "code",
   "execution_count": 23,
   "id": "2a07fc28",
   "metadata": {},
   "outputs": [
    {
     "name": "stdout",
     "output_type": "stream",
     "text": [
      "5\n"
     ]
    }
   ],
   "source": [
    "num = 5\n",
    "print(num)"
   ]
  },
  {
   "cell_type": "code",
   "execution_count": 26,
   "id": "c574c2db",
   "metadata": {},
   "outputs": [
    {
     "name": "stdout",
     "output_type": "stream",
     "text": [
      "13\n",
      "25\n",
      "77\n"
     ]
    }
   ],
   "source": [
    "num1 = 13\n",
    "print(num1)\n",
    "num2 = 25\n",
    "print(num2)\n",
    "num3 = 77\n",
    "print(num3)"
   ]
  },
  {
   "cell_type": "code",
   "execution_count": 27,
   "id": "a977c2b8",
   "metadata": {},
   "outputs": [
    {
     "name": "stdout",
     "output_type": "stream",
     "text": [
      "13 25\n"
     ]
    }
   ],
   "source": [
    "print(num1, num2)"
   ]
  },
  {
   "cell_type": "code",
   "execution_count": 28,
   "id": "443a7486",
   "metadata": {},
   "outputs": [
    {
     "name": "stdout",
     "output_type": "stream",
     "text": [
      "3.1425\n",
      "1.25\n",
      "3.0\n"
     ]
    }
   ],
   "source": [
    "num3 = 3.1425\n",
    "print(num3)\n",
    "num4 = 1.25\n",
    "print(num4)\n",
    "num5  = 3.0\n",
    "print(num5)"
   ]
  },
  {
   "cell_type": "code",
   "execution_count": 29,
   "id": "7d78c521",
   "metadata": {},
   "outputs": [
    {
     "data": {
      "text/plain": [
       "int"
      ]
     },
     "execution_count": 29,
     "metadata": {},
     "output_type": "execute_result"
    }
   ],
   "source": [
    "type(num1)"
   ]
  },
  {
   "cell_type": "code",
   "execution_count": 30,
   "id": "4107d3ba",
   "metadata": {},
   "outputs": [
    {
     "data": {
      "text/plain": [
       "float"
      ]
     },
     "execution_count": 30,
     "metadata": {},
     "output_type": "execute_result"
    }
   ],
   "source": [
    "type(num5)"
   ]
  },
  {
   "cell_type": "code",
   "execution_count": 31,
   "id": "1dad0d72",
   "metadata": {},
   "outputs": [
    {
     "data": {
      "text/plain": [
       "3.0"
      ]
     },
     "execution_count": 31,
     "metadata": {},
     "output_type": "execute_result"
    }
   ],
   "source": [
    "num5"
   ]
  },
  {
   "cell_type": "code",
   "execution_count": 32,
   "id": "34b1f16b",
   "metadata": {},
   "outputs": [
    {
     "data": {
      "text/plain": [
       "3"
      ]
     },
     "execution_count": 32,
     "metadata": {},
     "output_type": "execute_result"
    }
   ],
   "source": [
    "num6 = 3\n",
    "num6"
   ]
  },
  {
   "cell_type": "code",
   "execution_count": 33,
   "id": "43b17dee",
   "metadata": {},
   "outputs": [
    {
     "data": {
      "text/plain": [
       "True"
      ]
     },
     "execution_count": 33,
     "metadata": {},
     "output_type": "execute_result"
    }
   ],
   "source": [
    "num6 == num5"
   ]
  },
  {
   "cell_type": "code",
   "execution_count": 34,
   "id": "24f0b6c1",
   "metadata": {},
   "outputs": [
    {
     "data": {
      "text/plain": [
       "False"
      ]
     },
     "execution_count": 34,
     "metadata": {},
     "output_type": "execute_result"
    }
   ],
   "source": [
    "type(num5) == type(num6)"
   ]
  },
  {
   "cell_type": "code",
   "execution_count": 36,
   "id": "5dc8bc52",
   "metadata": {},
   "outputs": [
    {
     "name": "stdout",
     "output_type": "stream",
     "text": [
      "Hello Python\n"
     ]
    }
   ],
   "source": [
    "string = 'Hello Python'\n",
    "print(string)"
   ]
  },
  {
   "cell_type": "code",
   "execution_count": 37,
   "id": "3052f0ed",
   "metadata": {},
   "outputs": [
    {
     "data": {
      "text/plain": [
       "str"
      ]
     },
     "execution_count": 37,
     "metadata": {},
     "output_type": "execute_result"
    }
   ],
   "source": [
    "type(string)"
   ]
  },
  {
   "cell_type": "code",
   "execution_count": 43,
   "id": "14d2d189",
   "metadata": {},
   "outputs": [
    {
     "name": "stdout",
     "output_type": "stream",
     "text": [
      "Funny python Easy pythhon\n"
     ]
    }
   ],
   "source": [
    "str1 = \"Funny python\"\n",
    "str2 = 'Easy pythhon'\n",
    "print(str1,str2)"
   ]
  },
  {
   "cell_type": "code",
   "execution_count": 40,
   "id": "1167e024",
   "metadata": {},
   "outputs": [
    {
     "data": {
      "text/plain": [
       "\"this is Jane's apple\""
      ]
     },
     "execution_count": 40,
     "metadata": {},
     "output_type": "execute_result"
    }
   ],
   "source": [
    "'this is Jane\\'s apple'"
   ]
  },
  {
   "cell_type": "code",
   "execution_count": 44,
   "id": "6e37ff0e",
   "metadata": {},
   "outputs": [
    {
     "name": "stdout",
     "output_type": "stream",
     "text": [
      "1\n"
     ]
    }
   ],
   "source": [
    "num_1 = 1\n",
    "print(num_1)"
   ]
  },
  {
   "cell_type": "code",
   "execution_count": 45,
   "id": "6c6d9dae",
   "metadata": {},
   "outputs": [
    {
     "ename": "SyntaxError",
     "evalue": "invalid syntax (1788017012.py, line 1)",
     "output_type": "error",
     "traceback": [
      "\u001b[1;36m  Input \u001b[1;32mIn [45]\u001b[1;36m\u001b[0m\n\u001b[1;33m    num!1 = 1\u001b[0m\n\u001b[1;37m       ^\u001b[0m\n\u001b[1;31mSyntaxError\u001b[0m\u001b[1;31m:\u001b[0m invalid syntax\n"
     ]
    }
   ],
   "source": [
    "num!1 = 1\n",
    "print(num!1)"
   ]
  },
  {
   "cell_type": "code",
   "execution_count": 46,
   "id": "84b8246b",
   "metadata": {},
   "outputs": [
    {
     "ename": "SyntaxError",
     "evalue": "invalid syntax (1634092458.py, line 1)",
     "output_type": "error",
     "traceback": [
      "\u001b[1;36m  Input \u001b[1;32mIn [46]\u001b[1;36m\u001b[0m\n\u001b[1;33m    1a = 1\u001b[0m\n\u001b[1;37m     ^\u001b[0m\n\u001b[1;31mSyntaxError\u001b[0m\u001b[1;31m:\u001b[0m invalid syntax\n"
     ]
    }
   ],
   "source": [
    "1a = 1\n",
    "print(1a)"
   ]
  },
  {
   "cell_type": "markdown",
   "id": "7448b249",
   "metadata": {},
   "source": [
    "※키워드 및 특수문자 사용 불가."
   ]
  },
  {
   "cell_type": "code",
   "execution_count": 60,
   "id": "908d467c",
   "metadata": {},
   "outputs": [
    {
     "name": "stdout",
     "output_type": "stream",
     "text": [
      "10 15\n"
     ]
    }
   ],
   "source": [
    "a, b = 10, 15\n",
    "print(a, b)"
   ]
  },
  {
   "cell_type": "markdown",
   "id": "1d2d86ac",
   "metadata": {},
   "source": [
    "- x에 100을 대입하고, y에 200을 대입한 뒤, summation에 x와 y를 대입해라."
   ]
  },
  {
   "cell_type": "code",
   "execution_count": 51,
   "id": "6a8f15a1",
   "metadata": {},
   "outputs": [
    {
     "data": {
      "text/plain": [
       "300"
      ]
     },
     "execution_count": 51,
     "metadata": {},
     "output_type": "execute_result"
    }
   ],
   "source": [
    "x, y = 100, 200\n",
    "sum = x + y\n",
    "sum"
   ]
  },
  {
   "cell_type": "code",
   "execution_count": 55,
   "id": "d71f07c8",
   "metadata": {},
   "outputs": [
    {
     "data": {
      "text/plain": [
       "300"
      ]
     },
     "execution_count": 55,
     "metadata": {},
     "output_type": "execute_result"
    }
   ],
   "source": [
    "x = 200\n",
    "sum\n",
    "# 이미 sum은 300이라는 값으로 고정이 되서 x나 y의 값이 바뀌어도 sum은 바뀌지 않는다."
   ]
  },
  {
   "cell_type": "code",
   "execution_count": 58,
   "id": "41d37cfd",
   "metadata": {},
   "outputs": [
    {
     "name": "stdout",
     "output_type": "stream",
     "text": [
      "Hello \n",
      "Python\n"
     ]
    }
   ],
   "source": [
    "a = \"Hello \\nPython\"\n",
    "print(a)"
   ]
  },
  {
   "cell_type": "markdown",
   "id": "6ab33ddf",
   "metadata": {},
   "source": [
    "indexing = 가리키는 행위, slicing = 잘라내는 행위"
   ]
  },
  {
   "cell_type": "code",
   "execution_count": 67,
   "id": "e5758e5c",
   "metadata": {},
   "outputs": [
    {
     "data": {
      "text/plain": [
       "'M'"
      ]
     },
     "execution_count": 67,
     "metadata": {},
     "output_type": "execute_result"
    }
   ],
   "source": [
    "name = \"My name is HY\"\n",
    "name[0]\n",
    "# 왼쪽 부터 위치 세기(0 부터 시작)"
   ]
  },
  {
   "cell_type": "code",
   "execution_count": 66,
   "id": "490e2311",
   "metadata": {},
   "outputs": [
    {
     "data": {
      "text/plain": [
       "'H'"
      ]
     },
     "execution_count": 66,
     "metadata": {},
     "output_type": "execute_result"
    }
   ],
   "source": [
    "name = \"My name is HY\"\n",
    "name[-2]\n",
    "# 오른쪽 부터 위치 세기(-1 부터 시작)"
   ]
  },
  {
   "cell_type": "code",
   "execution_count": 68,
   "id": "670e85d8",
   "metadata": {},
   "outputs": [
    {
     "data": {
      "text/plain": [
       "'My'"
      ]
     },
     "execution_count": 68,
     "metadata": {},
     "output_type": "execute_result"
    }
   ],
   "source": [
    "name[0:2]"
   ]
  },
  {
   "cell_type": "code",
   "execution_count": 70,
   "id": "ed8ec2bf",
   "metadata": {},
   "outputs": [
    {
     "data": {
      "text/plain": [
       "'My name is HY'"
      ]
     },
     "execution_count": 70,
     "metadata": {},
     "output_type": "execute_result"
    }
   ],
   "source": [
    "name [0:]\n",
    "# [:] -> 왼쪽 이상, 오른쪽 미만\n",
    "# 오른쪽을 비우면 '끝까지' 라는 뜻이다."
   ]
  },
  {
   "cell_type": "code",
   "execution_count": 73,
   "id": "3ff47bc1",
   "metadata": {},
   "outputs": [
    {
     "data": {
      "text/plain": [
       "'M aei Y'"
      ]
     },
     "execution_count": 73,
     "metadata": {},
     "output_type": "execute_result"
    }
   ],
   "source": [
    "name[::2]\n",
    "# 2단 뛰기\n",
    "# name [:] -> 1단 뛰기"
   ]
  },
  {
   "cell_type": "code",
   "execution_count": 77,
   "id": "e8f72ff1",
   "metadata": {},
   "outputs": [
    {
     "data": {
      "text/plain": [
       "'2022.07.22 - 12:07:07'"
      ]
     },
     "execution_count": 77,
     "metadata": {},
     "output_type": "execute_result"
    }
   ],
   "source": [
    "import time\n",
    "now = time.strftime('%Y.%m.%d - %H:%M:%S')\n",
    "now"
   ]
  },
  {
   "cell_type": "markdown",
   "id": "2f23d5b6",
   "metadata": {},
   "source": [
    "- 연도 : 2022\n",
    "- 월인: 07.22\n",
    "- 시각: 12시\n",
    "- 분초: 06:30"
   ]
  },
  {
   "cell_type": "code",
   "execution_count": 83,
   "id": "5667b709",
   "metadata": {},
   "outputs": [
    {
     "name": "stdout",
     "output_type": "stream",
     "text": [
      "연도: 2022\n",
      "월일: 07.22\n",
      "시각: 12시\n",
      "분초: 19:31\n"
     ]
    }
   ],
   "source": [
    "import time\n",
    "year = time.strftime('연도: %Y')\n",
    "month = time.strftime('월일: %m.%d')\n",
    "hour = time.strftime('시각: %H시')\n",
    "minute = time.strftime('분초: %M:%S')\n",
    "print(year)\n",
    "print(month)\n",
    "print(hour)\n",
    "print(minute)"
   ]
  },
  {
   "cell_type": "code",
   "execution_count": 86,
   "id": "fb1d0c70",
   "metadata": {},
   "outputs": [],
   "source": [
    "yd_info1 = \"20220722Sunny\""
   ]
  },
  {
   "cell_type": "code",
   "execution_count": 88,
   "id": "d3968869",
   "metadata": {
    "scrolled": true
   },
   "outputs": [
    {
     "name": "stdout",
     "output_type": "stream",
     "text": [
      "연도: 2022 월일: 0722 날씨: Sunny\n"
     ]
    }
   ],
   "source": [
    "print(\"연도: \" + yd_info1[0:4], \"월일: \"+ yd_info1[4:8], \"날씨: \" + yd_info1[8:13])"
   ]
  },
  {
   "cell_type": "markdown",
   "id": "81337679",
   "metadata": {},
   "source": [
    "### 포맷팅(Formatting)\n",
    "- %를 사용하는 방법\n",
    "- format함수 사용"
   ]
  },
  {
   "cell_type": "code",
   "execution_count": 93,
   "id": "e750dac6",
   "metadata": {},
   "outputs": [
    {
     "data": {
      "text/plain": [
       "'오늘 메뉴는 김치볶음밥과 우동입니다.'"
      ]
     },
     "execution_count": 93,
     "metadata": {},
     "output_type": "execute_result"
    }
   ],
   "source": [
    "# %를 사용하는 방식\n",
    "menu1 = \"김치볶음밥\"\n",
    "menu2 = \"우동\"\n",
    "sentence = \"오늘 메뉴는 %s과 %s입니다.\"%(menu1, menu2)\n",
    "sentence\n",
    "# %s 는 문자열만 받는다."
   ]
  },
  {
   "cell_type": "code",
   "execution_count": 97,
   "id": "e2d17a6d",
   "metadata": {},
   "outputs": [
    {
     "data": {
      "text/plain": [
       "'오늘 메뉴는 김치볶음밥이고, 가격은 5000원 입니다.'"
      ]
     },
     "execution_count": 97,
     "metadata": {},
     "output_type": "execute_result"
    }
   ],
   "source": [
    "menu1 = \"김치볶음밥\"\n",
    "price = 5000\n",
    "sentence = \"오늘 메뉴는 %s이고, 가격은 %d원 입니다.\"%(menu1,price)\n",
    "sentence"
   ]
  },
  {
   "cell_type": "code",
   "execution_count": 106,
   "id": "93f4e7c4",
   "metadata": {},
   "outputs": [
    {
     "data": {
      "text/plain": [
       "'오늘의 메뉴는 김치볶음밥이고, 가격은 김치볶음밥원 입니다.'"
      ]
     },
     "execution_count": 106,
     "metadata": {},
     "output_type": "execute_result"
    }
   ],
   "source": [
    "# format 함수를 사용하는 방식\n",
    "menu = \"김치볶음밥\"\n",
    "price = 5000\n",
    "sentence = \"오늘의 메뉴는 {0}이고, 가격은 {0}원 입니다.\".format(menu)\n",
    "# 중복해서 넣는 것이 가능.\n",
    "sentence"
   ]
  },
  {
   "cell_type": "code",
   "execution_count": 108,
   "id": "5d7803ce",
   "metadata": {},
   "outputs": [
    {
     "data": {
      "text/plain": [
       "'오늘의 메뉴는 김치볶음밥이고, 가격은 5000원 입니다.'"
      ]
     },
     "execution_count": 108,
     "metadata": {},
     "output_type": "execute_result"
    }
   ],
   "source": [
    "# format 함수를 사용하는 방식\n",
    "menu = \"김치볶음밥\"\n",
    "price = 5000\n",
    "sentence = f\"오늘의 메뉴는 {menu}이고, 가격은 {price}원 입니다.\"\n",
    "# format을 앞에 쓰는 경우..\n",
    "sentence"
   ]
  },
  {
   "cell_type": "markdown",
   "id": "90688b7f",
   "metadata": {},
   "source": [
    "- 김치볶음밥은 5000원\n",
    "- 우동은 4000원"
   ]
  },
  {
   "cell_type": "code",
   "execution_count": 127,
   "id": "2a9a2ffb",
   "metadata": {},
   "outputs": [
    {
     "name": "stdout",
     "output_type": "stream",
     "text": [
      "총 가격은 18000원 입니다.\n"
     ]
    }
   ],
   "source": [
    "kimchi_price = 5000\n",
    "udon_price = 4000\n",
    "num_kimchi = 2\n",
    "num_udon = 2\n",
    "print(\"총 가격은 {0}원 입니다.\".format(kimchi_price * num_kimchi + \n",
    "                               udon_price * num_udon))"
   ]
  },
  {
   "cell_type": "code",
   "execution_count": 111,
   "id": "328d5a73",
   "metadata": {},
   "outputs": [
    {
     "data": {
      "text/plain": [
       "3"
      ]
     },
     "execution_count": 111,
     "metadata": {},
     "output_type": "execute_result"
    }
   ],
   "source": [
    "song = \"tell me tell me teteetetetete tell me\"\n",
    "song.count(\"tell me\")"
   ]
  },
  {
   "cell_type": "code",
   "execution_count": 113,
   "id": "3af8e986",
   "metadata": {},
   "outputs": [
    {
     "data": {
      "text/plain": [
       "5"
      ]
     },
     "execution_count": 113,
     "metadata": {},
     "output_type": "execute_result"
    }
   ],
   "source": [
    "song.find(\"me\")\n",
    "# 찾는 값이 없으면 \"-1\"을 출력한다."
   ]
  },
  {
   "cell_type": "code",
   "execution_count": 115,
   "id": "e7f052c1",
   "metadata": {},
   "outputs": [
    {
     "data": {
      "text/plain": [
       "'TELL ME TELL ME TETEETETETETE TELL ME'"
      ]
     },
     "execution_count": 115,
     "metadata": {},
     "output_type": "execute_result"
    }
   ],
   "source": [
    "song.upper()\n",
    "# song.lower() -> 소문자 치환\n",
    "# 빈 괄호를 쓰는 이유: 얘가 함수라는 것을 알려주기 위해"
   ]
  },
  {
   "cell_type": "code",
   "execution_count": 117,
   "id": "7000b2a4",
   "metadata": {},
   "outputs": [
    {
     "data": {
      "text/plain": [
       "'Tell Me Tell Me Teteetetetete Tell Me'"
      ]
     },
     "execution_count": 117,
     "metadata": {},
     "output_type": "execute_result"
    }
   ],
   "source": [
    "song.title()"
   ]
  },
  {
   "cell_type": "code",
   "execution_count": 122,
   "id": "be41de03",
   "metadata": {},
   "outputs": [
    {
     "data": {
      "text/plain": [
       "'           tell me tell me teteetetetete tell me'"
      ]
     },
     "execution_count": 122,
     "metadata": {},
     "output_type": "execute_result"
    }
   ],
   "source": [
    "song = \"           tell me tell me teteetetetete tell me           \"\n",
    "song.rstrip()"
   ]
  },
  {
   "cell_type": "code",
   "execution_count": 124,
   "id": "2f64a33d",
   "metadata": {},
   "outputs": [
    {
     "data": {
      "text/plain": [
       "['tell', 'me', 'tell', 'me', 'teteetetetete', 'tell', 'me']"
      ]
     },
     "execution_count": 124,
     "metadata": {},
     "output_type": "execute_result"
    }
   ],
   "source": [
    "song = \"tell me tell me teteetetetete tell me\"\n",
    "song.split(\" \")\n",
    "# 띄어쓰기를 기준으로 나눈다.(split -> string 쪼개기)"
   ]
  },
  {
   "cell_type": "code",
   "execution_count": 125,
   "id": "79514446",
   "metadata": {},
   "outputs": [
    {
     "data": {
      "text/plain": [
       "['나는 밥을 먹었다', '맛있었다.']"
      ]
     },
     "execution_count": 125,
     "metadata": {},
     "output_type": "execute_result"
    }
   ],
   "source": [
    "s = \"나는 밥을 먹었다. 맛있었다.\"\n",
    "s.split(\". \")"
   ]
  },
  {
   "cell_type": "code",
   "execution_count": 126,
   "id": "5b203775",
   "metadata": {},
   "outputs": [
    {
     "data": {
      "text/plain": [
       "'tell him tell him teteetetetete tell him'"
      ]
     },
     "execution_count": 126,
     "metadata": {},
     "output_type": "execute_result"
    }
   ],
   "source": [
    "song = \"tell me tell me teteetetetete tell me\"\n",
    "song.replace(\"me\", \"him\")"
   ]
  },
  {
   "cell_type": "code",
   "execution_count": 134,
   "id": "71ca721f",
   "metadata": {},
   "outputs": [
    {
     "name": "stdout",
     "output_type": "stream",
     "text": [
      "TELL ME TELL ME TETEETETETETE TELL ME \n",
      " tell me tell me teteetetetete tell me \n",
      " Tell Me Tell Me Teteetetetete Tell Me\n"
     ]
    }
   ],
   "source": [
    "print(song.upper(),\"\\n\", song.lower(),\"\\n\", song.title())"
   ]
  },
  {
   "cell_type": "code",
   "execution_count": 137,
   "id": "de01b6ce",
   "metadata": {},
   "outputs": [
    {
     "data": {
      "text/plain": [
       "str"
      ]
     },
     "execution_count": 137,
     "metadata": {},
     "output_type": "execute_result"
    }
   ],
   "source": [
    "num = \"7\"\n",
    "type(num)"
   ]
  },
  {
   "cell_type": "code",
   "execution_count": 139,
   "id": "ab06762d",
   "metadata": {},
   "outputs": [
    {
     "data": {
      "text/plain": [
       "17"
      ]
     },
     "execution_count": 139,
     "metadata": {},
     "output_type": "execute_result"
    }
   ],
   "source": [
    "7 + int(\"10\")\n",
    "# \"\" 안의 str을 int, float으로 바꿀 수 있다.\n",
    "# 열려 있는 쪽과 닫혀있는 쪽\n"
   ]
  },
  {
   "cell_type": "code",
   "execution_count": 141,
   "id": "b2f4ff01",
   "metadata": {},
   "outputs": [
    {
     "ename": "ValueError",
     "evalue": "invalid literal for int() with base 10: '칠'",
     "output_type": "error",
     "traceback": [
      "\u001b[1;31m---------------------------------------------------------------------------\u001b[0m",
      "\u001b[1;31mValueError\u001b[0m                                Traceback (most recent call last)",
      "Input \u001b[1;32mIn [141]\u001b[0m, in \u001b[0;36m<cell line: 1>\u001b[1;34m()\u001b[0m\n\u001b[1;32m----> 1\u001b[0m \u001b[38;5;241m7\u001b[39m \u001b[38;5;241m+\u001b[39m \u001b[38;5;28;43mint\u001b[39;49m\u001b[43m(\u001b[49m\u001b[38;5;124;43m\"\u001b[39;49m\u001b[38;5;124;43m칠\u001b[39;49m\u001b[38;5;124;43m\"\u001b[39;49m\u001b[43m)\u001b[49m\n",
      "\u001b[1;31mValueError\u001b[0m: invalid literal for int() with base 10: '칠'"
     ]
    }
   ],
   "source": [
    "7 + int(\"칠\")\n",
    "# 문자와 숫자를 계산 할 수 없는 이유는 둘 다 서로에게 닫혀있기 때문에."
   ]
  },
  {
   "cell_type": "code",
   "execution_count": 3,
   "id": "1624d0f3",
   "metadata": {},
   "outputs": [
    {
     "name": "stdout",
     "output_type": "stream",
     "text": [
      "숫자를 입력하세요: 2\n",
      "숫자를 입력하세요: 2\n",
      "4.0\n",
      "0.0\n",
      "4.0\n",
      "1.0\n"
     ]
    }
   ],
   "source": [
    "num1 = float(input (\"숫자를 입력하세요: \"))\n",
    "num2 = float(input (\"숫자를 입력하세요: \"))\n",
    "print(num1 + num2)\n",
    "print(num1 - num2)\n",
    "print(num1 * num2)\n",
    "print(num1 / num2)"
   ]
  },
  {
   "cell_type": "code",
   "execution_count": 6,
   "id": "ba8ef425",
   "metadata": {},
   "outputs": [
    {
     "data": {
      "text/plain": [
       "'처럼처럼'"
      ]
     },
     "execution_count": 6,
     "metadata": {},
     "output_type": "execute_result"
    }
   ],
   "source": [
    "str = \"처음\"\n",
    "str = \"처럼\"\n",
    "str + str "
   ]
  },
  {
   "cell_type": "code",
   "execution_count": 1,
   "id": "63d558fe",
   "metadata": {},
   "outputs": [
    {
     "data": {
      "text/plain": [
       "'12시'"
      ]
     },
     "execution_count": 1,
     "metadata": {},
     "output_type": "execute_result"
    }
   ],
   "source": [
    "num1 = 12\n",
    "str3 = \"시\"\n",
    "\n",
    "str(num1) + str3"
   ]
  },
  {
   "cell_type": "code",
   "execution_count": 2,
   "id": "58b84458",
   "metadata": {},
   "outputs": [
    {
     "data": {
      "text/plain": [
       "'시시시시시시시시시시시시'"
      ]
     },
     "execution_count": 2,
     "metadata": {},
     "output_type": "execute_result"
    }
   ],
   "source": [
    "num1 * str3"
   ]
  },
  {
   "cell_type": "code",
   "execution_count": 4,
   "id": "65578919",
   "metadata": {},
   "outputs": [
    {
     "data": {
      "text/plain": [
       "1024"
      ]
     },
     "execution_count": 4,
     "metadata": {},
     "output_type": "execute_result"
    }
   ],
   "source": [
    "2**10"
   ]
  },
  {
   "cell_type": "code",
   "execution_count": 8,
   "id": "39142975",
   "metadata": {},
   "outputs": [
    {
     "name": "stdout",
     "output_type": "stream",
     "text": [
      "7\n",
      "9\n"
     ]
    }
   ],
   "source": [
    "a = 7\n",
    "print(a)\n",
    "a = a + 2\n",
    "print(a)"
   ]
  },
  {
   "cell_type": "code",
   "execution_count": 17,
   "id": "3ab2bb24",
   "metadata": {},
   "outputs": [
    {
     "name": "stdout",
     "output_type": "stream",
     "text": [
      "3.5\n"
     ]
    }
   ],
   "source": [
    "a = 7\n",
    "a /= 2\n",
    "print(a)"
   ]
  },
  {
   "cell_type": "code",
   "execution_count": 21,
   "id": "0cfd7ed9",
   "metadata": {},
   "outputs": [
    {
     "name": "stdout",
     "output_type": "stream",
     "text": [
      "7 5\n"
     ]
    }
   ],
   "source": [
    "a = 5\n",
    "b = 7\n",
    "a, b = b ,a\n",
    "print(a, b)"
   ]
  },
  {
   "cell_type": "code",
   "execution_count": 15,
   "id": "a3dbcae9",
   "metadata": {},
   "outputs": [
    {
     "data": {
      "text/plain": [
       "False"
      ]
     },
     "execution_count": 15,
     "metadata": {},
     "output_type": "execute_result"
    }
   ],
   "source": [
    "1 + 1 == 2 and not 2 + 2 == 4\n",
    "# 똑같다는 '='' 인지 변수 선언의 '=' 인지.\n",
    "# not을 쓰면 해당 명제의 여집합이 나온다."
   ]
  },
  {
   "cell_type": "code",
   "execution_count": 11,
   "id": "4220644c",
   "metadata": {},
   "outputs": [
    {
     "data": {
      "text/plain": [
       "False"
      ]
     },
     "execution_count": 11,
     "metadata": {},
     "output_type": "execute_result"
    }
   ],
   "source": [
    "not 1 + 1 == 2"
   ]
  },
  {
   "cell_type": "code",
   "execution_count": 20,
   "id": "585db6d8",
   "metadata": {},
   "outputs": [
    {
     "name": "stdout",
     "output_type": "stream",
     "text": [
      "점수를 입력하세요.90\n",
      "합격\n"
     ]
    }
   ],
   "source": [
    "score = int (input(\"점수를 입력하세요.\"))\n",
    "print (\"합격\") if score > 80 else print(\"불합격\")"
   ]
  },
  {
   "cell_type": "code",
   "execution_count": 2,
   "id": "256e77f1",
   "metadata": {},
   "outputs": [
    {
     "name": "stdout",
     "output_type": "stream",
     "text": [
      "정수를 입력하세요.47\n",
      "7의 배수가 아닙니다.\n"
     ]
    }
   ],
   "source": [
    "a = int(input(\"정수를 입력하세요.\"))\n",
    "print(\"7의 배수입니다.\") if a%7 == 0 else print(\"7의 배수가 아닙니다.\")"
   ]
  },
  {
   "cell_type": "code",
   "execution_count": 11,
   "id": "8de24055",
   "metadata": {},
   "outputs": [],
   "source": [
    "# boolean도 연산이 된다.\n",
    "# True = 1, False = 0"
   ]
  },
  {
   "cell_type": "code",
   "execution_count": 12,
   "id": "4e1667ea",
   "metadata": {},
   "outputs": [
    {
     "name": "stdout",
     "output_type": "stream",
     "text": [
      "정수를 입력합세요.14\n",
      "7의 배수입니다.\n"
     ]
    }
   ],
   "source": [
    "# 조건문 \n",
    "a = int(input(\"정수를 입력합세요.\"))\n",
    "if a % 7 == 0:\n",
    "    print(\"7의 배수입니다.\")\n",
    "    # if문에 걸려있는 박스\n",
    "else:\n",
    "    print(\"7의 배수가 아닙니다.\")\n",
    "    # a % 7 == 0이 아닌 박스."
   ]
  },
  {
   "cell_type": "code",
   "execution_count": 4,
   "id": "5cffc47b",
   "metadata": {},
   "outputs": [
    {
     "name": "stdout",
     "output_type": "stream",
     "text": [
      "가진 돈을 입력: 1500\n",
      "버스타기\n"
     ]
    }
   ],
   "source": [
    "#- 내가 갖고 있는 돈을 input으로 받는다. \n",
    "#- 내가 가진 돈이 1250원 이상이면 버스를 타고, 이 되는 걸어사 간다. \n",
    "#- print (\"버스타기\") , print (\"걸어가기\")\n",
    "\n",
    "money = int(input(\"가진 돈을 입력: \"))\n",
    "if money >= 1250:\n",
    "        print (\"버스타기\")\n",
    "else:\n",
    "        print(\"걸어가기\")\n",
    "        # : 콜론 띄어쓰기 상관 없음\n",
    "        # if와 else 줄 잘 맞추기!!\n",
    "    "
   ]
  },
  {
   "cell_type": "markdown",
   "id": "e8d6e545",
   "metadata": {},
   "source": [
    "###### input으로 몇 개 구매할지 입력\n",
    "###### 지불할 돈을 출력\n",
    "###### 10개 이상 사면 11개 째 부터 10% 할인."
   ]
  },
  {
   "cell_type": "code",
   "execution_count": null,
   "id": "f92b786d",
   "metadata": {},
   "outputs": [],
   "source": [
    "num = int(input (\"희망 구매 수량: \"))\n",
    "price = 10000\n",
    "if num <= 10:\n",
    "    print(num * price)\n",
    "else:\n",
    "    print(\"할인 가격은 {}\".format(num * price * 0.9))\n",
    "    # 오류: format 쓸 때 {} 중괄호 쓰기!!"
   ]
  },
  {
   "cell_type": "code",
   "execution_count": 8,
   "id": "c2430755",
   "metadata": {},
   "outputs": [
    {
     "name": "stdout",
     "output_type": "stream",
     "text": [
      "3\n"
     ]
    }
   ],
   "source": [
    "a = 7\n",
    "\n",
    "if a == 1:\n",
    "    print(1)\n",
    "if a == 2:\n",
    "    print(2)\n",
    "else:\n",
    "    print(3)"
   ]
  },
  {
   "cell_type": "code",
   "execution_count": 14,
   "id": "8c8cf5fc",
   "metadata": {},
   "outputs": [
    {
     "name": "stdout",
     "output_type": "stream",
     "text": [
      "가진 돈을 입력: 1000\n"
     ]
    }
   ],
   "source": [
    "money = int(input(\"가진 돈을 입력: \"))\n",
    "if money >= 4000:\n",
    "    print (\"택시타기\")\n",
    "elif money >= 1250 and money < 3900:\n",
    "    print (\"버스타기\")\n",
    "else:\n",
    "    print(\"Walk\")"
   ]
  },
  {
   "cell_type": "markdown",
   "id": "c02b4370",
   "metadata": {},
   "source": [
    "- 대학의 점수 체계\n",
    "    - 95점 이상: A+\n",
    "    - 90점 이상: A0\n",
    "    - 85점 이상: B+ \n",
    "    - 80점 이상: B0\n",
    "    - 75점 이상: C+\n",
    "    - 그 외: 재수강"
   ]
  },
  {
   "cell_type": "code",
   "execution_count": 4,
   "id": "8f2fa1c3",
   "metadata": {},
   "outputs": [
    {
     "name": "stdout",
     "output_type": "stream",
     "text": [
      "점수 입력: 88\n",
      "B+\n"
     ]
    }
   ],
   "source": [
    "score = int(input(\"점수 입력: \"))\n",
    "if score >= 95:\n",
    "    print (\"A+\")\n",
    "elif score >= 90 and score < 95:\n",
    "    print (\"A0\")\n",
    "elif score >= 85 and score < 90:\n",
    "    print (\"B+\")\n",
    "elif score >= 80 and score < 85:\n",
    "    print (\"B0\")\n",
    "elif score >= 75 and score < 80:\n",
    "    print (\"C+\")\n",
    "else:\n",
    "    print(\"재수강\")"
   ]
  },
  {
   "cell_type": "code",
   "execution_count": 5,
   "id": "269c093c",
   "metadata": {},
   "outputs": [],
   "source": [
    "import random"
   ]
  },
  {
   "cell_type": "code",
   "execution_count": 36,
   "id": "e04dd3fc",
   "metadata": {},
   "outputs": [
    {
     "data": {
      "text/plain": [
       "2.4978332089461612"
      ]
     },
     "execution_count": 36,
     "metadata": {},
     "output_type": "execute_result"
    }
   ],
   "source": [
    "random.random() * 6 + 1"
   ]
  },
  {
   "cell_type": "code",
   "execution_count": 39,
   "id": "c3800577",
   "metadata": {},
   "outputs": [
    {
     "data": {
      "text/plain": [
       "1"
      ]
     },
     "execution_count": 39,
     "metadata": {},
     "output_type": "execute_result"
    }
   ],
   "source": [
    "random.randrange(1, 7)"
   ]
  },
  {
   "cell_type": "markdown",
   "id": "56e3a5f5",
   "metadata": {},
   "source": [
    "### 가위바위보 게임 만들기"
   ]
  },
  {
   "cell_type": "code",
   "execution_count": null,
   "id": "7b2f5707",
   "metadata": {},
   "outputs": [],
   "source": []
  },
  {
   "cell_type": "markdown",
   "id": "bab4831f",
   "metadata": {},
   "source": [
    "**아이템 강화 시스템**\n",
    "- 입력: 현재 강화 정도(10강 이하)\n",
    "- 성공 확률 : 기본 80% 1강이 올라갈 때마다 5%씩 떨어짐\n",
    "- 강화 실패 시; 70% 확률로 강화 상태 유지, 15% 확률로 강화 등급 하락, 15% 확률로 아이템 파괴\n",
    "- 출력 예시: 강화 성공 n강으로 올라갔다. 혹은 강화 실패해서 n강이 되었다/파괴되었다."
   ]
  },
  {
   "cell_type": "markdown",
   "id": "e6829baf",
   "metadata": {},
   "source": [
    "**주식가격**\n",
    "- 입력: 주식의 현재 가격(10만원 이하 만원 단위)\n",
    "- 주식이 오를 확률은 0원 일 때 1만원이 될 확률 80%, 1만원 일 때 2만원이 될 확률은 75%...1만원이 올라갈 때마다 5%씩 떨어진다.\n",
    "- 만약 주식 가격이 오르지 않았을 경우, 70% 확률로 현상 유지, 15% 확률로 1만원이 떨어지고 15% 확률로 상장 폐지"
   ]
  },
  {
   "cell_type": "code",
   "execution_count": null,
   "id": "2b74eadb",
   "metadata": {},
   "outputs": [],
   "source": [
    "import random\n",
    "\n",
    "stock_price = random.randrange(1,10)\n",
    "if stock_price >=0 and stock_price <1:\n",
    "    print(* 0.8)\n",
    "\n"
   ]
  }
 ],
 "metadata": {
  "kernelspec": {
   "display_name": "Python 3 (ipykernel)",
   "language": "python",
   "name": "python3"
  },
  "language_info": {
   "codemirror_mode": {
    "name": "ipython",
    "version": 3
   },
   "file_extension": ".py",
   "mimetype": "text/x-python",
   "name": "python",
   "nbconvert_exporter": "python",
   "pygments_lexer": "ipython3",
   "version": "3.9.12"
  }
 },
 "nbformat": 4,
 "nbformat_minor": 5
}
