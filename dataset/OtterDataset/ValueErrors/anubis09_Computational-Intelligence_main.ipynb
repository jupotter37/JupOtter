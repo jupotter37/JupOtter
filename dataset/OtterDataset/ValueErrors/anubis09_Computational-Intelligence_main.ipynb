{
 "cells": [
  {
   "cell_type": "markdown",
   "metadata": {},
   "source": [
    "# Quixo"
   ]
  },
  {
   "cell_type": "code",
   "execution_count": 1,
   "metadata": {},
   "outputs": [],
   "source": [
    "from game import Game\n",
    "from train import GameTrainer\n",
    "from players import *\n",
    "from IPython.display import clear_output"
   ]
  },
  {
   "cell_type": "code",
   "execution_count": null,
   "metadata": {},
   "outputs": [],
   "source": [
    "import zipfile\n",
    "\n",
    "if \"policy.json\" not in os.listdir(os.path.join(\"Policies\")):\n",
    "    with zipfile.ZipFile(\n",
    "        os.path.join(\"Policies\", \"policy.json.zip\"), \"r\"\n",
    "    ) as zip_ref:\n",
    "        zip_ref.extractall(\"Policies\")"
   ]
  },
  {
   "cell_type": "markdown",
   "metadata": {},
   "source": [
    "## Results vs RandomPlayer"
   ]
  },
  {
   "cell_type": "code",
   "execution_count": 2,
   "metadata": {},
   "outputs": [
    {
     "name": "stdout",
     "output_type": "stream",
     "text": [
      "loading policy.json\n",
      "policy.json loaded\n",
      "                   0\n",
      "count  692246.000000\n",
      "mean        0.233185\n",
      "std         0.273087\n",
      "min         0.020000\n",
      "25%         0.040000\n",
      "50%         0.110000\n",
      "75%         0.310000\n",
      "max         0.900000\n"
     ]
    }
   ],
   "source": [
    "n_game = 50_000\n",
    "rl_player = RLayer(file_name=\"policy.json\")\n",
    "g = GameTrainer()\n",
    "rl_player.policy_stat()"
   ]
  },
  {
   "cell_type": "code",
   "execution_count": 3,
   "metadata": {},
   "outputs": [],
   "source": [
    "wins_as_first = 0\n",
    "for _ in range(n_game):\n",
    "    winner = g.play(rl_player, RandomPlayer())\n",
    "    if winner == 0:\n",
    "        wins_as_first += 1\n",
    "\n",
    "wins_as_second = 0\n",
    "for _ in range(n_game):\n",
    "    winner = g.play(RandomPlayer(), rl_player)\n",
    "    if winner == 1:\n",
    "        wins_as_second += 1\n",
    "\n",
    "clear_output(wait=True)"
   ]
  },
  {
   "cell_type": "code",
   "execution_count": 4,
   "metadata": {},
   "outputs": [
    {
     "name": "stdout",
     "output_type": "stream",
     "text": [
      "Wins as first: 90.6%\n",
      "Wins as second: 84.4%\n",
      "total percentage: 87.5%\n",
      "\n",
      "Average moves of rl_player: 23 moves/game\n"
     ]
    }
   ],
   "source": [
    "print(f\"Wins as first: {wins_as_first/n_game:.1%}\")\n",
    "print(f\"Wins as second: {wins_as_second/n_game:.1%}\")\n",
    "print(f\"total percentage: {(wins_as_first + wins_as_second)/(n_game*2):.1%}\")\n",
    "print(\n",
    "    f\"\\nAverage moves of rl_player: {rl_player.n_moves//(n_game*2)} moves/game\"\n",
    ")"
   ]
  },
  {
   "cell_type": "code",
   "execution_count": 5,
   "metadata": {},
   "outputs": [
    {
     "name": "stdout",
     "output_type": "stream",
     "text": [
      "      (0)   (1)   (2)   (3)   (4)\n",
      "    -------------------------------\n",
      "(0) |     |     |     |     |     |\n",
      "    -------------------------------\n",
      "(1) |     |     |     |     |     |\n",
      "    -------------------------------\n",
      "(2) |     |     |     |     |     |\n",
      "    -------------------------------\n",
      "(3) |     |     |     |     |     |\n",
      "    -------------------------------\n",
      "(4) |     |     |     |     |     |\n",
      "    -------------------------------\n",
      "Remember the convention: X goes left to right, Y goes top to bottom.\n"
     ]
    },
    {
     "ename": "ValueError",
     "evalue": "invalid literal for int() with base 10: ''",
     "output_type": "error",
     "traceback": [
      "\u001b[0;31m---------------------------------------------------------------------------\u001b[0m",
      "\u001b[0;31mValueError\u001b[0m                                Traceback (most recent call last)",
      "Cell \u001b[0;32mIn[5], line 6\u001b[0m\n\u001b[1;32m      4\u001b[0m player2 \u001b[38;5;241m=\u001b[39m RLayer(file_name\u001b[38;5;241m=\u001b[39m\u001b[38;5;124m\"\u001b[39m\u001b[38;5;124mpolicy.json\u001b[39m\u001b[38;5;124m\"\u001b[39m)\n\u001b[1;32m      5\u001b[0m \u001b[38;5;66;03m# player1 starts always first.\u001b[39;00m\n\u001b[0;32m----> 6\u001b[0m winner \u001b[38;5;241m=\u001b[39m \u001b[43mg\u001b[49m\u001b[38;5;241;43m.\u001b[39;49m\u001b[43mplay\u001b[49m\u001b[43m(\u001b[49m\u001b[43mplayer1\u001b[49m\u001b[43m,\u001b[49m\u001b[43m \u001b[49m\u001b[43mplayer2\u001b[49m\u001b[43m)\u001b[49m\n\u001b[1;32m      7\u001b[0m \u001b[38;5;28mprint\u001b[39m(\u001b[38;5;124mf\u001b[39m\u001b[38;5;124m\"\u001b[39m\u001b[38;5;124mWinner: Player \u001b[39m\u001b[38;5;132;01m{\u001b[39;00mwinner\u001b[38;5;132;01m}\u001b[39;00m\u001b[38;5;124m\"\u001b[39m)\n",
      "File \u001b[0;32m~/Uni/Computational Intelligence/Quixo/game.py:142\u001b[0m, in \u001b[0;36mGame.play\u001b[0;34m(self, player1, player2)\u001b[0m\n\u001b[1;32m    140\u001b[0m ok \u001b[38;5;241m=\u001b[39m \u001b[38;5;28;01mFalse\u001b[39;00m\n\u001b[1;32m    141\u001b[0m \u001b[38;5;28;01mwhile\u001b[39;00m \u001b[38;5;129;01mnot\u001b[39;00m ok:\n\u001b[0;32m--> 142\u001b[0m     from_pos, slide \u001b[38;5;241m=\u001b[39m \u001b[43mplayers\u001b[49m\u001b[43m[\u001b[49m\u001b[38;5;28;43mself\u001b[39;49m\u001b[38;5;241;43m.\u001b[39;49m\u001b[43mcurrent_player_idx\u001b[49m\u001b[43m]\u001b[49m\u001b[38;5;241;43m.\u001b[39;49m\u001b[43mmake_move\u001b[49m\u001b[43m(\u001b[49m\n\u001b[1;32m    143\u001b[0m \u001b[43m        \u001b[49m\u001b[38;5;28;43mself\u001b[39;49m\n\u001b[1;32m    144\u001b[0m \u001b[43m    \u001b[49m\u001b[43m)\u001b[49m\n\u001b[1;32m    145\u001b[0m     ok \u001b[38;5;241m=\u001b[39m \u001b[38;5;28mself\u001b[39m\u001b[38;5;241m.\u001b[39m__move(from_pos, slide, \u001b[38;5;28mself\u001b[39m\u001b[38;5;241m.\u001b[39mcurrent_player_idx)\n\u001b[1;32m    146\u001b[0m \u001b[38;5;28mself\u001b[39m\u001b[38;5;241m.\u001b[39mprint()\n",
      "File \u001b[0;32m~/Uni/Computational Intelligence/Quixo/players.py:111\u001b[0m, in \u001b[0;36mHumanPlayer.make_move\u001b[0;34m(self, game)\u001b[0m\n\u001b[1;32m    105\u001b[0m \u001b[38;5;28mprint\u001b[39m(\n\u001b[1;32m    106\u001b[0m     \u001b[38;5;124m\"\u001b[39m\u001b[38;5;124mRemember the convention: X goes left to right, Y goes top to bottom.\u001b[39m\u001b[38;5;124m\"\u001b[39m\n\u001b[1;32m    107\u001b[0m )\n\u001b[1;32m    108\u001b[0m inp \u001b[38;5;241m=\u001b[39m \u001b[38;5;28minput\u001b[39m(\n\u001b[1;32m    109\u001b[0m     \u001b[38;5;124m\"\u001b[39m\u001b[38;5;124minsert the X and Y coordinate in the format: \u001b[39m\u001b[38;5;124m'\u001b[39m\u001b[38;5;124mx y\u001b[39m\u001b[38;5;124m'\u001b[39m\u001b[38;5;124m: \u001b[39m\u001b[38;5;124m\"\u001b[39m\n\u001b[1;32m    110\u001b[0m )\u001b[38;5;241m.\u001b[39mstrip()\n\u001b[0;32m--> 111\u001b[0m x, y \u001b[38;5;241m=\u001b[39m (\u001b[38;5;28mint\u001b[39m(coord) \u001b[38;5;28;01mfor\u001b[39;00m coord \u001b[38;5;129;01min\u001b[39;00m inp\u001b[38;5;241m.\u001b[39msplit(\u001b[38;5;124m\"\u001b[39m\u001b[38;5;124m \u001b[39m\u001b[38;5;124m\"\u001b[39m))\n\u001b[1;32m    112\u001b[0m move \u001b[38;5;241m=\u001b[39m \u001b[38;5;28minput\u001b[39m(\u001b[38;5;124m\"\u001b[39m\u001b[38;5;124minsert the slide move (TOP,LEFT,BOTTOM,RIGHT): \u001b[39m\u001b[38;5;124m\"\u001b[39m)\n\u001b[1;32m    113\u001b[0m \u001b[38;5;28;01mmatch\u001b[39;00m move\u001b[38;5;241m.\u001b[39mupper():\n",
      "File \u001b[0;32m~/Uni/Computational Intelligence/Quixo/players.py:111\u001b[0m, in \u001b[0;36m<genexpr>\u001b[0;34m(.0)\u001b[0m\n\u001b[1;32m    105\u001b[0m \u001b[38;5;28mprint\u001b[39m(\n\u001b[1;32m    106\u001b[0m     \u001b[38;5;124m\"\u001b[39m\u001b[38;5;124mRemember the convention: X goes left to right, Y goes top to bottom.\u001b[39m\u001b[38;5;124m\"\u001b[39m\n\u001b[1;32m    107\u001b[0m )\n\u001b[1;32m    108\u001b[0m inp \u001b[38;5;241m=\u001b[39m \u001b[38;5;28minput\u001b[39m(\n\u001b[1;32m    109\u001b[0m     \u001b[38;5;124m\"\u001b[39m\u001b[38;5;124minsert the X and Y coordinate in the format: \u001b[39m\u001b[38;5;124m'\u001b[39m\u001b[38;5;124mx y\u001b[39m\u001b[38;5;124m'\u001b[39m\u001b[38;5;124m: \u001b[39m\u001b[38;5;124m\"\u001b[39m\n\u001b[1;32m    110\u001b[0m )\u001b[38;5;241m.\u001b[39mstrip()\n\u001b[0;32m--> 111\u001b[0m x, y \u001b[38;5;241m=\u001b[39m (\u001b[38;5;28;43mint\u001b[39;49m\u001b[43m(\u001b[49m\u001b[43mcoord\u001b[49m\u001b[43m)\u001b[49m \u001b[38;5;28;01mfor\u001b[39;00m coord \u001b[38;5;129;01min\u001b[39;00m inp\u001b[38;5;241m.\u001b[39msplit(\u001b[38;5;124m\"\u001b[39m\u001b[38;5;124m \u001b[39m\u001b[38;5;124m\"\u001b[39m))\n\u001b[1;32m    112\u001b[0m move \u001b[38;5;241m=\u001b[39m \u001b[38;5;28minput\u001b[39m(\u001b[38;5;124m\"\u001b[39m\u001b[38;5;124minsert the slide move (TOP,LEFT,BOTTOM,RIGHT): \u001b[39m\u001b[38;5;124m\"\u001b[39m)\n\u001b[1;32m    113\u001b[0m \u001b[38;5;28;01mmatch\u001b[39;00m move\u001b[38;5;241m.\u001b[39mupper():\n",
      "\u001b[0;31mValueError\u001b[0m: invalid literal for int() with base 10: ''"
     ]
    }
   ],
   "source": [
    "if __name__ == \"__main__\":\n",
    "    g = Game()\n",
    "    player1 = HumanPlayer()\n",
    "    player2 = RLayer(file_name=\"policy.json\")\n",
    "    # player1 starts always first.\n",
    "    winner = g.play(player1, player2)\n",
    "    print(f\"Winner: Player {winner}\")"
   ]
  }
 ],
 "metadata": {
  "kernelspec": {
   "display_name": "base",
   "language": "python",
   "name": "python3"
  },
  "language_info": {
   "codemirror_mode": {
    "name": "ipython",
    "version": 3
   },
   "file_extension": ".py",
   "mimetype": "text/x-python",
   "name": "python",
   "nbconvert_exporter": "python",
   "pygments_lexer": "ipython3",
   "version": "3.11.7"
  }
 },
 "nbformat": 4,
 "nbformat_minor": 2
}
