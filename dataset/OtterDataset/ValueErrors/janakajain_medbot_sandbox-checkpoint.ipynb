{
 "cells": [
  {
   "cell_type": "markdown",
   "metadata": {},
   "source": [
    "# Sandbox"
   ]
  },
  {
   "cell_type": "code",
   "execution_count": 15,
   "metadata": {
    "collapsed": true
   },
   "outputs": [],
   "source": [
    "import pandas as pd\n",
    "from sklearn.feature_extraction.text import TfidfVectorizer\n",
    "from string import punctuation"
   ]
  },
  {
   "cell_type": "code",
   "execution_count": 2,
   "metadata": {
    "collapsed": true
   },
   "outputs": [],
   "source": [
    "sentences = {\n",
    "    0:'How do you know this works',\n",
    "    1:'How are you',\n",
    "    2:'What do you do',\n",
    "    3:'How have you been',\n",
    "    4:'Who are you'\n",
    "}"
   ]
  },
  {
   "cell_type": "code",
   "execution_count": 3,
   "metadata": {
    "collapsed": true
   },
   "outputs": [],
   "source": [
    "df = pd.DataFrame.from_dict(sentences,orient='index')"
   ]
  },
  {
   "cell_type": "code",
   "execution_count": 4,
   "metadata": {},
   "outputs": [
    {
     "data": {
      "text/plain": [
       "0    How do you know this works\n",
       "1                   How are you\n",
       "2                What do you do\n",
       "3             How have you been\n",
       "4                   Who are you\n",
       "Name: 0, dtype: object"
      ]
     },
     "execution_count": 4,
     "metadata": {},
     "output_type": "execute_result"
    }
   ],
   "source": [
    "df[0]"
   ]
  },
  {
   "cell_type": "code",
   "execution_count": 5,
   "metadata": {
    "collapsed": true
   },
   "outputs": [],
   "source": [
    "mat = TfidfVectorizer().fit_transform(df[0])"
   ]
  },
  {
   "cell_type": "code",
   "execution_count": 6,
   "metadata": {},
   "outputs": [
    {
     "data": {
      "text/plain": [
       "matrix([[ 0.        ,  0.        ,  0.38787768,  0.        ,  0.32197351,\n",
       "          0.48076439,  0.48076439,  0.        ,  0.        ,  0.48076439,\n",
       "          0.22908681],\n",
       "        [ 0.70050458,  0.        ,  0.        ,  0.        ,  0.58148208,\n",
       "          0.        ,  0.        ,  0.        ,  0.        ,  0.        ,\n",
       "          0.41372929],\n",
       "        [ 0.        ,  0.        ,  0.82442698,  0.        ,  0.        ,\n",
       "          0.        ,  0.        ,  0.510928  ,  0.        ,  0.        ,\n",
       "          0.24345993],\n",
       "        [ 0.        ,  0.61135259,  0.        ,  0.61135259,  0.40942995,\n",
       "          0.        ,  0.        ,  0.        ,  0.        ,  0.        ,\n",
       "          0.29131278],\n",
       "        [ 0.58873218,  0.        ,  0.        ,  0.        ,  0.        ,\n",
       "          0.        ,  0.        ,  0.        ,  0.72971837,  0.        ,\n",
       "          0.34771471]])"
      ]
     },
     "execution_count": 6,
     "metadata": {},
     "output_type": "execute_result"
    }
   ],
   "source": [
    "mat.todense()"
   ]
  },
  {
   "cell_type": "code",
   "execution_count": null,
   "metadata": {
    "collapsed": true
   },
   "outputs": [],
   "source": []
  },
  {
   "cell_type": "code",
   "execution_count": 1,
   "metadata": {
    "collapsed": true
   },
   "outputs": [],
   "source": [
    "from medibo import cleaning\n",
    "from medibo.cleaning import *\n",
    "import re\n",
    "import json\n",
    "from pprint import pprint"
   ]
  },
  {
   "cell_type": "code",
   "execution_count": 2,
   "metadata": {
    "collapsed": true
   },
   "outputs": [],
   "source": [
    "# cleaning.clean('This! is amazing. Are you, planning,?')"
   ]
  },
  {
   "cell_type": "code",
   "execution_count": 3,
   "metadata": {
    "collapsed": true
   },
   "outputs": [],
   "source": [
    "x = 'This! is amzaing. Are you, planning,?'"
   ]
  },
  {
   "cell_type": "code",
   "execution_count": 4,
   "metadata": {
    "collapsed": true
   },
   "outputs": [],
   "source": [
    "# [[spell_check(w) for w in burst_punc(s).split(' ')] for s in x.split('.')]"
   ]
  },
  {
   "cell_type": "code",
   "execution_count": 5,
   "metadata": {},
   "outputs": [
    {
     "data": {
      "text/plain": [
       "[['This', 'is', 'amazing'], ['Are', 'you', 'planning']]"
      ]
     },
     "execution_count": 5,
     "metadata": {},
     "output_type": "execute_result"
    }
   ],
   "source": [
    "clean(x)"
   ]
  },
  {
   "cell_type": "code",
   "execution_count": 6,
   "metadata": {
    "scrolled": true
   },
   "outputs": [
    {
     "name": "stdout",
     "output_type": "stream",
     "text": [
      "{'+17868777177': {'age': 42, 'name': 'Andrew', 'phone': '+17868777177'},\n",
      " '+19292088929': {'age': 27, 'name': 'Janak', 'phone': '+19292088929'}}\n"
     ]
    }
   ],
   "source": [
    "with open('users.json') as users_data:\n",
    "    users = json.load(users_data)[0]\n",
    "\n",
    "pprint(users)"
   ]
  },
  {
   "cell_type": "code",
   "execution_count": 10,
   "metadata": {
    "collapsed": true
   },
   "outputs": [],
   "source": [
    "from_number = \"+19292088929\""
   ]
  },
  {
   "cell_type": "code",
   "execution_count": 16,
   "metadata": {
    "collapsed": true
   },
   "outputs": [],
   "source": [
    "human = users[from_number][\"name\"] if from_number in users.keys() else None"
   ]
  },
  {
   "cell_type": "code",
   "execution_count": 7,
   "metadata": {},
   "outputs": [],
   "source": [
    "import pandas as pd"
   ]
  },
  {
   "cell_type": "code",
   "execution_count": 12,
   "metadata": {
    "scrolled": true
   },
   "outputs": [
    {
     "data": {
      "text/html": [
       "<div>\n",
       "<style>\n",
       "    .dataframe thead tr:only-child th {\n",
       "        text-align: right;\n",
       "    }\n",
       "\n",
       "    .dataframe thead th {\n",
       "        text-align: left;\n",
       "    }\n",
       "\n",
       "    .dataframe tbody tr th {\n",
       "        vertical-align: top;\n",
       "    }\n",
       "</style>\n",
       "<table border=\"1\" class=\"dataframe\">\n",
       "  <thead>\n",
       "    <tr style=\"text-align: right;\">\n",
       "      <th></th>\n",
       "      <th>name</th>\n",
       "      <th>age</th>\n",
       "      <th>phone</th>\n",
       "    </tr>\n",
       "  </thead>\n",
       "  <tbody>\n",
       "    <tr>\n",
       "      <th>+17868777177</th>\n",
       "      <td>Andrew</td>\n",
       "      <td>42</td>\n",
       "      <td>+17868777177</td>\n",
       "    </tr>\n",
       "    <tr>\n",
       "      <th>+19292088929</th>\n",
       "      <td>Janak</td>\n",
       "      <td>27</td>\n",
       "      <td>+19292088929</td>\n",
       "    </tr>\n",
       "  </tbody>\n",
       "</table>\n",
       "</div>"
      ],
      "text/plain": [
       "                name  age         phone\n",
       "+17868777177  Andrew   42  +17868777177\n",
       "+19292088929   Janak   27  +19292088929"
      ]
     },
     "execution_count": 12,
     "metadata": {},
     "output_type": "execute_result"
    }
   ],
   "source": [
    "pd.DataFrame.from_dict(users,orient='index')"
   ]
  },
  {
   "cell_type": "code",
   "execution_count": 13,
   "metadata": {
    "collapsed": true
   },
   "outputs": [],
   "source": [
    "keys = [\"Name\",\"Address\",\"Phone\"]"
   ]
  },
  {
   "cell_type": "code",
   "execution_count": 14,
   "metadata": {
    "collapsed": true
   },
   "outputs": [],
   "source": [
    "a = dict(zip(keys, [None]*len(keys)))"
   ]
  },
  {
   "cell_type": "code",
   "execution_count": null,
   "metadata": {},
   "outputs": [],
   "source": []
  },
  {
   "cell_type": "code",
   "execution_count": 23,
   "metadata": {},
   "outputs": [
    {
     "ename": "ValueError",
     "evalue": "invalid literal for int() with base 10: '100ds7'",
     "output_type": "error",
     "traceback": [
      "\u001b[0;31m---------------------------------------------------------------------------\u001b[0m",
      "\u001b[0;31mValueError\u001b[0m                                Traceback (most recent call last)",
      "\u001b[0;32m<ipython-input-23-1740962ded99>\u001b[0m in \u001b[0;36m<module>\u001b[0;34m()\u001b[0m\n\u001b[0;32m----> 1\u001b[0;31m \u001b[0;32mif\u001b[0m\u001b[0;34m(\u001b[0m\u001b[0mint\u001b[0m\u001b[0;34m(\u001b[0m\u001b[0;34m'100ds7'\u001b[0m\u001b[0;34m)\u001b[0m\u001b[0;34m)\u001b[0m\u001b[0;34m:\u001b[0m\u001b[0;34m\u001b[0m\u001b[0m\n\u001b[0m\u001b[1;32m      2\u001b[0m     \u001b[0mprint\u001b[0m\u001b[0;34m(\u001b[0m\u001b[0;34m'YES'\u001b[0m\u001b[0;34m)\u001b[0m\u001b[0;34m\u001b[0m\u001b[0m\n",
      "\u001b[0;31mValueError\u001b[0m: invalid literal for int() with base 10: '100ds7'"
     ]
    }
   ],
   "source": [
    "if(int('100ds7')):\n",
    "    print('YES')"
   ]
  },
  {
   "cell_type": "code",
   "execution_count": 30,
   "metadata": {},
   "outputs": [],
   "source": [
    "import json\n",
    "\n",
    "with open('emoji.json') as json_data:\n",
    "    d = json.load(json_data)"
   ]
  },
  {
   "cell_type": "code",
   "execution_count": 33,
   "metadata": {
    "collapsed": true
   },
   "outputs": [],
   "source": [
    "new_d = {}"
   ]
  },
  {
   "cell_type": "code",
   "execution_count": 35,
   "metadata": {},
   "outputs": [],
   "source": [
    "for e in d:\n",
    "    name = e['name'].replace(' ','_')\n",
    "    char = e['char']\n",
    "    code = e['code']\n",
    "    no = e['no']\n",
    "    new_d[name] = [char,code,no]"
   ]
  },
  {
   "cell_type": "code",
   "execution_count": 2,
   "metadata": {},
   "outputs": [
    {
     "ename": "NameError",
     "evalue": "name 'new_d' is not defined",
     "output_type": "error",
     "traceback": [
      "\u001b[0;31m---------------------------------------------------------------------------\u001b[0m",
      "\u001b[0;31mNameError\u001b[0m                                 Traceback (most recent call last)",
      "\u001b[0;32m<ipython-input-2-af095034c79f>\u001b[0m in \u001b[0;36m<module>\u001b[0;34m()\u001b[0m\n\u001b[1;32m      1\u001b[0m \u001b[0;32mwith\u001b[0m \u001b[0mopen\u001b[0m\u001b[0;34m(\u001b[0m\u001b[0;34m\"new_emoji.json\"\u001b[0m\u001b[0;34m,\u001b[0m\u001b[0;34m\"w\"\u001b[0m\u001b[0;34m)\u001b[0m \u001b[0;32mas\u001b[0m \u001b[0mfile\u001b[0m\u001b[0;34m:\u001b[0m\u001b[0;34m\u001b[0m\u001b[0m\n\u001b[0;32m----> 2\u001b[0;31m     \u001b[0mfile\u001b[0m\u001b[0;34m.\u001b[0m\u001b[0mwrite\u001b[0m\u001b[0;34m(\u001b[0m\u001b[0mjson\u001b[0m\u001b[0;34m.\u001b[0m\u001b[0mdumps\u001b[0m\u001b[0;34m(\u001b[0m\u001b[0;34m[\u001b[0m\u001b[0mnew_d\u001b[0m\u001b[0;34m]\u001b[0m\u001b[0;34m)\u001b[0m\u001b[0;34m)\u001b[0m\u001b[0;34m\u001b[0m\u001b[0m\n\u001b[0m\u001b[1;32m      3\u001b[0m \u001b[0;34m\u001b[0m\u001b[0m\n\u001b[1;32m      4\u001b[0m \u001b[0mfile\u001b[0m\u001b[0;34m.\u001b[0m\u001b[0mclose\u001b[0m\u001b[0;34m(\u001b[0m\u001b[0;34m)\u001b[0m\u001b[0;34m\u001b[0m\u001b[0m\n",
      "\u001b[0;31mNameError\u001b[0m: name 'new_d' is not defined"
     ]
    }
   ],
   "source": [
    "with open(\"new_emoji.json\",\"w\") as file:\n",
    "    file.write(json.dumps([new_d]))\n",
    "\n",
    "file.close()"
   ]
  },
  {
   "cell_type": "code",
   "execution_count": 7,
   "metadata": {},
   "outputs": [],
   "source": [
    "with open(\"emoji.json\",\"r\") as file:\n",
    "    x = json.loads(file.read())[0]"
   ]
  },
  {
   "cell_type": "code",
   "execution_count": 36,
   "metadata": {},
   "outputs": [
    {
     "name": "stdout",
     "output_type": "stream",
     "text": [
      "🥇\n"
     ]
    }
   ],
   "source": [
    "print(u'\\U0001F947')"
   ]
  },
  {
   "cell_type": "code",
   "execution_count": 39,
   "metadata": {},
   "outputs": [],
   "source": [
    "s = u'Welcome! \\U0001f604'"
   ]
  },
  {
   "cell_type": "code",
   "execution_count": 40,
   "metadata": {},
   "outputs": [
    {
     "name": "stdout",
     "output_type": "stream",
     "text": [
      "Welcome! 😄\n"
     ]
    }
   ],
   "source": [
    "print(s)"
   ]
  },
  {
   "cell_type": "code",
   "execution_count": 48,
   "metadata": {},
   "outputs": [],
   "source": [
    "# with open(\"messages.json\",encoding=\"utf-8\",mode=\"r\") as file:\n",
    "#     x = json.loads(file.read())[0]"
   ]
  },
  {
   "cell_type": "code",
   "execution_count": 49,
   "metadata": {
    "collapsed": true
   },
   "outputs": [],
   "source": [
    "text  = \"This is amazing\""
   ]
  },
  {
   "cell_type": "markdown",
   "metadata": {},
   "source": [
    "### Testing 1"
   ]
  },
  {
   "cell_type": "code",
   "execution_count": 147,
   "metadata": {
    "collapsed": true
   },
   "outputs": [],
   "source": [
    "import os\n",
    "from flask import Flask, request, redirect, session\n",
    "from twilio.twiml.messaging_response import MessagingResponse\n",
    "from twilio.twiml.voice_response import VoiceResponse\n",
    "import json\n",
    "from pprint import pprint\n",
    "import time"
   ]
  },
  {
   "cell_type": "code",
   "execution_count": 158,
   "metadata": {},
   "outputs": [],
   "source": [
    "# =======================[ READING DATA FILES ]=================================\n",
    "\n",
    "with open('data/users.json') as users_data:\n",
    "    users = json.load(users_data)[0]  # This is a dictionary of users indexed\n",
    "    \t\t\t\t\t\t\t\t  # by their phone numbers\n",
    "\n",
    "with open('data/messages.json') as messages_data:\n",
    "    messages = json.load(messages_data)[0]  # This is a dictionary of messages\n",
    "    \n",
    "with open('data/stories.json') as stories_data:\n",
    "    stories = json.load(stories_data)[0]  # This is a dictionary of stories"
   ]
  },
  {
   "cell_type": "code",
   "execution_count": 159,
   "metadata": {
    "collapsed": true
   },
   "outputs": [],
   "source": [
    "# ======================[ DECLARING CODE FLAGS ]================================\n",
    "\n",
    "# These flags hold sesssion level contextual information\n",
    "\n",
    "intent_flag = 0\n",
    "tags_flag = 0\n",
    "targets_flag = 0\n",
    "text_flag = 0\n"
   ]
  },
  {
   "cell_type": "code",
   "execution_count": 150,
   "metadata": {
    "collapsed": true
   },
   "outputs": [],
   "source": [
    "input_keys = ['timestamp','user_id','session_id','tags','targets','intent','text']"
   ]
  },
  {
   "cell_type": "code",
   "execution_count": 224,
   "metadata": {},
   "outputs": [],
   "source": [
    "def sms_reply(counter,from_number):\n",
    "    \n",
    "    timestamp = time.time()\n",
    "    output = []\n",
    "    resp = MessagingResponse()\n",
    "\n",
    "#     counter = session.get('counter', 0)\n",
    "    input_text = request.values.get('Body', None)\n",
    "    counter += 1\n",
    "\n",
    "\n",
    "#     from_number = request.values.get('From', None)\n",
    "    human = users[from_number][\"name\"] if from_number in users else None\n",
    "    print(\"\\n\\nTalking to \" + str(human))\n",
    "    \n",
    "    input_data = dict.fromkeys(input_keys)\n",
    "    \n",
    "    \n",
    "    if(counter == 1): # If this is the first session\n",
    "        output += [messages[str(_id)][\"text\"] for _id in stories[\"welcome\"][\"messages\"]]\n",
    "\n",
    "    if(human == None):  # A record for this user doesn't exist\n",
    "        \n",
    "        output += onboard(from_number)\n",
    "    else:\n",
    "        resp.message(\"Hi \" + human + \"! How are you feeling today?\")\n",
    "    \n",
    "    for i in range(len(output)):\n",
    "        resp.message(output[i])\n",
    "    \n",
    "    return str(resp)"
   ]
  },
  {
   "cell_type": "code",
   "execution_count": null,
   "metadata": {
    "collapsed": true
   },
   "outputs": [],
   "source": [
    "def onboard(number):\n",
    "    print(\"\\nOnboarding \" + str(number))\n",
    "    \n",
    "    return []"
   ]
  },
  {
   "cell_type": "code",
   "execution_count": 225,
   "metadata": {},
   "outputs": [
    {
     "name": "stdout",
     "output_type": "stream",
     "text": [
      "\n",
      "\n",
      "Talking to None\n",
      "\n",
      "Onboarding +19292088449\n"
     ]
    },
    {
     "data": {
      "text/plain": [
       "'<?xml version=\"1.0\" encoding=\"UTF-8\"?><Response><Message>&#128075;&#128516; Hello! I am MediBo. Your personal medical chatbot.</Message><Message>I am here to help you keep you healthy by keeping a track of your &#128138;</Message></Response>'"
      ]
     },
     "execution_count": 225,
     "metadata": {},
     "output_type": "execute_result"
    }
   ],
   "source": [
    "sms_reply(0,'+19292088449')"
   ]
  },
  {
   "cell_type": "code",
   "execution_count": 199,
   "metadata": {},
   "outputs": [
    {
     "data": {
      "text/plain": [
       "{'onboarding_name': {'_id': 2,\n",
       "  'messages': [5],\n",
       "  'targets': ['onboarding', 'name'],\n",
       "  'title': 'onboarding_name'},\n",
       " 'welcome': {'_id': 1,\n",
       "  'messages': [1, 2],\n",
       "  'targets': ['introduction'],\n",
       "  'title': 'welcome'}}"
      ]
     },
     "execution_count": 199,
     "metadata": {},
     "output_type": "execute_result"
    }
   ],
   "source": [
    "stories"
   ]
  },
  {
   "cell_type": "code",
   "execution_count": 164,
   "metadata": {},
   "outputs": [
    {
     "data": {
      "text/plain": [
       "[{'_id': 1,\n",
       "  'entities': ['medibo', 'chatbot'],\n",
       "  'intent': ['hello'],\n",
       "  'tags': ['hello', 'yourself'],\n",
       "  'targets': ['welcome'],\n",
       "  'text': '👋😄 Hello! I am MediBo. Your personal medical chatbot.',\n",
       "  'title': 'introduction',\n",
       "  'weights': {'general': 1,\n",
       "   'information': 0,\n",
       "   'leadgen': 0,\n",
       "   'query': 0,\n",
       "   'remedy': 0}},\n",
       " {'_id': 2,\n",
       "  'entities': ['medibo', 'chatbot'],\n",
       "  'intent': ['description'],\n",
       "  'tags': ['medicines'],\n",
       "  'targets': ['welcome'],\n",
       "  'text': 'I am here to help you keep you healthy by keeping a track of your 💊',\n",
       "  'title': 'description',\n",
       "  'weights': {'general': 1,\n",
       "   'information': 0,\n",
       "   'leadgen': 0,\n",
       "   'query': 0,\n",
       "   'remedy': 0}}]"
      ]
     },
     "execution_count": 164,
     "metadata": {},
     "output_type": "execute_result"
    }
   ],
   "source": []
  },
  {
   "cell_type": "code",
   "execution_count": null,
   "metadata": {
    "collapsed": true
   },
   "outputs": [],
   "source": []
  }
 ],
 "metadata": {
  "anaconda-cloud": {},
  "hide_input": false,
  "kernelspec": {
   "display_name": "Python [default]",
   "language": "python",
   "name": "python3"
  },
  "language_info": {
   "codemirror_mode": {
    "name": "ipython",
    "version": 3
   },
   "file_extension": ".py",
   "mimetype": "text/x-python",
   "name": "python",
   "nbconvert_exporter": "python",
   "pygments_lexer": "ipython3",
   "version": "3.6.2"
  },
  "varInspector": {
   "cols": {
    "lenName": 16,
    "lenType": 16,
    "lenVar": 40
   },
   "kernels_config": {
    "python": {
     "delete_cmd_postfix": "",
     "delete_cmd_prefix": "del ",
     "library": "var_list.py",
     "varRefreshCmd": "print(var_dic_list())"
    },
    "r": {
     "delete_cmd_postfix": ") ",
     "delete_cmd_prefix": "rm(",
     "library": "var_list.r",
     "varRefreshCmd": "cat(var_dic_list()) "
    }
   },
   "types_to_exclude": [
    "module",
    "function",
    "builtin_function_or_method",
    "instance",
    "_Feature"
   ],
   "window_display": false
  }
 },
 "nbformat": 4,
 "nbformat_minor": 2
}
