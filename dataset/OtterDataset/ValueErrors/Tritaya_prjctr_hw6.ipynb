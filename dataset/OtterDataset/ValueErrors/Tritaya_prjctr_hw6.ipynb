{
 "cells": [
  {
   "cell_type": "markdown",
   "id": "077c5a1b",
   "metadata": {},
   "source": [
    "## Practice block 1:\n",
    "\n",
    "1. Create an outer function that will accept two parameters, a and b\n",
    "2. Create an inner function inside an outer function that will calculate the addition of a and b\n",
    "3. At last, an outer function will add 5 into addition and return it"
   ]
  },
  {
   "cell_type": "code",
   "execution_count": 9,
   "id": "c3318ef1",
   "metadata": {},
   "outputs": [],
   "source": [
    "def outer(a, b):\n",
    "    def inner():\n",
    "        print(c:= a+b)\n",
    "        return c\n",
    "    # c = inner()\n",
    "    return inner() + 5"
   ]
  },
  {
   "cell_type": "code",
   "execution_count": 10,
   "id": "d6ff2b37",
   "metadata": {},
   "outputs": [
    {
     "name": "stdout",
     "output_type": "stream",
     "text": [
      "3\n"
     ]
    },
    {
     "data": {
      "text/plain": [
       "8"
      ]
     },
     "execution_count": 10,
     "metadata": {},
     "output_type": "execute_result"
    }
   ],
   "source": [
    "outer(1,2) # prints 3, returns 8"
   ]
  },
  {
   "cell_type": "markdown",
   "id": "92e584b7",
   "metadata": {},
   "source": [
    "### Task 1\n",
    "A perfect number is a number in which the sum of its divisors (excluding itself) are equal to itself.\n",
    "\n",
    "Write a function that can verify if the given integer n is a perfect number, and return True if it is, or return False if not.\n",
    "\n",
    "Examples\n",
    "\n",
    "n = 28 has the following divisors: 1, 2, 4, 7, 14, 28\n",
    "\n",
    "1 + 2 + 4 + 7 + 14 = 28 therefore 28 is a perfect number, so you should return True\n",
    "\n",
    "Another example:\n",
    "\n",
    "n = 25 has the following divisors: 1, 5, 25\n",
    "\n",
    "1 + 5 = 6 therefore 25 is not a perfect number, so you should return False\n"
   ]
  },
  {
   "cell_type": "code",
   "execution_count": 11,
   "id": "84d55060",
   "metadata": {},
   "outputs": [],
   "source": [
    "def is_perfect(x:int) -> bool:\n",
    "    return sum([divisor for divisor in range(1, x) \n",
    "                if x % divisor == 0]) == x"
   ]
  },
  {
   "cell_type": "code",
   "execution_count": 14,
   "id": "0a08143d",
   "metadata": {},
   "outputs": [
    {
     "data": {
      "text/plain": [
       "True"
      ]
     },
     "execution_count": 14,
     "metadata": {},
     "output_type": "execute_result"
    }
   ],
   "source": [
    "is_perfect(28)"
   ]
  },
  {
   "cell_type": "markdown",
   "id": "25070bdd",
   "metadata": {},
   "source": [
    "## Practice block 2\n",
    "\n",
    "\n",
    "1. Write a program that asks user to enter an integer and convert it to int. If the user enters something that is not an integer, program should catch an error and ask the user to enter an integer again. if user inputs an integer, program should print this number and quit w/o any error.\n"
   ]
  },
  {
   "cell_type": "code",
   "execution_count": 19,
   "id": "09678063",
   "metadata": {},
   "outputs": [],
   "source": [
    "def print_integer_from_user_input():\n",
    "    x = input('Enter an integer: ')\n",
    "    try:\n",
    "        print(int(x))\n",
    "    except Exception as e:\n",
    "        print(repr(e))\n",
    "        print('Not an integer')\n",
    "        print_integer_from_user_input()\n",
    "\n",
    "        # чи буде забиватися пам'ять із-за рекурсії, \n",
    "        # якщо юзер вводитиме строку мільйон разів?"
   ]
  },
  {
   "cell_type": "code",
   "execution_count": 20,
   "id": "0311f706",
   "metadata": {},
   "outputs": [
    {
     "name": "stdout",
     "output_type": "stream",
     "text": [
      "ValueError(\"invalid literal for int() with base 10: 'sdf'\")\n",
      "Not an integer\n",
      "ValueError(\"invalid literal for int() with base 10: '2.6'\")\n",
      "Not an integer\n",
      "23\n"
     ]
    }
   ],
   "source": [
    "print_integer_from_user_input()"
   ]
  },
  {
   "cell_type": "code",
   "execution_count": 21,
   "id": "401141da",
   "metadata": {},
   "outputs": [],
   "source": [
    "def print_integer_from_user_input_no_recursion():\n",
    "    while True:\n",
    "        x = input('Enter an integer: ')\n",
    "        try:\n",
    "            print(int(x))\n",
    "            break\n",
    "        except Exception as e:\n",
    "            print(repr(e))\n",
    "            print('Not an integer')"
   ]
  },
  {
   "cell_type": "code",
   "execution_count": 22,
   "id": "dd345123",
   "metadata": {},
   "outputs": [
    {
     "name": "stdout",
     "output_type": "stream",
     "text": [
      "ValueError(\"invalid literal for int() with base 10: 'we'\")\n",
      "Not an integer\n",
      "ValueError(\"invalid literal for int() with base 10: 'w'\")\n",
      "Not an integer\n",
      "2\n"
     ]
    }
   ],
   "source": [
    "print_integer_from_user_input_no_recursion()"
   ]
  },
  {
   "cell_type": "markdown",
   "id": "683f0d2b",
   "metadata": {},
   "source": [
    "2. Write a program that asks the user to input a string and an integer n. Then display the character at index n in the string. You should handle an error properly and display proper error message."
   ]
  },
  {
   "cell_type": "code",
   "execution_count": 40,
   "id": "28000cd6",
   "metadata": {},
   "outputs": [],
   "source": [
    "def indexing_string():\n",
    "    while True:\n",
    "        str_ = input('Enter a string: ')\n",
    "        n = input('Enter an integer')\n",
    "        try:\n",
    "            print(str_[int(n)])\n",
    "            break\n",
    "        except ValueError as e:\n",
    "            print('not an integer')\n",
    "        except IndexError as e:\n",
    "            print('integer is bigger then the string length')\n",
    "        except Exception as e:\n",
    "            print(repr(e))"
   ]
  },
  {
   "cell_type": "code",
   "execution_count": 41,
   "id": "40884a3a",
   "metadata": {},
   "outputs": [
    {
     "name": "stdout",
     "output_type": "stream",
     "text": [
      "not an integer\n",
      "integer is bigger then the string length\n",
      "d\n"
     ]
    }
   ],
   "source": [
    "indexing_string()"
   ]
  },
  {
   "cell_type": "markdown",
   "id": "cf458e23",
   "metadata": {},
   "source": [
    "## Practice block 3:\n",
    "\n",
    "1. Write a function that simulate a dice roll and returns the result from 1 to 6.\n"
   ]
  },
  {
   "cell_type": "code",
   "execution_count": 42,
   "id": "6805f3ed",
   "metadata": {},
   "outputs": [],
   "source": [
    "import random\n",
    "def throw_dice():\n",
    "    return random.randint(1, 6)"
   ]
  },
  {
   "cell_type": "code",
   "execution_count": 43,
   "id": "dc806202",
   "metadata": {},
   "outputs": [
    {
     "data": {
      "text/plain": [
       "4"
      ]
     },
     "execution_count": 43,
     "metadata": {},
     "output_type": "execute_result"
    }
   ],
   "source": [
    "throw_dice()"
   ]
  },
  {
   "cell_type": "markdown",
   "id": "bff5126b",
   "metadata": {},
   "source": [
    "2. Write a function that simulate 10_000 rolls and returns the number of times that the dice roll for each value\n"
   ]
  },
  {
   "cell_type": "code",
   "execution_count": 44,
   "id": "7400343a",
   "metadata": {},
   "outputs": [],
   "source": [
    "def ten_k():\n",
    "    ls = [0 for i in range(6)]\n",
    "    for i in range(10000):\n",
    "        ls[throw_dice()-1]+=1\n",
    "    return ls"
   ]
  },
  {
   "cell_type": "code",
   "execution_count": 57,
   "id": "55b3449c",
   "metadata": {},
   "outputs": [
    {
     "data": {
      "text/plain": [
       "[1668, 1667, 1760, 1638, 1567, 1700]"
      ]
     },
     "execution_count": 57,
     "metadata": {},
     "output_type": "execute_result"
    }
   ],
   "source": [
    "ten_k()"
   ]
  },
  {
   "cell_type": "markdown",
   "id": "5d53b76c",
   "metadata": {},
   "source": [
    "3. Simulate an election for two candidates. Program should take amount of regions and rating for 1st candidate in each region (in percentage). Program should run election in every region. In every region, program should ask 10 000 voters. Candidate count as a winner if he gains more than 50% of all votes. Program should print the result of the election for each region and the winner\n",
    "\n",
    "    Example:\n",
    "\n",
    "    Enter number of regions: 2 \n",
    "\n",
    "    Enter rating for 1st candidate in each region: 34, 56\n",
    "\n",
    "    Region 1: 3456 votes for 1st candidate, 6544 votes for 2nd candidate\n",
    "\n",
    "    Region 2: 5623 votes for 1st candidate, 4356 votes for 2nd candidate\n",
    "\n",
    "    Result: 2nd candidate won with 10900 votes and 54.5% of all votes\n"
   ]
  },
  {
   "cell_type": "code",
   "execution_count": 124,
   "id": "d758fa09",
   "metadata": {},
   "outputs": [],
   "source": [
    "def election_sim(n:int=1, ratings:list=[0.5]):\n",
    "    '''\n",
    "    Simulation of elections of candidates A and B\n",
    "    Args:\n",
    "        n: number of regions, each is 10000 voters\n",
    "        ratings: rating of the candidate A\n",
    "    '''\n",
    "    assert n == len(ratings)\n",
    "\n",
    "    A_total = 0\n",
    "    B_total = 0\n",
    "\n",
    "    for i in range(n):\n",
    "        result = random.choices([1,0], weights = [ratings[i], 1-ratings[i]], \n",
    "                        k=10000)\n",
    "        A_votes = sum(result)\n",
    "        B_votes = len(result) - sum(result)\n",
    "        print('Region {i}:'.format(i=i+1))\n",
    "        print('1st candidate:', A_votes)\n",
    "        print('2nd candidate:', B_votes)\n",
    "\n",
    "        A_total+= A_votes\n",
    "        B_total+= B_votes\n",
    "    \n",
    "    assert A_total + B_total == n * 10000\n",
    "    \n",
    "    max_ = max(A_total, B_total)\n",
    "\n",
    "    pct = max_*100/sum([A_total, B_total])\n",
    "\n",
    "    winner = '1st' if A_total > B_total else '2nd'\n",
    "\n",
    "    print('-'*13)\n",
    "    print(f'Result: {winner} candidate won with {max_} \\\n",
    "votes and {pct:.2f}% of all votes.')\n",
    "\n",
    "\n",
    "\n",
    "\n",
    "    "
   ]
  },
  {
   "cell_type": "code",
   "execution_count": 123,
   "id": "f21454e3",
   "metadata": {},
   "outputs": [
    {
     "name": "stdout",
     "output_type": "stream",
     "text": [
      "Region 1:\n",
      "1st candidate: 2985\n",
      "2nd candidate: 7015\n",
      "Region 2:\n",
      "1st candidate: 4004\n",
      "2nd candidate: 5996\n",
      "Region 3:\n",
      "1st candidate: 5041\n",
      "2nd candidate: 4959\n",
      "-------------\n",
      "Result: 2nd candidate won with 17970 votes and 59.90% of all votes\n"
     ]
    }
   ],
   "source": [
    "election_sim(3, [0.3, 0.4, 0.5])"
   ]
  },
  {
   "cell_type": "markdown",
   "id": "4cb59998",
   "metadata": {},
   "source": [
    "## Practice block 4\n",
    "\n",
    "1. Create a tuple with your first name, last name, and age."
   ]
  },
  {
   "cell_type": "code",
   "execution_count": 126,
   "id": "aa8dbb19",
   "metadata": {},
   "outputs": [],
   "source": [
    "data = ('Andriy', 'Andriychuk', '46')"
   ]
  },
  {
   "cell_type": "markdown",
   "id": "66d58915",
   "metadata": {},
   "source": [
    "2. Print your last name using indexing.\n"
   ]
  },
  {
   "cell_type": "code",
   "execution_count": 127,
   "id": "93a28179",
   "metadata": {},
   "outputs": [
    {
     "name": "stdout",
     "output_type": "stream",
     "text": [
      "Andriychuk\n"
     ]
    }
   ],
   "source": [
    "print(data[1])"
   ]
  },
  {
   "cell_type": "markdown",
   "id": "7ebe9ff4",
   "metadata": {},
   "source": [
    "3. Create three variables in one line that extracted from tuple that you created in step 1.\n"
   ]
  },
  {
   "cell_type": "code",
   "execution_count": 128,
   "id": "81838285",
   "metadata": {},
   "outputs": [],
   "source": [
    "a, b, c = data"
   ]
  },
  {
   "cell_type": "markdown",
   "id": "3f57d206",
   "metadata": {},
   "source": [
    "4. Print your name letter by letter from this tuple\n"
   ]
  },
  {
   "cell_type": "code",
   "execution_count": 134,
   "id": "cc31eacc",
   "metadata": {},
   "outputs": [
    {
     "name": "stdout",
     "output_type": "stream",
     "text": [
      "A\n",
      "n\n",
      "d\n",
      "r\n",
      "i\n",
      "y\n"
     ]
    },
    {
     "data": {
      "text/plain": [
       "[None, None, None, None, None, None]"
      ]
     },
     "execution_count": 134,
     "metadata": {},
     "output_type": "execute_result"
    }
   ],
   "source": [
    "[print(i) for i in data[0]]"
   ]
  },
  {
   "cell_type": "code",
   "execution_count": 135,
   "id": "9f7a4a35",
   "metadata": {},
   "outputs": [
    {
     "name": "stdout",
     "output_type": "stream",
     "text": [
      "A\n",
      "n\n",
      "d\n",
      "r\n",
      "i\n",
      "y\n"
     ]
    }
   ],
   "source": [
    "for i in data[0]:\n",
    "    print(i)"
   ]
  },
  {
   "cell_type": "markdown",
   "id": "06bc9c2f",
   "metadata": {},
   "source": [
    "5. Create a new tuple that contains all info from the first tuple but remove first letter from all strings\n"
   ]
  },
  {
   "cell_type": "code",
   "execution_count": 138,
   "id": "5ffd31a6",
   "metadata": {},
   "outputs": [],
   "source": [
    "new = tuple(i[:-1] for i in data)"
   ]
  },
  {
   "cell_type": "code",
   "execution_count": 139,
   "id": "15dce667",
   "metadata": {},
   "outputs": [
    {
     "data": {
      "text/plain": [
       "('Andri', 'Andriychu', '4')"
      ]
     },
     "execution_count": 139,
     "metadata": {},
     "output_type": "execute_result"
    }
   ],
   "source": [
    "new"
   ]
  },
  {
   "cell_type": "markdown",
   "id": "340c19b8",
   "metadata": {},
   "source": [
    "6. Create a tuple with two values. First one is (1, 2), second one is (3, 4).\n"
   ]
  },
  {
   "cell_type": "code",
   "execution_count": 140,
   "id": "05d63cc3",
   "metadata": {},
   "outputs": [],
   "source": [
    "two_val_tuple =(\n",
    "    (1,2),\n",
    "    (3,4)\n",
    ")"
   ]
  },
  {
   "cell_type": "markdown",
   "id": "3f0db4db",
   "metadata": {},
   "source": [
    "7. Create a program that calculates the sum of all values in the tuple and print it to the console."
   ]
  },
  {
   "cell_type": "code",
   "execution_count": 168,
   "id": "e966a3fb",
   "metadata": {},
   "outputs": [
    {
     "name": "stdout",
     "output_type": "stream",
     "text": [
      "10\n"
     ]
    }
   ],
   "source": [
    "# classic\n",
    "amt = 0\n",
    "for row in two_val_tuple:\n",
    "    for col in row:\n",
    "        amt+= col\n",
    "print(amt)"
   ]
  },
  {
   "cell_type": "code",
   "execution_count": 185,
   "id": "c4dcfc13",
   "metadata": {},
   "outputs": [
    {
     "data": {
      "text/plain": [
       "10"
      ]
     },
     "execution_count": 185,
     "metadata": {},
     "output_type": "execute_result"
    }
   ],
   "source": [
    "# list generator\n",
    "sum(\n",
    "    [col for row in two_val_tuple for col in row]\n",
    ")"
   ]
  },
  {
   "cell_type": "code",
   "execution_count": 160,
   "id": "a5124e68",
   "metadata": {},
   "outputs": [
    {
     "data": {
      "text/plain": [
       "10"
      ]
     },
     "execution_count": 160,
     "metadata": {},
     "output_type": "execute_result"
    }
   ],
   "source": [
    "# itertools 1\n",
    "import itertools\n",
    "sum(\n",
    "    [i for i in itertools.chain.from_iterable(two_val_tuple)]\n",
    "    )"
   ]
  },
  {
   "cell_type": "code",
   "execution_count": 187,
   "id": "a5124e68",
   "metadata": {},
   "outputs": [
    {
     "data": {
      "text/plain": [
       "10"
      ]
     },
     "execution_count": 187,
     "metadata": {},
     "output_type": "execute_result"
    }
   ],
   "source": [
    "# itertools 2\n",
    "sum(\n",
    "    list(itertools.chain.from_iterable(two_val_tuple))\n",
    ")"
   ]
  }
 ],
 "metadata": {
  "kernelspec": {
   "display_name": "Python 3.11.0 64-bit",
   "language": "python",
   "name": "python3"
  },
  "language_info": {
   "codemirror_mode": {
    "name": "ipython",
    "version": 3
   },
   "file_extension": ".py",
   "mimetype": "text/x-python",
   "name": "python",
   "nbconvert_exporter": "python",
   "pygments_lexer": "ipython3",
   "version": "3.11.0"
  },
  "vscode": {
   "interpreter": {
    "hash": "c261aea317cc0286b3b3261fbba9abdec21eaa57589985bb7a274bf54d6cc0a7"
   }
  }
 },
 "nbformat": 4,
 "nbformat_minor": 5
}
