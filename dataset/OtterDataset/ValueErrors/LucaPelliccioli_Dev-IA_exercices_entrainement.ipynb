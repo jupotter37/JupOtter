{
 "metadata": {
  "language_info": {
   "codemirror_mode": {
    "name": "ipython",
    "version": 3
   },
   "file_extension": ".py",
   "mimetype": "text/x-python",
   "name": "python",
   "nbconvert_exporter": "python",
   "pygments_lexer": "ipython3",
   "version": "3.8.5"
  },
  "orig_nbformat": 2,
  "kernelspec": {
   "name": "python3",
   "display_name": "Python 3.8.5 64-bit ('anaconda3': virtualenv)",
   "metadata": {
    "interpreter": {
     "hash": "64b474f71659f9be32f34132c3eef93d33d176ead871b80ca6db3fa26bc83f65"
    }
   }
  }
 },
 "nbformat": 4,
 "nbformat_minor": 2,
 "cells": [
  {
   "cell_type": "code",
   "execution_count": 38,
   "metadata": {},
   "outputs": [
    {
     "output_type": "stream",
     "name": "stdout",
     "text": [
      "Le prix total a payer est de 12 $\n"
     ]
    }
   ],
   "source": [
    "age = int(input('Quel est votre age? :'))\n",
    "\n",
    "if age < 18:\n",
    "    prix = 7\n",
    "else:\n",
    "    prix = 12\n",
    "\n",
    "# ternaire\n",
    "#prix = (7, 12)[age < 18]\n",
    "\n",
    "pop_corn = input('Souaitez vous du pop corn? (oui, non)')\n",
    "\n",
    "if pop_corn == 'oui':\n",
    "    print('Le prix total a payer est de', prix + 5, '$')\n",
    "else:\n",
    "    print('Le prix de la place est de', {}, '$'.format(prix))"
   ]
  },
  {
   "source": [
    "# demander en console une chaine de la forme mot1/mot2/mot3/mot4\n",
    ">- transofrmer cette chaine en une liste\n",
    ">- la mélanger\n",
    ">- si le nombre d'éléments de cette liste est inférieur à 10, afficher les deux premiers mots\n",
    ">- si le nombre d'éléments est supérieur ou égal à 10, afficher les trois derniers mots\n",
    "\n",
    "\n"
   ],
   "cell_type": "markdown",
   "metadata": {}
  },
  {
   "cell_type": "code",
   "execution_count": 31,
   "metadata": {},
   "outputs": [
    {
     "output_type": "stream",
     "name": "stdout",
     "text": [
      "un\n"
     ]
    }
   ],
   "source": [
    "from random import shuffle\n",
    "\n",
    "chaine = input('Entrez une chaine de la forme mot1/mot2/mot3/mot4')\n",
    "mot = chaine.split()\n",
    "shuffle(mot)\n",
    "mot_len = len(mot)\n",
    "\n",
    "if mot_len < 10:\n",
    "    print(mot[0:2])\n",
    "else:\n",
    "    print(mot[-1], mot[-2], mot[-3])    "
   ]
  },
  {
   "source": [
    "# choisir un nombre entre 1 et 1000, tant que le jeu n'est pas fini\n",
    ">- demander à l'utilisatuer \"entrez un prix\"\n",
    ">- si li trouve le juste prix \"c'est gagné\"\n",
    ">- sinon on affiche 'c'est moins' ou \"c'est plus\""
   ],
   "cell_type": "markdown",
   "metadata": {}
  },
  {
   "cell_type": "code",
   "execution_count": 1,
   "metadata": {},
   "outputs": [
    {
     "output_type": "stream",
     "name": "stdout",
     "text": [
      "C'est plus\n",
      "C'est plus\n",
      "C'est plus\n",
      "C'est plus\n",
      "C'est plus\n"
     ]
    },
    {
     "output_type": "error",
     "ename": "ValueError",
     "evalue": "invalid literal for int() with base 10: ''",
     "traceback": [
      "\u001b[0;31m---------------------------------------------------------------------------\u001b[0m",
      "\u001b[0;31mValueError\u001b[0m                                Traceback (most recent call last)",
      "\u001b[0;32m<ipython-input-1-5d61bdeddcc4>\u001b[0m in \u001b[0;36m<module>\u001b[0;34m\u001b[0m\n\u001b[1;32m      5\u001b[0m \u001b[0;31m# tant que le jeu est en cours d'éxécution\u001b[0m\u001b[0;34m\u001b[0m\u001b[0;34m\u001b[0m\u001b[0;34m\u001b[0m\u001b[0m\n\u001b[1;32m      6\u001b[0m \u001b[0;32mwhile\u001b[0m \u001b[0mrunning\u001b[0m\u001b[0;34m:\u001b[0m\u001b[0;34m\u001b[0m\u001b[0;34m\u001b[0m\u001b[0m\n\u001b[0;32m----> 7\u001b[0;31m     \u001b[0mentrez_un_prix\u001b[0m \u001b[0;34m=\u001b[0m \u001b[0mint\u001b[0m\u001b[0;34m(\u001b[0m\u001b[0minput\u001b[0m\u001b[0;34m(\u001b[0m\u001b[0;34m\"Entrez un prix\"\u001b[0m\u001b[0;34m)\u001b[0m\u001b[0;34m)\u001b[0m\u001b[0;34m\u001b[0m\u001b[0;34m\u001b[0m\u001b[0m\n\u001b[0m\u001b[1;32m      8\u001b[0m \u001b[0;34m\u001b[0m\u001b[0m\n\u001b[1;32m      9\u001b[0m     \u001b[0;32mif\u001b[0m \u001b[0mentrez_un_prix\u001b[0m \u001b[0;34m<\u001b[0m \u001b[0mnombre_a_trouver\u001b[0m\u001b[0;34m:\u001b[0m\u001b[0;34m\u001b[0m\u001b[0;34m\u001b[0m\u001b[0m\n",
      "\u001b[0;31mValueError\u001b[0m: invalid literal for int() with base 10: ''"
     ]
    }
   ],
   "source": [
    "# statut du jeu (activé/désactivé)\n",
    "running = True\n",
    "nombre_a_trouver = 666  \n",
    "\n",
    "# tant que le jeu est en cours d'éxécution\n",
    "while running:\n",
    "    entrez_un_prix = int(input(\"Entrez un prix\"))\n",
    "    \n",
    "    if entrez_un_prix < nombre_a_trouver:\n",
    "        print(\"C'est plus\")\n",
    "    elif entrez_un_prix > nombre_a_trouver:\n",
    "        print(\"c'est moins\")\n",
    "    elif entrez_un_prix == nombre_a_trouver:\n",
    "        print(\"C'est gagné !\")"
   ]
  },
  {
   "source": [
    "Créer une fonction max() qui va renvoyer le résultat le plus haut parmis deux valeurs"
   ],
   "cell_type": "markdown",
   "metadata": {}
  },
  {
   "cell_type": "code",
   "execution_count": 12,
   "metadata": {},
   "outputs": [
    {
     "output_type": "stream",
     "name": "stdout",
     "text": [
      "3\n"
     ]
    }
   ],
   "source": [
    "def max(a,b):\n",
    "    if a > b:\n",
    "        return a\n",
    "    else:\n",
    "        return b\n",
    "\n",
    "first = int(input(\"Premier nombre :\"))\n",
    "second = int(input(\"Second nombre : \"))\n",
    "print(max(first,second))"
   ]
  },
  {
   "source": [
    "# Calculer le nombre de voyelle dans un mot\n",
    " - définir une fonction get_vowels_numbers(mot)\n",
    " - créer un compteur de voyelle\n",
    " - pour chaque lettre du mot vérifier si il s'agit d'une voyelle\n",
    " - si c'est le cas on ajout 1 au compteur \n",
    " - renvoyer le compteur à la fin de la fonction"
   ],
   "cell_type": "markdown",
   "metadata": {}
  },
  {
   "cell_type": "code",
   "execution_count": 23,
   "metadata": {},
   "outputs": [
    {
     "output_type": "execute_result",
     "data": {
      "text/plain": [
       "3"
      ]
     },
     "metadata": {},
     "execution_count": 23
    }
   ],
   "source": [
    "def get_vowels_numbers(mot):\n",
    "\n",
    "    compteur = 0\n",
    "    voyelle = ['a','e','i','o','u','y']\n",
    "\n",
    "    for lettre in word:\n",
    "        if lettre in voyelle:\n",
    "            compteur += 1\n",
    "    return compteur\n",
    "\n",
    "word = input('Entrez votre mot :')\n",
    "get_vowels_numbers(mot)"
   ]
  },
  {
   "cell_type": "code",
   "execution_count": 8,
   "metadata": {},
   "outputs": [
    {
     "output_type": "stream",
     "name": "stdout",
     "text": [
      "Luca aime Charlene\nBienvenue à Luca /Points de vie : 20 /Proposition : 3\nBienvenue à Charlene /Points de vie : 17 /Refus : 5\n"
     ]
    }
   ],
   "source": [
    "class player:\n",
    "\n",
    "    def __init__(self, pseudo, health, attack):\n",
    "        self.pseudo = pseudo\n",
    "        self.health = health\n",
    "        self.attack = attack\n",
    "        self.weapon = None\n",
    "\n",
    "    def get_pseudo(self):\n",
    "        return self.pseudo\n",
    "    \n",
    "    def get_health(self):\n",
    "        return self.health\n",
    "    \n",
    "    def get_attack_value(self):\n",
    "        return self.attack\n",
    "\n",
    "    def damage(self, damage):\n",
    "        self.health -= damage\n",
    "    \n",
    "    def attack_player(self, target_player):\n",
    "        target_player.damage(self.attack)\n",
    "\n",
    "        if self.has_weapon():\n",
    "            damage += self.weapon.get_damage_amount() \n",
    "\n",
    "    def set_weapon(self, weapon):\n",
    "        self.weapon = weapon\n",
    "\n",
    "    def has_weapon(self):\n",
    "        return self.weapon is not None\n",
    "\n",
    "class weapon:\n",
    "\n",
    "    def __init__(self, name, damage):\n",
    "        self.name = name\n",
    "        self.damage = damage\n",
    "    \n",
    "    def get_name(self, name):\n",
    "        return self.name\n",
    "    \n",
    "    def get_damage_amount(self):\n",
    "        return self.damage\n",
    "\n",
    "\n",
    "knife = weapon(\"fleur\", 3)\n",
    "\n",
    "player1 = player(\"Luca\", 20, 3)\n",
    "player2 = player(\"Charlene\", 20, 5)\n",
    "\n",
    "player1.attack_player(player2)\n",
    "print(player1.get_pseudo(), \"aime\", player2.get_pseudo())\n",
    "\n",
    "print(\"Bienvenue à\", player1.get_pseudo(), \"/Points de vie :\", player1.get_health(), \"/Proposition :\", player1.get_attack_value())\n",
    "print(\"Bienvenue à\", player2.get_pseudo(), \"/Points de vie :\", player2.get_health(), \"/Refus :\", player2.get_attack_value())  \n"
   ]
  },
  {
   "cell_type": "code",
   "execution_count": 21,
   "metadata": {},
   "outputs": [
    {
     "output_type": "stream",
     "name": "stdout",
     "text": [
      "Vie :  30 armure 2\nLe guerrier est bien une spécialisation de player\n"
     ]
    }
   ],
   "source": [
    "class player:\n",
    "\n",
    "    def __init__(self, pseudo, health, attack):\n",
    "        self.pseudo = pseudo\n",
    "        self.health = health\n",
    "        self.attack = attack\n",
    "\n",
    "    def get_pseudo(self):\n",
    "        return self.pseudo\n",
    "    \n",
    "    def get_health(self):\n",
    "        return self.health\n",
    "    \n",
    "    def get_attack_value(self):\n",
    "        return self.attack\n",
    "\n",
    "    def damage(self, damage):\n",
    "        self.health -= damage\n",
    "    \n",
    "    def attack_player(self, target_player):\n",
    "        target_player.damage(self.attack)\n",
    "\n",
    "\n",
    "class warrior(player):\n",
    "\n",
    "    def __init__(self, pseudo, health, attack):\n",
    "        super().__init__(pseudo, health, attack)\n",
    "        self.armor = 3\n",
    "\n",
    "    def damage(self, damage):\n",
    "        if self.armor > 0:\n",
    "            self.armor -= 1\n",
    "            damage = 0\n",
    "        super().damage(damage)\n",
    "\n",
    "    def blade(self):\n",
    "        self.armor = 3\n",
    "        print(\"Les points d'armure ont été rechargées\")\n",
    "\n",
    "    def get_armor_point(self):\n",
    "        return self.armor\n",
    " \n",
    "Player = player(\"Luca\", 20, 3)\n",
    "Player.damage(3)\n",
    "\n",
    "Warrior = warrior(\"Darkwarrior\", 30, 4)\n",
    "Warrior.damage(4)\n",
    "print(\"Vie : \", Warrior.get_health(), \"armure\", Warrior.get_armor_point())\n",
    "\n",
    "if issubclass(warrior, player):\n",
    "    print(\"Le guerrier est bien une spécialisation de player\") "
   ]
  },
  {
   "source": [
    "## Simulateur de ville\n",
    "- Créer trois class immeuble, supermarché, banque\n",
    "- superclass batiment\n",
    "- 4 immeubles, 2 supermarché et 1 banque"
   ],
   "cell_type": "markdown",
   "metadata": {}
  },
  {
   "cell_type": "code",
   "execution_count": 33,
   "metadata": {},
   "outputs": [
    {
     "output_type": "stream",
     "name": "stdout",
     "text": [
      "Il y a 3 étages et 3 balcons dans le premier immeuble\n"
     ]
    }
   ],
   "source": [
    "class batiment:\n",
    "\n",
    "    def __init__(self, adresse, nb_etages):\n",
    "        self.adresse = adresse\n",
    "        self.nb_etages = nb_etages\n",
    "\n",
    "    def get_adress(self):\n",
    "        return self.adresse\n",
    "\n",
    "    def get_nb_etages(self):\n",
    "        return self.nb_etages\n",
    "\n",
    "class immeuble(batiment):\n",
    "\n",
    "    def __init__(self, adresse, nb_etages, nb_balcons):\n",
    "        batiment.__init__(self, adresse, nb_etages)\n",
    "        self.nb_balcons = nb_balcons\n",
    "\n",
    "    def get_nb_balcons(self):\n",
    "        return self.nb_balcons\n",
    "\n",
    "class supermarche(batiment):\n",
    "\n",
    "    def __init__(self, adresse, nb_etages, nb_rayons):\n",
    "        batiment.__init__(self, adresse, nb_etages)\n",
    "        self.nb_rayons = nb_rayons\n",
    "    \n",
    "    def get_nb_rayons(self):\n",
    "        return self.nb_rayons\n",
    "\n",
    "class banque(batiment):\n",
    "\n",
    "    def __init__(self, adresse, nb_etages, nb_coffres, nom):\n",
    "        batiment.__init__(self, adresse, nb_etages)\n",
    "        self.nb_coffres = nb_coffres\n",
    "        self.nom = nom\n",
    "\n",
    "    def get_nb_coffres(self):\n",
    "        return self.nb_coffres\n",
    "\n",
    "    def get_nom(self):\n",
    "        return self.nom\n",
    "\n",
    "\n",
    "# 4 immeubles\n",
    "Immeuble1 = immeuble(\"26 rue de la Gravenade\", 3, 3)\n",
    "Immeuble2 = immeuble(\"28 rue de la Grevande\", 5, 6)\n",
    "Immeuble3 = immeuble(\"53 rue elios mitterand\", 2, 2)\n",
    "Immeuble5 = immeuble(\"120 rue pleiades\", 8, 4)\n",
    "\n",
    "# 2 supermarché\n",
    "Supermarche1 = supermarche(\"27 rue de la Gravenade\", 1, 12)\n",
    "Supermarche2 = supermarche(\"119 rue pleiades\", 4, 25)\n",
    "\n",
    "# 1 banque\n",
    "Banque = banque(\"53 rue elios mitterand\", 25, 4, \"GravenBanque\")\n",
    "print(\"Il y a\", Immeuble1.get_nb_etages(), \"étages et\", Immeuble1.get_nb_balcons(), \"balcons dans le premier immeuble\")\n"
   ]
  },
  {
   "cell_type": "code",
   "execution_count": null,
   "metadata": {},
   "outputs": [],
   "source": []
  },
  {
   "cell_type": "code",
   "execution_count": null,
   "metadata": {},
   "outputs": [],
   "source": []
  }
 ]
}