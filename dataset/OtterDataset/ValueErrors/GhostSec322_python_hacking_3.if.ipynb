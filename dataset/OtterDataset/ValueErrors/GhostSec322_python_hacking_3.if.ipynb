{
 "cells": [
  {
   "cell_type": "code",
   "execution_count": 11,
   "metadata": {},
   "outputs": [
    {
     "name": "stdout",
     "output_type": "stream",
     "text": [
      "True\n",
      "True\n",
      "False\n",
      "False\n"
     ]
    }
   ],
   "source": [
    "#비교연산\n",
    "x=10\n",
    "y=20\n",
    "print(x<y)\n",
    "print(x<=y)\n",
    "print(x>y)\n",
    "print(x>=y)\n"
   ]
  },
  {
   "cell_type": "code",
   "execution_count": 12,
   "metadata": {},
   "outputs": [
    {
     "name": "stdout",
     "output_type": "stream",
     "text": [
      "False\n",
      "True\n"
     ]
    }
   ],
   "source": [
    "str1=\"유튜브 쇼츠보기\"\n",
    "str2=\"스타트코딩 유튜브 보기\"\n",
    "print(str1==str2)\n",
    "print(str1!=str2)"
   ]
  },
  {
   "cell_type": "code",
   "execution_count": 13,
   "metadata": {},
   "outputs": [
    {
     "name": "stdout",
     "output_type": "stream",
     "text": [
      "로그인 실패\n"
     ]
    }
   ],
   "source": [
    "#조건문 \n",
    "password= \"1234\"\n",
    "input_password =input(\"비밀번호를 입력하세요\")\n",
    "if password == input_password:\n",
    "    print(\"로그인 성공\")\n",
    "elif input_password == \"\":\n",
    "    print(\"비밀번호를 입력하세요\")\n",
    "else:\n",
    "    print(\"로그인 실패\")"
   ]
  },
  {
   "cell_type": "markdown",
   "metadata": {},
   "source": []
  },
  {
   "cell_type": "markdown",
   "metadata": {},
   "source": [
    "문제) 회사를 그만주게 된 유진이는 유튜브를 시작하게 되었다. 그리고 유튜브 수익창출을 하려고 한다. \n",
    "프로그램 사용자로부터 현재 구독자 수를 입력받으면 수익창출 가능 여부를 알려주는 프로그램을 작성해라 (수익창출은 구독자가 1000명 이상일때부터 가능)"
   ]
  },
  {
   "cell_type": "code",
   "execution_count": 18,
   "metadata": {},
   "outputs": [
    {
     "name": "stdout",
     "output_type": "stream",
     "text": [
      "수익창출이 가능합니다!\n"
     ]
    }
   ],
   "source": [
    "subsc= int(input(\"현재 구독자 수를 입력하세요\"))\n",
    "if subsc >=1000:\n",
    "    print(\"수익창출이 가능합니다!\")\n",
    "else:\n",
    "    print(\"수익창출이 불가능 합니다\")"
   ]
  },
  {
   "cell_type": "markdown",
   "metadata": {},
   "source": [
    "실습문제 5.1.1\n",
    "회사를 그만두게 된 유진이는 유튜브를 시작하게 되었다. 그리고, 유튜브를 통해 수익창출을 하려고 한다. 프로그램 사용자로부터 현재 구독자 수를 입력 받으면, 수익 창출이 가능한지 불가능한지 알려주는 프로그램을 작성해보자. (단, 수익창출은 구독자가 1000명 이상일 경우 가능하다)"
   ]
  },
  {
   "cell_type": "code",
   "execution_count": 1,
   "metadata": {},
   "outputs": [
    {
     "name": "stdout",
     "output_type": "stream",
     "text": [
      "수익창출이 불가능 합니다\n"
     ]
    }
   ],
   "source": [
    "subscribe=int(input(\"구독자 수를 입력하세요\"))\n",
    "if subscribe>=1000:\n",
    "    print(\"수익창출이 가능합니다\")\n",
    "else:\n",
    "    print(\"수익창출이 불가능 합니다\")"
   ]
  },
  {
   "cell_type": "markdown",
   "metadata": {},
   "source": [
    "실습문제 5.1.3\n",
    "현동이는 강의를 8시간 동안 들으니, 배가 너무 고파 저녁을 먹기로 하였다. 현동이가 현재 가진 금액을 통해 최대로 먹을 수 있는 음식을 출력해 주는 프로그램을 작성해 보자. \n",
    "조건 ) 20000원 이상 : 치킨, 10000원 이상 : 떡볶이, 2000원 이상  : 편의점 김밥 "
   ]
  },
  {
   "cell_type": "code",
   "execution_count": 2,
   "metadata": {},
   "outputs": [
    {
     "name": "stdout",
     "output_type": "stream",
     "text": [
      "떡볶이\n"
     ]
    }
   ],
   "source": [
    "have_money=int(input(\"보유금액?:\"))\n",
    "if have_money >= 20000:\n",
    "    print(\"치킨\")\n",
    "elif have_money<=20000 and have_money >=10000:\n",
    "    print(\"떡볶이\")\n",
    "else:\n",
    "    print(\"편의점 김밥\")"
   ]
  },
  {
   "cell_type": "markdown",
   "metadata": {},
   "source": [
    "실습문제 5.1.4\n",
    "프로그램 사용자로부터 국어, 수학, 영어 성적이 입력된다. 세 과목의 평균점수가 80점 이상이면 합격이다. 그런데 점수에 따라 합격 또는 불합격이 정해지는 프로그램에 오류가 발생했다. 80점 이상일 경우 불합격이 표시되도록 프로그램을 작성해보자.  (단, 0점 에서 100점 사이의 숫자를 입력하지 않으면 \"잘못 입력하였습니다.\"를 출력하자)"
   ]
  },
  {
   "cell_type": "code",
   "execution_count": 12,
   "metadata": {},
   "outputs": [
    {
     "ename": "ValueError",
     "evalue": "invalid literal for int() with base 10: '12-'",
     "output_type": "error",
     "traceback": [
      "\u001b[1;31m---------------------------------------------------------------------------\u001b[0m",
      "\u001b[1;31mValueError\u001b[0m                                Traceback (most recent call last)",
      "Cell \u001b[1;32mIn[12], line 2\u001b[0m\n\u001b[0;32m      1\u001b[0m korean\u001b[38;5;241m=\u001b[39m\u001b[38;5;28mint\u001b[39m(\u001b[38;5;28minput\u001b[39m(\u001b[38;5;124m\"\u001b[39m\u001b[38;5;124m국어\u001b[39m\u001b[38;5;124m\"\u001b[39m))\n\u001b[1;32m----> 2\u001b[0m math\u001b[38;5;241m=\u001b[39m\u001b[38;5;28;43mint\u001b[39;49m\u001b[43m(\u001b[49m\u001b[38;5;28;43minput\u001b[39;49m\u001b[43m(\u001b[49m\u001b[38;5;124;43m\"\u001b[39;49m\u001b[38;5;124;43m수학\u001b[39;49m\u001b[38;5;124;43m\"\u001b[39;49m\u001b[43m)\u001b[49m\u001b[43m)\u001b[49m\n\u001b[0;32m      3\u001b[0m English\u001b[38;5;241m=\u001b[39m\u001b[38;5;28mint\u001b[39m(\u001b[38;5;28minput\u001b[39m(\u001b[38;5;124m\"\u001b[39m\u001b[38;5;124m영어\u001b[39m\u001b[38;5;124m\"\u001b[39m))\n\u001b[0;32m      4\u001b[0m \u001b[38;5;66;03m# 방법 1 \u001b[39;00m\n",
      "\u001b[1;31mValueError\u001b[0m: invalid literal for int() with base 10: '12-'"
     ]
    }
   ],
   "source": [
    "korean=int(input(\"국어\"))\n",
    "math=int(input(\"수학\"))\n",
    "English=int(input(\"영어\"))\n",
    "# 방법 1 \n",
    "if 0 <= korean <= 100 and 0 <= math <= 100 and 0 <= English <= 100:\n",
    "     if (korean+math+English /3)>=80:\n",
    "        print(\"불합격\")\n",
    "     else:\n",
    "        print(\"합격\")\n",
    "    \n",
    "else:\n",
    "      print(\"잘못 입력하셨습니다\")\n",
    "    "
   ]
  }
 ],
 "metadata": {
  "kernelspec": {
   "display_name": "Python 3",
   "language": "python",
   "name": "python3"
  },
  "language_info": {
   "codemirror_mode": {
    "name": "ipython",
    "version": 3
   },
   "file_extension": ".py",
   "mimetype": "text/x-python",
   "name": "python",
   "nbconvert_exporter": "python",
   "pygments_lexer": "ipython3",
   "version": "3.12.4"
  }
 },
 "nbformat": 4,
 "nbformat_minor": 2
}
