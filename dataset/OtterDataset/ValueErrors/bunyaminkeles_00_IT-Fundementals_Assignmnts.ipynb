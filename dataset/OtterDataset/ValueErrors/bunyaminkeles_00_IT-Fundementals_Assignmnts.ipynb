{
 "cells": [
  {
   "cell_type": "code",
   "execution_count": null,
   "metadata": {},
   "outputs": [],
   "source": [
    "# TASK -1 11apr21\n",
    "# the profit will be : 13130 / \n",
    "# \n",
    "# You work for a manufacturer as a programmer and have been asked to calculate the total profit made on the sales of a product. You are given a dictionary (sales) containing the cost price per unit (in dollars), sell price per unit (in dollars), and the beginning inventory. Write a program to return the total profit made, rounded to the nearest dollar. Assume all of the inventory has been sold. The name and the keys of the dictionary are constant, so use them as they are.\n",
    "\n",
    "# Programcı olarak bir üretici için çalışıyoruz ve bir ürünün satışında yapılan toplam karı hesaplamaları istendi. Birim başına (dolar cinsinden) maliyet fiyatını içeren bir sözlük (satış) verilir, birim başına fiyat (dolar cinsinden) ve başlangıç ​​envanteri. Yapılan toplam karı döndürmek için bir program yazın, en yakın dolara yuvarlanır. Tüm envanterin satıldığını varsayalım. Sözlüğün adı ve anahtarları sabittir, bu yüzden bunları oldukları gibi kullanın."
   ]
  },
  {
   "cell_type": "code",
   "execution_count": 6,
   "metadata": {},
   "outputs": [
    {
     "name": "stdout",
     "output_type": "stream",
     "text": [
      "13130.0\n"
     ]
    }
   ],
   "source": [
    "sales = {\n",
    "  \"cost_value\": 31.87,\n",
    "  \"sell_value\": 45.00,\n",
    "  \"inventory\": 1000\n",
    "}  \n",
    "total_prft = (sales[\"sell_value\"] * sales [\"inventory\"]) - (sales[\"cost_value\"] * sales[\"inventory\"])\n",
    "\n",
    "print(total_prft)"
   ]
  },
  {
   "cell_type": "code",
   "execution_count": null,
   "metadata": {},
   "outputs": [],
   "source": [
    "# TASK -2 11apr21\n",
    "# our boss wants you to prepare the -payrolls- of the workers in your department. You have to convert the amount of dollars into payroll format. In order to help move things along, you have volunteered to write a code that will take a float and return the money in the following format (as dollars and cents). \n",
    "# Patronumuz, işçilerin ücretlerini bölümündeki maaşlarını hazırlamanızı istiyor. Dolar miktarını bordro biçimine dönüştürmeniz gerekir. Bir şeyleri ilerletmeye yardımcı olmak için, yüzdürecek bir kod yazmaya ve parayı aşağıdaki biçimde (dolar ve kuruş olarak) iade etmek için gönüllü oldunuz. \n",
    "\n",
    "#Given Float Type amount\tDesired Output\n",
    "#3\t                        $3.00\n",
    "#29.99\t                    $29.99\n",
    "#4.1\t                    $4.10"
   ]
  },
  {
   "cell_type": "code",
   "execution_count": 51,
   "metadata": {},
   "outputs": [
    {
     "name": "stdout",
     "output_type": "stream",
     "text": [
      "['q', 'w']\n",
      "{'y', 't'}\n",
      "your answer is False\n"
     ]
    }
   ],
   "source": [
    "# leftHand = set(\"qwertasdfgzxcvb\")\n",
    "leftHand = [\"q\",\"w\"]\n",
    "# rightHand = set(\"ytuıopğühjklşinmöç\".strip())\n",
    "rightHand = set(\"yt\".strip())\n",
    "# alphabet = (leftHand | rightHand)\n",
    "print(leftHand)\n",
    "print(rightHand)\n",
    "# word= input(\"write a word:\".lower().strip())\n",
    "print(\"your answer is\", input(\"bir yanıt gir\") == leftHand)\n",
    "#print(word)\n",
    "#word == leftHand and rightHand\n",
    "#print(word, \" is comfortable words\")\n"
   ]
  },
  {
   "cell_type": "code",
   "execution_count": 7,
   "metadata": {},
   "outputs": [
    {
     "name": "stdout",
     "output_type": "stream",
     "text": [
      "hello ali ! see you later\n"
     ]
    }
   ],
   "source": [
    "my_Msg = \"keles\"\n",
    "my_pass = \"family\"\n",
    "\n",
    "name = input(\"what is your surname?\")\n",
    "if name == my_Msg :\n",
    "    print(\"hello\", name, \"! your pass is\", my_pass)\n",
    "else:\n",
    "    print(\"hello\", name, \"! see you later\")\n",
    "\n"
   ]
  },
  {
   "cell_type": "code",
   "execution_count": 27,
   "metadata": {},
   "outputs": [
    {
     "name": "stdout",
     "output_type": "stream",
     "text": [
      "[10, 9, 8, 7, 6, 5, 4, 3, 2, 1]\n"
     ]
    }
   ],
   "source": [
    "my_list = []\n",
    "for i in range(1,11) :\n",
    "    my_list.append(i)\n",
    "my_list.sort(reverse = True)\n",
    "print(my_list)\n"
   ]
  },
  {
   "cell_type": "code",
   "execution_count": 70,
   "metadata": {},
   "outputs": [
    {
     "name": "stdout",
     "output_type": "stream",
     "text": [
      "['eggplant', 'spinach', 'leek']\n"
     ]
    }
   ],
   "source": [
    "grocer = [\"banana\", [\"orange\", [\"apple\", \"eggplant\", \"melon\", \"spinach\", \"cheese\", \"leek\" ], \"water\"], \"mandarin\"]\n",
    "\n",
    "print(grocer[1][1][1:6:2])"
   ]
  },
  {
   "cell_type": "code",
   "execution_count": 85,
   "metadata": {},
   "outputs": [
    {
     "name": "stdout",
     "output_type": "stream",
     "text": [
      "My two favorite flowers are tulip and rose, two favorite colors are blue and green.\n"
     ]
    }
   ],
   "source": [
    "flowers = [[\"jasmine\", [\"lavender\", \"rose\"], \"tulip\"]]\n",
    "colors = [\"red\", (\"blue\", [\"yellow\", \"green\"]), \"pink\"]\n",
    "text = \"My two favorite flowers are {} and {}, two favorite colors are {} and {}.\".format(flowers[0][2], flowers[0][1][1], colors[1][0], colors[1][1][1])\n",
    "print(text)"
   ]
  },
  {
   "cell_type": "code",
   "execution_count": 91,
   "metadata": {},
   "outputs": [
    {
     "name": "stdout",
     "output_type": "stream",
     "text": [
      "I am 40 years old. \n",
      "\tI have two children. \n",
      "\t\tData Science is my IT domain.\n"
     ]
    }
   ],
   "source": [
    "#I am 40 years old.\n",
    "#    I have two children.\n",
    "#       Data Science is my IT domain.\n",
    "\n",
    "sentence = \"I am 40 years old. {}I have two children. {}Data Science is my IT domain.\".format(\"\\n\\t\", \"\\n\\t\\t\")\n",
    "print(sentence)\n"
   ]
  },
  {
   "cell_type": "code",
   "execution_count": 99,
   "metadata": {},
   "outputs": [
    {
     "name": "stdout",
     "output_type": "stream",
     "text": [
      "9\n"
     ]
    }
   ],
   "source": [
    "a = 9\n",
    "b = 8\n",
    "max = a\n",
    "if b > max:\n",
    "    max = b\n",
    "print(max)"
   ]
  },
  {
   "cell_type": "code",
   "execution_count": 1,
   "metadata": {},
   "outputs": [
    {
     "ename": "TypeError",
     "evalue": "'zip' object cannot be interpreted as an integer",
     "output_type": "error",
     "traceback": [
      "\u001b[1;31m---------------------------------------------------------------------------\u001b[0m",
      "\u001b[1;31mTypeError\u001b[0m                                 Traceback (most recent call last)",
      "\u001b[1;32m<ipython-input-1-39c06975f8e1>\u001b[0m in \u001b[0;36m<module>\u001b[1;34m\u001b[0m\n\u001b[0;32m      1\u001b[0m \u001b[0mweekdays\u001b[0m \u001b[1;33m=\u001b[0m \u001b[1;33m[\u001b[0m\u001b[1;34m'Monday'\u001b[0m\u001b[1;33m,\u001b[0m \u001b[1;34m'Tuesday'\u001b[0m\u001b[1;33m,\u001b[0m \u001b[1;34m'Wednesday'\u001b[0m\u001b[1;33m,\u001b[0m \u001b[1;34m'Thursday'\u001b[0m\u001b[1;33m,\u001b[0m \u001b[1;34m'Friday'\u001b[0m\u001b[1;33m]\u001b[0m\u001b[1;33m\u001b[0m\u001b[1;33m\u001b[0m\u001b[0m\n\u001b[1;32m----> 2\u001b[1;33m \u001b[1;32mfor\u001b[0m \u001b[0mday\u001b[0m \u001b[1;32min\u001b[0m \u001b[0mrange\u001b[0m\u001b[1;33m(\u001b[0m\u001b[0mzip\u001b[0m\u001b[1;33m(\u001b[0m\u001b[0mweekdays\u001b[0m\u001b[1;33m)\u001b[0m\u001b[1;33m)\u001b[0m \u001b[1;33m:\u001b[0m\u001b[1;33m\u001b[0m\u001b[1;33m\u001b[0m\u001b[0m\n\u001b[0m\u001b[0;32m      3\u001b[0m     \u001b[0mprint\u001b[0m\u001b[1;33m(\u001b[0m\u001b[1;34m\"Day\"\u001b[0m\u001b[1;33m,\u001b[0m \u001b[0mday\u001b[0m\u001b[1;33m+\u001b[0m\u001b[1;36m1\u001b[0m\u001b[1;33m,\u001b[0m \u001b[1;34m\":\"\u001b[0m\u001b[1;33m,\u001b[0m \u001b[0mweekdays\u001b[0m\u001b[1;33m[\u001b[0m\u001b[0mday\u001b[0m\u001b[1;33m]\u001b[0m \u001b[1;33m)\u001b[0m\u001b[1;33m\u001b[0m\u001b[1;33m\u001b[0m\u001b[0m\n",
      "\u001b[1;31mTypeError\u001b[0m: 'zip' object cannot be interpreted as an integer"
     ]
    }
   ],
   "source": [
    "weekdays = ['Monday', 'Tuesday', 'Wednesday', 'Thursday', 'Friday']\n",
    "for day in range(zip(weekdays)) :\n",
    "        print(\"Day\", day+1, \":\", weekdays[day] )\n"
   ]
  },
  {
   "cell_type": "code",
   "execution_count": 113,
   "metadata": {},
   "outputs": [
    {
     "name": "stdout",
     "output_type": "stream",
     "text": [
      "[(1,), (2,), (3,)]\n"
     ]
    }
   ],
   "source": [
    "x = [1, 2, 3]\n",
    "y = [4, 5, 6]\n",
    "zipped = zip(x)\n",
    "print(list(zipped))\n"
   ]
  },
  {
   "cell_type": "code",
   "execution_count": 121,
   "metadata": {
    "tags": []
   },
   "outputs": [
    {
     "name": "stdout",
     "output_type": "stream",
     "text": [
      "This is a spring month\n"
     ]
    }
   ],
   "source": [
    "\n",
    "month = \"July\"\n",
    "spring = \"September, April, January\"\n",
    "autumn = \"March, October, July\"\n",
    "\n",
    "if (month in spring) or (month in autumn):\n",
    "    if month in autumn:\n",
    "        print(\"This is a spring month\")\n",
    "    else:\n",
    "        print(\"This is an autumn month\")\n",
    "else:\n",
    "    print(\"This month is not categorized\")"
   ]
  },
  {
   "cell_type": "code",
   "execution_count": 15,
   "metadata": {
    "tags": []
   },
   "outputs": [
    {
     "name": "stdout",
     "output_type": "stream",
     "text": [
      "0\n",
      "1\n",
      "4\n",
      "9\n",
      "16\n"
     ]
    }
   ],
   "source": [
    "number = int(input('Please enter a number: '))\n",
    "\n",
    "count = 0\n",
    "\n",
    "while count < number:\n",
    "    print(count**2)\n",
    "    count += 1\n",
    "    \n",
    "    \n"
   ]
  },
  {
   "cell_type": "code",
   "execution_count": 14,
   "metadata": {},
   "outputs": [
    {
     "name": "stdout",
     "output_type": "stream",
     "text": [
      "The type of {'section': 5, 'topic': 2} is <class 'dict'>\n",
      "The type of clarusway is <class 'str'>\n",
      "The type of [1, 4] is <class 'list'>\n",
      "The type of 2020 is <class 'int'>\n",
      "The type of 3.14 is <class 'float'>\n",
      "The type of (1+618j) is <class 'complex'>\n",
      "The type of False is <class 'bool'>\n",
      "The type of (10, 20) is <class 'tuple'>\n"
     ]
    }
   ],
   "source": [
    "sample_list = [{\"section\":5, \"topic\":2}, 'clarusway', [1, 4], 2020, 3.14, 1+618j, False, (10, 20)]\n",
    "\n",
    "for i in sample_list:\n",
    "   print (\"The type of\", i, \"is\", type(i))\n"
   ]
  },
  {
   "cell_type": "code",
   "execution_count": 3,
   "metadata": {
    "tags": []
   },
   "outputs": [
    {
     "ename": "ValueError",
     "evalue": "invalid literal for int() with base 10: 'l'",
     "output_type": "error",
     "traceback": [
      "\u001b[1;31m---------------------------------------------------------------------------\u001b[0m",
      "\u001b[1;31mValueError\u001b[0m                                Traceback (most recent call last)",
      "\u001b[1;32m<ipython-input-3-a21aa6b1471e>\u001b[0m in \u001b[0;36m<module>\u001b[1;34m\u001b[0m\n\u001b[0;32m      1\u001b[0m \u001b[1;31m# Python Program For Armstrong Number using While Loop\u001b[0m\u001b[1;33m\u001b[0m\u001b[1;33m\u001b[0m\u001b[1;33m\u001b[0m\u001b[0m\n\u001b[0;32m      2\u001b[0m \u001b[1;33m\u001b[0m\u001b[0m\n\u001b[1;32m----> 3\u001b[1;33m \u001b[0mNumber\u001b[0m \u001b[1;33m=\u001b[0m \u001b[0mint\u001b[0m\u001b[1;33m(\u001b[0m\u001b[0minput\u001b[0m\u001b[1;33m(\u001b[0m\u001b[1;34m\"\\nPlease Enter the Number to Check for Armstrong: \"\u001b[0m\u001b[1;33m)\u001b[0m\u001b[1;33m)\u001b[0m\u001b[1;33m\u001b[0m\u001b[1;33m\u001b[0m\u001b[0m\n\u001b[0m\u001b[0;32m      4\u001b[0m \u001b[1;33m\u001b[0m\u001b[0m\n\u001b[0;32m      5\u001b[0m \u001b[1;31m# Initializing Sum and Number of Digits\u001b[0m\u001b[1;33m\u001b[0m\u001b[1;33m\u001b[0m\u001b[1;33m\u001b[0m\u001b[0m\n",
      "\u001b[1;31mValueError\u001b[0m: invalid literal for int() with base 10: 'l'"
     ]
    }
   ],
   "source": [
    "# Python Program For Armstrong Number using While Loop\n",
    "\n",
    "Number = int(input(\"\\nPlease Enter the Number to Check for Armstrong: \"))\n",
    "\n",
    "# Initializing Sum and Number of Digits\n",
    "Sum = 0\n",
    "Times = 0\n",
    "           \n",
    "# Calculating Number of individual digits\n",
    "Temp = Number\n",
    "while Temp > 0:\n",
    "           Times = Times + 1\n",
    "           Temp = Temp // 10\n",
    "\n",
    "# Finding Armstrong Number\n",
    "Temp = Number\n",
    "while Temp > 0:\n",
    "           Reminder = Temp % 10\n",
    "           Sum = Sum + (Reminder ** Times)\n",
    "           Temp //= 10\n",
    "if Number == Sum:\n",
    "           print(\"\\n %d is Armstrong Number.\\n\" %Number)\n",
    "else:\n",
    "           print(\"\\n %d is Not a Armstrong Number.\\n\" %Number)\n"
   ]
  },
  {
   "cell_type": "code",
   "execution_count": 56,
   "metadata": {},
   "outputs": [
    {
     "name": "stdout",
     "output_type": "stream",
     "text": [
      "27\n",
      "343\n",
      "0\n"
     ]
    }
   ],
   "source": [
    "nn = 370\n",
    "print(int(nn / 100) ** 3) # yüzler basamağı\n",
    "print(int((nn / 10) % 10) ** 3)\n",
    "print(int(nn % 10) ** 3) #birler basamağı"
   ]
  },
  {
   "cell_type": "code",
   "execution_count": 1,
   "metadata": {},
   "outputs": [
    {
     "output_type": "stream",
     "name": "stdout",
     "text": [
      "6161862260911862801\n"
     ]
    }
   ],
   "source": [
    "nn = int(input(\"enter a number\")) # take input from the user\n",
    "i = len(str(nn))\n",
    "yüzler = int(nn / 100) ** i # yüzler basamağı\n",
    "onlar = int((nn / 10) % 10) ** i\n",
    "birler = int(nn % 10) ** i #birler basamağı\n",
    "print(yüzler + onlar + birler)"
   ]
  },
  {
   "cell_type": "code",
   "execution_count": 90,
   "metadata": {},
   "outputs": [
    {
     "name": "stdout",
     "output_type": "stream",
     "text": [
      "1 456 45\n",
      "2 456 4\n",
      "3 456 0\n"
     ]
    }
   ],
   "source": [
    "Number = int(input(\"\\nPlease Enter the Number to Check for Armstrong: \"))\n",
    "\n",
    "# Initializing Sum and Number of Digits\n",
    "Sum = 0\n",
    "Times = 0\n",
    "           \n",
    "# Calculating Number of individual digits\n",
    "Temp = Number\n",
    "while Temp > 0:\n",
    "           Times = Times + 1\n",
    "           Temp = Temp // 10\n",
    "           print(Times, Number, Temp)"
   ]
  },
  {
   "cell_type": "code",
   "execution_count": 89,
   "metadata": {},
   "outputs": [
    {
     "data": {
      "text/plain": [
       "548"
      ]
     },
     "execution_count": 89,
     "metadata": {},
     "output_type": "execute_result"
    }
   ],
   "source": [
    "5487 // 10"
   ]
  },
  {
   "cell_type": "code",
   "execution_count": 92,
   "metadata": {},
   "outputs": [
    {
     "name": "stdout",
     "output_type": "stream",
     "text": [
      "Number of Digits in a Given Number = 3\n"
     ]
    }
   ],
   "source": [
    "# Python Program to Count Number of Digits in a Number using While loop\n",
    "\n",
    "number = int(input(\"Please Enter any Number: \"))\n",
    "count = 0\n",
    "while(number > 0):\n",
    "    number = number // 10\n",
    "    count = count + 1\n",
    "\n",
    "print(\"\\nNumber of Digits in a Given Number = %d\" %count)"
   ]
  },
  {
   "cell_type": "code",
   "execution_count": 113,
   "metadata": {},
   "outputs": [
    {
     "name": "stdout",
     "output_type": "stream",
     "text": [
      "42  marcog  45.5 42\n"
     ]
    }
   ],
   "source": [
    "name = \"marcog\"\n",
    "number = 42\n",
    "no1 = 45.5\n",
    "print (\"%d  %s  %g %d\" % (number, name, no1, number))"
   ]
  },
  {
   "cell_type": "code",
   "execution_count": 7,
   "metadata": {},
   "outputs": [
    {
     "name": "stdout",
     "output_type": "stream",
     "text": [
      "1927890457142960697580636236639 is an Armstrong Number.\n"
     ]
    }
   ],
   "source": [
    "# ARMSTRONG NUMBER\n",
    "\n",
    "while True :\n",
    "    number = input(\"enter a positive number.\")\n",
    "    digits = len(number)\n",
    "    summ = 0\n",
    "    if not number.isdigit() :\n",
    "        print(number, \"is invalid entry. enter numberic value!\")\n",
    "    elif int(number) >= 0 :\n",
    "        for i in range(digits) :\n",
    "            summ = summ + int(number[i]) ** digits\n",
    "        if summ == int(number) :\n",
    "            print(number, \"is an Armstrong Number.\")\n",
    "            break\n",
    "        else :\n",
    "            print(number, \"is not an Armstrong Number.\")\n",
    "            break"
   ]
  },
  {
   "cell_type": "code",
   "execution_count": 2,
   "metadata": {},
   "outputs": [
    {
     "output_type": "stream",
     "name": "stdout",
     "text": [
      "1212 is not  prime number\n"
     ]
    }
   ],
   "source": [
    "# PRIME NUMBER\n",
    "\n",
    "n = int(input(\"enter a number to check if its aprime number\"))\n",
    "count = 0\n",
    "for i in range(1, n+1):\n",
    "    if not n % i :\n",
    "        count += 1\n",
    "if (n == 0) or (n == 1) or (count >= 3):\n",
    "    print(n, \"is not  prime number\")\n",
    "else:\n",
    "    print(n, \"is a prime number\")"
   ]
  },
  {
   "cell_type": "code",
   "execution_count": null,
   "metadata": {},
   "outputs": [],
   "source": []
  }
 ],
 "metadata": {
  "kernelspec": {
   "name": "python394jvsc74a57bd06fae30b75c6de6020889af9669f15d4840c9cab22f6dd170537e846061df4561",
   "display_name": "Python 3.9.4 64-bit"
  },
  "language_info": {
   "codemirror_mode": {
    "name": "ipython",
    "version": 3
   },
   "file_extension": ".py",
   "mimetype": "text/x-python",
   "name": "python",
   "nbconvert_exporter": "python",
   "pygments_lexer": "ipython3",
   "version": "3.9.4"
  },
  "metadata": {
   "interpreter": {
    "hash": "6fae30b75c6de6020889af9669f15d4840c9cab22f6dd170537e846061df4561"
   }
  }
 },
 "nbformat": 4,
 "nbformat_minor": 4
}