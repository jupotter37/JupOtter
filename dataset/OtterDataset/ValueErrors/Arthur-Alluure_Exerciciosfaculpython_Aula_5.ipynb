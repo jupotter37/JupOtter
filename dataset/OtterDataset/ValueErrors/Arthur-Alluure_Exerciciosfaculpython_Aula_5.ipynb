{
  "nbformat": 4,
  "nbformat_minor": 0,
  "metadata": {
    "colab": {
      "provenance": [],
      "authorship_tag": "ABX9TyNsYAvrATQ1CSCxGGl55i/+",
      "include_colab_link": true
    },
    "kernelspec": {
      "name": "python3",
      "display_name": "Python 3"
    },
    "language_info": {
      "name": "python"
    }
  },
  "cells": [
    {
      "cell_type": "markdown",
      "metadata": {
        "id": "view-in-github",
        "colab_type": "text"
      },
      "source": [
        "<a href=\"https://colab.research.google.com/github/Arthur-Alluure/Exerciciosfaculpython/blob/Atualizada/Aula_5.ipynb\" target=\"_parent\"><img src=\"https://colab.research.google.com/assets/colab-badge.svg\" alt=\"Open In Colab\"/></a>"
      ]
    },
    {
      "cell_type": "code",
      "execution_count": null,
      "metadata": {
        "colab": {
          "base_uri": "https://localhost:8080/"
        },
        "id": "LV6j3GVXC8MR",
        "outputId": "3d455161-02d2-4ade-9a70-0fc67b253766"
      },
      "outputs": [
        {
          "output_type": "stream",
          "name": "stdout",
          "text": [
            "| ____________________ |\n",
            "| ____________________ |\n",
            "          MENU\n",
            "| ____________________ |\n",
            "| ____________________ |\n"
          ]
        }
      ],
      "source": [
        "print('|','__'*10,'|')\n",
        "print('|','__'*10,'|')\n",
        "print('          MENU')\n",
        "print('|','__'*10,'|')\n",
        "print('|','__'*10,'|')"
      ]
    },
    {
      "cell_type": "code",
      "source": [
        "def realce():\n",
        "  #chamado de corpo da função, é o que tem dentro dela indentado\n",
        "  print('|','__'*10,'|')\n",
        "  print('|','__'*10,'|')\n",
        "\n",
        "#cada vez que eu chamo o nome da função ele realiza o que esta nela\n",
        "realce()\n",
        "print('         MENU')\n",
        "realce()"
      ],
      "metadata": {
        "colab": {
          "base_uri": "https://localhost:8080/"
        },
        "id": "G6JJBQ6wKsBX",
        "outputId": "d8320fbe-3351-412d-bc76-4413a35da689"
      },
      "execution_count": null,
      "outputs": [
        {
          "output_type": "stream",
          "name": "stdout",
          "text": [
            "| ____________________ |\n",
            "| ____________________ |\n",
            "         MENU\n",
            "| ____________________ |\n",
            "| ____________________ |\n"
          ]
        }
      ]
    },
    {
      "cell_type": "code",
      "source": [
        "def realce(s1) : #criei um paramentro na funcao para adicionar uma coisa\n",
        "  print('|','__'*10,'|')\n",
        "  print('|','__'*10,'|')\n",
        "  print(s1)  #ela vai ser adicionada aqui\n",
        "  print('|','__'*10,'|')\n",
        "  print('|','__'*10,'|')\n",
        "\n",
        "realce('         MENU')  #no programa principal eu atribui dentro dos parentese o que eu quero que seja adicionado no primeiro parametro que eu coloquei"
      ],
      "metadata": {
        "colab": {
          "base_uri": "https://localhost:8080/"
        },
        "id": "BzN-0qEENcAH",
        "outputId": "54a1438c-debf-421e-a78b-8fab014955ba"
      },
      "execution_count": null,
      "outputs": [
        {
          "output_type": "stream",
          "name": "stdout",
          "text": [
            "| ____________________ |\n",
            "| ____________________ |\n",
            "| ____________________ |\n",
            "| ____________________ |\n"
          ]
        }
      ]
    },
    {
      "cell_type": "code",
      "source": [
        "def realce(s1,s2) :\n",
        "  print('|','__'*10,'|')\n",
        "  print('|','__'*10,'|')\n",
        "  print(s1)  #ela vai ser adicionada aqui\n",
        "  print(s2)  #2 coisa a adicionar\n",
        "  print('|','__'*10,'|')\n",
        "  print('|','__'*10,'|')\n",
        "\n",
        "realce('         MENU','teste') #entao observa que no s1 eu passei o 'menu', dei uma vírgula e coloquei o que deveria ser passado para o s2 que foi o 'teste'\n",
        "\n"
      ],
      "metadata": {
        "colab": {
          "base_uri": "https://localhost:8080/"
        },
        "id": "3KoiRxRURQlr",
        "outputId": "ee49d3e2-983d-464d-84a4-033300a98812"
      },
      "execution_count": null,
      "outputs": [
        {
          "output_type": "stream",
          "name": "stdout",
          "text": [
            "| ____________________ |\n",
            "| ____________________ |\n",
            "         MENU\n",
            "teste\n",
            "| ____________________ |\n",
            "| ____________________ |\n"
          ]
        }
      ]
    },
    {
      "cell_type": "code",
      "source": [
        "def subtracao(x,y) : #numero1 vai ser o x, numero2 y\n",
        "  res = x-y\n",
        "  print(res)          #dentro da função eu já posso colocar qual vai ser meu calculo e meu resultado\n",
        "\n",
        "\n",
        "#Programa principal\n",
        "subtracao(5,7)   #entao aqui eu defini que a função subtração vai receber primeiro o 5 no x e o 7 no y, esses valores sobem para a função e ela faz os comandos, diminui x-y e faz o print da res na tela"
      ],
      "metadata": {
        "colab": {
          "base_uri": "https://localhost:8080/"
        },
        "id": "nYpvdiRySFLz",
        "outputId": "56051737-2ea4-4f5c-842a-18ce54a4645f"
      },
      "execution_count": null,
      "outputs": [
        {
          "output_type": "stream",
          "name": "stdout",
          "text": [
            "-2\n"
          ]
        }
      ]
    },
    {
      "cell_type": "code",
      "source": [
        "# é interessante saber que caso eu queira eu posso alterar a ordem dos meus dados forçando a função a receber eles (#a linguagem python permite)\n",
        "\n",
        "def subtracao(x,y) :\n",
        "  res = x-y\n",
        "  print(res)\n",
        "\n",
        "subtracao(y = 7, x = 5) #no conceito inicial o 7 subiria primeiro e depois o 5, mas como eu coloquei Exatamente o nome da mesma variavel, o meu 7 vai subir em y e meu 5 sobe em x. Mas somente pq eu explicitei o nome igualzinho e coloquei a atribuição\n",
        "\n",
        "#porém e recomendado que sempre prorize a ordem de atribuição padrão, use isso somente em casos restritos"
      ],
      "metadata": {
        "colab": {
          "base_uri": "https://localhost:8080/"
        },
        "id": "knvuYLLFS9ii",
        "outputId": "1e228316-ee2b-4e71-91d2-eb7514a65d0d"
      },
      "execution_count": null,
      "outputs": [
        {
          "output_type": "stream",
          "name": "stdout",
          "text": [
            "2\n"
          ]
        }
      ]
    },
    {
      "cell_type": "code",
      "source": [
        "def soma(x,y,z) :\n",
        "  res = x+y+z\n",
        "  print(res)\n",
        "soma(5,6,7,)"
      ],
      "metadata": {
        "colab": {
          "base_uri": "https://localhost:8080/"
        },
        "id": "l3y7zAxAUKCt",
        "outputId": "c7cb977b-c28e-44ba-8769-b99bfe2bbbb2"
      },
      "execution_count": null,
      "outputs": [
        {
          "output_type": "stream",
          "name": "stdout",
          "text": [
            "18\n"
          ]
        }
      ]
    },
    {
      "cell_type": "code",
      "source": [
        "def soma(x=0,y=0,z=0) : #aqui eu estou setando valores para caso não coloquemos todos os parâmetros, eles tenham um valor padrão (0) e sejam opcionais\n",
        "  res = x+y+z\n",
        "  print(res)\n",
        "soma(5,6,7) #passei os 3 parametros normalmente\n",
        "soma(5,6)  #passei apenas os 2 primeiros(x,y) o z ficou de fora(portanto de acordo com o valor que eu dei la em cima ele fica com 0)\n",
        "soma(5)    #passei apenas o 1\n",
        "soma()     #não passei nenhum"
      ],
      "metadata": {
        "colab": {
          "base_uri": "https://localhost:8080/"
        },
        "id": "d1L9BKpnXfm7",
        "outputId": "333d0f51-3df3-4f4f-ee07-0ef50673b6db"
      },
      "execution_count": null,
      "outputs": [
        {
          "output_type": "stream",
          "name": "stdout",
          "text": [
            "18\n",
            "11\n",
            "5\n",
            "0\n"
          ]
        }
      ]
    },
    {
      "cell_type": "code",
      "source": [
        "def borda(palavra):\n",
        "  tam = len(palavra) #aqui eu defini a variavel tamanho atráves da palavra que me passar\n",
        "\n",
        "  if tam: #aqui significa que so vai fazer o print caso o tamanho seja maior que 0\n",
        "    print('+','-'*tam,'+') #multiplico o tracinho pelo tamanho da minha palavra\n",
        "    print('|',palavra,'|')\n",
        "    print('+','-'*tam,'+')\n",
        "\n",
        "\n",
        "borda('Olá, Mundo!')\n",
        "borda('Lógica de Programação e Algoritmos')\n"
      ],
      "metadata": {
        "colab": {
          "base_uri": "https://localhost:8080/"
        },
        "id": "lhRxXThsZq1w",
        "outputId": "b01b6607-b30b-47dd-8519-3f2aa54227b5"
      },
      "execution_count": null,
      "outputs": [
        {
          "output_type": "stream",
          "name": "stdout",
          "text": [
            "+ ----------- +\n",
            "| Olá, Mundo! |\n",
            "+ ----------- +\n",
            "+ ---------------------------------- +\n",
            "| Lógica de Programação e Algoritmos |\n",
            "+ ---------------------------------- +\n"
          ]
        }
      ]
    },
    {
      "cell_type": "code",
      "source": [
        "def repeticao(final,inicial=0,passo=1) :\n",
        "  while (inicial<final) :\n",
        "    inicial+=passo\n",
        "    print(inicial,' ',end='')\n",
        "  print('\\n')\n",
        "repeticao(20,10,2)"
      ],
      "metadata": {
        "colab": {
          "base_uri": "https://localhost:8080/"
        },
        "id": "Gvg9Ie2gcV5U",
        "outputId": "a5c52acf-d746-42bf-c195-467999d0d5e7"
      },
      "execution_count": null,
      "outputs": [
        {
          "output_type": "stream",
          "name": "stdout",
          "text": [
            "\n",
            "\n"
          ]
        }
      ]
    },
    {
      "cell_type": "code",
      "source": [
        "def contador(fim,inicio=0,passo=1) :\n",
        "  for c in range(inicio,fim,passo) :\n",
        "    print('{} '.format(c),end='')\n",
        "  print('\\n')\n",
        "\n",
        "contador(20,10,2)"
      ],
      "metadata": {
        "colab": {
          "base_uri": "https://localhost:8080/"
        },
        "id": "0DzulBOieSEI",
        "outputId": "e39b7f40-8d6b-4eac-c752-dfc777761200"
      },
      "execution_count": null,
      "outputs": [
        {
          "output_type": "stream",
          "name": "stdout",
          "text": [
            "10 12 14 16 18 \n",
            "\n"
          ]
        }
      ]
    },
    {
      "cell_type": "code",
      "source": [
        "def contador(inicio,fim,passo=1) :\n",
        "  for c in range(inicio,fim,passo) :\n",
        "    print('{} '.format(c),end='')\n",
        "  print('\\n')\n",
        "\n",
        "inicial = int(input('Inicio contagem: '))\n",
        "final = int(input('Fim contagem: '))\n",
        "passo = int(input('De quanto em quanto: '))\n",
        "contador(inicial,final,passo)\n"
      ],
      "metadata": {
        "colab": {
          "base_uri": "https://localhost:8080/"
        },
        "id": "1Gm_6XIzNWgn",
        "outputId": "0aebe889-b142-4907-f45d-5d8219be7322"
      },
      "execution_count": null,
      "outputs": [
        {
          "output_type": "stream",
          "name": "stdout",
          "text": [
            "Inicio contagem: 4\n",
            "Fim contagem: 20\n",
            "De quanto em quanto: 3\n",
            "4 7 10 13 16 19 \n",
            "\n"
          ]
        }
      ]
    },
    {
      "cell_type": "code",
      "source": [
        "def maior(v1=0,v2=0,v3=0) :\n",
        "\n",
        "  if (v1 and v2 and v3) :\n",
        "    if (v1>v2) and (v1>v3) :\n",
        "      if(v2>v3) :\n",
        "        print('Ordem crescente: {},{},{}'.format(v3,v2,v1))\n",
        "      else:\n",
        "        print('Ordem crescente: {},{},{}'.format(v2,v3,v1),end='')\n",
        "    elif (v2>v1) and (v2>v3) :\n",
        "      if(v1>v3) :\n",
        "        print('Ordem crescente: {},{},{}'.format(v3,v1,v2))\n",
        "      else:\n",
        "        print('Ordem crescente: {},{},{}'.format(v1,v3,v2))\n",
        "    elif(v3>v1) and (v3>v2) :\n",
        "      if (v1>v2) :\n",
        "        print('Ordem crescente: {},{},{}'.format(v2,v1,v3))\n",
        "      else:\n",
        "        print('Ordem crescente: {},{},{}'.format(v1,v2,v3))\n",
        "\n",
        "x = int(input('Digite o valor 1: '))\n",
        "y = int(input('Digite o valor 1: '))\n",
        "z = int(input('Digite o valor 1: '))\n",
        "maior(x,y,z)"
      ],
      "metadata": {
        "colab": {
          "base_uri": "https://localhost:8080/"
        },
        "id": "-1nz9Mw0eult",
        "outputId": "0a0e8a11-55a1-459d-9b3d-36c237d8af96"
      },
      "execution_count": null,
      "outputs": [
        {
          "output_type": "stream",
          "name": "stdout",
          "text": [
            "Digite o valor 1: 8\n",
            "Digite o valor 1: 1\n",
            "Digite o valor 1: 9\n",
            "Ordem crescente: 1,8,9\n"
          ]
        }
      ]
    },
    {
      "cell_type": "code",
      "source": [
        "def maior(v1=0,v2=0,v3=0) :\n",
        "\n",
        "  if (v1>v2) and (v1>v3) :\n",
        "    if (v2>v3) :\n",
        "      print('Ordem crescente: {},{},{}'.format(v3,v2,v1))\n",
        "    else:\n",
        "      print('Ordem crescente: {},{},{}'.format(v2,v3,v1),end='')\n",
        "  elif (v2>v1) and (v2>v3) :\n",
        "    if(v1>v3) :\n",
        "      print('Ordem crescente: {},{},{}'.format(v3,v1,v2))\n",
        "    else:\n",
        "      print('Ordem crescente: {},{},{}'.format(v1,v3,v2))\n",
        "  elif(v3>v1) and (v3>v2) :\n",
        "    if (v1>v2) :\n",
        "      print('Ordem crescente: {},{},{}'.format(v2,v1,v3))\n",
        "    else:\n",
        "      print('Ordem crescente: {},{},{}'.format(v1,v2,v3))\n",
        "\n",
        "x = int(input('Digite o valor 1: '))\n",
        "y = int(input('Digite o valor 2: '))\n",
        "z = int(input('Digite o valor 3: '))\n",
        "maior(x,y,z)"
      ],
      "metadata": {
        "colab": {
          "base_uri": "https://localhost:8080/"
        },
        "id": "L0b0StHlkuYA",
        "outputId": "f58a036d-b5b0-4912-86bd-46431d5cca43"
      },
      "execution_count": null,
      "outputs": [
        {
          "output_type": "stream",
          "name": "stdout",
          "text": [
            "Digite o valor 1: 8\n",
            "Digite o valor 2: 1\n",
            "Digite o valor 3: 9\n",
            "Ordem crescente: 1,8,9\n"
          ]
        }
      ]
    },
    {
      "cell_type": "code",
      "source": [
        "def comida():\n",
        "  global ovos\n",
        "  ovos = 'comida'\n",
        "  pimenta()\n",
        "\n",
        "def pimenta():\n",
        "  ovos = 'teste'\n",
        "  print(ovos)\n",
        "\n",
        "ovos = 12\n",
        "comida()\n",
        "print(ovos)"
      ],
      "metadata": {
        "colab": {
          "base_uri": "https://localhost:8080/"
        },
        "id": "URUor_th9yoA",
        "outputId": "a849ccdd-2c66-4f49-afd0-5daa127e3390"
      },
      "execution_count": null,
      "outputs": [
        {
          "output_type": "stream",
          "name": "stdout",
          "text": [
            "teste\n",
            "comida\n"
          ]
        }
      ]
    },
    {
      "cell_type": "code",
      "source": [
        "def soma3(x=0,y=0,z=0) :\n",
        "  res = x + y + z\n",
        "  return res    #return vai armazenar o resultado da expressão\n",
        "\n",
        "retornando = soma3(1,2,3) #criei variavel retornando para passar os valores na funão\n",
        "print(retornando)\n"
      ],
      "metadata": {
        "colab": {
          "base_uri": "https://localhost:8080/"
        },
        "id": "6V2T1cwdAhip",
        "outputId": "a15fd164-3959-4a38-c405-3337aebecaf1"
      },
      "execution_count": null,
      "outputs": [
        {
          "output_type": "stream",
          "name": "stdout",
          "text": [
            "6\n"
          ]
        }
      ]
    },
    {
      "cell_type": "code",
      "source": [
        "def parimpar(x) :\n",
        "  if(x%2==0) :\n",
        "    return 'par'\n",
        "  else:\n",
        "    return 'impar' #funcao return recebendo e armezanando o valor que eu vou digitar e vai retornar no programa 'par' ou 'impar'\n",
        "\n",
        "print(parimpar(int(input('Digite um valor inteiro: '))))  #forma simplificada de fazer\n",
        "\n",
        "#numero = int(input('Digite o numero: '))    #forma alternativa\n",
        "#parimpar(numero)"
      ],
      "metadata": {
        "colab": {
          "base_uri": "https://localhost:8080/"
        },
        "id": "7l1tpFAND3l8",
        "outputId": "d8884e80-2629-4ac6-cd19-79bd55ad0721"
      },
      "execution_count": null,
      "outputs": [
        {
          "output_type": "stream",
          "name": "stdout",
          "text": [
            "Digite um valor inteiro: 5\n",
            "impar\n"
          ]
        }
      ]
    },
    {
      "cell_type": "code",
      "source": [
        "def validadado(pergunta,min,max) :\n",
        "  x = int(input(pergunta))\n",
        "  while (x<min) or (x>max) :\n",
        "    x = int(input(pergunta))\n",
        "  return x\n",
        "\n",
        "\n",
        "x = validadado('Digite um valor inteiro: ',0,100)\n",
        "print('Você digitou {}. Encerrando o programa...'.format(x))"
      ],
      "metadata": {
        "colab": {
          "base_uri": "https://localhost:8080/",
          "height": 366
        },
        "id": "J9A-f-HIHKXF",
        "outputId": "184dca0e-3402-4567-9cd8-93a44c7e0ae2"
      },
      "execution_count": null,
      "outputs": [
        {
          "name": "stdout",
          "output_type": "stream",
          "text": [
            "Digite um valor inteiro: ~101\n"
          ]
        },
        {
          "output_type": "error",
          "ename": "ValueError",
          "evalue": "ignored",
          "traceback": [
            "\u001b[0;31m---------------------------------------------------------------------------\u001b[0m",
            "\u001b[0;31mValueError\u001b[0m                                Traceback (most recent call last)",
            "\u001b[0;32m<ipython-input-18-4d2561ed80b9>\u001b[0m in \u001b[0;36m<cell line: 8>\u001b[0;34m()\u001b[0m\n\u001b[1;32m      6\u001b[0m \u001b[0;34m\u001b[0m\u001b[0m\n\u001b[1;32m      7\u001b[0m \u001b[0;34m\u001b[0m\u001b[0m\n\u001b[0;32m----> 8\u001b[0;31m \u001b[0mx\u001b[0m \u001b[0;34m=\u001b[0m \u001b[0mvalidadado\u001b[0m\u001b[0;34m(\u001b[0m\u001b[0;34m'Digite um valor inteiro: '\u001b[0m\u001b[0;34m,\u001b[0m\u001b[0;36m0\u001b[0m\u001b[0;34m,\u001b[0m\u001b[0;36m100\u001b[0m\u001b[0;34m)\u001b[0m\u001b[0;34m\u001b[0m\u001b[0;34m\u001b[0m\u001b[0m\n\u001b[0m\u001b[1;32m      9\u001b[0m \u001b[0mprint\u001b[0m\u001b[0;34m(\u001b[0m\u001b[0;34m'Você digitou {}. Encerrando o programa...'\u001b[0m\u001b[0;34m.\u001b[0m\u001b[0mformat\u001b[0m\u001b[0;34m(\u001b[0m\u001b[0mx\u001b[0m\u001b[0;34m)\u001b[0m\u001b[0;34m)\u001b[0m\u001b[0;34m\u001b[0m\u001b[0;34m\u001b[0m\u001b[0m\n",
            "\u001b[0;32m<ipython-input-18-4d2561ed80b9>\u001b[0m in \u001b[0;36mvalidadado\u001b[0;34m(pergunta, min, max)\u001b[0m\n\u001b[1;32m      1\u001b[0m \u001b[0;32mdef\u001b[0m \u001b[0mvalidadado\u001b[0m\u001b[0;34m(\u001b[0m\u001b[0mpergunta\u001b[0m\u001b[0;34m,\u001b[0m\u001b[0mmin\u001b[0m\u001b[0;34m,\u001b[0m\u001b[0mmax\u001b[0m\u001b[0;34m)\u001b[0m \u001b[0;34m:\u001b[0m\u001b[0;34m\u001b[0m\u001b[0;34m\u001b[0m\u001b[0m\n\u001b[0;32m----> 2\u001b[0;31m   \u001b[0mx\u001b[0m \u001b[0;34m=\u001b[0m \u001b[0mint\u001b[0m\u001b[0;34m(\u001b[0m\u001b[0minput\u001b[0m\u001b[0;34m(\u001b[0m\u001b[0mpergunta\u001b[0m\u001b[0;34m)\u001b[0m\u001b[0;34m)\u001b[0m\u001b[0;34m\u001b[0m\u001b[0;34m\u001b[0m\u001b[0m\n\u001b[0m\u001b[1;32m      3\u001b[0m   \u001b[0;32mwhile\u001b[0m \u001b[0;34m(\u001b[0m\u001b[0mx\u001b[0m\u001b[0;34m<\u001b[0m\u001b[0mmin\u001b[0m\u001b[0;34m)\u001b[0m \u001b[0;32mor\u001b[0m \u001b[0;34m(\u001b[0m\u001b[0mx\u001b[0m\u001b[0;34m>\u001b[0m\u001b[0mmax\u001b[0m\u001b[0;34m)\u001b[0m \u001b[0;34m:\u001b[0m\u001b[0;34m\u001b[0m\u001b[0;34m\u001b[0m\u001b[0m\n\u001b[1;32m      4\u001b[0m     \u001b[0mx\u001b[0m \u001b[0;34m=\u001b[0m \u001b[0mint\u001b[0m\u001b[0;34m(\u001b[0m\u001b[0minput\u001b[0m\u001b[0;34m(\u001b[0m\u001b[0mpergunta\u001b[0m\u001b[0;34m)\u001b[0m\u001b[0;34m)\u001b[0m\u001b[0;34m\u001b[0m\u001b[0;34m\u001b[0m\u001b[0m\n\u001b[1;32m      5\u001b[0m   \u001b[0;32mreturn\u001b[0m \u001b[0mx\u001b[0m\u001b[0;34m\u001b[0m\u001b[0;34m\u001b[0m\u001b[0m\n",
            "\u001b[0;31mValueError\u001b[0m: invalid literal for int() with base 10: '~101'"
          ]
        }
      ]
    },
    {
      "cell_type": "code",
      "source": [
        "def validastring(pergunta,min,max) :\n",
        "  s1 = input(pergunta)        #aqui eu to transformando o valor da pergunta em um input para a variavel s1\n",
        "  tamanho = len(s1) #calculando o tamanho da s1\n",
        "  while (tamanho<min) or (tamanho>max) :\n",
        "    s1 = input(pergunta)  #repito novamente os valores\n",
        "    tamanho = len(s1)\n",
        "  return s1\n",
        "\n",
        "x = validastring('Digite uma string: ',10,30) #aqui eu to passando o primeiro valor para a função no input 'Digite uma string'\n",
        "print('Você digitou a string: {}. \\n Dado válido. Encerrando o programa...'.format(x))\n"
      ],
      "metadata": {
        "colab": {
          "base_uri": "https://localhost:8080/"
        },
        "id": "nSK5MsbQIynp",
        "outputId": "162467c9-4cae-41fd-f51e-3e999302f143"
      },
      "execution_count": null,
      "outputs": [
        {
          "output_type": "stream",
          "name": "stdout",
          "text": [
            "Digite uma string: algoritmos\n",
            "Você digitou a string: algoritmos. \n",
            " Dado válido. Encerrando o programa...\n"
          ]
        }
      ]
    },
    {
      "cell_type": "code",
      "source": [],
      "metadata": {
        "id": "g2Vp7vyOOU55"
      },
      "execution_count": null,
      "outputs": []
    },
    {
      "cell_type": "code",
      "source": [
        "def validaint(pergunta,min,max) :\n",
        "  x = int(input(pergunta))\n",
        "  while (x<min) or (x>max) :\n",
        "    x = int(input(pergunta))\n",
        "  return x\n",
        "\n",
        "def fatorial(num):\n",
        "  fat = 1\n",
        "  if num ==0:\n",
        "    return fat\n",
        "  for i in range(1,num+1,1) :\n",
        "    fat *=i\n",
        "  return fat\n",
        "\n",
        "x = validaint('Digite um valor para calcular o fatorial: ',0,99999)\n",
        "print('{}! = {}'.format(x,fatorial(x)))\n"
      ],
      "metadata": {
        "colab": {
          "base_uri": "https://localhost:8080/"
        },
        "id": "fgVYaajDk6x_",
        "outputId": "aaa0c69d-2632-4e5e-8fa9-9e0f4585f086"
      },
      "execution_count": null,
      "outputs": [
        {
          "output_type": "stream",
          "name": "stdout",
          "text": [
            "Digite um valor para calcular o fatorial: -2\n",
            "Digite um valor para calcular o fatorial: 5\n",
            "5! = 120\n"
          ]
        }
      ]
    },
    {
      "cell_type": "code",
      "source": [
        "def validaint(pergunta,min,max) :\n",
        "  x = int(input(pergunta))\n",
        "  while (x<min) or (x>max) :\n",
        "    x = int(input(pergunta))\n",
        "  return x\n",
        "\n",
        "def somaintervalo(inicio,fim) :\n",
        "  soma = 0\n",
        "  count = inicio\n",
        "  while (count<=fim) :\n",
        "    soma +=count\n",
        "    count +=1\n",
        "  return soma\n",
        "\n",
        "x = validaint('Digite um valor inteiro: ',1,99999)\n",
        "y = validaint('Digite um valor inteiro: ',1,99999)\n",
        "print('Somatorio entre {} e {} é {}.'.format(x,y,somaintervalo(x,y)))\n"
      ],
      "metadata": {
        "colab": {
          "base_uri": "https://localhost:8080/"
        },
        "id": "CYhiDpUWmM8r",
        "outputId": "27c9acc8-553f-4a73-fc93-5cdcc6e4a4b9"
      },
      "execution_count": null,
      "outputs": [
        {
          "output_type": "stream",
          "name": "stdout",
          "text": [
            "Digite um valor inteiro: 5\n",
            "Digite um valor inteiro: 3\n",
            "Somatorio entre 5 e 3 é 0.\n"
          ]
        }
      ]
    },
    {
      "cell_type": "code",
      "source": [
        "while True:\n",
        "  try :\n",
        "    x = int(input('Por favor digite um número: '))\n",
        "    break\n",
        "  except ValueError:\n",
        "    print('Oops! Número inválido. Tente novamente....')\n"
      ],
      "metadata": {
        "colab": {
          "base_uri": "https://localhost:8080/"
        },
        "id": "MWMPeFBms_5K",
        "outputId": "22eeff8f-6e41-4021-d9aa-fc95d291e028"
      },
      "execution_count": null,
      "outputs": [
        {
          "name": "stdout",
          "output_type": "stream",
          "text": [
            "Por favor digite um número: aa\n",
            "Oops! Número inválido. Tente novamente....\n",
            "Por favor digite um número: d\n",
            "Oops! Número inválido. Tente novamente....\n",
            "Por favor digite um número: \n",
            "Oops! Número inválido. Tente novamente....\n",
            "Por favor digite um número: 5\n"
          ]
        }
      ]
    },
    {
      "cell_type": "code",
      "source": [
        "def div() :\n",
        "  try:\n",
        "    num1 = int(input('Digite um número: '))\n",
        "    num1 = int(input('Digite um número: '))\n",
        "    res = num1/num2\n",
        "  except ZeroDivisionError:\n",
        "    print('Oops! Erro de divisão por zero')\n",
        "  except:\n",
        "    print('Algo de errado aconteceu')\n",
        "  else:\n",
        "    return res\n",
        "  finally:\n",
        "    print('Executará sempre')\n",
        "\n",
        "print(div())"
      ],
      "metadata": {
        "colab": {
          "base_uri": "https://localhost:8080/"
        },
        "id": "72CCr317t8T1",
        "outputId": "e3cc775a-1e41-4b0e-f712-e42c828a5ba0"
      },
      "execution_count": 6,
      "outputs": [
        {
          "output_type": "stream",
          "name": "stdout",
          "text": [
            "Digite um número: 2\n",
            "Algo de errado aconteceu\n",
            "Executará sempre\n",
            "None\n"
          ]
        }
      ]
    },
    {
      "cell_type": "code",
      "source": [
        "def validaint(pergunta,min,max) :\n",
        "  x = int(input(pergunta))\n",
        "  while (x<min) or (x>max) :\n",
        "    x = int(input(pergunta))\n",
        "  return x\n",
        "\n",
        "def existearquivo(nomearquivo) :\n",
        "  try :\n",
        "    a = open(nomearquivo,'rt')\n",
        "    a.close()\n",
        "  except FileNotFoundError:\n",
        "    return False\n",
        "  else:\n",
        "    return True\n",
        "\n",
        "def criararquivo(nomearquivo) :\n",
        "  try:\n",
        "    a = open(nomearquivo,'wt+')\n",
        "    a.close()\n",
        "  except:\n",
        "    print('Erro na criação do arquivo')\n",
        "  else:\n",
        "    print('Arquivo {} foi criado'.format(nomearquivo))\n",
        "\n",
        "\n",
        "def cadastraritem(nomearquivo,nomejogo,nomevideogame) :\n",
        "  try:\n",
        "    a = open(nomearquivo,'at')\n",
        "  except:\n",
        "    print('Erro ao abrir arquivo')\n",
        "  else:\n",
        "    a.write('{};{}'.format(nomejogo,nomevideogame))\n",
        "  finally:\n",
        "    a.close()\n",
        "\n",
        "\n",
        "def listar(nomearquivo) :\n",
        "  try:\n",
        "    a = open(nomearquivo,'rt')\n",
        "  except:\n",
        "    print('Falha ao ler arquivo')\n",
        "  else:\n",
        "    print(a.read())\n",
        "  finally:\n",
        "    a.close()\n",
        "\n",
        "\n",
        "\n",
        "\n",
        "arquivo = 'games.txt'\n",
        "if existearquivo(arquivo) :\n",
        "  print('Arquivo localizado no pc')\n",
        "else:\n",
        "  print('Arquivo não encontrado')\n",
        "  criararquivo\n",
        "\n",
        "while True:\n",
        "  print('MENU')\n",
        "  print('1 - item')\n",
        "  print('2 - lista ')\n",
        "  print('3 - sair')\n",
        "\n",
        "  op = validaint('Escolha a opção',1,3)\n",
        "\n",
        "  if op== 1:\n",
        "    print('Opção de cadastrar novo item')\n",
        "    nomejogo = input('Nome do jogo')\n",
        "    videogame = input('Nome do videogame')\n",
        "    cadastraritem(arquivo,nomejogo,videogame)\n",
        "\n",
        "  elif op== 2:\n",
        "    print('Opção de listar')\n",
        "    listar(arquivo)\n",
        "\n",
        "  elif op== 3:\n",
        "    print('Encerrando')\n",
        "    break\n",
        "\n"
      ],
      "metadata": {
        "colab": {
          "base_uri": "https://localhost:8080/"
        },
        "id": "RMFwIlmLoWP9",
        "outputId": "0096fb17-9f25-4b31-95a7-f24ae11c20cf"
      },
      "execution_count": 8,
      "outputs": [
        {
          "output_type": "stream",
          "name": "stdout",
          "text": [
            "Arquivo localizado no pc\n",
            "MENU\n",
            "1 - item\n",
            "2 - lista \n",
            "3 - sair\n",
            "Escolha a opção2\n",
            "Opção de listar\n",
            "mario;sneszelda;n64\n",
            "MENU\n",
            "1 - item\n",
            "2 - lista \n",
            "3 - sair\n",
            "Escolha a opção3\n",
            "Encerrando\n"
          ]
        }
      ]
    }
  ]
}