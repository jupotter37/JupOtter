{
 "cells": [
  {
   "cell_type": "markdown",
   "metadata": {},
   "source": [
    "## Студенты\n",
    "Вам даны три списка (list или set) студентов.\n",
    "\n",
    "learners_french - изучающие французский язык\n",
    "\n",
    "pianists - владеющие игрой на фортепиано\n",
    "\n",
    "swimmers - занимающиеся плаванием\n",
    "\n",
    "Создайте программу, вычисляющую список пловцов-пианистов, не изучающих французский."
   ]
  },
  {
   "cell_type": "code",
   "execution_count": 19,
   "metadata": {},
   "outputs": [
    {
     "name": "stdout",
     "output_type": "stream",
     "text": [
      "{4}\n"
     ]
    }
   ],
   "source": [
    "learners_french = {1, 2, 3}\n",
    "pianists = {3, 4, 5}\n",
    "swimmers = {3, 4, 8}\n",
    "\n",
    "intersection = (pianists.intersection(swimmers)).difference(learners_french)\n",
    "print(intersection)"
   ]
  },
  {
   "cell_type": "markdown",
   "metadata": {},
   "source": [
    "## Уникальные числа\n",
    "Вам даны два списка (list) чисел. Подсчитайте количество уникальных в каждом по отдельности, и количество уникальных среди обоих списков."
   ]
  },
  {
   "cell_type": "code",
   "execution_count": 20,
   "metadata": {},
   "outputs": [
    {
     "name": "stdout",
     "output_type": "stream",
     "text": [
      "3\n",
      "3\n",
      "5\n"
     ]
    }
   ],
   "source": [
    "list1 = [1, 2, 3]\n",
    "list2 = [3, 4, 5]\n",
    "\n",
    "unique1 = set(list1)\n",
    "unique2 = set(list2)\n",
    "\n",
    "print(len(unique1))\n",
    "print(len(unique2))\n",
    "print(len(unique1.union(unique2)))"
   ]
  },
  {
   "cell_type": "markdown",
   "metadata": {},
   "source": [
    "## Уже встречался!\n",
    "Создайте программу, которая считывает поток чисел с клавиатуры (ввели число, нажали Enter, вводят следующее...). При этом при введении нового числа программа должна сообщать, встречалось ли оно раньше."
   ]
  },
  {
   "cell_type": "code",
   "execution_count": 6,
   "metadata": {},
   "outputs": [
    {
     "name": "stdout",
     "output_type": "stream",
     "text": [
      "3\n",
      "Не встречалось ранее\n",
      "4\n",
      "Не встречалось ранее\n",
      "5\n",
      "Не встречалось ранее\n",
      "5\n",
      "Встречалось ранее\n",
      "\n"
     ]
    },
    {
     "ename": "ValueError",
     "evalue": "invalid literal for int() with base 10: ''",
     "output_type": "error",
     "traceback": [
      "\u001b[1;31m---------------------------------------------------------------------------\u001b[0m",
      "\u001b[1;31mValueError\u001b[0m                                Traceback (most recent call last)",
      "\u001b[1;32m<ipython-input-6-5a427d708fa6>\u001b[0m in \u001b[0;36m<module>\u001b[1;34m\u001b[0m\n\u001b[0;32m      2\u001b[0m \u001b[0mnumbers\u001b[0m \u001b[1;33m=\u001b[0m \u001b[0mset\u001b[0m\u001b[1;33m(\u001b[0m\u001b[1;33m)\u001b[0m\u001b[1;33m\u001b[0m\u001b[1;33m\u001b[0m\u001b[0m\n\u001b[0;32m      3\u001b[0m \u001b[1;32mwhile\u001b[0m \u001b[0mnumber\u001b[0m \u001b[1;33m!=\u001b[0m \u001b[1;34m'#'\u001b[0m\u001b[1;33m:\u001b[0m\u001b[1;33m\u001b[0m\u001b[1;33m\u001b[0m\u001b[0m\n\u001b[1;32m----> 4\u001b[1;33m     \u001b[0mnumber\u001b[0m \u001b[1;33m=\u001b[0m \u001b[0mint\u001b[0m\u001b[1;33m(\u001b[0m\u001b[0minput\u001b[0m\u001b[1;33m(\u001b[0m\u001b[1;33m)\u001b[0m\u001b[1;33m)\u001b[0m\u001b[1;33m\u001b[0m\u001b[1;33m\u001b[0m\u001b[0m\n\u001b[0m\u001b[0;32m      5\u001b[0m     \u001b[1;32mif\u001b[0m \u001b[0mnumber\u001b[0m \u001b[1;32min\u001b[0m \u001b[0mnumbers\u001b[0m\u001b[1;33m:\u001b[0m\u001b[1;33m\u001b[0m\u001b[1;33m\u001b[0m\u001b[0m\n\u001b[0;32m      6\u001b[0m         \u001b[0mprint\u001b[0m\u001b[1;33m(\u001b[0m\u001b[1;34m'Встречалось ранее'\u001b[0m\u001b[1;33m)\u001b[0m\u001b[1;33m\u001b[0m\u001b[1;33m\u001b[0m\u001b[0m\n",
      "\u001b[1;31mValueError\u001b[0m: invalid literal for int() with base 10: ''"
     ]
    }
   ],
   "source": [
    "number = 0\n",
    "numbers = set()\n",
    "while number != '#':\n",
    "    number = int(input())\n",
    "    if number in numbers:\n",
    "        print('Встречалось ранее')\n",
    "    else:\n",
    "        numbers.add(number)\n",
    "        print('Не встречалось ранее')"
   ]
  },
  {
   "cell_type": "markdown",
   "metadata": {},
   "source": [
    "## Голосование\n",
    "У каждого первокрусника спросили: \"Какой ваш любимый фильм?\". Ответы записали. Необходимо вывести рейтинг фильмов с количеством голосов за каждый в порядке убывания."
   ]
  },
  {
   "cell_type": "code",
   "execution_count": 18,
   "metadata": {},
   "outputs": [
    {
     "name": "stdout",
     "output_type": "stream",
     "text": [
      "a a s s s s d d d\n",
      "{'s': 4, 'd': 3, 'a': 2}\n"
     ]
    }
   ],
   "source": [
    "answers = input().split()\n",
    "rate = dict()\n",
    "\n",
    "for ans in answers:\n",
    "    if ans in rate.keys():\n",
    "        rate[ans] += 1\n",
    "    else:\n",
    "        rate[ans] = 1\n",
    "\n",
    "rate = {k: rate[k] for k in sorted(rate, key=rate.get, reverse=True)}\n",
    "print(rate)"
   ]
  },
  {
   "cell_type": "markdown",
   "metadata": {},
   "source": [
    "## Частотный анализ слов в тексте\n",
    "Напишите программу, подсчитывающую количество каждого слова в тексте. В тексте присутствует пунктуация. Слова с заглавной и строчной буквы не различать. Итоговый список слов и их количества в тексте выводить в порядке убывания по количеству."
   ]
  },
  {
   "cell_type": "markdown",
   "metadata": {},
   "source": [
    "точка (.), вопросительный знак (?), восклицательный знак (!), многоточие (...), запятая (,), точка с запятой (;), двоеточие (:), тире (-), скобки (круглые) ( ), кавычки (\" \")"
   ]
  },
  {
   "cell_type": "code",
   "execution_count": 12,
   "metadata": {},
   "outputs": [
    {
     "name": "stdout",
     "output_type": "stream",
     "text": [
      "He oppose at thrown desire of no. Announcing impression unaffected day his are unreserved indulgence. Him hard find read are you sang. Parlors visited noisier how explain pleased his see suppose. Do ashamed assured on related offence at equally totally. Use mile her whom they its. Kept hold an want as he bred of. Was dashwood landlord cheerful husbands two. Estate why theirs indeed him polite old settle though she. In as at regard easily narrow roused adieus.   Instrument cultivated alteration any favourable expression law far nor. Both new like tore but year. An from mean on with when sing pain. Oh to as principles devonshire companions unsatiable an delightful. The ourselves suffering the sincerity. Inhabit her manners adapted age certain. Debating offended at branched striking be subjects.   Wise busy past both park when an ye no. Nay likely her length sooner thrown sex lively income. The expense windows adapted sir. Wrong widen drawn ample eat off doors money. Offending belonging promotion provision an be oh consulted ourselves it. Blessing welcomed ladyship she met humoured sir breeding her. Six curiosity day assurance bed necessary. \n",
      "{'an': 5, 'at': 4, 'her': 3, 'as': 3, 'the': 3, 'he': 2, 'thrown': 2, 'no.': 2, 'day': 2, 'his': 2, 'are': 2, 'him': 2, 'on': 2, 'both': 2, 'when': 2, 'oh': 2, 'ourselves': 2, 'adapted': 2, 'be': 2, 'oppose': 1, 'desire': 1, 'of': 1, 'announcing': 1, 'impression': 1, 'unaffected': 1, 'unreserved': 1, 'indulgence.': 1, 'hard': 1, 'find': 1, 'read': 1, 'you': 1, 'sang.': 1, 'parlors': 1, 'visited': 1, 'noisier': 1, 'how': 1, 'explain': 1, 'pleased': 1, 'see': 1, 'suppose.': 1, 'do': 1, 'ashamed': 1, 'assured': 1, 'related': 1, 'offence': 1, 'equally': 1, 'totally.': 1, 'use': 1, 'mile': 1, 'whom': 1, 'they': 1, 'its.': 1, 'kept': 1, 'hold': 1, 'want': 1, 'bred': 1, 'of.': 1, 'was': 1, 'dashwood': 1, 'landlord': 1, 'cheerful': 1, 'husbands': 1, 'two.': 1, 'estate': 1, 'why': 1, 'theirs': 1, 'indeed': 1, 'polite': 1, 'old': 1, 'settle': 1, 'though': 1, 'she.': 1, 'in': 1, 'regard': 1, 'easily': 1, 'narrow': 1, 'roused': 1, 'adieus.': 1, 'instrument': 1, 'cultivated': 1, 'alteration': 1, 'any': 1, 'favourable': 1, 'expression': 1, 'law': 1, 'far': 1, 'nor.': 1, 'new': 1, 'like': 1, 'tore': 1, 'but': 1, 'year.': 1, 'from': 1, 'mean': 1, 'with': 1, 'sing': 1, 'pain.': 1, 'to': 1, 'principles': 1, 'devonshire': 1, 'companions': 1, 'unsatiable': 1, 'delightful.': 1, 'suffering': 1, 'sincerity.': 1, 'inhabit': 1, 'manners': 1, 'age': 1, 'certain.': 1, 'debating': 1, 'offended': 1, 'branched': 1, 'striking': 1, 'subjects.': 1, 'wise': 1, 'busy': 1, 'past': 1, 'park': 1, 'ye': 1, 'nay': 1, 'likely': 1, 'length': 1, 'sooner': 1, 'sex': 1, 'lively': 1, 'income.': 1, 'expense': 1, 'windows': 1, 'sir.': 1, 'wrong': 1, 'widen': 1, 'drawn': 1, 'ample': 1, 'eat': 1, 'off': 1, 'doors': 1, 'money.': 1, 'offending': 1, 'belonging': 1, 'promotion': 1, 'provision': 1, 'consulted': 1, 'it.': 1, 'blessing': 1, 'welcomed': 1, 'ladyship': 1, 'she': 1, 'met': 1, 'humoured': 1, 'sir': 1, 'breeding': 1, 'her.': 1, 'six': 1, 'curiosity': 1, 'assurance': 1, 'bed': 1, 'necessary.': 1}\n"
     ]
    }
   ],
   "source": [
    "text = input()\n",
    "text = text.lower()\n",
    "\n",
    "for el in text:\n",
    "    if ord('z') >= ord(el) >= ord('a'):\n",
    "        text.replace(el, ' ')\n",
    "\n",
    "words = text.split()\n",
    "\n",
    "bag = dict()\n",
    "\n",
    "for word in words:\n",
    "    if word in bag.keys():\n",
    "        bag[word] += 1\n",
    "    else:\n",
    "        bag[word] = 1\n",
    "        \n",
    "bag = {k: bag[k] for k in sorted(bag, key=bag.get, reverse=True)}\n",
    "\n",
    "print(bag)"
   ]
  },
  {
   "cell_type": "markdown",
   "metadata": {},
   "source": [
    "## Генеалогическое древо\n",
    "Заведите словарь d, в котором ключ - имя человека, а значение - список родителей. Напишите функции, которые по имени человека name сообщают о его родственниках.\n",
    "\n",
    "Вот список функций для реализации\n",
    "\n",
    "parents(d, name) - возвращает список родителей\n",
    "\n",
    "grandparents(d, name) - возвращает список бабушек и дедушек\n",
    "\n",
    "sibling(d, name) - возвращает список родных братьев и сестёр\n",
    "\n",
    "children(d, name) - возвращает список детей\n",
    "\n",
    "grandchildren(d, name) - возвращает список внуков и внучек"
   ]
  },
  {
   "cell_type": "code",
   "execution_count": 47,
   "metadata": {},
   "outputs": [],
   "source": [
    "def parents(d, name):\n",
    "    return d[name]\n",
    "\n",
    "\n",
    "def grandparents(d, name):\n",
    "    grandpar = []\n",
    "    for par in parents(d, name):\n",
    "        if par in d.keys():\n",
    "            grandpar += parents(d, par)\n",
    "    return grandpar\n",
    "\n",
    "\n",
    "def find_name(dictionary, value):\n",
    "    \"\"\"\n",
    "        Function to get keys from the dictionary by value\n",
    "        \n",
    "        Input:\n",
    "        \n",
    "        dictionary - dict\n",
    "        value - any type of value in this dict\n",
    "        \n",
    "        Output:\n",
    "\n",
    "        names - finded keys\n",
    "    \"\"\"\n",
    "    names = []\n",
    "    for name, val in dictionary.items():\n",
    "        if val == value:\n",
    "            names.append(name)\n",
    "    return names\n",
    "\n",
    "\n",
    "def sibling(d, name):\n",
    "    par = parents(d, name)\n",
    "    sibl = find_name(d, par)\n",
    "    sibl.remove(name)\n",
    "    return sibl\n",
    "\n",
    "\n",
    "def children(d, name):\n",
    "    chil = []\n",
    "    for key, val in d.items():\n",
    "        if name in val:\n",
    "            chil.append(key)\n",
    "    return chil\n",
    "\n",
    "\n",
    "def grandchildren(d, name):\n",
    "    grandchil = []\n",
    "    chil = children(d, name)\n",
    "    for key, val in d.items():\n",
    "        for c in chil:\n",
    "            if c in val:\n",
    "                grandchil.append(key)\n",
    "    return(grandchil)"
   ]
  },
  {
   "cell_type": "code",
   "execution_count": 51,
   "metadata": {},
   "outputs": [
    {
     "data": {
      "text/plain": [
       "['bob', 'marla']"
      ]
     },
     "execution_count": 51,
     "metadata": {},
     "output_type": "execute_result"
    }
   ],
   "source": [
    "d = {'alex' : ['bob', 'marla'],\n",
    "     'bob' : ['george', 'maria'],\n",
    "     'fred' : ['alex', 'kim'],\n",
    "     'george' : ['alex', 'kim'],\n",
    "     'michael': ['bob', 'marla']}\n",
    "\n",
    "parents(d, 'alex')"
   ]
  }
 ],
 "metadata": {
  "kernelspec": {
   "display_name": "Python 3",
   "language": "python",
   "name": "python3"
  },
  "language_info": {
   "codemirror_mode": {
    "name": "ipython",
    "version": 3
   },
   "file_extension": ".py",
   "mimetype": "text/x-python",
   "name": "python",
   "nbconvert_exporter": "python",
   "pygments_lexer": "ipython3",
   "version": "3.7.5"
  }
 },
 "nbformat": 4,
 "nbformat_minor": 2
}
