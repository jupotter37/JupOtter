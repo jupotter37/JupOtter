{
 "cells": [
  {
   "cell_type": "code",
   "execution_count": 1,
   "id": "fea925e8-107b-4ffc-963a-2e4285132d8b",
   "metadata": {},
   "outputs": [
    {
     "name": "stdout",
     "output_type": "stream",
     "text": [
      "Error:  division by zero\n"
     ]
    }
   ],
   "source": [
    "try :\n",
    "    a = 10/0\n",
    "except ZeroDivisionError as error:\n",
    "    print(\"Error: \", error)"
   ]
  },
  {
   "cell_type": "code",
   "execution_count": 2,
   "id": "ac078681-3f7a-4d81-a472-45f08bece787",
   "metadata": {},
   "outputs": [
    {
     "name": "stdout",
     "output_type": "stream",
     "text": [
      "Error:  invalid literal for int() with base 10: 'Balaji'\n"
     ]
    }
   ],
   "source": [
    "try :\n",
    "    int(\"Balaji\")\n",
    "except (ValueError, TypeError) as error:\n",
    "    print(\"Error: \", error)"
   ]
  },
  {
   "cell_type": "code",
   "execution_count": 3,
   "id": "b9057d06-6de3-474f-b73f-12f732f874ea",
   "metadata": {},
   "outputs": [
    {
     "name": "stdout",
     "output_type": "stream",
     "text": [
      "Error:  unsupported operand type(s) for +: 'int' and 'str'\n"
     ]
    }
   ],
   "source": [
    "try :\n",
    "    100 + \"Balaji\"\n",
    "except TypeError as error:\n",
    "    print(\"Error: \", error)"
   ]
  },
  {
   "cell_type": "code",
   "execution_count": 4,
   "id": "a5e5fcb5-6744-4e90-8276-6a46a3651ad5",
   "metadata": {},
   "outputs": [
    {
     "name": "stdout",
     "output_type": "stream",
     "text": [
      "Error:  list index out of range\n"
     ]
    }
   ],
   "source": [
    "try :\n",
    "    lists = [10, 20, 30, 40]\n",
    "    print(lists[6])\n",
    "except IndexError as error:\n",
    "    print(\"Error: \", error)"
   ]
  },
  {
   "cell_type": "code",
   "execution_count": 6,
   "id": "bc27f783-0fd2-465f-bd92-5ca968dcc0d8",
   "metadata": {},
   "outputs": [
    {
     "name": "stdout",
     "output_type": "stream",
     "text": [
      "Error:  'key_03'\n"
     ]
    }
   ],
   "source": [
    "try :\n",
    "    dictionary = {\"key_01\" : \"Balaji\", \"key_02\" : \"Rahul\"}\n",
    "    print(dictionary[\"key_03\"])\n",
    "except KeyError as error:\n",
    "    print(\"Error: \", error)"
   ]
  },
  {
   "cell_type": "code",
   "execution_count": 7,
   "id": "332fa7e0-36e7-4b89-9fc6-032f9c2b3cff",
   "metadata": {},
   "outputs": [
    {
     "name": "stdout",
     "output_type": "stream",
     "text": [
      "Error:  No module named 'Boat'\n"
     ]
    }
   ],
   "source": [
    "try :\n",
    "    import Boat\n",
    "except ImportError as error:\n",
    "    print(\"Error: \", error)"
   ]
  },
  {
   "cell_type": "code",
   "execution_count": 8,
   "id": "cc15d90b-1bff-4b74-9f01-a05437ad0049",
   "metadata": {},
   "outputs": [
    {
     "name": "stdout",
     "output_type": "stream",
     "text": [
      "Error:  [Errno 2] No such file or directory: 'test_01.txt'\n"
     ]
    }
   ],
   "source": [
    "try :\n",
    "    with open(\"test_01.txt\", \"r\") as file :\n",
    "        print(file.read())\n",
    "except FileNotFoundError as error:\n",
    "    print(\"Error: \", error)"
   ]
  },
  {
   "cell_type": "code",
   "execution_count": 9,
   "id": "ca21ca5f-32dd-40c4-af00-cf7d1333d1f7",
   "metadata": {},
   "outputs": [
    {
     "name": "stdout",
     "output_type": "stream",
     "text": [
      "Error:  'str' object has no attribute 'test'\n"
     ]
    }
   ],
   "source": [
    "try :\n",
    "    \"Balaji\".test()\n",
    "except AttributeError as error:\n",
    "    print(\"Error: \", error)"
   ]
  },
  {
   "cell_type": "code",
   "execution_count": 4,
   "id": "a6f763ef-0d37-4188-8f7d-574fdef0c3de",
   "metadata": {},
   "outputs": [
    {
     "name": "stdout",
     "output_type": "stream",
     "text": [
      "Error:  division by zero\n"
     ]
    }
   ],
   "source": [
    "# Dont's - 01\n",
    "try :\n",
    "    a = 10/0\n",
    "except Exception as error :\n",
    "    print(\"Error: \", error)\n",
    "except ZeroDivisionError as error :\n",
    "    print(\"Error: \", error)"
   ]
  },
  {
   "cell_type": "code",
   "execution_count": 5,
   "id": "4004810d-e0af-4556-b3a1-58a9a4ed4888",
   "metadata": {},
   "outputs": [
    {
     "name": "stdout",
     "output_type": "stream",
     "text": [
      "Error:  division by zero\n"
     ]
    }
   ],
   "source": [
    "# Dont's - 02\n",
    "try :\n",
    "    a = 10/0\n",
    "except FileNotFoundError as error :\n",
    "    print(\"Error: \", error)\n",
    "except AttributeError as error :\n",
    "    print(\"Error: \", error)\n",
    "except ZeroDivisionError as error :\n",
    "    print(\"Error: \", error)"
   ]
  },
  {
   "cell_type": "code",
   "execution_count": 7,
   "id": "fce70092-bcc3-4e4e-88c1-fd4147fe1a0b",
   "metadata": {},
   "outputs": [],
   "source": [
    "# Do's - 01\n",
    "import logging\n",
    "logging.basicConfig(filename = \"error_01.log\", level = logging.ERROR, format = \"%(asctime)s %(name)s %(levelname)s %(message)s\")\n",
    "try :\n",
    "    a = 10/0\n",
    "except ZeroDivisionError as error :\n",
    "    logging.error(\"I am trying to handle the {}\".format(error))"
   ]
  },
  {
   "cell_type": "code",
   "execution_count": 9,
   "id": "03a34d7e-a76d-4e87-936d-5111246c4f0b",
   "metadata": {},
   "outputs": [],
   "source": [
    "# Do's - 02\n",
    "try :\n",
    "    with open (\"text_04.txt\", \"w\") as file :\n",
    "        file.write(\"Hi! Good Evening :)\")\n",
    "except FileNotFoundError as error :\n",
    "    logging.error(\"I am trying to handle the {}\".format(error))\n",
    "else :\n",
    "    file.close()"
   ]
  },
  {
   "cell_type": "code",
   "execution_count": 10,
   "id": "5236c6f4-262e-4770-b02e-a60aef9baf1d",
   "metadata": {},
   "outputs": [],
   "source": [
    "# Do's - 02\n",
    "try :\n",
    "    with open (\"text_05.txt\", \"r\") as file :\n",
    "        print(file.read())\n",
    "except FileNotFoundError as error :\n",
    "    logging.error(\"I am trying to handle the {}\".format(error))"
   ]
  },
  {
   "cell_type": "code",
   "execution_count": null,
   "id": "0ee2eddd-ef31-4343-96e5-1117faa9a07b",
   "metadata": {},
   "outputs": [],
   "source": []
  }
 ],
 "metadata": {
  "kernelspec": {
   "display_name": "Python 3 (ipykernel)",
   "language": "python",
   "name": "python3"
  },
  "language_info": {
   "codemirror_mode": {
    "name": "ipython",
    "version": 3
   },
   "file_extension": ".py",
   "mimetype": "text/x-python",
   "name": "python",
   "nbconvert_exporter": "python",
   "pygments_lexer": "ipython3",
   "version": "3.10.8"
  }
 },
 "nbformat": 4,
 "nbformat_minor": 5
}
