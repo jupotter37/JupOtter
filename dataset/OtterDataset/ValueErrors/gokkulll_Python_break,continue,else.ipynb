{
 "cells": [
  {
   "cell_type": "code",
   "execution_count": 2,
   "id": "4de0077d-3051-4147-a562-d5588c75e172",
   "metadata": {},
   "outputs": [
    {
     "name": "stdin",
     "output_type": "stream",
     "text": [
      "Enter the number 54\n"
     ]
    },
    {
     "name": "stdout",
     "output_type": "stream",
     "text": [
      "positive\n"
     ]
    },
    {
     "name": "stdin",
     "output_type": "stream",
     "text": [
      "Enter the number 3\n"
     ]
    },
    {
     "name": "stdout",
     "output_type": "stream",
     "text": [
      "positive\n"
     ]
    },
    {
     "name": "stdin",
     "output_type": "stream",
     "text": [
      "Enter the number 0\n"
     ]
    }
   ],
   "source": [
    "while True:\n",
    "    n=int(input(\"Enter the number\"))\n",
    "    if n>0:\n",
    "        print(\"positive\")\n",
    "    elif n<0:\n",
    "        print(\"negative\")\n",
    "    else:\n",
    "        break\n",
    "    "
   ]
  },
  {
   "cell_type": "code",
   "execution_count": 1,
   "id": "742d4183-f3b2-4430-9fb9-e7746f2d0554",
   "metadata": {},
   "outputs": [
    {
     "name": "stdout",
     "output_type": "stream",
     "text": [
      "0\n",
      "1\n",
      "2\n",
      "3\n",
      "4\n",
      "5\n"
     ]
    }
   ],
   "source": [
    "count=0\n",
    "while count < 10:\n",
    "    print(count)\n",
    "    count+=1\n",
    "    if count>5:\n",
    "        break\n",
    "\n"
   ]
  },
  {
   "cell_type": "code",
   "execution_count": null,
   "id": "2a9e8894-424b-4453-b0af-e41b6e9aac02",
   "metadata": {},
   "outputs": [],
   "source": []
  },
  {
   "cell_type": "code",
   "execution_count": 14,
   "id": "26a66c44-0d6f-4827-b15d-e39221146e05",
   "metadata": {},
   "outputs": [
    {
     "name": "stdin",
     "output_type": "stream",
     "text": [
      "Enter the number 1\n"
     ]
    },
    {
     "name": "stdout",
     "output_type": "stream",
     "text": [
      "1\n"
     ]
    },
    {
     "name": "stdin",
     "output_type": "stream",
     "text": [
      "Enter the number 2\n"
     ]
    },
    {
     "name": "stdout",
     "output_type": "stream",
     "text": [
      "2\n"
     ]
    },
    {
     "name": "stdin",
     "output_type": "stream",
     "text": [
      "Enter the number 3\n",
      "Enter the number 4\n"
     ]
    },
    {
     "name": "stdout",
     "output_type": "stream",
     "text": [
      "4\n"
     ]
    },
    {
     "name": "stdin",
     "output_type": "stream",
     "text": [
      "Enter the number 5\n"
     ]
    },
    {
     "name": "stdout",
     "output_type": "stream",
     "text": [
      "5\n"
     ]
    },
    {
     "name": "stdin",
     "output_type": "stream",
     "text": [
      "Enter the number 7\n"
     ]
    },
    {
     "name": "stdout",
     "output_type": "stream",
     "text": [
      "7\n"
     ]
    },
    {
     "name": "stdin",
     "output_type": "stream",
     "text": [
      "Enter the number 6\n",
      "Enter the number 89\n"
     ]
    },
    {
     "name": "stdout",
     "output_type": "stream",
     "text": [
      "89\n"
     ]
    },
    {
     "name": "stdin",
     "output_type": "stream",
     "text": [
      "Enter the number fdk\n"
     ]
    },
    {
     "ename": "ValueError",
     "evalue": "invalid literal for int() with base 10: 'fdk'",
     "output_type": "error",
     "traceback": [
      "\u001b[0;31m---------------------------------------------------------------------------\u001b[0m",
      "\u001b[0;31mValueError\u001b[0m                                Traceback (most recent call last)",
      "Cell \u001b[0;32mIn[14], line 3\u001b[0m\n\u001b[1;32m      1\u001b[0m count \u001b[38;5;241m=\u001b[39m \u001b[38;5;241m0\u001b[39m\n\u001b[1;32m      2\u001b[0m \u001b[38;5;28;01mwhile\u001b[39;00m count\u001b[38;5;241m<\u001b[39m\u001b[38;5;241m10\u001b[39m:\n\u001b[0;32m----> 3\u001b[0m     n \u001b[38;5;241m=\u001b[39m \u001b[38;5;28;43mint\u001b[39;49m\u001b[43m(\u001b[49m\u001b[38;5;28;43minput\u001b[39;49m\u001b[43m(\u001b[49m\u001b[38;5;124;43m\"\u001b[39;49m\u001b[38;5;124;43mEnter the number\u001b[39;49m\u001b[38;5;124;43m\"\u001b[39;49m\u001b[43m)\u001b[49m\u001b[43m)\u001b[49m\n\u001b[1;32m      4\u001b[0m     \u001b[38;5;28;01mif\u001b[39;00m n\u001b[38;5;241m%\u001b[39m\u001b[38;5;241m3\u001b[39m\u001b[38;5;241m==\u001b[39m\u001b[38;5;241m0\u001b[39m:\n\u001b[1;32m      5\u001b[0m         \u001b[38;5;28;01mcontinue\u001b[39;00m\n",
      "\u001b[0;31mValueError\u001b[0m: invalid literal for int() with base 10: 'fdk'"
     ]
    }
   ],
   "source": [
    "count = 0\n",
    "while count<10:\n",
    "    n = int(input(\"Enter the number\"))\n",
    "    if n%3==0:\n",
    "        continue\n",
    "    else:\n",
    "      print(n)\n",
    "    count = count + 1\n",
    "    "
   ]
  },
  {
   "cell_type": "code",
   "execution_count": 11,
   "id": "59e8ee7f-9664-45d2-a96c-898700d815b8",
   "metadata": {},
   "outputs": [
    {
     "name": "stdin",
     "output_type": "stream",
     "text": [
      "Enter the number 1\n"
     ]
    },
    {
     "name": "stdout",
     "output_type": "stream",
     "text": [
      "1\n"
     ]
    },
    {
     "name": "stdin",
     "output_type": "stream",
     "text": [
      "Enter the number 2\n"
     ]
    },
    {
     "name": "stdout",
     "output_type": "stream",
     "text": [
      "2\n"
     ]
    },
    {
     "name": "stdin",
     "output_type": "stream",
     "text": [
      "Enter the number 3\n",
      "Enter the number 4\n"
     ]
    },
    {
     "name": "stdout",
     "output_type": "stream",
     "text": [
      "4\n"
     ]
    },
    {
     "name": "stdin",
     "output_type": "stream",
     "text": [
      "Enter the number 5\n"
     ]
    },
    {
     "name": "stdout",
     "output_type": "stream",
     "text": [
      "5\n"
     ]
    },
    {
     "name": "stdin",
     "output_type": "stream",
     "text": [
      "Enter the number 6\n",
      "Enter the number 7\n"
     ]
    },
    {
     "name": "stdout",
     "output_type": "stream",
     "text": [
      "7\n"
     ]
    },
    {
     "name": "stdin",
     "output_type": "stream",
     "text": [
      "Enter the number 8\n"
     ]
    },
    {
     "name": "stdout",
     "output_type": "stream",
     "text": [
      "8\n"
     ]
    },
    {
     "name": "stdin",
     "output_type": "stream",
     "text": [
      "Enter the number 9\n",
      "Enter the number 10\n"
     ]
    },
    {
     "name": "stdout",
     "output_type": "stream",
     "text": [
      "10\n"
     ]
    },
    {
     "name": "stdin",
     "output_type": "stream",
     "text": [
      "Enter the number 11\n"
     ]
    },
    {
     "name": "stdout",
     "output_type": "stream",
     "text": [
      "11\n"
     ]
    },
    {
     "name": "stdin",
     "output_type": "stream",
     "text": [
      "Enter the number 12\n",
      "Enter the number 13\n"
     ]
    },
    {
     "name": "stdout",
     "output_type": "stream",
     "text": [
      "13\n"
     ]
    },
    {
     "name": "stdin",
     "output_type": "stream",
     "text": [
      "Enter the number 14\n"
     ]
    },
    {
     "name": "stdout",
     "output_type": "stream",
     "text": [
      "14\n"
     ]
    }
   ],
   "source": [
    "count = 0\n",
    "while count<10:\n",
    "    n = int(input(\"Enter the number\"))\n",
    "    if n%3==0:\n",
    "        pass\n",
    "    else:\n",
    "        print(n)\n",
    "        count += 1\n",
    "        \n"
   ]
  },
  {
   "cell_type": "code",
   "execution_count": 19,
   "id": "bf7d1867-02ae-4316-b55b-e2909859b4e9",
   "metadata": {},
   "outputs": [
    {
     "name": "stdout",
     "output_type": "stream",
     "text": [
      "hello\n"
     ]
    }
   ],
   "source": [
    "count = 1\n",
    "while count<0:\n",
    "    n = 3\n",
    "    print(n)\n",
    "else:\n",
    "    print(\"hello\")"
   ]
  },
  {
   "cell_type": "code",
   "execution_count": 8,
   "id": "7d5c771c-a617-4fed-9ae3-83ea1329eacc",
   "metadata": {},
   "outputs": [
    {
     "name": "stdout",
     "output_type": "stream",
     "text": [
      "0\n",
      "1\n",
      "2\n",
      "3\n",
      "4\n",
      "5\n"
     ]
    }
   ],
   "source": [
    "count=0\n",
    "while count<10:\n",
    "    print(count)\n",
    "    count += 1\n",
    "    if count>5:\n",
    "        break\n",
    "    \n",
    "else:\n",
    "    print(\"vanakam da mapla\")"
   ]
  },
  {
   "cell_type": "code",
   "execution_count": 9,
   "id": "8cd27f7c-661e-4583-86ac-ab785845f929",
   "metadata": {},
   "outputs": [
    {
     "name": "stdout",
     "output_type": "stream",
     "text": [
      "h\n",
      "e\n",
      "l\n",
      "l\n",
      "o\n"
     ]
    }
   ],
   "source": [
    "msg = \"hello\"\n",
    "for x in msg:\n",
    "    print(x)"
   ]
  },
  {
   "cell_type": "code",
   "execution_count": 10,
   "id": "5eece174-75af-48de-ae08-33b41e3513d8",
   "metadata": {},
   "outputs": [
    {
     "name": "stdout",
     "output_type": "stream",
     "text": [
      "0\n",
      "1\n",
      "2\n",
      "3\n",
      "4\n",
      "5\n",
      "6\n",
      "7\n",
      "8\n",
      "9\n"
     ]
    }
   ],
   "source": [
    "for x in range(10):\n",
    "    print(x)"
   ]
  },
  {
   "cell_type": "code",
   "execution_count": 18,
   "id": "26602ded-bd0b-4177-b145-8ea666ab7310",
   "metadata": {},
   "outputs": [
    {
     "name": "stdin",
     "output_type": "stream",
     "text": [
      "Enter a number 5\n"
     ]
    },
    {
     "name": "stdout",
     "output_type": "stream",
     "text": [
      "5 X 1 = 5\n",
      "5 X 2 = 10\n",
      "5 X 3 = 15\n",
      "5 X 4 = 20\n",
      "5 X 5 = 25\n",
      "5 X 6 = 30\n",
      "5 X 7 = 35\n",
      "5 X 8 = 40\n",
      "5 X 9 = 45\n",
      "5 X 10 = 50\n"
     ]
    }
   ],
   "source": [
    "x = int(input(\"Enter a number\"))\n",
    "count = 1\n",
    "for count in range(1,11):\n",
    "    print(n,'X',count,'=',count*x)"
   ]
  },
  {
   "cell_type": "code",
   "execution_count": 4,
   "id": "38242881-dd9e-448d-b33d-9a5f8f1dac64",
   "metadata": {},
   "outputs": [
    {
     "name": "stdin",
     "output_type": "stream",
     "text": [
      "Enter a number 5\n"
     ]
    },
    {
     "name": "stdout",
     "output_type": "stream",
     "text": [
      "factorial of 5 is 120\n"
     ]
    }
   ],
   "source": [
    "n = int(input(\"Enter a number\"))\n",
    "fact = 1\n",
    "for count in range(1,n+1):\n",
    "    fact  = fact * count\n",
    "print('factorial of', n,'is', fact)"
   ]
  },
  {
   "cell_type": "code",
   "execution_count": 6,
   "id": "27c74ed3-d95c-424a-94cc-61006ff3aa58",
   "metadata": {},
   "outputs": [
    {
     "name": "stdin",
     "output_type": "stream",
     "text": [
      "Enter a number 4\n"
     ]
    },
    {
     "name": "stdout",
     "output_type": "stream",
     "text": [
      "4 X 1 = 4\n",
      "4 X 2 = 8\n",
      "4 X 3 = 12\n",
      "4 X 4 = 16\n",
      "4 X 5 = 20\n",
      "4 X 6 = 24\n",
      "4 X 7 = 28\n",
      "4 X 8 = 32\n",
      "4 X 9 = 36\n",
      "4 X 10 = 40\n"
     ]
    }
   ],
   "source": [
    "x = int(input(\"Enter a number\"))\n",
    "for count in range(1,11):\n",
    "    print(x,\"X\", count,\"=\",count*x)"
   ]
  },
  {
   "cell_type": "code",
   "execution_count": 2,
   "id": "5b00d1f6-a0d5-4854-9d86-ba4d58122d6c",
   "metadata": {},
   "outputs": [
    {
     "name": "stdin",
     "output_type": "stream",
     "text": [
      "Enter the initial value: 4\n",
      "Enter the common diff: 5\n",
      "Enter the no of values: 9\n"
     ]
    },
    {
     "name": "stdout",
     "output_type": "stream",
     "text": [
      "4\n",
      "9\n",
      "14\n",
      "19\n",
      "24\n",
      "29\n",
      "34\n",
      "39\n",
      "44\n"
     ]
    }
   ],
   "source": [
    "a = int(input(\"Enter the initial value:\"))\n",
    "d = int(input(\"Enter the common diff:\"))\n",
    "n = int(input(\"Enter the no of values:\"))\n",
    "for x in range(a,d * n + a,d):\n",
    "    print(x)"
   ]
  },
  {
   "cell_type": "code",
   "execution_count": 4,
   "id": "99392a12-130c-42f1-9643-d00798e33130",
   "metadata": {},
   "outputs": [
    {
     "name": "stdin",
     "output_type": "stream",
     "text": [
      "Enter the no of terms 8\n"
     ]
    },
    {
     "name": "stdout",
     "output_type": "stream",
     "text": [
      "0\n",
      "1\n",
      "1\n",
      "2\n",
      "3\n",
      "5\n",
      "8\n",
      "13\n"
     ]
    }
   ],
   "source": [
    "n = int(input(\"Enter the no of terms\"))\n",
    "a = 0\n",
    "b = 1\n",
    "for i in range(n):\n",
    "    print(a)\n",
    "    c = a+b\n",
    "    a=b\n",
    "    b=c"
   ]
  },
  {
   "cell_type": "code",
   "execution_count": 6,
   "id": "9674e208-8b43-4753-a984-dc6baebf4229",
   "metadata": {},
   "outputs": [
    {
     "name": "stdin",
     "output_type": "stream",
     "text": [
      "Enter the number 12\n"
     ]
    },
    {
     "name": "stdout",
     "output_type": "stream",
     "text": [
      "1\n",
      "2\n",
      "3\n",
      "4\n",
      "6\n",
      "12\n"
     ]
    }
   ],
   "source": [
    "n = int(input(\"Enter the number\"))\n",
    "i=1\n",
    "for i in range(1,n+1):\n",
    "    if n % i== 0:\n",
    "        print(i)\n",
    "        i= i+1"
   ]
  },
  {
   "cell_type": "code",
   "execution_count": 1,
   "id": "5a0ba35e-b269-4280-9024-0238529186f3",
   "metadata": {},
   "outputs": [
    {
     "name": "stdin",
     "output_type": "stream",
     "text": [
      "Enter the number 11\n"
     ]
    },
    {
     "name": "stdout",
     "output_type": "stream",
     "text": [
      "prime number\n"
     ]
    }
   ],
   "source": [
    "n = int(input(\"Enter the number\"))\n",
    "count = 0\n",
    "for i in range(1,n+1):\n",
    "    if n%i==0:\n",
    "        count+=1\n",
    "\n",
    "if count==2:\n",
    "    print(\"prime number\")\n",
    "else:\n",
    "    print(\"not a prime\")"
   ]
  },
  {
   "cell_type": "code",
   "execution_count": 6,
   "id": "480fdcea-d76b-46a7-a646-f99b63250941",
   "metadata": {},
   "outputs": [
    {
     "name": "stdout",
     "output_type": "stream",
     "text": [
      "0\n",
      "1\n",
      "2\n",
      "3\n",
      "4\n",
      "5\n",
      "6\n",
      "7\n",
      "8\n",
      "9\n",
      "10\n",
      "hello\n"
     ]
    }
   ],
   "source": [
    "for i in range(0,11):\n",
    "    if i>12:\n",
    "        break\n",
    "    else:\n",
    "      print(i)\n",
    "\n",
    "else:\n",
    "    print(\"hello\")"
   ]
  },
  {
   "cell_type": "code",
   "execution_count": 1,
   "id": "3f8c0461-2be4-411d-9897-12d48ae8867b",
   "metadata": {},
   "outputs": [
    {
     "name": "stdout",
     "output_type": "stream",
     "text": [
      "0 0\n",
      "0 1\n",
      "0 2\n",
      "0 3\n",
      "0 4\n",
      "0 5\n",
      "1 0\n",
      "1 1\n",
      "1 2\n",
      "1 3\n",
      "1 4\n",
      "1 5\n",
      "2 0\n",
      "2 1\n",
      "2 2\n",
      "2 3\n",
      "2 4\n",
      "2 5\n",
      "3 0\n",
      "3 1\n",
      "3 2\n",
      "3 3\n",
      "3 4\n",
      "3 5\n",
      "4 0\n",
      "4 1\n",
      "4 2\n",
      "4 3\n",
      "4 4\n",
      "4 5\n",
      "5 0\n",
      "5 1\n",
      "5 2\n",
      "5 3\n",
      "5 4\n",
      "5 5\n"
     ]
    }
   ],
   "source": [
    "for x in range(0,6):\n",
    "    for y in range(0,6):\n",
    "        print(x,y)"
   ]
  },
  {
   "cell_type": "code",
   "execution_count": 16,
   "id": "7c1b72f0-fa1b-4e6e-90e5-0bc49e686684",
   "metadata": {},
   "outputs": [
    {
     "name": "stdout",
     "output_type": "stream",
     "text": [
      "\n",
      "* \n",
      "* * \n",
      "* * * \n",
      "* * * * \n"
     ]
    }
   ],
   "source": [
    "for x in range(0,5):\n",
    "    for y in range(0,5):\n",
    "        if x>y:\n",
    "          print('*',end=' ')\n",
    "    print('')"
   ]
  },
  {
   "cell_type": "code",
   "execution_count": 2,
   "id": "231e6d0e-9794-41dc-8dc5-9a5fdb8718dc",
   "metadata": {},
   "outputs": [
    {
     "name": "stdout",
     "output_type": "stream",
     "text": [
      "x a x b x c  \n",
      "y a y b y c  \n",
      "z a z b z c  \n"
     ]
    }
   ],
   "source": [
    "x='xyz'\n",
    "y='abc'\n",
    "for i in x:\n",
    "    for j in y:\n",
    "        print(i,j, end=' ')\n",
    "    print(' ')\n",
    "        "
   ]
  },
  {
   "cell_type": "code",
   "execution_count": 3,
   "id": "8f863fe2-1c71-4c8f-8c63-ec575fc663a0",
   "metadata": {},
   "outputs": [
    {
     "name": "stdout",
     "output_type": "stream",
     "text": [
      "2\n"
     ]
    }
   ],
   "source": [
    "i=2\n",
    "print(i)"
   ]
  },
  {
   "cell_type": "code",
   "execution_count": 9,
   "id": "5dbe9268-3a77-4bb6-ae2b-e461692ad7fd",
   "metadata": {},
   "outputs": [
    {
     "name": "stdout",
     "output_type": "stream",
     "text": [
      "2,3,5,7,11,13,17,19,23,29,31,37,41,43,47,53,59,61,67,71,73,79,83,89,97,"
     ]
    }
   ],
   "source": [
    "for i in range(2,101):\n",
    "    for j in range(2,101):\n",
    "        if i%j==0:\n",
    "            break\n",
    "    if i==j:\n",
    "            print(i,end=',')"
   ]
  },
  {
   "cell_type": "code",
   "execution_count": 15,
   "id": "da76080c-741e-45e3-ae67-bf4a4c8ed517",
   "metadata": {},
   "outputs": [
    {
     "name": "stdout",
     "output_type": "stream",
     "text": [
      "\n",
      "* \n",
      "* * \n",
      "* * * \n",
      "* * * * \n",
      "* * * * * \n"
     ]
    }
   ],
   "source": [
    "for i in range(0,6):\n",
    "    print('* ' *  (i))"
   ]
  },
  {
   "cell_type": "code",
   "execution_count": 14,
   "id": "e3eea372-6d14-4863-a883-f523b274e08c",
   "metadata": {},
   "outputs": [
    {
     "name": "stdout",
     "output_type": "stream",
     "text": [
      "* * * * * * \n",
      "* * * * * \n",
      "* * * * \n",
      "* * * \n",
      "* * \n",
      "* \n"
     ]
    }
   ],
   "source": [
    "for i in range(6,0,-1):\n",
    "    print('* ' * i)"
   ]
  },
  {
   "cell_type": "code",
   "execution_count": 19,
   "id": "7c38c36d-e8b7-41da-b0bb-24e63152f106",
   "metadata": {},
   "outputs": [
    {
     "name": "stdout",
     "output_type": "stream",
     "text": [
      "* \n",
      "* * \n",
      "* * * \n",
      "* * * * \n",
      "* * * * * \n",
      "* * * * * * \n"
     ]
    }
   ],
   "source": [
    "for i in range(0,6):\n",
    "    for j in range(0,6):\n",
    "        if i>=j:\n",
    "         print('* ',end='')\n",
    "    print('')"
   ]
  },
  {
   "cell_type": "code",
   "execution_count": 21,
   "id": "3ca281e2-caad-49ce-803f-060ef851bea0",
   "metadata": {},
   "outputs": [
    {
     "ename": "TypeError",
     "evalue": "can only concatenate str (not \"int\") to str",
     "output_type": "error",
     "traceback": [
      "\u001b[0;31m---------------------------------------------------------------------------\u001b[0m",
      "\u001b[0;31mTypeError\u001b[0m                                 Traceback (most recent call last)",
      "Cell \u001b[0;32mIn[21], line 2\u001b[0m\n\u001b[1;32m      1\u001b[0m \u001b[38;5;28;01mfor\u001b[39;00m i \u001b[38;5;129;01min\u001b[39;00m \u001b[38;5;28mrange\u001b[39m(\u001b[38;5;241m0\u001b[39m,\u001b[38;5;241m6\u001b[39m):\n\u001b[0;32m----> 2\u001b[0m     \u001b[38;5;28mprint\u001b[39m(\u001b[38;5;124;43m'\u001b[39;49m\u001b[38;5;124;43m  *  \u001b[39;49m\u001b[38;5;124;43m'\u001b[39;49m\u001b[38;5;241;43m*\u001b[39;49m\u001b[43m  \u001b[49m\u001b[43mi\u001b[49m\u001b[38;5;241;43m+\u001b[39;49m\u001b[38;5;241;43m1\u001b[39;49m)\n",
      "\u001b[0;31mTypeError\u001b[0m: can only concatenate str (not \"int\") to str"
     ]
    }
   ],
   "source": [
    "for i in range(0,6):\n",
    "    print('  *  '*  i+1)"
   ]
  },
  {
   "cell_type": "code",
   "execution_count": 1,
   "id": "c664cddb-881c-4773-8851-b06281fdcf41",
   "metadata": {},
   "outputs": [
    {
     "name": "stdin",
     "output_type": "stream",
     "text": [
      "Enter the number 4\n"
     ]
    },
    {
     "name": "stdout",
     "output_type": "stream",
     "text": [
      "thursday\n"
     ]
    }
   ],
   "source": [
    "day = int(input(\"Enter the number\"))\n",
    "if day == 1:\n",
    "        print(\"monday\")\n",
    "elif day==2:\n",
    "        print(\"tuesday\")\n",
    "elif day==3:\n",
    "        print(\"wednesday\")\n",
    "    \n",
    "elif day==4:\n",
    "        print(\"thursday\")\n",
    "    \n",
    "elif day==5:\n",
    "        print(\"friday\")\n",
    "    \n",
    "elif day==6:\n",
    "        print(\"saturday\")\n",
    "    \n",
    "else:\n",
    "        print(\"holiday\")"
   ]
  }
 ],
 "metadata": {
  "kernelspec": {
   "display_name": "Python 3 (ipykernel)",
   "language": "python",
   "name": "python3"
  },
  "language_info": {
   "codemirror_mode": {
    "name": "ipython",
    "version": 3
   },
   "file_extension": ".py",
   "mimetype": "text/x-python",
   "name": "python",
   "nbconvert_exporter": "python",
   "pygments_lexer": "ipython3",
   "version": "3.8.10"
  }
 },
 "nbformat": 4,
 "nbformat_minor": 5
}
