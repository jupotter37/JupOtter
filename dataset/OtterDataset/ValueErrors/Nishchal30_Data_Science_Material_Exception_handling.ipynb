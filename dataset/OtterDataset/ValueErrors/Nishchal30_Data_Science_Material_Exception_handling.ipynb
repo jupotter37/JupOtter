{
 "cells": [
  {
   "cell_type": "code",
   "execution_count": 6,
   "metadata": {},
   "outputs": [
    {
     "name": "stdout",
     "output_type": "stream",
     "text": [
      "Enter integer input\n",
      "2.5\n"
     ]
    }
   ],
   "source": [
    "while True:\n",
    "    \n",
    "    try:\n",
    "        a = int(input(\"enter the first number\"))\n",
    "        b = int(input(\"enter the second number\"))\n",
    "        c = a / b\n",
    "        print(c)\n",
    "        break\n",
    "\n",
    "    except ZeroDivisionError: \n",
    "        print(\"Second number should not be zero\")\n",
    "\n",
    "    except ValueError:\n",
    "        print(\"Enter integer input\")"
   ]
  },
  {
   "cell_type": "code",
   "execution_count": 11,
   "metadata": {},
   "outputs": [
    {
     "name": "stdout",
     "output_type": "stream",
     "text": [
      "invalid literal for int() with base 10: 's'\n"
     ]
    }
   ],
   "source": [
    "while True:\n",
    "    \n",
    "    try:\n",
    "        a = int(input(\"enter the first number\"))\n",
    "        b = int(input(\"enter the second number\"))\n",
    "        c = a / b\n",
    "        print(c)\n",
    "        break\n",
    "\n",
    "    except ZeroDivisionError as e: \n",
    "        print(e)\n",
    "        break\n",
    "\n",
    "    except ValueError as e:\n",
    "        print(e)\n",
    "        break"
   ]
  },
  {
   "cell_type": "code",
   "execution_count": 14,
   "metadata": {},
   "outputs": [
    {
     "name": "stdout",
     "output_type": "stream",
     "text": [
      "(<class 'ZeroDivisionError'>, ZeroDivisionError('division by zero'), <traceback object at 0x000001A6E53F45C0>)\n",
      "Division : 0.75\n"
     ]
    }
   ],
   "source": [
    "import sys\n",
    "while True:\n",
    "\n",
    "    try:\n",
    "        a = int(input(\"Enter the first number\"))\n",
    "        b = int(input(\"Enter the second number\"))\n",
    "        c = a / b\n",
    "        print(\"Division :\", c)\n",
    "        break\n",
    "\n",
    "    except:\n",
    "        print(sys.exc_info())"
   ]
  },
  {
   "cell_type": "code",
   "execution_count": 16,
   "metadata": {},
   "outputs": [
    {
     "name": "stdout",
     "output_type": "stream",
     "text": [
      "exception class <class 'ZeroDivisionError'>\n",
      "execption message division by zero\n",
      "exception on line number 7\n"
     ]
    }
   ],
   "source": [
    "import sys\n",
    "while True:\n",
    "\n",
    "    try:\n",
    "        a = int(input(\"Enter the first number\"))\n",
    "        b = int(input(\"Enter the second number\"))\n",
    "        c = a / b\n",
    "        print(\"Division :\", c)\n",
    "        break\n",
    "\n",
    "    except:\n",
    "        print(sys.exc_info())\n",
    "        print(\"exception class\", a)\n",
    "        print(\"execption message\", b)\n",
    "        print(\"exception on line number\", c.tb_lineno)\n",
    "        break"
   ]
  },
  {
   "cell_type": "code",
   "execution_count": 17,
   "metadata": {},
   "outputs": [
    {
     "name": "stdout",
     "output_type": "stream",
     "text": [
      "Traceback (most recent call last):\n",
      "  File \"C:\\Users\\OWNER\\AppData\\Local\\Temp\\ipykernel_6568\\4097586846.py\", line 9, in <module>\n",
      "    c = a / b\n",
      "        ~~^~~\n",
      "ZeroDivisionError: division by zero\n",
      "\n",
      "Traceback (most recent call last):\n",
      "  File \"C:\\Users\\OWNER\\AppData\\Local\\Temp\\ipykernel_6568\\4097586846.py\", line 7, in <module>\n",
      "    a = int(input(\"Enter the first number\"))\n",
      "        ^^^^^^^^^^^^^^^^^^^^^^^^^^^^^^^^^^^^\n",
      "ValueError: invalid literal for int() with base 10: ''\n",
      "\n",
      "Traceback (most recent call last):\n",
      "  File \"C:\\Users\\OWNER\\AppData\\Local\\Temp\\ipykernel_6568\\4097586846.py\", line 7, in <module>\n",
      "    a = int(input(\"Enter the first number\"))\n",
      "        ^^^^^^^^^^^^^^^^^^^^^^^^^^^^^^^^^^^^\n",
      "ValueError: invalid literal for int() with base 10: ''\n",
      "\n",
      "Traceback (most recent call last):\n",
      "  File \"C:\\Users\\OWNER\\AppData\\Local\\Temp\\ipykernel_6568\\4097586846.py\", line 9, in <module>\n",
      "    c = a / b\n",
      "        ~~^~~\n",
      "ZeroDivisionError: division by zero\n",
      "\n",
      "Division : 1.0\n"
     ]
    }
   ],
   "source": [
    "import traceback\n",
    "\n",
    "import sys\n",
    "while True:\n",
    "\n",
    "    try:\n",
    "        a = int(input(\"Enter the first number\"))\n",
    "        b = int(input(\"Enter the second number\"))\n",
    "        c = a / b\n",
    "        print(\"Division :\", c)\n",
    "        break\n",
    "\n",
    "    except:\n",
    "        print(traceback.format_exc())\n",
    "        break"
   ]
  },
  {
   "cell_type": "code",
   "execution_count": 26,
   "metadata": {},
   "outputs": [
    {
     "name": "stdout",
     "output_type": "stream",
     "text": [
      "negative number not allowed\n",
      "Division : 1.0\n"
     ]
    }
   ],
   "source": [
    "while True:\n",
    "\n",
    "    try:\n",
    "        a = int(input(\"enter the first number\"))\n",
    "        b = int(input(\"enter the second number\"))\n",
    "\n",
    "        if a < 0 or b < 0:\n",
    "            raise Exception (\"negative number not allowed\")\n",
    "        \n",
    "        c = a / b\n",
    "        print(\"Division :\", c)\n",
    "        break\n",
    "\n",
    "    except ZeroDivisionError:\n",
    "        print(\"denominator should not be zero\")\n",
    "    \n",
    "    except Exception as e:\n",
    "        print(e)"
   ]
  },
  {
   "cell_type": "code",
   "execution_count": 25,
   "metadata": {},
   "outputs": [
    {
     "name": "stdout",
     "output_type": "stream",
     "text": [
      "negative number not allowed\n",
      "Division : 1.0\n"
     ]
    }
   ],
   "source": [
    "class NegativeNumberException(Exception):\n",
    "    pass\n",
    "\n",
    "while True:\n",
    "\n",
    "    try:\n",
    "        a = int(input(\"enter the first number\"))\n",
    "        b = int(input(\"enter the second number\"))\n",
    "\n",
    "        if a < 0 or b < 0:\n",
    "            raise NegativeNumberException (\"negative number not allowed\")\n",
    "        \n",
    "        c = a / b\n",
    "        print(\"Division :\", c)\n",
    "        break\n",
    "\n",
    "    except ZeroDivisionError:\n",
    "        print(\"denominator should not be zero\")\n",
    "    \n",
    "    except NegativeNumberException as e:\n",
    "        print(e)"
   ]
  },
  {
   "cell_type": "code",
   "execution_count": 1,
   "metadata": {},
   "outputs": [
    {
     "name": "stdout",
     "output_type": "stream",
     "text": [
      "end of try catch block\n"
     ]
    },
    {
     "ename": "ValueError",
     "evalue": "invalid literal for int() with base 10: ''",
     "output_type": "error",
     "traceback": [
      "\u001b[1;31m---------------------------------------------------------------------------\u001b[0m",
      "\u001b[1;31mValueError\u001b[0m                                Traceback (most recent call last)",
      "Cell \u001b[1;32mIn[1], line 7\u001b[0m\n\u001b[0;32m      4\u001b[0m \u001b[39mwhile\u001b[39;00m \u001b[39mTrue\u001b[39;00m:\n\u001b[0;32m      6\u001b[0m     \u001b[39mtry\u001b[39;00m:\n\u001b[1;32m----> 7\u001b[0m         a \u001b[39m=\u001b[39m \u001b[39mint\u001b[39;49m(\u001b[39minput\u001b[39;49m(\u001b[39m\"\u001b[39;49m\u001b[39menter the first number\u001b[39;49m\u001b[39m\"\u001b[39;49m))\n\u001b[0;32m      8\u001b[0m         b \u001b[39m=\u001b[39m \u001b[39mint\u001b[39m(\u001b[39minput\u001b[39m(\u001b[39m\"\u001b[39m\u001b[39menter the second number\u001b[39m\u001b[39m\"\u001b[39m))\n\u001b[0;32m     10\u001b[0m         \u001b[39mif\u001b[39;00m a \u001b[39m<\u001b[39m \u001b[39m0\u001b[39m \u001b[39mor\u001b[39;00m b \u001b[39m<\u001b[39m \u001b[39m0\u001b[39m:\n",
      "\u001b[1;31mValueError\u001b[0m: invalid literal for int() with base 10: ''"
     ]
    }
   ],
   "source": [
    "class NegativeNumberException(Exception):\n",
    "    pass\n",
    "\n",
    "while True:\n",
    "\n",
    "    try:\n",
    "        a = int(input(\"enter the first number\"))\n",
    "        b = int(input(\"enter the second number\"))\n",
    "\n",
    "        if a < 0 or b < 0:\n",
    "            raise NegativeNumberException (\"negative number not allowed\")\n",
    "        \n",
    "        c = a / b\n",
    "        print(\"Division :\", c)\n",
    "        break\n",
    "\n",
    "    except ZeroDivisionError:\n",
    "        print(\"denominator should not be zero\")\n",
    "    \n",
    "    except NegativeNumberException as e:\n",
    "        print(e)\n",
    "\n",
    "    finally:\n",
    "        print(\"end of try catch block\")"
   ]
  },
  {
   "attachments": {},
   "cell_type": "markdown",
   "metadata": {},
   "source": [
    "### In the above peice of code we have used finally block in the last, same as finally there we can use else also.\n",
    "- But the only difference between else and finally is, else cannot be executed when the exception is catched.\n",
    "- But finally block will excecute even after the exception is being catched by the programme."
   ]
  },
  {
   "cell_type": "code",
   "execution_count": null,
   "metadata": {},
   "outputs": [],
   "source": []
  }
 ],
 "metadata": {
  "kernelspec": {
   "display_name": "practise",
   "language": "python",
   "name": "python3"
  },
  "language_info": {
   "codemirror_mode": {
    "name": "ipython",
    "version": 3
   },
   "file_extension": ".py",
   "mimetype": "text/x-python",
   "name": "python",
   "nbconvert_exporter": "python",
   "pygments_lexer": "ipython3",
   "version": "3.11.3"
  },
  "orig_nbformat": 4
 },
 "nbformat": 4,
 "nbformat_minor": 2
}
