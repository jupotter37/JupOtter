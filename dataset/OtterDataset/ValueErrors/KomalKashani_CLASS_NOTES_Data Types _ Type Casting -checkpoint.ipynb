{
 "cells": [
  {
   "cell_type": "code",
   "execution_count": 1,
   "id": "28a2d53d-6aee-4150-a0a1-570da6d149fb",
   "metadata": {
    "tags": []
   },
   "outputs": [
    {
     "data": {
      "text/plain": [
       "97"
      ]
     },
     "execution_count": 1,
     "metadata": {},
     "output_type": "execute_result"
    }
   ],
   "source": [
    "ord('a')"
   ]
  },
  {
   "cell_type": "code",
   "execution_count": 2,
   "id": "56435c31-a0e5-459b-8422-049a3126a0cf",
   "metadata": {
    "tags": []
   },
   "outputs": [
    {
     "data": {
      "text/plain": [
       "'a'"
      ]
     },
     "execution_count": 2,
     "metadata": {},
     "output_type": "execute_result"
    }
   ],
   "source": [
    "chr(97)"
   ]
  },
  {
   "cell_type": "markdown",
   "id": "e67eceae-268b-49fb-8aa9-e9cefbcd4f5e",
   "metadata": {
    "tags": []
   },
   "source": [
    "# Implicit Type Casting`"
   ]
  },
  {
   "cell_type": "code",
   "execution_count": 4,
   "id": "605e5bbc-4245-4113-98f2-02bd1c30eb62",
   "metadata": {
    "tags": []
   },
   "outputs": [],
   "source": [
    "a = 5\n",
    "b =10.0"
   ]
  },
  {
   "cell_type": "code",
   "execution_count": 5,
   "id": "6b866485-8c31-4ea9-a755-b50151eecc44",
   "metadata": {
    "tags": []
   },
   "outputs": [
    {
     "name": "stdout",
     "output_type": "stream",
     "text": [
      "<class 'int'>\n",
      "<class 'float'>\n"
     ]
    }
   ],
   "source": [
    "print(type(a))\n",
    "print(type(b))"
   ]
  },
  {
   "cell_type": "code",
   "execution_count": 7,
   "id": "20522bf7-4067-477b-af4d-1d2fb994709f",
   "metadata": {
    "tags": []
   },
   "outputs": [],
   "source": [
    "c = a + b"
   ]
  },
  {
   "cell_type": "code",
   "execution_count": 8,
   "id": "7553e17d-4d40-4e84-8183-93a44fa53c7e",
   "metadata": {
    "tags": []
   },
   "outputs": [
    {
     "data": {
      "text/plain": [
       "15.0"
      ]
     },
     "execution_count": 8,
     "metadata": {},
     "output_type": "execute_result"
    }
   ],
   "source": [
    "c "
   ]
  },
  {
   "cell_type": "code",
   "execution_count": 9,
   "id": "fde11a8c-586a-4220-8dcb-aaec45520c48",
   "metadata": {
    "tags": []
   },
   "outputs": [
    {
     "data": {
      "text/plain": [
       "float"
      ]
     },
     "execution_count": 9,
     "metadata": {},
     "output_type": "execute_result"
    }
   ],
   "source": [
    "type(c)"
   ]
  },
  {
   "cell_type": "code",
   "execution_count": 10,
   "id": "1cfd6d89-bf15-4042-be16-6764153452f5",
   "metadata": {
    "tags": []
   },
   "outputs": [],
   "source": [
    "e = 15\n",
    "f = True"
   ]
  },
  {
   "cell_type": "code",
   "execution_count": 11,
   "id": "131adba3-3f40-4969-80d9-fabc259f8c7e",
   "metadata": {
    "tags": []
   },
   "outputs": [],
   "source": [
    "g = e+f"
   ]
  },
  {
   "cell_type": "code",
   "execution_count": 12,
   "id": "e5bec09f-2ab7-478b-b499-a724ad9a2b27",
   "metadata": {
    "tags": []
   },
   "outputs": [
    {
     "data": {
      "text/plain": [
       "int"
      ]
     },
     "execution_count": 12,
     "metadata": {},
     "output_type": "execute_result"
    }
   ],
   "source": [
    "type(g)"
   ]
  },
  {
   "cell_type": "code",
   "execution_count": 13,
   "id": "a1e798f1-1239-4696-bfe5-76043c1bc484",
   "metadata": {
    "tags": []
   },
   "outputs": [
    {
     "data": {
      "text/plain": [
       "16"
      ]
     },
     "execution_count": 13,
     "metadata": {},
     "output_type": "execute_result"
    }
   ],
   "source": [
    "g"
   ]
  },
  {
   "cell_type": "code",
   "execution_count": 15,
   "id": "be737a7e-0bda-4c15-8382-92ebb36232ac",
   "metadata": {
    "tags": []
   },
   "outputs": [
    {
     "data": {
      "text/plain": [
       "24"
      ]
     },
     "execution_count": 15,
     "metadata": {},
     "output_type": "execute_result"
    }
   ],
   "source": [
    "import sys\n",
    "\n",
    "sys.getsizeof(b)"
   ]
  },
  {
   "cell_type": "code",
   "execution_count": 16,
   "id": "8ea3540f-9a12-4f8a-805f-0db8ccaf272a",
   "metadata": {
    "tags": []
   },
   "outputs": [
    {
     "data": {
      "text/plain": [
       "28"
      ]
     },
     "execution_count": 16,
     "metadata": {},
     "output_type": "execute_result"
    }
   ],
   "source": [
    "sys.getsizeof(e)"
   ]
  },
  {
   "cell_type": "code",
   "execution_count": 18,
   "id": "ffec433a-8bcb-4ac4-998d-1897aab2aac8",
   "metadata": {
    "tags": []
   },
   "outputs": [
    {
     "ename": "TypeError",
     "evalue": "can only concatenate str (not \"int\") to str",
     "output_type": "error",
     "traceback": [
      "\u001b[0;31m---------------------------------------------------------------------------\u001b[0m",
      "\u001b[0;31mTypeError\u001b[0m                                 Traceback (most recent call last)",
      "Cell \u001b[0;32mIn[18], line 1\u001b[0m\n\u001b[0;32m----> 1\u001b[0m \u001b[38;5;124m'\u001b[39m\u001b[38;5;124mabc\u001b[39m\u001b[38;5;124m'\u001b[39m \u001b[38;5;241m+\u001b[39m \u001b[38;5;241m15\u001b[39m\n",
      "\u001b[0;31mTypeError\u001b[0m: can only concatenate str (not \"int\") to str"
     ]
    }
   ],
   "source": [
    "'abc' + 15"
   ]
  },
  {
   "cell_type": "code",
   "execution_count": 19,
   "id": "f8866433-1850-4f68-8921-aa6649074554",
   "metadata": {
    "tags": []
   },
   "outputs": [
    {
     "ename": "TypeError",
     "evalue": "can only concatenate str (not \"int\") to str",
     "output_type": "error",
     "traceback": [
      "\u001b[0;31m---------------------------------------------------------------------------\u001b[0m",
      "\u001b[0;31mTypeError\u001b[0m                                 Traceback (most recent call last)",
      "Cell \u001b[0;32mIn[19], line 1\u001b[0m\n\u001b[0;32m----> 1\u001b[0m \u001b[38;5;124m'\u001b[39m\u001b[38;5;124m25\u001b[39m\u001b[38;5;124m'\u001b[39m \u001b[38;5;241m+\u001b[39m \u001b[38;5;241m15\u001b[39m\n",
      "\u001b[0;31mTypeError\u001b[0m: can only concatenate str (not \"int\") to str"
     ]
    }
   ],
   "source": [
    "'25' + 15\n",
    "\n",
    "# 40 \n",
    "\n",
    "# 2515"
   ]
  },
  {
   "cell_type": "code",
   "execution_count": 20,
   "id": "582a6baa-3940-478f-a4d8-249175529d49",
   "metadata": {
    "tags": []
   },
   "outputs": [
    {
     "data": {
      "text/plain": [
       "'mayankaggarwal'"
      ]
     },
     "execution_count": 20,
     "metadata": {},
     "output_type": "execute_result"
    }
   ],
   "source": [
    "'mayank' + 'aggarwal'"
   ]
  },
  {
   "cell_type": "code",
   "execution_count": null,
   "id": "1d382b30-84cf-4f20-a80f-173ae9023fec",
   "metadata": {},
   "outputs": [],
   "source": [
    "5 + 15"
   ]
  },
  {
   "cell_type": "code",
   "execution_count": null,
   "id": "208efe29-befa-4289-9a29-b8050dc662af",
   "metadata": {},
   "outputs": [],
   "source": []
  },
  {
   "cell_type": "code",
   "execution_count": null,
   "id": "7f901cbb-003d-47cc-a77d-2b67affaa30d",
   "metadata": {},
   "outputs": [],
   "source": []
  },
  {
   "cell_type": "markdown",
   "id": "aa97c7e9-6b71-488d-aec8-6c3b6dd9210a",
   "metadata": {},
   "source": [
    "# Explicit Type Casting"
   ]
  },
  {
   "cell_type": "code",
   "execution_count": 21,
   "id": "466c1598-4d7e-4231-875e-72ad09062f76",
   "metadata": {
    "tags": []
   },
   "outputs": [
    {
     "data": {
      "text/plain": [
       "0j"
      ]
     },
     "execution_count": 21,
     "metadata": {},
     "output_type": "execute_result"
    }
   ],
   "source": [
    "int()\n",
    "float()\n",
    "str()\n",
    "bool()\n",
    "complex()\n"
   ]
  },
  {
   "cell_type": "code",
   "execution_count": 22,
   "id": "9fe14cc2-7031-4606-b0da-57ce9b432d60",
   "metadata": {
    "tags": []
   },
   "outputs": [
    {
     "ename": "TypeError",
     "evalue": "unsupported operand type(s) for +: 'int' and 'str'",
     "output_type": "error",
     "traceback": [
      "\u001b[0;31m---------------------------------------------------------------------------\u001b[0m",
      "\u001b[0;31mTypeError\u001b[0m                                 Traceback (most recent call last)",
      "Cell \u001b[0;32mIn[22], line 1\u001b[0m\n\u001b[0;32m----> 1\u001b[0m \u001b[38;5;241m5\u001b[39m \u001b[38;5;241m+\u001b[39m \u001b[38;5;124m'\u001b[39m\u001b[38;5;124m6\u001b[39m\u001b[38;5;124m'\u001b[39m\n",
      "\u001b[0;31mTypeError\u001b[0m: unsupported operand type(s) for +: 'int' and 'str'"
     ]
    }
   ],
   "source": [
    "5 + '6'"
   ]
  },
  {
   "cell_type": "code",
   "execution_count": 23,
   "id": "d9d0030f-cea6-4593-b53f-f241c516e6b1",
   "metadata": {
    "tags": []
   },
   "outputs": [
    {
     "data": {
      "text/plain": [
       "11"
      ]
     },
     "execution_count": 23,
     "metadata": {},
     "output_type": "execute_result"
    }
   ],
   "source": [
    "5 + int('6')"
   ]
  },
  {
   "cell_type": "code",
   "execution_count": 24,
   "id": "45b6016e-3676-4ad9-96d6-251dacb615a4",
   "metadata": {
    "tags": []
   },
   "outputs": [
    {
     "data": {
      "text/plain": [
       "'56'"
      ]
     },
     "execution_count": 24,
     "metadata": {},
     "output_type": "execute_result"
    }
   ],
   "source": [
    "str(5) + '6'"
   ]
  },
  {
   "cell_type": "code",
   "execution_count": 25,
   "id": "3a8b57af-07cf-4620-aa29-1c35d5a135e6",
   "metadata": {
    "tags": []
   },
   "outputs": [
    {
     "data": {
      "text/plain": [
       "'5'"
      ]
     },
     "execution_count": 25,
     "metadata": {},
     "output_type": "execute_result"
    }
   ],
   "source": [
    "str(5)"
   ]
  },
  {
   "cell_type": "code",
   "execution_count": null,
   "id": "4e7d3dac-3d6b-472c-a338-a2adfe375bb2",
   "metadata": {},
   "outputs": [],
   "source": []
  },
  {
   "cell_type": "code",
   "execution_count": null,
   "id": "40b2d0fa-abf3-4bdf-90dc-696141f8b31a",
   "metadata": {},
   "outputs": [],
   "source": []
  },
  {
   "cell_type": "markdown",
   "id": "ed91a41d-2252-44cf-a3e2-7dd42b018157",
   "metadata": {},
   "source": [
    "# int"
   ]
  },
  {
   "cell_type": "code",
   "execution_count": 26,
   "id": "be24cd34-83e7-4c72-afda-3985861367e3",
   "metadata": {
    "tags": []
   },
   "outputs": [
    {
     "data": {
      "text/plain": [
       "5"
      ]
     },
     "execution_count": 26,
     "metadata": {},
     "output_type": "execute_result"
    }
   ],
   "source": [
    "int(5)"
   ]
  },
  {
   "cell_type": "code",
   "execution_count": 28,
   "id": "ddb83382-0092-486a-a15f-411bc836d28f",
   "metadata": {
    "tags": []
   },
   "outputs": [
    {
     "data": {
      "text/plain": [
       "7"
      ]
     },
     "execution_count": 28,
     "metadata": {},
     "output_type": "execute_result"
    }
   ],
   "source": [
    "int(7.9)"
   ]
  },
  {
   "cell_type": "code",
   "execution_count": 29,
   "id": "eecb46f8-8cc1-4913-92df-85680bb742df",
   "metadata": {
    "tags": []
   },
   "outputs": [
    {
     "data": {
      "text/plain": [
       "234"
      ]
     },
     "execution_count": 29,
     "metadata": {},
     "output_type": "execute_result"
    }
   ],
   "source": [
    "int('234')"
   ]
  },
  {
   "cell_type": "code",
   "execution_count": 31,
   "id": "1c03f37f-1d56-4cad-978c-88c704ea65c0",
   "metadata": {
    "tags": []
   },
   "outputs": [
    {
     "ename": "ValueError",
     "evalue": "invalid literal for int() with base 10: 'p'",
     "output_type": "error",
     "traceback": [
      "\u001b[0;31m---------------------------------------------------------------------------\u001b[0m",
      "\u001b[0;31mValueError\u001b[0m                                Traceback (most recent call last)",
      "Cell \u001b[0;32mIn[31], line 1\u001b[0m\n\u001b[0;32m----> 1\u001b[0m \u001b[38;5;28mint\u001b[39m(\u001b[38;5;124m'\u001b[39m\u001b[38;5;124mp\u001b[39m\u001b[38;5;124m'\u001b[39m)\n",
      "\u001b[0;31mValueError\u001b[0m: invalid literal for int() with base 10: 'p'"
     ]
    }
   ],
   "source": [
    "int('p')"
   ]
  },
  {
   "cell_type": "code",
   "execution_count": 33,
   "id": "87cd367d-3bdc-472f-9561-a0a1b47b77d9",
   "metadata": {
    "tags": []
   },
   "outputs": [
    {
     "data": {
      "text/plain": [
       "0"
      ]
     },
     "execution_count": 33,
     "metadata": {},
     "output_type": "execute_result"
    }
   ],
   "source": [
    "int(False)"
   ]
  },
  {
   "cell_type": "code",
   "execution_count": 34,
   "id": "9142f25c-50e5-47f8-95ae-485d5a88916b",
   "metadata": {
    "tags": []
   },
   "outputs": [
    {
     "ename": "TypeError",
     "evalue": "int() argument must be a string, a bytes-like object or a real number, not 'complex'",
     "output_type": "error",
     "traceback": [
      "\u001b[0;31m---------------------------------------------------------------------------\u001b[0m",
      "\u001b[0;31mTypeError\u001b[0m                                 Traceback (most recent call last)",
      "Cell \u001b[0;32mIn[34], line 1\u001b[0m\n\u001b[0;32m----> 1\u001b[0m \u001b[38;5;28mint\u001b[39m(\u001b[38;5;241m5\u001b[39m \u001b[38;5;241m+\u001b[39m\u001b[38;5;241m0\u001b[39mj)\n",
      "\u001b[0;31mTypeError\u001b[0m: int() argument must be a string, a bytes-like object or a real number, not 'complex'"
     ]
    }
   ],
   "source": [
    "int(5+0j)"
   ]
  },
  {
   "cell_type": "code",
   "execution_count": 36,
   "id": "0c49dbb6-3f79-4055-9db8-78a6dcbc5412",
   "metadata": {
    "tags": []
   },
   "outputs": [
    {
     "data": {
      "text/plain": [
       "10"
      ]
     },
     "execution_count": 36,
     "metadata": {},
     "output_type": "execute_result"
    }
   ],
   "source": [
    "int('00010')"
   ]
  },
  {
   "cell_type": "code",
   "execution_count": 39,
   "id": "e87aec8b-2af0-4a41-9cd1-fe438e89ad00",
   "metadata": {
    "tags": []
   },
   "outputs": [
    {
     "ename": "ValueError",
     "evalue": "invalid literal for int() with base 10: '26.3363'",
     "output_type": "error",
     "traceback": [
      "\u001b[0;31m---------------------------------------------------------------------------\u001b[0m",
      "\u001b[0;31mValueError\u001b[0m                                Traceback (most recent call last)",
      "Cell \u001b[0;32mIn[39], line 1\u001b[0m\n\u001b[0;32m----> 1\u001b[0m \u001b[38;5;28mint\u001b[39m(\u001b[38;5;124m'\u001b[39m\u001b[38;5;124m26.3363\u001b[39m\u001b[38;5;124m'\u001b[39m)\n",
      "\u001b[0;31mValueError\u001b[0m: invalid literal for int() with base 10: '26.3363'"
     ]
    }
   ],
   "source": [
    "int('26.3363')"
   ]
  },
  {
   "cell_type": "code",
   "execution_count": 40,
   "id": "21cc8484-40ff-4ccb-8ffd-20e0270be93b",
   "metadata": {
    "tags": []
   },
   "outputs": [
    {
     "data": {
      "text/plain": [
       "26"
      ]
     },
     "execution_count": 40,
     "metadata": {},
     "output_type": "execute_result"
    }
   ],
   "source": [
    "int(26.3363)"
   ]
  },
  {
   "cell_type": "code",
   "execution_count": 41,
   "id": "33ee9324-f83c-467a-8e56-f754d6407b67",
   "metadata": {
    "tags": []
   },
   "outputs": [
    {
     "ename": "ValueError",
     "evalue": "invalid literal for int() with base 10: '26.3363'",
     "output_type": "error",
     "traceback": [
      "\u001b[0;31m---------------------------------------------------------------------------\u001b[0m",
      "\u001b[0;31mValueError\u001b[0m                                Traceback (most recent call last)",
      "Cell \u001b[0;32mIn[41], line 1\u001b[0m\n\u001b[0;32m----> 1\u001b[0m \u001b[38;5;28mint\u001b[39m(\u001b[38;5;124m'\u001b[39m\u001b[38;5;124m26.3363\u001b[39m\u001b[38;5;124m'\u001b[39m)\n",
      "\u001b[0;31mValueError\u001b[0m: invalid literal for int() with base 10: '26.3363'"
     ]
    }
   ],
   "source": [
    "int('26.3363')"
   ]
  },
  {
   "cell_type": "code",
   "execution_count": 42,
   "id": "9a955ea7-bedd-4501-acc0-55786f385d46",
   "metadata": {
    "tags": []
   },
   "outputs": [
    {
     "ename": "ValueError",
     "evalue": "invalid literal for int() with base 10: 'False'",
     "output_type": "error",
     "traceback": [
      "\u001b[0;31m---------------------------------------------------------------------------\u001b[0m",
      "\u001b[0;31mValueError\u001b[0m                                Traceback (most recent call last)",
      "Cell \u001b[0;32mIn[42], line 1\u001b[0m\n\u001b[0;32m----> 1\u001b[0m \u001b[38;5;28mint\u001b[39m(\u001b[38;5;124m'\u001b[39m\u001b[38;5;124mFalse\u001b[39m\u001b[38;5;124m'\u001b[39m)\n",
      "\u001b[0;31mValueError\u001b[0m: invalid literal for int() with base 10: 'False'"
     ]
    }
   ],
   "source": [
    "int('False')"
   ]
  },
  {
   "cell_type": "code",
   "execution_count": 43,
   "id": "cb1ccf6e-82d3-44eb-8727-6dd7f9318265",
   "metadata": {
    "tags": []
   },
   "outputs": [
    {
     "data": {
      "text/plain": [
       "0"
      ]
     },
     "execution_count": 43,
     "metadata": {},
     "output_type": "execute_result"
    }
   ],
   "source": [
    "int(False)"
   ]
  },
  {
   "cell_type": "code",
   "execution_count": null,
   "id": "28950749-6341-478a-b006-748446a3ded8",
   "metadata": {},
   "outputs": [],
   "source": []
  },
  {
   "cell_type": "markdown",
   "id": "e4495817-31c1-417c-9752-85f7f27b1057",
   "metadata": {},
   "source": [
    "# Float"
   ]
  },
  {
   "cell_type": "code",
   "execution_count": 44,
   "id": "33865eb4-cdb7-443f-9da4-79c294a49827",
   "metadata": {
    "tags": []
   },
   "outputs": [
    {
     "data": {
      "text/plain": [
       "25.0"
      ]
     },
     "execution_count": 44,
     "metadata": {},
     "output_type": "execute_result"
    }
   ],
   "source": [
    "float(25)"
   ]
  },
  {
   "cell_type": "code",
   "execution_count": 45,
   "id": "676cde7f-5f3a-4cbd-b8cb-94afaebd1798",
   "metadata": {
    "tags": []
   },
   "outputs": [
    {
     "data": {
      "text/plain": [
       "1.0"
      ]
     },
     "execution_count": 45,
     "metadata": {},
     "output_type": "execute_result"
    }
   ],
   "source": [
    "float(True)"
   ]
  },
  {
   "cell_type": "code",
   "execution_count": 46,
   "id": "214981dc-f61b-4dbb-b2d5-39ff6232e9df",
   "metadata": {
    "tags": []
   },
   "outputs": [
    {
     "ename": "TypeError",
     "evalue": "float() argument must be a string or a real number, not 'complex'",
     "output_type": "error",
     "traceback": [
      "\u001b[0;31m---------------------------------------------------------------------------\u001b[0m",
      "\u001b[0;31mTypeError\u001b[0m                                 Traceback (most recent call last)",
      "Cell \u001b[0;32mIn[46], line 1\u001b[0m\n\u001b[0;32m----> 1\u001b[0m \u001b[38;5;28mfloat\u001b[39m(\u001b[38;5;241m5\u001b[39m\u001b[38;5;241m+\u001b[39m\u001b[38;5;241m25\u001b[39mj)\n",
      "\u001b[0;31mTypeError\u001b[0m: float() argument must be a string or a real number, not 'complex'"
     ]
    }
   ],
   "source": [
    "float(5+25j)"
   ]
  },
  {
   "cell_type": "code",
   "execution_count": 47,
   "id": "d6916850-8abc-4530-bf96-80c610aeef8c",
   "metadata": {
    "tags": []
   },
   "outputs": [
    {
     "data": {
      "text/plain": [
       "25.0"
      ]
     },
     "execution_count": 47,
     "metadata": {},
     "output_type": "execute_result"
    }
   ],
   "source": [
    "float('25')"
   ]
  },
  {
   "cell_type": "code",
   "execution_count": 48,
   "id": "b36a7696-73ef-49f1-ab19-7924476f1b79",
   "metadata": {
    "tags": []
   },
   "outputs": [
    {
     "data": {
      "text/plain": [
       "25.64643"
      ]
     },
     "execution_count": 48,
     "metadata": {},
     "output_type": "execute_result"
    }
   ],
   "source": [
    "float('25.64643')"
   ]
  },
  {
   "cell_type": "code",
   "execution_count": 49,
   "id": "8ea5f1b4-f1ef-4c9d-8a6d-5e0ddd9a1abd",
   "metadata": {
    "tags": []
   },
   "outputs": [
    {
     "ename": "ValueError",
     "evalue": "could not convert string to float: 'ten'",
     "output_type": "error",
     "traceback": [
      "\u001b[0;31m---------------------------------------------------------------------------\u001b[0m",
      "\u001b[0;31mValueError\u001b[0m                                Traceback (most recent call last)",
      "Cell \u001b[0;32mIn[49], line 1\u001b[0m\n\u001b[0;32m----> 1\u001b[0m \u001b[38;5;28mfloat\u001b[39m(\u001b[38;5;124m'\u001b[39m\u001b[38;5;124mten\u001b[39m\u001b[38;5;124m'\u001b[39m)\n",
      "\u001b[0;31mValueError\u001b[0m: could not convert string to float: 'ten'"
     ]
    }
   ],
   "source": [
    "float('ten')"
   ]
  },
  {
   "cell_type": "code",
   "execution_count": 52,
   "id": "78f7580f-f153-4513-912b-4a9fdb4f57b1",
   "metadata": {
    "tags": []
   },
   "outputs": [
    {
     "ename": "ValueError",
     "evalue": "could not convert string to float: '0b1010'",
     "output_type": "error",
     "traceback": [
      "\u001b[0;31m---------------------------------------------------------------------------\u001b[0m",
      "\u001b[0;31mValueError\u001b[0m                                Traceback (most recent call last)",
      "Cell \u001b[0;32mIn[52], line 1\u001b[0m\n\u001b[0;32m----> 1\u001b[0m \u001b[38;5;28mfloat\u001b[39m(\u001b[38;5;124m'\u001b[39m\u001b[38;5;124m0b1010\u001b[39m\u001b[38;5;124m'\u001b[39m)\n",
      "\u001b[0;31mValueError\u001b[0m: could not convert string to float: '0b1010'"
     ]
    }
   ],
   "source": [
    "float('0b1010')"
   ]
  },
  {
   "cell_type": "code",
   "execution_count": 53,
   "id": "a6f38f3c-7023-433d-bf85-0ed26c4a37b5",
   "metadata": {
    "tags": []
   },
   "outputs": [
    {
     "data": {
      "text/plain": [
       "20.0"
      ]
     },
     "execution_count": 53,
     "metadata": {},
     "output_type": "execute_result"
    }
   ],
   "source": [
    "float(0b10100)"
   ]
  },
  {
   "cell_type": "code",
   "execution_count": 55,
   "id": "0824aba8-8b9a-4eac-9e71-2cc99e2bded5",
   "metadata": {
    "tags": []
   },
   "outputs": [
    {
     "data": {
      "text/plain": [
       "5"
      ]
     },
     "execution_count": 55,
     "metadata": {},
     "output_type": "execute_result"
    }
   ],
   "source": [
    "# Why int(5.9999) was not working\n",
    "int(5.9999)"
   ]
  },
  {
   "cell_type": "code",
   "execution_count": 56,
   "id": "2285f36a-9b65-432e-a77b-d44d455111ea",
   "metadata": {
    "tags": []
   },
   "outputs": [
    {
     "ename": "ValueError",
     "evalue": "invalid literal for int() with base 10: '5.9999'",
     "output_type": "error",
     "traceback": [
      "\u001b[0;31m---------------------------------------------------------------------------\u001b[0m",
      "\u001b[0;31mValueError\u001b[0m                                Traceback (most recent call last)",
      "Cell \u001b[0;32mIn[56], line 1\u001b[0m\n\u001b[0;32m----> 1\u001b[0m \u001b[38;5;28mint\u001b[39m(\u001b[38;5;124m'\u001b[39m\u001b[38;5;124m5.9999\u001b[39m\u001b[38;5;124m'\u001b[39m)\n",
      "\u001b[0;31mValueError\u001b[0m: invalid literal for int() with base 10: '5.9999'"
     ]
    }
   ],
   "source": [
    "int('5.9999')"
   ]
  },
  {
   "cell_type": "code",
   "execution_count": 57,
   "id": "43c2d072-1dc2-41eb-80f1-f9b74f017a76",
   "metadata": {
    "tags": []
   },
   "outputs": [
    {
     "data": {
      "text/plain": [
       "26"
      ]
     },
     "execution_count": 57,
     "metadata": {},
     "output_type": "execute_result"
    }
   ],
   "source": [
    "int(float('26.66'))"
   ]
  },
  {
   "cell_type": "code",
   "execution_count": 58,
   "id": "52bb3dfc-d262-4b28-af9d-7bf918709ba2",
   "metadata": {
    "tags": []
   },
   "outputs": [
    {
     "data": {
      "text/plain": [
       "10.0"
      ]
     },
     "execution_count": 58,
     "metadata": {},
     "output_type": "execute_result"
    }
   ],
   "source": [
    "# can you explain again float(0b1010) is 20.0 ?\n",
    "\n",
    "float(0b1010)"
   ]
  },
  {
   "cell_type": "code",
   "execution_count": null,
   "id": "db25f568-fdf1-4778-af8f-5840e8390a71",
   "metadata": {},
   "outputs": [],
   "source": []
  },
  {
   "cell_type": "markdown",
   "id": "eb9ba577-777f-4324-a4c9-87f56263ad10",
   "metadata": {},
   "source": [
    "# Complex ()"
   ]
  },
  {
   "cell_type": "code",
   "execution_count": 59,
   "id": "edbbdc74-a780-4aef-a0a0-c133941c08f1",
   "metadata": {
    "tags": []
   },
   "outputs": [
    {
     "data": {
      "text/plain": [
       "(25+0j)"
      ]
     },
     "execution_count": 59,
     "metadata": {},
     "output_type": "execute_result"
    }
   ],
   "source": [
    "complex(25)"
   ]
  },
  {
   "cell_type": "code",
   "execution_count": 60,
   "id": "d2829be9-1c30-42ff-afe5-0d1662d54cd6",
   "metadata": {
    "tags": []
   },
   "outputs": [
    {
     "data": {
      "text/plain": [
       "(1+0j)"
      ]
     },
     "execution_count": 60,
     "metadata": {},
     "output_type": "execute_result"
    }
   ],
   "source": [
    "complex(True)"
   ]
  },
  {
   "cell_type": "code",
   "execution_count": 160,
   "id": "31b4ebd0-0472-41bb-a104-5d00086a8749",
   "metadata": {
    "tags": []
   },
   "outputs": [
    {
     "data": {
      "text/plain": [
       "0j"
      ]
     },
     "execution_count": 160,
     "metadata": {},
     "output_type": "execute_result"
    }
   ],
   "source": [
    "complex(False)"
   ]
  },
  {
   "cell_type": "code",
   "execution_count": 71,
   "id": "b8e29b9c-bb9b-4c89-884d-29ad7b04d4b3",
   "metadata": {
    "tags": []
   },
   "outputs": [
    {
     "data": {
      "text/plain": [
       "(25.64+0j)"
      ]
     },
     "execution_count": 71,
     "metadata": {},
     "output_type": "execute_result"
    }
   ],
   "source": [
    "complex(\"25.64\")"
   ]
  },
  {
   "cell_type": "code",
   "execution_count": 62,
   "id": "f0082a82-73f8-41a0-af7e-9d0999081021",
   "metadata": {
    "tags": []
   },
   "outputs": [
    {
     "ename": "ValueError",
     "evalue": "complex() arg is a malformed string",
     "output_type": "error",
     "traceback": [
      "\u001b[0;31m---------------------------------------------------------------------------\u001b[0m",
      "\u001b[0;31mValueError\u001b[0m                                Traceback (most recent call last)",
      "Cell \u001b[0;32mIn[62], line 1\u001b[0m\n\u001b[0;32m----> 1\u001b[0m \u001b[38;5;28mcomplex\u001b[39m(\u001b[38;5;124m\"\u001b[39m\u001b[38;5;124m25 + 5j\u001b[39m\u001b[38;5;124m\"\u001b[39m)\n",
      "\u001b[0;31mValueError\u001b[0m: complex() arg is a malformed string"
     ]
    }
   ],
   "source": [
    "complex(\"25 + 5j\")"
   ]
  },
  {
   "cell_type": "code",
   "execution_count": 63,
   "id": "e13ada8d-05a4-462c-b7d9-3c195768bccb",
   "metadata": {
    "tags": []
   },
   "outputs": [
    {
     "data": {
      "text/plain": [
       "(25.53+0j)"
      ]
     },
     "execution_count": 63,
     "metadata": {},
     "output_type": "execute_result"
    }
   ],
   "source": [
    "complex(\"25.53\")"
   ]
  },
  {
   "cell_type": "code",
   "execution_count": 65,
   "id": "7ed1fff0-3164-48b1-930a-e9edf1d1b47e",
   "metadata": {
    "tags": []
   },
   "outputs": [
    {
     "ename": "ValueError",
     "evalue": "complex() arg is a malformed string",
     "output_type": "error",
     "traceback": [
      "\u001b[0;31m---------------------------------------------------------------------------\u001b[0m",
      "\u001b[0;31mValueError\u001b[0m                                Traceback (most recent call last)",
      "Cell \u001b[0;32mIn[65], line 1\u001b[0m\n\u001b[0;32m----> 1\u001b[0m \u001b[38;5;28mcomplex\u001b[39m(\u001b[38;5;124m\"\u001b[39m\u001b[38;5;124m25i\u001b[39m\u001b[38;5;124m\"\u001b[39m)\n",
      "\u001b[0;31mValueError\u001b[0m: complex() arg is a malformed string"
     ]
    }
   ],
   "source": [
    "complex(\"25i\")"
   ]
  },
  {
   "cell_type": "code",
   "execution_count": 66,
   "id": "b1b4856f-9cf4-40e7-b521-38a7e0a528c1",
   "metadata": {
    "tags": []
   },
   "outputs": [
    {
     "data": {
      "text/plain": [
       "25j"
      ]
     },
     "execution_count": 66,
     "metadata": {},
     "output_type": "execute_result"
    }
   ],
   "source": [
    "complex(\"25J\")"
   ]
  },
  {
   "cell_type": "code",
   "execution_count": null,
   "id": "f032ee44-a45d-4da5-8ddb-dc539ff86431",
   "metadata": {},
   "outputs": [],
   "source": [
    "\n"
   ]
  },
  {
   "cell_type": "code",
   "execution_count": 67,
   "id": "122c97f6-15e8-4b7e-9733-8e0a84bc0956",
   "metadata": {
    "tags": []
   },
   "outputs": [
    {
     "data": {
      "text/plain": [
       "(25+5j)"
      ]
     },
     "execution_count": 67,
     "metadata": {},
     "output_type": "execute_result"
    }
   ],
   "source": [
    "complex(\"25+5j\")"
   ]
  },
  {
   "cell_type": "code",
   "execution_count": 70,
   "id": "78102773-d798-4ab9-ad5c-5f72a27b3a03",
   "metadata": {
    "tags": []
   },
   "outputs": [
    {
     "data": {
      "text/plain": [
       "(25+5j)"
      ]
     },
     "execution_count": 70,
     "metadata": {},
     "output_type": "execute_result"
    }
   ],
   "source": [
    "complex(\"25+5j\")"
   ]
  },
  {
   "cell_type": "code",
   "execution_count": null,
   "id": "34828b14-17e2-4dcf-991c-cb8dcf2643ac",
   "metadata": {},
   "outputs": [],
   "source": [
    "# int('1.234') - error , float('1.234') - 1.234 pl explain"
   ]
  },
  {
   "cell_type": "markdown",
   "id": "ebd013fe-c299-4276-a745-b1894862fd7e",
   "metadata": {},
   "source": [
    "# Bool"
   ]
  },
  {
   "cell_type": "code",
   "execution_count": 72,
   "id": "13be5f99-56d3-4a5e-a323-d199deaf3c5d",
   "metadata": {
    "tags": []
   },
   "outputs": [
    {
     "data": {
      "text/plain": [
       "True"
      ]
     },
     "execution_count": 72,
     "metadata": {},
     "output_type": "execute_result"
    }
   ],
   "source": [
    "bool(1)"
   ]
  },
  {
   "cell_type": "code",
   "execution_count": 73,
   "id": "0a645f9e-2c64-4b4b-995f-b4427edf0281",
   "metadata": {
    "tags": []
   },
   "outputs": [
    {
     "data": {
      "text/plain": [
       "False"
      ]
     },
     "execution_count": 73,
     "metadata": {},
     "output_type": "execute_result"
    }
   ],
   "source": [
    "bool(0)"
   ]
  },
  {
   "cell_type": "code",
   "execution_count": 78,
   "id": "24e07e6b-77f0-4624-979e-048324be8cc5",
   "metadata": {
    "tags": []
   },
   "outputs": [
    {
     "name": "stdout",
     "output_type": "stream",
     "text": [
      "True\n",
      "True\n",
      "True\n",
      "True\n",
      "True\n",
      "False\n"
     ]
    }
   ],
   "source": [
    "bool(-1)\n",
    "print(bool(-1))\n",
    "print(bool(-2.2))\n",
    "print(bool(2.5))\n",
    "print(bool(-0.5))\n",
    "print(bool(5315351))\n",
    "print(bool(-0))"
   ]
  },
  {
   "cell_type": "code",
   "execution_count": 79,
   "id": "3ffdd32f-a9a0-417f-8c47-4d119bce8899",
   "metadata": {
    "tags": []
   },
   "outputs": [
    {
     "data": {
      "text/plain": [
       "True"
      ]
     },
     "execution_count": 79,
     "metadata": {},
     "output_type": "execute_result"
    }
   ],
   "source": [
    "bool(5j)"
   ]
  },
  {
   "cell_type": "code",
   "execution_count": 80,
   "id": "3d766b4e-a2f4-462b-9af8-c94ad600415b",
   "metadata": {
    "tags": []
   },
   "outputs": [
    {
     "data": {
      "text/plain": [
       "False"
      ]
     },
     "execution_count": 80,
     "metadata": {},
     "output_type": "execute_result"
    }
   ],
   "source": [
    "bool(0+0j)"
   ]
  },
  {
   "cell_type": "code",
   "execution_count": 81,
   "id": "9dc04090-323d-4c8f-bde9-62deac374313",
   "metadata": {
    "tags": []
   },
   "outputs": [
    {
     "data": {
      "text/plain": [
       "False"
      ]
     },
     "execution_count": 81,
     "metadata": {},
     "output_type": "execute_result"
    }
   ],
   "source": [
    "bool(0+0J)"
   ]
  },
  {
   "cell_type": "code",
   "execution_count": 82,
   "id": "b163beb1-a0c1-4c0a-8e30-23142863b313",
   "metadata": {
    "tags": []
   },
   "outputs": [
    {
     "ename": "SyntaxError",
     "evalue": "invalid decimal literal (1359674340.py, line 1)",
     "output_type": "error",
     "traceback": [
      "\u001b[0;36m  Cell \u001b[0;32mIn[82], line 1\u001b[0;36m\u001b[0m\n\u001b[0;31m    bool(0+0i)\u001b[0m\n\u001b[0m           ^\u001b[0m\n\u001b[0;31mSyntaxError\u001b[0m\u001b[0;31m:\u001b[0m invalid decimal literal\n"
     ]
    }
   ],
   "source": [
    "bool(0+0i)"
   ]
  },
  {
   "cell_type": "code",
   "execution_count": 84,
   "id": "1c073b17-a216-45c6-af24-c4aaf0f14cc8",
   "metadata": {
    "tags": []
   },
   "outputs": [
    {
     "data": {
      "text/plain": [
       "True"
      ]
     },
     "execution_count": 84,
     "metadata": {},
     "output_type": "execute_result"
    }
   ],
   "source": [
    "bool(0.25387539)"
   ]
  },
  {
   "cell_type": "code",
   "execution_count": 85,
   "id": "02b58b3f-ce0a-4606-9267-adaa53dfcbb1",
   "metadata": {
    "tags": []
   },
   "outputs": [
    {
     "data": {
      "text/plain": [
       "False"
      ]
     },
     "execution_count": 85,
     "metadata": {},
     "output_type": "execute_result"
    }
   ],
   "source": [
    "bool(0)"
   ]
  },
  {
   "cell_type": "code",
   "execution_count": 86,
   "id": "76b3ce48-ffa0-4b14-827a-06be0e77f49b",
   "metadata": {
    "tags": []
   },
   "outputs": [
    {
     "data": {
      "text/plain": [
       "True"
      ]
     },
     "execution_count": 86,
     "metadata": {},
     "output_type": "execute_result"
    }
   ],
   "source": [
    "bool(.531785713)"
   ]
  },
  {
   "cell_type": "code",
   "execution_count": 87,
   "id": "1a442d46-f6a8-40e1-8376-526c7e36d05b",
   "metadata": {
    "tags": []
   },
   "outputs": [
    {
     "name": "stdout",
     "output_type": "stream",
     "text": [
      "True\n",
      "False\n",
      "True\n",
      "True\n"
     ]
    }
   ],
   "source": [
    "# can you repeat float\n",
    "\n",
    "\n",
    "print(bool(0.5))\n",
    "print(bool(0.0))\n",
    "print(bool(-0.5))\n",
    "print(bool(-0.53155))\n"
   ]
  },
  {
   "cell_type": "code",
   "execution_count": null,
   "id": "d3bd2eb6-9a6c-4372-918f-cd51979d7e3a",
   "metadata": {},
   "outputs": [],
   "source": []
  },
  {
   "cell_type": "code",
   "execution_count": null,
   "id": "1e677b3e-2729-4810-9236-f79d7f0dfe44",
   "metadata": {},
   "outputs": [],
   "source": []
  },
  {
   "cell_type": "code",
   "execution_count": null,
   "id": "d9713b42-53e2-4da4-9a05-a53fe7cbbe84",
   "metadata": {},
   "outputs": [],
   "source": []
  },
  {
   "cell_type": "code",
   "execution_count": 75,
   "id": "fc679fff-be30-44b6-8d33-d6448549c208",
   "metadata": {
    "tags": []
   },
   "outputs": [
    {
     "data": {
      "text/plain": [
       "True"
      ]
     },
     "execution_count": 75,
     "metadata": {},
     "output_type": "execute_result"
    }
   ],
   "source": [
    "bool('True')"
   ]
  },
  {
   "cell_type": "code",
   "execution_count": 76,
   "id": "7b894443-fb8d-4e4b-83b2-93da6e964894",
   "metadata": {
    "tags": []
   },
   "outputs": [
    {
     "data": {
      "text/plain": [
       "True"
      ]
     },
     "execution_count": 76,
     "metadata": {},
     "output_type": "execute_result"
    }
   ],
   "source": [
    "bool('False')"
   ]
  },
  {
   "cell_type": "code",
   "execution_count": null,
   "id": "056b404d-4071-4a6c-a16e-fdb2619ee9a7",
   "metadata": {},
   "outputs": [],
   "source": []
  },
  {
   "cell_type": "code",
   "execution_count": null,
   "id": "c245a88a-39da-4301-8852-99f082999ecc",
   "metadata": {},
   "outputs": [],
   "source": [
    "# sir why bool(5+0j) is not false it has 0j\n",
    "\n",
    "0 + 0j\n",
    "5 + 0j "
   ]
  },
  {
   "cell_type": "code",
   "execution_count": 88,
   "id": "0ddddc99-4869-4dc3-bbd2-af6d31f9b829",
   "metadata": {
    "tags": []
   },
   "outputs": [
    {
     "data": {
      "text/plain": [
       "False"
      ]
     },
     "execution_count": 88,
     "metadata": {},
     "output_type": "execute_result"
    }
   ],
   "source": [
    "bool(0+0j)\n",
    "bool(0.0+0j)\n",
    "bool(0.0+0.0j)"
   ]
  },
  {
   "cell_type": "code",
   "execution_count": null,
   "id": "090b629c-fd96-491e-9aff-f429fb43a0f0",
   "metadata": {},
   "outputs": [],
   "source": [
    "0 == 0.0 == -0"
   ]
  },
  {
   "cell_type": "code",
   "execution_count": 89,
   "id": "859bdf8b-4f88-4a13-8101-40bc55578b4a",
   "metadata": {
    "tags": []
   },
   "outputs": [
    {
     "name": "stdout",
     "output_type": "stream",
     "text": [
      "False\n"
     ]
    }
   ],
   "source": [
    "# print(bool(1-1)) do it internally as it is showing false\n",
    "print(bool(1-1))"
   ]
  },
  {
   "cell_type": "code",
   "execution_count": 92,
   "id": "27d41687-c935-4bf5-8b40-22b98e8018e6",
   "metadata": {
    "tags": []
   },
   "outputs": [
    {
     "data": {
      "text/plain": [
       "True"
      ]
     },
     "execution_count": 92,
     "metadata": {},
     "output_type": "execute_result"
    }
   ],
   "source": [
    "bool(0+2)"
   ]
  },
  {
   "cell_type": "markdown",
   "id": "aca25c78-d8b9-4380-8292-7b885097caa3",
   "metadata": {},
   "source": [
    "# string in bool"
   ]
  },
  {
   "cell_type": "code",
   "execution_count": 93,
   "id": "5c90b236-da74-4e12-ac27-55fcfa02d234",
   "metadata": {
    "tags": []
   },
   "outputs": [
    {
     "data": {
      "text/plain": [
       "True"
      ]
     },
     "execution_count": 93,
     "metadata": {},
     "output_type": "execute_result"
    }
   ],
   "source": [
    "bool('False')"
   ]
  },
  {
   "cell_type": "code",
   "execution_count": 94,
   "id": "23af2793-bdf9-465c-b279-d8bb6897f8c1",
   "metadata": {
    "tags": []
   },
   "outputs": [
    {
     "data": {
      "text/plain": [
       "True"
      ]
     },
     "execution_count": 94,
     "metadata": {},
     "output_type": "execute_result"
    }
   ],
   "source": [
    "bool(\"false\")"
   ]
  },
  {
   "cell_type": "code",
   "execution_count": 95,
   "id": "e417a5be-224e-452d-baf3-2edfbedf295b",
   "metadata": {
    "tags": []
   },
   "outputs": [
    {
     "data": {
      "text/plain": [
       "True"
      ]
     },
     "execution_count": 95,
     "metadata": {},
     "output_type": "execute_result"
    }
   ],
   "source": [
    "bool(\"5+5j\")"
   ]
  },
  {
   "cell_type": "code",
   "execution_count": 97,
   "id": "746a3bbf-9c37-4d8a-80bc-34452899bca8",
   "metadata": {
    "tags": []
   },
   "outputs": [
    {
     "data": {
      "text/plain": [
       "True"
      ]
     },
     "execution_count": 97,
     "metadata": {},
     "output_type": "execute_result"
    }
   ],
   "source": [
    "bool(\"0+0j\")"
   ]
  },
  {
   "cell_type": "code",
   "execution_count": 96,
   "id": "a568f91c-b85f-4870-9b98-bc595f16a540",
   "metadata": {
    "tags": []
   },
   "outputs": [
    {
     "data": {
      "text/plain": [
       "str"
      ]
     },
     "execution_count": 96,
     "metadata": {},
     "output_type": "execute_result"
    }
   ],
   "source": [
    "type(\"0+0j\")"
   ]
  },
  {
   "cell_type": "code",
   "execution_count": 98,
   "id": "6799ccd8-96c4-4051-8c4b-b501f5676fc2",
   "metadata": {
    "tags": []
   },
   "outputs": [
    {
     "data": {
      "text/plain": [
       "False"
      ]
     },
     "execution_count": 98,
     "metadata": {},
     "output_type": "execute_result"
    }
   ],
   "source": [
    "bool(\"\")"
   ]
  },
  {
   "cell_type": "code",
   "execution_count": 99,
   "id": "abc18b28-64c5-4f96-a502-f0c8608c1113",
   "metadata": {
    "tags": []
   },
   "outputs": [
    {
     "data": {
      "text/plain": [
       "True"
      ]
     },
     "execution_count": 99,
     "metadata": {},
     "output_type": "execute_result"
    }
   ],
   "source": [
    "bool(\" \")"
   ]
  },
  {
   "cell_type": "code",
   "execution_count": 101,
   "id": "a21cf02f-875d-4813-aeb7-82ea5055c130",
   "metadata": {
    "tags": []
   },
   "outputs": [
    {
     "data": {
      "text/plain": [
       "6"
      ]
     },
     "execution_count": 101,
     "metadata": {},
     "output_type": "execute_result"
    }
   ],
   "source": [
    "len(\"python\")"
   ]
  },
  {
   "cell_type": "code",
   "execution_count": 102,
   "id": "d38f514e-72c3-4cab-843d-1a71a362f056",
   "metadata": {
    "tags": []
   },
   "outputs": [
    {
     "data": {
      "text/plain": [
       "1"
      ]
     },
     "execution_count": 102,
     "metadata": {},
     "output_type": "execute_result"
    }
   ],
   "source": [
    "len(\" \")"
   ]
  },
  {
   "cell_type": "code",
   "execution_count": 104,
   "id": "bd08f077-250a-4db6-85bd-22dccbee062c",
   "metadata": {
    "tags": []
   },
   "outputs": [
    {
     "ename": "TypeError",
     "evalue": "float() argument must be a string or a real number, not 'complex'",
     "output_type": "error",
     "traceback": [
      "\u001b[0;31m---------------------------------------------------------------------------\u001b[0m",
      "\u001b[0;31mTypeError\u001b[0m                                 Traceback (most recent call last)",
      "Cell \u001b[0;32mIn[104], line 1\u001b[0m\n\u001b[0;32m----> 1\u001b[0m \u001b[38;5;28mbool\u001b[39m(\u001b[38;5;28mfloat\u001b[39m(\u001b[38;5;241m0\u001b[39m\u001b[38;5;241m+\u001b[39m\u001b[38;5;241m0\u001b[39mj))\n",
      "\u001b[0;31mTypeError\u001b[0m: float() argument must be a string or a real number, not 'complex'"
     ]
    }
   ],
   "source": [
    "bool(float(0+0j))"
   ]
  },
  {
   "cell_type": "code",
   "execution_count": 105,
   "id": "901e337c-4cd1-41fc-a701-71d3a3d39f48",
   "metadata": {
    "tags": []
   },
   "outputs": [
    {
     "data": {
      "text/plain": [
       "False"
      ]
     },
     "execution_count": 105,
     "metadata": {},
     "output_type": "execute_result"
    }
   ],
   "source": [
    "bool(complex(\"0+0j\"))"
   ]
  },
  {
   "cell_type": "code",
   "execution_count": 106,
   "id": "a5931912-cc69-4bca-af89-181a3561fe57",
   "metadata": {
    "tags": []
   },
   "outputs": [
    {
     "ename": "SyntaxError",
     "evalue": "leading zeros in decimal integer literals are not permitted; use an 0o prefix for octal integers (2404813743.py, line 2)",
     "output_type": "error",
     "traceback": [
      "\u001b[0;36m  Cell \u001b[0;32mIn[106], line 2\u001b[0;36m\u001b[0m\n\u001b[0;31m    0+0002\u001b[0m\n\u001b[0m      ^\u001b[0m\n\u001b[0;31mSyntaxError\u001b[0m\u001b[0;31m:\u001b[0m leading zeros in decimal integer literals are not permitted; use an 0o prefix for octal integers\n"
     ]
    }
   ],
   "source": [
    "## why 0+0002 is error\n",
    "bool(0+0002)\n"
   ]
  },
  {
   "cell_type": "code",
   "execution_count": 107,
   "id": "a94994ba-c70b-4607-933e-4de78f7e95e0",
   "metadata": {
    "tags": []
   },
   "outputs": [
    {
     "ename": "SyntaxError",
     "evalue": "invalid decimal literal (1359674340.py, line 1)",
     "output_type": "error",
     "traceback": [
      "\u001b[0;36m  Cell \u001b[0;32mIn[107], line 1\u001b[0;36m\u001b[0m\n\u001b[0;31m    bool(0+0i)\u001b[0m\n\u001b[0m           ^\u001b[0m\n\u001b[0;31mSyntaxError\u001b[0m\u001b[0;31m:\u001b[0m invalid decimal literal\n"
     ]
    }
   ],
   "source": [
    "bool(0+0i)"
   ]
  },
  {
   "cell_type": "code",
   "execution_count": null,
   "id": "48779152-4cea-4eb4-a4f9-de2e77948a47",
   "metadata": {},
   "outputs": [],
   "source": [
    "# Sir, can you please explain last one :  bool(complex(\"0+0j\"))"
   ]
  },
  {
   "cell_type": "code",
   "execution_count": 108,
   "id": "08135419-304a-43dd-ab72-f6a98573ea07",
   "metadata": {
    "tags": []
   },
   "outputs": [
    {
     "data": {
      "text/plain": [
       "0j"
      ]
     },
     "execution_count": 108,
     "metadata": {},
     "output_type": "execute_result"
    }
   ],
   "source": [
    "complex(\"0+0j\")"
   ]
  },
  {
   "cell_type": "code",
   "execution_count": 109,
   "id": "595d73a9-78b5-42a4-9d33-2a5bc8e3fc09",
   "metadata": {
    "tags": []
   },
   "outputs": [
    {
     "data": {
      "text/plain": [
       "False"
      ]
     },
     "execution_count": 109,
     "metadata": {},
     "output_type": "execute_result"
    }
   ],
   "source": [
    "bool(0+0j)"
   ]
  },
  {
   "cell_type": "code",
   "execution_count": 110,
   "id": "760314f6-e6c1-43a0-85b4-c8d2a01b80c0",
   "metadata": {
    "tags": []
   },
   "outputs": [
    {
     "data": {
      "text/plain": [
       "False"
      ]
     },
     "execution_count": 110,
     "metadata": {},
     "output_type": "execute_result"
    }
   ],
   "source": [
    "bool(0j)"
   ]
  },
  {
   "cell_type": "code",
   "execution_count": 111,
   "id": "853e4343-a084-4cb8-9ad8-f21b45b38549",
   "metadata": {
    "tags": []
   },
   "outputs": [
    {
     "data": {
      "text/plain": [
       "0j"
      ]
     },
     "execution_count": 111,
     "metadata": {},
     "output_type": "execute_result"
    }
   ],
   "source": [
    "complex(\"0+0j\")"
   ]
  },
  {
   "cell_type": "code",
   "execution_count": 112,
   "id": "35981a8d-d3c2-4d7b-b86e-587b5b7a156d",
   "metadata": {
    "tags": []
   },
   "outputs": [
    {
     "data": {
      "text/plain": [
       "False"
      ]
     },
     "execution_count": 112,
     "metadata": {},
     "output_type": "execute_result"
    }
   ],
   "source": [
    "bool(0j)"
   ]
  },
  {
   "cell_type": "code",
   "execution_count": 113,
   "id": "44097ab8-c19b-4cc0-9567-a6e97866f6be",
   "metadata": {
    "tags": []
   },
   "outputs": [
    {
     "data": {
      "text/plain": [
       "False"
      ]
     },
     "execution_count": 113,
     "metadata": {},
     "output_type": "execute_result"
    }
   ],
   "source": [
    "bool(complex(\"0+0j\"))"
   ]
  },
  {
   "cell_type": "code",
   "execution_count": null,
   "id": "cd91e4d0-70f4-4f05-8e87-f6149f52eb59",
   "metadata": {},
   "outputs": [],
   "source": []
  },
  {
   "cell_type": "code",
   "execution_count": null,
   "id": "30494590-a65f-48cc-8763-cfb88d238d60",
   "metadata": {},
   "outputs": [],
   "source": []
  },
  {
   "cell_type": "code",
   "execution_count": null,
   "id": "3d4e257f-aa7f-4ea0-be27-a7312e82b79b",
   "metadata": {},
   "outputs": [],
   "source": [
    "# sir how bool('0+0j') is true\n",
    "\n",
    "'0+0j' == 0+0j"
   ]
  },
  {
   "cell_type": "code",
   "execution_count": 114,
   "id": "9b7e00db-2e92-4447-a9fc-5ca68165eb73",
   "metadata": {
    "tags": []
   },
   "outputs": [
    {
     "data": {
      "text/plain": [
       "str"
      ]
     },
     "execution_count": 114,
     "metadata": {},
     "output_type": "execute_result"
    }
   ],
   "source": [
    "type('0+0j')"
   ]
  },
  {
   "cell_type": "code",
   "execution_count": 115,
   "id": "cd3cf55f-35cd-4a61-aace-69feead20965",
   "metadata": {
    "tags": []
   },
   "outputs": [
    {
     "data": {
      "text/plain": [
       "complex"
      ]
     },
     "execution_count": 115,
     "metadata": {},
     "output_type": "execute_result"
    }
   ],
   "source": [
    "type(0+0j)"
   ]
  },
  {
   "cell_type": "code",
   "execution_count": 116,
   "id": "8ec9470e-3b0a-44f5-92ed-257110914d4c",
   "metadata": {
    "tags": []
   },
   "outputs": [
    {
     "data": {
      "text/plain": [
       "False"
      ]
     },
     "execution_count": 116,
     "metadata": {},
     "output_type": "execute_result"
    }
   ],
   "source": [
    "bool(0+0j)"
   ]
  },
  {
   "cell_type": "code",
   "execution_count": 117,
   "id": "e70700bd-7d22-4c93-aac0-81b7df38213f",
   "metadata": {
    "tags": []
   },
   "outputs": [
    {
     "data": {
      "text/plain": [
       "True"
      ]
     },
     "execution_count": 117,
     "metadata": {},
     "output_type": "execute_result"
    }
   ],
   "source": [
    "bool('0+0j')"
   ]
  },
  {
   "cell_type": "code",
   "execution_count": null,
   "id": "3c40c0c2-b9b8-48b9-a42f-9f5d5961dcd9",
   "metadata": {},
   "outputs": [],
   "source": []
  },
  {
   "cell_type": "code",
   "execution_count": 119,
   "id": "f2186df9-aff7-4daf-97ea-a3aa33f2bcf9",
   "metadata": {
    "tags": []
   },
   "outputs": [
    {
     "data": {
      "text/plain": [
       "True"
      ]
     },
     "execution_count": 119,
     "metadata": {},
     "output_type": "execute_result"
    }
   ],
   "source": [
    "bool(['False'])"
   ]
  },
  {
   "cell_type": "code",
   "execution_count": 120,
   "id": "cfd74a8f-0fbd-40f1-98ed-8d3626dc995d",
   "metadata": {
    "tags": []
   },
   "outputs": [
    {
     "data": {
      "text/plain": [
       "False"
      ]
     },
     "execution_count": 120,
     "metadata": {},
     "output_type": "execute_result"
    }
   ],
   "source": [
    "bool(())"
   ]
  },
  {
   "cell_type": "code",
   "execution_count": 121,
   "id": "4c90e375-7131-4b60-a9d5-773c082b7deb",
   "metadata": {
    "tags": []
   },
   "outputs": [
    {
     "data": {
      "text/plain": [
       "False"
      ]
     },
     "execution_count": 121,
     "metadata": {},
     "output_type": "execute_result"
    }
   ],
   "source": [
    "bool({})"
   ]
  },
  {
   "cell_type": "code",
   "execution_count": null,
   "id": "15bcad16-3161-4763-9f85-58fe5863810b",
   "metadata": {},
   "outputs": [],
   "source": [
    "bool((0))"
   ]
  },
  {
   "cell_type": "code",
   "execution_count": 124,
   "id": "ace561a2-9378-4316-aee0-e762fa881a55",
   "metadata": {
    "tags": []
   },
   "outputs": [
    {
     "data": {
      "text/plain": [
       "5"
      ]
     },
     "execution_count": 124,
     "metadata": {},
     "output_type": "execute_result"
    }
   ],
   "source": [
    "5 + 0"
   ]
  },
  {
   "cell_type": "code",
   "execution_count": 125,
   "id": "555f9012-e2ad-4966-be5d-25fa5b8b37ea",
   "metadata": {
    "tags": []
   },
   "outputs": [
    {
     "data": {
      "text/plain": [
       "5"
      ]
     },
     "execution_count": 125,
     "metadata": {},
     "output_type": "execute_result"
    }
   ],
   "source": [
    "5 + (0)"
   ]
  },
  {
   "cell_type": "code",
   "execution_count": null,
   "id": "ad9f8673-2a68-4d50-8bae-ef0bb5c160f4",
   "metadata": {},
   "outputs": [],
   "source": []
  },
  {
   "cell_type": "code",
   "execution_count": 127,
   "id": "14c33c88-fed0-429b-b864-6924016e11bb",
   "metadata": {
    "tags": []
   },
   "outputs": [
    {
     "data": {
      "text/plain": [
       "1"
      ]
     },
     "execution_count": 127,
     "metadata": {},
     "output_type": "execute_result"
    }
   ],
   "source": [
    "len((0,))"
   ]
  },
  {
   "cell_type": "code",
   "execution_count": 130,
   "id": "338519ca-8866-4e6a-b9e9-81a358d0ca89",
   "metadata": {
    "tags": []
   },
   "outputs": [
    {
     "data": {
      "text/plain": [
       "False"
      ]
     },
     "execution_count": 130,
     "metadata": {},
     "output_type": "execute_result"
    }
   ],
   "source": [
    "bool((0))"
   ]
  },
  {
   "cell_type": "markdown",
   "id": "ab055db1-6883-4ecc-a843-765b4eaba593",
   "metadata": {
    "tags": []
   },
   "source": [
    "# String"
   ]
  },
  {
   "cell_type": "code",
   "execution_count": 123,
   "id": "75f0df6e-fd6e-4968-8302-32a6df68d5ba",
   "metadata": {
    "tags": []
   },
   "outputs": [
    {
     "data": {
      "text/plain": [
       "'True'"
      ]
     },
     "execution_count": 123,
     "metadata": {},
     "output_type": "execute_result"
    }
   ],
   "source": [
    "str(\"True\")"
   ]
  },
  {
   "cell_type": "code",
   "execution_count": 131,
   "id": "74c63d09-a031-4ae7-9d96-81dfa4da747f",
   "metadata": {
    "tags": []
   },
   "outputs": [
    {
     "data": {
      "text/plain": [
       "'1'"
      ]
     },
     "execution_count": 131,
     "metadata": {},
     "output_type": "execute_result"
    }
   ],
   "source": [
    "str(1)"
   ]
  },
  {
   "cell_type": "code",
   "execution_count": 132,
   "id": "0a51b9cb-2992-494a-9335-4f93a21b03ed",
   "metadata": {
    "tags": []
   },
   "outputs": [
    {
     "data": {
      "text/plain": [
       "'1.5'"
      ]
     },
     "execution_count": 132,
     "metadata": {},
     "output_type": "execute_result"
    }
   ],
   "source": [
    "str(1.5)"
   ]
  },
  {
   "cell_type": "code",
   "execution_count": 133,
   "id": "02a2e7f1-26c3-4b9a-b286-5f09ef1a6fe0",
   "metadata": {
    "tags": []
   },
   "outputs": [
    {
     "data": {
      "text/plain": [
       "'True'"
      ]
     },
     "execution_count": 133,
     "metadata": {},
     "output_type": "execute_result"
    }
   ],
   "source": [
    "str(True)"
   ]
  },
  {
   "cell_type": "code",
   "execution_count": null,
   "id": "141773c7-6ea3-48fd-ba39-ad8a8600f71b",
   "metadata": {},
   "outputs": [],
   "source": []
  },
  {
   "cell_type": "code",
   "execution_count": 134,
   "id": "0e07062b-9496-416f-a7f9-ae57fca3b979",
   "metadata": {
    "tags": []
   },
   "outputs": [
    {
     "ename": "NameError",
     "evalue": "name 'true' is not defined",
     "output_type": "error",
     "traceback": [
      "\u001b[0;31m---------------------------------------------------------------------------\u001b[0m",
      "\u001b[0;31mNameError\u001b[0m                                 Traceback (most recent call last)",
      "Cell \u001b[0;32mIn[134], line 1\u001b[0m\n\u001b[0;32m----> 1\u001b[0m \u001b[38;5;28mstr\u001b[39m(true)\n",
      "\u001b[0;31mNameError\u001b[0m: name 'true' is not defined"
     ]
    }
   ],
   "source": [
    "str(true)"
   ]
  },
  {
   "cell_type": "code",
   "execution_count": 135,
   "id": "6eff1990-e762-4935-b3d5-b7be1c68031f",
   "metadata": {
    "tags": []
   },
   "outputs": [],
   "source": [
    "true = False\n",
    "True \n",
    "False\n"
   ]
  },
  {
   "cell_type": "code",
   "execution_count": 136,
   "id": "a30a9af0-a8ea-45e3-9c94-5ee5c34a26eb",
   "metadata": {
    "tags": []
   },
   "outputs": [
    {
     "data": {
      "text/plain": [
       "'False'"
      ]
     },
     "execution_count": 136,
     "metadata": {},
     "output_type": "execute_result"
    }
   ],
   "source": [
    "str(true)"
   ]
  },
  {
   "cell_type": "code",
   "execution_count": 138,
   "id": "c5f6141e-d7cd-4063-958e-2e72e148caac",
   "metadata": {
    "tags": []
   },
   "outputs": [
    {
     "data": {
      "text/plain": [
       "'(5+0j)'"
      ]
     },
     "execution_count": 138,
     "metadata": {},
     "output_type": "execute_result"
    }
   ],
   "source": [
    "str(5+0j)"
   ]
  },
  {
   "cell_type": "code",
   "execution_count": null,
   "id": "a0ebcd5c-1495-4184-9635-453b0f4c35e1",
   "metadata": {},
   "outputs": [],
   "source": [
    "str(bool(0))"
   ]
  },
  {
   "cell_type": "code",
   "execution_count": 139,
   "id": "0f7d5be1-ee0f-4eaa-94fd-72bcfae03a91",
   "metadata": {
    "tags": []
   },
   "outputs": [
    {
     "data": {
      "text/plain": [
       "False"
      ]
     },
     "execution_count": 139,
     "metadata": {},
     "output_type": "execute_result"
    }
   ],
   "source": [
    "bool(0)"
   ]
  },
  {
   "cell_type": "code",
   "execution_count": 145,
   "id": "366e9df6-b9fc-4e20-8e4a-9f883e971dc6",
   "metadata": {
    "tags": []
   },
   "outputs": [
    {
     "data": {
      "text/plain": [
       "'False'"
      ]
     },
     "execution_count": 145,
     "metadata": {},
     "output_type": "execute_result"
    }
   ],
   "source": [
    "str(False)"
   ]
  },
  {
   "cell_type": "code",
   "execution_count": 141,
   "id": "d85fc35f-a784-4b27-9f67-0998d5000b49",
   "metadata": {
    "tags": []
   },
   "outputs": [
    {
     "data": {
      "text/plain": [
       "'0j'"
      ]
     },
     "execution_count": 141,
     "metadata": {},
     "output_type": "execute_result"
    }
   ],
   "source": [
    "str(0+0j)"
   ]
  },
  {
   "cell_type": "code",
   "execution_count": 143,
   "id": "2878cc0a-9bd3-4924-8769-0975080b9376",
   "metadata": {
    "tags": []
   },
   "outputs": [
    {
     "data": {
      "text/plain": [
       "'0+0j'"
      ]
     },
     "execution_count": 143,
     "metadata": {},
     "output_type": "execute_result"
    }
   ],
   "source": [
    "str('0+0j')"
   ]
  },
  {
   "cell_type": "code",
   "execution_count": 142,
   "id": "de315eee-e514-4b2b-bc10-0d6b406d84eb",
   "metadata": {
    "tags": []
   },
   "outputs": [
    {
     "data": {
      "text/plain": [
       "'0+0j'"
      ]
     },
     "execution_count": 142,
     "metadata": {},
     "output_type": "execute_result"
    }
   ],
   "source": [
    "'0+0j'"
   ]
  },
  {
   "cell_type": "code",
   "execution_count": 144,
   "id": "fb9aac54-2246-494f-9437-6efd242dbf4d",
   "metadata": {
    "tags": []
   },
   "outputs": [
    {
     "data": {
      "text/plain": [
       "'005'"
      ]
     },
     "execution_count": 144,
     "metadata": {},
     "output_type": "execute_result"
    }
   ],
   "source": [
    "str('005')"
   ]
  },
  {
   "cell_type": "code",
   "execution_count": 146,
   "id": "02c9259c-74d6-40b0-b2a1-a1e17c465764",
   "metadata": {
    "tags": []
   },
   "outputs": [
    {
     "ename": "SyntaxError",
     "evalue": "leading zeros in decimal integer literals are not permitted; use an 0o prefix for octal integers (4223885067.py, line 1)",
     "output_type": "error",
     "traceback": [
      "\u001b[0;36m  Cell \u001b[0;32mIn[146], line 1\u001b[0;36m\u001b[0m\n\u001b[0;31m    05\u001b[0m\n\u001b[0m    ^\u001b[0m\n\u001b[0;31mSyntaxError\u001b[0m\u001b[0;31m:\u001b[0m leading zeros in decimal integer literals are not permitted; use an 0o prefix for octal integers\n"
     ]
    }
   ],
   "source": [
    "05"
   ]
  },
  {
   "cell_type": "code",
   "execution_count": 147,
   "id": "c9e07b38-4b01-43fa-b62e-8581ff121962",
   "metadata": {
    "tags": []
   },
   "outputs": [
    {
     "ename": "SyntaxError",
     "evalue": "invalid decimal literal (1321725522.py, line 1)",
     "output_type": "error",
     "traceback": [
      "\u001b[0;36m  Cell \u001b[0;32mIn[147], line 1\u001b[0;36m\u001b[0m\n\u001b[0;31m    str(5+10i)\u001b[0m\n\u001b[0m           ^\u001b[0m\n\u001b[0;31mSyntaxError\u001b[0m\u001b[0;31m:\u001b[0m invalid decimal literal\n"
     ]
    }
   ],
   "source": [
    "str(5+10i)"
   ]
  },
  {
   "cell_type": "code",
   "execution_count": 148,
   "id": "14bbda9d-b9b3-4609-8355-22516b68fd75",
   "metadata": {
    "tags": []
   },
   "outputs": [
    {
     "data": {
      "text/plain": [
       "'(5+10j)'"
      ]
     },
     "execution_count": 148,
     "metadata": {},
     "output_type": "execute_result"
    }
   ],
   "source": [
    "str(5+10j)"
   ]
  },
  {
   "cell_type": "code",
   "execution_count": 149,
   "id": "4536d403-3b6e-409b-881b-e5c998eb2ccb",
   "metadata": {
    "tags": []
   },
   "outputs": [
    {
     "data": {
      "text/plain": [
       "'13'"
      ]
     },
     "execution_count": 149,
     "metadata": {},
     "output_type": "execute_result"
    }
   ],
   "source": [
    "str(5+8)"
   ]
  },
  {
   "cell_type": "code",
   "execution_count": 150,
   "id": "8a219c93-17a6-4caf-8d6e-9279d1fe5dd1",
   "metadata": {
    "tags": []
   },
   "outputs": [
    {
     "data": {
      "text/plain": [
       "'5+8'"
      ]
     },
     "execution_count": 150,
     "metadata": {},
     "output_type": "execute_result"
    }
   ],
   "source": [
    "str('5+8')"
   ]
  },
  {
   "cell_type": "code",
   "execution_count": 151,
   "id": "064b5187-9f06-4547-a6ff-c22449e4deb7",
   "metadata": {
    "tags": []
   },
   "outputs": [
    {
     "data": {
      "text/plain": [
       "'2+53-35+5/0'"
      ]
     },
     "execution_count": 151,
     "metadata": {},
     "output_type": "execute_result"
    }
   ],
   "source": [
    "str('2+53-35+5/0')"
   ]
  },
  {
   "cell_type": "code",
   "execution_count": 152,
   "id": "1cefd8c1-817f-40ba-8b7f-52db50b8818e",
   "metadata": {
    "tags": []
   },
   "outputs": [
    {
     "ename": "ZeroDivisionError",
     "evalue": "division by zero",
     "output_type": "error",
     "traceback": [
      "\u001b[0;31m---------------------------------------------------------------------------\u001b[0m",
      "\u001b[0;31mZeroDivisionError\u001b[0m                         Traceback (most recent call last)",
      "Cell \u001b[0;32mIn[152], line 1\u001b[0m\n\u001b[0;32m----> 1\u001b[0m \u001b[38;5;28mstr\u001b[39m(\u001b[38;5;241m5\u001b[39m\u001b[38;5;241m/\u001b[39m\u001b[38;5;241m0\u001b[39m)\n",
      "\u001b[0;31mZeroDivisionError\u001b[0m: division by zero"
     ]
    }
   ],
   "source": [
    "str(5/0)"
   ]
  },
  {
   "cell_type": "code",
   "execution_count": null,
   "id": "385bb323-8a6b-4e42-9b75-3d6d212d6c34",
   "metadata": {},
   "outputs": [],
   "source": []
  },
  {
   "cell_type": "code",
   "execution_count": 153,
   "id": "a39be90c-50c7-482c-b08d-f3c3d94b5abd",
   "metadata": {
    "tags": []
   },
   "outputs": [
    {
     "name": "stdin",
     "output_type": "stream",
     "text": [
      " 5\n"
     ]
    }
   ],
   "source": [
    "mynum = input()"
   ]
  },
  {
   "cell_type": "code",
   "execution_count": 154,
   "id": "5f8e8a80-884f-4eb1-88e5-d61e5ead5817",
   "metadata": {
    "tags": []
   },
   "outputs": [
    {
     "name": "stdin",
     "output_type": "stream",
     "text": [
      "enter a number 6\n"
     ]
    }
   ],
   "source": [
    "mynum = input(\"enter a number\")"
   ]
  },
  {
   "cell_type": "code",
   "execution_count": 155,
   "id": "d15ac239-d695-4695-8632-810602a829c2",
   "metadata": {
    "tags": []
   },
   "outputs": [
    {
     "data": {
      "text/plain": [
       "str"
      ]
     },
     "execution_count": 155,
     "metadata": {},
     "output_type": "execute_result"
    }
   ],
   "source": [
    "type(mynum)"
   ]
  },
  {
   "cell_type": "code",
   "execution_count": null,
   "id": "3a0742c5-c96c-477f-a36e-c6de0c182ea7",
   "metadata": {},
   "outputs": [],
   "source": [
    "# WAP to take 2 numbers from the user and subtract them"
   ]
  },
  {
   "cell_type": "code",
   "execution_count": 159,
   "id": "36c3bfb8-1a0c-4f3c-ab9b-f3a83a6ac639",
   "metadata": {
    "tags": []
   },
   "outputs": [
    {
     "data": {
      "text/plain": [
       "'0j'"
      ]
     },
     "execution_count": 159,
     "metadata": {},
     "output_type": "execute_result"
    }
   ],
   "source": [
    "str(complex(bool(0+0j)))"
   ]
  },
  {
   "cell_type": "code",
   "execution_count": 156,
   "id": "d853e7ae-464e-44ea-bb41-7b43415d8951",
   "metadata": {
    "tags": []
   },
   "outputs": [
    {
     "data": {
      "text/plain": [
       "False"
      ]
     },
     "execution_count": 156,
     "metadata": {},
     "output_type": "execute_result"
    }
   ],
   "source": [
    "bool(0+0j)"
   ]
  },
  {
   "cell_type": "code",
   "execution_count": 157,
   "id": "2646d637-1dfe-4884-b474-1e5ea2bc3504",
   "metadata": {
    "tags": []
   },
   "outputs": [
    {
     "data": {
      "text/plain": [
       "0j"
      ]
     },
     "execution_count": 157,
     "metadata": {},
     "output_type": "execute_result"
    }
   ],
   "source": [
    "complex(False)"
   ]
  },
  {
   "cell_type": "code",
   "execution_count": 158,
   "id": "475c017f-9377-4d3c-9156-19afe43b9a9c",
   "metadata": {
    "tags": []
   },
   "outputs": [
    {
     "data": {
      "text/plain": [
       "'0j'"
      ]
     },
     "execution_count": 158,
     "metadata": {},
     "output_type": "execute_result"
    }
   ],
   "source": [
    "str(0j)"
   ]
  },
  {
   "cell_type": "markdown",
   "id": "6f1ef571-b4d4-406f-844f-5ad85727f5e3",
   "metadata": {
    "tags": []
   },
   "source": [
    "# String Concatenation"
   ]
  },
  {
   "cell_type": "code",
   "execution_count": 166,
   "id": "a5228d07-9dec-46b7-8621-466996ca2a6c",
   "metadata": {
    "tags": []
   },
   "outputs": [],
   "source": [
    "str1 = \"hello\"\n",
    "str2= \"world\""
   ]
  },
  {
   "cell_type": "code",
   "execution_count": 168,
   "id": "07ba97ae-61eb-45a2-b898-83e5bd632353",
   "metadata": {
    "tags": []
   },
   "outputs": [
    {
     "data": {
      "text/plain": [
       "'helloworld'"
      ]
     },
     "execution_count": 168,
     "metadata": {},
     "output_type": "execute_result"
    }
   ],
   "source": [
    "str1+str2"
   ]
  },
  {
   "cell_type": "code",
   "execution_count": 171,
   "id": "9f916a30-3024-480e-bc50-e58e74141b69",
   "metadata": {
    "tags": []
   },
   "outputs": [
    {
     "name": "stdin",
     "output_type": "stream",
     "text": [
      "enter website yahoo\n"
     ]
    }
   ],
   "source": [
    "website = input(\"enter website\")"
   ]
  },
  {
   "cell_type": "code",
   "execution_count": 172,
   "id": "07e538b0-b53b-4353-ba6c-8ff3601839af",
   "metadata": {
    "tags": []
   },
   "outputs": [
    {
     "name": "stdout",
     "output_type": "stream",
     "text": [
      "www.yahoo.com\n"
     ]
    }
   ],
   "source": [
    "print(\"www.\"+website+\".com\")"
   ]
  },
  {
   "cell_type": "code",
   "execution_count": 173,
   "id": "db8bdba6-218c-4c67-89c0-95b6d6a0b19a",
   "metadata": {
    "tags": []
   },
   "outputs": [
    {
     "data": {
      "text/plain": [
       "'mayank aggarwal'"
      ]
     },
     "execution_count": 173,
     "metadata": {},
     "output_type": "execute_result"
    }
   ],
   "source": [
    "\"mayank\" + \" \" + \"aggarwal\""
   ]
  },
  {
   "cell_type": "markdown",
   "id": "a259126b-9e15-44c3-9a40-7d9bfd2accaf",
   "metadata": {
    "tags": []
   },
   "source": [
    "# String Multiplication with INteger"
   ]
  },
  {
   "cell_type": "code",
   "execution_count": 175,
   "id": "d15adc95-1c50-4054-b5e8-a23c7fdc1629",
   "metadata": {
    "tags": []
   },
   "outputs": [
    {
     "data": {
      "text/plain": [
       "'pythonpythonpython'"
      ]
     },
     "execution_count": 175,
     "metadata": {},
     "output_type": "execute_result"
    }
   ],
   "source": [
    "\"python\" * 3"
   ]
  },
  {
   "cell_type": "code",
   "execution_count": 177,
   "id": "f45123a7-67dc-4897-a3e5-f0feb2750135",
   "metadata": {
    "tags": []
   },
   "outputs": [
    {
     "ename": "TypeError",
     "evalue": "can't multiply sequence by non-int of type 'float'",
     "output_type": "error",
     "traceback": [
      "\u001b[0;31m---------------------------------------------------------------------------\u001b[0m",
      "\u001b[0;31mTypeError\u001b[0m                                 Traceback (most recent call last)",
      "Cell \u001b[0;32mIn[177], line 1\u001b[0m\n\u001b[0;32m----> 1\u001b[0m \u001b[38;5;124m\"\u001b[39m\u001b[38;5;124mpython\u001b[39m\u001b[38;5;124m\"\u001b[39m \u001b[38;5;241m*\u001b[39m \u001b[38;5;241m3.0\u001b[39m\n",
      "\u001b[0;31mTypeError\u001b[0m: can't multiply sequence by non-int of type 'float'"
     ]
    }
   ],
   "source": [
    "\"python\" * 3.0"
   ]
  },
  {
   "cell_type": "code",
   "execution_count": 178,
   "id": "e8f3b6e5-ef9a-4b2c-95b5-84cd7541f8c9",
   "metadata": {
    "tags": []
   },
   "outputs": [
    {
     "ename": "TypeError",
     "evalue": "can't multiply sequence by non-int of type 'str'",
     "output_type": "error",
     "traceback": [
      "\u001b[0;31m---------------------------------------------------------------------------\u001b[0m",
      "\u001b[0;31mTypeError\u001b[0m                                 Traceback (most recent call last)",
      "Cell \u001b[0;32mIn[178], line 1\u001b[0m\n\u001b[0;32m----> 1\u001b[0m \u001b[38;5;124m\"\u001b[39m\u001b[38;5;124mpython\u001b[39m\u001b[38;5;124m\"\u001b[39m \u001b[38;5;241m*\u001b[39m \u001b[38;5;124m'\u001b[39m\u001b[38;5;124m3\u001b[39m\u001b[38;5;124m'\u001b[39m\n",
      "\u001b[0;31mTypeError\u001b[0m: can't multiply sequence by non-int of type 'str'"
     ]
    }
   ],
   "source": [
    "\"python\" * '3'"
   ]
  },
  {
   "cell_type": "code",
   "execution_count": 187,
   "id": "d5674a94-479a-45ed-aa29-920a8283821d",
   "metadata": {
    "tags": []
   },
   "outputs": [
    {
     "ename": "TypeError",
     "evalue": "can't multiply sequence by non-int of type 'str'",
     "output_type": "error",
     "traceback": [
      "\u001b[0;31m---------------------------------------------------------------------------\u001b[0m",
      "\u001b[0;31mTypeError\u001b[0m                                 Traceback (most recent call last)",
      "Cell \u001b[0;32mIn[187], line 1\u001b[0m\n\u001b[0;32m----> 1\u001b[0m \u001b[38;5;124m\"\u001b[39m\u001b[38;5;124mpython\u001b[39m\u001b[38;5;124m\"\u001b[39m \u001b[38;5;241m*\u001b[39m \u001b[38;5;124m'\u001b[39m\u001b[38;5;124mpython\u001b[39m\u001b[38;5;124m'\u001b[39m\n",
      "\u001b[0;31mTypeError\u001b[0m: can't multiply sequence by non-int of type 'str'"
     ]
    }
   ],
   "source": [
    "\"python\" * 'python'\n"
   ]
  },
  {
   "cell_type": "code",
   "execution_count": 180,
   "id": "3dd64c67-815d-4419-bdf2-0f53ae6bcfe0",
   "metadata": {
    "tags": []
   },
   "outputs": [
    {
     "data": {
      "text/plain": [
       "'pythonpython'"
      ]
     },
     "execution_count": 180,
     "metadata": {},
     "output_type": "execute_result"
    }
   ],
   "source": [
    "\"python\" * (True + True)"
   ]
  },
  {
   "cell_type": "code",
   "execution_count": 182,
   "id": "56513104-0668-4c7e-a321-9f511fb2531e",
   "metadata": {
    "tags": []
   },
   "outputs": [
    {
     "data": {
      "text/plain": [
       "'pythonpython'"
      ]
     },
     "execution_count": 182,
     "metadata": {},
     "output_type": "execute_result"
    }
   ],
   "source": [
    "\"python\" * (2)"
   ]
  },
  {
   "cell_type": "code",
   "execution_count": 183,
   "id": "7d7b288d-0e20-4d20-96a1-2e5eb98c6df6",
   "metadata": {
    "tags": []
   },
   "outputs": [
    {
     "ename": "TypeError",
     "evalue": "unsupported operand type(s) for -: 'str' and 'int'",
     "output_type": "error",
     "traceback": [
      "\u001b[0;31m---------------------------------------------------------------------------\u001b[0m",
      "\u001b[0;31mTypeError\u001b[0m                                 Traceback (most recent call last)",
      "Cell \u001b[0;32mIn[183], line 1\u001b[0m\n\u001b[0;32m----> 1\u001b[0m \u001b[38;5;124m\"\u001b[39m\u001b[38;5;124mpython\u001b[39m\u001b[38;5;124m\"\u001b[39m \u001b[38;5;241m-\u001b[39m \u001b[38;5;241m1\u001b[39m\n",
      "\u001b[0;31mTypeError\u001b[0m: unsupported operand type(s) for -: 'str' and 'int'"
     ]
    }
   ],
   "source": [
    "\"python\" - 1"
   ]
  },
  {
   "cell_type": "code",
   "execution_count": 184,
   "id": "2b3bb0bc-19a6-4dd8-930f-c16379e39712",
   "metadata": {
    "tags": []
   },
   "outputs": [
    {
     "data": {
      "text/plain": [
       "''"
      ]
     },
     "execution_count": 184,
     "metadata": {},
     "output_type": "execute_result"
    }
   ],
   "source": [
    "\"python\" * (False)"
   ]
  },
  {
   "cell_type": "code",
   "execution_count": null,
   "id": "7be65bb9-6d52-4a48-8c00-5cb905e40784",
   "metadata": {},
   "outputs": [],
   "source": [
    "# WAP to take 2 numbers from the user and multiply them"
   ]
  },
  {
   "cell_type": "code",
   "execution_count": 185,
   "id": "8b466d05-2310-4ec9-988e-00da474b4b36",
   "metadata": {
    "tags": []
   },
   "outputs": [
    {
     "name": "stdin",
     "output_type": "stream",
     "text": [
      "enter first Num 5\n",
      "enter second Num 10\n"
     ]
    }
   ],
   "source": [
    "num1 = input(\"enter first Num\")\n",
    "num2 = input(\"enter second Num\")"
   ]
  },
  {
   "cell_type": "code",
   "execution_count": 186,
   "id": "ff6312f0-c579-43de-abc1-5199aa715cd0",
   "metadata": {
    "tags": []
   },
   "outputs": [
    {
     "ename": "TypeError",
     "evalue": "can't multiply sequence by non-int of type 'str'",
     "output_type": "error",
     "traceback": [
      "\u001b[0;31m---------------------------------------------------------------------------\u001b[0m",
      "\u001b[0;31mTypeError\u001b[0m                                 Traceback (most recent call last)",
      "Cell \u001b[0;32mIn[186], line 1\u001b[0m\n\u001b[0;32m----> 1\u001b[0m num1 \u001b[38;5;241m*\u001b[39m num2\n",
      "\u001b[0;31mTypeError\u001b[0m: can't multiply sequence by non-int of type 'str'"
     ]
    }
   ],
   "source": [
    "num1 * num2"
   ]
  },
  {
   "cell_type": "code",
   "execution_count": 188,
   "id": "ea8aeac3-d2bf-4926-8797-eb608870381b",
   "metadata": {
    "tags": []
   },
   "outputs": [
    {
     "data": {
      "text/plain": [
       "50"
      ]
     },
     "execution_count": 188,
     "metadata": {},
     "output_type": "execute_result"
    }
   ],
   "source": [
    "int(num1) * int(num2)"
   ]
  },
  {
   "cell_type": "code",
   "execution_count": 189,
   "id": "420845c9-0467-43f5-b22c-cd29ebd084ed",
   "metadata": {
    "tags": []
   },
   "outputs": [
    {
     "name": "stdin",
     "output_type": "stream",
     "text": [
      "enter first Num 5\n",
      "enter second Num 10\n"
     ]
    }
   ],
   "source": [
    "num1 = int(input(\"enter first Num\"))\n",
    "num2 = int(input(\"enter second Num\"))"
   ]
  },
  {
   "cell_type": "code",
   "execution_count": null,
   "id": "5f4b804c-1617-49fa-896e-37129f3c3436",
   "metadata": {},
   "outputs": [],
   "source": []
  },
  {
   "cell_type": "code",
   "execution_count": 190,
   "id": "4ed77db1-a4bc-4daa-8197-0e0ef033575d",
   "metadata": {
    "tags": []
   },
   "outputs": [
    {
     "data": {
      "text/plain": [
       "int"
      ]
     },
     "execution_count": 190,
     "metadata": {},
     "output_type": "execute_result"
    }
   ],
   "source": [
    "type(num1)"
   ]
  },
  {
   "cell_type": "code",
   "execution_count": 191,
   "id": "27878de0-c672-4ca5-b371-d57eab0aa565",
   "metadata": {
    "tags": []
   },
   "outputs": [
    {
     "data": {
      "text/plain": [
       "50"
      ]
     },
     "execution_count": 191,
     "metadata": {},
     "output_type": "execute_result"
    }
   ],
   "source": [
    "num1*num2"
   ]
  },
  {
   "cell_type": "code",
   "execution_count": 192,
   "id": "7e704339-d9f8-4314-a6c5-8741b015c2c6",
   "metadata": {
    "tags": []
   },
   "outputs": [],
   "source": [
    "num1='5'\n",
    "num2='10'"
   ]
  },
  {
   "cell_type": "code",
   "execution_count": 193,
   "id": "76f2a278-6f27-4daa-a0b6-15c7a0ed6c2c",
   "metadata": {
    "tags": []
   },
   "outputs": [
    {
     "ename": "TypeError",
     "evalue": "can't multiply sequence by non-int of type 'str'",
     "output_type": "error",
     "traceback": [
      "\u001b[0;31m---------------------------------------------------------------------------\u001b[0m",
      "\u001b[0;31mTypeError\u001b[0m                                 Traceback (most recent call last)",
      "Cell \u001b[0;32mIn[193], line 1\u001b[0m\n\u001b[0;32m----> 1\u001b[0m \u001b[38;5;28mint\u001b[39m(num1\u001b[38;5;241m*\u001b[39mnum2)\n",
      "\u001b[0;31mTypeError\u001b[0m: can't multiply sequence by non-int of type 'str'"
     ]
    }
   ],
   "source": [
    "int(num1*num2)"
   ]
  },
  {
   "cell_type": "code",
   "execution_count": null,
   "id": "34686d77-2e7f-4e2d-86fc-5eab09161139",
   "metadata": {},
   "outputs": [],
   "source": [
    "int(0+5i)"
   ]
  },
  {
   "cell_type": "code",
   "execution_count": null,
   "id": "6aa706e1-d5af-4069-b286-ec2004c207ec",
   "metadata": {},
   "outputs": [],
   "source": []
  },
  {
   "cell_type": "code",
   "execution_count": 195,
   "id": "a1c01d30-bcbd-488b-a4aa-660ce42b2e06",
   "metadata": {
    "tags": []
   },
   "outputs": [
    {
     "data": {
      "text/plain": [
       "5.0"
      ]
     },
     "execution_count": 195,
     "metadata": {},
     "output_type": "execute_result"
    }
   ],
   "source": [
    "5/1"
   ]
  },
  {
   "cell_type": "code",
   "execution_count": 196,
   "id": "fc6120b3-2fb0-405d-8ff7-76fa10eb6ac6",
   "metadata": {
    "tags": []
   },
   "outputs": [
    {
     "data": {
      "text/plain": [
       "0.5"
      ]
     },
     "execution_count": 196,
     "metadata": {},
     "output_type": "execute_result"
    }
   ],
   "source": [
    "5/10"
   ]
  },
  {
   "cell_type": "code",
   "execution_count": null,
   "id": "e70a0278-103d-4d61-9d43-a642e53d1315",
   "metadata": {},
   "outputs": [],
   "source": []
  }
 ],
 "metadata": {
  "kernelspec": {
   "display_name": "Python 3 (ipykernel)",
   "language": "python",
   "name": "python3"
  },
  "language_info": {
   "codemirror_mode": {
    "name": "ipython",
    "version": 3
   },
   "file_extension": ".py",
   "mimetype": "text/x-python",
   "name": "python",
   "nbconvert_exporter": "python",
   "pygments_lexer": "ipython3",
   "version": "3.11.5"
  }
 },
 "nbformat": 4,
 "nbformat_minor": 5
}
