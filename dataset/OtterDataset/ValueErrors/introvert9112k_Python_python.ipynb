{
 "cells": [
  {
   "cell_type": "markdown",
   "metadata": {},
   "source": [
    "## Methods on Strings\n",
    "\n",
    "1.len function syntax len(string name)\n",
    "\n",
    "2.slicing stringname[start:stop:step]\n",
    "slicing is done only upto stop,it doesn't include stop\n",
    "\n",
    "3.slicing str[:7] \n",
    "represents starting from 0 position to 6 position print the string\n",
    "\n",
    "4.slicing str[2:]\n",
    "represents start from position 2 and prrint upto the last character\n",
    "\n",
    "5.slicing str[:]\n",
    "print whole string\n",
    "\n",
    "6.str.find('a')\n",
    "\n",
    "find function: find the character 'a', if it is present in the string or not,if it is present it returns its position in the string else returns -1.\n",
    "\n",
    "7.str.find('sai') we can use substring too\n",
    "\n",
    "8.str.upper() ,mean captailising all the small leters in the string..\n",
    "\n",
    "9.str.lower(),mean converting small letters to captial in the string..\n",
    "\n",
    "10. str.lstrip() ,mean removing the left space in the string\n",
    "\n",
    "suppose str='  saisri angajala  '\n",
    "\n",
    "print(str.lstrip()) prints 'saisri angajala  ',it removes left space in string\n",
    "\n",
    "11.str.rstrip() ,mean removing the right space in the string\n",
    "\n",
    "suppose str='  saisri angajala  '\n",
    "\n",
    "print(str.rstrip()) prints '  saisri angajala',it removes right space in string\n",
    "\n",
    "12. str.strip()\n",
    "\n",
    "mean removes both the right and left space in the string..\n",
    "\n",
    "13. str.replace('saisri' ,'yamuna')\n",
    "\n",
    "suppose str='saisri angajala' ,replace function replaces the word or character with the given one.. so output would be yamuna \n",
    "\n",
    "angajala\n",
    "\n",
    "14.indexing concept is same in case of strings in c language..\n",
    "\n",
    "15.strings are immutable (that mean we cannot change any character in the string)\n",
    "\n",
    "16.string.title() makes the starting letter of the string Capital..\n",
    "\n",
    "IMPORTANT NOTE :str() is a empty string like list() {empty list} ,tuple{empty tuple} \n",
    "\n",
    "we can reverse the string by slicing [: : -1]\n",
    "\n",
    "Captailise func \n",
    "\n",
    "it is used to captailise the first letter of the string..\n",
    "\n",
    "title()\n",
    "\n",
    "is used to captailise the all first letters of word in the string.."
   ]
  },
  {
   "cell_type": "code",
   "execution_count": 16,
   "metadata": {},
   "outputs": [
    {
     "name": "stdout",
     "output_type": "stream",
     "text": [
      "alajagna irSias\n",
      "alajagna irSias\n",
      "alajagna irSias\n",
      "\n",
      "saiSri angajala\n",
      "Saisri Angajala\n",
      "Saisri angajala\n"
     ]
    }
   ],
   "source": [
    "#useful methods for revesing a string..\n",
    "#1.slicing\n",
    "string = \"saiSri angajala\"\n",
    "print(string[::-1]) #slicing method\n",
    "print(\"\".join(reversed(string))) #reversed method\n",
    "for i in range(len(string)-1 , -1, -1) :\n",
    "    print(string[i],end=\"\") #for loop method.\n",
    "print('\\n')\n",
    "string1 = list(string)\n",
    "string1.reverse\n",
    "rev_string = \"\".join(string1)\n",
    "print(rev_string)   #list reverse method...\n",
    "print(string.title())\n",
    "print(string.capitalize())"
   ]
  },
  {
   "cell_type": "code",
   "execution_count": 1,
   "metadata": {},
   "outputs": [
    {
     "name": "stdout",
     "output_type": "stream",
     "text": [
      " SAISRI ANGAJALA \n",
      " saisri angajala \n",
      "2\n",
      " saisri Angajala \n",
      " asiAgjl \n",
      " Yamuna Angajala \n",
      "17\n",
      " saisri Angajala\n",
      "saisri Angajala \n",
      "saisri Angajala\n",
      "True\n",
      "False\n",
      " alajagnA irsias \n"
     ]
    }
   ],
   "source": [
    "name=' saisri Angajala '\n",
    "print(name.upper())\n",
    "print(name.lower())\n",
    "print(name.find('a'))\n",
    "print(name[:])\n",
    "print(name[::2])\n",
    "print(name.replace('saisri' , 'Yamuna'))\n",
    "print(len(name))\n",
    "print(name.rstrip())\n",
    "print(name.lstrip())\n",
    "print(name.strip())\n",
    "print('saisri' in name)#checking whether the substring is present in the string or not..\n",
    "print('Angajala' not in name )\n",
    "print(name[::-1])\n",
    "\n"
   ]
  },
  {
   "cell_type": "markdown",
   "metadata": {},
   "source": [
    "## programm to reverse a string\n",
    "suppose string is 'sai sri angajala' upon reversing it would become 'angajala sri sai'\n",
    "\n",
    "this can be obtained by performing split,reverse and join operations \n",
    "\n",
    "1.first step is to follow is ,take the required string and split it using split function\n",
    "\n",
    "2.reverse operation is valid on the lists ,so reverse the list obtained after spliiting\n",
    "\n",
    "3.now join the words in the list using join method \n",
    "\n",
    "IMportant NOTE :\n",
    "\n",
    "join method ex : ' '.join('hello' ,'saisri') output would be hello saisri(see that they are joined by whitespace)\n",
    "            ex2 : ' k '.join('hello','world') output is hello k world (joined by k)def string_reverse(string) :\n",
    "    "
   ]
  },
  {
   "cell_type": "code",
   "execution_count": 3,
   "metadata": {},
   "outputs": [
    {
     "name": "stdout",
     "output_type": "stream",
     "text": [
      "enter the string : sai sri angajala\n",
      "['angajala', 'sri', 'sai']\n",
      "angajala sri sai\n"
     ]
    }
   ],
   "source": [
    "def string_reverse(string) :\n",
    "    string1 = string.split()\n",
    "    string1.reverse()#note reverse function doesn't return anyting\n",
    "    string2 = \" \".join(string1)\n",
    "    print(string1)\n",
    "    print(string2)\n",
    "\n",
    "string = input('enter the string : ')\n",
    "reverse_string = string_reverse(string)"
   ]
  },
  {
   "cell_type": "code",
   "execution_count": 2,
   "metadata": {},
   "outputs": [
    {
     "name": "stdout",
     "output_type": "stream",
     "text": [
      "character found!\n"
     ]
    }
   ],
   "source": [
    "name='saisri Angajala'\n",
    "if 'a' in name :\n",
    "    print('character found!')\n",
    "else :\n",
    "    print('character not found!')\n",
    "    "
   ]
  },
  {
   "cell_type": "markdown",
   "metadata": {},
   "source": [
    "\n",
    "lists, tuples,dictonaries are some datastructures in the python\n",
    "\n",
    "lists are muttable,that mean the elements of the list can be changed..\n",
    "\n",
    "strings are immutable..\n",
    "\n",
    "lists can contain various data types like strings,floats,integers..\n",
    "\n",
    "slicing and indexing are also possible in the list,there can be lists inside the list..\n",
    "\n",
    "functions in the list \n",
    "\n",
    "1.len(list) find the length of the list..\n",
    "\n",
    "2.sum(list) adds up all the elements of the list..\n",
    "\n",
    "3.list.append(data type) append function adds the new datatype at the end of the list..\n",
    "\n",
    "4.list.sort() sort function sorts the data ,whether it is numerical data or characters based on alphabetical order..\n",
    "\n",
    "5.max(list) find maximum of the list\n",
    "\n",
    "6.min(list) find minimum of the list..\n",
    "\n",
    "important : \n",
    "  list() function is nothing but the empty list \n",
    "  mylist=list().. \n",
    "  mean mylist =[]\n",
    "  by appending function we can add elements into the list and can perform operations on it ,same as array in the C languagge\n",
    "\n",
    "7.list.remove() remove function is used to remove a particular number from the list.. \n",
    "\n",
    "8.we can add  any elements of list by using extend function list.extend([1,2,3])\n",
    "\n",
    "\n",
    "  "
   ]
  },
  {
   "cell_type": "code",
   "execution_count": 5,
   "metadata": {},
   "outputs": [
    {
     "name": "stdout",
     "output_type": "stream",
     "text": [
      "[-1, 2, 3, 1, 99, 100, 32, 10, 11, 12]\n",
      "-1 2 3\n",
      "[2, 3, 1]\n",
      "[-1, 2, [2, 3, 4], 1, 99, 100, 32]\n",
      "3\n",
      "[-1, 2, 1, 99, 100, 32]\n",
      "[-1, 1, 2, 32, 99, 100]\n",
      "[-1, 1, 2, 32, 99, 100, 89]\n",
      "[-1, 1, 2, 32, 99, 100, 89, 12, 13, 14]\n",
      "10\n",
      "361\n",
      "100\n",
      "-1\n",
      "None\n"
     ]
    }
   ],
   "source": [
    "#list operations :\n",
    "s=[-1,2,3,1,99,100,32]\n",
    "a=[10,11,12]\n",
    "print(s+a)  #adding the lists\n",
    "print(s[0] ,s[1],s[2])   #Accessing the elements of the list by indexing..\n",
    "print(s[1:4])  # Accessing the elements by slicing.\n",
    "s[2]=4 # muting the lists, because lists are mutable unlike the lists and tuples..\n",
    "s[2]=[2,3,4] #nested lists..\n",
    "print(s) \n",
    "print(s[2][1]) #Accessing the elements from the nested list\n",
    "s.remove(s[2])  #removing the elements of the list by remove function\n",
    "print(s)\n",
    "s.sort() #sorting the list using sort function\n",
    "print(s)\n",
    "s.append(89)\n",
    "print(s) #Adding the single element using append function at the last of the list..\n",
    "s.extend([12,13,14]) #adding multiple elements at atime using extend function to list at last..\n",
    "print(s)\n",
    "print(len(s))\n",
    "print(sum(s))\n",
    "print(max(s))\n",
    "print(min(s))\n",
    "\n"
   ]
  },
  {
   "cell_type": "code",
   "execution_count": 7,
   "metadata": {},
   "outputs": [
    {
     "name": "stdout",
     "output_type": "stream",
     "text": [
      "1\n",
      "2\n",
      "3\n",
      "4\n",
      "5\n",
      "saisri\n",
      "angajala\n",
      "yamuna\n",
      "sroinivasarao\n",
      "anuradha\n"
     ]
    }
   ],
   "source": [
    "#Accessing the elements of list using for loop\n",
    "s=[1,2,3,4,5]\n",
    "for i in s :\n",
    "    print(i)\n",
    "s=['saisri','angajala' ,'yamuna','sroinivasarao','anuradha']\n",
    "for  i in s :\n",
    "    print(i)    \n",
    "    "
   ]
  },
  {
   "cell_type": "markdown",
   "metadata": {},
   "source": [
    "### Escape characters :\n",
    "\n",
    "suppose if we want the double quotes in the string ,then 'Saisri \"Angajala\"' woulb be our choice ,if we do not want to use the\n",
    "\n",
    "single quotes,then escape characters coe into picture..\n",
    "\n",
    "it is represented by '\\', suppose 'saisri \\\"Angajala\\\" ' output is saisri \"Angajala\",because escape characters allows the next \n",
    "\n",
    "character to it print ,by without printing itselff"
   ]
  },
  {
   "cell_type": "code",
   "execution_count": 8,
   "metadata": {},
   "outputs": [
    {
     "name": "stdout",
     "output_type": "stream",
     "text": [
      "Saisri \"Angajala\" \n"
     ]
    }
   ],
   "source": [
    "\n",
    "course=\"Saisri \\\"Angajala\\\" \"\n",
    "print(course)\n"
   ]
  },
  {
   "cell_type": "markdown",
   "metadata": {},
   "source": [
    "### Formatted strings :\n",
    "\n",
    "first_Name='Saisri'\n",
    "\n",
    "last_Name='Angajala'\n",
    "\n",
    "suppose for concatinating the both the strings we use Full_Nmae=first_Name+\" \" +last_Name\n",
    "\n",
    "but we can use formatted strings to do the same \n",
    "\n",
    "f\"{first_Name} {last_Name}\"\n",
    "\n",
    "also prints the same,the info in the culy braces can be anything..."
   ]
  },
  {
   "cell_type": "code",
   "execution_count": 2,
   "metadata": {},
   "outputs": [
    {
     "name": "stdout",
     "output_type": "stream",
     "text": [
      "Saisri Angajala\n",
      "Saisri Angajala\n",
      "SaisriAngajala\n",
      "Saisri Angajala\n"
     ]
    }
   ],
   "source": [
    "#Formatted strings\n",
    "first_Name='Saisri'\n",
    "last_Name='Angajala'\n",
    "full_Name=first_Name +\" \" +last_Name\n",
    "print(full_Name)\n",
    "fullname=f\"{first_Name} {last_Name}\"\n",
    "print(fullname)\n",
    "fullname=f\"{first_Name}{last_Name}\"\n",
    "print(fullname)\n",
    "fullname=F\"{first_Name} {last_Name}\"\n",
    "print(fullname)"
   ]
  },
  {
   "cell_type": "markdown",
   "metadata": {},
   "source": [
    "## numbers \n",
    "integers\n",
    "\n",
    "floats\n",
    "\n",
    "complex numbers \n",
    "\n",
    "usally complex numbers are represented in the form a+ib weresas in he python they are represented as a+bj\n",
    "\n",
    "x+=3 argumented arguments\n",
    "\n",
    "useful functions in numbers \n",
    "\n",
    "round:rounds the number\n",
    "\n",
    "abs : absolute function like modulus operator,which converts negative to +ve"
   ]
  },
  {
   "cell_type": "code",
   "execution_count": 10,
   "metadata": {},
   "outputs": [
    {
     "name": "stdout",
     "output_type": "stream",
     "text": [
      "3\n",
      "3.3333333333333335\n",
      "4\n",
      "2.3455\n"
     ]
    }
   ],
   "source": [
    "print(10//3) #Actual division with single slash gives the float value ,whereas if we use // it will give the integer quotient\n",
    "print(10/3)\n",
    "print(round(3.8888899999999999999))\n",
    "print(abs(-2.3455))"
   ]
  },
  {
   "cell_type": "markdown",
   "metadata": {},
   "source": [
    "Boolen NOTE: \"\"(Empty string),0,None returns the False everything else returnS True...\n"
   ]
  },
  {
   "cell_type": "code",
   "execution_count": 4,
   "metadata": {},
   "outputs": [
    {
     "name": "stdout",
     "output_type": "stream",
     "text": [
      "2\n",
      "4\n",
      "6\n",
      "8\n",
      "there are 4 even numbers\n"
     ]
    }
   ],
   "source": [
    "count = 0\n",
    "for i in range(1,10) :\n",
    "    if i%2 == 0 :\n",
    "        print(i)\n",
    "        count+=1\n",
    "print(f\"there are {count} even numbers\")        "
   ]
  },
  {
   "cell_type": "markdown",
   "metadata": {},
   "source": [
    "Comparision operators:\n",
    ">\n",
    "<\n",
    "<=\n",
    ">=\n",
    "==\n",
    "!=\n"
   ]
  },
  {
   "cell_type": "code",
   "execution_count": 13,
   "metadata": {},
   "outputs": [
    {
     "name": "stdout",
     "output_type": "stream",
     "text": [
      "True\n",
      "False\n",
      "False\n"
     ]
    }
   ],
   "source": [
    "print(10>3)\n",
    "print(2>=3)\n",
    "print('saisri' < 'Angajala')"
   ]
  },
  {
   "cell_type": "code",
   "execution_count": 3,
   "metadata": {},
   "outputs": [
    {
     "name": "stdout",
     "output_type": "stream",
     "text": [
      "eligible\n",
      "eligible\n"
     ]
    }
   ],
   "source": [
    "#Ternary operators \n",
    "age=22\n",
    "if age >= 18 :\n",
    "    print('eligible')\n",
    "else :\n",
    "    print('Not eligible')\n",
    "#we  can whole if else loop in a single line of code \n",
    "message='eligible' if age >= 18 else 'in eligible' #this is like simple english languge\n",
    "print(message)"
   ]
  },
  {
   "cell_type": "markdown",
   "metadata": {},
   "source": [
    "#logical operators \n",
    "and, \n",
    "or ,\n",
    "not ,are called the logical operators..\n"
   ]
  },
  {
   "cell_type": "code",
   "execution_count": 9,
   "metadata": {},
   "outputs": [
    {
     "name": "stdout",
     "output_type": "stream",
     "text": [
      "Pass\n",
      "Eligible\n",
      "substring\n"
     ]
    }
   ],
   "source": [
    "Grade='A'\n",
    "credits=3\n",
    "if Grade == 'A' and credits == 3 :\n",
    "    print('Pass')\n",
    "else :\n",
    "    print('fail')\n",
    "#and operator returns the boolen True if the all the conditions in the conditional statements are true..\n",
    "age = 17\n",
    "if age >= 18 or age >= 16 :\n",
    "    print('Eligible')\n",
    "else :\n",
    "    print('Not eligible')\n",
    "#or operator retrns the boolean True if any one of the condition is true..\n",
    "name='saisri angajala'\n",
    "if 'saisri' not in name :\n",
    "    print('not a substring')\n",
    "else :\n",
    "    print('substring')"
   ]
  },
  {
   "cell_type": "markdown",
   "metadata": {},
   "source": [
    "chaining comparision operators :\n",
    "suppose let us take a example ,that if a man is eligible for the interview if he was b/w age 18 and 65\n"
   ]
  },
  {
   "cell_type": "code",
   "execution_count": 2,
   "metadata": {},
   "outputs": [
    {
     "name": "stdout",
     "output_type": "stream",
     "text": [
      "Eligible\n",
      "Eligible\n"
     ]
    }
   ],
   "source": [
    "#code for chaining operators :\n",
    "age=22\n",
    "if age >= 18 and age < 65 :\n",
    "    print('Eligible')\n",
    "else :\n",
    "    print('Ineligible')\n",
    "#we can write the piece of code in the below way too\n",
    "if 18 <= age < 65 : #<---- this is chaining operators\n",
    "    print('Eligible')\n",
    "else :\n",
    "    print('Ineligible')\n",
    "    "
   ]
  },
  {
   "cell_type": "markdown",
   "metadata": {},
   "source": [
    "### range function \n",
    "\n",
    "syntax is range(starting from,ending,jump)\n",
    "\n",
    "note that In range ending value is not counted \n",
    "\n",
    "suppose range(1,10) it will iterates from 1 to 9 \n",
    "\n",
    "suppose range(3) ,by default it will set the starting =0,and step=1 if they are not mentioned ,so this will print 0 ,1,2\n"
   ]
  },
  {
   "cell_type": "code",
   "execution_count": 12,
   "metadata": {},
   "outputs": [
    {
     "name": "stdout",
     "output_type": "stream",
     "text": [
      "1\n",
      "3\n",
      "5\n",
      "7\n",
      "9\n"
     ]
    }
   ],
   "source": [
    "for i in range(1,11,2) :\n",
    "    print(i)"
   ]
  },
  {
   "cell_type": "markdown",
   "metadata": {},
   "source": [
    "### functions \n",
    "\n",
    "functions are the most significant concept in the any programming language \n",
    "\n",
    "def function name (arguments ) : #syntax for defining the functions\n",
    "\n",
    "here def is keyword indicating that we are defining the function,return statement is optional\n",
    "    \n",
    "    "
   ]
  },
  {
   "cell_type": "code",
   "execution_count": 2,
   "metadata": {},
   "outputs": [
    {
     "name": "stdout",
     "output_type": "stream",
     "text": [
      "found\n"
     ]
    }
   ],
   "source": [
    "#function to check even number is part of the list or not \n",
    "def even_check(list2) :\n",
    "    for number in list2 :\n",
    "        if number % 2 == 0 :\n",
    "            return 'found'\n",
    "        else :\n",
    "            pass #passs mean 'do nothing'\n",
    "\n",
    "list1=[1,2,3,4,5]\n",
    "result = even_check(list1)\n",
    "print(result)\n",
    "#Important note :\n",
    "#function terminates once it encountered the return statement"
   ]
  },
  {
   "cell_type": "code",
   "execution_count": 3,
   "metadata": {},
   "outputs": [
    {
     "name": "stdout",
     "output_type": "stream",
     "text": [
      "not found\n"
     ]
    }
   ],
   "source": [
    "def even_check(list2) :\n",
    "    for number in list2 :\n",
    "        if number % 2 == 0 :\n",
    "            return 'found'\n",
    "        else :\n",
    "            return 'not found'\n",
    "\n",
    "list1=[1,2,3,4,5]\n",
    "result = even_check(list1)\n",
    "print(result)\n",
    "# the result is not found,even though there is a even in the list because ,first function execution gets started,as first \n",
    "#element of the list is odd,if loop terminates and else will execute,as it encountered the return statement it returs the vallue\n",
    "#and terminates the function execution,so the remaining elements are not even checked.."
   ]
  },
  {
   "cell_type": "code",
   "execution_count": 4,
   "metadata": {},
   "outputs": [
    {
     "name": "stdout",
     "output_type": "stream",
     "text": [
      "[2, 4, 6, 8, 10]\n"
     ]
    }
   ],
   "source": [
    "#returning the multiple values from function\n",
    "def even_numbers_list (list1) :\n",
    "    even_list = list()\n",
    "    for number in list1 :\n",
    "        if number % 2 == 0 :\n",
    "            even_list.append(number)\n",
    "        else :\n",
    "            pass\n",
    "    return even_list \n",
    "list1 = [1,2,3,4,5,6,7,8,9,10]\n",
    "list2 = even_numbers_list(list1)\n",
    "print(list2)"
   ]
  },
  {
   "cell_type": "code",
   "execution_count": 5,
   "metadata": {},
   "outputs": [
    {
     "name": "stdout",
     "output_type": "stream",
     "text": [
      "('anuradha', 3000)\n",
      "anuradha\n",
      "3000\n",
      "employee of the year is anuradha ,he worked for 3000 hours : \n"
     ]
    }
   ],
   "source": [
    "#unpacking the tuple :\n",
    "#finding the employee of the year problem\n",
    "def employe_of_year(list2) :\n",
    "    employee = ''\n",
    "    working_hours = 0\n",
    "    for employe ,hours in list2 :\n",
    "        if hours > working_hours :\n",
    "            working_hours = hours\n",
    "            employee = employe\n",
    "    return  (employee,working_hours) #returning tuple  \n",
    "list1 = [('saisri',400),('yamuna',2000),('anuradha',3000)]\n",
    "employee = employe_of_year(list1)\n",
    "print(employee) # or we can seperate employee name and working hours from tuple too\n",
    "employee,hours = employe_of_year(list1) #assinging employee name to employee variable and working hours to hours variable\n",
    "print(employee)\n",
    "print(hours)\n",
    "print(f\"employee of the year is {employee} ,he worked for {hours} hours : \")"
   ]
  },
  {
   "cell_type": "code",
   "execution_count": 6,
   "metadata": {},
   "outputs": [
    {
     "name": "stdout",
     "output_type": "stream",
     "text": [
      "[3, 8, 4, 6, 7, 2, 1]\n"
     ]
    }
   ],
   "source": [
    "#shuffling game \n",
    "from random import shuffle\n",
    "list1 = [1,3,4,6,7,2,8]\n",
    "shuffle(list1)\n",
    "print(list1) #shuffle in the random module shuffles the list,it does not return anything,it modifis the original list itself"
   ]
  },
  {
   "cell_type": "code",
   "execution_count": 17,
   "metadata": {},
   "outputs": [
    {
     "name": "stdout",
     "output_type": "stream",
     "text": [
      "PLZ enter your choice : 2\n",
      "SORRY YOU LOST,PLZ TRY AGAIN .... \n",
      "['O', '', '']\n"
     ]
    }
   ],
   "source": [
    "#shuffle game \n",
    "from random import shuffle\n",
    "def shuffling(list1) :\n",
    "    shuffle(list1)\n",
    "    return list1\n",
    "def guess_by_player() :\n",
    "    guess = input('PLZ enter your choice : ' )\n",
    "    while int(guess) not in [0,1,2] :\n",
    "         guess = input('PLZ choose a valid option : ' )\n",
    "    return int(guess)\n",
    "def cross_checking_guess(list1,guess) :\n",
    "    if list1[guess] == 'O' :\n",
    "        print('YOU WON!.....')\n",
    "    else :\n",
    "        print('SORRY YOU LOST,PLZ TRY AGAIN .... ')\n",
    "        \n",
    "list1 = ['','O','']\n",
    "shuffled_list = shuffling(list1)\n",
    "player_guess = guess_by_player()\n",
    "cross_checking_guess(shuffled_list,player_guess)\n",
    "print(shuffled_list)"
   ]
  },
  {
   "cell_type": "markdown",
   "metadata": {},
   "source": [
    "*args(shorcut of arguments) ,**kwargs(shortcut of keyword arguments)\n",
    "*args returns the tuple,where as the **kwargs returns the dictonary.."
   ]
  },
  {
   "cell_type": "code",
   "execution_count": 3,
   "metadata": {},
   "outputs": [
    {
     "name": "stdout",
     "output_type": "stream",
     "text": [
      "(10, 20, 30, 40, 50)\n",
      "150\n"
     ]
    }
   ],
   "source": [
    "#code describing the *args and **kwargs\n",
    "def my_function(*args) :\n",
    "    print(args)\n",
    "    sum1=sum(args)#summing the all the arguments..\n",
    "    print(sum1)\n",
    "my_function(10,20,30,40,50)   #so we can pass any number of arguments,and can do operations on it "
   ]
  },
  {
   "cell_type": "code",
   "execution_count": 4,
   "metadata": {},
   "outputs": [
    {
     "name": "stdout",
     "output_type": "stream",
     "text": [
      "{'fruit': 23, 'orange': 35, 'banana': 42}\n"
     ]
    }
   ],
   "source": [
    "def my_function(**kwargs) :\n",
    "    print(kwargs)\n",
    "my_function(fruit = 23 ,orange = 35, banana = 42)  #so it takes the arguments and makes the dictoonary out of it.. "
   ]
  },
  {
   "cell_type": "code",
   "execution_count": 6,
   "metadata": {},
   "outputs": [
    {
     "name": "stdout",
     "output_type": "stream",
     "text": [
      "(10, 20, 30, 40)\n",
      "{'saisri': 23, 'yamuna': 78, 'anuradha': 'angajala'}\n"
     ]
    }
   ],
   "source": [
    "#we can pass arguments to make tuple and dictonary using same function\n",
    "def my_function(*args, **kwargs) :\n",
    "    print(args)\n",
    "    print(kwargs)\n",
    "my_function(10,20,30,40,saisri = 23, yamuna = 78, anuradha = 'angajala')    "
   ]
  },
  {
   "cell_type": "code",
   "execution_count": 19,
   "metadata": {},
   "outputs": [
    {
     "name": "stdout",
     "output_type": "stream",
     "text": [
      "Enter a two word string : saisri sai\n",
      "True\n"
     ]
    }
   ],
   "source": [
    "def two_word_string(string) :\n",
    "    string1 = string.split()\n",
    "    if len(string1) is not 2 :\n",
    "        print('Plz enter a two word string only : ' )\n",
    "    else :\n",
    "        if string1[0][0] is string1[1][0] :\n",
    "            return True\n",
    "        else :\n",
    "            return False\n",
    "string = input('Enter a two word string : ')\n",
    "result = two_word_string(string)\n",
    "if result is None :\n",
    "    pass\n",
    "else :\n",
    "    print(result)"
   ]
  },
  {
   "cell_type": "markdown",
   "metadata": {},
   "source": [
    "### dictonaries \n",
    "\n",
    "dictonaries are used for locating the value exactly without using the indexing concept..\n",
    "\n",
    "syntax is {'key1' : value1, 'key2' :value2, 'key3' :value3}\n",
    "\n",
    "note that key value in the dictonaries are must be strings,values may be any datatype...\n",
    "\n",
    "NOTE :dictonary is unorderd unlike the list,we cannot access the elements in the same sequence as we entered...\n",
    "\n",
    "if we run the for loop over the dict by default we get only key values : \n",
    "\n",
    "we can access either only keys or values by following dictonary.keys() or dictonary.values()\n",
    "\n",
    "by using dictonary.items() function we can access both the keys and values\n"
   ]
  },
  {
   "cell_type": "code",
   "execution_count": 7,
   "metadata": {},
   "outputs": [
    {
     "name": "stdout",
     "output_type": "stream",
     "text": [
      "2\n",
      "key1\n",
      "key2\n",
      "key3\n",
      "key1\n",
      "key2\n",
      "key3\n",
      "2\n",
      "3\n",
      "4\n",
      "key1 2\n",
      "key2 3\n",
      "key3 4\n"
     ]
    }
   ],
   "source": [
    "dicton = {'key1' :2 , 'key2' : 3, 'key3' :4}\n",
    "print(dicton['key1'])\n",
    "#elements are accessed by using the key values\n",
    "for item in dicton :\n",
    "    print(item)\n",
    "for item in dicton.keys() :\n",
    "    print(item)\n",
    "for item in dicton.values() :\n",
    "    print(item)\n",
    "for keys , values in dicton.items():\n",
    "    print(keys ,values)"
   ]
  },
  {
   "cell_type": "markdown",
   "metadata": {},
   "source": [
    "### Sets\n",
    "sets is anotehr type data structure in python,it is similar to tuple but it contains only unique elementts \n",
    "\n",
    "synax for sets is set = {1,2,3}\n",
    "\n",
    "we caonvert list into set or set into list..\n",
    "\n",
    "set() gives the empty set like dict() list() str()\n",
    "\n",
    "we can add elements to set by .add() like .append() in list..\n",
    "\n",
    "sets are immutable,if we want to perform operations convert it into list perform operstion and convert back to set again"
   ]
  },
  {
   "cell_type": "code",
   "execution_count": 18,
   "metadata": {},
   "outputs": [
    {
     "name": "stdout",
     "output_type": "stream",
     "text": [
      "1\n",
      "2\n",
      "3\n",
      "4\n",
      "5\n",
      "{1, 2, 3, 4, 5, 66, 6, 7}\n",
      "{0, 1, 2, 3, 4, 5, 6, 7, 8, 9, 10}\n"
     ]
    }
   ],
   "source": [
    "sets ={1,2,3,4,5}\n",
    "for i in sets :\n",
    "    print(i)\n",
    "lists = [1,2,2,3,3,4,5,5,5,5,66,6,6,7,7,7]\n",
    "set1 =set(lists)#while converting into set it omitted the duplicarte elements\n",
    "print(set1)\n",
    "set2 = set()\n",
    "for i in range(0,11) :\n",
    "    set2.add(i)\n",
    "print(set2)\n"
   ]
  },
  {
   "cell_type": "markdown",
   "metadata": {},
   "source": [
    "### useful functions in pyhton \n",
    "\n",
    "1.range()\n",
    "\n",
    "2.zip()\n",
    "\n",
    "3.enumerate()\n",
    "\n",
    "4.input()\n",
    "\n",
    "ENUMERATE :is used to access the elements with its index value ,they are like tuples,we can access them indivdually by tuple \n",
    "\n",
    "unpacking method..it can apply on anything like list ,string,dctonary.. "
   ]
  },
  {
   "cell_type": "code",
   "execution_count": 30,
   "metadata": {},
   "outputs": [
    {
     "name": "stdout",
     "output_type": "stream",
     "text": [
      "(0, 's')\n",
      "(1, 'a')\n",
      "(2, 'i')\n",
      "(3, 's')\n",
      "(4, 'r')\n",
      "(5, 'i')\n",
      "(0, 11)\n",
      "(1, 12)\n",
      "(2, 13)\n",
      "(3, 14)\n",
      "(4, 15)\n",
      "(5, 16)\n",
      "(6, 17)\n",
      "(7, 18)\n",
      "(8, 19)\n",
      "(9, 20)\n",
      "index is 0 and its value is 11\n",
      "index is 1 and its value is 12\n",
      "index is 2 and its value is 13\n",
      "index is 3 and its value is 14\n",
      "index is 4 and its value is 15\n",
      "index is 5 and its value is 16\n",
      "index is 6 and its value is 17\n",
      "index is 7 and its value is 18\n",
      "index is 8 and its value is 19\n",
      "index is 9 and its value is 20\n",
      "key is 0 and value is key1\n",
      "key is 1 and value is key2\n",
      "key is 2 and value is key3\n"
     ]
    }
   ],
   "source": [
    "string = 'saisri'\n",
    "for character in enumerate(string):\n",
    "    print(character)\n",
    "mylist = [i for i in range(11,21)] #list compression\n",
    "for i in enumerate(mylist) :\n",
    "    print(i)\n",
    "# unpacking the tuple \n",
    "for index ,value in enumerate(mylist) :\n",
    "    print(f'index is {index} and its value is {value}')#formatted string way1 \n",
    "#for dictonary\n",
    "dicton = {'key1' :2 , 'key2' : 3, 'key3' :4}\n",
    "for key ,value in enumerate(dicton) :\n",
    "    print('key is {} and value is {}'.format(key ,value))#formatted sring way2\n"
   ]
  },
  {
   "cell_type": "markdown",
   "metadata": {},
   "source": [
    "zip is used to concatenate the two lists in the form of tuple ..\n",
    "we can also do tuple unpacking..."
   ]
  },
  {
   "cell_type": "code",
   "execution_count": 35,
   "metadata": {},
   "outputs": [
    {
     "name": "stdout",
     "output_type": "stream",
     "text": [
      "('a', 1)\n",
      "('b', 2)\n",
      "('c', 3)\n",
      "('d', 4)\n",
      "\n",
      "\n",
      "('a', 1, 2)\n",
      "('b', 2, 4)\n",
      "('c', 3, 5)\n",
      "('d', 4, 6)\n",
      "\n",
      "\n",
      "('a', 1, 2)\n",
      "('b', 2, 4)\n",
      "('c', 3, 5)\n",
      "('d', 4, 6)\n"
     ]
    }
   ],
   "source": [
    "list1 = ['a' ,'b','c', 'd']\n",
    "list2 =[1,2,3,4]\n",
    "list3 = [2,4,5,6]\n",
    "for item in zip(list1,list2):#syntax is zip(list1,list2)\n",
    "    print(item)#we can use any number of lists\n",
    "print('\\n')    \n",
    "for item in zip(list1,list2,list3):\n",
    "    print(item)\n",
    "#if the elements are more in any one of the list it takes only the elemnts in shortest list..\n",
    "print('\\n')\n",
    "list1 = ['a' ,'b','c', 'd']\n",
    "list2 =[1,2,3,4,5,6,7]\n",
    "list3 = [2,4,5,6,5]\n",
    "for item in zip(list1,list2,list3): #as here shortest i.e list1 has 4 elements so output would be also 4 tuples,it omitss rest\n",
    "    print(item)"
   ]
  },
  {
   "cell_type": "markdown",
   "metadata": {},
   "source": [
    "## OBJECT ORIENTED PROGRAMMING:\n",
    "\n",
    "we have some methods in lists ,dictonaries,tuples etc like append ,sort,in lists..add in tuples etc..\n",
    "\n",
    "we can also create our own methods and attributes,that is known as Oject Orieted Programming(OOP) ..it has much scope in the \n",
    "\n",
    "future..\n",
    "\n",
    "let us look how can we create our own methods and attributess..\n",
    "\n"
   ]
  },
  {
   "cell_type": "code",
   "execution_count": 7,
   "metadata": {},
   "outputs": [
    {
     "name": "stdout",
     "output_type": "stream",
     "text": [
      "10\n",
      "lab\n",
      "frankie\n"
     ]
    }
   ],
   "source": [
    "#syntax for creating\n",
    "class dog() :\n",
    "    def __init__(self,breed,name,age) : #init mean instance..\n",
    "        self.breed = breed  #----->\n",
    "        self.name = name    #-----> these are all user_defined attributes\n",
    "        self.age = age      #----->\n",
    "dog_details = dog('lab','frankie' ,10)\n",
    "print(dog_details.age)\n",
    "print(dog_details.breed)\n",
    "print(dog_details.name)\n",
    "#when we hit the tab button after the variable(dog_details here) wewould see list of attributes and methods ..\n",
    "# note there are 2 underscores before and after init\n",
    "#here attributes are breed name &age ,see self.breed = breed (note what we defined in self.something would become attribute but\n",
    "# after the = one suppose self.mybreed = breed,here mybreed would be an attributor but  not breed)\n",
    "#there are2 tyoes of attributes,one is class defined and another is user defined attributes,class defined attributes do not \n",
    "#require self keyword for determining,and they are unique to class"
   ]
  },
  {
   "cell_type": "code",
   "execution_count": 9,
   "metadata": {},
   "outputs": [
    {
     "name": "stdout",
     "output_type": "stream",
     "text": [
      "10\n",
      "lab\n",
      "frankie\n",
      "dog barks wooff!!!\n"
     ]
    }
   ],
   "source": [
    "#class attributes and methods..methods aare nothing but functions in class,we use append(),sort() etc \n",
    "#tehy are pre defined methods in the list class,nothing but functions that do specific tasks when we apply on list varible..\n",
    "class dog() :\n",
    "    owner = 'saisri' #---->this is class attribute..\n",
    "    def __init__(self,breed,name,age) : #init mean instance..\n",
    "        self.breed = breed  #----->\n",
    "        self.name = name    #-----> these are all user_defined attributes\n",
    "        self.age = age      #----->\n",
    "    #methods in class\n",
    "    def bark(self) : #self is must and should inorder to identify it as attribute or method..see we defined method bark as func \n",
    "        print('dog barks wooff!!!')\n",
    "dog_details = dog('lab','frankie' ,10)\n",
    "print(dog_details.age)\n",
    "print(dog_details.breed)  #Atributes\n",
    "print(dog_details.name)\n",
    "dog_details.bark()  #Method ,note the difference..\n",
    "#the difference b/w attribute and method is method includes braces like list.sort() ,list.append(),\n",
    "#whereas attributes did n't..\n",
    "\n",
    "\n"
   ]
  },
  {
   "cell_type": "code",
   "execution_count": 11,
   "metadata": {},
   "outputs": [
    {
     "name": "stdout",
     "output_type": "stream",
     "text": [
      "10\n",
      "lab\n",
      "frankie\n",
      "dog name is frankie ,it's breed is lab it's age is 10 \n",
      "it's owner is saisri\n"
     ]
    }
   ],
   "source": [
    "# we can also use user_defined & class attributes in methods..\n",
    "class dog() :\n",
    "    owner = 'saisri' #---->this is class attribute..\n",
    "    def __init__(self,breed,name,age) : #init mean instance..\n",
    "        self.breed = breed  #----->\n",
    "        self.name = name    #-----> these are all user_defined attributes\n",
    "        self.age = age      #----->\n",
    "    #methods in class\n",
    "    def bark(self) : #self is must and should inorder to identify it as attribute or method..see we defined method bark as func \n",
    "        print(f\"dog name is {self.name} ,it's breed is {self.breed} it's age is {self.age} \")\n",
    "        print(\"it's owner is {}\".format(self.owner))\n",
    "#Note we have used attributes in the method.. \n",
    "dog_details = dog('lab','frankie' ,10)\n",
    "print(dog_details.age)\n",
    "print(dog_details.breed)  #Atributes\n",
    "print(dog_details.name)\n",
    "dog_details.bark() "
   ]
  },
  {
   "cell_type": "code",
   "execution_count": 18,
   "metadata": {},
   "outputs": [
    {
     "ename": "AttributeError",
     "evalue": "'dog' object has no attribute 'spots'",
     "output_type": "error",
     "traceback": [
      "\u001b[1;31m---------------------------------------------------------------------------\u001b[0m",
      "\u001b[1;31mAttributeError\u001b[0m                            Traceback (most recent call last)",
      "\u001b[1;32m<ipython-input-18-20dd6807f73b>\u001b[0m in \u001b[0;36m<module>\u001b[1;34m\u001b[0m\n\u001b[0;32m     17\u001b[0m                 \u001b[0mprint\u001b[0m\u001b[1;33m(\u001b[0m\u001b[1;34m'dog barks wofff'\u001b[0m\u001b[1;33m)\u001b[0m\u001b[1;33m\u001b[0m\u001b[1;33m\u001b[0m\u001b[0m\n\u001b[0;32m     18\u001b[0m \u001b[0mdog_details\u001b[0m \u001b[1;33m=\u001b[0m \u001b[0mdog\u001b[0m\u001b[1;33m(\u001b[0m\u001b[1;33m)\u001b[0m\u001b[1;33m\u001b[0m\u001b[1;33m\u001b[0m\u001b[0m\n\u001b[1;32m---> 19\u001b[1;33m \u001b[0mdog_details\u001b[0m\u001b[1;33m.\u001b[0m\u001b[0mspots\u001b[0m\u001b[1;33m\u001b[0m\u001b[1;33m\u001b[0m\u001b[0m\n\u001b[0m\u001b[0;32m     20\u001b[0m \u001b[1;31m#animal and dog attibutes when we try to access spots attribute which  is not in dog it is showing error,we can get\u001b[0m\u001b[1;33m\u001b[0m\u001b[1;33m\u001b[0m\u001b[1;33m\u001b[0m\u001b[0m\n\u001b[0;32m     21\u001b[0m \u001b[1;31m#that attribute into dog class by inheritence\u001b[0m\u001b[1;33m\u001b[0m\u001b[1;33m\u001b[0m\u001b[1;33m\u001b[0m\u001b[0m\n",
      "\u001b[1;31mAttributeError\u001b[0m: 'dog' object has no attribute 'spots'"
     ]
    }
   ],
   "source": [
    "#Inheritence in OOP..It mean calling one class into another class ,and using that class attributes and methods...\n",
    "class Animal() :\n",
    "     \n",
    "        def __init__(self ,gender = 'male',spots = 'no') :\n",
    "            self.gender = gender\n",
    "            self.spots = spots\n",
    "        def  speak(self) :\n",
    "            print(\"every animal has it's unique way of expresing\" )\n",
    "class dog() :\n",
    "      \n",
    "        def __init__(self,breed='lab',name='farnkie',age = '10') :\n",
    "               \n",
    "                self.breed = breed\n",
    "                self.name = name\n",
    "                self.age = age\n",
    "        def bark(self) :\n",
    "                print('dog barks wofff')\n",
    "dog_details = dog()\n",
    "dog_details.spots\n",
    "#when we try to access spots attribute which  is not in dog it is showing error,we can get \n",
    "#that attribute into dog class by inheritence"
   ]
  },
  {
   "cell_type": "code",
   "execution_count": 2,
   "metadata": {},
   "outputs": [
    {
     "name": "stdout",
     "output_type": "stream",
     "text": [
      "male\n",
      "no\n",
      "10\n",
      "lab\n",
      "farnkie\n",
      "dog barks wofff\n",
      "every animal has it's unique way of expresing\n"
     ]
    }
   ],
   "source": [
    "class Animal() :\n",
    "     \n",
    "        def __init__(self ,gender = 'male',spots = 'no') :\n",
    "            self.gender = gender\n",
    "            self.spots = spots\n",
    "        def  speak(self) :\n",
    "            print(\"every animal has it's unique way of expresing\" )\n",
    "        def who_am_i(self) :\n",
    "            print('I am an animal..')\n",
    "class dog(Animal) : #-->inherting 1\n",
    "      \n",
    "        def __init__(self,breed='lab',name='farnkie',age = '10') :\n",
    "                Animal.__init__(self)#  inherting the  base class (see syntax [class name.__init__(self)])\n",
    "                self.breed = breed\n",
    "                self.name = name\n",
    "                self.age = age\n",
    "        def bark(self) :\n",
    "                print('dog barks wofff')\n",
    "dog_details = dog()\n",
    "print(dog_details.gender)\n",
    "print(dog_details.spots)  #Attributes of base class\n",
    "print(dog_details.age)\n",
    "print(dog_details.breed)  #Atributes of sub class \n",
    "print(dog_details.name)\n",
    "dog_details.bark()\n",
    "dog_details.speak() #if you press tab here you can see attributes & methods which are in both animal & dog class \n",
    "#so we can get attributes from another class to without defining here..."
   ]
  },
  {
   "cell_type": "code",
   "execution_count": 3,
   "metadata": {},
   "outputs": [
    {
     "name": "stdout",
     "output_type": "stream",
     "text": [
      "male\n",
      "no\n",
      "10\n",
      "lab\n",
      "farnkie\n",
      "dog barks wofff\n",
      "every animal has it's unique way of expresing\n",
      "I am an animal..\n"
     ]
    }
   ],
   "source": [
    "#We can change the methods in one class by inherting...\n",
    "class Animal() :\n",
    "     \n",
    "        def __init__(self ,gender = 'male',spots = 'no') :\n",
    "            self.gender = gender\n",
    "            self.spots = spots\n",
    "        def  speak(self) :\n",
    "            print(\"every animal has it's unique way of expresing\" )\n",
    "        def who_am_i(self) :\n",
    "            print('I am an animal..')\n",
    "class dog(Animal) : #-->inherting 1\n",
    "      \n",
    "        def __init__(self,breed='lab',name='farnkie',age = '10') :\n",
    "                Animal.__init__(self)#  inherting the  base class (see syntax [class name.__init__(self)])\n",
    "                self.breed = breed\n",
    "                self.name = name\n",
    "                self.age = age\n",
    "        def bark(self) :\n",
    "                print('dog barks wofff')\n",
    "dog_details = dog()\n",
    "print(dog_details.gender)\n",
    "print(dog_details.spots)  #Attributes of base class\n",
    "print(dog_details.age)\n",
    "print(dog_details.breed)  #Atributes of sub class \n",
    "print(dog_details.name)\n",
    "dog_details.bark()\n",
    "dog_details.speak() \n",
    "dog_details.who_am_i() #see here output is animal\n"
   ]
  },
  {
   "cell_type": "code",
   "execution_count": 6,
   "metadata": {},
   "outputs": [
    {
     "name": "stdout",
     "output_type": "stream",
     "text": [
      "male\n",
      "no\n",
      "10\n",
      "lab\n",
      "farnkie\n",
      "dog barks wofff\n",
      "every animal has it's unique way of expresing\n",
      "i am a dog\n",
      "I am an animal..\n"
     ]
    }
   ],
   "source": [
    "class Animal() :\n",
    "     \n",
    "        def __init__(self ,gender = 'male',spots = 'no') :\n",
    "            self.gender = gender\n",
    "            self.spots = spots\n",
    "        def  speak(self) :\n",
    "            print(\"every animal has it's unique way of expresing\" )\n",
    "        def who_am_i(self) :\n",
    "            print('I am an animal..')\n",
    "class dog(Animal) : #-->inherting 1\n",
    "      \n",
    "        def __init__(self,breed='lab',name='farnkie',age = '10') :\n",
    "                Animal.__init__(self)#  inherting the  base class (see syntax [class name.__init__(self)])\n",
    "                self.breed = breed\n",
    "                self.name = name\n",
    "                self.age = age\n",
    "        def bark(self) :\n",
    "                print('dog barks wofff')\n",
    "        def who_am_i(self) :\n",
    "            print(\"i am a dog\")\n",
    "dog_details = dog()\n",
    "print(dog_details.gender)\n",
    "print(dog_details.spots)  #Attributes of base class\n",
    "print(dog_details.age)\n",
    "print(dog_details.breed)  #Atributes of sub class \n",
    "print(dog_details.name)\n",
    "dog_details.bark()\n",
    "dog_details.speak() \n",
    "dog_details.who_am_i() #see here output is dog.. ,but it doesn't change in base class\n",
    "ani =Animal()\n",
    "ani.who_am_i() # see here in base class ,still output is animal..plz be causious.."
   ]
  },
  {
   "cell_type": "code",
   "execution_count": 7,
   "metadata": {},
   "outputs": [
    {
     "name": "stdout",
     "output_type": "stream",
     "text": [
      "<__main__.book object at 0x00000272692DEB48>\n"
     ]
    }
   ],
   "source": [
    "class book() :\n",
    "    def __init__(self,book = 'python' ,author = 'saisri' ,pages = 200 ) :\n",
    "        self.book = book\n",
    "        self.author = author\n",
    "        self.pages = pages \n",
    "b = book()\n",
    "print(b) #it shows it's location..\n",
    "#print function checks for string,if it has string type it prints ,else shows location..so we should convert class into str\n"
   ]
  },
  {
   "cell_type": "code",
   "execution_count": 1,
   "metadata": {},
   "outputs": [
    {
     "name": "stdout",
     "output_type": "stream",
     "text": [
      "book name is python ,author is saisri\n"
     ]
    },
    {
     "data": {
      "text/plain": [
       "200"
      ]
     },
     "execution_count": 1,
     "metadata": {},
     "output_type": "execute_result"
    }
   ],
   "source": [
    "class book() :\n",
    "    def __init__(self,book = 'python' ,author = 'saisri' ,pages = 200 ) :\n",
    "        self.book = book\n",
    "        self.author = author\n",
    "        self.pages = pages \n",
    "    def __str__(self) :  #converting to string type..\n",
    "        return f'book name is {self.book} ,author is {self.author}'\n",
    "    def __len__(self) :\n",
    "        return self.pages\n",
    "b = book()\n",
    "print(b) #print function .. in this way onlypre defined functions like print(),max(),min(),len() are created.. for diffrent \n",
    "#clsses like lists,strings,dictonaries...\n",
    "len(b)#len function\n",
    "#in the str function we should"
   ]
  },
  {
   "cell_type": "markdown",
   "metadata": {},
   "source": [
    "### lambda functions\n",
    "#lamba functions or Anynonmus functions\n",
    "\n",
    "#lambda func or functions which does not use def keyword\n",
    "\n",
    "#they are single line functions\n",
    "\n",
    "#they return expression but not values.\n",
    "\n",
    "#they cannot access the global variables..\n",
    "\n",
    "#syntax is (lambda arguments : expression ) argum can be any number,but expression should be only one..."
   ]
  },
  {
   "cell_type": "code",
   "execution_count": 1,
   "metadata": {},
   "outputs": [
    {
     "name": "stdout",
     "output_type": "stream",
     "text": [
      "5\n"
     ]
    }
   ],
   "source": [
    "\n",
    "sum = lambda x,y : x+y\n",
    "print(sum(2,3))"
   ]
  },
  {
   "cell_type": "markdown",
   "metadata": {},
   "source": [
    "### map function \n",
    "#map func is used when we want to apply a function on all the elements in iterables(iterables are nothing but which can loop,ex:\n",
    "\n",
    "#lisst,tuple,string)\n",
    "\n",
    "#syntax is map(function,iterable)"
   ]
  },
  {
   "cell_type": "code",
   "execution_count": 8,
   "metadata": {},
   "outputs": [
    {
     "name": "stdout",
     "output_type": "stream",
     "text": [
      "[5, 7, 9, 11]\n",
      "[1, 4, 9, 16]\n",
      "<map object at 0x000001E512BD0F08>\n"
     ]
    }
   ],
   "source": [
    "\n",
    "def add(x,y) :\n",
    "    return x+y\n",
    "list1 = [1,2,3,4]\n",
    "list2 = [4,5,6,7]\n",
    "l = list(map(add,list1,list2))\n",
    "print(l)\n",
    "#square \n",
    "def square(x) :\n",
    "    return x*x\n",
    "ls = list(map(square,list1))#square is a function ,and list1 is iterable,so using map we cal square of every element\n",
    "print(ls)\n",
    "st = 'saisri'\n",
    "p= list(map(lambda x : x.upper(),st)) #here we used lambada and map function to captailise every char in str...\n",
    "print(p)\n",
    "#if we not use list map will return the address of the object..\n"
   ]
  },
  {
   "cell_type": "code",
   "execution_count": 15,
   "metadata": {},
   "outputs": [
    {
     "name": "stdout",
     "output_type": "stream",
     "text": [
      "(0, 2, 4, 6, 8)\n",
      "[3, 4, 5, 6, 7, 8, 9]\n",
      "[1, 2, 3, 4, 5, 6, 7, 8, 9]\n"
     ]
    }
   ],
   "source": [
    "#filter func\n",
    "#syntsx is filter(func,iterable)\n",
    "#filter func returns value when func applied on elements is true..\n",
    "list1 = [x for x in range(10)] #list compression\n",
    "even= tuple(filter(lambda x : x % 2 == 0,list1))\n",
    "print(even)\n",
    "s= list(filter(lambda x : x >2 ,list1)) #func is true only fro nums above 2\n",
    "print(s)\n",
    "s= list(filter(lambda x : x  ,list1)) #here the func is always true..so it returns all the values..\n",
    "print(s)\n",
    "\n"
   ]
  },
  {
   "cell_type": "code",
   "execution_count": 12,
   "metadata": {},
   "outputs": [
    {
     "data": {
      "text/plain": [
       "'Hello'"
      ]
     },
     "execution_count": 12,
     "metadata": {},
     "output_type": "execute_result"
    }
   ],
   "source": [
    "#overview of decorators in python..\n",
    "#suppose there is a func ,if we wnat to add something to that func,we should modify it,after if we need no modification,we \n",
    "#again overwrite it and get original func back,decoratores is a concept which we would perform odifying functions\n",
    "#actually not distribuing the original func...\n",
    "\n",
    "#basics concepts required fro entering into decorators\n",
    "\n",
    "# 1.assinging function to a variable!!\n",
    "def hello() :\n",
    "    return 'Hello'\n",
    "var = hello #copying the hello func to variable var \n",
    "var() #calling func \n",
    "del hello #deleting the hello func\n",
    "var()\n",
    "\n",
    "\n"
   ]
  },
  {
   "cell_type": "code",
   "execution_count": 10,
   "metadata": {},
   "outputs": [
    {
     "ename": "NameError",
     "evalue": "name 'hello' is not defined",
     "output_type": "error",
     "traceback": [
      "\u001b[1;31m---------------------------------------------------------------------------\u001b[0m",
      "\u001b[1;31mNameError\u001b[0m                                 Traceback (most recent call last)",
      "\u001b[1;32m<ipython-input-10-0e646bef9230>\u001b[0m in \u001b[0;36m<module>\u001b[1;34m\u001b[0m\n\u001b[1;32m----> 1\u001b[1;33m \u001b[1;32mdel\u001b[0m \u001b[0mhello\u001b[0m \u001b[1;31m#deleting the hello func\u001b[0m\u001b[1;33m\u001b[0m\u001b[1;33m\u001b[0m\u001b[0m\n\u001b[0m\u001b[0;32m      2\u001b[0m \u001b[0mhello\u001b[0m\u001b[1;33m(\u001b[0m\u001b[1;33m)\u001b[0m \u001b[1;31m#if we now call the func ,it shows func is not defined..\u001b[0m\u001b[1;33m\u001b[0m\u001b[1;33m\u001b[0m\u001b[0m\n",
      "\u001b[1;31mNameError\u001b[0m: name 'hello' is not defined"
     ]
    }
   ],
   "source": [
    "del hello #deleting the hello func\n",
    "hello() #if we now call the func ,it shows func is not defined..\n"
   ]
  },
  {
   "cell_type": "code",
   "execution_count": 13,
   "metadata": {},
   "outputs": [
    {
     "data": {
      "text/plain": [
       "'Hello'"
      ]
     },
     "execution_count": 13,
     "metadata": {},
     "output_type": "execute_result"
    }
   ],
   "source": [
    "var() #if we call the var it works as actual func"
   ]
  },
  {
   "cell_type": "code",
   "execution_count": 14,
   "metadata": {},
   "outputs": [],
   "source": [
    "#2.function inside a func\n",
    "def bank(name= 'canara') :\n",
    "    print('welcome to the canara bank!! ')\n",
    "    def customer(name = 'saisri') :\n",
    "        return f'customer is {name} : '\n",
    "    \n",
    "    def balance(amount) :\n",
    "        return f'balance left is {amount} '\n",
    "    return 'canara bank welcomes you!!!'\n",
    "    "
   ]
  },
  {
   "cell_type": "code",
   "execution_count": 15,
   "metadata": {},
   "outputs": [
    {
     "name": "stdout",
     "output_type": "stream",
     "text": [
      "welcome to the canara bank!! \n"
     ]
    },
    {
     "data": {
      "text/plain": [
       "'canara bank welcomes you!!!'"
      ]
     },
     "execution_count": 15,
     "metadata": {},
     "output_type": "execute_result"
    }
   ],
   "source": [
    "bank() #if we call the bank we can acess the data "
   ]
  },
  {
   "cell_type": "code",
   "execution_count": 16,
   "metadata": {},
   "outputs": [
    {
     "ename": "NameError",
     "evalue": "name 'customer' is not defined",
     "output_type": "error",
     "traceback": [
      "\u001b[1;31m---------------------------------------------------------------------------\u001b[0m",
      "\u001b[1;31mNameError\u001b[0m                                 Traceback (most recent call last)",
      "\u001b[1;32m<ipython-input-16-c29eac0ee578>\u001b[0m in \u001b[0;36m<module>\u001b[1;34m\u001b[0m\n\u001b[1;32m----> 1\u001b[1;33m \u001b[0mcustomer\u001b[0m\u001b[1;33m(\u001b[0m\u001b[1;33m)\u001b[0m \u001b[1;31m#if we call customer we would get error that ,func is not defined,because it is inside the bank func\u001b[0m\u001b[1;33m\u001b[0m\u001b[1;33m\u001b[0m\u001b[0m\n\u001b[0m",
      "\u001b[1;31mNameError\u001b[0m: name 'customer' is not defined"
     ]
    }
   ],
   "source": [
    "customer() #if we call customer we would get error that ,func is not defined,because it is inside the bank func"
   ]
  },
  {
   "cell_type": "code",
   "execution_count": 17,
   "metadata": {},
   "outputs": [
    {
     "ename": "NameError",
     "evalue": "name 'balance' is not defined",
     "output_type": "error",
     "traceback": [
      "\u001b[1;31m---------------------------------------------------------------------------\u001b[0m",
      "\u001b[1;31mNameError\u001b[0m                                 Traceback (most recent call last)",
      "\u001b[1;32m<ipython-input-17-55bde5771a3b>\u001b[0m in \u001b[0;36m<module>\u001b[1;34m\u001b[0m\n\u001b[1;32m----> 1\u001b[1;33m \u001b[0mbalance\u001b[0m\u001b[1;33m(\u001b[0m\u001b[1;33m)\u001b[0m\u001b[1;33m\u001b[0m\u001b[1;33m\u001b[0m\u001b[0m\n\u001b[0m",
      "\u001b[1;31mNameError\u001b[0m: name 'balance' is not defined"
     ]
    }
   ],
   "source": [
    "balance() #same with balance func"
   ]
  },
  {
   "cell_type": "code",
   "execution_count": 21,
   "metadata": {},
   "outputs": [],
   "source": [
    "def bank(name= 'canara') :\n",
    "    print('welcome to the canara bank!! ')\n",
    "    def customer(name = 'saisri') :\n",
    "        return f'\\t customer is {name} : '\n",
    "    print(customer()) #calling the customer func\n",
    "    def balance(amount) :\n",
    "        return f'\\t balance left is {amount} '\n",
    "    print(balance(4000)) #calling the balance func\n",
    "    return 'canara bank welcomes you!!!'"
   ]
  },
  {
   "cell_type": "code",
   "execution_count": 24,
   "metadata": {},
   "outputs": [
    {
     "name": "stdout",
     "output_type": "stream",
     "text": [
      "welcome to the canara bank!! \n",
      "\t customer is saisri : \n",
      "\t balance left is 4000 \n"
     ]
    },
    {
     "data": {
      "text/plain": [
       "'canara bank welcomes you!!!'"
      ]
     },
     "execution_count": 24,
     "metadata": {},
     "output_type": "execute_result"
    }
   ],
   "source": [
    "bank() #"
   ]
  },
  {
   "cell_type": "code",
   "execution_count": 29,
   "metadata": {},
   "outputs": [
    {
     "name": "stdout",
     "output_type": "stream",
     "text": [
      "these are my family info :\n",
      "i am saisri :\n",
      "my father is   srinivas \n",
      "my mother is anuradha \n",
      "my sister is yamuna \n"
     ]
    }
   ],
   "source": [
    "# 3.passing func as argument : \n",
    "def myfamily(me) : #calling func me as an argument in fun myfamily \n",
    "    print('these are my family info :')\n",
    "    me()\n",
    "    def my_father(name= 'srinivas') :\n",
    "        return f'my father is   {name} '\n",
    "    print(my_father())\n",
    "    def my_mother(name= 'anuradha' ) :\n",
    "        return f'my mother is {name} '\n",
    "    print(my_mother())\n",
    "   \n",
    "    def my_sis(name='yamuna') :\n",
    "        return f'my sister is {name} '\n",
    "    print(my_sis())\n",
    "def me() : # a seprate func \n",
    "    print('i am saisri :')\n",
    "myfamily(me)    #passing only location of me func.but not calling it like myfamily(me())"
   ]
  },
  {
   "cell_type": "code",
   "execution_count": 31,
   "metadata": {},
   "outputs": [
    {
     "name": "stdout",
     "output_type": "stream",
     "text": [
      "additonal code or decorator  before the actual code!!!!\n",
      "my actual code.. \n",
      "additonal code or  decorator after the actual code!!!!\n"
     ]
    }
   ],
   "source": [
    "def decorater(actual_func) :\n",
    "    print('additonal code or decorator  before the actual code!!!!')\n",
    "    actual_func()\n",
    "    print('additonal code or  decorator after the actual code!!!!')\n",
    "def actual_func() :\n",
    "    print('my actual code.. ')\n",
    "decorater(actual_func)  \n",
    "#this is description of decorator ,we are not modifing the func actual_func , and wwe added extra info it ..\n",
    "#this is nothing but decorating the actual_func,this is decorator in py..this can be achieved by simply writing @decorating fun\n",
    "#over actual func"
   ]
  },
  {
   "cell_type": "code",
   "execution_count": 32,
   "metadata": {},
   "outputs": [
    {
     "name": "stdout",
     "output_type": "stream",
     "text": [
      "additonal code or decorator  before the actual code!!!!\n",
      "my actual code.. \n",
      "additonal code or  decorator after the actual code!!!!\n"
     ]
    }
   ],
   "source": [
    "def decorater(actual_func) :\n",
    "    print('additonal code or decorator  before the actual code!!!!')\n",
    "    actual_func()\n",
    "    print('additonal code or  decorator after the actual code!!!!')\n",
    "@decorater  #here we need not to call the decorater func,and pass actual func as argument to it.. if yu don't need to modify\n",
    "#just make @ line as comment..your actul_func will be same as original one.e.... \n",
    "\n",
    "def actual_func() :\n",
    "    print('my actual code.. ')"
   ]
  },
  {
   "cell_type": "markdown",
   "metadata": {},
   "source": [
    "### generators in python..\n",
    "\n",
    "#consider range function range() ,it is an gen,because it generates the numbres,it is not consuming memory,it only remembers \n",
    "\n",
    "#what is next and next ,so memory allocation does n't happens..\n",
    "\n",
    "#suppose if we want to calclate the squares o 1 milllion numbers,if we take a list and append squares to it it will consume \n",
    "\n",
    "alot of space,instead if we use generator they only remember,them in sequence,if we iterate through them we can get the aquares \n",
    "\n",
    "without using any memory..\n",
    "\n",
    "it is done by yield keyword...\n"
   ]
  },
  {
   "cell_type": "code",
   "execution_count": 1,
   "metadata": {},
   "outputs": [
    {
     "name": "stdout",
     "output_type": "stream",
     "text": [
      "[0, 1, 4, 9, 16, 25, 36, 49, 64, 81]\n"
     ]
    }
   ],
   "source": [
    "def squares() :\n",
    "    squ = []\n",
    "    for num in range(10) :\n",
    "        squ.append(num**2)\n",
    "    return squ\n",
    "square = squares()\n",
    "print(square) #this consumes the space..."
   ]
  },
  {
   "cell_type": "code",
   "execution_count": 2,
   "metadata": {},
   "outputs": [
    {
     "name": "stdout",
     "output_type": "stream",
     "text": [
      "0\n",
      "1\n",
      "4\n",
      "9\n",
      "16\n",
      "25\n",
      "36\n",
      "49\n",
      "64\n",
      "81\n"
     ]
    }
   ],
   "source": [
    "#same can be done by using gen,which does not consume space\n",
    "def squares() :\n",
    "    for num in range(10) :\n",
    "        yield num**2  #\n",
    "for num in squares() : #givessame result...\n",
    "    print(num)  #yields the numbers one by one..."
   ]
  },
  {
   "cell_type": "code",
   "execution_count": 3,
   "metadata": {},
   "outputs": [
    {
     "data": {
      "text/plain": [
       "0"
      ]
     },
     "execution_count": 3,
     "metadata": {},
     "output_type": "execute_result"
    }
   ],
   "source": [
    "#next func  in gen\n",
    "sq= squares()\n",
    "next(sq)"
   ]
  },
  {
   "cell_type": "code",
   "execution_count": 4,
   "metadata": {},
   "outputs": [
    {
     "data": {
      "text/plain": [
       "1"
      ]
     },
     "execution_count": 4,
     "metadata": {},
     "output_type": "execute_result"
    }
   ],
   "source": [
    "next(sq) #it returns the num thast it remembers in sequence"
   ]
  },
  {
   "cell_type": "code",
   "execution_count": 5,
   "metadata": {},
   "outputs": [
    {
     "data": {
      "text/plain": [
       "4"
      ]
     },
     "execution_count": 5,
     "metadata": {},
     "output_type": "execute_result"
    }
   ],
   "source": [
    "next(sq)"
   ]
  },
  {
   "cell_type": "code",
   "execution_count": 6,
   "metadata": {},
   "outputs": [
    {
     "ename": "TypeError",
     "evalue": "'str' object is not an iterator",
     "output_type": "error",
     "traceback": [
      "\u001b[1;31m---------------------------------------------------------------------------\u001b[0m",
      "\u001b[1;31mTypeError\u001b[0m                                 Traceback (most recent call last)",
      "\u001b[1;32m<ipython-input-6-a6cf17ae5676>\u001b[0m in \u001b[0;36m<module>\u001b[1;34m\u001b[0m\n\u001b[0;32m      2\u001b[0m \u001b[0ms\u001b[0m \u001b[1;33m=\u001b[0m \u001b[1;34m'saisri'\u001b[0m\u001b[1;33m\u001b[0m\u001b[1;33m\u001b[0m\u001b[0m\n\u001b[0;32m      3\u001b[0m \u001b[1;31m#we know that str is iterable,if we want to convert into itreate we should use iter func\u001b[0m\u001b[1;33m\u001b[0m\u001b[1;33m\u001b[0m\u001b[1;33m\u001b[0m\u001b[0m\n\u001b[1;32m----> 4\u001b[1;33m \u001b[0mnext\u001b[0m\u001b[1;33m(\u001b[0m\u001b[0ms\u001b[0m\u001b[1;33m)\u001b[0m\u001b[1;33m\u001b[0m\u001b[1;33m\u001b[0m\u001b[0m\n\u001b[0m",
      "\u001b[1;31mTypeError\u001b[0m: 'str' object is not an iterator"
     ]
    }
   ],
   "source": [
    "#iter func in gen\n",
    "s = 'saisri'\n",
    "#we know that str is iterable,if we want to convert into itrerator we should use iter func\n",
    "next(s) #nexxt func does gives error beccause,string is not a geneartor,so to convert into gen we use iter() func"
   ]
  },
  {
   "cell_type": "code",
   "execution_count": 8,
   "metadata": {},
   "outputs": [
    {
     "data": {
      "text/plain": [
       "'s'"
      ]
     },
     "execution_count": 8,
     "metadata": {},
     "output_type": "execute_result"
    }
   ],
   "source": [
    "a= iter(s)\n",
    "next(a)"
   ]
  },
  {
   "cell_type": "code",
   "execution_count": 9,
   "metadata": {},
   "outputs": [
    {
     "data": {
      "text/plain": [
       "'a'"
      ]
     },
     "execution_count": 9,
     "metadata": {},
     "output_type": "execute_result"
    }
   ],
   "source": [
    "next(a) #now a is a generator..."
   ]
  },
  {
   "cell_type": "code",
   "execution_count": 11,
   "metadata": {},
   "outputs": [
    {
     "name": "stdout",
     "output_type": "stream",
     "text": [
      "<generator object <genexpr> at 0x0000014A8CFC0DC8>\n",
      "4\n",
      "5\n",
      "6\n",
      "7\n",
      "8\n",
      "9\n"
     ]
    }
   ],
   "source": [
    "#generator compression :,it is similar to list compresion\n",
    "mylist = [x for x in range(10)] #here we use brack\n",
    "gencomp = (item for item in mylist if item > 3) #here we use parenthesis\n",
    "print(gencomp) #it gives the address ,because it is not the list or something else,it is gen,so we should iterate through \n",
    "#to it inorder to grab the content..\n",
    "for item in gencomp :\n",
    "    print(item)"
   ]
  },
  {
   "cell_type": "code",
   "execution_count": 1,
   "metadata": {},
   "outputs": [
    {
     "data": {
      "text/plain": [
       "3"
      ]
     },
     "execution_count": 1,
     "metadata": {},
     "output_type": "execute_result"
    }
   ],
   "source": [
    "#erors and handling..\n",
    "#try and except ,else ,finally method..\n",
    "def add(a,b) :\n",
    "    return a+b\n",
    "add(1,2)\n",
    "#here we don't have any errors because,adding 2 ints is possible..\n"
   ]
  },
  {
   "cell_type": "code",
   "execution_count": 2,
   "metadata": {},
   "outputs": [
    {
     "ename": "TypeError",
     "evalue": "unsupported operand type(s) for +: 'int' and 'str'",
     "output_type": "error",
     "traceback": [
      "\u001b[1;31m---------------------------------------------------------------------------\u001b[0m",
      "\u001b[1;31mTypeError\u001b[0m                                 Traceback (most recent call last)",
      "\u001b[1;32m<ipython-input-2-1c354d8994f0>\u001b[0m in \u001b[0;36m<module>\u001b[1;34m\u001b[0m\n\u001b[0;32m      1\u001b[0m \u001b[1;32mdef\u001b[0m \u001b[0madd\u001b[0m\u001b[1;33m(\u001b[0m\u001b[0ma\u001b[0m\u001b[1;33m,\u001b[0m\u001b[0mb\u001b[0m\u001b[1;33m)\u001b[0m \u001b[1;33m:\u001b[0m\u001b[1;33m\u001b[0m\u001b[1;33m\u001b[0m\u001b[0m\n\u001b[0;32m      2\u001b[0m     \u001b[1;32mreturn\u001b[0m \u001b[0ma\u001b[0m\u001b[1;33m+\u001b[0m\u001b[0mb\u001b[0m\u001b[1;33m\u001b[0m\u001b[1;33m\u001b[0m\u001b[0m\n\u001b[1;32m----> 3\u001b[1;33m \u001b[0madd\u001b[0m\u001b[1;33m(\u001b[0m\u001b[1;36m1\u001b[0m\u001b[1;33m,\u001b[0m\u001b[1;34m'2'\u001b[0m\u001b[1;33m)\u001b[0m\u001b[1;33m\u001b[0m\u001b[1;33m\u001b[0m\u001b[0m\n\u001b[0m",
      "\u001b[1;32m<ipython-input-2-1c354d8994f0>\u001b[0m in \u001b[0;36madd\u001b[1;34m(a, b)\u001b[0m\n\u001b[0;32m      1\u001b[0m \u001b[1;32mdef\u001b[0m \u001b[0madd\u001b[0m\u001b[1;33m(\u001b[0m\u001b[0ma\u001b[0m\u001b[1;33m,\u001b[0m\u001b[0mb\u001b[0m\u001b[1;33m)\u001b[0m \u001b[1;33m:\u001b[0m\u001b[1;33m\u001b[0m\u001b[1;33m\u001b[0m\u001b[0m\n\u001b[1;32m----> 2\u001b[1;33m     \u001b[1;32mreturn\u001b[0m \u001b[0ma\u001b[0m\u001b[1;33m+\u001b[0m\u001b[0mb\u001b[0m\u001b[1;33m\u001b[0m\u001b[1;33m\u001b[0m\u001b[0m\n\u001b[0m\u001b[0;32m      3\u001b[0m \u001b[0madd\u001b[0m\u001b[1;33m(\u001b[0m\u001b[1;36m1\u001b[0m\u001b[1;33m,\u001b[0m\u001b[1;34m'2'\u001b[0m\u001b[1;33m)\u001b[0m\u001b[1;33m\u001b[0m\u001b[1;33m\u001b[0m\u001b[0m\n",
      "\u001b[1;31mTypeError\u001b[0m: unsupported operand type(s) for +: 'int' and 'str'"
     ]
    }
   ],
   "source": [
    "def add(a,b) :\n",
    "    return a+b\n",
    "add(1,'2')\n",
    "#it gives an error becauses addition of ints & str are not feasible..we can overcome this by try and except method.."
   ]
  },
  {
   "cell_type": "code",
   "execution_count": 4,
   "metadata": {},
   "outputs": [
    {
     "name": "stdout",
     "output_type": "stream",
     "text": [
      "enter the number\n",
      "sai\n"
     ]
    },
    {
     "ename": "ValueError",
     "evalue": "invalid literal for int() with base 10: 'sai'",
     "output_type": "error",
     "traceback": [
      "\u001b[1;31m---------------------------------------------------------------------------\u001b[0m",
      "\u001b[1;31mValueError\u001b[0m                                Traceback (most recent call last)",
      "\u001b[1;32m<ipython-input-4-0ce5a64539d1>\u001b[0m in \u001b[0;36m<module>\u001b[1;34m\u001b[0m\n\u001b[0;32m      2\u001b[0m     \u001b[0ma\u001b[0m \u001b[1;33m=\u001b[0m \u001b[0mint\u001b[0m\u001b[1;33m(\u001b[0m\u001b[0minput\u001b[0m\u001b[1;33m(\u001b[0m\u001b[1;34m'enter the number\\n'\u001b[0m\u001b[1;33m)\u001b[0m\u001b[1;33m)\u001b[0m\u001b[1;33m\u001b[0m\u001b[1;33m\u001b[0m\u001b[0m\n\u001b[0;32m      3\u001b[0m     \u001b[1;32mreturn\u001b[0m \u001b[0ma\u001b[0m\u001b[1;33m**\u001b[0m\u001b[1;36m2\u001b[0m\u001b[1;33m\u001b[0m\u001b[1;33m\u001b[0m\u001b[0m\n\u001b[1;32m----> 4\u001b[1;33m \u001b[0msquare\u001b[0m\u001b[1;33m(\u001b[0m\u001b[1;33m)\u001b[0m \u001b[1;31m#here is no error\u001b[0m\u001b[1;33m\u001b[0m\u001b[1;33m\u001b[0m\u001b[0m\n\u001b[0m\u001b[0;32m      5\u001b[0m \u001b[1;31m#if we provide any another datatype ,other than int it would give error.\u001b[0m\u001b[1;33m\u001b[0m\u001b[1;33m\u001b[0m\u001b[1;33m\u001b[0m\u001b[0m\n",
      "\u001b[1;32m<ipython-input-4-0ce5a64539d1>\u001b[0m in \u001b[0;36msquare\u001b[1;34m()\u001b[0m\n\u001b[0;32m      1\u001b[0m \u001b[1;32mdef\u001b[0m \u001b[0msquare\u001b[0m\u001b[1;33m(\u001b[0m\u001b[1;33m)\u001b[0m \u001b[1;33m:\u001b[0m\u001b[1;33m\u001b[0m\u001b[1;33m\u001b[0m\u001b[0m\n\u001b[1;32m----> 2\u001b[1;33m     \u001b[0ma\u001b[0m \u001b[1;33m=\u001b[0m \u001b[0mint\u001b[0m\u001b[1;33m(\u001b[0m\u001b[0minput\u001b[0m\u001b[1;33m(\u001b[0m\u001b[1;34m'enter the number\\n'\u001b[0m\u001b[1;33m)\u001b[0m\u001b[1;33m)\u001b[0m\u001b[1;33m\u001b[0m\u001b[1;33m\u001b[0m\u001b[0m\n\u001b[0m\u001b[0;32m      3\u001b[0m     \u001b[1;32mreturn\u001b[0m \u001b[0ma\u001b[0m\u001b[1;33m**\u001b[0m\u001b[1;36m2\u001b[0m\u001b[1;33m\u001b[0m\u001b[1;33m\u001b[0m\u001b[0m\n\u001b[0;32m      4\u001b[0m \u001b[0msquare\u001b[0m\u001b[1;33m(\u001b[0m\u001b[1;33m)\u001b[0m \u001b[1;31m#here is no error\u001b[0m\u001b[1;33m\u001b[0m\u001b[1;33m\u001b[0m\u001b[0m\n\u001b[0;32m      5\u001b[0m \u001b[1;31m#if we provide any another datatype ,other than int it would give error.\u001b[0m\u001b[1;33m\u001b[0m\u001b[1;33m\u001b[0m\u001b[1;33m\u001b[0m\u001b[0m\n",
      "\u001b[1;31mValueError\u001b[0m: invalid literal for int() with base 10: 'sai'"
     ]
    }
   ],
   "source": [
    "def square() :\n",
    "    a = int(input('enter the number\\n'))\n",
    "    return a**2\n",
    "square() #here is no error\n",
    "#if we provide any another datatype ,other than int it would give error."
   ]
  },
  {
   "cell_type": "code",
   "execution_count": 6,
   "metadata": {},
   "outputs": [
    {
     "name": "stdout",
     "output_type": "stream",
     "text": [
      "enter the number\n",
      "sai\n",
      "sorry!! you entered wrong data type.. \n"
     ]
    }
   ],
   "source": [
    "def square() :\n",
    "    try :\n",
    "        a = int(input('enter the number\\n'))\n",
    "        print(f'square of num is {a**2}') #if there is no error in try block,it will execute and except block would terminate..\n",
    "    except :\n",
    "        print('sorry!! you entered wrong data type.. ')\n",
    "        #if there is a error in try block ,except will excute..\n",
    "square() #as here sai is str,which annot be squared,so it gives error"
   ]
  },
  {
   "cell_type": "code",
   "execution_count": 7,
   "metadata": {},
   "outputs": [
    {
     "name": "stdout",
     "output_type": "stream",
     "text": [
      "enter the number\n",
      "2\n",
      "square of num is 4\n",
      "successfully executed!!\n"
     ]
    }
   ],
   "source": [
    "def square() :\n",
    "    try :\n",
    "        a = int(input('enter the number\\n'))\n",
    "        print(f'square of num is {a**2}') #if there is no error in try block,it will execute and except block would terminate..\n",
    "    except :\n",
    "        print('sorry!! you entered wrong data type.. ')\n",
    "        #if there is a error in try block ,except will excute..\n",
    "    else :\n",
    "        print('successfully executed!!') #else block excutes when there is no error..\n",
    "square()"
   ]
  },
  {
   "cell_type": "code",
   "execution_count": 8,
   "metadata": {},
   "outputs": [
    {
     "name": "stdout",
     "output_type": "stream",
     "text": [
      "enter the number\n",
      "sai\n",
      "sorry!! you entered wrong data type.. \n"
     ]
    }
   ],
   "source": [
    "def square() :\n",
    "    try :\n",
    "        a = int(input('enter the number\\n'))\n",
    "        print(f'square of num is {a**2}') #if there is no error in try block,it will execute and except block would terminate..\n",
    "    except :\n",
    "        print('sorry!! you entered wrong data type.. ')\n",
    "        #if there is a error in try block ,except will excute..\n",
    "    else :\n",
    "        print('successfully executed!!') #else block excutes when there is no error..\n",
    "square()#as here is input is str,so its an error..."
   ]
  },
  {
   "cell_type": "code",
   "execution_count": 9,
   "metadata": {},
   "outputs": [
    {
     "name": "stdout",
     "output_type": "stream",
     "text": [
      "enter the number\n",
      "sai\n",
      "sorry!! you entered wrong data type.. \n",
      "i always run,regardless of error...\n"
     ]
    }
   ],
   "source": [
    "#finally statemnt ,will always excutes ,regrardless of error..\n",
    "def square() :\n",
    "    try :\n",
    "        a = int(input('enter the number\\n'))\n",
    "        print(f'square of num is {a**2}') #if there is no error in try block,it will execute and except block would terminate..\n",
    "    except :\n",
    "        print('sorry!! you entered wrong data type.. ')\n",
    "        #if there is a error in try block ,except will excute..\n",
    "    else :\n",
    "        print('successfully executed!!') #else block excutes when there is no error..\n",
    "    finally :\n",
    "        print('i always run,regardless of error...') #here is error,even though it excuted..\n",
    "square()"
   ]
  },
  {
   "cell_type": "code",
   "execution_count": 10,
   "metadata": {},
   "outputs": [
    {
     "name": "stdout",
     "output_type": "stream",
     "text": [
      "enter the number\n",
      "2\n",
      "square of num is 4\n",
      "successfully executed!!\n",
      "i always run,regardless of error...\n"
     ]
    }
   ],
   "source": [
    "def square() :\n",
    "    try :\n",
    "        a = int(input('enter the number\\n'))\n",
    "        print(f'square of num is {a**2}') #if there is no error in try block,it will execute and except block would terminate..\n",
    "    except :\n",
    "        print('sorry!! you entered wrong data type.. ')\n",
    "        #if there is a error in try block ,except will excute..\n",
    "    else :\n",
    "        print('successfully executed!!') #else block excutes when there is no error..\n",
    "    finally :\n",
    "        print('i always run,regardless of error...') #here is no error,even though it excuted..\n",
    "square()"
   ]
  },
  {
   "cell_type": "code",
   "execution_count": 13,
   "metadata": {},
   "outputs": [
    {
     "name": "stdout",
     "output_type": "stream",
     "text": [
      "enter the number\n",
      "sai\n",
      "sorry!! you entered wrong data type.. \n",
      "enter the number\n",
      "sri\n",
      "sorry!! you entered wrong data type.. \n",
      "enter the number\n",
      "angajala\n",
      "sorry!! you entered wrong data type.. \n",
      "enter the number\n",
      "4\n",
      "square of num is 16\n",
      "successfully executed!!\n"
     ]
    }
   ],
   "source": [
    "#continously asking..\n",
    "def square() :\n",
    "    while True :\n",
    "        try :\n",
    "            a = int(input('enter the number\\n'))\n",
    "            print(f'square of num is {a**2}') #if there is no error in try block,it will execute and except block would terminate..\n",
    "        except :\n",
    "            print('sorry!! you entered wrong data type.. ')\n",
    "            #if there is a error in try block ,except will excute..\n",
    "            continue #if there is error,it will go top and again run try block,and asks for inputt..\n",
    "        else :\n",
    "            print('successfully executed!!') #else block excutes when there is no error..\n",
    "            break  #when there is no error,we will come out of the loop \n",
    "square()             "
   ]
  },
  {
   "cell_type": "code",
   "execution_count": null,
   "metadata": {},
   "outputs": [],
   "source": []
  }
 ],
 "metadata": {
  "kernelspec": {
   "display_name": "Python 3",
   "language": "python",
   "name": "python3"
  },
  "language_info": {
   "codemirror_mode": {
    "name": "ipython",
    "version": 3
   },
   "file_extension": ".py",
   "mimetype": "text/x-python",
   "name": "python",
   "nbconvert_exporter": "python",
   "pygments_lexer": "ipython3",
   "version": "3.7.6"
  }
 },
 "nbformat": 4,
 "nbformat_minor": 4
}
