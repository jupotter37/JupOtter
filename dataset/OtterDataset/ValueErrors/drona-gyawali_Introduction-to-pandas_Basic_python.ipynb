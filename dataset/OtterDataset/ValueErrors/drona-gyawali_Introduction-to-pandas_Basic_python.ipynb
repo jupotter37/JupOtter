{
 "cells": [
  {
   "cell_type": "markdown",
   "metadata": {},
   "source": [
    "Built in functions"
   ]
  },
  {
   "cell_type": "markdown",
   "metadata": {},
   "source": [
    "Float Function"
   ]
  },
  {
   "cell_type": "code",
   "execution_count": 1,
   "metadata": {},
   "outputs": [
    {
     "name": "stdout",
     "output_type": "stream",
     "text": [
      "10.0\n",
      "<class 'float'>\n"
     ]
    }
   ],
   "source": [
    "num=10\n",
    "a=float(num)\n",
    "print(a)\n",
    "print(type(a))"
   ]
  },
  {
   "cell_type": "code",
   "execution_count": 2,
   "metadata": {},
   "outputs": [
    {
     "name": "stdout",
     "output_type": "stream",
     "text": [
      "3.12\n",
      "<class 'float'>\n"
     ]
    }
   ],
   "source": [
    "num='3.12'\n",
    "b=float(num)\n",
    "print(b)\n",
    "print(type(b))"
   ]
  },
  {
   "cell_type": "markdown",
   "metadata": {},
   "source": [
    "Int function"
   ]
  },
  {
   "cell_type": "code",
   "execution_count": 3,
   "metadata": {},
   "outputs": [
    {
     "name": "stdout",
     "output_type": "stream",
     "text": [
      "<class 'int'>\n",
      "5\n"
     ]
    }
   ],
   "source": [
    "a=5.67434535454\n",
    "c=int(a)\n",
    "print(type(c))\n",
    "print(c)"
   ]
  },
  {
   "cell_type": "code",
   "execution_count": 4,
   "metadata": {},
   "outputs": [
    {
     "name": "stdout",
     "output_type": "stream",
     "text": [
      "3424\n"
     ]
    }
   ],
   "source": [
    "a='3424'\n",
    "a1=int(a)\n",
    "print(a1)"
   ]
  },
  {
   "cell_type": "code",
   "execution_count": 5,
   "metadata": {},
   "outputs": [
    {
     "name": "stdout",
     "output_type": "stream",
     "text": [
      "3455\n",
      "<class 'int'>\n",
      "3455\n",
      "<class 'str'>\n",
      "345545\n",
      "3457\n"
     ]
    }
   ],
   "source": [
    "a=3455\n",
    "print(a)\n",
    "print(type(a))\n",
    "c=str(a)\n",
    "print(c)\n",
    "print(type(c))\n",
    "e='45'#we can see that string can concatinate\n",
    "print(c+e)\n",
    "print(a+2)#interger have a nature of adding and perform other task"
   ]
  },
  {
   "cell_type": "code",
   "execution_count": 6,
   "metadata": {},
   "outputs": [
    {
     "name": "stdout",
     "output_type": "stream",
     "text": [
      "10\n"
     ]
    }
   ],
   "source": [
    "a=-10\n",
    "print(abs(a))"
   ]
  },
  {
   "cell_type": "code",
   "execution_count": 7,
   "metadata": {},
   "outputs": [
    {
     "name": "stdout",
     "output_type": "stream",
     "text": [
      "5.0\n"
     ]
    }
   ],
   "source": [
    "z=3+4j\n",
    "print(abs(z))"
   ]
  },
  {
   "cell_type": "code",
   "execution_count": 8,
   "metadata": {},
   "outputs": [
    {
     "name": "stdout",
     "output_type": "stream",
     "text": [
      "11\n"
     ]
    }
   ],
   "source": [
    "w=1,23,4,5,6,7,8,9,5,4,32\n",
    "print(len(w))"
   ]
  },
  {
   "cell_type": "markdown",
   "metadata": {},
   "source": [
    "Assingment"
   ]
  },
  {
   "cell_type": "code",
   "execution_count": 9,
   "metadata": {},
   "outputs": [
    {
     "name": "stdout",
     "output_type": "stream",
     "text": [
      "the socore in int is 1234\n",
      "<class 'int'>\n"
     ]
    }
   ],
   "source": [
    "score=1234.56\n",
    "a=int(score)\n",
    "print('the socore in int is',a)\n",
    "print(type(a))"
   ]
  },
  {
   "cell_type": "markdown",
   "metadata": {},
   "source": [
    "Assingment"
   ]
  },
  {
   "cell_type": "code",
   "execution_count": 10,
   "metadata": {},
   "outputs": [
    {
     "name": "stdout",
     "output_type": "stream",
     "text": [
      "the numbers of the customer are 3\n"
     ]
    }
   ],
   "source": [
    "customer_database=[\n",
    "    (1, 'jon doe', 'jondoe2@yahoo.com'),\n",
    "    (2, 'marie chris','marry@gmail.com'),\n",
    "    (3,'Goe mon', 'goemon@gmail.com'),\n",
    "    \n",
    "]\n",
    "print('the numbers of the customer are',len(customer_database))"
   ]
  },
  {
   "cell_type": "markdown",
   "metadata": {},
   "source": [
    "Assingment"
   ]
  },
  {
   "cell_type": "code",
   "execution_count": 11,
   "metadata": {},
   "outputs": [
    {
     "name": "stdout",
     "output_type": "stream",
     "text": [
      "the interest of the prinicipal is 70092\n"
     ]
    }
   ],
   "source": [
    "p=250000\n",
    "r=9.34567\n",
    "t=3\n",
    "b=p*t*r/100\n",
    "print('the interest of the prinicipal is',int(b))"
   ]
  },
  {
   "cell_type": "markdown",
   "metadata": {},
   "source": [
    "Bin functions() in python used to convert intreger into its binary representation as string prefixed with'0b'.. it takes intreger as an argument and and returns its binary representation."
   ]
  },
  {
   "cell_type": "code",
   "execution_count": 12,
   "metadata": {},
   "outputs": [
    {
     "name": "stdout",
     "output_type": "stream",
     "text": [
      "0b1010\n"
     ]
    }
   ],
   "source": [
    "b = bin(10)\n",
    "print(b)\n"
   ]
  },
  {
   "cell_type": "markdown",
   "metadata": {},
   "source": [
    "sum functions"
   ]
  },
  {
   "cell_type": "markdown",
   "metadata": {},
   "source": [
    "the sum function is used to calculate the sum of the elements in a iterable,such as list,tuple or other iterable objects."
   ]
  },
  {
   "cell_type": "code",
   "execution_count": 13,
   "metadata": {},
   "outputs": [
    {
     "name": "stdout",
     "output_type": "stream",
     "text": [
      "81953\n"
     ]
    }
   ],
   "source": [
    "a=[1,34,32,45,76,78,65,45,9,56,43,52,13,2322,233,43,78787]\n",
    "c=19\n",
    "b=sum(a,c)\n",
    "print(b)"
   ]
  },
  {
   "cell_type": "markdown",
   "metadata": {},
   "source": [
    "Eval functions"
   ]
  },
  {
   "cell_type": "markdown",
   "metadata": {},
   "source": [
    "eval(): Evaluates a python expression stored in a string"
   ]
  },
  {
   "cell_type": "code",
   "execution_count": 14,
   "metadata": {},
   "outputs": [
    {
     "name": "stdout",
     "output_type": "stream",
     "text": [
      "90\n"
     ]
    }
   ],
   "source": [
    "x=10\n",
    "y=8\n",
    "expres='x+y*10'\n",
    "print(eval(expres))"
   ]
  },
  {
   "cell_type": "markdown",
   "metadata": {},
   "source": [
    "Help functions"
   ]
  },
  {
   "cell_type": "markdown",
   "metadata": {},
   "source": [
    "The python help() function is used in python to display documentation of modules,function,class,keywords etc."
   ]
  },
  {
   "cell_type": "code",
   "execution_count": 15,
   "metadata": {},
   "outputs": [
    {
     "name": "stdout",
     "output_type": "stream",
     "text": [
      "Help on class int in module builtins:\n",
      "\n",
      "class int(object)\n",
      " |  int([x]) -> integer\n",
      " |  int(x, base=10) -> integer\n",
      " |\n",
      " |  Convert a number or string to an integer, or return 0 if no arguments\n",
      " |  are given.  If x is a number, return x.__int__().  For floating point\n",
      " |  numbers, this truncates towards zero.\n",
      " |\n",
      " |  If x is not a number or if base is given, then x must be a string,\n",
      " |  bytes, or bytearray instance representing an integer literal in the\n",
      " |  given base.  The literal can be preceded by '+' or '-' and be surrounded\n",
      " |  by whitespace.  The base defaults to 10.  Valid bases are 0 and 2-36.\n",
      " |  Base 0 means to interpret the base from the string as an integer literal.\n",
      " |  >>> int('0b100', base=0)\n",
      " |  4\n",
      " |\n",
      " |  Built-in subclasses:\n",
      " |      bool\n",
      " |\n",
      " |  Methods defined here:\n",
      " |\n",
      " |  __abs__(self, /)\n",
      " |      abs(self)\n",
      " |\n",
      " |  __add__(self, value, /)\n",
      " |      Return self+value.\n",
      " |\n",
      " |  __and__(self, value, /)\n",
      " |      Return self&value.\n",
      " |\n",
      " |  __bool__(self, /)\n",
      " |      True if self else False\n",
      " |\n",
      " |  __ceil__(...)\n",
      " |      Ceiling of an Integral returns itself.\n",
      " |\n",
      " |  __divmod__(self, value, /)\n",
      " |      Return divmod(self, value).\n",
      " |\n",
      " |  __eq__(self, value, /)\n",
      " |      Return self==value.\n",
      " |\n",
      " |  __float__(self, /)\n",
      " |      float(self)\n",
      " |\n",
      " |  __floor__(...)\n",
      " |      Flooring an Integral returns itself.\n",
      " |\n",
      " |  __floordiv__(self, value, /)\n",
      " |      Return self//value.\n",
      " |\n",
      " |  __format__(self, format_spec, /)\n",
      " |      Convert to a string according to format_spec.\n",
      " |\n",
      " |  __ge__(self, value, /)\n",
      " |      Return self>=value.\n",
      " |\n",
      " |  __getattribute__(self, name, /)\n",
      " |      Return getattr(self, name).\n",
      " |\n",
      " |  __getnewargs__(self, /)\n",
      " |\n",
      " |  __gt__(self, value, /)\n",
      " |      Return self>value.\n",
      " |\n",
      " |  __hash__(self, /)\n",
      " |      Return hash(self).\n",
      " |\n",
      " |  __index__(self, /)\n",
      " |      Return self converted to an integer, if self is suitable for use as an index into a list.\n",
      " |\n",
      " |  __int__(self, /)\n",
      " |      int(self)\n",
      " |\n",
      " |  __invert__(self, /)\n",
      " |      ~self\n",
      " |\n",
      " |  __le__(self, value, /)\n",
      " |      Return self<=value.\n",
      " |\n",
      " |  __lshift__(self, value, /)\n",
      " |      Return self<<value.\n",
      " |\n",
      " |  __lt__(self, value, /)\n",
      " |      Return self<value.\n",
      " |\n",
      " |  __mod__(self, value, /)\n",
      " |      Return self%value.\n",
      " |\n",
      " |  __mul__(self, value, /)\n",
      " |      Return self*value.\n",
      " |\n",
      " |  __ne__(self, value, /)\n",
      " |      Return self!=value.\n",
      " |\n",
      " |  __neg__(self, /)\n",
      " |      -self\n",
      " |\n",
      " |  __or__(self, value, /)\n",
      " |      Return self|value.\n",
      " |\n",
      " |  __pos__(self, /)\n",
      " |      +self\n",
      " |\n",
      " |  __pow__(self, value, mod=None, /)\n",
      " |      Return pow(self, value, mod).\n",
      " |\n",
      " |  __radd__(self, value, /)\n",
      " |      Return value+self.\n",
      " |\n",
      " |  __rand__(self, value, /)\n",
      " |      Return value&self.\n",
      " |\n",
      " |  __rdivmod__(self, value, /)\n",
      " |      Return divmod(value, self).\n",
      " |\n",
      " |  __repr__(self, /)\n",
      " |      Return repr(self).\n",
      " |\n",
      " |  __rfloordiv__(self, value, /)\n",
      " |      Return value//self.\n",
      " |\n",
      " |  __rlshift__(self, value, /)\n",
      " |      Return value<<self.\n",
      " |\n",
      " |  __rmod__(self, value, /)\n",
      " |      Return value%self.\n",
      " |\n",
      " |  __rmul__(self, value, /)\n",
      " |      Return value*self.\n",
      " |\n",
      " |  __ror__(self, value, /)\n",
      " |      Return value|self.\n",
      " |\n",
      " |  __round__(...)\n",
      " |      Rounding an Integral returns itself.\n",
      " |\n",
      " |      Rounding with an ndigits argument also returns an integer.\n",
      " |\n",
      " |  __rpow__(self, value, mod=None, /)\n",
      " |      Return pow(value, self, mod).\n",
      " |\n",
      " |  __rrshift__(self, value, /)\n",
      " |      Return value>>self.\n",
      " |\n",
      " |  __rshift__(self, value, /)\n",
      " |      Return self>>value.\n",
      " |\n",
      " |  __rsub__(self, value, /)\n",
      " |      Return value-self.\n",
      " |\n",
      " |  __rtruediv__(self, value, /)\n",
      " |      Return value/self.\n",
      " |\n",
      " |  __rxor__(self, value, /)\n",
      " |      Return value^self.\n",
      " |\n",
      " |  __sizeof__(self, /)\n",
      " |      Returns size in memory, in bytes.\n",
      " |\n",
      " |  __sub__(self, value, /)\n",
      " |      Return self-value.\n",
      " |\n",
      " |  __truediv__(self, value, /)\n",
      " |      Return self/value.\n",
      " |\n",
      " |  __trunc__(...)\n",
      " |      Truncating an Integral returns itself.\n",
      " |\n",
      " |  __xor__(self, value, /)\n",
      " |      Return self^value.\n",
      " |\n",
      " |  as_integer_ratio(self, /)\n",
      " |      Return a pair of integers, whose ratio is equal to the original int.\n",
      " |\n",
      " |      The ratio is in lowest terms and has a positive denominator.\n",
      " |\n",
      " |      >>> (10).as_integer_ratio()\n",
      " |      (10, 1)\n",
      " |      >>> (-10).as_integer_ratio()\n",
      " |      (-10, 1)\n",
      " |      >>> (0).as_integer_ratio()\n",
      " |      (0, 1)\n",
      " |\n",
      " |  bit_count(self, /)\n",
      " |      Number of ones in the binary representation of the absolute value of self.\n",
      " |\n",
      " |      Also known as the population count.\n",
      " |\n",
      " |      >>> bin(13)\n",
      " |      '0b1101'\n",
      " |      >>> (13).bit_count()\n",
      " |      3\n",
      " |\n",
      " |  bit_length(self, /)\n",
      " |      Number of bits necessary to represent self in binary.\n",
      " |\n",
      " |      >>> bin(37)\n",
      " |      '0b100101'\n",
      " |      >>> (37).bit_length()\n",
      " |      6\n",
      " |\n",
      " |  conjugate(...)\n",
      " |      Returns self, the complex conjugate of any int.\n",
      " |\n",
      " |  is_integer(self, /)\n",
      " |      Returns True. Exists for duck type compatibility with float.is_integer.\n",
      " |\n",
      " |  to_bytes(self, /, length=1, byteorder='big', *, signed=False)\n",
      " |      Return an array of bytes representing an integer.\n",
      " |\n",
      " |      length\n",
      " |        Length of bytes object to use.  An OverflowError is raised if the\n",
      " |        integer is not representable with the given number of bytes.  Default\n",
      " |        is length 1.\n",
      " |      byteorder\n",
      " |        The byte order used to represent the integer.  If byteorder is 'big',\n",
      " |        the most significant byte is at the beginning of the byte array.  If\n",
      " |        byteorder is 'little', the most significant byte is at the end of the\n",
      " |        byte array.  To request the native byte order of the host system, use\n",
      " |        `sys.byteorder' as the byte order value.  Default is to use 'big'.\n",
      " |      signed\n",
      " |        Determines whether two's complement is used to represent the integer.\n",
      " |        If signed is False and a negative integer is given, an OverflowError\n",
      " |        is raised.\n",
      " |\n",
      " |  ----------------------------------------------------------------------\n",
      " |  Class methods defined here:\n",
      " |\n",
      " |  from_bytes(bytes, byteorder='big', *, signed=False)\n",
      " |      Return the integer represented by the given array of bytes.\n",
      " |\n",
      " |      bytes\n",
      " |        Holds the array of bytes to convert.  The argument must either\n",
      " |        support the buffer protocol or be an iterable object producing bytes.\n",
      " |        Bytes and bytearray are examples of built-in objects that support the\n",
      " |        buffer protocol.\n",
      " |      byteorder\n",
      " |        The byte order used to represent the integer.  If byteorder is 'big',\n",
      " |        the most significant byte is at the beginning of the byte array.  If\n",
      " |        byteorder is 'little', the most significant byte is at the end of the\n",
      " |        byte array.  To request the native byte order of the host system, use\n",
      " |        `sys.byteorder' as the byte order value.  Default is to use 'big'.\n",
      " |      signed\n",
      " |        Indicates whether two's complement is used to represent the integer.\n",
      " |\n",
      " |  ----------------------------------------------------------------------\n",
      " |  Static methods defined here:\n",
      " |\n",
      " |  __new__(*args, **kwargs)\n",
      " |      Create and return a new object.  See help(type) for accurate signature.\n",
      " |\n",
      " |  ----------------------------------------------------------------------\n",
      " |  Data descriptors defined here:\n",
      " |\n",
      " |  denominator\n",
      " |      the denominator of a rational number in lowest terms\n",
      " |\n",
      " |  imag\n",
      " |      the imaginary part of a complex number\n",
      " |\n",
      " |  numerator\n",
      " |      the numerator of a rational number in lowest terms\n",
      " |\n",
      " |  real\n",
      " |      the real part of a complex number\n",
      "\n"
     ]
    }
   ],
   "source": [
    "help(int)"
   ]
  },
  {
   "cell_type": "markdown",
   "metadata": {},
   "source": [
    "input function"
   ]
  },
  {
   "cell_type": "code",
   "execution_count": 16,
   "metadata": {},
   "outputs": [
    {
     "name": "stdout",
     "output_type": "stream",
     "text": [
      "name entreed by user f\n",
      "age of a user is f\n"
     ]
    }
   ],
   "source": [
    "a=input('enter your name')\n",
    "b=input('enter your age')\n",
    "print('name entreed by user',a)\n",
    "print('age of a user is', b)"
   ]
  },
  {
   "cell_type": "markdown",
   "metadata": {},
   "source": [
    "Assingment"
   ]
  },
  {
   "cell_type": "code",
   "execution_count": 17,
   "metadata": {},
   "outputs": [
    {
     "ename": "ValueError",
     "evalue": "invalid literal for int() with base 10: 'f'",
     "output_type": "error",
     "traceback": [
      "\u001b[1;31m---------------------------------------------------------------------------\u001b[0m",
      "\u001b[1;31mValueError\u001b[0m                                Traceback (most recent call last)",
      "Cell \u001b[1;32mIn[17], line 1\u001b[0m\n\u001b[1;32m----> 1\u001b[0m num_input\u001b[38;5;241m=\u001b[39m\u001b[38;5;28;43mint\u001b[39;49m\u001b[43m(\u001b[49m\u001b[38;5;28;43minput\u001b[39;49m\u001b[43m(\u001b[49m\u001b[38;5;124;43m'\u001b[39;49m\u001b[38;5;124;43mEnter any number\u001b[39;49m\u001b[38;5;124;43m'\u001b[39;49m\u001b[43m)\u001b[49m\u001b[43m)\u001b[49m\n\u001b[0;32m      2\u001b[0m num_1input\u001b[38;5;241m=\u001b[39m\u001b[38;5;28mint\u001b[39m(\u001b[38;5;28minput\u001b[39m(\u001b[38;5;124m'\u001b[39m\u001b[38;5;124mEnter any number\u001b[39m\u001b[38;5;124m'\u001b[39m))\n\u001b[0;32m      3\u001b[0m ev\u001b[38;5;241m=\u001b[39mnum_input\u001b[38;5;241m+\u001b[39mnum_1input\n",
      "\u001b[1;31mValueError\u001b[0m: invalid literal for int() with base 10: 'f'"
     ]
    }
   ],
   "source": [
    "num_input=int(input('Enter any number'))\n",
    "num_1input=int(input('Enter any number'))\n",
    "ev=num_input+num_1input\n",
    "print(ev,'Hurry!! sum of your desire output')"
   ]
  },
  {
   "cell_type": "markdown",
   "metadata": {},
   "source": [
    "Assingment"
   ]
  },
  {
   "cell_type": "code",
   "execution_count": null,
   "metadata": {},
   "outputs": [],
   "source": [
    "h=float(input('Enter your accurate height'))\n",
    "w=int(input('Enter your accurate Weight'))\n",
    "a=int(input('Enter your accurate age'))\n",
    "g=abs(a)\n",
    "opt=eval('88.362 + (13.397 * w) + (4.799 * h) - (5.677 * g)')\n",
    "final=int(opt)\n",
    "print('According to the user information your BMR is',final)\n"
   ]
  },
  {
   "cell_type": "markdown",
   "metadata": {},
   "source": [
    "Assingment"
   ]
  },
  {
   "cell_type": "code",
   "execution_count": null,
   "metadata": {},
   "outputs": [],
   "source": [
    "s_c1=input('enter your course name')\n",
    "s_c2=input('enter your course name')\n",
    "s_c3=input('enter your course name')\n",
    "s_c4=input('enter your course name')\n",
    "s_c5=input('enter your course name')\n",
    "short=[s_c1,s_c2,s_c3,s_c4,s_c5]\n",
    "\n",
    "s_a1=int(input('Enter your age'))\n",
    "s_a2=int(input('Enter your age'))\n",
    "s_a3=int(input('Enter your age'))\n",
    "s_a4=int(input('Enter your age'))\n",
    "s_a5=int(input('Enter your age'))\n",
    "short1=s_a1,s_a2,s_a3,s_a4,s_a5\n",
    "\n",
    "avg=(s_a1+s_a2+s_a3+s_a4+s_a5)/5\n",
    "\n",
    "print('Course:',short,'Age:',short1)\n",
    "print('The average age of a student is',avg)\n"
   ]
  },
  {
   "cell_type": "markdown",
   "metadata": {},
   "source": [
    "Assingment"
   ]
  },
  {
   "cell_type": "code",
   "execution_count": null,
   "metadata": {},
   "outputs": [],
   "source": [
    "a= input('Enter the Mathmatecal expression')\n",
    "opt=eval(a)\n",
    "print('The result of the question by user is',opt)"
   ]
  },
  {
   "cell_type": "markdown",
   "metadata": {},
   "source": [
    "Assingment"
   ]
  },
  {
   "cell_type": "code",
   "execution_count": null,
   "metadata": {},
   "outputs": [],
   "source": [
    "user1_h= float(input('Enter the house size in sq.ft'))\n",
    "user1_r=int(input('Enter the room you want in a house'))\n",
    "user1_b=float(input('Enter the Budget of the house'))\n",
    "short=user1_h,user1_r,user1_b #Storing the data in one variable\n",
    "\n",
    "user2_h= float(input('Enter the house size in sq.ft',))\n",
    "user2_r=int(input('Enter the room you want in a house'))\n",
    "user2_b=float(input('Enter the Budget of the house'))\n",
    "short1=user2_h,user2_r,user2_b #Storing the data in avariable\n",
    "\n",
    "#Checking the data type\n",
    "print('Data type of the users input')\n",
    "print(type(short))\n",
    "print(type(short1))\n",
    "\n",
    "#Calculate the price of the house if per sq.ft is 5000\n",
    "a_1= user1_h*5000\n",
    "a_2= user2_h*5000\n",
    "\n",
    "#Displaying the price of the house\n",
    "print('This is the house price for user1','NPR',a_1)\n",
    "print('This is the price for user2','NPR',a_2)\n",
    "\n",
    "\n",
    "#comapring the threshold price 75,00000\n",
    "Threshold=7500000\n",
    "\n",
    "user_th=a_1>=Threshold\n",
    "user_th1=a_2>=Threshold\n",
    "\n",
    "print(f\"user 1 is paying above threshold\",{user_th})\n",
    "print(f\"user 2 is paying above threshold\",{user_th1})"
   ]
  },
  {
   "cell_type": "markdown",
   "metadata": {},
   "source": [
    "Assingment"
   ]
  },
  {
   "cell_type": "code",
   "execution_count": null,
   "metadata": {},
   "outputs": [],
   "source": [
    "#Storing the data \n",
    "stock_symbol='xyz'\n",
    "current_price=100\n",
    "percent_nchange=10\n",
    "\n",
    "#Calculating the new price after percentagechange\n",
    "new_price=current_price*(1+percent_nchange/100)\n",
    "print('Price after the growth of 20% is',new_price)\n",
    "\n",
    "#Asking user to input their budget\n",
    "my_budget= int(input('Enter the Budget price'))\n",
    "\n",
    "#Converting the int into float\n",
    "budget_price=float(my_budget)\n",
    "\n",
    "#comparing with new price \n",
    "compare= budget_price>new_price\n",
    "\n",
    "#displaying the output\n",
    "print(f\"The budget price is above the new price\",{compare})\n"
   ]
  },
  {
   "cell_type": "markdown",
   "metadata": {},
   "source": [
    "Assingment"
   ]
  },
  {
   "cell_type": "code",
   "execution_count": null,
   "metadata": {},
   "outputs": [],
   "source": [
    "#Storing the data\n",
    "current_temp=float(input('Enter the current tempeature'))\n",
    "min_temp=23\n",
    "max_temp=55\n",
    "\n",
    "#determing the temp range\n",
    "opt=current_temp<min_temp or current_temp>max_temp\n",
    "\n",
    "print(f'Tempature is out of the range',{opt})\n"
   ]
  },
  {
   "cell_type": "markdown",
   "metadata": {},
   "source": [
    "Control Flow Statements - Conditional Statements"
   ]
  },
  {
   "cell_type": "markdown",
   "metadata": {},
   "source": [
    "If statements - #block os the code if the condition is true. Else statements- #block of the code if condition is false"
   ]
  },
  {
   "cell_type": "code",
   "execution_count": null,
   "metadata": {},
   "outputs": [],
   "source": [
    "i=20\n",
    "if i>10:\n",
    "    print('20 is greater than 10')\n",
    "else:\n",
    "    print('20 is less than 10')\n"
   ]
  },
  {
   "cell_type": "markdown",
   "metadata": {},
   "source": [
    "Assingment"
   ]
  },
  {
   "cell_type": "code",
   "execution_count": null,
   "metadata": {},
   "outputs": [],
   "source": [
    "tem_value=float(input('Enter the Tempature'))\n",
    "if tem_value<15:\n",
    "    print('Tempature is not convinent')\n",
    "if 24<tem_value<28:\n",
    "    print('Temapature is convinent')\n"
   ]
  },
  {
   "cell_type": "markdown",
   "metadata": {},
   "source": [
    "Assingment"
   ]
  },
  {
   "cell_type": "code",
   "execution_count": null,
   "metadata": {},
   "outputs": [],
   "source": [
    "vote=int(input(\"Enter your age\"))\n",
    "vote_rights=abs(vote)\n",
    "print(vote_rights)\n",
    "if vote_rights>=18:\n",
    "    print('Congratulations!! You are eilgible for voting')\n",
    "else:\n",
    "    print('Sorry, You are not eligible for voting.')\n"
   ]
  },
  {
   "cell_type": "markdown",
   "metadata": {},
   "source": [
    "Assingment"
   ]
  },
  {
   "cell_type": "code",
   "execution_count": null,
   "metadata": {},
   "outputs": [],
   "source": [
    "b_s=float(input('Enter your base salary'))\n",
    "y_s=int(input('Enter the year of service'))\n",
    "\n",
    "if y_s>5:\n",
    "    total_salary=b_s+(0.08*b_s)-(0.12*b_s)\n",
    "    print('Your net salary is',total_salary)\n",
    "else:\n",
    "    net_salary=b_s-(0.12*b_s)\n",
    "    print('You net salary is',net_salary)\n"
   ]
  },
  {
   "cell_type": "markdown",
   "metadata": {},
   "source": [
    "Assingment"
   ]
  },
  {
   "cell_type": "code",
   "execution_count": null,
   "metadata": {},
   "outputs": [],
   "source": [
    "b_s=float(input('Enter the base salary'))\n",
    "y_s=int(input('Enter the years of expirence in a current company'))\n",
    "\n",
    "if y_s>10:\n",
    "    net_income=b_s+(0.10*b_s)-(0.15*b_s)\n",
    "    print('This is your Net Salary', net_income)\n",
    "elif 5<y_s<10:\n",
    "    n_s=b_s+(0.05*b_s)-(0.10*b_s)\n",
    "    print('This is your Net Salary', n_s)\n",
    "else:\n",
    "    l_s=b_s-(0.05*b_s)\n",
    "    print(\"This is your net salary\",l_s)"
   ]
  },
  {
   "cell_type": "markdown",
   "metadata": {},
   "source": [
    "Assingment"
   ]
  },
  {
   "cell_type": "code",
   "execution_count": null,
   "metadata": {},
   "outputs": [],
   "source": [
    "city=input(\"Enter the city name\")\n",
    "\n",
    "if city=='mumbai':\n",
    "    print('The famous place is Gate of india')\n",
    "elif city=='pune':\n",
    "    print('The famous place is Shaniwar wada')\n",
    "elif city=='chennai':\n",
    "    print('The famous place is Marina beach')\n",
    "else:\n",
    "    print('City not found!!Error!!')\n"
   ]
  },
  {
   "cell_type": "markdown",
   "metadata": {},
   "source": [
    "Loops in python"
   ]
  },
  {
   "cell_type": "markdown",
   "metadata": {},
   "source": [
    "While condition is true while loop run continusouly untill the  condition is false.Nature - indefinte"
   ]
  },
  {
   "cell_type": "markdown",
   "metadata": {},
   "source": [
    "The nature of for loop is definte and its usually used in list tuples and other iterable objects"
   ]
  },
  {
   "cell_type": "markdown",
   "metadata": {},
   "source": [
    "while looop"
   ]
  },
  {
   "cell_type": "code",
   "execution_count": null,
   "metadata": {},
   "outputs": [],
   "source": [
    "count=1\n",
    "while count<=5:\n",
    "    print(count)\n",
    "    count=count+1\n"
   ]
  },
  {
   "cell_type": "code",
   "execution_count": null,
   "metadata": {},
   "outputs": [],
   "source": [
    "num=1\n",
    "while num<=50:\n",
    "    if num%2 ==0:\n",
    "        print(num)\n",
    "    num=num+1"
   ]
  },
  {
   "cell_type": "markdown",
   "metadata": {},
   "source": [
    "Assingment: checking the vaild mail id through programming"
   ]
  },
  {
   "cell_type": "code",
   "execution_count": null,
   "metadata": {},
   "outputs": [],
   "source": [
    "email=input('Enter your vaild Email id')\n",
    "print(email)\n",
    "vaild_mail=False\n",
    "while not vaild_mail:\n",
    "    if '@' in email and '.' in email and 'com' in email:\n",
    "        print('Vaild email')\n",
    "        vaild_mail=True #ending the loop if value is true\n",
    "    else:\n",
    "        print('Not a vaid email,Try again!!')\n",
    "        email=input('enter your mail id')\n",
    "    \n",
    "\n",
    "  \n",
    "\n",
    "        "
   ]
  },
  {
   "cell_type": "markdown",
   "metadata": {},
   "source": [
    "checking the vaild phone number"
   ]
  },
  {
   "cell_type": "code",
   "execution_count": null,
   "metadata": {},
   "outputs": [
    {
     "name": "stdout",
     "output_type": "stream",
     "text": [
      "976\n",
      "Not a vaild Number\n",
      "9765503550\n",
      "vaild Number\n"
     ]
    }
   ],
   "source": [
    "def vaild_num(num):\n",
    "    return num.isdigit() and len(num)==10\n",
    "num=input('Enter the phone number')\n",
    "print(num)\n",
    "\n",
    "#Entering the loop\n",
    "i_num=False\n",
    "while not i_num:\n",
    "    if vaild_num(num):\n",
    "        print('vaild Number')\n",
    "        i_num=True\n",
    "    else:\n",
    "        print('Not a vaild Number')\n",
    "        num=input('enter your number again')\n",
    "        print(num)"
   ]
  },
  {
   "cell_type": "markdown",
   "metadata": {},
   "source": [
    "checking the  age vaildation for voting"
   ]
  },
  {
   "cell_type": "code",
   "execution_count": null,
   "metadata": {},
   "outputs": [],
   "source": [
    "def vaild_age(age):\n",
    "    return age.isalnum() and 18<= int(age) <=120\n",
    "age=input('Enter your age')\n",
    "print(age)\n",
    "vaild_a=False\n",
    "while not vaild_a:\n",
    "    if vaild_age(age):\n",
    "        print('Age validation passed for voting')\n",
    "        vaild_a=True\n",
    "    else:\n",
    "        print('vaildation process failed for voting,enter vaild one')\n",
    "        age=input('Enter your vaild age ! please')\n",
    "        print(age)"
   ]
  },
  {
   "cell_type": "markdown",
   "metadata": {},
   "source": [
    "for loop"
   ]
  },
  {
   "cell_type": "code",
   "execution_count": null,
   "metadata": {},
   "outputs": [],
   "source": [
    "num=[1,2,3,4,5]\n",
    "for i in num:\n",
    "    print(i)"
   ]
  },
  {
   "cell_type": "code",
   "execution_count": null,
   "metadata": {},
   "outputs": [],
   "source": [
    "n='Student'\n",
    "for i in n:\n",
    "    print(i)"
   ]
  },
  {
   "cell_type": "code",
   "execution_count": null,
   "metadata": {},
   "outputs": [],
   "source": [
    "for i in range(11):\n",
    "    print(i)"
   ]
  },
  {
   "cell_type": "code",
   "execution_count": null,
   "metadata": {},
   "outputs": [],
   "source": [
    "for x in range(5,21):\n",
    "    print(x)"
   ]
  },
  {
   "cell_type": "markdown",
   "metadata": {},
   "source": [
    "for loop and if condition"
   ]
  },
  {
   "cell_type": "code",
   "execution_count": null,
   "metadata": {},
   "outputs": [
    {
     "name": "stdout",
     "output_type": "stream",
     "text": [
      "0\n",
      "number is odd 1\n",
      "2\n",
      "number is odd 3\n",
      "4\n",
      "number is odd 5\n",
      "6\n",
      "number is odd 7\n",
      "8\n",
      "number is odd 9\n",
      "10\n",
      "number is odd 11\n",
      "12\n",
      "number is odd 13\n",
      "14\n",
      "number is odd 15\n",
      "16\n",
      "number is odd 17\n",
      "18\n",
      "number is odd 19\n",
      "20\n",
      "number is odd 21\n",
      "22\n",
      "number is odd 23\n",
      "24\n",
      "number is odd 25\n",
      "26\n"
     ]
    }
   ],
   "source": [
    "for i in range(0,27):\n",
    "    if i%2== 0:\n",
    "        print(i)\n",
    "    else:\n",
    "        print('number is odd',i)"
   ]
  },
  {
   "cell_type": "code",
   "execution_count": null,
   "metadata": {},
   "outputs": [],
   "source": [
    "user=int(input('Enter any numbers'))\n",
    "for i in range(1,11):\n",
    "    print(f\"{user}x{i} = {user*i}\")"
   ]
  },
  {
   "cell_type": "code",
   "execution_count": null,
   "metadata": {},
   "outputs": [
    {
     "name": "stdout",
     "output_type": "stream",
     "text": [
      "Sum: $ 64.0\n",
      "Discount Price: $ 3.2\n",
      "Net price: $ 60.8\n"
     ]
    }
   ],
   "source": [
    "#sking the quantity purchase by user\n",
    "user=int(input('Enter the number of goods you purchased'))\n",
    "total_price=0 #for adding the price enter by user e.g 0+1,0+100 etc.\n",
    "\n",
    "#Creating the loop\n",
    "for x in range(user): #creating the loop to calculate the price entered by user\n",
    "    price=float(input(\"Enter the price of each goods you buy\")) #asking theh user to input price of each goods purchased\n",
    "    total_price=price+total_price #Adding the total price with price\n",
    "    x=x+1 #maintaing the iteration\n",
    "\n",
    "#Creating the condition for discount\n",
    "if total_price>100:\n",
    "    discount= 0.1 * total_price\n",
    "elif 50<=total_price <=100:\n",
    "    discount=0.05*total_price\n",
    "else:\n",
    "    discount=0\n",
    "\n",
    "print(\"Sum:\",'$',total_price)\n",
    "total_bill=total_price-discount\n",
    "print('Discount Price:','$',abs(discount))\n",
    "print('Net price:','$',total_bill)\n"
   ]
  },
  {
   "cell_type": "markdown",
   "metadata": {},
   "source": [
    "Break statment"
   ]
  },
  {
   "cell_type": "code",
   "execution_count": null,
   "metadata": {},
   "outputs": [],
   "source": []
  },
  {
   "cell_type": "markdown",
   "metadata": {},
   "source": [
    "break - we can use break statment to with the loop to terminate the loop when certain condition is met."
   ]
  },
  {
   "cell_type": "code",
   "execution_count": null,
   "metadata": {},
   "outputs": [
    {
     "name": "stdout",
     "output_type": "stream",
     "text": [
      "0\n",
      "1\n",
      "2\n",
      "3\n"
     ]
    }
   ],
   "source": [
    "for i in range(5):\n",
    "    if i==4:\n",
    "        break\n",
    "    print(i)"
   ]
  },
  {
   "cell_type": "markdown",
   "metadata": {},
   "source": [
    "Continue Statment"
   ]
  },
  {
   "cell_type": "markdown",
   "metadata": {},
   "source": [
    "the  continue statement is used to skip the current iteration of the loop and the control flow of the program goes to the next iteration."
   ]
  },
  {
   "cell_type": "code",
   "execution_count": null,
   "metadata": {},
   "outputs": [],
   "source": [
    "for x in range(5):\n",
    "    if x==3:\n",
    "        continue\n",
    "    print(x)\n",
    "    "
   ]
  },
  {
   "cell_type": "code",
   "execution_count": null,
   "metadata": {},
   "outputs": [
    {
     "name": "stdout",
     "output_type": "stream",
     "text": [
      "2\n",
      "4\n",
      "6\n",
      "8\n",
      "10\n"
     ]
    }
   ],
   "source": [
    "numbers=[1,2,3,4,5]\n",
    "for num in numbers:\n",
    "    print(num*2)"
   ]
  },
  {
   "cell_type": "markdown",
   "metadata": {},
   "source": [
    "Assignment: Enhanced Shopping Cart\n",
    "Objective:\n",
    "Create a Python program that simulates a shopping cart. The program should allow a user to add multiple items to their cart, calculate the total price, apply discounts based on the total, and display a detailed receipt. The program should also handle potential errors and edge cases.\n",
    "\n",
    "Requirements:\n",
    "\n",
    "Input Handling:\n",
    "\n",
    "Prompt the user to enter the number of items they wish to purchase.\n",
    "For each item, ask the user to input the item name and price.\n",
    "Ensure that the user inputs valid data (e.g., positive numbers for prices).\n",
    "Calculating Total Price:\n",
    "\n",
    "Sum up the prices of all items.\n",
    "Applying Discounts:\n",
    "\n",
    "If the total price is over $100, apply a 10% discount.\n",
    "If the total price is between $50 and $100 (inclusive), apply a 5% discount.\n",
    "If the total price is less than $50, no discount is applied.\n",
    "Generating a Receipt:\n",
    "\n",
    "Display a detailed receipt showing:\n",
    "The name and price of each item.\n",
    "The total price before discount.\n",
    "The discount amount.\n",
    "The final price after discount.\n",
    "Error Handling:\n",
    "\n",
    "Handle invalid inputs gracefully (e.g., non-numeric values for prices)."
   ]
  },
  {
   "cell_type": "code",
   "execution_count": null,
   "metadata": {},
   "outputs": [
    {
     "name": "stdout",
     "output_type": "stream",
     "text": [
      "\n",
      "Receipt:\n",
      "--------------------------------\n",
      "Product: gogo, Price: $45.00\n",
      "--------------------------------\n",
      "Price before discount: $45.00\n",
      "Discount amount: $0.00\n",
      "Total payable amount: 45.0\n"
     ]
    }
   ],
   "source": [
    "#Asking the user for quantity of their purchase.\n",
    "user_quant=int(input('Enter the numbers of good purchased')) #This code is useful to r;un loop\n",
    "total_price=0 #calculating the price below\n",
    "product_details=[]\n",
    "#Entering the loop\n",
    "for x in range(user_quant):\n",
    "    name=input('Enter the product name you purchased')\n",
    "    a=float(input('Enter the price of each quantity'))\n",
    "    price=abs(a) #Dealing with the negative numbers and other num error\n",
    "    total_price=price+total_price\n",
    "    product_details.append((name, price))\n",
    "    x=x+1 #Continuing the iterations\n",
    "\n",
    "#Creating the condition\n",
    "if total_price>100:\n",
    "    discount=0.1*total_price\n",
    "elif 50<=total_price<=100:\n",
    "    dicount=0.05*total_price\n",
    "else:\n",
    "    discount=0\n",
    "\n",
    "    #calculating the discount price\n",
    "\n",
    "    #Displaying the recepit\n",
    "print(\"\\nReceipt:\")\n",
    "print(\"--------------------------------\")\n",
    "for item in product_details:\n",
    "    print(f\"Product: {item[0]}, Price: ${item[1]:.2f}\")\n",
    "print(\"--------------------------------\")\n",
    "print(f\"Price before discount: ${total_price:.2f}\")\n",
    "print(f\"Discount amount: ${discount:.2f}\")\n",
    "print('Total payable amount:',total_price-discount)"
   ]
  },
  {
   "cell_type": "code",
   "execution_count": null,
   "metadata": {},
   "outputs": [
    {
     "name": "stdout",
     "output_type": "stream",
     "text": [
      "Generated Password: 82~X*f&#OGZJ\n"
     ]
    }
   ],
   "source": [
    "#generate a program for random password\n",
    "\n",
    "#importing libraries\n",
    "import random\n",
    "import string\n",
    "\n",
    "def generate_pass(lenght):\n",
    "\n",
    "    #defining the charaters\n",
    "    upper=string.ascii_uppercase\n",
    "    lower=string.ascii_lowercase\n",
    "    num=string.digits\n",
    "    puncataion=string.punctuation\n",
    "\n",
    "    #combining the character\n",
    "    all_char=upper+lower+num+puncataion\n",
    "\n",
    "    #generate the passsword\n",
    "    password=''.join(random.choice(all_char)for _ in range(lenght))\n",
    "    return password\n",
    "\n",
    "password_lenght=12\n",
    "\n",
    "#GENERATE A PASSWORD\n",
    "password=generate_pass(password_lenght)\n",
    "\n",
    "print(\"Generated Password:\",password)\n",
    "\n",
    "\n",
    "\n"
   ]
  },
  {
   "cell_type": "code",
   "execution_count": null,
   "metadata": {},
   "outputs": [],
   "source": [
    "import random\n",
    "import string\n",
    "\n",
    "def username():\n",
    "    user=input('Enter your First Name')\n",
    "    opt=''.join(random.choices(string.digits,k=3))\n",
    "    username= user+'_'+opt\n",
    "    print('This is your username:',username)\n",
    "username()    \n",
    "password=generate_pass(password_lenght)\n",
    "print('System Generated Password:',password)\n",
    "print('-'*50)\n",
    "print('Make the username and password handy to ascess the system')"
   ]
  },
  {
   "cell_type": "code",
   "execution_count": null,
   "metadata": {},
   "outputs": [
    {
     "name": "stdout",
     "output_type": "stream",
     "text": [
      "Do not share otp with unknown: 783339\n"
     ]
    }
   ],
   "source": [
    "import random\n",
    "import string\n",
    "def otp():\n",
    "    #define a chracters\n",
    "    opt=''.join(random.choices(string.digits,k=6))\n",
    "    otp=opt\n",
    "    print('Do not share otp with unknown:',otp)\n",
    "\n",
    "\n",
    "otp()"
   ]
  },
  {
   "cell_type": "code",
   "execution_count": null,
   "metadata": {},
   "outputs": [],
   "source": [
    "username()\n",
    "password=generate_pass(password_lenght)\n",
    "print('System Generated Password:',password)\n",
    "otp()\n",
    "print('-'*50)\n",
    "print('Your credentials for login')"
   ]
  },
  {
   "cell_type": "markdown",
   "metadata": {},
   "source": [
    "User defined function- creating and  calling the function"
   ]
  },
  {
   "cell_type": "code",
   "execution_count": null,
   "metadata": {},
   "outputs": [],
   "source": [
    "def my_fun():\n",
    "    print('Hello world')\n",
    "my_fun()\n"
   ]
  },
  {
   "cell_type": "code",
   "execution_count": null,
   "metadata": {},
   "outputs": [],
   "source": [
    "def bills():\n",
    "    print('2024-1-2 is last date of submission')\n",
    "    print('After the deadline cost will be 5x of the total bill')\n",
    "    print('Pay with online to access discount before- 2024-1-2 ')"
   ]
  },
  {
   "cell_type": "code",
   "execution_count": null,
   "metadata": {},
   "outputs": [],
   "source": [
    "for x in range(2):\n",
    "    a=input('Enter your name')\n",
    "    b=float(input('enter the unit you used'))\n",
    "    if b>500000:\n",
    "        print('Customer:',a)\n",
    "        print('Value error:Contact office:07832234758')\n",
    "        print('-'*50)\n",
    "    else:\n",
    "        print(\"Customer:\",a)\n",
    "        print('unit used:',b)\n",
    "        print('You are paying:', b*20)\n",
    "        print('-'*50)\n",
    "        bills()\n",
    "        print('-'*50)\n",
    "\n"
   ]
  },
  {
   "cell_type": "markdown",
   "metadata": {},
   "source": [
    "Arguments"
   ]
  },
  {
   "cell_type": "code",
   "execution_count": null,
   "metadata": {},
   "outputs": [],
   "source": [
    "#Creating the function\n",
    "def maths(num):\n",
    "    if num%2==0:\n",
    "        print('Even')\n",
    "    else:\n",
    "        print('odd')"
   ]
  },
  {
   "cell_type": "code",
   "execution_count": null,
   "metadata": {},
   "outputs": [],
   "source": [
    "#calling the fgunction\n",
    "maths(int(input('Enter the numbers')))"
   ]
  },
  {
   "cell_type": "markdown",
   "metadata": {},
   "source": [
    "2 Arguments"
   ]
  },
  {
   "cell_type": "code",
   "execution_count": null,
   "metadata": {},
   "outputs": [],
   "source": [
    "def name(fname,lname):\n",
    "    print(fname+\"\"+lname)\n"
   ]
  },
  {
   "cell_type": "code",
   "execution_count": null,
   "metadata": {},
   "outputs": [],
   "source": [
    "name(input('Enter the full name'), \",CA\")"
   ]
  },
  {
   "cell_type": "code",
   "execution_count": null,
   "metadata": {},
   "outputs": [],
   "source": [
    "t_s=[85,92,78,90,88,45,82,79,87,91,100]\n"
   ]
  },
  {
   "cell_type": "code",
   "execution_count": null,
   "metadata": {},
   "outputs": [],
   "source": [
    "from numpy import mean\n",
    "\n",
    "\n",
    "def score(t_s):\n",
    "    stu=len(t_s)\n",
    "    numpassed=0\n",
    "    for score in t_s:\n",
    "        if score>80:\n",
    "            numpassed= numpassed+1\n",
    "    \n",
    "    numfailed= stu-numpassed\n",
    "    print('Lowest Score:',min(t_s))\n",
    "    print('Highest Score:',max(t_s))\n",
    "    print('Average Score:',mean(t_s))\n",
    "    print('The total student passed:',numpassed)\n",
    "    print('The total student failed:',numfailed)"
   ]
  },
  {
   "cell_type": "code",
   "execution_count": null,
   "metadata": {},
   "outputs": [],
   "source": [
    "score(t_s)"
   ]
  },
  {
   "cell_type": "code",
   "execution_count": null,
   "metadata": {},
   "outputs": [],
   "source": [
    "def my_list(grade):\n",
    "    for grades in grade:\n",
    "        if 90<= grades <=100:\n",
    "            print('Congratulation!! Got a Straight: A')\n",
    "        elif 80<= grades <=89:\n",
    "            print('Good job:B')\n",
    "        elif 70<= grades <=79:\n",
    "            print('Satisfactory:C')\n",
    "        elif 60<= grades <=69:\n",
    "            print('You can do Better:D')\n",
    "        else:\n",
    "            print('Better luck next time:F')  \n",
    "            return"
   ]
  },
  {
   "cell_type": "code",
   "execution_count": null,
   "metadata": {},
   "outputs": [],
   "source": [
    "grades= [96,86,89,98,87,8]\n",
    "\n",
    "my_list(grades)"
   ]
  },
  {
   "cell_type": "markdown",
   "metadata": {},
   "source": [
    "Create a Python function named grade_evaluation that takes a list of student grades as input and prints out the corresponding message based on the grade ranges specified below:\n",
    "\n",
    "90 <= grade <= 100: \"Excellent: A\"\n",
    "80 <= grade <= 89: \"Well done: B\"\n",
    "70 <= grade <= 79: \"Good effort: C\"\n",
    "60 <= grade <= 69: \"Needs improvement: D\"\n",
    "grade < 60: \"Fail: F\"\n",
    "Your function should iterate through each grade in the list and print the appropriate message for each grade.\n",
    "\n",
    "Requirements:\n",
    "The function should be named grade_evaluation.\n",
    "It should take one parameter, a list of grades.\n",
    "Use if, elif, and else statements to determine the appropriate message.\n",
    "Print the corresponding message for each grade in the list."
   ]
  },
  {
   "cell_type": "code",
   "execution_count": null,
   "metadata": {},
   "outputs": [],
   "source": [
    "def grade_evaluation(grade):\n",
    "    for grades in grade:\n",
    "        if 90<= grades <=100:\n",
    "            print('Congratulation!! Got a Straight: A')\n",
    "        elif 80<= grades <=89:\n",
    "            print('Good job:B')\n",
    "        elif 70<= grades <=79:\n",
    "            print('Satisfactory:C')\n",
    "        elif 60<= grades <=69:\n",
    "            print('You can do Better:D')\n",
    "        else:\n",
    "            print('Better luck next time:F')  \n",
    "            \n",
    "        \n"
   ]
  },
  {
   "cell_type": "code",
   "execution_count": null,
   "metadata": {},
   "outputs": [
    {
     "name": "stdout",
     "output_type": "stream",
     "text": [
      "Congratulation!! Got a Straight: A\n",
      "Good job:B\n",
      "Satisfactory:C\n",
      "You can do Better:D\n",
      "Better luck next time:F\n",
      "Satisfactory:C\n",
      "Congratulation!! Got a Straight: A\n",
      "Satisfactory:C\n",
      "Better luck next time:F\n"
     ]
    }
   ],
   "source": [
    "grades = [92, 85, 73, 67, 50, 78,100,78,34]\n",
    "grade_evaluation(grades)"
   ]
  },
  {
   "cell_type": "code",
   "execution_count": null,
   "metadata": {},
   "outputs": [],
   "source": [
    "import random\n",
    "def guess_num():\n",
    "    computer=random.randint(0,100)\n",
    "    print(computer)\n",
    "    attempts=0\n",
    "    guess=None\n",
    "\n",
    "    #Entering in the loop\n",
    "    while guess != computer:\n",
    "        guess=int(input('Guess the number'))\n",
    "        attempts=attempts+1\n",
    "\n",
    "        #conditional Argument\n",
    "        if guess>computer:\n",
    "            print('Nah!Too High Dude')\n",
    "        elif guess<computer:\n",
    "            print('Nah!Too Low Dude')\n",
    "        else:\n",
    "          print('Hurry!!You Guessed it correct')\n",
    "    print('.'*50)      \n",
    "    print(f'Computer Guessed: {computer}')\n",
    "    print(f'You have guessed: {guess}')\n",
    "    print(f'You have taken {attempts} attempts to complete.')\n",
    "\n",
    "        \n",
    "        \n"
   ]
  },
  {
   "cell_type": "code",
   "execution_count": null,
   "metadata": {},
   "outputs": [
    {
     "name": "stdout",
     "output_type": "stream",
     "text": [
      "49\n",
      "Nah!Too High Dude\n",
      "Hurry!!You Guessed it correct\n",
      "..................................................\n",
      "Computer Guessed: 49\n",
      "You have guessed: 49\n",
      "You have taken 2 attempts to complete.\n"
     ]
    }
   ],
   "source": [
    "guess_num()"
   ]
  },
  {
   "cell_type": "code",
   "execution_count": null,
   "metadata": {},
   "outputs": [],
   "source": [
    "def natural():\n",
    "    n=int(input('Enter the numbers'))\n",
    "    sum_square=0\n",
    "    #entering the loop\n",
    "    for x in range(1,n+1):\n",
    "        sum_square+=x*x\n",
    "    return sum_square\n",
    "    "
   ]
  },
  {
   "cell_type": "code",
   "execution_count": null,
   "metadata": {},
   "outputs": [],
   "source": [
    "natural()"
   ]
  },
  {
   "cell_type": "markdown",
   "metadata": {},
   "source": [
    "Strings"
   ]
  },
  {
   "cell_type": "markdown",
   "metadata": {},
   "source": [
    "in pythom strings are squence of the characters enclosed with quotes.strings in python are squence to represent text.They inculde letter, numbers, digits, puncuation etc.\n"
   ]
  },
  {
   "cell_type": "code",
   "execution_count": null,
   "metadata": {},
   "outputs": [],
   "source": [
    "#creating the strings\n",
    "a='hello world'\n",
    "b=\"AB\"\n",
    "print(a)\n",
    "print(b)\n",
    "print(type(a))"
   ]
  },
  {
   "cell_type": "code",
   "execution_count": null,
   "metadata": {},
   "outputs": [],
   "source": [
    "#use case of \\n\n",
    "so=\"Dorna Raj Gyawali \\nPresident of UN(United Nations)\"\n",
    "print(so)"
   ]
  },
  {
   "cell_type": "markdown",
   "metadata": {},
   "source": [
    "Multiline strings"
   ]
  },
  {
   "cell_type": "code",
   "execution_count": null,
   "metadata": {},
   "outputs": [],
   "source": [
    "a=\"\"\"\" Natural language processing (NLP): \n",
    "is a branch of artificial intelligence (AI) that enables computers to comprehend, generate, and manipulate human language.\n",
    " Natural language processing has the ability to interrogate the data with natural language text or voice.\"\"\"\n",
    "print(a)"
   ]
  },
  {
   "cell_type": "markdown",
   "metadata": {},
   "source": [
    "Indexing of strings"
   ]
  },
  {
   "cell_type": "code",
   "execution_count": null,
   "metadata": {},
   "outputs": [],
   "source": [
    "a='Hello dear learners'\n",
    "print(a[-1])  #Negative indexing"
   ]
  },
  {
   "cell_type": "code",
   "execution_count": null,
   "metadata": {},
   "outputs": [],
   "source": [
    "a='Hello dear learners'\n",
    "print(a[:10]) #posityive indexing"
   ]
  },
  {
   "cell_type": "markdown",
   "metadata": {},
   "source": [
    "Slicing"
   ]
  },
  {
   "cell_type": "code",
   "execution_count": null,
   "metadata": {},
   "outputs": [],
   "source": [
    "a='I am learning data Science'\n",
    "print(a[:4]) #i want the 'i am' protions from the strings so i perform the slicings"
   ]
  },
  {
   "cell_type": "code",
   "execution_count": null,
   "metadata": {},
   "outputs": [],
   "source": [
    "a='I am learning data Science'\n",
    "print(a[4:27]) #i want the 'learning data science' protions from the strings so i perform the slicings"
   ]
  },
  {
   "cell_type": "markdown",
   "metadata": {},
   "source": [
    "Slicing with jump"
   ]
  },
  {
   "cell_type": "code",
   "execution_count": null,
   "metadata": {},
   "outputs": [],
   "source": [
    "a='I am learning data Science'\n",
    "print(a[4:27]) #i want the 'learning data science' protions from the strings so i perform the slicings\n",
    "print(a[4:27:2]) #i choose to jump by 2 digits and here is the results \n",
    "                  #we can choose the jumps accirding to our need"
   ]
  },
  {
   "cell_type": "markdown",
   "metadata": {},
   "source": [
    "Negative slicings"
   ]
  },
  {
   "cell_type": "code",
   "execution_count": null,
   "metadata": {},
   "outputs": [],
   "source": [
    "a='I am learning data Science'\n",
    "print(a[-6:-1])\n",
    "print(a[-6:-1:2])#creating the jump after 2 words in -indexing"
   ]
  },
  {
   "cell_type": "markdown",
   "metadata": {},
   "source": [
    "Assingments"
   ]
  },
  {
   "cell_type": "code",
   "execution_count": null,
   "metadata": {},
   "outputs": [],
   "source": [
    "def exact_tuple(date):\n",
    "    year=int(date[0:4])\n",
    "    month=int(date[5:7])\n",
    "    day=int(date[8:9])\n",
    "    return (year,month,day)\n"
   ]
  },
  {
   "cell_type": "code",
   "execution_count": null,
   "metadata": {},
   "outputs": [],
   "source": [
    "exact_tuple('2081-02-20')\n"
   ]
  },
  {
   "cell_type": "markdown",
   "metadata": {},
   "source": [
    "Assingmnet"
   ]
  },
  {
   "cell_type": "code",
   "execution_count": null,
   "metadata": {},
   "outputs": [],
   "source": [
    "a='Honesty is the best policy'\n",
    "print(a[::-1])  #to reverse the string [::-1] has to be use"
   ]
  },
  {
   "cell_type": "markdown",
   "metadata": {},
   "source": [
    "Assingment"
   ]
  },
  {
   "cell_type": "code",
   "execution_count": null,
   "metadata": {},
   "outputs": [],
   "source": [
    "a='data science'\n",
    "b='Hello world i am learning python'\n",
    "c='All the best'\n",
    "d='Artificial'\n",
    "print(a[3:8])\n",
    "print(b[3:8])\n",
    "print(c[3:8])\n",
    "print(d[:-4]) #from the backwards 'cial' is cut because it got-4 and remaning words are Artifi which is output"
   ]
  },
  {
   "cell_type": "markdown",
   "metadata": {},
   "source": [
    "length method"
   ]
  },
  {
   "cell_type": "code",
   "execution_count": null,
   "metadata": {},
   "outputs": [
    {
     "name": "stdout",
     "output_type": "stream",
     "text": [
      "2\n",
      "{'user': 'Dorna', 'person': 'Aham'}\n"
     ]
    }
   ],
   "source": [
    "a={\n",
    "        'user':'Dorna',\n",
    "      'person': 'Aham'\n",
    "    }\n",
    "\n",
    "print(len(a))\n",
    "print(a)"
   ]
  },
  {
   "cell_type": "markdown",
   "metadata": {},
   "source": [
    "Strings with special symbols"
   ]
  },
  {
   "cell_type": "code",
   "execution_count": null,
   "metadata": {},
   "outputs": [
    {
     "name": "stdout",
     "output_type": "stream",
     "text": [
      "hello\n",
      "world\n",
      "11\n"
     ]
    }
   ],
   "source": [
    "s='hello\\nworld'\n",
    "print(s)\n",
    "print(len(s))"
   ]
  },
  {
   "cell_type": "code",
   "execution_count": null,
   "metadata": {},
   "outputs": [
    {
     "name": "stdout",
     "output_type": "stream",
     "text": [
      "hello#world\n",
      "11\n"
     ]
    }
   ],
   "source": [
    "s='hello#world'\n",
    "print(s)\n",
    "print(len(s))"
   ]
  },
  {
   "cell_type": "code",
   "execution_count": null,
   "metadata": {},
   "outputs": [],
   "source": [
    "a=\"\"\" Tokenization is the process of breaking down a text into smaller pieces, called tokens. \n",
    "These tokens can be words, phrases, symbols, or other meaningful elements. Tokenization is a fundamental step in natural language processing (NLP)\n",
    " and text analysis, as it transforms raw text data into a structured form that can be easily analyzed by algorithms. \n",
    " There are different types of tokenization based on the level of granularity: Word Tokenization: Splitting text into individual words\"\"\"\n",
    "print(len(a))\n",
    "print(a)"
   ]
  },
  {
   "cell_type": "markdown",
   "metadata": {},
   "source": [
    "Python- modifying the strings"
   ]
  },
  {
   "cell_type": "code",
   "execution_count": null,
   "metadata": {},
   "outputs": [
    {
     "name": "stdout",
     "output_type": "stream",
     "text": [
      "DRONA\n",
      "welcome to aham\n",
      "AVSGDTYYUHHJ\n",
      "DRY\n"
     ]
    }
   ],
   "source": [
    "#upper method\n",
    "\n",
    "a='DroNa'\n",
    "print(a.upper())\n",
    "\n",
    "b='WELCOME TO AHAM'\n",
    "print(b.lower())\n",
    "\n",
    "c='avsgdTyyuHHJ'.upper()\n",
    "print(c)\n",
    "\n",
    "d=input('Enter your  name').upper()\n",
    "print(d)"
   ]
  },
  {
   "cell_type": "code",
   "execution_count": null,
   "metadata": {},
   "outputs": [
    {
     "name": "stdout",
     "output_type": "stream",
     "text": [
      "aham\n",
      "in the context of machine learning, \"neural links\" typically refer to the connections between neurons in a neural network. \n",
      "these links, or connections, are essential for the functioning of neural networks, which are designed to simulate the way the \n",
      "human brain processes information.key concepts of neural links in neural networks\n"
     ]
    }
   ],
   "source": [
    "#lower method\n",
    "a=input('Enter the name').lower()\n",
    "print(a)\n",
    "\n",
    "b=\"\"\"In the context of machine learning, \"neural links\" typically refer to the connections between neurons in a neural network. \n",
    "These links, or connections, are essential for the functioning of neural networks, which are designed to simulate the way the \n",
    "human brain processes information.Key Concepts of Neural Links in Neural Networks\"\"\".lower()\n",
    "print(b)"
   ]
  },
  {
   "cell_type": "markdown",
   "metadata": {},
   "source": [
    "CONACATINATE IN THE STRINGS"
   ]
  },
  {
   "cell_type": "code",
   "execution_count": null,
   "metadata": {},
   "outputs": [
    {
     "name": "stdout",
     "output_type": "stream",
     "text": [
      "hello World :-Adding is a one way to cancatinate\n",
      "helloWorldWorldWorld :-Mutilply the words\n"
     ]
    }
   ],
   "source": [
    "a='hello'\n",
    "b='World'\n",
    "print(a+' '+b,':-Adding is a one way to cancatinate')\n",
    "print(a+b*3,':-Mutilply the words' )\n"
   ]
  },
  {
   "cell_type": "markdown",
   "metadata": {},
   "source": [
    "Replace method"
   ]
  },
  {
   "cell_type": "code",
   "execution_count": null,
   "metadata": {},
   "outputs": [
    {
     "name": "stdout",
     "output_type": "stream",
     "text": [
      "colthing -:ignore this output  for a while\n",
      "--------------------------------------------------\n",
      "sony,Adidas,Apple,Google,Ramsung,Microsoft,Sony,Amazon\n",
      "--------------------------------------------------\n",
      "Data Science is a multidisciplinary field that uses scientific methods, algorithms, processes, and systems to extract Expertise and insights \n",
      "from structured and unstructured data.It combines Different* techniques from mathematics, statistics, computer science, \n",
      "Niche* Expertise, and information science to understand and analyze complex phenomena\n"
     ]
    }
   ],
   "source": [
    "#replace\n",
    "x='colthing>>>Fashion'\n",
    "b=lambda x: x.split('>>>')[0]\n",
    "print(b(x),'-:ignore this output  for a while') #ignore this code  for a while\n",
    "print(\"-\"*50)\n",
    "\n",
    "# Creating a list of brand names\n",
    "#brands =\"Nike\",\"Adidas\",\"Apple\",\"Google\",\"Samsung\",\"Microsoft\",\"Sony\",\"Amazon\",\"Coca-Cola\",\"Toyota\"\n",
    "\n",
    "brands='sony,Adidas,Apple,Google,Samsung,Microsoft,Sony,Amazon'\n",
    "#replacing the brands name sony \n",
    "\n",
    "b=brands.replace('Samsung','Ramsung')\n",
    "print(b)\n",
    "print('-'*50)\n",
    "\n",
    "#replace using -:for loop\n",
    "data=\"\"\"Data Science is a multidisciplinary field that uses scientific methods, algorithms, processes, and systems to extract knowledge and insights \n",
    "from structured and unstructured data.It concatinate various techniques from mathematics, statistics, computer science, \n",
    "domain knowledge, and information science to understand and analyze complex phenomena\"\"\"\n",
    "repe={\n",
    "    'domain':'Niche*',\n",
    "    'various':'Different*',\n",
    "    'knowledge':'Expertise',\n",
    "    'concatinate':'combines'\n",
    "\n",
    "}\n",
    "for old,new in repe.items():  # replace always takes 2 argu so if  the users want more replace then they can perform dict and loops to excute\n",
    "    data=data.replace(old,new)\n",
    "print(data)\n",
    "\n"
   ]
  },
  {
   "cell_type": "markdown",
   "metadata": {},
   "source": [
    "Index method?find method"
   ]
  },
  {
   "cell_type": "code",
   "execution_count": null,
   "metadata": {},
   "outputs": [],
   "source": [
    "a='Welcome to Aham'\n",
    "a=a.find('t')\n",
    "print(a)\n",
    "\n",
    "#Note: we can perform similar task with the use of index() and find().\n",
    "#      Both take same 1 argument "
   ]
  },
  {
   "cell_type": "code",
   "execution_count": null,
   "metadata": {},
   "outputs": [
    {
     "name": "stdout",
     "output_type": "stream",
     "text": [
      "You entered: pythion\n",
      "Value doesnot exist\n"
     ]
    }
   ],
   "source": [
    "a=\"\"\"\"Indexing in Python* refers to accessing individual elements of sequences like strings, lists, and tuples using their position (index) within the sequence. \n",
    "Python uses zero-based indexing, meaning the first element of a sequence has an index of 0, the second element an index of 1, and so on.\"\"\"\n",
    "p=input('ENTER THE WORD FROM ABOVE TEXT')\n",
    "print('You entered:',p)\n",
    "try:\n",
    "    index1=a.index(p)\n",
    "    print('-'*50)\n",
    "    print('Index value of word:', index1)\n",
    "except ValueError:\n",
    "    print('Value doesnot exist') \n"
   ]
  },
  {
   "cell_type": "markdown",
   "metadata": {},
   "source": [
    "List"
   ]
  },
  {
   "cell_type": "markdown",
   "metadata": {},
   "source": [
    "A list is the container that can hold a collection of items(called elements), which are ordered in a  specific squence -: ordered,mutable,Hetrogenous,indexed"
   ]
  },
  {
   "cell_type": "code",
   "execution_count": null,
   "metadata": {},
   "outputs": [],
   "source": [
    "a=[2,3,4,'dorna']\n",
    "a.append(5)\n",
    "a.remove('dorna')\n",
    "print(a)"
   ]
  },
  {
   "cell_type": "markdown",
   "metadata": {},
   "source": [
    "Properties of list"
   ]
  },
  {
   "cell_type": "code",
   "execution_count": null,
   "metadata": {},
   "outputs": [],
   "source": [
    "fruits=[\n",
    "    'orange','Mango','Banana'\n",
    "]\n",
    "print(fruits[2]) #it proved that list are ordered\n"
   ]
  },
  {
   "cell_type": "code",
   "execution_count": null,
   "metadata": {},
   "outputs": [],
   "source": [
    "#hetrogenous\n",
    "mixed=[\n",
    "    2.3,'china',3,[23,43]\n",
    "]\n",
    "print(mixed)\n",
    "print(mixed[3])  #the operation proved list can stores any data type"
   ]
  },
  {
   "cell_type": "code",
   "execution_count": null,
   "metadata": {},
   "outputs": [],
   "source": [
    "#indexed\n",
    "\n",
    "animals=[\n",
    "    'cats','dogs','bird','monkey'\n",
    "]\n",
    "print(animals[::-1])\n",
    "print(animals[:-1])  #indexing in python\n"
   ]
  },
  {
   "cell_type": "code",
   "execution_count": null,
   "metadata": {},
   "outputs": [],
   "source": [
    "#slicing\n",
    "\n",
    "num=[\n",
    "    12,34,54,345,78,7\n",
    "]\n",
    "print(num[2:4]) #basic slicing"
   ]
  },
  {
   "cell_type": "code",
   "execution_count": null,
   "metadata": {},
   "outputs": [],
   "source": [
    "#omiting slicing\n",
    "\n",
    "num=[\n",
    "    12,34,54,345,78,7\n",
    "]\n",
    "print(num[:]) #omiting  slicing"
   ]
  },
  {
   "cell_type": "code",
   "execution_count": null,
   "metadata": {},
   "outputs": [],
   "source": [
    "#negative indexing\n",
    "num=[\n",
    "    12,34,54,345,78,7\n",
    "]\n",
    "print(num[-4:]) #negative indexing"
   ]
  },
  {
   "cell_type": "code",
   "execution_count": null,
   "metadata": {},
   "outputs": [],
   "source": [
    "#indexing with step\n",
    "num=[\n",
    "    12,34,54,345,78,7\n",
    "]\n",
    "print(num[::2]) #indexing with step\n"
   ]
  },
  {
   "cell_type": "markdown",
   "metadata": {},
   "source": [
    "Assingment"
   ]
  },
  {
   "cell_type": "code",
   "execution_count": null,
   "metadata": {},
   "outputs": [
    {
     "name": "stdout",
     "output_type": "stream",
     "text": [
      "Items stored in a\" with above 70: [89, 76, 93, 72]\n"
     ]
    }
   ],
   "source": [
    "list=[\n",
    "    55,89,76,65,93,50,72\n",
    "]\n",
    "a=[]\n",
    "for items in list:\n",
    "    if items>70:\n",
    "        a.append(items)\n",
    "    else:\n",
    "        pass\n",
    "        \n",
    "print('Items stored in a\" with above 70:',a)    \n"
   ]
  },
  {
   "cell_type": "markdown",
   "metadata": {},
   "source": [
    "Assingmnet"
   ]
  },
  {
   "cell_type": "code",
   "execution_count": null,
   "metadata": {},
   "outputs": [],
   "source": [
    "list= [1,2,3,4,5,6,7,8,9,10\n",
    "]\n",
    "sum_five=sum(list[:5])\n",
    "\n",
    "print('Sum of first five elements:',sum_five)\n",
    "print('Reverse:',list[::-1])\n"
   ]
  },
  {
   "cell_type": "code",
   "execution_count": null,
   "metadata": {},
   "outputs": [],
   "source": [
    "#storing the num\n",
    "list=[\n",
    "    1,2,3,4,5,6,7,8,9,10\n",
    "]\n",
    "\n",
    "#Defining the criteria\n",
    "swap=list[5:10]\n",
    "swap1=list[:5]\n",
    "\n",
    "#Displaying the output\n",
    "print('After swapping the elements:',swap+swap1)\n",
    "print('Addition of first 3 elements:',sum(list[:3]))"
   ]
  },
  {
   "cell_type": "markdown",
   "metadata": {},
   "source": [
    "Length method"
   ]
  },
  {
   "cell_type": "code",
   "execution_count": null,
   "metadata": {},
   "outputs": [],
   "source": [
    "a=[\n",
    "    1,23,21,67,5.5,'Hello',67,89\n",
    "]\n",
    "print(len(a))"
   ]
  },
  {
   "cell_type": "markdown",
   "metadata": {},
   "source": [
    "Mutability property of list"
   ]
  },
  {
   "cell_type": "code",
   "execution_count": null,
   "metadata": {},
   "outputs": [
    {
     "name": "stdout",
     "output_type": "stream",
     "text": [
      "[1, 2, 'Change', 4, 5, 6]\n"
     ]
    }
   ],
   "source": [
    "#changing elements\n",
    "list=[\n",
    "    1,2,3,4,5,6\n",
    "]\n",
    "list[2]='Change'  # type: ignore\n",
    "print(list)"
   ]
  },
  {
   "cell_type": "code",
   "execution_count": null,
   "metadata": {},
   "outputs": [
    {
     "name": "stdout",
     "output_type": "stream",
     "text": [
      "[2, 4, 'prove', 'Of change', 35, 67, 87, 54, 3, 5, 67, 89]\n"
     ]
    }
   ],
   "source": [
    "#change the range of items\n",
    "list=[\n",
    "    2,4,32,34,67,54,35,67,87,54,3,5,67,89\n",
    "]\n",
    "list[2:6]='prove','Of change' # type: ignore\n",
    "print(list) "
   ]
  },
  {
   "cell_type": "code",
   "execution_count": null,
   "metadata": {},
   "outputs": [],
   "source": [
    "#Adding the items\n",
    "list=[\n",
    "    'banaana','cherry','black apple'\n",
    "]\n",
    "list.append('orange')\n",
    "print(list)"
   ]
  },
  {
   "cell_type": "code",
   "execution_count": null,
   "metadata": {},
   "outputs": [],
   "source": [
    "a=[\n",
    "    2,4,5,7,89,87\n",
    "]\n",
    "a.append(-20)\n",
    "print(a)"
   ]
  },
  {
   "cell_type": "code",
   "execution_count": null,
   "metadata": {},
   "outputs": [],
   "source": [
    "#remove the items\n",
    "\n",
    "a=[\n",
    "    22,34,67,43,23,56,54,32,34,'Remove me'\n",
    "]\n",
    "a.remove('Remove me')\n",
    "print(a)\n"
   ]
  },
  {
   "cell_type": "code",
   "execution_count": null,
   "metadata": {},
   "outputs": [
    {
     "name": "stdout",
     "output_type": "stream",
     "text": [
      "Prove of conacatination: [2, 3, 4, 5, 6, 7, 'r', 4, 5, 3, 234, 2]\n"
     ]
    }
   ],
   "source": [
    "#joining the list\n",
    "a=[\n",
    "    2,3,4,5,6,7\n",
    "]\n",
    "a1=[\n",
    "    'r',4,5,3,234,2\n",
    "]\n",
    "print('Prove of conacatination:',a+a1)"
   ]
  },
  {
   "cell_type": "code",
   "execution_count": null,
   "metadata": {},
   "outputs": [
    {
     "name": "stdout",
     "output_type": "stream",
     "text": [
      "Yes! Value exist\n"
     ]
    }
   ],
   "source": [
    "#check if list contains in elements\n",
    "a=[\n",
    "    3,4,3,2,4,7,65,43,67,65,87,5,'bye','pm'\n",
    "]\n",
    "a1=input('Enter anything')\n",
    "try:\n",
    "    a1 = int(a1)                  # this function helps to prevent error, in this case we have integer and strinng in order to maintain flow we use this function\n",
    "except ValueError:\n",
    "    pass\n",
    "if a1 in a:\n",
    "    print('Yes! Value exist')\n",
    "else:\n",
    "    print('Value error: Elements must be missing')\n",
    " \n",
    "\n"
   ]
  },
  {
   "cell_type": "code",
   "execution_count": null,
   "metadata": {},
   "outputs": [],
   "source": [
    "#reversing the list\n",
    "a=[\n",
    "    3,4,3,2,4,7,65,43,67,65,87,5,'bye','pm'\n",
    "]\n",
    "a.reverse() #in built function to reverse the list elements\n",
    "print(a)"
   ]
  },
  {
   "cell_type": "markdown",
   "metadata": {},
   "source": [
    "Assingment"
   ]
  },
  {
   "cell_type": "code",
   "execution_count": null,
   "metadata": {},
   "outputs": [
    {
     "name": "stdout",
     "output_type": "stream",
     "text": [
      "List Comprehension way\n",
      "Yes\n",
      "No\n",
      "Maybe\n",
      "No\n",
      "Yes\n",
      "Another approach: ['Yes', 'No', 'Maybe', 'No', 'Yes']\n"
     ]
    }
   ],
   "source": [
    "response1=[\n",
    "    'Yes','','','No','Maybe','','No','','Yes'\n",
    "]\n",
    "print('List Comprehension way')\n",
    "for items in response1:\n",
    "    if items!='':\n",
    "     print(items)\n",
    "\n",
    "        #summary: we have to asign list comprehension to excute this task\n",
    "                 # we have used for loop to check every items in list \n",
    "                 # After checking the items we found error in the form of empty strings ['']\n",
    "                 # Then we use != to remove the empty strings\n",
    "                 # Then loops started to run and everytimes it remove the empty strings.\n",
    " \n",
    " #Another approach\n",
    "re1=[\n",
    "    'Yes','','','No','Maybe','','No','','Yes'\n",
    "]\n",
    "new=[]\n",
    "for item in re1:\n",
    "    if item!='':\n",
    "        new.append(item)\n",
    "else:\n",
    "    pass\n",
    "print('Another approach:',new)\n"
   ]
  },
  {
   "cell_type": "markdown",
   "metadata": {},
   "source": [
    "Assingment"
   ]
  },
  {
   "cell_type": "code",
   "execution_count": null,
   "metadata": {},
   "outputs": [
    {
     "name": "stdout",
     "output_type": "stream",
     "text": [
      "Class_1 Average Score: 86.6\n",
      "Class_2 Average Score: 78.4\n"
     ]
    }
   ],
   "source": [
    "import  math\n",
    "import statistics\n",
    "\n",
    "cs1=[\n",
    "    85,90,88,92,78\n",
    "]\n",
    "cs2=[\n",
    "    75,82,80,85,70\n",
    "]\n",
    "cls_avg=sum(cs1)/len(cs1)  #we can manually perform the avergae \n",
    "cls2_avg=statistics.mean(cs2) # there is a libarary statistics we can import and perform average\n",
    "#cls2_avg=sum(cs2)/len(cs2)\n",
    "\n",
    "print('Class_1 Average Score:',cls_avg)\n",
    "print('Class_2 Average Score:',cls2_avg)\n",
    "\n",
    "\n",
    "   \n"
   ]
  },
  {
   "cell_type": "markdown",
   "metadata": {},
   "source": [
    "Assingment"
   ]
  },
  {
   "cell_type": "code",
   "execution_count": null,
   "metadata": {},
   "outputs": [
    {
     "name": "stdout",
     "output_type": "stream",
     "text": [
      "[[1, 2], [3, 4], [5, 6], [7, 8], [9, 10]]\n"
     ]
    }
   ],
   "source": [
    "list=[[1,2],[3,4],[5,6]]\n",
    "list2=[[7,8],[9,10]]\n",
    "final=list+list2\n",
    "print(final)"
   ]
  },
  {
   "cell_type": "markdown",
   "metadata": {},
   "source": [
    "Assingment"
   ]
  },
  {
   "cell_type": "code",
   "execution_count": null,
   "metadata": {},
   "outputs": [
    {
     "name": "stdout",
     "output_type": "stream",
     "text": [
      "Hello world!\n",
      "Pyhton is awesome\n",
      "I love coding\n"
     ]
    }
   ],
   "source": [
    "list=['Hello world!','Pyhton is awesome','I love coding']\n",
    "\n",
    "for item in list:\n",
    "    print(item)"
   ]
  },
  {
   "cell_type": "markdown",
   "metadata": {},
   "source": [
    "Assingment"
   ]
  },
  {
   "cell_type": "code",
   "execution_count": null,
   "metadata": {},
   "outputs": [
    {
     "name": "stdout",
     "output_type": "stream",
     "text": [
      "Here is the modify list: [5, 10, 20, 40, 50, 60]\n"
     ]
    }
   ],
   "source": [
    "data_points=[\n",
    "    10,20,30,40,50\n",
    "]\n",
    "data_points.append(60)\n",
    "data_points.insert(0,5)\n",
    "data_points.remove(30)\n",
    "print('Here is the modify list:',data_points)"
   ]
  },
  {
   "cell_type": "markdown",
   "metadata": {},
   "source": [
    "Assingment"
   ]
  },
  {
   "cell_type": "code",
   "execution_count": null,
   "metadata": {},
   "outputs": [
    {
     "name": "stdout",
     "output_type": "stream",
     "text": [
      "Student ID: TU10001, Enrollment Status: Full-Time Student\n",
      "Credit Hours: 34.0\n",
      "--------------------------------------------------\n",
      "Student ID: TU10002, Enrollment Status: Full-Time Student\n",
      "Credit Hours: 34.0\n",
      "--------------------------------------------------\n",
      "Student ID: TU10003, Enrollment Status: Full-Time Student\n",
      "Credit Hours: 32.0\n",
      "--------------------------------------------------\n",
      "Credit Hours Entered by You: [34.0, 34.0, 32.0]\n",
      "--------------------------------------------------\n",
      "Thank you for your feedback\n"
     ]
    }
   ],
   "source": [
    "# Get the number of students from the user\n",
    "n_students = int(input('Enter the number of students: '))\n",
    "\n",
    "# Initialize the student count and an empty list to store credit hours\n",
    "students = 10000\n",
    "credits = []\n",
    "\n",
    "# Loop through each student to get their credit hours\n",
    "for x in range(n_students):\n",
    "    # Get the credit hours for the current student\n",
    "    course_credit = float(input('Enter the credit hours: '))\n",
    "    \n",
    "    # Add the credit hours to the list\n",
    "    credits.append(course_credit)\n",
    "    \n",
    "    # Increment the student count\n",
    "    students += 1\n",
    "    \n",
    "    # Determine enrollment status based on credit hours\n",
    "    if course_credit >= 12:\n",
    "        status = 'Full-Time Student'\n",
    "    else:\n",
    "        status = 'Part-Time Student'\n",
    "    \n",
    "    # Print the student ID, enrollment status, and credit hours\n",
    "    print(f'Student ID: TU{students}, Enrollment Status: {status}')\n",
    "    print(f'Credit Hours: {course_credit}')\n",
    "    print('-' * 50)\n",
    "\n",
    "# Print all the credit hours entered by the user\n",
    "print('Credit Hours Entered by You:', credits)\n",
    "print('-' * 50)\n",
    "\n",
    "# Ask the user to confirm if the credit hours are correct\n",
    "a = input('Are you sure the credit hours are correct? (yes/no): ').lower()\n",
    "\n",
    "# Provide feedback based on the user's response\n",
    "if a == 'yes':\n",
    "    print('Thank you for your feedback')\n",
    "elif a == 'no':\n",
    "    print('Please type the valid credit hours')\n",
    "    \n",
    "    # Print the student ID, enrollment status, and credit hours\n",
    "    print(f'Student ID: IIT{students}, Enrollment Status: {status}')\n",
    "    print(f'Credit Hours: {course_credit}')\n",
    "    print('-' * 50)\n",
    "\n",
    "\n",
    "\n",
    "else:\n",
    "    \n",
    "    print('Something went wrong')\n"
   ]
  },
  {
   "cell_type": "markdown",
   "metadata": {},
   "source": [
    "Assingment"
   ]
  },
  {
   "cell_type": "code",
   "execution_count": null,
   "metadata": {},
   "outputs": [
    {
     "name": "stdout",
     "output_type": "stream",
     "text": [
      "User Id: NPL1000, Age Group:Adult\n",
      "Age you entered: 20\n",
      "--------------------------------------------------\n",
      "Number of people in each group\n",
      "child: 0\n",
      "Senior: 0\n",
      "Adult: 1\n"
     ]
    }
   ],
   "source": [
    "users=int(input('Enter the numbers of users')) #Asking the users to specify number of participation\n",
    "new_list=[]\n",
    "\n",
    "\n",
    "for x in range(users):\n",
    "    age=int(input('Enter the age')) #Aking to enter the age of users\n",
    "    new_list.append(age)     #Storing the age input  into the list format\n",
    "    \n",
    " \n",
    "# Classifying the different ages \n",
    "for Id,age in enumerate(new_list,start=1000):\n",
    "    if age<18:\n",
    "        \n",
    "        Group='Child'\n",
    "    elif 18 <= age <65:\n",
    "        \n",
    "        Group='Adult'\n",
    "    elif 65 <= age <125:\n",
    "        \n",
    "        Group='Senior'\n",
    "    else:\n",
    "        Group='None'\n",
    "\n",
    "    #diplaying the output\n",
    "    print(f'User Id: NPL{Id}, Age Group:{Group}')\n",
    "    print('Age you entered:',age)\n",
    "    print('-'*50)\n",
    "    \n",
    "c_c=0\n",
    "a_c=0\n",
    "s_c=0\n",
    "for age in new_list:\n",
    "    if age<18:\n",
    "        c_c+=1\n",
    "    elif 18 <= age <65:\n",
    "        a_c+=1\n",
    "    elif 65 <= age <125:\n",
    "        s_c+=1\n",
    "    else:\n",
    "        pass\n",
    "print('Number of people in each group')        \n",
    "print('child:',c_c)\n",
    "print('Senior:',s_c)\n",
    "print('Adult:',a_c)\n"
   ]
  },
  {
   "cell_type": "code",
   "execution_count": null,
   "metadata": {},
   "outputs": [
    {
     "name": "stdout",
     "output_type": "stream",
     "text": [
      "aham bhramas mi\n",
      "['AHAM', 'BHRAMAS', 'MI']\n",
      "AHAM BHRAMAS MI\n"
     ]
    }
   ],
   "source": [
    "char='AHAM BHRAMAS MI'\n",
    "print(char.lower())\n",
    "print(char.split())\n",
    "print(''.join(char))"
   ]
  },
  {
   "cell_type": "code",
   "execution_count": null,
   "metadata": {},
   "outputs": [
    {
     "name": "stdout",
     "output_type": "stream",
     "text": [
      "{1985, 'Thirller', 'michal jackson'}\n",
      "{1985, 34, 'michal jackson', 56, 'Thirller', 543}\n"
     ]
    },
    {
     "data": {
      "text/plain": [
       "True"
      ]
     },
     "execution_count": 34,
     "metadata": {},
     "output_type": "execute_result"
    }
   ],
   "source": [
    "a_list=[\"michal jackson\",\"Thirller\",\"Thirller\",1985]\n",
    "a={34,543,56}\n",
    "a_list=set(a_list)\n",
    "b=a.union(a_list)\n",
    "print(a_list)\n",
    "print(b)\n",
    "'Thirller' in  a_list\n"
   ]
  },
  {
   "cell_type": "code",
   "execution_count": null,
   "metadata": {},
   "outputs": [
    {
     "data": {
      "text/plain": [
       "4"
      ]
     },
     "execution_count": 36,
     "metadata": {},
     "output_type": "execute_result"
    }
   ],
   "source": [
    "A=((1),[2,3],[4])\n",
    "A[2][0]"
   ]
  },
  {
   "cell_type": "code",
   "execution_count": null,
   "metadata": {},
   "outputs": [
    {
     "name": "stdout",
     "output_type": "stream",
     "text": [
      "[10, 1.2]\n"
     ]
    }
   ],
   "source": [
    "A=[\"hard rock\",10,1.2]\n",
    "del(A[0])\n",
    "print(A)"
   ]
  },
  {
   "cell_type": "code",
   "execution_count": null,
   "metadata": {},
   "outputs": [
    {
     "name": "stdout",
     "output_type": "stream",
     "text": [
      "{'B', 'c', 'A'}\n"
     ]
    }
   ],
   "source": [
    "V={'A','B'}\n",
    "V.add('c')\n",
    "print(V)"
   ]
  },
  {
   "cell_type": "code",
   "execution_count": null,
   "metadata": {},
   "outputs": [
    {
     "name": "stdout",
     "output_type": "stream",
     "text": [
      "['red', 'yellow', 'green', 'white']\n"
     ]
    }
   ],
   "source": [
    "color=['red','yellow','green','teal']\n",
    "for i in range(0,4):\n",
    "    color[3]='white'\n",
    "print(color)\n"
   ]
  },
  {
   "cell_type": "code",
   "execution_count": null,
   "metadata": {},
   "outputs": [
    {
     "name": "stdout",
     "output_type": "stream",
     "text": [
      "0 red\n",
      "1 yellow\n",
      "2 green\n",
      "3 teal\n"
     ]
    }
   ],
   "source": [
    "color=['red','yellow','green','teal']\n",
    "for i,colors in enumerate(color):\n",
    "    print(i,colors)\n",
    "\n",
    " "
   ]
  },
  {
   "cell_type": "code",
   "execution_count": null,
   "metadata": {},
   "outputs": [
    {
     "name": "stdout",
     "output_type": "stream",
     "text": [
      "['yellow', 'yellow'] 2\n"
     ]
    }
   ],
   "source": [
    "color=['yellow','yellow','red','yellow','yellow','teal','yellow']\n",
    "new_list=[]\n",
    "i=0\n",
    "while ( color[i]=='yellow'):\n",
    "    new_list.append(color[i])\n",
    "    i+=1\n",
    "print(new_list,i)\n",
    "\n",
    "    "
   ]
  },
  {
   "cell_type": "code",
   "execution_count": null,
   "metadata": {},
   "outputs": [
    {
     "name": "stdout",
     "output_type": "stream",
     "text": [
      "0 A\n",
      "1 B\n",
      "2 C\n"
     ]
    }
   ],
   "source": [
    "for i, x in enumerate(['A', 'B', 'C']):\n",
    "    print(i, x)"
   ]
  },
  {
   "cell_type": "code",
   "execution_count": null,
   "metadata": {},
   "outputs": [
    {
     "name": "stdout",
     "output_type": "stream",
     "text": [
      "Expense Tracker\n",
      "Today calendra: 081/09/09\n",
      "--------------------------------------------------\n",
      "Track your expenses\n",
      "--------------------------------------------------\n",
      "(1) COMIC :  $78\n",
      "(2) CINEMA :  $65\n",
      "(3) BOOKS/TUTUION FEE :  $78976\n",
      "--------------------------------------------------\n",
      " Total Expenses of Day: $79119\n"
     ]
    }
   ],
   "source": [
    "#expense tracker-- user input -- products and price, addiung the price, total price\n",
    "\n",
    "user=int(input('Enter the number of your purchase today'))\n",
    "date=input('Enter the date  in YY//MM/DD')\n",
    "products_price=[]  # appending the products and price in this list\n",
    "Total=0\n",
    "\n",
    "for x in range(user):\n",
    "    expenses=input('Enter the expense area').upper()\n",
    "    price=input('Enter the price of expenses')\n",
    "    Total+=int(price) # Caclulating of each price in total\n",
    "    products_price.append((expenses,price)) # appending the products on the newlist\n",
    "    x+=1 # contining the iterations\n",
    "\n",
    "print('Expense Tracker')\n",
    "print('Today calendra:',date)\n",
    "print('-'*50)\n",
    "print('Track your expenses')\n",
    "print('-'*50)\n",
    "for id, items in enumerate(products_price, start=1):\n",
    "    print(f'({id}) {items[0]} :  ${items[1]}')\n",
    "print('-'*50)\n",
    "print(f' Total Expenses of Day: ${Total}')\n",
    "\n",
    "\n"
   ]
  },
  {
   "cell_type": "code",
   "execution_count": null,
   "metadata": {},
   "outputs": [],
   "source": [
    "def f1(input):\n",
    "    output=input+2\n",
    "    return output  # return function basically return the value in this case return function is returning the output"
   ]
  },
  {
   "cell_type": "code",
   "execution_count": null,
   "metadata": {},
   "outputs": [
    {
     "data": {
      "text/plain": [
       "'ahamaham'"
      ]
     },
     "execution_count": 19,
     "metadata": {},
     "output_type": "execute_result"
    }
   ],
   "source": [
    "def f2(a,b):\n",
    "    c=a*b\n",
    "    return c\n",
    "f2(2,'aham')\n"
   ]
  },
  {
   "cell_type": "code",
   "execution_count": null,
   "metadata": {},
   "outputs": [
    {
     "data": {
      "text/plain": [
       "4"
      ]
     },
     "execution_count": 10,
     "metadata": {},
     "output_type": "execute_result"
    }
   ],
   "source": [
    "f1(2)"
   ]
  },
  {
   "cell_type": "code",
   "execution_count": null,
   "metadata": {},
   "outputs": [
    {
     "name": "stdout",
     "output_type": "stream",
     "text": [
      "None\n"
     ]
    }
   ],
   "source": [
    "def NoWork():\n",
    "    pass\n",
    "print(NoWork())"
   ]
  },
  {
   "cell_type": "code",
   "execution_count": null,
   "metadata": {},
   "outputs": [],
   "source": [
    "def printstuff(stuff):\n",
    "    for i,s in enumerate(stuff):\n",
    "\n",
    "        print('Album',i ,'rating',s)"
   ]
  },
  {
   "cell_type": "code",
   "execution_count": null,
   "metadata": {},
   "outputs": [
    {
     "name": "stdout",
     "output_type": "stream",
     "text": [
      "Album 0 rating 1\n",
      "Album 1 rating 23\n",
      "Album 2 rating 5\n",
      "Album 3 rating 65\n",
      "Album 4 rating 43\n",
      "Album 5 rating 53\n"
     ]
    }
   ],
   "source": [
    "album_ratings=[1,23,5,65,43,53]\n",
    "printstuff(album_ratings)"
   ]
  },
  {
   "cell_type": "code",
   "execution_count": null,
   "metadata": {},
   "outputs": [
    {
     "name": "stdout",
     "output_type": "stream",
     "text": [
      "Shankar\n",
      "HANUMAN\n",
      "BHRAMA\n",
      "KRISHNA\n"
     ]
    }
   ],
   "source": [
    "def artist(*name):\n",
    "    for names in name:\n",
    "        print(names)\n",
    "artist('Shankar','HANUMAN','BHRAMA','KRISHNA')"
   ]
  },
  {
   "cell_type": "code",
   "execution_count": null,
   "metadata": {},
   "outputs": [
    {
     "name": "stdout",
     "output_type": "stream",
     "text": [
      "invaild values occurs\n"
     ]
    }
   ],
   "source": [
    "try:\n",
    "    a=float(input('ENTER THE NUMBER'))\n",
    "    B=float(input('ENTER THE NUMBER'))\n",
    "    result= a+B\n",
    "except ValueError:\n",
    "    print('invaild values occurs')\n",
    "else:\n",
    "    print('ready to go',result)\n"
   ]
  },
  {
   "cell_type": "code",
   "execution_count": null,
   "metadata": {},
   "outputs": [
    {
     "name": "stdout",
     "output_type": "stream",
     "text": [
      "Unable to fetch data from server\n",
      "File is now closed\n"
     ]
    }
   ],
   "source": [
    "try:\n",
    "    getfile=open('my file.txt','r')\n",
    "    getfile.write('my file exception handling')\n",
    "\n",
    "except IOError:\n",
    "    print('Unable to fetch data from server')\n",
    "else:\n",
    "    print('File sucessfully fetched',getfile)\n",
    "\n",
    "finally:\n",
    "    getfile.close()\n",
    "    print('File is now closed')    \n",
    "\n"
   ]
  },
  {
   "cell_type": "code",
   "execution_count": null,
   "metadata": {},
   "outputs": [
    {
     "name": "stdout",
     "output_type": "stream",
     "text": [
      "The data has been  fetched:\n",
      " Bloodshed Dev-C++ is distributed under the GNU General Public License. \n",
      "Be sure to read it before using Dev-C++.\n",
      "\n",
      "\t\t   GNU GENERAL PUBLIC LICENSE\n",
      "\n",
      "                       Version 2, June 1991\n",
      "\n",
      " Copyright (C) 1989, 1991 Free Software Foundation, Inc.\n",
      "                          675 Mass Ave, Cambridge, MA 02139, USA\n",
      " Everyone is permitted to copy and distribute verbatim copies\n",
      " of this license document, but changing it is not allowed.\n",
      "\n",
      "                            Preamble\n",
      "\n",
      "  The licenses for most software are designed to take away your\n",
      "freedom to share and change it.  By contrast, the GNU General Public\n",
      "License is intended to guarantee your freedom to share and change free\n",
      "\n",
      "software--to make sure the software is free for all its users.  This\n",
      "General Public License applies to most of the Free Software\n",
      "Foundation's software and to any other program whose authors commit to\n",
      "using it.  (Some other Free Software Foundation software is covered by\n",
      "the GNU Library General Public License instead.)  You can apply it to\n",
      "your programs, too.\n",
      "\n",
      "  When we speak of free software, we are referring to freedom, not\n",
      "price.  Our General Public Licenses are designed to make sure that you\n",
      "\n",
      "have the freedom to distribute copies of free software (and charge for\n",
      "this service if you wish), that you receive source code or can get it\n",
      "if you want it, that you can change the software or use pieces of it\n",
      "in new free programs; and that you know you can do these things.\n",
      "\n",
      "  To protect your rights, we need to make restrictions that forbid\n",
      "anyone to deny you these rights or to ask you to surrender the rights.\n",
      "These restrictions translate to certain responsibilities for you if you\n",
      "\n",
      "distribute copies of the software, or if you modify it.\n",
      "\n",
      "  For example, if you distribute copies of such a program, whether\n",
      "gratis or for a fee, you must give the recipients all the rights that\n",
      "you have.  You must make sure that they, too, receive or can get the\n",
      "source code.  And you must show them these terms so they know their\n",
      "rights.\n",
      "\n",
      "  We protect your rights with two steps: (1) copyright the software, and\n",
      "(2) offer you this license which gives you legal permission to copy,\n",
      "\n",
      "distribute and/or modify the software.\n",
      "\n",
      "  Also, for each author's protection and ours, we want to make certain\n",
      "that everyone understands that there is no warranty for this free\n",
      "software.  If the software is modified by someone else and passed on, we\n",
      "want its recipients to know that what they have is not the original, so\n",
      "that any problems introduced by others will not reflect on the original\n",
      "authors' reputations.\n",
      "\n",
      "  Finally, any free program is threatened constantly by software\n",
      "\n",
      "patents.  We wish to avoid the danger that redistributors of a free\n",
      "program will individually obtain patent licenses, in effect making the\n",
      "program proprietary.  To prevent this, we have made it clear that any\n",
      "patent must be licensed for everyone's free use or not licensed at all.\n",
      "\n",
      "  The precise terms and conditions for copying, distribution and\n",
      "modification follow.\n",
      "\n",
      "                    GNU GENERAL PUBLIC LICENSE\n",
      "   TERMS AND CONDITIONS FOR COPYING, DISTRIBUTION AND MODIFICATION\n",
      "\n",
      "  0. This License applies to any program or other work which contains\n",
      "a notice placed by the copyright holder saying it may be distributed\n",
      "under the terms of this General Public License.  The \"Program\", below,\n",
      "refers to any such program or work, and a \"work based on the Program\"\n",
      "means either the Program or any derivative work under copyright law:\n",
      "that is to say, a work containing the Program or a portion of it,\n",
      "either verbatim or with modifications and/or translated into another\n",
      "\n",
      "language.  (Hereinafter, translation is included without limitation in\n",
      "the term \"modification\".)  Each licensee is addressed as \"you\".\n",
      "\n",
      "Activities other than copying, distribution and modification are not\n",
      "covered by this License; they are outside its scope.  The act of\n",
      "running the Program is not restricted, and the output from the Program\n",
      "is covered only if its contents constitute a work based on the\n",
      "Program (independent of having been made by running the Program).\n",
      "\n",
      "Whether that is true depends on what the Program does.\n",
      "\n",
      "  1. You may copy and distribute verbatim copies of the Program's\n",
      "source code as you receive it, in any medium, provided that you\n",
      "conspicuously and appropriately publish on each copy an appropriate\n",
      "copyright notice and disclaimer of warranty; keep intact all the\n",
      "notices that refer to this License and to the absence of any warranty;\n",
      "and give any other recipients of the Program a copy of this License\n",
      "along with the Program.\n",
      "\n",
      "You may charge a fee for the physical act of transferring a copy, and\n",
      "you may at your option offer warranty protection in exchange for a fee.\n",
      "\n",
      "  2. You may modify your copy or copies of the Program or any portion\n",
      "of it, thus forming a work based on the Program, and copy and\n",
      "distribute such modifications or work under the terms of Section 1\n",
      "above, provided that you also meet all of these conditions:\n",
      "\n",
      "    a) You must cause the modified files to carry prominent notices\n",
      "\n",
      "    stating that you changed the files and the date of any change.\n",
      "\n",
      "    b) You must cause any work that you distribute or publish, that in\n",
      "    whole or in part contains or is derived from the Program or any\n",
      "    part thereof, to be licensed as a whole at no charge to all third\n",
      "    parties under the terms of this License.\n",
      "\n",
      "    c) If the modified program normally reads commands interactively\n",
      "    when run, you must cause it, when started running for such\n",
      "    interactive use in the most ordinary way, to print or display an\n",
      "\n",
      "    announcement including an appropriate copyright notice and a\n",
      "    notice that there is no warranty (or else, saying that you provide\n",
      "    a warranty) and that users may redistribute the program under\n",
      "    these conditions, and telling the user how to view a copy of this\n",
      "    License.  (Exception: if the Program itself is interactive but\n",
      "    does not normally print such an announcement, your work based on\n",
      "    the Program is not required to print an announcement.)\n",
      "\n",
      "These requirements apply to the modified work as a whole.  If\n",
      "\n",
      "identifiable sections of that work are not derived from the Program,\n",
      "and can be reasonably considered independent and separate works in\n",
      "themselves, then this License, and its terms, do not apply to those\n",
      "sections when you distribute them as separate works.  But when you\n",
      "distribute the same sections as part of a whole which is a work based\n",
      "on the Program, the distribution of the whole must be on the terms of\n",
      "this License, whose permissions for other licensees extend to the\n",
      "\n",
      "entire whole, and thus to each and every part regardless of who wrote it.\n",
      "\n",
      "Thus, it is not the intent of this section to claim rights or contest\n",
      "your rights to work written entirely by you; rather, the intent is to\n",
      "exercise the right to control the distribution of derivative or\n",
      "collective works based on the Program.\n",
      "\n",
      "In addition, mere aggregation of another work not based on the Program\n",
      "with the Program (or with a work based on the Program) on a volume of\n",
      "a storage or distribution medium does not bring the other work under\n",
      "\n",
      "the scope of this License.\n",
      "\n",
      "  3. You may copy and distribute the Program (or a work based on it,\n",
      "under Section 2) in object code or executable form under the terms of\n",
      "Sections 1 and 2 above provided that you also do one of the following:\n",
      "\n",
      "    a) Accompany it with the complete corresponding machine-readable\n",
      "    source code, which must be distributed under the terms of Sections\n",
      "    1 and 2 above on a medium customarily used for software interchange; or,\n",
      "\n",
      "    b) Accompany it with a written offer, valid for at least three\n",
      "\n",
      "    years, to give any third party, for a charge no more than your\n",
      "    cost of physically performing source distribution, a complete\n",
      "    machine-readable copy of the corresponding source code, to be\n",
      "    distributed under the terms of Sections 1 and 2 above on a medium\n",
      "    customarily used for software interchange; or,\n",
      "\n",
      "    c) Accompany it with the information you received as to the offer\n",
      "    to distribute corresponding source code.  (This alternative is\n",
      "    allowed only for noncommercial distribution and only if you\n",
      "\n",
      "    received the program in object code or executable form with such\n",
      "    an offer, in accord with Subsection b above.)\n",
      "\n",
      "The source code for a work means the preferred form of the work for\n",
      "making modifications to it.  For an executable work, complete source\n",
      "code means all the source code for all modules it contains, plus any\n",
      "associated interface definition files, plus the scripts used to\n",
      "control compilation and installation of the executable.  However, as a\n",
      "special exception, the source code distributed need not include\n",
      "\n",
      "anything that is normally distributed (in either source or binary\n",
      "form) with the major components (compiler, kernel, and so on) of the\n",
      "operating system on which the executable runs, unless that component\n",
      "itself accompanies the executable.\n",
      "\n",
      "If distribution of executable or object code is made by offering\n",
      "access to copy from a designated place, then offering equivalent\n",
      "access to copy the source code from the same place counts as\n",
      "distribution of the source code, even though third parties are not\n",
      "\n",
      "compelled to copy the source along with the object code.\n",
      "\n",
      "  4. You may not copy, modify, sublicense, or distribute the Program\n",
      "except as expressly provided under this License.  Any attempt\n",
      "otherwise to copy, modify, sublicense or distribute the Program is\n",
      "void, and will automatically terminate your rights under this License.\n",
      "However, parties who have received copies, or rights, from you under\n",
      "this License will not have their licenses terminated so long as such\n",
      "parties remain in full compliance.\n",
      "\n",
      "  5. You are not required to accept this License, since you have not\n",
      "signed it.  However, nothing else grants you permission to modify or\n",
      "distribute the Program or its derivative works.  These actions are\n",
      "prohibited by law if you do not accept this License.  Therefore, by\n",
      "modifying or distributing the Program (or any work based on the\n",
      "Program), you indicate your acceptance of this License to do so, and\n",
      "all its terms and conditions for copying, distributing or modifying\n",
      "\n",
      "the Program or works based on it.\n",
      "\n",
      "  6. Each time you redistribute the Program (or any work based on the\n",
      "Program), the recipient automatically receives a license from the\n",
      "original licensor to copy, distribute or modify the Program subject to\n",
      "these terms and conditions.  You may not impose any further\n",
      "restrictions on the recipients' exercise of the rights granted herein.\n",
      "You are not responsible for enforcing compliance by third parties to\n",
      "this License.\n",
      "\n",
      "  7. If, as a consequence of a court judgment or allegation of patent\n",
      "\n",
      "infringement or for any other reason (not limited to patent issues),\n",
      "conditions are imposed on you (whether by court order, agreement or\n",
      "otherwise) that contradict the conditions of this License, they do not\n",
      "excuse you from the conditions of this License.  If you cannot\n",
      "distribute so as to satisfy simultaneously your obligations under this\n",
      "License and any other pertinent obligations, then as a consequence you\n",
      "may not distribute the Program at all.  For example, if a patent\n",
      "\n",
      "license would not permit royalty-free redistribution of the Program by\n",
      "all those who receive copies directly or indirectly through you, then\n",
      "the only way you could satisfy both it and this License would be to\n",
      "refrain entirely from distribution of the Program.\n",
      "\n",
      "If any portion of this section is held invalid or unenforceable under\n",
      "any particular circumstance, the balance of the section is intended to\n",
      "apply and the section as a whole is intended to apply in other\n",
      "circumstances.\n",
      "\n",
      "It is not the purpose of this section to induce you to infringe any\n",
      "patents or other property right claims or to contest validity of any\n",
      "such claims; this section has the sole purpose of protecting the\n",
      "integrity of the free software distribution system, which is\n",
      "implemented by public license practices.  Many people have made\n",
      "generous contributions to the wide range of software distributed\n",
      "through that system in reliance on consistent application of that\n",
      "system; it is up to the author/donor to decide if he or she is willing\n",
      "\n",
      "to distribute software through any other system and a licensee cannot\n",
      "impose that choice.\n",
      "\n",
      "This section is intended to make thoroughly clear what is believed to\n",
      "be a consequence of the rest of this License.\n",
      "\n",
      "  8. If the distribution and/or use of the Program is restricted in\n",
      "certain countries either by patents or by copyrighted interfaces, the\n",
      "original copyright holder who places the Program under this License\n",
      "may add an explicit geographical distribution limitation excluding\n",
      "\n",
      "those countries, so that distribution is permitted only in or among\n",
      "countries not thus excluded.  In such case, this License incorporates\n",
      "the limitation as if written in the body of this License.\n",
      "\n",
      "  9. The Free Software Foundation may publish revised and/or new versions\n",
      "of the General Public License from time to time.  Such new versions will\n",
      "be similar in spirit to the present version, but may differ in detail to\n",
      "address new problems or concerns.\n",
      "\n",
      "Each version is given a distinguishing version number.  If the Program\n",
      "\n",
      "specifies a version number of this License which applies to it and \"any\n",
      "later version\", you have the option of following the terms and conditions\n",
      "either of that version or of any later version published by the Free\n",
      "Software Foundation.  If the Program does not specify a version number of\n",
      "this License, you may choose any version ever published by the Free Software\n",
      "Foundation.\n",
      "\n",
      "  10. If you wish to incorporate parts of the Program into other free\n",
      "programs whose distribution conditions are different, write to the author\n",
      "\n",
      "to ask for permission.  For software which is copyrighted by the Free\n",
      "Software Foundation, write to the Free Software Foundation; we sometimes\n",
      "make exceptions for this.  Our decision will be guided by the two goals\n",
      "of preserving the free status of all derivatives of our free software and\n",
      "of promoting the sharing and reuse of software generally.\n",
      "\n",
      "                            NO WARRANTY\n",
      "\n",
      "  11. BECAUSE THE PROGRAM IS LICENSED FREE OF CHARGE, THERE IS NO WARRANTY\n",
      "FOR THE PROGRAM, TO THE EXTENT PERMITTED BY APPLICABLE LAW.  EXCEPT WHEN\n",
      "\n",
      "OTHERWISE STATED IN WRITING THE COPYRIGHT HOLDERS AND/OR OTHER PARTIES\n",
      "PROVIDE THE PROGRAM \"AS IS\" WITHOUT WARRANTY OF ANY KIND, EITHER EXPRESSED\n",
      "OR IMPLIED, INCLUDING, BUT NOT LIMITED TO, THE IMPLIED WARRANTIES OF\n",
      "MERCHANTABILITY AND FITNESS FOR A PARTICULAR PURPOSE.  THE ENTIRE RISK AS\n",
      "TO THE QUALITY AND PERFORMANCE OF THE PROGRAM IS WITH YOU.  SHOULD THE\n",
      "PROGRAM PROVE DEFECTIVE, YOU ASSUME THE COST OF ALL NECESSARY SERVICING,\n",
      "REPAIR OR CORRECTION.\n",
      "\n",
      "  12. IN NO EVENT UNLESS REQUIRED BY APPLICABLE LAW OR AGREED TO IN WRITING\n",
      "\n",
      "WILL ANY COPYRIGHT HOLDER, OR ANY OTHER PARTY WHO MAY MODIFY AND/OR\n",
      "REDISTRIBUTE THE PROGRAM AS PERMITTED ABOVE, BE LIABLE TO YOU FOR DAMAGES,\n",
      "INCLUDING ANY GENERAL, SPECIAL, INCIDENTAL OR CONSEQUENTIAL DAMAGES ARISING\n",
      "OUT OF THE USE OR INABILITY TO USE THE PROGRAM (INCLUDING BUT NOT LIMITED\n",
      "TO LOSS OF DATA OR DATA BEING RENDERED INACCURATE OR LOSSES SUSTAINED BY\n",
      "YOU OR THIRD PARTIES OR A FAILURE OF THE PROGRAM TO OPERATE WITH ANY OTHER\n",
      "PROGRAMS), EVEN IF SUCH HOLDER OR OTHER PARTY HAS BEEN ADVISED OF THE\n",
      "\n",
      "POSSIBILITY OF SUCH DAMAGES.\n",
      "\n",
      "                     END OF TERMS AND CONDITIONS\n",
      "\n",
      "        Appendix: How to Apply These Terms to Your New Programs\n",
      "\n",
      "  If you develop a new program, and you want it to be of the greatest\n",
      "possible use to the public, the best way to achieve this is to make it\n",
      "free software which everyone can redistribute and change under these terms.\n",
      "\n",
      "  To do so, attach the following notices to the program.  It is safest\n",
      "to attach them to the start of each source file to most effectively\n",
      "\n",
      "convey the exclusion of warranty; and each file should have at least\n",
      "the \"copyright\" line and a pointer to where the full notice is found.\n",
      "\n",
      "    <one line to give the program's name and a brief idea of what it does.>\n",
      "    Copyright (C) 19yy  <name of author>\n",
      "\n",
      "    This program is free software; you can redistribute it and/or modify\n",
      "    it under the terms of the GNU General Public License as published by\n",
      "    the Free Software Foundation; either version 2 of the License, or\n",
      "\n",
      "    (at your option) any later version.\n",
      "\n",
      "    This program is distributed in the hope that it will be useful,\n",
      "    but WITHOUT ANY WARRANTY; without even the implied warranty of\n",
      "    MERCHANTABILITY or FITNESS FOR A PARTICULAR PURPOSE.  See the\n",
      "    GNU General Public License for more details.\n",
      "\n",
      "    You should have received a copy of the GNU General Public License\n",
      "    along with this program; if not, write to the Free Software\n",
      "    Foundation, Inc., 675 Mass Ave, Cambridge, MA 02139, USA.\n",
      "\n",
      "Also add information on how to contact you by electronic and paper mail.\n",
      "\n",
      "If the program is interactive, make it output a short notice like this\n",
      "when it starts in an interactive mode:\n",
      "\n",
      "    Gnomovision version 69, Copyright (C) 19yy name of author\n",
      "    Gnomovision comes with ABSOLUTELY NO WARRANTY; for details type `show w'.\n",
      "    This is free software, and you are welcome to redistribute it\n",
      "    under certain conditions; type `show c' for details.\n",
      "\n",
      "The hypothetical commands `show w' and `show c' should show the appropriate\n",
      "\n",
      "parts of the General Public License.  Of course, the commands you use may\n",
      "be called something other than `show w' and `show c'; they could even be\n",
      "mouse-clicks or menu items--whatever suits your program.\n",
      "\n",
      "You should also get your employer (if you work as a programmer) or your\n",
      "school, if any, to sign a \"copyright disclaimer\" for the program, if\n",
      "necessary.  Here is a sample; alter the names:\n",
      "\n",
      "  Yoyodyne, Inc., hereby disclaims all copyright interest in the program\n",
      "  `Gnomovision' (which makes passes at compilers) written by James Hacker.\n",
      "\n",
      "  <signature of Ty Coon>, 1 April 1989\n",
      "  Ty Coon, President of Vice\n",
      "\n",
      "This General Public License does not permit incorporating your program into\n",
      "proprietary programs.  If your program is a subroutine library, you may\n",
      "consider it more useful to permit linking proprietary applications with the\n",
      "library.  If this is what you want to do, use the GNU Library General\n",
      "Public License instead of this License.\n"
     ]
    }
   ],
   "source": [
    "try:\n",
    "    getfile=open('my file.txt','r')\n",
    "    getfile=getfile.read()\n",
    "except IOError:\n",
    "    print('Unable to fetch the data at the moment\\nplease try again later')\n",
    "else:\n",
    "    print('The data has been  fetched:\\n',getfile)\n",
    "    \n"
   ]
  },
  {
   "cell_type": "code",
   "execution_count": null,
   "metadata": {},
   "outputs": [
    {
     "name": "stdout",
     "output_type": "stream",
     "text": [
      "Success a = 0.25\n"
     ]
    }
   ],
   "source": [
    "a = 1\n",
    "try:\n",
    "    b = int(input(\"Please enter a number to divide a: \"))\n",
    "    a = a / b\n",
    "    print(\"Success a =\", a)\n",
    "except:\n",
    "    print(\"There was an error\")\n"
   ]
  },
  {
   "cell_type": "markdown",
   "metadata": {},
   "source": [
    "Nested Tuple"
   ]
  },
  {
   "cell_type": "code",
   "execution_count": null,
   "metadata": {},
   "outputs": [
    {
     "name": "stdout",
     "output_type": "stream",
     "text": [
      "<class 'tuple'>\n",
      "<class 'tuple'>\n"
     ]
    }
   ],
   "source": [
    "a= (556,'s',(34,564,35,6))\n",
    "print(type(a))\n",
    "b=('suou',5,4.4,[4.5,45,3,56])\n",
    "print(type(b))"
   ]
  },
  {
   "cell_type": "markdown",
   "metadata": {},
   "source": [
    "Tuple constructor"
   ]
  },
  {
   "cell_type": "code",
   "execution_count": null,
   "metadata": {},
   "outputs": [
    {
     "name": "stdout",
     "output_type": "stream",
     "text": [
      "<class 'tuple'>\n"
     ]
    }
   ],
   "source": [
    "empty=tuple()\n",
    "print(type(empty))"
   ]
  },
  {
   "cell_type": "markdown",
   "metadata": {},
   "source": [
    "converting list into tuple"
   ]
  },
  {
   "cell_type": "code",
   "execution_count": null,
   "metadata": {},
   "outputs": [
    {
     "name": "stdout",
     "output_type": "stream",
     "text": [
      "(1, 2, 3, 4, 5, 'munna')\n",
      "<class 'tuple'>\n",
      "('h', 'e', 'l', 'l', 'o', ' ', 'w', 'o', 'r', 'l', 'd')\n"
     ]
    }
   ],
   "source": [
    "a= [1,2,3,4,5,'munna']\n",
    "b=tuple(a)\n",
    "print(b)\n",
    "print(type(b))\n",
    "a='hello world'\n",
    "b= tuple(a)\n",
    "print(b)"
   ]
  },
  {
   "cell_type": "code",
   "execution_count": null,
   "metadata": {},
   "outputs": [
    {
     "name": "stdout",
     "output_type": "stream",
     "text": [
      "{'beautiful': 'sultan', 'man': 67}\n",
      "('beautiful', 'man')\n",
      "<class 'tuple'>\n"
     ]
    }
   ],
   "source": [
    "user={\n",
    "          'beautiful':'sultan',\n",
    "          'man':67\n",
    "}\n",
    "print(user)\n",
    "a= tuple(user)\n",
    "print(a)\n",
    "print(type(a))"
   ]
  },
  {
   "cell_type": "code",
   "execution_count": null,
   "metadata": {},
   "outputs": [
    {
     "name": "stdout",
     "output_type": "stream",
     "text": [
      "('shiva', 'bharma', 4, 7)\n"
     ]
    }
   ],
   "source": [
    "# indexing\n",
    "a=('shiva','bharma',4,7,8,5)\n",
    "print(a[:4])"
   ]
  },
  {
   "cell_type": "code",
   "execution_count": null,
   "metadata": {},
   "outputs": [
    {
     "name": "stdout",
     "output_type": "stream",
     "text": [
      "2\n"
     ]
    }
   ],
   "source": [
    "#duplicates are allowed in tuple\n",
    "\n",
    "#methods in tuple\n",
    " #count method\n",
    "a=('shiva','bharma',4,7,8,5,1,2,4,54,)\n",
    "print(a.count(4))\n"
   ]
  },
  {
   "cell_type": "code",
   "execution_count": null,
   "metadata": {},
   "outputs": [
    {
     "name": "stdout",
     "output_type": "stream",
     "text": [
      "[1, 'shankar', 'ganesh', 5, 8, 12, 0]\n",
      "(1, 'shankar', 'ganesh', 5, 8, 12, 0)\n"
     ]
    }
   ],
   "source": [
    "#converting tuples into list\n",
    "a= ('shankar','ganesh',5,8,12)\n",
    "b=list(a)  # type: ignore\n",
    "b.append(0)\n",
    "b.insert(0,1)\n",
    "c=tuple(b)\n",
    "print(b)\n",
    "print(c)"
   ]
  },
  {
   "cell_type": "code",
   "execution_count": null,
   "metadata": {},
   "outputs": [
    {
     "name": "stdout",
     "output_type": "stream",
     "text": [
      "('shankar', 'ganesh', 5, 8, 12, 'bharma')\n"
     ]
    }
   ],
   "source": [
    "a= ('shankar','ganesh',5,8,12)\n",
    "b=('bharma',)\n",
    "a+=b\n",
    "print(a)\n",
    "\n"
   ]
  },
  {
   "cell_type": "code",
   "execution_count": null,
   "metadata": {},
   "outputs": [
    {
     "name": "stdout",
     "output_type": "stream",
     "text": [
      "('shankar', 'ganesh', 5, 8)\n"
     ]
    }
   ],
   "source": [
    "a= ('shankar','ganesh',5,8,12)\n",
    "b=list(a)\n",
    "b.remove(12)\n",
    "print(tuple(b))"
   ]
  },
  {
   "cell_type": "code",
   "execution_count": null,
   "metadata": {},
   "outputs": [
    {
     "name": "stdout",
     "output_type": "stream",
     "text": [
      "Name\n",
      "Phoneno\n",
      "Password\n"
     ]
    }
   ],
   "source": [
    "# Dictonary\n",
    "a= {'Name':'Dorna Raj Gyawali','Phoneno':'9765503550','Password':'F3ETSVJ0DGCGE63GDY63F'}\n",
    "for list in a:\n",
    "    print(list)"
   ]
  },
  {
   "cell_type": "code",
   "execution_count": null,
   "metadata": {},
   "outputs": [],
   "source": []
  },
  {
   "cell_type": "code",
   "execution_count": null,
   "metadata": {},
   "outputs": [],
   "source": []
  },
  {
   "cell_type": "code",
   "execution_count": null,
   "metadata": {},
   "outputs": [],
   "source": []
  },
  {
   "cell_type": "code",
   "execution_count": null,
   "metadata": {},
   "outputs": [
    {
     "name": "stdout",
     "output_type": "stream",
     "text": [
      "Properties of the Vehicle:\n",
      "Color: white\n",
      "Maximum Speed: 200\n",
      "Mileage: 20\n",
      "Seating Capacity: 5\n",
      "Properties of the Vehicle:\n",
      "Color: white\n",
      "Maximum Speed: 180\n",
      "Mileage: 25\n",
      "Seating Capacity: 4\n"
     ]
    }
   ],
   "source": [
    "class Vehicle:\n",
    "    color = \"white\"\n",
    "\n",
    "    def __init__(self, max_speed, mileage):\n",
    "        self.max_speed = max_speed\n",
    "        self.mileage = mileage\n",
    "        self.seating_capacity = None\n",
    "\n",
    "    def assign_seating_capacity(self, seating_capacity):\n",
    "        self.seating_capacity = seating_capacity\n",
    "\n",
    "    def display_properties(self):\n",
    "        print(\"Properties of the Vehicle:\")\n",
    "        print(\"Color:\", self.color)\n",
    "        print(\"Maximum Speed:\", self.max_speed)\n",
    "        print(\"Mileage:\", self.mileage)\n",
    "        print(\"Seating Capacity:\", self.seating_capacity)\n",
    "\n",
    "# Creating objects of the Vehicle class\n",
    "vehicle1 = Vehicle(200, 20)\n",
    "vehicle1.assign_seating_capacity(5)\n",
    "vehicle1.display_properties()\n",
    "\n",
    "vehicle2 = Vehicle(180, 25)\n",
    "vehicle2.assign_seating_capacity(4)\n",
    "vehicle2.display_properties()"
   ]
  },
  {
   "cell_type": "code",
   "execution_count": null,
   "metadata": {},
   "outputs": [
    {
     "name": "stdout",
     "output_type": "stream",
     "text": [
      "80\n"
     ]
    }
   ],
   "source": [
    "class Graph():\n",
    "    def __init__(self, id):\n",
    "        self.id = id\n",
    "        self.id = 80\n",
    "\n",
    "\n",
    "val = Graph(200)\n",
    "print(val.id)\n"
   ]
  },
  {
   "cell_type": "code",
   "execution_count": null,
   "metadata": {},
   "outputs": [],
   "source": [
    " def step(x): \n",
    "    if x > 0: \n",
    "        y = 1 \n",
    "    else: \n",
    "        y = 0 \n",
    "    return y\n"
   ]
  },
  {
   "cell_type": "code",
   "execution_count": null,
   "metadata": {},
   "outputs": [
    {
     "name": "stdout",
     "output_type": "stream",
     "text": [
      "a b\n",
      "a b\n",
      "I am dorna and my father name is om and i am a Cheif Data Scientist\n",
      "I am aham and my father name is sundaram and i am a ashmi\n"
     ]
    }
   ],
   "source": []
  },
  {
   "cell_type": "code",
   "execution_count": null,
   "metadata": {},
   "outputs": [
    {
     "name": "stdout",
     "output_type": "stream",
     "text": [
      "karan\n",
      "karan\n"
     ]
    }
   ],
   "source": [
    "\n",
    "\n",
    "class student:\n",
    "    name='karan'\n",
    "\n",
    "s1=student()\n",
    "print(s1.name)\n",
    "\n",
    "s2=student()\n",
    "print(s2.name)"
   ]
  },
  {
   "cell_type": "code",
   "execution_count": null,
   "metadata": {},
   "outputs": [
    {
     "name": "stdout",
     "output_type": "stream",
     "text": [
      "I can write the file\n"
     ]
    }
   ],
   "source": [
    "with open('my file.txt','r') as file:\n",
    "    \n",
    "    while True:\n",
    "        line = file.readline()\n",
    "        if not line:\n",
    "            break  # Stop when there are no more lines to read\n",
    "        print(line)\n",
    "\n",
    "file.close()\n"
   ]
  },
  {
   "cell_type": "code",
   "execution_count": null,
   "metadata": {},
   "outputs": [
    {
     "name": "stdout",
     "output_type": "stream",
     "text": [
      "a b\n",
      "a b\n",
      "Abc college\n",
      "I am dorna and my father name is om and i am a Cheif Data Scientist\n",
      "I am aham and my father name is sundaram and i am a ashmi\n",
      "hello\n"
     ]
    }
   ],
   "source": [
    "class person:\n",
    "    college_name= 'Abc college'\n",
    "    def __init__(self,n,f,r):\n",
    "        print('a b')\n",
    "\n",
    "        self.name=n\n",
    "        self.f_name=f\n",
    "        self.role=r\n",
    "    \n",
    "    \n",
    "\n",
    "    def info(self):\n",
    "            print(f'I am {self.name} and my father name is {self.f_name} and i am a {self.role}')\n",
    "    @staticmethod\n",
    "    def hello():\n",
    "        print('hello')\n",
    "\n",
    "a=person('dorna','om','Cheif Data Scientist')\n",
    "b=person('aham','sundaram','ashmi')\n",
    "print(person.college_name)\n",
    "a.info()\n",
    "b.info()\n",
    "a.hello()\n",
    "\n",
    "# df __init__(self): this type of constructor are refer as default contructor because parameter is null\n",
    "# def __init__(self,n,f,r): this type of contructor refer as parametarized constructor because parameter is defined\n"
   ]
  },
  {
   "cell_type": "code",
   "execution_count": null,
   "metadata": {},
   "outputs": [
    {
     "name": "stdout",
     "output_type": "stream",
     "text": [
      "College of 2027\n",
      "Welcome, Dorna Raj Gyawali\n",
      "STREAM: IOT MANAGEMENT AND ARTIFICAL TECHNOLOGY\n",
      "i am Dorna Raj Gyawali and i belong to IOT MANAGEMENT AND ARTIFICAL TECHNOLOGY stream\n"
     ]
    }
   ],
   "source": [
    "class college:\n",
    "    School= 'College of 2027'\n",
    "    def __init__(self,Name,Stream):\n",
    "        self.name=Name\n",
    "        self.stream=Stream\n",
    "    def result(self):\n",
    "         print(f'i am {self.name} and i belong to {self.stream} stream')\n",
    "    def welcom(self):\n",
    "         print('Welcome,',self.name)\n",
    "    def sub(self):\n",
    "         return self.stream\n",
    "\n",
    "a=college('Dorna Raj Gyawali','IOT MANAGEMENT AND ARTIFICAL TECHNOLOGY')\n",
    "print(college.School)\n",
    "a.welcom()\n",
    "print('STREAM:',a.sub())\n",
    "a.result()"
   ]
  },
  {
   "cell_type": "code",
   "execution_count": null,
   "metadata": {},
   "outputs": [
    {
     "name": "stdout",
     "output_type": "stream",
     "text": [
      "A student name Sisan Baniya has average scored of  85.33333333333333\n",
      " Subject Analysis:[89, 78, 89]\n"
     ]
    }
   ],
   "source": [
    "class student:\n",
    "    Result='Welcometo result'\n",
    "    def __init__(self,name,marks):\n",
    "        self.name=name\n",
    "        self.marks=marks\n",
    "\n",
    "    \n",
    "    def get_avg(self):\n",
    "        sum=0\n",
    "        for val in self.marks:\n",
    "            sum+=val\n",
    "        print(f'A student name {self.name} has average scored of  {sum/3}\\n Subject Analysis:{self.marks}')\n",
    "    \n",
    "s1=student('Sisan Baniya',[89,78,89])\n",
    "s1.get_avg()"
   ]
  },
  {
   "cell_type": "code",
   "execution_count": null,
   "metadata": {},
   "outputs": [
    {
     "name": "stdout",
     "output_type": "stream",
     "text": [
      "Car started..\n"
     ]
    }
   ],
   "source": [
    "# Abstraction\n",
    "class car:\n",
    "    def __init__(self):\n",
    "        self.acc=False\n",
    "        self.brk=False\n",
    "        self.clutch=False\n",
    "\n",
    "    def start(self):          #this paticular part is the example of encapsulation because  we are defining  method and class\n",
    "        self.acc=True\n",
    "        self.brk=False\n",
    "        self.clutch=True\n",
    "        print('Car started..')\n",
    "\n",
    "a=car()\n",
    "a.start() # this partcular object are the example of abstraction because we are hiding the methods and class and only showing the last output\n",
    "          # 'car started..' mean it's outside the class funtion and last output in which user interact.\n",
    "          \n",
    "\n"
   ]
  },
  {
   "cell_type": "code",
   "execution_count": null,
   "metadata": {},
   "outputs": [
    {
     "name": "stdout",
     "output_type": "stream",
     "text": [
      "__________________________________________________\n",
      "Account No. 1234545\n",
      "Opening Balance 1000\n",
      "Account No. 12****5 has been credited Rs 20\n",
      "Closing Balance:Rs 1020\n",
      "Account No 123****5 has been debited Rs 10\n",
      "closing Balance: Rs 1010\n",
      "__________________________________________________\n",
      "   Thank you for Trusting Aham Banking Service\n"
     ]
    }
   ],
   "source": [
    "class account:\n",
    "    def __init__(self,acc,bal):\n",
    "        self.account_no=acc\n",
    "        self.balance=bal\n",
    "\n",
    "    def credit(self,amount):\n",
    "        self.balance+=amount\n",
    "        print('Account No. 12****5 has been credited Rs',amount)\n",
    "        print('Closing Balance:Rs',self.get_balance())\n",
    "\n",
    "    def debit(self,amount):\n",
    "        self.balance-=amount\n",
    "        print('Account No 123****5 has been debited Rs',amount )\n",
    "        print('closing Balance: Rs',self.get_balance())\n",
    "\n",
    "    def get_balance(self):\n",
    "        return self.balance\n",
    "    \n",
    "\n",
    "\n",
    "print('_'*50)\n",
    "a1=account(1234545,1000)\n",
    "print('Account No.',a1.account_no)\n",
    "print('Opening Balance',a1.balance)\n",
    "a1.credit(20)\n",
    "a1.debit(10)\n",
    "print('_'*50)\n",
    "print('   ''Thank you for Trusting Aham Banking Service')"
   ]
  },
  {
   "cell_type": "code",
   "execution_count": null,
   "metadata": {},
   "outputs": [
    {
     "name": "stdout",
     "output_type": "stream",
     "text": [
      "1234425\n",
      "Dronaraj..123\n"
     ]
    }
   ],
   "source": [
    "class Acoount2:\n",
    "    def __init__(self,no,passw):\n",
    "        self.no=no\n",
    "        self.__passw=passw \n",
    "    \n",
    "    def reset_password(self):\n",
    "        print(self.__passw)\n",
    "\n",
    "\n",
    "a=Acoount2(1234425,'Dronaraj..123')\n",
    "print(a.no)\n",
    "a.reset_password()"
   ]
  },
  {
   "cell_type": "code",
   "execution_count": null,
   "metadata": {},
   "outputs": [
    {
     "name": "stdout",
     "output_type": "stream",
     "text": [
      "Car Strated..\n",
      "Car stop.\n",
      "electric\n"
     ]
    }
   ],
   "source": [
    "from ast import NameConstant\n",
    "\n",
    "\n",
    "class car:\n",
    "    def __init__(self,type):\n",
    "        self.type=type\n",
    "\n",
    "    @staticmethod\n",
    "    def start():\n",
    "        print('Car Strated..')\n",
    "    @staticmethod\n",
    "    def stop():\n",
    "        print('Car stop.')\n",
    "\n",
    "class tyotaa(car):\n",
    "    def __init__(self,name,type):\n",
    "        self.name= name\n",
    "        super().__init__(type)\n",
    "        super().start()\n",
    "        super().stop()\n",
    "\n",
    "c1=tyotaa('pirus','electric')\n",
    "print(c1.type)"
   ]
  },
  {
   "cell_type": "code",
   "execution_count": null,
   "metadata": {},
   "outputs": [
    {
     "name": "stdout",
     "output_type": "stream",
     "text": [
      "Aham 2.0\n"
     ]
    }
   ],
   "source": [
    "# CLASSS METHOD\n",
    "class person:\n",
    "    name='anonomus'\n",
    "    \n",
    "    @classmethod\n",
    "    def changename(cls,name):\n",
    "        cls.name=name\n",
    "        \n",
    "    # def changename(self,name):\n",
    "    #     self.__class__.name='AHAM ASHMI'\n",
    "\n",
    "\n",
    "p1=person()\n",
    "p1.changename('Aham 2.0')\n",
    "print(person.name)\n"
   ]
  },
  {
   "cell_type": "code",
   "execution_count": null,
   "metadata": {},
   "outputs": [
    {
     "name": "stdout",
     "output_type": "stream",
     "text": [
      "10.0%\n"
     ]
    }
   ],
   "source": [
    "# property method\n",
    "class student:\n",
    "    def __init__(self,phy,chy,math):\n",
    "        self.phy=phy\n",
    "        self.chy=chy \n",
    "        self.math=math\n",
    "\n",
    "\n",
    "    @property\n",
    "    def percentage(self):\n",
    "        return str((self.phy+self.chy+self.math)/3) + '%'\n",
    "\n",
    "st=student(100,100,100)\n",
    "st.phy=10\n",
    "st.chy=10\n",
    "st.math=10\n",
    "print(st.percentage)\n",
    "        "
   ]
  },
  {
   "cell_type": "code",
   "execution_count": null,
   "metadata": {},
   "outputs": [
    {
     "name": "stdout",
     "output_type": "stream",
     "text": [
      "6 - 9J\n",
      "3 - 8J\n",
      "-------\n",
      "3 - 1J\n"
     ]
    }
   ],
   "source": [
    "class person:\n",
    "    def __init__(self,real,img):\n",
    "        self.real=real\n",
    "        self.img=img\n",
    "\n",
    "    def shownum(self):\n",
    "        print(f'{self.real} - {self.img}J')\n",
    "    \n",
    "    def __sub__(self,num2):\n",
    "        new1= self.real - num2.real\n",
    "        new2= self.img - num2.img\n",
    "        return person(new1,new2)\n",
    "\n",
    "num=person(6,9)\n",
    "num.shownum()\n",
    "num1=person(3,8)\n",
    "num1.shownum()\n",
    "print('-------')\n",
    "num3=num-num1\n",
    "num3.shownum()"
   ]
  },
  {
   "cell_type": "code",
   "execution_count": null,
   "metadata": {},
   "outputs": [
    {
     "name": "stdout",
     "output_type": "stream",
     "text": [
      "1386.0\n",
      "132.0\n"
     ]
    }
   ],
   "source": [
    "class Circle:\n",
    "    def __init__(self,radius):\n",
    "        self.radius=radius\n",
    "\n",
    "    @property\n",
    "    def area(self):\n",
    "        return (22/7)*self.radius ** 2\n",
    "    \n",
    "    @property\n",
    "    def perimiter(self):\n",
    "        return 2* (22/7) * self.radius\n",
    "    \n",
    "C1=Circle(21)\n",
    "print(C1.area)\n",
    "print(C1.perimiter)    \n",
    "\n",
    "        "
   ]
  },
  {
   "cell_type": "code",
   "execution_count": null,
   "metadata": {},
   "outputs": [
    {
     "name": "stdout",
     "output_type": "stream",
     "text": [
      "job role:Chief Data Specialist\n",
      "Department:Meta Ads\n",
      "Salary:100k\n",
      "Age:19\n",
      "Name:Dr.Dorna Raj Gyawali\n"
     ]
    }
   ],
   "source": [
    "class employee:\n",
    "    def __init__(self,role,dept,salary):\n",
    "        self.role=role\n",
    "        self.dept=dept\n",
    "        self.salary=salary\n",
    "\n",
    "\n",
    "    def details(self):\n",
    "        print(f'job role:{self.role}\\nDepartment:{self.dept}\\nSalary:{self.salary}\\nAge:{self.age}\\nName:{self.name}')\n",
    "\n",
    "    \n",
    "class engineer(employee):\n",
    "    def __init__(self,name,age):\n",
    "        self.name=name\n",
    "        self.age=age\n",
    "        super().__init__('Chief Data Specialist','Meta Ads','100k')\n",
    "\n",
    "\n",
    "q1=engineer('Dr.Dorna Raj Gyawali',19)\n",
    "q1.details()"
   ]
  },
  {
   "cell_type": "code",
   "execution_count": 18,
   "metadata": {},
   "outputs": [
    {
     "name": "stdout",
     "output_type": "stream",
     "text": [
      "False\n"
     ]
    }
   ],
   "source": [
    "class order:\n",
    "    def __init__(self,items,price):\n",
    "        self.items=items\n",
    "        self.price=price\n",
    "\n",
    "    def __gt__(self,order1):\n",
    "        return self.price>order1.price\n",
    "    \n",
    "\n",
    "o1=order('Chips',50)\n",
    "o2=order('Tea',123)\n",
    "print(o1>o2)"
   ]
  }
 ],
 "metadata": {
  "kernelspec": {
   "display_name": "Python 3",
   "language": "python",
   "name": "python3"
  },
  "language_info": {
   "codemirror_mode": {
    "name": "ipython",
    "version": 3
   },
   "file_extension": ".py",
   "mimetype": "text/x-python",
   "name": "python",
   "nbconvert_exporter": "python",
   "pygments_lexer": "ipython3",
   "version": "3.12.5"
  }
 },
 "nbformat": 4,
 "nbformat_minor": 2
}
