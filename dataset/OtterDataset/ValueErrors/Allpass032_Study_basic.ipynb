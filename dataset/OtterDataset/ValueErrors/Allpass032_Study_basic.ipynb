{
 "cells": [
  {
   "cell_type": "code",
   "execution_count": 14,
   "metadata": {},
   "outputs": [
    {
     "name": "stdout",
     "output_type": "stream",
     "text": [
      "[30, 40, 50, 60, 70]\n",
      "40\n"
     ]
    }
   ],
   "source": [
    "print([10,20,30,40,50,60,70,80,90,100][2:7])\n",
    "print([10,20,30,40,50,60,70,80,90,100][2:7][1])"
   ]
  },
  {
   "cell_type": "code",
   "execution_count": 1,
   "metadata": {},
   "outputs": [
    {
     "name": "stdout",
     "output_type": "stream",
     "text": [
      "금요일 :  탕수육\n",
      "토요일 :  유산슬\n",
      "일요일 :  팔보채\n"
     ]
    }
   ],
   "source": [
    "d = {'금요일' : '탕수육', '토요일': '유산슬', '일요일': '팔보채'}\n",
    "print('금요일 : ', d['금요일'])\n",
    "print('토요일 : ', d['토요일'])\n",
    "print('일요일 : ', d['일요일'])\n",
    "\n",
    "# ,사용해서 띄어쓰기 됨"
   ]
  },
  {
   "cell_type": "code",
   "execution_count": 2,
   "metadata": {},
   "outputs": [
    {
     "name": "stdout",
     "output_type": "stream",
     "text": [
      "안녕하세요\n",
      "저는 이성철입니다.\n",
      "\t 이게 간격\n"
     ]
    }
   ],
   "source": [
    "print('안녕하세요\\n저는 이성철입니다.')\n",
    "print('\\t 이게 간격')"
   ]
  },
  {
   "cell_type": "code",
   "execution_count": 3,
   "metadata": {},
   "outputs": [
    {
     "name": "stdout",
     "output_type": "stream",
     "text": [
      "hello'hello'\n",
      "hello\"world\"\n",
      "*\n",
      "**\n",
      "***\n",
      "이름\t연락처\n",
      "제시카\t02-123-4567\n"
     ]
    }
   ],
   "source": [
    "print('hello\\'hello\\'')\n",
    "print(\"hello\\\"world\\\"\")\n",
    "print('*\\n**\\n***')\n",
    "print('이름\\t연락처')\n",
    "print('제시카\\t02-123-4567')"
   ]
  },
  {
   "cell_type": "code",
   "execution_count": 4,
   "metadata": {},
   "outputs": [
    {
     "name": "stdout",
     "output_type": "stream",
     "text": [
      "재미있는 파이썬\n",
      "Python.Java.C\n",
      "\n",
      "영화 타이타닉\n",
      "평점:5점\n"
     ]
    }
   ],
   "source": [
    "print('재미있는','파이썬')\n",
    "print('Python','Java','C',sep='.')\n",
    "print()\n",
    "print('영화 타이타닉')\n",
    "print('평점',end =':')\n",
    "print('5점')"
   ]
  },
  {
   "cell_type": "markdown",
   "metadata": {},
   "source": [
    "##### print 내에 sep, end를 사용하는 것\n",
    "sep의 경우 구분자\n",
    "end의 경우 다음 나오는 방법"
   ]
  },
  {
   "cell_type": "code",
   "execution_count": 5,
   "metadata": {},
   "outputs": [
    {
     "name": "stdout",
     "output_type": "stream",
     "text": [
      "우편번호 : 06236\n"
     ]
    }
   ],
   "source": [
    "zipcode = '06236'\n",
    "print(f'우편번호 : {zipcode}')\n",
    "# format method 대학생들이 많이 사용함, 단지 f-string이 더 좋으니 이쪽으로"
   ]
  },
  {
   "cell_type": "code",
   "execution_count": 6,
   "metadata": {},
   "outputs": [
    {
     "name": "stdout",
     "output_type": "stream",
     "text": [
      "내 이름은 Kai입니다\n",
      "\n",
      "내 키는 120.500000cm입니다\n",
      "\n",
      "내 몸무게는 23.6kg입니다\n",
      "\n",
      "내 생일은 2014년 8월 25일입니다.\n"
     ]
    }
   ],
   "source": [
    "name = 'Kai'\n",
    "print('내 이름은 %s입니다' %name)\n",
    "print()\n",
    "height = 120.5\n",
    "print('내 키는 %fcm입니다'%height)\n",
    "print()\n",
    "weight = 23.55\n",
    "print('내 몸무게는 %.1fkg입니다'%weight)\n",
    "print()\n",
    "year,month,day = 2014,8,25\n",
    "print('내 생일은 %d년 %d월 %d일입니다.'%(year,month,day))"
   ]
  },
  {
   "cell_type": "markdown",
   "metadata": {},
   "source": [
    "%연산자는 진짜 잘 안 쓰이겠네\n",
    "예전 코드들 아니면\n",
    "그것보다 나은게 format method\n",
    "그것보다 훨씬 지금 자주 쓰이는 것은 f-string"
   ]
  },
  {
   "cell_type": "code",
   "execution_count": 7,
   "metadata": {},
   "outputs": [
    {
     "name": "stdout",
     "output_type": "stream",
     "text": [
      "우편번호: 06236\n",
      "주소:서울특별시 강남구\n",
      "테헤란로 146\n",
      "연락처: 02-538-0021\n"
     ]
    }
   ],
   "source": [
    "zipcode = '06236'\n",
    "print('우편번호: {}'.format(zipcode))\n",
    "address = '''서울특별시 강남구\n",
    "테헤란로 146'''\n",
    "print('주소:{addr}'.format(addr=address))\n",
    "tel1,tel2,tel3 = '02', '538','0021'\n",
    "print('연락처: {0}-{1}-{2}'.format(tel1, tel2, tel3))    "
   ]
  },
  {
   "cell_type": "code",
   "execution_count": 8,
   "metadata": {},
   "outputs": [
    {
     "name": "stdout",
     "output_type": "stream",
     "text": [
      "you make me happy\n",
      "\n",
      "내년엔 26살이 됩니다\n"
     ]
    }
   ],
   "source": [
    "who = 'you'\n",
    "how = 'happy'\n",
    "print(f'{who} make me {how}')\n",
    "print()\n",
    "age = 25\n",
    "print(f'내년엔 {age+1}살이 됩니다')"
   ]
  },
  {
   "cell_type": "code",
   "execution_count": 9,
   "metadata": {},
   "outputs": [
    {
     "name": "stdout",
     "output_type": "stream",
     "text": [
      "입력된 이름은 이성철입니다.\n",
      "입력된 나이는 26입니다.\n"
     ]
    }
   ],
   "source": [
    "name = input('이름을 입력하세요')\n",
    "age = input('나이를 입력하세요')\n",
    "\n",
    "print(f'입력된 이름은 {name}입니다.')\n",
    "print(f'입력된 나이는 {age}입니다.')"
   ]
  },
  {
   "cell_type": "code",
   "execution_count": 10,
   "metadata": {},
   "outputs": [
    {
     "name": "stdout",
     "output_type": "stream",
     "text": [
      "매달 내는 돈은10000.0원입니다.\n"
     ]
    }
   ],
   "source": [
    "price = 50000\n",
    "n = int(input('할부 개월 입력>>>'))\n",
    "print(f'매달 내는 돈은{price / n}원입니다.')"
   ]
  },
  {
   "cell_type": "code",
   "execution_count": 12,
   "metadata": {},
   "outputs": [
    {
     "name": "stdout",
     "output_type": "stream",
     "text": [
      "1.23와 2.34의 합은 3.57입니다.\n",
      "\n",
      "2월은 28일까지 있습니다.\n",
      "\n",
      "flower:꽃\n"
     ]
    }
   ],
   "source": [
    "n1 = float(input('첫 번째 실수를 입력하세요 >>> '))\n",
    "n2 = float(input('두 번째 실수를 입력하세요 >>> '))\n",
    "print(f'{n1}와 {n2}의 합은 {n1+n2}입니다.')\n",
    "print()\n",
    "month = input('1~12 사이의 월을 입력하세요>>>')\n",
    "month_day = [31,28,31,30,31,30,31,31,30,31,30,31]\n",
    "print(f'{month}월은 {month_day[int(month)-1]}일까지 있습니다.')\n",
    "print()\n",
    "English_dict ={\n",
    "  'flower':\"꽃\",\n",
    "  'fly':\"날다\",\n",
    "  'floor':'바닥'\n",
    "}\n",
    "word = input('영어 단어를 입력하세요 >>>')\n",
    "print(f'{word}:{English_dict[word]}')"
   ]
  },
  {
   "cell_type": "code",
   "execution_count": 13,
   "metadata": {},
   "outputs": [
    {
     "name": "stdout",
     "output_type": "stream",
     "text": [
      "{'민속촌', '제주'}\n"
     ]
    }
   ],
   "source": [
    "s = set()\n",
    "s.add(input('수학여행지'))\n",
    "s.add(input('수학여행지'))\n",
    "s.add(input('수학여행지'))\n",
    "\n",
    "print(s)"
   ]
  },
  {
   "cell_type": "markdown",
   "metadata": {},
   "source": [
    "DAY 3"
   ]
  },
  {
   "cell_type": "markdown",
   "metadata": {},
   "source": [
    "2**3 = 거듭제곱\n",
    "3//2 : 몫 연산자\n",
    "3% 2 : 나머지 연산자"
   ]
  },
  {
   "cell_type": "code",
   "execution_count": 16,
   "metadata": {},
   "outputs": [
    {
     "name": "stdout",
     "output_type": "stream",
     "text": [
      "7 + 2 = 9\n",
      "7 - 2 = 5\n",
      "7 * 2 = 14\n",
      "7 ** 2 = 49\n",
      "7 / 2 = 3.5\n",
      "7 // 2 = 3\n",
      "7 % 2 = 1\n"
     ]
    }
   ],
   "source": [
    "a = 7\n",
    "b = 2\n",
    "print(f'{a} + {b} = {a+b}')\n",
    "print(f'{a} - {b} = {a-b}') \n",
    "print(f'{a} * {b} = {a*b}')\n",
    "print(f'{a} ** {b} = {a**b}')\n",
    "print(f'{a} / {b} = {a/b}')\n",
    "print(f'{a} // {b} = {a//b}')\n",
    "print(f'{a} % {b} = {a%b}')"
   ]
  },
  {
   "cell_type": "markdown",
   "metadata": {},
   "source": [
    "파이썬 같은 경우는 다중 대입 가능함! 장점임"
   ]
  },
  {
   "cell_type": "code",
   "execution_count": 17,
   "metadata": {},
   "outputs": [
    {
     "name": "stdout",
     "output_type": "stream",
     "text": [
      "a = 10, b = 20\n",
      "a = 20, b = 10\n"
     ]
    }
   ],
   "source": [
    "a,b = 10,20\n",
    "print(f'a = {a}, b = {b}')\n",
    "a,b = b,a\n",
    "print(f'a = {a}, b = {b}')"
   ]
  },
  {
   "cell_type": "code",
   "execution_count": 18,
   "metadata": {},
   "outputs": [
    {
     "name": "stdout",
     "output_type": "stream",
     "text": [
      "저금통에는 용돈10000원을 넣었습니다.\n",
      "지금 저금통에는 10000원이 있습니다.\n",
      "저금통에는 스낵 구입비 2000원을 뺏습니다.\n",
      "지금 저금통에는 8000원이 있습니다.\n"
     ]
    }
   ],
   "source": [
    "piggy_bank = 0\n",
    "money = 10000\n",
    "piggy_bank += money\n",
    "print(f'저금통에는 용돈{money}원을 넣었습니다.')\n",
    "print(f'지금 저금통에는 {piggy_bank}원이 있습니다.')\n",
    "snack = 2000\n",
    "piggy_bank -= snack\n",
    "print(f'저금통에는 스낵 구입비 {snack}원을 뺏습니다.')\n",
    "print(f'지금 저금통에는 {piggy_bank}원이 있습니다.')"
   ]
  },
  {
   "cell_type": "code",
   "execution_count": 19,
   "metadata": {},
   "outputs": [
    {
     "name": "stdout",
     "output_type": "stream",
     "text": [
      "15 > 10 : True\n",
      "15 < 10 : False\n",
      "15 >= 10 : True\n",
      "15 <= 10 : False\n",
      "15 == 10 : False\n",
      "15 != 10 : True\n"
     ]
    }
   ],
   "source": [
    "a = 15\n",
    "print(f'{a} > 10 : {a>10}')\n",
    "print(f'{a} < 10 : {a<10}')\n",
    "print(f'{a} >= 10 : {a>=10}')\n",
    "print(f'{a} <= 10 : {a<=10}')\n",
    "print(f'{a} == 10 : {a==10}')\n",
    "print(f'{a} != 10 : {a!=10}')"
   ]
  },
  {
   "cell_type": "code",
   "execution_count": 20,
   "metadata": {},
   "outputs": [
    {
     "name": "stdout",
     "output_type": "stream",
     "text": [
      "10 > 0 and 0 > 0 : False\n",
      "10 > 0 or 0 > 0 : True\n",
      "not 10 : False\n",
      "not 0 : True\n"
     ]
    }
   ],
   "source": [
    "a, b = 10, 0\n",
    "print(f'{a} > 0 and {b} > 0 : {a>0 and b>0}')\n",
    "print(f'{a} > 0 or {b} > 0 : {a>0 or b>0}')\n",
    "print(f'not {a} : {not a}')\n",
    "print(f'not {b} : {not b}')"
   ]
  },
  {
   "cell_type": "code",
   "execution_count": 22,
   "metadata": {},
   "outputs": [
    {
     "name": "stdout",
     "output_type": "stream",
     "text": [
      "    #\n",
      "   ###\n",
      "  #####\n",
      " #######\n",
      "#########\n"
     ]
    }
   ],
   "source": [
    "tree = '#'\n",
    "space = ' '\n",
    "print(space*4 + tree*1)\n",
    "print(space*3 + tree*3)\n",
    "print(space*2 + tree*5)\n",
    "print(space*1+ tree *7)\n",
    "print(space*0 + tree*9)"
   ]
  },
  {
   "cell_type": "code",
   "execution_count": 23,
   "metadata": {},
   "outputs": [
    {
     "name": "stdout",
     "output_type": "stream",
     "text": [
      "10와 20의 차이는 10입니다.\n"
     ]
    }
   ],
   "source": [
    "a, b = 10, 20\n",
    "result = (a-b) if (a>=b) else (b-a) # 이런걸 삼항 연산자라고 함\n",
    "print(f'{a}와 {b}의 차이는 {result}입니다.')"
   ]
  },
  {
   "cell_type": "markdown",
   "metadata": {},
   "source": [
    "page 78 예제 문제 풀이"
   ]
  },
  {
   "cell_type": "code",
   "execution_count": 26,
   "metadata": {},
   "outputs": [
    {
     "name": "stdout",
     "output_type": "stream",
     "text": [
      "십의 자리: 4\n",
      "일의 자리: 5\n"
     ]
    }
   ],
   "source": [
    "n = input('10 ~ 99 사이의 정수를 입력하세요 >>')\n",
    "print(f'십의 자리: {int(n)//10}')\n",
    "print(f'일의 자리: {int(n)%10}')"
   ]
  },
  {
   "cell_type": "code",
   "execution_count": 32,
   "metadata": {},
   "outputs": [
    {
     "name": "stdout",
     "output_type": "stream",
     "text": [
      "변환 결과는 1시간 1분 30초 입니다.\n"
     ]
    }
   ],
   "source": [
    "second = input('초를 입력하세요:')\n",
    "print(f'변환 결과는 {int(second)//3600}시간 {int(second)%3600//60}분 {int(second)%3600%60}초 입니다.')"
   ]
  },
  {
   "cell_type": "code",
   "execution_count": 35,
   "metadata": {},
   "outputs": [
    {
     "name": "stdout",
     "output_type": "stream",
     "text": [
      "근무 시간은 오전입니다.\n"
     ]
    }
   ],
   "source": [
    "num = input('4자리 사원번호를 입력하세요:')\n",
    "result = '오전' if int(num[-1]) >= 5 else '오후'\n",
    "print(f'근무 시간은 {result}입니다.')"
   ]
  },
  {
   "cell_type": "code",
   "execution_count": 39,
   "metadata": {},
   "outputs": [
    {
     "name": "stdout",
     "output_type": "stream",
     "text": [
      "50개 라면을 담으려면 3박스가 필요합니다.\n"
     ]
    }
   ],
   "source": [
    "num = int(input(''' 한 박스에 20개의 라면을 담을 수 있습니다. \n",
    "                라면의 개수를 입력하시면 필요한 박스 수를 알려드립니다.\n",
    "                라면의 개수를 입력하세요: '''))\n",
    "box = num //20\n",
    "box += 1 if num % 20 > 0 else box\n",
    "print(f'{num}개 라면을 담으려면 {box}박스가 필요합니다.')"
   ]
  },
  {
   "cell_type": "code",
   "execution_count": 41,
   "metadata": {},
   "outputs": [
    {
     "name": "stdout",
     "output_type": "stream",
     "text": [
      "평균은 83.0이고, 결과는 합격입니다.\n"
     ]
    }
   ],
   "source": [
    "K = int(input('국어 점수를 입력하세요 >>'))\n",
    "E = int(input('영어 점수를 입력하세요 >>'))\n",
    "M = int(input('수학 점수를 입력하세요 >>'))\n",
    "\n",
    "result = '합격' if (K+E+M) /3 >= 80 else '불합격'\n",
    "print(f'평균은 {(K+E+M)/3}이고, 결과는 {result}입니다.')\n"
   ]
  },
  {
   "cell_type": "code",
   "execution_count": 42,
   "metadata": {},
   "outputs": [
    {
     "name": "stdout",
     "output_type": "stream",
     "text": [
      "성인\n"
     ]
    }
   ],
   "source": [
    "age = int(input('몇 살입니까? >>>'))\n",
    "if age >= 20:\n",
    "    print('성인')\n",
    "else:\n",
    "    print('미성년자')"
   ]
  },
  {
   "cell_type": "code",
   "execution_count": 54,
   "metadata": {},
   "outputs": [],
   "source": [
    "# 명예의 전당(1)\n",
    "\n",
    "def solution(k, score):\n",
    "    answer = []\n",
    "    for i in range(len(score)):\n",
    "        temp = sorted(score[:i+1])[-k:]\n",
    "        answer.append(min(temp))\n",
    "    return answer"
   ]
  },
  {
   "cell_type": "code",
   "execution_count": 56,
   "metadata": {},
   "outputs": [
    {
     "data": {
      "text/plain": [
       "[10, 10, 10, 20, 20, 100, 100]"
      ]
     },
     "execution_count": 56,
     "metadata": {},
     "output_type": "execute_result"
    }
   ],
   "source": [
    "solution(3, [10,100,20,150,1,100,200])"
   ]
  },
  {
   "cell_type": "markdown",
   "metadata": {},
   "source": [
    "9/19일 \n",
    "page 99 못 풀었음 책이 없어서.."
   ]
  },
  {
   "cell_type": "code",
   "execution_count": 58,
   "metadata": {},
   "outputs": [
    {
     "name": "stdout",
     "output_type": "stream",
     "text": [
      "9가\n"
     ]
    }
   ],
   "source": [
    "# 아마 숫자 비교일 듯?\n",
    "\n",
    "a = int(input('정수 입력'))\n",
    "b = int(input('정수 입력'))\n",
    "c = int(input('정수 입력'))\n",
    "\n",
    "if a>b:\n",
    "  if a > c:\n",
    "    print(f'{a}가')"
   ]
  },
  {
   "cell_type": "code",
   "execution_count": 60,
   "metadata": {},
   "outputs": [
    {
     "name": "stdout",
     "output_type": "stream",
     "text": [
      "차량번호 9998은 운행가능입니다.\n"
     ]
    }
   ],
   "source": [
    "carNo = input('차량 번호 입력 : ')\n",
    "\n",
    "if int(carNo[-1]) % 2 == 0:\n",
    "    print(f'차량번호 {carNo}은 운행가능입니다.')"
   ]
  },
  {
   "cell_type": "code",
   "execution_count": 61,
   "metadata": {},
   "outputs": [
    {
     "name": "stdout",
     "output_type": "stream",
     "text": [
      "10\n",
      "9\n",
      "8\n",
      "7\n",
      "6\n",
      "5\n",
      "4\n",
      "3\n",
      "2\n",
      "1\n"
     ]
    }
   ],
   "source": [
    "# while 조건식:\n",
    "    # 반복합시다.\n",
    "    \n",
    "n = 10\n",
    "while n >= 1:\n",
    "    print(n)\n",
    "    n -= 1"
   ]
  },
  {
   "cell_type": "code",
   "execution_count": 62,
   "metadata": {},
   "outputs": [
    {
     "ename": "ValueError",
     "evalue": "invalid literal for int() with base 10: ''",
     "output_type": "error",
     "traceback": [
      "\u001b[1;31m---------------------------------------------------------------------------\u001b[0m",
      "\u001b[1;31mValueError\u001b[0m                                Traceback (most recent call last)",
      "Cell \u001b[1;32mIn[62], line 7\u001b[0m\n\u001b[0;32m      5\u001b[0m \u001b[38;5;28;01mwhile\u001b[39;00m n \u001b[38;5;241m!=\u001b[39m \u001b[38;5;241m0\u001b[39m:\n\u001b[0;32m      6\u001b[0m   my_list\u001b[38;5;241m.\u001b[39mappend(n)\n\u001b[1;32m----> 7\u001b[0m   n \u001b[38;5;241m=\u001b[39m \u001b[38;5;28;43mint\u001b[39;49m\u001b[43m(\u001b[49m\u001b[38;5;28;43minput\u001b[39;49m\u001b[43m(\u001b[49m\u001b[38;5;124;43m'\u001b[39;49m\u001b[38;5;124;43m정수를 입력하세요(종료는 0입니다.) >>> \u001b[39;49m\u001b[38;5;124;43m'\u001b[39;49m\u001b[43m)\u001b[49m\u001b[43m)\u001b[49m\n\u001b[0;32m      9\u001b[0m \u001b[38;5;28mprint\u001b[39m(my_list)\n",
      "\u001b[1;31mValueError\u001b[0m: invalid literal for int() with base 10: ''"
     ]
    }
   ],
   "source": [
    "my_list = []\n",
    "\n",
    "n = int(input('정수를 입력하세요(종료는 0입니다.) >>> '))\n",
    "\n",
    "while n != 0:\n",
    "  my_list.append(n)\n",
    "  n = int(input('정수를 입력하세요(종료는 0입니다.) >>> '))\n",
    "  \n",
    "print(my_list)"
   ]
  },
  {
   "cell_type": "code",
   "execution_count": 64,
   "metadata": {},
   "outputs": [
    {
     "name": "stdout",
     "output_type": "stream",
     "text": [
      "2x1=2\n",
      "2x2=4\n",
      "2x3=6\n",
      "2x4=8\n",
      "2x5=10\n",
      "2x6=12\n",
      "2x7=14\n",
      "2x8=16\n",
      "2x9=18\n",
      "\n",
      "3x1=3\n",
      "3x2=6\n",
      "3x3=9\n",
      "3x4=12\n",
      "3x5=15\n",
      "3x6=18\n",
      "3x7=21\n",
      "3x8=24\n",
      "3x9=27\n",
      "\n",
      "4x1=4\n",
      "4x2=8\n",
      "4x3=12\n",
      "4x4=16\n",
      "4x5=20\n",
      "4x6=24\n",
      "4x7=28\n",
      "4x8=32\n",
      "4x9=36\n",
      "\n",
      "5x1=5\n",
      "5x2=10\n",
      "5x3=15\n",
      "5x4=20\n",
      "5x5=25\n",
      "5x6=30\n",
      "5x7=35\n",
      "5x8=40\n",
      "5x9=45\n",
      "\n",
      "6x1=6\n",
      "6x2=12\n",
      "6x3=18\n",
      "6x4=24\n",
      "6x5=30\n",
      "6x6=36\n",
      "6x7=42\n",
      "6x8=48\n",
      "6x9=54\n",
      "\n",
      "7x1=7\n",
      "7x2=14\n",
      "7x3=21\n",
      "7x4=28\n",
      "7x5=35\n",
      "7x6=42\n",
      "7x7=49\n",
      "7x8=56\n",
      "7x9=63\n",
      "\n",
      "8x1=8\n",
      "8x2=16\n",
      "8x3=24\n",
      "8x4=32\n",
      "8x5=40\n",
      "8x6=48\n",
      "8x7=56\n",
      "8x8=64\n",
      "8x9=72\n",
      "\n",
      "9x1=9\n",
      "9x2=18\n",
      "9x3=27\n",
      "9x4=36\n",
      "9x5=45\n",
      "9x6=54\n",
      "9x7=63\n",
      "9x8=72\n",
      "9x9=81\n",
      "\n"
     ]
    }
   ],
   "source": [
    "dan = 2\n",
    "while dan <= 9:\n",
    "    n = 1\n",
    "    while n <= 9:\n",
    "        print(f'{dan}x{n}={dan*n}')\n",
    "        n += 1\n",
    "    print()\n",
    "    dan += 1"
   ]
  },
  {
   "cell_type": "code",
   "execution_count": null,
   "metadata": {},
   "outputs": [],
   "source": [
    "num = 1\n",
    "while num <= n:\n",
    "  dan += 1"
   ]
  },
  {
   "cell_type": "markdown",
   "metadata": {},
   "source": [
    "9월 20일"
   ]
  },
  {
   "cell_type": "code",
   "execution_count": 65,
   "metadata": {},
   "outputs": [
    {
     "name": "stdout",
     "output_type": "stream",
     "text": [
      "1번째 hi\n",
      "2번째 hi\n",
      "3번째 hi\n",
      "4번째 hi\n",
      "5번째 hi\n",
      "6번째 hi\n",
      "7번째 hi\n"
     ]
    }
   ],
   "source": [
    "n = int(input('정수 입력: '))\n",
    "count = 1\n",
    "if n <= 0:\n",
    "    print('잘못 입력')\n",
    "while count <= n:\n",
    "    print(f'{count}번째 hi')\n",
    "    count += 1"
   ]
  },
  {
   "cell_type": "code",
   "execution_count": 66,
   "metadata": {},
   "outputs": [
    {
     "name": "stdout",
     "output_type": "stream",
     "text": [
      "7\n",
      "14\n",
      "21\n",
      "28\n",
      "35\n",
      "42\n",
      "49\n",
      "56\n",
      "63\n",
      "70\n",
      "77\n",
      "84\n",
      "91\n",
      "98\n"
     ]
    }
   ],
   "source": [
    "n = 1\n",
    "while n <= 100:\n",
    "    if n % 7 == 0:\n",
    "      print(n)\n",
    "    n += 1"
   ]
  },
  {
   "cell_type": "code",
   "execution_count": 67,
   "metadata": {},
   "outputs": [
    {
     "name": "stdout",
     "output_type": "stream",
     "text": [
      "잔돈 400원\n"
     ]
    }
   ],
   "source": [
    "money =  int(input('얼마 ?'))\n",
    "count = 0\n",
    "while money >= 300:\n",
    "    count += 1\n",
    "    print(f'잔돈 {money}원')\n",
    "    money -= 300\n",
    "    \n",
    "# money = int(input('얼마 ?'))\n",
    "# count = money // 300\n",
    "# n = 1\n",
    "# while n <= count:\n",
    "#     print(f'커피 {n}잔 잔돈')"
   ]
  },
  {
   "cell_type": "code",
   "execution_count": 68,
   "metadata": {},
   "outputs": [
    {
     "name": "stdout",
     "output_type": "stream",
     "text": [
      "{1, 2, 3, 4, 5}\n"
     ]
    }
   ],
   "source": [
    "s = set()\n",
    "while  len(s) < 5:\n",
    "    s.add(int(input('정수 입력: ')))\n",
    "print(s)"
   ]
  },
  {
   "cell_type": "code",
   "execution_count": 69,
   "metadata": {},
   "outputs": [
    {
     "name": "stdout",
     "output_type": "stream",
     "text": [
      "1 2 3 4 5 6 7 8 9 10 11 12 13 14 15 16 17 18 19 20 21 22 23 24 25 26 27 28 29 30 31 32 33 34 35 36 37 38 39 40 41 42 43 44 45 46 47 48 49 50 51 52 53 54 55 56 57 58 59 60 61 62 63 64 65 66 67 68 69 70 71 72 73 74 75 76 77 78 79 80 81 82 83 84 85 86 87 88 89 90 91 92 93 94 95 96 97 98 99 100 "
     ]
    }
   ],
   "source": [
    "n = 1\n",
    "while n <= 100:\n",
    "  print(n, end = ' ')\n",
    "  n += 1"
   ]
  },
  {
   "cell_type": "code",
   "execution_count": 71,
   "metadata": {},
   "outputs": [
    {
     "name": "stdout",
     "output_type": "stream",
     "text": [
      "1\n",
      "2\n",
      "3\n",
      "4\n",
      "5\n",
      "6\n",
      "7\n",
      "8\n",
      "9\n",
      "10\n"
     ]
    }
   ],
   "source": [
    "for n in range(1,11):\n",
    "    print(n)\n",
    "  "
   ]
  },
  {
   "cell_type": "code",
   "execution_count": null,
   "metadata": {},
   "outputs": [],
   "source": [
    "score = [100,90,50,80]\n",
    "for n in score:\n",
    "    "
   ]
  },
  {
   "cell_type": "code",
   "execution_count": 74,
   "metadata": {},
   "outputs": [
    {
     "name": "stdout",
     "output_type": "stream",
     "text": [
      "5\n",
      "4\n",
      "3\n",
      "2\n",
      "1\n"
     ]
    }
   ],
   "source": [
    "for i in range(5,0,-1):\n",
    "    print(i)"
   ]
  },
  {
   "cell_type": "code",
   "execution_count": 75,
   "metadata": {},
   "outputs": [
    {
     "name": "stdout",
     "output_type": "stream",
     "text": [
      "15\n"
     ]
    }
   ],
   "source": [
    "num = int(input('임의의 양수를 입력하세요>>>'))\n",
    "sum = 0\n",
    "for i in range(num+1):\n",
    "    sum += i\n",
    "print(sum)"
   ]
  },
  {
   "cell_type": "code",
   "execution_count": 76,
   "metadata": {},
   "outputs": [
    {
     "name": "stdout",
     "output_type": "stream",
     "text": [
      "['사과', '바나나', '체리', '오렌지', '망고']\n"
     ]
    }
   ],
   "source": [
    "f_n = int(input('몇개의 과일을 보관할까요?'))\n",
    "store = []\n",
    "for i in range(1, f_n+1):\n",
    "    store.append(input(f'{i}번째 과일을 입력하세요'))\n",
    "print(store)\n"
   ]
  },
  {
   "cell_type": "code",
   "execution_count": 80,
   "metadata": {},
   "outputs": [
    {
     "name": "stdout",
     "output_type": "stream",
     "text": [
      "[100, 94, 100, 96, 86, 90, 59, 100, 76, 55]\n"
     ]
    }
   ],
   "source": [
    "exam = [99,89,100,91,81,85,54,100,71,50]\n",
    "new_exam = []\n",
    "for score in exam:\n",
    "    if score >= 95:\n",
    "        new_exam.append(100)\n",
    "    else:\n",
    "        new_exam.append(score+5)\n",
    "print(new_exam)"
   ]
  },
  {
   "cell_type": "code",
   "execution_count": 88,
   "metadata": {},
   "outputs": [
    {
     "name": "stdout",
     "output_type": "stream",
     "text": [
      "1\t2\t짝\t4\t5\t짝\t7\t8\t짝\t10\t\n",
      "11\t12\t짝\t14\t15\t짝\t17\t18\t짝\t20\t\n",
      "21\t22\t짝\t24\t25\t짝\t27\t28\t짝\t짝\t\n",
      "짝\t짝\t짝짝\t짝\t짝\t짝짝\t짝\t짝\t짝짝\t40\t\n",
      "41\t42\t짝\t44\t45\t짝\t47\t48\t짝\t50\t\n",
      "51\t52\t짝\t54\t55\t짝\t57\t58\t짝\t짝\t\n",
      "짝\t짝\t짝짝\t짝\t짝\t짝짝\t짝\t짝\t짝짝\t70\t\n",
      "71\t72\t짝\t74\t75\t짝\t77\t78\t짝\t80\t\n",
      "81\t82\t짝\t84\t85\t짝\t87\t88\t짝\t짝\t\n",
      "짝\t짝\t짝짝\t짝\t짝\t짝짝\t짝\t짝\t짝짝\t"
     ]
    }
   ],
   "source": [
    "for i in range(1, 100):\n",
    "    units = i % 10\n",
    "    tens = i // 10\n",
    "    if units % 3 == 0 and units != 0 and tens % 3 == 0 and tens != 0:\n",
    "        print('짝짝', end = '\\t')\n",
    "    elif units % 3 == 0 and units != 0 or tens % 3 == 0 and tens != 0:\n",
    "        print('짝', end = '\\t')\n",
    "    else:\n",
    "        print(i, end = '\\t')\n",
    "    if i % 10 == 0:\n",
    "      print()"
   ]
  },
  {
   "cell_type": "code",
   "execution_count": 89,
   "metadata": {},
   "outputs": [
    {
     "name": "stdout",
     "output_type": "stream",
     "text": [
      "정답입니다.\n"
     ]
    }
   ],
   "source": [
    "while True:\n",
    "    city = input('대한민국의 수도는 어디일까요?')\n",
    "    if city =='서울' or city == 'seoul' or city == 'SEOUL':\n",
    "      print('정답입니다.')\n",
    "      break\n",
    "    else:\n",
    "      print('오답입니다. 다시 시도하세요')"
   ]
  },
  {
   "cell_type": "code",
   "execution_count": 90,
   "metadata": {},
   "outputs": [
    {
     "name": "stdout",
     "output_type": "stream",
     "text": [
      "입력된 취미가 모두 저장되었습니다.\n",
      "['커피마시기', '카페가기', '영화보기', '유튜브', '웹툰']\n"
     ]
    }
   ],
   "source": [
    "hobbies = []\n",
    "while True:\n",
    "    hobby = input('취미를 입력하세요(종료는 그냥 엔터)')\n",
    "    if hobby == '':\n",
    "        print('입력된 취미가 모두 저장되었습니다.')\n",
    "        break\n",
    "    else:\n",
    "        hobbies.append(hobby)\n",
    "print(hobbies)"
   ]
  },
  {
   "cell_type": "code",
   "execution_count": null,
   "metadata": {},
   "outputs": [],
   "source": [
    "fruits = ['사과', '감귤']\n",
    "count = 3\n",
    "\n",
    "while count > 0:\n",
    "    fruit = input('어떤 과일을 저장할까요?')\n",
    "    if fruit in fruits:\n",
    "        print('동일한 과일이 있습니다.')\n",
    "        continue\n",
    "    fruits.append(fruit)\n",
    "    count -= 1\n",
    "    print(f'입력이 {count}번 남았습니다.')\n",
    "  \n",
    "print(f'5개 과일은 {fruits}입니다.') "
   ]
  },
  {
   "cell_type": "code",
   "execution_count": 92,
   "metadata": {},
   "outputs": [
    {
     "name": "stdout",
     "output_type": "stream",
     "text": [
      "입력된 5개의 양수의 총 합은24입니다.\n"
     ]
    }
   ],
   "source": [
    "count = 0\n",
    "total = 0\n",
    "while count < 5:\n",
    "    n = int(input(f'{count+ 1}번째 정수를 입력하세요'))\n",
    "    if n <= 0:\n",
    "      print('0 이하의 정수는 처리할 수 없습니다.')\n",
    "      continue\n",
    "    total += n\n",
    "    count += 1\n",
    "print(f'입력된 5개의 양수의 총 합은{total}입니다.')"
   ]
  },
  {
   "cell_type": "code",
   "execution_count": 118,
   "metadata": {},
   "outputs": [
    {
     "name": "stdout",
     "output_type": "stream",
     "text": [
      "가능한 비밀번호입니다.\n"
     ]
    }
   ],
   "source": [
    "pwd = input('비밀번호를 입력하세요 >>> ')\n",
    "\n",
    "ch_count, num_count = 0, 0\n",
    "\n",
    "for ch in pwd:\n",
    "    if ch.isalpha():\n",
    "      ch_count += 1\n",
    "    elif ch.isnumeric():\n",
    "      num_count += 1\n",
    "\n",
    "if ch_count > 0 and num_count > 0:\n",
    "    print('가능한 비밀번호입니다.')\n",
    "else:\n",
    "    print('불가능한 비밀번호입니다.')"
   ]
  },
  {
   "cell_type": "code",
   "execution_count": 119,
   "metadata": {},
   "outputs": [
    {
     "data": {
      "text/plain": [
       "[2, 4, 6, 8]"
      ]
     },
     "execution_count": 119,
     "metadata": {},
     "output_type": "execute_result"
    }
   ],
   "source": [
    "# [표현식 for 변수 in 반복가능객체]\n",
    "[n * 2 for n in [1,2,3,4]]"
   ]
  },
  {
   "cell_type": "code",
   "execution_count": 120,
   "metadata": {},
   "outputs": [],
   "source": [
    "# for n in range(start, end, step):\n",
    "for n in range(1,11,2):\n",
    "    li = n *2  "
   ]
  },
  {
   "cell_type": "code",
   "execution_count": 121,
   "metadata": {},
   "outputs": [
    {
     "name": "stdout",
     "output_type": "stream",
     "text": [
      "2 x 1 = 2\n",
      "2 x 2 = 4\n",
      "2 x 3 = 6\n",
      "2 x 4 = 8\n",
      "2 x 5 = 10\n",
      "2 x 6 = 12\n",
      "2 x 7 = 14\n",
      "2 x 8 = 16\n",
      "2 x 9 = 18\n"
     ]
    }
   ],
   "source": [
    "dan = int(input('출력할 구구단을 입력하세요 >>> '))\n",
    "for n in range(1,10):\n",
    "    print(f'{dan} x {n} = {dan*n}')"
   ]
  },
  {
   "cell_type": "code",
   "execution_count": 122,
   "metadata": {},
   "outputs": [
    {
     "name": "stdout",
     "output_type": "stream",
     "text": [
      "name : 에밀리\n",
      "age : 20\n"
     ]
    }
   ],
   "source": [
    "person = {'name': '에밀리',\n",
    "          'age' : 20}\n",
    "for item in person:\n",
    "    print(f'{item} : {person[item]}')"
   ]
  },
  {
   "cell_type": "code",
   "execution_count": 123,
   "metadata": {},
   "outputs": [
    {
     "name": "stdout",
     "output_type": "stream",
     "text": [
      "sun의 뜻 : 태양\n",
      "moon의 뜻 : 달\n",
      "star의 뜻 : 별\n",
      "space의 뜻 : 우주\n"
     ]
    }
   ],
   "source": [
    "eng_dict ={\n",
    "  'sun' : '태양',\n",
    "  'moon': '달',\n",
    "  'star' : '별',\n",
    "  'space' : '우주'\n",
    "}\n",
    "for word in eng_dict:\n",
    "    print(f'{word}의 뜻 : {eng_dict.get(word)}')"
   ]
  },
  {
   "cell_type": "code",
   "execution_count": 124,
   "metadata": {},
   "outputs": [
    {
     "name": "stdout",
     "output_type": "stream",
     "text": [
      "55\n"
     ]
    }
   ],
   "source": [
    "n = 1\n",
    "sum = 0\n",
    "while n <= 10:\n",
    "    sum += n\n",
    "    n += 1\n",
    "print(sum)"
   ]
  },
  {
   "cell_type": "markdown",
   "metadata": {},
   "source": [
    "p 141"
   ]
  },
  {
   "cell_type": "code",
   "execution_count": 125,
   "metadata": {},
   "outputs": [
    {
     "name": "stdout",
     "output_type": "stream",
     "text": [
      "현재 10000원이 있습니다.\n",
      "현재 6000원이 있습니다.\n",
      "1000원이 부족합니다.\n",
      "현재 3000원이 있습니다.\n",
      "현재 0원이 있습니다.\n",
      "10000원 있습니다\n",
      "7000원 있습니다\n"
     ]
    },
    {
     "ename": "ValueError",
     "evalue": "invalid literal for int() with base 10: ''",
     "output_type": "error",
     "traceback": [
      "\u001b[1;31m---------------------------------------------------------------------------\u001b[0m",
      "\u001b[1;31mValueError\u001b[0m                                Traceback (most recent call last)",
      "Cell \u001b[1;32mIn[125], line 21\u001b[0m\n\u001b[0;32m     19\u001b[0m \u001b[38;5;28;01mif\u001b[39;00m money \u001b[38;5;241m==\u001b[39m \u001b[38;5;241m0\u001b[39m:\n\u001b[0;32m     20\u001b[0m     \u001b[38;5;28;01mbreak\u001b[39;00m\n\u001b[1;32m---> 21\u001b[0m spend \u001b[38;5;241m=\u001b[39m \u001b[38;5;28;43mint\u001b[39;49m\u001b[43m(\u001b[49m\u001b[38;5;28;43minput\u001b[39;49m\u001b[43m(\u001b[49m\u001b[38;5;124;43m'\u001b[39;49m\u001b[38;5;124;43m사용할 금액 : \u001b[39;49m\u001b[38;5;124;43m'\u001b[39;49m\u001b[43m)\u001b[49m\u001b[43m)\u001b[49m\n\u001b[0;32m     22\u001b[0m \u001b[38;5;28;01mif\u001b[39;00m spend \u001b[38;5;241m<\u001b[39m\u001b[38;5;241m=\u001b[39m \u001b[38;5;241m0\u001b[39m:\n\u001b[0;32m     23\u001b[0m     \u001b[38;5;28mprint\u001b[39m(\u001b[38;5;124m'\u001b[39m\u001b[38;5;124m0원 이하 사용 x\u001b[39m\u001b[38;5;124m'\u001b[39m)\n",
      "\u001b[1;31mValueError\u001b[0m: invalid literal for int() with base 10: ''"
     ]
    }
   ],
   "source": [
    "money = 10000\n",
    "print(f'현재 {money}원이 있습니다.')\n",
    "while True:\n",
    "    use = int(input('사용할 금액 입력'))\n",
    "    if use < 0:\n",
    "      print('0 이하의 금액은 사용할 수 없습니다.')\n",
    "    elif use > money:\n",
    "      print(f'{use - money}원이 부족합니다.')\n",
    "    else:\n",
    "      money -= use\n",
    "      print(f'현재 {money}원이 있습니다.')  \n",
    "    if money == 0:\n",
    "        break\n",
    "      \n",
    "money = 10000\n",
    "while True:\n",
    "    print(f'{money}원 있습니다')\n",
    "    \n",
    "    if money == 0:\n",
    "        break\n",
    "    spend = int(input('사용할 금액 : '))\n",
    "    if spend <= 0:\n",
    "        print('0원 이하 사용 x')\n",
    "    elif spend > money:\n",
    "        print(f'{spend - money}원 부족')\n",
    "    else:\n",
    "      money -= spend"
   ]
  },
  {
   "cell_type": "code",
   "execution_count": 106,
   "metadata": {},
   "outputs": [
    {
     "name": "stdout",
     "output_type": "stream",
     "text": [
      "★★★★\n"
     ]
    }
   ],
   "source": [
    "answer = ''\n",
    "while True:\n",
    "    score = int(input('이번 영화의 평점을 입력하세요'))\n",
    "    if score not in range(1,6):\n",
    "        print('평점은 1~5 사이만 입력할 수 있습니다.')\n",
    "    else:\n",
    "        answer = '★'*score\n",
    "        break\n",
    "print(answer)"
   ]
  },
  {
   "cell_type": "code",
   "execution_count": 126,
   "metadata": {},
   "outputs": [
    {
     "ename": "SyntaxError",
     "evalue": "invalid character '★' (U+2605) (900536079.py, line 4)",
     "output_type": "error",
     "traceback": [
      "\u001b[1;36m  Cell \u001b[1;32mIn[126], line 4\u001b[1;36m\u001b[0m\n\u001b[1;33m    print(f'평점 : {'★'*grade}')\u001b[0m\n\u001b[1;37m                   ^\u001b[0m\n\u001b[1;31mSyntaxError\u001b[0m\u001b[1;31m:\u001b[0m invalid character '★' (U+2605)\n"
     ]
    }
   ],
   "source": [
    "while True:\n",
    "    grade = int(input('별점 입력: '))\n",
    "    if grade >= 1 and grade <= 5:\n",
    "        print(f'평점 : {'★'*grade}')\n",
    "        break\n",
    "    else: \n",
    "        print('다시 입력')"
   ]
  },
  {
   "cell_type": "code",
   "execution_count": 115,
   "metadata": {},
   "outputs": [
    {
     "name": "stdout",
     "output_type": "stream",
     "text": [
      "비밀번호를 맞혔습니다.\n"
     ]
    }
   ],
   "source": [
    "count = 5\n",
    "while True:\n",
    "    password = input('비밀번호를 입력하세요.')\n",
    "    count -= 1\n",
    "    if count == 0:\n",
    "        print('비밀번호 입력 횟수를 초과했습니다.')\n",
    "        break\n",
    "    elif password == 'qwerty':\n",
    "        print('비밀번호를 맞혔습니다.')\n",
    "        break"
   ]
  },
  {
   "cell_type": "code",
   "execution_count": 117,
   "metadata": {},
   "outputs": [
    {
     "name": "stdout",
     "output_type": "stream",
     "text": [
      "3x1=3\n",
      "3x2=6\n",
      "3x3=9\n",
      "\n",
      "5x1=5\n",
      "5x2=10\n",
      "5x3=15\n",
      "5x4=20\n",
      "5x5=25\n",
      "\n",
      "7x1=7\n",
      "7x2=14\n",
      "7x3=21\n",
      "7x4=28\n",
      "7x5=35\n",
      "7x6=42\n",
      "7x7=49\n",
      "\n",
      "9x1=9\n",
      "9x2=18\n",
      "9x3=27\n",
      "9x4=36\n",
      "9x5=45\n",
      "9x6=54\n",
      "9x7=63\n",
      "9x8=72\n",
      "9x9=81\n"
     ]
    }
   ],
   "source": [
    "for i in range(3,10):\n",
    "    if i % 2 == 1:\n",
    "        for j in range(i):\n",
    "            print(f\"{i}x{j+1}={i*(j+1)}\")\n",
    "    else:\n",
    "      print()\n",
    "            "
   ]
  },
  {
   "cell_type": "code",
   "execution_count": 129,
   "metadata": {},
   "outputs": [
    {
     "data": {
      "text/plain": [
       "65"
      ]
     },
     "execution_count": 129,
     "metadata": {},
     "output_type": "execute_result"
    }
   ],
   "source": [
    "# 유니코드 및 아스키코드\n",
    "chr(48) >> '0'\n",
    "ord('A') >> 65"
   ]
  },
  {
   "cell_type": "code",
   "execution_count": 132,
   "metadata": {},
   "outputs": [
    {
     "name": "stdout",
     "output_type": "stream",
     "text": [
      "51060 49457 52384\n"
     ]
    }
   ],
   "source": [
    "print(str(ord('이')) + ' ' + str(ord('성')) + ' ' + str(ord('철')))"
   ]
  },
  {
   "cell_type": "code",
   "execution_count": 134,
   "metadata": {},
   "outputs": [
    {
     "data": {
      "text/plain": [
       "'10_000'"
      ]
     },
     "execution_count": 134,
     "metadata": {},
     "output_type": "execute_result"
    }
   ],
   "source": [
    "# eval()함수는 사용하지 않음\n",
    "# 보안이 굉장히 떨어지기 때문에 사용하지 않음\n",
    "\n",
    "format(10000, '_')"
   ]
  },
  {
   "cell_type": "code",
   "execution_count": 135,
   "metadata": {},
   "outputs": [
    {
     "name": "stdout",
     "output_type": "stream",
     "text": [
      "3+5=8\n"
     ]
    }
   ],
   "source": [
    "expr = input('계산식을 입력하세요 >>>')\n",
    "result = eval(expr)\n",
    "print(expr + '=' +  str(result))"
   ]
  },
  {
   "cell_type": "code",
   "execution_count": null,
   "metadata": {},
   "outputs": [],
   "source": [
    "# abs(num) = 절대값\n",
    "# divmod(10,3) >>> (3,1) (몫과 나머지)를 튜플로 알려줌 (수정x 순서 있음)\n",
    "# float(3) >>> 3.0 실수로 만듬\n",
    "# pow(10,2) >>>10**2 = 100 제곱 만듬\n",
    "# round(num, 어디까지) 어디번째 자리까지 소수점 반올림할지"
   ]
  },
  {
   "cell_type": "code",
   "execution_count": 139,
   "metadata": {},
   "outputs": [
    {
     "name": "stdout",
     "output_type": "stream",
     "text": [
      "빵을 3개 사고 1000원 남았습니다.\n"
     ]
    }
   ],
   "source": [
    "money = 10000\n",
    "price = 3000\n",
    "result = divmod(money, price)\n",
    "print(f'빵을 {result[0]}개 사고 {result[1]}원 남았습니다.')"
   ]
  },
  {
   "cell_type": "code",
   "execution_count": 143,
   "metadata": {},
   "outputs": [
    {
     "name": "stdout",
     "output_type": "stream",
     "text": [
      "(0, '가위')\n",
      "(1, '바위')\n",
      "(2, '보')\n",
      "0 가위\n",
      "1 바위\n",
      "2 보\n"
     ]
    }
   ],
   "source": [
    "# 시퀀스 > list, tuple과 같이 순서와 수정이 가능한 것\n",
    "li = ['가위','바위','보']\n",
    "for item in enumerate(li):\n",
    "    print(item) # >>> 결과 튜플 형식으로 나옴(i번째, 결과)\n",
    "for idx, item in enumerate(li):\n",
    "    print(idx, item)"
   ]
  },
  {
   "cell_type": "code",
   "execution_count": 149,
   "metadata": {},
   "outputs": [
    {
     "name": "stdout",
     "output_type": "stream",
     "text": [
      "[7, 4, 3, 2, 1]\n"
     ]
    }
   ],
   "source": [
    "li = [4,2,7,1,3]\n",
    "li = sorted(li, reverse = True)\n",
    "print(li)"
   ]
  },
  {
   "cell_type": "code",
   "execution_count": 150,
   "metadata": {},
   "outputs": [
    {
     "name": "stdout",
     "output_type": "stream",
     "text": [
      "[1, 2, 3, 4, 5, 6]\n",
      "[6, 3, 1, 2, 5, 4]\n"
     ]
    }
   ],
   "source": [
    "my_list = [6,3,1,2,5,4]\n",
    "print(sorted(my_list))\n",
    "print(my_list)"
   ]
  },
  {
   "cell_type": "code",
   "execution_count": 152,
   "metadata": {},
   "outputs": [
    {
     "name": "stdout",
     "output_type": "stream",
     "text": [
      "[1, 2, 3, 4, 5, 6]\n"
     ]
    }
   ],
   "source": [
    "my_list = [6,3,1,2,5,4]\n",
    "my_list = sorted(my_list)\n",
    "print(my_list)"
   ]
  },
  {
   "cell_type": "code",
   "execution_count": 153,
   "metadata": {},
   "outputs": [
    {
     "name": "stdout",
     "output_type": "stream",
     "text": [
      "('james', 60)\n",
      "('emily', 70)\n",
      "('amanda', 80)\n"
     ]
    }
   ],
   "source": [
    "names = ['james','emily','amanda']\n",
    "scores = [60,70,80]\n",
    "for students in zip(names,scores):\n",
    "    print(students)"
   ]
  },
  {
   "cell_type": "code",
   "execution_count": 154,
   "metadata": {},
   "outputs": [
    {
     "name": "stdout",
     "output_type": "stream",
     "text": [
      "1월 = 31일\n",
      "2월 = 28일\n",
      "3월 = 31일\n",
      "4월 = 30일\n",
      "5월 = 31일\n",
      "6월 = 30일\n",
      "7월 = 31일\n",
      "8월 = 31일\n",
      "9월 = 30일\n",
      "10월 = 31일\n",
      "11월 = 30일\n",
      "12월 = 31일\n"
     ]
    }
   ],
   "source": [
    "months = [31,28,31,30,31,30,31,31,30,31,30,31]\n",
    "for month, day in enumerate(months):\n",
    "    print(f'{month+1}월 = {day}일')"
   ]
  },
  {
   "cell_type": "code",
   "execution_count": 155,
   "metadata": {},
   "outputs": [
    {
     "name": "stdout",
     "output_type": "stream",
     "text": [
      "무지개의 1번째 색은 red입니다.\n",
      "무지개의 2번째 색은 orange입니다.\n",
      "무지개의 3번째 색은 yellow입니다.\n",
      "무지개의 4번째 색은 green입니다.\n",
      "무지개의 5번째 색은 blue입니다.\n",
      "무지개의 6번째 색은 navy입니다.\n",
      "무지개의 7번째 색은 purple입니다.\n"
     ]
    }
   ],
   "source": [
    "rainbow = ['red','orange','yellow','green','blue','navy','purple']\n",
    "for num, color in enumerate(rainbow):\n",
    "    print(f'무지개의 {num+1}번째 색은 {color}입니다.')"
   ]
  },
  {
   "cell_type": "code",
   "execution_count": 9,
   "metadata": {},
   "outputs": [
    {
     "name": "stdout",
     "output_type": "stream",
     "text": [
      "점수를 입력하세요. 더 이상 입력할 점수 없을 경우 음수를 아무거나 입력하세요\n",
      "[80, 60, 50, 30, 90]\n",
      "평균 = 62.0, 최대 = 90, 최소 = 30\n"
     ]
    }
   ],
   "source": [
    "print('점수를 입력하세요. 더 이상 입력할 점수 없을 경우 음수를 아무거나 입력하세요')\n",
    "exam_li = []\n",
    "while True:\n",
    "    score = int(input('점수를 입력하세요'))\n",
    "    if score < 0:\n",
    "        break\n",
    "    else:\n",
    "        exam_li.append(score)\n",
    "print(exam_li)\n",
    "everage = sum(exam_li)/len(exam_li)\n",
    "print(f'평균 = {everage}, 최대 = {max(exam_li)}, 최소 = {min(exam_li)}')"
   ]
  },
  {
   "cell_type": "code",
   "execution_count": 3,
   "metadata": {},
   "outputs": [],
   "source": [
    "li = []\n",
    "li.append(80)\n",
    "li.append(50)\n",
    "li.append(60)\n",
    "li.append(30)\n",
    "li.append(90)\n"
   ]
  },
  {
   "cell_type": "code",
   "execution_count": 6,
   "metadata": {},
   "outputs": [
    {
     "data": {
      "text/plain": [
       "62.0"
      ]
     },
     "execution_count": 6,
     "metadata": {},
     "output_type": "execute_result"
    }
   ],
   "source": [
    "sum(li)/len(li)"
   ]
  },
  {
   "cell_type": "code",
   "execution_count": 10,
   "metadata": {},
   "outputs": [
    {
     "data": {
      "text/plain": [
       "4"
      ]
     },
     "execution_count": 10,
     "metadata": {},
     "output_type": "execute_result"
    }
   ],
   "source": [
    "s = '내가 그린 기린 그림은 목 긴 기린 그림이고, 네기ㅏ 그린 기린 그림은 목 짧은 기린 그림이다.'\n",
    "s.count('기린')"
   ]
  },
  {
   "cell_type": "code",
   "execution_count": 12,
   "metadata": {},
   "outputs": [
    {
     "data": {
      "text/plain": [
       "1"
      ]
     },
     "execution_count": 12,
     "metadata": {},
     "output_type": "execute_result"
    }
   ],
   "source": [
    "s = 'best of best'\n",
    "s.count('best',5)"
   ]
  },
  {
   "cell_type": "code",
   "execution_count": 13,
   "metadata": {},
   "outputs": [
    {
     "data": {
      "text/plain": [
       "1"
      ]
     },
     "execution_count": 13,
     "metadata": {},
     "output_type": "execute_result"
    }
   ],
   "source": [
    "s = 'best of best'\n",
    "s.count('best', -7)"
   ]
  },
  {
   "cell_type": "code",
   "execution_count": 14,
   "metadata": {},
   "outputs": [
    {
     "data": {
      "text/plain": [
       "1"
      ]
     },
     "execution_count": 14,
     "metadata": {},
     "output_type": "execute_result"
    }
   ],
   "source": [
    "s = 'apple'\n",
    "s.find('p')"
   ]
  },
  {
   "cell_type": "code",
   "execution_count": 15,
   "metadata": {},
   "outputs": [
    {
     "data": {
      "text/plain": [
       "-1"
      ]
     },
     "execution_count": 15,
     "metadata": {},
     "output_type": "execute_result"
    }
   ],
   "source": [
    "s = 'apple'\n",
    "s.find('z')"
   ]
  },
  {
   "cell_type": "code",
   "execution_count": 17,
   "metadata": {},
   "outputs": [
    {
     "data": {
      "text/plain": [
       "8"
      ]
     },
     "execution_count": 17,
     "metadata": {},
     "output_type": "execute_result"
    }
   ],
   "source": [
    "s = 'best of best'\n",
    "s.find('best')\n",
    "s.find('best',5) "
   ]
  },
  {
   "cell_type": "code",
   "execution_count": 18,
   "metadata": {},
   "outputs": [
    {
     "data": {
      "text/plain": [
       "8"
      ]
     },
     "execution_count": 18,
     "metadata": {},
     "output_type": "execute_result"
    }
   ],
   "source": [
    "s = 'best of best'\n",
    "s.rfind('best')"
   ]
  },
  {
   "cell_type": "code",
   "execution_count": 19,
   "metadata": {},
   "outputs": [
    {
     "data": {
      "text/plain": [
       "1"
      ]
     },
     "execution_count": 19,
     "metadata": {},
     "output_type": "execute_result"
    }
   ],
   "source": [
    "s = 'apple'\n",
    "s.index('p')"
   ]
  },
  {
   "cell_type": "code",
   "execution_count": 20,
   "metadata": {},
   "outputs": [],
   "source": [
    "def address():\n",
    "    str = '우편번호 12345\\n'\n",
    "    str += '서울시 영등포구 여의도동'\n",
    "    return str"
   ]
  },
  {
   "cell_type": "code",
   "execution_count": 21,
   "metadata": {},
   "outputs": [
    {
     "name": "stdout",
     "output_type": "stream",
     "text": [
      "우편번호 12345\n",
      "서울시 영등포구 여의도동\n"
     ]
    }
   ],
   "source": [
    "print(address())"
   ]
  },
  {
   "cell_type": "code",
   "execution_count": 28,
   "metadata": {},
   "outputs": [],
   "source": [
    "def calculator(*args):\n",
    "    return sum(args),sum(args)/len(args),max(args),min(args)"
   ]
  },
  {
   "cell_type": "code",
   "execution_count": 29,
   "metadata": {},
   "outputs": [
    {
     "name": "stdout",
     "output_type": "stream",
     "text": [
      "합계 15\n",
      "평균 3.0\n",
      "최댓값 5\n",
      "최솟값 1\n"
     ]
    }
   ],
   "source": [
    "a,b,c,d = calculator(1,2,3,4,5)\n",
    "print('합계', a)\n",
    "print('평균', b)\n",
    "print('최댓값', c)\n",
    "print('최솟값', d)\n"
   ]
  },
  {
   "cell_type": "code",
   "execution_count": 30,
   "metadata": {},
   "outputs": [
    {
     "name": "stdout",
     "output_type": "stream",
     "text": [
      "합계 15\n",
      "평균 3.0\n",
      "최댓값 5\n",
      "최솟값 1\n"
     ]
    }
   ],
   "source": [
    "def calculator(*args):\n",
    "    return sum(args),sum(args)/len(args),max(args),min(args)\n",
    "  \n",
    "result = calculator(1,2,3,4,5)\n",
    "print('합계', result[0])\n",
    "print('평균', result[1])\n",
    "print('최댓값', result[2])\n",
    "print('최솟값', result[3])"
   ]
  },
  {
   "cell_type": "code",
   "execution_count": 31,
   "metadata": {},
   "outputs": [
    {
     "name": "stdout",
     "output_type": "stream",
     "text": [
      "4000원에 아메리카노을 선택하셨습니다.\n",
      "잔돈 3000원, 커피 : 아메리카노\n"
     ]
    }
   ],
   "source": [
    "def coffee_machine(money,pick):\n",
    "    print(f\"{money}원에 {pick}을 선택하셨습니다.\")\n",
    "    menu ={\n",
    "      '아메리카노' : 1000,\n",
    "      '카페라떼' : 1500,\n",
    "      '카푸치노' : 2000\n",
    "    }\n",
    "    if pick not in menu:\n",
    "        print(f'{pick}은 판매하지 않습니다.')\n",
    "        return money\n",
    "    elif menu[pick] > money:\n",
    "        print(f\"{pick}은 {menu[pick]}원입니다.\")\n",
    "        return money, '금액 부족'\n",
    "    else:\n",
    "      return money - menu[pick], pick\n",
    "    \n",
    "order = input('커피를 선택하세요(아메리카노, 카페라떼, 카푸치노)')\n",
    "pay = int(input('얼마를 내시나요?'))\n",
    "\n",
    "change, coffee = coffee_machine(pay, order)\n",
    "print(f'잔돈 {change}원, 커피 : {coffee}')"
   ]
  },
  {
   "cell_type": "code",
   "execution_count": 36,
   "metadata": {},
   "outputs": [
    {
     "name": "stdout",
     "output_type": "stream",
     "text": [
      "음료수 = 0개, 잔돈 = 3000원\n",
      "음료수 = 1개, 잔돈 = 2300원\n",
      "음료수 = 2개, 잔돈 = 1600원\n",
      "음료수 = 3개, 잔돈 = 900원\n",
      "음료수 = 4개, 잔돈 = 200원\n"
     ]
    }
   ],
   "source": [
    "def vending_machine(money):\n",
    "    for i in range(money//700 + 1):\n",
    "        print(f\"음료수 = {i}개, 잔돈 = {money - 700*i}원\")\n",
    "        \n",
    "vending_machine(3000)"
   ]
  },
  {
   "cell_type": "code",
   "execution_count": 37,
   "metadata": {},
   "outputs": [
    {
     "name": "stdout",
     "output_type": "stream",
     "text": [
      "평균은 85.0입니다.\n"
     ]
    }
   ],
   "source": [
    "def get_average(marks):\n",
    "    total_score = 0\n",
    "    for subject in marks:\n",
    "        total_score += marks[subject]\n",
    "    return total_score / len(marks)\n",
    "\n",
    "marks = {'국어': 90, '영어': 80, '수학': 85}\n",
    "average = get_average(marks)\n",
    "print(f'평균은 {average}입니다.')\n",
    "        "
   ]
  },
  {
   "cell_type": "code",
   "execution_count": 40,
   "metadata": {},
   "outputs": [
    {
     "name": "stdout",
     "output_type": "stream",
     "text": [
      "축의금 명단: {'영희': 5, '철수': 3, '이모': 10}\n",
      "전체 축의금: 18\n"
     ]
    }
   ],
   "source": [
    "total = 0\n",
    "def gift(dic, who, money):\n",
    "    dic[who] = money\n",
    "    global total\n",
    "    total += money\n",
    "\n",
    "wedding = {}\n",
    "gift(wedding, '영희', 5)\n",
    "gift(wedding, '철수', 3)\n",
    "gift(wedding, '이모', 10)\n",
    "print(f'축의금 명단: {wedding}')\n",
    "print(f'전체 축의금: {total}')"
   ]
  },
  {
   "cell_type": "code",
   "execution_count": null,
   "metadata": {},
   "outputs": [],
   "source": []
  }
 ],
 "metadata": {
  "kernelspec": {
   "display_name": "Python 3",
   "language": "python",
   "name": "python3"
  },
  "language_info": {
   "codemirror_mode": {
    "name": "ipython",
    "version": 3
   },
   "file_extension": ".py",
   "mimetype": "text/x-python",
   "name": "python",
   "nbconvert_exporter": "python",
   "pygments_lexer": "ipython3",
   "version": "3.11.9"
  }
 },
 "nbformat": 4,
 "nbformat_minor": 2
}
