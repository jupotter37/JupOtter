{
 "cells": [
  {
   "cell_type": "markdown",
   "id": "237d1a2e-ec83-45ad-899d-c2d6736f11d9",
   "metadata": {
    "tags": []
   },
   "source": [
    "## Overview of Exception Handling\n",
    "\n",
    "Let us get an overview of Exception Handling.\n",
    "* Exception Handling in general means dealing with unexpected events (eg: trying to add a number with string).\n",
    "* Here are the different ways using which we handle exceptions in Python.\n",
    "  * Using try catch blocks.\n",
    "  * Throwing or raising exceptions as part of if conditions.\n",
    "  * Using assert function."
   ]
  },
  {
   "cell_type": "markdown",
   "id": "33a023b1-9840-43ee-af1a-1d3834048522",
   "metadata": {},
   "source": [
    "* Using `try catch`"
   ]
  },
  {
   "cell_type": "code",
   "execution_count": 1,
   "id": "019ea67c-8400-48ab-bc63-d87f785d7848",
   "metadata": {},
   "outputs": [],
   "source": [
    "a = 1"
   ]
  },
  {
   "cell_type": "code",
   "execution_count": 2,
   "id": "1b465e01-b181-45c9-a675-b163d16f5eb4",
   "metadata": {},
   "outputs": [],
   "source": [
    "b = '10'"
   ]
  },
  {
   "cell_type": "code",
   "execution_count": 3,
   "id": "43264639-13de-498f-abc7-18285da4fad6",
   "metadata": {},
   "outputs": [
    {
     "ename": "TypeError",
     "evalue": "unsupported operand type(s) for +: 'int' and 'str'",
     "output_type": "error",
     "traceback": [
      "\u001b[1;31m---------------------------------------------------------------------------\u001b[0m",
      "\u001b[1;31mTypeError\u001b[0m                                 Traceback (most recent call last)",
      "\u001b[1;32md:\\BIGDATA-LEARN\\data-engineering-spark-main\\itversity-material\\01-python-and-sql\\11_basic_programming_constructs\\13_overview_of_exception_handling.ipynb Cell 5\u001b[0m in \u001b[0;36m<cell line: 1>\u001b[1;34m()\u001b[0m\n\u001b[1;32m----> <a href='vscode-notebook-cell:/d%3A/BIGDATA-LEARN/data-engineering-spark-main/itversity-material/01-python-and-sql/11_basic_programming_constructs/13_overview_of_exception_handling.ipynb#W4sZmlsZQ%3D%3D?line=0'>1</a>\u001b[0m a \u001b[39m+\u001b[39;49m b\n",
      "\u001b[1;31mTypeError\u001b[0m: unsupported operand type(s) for +: 'int' and 'str'"
     ]
    }
   ],
   "source": [
    "a + b # TypeError is Exception Class. It is followed by exception message"
   ]
  },
  {
   "cell_type": "code",
   "execution_count": 4,
   "id": "27fe7af0-ac21-40ab-88f6-143ffe6a426e",
   "metadata": {},
   "outputs": [
    {
     "name": "stdout",
     "output_type": "stream",
     "text": [
      "Either 1 or 10 or both are not integers\n"
     ]
    }
   ],
   "source": [
    "try:\n",
    "    res = a + b\n",
    "except TypeError:\n",
    "    # Below statement will not print exception class name\n",
    "    print(f'Either {a} or {b} or both are not integers')"
   ]
  },
  {
   "cell_type": "code",
   "execution_count": 5,
   "id": "5d618f2d-2ad4-4671-af0f-3dfd7f735445",
   "metadata": {},
   "outputs": [
    {
     "name": "stdout",
     "output_type": "stream",
     "text": [
      "Help on class TypeError in module builtins:\n",
      "\n",
      "class TypeError(Exception)\n",
      " |  Inappropriate argument type.\n",
      " |  \n",
      " |  Method resolution order:\n",
      " |      TypeError\n",
      " |      Exception\n",
      " |      BaseException\n",
      " |      object\n",
      " |  \n",
      " |  Methods defined here:\n",
      " |  \n",
      " |  __init__(self, /, *args, **kwargs)\n",
      " |      Initialize self.  See help(type(self)) for accurate signature.\n",
      " |  \n",
      " |  ----------------------------------------------------------------------\n",
      " |  Static methods defined here:\n",
      " |  \n",
      " |  __new__(*args, **kwargs) from builtins.type\n",
      " |      Create and return a new object.  See help(type) for accurate signature.\n",
      " |  \n",
      " |  ----------------------------------------------------------------------\n",
      " |  Methods inherited from BaseException:\n",
      " |  \n",
      " |  __delattr__(self, name, /)\n",
      " |      Implement delattr(self, name).\n",
      " |  \n",
      " |  __getattribute__(self, name, /)\n",
      " |      Return getattr(self, name).\n",
      " |  \n",
      " |  __reduce__(...)\n",
      " |      Helper for pickle.\n",
      " |  \n",
      " |  __repr__(self, /)\n",
      " |      Return repr(self).\n",
      " |  \n",
      " |  __setattr__(self, name, value, /)\n",
      " |      Implement setattr(self, name, value).\n",
      " |  \n",
      " |  __setstate__(...)\n",
      " |  \n",
      " |  __str__(self, /)\n",
      " |      Return str(self).\n",
      " |  \n",
      " |  with_traceback(...)\n",
      " |      Exception.with_traceback(tb) --\n",
      " |      set self.__traceback__ to tb and return self.\n",
      " |  \n",
      " |  ----------------------------------------------------------------------\n",
      " |  Data descriptors inherited from BaseException:\n",
      " |  \n",
      " |  __cause__\n",
      " |      exception cause\n",
      " |  \n",
      " |  __context__\n",
      " |      exception context\n",
      " |  \n",
      " |  __dict__\n",
      " |  \n",
      " |  __suppress_context__\n",
      " |  \n",
      " |  __traceback__\n",
      " |  \n",
      " |  args\n",
      "\n"
     ]
    }
   ],
   "source": [
    "help(TypeError)"
   ]
  },
  {
   "cell_type": "code",
   "execution_count": 6,
   "id": "a1d19019-c30b-4c94-835c-cfd18f4c50ab",
   "metadata": {},
   "outputs": [
    {
     "name": "stdout",
     "output_type": "stream",
     "text": [
      "TypeError: Either 1 or 10 or both are not integers\n"
     ]
    }
   ],
   "source": [
    "try:\n",
    "    res = a + b\n",
    "except TypeError as te:\n",
    "    # Print Exception class name along with custom message.\n",
    "    print(f'{type(te).__name__}: Either {a} or {b} or both are not integers')"
   ]
  },
  {
   "cell_type": "code",
   "execution_count": 7,
   "id": "546d3075-13d4-4f71-b5db-a2c6b23ea7e2",
   "metadata": {},
   "outputs": [
    {
     "name": "stdout",
     "output_type": "stream",
     "text": [
      "TypeError(\"unsupported operand type(s) for +: 'int' and 'str'\"): Either 1 or 10 or both are not integers\n"
     ]
    }
   ],
   "source": [
    "try:\n",
    "    res = a + b\n",
    "except TypeError as te:\n",
    "    # Print default message along with custom message.\n",
    "    # We can also use str (class name will not be printed)\n",
    "    print(f'{repr(te)}: Either {a} or {b} or both are not integers')"
   ]
  },
  {
   "cell_type": "code",
   "execution_count": 8,
   "id": "ec5800d1-5233-4d16-acf4-22edab7922f0",
   "metadata": {},
   "outputs": [
    {
     "name": "stdout",
     "output_type": "stream",
     "text": [
      "Help on class Exception in module builtins:\n",
      "\n",
      "class Exception(BaseException)\n",
      " |  Common base class for all non-exit exceptions.\n",
      " |  \n",
      " |  Method resolution order:\n",
      " |      Exception\n",
      " |      BaseException\n",
      " |      object\n",
      " |  \n",
      " |  Built-in subclasses:\n",
      " |      ArithmeticError\n",
      " |      AssertionError\n",
      " |      AttributeError\n",
      " |      BufferError\n",
      " |      ... and 15 other subclasses\n",
      " |  \n",
      " |  Methods defined here:\n",
      " |  \n",
      " |  __init__(self, /, *args, **kwargs)\n",
      " |      Initialize self.  See help(type(self)) for accurate signature.\n",
      " |  \n",
      " |  ----------------------------------------------------------------------\n",
      " |  Static methods defined here:\n",
      " |  \n",
      " |  __new__(*args, **kwargs) from builtins.type\n",
      " |      Create and return a new object.  See help(type) for accurate signature.\n",
      " |  \n",
      " |  ----------------------------------------------------------------------\n",
      " |  Methods inherited from BaseException:\n",
      " |  \n",
      " |  __delattr__(self, name, /)\n",
      " |      Implement delattr(self, name).\n",
      " |  \n",
      " |  __getattribute__(self, name, /)\n",
      " |      Return getattr(self, name).\n",
      " |  \n",
      " |  __reduce__(...)\n",
      " |      Helper for pickle.\n",
      " |  \n",
      " |  __repr__(self, /)\n",
      " |      Return repr(self).\n",
      " |  \n",
      " |  __setattr__(self, name, value, /)\n",
      " |      Implement setattr(self, name, value).\n",
      " |  \n",
      " |  __setstate__(...)\n",
      " |  \n",
      " |  __str__(self, /)\n",
      " |      Return str(self).\n",
      " |  \n",
      " |  with_traceback(...)\n",
      " |      Exception.with_traceback(tb) --\n",
      " |      set self.__traceback__ to tb and return self.\n",
      " |  \n",
      " |  ----------------------------------------------------------------------\n",
      " |  Data descriptors inherited from BaseException:\n",
      " |  \n",
      " |  __cause__\n",
      " |      exception cause\n",
      " |  \n",
      " |  __context__\n",
      " |      exception context\n",
      " |  \n",
      " |  __dict__\n",
      " |  \n",
      " |  __suppress_context__\n",
      " |  \n",
      " |  __traceback__\n",
      " |  \n",
      " |  args\n",
      "\n"
     ]
    }
   ],
   "source": [
    "help(Exception)"
   ]
  },
  {
   "cell_type": "code",
   "execution_count": 9,
   "id": "116f2fee-3085-4bfd-b9e6-95dedad682e3",
   "metadata": {},
   "outputs": [
    {
     "data": {
      "text/plain": [
       "11"
      ]
     },
     "execution_count": 9,
     "metadata": {},
     "output_type": "execute_result"
    }
   ],
   "source": [
    "int(a) + int(b)"
   ]
  },
  {
   "cell_type": "code",
   "execution_count": 10,
   "id": "92aec8ce-0117-469c-bf3c-1294c9b7778f",
   "metadata": {},
   "outputs": [],
   "source": [
    "a = 1"
   ]
  },
  {
   "cell_type": "code",
   "execution_count": 11,
   "id": "ec29a4e2-dc03-4b1a-a5d3-622998b01d77",
   "metadata": {},
   "outputs": [],
   "source": [
    "b = 'ten'"
   ]
  },
  {
   "cell_type": "code",
   "execution_count": 12,
   "id": "776984c4-c429-4daf-aae5-8ee826c71ea3",
   "metadata": {},
   "outputs": [
    {
     "ename": "ValueError",
     "evalue": "invalid literal for int() with base 10: 'ten'",
     "output_type": "error",
     "traceback": [
      "\u001b[1;31m---------------------------------------------------------------------------\u001b[0m",
      "\u001b[1;31mValueError\u001b[0m                                Traceback (most recent call last)",
      "\u001b[1;32md:\\BIGDATA-LEARN\\data-engineering-spark-main\\itversity-material\\01-python-and-sql\\11_basic_programming_constructs\\13_overview_of_exception_handling.ipynb Cell 14\u001b[0m in \u001b[0;36m<cell line: 1>\u001b[1;34m()\u001b[0m\n\u001b[1;32m----> <a href='vscode-notebook-cell:/d%3A/BIGDATA-LEARN/data-engineering-spark-main/itversity-material/01-python-and-sql/11_basic_programming_constructs/13_overview_of_exception_handling.ipynb#X16sZmlsZQ%3D%3D?line=0'>1</a>\u001b[0m \u001b[39mint\u001b[39m(a) \u001b[39m+\u001b[39m \u001b[39mint\u001b[39;49m(b)\n",
      "\u001b[1;31mValueError\u001b[0m: invalid literal for int() with base 10: 'ten'"
     ]
    }
   ],
   "source": [
    "int(a) + int(b)"
   ]
  },
  {
   "cell_type": "code",
   "execution_count": 13,
   "id": "c6f2b52c-058b-4d20-a574-e2e27427018a",
   "metadata": {},
   "outputs": [
    {
     "name": "stdout",
     "output_type": "stream",
     "text": [
      "Either 1 or ten or both cannot be converted to integers\n"
     ]
    }
   ],
   "source": [
    "try:\n",
    "    res = int(a) + int(b)\n",
    "except ValueError:\n",
    "    print(f'Either {a} or {b} or both cannot be converted to integers')"
   ]
  },
  {
   "cell_type": "markdown",
   "id": "d2dc7132-0482-4a08-b41a-7b45ec4c335b",
   "metadata": {},
   "source": [
    "* Throwing or raising exceptions as part of if conditions"
   ]
  },
  {
   "cell_type": "code",
   "execution_count": 14,
   "id": "083790e4-3006-4b95-9905-7dbf67c42dd6",
   "metadata": {},
   "outputs": [
    {
     "ename": "ValueError",
     "evalue": "1 or ten or both cannot be converted to integers",
     "output_type": "error",
     "traceback": [
      "\u001b[1;31m---------------------------------------------------------------------------\u001b[0m",
      "\u001b[1;31mValueError\u001b[0m                                Traceback (most recent call last)",
      "\u001b[1;32md:\\BIGDATA-LEARN\\data-engineering-spark-main\\itversity-material\\01-python-and-sql\\11_basic_programming_constructs\\13_overview_of_exception_handling.ipynb Cell 17\u001b[0m in \u001b[0;36m<cell line: 1>\u001b[1;34m()\u001b[0m\n\u001b[0;32m      <a href='vscode-notebook-cell:/d%3A/BIGDATA-LEARN/data-engineering-spark-main/itversity-material/01-python-and-sql/11_basic_programming_constructs/13_overview_of_exception_handling.ipynb#X22sZmlsZQ%3D%3D?line=0'>1</a>\u001b[0m \u001b[39mif\u001b[39;00m \u001b[39mtype\u001b[39m(a) \u001b[39m!=\u001b[39m \u001b[39mint\u001b[39m \u001b[39mor\u001b[39;00m \u001b[39mtype\u001b[39m(b) \u001b[39m!=\u001b[39m \u001b[39mint\u001b[39m:\n\u001b[1;32m----> <a href='vscode-notebook-cell:/d%3A/BIGDATA-LEARN/data-engineering-spark-main/itversity-material/01-python-and-sql/11_basic_programming_constructs/13_overview_of_exception_handling.ipynb#X22sZmlsZQ%3D%3D?line=1'>2</a>\u001b[0m     \u001b[39mraise\u001b[39;00m \u001b[39mValueError\u001b[39;00m(\u001b[39mf\u001b[39m\u001b[39m'\u001b[39m\u001b[39m{\u001b[39;00ma\u001b[39m}\u001b[39;00m\u001b[39m or \u001b[39m\u001b[39m{\u001b[39;00mb\u001b[39m}\u001b[39;00m\u001b[39m or both cannot be converted to integers\u001b[39m\u001b[39m'\u001b[39m)\n",
      "\u001b[1;31mValueError\u001b[0m: 1 or ten or both cannot be converted to integers"
     ]
    }
   ],
   "source": [
    "if type(a) != int or type(b) != int:\n",
    "    raise ValueError(f'{a} or {b} or both cannot be converted to integers')"
   ]
  },
  {
   "cell_type": "markdown",
   "id": "8ca54e2a-6389-49df-81e7-157a158a619b",
   "metadata": {},
   "source": [
    "* Using `assert`"
   ]
  },
  {
   "cell_type": "code",
   "execution_count": 15,
   "id": "3b091ba9-68be-4476-8d01-c8e5e60ad95f",
   "metadata": {},
   "outputs": [
    {
     "ename": "AssertionError",
     "evalue": "Age (-1) cannot be negative",
     "output_type": "error",
     "traceback": [
      "\u001b[1;31m---------------------------------------------------------------------------\u001b[0m",
      "\u001b[1;31mAssertionError\u001b[0m                            Traceback (most recent call last)",
      "\u001b[1;32md:\\BIGDATA-LEARN\\data-engineering-spark-main\\itversity-material\\01-python-and-sql\\11_basic_programming_constructs\\13_overview_of_exception_handling.ipynb Cell 19\u001b[0m in \u001b[0;36m<cell line: 2>\u001b[1;34m()\u001b[0m\n\u001b[0;32m      <a href='vscode-notebook-cell:/d%3A/BIGDATA-LEARN/data-engineering-spark-main/itversity-material/01-python-and-sql/11_basic_programming_constructs/13_overview_of_exception_handling.ipynb#X24sZmlsZQ%3D%3D?line=0'>1</a>\u001b[0m age \u001b[39m=\u001b[39m \u001b[39m-\u001b[39m\u001b[39m1\u001b[39m\n\u001b[1;32m----> <a href='vscode-notebook-cell:/d%3A/BIGDATA-LEARN/data-engineering-spark-main/itversity-material/01-python-and-sql/11_basic_programming_constructs/13_overview_of_exception_handling.ipynb#X24sZmlsZQ%3D%3D?line=1'>2</a>\u001b[0m \u001b[39massert\u001b[39;00m age \u001b[39m>\u001b[39m\u001b[39m=\u001b[39m \u001b[39m0\u001b[39m, \u001b[39mf\u001b[39m\u001b[39m'\u001b[39m\u001b[39mAge (\u001b[39m\u001b[39m{\u001b[39;00mage\u001b[39m}\u001b[39;00m\u001b[39m) cannot be negative\u001b[39m\u001b[39m'\u001b[39m\n",
      "\u001b[1;31mAssertionError\u001b[0m: Age (-1) cannot be negative"
     ]
    }
   ],
   "source": [
    "age = -1\n",
    "assert age >= 0, f'Age ({age}) cannot be negative'"
   ]
  }
 ],
 "metadata": {
  "kernelspec": {
   "display_name": "Python 3.9.7 ('.venv': venv)",
   "language": "python",
   "name": "python3"
  },
  "language_info": {
   "codemirror_mode": {
    "name": "ipython",
    "version": 3
   },
   "file_extension": ".py",
   "mimetype": "text/x-python",
   "name": "python",
   "nbconvert_exporter": "python",
   "pygments_lexer": "ipython3",
   "version": "3.9.7"
  },
  "vscode": {
   "interpreter": {
    "hash": "46f0a31c712fae978552423cd449f57e5b5d767792a57b626d08194debebc25c"
   }
  }
 },
 "nbformat": 4,
 "nbformat_minor": 5
}
