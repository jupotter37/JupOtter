{
 "cells": [
  {
   "cell_type": "code",
   "execution_count": 1,
   "metadata": {},
   "outputs": [
    {
     "name": "stdout",
     "output_type": "stream",
     "text": [
      "7\n"
     ]
    }
   ],
   "source": [
    "f = int(input())\n",
    "k = int(input())\n",
    "print(3*f*k//2)"
   ]
  },
  {
   "cell_type": "code",
   "execution_count": 2,
   "metadata": {},
   "outputs": [
    {
     "name": "stdout",
     "output_type": "stream",
     "text": [
      "15\n"
     ]
    }
   ],
   "source": [
    "f = int(input())\n",
    "k = int(input())\n",
    "print(f * 3**k)"
   ]
  },
  {
   "cell_type": "code",
   "execution_count": 5,
   "metadata": {},
   "outputs": [
    {
     "ename": "ValueError",
     "evalue": "invalid literal for int() with base 10: '1-7'",
     "output_type": "error",
     "traceback": [
      "\u001b[0;31m---------------------------------------------------------------------------\u001b[0m",
      "\u001b[0;31mValueError\u001b[0m                                Traceback (most recent call last)",
      "Cell \u001b[0;32mIn[5], line 1\u001b[0m\n\u001b[0;32m----> 1\u001b[0m m \u001b[38;5;241m=\u001b[39m \u001b[38;5;28;43mint\u001b[39;49m\u001b[43m(\u001b[49m\u001b[38;5;28;43minput\u001b[39;49m\u001b[43m(\u001b[49m\u001b[43m)\u001b[49m\u001b[43m)\u001b[49m\n\u001b[1;32m      2\u001b[0m \u001b[38;5;28mprint\u001b[39m(m\u001b[38;5;241m/\u001b[39m\u001b[38;5;241m/\u001b[39m\u001b[38;5;241m60\u001b[39m)\n\u001b[1;32m      3\u001b[0m \u001b[38;5;28mprint\u001b[39m(m\u001b[38;5;241m%\u001b[39m\u001b[38;5;241m60\u001b[39m)\n",
      "\u001b[0;31mValueError\u001b[0m: invalid literal for int() with base 10: '1-7'"
     ]
    }
   ],
   "source": [
    "m = int(input())\n",
    "print(m//60)\n",
    "print(m%60)\n"
   ]
  },
  {
   "cell_type": "code",
   "execution_count": 6,
   "metadata": {},
   "outputs": [
    {
     "name": "stdout",
     "output_type": "stream",
     "text": [
      "1\n",
      "47\n"
     ]
    }
   ],
   "source": [
    "m = int(input())\n",
    "print(m//60)\n",
    "print(m%60)"
   ]
  },
  {
   "cell_type": "code",
   "execution_count": 3,
   "metadata": {},
   "outputs": [
    {
     "name": "stdout",
     "output_type": "stream",
     "text": [
      "NORMAL CLASSES\n"
     ]
    }
   ],
   "source": [
    "T = int(input())\n",
    "if T > 35:\n",
    "    print(\"CANCEL SCHOOL\")\n",
    "\n",
    "elif T > 30:\n",
    "    print(\"CANCEL TWO CLASSES\")\n",
    "else:\n",
    "    print(\"NORMAL CLASSES\")\n",
    "\n"
   ]
  },
  {
   "cell_type": "code",
   "execution_count": 4,
   "metadata": {},
   "outputs": [
    {
     "name": "stdout",
     "output_type": "stream",
     "text": [
      "17\n"
     ]
    }
   ],
   "source": [
    "a = int(input())\n",
    "b = int(input())\n",
    "c = int(input())\n",
    "max_coin = max(a + b, a + c, b + c)\n",
    "print(max_coin)\n"
   ]
  },
  {
   "cell_type": "code",
   "execution_count": 5,
   "metadata": {},
   "outputs": [
    {
     "name": "stdout",
     "output_type": "stream",
     "text": [
      "YES\n"
     ]
    }
   ],
   "source": [
    "l = int(input())\n",
    "if l % 7 == 0 and l % 11 != 0:\n",
    "    print(\"YES\")\n",
    "else:\n",
    "    print(\"NO\")\n"
   ]
  },
  {
   "cell_type": "code",
   "execution_count": 6,
   "metadata": {},
   "outputs": [
    {
     "name": "stdout",
     "output_type": "stream",
     "text": [
      "OPEN\n"
     ]
    }
   ],
   "source": [
    "h = int(input())\n",
    "if h >= 5 and h <= 9:\n",
    "    print(\"OPEN\")\n",
    "else:\n",
    "    print(\"CLOSED\")\n",
    "    "
   ]
  },
  {
   "cell_type": "code",
   "execution_count": 12,
   "metadata": {},
   "outputs": [
    {
     "name": "stdout",
     "output_type": "stream",
     "text": [
      "2\n"
     ]
    }
   ],
   "source": [
    "n = int(input())\n",
    "m = int(input())\n",
    "min_number = min( n, m )\n",
    "print(min_number)\n"
   ]
  },
  {
   "cell_type": "code",
   "execution_count": 15,
   "metadata": {},
   "outputs": [
    {
     "name": "stdout",
     "output_type": "stream",
     "text": [
      "Developing\n"
     ]
    }
   ],
   "source": [
    "a = int(input())\n",
    "if a <= 40:\n",
    "    print(\"Emerging\")\n",
    "if a >= 41 and a <= 80:\n",
    "    print(\"Developing\")\n",
    "if a >= 81 and a <= 100:\n",
    "    print(\"Achieved\")\n"
   ]
  },
  {
   "cell_type": "code",
   "execution_count": 18,
   "metadata": {},
   "outputs": [
    {
     "name": "stdout",
     "output_type": "stream",
     "text": [
      "YES\n"
     ]
    }
   ],
   "source": [
    "a = int(input())\n",
    "b = int(input())\n",
    "c = int(input())\n",
    "d = int(input())\n",
    "sen_one = (a <= c and b <= d)\n",
    "sen_two = (a <= d and b <= c)\n",
    "if sen_one or sen_two:\n",
    "   print(\"YES\")\n",
    "else:\n",
    "   print(\"NO\")\n"
   ]
  },
  {
   "cell_type": "code",
   "execution_count": 26,
   "metadata": {},
   "outputs": [
    {
     "name": "stdout",
     "output_type": "stream",
     "text": [
      "5\n",
      "4\n",
      "3\n",
      "2\n",
      "1\n"
     ]
    }
   ],
   "source": [
    "n = int(input())\n",
    "while n >= 1:\n",
    "    print(n)\n",
    "    n -= 1"
   ]
  },
  {
   "cell_type": "code",
   "execution_count": 29,
   "metadata": {},
   "outputs": [
    {
     "name": "stdout",
     "output_type": "stream",
     "text": [
      "14\n"
     ]
    }
   ],
   "source": [
    "n = int(input())\n",
    "s = 0\n",
    "for i in range(1, n + 1):\n",
    "    s += i ** 2\n",
    "print(s)\n",
    "\n",
    "\n"
   ]
  },
  {
   "cell_type": "code",
   "execution_count": 33,
   "metadata": {},
   "outputs": [
    {
     "name": "stdout",
     "output_type": "stream",
     "text": [
      "27\n"
     ]
    }
   ],
   "source": [
    "n = int(input())\n",
    "total_sum = 0\n",
    "for i in range (n):\n",
    "    a_i = int(input())\n",
    "    total_sum += a_i\n",
    "print(total_sum)\n",
    "\n"
   ]
  },
  {
   "cell_type": "code",
   "execution_count": 35,
   "metadata": {},
   "outputs": [
    {
     "name": "stdout",
     "output_type": "stream",
     "text": [
      "2\n",
      "4\n",
      "6\n",
      "8\n"
     ]
    }
   ],
   "source": [
    "a = int(input())\n",
    "b = int(input())\n",
    "\n",
    "for number in range(a, b + 1):\n",
    "    if number % 2 == 0:\n",
    "        print(number)\n",
    "        \n"
   ]
  },
  {
   "cell_type": "code",
   "execution_count": 42,
   "metadata": {},
   "outputs": [
    {
     "name": "stdout",
     "output_type": "stream",
     "text": [
      "1\n"
     ]
    }
   ],
   "source": [
    "n = int(input())\n",
    "total = 0\n",
    "for i in range(n):\n",
    "    a = int(input())\n",
    "    if a == 0:\n",
    "        total += 1\n",
    "print(total)\n"
   ]
  },
  {
   "cell_type": "code",
   "execution_count": 43,
   "metadata": {},
   "outputs": [
    {
     "name": "stdout",
     "output_type": "stream",
     "text": [
      "2\n"
     ]
    }
   ],
   "source": [
    "n = int(input())\n",
    "s = n * (n+1)// 2\n",
    "a = 0\n",
    "for i in range(n-1):\n",
    "    h = int(input())\n",
    "    a += h\n",
    "missing_hero = s - a\n",
    "print(missing_hero)\n"
   ]
  },
  {
   "cell_type": "code",
   "execution_count": 1,
   "metadata": {},
   "outputs": [
    {
     "name": "stdout",
     "output_type": "stream",
     "text": [
      "12 3\n"
     ]
    }
   ],
   "source": [
    "a = int(input())\n",
    "b = int(input())\n",
    "bob_result = int(str(a)+ str(b))\n",
    "correct_result = a + b\n",
    "print(bob_result, correct_result)\n"
   ]
  },
  {
   "cell_type": "code",
   "execution_count": 2,
   "metadata": {},
   "outputs": [
    {
     "name": "stdout",
     "output_type": "stream",
     "text": [
      "h\n"
     ]
    }
   ],
   "source": [
    "s = input()\n",
    "i = int(input())\n",
    "print(s[(i-1)])"
   ]
  },
  {
   "cell_type": "code",
   "execution_count": 6,
   "metadata": {},
   "outputs": [
    {
     "name": "stdout",
     "output_type": "stream",
     "text": [
      "abcba\n"
     ]
    }
   ],
   "source": [
    "s = input()\n",
    "a = input()\n",
    "middle_index = len(s) // 2 \n",
    "result = s[:middle_index] + a + s[middle_index:]\n",
    "print(result)\n"
   ]
  },
  {
   "cell_type": "code",
   "execution_count": 8,
   "metadata": {},
   "outputs": [
    {
     "name": "stdout",
     "output_type": "stream",
     "text": [
      "defabc\n"
     ]
    }
   ],
   "source": [
    "s = input()\n",
    "middle_index = len(s) // 2\n",
    "result = s[middle_index:] + s[:middle_index]\n",
    "print(result)\n"
   ]
  },
  {
   "cell_type": "code",
   "execution_count": 4,
   "metadata": {},
   "outputs": [
    {
     "name": "stdout",
     "output_type": "stream",
     "text": [
      "fgh\n"
     ]
    }
   ],
   "source": [
    "s = input()\n",
    "middle_index = len(s) // 2\n",
    "first_letter = s[middle_index - 1 ]\n",
    "second_letter  = s[middle_index]\n",
    "third_letter = s[middle_index + 1]\n",
    "print(first_letter + second_letter + third_letter)\n"
   ]
  },
  {
   "cell_type": "code",
   "execution_count": 9,
   "metadata": {},
   "outputs": [
    {
     "name": "stdout",
     "output_type": "stream",
     "text": [
      "a\n",
      "b\n",
      "c\n",
      "d\n"
     ]
    }
   ],
   "source": [
    "s = input()\n",
    "for character in s:\n",
    "  print(character)\n",
    "\n"
   ]
  },
  {
   "cell_type": "code",
   "execution_count": 1,
   "metadata": {},
   "outputs": [
    {
     "name": "stdout",
     "output_type": "stream",
     "text": [
      "5\n"
     ]
    }
   ],
   "source": [
    "s = input()\n",
    "result = s.count('f')\n",
    "print(result)\n"
   ]
  },
  {
   "cell_type": "code",
   "execution_count": 2,
   "metadata": {},
   "outputs": [
    {
     "name": "stdout",
     "output_type": "stream",
     "text": [
      "ALICE\n"
     ]
    }
   ],
   "source": [
    "\n",
    "s = input()\n",
    "\n",
    "\n",
    "alice_wins = s.count('A')\n",
    "bob_wins = s.count('B')\n",
    "\n",
    "\n",
    "if alice_wins > bob_wins:\n",
    "    print(\"ALICE\")\n",
    "elif bob_wins > alice_wins:\n",
    "    print(\"BOB\")\n",
    "else:\n",
    "    print(\"DRAW\")"
   ]
  },
  {
   "cell_type": "code",
   "execution_count": 21,
   "metadata": {},
   "outputs": [
    {
     "name": "stdout",
     "output_type": "stream",
     "text": [
      "['5', '4', '3', '2', '1']\n",
      "<map object at 0x109655090>\n"
     ]
    }
   ],
   "source": [
    "str = input()\n",
    "index = int(input())\n",
    "l = str.split()\n",
    "\n",
    "print(l)\n",
    "\n"
   ]
  },
  {
   "cell_type": "code",
   "execution_count": 2,
   "metadata": {},
   "outputs": [
    {
     "name": "stdout",
     "output_type": "stream",
     "text": [
      "2 8 6\n"
     ]
    }
   ],
   "source": [
    "b = int(input())\n",
    "a = list(map(int, input().split()))\n",
    "\n",
    "result = []\n",
    "\n",
    "for i in range(b):\n",
    "    if a[i] % 2 == 0:  \n",
    "        result.append(a[i])\n",
    "        \n",
    "t = list(map(str, result ))\n",
    "\n",
    "print(\" \".join(t))"
   ]
  },
  {
   "cell_type": "code",
   "execution_count": 3,
   "metadata": {},
   "outputs": [
    {
     "name": "stdout",
     "output_type": "stream",
     "text": [
      "1 3 5\n"
     ]
    }
   ],
   "source": [
    "n = int(input())\n",
    "\n",
    "a = list(map(int, input().split()))\n",
    "\n",
    "result = []\n",
    "\n",
    "for i in range(n):\n",
    "    if i % 2 == 0:  \n",
    "        result.append(a[i])\n",
    "\n",
    "print(*result)"
   ]
  },
  {
   "cell_type": "code",
   "execution_count": 4,
   "metadata": {},
   "outputs": [
    {
     "name": "stdout",
     "output_type": "stream",
     "text": [
      "3\n"
     ]
    }
   ],
   "source": [
    "a = int(input())\n",
    "\n",
    "b = list(map(int, input().split()))\n",
    "\n",
    "new_set = set(b)\n",
    "\n",
    "print(len(new_set))"
   ]
  }
 ],
 "metadata": {
  "kernelspec": {
   "display_name": "hs_learning_env",
   "language": "python",
   "name": "python3"
  },
  "language_info": {
   "codemirror_mode": {
    "name": "ipython",
    "version": 3
   },
   "file_extension": ".py",
   "mimetype": "text/x-python",
   "name": "python",
   "nbconvert_exporter": "python",
   "pygments_lexer": "ipython3",
   "version": "3.12.4"
  }
 },
 "nbformat": 4,
 "nbformat_minor": 2
}
