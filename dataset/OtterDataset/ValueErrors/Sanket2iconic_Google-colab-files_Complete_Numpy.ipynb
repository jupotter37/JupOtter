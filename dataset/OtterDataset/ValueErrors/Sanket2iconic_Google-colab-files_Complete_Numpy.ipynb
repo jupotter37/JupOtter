{
  "nbformat": 4,
  "nbformat_minor": 0,
  "metadata": {
    "colab": {
      "provenance": [],
      "include_colab_link": true
    },
    "kernelspec": {
      "name": "python3",
      "display_name": "Python 3"
    },
    "language_info": {
      "name": "python"
    }
  },
  "cells": [
    {
      "cell_type": "markdown",
      "metadata": {
        "id": "view-in-github",
        "colab_type": "text"
      },
      "source": [
        "<a href=\"https://colab.research.google.com/github/Sanket2iconic/Google-colab-files/blob/main/Complete_Numpy.ipynb\" target=\"_parent\"><img src=\"https://colab.research.google.com/assets/colab-badge.svg\" alt=\"Open In Colab\"/></a>"
      ]
    },
    {
      "cell_type": "markdown",
      "source": [
        "# Machine learning Libraries\n",
        "* Numpy\n",
        "* Pandas\n",
        "* Seaborn/matplotlib"
      ],
      "metadata": {
        "id": "GOG5MBgo8O74"
      }
    },
    {
      "cell_type": "markdown",
      "source": [
        "# Module\n",
        "It's a file which includes all class , functions and methods related to any topic which can be reused."
      ],
      "metadata": {
        "id": "jI8_oPbV8z68"
      }
    },
    {
      "cell_type": "code",
      "source": [
        "class calculator:\n",
        "  def add(self,x,y):\n",
        "    return x+y\n",
        "  def mul(self,x,y):\n",
        "    return x*y\n",
        "obj= calculator()"
      ],
      "metadata": {
        "id": "QyjfyOvM8qaV"
      },
      "execution_count": null,
      "outputs": []
    },
    {
      "cell_type": "code",
      "source": [
        "# product of 4 and 5\n",
        "obj.mul(4,5)"
      ],
      "metadata": {
        "colab": {
          "base_uri": "https://localhost:8080/"
        },
        "id": "sHrLnWRE9zCr",
        "outputId": "0264f145-1ee4-4c75-c198-3ee41c6e6dad"
      },
      "execution_count": null,
      "outputs": [
        {
          "output_type": "execute_result",
          "data": {
            "text/plain": [
              "20"
            ]
          },
          "metadata": {},
          "execution_count": 10
        }
      ]
    },
    {
      "cell_type": "code",
      "source": [
        "obj.mul(10,5)"
      ],
      "metadata": {
        "colab": {
          "base_uri": "https://localhost:8080/"
        },
        "id": "8o_FOxPT-AGg",
        "outputId": "cc0945eb-df64-4324-fe53-8da10249b3ea"
      },
      "execution_count": null,
      "outputs": [
        {
          "output_type": "execute_result",
          "data": {
            "text/plain": [
              "50"
            ]
          },
          "metadata": {},
          "execution_count": 11
        }
      ]
    },
    {
      "cell_type": "markdown",
      "source": [
        "# Package / library\n",
        "Packages includes multiple modules/collection of modules"
      ],
      "metadata": {
        "id": "3uJHRkQv_G31"
      }
    },
    {
      "cell_type": "markdown",
      "source": [
        "# Numpy\n",
        "* Numpy is one of the library used for data analysis and for mathematical computation.\n",
        "* Numpy helps us in creating arrays , matrices.\n",
        "* It also helps in solving complex mathematical problems such as linear algebra , fourier Transforms , matrix related problems can be solved.\n",
        "* It is used to solve problems related to datascience , machine learning and aslo artificial Intelligence\n",
        "* Image processing , audio , video"
      ],
      "metadata": {
        "id": "6m1t4UWE_88o"
      }
    },
    {
      "cell_type": "markdown",
      "source": [
        "# What can be done with Numpy?\n",
        "* create arrays to store values.\n",
        "* We can generate arrays using inbuilt functions.\n",
        "* Indexing and slicing\n",
        "* Mathematical operations , statistical ,mathematical functions .\n",
        "* Matrix multiplication , determinant , inverse , eigen values"
      ],
      "metadata": {
        "id": "aseMmU8kCDv9"
      }
    },
    {
      "cell_type": "code",
      "source": [
        "# pip is package manager used to install any libraries in python\n",
        "!pip install numpy"
      ],
      "metadata": {
        "colab": {
          "base_uri": "https://localhost:8080/"
        },
        "id": "qemBxoyqDtiP",
        "outputId": "35a889d6-cb5b-407b-9c1b-2ea3aef3351a"
      },
      "execution_count": null,
      "outputs": [
        {
          "output_type": "stream",
          "name": "stdout",
          "text": [
            "Requirement already satisfied: numpy in /usr/local/lib/python3.10/dist-packages (1.25.2)\n"
          ]
        }
      ]
    },
    {
      "cell_type": "code",
      "source": [
        "# import the libraries\n",
        "import numpy as np"
      ],
      "metadata": {
        "id": "ekiJ50M8-wCC"
      },
      "execution_count": null,
      "outputs": []
    },
    {
      "cell_type": "code",
      "source": [
        "# create an array to store 100\n",
        "arr = np.array(100)\n",
        "print(arr)\n",
        "print(\"type\",type(arr))\n",
        "print(\"number of elements:\",arr.size)\n",
        "print(\"dimension:\",arr.ndim)\n",
        "print(\"data type:\",arr.dtype)\n",
        "print(\"no of rows and columns\",arr.shape)"
      ],
      "metadata": {
        "colab": {
          "base_uri": "https://localhost:8080/"
        },
        "id": "RnKexBVwDopU",
        "outputId": "a944441d-2bce-4858-fad1-2cb1cab0b4f8"
      },
      "execution_count": null,
      "outputs": [
        {
          "output_type": "stream",
          "name": "stdout",
          "text": [
            "100\n",
            "type <class 'numpy.ndarray'>\n",
            "number of elements: 1\n",
            "dimension: 0\n",
            "data type: int64\n",
            "no of rows and columns ()\n"
          ]
        }
      ]
    },
    {
      "cell_type": "markdown",
      "source": [
        "# functions and method\n",
        "* size :It is find length of an array\n",
        "* type: It is used to find type of an object\n",
        "* dtype: It is used to find data type of object\n",
        "* shape: It gives number of rows and columns\n",
        "* ndim: It is used to find dimension of an array"
      ],
      "metadata": {
        "id": "pxKGIVIIFfLT"
      }
    },
    {
      "cell_type": "code",
      "source": [
        "# create an array to store values [10,20,30,40,50]\n",
        "arr = np.array([10,20,30,40,50]) #np.array((10,20,30,40,50))\n",
        "print(arr)\n",
        "print(\"type\",type(arr))\n",
        "print(\"number of elements:\",arr.size)\n",
        "print(\"dimension:\",arr.ndim)\n",
        "print(\"data type:\",arr.dtype)\n",
        "print(\"no of rows and columns\",arr.shape) # 1 row and  5 columns"
      ],
      "metadata": {
        "colab": {
          "base_uri": "https://localhost:8080/"
        },
        "id": "JbFySHKOFeS-",
        "outputId": "838fb37e-c4f0-4b68-b2fe-930a91fe081b"
      },
      "execution_count": null,
      "outputs": [
        {
          "output_type": "stream",
          "name": "stdout",
          "text": [
            "[10 20 30 40 50]\n",
            "type <class 'numpy.ndarray'>\n",
            "number of elements: 5\n",
            "dimension: 1\n",
            "data type: int64\n",
            "no of rows and columns (5,)\n"
          ]
        }
      ]
    },
    {
      "cell_type": "code",
      "source": [
        "'''\n",
        "[1,2,3]\n",
        "[4,5,6]\n",
        "[7,8,9]'''\n",
        "A =[[1,2,3],[4,5,6],[7,8,9]]\n",
        "arr=np.array(A)\n",
        "print(arr)\n",
        "print(\"type\",type(arr))\n",
        "print(\"number of elements:\",arr.size)\n",
        "print(\"dimension:\",arr.ndim)\n",
        "print(\"data type:\",arr.dtype)\n",
        "print(\"no of rows and columns\",arr.shape)"
      ],
      "metadata": {
        "colab": {
          "base_uri": "https://localhost:8080/"
        },
        "id": "36bF_zWpHIkt",
        "outputId": "7d3c4100-26ba-4d06-fd13-ba10baf21aaa"
      },
      "execution_count": null,
      "outputs": [
        {
          "output_type": "stream",
          "name": "stdout",
          "text": [
            "[[1 2 3]\n",
            " [4 5 6]\n",
            " [7 8 9]]\n",
            "type <class 'numpy.ndarray'>\n",
            "number of elements: 9\n",
            "dimension: 2\n",
            "data type: int64\n",
            "no of rows and columns (3, 3)\n"
          ]
        }
      ]
    },
    {
      "cell_type": "code",
      "source": [
        "'''\n",
        "[1,2,3]\n",
        "[4,5,6]\n",
        "[7,8,9]'''\n",
        "A =[[[1,2,3],[4,5,6],[7,8,9]]]\n",
        "arr=np.array(A)\n",
        "print(arr)\n",
        "print(\"type\",type(arr))\n",
        "print(\"number of elements:\",arr.size)\n",
        "print(\"dimension:\",arr.ndim)\n",
        "print(\"data type:\",arr.dtype)\n",
        "print(\"no of rows and columns\",arr.shape)"
      ],
      "metadata": {
        "colab": {
          "base_uri": "https://localhost:8080/"
        },
        "id": "1kd_ll38KIV3",
        "outputId": "4e36e712-e228-425a-9359-928c2a2e8ac7"
      },
      "execution_count": null,
      "outputs": [
        {
          "output_type": "stream",
          "name": "stdout",
          "text": [
            "[[[1 2 3]\n",
            "  [4 5 6]\n",
            "  [7 8 9]]]\n",
            "type <class 'numpy.ndarray'>\n",
            "number of elements: 9\n",
            "dimension: 3\n",
            "data type: int64\n",
            "no of rows and columns (1, 3, 3)\n"
          ]
        }
      ]
    },
    {
      "cell_type": "code",
      "source": [
        "# (1,3,3): 3*3 matrix along x -axis\n",
        "# (2,3,3): 3*3 matrix along x and y_axis\n",
        "# (3,3,3): #*3 matrix along x,y,z axis"
      ],
      "metadata": {
        "id": "HqV42zBNKRbf"
      },
      "execution_count": null,
      "outputs": []
    },
    {
      "cell_type": "code",
      "source": [
        "# size = no_of_rows * no_of_columns"
      ],
      "metadata": {
        "id": "Tev0KKVvIcjv"
      },
      "execution_count": null,
      "outputs": []
    },
    {
      "cell_type": "markdown",
      "source": [
        "# Numpy math functions\n",
        "* sum(): Sum of array elements.\n",
        "* mean(): Mean of array elements.\n",
        "* median(): Median of array elements.\n",
        "* std(): Standard deviation of array elements.\n",
        "* min(): Minimum value in an array.\n",
        "* max(): Maximum value in an array."
      ],
      "metadata": {
        "id": "LSUnSpoaJ2fQ"
      }
    },
    {
      "cell_type": "code",
      "source": [
        "arr = np.array([10,20,30,40,50,60])\n",
        "print(\"sum:\",np.sum(arr))\n",
        "print(\"min:\",np.min(arr))\n",
        "print(\"max:\",np.max(arr))\n",
        "print(\"mean:\",np.mean(arr))\n",
        "print(\"median\",np.median(arr))\n",
        "print(\"std\",np.std(arr))# standard deviation"
      ],
      "metadata": {
        "colab": {
          "base_uri": "https://localhost:8080/"
        },
        "id": "DlId2ep0J9jE",
        "outputId": "1c2f759e-aa17-4f79-c710-5c5147fcb8ef"
      },
      "execution_count": null,
      "outputs": [
        {
          "output_type": "stream",
          "name": "stdout",
          "text": [
            "sum: 210\n",
            "min: 10\n",
            "max: 60\n",
            "mean: 35.0\n",
            "median 35.0\n",
            "std 17.07825127659933\n"
          ]
        }
      ]
    },
    {
      "cell_type": "markdown",
      "source": [
        "# Inbuilt functions to generate an array"
      ],
      "metadata": {
        "id": "PlVtMp2GSUhg"
      }
    },
    {
      "cell_type": "markdown",
      "source": [
        "# arange():\n",
        " This function is used to create an array with evenly spaced values within a specified range. It takes three arguments: start, stop, and step."
      ],
      "metadata": {
        "id": "KWl2z-AeSmF8"
      }
    },
    {
      "cell_type": "code",
      "source": [
        "# generate an array which has values 1 to 100\n",
        "arr = np.arange(1,101)\n",
        "arr"
      ],
      "metadata": {
        "colab": {
          "base_uri": "https://localhost:8080/"
        },
        "id": "-iq3N77pRb1A",
        "outputId": "cfa21857-126a-44de-a563-f9d272284ecc"
      },
      "execution_count": null,
      "outputs": [
        {
          "output_type": "execute_result",
          "data": {
            "text/plain": [
              "array([  1,   2,   3,   4,   5,   6,   7,   8,   9,  10,  11,  12,  13,\n",
              "        14,  15,  16,  17,  18,  19,  20,  21,  22,  23,  24,  25,  26,\n",
              "        27,  28,  29,  30,  31,  32,  33,  34,  35,  36,  37,  38,  39,\n",
              "        40,  41,  42,  43,  44,  45,  46,  47,  48,  49,  50,  51,  52,\n",
              "        53,  54,  55,  56,  57,  58,  59,  60,  61,  62,  63,  64,  65,\n",
              "        66,  67,  68,  69,  70,  71,  72,  73,  74,  75,  76,  77,  78,\n",
              "        79,  80,  81,  82,  83,  84,  85,  86,  87,  88,  89,  90,  91,\n",
              "        92,  93,  94,  95,  96,  97,  98,  99, 100])"
            ]
          },
          "metadata": {},
          "execution_count": 34
        }
      ]
    },
    {
      "cell_type": "code",
      "source": [
        "# generate array which has 0 to 10 values\n",
        "arr = np.arange(11) # end value is not included\n",
        "arr"
      ],
      "metadata": {
        "colab": {
          "base_uri": "https://localhost:8080/"
        },
        "id": "8FObQ9uJS6At",
        "outputId": "898d01f1-5029-469e-ff36-0fed0f7dfa50"
      },
      "execution_count": null,
      "outputs": [
        {
          "output_type": "execute_result",
          "data": {
            "text/plain": [
              "array([ 0,  1,  2,  3,  4,  5,  6,  7,  8,  9, 10])"
            ]
          },
          "metadata": {},
          "execution_count": 35
        }
      ]
    },
    {
      "cell_type": "code",
      "source": [
        "# generate array which even numbers from 2 to 40\n",
        "arr_1 = np.arange(2,41,2)\n",
        "arr_1"
      ],
      "metadata": {
        "colab": {
          "base_uri": "https://localhost:8080/"
        },
        "id": "koC7_xFgTbI4",
        "outputId": "d64d43cf-9733-4b6e-fa12-3b3468473e10"
      },
      "execution_count": null,
      "outputs": [
        {
          "output_type": "execute_result",
          "data": {
            "text/plain": [
              "array([ 2,  4,  6,  8, 10, 12, 14, 16, 18, 20, 22, 24, 26, 28, 30, 32, 34,\n",
              "       36, 38, 40])"
            ]
          },
          "metadata": {},
          "execution_count": 37
        }
      ]
    },
    {
      "cell_type": "code",
      "source": [
        "# generate an array with first 10 multiples of 5\n",
        "arr_2=np.arange(5,51,5)\n",
        "arr_2"
      ],
      "metadata": {
        "colab": {
          "base_uri": "https://localhost:8080/"
        },
        "id": "iFrtzq16TMZL",
        "outputId": "53324366-f5bf-4173-fe3d-159446041786"
      },
      "execution_count": null,
      "outputs": [
        {
          "output_type": "execute_result",
          "data": {
            "text/plain": [
              "array([ 5, 10, 15, 20, 25, 30, 35, 40, 45, 50])"
            ]
          },
          "metadata": {},
          "execution_count": 39
        }
      ]
    },
    {
      "cell_type": "markdown",
      "source": [
        "# reshape\n",
        "It is used to convert lower dimension array to higher dimension"
      ],
      "metadata": {
        "id": "gAeTIF41U7FR"
      }
    },
    {
      "cell_type": "code",
      "source": [
        "# generate an array of order 3 * 3 using arange\n",
        "# 3*3 =9\n",
        "arr = np.arange(1,10).reshape(3,3)\n",
        "arr"
      ],
      "metadata": {
        "colab": {
          "base_uri": "https://localhost:8080/"
        },
        "id": "WcmqVgjcUD0C",
        "outputId": "0558dcb5-4868-4daa-b4f0-58dd724964ce"
      },
      "execution_count": null,
      "outputs": [
        {
          "output_type": "execute_result",
          "data": {
            "text/plain": [
              "array([[1, 2, 3],\n",
              "       [4, 5, 6],\n",
              "       [7, 8, 9]])"
            ]
          },
          "metadata": {},
          "execution_count": 41
        }
      ]
    },
    {
      "cell_type": "code",
      "source": [
        "# generate 7 *2 matrix  using arange\n",
        "# 7*2=14 elements\n",
        "arr = np.arange(1,15).reshape(7,2)\n",
        "arr\n"
      ],
      "metadata": {
        "colab": {
          "base_uri": "https://localhost:8080/"
        },
        "id": "BIzzEun6Uv-D",
        "outputId": "c4def0eb-fcbd-436e-8a90-1dd8a37a28e6"
      },
      "execution_count": null,
      "outputs": [
        {
          "output_type": "execute_result",
          "data": {
            "text/plain": [
              "array([[ 1,  2],\n",
              "       [ 3,  4],\n",
              "       [ 5,  6],\n",
              "       [ 7,  8],\n",
              "       [ 9, 10],\n",
              "       [11, 12],\n",
              "       [13, 14]])"
            ]
          },
          "metadata": {},
          "execution_count": 43
        }
      ]
    },
    {
      "cell_type": "code",
      "source": [
        "# generate 2d array\n",
        "#len(arr)=22\n",
        "# order= 11*2 , 2*11, 22*1\n",
        "arr = np.arange(22).reshape(11,2)\n",
        "arr"
      ],
      "metadata": {
        "colab": {
          "base_uri": "https://localhost:8080/"
        },
        "id": "AvO_8KhGVX-U",
        "outputId": "cdd68401-ad78-439e-a761-b3ce533fcf0a"
      },
      "execution_count": null,
      "outputs": [
        {
          "output_type": "execute_result",
          "data": {
            "text/plain": [
              "array([[ 0,  1],\n",
              "       [ 2,  3],\n",
              "       [ 4,  5],\n",
              "       [ 6,  7],\n",
              "       [ 8,  9],\n",
              "       [10, 11],\n",
              "       [12, 13],\n",
              "       [14, 15],\n",
              "       [16, 17],\n",
              "       [18, 19],\n",
              "       [20, 21]])"
            ]
          },
          "metadata": {},
          "execution_count": 46
        }
      ]
    },
    {
      "cell_type": "code",
      "source": [
        "# generate an 2d array using 2,4,6,8,10,12,14,16,18,20\n",
        "# 10= 2* 5 , 5* 2, 10*1\n",
        "arr = np.arange(2,21,2).reshape(2,5)\n",
        "arr"
      ],
      "metadata": {
        "colab": {
          "base_uri": "https://localhost:8080/"
        },
        "id": "WObohhsTVi-_",
        "outputId": "4b1ac81b-6bb0-4792-a815-c910731327a5"
      },
      "execution_count": null,
      "outputs": [
        {
          "output_type": "execute_result",
          "data": {
            "text/plain": [
              "array([[ 2,  4,  6,  8, 10],\n",
              "       [12, 14, 16, 18, 20]])"
            ]
          },
          "metadata": {},
          "execution_count": 49
        }
      ]
    },
    {
      "cell_type": "code",
      "source": [
        "# generate a 3d array of order (1,2,3)\n",
        "# elements = 6\n",
        "arr = np.arange(1,7).reshape(1,2,3)\n",
        "arr"
      ],
      "metadata": {
        "colab": {
          "base_uri": "https://localhost:8080/"
        },
        "id": "8BMJb37FW9EZ",
        "outputId": "b5549a29-b43c-4d21-f781-e8eb92190e3e"
      },
      "execution_count": null,
      "outputs": [
        {
          "output_type": "execute_result",
          "data": {
            "text/plain": [
              "array([[[1, 2, 3],\n",
              "        [4, 5, 6]]])"
            ]
          },
          "metadata": {},
          "execution_count": 53
        }
      ]
    },
    {
      "cell_type": "code",
      "source": [
        "# generate 3d array of order (3,2,2)\n",
        "# elements= 3* 2*2=12\n",
        "arr=np.arange(10,22).reshape(3,2,2)\n",
        "arr"
      ],
      "metadata": {
        "colab": {
          "base_uri": "https://localhost:8080/"
        },
        "id": "4EHIAXzGX1fj",
        "outputId": "62a244b8-bd9c-436e-9277-be69cb243f60"
      },
      "execution_count": null,
      "outputs": [
        {
          "output_type": "execute_result",
          "data": {
            "text/plain": [
              "array([[[10, 11],\n",
              "        [12, 13]],\n",
              "\n",
              "       [[14, 15],\n",
              "        [16, 17]],\n",
              "\n",
              "       [[18, 19],\n",
              "        [20, 21]]])"
            ]
          },
          "metadata": {},
          "execution_count": 61
        }
      ]
    },
    {
      "cell_type": "code",
      "source": [
        "arr.size"
      ],
      "metadata": {
        "colab": {
          "base_uri": "https://localhost:8080/"
        },
        "id": "BHhPY2uWYhPe",
        "outputId": "4186d1e4-ed9c-4e13-e47f-f919763b6ad5"
      },
      "execution_count": null,
      "outputs": [
        {
          "output_type": "execute_result",
          "data": {
            "text/plain": [
              "12"
            ]
          },
          "metadata": {},
          "execution_count": 60
        }
      ]
    },
    {
      "cell_type": "code",
      "source": [
        "# generate 3d array of any order for given data 1,2,3,4,5,6,7,8,9,10,11,12,13,14,15\n",
        "# elements = 15\n",
        "# 15 = 1 * 3*5\n",
        "arr = np.arange(1,16).reshape(1,3,5)\n",
        "arr"
      ],
      "metadata": {
        "colab": {
          "base_uri": "https://localhost:8080/"
        },
        "id": "7sOBcfALYlGw",
        "outputId": "dce03b8e-1c19-47c9-bf65-b2dedcf3c476"
      },
      "execution_count": null,
      "outputs": [
        {
          "output_type": "execute_result",
          "data": {
            "text/plain": [
              "array([[[ 1,  2,  3,  4,  5],\n",
              "        [ 6,  7,  8,  9, 10],\n",
              "        [11, 12, 13, 14, 15]]])"
            ]
          },
          "metadata": {},
          "execution_count": 62
        }
      ]
    },
    {
      "cell_type": "code",
      "source": [
        "# generate 3d array using 18 elements\n",
        "arr = np.arange(1,19).reshape(2,3,3)\n",
        "print(arr)\n",
        "print(arr.ndim)\n",
        "print(arr.shape)"
      ],
      "metadata": {
        "colab": {
          "base_uri": "https://localhost:8080/"
        },
        "id": "G1kT95oRaEm0",
        "outputId": "199716aa-68cd-489a-a7f6-f0776ffb6959"
      },
      "execution_count": null,
      "outputs": [
        {
          "output_type": "stream",
          "name": "stdout",
          "text": [
            "[[[ 1  2  3]\n",
            "  [ 4  5  6]\n",
            "  [ 7  8  9]]\n",
            "\n",
            " [[10 11 12]\n",
            "  [13 14 15]\n",
            "  [16 17 18]]]\n",
            "3\n",
            "(2, 3, 3)\n"
          ]
        }
      ]
    },
    {
      "cell_type": "code",
      "source": [
        "np.array(1)\n"
      ],
      "metadata": {
        "colab": {
          "base_uri": "https://localhost:8080/"
        },
        "id": "pJnSc6VPbTDX",
        "outputId": "6a3725f0-4e45-46d1-daca-fad96fece93a"
      },
      "execution_count": null,
      "outputs": [
        {
          "output_type": "execute_result",
          "data": {
            "text/plain": [
              "array(1)"
            ]
          },
          "metadata": {},
          "execution_count": 65
        }
      ]
    },
    {
      "cell_type": "code",
      "source": [
        "np.array([1,2,3,4])"
      ],
      "metadata": {
        "colab": {
          "base_uri": "https://localhost:8080/"
        },
        "id": "NoRArgNnbpbE",
        "outputId": "d5b35a8b-3a1f-45d3-9b18-520503c81450"
      },
      "execution_count": null,
      "outputs": [
        {
          "output_type": "execute_result",
          "data": {
            "text/plain": [
              "array([1, 2, 3, 4])"
            ]
          },
          "metadata": {},
          "execution_count": 67
        }
      ]
    },
    {
      "cell_type": "code",
      "source": [
        "np.array([[1,2],[3,4]])"
      ],
      "metadata": {
        "colab": {
          "base_uri": "https://localhost:8080/"
        },
        "id": "9Pmko_-VbspU",
        "outputId": "b14e5fca-9f7a-4f56-81c4-4c43bc3c410c"
      },
      "execution_count": null,
      "outputs": [
        {
          "output_type": "execute_result",
          "data": {
            "text/plain": [
              "array([[1, 2],\n",
              "       [3, 4]])"
            ]
          },
          "metadata": {},
          "execution_count": 68
        }
      ]
    },
    {
      "cell_type": "code",
      "source": [
        "np.array([[[1,2],[3,4]]])"
      ],
      "metadata": {
        "colab": {
          "base_uri": "https://localhost:8080/"
        },
        "id": "Dwiz4fXHb0xk",
        "outputId": "1abe49f8-3ab7-40ec-bbd4-1833030dc28e"
      },
      "execution_count": null,
      "outputs": [
        {
          "output_type": "execute_result",
          "data": {
            "text/plain": [
              "array([[[1, 2],\n",
              "        [3, 4]]])"
            ]
          },
          "metadata": {},
          "execution_count": 69
        }
      ]
    },
    {
      "cell_type": "markdown",
      "source": [
        "# linspace\n",
        "It is used to generate equal spaced values between given range/interval."
      ],
      "metadata": {
        "id": "B5N0vvXxPc9C"
      }
    },
    {
      "cell_type": "code",
      "source": [
        "# generate equal spaced values between 1 and 10\n",
        "arr = np.linspace(1,1000) #by default it gives 50 equal space\n",
        "arr"
      ],
      "metadata": {
        "id": "1QrlfI5fb3o-",
        "colab": {
          "base_uri": "https://localhost:8080/"
        },
        "outputId": "2a20c7ad-17ea-40b3-c2a6-af6739c9d7ec"
      },
      "execution_count": null,
      "outputs": [
        {
          "output_type": "execute_result",
          "data": {
            "text/plain": [
              "array([   1.        ,   21.3877551 ,   41.7755102 ,   62.16326531,\n",
              "         82.55102041,  102.93877551,  123.32653061,  143.71428571,\n",
              "        164.10204082,  184.48979592,  204.87755102,  225.26530612,\n",
              "        245.65306122,  266.04081633,  286.42857143,  306.81632653,\n",
              "        327.20408163,  347.59183673,  367.97959184,  388.36734694,\n",
              "        408.75510204,  429.14285714,  449.53061224,  469.91836735,\n",
              "        490.30612245,  510.69387755,  531.08163265,  551.46938776,\n",
              "        571.85714286,  592.24489796,  612.63265306,  633.02040816,\n",
              "        653.40816327,  673.79591837,  694.18367347,  714.57142857,\n",
              "        734.95918367,  755.34693878,  775.73469388,  796.12244898,\n",
              "        816.51020408,  836.89795918,  857.28571429,  877.67346939,\n",
              "        898.06122449,  918.44897959,  938.83673469,  959.2244898 ,\n",
              "        979.6122449 , 1000.        ])"
            ]
          },
          "metadata": {},
          "execution_count": 11
        }
      ]
    },
    {
      "cell_type": "code",
      "source": [
        "# generate an array which includes 20 equal spacing values between 1 to 100\n",
        "arr = np.linspace(1,100,20,retstep=True)\n",
        "arr\n",
        "# retstep: It gives common difference"
      ],
      "metadata": {
        "colab": {
          "base_uri": "https://localhost:8080/"
        },
        "id": "jmEZRlnhQiXu",
        "outputId": "c827c63a-d08c-4580-b3a4-d08bc2c8f8cd"
      },
      "execution_count": null,
      "outputs": [
        {
          "output_type": "execute_result",
          "data": {
            "text/plain": [
              "(array([  1.        ,   6.21052632,  11.42105263,  16.63157895,\n",
              "         21.84210526,  27.05263158,  32.26315789,  37.47368421,\n",
              "         42.68421053,  47.89473684,  53.10526316,  58.31578947,\n",
              "         63.52631579,  68.73684211,  73.94736842,  79.15789474,\n",
              "         84.36842105,  89.57894737,  94.78947368, 100.        ]),\n",
              " 5.2105263157894735)"
            ]
          },
          "metadata": {},
          "execution_count": 14
        }
      ]
    },
    {
      "cell_type": "code",
      "source": [
        "# generate 5 equal spacing values between o to 100\n",
        "arr = np.linspace(0,100,5,retstep=True)\n",
        "arr"
      ],
      "metadata": {
        "colab": {
          "base_uri": "https://localhost:8080/"
        },
        "id": "xJuVlaRySdTa",
        "outputId": "1ebe44c2-5605-48d7-c466-bb7423fe45bd"
      },
      "execution_count": null,
      "outputs": [
        {
          "output_type": "execute_result",
          "data": {
            "text/plain": [
              "(array([  0.,  25.,  50.,  75., 100.]), 25.0)"
            ]
          },
          "metadata": {},
          "execution_count": 19
        }
      ]
    },
    {
      "cell_type": "markdown",
      "source": [
        "# Random functions\n",
        "* randint\n",
        "* randn\n",
        "* rand"
      ],
      "metadata": {
        "id": "AQoimViwUX9r"
      }
    },
    {
      "cell_type": "markdown",
      "source": [
        "#randint :\n",
        " It is used to generate an array with random integers between given range"
      ],
      "metadata": {
        "id": "5EXzebX1UqIP"
      }
    },
    {
      "cell_type": "code",
      "source": [
        "# generate random integer between 1 to 100\n",
        "arr = np.random.randint(1,100)\n",
        "arr"
      ],
      "metadata": {
        "colab": {
          "base_uri": "https://localhost:8080/"
        },
        "id": "bqsMPtHgTqqU",
        "outputId": "69525133-efb2-4717-d170-6c22b217d021"
      },
      "execution_count": null,
      "outputs": [
        {
          "output_type": "execute_result",
          "data": {
            "text/plain": [
              "37"
            ]
          },
          "metadata": {},
          "execution_count": 24
        }
      ]
    },
    {
      "cell_type": "code",
      "source": [
        "# generate 10 random integers between 1 to 1000\n",
        "arr=np.random.randint(1,1000,10)\n",
        "arr"
      ],
      "metadata": {
        "colab": {
          "base_uri": "https://localhost:8080/"
        },
        "id": "lBjv6-DvU4ni",
        "outputId": "01454537-86ea-40e5-d055-dc4615cd6041"
      },
      "execution_count": null,
      "outputs": [
        {
          "output_type": "execute_result",
          "data": {
            "text/plain": [
              "array([166, 488, 461,  18, 645, 183, 957, 944, 927,  25])"
            ]
          },
          "metadata": {},
          "execution_count": 28
        }
      ]
    },
    {
      "cell_type": "markdown",
      "source": [
        "# randn :\n",
        "It is used to generate normal distribution values between -3 to 3"
      ],
      "metadata": {
        "id": "Q2-RLgb_Va0n"
      }
    },
    {
      "cell_type": "code",
      "source": [
        "arr = np.random.randn(100)\n",
        "arr"
      ],
      "metadata": {
        "colab": {
          "base_uri": "https://localhost:8080/"
        },
        "id": "LKoV1bhxVMQk",
        "outputId": "606db28c-f191-49d2-a63c-0392bc5b8185"
      },
      "execution_count": null,
      "outputs": [
        {
          "output_type": "execute_result",
          "data": {
            "text/plain": [
              "array([-2.71270415,  0.54249146,  0.76306611, -0.57946513, -1.25213671,\n",
              "       -0.82314148,  0.86227034,  1.42107018,  1.10113222,  1.46158977,\n",
              "       -1.02387136, -0.40288743, -0.6168541 ,  1.45192093, -0.71673696,\n",
              "       -2.38777997,  0.75142014, -0.08461865, -0.32846874,  0.34981913,\n",
              "        1.09704448, -0.25859346, -0.2960993 ,  1.19895118,  0.10600659,\n",
              "       -1.53005954,  0.49136133, -0.69902158,  0.98797898,  0.39918483,\n",
              "        0.52607778,  0.18330136, -0.63473503,  0.94546671, -0.93560866,\n",
              "       -0.08249049, -0.74238554,  0.34879803,  0.24025111,  0.72038204,\n",
              "        0.18785362, -0.69405777,  0.6049057 , -0.36262811,  0.06297257,\n",
              "       -0.9998177 , -0.4694622 , -1.44652878,  1.1981236 ,  0.73959953,\n",
              "        1.31073919,  0.60242438,  0.62502266, -1.66605097, -0.61638568,\n",
              "        1.45978095, -0.95703664,  1.51878762,  1.39222477,  2.35216937,\n",
              "       -0.06369166, -0.05387829, -0.72862132, -0.77116155,  0.4112432 ,\n",
              "        0.99288437,  0.83467271, -0.78754562, -0.94333806,  0.68654241,\n",
              "        0.25402804,  0.06956245,  0.01109183, -0.89216188,  0.8237299 ,\n",
              "       -0.6479357 , -0.19909361,  0.376542  , -0.06282023, -0.23936991,\n",
              "       -1.70641233,  0.12670195, -0.16634424,  1.37844701, -0.20538008,\n",
              "        0.71488507,  1.2274664 , -1.80378638,  1.59180072, -2.01983255,\n",
              "        0.13819607, -0.14344554, -0.81713746,  0.63650523, -0.20807558,\n",
              "        1.15647542, -0.36396349, -0.4953876 ,  0.46841181,  0.64243112])"
            ]
          },
          "metadata": {},
          "execution_count": 31
        }
      ]
    },
    {
      "cell_type": "markdown",
      "source": [
        "# rand\n",
        "It is used to generate values between 0 and 1"
      ],
      "metadata": {
        "id": "Yecr_N4eWgrV"
      }
    },
    {
      "cell_type": "code",
      "source": [
        "arr = np.random.rand(5)\n",
        "arr"
      ],
      "metadata": {
        "colab": {
          "base_uri": "https://localhost:8080/"
        },
        "id": "fS8EG3h5Vt-2",
        "outputId": "dd7cc1f9-f64a-4b0f-8834-bc3c4c36a134"
      },
      "execution_count": null,
      "outputs": [
        {
          "output_type": "execute_result",
          "data": {
            "text/plain": [
              "array([0.84084658, 0.3643287 , 0.83664772, 0.58399091, 0.84675638])"
            ]
          },
          "metadata": {},
          "execution_count": 34
        }
      ]
    },
    {
      "cell_type": "markdown",
      "source": [
        "# transpose\n",
        "It is used to convert rows and columns and vice versa."
      ],
      "metadata": {
        "id": "nztwavCLXFRC"
      }
    },
    {
      "cell_type": "code",
      "source": [
        "'''\n",
        "[1,2]\n",
        "[3,4]'''\n",
        "arr=np.array([[1,2],[3,4]])\n",
        "arr"
      ],
      "metadata": {
        "colab": {
          "base_uri": "https://localhost:8080/"
        },
        "id": "UaDS8e0uWqFl",
        "outputId": "1871ed08-d291-4218-840b-5b5bdf2c3729"
      },
      "execution_count": null,
      "outputs": [
        {
          "output_type": "execute_result",
          "data": {
            "text/plain": [
              "array([[1, 2],\n",
              "       [3, 4]])"
            ]
          },
          "metadata": {},
          "execution_count": 35
        }
      ]
    },
    {
      "cell_type": "code",
      "source": [
        "np.transpose(arr)"
      ],
      "metadata": {
        "colab": {
          "base_uri": "https://localhost:8080/"
        },
        "id": "N5O_Y9LYXZDX",
        "outputId": "1d818e8d-61ff-40fd-d382-670e2bc8d894"
      },
      "execution_count": null,
      "outputs": [
        {
          "output_type": "execute_result",
          "data": {
            "text/plain": [
              "array([[1, 3],\n",
              "       [2, 4]])"
            ]
          },
          "metadata": {},
          "execution_count": 36
        }
      ]
    },
    {
      "cell_type": "markdown",
      "source": [
        "# flatten\n",
        "It is used to convert higher dimensional array into lower dimesional"
      ],
      "metadata": {
        "id": "lWoVqiZXXnHa"
      }
    },
    {
      "cell_type": "code",
      "source": [
        "arr=np.array([[1,2],[3,4]])\n",
        "arr"
      ],
      "metadata": {
        "colab": {
          "base_uri": "https://localhost:8080/"
        },
        "id": "u3uoPCFOXbwR",
        "outputId": "c835fa3f-8fb9-46d1-81a5-ec2471ad9a4a"
      },
      "execution_count": null,
      "outputs": [
        {
          "output_type": "execute_result",
          "data": {
            "text/plain": [
              "array([[1, 2],\n",
              "       [3, 4]])"
            ]
          },
          "metadata": {},
          "execution_count": 37
        }
      ]
    },
    {
      "cell_type": "code",
      "source": [
        "# convert 2d array to 1d array\n",
        "arr.flatten()"
      ],
      "metadata": {
        "colab": {
          "base_uri": "https://localhost:8080/"
        },
        "id": "zE3c0USXXyNe",
        "outputId": "f360517e-74b2-4801-a4b6-a54a08540436"
      },
      "execution_count": null,
      "outputs": [
        {
          "output_type": "execute_result",
          "data": {
            "text/plain": [
              "array([1, 2, 3, 4])"
            ]
          },
          "metadata": {},
          "execution_count": 40
        }
      ]
    },
    {
      "cell_type": "markdown",
      "source": [
        "# sort\n",
        "It is used to sort in either increasing or decreasing order"
      ],
      "metadata": {
        "id": "BIs0MHZoYPPB"
      }
    },
    {
      "cell_type": "code",
      "source": [
        "arr =np.array([1000,2,3000,45,67,890,3,25])\n",
        "np.sort(arr) #increasing order"
      ],
      "metadata": {
        "colab": {
          "base_uri": "https://localhost:8080/"
        },
        "id": "-7uBe0acX3OH",
        "outputId": "2c4e1244-e629-4da7-b495-878a9eae6a8d"
      },
      "execution_count": null,
      "outputs": [
        {
          "output_type": "execute_result",
          "data": {
            "text/plain": [
              "array([   2,    3,   25,   45,   67,  890, 1000, 3000])"
            ]
          },
          "metadata": {},
          "execution_count": 41
        }
      ]
    },
    {
      "cell_type": "code",
      "source": [
        "np.sort(arr)[::-1]#decreasing order"
      ],
      "metadata": {
        "colab": {
          "base_uri": "https://localhost:8080/"
        },
        "id": "54WffQjcYllx",
        "outputId": "ebff2f47-d569-4943-96f4-af8717fa6e33"
      },
      "execution_count": null,
      "outputs": [
        {
          "output_type": "execute_result",
          "data": {
            "text/plain": [
              "array([3000, 1000,  890,   67,   45,   25,    3,    2])"
            ]
          },
          "metadata": {},
          "execution_count": 43
        }
      ]
    },
    {
      "cell_type": "markdown",
      "source": [
        "# concatenate array\n"
      ],
      "metadata": {
        "id": "nZXsSk1wY82v"
      }
    },
    {
      "cell_type": "code",
      "source": [
        "A=np.arange(1,5)\n",
        "B=np.arange(10,15)"
      ],
      "metadata": {
        "id": "KGTlZNX4YvsY"
      },
      "execution_count": null,
      "outputs": []
    },
    {
      "cell_type": "code",
      "source": [
        "# combine 2 arrays\n",
        "np.concatenate((A,B))"
      ],
      "metadata": {
        "colab": {
          "base_uri": "https://localhost:8080/"
        },
        "id": "r283foVvZFRL",
        "outputId": "f74191a5-27c5-43e5-e438-554459d9f9b7"
      },
      "execution_count": null,
      "outputs": [
        {
          "output_type": "execute_result",
          "data": {
            "text/plain": [
              "array([ 1,  2,  3,  4, 10, 11, 12, 13, 14])"
            ]
          },
          "metadata": {},
          "execution_count": 47
        }
      ]
    },
    {
      "cell_type": "markdown",
      "source": [
        "# Indexing and slicing"
      ],
      "metadata": {
        "id": "Qvqw5FtHZi1_"
      }
    },
    {
      "cell_type": "code",
      "source": [
        "arr = np.array([10,20,30,40,50,60,70])\n"
      ],
      "metadata": {
        "id": "Gdxo0t3MZI0f"
      },
      "execution_count": null,
      "outputs": []
    },
    {
      "cell_type": "code",
      "source": [
        "# fetch 20\n",
        "arr[1]"
      ],
      "metadata": {
        "colab": {
          "base_uri": "https://localhost:8080/"
        },
        "id": "gpr_h-LnZoIH",
        "outputId": "3b374d00-da23-4df6-b2b3-5979ed672500"
      },
      "execution_count": null,
      "outputs": [
        {
          "output_type": "execute_result",
          "data": {
            "text/plain": [
              "20"
            ]
          },
          "metadata": {},
          "execution_count": 49
        }
      ]
    },
    {
      "cell_type": "code",
      "source": [
        "# fetch 70\n",
        "arr[-1]"
      ],
      "metadata": {
        "colab": {
          "base_uri": "https://localhost:8080/"
        },
        "id": "EEliwpRfZyIV",
        "outputId": "4af9442f-a047-485f-80f0-2fd1dbad750b"
      },
      "execution_count": null,
      "outputs": [
        {
          "output_type": "execute_result",
          "data": {
            "text/plain": [
              "70"
            ]
          },
          "metadata": {},
          "execution_count": 50
        }
      ]
    },
    {
      "cell_type": "code",
      "source": [
        "# fetch 20,30,40\n",
        "arr[1:4]"
      ],
      "metadata": {
        "colab": {
          "base_uri": "https://localhost:8080/"
        },
        "id": "b7dpYI-eZ2rN",
        "outputId": "5ddf31b2-089a-4c27-cba3-b71ab7a5d98b"
      },
      "execution_count": null,
      "outputs": [
        {
          "output_type": "execute_result",
          "data": {
            "text/plain": [
              "array([20, 30, 40])"
            ]
          },
          "metadata": {},
          "execution_count": 51
        }
      ]
    },
    {
      "cell_type": "markdown",
      "source": [
        "# 2d arrays"
      ],
      "metadata": {
        "id": "y3sreJ0maEwg"
      }
    },
    {
      "cell_type": "code",
      "source": [
        "'''\n",
        "[1,2,3]\n",
        "[4,5,6]\n",
        "[7,8,9]'''\n",
        "arr = np.array([[1,2,3],[4,5,6],[7,8,9]])"
      ],
      "metadata": {
        "id": "rdNMSiEtaA37"
      },
      "execution_count": null,
      "outputs": []
    },
    {
      "cell_type": "code",
      "source": [
        "# fetch first row\n",
        "arr[0]"
      ],
      "metadata": {
        "colab": {
          "base_uri": "https://localhost:8080/"
        },
        "id": "hvwuXukCaPLb",
        "outputId": "786b7958-01f6-47b7-d8ec-62520640e52c"
      },
      "execution_count": null,
      "outputs": [
        {
          "output_type": "execute_result",
          "data": {
            "text/plain": [
              "array([1, 2, 3])"
            ]
          },
          "metadata": {},
          "execution_count": 53
        }
      ]
    },
    {
      "cell_type": "code",
      "source": [
        "# fetch last row\n",
        "arr[2]"
      ],
      "metadata": {
        "colab": {
          "base_uri": "https://localhost:8080/"
        },
        "id": "gWWbZe64a886",
        "outputId": "b8e252a1-96d1-44e7-e901-c19a543a14f0"
      },
      "execution_count": null,
      "outputs": [
        {
          "output_type": "execute_result",
          "data": {
            "text/plain": [
              "array([7, 8, 9])"
            ]
          },
          "metadata": {},
          "execution_count": 55
        }
      ]
    },
    {
      "cell_type": "code",
      "source": [
        "# fetch 1st and 2nd row\n",
        "arr[0:2]"
      ],
      "metadata": {
        "colab": {
          "base_uri": "https://localhost:8080/"
        },
        "id": "72GM3pexbDD7",
        "outputId": "025105ad-765c-4c30-df41-600aee59142b"
      },
      "execution_count": null,
      "outputs": [
        {
          "output_type": "execute_result",
          "data": {
            "text/plain": [
              "array([[1, 2, 3],\n",
              "       [4, 5, 6]])"
            ]
          },
          "metadata": {},
          "execution_count": 56
        }
      ]
    },
    {
      "cell_type": "code",
      "source": [
        "# fetch 1st and 3rd row\n",
        "arr[0::2]"
      ],
      "metadata": {
        "colab": {
          "base_uri": "https://localhost:8080/"
        },
        "id": "DDkI_olrbdES",
        "outputId": "c9baf3b2-381e-4085-9f57-3ef1891d0c47"
      },
      "execution_count": null,
      "outputs": [
        {
          "output_type": "execute_result",
          "data": {
            "text/plain": [
              "array([[1, 2, 3],\n",
              "       [7, 8, 9]])"
            ]
          },
          "metadata": {},
          "execution_count": 58
        }
      ]
    },
    {
      "cell_type": "code",
      "source": [
        "arr[[0,2]]"
      ],
      "metadata": {
        "colab": {
          "base_uri": "https://localhost:8080/"
        },
        "id": "AlDWBgLubvUF",
        "outputId": "acf9d9c5-121f-401c-8484-38dc0f4e4e1e"
      },
      "execution_count": null,
      "outputs": [
        {
          "output_type": "execute_result",
          "data": {
            "text/plain": [
              "array([[1, 2, 3],\n",
              "       [7, 8, 9]])"
            ]
          },
          "metadata": {},
          "execution_count": 59
        }
      ]
    },
    {
      "cell_type": "code",
      "source": [
        "arr"
      ],
      "metadata": {
        "colab": {
          "base_uri": "https://localhost:8080/"
        },
        "id": "MNihpYb8b1d2",
        "outputId": "d83e202c-aa35-48ee-9139-416e2e80ac71"
      },
      "execution_count": null,
      "outputs": [
        {
          "output_type": "execute_result",
          "data": {
            "text/plain": [
              "array([[1, 2, 3],\n",
              "       [4, 5, 6],\n",
              "       [7, 8, 9]])"
            ]
          },
          "metadata": {},
          "execution_count": 60
        }
      ]
    },
    {
      "cell_type": "code",
      "source": [
        "# fetch 1st column\n",
        "arr[:,[0]]"
      ],
      "metadata": {
        "colab": {
          "base_uri": "https://localhost:8080/"
        },
        "id": "0Nq6ehgbdYJF",
        "outputId": "3dc32bd9-6fa5-4bf3-f316-e5ef1527c1f9"
      },
      "execution_count": null,
      "outputs": [
        {
          "output_type": "execute_result",
          "data": {
            "text/plain": [
              "array([[1],\n",
              "       [4],\n",
              "       [7]])"
            ]
          },
          "metadata": {},
          "execution_count": 63
        }
      ]
    },
    {
      "cell_type": "code",
      "source": [
        "# fetch 3rd column\n",
        "arr[:,[2]]"
      ],
      "metadata": {
        "colab": {
          "base_uri": "https://localhost:8080/"
        },
        "id": "ljalwzZUdbPI",
        "outputId": "77d1ab60-7aeb-46cb-9e40-a47bb2bef009"
      },
      "execution_count": null,
      "outputs": [
        {
          "output_type": "execute_result",
          "data": {
            "text/plain": [
              "array([[3],\n",
              "       [6],\n",
              "       [9]])"
            ]
          },
          "metadata": {},
          "execution_count": 65
        }
      ]
    },
    {
      "cell_type": "code",
      "source": [
        "# fetch 1st and 2nd column\n",
        "arr[: , 0:2] #arr[:,[0,1]]"
      ],
      "metadata": {
        "colab": {
          "base_uri": "https://localhost:8080/"
        },
        "id": "PwQTIImbdw0o",
        "outputId": "18b5e628-003a-4b4b-8b5a-618df17968f5"
      },
      "execution_count": null,
      "outputs": [
        {
          "output_type": "execute_result",
          "data": {
            "text/plain": [
              "array([[1, 2],\n",
              "       [4, 5],\n",
              "       [7, 8]])"
            ]
          },
          "metadata": {},
          "execution_count": 66
        }
      ]
    },
    {
      "cell_type": "code",
      "source": [
        "arr[:,[0,1]]"
      ],
      "metadata": {
        "colab": {
          "base_uri": "https://localhost:8080/"
        },
        "id": "5cUSOlb5eDen",
        "outputId": "cb499b51-9c45-4567-8729-91783aa46954"
      },
      "execution_count": null,
      "outputs": [
        {
          "output_type": "execute_result",
          "data": {
            "text/plain": [
              "array([[1, 2],\n",
              "       [4, 5],\n",
              "       [7, 8]])"
            ]
          },
          "metadata": {},
          "execution_count": 67
        }
      ]
    },
    {
      "cell_type": "code",
      "source": [
        "#fetch 2nd and 3rd column\n",
        "arr[:,1:3]"
      ],
      "metadata": {
        "colab": {
          "base_uri": "https://localhost:8080/"
        },
        "id": "NzTf23EJehMD",
        "outputId": "8727b49e-16e3-4b6a-90ce-3f8b29cf7608"
      },
      "execution_count": null,
      "outputs": [
        {
          "output_type": "execute_result",
          "data": {
            "text/plain": [
              "array([[2, 3],\n",
              "       [5, 6],\n",
              "       [8, 9]])"
            ]
          },
          "metadata": {},
          "execution_count": 69
        }
      ]
    },
    {
      "cell_type": "code",
      "source": [
        "arr[:,[1,2]]"
      ],
      "metadata": {
        "colab": {
          "base_uri": "https://localhost:8080/"
        },
        "id": "5s6a5VAYe9nD",
        "outputId": "ee43d238-e8c9-41ed-ba8d-db3df580c47f"
      },
      "execution_count": null,
      "outputs": [
        {
          "output_type": "execute_result",
          "data": {
            "text/plain": [
              "array([[2, 3],\n",
              "       [5, 6],\n",
              "       [8, 9]])"
            ]
          },
          "metadata": {},
          "execution_count": 70
        }
      ]
    },
    {
      "cell_type": "code",
      "source": [
        "arr"
      ],
      "metadata": {
        "colab": {
          "base_uri": "https://localhost:8080/"
        },
        "id": "StbU1aOEeUSQ",
        "outputId": "ccd688db-5bdb-4462-f878-9f66d932fae3"
      },
      "execution_count": null,
      "outputs": [
        {
          "output_type": "execute_result",
          "data": {
            "text/plain": [
              "array([[1, 2, 3],\n",
              "       [4, 5, 6],\n",
              "       [7, 8, 9]])"
            ]
          },
          "metadata": {},
          "execution_count": 68
        }
      ]
    },
    {
      "cell_type": "code",
      "source": [
        "# fetch\n",
        "'''\n",
        "[1 2]\n",
        "[3 4]'''\n",
        "arr[0:2,0:2]"
      ],
      "metadata": {
        "colab": {
          "base_uri": "https://localhost:8080/"
        },
        "id": "G_CUQ2I6ed0x",
        "outputId": "8330ec88-b2e5-4c5d-9268-edd5df02514c"
      },
      "execution_count": null,
      "outputs": [
        {
          "output_type": "execute_result",
          "data": {
            "text/plain": [
              "array([[1, 2],\n",
              "       [4, 5]])"
            ]
          },
          "metadata": {},
          "execution_count": 71
        }
      ]
    },
    {
      "cell_type": "code",
      "source": [
        "'''\n",
        "[2 3]\n",
        "[5 6]'''\n",
        "arr[0:2,1:3]"
      ],
      "metadata": {
        "colab": {
          "base_uri": "https://localhost:8080/"
        },
        "id": "aZPoE4DwflmS",
        "outputId": "ee13c698-667d-41a5-83e6-c8e746b8fc2a"
      },
      "execution_count": null,
      "outputs": [
        {
          "output_type": "execute_result",
          "data": {
            "text/plain": [
              "array([[2, 3],\n",
              "       [5, 6]])"
            ]
          },
          "metadata": {},
          "execution_count": 72
        }
      ]
    },
    {
      "cell_type": "code",
      "source": [
        "arr"
      ],
      "metadata": {
        "colab": {
          "base_uri": "https://localhost:8080/"
        },
        "id": "0vuC3FZXgf3u",
        "outputId": "2f28bfe7-ef43-4159-c5c5-737ccf1a5acb"
      },
      "execution_count": null,
      "outputs": [
        {
          "output_type": "execute_result",
          "data": {
            "text/plain": [
              "array([[1, 2, 3],\n",
              "       [4, 5, 6],\n",
              "       [7, 8, 9]])"
            ]
          },
          "metadata": {},
          "execution_count": 73
        }
      ]
    },
    {
      "cell_type": "code",
      "source": [
        "# fetch 5\n",
        "arr[1,1]"
      ],
      "metadata": {
        "colab": {
          "base_uri": "https://localhost:8080/"
        },
        "id": "8xRqA0GkghUZ",
        "outputId": "62d83b37-a7df-4988-8504-8a19a2369a16"
      },
      "execution_count": null,
      "outputs": [
        {
          "output_type": "execute_result",
          "data": {
            "text/plain": [
              "5"
            ]
          },
          "metadata": {},
          "execution_count": 74
        }
      ]
    },
    {
      "cell_type": "code",
      "source": [
        "# fetch 3\n",
        "arr[0,2]"
      ],
      "metadata": {
        "colab": {
          "base_uri": "https://localhost:8080/"
        },
        "id": "O8rxym6agw35",
        "outputId": "80aa3ad8-0079-4c4e-eb5a-73347b7e14da"
      },
      "execution_count": null,
      "outputs": [
        {
          "output_type": "execute_result",
          "data": {
            "text/plain": [
              "3"
            ]
          },
          "metadata": {},
          "execution_count": 75
        }
      ]
    },
    {
      "cell_type": "markdown",
      "source": [
        "\n",
        "\n",
        "---\n",
        "\n",
        "\n",
        "\n",
        "---\n",
        "\n",
        "\n",
        "\n",
        "---\n",
        "\n",
        "\n",
        "\n",
        "---\n",
        "\n",
        "\n",
        "\n",
        "---\n",
        "\n"
      ],
      "metadata": {
        "id": "e6uewUHoYfml"
      }
    },
    {
      "cell_type": "code",
      "source": [
        "#numpy data types:\n",
        "import numpy as np"
      ],
      "metadata": {
        "id": "bFFK92YQhC9p"
      },
      "execution_count": null,
      "outputs": []
    },
    {
      "cell_type": "markdown",
      "source": [
        "  * i for integer\n",
        "  * u for unsigned integer\n",
        "  * b for bollean\n",
        "  * f for float\n",
        "  * for complex fload\n",
        "  * m for timedelta\n",
        "  * M for timedate\n",
        "  *O for object\n",
        "  * S for string\n",
        "  *U for unicode strings\n",
        "  *V for memo\n",
        "\n"
      ],
      "metadata": {
        "id": "ex2jE5W2ZxZI"
      }
    },
    {
      "cell_type": "code",
      "source": [
        "# creating data types of numoy array\n",
        "s=np.array([1,2,3,4])\n",
        "print(s)\n",
        "print(s.dtype)"
      ],
      "metadata": {
        "id": "7nW7VerDYqev",
        "outputId": "2edaaa60-49df-4236-8ce6-24de1c26b053",
        "colab": {
          "base_uri": "https://localhost:8080/"
        }
      },
      "execution_count": null,
      "outputs": [
        {
          "output_type": "stream",
          "name": "stdout",
          "text": [
            "[1 2 3 4]\n",
            "int64\n"
          ]
        }
      ]
    },
    {
      "cell_type": "code",
      "source": [
        "s=np.array([1,2,3,4], dtype='S')\n",
        "print(s)\n",
        "print(s.dtype)\n"
      ],
      "metadata": {
        "id": "KJCd3MngawMU",
        "outputId": "d66a312d-7c5f-4e7e-d103-a1eed5b16ee1",
        "colab": {
          "base_uri": "https://localhost:8080/"
        }
      },
      "execution_count": null,
      "outputs": [
        {
          "output_type": "stream",
          "name": "stdout",
          "text": [
            "[b'1' b'2' b'3' b'4']\n",
            "|S1\n"
          ]
        }
      ]
    },
    {
      "cell_type": "code",
      "source": [
        "#now will create an array with datatype of 4byte int\n",
        "a=np.array([1,2,3,4],dtype='i4')\n",
        "print(a)\n",
        "print(a.dtype)"
      ],
      "metadata": {
        "id": "mgthAuKMa1ns",
        "outputId": "41f4674e-d929-4117-c4bb-3ff28fcac9ac",
        "colab": {
          "base_uri": "https://localhost:8080/"
        }
      },
      "execution_count": null,
      "outputs": [
        {
          "output_type": "stream",
          "name": "stdout",
          "text": [
            "[1 2 3 4]\n",
            "int32\n"
          ]
        }
      ]
    },
    {
      "cell_type": "code",
      "source": [
        "# can not be converted then it will give value error\n",
        "b=np.array(['apple','banna'],dtype='i')\n",
        "print(b)\n",
        "print(b.dtype)"
      ],
      "metadata": {
        "id": "Z5rXKiUjbT9N",
        "outputId": "cafe83f2-fc62-4adf-cb10-072ebd79406a",
        "colab": {
          "base_uri": "https://localhost:8080/",
          "height": 199
        }
      },
      "execution_count": null,
      "outputs": [
        {
          "output_type": "error",
          "ename": "ValueError",
          "evalue": "invalid literal for int() with base 10: 'apple'",
          "traceback": [
            "\u001b[0;31m---------------------------------------------------------------------------\u001b[0m",
            "\u001b[0;31mValueError\u001b[0m                                Traceback (most recent call last)",
            "\u001b[0;32m<ipython-input-7-9f169a2b06da>\u001b[0m in \u001b[0;36m<cell line: 2>\u001b[0;34m()\u001b[0m\n\u001b[1;32m      1\u001b[0m \u001b[0;31m# can not be converted then it will give value error\u001b[0m\u001b[0;34m\u001b[0m\u001b[0;34m\u001b[0m\u001b[0m\n\u001b[0;32m----> 2\u001b[0;31m \u001b[0mb\u001b[0m\u001b[0;34m=\u001b[0m\u001b[0mnp\u001b[0m\u001b[0;34m.\u001b[0m\u001b[0marray\u001b[0m\u001b[0;34m(\u001b[0m\u001b[0;34m[\u001b[0m\u001b[0;34m'apple'\u001b[0m\u001b[0;34m,\u001b[0m\u001b[0;34m'banna'\u001b[0m\u001b[0;34m]\u001b[0m\u001b[0;34m,\u001b[0m\u001b[0mdtype\u001b[0m\u001b[0;34m=\u001b[0m\u001b[0;34m'i'\u001b[0m\u001b[0;34m)\u001b[0m\u001b[0;34m\u001b[0m\u001b[0;34m\u001b[0m\u001b[0m\n\u001b[0m\u001b[1;32m      3\u001b[0m \u001b[0mprint\u001b[0m\u001b[0;34m(\u001b[0m\u001b[0mb\u001b[0m\u001b[0;34m)\u001b[0m\u001b[0;34m\u001b[0m\u001b[0;34m\u001b[0m\u001b[0m\n\u001b[1;32m      4\u001b[0m \u001b[0mprint\u001b[0m\u001b[0;34m(\u001b[0m\u001b[0mb\u001b[0m\u001b[0;34m.\u001b[0m\u001b[0mdtype\u001b[0m\u001b[0;34m)\u001b[0m\u001b[0;34m\u001b[0m\u001b[0;34m\u001b[0m\u001b[0m\n",
            "\u001b[0;31mValueError\u001b[0m: invalid literal for int() with base 10: 'apple'"
          ]
        }
      ]
    },
    {
      "cell_type": "code",
      "source": [
        "#converting datatype on existing array\n",
        "#astype() function\n",
        "arr=np.array([1.1,2.1,3.1])\n",
        "newarr=arr.astype('i')\n",
        "print(newarr)\n",
        "print(newarr.dtype)"
      ],
      "metadata": {
        "id": "2L7fcHVibrvM",
        "outputId": "061ef612-2ed5-422d-8031-a7d56e6d846d",
        "colab": {
          "base_uri": "https://localhost:8080/"
        }
      },
      "execution_count": null,
      "outputs": [
        {
          "output_type": "stream",
          "name": "stdout",
          "text": [
            "[1 2 3]\n",
            "int32\n"
          ]
        }
      ]
    },
    {
      "cell_type": "code",
      "source": [
        "#from integer to boolen\n",
        "arr=np.array([1,0,3])\n",
        "newarr=arr.astype(bool)\n",
        "print(newarr)\n",
        "print(newarr.dtype)"
      ],
      "metadata": {
        "id": "36sfPHUIb5xq",
        "outputId": "9282af52-ed33-4943-c034-82d06bc87851",
        "colab": {
          "base_uri": "https://localhost:8080/"
        }
      },
      "execution_count": null,
      "outputs": [
        {
          "output_type": "stream",
          "name": "stdout",
          "text": [
            "[ True False  True]\n",
            "bool\n"
          ]
        }
      ]
    },
    {
      "cell_type": "markdown",
      "source": [
        "\n",
        "\n",
        "---\n",
        "\n",
        "\n",
        "\n",
        "---\n",
        "\n"
      ],
      "metadata": {
        "id": "w6JzRGLedRDn"
      }
    },
    {
      "cell_type": "markdown",
      "source": [
        "# array copy vs view\n",
        "view will accept the changes in original"
      ],
      "metadata": {
        "id": "iCKpiOmidAT9"
      }
    },
    {
      "cell_type": "code",
      "source": [
        "# we will make a copy\n",
        "#chnage in original array and display both\n",
        "a=np.array([1,2,3,4,5])\n",
        "x=a.copy() # making copy\n",
        "print(a)\n",
        "print(x)"
      ],
      "metadata": {
        "id": "sTI8ZAtvcsal",
        "outputId": "dfa224d0-16e4-4d83-f8a9-5ca80fd9830a",
        "colab": {
          "base_uri": "https://localhost:8080/"
        }
      },
      "execution_count": null,
      "outputs": [
        {
          "output_type": "stream",
          "name": "stdout",
          "text": [
            "[1 2 3 4 5]\n",
            "[1 2 3 4 5]\n"
          ]
        }
      ]
    },
    {
      "cell_type": "code",
      "source": [
        "a[0]=42\n",
        "print(a)\n",
        "print(x) # no changes in copy"
      ],
      "metadata": {
        "id": "1eP9k8HSebEz",
        "outputId": "841df116-e0e6-4be6-c267-90a44098c9a3",
        "colab": {
          "base_uri": "https://localhost:8080/"
        }
      },
      "execution_count": null,
      "outputs": [
        {
          "output_type": "stream",
          "name": "stdout",
          "text": [
            "[42  2  3  4  5]\n",
            "[1 2 3 4 5]\n"
          ]
        }
      ]
    },
    {
      "cell_type": "code",
      "source": [
        "b=np.array([1,2,3,4,5])\n",
        "y=b.view()\n",
        "print(b)\n",
        "print(y)"
      ],
      "metadata": {
        "id": "EjO1zkGqej6Q"
      },
      "execution_count": null,
      "outputs": []
    },
    {
      "cell_type": "code",
      "source": [
        "b[0]=42\n",
        "print(b)\n",
        "print(y) #changes in the view arrayt also"
      ],
      "metadata": {
        "id": "iFfDNVm-ewId",
        "outputId": "5ff94a91-def9-462a-f138-aa81d95028e6",
        "colab": {
          "base_uri": "https://localhost:8080/"
        }
      },
      "execution_count": null,
      "outputs": [
        {
          "output_type": "stream",
          "name": "stdout",
          "text": [
            "[42  2  3  4  5]\n",
            "[42  2  3  4  5]\n"
          ]
        }
      ]
    },
    {
      "cell_type": "markdown",
      "source": [
        "\n",
        "\n",
        "---\n",
        "\n",
        "\n",
        "\n",
        "---\n",
        "\n",
        "\n",
        "\n",
        "---\n",
        "\n",
        "\n",
        "\n",
        "---\n",
        "\n"
      ],
      "metadata": {
        "id": "EkmVow-BfYQs"
      }
    },
    {
      "cell_type": "markdown",
      "source": [
        "#Numpy array shape\n",
        "\n",
        "shape of an array is the number of element in each dimenssion"
      ],
      "metadata": {
        "id": "NyS8JMbGfa66"
      }
    },
    {
      "cell_type": "code",
      "source": [
        "a=np.array([[1,2,3,4],[5,6,7,8]])\n",
        "print(a.shape)"
      ],
      "metadata": {
        "id": "5huGmUZ_eyL2",
        "outputId": "7917bd40-7a5c-40f4-bd5f-124e337a4564",
        "colab": {
          "base_uri": "https://localhost:8080/"
        }
      },
      "execution_count": null,
      "outputs": [
        {
          "output_type": "stream",
          "name": "stdout",
          "text": [
            "(2, 4)\n"
          ]
        }
      ]
    },
    {
      "cell_type": "code",
      "source": [
        "# 2 is the dimenssion and 4 is the number of element in each dimention"
      ],
      "metadata": {
        "id": "_JwKVW2zfveQ"
      },
      "execution_count": null,
      "outputs": []
    },
    {
      "cell_type": "code",
      "source": [
        "b=np.array([1,2,3,4],ndmin=5) # changing dimension\n",
        "print(b)\n",
        "print('shape of array:',b.shape)"
      ],
      "metadata": {
        "id": "hW8OuvAif4eZ",
        "outputId": "e8018d8f-a436-476a-8de1-48a93efada48",
        "colab": {
          "base_uri": "https://localhost:8080/"
        }
      },
      "execution_count": null,
      "outputs": [
        {
          "output_type": "stream",
          "name": "stdout",
          "text": [
            "[[[[[1 2 3 4]]]]]\n",
            "shape of array: (1, 1, 1, 1, 4)\n"
          ]
        }
      ]
    },
    {
      "cell_type": "code",
      "source": [
        "c=np.array([[[1,2,3],[4,5,6]],[[7,8,9],[10,11,12]]])\n",
        "print(c)\n",
        "print(c.ndim)#dimension of array\n",
        "print(c.shape)"
      ],
      "metadata": {
        "id": "iI762KpUgK8l",
        "outputId": "8fe22fdc-5828-43e2-87d8-72564c5e6954",
        "colab": {
          "base_uri": "https://localhost:8080/"
        }
      },
      "execution_count": null,
      "outputs": [
        {
          "output_type": "stream",
          "name": "stdout",
          "text": [
            "[[[ 1  2  3]\n",
            "  [ 4  5  6]]\n",
            "\n",
            " [[ 7  8  9]\n",
            "  [10 11 12]]]\n",
            "3\n",
            "(2, 2, 3)\n"
          ]
        }
      ]
    },
    {
      "cell_type": "markdown",
      "source": [
        "\n",
        "\n",
        "---\n",
        "\n",
        "\n",
        "\n",
        "---\n",
        "\n",
        "#Array reshaping"
      ],
      "metadata": {
        "id": "wVGU85_VindJ"
      }
    },
    {
      "cell_type": "code",
      "source": [
        "#adding and removing element\n",
        "#reshaping from 1-d to 2-d"
      ],
      "metadata": {
        "id": "P7gyg3Glhvsl"
      },
      "execution_count": null,
      "outputs": []
    },
    {
      "cell_type": "code",
      "source": [
        "a=np.array([1,2,3,4,5,6,7,8,9,10,11,12])\n",
        "newarr=a.reshape(4,3)\n",
        "print(a)\n",
        "print(a.ndim)\n",
        "print(newarr)\n",
        "print(newarr.ndim)"
      ],
      "metadata": {
        "id": "Su5hofXfi5FE",
        "outputId": "a6f4d2a7-d8f3-4aae-d8c5-6cece2870331",
        "colab": {
          "base_uri": "https://localhost:8080/"
        }
      },
      "execution_count": null,
      "outputs": [
        {
          "output_type": "stream",
          "name": "stdout",
          "text": [
            "[ 1  2  3  4  5  6  7  8  9 10 11 12]\n",
            "1\n",
            "[[ 1  2  3]\n",
            " [ 4  5  6]\n",
            " [ 7  8  9]\n",
            " [10 11 12]]\n",
            "2\n"
          ]
        }
      ]
    },
    {
      "cell_type": "code",
      "source": [
        "#from 1d to 3d\n",
        "a=np.array([1,2,3,4,5,6,7,8,9,10,11,12])\n",
        "newarr=a.reshape(2,3,2)\n",
        "print(newarr)\n",
        "print(newarr.ndim)"
      ],
      "metadata": {
        "id": "rZkJ9UIwjS2l",
        "outputId": "edd27f4e-270c-4889-fd6e-9a9dccb13d46",
        "colab": {
          "base_uri": "https://localhost:8080/"
        }
      },
      "execution_count": null,
      "outputs": [
        {
          "output_type": "stream",
          "name": "stdout",
          "text": [
            "[[[ 1  2]\n",
            "  [ 3  4]\n",
            "  [ 5  6]]\n",
            "\n",
            " [[ 7  8]\n",
            "  [ 9 10]\n",
            "  [11 12]]]\n",
            "3\n"
          ]
        }
      ]
    },
    {
      "cell_type": "code",
      "source": [
        "#unknown dimension- we are allowed to have 1 unknown dimension\n",
        "a=np.array([1,2,3,4,5,6,7,8])\n",
        "newarr=a.reshape(2,2,-1)\n",
        "print(newarr)\n",
        "print(newarr.ndim)"
      ],
      "metadata": {
        "id": "G4x6H0SZjZfO",
        "outputId": "91469946-e661-4835-efca-9d427090be7e",
        "colab": {
          "base_uri": "https://localhost:8080/"
        }
      },
      "execution_count": null,
      "outputs": [
        {
          "output_type": "stream",
          "name": "stdout",
          "text": [
            "[[[1 2]\n",
            "  [3 4]]\n",
            "\n",
            " [[5 6]\n",
            "  [7 8]]]\n",
            "3\n"
          ]
        }
      ]
    },
    {
      "cell_type": "markdown",
      "source": [
        "#flatning"
      ],
      "metadata": {
        "id": "y-_xhR2EAqFk"
      }
    },
    {
      "cell_type": "code",
      "source": [
        "#flatning the array by converting 2d in to 1d using unknown\n",
        "c=np.array([[[1,2,3],[4,5,6]],[[7,8,9],[10,11,12]]])\n",
        "newarr=c.reshape(-1)\n",
        "print(newarr)\n",
        "print(newarr.ndim)\n"
      ],
      "metadata": {
        "id": "at4BQJt0AL4F",
        "outputId": "b691efa8-17f0-4f95-fb3a-6a8200cb7693",
        "colab": {
          "base_uri": "https://localhost:8080/"
        }
      },
      "execution_count": null,
      "outputs": [
        {
          "output_type": "stream",
          "name": "stdout",
          "text": [
            "[ 1  2  3  4  5  6  7  8  9 10 11 12]\n",
            "1\n"
          ]
        }
      ]
    },
    {
      "cell_type": "markdown",
      "source": [
        "\\\n",
        "\n",
        "---\n",
        "\n",
        "\n",
        "\n",
        "---\n",
        "\n",
        "\n",
        "\n",
        "---\n",
        "\n",
        "\n",
        "\n",
        "---\n",
        "\n"
      ],
      "metadata": {
        "id": "9_dnuzq1BRqC"
      }
    },
    {
      "cell_type": "markdown",
      "source": [
        "#Itering arrayy-\n",
        "\n",
        "going to element in array step by step\n",
        "like loops"
      ],
      "metadata": {
        "id": "-rm_T4yUBT5S"
      }
    },
    {
      "cell_type": "code",
      "source": [
        "#for 1d array"
      ],
      "metadata": {
        "id": "6dd2qpERAfoX"
      },
      "execution_count": null,
      "outputs": []
    },
    {
      "cell_type": "code",
      "source": [
        "a=np.array([1,2,3])\n",
        "for i in a:\n",
        "  print(i)"
      ],
      "metadata": {
        "id": "-ce20ym8BfKt",
        "outputId": "ef0aced7-0266-4a58-f749-5906b8ce6b88",
        "colab": {
          "base_uri": "https://localhost:8080/"
        }
      },
      "execution_count": null,
      "outputs": [
        {
          "output_type": "stream",
          "name": "stdout",
          "text": [
            "1\n",
            "2\n",
            "3\n"
          ]
        }
      ]
    },
    {
      "cell_type": "code",
      "source": [
        "#for 2d array\n",
        "b=np.array([[1,2,3],[4,5,6]])\n",
        "for i in b:\n",
        "  print(i)"
      ],
      "metadata": {
        "id": "mTB1nTBOBkTZ",
        "outputId": "44e11667-2a08-4c47-8a9c-abce229cceaa",
        "colab": {
          "base_uri": "https://localhost:8080/"
        }
      },
      "execution_count": null,
      "outputs": [
        {
          "output_type": "stream",
          "name": "stdout",
          "text": [
            "[1 2 3]\n",
            "[4 5 6]\n"
          ]
        }
      ]
    },
    {
      "cell_type": "code",
      "source": [
        "#Scallar element of the 2D\n",
        "b=np.array([[1,2,3],[4,5,6]])\n",
        "for i in b:\n",
        "  for j in i:\n",
        "    print(j)"
      ],
      "metadata": {
        "id": "m5UiIc4FCytH",
        "outputId": "757d1650-af44-45c2-d2dd-0fb814d8cce9",
        "colab": {
          "base_uri": "https://localhost:8080/"
        }
      },
      "execution_count": null,
      "outputs": [
        {
          "output_type": "stream",
          "name": "stdout",
          "text": [
            "1\n",
            "2\n",
            "3\n",
            "4\n",
            "5\n",
            "6\n"
          ]
        }
      ]
    },
    {
      "cell_type": "code",
      "source": [
        "# for 3d array\n",
        "c=np.array([[[1,2,3],[4,5,6]],[[7,8,9],[10,11,12]]])\n",
        "for i in c:\n",
        "  print(i)"
      ],
      "metadata": {
        "id": "o_FbeXEtDG15",
        "outputId": "e5f10494-d48b-49ae-aca5-bf9895107605",
        "colab": {
          "base_uri": "https://localhost:8080/"
        }
      },
      "execution_count": null,
      "outputs": [
        {
          "output_type": "stream",
          "name": "stdout",
          "text": [
            "[[1 2 3]\n",
            " [4 5 6]]\n",
            "[[ 7  8  9]\n",
            " [10 11 12]]\n"
          ]
        }
      ]
    },
    {
      "cell_type": "code",
      "source": [
        "c=np.array([[[1,2,3],[4,5,6]],[[7,8,9],[10,11,12]]])\n",
        "for i in c:\n",
        "  for j in i:\n",
        "    for k in j:\n",
        "      print(k)"
      ],
      "metadata": {
        "id": "dBODvpOiDM56",
        "outputId": "ae680439-035c-487c-821b-56e6d8c27811",
        "colab": {
          "base_uri": "https://localhost:8080/"
        }
      },
      "execution_count": null,
      "outputs": [
        {
          "output_type": "stream",
          "name": "stdout",
          "text": [
            "1\n",
            "2\n",
            "3\n",
            "4\n",
            "5\n",
            "6\n",
            "7\n",
            "8\n",
            "9\n",
            "10\n",
            "11\n",
            "12\n"
          ]
        }
      ]
    },
    {
      "cell_type": "code",
      "source": [
        "# By using the function\n",
        "for i in np.nditer(c):\n",
        "  print(i)"
      ],
      "metadata": {
        "id": "Vd1nc4-dDXUA",
        "outputId": "e6b1bfe7-f66d-46e0-a3bc-380e7035d84e",
        "colab": {
          "base_uri": "https://localhost:8080/"
        }
      },
      "execution_count": null,
      "outputs": [
        {
          "output_type": "stream",
          "name": "stdout",
          "text": [
            "1\n",
            "2\n",
            "3\n",
            "4\n",
            "5\n",
            "6\n",
            "7\n",
            "8\n",
            "9\n",
            "10\n",
            "11\n",
            "12\n"
          ]
        }
      ]
    },
    {
      "cell_type": "code",
      "source": [
        "#now we will iterate with different step size\n",
        "a=np.array([[1,2,3,4],[5,6,7,8]])\n",
        "for i in np.nditer(a[:,::3]):\n",
        "  print(i)"
      ],
      "metadata": {
        "id": "c1iHP0k8DoZZ",
        "outputId": "803568b0-8bf3-48a7-ecb1-9cdaecfb3439",
        "colab": {
          "base_uri": "https://localhost:8080/"
        }
      },
      "execution_count": null,
      "outputs": [
        {
          "output_type": "stream",
          "name": "stdout",
          "text": [
            "1\n",
            "4\n",
            "5\n",
            "8\n"
          ]
        }
      ]
    },
    {
      "cell_type": "markdown",
      "source": [
        "\\\n",
        "\n",
        "---\n",
        "\n",
        "\n",
        "\n",
        "---\n",
        "\n",
        "\n",
        "\n",
        "---\n",
        "\n",
        "\n",
        "\n",
        "---\n",
        "\n"
      ],
      "metadata": {
        "id": "iQLesOiCFcCW"
      }
    },
    {
      "cell_type": "markdown",
      "source": [
        "#Array joining by *numpy*"
      ],
      "metadata": {
        "id": "A19slO1vFeFX"
      }
    },
    {
      "cell_type": "code",
      "source": [
        "## here for this we will pass concatinate"
      ],
      "metadata": {
        "id": "yfSpYiWNFKY-"
      },
      "execution_count": null,
      "outputs": []
    },
    {
      "cell_type": "code",
      "source": [
        "#joining 2 1d arrays\n",
        "a=np.array([1,2,3])\n",
        "b=np.array([4,5,6])\n",
        "c=np.concatenate((a,b)) #using concatinate\n",
        "print(c)"
      ],
      "metadata": {
        "id": "pwoEq9bxFoTq",
        "outputId": "855664b0-f065-47cd-fa00-62a83d58cbe9",
        "colab": {
          "base_uri": "https://localhost:8080/"
        }
      },
      "execution_count": null,
      "outputs": [
        {
          "output_type": "stream",
          "name": "stdout",
          "text": [
            "[1 2 3 4 5 6]\n"
          ]
        }
      ]
    },
    {
      "cell_type": "code",
      "source": [
        "#joining 2 2d arrays\n",
        "a=np.array([[1,2],[3,4]])\n",
        "b=np.array([[5,6],[7,8]])\n",
        "c=np.concatenate((a,b),axis=1)\n",
        "print(c)"
      ],
      "metadata": {
        "id": "dDKKU_EZF1ht",
        "outputId": "37e1b315-f2b3-47e8-db60-a3b91ac6fe3d",
        "colab": {
          "base_uri": "https://localhost:8080/"
        }
      },
      "execution_count": null,
      "outputs": [
        {
          "output_type": "stream",
          "name": "stdout",
          "text": [
            "[[1 2 5 6]\n",
            " [3 4 7 8]]\n"
          ]
        }
      ]
    },
    {
      "cell_type": "code",
      "source": [
        "#joining the array using stack function\n",
        "a=np.array([1,2,3])\n",
        "b=np.array([4,5,6])\n",
        "d=np.stack((a,b),axis=1)\n",
        "print(d)"
      ],
      "metadata": {
        "id": "oVREcrrSLwvP",
        "outputId": "a192b801-d097-43f0-9104-38e478f69ff1",
        "colab": {
          "base_uri": "https://localhost:8080/"
        }
      },
      "execution_count": null,
      "outputs": [
        {
          "output_type": "stream",
          "name": "stdout",
          "text": [
            "[[1 4]\n",
            " [2 5]\n",
            " [3 6]]\n"
          ]
        }
      ]
    },
    {
      "cell_type": "code",
      "source": [
        "#stacking along with rows : hstack()\n",
        "a=np.array([1,2,3])\n",
        "b=np.array([4,5,6])\n",
        "d=np.hstack((a,b))\n",
        "print(d)"
      ],
      "metadata": {
        "id": "j41z7UIyL9tX",
        "outputId": "85fcc805-b850-4a62-d22b-0be2186c777a",
        "colab": {
          "base_uri": "https://localhost:8080/"
        }
      },
      "execution_count": null,
      "outputs": [
        {
          "output_type": "stream",
          "name": "stdout",
          "text": [
            "[1 2 3 4 5 6]\n"
          ]
        }
      ]
    },
    {
      "cell_type": "code",
      "source": [
        "a=np.array([[1,2],[3,4]])\n",
        "b=np.array([[5,6],[7,8]])\n",
        "d=np.hstack((a,b))\n",
        "print(d)"
      ],
      "metadata": {
        "id": "XjjNII_HMY2u",
        "outputId": "1d509543-921f-4753-b8d5-20d4789cb31f",
        "colab": {
          "base_uri": "https://localhost:8080/"
        }
      },
      "execution_count": null,
      "outputs": [
        {
          "output_type": "stream",
          "name": "stdout",
          "text": [
            "[[1 2 5 6]\n",
            " [3 4 7 8]]\n"
          ]
        }
      ]
    },
    {
      "cell_type": "code",
      "source": [
        "a=np.array([[1,2],[3,4]])\n",
        "b=np.array([[5,6],[7,8]])\n",
        "d=np.vstack((a,b))\n",
        "print(d)"
      ],
      "metadata": {
        "id": "oOAa865jMlkg",
        "outputId": "4c240b26-e14c-47ba-cbd0-16703ff39fe3",
        "colab": {
          "base_uri": "https://localhost:8080/"
        }
      },
      "execution_count": null,
      "outputs": [
        {
          "output_type": "stream",
          "name": "stdout",
          "text": [
            "[[1 2]\n",
            " [3 4]\n",
            " [5 6]\n",
            " [7 8]]\n"
          ]
        }
      ]
    },
    {
      "cell_type": "code",
      "source": [
        "a=np.array([1,2,3])\n",
        "b=np.array([4,5,6])\n",
        "d=np.vstack((a,b))\n",
        "print(d)"
      ],
      "metadata": {
        "id": "4lEMXYpFMozV",
        "outputId": "cef43111-d0b4-45de-a33a-903f704a1ba4",
        "colab": {
          "base_uri": "https://localhost:8080/"
        }
      },
      "execution_count": null,
      "outputs": [
        {
          "output_type": "stream",
          "name": "stdout",
          "text": [
            "[[1 2 3]\n",
            " [4 5 6]]\n"
          ]
        }
      ]
    },
    {
      "cell_type": "code",
      "source": [
        "a=np.array([[1,2],[3,4]])\n",
        "b=np.array([[5,6],[7,8]])\n",
        "d=np.dstack((a,b))\n",
        "print(d)"
      ],
      "metadata": {
        "id": "VoyRfFoLMvnn",
        "outputId": "f73a4945-c15f-4f32-facc-917b528a06bb",
        "colab": {
          "base_uri": "https://localhost:8080/"
        }
      },
      "execution_count": null,
      "outputs": [
        {
          "output_type": "stream",
          "name": "stdout",
          "text": [
            "[[[1 5]\n",
            "  [2 6]]\n",
            "\n",
            " [[3 7]\n",
            "  [4 8]]]\n"
          ]
        }
      ]
    },
    {
      "cell_type": "markdown",
      "source": [
        "\\\n",
        "\n",
        "---\n",
        "\n",
        "\n",
        "\n",
        "---\n",
        "\n",
        "\n",
        "\n",
        "---\n",
        "\n",
        "\n",
        "\n",
        "---\n",
        "\n",
        "\n",
        "\n",
        "---\n",
        "\n",
        "\\\\\n",
        "#Array Spliting by *numpy*"
      ],
      "metadata": {
        "id": "TbzEauGONJC8"
      }
    },
    {
      "cell_type": "code",
      "source": [
        "#split the array in 3 parts\n",
        "#auto cutting of the arrays\n",
        "a=np.array([1,2,3,4,5,6])\n",
        "b=np.array_split(a,3)\n",
        "print(b)\n",
        "print(b[0])\n",
        "print(b[1])\n",
        "print(b[2])\n",
        "#"
      ],
      "metadata": {
        "id": "6Q6ZjukyNLp1",
        "outputId": "a3f6492a-09bd-4603-bc6c-2ab8660cf161",
        "colab": {
          "base_uri": "https://localhost:8080/"
        }
      },
      "execution_count": null,
      "outputs": [
        {
          "output_type": "stream",
          "name": "stdout",
          "text": [
            "[array([1, 2]), array([3, 4]), array([5, 6])]\n",
            "[1 2]\n",
            "[3 4]\n",
            "[5 6]\n"
          ]
        }
      ]
    },
    {
      "cell_type": "code",
      "source": [
        "#spliting the 2d array\n",
        "a=np.array([[1,2],[3,4],[5,6],[7,8],[9,10],[11,12]])\n",
        "b=np.array_split(a,3)\n",
        "print(a)\n",
        "print(b)"
      ],
      "metadata": {
        "id": "DZY2ZjlYNdbY",
        "outputId": "2a4991c9-d3cb-4eed-998e-fd30e889ee5d",
        "colab": {
          "base_uri": "https://localhost:8080/"
        }
      },
      "execution_count": null,
      "outputs": [
        {
          "output_type": "stream",
          "name": "stdout",
          "text": [
            "[[ 1  2]\n",
            " [ 3  4]\n",
            " [ 5  6]\n",
            " [ 7  8]\n",
            " [ 9 10]\n",
            " [11 12]]\n",
            "[array([[1, 2],\n",
            "       [3, 4]]), array([[5, 6],\n",
            "       [7, 8]]), array([[ 9, 10],\n",
            "       [11, 12]])]\n"
          ]
        }
      ]
    },
    {
      "cell_type": "code",
      "source": [
        "# spliting the 2d array in 2 parts\n",
        "a=np.array([[1,2,3],[4,5,6],[7,8,9],[10,11,12],[13,14,15],[16,17,18]])\n",
        "b=np.array_split(a,3,axis=1)\n",
        "print(a)\n",
        "print(b)"
      ],
      "metadata": {
        "id": "kFAzwbBnOXGg",
        "outputId": "b2687dfa-4a96-4bea-eadf-3b8321c85135",
        "colab": {
          "base_uri": "https://localhost:8080/"
        }
      },
      "execution_count": null,
      "outputs": [
        {
          "output_type": "stream",
          "name": "stdout",
          "text": [
            "[[ 1  2  3]\n",
            " [ 4  5  6]\n",
            " [ 7  8  9]\n",
            " [10 11 12]\n",
            " [13 14 15]\n",
            " [16 17 18]]\n",
            "[array([[ 1],\n",
            "       [ 4],\n",
            "       [ 7],\n",
            "       [10],\n",
            "       [13],\n",
            "       [16]]), array([[ 2],\n",
            "       [ 5],\n",
            "       [ 8],\n",
            "       [11],\n",
            "       [14],\n",
            "       [17]]), array([[ 3],\n",
            "       [ 6],\n",
            "       [ 9],\n",
            "       [12],\n",
            "       [15],\n",
            "       [18]])]\n"
          ]
        }
      ]
    },
    {
      "cell_type": "markdown",
      "source": [
        "\\\\\n",
        "\n",
        "---\n",
        "\n",
        "\n",
        "---\n",
        "\n",
        "\n",
        "\n",
        "---\n",
        "\n",
        "\\\\\n",
        "#searching in array\n",
        "\n",
        "by using where()\n",
        "will give iundex where it is present"
      ],
      "metadata": {
        "id": "VmawLi6sQDrm"
      }
    },
    {
      "cell_type": "code",
      "source": [
        "a=np.array([1,2,3,4,5,4,4])\n",
        "x=np.where(a==4)\n",
        "print(x)\n",
        "print(np.where(a==4))"
      ],
      "metadata": {
        "id": "oGsZNH52PV3S",
        "outputId": "938bc07b-7170-4f21-f767-8882f1934d0f",
        "colab": {
          "base_uri": "https://localhost:8080/"
        }
      },
      "execution_count": null,
      "outputs": [
        {
          "output_type": "stream",
          "name": "stdout",
          "text": [
            "(array([3, 5, 6]),)\n",
            "(array([3, 5, 6]),)\n"
          ]
        }
      ]
    },
    {
      "cell_type": "code",
      "source": [
        "#finding event\n",
        "a=np.array([1,2,3,4,5,6,7,8])\n",
        "x=np.where(a%2==0)\n",
        "print(x)\n",
        "print(a[x])"
      ],
      "metadata": {
        "id": "moN8UVX5QSEy",
        "outputId": "560dcec9-2aa5-4f20-f77e-41af7a58c032",
        "colab": {
          "base_uri": "https://localhost:8080/"
        }
      },
      "execution_count": null,
      "outputs": [
        {
          "output_type": "stream",
          "name": "stdout",
          "text": [
            "(array([1, 3, 5, 7]),)\n",
            "[2 4 6 8]\n"
          ]
        }
      ]
    },
    {
      "cell_type": "code",
      "source": [
        "#searchsorted()"
      ],
      "metadata": {
        "id": "J6SP7TPBQ_Ld"
      },
      "execution_count": null,
      "outputs": []
    },
    {
      "cell_type": "code",
      "source": [
        "a=np.array([6,7,8,9])\n",
        "x=np.searchsorted(a,7)\n",
        "x1=np.where(a==7)\n",
        "print(x1)\n",
        "print(x)"
      ],
      "metadata": {
        "id": "PllnUrLiRfW3",
        "outputId": "6a91e7b9-a52e-4225-c869-4c597dd620e2",
        "colab": {
          "base_uri": "https://localhost:8080/"
        }
      },
      "execution_count": null,
      "outputs": [
        {
          "output_type": "stream",
          "name": "stdout",
          "text": [
            "(array([1]),)\n",
            "1\n"
          ]
        }
      ]
    },
    {
      "cell_type": "code",
      "source": [
        "#now we willl search from right side"
      ],
      "metadata": {
        "id": "MKtUmb2cRy5Z"
      },
      "execution_count": null,
      "outputs": []
    },
    {
      "cell_type": "code",
      "source": [
        "x3=np.searchsorted(a,7,side='right')\n",
        "print(x3)"
      ],
      "metadata": {
        "id": "mJ4mQb9jR54U",
        "outputId": "35509157-b7f9-49d3-bf51-fc532c3dfb86",
        "colab": {
          "base_uri": "https://localhost:8080/"
        }
      },
      "execution_count": null,
      "outputs": [
        {
          "output_type": "stream",
          "name": "stdout",
          "text": [
            "2\n"
          ]
        }
      ]
    },
    {
      "cell_type": "code",
      "source": [
        "#search multiple values"
      ],
      "metadata": {
        "id": "6X_ShWKRSFgS"
      },
      "execution_count": null,
      "outputs": []
    },
    {
      "cell_type": "code",
      "source": [
        "a=np.array([1,3,5,7])\n",
        "x4=np.searchsorted(a,[2,4,6,8])\n",
        "print(a)\n",
        "print(x4)"
      ],
      "metadata": {
        "id": "HxNbQTY_SHu_",
        "outputId": "964c0e36-5fcf-4acf-e517-cbaf04948f8a",
        "colab": {
          "base_uri": "https://localhost:8080/"
        }
      },
      "execution_count": null,
      "outputs": [
        {
          "output_type": "stream",
          "name": "stdout",
          "text": [
            "[1 3 5 7]\n",
            "[1 2 3 4]\n"
          ]
        }
      ]
    },
    {
      "cell_type": "markdown",
      "source": [
        "\\\\\n",
        "\n",
        "---\n",
        "\n",
        "\n",
        "\n",
        "---\n",
        "\n",
        "\n",
        "\n",
        "---\n",
        "\n",
        "\n",
        "\n",
        "---\n",
        "\n",
        "\\\\\n",
        "\n",
        "---\n",
        "\n",
        "#sorting the array\n",
        "sort()"
      ],
      "metadata": {
        "id": "e6jyWuSAWIhs"
      }
    },
    {
      "cell_type": "code",
      "source": [
        "import numpy as np\n",
        "a=np.array([3,2,0,1])\n",
        "print(np.sort(a)) # like the copy method"
      ],
      "metadata": {
        "id": "gJJajUf5SPde",
        "colab": {
          "base_uri": "https://localhost:8080/"
        },
        "outputId": "68d6dd40-bdda-4572-f38e-41fbe681eec6"
      },
      "execution_count": 3,
      "outputs": [
        {
          "output_type": "stream",
          "name": "stdout",
          "text": [
            "[0 1 2 3]\n"
          ]
        }
      ]
    },
    {
      "cell_type": "code",
      "source": [
        "b=np.array(['banana','cherry','apple'])\n",
        "print(np.sort(b)) # sort apl"
      ],
      "metadata": {
        "colab": {
          "base_uri": "https://localhost:8080/"
        },
        "id": "N3-7eJuxWel5",
        "outputId": "af115cfe-b00a-40f7-a5a7-b784a4409d34"
      },
      "execution_count": 4,
      "outputs": [
        {
          "output_type": "stream",
          "name": "stdout",
          "text": [
            "['apple' 'banana' 'cherry']\n"
          ]
        }
      ]
    },
    {
      "cell_type": "code",
      "source": [
        "#sort bool\n",
        "c=np.array([True,False,True])\n",
        "print(np.sort(c))"
      ],
      "metadata": {
        "colab": {
          "base_uri": "https://localhost:8080/"
        },
        "id": "rrcbedOVXIC8",
        "outputId": "8b982e7f-3b9d-48b0-f295-fd671510fb91"
      },
      "execution_count": 6,
      "outputs": [
        {
          "output_type": "stream",
          "name": "stdout",
          "text": [
            "[False  True  True]\n"
          ]
        }
      ]
    },
    {
      "cell_type": "code",
      "source": [
        "c=np.array([[3,2,4],[5,0,1]])\n",
        "print(np.sort(c))"
      ],
      "metadata": {
        "colab": {
          "base_uri": "https://localhost:8080/"
        },
        "id": "q8b3FU_4WrHD",
        "outputId": "5677d72b-ec62-4c36-989e-ac3be30de0fd"
      },
      "execution_count": 5,
      "outputs": [
        {
          "output_type": "stream",
          "name": "stdout",
          "text": [
            "[[2 3 4]\n",
            " [0 1 5]]\n"
          ]
        }
      ]
    },
    {
      "cell_type": "code",
      "source": [
        "d=np.array([41,42,43,44])\n",
        "e=np.array([46,47,48,49])\n",
        "f=np.concatenate((d,e))\n",
        "print(np.sort(f))"
      ],
      "metadata": {
        "colab": {
          "base_uri": "https://localhost:8080/"
        },
        "id": "L_b1SPBHXEay",
        "outputId": "f62266e0-b5c0-479a-a0e7-7d2d1bdb77b9"
      },
      "execution_count": 7,
      "outputs": [
        {
          "output_type": "stream",
          "name": "stdout",
          "text": [
            "[41 42 43 44 46 47 48 49]\n"
          ]
        }
      ]
    },
    {
      "cell_type": "markdown",
      "source": [
        "\\\n",
        "\n",
        "---\n",
        "\n",
        "\n",
        "\n",
        "---\n",
        "\n",
        "\n",
        "\n",
        "---\n",
        "\n",
        "\n",
        "\n",
        "---\n",
        "\n",
        "\\\n",
        "#filter array\n"
      ],
      "metadata": {
        "id": "c6LtbWzxXgp4"
      }
    },
    {
      "cell_type": "code",
      "source": [
        "#gettting some elements out of existing array and creating a new array\n",
        "a=np.array([41,42,43,44])\n",
        "x=[True,False,True,False]\n",
        "newarr=a[x]\n",
        "print(newarr)"
      ],
      "metadata": {
        "colab": {
          "base_uri": "https://localhost:8080/"
        },
        "id": "_ptE4TosXm8T",
        "outputId": "b9f7c7e5-471f-4aed-8045-eb602fe6f458"
      },
      "execution_count": 9,
      "outputs": [
        {
          "output_type": "stream",
          "name": "stdout",
          "text": [
            "[41 43]\n"
          ]
        }
      ]
    },
    {
      "cell_type": "code",
      "source": [
        "#creating the filter array\n",
        "a=np.array([41,42,43,44])\n",
        "filter_arr=[]\n",
        "for i in a:\n",
        "  if i>42:\n",
        "    filter_arr.append(True)\n",
        "  else:\n",
        "    filter_arr.append(False)\n",
        "print(filter_arr)"
      ],
      "metadata": {
        "colab": {
          "base_uri": "https://localhost:8080/"
        },
        "id": "FvAvXoetYSe6",
        "outputId": "fd604ee8-2695-4561-96a6-fb79ee5ced91"
      },
      "execution_count": 18,
      "outputs": [
        {
          "output_type": "stream",
          "name": "stdout",
          "text": [
            "[False, False, True, True]\n"
          ]
        }
      ]
    },
    {
      "cell_type": "code",
      "source": [
        "import numpy as np\n",
        "b=np.array([1,2,3,4,5,6,7])\n",
        "filter_arr=[]\n",
        "for i in b:\n",
        "  if i%2==0:\n",
        "    filter_arr.append(True)\n",
        "  else:\n",
        "    filter_arr.append(False)\n",
        "print(filter_arr)\n",
        "print(b[filter_arr])"
      ],
      "metadata": {
        "colab": {
          "base_uri": "https://localhost:8080/"
        },
        "id": "RdkV4rALY6Z9",
        "outputId": "3e75fd31-9732-4d9f-f864-5ddf9a4fee5a"
      },
      "execution_count": 2,
      "outputs": [
        {
          "output_type": "stream",
          "name": "stdout",
          "text": [
            "[False, True, False, True, False, True, False]\n",
            "[2 4 6]\n"
          ]
        }
      ]
    },
    {
      "cell_type": "code",
      "source": [
        "# we can also crete filters directly from array\n",
        "a=np.array([41,42,43,44])\n",
        "aa=a>42\n",
        "print(aa)\n",
        "print(a[aa])"
      ],
      "metadata": {
        "colab": {
          "base_uri": "https://localhost:8080/"
        },
        "id": "Inple-DPaDAo",
        "outputId": "d893ccad-8e64-46c7-d2c0-200f02f9193b"
      },
      "execution_count": 4,
      "outputs": [
        {
          "output_type": "stream",
          "name": "stdout",
          "text": [
            "[False False  True  True]\n",
            "[43 44]\n"
          ]
        }
      ]
    },
    {
      "cell_type": "code",
      "source": [
        "b=np.array([1,2,3,4,5,6,7])\n",
        "bbr=b%2==0\n",
        "print(bbr)\n",
        "print(b[bbr])"
      ],
      "metadata": {
        "colab": {
          "base_uri": "https://localhost:8080/"
        },
        "id": "b-7b7O9MQsER",
        "outputId": "fca8f6ec-c298-4acd-fd05-4e16b83a82ee"
      },
      "execution_count": 6,
      "outputs": [
        {
          "output_type": "stream",
          "name": "stdout",
          "text": [
            "[False  True False  True False  True False]\n",
            "[2 4 6]\n"
          ]
        }
      ]
    },
    {
      "cell_type": "markdown",
      "source": [
        "\\\n",
        "\n",
        "---\n",
        "\n",
        "\n",
        "\n",
        "---\n",
        "\n",
        "---\n",
        "\n",
        "\\\n",
        "#Rondom Number\n",
        "#something that can not be predicted by logicaly\n",
        "\n"
      ],
      "metadata": {
        "id": "0Rw1GNlwRVEQ"
      }
    },
    {
      "cell_type": "code",
      "source": [
        "#now we will generate a random number\n",
        "from numpy import random\n",
        "x=random.randint(100)\n",
        "print(x)"
      ],
      "metadata": {
        "colab": {
          "base_uri": "https://localhost:8080/"
        },
        "id": "goSpn7XFQzIk",
        "outputId": "5c96507d-efd7-4115-e24a-225253929c37"
      },
      "execution_count": 13,
      "outputs": [
        {
          "output_type": "stream",
          "name": "stdout",
          "text": [
            "43\n"
          ]
        }
      ]
    },
    {
      "cell_type": "code",
      "source": [
        "#you can also generate float\n",
        "y=random.rand()\n",
        "print(y)"
      ],
      "metadata": {
        "colab": {
          "base_uri": "https://localhost:8080/"
        },
        "id": "nqeVlGhCSE62",
        "outputId": "20276e1e-1d6d-4f3a-f9ec-96deef1f500f"
      },
      "execution_count": 36,
      "outputs": [
        {
          "output_type": "stream",
          "name": "stdout",
          "text": [
            "0.6938718866785646\n"
          ]
        }
      ]
    },
    {
      "cell_type": "code",
      "source": [
        "yf=random.rand(2,5)\n",
        "print(yf)"
      ],
      "metadata": {
        "colab": {
          "base_uri": "https://localhost:8080/"
        },
        "id": "xCXu_viwTplU",
        "outputId": "cce9cb4f-f170-40cb-c266-2c9e28974a69"
      },
      "execution_count": 37,
      "outputs": [
        {
          "output_type": "stream",
          "name": "stdout",
          "text": [
            "[[0.96592746 0.82814067 0.26894927 0.86265879 0.88726377]\n",
            " [0.58808753 0.95508138 0.76693089 0.41857073 0.48496235]]\n"
          ]
        }
      ]
    },
    {
      "cell_type": "code",
      "source": [
        "#you can also generate random array[]\n",
        "z=random.randint(100,size=(5))\n",
        "print(z)"
      ],
      "metadata": {
        "colab": {
          "base_uri": "https://localhost:8080/"
        },
        "id": "gg863y_iSJoa",
        "outputId": "31b27926-5bc7-4ee4-ba17-e97c3e3871fa"
      },
      "execution_count": 34,
      "outputs": [
        {
          "output_type": "stream",
          "name": "stdout",
          "text": [
            "[95 13 69  5 17]\n"
          ]
        }
      ]
    },
    {
      "cell_type": "code",
      "source": [
        "#now for 2d\n",
        "w=random.randint(100,size=(2,5))\n",
        "print(w)"
      ],
      "metadata": {
        "colab": {
          "base_uri": "https://localhost:8080/"
        },
        "id": "Vt5znx1ISa2Q",
        "outputId": "6f03eff2-de9c-4c38-da27-16d6e29f17fa"
      },
      "execution_count": 32,
      "outputs": [
        {
          "output_type": "stream",
          "name": "stdout",
          "text": [
            "[[65 42 52 24 45]\n",
            " [ 4 28 53 51 61]]\n"
          ]
        }
      ]
    },
    {
      "cell_type": "code",
      "source": [
        "#by giving the choise\n",
        "x=random.choice([3,5,7,9])\n",
        "print(x)"
      ],
      "metadata": {
        "colab": {
          "base_uri": "https://localhost:8080/"
        },
        "id": "VYa-ScQSTBV8",
        "outputId": "3710e8ac-c776-43d8-d254-f9c59fd04038"
      },
      "execution_count": 40,
      "outputs": [
        {
          "output_type": "stream",
          "name": "stdout",
          "text": [
            "3\n"
          ]
        }
      ]
    },
    {
      "cell_type": "code",
      "source": [
        "y=random.choice([3,5,7,9],size=(2,5))\n",
        "print(y)\n",
        "#"
      ],
      "metadata": {
        "colab": {
          "base_uri": "https://localhost:8080/"
        },
        "id": "ejlxBDbAUF4f",
        "outputId": "dc4eb9af-2877-48e9-8c4e-8e16aaf168e8"
      },
      "execution_count": 44,
      "outputs": [
        {
          "output_type": "stream",
          "name": "stdout",
          "text": [
            "[[7 9 3 7 3]\n",
            " [7 3 3 5 3]]\n"
          ]
        }
      ]
    },
    {
      "cell_type": "markdown",
      "source": [
        "\\\n",
        "\n",
        "---\n",
        "\n",
        "\n",
        "\n",
        "---\n",
        "\n",
        "\n",
        "\n",
        "---\n",
        "\n",
        "\n",
        "\n",
        "---\n",
        "\n",
        "\n",
        "\n",
        "---\n",
        "\n",
        "\\\n",
        "#Data Distribution\n",
        "  * DD is a list of all possible number and how often each value occure\n",
        "  * important with statestics"
      ],
      "metadata": {
        "id": "S1FpGRaxUwGe"
      }
    },
    {
      "cell_type": "code",
      "source": [
        "#random distribution: probability function"
      ],
      "metadata": {
        "id": "Be-G5oxeVUdI"
      },
      "execution_count": 45,
      "outputs": []
    },
    {
      "cell_type": "code",
      "source": [
        "#now we will generate with 100 values with values has to be 3 5 7 9\n",
        "#probability of value 3 is set to be 0.1\n",
        "#probability of value 5 is set to be 0.3\n",
        "#probability of value 7 is set to be 0.6\n",
        "#probability of value 9 is set to be 0\n",
        "# sum of all shoud be 1\n",
        "from numpy import random\n",
        "x=random.choice([3,5,7,9],p=[0.2,0.3,0.2,0.3],size=(100))\n",
        "print(x)\n",
        "#"
      ],
      "metadata": {
        "colab": {
          "base_uri": "https://localhost:8080/"
        },
        "id": "Jdg0sYmWVbh6",
        "outputId": "6069e011-84b9-4162-becb-fad43c8346e8"
      },
      "execution_count": 49,
      "outputs": [
        {
          "output_type": "stream",
          "name": "stdout",
          "text": [
            "[5 5 3 7 5 7 5 3 7 9 5 7 9 5 5 7 9 9 5 9 9 7 3 5 3 7 7 9 9 5 5 7 3 7 7 9 7\n",
            " 3 3 7 9 5 7 9 3 5 9 5 7 9 7 5 9 3 7 7 7 5 5 5 3 3 7 7 3 5 3 5 7 9 5 5 7 5\n",
            " 7 5 9 3 9 9 7 7 3 3 9 5 7 5 5 9 9 7 5 3 5 5 9 5 5 5]\n"
          ]
        }
      ]
    },
    {
      "cell_type": "code",
      "source": [
        "#now we will return 2d with 3 rows and 5 elements\n",
        "y=random.choice([3,5,7,9],p=[0.25,0.25,0.25,0.25],size=(3,5))\n",
        "print(y)\n",
        "#"
      ],
      "metadata": {
        "colab": {
          "base_uri": "https://localhost:8080/"
        },
        "id": "uuxUjDJCWG4c",
        "outputId": "2758baa9-b6bc-456b-b62f-ba6333a4706c"
      },
      "execution_count": 60,
      "outputs": [
        {
          "output_type": "stream",
          "name": "stdout",
          "text": [
            "[[7 7 9 3 3]\n",
            " [3 3 9 7 5]\n",
            " [5 3 3 7 5]]\n"
          ]
        }
      ]
    },
    {
      "cell_type": "markdown",
      "source": [
        "\\\\\n",
        "\n",
        "---\n",
        "\n",
        "\n",
        "\n",
        "---\n",
        "\n",
        "#Randon Permutation\n",
        "  * permutation reffers to an arrangment of element like [3,2,1] is a permutation of [1,2,3] and vice versa\n",
        "  *Numpy random module provide 2 methods:\n",
        "   - shuffle()\n",
        "    - make changes to original array\n",
        "   - permuttation()\n",
        "    - does not change the origonal array"
      ],
      "metadata": {
        "id": "n4TsnqHrW-3c"
      }
    },
    {
      "cell_type": "code",
      "source": [
        "4from numpy import random\n",
        "import numpy as np\n",
        "a=np.array([1,2,3,4,5])\n",
        "random.shuffle(a)\n",
        "print(a)"
      ],
      "metadata": {
        "colab": {
          "base_uri": "https://localhost:8080/"
        },
        "id": "tQJ2jSrnW-Cz",
        "outputId": "e3275267-cac0-4d76-bcfd-781c911e2bdf"
      },
      "execution_count": 72,
      "outputs": [
        {
          "output_type": "stream",
          "name": "stdout",
          "text": [
            "[1 4 3 2 5]\n"
          ]
        }
      ]
    },
    {
      "cell_type": "code",
      "source": [
        "a=np.array([1,2,3,4,5])\n",
        "random.permutation(a)\n",
        "print(a)\n",
        "print(random.permutation(a))"
      ],
      "metadata": {
        "colab": {
          "base_uri": "https://localhost:8080/"
        },
        "id": "0bFN62hdX17a",
        "outputId": "6a202bbb-b474-4ee0-db25-7933cc4e6611"
      },
      "execution_count": 77,
      "outputs": [
        {
          "output_type": "stream",
          "name": "stdout",
          "text": [
            "[1 2 3 4 5]\n",
            "[2 1 5 3 4]\n"
          ]
        }
      ]
    },
    {
      "cell_type": "markdown",
      "source": [
        "\\\\\n",
        "\n",
        "---\n",
        "\n",
        "\n",
        "\n",
        "---\n",
        "\n",
        "\n",
        "\n",
        "---\n",
        "\n",
        "\n",
        "\n",
        "---\n",
        "\n",
        "\\\\\\\n",
        "\n",
        "---\n",
        "#SEABORN\n",
        "- Is a librery matplotlib underneath to plot grphs (pyplot)\n",
        "import matplotlib.pyplot as plt\n",
        "import seaborn as sns\n",
        "\n",
        "-Distplot - curve plot\n"
      ],
      "metadata": {
        "id": "FyYxE5DmYbUO"
      }
    },
    {
      "cell_type": "code",
      "source": [
        "pip install matplotlib"
      ],
      "metadata": {
        "colab": {
          "base_uri": "https://localhost:8080/"
        },
        "id": "HgQcA4XgX6N8",
        "outputId": "22da45fb-7c88-4506-db83-9897ff60b59e"
      },
      "execution_count": 78,
      "outputs": [
        {
          "output_type": "stream",
          "name": "stdout",
          "text": [
            "Requirement already satisfied: matplotlib in /usr/local/lib/python3.10/dist-packages (3.7.1)\n",
            "Requirement already satisfied: contourpy>=1.0.1 in /usr/local/lib/python3.10/dist-packages (from matplotlib) (1.2.1)\n",
            "Requirement already satisfied: cycler>=0.10 in /usr/local/lib/python3.10/dist-packages (from matplotlib) (0.12.1)\n",
            "Requirement already satisfied: fonttools>=4.22.0 in /usr/local/lib/python3.10/dist-packages (from matplotlib) (4.53.1)\n",
            "Requirement already satisfied: kiwisolver>=1.0.1 in /usr/local/lib/python3.10/dist-packages (from matplotlib) (1.4.5)\n",
            "Requirement already satisfied: numpy>=1.20 in /usr/local/lib/python3.10/dist-packages (from matplotlib) (1.26.4)\n",
            "Requirement already satisfied: packaging>=20.0 in /usr/local/lib/python3.10/dist-packages (from matplotlib) (24.1)\n",
            "Requirement already satisfied: pillow>=6.2.0 in /usr/local/lib/python3.10/dist-packages (from matplotlib) (9.4.0)\n",
            "Requirement already satisfied: pyparsing>=2.3.1 in /usr/local/lib/python3.10/dist-packages (from matplotlib) (3.1.2)\n",
            "Requirement already satisfied: python-dateutil>=2.7 in /usr/local/lib/python3.10/dist-packages (from matplotlib) (2.8.2)\n",
            "Requirement already satisfied: six>=1.5 in /usr/local/lib/python3.10/dist-packages (from python-dateutil>=2.7->matplotlib) (1.16.0)\n"
          ]
        }
      ]
    },
    {
      "cell_type": "code",
      "source": [
        "import matplotlib.pyplot as plt\n",
        "import seaborn as sns\n",
        "\n",
        "sns.distplot([0,1,2,3,4,5])\n",
        "plt.show()"
      ],
      "metadata": {
        "colab": {
          "base_uri": "https://localhost:8080/",
          "height": 628
        },
        "id": "hTuhKLdBZOao",
        "outputId": "15fa7145-de39-40e9-ca8d-7480ae75aaaf"
      },
      "execution_count": 81,
      "outputs": [
        {
          "output_type": "stream",
          "name": "stderr",
          "text": [
            "<ipython-input-81-9d6e51e5a7fd>:4: UserWarning: \n",
            "\n",
            "`distplot` is a deprecated function and will be removed in seaborn v0.14.0.\n",
            "\n",
            "Please adapt your code to use either `displot` (a figure-level function with\n",
            "similar flexibility) or `histplot` (an axes-level function for histograms).\n",
            "\n",
            "For a guide to updating your code to use the new functions, please see\n",
            "https://gist.github.com/mwaskom/de44147ed2974457ad6372750bbe5751\n",
            "\n",
            "  sns.distplot([0,1,2,3,4,5])\n"
          ]
        },
        {
          "output_type": "display_data",
          "data": {
            "text/plain": [
              "<Figure size 640x480 with 1 Axes>"
            ],
            "image/png": "[encoded data removed]"
          },
          "metadata": {}
        }
      ]
    },
    {
      "cell_type": "code",
      "source": [
        "sns.distplot([0,1,2,3,4,5], hist=False )\n",
        "plt.show()"
      ],
      "metadata": {
        "colab": {
          "base_uri": "https://localhost:8080/",
          "height": 648
        },
        "id": "aaYCi0NEZUwC",
        "outputId": "64665cf5-63a9-48a6-f13c-c9478cf7496e"
      },
      "execution_count": 84,
      "outputs": [
        {
          "output_type": "stream",
          "name": "stderr",
          "text": [
            "<ipython-input-84-f798bf7ed1b0>:1: UserWarning: \n",
            "\n",
            "`distplot` is a deprecated function and will be removed in seaborn v0.14.0.\n",
            "\n",
            "Please adapt your code to use either `displot` (a figure-level function with\n",
            "similar flexibility) or `kdeplot` (an axes-level function for kernel density plots).\n",
            "\n",
            "For a guide to updating your code to use the new functions, please see\n",
            "https://gist.github.com/mwaskom/de44147ed2974457ad6372750bbe5751\n",
            "\n",
            "  sns.distplot([0,1,2,3,4,5], hist=False )\n"
          ]
        },
        {
          "output_type": "display_data",
          "data": {
            "text/plain": [
              "<Figure size 640x480 with 1 Axes>"
            ],
            "image/png": "[encoded data removed]"
          },
          "metadata": {}
        }
      ]
    },
    {
      "cell_type": "code",
      "source": [
        "x=[0,1,2,3,4,5]\n",
        "sns.distplot(x,hist=False)\n",
        "plt.show()"
      ],
      "metadata": {
        "colab": {
          "base_uri": "https://localhost:8080/",
          "height": 648
        },
        "id": "UvqhWJWXa3-1",
        "outputId": "3e3d49f8-eb81-4557-aec2-3fc7b3da3ef8"
      },
      "execution_count": 86,
      "outputs": [
        {
          "output_type": "stream",
          "name": "stderr",
          "text": [
            "<ipython-input-86-d617ee549c0c>:2: UserWarning: \n",
            "\n",
            "`distplot` is a deprecated function and will be removed in seaborn v0.14.0.\n",
            "\n",
            "Please adapt your code to use either `displot` (a figure-level function with\n",
            "similar flexibility) or `kdeplot` (an axes-level function for kernel density plots).\n",
            "\n",
            "For a guide to updating your code to use the new functions, please see\n",
            "https://gist.github.com/mwaskom/de44147ed2974457ad6372750bbe5751\n",
            "\n",
            "  sns.distplot(x,hist=False)\n"
          ]
        },
        {
          "output_type": "display_data",
          "data": {
            "text/plain": [
              "<Figure size 640x480 with 1 Axes>"
            ],
            "image/png": "[encoded data removed]"
          },
          "metadata": {}
        }
      ]
    },
    {
      "cell_type": "markdown",
      "source": [
        "\n",
        "\n",
        "---\n",
        "\n",
        "\n",
        "\n",
        "---\n",
        "\n",
        "\n",
        "\n",
        "---\n",
        "\n",
        "#Normal distribution or Gaussian distribution or bell curv"
      ],
      "metadata": {
        "id": "v0LDeJ1JbgDK"
      }
    },
    {
      "cell_type": "code",
      "source": [
        "# we are generatiing a random normal distribution\n",
        "#random.normal() - loc(mean / average), scale( standard deviation), size\n",
        "a=random.normal(size=(2,3))\n",
        "print(a)"
      ],
      "metadata": {
        "colab": {
          "base_uri": "https://localhost:8080/"
        },
        "id": "yJ_mUU4jbSz-",
        "outputId": "7ea24966-76d7-47e6-d633-6f6296ae9cb7"
      },
      "execution_count": 87,
      "outputs": [
        {
          "output_type": "stream",
          "name": "stdout",
          "text": [
            "[[ 0.86327051 -0.98359081 -1.33874685]\n",
            " [-1.1794711   1.18021699 -0.78763324]]\n"
          ]
        }
      ]
    },
    {
      "cell_type": "code",
      "source": [
        "b=random.normal(loc=1, scale=2, size=(2,3))\n",
        "print(b)"
      ],
      "metadata": {
        "colab": {
          "base_uri": "https://localhost:8080/"
        },
        "id": "cGQeAOumcjWq",
        "outputId": "3c7fc455-8f78-4b67-af6c-9cb306bf511d"
      },
      "execution_count": 88,
      "outputs": [
        {
          "output_type": "stream",
          "name": "stdout",
          "text": [
            "[[-0.51738683  0.33602772  2.03501317]\n",
            " [-1.05622136  3.39067639  1.85240237]]\n"
          ]
        }
      ]
    },
    {
      "cell_type": "code",
      "source": [
        "#visualization\n",
        "import matplotlib.pyplot as plt\n",
        "import seaborn as sns\n",
        "sns.distplot(random.normal(size=1000), hist=False)\n",
        "plt.show()"
      ],
      "metadata": {
        "colab": {
          "base_uri": "https://localhost:8080/",
          "height": 648
        },
        "id": "lzxbnB5NdFKb",
        "outputId": "a0def0de-4850-49e8-cd59-93a0903b916b"
      },
      "execution_count": 93,
      "outputs": [
        {
          "output_type": "stream",
          "name": "stderr",
          "text": [
            "<ipython-input-93-52f04629326a>:4: UserWarning: \n",
            "\n",
            "`distplot` is a deprecated function and will be removed in seaborn v0.14.0.\n",
            "\n",
            "Please adapt your code to use either `displot` (a figure-level function with\n",
            "similar flexibility) or `kdeplot` (an axes-level function for kernel density plots).\n",
            "\n",
            "For a guide to updating your code to use the new functions, please see\n",
            "https://gist.github.com/mwaskom/de44147ed2974457ad6372750bbe5751\n",
            "\n",
            "  sns.distplot(random.normal(size=1000), hist=False)\n"
          ]
        },
        {
          "output_type": "display_data",
          "data": {
            "text/plain": [
              "<Figure size 640x480 with 1 Axes>"
            ],
            "image/png": "[encoded data removed]"
          },
          "metadata": {}
        }
      ]
    },
    {
      "cell_type": "markdown",
      "source": [
        "\n",
        "\n",
        "---\n",
        "\n",
        "\n",
        "\n",
        "---\n",
        "\n",
        "#Binomial dit - Discrete dist - Binary output\n",
        "\n",
        "  - paramenter\n",
        "    - n = number of  trials\n",
        "    - p = probability\n",
        "    - size = shape of returned array"
      ],
      "metadata": {
        "id": "qu1W37laeDJx"
      }
    },
    {
      "cell_type": "code",
      "source": [
        "#given 10 trials for a coin\n",
        "a=random.binomial(n=10,p=0.5,size=10)\n",
        "print(a)\n",
        "sns.distplot(random.binomial(n=500,p=0.5,size=1000),hist=False, label='binomial')\n",
        "sns.distplot(random.normal(loc=50,scale=5,size=100),hist=False, label='binomial')\n",
        "plt.show()"
      ],
      "metadata": {
        "colab": {
          "base_uri": "https://localhost:8080/",
          "height": 865
        },
        "id": "EPPwzEHseaIa",
        "outputId": "83321066-5ebe-4f72-d329-802056ec49bf"
      },
      "execution_count": 101,
      "outputs": [
        {
          "output_type": "stream",
          "name": "stdout",
          "text": [
            "[5 2 6 7 5 5 5 7 5 5]\n"
          ]
        },
        {
          "output_type": "stream",
          "name": "stderr",
          "text": [
            "<ipython-input-101-97a680f6aa59>:4: UserWarning: \n",
            "\n",
            "`distplot` is a deprecated function and will be removed in seaborn v0.14.0.\n",
            "\n",
            "Please adapt your code to use either `displot` (a figure-level function with\n",
            "similar flexibility) or `kdeplot` (an axes-level function for kernel density plots).\n",
            "\n",
            "For a guide to updating your code to use the new functions, please see\n",
            "https://gist.github.com/mwaskom/de44147ed2974457ad6372750bbe5751\n",
            "\n",
            "  sns.distplot(random.binomial(n=500,p=0.5,size=1000),hist=False, label='binomial')\n",
            "<ipython-input-101-97a680f6aa59>:5: UserWarning: \n",
            "\n",
            "`distplot` is a deprecated function and will be removed in seaborn v0.14.0.\n",
            "\n",
            "Please adapt your code to use either `displot` (a figure-level function with\n",
            "similar flexibility) or `kdeplot` (an axes-level function for kernel density plots).\n",
            "\n",
            "For a guide to updating your code to use the new functions, please see\n",
            "https://gist.github.com/mwaskom/de44147ed2974457ad6372750bbe5751\n",
            "\n",
            "  sns.distplot(random.normal(loc=50,scale=5,size=100),hist=False, label='binomial')\n"
          ]
        },
        {
          "output_type": "display_data",
          "data": {
            "text/plain": [
              "<Figure size 640x480 with 1 Axes>"
            ],
            "image/png": "[encoded data removed]"
          },
          "metadata": {}
        }
      ]
    },
    {
      "cell_type": "markdown",
      "source": [
        "\n",
        "\n",
        "---\n",
        "\n",
        "\n",
        "\n",
        "---\n",
        "\n",
        "#Poisson dist - It estimate how many times an event can happen\n",
        "  - Paramenter\n",
        "    - lam - number of occurance\n",
        "    - size\n",
        ""
      ],
      "metadata": {
        "id": "8yyb_ZbVhz3b"
      }
    },
    {
      "cell_type": "code",
      "source": [
        "#generate a random 1*10 dist the occurance 2\n",
        "a=random.poisson(lam=2,size=10)\n",
        "print(a)"
      ],
      "metadata": {
        "colab": {
          "base_uri": "https://localhost:8080/"
        },
        "id": "5pOfM7YKevDB",
        "outputId": "e4704fff-df0d-42b5-a4b6-cc3ae4af25b8"
      },
      "execution_count": 104,
      "outputs": [
        {
          "output_type": "stream",
          "name": "stdout",
          "text": [
            "[2 3 3 2 1 0 2 3 5 2]\n"
          ]
        }
      ]
    },
    {
      "cell_type": "code",
      "source": [
        "#vissualization of poisson dist\n",
        "sns.distplot(random.poisson(lam=10,size=100000),kde=False)\n",
        "plt.show()\n",
        "#"
      ],
      "metadata": {
        "colab": {
          "base_uri": "https://localhost:8080/",
          "height": 628
        },
        "id": "G3xlC_i0iisN",
        "outputId": "af54a0d4-9587-483e-ae1e-49c287002f7f"
      },
      "execution_count": 110,
      "outputs": [
        {
          "output_type": "stream",
          "name": "stderr",
          "text": [
            "<ipython-input-110-a5ea887d7d28>:2: UserWarning: \n",
            "\n",
            "`distplot` is a deprecated function and will be removed in seaborn v0.14.0.\n",
            "\n",
            "Please adapt your code to use either `displot` (a figure-level function with\n",
            "similar flexibility) or `histplot` (an axes-level function for histograms).\n",
            "\n",
            "For a guide to updating your code to use the new functions, please see\n",
            "https://gist.github.com/mwaskom/de44147ed2974457ad6372750bbe5751\n",
            "\n",
            "  sns.distplot(random.poisson(lam=10,size=100000),kde=False)\n"
          ]
        },
        {
          "output_type": "display_data",
          "data": {
            "text/plain": [
              "<Figure size 640x480 with 1 Axes>"
            ],
            "image/png": "[encoded data removed]"
          },
          "metadata": {}
        }
      ]
    },
    {
      "cell_type": "code",
      "source": [
        "sns.distplot(random.poisson(lam=10,size=1000),kde=False,label='poisson')\n",
        "sns.distplot(random.normal(loc=50,scale=7,size=1000),kde=False,label='normal')\n",
        "plt.show()\n",
        "#"
      ],
      "metadata": {
        "colab": {
          "base_uri": "https://localhost:8080/",
          "height": 827
        },
        "id": "e2W7gHImjAwb",
        "outputId": "835475f6-8620-4416-c826-cbd61d355c5f"
      },
      "execution_count": 116,
      "outputs": [
        {
          "output_type": "stream",
          "name": "stderr",
          "text": [
            "<ipython-input-116-a8742b9b2a2b>:1: UserWarning: \n",
            "\n",
            "`distplot` is a deprecated function and will be removed in seaborn v0.14.0.\n",
            "\n",
            "Please adapt your code to use either `displot` (a figure-level function with\n",
            "similar flexibility) or `histplot` (an axes-level function for histograms).\n",
            "\n",
            "For a guide to updating your code to use the new functions, please see\n",
            "https://gist.github.com/mwaskom/de44147ed2974457ad6372750bbe5751\n",
            "\n",
            "  sns.distplot(random.poisson(lam=10,size=1000),kde=False,label='poisson')\n",
            "<ipython-input-116-a8742b9b2a2b>:2: UserWarning: \n",
            "\n",
            "`distplot` is a deprecated function and will be removed in seaborn v0.14.0.\n",
            "\n",
            "Please adapt your code to use either `displot` (a figure-level function with\n",
            "similar flexibility) or `histplot` (an axes-level function for histograms).\n",
            "\n",
            "For a guide to updating your code to use the new functions, please see\n",
            "https://gist.github.com/mwaskom/de44147ed2974457ad6372750bbe5751\n",
            "\n",
            "  sns.distplot(random.normal(loc=50,scale=7,size=1000),kde=False,label='normal')\n"
          ]
        },
        {
          "output_type": "display_data",
          "data": {
            "text/plain": [
              "<Figure size 640x480 with 1 Axes>"
            ],
            "image/png": "[encoded data removed]"
          },
          "metadata": {}
        }
      ]
    },
    {
      "cell_type": "code",
      "source": [],
      "metadata": {
        "id": "9t3m1qGNjOX3"
      },
      "execution_count": null,
      "outputs": []
    }
  ]
}