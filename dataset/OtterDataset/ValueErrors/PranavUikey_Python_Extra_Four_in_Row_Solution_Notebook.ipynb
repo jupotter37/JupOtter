{
  "nbformat": 4,
  "nbformat_minor": 5,
  "metadata": {
    "kernelspec": {
      "display_name": "Python 3",
      "language": "python",
      "name": "python3"
    },
    "language_info": {
      "codemirror_mode": {
        "name": "ipython",
        "version": 3
      },
      "file_extension": ".py",
      "mimetype": "text/x-python",
      "name": "python",
      "nbconvert_exporter": "python",
      "pygments_lexer": "ipython3",
      "version": "3.8.8"
    },
    "colab": {
      "name": "Four_in_Row_Solution_Notebook .ipynb",
      "provenance": [],
      "collapsed_sections": []
    }
  },
  "cells": [
    {
      "cell_type": "markdown",
      "metadata": {
        "id": "6d15a13e"
      },
      "source": [
        "# Problem statement\n",
        "Create classic 'Four In A Row' board game for two players.\n",
        "\n",
        "## Rules\n",
        "\n",
        "1.First player gets 'X' as a tile sign and 'O' for a second player.\n",
        "\n",
        "2.Player wins the game when player fills four consecutive places with same tile in a row, or in a column, or in a diagonal.\n",
        "\n",
        "3.Player must prevent opponent from doing the same.\n"
      ],
      "id": "6d15a13e"
    },
    {
      "cell_type": "markdown",
      "metadata": {
        "id": "b21783a4"
      },
      "source": [
        "# Steps to solve the problem\n",
        "\n",
        "### Step 1\n",
        "- Create a dictionary with co-ordinates as keys and assign '.'(dot) as a value to every key.\n",
        "\n",
        "### Step 2\n",
        "- Display a board with six rows and seven columns.\n",
        "\n",
        "- Display board with all places filled with a dot(.) representing empty places.\n",
        "\n",
        "Initial display:-\n",
        "\n",
        "      1 2 3 4 5 6 7\n",
        "     +- - - - - - -+\n",
        "    1|. . . . . . .|\n",
        "    2|. . . . . . .|\n",
        "    3|. . . . . . .|\n",
        "    4|. . . . . . .|\n",
        "    5|. . . . . . .|\n",
        "    6|. . . . . . .|\n",
        "     +- - - - - - -+\n",
        "     \n",
        "### Step 3\n",
        "- Accept input from user and fill that place with the respective player's tile sign.\n",
        "\n",
        "- Define invalid moves using `if` statements.\n",
        "\n",
        "- Display updated Board.\n",
        "\n",
        "Example: \n",
        "\n",
        "Player1 uses the tile_sign X\n",
        "\n",
        "Enter row index: 4\n",
        "\n",
        "Enter column index: 5\n",
        "\n",
        "      1 2 3 4 5 6 7\n",
        "     +- - - - - - -+\n",
        "    1|. . . . . . .|\n",
        "    2|. . . . . . .|\n",
        "    3|. . . . . . .|\n",
        "    4|. . . . X . .|\n",
        "    5|. . . . . . .|\n",
        "    6|. . . . . . .|\n",
        "     +- - - - - - -+\n",
        "     \n",
        "### Step 4\n",
        "- Define a function to check if the board game is filled completely.\n",
        "\n",
        "### Step 5\n",
        "- Define all the three winning conditions."
      ],
      "id": "b21783a4"
    },
    {
      "cell_type": "markdown",
      "metadata": {
        "id": "a5331fd1"
      },
      "source": [
        "## Lesson 1"
      ],
      "id": "a5331fd1"
    },
    {
      "cell_type": "markdown",
      "metadata": {
        "id": "3d324d61"
      },
      "source": [
        "Defining variables initially:\n",
        "1. Define variable for players.\n",
        "2. Define variable for signs of tiles.\n",
        "3. Define variable for a list that stores all the inputs from user in the form of tuple, empty for the time being.\n",
        "\n",
        "(Remember that values assigned to variables `player` and `tile_sign` must change with player. As of now, assign the values for first player.)\n",
        "\n",
        "Example: player = 'player1', tile_sign = 'X', input_index_list = [ ]"
      ],
      "id": "3d324d61"
    },
    {
      "cell_type": "code",
      "metadata": {
        "id": "281b483a"
      },
      "source": [
        "player = 'player1'\n",
        "tile_sign = 'X'\n",
        "input_index_list = []"
      ],
      "id": "281b483a",
      "execution_count": 1,
      "outputs": []
    },
    {
      "cell_type": "markdown",
      "metadata": {
        "id": "f433a65d"
      },
      "source": [
        "Write a `getNewBoard()`function returning dictionary `board` with co-ordinates of six row index and seven column index as keys in the form of tuples and assign dot(.) as a value to every key. "
      ],
      "id": "f433a65d"
    },
    {
      "cell_type": "code",
      "metadata": {
        "id": "16e3b27f"
      },
      "source": [
        "def getNewBoard():\n",
        "    board = {}\n",
        "    for rowIndex in range(1,7):\n",
        "        for columnIndex in range(1,8):\n",
        "            board[(rowIndex, columnIndex)] = '.'\n",
        "    return board\n"
      ],
      "id": "16e3b27f",
      "execution_count": 2,
      "outputs": []
    },
    {
      "cell_type": "markdown",
      "metadata": {
        "id": "1ef94ce3"
      },
      "source": [
        "## Lesson 2"
      ],
      "id": "1ef94ce3"
    },
    {
      "cell_type": "markdown",
      "metadata": {
        "id": "1c852613"
      },
      "source": [
        "Write a `displayBoard()` that takes `board` as an argument returned by above function and displays empty board game. All the places must be filled with dots(.) indicating empty places as shown below:\n",
        "\n",
        "      1 2 3 4 5 6 7\n",
        "     +- - - - - - -+\n",
        "    1|. . . . . . .|\n",
        "    2|. . . . . . .|\n",
        "    3|. . . . . . .|\n",
        "    4|. . . . . . .|\n",
        "    5|. . . . . . .|\n",
        "    6|. . . . . . .|\n",
        "     +- - - - - - -+\n",
        "     \n",
        "**Hint**: Create a list of all values from all the keys of `board` dictionary and fill those places with the values from the list using `.format(*list_name)` method.\n",
        "\n",
        "Before jumping to write a function, understand the use of asterisk sign from examples given below."
      ],
      "id": "1c852613"
    },
    {
      "cell_type": "code",
      "metadata": {
        "id": "56f7adbb"
      },
      "source": [
        "# Use of asterisk (*)"
      ],
      "id": "56f7adbb",
      "execution_count": 3,
      "outputs": []
    },
    {
      "cell_type": "code",
      "metadata": {
        "colab": {
          "base_uri": "https://localhost:8080/"
        },
        "id": "99ac1dc4",
        "outputId": "4b057b0c-dda2-43dd-fedb-5f9837efbb31"
      },
      "source": [
        "# Run the code cell below as it is.\n",
        "# Using tuple\n",
        "\n",
        "browser = ('Google', 'browser', 'Yahoo', 'browser')\n",
        "print('{} {} is used by more users than {} {}.'.format(*browser))"
      ],
      "id": "99ac1dc4",
      "execution_count": 4,
      "outputs": [
        {
          "output_type": "stream",
          "name": "stdout",
          "text": [
            "Google browser is used by more users than Yahoo browser.\n"
          ]
        }
      ]
    },
    {
      "cell_type": "code",
      "metadata": {
        "colab": {
          "base_uri": "https://localhost:8080/"
        },
        "id": "91e14b6e",
        "outputId": "94637f9b-c6c3-4a57-b59f-871fb0393bc7"
      },
      "source": [
        "# Run the code cell below as it is.\n",
        "# Using list\n",
        "\n",
        "person_info = ['Ram', 'student']\n",
        "print('I am {} and I am a {}.'.format(*person_info))"
      ],
      "id": "91e14b6e",
      "execution_count": 5,
      "outputs": [
        {
          "output_type": "stream",
          "name": "stdout",
          "text": [
            "I am Ram and I am a student.\n"
          ]
        }
      ]
    },
    {
      "cell_type": "code",
      "metadata": {
        "colab": {
          "base_uri": "https://localhost:8080/"
        },
        "id": "e1b6173f",
        "outputId": "4619c2b2-fc62-4f8f-c3e5-6a040d80fc88"
      },
      "source": [
        "# Run the code cell below as it is.\n",
        "# Using dictionary\n",
        "\n",
        "sports = {\"Team1\":\"Indian Cricket\", \"Team2\":\"England Cricket\"}\n",
        "print(\"{} defeated {} in ODI.\".format(*sports))"
      ],
      "id": "e1b6173f",
      "execution_count": 6,
      "outputs": [
        {
          "output_type": "stream",
          "name": "stdout",
          "text": [
            "Team1 defeated Team2 in ODI.\n"
          ]
        }
      ]
    },
    {
      "cell_type": "code",
      "metadata": {
        "colab": {
          "base_uri": "https://localhost:8080/"
        },
        "id": "78853a3c",
        "outputId": "efc93ae0-122f-47ef-9f6e-4c73c76583db"
      },
      "source": [
        "# Run the code cell below as it is.\n",
        "# Using dictionary values\n",
        "\n",
        "sports = {\"Team1\":\"Indian Cricket\", \"Team2\":\"England Cricket\"}\n",
        "print(\"{} team defeated the {} team in ODI.\".format(*sports.values()))"
      ],
      "id": "78853a3c",
      "execution_count": 7,
      "outputs": [
        {
          "output_type": "stream",
          "name": "stdout",
          "text": [
            "Indian Cricket team defeated the England Cricket team in ODI.\n"
          ]
        }
      ]
    },
    {
      "cell_type": "code",
      "metadata": {
        "colab": {
          "base_uri": "https://localhost:8080/"
        },
        "id": "c8546ef9",
        "outputId": "c7e439cf-10da-4d23-82a5-80944bbbbf3c"
      },
      "source": [
        "# Run the code cell below as it is.\n",
        "# Using dictionary keys\n",
        "\n",
        "sports = {\"Team1\":\"Indian Cricket\", \"Team2\":\"England Cricket\"}\n",
        "print(\"{} defeated {} in ODI.\".format(*sports.keys()))"
      ],
      "id": "c8546ef9",
      "execution_count": 8,
      "outputs": [
        {
          "output_type": "stream",
          "name": "stdout",
          "text": [
            "Team1 defeated Team2 in ODI.\n"
          ]
        }
      ]
    },
    {
      "cell_type": "code",
      "metadata": {
        "colab": {
          "base_uri": "https://localhost:8080/"
        },
        "id": "ce35ede5",
        "outputId": "6b3fae8c-0608-48b4-c2e5-c59ad86a7d66"
      },
      "source": [
        "# Run the code cell below as it is.\n",
        "\n",
        "sport = [('Indian', 'Cricket Team'), ('Enland', 'Cricket Team')]\n",
        "print(\"Today's match: {} VS {}\".format(*sport))"
      ],
      "id": "ce35ede5",
      "execution_count": 9,
      "outputs": [
        {
          "output_type": "stream",
          "name": "stdout",
          "text": [
            "Today's match: ('Indian', 'Cricket Team') VS ('Enland', 'Cricket Team')\n"
          ]
        }
      ]
    },
    {
      "cell_type": "code",
      "metadata": {
        "colab": {
          "base_uri": "https://localhost:8080/"
        },
        "id": "4d8ea9af",
        "outputId": "c9c1e134-888d-4aea-9284-51786de64598"
      },
      "source": [
        "# Run the code cell below as it is.\n",
        "# This code will be of great help to define the function\n",
        "\n",
        "step_design = ['*']*9\n",
        "print(\"\"\"\n",
        " _\n",
        "|{}|_\n",
        "|{}{}{}|_\n",
        "|{}{}{}{}{}|\n",
        "\"\"\".format(*step_design))"
      ],
      "id": "4d8ea9af",
      "execution_count": 10,
      "outputs": [
        {
          "output_type": "stream",
          "name": "stdout",
          "text": [
            "\n",
            " _\n",
            "|*|_\n",
            "|***|_\n",
            "|*****|\n",
            "\n"
          ]
        }
      ]
    },
    {
      "cell_type": "code",
      "metadata": {
        "id": "5b1c1f18"
      },
      "source": [
        "def displayBoard(board):\n",
        "    indexList = []\n",
        "    for rowIndex in range(1,7):\n",
        "        for columnIndex in range(1,8):\n",
        "            indexList.append(board[(rowIndex, columnIndex)])\n",
        "    print(\"\"\"\n",
        "      1 2 3 4 5 6 7\n",
        "     +- - - - - - -+\n",
        "    1|{} {} {} {} {} {} {}|\n",
        "    2|{} {} {} {} {} {} {}|\n",
        "    3|{} {} {} {} {} {} {}|\n",
        "    4|{} {} {} {} {} {} {}|\n",
        "    5|{} {} {} {} {} {} {}|\n",
        "    6|{} {} {} {} {} {} {}|\n",
        "     +- - - - - - -+\n",
        "    \"\"\".format(*indexList))"
      ],
      "id": "5b1c1f18",
      "execution_count": 11,
      "outputs": []
    },
    {
      "cell_type": "markdown",
      "metadata": {
        "id": "839d3601"
      },
      "source": [
        "## Lesson 3"
      ],
      "id": "839d3601"
    },
    {
      "cell_type": "markdown",
      "metadata": {
        "id": "7c3acc3c"
      },
      "source": [
        "Write a `askForMove()` function that accepts input as row index and column index from player indicating place to fill in board  while taking `input_index_list`, `tile_sign`, `board` as arguments and returns `board`(which is a dictionary) updated with player's move. \n",
        "\n",
        "Display the updated board.\n",
        "\n",
        "Add conditions for invalid input. Figure out two such conditions."
      ],
      "id": "7c3acc3c"
    },
    {
      "cell_type": "code",
      "metadata": {
        "id": "379c0f47"
      },
      "source": [
        "def askForMove(input_index_list, tile_sign, board):\n",
        "    player_row_index = int(input('Enter row index: '))\n",
        "    player_column_index = int(input('Enter column index: '))\n",
        "    \n",
        "    while True:\n",
        "        if (player_row_index,player_column_index) not in board.keys():\n",
        "            print(\"Invalid Entry\")\n",
        "            player_row_index = int(input('Enter row index: '))\n",
        "            player_column_index = int(input('Enter column index: '))\n",
        "            continue\n",
        "        else:\n",
        "            if (player_row_index,player_column_index) in input_index_list: \n",
        "                print('This place is already filled')\n",
        "                player_row_index = int(input('Enter row index: '))\n",
        "                player_column_index = int(input('Enter column index: '))\n",
        "                continue\n",
        "            else:\n",
        "                board[(player_row_index, player_column_index)] = tile_sign\n",
        "                input_index_list.append((player_row_index, player_column_index))\n",
        "                return board"
      ],
      "id": "379c0f47",
      "execution_count": 12,
      "outputs": []
    },
    {
      "cell_type": "markdown",
      "metadata": {
        "id": "4373d436"
      },
      "source": [
        "## Lesson 4"
      ],
      "id": "4373d436"
    },
    {
      "cell_type": "markdown",
      "metadata": {
        "id": "4f754861"
      },
      "source": [
        "Write a `isFull()` function that takes `board` as an argument and returns `True` if board is full with the tile signs of players."
      ],
      "id": "4f754861"
    },
    {
      "cell_type": "code",
      "metadata": {
        "id": "a9eebe82"
      },
      "source": [
        "def isFull(board):\n",
        "    for rowIndex in range(1,7):\n",
        "        for columnIndex in range(1,8):\n",
        "            if board[(columnIndex, rowIndex)] == '.':\n",
        "                return False      # Found an empty space, so return False.\n",
        "    return True"
      ],
      "id": "a9eebe82",
      "execution_count": 13,
      "outputs": []
    },
    {
      "cell_type": "markdown",
      "metadata": {
        "id": "03362760"
      },
      "source": [
        "## Lesson 5"
      ],
      "id": "03362760"
    },
    {
      "cell_type": "markdown",
      "metadata": {
        "id": "f1f3519a"
      },
      "source": [
        "Write a `isWinner()` function that accepts `tile_sign` and `board` as arguments and  checks for a winning condition returning `True` if any of the three conditions is fulfilled.\n",
        "\n",
        "(In a winning condition for a diagonal, two conditions are required. Figure them out!)"
      ],
      "id": "f1f3519a"
    },
    {
      "cell_type": "code",
      "metadata": {
        "id": "0c320750"
      },
      "source": [
        "\n",
        "def isWinner(tile_sign, board):\n",
        "    for columnIndex in range(1,5):\n",
        "        for rowIndex in range(1,7):\n",
        "            # Check for horizontal four-in-a-row going right:\n",
        "            tile1 = board[(rowIndex, columnIndex)]\n",
        "            tile2 = board[(rowIndex, columnIndex + 1)]\n",
        "            tile3 = board[(rowIndex, columnIndex + 2)]\n",
        "            tile4 = board[(rowIndex, columnIndex + 3)]\n",
        "            if tile1 == tile2 == tile3 == tile4 == tile_sign:\n",
        "                return True\n",
        "            \n",
        "    for columnIndex in range(1,8):\n",
        "        for rowIndex in range(1,4):\n",
        "            # Check for vertical four-in-a-row going down:\n",
        "            tile1 = board[(rowIndex, columnIndex)]\n",
        "            tile2 = board[(rowIndex + 1, columnIndex)]\n",
        "            tile3 = board[(rowIndex + 2, columnIndex)]\n",
        "            tile4 = board[(rowIndex + 3, columnIndex)]\n",
        "            if tile1 == tile2 == tile3 == tile4 == tile_sign:\n",
        "                return True\n",
        "            \n",
        "    for columnIndex in range(1,5):\n",
        "        for rowIndex in range(1,4):\n",
        "            # Check for four-in-a-row going right-down diagonal:\n",
        "            tile1 = board[(rowIndex, columnIndex)]\n",
        "            tile2 = board[(rowIndex + 1, columnIndex + 1)]\n",
        "            tile3 = board[(rowIndex + 2, columnIndex + 2)]\n",
        "            tile4 = board[(rowIndex + 3, columnIndex + 3)]\n",
        "            if tile1 == tile2 == tile3 == tile4 == tile_sign:\n",
        "                return True\n",
        "            # Check for four-in-a-row going left-down diagonal:\n",
        "            tile1 = board[(rowIndex, columnIndex + 3)]\n",
        "            tile2 = board[(rowIndex + 1, columnIndex + 2)]\n",
        "            tile3 = board[(rowIndex + 2, columnIndex + 1)]\n",
        "            tile4 = board[(rowIndex + 3, columnIndex)]\n",
        "            if tile1 == tile2 == tile3 == tile4 == tile_sign:\n",
        "                return True\n",
        "            \n",
        "    return False"
      ],
      "id": "0c320750",
      "execution_count": 14,
      "outputs": []
    },
    {
      "cell_type": "markdown",
      "metadata": {
        "id": "7a1d510f"
      },
      "source": [
        "Do not forget to switch the player for next player's turn"
      ],
      "id": "7a1d510f"
    },
    {
      "cell_type": "code",
      "metadata": {
        "id": "c8a4d1f4"
      },
      "source": [
        "if player == 'player1':\n",
        "    player = 'player2'\n",
        "else:\n",
        "    player = 'player1'"
      ],
      "id": "c8a4d1f4",
      "execution_count": 15,
      "outputs": []
    },
    {
      "cell_type": "markdown",
      "metadata": {
        "id": "3782cbd4"
      },
      "source": [
        "### Complete game (using all the above functions in use)"
      ],
      "id": "3782cbd4"
    },
    {
      "cell_type": "code",
      "metadata": {
        "id": "615fb276"
      },
      "source": [
        "def getNewBoard():\n",
        "    board = {}\n",
        "    for rowIndex in range(1,7):\n",
        "        for columnIndex in range(1,8):\n",
        "            board[(rowIndex, columnIndex)] = '.'\n",
        "    return board\n",
        "\n",
        "\n",
        "def displayBoard(board):\n",
        "    indexList = []\n",
        "    for rowIndex in range(1,7):\n",
        "        for columnIndex in range(1,8):\n",
        "            indexList.append(board[(rowIndex, columnIndex)])\n",
        "    print(\"\"\"\n",
        "      1 2 3 4 5 6 7\n",
        "     +- - - - - - -+\n",
        "    1|{} {} {} {} {} {} {}|\n",
        "    2|{} {} {} {} {} {} {}|\n",
        "    3|{} {} {} {} {} {} {}|\n",
        "    4|{} {} {} {} {} {} {}|\n",
        "    5|{} {} {} {} {} {} {}|\n",
        "    6|{} {} {} {} {} {} {}|\n",
        "     +- - - - - - -+\n",
        "    \"\"\".format(*indexList))\n",
        "    \n",
        "def askForMove(input_index_list, tile_sign, board):\n",
        "    player_row_index = int(input('Enter row index: '))\n",
        "    player_column_index = int(input('Enter column index: '))\n",
        "    \n",
        "    while True:\n",
        "        if (player_row_index,player_column_index) not in board.keys():\n",
        "            print(\"Invalid Entry\")\n",
        "            player_row_index = int(input('Enter row index: '))\n",
        "            player_column_index = int(input('Enter column index: '))\n",
        "            continue\n",
        "        else:\n",
        "            if (player_row_index,player_column_index) in input_index_list:\n",
        "                print('This place is already filled')\n",
        "                player_row_index = int(input('Enter row index: '))\n",
        "                player_column_index = int(input('Enter column index: '))\n",
        "                continue\n",
        "            else:\n",
        "                board[(player_row_index, player_column_index)] = tile_sign\n",
        "                input_index_list.append((player_row_index, player_column_index))\n",
        "                return board\n",
        "            \n",
        "def isFull(board):\n",
        "    for rowIndex in range(1,7):\n",
        "        for columnIndex in range(1,8):\n",
        "            if board[(columnIndex, rowIndex)] == '.':\n",
        "                return False # Found an empty space, so return False.\n",
        "    return True\n",
        "\n",
        "def isWinner(tile_sign, board):\n",
        "    for columnIndex in range(1,5):\n",
        "        for rowIndex in range(1,7):\n",
        "            # Check for horizontal four-in-a-row going right:\n",
        "            tile1 = board[(rowIndex, columnIndex)]\n",
        "            tile2 = board[(rowIndex, columnIndex + 1)]\n",
        "            tile3 = board[(rowIndex, columnIndex + 2)]\n",
        "            tile4 = board[(rowIndex, columnIndex + 3)]\n",
        "            if tile1 == tile2 == tile3 == tile4 == tile_sign:\n",
        "                return True\n",
        "            \n",
        "    for columnIndex in range(1,8):\n",
        "        for rowIndex in range(1,4):\n",
        "            # Check for vertical four-in-a-row going down:\n",
        "            tile1 = board[(rowIndex, columnIndex)]\n",
        "            tile2 = board[(rowIndex + 1, columnIndex)]\n",
        "            tile3 = board[(rowIndex + 2, columnIndex)]\n",
        "            tile4 = board[(rowIndex + 3, columnIndex)]\n",
        "            if tile1 == tile2 == tile3 == tile4 == tile_sign:\n",
        "                return True\n",
        "            \n",
        "    for columnIndex in range(1,5):\n",
        "        for rowIndex in range(1,4):\n",
        "            # Check for four-in-a-row going right-down diagonal:\n",
        "            tile1 = board[(rowIndex, columnIndex)]\n",
        "            tile2 = board[(rowIndex + 1, columnIndex + 1)]\n",
        "            tile3 = board[(rowIndex + 2, columnIndex + 2)]\n",
        "            tile4 = board[(rowIndex + 3, columnIndex + 3)]\n",
        "            if tile1 == tile2 == tile3 == tile4 == tile_sign:\n",
        "                return True\n",
        "            # Check for four-in-a-row going left-down diagonal:\n",
        "            tile1 = board[(rowIndex, columnIndex + 3)]\n",
        "            tile2 = board[(rowIndex + 1, columnIndex + 2)]\n",
        "            tile3 = board[(rowIndex + 2, columnIndex + 1)]\n",
        "            tile4 = board[(rowIndex + 3, columnIndex)]\n",
        "            if tile1 == tile2 == tile3 == tile4 == tile_sign:\n",
        "                return True\n",
        "            \n",
        "    return False\n",
        "\n",
        "def FourInARow():\n",
        "    player = 'player1'\n",
        "    gameBoard = getNewBoard()\n",
        "    input_index_list = []\n",
        "    displayBoard(gameBoard)\n",
        "    \n",
        "    while True:        \n",
        "        if player == 'player1':\n",
        "            player_sign = 'X'\n",
        "        else:\n",
        "            player_sign = 'O'\n",
        "\n",
        "        tile_sign = player_sign\n",
        "\n",
        "        print(f'{player.upper()} uses the tile sign {tile_sign}')\n",
        "\n",
        "        gameBoard = askForMove(input_index_list, tile_sign, gameBoard)\n",
        "\n",
        "        displayBoard(gameBoard)\n",
        "        \n",
        "        if isWinner(tile_sign, gameBoard):\n",
        "            return (player.upper() + \" won!!\")\n",
        "        elif isFull(gameBoard):\n",
        "            return (\"Board is full. Start new game.\")\n",
        "\n",
        "        if player == 'player1':\n",
        "            player = 'player2'\n",
        "        else:\n",
        "            player = 'player1'"
      ],
      "id": "615fb276",
      "execution_count": 16,
      "outputs": []
    },
    {
      "cell_type": "code",
      "metadata": {
        "colab": {
          "base_uri": "https://localhost:8080/",
          "height": 1000
        },
        "id": "16481bda",
        "outputId": "42ad866b-cba7-4889-efb7-1367fb9f6ca4"
      },
      "source": [
        "FourInARow()"
      ],
      "id": "16481bda",
      "execution_count": 17,
      "outputs": [
        {
          "name": "stdout",
          "output_type": "stream",
          "text": [
            "\n",
            "      1 2 3 4 5 6 7\n",
            "     +- - - - - - -+\n",
            "    1|. . . . . . .|\n",
            "    2|. . . . . . .|\n",
            "    3|. . . . . . .|\n",
            "    4|. . . . . . .|\n",
            "    5|. . . . . . .|\n",
            "    6|. . . . . . .|\n",
            "     +- - - - - - -+\n",
            "    \n",
            "PLAYER1 uses the tile sign X\n",
            "Enter row index: 2\n",
            "Enter column index: 1\n",
            "\n",
            "      1 2 3 4 5 6 7\n",
            "     +- - - - - - -+\n",
            "    1|. . . . . . .|\n",
            "    2|X . . . . . .|\n",
            "    3|. . . . . . .|\n",
            "    4|. . . . . . .|\n",
            "    5|. . . . . . .|\n",
            "    6|. . . . . . .|\n",
            "     +- - - - - - -+\n",
            "    \n",
            "PLAYER2 uses the tile sign O\n",
            "Enter row index: 2\n",
            "Enter column index: 1\n",
            "This place is already filled\n",
            "Enter row index: 2\n",
            "Enter column index: 5\n",
            "\n",
            "      1 2 3 4 5 6 7\n",
            "     +- - - - - - -+\n",
            "    1|. . . . . . .|\n",
            "    2|X . . . O . .|\n",
            "    3|. . . . . . .|\n",
            "    4|. . . . . . .|\n",
            "    5|. . . . . . .|\n",
            "    6|. . . . . . .|\n",
            "     +- - - - - - -+\n",
            "    \n",
            "PLAYER1 uses the tile sign X\n",
            "Enter row index: \n"
          ]
        },
        {
          "output_type": "error",
          "ename": "ValueError",
          "evalue": "ignored",
          "traceback": [
            "\u001b[0;31m---------------------------------------------------------------------------\u001b[0m",
            "\u001b[0;31mValueError\u001b[0m                                Traceback (most recent call last)",
            "\u001b[0;32m<ipython-input-17-8550c3f53b88>\u001b[0m in \u001b[0;36m<module>\u001b[0;34m()\u001b[0m\n\u001b[0;32m----> 1\u001b[0;31m \u001b[0mFourInARow\u001b[0m\u001b[0;34m(\u001b[0m\u001b[0;34m)\u001b[0m\u001b[0;34m\u001b[0m\u001b[0;34m\u001b[0m\u001b[0m\n\u001b[0m",
            "\u001b[0;32m<ipython-input-16-f38005908dc5>\u001b[0m in \u001b[0;36mFourInARow\u001b[0;34m()\u001b[0m\n\u001b[1;32m    108\u001b[0m         \u001b[0mprint\u001b[0m\u001b[0;34m(\u001b[0m\u001b[0;34mf'{player.upper()} uses the tile sign {tile_sign}'\u001b[0m\u001b[0;34m)\u001b[0m\u001b[0;34m\u001b[0m\u001b[0;34m\u001b[0m\u001b[0m\n\u001b[1;32m    109\u001b[0m \u001b[0;34m\u001b[0m\u001b[0m\n\u001b[0;32m--> 110\u001b[0;31m         \u001b[0mgameBoard\u001b[0m \u001b[0;34m=\u001b[0m \u001b[0maskForMove\u001b[0m\u001b[0;34m(\u001b[0m\u001b[0minput_index_list\u001b[0m\u001b[0;34m,\u001b[0m \u001b[0mtile_sign\u001b[0m\u001b[0;34m,\u001b[0m \u001b[0mgameBoard\u001b[0m\u001b[0;34m)\u001b[0m\u001b[0;34m\u001b[0m\u001b[0;34m\u001b[0m\u001b[0m\n\u001b[0m\u001b[1;32m    111\u001b[0m \u001b[0;34m\u001b[0m\u001b[0m\n\u001b[1;32m    112\u001b[0m         \u001b[0mdisplayBoard\u001b[0m\u001b[0;34m(\u001b[0m\u001b[0mgameBoard\u001b[0m\u001b[0;34m)\u001b[0m\u001b[0;34m\u001b[0m\u001b[0;34m\u001b[0m\u001b[0m\n",
            "\u001b[0;32m<ipython-input-16-f38005908dc5>\u001b[0m in \u001b[0;36maskForMove\u001b[0;34m(input_index_list, tile_sign, board)\u001b[0m\n\u001b[1;32m     25\u001b[0m \u001b[0;34m\u001b[0m\u001b[0m\n\u001b[1;32m     26\u001b[0m \u001b[0;32mdef\u001b[0m \u001b[0maskForMove\u001b[0m\u001b[0;34m(\u001b[0m\u001b[0minput_index_list\u001b[0m\u001b[0;34m,\u001b[0m \u001b[0mtile_sign\u001b[0m\u001b[0;34m,\u001b[0m \u001b[0mboard\u001b[0m\u001b[0;34m)\u001b[0m\u001b[0;34m:\u001b[0m\u001b[0;34m\u001b[0m\u001b[0;34m\u001b[0m\u001b[0m\n\u001b[0;32m---> 27\u001b[0;31m     \u001b[0mplayer_row_index\u001b[0m \u001b[0;34m=\u001b[0m \u001b[0mint\u001b[0m\u001b[0;34m(\u001b[0m\u001b[0minput\u001b[0m\u001b[0;34m(\u001b[0m\u001b[0;34m'Enter row index: '\u001b[0m\u001b[0;34m)\u001b[0m\u001b[0;34m)\u001b[0m\u001b[0;34m\u001b[0m\u001b[0;34m\u001b[0m\u001b[0m\n\u001b[0m\u001b[1;32m     28\u001b[0m     \u001b[0mplayer_column_index\u001b[0m \u001b[0;34m=\u001b[0m \u001b[0mint\u001b[0m\u001b[0;34m(\u001b[0m\u001b[0minput\u001b[0m\u001b[0;34m(\u001b[0m\u001b[0;34m'Enter column index: '\u001b[0m\u001b[0;34m)\u001b[0m\u001b[0;34m)\u001b[0m\u001b[0;34m\u001b[0m\u001b[0;34m\u001b[0m\u001b[0m\n\u001b[1;32m     29\u001b[0m \u001b[0;34m\u001b[0m\u001b[0m\n",
            "\u001b[0;31mValueError\u001b[0m: invalid literal for int() with base 10: ''"
          ]
        }
      ]
    },
    {
      "cell_type": "markdown",
      "metadata": {
        "id": "szbKqjcUM7_S"
      },
      "source": [
        "### Congratulations !!!\n",
        "\n",
        "Kudos to you. :clap: :clap: You have added another feather to your hat. This game you've developed is mostly based on your knowledge of how to traverse through 2D frame of game and check the conditions of game winning. "
      ],
      "id": "szbKqjcUM7_S"
    }
  ]
}