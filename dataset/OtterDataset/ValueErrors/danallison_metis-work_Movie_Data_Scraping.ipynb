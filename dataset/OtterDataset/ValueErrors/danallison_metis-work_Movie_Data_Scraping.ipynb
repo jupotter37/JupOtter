{
 "cells": [
  {
   "cell_type": "code",
   "execution_count": 1,
   "metadata": {},
   "outputs": [],
   "source": [
    "import requests\n",
    "from time import sleep\n",
    "from bs4 import BeautifulSoup\n",
    "import csv\n",
    "\n",
    "import numpy as np\n",
    "import pandas as pd\n",
    "import matplotlib.pyplot as plt\n",
    "%matplotlib inline\n",
    "plt.style.use('seaborn-darkgrid')"
   ]
  },
  {
   "cell_type": "markdown",
   "metadata": {},
   "source": [
    "## Gettings the URLs for all the movies\n",
    "\n",
    "1. Get the URLs for the major studios.\n",
    "2. For each major studio, get the URLs for all the pages of movies for that studio.\n",
    "3. For each page of movies, get the URLs of each individual movie."
   ]
  },
  {
   "cell_type": "code",
   "execution_count": 2,
   "metadata": {},
   "outputs": [],
   "source": [
    "response = requests.get('http://www.boxofficemojo.com/studio/?view2=allstudios&view=company&p=.htm')"
   ]
  },
  {
   "cell_type": "code",
   "execution_count": 3,
   "metadata": {},
   "outputs": [],
   "source": [
    "soup = BeautifulSoup(response.text,\"lxml\")\n",
    "tables = soup.find_all('table')"
   ]
  },
  {
   "cell_type": "code",
   "execution_count": 9,
   "metadata": {},
   "outputs": [],
   "source": [
    "hrefs = list(map((lambda a: a['href']), tables[3].find_all('a')))"
   ]
  },
  {
   "cell_type": "code",
   "execution_count": 10,
   "metadata": {},
   "outputs": [
    {
     "data": {
      "text/plain": [
       "['chart/?view=company&view2=allmovies&studio=fox.htm',\n",
       " 'chart/?view=company&view2=allmovies&studio=paramount.htm',\n",
       " 'chart/?view=company&view2=allmovies&studio=buenavista.htm',\n",
       " 'chart/?view=company&view2=allmovies&studio=paramountclassics.htm',\n",
       " 'chart/?view=company&view2=allmovies&studio=dreamworks.htm',\n",
       " 'chart/?view=company&view2=allmovies&studio=sonyrepertory.htm',\n",
       " 'chart/?view=company&view2=allmovies&studio=focus.htm',\n",
       " 'chart/?view=company&view2=allmovies&studio=sonyclassics.htm',\n",
       " 'chart/?view=company&view2=allmovies&studio=foxsearchlight.htm',\n",
       " 'chart/?view=company&view2=allmovies&studio=universal.htm',\n",
       " 'chart/?view=company&view2=allmovies&studio=lionsgate.htm',\n",
       " 'chart/?view=company&view2=allmovies&studio=warnerbros.htm',\n",
       " 'chart/?view=company&view2=allmovies&studio=ua.htm',\n",
       " 'chart/?view=company&view2=allmovies&studio=wip.htm',\n",
       " 'chart/?view=company&view2=allmovies&studio=miramax.htm',\n",
       " 'chart/?view=company&view2=allmovies&studio=weinsteincompany.htm',\n",
       " 'chart/?view=company&view2=allmovies&studio=newline.htm',\n",
       " 'chart/?view=company&view2=allmovies&studio=']"
      ]
     },
     "execution_count": 10,
     "metadata": {},
     "output_type": "execute_result"
    }
   ],
   "source": [
    "hrefs"
   ]
  },
  {
   "cell_type": "code",
   "execution_count": 11,
   "metadata": {},
   "outputs": [],
   "source": [
    "studio_urls = list(map((lambda href: 'http://www.boxofficemojo.com/studio/{}'.format(href)), hrefs))"
   ]
  },
  {
   "cell_type": "code",
   "execution_count": 12,
   "metadata": {},
   "outputs": [
    {
     "data": {
      "text/plain": [
       "['http://www.boxofficemojo.com/studio/chart/?view=company&view2=allmovies&studio=fox.htm',\n",
       " 'http://www.boxofficemojo.com/studio/chart/?view=company&view2=allmovies&studio=paramount.htm',\n",
       " 'http://www.boxofficemojo.com/studio/chart/?view=company&view2=allmovies&studio=buenavista.htm',\n",
       " 'http://www.boxofficemojo.com/studio/chart/?view=company&view2=allmovies&studio=paramountclassics.htm',\n",
       " 'http://www.boxofficemojo.com/studio/chart/?view=company&view2=allmovies&studio=dreamworks.htm',\n",
       " 'http://www.boxofficemojo.com/studio/chart/?view=company&view2=allmovies&studio=sonyrepertory.htm',\n",
       " 'http://www.boxofficemojo.com/studio/chart/?view=company&view2=allmovies&studio=focus.htm',\n",
       " 'http://www.boxofficemojo.com/studio/chart/?view=company&view2=allmovies&studio=sonyclassics.htm',\n",
       " 'http://www.boxofficemojo.com/studio/chart/?view=company&view2=allmovies&studio=foxsearchlight.htm',\n",
       " 'http://www.boxofficemojo.com/studio/chart/?view=company&view2=allmovies&studio=universal.htm',\n",
       " 'http://www.boxofficemojo.com/studio/chart/?view=company&view2=allmovies&studio=lionsgate.htm',\n",
       " 'http://www.boxofficemojo.com/studio/chart/?view=company&view2=allmovies&studio=warnerbros.htm',\n",
       " 'http://www.boxofficemojo.com/studio/chart/?view=company&view2=allmovies&studio=ua.htm',\n",
       " 'http://www.boxofficemojo.com/studio/chart/?view=company&view2=allmovies&studio=wip.htm',\n",
       " 'http://www.boxofficemojo.com/studio/chart/?view=company&view2=allmovies&studio=miramax.htm',\n",
       " 'http://www.boxofficemojo.com/studio/chart/?view=company&view2=allmovies&studio=weinsteincompany.htm',\n",
       " 'http://www.boxofficemojo.com/studio/chart/?view=company&view2=allmovies&studio=newline.htm',\n",
       " 'http://www.boxofficemojo.com/studio/chart/?view=company&view2=allmovies&studio=']"
      ]
     },
     "execution_count": 12,
     "metadata": {},
     "output_type": "execute_result"
    }
   ],
   "source": [
    "studio_urls"
   ]
  },
  {
   "cell_type": "code",
   "execution_count": 13,
   "metadata": {},
   "outputs": [],
   "source": [
    "response = requests.get('http://www.boxofficemojo.com/studio/chart/?view=company&view2=allmovies&studio=fox.htm')"
   ]
  },
  {
   "cell_type": "code",
   "execution_count": 14,
   "metadata": {},
   "outputs": [],
   "source": [
    "soup = BeautifulSoup(response.text,\"lxml\")"
   ]
  },
  {
   "cell_type": "code",
   "execution_count": 25,
   "metadata": {},
   "outputs": [
    {
     "data": {
      "text/plain": [
       "['/movies/?id=avatar.htm',\n",
       " '/movies/?id=starwars.htm',\n",
       " '/movies/?id=starwars3.htm',\n",
       " '/movies/?id=deadpool2016.htm',\n",
       " '/movies/?id=starwars4.htm',\n",
       " '/movies/?id=independenceday.htm',\n",
       " '/movies/?id=starwars2.htm',\n",
       " '/movies/?id=homealone.htm',\n",
       " '/movies/?id=starwars6.htm',\n",
       " '/movies/?id=nightatthemuseum.htm',\n",
       " '/movies/?id=x3.htm',\n",
       " '/movies/?id=xmen2014.htm',\n",
       " '/movies/?id=castaway.htm',\n",
       " '/movies/?id=scott2016.htm',\n",
       " '/movies/?id=wolverine2017.htm',\n",
       " '/movies/?id=alvinandthechipmunksii.htm',\n",
       " '/movies/?id=mrsdoubtfire.htm',\n",
       " '/movies/?id=alvinandthechipmunks.htm',\n",
       " '/movies/?id=x2.htm',\n",
       " '/movies/?id=starwars5.htm',\n",
       " '/movies/?id=dawnoftheapes.htm',\n",
       " '/movies/?id=iceage3.htm',\n",
       " '/movies/?id=iceage2.htm',\n",
       " '/movies/?id=croods.htm',\n",
       " '/movies/?id=dayaftertomorrow.htm',\n",
       " '/movies/?id=mrandmrssmith.htm',\n",
       " '/movies/?id=revenant.htm',\n",
       " '/movies/?id=simpsons.htm',\n",
       " '/movies/?id=planetoftheapes01.htm',\n",
       " '/movies/?id=wolverine.htm',\n",
       " '/movies/?id=happysmekday.htm',\n",
       " '/movies/?id=nightatthemuseum2.htm',\n",
       " '/movies/?id=howtotrainyourdragon2.htm',\n",
       " '/movies/?id=riseoftheapes.htm',\n",
       " '/movies/?id=somethingaboutmary.htm',\n",
       " '/movies/?id=iceage.htm',\n",
       " '/movies/?id=bossbaby.htm',\n",
       " '/movies/?id=homealone2.htm',\n",
       " '/movies/?id=greatestshowman.htm',\n",
       " '/movies/?id=hiddenfigures.htm',\n",
       " '/movies/?id=gonegirl.htm',\n",
       " '/movies/?id=iceage4.htm',\n",
       " '/movies/?id=bullockmccarthy.htm',\n",
       " '/movies/?id=soundofmusic.htm',\n",
       " '/movies/?id=xmen.htm',\n",
       " '/movies/?id=x-men2016.htm',\n",
       " '/movies/?id=fantasticfour.htm',\n",
       " '/movies/?id=hortonhearsawho.htm',\n",
       " '/movies/?id=trolls.htm',\n",
       " '/movies/?id=planetoftheapes16.htm',\n",
       " '/movies/?id=xmenfirstclass.htm',\n",
       " '/movies/?id=truelies.htm',\n",
       " '/movies/?id=taken.htm',\n",
       " '/movies/?id=irobot.htm',\n",
       " '/movies/?id=drdolittle.htm',\n",
       " '/movies/?id=rio.htm',\n",
       " '/movies/?id=kungfupanda3.htm',\n",
       " '/movies/?id=marleyandme.htm',\n",
       " '/movies/?id=taken2.htm',\n",
       " '/movies/?id=cheaperbythedozen.htm',\n",
       " '/movies/?id=starwars4se.htm',\n",
       " '/movies/?id=diehard4.htm',\n",
       " '/movies/?id=alvin3d.htm',\n",
       " '/movies/?id=wolverine2.htm',\n",
       " '/movies/?id=minorityreport.htm',\n",
       " '/movies/?id=fantasticfour2.htm',\n",
       " '/movies/?id=rio2.htm',\n",
       " '/movies/?id=peanuts2015.htm',\n",
       " '/movies/?id=borat.htm',\n",
       " '/movies/?id=secretservice.htm',\n",
       " '/movies/?id=robots.htm',\n",
       " '/movies/?id=prometheus.htm',\n",
       " '/movies/?id=lifeofpi.htm',\n",
       " '/movies/?id=faultinourstars.htm',\n",
       " '/movies/?id=devilwearsprada.htm',\n",
       " '/movies/?id=speed.htm',\n",
       " '/movies/?id=walktheline.htm',\n",
       " '/movies/?id=bigmommashouse.htm',\n",
       " '/movies/?id=diehard2.htm',\n",
       " '/movies/?id=toweringinferno.htm',\n",
       " '/movies/?id=big.htm',\n",
       " '/movies/?id=dodgeball.htm',\n",
       " '/movies/?id=nightatthemuseum3.htm',\n",
       " '/movies/?id=drdolittle2.htm',\n",
       " '/movies/?id=rockyhorrorpictureshow.htm',\n",
       " '/movies/?id=mrpeabodyandsherman.htm',\n",
       " '/movies/?id=susancooper.htm',\n",
       " '/movies/?id=leafmen.htm',\n",
       " '/movies/?id=porkys.htm',\n",
       " '/movies/?id=narnia3.htm',\n",
       " '/movies/?id=9to5.htm',\n",
       " '/movies/?id=id42.htm',\n",
       " '/movies/?id=murderorientexpress17.htm',\n",
       " '/movies/?id=daredevil.htm',\n",
       " '/movies/?id=mazerunner.htm',\n",
       " '/movies/?id=butchcassidyandthesundancekid.htm',\n",
       " '/movies/?id=sleepingwiththeenemy.htm',\n",
       " '/movies/?id=kingsman2.htm',\n",
       " '/movies/?id=diehardwithavengeance.htm',\n",
       " '/movies/?id=datenight.htm']"
      ]
     },
     "execution_count": 25,
     "metadata": {},
     "output_type": "execute_result"
    }
   ],
   "source": [
    "# main_container = soup.find('div', {'id':'body'})\n",
    "# container = main_container.find('center')\n",
    "# hrefs = list(map((lambda a: a['href']), container.find_all('a')))\n",
    "# hrefs\n",
    "tables = soup.find_all('table')\n",
    "rows = tables[2].find_all('tr')[1:]\n",
    "hrefs = [row.find('a')['href'] for row in rows if row.find('a')]\n",
    "hrefs"
   ]
  },
  {
   "cell_type": "code",
   "execution_count": 29,
   "metadata": {},
   "outputs": [],
   "source": [
    "def get_studio_urls():\n",
    "    response = requests.get('http://www.boxofficemojo.com/studio/?view2=allstudios&view=company&p=.htm')\n",
    "    soup = BeautifulSoup(response.text,\"lxml\")\n",
    "    tables = soup.find_all('table')\n",
    "    hrefs = [a['href'] for a in tables[3].find_all('a')]\n",
    "    studio_urls = ['http://www.boxofficemojo.com/studio/{}'.format(href) for href in hrefs]\n",
    "    if studio_urls[-1] == 'http://www.boxofficemojo.com/studio/chart/?view=company&view2=allmovies&studio=':\n",
    "        studio_urls.pop()\n",
    "    return studio_urls\n",
    "\n",
    "def get_additional_page_urls_for_studio(studio_url):\n",
    "    response = requests.get(studio_url)\n",
    "    soup = BeautifulSoup(response.text,\"lxml\")\n",
    "    main_container = soup.find('div', {'id':'body'})\n",
    "    container = main_container.find('center')\n",
    "    if not container: return []\n",
    "    hrefs = [a['href'] for a in container.find_all('a')]\n",
    "    page_urls = ['http://www.boxofficemojo.com{}'.format(href) for href in hrefs]\n",
    "    return page_urls\n",
    "\n",
    "def get_movie_urls_from_studio_page(studio_page_url):\n",
    "    response = requests.get(studio_page_url)\n",
    "    soup = BeautifulSoup(response.text,\"lxml\")\n",
    "    tables = soup.find_all('table')\n",
    "    rows = tables[2].find_all('tr')[1:]\n",
    "    hrefs = [row.find('a')['href'] for row in rows if row.find('a')]\n",
    "    movie_urls = ['http://www.boxofficemojo.com{}'.format(href) for href in hrefs]\n",
    "    return movie_urls"
   ]
  },
  {
   "cell_type": "code",
   "execution_count": 30,
   "metadata": {},
   "outputs": [],
   "source": [
    "studio_urls = get_studio_urls()\n",
    "studio_page_urls = []\n",
    "for studio_url in studio_urls:\n",
    "    sleep(0.2)\n",
    "    studio_page_urls.append(studio_url)\n",
    "    studio_page_urls += get_additional_page_urls_for_studio(studio_url)"
   ]
  },
  {
   "cell_type": "code",
   "execution_count": 32,
   "metadata": {},
   "outputs": [
    {
     "data": {
      "text/plain": [
       "78"
      ]
     },
     "execution_count": 32,
     "metadata": {},
     "output_type": "execute_result"
    }
   ],
   "source": [
    "len(studio_page_urls)"
   ]
  },
  {
   "cell_type": "code",
   "execution_count": 33,
   "metadata": {},
   "outputs": [],
   "source": [
    "movie_urls = []\n",
    "for studio_page_url in studio_page_urls:\n",
    "    sleep(0.2)\n",
    "    movie_urls += get_movie_urls_from_studio_page(studio_page_url)"
   ]
  },
  {
   "cell_type": "code",
   "execution_count": 34,
   "metadata": {},
   "outputs": [
    {
     "data": {
      "text/plain": [
       "6928"
      ]
     },
     "execution_count": 34,
     "metadata": {},
     "output_type": "execute_result"
    }
   ],
   "source": [
    "len(movie_urls)"
   ]
  },
  {
   "cell_type": "code",
   "execution_count": 36,
   "metadata": {},
   "outputs": [
    {
     "data": {
      "text/plain": [
       "['http://www.boxofficemojo.com/movies/?id=judgmentinberlin.htm',\n",
       " 'http://www.boxofficemojo.com/movies/?id=eattherich.htm',\n",
       " 'http://www.boxofficemojo.com/movies/?id=nightflier.htm',\n",
       " 'http://www.boxofficemojo.com/movies/?id=chicagojoeandtheshowgirl.htm',\n",
       " 'http://www.boxofficemojo.com/movies/?id=foolsoffortune.htm',\n",
       " 'http://www.boxofficemojo.com/movies/?id=nakedtango.htm',\n",
       " 'http://www.boxofficemojo.com/movies/?id=shadowofchina.htm',\n",
       " 'http://www.boxofficemojo.com/movies/?id=nothingbutthetruth.htm',\n",
       " 'http://www.boxofficemojo.com/movies/?id=princeofpennsylvania.htm',\n",
       " 'http://www.boxofficemojo.com/movies/?id=hitlist.htm']"
      ]
     },
     "execution_count": 36,
     "metadata": {},
     "output_type": "execute_result"
    }
   ],
   "source": [
    "movie_urls[-10:]"
   ]
  },
  {
   "cell_type": "code",
   "execution_count": 81,
   "metadata": {},
   "outputs": [
    {
     "name": "stdout",
     "output_type": "stream",
     "text": [
      "92.2% complete after 53 minutes and 49 seconds\r"
     ]
    },
    {
     "ename": "ChunkedEncodingError",
     "evalue": "('Connection broken: IncompleteRead(0 bytes read)', IncompleteRead(0 bytes read))",
     "output_type": "error",
     "traceback": [
      "\u001b[0;31m---------------------------------------------------------------------------\u001b[0m",
      "\u001b[0;31mValueError\u001b[0m                                Traceback (most recent call last)",
      "\u001b[0;32m~/anaconda3/lib/python3.6/site-packages/urllib3/response.py\u001b[0m in \u001b[0;36m_update_chunk_length\u001b[0;34m(self)\u001b[0m\n\u001b[1;32m    542\u001b[0m         \u001b[0;32mtry\u001b[0m\u001b[0;34m:\u001b[0m\u001b[0;34m\u001b[0m\u001b[0m\n\u001b[0;32m--> 543\u001b[0;31m             \u001b[0mself\u001b[0m\u001b[0;34m.\u001b[0m\u001b[0mchunk_left\u001b[0m \u001b[0;34m=\u001b[0m \u001b[0mint\u001b[0m\u001b[0;34m(\u001b[0m\u001b[0mline\u001b[0m\u001b[0;34m,\u001b[0m \u001b[0;36m16\u001b[0m\u001b[0;34m)\u001b[0m\u001b[0;34m\u001b[0m\u001b[0m\n\u001b[0m\u001b[1;32m    544\u001b[0m         \u001b[0;32mexcept\u001b[0m \u001b[0mValueError\u001b[0m\u001b[0;34m:\u001b[0m\u001b[0;34m\u001b[0m\u001b[0m\n",
      "\u001b[0;31mValueError\u001b[0m: invalid literal for int() with base 16: b''",
      "\nDuring handling of the above exception, another exception occurred:\n",
      "\u001b[0;31mIncompleteRead\u001b[0m                            Traceback (most recent call last)",
      "\u001b[0;32m~/anaconda3/lib/python3.6/site-packages/urllib3/response.py\u001b[0m in \u001b[0;36m_error_catcher\u001b[0;34m(self)\u001b[0m\n\u001b[1;32m    301\u001b[0m             \u001b[0;32mtry\u001b[0m\u001b[0;34m:\u001b[0m\u001b[0;34m\u001b[0m\u001b[0m\n\u001b[0;32m--> 302\u001b[0;31m                 \u001b[0;32myield\u001b[0m\u001b[0;34m\u001b[0m\u001b[0m\n\u001b[0m\u001b[1;32m    303\u001b[0m \u001b[0;34m\u001b[0m\u001b[0m\n",
      "\u001b[0;32m~/anaconda3/lib/python3.6/site-packages/urllib3/response.py\u001b[0m in \u001b[0;36mread_chunked\u001b[0;34m(self, amt, decode_content)\u001b[0m\n\u001b[1;32m    597\u001b[0m             \u001b[0;32mwhile\u001b[0m \u001b[0;32mTrue\u001b[0m\u001b[0;34m:\u001b[0m\u001b[0;34m\u001b[0m\u001b[0m\n\u001b[0;32m--> 598\u001b[0;31m                 \u001b[0mself\u001b[0m\u001b[0;34m.\u001b[0m\u001b[0m_update_chunk_length\u001b[0m\u001b[0;34m(\u001b[0m\u001b[0;34m)\u001b[0m\u001b[0;34m\u001b[0m\u001b[0m\n\u001b[0m\u001b[1;32m    599\u001b[0m                 \u001b[0;32mif\u001b[0m \u001b[0mself\u001b[0m\u001b[0;34m.\u001b[0m\u001b[0mchunk_left\u001b[0m \u001b[0;34m==\u001b[0m \u001b[0;36m0\u001b[0m\u001b[0;34m:\u001b[0m\u001b[0;34m\u001b[0m\u001b[0m\n",
      "\u001b[0;32m~/anaconda3/lib/python3.6/site-packages/urllib3/response.py\u001b[0m in \u001b[0;36m_update_chunk_length\u001b[0;34m(self)\u001b[0m\n\u001b[1;32m    546\u001b[0m             \u001b[0mself\u001b[0m\u001b[0;34m.\u001b[0m\u001b[0mclose\u001b[0m\u001b[0;34m(\u001b[0m\u001b[0;34m)\u001b[0m\u001b[0;34m\u001b[0m\u001b[0m\n\u001b[0;32m--> 547\u001b[0;31m             \u001b[0;32mraise\u001b[0m \u001b[0mhttplib\u001b[0m\u001b[0;34m.\u001b[0m\u001b[0mIncompleteRead\u001b[0m\u001b[0;34m(\u001b[0m\u001b[0mline\u001b[0m\u001b[0;34m)\u001b[0m\u001b[0;34m\u001b[0m\u001b[0m\n\u001b[0m\u001b[1;32m    548\u001b[0m \u001b[0;34m\u001b[0m\u001b[0m\n",
      "\u001b[0;31mIncompleteRead\u001b[0m: IncompleteRead(0 bytes read)",
      "\nDuring handling of the above exception, another exception occurred:\n",
      "\u001b[0;31mProtocolError\u001b[0m                             Traceback (most recent call last)",
      "\u001b[0;32m~/anaconda3/lib/python3.6/site-packages/requests/models.py\u001b[0m in \u001b[0;36mgenerate\u001b[0;34m()\u001b[0m\n\u001b[1;32m    744\u001b[0m                 \u001b[0;32mtry\u001b[0m\u001b[0;34m:\u001b[0m\u001b[0;34m\u001b[0m\u001b[0m\n\u001b[0;32m--> 745\u001b[0;31m                     \u001b[0;32mfor\u001b[0m \u001b[0mchunk\u001b[0m \u001b[0;32min\u001b[0m \u001b[0mself\u001b[0m\u001b[0;34m.\u001b[0m\u001b[0mraw\u001b[0m\u001b[0;34m.\u001b[0m\u001b[0mstream\u001b[0m\u001b[0;34m(\u001b[0m\u001b[0mchunk_size\u001b[0m\u001b[0;34m,\u001b[0m \u001b[0mdecode_content\u001b[0m\u001b[0;34m=\u001b[0m\u001b[0;32mTrue\u001b[0m\u001b[0;34m)\u001b[0m\u001b[0;34m:\u001b[0m\u001b[0;34m\u001b[0m\u001b[0m\n\u001b[0m\u001b[1;32m    746\u001b[0m                         \u001b[0;32myield\u001b[0m \u001b[0mchunk\u001b[0m\u001b[0;34m\u001b[0m\u001b[0m\n",
      "\u001b[0;32m~/anaconda3/lib/python3.6/site-packages/urllib3/response.py\u001b[0m in \u001b[0;36mstream\u001b[0;34m(self, amt, decode_content)\u001b[0m\n\u001b[1;32m    431\u001b[0m         \u001b[0;32mif\u001b[0m \u001b[0mself\u001b[0m\u001b[0;34m.\u001b[0m\u001b[0mchunked\u001b[0m \u001b[0;32mand\u001b[0m \u001b[0mself\u001b[0m\u001b[0;34m.\u001b[0m\u001b[0msupports_chunked_reads\u001b[0m\u001b[0;34m(\u001b[0m\u001b[0;34m)\u001b[0m\u001b[0;34m:\u001b[0m\u001b[0;34m\u001b[0m\u001b[0m\n\u001b[0;32m--> 432\u001b[0;31m             \u001b[0;32mfor\u001b[0m \u001b[0mline\u001b[0m \u001b[0;32min\u001b[0m \u001b[0mself\u001b[0m\u001b[0;34m.\u001b[0m\u001b[0mread_chunked\u001b[0m\u001b[0;34m(\u001b[0m\u001b[0mamt\u001b[0m\u001b[0;34m,\u001b[0m \u001b[0mdecode_content\u001b[0m\u001b[0;34m=\u001b[0m\u001b[0mdecode_content\u001b[0m\u001b[0;34m)\u001b[0m\u001b[0;34m:\u001b[0m\u001b[0;34m\u001b[0m\u001b[0m\n\u001b[0m\u001b[1;32m    433\u001b[0m                 \u001b[0;32myield\u001b[0m \u001b[0mline\u001b[0m\u001b[0;34m\u001b[0m\u001b[0m\n",
      "\u001b[0;32m~/anaconda3/lib/python3.6/site-packages/urllib3/response.py\u001b[0m in \u001b[0;36mread_chunked\u001b[0;34m(self, amt, decode_content)\u001b[0m\n\u001b[1;32m    625\u001b[0m             \u001b[0;32mif\u001b[0m \u001b[0mself\u001b[0m\u001b[0;34m.\u001b[0m\u001b[0m_original_response\u001b[0m\u001b[0;34m:\u001b[0m\u001b[0;34m\u001b[0m\u001b[0m\n\u001b[0;32m--> 626\u001b[0;31m                 \u001b[0mself\u001b[0m\u001b[0;34m.\u001b[0m\u001b[0m_original_response\u001b[0m\u001b[0;34m.\u001b[0m\u001b[0mclose\u001b[0m\u001b[0;34m(\u001b[0m\u001b[0;34m)\u001b[0m\u001b[0;34m\u001b[0m\u001b[0m\n\u001b[0m",
      "\u001b[0;32m~/anaconda3/lib/python3.6/contextlib.py\u001b[0m in \u001b[0;36m__exit__\u001b[0;34m(self, type, value, traceback)\u001b[0m\n\u001b[1;32m     98\u001b[0m             \u001b[0;32mtry\u001b[0m\u001b[0;34m:\u001b[0m\u001b[0;34m\u001b[0m\u001b[0m\n\u001b[0;32m---> 99\u001b[0;31m                 \u001b[0mself\u001b[0m\u001b[0;34m.\u001b[0m\u001b[0mgen\u001b[0m\u001b[0;34m.\u001b[0m\u001b[0mthrow\u001b[0m\u001b[0;34m(\u001b[0m\u001b[0mtype\u001b[0m\u001b[0;34m,\u001b[0m \u001b[0mvalue\u001b[0m\u001b[0;34m,\u001b[0m \u001b[0mtraceback\u001b[0m\u001b[0;34m)\u001b[0m\u001b[0;34m\u001b[0m\u001b[0m\n\u001b[0m\u001b[1;32m    100\u001b[0m             \u001b[0;32mexcept\u001b[0m \u001b[0mStopIteration\u001b[0m \u001b[0;32mas\u001b[0m \u001b[0mexc\u001b[0m\u001b[0;34m:\u001b[0m\u001b[0;34m\u001b[0m\u001b[0m\n",
      "\u001b[0;32m~/anaconda3/lib/python3.6/site-packages/urllib3/response.py\u001b[0m in \u001b[0;36m_error_catcher\u001b[0;34m(self)\u001b[0m\n\u001b[1;32m    319\u001b[0m                 \u001b[0;31m# This includes IncompleteRead.\u001b[0m\u001b[0;34m\u001b[0m\u001b[0;34m\u001b[0m\u001b[0m\n\u001b[0;32m--> 320\u001b[0;31m                 \u001b[0;32mraise\u001b[0m \u001b[0mProtocolError\u001b[0m\u001b[0;34m(\u001b[0m\u001b[0;34m'Connection broken: %r'\u001b[0m \u001b[0;34m%\u001b[0m \u001b[0me\u001b[0m\u001b[0;34m,\u001b[0m \u001b[0me\u001b[0m\u001b[0;34m)\u001b[0m\u001b[0;34m\u001b[0m\u001b[0m\n\u001b[0m\u001b[1;32m    321\u001b[0m \u001b[0;34m\u001b[0m\u001b[0m\n",
      "\u001b[0;31mProtocolError\u001b[0m: ('Connection broken: IncompleteRead(0 bytes read)', IncompleteRead(0 bytes read))",
      "\nDuring handling of the above exception, another exception occurred:\n",
      "\u001b[0;31mChunkedEncodingError\u001b[0m                      Traceback (most recent call last)",
      "\u001b[0;32m<ipython-input-81-1a8f20182ca0>\u001b[0m in \u001b[0;36m<module>\u001b[0;34m()\u001b[0m\n\u001b[1;32m     15\u001b[0m     \u001b[0msleep\u001b[0m\u001b[0;34m(\u001b[0m\u001b[0;36m0.2\u001b[0m\u001b[0;34m)\u001b[0m\u001b[0;34m\u001b[0m\u001b[0m\n\u001b[1;32m     16\u001b[0m     \u001b[0mmovie_id\u001b[0m \u001b[0;34m=\u001b[0m \u001b[0murl\u001b[0m\u001b[0;34m.\u001b[0m\u001b[0msplit\u001b[0m\u001b[0;34m(\u001b[0m\u001b[0;34m'id='\u001b[0m\u001b[0;34m)\u001b[0m\u001b[0;34m[\u001b[0m\u001b[0;34m-\u001b[0m\u001b[0;36m1\u001b[0m\u001b[0;34m]\u001b[0m\u001b[0;34m.\u001b[0m\u001b[0mreplace\u001b[0m\u001b[0;34m(\u001b[0m\u001b[0;34m'.htm'\u001b[0m\u001b[0;34m,\u001b[0m\u001b[0;34m''\u001b[0m\u001b[0;34m)\u001b[0m\u001b[0;34m\u001b[0m\u001b[0m\n\u001b[0;32m---> 17\u001b[0;31m     \u001b[0mresponse\u001b[0m \u001b[0;34m=\u001b[0m \u001b[0mrequests\u001b[0m\u001b[0;34m.\u001b[0m\u001b[0mget\u001b[0m\u001b[0;34m(\u001b[0m\u001b[0murl\u001b[0m\u001b[0;34m)\u001b[0m\u001b[0;34m\u001b[0m\u001b[0m\n\u001b[0m\u001b[1;32m     18\u001b[0m     \u001b[0;32mwith\u001b[0m \u001b[0mopen\u001b[0m\u001b[0;34m(\u001b[0m\u001b[0;34m'movie_pages/{}.html'\u001b[0m\u001b[0;34m.\u001b[0m\u001b[0mformat\u001b[0m\u001b[0;34m(\u001b[0m\u001b[0mmovie_id\u001b[0m\u001b[0;34m)\u001b[0m\u001b[0;34m,\u001b[0m \u001b[0;34m'w'\u001b[0m\u001b[0;34m)\u001b[0m \u001b[0;32mas\u001b[0m \u001b[0mfile\u001b[0m\u001b[0;34m:\u001b[0m\u001b[0;34m\u001b[0m\u001b[0m\n\u001b[1;32m     19\u001b[0m         \u001b[0mfile\u001b[0m\u001b[0;34m.\u001b[0m\u001b[0mwrite\u001b[0m\u001b[0;34m(\u001b[0m\u001b[0mresponse\u001b[0m\u001b[0;34m.\u001b[0m\u001b[0mtext\u001b[0m\u001b[0;34m)\u001b[0m\u001b[0;34m\u001b[0m\u001b[0m\n",
      "\u001b[0;32m~/anaconda3/lib/python3.6/site-packages/requests/api.py\u001b[0m in \u001b[0;36mget\u001b[0;34m(url, params, **kwargs)\u001b[0m\n\u001b[1;32m     70\u001b[0m \u001b[0;34m\u001b[0m\u001b[0m\n\u001b[1;32m     71\u001b[0m     \u001b[0mkwargs\u001b[0m\u001b[0;34m.\u001b[0m\u001b[0msetdefault\u001b[0m\u001b[0;34m(\u001b[0m\u001b[0;34m'allow_redirects'\u001b[0m\u001b[0;34m,\u001b[0m \u001b[0;32mTrue\u001b[0m\u001b[0;34m)\u001b[0m\u001b[0;34m\u001b[0m\u001b[0m\n\u001b[0;32m---> 72\u001b[0;31m     \u001b[0;32mreturn\u001b[0m \u001b[0mrequest\u001b[0m\u001b[0;34m(\u001b[0m\u001b[0;34m'get'\u001b[0m\u001b[0;34m,\u001b[0m \u001b[0murl\u001b[0m\u001b[0;34m,\u001b[0m \u001b[0mparams\u001b[0m\u001b[0;34m=\u001b[0m\u001b[0mparams\u001b[0m\u001b[0;34m,\u001b[0m \u001b[0;34m**\u001b[0m\u001b[0mkwargs\u001b[0m\u001b[0;34m)\u001b[0m\u001b[0;34m\u001b[0m\u001b[0m\n\u001b[0m\u001b[1;32m     73\u001b[0m \u001b[0;34m\u001b[0m\u001b[0m\n\u001b[1;32m     74\u001b[0m \u001b[0;34m\u001b[0m\u001b[0m\n",
      "\u001b[0;32m~/anaconda3/lib/python3.6/site-packages/requests/api.py\u001b[0m in \u001b[0;36mrequest\u001b[0;34m(method, url, **kwargs)\u001b[0m\n\u001b[1;32m     56\u001b[0m     \u001b[0;31m# cases, and look like a memory leak in others.\u001b[0m\u001b[0;34m\u001b[0m\u001b[0;34m\u001b[0m\u001b[0m\n\u001b[1;32m     57\u001b[0m     \u001b[0;32mwith\u001b[0m \u001b[0msessions\u001b[0m\u001b[0;34m.\u001b[0m\u001b[0mSession\u001b[0m\u001b[0;34m(\u001b[0m\u001b[0;34m)\u001b[0m \u001b[0;32mas\u001b[0m \u001b[0msession\u001b[0m\u001b[0;34m:\u001b[0m\u001b[0;34m\u001b[0m\u001b[0m\n\u001b[0;32m---> 58\u001b[0;31m         \u001b[0;32mreturn\u001b[0m \u001b[0msession\u001b[0m\u001b[0;34m.\u001b[0m\u001b[0mrequest\u001b[0m\u001b[0;34m(\u001b[0m\u001b[0mmethod\u001b[0m\u001b[0;34m=\u001b[0m\u001b[0mmethod\u001b[0m\u001b[0;34m,\u001b[0m \u001b[0murl\u001b[0m\u001b[0;34m=\u001b[0m\u001b[0murl\u001b[0m\u001b[0;34m,\u001b[0m \u001b[0;34m**\u001b[0m\u001b[0mkwargs\u001b[0m\u001b[0;34m)\u001b[0m\u001b[0;34m\u001b[0m\u001b[0m\n\u001b[0m\u001b[1;32m     59\u001b[0m \u001b[0;34m\u001b[0m\u001b[0m\n\u001b[1;32m     60\u001b[0m \u001b[0;34m\u001b[0m\u001b[0m\n",
      "\u001b[0;32m~/anaconda3/lib/python3.6/site-packages/requests/sessions.py\u001b[0m in \u001b[0;36mrequest\u001b[0;34m(self, method, url, params, data, headers, cookies, files, auth, timeout, allow_redirects, proxies, hooks, stream, verify, cert, json)\u001b[0m\n\u001b[1;32m    506\u001b[0m         }\n\u001b[1;32m    507\u001b[0m         \u001b[0msend_kwargs\u001b[0m\u001b[0;34m.\u001b[0m\u001b[0mupdate\u001b[0m\u001b[0;34m(\u001b[0m\u001b[0msettings\u001b[0m\u001b[0;34m)\u001b[0m\u001b[0;34m\u001b[0m\u001b[0m\n\u001b[0;32m--> 508\u001b[0;31m         \u001b[0mresp\u001b[0m \u001b[0;34m=\u001b[0m \u001b[0mself\u001b[0m\u001b[0;34m.\u001b[0m\u001b[0msend\u001b[0m\u001b[0;34m(\u001b[0m\u001b[0mprep\u001b[0m\u001b[0;34m,\u001b[0m \u001b[0;34m**\u001b[0m\u001b[0msend_kwargs\u001b[0m\u001b[0;34m)\u001b[0m\u001b[0;34m\u001b[0m\u001b[0m\n\u001b[0m\u001b[1;32m    509\u001b[0m \u001b[0;34m\u001b[0m\u001b[0m\n\u001b[1;32m    510\u001b[0m         \u001b[0;32mreturn\u001b[0m \u001b[0mresp\u001b[0m\u001b[0;34m\u001b[0m\u001b[0m\n",
      "\u001b[0;32m~/anaconda3/lib/python3.6/site-packages/requests/sessions.py\u001b[0m in \u001b[0;36msend\u001b[0;34m(self, request, **kwargs)\u001b[0m\n\u001b[1;32m    656\u001b[0m \u001b[0;34m\u001b[0m\u001b[0m\n\u001b[1;32m    657\u001b[0m         \u001b[0;32mif\u001b[0m \u001b[0;32mnot\u001b[0m \u001b[0mstream\u001b[0m\u001b[0;34m:\u001b[0m\u001b[0;34m\u001b[0m\u001b[0m\n\u001b[0;32m--> 658\u001b[0;31m             \u001b[0mr\u001b[0m\u001b[0;34m.\u001b[0m\u001b[0mcontent\u001b[0m\u001b[0;34m\u001b[0m\u001b[0m\n\u001b[0m\u001b[1;32m    659\u001b[0m \u001b[0;34m\u001b[0m\u001b[0m\n\u001b[1;32m    660\u001b[0m         \u001b[0;32mreturn\u001b[0m \u001b[0mr\u001b[0m\u001b[0;34m\u001b[0m\u001b[0m\n",
      "\u001b[0;32m~/anaconda3/lib/python3.6/site-packages/requests/models.py\u001b[0m in \u001b[0;36mcontent\u001b[0;34m(self)\u001b[0m\n\u001b[1;32m    821\u001b[0m                 \u001b[0mself\u001b[0m\u001b[0;34m.\u001b[0m\u001b[0m_content\u001b[0m \u001b[0;34m=\u001b[0m \u001b[0;32mNone\u001b[0m\u001b[0;34m\u001b[0m\u001b[0m\n\u001b[1;32m    822\u001b[0m             \u001b[0;32melse\u001b[0m\u001b[0;34m:\u001b[0m\u001b[0;34m\u001b[0m\u001b[0m\n\u001b[0;32m--> 823\u001b[0;31m                 \u001b[0mself\u001b[0m\u001b[0;34m.\u001b[0m\u001b[0m_content\u001b[0m \u001b[0;34m=\u001b[0m \u001b[0mbytes\u001b[0m\u001b[0;34m(\u001b[0m\u001b[0;34m)\u001b[0m\u001b[0;34m.\u001b[0m\u001b[0mjoin\u001b[0m\u001b[0;34m(\u001b[0m\u001b[0mself\u001b[0m\u001b[0;34m.\u001b[0m\u001b[0miter_content\u001b[0m\u001b[0;34m(\u001b[0m\u001b[0mCONTENT_CHUNK_SIZE\u001b[0m\u001b[0;34m)\u001b[0m\u001b[0;34m)\u001b[0m \u001b[0;32mor\u001b[0m \u001b[0mbytes\u001b[0m\u001b[0;34m(\u001b[0m\u001b[0;34m)\u001b[0m\u001b[0;34m\u001b[0m\u001b[0m\n\u001b[0m\u001b[1;32m    824\u001b[0m \u001b[0;34m\u001b[0m\u001b[0m\n\u001b[1;32m    825\u001b[0m         \u001b[0mself\u001b[0m\u001b[0;34m.\u001b[0m\u001b[0m_content_consumed\u001b[0m \u001b[0;34m=\u001b[0m \u001b[0;32mTrue\u001b[0m\u001b[0;34m\u001b[0m\u001b[0m\n",
      "\u001b[0;32m~/anaconda3/lib/python3.6/site-packages/requests/models.py\u001b[0m in \u001b[0;36mgenerate\u001b[0;34m()\u001b[0m\n\u001b[1;32m    746\u001b[0m                         \u001b[0;32myield\u001b[0m \u001b[0mchunk\u001b[0m\u001b[0;34m\u001b[0m\u001b[0m\n\u001b[1;32m    747\u001b[0m                 \u001b[0;32mexcept\u001b[0m \u001b[0mProtocolError\u001b[0m \u001b[0;32mas\u001b[0m \u001b[0me\u001b[0m\u001b[0;34m:\u001b[0m\u001b[0;34m\u001b[0m\u001b[0m\n\u001b[0;32m--> 748\u001b[0;31m                     \u001b[0;32mraise\u001b[0m \u001b[0mChunkedEncodingError\u001b[0m\u001b[0;34m(\u001b[0m\u001b[0me\u001b[0m\u001b[0;34m)\u001b[0m\u001b[0;34m\u001b[0m\u001b[0m\n\u001b[0m\u001b[1;32m    749\u001b[0m                 \u001b[0;32mexcept\u001b[0m \u001b[0mDecodeError\u001b[0m \u001b[0;32mas\u001b[0m \u001b[0me\u001b[0m\u001b[0;34m:\u001b[0m\u001b[0;34m\u001b[0m\u001b[0m\n\u001b[1;32m    750\u001b[0m                     \u001b[0;32mraise\u001b[0m \u001b[0mContentDecodingError\u001b[0m\u001b[0;34m(\u001b[0m\u001b[0me\u001b[0m\u001b[0;34m)\u001b[0m\u001b[0;34m\u001b[0m\u001b[0m\n",
      "\u001b[0;31mChunkedEncodingError\u001b[0m: ('Connection broken: IncompleteRead(0 bytes read)', IncompleteRead(0 bytes read))"
     ]
    }
   ],
   "source": [
    "import time\n",
    "import math\n",
    "\n",
    "def format_elapsed_time(elapsed_time):\n",
    "    total_seconds = math.floor(elapsed_time)\n",
    "    minutes = math.floor(total_seconds / 60)\n",
    "    seconds = total_seconds % 60\n",
    "    return '{} minutes and {} seconds'.format(minutes, seconds)\n",
    "\n",
    "total = len(movie_urls)\n",
    "starting_time = time.time()\n",
    "next_index = 0\n",
    "\n",
    "for url in movie_urls:\n",
    "    sleep(0.2)\n",
    "    movie_id = url.split('id=')[-1].replace('.htm','')\n",
    "    response = requests.get(url)\n",
    "    with open('movie_pages/{}.html'.format(movie_id), 'w') as file:\n",
    "        file.write(response.text)\n",
    "    elapsed_time = time.time() - starting_time\n",
    "    next_index += 1\n",
    "    percent_complete = next_index / total\n",
    "    print('{}% complete after {}'.format(round(percent_complete * 100, 1), format_elapsed_time(elapsed_time)), end=\"\\r\")"
   ]
  },
  {
   "cell_type": "code",
   "execution_count": 82,
   "metadata": {},
   "outputs": [
    {
     "data": {
      "text/plain": [
       "6385"
      ]
     },
     "execution_count": 82,
     "metadata": {},
     "output_type": "execute_result"
    }
   ],
   "source": [
    "next_index"
   ]
  },
  {
   "cell_type": "code",
   "execution_count": 83,
   "metadata": {},
   "outputs": [
    {
     "name": "stdout",
     "output_type": "stream",
     "text": [
      "100.0% complete after 61 minutes and 52 seconds\r"
     ]
    }
   ],
   "source": [
    "for url in movie_urls[next_index:]:\n",
    "    sleep(0.2)\n",
    "    movie_id = url.split('id=')[-1].replace('.htm','')\n",
    "    response = requests.get(url)\n",
    "    with open('movie_pages/{}.html'.format(movie_id), 'w') as file:\n",
    "        file.write(response.text)\n",
    "    elapsed_time = time.time() - starting_time\n",
    "    next_index += 1\n",
    "    percent_complete = next_index / total\n",
    "    print('{}% complete after {}'.format(round(percent_complete * 100, 1), format_elapsed_time(elapsed_time)), end=\"\\r\")"
   ]
  },
  {
   "cell_type": "code",
   "execution_count": 84,
   "metadata": {},
   "outputs": [],
   "source": [
    "# 100.0% complete after 61 minutes and 52 seconds"
   ]
  },
  {
   "cell_type": "code",
   "execution_count": 90,
   "metadata": {},
   "outputs": [],
   "source": [
    "from os import listdir\n",
    "\n",
    "def get_files_without_tables():\n",
    "    files_without_tables = []\n",
    "    for filename in listdir('movie_pages'):\n",
    "        with open('movie_pages/{}'.format(filename), 'r') as file:\n",
    "            soup = BeautifulSoup(file.read(),\"lxml\")\n",
    "            tables = soup.find_all('table')\n",
    "            if not tables:\n",
    "                files_without_tables.append(filename)\n",
    "    return files_without_tables"
   ]
  },
  {
   "cell_type": "code",
   "execution_count": 91,
   "metadata": {},
   "outputs": [
    {
     "data": {
      "text/plain": [
       "15"
      ]
     },
     "execution_count": 91,
     "metadata": {},
     "output_type": "execute_result"
    }
   ],
   "source": [
    "files_without_tables = get_files_without_tables()\n",
    "len(files_without_tables)"
   ]
  },
  {
   "cell_type": "code",
   "execution_count": 92,
   "metadata": {},
   "outputs": [
    {
     "data": {
      "text/plain": [
       "['likefatherlikeson.html',\n",
       " 'alvin3d.html',\n",
       " 'wolverine2.html',\n",
       " 'starwars3.html',\n",
       " 'id42.html',\n",
       " 'fantasticfour2.html',\n",
       " 'nightatthemuseum.html',\n",
       " 'rio2.html',\n",
       " 'peanuts2015.html',\n",
       " '9to5.html',\n",
       " 'starwars4se.html',\n",
       " 'avatar.html',\n",
       " 'starwars.html',\n",
       " 'minorityreport.html',\n",
       " 'diehard4.html']"
      ]
     },
     "execution_count": 92,
     "metadata": {},
     "output_type": "execute_result"
    }
   ],
   "source": [
    "# The contents of these files include\n",
    "# <p>We're in the process of updating the site right now. <br/> Try again in just a few minutes.</p>\n",
    "files_without_tables"
   ]
  },
  {
   "cell_type": "code",
   "execution_count": 93,
   "metadata": {},
   "outputs": [],
   "source": [
    "for filename in files_without_tables:\n",
    "    url = 'http://www.boxofficemojo.com/movies/?id={}'.format(filename.replace('.html','.htm'))\n",
    "    response = requests.get(url)\n",
    "    with open('movie_pages/{}'.format(filename), 'w') as file:\n",
    "        file.write(response.text)"
   ]
  },
  {
   "cell_type": "code",
   "execution_count": 94,
   "metadata": {},
   "outputs": [
    {
     "data": {
      "text/plain": [
       "1"
      ]
     },
     "execution_count": 94,
     "metadata": {},
     "output_type": "execute_result"
    }
   ],
   "source": [
    "files_without_tables = get_files_without_tables()\n",
    "len(files_without_tables)"
   ]
  },
  {
   "cell_type": "code",
   "execution_count": 95,
   "metadata": {},
   "outputs": [
    {
     "data": {
      "text/plain": [
       "['likefatherlikeson.html']"
      ]
     },
     "execution_count": 95,
     "metadata": {},
     "output_type": "execute_result"
    }
   ],
   "source": [
    "# This page appears to not exist, contains the content\n",
    "# <p>Sorry, we're not able to process your request.</p>\n",
    "files_without_tables"
   ]
  },
  {
   "cell_type": "code",
   "execution_count": 124,
   "metadata": {},
   "outputs": [],
   "source": [
    "def get_rows():\n",
    "    header_row = ['name','url','file_size','domestic_total_gross','distributor','release_date','genre','runtime','mpaa_rating','production_budget']\n",
    "    table_columns = header_row[3:]\n",
    "    rows = [header_row]\n",
    "    for filename in listdir('movie_pages'):\n",
    "        with open('movie_pages/{}'.format(filename), 'r') as file:\n",
    "            file_string = file.read()\n",
    "            file_size = len(file_string)\n",
    "            soup = BeautifulSoup(file_string,\"lxml\")\n",
    "        tables = soup.find_all('table')\n",
    "        if not tables or len(tables) < 6: continue\n",
    "        table = tables[5]\n",
    "        row = [\n",
    "            filename.replace('.html',''),\n",
    "            'http://www.boxofficemojo.com/movies/?id={}'.format(filename.replace('.html','.htm')),\n",
    "            file_size\n",
    "        ]\n",
    "        for column, cell in zip(table_columns, table.find_all('td')):\n",
    "            key, val = cell.text.split(': ', 1)\n",
    "            key = key.lower().replace(' ', '_')\n",
    "            if key != column:\n",
    "                val = None\n",
    "            row.append(val)\n",
    "        rows.append(row)\n",
    "    return rows"
   ]
  },
  {
   "cell_type": "code",
   "execution_count": 125,
   "metadata": {},
   "outputs": [],
   "source": [
    "import csv\n",
    "with open('basic_movie_data.csv', 'w') as movie_csv:\n",
    "    rows = get_rows()\n",
    "    writer = csv.writer(movie_csv)\n",
    "    writer.writerows(rows)"
   ]
  },
  {
   "cell_type": "code",
   "execution_count": null,
   "metadata": {},
   "outputs": [],
   "source": []
  }
 ],
 "metadata": {
  "kernelspec": {
   "display_name": "Python [conda root]",
   "language": "python",
   "name": "conda-root-py"
  },
  "language_info": {
   "codemirror_mode": {
    "name": "ipython",
    "version": 3
   },
   "file_extension": ".py",
   "mimetype": "text/x-python",
   "name": "python",
   "nbconvert_exporter": "python",
   "pygments_lexer": "ipython3",
   "version": "3.6.3"
  }
 },
 "nbformat": 4,
 "nbformat_minor": 2
}
