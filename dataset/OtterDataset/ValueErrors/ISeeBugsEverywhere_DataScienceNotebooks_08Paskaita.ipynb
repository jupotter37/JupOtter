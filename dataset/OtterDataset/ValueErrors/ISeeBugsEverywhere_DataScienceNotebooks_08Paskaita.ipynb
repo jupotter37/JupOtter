{
 "cells": [
  {
   "cell_type": "code",
   "execution_count": null,
   "metadata": {},
   "outputs": [],
   "source": [
    "f_name = '07Medziaga.txt'\n",
    "\n",
    "f = open(file=f_name, mode='a', encoding='utf-8')\n",
    "\n",
    "f.write('Labas, čia append režimu atidarytas failas\\n')\n",
    "\n",
    "\n",
    "f.close()"
   ]
  },
  {
   "cell_type": "code",
   "execution_count": 12,
   "metadata": {},
   "outputs": [
    {
     "name": "stdout",
     "output_type": "stream",
     "text": [
      "Nuskaitytas skaičius: 1, padaugintas iš 2: 2, padaugintas iš savęs: 1\n",
      "Nuskaitytas skaičius: 2, padaugintas iš 2: 4, padaugintas iš savęs: 4\n",
      "Nuskaitytas skaičius: 3, padaugintas iš 2: 6, padaugintas iš savęs: 9\n",
      "Nuskaitytas skaičius: 4, padaugintas iš 2: 8, padaugintas iš savęs: 16\n",
      "Nuskaitytas skaičius: 5, padaugintas iš 2: 10, padaugintas iš savęs: 25\n"
     ]
    }
   ],
   "source": [
    " #Su Notepad’u susikurkite failą pavadinimu 't.txt', ir jame įrašy\n",
    "#kite skaičius 1, 2, 3, 4, 5; po vieną skaičių į vieną eilutę.\n",
    "#• SuPython’u nuskaitykite šį failą po vieną eilutę ir išveskite į\n",
    "# ekraną.\n",
    "f_name = 'C:/Users/eleta/OneDrive/Desktop/Mokslai/t.txt'\n",
    "output_file='t_output.txt'\n",
    "f = open(f_name, mode='r', encoding='utf-8')\n",
    "f2 = open(output_file, mode='w', encoding='utf-8')\n",
    "for line in f:\n",
    "    number = int(line.replace(' ', ''))\n",
    "    multiply_by_2 = number * 2\n",
    "    multiply_by_self = number * number\n",
    "    print(f'Nuskaitytas skaičius: {number}, padaugintas iš 2: {multiply_by_2}, padaugintas iš savęs: {multiply_by_self}')\n",
    "    f2.write(f'{number}, {multiply_by_2}, {multiply_by_self}\\n')\n",
    "\n",
    "f.close()\n",
    "f2.close()"
   ]
  },
  {
   "cell_type": "code",
   "execution_count": 1,
   "metadata": {},
   "outputs": [
    {
     "name": "stdout",
     "output_type": "stream",
     "text": [
      "    1    2    1\n",
      "\n",
      "    2    4    4\n",
      "\n",
      "    3    6    9\n",
      "\n",
      "    4    8   16\n",
      "\n",
      "    5   10   25\n",
      "\n"
     ]
    }
   ],
   "source": [
    "#Su Notepad’u susikurkite failą pavadinimu 't.txt', ir jame įrašy\n",
    "#kite skaičius 1, 2, 3, 4, 5; po vieną skaičių į vieną eilutę.\n",
    "#• SuPython’u nuskaitykite šį failą po vieną eilutę ir išveskite į ekraną.\n",
    "# • Nuskaitydami po eilutę, padauginkite kiekvieną nuskaitytą\n",
    "# skaičių iš• 2ir išspausdinkite • iš jo paties ir išspausdinkite\n",
    "# • Ankstesniuose punktuose gautuosius rezultatus įrašykite į failą taip: nuskaitytas skaičius, sandauga su 2, sandauga su\n",
    "# savimi pačiu. Turite gauti lentele\n",
    "f_name = 'C:/Users/eleta/OneDrive/Desktop/Mokslai/t.txt'\n",
    "output_file='t_output.txt'\n",
    "f = open(f_name, mode='r', encoding='utf-8')\n",
    "f2 = open(output_file, mode='w', encoding='utf-8')\n",
    "for line in f:\n",
    "    number = int(line.replace(' ', ''))\n",
    "    multiply_by_2 = number * 2\n",
    "    multiply_by_self = number * number\n",
    "    print(f' {number:>4} {multiply_by_2:>4} {multiply_by_self:>4}\\n')\n",
    "    f2.write(f'{number}, {multiply_by_2}, {multiply_by_self}\\n')\n",
    "   \n",
    "\n",
    "f.close()\n",
    "f2.close()"
   ]
  },
  {
   "cell_type": "code",
   "execution_count": 1,
   "metadata": {},
   "outputs": [],
   "source": [
    "# • Sukurkite tekstinį failą su Notepad ar kita programa, failo plėtinys turėtų būti .txt\n",
    "#• Iš pirmojo Delfi straipsnio įkopijuokite 2- 3 pastraipas ir išsaugokite.\n",
    "#• Įrašykite tekstą iš sukurtojo failo didžiosiomis raidėmis\n",
    "f_name = 'C:/Users/eleta/OneDrive/Desktop/Mokslai/08PaskaitosUzduotis.txt'\n",
    "f = open(f_name, mode='r', encoding='utf-8')\n",
    "output_f=open(\"ats.txt\", mode='w', encoding='utf-8')\n",
    "t=f.read()\n",
    "output_f.write(t.upper()+'\\n')\n",
    "f.close()\n",
    "output_f.close()"
   ]
  },
  {
   "cell_type": "code",
   "execution_count": 15,
   "metadata": {},
   "outputs": [
    {
     "name": "stdout",
     "output_type": "stream",
     "text": [
      "6\n",
      "Atnaujinus įvažiavimo tvarką šalia Vilniaus oro uosto, pavežėjai pripažįsta – tenka ir pagudrauti\n",
      "\n",
      "\n",
      "\n"
     ]
    },
    {
     "ename": "AttributeError",
     "evalue": "'list' object has no attribute 'title'",
     "output_type": "error",
     "traceback": [
      "\u001b[1;31m---------------------------------------------------------------------------\u001b[0m",
      "\u001b[1;31mAttributeError\u001b[0m                            Traceback (most recent call last)",
      "Cell \u001b[1;32mIn[15], line 16\u001b[0m\n\u001b[0;32m     14\u001b[0m \u001b[38;5;28mprint\u001b[39m (text)\n\u001b[0;32m     15\u001b[0m \u001b[38;5;28;01mfor\u001b[39;00m i, word \u001b[38;5;129;01min\u001b[39;00m \u001b[38;5;28menumerate\u001b[39m(words):\u001b[38;5;66;03m# Kiekvienas žodis iš didžiosios raidės\u001b[39;00m\n\u001b[1;32m---> 16\u001b[0m     words[i] \u001b[38;5;241m=\u001b[39m \u001b[43mword\u001b[49m\u001b[38;5;241;43m.\u001b[39;49m\u001b[43mtitle\u001b[49m()\n\u001b[0;32m     17\u001b[0m     \u001b[38;5;28;01mfor\u001b[39;00m i, word \u001b[38;5;129;01min\u001b[39;00m \u001b[38;5;28menumerate\u001b[39m(words):\n\u001b[0;32m     18\u001b[0m         \u001b[38;5;28;01mif\u001b[39;00m i\u001b[38;5;241m%\u001b[39m\u001b[38;5;241m2\u001b[39m\u001b[38;5;241m==\u001b[39m\u001b[38;5;241m0\u001b[39m:\n",
      "\u001b[1;31mAttributeError\u001b[0m: 'list' object has no attribute 'title'"
     ]
    }
   ],
   "source": [
    "# A • Sukurkite tekstinį failą su Notepad ar kita programa, failo plėtinys turėtų būti .txt\n",
    "#• Iš pirmojo Delfi straipsnio įkopijuokite 2- 3 pastraipas ir išsaugokite.\n",
    "#• Kas 𝑛-tąjį žodį didžiomis raidėmis, 𝑛 įveda vartotojas.\n",
    "#• Kiekvienas žodis iš didžiosios raidės, kas antras parašytas atvirkščiai, kas 5-tas- vien tik didžiosiomis\n",
    "# raidėmis, kas 6-tame- simboliai \"a\" turi būti pakeisti\n",
    "# ':)' simboliais. \n",
    "#Skirtumas tarp A ir B:\n",
    "# A Atveju kiekviena zodi tikrins pagal salyg1.\n",
    "# B atveju. Tekstas bus kaeiciamas pagal atitinkama salyga.\n",
    "f_name = 'C:/Users/eleta/OneDrive/Desktop/Mokslai/08PaskaitosUzduotis.txt'\n",
    "f = open(f_name, mode='r', encoding='utf-8')\n",
    "rf = open('ats2.txt', mode='w',encoding='utf-8' )\n",
    "n = int(input(\"Įveskite kas kelintą žodį norite pakeisti: \"))\n",
    "print(n)\n",
    "text = f.read()\n",
    "words=[text.split()]# tekstas padalinamas i zodzius \n",
    "print (text)\n",
    "for i, word in enumerate(words):# Kiekvienas žodis iš didžiosios raidės\n",
    "    words[i] = word.title()\n",
    "    for i, word in enumerate(words):\n",
    "        if i%2==0:\n",
    "            words[i]=word[: :-1]#kas antras parasytas atvirksciai\n",
    "            for i,word in enumerate(words):\n",
    "                if i%5==0:\n",
    "                    words[i]=word.upper()# kas penktas didziosiomis\n",
    "                    for i,word in enumerate(words):\n",
    "                        if i%6==0:\n",
    "                            words[i]=word.replace('a',':)')# keicia a raide kas sestame zodyje\n",
    "txt=' '.joint(words+'\\n')\n",
    "print(txt)\n",
    "rf.write(t.title()+'\\n')\n",
    "f.close()\n",
    "rf.close()"
   ]
  },
  {
   "cell_type": "code",
   "execution_count": 2,
   "metadata": {},
   "outputs": [
    {
     "name": "stdout",
     "output_type": "stream",
     "text": [
      "ivestas sk. 6\n",
      "Atnaujinus įvažiavimo tvarką šalia Vilniaus oro uosto, pavežėjai pripažįsta – tenka ir pagudrauti\n",
      "\n",
      "\n",
      "\n",
      "Atnaujinus omivaižavĮ Tvarką ailaŠ VILNIAUS ORO Uosto, iajėževaP Pripažįsta – Tenka RI Pagudrauti\n"
     ]
    }
   ],
   "source": [
    "# B• Sukurkite tekstinį failą su Notepad ar kita programa, failo plėtinys turėtų būti .txt\n",
    "#• Iš pirmojo Delfi straipsnio įkopijuokite 2- 3 pastraipas ir išsaugokite.\n",
    "#• Kas 𝑛-tąjį žodį didžiomis raidėmis, 𝑛 įveda vartotojas.\n",
    "#• Kiekvienas žodis iš didžiosios raidės, kas antras parašytas atvirkščiai, kas 5-tas- vien tik didžiosiomis\n",
    "# raidėmis, kas 6-tame- simboliai \"a\" turi būti pakeisti\n",
    "# ':)' simboliais\n",
    "input_file_path = 'C:/Users/eleta/OneDrive/Desktop/Mokslai/08PaskaitosUzduotis.txt'\n",
    "output_file_path = 'C:/Users/eleta/OneDrive/Desktop/Mokslai/08PaskaitosUzduotis_ats2.txt'\n",
    "\n",
    "# Įvedame, kas kelintą žodį norime pakeisti\n",
    "n = int(input(\"Įveskite kas kelintą žodį norite pakeisti: \"))\n",
    "print('ivestas sk.', n)\n",
    "\n",
    "# Atidarome įvesties failą skaitymui\n",
    "f=open(input_file_path, 'r', encoding='utf-8')\n",
    "rf=open('ats2.txt', mode='w',encoding='utf-8' )\n",
    "text = f.read()\n",
    "print(text)\n",
    "\n",
    "# Padalijame tekstą į žodžius\n",
    "words = text.split()\n",
    "\n",
    "# Apdorojame žodžius pagal nurodytas taisykles\n",
    "\n",
    "for i, word in enumerate(words):\n",
    "    # Kiekvienas žodis iš didžiosios raidės\n",
    "    words[i] = word.title()\n",
    "    # Kas antras parašytas atvirkščiai\n",
    "    if (i + 1) % 2 == 0:\n",
    "        words[i] = words[i][::-1]\n",
    "\n",
    "    # Kas 5-tas - vien tik didžiosiomis raidėmis\n",
    "    if (i + 1) % 5 == 0:\n",
    "        words[i] = words[i].upper()\n",
    "\n",
    "    # Kas 6-tame - simboliai \"a\" pakeisti \":)\" simboliais\n",
    "    if (i + 1) % 6 == 0:\n",
    "        words[i] = words[i].replace('a', ':)').replace('A', ':)')\n",
    "\n",
    "    # Kas n-tąjį žodį didžiomis raidėmis (pagal vartotojo įvestą n)\n",
    "    if (i + 1) % n == 0:\n",
    "        words[i] = words[i].upper()\n",
    "\n",
    "# Sudarome galutinį tekstą iš apdorotų žodžių\n",
    "processed_text = ' '.join(words)\n",
    "\n",
    "# Atidarome išvesties failą rašymui\n",
    "with open(output_file_path, 'w', encoding='utf-8') as rf:\n",
    "    rf.write(processed_text)\n",
    "\n",
    "# Atspausdiname rezultatą ekrane\n",
    "print(processed_text)"
   ]
  },
  {
   "cell_type": "code",
   "execution_count": 58,
   "metadata": {},
   "outputs": [
    {
     "name": "stdout",
     "output_type": "stream",
     "text": [
      "Sugeneruotas atsitiktinių skaičių sąrašas: [2, 2, 6, 0, 9, 6, 5, 10, 8, 0]\n"
     ]
    }
   ],
   "source": [
    "#parašykite funkciją, kuriai galėtumėte nurodyti tris skaičius - elemnetų kiekį (ilgį), ribas nuo, iki, ir ta funkcija grąžintų sąrašą, \n",
    "#nurodyto ilgio, atsitiktiniais skaičiais užpildytą.\n",
    "import random\n",
    "\n",
    "def random_list(length, start, end):\n",
    "    random_list = [random.randint(start, end) for _ in range(length)]\n",
    "    return random_list\n",
    "\n",
    "length = int(input(\"Įveskite sąrašo ilgį: \"))\n",
    "start = int(input(\"Įveskite intervalo pradžią: \"))\n",
    "end = int(input(\"Įveskite intervalo pabaigą: \"))\n",
    "\n",
    "result = random_list(length, start, end)\n",
    "print(\"Sugeneruotas atsitiktinių skaičių sąrašas:\", result)"
   ]
  },
  {
   "cell_type": "code",
   "execution_count": 70,
   "metadata": {},
   "outputs": [
    {
     "name": "stdout",
     "output_type": "stream",
     "text": [
      "Sugeneruotas atsitiktinių skaičių sąrašas:\n",
      " [0.89, 0.12, 0.32, 0.68, 0.71, 0.58, 0.75, 0.41, 0.34, 0.07]\n"
     ]
    }
   ],
   "source": [
    "#parašyti funkciją, kuri grąžintų nurodyto ilgio sąrašą, \n",
    "# užpildytą skaičiais tarp 0 ir 1\n",
    "import random\n",
    "def random_list(length):\n",
    "        return [round(random.random (),2) for i in range(length)]\n",
    "length = int(input(\"Įveskite sąrašo ilgį: \"))\n",
    "\n",
    "result =random_list(length)\n",
    "print(\"Sugeneruotas atsitiktinių skaičių sąrašas:\\n\", result)\n"
   ]
  },
  {
   "cell_type": "code",
   "execution_count": 69,
   "metadata": {},
   "outputs": [
    {
     "name": "stdout",
     "output_type": "stream",
     "text": [
      "Atsitiktinis skaičius tarp 1 ir 10 sugeneruotas. Bandykite jį atspėti!\n",
      "Jūsų spėjimas yra per mažas. Bandykite dar kartą!\n",
      "Jūsų spėjimas yra per didelis. Bandykite dar kartą!\n",
      "Jūsų spėjimas yra per mažas. Bandykite dar kartą!\n",
      "Jūsų spėjimas yra per mažas. Bandykite dar kartą!\n",
      "Jūsų spėjimas yra per mažas. Bandykite dar kartą!\n",
      "Jūsų spėjimas yra per mažas. Bandykite dar kartą!\n",
      "Jūsų spėjimas yra per mažas. Bandykite dar kartą!\n",
      "Jūsų spėjimas yra per didelis. Bandykite dar kartą!\n",
      "Jūsų spėjimas yra per mažas. Bandykite dar kartą!\n",
      "Jūsų spėjimas yra per mažas. Bandykite dar kartą!\n",
      "Jūsų spėjimas yra per didelis. Bandykite dar kartą!\n",
      "Jūsų spėjimas yra per mažas. Bandykite dar kartą!\n",
      "Jūsų spėjimas yra per mažas. Bandykite dar kartą!\n",
      "Jūsų spėjimas yra per didelis. Bandykite dar kartą!\n",
      "Jūsų spėjimas yra per didelis. Bandykite dar kartą!\n",
      "Jūsų spėjimas yra per didelis. Bandykite dar kartą!\n"
     ]
    },
    {
     "ename": "ValueError",
     "evalue": "invalid literal for int() with base 10: ''",
     "output_type": "error",
     "traceback": [
      "\u001b[1;31m---------------------------------------------------------------------------\u001b[0m",
      "\u001b[1;31mValueError\u001b[0m                                Traceback (most recent call last)",
      "Cell \u001b[1;32mIn[69], line 21\u001b[0m\n\u001b[0;32m     18\u001b[0m             \u001b[38;5;28mprint\u001b[39m(\u001b[38;5;124m\"\u001b[39m\u001b[38;5;124mSveikiname! Jūs atspėjote teisingai!\u001b[39m\u001b[38;5;124m\"\u001b[39m)\n\u001b[0;32m     19\u001b[0m             \u001b[38;5;28;01mbreak\u001b[39;00m\n\u001b[1;32m---> 21\u001b[0m \u001b[43mgame\u001b[49m\u001b[43m(\u001b[49m\u001b[43m)\u001b[49m\n",
      "Cell \u001b[1;32mIn[69], line 12\u001b[0m, in \u001b[0;36mgame\u001b[1;34m()\u001b[0m\n\u001b[0;32m     10\u001b[0m \u001b[38;5;28mprint\u001b[39m(\u001b[38;5;124m\"\u001b[39m\u001b[38;5;124mAtsitiktinis skaičius tarp 1 ir 10 sugeneruotas. Bandykite jį atspėti!\u001b[39m\u001b[38;5;124m\"\u001b[39m)\n\u001b[0;32m     11\u001b[0m \u001b[38;5;28;01mwhile\u001b[39;00m \u001b[38;5;28;01mTrue\u001b[39;00m:\n\u001b[1;32m---> 12\u001b[0m     spejimas \u001b[38;5;241m=\u001b[39m \u001b[38;5;28;43mint\u001b[39;49m\u001b[43m(\u001b[49m\u001b[38;5;28;43minput\u001b[39;49m\u001b[43m(\u001b[49m\u001b[38;5;124;43m\"\u001b[39;49m\u001b[38;5;124;43mĮveskite savo spėjimą: \u001b[39;49m\u001b[38;5;124;43m\"\u001b[39;49m\u001b[43m)\u001b[49m\u001b[43m)\u001b[49m\n\u001b[0;32m     13\u001b[0m     \u001b[38;5;28;01mif\u001b[39;00m spejimas \u001b[38;5;241m<\u001b[39m skaicius:\n\u001b[0;32m     14\u001b[0m         \u001b[38;5;28mprint\u001b[39m(\u001b[38;5;124m\"\u001b[39m\u001b[38;5;124mJūsų spėjimas yra per mažas. Bandykite dar kartą!\u001b[39m\u001b[38;5;124m\"\u001b[39m)\n",
      "\u001b[1;31mValueError\u001b[0m: invalid literal for int() with base 10: ''"
     ]
    }
   ],
   "source": [
    "#parašyti su amžinu while ciklu skaičių spėliojimo žaidimą. \n",
    "# Sugeneruojamas skaičius tarp 1 ir 10, vartotojas įveda spėjimą.\n",
    "# Programa pasako, ar įvestas skaičius yra mažesnis, ar didesnis už sugeneruotą skaičių.\n",
    "# Programa nutrūksta, kai atspėjamas skaičius. \n",
    "import random\n",
    "\n",
    "def game():\n",
    "    \n",
    "    skaicius = random.randint(1, 10)\n",
    "    print(\"Atsitiktinis skaičius tarp 1 ir 10 sugeneruotas. Bandykite jį atspėti!\")\n",
    "    while True:\n",
    "        spejimas = int(input(\"Įveskite savo spėjimą: \"))\n",
    "        if spejimas < skaicius:\n",
    "            print(\"Jūsų spėjimas yra per mažas. Bandykite dar kartą!\")\n",
    "        elif spejimas > skaicius:\n",
    "            print(\"Jūsų spėjimas yra per didelis. Bandykite dar kartą!\")\n",
    "        else:\n",
    "            print(\"Sveikiname! Atspeta!\")\n",
    "            break\n",
    "\n",
    "game()"
   ]
  },
  {
   "cell_type": "code",
   "execution_count": 73,
   "metadata": {},
   "outputs": [],
   "source": [
    "#parašyti su amžinu while ciklu skaičių spėliojimo žaidimą. \n",
    "# Sugeneruojamas skaičius tarp 1 ir 10, vartotojas įveda spėjimą.\n",
    "# Programa pasako, ar įvestas skaičius yra mažesnis, ar didesnis už sugeneruotą skaičių.\n",
    "# Programa nutrūksta, kai atspėjamas skaičius. \n",
    "#Papildykite kodu, kuris parašytų, iš kelinto karto buvo atspėtas skaičius.\n",
    "import random\n",
    "\n",
    "def game2():\n",
    "    tray_number=0\n",
    "    skaicius = random.randint(1, 10)\n",
    "    print(\"Atsitiktinis skaičius tarp 1 ir 10 sugeneruotas. Bandykite jį atspėti!\")\n",
    "    while True:\n",
    "        spejimas = int(input(\"Įveskite savo spėjimą: \"))\n",
    "        tray_number=tray_number+1\n",
    "        if spejimas < skaicius:\n",
    "            print(\"Jūsų spėjimas yra per mažas. Bandykite dar kartą!\")\n",
    "        elif spejimas > skaicius:\n",
    "            print(\"Jūsų spėjimas yra per didelis. Bandykite dar kartą!\")\n",
    "        else:\n",
    "            print(f\"Sveikiname! Jūs atspėjote teisingai po {tray_number} bandymų!\")\n",
    "            break"
   ]
  },
  {
   "cell_type": "code",
   "execution_count": 3,
   "metadata": {},
   "outputs": [
    {
     "name": "stdout",
     "output_type": "stream",
     "text": [
      "x = [4, 5, 4, 7, 10, 10, 10, 4, 8, 10]\n",
      "y = [4, 10, 9, 6, 1, 9]\n",
      "atsakymas = [10, 4]\n"
     ]
    }
   ],
   "source": [
    "#5. Parašyti funkciją, kurioje sugeneruojamos dvi skaičių sekos\n",
    "#(jos gali būti skirtingo dydžio), programa turi grąžinti sąrašą\n",
    "#skaičių, kurie sutampa tarp dviejų sugeneruotu sąrašų,\n",
    "#galutiniame sąraše neturi būti skaičių dublikatų. PVZ: x =[1, 1, 2, 3, 1] y = [1, 3, 5, 6] atsakymas = [1,3]\n",
    "import random\n",
    "\n",
    "def sugeneruoti_sarasus():\n",
    "    # Sugeneruojame dvi skaičių sekas su skirtingais dydžiais\n",
    "    x = [random.randint(1,10) for i in range(random.randint(5,10))]\n",
    "    y = [random.randint(1,10) for a in range(random.randint(5,10))]\n",
    "    return x, y\n",
    "\n",
    "def rasti_sutampancius(x, y):\n",
    "    # Randa skaičius, kurie sutampa tarp dviejų sąrašų\n",
    "    sutampantys = list(set(x) & set(y))\n",
    "    return sutampantys\n",
    "\n",
    "# Pagrindinė programa\n",
    "x, y = sugeneruoti_sarasus()\n",
    "print(f\"x = {x}\")\n",
    "print(f\"y = {y}\")\n",
    "\n",
    "sutampantys = rasti_sutampancius(x, y)\n",
    "print(f\"atsakymas = {sutampantys}\")"
   ]
  },
  {
   "cell_type": "code",
   "execution_count": 9,
   "metadata": {},
   "outputs": [],
   "source": [
    "# Parašykite kodą, kuris sukurtų tekstinį failą iš trijų stulpelių.\n",
    "# Pirmąjame stulpelyje skaičiai nuo 1 iki 25-kių, \n",
    "# antrame - atsitiktiniai skaičiau - ribos 10 - 1000,\n",
    "# trečiame stulpelyje - atsitiktiniai skaičiai tarp 1 ir 10, \n",
    "# tačiau - float tipo, turintys 4turis ženklus po kablelio\n",
    "# stulpeliai atskirti viens nuo kito ;\n",
    "# Pavyzdys, kas maždaug turi gautis:1;25;1.45672;42;7.5213\n",
    "# ir maždaug taip toliau\n",
    "import random\n",
    "\n",
    "# Funkcija sugeneruojanti atsitiktinius skaičius ir rašanti į failą\n",
    "def generuoti_faila(filename):\n",
    "    file_numbers=open(filename, mode='w', encoding=\"utf-8\")\n",
    "    for i in range(1, 26):\n",
    "            antras_stulpelis = random.randint(10, 1000)\n",
    "   # random.uniform (1,10) naudojama sugeneruoti atsitiktinį slankiojo kablelio \n",
    "   # (float) skaičių iš intervalo [a, b].   \n",
    "   # rount((...)4) - naudojama skaicius suapalinti iki 4 sk. po kableliu    \n",
    "            trecias_stulpelis = round(random.uniform(1, 10), 4)\n",
    "            file_numbers.write(f\"{i};{antras_stulpelis};{trecias_stulpelis:.4f}\\n\")\n",
    "\n",
    "# Sukuriame failą\n",
    "generuoti_faila('skaiciai.txt')\n"
   ]
  },
  {
   "cell_type": "code",
   "execution_count": 17,
   "metadata": {},
   "outputs": [
    {
     "name": "stdout",
     "output_type": "stream",
     "text": [
      " 1; 838; 8.8664\n",
      " 2; 225; 2.9306\n",
      " 3; 527; 5.2535\n",
      " 4; 531; 4.2939\n",
      " 5; 680; 6.7352\n",
      " 6; 550; 6.4315\n",
      " 7; 854; 3.6137\n",
      " 8; 950; 8.9466\n",
      " 9; 235; 1.0668\n",
      "10; 178; 1.5008\n",
      "11; 309; 3.2663\n",
      "12;  97; 7.7733\n",
      "13;  90; 3.2379\n",
      "14; 120; 8.5636\n",
      "15; 651; 5.7727\n",
      "16; 101; 6.6046\n",
      "17; 628; 5.7009\n",
      "18; 582; 5.9911\n",
      "19; 830; 8.2163\n",
      "20; 467; 4.6147\n",
      "21; 135; 2.2248\n",
      "22;  71; 9.5327\n",
      "23; 155; 3.6050\n",
      "24; 133; 9.3016\n",
      "25; 278; 7.4926\n"
     ]
    }
   ],
   "source": [
    "# Parašykite kodą, kuris sukurtų tekstinį failą iš trijų stulpelių.\n",
    "# Pirmąjame stulpelyje skaičiai nuo 1 iki 25-kių, \n",
    "# antrame - atsitiktiniai skaičiau - ribos 10 - 1000,\n",
    "# trečiame stulpelyje - atsitiktiniai skaičiai tarp 1 ir 10, \n",
    "# tačiau - float tipo, turintys 4turis ženklus po kablelio\n",
    "# stulpeliai atskirti viens nuo kito ;\n",
    "# Pavyzdys, kas maždaug turi gautis:1; 25; 1.45672; 42; 7.5213\n",
    "# ir maždaug taip toliau\n",
    "#PADARYTA< KAD ATSAKYMAS BUTU FAILE IR ATSPAUSDINTAS EKRANE _ PATOGIAU TIKRINTI.\n",
    "import random\n",
    "\n",
    "# Funkcija sugeneruojanti atsitiktinius skaičius ir rašanti į failą\n",
    "def generuoti_faila(filename):\n",
    "    file_numbers=open(filename, mode='w', encoding=\"utf-8\")\n",
    "    for i in range(1, 26):\n",
    "            antras_stulpelis = random.randint(10, 1000)\n",
    "            trecias_s\n",
    "            eilute = f\"{i:>2}; {antras_stulpelis:>3}; {trecias_stulpelis:.4f}\"\n",
    "            file_numbers.write(eilute + \"\\n\")\n",
    "            print(eilute)\n",
    "\n",
    "# Sukuriame failą\n",
    "generuoti_faila('skaiciai.txt')"
   ]
  },
  {
   "cell_type": "code",
   "execution_count": 54,
   "metadata": {},
   "outputs": [
    {
     "name": "stdout",
     "output_type": "stream",
     "text": [
      "['03Paskaita.ipynb', '05Paskaita.ipynb', '06Paskaita.ipynb', '07Paskaita.ipynb', '08Paskaita.ipynb', 'Bandymas8', 'Bnadymas', 'example', 'Papildomos_Uzduotys.ipynb', 'Papildomos_Uzduotys_Atsiustos_06_27.ipynb', 'Paskaita03']\n"
     ]
    }
   ],
   "source": [
    " # Parasyti skripta, kuris parodytų failus, esančius darbiniame aplanke \n",
    " # kaip atspausdinti stulpelyje -pasiziureti wrap...\n",
    "import os\n",
    "print(os.listdir())"
   ]
  },
  {
   "cell_type": "code",
   "execution_count": 2,
   "metadata": {},
   "outputs": [
    {
     "name": "stdout",
     "output_type": "stream",
     "text": [
      "03Paskaita.ipynb\n",
      "05Paskaita.ipynb\n",
      "06Paskaita.ipynb\n",
      "07Paskaita.ipynb\n",
      "08Paskaita.ipynb\n",
      "09Paskaita.ipynb\n",
      "Bnadymas\n",
      "IrDarKarta\n",
      "Pamoka2.txt\n",
      "Papildomos_Uzduotys.ipynb\n",
      "Papildomos_Uzduotys_Atsiustos_06_27.ipynb\n",
      "Paskaita03\n",
      "Paskaita_06_17.ipynb\n",
      "Treniruote.ipynb\n"
     ]
    }
   ],
   "source": [
    " # Parasyti skripta, kuris parodytų failus, esančius darbiniame aplanke \n",
    " # kaip atspausdinti stulpelyje -pasiziureti wrap...\n",
    "import os\n",
    "def print_files_in_column(directory):\n",
    "    # Gauti failų sąrašą iš nurodyto katalogo\n",
    "    files = os.listdir(directory)\n",
    "    \n",
    "    # Atspausdinti kiekvieną failą naujoje eilutėje\n",
    "    for file in files:\n",
    "        print(file)\n",
    "\n",
    "# Pagrindinė funkcija\n",
    "if __name__ == \"__main__\":\n",
    "    # Gauti dabartinio darbo katalogo kelią\n",
    "    current_directory = os.getcwd()\n",
    "    \n",
    "    # Atspausdinti failus stulpelyje\n",
    "    print_files_in_column(current_directory)"
   ]
  },
  {
   "cell_type": "code",
   "execution_count": 1,
   "metadata": {},
   "outputs": [
    {
     "name": "stdout",
     "output_type": "stream",
     "text": [
      "Aplankas 'Gali' sukurtas sėkmingai.\n"
     ]
    }
   ],
   "source": [
    "# programa turi sukurti aplanką, kurio pavadinimą įvestų pats vartotojas.\n",
    "# Paprasta. Tik sukuria direktorija, nepaisant to ar tokiu paciu pav direktorija jau egzistoja\n",
    "\n",
    "import os\n",
    "\n",
    "# Paprašyti vartotojo įvesti aplanko pavadinimą\n",
    "name = input(\"Įveskite aplanko pavadinimą: \")\n",
    "# Sukurti aplanką\n",
    "os.makedirs(name)\n",
    "print(f\"Aplankas '{name}' sukurtas sėkmingai.\")\n"
   ]
  },
  {
   "cell_type": "code",
   "execution_count": 4,
   "metadata": {},
   "outputs": [
    {
     "name": "stdout",
     "output_type": "stream",
     "text": [
      "Aplankas 'Bandymas4' sukurtas sėkmingai.\n"
     ]
    }
   ],
   "source": [
    " # programa turi sukurti aplanką, kurio pavadinimą įvestų pats vartotojas.\n",
    " #Patikrina ar tokiu pavadinimu aplankas egzistuoja \n",
    "\n",
    "import os\n",
    "\n",
    "# Paprašyti vartotojo įvesti aplanko pavadinimą\n",
    "name = input(\"Įveskite aplanko pavadinimą: \")\n",
    "\n",
    "# Patikrinti, ar aplankas jau egzistuoja\n",
    "if not os.path.exists(name):\n",
    "    # Sukurti aplanką\n",
    "    os.makedirs(name)\n",
    "    print(f\"Aplankas '{name}' sukurtas sėkmingai.\")\n",
    "else:\n",
    "    print(f\"Aplankas '{name}' jau egzistuoja.\")"
   ]
  },
  {
   "cell_type": "code",
   "execution_count": 52,
   "metadata": {},
   "outputs": [
    {
     "name": "stdout",
     "output_type": "stream",
     "text": [
      "Visi .txt failai perkelti į aplanką 'example'.\n"
     ]
    }
   ],
   "source": [
    "# programa turi surastų visus txt plėtinį turinčius failus ir juos perkeltų į\n",
    "# naująjį aplanką.\n",
    "import os\n",
    "import glob\n",
    "import shutil\n",
    "\n",
    "# Sukurti naują aplanką, jei jo nėra\n",
    "new_folder = 'example'\n",
    "if not os.path.exists(new_folder):\n",
    "    os.makedirs(new_folder)\n",
    "\n",
    "# Rasti visus .txt failus dabartiniame aplanke\n",
    "all_txt = glob.glob('*.txt')\n",
    "\n",
    "# Perkelti kiekvieną .txt failą į naują aplanką\n",
    "for txt_file in all_txt:\n",
    "    shutil.move(txt_file, new_folder)\n",
    "\n",
    "print(f\"Visi .txt failai perkelti į aplanką '{new_folder}'.\")\n"
   ]
  },
  {
   "cell_type": "code",
   "execution_count": 5,
   "metadata": {},
   "outputs": [
    {
     "name": "stdout",
     "output_type": "stream",
     "text": [
      "Aplanko 'Ban*' sukurtas nera.\n"
     ]
    }
   ],
   "source": [
    "#parasyti programa, kuria galima istrinti vartotojo nurodytus aplankus\n",
    "#Pasitikslinti: Trina visus, kuriu pradzia ta pati?\n",
    "# Ne. Trina pagal tiksliai nurodyta pavadinimas\n",
    "\n",
    "import os\n",
    "\n",
    "# Paprašyti vartotojo įvesti aplanko pavadinimą\n",
    "name = input(\"Įveskite aplanko pavadinimą: \")\n",
    "\n",
    "# Patikrinti, ar aplankas jau egzistuoja\n",
    "if not os.path.exists(name):\n",
    "    print(f\"Aplanko '{name}' sukurtas nera.\")\n",
    "else:\n",
    "    os.rmdir(name) \n",
    "    print(f\"Aplankas '{name}' sekmingai istrintas.\")"
   ]
  },
  {
   "cell_type": "code",
   "execution_count": 48,
   "metadata": {},
   "outputs": [
    {
     "name": "stdout",
     "output_type": "stream",
     "text": [
      "failas 'name.txt' sekmingai istrintas.\n"
     ]
    }
   ],
   "source": [
    "#parasyti programa, kuria galima istrinti vartotojo nurodytu failus\n",
    "#Trina tik tai, kas yra Vision aplanke ir aplanke su juo susijusiame \"Mokslai\". \n",
    "# Jei tokiu pavadinimu aplankas yra kazkur kitur kompe - liks.\n",
    "import os\n",
    "\n",
    "# Paprašyti vartotojo įvesti failo pavadinimą\n",
    "name = input(\"Įveskite aplanko pavadinimą: \")\n",
    "\n",
    "# Patikrinti, ar aplankas  Vision ( cia kur dirbu) jau egzistuoja.\n",
    "# Tai priezastis, kodel netrina  Bnadymas\n",
    "if not os.path.exists(name):\n",
    "    print(f\"Failo '{name}' nera.\")\n",
    "else:\n",
    "    os.remove(name) \n",
    "    print(f\"failas '{name}' sekmingai istrintas.\")"
   ]
  },
  {
   "cell_type": "code",
   "execution_count": null,
   "metadata": {},
   "outputs": [],
   "source": [
    "#parasyti programa, kuria galima istrinti vartotojo nurodytu failus\n",
    "#Trina tik tai, kas yra ir Vision aplanke, ir aplanke kuris su juo susijes (Mokslai)\n",
    "import os\n",
    "import glob\n",
    "\n",
    "# Paprašyti vartotojo įvesti failo pavadinimą arba jo pradžią\n",
    "name = input(\"Įveskite failo pavadinimą arba jo pradžią: \")\n",
    "\n",
    "# Rasti visus failus, kurių pavadinimai prasideda nurodytu tekstu\n",
    "files_to_delete = glob.glob(f'**/{name}*', recursive=True)\n",
    "\n",
    "# Patikrinti, ar yra failų, kuriuos reikia pašalinti\n",
    "if not files_to_delete:\n",
    "    print(f\"Failų, prasidedančių '{name}', nerasta.\")\n",
    "else:\n",
    "    for file in files_to_delete:\n",
    "        if os.path.isfile(file):\n",
    "            try:\n",
    "                os.remove(file)\n",
    "                print(f\"Failas '{file}' sėkmingai ištrintas.\")\n",
    "            except OSError as e:\n",
    "                print(f\"Klaida trinant failą '{file}': {e}\")"
   ]
  }
 ],
 "metadata": {
  "kernelspec": {
   "display_name": "Python 3",
   "language": "python",
   "name": "python3"
  },
  "language_info": {
   "codemirror_mode": {
    "name": "ipython",
    "version": 3
   },
   "file_extension": ".py",
   "mimetype": "text/x-python",
   "name": "python",
   "nbconvert_exporter": "python",
   "pygments_lexer": "ipython3",
   "version": "3.12.4"
  }
 },
 "nbformat": 4,
 "nbformat_minor": 2
}
