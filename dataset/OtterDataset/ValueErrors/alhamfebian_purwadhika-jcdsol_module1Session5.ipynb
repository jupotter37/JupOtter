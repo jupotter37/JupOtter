{
 "cells": [
  {
   "cell_type": "markdown",
   "metadata": {},
   "source": [
    "Module 1 Session 5: Python Looping Statements"
   ]
  },
  {
   "cell_type": "code",
   "execution_count": 19,
   "metadata": {},
   "outputs": [],
   "source": [
    "# While Loop\n",
    "angka = 1\n",
    "\n",
    "# while angka < 10:\n",
    "#     print(f'Pengulangan ke - {angka}')\n",
    "#     angka += 1\n",
    "\n",
    "# while True:\n",
    "#     print('mantap')\n",
    "#     angka += 1\n",
    "#     if angka == 4:\n",
    "#         break\n",
    "\n",
    "# Kalau angka < 0, loopingnya berenti\n",
    "while angka > 0:\n",
    "    angka = int(input('Masukan Angka: '))"
   ]
  },
  {
   "cell_type": "code",
   "execution_count": 1,
   "metadata": {},
   "outputs": [
    {
     "name": "stdout",
     "output_type": "stream",
     "text": [
      "0\n",
      "3\n",
      "6\n",
      "9\n"
     ]
    }
   ],
   "source": [
    "# For Loop\n",
    "for i in range(0,10,3):\n",
    "    print(i)"
   ]
  },
  {
   "cell_type": "code",
   "execution_count": null,
   "metadata": {},
   "outputs": [],
   "source": [
    "# Looping Control: Break\n",
    "for i in range(0,10,2):\n",
    "    print(i)\n",
    "    if i == 4:\n",
    "        print('Masuk')\n",
    "        break"
   ]
  },
  {
   "cell_type": "code",
   "execution_count": 8,
   "metadata": {},
   "outputs": [
    {
     "name": "stdout",
     "output_type": "stream",
     "text": [
      "Masuk 0\n",
      "Masuk 1\n",
      "Masuk 2\n",
      "Masuk 3\n",
      "Masuk 4\n",
      "Masuk If\n",
      "Masuk 5\n",
      "Masuk 6\n",
      "Masuk 7\n",
      "Masuk 8\n",
      "Masuk 9\n"
     ]
    }
   ],
   "source": [
    "# Looping Control: Continue\n",
    "for i in range(0,10,1):\n",
    "    print(f'Masuk {i}')\n",
    "    if i == 4:\n",
    "        print('Masuk If')\n",
    "        continue\n",
    "        print('Masuk Continue')"
   ]
  },
  {
   "cell_type": "code",
   "execution_count": null,
   "metadata": {},
   "outputs": [],
   "source": [
    "# Loop Drawing: Garis Vertikal\n",
    "\n",
    "# strStar = ''\n",
    "# starNumber = 5\n",
    "\n",
    "# for i in range(starNumber):\n",
    "#     strStar += '*'\n",
    "#     strStar += '\\n'\n",
    "# print(strStar)\n",
    "\n",
    "for i in range(5):\n",
    "    print('* ', end='')\n",
    "    print('\\n')"
   ]
  },
  {
   "cell_type": "code",
   "execution_count": null,
   "metadata": {},
   "outputs": [],
   "source": [
    "# Looping Drawing Persegi\n",
    "strStar = ''\n",
    "starNumber = 5\n",
    "\n",
    "# for i in range(starNumber):\n",
    "#     for j in range(starNumber):\n",
    "#         strStar += '* '\n",
    "#     strStar += '\\n'\n",
    "# print(strStar)\n",
    "\n",
    "for i in range(starNumber):\n",
    "    for j in range(starNumber):\n",
    "        print('* ', end='')\n",
    "    print('\\n')"
   ]
  },
  {
   "cell_type": "code",
   "execution_count": 11,
   "metadata": {},
   "outputs": [
    {
     "name": "stdout",
     "output_type": "stream",
     "text": [
      "*\n",
      "**\n",
      "***\n",
      "****\n",
      "*****\n",
      "******\n"
     ]
    }
   ],
   "source": [
    "# Looping Drawing Segitiga\n",
    "for i in range(6):\n",
    "    for j in range(i + 1):\n",
    "        print('*', end='')\n",
    "    print()"
   ]
  },
  {
   "cell_type": "code",
   "execution_count": 14,
   "metadata": {},
   "outputs": [
    {
     "name": "stdout",
     "output_type": "stream",
     "text": [
      "* * * * * \n",
      "* * * * \n",
      "* * * \n",
      "* * \n",
      "* \n",
      "* * \n",
      "* * * \n",
      "* * * * \n",
      "* * * * * \n"
     ]
    }
   ],
   "source": [
    "# Excercise Session 5: Soal 1\n",
    "\n",
    "# Bentuk 1\n",
    "# star = ''\n",
    "# size = 5\n",
    "# for i in range(size,-1,-1):\n",
    "#     for j in range(i):\n",
    "#         star += '* '\n",
    "#     star += '\\n'\n",
    "\n",
    "# for i in range(size):\n",
    "#     for j in range(i+1):\n",
    "#         star += '* '\n",
    "#     star += '\\n'\n",
    "# print(star)\n",
    "\n",
    "height = 5\n",
    "\n",
    "for i in range(height):\n",
    "    print('* ' * (height - i))\n",
    "\n",
    "for i in range(height - 2, -1, -1):\n",
    "    print('* ' * (height - i))"
   ]
  },
  {
   "cell_type": "code",
   "execution_count": null,
   "metadata": {},
   "outputs": [],
   "source": [
    "# Bentuk 2\n",
    "height = 5\n",
    "\n",
    "# First Half\n",
    "for i in range(height):\n",
    "    print(' ' * (height - i), '*' * (2 * i + 1))\n",
    "\n",
    "# Second Half\n",
    "for i in range(height - 2, -2, -1):\n",
    "    print(' ' * (height - i), '*' * (2 * i + 1))"
   ]
  },
  {
   "cell_type": "code",
   "execution_count": 28,
   "metadata": {},
   "outputs": [
    {
     "name": "stdout",
     "output_type": "stream",
     "text": [
      "Selamat Data Di Toko Aldy\n",
      "\n",
      "Detail Belanja\n",
      "\n",
      "Apel : 3 x 10000 = 30000\n",
      "\n",
      "Jeruk : 3 x 15000 = 45000\n",
      "\n",
      "Anggur : 3 x 20000 = 60000\n",
      "\n",
      "Total Belanja : Rp135000\n",
      "Terima Kasih\n"
     ]
    }
   ],
   "source": [
    "# Excercise Session 5: Soal 2 Option 1\n",
    "print('Selamat Data Di Toko Aldy')\n",
    "\n",
    "\n",
    "\n",
    "hargaApel = 10000\n",
    "hargaJeruk = 15000\n",
    "hargaAnggur = 20000\n",
    "\n",
    "stokApel = 5\n",
    "stokJeruk = 7\n",
    "stokAnggur = 9\n",
    "\n",
    "jumlahApel = int(input(\"Masukan Jumlah Apel : \"))\n",
    "\n",
    "while jumlahApel > stokApel:\n",
    "    print(f'Jumlah yang dimasukkan terlalu banyak, Stok Apel Tinggal: {stokApel}')\n",
    "    jumlahApel = int(input(\"Masukan Jumlah Apel : \"))\n",
    "        \n",
    "\n",
    "jumlahJeruk = int(input(\"Masukan Jumlah Jeruk : \"))\n",
    "\n",
    "while jumlahJeruk > stokJeruk:\n",
    "    print(f'Jumlah yang dimasukkan terlalu banyak, Stok Jeruk Tinggal: {stokJeruk}')\n",
    "    jumlahJeruk = int(input(\"Masukan Jumlah Jeruk : \"))\n",
    "        \n",
    "\n",
    "\n",
    "jumlahAnggur = int(input(\"Masukan Jumlah Anggur : \"))\n",
    "\n",
    "while jumlahAnggur > stokAnggur:\n",
    "    print(f'Jumlah yang dimasukkan terlalu banyak, Stok Jeruk Tinggal: {stokAnggur}')\n",
    "    jumlahAnggur = int(input(\"Masukan Jumlah Anggur : \"))\n",
    "        \n",
    "\n",
    "\n",
    "print('\\nDetail Belanja\\n')\n",
    "\n",
    "totalBelanjaApel = jumlahApel * hargaApel\n",
    "totalBelanjaJeruk = jumlahJeruk * hargaJeruk\n",
    "totalBelanjaAnggur = jumlahAnggur * hargaAnggur\n",
    "totalSeluruhBelanja = totalBelanjaApel + totalBelanjaJeruk + totalBelanjaAnggur\n",
    "\n",
    "print(f'Apel : {jumlahApel} x {hargaApel} = {jumlahApel * hargaApel}\\n')\n",
    "print(f'Jeruk : {jumlahJeruk} x {hargaJeruk} = {jumlahJeruk * hargaJeruk}\\n')\n",
    "print(f'Anggur : {jumlahAnggur} x {hargaAnggur} = {jumlahAnggur * hargaAnggur}\\n')\n",
    "\n",
    "print(\"Total Belanja : Rp{totalBelanja}\".format(totalBelanja = totalSeluruhBelanja)) \n",
    "\n",
    "inputUangUser = int(input('Masuk Jumlah Uang: '))\n",
    "\n",
    "print(f'Uang anda sebesar: {inputUangUser}')\n",
    "\n",
    "while (inputUangUser - totalSeluruhBelanja) < 0:\n",
    "    print(f'Transaksi anda dibatalkan\\nuangnya kurang sebesar Rp{abs(inputUangUser - totalSeluruhBelanja)}')\n",
    "    inputUangUser = int(input('Masuk Jumlah Uang: '))\n",
    "\n",
    "if (inputUangUser - totalSeluruhBelanja) > 0:\n",
    "    print(f'Terima Kasih\\nUang Kembali anda : Rp{inputUangUser - totalSeluruhBelanja}')\n",
    "else:\n",
    "    print('Terima Kasih')"
   ]
  },
  {
   "cell_type": "code",
   "execution_count": 35,
   "metadata": {},
   "outputs": [
    {
     "name": "stdout",
     "output_type": "stream",
     "text": [
      "Selamat Data Di Toko Aldy\n",
      "Jumlah yang dimasukkan terlalu banyak, Stok Apel Tinggal: 5\n",
      "\n",
      "Detail Belanja\n",
      "\n",
      "Apel : 5 x 10000 = 50000\n",
      "\n",
      "Jeruk : 5 x 15000 = 75000\n",
      "\n",
      "Anggur : 5 x 20000 = 100000\n",
      "\n",
      "Total Belanja : Rp225000\n",
      "Transaksi anda dibatalkan\n",
      "uangnya kurang sebesar Rp224990\n"
     ]
    },
    {
     "ename": "ValueError",
     "evalue": "invalid literal for int() with base 10: ''",
     "output_type": "error",
     "traceback": [
      "\u001b[0;31m---------------------------------------------------------------------------\u001b[0m",
      "\u001b[0;31mValueError\u001b[0m                                Traceback (most recent call last)",
      "Cell \u001b[0;32mIn[35], line 13\u001b[0m\n\u001b[1;32m     10\u001b[0m hargaAnggur \u001b[38;5;241m=\u001b[39m \u001b[38;5;241m20000\u001b[39m\n\u001b[1;32m     12\u001b[0m \u001b[38;5;28;01mwhile\u001b[39;00m \u001b[38;5;28;01mTrue\u001b[39;00m:\n\u001b[0;32m---> 13\u001b[0m     jumlahApel \u001b[38;5;241m=\u001b[39m \u001b[38;5;28mint\u001b[39m(\u001b[38;5;28minput\u001b[39m(\u001b[38;5;124m\"\u001b[39m\u001b[38;5;124mMasukan Jumlah Apel : \u001b[39m\u001b[38;5;124m\"\u001b[39m))\n\u001b[1;32m     15\u001b[0m     \u001b[38;5;28;01mif\u001b[39;00m jumlahApel \u001b[38;5;241m>\u001b[39m\u001b[38;5;241m=\u001b[39m stokApel:\n\u001b[1;32m     16\u001b[0m         \u001b[38;5;28mprint\u001b[39m(\u001b[38;5;124mf\u001b[39m\u001b[38;5;124m'\u001b[39m\u001b[38;5;124mJumlah yang dimasukkan terlalu banyak, Stok Apel Tinggal: \u001b[39m\u001b[38;5;132;01m{\u001b[39;00mstokApel\u001b[38;5;132;01m}\u001b[39;00m\u001b[38;5;124m'\u001b[39m)\n",
      "\u001b[0;31mValueError\u001b[0m: invalid literal for int() with base 10: ''"
     ]
    }
   ],
   "source": [
    "# Excercise Session 5: Soal 2 Option 2\n",
    "print('Selamat Data Di Toko Aldy')\n",
    "\n",
    "stokApel = 5\n",
    "stokJeruk = 7\n",
    "stokAnggur = 9\n",
    "\n",
    "hargaApel = 10000\n",
    "hargaJeruk = 15000\n",
    "hargaAnggur = 20000\n",
    "\n",
    "while True:\n",
    "    jumlahApel = int(input(\"Masukan Jumlah Apel : \"))\n",
    "\n",
    "    if jumlahApel >= stokApel:\n",
    "        print(f'Jumlah yang dimasukkan terlalu banyak, Stok Apel Tinggal: {stokApel}')\n",
    "        jumlahApel = int(input(\"Masukan Jumlah Apel : \"))\n",
    "\n",
    "    jumlahJeruk = int(input(\"Masukan Jumlah Jeruk : \"))\n",
    "\n",
    "    if jumlahJeruk >= stokJeruk:\n",
    "        print(f'Jumlah yang dimasukkan terlalu banyak, Stok Jeruk Tinggal: {stokJeruk}')\n",
    "        jumlahJeruk = int(input(\"Masukan Jumlah Jeruk : \"))\n",
    "\n",
    "    jumlahAnggur = int(input(\"Masukan Jumlah Anggur : \"))\n",
    "\n",
    "    if jumlahAnggur >= stokAnggur:\n",
    "        print(f'Jumlah yang dimasukkan terlalu banyak, Stok Anggur Tinggal: {stokAnggur}')\n",
    "        jumlahAnggur = int(input(\"Masukan Jumlah Anggur : \"))\n",
    "\n",
    "    print('\\nDetail Belanja\\n')\n",
    "\n",
    "    totalBelanjaApel = jumlahApel * hargaApel\n",
    "    totalBelanjaJeruk = jumlahJeruk * hargaJeruk\n",
    "    totalBelanjaAnggur = jumlahAnggur * hargaAnggur\n",
    "    totalSeluruhBelanja = totalBelanjaApel + totalBelanjaJeruk + totalBelanjaAnggur\n",
    "\n",
    "    print(f'Apel : {jumlahApel} x {hargaApel} = {jumlahApel * hargaApel}\\n')\n",
    "    print(f'Jeruk : {jumlahJeruk} x {hargaJeruk} = {jumlahJeruk * hargaJeruk}\\n')\n",
    "    print(f'Anggur : {jumlahAnggur} x {hargaAnggur} = {jumlahAnggur * hargaAnggur}\\n')\n",
    "\n",
    "    print(\"Total Belanja : Rp{totalBelanja}\".format(totalBelanja = totalSeluruhBelanja)) \n",
    "\n",
    "    inputUangUser = int(input('Masuk Jumlah Uang: '))\n",
    "\n",
    "    print(f'Uang anda sebesar: {inputUangUser}')\n",
    "\n",
    "    if (inputUangUser - totalSeluruhBelanja) < 0:\n",
    "        print(f'Transaksi anda dibatalkan\\nuangnya kurang sebesar Rp{abs(inputUangUser - totalSeluruhBelanja)}')\n",
    "        inputUangUser = int(input('Masuk Jumlah Uang: '))\n",
    "    elif (inputUangUser - totalSeluruhBelanja) > 0:\n",
    "        print(f'Terima Kasih\\nuang kembali anda : Rp{inputUangUser - totalSeluruhBelanja}')\n",
    "    else:\n",
    "        print('Terima Kasih')\n",
    "    break"
   ]
  }
 ],
 "metadata": {
  "kernelspec": {
   "display_name": "base",
   "language": "python",
   "name": "python3"
  },
  "language_info": {
   "codemirror_mode": {
    "name": "ipython",
    "version": 3
   },
   "file_extension": ".py",
   "mimetype": "text/x-python",
   "name": "python",
   "nbconvert_exporter": "python",
   "pygments_lexer": "ipython3",
   "version": "3.12.4"
  }
 },
 "nbformat": 4,
 "nbformat_minor": 2
}
