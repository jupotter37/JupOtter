{
  "cells": [
    {
      "cell_type": "markdown",
      "metadata": {
        "id": "view-in-github",
        "colab_type": "text"
      },
      "source": [
        "<a href=\"https://colab.research.google.com/github/MAB1144-Python/CD_databits/blob/main/01_Python_Intro_crash_course.ipynb\" target=\"_parent\"><img src=\"https://colab.research.google.com/assets/colab-badge.svg\" alt=\"Open In Colab\"/></a>"
      ]
    },
    {
      "cell_type": "markdown",
      "source": [
        "\n",
        "\n",
        "<div style=\"text-align: center; line-height: 0; padding-top: 9px;\">\n",
        "  <img src=\"https://storage.googleapis.com/datasets-academy/public-img/notebooks/headers/databits-header-notebook.png\" alt=\"Databricks Learning\" style=\"width: 100%;\">\n",
        "</div>"
      ],
      "metadata": {
        "application/vnd.databricks.v1+cell": {
          "title": "",
          "showTitle": false,
          "inputWidgets": {},
          "nuid": "03b1e648-7253-423e-80d0-3092c3672d5e"
        },
        "id": "lMyAtfipDqU0"
      }
    },
    {
      "cell_type": "markdown",
      "source": [
        "# <center>  Python - Intro crash course </center>\n",
        "\n",
        "## Descripción\n",
        "En esta sección de introducirá al lenguaje de programación Python analizando sus fundamentos, tipos de datos, operadores y colecciones de datos.\n",
        "\n",
        "## Contenido\n",
        "\n",
        "* Fundamentos, tipos de datos y operadores para comenzar con Python\n",
        "* Colecciones de datos: tuplas, listas y diccionarios\n",
        "* Operaciones con colecciones de datos\n",
        "\n",
        "\n",
        "## Audiencia\n",
        "\n",
        "* Audiencia primaria: Desarrolladores, Ingenieros y Científicos de datos y Analistas de BI\n",
        "\n",
        "## Requisitos previos\n",
        "\n",
        "* Conocimientos básicos de programación\n",
        "* Navegador web: Chrome\n",
        "\n",
        "<img alt=\"Caution\" title=\"Caution\" style=\"vertical-align: text-bottom; position: relative; height:1.3em; top:0.0em\" src=\"https://storage.googleapis.com/datasets-academy/public-img/notebooks/icons/danger.png\"/> **Disclaimer:** Este material ha sido preparado por el equipo de **handytec Academy®**. Se prohibe la publicación o reproducción de este material sin previa autorización de **handytec Academy®** - 2022 Todos los derechos reservados."
      ],
      "metadata": {
        "id": "XrIYsn5bmseb",
        "application/vnd.databricks.v1+cell": {
          "title": "",
          "showTitle": false,
          "inputWidgets": {},
          "nuid": "b48e138c-c50d-4205-b451-db6174a5a7af"
        }
      }
    },
    {
      "cell_type": "markdown",
      "source": [
        "## Parte 1: Fundamentos, tipos de datos  y operadores para comenzar con Python\n",
        "**a. Python**\n",
        "* Es gratuito y de código abierto\n",
        "* Guido van Rossum ideó el lenguaje Python a finales de los años 80 y su primera versión pública fue en febrero de 1991\n",
        "* Es un lenguaje interpretado\n",
        "* Posee tipeo dinámico, por lo cual nos es necesario especificar el tipo de dato que contendrán las variables\n",
        "* Es un lenguaje de programación de propósito general (diseñado para resolver cualquier problema) y facilidad para construir cualquier programa\n",
        "\n",
        "**b. Importancia de Pyhton**\n",
        "* Lenguaje intuitivo, da la apariencia de que estamos escribiendo pseudocódigo en inglés\n",
        "* Tiene paquetes versátiles para múltiples aplicaciones incluyendo Ciencia de Datos\n",
        "* Cuenta con una comunidad activa de computación científica y análisis de datos"
      ],
      "metadata": {
        "application/vnd.databricks.v1+cell": {
          "title": "",
          "showTitle": false,
          "inputWidgets": {},
          "nuid": "8ca16400-2a88-44bf-acfb-cc79384c1f39"
        },
        "id": "aPEz194gDqU4"
      }
    },
    {
      "cell_type": "markdown",
      "source": [
        "### Imprimir en pantalla nuestro código\n",
        "###### dataset ok"
      ],
      "metadata": {
        "application/vnd.databricks.v1+cell": {
          "title": "",
          "showTitle": false,
          "inputWidgets": {},
          "nuid": "223a3b30-13f2-47b6-8596-b356709fdc55"
        },
        "id": "LJb3ASEfDqU4"
      }
    },
    {
      "cell_type": "code",
      "source": [
        "# Un comentario es antecedido por el símbolo de numeral\n",
        "print(\"Hola Python!\",\"si hola\",)"
      ],
      "metadata": {
        "id": "nRfqTkwT5CDI",
        "application/vnd.databricks.v1+cell": {
          "title": "",
          "showTitle": false,
          "inputWidgets": {},
          "nuid": "470c2ab7-d6cf-4e22-803e-7ac6d60493db"
        },
        "colab": {
          "base_uri": "https://localhost:8080/"
        },
        "outputId": "1a135899-bc26-4dc7-d965-71cb5920d6ba"
      },
      "outputs": [
        {
          "output_type": "stream",
          "name": "stdout",
          "text": [
            "Hola Python! si hola\n"
          ]
        }
      ],
      "execution_count": null
    },
    {
      "cell_type": "code",
      "source": [
        "help(print)"
      ],
      "metadata": {
        "application/vnd.databricks.v1+cell": {
          "title": "",
          "showTitle": false,
          "inputWidgets": {},
          "nuid": "01a64839-8b63-4ad2-88f7-005d0a220491"
        },
        "colab": {
          "base_uri": "https://localhost:8080/"
        },
        "id": "-p-HfU7nDqU6",
        "outputId": "6f3a51fe-1a2e-4587-8d62-955b51953829"
      },
      "outputs": [
        {
          "output_type": "stream",
          "name": "stdout",
          "text": [
            "Help on built-in function print in module builtins:\n",
            "\n",
            "print(...)\n",
            "    print(value, ..., sep=' ', end='\\n', file=sys.stdout, flush=False)\n",
            "    \n",
            "    Prints the values to a stream, or to sys.stdout by default.\n",
            "    Optional keyword arguments:\n",
            "    file:  a file-like object (stream); defaults to the current sys.stdout.\n",
            "    sep:   string inserted between values, default a space.\n",
            "    end:   string appended after the last value, default a newline.\n",
            "    flush: whether to forcibly flush the stream.\n",
            "\n"
          ]
        }
      ],
      "execution_count": null
    },
    {
      "cell_type": "markdown",
      "source": [
        "### Tipos de datos en Python"
      ],
      "metadata": {
        "id": "_HZjRxXK2cYe",
        "application/vnd.databricks.v1+cell": {
          "title": "",
          "showTitle": false,
          "inputWidgets": {},
          "nuid": "3ff681d2-9244-4a38-a361-9ce088140325"
        }
      }
    },
    {
      "cell_type": "markdown",
      "source": [
        "Datos Primitivos en Python: \n",
        "* Numéricos: enteros `int`, decimales-punto flotante `float` y complejos `complex`\n",
        "* Lógicos: booleanos (```True``` y ```False```)\n",
        "* Cadenas de Caracteres: datos estructurados a partir de `str` (texto y palabras). No hay diferencia en el uso de comillas simples y dobles. La comillas triples se emplean para escribir múltiples líneas (párrafos)\n",
        "\n",
        "```type(x)``` es una función de Python que nos permite saber por consola el tipo de dato que es x."
      ],
      "metadata": {
        "id": "eiHTIB_nK3md",
        "application/vnd.databricks.v1+cell": {
          "title": "",
          "showTitle": false,
          "inputWidgets": {},
          "nuid": "b9546d1e-1d6d-435d-be63-9f158ff8dd28"
        }
      }
    },
    {
      "cell_type": "code",
      "source": [
        "#NUMERICOS:\n",
        "print(type(-8), type(5.6), type(1-2j))"
      ],
      "metadata": {
        "id": "nalagL11_bPK",
        "application/vnd.databricks.v1+cell": {
          "title": "",
          "showTitle": false,
          "inputWidgets": {},
          "nuid": "a02763fe-4de7-48a4-a80c-6acaa8caed95"
        },
        "colab": {
          "base_uri": "https://localhost:8080/"
        },
        "outputId": "1e37fd8b-cba3-4478-c0ab-668f12570a34"
      },
      "outputs": [
        {
          "output_type": "stream",
          "name": "stdout",
          "text": [
            "<class 'int'> <class 'float'> <class 'complex'>\n"
          ]
        }
      ],
      "execution_count": null
    },
    {
      "cell_type": "code",
      "source": [
        "#BOOLEANOS\n",
        "print(type(True), type(False))"
      ],
      "metadata": {
        "application/vnd.databricks.v1+cell": {
          "title": "",
          "showTitle": false,
          "inputWidgets": {},
          "nuid": "59dec889-78fd-430c-9e59-6cc3ac9cff17"
        },
        "colab": {
          "base_uri": "https://localhost:8080/"
        },
        "id": "fRjj0T37DqU8",
        "outputId": "d67b5787-85bd-409f-b04e-806bdc62c47e"
      },
      "outputs": [
        {
          "output_type": "stream",
          "name": "stdout",
          "text": [
            "<class 'bool'> <class 'bool'>\n"
          ]
        }
      ],
      "execution_count": null
    },
    {
      "cell_type": "code",
      "source": [
        "#CADENAS DE CARACTERES\n",
        "print(type('P'), type(\"Uso de oraciones\"), type('''Se emplea para párrafos. Incluye múltiples oraciones'''))"
      ],
      "metadata": {
        "id": "Q1xcEoXPLH1K",
        "application/vnd.databricks.v1+cell": {
          "title": "",
          "showTitle": false,
          "inputWidgets": {},
          "nuid": "bfea53de-62b1-45e4-b63c-11e79dd72d12"
        },
        "colab": {
          "base_uri": "https://localhost:8080/"
        },
        "scrolled": true,
        "outputId": "9412503d-b74e-41ef-ef01-3cfcb18c7f22"
      },
      "outputs": [
        {
          "output_type": "stream",
          "name": "stdout",
          "text": [
            "<class 'str'> <class 'str'> <class 'str'>\n"
          ]
        }
      ],
      "execution_count": null
    },
    {
      "cell_type": "code",
      "source": [
        "sent = '''Las variables son elementos que almacenan/representan datos y se identifican por letras o nombres.\n",
        "\n",
        "Su creacion se realiza a través de la ASIGNACION de un VALOR a una variable utilizando el operador =.\n",
        "\n",
        "Nombres de Variables:'''\n",
        "if 'de' in sent: \n",
        "  sent = sent+'123456'  \n",
        "sent"
      ],
      "metadata": {
        "colab": {
          "base_uri": "https://localhost:8080/",
          "height": 71
        },
        "id": "0yszgNBbhcwr",
        "outputId": "3fb780c8-45a9-4aa1-a596-c31850e4da6c"
      },
      "execution_count": null,
      "outputs": [
        {
          "output_type": "execute_result",
          "data": {
            "text/plain": [
              "'Las variables son elementos que almacenan/representan datos y se identifican por letras o nombres.\\n\\nSu creacion se realiza a través de la ASIGNACION de un VALOR a una variable utilizando el operador =.\\n\\nNombres de Variables:123456'"
            ],
            "application/vnd.google.colaboratory.intrinsic+json": {
              "type": "string"
            }
          },
          "metadata": {},
          "execution_count": 18
        }
      ]
    },
    {
      "cell_type": "markdown",
      "source": [
        "### Creación y Asignación de Variables\n",
        "Las variables son elementos que almacenan/representan datos y se identifican por letras o nombres.\n",
        "\n",
        "Su creacion se realiza a través de la **ASIGNACION** de un **VALOR** a una variable utilizando el operador ```=```.\n",
        "\n",
        "Nombres de Variables:\n",
        "*   Distingue el uso de mayúsculas y minúsculas\n",
        "*   No se permite caracteres de puntuación como +, -, @, $ y %\n",
        "*   Significativos con relación al dato que  representa o almacena\n",
        "*   Hay [palabras reservadas](https://es.wikibooks.org/wiki/Python/Generalidades/Palabras_reservadas,_operadores_y_s%C3%ADmbolos_del_lenguaje) que no son válidas como nombres de variables\n",
        "*   Emplear las recomendaciones de [PEP-8](https://www.python.org/dev/peps/pep-0008/) para seguir mejores prácticas sobre cómo escribir código Python\n",
        "\n",
        "**Buena práctica:** Los nombres de las variables deben estar en minúsculas, con palabras separadas por guiones bajos según sea necesario para mejorar la legibilidad."
      ],
      "metadata": {
        "id": "7cIkuADYQMw9",
        "application/vnd.databricks.v1+cell": {
          "title": "",
          "showTitle": false,
          "inputWidgets": {},
          "nuid": "d5069838-ccaa-40f8-915c-e90f99c1f19a"
        }
      }
    },
    {
      "cell_type": "code",
      "source": [
        "precio = 20\n",
        "precio"
      ],
      "metadata": {
        "colab": {
          "base_uri": "https://localhost:8080/"
        },
        "id": "adMEjCUkjj8D",
        "outputId": "0bae6dc8-4325-4c0c-afc7-ed5c8c832f61"
      },
      "execution_count": null,
      "outputs": [
        {
          "output_type": "execute_result",
          "data": {
            "text/plain": [
              "20"
            ]
          },
          "metadata": {},
          "execution_count": 19
        }
      ]
    },
    {
      "cell_type": "code",
      "source": [
        "precio = 30\n",
        "Precio = 24\n",
        "\n",
        "#¿Cuál será el resultado de imprimir Precio?\n",
        "Precio"
      ],
      "metadata": {
        "application/vnd.databricks.v1+cell": {
          "title": "",
          "showTitle": false,
          "inputWidgets": {},
          "nuid": "25d36d41-e0ae-4344-ae48-adb426dc181f"
        },
        "colab": {
          "base_uri": "https://localhost:8080/"
        },
        "id": "BSyAJkuTDqU9",
        "outputId": "f5783179-3d15-4cbd-a0b3-c75c44a4441c"
      },
      "outputs": [
        {
          "output_type": "execute_result",
          "data": {
            "text/plain": [
              "24"
            ]
          },
          "metadata": {},
          "execution_count": 20
        }
      ],
      "execution_count": null
    },
    {
      "cell_type": "code",
      "source": [
        "precio"
      ],
      "metadata": {
        "colab": {
          "base_uri": "https://localhost:8080/"
        },
        "id": "RtQbHvxujs-h",
        "outputId": "65872a92-65d2-4e63-af3c-e34a7918ad75"
      },
      "execution_count": null,
      "outputs": [
        {
          "output_type": "execute_result",
          "data": {
            "text/plain": [
              "30"
            ]
          },
          "metadata": {},
          "execution_count": 22
        }
      ]
    },
    {
      "cell_type": "markdown",
      "source": [
        "Las variables pueden cambiar su valor o tipo de dato que almacenan a lo largo de la ejecución de un programa.\n",
        "**La última asignación es la que cuenta.**"
      ],
      "metadata": {
        "id": "t2pwkrAQVURe",
        "application/vnd.databricks.v1+cell": {
          "title": "",
          "showTitle": false,
          "inputWidgets": {},
          "nuid": "e9e7b0a0-bffd-4242-89ad-2b67efb01ec3"
        }
      }
    },
    {
      "cell_type": "code",
      "source": [
        "#Asignación en misma linea con ;\n",
        "a = 0 ; b = -10       \n",
        "print(a, b)\n",
        "\n",
        "#Asignación multiple\n",
        "a, _,b = 5.0, 'Dia' ,123  \n",
        "print(a, b)\n",
        "b"
      ],
      "metadata": {
        "id": "Kx6iug_PVSEm",
        "application/vnd.databricks.v1+cell": {
          "title": "",
          "showTitle": false,
          "inputWidgets": {},
          "nuid": "01de70f7-a115-4fd8-959c-78da5c53b72d"
        },
        "colab": {
          "base_uri": "https://localhost:8080/"
        },
        "outputId": "492183b2-af95-4b34-8357-c7390011c809"
      },
      "outputs": [
        {
          "output_type": "stream",
          "name": "stdout",
          "text": [
            "0 -10\n",
            "5.0 123\n"
          ]
        },
        {
          "output_type": "execute_result",
          "data": {
            "text/plain": [
              "123"
            ]
          },
          "metadata": {},
          "execution_count": 27
        }
      ],
      "execution_count": null
    },
    {
      "cell_type": "markdown",
      "source": [
        "### Operadores aritméticos, relacionales, lógicos y de pertenencia"
      ],
      "metadata": {
        "id": "pArnN1lI_b_2",
        "application/vnd.databricks.v1+cell": {
          "title": "",
          "showTitle": false,
          "inputWidgets": {},
          "nuid": "815d099d-176d-4870-ac05-6f60a395f37c"
        }
      }
    },
    {
      "cell_type": "markdown",
      "source": [
        "Los **operadores** son símbolos que expresan operaciones básicas en un programa. \n",
        "* Operadores **ARITMÉTICOS:**\n",
        " - Suma `+`\n",
        " - Resta `-`\n",
        " - Multiplicación `*`\n",
        " - División `/`, dividión entera `//` y módulo `%`\n",
        " - Potenciación `**`"
      ],
      "metadata": {
        "id": "mu532-mLcNWg",
        "application/vnd.databricks.v1+cell": {
          "title": "",
          "showTitle": false,
          "inputWidgets": {},
          "nuid": "1d87da48-4716-46e7-85e2-886ff6a9c080"
        }
      }
    },
    {
      "cell_type": "code",
      "source": [
        "# Ejecutar diferentes tipos de operaciones en los datos\n",
        "a = (5 ** 0.3)+2\n",
        "\n",
        "print(a)\n",
        "5%2\n"
      ],
      "metadata": {
        "id": "JtustTY4ecbD",
        "application/vnd.databricks.v1+cell": {
          "title": "",
          "showTitle": false,
          "inputWidgets": {},
          "nuid": "8915e35f-757c-4878-83c3-d9e41da052b5"
        },
        "colab": {
          "base_uri": "https://localhost:8080/"
        },
        "outputId": "51ca9bc6-0e8d-4f88-cea2-97b941a9e6a7"
      },
      "outputs": [
        {
          "output_type": "stream",
          "name": "stdout",
          "text": [
            "3.620656596692762\n"
          ]
        },
        {
          "output_type": "execute_result",
          "data": {
            "text/plain": [
              "1"
            ]
          },
          "metadata": {},
          "execution_count": 35
        }
      ],
      "execution_count": null
    },
    {
      "cell_type": "code",
      "source": [
        "x = 5\n",
        "if(x%2==0):\n",
        "    print('x es par')\n",
        "else:\n",
        "    print('x es impar')\n"
      ],
      "metadata": {
        "id": "cb_SgW1Qm5bY"
      },
      "execution_count": null,
      "outputs": []
    },
    {
      "cell_type": "markdown",
      "source": [
        "* Operadores **RELACIONALES**: Comparan valores y devuelven un booleano (```True``` o ```False```) según corresponda el resultado de la evaluación."
      ],
      "metadata": {
        "id": "gof2b2gQgpgu",
        "application/vnd.databricks.v1+cell": {
          "title": "",
          "showTitle": false,
          "inputWidgets": {},
          "nuid": "f8d1ecc5-49dc-4d5e-bcb5-57e35f8ec0e2"
        }
      }
    },
    {
      "cell_type": "code",
      "source": [
        "a = 8\n",
        "print(\"igual que:\" , a == 8)\n",
        "print(\"distinto que:\" , a != 8)"
      ],
      "metadata": {
        "id": "1lcuLG3Eek0p",
        "application/vnd.databricks.v1+cell": {
          "title": "",
          "showTitle": false,
          "inputWidgets": {},
          "nuid": "4a470680-8dd3-4d98-a502-fb1da3a57d75"
        },
        "colab": {
          "base_uri": "https://localhost:8080/"
        },
        "scrolled": true,
        "outputId": "8bc0e7c5-5b70-4fd5-fa3d-8c7c73a73928"
      },
      "outputs": [
        {
          "output_type": "stream",
          "name": "stdout",
          "text": [
            "igual que: True\n",
            "distinto que: False\n"
          ]
        }
      ],
      "execution_count": null
    },
    {
      "cell_type": "code",
      "source": [
        "a, b = 4, 18\n",
        "print(\"mayor que:\", a > b)\n",
        "print(\"menor que:\", a < b)"
      ],
      "metadata": {
        "id": "Vd2DaaGtiZPM",
        "application/vnd.databricks.v1+cell": {
          "title": "",
          "showTitle": false,
          "inputWidgets": {},
          "nuid": "1bd94cf2-4a2a-49d2-84d9-bb56719a2305"
        },
        "colab": {
          "base_uri": "https://localhost:8080/"
        },
        "scrolled": false,
        "outputId": "7235706e-353a-4d62-9e68-20ff881ddb1d"
      },
      "outputs": [
        {
          "output_type": "stream",
          "name": "stdout",
          "text": [
            "mayor que: False\n",
            "menor que: True\n"
          ]
        }
      ],
      "execution_count": null
    },
    {
      "cell_type": "code",
      "source": [
        "a, b = 1, 5\n",
        "print(\"mayor o igual que:\", b >= a)    # 5 >= 1\n",
        "print(\"menor o igual que:\", -1 <= a)   # -1 <= 1"
      ],
      "metadata": {
        "id": "ie5rg7oFjky4",
        "application/vnd.databricks.v1+cell": {
          "title": "",
          "showTitle": false,
          "inputWidgets": {},
          "nuid": "f3c54393-228e-4de0-bf14-dfa366eca911"
        },
        "colab": {
          "base_uri": "https://localhost:8080/"
        },
        "scrolled": true,
        "outputId": "5ab27d31-ba50-4f4e-bdd2-3b8d71f26219"
      },
      "outputs": [
        {
          "output_type": "stream",
          "name": "stdout",
          "text": [
            "mayor o igual que: True\n",
            "menor o igual que: True\n"
          ]
        }
      ],
      "execution_count": null
    },
    {
      "cell_type": "markdown",
      "source": [
        "* Operadores **LÓGICOS**: Permiten construir expresiones lógicas. El resultado es un booleano. \n",
        ">NOTA: Revisa [tablas de verdad](https://es.wikipedia.org/wiki/Tabla_de_verdad) para las operaciones de conjunción, disyunción y negación."
      ],
      "metadata": {
        "id": "n65TVsMJkYCI",
        "application/vnd.databricks.v1+cell": {
          "title": "",
          "showTitle": false,
          "inputWidgets": {},
          "nuid": "d891e59a-4b9a-4677-949a-7f79b917990a"
        }
      }
    },
    {
      "cell_type": "code",
      "source": [
        "# CONJUNCION (and)\n",
        "a = 4\n",
        "a >= 1 and a <= 5   #(4>=1)  and  (4<=5)  = True"
      ],
      "metadata": {
        "id": "TnrxfzjomUSN",
        "application/vnd.databricks.v1+cell": {
          "title": "",
          "showTitle": false,
          "inputWidgets": {},
          "nuid": "384fd4a4-566f-47ea-9a60-08b399485872"
        },
        "colab": {
          "base_uri": "https://localhost:8080/"
        },
        "outputId": "9311f3eb-48bd-4c20-ba1a-e077ef063e53"
      },
      "outputs": [
        {
          "output_type": "execute_result",
          "data": {
            "text/plain": [
              "True"
            ]
          },
          "metadata": {},
          "execution_count": 37
        }
      ],
      "execution_count": null
    },
    {
      "cell_type": "code",
      "source": [
        "# DISYUNCION (or)\n",
        "a = 7\n",
        "a >= 6 or a == 10   #(7>=6) or (a==10) = True   "
      ],
      "metadata": {
        "id": "rXFtJiPimUEd",
        "application/vnd.databricks.v1+cell": {
          "title": "",
          "showTitle": false,
          "inputWidgets": {},
          "nuid": "f689b33f-59bb-4de9-a847-264965f4b193"
        },
        "colab": {
          "base_uri": "https://localhost:8080/"
        },
        "outputId": "67df0364-7871-48ae-9420-e20a87be3576"
      },
      "outputs": [
        {
          "output_type": "execute_result",
          "data": {
            "text/plain": [
              "True"
            ]
          },
          "metadata": {},
          "execution_count": 38
        }
      ],
      "execution_count": null
    },
    {
      "cell_type": "code",
      "source": [
        "# NEGACION (not)\n",
        "a = False\n",
        "not a"
      ],
      "metadata": {
        "id": "JYGEkatKmTzG",
        "application/vnd.databricks.v1+cell": {
          "title": "",
          "showTitle": false,
          "inputWidgets": {},
          "nuid": "d0dc3f83-f788-49f0-9828-80300c37aa8f"
        },
        "colab": {
          "base_uri": "https://localhost:8080/"
        },
        "outputId": "3e7c3be8-88ca-4fd2-9d72-41c848845a4d"
      },
      "outputs": [
        {
          "output_type": "execute_result",
          "data": {
            "text/plain": [
              "True"
            ]
          },
          "metadata": {},
          "execution_count": 94
        }
      ],
      "execution_count": null
    },
    {
      "cell_type": "markdown",
      "source": [
        "* Operadores de **PERTENENCIA**: Permiten evidenciar si un objeto forma parte o no de una secuencia. El resultado es un booleano."
      ],
      "metadata": {
        "application/vnd.databricks.v1+cell": {
          "title": "",
          "showTitle": false,
          "inputWidgets": {},
          "nuid": "3e848e0c-5c4d-4c4d-ac4a-ef489907c8f7"
        },
        "id": "p-jotziyDqVA"
      }
    },
    {
      "cell_type": "code",
      "source": [
        "texto = \"La escritura en Python es intuitiva\"\n",
        "\n",
        "# SE ENCUENTRA (in)\n",
        "print('N' in texto)\n",
        "\n",
        "# NO SE ENCUENTRA (not in)\n",
        "print('x' not in texto)  "
      ],
      "metadata": {
        "application/vnd.databricks.v1+cell": {
          "title": "",
          "showTitle": false,
          "inputWidgets": {},
          "nuid": "19ed636e-7e1b-480e-b998-9501fca66ed6"
        },
        "colab": {
          "base_uri": "https://localhost:8080/"
        },
        "id": "Mi_KW2xhDqVA",
        "outputId": "cdd7d63f-6e52-4e06-ad21-12a377f7f9a9"
      },
      "outputs": [
        {
          "output_type": "stream",
          "name": "stdout",
          "text": [
            "False\n",
            "True\n"
          ]
        }
      ],
      "execution_count": null
    },
    {
      "cell_type": "markdown",
      "source": [
        "> **Ejercicio 1:** Realizar las siguientes ejecuciones de código:\n",
        "\n",
        "1. Imprimir el tipo de dato que es x\n",
        "2. Verificar que el valor de x sea mayor igual a 0 y menor igual a 10\n",
        "3. Evaluar si x es diferente a 4\n",
        "4. Dividir x para el valor de 2 (obtener el cociente)"
      ],
      "metadata": {
        "id": "5Ey2Lv8FD9os"
      }
    },
    {
      "cell_type": "code",
      "source": [
        "x = 3\n",
        "\n",
        "# Su código aquí"
      ],
      "metadata": {
        "application/vnd.databricks.v1+cell": {
          "title": "",
          "showTitle": false,
          "inputWidgets": {},
          "nuid": "da41b0c0-c866-4a9d-b8d3-188d603a4a9f"
        },
        "id": "B0dm5nvaDqVA"
      },
      "outputs": [],
      "execution_count": null
    },
    {
      "cell_type": "markdown",
      "source": [
        "### Solución"
      ],
      "metadata": {
        "id": "DXS-jnZ7Fr7J"
      }
    },
    {
      "cell_type": "code",
      "source": [
        "# Ejercicio 1 resuelto\n",
        "x = 3\n",
        "print('Respuestas:')\n",
        "print('Primer enunciado:', type(x))\n",
        "print('Segundo enunciado:', x >= 0 and x <= 10)\n",
        "print('Tercer enunciado:', x != 4)\n",
        "print('Tercer enunciado:',x == 4, not(x == 4))\n",
        "print('Cuarto enunciado:', x/2)"
      ],
      "metadata": {
        "application/vnd.databricks.v1+cell": {
          "title": "",
          "showTitle": false,
          "inputWidgets": {},
          "nuid": "3dc8c1e7-10dc-4bd7-9276-26079f9e47d3"
        },
        "colab": {
          "base_uri": "https://localhost:8080/"
        },
        "cellView": "code",
        "id": "_i8xw7rADqVA",
        "outputId": "a7966f34-4651-4c86-c572-9e3c01297b9b"
      },
      "outputs": [
        {
          "output_type": "stream",
          "name": "stdout",
          "text": [
            "Respuestas:\n",
            "Primer enunciado: <class 'int'>\n",
            "Segundo enunciado: True\n",
            "Tercer enunciado: True\n",
            "Tercer enunciado: False True\n",
            "Cuarto enunciado: 1\n"
          ]
        }
      ],
      "execution_count": null
    },
    {
      "cell_type": "markdown",
      "source": [
        "### Prioridad de Operadores:\n",
        "1.   Parentesis\n",
        "2.   Potencia\n",
        "3.  Multiplicación y división\n",
        "4.  Suma y resta"
      ],
      "metadata": {
        "id": "AdHGl7GcqHDb",
        "application/vnd.databricks.v1+cell": {
          "title": "",
          "showTitle": false,
          "inputWidgets": {},
          "nuid": "45bac491-6544-41f9-aca1-6346fa9b9d40"
        }
      }
    },
    {
      "cell_type": "code",
      "source": [
        "y = -1 + 2 * 0 - (24 / 2 ** 3)\n",
        "print(y)"
      ],
      "metadata": {
        "id": "K0RNNaEFqiX_",
        "application/vnd.databricks.v1+cell": {
          "title": "",
          "showTitle": false,
          "inputWidgets": {},
          "nuid": "fc000586-85bb-451d-9f9e-3c553ba4a7f4"
        },
        "colab": {
          "base_uri": "https://localhost:8080/"
        },
        "outputId": "fe6e7cbc-4f0e-4ddc-8d17-55ee56e2556c"
      },
      "outputs": [
        {
          "output_type": "stream",
          "name": "stdout",
          "text": [
            "-4.0\n"
          ]
        }
      ],
      "execution_count": null
    },
    {
      "cell_type": "markdown",
      "source": [
        "### Conversiones entre tipos de datos"
      ],
      "metadata": {
        "id": "JHo2s3BS_h8f",
        "application/vnd.databricks.v1+cell": {
          "title": "",
          "showTitle": false,
          "inputWidgets": {},
          "nuid": "ac4146b3-0593-448a-97cc-7a5d5335dd6e"
        }
      }
    },
    {
      "cell_type": "markdown",
      "source": [
        "Se pueden convertir datos cuyos contenidos sean compatibles (numéricos a diferentes formatos, numéricos a ```str```). **Pero no es válido convertir str a formatos numéricos.** \n",
        "\n",
        "Las principales funciones convertidoras son:\n",
        "*   ```int()```\n",
        "*   ```float()```\n",
        "*   ```str()```"
      ],
      "metadata": {
        "id": "OaqgmWBTcM7s",
        "application/vnd.databricks.v1+cell": {
          "title": "",
          "showTitle": false,
          "inputWidgets": {},
          "nuid": "2a800f46-b4f2-4d30-bdad-2e9f31c8a045"
        }
      }
    },
    {
      "cell_type": "code",
      "source": [
        "#Conversión de un decimal(float) a entero (int)\n",
        "a = 3.141516\n",
        "int(a)"
      ],
      "metadata": {
        "id": "OdIvH19as30o",
        "application/vnd.databricks.v1+cell": {
          "title": "",
          "showTitle": false,
          "inputWidgets": {},
          "nuid": "fa44b5fa-4d19-4482-8097-35c48cc6a607"
        },
        "colab": {
          "base_uri": "https://localhost:8080/"
        },
        "outputId": "0633de54-c375-4b98-d087-796bad4b4626"
      },
      "outputs": [
        {
          "output_type": "execute_result",
          "data": {
            "text/plain": [
              "3"
            ]
          },
          "metadata": {},
          "execution_count": 48
        }
      ],
      "execution_count": null
    },
    {
      "cell_type": "code",
      "source": [
        "c = 3\n",
        "c\n",
        "float(c)"
      ],
      "metadata": {
        "colab": {
          "base_uri": "https://localhost:8080/"
        },
        "id": "pualvXbosIeu",
        "outputId": "49148945-02f6-4b1e-817b-54d6f1ce4417"
      },
      "execution_count": null,
      "outputs": [
        {
          "output_type": "execute_result",
          "data": {
            "text/plain": [
              "3.0"
            ]
          },
          "metadata": {},
          "execution_count": 53
        }
      ]
    },
    {
      "cell_type": "code",
      "source": [
        "#Conversión de un número a caracteres de texto (str)\n",
        "b = 7\n",
        "print(type(b))\n",
        "print(str(b))\n",
        "print(type(str(b)))"
      ],
      "metadata": {
        "application/vnd.databricks.v1+cell": {
          "title": "",
          "showTitle": false,
          "inputWidgets": {},
          "nuid": "1e51c53b-05e4-46de-ae15-b2c75949bb66"
        },
        "colab": {
          "base_uri": "https://localhost:8080/"
        },
        "id": "OHyIQmYADqVB",
        "outputId": "e3fd93d0-5bfb-4e80-96be-49601cb221d1"
      },
      "outputs": [
        {
          "output_type": "stream",
          "name": "stdout",
          "text": [
            "<class 'int'>\n",
            "7\n",
            "<class 'str'>\n"
          ]
        }
      ],
      "execution_count": null
    },
    {
      "cell_type": "markdown",
      "source": [
        "**Errores de conversión:** Que sucede al intentar convertir un str en valor numérico (int, float)? <br>"
      ],
      "metadata": {
        "id": "PQrWEGdmla8k",
        "application/vnd.databricks.v1+cell": {
          "title": "",
          "showTitle": false,
          "inputWidgets": {},
          "nuid": "23f1a124-1785-41d4-85ff-6cca2c103955"
        }
      }
    },
    {
      "cell_type": "code",
      "source": [
        "c = 'Raquel'\n",
        "print(int(c))"
      ],
      "metadata": {
        "id": "60MOagFcla8k",
        "application/vnd.databricks.v1+cell": {
          "title": "",
          "showTitle": false,
          "inputWidgets": {},
          "nuid": "bc69c88f-b0b7-49df-bf1b-f30d040b3d88"
        },
        "colab": {
          "base_uri": "https://localhost:8080/",
          "height": 187
        },
        "outputId": "e1ecbfbb-2209-43a3-f4e3-6609a5413f05"
      },
      "outputs": [
        {
          "output_type": "error",
          "ename": "ValueError",
          "evalue": "ignored",
          "traceback": [
            "\u001b[0;31m---------------------------------------------------------------------------\u001b[0m",
            "\u001b[0;31mValueError\u001b[0m                                Traceback (most recent call last)",
            "\u001b[0;32m<ipython-input-56-1daf27036614>\u001b[0m in \u001b[0;36m<module>\u001b[0;34m\u001b[0m\n\u001b[1;32m      1\u001b[0m \u001b[0mc\u001b[0m \u001b[0;34m=\u001b[0m \u001b[0;34m'Raquel'\u001b[0m\u001b[0;34m\u001b[0m\u001b[0;34m\u001b[0m\u001b[0m\n\u001b[0;32m----> 2\u001b[0;31m \u001b[0mprint\u001b[0m\u001b[0;34m(\u001b[0m\u001b[0mint\u001b[0m\u001b[0;34m(\u001b[0m\u001b[0mc\u001b[0m\u001b[0;34m)\u001b[0m\u001b[0;34m)\u001b[0m\u001b[0;34m\u001b[0m\u001b[0;34m\u001b[0m\u001b[0m\n\u001b[0m",
            "\u001b[0;31mValueError\u001b[0m: invalid literal for int() with base 10: 'Raquel'"
          ]
        }
      ],
      "execution_count": null
    },
    {
      "cell_type": "code",
      "source": [
        "d = '4.0'\n",
        "int(float(d))"
      ],
      "metadata": {
        "colab": {
          "base_uri": "https://localhost:8080/"
        },
        "id": "i2cf1Qzss46c",
        "outputId": "59be04ec-9a8b-4adc-ab04-405453796183"
      },
      "execution_count": null,
      "outputs": [
        {
          "output_type": "execute_result",
          "data": {
            "text/plain": [
              "4"
            ]
          },
          "metadata": {},
          "execution_count": 62
        }
      ]
    },
    {
      "cell_type": "markdown",
      "source": [
        "## Parte 2: Colecciones de datos: tuplas, listas y diccionarios"
      ],
      "metadata": {
        "application/vnd.databricks.v1+cell": {
          "title": "",
          "showTitle": false,
          "inputWidgets": {},
          "nuid": "18f9e71e-ede9-4ce2-868d-b48c390cde46"
        },
        "id": "68QT3aWvDqVB"
      }
    },
    {
      "cell_type": "markdown",
      "source": [
        "### Tuplas\n",
        "1. Colección de datos INMUTABLES (sus elementos no pueden modificarse) \n",
        "2. Encerrar la tupla entre paréntisis `()`\n",
        "3. No requiere especificar el tipo de datos y puede contener elementos de distinto tipo\n",
        "4. Separar cada elemento con coma\n",
        "5. Asignar la tupla a una variable que la representará, utilizando el operador ="
      ],
      "metadata": {
        "application/vnd.databricks.v1+cell": {
          "title": "",
          "showTitle": false,
          "inputWidgets": {},
          "nuid": "aa83f2c1-3374-45aa-8a80-2bbf6e025643"
        },
        "id": "fcuFORlGDqVC"
      }
    },
    {
      "cell_type": "code",
      "source": [
        "tupla = (100, 20, 0, 300)\n",
        "tupla"
      ],
      "metadata": {
        "application/vnd.databricks.v1+cell": {
          "title": "",
          "showTitle": false,
          "inputWidgets": {},
          "nuid": "a2bd9fd0-dd4f-4b1a-ac90-f6e1e8c6f9c5"
        },
        "colab": {
          "base_uri": "https://localhost:8080/"
        },
        "id": "LHA6uq8EDqVC",
        "outputId": "71eac401-f222-49fb-e4f6-2375a4d3f873"
      },
      "outputs": [
        {
          "output_type": "execute_result",
          "data": {
            "text/plain": [
              "(100, 20, 0, 300)"
            ]
          },
          "metadata": {},
          "execution_count": 64
        }
      ],
      "execution_count": null
    },
    {
      "cell_type": "code",
      "source": [
        "len(tupla)"
      ],
      "metadata": {
        "colab": {
          "base_uri": "https://localhost:8080/"
        },
        "id": "qfJVL2f6uNus",
        "outputId": "3d0381e8-04bc-4c08-b589-3e898530fdf4"
      },
      "execution_count": null,
      "outputs": [
        {
          "output_type": "execute_result",
          "data": {
            "text/plain": [
              "4"
            ]
          },
          "metadata": {},
          "execution_count": 68
        }
      ]
    },
    {
      "cell_type": "code",
      "source": [
        "type(tupla)"
      ],
      "metadata": {
        "application/vnd.databricks.v1+cell": {
          "title": "",
          "showTitle": false,
          "inputWidgets": {},
          "nuid": "50111342-7e69-441f-9d21-98d15e5bc89d"
        },
        "colab": {
          "base_uri": "https://localhost:8080/"
        },
        "id": "EQ90nXyrDqVC",
        "outputId": "633a2791-d57b-4ee7-9345-e53348f416f8"
      },
      "outputs": [
        {
          "output_type": "execute_result",
          "data": {
            "text/plain": [
              "tuple"
            ]
          },
          "metadata": {},
          "execution_count": 103
        }
      ],
      "execution_count": null
    },
    {
      "cell_type": "markdown",
      "source": [
        "**Error por Inmutabilidad de Tuplas:** Al tratar de modificar un elemento en una tupla se emite un mensaje de error. \n",
        "\n",
        "**Importante:** Las tuplas son inmutables."
      ],
      "metadata": {
        "application/vnd.databricks.v1+cell": {
          "title": "",
          "showTitle": false,
          "inputWidgets": {},
          "nuid": "9044d196-0923-4900-8090-6a2de312b82e"
        },
        "id": "f3VoHkkzDqVC"
      }
    },
    {
      "cell_type": "markdown",
      "source": [
        "### Listas\n",
        "\n",
        "Las listas permiten organizar los datos en conjuntos con alguna similitud: amigos, películas, tareas, etc. \n",
        "\n",
        "**Creación:**\n",
        "1.   No requiere especificar tipo de datos y puede contener elementos de distinto tipo\n",
        "2.   Separar cada elemento con coma\n",
        "3.   Encerrar la lista con corchetes ```[ ]```\n",
        "4.   Asignar la lista a una variable que la representará, utilizando el operador ```=```\n",
        "5.   Son **mutables** lo que permite modificar sus elementos"
      ],
      "metadata": {
        "id": "NqflwZTN4Jwq",
        "application/vnd.databricks.v1+cell": {
          "title": "",
          "showTitle": false,
          "inputWidgets": {},
          "nuid": "9d827de6-b9d1-49c8-89c1-d9cdaabe468c"
        }
      }
    },
    {
      "cell_type": "code",
      "source": [
        "vacia = [ ]\n",
        "print(vacia)\n",
        "\n",
        "amigos = ['Kan', 'Ely','Pedro', 'Ali']\n",
        "print(amigos)"
      ],
      "metadata": {
        "id": "tB8wEb9734J8",
        "application/vnd.databricks.v1+cell": {
          "title": "",
          "showTitle": false,
          "inputWidgets": {},
          "nuid": "03035ecd-8799-4124-a91c-f233c86015e2"
        },
        "colab": {
          "base_uri": "https://localhost:8080/"
        },
        "outputId": "3ac9d506-424e-4edf-9a93-a63794b5ce6d"
      },
      "outputs": [
        {
          "output_type": "stream",
          "name": "stdout",
          "text": [
            "[]\n",
            "['Kan', 'Ely', 'Pedro', 'Ali']\n"
          ]
        }
      ],
      "execution_count": null
    },
    {
      "cell_type": "markdown",
      "source": [
        "**Propiedades:**\n",
        "\n",
        "* `len()`   número de elementos que contiene la lista\n",
        "* `min()`   mínimo de una lista numérica\n",
        "* `max()`   máximo de una lista numérica\n",
        "* `sum()`   suma de elementos en una lista numérica"
      ],
      "metadata": {
        "id": "8dara_f56bLx",
        "application/vnd.databricks.v1+cell": {
          "title": "",
          "showTitle": false,
          "inputWidgets": {},
          "nuid": "c0f34176-d63c-4633-a357-9d14c25843f1"
        }
      }
    },
    {
      "cell_type": "code",
      "source": [
        "lista = [-10, .5, 6.2, -1.]    \n",
        "len(lista)"
      ],
      "metadata": {
        "id": "iAlTAZGX6YDU",
        "application/vnd.databricks.v1+cell": {
          "title": "",
          "showTitle": false,
          "inputWidgets": {},
          "nuid": "73a18676-a227-40be-b2f5-787f997cc034"
        },
        "colab": {
          "base_uri": "https://localhost:8080/"
        },
        "outputId": "ae765145-a6d3-44dc-c71b-75e4094382d7"
      },
      "outputs": [
        {
          "output_type": "execute_result",
          "data": {
            "text/plain": [
              "4"
            ]
          },
          "metadata": {},
          "execution_count": 70
        }
      ],
      "execution_count": null
    },
    {
      "cell_type": "code",
      "source": [
        "print('mínimo:', min(lista), 'máximo:', max(lista))"
      ],
      "metadata": {
        "id": "15ZFtQHD656n",
        "application/vnd.databricks.v1+cell": {
          "title": "",
          "showTitle": false,
          "inputWidgets": {},
          "nuid": "78a1716d-550c-482b-b49b-7daebf62a97c"
        },
        "colab": {
          "base_uri": "https://localhost:8080/"
        },
        "outputId": "f8625efa-8ae1-4ce2-ba94-084d93c9753f"
      },
      "outputs": [
        {
          "output_type": "stream",
          "name": "stdout",
          "text": [
            "mínimo: -10 máximo: 6.2\n"
          ]
        }
      ],
      "execution_count": null
    },
    {
      "cell_type": "code",
      "source": [
        "lista_2 = [-10, .5,\n",
        "           6.2, ['ops',2,4\n",
        "                 ]]   \n",
        "lista_2"
      ],
      "metadata": {
        "colab": {
          "base_uri": "https://localhost:8080/"
        },
        "id": "69SlyrE4vhOU",
        "outputId": "8479db90-9d42-4fb8-93c5-2f82e185da6f"
      },
      "execution_count": null,
      "outputs": [
        {
          "output_type": "execute_result",
          "data": {
            "text/plain": [
              "[-10, 0.5, 6.2, ['ops', 2, 4]]"
            ]
          },
          "metadata": {},
          "execution_count": 76
        }
      ]
    },
    {
      "cell_type": "code",
      "source": [
        "print('mínimo:', min(lista_2), 'máximo:', max(lista_2))"
      ],
      "metadata": {
        "colab": {
          "base_uri": "https://localhost:8080/",
          "height": 169
        },
        "id": "MFGVkWvFvnIC",
        "outputId": "65bfcfdb-da65-4239-db9d-725ad1169909"
      },
      "execution_count": null,
      "outputs": [
        {
          "output_type": "error",
          "ename": "TypeError",
          "evalue": "ignored",
          "traceback": [
            "\u001b[0;31m---------------------------------------------------------------------------\u001b[0m",
            "\u001b[0;31mTypeError\u001b[0m                                 Traceback (most recent call last)",
            "\u001b[0;32m<ipython-input-77-fd9734490770>\u001b[0m in \u001b[0;36m<module>\u001b[0;34m\u001b[0m\n\u001b[0;32m----> 1\u001b[0;31m \u001b[0mprint\u001b[0m\u001b[0;34m(\u001b[0m\u001b[0;34m'mínimo:'\u001b[0m\u001b[0;34m,\u001b[0m \u001b[0mmin\u001b[0m\u001b[0;34m(\u001b[0m\u001b[0mlista_2\u001b[0m\u001b[0;34m)\u001b[0m\u001b[0;34m,\u001b[0m \u001b[0;34m'máximo:'\u001b[0m\u001b[0;34m,\u001b[0m \u001b[0mmax\u001b[0m\u001b[0;34m(\u001b[0m\u001b[0mlista_2\u001b[0m\u001b[0;34m)\u001b[0m\u001b[0;34m)\u001b[0m\u001b[0;34m\u001b[0m\u001b[0;34m\u001b[0m\u001b[0m\n\u001b[0m",
            "\u001b[0;31mTypeError\u001b[0m: '<' not supported between instances of 'list' and 'int'"
          ]
        }
      ]
    },
    {
      "cell_type": "code",
      "source": [
        "print('suma:', sum(lista))"
      ],
      "metadata": {
        "id": "YtsrfUrx650_",
        "application/vnd.databricks.v1+cell": {
          "title": "",
          "showTitle": false,
          "inputWidgets": {},
          "nuid": "6f5c730a-04fc-4ca7-923d-f8944b3d2525"
        },
        "colab": {
          "base_uri": "https://localhost:8080/"
        },
        "outputId": "626233a3-496e-4b08-9926-60fee1c42b37"
      },
      "outputs": [
        {
          "output_type": "stream",
          "name": "stdout",
          "text": [
            "suma: -4.3\n"
          ]
        }
      ],
      "execution_count": null
    },
    {
      "cell_type": "markdown",
      "source": [
        "**Añadir elementos a una lista con `+`**"
      ],
      "metadata": {
        "application/vnd.databricks.v1+cell": {
          "title": "",
          "showTitle": false,
          "inputWidgets": {},
          "nuid": "2e06464e-c8c5-40d6-853b-c7448047cd78"
        },
        "id": "FeRm0CS-DqVD"
      }
    },
    {
      "cell_type": "code",
      "source": [
        "x = [3,9,0]\n",
        "y = [3,4,5]\n",
        "z = x + y\n",
        "print(z)"
      ],
      "metadata": {
        "id": "wNwxQxFW65tq",
        "application/vnd.databricks.v1+cell": {
          "title": "",
          "showTitle": false,
          "inputWidgets": {},
          "nuid": "30122a5b-b5a5-41b6-87ad-4b2f23732bf7"
        },
        "colab": {
          "base_uri": "https://localhost:8080/"
        },
        "outputId": "398dcac1-1eab-438a-d955-87cfe9c03982"
      },
      "outputs": [
        {
          "output_type": "stream",
          "name": "stdout",
          "text": [
            "[3, 9, 0, 3, 4, 5]\n"
          ]
        }
      ],
      "execution_count": null
    },
    {
      "cell_type": "markdown",
      "source": [
        "**Añadir elementos con `append`**"
      ],
      "metadata": {
        "application/vnd.databricks.v1+cell": {
          "title": "",
          "showTitle": false,
          "inputWidgets": {},
          "nuid": "4a34229a-16e1-4991-bf24-fac7e4ff3fab"
        },
        "id": "9KgK5U0lDqVD"
      }
    },
    {
      "cell_type": "code",
      "source": [
        "amigos = ['Kan', 'Ely', 'Pedro', 'Ali', 'Manuela', 'Monica']\n",
        "amigos.append('Galia')\n",
        "amigos.append(123456)\n",
        "print(amigos)"
      ],
      "metadata": {
        "id": "kL-w57b-MF5T",
        "application/vnd.databricks.v1+cell": {
          "title": "",
          "showTitle": false,
          "inputWidgets": {},
          "nuid": "23818630-c001-4654-abc5-c346a5e42bd0"
        },
        "colab": {
          "base_uri": "https://localhost:8080/"
        },
        "outputId": "5c457748-130a-4c14-f0fc-210619cba9b1"
      },
      "outputs": [
        {
          "output_type": "stream",
          "name": "stdout",
          "text": [
            "['Kan', 'Ely', 'Pedro', 'Ali', 'Manuela', 'Monica', 'Galia', 123456]\n"
          ]
        }
      ],
      "execution_count": null
    },
    {
      "cell_type": "markdown",
      "source": [
        "**Eliminar elementos con `remove`**"
      ],
      "metadata": {
        "application/vnd.databricks.v1+cell": {
          "title": "",
          "showTitle": false,
          "inputWidgets": {},
          "nuid": "49ed02a2-aacd-4cc4-961a-35c24d1530c7"
        },
        "id": "e9sexHmsDqVD"
      }
    },
    {
      "cell_type": "code",
      "source": [
        "amigos = ['Kan',  'Ali','Ely', 'Pedro', 'Ali', 'Manuela',  'Ali','Monica']\n",
        "amigos.remove('Ali')\n",
        "print(amigos)"
      ],
      "metadata": {
        "id": "6_b7WJEeMwqF",
        "application/vnd.databricks.v1+cell": {
          "title": "",
          "showTitle": false,
          "inputWidgets": {},
          "nuid": "fb5f3faa-cd05-4b5a-aa8e-7994360f3afd"
        },
        "colab": {
          "base_uri": "https://localhost:8080/"
        },
        "outputId": "b9b73ff6-e8d4-4824-9270-9a15b3b9d8f6"
      },
      "outputs": [
        {
          "output_type": "stream",
          "name": "stdout",
          "text": [
            "['Kan', 'Ely', 'Pedro', 'Ali', 'Manuela', 'Ali', 'Monica']\n"
          ]
        }
      ],
      "execution_count": null
    },
    {
      "cell_type": "markdown",
      "source": [
        "**Ordenar elementos con `sort`**: Para listas con elementos numéricos se ordena de forma ascendente o descendente y para cadenas de texto de forma alfabética"
      ],
      "metadata": {
        "application/vnd.databricks.v1+cell": {
          "title": "",
          "showTitle": false,
          "inputWidgets": {},
          "nuid": "bc5b6efc-a54c-41f5-be21-dc519009f6ca"
        },
        "id": "SjwtwLHgDqVD"
      }
    },
    {
      "cell_type": "code",
      "source": [
        "L = [-10,3,7,2]\n",
        "print(L)\n",
        "\n",
        "L.sort()\n",
        "print(L)"
      ],
      "metadata": {
        "id": "TzkKwsziMkx3",
        "application/vnd.databricks.v1+cell": {
          "title": "",
          "showTitle": false,
          "inputWidgets": {},
          "nuid": "f163daf0-9a96-4ebf-a197-cf0633baf6c8"
        },
        "colab": {
          "base_uri": "https://localhost:8080/"
        },
        "outputId": "58375e65-dcca-4b86-b613-2f87d40bb8ca"
      },
      "outputs": [
        {
          "output_type": "stream",
          "name": "stdout",
          "text": [
            "[-10, 3, 7, 2]\n",
            "[-10, 2, 3, 7]\n"
          ]
        }
      ],
      "execution_count": null
    },
    {
      "cell_type": "code",
      "source": [
        "L.sort(reverse=True)\n",
        "print(L)"
      ],
      "metadata": {
        "application/vnd.databricks.v1+cell": {
          "title": "",
          "showTitle": false,
          "inputWidgets": {},
          "nuid": "c4da6faa-afd1-4c72-be97-77cdd8619b5b"
        },
        "colab": {
          "base_uri": "https://localhost:8080/"
        },
        "id": "lESOTa9ODqVE",
        "outputId": "f396e579-ff90-4962-f152-d38718df528b"
      },
      "outputs": [
        {
          "output_type": "stream",
          "name": "stdout",
          "text": [
            "[7, 3, 2, -10]\n"
          ]
        }
      ],
      "execution_count": null
    },
    {
      "cell_type": "code",
      "source": [
        "L = [1,5,9]"
      ],
      "metadata": {
        "id": "5WksEbQUZ4zy"
      },
      "execution_count": null,
      "outputs": []
    },
    {
      "cell_type": "code",
      "source": [
        "amig = ['Kan',  'Ely', 'Pedro', 'Manuela',  'Ali','Monica']\n",
        "print(amig.sort())"
      ],
      "metadata": {
        "colab": {
          "base_uri": "https://localhost:8080/"
        },
        "id": "pAvVSUUmxahC",
        "outputId": "f44e672f-a404-4136-fe3d-ad872d68f301"
      },
      "execution_count": null,
      "outputs": [
        {
          "output_type": "stream",
          "name": "stdout",
          "text": [
            "None\n"
          ]
        }
      ]
    },
    {
      "cell_type": "markdown",
      "source": [
        "**Limpiar los elementos de una lista con `clear`**"
      ],
      "metadata": {
        "application/vnd.databricks.v1+cell": {
          "title": "",
          "showTitle": false,
          "inputWidgets": {},
          "nuid": "c55d17e2-0b92-40b2-868a-749f091bc4a6"
        },
        "id": "C1UKgrgsDqVE"
      }
    },
    {
      "cell_type": "code",
      "source": [
        "L.clear()\n",
        "print(L)"
      ],
      "metadata": {
        "id": "j9VxR4FGMptZ",
        "application/vnd.databricks.v1+cell": {
          "title": "",
          "showTitle": false,
          "inputWidgets": {},
          "nuid": "5c5363a0-a481-40b2-83a7-4b90f67d7bdd"
        },
        "colab": {
          "base_uri": "https://localhost:8080/"
        },
        "outputId": "75975ddc-dc3b-4ec4-cb34-4e6ba7b026c2"
      },
      "outputs": [
        {
          "output_type": "stream",
          "name": "stdout",
          "text": [
            "[]\n"
          ]
        }
      ],
      "execution_count": null
    },
    {
      "cell_type": "code",
      "source": [
        "L_4=[(3.2,1),4,'hola mundo']\n",
        "print(L_4)"
      ],
      "metadata": {
        "colab": {
          "base_uri": "https://localhost:8080/"
        },
        "id": "TDT8uSIiacc3",
        "outputId": "826c1ed2-68cb-4087-cd3a-796a572cf02c"
      },
      "execution_count": null,
      "outputs": [
        {
          "output_type": "stream",
          "name": "stdout",
          "text": [
            "[(3.2, 1), 4, 'hola mundo']\n"
          ]
        }
      ]
    },
    {
      "cell_type": "code",
      "source": [
        "st = 'hola mundo'\n",
        "st[5]='t'\n",
        "st"
      ],
      "metadata": {
        "colab": {
          "base_uri": "https://localhost:8080/",
          "height": 205
        },
        "id": "42SIpDpAyR_D",
        "outputId": "a5b9affe-133a-4279-c97e-64e052263316"
      },
      "execution_count": null,
      "outputs": [
        {
          "output_type": "error",
          "ename": "TypeError",
          "evalue": "ignored",
          "traceback": [
            "\u001b[0;31m---------------------------------------------------------------------------\u001b[0m",
            "\u001b[0;31mTypeError\u001b[0m                                 Traceback (most recent call last)",
            "\u001b[0;32m<ipython-input-101-65f8a2bbd3b2>\u001b[0m in \u001b[0;36m<module>\u001b[0;34m\u001b[0m\n\u001b[1;32m      1\u001b[0m \u001b[0mst\u001b[0m \u001b[0;34m=\u001b[0m \u001b[0;34m'hola mundo'\u001b[0m\u001b[0;34m\u001b[0m\u001b[0;34m\u001b[0m\u001b[0m\n\u001b[0;32m----> 2\u001b[0;31m \u001b[0mst\u001b[0m\u001b[0;34m[\u001b[0m\u001b[0;36m5\u001b[0m\u001b[0;34m]\u001b[0m\u001b[0;34m=\u001b[0m\u001b[0;34m't'\u001b[0m\u001b[0;34m\u001b[0m\u001b[0;34m\u001b[0m\u001b[0m\n\u001b[0m\u001b[1;32m      3\u001b[0m \u001b[0mst\u001b[0m\u001b[0;34m\u001b[0m\u001b[0;34m\u001b[0m\u001b[0m\n",
            "\u001b[0;31mTypeError\u001b[0m: 'str' object does not support item assignment"
          ]
        }
      ]
    },
    {
      "cell_type": "markdown",
      "source": [
        "### Indexación de Listas"
      ],
      "metadata": {
        "id": "pcc0VSi5AyZn",
        "application/vnd.databricks.v1+cell": {
          "title": "",
          "showTitle": false,
          "inputWidgets": {},
          "nuid": "0726b7fa-0d3c-46fc-9246-a7b5540c08c9"
        }
      }
    },
    {
      "cell_type": "markdown",
      "source": [
        "Python es un lenguaje cero-indexado por lo que el conteo de elementos empieza desde cero.\n",
        "\n",
        "Para acceder a los elementos (items) de una Lista utilizamos **índices** dentro de corchetes `[]`. Los **índices** son valores numéricos enteros que se manejan de 2 formas:\n",
        "\n",
        "1.   Indices Positivos: De Izquierda a Derecha empezando por el `0`:  (0,1,2,...)\n",
        "2.   Indices Negativos: De Derecha a Izquierda empezando por el `-1`:  (-1, -2, -3,...)\n",
        "\n",
        "\n",
        "<img style=\"float: center; width: 500px\" src=\"https://storage.googleapis.com/datasets-academy/slice.png\">"
      ],
      "metadata": {
        "id": "igXmOgqi-N1R",
        "application/vnd.databricks.v1+cell": {
          "title": "",
          "showTitle": false,
          "inputWidgets": {},
          "nuid": "7eac6ca9-8806-4bdc-8cff-8b25649e95af"
        }
      }
    },
    {
      "cell_type": "code",
      "source": [
        "L = ['a', 'b', 'c', 'd', 'e', 'f']\n",
        "\n",
        "# Indices positivos y negativos para acceder a un mismo elemento:\n",
        "\n",
        "# Primer elemento: \n",
        "print(L[0], L[-5])\n",
        "\n",
        "# Último elemento:  \n",
        "print(L[5], L[-1])"
      ],
      "metadata": {
        "id": "iASbn0Cx_JHb",
        "application/vnd.databricks.v1+cell": {
          "title": "",
          "showTitle": false,
          "inputWidgets": {},
          "nuid": "55d30b8a-7c96-4324-9a0c-552e983cd615"
        },
        "colab": {
          "base_uri": "https://localhost:8080/"
        },
        "outputId": "8679081e-9390-4532-82e3-c7c3fde4b027"
      },
      "outputs": [
        {
          "output_type": "stream",
          "name": "stdout",
          "text": [
            "a b\n",
            "f f\n"
          ]
        }
      ],
      "execution_count": null
    },
    {
      "cell_type": "markdown",
      "source": [
        "### Slicing de Listas\n",
        "Selección de una porción de la lista.\n",
        "```\n",
        "LISTA [inicio : fin]\n",
        "```\n",
        "\n",
        "<img style=\"float: center; width: 500px\" src=\"https://storage.googleapis.com/datasets-academy/slice.png\">"
      ],
      "metadata": {
        "id": "kvG-LPpMArfS",
        "application/vnd.databricks.v1+cell": {
          "title": "",
          "showTitle": false,
          "inputWidgets": {},
          "nuid": "3ea3125a-29c1-4756-9d7c-6b03605b6137"
        }
      }
    },
    {
      "cell_type": "code",
      "source": [
        "# Slicing de 2 elementos\n",
        "L = ['a', 'b', 'c', 'd', 'e', 'f']\n",
        "L[1:3]"
      ],
      "metadata": {
        "id": "cG67T8OcBfp4",
        "application/vnd.databricks.v1+cell": {
          "title": "",
          "showTitle": false,
          "inputWidgets": {},
          "nuid": "886b22f6-ffc4-4767-85a8-11bb7b82cf54"
        },
        "colab": {
          "base_uri": "https://localhost:8080/"
        },
        "outputId": "a8fb3fce-a70e-4fdd-8b34-72c4e5279b22"
      },
      "outputs": [
        {
          "output_type": "execute_result",
          "data": {
            "text/plain": [
              "['b', 'c']"
            ]
          },
          "metadata": {},
          "execution_count": 106
        }
      ],
      "execution_count": null
    },
    {
      "cell_type": "code",
      "source": [
        "#Slicing desde el inicio de la lista hasta un final establecido\n",
        "L[:4]"
      ],
      "metadata": {
        "id": "TDBuGw4pla-M",
        "application/vnd.databricks.v1+cell": {
          "title": "",
          "showTitle": false,
          "inputWidgets": {},
          "nuid": "82799f04-c3b7-4e40-97aa-58aa981b5db4"
        },
        "colab": {
          "base_uri": "https://localhost:8080/"
        },
        "outputId": "4d8cdbd6-9347-45ee-8d79-4d219ea6512e"
      },
      "outputs": [
        {
          "output_type": "execute_result",
          "data": {
            "text/plain": [
              "['a', 'b', 'c', 'd']"
            ]
          },
          "metadata": {},
          "execution_count": 116
        }
      ],
      "execution_count": null
    },
    {
      "cell_type": "code",
      "source": [
        "#Slicing inverso\n",
        "L[:-2]"
      ],
      "metadata": {
        "application/vnd.databricks.v1+cell": {
          "title": "",
          "showTitle": false,
          "inputWidgets": {},
          "nuid": "3120a065-b182-47ff-a00b-4b0a1f8d2863"
        },
        "colab": {
          "base_uri": "https://localhost:8080/"
        },
        "id": "A_YVttjTDqVF",
        "outputId": "f62a88d8-8f32-4c38-ab01-e0aee0deb1cc"
      },
      "outputs": [
        {
          "output_type": "execute_result",
          "data": {
            "text/plain": [
              "['a', 'b', 'c', 'd']"
            ]
          },
          "metadata": {},
          "execution_count": 117
        }
      ],
      "execution_count": null
    },
    {
      "cell_type": "code",
      "source": [
        "#Slicing utilizando la longitud de una lista\n",
        "L[:len(L)]"
      ],
      "metadata": {
        "id": "imhrHvONla-O",
        "application/vnd.databricks.v1+cell": {
          "title": "",
          "showTitle": false,
          "inputWidgets": {},
          "nuid": "f3c4f747-39a0-413c-a6e5-b4a45172e3bd"
        },
        "colab": {
          "base_uri": "https://localhost:8080/"
        },
        "outputId": "8980fbd2-e9ad-4d1e-e04c-06bcbf17fca2"
      },
      "outputs": [
        {
          "output_type": "execute_result",
          "data": {
            "text/plain": [
              "['a', 'b', 'c', 'd', 'e', 'f']"
            ]
          },
          "metadata": {},
          "execution_count": 118
        }
      ],
      "execution_count": null
    },
    {
      "cell_type": "code",
      "source": [
        "#Slicing con inicio definido hasta el final de la lista\n",
        "L[3:]"
      ],
      "metadata": {
        "application/vnd.databricks.v1+cell": {
          "title": "",
          "showTitle": false,
          "inputWidgets": {},
          "nuid": "10facaeb-0f73-4682-bcb7-1b6b37529425"
        },
        "colab": {
          "base_uri": "https://localhost:8080/"
        },
        "id": "quEzD827DqVF",
        "outputId": "b7643064-c3f1-4f7c-c07b-b35259ece7b6"
      },
      "outputs": [
        {
          "output_type": "execute_result",
          "data": {
            "text/plain": [
              "['d', 'e', 'f']"
            ]
          },
          "metadata": {},
          "execution_count": 119
        }
      ],
      "execution_count": null
    },
    {
      "cell_type": "markdown",
      "source": [
        "> **Ejercicio 2:** En base a lo aprendido, aplique las siguientes acciones al listado: `nombres_usuario`\n",
        "\n",
        "1. Operaciones con la lista nombre_usuario:\n",
        " - Se identificó que entre los elementos figura el nombre de una ciudad, elimine el valor de `'Quito'` de la lista con el método `remove`\n",
        "\n",
        "2. Imprima el tercer y último elemento de la lista usando el indexado por posición\n",
        "3. Imprima los nombres desde el primero elemento de la lista hasta el cuarto elemento usando el slicing\n",
        "4. Finalmente contabilice el número de elementos en la lista"
      ],
      "metadata": {
        "application/vnd.databricks.v1+cell": {
          "title": "",
          "showTitle": false,
          "inputWidgets": {},
          "nuid": "b7b3a2a8-05e9-4c39-bd44-5e8f50808a3d"
        },
        "id": "z41gED1cDqVF"
      }
    },
    {
      "cell_type": "code",
      "source": [
        "nombres_usuarios = ['Juan', 'Andrea', 'Pedro', 'Mishell', 'Quito', 'Pablo']\n",
        "\n",
        "# Su código aquí"
      ],
      "metadata": {
        "application/vnd.databricks.v1+cell": {
          "title": "",
          "showTitle": false,
          "inputWidgets": {},
          "nuid": "8a786097-ccf0-48d5-8d6b-68ea9cfb0900"
        },
        "id": "A2SvsAvPDqVF"
      },
      "outputs": [],
      "execution_count": null
    },
    {
      "cell_type": "markdown",
      "source": [
        "### Solución"
      ],
      "metadata": {
        "id": "jDDGzfbHGHa1"
      }
    },
    {
      "cell_type": "code",
      "source": [
        "nombres_usuarios = ['Juan', 'Andrea', 'Pedro', 'Mishell', 'Quito', 'Pablo']\n",
        "print('Respuestas:')\n",
        "nombres_usuarios.remove('Quito')\n",
        "\n",
        "print('Segundo enunciado:', nombres_usuarios[2], nombres_usuarios[-1])\n",
        "print('Tercer enunciado:', nombres_usuarios[:4])\n",
        "print('Cuarto enunciado:', len(nombres_usuarios))"
      ],
      "metadata": {
        "application/vnd.databricks.v1+cell": {
          "title": "",
          "showTitle": false,
          "inputWidgets": {},
          "nuid": "ee2b4331-706f-4c0f-af47-f3e8b1041901"
        },
        "colab": {
          "base_uri": "https://localhost:8080/"
        },
        "id": "ll8uUPDMDqVF",
        "outputId": "b29dbc42-5af3-4b97-d3a7-c4185dd32b22"
      },
      "outputs": [
        {
          "output_type": "stream",
          "name": "stdout",
          "text": [
            "Respuestas:\n",
            "Segundo enunciado: Pedro Pablo\n",
            "Tercer enunciado: ['Juan', 'Andrea', 'Pedro', 'Mishell']\n",
            "Cuarto enunciado: 5\n"
          ]
        }
      ],
      "execution_count": null
    },
    {
      "cell_type": "markdown",
      "source": [
        "## Parte 3: Operaciones con colecciones de datos"
      ],
      "metadata": {
        "application/vnd.databricks.v1+cell": {
          "title": "",
          "showTitle": false,
          "inputWidgets": {},
          "nuid": "8fd6ee2a-1bcc-4a14-96ab-2a721e8f11fe"
        },
        "id": "jKvlD-hyDqVF"
      }
    },
    {
      "cell_type": "markdown",
      "source": [
        "### Operaciones básicas con listas"
      ],
      "metadata": {
        "id": "CiVKOXw7A3iE",
        "application/vnd.databricks.v1+cell": {
          "title": "",
          "showTitle": false,
          "inputWidgets": {},
          "nuid": "f78c3a08-01d6-4200-b09a-77cd0a1c18b0"
        }
      }
    },
    {
      "cell_type": "markdown",
      "source": [
        "**Mutabilidad**: Las listas pueden modificar sus elementos (son mutables)"
      ],
      "metadata": {
        "id": "2ldRLjBNCzsf",
        "application/vnd.databricks.v1+cell": {
          "title": "",
          "showTitle": false,
          "inputWidgets": {},
          "nuid": "de5fda1c-e2c1-4b41-804b-06793d2f6cae"
        }
      }
    },
    {
      "cell_type": "code",
      "source": [
        "A = ['Kan', 'Ely', 'Pedro']\n",
        "A[1] = 'Ana'\n",
        "print(A)"
      ],
      "metadata": {
        "id": "EWjX9ww4CyzD",
        "application/vnd.databricks.v1+cell": {
          "title": "",
          "showTitle": false,
          "inputWidgets": {},
          "nuid": "eb169f8f-2432-466d-a104-e457429efdc7"
        },
        "colab": {
          "base_uri": "https://localhost:8080/"
        },
        "outputId": "cae83cc6-6261-47b0-a3e6-41e0eaad0eea"
      },
      "outputs": [
        {
          "output_type": "stream",
          "name": "stdout",
          "text": [
            "['Kan', 'Ana', 'Pedro']\n"
          ]
        }
      ],
      "execution_count": null
    },
    {
      "cell_type": "markdown",
      "source": [
        "**Eliminar elementos** de una lista con el comando `del` con indice puntual o slicing."
      ],
      "metadata": {
        "id": "RYuDERAEDNzk",
        "application/vnd.databricks.v1+cell": {
          "title": "",
          "showTitle": false,
          "inputWidgets": {},
          "nuid": "84c28342-045f-41ee-9127-d81630268d23"
        }
      }
    },
    {
      "cell_type": "code",
      "source": [
        "A = ['Kan', 'Ana', 'Joaquin','Pedro','Ernesto']\n",
        "del(A[-1])\n",
        "print(A)"
      ],
      "metadata": {
        "id": "Tk8NSEAIDM8f",
        "application/vnd.databricks.v1+cell": {
          "title": "",
          "showTitle": false,
          "inputWidgets": {},
          "nuid": "9d419064-1e0f-4e6a-ade4-0febcf237f51"
        },
        "colab": {
          "base_uri": "https://localhost:8080/"
        },
        "outputId": "d71d3374-3e47-49f2-f14e-fccba8bd545b"
      },
      "outputs": [
        {
          "output_type": "stream",
          "name": "stdout",
          "text": [
            "['Kan', 'Ana', 'Joaquin', 'Pedro']\n"
          ]
        }
      ],
      "execution_count": null
    },
    {
      "cell_type": "code",
      "source": [
        "del(A[1:2])\n",
        "print(A)"
      ],
      "metadata": {
        "id": "D1VfLJGXla-X",
        "application/vnd.databricks.v1+cell": {
          "title": "",
          "showTitle": false,
          "inputWidgets": {},
          "nuid": "97779b08-9c70-4bf3-82d9-8722c0bc0613"
        },
        "colab": {
          "base_uri": "https://localhost:8080/"
        },
        "outputId": "d7d6c726-b47d-40a1-e976-cb198918998d"
      },
      "outputs": [
        {
          "output_type": "stream",
          "name": "stdout",
          "text": [
            "['Kan', 'Joaquin', 'Pedro']\n"
          ]
        }
      ],
      "execution_count": null
    },
    {
      "cell_type": "markdown",
      "source": [
        "**Concatenar/Unir** dos listas con el comando `extend`"
      ],
      "metadata": {
        "id": "8Ny1_2-eE_30",
        "application/vnd.databricks.v1+cell": {
          "title": "",
          "showTitle": false,
          "inputWidgets": {},
          "nuid": "d539d096-d51f-446b-bf5f-19da06cae965"
        }
      }
    },
    {
      "cell_type": "code",
      "source": [
        "L = [1,3,4]\n",
        "N = [30, 80, 45]\n",
        "\n",
        "L.extend(N)\n",
        "print(L)"
      ],
      "metadata": {
        "id": "g5O-bRuAE_bL",
        "application/vnd.databricks.v1+cell": {
          "title": "",
          "showTitle": false,
          "inputWidgets": {},
          "nuid": "60e4336b-71d0-4add-bf02-893ae06440dc"
        },
        "colab": {
          "base_uri": "https://localhost:8080/"
        },
        "outputId": "45715aab-f618-4598-d209-957dab90e9ca"
      },
      "outputs": [
        {
          "output_type": "stream",
          "name": "stdout",
          "text": [
            "[1, 3, 4, 30, 80, 45]\n"
          ]
        }
      ],
      "execution_count": null
    },
    {
      "cell_type": "markdown",
      "source": [
        "**Contar** el número de veces que se encuentra un elemento en una lista con `count`"
      ],
      "metadata": {
        "id": "kI4Ffd8fKi6o",
        "application/vnd.databricks.v1+cell": {
          "title": "",
          "showTitle": false,
          "inputWidgets": {},
          "nuid": "431753f9-0c59-4eca-bbd2-924bab029466"
        }
      }
    },
    {
      "cell_type": "code",
      "source": [
        "L = [1, 3, 4, 3, 3, 3, 1]\n",
        "L.count(3)"
      ],
      "metadata": {
        "id": "zz4eFVskKh4h",
        "application/vnd.databricks.v1+cell": {
          "title": "",
          "showTitle": false,
          "inputWidgets": {},
          "nuid": "4bd90899-8ee9-4516-8a10-595c5d70d95d"
        },
        "colab": {
          "base_uri": "https://localhost:8080/"
        },
        "outputId": "2addebc2-695b-4557-f56d-b6ded9c51f81"
      },
      "outputs": [
        {
          "output_type": "execute_result",
          "data": {
            "text/plain": [
              "4"
            ]
          },
          "metadata": {},
          "execution_count": 126
        }
      ],
      "execution_count": null
    },
    {
      "cell_type": "markdown",
      "source": [
        "**Obtener** el indice de la posicion de un elemento en una lista con `index`"
      ],
      "metadata": {
        "id": "yTw-BPE9la-k",
        "application/vnd.databricks.v1+cell": {
          "title": "",
          "showTitle": false,
          "inputWidgets": {},
          "nuid": "f81d7dcb-0fab-452f-b87f-1b0cd9aac669"
        }
      }
    },
    {
      "cell_type": "code",
      "source": [
        "L.index(3)"
      ],
      "metadata": {
        "id": "WBpfadlmLD0q",
        "application/vnd.databricks.v1+cell": {
          "title": "",
          "showTitle": false,
          "inputWidgets": {},
          "nuid": "26e86e0b-298d-40b6-8f64-78c7376edae4"
        },
        "colab": {
          "base_uri": "https://localhost:8080/"
        },
        "outputId": "618d23a3-71aa-422f-d896-c5f9ef44877c"
      },
      "outputs": [
        {
          "output_type": "execute_result",
          "data": {
            "text/plain": [
              "1"
            ]
          },
          "metadata": {},
          "execution_count": 127
        }
      ],
      "execution_count": null
    },
    {
      "cell_type": "code",
      "source": [
        "help(L.index)"
      ],
      "metadata": {
        "application/vnd.databricks.v1+cell": {
          "title": "",
          "showTitle": false,
          "inputWidgets": {},
          "nuid": "208f768d-d44f-4c1a-b8e8-4641ada6e3b0"
        },
        "colab": {
          "base_uri": "https://localhost:8080/"
        },
        "id": "RElF60a_DqVH",
        "outputId": "0e84ff90-d54f-40ff-c27f-d362a8e1cfa4"
      },
      "outputs": [
        {
          "output_type": "stream",
          "name": "stdout",
          "text": [
            "Help on built-in function index:\n",
            "\n",
            "index(value, start=0, stop=9223372036854775807, /) method of builtins.list instance\n",
            "    Return first index of value.\n",
            "    \n",
            "    Raises ValueError if the value is not present.\n",
            "\n"
          ]
        }
      ],
      "execution_count": null
    },
    {
      "cell_type": "markdown",
      "source": [
        "> **Ejercicio 3**: Poner en práctica lo aprendido realizando operaciones sobre la lista `productos` y `dulces`\n",
        "\n",
        "Construya una lista llamada `productos` que contega los siguientes valores `detergente`, `pasta`, `arroz` y `lechuga`\n",
        "\n",
        "1. Cambiar el valor de `pasta` por `galletas` dentro del listado, asignando en la posición de dicho valor el nuevo elemento e imprima el listado `productos`\n",
        "2. Crear una lista llamada `dulces` que contega los siguientes valores `chocolates` y `caramelos`, e imprima el listado creado\n",
        "3. Unir ambos listados con el método `extend` e imprima el listado `productos` concatenado\n",
        "4. Eliminar utilizando el slicing los tres primero elementos en el listado `productos` e imprima el listado"
      ],
      "metadata": {
        "application/vnd.databricks.v1+cell": {
          "title": "",
          "showTitle": false,
          "inputWidgets": {},
          "nuid": "15505f5e-2842-41ff-b872-f37ea9d1723b"
        },
        "id": "n7uVElGHDqVH"
      }
    },
    {
      "cell_type": "code",
      "source": [
        "# Su código aquí\n"
      ],
      "metadata": {
        "application/vnd.databricks.v1+cell": {
          "title": "",
          "showTitle": false,
          "inputWidgets": {},
          "nuid": "7ce9cf58-820e-49c3-82a6-8fbafb156e7c"
        },
        "id": "WiNufxC4DqVH"
      },
      "outputs": [],
      "execution_count": null
    },
    {
      "cell_type": "markdown",
      "source": [
        "### Solución"
      ],
      "metadata": {
        "id": "nvbecfpkGQsm"
      }
    },
    {
      "cell_type": "code",
      "source": [
        "print('Respuestas:')\n",
        "productos = ['detergente', 'pasta', 'arroz', 'lechuga']\n",
        "productos[1] = 'galletas'\n",
        "print('Primer enunciado:', productos)\n",
        "dulces = ['chocolates', 'caramelos']\n",
        "print('Segundo enunciado:', dulces)\n",
        "productos.extend(dulces)\n",
        "print('Tercer enunciado:', productos)\n",
        "del(productos[:3])\n",
        "print('Cuarto enunciado:', productos)"
      ],
      "metadata": {
        "application/vnd.databricks.v1+cell": {
          "title": "",
          "showTitle": false,
          "inputWidgets": {},
          "nuid": "83a6b06f-b3dd-4603-b976-659adc68a091"
        },
        "colab": {
          "base_uri": "https://localhost:8080/"
        },
        "id": "pDBN95lfDqVH",
        "outputId": "5963ecd7-7165-43d2-8220-096fe9748d67"
      },
      "outputs": [
        {
          "output_type": "stream",
          "name": "stdout",
          "text": [
            "Respuestas:\n",
            "Primer enunciado: ['detergente', 'galletas', 'arroz', 'lechuga']\n",
            "Segundo enunciado: ['chocolates', 'caramelos']\n",
            "Tercer enunciado: ['detergente', 'galletas', 'arroz', 'lechuga', 'chocolates', 'caramelos']\n",
            "Cuarto enunciado: ['lechuga', 'chocolates', 'caramelos']\n"
          ]
        }
      ],
      "execution_count": null
    },
    {
      "cell_type": "markdown",
      "source": [
        "### Listas por comprensión\n",
        "\n",
        "Permite una escritura rápida y elegante para la creación de listas por medio de iteraciones\n",
        "\n",
        "```\n",
        "nombre_lista = [expresión for i in objeto_iterable]\n",
        "```"
      ],
      "metadata": {
        "application/vnd.databricks.v1+cell": {
          "title": "",
          "showTitle": false,
          "inputWidgets": {},
          "nuid": "ae374a86-80ff-4e22-9e49-51605aa95770"
        },
        "id": "TwidjvFRDqVH"
      }
    },
    {
      "cell_type": "code",
      "source": [
        "listado_str = [caracter+' '+caracter for caracter in \"Iterar por caracter\"]\n",
        "print(listado_str)"
      ],
      "metadata": {
        "application/vnd.databricks.v1+cell": {
          "title": "",
          "showTitle": false,
          "inputWidgets": {},
          "nuid": "f02a73e7-5cac-4373-978a-7e59bdc2e6a5"
        },
        "colab": {
          "base_uri": "https://localhost:8080/"
        },
        "id": "bFystTtKDqVH",
        "outputId": "40b51499-2276-40ae-b293-9624d1176bf0"
      },
      "outputs": [
        {
          "output_type": "stream",
          "name": "stdout",
          "text": [
            "['I I', 't t', 'e e', 'r r', 'a a', 'r r', '   ', 'p p', 'o o', 'r r', '   ', 'c c', 'a a', 'r r', 'a a', 'c c', 't t', 'e e', 'r r']\n"
          ]
        }
      ],
      "execution_count": 4
    },
    {
      "cell_type": "code",
      "source": [
        "lt = [2.5, .4, 5.3, 7.1]\n",
        "listado_num = [round(i) for i in lt]\n",
        "print(listado_num)"
      ],
      "metadata": {
        "application/vnd.databricks.v1+cell": {
          "title": "",
          "showTitle": false,
          "inputWidgets": {},
          "nuid": "a9f43f91-fbf2-4f8e-8254-8ddbfe1e2636"
        },
        "colab": {
          "base_uri": "https://localhost:8080/"
        },
        "id": "5iyB7dOADqVI",
        "outputId": "5892493f-408b-49d4-9ef2-ff520e932fe0"
      },
      "outputs": [
        {
          "output_type": "stream",
          "name": "stdout",
          "text": [
            "[2, 0, 5, 7]\n"
          ]
        }
      ],
      "execution_count": 6
    },
    {
      "cell_type": "markdown",
      "source": [
        "### Diccionarios"
      ],
      "metadata": {
        "collapsed": true,
        "id": "3pT4pwNhla-_",
        "application/vnd.databricks.v1+cell": {
          "title": "",
          "showTitle": false,
          "inputWidgets": {},
          "nuid": "a9c16877-afe3-414b-939b-483300a412fe"
        }
      }
    },
    {
      "cell_type": "markdown",
      "source": [
        "1. Nos permiten identificar cada elemento (valor) por una clave. **Importante:** Las claves son únicas, no pueden ser las mismas\n",
        "2. Encerrar el diccionario entre llaves ```{ }```\n",
        "3. Las parejas de clave y valor se separan con comas; mientras que, la clave y el valor se separan con dos puntos ```{clave1: valor1, clave2: valor2}```\n",
        "4. Asignar el diccionario a una variable que la representará, utilizando el operador ```=```\n",
        "5. Se accede a los mismos a través de las claves (no a través de índices de posición)"
      ],
      "metadata": {
        "id": "W7nWByZOla-_",
        "application/vnd.databricks.v1+cell": {
          "title": "",
          "showTitle": false,
          "inputWidgets": {},
          "nuid": "4a25238e-b8be-44b7-b1f8-3a653d1fd8b2"
        }
      }
    },
    {
      "cell_type": "code",
      "source": [
        "# claves: Nombre ciudades\n",
        "# valores: Numero de registros de participantes a un evento\n",
        "\n",
        "registro_ciudad = {'Lima': 692, 'Quito': ['hola',456,129], 'Montevideo': 95, 'Californina': 153, 'Medellín': 485}\n",
        "registro_ciudad"
      ],
      "metadata": {
        "id": "lP5R9wCsla_A",
        "application/vnd.databricks.v1+cell": {
          "title": "",
          "showTitle": false,
          "inputWidgets": {},
          "nuid": "b4fbd20f-bf4f-4826-bda2-89b238b6a429"
        },
        "colab": {
          "base_uri": "https://localhost:8080/"
        },
        "outputId": "8c529879-ed29-44d3-8715-4ce50b438ea1"
      },
      "outputs": [
        {
          "output_type": "execute_result",
          "data": {
            "text/plain": [
              "{'Lima': 692,\n",
              " 'Quito': ['hola', 456, 129],\n",
              " 'Montevideo': 95,\n",
              " 'Californina': 153,\n",
              " 'Medellín': 485}"
            ]
          },
          "metadata": {},
          "execution_count": 14
        }
      ],
      "execution_count": 14
    },
    {
      "cell_type": "markdown",
      "source": [
        "**Consultar valores** correspondientes a ciertas claves en un Diccionario <br>\n",
        "\n",
        "Para realizar esta consulta, INDEXAMOS con el nombre de la clave en el diccionario"
      ],
      "metadata": {
        "id": "Nfm_ZpMBla_A",
        "application/vnd.databricks.v1+cell": {
          "title": "",
          "showTitle": false,
          "inputWidgets": {},
          "nuid": "96350422-48cf-4c06-8eba-e41ee2397980"
        }
      }
    },
    {
      "cell_type": "code",
      "source": [
        "registro_ciudad['Quito'][0][0]"
      ],
      "metadata": {
        "id": "0m4s7wFSla_B",
        "application/vnd.databricks.v1+cell": {
          "title": "",
          "showTitle": false,
          "inputWidgets": {},
          "nuid": "d8a0108a-ef71-4051-80cb-95e5e1985fc1"
        },
        "colab": {
          "base_uri": "https://localhost:8080/",
          "height": 35
        },
        "outputId": "5df78629-e64b-43f8-da8d-6b758c77ea0b"
      },
      "outputs": [
        {
          "output_type": "execute_result",
          "data": {
            "text/plain": [
              "'h'"
            ],
            "application/vnd.google.colaboratory.intrinsic+json": {
              "type": "string"
            }
          },
          "metadata": {},
          "execution_count": 16
        }
      ],
      "execution_count": 16
    },
    {
      "cell_type": "markdown",
      "source": [
        "**Crear una nueva pareja de clave valor**"
      ],
      "metadata": {
        "id": "R6dGxyfIla_C",
        "application/vnd.databricks.v1+cell": {
          "title": "",
          "showTitle": false,
          "inputWidgets": {},
          "nuid": "8e51f122-1b98-4cef-90d2-a01cfdb5da3d"
        }
      }
    },
    {
      "cell_type": "code",
      "source": [
        "registro_ciudad['Roma'] = 358 "
      ],
      "metadata": {
        "application/vnd.databricks.v1+cell": {
          "title": "",
          "showTitle": false,
          "inputWidgets": {},
          "nuid": "4c00a125-2a30-4a75-89cd-3b99e0ba7329"
        },
        "id": "IgGKLqDIDqVI"
      },
      "outputs": [],
      "execution_count": 19
    },
    {
      "cell_type": "code",
      "source": [],
      "metadata": {
        "id": "zv9_OCjgnpUA"
      },
      "execution_count": null,
      "outputs": []
    },
    {
      "cell_type": "code",
      "source": [
        "registro_ciudad['Quito'] = 312"
      ],
      "metadata": {
        "id": "c89VFNhEm03d"
      },
      "execution_count": 21,
      "outputs": []
    },
    {
      "cell_type": "code",
      "source": [
        "registro_ciudad"
      ],
      "metadata": {
        "application/vnd.databricks.v1+cell": {
          "title": "",
          "showTitle": false,
          "inputWidgets": {},
          "nuid": "29bbf0f8-44c8-4717-995a-e2437175530e"
        },
        "colab": {
          "base_uri": "https://localhost:8080/"
        },
        "id": "XGbk6ksXDqVI",
        "outputId": "036b6458-8036-4953-c540-a9af9712808e"
      },
      "outputs": [
        {
          "output_type": "execute_result",
          "data": {
            "text/plain": [
              "{'Lima': 692,\n",
              " 'Quito': 312,\n",
              " 'Montevideo': 95,\n",
              " 'Californina': 153,\n",
              " 'Medellín': 485,\n",
              " 'Roma': 358}"
            ]
          },
          "metadata": {},
          "execution_count": 22
        }
      ],
      "execution_count": 22
    },
    {
      "cell_type": "markdown",
      "source": [
        "**Impresión de todos los valores y claves** almacenados en un Diccionario"
      ],
      "metadata": {
        "application/vnd.databricks.v1+cell": {
          "title": "",
          "showTitle": false,
          "inputWidgets": {},
          "nuid": "e896e930-3697-4609-9806-1d06cdb1099e"
        },
        "id": "L6XgZEoLDqVJ"
      }
    },
    {
      "cell_type": "code",
      "source": [
        "# Impresion de todas las claves (KEYS) de un diccionario\n",
        "registro_ciudad.keys()"
      ],
      "metadata": {
        "id": "_PhkCETAla_C",
        "application/vnd.databricks.v1+cell": {
          "title": "",
          "showTitle": false,
          "inputWidgets": {},
          "nuid": "c7e2ccaf-f338-4992-a7d2-af0b4dfed269"
        },
        "colab": {
          "base_uri": "https://localhost:8080/"
        },
        "outputId": "e92b92b6-4d38-494c-ae58-dd74002b7019"
      },
      "outputs": [
        {
          "output_type": "execute_result",
          "data": {
            "text/plain": [
              "dict_keys(['Lima', 'Quito', 'Montevideo', 'Californina', 'Medellín', 'Roma'])"
            ]
          },
          "metadata": {},
          "execution_count": 23
        }
      ],
      "execution_count": 23
    },
    {
      "cell_type": "code",
      "source": [
        "# Impresion de todos los valores (VALUES) de un diccionario\n",
        "registro_ciudad.values()"
      ],
      "metadata": {
        "application/vnd.databricks.v1+cell": {
          "title": "",
          "showTitle": false,
          "inputWidgets": {},
          "nuid": "b0350378-b564-4b59-9712-1b6b52f13e37"
        },
        "colab": {
          "base_uri": "https://localhost:8080/"
        },
        "id": "9O9qRDALDqVJ",
        "outputId": "1a3baee5-b1a2-41a2-fe61-b5727c9c39f0"
      },
      "outputs": [
        {
          "output_type": "execute_result",
          "data": {
            "text/plain": [
              "dict_values([692, 312, 95, 153, 485, 358])"
            ]
          },
          "metadata": {},
          "execution_count": 24
        }
      ],
      "execution_count": 24
    },
    {
      "cell_type": "markdown",
      "source": [
        "**Obtener, eliminar y actualizar** valores almacenados en un Diccionario"
      ],
      "metadata": {
        "application/vnd.databricks.v1+cell": {
          "title": "",
          "showTitle": false,
          "inputWidgets": {},
          "nuid": "98782716-ca0d-4314-bed0-31429f1d0bfb"
        },
        "id": "SzwMA3G7DqVJ"
      }
    },
    {
      "cell_type": "code",
      "source": [
        "# Obtener el valor correspondiente a partir del nombre de una clave (get)\n",
        "registro_ciudad.get('Lima')"
      ],
      "metadata": {
        "application/vnd.databricks.v1+cell": {
          "title": "",
          "showTitle": false,
          "inputWidgets": {},
          "nuid": "40c5daab-3e9a-481e-bbc2-c2128ecbb913"
        },
        "colab": {
          "base_uri": "https://localhost:8080/"
        },
        "id": "g07_2Yx0DqVJ",
        "outputId": "4fc8bfcb-eb61-40dd-96d1-96163a780eca"
      },
      "outputs": [
        {
          "output_type": "execute_result",
          "data": {
            "text/plain": [
              "692"
            ]
          },
          "metadata": {},
          "execution_count": 25
        }
      ],
      "execution_count": 25
    },
    {
      "cell_type": "code",
      "source": [
        "# Borrar una pareja de clave: valor a partir del nombre de una clave (pop), finalmente devuelve el valor eliminado de dicha clave\n",
        "registro_ciudad.pop('Quito')"
      ],
      "metadata": {
        "application/vnd.databricks.v1+cell": {
          "title": "",
          "showTitle": false,
          "inputWidgets": {},
          "nuid": "8fa9cc9a-70b0-474f-a117-aee8342dc948"
        },
        "colab": {
          "base_uri": "https://localhost:8080/"
        },
        "id": "y_ygphRZDqVJ",
        "outputId": "32c08fb5-5ceb-4be9-dec9-9271c82ad7db"
      },
      "outputs": [
        {
          "output_type": "execute_result",
          "data": {
            "text/plain": [
              "312"
            ]
          },
          "metadata": {},
          "execution_count": 26
        }
      ],
      "execution_count": 26
    },
    {
      "cell_type": "code",
      "source": [
        "registro_ciudad"
      ],
      "metadata": {
        "colab": {
          "base_uri": "https://localhost:8080/"
        },
        "id": "KzF3HDDnngr0",
        "outputId": "61a52133-2e0c-4e3d-c220-8a7c63464be1"
      },
      "execution_count": 27,
      "outputs": [
        {
          "output_type": "execute_result",
          "data": {
            "text/plain": [
              "{'Lima': 692,\n",
              " 'Montevideo': 95,\n",
              " 'Californina': 153,\n",
              " 'Medellín': 485,\n",
              " 'Roma': 358}"
            ]
          },
          "metadata": {},
          "execution_count": 27
        }
      ]
    },
    {
      "cell_type": "code",
      "source": [
        "print(registro_ciudad)"
      ],
      "metadata": {
        "application/vnd.databricks.v1+cell": {
          "title": "",
          "showTitle": false,
          "inputWidgets": {},
          "nuid": "8013ca9c-9c31-439f-b016-6107b6e05d2b"
        },
        "colab": {
          "base_uri": "https://localhost:8080/"
        },
        "id": "vTEl11dbDqVJ",
        "outputId": "0ca08a93-ac26-46ce-9519-b2fccdfe965a"
      },
      "outputs": [
        {
          "output_type": "stream",
          "name": "stdout",
          "text": [
            "{'Lima': 692, 'Montevideo': 95, 'Californina': 153, 'Medellín': 485, 'Roma': 358}\n"
          ]
        }
      ],
      "execution_count": null
    },
    {
      "cell_type": "code",
      "source": [
        "# Actualizar el valor de una clave o lo crea si dicha clave no se encuentra (update)\n",
        "registro_ciudad.update({'Roma': 30})\n",
        "registro_ciudad"
      ],
      "metadata": {
        "application/vnd.databricks.v1+cell": {
          "title": "",
          "showTitle": false,
          "inputWidgets": {},
          "nuid": "1a5624c9-2bf4-402c-a6e7-e0d4d0b0cbac"
        },
        "colab": {
          "base_uri": "https://localhost:8080/"
        },
        "id": "BeyMWOarDqVJ",
        "outputId": "23a8ab14-feee-4db7-ddc9-747f9ade4325"
      },
      "outputs": [
        {
          "output_type": "execute_result",
          "data": {
            "text/plain": [
              "{'Californina': 153,\n",
              " 'Lima': 692,\n",
              " 'Medellín': 485,\n",
              " 'Montevideo': 95,\n",
              " 'Roma': 30}"
            ]
          },
          "metadata": {},
          "execution_count": 142
        }
      ],
      "execution_count": null
    },
    {
      "cell_type": "markdown",
      "source": [
        "> **Ejercicio 4**: A continuación contamos los siguientes datos: \n",
        "\n",
        "| Marca | Transmisión |\n",
        "|-------|-------------|\n",
        "| Mazda | manual      |\n",
        "| Kia   | automática  |\n",
        "\n",
        "1. Construya un diccionario llamado `marca_transmision`, coloque en las claves la marca del vehículo y como valor el tipo de transmisión correspondiente. Finalmente imprimir el diccionario.\n",
        "2. Incluir en el diccionario una nueva pareja de clave y valor: clave `Toyota` con el valor de `manual`\n",
        "3. al tercer Eliminar la clave y valor de Kia, empleando el método `pop` e imprimir el diccionario\n",
        "4. Actualizar el valor al valor de 400 en la clave Mazda usando el método a la clave 4`update`\n",
        "a la clave 2 asignación con corchetes.\n",
        "5. Devolver el valor correspondiente a la clave de Mazda con el método a la clave 5 `get` y a la 1 corchetes "
      ],
      "metadata": {
        "id": "o9yKSzZrla_G",
        "application/vnd.databricks.v1+cell": {
          "title": "",
          "showTitle": false,
          "inputWidgets": {},
          "nuid": "bea6db77-fd21-4399-86e2-e0d6232f6774"
        }
      }
    },
    {
      "cell_type": "code",
      "source": [
        "#Su código aqui\n"
      ],
      "metadata": {
        "application/vnd.databricks.v1+cell": {
          "title": "",
          "showTitle": false,
          "inputWidgets": {},
          "nuid": "a28a0174-b0b0-40e9-9155-a6daf6fb0191"
        },
        "id": "I4zjU6f5DqVK"
      },
      "outputs": [],
      "execution_count": null
    },
    {
      "cell_type": "markdown",
      "source": [
        "### Solución"
      ],
      "metadata": {
        "id": "R4UWk3mLGa8X"
      }
    },
    {
      "cell_type": "code",
      "source": [
        "print('Respuestas:')\n",
        "marca_transmision = {'Mazda': 'manual', 'Kia': 'automática'}\n",
        "print('Primer enunciado:', marca_transmision)\n",
        "marca_transmision['Toyota'] = 'manual'\n",
        "marca_transmision.pop('Kia')\n",
        "print('Tercer enunciado:', marca_transmision)\n",
        "marca_transmision.update({'Mazda': 400})\n",
        "print('Quinto enunciado:', marca_transmision.get('Mazda'))"
      ],
      "metadata": {
        "id": "fy-eElNpla_G",
        "application/vnd.databricks.v1+cell": {
          "title": "",
          "showTitle": false,
          "inputWidgets": {},
          "nuid": "5db8593b-b2ee-43b2-9efc-f0a34a21c788"
        },
        "colab": {
          "base_uri": "https://localhost:8080/"
        },
        "outputId": "cf75aadd-2c31-416a-ddac-6f09f0a55776"
      },
      "outputs": [
        {
          "output_type": "stream",
          "name": "stdout",
          "text": [
            "Respuestas:\n",
            "Primer enunciado: {'Mazda': 'manual', 'Kia': 'automática'}\n",
            "Tercer enunciado: {'Mazda': 'manual', 'Toyota': 'manual'}\n",
            "Quinto enunciado: 400\n"
          ]
        }
      ],
      "execution_count": null
    },
    {
      "cell_type": "markdown",
      "source": [
        "### Fin"
      ],
      "metadata": {
        "id": "MC5msZMULNQQ"
      }
    },
    {
      "cell_type": "markdown",
      "source": [
        "\n",
        "<div style=\"text-align: center; line-height: 0; padding-top: 9px;\">\n",
        "  <img src=\"https://storage.googleapis.com/datasets-academy/public-img/notebooks/headers/databits-footer-notebook.png\" alt=\"Databricks Learning\" style=\"width: 100%;\">\n",
        "</div>"
      ],
      "metadata": {
        "application/vnd.databricks.v1+cell": {
          "title": "",
          "showTitle": false,
          "inputWidgets": {},
          "nuid": "414d2ed5-26b5-4dca-bc93-2db7ff521840"
        },
        "id": "KoM9Y7pTDqVK"
      }
    }
  ],
  "metadata": {
    "language_info": {
      "mimetype": "text/x-python",
      "name": "python",
      "pygments_lexer": "ipython3",
      "codemirror_mode": {
        "name": "ipython",
        "version": 3
      },
      "version": "3.7.3",
      "nbconvert_exporter": "python",
      "file_extension": ".py"
    },
    "name": "01 Tuplas, listas y diccionarios",
    "notebookId": 1635544535932920,
    "kernelspec": {
      "display_name": "Python 3",
      "language": "python",
      "name": "python3"
    },
    "application/vnd.databricks.v1+notebook": {
      "notebookName": "01 Python - Intro crash course",
      "dashboards": [],
      "notebookMetadata": {
        "pythonIndentUnit": 2
      },
      "language": "python",
      "widgets": {},
      "notebookOrigID": 2085831952936330
    },
    "colab": {
      "collapsed_sections": [
        "DXS-jnZ7Fr7J",
        "jDDGzfbHGHa1",
        "nvbecfpkGQsm",
        "R4UWk3mLGa8X"
      ],
      "provenance": [],
      "include_colab_link": true
    }
  },
  "nbformat": 4,
  "nbformat_minor": 0
}