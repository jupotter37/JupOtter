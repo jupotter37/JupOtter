{
  "nbformat": 4,
  "nbformat_minor": 0,
  "metadata": {
    "colab": {
      "provenance": [],
      "toc_visible": true
    },
    "kernelspec": {
      "name": "python3",
      "display_name": "Python 3"
    },
    "language_info": {
      "name": "python"
    }
  },
  "cells": [
    {
      "cell_type": "markdown",
      "source": [
        "# **Python**: Avanzando en conocimientos\n",
        "\n",
        "Durante el trasncurso de Programacion en 4to año aprendimos multiples recursos para utilizar en python, e inclusive utilizamos programas ya escritos para realizar nuestras tareas, pero es hora de que nosotros seamos los que brindemos soluciones, por lo tanto, esta tanda de ejercicios se basa en aumentar sus conocimientos en python al punto de que les genere confianza de poder desarrollar sus propias soluciones."
      ],
      "metadata": {
        "id": "LqFcHoLF6mDF"
      }
    },
    {
      "cell_type": "markdown",
      "source": [
        "# Ejercicios de Listas y Tuplas avanzado"
      ],
      "metadata": {
        "id": "-adDePqE-3Aa"
      }
    },
    {
      "cell_type": "markdown",
      "source": [
        "Ejercicio 1\n",
        "Escribir un programa que almacene las asignaturas de un curso (por ejemplo Matemáticas, Física, Química, Historia y Lengua) en una lista y la muestre por pantalla.\n"
      ],
      "metadata": {
        "id": "S9MZ2lbn7kyS"
      }
    },
    {
      "cell_type": "code",
      "source": [
        "lista=[]\n",
        "var = input(\"ingresa las asignaturas: \")\n",
        "lista = var.split(\",\")\n",
        "print(lista)"
      ],
      "metadata": {
        "id": "xwCNCa2j7qur",
        "colab": {
          "base_uri": "https://localhost:8080/"
        },
        "outputId": "3185c815-5333-452e-d768-3f5789729274"
      },
      "execution_count": null,
      "outputs": [
        {
          "output_type": "stream",
          "name": "stdout",
          "text": [
            "ingresa las asignaturas: Matemáticas, Física, Química, Historia y Lengua\n",
            "['Matemáticas', ' Física', ' Química', ' Historia y Lengua']\n"
          ]
        }
      ]
    },
    {
      "cell_type": "markdown",
      "source": [
        "Ejercicio 2\n",
        "Escribir un programa que almacene las asignaturas de un curso (por ejemplo Matemáticas, Física, Química, Historia y Lengua) en una lista y la muestre por pantalla el mensaje Yo estudio <asignatura>, donde <asignatura> es cada una de las asignaturas de la lista.\n"
      ],
      "metadata": {
        "id": "IgZPQ6wu7rbM"
      }
    },
    {
      "cell_type": "code",
      "source": [
        "lista=[]\n",
        "var = input(\"Ingresa las asignaturas: \")\n",
        "lista = var.split(\",\")\n",
        "print(lista)\n",
        "for i in range(len(lista)):\n",
        "  print(\"Yo estudio\",lista[i])"
      ],
      "metadata": {
        "id": "tdmtakjY7vFL",
        "colab": {
          "base_uri": "https://localhost:8080/"
        },
        "outputId": "637bc87e-bcfb-4d25-af51-b4d9c0d0a616"
      },
      "execution_count": null,
      "outputs": [
        {
          "output_type": "stream",
          "name": "stdout",
          "text": [
            "ingresa las asignaturas: Matemáticas, Física, Química, Historia y Lengua\n",
            "['Matemáticas', ' Física', ' Química', ' Historia y Lengua']\n",
            "Yo estudio Matemáticas\n",
            "Yo estudio  Física\n",
            "Yo estudio  Química\n",
            "Yo estudio  Historia y Lengua\n"
          ]
        }
      ]
    },
    {
      "cell_type": "markdown",
      "source": [
        "Ejercicio 3\n",
        "Escribir un programa que almacene las asignaturas de un curso (por ejemplo Matemáticas, Física, Química, Historia y Lengua) en una lista, pregunte al usuario la nota que ha sacado en cada asignatura, y después las muestre por pantalla con el mensaje En <asignatura> has sacado <nota> donde <asignatura> es cada una des las asignaturas de la lista y <nota> cada una de las correspondientes notas introducidas por el usuario.\n"
      ],
      "metadata": {
        "id": "xn_m3agN7vbK"
      }
    },
    {
      "cell_type": "code",
      "source": [
        "nota = []\n",
        "notas = \"\"\n",
        "## primero las materias\n",
        "materia = []\n",
        "materias = \"\"\n",
        "while materia != \"0\":\n",
        "  materias = str(input(\"Ingresa las asignaturas o presione 0 para salir: \"))\n",
        "  if materias == \"0\":\n",
        "    break\n",
        "  else:\n",
        "    materia.append(materias)\n",
        "# ahora vamos con las notas\n",
        "while len(nota) < len(materia):\n",
        "  for i in range(len(materia)):\n",
        "    notas = int(input(f\"Ingresa la nota de {materia[i]}\"))\n",
        "    nota.append(notas)\n",
        "\n",
        "for h in range(len(materia)):\n",
        "  print(\"te sacaste\",nota[h],\"en la materia\",materia[h])\n"
      ],
      "metadata": {
        "id": "JuV1y_3d7zGG",
        "colab": {
          "base_uri": "https://localhost:8080/"
        },
        "outputId": "0b85e84d-395a-4597-f2b6-fb6760c691fe"
      },
      "execution_count": null,
      "outputs": [
        {
          "output_type": "stream",
          "name": "stdout",
          "text": [
            "Ingresa las asignaturas o presione 0 para salir: cyp\n",
            "Ingresa las asignaturas o presione 0 para salir: ingles\n",
            "Ingresa las asignaturas o presione 0 para salir: geo\n",
            "Ingresa las asignaturas o presione 0 para salir: 0\n",
            "Ingresa la nota de cyp10\n",
            "Ingresa la nota de ingles8\n",
            "Ingresa la nota de geo7\n",
            "te sacaste 10 en la materia cyp\n",
            "te sacaste 8 en la materia ingles\n",
            "te sacaste 7 en la materia geo\n"
          ]
        }
      ]
    },
    {
      "cell_type": "markdown",
      "source": [
        "Ejercicio 4\n",
        "Escribir un programa que pregunte al usuario los números ganadores de la lotería primitiva, los almacene en una lista y los muestre por pantalla ordenados de menor a mayor.\n"
      ],
      "metadata": {
        "id": "QO0bLghM7zZM"
      }
    },
    {
      "cell_type": "code",
      "source": [
        "numeros = []\n",
        "numero = \"\"\n",
        "while numeros != \"ya\":\n",
        "  numero = (input(\"Ingresa los numeros ganadores o escriba ya para salir: \"))\n",
        "  if numero == \"ya\":\n",
        "    break\n",
        "  else:\n",
        "    numeros.append(numero)\n",
        "print(\"Los numeros ganadores son: \",numeros)\n",
        "numeros.sort(key=int)\n",
        "print(\"Los numeros ganadores son: \",numeros)"
      ],
      "metadata": {
        "id": "yzf5-TaH73GX",
        "colab": {
          "base_uri": "https://localhost:8080/"
        },
        "outputId": "d53fe631-05eb-4ea1-9046-dcfd82813d5f"
      },
      "execution_count": null,
      "outputs": [
        {
          "output_type": "stream",
          "name": "stdout",
          "text": [
            "Ingresa los numeros ganadores o escriba ya para salir: 10\n",
            "Ingresa los numeros ganadores o escriba ya para salir: 45\n",
            "Ingresa los numeros ganadores o escriba ya para salir: 76\n",
            "Ingresa los numeros ganadores o escriba ya para salir: 20\n",
            "Ingresa los numeros ganadores o escriba ya para salir: 5\n",
            "Ingresa los numeros ganadores o escriba ya para salir: 3\n",
            "Ingresa los numeros ganadores o escriba ya para salir: 17\n",
            "Ingresa los numeros ganadores o escriba ya para salir: ya\n",
            "Los numeros ganadores son:  ['10', '45', '76', '20', '5', '3', '17']\n",
            "Los numeros ganadores son:  ['3', '5', '10', '17', '20', '45', '76']\n"
          ]
        }
      ]
    },
    {
      "cell_type": "markdown",
      "source": [
        "Ejercicio 5\n",
        "Escribir un programa que almacene en una lista los números del 1 al 10 y los muestre por pantalla en orden inverso separados por comas.\n"
      ],
      "metadata": {
        "id": "zO8dASUm73dh"
      }
    },
    {
      "cell_type": "code",
      "source": [
        "lista = []\n",
        "for i in range(1,11):\n",
        "  lista.append(i)\n",
        "print(lista)\n",
        "lista.reverse()\n",
        "print(lista)"
      ],
      "metadata": {
        "id": "DB0QmKjY76oM",
        "colab": {
          "base_uri": "https://localhost:8080/"
        },
        "outputId": "2214662f-a903-41ac-ff0e-e0bbb3ba7686"
      },
      "execution_count": null,
      "outputs": [
        {
          "output_type": "stream",
          "name": "stdout",
          "text": [
            "[1, 2, 3, 4, 5, 6, 7, 8, 9, 10]\n",
            "[10, 9, 8, 7, 6, 5, 4, 3, 2, 1]\n"
          ]
        }
      ]
    },
    {
      "cell_type": "markdown",
      "source": [
        "Ejercicio 6\n",
        "Escribir un programa que almacene las asignaturas de un curso (por ejemplo Matemáticas, Física, Química, Historia y Lengua) en una lista, pregunte al usuario la nota que ha sacado en cada asignatura y elimine de la lista las asignaturas aprobadas. Al final el programa debe mostrar por pantalla las asignaturas que el usuario tiene que repetir.\n"
      ],
      "metadata": {
        "id": "ZcEl0SrG76-v"
      }
    },
    {
      "cell_type": "code",
      "source": [
        "\n",
        "notas = []\n",
        "nota = \"\"\n",
        "## primero las materias\n",
        "materias = []\n",
        "materia = \"\"\n",
        "while materias != \"0\":\n",
        "  materia = str(input(\"Ingresa las asignaturas o presione 0 para salir: \"))\n",
        "  if materia == \"0\":\n",
        "    break\n",
        "  else:\n",
        "    materias.append(materia)\n",
        "# ahora vamos con las notas\n",
        "while len(notas) < len(materias):\n",
        "  for i in range(len(materias)):\n",
        "    nota = int(input(f\"Ingresa la nota de {materias[i]} \"))\n",
        "    notas.append(nota)\n",
        "desa = []\n",
        "for i in range(len(materias)):\n",
        "  if notas[i] < 6:\n",
        "    desa.append(materias[i])\n",
        "print(desa)"
      ],
      "metadata": {
        "id": "PakJF2_X79YD",
        "colab": {
          "base_uri": "https://localhost:8080/"
        },
        "outputId": "699c7a01-0013-47e2-8bd1-b1e77a8d1ca3"
      },
      "execution_count": null,
      "outputs": [
        {
          "output_type": "stream",
          "name": "stdout",
          "text": [
            "Ingresa las asignaturas o presione 0 para salir: Cyp\n",
            "Ingresa las asignaturas o presione 0 para salir: Lengua\n",
            "Ingresa las asignaturas o presione 0 para salir: Mate\n",
            "Ingresa las asignaturas o presione 0 para salir: 0\n",
            "Ingresa la nota de Cyp 10\n",
            "Ingresa la nota de Lengua 4\n",
            "Ingresa la nota de Mate 1\n",
            "['Lengua', 'Mate']\n"
          ]
        }
      ]
    },
    {
      "cell_type": "markdown",
      "source": [
        "Ejercicio 7\n",
        "Escribir un programa que almacene el abecedario en una lista, elimine de la lista las letras que ocupen posiciones múltiplos de 3, y muestre por pantalla la lista resultante.\n"
      ],
      "metadata": {
        "id": "gYl8cKS079l6"
      }
    },
    {
      "cell_type": "code",
      "source": [
        "import string\n",
        "\n",
        "abc = list(string.ascii_lowercase)\n",
        "for i in abc:\n",
        "  if abc.index(i)!=0 and abc.index(i)%3 == 0:\n",
        "    abc.remove(i)\n",
        "for i, letra in enumerate(abc):\n",
        "  print(i,letra)"
      ],
      "metadata": {
        "id": "xS8_--Bm8Bnp",
        "colab": {
          "base_uri": "https://localhost:8080/"
        },
        "outputId": "29164c2b-c14e-4b60-c73b-b3f47ee6373a"
      },
      "execution_count": null,
      "outputs": [
        {
          "output_type": "stream",
          "name": "stdout",
          "text": [
            "0 a\n",
            "1 b\n",
            "2 c\n",
            "3 e\n",
            "4 f\n",
            "5 g\n",
            "6 i\n",
            "7 j\n",
            "8 k\n",
            "9 m\n",
            "10 n\n",
            "11 o\n",
            "12 q\n",
            "13 r\n",
            "14 s\n",
            "15 u\n",
            "16 v\n",
            "17 w\n",
            "18 y\n",
            "19 z\n"
          ]
        }
      ]
    },
    {
      "cell_type": "markdown",
      "source": [
        "Ejercicio 8\n",
        "Escribir un programa que pida al usuario una palabra y muestre por pantalla si es un palíndromo.\n"
      ],
      "metadata": {
        "id": "vL4zu31G8AcC"
      }
    },
    {
      "cell_type": "code",
      "source": [
        "# hecho por faci\n",
        "palabra = str(input(\"Escribi una palabra o frase \"))\n",
        "letras = palabra.lower().replace(' ', '')\n",
        "alreves = ''.join(reversed(letras))\n",
        "print(alreves,letras)\n",
        "if letras == alreves:\n",
        "  print(\"Es palíndromo\")\n",
        "else:\n",
        "  print(\"No es palíndromo\")"
      ],
      "metadata": {
        "id": "OWwgbvCJ8IMD",
        "colab": {
          "base_uri": "https://localhost:8080/"
        },
        "outputId": "657bc593-417c-40b3-cea6-4a140efb7d4f"
      },
      "execution_count": null,
      "outputs": [
        {
          "output_type": "stream",
          "name": "stdout",
          "text": [
            "Escribi una palabra o frase somos\n",
            "somos somos\n",
            "Es palíndromo\n"
          ]
        }
      ]
    },
    {
      "cell_type": "code",
      "source": [
        "# hecho por guada\n",
        "#creo una lista para las palabras principales\n",
        "letras = []\n",
        "p = str(input(\"Escribi una palabra o frase y te digo si es un palíndromo o no: \"))\n",
        "letras.extend(p)\n",
        "print(letras)\n",
        "\n",
        "a = list(reversed(letras))\n",
        "print(a)\n",
        "\n",
        "if letras == a:\n",
        "  print(f\"La palabra {p} es un palíndromo\")\n",
        "else:\n",
        "  print(f\"La palabra {p} no es un palíndromo\")"
      ],
      "metadata": {
        "colab": {
          "base_uri": "https://localhost:8080/"
        },
        "id": "COQqv_P2d5Lc",
        "outputId": "81888b00-4341-4a55-9f97-4e3ae5426105"
      },
      "execution_count": null,
      "outputs": [
        {
          "output_type": "stream",
          "name": "stdout",
          "text": [
            "Escribi una palabra o frase y te digo si es un palíndromo o no: somos\n",
            "['s', 'o', 'm', 'o', 's']\n",
            "['s', 'o', 'm', 'o', 's']\n",
            "La palabra somos es un palíndromo\n"
          ]
        }
      ]
    },
    {
      "cell_type": "markdown",
      "source": [
        "Ejercicio 9\n",
        "Escribir un programa que pida al usuario una palabra y muestre por pantalla el número de veces que contiene cada vocal.\n",
        "\n",
        "\n"
      ],
      "metadata": {
        "id": "5_myEIVh8Iej"
      }
    },
    {
      "cell_type": "code",
      "source": [
        "#codigo mix con maria\n",
        "b = input(\"Escribi una palabra o frase \")\n",
        "a = b.lower().replace(\" \", \"\")\n",
        "v = [\"a\",\"e\",\"i\",\"o\",\"u\",]\n",
        "print(\"\")\n",
        "for vocal in v:\n",
        "  print(f\"esta vocal {vocal}: {sheldon_greeting.count(vocal)} veces\")"
      ],
      "metadata": {
        "id": "bxlM8rDsjp6U",
        "colab": {
          "base_uri": "https://localhost:8080/"
        },
        "outputId": "cbb860ce-e9fd-4bcf-c790-dd3c61f22730"
      },
      "execution_count": null,
      "outputs": [
        {
          "output_type": "stream",
          "name": "stdout",
          "text": [
            "Escribi una palabra o frase guada\n",
            "\n",
            "esta vocal a: 2 veces\n",
            "esta vocal e: 0 veces\n",
            "esta vocal i: 0 veces\n",
            "esta vocal o: 0 veces\n",
            "esta vocal u: 1 veces\n"
          ]
        }
      ]
    },
    {
      "cell_type": "markdown",
      "source": [
        "Ejercicio 10\n",
        "Escribir un programa que almacene en una lista los siguientes precios, 50, 75, 46, 22, 80, 65, 8, y muestre por pantalla el menor y el mayor de los precios.\n",
        "\n",
        "\n"
      ],
      "metadata": {
        "id": "F4pIOpYi8PwP"
      }
    },
    {
      "cell_type": "code",
      "source": [
        "p = [50, 75, 46, 22, 80, 65, 8]\n",
        "print(p)\n",
        "print(f\"El menor de los precios es: {min(p)}\")\n",
        "print(f\"El mayor de los precios es: {max(p)}\")"
      ],
      "metadata": {
        "id": "xm1PyJfe8Rhj",
        "colab": {
          "base_uri": "https://localhost:8080/"
        },
        "outputId": "a04073bd-7543-413e-b10f-4fc713a86a6c"
      },
      "execution_count": null,
      "outputs": [
        {
          "output_type": "stream",
          "name": "stdout",
          "text": [
            "[50, 75, 46, 22, 80, 65, 8]\n",
            "El menor de los precios es: 8\n",
            "El mayor de los precios es: 80\n"
          ]
        }
      ]
    },
    {
      "cell_type": "markdown",
      "source": [
        "Ejercicio 11\n",
        "Escribir un programa que almacene los vectores (1,2,3) y (-1,0,2) en dos listas y muestre por pantalla su producto escalar.\n",
        "\n"
      ],
      "metadata": {
        "id": "G75L-Ja-8Rxw"
      }
    },
    {
      "cell_type": "code",
      "source": [
        "import numpy as np\n",
        "vecA = [1,2,3]\n",
        "vecB = [-1,0,2]\n",
        "print(np.dot(vecA,vecB))"
      ],
      "metadata": {
        "id": "4K_ykixc8UA_",
        "colab": {
          "base_uri": "https://localhost:8080/"
        },
        "outputId": "32343a11-44a4-401b-cf19-8d6635587035"
      },
      "execution_count": null,
      "outputs": [
        {
          "output_type": "stream",
          "name": "stdout",
          "text": [
            "5\n"
          ]
        }
      ]
    },
    {
      "cell_type": "markdown",
      "source": [
        "Ejercicio 12\n",
        "Escribir un programa que almacene las matrices A y B en una lista luego muestre por pantalla su producto.\n",
        "Nota: Para representar matrices mediante listas usar listas anidadas, representando cada vector fila en una lista.\n",
        "\n",
        "![MatrizAyBTP2.png](data:image/png;base64,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)\n",
        "\n",
        "\n",
        "\n"
      ],
      "metadata": {
        "id": "K5E9DIBc8URX"
      }
    },
    {
      "cell_type": "code",
      "source": [
        "import numpy as np\n",
        "A = [[1,2,3],[4,5,6]]\n",
        "B = [[-1,0],[0,1],[1,1]]\n",
        "print(np.dot(A,B))"
      ],
      "metadata": {
        "id": "XCZipOOc8svT",
        "colab": {
          "base_uri": "https://localhost:8080/"
        },
        "outputId": "b29c30e4-32ef-4e1f-eaf2-c055a6fe0253"
      },
      "execution_count": null,
      "outputs": [
        {
          "output_type": "stream",
          "name": "stdout",
          "text": [
            "[[ 2  5]\n",
            " [ 2 11]]\n"
          ]
        }
      ]
    },
    {
      "cell_type": "markdown",
      "source": [
        "Ejercicio 13\n",
        "Escribir un programa que pregunte por una muestra de números, separados por comas, los guarde en una lista y muestre por pantalla su media y desviación típica.\n"
      ],
      "metadata": {
        "id": "QI8C_ozq8tJW"
      }
    },
    {
      "cell_type": "code",
      "source": [
        "nums = []\n",
        "n = \"\"\n",
        "while nums != \"ya\":\n",
        "  n = str(input(\"Ingresa numeros o escriba ya para salir: \"))\n",
        "  if n == \"ya\":\n",
        "    break\n",
        "  else:\n",
        "    nums.append(n)\n",
        "print(nums)\n"
      ],
      "metadata": {
        "id": "yYh_w6tj8u11",
        "colab": {
          "base_uri": "https://localhost:8080/",
          "height": 332
        },
        "outputId": "0a0c21af-f41c-4f1c-8415-9a2d32534427"
      },
      "execution_count": null,
      "outputs": [
        {
          "name": "stdout",
          "output_type": "stream",
          "text": [
            "Ingresa numeros o escriba ya para salir: 1\n",
            "Ingresa numeros o escriba ya para salir: 2\n",
            "Ingresa numeros o escriba ya para salir: 3\n",
            "Ingresa numeros o escriba ya para salir: 4\n",
            "Ingresa numeros o escriba ya para salir: 5\n",
            "Ingresa numeros o escriba ya para salir: 6\n",
            "Ingresa numeros o escriba ya para salir: ya\n"
          ]
        },
        {
          "output_type": "error",
          "ename": "ValueError",
          "evalue": "invalid literal for int() with base 10: 'ya'",
          "traceback": [
            "\u001b[0;31m---------------------------------------------------------------------------\u001b[0m",
            "\u001b[0;31mValueError\u001b[0m                                Traceback (most recent call last)",
            "\u001b[0;32m<ipython-input-41-96ab93883281>\u001b[0m in \u001b[0;36m<cell line: 3>\u001b[0;34m()\u001b[0m\n\u001b[1;32m      2\u001b[0m \u001b[0mn\u001b[0m \u001b[0;34m=\u001b[0m \u001b[0;34m\"\"\u001b[0m\u001b[0;34m\u001b[0m\u001b[0;34m\u001b[0m\u001b[0m\n\u001b[1;32m      3\u001b[0m \u001b[0;32mwhile\u001b[0m \u001b[0mnums\u001b[0m \u001b[0;34m!=\u001b[0m \u001b[0;34m\"ya\"\u001b[0m\u001b[0;34m:\u001b[0m\u001b[0;34m\u001b[0m\u001b[0;34m\u001b[0m\u001b[0m\n\u001b[0;32m----> 4\u001b[0;31m   \u001b[0mn\u001b[0m \u001b[0;34m=\u001b[0m \u001b[0mint\u001b[0m\u001b[0;34m(\u001b[0m\u001b[0minput\u001b[0m\u001b[0;34m(\u001b[0m\u001b[0;34m\"Ingresa numeros o escriba ya para salir: \"\u001b[0m\u001b[0;34m)\u001b[0m\u001b[0;34m)\u001b[0m\u001b[0;34m\u001b[0m\u001b[0;34m\u001b[0m\u001b[0m\n\u001b[0m\u001b[1;32m      5\u001b[0m   \u001b[0;32mif\u001b[0m \u001b[0mn\u001b[0m \u001b[0;34m==\u001b[0m \u001b[0;34m\"ya\"\u001b[0m\u001b[0;34m:\u001b[0m\u001b[0;34m\u001b[0m\u001b[0;34m\u001b[0m\u001b[0m\n\u001b[1;32m      6\u001b[0m     \u001b[0;32mbreak\u001b[0m\u001b[0;34m\u001b[0m\u001b[0;34m\u001b[0m\u001b[0m\n",
            "\u001b[0;31mValueError\u001b[0m: invalid literal for int() with base 10: 'ya'"
          ]
        }
      ]
    },
    {
      "cell_type": "markdown",
      "source": [
        "# Ejercicios de Diccionarios y librerias"
      ],
      "metadata": {
        "id": "cPUaJeaM-uYD"
      }
    },
    {
      "cell_type": "markdown",
      "source": [
        "Ejercicio 1\n",
        "\n",
        "Escribir un programa que guarde en una variable el diccionario {'Euro':'€', 'Dollar':'$', 'Yen':'¥'}, pregunte al usuario por una divisa y muestre su símbolo o un mensaje de aviso si la divisa no está en el diccionario.\n"
      ],
      "metadata": {
        "id": "wSmrXPZiCEPl"
      }
    },
    {
      "cell_type": "code",
      "source": [
        "d =  {'Euro':'€', 'Dollar':'$', 'Yen':'¥'}\n",
        "n = str(input(\"Ingresa una divisa: \"))\n",
        "if d.get(n) == None:\n",
        "  print(\"No esta en el diccionario\")\n",
        "else:\n",
        "  print(d.get(n))"
      ],
      "metadata": {
        "id": "bcLsN6rIDpbC",
        "colab": {
          "base_uri": "https://localhost:8080/"
        },
        "outputId": "b64e290a-8b0e-49b6-d76b-5c455d4da642"
      },
      "execution_count": null,
      "outputs": [
        {
          "output_type": "stream",
          "name": "stdout",
          "text": [
            "Ingresa una divisa: Euro\n",
            "€\n"
          ]
        }
      ]
    },
    {
      "cell_type": "markdown",
      "source": [
        "Ejercicio 2\n",
        "Escribir un programa que pregunte al usuario su nombre, edad, dirección y teléfono y lo guarde en un diccionario. Después debe mostrar por pantalla el mensaje <nombre> tiene <edad> años, vive en <dirección> y su número de teléfono es <teléfono>."
      ],
      "metadata": {
        "id": "yiXqfk7GDqKJ"
      }
    },
    {
      "cell_type": "code",
      "source": [
        "nombre = input(\"Ingrese su nombre: \")\n",
        "edad = input(\"Ingrese su edad: \")\n",
        "direccion = input(\"Ingrese su dirección: \")\n",
        "telefono = input(\"Ingrese su teléfono: \")\n",
        "\n",
        "usuario = {\n",
        "    \"nombre\": nombre,\n",
        "    \"edad\": edad,\n",
        "    \"direccion\": direccion,\n",
        "    \"telefono\": telefono\n",
        "}\n",
        "\n",
        "print(f\"{usuario['nombre']} tiene {usuario['edad']} años, vive en {usuario['direccion']} y su número de teléfono es {usuario['telefono']}.\")\n"
      ],
      "metadata": {
        "id": "h7S2NX7tDqZl",
        "colab": {
          "base_uri": "https://localhost:8080/"
        },
        "outputId": "f21cc989-54b2-425c-d0e7-d28aae2d827c"
      },
      "execution_count": null,
      "outputs": [
        {
          "output_type": "stream",
          "name": "stdout",
          "text": [
            "Ingrese su nombre: Guada\n",
            "Ingrese su edad: 17\n",
            "Ingrese su dirección: La calera\n",
            "Ingrese su teléfono: 3515634494\n",
            "Guada tiene 17 años, vive en La calera y su número de teléfono es 3515634494.\n"
          ]
        }
      ]
    },
    {
      "cell_type": "markdown",
      "source": [
        "Ejercicio 3\n",
        "Escribir un programa que guarde en un diccionario los precios de las frutas de la tabla, pregunte al usuario por una fruta, un número de kilos y muestre por pantalla el precio de ese número de kilos de fruta. Si la fruta no está en el diccionario debe mostrar un mensaje informando de ello.\n",
        "\n",
        "Fruta\t  Precio\n",
        "\n",
        "Plátano\t1.35\n",
        "\n",
        "Manzana\t0.80\n",
        "\n",
        "Pera\t  0.85\n",
        "\n",
        "Naranja\t0.70\n"
      ],
      "metadata": {
        "id": "OJgG-F5XDYXP"
      }
    },
    {
      "cell_type": "code",
      "source": [
        "fruta = {\n",
        "    \"Plátano\": 1.35,\n",
        "    \"Manzana\": 0.80,\n",
        "    \"Pera\": 0.85,\n",
        "    \"Naranja\": 0.70\n",
        "}\n",
        "\n",
        "f = input(\"Escribe una fruta: \")\n",
        "k = float(input(\"¿Cuántos kilos? \"))\n",
        "\n",
        "if f in fruta:\n",
        "    total = fruta[f] * k\n",
        "    print(f\"El precio de {k} kilos de {f} es ${total}\")\n",
        "else:\n",
        "    print(f\"Lo siento, no tenemos {f} en el diccionario.\")"
      ],
      "metadata": {
        "id": "Bx4pw2KyDbGw",
        "colab": {
          "base_uri": "https://localhost:8080/"
        },
        "outputId": "9f2dfecb-1ed8-4d64-ae8e-44590cc4abf9"
      },
      "execution_count": null,
      "outputs": [
        {
          "output_type": "stream",
          "name": "stdout",
          "text": [
            "Escribe una fruta: Manzana\n",
            "¿Cuántos kilos? 5\n",
            "El precio de 5.0 kilos de Manzana es $4.0\n"
          ]
        }
      ]
    },
    {
      "cell_type": "markdown",
      "source": [
        "Ejercicio 4\n",
        "\n",
        "Escribir un programa que pregunte una fecha en formato dd/mm/aaaa y muestre por pantalla la misma fecha en formato dd de <mes> de aaaa donde <mes> es el nombre del mes."
      ],
      "metadata": {
        "id": "MqHr6zQpDazP"
      }
    },
    {
      "cell_type": "code",
      "source": [
        "meses = {\"01\": \"enero\", \"02\": \"febrero\", \"03\": \"marzo\", \"04\": \"abril\", \"05\": \"mayo\", \"06\": \"junio\", \"07\": \"julio\", \"08\": \"agosto\",\"09\": \"septiembre\", \"10\": \"octubre\", \"11\": \"noviembre\", \"12\": \"diciembre\"}\n",
        "fecha = input(\"Ingrese una fecha en formato dd/mm/aaaa: \")\n",
        "\n",
        "dia, mes, año = fecha.split(\"/\")\n",
        "nombre = meses[mes]\n",
        "\n",
        "print(f\"Fecha: {dia} de {nombre} de {año}\")"
      ],
      "metadata": {
        "colab": {
          "base_uri": "https://localhost:8080/"
        },
        "id": "NMfPR1ULI4xU",
        "outputId": "4155d07c-9235-4b26-f47e-2a68bb840760"
      },
      "execution_count": null,
      "outputs": [
        {
          "output_type": "stream",
          "name": "stdout",
          "text": [
            "Ingrese una fecha en formato dd/mm/aaaa: 04/08/2006\n",
            "Fecha: 04 de agosto de 2006\n"
          ]
        }
      ]
    },
    {
      "cell_type": "markdown",
      "source": [
        "Ejercicio 5\n",
        "\n",
        "Escribir un programa que almacene el diccionario con los créditos de las asignaturas de un curso {'Matemáticas': 6, 'Física': 4, 'Química': 5} y después muestre por pantalla los créditos de cada asignatura en el formato <asignatura> tiene <créditos> créditos, donde <asignatura> es cada una de las asignaturas del curso, y <créditos> son sus créditos. Al final debe mostrar también el número total de créditos del curso."
      ],
      "metadata": {
        "id": "0SlmWGzfDIl5"
      }
    },
    {
      "cell_type": "code",
      "source": [
        "curso = {'Matemáticas': 6, 'Física': 4, 'Química': 5}\n",
        "\n",
        "for materia in curso:\n",
        "    print(f\"{materia} tiene {curso[materia]} créditos\")\n",
        "\n",
        "total_creditos = sum(curso.values())\n",
        "print(f\"El número total de créditos del curso es {total_creditos}\")\n"
      ],
      "metadata": {
        "id": "1In59L6SDJaN",
        "colab": {
          "base_uri": "https://localhost:8080/"
        },
        "outputId": "a6868012-eb45-4f2d-9c0a-bec8d1a2f1df"
      },
      "execution_count": null,
      "outputs": [
        {
          "output_type": "stream",
          "name": "stdout",
          "text": [
            "Matemáticas tiene 6 créditos\n",
            "Física tiene 4 créditos\n",
            "Química tiene 5 créditos\n",
            "El número total de créditos del curso es 15\n"
          ]
        }
      ]
    },
    {
      "cell_type": "markdown",
      "source": [
        "Ejercicio 6\n",
        "Escribir un programa que cree un diccionario vacío y lo vaya llenado con información sobre una persona (por ejemplo nombre, edad, genero, teléfono, correo electrónico, etc.) que se le pida al usuario. Cada vez que se añada un nuevo dato debe imprimirse el contenido del diccionario."
      ],
      "metadata": {
        "id": "2M9jDK_VDCxb"
      }
    },
    {
      "cell_type": "code",
      "source": [
        "usuario = {}\n",
        "n = input(\"Ingrese su nombre: \")\n",
        "e = input(\"Ingrese su edad: \")\n",
        "m = input(\"Ingrese su mail: \")\n",
        "t = input(\"Ingrese su teléfono: \")\n",
        "g = input(\"Ingrese su genero: \")\n",
        "usuario[\"nombre\"] = n\n",
        "usuario[\"edad\"] = e\n",
        "usuario[\"mail\"] = m\n",
        "usuario[\"telefono\"] = t\n",
        "usuario[\"genero\"] = g\n",
        "\n",
        "print(usuario)"
      ],
      "metadata": {
        "id": "-p__PQz5DDGp",
        "colab": {
          "base_uri": "https://localhost:8080/"
        },
        "outputId": "7b650eaf-b366-4193-dfd0-f7c9eb397f47"
      },
      "execution_count": null,
      "outputs": [
        {
          "output_type": "stream",
          "name": "stdout",
          "text": [
            "Ingrese su nombre: Guada\n",
            "Ingrese su edad: 17\n",
            "Ingrese su mail: guada@gmail.com\n",
            "Ingrese su teléfono: 3245778432\n",
            "Ingrese su genero: femenino\n",
            "{'nombre': 'Guada', 'edad': '17', 'mail': 'guada@gmail.com', 'telefono': '3245778432', 'genero': 'femenino'}\n"
          ]
        }
      ]
    },
    {
      "cell_type": "markdown",
      "source": [
        "Ejercicio 7\n",
        "\n",
        "Escribir un programa que cree un diccionario simulando una cesta de la compra. El programa debe preguntar el artículo y su precio y añadir el par al diccionario, hasta que el usuario decida terminar. Después se debe mostrar por pantalla la lista de la compra y el coste total, con el siguiente formato\n",
        "\n",
        "Lista de la compra\n",
        "\n",
        "Artículo 1 |  Precio\n",
        "\n",
        "Artículo 2 |  Precio\n",
        "\n",
        "Artículo 3 |\tPrecio\n",
        "\n",
        "---\n",
        "Total\tCoste"
      ],
      "metadata": {
        "id": "UHYI-wArCd_4"
      }
    },
    {
      "cell_type": "code",
      "source": [
        "cesta = {}\n",
        "\n",
        "while True:\n",
        "    articulo = input(\"Introduce el artículo o SAL para finalizar: \")\n",
        "    if articulo.lower() == \"sal\":\n",
        "        break\n",
        "    else:\n",
        "        precio = float(input(f\"Introduce el precio de {articulo}: \"))\n",
        "\n",
        "    cesta[articulo] = precio\n",
        "\n",
        "print(\"Lista de la compra\")\n",
        "total = 0\n",
        "for articulo, precio in cesta.items():\n",
        "    print(f\"{articulo} | ${precio}\")\n",
        "    total += precio\n",
        "\n",
        "print(f\"Total Coste: ${total}\")\n"
      ],
      "metadata": {
        "id": "LU4EYDYYCdW_",
        "colab": {
          "base_uri": "https://localhost:8080/"
        },
        "outputId": "4db6364c-b6b0-4a48-ce8f-5c166d532346"
      },
      "execution_count": null,
      "outputs": [
        {
          "output_type": "stream",
          "name": "stdout",
          "text": [
            "Introduce el artículo o SAL para finalizar: Trapo\n",
            "Introduce el precio de Trapo: 250\n",
            "Introduce el artículo o SAL para finalizar: jabon\n",
            "Introduce el precio de jabon: 100\n",
            "Introduce el artículo o SAL para finalizar: esponja\n",
            "Introduce el precio de esponja: 130\n",
            "Introduce el artículo o SAL para finalizar: sal\n",
            "Lista de la compra\n",
            "Trapo | $250.0\n",
            "jabon | $100.0\n",
            "esponja | $130.0\n",
            "Total Coste: $480.0\n"
          ]
        }
      ]
    },
    {
      "cell_type": "markdown",
      "source": [
        "Ejercicio 8\n",
        "Escribir un programa que cree un diccionario de traducción español-inglés. El usuario introducirá las palabras en español e inglés separadas por dos puntos, y cada par <palabra>:<traducción> separados por comas. El programa debe crear un diccionario con las palabras y sus traducciones. Después pedirá una frase en español y utilizará el diccionario para traducirla palabra a palabra. Si una palabra no está en el diccionario debe dejarla sin traducir.\n"
      ],
      "metadata": {
        "id": "NjstfTOzCX-5"
      }
    },
    {
      "cell_type": "code",
      "source": [
        "t = {}\n",
        "p = input(\"Escribir las palabras traducidas en el formato palabra:traduccion separando por coma cada traduccion: \")\n",
        "for palabra in p.split(\",\"):\n",
        "    clave, valor = palabra.split(\":\")\n",
        "    t[clave.strip()] = valor.strip()\n",
        "\n",
        "frase = input(\"Decime una frase en español que incluya esas palabras: \")\n",
        "for palabra in frase.split():\n",
        "    print(t.get(palabra, palabra), end=' ')\n"
      ],
      "metadata": {
        "id": "VeTmlJSQCYVh",
        "colab": {
          "base_uri": "https://localhost:8080/"
        },
        "outputId": "888f819a-36fe-4a33-a001-e16563e508b4"
      },
      "execution_count": null,
      "outputs": [
        {
          "output_type": "stream",
          "name": "stdout",
          "text": [
            "Escribir las palabras traducidas en el formato palabra:traduccion separando por coma cada traduccion: hola:hello, nombre:name, mi:my\n",
            "Decime una frase en español que incluya esas palabras: hola mi nombre es Guada\n",
            "hello my name es Guada "
          ]
        }
      ]
    },
    {
      "cell_type": "markdown",
      "source": [
        "Ejercicio 9\n",
        "Escribir un programa que gestione las facturas pendientes de cobro de una empresa. Las facturas se almacenarán en un diccionario donde la clave de cada factura será el número de factura y el valor el coste de la factura. El programa debe preguntar al usuario si quiere añadir una nueva factura, pagar una existente o terminar. Si desea añadir una nueva factura se preguntará por el número de factura y su coste y se añadirá al diccionario. Si se desea pagar una factura se preguntará por el número de factura y se eliminará del diccionario. Después de cada operación el programa debe mostrar por pantalla la cantidad cobrada hasta el momento y la cantidad pendiente de cobro.\n"
      ],
      "metadata": {
        "id": "N6duvztXCTYD"
      }
    },
    {
      "cell_type": "code",
      "source": [
        "facturas = {}\n",
        "\n",
        "while True:\n",
        "    accion = input(\"¿Quieres añadir una nueva factura (a), pagar una existente (p) o terminar (t)? \").lower()\n",
        "\n",
        "    if accion == 'a':\n",
        "        numero = input(\"Introduce el número de factura: \")\n",
        "        costo = float(input(\"Introduce el coste de la factura: \"))\n",
        "        facturas[numero] = costo\n",
        "\n",
        "    elif accion == 'p':\n",
        "        numero = input(\"Introduce el número de factura a pagar: \")\n",
        "        if numero in facturas:\n",
        "            facturas[numero] = 0\n",
        "        else:\n",
        "            print(f\"No se encuentra la factura {numero}.\")\n",
        "\n",
        "    elif accion == 't':\n",
        "        break\n",
        "\n",
        "    else:\n",
        "        print(\"Acción no reconocida. Por favor, elige 'a' para añadir, 'p' para pagar o 't' para terminar.\")\n",
        "\n",
        "    cantidad_cobrada = sum([costo for costo in facturas.values() if costo == 0])\n",
        "    cantidad_pendiente = sum([costo for costo in facturas.values() if costo != 0])\n",
        "    print(f\"Cantidad cobrada hasta el momento: ${cantidad_cobrada}\")\n",
        "    print(f\"Cantidad pendiente de cobro: ${cantidad_pendiente}\")\n"
      ],
      "metadata": {
        "id": "m0yYeSfiCOI_",
        "colab": {
          "base_uri": "https://localhost:8080/"
        },
        "outputId": "ad3c7207-ca39-49c6-e0e7-30b556106f86"
      },
      "execution_count": null,
      "outputs": [
        {
          "output_type": "stream",
          "name": "stdout",
          "text": [
            "¿Quieres añadir una nueva factura (a), pagar una existente (p) o terminar (t)? a\n",
            "Introduce el número de factura: 1\n",
            "Introduce el coste de la factura: 600\n",
            "Cantidad cobrada hasta el momento: $0\n",
            "Cantidad pendiente de cobro: $600.0\n",
            "¿Quieres añadir una nueva factura (a), pagar una existente (p) o terminar (t)? p\n",
            "Introduce el número de factura a pagar: 1\n",
            "Cantidad cobrada hasta el momento: $0\n",
            "Cantidad pendiente de cobro: $0\n",
            "¿Quieres añadir una nueva factura (a), pagar una existente (p) o terminar (t)? a\n",
            "Introduce el número de factura: 1\n",
            "Introduce el coste de la factura: 600\n",
            "Cantidad cobrada hasta el momento: $0\n",
            "Cantidad pendiente de cobro: $600.0\n",
            "¿Quieres añadir una nueva factura (a), pagar una existente (p) o terminar (t)? a\n",
            "Introduce el número de factura: 2\n",
            "Introduce el coste de la factura: 200\n",
            "Cantidad cobrada hasta el momento: $0\n",
            "Cantidad pendiente de cobro: $800.0\n",
            "¿Quieres añadir una nueva factura (a), pagar una existente (p) o terminar (t)? a\n",
            "Introduce el número de factura: 3\n",
            "Introduce el coste de la factura: 1500\n",
            "Cantidad cobrada hasta el momento: $0\n",
            "Cantidad pendiente de cobro: $2300.0\n",
            "¿Quieres añadir una nueva factura (a), pagar una existente (p) o terminar (t)? p\n",
            "Introduce el número de factura a pagar: 2\n",
            "Cantidad cobrada hasta el momento: $0\n",
            "Cantidad pendiente de cobro: $2100.0\n",
            "¿Quieres añadir una nueva factura (a), pagar una existente (p) o terminar (t)? t\n",
            "Programa terminado.\n"
          ]
        }
      ]
    },
    {
      "cell_type": "markdown",
      "source": [
        "Ejercicio 10 Escribir un programa que permita gestionar la base de datos de clientes de una empresa. Los clientes se guardarán en un diccionario en el que la clave de cada cliente será su NIF, y el valor será otro diccionario con los datos del cliente (nombre, dirección, teléfono, correo, preferente), donde preferente tendrá el valor True si se trata de un cliente preferente. El programa debe preguntar al usuario por una opción del siguiente menú: (1) Añadir cliente, (2) Eliminar cliente, (3) Mostrar cliente, (4) Listar todos los clientes, (5) Listar clientes preferentes, (6) Terminar. En función de la opción elegida el programa tendrá que hacer lo siguiente:\n",
        "\n",
        "Preguntar los datos del cliente, crear un diccionario con\n",
        "\n",
        "- Preguntar los datos del cliente, crear un diccionario con los datos y añadirlo a la base de datos.\n",
        "- Preguntar por el NIF del cliente y eliminar sus datos de la base de datos.\n",
        "- Preguntar por el NIF del cliente y mostrar sus datos.\n",
        "- Mostrar lista de todos los clientes de la base datos con su NIF y nombre.\n",
        "- Mostrar la lista de clientes preferentes de la base de datos con su NIF y nombre.\n",
        "- Terminar el programa."
      ],
      "metadata": {
        "id": "B0DrO8sh_Lg7"
      }
    },
    {
      "cell_type": "code",
      "source": [],
      "metadata": {
        "id": "DgTQ_qO5HHCi"
      },
      "execution_count": null,
      "outputs": []
    },
    {
      "cell_type": "markdown",
      "source": [
        "Ejercicio 11 El directorio de los clientes de una empresa está organizado en una cadena de texto como la de más abajo, donde cada línea contiene la información del nombre, email, teléfono, nif, y el descuento que se le aplica. Las líneas se separan con el carácter de cambio de línea \\n y la primera línea contiene los nombres de los campos con la información contenida en el directorio.\n",
        "\n",
        "\"nif;nombre;email;teléfono;descuento\\n01234567L;Luis González;luisgonzalez@mail.com;656343576;12.5\\n71476342J;Macarena Ramírez;macarena@mail.com;692839321;8\\n63823376M;Juan José Martínez;juanjo@mail.com;664888233;5.2\\n98376547F;Carmen Sánchez;carmen@mail.com;667677855;15.7\"\n",
        "Escribir un programa que genere un diccionario con la información del directorio, donde cada elemento corresponda a un cliente y tenga por clave su nif y por valor otro diccionario con el resto de la información del cliente. Los diccionarios con la información de cada cliente tendrán como claves los nombres de los campos y como valores la información de cada cliente correspondientes a los campos. Es decir, un diccionario como el siguiente\n",
        "\n",
        "\"nif;nombre;email;teléfono;descuento\\n01234567L;Luis González;luisgonzalez@mail.com;656343576;12.5\\n71476342J;Macarena Ramírez;macarena@mail.com;692839321;8\\n63823376M;Juan José Martínez;juanjo@mail.com;664888233;5.2\\n98376547F;Carmen Sánchez;carmen@mail.com;667677855;15.7\""
      ],
      "metadata": {
        "id": "hp4ja1-b_vi4"
      }
    },
    {
      "cell_type": "code",
      "source": [],
      "metadata": {
        "id": "Nh0R6NEx_3Iw"
      },
      "execution_count": null,
      "outputs": []
    },
    {
      "cell_type": "markdown",
      "source": [
        "# Ejercicios de Funciones"
      ],
      "metadata": {
        "id": "e4X7oOVMHE5I"
      }
    },
    {
      "cell_type": "markdown",
      "source": [
        "Ejercicio 1\n",
        "Escribir una función que muestre por pantalla el saludo ¡Hola amiga! cada vez que se la invoque."
      ],
      "metadata": {
        "id": "DZ_xwyPCHOAI"
      }
    },
    {
      "cell_type": "code",
      "source": [
        "def saludo():\n",
        "  print(\"¡Hola amiga!\")\n",
        "\n",
        "%%shaludo()"
      ],
      "metadata": {
        "id": "kmSwAB9NCJn7",
        "colab": {
          "base_uri": "https://localhost:8080/"
        },
        "outputId": "c9f2270b-e868-46e8-b23e-220ef2a893f9"
      },
      "execution_count": null,
      "outputs": [
        {
          "output_type": "stream",
          "name": "stdout",
          "text": [
            "¡Hola amiga!\n"
          ]
        }
      ]
    },
    {
      "cell_type": "markdown",
      "source": [
        "Ejercicio 2\n",
        "Escribir una función a la que se le pase una cadena <nombre> y muestre por pantalla el saludo ¡hola <nombre>!.\n"
      ],
      "metadata": {
        "id": "NIPf0XG4IXv4"
      }
    },
    {
      "cell_type": "code",
      "source": [
        "def saludo(cadena):\n",
        "    print(f\"¡Hola {cadena}!\")\n",
        "cadena = (input(\"Ingresa tu nombre \"))\n",
        "saludo(cadena)"
      ],
      "metadata": {
        "id": "txA9K0L7Ig5g",
        "colab": {
          "base_uri": "https://localhost:8080/"
        },
        "outputId": "3cd07c65-8e69-4cad-d271-158cd33dec9d"
      },
      "execution_count": null,
      "outputs": [
        {
          "output_type": "stream",
          "name": "stdout",
          "text": [
            "Ingresa tu nombre Guada\n",
            "¡Hola Guada!\n"
          ]
        }
      ]
    },
    {
      "cell_type": "markdown",
      "source": [
        "Ejercicio 3\n",
        "Escribir una función que reciba un número entero positivo y devuelva su factorial.\n"
      ],
      "metadata": {
        "id": "FucwhE-qIhJI"
      }
    },
    {
      "cell_type": "code",
      "source": [
        "def factorial(n):\n",
        "    if n < 0:\n",
        "        return \"El número debe ser un entero positivo.\"\n",
        "    elif n == 0 or n == 1:\n",
        "        return 1\n",
        "    else:\n",
        "        resultado = 1\n",
        "        for i in range(2, n + 1):\n",
        "            resultado *= i\n",
        "        return resultado\n",
        "\n",
        "n = int(input(\"Introduce un número entero positivo: \"))\n",
        "print(f\"El factorial de {n} es {factorial(n)}\")"
      ],
      "metadata": {
        "id": "JaW8DnpYIkMD",
        "colab": {
          "base_uri": "https://localhost:8080/"
        },
        "outputId": "0cb347af-7c57-4612-882b-396e361bb019"
      },
      "execution_count": null,
      "outputs": [
        {
          "output_type": "stream",
          "name": "stdout",
          "text": [
            "Introduce un número entero positivo: 5\n",
            "El factorial de 5 es 120\n"
          ]
        }
      ]
    },
    {
      "cell_type": "markdown",
      "source": [
        "Ejercicio 4\n",
        "Escribir una función que calcule el total de una factura tras aplicarle el IVA. La función debe recibir la cantidad sin IVA y el porcentaje de IVA a aplicar, y devolver el total de la factura. Si se invoca la función sin pasarle el porcentaje de IVA, deberá aplicar un 21%."
      ],
      "metadata": {
        "id": "pb9lEUisIkZ9"
      }
    },
    {
      "cell_type": "code",
      "source": [
        "def cal_iva(fact, iva=None):\n",
        "    if iva == None:\n",
        "        result = fact * 1.21\n",
        "    elif iva > 1:\n",
        "        iva = iva / 100\n",
        "        result = fact * (1 + iva)\n",
        "    else:\n",
        "        result = fact * (1 + iva)\n",
        "    return result\n",
        "\n",
        "cantidad = float(input(\"Introduce la cantidad sin IVA: \"))\n",
        "porcentaje = input(\"Introduce el porcentaje de IVA (deja vacío para usar el 21%): \")\n",
        "\n",
        "if porcentaje == \"\":\n",
        "    total = cal_iva(cantidad)\n",
        "else:\n",
        "    total = cal_iva(cantidad, float(porcentaje))\n",
        "\n",
        "print(f\"El total de la factura es: {total}\")"
      ],
      "metadata": {
        "id": "lTphUN_qIoNr",
        "colab": {
          "base_uri": "https://localhost:8080/"
        },
        "outputId": "8e791408-3b14-40a3-e15a-ea415ff0f57c"
      },
      "execution_count": null,
      "outputs": [
        {
          "output_type": "stream",
          "name": "stdout",
          "text": [
            "Introduce la cantidad sin IVA: 500\n",
            "Introduce el porcentaje de IVA (deja vacío para usar el 21%): 5\n",
            "El total de la factura es: 525.0\n"
          ]
        }
      ]
    },
    {
      "cell_type": "markdown",
      "source": [
        "Ejercicio 5\n",
        "Escribir una función que calcule el área de un círculo y otra que calcule el volumen de un cilindro usando la primera función.\n"
      ],
      "metadata": {
        "id": "VBCwyCkIIoaE"
      }
    },
    {
      "cell_type": "code",
      "source": [
        "import math\n",
        "def area(radio):\n",
        "  a = math.pi*radio**2\n",
        "  return a\n",
        "def volumen(radio,alto):\n",
        "  v = area(radio)*alto\n",
        "  return v\n",
        "\n",
        "radio = float(input(\"Introduce el radio del círculo: \"))\n",
        "print(f\"El área del círculo es: {area(radio)}\")\n",
        "altura = float(input(\"Introduce la altura del cilindro: \"))\n",
        "print(f\"El volumen del cilindro es: {volumen(radio, altura)}\")"
      ],
      "metadata": {
        "id": "UyGvE0rkIsar",
        "colab": {
          "base_uri": "https://localhost:8080/"
        },
        "outputId": "53bc00ba-83c3-4e38-cedc-d67e9e52f871"
      },
      "execution_count": null,
      "outputs": [
        {
          "output_type": "stream",
          "name": "stdout",
          "text": [
            "Introduce el radio del círculo: 5\n",
            "El área del círculo es: 78.53981633974483\n",
            "Introduce la altura del cilindro: 6\n",
            "El volumen del cilindro es: 471.23889803846896\n"
          ]
        }
      ]
    },
    {
      "cell_type": "markdown",
      "source": [
        "Ejercicio 6\n",
        "Escribir una función que reciba una muestra de números en una lista y devuelva su media.\n"
      ],
      "metadata": {
        "id": "PypHdmu0IyLK"
      }
    },
    {
      "cell_type": "code",
      "source": [
        "def media(lista):\n",
        "    suma = 0\n",
        "    numeros = lista.split(\",\")\n",
        "    for num in numeros:\n",
        "        suma += float(num)\n",
        "    if len(numeros) == 0:\n",
        "        return 0\n",
        "    media = suma / len(numeros)\n",
        "    return media\n",
        "\n",
        "dato = input(\"Dame una lista de valores separados por coma: \")\n",
        "\n",
        "print(f\"Media: {media(dato)}\")\n"
      ],
      "metadata": {
        "id": "4519iS85Iyg-",
        "colab": {
          "base_uri": "https://localhost:8080/"
        },
        "outputId": "ec5d890c-2735-4eb4-c298-4787209e976d"
      },
      "execution_count": null,
      "outputs": [
        {
          "output_type": "stream",
          "name": "stdout",
          "text": [
            "Dame una lista de valores separados por coma: 10,20,30,40,50\n",
            "Media: 30.0\n"
          ]
        }
      ]
    },
    {
      "cell_type": "markdown",
      "source": [
        "Ejercicio 7\n",
        "Escribir una función que reciba una muestra de números en una lista y devuelva otra lista con sus cuadrados.\n"
      ],
      "metadata": {
        "id": "OYYYOhsDIslR"
      }
    },
    {
      "cell_type": "code",
      "source": [
        "def cal_cuadrado(lista):\n",
        "  return [num ** 2 for num in lista]\n",
        "\n",
        "dato = input(\"Dame una lista de valores separados por coma: \")\n",
        "numeros = [int(x) for x in dato.split(\",\")]\n",
        "print(f\"Lista original: {numeros}\")\n",
        "print(f\"Lista de cuadrados: {cal_cuadrado(numeros)}\")"
      ],
      "metadata": {
        "id": "31EIxRVSI3Ss",
        "colab": {
          "base_uri": "https://localhost:8080/"
        },
        "outputId": "eb413001-7665-4538-cfc6-1549eafc7665"
      },
      "execution_count": null,
      "outputs": [
        {
          "output_type": "stream",
          "name": "stdout",
          "text": [
            "Dame una lista de valores separados por coma: 1,2,3,4,5\n",
            "Lista original: [1, 2, 3, 4, 5]\n",
            "Lista de cuadrados: [1, 4, 9, 16, 25]\n"
          ]
        }
      ]
    },
    {
      "cell_type": "markdown",
      "source": [
        "Ejercicio 8\n",
        "Escribir una función que reciba una muestra de números en una lista y devuelva un diccionario con su media, varianza y desviación típica.\n"
      ],
      "metadata": {
        "id": "IIOCiYcdI3gA"
      }
    },
    {
      "cell_type": "code",
      "source": [
        "import statistics\n",
        "\n",
        "def estadisticas(lista):\n",
        "    if len(lista) == 0:\n",
        "        return {\"media\": None, \"varianza\": None, \"desviacion_tipica\": None}\n",
        "\n",
        "    media = statistics.mean(lista)\n",
        "    varianza = statistics.variance(lista)\n",
        "    desviacion_tipica = statistics.stdev(lista)\n",
        "\n",
        "    return {\"media\": media, \"varianza\": varianza, \"desviacion_tipica\": desviacion_tipica}\n",
        "\n",
        "entrada = input(\"Ingrese una lista de números separados por coma: \")\n",
        "numeros = [float(x) for x in entrada.split(\",\")]\n",
        "\n",
        "resultados = estadisticas(numeros)\n",
        "print(f\"Media: {resultados['media']}\")\n",
        "print(f\"Varianza: {resultados['varianza']}\")\n",
        "print(f\"Desviación Típica: {resultados['desviacion_tipica']}\")\n"
      ],
      "metadata": {
        "id": "bg60eGjjI52n",
        "colab": {
          "base_uri": "https://localhost:8080/"
        },
        "outputId": "bc721f89-71a2-487b-b0c9-b141fb630b1d"
      },
      "execution_count": null,
      "outputs": [
        {
          "output_type": "stream",
          "name": "stdout",
          "text": [
            "Ingrese una lista de números separados por coma: 10,20,30,40\n",
            "Media: 25.0\n",
            "Varianza: 166.66666666666666\n",
            "Desviación Típica: 12.909944487358056\n"
          ]
        }
      ]
    },
    {
      "cell_type": "markdown",
      "source": [
        "Ejercicio 9\n",
        "Escribir una función que calcule el máximo común divisor de dos números y otra que calcule el mínimo común múltiplo.\n"
      ],
      "metadata": {
        "id": "GitH3DnTI6BO"
      }
    },
    {
      "cell_type": "code",
      "source": [
        "import math\n",
        "def mcd(a, b):\n",
        "  if b == 0:\n",
        "      return a\n",
        "  return mcd(b, a % b)\n",
        "def mcm(a, b):\n",
        "    return abs(a * b) // mcd(a, b)\n",
        "\n",
        "n1 = int(input('Dame un numero: '))\n",
        "n2 = int(input('Dame otro numero: '))\n",
        "print(f\"mcd: {mcd(n1,n2)}\")\n",
        "print(f\"mcm: {mcm(n1,n2)}\")"
      ],
      "metadata": {
        "id": "8uMIXF2bI82f",
        "colab": {
          "base_uri": "https://localhost:8080/"
        },
        "outputId": "0d884a3b-241e-4efa-d3ec-bd1facb6e0fe"
      },
      "execution_count": null,
      "outputs": [
        {
          "output_type": "stream",
          "name": "stdout",
          "text": [
            "Dame un numero: 8\n",
            "Dame otro numero: 12\n",
            "mcd: 4\n",
            "mcm: 24\n"
          ]
        }
      ]
    },
    {
      "cell_type": "markdown",
      "source": [
        "Ejercicio 10\n",
        "Escribir una función que convierta un número decimal en binario y otra que convierta un número binario en decimal."
      ],
      "metadata": {
        "id": "hb1jsp4cI9Jh"
      }
    },
    {
      "cell_type": "code",
      "source": [
        "def binario(n):\n",
        "    if n == 0:\n",
        "        return \"0\"\n",
        "    bin = []\n",
        "    while n > 0:\n",
        "        bin.append(str(n % 2))\n",
        "        n //= 2\n",
        "    bin.reverse()\n",
        "    return ''.join(bin)\n",
        "\n",
        "def decimal(n):\n",
        "    n = list(n)\n",
        "    n.reverse()\n",
        "    dec = 0\n",
        "    for i in range(len(n)):\n",
        "        dec += int(n[i]) * 2 ** i\n",
        "    return dec\n",
        "\n",
        "numeroD = int(input(\"Ingrese un número decimal: \"))  # Convertir a entero\n",
        "numeroB = input(\"Ingrese un número binario: \")       # Mantener como cadena\n",
        "\n",
        "print(f\"El número {numeroD} en binario es: {binario(numeroD)}\")\n",
        "print(f\"El número {numeroB} en decimal es: {decimal(numeroB)}\")\n"
      ],
      "metadata": {
        "id": "XGQcIaAII90q",
        "colab": {
          "base_uri": "https://localhost:8080/"
        },
        "outputId": "064e9e28-1fa9-4753-9754-5f45e77c1998"
      },
      "execution_count": null,
      "outputs": [
        {
          "output_type": "stream",
          "name": "stdout",
          "text": [
            "Ingrese un número decimal: 5\n",
            "Ingrese un número binario: 101\n",
            "El número 5 en binario es: 101\n",
            "El número 101 en decimal es: 5\n"
          ]
        }
      ]
    },
    {
      "cell_type": "markdown",
      "source": [
        "# Ejercicios Programacion Funcional"
      ],
      "metadata": {
        "id": "Tkw-n49-JKEY"
      }
    },
    {
      "cell_type": "markdown",
      "source": [
        "Ejercicio 1\n",
        "Escribir una función que aplique un descuento a un precio y otra que aplique el IVA a un precio. Escribir una tercera función que reciba un diccionario con los precios y porcentajes de una cesta de la compra, y una de las funciones anteriores, y utilice la función pasada para aplicar los descuentos o el IVA a los productos de la cesta y devolver el precio final de la cesta.\n"
      ],
      "metadata": {
        "id": "_fJL4flqJVgr"
      }
    },
    {
      "cell_type": "code",
      "source": [
        "def descuento(precio, descuento):\n",
        "    precio_con_descuento = precio - (precio * (descuento / 100))\n",
        "    return precio_con_descuento\n",
        "\n",
        "def iva(precio, iva):\n",
        "    precio_con_iva = precio + (precio * (iva / 100))\n",
        "    return precio_con_iva\n",
        "\n",
        "def cesta(cesta, funcion_aplicar):\n",
        "    total = 0.0\n",
        "    for producto, (precio, porcentaje) in cesta.items():\n",
        "        precio_final = funcion_aplicar(precio, porcentaje)\n",
        "        total += precio_final\n",
        "        print(f\"{producto}, Precio original: {precio}, Porcentaje: {porcentaje}, Precio final: {precio_final}\")\n",
        "    return total\n",
        "\n",
        "cesta_compra = {\n",
        "    \"Producto A\": (100.0, 10.0),\n",
        "    \"Producto B\": (200.0, 5.0),\n",
        "    \"Producto C\": (150.0, 20.0)\n",
        "}\n",
        "\n",
        "total_descuentos = cesta(cesta_compra, descuento)\n",
        "print(f\"Total con descuentos: {total_descuentos}\")\n",
        "\n",
        "total_iva = cesta(cesta_compra, iva)\n",
        "print(f\"Total con IVA: {total_iva}\")\n"
      ],
      "metadata": {
        "id": "e7FrwsDbJU2n",
        "colab": {
          "base_uri": "https://localhost:8080/"
        },
        "outputId": "de85d44a-2791-47c1-8b39-eb42f20402a4"
      },
      "execution_count": null,
      "outputs": [
        {
          "output_type": "stream",
          "name": "stdout",
          "text": [
            "Producto A, Precio original: 100.0, Porcentaje: 10.0, Precio final: 90.0\n",
            "Producto B, Precio original: 200.0, Porcentaje: 5.0, Precio final: 190.0\n",
            "Producto C, Precio original: 150.0, Porcentaje: 20.0, Precio final: 120.0\n",
            "Total con descuentos: 400.0\n",
            "Producto A, Precio original: 100.0, Porcentaje: 10.0, Precio final: 110.0\n",
            "Producto B, Precio original: 200.0, Porcentaje: 5.0, Precio final: 210.0\n",
            "Producto C, Precio original: 150.0, Porcentaje: 20.0, Precio final: 180.0\n",
            "Total con IVA: 500.0\n"
          ]
        }
      ]
    },
    {
      "cell_type": "markdown",
      "source": [
        "Ejercicio 2\n",
        "Escribir una función que simule una calculadora científica que permita calcular el seno, coseno, tangente, exponencial y logaritmo neperiano. La función preguntará al usuario el valor y la función a aplicar, y mostrará por pantalla una tabla con los enteros de 1 al valor introducido y el resultado de aplicar la función a esos enteros.\n"
      ],
      "metadata": {
        "id": "7-TKCfefJhBB"
      }
    },
    {
      "cell_type": "code",
      "source": [
        "from math import sin, cos, tan, exp, log\n",
        "\n",
        "def funciones(f, n):\n",
        "    functions = {'sin': sin, 'cos': cos, 'tan': tan, 'exp': exp, 'log': log}\n",
        "    result = {}\n",
        "    if f not in functions:\n",
        "        raise ValueError(\"Función no válida. Elige entre 'sin', 'cos', 'tan', 'exp', 'log'.\")\n",
        "    for i in range(1, n + 1):\n",
        "        result[i] = functions[f](i)\n",
        "    return result\n",
        "\n",
        "def cal_cientifica():\n",
        "    while True:\n",
        "        f = input('Introduce la función a aplicar (sin, cos, tan, exp, log): ').strip().lower()\n",
        "        if f in ['sin', 'cos', 'tan', 'exp', 'log']:\n",
        "            break\n",
        "        else:\n",
        "            print(\"Función no válida. Elige entre 'sin', 'cos', 'tan', 'exp', 'log'.\")\n",
        "\n",
        "    while True:\n",
        "        try:\n",
        "            n = int(input('Introduce un entero positivo: '))\n",
        "            if n > 0:\n",
        "                break\n",
        "            else:\n",
        "                print(\"Por favor, introduce un entero positivo.\")\n",
        "        except ValueError:\n",
        "            print(\"Por favor, introduce un número entero válido.\")\n",
        "\n",
        "    resultados = funciones(f, n)\n",
        "\n",
        "    print(f\"\\nTabla de resultados para la función '{f}':\")\n",
        "    for i, resultado in resultados.items():\n",
        "      print(f\"{i:<10}{resultado:<20}\")\n",
        "\n",
        "    return\n",
        "\n",
        "cal_cientifica()\n"
      ],
      "metadata": {
        "id": "s7jcAJkYJhWO",
        "colab": {
          "base_uri": "https://localhost:8080/"
        },
        "outputId": "f295dc53-ac90-48d7-fc7d-7b52cb710ee2"
      },
      "execution_count": null,
      "outputs": [
        {
          "output_type": "stream",
          "name": "stdout",
          "text": [
            "Introduce la función a aplicar (sin, cos, tan, exp, log): cos\n",
            "Introduce un entero positivo: 5\n",
            "\n",
            "Tabla de resultados para la función 'cos':\n",
            "1         0.5403023058681398  \n",
            "2         -0.4161468365471424 \n",
            "3         -0.9899924966004454 \n",
            "4         -0.6536436208636119 \n",
            "5         0.28366218546322625 \n"
          ]
        }
      ]
    },
    {
      "cell_type": "markdown",
      "source": [
        "Ejercicio 3 Escribir una función que reciba una frase y devuelva un diccionario con las palabras que contiene y su longitud."
      ],
      "metadata": {
        "id": "QOwizfu-JlTX"
      }
    },
    {
      "cell_type": "code",
      "source": [
        "def frase(f):\n",
        "  palabras = f.split()\n",
        "  longitudes = {p: len(p) for p in palabras}\n",
        "  return longitudes\n",
        "\n",
        "f = input(\"Escribir una función que reciba una frase: \")\n",
        "print(frase(f))\n"
      ],
      "metadata": {
        "id": "3Nx2aIPhJpkq",
        "colab": {
          "base_uri": "https://localhost:8080/"
        },
        "outputId": "8b6a9108-0c7a-4473-8436-7c8f76061853"
      },
      "execution_count": null,
      "outputs": [
        {
          "output_type": "stream",
          "name": "stdout",
          "text": [
            "Escribir una función que reciba una frase: mi mama me mima\n",
            "{'mi': 2, 'mama': 4, 'me': 2, 'mima': 4}\n"
          ]
        }
      ]
    },
    {
      "cell_type": "markdown",
      "source": [
        "Ejercicio 4 Escribir una función reciba una lista de materias y devuelva la lista de calificaciones correspondientes a esas materias.\n"
      ],
      "metadata": {
        "id": "cDoNFCEiJpwo"
      }
    },
    {
      "cell_type": "code",
      "source": [
        "def grade(score):\n",
        "    if score < 5:\n",
        "        return 'SS'\n",
        "    elif score < 7:\n",
        "        return 'B'\n",
        "    elif score < 9:\n",
        "        return 'MB'\n",
        "    elif score < 10:\n",
        "        return 'E'\n",
        "    else:\n",
        "        return 'E'\n",
        "def aplicar(scores):\n",
        "   return list(map(grade, scores))\n",
        "\n",
        "def obtener_calificaciones(materias):\n",
        "    calificaciones = []\n",
        "    for materia in materias:\n",
        "        while True:\n",
        "            try:\n",
        "                calificacion = float(input(f\"Introduce la calificación para {materia} (0-10): \"))\n",
        "                if 0 <= calificacion <= 10:\n",
        "                    calificaciones.append(calificacion)\n",
        "                    break\n",
        "                else:\n",
        "                    print(\"Por favor, introduce una calificación válida (entre 0 y 10).\")\n",
        "            except ValueError:\n",
        "                print(\"Entrada no válida. Por favor, introduce un número.\")\n",
        "    return calificaciones\n",
        "\n",
        "def calcular():\n",
        "    materias = input(\"Introduce una lista de materias separadas por comas: \").split(',')\n",
        "    materias = [materia.strip() for materia in materias]\n",
        "\n",
        "    num = obtener_calificaciones(materias)\n",
        "    letras = aplicar(num)\n",
        "\n",
        "    print(\"\\nResultados:\")\n",
        "    for materia, num, letra in zip(materias, num, letras):\n",
        "        print(f\"{materia}: {letra}\")\n",
        "    return\n",
        "\n",
        "calcular()\n"
      ],
      "metadata": {
        "colab": {
          "base_uri": "https://localhost:8080/"
        },
        "id": "0vU8mXyTGoeE",
        "outputId": "ce03efce-4a0a-4636-af8c-e8a915f0dd1e"
      },
      "execution_count": null,
      "outputs": [
        {
          "output_type": "stream",
          "name": "stdout",
          "text": [
            "Introduce una lista de materias separadas por comas: geo, mate, fisica, lengua, historia\n",
            "Introduce la calificación para geo (0-10): 10\n",
            "Introduce la calificación para mate (0-10): 8\n",
            "Introduce la calificación para fisica (0-10): 6\n",
            "Introduce la calificación para lengua (0-10): 4\n",
            "Introduce la calificación para historia (0-10): 2\n",
            "\n",
            "Resultados:\n",
            "geo: E\n",
            "mate: MB\n",
            "fisica: B\n",
            "lengua: SS\n",
            "historia: SS\n"
          ]
        }
      ]
    },
    {
      "cell_type": "markdown",
      "source": [
        "Ejercicio 5 Escribir una función reciba un diccionario con las asignaturas y las notas de un alumno y devuelva otro diccionario con las asignaturas en mayúsculas y las calificaciones correspondientes a las asignaturas.\n",
        "\n",
        "\n"
      ],
      "metadata": {
        "id": "CTg8Qf8pJsDO"
      }
    },
    {
      "cell_type": "code",
      "source": [
        "def grade(score):\n",
        "    if score < 5:\n",
        "        return 'SS'\n",
        "    elif score < 7:\n",
        "        return 'B'\n",
        "    elif score < 9:\n",
        "        return 'MB'\n",
        "    elif score < 10:\n",
        "        return 'E'\n",
        "    else:\n",
        "        return 'E'\n",
        "\n",
        "def calificaciones_en_letras(asignaturas_y_notas):\n",
        "    calificaciones = {}\n",
        "    for asignatura, nota in asignaturas_y_notas.items():\n",
        "        calificaciones[asignatura.upper()] = grade(nota)\n",
        "    return calificaciones\n",
        "\n",
        "asignaturas_y_notas = {\n",
        "    \"Matemáticas\": 8.5,\n",
        "    \"Física\": 6.0,\n",
        "    \"Química\": 9.3,\n",
        "    \"Historia\": 4.5,\n",
        "    \"Lengua\": 7.8\n",
        "}\n",
        "\n",
        "resultado = calificaciones_en_letras(asignaturas_y_notas)\n",
        "print(resultado)\n"
      ],
      "metadata": {
        "id": "tycsyYJKJuRW",
        "colab": {
          "base_uri": "https://localhost:8080/"
        },
        "outputId": "dcfa1200-fab8-4bd6-c980-746a6e2e11ff"
      },
      "execution_count": 4,
      "outputs": [
        {
          "output_type": "stream",
          "name": "stdout",
          "text": [
            "{'MATEMÁTICAS': 'MB', 'FÍSICA': 'B', 'QUÍMICA': 'E', 'HISTORIA': 'SS', 'LENGUA': 'MB'}\n"
          ]
        }
      ]
    },
    {
      "cell_type": "markdown",
      "source": [
        "Ejercicio 6 Escribir una función que calcule el módulo de un vector.\n"
      ],
      "metadata": {
        "id": "mIQ_1FxAJukr"
      }
    },
    {
      "cell_type": "code",
      "source": [
        "import math\n",
        "\n",
        "def cal_modulo(vector):\n",
        "    s = sum(x**2 for x in vector)\n",
        "    modulo = math.sqrt(s)\n",
        "    return modulo\n",
        "\n",
        "vector = [3, 4]\n",
        "modulo = cal_modulo(vector)\n",
        "print(f\"El módulo del vector {vector} es {modulo}\")\n"
      ],
      "metadata": {
        "id": "tR_e7FHwJwfZ",
        "colab": {
          "base_uri": "https://localhost:8080/"
        },
        "outputId": "c4c040e3-941b-429d-e5b2-661928fc60cb"
      },
      "execution_count": 6,
      "outputs": [
        {
          "output_type": "stream",
          "name": "stdout",
          "text": [
            "El módulo del vector [3, 4] es 5.0\n"
          ]
        }
      ]
    },
    {
      "cell_type": "markdown",
      "source": [
        "Ejercicio 7\n",
        "\n",
        "Una inmobiliaria de una ciudad maneja una lista de inmuebles como la siguiente:\n",
        "\n",
        "[{'año': 2000, 'metros': 100, 'habitaciones': 3, 'garaje': True, 'zona': 'A'}, {'año': 2012, 'metros': 60, 'habitaciones': 2, 'garaje': True, 'zona': 'B'}, {'año': 1980, 'metros': 120, 'habitaciones': 4, 'garaje': False, 'zona': 'A'}, {'año': 2005, 'metros': 75, 'habitaciones': 3, 'garaje': True, 'zona': 'B'}, {'año': 2015, 'metros': 90, 'habitaciones': 2, 'garaje': False, 'zona': 'A'}]\n",
        "\n",
        "Construir una función que permita hacer búsqueda de inmuebles en función de un presupuesto dado. La función recibirá como entrada la lista de inmuebles y un precio, y devolverá otra lista con los inmuebles cuyo precio sea menor o igual que el dado. Los inmuebles de la lista que se devuelva deben incorporar un nuevo par a cada diccionario con el precio del inmueble, donde el precio de un inmueble se calcula con las siguiente fórmula en función de la zona:\n",
        "\n",
        "Zona A: precio = (metros x 1000 + habitaciones x 5000 + garaje x 15000) x (1 - antiguedad / 100)\n",
        "\n",
        "Zona B: precio = (metros x 1000 + habitaciones x 5000 + garaje x 15000) x (1 - antiguedad / 100) x 1.5\n"
      ],
      "metadata": {
        "id": "owFlBSlhJwuF"
      }
    },
    {
      "cell_type": "code",
      "source": [
        "deptos = [\n",
        "    {'año': 2000, 'metros': 100, 'habitaciones': 3, 'garaje': True, 'zona': 'A'},\n",
        "    {'año': 2012, 'metros': 60, 'habitaciones': 2, 'garaje': True, 'zona': 'B'},\n",
        "    {'año': 1980, 'metros': 120, 'habitaciones': 4, 'garaje': False, 'zona': 'A'},\n",
        "    {'año': 2005, 'metros': 75, 'habitaciones': 3, 'garaje': True, 'zona': 'B'},\n",
        "    {'año': 2015, 'metros': 90, 'habitaciones': 2, 'garaje': False, 'zona': 'A'}\n",
        "]\n",
        "\n",
        "def añadir_precio(depto):\n",
        "    antiguedad = 2024 - depto['año']\n",
        "    precio = (depto['metros'] * 1000 + depto['habitaciones'] * 5000 + int(depto['garaje']) * 15000) * (1 - antiguedad / 100)\n",
        "    if depto['zona'] == 'B':\n",
        "        precio *= 1.5\n",
        "    depto['precio'] = precio\n",
        "    return depto\n",
        "\n",
        "def busca_depto(deptos, presupuesto):\n",
        "    def filtro(depto):\n",
        "        return depto['precio'] <= presupuesto\n",
        "\n",
        "    return list(filter(filtro, map(añadir_precio, deptos)))\n",
        "\n",
        "# Ejemplo de uso\n",
        "presupuesto = 200000\n",
        "print(busca_depto(deptos, presupuesto))\n"
      ],
      "metadata": {
        "id": "T-Juf0wlJytM",
        "colab": {
          "base_uri": "https://localhost:8080/"
        },
        "outputId": "1e7a0f32-41c0-4fcd-b5e9-f77306623634"
      },
      "execution_count": 9,
      "outputs": [
        {
          "output_type": "stream",
          "name": "stdout",
          "text": [
            "[{'año': 2000, 'metros': 100, 'habitaciones': 3, 'garaje': True, 'zona': 'A', 'precio': 98800.0}, {'año': 2012, 'metros': 60, 'habitaciones': 2, 'garaje': True, 'zona': 'B', 'precio': 112200.0}, {'año': 1980, 'metros': 120, 'habitaciones': 4, 'garaje': False, 'zona': 'A', 'precio': 78400.00000000001}, {'año': 2005, 'metros': 75, 'habitaciones': 3, 'garaje': True, 'zona': 'B', 'precio': 127575.0}, {'año': 2015, 'metros': 90, 'habitaciones': 2, 'garaje': False, 'zona': 'A', 'precio': 91000.0}]\n"
          ]
        }
      ]
    },
    {
      "cell_type": "markdown",
      "source": [
        "Ejercicio 8 Escribir una función que reciba una muestra de números y devuelva los valores atípicos, es decir, los valores cuya puntuación típica sea mayor que 3 o menor que -3. Nota: La puntuación típica de un valor se obtiene restando la media y dividiendo por la desviación típica de la muestra.\n"
      ],
      "metadata": {
        "id": "huDhePtGJy7q"
      }
    },
    {
      "cell_type": "code",
      "source": [
        "def encontrar_valores_atipicos(muestra):\n",
        "    media = sum(muestra) / len(muestra)\n",
        "\n",
        "    varianza = sum((x - media) ** 2 for x in muestra) / len(muestra)\n",
        "    desviacion_estandar = varianza ** 0.5\n",
        "\n",
        "    valores_atipicos = [x for x in muestra if abs((x - media) / desviacion_estandar) > 3]\n",
        "\n",
        "    return valores_atipicos\n",
        "\n",
        "muestra = [1, 2, 3, 4, 5, 6, 7, 8, 9, 10, 1000]\n",
        "valores_atipicos = encontrar_valores_atipicos(muestra)\n",
        "print(\"Valores atípicos:\", valores_atipicos)\n"
      ],
      "metadata": {
        "id": "IYc3PrnyJ094",
        "colab": {
          "base_uri": "https://localhost:8080/"
        },
        "outputId": "bb3ba322-dd73-4354-9c14-2c8fe82756be"
      },
      "execution_count": 11,
      "outputs": [
        {
          "output_type": "stream",
          "name": "stdout",
          "text": [
            "Valores atípicos: [1000]\n"
          ]
        }
      ]
    },
    {
      "cell_type": "markdown",
      "source": [
        "# Ejercicios Depuración"
      ],
      "metadata": {
        "id": "DUs7QJ5pKVqS"
      }
    },
    {
      "cell_type": "markdown",
      "source": [
        "Ejercicio 1\n",
        "Corregir los errores sintácticos del siguiente programa:\n",
        "\n",
        "\n",
        "```python\n",
        "contraseña = input('Introduce la contraseña: \")\n",
        "if contraseña in ['sesamo'):\n",
        "  print('Pasa')\n",
        "else\n",
        "  print('No pasa')\n",
        "```\n",
        "\n",
        "\n"
      ],
      "metadata": {
        "id": "qf5hMzEjKpoA"
      }
    },
    {
      "cell_type": "code",
      "source": [
        "contraseña = input(\"Introduce la contraseña: \")\n",
        "if contraseña in 'sesamo':\n",
        "  print('Pasa')\n",
        "else:\n",
        "  print('No pasa')"
      ],
      "metadata": {
        "id": "EZnFG2A0Ky3n",
        "colab": {
          "base_uri": "https://localhost:8080/"
        },
        "outputId": "dbd8b7a1-fdf9-455e-e94d-67fa16594f8d"
      },
      "execution_count": 15,
      "outputs": [
        {
          "output_type": "stream",
          "name": "stdout",
          "text": [
            "Introduce la contraseña: sesamo\n",
            "Pasa\n"
          ]
        }
      ]
    },
    {
      "cell_type": "markdown",
      "source": [
        "\n",
        "Ejercicio 2\n",
        "Detectar y corregir los errores del siguiente programa que aplica el iva a una factura:\n",
        "\n",
        "\n",
        "\n",
        "```python\n",
        "base = input('Introduce la base imponible de la factura: ')\n",
        "print(aplica_iva(base, iva))\n",
        "\n",
        "def aplica_iva(base, iva = 21):\n",
        "    base = base * iva   \n",
        "    return base\n",
        "```\n",
        "\n",
        "\n",
        "\n"
      ],
      "metadata": {
        "id": "lbgyqa_5Ku_Y"
      }
    },
    {
      "cell_type": "code",
      "source": [
        "def aplica_iva(base, iva = 1.21):\n",
        "    base = base * iva\n",
        "    return base\n",
        "\n",
        "base = float(input('Introduce la base imponible de la factura: '))\n",
        "print(aplica_iva(base))"
      ],
      "metadata": {
        "id": "1Txf4yj6KvgJ",
        "colab": {
          "base_uri": "https://localhost:8080/"
        },
        "outputId": "d962a6e4-e614-4520-ed6d-14cb749f4fac"
      },
      "execution_count": 17,
      "outputs": [
        {
          "output_type": "stream",
          "name": "stdout",
          "text": [
            "Introduce la base imponible de la factura: 100\n",
            "121.0\n"
          ]
        }
      ]
    },
    {
      "cell_type": "markdown",
      "source": [
        "\n",
        "Ejercicio 3\n",
        "Detectar y corregir los errores del siguiente programa que calcula el producto escalar de dos vectores:\n",
        "\n",
        "\n",
        "\n",
        "```python\n",
        "u = (1, 2, 3)\n",
        "v = (4, 5, 6)\n",
        "\n",
        "def producto_escalar(u, v):\n",
        "    for i in u:\n",
        "        u[i+1] *= v[i+1]\n",
        "    return sum(u)\n",
        "\n",
        "print(producto_escalar(u, v))\n",
        "```\n",
        "\n"
      ],
      "metadata": {
        "id": "HdPTxpA5LGbe"
      }
    },
    {
      "cell_type": "code",
      "source": [
        "import numpy as np\n",
        "\n",
        "u = np.array([1, 2, 3])\n",
        "v = np.array([4, 5, 6])\n",
        "\n",
        "def producto_escalar(u, v):\n",
        "    producto = np.dot(u, v)\n",
        "    return producto\n",
        "\n",
        "print(producto_escalar(u, v))\n"
      ],
      "metadata": {
        "id": "NdP1On6-LG-N",
        "colab": {
          "base_uri": "https://localhost:8080/"
        },
        "outputId": "bca6b309-b148-4084-9943-24ca5d916c68"
      },
      "execution_count": 18,
      "outputs": [
        {
          "output_type": "stream",
          "name": "stdout",
          "text": [
            "32\n"
          ]
        }
      ]
    },
    {
      "cell_type": "markdown",
      "source": [
        "Ejercicio 4\n",
        "Detectar y corregir los errores del siguiente programa que devuelve y elimina el teléfono de un listín telefónico a través del nombre del usuario:\n",
        "\n",
        "```python\n",
        "listin = {'Juan':123456789, 'Pedro':987654321}\n",
        "\n",
        "def elimina(listin, usuario):\n",
        "    del listin[usuario]\n",
        "    return listin[usuario]\n",
        "\n",
        "print(elimina(listin, 'Pablo'))\n",
        "```\n",
        "\n",
        "\n"
      ],
      "metadata": {
        "id": "CAJNSOwdKv0O"
      }
    },
    {
      "cell_type": "code",
      "source": [
        "listin = {'Juan':123456789, 'Pedro':987654321}\n",
        "\n",
        "def elimina(listin, usuario):\n",
        "    return listin[usuario]\n",
        "    del listin[usuario]\n",
        "\n",
        "print(elimina(listin, 'Pedro'))"
      ],
      "metadata": {
        "id": "OFX_U5dJKwFN",
        "colab": {
          "base_uri": "https://localhost:8080/"
        },
        "outputId": "206bdd7b-9545-4282-9177-94404d2f3175"
      },
      "execution_count": 21,
      "outputs": [
        {
          "output_type": "stream",
          "name": "stdout",
          "text": [
            "987654321\n"
          ]
        }
      ]
    },
    {
      "cell_type": "markdown",
      "source": [
        "Ejercicio 5\n",
        "Detectar y corregir los errores del siguiente programa que multiplica dos matrices:\n",
        "\n",
        "\n",
        "\n",
        "```python\n",
        "a = ((1, 2, 3),\n",
        "     (3, 2, 1))\n",
        "b = ((1, 2),\n",
        "     (3, 4),\n",
        "     (5, 6))\n",
        "\n",
        "def producto(a, b):\n",
        "    producto = []\n",
        "    for i in range(len(b)):\n",
        "        fila = []\n",
        "        for j in range(len(a[0])):\n",
        "            suma = 0\n",
        "            for k in range(len(a[0]+1)):\n",
        "                suma += a[i][k] * b[k+1][j]\n",
        "            fila[j] = suma\n",
        "        producto[i] = tuple(fila)\n",
        "    return tuple(producto)\n",
        "\n",
        "print(producto(a, b))\n",
        "\n",
        "```\n",
        "\n",
        "\n"
      ],
      "metadata": {
        "id": "Twdz7LJLKwbc"
      }
    },
    {
      "cell_type": "code",
      "source": [
        "import numpy as np\n",
        "a = ((1, 2, 3),\n",
        "     (3, 2, 1))\n",
        "b = ((1, 2),\n",
        "     (3, 4),\n",
        "     (5, 6))\n",
        "\n",
        "def producto(a, b):\n",
        "    producto = []\n",
        "    for i in range(len(a)):\n",
        "        fila = []\n",
        "        for j in range(len(b[0])):\n",
        "            suma = 0\n",
        "            for k in range(len(a[0])):\n",
        "                suma += a[i][k] * b[k][j]\n",
        "            fila.append(suma)\n",
        "        producto.append(tuple(fila))\n",
        "    return tuple(producto)\n",
        "\n",
        "print(producto(a, b))\n",
        "print(np.matmul(a,b))"
      ],
      "metadata": {
        "id": "OJ_mGl0ZKws_",
        "colab": {
          "base_uri": "https://localhost:8080/"
        },
        "outputId": "0a33d5f5-7a04-4e77-8c97-526ce82f0759"
      },
      "execution_count": 22,
      "outputs": [
        {
          "output_type": "stream",
          "name": "stdout",
          "text": [
            "((22, 28), (14, 20))\n",
            "[[22 28]\n",
            " [14 20]]\n"
          ]
        }
      ]
    }
  ]
}