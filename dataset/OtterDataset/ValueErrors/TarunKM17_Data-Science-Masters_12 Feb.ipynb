{
 "cells": [
  {
   "cell_type": "markdown",
   "id": "c55a5b2b",
   "metadata": {},
   "source": [
    "<h4>Exception Handling Using Try-Catch"
   ]
  },
  {
   "cell_type": "code",
   "execution_count": 1,
   "id": "d7744e42",
   "metadata": {},
   "outputs": [
    {
     "ename": "ZeroDivisionError",
     "evalue": "division by zero",
     "output_type": "error",
     "traceback": [
      "\u001b[1;31m---------------------------------------------------------------------------\u001b[0m",
      "\u001b[1;31mZeroDivisionError\u001b[0m                         Traceback (most recent call last)",
      "Cell \u001b[1;32mIn[1], line 3\u001b[0m\n\u001b[0;32m      1\u001b[0m \u001b[38;5;66;03m#Division by zero error\u001b[39;00m\n\u001b[0;32m      2\u001b[0m a\u001b[38;5;241m=\u001b[39m\u001b[38;5;241m10\u001b[39m\n\u001b[1;32m----> 3\u001b[0m \u001b[43ma\u001b[49m\u001b[38;5;241;43m/\u001b[39;49m\u001b[38;5;241;43m0\u001b[39;49m\n",
      "\u001b[1;31mZeroDivisionError\u001b[0m: division by zero"
     ]
    }
   ],
   "source": [
    "#Division by zero error\n",
    "a=10\n",
    "a/0"
   ]
  },
  {
   "cell_type": "code",
   "execution_count": 3,
   "id": "c83d5568",
   "metadata": {},
   "outputs": [
    {
     "ename": "FileNotFoundError",
     "evalue": "[Errno 2] No such file or directory: 'text.txt'",
     "output_type": "error",
     "traceback": [
      "\u001b[1;31m---------------------------------------------------------------------------\u001b[0m",
      "\u001b[1;31mFileNotFoundError\u001b[0m                         Traceback (most recent call last)",
      "Cell \u001b[1;32mIn[3], line 2\u001b[0m\n\u001b[0;32m      1\u001b[0m \u001b[38;5;66;03m#File not found error\u001b[39;00m\n\u001b[1;32m----> 2\u001b[0m f\u001b[38;5;241m=\u001b[39m\u001b[38;5;28;43mopen\u001b[39;49m\u001b[43m(\u001b[49m\u001b[38;5;124;43m\"\u001b[39;49m\u001b[38;5;124;43mtext.txt\u001b[39;49m\u001b[38;5;124;43m\"\u001b[39;49m\u001b[43m,\u001b[49m\u001b[38;5;124;43m\"\u001b[39;49m\u001b[38;5;124;43mr\u001b[39;49m\u001b[38;5;124;43m\"\u001b[39;49m\u001b[43m)\u001b[49m\n\u001b[0;32m      3\u001b[0m f\u001b[38;5;241m.\u001b[39mread()\n\u001b[0;32m      4\u001b[0m \u001b[38;5;28mprint\u001b[39m(\u001b[38;5;124m\"\u001b[39m\u001b[38;5;124mhello\u001b[39m\u001b[38;5;124m\"\u001b[39m)\n",
      "File \u001b[1;32m~\\AppData\\Local\\Programs\\Python\\Python311\\Lib\\site-packages\\IPython\\core\\interactiveshell.py:282\u001b[0m, in \u001b[0;36m_modified_open\u001b[1;34m(file, *args, **kwargs)\u001b[0m\n\u001b[0;32m    275\u001b[0m \u001b[38;5;28;01mif\u001b[39;00m file \u001b[38;5;129;01min\u001b[39;00m {\u001b[38;5;241m0\u001b[39m, \u001b[38;5;241m1\u001b[39m, \u001b[38;5;241m2\u001b[39m}:\n\u001b[0;32m    276\u001b[0m     \u001b[38;5;28;01mraise\u001b[39;00m \u001b[38;5;167;01mValueError\u001b[39;00m(\n\u001b[0;32m    277\u001b[0m         \u001b[38;5;124mf\u001b[39m\u001b[38;5;124m\"\u001b[39m\u001b[38;5;124mIPython won\u001b[39m\u001b[38;5;124m'\u001b[39m\u001b[38;5;124mt let you open fd=\u001b[39m\u001b[38;5;132;01m{\u001b[39;00mfile\u001b[38;5;132;01m}\u001b[39;00m\u001b[38;5;124m by default \u001b[39m\u001b[38;5;124m\"\u001b[39m\n\u001b[0;32m    278\u001b[0m         \u001b[38;5;124m\"\u001b[39m\u001b[38;5;124mas it is likely to crash IPython. If you know what you are doing, \u001b[39m\u001b[38;5;124m\"\u001b[39m\n\u001b[0;32m    279\u001b[0m         \u001b[38;5;124m\"\u001b[39m\u001b[38;5;124myou can use builtins\u001b[39m\u001b[38;5;124m'\u001b[39m\u001b[38;5;124m open.\u001b[39m\u001b[38;5;124m\"\u001b[39m\n\u001b[0;32m    280\u001b[0m     )\n\u001b[1;32m--> 282\u001b[0m \u001b[38;5;28;01mreturn\u001b[39;00m \u001b[43mio_open\u001b[49m\u001b[43m(\u001b[49m\u001b[43mfile\u001b[49m\u001b[43m,\u001b[49m\u001b[43m \u001b[49m\u001b[38;5;241;43m*\u001b[39;49m\u001b[43margs\u001b[49m\u001b[43m,\u001b[49m\u001b[43m \u001b[49m\u001b[38;5;241;43m*\u001b[39;49m\u001b[38;5;241;43m*\u001b[39;49m\u001b[43mkwargs\u001b[49m\u001b[43m)\u001b[49m\n",
      "\u001b[1;31mFileNotFoundError\u001b[0m: [Errno 2] No such file or directory: 'text.txt'"
     ]
    }
   ],
   "source": [
    "#File not found error\n",
    "f=open(\"text.txt\",\"r\")\n",
    "f.read()\n",
    "print(\"hello\")"
   ]
  },
  {
   "cell_type": "markdown",
   "id": "1caef6f3",
   "metadata": {},
   "source": [
    "The problem here is whenever a error occur in program terminated there and the rest code does not execute\n",
    "\n",
    "The solution is exception handling"
   ]
  },
  {
   "cell_type": "code",
   "execution_count": 9,
   "id": "e0568d67",
   "metadata": {},
   "outputs": [
    {
     "name": "stdout",
     "output_type": "stream",
     "text": [
      "The file may be not present in the directory [Errno 2] No such file or directory: 'text.txt'\n",
      "The program ends\n"
     ]
    }
   ],
   "source": [
    "try:\n",
    "    f=open(\"text.txt\",'r')     #This is not terminating the program in between\n",
    "except Exception as e:\n",
    "    print(\"The file may be not present in the directory\",e)\n",
    "print(\"The program ends\")"
   ]
  },
  {
   "cell_type": "code",
   "execution_count": 10,
   "id": "d9cd557d",
   "metadata": {},
   "outputs": [],
   "source": [
    "try:\n",
    "    f=open(\"text.txt\",'w')     #This is not terminating the program in between\n",
    "    f.write(\"This is my msg\")\n",
    "except Exception as e:\n",
    "    print(\"The file may be not present in the directory\",e)\n",
    "else:\n",
    "    #this else block will execute once try will execute itself without an exception otherwise else will never execute\n",
    "    f.close()    #else will execute only in one situation: ^"
   ]
  },
  {
   "cell_type": "code",
   "execution_count": 11,
   "id": "10fa97f4",
   "metadata": {},
   "outputs": [
    {
     "name": "stdout",
     "output_type": "stream",
     "text": [
      "The file may be not present in the directory [Errno 2] No such file or directory: 'text1.txt'\n"
     ]
    }
   ],
   "source": [
    "try:\n",
    "    f=open(\"text1.txt\",'r')     #This is not terminating the program in between\n",
    "    print(f.read)\n",
    "except Exception as e:\n",
    "    print(\"The file may be not present in the directory\",e)\n",
    "else:\n",
    "    #this else block will execute once try will execute itself without an exception otherwise else will never execute\n",
    "    f.close()    #else will execute only in one situation: ^"
   ]
  },
  {
   "cell_type": "code",
   "execution_count": 12,
   "id": "f8a28e3e",
   "metadata": {},
   "outputs": [
    {
     "name": "stdout",
     "output_type": "stream",
     "text": [
      "The finally block is always executing\n"
     ]
    },
    {
     "ename": "FileNotFoundError",
     "evalue": "[Errno 2] No such file or directory: 'text1.txt'",
     "output_type": "error",
     "traceback": [
      "\u001b[1;31m---------------------------------------------------------------------------\u001b[0m",
      "\u001b[1;31mFileNotFoundError\u001b[0m                         Traceback (most recent call last)",
      "Cell \u001b[1;32mIn[12], line 2\u001b[0m\n\u001b[0;32m      1\u001b[0m \u001b[38;5;28;01mtry\u001b[39;00m:\n\u001b[1;32m----> 2\u001b[0m     f\u001b[38;5;241m=\u001b[39m\u001b[38;5;28;43mopen\u001b[39;49m\u001b[43m(\u001b[49m\u001b[38;5;124;43m\"\u001b[39;49m\u001b[38;5;124;43mtext1.txt\u001b[39;49m\u001b[38;5;124;43m\"\u001b[39;49m\u001b[43m,\u001b[49m\u001b[38;5;124;43m'\u001b[39;49m\u001b[38;5;124;43mr\u001b[39;49m\u001b[38;5;124;43m'\u001b[39;49m\u001b[43m)\u001b[49m     \u001b[38;5;66;03m#This is not terminating the program in between\u001b[39;00m\n\u001b[0;32m      3\u001b[0m     \u001b[38;5;28mprint\u001b[39m(f\u001b[38;5;241m.\u001b[39mread)\n\u001b[0;32m      4\u001b[0m \u001b[38;5;28;01mfinally\u001b[39;00m:\n",
      "File \u001b[1;32m~\\AppData\\Local\\Programs\\Python\\Python311\\Lib\\site-packages\\IPython\\core\\interactiveshell.py:282\u001b[0m, in \u001b[0;36m_modified_open\u001b[1;34m(file, *args, **kwargs)\u001b[0m\n\u001b[0;32m    275\u001b[0m \u001b[38;5;28;01mif\u001b[39;00m file \u001b[38;5;129;01min\u001b[39;00m {\u001b[38;5;241m0\u001b[39m, \u001b[38;5;241m1\u001b[39m, \u001b[38;5;241m2\u001b[39m}:\n\u001b[0;32m    276\u001b[0m     \u001b[38;5;28;01mraise\u001b[39;00m \u001b[38;5;167;01mValueError\u001b[39;00m(\n\u001b[0;32m    277\u001b[0m         \u001b[38;5;124mf\u001b[39m\u001b[38;5;124m\"\u001b[39m\u001b[38;5;124mIPython won\u001b[39m\u001b[38;5;124m'\u001b[39m\u001b[38;5;124mt let you open fd=\u001b[39m\u001b[38;5;132;01m{\u001b[39;00mfile\u001b[38;5;132;01m}\u001b[39;00m\u001b[38;5;124m by default \u001b[39m\u001b[38;5;124m\"\u001b[39m\n\u001b[0;32m    278\u001b[0m         \u001b[38;5;124m\"\u001b[39m\u001b[38;5;124mas it is likely to crash IPython. If you know what you are doing, \u001b[39m\u001b[38;5;124m\"\u001b[39m\n\u001b[0;32m    279\u001b[0m         \u001b[38;5;124m\"\u001b[39m\u001b[38;5;124myou can use builtins\u001b[39m\u001b[38;5;124m'\u001b[39m\u001b[38;5;124m open.\u001b[39m\u001b[38;5;124m\"\u001b[39m\n\u001b[0;32m    280\u001b[0m     )\n\u001b[1;32m--> 282\u001b[0m \u001b[38;5;28;01mreturn\u001b[39;00m \u001b[43mio_open\u001b[49m\u001b[43m(\u001b[49m\u001b[43mfile\u001b[49m\u001b[43m,\u001b[49m\u001b[43m \u001b[49m\u001b[38;5;241;43m*\u001b[39;49m\u001b[43margs\u001b[49m\u001b[43m,\u001b[49m\u001b[43m \u001b[49m\u001b[38;5;241;43m*\u001b[39;49m\u001b[38;5;241;43m*\u001b[39;49m\u001b[43mkwargs\u001b[49m\u001b[43m)\u001b[49m\n",
      "\u001b[1;31mFileNotFoundError\u001b[0m: [Errno 2] No such file or directory: 'text1.txt'"
     ]
    }
   ],
   "source": [
    "try:\n",
    "    f=open(\"text1.txt\",'r')     #we are not handling exception in this cell\n",
    "    print(f.read)\n",
    "finally:\n",
    "    print(\"The finally block is always executing\")"
   ]
  },
  {
   "cell_type": "code",
   "execution_count": 13,
   "id": "0e7d9e0e",
   "metadata": {},
   "outputs": [
    {
     "name": "stdout",
     "output_type": "stream",
     "text": [
      "The file may be not present in the directory [Errno 2] No such file or directory: 'text1.txt'\n",
      "The finally block is always executing\n"
     ]
    }
   ],
   "source": [
    "try:\n",
    "    f=open(\"text1.txt\",'r')     #This is not terminating the program in between\n",
    "    print(f.read)\n",
    "except Exception as e:\n",
    "    print(\"The file may be not present in the directory\",e)\n",
    "else:\n",
    "    #this else block will execute once try will execute itself without an exception otherwise else will never execute\n",
    "    f.close()    #else will execute only in one situation: ^\n",
    "finally:\n",
    "    print(\"The finally block is always executing\")"
   ]
  },
  {
   "cell_type": "code",
   "execution_count": 14,
   "id": "8d12100d",
   "metadata": {},
   "outputs": [
    {
     "name": "stdout",
     "output_type": "stream",
     "text": [
      "The finally block is always executing\n"
     ]
    }
   ],
   "source": [
    "try:\n",
    "    f=open(\"text.txt\",'w')     #This is not terminating the program in between\n",
    "    f.write(\"This is my msg\")\n",
    "except Exception as e:\n",
    "    print(\"The file may be not present in the directory\",e)\n",
    "else:\n",
    "    #this else block will execute once try will execute itself without an exception otherwise else will never execute\n",
    "    f.close()    #else will execute only in one situation: ^\n",
    "finally:\n",
    "    print(\"The finally block is always executing\")"
   ]
  },
  {
   "cell_type": "markdown",
   "id": "eaf38922",
   "metadata": {},
   "source": [
    "<h4>Custom Exception Handling"
   ]
  },
  {
   "cell_type": "markdown",
   "id": "f3cddea9",
   "metadata": {},
   "source": [
    "Some error is wrong as per our need but it is not wrong for the system in that case we have to do custom exception handling"
   ]
  },
  {
   "cell_type": "code",
   "execution_count": 15,
   "id": "9185c187",
   "metadata": {},
   "outputs": [
    {
     "name": "stdout",
     "output_type": "stream",
     "text": [
      "Enter your age: -234\n"
     ]
    }
   ],
   "source": [
    "age=int(input(\"Enter your age: \"))     #like this error fine for system but not in real"
   ]
  },
  {
   "cell_type": "code",
   "execution_count": 17,
   "id": "90f8a052",
   "metadata": {},
   "outputs": [],
   "source": [
    "class valid_age(Exception):   #Inherites exception class\n",
    "    def __init__(self,msg):   #Constructor\n",
    "        self.msg=msg"
   ]
  },
  {
   "cell_type": "code",
   "execution_count": 18,
   "id": "04b28309",
   "metadata": {},
   "outputs": [],
   "source": [
    "def valid_age2(age):\n",
    "    if age<0:\n",
    "        raise valid_age(\"Age should not be negative\")          #Raise calls the custom class\n",
    "    elif age>=200:\n",
    "        raise valid_age(\"The age is too high\")\n",
    "    else: \n",
    "        print(\"Age is valid\")"
   ]
  },
  {
   "cell_type": "code",
   "execution_count": 20,
   "id": "9897b2b2",
   "metadata": {},
   "outputs": [
    {
     "name": "stdout",
     "output_type": "stream",
     "text": [
      "Enter your age: -333\n",
      "Age should not be negative\n"
     ]
    }
   ],
   "source": [
    "try:\n",
    "    age=int(input(\"Enter your age: \"))\n",
    "    valid_age2(age)\n",
    "    \n",
    "except valid_age as e:\n",
    "    print(e)"
   ]
  },
  {
   "cell_type": "code",
   "execution_count": 21,
   "id": "ce527586",
   "metadata": {},
   "outputs": [
    {
     "name": "stdout",
     "output_type": "stream",
     "text": [
      "Enter your age: 3862\n",
      "The age is too high\n"
     ]
    }
   ],
   "source": [
    "try:\n",
    "    age=int(input(\"Enter your age: \"))\n",
    "    valid_age2(age)\n",
    "    \n",
    "except valid_age as e:\n",
    "    print(e)"
   ]
  },
  {
   "cell_type": "code",
   "execution_count": 22,
   "id": "fa542a5f",
   "metadata": {},
   "outputs": [
    {
     "name": "stdout",
     "output_type": "stream",
     "text": [
      "Enter your age: 45\n",
      "Age is valid\n"
     ]
    }
   ],
   "source": [
    "try:\n",
    "    age=int(input(\"Enter your age: \"))\n",
    "    valid_age2(age)\n",
    "    \n",
    "except valid_age as e:\n",
    "    print(e)"
   ]
  },
  {
   "cell_type": "markdown",
   "id": "2da2bda6",
   "metadata": {},
   "source": [
    "<H4>List of general use exception"
   ]
  },
  {
   "cell_type": "code",
   "execution_count": 23,
   "id": "cf69d384",
   "metadata": {},
   "outputs": [
    {
     "name": "stdout",
     "output_type": "stream",
     "text": [
      "division by zero\n"
     ]
    }
   ],
   "source": [
    "try:\n",
    "    a=20\n",
    "    a/0\n",
    "except ZeroDivisionError as e:\n",
    "    print(e)"
   ]
  },
  {
   "cell_type": "code",
   "execution_count": 25,
   "id": "e7b8ef7c",
   "metadata": {},
   "outputs": [
    {
     "name": "stdout",
     "output_type": "stream",
     "text": [
      "invalid literal for int() with base 10: 'sudh'\n"
     ]
    }
   ],
   "source": [
    "try:\n",
    "    int(\"sudh\")\n",
    "except (ValueError,TypeError) as e:\n",
    "    print(e)"
   ]
  },
  {
   "cell_type": "code",
   "execution_count": 26,
   "id": "e6f96524",
   "metadata": {},
   "outputs": [
    {
     "name": "stdout",
     "output_type": "stream",
     "text": [
      "This will catch an error\n"
     ]
    }
   ],
   "source": [
    "try:\n",
    "    int(\"sudh\")\n",
    "except :   #When we dont know the type of excetion we write this\n",
    "    print(\"This will catch an error\")    #This will automatically call the super class"
   ]
  },
  {
   "cell_type": "code",
   "execution_count": 27,
   "id": "c1f6411e",
   "metadata": {},
   "outputs": [
    {
     "name": "stdout",
     "output_type": "stream",
     "text": [
      "No module named 'deepa'\n"
     ]
    }
   ],
   "source": [
    "try:\n",
    "    import deepa\n",
    "except ImportError as e:\n",
    "    print(e)"
   ]
  },
  {
   "cell_type": "code",
   "execution_count": 29,
   "id": "b0990034",
   "metadata": {},
   "outputs": [
    {
     "name": "stdout",
     "output_type": "stream",
     "text": [
      "'key10'\n"
     ]
    }
   ],
   "source": [
    "try:\n",
    "    d={1:[1,2,3,4,5],\"key\":\"deepa\"}\n",
    "    d[\"key10\"]\n",
    "except KeyError as e:\n",
    "    print(e)"
   ]
  },
  {
   "cell_type": "code",
   "execution_count": 30,
   "id": "451466dc",
   "metadata": {},
   "outputs": [
    {
     "name": "stdout",
     "output_type": "stream",
     "text": [
      "'str' object has no attribute 'test'\n"
     ]
    }
   ],
   "source": [
    "try:\n",
    "    \"sudh\".test()   #Test is not a function\n",
    "except AttributeError as e:\n",
    "    print(e)"
   ]
  },
  {
   "cell_type": "code",
   "execution_count": 31,
   "id": "a203f8b8",
   "metadata": {},
   "outputs": [
    {
     "name": "stdout",
     "output_type": "stream",
     "text": [
      "list index out of range\n"
     ]
    }
   ],
   "source": [
    "try:\n",
    "    l=[1,2,3,4]\n",
    "    l[10]          #!0th index does not exist\n",
    "except IndexError as e:\n",
    "    print(e)"
   ]
  },
  {
   "cell_type": "code",
   "execution_count": 35,
   "id": "2654ca19",
   "metadata": {},
   "outputs": [
    {
     "name": "stdout",
     "output_type": "stream",
     "text": [
      "unsupported operand type(s) for +: 'int' and 'str'\n"
     ]
    }
   ],
   "source": [
    "try:\n",
    "    123+\"sudh\"\n",
    "except TypeError as e:\n",
    "    print(e)"
   ]
  },
  {
   "cell_type": "code",
   "execution_count": 37,
   "id": "0fff17e8",
   "metadata": {},
   "outputs": [
    {
     "name": "stdout",
     "output_type": "stream",
     "text": [
      "[Errno 2] No such file or directory: 'time.txt'\n"
     ]
    }
   ],
   "source": [
    "try:\n",
    "    with open(\"time.txt\",'r') as f:\n",
    "        f.read()\n",
    "except FileNotFoundError as e:\n",
    "    print(e)"
   ]
  },
  {
   "cell_type": "code",
   "execution_count": 41,
   "id": "ac91d068",
   "metadata": {},
   "outputs": [
    {
     "name": "stdout",
     "output_type": "stream",
     "text": [
      "Super class Exception handling [Errno 2] No such file or directory: 'time.txt'\n"
     ]
    }
   ],
   "source": [
    "try:\n",
    "    with open(\"time.txt\",'r') as f:\n",
    "        f.read()\n",
    "        \n",
    "except Exception as e:   #we have used super class at very first place\n",
    "    print(\"Super class Exception handling\",e)             #The exception is handled by this class only\n",
    "    \n",
    "except FileNotFoundError as e:    #not by this\n",
    "    print(\"child class Exception handling\",e)"
   ]
  },
  {
   "cell_type": "code",
   "execution_count": 43,
   "id": "12f1dc31",
   "metadata": {},
   "outputs": [],
   "source": [
    "#Write this try except in a function\n",
    "def test(file):\n",
    "    try:\n",
    "        with open(file,'r') as f:\n",
    "            f.read()\n",
    "        \n",
    "    except Exception as e:   #we have used super class at very first place\n",
    "        print(\"Super class Exception handling\",e)             #The exception is handled by this class only\n",
    "    \n",
    "    except FileNotFoundError as e:    #not by this\n",
    "        print(\"child class Exception handling\",e)"
   ]
  },
  {
   "cell_type": "markdown",
   "id": "b21dff6d",
   "metadata": {},
   "source": [
    "<H4>Best Practices Exception Handling"
   ]
  },
  {
   "cell_type": "code",
   "execution_count": 46,
   "id": "cfc330df",
   "metadata": {},
   "outputs": [
    {
     "name": "stdout",
     "output_type": "stream",
     "text": [
      "division by zero\n"
     ]
    }
   ],
   "source": [
    "#1)Always use a specific exception\n",
    "try:\n",
    "    a=20\n",
    "    a/0\n",
    "except Exception as e:   #Dont do this\n",
    "    print(e)"
   ]
  },
  {
   "cell_type": "code",
   "execution_count": 47,
   "id": "5a74d763",
   "metadata": {},
   "outputs": [
    {
     "name": "stdout",
     "output_type": "stream",
     "text": [
      "I have handle this exception\n"
     ]
    }
   ],
   "source": [
    "#2)Print always a proper message\n",
    "try:\n",
    "    a=20\n",
    "    a/0\n",
    "except ZeroDivisionError as e:   #Dont do this\n",
    "    print(\"I have handle this exception\")"
   ]
  },
  {
   "cell_type": "code",
   "execution_count": 48,
   "id": "38dfecb0",
   "metadata": {},
   "outputs": [],
   "source": [
    "#3)Always try to log\n",
    "import logging\n",
    "logging.basicConfig(filename=\"error.log\",level=logging.ERROR)\n",
    "try:\n",
    "    a=20\n",
    "    a/0\n",
    "except ZeroDivisionError as e:\n",
    "    logging.error(\"This is my Zero division exception which I'm handling {}\".format(e))"
   ]
  },
  {
   "cell_type": "code",
   "execution_count": 53,
   "id": "ca3ebb38",
   "metadata": {},
   "outputs": [],
   "source": [
    "#4) Always avoid to write unnecessary exception\n",
    "try:\n",
    "    a=20\n",
    "    a/0   \n",
    "except FileNotFoundError as e:\n",
    "    logging.error(\"This is file not found Exception  {}\".format(e))\n",
    "    \n",
    "except AttributeError as e:\n",
    "    logging.error(\"This is Attribute Error Exception  {}\".format(e))\n",
    "    \n",
    "except ZeroDivisionError as e:\n",
    "    logging.error(\"This is my Zero division exception which I'm handling {}\".format(e))"
   ]
  },
  {
   "cell_type": "code",
   "execution_count": null,
   "id": "ed642aab",
   "metadata": {},
   "outputs": [],
   "source": [
    "#5) Prepare a proper documentation"
   ]
  },
  {
   "cell_type": "code",
   "execution_count": 54,
   "id": "1fd60686",
   "metadata": {},
   "outputs": [],
   "source": [
    "#6)Cleanup all the resources\n",
    "try:\n",
    "    with open(\"time.txt\",'w') as f:\n",
    "        f.write(\"I'm writing some lines\")\n",
    "except FileNotFoundError as e:\n",
    "    logging.error(\"This is file not found Exception  {}\".format(e))\n",
    "finally:\n",
    "    f.close()   #Clean up: After using resources(memory) make it free"
   ]
  }
 ],
 "metadata": {
  "kernelspec": {
   "display_name": "Python 3 (ipykernel)",
   "language": "python",
   "name": "python3"
  },
  "language_info": {
   "codemirror_mode": {
    "name": "ipython",
    "version": 3
   },
   "file_extension": ".py",
   "mimetype": "text/x-python",
   "name": "python",
   "nbconvert_exporter": "python",
   "pygments_lexer": "ipython3",
   "version": "3.11.0"
  }
 },
 "nbformat": 4,
 "nbformat_minor": 5
}
