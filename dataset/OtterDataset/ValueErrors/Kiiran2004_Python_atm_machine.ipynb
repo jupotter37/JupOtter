{
 "cells": [
  {
   "cell_type": "code",
   "execution_count": 49,
   "metadata": {},
   "outputs": [
    {
     "name": "stdout",
     "output_type": "stream",
     "text": [
      " 0.Exit \n",
      " 1. Show balance \n",
      " 2. Withdraw cash \n",
      " 3. Deposit cash \n",
      " 4. Change pin\n"
     ]
    },
    {
     "ename": "ValueError",
     "evalue": "invalid literal for int() with base 10: ''",
     "output_type": "error",
     "traceback": [
      "\u001b[1;31m---------------------------------------------------------------------------\u001b[0m",
      "\u001b[1;31mValueError\u001b[0m                                Traceback (most recent call last)",
      "Cell \u001b[1;32mIn[49], line 28\u001b[0m\n\u001b[0;32m     26\u001b[0m     enter_pin\u001b[38;5;241m=\u001b[39m\u001b[38;5;28mint\u001b[39m(\u001b[38;5;28minput\u001b[39m(\u001b[38;5;124m\"\u001b[39m\u001b[38;5;124mEnter your pin\u001b[39m\u001b[38;5;124m\"\u001b[39m))\n\u001b[0;32m     27\u001b[0m \u001b[38;5;28;01mif\u001b[39;00m enter_pin\u001b[38;5;241m==\u001b[39mpin:\n\u001b[1;32m---> 28\u001b[0m     deposit\u001b[38;5;241m=\u001b[39m(\u001b[38;5;28;43mint\u001b[39;49m\u001b[43m(\u001b[49m\u001b[38;5;28;43minput\u001b[39;49m\u001b[43m(\u001b[49m\u001b[38;5;124;43m\"\u001b[39;49m\u001b[38;5;124;43mEnter the amount to deposit\u001b[39;49m\u001b[38;5;124;43m\"\u001b[39;49m\u001b[43m)\u001b[49m\u001b[43m)\u001b[49m)\n\u001b[0;32m     29\u001b[0m     bal\u001b[38;5;241m=\u001b[39m bal\u001b[38;5;241m+\u001b[39mdeposit\n\u001b[0;32m     30\u001b[0m     \u001b[38;5;28mprint\u001b[39m(bal)\n",
      "\u001b[1;31mValueError\u001b[0m: invalid literal for int() with base 10: ''"
     ]
    }
   ],
   "source": [
    "#Atm_machine\n",
    "\n",
    "bal=5000\n",
    "pin=1234\n",
    "enter_pin=[]\n",
    "\n",
    "while True:\n",
    "    print(\"\"\" 0.Exit \\n 1. Show balance \\n 2. Withdraw cash \\n 3. Deposit cash \\n 4. Change pin\"\"\")\n",
    "    a=int(input(\"Enter your choice\"))\n",
    "    if a==0:\n",
    "        pass\n",
    "    elif a in (1,2,3,4):\n",
    "        trials=3\n",
    "        while(trials!=0):\n",
    "            enter_pin=int(input(\"Enter your pin\"))\n",
    "            if enter_pin==pin:\n",
    "                if a==1:\n",
    "                    print(bal)\n",
    "                    break\n",
    "                elif a==2:\n",
    "                    enter_pin=int(input(\"Enter your pin\"))\n",
    "                    if enter_pin==pin:\n",
    "                        with_draw=(int(input(\"Enter the amount to withdraw\")))\n",
    "                        bal=bal-with_draw\n",
    "                        print(bal)\n",
    "                        break\n",
    "                elif a==3:\n",
    "                    enter_pin=int(input(\"Enter your pin\"))\n",
    "                if enter_pin==pin:\n",
    "                    deposit=(int(input(\"Enter the amount to deposit\")))\n",
    "                    bal= bal+deposit\n",
    "                    print(bal)\n",
    "                    break\n",
    "                elif a==4:\n",
    "                    enter_pin=int(input(\"Enter your pin\"))\n",
    "                    if enter_pin==pin:\n",
    "                        new_pin=(int(input(\"Enter new pin\")))\n",
    "                        pin=new_pin\n",
    "                        break\n",
    "                break\n",
    "            else:\n",
    "                trials-=1\n",
    "                print(\"incorrect pin\",end=\"\\n\")\n",
    "                \n",
    "        else:\n",
    "            print(\"remove your atm card\")\n",
    "            break\n",
    "    else:\n",
    "        print(\"Invalid Input\")\n",
    "        continue"
   ]
  },
  {
   "cell_type": "code",
   "execution_count": 58,
   "metadata": {},
   "outputs": [
    {
     "name": "stdout",
     "output_type": "stream",
     "text": [
      " 0. Exit \n",
      " 1. Show balance \n",
      " 2. Withdraw cash \n",
      " 3. Deposit cash \n",
      " 4. Change pin\n",
      "Your balance is: 5000\n",
      " 0. Exit \n",
      " 1. Show balance \n",
      " 2. Withdraw cash \n",
      " 3. Deposit cash \n",
      " 4. Change pin\n",
      "Insufficient balance\n",
      " 0. Exit \n",
      " 1. Show balance \n",
      " 2. Withdraw cash \n",
      " 3. Deposit cash \n",
      " 4. Change pin\n"
     ]
    },
    {
     "ename": "ValueError",
     "evalue": "invalid literal for int() with base 10: ''",
     "output_type": "error",
     "traceback": [
      "\u001b[1;31m---------------------------------------------------------------------------\u001b[0m",
      "\u001b[1;31mValueError\u001b[0m                                Traceback (most recent call last)",
      "Cell \u001b[1;32mIn[58], line 6\u001b[0m\n\u001b[0;32m      4\u001b[0m \u001b[38;5;28;01mwhile\u001b[39;00m \u001b[38;5;28;01mTrue\u001b[39;00m:\n\u001b[0;32m      5\u001b[0m     \u001b[38;5;28mprint\u001b[39m(\u001b[38;5;124m\"\"\"\u001b[39m\u001b[38;5;124m 0. Exit \u001b[39m\u001b[38;5;130;01m\\n\u001b[39;00m\u001b[38;5;124m 1. Show balance \u001b[39m\u001b[38;5;130;01m\\n\u001b[39;00m\u001b[38;5;124m 2. Withdraw cash \u001b[39m\u001b[38;5;130;01m\\n\u001b[39;00m\u001b[38;5;124m 3. Deposit cash \u001b[39m\u001b[38;5;130;01m\\n\u001b[39;00m\u001b[38;5;124m 4. Change pin\u001b[39m\u001b[38;5;124m\"\"\"\u001b[39m)\n\u001b[1;32m----> 6\u001b[0m     a \u001b[38;5;241m=\u001b[39m \u001b[38;5;28;43mint\u001b[39;49m\u001b[43m(\u001b[49m\u001b[38;5;28;43minput\u001b[39;49m\u001b[43m(\u001b[49m\u001b[38;5;124;43m\"\u001b[39;49m\u001b[38;5;124;43mEnter your choice: \u001b[39;49m\u001b[38;5;124;43m\"\u001b[39;49m\u001b[43m)\u001b[49m\u001b[43m)\u001b[49m\n\u001b[0;32m      8\u001b[0m     \u001b[38;5;28;01mif\u001b[39;00m a \u001b[38;5;241m==\u001b[39m \u001b[38;5;241m0\u001b[39m:\n\u001b[0;32m      9\u001b[0m         \u001b[38;5;28mprint\u001b[39m(\u001b[38;5;124m\"\u001b[39m\u001b[38;5;124mExiting...\u001b[39m\u001b[38;5;124m\"\u001b[39m)\n",
      "\u001b[1;31mValueError\u001b[0m: invalid literal for int() with base 10: ''"
     ]
    }
   ],
   "source": [
    "#Atm_machine\n",
    "#updated\n",
    "\n",
    "bal = 5000\n",
    "pin = 1234\n",
    "\n",
    "while True:\n",
    "    print(\"\"\" 0. Exit \\n 1. Show balance \\n 2. Withdraw cash \\n 3. Deposit cash \\n 4. Change pin\"\"\")\n",
    "    a = int(input(\"Enter your choice: \"))\n",
    "    \n",
    "    if a == 0:\n",
    "        print(\"Exiting...\")\n",
    "        break\n",
    "    elif a in (1, 2, 3, 4):\n",
    "        trials = 3\n",
    "        while trials != 0:\n",
    "            enter_pin = int(input(\"Enter your pin: \"))\n",
    "            if enter_pin == pin:\n",
    "                if a == 1:\n",
    "                    print(f\"Your balance is: {bal}\")\n",
    "                elif a == 2:\n",
    "                    with_draw = int(input(\"Enter the amount to withdraw: \"))\n",
    "                    if with_draw <= bal:\n",
    "                        bal -= with_draw\n",
    "                        \n",
    "                        print(f\"New balance: {bal}\")\n",
    "                    else:\n",
    "                        print(\"Insufficient balance\")\n",
    "                elif a == 3:\n",
    "                    deposit = int(input(\"Enter the amount to deposit: \"))\n",
    "                    bal += deposit\n",
    "                    print(f\"New balance: {bal}\")\n",
    "                elif a == 4:\n",
    "                    new_pin = int(input(\"Enter new pin: \"))\n",
    "                    pin = new_pin\n",
    "                    print(\"PIN changed successfully\")\n",
    "                break\n",
    "            else:\n",
    "                trials -= 1\n",
    "                print(\"Incorrect pin\")\n",
    "                \n",
    "        if trials == 0:\n",
    "            print(\"Too many incorrect attempts. Remove your ATM card.\")\n",
    "            break\n",
    "    else:\n",
    "        print(\"Invalid Input\")\n"
   ]
  },
  {
   "cell_type": "code",
   "execution_count": null,
   "metadata": {},
   "outputs": [],
   "source": []
  }
 ],
 "metadata": {
  "kernelspec": {
   "display_name": "Python 3",
   "language": "python",
   "name": "python3"
  },
  "language_info": {
   "codemirror_mode": {
    "name": "ipython",
    "version": 3
   },
   "file_extension": ".py",
   "mimetype": "text/x-python",
   "name": "python",
   "nbconvert_exporter": "python",
   "pygments_lexer": "ipython3",
   "version": "3.12.4"
  }
 },
 "nbformat": 4,
 "nbformat_minor": 2
}
