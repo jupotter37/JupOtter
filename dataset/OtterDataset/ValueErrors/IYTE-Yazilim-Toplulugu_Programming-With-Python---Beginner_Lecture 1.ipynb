{
 "cells": [
  {
   "cell_type": "markdown",
   "id": "ba1dfe71",
   "metadata": {},
   "source": [
    "\n",
    "## Introduction\n",
    "\n",
    "You could use online python editors (Try Python [link](https://www.pythonanywhere.com/try-ipython/), Online Python Compiler [link](https://www.onlinegdb.com/online_python_compiler)) to test your code or you could directly use Google Colab [link](https://colab.research.google.com/).\n",
    "\n",
    "Course resources:\n",
    "- https://diveintopython3.net/\n",
    "- https://wiki.python.org/moin/BeginnersGuide\n",
    "- https://projecteuler.net/archives\n",
    "\n",
    "## Installing Python\n",
    "1. Go to <https://www.python.org/>\n",
    "2. Navigate to Downloads: <https://www.python.org/downloads/>\n",
    "3. Download the latest version of Python 3.\n",
    "  - Python 3 is also often referred to as Python 3.x, because there are many minor release versions. Python 2.x is an earlier version that is very popular but is being phased out over time. There are a few [key differences and breaking changes](http://sebastianraschka.com/Articles/2014_python_2_3_key_diff.html) between Python 2 and Python 3.\n",
    "  - Python 2 is still commonly supported for legacy applications and libraries. Even so, at this point it's best to [use Python 3 when starting new projects which don't rely on legacy code](http://www.asmeurer.com/blog/posts/moving-away-from-python-2/), since [almost all libraries support Python 3](http://py3readiness.org/).\n",
    "4. Run the downloaded Python installer and go through the installation process for your OS.\n",
    "    - Make sure that if the installer offers to add Python to your `PATH`, you agree. Otherwise, we will have to add the Python installation directory to the `PATH` manually which will be a pain for a beginner.\n",
    "        - What's the `PATH`? The `PATH` environment variable is a list of locations your shell will check when you try to run a command in the command line. See [The Command Line](#the-command-line).\n",
    "\n",
    "In case of trouble, here are additional Installation Instructions:\n",
    "- [Using Python3 with Windows, and Installation Instructions](https://docs.python.org/3/using/windows.html)\n",
    "- [Using Python3 with Unix, and Installation Instructions](https://docs.python.org/3/using/unix.html)\n",
    "\n",
    "\n",
    "## Lecture 1 outline\n",
    "- What is programming?\n",
    "- What is an algorithm & pseudo-code?\n",
    "- Why Python?\n",
    "- Jupyter Notebook introduction\n",
    "- Data types\n",
    "- Data input & printing\n",
    "\n",
    "Course materials: https://nbviewer.org/github/Python-Crash-Course/Python101/tree/master/ "
   ]
  },
  {
   "cell_type": "markdown",
   "id": "5c6e8570",
   "metadata": {},
   "source": [
    "### What is program / programming? "
   ]
  },
  {
   "cell_type": "markdown",
   "id": "ca0d0a4e",
   "metadata": {},
   "source": [
    "A **program** is a sequence of instructions that specifies how to perform a computation. \n",
    "\n",
    "**Programming** is the process of taking an algorithm and encoding it into a notation, a programming language, so that it can be executed by a computer. "
   ]
  },
  {
   "cell_type": "markdown",
   "id": "75c05676",
   "metadata": {},
   "source": [
    "### What is an algorithm / pseudo-code?"
   ]
  },
  {
   "cell_type": "markdown",
   "id": "07c91a5a",
   "metadata": {},
   "source": [
    "An **algorithm** is an ordered set of unambiguous executable steps, defining a terminating process."
   ]
  },
  {
   "cell_type": "code",
   "execution_count": null,
   "id": "12ded72d",
   "metadata": {},
   "outputs": [],
   "source": [
    "from IPython.display import HTML\n",
    "import random\n",
    "\n",
    "def hide_toggle(for_next=False):\n",
    "    this_cell = \"\"\"$('div.cell.code_cell.rendered.selected')\"\"\"\n",
    "    next_cell = this_cell + '.next()'\n",
    "\n",
    "    toggle_text = 'Toggle show/hide'  # text shown on toggle link\n",
    "    target_cell = this_cell  # target cell to control with toggle\n",
    "    js_hide_current = ''  # bit of JS to permanently hide code in current cell (only when toggling next cell)\n",
    "\n",
    "    if for_next:\n",
    "        target_cell = next_cell\n",
    "        toggle_text += ' next cell'\n",
    "        js_hide_current = this_cell + '.find(\"div.input\").hide();'\n",
    "\n",
    "    js_f_name = 'code_toggle_{}'.format(str(random.randint(1,2**64)))\n",
    "\n",
    "    html = \"\"\"\n",
    "        <script>\n",
    "            function {f_name}() {{\n",
    "                {cell_selector}.find('div.input').toggle();\n",
    "            }}\n",
    "\n",
    "            {js_hide_current}\n",
    "        </script>\n",
    "\n",
    "        <a href=\"javascript:{f_name}()\">{toggle_text}</a>\n",
    "    \"\"\".format(\n",
    "        f_name=js_f_name,\n",
    "        cell_selector=target_cell,\n",
    "        js_hide_current=js_hide_current, \n",
    "        toggle_text=toggle_text\n",
    "    )\n",
    "\n",
    "    return HTML(html)\n",
    "\n",
    "hide_toggle()"
   ]
  },
  {
   "cell_type": "code",
   "execution_count": 1,
   "id": "1523912e",
   "metadata": {},
   "outputs": [],
   "source": [
    "?int"
   ]
  },
  {
   "cell_type": "code",
   "execution_count": 2,
   "id": "51daf60e",
   "metadata": {},
   "outputs": [
    {
     "name": "stdout",
     "output_type": "stream",
     "text": [
      "Help on class int in module builtins:\n",
      "\n",
      "class int(object)\n",
      " |  int([x]) -> integer\n",
      " |  int(x, base=10) -> integer\n",
      " |  \n",
      " |  Convert a number or string to an integer, or return 0 if no arguments\n",
      " |  are given.  If x is a number, return x.__int__().  For floating point\n",
      " |  numbers, this truncates towards zero.\n",
      " |  \n",
      " |  If x is not a number or if base is given, then x must be a string,\n",
      " |  bytes, or bytearray instance representing an integer literal in the\n",
      " |  given base.  The literal can be preceded by '+' or '-' and be surrounded\n",
      " |  by whitespace.  The base defaults to 10.  Valid bases are 0 and 2-36.\n",
      " |  Base 0 means to interpret the base from the string as an integer literal.\n",
      " |  >>> int('0b100', base=0)\n",
      " |  4\n",
      " |  \n",
      " |  Built-in subclasses:\n",
      " |      bool\n",
      " |  \n",
      " |  Methods defined here:\n",
      " |  \n",
      " |  __abs__(self, /)\n",
      " |      abs(self)\n",
      " |  \n",
      " |  __add__(self, value, /)\n",
      " |      Return self+value.\n",
      " |  \n",
      " |  __and__(self, value, /)\n",
      " |      Return self&value.\n",
      " |  \n",
      " |  __bool__(self, /)\n",
      " |      self != 0\n",
      " |  \n",
      " |  __ceil__(...)\n",
      " |      Ceiling of an Integral returns itself.\n",
      " |  \n",
      " |  __divmod__(self, value, /)\n",
      " |      Return divmod(self, value).\n",
      " |  \n",
      " |  __eq__(self, value, /)\n",
      " |      Return self==value.\n",
      " |  \n",
      " |  __float__(self, /)\n",
      " |      float(self)\n",
      " |  \n",
      " |  __floor__(...)\n",
      " |      Flooring an Integral returns itself.\n",
      " |  \n",
      " |  __floordiv__(self, value, /)\n",
      " |      Return self//value.\n",
      " |  \n",
      " |  __format__(self, format_spec, /)\n",
      " |      Default object formatter.\n",
      " |  \n",
      " |  __ge__(self, value, /)\n",
      " |      Return self>=value.\n",
      " |  \n",
      " |  __getattribute__(self, name, /)\n",
      " |      Return getattr(self, name).\n",
      " |  \n",
      " |  __getnewargs__(self, /)\n",
      " |  \n",
      " |  __gt__(self, value, /)\n",
      " |      Return self>value.\n",
      " |  \n",
      " |  __hash__(self, /)\n",
      " |      Return hash(self).\n",
      " |  \n",
      " |  __index__(self, /)\n",
      " |      Return self converted to an integer, if self is suitable for use as an index into a list.\n",
      " |  \n",
      " |  __int__(self, /)\n",
      " |      int(self)\n",
      " |  \n",
      " |  __invert__(self, /)\n",
      " |      ~self\n",
      " |  \n",
      " |  __le__(self, value, /)\n",
      " |      Return self<=value.\n",
      " |  \n",
      " |  __lshift__(self, value, /)\n",
      " |      Return self<<value.\n",
      " |  \n",
      " |  __lt__(self, value, /)\n",
      " |      Return self<value.\n",
      " |  \n",
      " |  __mod__(self, value, /)\n",
      " |      Return self%value.\n",
      " |  \n",
      " |  __mul__(self, value, /)\n",
      " |      Return self*value.\n",
      " |  \n",
      " |  __ne__(self, value, /)\n",
      " |      Return self!=value.\n",
      " |  \n",
      " |  __neg__(self, /)\n",
      " |      -self\n",
      " |  \n",
      " |  __or__(self, value, /)\n",
      " |      Return self|value.\n",
      " |  \n",
      " |  __pos__(self, /)\n",
      " |      +self\n",
      " |  \n",
      " |  __pow__(self, value, mod=None, /)\n",
      " |      Return pow(self, value, mod).\n",
      " |  \n",
      " |  __radd__(self, value, /)\n",
      " |      Return value+self.\n",
      " |  \n",
      " |  __rand__(self, value, /)\n",
      " |      Return value&self.\n",
      " |  \n",
      " |  __rdivmod__(self, value, /)\n",
      " |      Return divmod(value, self).\n",
      " |  \n",
      " |  __repr__(self, /)\n",
      " |      Return repr(self).\n",
      " |  \n",
      " |  __rfloordiv__(self, value, /)\n",
      " |      Return value//self.\n",
      " |  \n",
      " |  __rlshift__(self, value, /)\n",
      " |      Return value<<self.\n",
      " |  \n",
      " |  __rmod__(self, value, /)\n",
      " |      Return value%self.\n",
      " |  \n",
      " |  __rmul__(self, value, /)\n",
      " |      Return value*self.\n",
      " |  \n",
      " |  __ror__(self, value, /)\n",
      " |      Return value|self.\n",
      " |  \n",
      " |  __round__(...)\n",
      " |      Rounding an Integral returns itself.\n",
      " |      Rounding with an ndigits argument also returns an integer.\n",
      " |  \n",
      " |  __rpow__(self, value, mod=None, /)\n",
      " |      Return pow(value, self, mod).\n",
      " |  \n",
      " |  __rrshift__(self, value, /)\n",
      " |      Return value>>self.\n",
      " |  \n",
      " |  __rshift__(self, value, /)\n",
      " |      Return self>>value.\n",
      " |  \n",
      " |  __rsub__(self, value, /)\n",
      " |      Return value-self.\n",
      " |  \n",
      " |  __rtruediv__(self, value, /)\n",
      " |      Return value/self.\n",
      " |  \n",
      " |  __rxor__(self, value, /)\n",
      " |      Return value^self.\n",
      " |  \n",
      " |  __sizeof__(self, /)\n",
      " |      Returns size in memory, in bytes.\n",
      " |  \n",
      " |  __sub__(self, value, /)\n",
      " |      Return self-value.\n",
      " |  \n",
      " |  __truediv__(self, value, /)\n",
      " |      Return self/value.\n",
      " |  \n",
      " |  __trunc__(...)\n",
      " |      Truncating an Integral returns itself.\n",
      " |  \n",
      " |  __xor__(self, value, /)\n",
      " |      Return self^value.\n",
      " |  \n",
      " |  as_integer_ratio(self, /)\n",
      " |      Return integer ratio.\n",
      " |      \n",
      " |      Return a pair of integers, whose ratio is exactly equal to the original int\n",
      " |      and with a positive denominator.\n",
      " |      \n",
      " |      >>> (10).as_integer_ratio()\n",
      " |      (10, 1)\n",
      " |      >>> (-10).as_integer_ratio()\n",
      " |      (-10, 1)\n",
      " |      >>> (0).as_integer_ratio()\n",
      " |      (0, 1)\n",
      " |  \n",
      " |  bit_length(self, /)\n",
      " |      Number of bits necessary to represent self in binary.\n",
      " |      \n",
      " |      >>> bin(37)\n",
      " |      '0b100101'\n",
      " |      >>> (37).bit_length()\n",
      " |      6\n",
      " |  \n",
      " |  conjugate(...)\n",
      " |      Returns self, the complex conjugate of any int.\n",
      " |  \n",
      " |  to_bytes(self, /, length, byteorder, *, signed=False)\n",
      " |      Return an array of bytes representing an integer.\n",
      " |      \n",
      " |      length\n",
      " |        Length of bytes object to use.  An OverflowError is raised if the\n",
      " |        integer is not representable with the given number of bytes.\n",
      " |      byteorder\n",
      " |        The byte order used to represent the integer.  If byteorder is 'big',\n",
      " |        the most significant byte is at the beginning of the byte array.  If\n",
      " |        byteorder is 'little', the most significant byte is at the end of the\n",
      " |        byte array.  To request the native byte order of the host system, use\n",
      " |        `sys.byteorder' as the byte order value.\n",
      " |      signed\n",
      " |        Determines whether two's complement is used to represent the integer.\n",
      " |        If signed is False and a negative integer is given, an OverflowError\n",
      " |        is raised.\n",
      " |  \n",
      " |  ----------------------------------------------------------------------\n",
      " |  Class methods defined here:\n",
      " |  \n",
      " |  from_bytes(bytes, byteorder, *, signed=False) from builtins.type\n",
      " |      Return the integer represented by the given array of bytes.\n",
      " |      \n",
      " |      bytes\n",
      " |        Holds the array of bytes to convert.  The argument must either\n",
      " |        support the buffer protocol or be an iterable object producing bytes.\n",
      " |        Bytes and bytearray are examples of built-in objects that support the\n",
      " |        buffer protocol.\n",
      " |      byteorder\n",
      " |        The byte order used to represent the integer.  If byteorder is 'big',\n",
      " |        the most significant byte is at the beginning of the byte array.  If\n",
      " |        byteorder is 'little', the most significant byte is at the end of the\n",
      " |        byte array.  To request the native byte order of the host system, use\n",
      " |        `sys.byteorder' as the byte order value.\n",
      " |      signed\n",
      " |        Indicates whether two's complement is used to represent the integer.\n",
      " |  \n",
      " |  ----------------------------------------------------------------------\n",
      " |  Static methods defined here:\n",
      " |  \n",
      " |  __new__(*args, **kwargs) from builtins.type\n",
      " |      Create and return a new object.  See help(type) for accurate signature.\n",
      " |  \n",
      " |  ----------------------------------------------------------------------\n",
      " |  Data descriptors defined here:\n",
      " |  \n",
      " |  denominator\n",
      " |      the denominator of a rational number in lowest terms\n",
      " |  \n",
      " |  imag\n",
      " |      the imaginary part of a complex number\n",
      " |  \n",
      " |  numerator\n",
      " |      the numerator of a rational number in lowest terms\n",
      " |  \n",
      " |  real\n",
      " |      the real part of a complex number\n",
      "\n"
     ]
    }
   ],
   "source": [
    "help(int)"
   ]
  },
  {
   "cell_type": "code",
   "execution_count": 3,
   "id": "e13227df",
   "metadata": {},
   "outputs": [],
   "source": [
    "?len"
   ]
  },
  {
   "cell_type": "code",
   "execution_count": 4,
   "id": "0bde7a7b",
   "metadata": {},
   "outputs": [
    {
     "name": "stdout",
     "output_type": "stream",
     "text": [
      "The Zen of Python, by Tim Peters\n",
      "\n",
      "Beautiful is better than ugly.\n",
      "Explicit is better than implicit.\n",
      "Simple is better than complex.\n",
      "Complex is better than complicated.\n",
      "Flat is better than nested.\n",
      "Sparse is better than dense.\n",
      "Readability counts.\n",
      "Special cases aren't special enough to break the rules.\n",
      "Although practicality beats purity.\n",
      "Errors should never pass silently.\n",
      "Unless explicitly silenced.\n",
      "In the face of ambiguity, refuse the temptation to guess.\n",
      "There should be one-- and preferably only one --obvious way to do it.\n",
      "Although that way may not be obvious at first unless you're Dutch.\n",
      "Now is better than never.\n",
      "Although never is often better than *right* now.\n",
      "If the implementation is hard to explain, it's a bad idea.\n",
      "If the implementation is easy to explain, it may be a good idea.\n",
      "Namespaces are one honking great idea -- let's do more of those!\n"
     ]
    }
   ],
   "source": [
    "import this"
   ]
  },
  {
   "cell_type": "code",
   "execution_count": 5,
   "id": "c0329b56",
   "metadata": {},
   "outputs": [],
   "source": [
    "import math"
   ]
  },
  {
   "cell_type": "code",
   "execution_count": 6,
   "id": "02507322",
   "metadata": {},
   "outputs": [
    {
     "data": {
      "text/plain": [
       "3.141592653589793"
      ]
     },
     "execution_count": 6,
     "metadata": {},
     "output_type": "execute_result"
    }
   ],
   "source": [
    "math.pi"
   ]
  },
  {
   "cell_type": "markdown",
   "id": "0c6e875b",
   "metadata": {},
   "source": [
    "## Data Types"
   ]
  },
  {
   "cell_type": "markdown",
   "id": "163d1a42",
   "metadata": {},
   "source": [
    "### Integers (`int`)"
   ]
  },
  {
   "cell_type": "code",
   "execution_count": 7,
   "id": "c87d578f",
   "metadata": {},
   "outputs": [],
   "source": [
    "# Integers\n",
    "a = 2\n",
    "b = 239"
   ]
  },
  {
   "cell_type": "code",
   "execution_count": 9,
   "id": "5033d1ba",
   "metadata": {},
   "outputs": [
    {
     "data": {
      "text/plain": [
       "int"
      ]
     },
     "execution_count": 9,
     "metadata": {},
     "output_type": "execute_result"
    }
   ],
   "source": [
    "type(b)"
   ]
  },
  {
   "cell_type": "markdown",
   "id": "8ce20ad7",
   "metadata": {},
   "source": [
    "### Floating point numbers (`float`)"
   ]
  },
  {
   "cell_type": "code",
   "execution_count": 10,
   "id": "9132b6dc",
   "metadata": {},
   "outputs": [],
   "source": [
    "# Floats\n",
    "c = 2.1\n",
    "d = 239.0"
   ]
  },
  {
   "cell_type": "code",
   "execution_count": 12,
   "id": "c0d7fad8",
   "metadata": {},
   "outputs": [
    {
     "data": {
      "text/plain": [
       "float"
      ]
     },
     "execution_count": 12,
     "metadata": {},
     "output_type": "execute_result"
    }
   ],
   "source": [
    "type(c)"
   ]
  },
  {
   "cell_type": "markdown",
   "id": "f79ed68e",
   "metadata": {},
   "source": [
    "### Strings (`str`)"
   ]
  },
  {
   "cell_type": "code",
   "execution_count": 13,
   "id": "6e624a4e",
   "metadata": {},
   "outputs": [],
   "source": [
    "e = 'Hello world!'\n",
    "my_text = \"This is 'my' text\""
   ]
  },
  {
   "cell_type": "code",
   "execution_count": 15,
   "id": "5a398b21",
   "metadata": {},
   "outputs": [
    {
     "data": {
      "text/plain": [
       "str"
      ]
     },
     "execution_count": 15,
     "metadata": {},
     "output_type": "execute_result"
    }
   ],
   "source": [
    "type(my_text)"
   ]
  },
  {
   "cell_type": "markdown",
   "id": "c72b0d50",
   "metadata": {},
   "source": [
    "Both `\"` and `'` can be used to denote strings. If the apostrophe character should be part of the string, use `\"` as outer boundaries:\n",
    "~~~~python\n",
    "\"Batman's name is Bruce Wayne.\"\n",
    "~~~~\n",
    "Alternatively, `\\` can be used as an *escape* character:"
   ]
  },
  {
   "cell_type": "code",
   "execution_count": 16,
   "id": "2bf0e6bf",
   "metadata": {},
   "outputs": [
    {
     "data": {
      "text/plain": [
       "\"Batman's name is Bruce Wayne.\""
      ]
     },
     "execution_count": 16,
     "metadata": {},
     "output_type": "execute_result"
    }
   ],
   "source": [
    "'Batman\\'s name is Bruce Wayne.'"
   ]
  },
  {
   "cell_type": "markdown",
   "id": "df63af78",
   "metadata": {},
   "source": [
    "Note that strings are ***immutable***, which means that they can't be changed after creation. They can be copied, then manipulated and thereafter saved into a new variable though."
   ]
  },
  {
   "cell_type": "markdown",
   "id": "ee079ccb",
   "metadata": {},
   "source": [
    "### Boolean (`bool`)"
   ]
  },
  {
   "cell_type": "code",
   "execution_count": 21,
   "id": "36ee263a",
   "metadata": {},
   "outputs": [],
   "source": [
    "# x and y\n",
    "x = True        \n",
    "y = False        # this is a comment"
   ]
  },
  {
   "cell_type": "code",
   "execution_count": 18,
   "id": "e4f62656",
   "metadata": {},
   "outputs": [
    {
     "data": {
      "text/plain": [
       "True"
      ]
     },
     "execution_count": 18,
     "metadata": {},
     "output_type": "execute_result"
    }
   ],
   "source": [
    "x or y"
   ]
  },
  {
   "cell_type": "code",
   "execution_count": 19,
   "id": "cdd35ce8",
   "metadata": {},
   "outputs": [
    {
     "data": {
      "text/plain": [
       "False"
      ]
     },
     "execution_count": 19,
     "metadata": {},
     "output_type": "execute_result"
    }
   ],
   "source": [
    "x and y"
   ]
  },
  {
   "cell_type": "markdown",
   "id": "b9bab5ae",
   "metadata": {},
   "source": [
    "### Python is dynamically typed language\n",
    "As you might have noticed, Python does not require you to declare the type of a variable before creating it. This is because Python is a *dynamically typed language*. \n",
    "\n",
    "To create a variable `a` in a *statically typed language*, it would go something like (C++):\n",
    "> ~~~c++\n",
    "> int a\n",
    "> a = 5\n",
    "> ~~~\n",
    "\n",
    "\n",
    "This does not mean that Python is 'smarter' than other languages, it's purely an implementation choice from the author of the language to make it behave this way. And it has both advantages and drawbacks.\n",
    "\n",
    "Dynamic typing also means that variables can change types throughout the program, so somthing like this is valid:\n",
    "> ~~~python\n",
    "a = 5\n",
    "a = 'Hi'\n",
    "> ~~~\n",
    "\n",
    "Which can be both a blessing and a curse. The flexibility is nice, but it can lead to unexpected code behavior if variables are not tracked.  "
   ]
  },
  {
   "cell_type": "code",
   "execution_count": 27,
   "id": "97c22a80",
   "metadata": {},
   "outputs": [],
   "source": [
    "number_a = 5"
   ]
  },
  {
   "cell_type": "code",
   "execution_count": 23,
   "id": "77c4a6ef",
   "metadata": {},
   "outputs": [
    {
     "data": {
      "text/plain": [
       "int"
      ]
     },
     "execution_count": 23,
     "metadata": {},
     "output_type": "execute_result"
    }
   ],
   "source": [
    "type(a)"
   ]
  },
  {
   "cell_type": "code",
   "execution_count": 24,
   "id": "f9cbd035",
   "metadata": {},
   "outputs": [],
   "source": [
    "a = \"hi!\""
   ]
  },
  {
   "cell_type": "code",
   "execution_count": 25,
   "id": "929d0b26",
   "metadata": {},
   "outputs": [
    {
     "data": {
      "text/plain": [
       "str"
      ]
     },
     "execution_count": 25,
     "metadata": {},
     "output_type": "execute_result"
    }
   ],
   "source": [
    "type(a)"
   ]
  },
  {
   "cell_type": "code",
   "execution_count": 26,
   "id": "240b1cf6",
   "metadata": {},
   "outputs": [
    {
     "data": {
      "text/plain": [
       "'hi!'"
      ]
     },
     "execution_count": 26,
     "metadata": {},
     "output_type": "execute_result"
    }
   ],
   "source": [
    "a"
   ]
  },
  {
   "cell_type": "code",
   "execution_count": null,
   "id": "17133453",
   "metadata": {},
   "outputs": [],
   "source": []
  },
  {
   "cell_type": "markdown",
   "id": "a21df0c2",
   "metadata": {},
   "source": [
    "## Calculations with data types"
   ]
  },
  {
   "cell_type": "markdown",
   "id": "620f6b22",
   "metadata": {},
   "source": [
    "### Standard calculator-like operations\n",
    "Most basic operations on integers and floats such as addition, subtraction, multiplication work as one would expect:"
   ]
  },
  {
   "cell_type": "code",
   "execution_count": 28,
   "id": "c8b76ac9",
   "metadata": {},
   "outputs": [
    {
     "data": {
      "text/plain": [
       "8"
      ]
     },
     "execution_count": 28,
     "metadata": {},
     "output_type": "execute_result"
    }
   ],
   "source": [
    "2 * 4"
   ]
  },
  {
   "cell_type": "code",
   "execution_count": 29,
   "id": "39fb761a",
   "metadata": {},
   "outputs": [
    {
     "data": {
      "text/plain": [
       "0.4"
      ]
     },
     "execution_count": 29,
     "metadata": {},
     "output_type": "execute_result"
    }
   ],
   "source": [
    "2 / 5"
   ]
  },
  {
   "cell_type": "code",
   "execution_count": 30,
   "id": "a8204587",
   "metadata": {},
   "outputs": [
    {
     "data": {
      "text/plain": [
       "0"
      ]
     },
     "execution_count": 30,
     "metadata": {},
     "output_type": "execute_result"
    }
   ],
   "source": [
    "2 // 5"
   ]
  },
  {
   "cell_type": "code",
   "execution_count": 31,
   "id": "93af060b",
   "metadata": {},
   "outputs": [
    {
     "data": {
      "text/plain": [
       "10.5"
      ]
     },
     "execution_count": 31,
     "metadata": {},
     "output_type": "execute_result"
    }
   ],
   "source": [
    "3.1 + 7.4"
   ]
  },
  {
   "cell_type": "markdown",
   "id": "8c3529b0",
   "metadata": {},
   "source": [
    "### Exponents \n",
    "Exponents are denoted by `**`:"
   ]
  },
  {
   "cell_type": "code",
   "execution_count": 33,
   "id": "93250c2d",
   "metadata": {},
   "outputs": [
    {
     "data": {
      "text/plain": [
       "8"
      ]
     },
     "execution_count": 33,
     "metadata": {},
     "output_type": "execute_result"
    }
   ],
   "source": [
    "2**3"
   ]
  },
  {
   "cell_type": "code",
   "execution_count": 41,
   "id": "11712fcb",
   "metadata": {},
   "outputs": [
    {
     "data": {
      "text/plain": [
       "16.0"
      ]
     },
     "execution_count": 41,
     "metadata": {},
     "output_type": "execute_result"
    }
   ],
   "source": [
    "4**(math.sqrt(4))"
   ]
  },
  {
   "cell_type": "code",
   "execution_count": 38,
   "id": "9feda38f",
   "metadata": {},
   "outputs": [],
   "source": [
    "import math"
   ]
  },
  {
   "cell_type": "code",
   "execution_count": 39,
   "id": "f9a045ad",
   "metadata": {},
   "outputs": [
    {
     "data": {
      "text/plain": [
       "2.0"
      ]
     },
     "execution_count": 39,
     "metadata": {},
     "output_type": "execute_result"
    }
   ],
   "source": [
    "math.sqrt(4)"
   ]
  },
  {
   "cell_type": "markdown",
   "id": "f7ea0c55",
   "metadata": {},
   "source": [
    "> **Watch Out**: The `^` operator is **not** used for exponentiation. Instead, it's a `Binary XOR operator` (whatever that is)."
   ]
  },
  {
   "cell_type": "markdown",
   "id": "2b742d7f",
   "metadata": {},
   "source": [
    "### Floor division\n",
    "Floor division is denoted by `//`. It returns the integer part of a division result (removes decimals after division):"
   ]
  },
  {
   "cell_type": "code",
   "execution_count": 34,
   "id": "de7dae4e",
   "metadata": {},
   "outputs": [
    {
     "data": {
      "text/plain": [
       "3"
      ]
     },
     "execution_count": 34,
     "metadata": {},
     "output_type": "execute_result"
    }
   ],
   "source": [
    "10 // 3"
   ]
  },
  {
   "cell_type": "markdown",
   "id": "34b13472",
   "metadata": {},
   "source": [
    "### Modulo\n",
    "Modulo is denoted by `%`. It returns the remainder after a division:"
   ]
  },
  {
   "cell_type": "code",
   "execution_count": 35,
   "id": "91cb2255",
   "metadata": {},
   "outputs": [
    {
     "data": {
      "text/plain": [
       "1"
      ]
     },
     "execution_count": 35,
     "metadata": {},
     "output_type": "execute_result"
    }
   ],
   "source": [
    "10 % 3"
   ]
  },
  {
   "cell_type": "markdown",
   "id": "21e97d64",
   "metadata": {},
   "source": [
    "### Exercise 1\n",
    "\n",
    "Calculate the volume of a sphere with 5 is the radius."
   ]
  },
  {
   "cell_type": "code",
   "execution_count": 43,
   "id": "117f4802",
   "metadata": {},
   "outputs": [
    {
     "name": "stdout",
     "output_type": "stream",
     "text": [
      "523.5987755982989\n"
     ]
    }
   ],
   "source": [
    "#import math\n",
    "radius = 5\n",
    "pi = 3.14      # math.pi\n",
    "volume_sphere = (4 / 3) * pi * radius **3 \n",
    "print(volume_sphere)"
   ]
  },
  {
   "cell_type": "code",
   "execution_count": 44,
   "id": "4e269f44",
   "metadata": {},
   "outputs": [
    {
     "data": {
      "text/plain": [
       "3.141592653589793"
      ]
     },
     "execution_count": 44,
     "metadata": {},
     "output_type": "execute_result"
    }
   ],
   "source": [
    "pi"
   ]
  },
  {
   "cell_type": "code",
   "execution_count": 47,
   "id": "3a90ece6",
   "metadata": {},
   "outputs": [
    {
     "name": "stdout",
     "output_type": "stream",
     "text": [
      "What is the radius?: 5\n",
      "523.5987755982989\n"
     ]
    }
   ],
   "source": [
    "import math\n",
    "radius = int(input(\"What is the radius?: \"))\n",
    "pi = math.pi\n",
    "volume_sphere = (4 / 3) * pi * radius **3 \n",
    "print(volume_sphere)"
   ]
  },
  {
   "cell_type": "markdown",
   "id": "6eb3e4e3",
   "metadata": {},
   "source": [
    "### Operations on strings\n",
    "Strings can be **added** (concatenated) by use of the addition operator `+`:"
   ]
  },
  {
   "cell_type": "code",
   "execution_count": 49,
   "id": "379527ca",
   "metadata": {},
   "outputs": [
    {
     "data": {
      "text/plain": [
       "'BruceWayne'"
      ]
     },
     "execution_count": 49,
     "metadata": {},
     "output_type": "execute_result"
    }
   ],
   "source": [
    "'Bruce' + ' ' + 'Wayne'"
   ]
  },
  {
   "cell_type": "code",
   "execution_count": 51,
   "id": "18ebbc83",
   "metadata": {},
   "outputs": [
    {
     "data": {
      "text/plain": [
       "8"
      ]
     },
     "execution_count": 51,
     "metadata": {},
     "output_type": "execute_result"
    }
   ],
   "source": [
    "int(\"5\") + int(\"3\")"
   ]
  },
  {
   "cell_type": "markdown",
   "id": "963d533f",
   "metadata": {},
   "source": [
    "**Multiplication** is also allowed:"
   ]
  },
  {
   "cell_type": "code",
   "execution_count": 52,
   "id": "a2a6aaf9",
   "metadata": {},
   "outputs": [
    {
     "data": {
      "text/plain": [
       "'abcabcabc'"
      ]
     },
     "execution_count": 52,
     "metadata": {},
     "output_type": "execute_result"
    }
   ],
   "source": [
    "'abc' * 3"
   ]
  },
  {
   "cell_type": "markdown",
   "id": "ac0de208",
   "metadata": {},
   "source": [
    "**Subtraction** and **division** are not allowed: "
   ]
  },
  {
   "cell_type": "code",
   "execution_count": 55,
   "id": "2392f276",
   "metadata": {},
   "outputs": [
    {
     "ename": "TypeError",
     "evalue": "unsupported operand type(s) for /: 'str' and 'int'",
     "output_type": "error",
     "traceback": [
      "\u001b[1;31m---------------------------------------------------------------------------\u001b[0m",
      "\u001b[1;31mTypeError\u001b[0m                                 Traceback (most recent call last)",
      "\u001b[1;32m~\\AppData\\Local\\Temp/ipykernel_59708/2285136639.py\u001b[0m in \u001b[0;36m<module>\u001b[1;34m\u001b[0m\n\u001b[1;32m----> 1\u001b[1;33m \u001b[1;34m'aaa'\u001b[0m \u001b[1;33m/\u001b[0m \u001b[1;36m3\u001b[0m    \u001b[1;31m# Division results in error\u001b[0m\u001b[1;33m\u001b[0m\u001b[1;33m\u001b[0m\u001b[0m\n\u001b[0m",
      "\u001b[1;31mTypeError\u001b[0m: unsupported operand type(s) for /: 'str' and 'int'"
     ]
    }
   ],
   "source": [
    "'aaa' / 3    # Division results in error"
   ]
  },
  {
   "cell_type": "code",
   "execution_count": 54,
   "id": "8e44938b",
   "metadata": {},
   "outputs": [
    {
     "ename": "TypeError",
     "evalue": "unsupported operand type(s) for -: 'str' and 'str'",
     "output_type": "error",
     "traceback": [
      "\u001b[1;31m---------------------------------------------------------------------------\u001b[0m",
      "\u001b[1;31mTypeError\u001b[0m                                 Traceback (most recent call last)",
      "\u001b[1;32m~\\AppData\\Local\\Temp/ipykernel_59708/2835182109.py\u001b[0m in \u001b[0;36m<module>\u001b[1;34m\u001b[0m\n\u001b[1;32m----> 1\u001b[1;33m \u001b[1;34m'a'\u001b[0m \u001b[1;33m-\u001b[0m \u001b[1;34m'b'\u001b[0m    \u001b[1;31m# Subtraction results in error\u001b[0m\u001b[1;33m\u001b[0m\u001b[1;33m\u001b[0m\u001b[0m\n\u001b[0m",
      "\u001b[1;31mTypeError\u001b[0m: unsupported operand type(s) for -: 'str' and 'str'"
     ]
    }
   ],
   "source": [
    "'a' - 'b'    # Subtraction results in error"
   ]
  },
  {
   "cell_type": "markdown",
   "id": "3521ed35",
   "metadata": {},
   "source": [
    "## Printing strings with variables"
   ]
  },
  {
   "cell_type": "markdown",
   "id": "3c1a87b1",
   "metadata": {},
   "source": [
    "There is quite often a need for printing a combination of static text and variables. This could e.g. be to output the result of a computation. Often the best way is to use the so-called **f-strings**. See examples below."
   ]
  },
  {
   "cell_type": "code",
   "execution_count": 57,
   "id": "2c10437d",
   "metadata": {},
   "outputs": [
    {
     "name": "stdout",
     "output_type": "stream",
     "text": [
      "Multiplication: a * b = 2 * 27 = 54\n",
      "Division: a / b = 2 / 27 = 0.07407407407407407\n"
     ]
    }
   ],
   "source": [
    "# Basic usage of f-strings\n",
    "a = 2\n",
    "b = 27\n",
    "\n",
    "print(f'Multiplication: a * b = {a} * {b} = {a*b}')\n",
    "print('Division: a / b = {} / {} = {}'.format(a, b, a/b))"
   ]
  },
  {
   "cell_type": "code",
   "execution_count": 58,
   "id": "c69c9ad4",
   "metadata": {},
   "outputs": [
    {
     "name": "stdout",
     "output_type": "stream",
     "text": [
      "Division: a / b = 2 / 27 = 0.07407\n"
     ]
    }
   ],
   "source": [
    "# f-strings with formatting for number of decimal places\n",
    "print(f'Division: a / b = {a} / {b} = {a/b:.5f}')   # The part ':.xf' specfifies 'x' decimals to be printed "
   ]
  },
  {
   "cell_type": "markdown",
   "id": "11bb6e80",
   "metadata": {},
   "source": [
    "Both variables and complex computations can be inserted inside the curly brackets to be printed."
   ]
  },
  {
   "cell_type": "code",
   "execution_count": 59,
   "id": "5128a980",
   "metadata": {},
   "outputs": [
    {
     "name": "stdout",
     "output_type": "stream",
     "text": [
      "Computation inside curly bracket: 316.6808510638298\n"
     ]
    }
   ],
   "source": [
    "print(f'Computation inside curly bracket: {122**2 / 47}')"
   ]
  },
  {
   "cell_type": "code",
   "execution_count": 67,
   "id": "b3619f61",
   "metadata": {},
   "outputs": [
    {
     "data": {
      "text/plain": [
       "'c:\\\\users\\\\desktop\\\\record5_drive4.mov'"
      ]
     },
     "execution_count": 67,
     "metadata": {},
     "output_type": "execute_result"
    }
   ],
   "source": [
    "\"C:\\\\Users\\\\Desktop\\\\record5_drive4.mov\".lower()"
   ]
  },
  {
   "cell_type": "markdown",
   "id": "620c76b4",
   "metadata": {},
   "source": [
    "## Function: `len()`\n",
    "The `len()` function returns the length of a sequence, e.g. a string:"
   ]
  },
  {
   "cell_type": "code",
   "execution_count": 68,
   "id": "356e4367",
   "metadata": {},
   "outputs": [
    {
     "data": {
      "text/plain": [
       "3"
      ]
     },
     "execution_count": 68,
     "metadata": {},
     "output_type": "execute_result"
    }
   ],
   "source": [
    "len('aaa')"
   ]
  },
  {
   "cell_type": "code",
   "execution_count": 69,
   "id": "2e6dd8cf",
   "metadata": {},
   "outputs": [
    {
     "data": {
      "text/plain": [
       "7"
      ]
     },
     "execution_count": 69,
     "metadata": {},
     "output_type": "execute_result"
    }
   ],
   "source": [
    "len('a and b')   # Spaces are also counted"
   ]
  },
  {
   "cell_type": "markdown",
   "id": "5285ab63",
   "metadata": {},
   "source": [
    "## Some string methods\n",
    "A string object can be interacted with in many ways by so-called ***methods***. Some useful methods are shown below:\n"
   ]
  },
  {
   "cell_type": "code",
   "execution_count": 70,
   "id": "cbd1b22e",
   "metadata": {},
   "outputs": [],
   "source": [
    "name = 'Edward Snowden'"
   ]
  },
  {
   "cell_type": "code",
   "execution_count": null,
   "id": "fa91ba12",
   "metadata": {},
   "outputs": [],
   "source": []
  },
  {
   "cell_type": "markdown",
   "id": "9e3e6603",
   "metadata": {},
   "source": [
    "### `string.replace()`\n",
    "Replaces characters inside a string:\n",
    "~~~python\n",
    "string.replace('old_substring', 'new_substring')\n",
    "~~~"
   ]
  },
  {
   "cell_type": "code",
   "execution_count": 71,
   "id": "abe7d9b6",
   "metadata": {},
   "outputs": [],
   "source": [
    "name = name.replace('Edward', 'Ed')"
   ]
  },
  {
   "cell_type": "code",
   "execution_count": 72,
   "id": "18d0962e",
   "metadata": {},
   "outputs": [
    {
     "data": {
      "text/plain": [
       "'Ed Snowden'"
      ]
     },
     "execution_count": 72,
     "metadata": {},
     "output_type": "execute_result"
    }
   ],
   "source": [
    "name"
   ]
  },
  {
   "cell_type": "code",
   "execution_count": 73,
   "id": "af231bc6",
   "metadata": {},
   "outputs": [
    {
     "data": {
      "text/plain": [
       "False"
      ]
     },
     "execution_count": 73,
     "metadata": {},
     "output_type": "execute_result"
    }
   ],
   "source": [
    "name.islower()"
   ]
  },
  {
   "cell_type": "markdown",
   "id": "9a5cdc7b",
   "metadata": {},
   "source": [
    "Recall that strings are ***immutable***. They can be copied, manipulated and saved to a new variable. But they can't be changed per se. This concept transfers to other more complex constructs as well.\n",
    "\n",
    "Thus, the original string called `name` is still the same:"
   ]
  },
  {
   "cell_type": "code",
   "execution_count": null,
   "id": "f4b932d2",
   "metadata": {},
   "outputs": [],
   "source": [
    "name"
   ]
  },
  {
   "cell_type": "markdown",
   "id": "a7f2eed7",
   "metadata": {},
   "source": [
    "In order to save the replacement and retain the name of the variable, we could just reassign it to the same name:"
   ]
  },
  {
   "cell_type": "code",
   "execution_count": null,
   "id": "51f7fc8a",
   "metadata": {},
   "outputs": [],
   "source": [
    "name = name.replace('Edward', 'Ed') "
   ]
  },
  {
   "cell_type": "markdown",
   "id": "476cc50d",
   "metadata": {},
   "source": [
    "Internally, the computer gives this new `name` variable a new id due to the immutability, but for us this does not really matter.  "
   ]
  },
  {
   "cell_type": "markdown",
   "id": "4b1667a8",
   "metadata": {},
   "source": [
    "### `string.endswith()`\n",
    "This method might be self explanatory, but returns a ***boolean*** (`True` of `False`) depending on whether or not the strings ends with the specified substring.\n",
    "\n",
    "~~~python\n",
    "string.endswith('substring_to_test_for')\n",
    "~~~"
   ]
  },
  {
   "cell_type": "code",
   "execution_count": 74,
   "id": "c219acd2",
   "metadata": {},
   "outputs": [
    {
     "data": {
      "text/plain": [
       "False"
      ]
     },
     "execution_count": 74,
     "metadata": {},
     "output_type": "execute_result"
    }
   ],
   "source": [
    "name.endswith('g')"
   ]
  },
  {
   "cell_type": "code",
   "execution_count": 75,
   "id": "848cb7ef",
   "metadata": {},
   "outputs": [
    {
     "data": {
      "text/plain": [
       "True"
      ]
     },
     "execution_count": 75,
     "metadata": {},
     "output_type": "execute_result"
    }
   ],
   "source": [
    "name.endswith('n')"
   ]
  },
  {
   "cell_type": "code",
   "execution_count": 76,
   "id": "dd4385bd",
   "metadata": {},
   "outputs": [
    {
     "data": {
      "text/plain": [
       "True"
      ]
     },
     "execution_count": 76,
     "metadata": {},
     "output_type": "execute_result"
    }
   ],
   "source": [
    "name.endswith('den')"
   ]
  },
  {
   "cell_type": "markdown",
   "id": "49c13101",
   "metadata": {},
   "source": [
    "### `string.count()`\n",
    "Counts the number of occurences of a substring inside a string:\n",
    "~~~python\n",
    "string.count('substring_to_count')\n",
    "~~~\n",
    "\n"
   ]
  },
  {
   "cell_type": "code",
   "execution_count": null,
   "id": "c3150cda",
   "metadata": {},
   "outputs": [],
   "source": [
    "text = 'This is how it is done'\n",
    "text.count('i')"
   ]
  },
  {
   "cell_type": "code",
   "execution_count": null,
   "id": "ff877f33",
   "metadata": {},
   "outputs": [],
   "source": [
    "text.count(' is ')"
   ]
  },
  {
   "cell_type": "markdown",
   "id": "5cbb8fcf",
   "metadata": {},
   "source": [
    "The match is case sensitive:"
   ]
  },
  {
   "cell_type": "code",
   "execution_count": null,
   "id": "5cd410db",
   "metadata": {},
   "outputs": [],
   "source": [
    "text.count('t')"
   ]
  },
  {
   "cell_type": "code",
   "execution_count": 77,
   "id": "07a52c0a",
   "metadata": {},
   "outputs": [
    {
     "data": {
      "text/plain": [
       "'My name is Yağız'"
      ]
     },
     "execution_count": 77,
     "metadata": {},
     "output_type": "execute_result"
    }
   ],
   "source": [
    "student_name = \"Yağız\"\n",
    "f\"My name is {student_name}\""
   ]
  },
  {
   "cell_type": "markdown",
   "id": "14bf5862",
   "metadata": {},
   "source": [
    "### Getting input from user"
   ]
  },
  {
   "cell_type": "code",
   "execution_count": 78,
   "id": "0a643a88",
   "metadata": {},
   "outputs": [
    {
     "name": "stdout",
     "output_type": "stream",
     "text": [
      "What is your name?\n",
      "yağız\n"
     ]
    },
    {
     "ename": "ValueError",
     "evalue": "invalid literal for int() with base 10: 'yağız'",
     "output_type": "error",
     "traceback": [
      "\u001b[1;31m---------------------------------------------------------------------------\u001b[0m",
      "\u001b[1;31mValueError\u001b[0m                                Traceback (most recent call last)",
      "\u001b[1;32m~\\AppData\\Local\\Temp/ipykernel_59708/3306543004.py\u001b[0m in \u001b[0;36m<module>\u001b[1;34m\u001b[0m\n\u001b[1;32m----> 1\u001b[1;33m \u001b[0manswer\u001b[0m \u001b[1;33m=\u001b[0m \u001b[0mint\u001b[0m\u001b[1;33m(\u001b[0m\u001b[0minput\u001b[0m\u001b[1;33m(\u001b[0m\u001b[1;34m\"What is your name?\\n\"\u001b[0m\u001b[1;33m)\u001b[0m\u001b[1;33m)\u001b[0m\u001b[1;33m\u001b[0m\u001b[1;33m\u001b[0m\u001b[0m\n\u001b[0m",
      "\u001b[1;31mValueError\u001b[0m: invalid literal for int() with base 10: 'yağız'"
     ]
    }
   ],
   "source": [
    "answer = int(input(\"What is your name?\\n\"))"
   ]
  },
  {
   "cell_type": "code",
   "execution_count": 79,
   "id": "f2e90410",
   "metadata": {},
   "outputs": [
    {
     "ename": "NameError",
     "evalue": "name 'answer' is not defined",
     "output_type": "error",
     "traceback": [
      "\u001b[1;31m---------------------------------------------------------------------------\u001b[0m",
      "\u001b[1;31mNameError\u001b[0m                                 Traceback (most recent call last)",
      "\u001b[1;32m~\\AppData\\Local\\Temp/ipykernel_59708/276038180.py\u001b[0m in \u001b[0;36m<module>\u001b[1;34m\u001b[0m\n\u001b[1;32m----> 1\u001b[1;33m \u001b[0mtype\u001b[0m\u001b[1;33m(\u001b[0m\u001b[0manswer\u001b[0m\u001b[1;33m)\u001b[0m\u001b[1;33m\u001b[0m\u001b[1;33m\u001b[0m\u001b[0m\n\u001b[0m",
      "\u001b[1;31mNameError\u001b[0m: name 'answer' is not defined"
     ]
    }
   ],
   "source": [
    "type(answer)"
   ]
  },
  {
   "cell_type": "code",
   "execution_count": 83,
   "id": "4e58da1f",
   "metadata": {},
   "outputs": [
    {
     "data": {
      "text/plain": [
       "25"
      ]
     },
     "execution_count": 83,
     "metadata": {},
     "output_type": "execute_result"
    }
   ],
   "source": [
    "x = 5\n",
    "eval('x ** 2')"
   ]
  },
  {
   "cell_type": "code",
   "execution_count": null,
   "id": "4ef2b27d",
   "metadata": {},
   "outputs": [],
   "source": [
    "n = input(\"Enter number 1: \")\n",
    "m = input(\"Enter number 2: \")\n",
    "res = int(n) + int(m)\n",
    "print(res)"
   ]
  },
  {
   "cell_type": "code",
   "execution_count": null,
   "id": "e300e149",
   "metadata": {},
   "outputs": [],
   "source": [
    "type(res)"
   ]
  },
  {
   "cell_type": "code",
   "execution_count": 84,
   "id": "d48e087a",
   "metadata": {},
   "outputs": [
    {
     "data": {
      "text/plain": [
       "False"
      ]
     },
     "execution_count": 84,
     "metadata": {},
     "output_type": "execute_result"
    }
   ],
   "source": [
    "a == 5"
   ]
  },
  {
   "cell_type": "code",
   "execution_count": 85,
   "id": "7d6da3fb",
   "metadata": {},
   "outputs": [],
   "source": [
    "text = \"test\""
   ]
  },
  {
   "cell_type": "code",
   "execution_count": 88,
   "id": "71b63f5a",
   "metadata": {},
   "outputs": [
    {
     "data": {
      "text/plain": [
       "False"
      ]
     },
     "execution_count": 88,
     "metadata": {},
     "output_type": "execute_result"
    }
   ],
   "source": [
    "text != \"test\""
   ]
  },
  {
   "cell_type": "code",
   "execution_count": 90,
   "id": "837a4c46",
   "metadata": {},
   "outputs": [
    {
     "data": {
      "text/plain": [
       "2"
      ]
     },
     "execution_count": 90,
     "metadata": {},
     "output_type": "execute_result"
    }
   ],
   "source": [
    "a"
   ]
  },
  {
   "cell_type": "code",
   "execution_count": 94,
   "id": "85926335",
   "metadata": {},
   "outputs": [
    {
     "data": {
      "text/plain": [
       "True"
      ]
     },
     "execution_count": 94,
     "metadata": {},
     "output_type": "execute_result"
    }
   ],
   "source": [
    "a <= 2"
   ]
  },
  {
   "cell_type": "markdown",
   "id": "1ffa8c81",
   "metadata": {},
   "source": [
    "### Q1 - Velocity:\n",
    "\n",
    "Write a program that solves the following problem:\n",
    "\n",
    "There are two cars that start at the same time and drive towards each other. Velocity of the cars are fixed at 80 km/h and 70 km/h. At the beginning, the distance between the cars is 490 km. After how many minutes will the distance between them be 150 km?"
   ]
  },
  {
   "cell_type": "markdown",
   "id": "c73d84bb",
   "metadata": {},
   "source": [
    "### Q2 - Hypotenuse:\n",
    "\n",
    "Write a program that asks the user for the length of perpendicular edges of a right triangle, then calculates the hypotenuse and prints it.\n",
    "\n",
    "E.g. For the inputs 3 and 4, the output should be 5."
   ]
  },
  {
   "cell_type": "code",
   "execution_count": 95,
   "id": "ebfe4d2c",
   "metadata": {},
   "outputs": [
    {
     "name": "stdout",
     "output_type": "stream",
     "text": [
      "first edge of triangle: 5\n",
      "second edge of triangle: 12\n"
     ]
    },
    {
     "data": {
      "text/plain": [
       "13.0"
      ]
     },
     "execution_count": 95,
     "metadata": {},
     "output_type": "execute_result"
    }
   ],
   "source": [
    "# get input 2 times\n",
    "# calculate the hyp..\n",
    "a = int(input(\"first edge of triangle: \"))\n",
    "b = int(input(\"second edge of triangle: \"))\n",
    "import math\n",
    "math.sqrt(eval('a ** 2 + b ** 2'))"
   ]
  },
  {
   "cell_type": "markdown",
   "id": "8164c22d",
   "metadata": {},
   "source": [
    "### Q3 - Temperature\n",
    "\n",
    "Write a Python program that asks the user for a number as a temperature in Celsius then converts it to Fahrenheit and prints it.\n",
    "\n",
    "Hint 1: You will need eval function or  conversion.\n",
    "Hint 2: T(°F) = T(°C) × 1.8 + 32"
   ]
  },
  {
   "cell_type": "code",
   "execution_count": null,
   "id": "2e821218",
   "metadata": {},
   "outputs": [],
   "source": []
  },
  {
   "cell_type": "markdown",
   "id": "c99cf65d",
   "metadata": {},
   "source": [
    "## For home exercises:\n",
    "\n",
    "- https://leetcode.com/\n",
    "- https://www.practicepython.org/\n",
    "- https://pynative.com/python-exercises-with-solutions/"
   ]
  }
 ],
 "metadata": {
  "kernelspec": {
   "display_name": "Python 3 (ipykernel)",
   "language": "python",
   "name": "python3"
  },
  "language_info": {
   "codemirror_mode": {
    "name": "ipython",
    "version": 3
   },
   "file_extension": ".py",
   "mimetype": "text/x-python",
   "name": "python",
   "nbconvert_exporter": "python",
   "pygments_lexer": "ipython3",
   "version": "3.8.10"
  }
 },
 "nbformat": 4,
 "nbformat_minor": 5
}
