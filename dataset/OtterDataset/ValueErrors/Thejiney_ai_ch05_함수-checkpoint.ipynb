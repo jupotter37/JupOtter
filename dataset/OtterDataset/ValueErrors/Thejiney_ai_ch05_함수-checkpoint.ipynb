{
 "cells": [
  {
   "cell_type": "markdown",
   "id": "2a4d6714",
   "metadata": {},
   "source": [
    "<b><font color='red' size='6'>ch05. 함수</font></b>\n",
    "- 반복해서 사용할 코드를 묶어 놓고 그것에 이름을 붙인 것.\n",
    "- 오버로딩 불가\n",
    "- 함수의 정의\n",
    "```\n",
    "def 함수명([매개변수1, 매개변수2, ..]):\n",
    "    명령어1\n",
    "    명령어2\n",
    "```"
   ]
  },
  {
   "cell_type": "markdown",
   "id": "9a2f6d5c",
   "metadata": {},
   "source": [
    "# 1절. 함수의 정의 및 사용\n",
    "## 1.1 함수정의하기"
   ]
  },
  {
   "cell_type": "code",
   "execution_count": 1,
   "id": "50725fe3",
   "metadata": {},
   "outputs": [],
   "source": [
    "def my_hello(x, msg): #함수 정의\n",
    "    for i in range(x): # x번 반복\n",
    "         print(i, msg)"
   ]
  },
  {
   "cell_type": "code",
   "execution_count": 2,
   "id": "37f25171",
   "metadata": {},
   "outputs": [
    {
     "name": "stdout",
     "output_type": "stream",
     "text": [
      "0 Hello, python\n",
      "1 Hello, python\n",
      "2 Hello, python\n",
      "3 Hello, python\n",
      "4 Hello, python\n"
     ]
    }
   ],
   "source": [
    "my_hello(5, 'Hello, python') # 함수 호출"
   ]
  },
  {
   "cell_type": "code",
   "execution_count": 3,
   "id": "56dd6445",
   "metadata": {},
   "outputs": [
    {
     "data": {
      "text/plain": [
       "function"
      ]
     },
     "execution_count": 3,
     "metadata": {},
     "output_type": "execute_result"
    }
   ],
   "source": [
    "type(my_hello)"
   ]
  },
  {
   "cell_type": "code",
   "execution_count": 4,
   "id": "85aa5c1a",
   "metadata": {},
   "outputs": [
    {
     "data": {
      "text/plain": [
       "int"
      ]
     },
     "execution_count": 4,
     "metadata": {},
     "output_type": "execute_result"
    }
   ],
   "source": [
    "my_hello = 10\n",
    "type(my_hello)"
   ]
  },
  {
   "cell_type": "code",
   "execution_count": 5,
   "id": "70d41c53",
   "metadata": {},
   "outputs": [
    {
     "ename": "TypeError",
     "evalue": "'int' object is not callable",
     "output_type": "error",
     "traceback": [
      "\u001b[1;31m---------------------------------------------------------------------------\u001b[0m",
      "\u001b[1;31mTypeError\u001b[0m                                 Traceback (most recent call last)",
      "Cell \u001b[1;32mIn[5], line 1\u001b[0m\n\u001b[1;32m----> 1\u001b[0m \u001b[43mmy_hello\u001b[49m\u001b[43m(\u001b[49m\u001b[38;5;241;43m5\u001b[39;49m\u001b[43m,\u001b[49m\u001b[43m \u001b[49m\u001b[38;5;124;43m'\u001b[39;49m\u001b[38;5;124;43mHello, python\u001b[39;49m\u001b[38;5;124;43m'\u001b[39;49m\u001b[43m)\u001b[49m\n",
      "\u001b[1;31mTypeError\u001b[0m: 'int' object is not callable"
     ]
    }
   ],
   "source": [
    "my_hello(5, 'Hello, python')"
   ]
  },
  {
   "cell_type": "code",
   "execution_count": 6,
   "id": "919af2ff",
   "metadata": {},
   "outputs": [],
   "source": [
    "del my_hello"
   ]
  },
  {
   "cell_type": "code",
   "execution_count": 7,
   "id": "8352f14e",
   "metadata": {},
   "outputs": [],
   "source": [
    "def my_hello(x, msg): #함수 정의\n",
    "    for i in range(x): # x번 반복\n",
    "         print(i, msg)"
   ]
  },
  {
   "cell_type": "code",
   "execution_count": 8,
   "id": "e3b0b223",
   "metadata": {},
   "outputs": [],
   "source": [
    "def my_hello():\n",
    "    print('Hello, Python')\n",
    "    print('Hello, World')"
   ]
  },
  {
   "cell_type": "code",
   "execution_count": 9,
   "id": "9695d114",
   "metadata": {},
   "outputs": [
    {
     "name": "stdout",
     "output_type": "stream",
     "text": [
      "Hello, Python\n",
      "Hello, World\n"
     ]
    }
   ],
   "source": [
    "my_hello()"
   ]
  },
  {
   "cell_type": "code",
   "execution_count": 10,
   "id": "7ef28792",
   "metadata": {},
   "outputs": [
    {
     "data": {
      "text/plain": [
       "<function __main__.my_hello()>"
      ]
     },
     "execution_count": 10,
     "metadata": {},
     "output_type": "execute_result"
    }
   ],
   "source": [
    "my_hello"
   ]
  },
  {
   "cell_type": "code",
   "execution_count": 11,
   "id": "b55eb72d",
   "metadata": {},
   "outputs": [
    {
     "data": {
      "text/plain": [
       "'__main__'"
      ]
     },
     "execution_count": 11,
     "metadata": {},
     "output_type": "execute_result"
    }
   ],
   "source": [
    "__name__"
   ]
  },
  {
   "cell_type": "code",
   "execution_count": 12,
   "id": "d1b009ee",
   "metadata": {},
   "outputs": [
    {
     "name": "stdout",
     "output_type": "stream",
     "text": [
      "Hello, Python\n",
      "Hello, World\n"
     ]
    }
   ],
   "source": [
    "if __name__ == '__main__':\n",
    "    my_hello()"
   ]
  },
  {
   "cell_type": "code",
   "execution_count": 13,
   "id": "98010f96",
   "metadata": {},
   "outputs": [
    {
     "name": "stdout",
     "output_type": "stream",
     "text": [
      "__name__=a\n"
     ]
    }
   ],
   "source": [
    "import a"
   ]
  },
  {
   "cell_type": "code",
   "execution_count": 14,
   "id": "8e44d2e7",
   "metadata": {},
   "outputs": [
    {
     "name": "stdout",
     "output_type": "stream",
     "text": [
      "모듈(*.py파일) 테스트입니다\n",
      "주말 잘 보내세요\n"
     ]
    }
   ],
   "source": [
    "a.test()"
   ]
  },
  {
   "cell_type": "code",
   "execution_count": 15,
   "id": "9e66e4fd",
   "metadata": {},
   "outputs": [],
   "source": [
    "from a import test # a 모듈안의 test 로드"
   ]
  },
  {
   "cell_type": "code",
   "execution_count": 16,
   "id": "cdc17a2a",
   "metadata": {},
   "outputs": [
    {
     "name": "stdout",
     "output_type": "stream",
     "text": [
      "모듈(*.py파일) 테스트입니다\n",
      "주말 잘 보내세요\n"
     ]
    }
   ],
   "source": [
    "test()"
   ]
  },
  {
   "cell_type": "markdown",
   "id": "d1e77bee",
   "metadata": {},
   "source": [
    "## 1.2 docstring"
   ]
  },
  {
   "cell_type": "code",
   "execution_count": 17,
   "id": "f7d2bbe0",
   "metadata": {},
   "outputs": [],
   "source": [
    "def my_function():\n",
    "    \"\"\"\n",
    "    함수의 첫 라인에 독스트링을 포함할 수 있습니다.\n",
    "    독스트링은 함수의 설명서를 달아주는 역할.\n",
    "    주석보다 많은 기능(함수 호출시 shift+tab으로 독스트링을 볼 수 있음)\n",
    "    \"\"\"\n",
    "    pass"
   ]
  },
  {
   "cell_type": "code",
   "execution_count": 18,
   "id": "be2b4fe1",
   "metadata": {},
   "outputs": [],
   "source": [
    "def fibonacci(n):\n",
    "    '''\n",
    "    매개변수로 들어온 n값 미만의 피보나치 수열을 출력합니다\n",
    "    ex. n=10 : 0, 1, 1, 2, 3, 5, 8\n",
    "    '''\n",
    "    a, b = 0, 1\n",
    "    while a < n :\n",
    "        print (a, end=' ')\n",
    "        a, b = b, a+b\n",
    "    print()"
   ]
  },
  {
   "cell_type": "code",
   "execution_count": 19,
   "id": "493af3f1",
   "metadata": {},
   "outputs": [
    {
     "name": "stdout",
     "output_type": "stream",
     "text": [
      "0 1 1 2 3 5 8 13 21 34 55 89 144 233 377 610 987 \n"
     ]
    }
   ],
   "source": [
    "fibonacci(1000)"
   ]
  },
  {
   "cell_type": "markdown",
   "id": "f713cc4d",
   "metadata": {},
   "source": [
    "## 1.3 지역변수(local var)와 전역변수(global var)"
   ]
  },
  {
   "cell_type": "code",
   "execution_count": 20,
   "id": "4564f191",
   "metadata": {},
   "outputs": [
    {
     "name": "stdout",
     "output_type": "stream",
     "text": [
      "함수안 : 100\n",
      "함수밖 : 100\n"
     ]
    }
   ],
   "source": [
    "global_var = 100 # 전역변수\n",
    "def func1():\n",
    "    print('함수안 :',global_var)\n",
    "func1()\n",
    "print('함수밖 :', global_var)"
   ]
  },
  {
   "cell_type": "code",
   "execution_count": 21,
   "id": "29a96e1f",
   "metadata": {},
   "outputs": [
    {
     "name": "stdout",
     "output_type": "stream",
     "text": [
      "함수안 : 200\n"
     ]
    },
    {
     "ename": "NameError",
     "evalue": "name 'local_var' is not defined",
     "output_type": "error",
     "traceback": [
      "\u001b[1;31m---------------------------------------------------------------------------\u001b[0m",
      "\u001b[1;31mNameError\u001b[0m                                 Traceback (most recent call last)",
      "Cell \u001b[1;32mIn[21], line 5\u001b[0m\n\u001b[0;32m      3\u001b[0m     \u001b[38;5;28mprint\u001b[39m(\u001b[38;5;124m'\u001b[39m\u001b[38;5;124m함수안 :\u001b[39m\u001b[38;5;124m'\u001b[39m,local_var)\n\u001b[0;32m      4\u001b[0m func2()\n\u001b[1;32m----> 5\u001b[0m \u001b[38;5;28mprint\u001b[39m(\u001b[38;5;124m'\u001b[39m\u001b[38;5;124m함수밖 :\u001b[39m\u001b[38;5;124m'\u001b[39m, \u001b[43mlocal_var\u001b[49m)\n",
      "\u001b[1;31mNameError\u001b[0m: name 'local_var' is not defined"
     ]
    }
   ],
   "source": [
    "def func2():\n",
    "    local_var = 200 # 지역변수\n",
    "    print('함수안 :',local_var)\n",
    "func2()\n",
    "print('함수밖 :', local_var)"
   ]
  },
  {
   "cell_type": "code",
   "execution_count": 22,
   "id": "5b088c39",
   "metadata": {},
   "outputs": [
    {
     "name": "stdout",
     "output_type": "stream",
     "text": [
      "지역변수 g_var : 200\n",
      "전역변수 g_var : 100\n"
     ]
    }
   ],
   "source": [
    "g_var = 100 # 전역변수(변수 선언과 할당)\n",
    "def func3():\n",
    "    g_var = 200 # 지역변수(변수 선언과 할당)\n",
    "    print('지역변수 g_var :',g_var)\n",
    "func3()\n",
    "print('전역변수 g_var :', g_var)"
   ]
  },
  {
   "cell_type": "code",
   "execution_count": 23,
   "id": "0d1e7f0a",
   "metadata": {},
   "outputs": [
    {
     "name": "stdout",
     "output_type": "stream",
     "text": [
      "함수안 g_var : 100\n",
      "함수밖 g_var : 200\n"
     ]
    }
   ],
   "source": [
    "# 렉시컬 특성\n",
    "g_var = 100 # 전역변수\n",
    "def func3():\n",
    "    global g_var # func3 함수내에서의 g_var는 전역변수\n",
    "    print('함수안 g_var :', g_var)\n",
    "    g_var = 200 # 지역변수\n",
    "func3()\n",
    "print('함수밖 g_var :', g_var)"
   ]
  },
  {
   "cell_type": "markdown",
   "id": "eeb0e515",
   "metadata": {},
   "source": [
    "## 1.4 값에 의한 호출\n",
    "- 함수에 인수로 전달되는 변수가 스칼라변수(문자, 숫자, 논리형)일때"
   ]
  },
  {
   "cell_type": "code",
   "execution_count": 24,
   "id": "696399dc",
   "metadata": {},
   "outputs": [
    {
     "data": {
      "text/plain": [
       "2212235995120"
      ]
     },
     "execution_count": 24,
     "metadata": {},
     "output_type": "execute_result"
    }
   ],
   "source": [
    "foo = 'a' # 전역변수\n",
    "id(foo)"
   ]
  },
  {
   "cell_type": "code",
   "execution_count": 25,
   "id": "23e9f82b",
   "metadata": {},
   "outputs": [],
   "source": [
    "def func1(f): # 매개변수는 지역변수\n",
    "    print('Before :', f,'의 주소는 ',id(f))\n",
    "    f = f*3 # aaa\n",
    "    print('After :', f, '의 주소는 ',id(f))"
   ]
  },
  {
   "cell_type": "code",
   "execution_count": 26,
   "id": "a6c2eb37",
   "metadata": {},
   "outputs": [
    {
     "name": "stdout",
     "output_type": "stream",
     "text": [
      "Before : a 의 주소는  2212235995120\n",
      "After : aaa 의 주소는  2212315137328\n"
     ]
    }
   ],
   "source": [
    "func1(foo)"
   ]
  },
  {
   "cell_type": "code",
   "execution_count": 27,
   "id": "d2aabbeb",
   "metadata": {},
   "outputs": [
    {
     "name": "stdout",
     "output_type": "stream",
     "text": [
      "foo = a 의 주소는  2212235995120\n"
     ]
    }
   ],
   "source": [
    "print('foo =', foo, '의 주소는 ',id(foo))"
   ]
  },
  {
   "cell_type": "markdown",
   "id": "526ecf12",
   "metadata": {},
   "source": [
    "## 1.5 참조에 의한 호출\n",
    "- 함수에 인수로 전달되는 변수가 리스트, 튜플, 셋, 딕셔너리, 객체일 경우"
   ]
  },
  {
   "cell_type": "code",
   "execution_count": 28,
   "id": "47a3930c",
   "metadata": {},
   "outputs": [
    {
     "data": {
      "text/plain": [
       "2212343550272"
      ]
     },
     "execution_count": 28,
     "metadata": {},
     "output_type": "execute_result"
    }
   ],
   "source": [
    "L = [1,2,3,4,5]\n",
    "id(L)"
   ]
  },
  {
   "cell_type": "code",
   "execution_count": 29,
   "id": "a73b70b8",
   "metadata": {},
   "outputs": [
    {
     "name": "stdout",
     "output_type": "stream",
     "text": [
      "before : [1, 2, 3, 4, 5] 의 주소는  2212343550272\n",
      "after : [1, 2, 3, 4, 5, 6] 의 주소는  2212343550272\n"
     ]
    }
   ],
   "source": [
    "def func2(f) : # 매개변수는 지역변수\n",
    "    print('before :',f,'의 주소는 ', id(f))\n",
    "    f.append(6)\n",
    "    print('after :',f,'의 주소는 ', id(f))\n",
    "func2(L)"
   ]
  },
  {
   "cell_type": "markdown",
   "id": "ed0ce712",
   "metadata": {},
   "source": []
  },
  {
   "cell_type": "code",
   "execution_count": 30,
   "id": "aac0e914",
   "metadata": {},
   "outputs": [
    {
     "name": "stdout",
     "output_type": "stream",
     "text": [
      "L= [1, 2, 3, 4, 5, 6] 의 주소는  2212343550272\n"
     ]
    }
   ],
   "source": [
    "print('L=', L, '의 주소는 ', id(L))"
   ]
  },
  {
   "cell_type": "markdown",
   "id": "ff221868",
   "metadata": {},
   "source": [
    "## 1.6 함수의 이름 변경\n",
    "- Python : 함수형언어, 객체지향언어"
   ]
  },
  {
   "cell_type": "code",
   "execution_count": 31,
   "id": "14e5361c",
   "metadata": {},
   "outputs": [
    {
     "name": "stdout",
     "output_type": "stream",
     "text": [
      "0 1 1 2 3 5 8 13 \n"
     ]
    }
   ],
   "source": [
    "fibonacci(20)"
   ]
  },
  {
   "cell_type": "code",
   "execution_count": 32,
   "id": "5c0755e6",
   "metadata": {},
   "outputs": [],
   "source": [
    "fibo = fibonacci # fibonacci 함수이름을 fibo로도 사용가능"
   ]
  },
  {
   "cell_type": "code",
   "execution_count": 33,
   "id": "b077d99c",
   "metadata": {},
   "outputs": [
    {
     "name": "stdout",
     "output_type": "stream",
     "text": [
      "0 1 1 2 3 5 8 13 \n"
     ]
    }
   ],
   "source": [
    "fibo(20)"
   ]
  },
  {
   "cell_type": "markdown",
   "id": "8cfcf849",
   "metadata": {},
   "source": [
    "# 2절. 함수의 실행결과"
   ]
  },
  {
   "cell_type": "code",
   "execution_count": 34,
   "id": "fafd58f7",
   "metadata": {},
   "outputs": [],
   "source": [
    "def fibonacci_print(n):\n",
    "    '''\n",
    "    매개변수로 들어온 n값 미만의 피보나치 수열을 출력합니다\n",
    "    ex. n=10 : 0, 1, 1, 2, 3, 5, 8\n",
    "    '''\n",
    "    a, b = 0, 1\n",
    "    while a < n :\n",
    "        print (a, end=' ')\n",
    "        a, b = b, a+b\n",
    "    print()\n",
    "def fibonacci(n):\n",
    "    '''\n",
    "    매개변수로 들어온 n값 미만의 피보나치 수열을 리스트로 return\n",
    "    '''\n",
    "    result = []\n",
    "    a, b = 0, 1\n",
    "    while a < n :\n",
    "        result.append(a)\n",
    "        a, b = b, a+b\n",
    "    return result"
   ]
  },
  {
   "cell_type": "code",
   "execution_count": 35,
   "id": "6f1642b8",
   "metadata": {},
   "outputs": [
    {
     "name": "stdout",
     "output_type": "stream",
     "text": [
      "0 1 1 2 3 5 8 \n",
      "None\n",
      "<class 'NoneType'>\n"
     ]
    }
   ],
   "source": [
    "x = fibonacci_print(10)\n",
    "print(x)\n",
    "print(type(x))"
   ]
  },
  {
   "cell_type": "code",
   "execution_count": 36,
   "id": "d018326c",
   "metadata": {},
   "outputs": [
    {
     "name": "stdout",
     "output_type": "stream",
     "text": [
      "[0, 1, 1, 2, 3, 5, 8]\n"
     ]
    }
   ],
   "source": [
    "x = fibonacci(10)\n",
    "print(x)"
   ]
  },
  {
   "cell_type": "markdown",
   "id": "fead2dcc",
   "metadata": {},
   "source": [
    "## 여러 개 값 return"
   ]
  },
  {
   "cell_type": "code",
   "execution_count": 37,
   "id": "57d282a5",
   "metadata": {},
   "outputs": [],
   "source": [
    "def swap(a, b):\n",
    "    '''\n",
    "    매개변수의 순서를 바꿔서 return\n",
    "    '''\n",
    "    return b, a"
   ]
  },
  {
   "cell_type": "code",
   "execution_count": 38,
   "id": "37c965e7",
   "metadata": {},
   "outputs": [
    {
     "name": "stdout",
     "output_type": "stream",
     "text": [
      "함수 실행 전 x, y =  5 10\n",
      "함수 실행 후 x, y =  10 5\n"
     ]
    }
   ],
   "source": [
    "x, y = 5, 10\n",
    "print('함수 실행 전 x, y = ', x, y)\n",
    "x, y=swap(x, y)\n",
    "print('함수 실행 후 x, y = ', x, y)"
   ]
  },
  {
   "cell_type": "code",
   "execution_count": 39,
   "id": "da898331",
   "metadata": {},
   "outputs": [
    {
     "name": "stdout",
     "output_type": "stream",
     "text": [
      "<class 'tuple'>\n",
      "(20, 10)\n"
     ]
    }
   ],
   "source": [
    "a = swap(10, 20)\n",
    "print(type(a))\n",
    "print(a)"
   ]
  },
  {
   "cell_type": "markdown",
   "id": "0f332139",
   "metadata": {},
   "source": [
    "# 3절. 함수의 매개변수 ★\n",
    "## 3.1 기본값을 갖는 매개변수"
   ]
  },
  {
   "cell_type": "code",
   "execution_count": 40,
   "id": "6ca6817b",
   "metadata": {},
   "outputs": [],
   "source": [
    "def make_url(ip,port=80): # 순서인수>기본값을갖는매개변수\n",
    "    return \"http://{}:{}\".format(ip, port)"
   ]
  },
  {
   "cell_type": "code",
   "execution_count": 41,
   "id": "4aa3bab1",
   "metadata": {},
   "outputs": [
    {
     "name": "stdout",
     "output_type": "stream",
     "text": [
      "http://localhost:8090\n",
      "http://localhost:80\n",
      "http://www.naver.com:9090\n"
     ]
    }
   ],
   "source": [
    "print(make_url('localhost', 8090))\n",
    "print(make_url('localhost'))\n",
    "print(make_url(port=9090, ip='www.naver.com'))"
   ]
  },
  {
   "cell_type": "markdown",
   "id": "3aebb5b5",
   "metadata": {},
   "source": [
    "## 3.2 기본변수를 갖는 매개변수\n",
    "- 기본변수가 스칼라 변수(문자,숫자,논리형)일 때\n",
    "- 기본변수가 리스트, 셋, 딕셔너리 또는 객체일 때"
   ]
  },
  {
   "cell_type": "code",
   "execution_count": 42,
   "id": "ebce9f63",
   "metadata": {},
   "outputs": [],
   "source": [
    "i = 5\n",
    "# 기본변수가 스칼라변수일 때: arg의 기본값은 함수가 정의되는 시점으로 셋팅\n",
    "def func2(arg=i):\n",
    "    print('arg =', arg)"
   ]
  },
  {
   "cell_type": "code",
   "execution_count": 43,
   "id": "a05747e1",
   "metadata": {},
   "outputs": [
    {
     "name": "stdout",
     "output_type": "stream",
     "text": [
      "arg = 5\n"
     ]
    }
   ],
   "source": [
    "i = 10\n",
    "func2()"
   ]
  },
  {
   "cell_type": "code",
   "execution_count": 44,
   "id": "9f39548c",
   "metadata": {},
   "outputs": [
    {
     "name": "stdout",
     "output_type": "stream",
     "text": [
      "[10]\n",
      "list_ : [10]\n"
     ]
    }
   ],
   "source": [
    "# 기본변수가 리스트, 셋, 딕셔너리, 객체일 때 : 실행되는 시점\n",
    "list_ = []\n",
    "def func3(a, L=list_):\n",
    "    L.append(a)\n",
    "    return L\n",
    "print(func3(10))\n",
    "print('list_ :', list_)"
   ]
  },
  {
   "cell_type": "code",
   "execution_count": 45,
   "id": "a078a1c6",
   "metadata": {},
   "outputs": [
    {
     "name": "stdout",
     "output_type": "stream",
     "text": [
      "[10, 20]\n",
      "list_ : [10, 20]\n"
     ]
    }
   ],
   "source": [
    "print(func3(20))\n",
    "print('list_ :', list_)"
   ]
  },
  {
   "cell_type": "code",
   "execution_count": 46,
   "id": "215b205a",
   "metadata": {},
   "outputs": [
    {
     "name": "stdout",
     "output_type": "stream",
     "text": [
      "[10, 20, 30]\n",
      "list_: [10, 20, 30]\n"
     ]
    }
   ],
   "source": [
    "print(func3(30))\n",
    "print('list_:',list_)"
   ]
  },
  {
   "cell_type": "code",
   "execution_count": 47,
   "id": "209121d5",
   "metadata": {},
   "outputs": [
    {
     "name": "stdout",
     "output_type": "stream",
     "text": [
      "[10]\n",
      "[1, 2, 3, 10]\n"
     ]
    }
   ],
   "source": [
    "def func3(a, L=[]):\n",
    "    L.append(a)\n",
    "    return L\n",
    "print(func3(10))\n",
    "print(func3(10, [1,2,3,]))"
   ]
  },
  {
   "cell_type": "markdown",
   "id": "2575eaca",
   "metadata": {},
   "source": [
    "## 3.3 순서인수, 키워드인수\n",
    "- 순서인수 : 함수에 정의도니 순서대로 전달방식\n",
    "- 키워드인수 : 인수의 이름을 명시적으로 전달방식\n",
    "- 함수 정의시 순서인수와 키워드 인수가 같이 올 때는 순서인수 > 키워드인수 순으로\n",
    "```\n",
    "def function명(변수명1, 변수명2, ... 변수명n=기본값):\n",
    "```"
   ]
  },
  {
   "cell_type": "code",
   "execution_count": 48,
   "id": "5de33776",
   "metadata": {},
   "outputs": [],
   "source": [
    "def fun(a, b):\n",
    "    return a*10+b"
   ]
  },
  {
   "cell_type": "code",
   "execution_count": 49,
   "id": "6b5f40d0",
   "metadata": {},
   "outputs": [
    {
     "data": {
      "text/plain": [
       "43"
      ]
     },
     "execution_count": 49,
     "metadata": {},
     "output_type": "execute_result"
    }
   ],
   "source": [
    "fun(b=3, a=4)"
   ]
  },
  {
   "cell_type": "code",
   "execution_count": 50,
   "id": "af5b2684",
   "metadata": {},
   "outputs": [],
   "source": [
    "def func4(a, L=None):\n",
    "    if L is None:\n",
    "        L = []\n",
    "    L.append(a)\n",
    "    return L"
   ]
  },
  {
   "cell_type": "code",
   "execution_count": 51,
   "id": "419d11db",
   "metadata": {},
   "outputs": [
    {
     "name": "stdout",
     "output_type": "stream",
     "text": [
      "[10]\n",
      "[10, 10]\n",
      "[20]\n",
      "[20]\n"
     ]
    }
   ],
   "source": [
    "lst = []\n",
    "print(func4(10, lst))\n",
    "print(func4(L=lst, a=10))\n",
    "print(func4(20))\n",
    "print(func4(20,None))"
   ]
  },
  {
   "cell_type": "markdown",
   "id": "d7d88fe5",
   "metadata": {},
   "source": [
    "## 3.4 튜플 매개변수를 이용한 가변인수 설정"
   ]
  },
  {
   "cell_type": "code",
   "execution_count": 52,
   "id": "ae7d05bc",
   "metadata": {},
   "outputs": [],
   "source": [
    "def add(a,b):\n",
    "    return a+b\n",
    "def add(a, b, c): # 덮어씌움\n",
    "    return a+b+c"
   ]
  },
  {
   "cell_type": "code",
   "execution_count": 53,
   "id": "ea0f78f0",
   "metadata": {},
   "outputs": [
    {
     "data": {
      "text/plain": [
       "6"
      ]
     },
     "execution_count": 53,
     "metadata": {},
     "output_type": "execute_result"
    }
   ],
   "source": [
    "add(1,2,3)"
   ]
  },
  {
   "cell_type": "code",
   "execution_count": 54,
   "id": "19465d26",
   "metadata": {},
   "outputs": [
    {
     "ename": "TypeError",
     "evalue": "add() missing 1 required positional argument: 'c'",
     "output_type": "error",
     "traceback": [
      "\u001b[1;31m---------------------------------------------------------------------------\u001b[0m",
      "\u001b[1;31mTypeError\u001b[0m                                 Traceback (most recent call last)",
      "Cell \u001b[1;32mIn[54], line 1\u001b[0m\n\u001b[1;32m----> 1\u001b[0m \u001b[43madd\u001b[49m\u001b[43m(\u001b[49m\u001b[38;5;241;43m1\u001b[39;49m\u001b[43m,\u001b[49m\u001b[38;5;241;43m2\u001b[39;49m\u001b[43m)\u001b[49m\n",
      "\u001b[1;31mTypeError\u001b[0m: add() missing 1 required positional argument: 'c'"
     ]
    }
   ],
   "source": [
    "add(1,2)"
   ]
  },
  {
   "cell_type": "code",
   "execution_count": 55,
   "id": "1b8ce0b0",
   "metadata": {},
   "outputs": [],
   "source": [
    "# args 앞의 * : args가 튜플로 전달\n",
    "def add(*args):\n",
    "    '전달받은 매개변수들의 합을 return, 매개변수가 없는 경우 0을 return'\n",
    "#     print(args)\n",
    "    sum = 0 # 누적변수\n",
    "    for num in args:\n",
    "        sum += num\n",
    "    return sum"
   ]
  },
  {
   "cell_type": "code",
   "execution_count": 56,
   "id": "7d18f530",
   "metadata": {},
   "outputs": [
    {
     "name": "stdout",
     "output_type": "stream",
     "text": [
      "1\n",
      "3\n",
      "11\n",
      "0\n"
     ]
    }
   ],
   "source": [
    "print(add(1))\n",
    "print(add(1,2))\n",
    "print(add(1,2,3,5))\n",
    "print(add())"
   ]
  },
  {
   "cell_type": "code",
   "execution_count": 57,
   "id": "633d9742",
   "metadata": {},
   "outputs": [
    {
     "data": {
      "text/plain": [
       "'Java-Oracle-Web-Python'"
      ]
     },
     "execution_count": 57,
     "metadata": {},
     "output_type": "execute_result"
    }
   ],
   "source": [
    "subject = 'Java','Oracle','Web','Python'\n",
    "'-'.join(subject)"
   ]
  },
  {
   "cell_type": "code",
   "execution_count": 58,
   "id": "45f14ca9",
   "metadata": {},
   "outputs": [],
   "source": [
    "def concat(*subject, sep):\n",
    "    return sep.join(subject)"
   ]
  },
  {
   "cell_type": "code",
   "execution_count": 59,
   "id": "340c9bc7",
   "metadata": {},
   "outputs": [
    {
     "ename": "TypeError",
     "evalue": "concat() missing 1 required keyword-only argument: 'sep'",
     "output_type": "error",
     "traceback": [
      "\u001b[1;31m---------------------------------------------------------------------------\u001b[0m",
      "\u001b[1;31mTypeError\u001b[0m                                 Traceback (most recent call last)",
      "Cell \u001b[1;32mIn[59], line 1\u001b[0m\n\u001b[1;32m----> 1\u001b[0m \u001b[43mconcat\u001b[49m\u001b[43m(\u001b[49m\u001b[38;5;124;43m'\u001b[39;49m\u001b[38;5;124;43mJava\u001b[39;49m\u001b[38;5;124;43m'\u001b[39;49m\u001b[43m,\u001b[49m\u001b[43m \u001b[49m\u001b[38;5;124;43m'\u001b[39;49m\u001b[38;5;124;43mOracle\u001b[39;49m\u001b[38;5;124;43m'\u001b[39;49m\u001b[43m,\u001b[49m\u001b[38;5;124;43m'\u001b[39;49m\u001b[38;5;124;43mWeb\u001b[39;49m\u001b[38;5;124;43m'\u001b[39;49m\u001b[43m,\u001b[49m\u001b[38;5;124;43m'\u001b[39;49m\u001b[38;5;124;43mPython\u001b[39;49m\u001b[38;5;124;43m'\u001b[39;49m\u001b[43m,\u001b[49m\u001b[43m \u001b[49m\u001b[38;5;124;43m'\u001b[39;49m\u001b[38;5;124;43m ~ \u001b[39;49m\u001b[38;5;124;43m'\u001b[39;49m\u001b[43m)\u001b[49m\n",
      "\u001b[1;31mTypeError\u001b[0m: concat() missing 1 required keyword-only argument: 'sep'"
     ]
    }
   ],
   "source": [
    "concat('Java', 'Oracle','Web','Python', ' ~ ')"
   ]
  },
  {
   "cell_type": "code",
   "execution_count": 60,
   "id": "5f4cc41f",
   "metadata": {},
   "outputs": [
    {
     "data": {
      "text/plain": [
       "'Java ~ Oracle ~ Web ~ Python'"
      ]
     },
     "execution_count": 60,
     "metadata": {},
     "output_type": "execute_result"
    }
   ],
   "source": [
    "# 해결책1 : 파라미터이름을 지정해서 호출\n",
    "concat('Java', 'Oracle','Web','Python', sep=' ~ ')"
   ]
  },
  {
   "cell_type": "code",
   "execution_count": 61,
   "id": "249754f7",
   "metadata": {},
   "outputs": [],
   "source": [
    "# 해결책2 : 기본값을 갖는 키워드인수 사용\n",
    "def concat(*subject, sep= ' '): # 튜플인수 > 키워드인수\n",
    "    return sep.join(subject)"
   ]
  },
  {
   "cell_type": "code",
   "execution_count": 62,
   "id": "01355323",
   "metadata": {},
   "outputs": [
    {
     "data": {
      "text/plain": [
       "'Java Oracle Web Python'"
      ]
     },
     "execution_count": 62,
     "metadata": {},
     "output_type": "execute_result"
    }
   ],
   "source": [
    "concat('Java', 'Oracle','Web','Python')"
   ]
  },
  {
   "cell_type": "code",
   "execution_count": 63,
   "id": "0acecc21",
   "metadata": {},
   "outputs": [
    {
     "data": {
      "text/plain": [
       "'Java Oracle Web Python ~'"
      ]
     },
     "execution_count": 63,
     "metadata": {},
     "output_type": "execute_result"
    }
   ],
   "source": [
    "concat('Java','Oracle','Web','Python','~')"
   ]
  },
  {
   "cell_type": "code",
   "execution_count": 64,
   "id": "bc07ebfa",
   "metadata": {},
   "outputs": [
    {
     "data": {
      "text/plain": [
       "'Java~Oracle~Web~Python'"
      ]
     },
     "execution_count": 64,
     "metadata": {},
     "output_type": "execute_result"
    }
   ],
   "source": [
    "concat('Java','Oracle','Web','Python',sep='~')"
   ]
  },
  {
   "cell_type": "code",
   "execution_count": 65,
   "id": "d148a025",
   "metadata": {},
   "outputs": [],
   "source": [
    "# 해결책3 : sep을 순서인수로 앞으로 선언\n",
    "def concat(sep, *subject):\n",
    "    return sep.join(subject)"
   ]
  },
  {
   "cell_type": "code",
   "execution_count": 66,
   "id": "cc13beef",
   "metadata": {},
   "outputs": [
    {
     "data": {
      "text/plain": [
       "'Java~Oracle~Python'"
      ]
     },
     "execution_count": 66,
     "metadata": {},
     "output_type": "execute_result"
    }
   ],
   "source": [
    "concat('~','Java','Oracle','Python')"
   ]
  },
  {
   "cell_type": "markdown",
   "id": "8b2b3f41",
   "metadata": {},
   "source": [
    "## 3.5 딕셔너리 매개변수\n",
    "- 딕셔너리인수 ; 여러개의 키워드인수를 딕셔너리 형태로 받아서 가변 키워드 인수로 처리"
   ]
  },
  {
   "cell_type": "code",
   "execution_count": 67,
   "id": "125fd2e5",
   "metadata": {},
   "outputs": [],
   "source": [
    "def func5(**args):\n",
    "    print(args)\n",
    "    print(type(args))\n",
    "    for key, value in args.items():\n",
    "        print(\"{}:{}\".format(key, value))"
   ]
  },
  {
   "cell_type": "code",
   "execution_count": 68,
   "id": "4f9f986d",
   "metadata": {},
   "outputs": [
    {
     "name": "stdout",
     "output_type": "stream",
     "text": [
      "{'name': '홍길동', 'age': 33}\n",
      "<class 'dict'>\n",
      "name:홍길동\n",
      "age:33\n"
     ]
    }
   ],
   "source": [
    "func5(name=\"홍길동\", age=33)"
   ]
  },
  {
   "cell_type": "code",
   "execution_count": 69,
   "id": "9ad34e23",
   "metadata": {},
   "outputs": [
    {
     "name": "stdout",
     "output_type": "stream",
     "text": [
      "{'name': '김길동', 'address': '서울', 'tel': '010-9999-9999'}\n",
      "<class 'dict'>\n",
      "name:김길동\n",
      "address:서울\n",
      "tel:010-9999-9999\n"
     ]
    }
   ],
   "source": [
    "func5(name=\"김길동\", address=\"서울\", tel=\"010-9999-9999\")"
   ]
  },
  {
   "cell_type": "markdown",
   "id": "5e0a8c7d",
   "metadata": {},
   "source": [
    "## 3.6 함수 정의시 매개변수의 순서\n",
    "순서인수 > 튜플인수(*) > 키워드인수(기본값) > 딕셔너리 인수 (**)"
   ]
  },
  {
   "cell_type": "code",
   "execution_count": 85,
   "id": "0c352602",
   "metadata": {},
   "outputs": [],
   "source": [
    "# 순서인수 > 튜플인수 > 딕셔너리 인수\n",
    "def func6(a, b, *c, **d):\n",
    "    print('순서인수 a =', a)\n",
    "    print('순서인수 b =',b)\n",
    "    print('튜플인수 c = ',c)\n",
    "    print('딕셔너리 d =',d)"
   ]
  },
  {
   "cell_type": "code",
   "execution_count": 86,
   "id": "229bad0d",
   "metadata": {},
   "outputs": [
    {
     "name": "stdout",
     "output_type": "stream",
     "text": [
      "순서인수 a = 10\n",
      "순서인수 b = 20\n",
      "튜플인수 c =  (1, 2, 3, 4, 5, 6, 7)\n",
      "딕셔너리 d = {'name': 'kim', 'age': 30}\n"
     ]
    }
   ],
   "source": [
    "func6(10,20,1,2,3,4,5,6,7, name=\"kim\",age=30)"
   ]
  },
  {
   "cell_type": "code",
   "execution_count": 72,
   "id": "87d18d08",
   "metadata": {},
   "outputs": [],
   "source": [
    "# 순서인수 > 튜플인수(*) > 키워드인수(기본값) > 딕셔너리 인수 (**)\n",
    "def func7(a, b, c, *d, e=10, **f):\n",
    "    print('a =',a)\n",
    "    print('b =',b)\n",
    "    print('c =',c)\n",
    "    print('d =',d)\n",
    "    print('e =',e)\n",
    "    print('f =',f)"
   ]
  },
  {
   "cell_type": "code",
   "execution_count": 73,
   "id": "d0ed36f5",
   "metadata": {},
   "outputs": [
    {
     "name": "stdout",
     "output_type": "stream",
     "text": [
      "a = 10\n",
      "b = 20\n",
      "c = 30\n",
      "d = (1, 2, 3, 4, 5)\n",
      "e = 100\n",
      "f = {'shape': 'rect', 'width': 20, 'height': 30}\n"
     ]
    }
   ],
   "source": [
    "func7(10,20,30,1,2,3,4,5,e=100,shape=\"rect\", width=20, height=30)"
   ]
  },
  {
   "cell_type": "code",
   "execution_count": 74,
   "id": "bdaad69a",
   "metadata": {},
   "outputs": [
    {
     "name": "stdout",
     "output_type": "stream",
     "text": [
      "a = 10\n",
      "b = 20\n",
      "c = 30\n",
      "d = ()\n",
      "e = 10\n",
      "f = {}\n"
     ]
    }
   ],
   "source": [
    "func7(10,20,30)"
   ]
  },
  {
   "cell_type": "code",
   "execution_count": 75,
   "id": "879f3608",
   "metadata": {},
   "outputs": [
    {
     "name": "stdout",
     "output_type": "stream",
     "text": [
      "a = 10\n",
      "b = 20\n",
      "c = 30\n",
      "d = ()\n",
      "e = 100\n",
      "f = {}\n"
     ]
    }
   ],
   "source": [
    "func7(10,20,30, e = 100)"
   ]
  },
  {
   "cell_type": "markdown",
   "id": "91e225d6",
   "metadata": {},
   "source": [
    "## 3.7 인수의 언패킹"
   ]
  },
  {
   "cell_type": "markdown",
   "id": "856c7bb3",
   "metadata": {},
   "source": [
    "### 튜플인수 언패킹"
   ]
  },
  {
   "cell_type": "code",
   "execution_count": 76,
   "id": "24ec3541",
   "metadata": {},
   "outputs": [],
   "source": [
    "def add(*args):\n",
    "    sum = 0\n",
    "    for num in args:\n",
    "        sum += num\n",
    "    return sum"
   ]
  },
  {
   "cell_type": "code",
   "execution_count": 77,
   "id": "12a747be",
   "metadata": {},
   "outputs": [
    {
     "data": {
      "text/plain": [
       "15"
      ]
     },
     "execution_count": 77,
     "metadata": {},
     "output_type": "execute_result"
    }
   ],
   "source": [
    "add(1,2,3,4,5)"
   ]
  },
  {
   "cell_type": "code",
   "execution_count": 78,
   "id": "83a382da",
   "metadata": {},
   "outputs": [
    {
     "data": {
      "text/plain": [
       "15"
      ]
     },
     "execution_count": 78,
     "metadata": {},
     "output_type": "execute_result"
    }
   ],
   "source": [
    "numbers = (1,2,3,4,5)\n",
    "add(*numbers) # 튜플 언패킹\n",
    "add(numbers[0],numbers[1],numbers[2],numbers[3],numbers[4])"
   ]
  },
  {
   "cell_type": "code",
   "execution_count": 79,
   "id": "ac90986e",
   "metadata": {},
   "outputs": [
    {
     "data": {
      "text/plain": [
       "6"
      ]
     },
     "execution_count": 79,
     "metadata": {},
     "output_type": "execute_result"
    }
   ],
   "source": [
    "num_lst = [1,2,3]\n",
    "add(*num_lst)"
   ]
  },
  {
   "cell_type": "markdown",
   "id": "6c285d06",
   "metadata": {},
   "source": [
    "### 딕셔너리 인수 언패킹"
   ]
  },
  {
   "cell_type": "code",
   "execution_count": 80,
   "id": "2b4415b3",
   "metadata": {},
   "outputs": [
    {
     "name": "stdout",
     "output_type": "stream",
     "text": [
      "('shape', 'rect')\n",
      "('height', 30)\n",
      "('width', 40)\n"
     ]
    }
   ],
   "source": [
    "def func8(**data):\n",
    "    for item in data.items():\n",
    "        print(item)\n",
    "func8(shape=\"rect\", height=30, width=40)"
   ]
  },
  {
   "cell_type": "code",
   "execution_count": 81,
   "id": "f1c55ae9",
   "metadata": {},
   "outputs": [
    {
     "data": {
      "text/plain": [
       "{'shape': 'triangle', 'height': 40, 'width': 30}"
      ]
     },
     "execution_count": 81,
     "metadata": {},
     "output_type": "execute_result"
    }
   ],
   "source": [
    "info = {'shape':'triangle', 'height':40, 'width':30}\n",
    "info"
   ]
  },
  {
   "cell_type": "code",
   "execution_count": 82,
   "id": "757acd52",
   "metadata": {},
   "outputs": [
    {
     "name": "stdout",
     "output_type": "stream",
     "text": [
      "('shape', 'triangle')\n",
      "('height', 40)\n",
      "('width', 30)\n"
     ]
    }
   ],
   "source": [
    "func8(**info)"
   ]
  },
  {
   "cell_type": "markdown",
   "id": "cf0d4c71",
   "metadata": {},
   "source": [
    "# 4절. 람다식\n",
    "- return 한줄짜리 작은 익명함수\n",
    "## 4.1 람다식 연습"
   ]
  },
  {
   "cell_type": "code",
   "execution_count": 83,
   "id": "aa61d48d",
   "metadata": {},
   "outputs": [
    {
     "data": {
      "text/plain": [
       "8"
      ]
     },
     "execution_count": 83,
     "metadata": {},
     "output_type": "execute_result"
    }
   ],
   "source": [
    "def add(a, b):\n",
    "    return a + b\n",
    "\n",
    "\n",
    "add(3, 5)"
   ]
  },
  {
   "cell_type": "code",
   "execution_count": 84,
   "id": "dc38729c",
   "metadata": {},
   "outputs": [
    {
     "data": {
      "text/plain": [
       "30"
      ]
     },
     "execution_count": 84,
     "metadata": {},
     "output_type": "execute_result"
    }
   ],
   "source": [
    "add2 = lambda a, b: a + b\n",
    "add2(10, 20)"
   ]
  },
  {
   "cell_type": "code",
   "execution_count": 85,
   "id": "3e1b5030",
   "metadata": {},
   "outputs": [
    {
     "name": "stdout",
     "output_type": "stream",
     "text": [
      "<class 'function'> <class 'function'>\n"
     ]
    }
   ],
   "source": [
    "print(type(add), type(add2))"
   ]
  },
  {
   "cell_type": "code",
   "execution_count": 86,
   "id": "fd403c2c",
   "metadata": {},
   "outputs": [
    {
     "data": {
      "text/plain": [
       "8"
      ]
     },
     "execution_count": 86,
     "metadata": {},
     "output_type": "execute_result"
    }
   ],
   "source": [
    "(lambda a, b: a + b)(3, 5)"
   ]
  },
  {
   "cell_type": "code",
   "execution_count": 87,
   "id": "807723e4",
   "metadata": {},
   "outputs": [],
   "source": [
    "# a와 b의 차이를 return\n",
    "def diff(a, b):\n",
    "    if a >= b:\n",
    "        return a - b\n",
    "    else:\n",
    "        return b - a"
   ]
  },
  {
   "cell_type": "code",
   "execution_count": 88,
   "id": "1a9e5090",
   "metadata": {},
   "outputs": [],
   "source": [
    "diff2 = lambda a, b: a - b if a >= b else b - a"
   ]
  },
  {
   "cell_type": "code",
   "execution_count": 89,
   "id": "a82c2715",
   "metadata": {},
   "outputs": [
    {
     "name": "stdout",
     "output_type": "stream",
     "text": [
      "2 2 2 2\n",
      "<class 'function'> <class 'function'>\n"
     ]
    }
   ],
   "source": [
    "print(diff(3, 5), diff(5, 3), diff2(3, 5), diff2(5, 3))\n",
    "print(type(diff), type(diff2))"
   ]
  },
  {
   "cell_type": "code",
   "execution_count": 90,
   "id": "2ccf6573",
   "metadata": {},
   "outputs": [],
   "source": [
    "# 매개변수로 잔액을 받아 잔액이 음수면 'negative balance라고 출력'\n",
    "def get_balance(balance):\n",
    "    if balance >= 0:\n",
    "        return balance\n",
    "    else:\n",
    "        return 'negative'"
   ]
  },
  {
   "cell_type": "code",
   "execution_count": 91,
   "id": "07a768c9",
   "metadata": {},
   "outputs": [
    {
     "data": {
      "text/plain": [
       "100"
      ]
     },
     "execution_count": 91,
     "metadata": {},
     "output_type": "execute_result"
    }
   ],
   "source": [
    "get_balance = lambda balance: balance if balance >= 0 else 'negative'\n",
    "get_balance(100)"
   ]
  },
  {
   "cell_type": "code",
   "execution_count": 92,
   "id": "642e060c",
   "metadata": {},
   "outputs": [
    {
     "data": {
      "text/plain": [
       "'negative'"
      ]
     },
     "execution_count": 92,
     "metadata": {},
     "output_type": "execute_result"
    }
   ],
   "source": [
    "balance = -500\n",
    "if balance >= 0:\n",
    "    result = balance\n",
    "else :\n",
    "    result = 'negative'\n",
    "result"
   ]
  },
  {
   "cell_type": "code",
   "execution_count": 93,
   "id": "b83d93d4",
   "metadata": {},
   "outputs": [
    {
     "data": {
      "text/plain": [
       "'negative'"
      ]
     },
     "execution_count": 93,
     "metadata": {},
     "output_type": "execute_result"
    }
   ],
   "source": [
    "balance = -500\n",
    "balance if balance >= 0 else 'negative'\n",
    "#balance >= 0 ? balacne : 'negative'"
   ]
  },
  {
   "cell_type": "code",
   "execution_count": 94,
   "id": "7272ed2f",
   "metadata": {},
   "outputs": [
    {
     "data": {
      "text/plain": [
       "(0, -1)"
      ]
     },
     "execution_count": 94,
     "metadata": {},
     "output_type": "execute_result"
    }
   ],
   "source": [
    "# 아래의 함수도 람다식으로 바꿀 수 있음\n",
    "v = (1, 2, 3)\n",
    "\n",
    "\n",
    "def safe_index(vector, item):\n",
    "    if item in vector:\n",
    "        return vector.index(item)\n",
    "    else:\n",
    "        return -1\n",
    "\n",
    "\n",
    "safe_index(v, 1), safe_index(v, 4)"
   ]
  },
  {
   "cell_type": "code",
   "execution_count": 95,
   "id": "195705cd",
   "metadata": {},
   "outputs": [],
   "source": [
    "def safe_index(vector, item):\n",
    "    return vector.index(item) if item in vector else -1"
   ]
  },
  {
   "cell_type": "code",
   "execution_count": 96,
   "id": "7d4a1629",
   "metadata": {},
   "outputs": [],
   "source": [
    "safe_index = lambda vector, item: vector.index(item) if item in vector else -1"
   ]
  },
  {
   "cell_type": "code",
   "execution_count": 97,
   "id": "907dd262",
   "metadata": {},
   "outputs": [
    {
     "data": {
      "text/plain": [
       "(0, -1)"
      ]
     },
     "execution_count": 97,
     "metadata": {},
     "output_type": "execute_result"
    }
   ],
   "source": [
    "safe_index([1, 2, 3, 4], 1), safe_index((1, 2, 3), 5)"
   ]
  },
  {
   "cell_type": "code",
   "execution_count": 98,
   "id": "65dd4e2d",
   "metadata": {},
   "outputs": [
    {
     "data": {
      "text/plain": [
       "('홀수', '짝수')"
      ]
     },
     "execution_count": 98,
     "metadata": {},
     "output_type": "execute_result"
    }
   ],
   "source": [
    "# 매개변수로 들어온 값이 짝수면 '짝수'를, 홀수면 '홀수'를 return 하는 lambda\n",
    "even_odd_chk = lambda num: '짝수' if num % 2 == 0 else '홀수'\n",
    "even_odd_chk(9), even_odd_chk(-8)"
   ]
  },
  {
   "cell_type": "code",
   "execution_count": 99,
   "id": "c09fc8ef",
   "metadata": {},
   "outputs": [
    {
     "data": {
      "text/plain": [
       "('B등급', '재시험')"
      ]
     },
     "execution_count": 99,
     "metadata": {},
     "output_type": "execute_result"
    }
   ],
   "source": [
    "def levelChk(score):\n",
    "    if score >= 80:\n",
    "        return 'A등급'\n",
    "    elif score >= 60:\n",
    "        return 'B등급'\n",
    "    else:\n",
    "        return '재시험'\n",
    "\n",
    "\n",
    "levelChk(65), levelChk(-9)"
   ]
  },
  {
   "cell_type": "code",
   "execution_count": 100,
   "id": "4570de71",
   "metadata": {},
   "outputs": [
    {
     "data": {
      "text/plain": [
       "('A등급', '재시험')"
      ]
     },
     "execution_count": 100,
     "metadata": {},
     "output_type": "execute_result"
    }
   ],
   "source": [
    "levelChk = lambda score: 'A등급' if score >= 80 else ('B등급'\n",
    "                                                    if score >= 60 else '재시험')\n",
    "levelChk(90), levelChk(55)"
   ]
  },
  {
   "cell_type": "code",
   "execution_count": 101,
   "id": "0736a910",
   "metadata": {},
   "outputs": [
    {
     "data": {
      "text/plain": [
       "('유효하지 않는 점수 등급', 'D')"
      ]
     },
     "execution_count": 101,
     "metadata": {},
     "output_type": "execute_result"
    }
   ],
   "source": [
    "def score_grade(score):\n",
    "    if 90 <= score <= 100:\n",
    "        return 'A'\n",
    "    elif 80 <= score < 90:\n",
    "        return 'B'\n",
    "    elif 70 <= score < 80:\n",
    "        return 'C'\n",
    "    elif 60 <= score < 70:\n",
    "        return 'D'\n",
    "    elif 0 <= score < 60:\n",
    "        return 'F'\n",
    "    else:\n",
    "        return '유효하지 않는 점수 등급'\n",
    "score_grade(102), score_grade(65)"
   ]
  },
  {
   "cell_type": "code",
   "execution_count": 102,
   "id": "94208324",
   "metadata": {},
   "outputs": [
    {
     "data": {
      "text/plain": [
       "('유효하지 않는 점수 등급', 'D')"
      ]
     },
     "execution_count": 102,
     "metadata": {},
     "output_type": "execute_result"
    }
   ],
   "source": [
    "score_grade = lambda score: 'A' if 90 <= score <= 100\\\n",
    "                      else 'B' if 80 <= score < 90\\\n",
    "                      else 'C' if 70 <= score < 80\\\n",
    "                      else 'D' if 60 <= score < 70\\\n",
    "                      else 'F' if 0 <= score < 60\\\n",
    "                      else '유효하지 않는 점수 등급'\n",
    "score_grade(102), score_grade(65)"
   ]
  },
  {
   "cell_type": "code",
   "execution_count": 103,
   "id": "dc9cefa9",
   "metadata": {},
   "outputs": [
    {
     "name": "stdout",
     "output_type": "stream",
     "text": [
      "[12, 8, 20, 5.0, 100]\n"
     ]
    }
   ],
   "source": [
    "add = lambda a, b: a+b\n",
    "sub = lambda a, b: a-b\n",
    "mul = lambda a, b: a*b\n",
    "div = lambda a, b: a/b if b!=0 else '두번째 인자가 0으로는 못 나눠요'\n",
    "add(3, 0) , div(3, 0)   \n",
    "\n",
    "operations = [add, sub, mul, div]\n",
    "# 매개변수로 함수 list가 옴\n",
    "def act_operations(a, b, operations=operations):\n",
    "    result = []\n",
    "    for op in operations:\n",
    "        result.append(op(a, b))\n",
    "    return result\n",
    "# def pow(a, b):\n",
    "#     return a** b\n",
    "operations.append(lambda a, b : a**b)\n",
    "print(act_operations(10,2))"
   ]
  },
  {
   "cell_type": "code",
   "execution_count": 104,
   "id": "f0f6902d",
   "metadata": {},
   "outputs": [
    {
     "name": "stdout",
     "output_type": "stream",
     "text": [
      "[1, 4, 9]\n",
      "[2]\n"
     ]
    }
   ],
   "source": [
    "# 리스트 컴프리헨션\n",
    "lst = [1, 2, 3]\n",
    "print([l**2 for l in lst])\n",
    "print([l for l in lst if l%2==0])"
   ]
  },
  {
   "cell_type": "code",
   "execution_count": 105,
   "id": "ba1e800b",
   "metadata": {},
   "outputs": [
    {
     "name": "stdout",
     "output_type": "stream",
     "text": [
      "[7, 25]\n",
      "[7, 3, 10, 2.5, 25]\n"
     ]
    }
   ],
   "source": [
    "operations = [add, sub, mul, div]\n",
    "\n",
    "\n",
    "# act_operations의 함수를 리스트컴프리헨션을 이용하여 람다식으로 구현\n",
    "def act_operations(a, b, operations=operations):\n",
    "    return [op(a, b) for op in operations]\n",
    "\n",
    "act_operations = lambda a, b, operations=operations : \\\n",
    "                    [op(a, b) for op in operations]\n",
    "\n",
    "print(act_operations(5, 2, [lambda a, b: a + b, lambda a, b: a**b]))\n",
    "\n",
    "operations.append(lambda a, b: a**b)\n",
    "print(act_operations(5, 2))"
   ]
  },
  {
   "cell_type": "markdown",
   "id": "fc8e8ce5",
   "metadata": {},
   "source": [
    "# 4.2 함수의 매걔변수(인수)에 람다식 사용"
   ]
  },
  {
   "cell_type": "code",
   "execution_count": 106,
   "id": "f8ff9604",
   "metadata": {},
   "outputs": [],
   "source": [
    "map_template = lambda func, L=[] : [func(l) for l in L]"
   ]
  },
  {
   "cell_type": "code",
   "execution_count": 107,
   "id": "dc9288a8",
   "metadata": {},
   "outputs": [],
   "source": [
    "def map_template(func, L=[]):\n",
    "    result = []\n",
    "    for item in L:\n",
    "        result.append(func(item))\n",
    "    return result"
   ]
  },
  {
   "cell_type": "code",
   "execution_count": 108,
   "id": "25bc4e2a",
   "metadata": {},
   "outputs": [
    {
     "data": {
      "text/plain": [
       "[2, 4, 6, 8, 10, 12, 14, 16]"
      ]
     },
     "execution_count": 108,
     "metadata": {},
     "output_type": "execute_result"
    }
   ],
   "source": [
    "list_data = [1, 2, 3, 4, 5, 6, 7, 8]\n",
    "# def x_2(x):\n",
    "#     return x*2\n",
    "# map_template(x_2, list_data)\n",
    "map_template(lambda x: x * 2, list_data)"
   ]
  },
  {
   "cell_type": "code",
   "execution_count": 109,
   "id": "5b1209e7",
   "metadata": {},
   "outputs": [
    {
     "data": {
      "text/plain": [
       "[2, 4, 6, 8, 10, 12, 14, 16]"
      ]
     },
     "execution_count": 109,
     "metadata": {},
     "output_type": "execute_result"
    }
   ],
   "source": [
    "# 리스트 컴프리헨션\n",
    "[x * 2 for x in list_data]"
   ]
  },
  {
   "cell_type": "code",
   "execution_count": 110,
   "id": "4a5d2941",
   "metadata": {},
   "outputs": [
    {
     "data": {
      "text/plain": [
       "[2, 4, 6, 8, 10, 12, 14, 16]"
      ]
     },
     "execution_count": 110,
     "metadata": {},
     "output_type": "execute_result"
    }
   ],
   "source": [
    "list(map(lambda x: x * 2, list_data))"
   ]
  },
  {
   "cell_type": "code",
   "execution_count": 111,
   "id": "5bf2f6ba",
   "metadata": {},
   "outputs": [
    {
     "name": "stdout",
     "output_type": "stream",
     "text": [
      "2 4 6 8 10 12 14 16 "
     ]
    }
   ],
   "source": [
    "for x in map(lambda x: x * 2, list_data):\n",
    "    print(x, end=' ')"
   ]
  },
  {
   "cell_type": "code",
   "execution_count": 112,
   "id": "189d77b5",
   "metadata": {},
   "outputs": [],
   "source": [
    "def filter_template(func, L=[]):\n",
    "    result = []\n",
    "    for item in L:\n",
    "        if func(item):\n",
    "            result.append(item)\n",
    "    return result"
   ]
  },
  {
   "cell_type": "code",
   "execution_count": 113,
   "id": "07687b87",
   "metadata": {},
   "outputs": [
    {
     "data": {
      "text/plain": [
       "[2, 4, 6, 8]"
      ]
     },
     "execution_count": 113,
     "metadata": {},
     "output_type": "execute_result"
    }
   ],
   "source": [
    "def evenChk(value):\n",
    "    return value % 2 == 0\n",
    "\n",
    "\n",
    "#     if value%2==0:\n",
    "#         return True\n",
    "#     else:\n",
    "#         return False\n",
    "\n",
    "list_data = [1, 2, 3, 4, 5, 6, 7, 8]\n",
    "# filter_template(evenChk, list_data)\n",
    "filter_template(lambda x: x % 2 == 0, L=list_data)"
   ]
  },
  {
   "cell_type": "code",
   "execution_count": 114,
   "id": "1a1cf9c9",
   "metadata": {},
   "outputs": [
    {
     "name": "stdout",
     "output_type": "stream",
     "text": [
      "2 4 6 8 "
     ]
    }
   ],
   "source": [
    "# filter 함수 이용\n",
    "for item in filter(lambda x: x % 2 == 0, list_data):\n",
    "    print(item, end=' ')"
   ]
  },
  {
   "cell_type": "code",
   "execution_count": 115,
   "id": "0e8b1e7a",
   "metadata": {},
   "outputs": [
    {
     "data": {
      "text/plain": [
       "[2, 4, 6, 8]"
      ]
     },
     "execution_count": 115,
     "metadata": {},
     "output_type": "execute_result"
    }
   ],
   "source": [
    "# 리스트컴프리헨션 이용\n",
    "[x for x in list_data if x % 2 == 0]"
   ]
  },
  {
   "cell_type": "code",
   "execution_count": 116,
   "id": "c7b98942",
   "metadata": {},
   "outputs": [
    {
     "name": "stdout",
     "output_type": "stream",
     "text": [
      "True\n",
      "True\n",
      "True\n"
     ]
    }
   ],
   "source": [
    "# 예제1 : 다음 리스트에서 소수점이하가 0인 수만 추출하시오\n",
    "# filter 함수, 람다식이용/filter_template / 리스트컴프리헨션\n",
    "L = [1, 1.2, 1.5, 2, 3.0, 10.5, 100]\n",
    "# [1, 2, 3.0, 100]\n",
    "x = 2\n",
    "# print(x.is_integer()) is_integer()\n",
    "print(x % 1.0 == 0)\n",
    "print(x == round(x))\n",
    "print(x == x // 1)"
   ]
  },
  {
   "cell_type": "code",
   "execution_count": 117,
   "id": "8846c19f",
   "metadata": {},
   "outputs": [
    {
     "name": "stdout",
     "output_type": "stream",
     "text": [
      "[1, 2, 3.0, 100]\n",
      "[1, 2, 3.0, 100]\n",
      "[1, 2, 3.0, 100]\n",
      "[1, 2, 3.0, 100]\n",
      "[1, 2, 3.0, 100]\n"
     ]
    }
   ],
   "source": [
    "# 1. filter함수 이용\n",
    "print(list(filter(lambda x: x == round(x), L)))\n",
    "print(list(filter(lambda x: x % 1.0 == 0, L)))\n",
    "print(list(filter(lambda x: x == x // 1, L)))\n",
    "# 2. filter_template 함수\n",
    "print(filter_template(lambda x: x == round(x), L))\n",
    "# 3. 리스트 컴프리헨션 이용\n",
    "print([x for x in L if x == round(x)])"
   ]
  },
  {
   "cell_type": "markdown",
   "id": "129b44d8",
   "metadata": {},
   "source": [
    "**람다식은 함수가 실행할 문장이 한문장의 return문일 경우만 사용**<br>\n",
    "**람다식이 가장 많이 사용되는 곳은 함수의 인수로 전달될 때** 나 함수를 return할 때"
   ]
  },
  {
   "cell_type": "code",
   "execution_count": 118,
   "id": "f5a22955",
   "metadata": {},
   "outputs": [
    {
     "data": {
      "text/plain": [
       "[10, 6, 3, 1]"
      ]
     },
     "execution_count": 118,
     "metadata": {},
     "output_type": "execute_result"
    }
   ],
   "source": [
    "# 예제2 : 베스트셀러 list(딕셔너리 리스트)를 가격순으로 sort\n",
    "p = [10, 3, 6, 1]\n",
    "p.sort(reverse=True) # 내림차순 정렬\n",
    "p"
   ]
  },
  {
   "cell_type": "code",
   "execution_count": 119,
   "id": "124d4787",
   "metadata": {},
   "outputs": [
    {
     "data": {
      "text/plain": [
       "[(1, 'one'), (2, 'two'), (3, 'three'), (4, 'four')]"
      ]
     },
     "execution_count": 119,
     "metadata": {},
     "output_type": "execute_result"
    }
   ],
   "source": [
    "pairs = [(2, 'two'), (1, 'one'), (4, 'four'), (3, 'three')]\n",
    "pairs.sort()\n",
    "pairs"
   ]
  },
  {
   "cell_type": "code",
   "execution_count": 120,
   "id": "37b02644",
   "metadata": {},
   "outputs": [
    {
     "data": {
      "text/plain": [
       "[(2, 'two'), (3, 'three'), (1, 'one'), (4, 'four')]"
      ]
     },
     "execution_count": 120,
     "metadata": {},
     "output_type": "execute_result"
    }
   ],
   "source": [
    "pairs.sort(key=lambda pair : pair[1], reverse=True)\n",
    "pairs"
   ]
  },
  {
   "cell_type": "code",
   "execution_count": 121,
   "id": "d05eab1f",
   "metadata": {},
   "outputs": [],
   "source": [
    "students = [{'name':'홍', 'score':99},\n",
    "           {'name':'김', 'score':22},\n",
    "           {'name':'이', 'score':77},\n",
    "           {'name':'박', 'score':66},]"
   ]
  },
  {
   "cell_type": "code",
   "execution_count": 122,
   "id": "7e225b39",
   "metadata": {},
   "outputs": [
    {
     "data": {
      "text/plain": [
       "[{'name': '김', 'score': 22},\n",
       " {'name': '박', 'score': 66},\n",
       " {'name': '이', 'score': 77},\n",
       " {'name': '홍', 'score': 99}]"
      ]
     },
     "execution_count": 122,
     "metadata": {},
     "output_type": "execute_result"
    }
   ],
   "source": [
    "# students를 이름 ㄱㄴㄷ순으로 정렬\n",
    "students.sort(key=lambda students : students['name'])\n",
    "students"
   ]
  },
  {
   "cell_type": "code",
   "execution_count": 123,
   "id": "7037c1f9",
   "metadata": {},
   "outputs": [
    {
     "data": {
      "text/plain": [
       "[{'name': '김', 'score': 22},\n",
       " {'name': '박', 'score': 66},\n",
       " {'name': '이', 'score': 77},\n",
       " {'name': '홍', 'score': 99}]"
      ]
     },
     "execution_count": 123,
     "metadata": {},
     "output_type": "execute_result"
    }
   ],
   "source": [
    "# students를 score순 오름차순 정렬\n",
    "students.sort(key=lambda students : students['score'])\n",
    "students"
   ]
  },
  {
   "cell_type": "code",
   "execution_count": 124,
   "id": "b770f16a",
   "metadata": {},
   "outputs": [
    {
     "data": {
      "text/plain": [
       "[{'name': '홍', 'score': 99},\n",
       " {'name': '이', 'score': 77},\n",
       " {'name': '박', 'score': 66},\n",
       " {'name': '김', 'score': 22}]"
      ]
     },
     "execution_count": 124,
     "metadata": {},
     "output_type": "execute_result"
    }
   ],
   "source": [
    "# students를 score순 내림차순 정렬\n",
    "students.sort(key=lambda students : students['score'], reverse=True)\n",
    "students"
   ]
  },
  {
   "cell_type": "code",
   "execution_count": 125,
   "id": "0e8ab110",
   "metadata": {},
   "outputs": [],
   "source": [
    "books = [\n",
    "    {\n",
    "        'no': 1,\n",
    "        'title': '소년이 온다',\n",
    "        'writer': '한강',\n",
    "        'price': '13,500'\n",
    "    },\n",
    "    {\n",
    "        'no': 3,\n",
    "        'title': '트럼프2.0시대',\n",
    "        'writer': '박종훈',\n",
    "        'price': '18,000'\n",
    "    },\n",
    "    {\n",
    "        'no': 2,\n",
    "        'title': '트렌드코리아2025',\n",
    "        'writer': '김난도',\n",
    "        'price': '9,100'\n",
    "    },\n",
    "    {\n",
    "        'no': 4,\n",
    "        'title': '가격잘못',\n",
    "        'writer': '홍길동',\n",
    "        'price': 'ㅁ'\n",
    "    },\n",
    "    {\n",
    "        'no': 5,\n",
    "        'title': '가격이없음',\n",
    "        'writer': '신길동',\n",
    "        'price': 'None예정'\n",
    "    },\n",
    "]"
   ]
  },
  {
   "cell_type": "code",
   "execution_count": 126,
   "id": "89df9476",
   "metadata": {},
   "outputs": [
    {
     "data": {
      "text/plain": [
       "[{'no': 1, 'title': '소년이 온다', 'writer': '한강', 'price': '13,500'},\n",
       " {'no': 2, 'title': '트렌드코리아2025', 'writer': '김난도', 'price': '9,100'},\n",
       " {'no': 3, 'title': '트럼프2.0시대', 'writer': '박종훈', 'price': '18,000'},\n",
       " {'no': 4, 'title': '가격잘못', 'writer': '홍길동', 'price': 'ㅁ'},\n",
       " {'no': 5, 'title': '가격이없음', 'writer': '신길동', 'price': 'None예정'}]"
      ]
     },
     "execution_count": 126,
     "metadata": {},
     "output_type": "execute_result"
    }
   ],
   "source": [
    "books.sort(key=lambda book: book['no'])\n",
    "books"
   ]
  },
  {
   "cell_type": "code",
   "execution_count": 127,
   "id": "7e69037b",
   "metadata": {},
   "outputs": [
    {
     "data": {
      "text/plain": [
       "[{'no': 5, 'title': '가격이없음', 'writer': '신길동', 'price': 'None예정'},\n",
       " {'no': 4, 'title': '가격잘못', 'writer': '홍길동', 'price': 'ㅁ'},\n",
       " {'no': 1, 'title': '소년이 온다', 'writer': '한강', 'price': '13,500'},\n",
       " {'no': 3, 'title': '트럼프2.0시대', 'writer': '박종훈', 'price': '18,000'},\n",
       " {'no': 2, 'title': '트렌드코리아2025', 'writer': '김난도', 'price': '9,100'}]"
      ]
     },
     "execution_count": 127,
     "metadata": {},
     "output_type": "execute_result"
    }
   ],
   "source": [
    "books.sort(key=lambda book: book['title'])\n",
    "books"
   ]
  },
  {
   "cell_type": "code",
   "execution_count": 128,
   "id": "a57d3cca",
   "metadata": {},
   "outputs": [
    {
     "data": {
      "text/plain": [
       "[{'no': 2, 'title': '트렌드코리아2025', 'writer': '김난도', 'price': '9,100'},\n",
       " {'no': 3, 'title': '트럼프2.0시대', 'writer': '박종훈', 'price': '18,000'},\n",
       " {'no': 5, 'title': '가격이없음', 'writer': '신길동', 'price': 'None예정'},\n",
       " {'no': 1, 'title': '소년이 온다', 'writer': '한강', 'price': '13,500'},\n",
       " {'no': 4, 'title': '가격잘못', 'writer': '홍길동', 'price': 'ㅁ'}]"
      ]
     },
     "execution_count": 128,
     "metadata": {},
     "output_type": "execute_result"
    }
   ],
   "source": [
    "books.sort(key=lambda book: book['writer'])\n",
    "books"
   ]
  },
  {
   "cell_type": "code",
   "execution_count": 129,
   "id": "96ba704f",
   "metadata": {},
   "outputs": [
    {
     "data": {
      "text/plain": [
       "[{'no': 4, 'title': '가격잘못', 'writer': '홍길동', 'price': 'ㅁ'},\n",
       " {'no': 5, 'title': '가격이없음', 'writer': '신길동', 'price': 'None예정'},\n",
       " {'no': 2, 'title': '트렌드코리아2025', 'writer': '김난도', 'price': '9,100'},\n",
       " {'no': 3, 'title': '트럼프2.0시대', 'writer': '박종훈', 'price': '18,000'},\n",
       " {'no': 1, 'title': '소년이 온다', 'writer': '한강', 'price': '13,500'}]"
      ]
     },
     "execution_count": 129,
     "metadata": {},
     "output_type": "execute_result"
    }
   ],
   "source": [
    "books.sort(key=lambda book: book['price'], reverse=True)\n",
    "books"
   ]
  },
  {
   "cell_type": "code",
   "execution_count": 130,
   "id": "97ff2a33",
   "metadata": {},
   "outputs": [],
   "source": [
    "books = [\n",
    "    {\n",
    "        'no': 1,\n",
    "        'title': '소년이 온다',\n",
    "        'writer': '한강',\n",
    "        'price': '13,500'\n",
    "    },\n",
    "    {\n",
    "        'no': 3,\n",
    "        'title': '트럼프2.0시대',\n",
    "        'writer': '박종훈',\n",
    "        'price': '18,000'\n",
    "    },\n",
    "    {\n",
    "        'no': 2,\n",
    "        'title': '트렌드코리아2025',\n",
    "        'writer': '김난도',\n",
    "        'price': '9,100'\n",
    "    },\n",
    "    {\n",
    "        'no': 4,\n",
    "        'title': '가격잘못',\n",
    "        'writer': '홍길동',\n",
    "        'price': 'ㅁ'\n",
    "    },\n",
    "    {\n",
    "        'no': 6,\n",
    "        'title': '가격이숫자',\n",
    "        'writer': '신길동',\n",
    "        'price': 9200\n",
    "    },\n",
    "    {\n",
    "        'no': 5,\n",
    "        'title': '가격이없음',\n",
    "        'writer': '이길동',\n",
    "    },\n",
    "]"
   ]
  },
  {
   "cell_type": "code",
   "execution_count": 131,
   "id": "7f65fb5f",
   "metadata": {},
   "outputs": [
    {
     "ename": "TypeError",
     "evalue": "'<' not supported between instances of 'int' and 'str'",
     "output_type": "error",
     "traceback": [
      "\u001b[1;31m---------------------------------------------------------------------------\u001b[0m",
      "\u001b[1;31mTypeError\u001b[0m                                 Traceback (most recent call last)",
      "Cell \u001b[1;32mIn[131], line 1\u001b[0m\n\u001b[1;32m----> 1\u001b[0m \u001b[43mbooks\u001b[49m\u001b[38;5;241;43m.\u001b[39;49m\u001b[43msort\u001b[49m\u001b[43m(\u001b[49m\u001b[43mkey\u001b[49m\u001b[38;5;241;43m=\u001b[39;49m\u001b[38;5;28;43;01mlambda\u001b[39;49;00m\u001b[43m \u001b[49m\u001b[43mbook\u001b[49m\u001b[43m:\u001b[49m\u001b[43m \u001b[49m\u001b[43mbook\u001b[49m\u001b[38;5;241;43m.\u001b[39;49m\u001b[43mget\u001b[49m\u001b[43m(\u001b[49m\u001b[38;5;124;43m'\u001b[39;49m\u001b[38;5;124;43mprice\u001b[39;49m\u001b[38;5;124;43m'\u001b[39;49m\u001b[43m)\u001b[49m\u001b[43m)\u001b[49m\n\u001b[0;32m      2\u001b[0m books\n",
      "\u001b[1;31mTypeError\u001b[0m: '<' not supported between instances of 'int' and 'str'"
     ]
    }
   ],
   "source": [
    "books.sort(key=lambda book: book.get('price'))\n",
    "books"
   ]
  },
  {
   "cell_type": "code",
   "execution_count": 132,
   "id": "dfebfd2c",
   "metadata": {},
   "outputs": [],
   "source": [
    "# & : 논리연산, 비트연산, 집합연산이 모두 가능하므로, 좌항이 False여도, \n",
    "     # 우항이 숫자면 비트연산을 수행해야 하므로 우항을 수행\n",
    "# and : 논리연산의 역할만 하여, 좌항이 False면 우항 수행 안 함.\n",
    "def parse_int(price):\n",
    "    # print(type(price))\n",
    "    if isinstance(price, str) and price.replace(',','').isdigit():\n",
    "        return int(price.replace(',',''))\n",
    "    elif isinstance(price, int):\n",
    "        return price\n",
    "    else:\n",
    "        return 0"
   ]
  },
  {
   "cell_type": "code",
   "execution_count": 133,
   "id": "f11719be",
   "metadata": {},
   "outputs": [
    {
     "name": "stdout",
     "output_type": "stream",
     "text": [
      "0\n",
      "0\n",
      "9200\n",
      "13500\n"
     ]
    }
   ],
   "source": [
    "print(parse_int('ㅁ')) # 0\n",
    "print(parse_int(None)) # 0\n",
    "print(parse_int(9200)) # 9200\n",
    "print(parse_int('13,500')) # 13,500"
   ]
  },
  {
   "cell_type": "code",
   "execution_count": 134,
   "id": "9bd05ba3",
   "metadata": {},
   "outputs": [],
   "source": [
    "books = \\\n",
    "   [{'no':1, 'title':'소년이 온다', 'writer':'한강','price':'13,500'},\n",
    "    {'no':3, 'title':'트럼프2.0시대', 'writer':'박종훈', 'price':'18,000'},\n",
    "    {'no':2, 'title':'트렌드코리아2025', 'writer':'김난도', 'price':'9,100'},\n",
    "    {'no':4, 'title':'가격잘못', 'writer':'홍길동', 'price':'ㅁ'},\n",
    "    {'no':6, 'title':'가격이숫자', 'writer':'신길동', 'price':9200},\n",
    "    {'no':5, 'title':'가격이없음', 'writer':'이길동'},]"
   ]
  },
  {
   "cell_type": "code",
   "execution_count": 135,
   "id": "1b16b56a",
   "metadata": {},
   "outputs": [
    {
     "data": {
      "text/plain": [
       "[13500, 18000, 9100, 0, 9200, 0]"
      ]
     },
     "execution_count": 135,
     "metadata": {},
     "output_type": "execute_result"
    }
   ],
   "source": [
    "testFunc = lambda book : int(book.get('price').replace(',',''))\\\n",
    "if isinstance(book.get('price'), str) and \\\n",
    "book.get('price').replace(',','').isdigit()\\\n",
    "else (book.get('price') if isinstance(book.get('price'),int)\\\n",
    "      else 0)\n",
    "[testFunc(book) for book in books]"
   ]
  },
  {
   "cell_type": "code",
   "execution_count": 136,
   "id": "591a0e4a",
   "metadata": {},
   "outputs": [
    {
     "data": {
      "text/plain": [
       "[{'no': 3, 'title': '트럼프2.0시대', 'writer': '박종훈', 'price': '18,000'},\n",
       " {'no': 1, 'title': '소년이 온다', 'writer': '한강', 'price': '13,500'},\n",
       " {'no': 6, 'title': '가격이숫자', 'writer': '신길동', 'price': 9200},\n",
       " {'no': 2, 'title': '트렌드코리아2025', 'writer': '김난도', 'price': '9,100'},\n",
       " {'no': 4, 'title': '가격잘못', 'writer': '홍길동', 'price': 'ㅁ'},\n",
       " {'no': 5, 'title': '가격이없음', 'writer': '이길동'}]"
      ]
     },
     "execution_count": 136,
     "metadata": {},
     "output_type": "execute_result"
    }
   ],
   "source": [
    "copyBooks = books.copy()\n",
    "copyBooks.sort(key=lambda book : int(book.get('price').replace(',',''))              \n",
    "               if isinstance(book.get('price'), str)\n",
    "               and book.get('price').replace(',','').isdigit()\n",
    "               else (book.get('price') if isinstance(book.get('price'),int) else 0), reverse=True\n",
    "              )\n",
    "copyBooks"
   ]
  },
  {
   "cell_type": "code",
   "execution_count": 137,
   "id": "e8ea401a",
   "metadata": {},
   "outputs": [
    {
     "data": {
      "text/plain": [
       "\"\\n{'no': 3, 'title': '트럼프', 'writer': '박', 'price': '8,000'} 를 매개변수로 받아\\n{'no': 3, 'title': '트럼프', 'writer': '박', 'price': 8000}로 return\\n\""
      ]
     },
     "execution_count": 137,
     "metadata": {},
     "output_type": "execute_result"
    }
   ],
   "source": [
    "# map(func, books)\n",
    "'''\n",
    "{'no': 3, 'title': '트럼프', 'writer': '박', 'price': '8,000'} 를 매개변수로 받아\n",
    "{'no': 3, 'title': '트럼프', 'writer': '박', 'price': 8000}로 return\n",
    "'''"
   ]
  },
  {
   "cell_type": "code",
   "execution_count": 139,
   "id": "25956431",
   "metadata": {},
   "outputs": [],
   "source": [
    "def price_parse_int(book):\n",
    "    # book.get('price')를 정수 가격으로 바꾸기(방법1)\n",
    "    if isinstance(book.get('price'), str) and book.get('price').replace(',','').isdigit():\n",
    "        book['price'] = int(book['price'].replace(',',''))\n",
    "    elif isinstance(book.get('price'),int):\n",
    "        pass\n",
    "    else:\n",
    "        book['price'] = 0\n",
    "    return book\n",
    "    # book2 복사본을 만들어 books.get('price')를 정수 가격으로 바꾸기(방법2)\n",
    "    # return book2"
   ]
  },
  {
   "cell_type": "code",
   "execution_count": 152,
   "id": "8e51395f",
   "metadata": {},
   "outputs": [],
   "source": [
    "def price_parse_int(book):\n",
    "    return {'no':book.get('no'),\n",
    "            'title':book.get('title'),\n",
    "            'writer':book.get('writer'),\n",
    "            'price':int(book['price'].replace(',',''))\n",
    "            if isinstance(book.get('price'),str)\n",
    "            and book.get('price').replace(',','').isdigit()\n",
    "            else (book.get('price')\n",
    "                  if isinstance(book.get('price'),int)\n",
    "                 else 0)\n",
    "           }"
   ]
  },
  {
   "cell_type": "code",
   "execution_count": 161,
   "id": "9e1c2a27",
   "metadata": {},
   "outputs": [],
   "source": [
    "price_parse_int = lambda book : {'no':book.get('no'),\n",
    "            'title':book.get('title'),\n",
    "            'writer':book.get('writer'),\n",
    "            'price':int(book['price'].replace(',',''))\n",
    "            if isinstance(book.get('price'),str)\n",
    "            and book.get('price').replace(',','').isdigit()\n",
    "            else (book.get('price')\n",
    "                  if isinstance(book.get('price'),int)\n",
    "                 else 0)\n",
    "           }"
   ]
  },
  {
   "cell_type": "code",
   "execution_count": 163,
   "id": "f23e71f6",
   "metadata": {},
   "outputs": [
    {
     "data": {
      "text/plain": [
       "{'no': 3, 'title': '트럼프', 'writer': '박', 'price': 8000}"
      ]
     },
     "execution_count": 163,
     "metadata": {},
     "output_type": "execute_result"
    }
   ],
   "source": [
    "bookTemp = {'no': 3, 'title': '트럼프', 'writer': '박', 'price': '8,000'}\n",
    "returnBook = price_parse_int(bookTemp)\n",
    "returnBook"
   ]
  },
  {
   "cell_type": "code",
   "execution_count": 164,
   "id": "e16dcfd6",
   "metadata": {},
   "outputs": [
    {
     "data": {
      "text/plain": [
       "{'no': 3, 'title': '트럼프', 'writer': '박', 'price': '8,000'}"
      ]
     },
     "execution_count": 164,
     "metadata": {},
     "output_type": "execute_result"
    }
   ],
   "source": [
    "bookTemp"
   ]
  },
  {
   "cell_type": "code",
   "execution_count": 167,
   "id": "425cc05c",
   "metadata": {},
   "outputs": [],
   "source": [
    "newBooks = list(map(lambda book : {'no':book.get('no'),\n",
    "            'title':book.get('title'),\n",
    "            'writer':book.get('writer'),\n",
    "            'price':int(book['price'].replace(',',''))\n",
    "            if isinstance(book.get('price'),str)\n",
    "            and book.get('price').replace(',','').isdigit()\n",
    "            else (book.get('price')\n",
    "                  if isinstance(book.get('price'),int)\n",
    "                 else 0)\n",
    "          },\n",
    "         books\n",
    "        ))"
   ]
  },
  {
   "cell_type": "code",
   "execution_count": 168,
   "id": "030a4565",
   "metadata": {},
   "outputs": [
    {
     "data": {
      "text/plain": [
       "[{'no': 1, 'title': '소년이 온다', 'writer': '한강', 'price': 13500},\n",
       " {'no': 3, 'title': '트럼프2.0시대', 'writer': '박종훈', 'price': 18000},\n",
       " {'no': 2, 'title': '트렌드코리아2025', 'writer': '김난도', 'price': 9100},\n",
       " {'no': 4, 'title': '가격잘못', 'writer': '홍길동', 'price': 0},\n",
       " {'no': 6, 'title': '가격이숫자', 'writer': '신길동', 'price': 9200},\n",
       " {'no': 5, 'title': '가격이없음', 'writer': '이길동', 'price': 0}]"
      ]
     },
     "execution_count": 168,
     "metadata": {},
     "output_type": "execute_result"
    }
   ],
   "source": [
    "newBooks"
   ]
  },
  {
   "cell_type": "code",
   "execution_count": 189,
   "id": "77571434",
   "metadata": {
    "collapsed": true
   },
   "outputs": [
    {
     "data": {
      "text/plain": [
       "\"\\n예제3. members = [{'name':'홍길동', 'birth':'2000-01-01'},\\n                {'name':'신길동', 'birth':'1995-12-18'},]를\\n    members = [\\n    {'name':'홍길동', 'birth':'2000-01-01','year':2000, 'month':1,'day':1},\\n{'name':'신길동', 'birth':'1995-12-18', 'year':1995, 'month':12, 'day':18},]\\n로 바꿉니다\\n\""
      ]
     },
     "execution_count": 189,
     "metadata": {},
     "output_type": "execute_result"
    }
   ],
   "source": [
    "'''\n",
    "예제3. members1 = [{'name':'홍길동', 'birth':'2000-01-01'},\n",
    "                {'name':'신길동', 'birth':'1995-12-18'},]를\n",
    "    members2 = [\n",
    "    {'name':'홍길동', 'year':2000, 'month':1,'day':1},\n",
    "    {'name':'신길동', 'year':1995, 'month':12, 'day':18},]\n",
    "로 바꿉니다\n",
    "'''"
   ]
  },
  {
   "cell_type": "code",
   "execution_count": 221,
   "id": "3d5723de",
   "metadata": {},
   "outputs": [],
   "source": [
    "members1 = [{'name':'홍길동', 'birth':'2000-01-01'},\n",
    "           {'name':'신길동', 'birth':'1995-12-18'},]"
   ]
  },
  {
   "cell_type": "code",
   "execution_count": 222,
   "id": "8d675b1d",
   "metadata": {},
   "outputs": [],
   "source": [
    "# '1995-01-01'을 받아 {'year':1995, 'month':1,'day':1}을 return하는 함수 \n",
    "def split_date(date):\n",
    "    split_data = date.split('-')\n",
    "    return {'year':int(split_data[0]),\n",
    "            'month':int(split_data[1]),\n",
    "            'day':int(split_data[2])}"
   ]
  },
  {
   "cell_type": "code",
   "execution_count": 223,
   "id": "678f5c2b",
   "metadata": {},
   "outputs": [
    {
     "data": {
      "text/plain": [
       "{'year': 2001, 'month': 1, 'day': 8}"
      ]
     },
     "execution_count": 223,
     "metadata": {},
     "output_type": "execute_result"
    }
   ],
   "source": [
    "split_date('2001-01-08')"
   ]
  },
  {
   "cell_type": "code",
   "execution_count": 224,
   "id": "ffc525bc",
   "metadata": {},
   "outputs": [],
   "source": [
    "def split_birth(member): # 'name','birth'\n",
    "    return {\n",
    "        'name':member.get('name'),\n",
    "        'year':int(member.get('birth').split('-')[0]),\n",
    "        'month':int(member.get('birth').split('-')[1]),\n",
    "        'day':int(member.get('birth').split('-')[2])\n",
    "    }"
   ]
  },
  {
   "cell_type": "code",
   "execution_count": 225,
   "id": "10c4ff53",
   "metadata": {},
   "outputs": [],
   "source": [
    "split_birth = lambda member : {\n",
    "                    'name':member['name'],\n",
    "                    'year':int(member['birth'].split('-')[0]),\n",
    "                    'month':int(member['birth'].split('-')[1]),\n",
    "                    'day':int(member['birth'].split('-')[2]),\n",
    "                }"
   ]
  },
  {
   "cell_type": "code",
   "execution_count": 226,
   "id": "624c0c53",
   "metadata": {},
   "outputs": [
    {
     "data": {
      "text/plain": [
       "{'name': '홍길동', 'year': 1999, 'month': 12, 'day': 16}"
      ]
     },
     "execution_count": 226,
     "metadata": {},
     "output_type": "execute_result"
    }
   ],
   "source": [
    "split_birth({'name':'홍길동','birth':'1999-12-16'})"
   ]
  },
  {
   "cell_type": "code",
   "execution_count": 227,
   "id": "1b5ca453",
   "metadata": {},
   "outputs": [
    {
     "data": {
      "text/plain": [
       "[{'name': '홍길동', 'year': 2000, 'month': 1, 'day': 1},\n",
       " {'name': '신길동', 'year': 1995, 'month': 12, 'day': 18}]"
      ]
     },
     "execution_count": 227,
     "metadata": {},
     "output_type": "execute_result"
    }
   ],
   "source": [
    "members2= list(map(lambda member : {\n",
    "                    'name':member['name'],\n",
    "                    'year':int(member['birth'].split('-')[0]),\n",
    "                    'month':int(member['birth'].split('-')[1]),\n",
    "                    'day':int(member['birth'].split('-')[2]),\n",
    "                }, members1))\n",
    "members2"
   ]
  },
  {
   "cell_type": "code",
   "execution_count": 228,
   "id": "d9e58e54",
   "metadata": {},
   "outputs": [],
   "source": [
    "def join_date(date): # {'year': 1995, 'month': 12, 'day': 18} => \"1995-12-18\"\n",
    "    return '{year}-{month:02}-{day:02}'.format(**date)"
   ]
  },
  {
   "cell_type": "code",
   "execution_count": 229,
   "id": "7e3bad00",
   "metadata": {},
   "outputs": [
    {
     "data": {
      "text/plain": [
       "'1995-01-01'"
      ]
     },
     "execution_count": 229,
     "metadata": {},
     "output_type": "execute_result"
    }
   ],
   "source": [
    "join_date({'year': 1995, 'month': 1, 'day': 1} )"
   ]
  },
  {
   "cell_type": "code",
   "execution_count": 230,
   "id": "3c78648e",
   "metadata": {},
   "outputs": [],
   "source": [
    "def join_birth(member):\n",
    "    name = member['name']\n",
    "    join_date = '{year}-{month:02}-{day:02}'.format(**member)\n",
    "    return {'name':name,\n",
    "           'birth':join_date}"
   ]
  },
  {
   "cell_type": "code",
   "execution_count": 231,
   "id": "65afc64d",
   "metadata": {},
   "outputs": [
    {
     "data": {
      "text/plain": [
       "{'name': 'kim', 'birth': '1995-01-02'}"
      ]
     },
     "execution_count": 231,
     "metadata": {},
     "output_type": "execute_result"
    }
   ],
   "source": [
    "join_birth({'name':'kim','year':1995, 'month':1, 'day':2})"
   ]
  },
  {
   "cell_type": "code",
   "execution_count": 233,
   "id": "d0b43be1",
   "metadata": {},
   "outputs": [
    {
     "data": {
      "text/plain": [
       "[{'name': '홍길동', 'birth': '2000-01-01'},\n",
       " {'name': '신길동', 'birth': '1995-12-18'}]"
      ]
     },
     "execution_count": 233,
     "metadata": {},
     "output_type": "execute_result"
    }
   ],
   "source": [
    "members1 = list(map(join_birth, members2))\n",
    "members1"
   ]
  },
  {
   "cell_type": "markdown",
   "id": "dd302a99",
   "metadata": {},
   "source": [
    "## 4.3 return문에 람다식 사용"
   ]
  },
  {
   "cell_type": "code",
   "execution_count": 236,
   "id": "c2bf8531",
   "metadata": {},
   "outputs": [],
   "source": [
    "# 매개변수에 함수를 사용\n",
    "def apply(data, func=None):\n",
    "#     if func == None:\n",
    "    if func is None:\n",
    "        return data\n",
    "    else:\n",
    "        return func(data)"
   ]
  },
  {
   "cell_type": "code",
   "execution_count": 237,
   "id": "ea98e52c",
   "metadata": {},
   "outputs": [
    {
     "name": "stdout",
     "output_type": "stream",
     "text": [
      "2\n",
      "8\n"
     ]
    }
   ],
   "source": [
    "print(apply(2))\n",
    "print(apply(2, lambda x:x**3))"
   ]
  },
  {
   "cell_type": "code",
   "execution_count": 238,
   "id": "bc4c895c",
   "metadata": {},
   "outputs": [],
   "source": [
    "# 함수를 return\n",
    "'''\n",
    "make_box([2,3]) => 2차원 2행 3열짜리 list를 만드는 함수를 return\n",
    "    fun = make_box([2,3])\n",
    "    fun(5) -> [[5, 5, 5],\n",
    "                [5, 5, 5]]\n",
    "make_box((2,)) => 1차원 2열짜리 list를 만드는 함수를 return\n",
    "    fun = make_box([2])\n",
    "    fun(7) => [7,7]\n",
    "'''\n",
    "\n",
    "\n",
    "def make_box(shape):  # [x], [x,y]\n",
    "    def box(init_value):\n",
    "        if len(shape) == 1:\n",
    "            return [init_value] * shape[0]\n",
    "        elif len(shape) == 2:\n",
    "            return [[init_value] * shape[1]] * shape[0]\n",
    "\n",
    "    return box"
   ]
  },
  {
   "cell_type": "code",
   "execution_count": 246,
   "id": "ac75a04d",
   "metadata": {},
   "outputs": [],
   "source": [
    "def make_box(shape):\n",
    "    if len(shape) == 1:\n",
    "        return lambda init_value: [init_value] * shape[0]\n",
    "    elif len(shape) == 2:\n",
    "        return lambda init_value: [[init_value] * shape[1]] * shape[0]"
   ]
  },
  {
   "cell_type": "code",
   "execution_count": 240,
   "id": "cabfd569",
   "metadata": {},
   "outputs": [
    {
     "data": {
      "text/plain": [
       "[5, 5, 5]"
      ]
     },
     "execution_count": 240,
     "metadata": {},
     "output_type": "execute_result"
    }
   ],
   "source": [
    "line_fun = make_box((3, ))\n",
    "line_fun(5)"
   ]
  },
  {
   "cell_type": "code",
   "execution_count": 241,
   "id": "4c25a4b4",
   "metadata": {},
   "outputs": [
    {
     "data": {
      "text/plain": [
       "[[5, 5, 5], [5, 5, 5], [5, 5, 5], [5, 5, 5]]"
      ]
     },
     "execution_count": 241,
     "metadata": {},
     "output_type": "execute_result"
    }
   ],
   "source": [
    "box2d_fun = make_box((4, 3))\n",
    "box2d_fun(5)"
   ]
  },
  {
   "cell_type": "markdown",
   "id": "dfa98d43",
   "metadata": {},
   "source": [
    "# 5절. 파이썬 내장함수\n",
    "- import하지 않고 바로 사용 가능한 함수\n",
    "- 키워드처럼 간주되므로, 식별자로 사용하는 것을 피한다"
   ]
  },
  {
   "cell_type": "code",
   "execution_count": 252,
   "id": "c37038c1",
   "metadata": {},
   "outputs": [
    {
     "ename": "ValueError",
     "evalue": "invalid literal for int() with base 10: ''",
     "output_type": "error",
     "traceback": [
      "\u001b[1;31m---------------------------------------------------------------------------\u001b[0m",
      "\u001b[1;31mValueError\u001b[0m                                Traceback (most recent call last)",
      "Cell \u001b[1;32mIn[252], line 1\u001b[0m\n\u001b[1;32m----> 1\u001b[0m \u001b[38;5;28;43mint\u001b[39;49m\u001b[43m(\u001b[49m\u001b[38;5;124;43m'\u001b[39;49m\u001b[38;5;124;43m'\u001b[39;49m\u001b[43m)\u001b[49m\n",
      "\u001b[1;31mValueError\u001b[0m: invalid literal for int() with base 10: ''"
     ]
    }
   ],
   "source": [
    "int('')"
   ]
  },
  {
   "cell_type": "code",
   "execution_count": 256,
   "id": "50c30bf1",
   "metadata": {},
   "outputs": [],
   "source": [
    "# abc(7)\n",
    "def abc(n):\n",
    "    L = []\n",
    "    for i in range(n):\n",
    "        L.append(i)\n",
    "    print(locals()) # 지역변수들을 출력\n",
    "    return L"
   ]
  },
  {
   "cell_type": "code",
   "execution_count": 257,
   "id": "af65c652",
   "metadata": {},
   "outputs": [
    {
     "name": "stdout",
     "output_type": "stream",
     "text": [
      "{'n': 7, 'L': [0, 1, 2, 3, 4, 5, 6], 'i': 6}\n"
     ]
    },
    {
     "data": {
      "text/plain": [
       "[0, 1, 2, 3, 4, 5, 6]"
      ]
     },
     "execution_count": 257,
     "metadata": {},
     "output_type": "execute_result"
    }
   ],
   "source": [
    "abc(7)"
   ]
  },
  {
   "cell_type": "code",
   "execution_count": 258,
   "id": "faf71835",
   "metadata": {},
   "outputs": [
    {
     "data": {
      "text/plain": [
       "True"
      ]
     },
     "execution_count": 258,
     "metadata": {},
     "output_type": "execute_result"
    }
   ],
   "source": [
    "isinstance(3.5,float)"
   ]
  },
  {
   "cell_type": "code",
   "execution_count": 259,
   "id": "aff3f69f",
   "metadata": {},
   "outputs": [],
   "source": [
    "class Person:\n",
    "    def __init__(self, name, age):\n",
    "        self.name = name\n",
    "        self.age = age\n",
    "    def print_info(self):\n",
    "        print(\"이름은 {}, 나이는 {}살\".format(self.name, self.age))"
   ]
  },
  {
   "cell_type": "code",
   "execution_count": 260,
   "id": "51164167",
   "metadata": {},
   "outputs": [
    {
     "name": "stdout",
     "output_type": "stream",
     "text": [
      "이름은 홍길동, 나이는 30살\n"
     ]
    }
   ],
   "source": [
    "p = Person('홍길동', 30)\n",
    "p.print_info()"
   ]
  },
  {
   "cell_type": "code",
   "execution_count": 265,
   "id": "ecbfed44",
   "metadata": {},
   "outputs": [
    {
     "data": {
      "text/plain": [
       "['__class__',\n",
       " '__delattr__',\n",
       " '__dict__',\n",
       " '__dir__',\n",
       " '__doc__',\n",
       " '__eq__',\n",
       " '__format__',\n",
       " '__ge__',\n",
       " '__getattribute__',\n",
       " '__gt__',\n",
       " '__hash__',\n",
       " '__init__',\n",
       " '__init_subclass__',\n",
       " '__le__',\n",
       " '__lt__',\n",
       " '__module__',\n",
       " '__ne__',\n",
       " '__new__',\n",
       " '__reduce__',\n",
       " '__reduce_ex__',\n",
       " '__repr__',\n",
       " '__setattr__',\n",
       " '__sizeof__',\n",
       " '__str__',\n",
       " '__subclasshook__',\n",
       " '__weakref__',\n",
       " 'print_info']"
      ]
     },
     "execution_count": 265,
     "metadata": {},
     "output_type": "execute_result"
    }
   ],
   "source": [
    "dir(Person)"
   ]
  },
  {
   "cell_type": "code",
   "execution_count": null,
   "id": "77c925e3",
   "metadata": {},
   "outputs": [],
   "source": []
  },
  {
   "cell_type": "code",
   "execution_count": 261,
   "id": "b2d80df3",
   "metadata": {},
   "outputs": [
    {
     "data": {
      "text/plain": [
       "False"
      ]
     },
     "execution_count": 261,
     "metadata": {},
     "output_type": "execute_result"
    }
   ],
   "source": [
    "all([True, True, True, False])"
   ]
  },
  {
   "cell_type": "code",
   "execution_count": 263,
   "id": "5ea95949",
   "metadata": {},
   "outputs": [
    {
     "data": {
      "text/plain": [
       "4"
      ]
     },
     "execution_count": 263,
     "metadata": {},
     "output_type": "execute_result"
    }
   ],
   "source": [
    "round(3.5)"
   ]
  },
  {
   "cell_type": "code",
   "execution_count": 264,
   "id": "4613ec85",
   "metadata": {},
   "outputs": [
    {
     "data": {
      "text/plain": [
       "(4.0, 4.0, 3.0)"
      ]
     },
     "execution_count": 264,
     "metadata": {},
     "output_type": "execute_result"
    }
   ],
   "source": [
    "import numpy\n",
    "\n",
    "numpy.round(3.5), numpy.ceil(3.1), numpy.floor(3.5)"
   ]
  },
  {
   "cell_type": "markdown",
   "id": "83ca8921",
   "metadata": {},
   "source": [
    "# 6. 연습문제"
   ]
  },
  {
   "cell_type": "code",
   "execution_count": 114,
   "id": "8aaf4301",
   "metadata": {},
   "outputs": [
    {
     "name": "stdout",
     "output_type": "stream",
     "text": [
      "(5, 1)\n",
      "{'max': 5, 'min': 1}\n"
     ]
    }
   ],
   "source": [
    "#1\n",
    "def get_max_min(data_list):\n",
    "    return max(data_list), min(data_list)\n",
    "\n",
    "print(get_max_min([1,2,3,4,5,]))\n",
    "\n",
    "get_max_min = lambda data_list: {'max':max(data_list), 'min':min(data_list)}\n",
    "print(get_max_min([1,2,3,4,5,]))"
   ]
  },
  {
   "cell_type": "code",
   "execution_count": 109,
   "id": "c8a75a1d",
   "metadata": {},
   "outputs": [],
   "source": [
    "#2\n",
    "def calculate_bmi(weight, height):\n",
    "    bmi = weight/(height**2)\n",
    "    if 0 <= bmi < 18.5 :\n",
    "        print('마른체형')\n",
    "    elif 18.5 <= bmi < 25.0:\n",
    "        print('표준')\n",
    "    elif 25.0 <= bmi < 30.0:\n",
    "        print('비만')\n",
    "    elif 30.0 <= bmi:\n",
    "        print('고도비만')\n",
    "    else:\n",
    "        print('올바르지 않은 입력')\n",
    "\n",
    "calculate_bmi = lambda weight, height : '마른체형' if 0 <= weight/(height**2) < 18.5 \\\n",
    "                                    else('표준' if 18.5 <= weight/(height**2) < 25.0 \\\n",
    "                                    else('비만' if 25.0 <= weight/(height**2) < 30.0 \\\n",
    "                                    else('고도비만' if 30.0 <= weight/(height**2) \\\n",
    "                                    else('올바르지 않은 입력'))))"
   ]
  },
  {
   "cell_type": "code",
   "execution_count": 110,
   "id": "c0d09a64",
   "metadata": {},
   "outputs": [
    {
     "data": {
      "text/plain": [
       "'표준'"
      ]
     },
     "execution_count": 110,
     "metadata": {},
     "output_type": "execute_result"
    }
   ],
   "source": [
    "calculate_bmi(60,1.77)"
   ]
  },
  {
   "cell_type": "code",
   "execution_count": 113,
   "id": "ca581fbb",
   "metadata": {},
   "outputs": [
    {
     "name": "stdout",
     "output_type": "stream",
     "text": [
      "(6.0, 12.0)\n",
      "{'area': 6.0, 'line': 12.0}\n"
     ]
    }
   ],
   "source": [
    "#3\n",
    "import math\n",
    "def get_triangle(width, height):\n",
    "    area = width * height * 0.5\n",
    "    line = width + height + math.sqrt(width**2+height**2)\n",
    "    return area, line\n",
    "print(get_triangle(3,4))\n",
    "\n",
    "get_triangle = lambda width, height: {'area':width * height * 0.5, 'line':width + height + math.sqrt(width**2+height**2)}\n",
    "print(get_triangle(3,4))"
   ]
  },
  {
   "cell_type": "code",
   "execution_count": 116,
   "id": "9b4931ac",
   "metadata": {},
   "outputs": [
    {
     "name": "stdout",
     "output_type": "stream",
     "text": [
      "75\n",
      "75\n"
     ]
    }
   ],
   "source": [
    "#4\n",
    "def mysum(frOm, end):\n",
    "    sum = 0\n",
    "    for i in range(frOm, end+1):\n",
    "        sum += i\n",
    "    return sum\n",
    "print(mysum(10,15))\n",
    "\n",
    "mysum = lambda frOm, end: sum([x for x in range(frOm, end+1)])\n",
    "print(mysum(10,15))"
   ]
  },
  {
   "cell_type": "code",
   "execution_count": 118,
   "id": "05590e34",
   "metadata": {},
   "outputs": [
    {
     "name": "stdout",
     "output_type": "stream",
     "text": [
      "['Seo', 'Dae', 'Kwa', 'Jej']\n",
      "['Seo', 'Dae', 'Kwa', 'Jej']\n"
     ]
    }
   ],
   "source": [
    "#5\n",
    "ex = ['Seoul','Daegu','Kwangju','Jeju']\n",
    "def get_abbrs(lst):\n",
    "    result = []\n",
    "    for item in lst:\n",
    "        result.append(item[:3])\n",
    "    return result\n",
    "print(get_abbrs(ex))\n",
    "\n",
    "get_abbrs = lambda lst : [item[:3] for item in lst]\n",
    "print(get_abbrs(ex))"
   ]
  },
  {
   "cell_type": "code",
   "execution_count": 64,
   "id": "a345732b",
   "metadata": {},
   "outputs": [
    {
     "name": "stdout",
     "output_type": "stream",
     "text": [
      "9\n",
      "9\n"
     ]
    }
   ],
   "source": [
    "#6\n",
    "def f(x, y):\n",
    "    return x ** y\n",
    "print(f(3, 2))\n",
    "f = lambda x, y: x ** y\n",
    "print(f(3, 2))"
   ]
  },
  {
   "cell_type": "code",
   "execution_count": 67,
   "id": "e44a81c2",
   "metadata": {},
   "outputs": [
    {
     "name": "stdout",
     "output_type": "stream",
     "text": [
      "[1, 4, 9, 16, 25]\n",
      "[1, 4, 9, 16, 25]\n"
     ]
    }
   ],
   "source": [
    "#7\n",
    "ex = [1,2,3,4,5]\n",
    "print(list(map(lambda x: x**2, ex)))\n",
    "print([x**2 for x in ex])"
   ]
  },
  {
   "cell_type": "code",
   "execution_count": 70,
   "id": "2bdd6a77",
   "metadata": {},
   "outputs": [
    {
     "name": "stdout",
     "output_type": "stream",
     "text": [
      "1 2 3\n",
      "[1, 2, 3]\n"
     ]
    }
   ],
   "source": [
    "#8\n",
    "a = [1, 2, 3]\n",
    "print(*a)\n",
    "print(a)\n",
    "# *를 리스트 앞에 붙임으로서 언패킹을 명시하였기 때문"
   ]
  },
  {
   "cell_type": "code",
   "execution_count": 72,
   "id": "1a02358b",
   "metadata": {},
   "outputs": [
    {
     "data": {
      "text/plain": [
       "'2019-9-6'"
      ]
     },
     "execution_count": 72,
     "metadata": {},
     "output_type": "execute_result"
    }
   ],
   "source": [
    "#9\n",
    "date_info = {'year': \"2019\", 'month':\"9\", 'day':\"6\"}\n",
    "result = \"{year}-{month}-{day}\".format(**date_info)\n",
    "result\n",
    "#2019-9-6"
   ]
  },
  {
   "cell_type": "code",
   "execution_count": 82,
   "id": "9e00180e",
   "metadata": {},
   "outputs": [
    {
     "data": {
      "text/plain": [
       "[4, 3]"
      ]
     },
     "execution_count": 82,
     "metadata": {},
     "output_type": "execute_result"
    }
   ],
   "source": [
    "#10\n",
    "vector_size_check = lambda *vector_var : [len(var) for var in vector_var]\n",
    "vector_size_check(ex,a)"
   ]
  },
  {
   "cell_type": "code",
   "execution_count": 119,
   "id": "4a990b3f",
   "metadata": {},
   "outputs": [
    {
     "name": "stdout",
     "output_type": "stream",
     "text": [
      "[5, 10, 15, 20]\n",
      "[5, 10, 15, 20]\n"
     ]
    }
   ],
   "source": [
    "#11\n",
    "def scalar_vector_product(scalar, vector):\n",
    "    return [scalar*x for x in vector]\n",
    "ex = [1,2,3,4]\n",
    "print(scalar_vector_product(5,ex))\n",
    "\n",
    "scalar_vector_product = lambda scalar, vector : [scalar*x for x in vector]\n",
    "print(scalar_vector_product(5,ex))"
   ]
  },
  {
   "cell_type": "code",
   "execution_count": 1,
   "id": "e9651a69",
   "metadata": {},
   "outputs": [
    {
     "name": "stdout",
     "output_type": "stream",
     "text": [
      "902"
     ]
    }
   ],
   "source": [
    "#1\n",
    "def mapping(addr):\n",
    "    table = [1,2,5,9,6,4,0,3,8,7]\n",
    "    return table [addr//SIZE]\n",
    "SIZE = 20\n",
    "group = [9,8,7,6,5,4,3,2,1,0]\n",
    "loc = [127, 64, 188]\n",
    "for a, b in enumerate(loc):\n",
    "    print(group[mapping(loc[a])], end='')\n",
    "# loc[a] = 127, 64, 188\n",
    "# mapping(loc[a]) = table[6], table[3], table[9]\n",
    "# group[mapping(loc[a])] = group[0] group[9] group[7]\n",
    "# group[mapping(loc[a])] = 9 0 2"
   ]
  },
  {
   "cell_type": "code",
   "execution_count": 6,
   "id": "ceb74aef",
   "metadata": {},
   "outputs": [
    {
     "name": "stdout",
     "output_type": "stream",
     "text": [
      "612613"
     ]
    }
   ],
   "source": [
    "#2\n",
    "a = 10\n",
    "def sub() :\n",
    "    global a\n",
    "    a += 1\n",
    "    print(a, end='')\n",
    "\n",
    "def func():\n",
    "    for i in range(2):\n",
    "        a = 5\n",
    "        a += 1\n",
    "        print(a, end='')\n",
    "        sub()\n",
    "\n",
    "a += 1\n",
    "func()\n",
    "\n",
    "# sub() 의 a += 1 로컬 a가 선언되어 있지 않음\n",
    "# sub()함수의 a += 1 윗단에 global a를 작성하여 sub()내의 a가 전역 변수임을 선언\n",
    "# 612613"
   ]
  },
  {
   "cell_type": "code",
   "execution_count": 21,
   "id": "60973492",
   "metadata": {},
   "outputs": [
    {
     "name": "stdout",
     "output_type": "stream",
     "text": [
      "100\n"
     ]
    }
   ],
   "source": [
    "#3\n",
    "var = 100\n",
    "def func(var):\n",
    "    var = 200\n",
    "func(var)\n",
    "print(var)\n",
    "\n",
    "# 100\n",
    "# 매개변수가 전역변수와 이름이 같더라도 함수의 매개변수는 지역변수임"
   ]
  },
  {
   "cell_type": "code",
   "execution_count": 25,
   "id": "36a827b2",
   "metadata": {},
   "outputs": [
    {
     "data": {
      "text/plain": [
       "5"
      ]
     },
     "execution_count": 25,
     "metadata": {},
     "output_type": "execute_result"
    }
   ],
   "source": [
    "#4\n",
    "def my_func(func, *args):\n",
    "    return func(*args)\n",
    "import numpy as np\n",
    "my_func(np.add, 2, 3)\n",
    "# 5"
   ]
  },
  {
   "cell_type": "code",
   "execution_count": 26,
   "id": "ae7b1cb7",
   "metadata": {},
   "outputs": [
    {
     "data": {
      "text/plain": [
       "9"
      ]
     },
     "execution_count": 26,
     "metadata": {},
     "output_type": "execute_result"
    }
   ],
   "source": [
    "#5\n",
    "def my_func(func, *args):\n",
    "    return func(*args)\n",
    "my_func(lambda a, b: a**b, 3, 2)\n",
    "# 9"
   ]
  },
  {
   "cell_type": "code",
   "execution_count": 87,
   "id": "b240677b",
   "metadata": {},
   "outputs": [],
   "source": [
    "#6\n",
    "# 1 중복 정의는 불가능, 재정의만 가능"
   ]
  },
  {
   "cell_type": "code",
   "execution_count": 89,
   "id": "3d03200d",
   "metadata": {},
   "outputs": [
    {
     "ename": "TypeError",
     "evalue": "func() got multiple values for argument 'a'",
     "output_type": "error",
     "traceback": [
      "\u001b[1;31m---------------------------------------------------------------------------\u001b[0m",
      "\u001b[1;31mTypeError\u001b[0m                                 Traceback (most recent call last)",
      "Cell \u001b[1;32mIn[89], line 9\u001b[0m\n\u001b[0;32m      7\u001b[0m     \u001b[38;5;28;01mreturn\u001b[39;00m L\n\u001b[0;32m      8\u001b[0m \u001b[38;5;66;03m#4 키워드인수와 순서인수의 순서가 잘못됨\u001b[39;00m\n\u001b[1;32m----> 9\u001b[0m \u001b[43mfunc\u001b[49m\u001b[43m(\u001b[49m\u001b[43m[\u001b[49m\u001b[43m]\u001b[49m\u001b[43m,\u001b[49m\u001b[43m \u001b[49m\u001b[43ma\u001b[49m\u001b[38;5;241;43m=\u001b[39;49m\u001b[38;5;241;43m40\u001b[39;49m\u001b[43m)\u001b[49m\n",
      "\u001b[1;31mTypeError\u001b[0m: func() got multiple values for argument 'a'"
     ]
    }
   ],
   "source": [
    "#7\n",
    "list_ = []\n",
    "def func(a, L=None):\n",
    "    if L is None:\n",
    "        L = []\n",
    "    L.append(a)\n",
    "    return L\n",
    "#4 키워드인수와 순서인수의 순서가 잘못됨\n",
    "func([], a=40)"
   ]
  },
  {
   "cell_type": "code",
   "execution_count": 90,
   "id": "9f8b70c7",
   "metadata": {},
   "outputs": [
    {
     "data": {
      "text/plain": [
       "<function __main__.<lambda>(매개변수)>"
      ]
     },
     "execution_count": 90,
     "metadata": {},
     "output_type": "execute_result"
    }
   ],
   "source": [
    "#8\n",
    "lambda 매개변수 : 리턴값"
   ]
  },
  {
   "cell_type": "code",
   "execution_count": 91,
   "id": "eff19af1",
   "metadata": {},
   "outputs": [
    {
     "data": {
      "text/plain": [
       "[(4, 'a'), (3, 'b'), (2, 'c'), (1, 'd')]"
      ]
     },
     "execution_count": 91,
     "metadata": {},
     "output_type": "execute_result"
    }
   ],
   "source": [
    "#9\n",
    "pairs = [(1, 'd'), (2, 'c'), (3, 'b'), (4,'a')]\n",
    "pairs.sort(key=lambda pair:pair[1])\n",
    "pairs\n",
    "#2"
   ]
  }
 ],
 "metadata": {
  "kernelspec": {
   "display_name": "Python 3 (ipykernel)",
   "language": "python",
   "name": "python3"
  },
  "language_info": {
   "codemirror_mode": {
    "name": "ipython",
    "version": 3
   },
   "file_extension": ".py",
   "mimetype": "text/x-python",
   "name": "python",
   "nbconvert_exporter": "python",
   "pygments_lexer": "ipython3",
   "version": "3.10.9"
  },
  "toc": {
   "base_numbering": 1,
   "nav_menu": {},
   "number_sections": true,
   "sideBar": true,
   "skip_h1_title": false,
   "title_cell": "Table of Contents",
   "title_sidebar": "Contents",
   "toc_cell": false,
   "toc_position": {
    "height": "calc(100% - 180px)",
    "left": "10px",
    "top": "150px",
    "width": "311px"
   },
   "toc_section_display": true,
   "toc_window_display": true
  }
 },
 "nbformat": 4,
 "nbformat_minor": 5
}
