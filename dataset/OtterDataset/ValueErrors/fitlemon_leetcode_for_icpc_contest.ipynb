{
 "cells": [
  {
   "cell_type": "code",
   "execution_count": 11,
   "metadata": {},
   "outputs": [
    {
     "name": "stdout",
     "output_type": "stream",
     "text": [
      "6\n"
     ]
    }
   ],
   "source": [
    "from collections import defaultdict\n",
    "input1 = input(\"Vvedite stansii i peregoni:\")\n",
    "stations = int(input1.split()[0])\n",
    "peregons = int(input1.split()[1])\n",
    "vagons_types = list(map(int, input(\"Tipi vagonov:\").split()))\n",
    "peregons_dict = defaultdict(list)\n",
    "for i in range(peregons):\n",
    "    i_peregon = input(\"Vvedite peregon:\")\n",
    "    source = int(i_peregon.split()[0]) - 1\n",
    "    dest = int(i_peregon.split()[0]) - 1\n",
    "    peregons_dict[source].append(dest)\n",
    "islands = [i for i, x in enumerate(vagons_types) if x == 1]\n",
    "shores = [i for i, x in enumerate(vagons_types) if x == 2]\n",
    "uzli = [key for key, value in peregons_dict.items() if len(value) > 2]\n",
    "visited = set()  # Множество для отслеживания посещенных станций\n",
    "max_stations = 0  # Переменная для хранения максимального количества станций\n",
    "\n",
    "# Функция для посещения станции и обновления максимального количества\n",
    "def visit_station(station):\n",
    "    global max_stations\n",
    "    visited.add(station)\n",
    "    max_stations += 1\n",
    "\n",
    "# 1. Посещаем все узловые станции\n",
    "for uzel in uzli:\n",
    "    visit_station(uzel)\n",
    "\n",
    "# 2. Посещаем островные станции и береговые станции в одном направлении\n",
    "for island in islands:\n",
    "    visit_station(island)\n",
    "\n",
    "for shore in shores:\n",
    "    if shore not in visited:\n",
    "        visit_station(shore)\n",
    "\n",
    "# 3. Посещаем остальные станции, если возможно, оплачивая поездку ровно один раз\n",
    "for i in range(stations):\n",
    "    if i not in visited:\n",
    "        if vagons_types[i] == 1:\n",
    "            visit_station(i)\n",
    "        elif vagons_types[i] == 2:\n",
    "            # Проверяем, есть ли узловые станции, через которые можно перейти\n",
    "            can_reach_uzel = any(dest in uzli for dest in peregons_dict[i])\n",
    "            if not can_reach_uzel:\n",
    "                visit_station(i)\n",
    "\n",
    "# Выводим результат\n",
    "print(max_stations)"
   ]
  },
  {
   "cell_type": "code",
   "execution_count": 13,
   "metadata": {},
   "outputs": [
    {
     "name": "stdout",
     "output_type": "stream",
     "text": [
      "4\n"
     ]
    }
   ],
   "source": []
  },
  {
   "cell_type": "code",
   "execution_count": 16,
   "metadata": {},
   "outputs": [
    {
     "name": "stdout",
     "output_type": "stream",
     "text": [
      "('low', 'main')\n"
     ]
    },
    {
     "ename": "ValueError",
     "evalue": "invalid literal for int() with base 10: ''",
     "output_type": "error",
     "traceback": [
      "\u001b[0;31m---------------------------------------------------------------------------\u001b[0m",
      "\u001b[0;31mValueError\u001b[0m                                Traceback (most recent call last)",
      "\u001b[1;32m/home/fitlemon/code/leetcode/for_icpc_contest.ipynb Cell 3\u001b[0m line \u001b[0;36m1\n\u001b[1;32m     <a href='vscode-notebook-cell:/home/fitlemon/code/leetcode/for_icpc_contest.ipynb#W4sZmlsZQ%3D%3D?line=12'>13</a>\u001b[0m place \u001b[39m=\u001b[39m zagad\n\u001b[1;32m     <a href='vscode-notebook-cell:/home/fitlemon/code/leetcode/for_icpc_contest.ipynb#W4sZmlsZQ%3D%3D?line=13'>14</a>\u001b[0m \u001b[39mwhile\u001b[39;00m \u001b[39mTrue\u001b[39;00m:\n\u001b[0;32m---> <a href='vscode-notebook-cell:/home/fitlemon/code/leetcode/for_icpc_contest.ipynb#W4sZmlsZQ%3D%3D?line=14'>15</a>\u001b[0m     guess \u001b[39m=\u001b[39m \u001b[39mint\u001b[39;49m(\u001b[39minput\u001b[39;49m(\u001b[39m\"\u001b[39;49m\u001b[39mVopros:\u001b[39;49m\u001b[39m\"\u001b[39;49m))\n\u001b[1;32m     <a href='vscode-notebook-cell:/home/fitlemon/code/leetcode/for_icpc_contest.ipynb#W4sZmlsZQ%3D%3D?line=15'>16</a>\u001b[0m     \u001b[39mif\u001b[39;00m guess \u001b[39m+\u001b[39m zagad \u001b[39m>\u001b[39m \u001b[39m54\u001b[39m \u001b[39mor\u001b[39;00m guess \u001b[39m+\u001b[39m zagad \u001b[39m<\u001b[39m \u001b[39m1\u001b[39m:\n\u001b[1;32m     <a href='vscode-notebook-cell:/home/fitlemon/code/leetcode/for_icpc_contest.ipynb#W4sZmlsZQ%3D%3D?line=16'>17</a>\u001b[0m         \u001b[39mraise\u001b[39;00m \u001b[39m\"\u001b[39m\u001b[39mWrong\u001b[39m\u001b[39m\"\u001b[39m\n",
      "\u001b[0;31mValueError\u001b[0m: invalid literal for int() with base 10: ''"
     ]
    }
   ],
   "source": [
    "\n",
    "def check_guess(zagad):\n",
    "    if zagad % 2 == 0:\n",
    "        level = 'high'\n",
    "    else:\n",
    "        level = 'low'\n",
    "    if zagad < 37:\n",
    "        zone = 'main'\n",
    "    else:\n",
    "        zone = 'side'\n",
    "    return(level, zone)\n",
    "assume_range = list(range(5))\n",
    "zagad = 33\n",
    "place = zagad\n",
    "guess = 0\n",
    "if check_guess(place)[1] == 'main':\n",
    "    assume_range = list(range(1,37))\n",
    "else:\n",
    "    assume_range = list(range(37,55))\n",
    "if check_guess(place)[0] == 'high':\n",
    "    assume_range = [x for x in assume_range if x % 2 == 0]\n",
    "else:\n",
    "    assume_range = [x for x in assume_range if not x % 2 == 0]\n",
    "while len(assume_range) > 1:   \n",
    "    guess = assume_range[len(assume_range) // 2]\n",
    "    place += guess\n",
    "    if place > 54 or place < 1:\n",
    "        raise Exception(\"Wrong\")\n",
    "    if check_guess(place)[1] == 'main':\n",
    "            \n",
    "    \n",
    "    \n"
   ]
  },
  {
   "cell_type": "code",
   "execution_count": 20,
   "metadata": {},
   "outputs": [
    {
     "data": {
      "text/plain": [
       "18"
      ]
     },
     "execution_count": 20,
     "metadata": {},
     "output_type": "execute_result"
    }
   ],
   "source": [
    "assume_range = list(range(1,37))\n",
    "assume_range = [x for x in assume_range if not x % 2 == 0]\n",
    "\n",
    "len(assume_range)"
   ]
  },
  {
   "cell_type": "code",
   "execution_count": 22,
   "metadata": {},
   "outputs": [
    {
     "name": "stdout",
     "output_type": "stream",
     "text": [
      "4\n"
     ]
    }
   ],
   "source": [
    "q = int(input('Q:'))\n",
    "r = int(input('R:'))\n",
    "if q == 2:\n",
    "    print(3)\n",
    "else:\n",
    "    print(4)\n"
   ]
  },
  {
   "cell_type": "code",
   "execution_count": 21,
   "metadata": {},
   "outputs": [
    {
     "ename": "KeyboardInterrupt",
     "evalue": "",
     "output_type": "error",
     "traceback": [
      "\u001b[0;31m---------------------------------------------------------------------------\u001b[0m",
      "\u001b[0;31mKeyboardInterrupt\u001b[0m                         Traceback (most recent call last)",
      "\u001b[1;32m/home/fitlemon/code/leetcode/for_icpc_contest.ipynb Cell 6\u001b[0m line \u001b[0;36m2\n\u001b[1;32m     <a href='vscode-notebook-cell:/home/fitlemon/code/leetcode/for_icpc_contest.ipynb#X10sZmlsZQ%3D%3D?line=18'>19</a>\u001b[0m r \u001b[39m=\u001b[39m \u001b[39m7\u001b[39m\n\u001b[1;32m     <a href='vscode-notebook-cell:/home/fitlemon/code/leetcode/for_icpc_contest.ipynb#X10sZmlsZQ%3D%3D?line=19'>20</a>\u001b[0m M \u001b[39m=\u001b[39m \u001b[39m100\u001b[39m\n\u001b[0;32m---> <a href='vscode-notebook-cell:/home/fitlemon/code/leetcode/for_icpc_contest.ipynb#X10sZmlsZQ%3D%3D?line=20'>21</a>\u001b[0m result \u001b[39m=\u001b[39m unique_d_values(q, r, M)\n\u001b[1;32m     <a href='vscode-notebook-cell:/home/fitlemon/code/leetcode/for_icpc_contest.ipynb#X10sZmlsZQ%3D%3D?line=21'>22</a>\u001b[0m \u001b[39mprint\u001b[39m(result)  \u001b[39m# Выводит количество уникальных значений разности a\u001b[39;00m\n",
      "\u001b[1;32m/home/fitlemon/code/leetcode/for_icpc_contest.ipynb Cell 6\u001b[0m line \u001b[0;36m9\n\u001b[1;32m      <a href='vscode-notebook-cell:/home/fitlemon/code/leetcode/for_icpc_contest.ipynb#X10sZmlsZQ%3D%3D?line=6'>7</a>\u001b[0m d \u001b[39m=\u001b[39m G \u001b[39m-\u001b[39m \u001b[39m1\u001b[39m  \u001b[39m# Начальная разность\u001b[39;00m\n\u001b[1;32m      <a href='vscode-notebook-cell:/home/fitlemon/code/leetcode/for_icpc_contest.ipynb#X10sZmlsZQ%3D%3D?line=7'>8</a>\u001b[0m \u001b[39mwhile\u001b[39;00m G \u001b[39m<\u001b[39m\u001b[39m=\u001b[39m A:\n\u001b[0;32m----> <a href='vscode-notebook-cell:/home/fitlemon/code/leetcode/for_icpc_contest.ipynb#X10sZmlsZQ%3D%3D?line=8'>9</a>\u001b[0m     \u001b[39mif\u001b[39;00m G \u001b[39m==\u001b[39m A:\n\u001b[1;32m     <a href='vscode-notebook-cell:/home/fitlemon/code/leetcode/for_icpc_contest.ipynb#X10sZmlsZQ%3D%3D?line=9'>10</a>\u001b[0m         unique_diffs\u001b[39m.\u001b[39madd(d)\n\u001b[1;32m     <a href='vscode-notebook-cell:/home/fitlemon/code/leetcode/for_icpc_contest.ipynb#X10sZmlsZQ%3D%3D?line=10'>11</a>\u001b[0m     A \u001b[39m+\u001b[39m\u001b[39m=\u001b[39m \u001b[39m1\u001b[39m\n",
      "\u001b[0;31mKeyboardInterrupt\u001b[0m: "
     ]
    }
   ],
   "source": [
    "def unique_d_values(q, r, M):\n",
    "    unique_diffs = set()\n",
    "    \n",
    "    G = q\n",
    "    while G <= M:\n",
    "        A = 1\n",
    "        d = G - 1  # Начальная разность\n",
    "        while G <= A:\n",
    "            if G == A:\n",
    "                unique_diffs.add(d)\n",
    "            A += 1\n",
    "            d = G - A  # Обновляем разность\n",
    "        G *= r\n",
    "    \n",
    "    return len(unique_diffs)\n",
    "\n",
    "# Пример использования\n",
    "q = 1\n",
    "r = 7\n",
    "M = 100\n",
    "result = unique_d_values(q, r, M)\n",
    "print(result)  # Выводит количество уникальных значений разности a\n"
   ]
  },
  {
   "cell_type": "code",
   "execution_count": null,
   "metadata": {},
   "outputs": [],
   "source": []
  }
 ],
 "metadata": {
  "kernelspec": {
   "display_name": ".venv",
   "language": "python",
   "name": "python3"
  },
  "language_info": {
   "codemirror_mode": {
    "name": "ipython",
    "version": 3
   },
   "file_extension": ".py",
   "mimetype": "text/x-python",
   "name": "python",
   "nbconvert_exporter": "python",
   "pygments_lexer": "ipython3",
   "version": "3.10.12"
  },
  "orig_nbformat": 4
 },
 "nbformat": 4,
 "nbformat_minor": 2
}
