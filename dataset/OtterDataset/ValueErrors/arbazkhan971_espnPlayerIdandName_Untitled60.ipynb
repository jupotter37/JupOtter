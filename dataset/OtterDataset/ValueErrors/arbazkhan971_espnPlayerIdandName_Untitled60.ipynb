{
 "cells": [
  {
   "cell_type": "code",
   "execution_count": 1,
   "metadata": {},
   "outputs": [
    {
     "name": "stderr",
     "output_type": "stream",
     "text": [
      "C:\\Users\\arbaz\\Anaconda\\lib\\site-packages\\selenium\\webdriver\\phantomjs\\webdriver.py:49: UserWarning: Selenium support for PhantomJS has been deprecated, please use headless versions of Chrome or Firefox instead\n",
      "  warnings.warn('Selenium support for PhantomJS has been deprecated, please use headless '\n"
     ]
    }
   ],
   "source": [
    "from selenium import webdriver\n",
    "from bs4 import BeautifulSoup\n",
    "\n",
    "driver = webdriver.PhantomJS(executable_path = r'C:\\Users\\arbaz\\Downloads\\phantomjs-2.1.1-windows\\phantomjs-2.1.1-windows\\bin\\phantomjs.exe')\n",
    "\n",
    "driver.get(\"http://www.espncricinfo.com/ci/content/series/1131611.html?template=fixtures\")\n",
    "\n",
    "html_doc = driver.page_source\n",
    "\n",
    "soup=BeautifulSoup(html_doc,'lxml')\n",
    "div=soup.find_all(\"ul\",{\"class\":\"large-20 columns\"})\n",
    "a=[]\n",
    "b=[]\n",
    "for i in div:\n",
    "    for span in i.find_all(\"span\",{\"class\":\"fixture_date\"}):\n",
    "             if(span==0):\n",
    "               a.append(span.text)\n",
    "             else:\n",
    "               b.append(span.text)\n",
    "for i,v in enumerate(a):\n",
    "    print(i,v)\n",
    "               \n",
    "\n",
    "driver.quit()"
   ]
  },
  {
   "cell_type": "code",
   "execution_count": 7,
   "metadata": {},
   "outputs": [
    {
     "name": "stdout",
     "output_type": "stream",
     "text": [
      "\n",
      "\n"
     ]
    }
   ],
   "source": [
    "f= open(\"bigram_output99.txt\",\"w+\")\n",
    "l=[]\n",
    "b=[23,39,40,47,58,68,83,87,89,106,110,112,113,114,115,116,117,123,126,129,130,133,142,146,148,152,154,159,163,167,168,169,175,184,200,201,204,207,210,211,217,218,219,220,222,225,226,228,230,233,237,245,255,257,263,266,265,268,270,271,273,275,276,285,298,291,295,307,308,311,312,314,315,320,322,324,326,346,349,355,356,358,359,367,383,374,384,386,387,389,398,402,406,407,417,418,419,421,424,426,427,431,436,445,455,458,462,465,480,483]\n",
    "for i in f:\n",
    "   if(i in b):\n",
    "     l.append(i)\n",
    "f.close()   \n",
    "print(l)"
   ]
  },
  {
   "cell_type": "code",
   "execution_count": 15,
   "metadata": {},
   "outputs": [
    {
     "ename": "ValueError",
     "evalue": "invalid literal for int() with base 10: \"('trump', 'card')\\n\"",
     "output_type": "error",
     "traceback": [
      "\u001b[1;31m---------------------------------------------------------------------------\u001b[0m",
      "\u001b[1;31mValueError\u001b[0m                                Traceback (most recent call last)",
      "\u001b[1;32m<ipython-input-15-97d705d2e1b3>\u001b[0m in \u001b[0;36m<module>\u001b[1;34m()\u001b[0m\n\u001b[0;32m      4\u001b[0m \u001b[1;33m\u001b[0m\u001b[0m\n\u001b[0;32m      5\u001b[0m \u001b[0ml\u001b[0m \u001b[1;33m=\u001b[0m \u001b[0mmap\u001b[0m\u001b[1;33m(\u001b[0m\u001b[0mint\u001b[0m\u001b[1;33m,\u001b[0m \u001b[0mopen\u001b[0m\u001b[1;33m(\u001b[0m\u001b[1;34m'bigram_output99.txt'\u001b[0m\u001b[1;33m)\u001b[0m\u001b[1;33m.\u001b[0m\u001b[0mreadlines\u001b[0m\u001b[1;33m(\u001b[0m\u001b[1;33m)\u001b[0m\u001b[1;33m)\u001b[0m\u001b[1;33m\u001b[0m\u001b[0m\n\u001b[1;32m----> 6\u001b[1;33m \u001b[1;32mfor\u001b[0m \u001b[0mi\u001b[0m \u001b[1;32min\u001b[0m \u001b[0ml\u001b[0m\u001b[1;33m:\u001b[0m\u001b[1;33m\u001b[0m\u001b[0m\n\u001b[0m\u001b[0;32m      7\u001b[0m     \u001b[0mprint\u001b[0m\u001b[1;33m(\u001b[0m\u001b[0mi\u001b[0m\u001b[1;33m)\u001b[0m\u001b[1;33m\u001b[0m\u001b[0m\n",
      "\u001b[1;31mValueError\u001b[0m: invalid literal for int() with base 10: \"('trump', 'card')\\n\""
     ]
    }
   ],
   "source": [
    "stri = open('bigram_output99.txt', 'r').read()\n",
    "\n",
    "b=[23,39,40,47,58,68,83,87,89,106,110,112,113,114,115,116,117,123,126,129,130,133,142,146,148,152,154,159,163,167,168,169,175,184,200,201,204,207,210,211,217,218,219,220,222,225,226,228,230,233,237,245,255,257,263,266,265,268,270,271,273,275,276,285,298,291,295,307,308,311,312,314,315,320,322,324,326,346,349,355,356,358,359,367,383,374,384,386,387,389,398,402,406,407,417,418,419,421,424,426,427,431,436,445,455,458,462,465,480,483]\n",
    "\n",
    "l = map(int, open('bigram_output99.txt').readlines())\n",
    "for i in l:\n",
    "    print(i)"
   ]
  },
  {
   "cell_type": "code",
   "execution_count": 51,
   "metadata": {},
   "outputs": [
    {
     "name": "stdout",
     "output_type": "stream",
     "text": [
      "('poor', 'form', 'continues') *\n",
      "('another', 'sensational', 'performance') *\n",
      "('Karn', 'slashes', 'hard')*\n",
      "('vacant', 'midwicket', 'region') *\n",
      "('inside', 'edged', 'onto') *\n",
      "('thick', 'inside', 'edge')*\n",
      "('dipping', 'low', 'full')*\n",
      "('nails', 'another', 'yorker')*\n",
      "('third', 'man', 'fence')*\n",
      "('slower', 'lifting', 'ball')*\n",
      "('angled', 'towards', 'point')*\n",
      "('third', 'man', 'boundary')*\n",
      "('short', 'third', 'man')*\n",
      "('backward', 'square', 'leg')*\n",
      "('lifting', 'ball', 'outside')*\n",
      "('makes', 'room', 'outside')*\n",
      "('past', 'short', 'fine')*\n",
      "('slower', 'bouncer', 'outside')*\n",
      "('stump', 'full', 'toss')*\n",
      "('towards', 'deep', 'square')*\n",
      "('deep', 'square', 'leg')*\n",
      "('fine', 'leg', 'boundary')*\n",
      "('turns', 'away', 'outside')*\n",
      "('behind', 'square', 'leg')*\n",
      "('fuller', 'ball', 'outside')*\n",
      "('angled', 'away', 'outside')*\n",
      "('full', 'toss', 'outside')*\n",
      "('short', 'fine', 'leg')*\n",
      "('towards', 'deep', 'midwicket')*\n",
      "('high', 'short', 'ball')*\n",
      "('shuffles', 'outside', 'leg')*\n",
      "('room', 'outside', 'leg')*\n",
      "('slower', 'short', 'ball')*\n",
      "('good', 'length', 'ball')*\n",
      "('slower', 'ball', 'outside')*\n",
      "('short', 'ball', 'outside')*\n",
      "('length', 'ball', 'outside')*\n",
      "('away', 'outside', 'leg')*\n"
     ]
    }
   ],
   "source": [
    "import numpy as np\n",
    "lines = open(\"trigram.txt\").readlines()\n",
    "l = [x.strip() for x in lines]\n",
    "c=[]\n",
    "b=[23,39,40,47,58,68,83,87,89,106,110,112,113,114,115,116,117,123,126,129,130,133,142,146,148,152,154,159,163,167,168,169,175,184,200,201,204,207,210,211,217,218,219,220,222,225,226,228,230,233,237,245,255,257,263,266,265,268,270,271,273,275,276,285,298,291,295,307,308,311,312,314,315,320,322,324,326,346,349,355,356,358,359,367,383,374,384,386,387,389,398,402,406,407,417,418,419,421,424,426,427,431,436,445,455,458,462,465,480,483]\n",
    "f=[]\n",
    "gg=[22,30,38,46,51,62,63,64,69,70,81,83,84,86,88,89,90,92,93,94,95,96,97,98,100,102,103,104,105,106,108,109,110,111,112,113,115,114]\n",
    "for i in gg:\n",
    "    c.append(i-1)\n",
    "    \n",
    "index=[]\n",
    "for i in range(115):\n",
    "    index.append(i)\n",
    "abc=[]\n",
    "for i in index:\n",
    "    if i not in c:\n",
    "        abc.append(i)\n",
    "f=np.delete(l,abc).tolist()\n",
    "fstrig=\"\\n\".join(f)\n",
    "print(fstrig)\n",
    "text_file = open(\"Output_trigram.txt\", \"w\")\n",
    "\n",
    "text_file.write(fstrig)\n",
    "\n",
    "text_file.close()\n",
    "\n",
    "##s = [i for j, i in enumerate(l) if j not in b]\n",
    "##print(s)"
   ]
  },
  {
   "cell_type": "code",
   "execution_count": null,
   "metadata": {
    "collapsed": true
   },
   "outputs": [],
   "source": []
  }
 ],
 "metadata": {
  "kernelspec": {
   "display_name": "Python 3",
   "language": "python",
   "name": "python3"
  },
  "language_info": {
   "codemirror_mode": {
    "name": "ipython",
    "version": 3
   },
   "file_extension": ".py",
   "mimetype": "text/x-python",
   "name": "python",
   "nbconvert_exporter": "python",
   "pygments_lexer": "ipython3",
   "version": "3.6.3"
  }
 },
 "nbformat": 4,
 "nbformat_minor": 2
}
