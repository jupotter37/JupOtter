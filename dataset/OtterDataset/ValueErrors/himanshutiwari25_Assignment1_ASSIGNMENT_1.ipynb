{
 "cells": [
  {
   "cell_type": "code",
   "execution_count": 4,
   "id": "311c480f-69f1-45f5-a2f0-dca58381b177",
   "metadata": {},
   "outputs": [],
   "source": [
    "# Ques 1 . Explain the key feature of python that make it popular choice for programming ?\n",
    "# answer . Python widely used in the industry and in data industry because it has lot of library.\n",
    "          #  it can be used in the frontend and backend as well as in data analysis,automation,image processing,databse.\n",
    "          # general purpose language , huge active community,connect to multiple tools.\n",
    "          # easy to use.\n",
    "          # Garbage collection."
   ]
  },
  {
   "cell_type": "code",
   "execution_count": 8,
   "id": "5e8cb1cc-a6ec-4088-9449-27be0602eac8",
   "metadata": {},
   "outputs": [
    {
     "name": "stdout",
     "output_type": "stream",
     "text": [
      " heloo\n",
      "\n",
      "Here is a list of the Python keywords.  Enter any keyword to get more help.\n",
      "\n",
      "False               class               from                or\n",
      "None                continue            global              pass\n",
      "True                def                 if                  raise\n",
      "and                 del                 import              return\n",
      "as                  elif                in                  try\n",
      "assert              else                is                  while\n",
      "async               except              lambda              with\n",
      "await               finally             nonlocal            yield\n",
      "break               for                 not                 \n",
      "\n",
      " greater\n"
     ]
    }
   ],
   "source": [
    "# ques.2. Describe the role of keyword in python and provide example  of how they are used in  a program ?\n",
    "# answer - So here , i'm taking an example to showcase the keyword with example.\n",
    "\n",
    "print(\" heloo\" )\n",
    "#here we used \" print \" to display the \" hello\" , here in this \"print \" is keyword .\n",
    "# KEYWORD - pre defined words that hold a special meaning and hold special meaning in python.\n",
    "# so here i'm providing the list of all keyword in python.\n",
    "help(\"keywords\")\n",
    "# so i'm taking the \"if\" keyword to show how it used in the python.\n",
    "if(3>2):\n",
    "    print(\" greater\")\n",
    "    \n",
    "# so, here \" if\" is the keyword which has certain meaning in the python , it is used in the conditional statement.\n",
    "    \n"
   ]
  },
  {
   "cell_type": "code",
   "execution_count": 12,
   "id": "2df69ba2-4e2f-4521-9eb1-9e3670418716",
   "metadata": {},
   "outputs": [],
   "source": [
    "#ques 3. Compare and contrast mutable and immutable obects in python with example .\n",
    "#answer - \n",
    "# MUTABILITY - which can be modified\n",
    "# IMMUTABLITY - which can't be modified\n",
    "a=\"Himanshu\"\n",
    "# so this is a string which is stored in variable \" a\" .\n",
    "# therefore , there will be blocks created in the memory and it can  be accessed easily .\n"
   ]
  },
  {
   "cell_type": "code",
   "execution_count": 13,
   "id": "e0ead796-584c-4182-89b4-9a412c47a052",
   "metadata": {},
   "outputs": [
    {
     "data": {
      "text/plain": [
       "'i'"
      ]
     },
     "execution_count": 13,
     "metadata": {},
     "output_type": "execute_result"
    }
   ],
   "source": [
    "# example-\n",
    "a[1]"
   ]
  },
  {
   "cell_type": "code",
   "execution_count": 20,
   "id": "cb8fe4cb-6162-4d2f-9edd-7f7223689bb5",
   "metadata": {},
   "outputs": [
    {
     "data": {
      "text/plain": [
       "'u'"
      ]
     },
     "execution_count": 20,
     "metadata": {},
     "output_type": "execute_result"
    }
   ],
   "source": [
    "a[4]\n",
    "\n",
    "# so in this we we can access the data from the memory.\n",
    "# it can also be accessed from the negative indexing like .\n",
    "a[-1]\n"
   ]
  },
  {
   "cell_type": "code",
   "execution_count": 29,
   "id": "5041d3b3-6c6d-4f1e-9484-7c4fbafd8e1b",
   "metadata": {},
   "outputs": [
    {
     "ename": "NameError",
     "evalue": "name 't' is not defined",
     "output_type": "error",
     "traceback": [
      "\u001b[0;31m---------------------------------------------------------------------------\u001b[0m",
      "\u001b[0;31mNameError\u001b[0m                                 Traceback (most recent call last)",
      "Cell \u001b[0;32mIn[29], line 3\u001b[0m\n\u001b[1;32m      1\u001b[0m \u001b[38;5;66;03m# so if i want to change the some values of the string ,\u001b[39;00m\n\u001b[0;32m----> 3\u001b[0m a[\u001b[38;5;241m1\u001b[39m]\u001b[38;5;241m=\u001b[39m\u001b[43mt\u001b[49m\n\u001b[1;32m      5\u001b[0m \u001b[38;5;28mprint\u001b[39m[\u001b[38;5;241m1\u001b[39m]\n\u001b[1;32m      7\u001b[0m \u001b[38;5;66;03m# so here we got an error , this means strings are immutable .\u001b[39;00m\n",
      "\u001b[0;31mNameError\u001b[0m: name 't' is not defined"
     ]
    }
   ],
   "source": [
    "# so if i want to change the some values of the string ,\n",
    "\n",
    "a[1]=t\n",
    "\n",
    "print[1]\n",
    "\n",
    "# so here we got an error , this means strings are immutable ."
   ]
  },
  {
   "cell_type": "code",
   "execution_count": 24,
   "id": "f074d372-c305-4eab-bf6e-103d46ea0447",
   "metadata": {},
   "outputs": [],
   "source": [
    "# now we will talk about the immutability \n",
    "# so here we are takin an list \n",
    "L=[  1 , 2 , 3 , 4 ,\"himanshu\" ,\" shubhanshu\" , \"ashish \" ]\n"
   ]
  },
  {
   "cell_type": "code",
   "execution_count": 25,
   "id": "da73c0cf-06f8-4e00-9bc9-f330d5b02f73",
   "metadata": {},
   "outputs": [
    {
     "data": {
      "text/plain": [
       "2"
      ]
     },
     "execution_count": 25,
     "metadata": {},
     "output_type": "execute_result"
    }
   ],
   "source": [
    "# now i want to access the items int he list \n",
    "L[1]"
   ]
  },
  {
   "cell_type": "code",
   "execution_count": 27,
   "id": "cd476db0-41f4-4ee2-a38d-69b49399e27b",
   "metadata": {},
   "outputs": [],
   "source": [
    "# now i want to change the values of the list to  make it more clear \n",
    "\n",
    "L[1]= \"HIMANSHU\""
   ]
  },
  {
   "cell_type": "code",
   "execution_count": 28,
   "id": "6b8059e3-9ce7-4da7-88ea-1ea9f176b612",
   "metadata": {},
   "outputs": [
    {
     "name": "stdout",
     "output_type": "stream",
     "text": [
      "[1, 'HIMANSHU', 3, 4, 'himanshu', ' shubhanshu', 'ashish ']\n"
     ]
    }
   ],
   "source": [
    "print(L)"
   ]
  },
  {
   "cell_type": "code",
   "execution_count": null,
   "id": "4af99881-ec4b-4da8-9ced-f389ae541370",
   "metadata": {},
   "outputs": [],
   "source": [
    "# here we can see there is a change in the list , so we can say list are mutable ."
   ]
  },
  {
   "cell_type": "code",
   "execution_count": null,
   "id": "d72606c0-434c-482b-b6d0-bbc61e8c2147",
   "metadata": {},
   "outputs": [],
   "source": [
    "# QUES 4 . Discuss the different types of operators in python and give examples of how they are used in python ?\n",
    "\n",
    "# ANSWER - Special symbols to perform the operations and manage as well as for computation."
   ]
  },
  {
   "cell_type": "code",
   "execution_count": 31,
   "id": "83069406-960c-4041-bf63-93274645ddef",
   "metadata": {},
   "outputs": [
    {
     "name": "stdout",
     "output_type": "stream",
     "text": [
      "5\n",
      "1\n",
      "6\n",
      "1.5\n",
      "1\n"
     ]
    }
   ],
   "source": [
    "#operators in python \n",
    "# 1. ARITHMATIC OPERATOR\n",
    "# +,-,*,/,%\n",
    "# these are the arithmatic operators in python.\n",
    "\n",
    "a=3\n",
    "b=2\n",
    "\n",
    "print(a+b)\n",
    "print(a-b)\n",
    "print(a*b)\n",
    "print(a/b)\n",
    "print(a%b)"
   ]
  },
  {
   "cell_type": "code",
   "execution_count": 32,
   "id": "7d244dd3-194e-4ad4-8471-2e556f868401",
   "metadata": {},
   "outputs": [
    {
     "data": {
      "text/plain": [
       "64"
      ]
     },
     "execution_count": 32,
     "metadata": {},
     "output_type": "execute_result"
    }
   ],
   "source": [
    "# one more operator , to mulitiply the given power on any digit \n",
    "2**6"
   ]
  },
  {
   "cell_type": "code",
   "execution_count": 33,
   "id": "2980d43e-24d8-4a49-8d31-55616d762ef5",
   "metadata": {},
   "outputs": [
    {
     "data": {
      "text/plain": [
       "1"
      ]
     },
     "execution_count": 33,
     "metadata": {},
     "output_type": "execute_result"
    }
   ],
   "source": [
    "# floor operator \n",
    "\n",
    "4//3\n",
    "#  it gives the nearest integer to the lowest ."
   ]
  },
  {
   "cell_type": "code",
   "execution_count": 34,
   "id": "2df51522-ff94-4d3e-a08c-24f310b00313",
   "metadata": {},
   "outputs": [
    {
     "name": "stdout",
     "output_type": "stream",
     "text": [
      "False\n",
      "True\n",
      "False\n",
      "True\n",
      "True\n",
      "False\n"
     ]
    }
   ],
   "source": [
    "# COMPARISON OPERATOR \n",
    "\n",
    "# == , ! = , > , < , >= , <=\n",
    "\n",
    "# it gives the value in true and falsle\n",
    "\n",
    "a=5\n",
    "b=9\n",
    "\n",
    "print(a==b)\n",
    "print(a!=b)\n",
    "print(a>b)\n",
    "print(a<b)\n",
    "print(a<=b)\n",
    "print(a>=b)"
   ]
  },
  {
   "cell_type": "code",
   "execution_count": 36,
   "id": "1e75e037-4ab3-47f7-9d2f-2d45af64bfa5",
   "metadata": {},
   "outputs": [
    {
     "data": {
      "text/plain": [
       "False"
      ]
     },
     "execution_count": 36,
     "metadata": {},
     "output_type": "execute_result"
    }
   ],
   "source": [
    "# LOGICAL OPERATOR\n",
    "# AND , OR, NOT \n",
    "# These also gives the answers in true or false .\n",
    "#  true= 1, false =0\n",
    "\n",
    "# in and operator both condition must be true to get true .\n",
    "# in or operator atleast one condition must be true to get true .\n",
    "\n",
    "True and False"
   ]
  },
  {
   "cell_type": "code",
   "execution_count": 37,
   "id": "3f184d01-4cdb-4ea8-b237-15a8e205fee8",
   "metadata": {},
   "outputs": [
    {
     "data": {
      "text/plain": [
       "True"
      ]
     },
     "execution_count": 37,
     "metadata": {},
     "output_type": "execute_result"
    }
   ],
   "source": [
    "True and True\n",
    "\n",
    "# therefore it shows , there should be both conditions to be true to get result \" true \""
   ]
  },
  {
   "cell_type": "code",
   "execution_count": 38,
   "id": "7ed44af5-76ea-4e4d-920a-f88c906a3e41",
   "metadata": {},
   "outputs": [
    {
     "data": {
      "text/plain": [
       "True"
      ]
     },
     "execution_count": 38,
     "metadata": {},
     "output_type": "execute_result"
    }
   ],
   "source": [
    "True or False \n"
   ]
  },
  {
   "cell_type": "code",
   "execution_count": 39,
   "id": "df2341ea-71a1-4a09-92c5-00f00f08df48",
   "metadata": {},
   "outputs": [
    {
     "data": {
      "text/plain": [
       "False"
      ]
     },
     "execution_count": 39,
     "metadata": {},
     "output_type": "execute_result"
    }
   ],
   "source": [
    "False or False\n",
    "\n",
    "# so here we can see that there must be one condition to be true to get \" true\"."
   ]
  },
  {
   "cell_type": "code",
   "execution_count": null,
   "id": "825d32fc-4c8c-4c45-9656-9a6aaa410dec",
   "metadata": {},
   "outputs": [],
   "source": [
    "# NOT OPERATOR"
   ]
  },
  {
   "cell_type": "code",
   "execution_count": 40,
   "id": "48b8c199-b7d6-4394-b500-5a32685e774e",
   "metadata": {},
   "outputs": [
    {
     "data": {
      "text/plain": [
       "False"
      ]
     },
     "execution_count": 40,
     "metadata": {},
     "output_type": "execute_result"
    }
   ],
   "source": [
    "not True \n",
    "# it just reverse \" true to false and false to true \""
   ]
  },
  {
   "cell_type": "code",
   "execution_count": 42,
   "id": "6908ac17-6944-47a6-9eda-c4def32e604d",
   "metadata": {},
   "outputs": [
    {
     "name": "stdout",
     "output_type": "stream",
     "text": [
      "10\n"
     ]
    }
   ],
   "source": [
    "# ASSIGNMENT OPERATOR\n",
    "\n",
    "# It assigns the value to the variable \n",
    "a=10\n",
    "print(a)\n",
    "# in this we are assining the value into \"a\" variable."
   ]
  },
  {
   "cell_type": "code",
   "execution_count": 44,
   "id": "315bd837-1b89-4923-bff2-d36c90dec9a8",
   "metadata": {},
   "outputs": [
    {
     "data": {
      "text/plain": [
       "True"
      ]
     },
     "execution_count": 44,
     "metadata": {},
     "output_type": "execute_result"
    }
   ],
   "source": [
    "# MEMEBERSHIP OPERATOR \n",
    "\n",
    "# It checks whether the letters are present or not.\n",
    "# example \n",
    "a = \" Himanshu \"\n",
    "\"m\" in a "
   ]
  },
  {
   "cell_type": "code",
   "execution_count": 45,
   "id": "bc4367f0-e625-404d-bf1f-08b5c2617af4",
   "metadata": {},
   "outputs": [
    {
     "data": {
      "text/plain": [
       "False"
      ]
     },
     "execution_count": 45,
     "metadata": {},
     "output_type": "execute_result"
    }
   ],
   "source": [
    " \" z \" in a"
   ]
  },
  {
   "cell_type": "code",
   "execution_count": 46,
   "id": "de3a4fcb-d754-49f1-a064-c424c7b88cbd",
   "metadata": {},
   "outputs": [
    {
     "data": {
      "text/plain": [
       "False"
      ]
     },
     "execution_count": 46,
     "metadata": {},
     "output_type": "execute_result"
    }
   ],
   "source": [
    "# IDENTITY OPERATOR \n",
    "# compares the location of two objects / variable\n",
    " \n",
    "a = 2\n",
    "b=3 \n",
    "a is b "
   ]
  },
  {
   "cell_type": "code",
   "execution_count": 47,
   "id": "832e2804-0911-4393-b889-b3ba408231b9",
   "metadata": {},
   "outputs": [
    {
     "data": {
      "text/plain": [
       "True"
      ]
     },
     "execution_count": 47,
     "metadata": {},
     "output_type": "execute_result"
    }
   ],
   "source": [
    "a is not b"
   ]
  },
  {
   "cell_type": "code",
   "execution_count": 48,
   "id": "19d4b26b-f2e7-4362-a2db-04de4380b5c9",
   "metadata": {},
   "outputs": [
    {
     "data": {
      "text/plain": [
       "True"
      ]
     },
     "execution_count": 48,
     "metadata": {},
     "output_type": "execute_result"
    }
   ],
   "source": [
    "a = 3 \n",
    "b= 3\n",
    "\n",
    "a is b"
   ]
  },
  {
   "cell_type": "code",
   "execution_count": 49,
   "id": "a2122ade-020d-4860-8cc4-b8ab81850957",
   "metadata": {},
   "outputs": [
    {
     "data": {
      "text/plain": [
       "False"
      ]
     },
     "execution_count": 49,
     "metadata": {},
     "output_type": "execute_result"
    }
   ],
   "source": [
    "a is not b"
   ]
  },
  {
   "cell_type": "code",
   "execution_count": 50,
   "id": "d4f84ca9-bf40-4a01-bc81-be1b33bb3fd0",
   "metadata": {},
   "outputs": [
    {
     "data": {
      "text/plain": [
       "2"
      ]
     },
     "execution_count": 50,
     "metadata": {},
     "output_type": "execute_result"
    }
   ],
   "source": [
    "# BITWISE OPERATOR\n",
    "# Operation at bit level , manupulating bits within integer .\n",
    "# &,|,~,^, right shift , left shift \n",
    "\n",
    "18&3"
   ]
  },
  {
   "cell_type": "code",
   "execution_count": 51,
   "id": "bd89a593-9d91-42ca-80c8-942c66535608",
   "metadata": {},
   "outputs": [
    {
     "data": {
      "text/plain": [
       "'0b10010'"
      ]
     },
     "execution_count": 51,
     "metadata": {},
     "output_type": "execute_result"
    }
   ],
   "source": [
    "bin(18)\n"
   ]
  },
  {
   "cell_type": "code",
   "execution_count": 52,
   "id": "ad98d591-13f5-4962-b963-1bff2db112ea",
   "metadata": {},
   "outputs": [
    {
     "data": {
      "text/plain": [
       "'0b11'"
      ]
     },
     "execution_count": 52,
     "metadata": {},
     "output_type": "execute_result"
    }
   ],
   "source": [
    "bin(3)"
   ]
  },
  {
   "cell_type": "code",
   "execution_count": 53,
   "id": "89f321d8-edd5-4a1d-9589-16a573b06137",
   "metadata": {},
   "outputs": [
    {
     "data": {
      "text/plain": [
       "10"
      ]
     },
     "execution_count": 53,
     "metadata": {},
     "output_type": "execute_result"
    }
   ],
   "source": [
    "10010&11"
   ]
  },
  {
   "cell_type": "code",
   "execution_count": 54,
   "id": "3afd7e68-b2c2-4e4a-afaf-ff914a7da1bc",
   "metadata": {},
   "outputs": [
    {
     "data": {
      "text/plain": [
       "'0b10'"
      ]
     },
     "execution_count": 54,
     "metadata": {},
     "output_type": "execute_result"
    }
   ],
   "source": [
    "bin(2)"
   ]
  },
  {
   "cell_type": "code",
   "execution_count": 55,
   "id": "a04f40ef-7d10-448c-8b64-0fb8643dd769",
   "metadata": {},
   "outputs": [
    {
     "data": {
      "text/plain": [
       "7"
      ]
     },
     "execution_count": 55,
     "metadata": {},
     "output_type": "execute_result"
    }
   ],
   "source": [
    "# or bitwise \n",
    "\n",
    "3|5"
   ]
  },
  {
   "cell_type": "code",
   "execution_count": 56,
   "id": "27d329df-454f-481a-9033-70560e2a7ed1",
   "metadata": {},
   "outputs": [
    {
     "data": {
      "text/plain": [
       "-6"
      ]
     },
     "execution_count": 56,
     "metadata": {},
     "output_type": "execute_result"
    }
   ],
   "source": [
    "# negation ( gives negative sign with one lower value )\n",
    "\n",
    "\n",
    "~ 5"
   ]
  },
  {
   "cell_type": "code",
   "execution_count": 57,
   "id": "8525ee10-df91-48c5-b203-b8cf251a2358",
   "metadata": {},
   "outputs": [
    {
     "data": {
      "text/plain": [
       "1"
      ]
     },
     "execution_count": 57,
     "metadata": {},
     "output_type": "execute_result"
    }
   ],
   "source": [
    "# X OR OPERATOR\n",
    "\n",
    "4^5"
   ]
  },
  {
   "cell_type": "code",
   "execution_count": 58,
   "id": "eece1ca2-2a80-46cf-96bc-95603fe87a22",
   "metadata": {},
   "outputs": [
    {
     "data": {
      "text/plain": [
       "280"
      ]
     },
     "execution_count": 58,
     "metadata": {},
     "output_type": "execute_result"
    }
   ],
   "source": [
    "# left shift operator ( shift the bit to left by no of positions by filling the zeros on the right side )\n",
    "\n",
    "35<<3"
   ]
  },
  {
   "cell_type": "code",
   "execution_count": 59,
   "id": "1fd4ff5e-5d71-4571-b03d-8995df95ca9f",
   "metadata": {},
   "outputs": [
    {
     "data": {
      "text/plain": [
       "'0b100011'"
      ]
     },
     "execution_count": 59,
     "metadata": {},
     "output_type": "execute_result"
    }
   ],
   "source": [
    "bin(35)"
   ]
  },
  {
   "cell_type": "code",
   "execution_count": 61,
   "id": "8aa500b7-0da1-4352-93e1-0708651e1db6",
   "metadata": {},
   "outputs": [
    {
     "data": {
      "text/plain": [
       "'0b100011000'"
      ]
     },
     "execution_count": 61,
     "metadata": {},
     "output_type": "execute_result"
    }
   ],
   "source": [
    "# now we will add three zeros on right \" 100011000\"\n",
    "bin(280)"
   ]
  },
  {
   "cell_type": "code",
   "execution_count": 62,
   "id": "9ff552e8-2f97-4006-bfee-9e0a2e366e26",
   "metadata": {},
   "outputs": [
    {
     "data": {
      "text/plain": [
       "35"
      ]
     },
     "execution_count": 62,
     "metadata": {},
     "output_type": "execute_result"
    }
   ],
   "source": [
    "# RIGHT SHIFT OPERATOR \n",
    "\n",
    "# remove the no of elements from the right side from binary.\n",
    "\n",
    "280 >> 3"
   ]
  },
  {
   "cell_type": "code",
   "execution_count": 63,
   "id": "af1b2602-d088-48ab-a1f7-cf09e135be64",
   "metadata": {},
   "outputs": [
    {
     "data": {
      "text/plain": [
       "'0b100011000'"
      ]
     },
     "execution_count": 63,
     "metadata": {},
     "output_type": "execute_result"
    }
   ],
   "source": [
    "bin(280)"
   ]
  },
  {
   "cell_type": "code",
   "execution_count": 64,
   "id": "c24fec8d-fbc8-4be5-8e9b-a67f012726fd",
   "metadata": {},
   "outputs": [
    {
     "data": {
      "text/plain": [
       "'0b100011'"
      ]
     },
     "execution_count": 64,
     "metadata": {},
     "output_type": "execute_result"
    }
   ],
   "source": [
    "# removing three zeros from the right \" 100011\"\n",
    "bin(35)"
   ]
  },
  {
   "cell_type": "code",
   "execution_count": 65,
   "id": "e430fd8a-f83f-4440-87bb-3d3d1678c9e0",
   "metadata": {},
   "outputs": [
    {
     "ename": "TypeError",
     "evalue": "can only concatenate str (not \"int\") to str",
     "output_type": "error",
     "traceback": [
      "\u001b[0;31m---------------------------------------------------------------------------\u001b[0m",
      "\u001b[0;31mTypeError\u001b[0m                                 Traceback (most recent call last)",
      "Cell \u001b[0;32mIn[65], line 9\u001b[0m\n\u001b[1;32m      7\u001b[0m a\u001b[38;5;241m=\u001b[39m \u001b[38;5;124m\"\u001b[39m\u001b[38;5;124m2\u001b[39m\u001b[38;5;124m\"\u001b[39m\n\u001b[1;32m      8\u001b[0m b\u001b[38;5;241m=\u001b[39m\u001b[38;5;241m3\u001b[39m\n\u001b[0;32m----> 9\u001b[0m \u001b[43ma\u001b[49m\u001b[38;5;241;43m+\u001b[39;49m\u001b[43mb\u001b[49m\n",
      "\u001b[0;31mTypeError\u001b[0m: can only concatenate str (not \"int\") to str"
     ]
    }
   ],
   "source": [
    "# QUES 5. Explain the concept of type casting in python with example ?\n",
    "# anser :\n",
    "# changing the data type of a value /type conversion .\n",
    "\n",
    "# it is of two types : \n",
    "# 1. implicit and explicit \n",
    "# in implicit ( understand data type by it own ) explicit ( user changes the data type )\n",
    "\n",
    "# while execution there can be mismatch \n",
    "\n",
    "a= \"2\"\n",
    "b=3\n",
    "a+b\n"
   ]
  },
  {
   "cell_type": "code",
   "execution_count": 66,
   "id": "79853f6d-3f37-4fdf-80ac-506f9104a7b9",
   "metadata": {},
   "outputs": [
    {
     "data": {
      "text/plain": [
       "str"
      ]
     },
     "execution_count": 66,
     "metadata": {},
     "output_type": "execute_result"
    }
   ],
   "source": [
    "type(a)"
   ]
  },
  {
   "cell_type": "code",
   "execution_count": 68,
   "id": "2ad4e057-8a52-43bf-92e3-12d6193aae65",
   "metadata": {},
   "outputs": [
    {
     "data": {
      "text/plain": [
       "5"
      ]
     },
     "execution_count": 68,
     "metadata": {},
     "output_type": "execute_result"
    }
   ],
   "source": [
    "int(a)+b\n",
    "# here , we changes the datatype of the a variable to int to make the addition , explicit typecasting"
   ]
  },
  {
   "cell_type": "code",
   "execution_count": 69,
   "id": "a6ffca96-7a52-4db1-89ce-4599a0d21345",
   "metadata": {},
   "outputs": [
    {
     "name": "stdout",
     "output_type": "stream",
     "text": [
      "<class 'str'>\n"
     ]
    }
   ],
   "source": [
    "# String to integer \n",
    "a=\"2\"\n",
    "print(type(a))"
   ]
  },
  {
   "cell_type": "code",
   "execution_count": 70,
   "id": "a13d1a26-7c8c-400e-9dec-a7a318a796f3",
   "metadata": {},
   "outputs": [
    {
     "name": "stdout",
     "output_type": "stream",
     "text": [
      "<class 'int'>\n"
     ]
    }
   ],
   "source": [
    "print(type(int(a)))"
   ]
  },
  {
   "cell_type": "code",
   "execution_count": 79,
   "id": "28e66b7b-11a7-4ac6-b261-16481858794e",
   "metadata": {},
   "outputs": [
    {
     "data": {
      "text/plain": [
       "float"
      ]
     },
     "execution_count": 79,
     "metadata": {},
     "output_type": "execute_result"
    }
   ],
   "source": [
    "# FLOAT TO INTEGER \n",
    "a=3.4\n",
    "type(a)"
   ]
  },
  {
   "cell_type": "code",
   "execution_count": 80,
   "id": "9ec895a8-6183-4632-a8dc-c00ff176aeab",
   "metadata": {},
   "outputs": [
    {
     "data": {
      "text/plain": [
       "3"
      ]
     },
     "execution_count": 80,
     "metadata": {},
     "output_type": "execute_result"
    }
   ],
   "source": [
    "int(a)"
   ]
  },
  {
   "cell_type": "code",
   "execution_count": 81,
   "id": "0fafb26d-2f02-4aa3-a64c-1cad1e039da5",
   "metadata": {},
   "outputs": [
    {
     "data": {
      "text/plain": [
       "int"
      ]
     },
     "execution_count": 81,
     "metadata": {},
     "output_type": "execute_result"
    }
   ],
   "source": [
    "# INTEGER TO FLOAT \n",
    "\n",
    "a=2\n",
    "type(a)"
   ]
  },
  {
   "cell_type": "code",
   "execution_count": 82,
   "id": "88ab2eed-8b46-4546-8856-90ea27b81f6a",
   "metadata": {},
   "outputs": [
    {
     "data": {
      "text/plain": [
       "2.0"
      ]
     },
     "execution_count": 82,
     "metadata": {},
     "output_type": "execute_result"
    }
   ],
   "source": [
    "float(a)"
   ]
  },
  {
   "cell_type": "code",
   "execution_count": 83,
   "id": "72e9df63-07bd-482a-8eef-ae95a4476d25",
   "metadata": {},
   "outputs": [
    {
     "data": {
      "text/plain": [
       "str"
      ]
     },
     "execution_count": 83,
     "metadata": {},
     "output_type": "execute_result"
    }
   ],
   "source": [
    "# STRING TO FLOAT \n",
    "\n",
    "a=\"2.5\"\n",
    "type(a)"
   ]
  },
  {
   "cell_type": "code",
   "execution_count": 84,
   "id": "d80886a7-ffbb-4aa9-ab92-ee23c47e19af",
   "metadata": {},
   "outputs": [
    {
     "data": {
      "text/plain": [
       "2.5"
      ]
     },
     "execution_count": 84,
     "metadata": {},
     "output_type": "execute_result"
    }
   ],
   "source": [
    "float(a)"
   ]
  },
  {
   "cell_type": "code",
   "execution_count": 85,
   "id": "3ff0a98a-e7f2-46ef-860f-30926f2b2682",
   "metadata": {},
   "outputs": [
    {
     "data": {
      "text/plain": [
       "str"
      ]
     },
     "execution_count": 85,
     "metadata": {},
     "output_type": "execute_result"
    }
   ],
   "source": [
    "a=\" Himanshu\"\n",
    "type(a)"
   ]
  },
  {
   "cell_type": "code",
   "execution_count": 86,
   "id": "f7998134-276e-4e1e-b240-1bf2f6a5ba9f",
   "metadata": {},
   "outputs": [
    {
     "ename": "ValueError",
     "evalue": "invalid literal for int() with base 10: ' Himanshu'",
     "output_type": "error",
     "traceback": [
      "\u001b[0;31m---------------------------------------------------------------------------\u001b[0m",
      "\u001b[0;31mValueError\u001b[0m                                Traceback (most recent call last)",
      "Cell \u001b[0;32mIn[86], line 1\u001b[0m\n\u001b[0;32m----> 1\u001b[0m \u001b[38;5;28;43mint\u001b[39;49m\u001b[43m(\u001b[49m\u001b[43ma\u001b[49m\u001b[43m)\u001b[49m\n",
      "\u001b[0;31mValueError\u001b[0m: invalid literal for int() with base 10: ' Himanshu'"
     ]
    }
   ],
   "source": [
    "int(a)"
   ]
  },
  {
   "cell_type": "code",
   "execution_count": 87,
   "id": "53229d20-fe9e-4fd3-8611-0b51a62bc183",
   "metadata": {},
   "outputs": [],
   "source": [
    "# string ( char) can't be converted into number "
   ]
  },
  {
   "cell_type": "code",
   "execution_count": 88,
   "id": "30674d02-55a9-4e6c-a5b3-f39f3cc5b2a4",
   "metadata": {},
   "outputs": [
    {
     "data": {
      "text/plain": [
       "False"
      ]
     },
     "execution_count": 88,
     "metadata": {},
     "output_type": "execute_result"
    }
   ],
   "source": [
    "# BOOLEAN TYPECASTING \n",
    "\n",
    "bool()"
   ]
  },
  {
   "cell_type": "code",
   "execution_count": 89,
   "id": "962b409f-eddf-4dab-80fb-02b9dfe4fc39",
   "metadata": {},
   "outputs": [
    {
     "data": {
      "text/plain": [
       "False"
      ]
     },
     "execution_count": 89,
     "metadata": {},
     "output_type": "execute_result"
    }
   ],
   "source": [
    "bool(0)"
   ]
  },
  {
   "cell_type": "code",
   "execution_count": 92,
   "id": "4a831724-3bcd-4ce4-aa10-f59a8d92df16",
   "metadata": {},
   "outputs": [],
   "source": [
    "# only at \" 0\" and \" null \" it gives false otherwise always true ( anything greater than 1 )"
   ]
  },
  {
   "cell_type": "code",
   "execution_count": 91,
   "id": "0f54d5e3-59ad-4e3a-8ba8-26e24cc29de9",
   "metadata": {},
   "outputs": [
    {
     "data": {
      "text/plain": [
       "True"
      ]
     },
     "execution_count": 91,
     "metadata": {},
     "output_type": "execute_result"
    }
   ],
   "source": [
    "bool(5)"
   ]
  },
  {
   "cell_type": "code",
   "execution_count": null,
   "id": "5e18855e-54aa-4faf-a9d5-0ecc5cfb440f",
   "metadata": {},
   "outputs": [],
   "source": [
    "# QUES 6, How do conditional statements work in python ? illustrate with examples .\n",
    "# answer :\n"
   ]
  },
  {
   "cell_type": "code",
   "execution_count": null,
   "id": "29692b90-8f61-46e0-8903-36d639ea0302",
   "metadata": {},
   "outputs": [],
   "source": [
    "# it help us to make decisions based on some preconditions .\n",
    "# it is of 4 types :\n",
    " #1. if statement\n",
    "#2. if else statement \n",
    "#3. if elif else statement\n",
    "#4. nested if else"
   ]
  },
  {
   "cell_type": "code",
   "execution_count": 93,
   "id": "b3939f56-cdd9-4fdc-8bdf-de66fbf15427",
   "metadata": {},
   "outputs": [
    {
     "name": "stdout",
     "output_type": "stream",
     "text": [
      " greater than given number \n"
     ]
    }
   ],
   "source": [
    "# if statement\n",
    "a=100\n",
    "if(a>10):\n",
    "    print(\" greater than given number \")"
   ]
  },
  {
   "cell_type": "code",
   "execution_count": 94,
   "id": "fbb7353b-832d-4f92-a30e-b527b0164c04",
   "metadata": {},
   "outputs": [],
   "source": [
    "# if the condition is false it gives no result"
   ]
  },
  {
   "cell_type": "code",
   "execution_count": 95,
   "id": "bcdfae48-3fe6-4aaa-83d5-0ddc0668e84f",
   "metadata": {},
   "outputs": [],
   "source": [
    "if(a<10):\n",
    "    print(\" greater\")"
   ]
  },
  {
   "cell_type": "code",
   "execution_count": null,
   "id": "da381284-4f7e-4597-a7d0-3d74ac0f070f",
   "metadata": {},
   "outputs": [],
   "source": [
    "# condition false no anser "
   ]
  },
  {
   "cell_type": "code",
   "execution_count": 100,
   "id": "1b870417-bd4b-49d5-9099-73b47f344a0e",
   "metadata": {},
   "outputs": [
    {
     "name": "stdout",
     "output_type": "stream",
     "text": [
      " sleep\n"
     ]
    }
   ],
   "source": [
    "# if else statement\n",
    "\n",
    "timing = \"ten\"\n",
    "\n",
    "if timing == \"ten\":\n",
    "    print(\" sleep\")\n",
    "else:\n",
    "    print(\" watch tv\")"
   ]
  },
  {
   "cell_type": "code",
   "execution_count": 103,
   "id": "a64e5040-87ba-4fb6-b47d-4e5130811338",
   "metadata": {},
   "outputs": [
    {
     "name": "stdout",
     "output_type": "stream",
     "text": [
      " a is less than 100\n"
     ]
    }
   ],
   "source": [
    "# if elif else \n",
    "\n",
    "a=10\n",
    "if a>100:\n",
    "    print(\" a is greater than 100\")\n",
    "elif a<100:\n",
    "     print(\" a is less than 100\")\n",
    "else:\n",
    "    print(\" a is equal to 100\")"
   ]
  },
  {
   "cell_type": "code",
   "execution_count": 114,
   "id": "ca408efc-60c8-4c2f-9138-efd67783eba6",
   "metadata": {},
   "outputs": [
    {
     "name": "stdout",
     "output_type": "stream",
     "text": [
      " both x and y are greater than 5 \n"
     ]
    }
   ],
   "source": [
    "# NESTED IF ELSE \n",
    "\n",
    "x= 10\n",
    "y=6\n",
    "if x>5:\n",
    "    if(y>5):\n",
    "        print(\" both x and y are greater than 5 \")\n",
    "    else:\n",
    "        print(\" x is greater than 5 but y is less than 5\")\n",
    "else:\n",
    "    print(\" x is not greater than 5 \")"
   ]
  },
  {
   "cell_type": "code",
   "execution_count": 115,
   "id": "21c21f25-4f4b-45e8-879c-12c83262d0db",
   "metadata": {},
   "outputs": [],
   "source": [
    "# QUES 7. Describe the different types of loops in python and there use cases with examples ?"
   ]
  },
  {
   "cell_type": "code",
   "execution_count": null,
   "id": "5b9f155e-378e-4319-8afe-c3e41bf9ed1f",
   "metadata": {},
   "outputs": [],
   "source": [
    "# ANSWER :\n",
    "\n",
    "# it allows us to execute the block of code repeatedly .\n",
    "# it is of two types : \n",
    "# while and for loop\n"
   ]
  },
  {
   "cell_type": "code",
   "execution_count": null,
   "id": "b12ccbbc-7110-4745-9b98-94b6003c30e5",
   "metadata": {},
   "outputs": [],
   "source": [
    "# while loop ( while is a keyword 0\n",
    "# it repeats the block of code until a condition is met."
   ]
  },
  {
   "cell_type": "code",
   "execution_count": 116,
   "id": "0130fce4-ea90-4e53-9e2a-cf83696dab36",
   "metadata": {},
   "outputs": [
    {
     "name": "stdout",
     "output_type": "stream",
     "text": [
      "1\n",
      "2\n",
      "3\n",
      "4\n",
      "5\n",
      "6\n"
     ]
    }
   ],
   "source": [
    "n=7\n",
    "i=1\n",
    "while i<n:\n",
    "    print(i)\n",
    "    i=i+1"
   ]
  },
  {
   "cell_type": "code",
   "execution_count": 117,
   "id": "c92d4031-bc7a-4ce0-befb-44b3e4f0e923",
   "metadata": {},
   "outputs": [
    {
     "name": "stdout",
     "output_type": "stream",
     "text": [
      "5\n",
      "4\n",
      "3\n",
      "2\n",
      "1\n"
     ]
    }
   ],
   "source": [
    "count = 5\n",
    "while count >0:\n",
    "    print(count)\n",
    "    count = count -1"
   ]
  },
  {
   "cell_type": "code",
   "execution_count": 118,
   "id": "1fdbac3f-7702-4bfc-b1d9-14ef1cfdac69",
   "metadata": {},
   "outputs": [
    {
     "name": "stdout",
     "output_type": "stream",
     "text": [
      "1\n",
      "2\n",
      "3\n",
      "4\n",
      "5\n",
      "6\n",
      " this block executed when there is no break is used \n"
     ]
    }
   ],
   "source": [
    "n=7\n",
    "i=1\n",
    "while i<n:\n",
    "    print(i)\n",
    "    i=i+1\n",
    "else:\n",
    "    print(\" this block executed when there is no break is used \")"
   ]
  },
  {
   "cell_type": "code",
   "execution_count": 120,
   "id": "8ede63ca-276c-49f3-9d8f-e599b5088000",
   "metadata": {},
   "outputs": [
    {
     "name": "stdout",
     "output_type": "stream",
     "text": [
      "3\n"
     ]
    }
   ],
   "source": [
    "n=7\n",
    "i=1\n",
    "while i<n:\n",
    "    if i==3:\n",
    "        print(i)\n",
    "        break\n",
    "    i=i+1\n",
    "else:\n",
    "    print(\" this block executed when there is no break is used \")"
   ]
  },
  {
   "cell_type": "code",
   "execution_count": null,
   "id": "b2d378b2-506d-4673-8ac9-e5b34f634ed9",
   "metadata": {},
   "outputs": [],
   "source": [
    "# FOR LOOP \n",
    "# ITERATE OVER A SEQUENCE OF ELEMENTS\n"
   ]
  },
  {
   "cell_type": "code",
   "execution_count": 1,
   "id": "19cb4819-f6b6-4cd1-b3cb-39844569f37f",
   "metadata": {},
   "outputs": [
    {
     "name": "stdout",
     "output_type": "stream",
     "text": [
      " \n",
      "p\n",
      "w\n",
      " \n",
      "s\n",
      "k\n",
      "i\n",
      "l\n",
      "l\n",
      "s\n",
      " \n"
     ]
    }
   ],
   "source": [
    "for i in \" pw skills \":\n",
    "    print(i)"
   ]
  },
  {
   "cell_type": "code",
   "execution_count": 5,
   "id": "6eec17cf-d7c8-4845-96e8-9a7fba13e05d",
   "metadata": {},
   "outputs": [
    {
     "name": "stdout",
     "output_type": "stream",
     "text": [
      "1\n",
      "2\n",
      "3\n",
      "himanshu\n"
     ]
    }
   ],
   "source": [
    "L= [ 1,2,3,\"himanshu\"]\n",
    "for i in L:\n",
    "    print(i)"
   ]
  },
  {
   "cell_type": "code",
   "execution_count": 7,
   "id": "50183303-8979-4994-825d-ac4a9f533867",
   "metadata": {},
   "outputs": [
    {
     "name": "stdout",
     "output_type": "stream",
     "text": [
      "0    1    2    3    4    5    6    7    8    9    10    11    12    13    14    "
     ]
    }
   ],
   "source": [
    "for i in range(0,15):\n",
    "    print(i,end=\"    \")"
   ]
  },
  {
   "cell_type": "code",
   "execution_count": 9,
   "id": "88fcd07e-29a6-4a43-9654-b8acf9d042d1",
   "metadata": {},
   "outputs": [
    {
     "data": {
      "text/plain": [
       "[0, 5, 10, 15, 20, 25, 30, 35, 40, 45, 50, 55, 60, 65, 70, 75, 80, 85, 90, 95]"
      ]
     },
     "execution_count": 9,
     "metadata": {},
     "output_type": "execute_result"
    }
   ],
   "source": [
    "list (range( 0,100,5) )"
   ]
  },
  {
   "cell_type": "code",
   "execution_count": null,
   "id": "0164892d-2a43-4900-a1c7-44f42967bbc3",
   "metadata": {},
   "outputs": [],
   "source": []
  }
 ],
 "metadata": {
  "kernelspec": {
   "display_name": "Python 3 (ipykernel)",
   "language": "python",
   "name": "python3"
  },
  "language_info": {
   "codemirror_mode": {
    "name": "ipython",
    "version": 3
   },
   "file_extension": ".py",
   "mimetype": "text/x-python",
   "name": "python",
   "nbconvert_exporter": "python",
   "pygments_lexer": "ipython3",
   "version": "3.10.8"
  }
 },
 "nbformat": 4,
 "nbformat_minor": 5
}
