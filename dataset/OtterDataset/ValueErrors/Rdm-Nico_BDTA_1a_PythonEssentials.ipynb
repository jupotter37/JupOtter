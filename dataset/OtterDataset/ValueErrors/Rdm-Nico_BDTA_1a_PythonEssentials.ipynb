{
 "nbformat": 4,
 "nbformat_minor": 0,
 "metadata": {
  "colab": {
   "provenance": []
  },
  "kernelspec": {
   "name": "python3",
   "display_name": "Python 3"
  }
 },
 "cells": [
  {
   "cell_type": "markdown",
   "metadata": {
    "id": "y6-h_moMhdDF"
   },
   "source": [
    "# Python Informal Introduction\n",
    "\n",
    "# Foundamentals\n",
    "1. Official Python tutorial (http://docs.python.org)\n",
    "2. Python is an interpreted language. \n",
    "    - The Python interpreter runs a program by executing one statement at a time.\n",
    "3. Indentation\n",
    "4. Statements also do not need to be terminated by semicolons\n",
    "\n",
    "### Python is an object-oriented programming language \n",
    "- Everything is an object\n",
    "  - An object is a collection of data, commonly known as **attributes**, and the object has certain predefined **functions** to update these data or exchange data with other objects.\n",
    "- Every number, string, data structure, function, class, module, ... exists in the Python interpreter in its own “box” which is referred to as Python object. \n",
    "- Each object has an associated type (for example, string or function) and internal data. \n",
    "-In practice this makes the language very flexible, as even functions can be treated just like any other object.\n",
    "\n"
   ]
  },
  {
   "cell_type": "code",
   "metadata": {
    "id": "BLA6PisViGuF"
   },
   "source": [
    "type(5)"
   ],
   "execution_count": 1,
   "outputs": [
    {
     "data": {
      "text/plain": "int"
     },
     "execution_count": 1,
     "metadata": {},
     "output_type": "execute_result"
    }
   ]
  },
  {
   "cell_type": "code",
   "metadata": {
    "id": "qsWYe4hGiGp0"
   },
   "source": [
    "type(\"Francesco\")"
   ],
   "execution_count": null,
   "outputs": []
  },
  {
   "cell_type": "markdown",
   "metadata": {
    "id": "cuBZ5l89h7Km"
   },
   "source": [
    "Comments:\n",
    "  - Any text preceded by the hash mark (#) is ignored by the Python interpreter\n",
    "  - _# This code will no be executed_"
   ]
  },
  {
   "cell_type": "code",
   "metadata": {
    "id": "gzCQIHMaw0AE"
   },
   "source": [
    "# This is a comment, then it is ignored"
   ],
   "execution_count": null,
   "outputs": []
  },
  {
   "cell_type": "markdown",
   "metadata": {
    "id": "Pv8JpVrZjXuh"
   },
   "source": [
    "### Using Python as a Calculator"
   ]
  },
  {
   "cell_type": "code",
   "metadata": {
    "id": "wWmvlZFwjgn-"
   },
   "source": [
    "5*6"
   ],
   "execution_count": null,
   "outputs": []
  },
  {
   "cell_type": "code",
   "metadata": {
    "id": "Eho0buO7jgj-"
   },
   "source": [
    "50//4"
   ],
   "execution_count": null,
   "outputs": []
  },
  {
   "cell_type": "code",
   "metadata": {
    "id": "PTM2jBK6jggx"
   },
   "source": [
    "50/2"
   ],
   "execution_count": null,
   "outputs": []
  },
  {
   "cell_type": "code",
   "metadata": {
    "id": "5ngaPUTMjqxd"
   },
   "source": [
    "type(50//2)"
   ],
   "execution_count": 2,
   "outputs": [
    {
     "data": {
      "text/plain": "int"
     },
     "execution_count": 2,
     "metadata": {},
     "output_type": "execute_result"
    }
   ]
  },
  {
   "cell_type": "markdown",
   "metadata": {
    "id": "8Am8NwZRjqtx"
   },
   "source": [
    "Division (/) always returns a float. To do floor division and get an integer result (discarding any fractional result) you can use the // operator; to calculate the remainder you can use %.\n",
    "\n"
   ]
  },
  {
   "cell_type": "code",
   "metadata": {
    "id": "2GBLuN2soeRp"
   },
   "source": [
    "# Statement\n",
    "a = 1 + 2\n",
    "a"
   ],
   "execution_count": null,
   "outputs": []
  },
  {
   "cell_type": "code",
   "metadata": {
    "id": "8H9MZTVcNnXF"
   },
   "source": [
    "print(a)"
   ],
   "execution_count": null,
   "outputs": []
  },
  {
   "cell_type": "code",
   "metadata": {
    "id": "pTxHT8_OOMiz"
   },
   "source": [
    "a=a+4"
   ],
   "execution_count": null,
   "outputs": []
  },
  {
   "cell_type": "code",
   "metadata": {
    "id": "WfVFNUW_OSJy"
   },
   "source": [
    "a1 = a"
   ],
   "execution_count": null,
   "outputs": []
  },
  {
   "cell_type": "code",
   "metadata": {
    "id": "0s4MrICkOMaP"
   },
   "source": [
    "print(a)"
   ],
   "execution_count": null,
   "outputs": []
  },
  {
   "cell_type": "code",
   "metadata": {
    "id": "8LONzveznhpJ"
   },
   "source": [
    "type(a)"
   ],
   "execution_count": null,
   "outputs": []
  },
  {
   "cell_type": "markdown",
   "metadata": {
    "id": "r7XoEIDVn0pS"
   },
   "source": [
    "The last printed expression is assigned to the variable _. \n",
    "It is somewhat easier to continue calculations"
   ]
  },
  {
   "cell_type": "code",
   "metadata": {
    "id": "h7g6LXhVnrlE"
   },
   "source": [
    "tax = 12.5 / 100\n",
    "price = 100.50\n",
    "price * tax\n"
   ],
   "execution_count": 3,
   "outputs": [
    {
     "data": {
      "text/plain": "12.5625"
     },
     "execution_count": 3,
     "metadata": {},
     "output_type": "execute_result"
    }
   ]
  },
  {
   "cell_type": "code",
   "metadata": {
    "id": "OEKjuQPwoCxF"
   },
   "source": [
    "price + _"
   ],
   "execution_count": 4,
   "outputs": [
    {
     "data": {
      "text/plain": "113.0625"
     },
     "execution_count": 4,
     "metadata": {},
     "output_type": "execute_result"
    }
   ]
  },
  {
   "cell_type": "code",
   "metadata": {
    "id": "uDMDPBS7Our0"
   },
   "source": [
    "_4"
   ],
   "execution_count": 5,
   "outputs": [
    {
     "data": {
      "text/plain": "113.0625"
     },
     "execution_count": 5,
     "metadata": {},
     "output_type": "execute_result"
    }
   ]
  },
  {
   "cell_type": "code",
   "metadata": {
    "id": "pthmJ4zVGQCt"
   },
   "source": [
    "a = 7; b=7"
   ],
   "execution_count": null,
   "outputs": []
  },
  {
   "cell_type": "code",
   "metadata": {
    "id": "cS_hpW-LPR3Q"
   },
   "source": [
    "a=7\n",
    "b=7"
   ],
   "execution_count": null,
   "outputs": []
  },
  {
   "cell_type": "markdown",
   "metadata": {
    "id": "QI33zsHhin_-"
   },
   "source": [
    "### Function and object method calls\n",
    "\n",
    "- Functions are called using parentheses and passing zero or more arguments, optionally assigning the returned value to a variable.\n",
    "- The list if built-in Python functions is https://docs.python.org/3/library/functions.html"
   ]
  },
  {
   "cell_type": "code",
   "metadata": {
    "id": "SmL1dRs8ijsR"
   },
   "source": [
    "# max returns the largest item in an iterable\n",
    "max(1, 2, 3)"
   ],
   "execution_count": 6,
   "outputs": [
    {
     "data": {
      "text/plain": "3"
     },
     "execution_count": 6,
     "metadata": {},
     "output_type": "execute_result"
    }
   ]
  },
  {
   "cell_type": "code",
   "metadata": {
    "id": "5Na-sd1HjWBN"
   },
   "source": [
    "result = max(1,5)\n",
    "result"
   ],
   "execution_count": 7,
   "outputs": [
    {
     "data": {
      "text/plain": "5"
     },
     "execution_count": 7,
     "metadata": {},
     "output_type": "execute_result"
    }
   ]
  },
  {
   "cell_type": "code",
   "metadata": {
    "id": "6OcKqEfqgt3K"
   },
   "source": [
    "# len returns the length of an object\n",
    "len([1, 2, 4])"
   ],
   "execution_count": 8,
   "outputs": [
    {
     "data": {
      "text/plain": "3"
     },
     "execution_count": 8,
     "metadata": {},
     "output_type": "execute_result"
    }
   ]
  },
  {
   "cell_type": "code",
   "metadata": {
    "id": "eCEn8kO6rxxb"
   },
   "source": [
    "# print a message onto the screen\n",
    "print(\"Luigi\")"
   ],
   "execution_count": null,
   "outputs": []
  },
  {
   "cell_type": "markdown",
   "metadata": {
    "id": "CvtvoXtlkC_r"
   },
   "source": [
    "- In Python a function is defined using the _**def**_ keyword"
   ]
  },
  {
   "cell_type": "code",
   "metadata": {
    "id": "qM5GnMr6jixd"
   },
   "source": [
    "def somma(a, b):\n",
    "  c = a + b\n",
    "  #print(\"Somma\")\n",
    "  return c"
   ],
   "execution_count": 9,
   "outputs": []
  },
  {
   "cell_type": "code",
   "metadata": {
    "id": "-_KInaLWjjCD"
   },
   "source": [
    "somma(8, 9)"
   ],
   "execution_count": null,
   "outputs": []
  },
  {
   "cell_type": "code",
   "metadata": {
    "id": "krkw1nqIjGGt"
   },
   "source": [
    "#somma(8)\n",
    "a= somma(7, 6)"
   ],
   "execution_count": null,
   "outputs": []
  },
  {
   "cell_type": "code",
   "metadata": {
    "id": "bQ3E7SKRHmHv"
   },
   "source": [
    "type(a)"
   ],
   "execution_count": null,
   "outputs": []
  },
  {
   "cell_type": "code",
   "metadata": {
    "id": "sDaxf1EQkb-U"
   },
   "source": [
    "a= somma(1.3, 5)"
   ],
   "execution_count": null,
   "outputs": []
  },
  {
   "cell_type": "code",
   "metadata": {
    "id": "cdzm8d0KHt1j"
   },
   "source": [
    "type(a)"
   ],
   "execution_count": null,
   "outputs": []
  },
  {
   "cell_type": "code",
   "metadata": {
    "id": "YWexyPg3H6ci"
   },
   "source": [
    "somma(1,10.)"
   ],
   "execution_count": 12,
   "outputs": [
    {
     "data": {
      "text/plain": "11.0"
     },
     "execution_count": 12,
     "metadata": {},
     "output_type": "execute_result"
    }
   ]
  },
  {
   "cell_type": "code",
   "metadata": {
    "id": "XgJ1xZzgjKlt"
   },
   "source": [
    "somma('ciao ', 15)"
   ],
   "execution_count": 10,
   "outputs": [
    {
     "ename": "TypeError",
     "evalue": "can only concatenate str (not \"int\") to str",
     "output_type": "error",
     "traceback": [
      "\u001B[1;31m---------------------------------------------------------------------------\u001B[0m",
      "\u001B[1;31mTypeError\u001B[0m                                 Traceback (most recent call last)",
      "Cell \u001B[1;32mIn[10], line 1\u001B[0m\n\u001B[1;32m----> 1\u001B[0m \u001B[43msomma\u001B[49m\u001B[43m(\u001B[49m\u001B[38;5;124;43m'\u001B[39;49m\u001B[38;5;124;43mciao \u001B[39;49m\u001B[38;5;124;43m'\u001B[39;49m\u001B[43m,\u001B[49m\u001B[43m \u001B[49m\u001B[38;5;241;43m15\u001B[39;49m\u001B[43m)\u001B[49m\n",
      "Cell \u001B[1;32mIn[9], line 2\u001B[0m, in \u001B[0;36msomma\u001B[1;34m(a, b)\u001B[0m\n\u001B[0;32m      1\u001B[0m \u001B[38;5;28;01mdef\u001B[39;00m \u001B[38;5;21msomma\u001B[39m(a, b):\n\u001B[1;32m----> 2\u001B[0m   c \u001B[38;5;241m=\u001B[39m \u001B[43ma\u001B[49m\u001B[43m \u001B[49m\u001B[38;5;241;43m+\u001B[39;49m\u001B[43m \u001B[49m\u001B[43mb\u001B[49m\n\u001B[0;32m      3\u001B[0m   \u001B[38;5;66;03m#print(\"Somma\")\u001B[39;00m\n\u001B[0;32m      4\u001B[0m   \u001B[38;5;28;01mreturn\u001B[39;00m c\n",
      "\u001B[1;31mTypeError\u001B[0m: can only concatenate str (not \"int\") to str"
     ]
    }
   ]
  },
  {
   "cell_type": "code",
   "metadata": {
    "id": "sgPyhzX8ISg2"
   },
   "source": [
    "somma('ciao ', str(15))"
   ],
   "execution_count": 11,
   "outputs": [
    {
     "data": {
      "text/plain": "'ciao 15'"
     },
     "execution_count": 11,
     "metadata": {},
     "output_type": "execute_result"
    }
   ]
  },
  {
   "cell_type": "code",
   "metadata": {
    "id": "3ROUYcbxm7cW"
   },
   "source": [
    "def somma(a=5, b=7):\n",
    "    return a + b"
   ],
   "execution_count": 13,
   "outputs": []
  },
  {
   "cell_type": "code",
   "metadata": {
    "id": "8m5fCwp1RT7r"
   },
   "source": [
    "somma(12)"
   ],
   "execution_count": 14,
   "outputs": [
    {
     "data": {
      "text/plain": "19"
     },
     "execution_count": 14,
     "metadata": {},
     "output_type": "execute_result"
    }
   ]
  },
  {
   "cell_type": "code",
   "metadata": {
    "id": "SfBSpH3TJHyr"
   },
   "source": [
    "somma(b=100, a=4)"
   ],
   "execution_count": null,
   "outputs": []
  },
  {
   "cell_type": "code",
   "metadata": {
    "id": "VdGC61LcRdsY"
   },
   "source": [
    "somma(4,b=100)"
   ],
   "execution_count": null,
   "outputs": []
  },
  {
   "cell_type": "code",
   "metadata": {
    "id": "R_MJF6V6n-5n"
   },
   "source": [
    "somma()"
   ],
   "execution_count": null,
   "outputs": []
  },
  {
   "cell_type": "code",
   "metadata": {
    "id": "IkMHMWwEC5yy"
   },
   "source": [
    "#Functions can return more values\n",
    "def sumComplete(a=5, b=7):\n",
    "    return a,b,a + b"
   ],
   "execution_count": 15,
   "outputs": []
  },
  {
   "cell_type": "code",
   "metadata": {
    "id": "4UdzJNc7C56D"
   },
   "source": [
    "sumComplete()"
   ],
   "execution_count": 16,
   "outputs": [
    {
     "data": {
      "text/plain": "(5, 7, 12)"
     },
     "execution_count": 16,
     "metadata": {},
     "output_type": "execute_result"
    }
   ]
  },
  {
   "cell_type": "code",
   "metadata": {
    "id": "z1FXSV6JC5-m"
   },
   "source": [
    "(add1, add2, sum) = sumComplete(3,4)"
   ],
   "execution_count": 17,
   "outputs": []
  },
  {
   "cell_type": "code",
   "metadata": {
    "id": "OlqIoDi6C6C4"
   },
   "source": [
    "sum"
   ],
   "execution_count": 18,
   "outputs": [
    {
     "data": {
      "text/plain": "7"
     },
     "execution_count": 18,
     "metadata": {},
     "output_type": "execute_result"
    }
   ]
  },
  {
   "cell_type": "markdown",
   "metadata": {
    "id": "aSYQ0KW3tRkn"
   },
   "source": [
    "- Almost every object in Python has methods, that have access to the object’s internal contents. \n",
    "They can be called using the syntax:\n",
    "    - _obj.method(1, 2, 3)_\n",
    "- Functions can take both positional and keyword arguments:\n",
    "    - _result = f(a, b, c, d=5, e=\"fff\")_"
   ]
  },
  {
   "cell_type": "markdown",
   "metadata": {
    "id": "i_bcR9BZt2nZ"
   },
   "source": [
    "- Variables and pass-by-reference\n",
    "    - When assigning a variable in Python, you are creating a reference to an object.\n",
    "    - Assignment is also referred to as binding, as we are binding a name to an object. \n",
    "    - When you pass objects as arguments to a function, you are only passing references; no copying occurs"
   ]
  },
  {
   "cell_type": "code",
   "metadata": {
    "id": "Ntm-5Y59uFJ9"
   },
   "source": [
    "a = [1, 2, 3]"
   ],
   "execution_count": null,
   "outputs": []
  },
  {
   "cell_type": "code",
   "metadata": {
    "id": "toQvFDQaudCm"
   },
   "source": [
    "a"
   ],
   "execution_count": null,
   "outputs": []
  },
  {
   "cell_type": "code",
   "metadata": {
    "id": "8I4qB1sNuZcY"
   },
   "source": [
    "b = a"
   ],
   "execution_count": null,
   "outputs": []
  },
  {
   "cell_type": "code",
   "metadata": {
    "id": "KDGC5xjpufzG"
   },
   "source": [
    "b"
   ],
   "execution_count": null,
   "outputs": []
  },
  {
   "cell_type": "code",
   "metadata": {
    "id": "Wlnt5iSbuhhn"
   },
   "source": [
    "a.append(4)"
   ],
   "execution_count": null,
   "outputs": []
  },
  {
   "cell_type": "code",
   "metadata": {
    "id": "MgS6SgI7utP6"
   },
   "source": [
    "a"
   ],
   "execution_count": null,
   "outputs": []
  },
  {
   "cell_type": "code",
   "metadata": {
    "id": "eAEoYmFxuiVD"
   },
   "source": [
    "b"
   ],
   "execution_count": null,
   "outputs": []
  },
  {
   "cell_type": "code",
   "metadata": {
    "id": "kIBvLI_IvvAF"
   },
   "source": [
    "a = 5\n",
    "b = a"
   ],
   "execution_count": null,
   "outputs": []
  },
  {
   "cell_type": "code",
   "metadata": {
    "id": "fOsjbfHKtVHJ"
   },
   "source": [
    "b"
   ],
   "execution_count": null,
   "outputs": []
  },
  {
   "cell_type": "code",
   "metadata": {
    "id": "Hr1pOHcH0PB1"
   },
   "source": [
    "a = 6"
   ],
   "execution_count": null,
   "outputs": []
  },
  {
   "cell_type": "code",
   "metadata": {
    "id": "iGaFHbxg0O2H"
   },
   "source": [
    "b"
   ],
   "execution_count": null,
   "outputs": []
  },
  {
   "cell_type": "markdown",
   "metadata": {
    "id": "EasSMpZoujxn"
   },
   "source": [
    "### Dynamic references, strong types\n",
    "- Object references in Python have no type associated with them\n",
    "- The object to which a reference is bound at a given time does have a type\n",
    "- Any given reference may be bound to objects of different types during the execution of a program"
   ]
  },
  {
   "cell_type": "code",
   "metadata": {
    "id": "1sQnFCs-vuub"
   },
   "source": [
    "a = 7\n",
    "f = \"Francesco\"\n",
    "g= f"
   ],
   "execution_count": null,
   "outputs": []
  },
  {
   "cell_type": "code",
   "metadata": {
    "id": "76L3R01fvue-"
   },
   "source": [
    "type(a)"
   ],
   "execution_count": null,
   "outputs": []
  },
  {
   "cell_type": "code",
   "metadata": {
    "id": "aLYpNvifvuQr"
   },
   "source": [
    "type(f)"
   ],
   "execution_count": null,
   "outputs": []
  },
  {
   "cell_type": "code",
   "metadata": {
    "id": "pMQ-XuzewEMV"
   },
   "source": [
    "type(g)"
   ],
   "execution_count": null,
   "outputs": []
  },
  {
   "cell_type": "code",
   "metadata": {
    "id": "2O6fQMpo00LZ"
   },
   "source": [
    "result = 5.0"
   ],
   "execution_count": null,
   "outputs": []
  },
  {
   "cell_type": "code",
   "metadata": {
    "id": "XXy8WmwZtX8C"
   },
   "source": [
    "result + result"
   ],
   "execution_count": null,
   "outputs": []
  },
  {
   "cell_type": "code",
   "metadata": {
    "id": "Gt1HiDn608Wk"
   },
   "source": [
    "type(result)"
   ],
   "execution_count": null,
   "outputs": []
  },
  {
   "cell_type": "code",
   "metadata": {
    "id": "86JtrUX_0-EA"
   },
   "source": [
    "result = \"result\""
   ],
   "execution_count": null,
   "outputs": []
  },
  {
   "cell_type": "code",
   "metadata": {
    "id": "W47SVYvR1AQ5"
   },
   "source": [
    "type(result)"
   ],
   "execution_count": null,
   "outputs": []
  },
  {
   "cell_type": "markdown",
   "metadata": {
    "id": "1Kz9K9Y51A12"
   },
   "source": [
    "- Python is considered a strongly-typed language, \n",
    "    - every object has a specific type\n",
    "    - implicit conversions occur only in certain obvious circumstances"
   ]
  },
  {
   "cell_type": "code",
   "metadata": {
    "id": "hfPBG0AM1JoA"
   },
   "source": [
    "a = 4.5\n",
    "b = 2"
   ],
   "execution_count": 30,
   "outputs": []
  },
  {
   "cell_type": "code",
   "metadata": {
    "id": "8DiE1KgE1u98"
   },
   "source": [
    "type(a / b) # Note in Python 2.X this is integer"
   ],
   "execution_count": null,
   "outputs": []
  },
  {
   "cell_type": "code",
   "metadata": {
    "id": "x1XJsPQC1wc6"
   },
   "source": [
    "a / b"
   ],
   "execution_count": null,
   "outputs": []
  },
  {
   "cell_type": "code",
   "metadata": {
    "id": "CHRwlLDoti81"
   },
   "source": [
    "int(a / b)"
   ],
   "execution_count": null,
   "outputs": []
  },
  {
   "cell_type": "code",
   "metadata": {
    "id": "SQfdumJN1yJw"
   },
   "source": [
    "type(a)"
   ],
   "execution_count": 31,
   "outputs": [
    {
     "data": {
      "text/plain": "float"
     },
     "execution_count": 31,
     "metadata": {},
     "output_type": "execute_result"
    }
   ]
  },
  {
   "cell_type": "code",
   "metadata": {
    "id": "pqWo_AQO1zwd"
   },
   "source": [
    "isinstance(a, int)"
   ],
   "execution_count": 32,
   "outputs": [
    {
     "data": {
      "text/plain": "False"
     },
     "execution_count": 32,
     "metadata": {},
     "output_type": "execute_result"
    }
   ]
  },
  {
   "cell_type": "markdown",
   "metadata": {
    "id": "Rk06A7kc10L9"
   },
   "source": [
    "### Operators and comparison\n",
    "- +,  -, \\*,  /,  \\*\\*, ...\n",
    "- The operators <, >, ==, >=, <=, and != compare the values of two objects"
   ]
  },
  {
   "cell_type": "code",
   "metadata": {
    "id": "7TADyoK22U_8"
   },
   "source": [
    "# Addition\n",
    "21 + 11.4"
   ],
   "execution_count": null,
   "outputs": []
  },
  {
   "cell_type": "code",
   "metadata": {
    "id": "mjZ8Ly_HqkK_"
   },
   "source": [
    "# Difference\n",
    "9 - 11"
   ],
   "execution_count": null,
   "outputs": []
  },
  {
   "cell_type": "code",
   "metadata": {
    "id": "J_0k1lzEqnRH"
   },
   "source": [
    "# Multiplication\n",
    "2 * 3"
   ],
   "execution_count": null,
   "outputs": []
  },
  {
   "cell_type": "code",
   "metadata": {
    "id": "UYrf__z8quJY"
   },
   "source": [
    "# Division\n",
    "9 / 3"
   ],
   "execution_count": null,
   "outputs": []
  },
  {
   "cell_type": "code",
   "metadata": {
    "id": "DAQcOIxcqwtd"
   },
   "source": [
    "# Power\n",
    "2 ** 3"
   ],
   "execution_count": 19,
   "outputs": [
    {
     "data": {
      "text/plain": "8"
     },
     "execution_count": 19,
     "metadata": {},
     "output_type": "execute_result"
    }
   ]
  },
  {
   "cell_type": "code",
   "metadata": {
    "id": "iCWuBoud2iYq"
   },
   "source": [
    "5 != 4"
   ],
   "execution_count": 20,
   "outputs": [
    {
     "data": {
      "text/plain": "True"
     },
     "execution_count": 20,
     "metadata": {},
     "output_type": "execute_result"
    }
   ]
  },
  {
   "cell_type": "code",
   "metadata": {
    "id": "6tcVYB3nq1vl"
   },
   "source": [
    "5 == 4"
   ],
   "execution_count": 21,
   "outputs": [
    {
     "data": {
      "text/plain": "False"
     },
     "execution_count": 21,
     "metadata": {},
     "output_type": "execute_result"
    }
   ]
  },
  {
   "cell_type": "code",
   "metadata": {
    "id": "Qvi05Z2ZrPbI"
   },
   "source": [
    "5 > 4"
   ],
   "execution_count": null,
   "outputs": []
  },
  {
   "cell_type": "code",
   "metadata": {
    "id": "2razXH_PrRbY"
   },
   "source": [
    "5 < 4"
   ],
   "execution_count": null,
   "outputs": []
  },
  {
   "cell_type": "code",
   "metadata": {
    "id": "fzqIQEoVrRSp"
   },
   "source": [
    "4 >= 4"
   ],
   "execution_count": null,
   "outputs": []
  },
  {
   "cell_type": "code",
   "metadata": {
    "id": "l4C54Kdqq9b0"
   },
   "source": [
    "19 / 3"
   ],
   "execution_count": null,
   "outputs": []
  },
  {
   "cell_type": "code",
   "metadata": {
    "id": "ijoBhu9huUS4"
   },
   "source": [
    "int(19 / 3)"
   ],
   "execution_count": 22,
   "outputs": [
    {
     "data": {
      "text/plain": "6"
     },
     "execution_count": 22,
     "metadata": {},
     "output_type": "execute_result"
    }
   ]
  },
  {
   "cell_type": "code",
   "metadata": {
    "id": "etpovqpoq_Xh"
   },
   "source": [
    "19 // 3 # parti intera della divisione"
   ],
   "execution_count": 23,
   "outputs": [
    {
     "data": {
      "text/plain": "6"
     },
     "execution_count": 23,
     "metadata": {},
     "output_type": "execute_result"
    }
   ]
  },
  {
   "cell_type": "code",
   "metadata": {
    "id": "f52c4CFu2k2d"
   },
   "source": [
    "19 % 3 # resto della divisione"
   ],
   "execution_count": 33,
   "outputs": [
    {
     "data": {
      "text/plain": "1"
     },
     "execution_count": 33,
     "metadata": {},
     "output_type": "execute_result"
    }
   ]
  },
  {
   "cell_type": "markdown",
   "metadata": {
    "id": "U3YrEuHT2mwy"
   },
   "source": [
    "### Imports\n",
    "- In Python a module is simply a .py file containing function and variable definitions along with such things imported from other .py files. "
   ]
  },
  {
   "cell_type": "code",
   "metadata": {
    "id": "K8tcx_f-u6at"
   },
   "source": [
    "import numpy"
   ],
   "execution_count": 34,
   "outputs": []
  },
  {
   "cell_type": "code",
   "metadata": {
    "id": "jJL4Dv0qvOJM"
   },
   "source": [
    "numpy.array([1,2,3])"
   ],
   "execution_count": 35,
   "outputs": [
    {
     "data": {
      "text/plain": "array([1, 2, 3])"
     },
     "execution_count": 35,
     "metadata": {},
     "output_type": "execute_result"
    }
   ]
  },
  {
   "cell_type": "code",
   "metadata": {
    "id": "4YajOuMbLJN9"
   },
   "source": [
    "type(numpy.array([1,2,3]))"
   ],
   "execution_count": null,
   "outputs": []
  },
  {
   "cell_type": "code",
   "metadata": {
    "id": "tP7bqPBd2r1K"
   },
   "source": [
    "import numpy as np \n",
    "\n",
    "array = np.array([[1, 2, 3], [4, 5, 6]])\n",
    "array"
   ],
   "execution_count": 36,
   "outputs": [
    {
     "data": {
      "text/plain": "array([[1, 2, 3],\n       [4, 5, 6]])"
     },
     "execution_count": 36,
     "metadata": {},
     "output_type": "execute_result"
    }
   ]
  },
  {
   "cell_type": "code",
   "metadata": {
    "id": "DVdqzJdC2vPD"
   },
   "source": [
    "from numpy import array\n",
    "array([[1, 2, 3], [4, 5, 6]])"
   ],
   "execution_count": null,
   "outputs": []
  },
  {
   "cell_type": "markdown",
   "metadata": {
    "id": "0BuWo5cv2xGZ"
   },
   "source": [
    "## Mutable and immutable objects\n",
    "- Most objects in Python are mutable: the object or values that they contain can be modified\n",
    "  - lists, dicts, NumPy arrays, or most user-defined types (classes).\n",
    "- Other object cannot be modified after their creation\n",
    "  - strings and tuples."
   ]
  },
  {
   "cell_type": "code",
   "metadata": {
    "id": "QZ-m1pgyzcBM"
   },
   "source": [
    "a = 7"
   ],
   "execution_count": null,
   "outputs": []
  },
  {
   "cell_type": "code",
   "metadata": {
    "id": "Z-cIL-d20Alt"
   },
   "source": [
    "a = a + 1\n",
    "a"
   ],
   "execution_count": null,
   "outputs": []
  },
  {
   "cell_type": "code",
   "metadata": {
    "id": "-Pnos8qQ21LQ"
   },
   "source": [
    "esempio_Lista = [1, \"Ciao\", 4]"
   ],
   "execution_count": 37,
   "outputs": []
  },
  {
   "cell_type": "code",
   "metadata": {
    "id": "f4c3gYYq5_FA"
   },
   "source": [
    "type(esempio_Lista)"
   ],
   "execution_count": 38,
   "outputs": [
    {
     "data": {
      "text/plain": "list"
     },
     "execution_count": 38,
     "metadata": {},
     "output_type": "execute_result"
    }
   ]
  },
  {
   "cell_type": "code",
   "metadata": {
    "id": "U9fA0QyK56HZ"
   },
   "source": [
    "esempio_Lista"
   ],
   "execution_count": null,
   "outputs": []
  },
  {
   "cell_type": "code",
   "metadata": {
    "id": "jtJRlPjq58dp"
   },
   "source": [
    "esempio_Lista[2]"
   ],
   "execution_count": null,
   "outputs": []
  },
  {
   "cell_type": "code",
   "metadata": {
    "id": "RO8X0oyH59wX"
   },
   "source": [
    "esempio_Lista[2] = 48\n"
   ],
   "execution_count": null,
   "outputs": []
  },
  {
   "cell_type": "code",
   "metadata": {
    "id": "MjoGdY-D0dNK"
   },
   "source": [
    "esempio_Lista"
   ],
   "execution_count": null,
   "outputs": []
  },
  {
   "cell_type": "code",
   "metadata": {
    "id": "oA7dt_U_6BiJ"
   },
   "source": [
    "esempio_Stringa = \"Francesco\""
   ],
   "execution_count": null,
   "outputs": []
  },
  {
   "cell_type": "code",
   "metadata": {
    "id": "uL8I_Q1G6Crz"
   },
   "source": [
    "esempio_Stringa[8]"
   ],
   "execution_count": null,
   "outputs": []
  },
  {
   "cell_type": "code",
   "metadata": {
    "id": "mDJEYnoY6D73"
   },
   "source": [
    "esempio_Stringa[8] = 'a'"
   ],
   "execution_count": null,
   "outputs": []
  },
  {
   "cell_type": "code",
   "metadata": {
    "id": "n-CQ9m826GDE"
   },
   "source": [
    "esempio_Stringa = 'Francesca'"
   ],
   "execution_count": null,
   "outputs": []
  },
  {
   "cell_type": "markdown",
   "metadata": {
    "id": "BEVCVTEq6Gvp"
   },
   "source": [
    "## Scalar Types\n",
    "\n"
   ]
  },
  {
   "cell_type": "markdown",
   "metadata": {
    "id": "6dtVAA_qC1K6"
   },
   "source": [
    "### Numeric\n",
    "\n",
    "- The primary Python types for numbers are int and float\n",
    "   - In Python3, value of an integer is not restricted by the number of bits and can expand to the limit of the available memorys.\n",
    "\n",
    "- Floating point numbers are represented with the float type.\n",
    "   - Under the hood each one is a double-precision (64 bits) value.\n",
    "   - They can also be expressed using scientific notation.\n"
   ]
  },
  {
   "cell_type": "code",
   "metadata": {
    "id": "EuTlZ-_06TTO"
   },
   "source": [
    "intValue = 9223\n",
    "intValue"
   ],
   "execution_count": null,
   "outputs": []
  },
  {
   "cell_type": "code",
   "metadata": {
    "id": "jpT-8EZdsaFR"
   },
   "source": [
    "print(intValue**intValue)"
   ],
   "execution_count": null,
   "outputs": []
  },
  {
   "cell_type": "code",
   "metadata": {
    "id": "jQ2TYaD_6qW1"
   },
   "source": [
    "type(intValue)\n"
   ],
   "execution_count": null,
   "outputs": []
  },
  {
   "cell_type": "code",
   "metadata": {
    "id": "cTrZTBl26uN9"
   },
   "source": [
    "intValue = intValue +2"
   ],
   "execution_count": null,
   "outputs": []
  },
  {
   "cell_type": "code",
   "metadata": {
    "id": "MDWSSrdswutH"
   },
   "source": [
    "intValue"
   ],
   "execution_count": null,
   "outputs": []
  },
  {
   "cell_type": "code",
   "metadata": {
    "id": "VCmbJqZl6vhZ"
   },
   "source": [
    "type(intValue)"
   ],
   "execution_count": null,
   "outputs": []
  },
  {
   "cell_type": "code",
   "metadata": {
    "id": "Yxoh-fU-6wzK"
   },
   "source": [
    "flVaue = 4.765"
   ],
   "execution_count": null,
   "outputs": []
  },
  {
   "cell_type": "code",
   "metadata": {
    "id": "InLFkyQ_61M8"
   },
   "source": [
    "flValueScient = 4.123e22"
   ],
   "execution_count": 39,
   "outputs": []
  },
  {
   "cell_type": "code",
   "metadata": {
    "id": "3NCIjeUk61pQ"
   },
   "source": [
    "flValueScient"
   ],
   "execution_count": 40,
   "outputs": [
    {
     "data": {
      "text/plain": "4.123e+22"
     },
     "execution_count": 40,
     "metadata": {},
     "output_type": "execute_result"
    }
   ]
  },
  {
   "cell_type": "code",
   "metadata": {
    "id": "jkOB_OmgxK6l"
   },
   "source": [
    "flValueScient + 2**22"
   ],
   "execution_count": 43,
   "outputs": [
    {
     "data": {
      "text/plain": "4.123000000000001e+22"
     },
     "execution_count": 43,
     "metadata": {},
     "output_type": "execute_result"
    }
   ]
  },
  {
   "cell_type": "code",
   "metadata": {
    "id": "3DuzDYbOxAIH"
   },
   "source": [
    "4.123 * 10**22"
   ],
   "execution_count": null,
   "outputs": []
  },
  {
   "cell_type": "code",
   "metadata": {
    "id": "cOWgWthP3wxU"
   },
   "source": [
    "type(flValueScient)"
   ],
   "execution_count": null,
   "outputs": []
  },
  {
   "cell_type": "code",
   "metadata": {
    "id": "wTb5frx83w-p"
   },
   "source": [
    "#overflow\n",
    "flValueScient**flValueScient"
   ],
   "execution_count": 44,
   "outputs": [
    {
     "ename": "OverflowError",
     "evalue": "(34, 'Result too large')",
     "output_type": "error",
     "traceback": [
      "\u001B[1;31m---------------------------------------------------------------------------\u001B[0m",
      "\u001B[1;31mOverflowError\u001B[0m                             Traceback (most recent call last)",
      "Cell \u001B[1;32mIn[44], line 2\u001B[0m\n\u001B[0;32m      1\u001B[0m \u001B[38;5;66;03m#overflow\u001B[39;00m\n\u001B[1;32m----> 2\u001B[0m \u001B[43mflValueScient\u001B[49m\u001B[38;5;241;43m*\u001B[39;49m\u001B[38;5;241;43m*\u001B[39;49m\u001B[43mflValueScient\u001B[49m\n",
      "\u001B[1;31mOverflowError\u001B[0m: (34, 'Result too large')"
     ]
    }
   ]
  },
  {
   "cell_type": "markdown",
   "metadata": {
    "id": "lB4Vzg-4629_"
   },
   "source": [
    "### Strings\n",
    "- You can write string using either single quotes ' or double quotes \"\n",
    "- For multiline strings with line breaks, you can use triple quotes, either ''' or \"\"\"\n",
    "- Python strings are immutable; you cannot modify a string without creating a new string"
   ]
  },
  {
   "cell_type": "code",
   "metadata": {
    "id": "HwO6DBxMxasj"
   },
   "source": [
    "string1 = 'Questa è una stringa'\n",
    "string1"
   ],
   "execution_count": null,
   "outputs": []
  },
  {
   "cell_type": "code",
   "metadata": {
    "id": "khjtb33axeIR"
   },
   "source": [
    "string2 = \"Questa è una stringa\"\n",
    "string2"
   ],
   "execution_count": null,
   "outputs": []
  },
  {
   "cell_type": "code",
   "metadata": {
    "id": "5btcp800xroC"
   },
   "source": [
    "string1 == string2"
   ],
   "execution_count": null,
   "outputs": []
  },
  {
   "cell_type": "code",
   "metadata": {
    "id": "tDpTaYwU7D5t"
   },
   "source": [
    "string1 = 'Questa è una stringa'\n",
    "stringLunga = '''\n",
    "Stringa\n",
    "su più\n",
    "righe'''\n",
    "stringLunga"
   ],
   "execution_count": 45,
   "outputs": [
    {
     "data": {
      "text/plain": "'\\nStringa\\nsu più\\nrighe'"
     },
     "execution_count": 45,
     "metadata": {},
     "output_type": "execute_result"
    }
   ]
  },
  {
   "cell_type": "code",
   "metadata": {
    "id": "Uh84fLvq7IiG"
   },
   "source": [
    "stringLunga"
   ],
   "execution_count": null,
   "outputs": []
  },
  {
   "cell_type": "code",
   "metadata": {
    "id": "LrNxcOcqyCuY"
   },
   "source": [
    "type(string1)"
   ],
   "execution_count": null,
   "outputs": []
  },
  {
   "cell_type": "code",
   "metadata": {
    "id": "Ho-qIu7pyF2b"
   },
   "source": [
    "s = 'c'\n",
    "type(s)"
   ],
   "execution_count": null,
   "outputs": []
  },
  {
   "cell_type": "code",
   "metadata": {
    "id": "W3bTtd6oyMkQ"
   },
   "source": [
    "len(string1)"
   ],
   "execution_count": null,
   "outputs": []
  },
  {
   "cell_type": "markdown",
   "metadata": {
    "id": "b2riM52L7K1o"
   },
   "source": [
    "- Many Python objects can be converted to a string using the str function    \n",
    "- Adding two strings together concatenates them and produces a new string"
   ]
  },
  {
   "cell_type": "code",
   "metadata": {
    "id": "0WcWfs1N7RCL"
   },
   "source": [
    "a = 42"
   ],
   "execution_count": null,
   "outputs": []
  },
  {
   "cell_type": "code",
   "metadata": {
    "id": "BR6_L0tlyboU"
   },
   "source": [
    "type(a)"
   ],
   "execution_count": null,
   "outputs": []
  },
  {
   "cell_type": "code",
   "metadata": {
    "id": "igfVDEkIyV5i"
   },
   "source": [
    "str(42)"
   ],
   "execution_count": null,
   "outputs": []
  },
  {
   "cell_type": "code",
   "metadata": {
    "id": "DamF-1ummyHl"
   },
   "source": [
    "print(a)"
   ],
   "execution_count": null,
   "outputs": []
  },
  {
   "cell_type": "code",
   "metadata": {
    "id": "OI_YktMz7Vrb"
   },
   "source": [
    "print(str(a))"
   ],
   "execution_count": null,
   "outputs": []
  },
  {
   "cell_type": "code",
   "metadata": {
    "id": "y7OB7VbZ7Xsl"
   },
   "source": [
    "str(a)"
   ],
   "execution_count": null,
   "outputs": []
  },
  {
   "cell_type": "code",
   "metadata": {
    "id": "tKzvTcBUyjdN"
   },
   "source": [
    "42 + 42"
   ],
   "execution_count": null,
   "outputs": []
  },
  {
   "cell_type": "code",
   "metadata": {
    "id": "XXjtu9-zyhC5"
   },
   "source": [
    "'ciao' + 'ciao'"
   ],
   "execution_count": null,
   "outputs": []
  },
  {
   "cell_type": "code",
   "metadata": {
    "id": "7lqb1vxn7ZKp"
   },
   "source": [
    "b = 'Il risultato è '"
   ],
   "execution_count": null,
   "outputs": []
  },
  {
   "cell_type": "code",
   "metadata": {
    "id": "cs2SEUv67arL"
   },
   "source": [
    "b + a"
   ],
   "execution_count": null,
   "outputs": []
  },
  {
   "cell_type": "code",
   "metadata": {
    "id": "GQlLgEuE7dcB"
   },
   "source": [
    "b + str(a)"
   ],
   "execution_count": null,
   "outputs": []
  },
  {
   "cell_type": "code",
   "metadata": {
    "id": "mN_SqiFGywsS"
   },
   "source": [
    "int(7.12)"
   ],
   "execution_count": 46,
   "outputs": [
    {
     "data": {
      "text/plain": "7"
     },
     "execution_count": 46,
     "metadata": {},
     "output_type": "execute_result"
    }
   ]
  },
  {
   "cell_type": "code",
   "metadata": {
    "id": "aSnw3aqsyzne"
   },
   "source": [
    "int('ciao')"
   ],
   "execution_count": 47,
   "outputs": [
    {
     "ename": "ValueError",
     "evalue": "invalid literal for int() with base 10: 'ciao'",
     "output_type": "error",
     "traceback": [
      "\u001B[1;31m---------------------------------------------------------------------------\u001B[0m",
      "\u001B[1;31mValueError\u001B[0m                                Traceback (most recent call last)",
      "Cell \u001B[1;32mIn[47], line 1\u001B[0m\n\u001B[1;32m----> 1\u001B[0m \u001B[38;5;28;43mint\u001B[39;49m\u001B[43m(\u001B[49m\u001B[38;5;124;43m'\u001B[39;49m\u001B[38;5;124;43mciao\u001B[39;49m\u001B[38;5;124;43m'\u001B[39;49m\u001B[43m)\u001B[49m\n",
      "\u001B[1;31mValueError\u001B[0m: invalid literal for int() with base 10: 'ciao'"
     ]
    }
   ]
  },
  {
   "cell_type": "code",
   "metadata": {
    "id": "97L_T_kSy2Wb"
   },
   "source": [
    "int('10')"
   ],
   "execution_count": null,
   "outputs": []
  },
  {
   "cell_type": "markdown",
   "metadata": {
    "id": "-B21pxCy7fP4"
   },
   "source": [
    "### Booleans\n",
    "- The two boolean values are written as True and False. \n",
    "- Boolean values are combined with the and and or keywords"
   ]
  },
  {
   "cell_type": "code",
   "metadata": {
    "id": "D-KxEKmlzKil"
   },
   "source": [
    "b = True\n",
    "b"
   ],
   "execution_count": null,
   "outputs": []
  },
  {
   "cell_type": "code",
   "metadata": {
    "id": "YDnsXC5bzNjG"
   },
   "source": [
    "type(b)"
   ],
   "execution_count": null,
   "outputs": []
  },
  {
   "cell_type": "code",
   "metadata": {
    "id": "bC2Svqv77hqO"
   },
   "source": [
    "True or True"
   ],
   "execution_count": null,
   "outputs": []
  },
  {
   "cell_type": "code",
   "metadata": {
    "id": "jHWnQlyc7iux"
   },
   "source": [
    "True or False"
   ],
   "execution_count": null,
   "outputs": []
  },
  {
   "cell_type": "markdown",
   "metadata": {
    "id": "SPmeqsF97jH2"
   },
   "source": [
    "### None\n",
    "- None is the Python null value type\n",
    "- If a function does not explicitly return a value, it implicitly returns None\n"
   ]
  },
  {
   "cell_type": "code",
   "metadata": {
    "id": "oTSw45k8A-KA"
   },
   "source": [
    "k = None "
   ],
   "execution_count": 48,
   "outputs": []
  },
  {
   "cell_type": "code",
   "metadata": {
    "id": "8_FL9Dp6BBna"
   },
   "source": [
    "k is None"
   ],
   "execution_count": 49,
   "outputs": [
    {
     "data": {
      "text/plain": "True"
     },
     "execution_count": 49,
     "metadata": {},
     "output_type": "execute_result"
    }
   ]
  },
  {
   "cell_type": "code",
   "metadata": {
    "id": "6B0sCKkS4Iil"
   },
   "source": [
    "not k is None"
   ],
   "execution_count": 50,
   "outputs": [
    {
     "data": {
      "text/plain": "False"
     },
     "execution_count": 50,
     "metadata": {},
     "output_type": "execute_result"
    }
   ]
  },
  {
   "cell_type": "code",
   "metadata": {
    "id": "F1p7Wp6hv0qm"
   },
   "source": [
    "type(k)"
   ],
   "execution_count": null,
   "outputs": []
  },
  {
   "cell_type": "code",
   "metadata": {
    "id": "pnnRw4G55jtN"
   },
   "source": [
    "def prova(a=1,b=1):\n",
    "  c=a+b"
   ],
   "execution_count": null,
   "outputs": []
  },
  {
   "cell_type": "code",
   "metadata": {
    "id": "VU7sBK6p5jfx"
   },
   "source": [
    "type(prova)"
   ],
   "execution_count": null,
   "outputs": []
  },
  {
   "cell_type": "code",
   "metadata": {
    "id": "wLpHvoKB5w6g"
   },
   "source": [
    "result = prova()"
   ],
   "execution_count": null,
   "outputs": []
  },
  {
   "cell_type": "code",
   "metadata": {
    "id": "NuLfXDDG50fm"
   },
   "source": [
    "type(result)"
   ],
   "execution_count": null,
   "outputs": []
  },
  {
   "cell_type": "markdown",
   "metadata": {
    "id": "aQdat1FlBEWW"
   },
   "source": [
    "### Dates and times\n",
    "- The built-in Python datetime module provides datetime, date, and time types.\n"
   ]
  },
  {
   "cell_type": "code",
   "metadata": {
    "id": "twHylj_eBG3K"
   },
   "source": [
    "import datetime\n",
    "dt = datetime.datetime(2021, 6, 19)"
   ],
   "execution_count": 51,
   "outputs": []
  },
  {
   "cell_type": "code",
   "metadata": {
    "id": "Hi6TS5QK4tLA"
   },
   "source": [
    "type(dt)"
   ],
   "execution_count": 52,
   "outputs": [
    {
     "data": {
      "text/plain": "datetime.datetime"
     },
     "execution_count": 52,
     "metadata": {},
     "output_type": "execute_result"
    }
   ]
  },
  {
   "cell_type": "code",
   "metadata": {
    "id": "9rldLYgVBO4h"
   },
   "source": [
    "dt.date()"
   ],
   "execution_count": null,
   "outputs": []
  },
  {
   "cell_type": "code",
   "metadata": {
    "id": "J5QmnFFxBQjk"
   },
   "source": [
    "dt.time()"
   ],
   "execution_count": null,
   "outputs": []
  },
  {
   "cell_type": "code",
   "metadata": {
    "id": "5MGOf-Uy4103"
   },
   "source": [
    "dt.hour"
   ],
   "execution_count": null,
   "outputs": []
  },
  {
   "cell_type": "code",
   "metadata": {
    "id": "AT6QVFFYBXKx"
   },
   "source": [
    "dt = datetime.datetime(2019, 7, 1, 23, 24)"
   ],
   "execution_count": null,
   "outputs": []
  },
  {
   "cell_type": "code",
   "metadata": {
    "id": "978ghVcTBY0s"
   },
   "source": [
    "dt.time()"
   ],
   "execution_count": null,
   "outputs": []
  },
  {
   "cell_type": "code",
   "metadata": {
    "id": "kpw0OW6xv95z"
   },
   "source": [
    "dt.hour"
   ],
   "execution_count": null,
   "outputs": []
  },
  {
   "cell_type": "code",
   "metadata": {
    "id": "RoJ5Cspe5Asq"
   },
   "source": [
    "dt.minute"
   ],
   "execution_count": null,
   "outputs": []
  },
  {
   "cell_type": "code",
   "metadata": {
    "id": "A8zE2dDPBZvt"
   },
   "source": [
    "today = datetime.date.today() "
   ],
   "execution_count": 53,
   "outputs": []
  },
  {
   "cell_type": "code",
   "metadata": {
    "id": "LyVBXJKYBayd"
   },
   "source": [
    "print(today)"
   ],
   "execution_count": 54,
   "outputs": [
    {
     "name": "stdout",
     "output_type": "stream",
     "text": [
      "2023-03-06\n"
     ]
    }
   ]
  },
  {
   "cell_type": "code",
   "metadata": {
    "id": "JVBkh6z85O5V"
   },
   "source": [
    "type(today)"
   ],
   "execution_count": null,
   "outputs": []
  },
  {
   "cell_type": "code",
   "metadata": {
    "id": "ATMddGqev8f9"
   },
   "source": [
    "datetime.datetime.now()"
   ],
   "execution_count": null,
   "outputs": []
  },
  {
   "cell_type": "markdown",
   "metadata": {
    "id": "iG-37yjDBbW0"
   },
   "source": [
    "## Control flow\n"
   ]
  },
  {
   "cell_type": "markdown",
   "metadata": {
    "id": "1ffE3QzF9Zs0"
   },
   "source": [
    "### ***if***, ***elif***, and ***else***"
   ]
  },
  {
   "cell_type": "code",
   "metadata": {
    "id": "7jo6vtLFB0Qw"
   },
   "source": [
    "a = 4\n",
    "b = 5\n",
    "\n",
    "if (a < 5):\n",
    "    print(\"minore\")\n",
    "else:\n",
    "    print(\"a è maggiore o uguale\")\n",
    "\n",
    "if (b == 5):\n",
    "    print(\"b uguale\")\n",
    "else: \n",
    "    print(\"b diverso\")"
   ],
   "execution_count": null,
   "outputs": []
  },
  {
   "cell_type": "code",
   "metadata": {
    "id": "aH1BPQMC6PLO"
   },
   "source": [
    "a = 5\n",
    "if a == 7:\n",
    "  print('7')\n",
    "elif a == 5:\n",
    "  print('5')\n",
    "else:\n",
    "  print('diverso da 5 e 7')"
   ],
   "execution_count": null,
   "outputs": []
  },
  {
   "cell_type": "markdown",
   "metadata": {
    "id": "3c68VfWiB2rq"
   },
   "source": [
    "### ***for*** loops\n",
    "    - for loops are for iterating over a collection (like a list or tuple) or an iterator"
   ]
  },
  {
   "cell_type": "code",
   "metadata": {
    "id": "E4_K8WGRB6GU"
   },
   "source": [
    "sequence = [1, 2, 3, 5, 6]\n",
    "for i in sequence:\n",
    "    print(\"i = \", i)\n",
    "    i = i + 1\n",
    "    print(\"i+1 = \", i)\n",
    "    "
   ],
   "execution_count": null,
   "outputs": []
  },
  {
   "cell_type": "code",
   "metadata": {
    "id": "cg8WLvogB64h"
   },
   "source": [
    "sequence = [1, 2, None, 5, None, \"francesco\"]\n",
    "for i in sequence:\n",
    "    print(i)\n",
    "    if i is None:\n",
    "      print('errore')"
   ],
   "execution_count": 55,
   "outputs": [
    {
     "name": "stdout",
     "output_type": "stream",
     "text": [
      "1\n",
      "2\n",
      "None\n",
      "errore\n",
      "5\n",
      "None\n",
      "errore\n",
      "francesco\n"
     ]
    }
   ]
  },
  {
   "cell_type": "code",
   "metadata": {
    "id": "Q8jWJWto8gMG"
   },
   "source": [
    "range(10)"
   ],
   "execution_count": null,
   "outputs": []
  },
  {
   "cell_type": "code",
   "metadata": {
    "id": "9chqbW9HRiVh"
   },
   "source": [
    "for i in range(10):\n",
    "    print(i)\n",
    "    "
   ],
   "execution_count": 56,
   "outputs": [
    {
     "name": "stdout",
     "output_type": "stream",
     "text": [
      "0\n",
      "1\n",
      "2\n",
      "3\n",
      "4\n",
      "5\n",
      "6\n",
      "7\n",
      "8\n",
      "9\n"
     ]
    }
   ]
  },
  {
   "cell_type": "code",
   "metadata": {
    "id": "tcpdMgsVteBP"
   },
   "source": [
    "range(1, 10)"
   ],
   "execution_count": 57,
   "outputs": [
    {
     "data": {
      "text/plain": "range(1, 10)"
     },
     "execution_count": 57,
     "metadata": {},
     "output_type": "execute_result"
    }
   ]
  },
  {
   "cell_type": "code",
   "metadata": {
    "id": "ynwUeAZAxHZv"
   },
   "source": [
    "for i in range(1, 10):\n",
    "  print(i)"
   ],
   "execution_count": 58,
   "outputs": [
    {
     "name": "stdout",
     "output_type": "stream",
     "text": [
      "1\n",
      "2\n",
      "3\n",
      "4\n",
      "5\n",
      "6\n",
      "7\n",
      "8\n",
      "9\n"
     ]
    }
   ]
  },
  {
   "cell_type": "code",
   "metadata": {
    "id": "MR-IaDwpCFlI"
   },
   "source": [
    "a = range(0,10) # [0, 1, 2, 3, 4, 5, 6, 7, 8, 9]"
   ],
   "execution_count": 59,
   "outputs": []
  },
  {
   "cell_type": "code",
   "metadata": {
    "id": "MMV3LmgH84YM"
   },
   "source": [
    "for i in a:\n",
    "  print(i)"
   ],
   "execution_count": 61,
   "outputs": [
    {
     "name": "stdout",
     "output_type": "stream",
     "text": [
      "0\n",
      "1\n",
      "2\n",
      "3\n",
      "4\n",
      "5\n",
      "6\n",
      "7\n",
      "8\n",
      "9\n"
     ]
    }
   ]
  },
  {
   "cell_type": "code",
   "metadata": {
    "id": "KEPYPnTyCIdN"
   },
   "source": [
    "print(a)"
   ],
   "execution_count": 60,
   "outputs": [
    {
     "name": "stdout",
     "output_type": "stream",
     "text": [
      "range(0, 10)\n"
     ]
    }
   ]
  },
  {
   "cell_type": "code",
   "metadata": {
    "id": "NfOZkUNPCKpi"
   },
   "source": [
    "a[4]"
   ],
   "execution_count": 62,
   "outputs": [
    {
     "data": {
      "text/plain": "4"
     },
     "execution_count": 62,
     "metadata": {},
     "output_type": "execute_result"
    }
   ]
  },
  {
   "cell_type": "code",
   "metadata": {
    "id": "lH2gcPxjCMYx"
   },
   "source": [
    "for i in range(10):\n",
    "    print(i)"
   ],
   "execution_count": null,
   "outputs": []
  },
  {
   "cell_type": "code",
   "metadata": {
    "id": "rUEz8WQcCNze"
   },
   "source": [
    "for i in range(1, 10, 2): # incremento di 2\n",
    "    print(i)"
   ],
   "execution_count": 63,
   "outputs": [
    {
     "name": "stdout",
     "output_type": "stream",
     "text": [
      "1\n",
      "3\n",
      "5\n",
      "7\n",
      "9\n"
     ]
    }
   ]
  },
  {
   "cell_type": "code",
   "metadata": {
    "id": "zbtWzY-y5DaB"
   },
   "source": [
    "for i in range(10, 22, 3): # incremento di 3\n",
    "  print(i)"
   ],
   "execution_count": 64,
   "outputs": [
    {
     "name": "stdout",
     "output_type": "stream",
     "text": [
      "10\n",
      "13\n",
      "16\n",
      "19\n"
     ]
    }
   ]
  },
  {
   "cell_type": "markdown",
   "metadata": {
    "id": "SdDeLeuuCPLs"
   },
   "source": [
    "### ***while*** loops\n",
    "    - A while loop specifies a condition and a block of code that is to be executed until the condition evaluates to False or the loop is explicitly ended with break\n"
   ]
  },
  {
   "cell_type": "code",
   "metadata": {
    "id": "CXwx0oZ68NHp"
   },
   "source": [
    "while cond:\n",
    "  # esegui il codice"
   ],
   "execution_count": 65,
   "outputs": [
    {
     "ename": "IndentationError",
     "evalue": "expected an indented block (2115971697.py, line 2)",
     "output_type": "error",
     "traceback": [
      "\u001B[1;36m  Cell \u001B[1;32mIn[65], line 2\u001B[1;36m\u001B[0m\n\u001B[1;33m    # esegui il codice\u001B[0m\n\u001B[1;37m                      ^\u001B[0m\n\u001B[1;31mIndentationError\u001B[0m\u001B[1;31m:\u001B[0m expected an indented block\n"
     ]
    }
   ]
  },
  {
   "cell_type": "code",
   "metadata": {
    "id": "wlAMhcG3CREQ"
   },
   "source": [
    "i = 0\n",
    "while i < 10:\n",
    "    print(\"i=\",i)\n",
    "    for a in range(i, 10):\n",
    "      print (\"a=\",a )\n",
    "      \n",
    "    i = i + 1\n",
    "    \n",
    "    if i == 2:\n",
    "      break"
   ],
   "execution_count": null,
   "outputs": []
  },
  {
   "cell_type": "code",
   "metadata": {
    "id": "VwKJke968qCk"
   },
   "source": [
    "do {\n",
    "    codice\n",
    "} while(cond)"
   ],
   "execution_count": null,
   "outputs": []
  },
  {
   "cell_type": "code",
   "metadata": {
    "id": "xczJkIGW8tFZ"
   },
   "source": [
    "codice\n",
    "while cond:\n",
    "  codice"
   ],
   "execution_count": null,
   "outputs": []
  },
  {
   "cell_type": "markdown",
   "metadata": {
    "id": "Tq90m55NCTfk"
   },
   "source": [
    "## Built-in Data Structures"
   ]
  },
  {
   "cell_type": "markdown",
   "metadata": {
    "id": "o2WQh3k0DC1E"
   },
   "source": [
    "### Tuple\n",
    "- A tuple is a one-dimensional, fixed-length, immutable sequence of Python objects."
   ]
  },
  {
   "cell_type": "code",
   "metadata": {
    "id": "IeQxppdWDElm"
   },
   "source": [
    "tup = (1, 2, 3, 4, 5, 6)"
   ],
   "execution_count": 66,
   "outputs": []
  },
  {
   "cell_type": "code",
   "metadata": {
    "id": "uZN7kB1Bb-BN"
   },
   "source": [
    "tup"
   ],
   "execution_count": null,
   "outputs": []
  },
  {
   "cell_type": "code",
   "metadata": {
    "id": "W_UlVDirDLVz"
   },
   "source": [
    "type(tup)"
   ],
   "execution_count": 67,
   "outputs": [
    {
     "data": {
      "text/plain": "tuple"
     },
     "execution_count": 67,
     "metadata": {},
     "output_type": "execute_result"
    }
   ]
  },
  {
   "cell_type": "code",
   "metadata": {
    "id": "ceaqpQARDMrG"
   },
   "source": [
    "tup"
   ],
   "execution_count": null,
   "outputs": []
  },
  {
   "cell_type": "code",
   "metadata": {
    "id": "MqTZbkiJDQRG"
   },
   "source": [
    "tup[3]"
   ],
   "execution_count": null,
   "outputs": []
  },
  {
   "cell_type": "code",
   "metadata": {
    "id": "huqyoN0XzUlj"
   },
   "source": [
    "tup[3] = 1"
   ],
   "execution_count": 68,
   "outputs": [
    {
     "ename": "TypeError",
     "evalue": "'tuple' object does not support item assignment",
     "output_type": "error",
     "traceback": [
      "\u001B[1;31m---------------------------------------------------------------------------\u001B[0m",
      "\u001B[1;31mTypeError\u001B[0m                                 Traceback (most recent call last)",
      "Cell \u001B[1;32mIn[68], line 1\u001B[0m\n\u001B[1;32m----> 1\u001B[0m \u001B[43mtup\u001B[49m\u001B[43m[\u001B[49m\u001B[38;5;241;43m3\u001B[39;49m\u001B[43m]\u001B[49m \u001B[38;5;241m=\u001B[39m \u001B[38;5;241m1\u001B[39m\n",
      "\u001B[1;31mTypeError\u001B[0m: 'tuple' object does not support item assignment"
     ]
    }
   ]
  },
  {
   "cell_type": "code",
   "metadata": {
    "id": "1CIZ2Z0k_FXj"
   },
   "source": [
    "tup = (1, 2, 3, 1, 5, 6)\n",
    "tup"
   ],
   "execution_count": 69,
   "outputs": [
    {
     "data": {
      "text/plain": "(1, 2, 3, 1, 5, 6)"
     },
     "execution_count": 69,
     "metadata": {},
     "output_type": "execute_result"
    }
   ]
  },
  {
   "cell_type": "code",
   "metadata": {
    "id": "dlJWKgY0DTCa"
   },
   "source": [
    "nestedTuple = (1, 3, 5, 7, 9), (2, 4, 6, 8, 10)"
   ],
   "execution_count": 70,
   "outputs": []
  },
  {
   "cell_type": "code",
   "metadata": {
    "id": "G4jesX3F9cz-"
   },
   "source": [
    "nestedTuple"
   ],
   "execution_count": 71,
   "outputs": [
    {
     "data": {
      "text/plain": "((1, 3, 5, 7, 9), (2, 4, 6, 8, 10))"
     },
     "execution_count": 71,
     "metadata": {},
     "output_type": "execute_result"
    }
   ]
  },
  {
   "cell_type": "code",
   "metadata": {
    "id": "kihu7SpdLmYC"
   },
   "source": [
    "nestedTuple[0]"
   ],
   "execution_count": 72,
   "outputs": [
    {
     "data": {
      "text/plain": "(1, 3, 5, 7, 9)"
     },
     "execution_count": 72,
     "metadata": {},
     "output_type": "execute_result"
    }
   ]
  },
  {
   "cell_type": "code",
   "metadata": {
    "id": "uqKiMmj6clzU"
   },
   "source": [
    "nestedTuple[0][0]"
   ],
   "execution_count": 73,
   "outputs": [
    {
     "data": {
      "text/plain": "1"
     },
     "execution_count": 73,
     "metadata": {},
     "output_type": "execute_result"
    }
   ]
  },
  {
   "cell_type": "code",
   "metadata": {
    "id": "J3Om8u8G_GH1"
   },
   "source": [
    "nestedTuple[1][1]"
   ],
   "execution_count": 74,
   "outputs": [
    {
     "data": {
      "text/plain": "4"
     },
     "execution_count": 74,
     "metadata": {},
     "output_type": "execute_result"
    }
   ]
  },
  {
   "cell_type": "code",
   "metadata": {
    "id": "oOT-uJst9mgI"
   },
   "source": [
    "nestedTuple[0][4]"
   ],
   "execution_count": null,
   "outputs": []
  },
  {
   "cell_type": "code",
   "metadata": {
    "id": "Wx2rSlCT_Gpg"
   },
   "source": [
    "nestedTuple = ((1, 3, 5, 7, 9), (2, 4, 6, 8, 10))\n",
    "nestedTuple[1][1]"
   ],
   "execution_count": null,
   "outputs": []
  },
  {
   "cell_type": "code",
   "metadata": {
    "id": "niVlPS6FDU2E"
   },
   "source": [
    "nestedTuple"
   ],
   "execution_count": null,
   "outputs": []
  },
  {
   "cell_type": "code",
   "metadata": {
    "id": "rJ5qjtw5DWQB"
   },
   "source": [
    "nestedTuple[0][1]"
   ],
   "execution_count": null,
   "outputs": []
  },
  {
   "cell_type": "code",
   "metadata": {
    "id": "uHIYx60bDbWl"
   },
   "source": [
    "tuple(\"Francesco\")"
   ],
   "execution_count": 75,
   "outputs": [
    {
     "data": {
      "text/plain": "('F', 'r', 'a', 'n', 'c', 'e', 's', 'c', 'o')"
     },
     "execution_count": 75,
     "metadata": {},
     "output_type": "execute_result"
    }
   ]
  },
  {
   "cell_type": "code",
   "metadata": {
    "id": "pwmu3QeS95w8"
   },
   "source": [
    "tuple(\"Francesco\")[0]"
   ],
   "execution_count": 76,
   "outputs": [
    {
     "data": {
      "text/plain": "'F'"
     },
     "execution_count": 76,
     "metadata": {},
     "output_type": "execute_result"
    }
   ]
  },
  {
   "cell_type": "code",
   "metadata": {
    "id": "2jjuYQNeDYAN"
   },
   "source": [
    "tupMixed = 1, 'a', [1,2]"
   ],
   "execution_count": 77,
   "outputs": []
  },
  {
   "cell_type": "code",
   "metadata": {
    "id": "D8HtTK6iDaKk"
   },
   "source": [
    "tupMixed"
   ],
   "execution_count": 78,
   "outputs": [
    {
     "data": {
      "text/plain": "(1, 'a', [1, 2])"
     },
     "execution_count": 78,
     "metadata": {},
     "output_type": "execute_result"
    }
   ]
  },
  {
   "cell_type": "code",
   "metadata": {
    "id": "AnjavlylDcv4"
   },
   "source": [
    "tupMixed[0]"
   ],
   "execution_count": null,
   "outputs": []
  },
  {
   "cell_type": "code",
   "metadata": {
    "id": "nmXdmCVEDeN2"
   },
   "source": [
    "tupMixed[0] = 14"
   ],
   "execution_count": 79,
   "outputs": [
    {
     "ename": "TypeError",
     "evalue": "'tuple' object does not support item assignment",
     "output_type": "error",
     "traceback": [
      "\u001B[1;31m---------------------------------------------------------------------------\u001B[0m",
      "\u001B[1;31mTypeError\u001B[0m                                 Traceback (most recent call last)",
      "Cell \u001B[1;32mIn[79], line 1\u001B[0m\n\u001B[1;32m----> 1\u001B[0m \u001B[43mtupMixed\u001B[49m\u001B[43m[\u001B[49m\u001B[38;5;241;43m0\u001B[39;49m\u001B[43m]\u001B[49m \u001B[38;5;241m=\u001B[39m \u001B[38;5;241m14\u001B[39m\n",
      "\u001B[1;31mTypeError\u001B[0m: 'tuple' object does not support item assignment"
     ]
    }
   ]
  },
  {
   "cell_type": "code",
   "metadata": {
    "id": "Sg6TL5y-ABm_"
   },
   "source": [
    "tupMixed[2]"
   ],
   "execution_count": 80,
   "outputs": [
    {
     "data": {
      "text/plain": "[1, 2]"
     },
     "execution_count": 80,
     "metadata": {},
     "output_type": "execute_result"
    }
   ]
  },
  {
   "cell_type": "code",
   "metadata": {
    "id": "IAcUQI4qDfvp"
   },
   "source": [
    "tupMixed[2].append(14)"
   ],
   "execution_count": 81,
   "outputs": []
  },
  {
   "cell_type": "code",
   "metadata": {
    "id": "RDHjGnfcDhEx"
   },
   "source": [
    "tupMixed"
   ],
   "execution_count": 82,
   "outputs": [
    {
     "data": {
      "text/plain": "(1, 'a', [1, 2, 14])"
     },
     "execution_count": 82,
     "metadata": {},
     "output_type": "execute_result"
    }
   ]
  },
  {
   "cell_type": "markdown",
   "metadata": {
    "id": "-UuiSnSuDhXP"
   },
   "source": [
    "-  Tuple methods \n",
    "    - Tuples can be concatenated using the + operator\n",
    "    - One particularly useful method (also available on lists) is count, which counts the number of occurrences of a value  "
   ]
  },
  {
   "cell_type": "code",
   "metadata": {
    "id": "VB1MfiKx-P_O"
   },
   "source": [
    "tupMixed"
   ],
   "execution_count": 83,
   "outputs": [
    {
     "data": {
      "text/plain": "(1, 'a', [1, 2, 14])"
     },
     "execution_count": 83,
     "metadata": {},
     "output_type": "execute_result"
    }
   ]
  },
  {
   "cell_type": "code",
   "metadata": {
    "id": "nAdLi02yDrX0"
   },
   "source": [
    "nestedTuple + tupMixed"
   ],
   "execution_count": 84,
   "outputs": [
    {
     "data": {
      "text/plain": "((1, 3, 5, 7, 9), (2, 4, 6, 8, 10), 1, 'a', [1, 2, 14])"
     },
     "execution_count": 84,
     "metadata": {},
     "output_type": "execute_result"
    }
   ]
  },
  {
   "cell_type": "code",
   "metadata": {
    "id": "5PBEWqYlzztL"
   },
   "source": [
    "t1 = (1, 1, 1)\n",
    "t2 = (4, 5, 6)\n",
    "t = t1 + t2\n",
    "t"
   ],
   "execution_count": 91,
   "outputs": [
    {
     "data": {
      "text/plain": "(1, 1, 1, 4, 5, 6)"
     },
     "execution_count": 91,
     "metadata": {},
     "output_type": "execute_result"
    }
   ]
  },
  {
   "cell_type": "code",
   "metadata": {
    "id": "aMVH6satDs-H"
   },
   "source": [
    "tupMixed.count(1)"
   ],
   "execution_count": 93,
   "outputs": [
    {
     "data": {
      "text/plain": "1"
     },
     "execution_count": 93,
     "metadata": {},
     "output_type": "execute_result"
    }
   ]
  },
  {
   "cell_type": "code",
   "metadata": {
    "id": "dXZ0Rw4f-hsc"
   },
   "source": [
    "tupMixed"
   ],
   "execution_count": 86,
   "outputs": [
    {
     "data": {
      "text/plain": "(1, 'a', [1, 2, 14])"
     },
     "execution_count": 86,
     "metadata": {},
     "output_type": "execute_result"
    }
   ]
  },
  {
   "cell_type": "code",
   "metadata": {
    "id": "GKPL54OrDuFX"
   },
   "source": [
    "tupMixed.count('g')"
   ],
   "execution_count": 87,
   "outputs": [
    {
     "data": {
      "text/plain": "0"
     },
     "execution_count": 87,
     "metadata": {},
     "output_type": "execute_result"
    }
   ]
  },
  {
   "cell_type": "code",
   "metadata": {
    "id": "Pt9kXs1z-bmf"
   },
   "source": [
    "len(tupMixed)"
   ],
   "execution_count": null,
   "outputs": []
  },
  {
   "cell_type": "markdown",
   "metadata": {
    "id": "Y2OQv5eAD2nN"
   },
   "source": [
    "### List\n",
    "\n",
    "  - lists are variable-length and their contents can be modified\n",
    "  - They can be defined using square brackets **\\[ \\]** or using the list type function"
   ]
  },
  {
   "cell_type": "code",
   "metadata": {
    "id": "aUAN2-LBEPcL"
   },
   "source": [
    "listA = [0, 1, 2, 3]"
   ],
   "execution_count": 99,
   "outputs": []
  },
  {
   "cell_type": "code",
   "metadata": {
    "id": "nZJiH15buv2A"
   },
   "source": [
    "listA"
   ],
   "execution_count": null,
   "outputs": []
  },
  {
   "cell_type": "code",
   "metadata": {
    "id": "2ZgJQOKlutok"
   },
   "source": [
    "listA[0]"
   ],
   "execution_count": null,
   "outputs": []
  },
  {
   "cell_type": "code",
   "metadata": {
    "id": "M8Uk2SjtABVX"
   },
   "source": [
    "listA[0] = 555"
   ],
   "execution_count": null,
   "outputs": []
  },
  {
   "cell_type": "code",
   "metadata": {
    "id": "_XFlEop8AB7J"
   },
   "source": [
    "listA"
   ],
   "execution_count": null,
   "outputs": []
  },
  {
   "cell_type": "code",
   "metadata": {
    "id": "RkbdMFwtBNvF"
   },
   "source": [
    "listB = listA\n",
    "listB"
   ],
   "execution_count": null,
   "outputs": []
  },
  {
   "cell_type": "code",
   "metadata": {
    "id": "as21QMa1BNrn"
   },
   "source": [
    "listA[0]=1\n",
    "listB"
   ],
   "execution_count": null,
   "outputs": []
  },
  {
   "cell_type": "code",
   "source": [
    "listB[0]=44"
   ],
   "metadata": {
    "id": "3l1_w3vRNzhC"
   },
   "execution_count": null,
   "outputs": []
  },
  {
   "cell_type": "code",
   "source": [
    "listA[1]=111"
   ],
   "metadata": {
    "id": "01p8c6hzNzdg"
   },
   "execution_count": null,
   "outputs": []
  },
  {
   "cell_type": "code",
   "metadata": {
    "id": "XMGFFHXc0ZHw"
   },
   "source": [
    "tupMixed=(1,'a',[1,2,14])"
   ],
   "execution_count": 94,
   "outputs": []
  },
  {
   "cell_type": "code",
   "metadata": {
    "id": "7s-28fDSEThB"
   },
   "source": [
    "listB = list(tupMixed)"
   ],
   "execution_count": 95,
   "outputs": []
  },
  {
   "cell_type": "code",
   "metadata": {
    "id": "eKFelkESEX65"
   },
   "source": [
    "listB\n"
   ],
   "execution_count": 96,
   "outputs": [
    {
     "data": {
      "text/plain": "[1, 'a', [1, 2, 14]]"
     },
     "execution_count": 96,
     "metadata": {},
     "output_type": "execute_result"
    }
   ]
  },
  {
   "cell_type": "code",
   "metadata": {
    "id": "PEG0nNt7EZ4Q"
   },
   "source": [
    "listB[0] = 13"
   ],
   "execution_count": null,
   "outputs": []
  },
  {
   "cell_type": "code",
   "metadata": {
    "id": "QCKZtSqnBZR3"
   },
   "source": [
    "listB"
   ],
   "execution_count": null,
   "outputs": []
  },
  {
   "cell_type": "code",
   "metadata": {
    "id": "6JLdGe3P4k__"
   },
   "source": [
    "list('abcd')"
   ],
   "execution_count": 97,
   "outputs": [
    {
     "data": {
      "text/plain": "['a', 'b', 'c', 'd']"
     },
     "execution_count": 97,
     "metadata": {},
     "output_type": "execute_result"
    }
   ]
  },
  {
   "cell_type": "code",
   "metadata": {
    "id": "lsMOpTRv-94K"
   },
   "source": [
    "for i in list('abcde'):\n",
    "  print(i)"
   ],
   "execution_count": null,
   "outputs": []
  },
  {
   "cell_type": "markdown",
   "metadata": {
    "id": "ZukWErPjEbk4"
   },
   "source": [
    "- List methods\n",
    "    - Adding and removing elements\n",
    "    - Concatenating and combining lists\n",
    "    - Sorting\n",
    "    - Slicing\n",
    "    - Searching an element\n",
    "    - Enumerating elements\n",
    "    - Pairing lists\n",
    "\n"
   ]
  },
  {
   "cell_type": "code",
   "metadata": {
    "id": "82wwy_BG_KhH"
   },
   "source": [
    "listA"
   ],
   "execution_count": 98,
   "outputs": [
    {
     "ename": "NameError",
     "evalue": "name 'listA' is not defined",
     "output_type": "error",
     "traceback": [
      "\u001B[1;31m---------------------------------------------------------------------------\u001B[0m",
      "\u001B[1;31mNameError\u001B[0m                                 Traceback (most recent call last)",
      "Cell \u001B[1;32mIn[98], line 1\u001B[0m\n\u001B[1;32m----> 1\u001B[0m \u001B[43mlistA\u001B[49m\n",
      "\u001B[1;31mNameError\u001B[0m: name 'listA' is not defined"
     ]
    }
   ]
  },
  {
   "cell_type": "code",
   "metadata": {
    "id": "uxrAFgfaEdZi"
   },
   "source": [
    "# Adding element via append\n",
    "listA.append(4)\n",
    "listA"
   ],
   "execution_count": null,
   "outputs": []
  },
  {
   "cell_type": "code",
   "metadata": {
    "id": "Cewqy9lDAYMs"
   },
   "source": [
    "listA.append(1000)\n",
    "listA"
   ],
   "execution_count": null,
   "outputs": []
  },
  {
   "cell_type": "code",
   "metadata": {
    "id": "kZzup35OEglw"
   },
   "source": [
    "# Inserting an element in a specific location\n",
    "listA.insert(1, \"Francesco\")\n",
    "listA"
   ],
   "execution_count": 100,
   "outputs": [
    {
     "data": {
      "text/plain": "[0, 'Francesco', 1, 2, 3]"
     },
     "execution_count": 100,
     "metadata": {},
     "output_type": "execute_result"
    }
   ]
  },
  {
   "cell_type": "code",
   "metadata": {
    "id": "HRImzc3L_SLc"
   },
   "source": [
    "listA[1]"
   ],
   "execution_count": null,
   "outputs": []
  },
  {
   "cell_type": "code",
   "metadata": {
    "id": "Or-RrSu_Eg_K"
   },
   "source": [
    "listA"
   ],
   "execution_count": null,
   "outputs": []
  },
  {
   "cell_type": "code",
   "metadata": {
    "id": "KhYGF-BYE5G-"
   },
   "source": [
    "# Removing an element from a specific location\n",
    "listA.pop(0)"
   ],
   "execution_count": 101,
   "outputs": [
    {
     "data": {
      "text/plain": "0"
     },
     "execution_count": 101,
     "metadata": {},
     "output_type": "execute_result"
    }
   ]
  },
  {
   "cell_type": "code",
   "metadata": {
    "id": "J453bi3EE6ep"
   },
   "source": [
    "listA"
   ],
   "execution_count": 102,
   "outputs": [
    {
     "data": {
      "text/plain": "['Francesco', 1, 2, 3]"
     },
     "execution_count": 102,
     "metadata": {},
     "output_type": "execute_result"
    }
   ]
  },
  {
   "cell_type": "code",
   "metadata": {
    "id": "Z1KWY33UE8Y0"
   },
   "source": [
    "# Removing a specific element (the first in case of duplication) from a list\n",
    "listA.remove(4)"
   ],
   "execution_count": null,
   "outputs": []
  },
  {
   "cell_type": "code",
   "metadata": {
    "id": "jUtknNxYE9o9"
   },
   "source": [
    "listA"
   ],
   "execution_count": null,
   "outputs": []
  },
  {
   "cell_type": "code",
   "metadata": {
    "id": "AK_nTyKT_jjP"
   },
   "source": [
    "listA.remove(4)"
   ],
   "execution_count": null,
   "outputs": []
  },
  {
   "cell_type": "code",
   "metadata": {
    "id": "jgx7l0rf_og_"
   },
   "source": [
    "if 4 in listA:\n",
    "  listA.remove(4)"
   ],
   "execution_count": null,
   "outputs": []
  },
  {
   "cell_type": "code",
   "metadata": {
    "id": "K9EvlEa3FHOl"
   },
   "source": [
    "# Concatenating\n",
    "listA + listA"
   ],
   "execution_count": 103,
   "outputs": [
    {
     "data": {
      "text/plain": "['Francesco', 1, 2, 3, 'Francesco', 1, 2, 3]"
     },
     "execution_count": 103,
     "metadata": {},
     "output_type": "execute_result"
    }
   ]
  },
  {
   "cell_type": "code",
   "metadata": {
    "id": "3QT5aQlvUQoT"
   },
   "source": [
    "listA"
   ],
   "execution_count": 104,
   "outputs": [
    {
     "data": {
      "text/plain": "['Francesco', 1, 2, 3]"
     },
     "execution_count": 104,
     "metadata": {},
     "output_type": "execute_result"
    }
   ]
  },
  {
   "cell_type": "code",
   "metadata": {
    "id": "PyRRKKk5FIjw"
   },
   "source": [
    "# Extending\n",
    "listA.extend([4,5])"
   ],
   "execution_count": 105,
   "outputs": []
  },
  {
   "cell_type": "code",
   "metadata": {
    "id": "M1uIdD_torSu"
   },
   "source": [
    "listA"
   ],
   "execution_count": 106,
   "outputs": [
    {
     "data": {
      "text/plain": "['Francesco', 1, 2, 3, 4, 5]"
     },
     "execution_count": 106,
     "metadata": {},
     "output_type": "execute_result"
    }
   ]
  },
  {
   "cell_type": "code",
   "metadata": {
    "id": "Bk6LUJGRFJ1Y"
   },
   "source": [
    "listA.append([4,5])"
   ],
   "execution_count": null,
   "outputs": []
  },
  {
   "cell_type": "code",
   "metadata": {
    "id": "nTrZFbFnox6F"
   },
   "source": [
    "listA"
   ],
   "execution_count": null,
   "outputs": []
  },
  {
   "cell_type": "code",
   "metadata": {
    "id": "X8NIl18sFLno"
   },
   "source": [
    "# Sorting\n",
    "listNum = [0,43,27,18,90,4]"
   ],
   "execution_count": 108,
   "outputs": []
  },
  {
   "cell_type": "code",
   "metadata": {
    "id": "efvSG54HFOQQ"
   },
   "source": [
    "listNum.sort()"
   ],
   "execution_count": 109,
   "outputs": []
  },
  {
   "cell_type": "code",
   "metadata": {
    "id": "psnTRwYbFRdm"
   },
   "source": [
    "listNum"
   ],
   "execution_count": 110,
   "outputs": [
    {
     "data": {
      "text/plain": "[0, 4, 18, 27, 43, 90]"
     },
     "execution_count": 110,
     "metadata": {},
     "output_type": "execute_result"
    }
   ]
  },
  {
   "cell_type": "code",
   "metadata": {
    "id": "54dBkPEDFRzu"
   },
   "source": [
    "# Slicing\n",
    "# You can select sections of list-like types (arrays, tuples, NumPy arrays) by using slice notation, \n",
    "# which in its basic form consists of start:stop passed to the indexing operator []\n",
    "listNum"
   ],
   "execution_count": null,
   "outputs": []
  },
  {
   "cell_type": "code",
   "metadata": {
    "id": "IZ0zXT41U0ju"
   },
   "source": [
    "listNum"
   ],
   "execution_count": 111,
   "outputs": [
    {
     "data": {
      "text/plain": "[0, 4, 18, 27, 43, 90]"
     },
     "execution_count": 111,
     "metadata": {},
     "output_type": "execute_result"
    }
   ]
  },
  {
   "cell_type": "code",
   "metadata": {
    "id": "qxt2CemiOrwX"
   },
   "source": [
    "listNum[1]"
   ],
   "execution_count": null,
   "outputs": []
  },
  {
   "cell_type": "code",
   "metadata": {
    "id": "m04smElr24Md"
   },
   "source": [
    "listNum[0:100]"
   ],
   "execution_count": 112,
   "outputs": [
    {
     "data": {
      "text/plain": "[0, 4, 18, 27, 43, 90]"
     },
     "execution_count": 112,
     "metadata": {},
     "output_type": "execute_result"
    }
   ]
  },
  {
   "cell_type": "code",
   "metadata": {
    "id": "wrdZIRyWO5Qa"
   },
   "source": [
    "listNum[0:2]"
   ],
   "execution_count": 113,
   "outputs": [
    {
     "data": {
      "text/plain": "[0, 4]"
     },
     "execution_count": 113,
     "metadata": {},
     "output_type": "execute_result"
    }
   ]
  },
  {
   "cell_type": "code",
   "metadata": {
    "id": "bq0scgkUvFtT"
   },
   "source": [
    "listNum[5]"
   ],
   "execution_count": null,
   "outputs": []
  },
  {
   "cell_type": "code",
   "metadata": {
    "id": "WRlXvoEJBXwj"
   },
   "source": [
    "listNum[1:4]"
   ],
   "execution_count": null,
   "outputs": []
  },
  {
   "cell_type": "code",
   "metadata": {
    "id": "N_LtaYK1IUp0"
   },
   "source": [
    "listNum[0:2]"
   ],
   "execution_count": null,
   "outputs": []
  },
  {
   "cell_type": "code",
   "metadata": {
    "id": "GigiyN8zIWuA"
   },
   "source": [
    "listNum[1:]"
   ],
   "execution_count": 114,
   "outputs": [
    {
     "data": {
      "text/plain": "[4, 18, 27, 43, 90]"
     },
     "execution_count": 114,
     "metadata": {},
     "output_type": "execute_result"
    }
   ]
  },
  {
   "cell_type": "code",
   "metadata": {
    "id": "iMgIvjSaIYMm"
   },
   "source": [
    "listNum[:2]"
   ],
   "execution_count": 115,
   "outputs": [
    {
     "data": {
      "text/plain": "[0, 4]"
     },
     "execution_count": 115,
     "metadata": {},
     "output_type": "execute_result"
    }
   ]
  },
  {
   "cell_type": "code",
   "metadata": {
    "id": "Uip0KF_UAfuZ"
   },
   "source": [
    "listNum"
   ],
   "execution_count": 116,
   "outputs": [
    {
     "data": {
      "text/plain": "[0, 4, 18, 27, 43, 90]"
     },
     "execution_count": 116,
     "metadata": {},
     "output_type": "execute_result"
    }
   ]
  },
  {
   "cell_type": "code",
   "metadata": {
    "id": "xrLqfWlWIZtD"
   },
   "source": [
    "listNum[-2]"
   ],
   "execution_count": 117,
   "outputs": [
    {
     "data": {
      "text/plain": "43"
     },
     "execution_count": 117,
     "metadata": {},
     "output_type": "execute_result"
    }
   ]
  },
  {
   "cell_type": "code",
   "metadata": {
    "id": "GisXOYlRAn9U"
   },
   "source": [
    "listNum[:3]"
   ],
   "execution_count": null,
   "outputs": []
  },
  {
   "cell_type": "code",
   "metadata": {
    "id": "cFA-LLOrIbQD"
   },
   "source": [
    "listNum[-3:]"
   ],
   "execution_count": 118,
   "outputs": [
    {
     "data": {
      "text/plain": "[27, 43, 90]"
     },
     "execution_count": 118,
     "metadata": {},
     "output_type": "execute_result"
    }
   ]
  },
  {
   "cell_type": "code",
   "metadata": {
    "id": "D_7t5SiiAvjR"
   },
   "source": [
    "listNum"
   ],
   "execution_count": 119,
   "outputs": [
    {
     "data": {
      "text/plain": "[0, 4, 18, 27, 43, 90]"
     },
     "execution_count": 119,
     "metadata": {},
     "output_type": "execute_result"
    }
   ]
  },
  {
   "cell_type": "code",
   "metadata": {
    "id": "x9tyQyvKIdM_"
   },
   "source": [
    "listNum[0:4:2]"
   ],
   "execution_count": 120,
   "outputs": [
    {
     "data": {
      "text/plain": "[0, 18]"
     },
     "execution_count": 120,
     "metadata": {},
     "output_type": "execute_result"
    }
   ]
  },
  {
   "cell_type": "code",
   "metadata": {
    "id": "wUwG5xRBIesT"
   },
   "source": [
    "listNum[::-1]"
   ],
   "execution_count": null,
   "outputs": []
  },
  {
   "cell_type": "code",
   "metadata": {
    "id": "OwhuoYVkQOyl"
   },
   "source": [
    "listNum[::-1]"
   ],
   "execution_count": null,
   "outputs": []
  },
  {
   "cell_type": "code",
   "metadata": {
    "id": "0fUS8XNBIgTn"
   },
   "source": [
    "# Searching in List\n",
    "2 in listNum"
   ],
   "execution_count": 121,
   "outputs": [
    {
     "data": {
      "text/plain": "False"
     },
     "execution_count": 121,
     "metadata": {},
     "output_type": "execute_result"
    }
   ]
  },
  {
   "cell_type": "code",
   "metadata": {
    "id": "oy9jF-BWIh93"
   },
   "source": [
    "4 in listNum"
   ],
   "execution_count": null,
   "outputs": []
  },
  {
   "cell_type": "code",
   "metadata": {
    "id": "OrUzRcOaIjye"
   },
   "source": [
    "# Python has a built-in function, enumerate, which returns a\n",
    "# sequence of (i, value) tuples:\n",
    "\n",
    "# for i, value in enumerate(collection):\n",
    "#   do something with value\n",
    "\n",
    "a = [\"a\", \"b\", \"c\", \"d\"]\n",
    "for i, value in enumerate(a):\n",
    "    print(str(i) + \"   \" + value)"
   ],
   "execution_count": 123,
   "outputs": [
    {
     "name": "stdout",
     "output_type": "stream",
     "text": [
      "0   a\n",
      "1   b\n",
      "2   c\n",
      "3   d\n"
     ]
    }
   ]
  },
  {
   "cell_type": "code",
   "metadata": {
    "id": "UWLyX28rQvdq"
   },
   "source": [
    "for i,z in enumerate(a):\n",
    "  print(z)"
   ],
   "execution_count": null,
   "outputs": []
  },
  {
   "cell_type": "code",
   "metadata": {
    "id": "5brbFQ2K3SkV"
   },
   "source": [
    "a = [\"a\", \"b\", \"c\", \"d\"]"
   ],
   "execution_count": null,
   "outputs": []
  },
  {
   "cell_type": "code",
   "metadata": {
    "id": "SOmRGqi83WRL"
   },
   "source": [
    "for ix, x in enumerate(a):\n",
    "  print(ix, x)"
   ],
   "execution_count": null,
   "outputs": []
  },
  {
   "cell_type": "code",
   "metadata": {
    "id": "Kn2LcKRbRERr"
   },
   "source": [
    "a"
   ],
   "execution_count": null,
   "outputs": []
  },
  {
   "cell_type": "code",
   "metadata": {
    "id": "yB3q8ZBcIqg5"
   },
   "source": [
    "# zip “pairs” up the elements of a number of lists, tuples, or other sequences to create a list of tuples\n",
    "b = [1, 2, 3, 4]\n",
    "zip(a, b)\n",
    "list(zip(a, b))"
   ],
   "execution_count": null,
   "outputs": []
  },
  {
   "cell_type": "code",
   "metadata": {
    "id": "orrTAonA3xnK"
   },
   "source": [
    "for x in zip(a, b):\n",
    "  print(type(x))"
   ],
   "execution_count": null,
   "outputs": []
  },
  {
   "cell_type": "markdown",
   "metadata": {
    "id": "WySgshPYIy2x"
   },
   "source": [
    "### Dictionary\n",
    "- It is hash map or associative array. \n",
    "- It is a flexibly-sized collection of key-value pairs, key and value are objects. \n",
    "- One way to create one is by using curly braces {} and using colons to separate keys and values"
   ]
  },
  {
   "cell_type": "code",
   "metadata": {
    "id": "6idTpQ8O4ui2"
   },
   "source": [
    "diz = {}\n",
    "diz['Firstname'] = 'francesco'\n",
    "diz['Lastname'] = 'rossi'"
   ],
   "execution_count": 124,
   "outputs": []
  },
  {
   "cell_type": "code",
   "metadata": {
    "id": "vgo2ergP5BW2"
   },
   "source": [
    "diz"
   ],
   "execution_count": 125,
   "outputs": [
    {
     "data": {
      "text/plain": "{'Firstname': 'francesco', 'Lastname': 'rossi'}"
     },
     "execution_count": 125,
     "metadata": {},
     "output_type": "execute_result"
    }
   ]
  },
  {
   "cell_type": "code",
   "metadata": {
    "id": "8-qp3zld5K7H"
   },
   "source": [
    "diz.keys()"
   ],
   "execution_count": 126,
   "outputs": [
    {
     "data": {
      "text/plain": "dict_keys(['Firstname', 'Lastname'])"
     },
     "execution_count": 126,
     "metadata": {},
     "output_type": "execute_result"
    }
   ]
  },
  {
   "cell_type": "code",
   "metadata": {
    "id": "yxSKUM5E5QAC"
   },
   "source": [
    "for i in diz.values():\n",
    "  print(i)"
   ],
   "execution_count": 127,
   "outputs": [
    {
     "name": "stdout",
     "output_type": "stream",
     "text": [
      "francesco\n",
      "rossi\n"
     ]
    }
   ]
  },
  {
   "cell_type": "code",
   "metadata": {
    "id": "vUekaIbD5TXq"
   },
   "source": [
    "diz.items()"
   ],
   "execution_count": 128,
   "outputs": [
    {
     "data": {
      "text/plain": "dict_items([('Firstname', 'francesco'), ('Lastname', 'rossi')])"
     },
     "execution_count": 128,
     "metadata": {},
     "output_type": "execute_result"
    }
   ]
  },
  {
   "cell_type": "code",
   "metadata": {
    "id": "BJYBDQq55mA7"
   },
   "source": [
    "del diz['Firstname']"
   ],
   "execution_count": 129,
   "outputs": []
  },
  {
   "cell_type": "code",
   "metadata": {
    "id": "BvxY1ZIR5_lS"
   },
   "source": [
    "diz['parola'] = 0"
   ],
   "execution_count": null,
   "outputs": []
  },
  {
   "cell_type": "code",
   "metadata": {
    "id": "EEbi1UEC6Dn_"
   },
   "source": [
    "diz['parola'] += 1"
   ],
   "execution_count": null,
   "outputs": []
  },
  {
   "cell_type": "code",
   "metadata": {
    "id": "dQp9mOla6I9o"
   },
   "source": [
    "diz"
   ],
   "execution_count": null,
   "outputs": []
  },
  {
   "cell_type": "code",
   "metadata": {
    "id": "JZT9tlMfR9Va"
   },
   "source": [
    "diz[0]=4"
   ],
   "execution_count": null,
   "outputs": []
  },
  {
   "cell_type": "code",
   "metadata": {
    "id": "_unnp0QI5ph2"
   },
   "source": [
    "diz"
   ],
   "execution_count": null,
   "outputs": []
  },
  {
   "cell_type": "code",
   "metadata": {
    "id": "sTlWX0sgJEQZ"
   },
   "source": [
    "d = {'Nome': 'Francesco', 4 : 48, 'cognome': 'Guerra'}\n",
    "d"
   ],
   "execution_count": null,
   "outputs": []
  },
  {
   "cell_type": "code",
   "metadata": {
    "id": "A-PehEJQJPWS"
   },
   "source": [
    "d[4]"
   ],
   "execution_count": null,
   "outputs": []
  },
  {
   "cell_type": "code",
   "metadata": {
    "id": "dZ3IbbIUBfp1"
   },
   "source": [
    "d['job']"
   ],
   "execution_count": null,
   "outputs": []
  },
  {
   "cell_type": "code",
   "metadata": {
    "id": "s3YESUmoJUPO"
   },
   "source": [
    "d['job'] = 'PO'\n",
    "d"
   ],
   "execution_count": null,
   "outputs": []
  },
  {
   "cell_type": "markdown",
   "metadata": {
    "id": "jQxcQWkzJVsP"
   },
   "source": [
    "- Creating dicts from sequences"
   ]
  },
  {
   "cell_type": "code",
   "metadata": {
    "id": "G2vqyGf-JXgS"
   },
   "source": [
    "seqA = ['a', 'b', 'c', 'd', 'e']\n",
    "seqB = range(1, 6)\n",
    "\n",
    "mapping = {}\n",
    "for key, value in zip(seqA, seqB):\n",
    "  #print(key)\n",
    "  #print(value)\n",
    "  mapping[key] = value\n",
    "\n"
   ],
   "execution_count": 130,
   "outputs": []
  },
  {
   "cell_type": "code",
   "metadata": {
    "id": "J3UXjUuVSc69"
   },
   "source": [
    "mapping"
   ],
   "execution_count": 131,
   "outputs": [
    {
     "data": {
      "text/plain": "{'a': 1, 'b': 2, 'c': 3, 'd': 4, 'e': 5}"
     },
     "execution_count": 131,
     "metadata": {},
     "output_type": "execute_result"
    }
   ]
  },
  {
   "cell_type": "markdown",
   "metadata": {
    "id": "n30H0idXJafM"
   },
   "source": [
    "- Dictionary Methods\n",
    "    - Searching for an element\n",
    "    - Removing an element\n",
    "    - keys and values"
   ]
  },
  {
   "cell_type": "code",
   "metadata": {
    "id": "oI1lVkhECnZi"
   },
   "source": [
    "dictTel = {\"Francesco\": 335666, \"Matteo\": 3478888, \"Michela\": 5454455}"
   ],
   "execution_count": null,
   "outputs": []
  },
  {
   "cell_type": "code",
   "metadata": {
    "id": "Ic5-Q92PC4Un"
   },
   "source": [
    "dictTel[\"Francesco\"] = 666335"
   ],
   "execution_count": null,
   "outputs": []
  },
  {
   "cell_type": "code",
   "metadata": {
    "id": "a20VARJiJSD7"
   },
   "source": [
    "dictTel"
   ],
   "execution_count": null,
   "outputs": []
  },
  {
   "cell_type": "code",
   "metadata": {
    "id": "FUfykO2oJbJi"
   },
   "source": [
    "if 'Matteo' in dictTel:\n",
    "    print(dictTel['Matteo'])"
   ],
   "execution_count": null,
   "outputs": []
  },
  {
   "cell_type": "code",
   "metadata": {
    "id": "7FHfOh2_Jp5p"
   },
   "source": [
    "# Removing elements\n",
    "dictTel.pop('Matteo')\n",
    "dictTel"
   ],
   "execution_count": null,
   "outputs": []
  },
  {
   "cell_type": "code",
   "metadata": {
    "id": "o1Ymuno26EQ4"
   },
   "source": [
    "dictTel.pop('Matteo')"
   ],
   "execution_count": null,
   "outputs": []
  },
  {
   "cell_type": "code",
   "metadata": {
    "id": "JxUfqJGaJsTE"
   },
   "source": [
    "del dictTel[\"Michela\"]\n",
    "dictTel"
   ],
   "execution_count": null,
   "outputs": []
  },
  {
   "cell_type": "code",
   "metadata": {
    "id": "VvdFT0v36DeV"
   },
   "source": [
    "del dictTel[\"Michela\"]"
   ],
   "execution_count": null,
   "outputs": []
  },
  {
   "cell_type": "code",
   "metadata": {
    "id": "FAr_alJrCQ2t"
   },
   "source": [
    "dictTel"
   ],
   "execution_count": null,
   "outputs": []
  },
  {
   "cell_type": "code",
   "metadata": {
    "id": "NzN39GQfJu5i"
   },
   "source": [
    "# List of keys\n",
    "dictTel.keys()"
   ],
   "execution_count": null,
   "outputs": []
  },
  {
   "cell_type": "code",
   "metadata": {
    "id": "2-yTExPBJyEt"
   },
   "source": [
    "# List of values\n",
    "dictTel.values()"
   ],
   "execution_count": null,
   "outputs": []
  },
  {
   "cell_type": "code",
   "metadata": {
    "id": "ldmcoUp0ER1n"
   },
   "source": [
    "if \"Michela\" in dictTel.keys():\n",
    "  del dictTel[\"Michela\"]"
   ],
   "execution_count": null,
   "outputs": []
  },
  {
   "cell_type": "code",
   "metadata": {
    "id": "wpjCvS-LW7lr"
   },
   "source": [
    "dictTel.items()"
   ],
   "execution_count": null,
   "outputs": []
  },
  {
   "cell_type": "code",
   "metadata": {
    "id": "m_0QBdiODtMw"
   },
   "source": [
    "dictTel"
   ],
   "execution_count": null,
   "outputs": []
  },
  {
   "cell_type": "code",
   "metadata": {
    "id": "uSUXkVVl6YLf"
   },
   "source": [
    "for k, val in dictTel.items():\n",
    "  print(k)\n",
    "  print(val)"
   ],
   "execution_count": null,
   "outputs": []
  },
  {
   "cell_type": "markdown",
   "metadata": {
    "id": "A7JKONitJyaO"
   },
   "source": [
    "### Set\n",
    "- A set is an unordered collection of unique elements.  \n",
    "- A set can be created in two ways: via the set function or using a set literal with curly braces\n",
    "\n"
   ]
  },
  {
   "cell_type": "code",
   "metadata": {
    "id": "ZI29pA2JJ6EA"
   },
   "source": [
    "listSet = [1, 1, 1, 1, 1, 1, 2, 3, 4]\n",
    "listSet "
   ],
   "execution_count": 132,
   "outputs": [
    {
     "data": {
      "text/plain": "[1, 1, 1, 1, 1, 1, 2, 3, 4]"
     },
     "execution_count": 132,
     "metadata": {},
     "output_type": "execute_result"
    }
   ]
  },
  {
   "cell_type": "code",
   "metadata": {
    "id": "CX0QL9juJ9fe"
   },
   "source": [
    "set(listSet)"
   ],
   "execution_count": 133,
   "outputs": [
    {
     "data": {
      "text/plain": "{1, 2, 3, 4}"
     },
     "execution_count": 133,
     "metadata": {},
     "output_type": "execute_result"
    }
   ]
  },
  {
   "cell_type": "code",
   "metadata": {
    "id": "vwvn_ghFJ_rI"
   },
   "source": [
    "setExample = {1, 1, 1, 1, 1, 1, 2, 3, 4}"
   ],
   "execution_count": 134,
   "outputs": []
  },
  {
   "cell_type": "code",
   "metadata": {
    "id": "nYBZcKnoKCBW"
   },
   "source": [
    "setExample"
   ],
   "execution_count": 135,
   "outputs": [
    {
     "data": {
      "text/plain": "{1, 2, 3, 4}"
     },
     "execution_count": 135,
     "metadata": {},
     "output_type": "execute_result"
    }
   ]
  },
  {
   "cell_type": "code",
   "metadata": {
    "id": "O2Ue-JGLbqIn"
   },
   "source": [
    "setExample.intersection({2, 3, 4, 5})"
   ],
   "execution_count": 136,
   "outputs": [
    {
     "data": {
      "text/plain": "{2, 3, 4}"
     },
     "execution_count": 136,
     "metadata": {},
     "output_type": "execute_result"
    }
   ]
  },
  {
   "cell_type": "code",
   "metadata": {
    "id": "0u-OSJPJC4mc"
   },
   "source": [
    "setExample.union({2, 3, 4, 5})"
   ],
   "execution_count": 137,
   "outputs": [
    {
     "data": {
      "text/plain": "{1, 2, 3, 4, 5}"
     },
     "execution_count": 137,
     "metadata": {},
     "output_type": "execute_result"
    }
   ]
  },
  {
   "cell_type": "markdown",
   "metadata": {
    "id": "Ioo4qBB1KCUR"
   },
   "source": [
    "## List, Set, and Dict Comprehensions\n",
    "- List comprehensions are one of the most-loved Python language features. \n",
    "- They allow you to concisely form a new list by filtering the elements of a collection and transforming the elements passing the filter in one concise expression. They take the basic form:\n",
    "- [expr **for** val **in** collection **if** condition]"
   ]
  },
  {
   "cell_type": "code",
   "metadata": {
    "id": "wAwPvaRDDHWJ"
   },
   "source": [
    "'se'.upper()"
   ],
   "execution_count": null,
   "outputs": []
  },
  {
   "cell_type": "code",
   "metadata": {
    "id": "SIL3rlwyDLJe"
   },
   "source": [
    "new = []\n",
    "listMin = ['una', 'lista', 'di', 'parole', 'minuscole', 'e', 'MAIUSCOLE']\n",
    "\n",
    "for x in listMin:\n",
    "  if len(x) > 2:\n",
    "    x = x.upper()\n",
    "    new.append(x)"
   ],
   "execution_count": 138,
   "outputs": []
  },
  {
   "cell_type": "code",
   "source": [
    "new"
   ],
   "metadata": {
    "id": "43PPXxelPhbt"
   },
   "execution_count": 139,
   "outputs": [
    {
     "data": {
      "text/plain": "['UNA', 'LISTA', 'PAROLE', 'MINUSCOLE', 'MAIUSCOLE']"
     },
     "execution_count": 139,
     "metadata": {},
     "output_type": "execute_result"
    }
   ]
  },
  {
   "cell_type": "code",
   "metadata": {
    "id": "3lKaaxJIUDVp"
   },
   "source": [
    "[x.upper() for x in listMin if len(x)>2]"
   ],
   "execution_count": 140,
   "outputs": [
    {
     "data": {
      "text/plain": "['UNA', 'LISTA', 'PAROLE', 'MINUSCOLE', 'MAIUSCOLE']"
     },
     "execution_count": 140,
     "metadata": {},
     "output_type": "execute_result"
    }
   ]
  },
  {
   "cell_type": "code",
   "metadata": {
    "id": "0YoSA8JoE8pL"
   },
   "source": [
    "{str(i):i for i in [1,2,3,4,5]}"
   ],
   "execution_count": null,
   "outputs": []
  },
  {
   "cell_type": "code",
   "metadata": {
    "id": "G5R3eaOkE8zl"
   },
   "source": [
    "fruits = ['apple', 'mango', 'banana','cherry']\n",
    "{f:len(f) for f in fruits}"
   ],
   "execution_count": 141,
   "outputs": [
    {
     "data": {
      "text/plain": "{'apple': 5, 'mango': 5, 'banana': 6, 'cherry': 6}"
     },
     "execution_count": 141,
     "metadata": {},
     "output_type": "execute_result"
    }
   ]
  },
  {
   "cell_type": "code",
   "metadata": {
    "id": "Woy90L1v0gIB"
   },
   "source": [
    "for i,j in enumerate(fruits):\n",
    "  print(i)\n",
    "  print(j)"
   ],
   "execution_count": 142,
   "outputs": [
    {
     "name": "stdout",
     "output_type": "stream",
     "text": [
      "0\n",
      "apple\n",
      "1\n",
      "mango\n",
      "2\n",
      "banana\n",
      "3\n",
      "cherry\n"
     ]
    }
   ]
  },
  {
   "cell_type": "code",
   "metadata": {
    "id": "PO8c5DJME87n"
   },
   "source": [
    "{f:i for i,f in enumerate(fruits)}"
   ],
   "execution_count": null,
   "outputs": []
  },
  {
   "cell_type": "markdown",
   "metadata": {
    "id": "65B-mcGCKMtb"
   },
   "source": [
    "## Anonymous (Lambda) Functions\n",
    "\n",
    "- Python has support for so-called anonymous or lambda functions\n",
    "    - a way of writing functions consisting of a single statement\n",
    "    - the result is the return value. \n",
    "    - they are defined with the lambda keyword"
   ]
  },
  {
   "cell_type": "code",
   "metadata": {
    "id": "1KpzcBGUKV2J"
   },
   "source": [
    "def twoTimes(x):\n",
    "    return x * 2"
   ],
   "execution_count": null,
   "outputs": []
  },
  {
   "cell_type": "code",
   "metadata": {
    "id": "hT9dV4-SKauQ"
   },
   "source": [
    "twoTimes(3)"
   ],
   "execution_count": null,
   "outputs": []
  },
  {
   "cell_type": "code",
   "metadata": {
    "id": "0n0UHFMHKcIe"
   },
   "source": [
    "twoTimesLambda = lambda x: x * 2"
   ],
   "execution_count": null,
   "outputs": []
  },
  {
   "cell_type": "code",
   "metadata": {
    "id": "u_dhLSVSKdvD"
   },
   "source": [
    "twoTimesLambda(22)"
   ],
   "execution_count": null,
   "outputs": []
  },
  {
   "cell_type": "code",
   "metadata": {
    "id": "v2bqMQV0KhQE"
   },
   "source": [
    "def applyList(aList, aFunction):\n",
    "    return [aFunction(x) for x in aList]"
   ],
   "execution_count": null,
   "outputs": []
  },
  {
   "cell_type": "code",
   "metadata": {
    "id": "_2_BdINnKmi9"
   },
   "source": [
    "applyList([1, 4, 5, 7, 11], twoTimes)"
   ],
   "execution_count": null,
   "outputs": []
  },
  {
   "cell_type": "code",
   "metadata": {
    "id": "IUvJBGXaKpg2"
   },
   "source": [
    "applyList([2, 4, 5, 7, 9], lambda x: x ** 2)"
   ],
   "execution_count": null,
   "outputs": []
  },
  {
   "cell_type": "code",
   "metadata": {
    "id": "jCs_dGu0EEaM"
   },
   "source": [],
   "execution_count": null,
   "outputs": []
  }
 ]
}
