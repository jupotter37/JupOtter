{
 "cells": [
  {
   "cell_type": "markdown",
   "metadata": {},
   "source": [
    "<h1>Taller #1: Identificación de grupos a partir de tablas</h1>"
   ]
  },
  {
   "cell_type": "markdown",
   "metadata": {},
   "source": [
    "<h4> Presentado por: David Santiago Cruz Hernandez</h4>\n",
    "<h4> Asignatura: Matematicas Discretas II </h4>"
   ]
  },
  {
   "cell_type": "code",
   "execution_count": 1,
   "metadata": {},
   "outputs": [],
   "source": [
    "###### El algoritmo comprueba si la Tabla ingresada corresponde a un Cuadrado Latino, y/o a un Grupo.\n",
    "###### Funciona con cualquier tipo de Tabla 3x3 en adelante."
   ]
  },
  {
   "cell_type": "code",
   "execution_count": 2,
   "metadata": {},
   "outputs": [],
   "source": [
    "Matrix = []\n",
    "Border = []\n",
    "LatinSquare = False\n",
    "Group = False\n",
    "Neutral = False\n",
    "NeutralResult = \"\"\n",
    "Inverse = False\n",
    "Associativity = False"
   ]
  },
  {
   "cell_type": "markdown",
   "metadata": {},
   "source": [
    "###### Ingreso de Datos:\n",
    "###### Se deben ingresar los datos correspondientes a la tabla, separados por comas y sin espacios (como lo indica cada instrucción de cada entrada)."
   ]
  },
  {
   "cell_type": "code",
   "execution_count": 1,
   "metadata": {},
   "outputs": [],
   "source": [
    "def verifyInput():\n",
    "    for subList in Matrix:\n",
    "        for element in subList:\n",
    "            if element not in Border:\n",
    "                return False\n",
    "    return True"
   ]
  },
  {
   "cell_type": "code",
   "execution_count": 4,
   "metadata": {},
   "outputs": [
    {
     "ename": "ValueError",
     "evalue": "invalid literal for int() with base 10: ''",
     "output_type": "error",
     "traceback": [
      "\u001B[1;31m---------------------------------------------------------------------------\u001B[0m",
      "\u001B[1;31mValueError\u001B[0m                                Traceback (most recent call last)",
      "Cell \u001B[1;32mIn[4], line 13\u001B[0m\n\u001B[0;32m     10\u001B[0m         \u001B[38;5;28;01melse\u001B[39;00m:\n\u001B[0;32m     11\u001B[0m             \u001B[38;5;28mprint\u001B[39m(\u001B[38;5;124m\"\u001B[39m\u001B[38;5;130;01m\\n\u001B[39;00m\u001B[38;5;124m ---- Por favor ingrese una tabla valida!! ---- \u001B[39m\u001B[38;5;130;01m\\n\u001B[39;00m\u001B[38;5;124m\"\u001B[39m)\n\u001B[1;32m---> 13\u001B[0m \u001B[43minputMatrix\u001B[49m\u001B[43m(\u001B[49m\u001B[43m)\u001B[49m\n",
      "Cell \u001B[1;32mIn[4], line 3\u001B[0m, in \u001B[0;36minputMatrix\u001B[1;34m()\u001B[0m\n\u001B[0;32m      1\u001B[0m \u001B[38;5;28;01mdef\u001B[39;00m \u001B[38;5;21minputMatrix\u001B[39m():\n\u001B[0;32m      2\u001B[0m     \u001B[38;5;28;01mwhile\u001B[39;00m \u001B[38;5;28;01mTrue\u001B[39;00m:\n\u001B[1;32m----> 3\u001B[0m         n \u001B[38;5;241m=\u001B[39m \u001B[38;5;28;43mint\u001B[39;49m\u001B[43m(\u001B[49m\u001B[38;5;28;43minput\u001B[39;49m\u001B[43m(\u001B[49m\u001B[38;5;124;43m\"\u001B[39;49m\u001B[38;5;124;43mIngrese el Tamaño n de la Tabla:\u001B[39;49m\u001B[38;5;124;43m\"\u001B[39;49m\u001B[43m)\u001B[49m\u001B[43m)\u001B[49m\n\u001B[0;32m      4\u001B[0m         \u001B[38;5;28;01mglobal\u001B[39;00m Border\n\u001B[0;32m      5\u001B[0m         Border \u001B[38;5;241m=\u001B[39m \u001B[38;5;28minput\u001B[39m(\u001B[38;5;124m\"\u001B[39m\u001B[38;5;124mIngrese los elementos del Marco de la Tabla (separados por comas):  \u001B[39m\u001B[38;5;124m\"\u001B[39m)\u001B[38;5;241m.\u001B[39msplit(\u001B[38;5;124m'\u001B[39m\u001B[38;5;124m,\u001B[39m\u001B[38;5;124m'\u001B[39m)\n",
      "\u001B[1;31mValueError\u001B[0m: invalid literal for int() with base 10: ''"
     ]
    }
   ],
   "source": [
    "def inputMatrix():\n",
    "    while True:\n",
    "        n = int(input(\"Ingrese el Tamaño n de la Tabla:\"))\n",
    "        global Border\n",
    "        Border = input(\"Ingrese los elementos del Marco de la Tabla (separados por comas):  \").split(',')\n",
    "        for size in range(n):\n",
    "            Matrix.append(input(\"Ingrese la Fila \" + str(size+1) + \" (separada por comas):\").split(','))\n",
    "        if verifyInput():\n",
    "            break\n",
    "        else:\n",
    "            print(\"\\n ---- Por favor ingrese una tabla valida!! ---- \\n\")\n",
    "\n",
    "inputMatrix()"
   ]
  },
  {
   "cell_type": "code",
   "execution_count": null,
   "metadata": {},
   "outputs": [],
   "source": [
    "def returnIcon(answer):\n",
    "    if answer:\n",
    "        return \"✅\"\n",
    "    else:\n",
    "        return \"❌\"\n"
   ]
  },
  {
   "cell_type": "markdown",
   "metadata": {},
   "source": [
    "## Cuadrado Latino:\n",
    "### Se realiza el análisis para determinar si la tabla corresponde a un cuadrado latino."
   ]
  },
  {
   "cell_type": "code",
   "execution_count": null,
   "metadata": {},
   "outputs": [],
   "source": [
    "def verifyLatinSquare():\n",
    "    n = len(Matrix)\n",
    "    numRepetido = False\n",
    "    for fila in range(n):\n",
    "        listaRevisionFila = []\n",
    "        listaRevisionCol = []\n",
    "        for col in range(n):\n",
    "            if Matrix[fila][col] not in listaRevisionFila:\n",
    "                listaRevisionFila.append(Matrix[fila][col])\n",
    "            else:\n",
    "                numRepetido = True\n",
    "                break\n",
    "\n",
    "            if Matrix[col][fila] not in listaRevisionCol:\n",
    "                listaRevisionCol.append(Matrix[col][fila])\n",
    "            else:\n",
    "                numRepetido = True\n",
    "                break\n",
    "        if numRepetido:\n",
    "            break\n",
    "\n",
    "    if not numRepetido:\n",
    "        global LatinSquare\n",
    "        LatinSquare = True\n",
    "    print(\"→ Cuadrado Latino: \" + returnIcon(LatinSquare))\n",
    "verifyLatinSquare()"
   ]
  },
  {
   "cell_type": "markdown",
   "metadata": {},
   "source": [
    "## Grupo:\n",
    "### Se realizan los análisis y cálculos necesarios para determinar si la tabla corresponde a un grupo."
   ]
  },
  {
   "cell_type": "code",
   "execution_count": null,
   "metadata": {},
   "outputs": [],
   "source": [
    "#### NEUTRO: Se comprueba si existe un elemento e ∈ G, tal que e•a=a, ∀ a ∈ G."
   ]
  },
  {
   "cell_type": "code",
   "execution_count": null,
   "metadata": {},
   "outputs": [],
   "source": [
    "def getSet():\n",
    "    set = Matrix[0].copy()\n",
    "    return set"
   ]
  },
  {
   "cell_type": "code",
   "execution_count": null,
   "metadata": {},
   "outputs": [],
   "source": [
    "def getResult(a, b):\n",
    "    fila = Border.index(a)\n",
    "    col = Border.index(b)\n",
    "    return Matrix[fila][col]"
   ]
  },
  {
   "cell_type": "code",
   "execution_count": null,
   "metadata": {},
   "outputs": [],
   "source": [
    "def getNeutral(setG):\n",
    "    global NeutralResult\n",
    "    for posibleNeutro in setG:\n",
    "        contador = 0\n",
    "        for dato in setG:\n",
    "            resultado = getResult(posibleNeutro, dato)\n",
    "            if dato == resultado:\n",
    "                contador = contador + 1\n",
    "                if contador == len(setG):\n",
    "                    NeutralResult = posibleNeutro\n",
    "                    break\n",
    "            else:\n",
    "                break\n",
    "\n",
    "    if NeutralResult != \"\":\n",
    "        print(\"→ El Neutro es: \" + NeutralResult + \"\\n\")\n",
    "        global Neutral\n",
    "        Neutral = True\n",
    "    print(\"→ Existe un Elemento Neutro: \" + returnIcon(Neutral))\n",
    "getNeutral(getSet())"
   ]
  },
  {
   "cell_type": "code",
   "execution_count": null,
   "metadata": {},
   "outputs": [],
   "source": [
    "#### INVERSO: Se comprueba si ∀ a ∈ G, existe un elemento unico b ∈ G, tal que b•a=e (elemento Neutro previamente calculado)."
   ]
  },
  {
   "cell_type": "code",
   "execution_count": null,
   "metadata": {},
   "outputs": [],
   "source": [
    "def getInverse(setG):\n",
    "    listaInversos = []\n",
    "    for dato in setG:\n",
    "        for posibleInverso in setG:\n",
    "            resultado = getResult(posibleInverso, dato)\n",
    "            if resultado == NeutralResult:\n",
    "                if posibleInverso not in listaInversos:\n",
    "                    listaInversos.append(posibleInverso)\n",
    "                    continue\n",
    "                else:\n",
    "                    break\n",
    "    if len(listaInversos) == len(setG):\n",
    "        for pos in range(len(setG)):\n",
    "            print(\"→ El Inverso de \" + setG[pos] + \" es: \" + listaInversos[pos])\n",
    "        print()\n",
    "        global Inverse\n",
    "        Inverse = True\n",
    "\n",
    "    print(\"→ Existe un Inverso único para cada elemento del Conjunto: \" + returnIcon(Inverse))\n",
    "getInverse(getSet())"
   ]
  },
  {
   "cell_type": "code",
   "execution_count": null,
   "metadata": {},
   "outputs": [],
   "source": [
    "#### ASOCIATIVIDAD: Se comprueba si ∀ a,b,c ∈ G (o en su defecto, todo el conjunto de los demas elementos), se tiene que (a•b)•c = a•(b•c)."
   ]
  },
  {
   "cell_type": "code",
   "execution_count": null,
   "metadata": {},
   "outputs": [],
   "source": [
    "def printAsssociativity(setG, pos):\n",
    "    operation = \"\"\n",
    "    for times in range(pos):\n",
    "        operation = operation + setG[times] + \"•\"\n",
    "    operation = operation + \"(\" + setG[pos] + \"•\" + setG[pos + 1] + \")\"\n",
    "    for times in range(pos + 2, len(setG)):\n",
    "        operation = operation + \"•\" + setG[times]\n",
    "    print(operation)\n"
   ]
  },
  {
   "cell_type": "code",
   "execution_count": null,
   "metadata": {},
   "outputs": [],
   "source": [
    "def operateByPos(setG, pos):\n",
    "    right = True\n",
    "    for cont in range(len(setG) - 1):\n",
    "        if not right:\n",
    "            pos = pos - 1\n",
    "        printAsssociativity(setG.copy(), pos)\n",
    "        a = setG.pop(pos)\n",
    "        b = setG.pop(pos)\n",
    "        result = getResult(a, b)\n",
    "        setG.insert(pos, result)\n",
    "\n",
    "        if right:\n",
    "            try:\n",
    "                setG[pos + 1]\n",
    "            except IndexError:\n",
    "                right = False\n",
    "    print(setG[0])\n",
    "    return setG[0]"
   ]
  },
  {
   "cell_type": "code",
   "execution_count": null,
   "metadata": {},
   "outputs": [],
   "source": [
    "def checkAssociativity(setG):\n",
    "    listResults = []\n",
    "    print(\"→ Asociaciones posibles:\\n\")\n",
    "    for pos in range(len(setG) - 1):\n",
    "        listResults.append(operateByPos(setG.copy(), pos))\n",
    "        print()\n",
    "\n",
    "    print(\"→ Resultados de la Asociatividad obtenidos: \" + str(listResults))\n",
    "    associativity = True\n",
    "    for dato in listResults:\n",
    "        if listResults[0] != dato:\n",
    "            associativity = False\n",
    "            break\n",
    "    global Associativity\n",
    "    Associativity = associativity\n",
    "    print(\"→ El conjunto es Asociativo: \" + returnIcon(Associativity) + \"\\n\")\n",
    "\n",
    "checkAssociativity(getSet())\n"
   ]
  },
  {
   "cell_type": "markdown",
   "metadata": {},
   "source": [
    "## Resultados Obtenidos:"
   ]
  },
  {
   "cell_type": "code",
   "execution_count": null,
   "metadata": {},
   "outputs": [],
   "source": [
    "print(\"→ Cuadrado Latino: \" + returnIcon(LatinSquare))\n",
    "print()\n",
    "\n",
    "print(\"→ Existe un Elemento Neutro: \" + returnIcon(Neutral))\n",
    "\n",
    "print(\"→ Existe un Inverso para cada elemento del Conjunto: \" + returnIcon(Inverse))\n",
    "\n",
    "print(\"→ Es Asociativo: \" + returnIcon(Associativity))\n",
    "Answer = lambda: f\"SI\" if (Neutral and Inverse and Associativity) else f\"NO\"\n",
    "print(\" ------ Por lo tanto, \" + Answer() + \" es un Grupo. ------ \" + \"\\n\")\n"
   ]
  },
  {
   "cell_type": "code",
   "execution_count": null,
   "metadata": {},
   "outputs": [],
   "source": [
    "##### Muchas Gracias. Desarrollado por David Santiago Cruz Hernandez. Correo: dcruzhe@unal.edu.copython join"
   ]
  }
 ],
 "metadata": {
  "kernelspec": {
   "display_name": "Python 3 (ipykernel)",
   "language": "python",
   "name": "python3"
  },
  "language_info": {
   "codemirror_mode": {
    "name": "ipython",
    "version": 3
   },
   "file_extension": ".py",
   "mimetype": "text/x-python",
   "name": "python",
   "nbconvert_exporter": "python",
   "pygments_lexer": "ipython3",
   "version": "3.10.5"
  }
 },
 "nbformat": 4,
 "nbformat_minor": 1
}
