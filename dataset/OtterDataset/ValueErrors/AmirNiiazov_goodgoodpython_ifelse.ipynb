{
 "cells": [
  {
   "cell_type": "code",
   "execution_count": 1,
   "id": "initial_id",
   "metadata": {
    "collapsed": true,
    "ExecuteTime": {
     "end_time": "2024-08-08T10:48:43.265989Z",
     "start_time": "2024-08-08T10:48:41.673289800Z"
    }
   },
   "outputs": [
    {
     "ename": "ValueError",
     "evalue": "could not convert string to float: 'афывап'",
     "output_type": "error",
     "traceback": [
      "\u001B[1;31m---------------------------------------------------------------------------\u001B[0m",
      "\u001B[1;31mValueError\u001B[0m                                Traceback (most recent call last)",
      "Cell \u001B[1;32mIn[1], line 1\u001B[0m\n\u001B[1;32m----> 1\u001B[0m a, b \u001B[38;5;241m=\u001B[39m \u001B[38;5;28mmap\u001B[39m(\u001B[38;5;28mfloat\u001B[39m, \u001B[38;5;28minput\u001B[39m()\u001B[38;5;241m.\u001B[39msplit())\n\u001B[0;32m      2\u001B[0m \u001B[38;5;28mprint\u001B[39m(a \u001B[38;5;28;01mif\u001B[39;00m a \u001B[38;5;241m>\u001B[39m b \u001B[38;5;28;01melse\u001B[39;00m b)\n",
      "\u001B[1;31mValueError\u001B[0m: could not convert string to float: 'афывап'"
     ]
    }
   ],
   "source": [
    "a, b = map(float, input().split())\n",
    "print(a if a > b else b)"
   ]
  },
  {
   "cell_type": "code",
   "execution_count": 2,
   "outputs": [
    {
     "name": "stdout",
     "output_type": "stream",
     "text": [
      "ДА\n"
     ]
    }
   ],
   "source": [
    "word = input().lower()\n",
    "print('ДА' if word == word[::-1] else 'НЕТ')"
   ],
   "metadata": {
    "collapsed": false,
    "ExecuteTime": {
     "end_time": "2024-08-08T10:49:20.500083600Z",
     "start_time": "2024-08-08T10:49:15.983438600Z"
    }
   },
   "id": "49796bc443324be9"
  },
  {
   "cell_type": "code",
   "execution_count": 4,
   "outputs": [
    {
     "name": "stdout",
     "output_type": "stream",
     "text": [
      "34 на 53 нацело не делится\n"
     ]
    }
   ],
   "source": [
    "m, n = map(int, input().split())\n",
    "if m % n == 0:\n",
    "    print(m//n)\n",
    "else:\n",
    "    print(f'{m} на {n} нацело не делится')"
   ],
   "metadata": {
    "collapsed": false,
    "ExecuteTime": {
     "end_time": "2024-08-08T10:52:34.751925400Z",
     "start_time": "2024-08-08T10:52:32.915864800Z"
    }
   },
   "id": "621807f9ab413946"
  },
  {
   "cell_type": "code",
   "execution_count": 6,
   "outputs": [
    {
     "name": "stdout",
     "output_type": "stream",
     "text": [
      "НЕТ\n"
     ]
    }
   ],
   "source": [
    "a, b, c = map(float, input().split())\n",
    "print('ДА' if c**2 == a**2 + b**2 else 'НЕТ')\n",
    "# print(['НЕТ','ДА'][c**2 == a**2 + b**2])"
   ],
   "metadata": {
    "collapsed": false,
    "ExecuteTime": {
     "end_time": "2024-08-08T10:54:27.020009400Z",
     "start_time": "2024-08-08T10:54:25.373500800Z"
    }
   },
   "id": "188a8182b5e2020d"
  },
  {
   "cell_type": "code",
   "execution_count": null,
   "outputs": [],
   "source": [
    "print('ДА' if input()[-1] == '7' else 'НЕТ')"
   ],
   "metadata": {
    "collapsed": false
   },
   "id": "e301aa129e409828"
  },
  {
   "cell_type": "code",
   "execution_count": 8,
   "outputs": [
    {
     "name": "stdout",
     "output_type": "stream",
     "text": [
      "НЕТ\n"
     ]
    }
   ],
   "source": [
    "s = input()\n",
    "print(\"ДА\" if 't' in s and 'h' in s and 'o' in s else \"НЕТ\")"
   ],
   "metadata": {
    "collapsed": false,
    "ExecuteTime": {
     "end_time": "2024-08-08T11:00:31.765212800Z",
     "start_time": "2024-08-08T11:00:30.287982Z"
    }
   },
   "id": "a82630fd73dfcfce"
  },
  {
   "cell_type": "code",
   "execution_count": 10,
   "outputs": [
    {
     "ename": "ValueError",
     "evalue": "list.remove(x): x not in list",
     "output_type": "error",
     "traceback": [
      "\u001B[1;31m---------------------------------------------------------------------------\u001B[0m",
      "\u001B[1;31mValueError\u001B[0m                                Traceback (most recent call last)",
      "Cell \u001B[1;32mIn[10], line 2\u001B[0m\n\u001B[0;32m      1\u001B[0m cities \u001B[38;5;241m=\u001B[39m \u001B[38;5;28minput\u001B[39m()\u001B[38;5;241m.\u001B[39msplit()\n\u001B[1;32m----> 2\u001B[0m \u001B[43mcities\u001B[49m\u001B[38;5;241;43m.\u001B[39;49m\u001B[43mremove\u001B[49m\u001B[43m(\u001B[49m\u001B[38;5;124;43m'\u001B[39;49m\u001B[38;5;124;43mМосква\u001B[39;49m\u001B[38;5;124;43m'\u001B[39;49m\u001B[43m)\u001B[49m\n\u001B[0;32m      3\u001B[0m \u001B[38;5;28mprint\u001B[39m(\u001B[38;5;241m*\u001B[39mcities)\n",
      "\u001B[1;31mValueError\u001B[0m: list.remove(x): x not in list"
     ]
    }
   ],
   "source": [
    "cities = input().split()\n",
    "if 'Москва' in cities:\n",
    "    cities.remove('Москва')\n",
    "print(*cities)"
   ],
   "metadata": {
    "collapsed": false,
    "ExecuteTime": {
     "end_time": "2024-08-08T17:17:31.291411500Z",
     "start_time": "2024-08-08T17:17:30.652329300Z"
    }
   },
   "id": "e0dfb2a0f63cceb7"
  },
  {
   "cell_type": "code",
   "execution_count": null,
   "outputs": [],
   "source": [
    "a, b, c, d = map(int, input().split())\n",
    "print('ДА' if a - c > 1 and b - d > 1 or a - d > 1 and b - c > 1 else 'НЕТ')"
   ],
   "metadata": {
    "collapsed": false
   },
   "id": "2b34d88eb7a1d40"
  },
  {
   "cell_type": "code",
   "execution_count": 15,
   "outputs": [
    {
     "name": "stdout",
     "output_type": "stream",
     "text": [
      "[8, 1, 1] [2, 3, 5]\n",
      "ДА\n"
     ]
    }
   ],
   "source": [
    "num = list(map(int, [i for i in input()]))\n",
    "print(num[:3], num[3:])\n",
    "print('ДА' if sum(num[:3]) == sum(num[3:]) else 'НЕТ')"
   ],
   "metadata": {
    "collapsed": false,
    "ExecuteTime": {
     "end_time": "2024-08-08T17:30:03.169629300Z",
     "start_time": "2024-08-08T17:30:00.556841400Z"
    }
   },
   "id": "ba433b4a59ed8ee5"
  },
  {
   "cell_type": "code",
   "execution_count": null,
   "outputs": [],
   "source": [
    "t = float(input())\n",
    "t -= t//5 * 5\n",
    "print('green' if t <=3 else 'red')"
   ],
   "metadata": {
    "collapsed": false
   },
   "id": "9c3eb085a786e439"
  },
  {
   "cell_type": "code",
   "execution_count": 16,
   "outputs": [
    {
     "ename": "ValueError",
     "evalue": "invalid literal for int() with base 10: ''",
     "output_type": "error",
     "traceback": [
      "\u001B[1;31m---------------------------------------------------------------------------\u001B[0m",
      "\u001B[1;31mValueError\u001B[0m                                Traceback (most recent call last)",
      "Cell \u001B[1;32mIn[16], line 8\u001B[0m\n\u001B[0;32m      1\u001B[0m m \u001B[38;5;241m=\u001B[39m \u001B[38;5;124m'''\u001B[39m\u001B[38;5;124m1. Введение в Python\u001B[39m\n\u001B[0;32m      2\u001B[0m \u001B[38;5;124m2. Строки и списки\u001B[39m\n\u001B[0;32m      3\u001B[0m \u001B[38;5;124m3. Условные операторы\u001B[39m\n\u001B[0;32m      4\u001B[0m \u001B[38;5;124m4. Циклы\u001B[39m\n\u001B[0;32m      5\u001B[0m \u001B[38;5;124m5. Словари, кортежи и множества\u001B[39m\n\u001B[0;32m      6\u001B[0m \u001B[38;5;124m6. Выход\u001B[39m\u001B[38;5;124m'''\u001B[39m\n\u001B[1;32m----> 8\u001B[0m n \u001B[38;5;241m=\u001B[39m \u001B[38;5;28;43mint\u001B[39;49m\u001B[43m(\u001B[49m\u001B[38;5;28;43minput\u001B[39;49m\u001B[43m(\u001B[49m\u001B[43m)\u001B[49m\u001B[43m)\u001B[49m\n\u001B[0;32m      9\u001B[0m m \u001B[38;5;241m=\u001B[39m m\u001B[38;5;241m.\u001B[39msplitlines()\n\u001B[0;32m     10\u001B[0m \u001B[38;5;66;03m# print(m.splitlines()[n-1])\u001B[39;00m\n",
      "\u001B[1;31mValueError\u001B[0m: invalid literal for int() with base 10: ''"
     ]
    }
   ],
   "source": [
    "m = '''1. Введение в Python\n",
    "2. Строки и списки\n",
    "3. Условные операторы\n",
    "4. Циклы\n",
    "5. Словари, кортежи и множества\n",
    "6. Выход'''\n",
    "\n",
    "n = int(input())\n",
    "print(m.splitlines()[n-1])"
   ],
   "metadata": {
    "collapsed": false,
    "ExecuteTime": {
     "end_time": "2024-08-08T17:43:35.564934500Z",
     "start_time": "2024-08-08T17:43:34.869573300Z"
    }
   },
   "id": "671bcb9f55d5ddcf"
  },
  {
   "cell_type": "code",
   "execution_count": 17,
   "outputs": [
    {
     "name": "stdout",
     "output_type": "stream",
     "text": [
      "1\n"
     ]
    }
   ],
   "source": [
    "a, b, c = map(int, input().split())   \n",
    "\n",
    "if a <= b:\n",
    "    if a < c:\n",
    "        n = a\n",
    "    else:\n",
    "        n = c\n",
    "elif b < a:\n",
    "    if b < c:    \n",
    "        n = b\n",
    "    else:\n",
    "        n = c\n",
    "print(n)\n",
    "# if a > b:\n",
    "#     a = b\n",
    "# if a > c:\n",
    "#     a = c\n",
    "# print(a)"
   ],
   "metadata": {
    "collapsed": false,
    "ExecuteTime": {
     "end_time": "2024-08-08T17:46:28.528294200Z",
     "start_time": "2024-08-08T17:46:27.062329800Z"
    }
   },
   "id": "fd17720f2599243b"
  },
  {
   "cell_type": "code",
   "execution_count": null,
   "outputs": [],
   "source": [
    "weight = float(input())\n",
    "if weight <= 60:\n",
    "    n = 1\n",
    "elif weight <= 64:\n",
    "    n = 2\n",
    "elif weight <=69:\n",
    "    n = 3\n",
    "else:\n",
    "    n = 4\n",
    "print(n)"
   ],
   "metadata": {
    "collapsed": false
   },
   "id": "9cf92a1227ce4416"
  },
  {
   "cell_type": "code",
   "execution_count": 18,
   "outputs": [
    {
     "name": "stdout",
     "output_type": "stream",
     "text": [
      "среда\n"
     ]
    }
   ],
   "source": [
    "s = {1: 'понедельник', 2 : 'вторник', 3 : 'среда', 4 : 'четверг', 5 : 'пятница', 6 : 'суббота', 7: 'воскресенье'}\n",
    "print(s[int(input())])"
   ],
   "metadata": {
    "collapsed": false,
    "ExecuteTime": {
     "end_time": "2024-08-08T17:52:58.553211Z",
     "start_time": "2024-08-08T17:52:57.403894100Z"
    }
   },
   "id": "7cd82bd1341824d"
  },
  {
   "cell_type": "code",
   "execution_count": null,
   "outputs": [],
   "source": [
    "nums = [31, 28, 31, 30, 31, 30, 31, 31, 30, 31, 30, 31]\n",
    "print(nums[int(input())-1])"
   ],
   "metadata": {
    "collapsed": false
   },
   "id": "e9027b784e802157"
  },
  {
   "cell_type": "code",
   "execution_count": 20,
   "outputs": [
    {
     "name": "stdout",
     "output_type": "stream",
     "text": [
      "08.30 09.01\n"
     ]
    }
   ],
   "source": [
    "nums = [31, 28, 31, 30, 31, 30, 31, 31, 30, 31, 30, 31]\n",
    "m, n = map(int, input().split())\n",
    "if n == 1:\n",
    "    a = nums[m-2]\n",
    "    a_ind = m-1\n",
    "else:\n",
    "    a = n - 1\n",
    "    a_ind = m\n",
    "if n == nums[m-1]:\n",
    "    b = 1\n",
    "    b_ind = m+1\n",
    "else:\n",
    "    b = n+1\n",
    "    b_ind = m\n",
    "    \n",
    "print(f'{a_ind:02}.{a:02} {b_ind:02}.{b:02}')"
   ],
   "metadata": {
    "collapsed": false,
    "ExecuteTime": {
     "end_time": "2024-08-08T18:03:41.502625200Z",
     "start_time": "2024-08-08T18:03:38.473945400Z"
    }
   },
   "id": "65fa9e6486324cb7"
  },
  {
   "cell_type": "code",
   "execution_count": 21,
   "outputs": [
    {
     "name": "stdout",
     "output_type": "stream",
     "text": [
      "вторник\n"
     ]
    }
   ],
   "source": [
    "n = int(input())\n",
    "print({1: 'понедельник', 2 : 'вторник', 3 : 'среда', 4 : 'четверг', 5 : 'пятница', 6 : 'суббота', 7: 'воскресенье'}[n%7])"
   ],
   "metadata": {
    "collapsed": false,
    "ExecuteTime": {
     "end_time": "2024-08-08T18:07:06.069527500Z",
     "start_time": "2024-08-08T18:07:04.576459500Z"
    }
   },
   "id": "98102254773e9fd8"
  },
  {
   "cell_type": "code",
   "execution_count": null,
   "outputs": [],
   "source": [
    "a = float(input())\n",
    "b = float(input())\n",
    "d = a if a>b else b \n",
    "print(d)"
   ],
   "metadata": {
    "collapsed": false,
    "ExecuteTime": {
     "end_time": "2024-08-11T16:17:05.547666500Z",
     "start_time": "2024-08-11T16:17:05.541660300Z"
    }
   },
   "id": "8b66dff87ccf2d2c"
  },
  {
   "cell_type": "code",
   "execution_count": null,
   "outputs": [],
   "source": [
    "print(\"кратно 3\" if int(input())%3 == 0 else \"не кратно 3\")"
   ],
   "metadata": {
    "collapsed": false
   },
   "id": "855e57cd8a15770f"
  },
  {
   "cell_type": "code",
   "execution_count": null,
   "outputs": [],
   "source": [
    "word = input()\n",
    "msg = 'палиндром' if word.lower() == word.lower()[::-1] else 'не палиндром'\n",
    "print(msg)"
   ],
   "metadata": {
    "collapsed": false
   },
   "id": "113022d385c62d4f"
  },
  {
   "cell_type": "code",
   "execution_count": 2,
   "outputs": [
    {
     "name": "stdout",
     "output_type": "stream",
     "text": [
      "True\n"
     ]
    }
   ],
   "source": [
    "print(str(bool(int(input()))))"
   ],
   "metadata": {
    "collapsed": false,
    "ExecuteTime": {
     "end_time": "2024-08-11T16:24:50.616481200Z",
     "start_time": "2024-08-11T16:24:49.432391100Z"
    }
   },
   "id": "6a258c663694ead3"
  },
  {
   "cell_type": "code",
   "execution_count": null,
   "outputs": [],
   "source": [
    "sec = int(input())\n",
    "print(sec + 1 if sec != 59 else 0)\n"
   ],
   "metadata": {
    "collapsed": false
   },
   "id": "f02a9d527352c49"
  },
  {
   "cell_type": "code",
   "execution_count": 6,
   "outputs": [
    {
     "name": "stdout",
     "output_type": "stream",
     "text": [
      "#до соль си\n"
     ]
    }
   ],
   "source": [
    "m = ['до', 'ре', 'ми', 'фа', 'соль', 'ля', 'си']\n",
    "a, b, c = (map(int, input().split()))\n",
    "\n",
    "print(f\"{'#' if a == 1 or a == 4 else ''}{m[a-1]} {'#' if b == 1 or b == 4 else ''}{m[b-1]} {'#' if c == 1 or c == 4 else ''}{m[c-1]}\")"
   ],
   "metadata": {
    "collapsed": false,
    "ExecuteTime": {
     "end_time": "2024-08-11T16:35:26.117524200Z",
     "start_time": "2024-08-11T16:35:24.446892200Z"
    }
   },
   "id": "db6502eca6c93218"
  }
 ],
 "metadata": {
  "kernelspec": {
   "display_name": "Python 3",
   "language": "python",
   "name": "python3"
  },
  "language_info": {
   "codemirror_mode": {
    "name": "ipython",
    "version": 2
   },
   "file_extension": ".py",
   "mimetype": "text/x-python",
   "name": "python",
   "nbconvert_exporter": "python",
   "pygments_lexer": "ipython2",
   "version": "2.7.6"
  }
 },
 "nbformat": 4,
 "nbformat_minor": 5
}
