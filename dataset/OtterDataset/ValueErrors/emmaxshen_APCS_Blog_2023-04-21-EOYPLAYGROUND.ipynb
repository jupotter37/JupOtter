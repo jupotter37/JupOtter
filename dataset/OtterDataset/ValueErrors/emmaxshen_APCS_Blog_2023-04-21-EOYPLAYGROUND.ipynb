{
 "cells": [
  {
   "attachments": {},
   "cell_type": "markdown",
   "metadata": {},
   "source": [
    "# P4-M 4/24 Big Idea 3\n",
    "> Lesson about Big Idea 3\n",
    "author: Finn, Edwin, Zeen, Gene, James, Kush, Luka\n",
    "toc: true\n",
    "comments: true\n",
    "week: 30\n",
    "type: ap\n",
    "categories: [student]\n",
    "layout: base"
   ]
  },
  {
   "attachments": {},
   "cell_type": "markdown",
   "metadata": {},
   "source": [
    "## Introduction: Zeen\n",
    "Hello, my name is zeen and today we will be presenting big idea 3. Our topics include 2d arrays, iteration, and lists and dictionaries.\n",
    "\n",
    "### Objectives\n",
    "Master the concepts of iteration, list, 2d-arrays, Dictionaries, and APIs\n",
    "\n",
    "### Vocab\n",
    "Here is some vocab during the lesson, you should be familar with them already no need for me to read these out, now I will pass the speaking off to Kush\n",
    "\n",
    "\n",
    "\n",
    "- **Iteration**: A process that repates itself\n",
    "- **Array**: Sometimes called a list, can keep strings and intergers inside it\n",
    "- **2D-Array**: A collection of data elements arranged in a grid-like structure with rows and columns\n",
    "- **Mutable**:  the ability to be changed or modified \n",
    "- **Key**: A Singular identifier that is associated with a certin value\n"
   ]
  },
  {
   "attachments": {},
   "cell_type": "markdown",
   "metadata": {},
   "source": [
    "## 1: 2D Array\n",
    "> Tic Tac Toe: Kush Siroh"
   ]
  },
  {
   "cell_type": "code",
   "execution_count": 1,
   "metadata": {},
   "outputs": [
    {
     "name": "stdout",
     "output_type": "stream",
     "text": [
      "This is a normal array: ['Hello', 'Hi', 'Whats up']\n",
      "This is a 2D array\n",
      "['Name', 'ID', 'Age']\n",
      "['Kush', '1', '16']\n",
      "['Finn', '2', '16']\n"
     ]
    }
   ],
   "source": [
    "array = [\"Hello\", \"Hi\", \"Whats up\"]\n",
    "twoDArray = [[\"Name\", \"ID\", \"Age\"], [\"Kush\", \"1\", \"16\"], [\"Finn\", \"2\", \"16\"]]\n",
    "\n",
    "print(f\"This is a normal array: {array}\")\n",
    "\n",
    "print(\"This is a 2D array\")\n",
    "for row in twoDArray:\n",
    "    print(row)"
   ]
  },
  {
   "attachments": {},
   "cell_type": "markdown",
   "metadata": {},
   "source": [
    "## How I used 2D Arrays (game example)\n"
   ]
  },
  {
   "cell_type": "code",
   "execution_count": 2,
   "metadata": {},
   "outputs": [
    {
     "name": "stdout",
     "output_type": "stream",
     "text": [
      "   0   1   2\n",
      "0        \n",
      "1        \n",
      "2        \n",
      "   0   1   2\n",
      "0        \n",
      "1  X     \n",
      "2        \n",
      "   0   1   2\n",
      "0        \n",
      "1  X   O \n",
      "2        \n",
      "That space is already taken. Try again.\n",
      "   0   1   2\n",
      "0        \n",
      "1  X   O \n",
      "2        \n",
      "   0   1   2\n",
      "0        \n",
      "1  X   O \n",
      "2    X   \n",
      "   0   1   2\n",
      "0        \n",
      "1  X   O \n",
      "2    X O \n",
      "   0   1   2\n",
      "0        \n",
      "1  X X O \n",
      "2    X O \n"
     ]
    },
    {
     "ename": "ValueError",
     "evalue": "invalid literal for int() with base 10: ''",
     "output_type": "error",
     "traceback": [
      "\u001b[0;31m---------------------------------------------------------------------------\u001b[0m",
      "\u001b[0;31mValueError\u001b[0m                                Traceback (most recent call last)",
      "\u001b[1;32m/home/emma/emma_blog-3/_notebooks/2023-04-21-EOYPLAYGROUND.ipynb Cell 6\u001b[0m in \u001b[0;36m<cell line: 72>\u001b[0;34m()\u001b[0m\n\u001b[1;32m     <a href='vscode-notebook-cell://wsl%2Bubuntu/home/emma/emma_blog-3/_notebooks/2023-04-21-EOYPLAYGROUND.ipynb#W5sdnNjb2RlLXJlbW90ZQ%3D%3D?line=68'>69</a>\u001b[0m             \u001b[39mprint\u001b[39m(\u001b[39m\"\u001b[39m\u001b[39mThat space is already taken. Try again.\u001b[39m\u001b[39m\"\u001b[39m)\n\u001b[1;32m     <a href='vscode-notebook-cell://wsl%2Bubuntu/home/emma/emma_blog-3/_notebooks/2023-04-21-EOYPLAYGROUND.ipynb#W5sdnNjb2RlLXJlbW90ZQ%3D%3D?line=70'>71</a>\u001b[0m \u001b[39m# Start the game\u001b[39;00m\n\u001b[0;32m---> <a href='vscode-notebook-cell://wsl%2Bubuntu/home/emma/emma_blog-3/_notebooks/2023-04-21-EOYPLAYGROUND.ipynb#W5sdnNjb2RlLXJlbW90ZQ%3D%3D?line=71'>72</a>\u001b[0m play_game()\n",
      "\u001b[1;32m/home/emma/emma_blog-3/_notebooks/2023-04-21-EOYPLAYGROUND.ipynb Cell 6\u001b[0m in \u001b[0;36mplay_game\u001b[0;34m()\u001b[0m\n\u001b[1;32m     <a href='vscode-notebook-cell://wsl%2Bubuntu/home/emma/emma_blog-3/_notebooks/2023-04-21-EOYPLAYGROUND.ipynb#W5sdnNjb2RlLXJlbW90ZQ%3D%3D?line=48'>49</a>\u001b[0m \u001b[39m# Get the player’s move\u001b[39;00m\n\u001b[1;32m     <a href='vscode-notebook-cell://wsl%2Bubuntu/home/emma/emma_blog-3/_notebooks/2023-04-21-EOYPLAYGROUND.ipynb#W5sdnNjb2RlLXJlbW90ZQ%3D%3D?line=49'>50</a>\u001b[0m row \u001b[39m=\u001b[39m \u001b[39mint\u001b[39m(\u001b[39minput\u001b[39m(\u001b[39mf\u001b[39m\u001b[39m\"\u001b[39m\u001b[39m{\u001b[39;00mplayer\u001b[39m}\u001b[39;00m\u001b[39m'\u001b[39m\u001b[39ms turn. Enter row (0-2): \u001b[39m\u001b[39m\"\u001b[39m))\n\u001b[0;32m---> <a href='vscode-notebook-cell://wsl%2Bubuntu/home/emma/emma_blog-3/_notebooks/2023-04-21-EOYPLAYGROUND.ipynb#W5sdnNjb2RlLXJlbW90ZQ%3D%3D?line=50'>51</a>\u001b[0m col \u001b[39m=\u001b[39m \u001b[39mint\u001b[39;49m(\u001b[39minput\u001b[39;49m(\u001b[39mf\u001b[39;49m\u001b[39m\"\u001b[39;49m\u001b[39m{\u001b[39;49;00mplayer\u001b[39m}\u001b[39;49;00m\u001b[39m'\u001b[39;49m\u001b[39ms turn. Enter column (0-2): \u001b[39;49m\u001b[39m\"\u001b[39;49m))\n\u001b[1;32m     <a href='vscode-notebook-cell://wsl%2Bubuntu/home/emma/emma_blog-3/_notebooks/2023-04-21-EOYPLAYGROUND.ipynb#W5sdnNjb2RlLXJlbW90ZQ%3D%3D?line=51'>52</a>\u001b[0m \u001b[39m# Check if the move is valid\u001b[39;00m\n\u001b[1;32m     <a href='vscode-notebook-cell://wsl%2Bubuntu/home/emma/emma_blog-3/_notebooks/2023-04-21-EOYPLAYGROUND.ipynb#W5sdnNjb2RlLXJlbW90ZQ%3D%3D?line=52'>53</a>\u001b[0m \u001b[39mif\u001b[39;00m board[row][col] \u001b[39m==\u001b[39m \u001b[39m'\u001b[39m\u001b[39m \u001b[39m\u001b[39m'\u001b[39m:\n",
      "\u001b[0;31mValueError\u001b[0m: invalid literal for int() with base 10: ''"
     ]
    }
   ],
   "source": [
    "board = [[' ', ' ', ' '],\n",
    "         [' ', ' ', ' '],\n",
    "         [' ', ' ', ' ']]\n",
    "         \n",
    "# Function to print the current state of the game board\n",
    "def print_board():\n",
    "    print(\"   0   1   2\")\n",
    "    for i in range(3):\n",
    "        print(i, end='  ')\n",
    "        for j in range(3):\n",
    "            print(board[i][j], end=' ')\n",
    "        print()\n",
    "\n",
    "# Function to check if a player has won the game\n",
    "def check_win(player):\n",
    "    # Check rows for a win\n",
    "    for i in range(3):\n",
    "        if board[i][0] == player and board[i][1] == player and board[i][2] == player:\n",
    "            return True\n",
    "    # Check columns for a win\n",
    "    for j in range(3):\n",
    "        if board[0][j] == player and board[1][j] == player and board[2][j] == player:\n",
    "            return True\n",
    "    # Check diagonals for a win\n",
    "    if board[0][0] == player and board[1][1] == player and board[2][2] == player:\n",
    "        return True\n",
    "    if board[0][2] == player and board[1][1] == player and board[2][0] == player:\n",
    "        return True\n",
    "    # If no win condition is met, return False\n",
    "    return False\n",
    "\n",
    "# Function to check if the game is a tie\n",
    "def check_tie():\n",
    "    for i in range(3):\n",
    "        for j in range(3):\n",
    "            if board[i][j] == ' ':\n",
    "                return False\n",
    "    return True\n",
    "\n",
    "# Function to play the game\n",
    "def play_game():\n",
    "    # Initialize player and turn counter\n",
    "    player = 'X'\n",
    "    turns = 0\n",
    "    # Loop until the game is over\n",
    "    while True:\n",
    "        # Print the current state of the board\n",
    "        print_board()\n",
    "        # Get the player’s move\n",
    "        row = int(input(f\"{player}'s turn. Enter row (0-2): \"))\n",
    "        col = int(input(f\"{player}'s turn. Enter column (0-2): \"))\n",
    "        # Check if the move is valid\n",
    "        if board[row][col] == ' ':\n",
    "            board[row][col] = player\n",
    "            turns += 1\n",
    "            # Check if the player has won\n",
    "            if check_win(player):\n",
    "                print_board()\n",
    "                print(f\"{player} wins!\")\n",
    "                return\n",
    "            # Check if the game is a tie\n",
    "            if check_tie():\n",
    "                print_board()\n",
    "                print(\"It's a tie!\")\n",
    "                return\n",
    "            # Switch players\n",
    "            player = 'O' if player == 'X' else 'X'\n",
    "        else:\n",
    "            print(\"That space is already taken. Try again.\")\n",
    "\n",
    "# Start the game\n",
    "play_game()\n"
   ]
  },
  {
   "attachments": {},
   "cell_type": "markdown",
   "metadata": {},
   "source": [
    "## 2: Iteration\n",
    "> Robot Game: Finn Carpenter"
   ]
  },
  {
   "cell_type": "code",
   "execution_count": 3,
   "metadata": {},
   "outputs": [
    {
     "name": "stdout",
     "output_type": "stream",
     "text": [
      "hi\n",
      "hi\n",
      "hi\n",
      "hi\n",
      "hi\n",
      "hello\n",
      "hello\n",
      "hello\n",
      "hello\n",
      "hello\n",
      "hello\n",
      "1\n",
      "2\n",
      "3\n",
      "4\n",
      "5\n"
     ]
    }
   ],
   "source": [
    "### Different methods of iteration\n",
    "\n",
    "times = 0\n",
    "numbers = [1, 2, 3, 4, 5]\n",
    "\n",
    "## Loops\n",
    "for i in range(5):\n",
    "    print(\"hi\")\n",
    "\n",
    "\n",
    "while times <= 5:\n",
    "    print(\"hello\")\n",
    "    times = times + 1\n",
    "\n",
    "## Function with a parameters\n",
    "def print_numbers(x):\n",
    "    for num in x:\n",
    "        print(num)\n",
    "\n",
    "print_numbers(numbers)\n",
    "\n"
   ]
  },
  {
   "attachments": {},
   "cell_type": "markdown",
   "metadata": {},
   "source": [
    "## Iteration Game\n",
    "- [Link to the game](https://f1nnc.github.io/Playground/robot)\n",
    "- Play the levels (only play the first 2 in class)"
   ]
  },
  {
   "attachments": {},
   "cell_type": "markdown",
   "metadata": {},
   "source": [
    "## How I used iteration (game example)"
   ]
  },
  {
   "cell_type": "code",
   "execution_count": 4,
   "metadata": {
    "vscode": {
     "languageId": "javascript"
    }
   },
   "outputs": [
    {
     "ename": "SyntaxError",
     "evalue": "invalid syntax (1397592444.py, line 1)",
     "output_type": "error",
     "traceback": [
      "\u001b[0;36m  Input \u001b[0;32mIn [4]\u001b[0;36m\u001b[0m\n\u001b[0;31m    function run() {\u001b[0m\n\u001b[0m             ^\u001b[0m\n\u001b[0;31mSyntaxError\u001b[0m\u001b[0;31m:\u001b[0m invalid syntax\n"
     ]
    }
   ],
   "source": [
    "function run() {\n",
    "    // Read input values from the HTML document and convert them to integers.\n",
    "    UPinput = parseInt(document.getElementById(\"up\").value);\n",
    "    DOWNinput = parseInt(document.getElementById(\"down\").value);\n",
    "    LEFTinput = parseInt(document.getElementById(\"left\").value);\n",
    "    RIGHTinput = parseInt(document.getElementById(\"right\").value);\n",
    "    looper = parseInt(document.getElementById(\"loop\").value);\n",
    "\n",
    "    runner.style.opacity = 0;\n",
    "    \n",
    "\n",
    "    // Create an array to hold the movements.\n",
    "    let movements = [];\n",
    "\n",
    "    // Push 'up' movements to the array.\n",
    "    for (let l = 0; l < looper; l++) {\n",
    "        for (let k = 0; k < UPinput; k++) {\n",
    "            movements.push(up);\n",
    "        }\n",
    "\n",
    "        // Push 'down' movements to the array.\n",
    "        for (let i = 0; i < DOWNinput; i++) {\n",
    "            movements.push(down);\n",
    "        }\n",
    "\n",
    "        // Push 'left' movements to the array.\n",
    "        for (let a = 0; a < LEFTinput; a++) {\n",
    "            movements.push(left);\n",
    "        }\n",
    "\n",
    "        // Push 'right' movements to the array.\n",
    "        for (let c = 0; c < RIGHTinput; c++) {\n",
    "            movements.push(right);\n",
    "        }\n",
    "    }\n",
    "\n",
    "\n",
    "    // Set the initial index to 0 and execute each movement in sequence with a delay of 800 milliseconds.\n",
    "    let index = 0;\n",
    "    let intervalId = setInterval(() => {\n",
    "        // If the end of the movements array has been reached, stop executing movements.\n",
    "        if (index >= movements.length) {\n",
    "            clearInterval(intervalId);\n",
    "            win(); // Call the win function.\n",
    "            return;\n",
    "        }\n",
    "        movements[index](); // Execute the movement at the current index.\n",
    "        index++; // Increment the index.\n",
    "    }, 800);\n",
    "}"
   ]
  },
  {
   "attachments": {},
   "cell_type": "markdown",
   "metadata": {},
   "source": [
    "## 3: List and Dictionaries\n",
    "> Scramble Game: Edwin \n"
   ]
  },
  {
   "cell_type": "code",
   "execution_count": 5,
   "metadata": {},
   "outputs": [
    {
     "name": "stdout",
     "output_type": "stream",
     "text": [
      "1\n",
      "Hi\n"
     ]
    }
   ],
   "source": [
    "# List and Dictonary Example\n",
    "\n",
    "List = [1, 2, 3, 4, 5]\n",
    "Dict = {\n",
    "    1: \"Hi\",\n",
    "    2: \"Hello\",\n",
    "    3: \"Whats Up\"\n",
    "}\n",
    "\n",
    "# Why Do I call 0 for the first thing in a list, but 1 for Dict\n",
    "#\n",
    "\n",
    "print(List[0])\n",
    "print(Dict[1])"
   ]
  },
  {
   "attachments": {},
   "cell_type": "markdown",
   "metadata": {},
   "source": [
    "## How I used a dictonary to make a game\n",
    "> Memory Game: James\n",
    "- [Link](https://f1nnc.github.io/Playground/memory2)\n",
    "- ![Code](https://nighthawkcoders.github.io/APCSP/images/jamescode.png)"
   ]
  },
  {
   "attachments": {},
   "cell_type": "markdown",
   "metadata": {},
   "source": [
    "## How I used List to make a game"
   ]
  },
  {
   "cell_type": "code",
   "execution_count": 6,
   "metadata": {},
   "outputs": [
    {
     "name": "stdout",
     "output_type": "stream",
     "text": [
      "Unscramble the following Computer Science Word: aterntoii\n",
      "Sorry, that's not the word. Try again!\n",
      "Sorry, that's not the word. Try again!\n",
      "Hint 1: The first letter of the word is 'i'\n",
      "Sorry, that's not the word. Try again!\n",
      "Hint 2: The second letter of the word is 't'\n",
      "Sorry, that's not the word. Try again!\n",
      "All 4 Guesses have been used, you didn't unscramble the word, the word was iteration\n"
     ]
    }
   ],
   "source": [
    "import random\n",
    "\n",
    "word_list = [\"python\", \"computer\", \"programming\", \"algorithm\", \"database\", \"function\", \"variable\", \"loop\", \"iteration\", \"array\", \"mutable\", \"insertion\", \"deletion\", \"key\", \"API\"]\n",
    "\n",
    "word = random.choice(word_list)\n",
    "\n",
    "scrambled_word = \"\".join(random.sample(word, len(word)))\n",
    "\n",
    "print(f\"Unscramble the following Computer Science Word: {scrambled_word}\")\n",
    "\n",
    "hints = 1\n",
    "guesses = 1\n",
    "guess = \"\"\n",
    "\n",
    "while guess != word and guesses <= 4:\n",
    "    guess = input(\"What's the unscrambled word? \").lower()\n",
    "    if guess != word:\n",
    "        print(\"Sorry, that's not the word. Try again!\")\n",
    "        if guesses == 1:\n",
    "            guesses += 1\n",
    "        elif guesses == 2:\n",
    "            print(f\"Hint 1: The first letter of the word is '{word[0]}'\")\n",
    "            guesses += 1\n",
    "        elif guesses == 3:\n",
    "            print(f\"Hint 2: The second letter of the word is '{word[1]}'\")\n",
    "            guesses += 1\n",
    "        else:\n",
    "            print(f\"All 4 Guesses have been used, you didn't unscramble the word, the word was {word}\")\n",
    "            guesses += 1\n",
    "    else:\n",
    "        print(\"Congratulations, you unscrambled the word!\")"
   ]
  },
  {
   "attachments": {},
   "cell_type": "markdown",
   "metadata": {},
   "source": [
    "# Hacks: Your Score/1\n",
    "\n",
    "\n",
    "## General 0.3\n",
    "- Copy this noteboook into your personal fastpages ✅\n",
    "- Answer all questions in a new markdown block (so we can grade faster) ✅ SEE BELOW "
   ]
  },
  {
   "attachments": {},
   "cell_type": "markdown",
   "metadata": {},
   "source": [
    "<h2>New markdown file for answered questions✅</h2> \n",
    "- What are some examples of 2d Arrays: tic tac toe where there is a x and y axis \n",
    "\n",
    "- What is a modern day game that could be classified as a 2D array: 2048\n",
    "\n",
    "- Describe a 2D array in your own words: arrays where the element is referred to by 2 indeces, like having a row and a column\n",
    "\n",
    "- What is the definition of iteration in your own words: looping through the same piece of code until a specific index of until a condition is met(usually using for or while loop)\n",
    "\n",
    "Iteration Robot Game\n",
    "- Explain how the game relates to iteration: iterates through the same direction block, such as up, down, left, right\n",
    "\n",
    "- What parts of the code use iteration: Using the same direction block multiple times. For example for Level 2 it iterated through the down block 4 times and then the right block 4 times to reach the goal \n",
    "\n",
    "Scrabble Game\n",
    "- Explain which parts of the code use lists: list called word_list to save the possible words that could be scrambled and guessed by the user \n",
    "\n",
    "- Explain what list manipulation is happening in that part: manipulate the string through the random function and iterating through that list to generate new scrambled words for the user to decipher"
   ]
  },
  {
   "attachments": {},
   "cell_type": "markdown",
   "metadata": {},
   "source": [
    "\n",
    "## Iteration 0.2 (can get up to 0.23)\n",
    "Get to level 5: Take ScreenShots of your name inside the box an put them in your ticket✅\n",
    "1. Level 1 \n",
    "![](https://i.imgur.com/3hvRPZ3.png)\n",
    "2. Level 2 \n",
    "![](https://i.imgur.com/kf0OS9g.png)\n",
    "3. Level 3 \n",
    "![](https://i.imgur.com/uYUGDza.png)\n",
    "4. Level 4 \n",
    "![](https://i.imgur.com/C3sQ387.png)\n",
    "5. Level 5 \n",
    "![](https://i.imgur.com/PjqB4Yp.png)\n",
    "\n",
    "Create a code segment with iteration that does something cool✅"
   ]
  },
  {
   "cell_type": "code",
   "execution_count": 9,
   "metadata": {},
   "outputs": [
    {
     "name": "stdout",
     "output_type": "stream",
     "text": [
      "Plain Text is : This is cool code\n",
      "Shift pattern is : 1\n",
      "Cipher Text is : Uijt jt dppm dpef\n"
     ]
    }
   ],
   "source": [
    "def encrypt_text(plaintext,n):\n",
    "    ans = \"\"\n",
    "    # iterate over the given text\n",
    "    for i in range(len(plaintext)):\n",
    "        ch = plaintext[i]\n",
    "        \n",
    "        # check if space is there then simply add space\n",
    "        if ch==\" \":\n",
    "            ans+=\" \"\n",
    "        # check if a character is uppercase then encrypt it accordingly \n",
    "        elif (ch.isupper()):\n",
    "            ans += chr((ord(ch) + n-65) % 26 + 65)\n",
    "        # check if a character is lowercase then encrypt it accordingly\n",
    "        \n",
    "        else:\n",
    "            ans += chr((ord(ch) + n-97) % 26 + 97)\n",
    "    \n",
    "    return ans\n",
    "\n",
    "plaintext = \"This is cool code\"\n",
    "n = 1\n",
    "print(\"Plain Text is : \" + plaintext)\n",
    "print(\"Shift pattern is : \" + str(n))\n",
    "print(\"Cipher Text is : \" + encrypt_text(plaintext,n))\n"
   ]
  },
  {
   "attachments": {},
   "cell_type": "markdown",
   "metadata": {},
   "source": [
    "## 2D array 0.2 (can get up to 0.23)✅\n",
    "- <b>Explain how the tic tac toe game works (2D array)</b>: THe game board is a 3x3 grid and each cell is either empty, an \"x\" or \"o\" mark. We can create a 2D array with 3 rows and 3 columns to map out where an \"x\" or \"o\" could be on the game board. \n",
    "- <b>Give 3 Examples of games that can be made from 2D arrays</b>: 2048, Crossword, Sudoku\n",
    "\n",
    "## List and Dictionaries 0.2 (can get up to 0.23)✅\n",
    "- <b>Explain the differences between Lists and Dictionaries</b>: Lists is a collection of items that can indexed in 1 dimensional. You can put in categorical or numerical data such as strings or integers. Dictionaries also save information but in a structure of key value pairs. There can only be one key but multiple values can be attributed to that key through a list. \n",
    "- <b>Make a code block that manipulates either a list or a dictionary</b>\n"
   ]
  },
  {
   "cell_type": "code",
   "execution_count": 11,
   "metadata": {},
   "outputs": [
    {
     "name": "stdout",
     "output_type": "stream",
     "text": [
      "6\n"
     ]
    }
   ],
   "source": [
    "list = [1, 2, 3]\n",
    "sum = 0\n",
    "for i in list:\n",
    "    sum = sum + i\n",
    "print(sum)"
   ]
  },
  {
   "attachments": {},
   "cell_type": "markdown",
   "metadata": {},
   "source": [
    "- <b>EXTRA: Example of using iteration in CPT</b>✅"
   ]
  },
  {
   "attachments": {},
   "cell_type": "markdown",
   "metadata": {},
   "source": [
    "diagnosis_database is a dictionary that holds information about 21 different sicknesses. The key is the sickness, and the values are the symptoms associated with it. \n",
    "\n",
    "My dictionary manages complexity because it effectively saves the data in a way that directly matches a sickness to its list of symptoms. In this way, my program is able to iterate through each key's values (symptoms) and match them with the user's symptoms to find the key(sickness) that the user most likely is experiencing. If I did not use a dictionary, I would have to spend an unreasonable about of time creating variables for each sickness which would not be favorable if I wanted to expand my database to hold information about the million other types of diseases possible. "
   ]
  },
  {
   "cell_type": "code",
   "execution_count": 10,
   "metadata": {},
   "outputs": [
    {
     "name": "stdout",
     "output_type": "stream",
     "text": [
      "\n",
      "Based on your current symptoms, your mostly likely sickness is acute bronchitis.\n",
      "\n",
      "We advise you to get plenty of rest! Drink fluids but avoid caffeine and alcohol. Bring a humidifier into your house. If the symptoms are too painful pain relievers and fever reducers, such as acetaminophen (Tylenol).\n",
      "\n",
      "Goodbye and stay safe!\n"
     ]
    }
   ],
   "source": [
    "def main(): \n",
    "    # User input as list of strings \n",
    "    user_symptoms_string = [(x) for x in input(\"\\nFeeling under the weather? Enter your symptoms here: \").split(', ')]\n",
    "\n",
    "    # Diseases database\n",
    "    diagnosis_database = {\n",
    "    \"acute bronchitis\": ['Cough', 'Mucus'],\n",
    "    \"allergy\": ['Runny nose', 'Sneezing', 'Itchy Eyes', 'Watery Eyes'],\n",
    "    \"amebiasis\": ['Fever', 'Nausea', 'Diarrhea'],\n",
    "    \"anthrax\": ['Fever', 'Cough', 'Nausea', 'Headache', 'Sweating'],\n",
    "    \"anxiety\": ['Increased heart rate', 'Hyperventilation', 'Sweating', 'Trembling'],\n",
    "    \"brain cancer\": ['Headache', 'Blurred vision'],\n",
    "    \"chlamydia\": ['Bleeding', 'Discharge'],\n",
    "    \"Colorado Tick Fever(CTF)\": ['Fever', 'Sore Throat', 'Vomiting', 'Rash'],\n",
    "    \"COVID-19\": ['Fever', 'Sore throat', 'Runny nose'],\n",
    "    \"depression\": ['Fatigue', 'Imsomnia', 'Agitation'],\n",
    "    \"diarrhea\": ['Fever', 'Cramps', 'Bloating', 'Nausea', 'Vomiting'],\n",
    "    \"ear infection\": ['Fever', 'Ear Pain'],\n",
    "    \"endometriosis\": ['Stomache ache', 'Bleeding'],\n",
    "    \"fibromyalgia\": ['Fatigue', 'Depression', 'Anxiety', 'Insomnia', 'Headache'],\n",
    "    \"flu\": ['Fever', 'Cough', 'Runny nose'],\n",
    "    \"lupus\": ['Fatigue', 'Fever'],\n",
    "    \"lyme disease\": ['Fever', 'Fatigue', 'Headache'],\n",
    "    \"mononucleosis\": ['Fatigue', 'Fever', 'Sore Throat', 'Headache'],\n",
    "    \"pink eye\": ['Runny nose', 'Blurred vision'],\n",
    "    \"pneumonia\": ['Cough', 'Fatigue', 'Fever', 'Nausea', 'Vomiting'],\n",
    "    \"schizophrenia\": ['Anxiety', 'Paranoia', 'Hallucination'],\n",
    "    }\n",
    "    # Dictionary that includes treatment advice\n",
    "    treatment_database = {\n",
    "    \"acute bronchitis\": \"get plenty of rest! Drink fluids but avoid caffeine and alcohol. Bring a humidifier into your house. If the symptoms are too painful pain relievers and fever reducers, such as acetaminophen (Tylenol).\",\n",
    "    \"allergy\": \"go to the doctor, try saline nasal irrigation, use an air filter indoors\",\n",
    "    \"amebiasis\": \"take a definitive diagnosis of ambiasis by stool examination to identify the parasite. The standard treatment for ambiasis includes a course of antibiotics such as metronidazole or tinidazole, which are used to kill the parasite. It is important to consult a healthcare professional for diagnosis and treatment as the infection can lead to serious complications if left untreated.\\n\\nAmebiasis can also cause dehydration and malnutrition due to diarrhea and vomiting. It is important to maintain hydration and provide adequate nutrition to help the body fight the infection! \\n\\nOf course, don't forget to get lots of rest! Stay safe and we wish you good health!\\n\",\n",
    "    \"anxiety\": \"try arranging a meeting with a therapist, visit the doctor for Anti-anxiety medications, listen to calming music, take leisurely walks outside\",\n",
    "    \"brain cancer\": \"visit the doctor right away\",\n",
    "    \"chlamydia\": \"visit the doctor to see what medication you need\",\n",
    "    \"Colorado Tick Fever(CTF)\": \"take over-the-counter pain relievers like acetaminophen and ibuprofen to help reduce fever, headache, and muscle pain. \\n\\nAvoid taking aspirin or aspirin-contained products as they can increase the risk of bleeding in viral infections like CTF\\n\\nRemember to stay hydrated to avoid fever dehydration and get enough rest!\\n\\nIn the end of the day, there is no specific treatment for CTF, your best bet is to learn how to prevent future encounters. Avoid walking in high-risk areas, wear protective clothing, and use insect repellents containing DEET\\n\\nStay safe and we wish you good health!\\n\",\n",
    "    \"COVID-19\": \"go to bed early, drink lots of warm water, Take advil in moderation if you have muscle pain\",\n",
    "    \"depression\": \"visit a doctor for medication, Try arranging a meeting with a therapist, listen to music, take walks outside\",\n",
    "    \"diarrhea\": \"drink plenty of liquids, including water, broths and juices. Avoid caffeine and alcohol. Add semisolid and low-fiber foods gradually as your bowel movements return to normal. Try soda crackers, toast, eggs, rice or chicken.\",\n",
    "    \"ear infection\": \"take antibiotics so that the infection doesn't spread to other parts of the body\",\n",
    "    \"endometriosis\": \"effective treatments such as hormones and excision surgery can help, staying hydrated and putting a heating pad in the uterus area\",\n",
    "    \"fibromyalgia\": \"try out some of these improving quality of life treatments!\\n\\n1. Medications can help manage the pain such as pain relievers, antidepressants, and anticonvulsants.\\n\\n2. Get involved with physical therapy to improve muscle strength, flexibility, range of motion, and reduce pain and stiffness\\n\\n3. Exercise! Yoga, walking, swimming, and cycling are all great options!\\n\\n4. Be mindful of your sleep schedule. Good sleep hygiene practices like avoiding caffeine and electronics before bed would be helpful\\n\\nIt is important to work with a healthcare providers to dvelop an individualized health plan for fibromyalgia.\\n\",\n",
    "    \"flu\": \"get plenty of rest, drink lots of water, and if you feel pain, take pain relievers\",\n",
    "    \"lupus\": \"take care of your skin by wearing plenty of sun block and keeping skin safe by wearing sun protective clothes\",\n",
    "    \"lyme disease\": \"take oral and Intravenous antibiotics\",\n",
    "    \"mononucleosis\": \"get plenty of rest and take antiflammatory drugs\",\n",
    "    \"pink eye\":\"use artificial tears, clean your eyelids with a wet cloth, and apply cold or warm compresses several times daily. \",\n",
    "    \"pneumonia\": \"mild pneumonia can usually be treated at home with rest, antibiotics (if it's likely be caused by a bacterial infection) and by drinking plenty of fluids. More severe cases may need hospital treatment.\",\n",
    "    \"schizophrenia\": \"treatment with medications and psychosocial therapy can help manage the condition. In some cases, hospitalization may be needed. A psychiatrist experienced in treating schizophrenia usually guides treatment.\",\n",
    "    }\n",
    "\n",
    "    # Pass user symptoms as a parameter\n",
    "    def get_diagnosis(user_symptoms_string):\n",
    "        \n",
    "        # Initialize match score array\n",
    "        match_result_array = [0] * len(diagnosis_database)\n",
    "\n",
    "        # Initialize variables\n",
    "        match_disease_index = 0\n",
    "        max_match_result = 0\n",
    "        max_match_result_disease = \"\"\n",
    "        max_match_result_treatment = \"\"\n",
    "        max_match_result_report = \"\"\n",
    "\n",
    "        # Nested for loop to match user's symptoms to symptoms in database that correspond to a certain sickness\n",
    "        for key, values in diagnosis_database.items():\n",
    "            for symptom in user_symptoms_string:\n",
    "                for value in values:\n",
    "                    # If they do match, +1 to array keeping track of how many matches for each sickness\n",
    "                    if value == symptom:\n",
    "                        match_result_array[match_disease_index] = match_result_array[match_disease_index] + 1\n",
    "                        break\n",
    "            # Finding sickness with max number of matches with user symptoms \n",
    "            if match_result_array[match_disease_index] > max_match_result:\n",
    "                max_match_result = match_result_array[match_disease_index]\n",
    "                max_match_result_disease = key\n",
    "            match_disease_index = match_disease_index + 1\n",
    "        \n",
    "        # Match sickness with treatment advice \n",
    "        for key, value in treatment_database.items(): \n",
    "            if key == max_match_result_disease:\n",
    "                max_match_result_treatment = value \n",
    "                break \n",
    "\n",
    "        # Combine printed information into one variable\n",
    "        max_match_result_report = \"\\nBased on your current symptoms, your mostly likely sickness is \" + max_match_result_disease + \".\\n\\nWe advise you to \" + max_match_result_treatment\n",
    "        return max_match_result_report\n",
    "\n",
    "    report = get_diagnosis(user_symptoms_string)\n",
    "    # Print diagnosis and treatment advice\n",
    "    print(report)\n",
    "\n",
    "    # Ask user if want to run program again\n",
    "    restart = input(\"Run again? (y/n) \")\n",
    "    if restart == \"y\":\n",
    "        main()\n",
    "    elif restart == \"n\":\n",
    "        print(\"\\nGoodbye and stay safe!\")\n",
    "    else: \n",
    "        print(\"\\nPlease type either y for yes or n for no\")\n",
    "main()\n"
   ]
  }
 ],
 "metadata": {
  "kernelspec": {
   "display_name": "base",
   "language": "python",
   "name": "python3"
  },
  "language_info": {
   "codemirror_mode": {
    "name": "ipython",
    "version": 3
   },
   "file_extension": ".py",
   "mimetype": "text/x-python",
   "name": "python",
   "nbconvert_exporter": "python",
   "pygments_lexer": "ipython3",
   "version": "3.9.12"
  },
  "orig_nbformat": 4
 },
 "nbformat": 4,
 "nbformat_minor": 2
}
