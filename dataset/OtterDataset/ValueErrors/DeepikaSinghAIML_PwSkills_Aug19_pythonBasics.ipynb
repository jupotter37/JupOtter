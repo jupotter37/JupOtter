{
 "cells": [
  {
   "cell_type": "markdown",
   "id": "f7faff83",
   "metadata": {},
   "source": [
    "# Creating Variables"
   ]
  },
  {
   "cell_type": "code",
   "execution_count": 7,
   "id": "a5c7d224",
   "metadata": {},
   "outputs": [],
   "source": [
    "a=10"
   ]
  },
  {
   "cell_type": "code",
   "execution_count": 8,
   "id": "03b12f93",
   "metadata": {},
   "outputs": [
    {
     "data": {
      "text/plain": [
       "10"
      ]
     },
     "execution_count": 8,
     "metadata": {},
     "output_type": "execute_result"
    }
   ],
   "source": [
    "a"
   ]
  },
  {
   "cell_type": "code",
   "execution_count": 9,
   "id": "3592a0de",
   "metadata": {},
   "outputs": [],
   "source": [
    "deeps=1235"
   ]
  },
  {
   "cell_type": "markdown",
   "id": "b6a3849b",
   "metadata": {},
   "source": [
    "# Getting Data Type"
   ]
  },
  {
   "cell_type": "code",
   "execution_count": 10,
   "id": "e23a9b6a",
   "metadata": {},
   "outputs": [
    {
     "data": {
      "text/plain": [
       "int"
      ]
     },
     "execution_count": 10,
     "metadata": {},
     "output_type": "execute_result"
    }
   ],
   "source": [
    "type(deeps)"
   ]
  },
  {
   "cell_type": "code",
   "execution_count": 11,
   "id": "6396b2d6",
   "metadata": {},
   "outputs": [],
   "source": [
    "s='pwskills'"
   ]
  },
  {
   "cell_type": "code",
   "execution_count": 12,
   "id": "2c59ce04",
   "metadata": {},
   "outputs": [
    {
     "data": {
      "text/plain": [
       "str"
      ]
     },
     "execution_count": 12,
     "metadata": {},
     "output_type": "execute_result"
    }
   ],
   "source": [
    "type(s)"
   ]
  },
  {
   "cell_type": "code",
   "execution_count": 13,
   "id": "c453c6fd",
   "metadata": {},
   "outputs": [],
   "source": [
    "f=349.56"
   ]
  },
  {
   "cell_type": "code",
   "execution_count": 14,
   "id": "58d20ea7",
   "metadata": {},
   "outputs": [
    {
     "data": {
      "text/plain": [
       "float"
      ]
     },
     "execution_count": 14,
     "metadata": {},
     "output_type": "execute_result"
    }
   ],
   "source": [
    "type(f)"
   ]
  },
  {
   "cell_type": "code",
   "execution_count": 15,
   "id": "b367269f",
   "metadata": {},
   "outputs": [],
   "source": [
    "c=5+6j"
   ]
  },
  {
   "cell_type": "code",
   "execution_count": 16,
   "id": "4dfba2d9",
   "metadata": {},
   "outputs": [
    {
     "data": {
      "text/plain": [
       "complex"
      ]
     },
     "execution_count": 16,
     "metadata": {},
     "output_type": "execute_result"
    }
   ],
   "source": [
    "type(c)"
   ]
  },
  {
   "cell_type": "code",
   "execution_count": 17,
   "id": "c87797f1",
   "metadata": {},
   "outputs": [
    {
     "data": {
      "text/plain": [
       "5.0"
      ]
     },
     "execution_count": 17,
     "metadata": {},
     "output_type": "execute_result"
    }
   ],
   "source": [
    "c.real"
   ]
  },
  {
   "cell_type": "code",
   "execution_count": 18,
   "id": "831d42bf",
   "metadata": {},
   "outputs": [
    {
     "data": {
      "text/plain": [
       "6.0"
      ]
     },
     "execution_count": 18,
     "metadata": {},
     "output_type": "execute_result"
    }
   ],
   "source": [
    "c.imag"
   ]
  },
  {
   "cell_type": "code",
   "execution_count": 19,
   "id": "65a10686",
   "metadata": {},
   "outputs": [],
   "source": [
    "b=True"
   ]
  },
  {
   "cell_type": "code",
   "execution_count": 20,
   "id": "45005e12",
   "metadata": {},
   "outputs": [
    {
     "data": {
      "text/plain": [
       "bool"
      ]
     },
     "execution_count": 20,
     "metadata": {},
     "output_type": "execute_result"
    }
   ],
   "source": [
    "type(b)"
   ]
  },
  {
   "cell_type": "code",
   "execution_count": 21,
   "id": "f22954e0",
   "metadata": {},
   "outputs": [],
   "source": [
    "b1=False"
   ]
  },
  {
   "cell_type": "code",
   "execution_count": 22,
   "id": "2fdd4ac5",
   "metadata": {},
   "outputs": [
    {
     "data": {
      "text/plain": [
       "bool"
      ]
     },
     "execution_count": 22,
     "metadata": {},
     "output_type": "execute_result"
    }
   ],
   "source": [
    "type(b1)"
   ]
  },
  {
   "cell_type": "markdown",
   "id": "993d162c",
   "metadata": {},
   "source": [
    "# Assigning String to a Variable"
   ]
  },
  {
   "cell_type": "code",
   "execution_count": 23,
   "id": "4fce3005",
   "metadata": {},
   "outputs": [],
   "source": [
    "s1='this is my first python lecture'"
   ]
  },
  {
   "cell_type": "code",
   "execution_count": 24,
   "id": "aab3312e",
   "metadata": {},
   "outputs": [
    {
     "data": {
      "text/plain": [
       "'this is my first python lecture'"
      ]
     },
     "execution_count": 24,
     "metadata": {},
     "output_type": "execute_result"
    }
   ],
   "source": [
    "s1"
   ]
  },
  {
   "cell_type": "markdown",
   "id": "7c16c553",
   "metadata": {},
   "source": [
    "# Using Operators"
   ]
  },
  {
   "cell_type": "code",
   "execution_count": 25,
   "id": "19b8ecdb",
   "metadata": {},
   "outputs": [],
   "source": [
    "a1=45\n",
    "a2=34"
   ]
  },
  {
   "cell_type": "code",
   "execution_count": 26,
   "id": "ee6523ad",
   "metadata": {},
   "outputs": [
    {
     "data": {
      "text/plain": [
       "79"
      ]
     },
     "execution_count": 26,
     "metadata": {},
     "output_type": "execute_result"
    }
   ],
   "source": [
    "a1+a2"
   ]
  },
  {
   "cell_type": "code",
   "execution_count": 27,
   "id": "ac9812a6",
   "metadata": {},
   "outputs": [
    {
     "data": {
      "text/plain": [
       "11"
      ]
     },
     "execution_count": 27,
     "metadata": {},
     "output_type": "execute_result"
    }
   ],
   "source": [
    "a1-a2"
   ]
  },
  {
   "cell_type": "code",
   "execution_count": 28,
   "id": "cc9ac385",
   "metadata": {},
   "outputs": [
    {
     "data": {
      "text/plain": [
       "1530"
      ]
     },
     "execution_count": 28,
     "metadata": {},
     "output_type": "execute_result"
    }
   ],
   "source": [
    "a1*a2"
   ]
  },
  {
   "cell_type": "code",
   "execution_count": 29,
   "id": "9afd7c9a",
   "metadata": {},
   "outputs": [
    {
     "data": {
      "text/plain": [
       "1.3235294117647058"
      ]
     },
     "execution_count": 29,
     "metadata": {},
     "output_type": "execute_result"
    }
   ],
   "source": [
    "a1/a2"
   ]
  },
  {
   "cell_type": "markdown",
   "id": "51864cc4",
   "metadata": {},
   "source": [
    "# Many Values to Multiple Variables"
   ]
  },
  {
   "cell_type": "code",
   "execution_count": 30,
   "id": "d9583265",
   "metadata": {},
   "outputs": [],
   "source": [
    "a1,a2=34,45"
   ]
  },
  {
   "cell_type": "code",
   "execution_count": 31,
   "id": "fa71fb9b",
   "metadata": {},
   "outputs": [
    {
     "data": {
      "text/plain": [
       "34"
      ]
     },
     "execution_count": 31,
     "metadata": {},
     "output_type": "execute_result"
    }
   ],
   "source": [
    "a1"
   ]
  },
  {
   "cell_type": "code",
   "execution_count": 32,
   "id": "89845af1",
   "metadata": {},
   "outputs": [
    {
     "data": {
      "text/plain": [
       "45"
      ]
     },
     "execution_count": 32,
     "metadata": {},
     "output_type": "execute_result"
    }
   ],
   "source": [
    "a2 "
   ]
  },
  {
   "cell_type": "code",
   "execution_count": 33,
   "id": "8b25c0d1",
   "metadata": {},
   "outputs": [],
   "source": [
    "a,b,c,d=21,'deeps',34.45,True"
   ]
  },
  {
   "cell_type": "code",
   "execution_count": 34,
   "id": "eebfa561",
   "metadata": {},
   "outputs": [
    {
     "name": "stdout",
     "output_type": "stream",
     "text": [
      "21\n",
      "deeps\n",
      "34.45\n",
      "True\n"
     ]
    }
   ],
   "source": [
    "print(a)\n",
    "print(b)\n",
    "print(c)\n",
    "print(d)"
   ]
  },
  {
   "cell_type": "markdown",
   "id": "74cf0acd",
   "metadata": {},
   "source": [
    "# Illegal Variable Names"
   ]
  },
  {
   "cell_type": "code",
   "execution_count": 35,
   "id": "8d851be1",
   "metadata": {},
   "outputs": [
    {
     "name": "stderr",
     "output_type": "stream",
     "text": [
      "UsageError: Line magic function `%a=345` not found.\n"
     ]
    }
   ],
   "source": [
    "%a=345"
   ]
  },
  {
   "cell_type": "code",
   "execution_count": null,
   "id": "3d9118e5",
   "metadata": {},
   "outputs": [],
   "source": [
    "0a=45"
   ]
  },
  {
   "cell_type": "code",
   "execution_count": null,
   "id": "b3325f75",
   "metadata": {},
   "outputs": [],
   "source": [
    "@h=87"
   ]
  },
  {
   "cell_type": "code",
   "execution_count": null,
   "id": "41f71149",
   "metadata": {},
   "outputs": [],
   "source": [
    "-b=346"
   ]
  },
  {
   "cell_type": "code",
   "execution_count": null,
   "id": "c0e7d8e0",
   "metadata": {},
   "outputs": [],
   "source": [
    "True=34"
   ]
  },
  {
   "cell_type": "markdown",
   "id": "fcf09f94",
   "metadata": {},
   "source": [
    "**NOTE**: A variable can have a short name (like x and y) or a more descriptive name (age, carname, total_volume). \n",
    "Rules for Python variables:\n",
    "- A variable name must start with a letter or the underscore character\n",
    "- A variable name cannot start with a number\n",
    "- A variable name can only contain alpha-numeric characters and underscores (A-z, 0-9, and _ )\n",
    "- Variable names are case-sensitive (age, Age and AGE are three different variables)\n",
    "- A variable name cannot be any of the Python keywords."
   ]
  },
  {
   "cell_type": "markdown",
   "id": "b191c8de",
   "metadata": {},
   "source": [
    "# Legal Variable Names"
   ]
  },
  {
   "cell_type": "code",
   "execution_count": null,
   "id": "8d3019f3",
   "metadata": {},
   "outputs": [],
   "source": [
    "b0=45"
   ]
  },
  {
   "cell_type": "code",
   "execution_count": null,
   "id": "7c791e14",
   "metadata": {},
   "outputs": [],
   "source": [
    "_a=7"
   ]
  },
  {
   "cell_type": "code",
   "execution_count": null,
   "id": "3cb62916",
   "metadata": {},
   "outputs": [],
   "source": [
    "b1=True"
   ]
  },
  {
   "cell_type": "markdown",
   "id": "4ed28aa8",
   "metadata": {},
   "source": [
    "# Random Boolean Practice"
   ]
  },
  {
   "cell_type": "code",
   "execution_count": null,
   "id": "2f043ce3",
   "metadata": {},
   "outputs": [],
   "source": [
    "b1=True\n",
    "b2=False"
   ]
  },
  {
   "cell_type": "code",
   "execution_count": null,
   "id": "16492c7c",
   "metadata": {},
   "outputs": [],
   "source": [
    "b1-b2"
   ]
  },
  {
   "cell_type": "code",
   "execution_count": null,
   "id": "60cd41f6",
   "metadata": {},
   "outputs": [],
   "source": [
    "b1*b2"
   ]
  },
  {
   "cell_type": "code",
   "execution_count": null,
   "id": "44d80257",
   "metadata": {},
   "outputs": [],
   "source": [
    "b1/b2"
   ]
  },
  {
   "cell_type": "markdown",
   "id": "36ced2d0",
   "metadata": {},
   "source": [
    "# String Practice "
   ]
  },
  {
   "cell_type": "code",
   "execution_count": 37,
   "id": "39e06758",
   "metadata": {},
   "outputs": [],
   "source": [
    "s1='My Name is Deepika Singh'"
   ]
  },
  {
   "cell_type": "code",
   "execution_count": 38,
   "id": "f4ada9bb",
   "metadata": {},
   "outputs": [
    {
     "data": {
      "text/plain": [
       "'My Name is Deepika Singh'"
      ]
     },
     "execution_count": 38,
     "metadata": {},
     "output_type": "execute_result"
    }
   ],
   "source": [
    "s1"
   ]
  },
  {
   "cell_type": "code",
   "execution_count": 39,
   "id": "10150852",
   "metadata": {},
   "outputs": [],
   "source": [
    "s2=\"That is Deepika's Book\""
   ]
  },
  {
   "cell_type": "code",
   "execution_count": 40,
   "id": "36104c44",
   "metadata": {},
   "outputs": [
    {
     "data": {
      "text/plain": [
       "\"That is Deepika's Book\""
      ]
     },
     "execution_count": 40,
     "metadata": {},
     "output_type": "execute_result"
    }
   ],
   "source": [
    "s2"
   ]
  },
  {
   "cell_type": "code",
   "execution_count": 41,
   "id": "d210ba44",
   "metadata": {},
   "outputs": [],
   "source": [
    "s3=\"DEEPS\"\n",
    "a1=10"
   ]
  },
  {
   "cell_type": "code",
   "execution_count": 42,
   "id": "c43727e6",
   "metadata": {},
   "outputs": [
    {
     "ename": "TypeError",
     "evalue": "can only concatenate str (not \"int\") to str",
     "output_type": "error",
     "traceback": [
      "\u001b[1;31m---------------------------------------------------------------------------\u001b[0m",
      "\u001b[1;31mTypeError\u001b[0m                                 Traceback (most recent call last)",
      "Cell \u001b[1;32mIn[42], line 1\u001b[0m\n\u001b[1;32m----> 1\u001b[0m \u001b[43ms3\u001b[49m\u001b[38;5;241;43m+\u001b[39;49m\u001b[43ma1\u001b[49m\n",
      "\u001b[1;31mTypeError\u001b[0m: can only concatenate str (not \"int\") to str"
     ]
    }
   ],
   "source": [
    "s3+a1"
   ]
  },
  {
   "cell_type": "code",
   "execution_count": 43,
   "id": "d805edaf",
   "metadata": {},
   "outputs": [
    {
     "data": {
      "text/plain": [
       "'deepikaSingh'"
      ]
     },
     "execution_count": 43,
     "metadata": {},
     "output_type": "execute_result"
    }
   ],
   "source": [
    "'deepika'+'Singh'"
   ]
  },
  {
   "cell_type": "code",
   "execution_count": 44,
   "id": "8b7009c5",
   "metadata": {},
   "outputs": [
    {
     "data": {
      "text/plain": [
       "int"
      ]
     },
     "execution_count": 44,
     "metadata": {},
     "output_type": "execute_result"
    }
   ],
   "source": [
    "type(a1)"
   ]
  },
  {
   "cell_type": "code",
   "execution_count": 46,
   "id": "e9905802",
   "metadata": {},
   "outputs": [
    {
     "data": {
      "text/plain": [
       "'21'"
      ]
     },
     "execution_count": 46,
     "metadata": {},
     "output_type": "execute_result"
    }
   ],
   "source": [
    "str(a) #this is type casting"
   ]
  },
  {
   "cell_type": "code",
   "execution_count": 47,
   "id": "650c5f4a",
   "metadata": {},
   "outputs": [
    {
     "data": {
      "text/plain": [
       "'DEEPS10'"
      ]
     },
     "execution_count": 47,
     "metadata": {},
     "output_type": "execute_result"
    }
   ],
   "source": [
    "s3+str(a1)"
   ]
  },
  {
   "cell_type": "code",
   "execution_count": 48,
   "id": "501483d8",
   "metadata": {},
   "outputs": [
    {
     "data": {
      "text/plain": [
       "'deepika singh'"
      ]
     },
     "execution_count": 48,
     "metadata": {},
     "output_type": "execute_result"
    }
   ],
   "source": [
    "'deepika '+'singh'"
   ]
  },
  {
   "cell_type": "code",
   "execution_count": 49,
   "id": "53d3f6ee",
   "metadata": {},
   "outputs": [
    {
     "data": {
      "text/plain": [
       "'deepika singh'"
      ]
     },
     "execution_count": 49,
     "metadata": {},
     "output_type": "execute_result"
    }
   ],
   "source": [
    "'deepika'+' '+'singh'"
   ]
  },
  {
   "cell_type": "code",
   "execution_count": 50,
   "id": "4afbe999",
   "metadata": {},
   "outputs": [],
   "source": [
    "b=str(a1)"
   ]
  },
  {
   "cell_type": "code",
   "execution_count": 51,
   "id": "eb5b1229",
   "metadata": {},
   "outputs": [
    {
     "data": {
      "text/plain": [
       "10"
      ]
     },
     "execution_count": 51,
     "metadata": {},
     "output_type": "execute_result"
    }
   ],
   "source": [
    "int(b)"
   ]
  },
  {
   "cell_type": "code",
   "execution_count": 52,
   "id": "4a32d51b",
   "metadata": {},
   "outputs": [],
   "source": [
    "s='deepika'"
   ]
  },
  {
   "cell_type": "code",
   "execution_count": 53,
   "id": "cd0d1685",
   "metadata": {},
   "outputs": [
    {
     "ename": "ValueError",
     "evalue": "invalid literal for int() with base 10: 'deepika'",
     "output_type": "error",
     "traceback": [
      "\u001b[1;31m---------------------------------------------------------------------------\u001b[0m",
      "\u001b[1;31mValueError\u001b[0m                                Traceback (most recent call last)",
      "Cell \u001b[1;32mIn[53], line 1\u001b[0m\n\u001b[1;32m----> 1\u001b[0m \u001b[38;5;28;43mint\u001b[39;49m\u001b[43m(\u001b[49m\u001b[43ms\u001b[49m\u001b[43m)\u001b[49m\n",
      "\u001b[1;31mValueError\u001b[0m: invalid literal for int() with base 10: 'deepika'"
     ]
    }
   ],
   "source": [
    "int(s)"
   ]
  },
  {
   "cell_type": "markdown",
   "id": "5b49667f",
   "metadata": {},
   "source": [
    "# Taking Input"
   ]
  },
  {
   "cell_type": "code",
   "execution_count": 54,
   "id": "aab2711f",
   "metadata": {},
   "outputs": [
    {
     "name": "stdout",
     "output_type": "stream",
     "text": [
      "67\n"
     ]
    }
   ],
   "source": [
    "b=input() "
   ]
  },
  {
   "cell_type": "code",
   "execution_count": 55,
   "id": "6880296f",
   "metadata": {},
   "outputs": [
    {
     "data": {
      "text/plain": [
       "str"
      ]
     },
     "execution_count": 55,
     "metadata": {},
     "output_type": "execute_result"
    }
   ],
   "source": [
    "type(b) #by default it is always string"
   ]
  },
  {
   "cell_type": "code",
   "execution_count": 56,
   "id": "d40ea13c",
   "metadata": {},
   "outputs": [
    {
     "name": "stdout",
     "output_type": "stream",
     "text": [
      "456\n"
     ]
    }
   ],
   "source": [
    "b=int(input())"
   ]
  },
  {
   "cell_type": "code",
   "execution_count": 57,
   "id": "25ba6978",
   "metadata": {},
   "outputs": [
    {
     "data": {
      "text/plain": [
       "int"
      ]
     },
     "execution_count": 57,
     "metadata": {},
     "output_type": "execute_result"
    }
   ],
   "source": [
    "type(b)"
   ]
  },
  {
   "cell_type": "code",
   "execution_count": 58,
   "id": "a3f14335",
   "metadata": {},
   "outputs": [
    {
     "name": "stdout",
     "output_type": "stream",
     "text": [
      "568.8\n"
     ]
    }
   ],
   "source": [
    "f=float(input())"
   ]
  },
  {
   "cell_type": "code",
   "execution_count": 59,
   "id": "e4905840",
   "metadata": {},
   "outputs": [
    {
     "data": {
      "text/plain": [
       "float"
      ]
     },
     "execution_count": 59,
     "metadata": {},
     "output_type": "execute_result"
    }
   ],
   "source": [
    "type(f)"
   ]
  },
  {
   "cell_type": "code",
   "execution_count": 60,
   "id": "d96b1a6a",
   "metadata": {},
   "outputs": [
    {
     "name": "stdout",
     "output_type": "stream",
     "text": [
      "True\n"
     ]
    }
   ],
   "source": [
    "d=bool(input())"
   ]
  },
  {
   "cell_type": "code",
   "execution_count": 61,
   "id": "a0a40ddf",
   "metadata": {},
   "outputs": [
    {
     "data": {
      "text/plain": [
       "bool"
      ]
     },
     "execution_count": 61,
     "metadata": {},
     "output_type": "execute_result"
    }
   ],
   "source": [
    "type(d)"
   ]
  },
  {
   "cell_type": "markdown",
   "id": "4f4635c1",
   "metadata": {},
   "source": [
    "## Escape Characters\n",
    "To insert characters that are illegal in a string, use an escape character.\n",
    "\n",
    "An escape character is a backslash \\ followed by the character you want to insert."
   ]
  },
  {
   "cell_type": "code",
   "execution_count": null,
   "id": "acc38262",
   "metadata": {},
   "outputs": [],
   "source": [
    "txt = \"We are the so-called \\\"Vikings\\\" from the north.\""
   ]
  },
  {
   "cell_type": "code",
   "execution_count": null,
   "id": "4b1518a3",
   "metadata": {},
   "outputs": [],
   "source": [
    "txt"
   ]
  },
  {
   "cell_type": "markdown",
   "id": "373cc6d8",
   "metadata": {},
   "source": [
    "# Single line comment"
   ]
  },
  {
   "cell_type": "code",
   "execution_count": null,
   "id": "96a710de",
   "metadata": {},
   "outputs": [],
   "source": [
    "#this is a single line comment"
   ]
  },
  {
   "cell_type": "markdown",
   "id": "153db4e5",
   "metadata": {},
   "source": [
    "# Multiline comment"
   ]
  },
  {
   "cell_type": "markdown",
   "id": "3d005f02",
   "metadata": {},
   "source": [
    "**Note**:\n",
    "- Python does not really have a syntax for multiline comments.\n",
    "\n",
    "- To add a multiline comment you could insert a # for each line"
   ]
  },
  {
   "cell_type": "code",
   "execution_count": null,
   "id": "1fbcbcec",
   "metadata": {},
   "outputs": [],
   "source": [
    "#this can\n",
    "#be used for\n",
    "#multiline comments"
   ]
  },
  {
   "cell_type": "markdown",
   "id": "8bb3c290",
   "metadata": {},
   "source": [
    "**Multiline String**\n",
    "Since Python will ignore string literals that are not assigned to a variable, you can add a multiline string (triple quotes) in your code, and place your comment inside it"
   ]
  },
  {
   "cell_type": "code",
   "execution_count": null,
   "id": "8b18e7a9",
   "metadata": {},
   "outputs": [],
   "source": [
    "'''This can be used for multiline comment'''"
   ]
  },
  {
   "cell_type": "code",
   "execution_count": null,
   "id": "1347e01f",
   "metadata": {},
   "outputs": [],
   "source": [
    "\"\"\"This can be used for the same\"\"\""
   ]
  },
  {
   "cell_type": "markdown",
   "id": "4810e5b9",
   "metadata": {},
   "source": [
    "# String Indexing"
   ]
  },
  {
   "cell_type": "code",
   "execution_count": 62,
   "id": "1845d8af",
   "metadata": {},
   "outputs": [],
   "source": [
    "s='deepika'"
   ]
  },
  {
   "cell_type": "code",
   "execution_count": 63,
   "id": "c1118843",
   "metadata": {},
   "outputs": [
    {
     "data": {
      "text/plain": [
       "'d'"
      ]
     },
     "execution_count": 63,
     "metadata": {},
     "output_type": "execute_result"
    }
   ],
   "source": [
    "s[0]"
   ]
  },
  {
   "cell_type": "code",
   "execution_count": 64,
   "id": "c5da0b81",
   "metadata": {},
   "outputs": [
    {
     "data": {
      "text/plain": [
       "'p'"
      ]
     },
     "execution_count": 64,
     "metadata": {},
     "output_type": "execute_result"
    }
   ],
   "source": [
    "s[3]"
   ]
  },
  {
   "cell_type": "code",
   "execution_count": 65,
   "id": "b6b10d86",
   "metadata": {},
   "outputs": [
    {
     "ename": "IndexError",
     "evalue": "string index out of range",
     "output_type": "error",
     "traceback": [
      "\u001b[1;31m---------------------------------------------------------------------------\u001b[0m",
      "\u001b[1;31mIndexError\u001b[0m                                Traceback (most recent call last)",
      "Cell \u001b[1;32mIn[65], line 1\u001b[0m\n\u001b[1;32m----> 1\u001b[0m \u001b[43ms\u001b[49m\u001b[43m[\u001b[49m\u001b[38;5;241;43m7\u001b[39;49m\u001b[43m]\u001b[49m\n",
      "\u001b[1;31mIndexError\u001b[0m: string index out of range"
     ]
    }
   ],
   "source": [
    "s[7]"
   ]
  },
  {
   "cell_type": "code",
   "execution_count": 66,
   "id": "2eea4bf3",
   "metadata": {},
   "outputs": [
    {
     "data": {
      "text/plain": [
       "'a'"
      ]
     },
     "execution_count": 66,
     "metadata": {},
     "output_type": "execute_result"
    }
   ],
   "source": [
    "s[-1]"
   ]
  },
  {
   "cell_type": "code",
   "execution_count": 67,
   "id": "000c9513",
   "metadata": {},
   "outputs": [
    {
     "data": {
      "text/plain": [
       "'k'"
      ]
     },
     "execution_count": 67,
     "metadata": {},
     "output_type": "execute_result"
    }
   ],
   "source": [
    "s[-2]"
   ]
  },
  {
   "cell_type": "code",
   "execution_count": 68,
   "id": "159e396f",
   "metadata": {},
   "outputs": [
    {
     "ename": "IndexError",
     "evalue": "string index out of range",
     "output_type": "error",
     "traceback": [
      "\u001b[1;31m---------------------------------------------------------------------------\u001b[0m",
      "\u001b[1;31mIndexError\u001b[0m                                Traceback (most recent call last)",
      "Cell \u001b[1;32mIn[68], line 1\u001b[0m\n\u001b[1;32m----> 1\u001b[0m \u001b[43ms\u001b[49m\u001b[43m[\u001b[49m\u001b[38;5;241;43m-\u001b[39;49m\u001b[38;5;241;43m8\u001b[39;49m\u001b[43m]\u001b[49m\n",
      "\u001b[1;31mIndexError\u001b[0m: string index out of range"
     ]
    }
   ],
   "source": [
    "s[-8]"
   ]
  },
  {
   "cell_type": "markdown",
   "id": "1ea6c7be",
   "metadata": {},
   "source": [
    "# String Slicing"
   ]
  },
  {
   "cell_type": "code",
   "execution_count": 70,
   "id": "6eefbb85",
   "metadata": {},
   "outputs": [],
   "source": [
    "s1=\"pwskills\""
   ]
  },
  {
   "cell_type": "code",
   "execution_count": 71,
   "id": "b3900d68",
   "metadata": {},
   "outputs": [
    {
     "data": {
      "text/plain": [
       "'pw'"
      ]
     },
     "execution_count": 71,
     "metadata": {},
     "output_type": "execute_result"
    }
   ],
   "source": [
    "s1[0:2]"
   ]
  },
  {
   "cell_type": "code",
   "execution_count": 72,
   "id": "55963cc5",
   "metadata": {},
   "outputs": [
    {
     "data": {
      "text/plain": [
       "'pw'"
      ]
     },
     "execution_count": 72,
     "metadata": {},
     "output_type": "execute_result"
    }
   ],
   "source": [
    "s1[-8:-6]"
   ]
  },
  {
   "cell_type": "code",
   "execution_count": 76,
   "id": "5e35450b",
   "metadata": {},
   "outputs": [
    {
     "data": {
      "text/plain": [
       "'skills'"
      ]
     },
     "execution_count": 76,
     "metadata": {},
     "output_type": "execute_result"
    }
   ],
   "source": [
    "s1[2:8000]"
   ]
  },
  {
   "cell_type": "code",
   "execution_count": 85,
   "id": "ae229795",
   "metadata": {},
   "outputs": [
    {
     "data": {
      "text/plain": [
       "'skills'"
      ]
     },
     "execution_count": 85,
     "metadata": {},
     "output_type": "execute_result"
    }
   ],
   "source": [
    "s1[2:8]"
   ]
  },
  {
   "cell_type": "code",
   "execution_count": 86,
   "id": "04f4be80",
   "metadata": {},
   "outputs": [
    {
     "data": {
      "text/plain": [
       "'skills'"
      ]
     },
     "execution_count": 86,
     "metadata": {},
     "output_type": "execute_result"
    }
   ],
   "source": [
    "s1[2:]"
   ]
  },
  {
   "cell_type": "code",
   "execution_count": 78,
   "id": "e233449c",
   "metadata": {},
   "outputs": [
    {
     "data": {
      "text/plain": [
       "'skills'"
      ]
     },
     "execution_count": 78,
     "metadata": {},
     "output_type": "execute_result"
    }
   ],
   "source": [
    "s1[-6:]"
   ]
  },
  {
   "cell_type": "code",
   "execution_count": 79,
   "id": "042b4a11",
   "metadata": {},
   "outputs": [
    {
     "data": {
      "text/plain": [
       "'psil'"
      ]
     },
     "execution_count": 79,
     "metadata": {},
     "output_type": "execute_result"
    }
   ],
   "source": [
    "s1[0:8:2]"
   ]
  },
  {
   "cell_type": "code",
   "execution_count": 80,
   "id": "6cedd1e3",
   "metadata": {},
   "outputs": [
    {
     "data": {
      "text/plain": [
       "'slli'"
      ]
     },
     "execution_count": 80,
     "metadata": {},
     "output_type": "execute_result"
    }
   ],
   "source": [
    "s1[7:3:-1]"
   ]
  },
  {
   "cell_type": "code",
   "execution_count": 81,
   "id": "bd1f9b34",
   "metadata": {},
   "outputs": [
    {
     "data": {
      "text/plain": [
       "'slli'"
      ]
     },
     "execution_count": 81,
     "metadata": {},
     "output_type": "execute_result"
    }
   ],
   "source": [
    "s1[-1:-5:-1]"
   ]
  },
  {
   "cell_type": "code",
   "execution_count": 82,
   "id": "0287f00a",
   "metadata": {},
   "outputs": [
    {
     "data": {
      "text/plain": [
       "'sllikswp'"
      ]
     },
     "execution_count": 82,
     "metadata": {},
     "output_type": "execute_result"
    }
   ],
   "source": [
    "s1[::-1]"
   ]
  },
  {
   "cell_type": "code",
   "execution_count": 83,
   "id": "dc34ce29",
   "metadata": {},
   "outputs": [
    {
     "data": {
      "text/plain": [
       "'pwskills'"
      ]
     },
     "execution_count": 83,
     "metadata": {},
     "output_type": "execute_result"
    }
   ],
   "source": [
    "s1"
   ]
  },
  {
   "cell_type": "code",
   "execution_count": 97,
   "id": "e21594db",
   "metadata": {},
   "outputs": [
    {
     "ename": "TypeError",
     "evalue": "'str' object does not support item assignment",
     "output_type": "error",
     "traceback": [
      "\u001b[1;31m---------------------------------------------------------------------------\u001b[0m",
      "\u001b[1;31mTypeError\u001b[0m                                 Traceback (most recent call last)",
      "Cell \u001b[1;32mIn[97], line 1\u001b[0m\n\u001b[1;32m----> 1\u001b[0m \u001b[43ms1\u001b[49m\u001b[43m[\u001b[49m\u001b[38;5;241;43m0\u001b[39;49m\u001b[43m]\u001b[49m\u001b[38;5;241m=\u001b[39m\u001b[38;5;124m'\u001b[39m\u001b[38;5;124ms\u001b[39m\u001b[38;5;124m'\u001b[39m \u001b[38;5;66;03m#string is immutable\u001b[39;00m\n",
      "\u001b[1;31mTypeError\u001b[0m: 'str' object does not support item assignment"
     ]
    }
   ],
   "source": [
    "s1[0]='s' #string is immutable"
   ]
  },
  {
   "cell_type": "code",
   "execution_count": 87,
   "id": "fc85bbbb",
   "metadata": {},
   "outputs": [
    {
     "data": {
      "text/plain": [
       "''"
      ]
     },
     "execution_count": 87,
     "metadata": {},
     "output_type": "execute_result"
    }
   ],
   "source": [
    "s1[7:3]"
   ]
  },
  {
   "cell_type": "code",
   "execution_count": 88,
   "id": "8dd621ee",
   "metadata": {},
   "outputs": [
    {
     "data": {
      "text/plain": [
       "''"
      ]
     },
     "execution_count": 88,
     "metadata": {},
     "output_type": "execute_result"
    }
   ],
   "source": [
    "s1[-1:-5]"
   ]
  },
  {
   "cell_type": "code",
   "execution_count": 95,
   "id": "056c848c",
   "metadata": {},
   "outputs": [
    {
     "data": {
      "text/plain": [
       "'sllikswp'"
      ]
     },
     "execution_count": 95,
     "metadata": {},
     "output_type": "execute_result"
    }
   ],
   "source": [
    "s1[7:-9:-1]"
   ]
  },
  {
   "cell_type": "code",
   "execution_count": 96,
   "id": "6fc050f5",
   "metadata": {},
   "outputs": [
    {
     "data": {
      "text/plain": [
       "'sllikswp'"
      ]
     },
     "execution_count": 96,
     "metadata": {},
     "output_type": "execute_result"
    }
   ],
   "source": [
    "s1[7::-1]"
   ]
  },
  {
   "cell_type": "code",
   "execution_count": null,
   "id": "c7f9b295",
   "metadata": {},
   "outputs": [],
   "source": []
  }
 ],
 "metadata": {
  "kernelspec": {
   "display_name": "Python 3 (ipykernel)",
   "language": "python",
   "name": "python3"
  },
  "language_info": {
   "codemirror_mode": {
    "name": "ipython",
    "version": 3
   },
   "file_extension": ".py",
   "mimetype": "text/x-python",
   "name": "python",
   "nbconvert_exporter": "python",
   "pygments_lexer": "ipython3",
   "version": "3.10.4"
  }
 },
 "nbformat": 4,
 "nbformat_minor": 5
}
