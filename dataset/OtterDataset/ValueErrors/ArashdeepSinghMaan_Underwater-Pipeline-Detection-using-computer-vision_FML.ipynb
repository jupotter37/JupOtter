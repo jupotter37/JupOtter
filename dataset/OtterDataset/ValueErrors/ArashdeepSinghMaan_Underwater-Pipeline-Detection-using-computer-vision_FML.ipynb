{
  "nbformat": 4,
  "nbformat_minor": 0,
  "metadata": {
    "colab": {
      "provenance": [],
      "authorship_tag": "ABX9TyPc8EhA8q7TwsZzsIh4pSgA",
      "include_colab_link": true
    },
    "kernelspec": {
      "name": "python3",
      "display_name": "Python 3"
    },
    "language_info": {
      "name": "python"
    }
  },
  "cells": [
    {
      "cell_type": "markdown",
      "metadata": {
        "id": "view-in-github",
        "colab_type": "text"
      },
      "source": [
        "<a href=\"https://colab.research.google.com/github/ArashdeepSinghMaan/-Underwater-Pipeline-Detection-using-computer-vision/blob/main/FML.ipynb\" target=\"_parent\"><img src=\"https://colab.research.google.com/assets/colab-badge.svg\" alt=\"Open In Colab\"/></a>"
      ]
    },
    {
      "cell_type": "markdown",
      "source": [
        "## KNN"
      ],
      "metadata": {
        "id": "yTAZLFRzX4Lv"
      }
    },
    {
      "cell_type": "code",
      "execution_count": 1,
      "metadata": {
        "id": "uxED7hDIXTbO"
      },
      "outputs": [],
      "source": [
        "import numpy as np\n",
        "import pandas as pd\n",
        "import matplotlib.pyplot as plt"
      ]
    },
    {
      "cell_type": "code",
      "source": [
        "import pandas as pd\n",
        "\n",
        "url = 'https://raw.githubusercontent.com/campusx-official/K-Nearest-Neighbors/2065449975572d4d3100bd9610b4da609ec403ef/Social_Network_Ads.csv'\n",
        "data = pd.read_csv(url)\n",
        "\n",
        "print(data.head())\n"
      ],
      "metadata": {
        "colab": {
          "base_uri": "https://localhost:8080/"
        },
        "id": "gHyPH9jrZ7sh",
        "outputId": "2f37f517-4e9f-4e26-e91b-b1de2d144206"
      },
      "execution_count": 10,
      "outputs": [
        {
          "output_type": "stream",
          "name": "stdout",
          "text": [
            "    User ID  Gender  Age  EstimatedSalary  Purchased\n",
            "0  15624510    Male   19            19000          0\n",
            "1  15810944    Male   35            20000          0\n",
            "2  15668575  Female   26            43000          0\n",
            "3  15603246  Female   27            57000          0\n",
            "4  15804002    Male   19            76000          0\n"
          ]
        }
      ]
    },
    {
      "cell_type": "code",
      "source": [
        "age=data.columns\n",
        "Salary=data.EstimatedSalary\n",
        "X=np.array(age,Salary)"
      ],
      "metadata": {
        "colab": {
          "base_uri": "https://localhost:8080/",
          "height": 297
        },
        "id": "Vt1XmM4qa56J",
        "outputId": "c3aa32fe-0a0a-422b-ccdd-a92cce6b5572"
      },
      "execution_count": 19,
      "outputs": [
        {
          "output_type": "error",
          "ename": "ValueError",
          "evalue": "invalid literal for int() with base 10: 'User ID'",
          "traceback": [
            "\u001b[0;31m---------------------------------------------------------------------------\u001b[0m",
            "\u001b[0;31mValueError\u001b[0m                                Traceback (most recent call last)",
            "\u001b[0;32m<ipython-input-19-62b428b24cb1>\u001b[0m in \u001b[0;36m<cell line: 3>\u001b[0;34m()\u001b[0m\n\u001b[1;32m      1\u001b[0m \u001b[0mage\u001b[0m\u001b[0;34m=\u001b[0m\u001b[0mdata\u001b[0m\u001b[0;34m.\u001b[0m\u001b[0mcolumns\u001b[0m\u001b[0;34m\u001b[0m\u001b[0;34m\u001b[0m\u001b[0m\n\u001b[1;32m      2\u001b[0m \u001b[0mSalary\u001b[0m\u001b[0;34m=\u001b[0m\u001b[0mdata\u001b[0m\u001b[0;34m.\u001b[0m\u001b[0mEstimatedSalary\u001b[0m\u001b[0;34m\u001b[0m\u001b[0;34m\u001b[0m\u001b[0m\n\u001b[0;32m----> 3\u001b[0;31m \u001b[0mX\u001b[0m\u001b[0;34m=\u001b[0m\u001b[0mnp\u001b[0m\u001b[0;34m.\u001b[0m\u001b[0marray\u001b[0m\u001b[0;34m(\u001b[0m\u001b[0mage\u001b[0m\u001b[0;34m,\u001b[0m\u001b[0mSalary\u001b[0m\u001b[0;34m)\u001b[0m\u001b[0;34m\u001b[0m\u001b[0;34m\u001b[0m\u001b[0m\n\u001b[0m",
            "\u001b[0;32m/usr/local/lib/python3.10/dist-packages/pandas/core/indexes/base.py\u001b[0m in \u001b[0;36m__array__\u001b[0;34m(self, dtype)\u001b[0m\n\u001b[1;32m    917\u001b[0m         \u001b[0mThe\u001b[0m \u001b[0marray\u001b[0m \u001b[0minterface\u001b[0m\u001b[0;34m,\u001b[0m \u001b[0;32mreturn\u001b[0m \u001b[0mmy\u001b[0m \u001b[0mvalues\u001b[0m\u001b[0;34m.\u001b[0m\u001b[0;34m\u001b[0m\u001b[0;34m\u001b[0m\u001b[0m\n\u001b[1;32m    918\u001b[0m         \"\"\"\n\u001b[0;32m--> 919\u001b[0;31m         \u001b[0;32mreturn\u001b[0m \u001b[0mnp\u001b[0m\u001b[0;34m.\u001b[0m\u001b[0masarray\u001b[0m\u001b[0;34m(\u001b[0m\u001b[0mself\u001b[0m\u001b[0;34m.\u001b[0m\u001b[0m_data\u001b[0m\u001b[0;34m,\u001b[0m \u001b[0mdtype\u001b[0m\u001b[0;34m=\u001b[0m\u001b[0mdtype\u001b[0m\u001b[0;34m)\u001b[0m\u001b[0;34m\u001b[0m\u001b[0;34m\u001b[0m\u001b[0m\n\u001b[0m\u001b[1;32m    920\u001b[0m \u001b[0;34m\u001b[0m\u001b[0m\n\u001b[1;32m    921\u001b[0m     \u001b[0;32mdef\u001b[0m \u001b[0m__array_ufunc__\u001b[0m\u001b[0;34m(\u001b[0m\u001b[0mself\u001b[0m\u001b[0;34m,\u001b[0m \u001b[0mufunc\u001b[0m\u001b[0;34m:\u001b[0m \u001b[0mnp\u001b[0m\u001b[0;34m.\u001b[0m\u001b[0mufunc\u001b[0m\u001b[0;34m,\u001b[0m \u001b[0mmethod\u001b[0m\u001b[0;34m:\u001b[0m \u001b[0mstr_t\u001b[0m\u001b[0;34m,\u001b[0m \u001b[0;34m*\u001b[0m\u001b[0minputs\u001b[0m\u001b[0;34m,\u001b[0m \u001b[0;34m**\u001b[0m\u001b[0mkwargs\u001b[0m\u001b[0;34m)\u001b[0m\u001b[0;34m:\u001b[0m\u001b[0;34m\u001b[0m\u001b[0;34m\u001b[0m\u001b[0m\n",
            "\u001b[0;31mValueError\u001b[0m: invalid literal for int() with base 10: 'User ID'"
          ]
        }
      ]
    },
    {
      "cell_type": "code",
      "source": [
        "X=data.iloc[:,2:4].values\n",
        "X.shape"
      ],
      "metadata": {
        "colab": {
          "base_uri": "https://localhost:8080/"
        },
        "id": "LnV74o9ybxlk",
        "outputId": "8def9398-3a03-40e0-a58a-f367434fa044"
      },
      "execution_count": 22,
      "outputs": [
        {
          "output_type": "execute_result",
          "data": {
            "text/plain": [
              "(400, 2)"
            ]
          },
          "metadata": {},
          "execution_count": 22
        }
      ]
    },
    {
      "cell_type": "code",
      "source": [
        "y=data.iloc[:,-1].values\n",
        "y.shape"
      ],
      "metadata": {
        "colab": {
          "base_uri": "https://localhost:8080/"
        },
        "id": "29YRfmmCb2yU",
        "outputId": "fa3db219-9885-46b1-8850-42842b23fc1a"
      },
      "execution_count": 24,
      "outputs": [
        {
          "output_type": "execute_result",
          "data": {
            "text/plain": [
              "(400,)"
            ]
          },
          "metadata": {},
          "execution_count": 24
        }
      ]
    },
    {
      "cell_type": "code",
      "source": [
        "from sklearn.model_selection import train_test_split\n",
        "X_train,X_test,y_train,y_test=train_test_split(X,y,test_size=0.20)"
      ],
      "metadata": {
        "id": "q-Yz1B1BcQfn"
      },
      "execution_count": 25,
      "outputs": []
    },
    {
      "cell_type": "code",
      "source": [
        "X_train.shape"
      ],
      "metadata": {
        "colab": {
          "base_uri": "https://localhost:8080/"
        },
        "id": "ZzemflOncpNj",
        "outputId": "7c325abc-360a-4f9d-80cf-6ef3d52852be"
      },
      "execution_count": 27,
      "outputs": [
        {
          "output_type": "execute_result",
          "data": {
            "text/plain": [
              "(320, 2)"
            ]
          },
          "metadata": {},
          "execution_count": 27
        }
      ]
    },
    {
      "cell_type": "code",
      "source": [
        "X_test.shape"
      ],
      "metadata": {
        "colab": {
          "base_uri": "https://localhost:8080/"
        },
        "id": "a-lZEQJLcsdz",
        "outputId": "5f31dc3d-db11-4568-c92d-7ca1e8afff94"
      },
      "execution_count": 28,
      "outputs": [
        {
          "output_type": "execute_result",
          "data": {
            "text/plain": [
              "(80, 2)"
            ]
          },
          "metadata": {},
          "execution_count": 28
        }
      ]
    },
    {
      "cell_type": "markdown",
      "source": [
        "Scaling to same digits"
      ],
      "metadata": {
        "id": "Hg0THttMc-mc"
      }
    },
    {
      "cell_type": "code",
      "source": [
        "from sklearn.preprocessing import StandardScaler\n",
        "scaler=StandardScaler()"
      ],
      "metadata": {
        "id": "ZBh9OiLIdBiH"
      },
      "execution_count": 29,
      "outputs": []
    },
    {
      "cell_type": "code",
      "source": [
        "X_train=scaler.fit_transform(X_train)\n",
        "X_train"
      ],
      "metadata": {
        "colab": {
          "base_uri": "https://localhost:8080/"
        },
        "id": "gh1oXG8DdMVp",
        "outputId": "8fc492a8-9461-45ba-a314-fa7c5bb25b50"
      },
      "execution_count": 30,
      "outputs": [
        {
          "output_type": "execute_result",
          "data": {
            "text/plain": [
              "array([[-0.72454101,  0.5388835 ],\n",
              "       [-0.62920666, -0.02204985],\n",
              "       [-1.48721575, -1.49819024],\n",
              "       [ 0.03813374,  0.33222385],\n",
              "       [-1.01054403, -1.43914463],\n",
              "       [-0.24786929, -0.34680073],\n",
              "       [-0.91520969, -1.08487093],\n",
              "       [ 0.22880242, -0.11061827],\n",
              "       [-0.24786929,  0.18460981],\n",
              "       [ 0.22880242, -0.25823231],\n",
              "       [-0.43853798, -1.11439374],\n",
              "       [ 1.37281454,  2.3988204 ],\n",
              "       [ 0.89614282, -1.3505762 ],\n",
              "       [ 1.37281454, -0.90773408],\n",
              "       [-1.67788443,  0.50936069],\n",
              "       [ 0.99147717,  2.13311513],\n",
              "       [ 1.18214585, -1.43914463],\n",
              "       [ 1.84948625, -0.25823231],\n",
              "       [ 0.51480545,  1.77884143],\n",
              "       [-0.72454101,  1.95597828],\n",
              "       [-0.53387232,  0.92268001],\n",
              "       [ 1.46814888,  1.04077124],\n",
              "       [-0.05720061, -1.05534812],\n",
              "       [-0.24786929, -0.2287095 ],\n",
              "       [-0.24786929,  0.09604138],\n",
              "       [-0.15253495,  0.8931572 ],\n",
              "       [ 1.18214585, -0.73059724],\n",
              "       [-0.24786929,  0.06651858],\n",
              "       [ 0.89614282, -0.76012004],\n",
              "       [-0.05720061,  0.09604138],\n",
              "       [-0.05720061, -0.34680073],\n",
              "       [ 2.13548928, -0.78964285],\n",
              "       [ 0.03813374, -0.55346039],\n",
              "       [-1.01054403,  0.56840631],\n",
              "       [ 1.27748019,  2.28072917],\n",
              "       [ 1.65881757,  1.6607502 ],\n",
              "       [ 0.41947111,  0.18460981],\n",
              "       [-0.24786929, -0.25823231],\n",
              "       [-0.81987535, -0.64202881],\n",
              "       [-0.62920666,  1.45409055],\n",
              "       [-1.67788443,  0.39126946],\n",
              "       [-0.24786929, -1.3505762 ],\n",
              "       [ 1.08681151,  0.59792912],\n",
              "       [-0.05720061,  0.33222385],\n",
              "       [-0.15253495, -0.16966389],\n",
              "       [ 0.80080848,  1.42456774],\n",
              "       [ 1.75415191,  1.04077124],\n",
              "       [-0.91520969,  0.59792912],\n",
              "       [-0.72454101, -0.19918669],\n",
              "       [-0.81987535,  0.42079227],\n",
              "       [-0.24786929, -0.11061827],\n",
              "       [-0.81987535, -0.2287095 ],\n",
              "       [ 0.89614282,  1.12933966],\n",
              "       [-1.39188141, -1.20296216],\n",
              "       [-0.05720061,  0.33222385],\n",
              "       [-1.67788443, -1.3505762 ],\n",
              "       [ 2.13548928,  1.15886247],\n",
              "       [ 1.27748019, -1.3505762 ],\n",
              "       [ 0.99147717, -0.81916566],\n",
              "       [-1.67788443, -0.5829832 ],\n",
              "       [ 0.99147717, -1.17343936],\n",
              "       [ 0.61013979, -0.87821128],\n",
              "       [-0.24786929, -0.28775512],\n",
              "       [ 0.03813374, -0.52393758],\n",
              "       [ 0.99147717, -0.99630251],\n",
              "       [-1.10587838,  1.45409055],\n",
              "       [-1.29654706, -0.40584635],\n",
              "       [ 0.13346808,  0.80458877],\n",
              "       [-0.24786929,  0.83411158],\n",
              "       [-1.20121272,  0.33222385],\n",
              "       [ 0.80080848, -0.81916566],\n",
              "       [ 0.32413677,  0.30270104],\n",
              "       [ 1.08681151,  0.155087  ],\n",
              "       [ 0.80080848, -1.08487093],\n",
              "       [ 0.32413677, -0.52393758],\n",
              "       [-0.81987535, -1.20296216],\n",
              "       [ 0.41947111,  0.12556419],\n",
              "       [-0.24786929, -0.55346039],\n",
              "       [-1.01054403,  0.62745193],\n",
              "       [-0.43853798,  2.36929759],\n",
              "       [ 2.13548928, -0.78964285],\n",
              "       [-0.81987535,  2.33977478],\n",
              "       [-1.29654706, -1.46866743],\n",
              "       [-0.62920666, -0.31727793],\n",
              "       [ 1.08681151,  2.13311513],\n",
              "       [ 2.04015494, -0.78964285],\n",
              "       [-1.58255009,  0.56840631],\n",
              "       [ 0.80080848,  0.80458877],\n",
              "       [-0.05720061,  0.06651858],\n",
              "       [ 0.32413677,  0.06651858],\n",
              "       [ 0.03813374, -0.40584635],\n",
              "       [ 0.99147717,  1.92645547],\n",
              "       [-1.01054403,  2.0150239 ],\n",
              "       [-0.91520969, -0.40584635],\n",
              "       [-1.10587838,  0.45031508],\n",
              "       [-1.01054403, -0.34680073],\n",
              "       [-1.77321878,  0.03699577],\n",
              "       [ 1.94482059, -1.3505762 ],\n",
              "       [-0.24786929, -0.31727793],\n",
              "       [-0.15253495, -0.43536916],\n",
              "       [-0.53387232,  1.42456774],\n",
              "       [ 0.13346808,  0.12556419],\n",
              "       [-1.10587838,  0.36174666],\n",
              "       [ 1.08681151, -0.9667797 ],\n",
              "       [-1.67788443,  0.155087  ],\n",
              "       [ 0.89614282, -1.43914463],\n",
              "       [ 1.37281454, -1.40962182],\n",
              "       [ 0.41947111,  0.03699577],\n",
              "       [ 2.13548928, -1.02582532],\n",
              "       [ 0.89614282,  2.22168355],\n",
              "       [-1.86855312, -0.02204985],\n",
              "       [ 0.32413677,  0.09604138],\n",
              "       [ 0.32413677, -0.70107443],\n",
              "       [-0.24786929,  2.31025198],\n",
              "       [-1.20121272,  0.5388835 ],\n",
              "       [-0.53387232,  1.95597828],\n",
              "       [-0.05720061,  0.24365542],\n",
              "       [-1.39188141, -0.61250601],\n",
              "       [ 1.65881757,  1.80836424],\n",
              "       [-0.24786929,  0.18460981],\n",
              "       [-0.15253495, -0.25823231],\n",
              "       [-0.05720061,  0.03699577],\n",
              "       [-0.62920666,  0.59792912],\n",
              "       [-0.24786929,  0.65697473],\n",
              "       [-1.77321878, -1.26200778],\n",
              "       [ 0.70547414, -0.70107443],\n",
              "       [ 0.41947111,  0.30270104],\n",
              "       [-0.15253495,  1.69027301],\n",
              "       [-1.39188141, -0.16966389],\n",
              "       [-0.05720061, -0.46489197],\n",
              "       [ 0.03813374, -0.55346039],\n",
              "       [ 0.32413677,  0.33222385],\n",
              "       [-1.77321878, -1.29153059],\n",
              "       [ 0.41947111, -0.43536916],\n",
              "       [ 1.94482059, -0.90773408],\n",
              "       [-0.72454101, -1.52771305],\n",
              "       [-0.81987535,  0.42079227],\n",
              "       [-1.39188141,  0.39126946],\n",
              "       [-0.34320363,  0.09604138],\n",
              "       [ 1.08681151,  0.50936069],\n",
              "       [ 1.46814888,  2.19216074],\n",
              "       [ 0.80080848,  0.30270104],\n",
              "       [-0.62920666,  0.21413262],\n",
              "       [ 0.80080848,  0.155087  ],\n",
              "       [-0.43853798, -1.20296216],\n",
              "       [ 0.41947111,  0.33222385],\n",
              "       [-0.91520969, -0.93725689],\n",
              "       [ 1.18214585, -0.9667797 ],\n",
              "       [-1.01054403,  0.59792912],\n",
              "       [ 1.94482059,  2.22168355],\n",
              "       [ 2.04015494,  0.42079227],\n",
              "       [ 0.32413677, -0.49441477],\n",
              "       [ 0.89614282,  1.30647651],\n",
              "       [ 2.04015494,  0.56840631],\n",
              "       [-1.01054403, -0.31727793],\n",
              "       [-1.58255009,  0.09604138],\n",
              "       [ 0.41947111, -0.14014108],\n",
              "       [-0.34320363, -0.76012004],\n",
              "       [-0.05720061, -0.40584635],\n",
              "       [ 0.03813374,  1.2769537 ],\n",
              "       [-0.24786929,  0.12556419],\n",
              "       [-0.24786929, -1.43914463],\n",
              "       [ 0.80080848, -0.28775512],\n",
              "       [-0.53387232, -1.49819024],\n",
              "       [-0.91520969, -0.28775512],\n",
              "       [ 0.32413677,  0.5388835 ],\n",
              "       [ 0.70547414, -1.38009901],\n",
              "       [ 0.22880242, -0.2287095 ],\n",
              "       [-0.72454101,  1.12933966],\n",
              "       [-1.77321878,  0.21413262],\n",
              "       [-0.91520969,  0.30270104],\n",
              "       [-0.62920666, -1.58675867],\n",
              "       [ 1.18214585,  0.56840631],\n",
              "       [ 1.08681151, -0.87821128],\n",
              "       [-0.24786929,  0.56840631],\n",
              "       [ 1.37281454,  0.62745193],\n",
              "       [ 2.04015494,  1.80836424],\n",
              "       [-0.43853798, -0.25823231],\n",
              "       [-0.91520969, -0.73059724],\n",
              "       [ 0.03813374, -0.2287095 ],\n",
              "       [-0.62920666, -1.02582532],\n",
              "       [-0.81987535,  0.33222385],\n",
              "       [-1.10587838,  0.33222385],\n",
              "       [ 1.46814888,  0.09604138],\n",
              "       [-0.24786929,  0.09604138],\n",
              "       [ 1.56348322,  1.04077124],\n",
              "       [-0.91520969, -0.28775512],\n",
              "       [-1.20121272, -1.38009901],\n",
              "       [-1.29654706,  0.59792912],\n",
              "       [-0.91520969,  0.47983789],\n",
              "       [-1.48721575, -0.16966389],\n",
              "       [ 1.27748019,  1.92645547],\n",
              "       [-1.10587838,  0.33222385],\n",
              "       [ 0.41947111, -0.11061827],\n",
              "       [-1.01054403, -0.31727793],\n",
              "       [ 0.41947111,  0.33222385],\n",
              "       [ 0.89614282, -0.52393758],\n",
              "       [ 0.80080848, -1.20296216],\n",
              "       [-0.24786929, -0.73059724],\n",
              "       [-0.53387232,  1.51313616],\n",
              "       [-1.01054403, -0.43536916],\n",
              "       [ 0.22880242, -0.34680073],\n",
              "       [ 0.13346808,  1.09981685],\n",
              "       [ 0.61013979,  2.07406951],\n",
              "       [-0.72454101, -1.58675867],\n",
              "       [ 0.22880242,  0.06651858],\n",
              "       [-0.24786929, -1.29153059],\n",
              "       [ 0.99147717,  1.48361336],\n",
              "       [ 0.41947111,  2.36929759],\n",
              "       [-0.34320363, -1.29153059],\n",
              "       [ 0.51480545,  1.89693267],\n",
              "       [ 0.13346808, -0.28775512],\n",
              "       [ 0.89614282, -1.02582532],\n",
              "       [-1.10587838, -1.55723586],\n",
              "       [-1.10587838, -1.08487093],\n",
              "       [ 1.65881757, -0.87821128],\n",
              "       [-1.29654706,  0.45031508],\n",
              "       [-1.10587838, -1.14391655],\n",
              "       [ 0.89614282, -1.29153059],\n",
              "       [ 1.08681151, -1.20296216],\n",
              "       [ 0.13346808,  1.92645547],\n",
              "       [-0.53387232,  2.3988204 ],\n",
              "       [ 1.37281454,  1.33599932],\n",
              "       [-1.01054403, -1.11439374],\n",
              "       [ 2.04015494,  2.19216074],\n",
              "       [ 0.41947111, -0.43536916],\n",
              "       [ 0.13346808,  0.06651858],\n",
              "       [ 2.13548928, -0.67155162],\n",
              "       [ 0.89614282, -0.64202881],\n",
              "       [-1.48721575, -1.23248497],\n",
              "       [-0.05720061,  0.30270104],\n",
              "       [-0.05720061, -0.19918669],\n",
              "       [ 0.22880242,  2.16263794],\n",
              "       [-0.05720061,  0.18460981],\n",
              "       [-1.10587838, -1.58675867],\n",
              "       [-0.81987535, -0.76012004],\n",
              "       [-1.29654706, -1.3505762 ],\n",
              "       [-0.81987535,  0.18460981],\n",
              "       [ 0.89614282, -0.5829832 ],\n",
              "       [-0.62920666,  0.155087  ],\n",
              "       [-0.05720061, -0.49441477],\n",
              "       [-0.43853798,  1.30647651],\n",
              "       [-0.72454101,  0.30270104],\n",
              "       [-0.24786929, -0.64202881],\n",
              "       [ 0.99147717,  0.62745193],\n",
              "       [ 2.04015494, -1.17343936],\n",
              "       [-0.24786929, -1.23248497],\n",
              "       [-0.91520969,  1.60170459],\n",
              "       [-0.24786929, -0.46489197],\n",
              "       [ 0.99147717, -1.05534812],\n",
              "       [-1.10587838, -1.58675867],\n",
              "       [ 0.32413677,  0.09604138],\n",
              "       [-0.05720061,  0.71602035],\n",
              "       [ 0.80080848, -1.38009901],\n",
              "       [ 0.03813374, -0.2287095 ],\n",
              "       [ 0.32413677, -0.28775512],\n",
              "       [-0.72454101,  0.59792912],\n",
              "       [-0.43853798, -0.76012004],\n",
              "       [ 0.03813374, -0.28775512],\n",
              "       [-0.72454101,  1.39504493],\n",
              "       [ 0.22880242, -0.34680073],\n",
              "       [-1.39188141, -1.43914463],\n",
              "       [ 0.22880242, -0.34680073],\n",
              "       [ 1.56348322,  0.03699577],\n",
              "       [ 0.70547414, -1.38009901],\n",
              "       [-1.29654706, -0.40584635],\n",
              "       [-0.62920666, -1.49819024],\n",
              "       [ 0.99147717,  1.83788705],\n",
              "       [ 1.94482059, -0.64202881],\n",
              "       [ 0.32413677, -1.14391655],\n",
              "       [ 1.08681151,  0.56840631],\n",
              "       [ 1.75415191, -0.25823231],\n",
              "       [ 0.32413677, -0.49441477],\n",
              "       [ 0.13346808, -0.2287095 ],\n",
              "       [ 0.99147717,  2.04454671],\n",
              "       [ 1.75415191,  1.89693267],\n",
              "       [ 2.13548928,  0.98172562],\n",
              "       [-0.43853798, -0.81916566],\n",
              "       [-1.86855312,  0.39126946],\n",
              "       [-0.24786929,  0.30270104],\n",
              "       [-1.39188141, -0.08109546],\n",
              "       [ 1.94482059,  0.95220281],\n",
              "       [ 0.70547414, -1.08487093],\n",
              "       [ 0.13346808,  0.18460981],\n",
              "       [-1.20121272,  0.30270104],\n",
              "       [-0.24786929, -0.40584635],\n",
              "       [ 0.22880242,  0.18460981],\n",
              "       [-1.86855312, -0.73059724],\n",
              "       [-1.29654706, -1.23248497],\n",
              "       [ 0.32413677, -0.25823231],\n",
              "       [ 0.03813374, -0.11061827],\n",
              "       [-1.20121272, -1.05534812],\n",
              "       [-1.29654706, -1.08487093],\n",
              "       [-1.10587838, -0.99630251],\n",
              "       [ 1.08681151, -0.11061827],\n",
              "       [-1.58255009, -0.02204985],\n",
              "       [-1.67788443,  0.39126946],\n",
              "       [-0.24786929, -0.90773408],\n",
              "       [ 0.22880242,  0.27317823],\n",
              "       [ 2.13548928,  0.42079227],\n",
              "       [ 0.89614282, -1.14391655],\n",
              "       [ 0.32413677,  0.09604138],\n",
              "       [-0.05720061,  2.28072917],\n",
              "       [-0.15253495,  0.18460981],\n",
              "       [ 0.32413677, -0.16966389],\n",
              "       [-1.10587838, -0.76012004],\n",
              "       [-0.34320363,  1.2769537 ],\n",
              "       [ 0.80080848,  0.56840631],\n",
              "       [ 0.03813374,  0.06651858],\n",
              "       [-1.77321878, -1.46866743],\n",
              "       [-0.81987535, -0.76012004],\n",
              "       [-0.91520969,  0.5388835 ],\n",
              "       [-0.43853798, -0.52393758],\n",
              "       [ 0.13346808, -0.78964285],\n",
              "       [ 0.22880242,  1.12933966],\n",
              "       [ 0.22880242,  0.18460981],\n",
              "       [-0.15253495, -0.55346039],\n",
              "       [ 1.46814888, -1.02582532],\n",
              "       [-0.72454101, -0.5829832 ],\n",
              "       [-1.01054403,  0.45031508]])"
            ]
          },
          "metadata": {},
          "execution_count": 30
        }
      ]
    },
    {
      "cell_type": "code",
      "source": [
        "X_test=scaler.transform(X_test)\n",
        "X_test\n"
      ],
      "metadata": {
        "colab": {
          "base_uri": "https://localhost:8080/"
        },
        "id": "GQeFdFSTdT2q",
        "outputId": "e1a336d4-0030-406a-a255-2b267b1444e5"
      },
      "execution_count": 31,
      "outputs": [
        {
          "output_type": "execute_result",
          "data": {
            "text/plain": [
              "array([[-0.05720061,  0.27317823],\n",
              "       [-1.86855312, -0.49441477],\n",
              "       [-0.15253495,  2.22168355],\n",
              "       [-0.24786929, -0.55346039],\n",
              "       [-1.10587838,  0.50936069],\n",
              "       [ 0.13346808,  0.06651858],\n",
              "       [-0.34320363, -0.76012004],\n",
              "       [ 1.56348322, -1.26200778],\n",
              "       [-1.10587838, -1.52771305],\n",
              "       [-1.77321878,  0.47983789],\n",
              "       [-0.15253495,  1.6607502 ],\n",
              "       [-0.24786929, -1.38009901],\n",
              "       [-0.72454101,  0.33222385],\n",
              "       [-0.53387232, -1.49819024],\n",
              "       [ 0.99147717, -1.05534812],\n",
              "       [-0.62920666,  0.06651858],\n",
              "       [ 0.22880242, -0.28775512],\n",
              "       [-0.24786929, -0.87821128],\n",
              "       [ 1.84948625,  1.57218178],\n",
              "       [ 0.13346808,  1.92645547],\n",
              "       [ 0.80080848,  0.39126946],\n",
              "       [ 1.84948625, -1.05534812],\n",
              "       [ 0.99147717,  0.155087  ],\n",
              "       [ 0.41947111,  0.62745193],\n",
              "       [-1.58255009, -1.55723586],\n",
              "       [-0.91520969,  0.45031508],\n",
              "       [ 1.84948625, -1.26200778],\n",
              "       [ 0.70547414,  1.83788705],\n",
              "       [ 0.13346808,  1.57218178],\n",
              "       [-1.10587838,  0.09604138],\n",
              "       [ 0.99147717, -1.14391655],\n",
              "       [-0.24786929,  0.24365542],\n",
              "       [ 0.13346808,  0.24365542],\n",
              "       [-0.43853798,  0.00747296],\n",
              "       [ 0.22880242,  0.09604138],\n",
              "       [ 1.84948625,  0.155087  ],\n",
              "       [ 1.08681151, -1.20296216],\n",
              "       [-0.05720061,  2.22168355],\n",
              "       [ 0.03813374,  0.06651858],\n",
              "       [ 0.41947111, -0.11061827],\n",
              "       [-1.10587838, -0.49441477],\n",
              "       [ 0.89614282, -0.55346039],\n",
              "       [ 0.89614282,  1.07029404],\n",
              "       [-1.20121272,  0.62745193],\n",
              "       [ 0.03813374,  1.30647651],\n",
              "       [-0.15253495, -1.05534812],\n",
              "       [-0.53387232,  0.50936069],\n",
              "       [-1.29654706, -0.31727793],\n",
              "       [ 1.46814888,  0.39126946],\n",
              "       [ 0.51480545,  1.2769537 ],\n",
              "       [ 0.41947111, -0.46489197],\n",
              "       [-0.15253495,  1.45409055],\n",
              "       [ 0.41947111,  1.04077124],\n",
              "       [ 0.70547414, -1.26200778],\n",
              "       [-1.01054403, -1.52771305],\n",
              "       [-0.15253495, -0.49441477],\n",
              "       [ 0.41947111,  1.15886247],\n",
              "       [-0.24786929,  1.15886247],\n",
              "       [ 2.04015494,  0.21413262],\n",
              "       [ 1.37281454,  2.04454671],\n",
              "       [ 0.80080848, -1.3505762 ],\n",
              "       [ 1.94482059,  0.77506597],\n",
              "       [ 0.22880242, -0.64202881],\n",
              "       [-1.01054403,  0.80458877],\n",
              "       [-1.77321878, -1.40962182],\n",
              "       [-1.67788443, -0.9667797 ],\n",
              "       [ 0.13346808,  0.30270104],\n",
              "       [-0.53387232,  1.42456774],\n",
              "       [-0.05720061,  0.155087  ],\n",
              "       [ 0.99147717,  0.80458877],\n",
              "       [ 0.70547414,  0.30270104],\n",
              "       [ 0.32413677,  0.09604138],\n",
              "       [-1.48721575, -0.40584635],\n",
              "       [-1.48721575,  0.36174666],\n",
              "       [-0.62920666, -0.08109546],\n",
              "       [-1.86855312,  0.50936069],\n",
              "       [ 0.13346808, -0.78964285],\n",
              "       [-0.34320363,  1.36552212],\n",
              "       [ 1.56348322,  1.15886247],\n",
              "       [-0.05720061,  2.0150239 ]])"
            ]
          },
          "metadata": {},
          "execution_count": 31
        }
      ]
    },
    {
      "cell_type": "markdown",
      "source": [
        "* Calculating K"
      ],
      "metadata": {
        "id": "Vte8CX1mdkLZ"
      }
    },
    {
      "cell_type": "code",
      "source": [
        "np.sqrt(X_train.shape[0])"
      ],
      "metadata": {
        "colab": {
          "base_uri": "https://localhost:8080/"
        },
        "id": "D1LHCOeVdeXc",
        "outputId": "1d6c2b68-c250-4e54-cde1-c3463644337e"
      },
      "execution_count": 32,
      "outputs": [
        {
          "output_type": "execute_result",
          "data": {
            "text/plain": [
              "17.88854381999832"
            ]
          },
          "metadata": {},
          "execution_count": 32
        }
      ]
    },
    {
      "cell_type": "code",
      "source": [
        "K=17"
      ],
      "metadata": {
        "id": "MpwQzAlmdwX1"
      },
      "execution_count": 33,
      "outputs": []
    },
    {
      "cell_type": "code",
      "source": [
        "from sklearn.neighbors import KNeighborsClassifier\n",
        "Knn=KNeighborsClassifier(n_neighbors=K)"
      ],
      "metadata": {
        "id": "Jl2GFTpJdy9n"
      },
      "execution_count": 37,
      "outputs": []
    },
    {
      "cell_type": "code",
      "source": [
        "# TRaining our model\n",
        "Knn.fit(X_train,y_train)"
      ],
      "metadata": {
        "colab": {
          "base_uri": "https://localhost:8080/",
          "height": 74
        },
        "id": "Zz4zSFDzd9TY",
        "outputId": "3d62497e-98b7-4cd1-9f92-edd9aac05cc1"
      },
      "execution_count": 39,
      "outputs": [
        {
          "output_type": "execute_result",
          "data": {
            "text/plain": [
              "KNeighborsClassifier(n_neighbors=17)"
            ],
            "text/html": [
              "<style>#sk-container-id-1 {color: black;}#sk-container-id-1 pre{padding: 0;}#sk-container-id-1 div.sk-toggleable {background-color: white;}#sk-container-id-1 label.sk-toggleable__label {cursor: pointer;display: block;width: 100%;margin-bottom: 0;padding: 0.3em;box-sizing: border-box;text-align: center;}#sk-container-id-1 label.sk-toggleable__label-arrow:before {content: \"▸\";float: left;margin-right: 0.25em;color: #696969;}#sk-container-id-1 label.sk-toggleable__label-arrow:hover:before {color: black;}#sk-container-id-1 div.sk-estimator:hover label.sk-toggleable__label-arrow:before {color: black;}#sk-container-id-1 div.sk-toggleable__content {max-height: 0;max-width: 0;overflow: hidden;text-align: left;background-color: #f0f8ff;}#sk-container-id-1 div.sk-toggleable__content pre {margin: 0.2em;color: black;border-radius: 0.25em;background-color: #f0f8ff;}#sk-container-id-1 input.sk-toggleable__control:checked~div.sk-toggleable__content {max-height: 200px;max-width: 100%;overflow: auto;}#sk-container-id-1 input.sk-toggleable__control:checked~label.sk-toggleable__label-arrow:before {content: \"▾\";}#sk-container-id-1 div.sk-estimator input.sk-toggleable__control:checked~label.sk-toggleable__label {background-color: #d4ebff;}#sk-container-id-1 div.sk-label input.sk-toggleable__control:checked~label.sk-toggleable__label {background-color: #d4ebff;}#sk-container-id-1 input.sk-hidden--visually {border: 0;clip: rect(1px 1px 1px 1px);clip: rect(1px, 1px, 1px, 1px);height: 1px;margin: -1px;overflow: hidden;padding: 0;position: absolute;width: 1px;}#sk-container-id-1 div.sk-estimator {font-family: monospace;background-color: #f0f8ff;border: 1px dotted black;border-radius: 0.25em;box-sizing: border-box;margin-bottom: 0.5em;}#sk-container-id-1 div.sk-estimator:hover {background-color: #d4ebff;}#sk-container-id-1 div.sk-parallel-item::after {content: \"\";width: 100%;border-bottom: 1px solid gray;flex-grow: 1;}#sk-container-id-1 div.sk-label:hover label.sk-toggleable__label {background-color: #d4ebff;}#sk-container-id-1 div.sk-serial::before {content: \"\";position: absolute;border-left: 1px solid gray;box-sizing: border-box;top: 0;bottom: 0;left: 50%;z-index: 0;}#sk-container-id-1 div.sk-serial {display: flex;flex-direction: column;align-items: center;background-color: white;padding-right: 0.2em;padding-left: 0.2em;position: relative;}#sk-container-id-1 div.sk-item {position: relative;z-index: 1;}#sk-container-id-1 div.sk-parallel {display: flex;align-items: stretch;justify-content: center;background-color: white;position: relative;}#sk-container-id-1 div.sk-item::before, #sk-container-id-1 div.sk-parallel-item::before {content: \"\";position: absolute;border-left: 1px solid gray;box-sizing: border-box;top: 0;bottom: 0;left: 50%;z-index: -1;}#sk-container-id-1 div.sk-parallel-item {display: flex;flex-direction: column;z-index: 1;position: relative;background-color: white;}#sk-container-id-1 div.sk-parallel-item:first-child::after {align-self: flex-end;width: 50%;}#sk-container-id-1 div.sk-parallel-item:last-child::after {align-self: flex-start;width: 50%;}#sk-container-id-1 div.sk-parallel-item:only-child::after {width: 0;}#sk-container-id-1 div.sk-dashed-wrapped {border: 1px dashed gray;margin: 0 0.4em 0.5em 0.4em;box-sizing: border-box;padding-bottom: 0.4em;background-color: white;}#sk-container-id-1 div.sk-label label {font-family: monospace;font-weight: bold;display: inline-block;line-height: 1.2em;}#sk-container-id-1 div.sk-label-container {text-align: center;}#sk-container-id-1 div.sk-container {/* jupyter's `normalize.less` sets `[hidden] { display: none; }` but bootstrap.min.css set `[hidden] { display: none !important; }` so we also need the `!important` here to be able to override the default hidden behavior on the sphinx rendered scikit-learn.org. See: https://github.com/scikit-learn/scikit-learn/issues/21755 */display: inline-block !important;position: relative;}#sk-container-id-1 div.sk-text-repr-fallback {display: none;}</style><div id=\"sk-container-id-1\" class=\"sk-top-container\"><div class=\"sk-text-repr-fallback\"><pre>KNeighborsClassifier(n_neighbors=17)</pre><b>In a Jupyter environment, please rerun this cell to show the HTML representation or trust the notebook. <br />On GitHub, the HTML representation is unable to render, please try loading this page with nbviewer.org.</b></div><div class=\"sk-container\" hidden><div class=\"sk-item\"><div class=\"sk-estimator sk-toggleable\"><input class=\"sk-toggleable__control sk-hidden--visually\" id=\"sk-estimator-id-1\" type=\"checkbox\" checked><label for=\"sk-estimator-id-1\" class=\"sk-toggleable__label sk-toggleable__label-arrow\">KNeighborsClassifier</label><div class=\"sk-toggleable__content\"><pre>KNeighborsClassifier(n_neighbors=17)</pre></div></div></div></div></div>"
            ]
          },
          "metadata": {},
          "execution_count": 39
        }
      ]
    },
    {
      "cell_type": "code",
      "source": [
        "y_pred=Knn.predict(X_test)\n",
        "y_pred.shape"
      ],
      "metadata": {
        "colab": {
          "base_uri": "https://localhost:8080/"
        },
        "id": "pUEGIcrzeMaa",
        "outputId": "4b9e0c32-5d38-4bb2-a36c-53c802a2afca"
      },
      "execution_count": 43,
      "outputs": [
        {
          "output_type": "execute_result",
          "data": {
            "text/plain": [
              "(80,)"
            ]
          },
          "metadata": {},
          "execution_count": 43
        }
      ]
    },
    {
      "cell_type": "code",
      "source": [
        "y_test.shape"
      ],
      "metadata": {
        "colab": {
          "base_uri": "https://localhost:8080/"
        },
        "id": "Wk6uMjaWeYJE",
        "outputId": "c0253a9a-006b-4340-9756-e0459ba50918"
      },
      "execution_count": 42,
      "outputs": [
        {
          "output_type": "execute_result",
          "data": {
            "text/plain": [
              "(80,)"
            ]
          },
          "metadata": {},
          "execution_count": 42
        }
      ]
    },
    {
      "cell_type": "code",
      "source": [
        "from sklearn.metrices import accuracy_score\n",
        "accuracy"
      ],
      "metadata": {
        "id": "U7LNkmtYekIe"
      },
      "execution_count": null,
      "outputs": []
    }
  ]
}