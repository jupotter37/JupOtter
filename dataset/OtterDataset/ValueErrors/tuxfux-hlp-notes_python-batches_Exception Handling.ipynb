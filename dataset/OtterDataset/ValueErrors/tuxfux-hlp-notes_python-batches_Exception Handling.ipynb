{
 "cells": [
  {
   "cell_type": "code",
   "execution_count": null,
   "metadata": {
    "collapsed": true
   },
   "outputs": [],
   "source": [
    "# exception handling\n",
    "# pre-production\n",
    "# try..except..else.. finally\n",
    "# try: computation part/must part of the code.\n",
    "# except: for handing the exceptions\n",
    "# else: if try is true.. then go to else.\n",
    "# "
   ]
  },
  {
   "cell_type": "code",
   "execution_count": 1,
   "metadata": {
    "collapsed": false
   },
   "outputs": [
    {
     "name": "stdout",
     "output_type": "stream",
     "text": [
      "please enter the number one:10\n",
      "please enter the number two:2\n",
      "the division of two numbers is:5\n"
     ]
    }
   ],
   "source": [
    "num1 = int(raw_input(\"please enter the number one:\"))\n",
    "num2 = int(raw_input(\"please enter the number two:\"))\n",
    "result = num1 / num2\n",
    "print \"the division of two numbers is:{}\".format(result)"
   ]
  },
  {
   "cell_type": "code",
   "execution_count": 2,
   "metadata": {
    "collapsed": false
   },
   "outputs": [
    {
     "name": "stdout",
     "output_type": "stream",
     "text": [
      "please enter the number one:ten\n"
     ]
    },
    {
     "ename": "ValueError",
     "evalue": "invalid literal for int() with base 10: 'ten'",
     "output_type": "error",
     "traceback": [
      "\u001b[0;31m---------------------------------------------------------------------------\u001b[0m",
      "\u001b[0;31mValueError\u001b[0m                                Traceback (most recent call last)",
      "\u001b[0;32m<ipython-input-2-b11a917e7aa1>\u001b[0m in \u001b[0;36m<module>\u001b[0;34m()\u001b[0m\n\u001b[0;32m----> 1\u001b[0;31m \u001b[0mnum1\u001b[0m \u001b[0;34m=\u001b[0m \u001b[0mint\u001b[0m\u001b[0;34m(\u001b[0m\u001b[0mraw_input\u001b[0m\u001b[0;34m(\u001b[0m\u001b[0;34m\"please enter the number one:\"\u001b[0m\u001b[0;34m)\u001b[0m\u001b[0;34m)\u001b[0m\u001b[0;34m\u001b[0m\u001b[0m\n\u001b[0m\u001b[1;32m      2\u001b[0m \u001b[0mnum2\u001b[0m \u001b[0;34m=\u001b[0m \u001b[0mint\u001b[0m\u001b[0;34m(\u001b[0m\u001b[0mraw_input\u001b[0m\u001b[0;34m(\u001b[0m\u001b[0;34m\"please enter the number two:\"\u001b[0m\u001b[0;34m)\u001b[0m\u001b[0;34m)\u001b[0m\u001b[0;34m\u001b[0m\u001b[0m\n\u001b[1;32m      3\u001b[0m \u001b[0mresult\u001b[0m \u001b[0;34m=\u001b[0m \u001b[0mnum1\u001b[0m \u001b[0;34m/\u001b[0m \u001b[0mnum2\u001b[0m\u001b[0;34m\u001b[0m\u001b[0m\n\u001b[1;32m      4\u001b[0m \u001b[0;32mprint\u001b[0m \u001b[0;34m\"the division of two numbers is:{}\"\u001b[0m\u001b[0;34m.\u001b[0m\u001b[0mformat\u001b[0m\u001b[0;34m(\u001b[0m\u001b[0mresult\u001b[0m\u001b[0;34m)\u001b[0m\u001b[0;34m\u001b[0m\u001b[0m\n",
      "\u001b[0;31mValueError\u001b[0m: invalid literal for int() with base 10: 'ten'"
     ]
    }
   ],
   "source": [
    "num1 = int(raw_input(\"please enter the number one:\"))\n",
    "num2 = int(raw_input(\"please enter the number two:\"))\n",
    "result = num1 / num2\n",
    "print \"the division of two numbers is:{}\".format(result)"
   ]
  },
  {
   "cell_type": "code",
   "execution_count": 3,
   "metadata": {
    "collapsed": false
   },
   "outputs": [
    {
     "name": "stdout",
     "output_type": "stream",
     "text": [
      "please enter the number one:10\n",
      "please enter the number two:0\n"
     ]
    },
    {
     "ename": "ZeroDivisionError",
     "evalue": "integer division or modulo by zero",
     "output_type": "error",
     "traceback": [
      "\u001b[0;31m---------------------------------------------------------------------------\u001b[0m",
      "\u001b[0;31mZeroDivisionError\u001b[0m                         Traceback (most recent call last)",
      "\u001b[0;32m<ipython-input-3-b11a917e7aa1>\u001b[0m in \u001b[0;36m<module>\u001b[0;34m()\u001b[0m\n\u001b[1;32m      1\u001b[0m \u001b[0mnum1\u001b[0m \u001b[0;34m=\u001b[0m \u001b[0mint\u001b[0m\u001b[0;34m(\u001b[0m\u001b[0mraw_input\u001b[0m\u001b[0;34m(\u001b[0m\u001b[0;34m\"please enter the number one:\"\u001b[0m\u001b[0;34m)\u001b[0m\u001b[0;34m)\u001b[0m\u001b[0;34m\u001b[0m\u001b[0m\n\u001b[1;32m      2\u001b[0m \u001b[0mnum2\u001b[0m \u001b[0;34m=\u001b[0m \u001b[0mint\u001b[0m\u001b[0;34m(\u001b[0m\u001b[0mraw_input\u001b[0m\u001b[0;34m(\u001b[0m\u001b[0;34m\"please enter the number two:\"\u001b[0m\u001b[0;34m)\u001b[0m\u001b[0;34m)\u001b[0m\u001b[0;34m\u001b[0m\u001b[0m\n\u001b[0;32m----> 3\u001b[0;31m \u001b[0mresult\u001b[0m \u001b[0;34m=\u001b[0m \u001b[0mnum1\u001b[0m \u001b[0;34m/\u001b[0m \u001b[0mnum2\u001b[0m\u001b[0;34m\u001b[0m\u001b[0m\n\u001b[0m\u001b[1;32m      4\u001b[0m \u001b[0;32mprint\u001b[0m \u001b[0;34m\"the division of two numbers is:{}\"\u001b[0m\u001b[0;34m.\u001b[0m\u001b[0mformat\u001b[0m\u001b[0;34m(\u001b[0m\u001b[0mresult\u001b[0m\u001b[0;34m)\u001b[0m\u001b[0;34m\u001b[0m\u001b[0m\n",
      "\u001b[0;31mZeroDivisionError\u001b[0m: integer division or modulo by zero"
     ]
    }
   ],
   "source": [
    "num1 = int(raw_input(\"please enter the number one:\"))\n",
    "num2 = int(raw_input(\"please enter the number two:\"))\n",
    "result = num1 / num2\n",
    "print \"the division of two numbers is:{}\".format(result)"
   ]
  },
  {
   "cell_type": "code",
   "execution_count": 12,
   "metadata": {
    "collapsed": false
   },
   "outputs": [
    {
     "name": "stdout",
     "output_type": "stream",
     "text": [
      "['ArithmeticError', 'AssertionError', 'AttributeError', 'BaseException', 'BufferError', 'BytesWarning', 'DeprecationWarning', 'EOFError', 'EnvironmentError', 'Exception', 'FloatingPointError', 'FutureWarning', 'GeneratorExit', 'IOError', 'ImportError', 'ImportWarning', 'IndentationError', 'IndexError', 'KeyError', 'KeyboardInterrupt', 'LookupError', 'MemoryError', 'NameError', 'NotImplementedError', 'OSError', 'OverflowError', 'PendingDeprecationWarning', 'ReferenceError', 'RuntimeError', 'RuntimeWarning', 'StandardError', 'StopIteration', 'SyntaxError', 'SyntaxWarning', 'SystemError', 'SystemExit', 'TabError', 'TypeError', 'UnboundLocalError', 'UnicodeDecodeError', 'UnicodeEncodeError', 'UnicodeError', 'UnicodeTranslateError', 'UnicodeWarning', 'UserWarning', 'ValueError', 'Warning', 'ZeroDivisionError', '__doc__', '__name__', '__package__']\n"
     ]
    }
   ],
   "source": [
    "# what are the various excpetion python support\n",
    "import exceptions as e\n",
    "print dir(e)"
   ]
  },
  {
   "cell_type": "code",
   "execution_count": 4,
   "metadata": {
    "collapsed": false
   },
   "outputs": [
    {
     "name": "stdout",
     "output_type": "stream",
     "text": [
      "please enter the number one:ten\n",
      "Please enter numbers. Make sure your denominator is non-zero\n"
     ]
    }
   ],
   "source": [
    "try:\n",
    "    num1 = int(raw_input(\"please enter the number one:\"))\n",
    "    num2 = int(raw_input(\"please enter the number two:\"))\n",
    "    result = num1 / num2\n",
    "except:\n",
    "    print \"Please enter numbers. Make sure your denominator is non-zero\"\n",
    "else:\n",
    "    print \"the division of two numbers is:{}\".format(result)"
   ]
  },
  {
   "cell_type": "code",
   "execution_count": 5,
   "metadata": {
    "collapsed": false
   },
   "outputs": [
    {
     "name": "stdout",
     "output_type": "stream",
     "text": [
      "please enter the number one:10\n",
      "please enter the number two:0\n",
      "Please enter numbers. Make sure your denominator is non-zero\n"
     ]
    }
   ],
   "source": [
    "try:\n",
    "    num1 = int(raw_input(\"please enter the number one:\"))\n",
    "    num2 = int(raw_input(\"please enter the number two:\"))\n",
    "    result = num1 / num2\n",
    "except:\n",
    "    print \"Please enter numbers. Make sure your denominator is non-zero\"\n",
    "else:\n",
    "    print \"the division of two numbers is:{}\".format(result)"
   ]
  },
  {
   "cell_type": "code",
   "execution_count": 6,
   "metadata": {
    "collapsed": false
   },
   "outputs": [
    {
     "name": "stdout",
     "output_type": "stream",
     "text": [
      "please enter the number one:10\n",
      "please enter the number two:2\n",
      "the division of two numbers is:5\n"
     ]
    }
   ],
   "source": [
    "try:\n",
    "    num1 = int(raw_input(\"please enter the number one:\"))\n",
    "    num2 = int(raw_input(\"please enter the number two:\"))\n",
    "    result = num1 / num2\n",
    "except:\n",
    "    print \"Please enter numbers. Make sure your denominator is non-zero\"\n",
    "else:\n",
    "    print \"the division of two numbers is:{}\".format(result)"
   ]
  },
  {
   "cell_type": "code",
   "execution_count": 7,
   "metadata": {
    "collapsed": false
   },
   "outputs": [
    {
     "name": "stdout",
     "output_type": "stream",
     "text": [
      "please enter the number one:ten\n",
      "Please enter numbers. Make sure your denominator is non-zero\n"
     ]
    }
   ],
   "source": [
    "# Handing multiple exception in one go.\n",
    "try:\n",
    "    num1 = int(raw_input(\"please enter the number one:\"))\n",
    "    num2 = int(raw_input(\"please enter the number two:\"))\n",
    "    result = num1 / num2\n",
    "except (ValueError,ZeroDivisionError):\n",
    "    print \"Please enter numbers. Make sure your denominator is non-zero\"\n",
    "else:\n",
    "    print \"the division of two numbers is:{}\".format(result)"
   ]
  },
  {
   "cell_type": "code",
   "execution_count": 8,
   "metadata": {
    "collapsed": false
   },
   "outputs": [
    {
     "name": "stdout",
     "output_type": "stream",
     "text": [
      "please enter the number one:tten\n",
      "Please enter numbers.\n"
     ]
    }
   ],
   "source": [
    "# handling each excpetion seperately.\n",
    "try:\n",
    "    num1 = int(raw_input(\"please enter the number one:\"))\n",
    "    num2 = int(raw_input(\"please enter the number two:\"))\n",
    "    result = num1 / num2\n",
    "except ValueError:\n",
    "    print \"Please enter numbers.\"\n",
    "except ZeroDivisionError:\n",
    "    print \"Make sure your denominator is non-zero\"\n",
    "else:\n",
    "    print \"the division of two numbers is:{}\".format(result)"
   ]
  },
  {
   "cell_type": "code",
   "execution_count": 9,
   "metadata": {
    "collapsed": false
   },
   "outputs": [
    {
     "name": "stdout",
     "output_type": "stream",
     "text": [
      "please enter the number one:10\n",
      "please enter the number two:0\n",
      "Make sure your denominator is non-zero\n"
     ]
    }
   ],
   "source": [
    "#\n",
    "try:\n",
    "    num1 = int(raw_input(\"please enter the number one:\"))\n",
    "    num2 = int(raw_input(\"please enter the number two:\"))\n",
    "    result = num1 / num2\n",
    "except ValueError:\n",
    "    print \"Please enter numbers.\"\n",
    "except ZeroDivisionError:\n",
    "    print \"Make sure your denominator is non-zero\"\n",
    "else:\n",
    "    print \"the division of two numbers is:{}\".format(result)"
   ]
  },
  {
   "cell_type": "code",
   "execution_count": null,
   "metadata": {
    "collapsed": true
   },
   "outputs": [],
   "source": [
    "# try..except..else.. finally\n",
    "# try: computation part/must part of the code.\n",
    "# except: for handing the exceptions\n",
    "# else: if try is true.. then go to else.\n",
    "# finally: \n",
    "# case1: when all values are entered correctly -> try..else..finally.\n",
    "# caseII: when we enter invalid value handled by exceptions -> try..except..finally\n",
    "# caseIII: when we enter invalid value not handled by exception -> try..finally.. bombed with exception."
   ]
  },
  {
   "cell_type": "code",
   "execution_count": 14,
   "metadata": {
    "collapsed": false
   },
   "outputs": [
    {
     "name": "stdout",
     "output_type": "stream",
     "text": [
      "please enter the number one:10\n",
      "please enter the number two:2\n",
      "the division of two numbers is:5\n",
      "hello we are done.\n"
     ]
    }
   ],
   "source": [
    "# case I\n",
    "try:\n",
    "    num1 = int(raw_input(\"please enter the number one:\"))\n",
    "    num2 = int(raw_input(\"please enter the number two:\"))\n",
    "    result = num1 / num2\n",
    "except ValueError:\n",
    "    print \"Please enter numbers.\"\n",
    "else:\n",
    "    print \"the division of two numbers is:{}\".format(result)\n",
    "finally:\n",
    "    print \"hello we are done.\""
   ]
  },
  {
   "cell_type": "code",
   "execution_count": 15,
   "metadata": {
    "collapsed": false
   },
   "outputs": [
    {
     "name": "stdout",
     "output_type": "stream",
     "text": [
      "please enter the number one:ten\n",
      "Please enter numbers.\n",
      "hello we are done.\n"
     ]
    }
   ],
   "source": [
    "# case II\n",
    "try:\n",
    "    num1 = int(raw_input(\"please enter the number one:\"))\n",
    "    num2 = int(raw_input(\"please enter the number two:\"))\n",
    "    result = num1 / num2\n",
    "except ValueError:\n",
    "    print \"Please enter numbers.\"\n",
    "else:\n",
    "    print \"the division of two numbers is:{}\".format(result)\n",
    "finally:\n",
    "    print \"hello we are done.\""
   ]
  },
  {
   "cell_type": "code",
   "execution_count": 16,
   "metadata": {
    "collapsed": false
   },
   "outputs": [
    {
     "name": "stdout",
     "output_type": "stream",
     "text": [
      "please enter the number one:10\n",
      "please enter the number two:0\n",
      "hello we are done.\n"
     ]
    },
    {
     "ename": "ZeroDivisionError",
     "evalue": "integer division or modulo by zero",
     "output_type": "error",
     "traceback": [
      "\u001b[0;31m---------------------------------------------------------------------------\u001b[0m",
      "\u001b[0;31mZeroDivisionError\u001b[0m                         Traceback (most recent call last)",
      "\u001b[0;32m<ipython-input-16-851c37652c22>\u001b[0m in \u001b[0;36m<module>\u001b[0;34m()\u001b[0m\n\u001b[1;32m      3\u001b[0m     \u001b[0mnum1\u001b[0m \u001b[0;34m=\u001b[0m \u001b[0mint\u001b[0m\u001b[0;34m(\u001b[0m\u001b[0mraw_input\u001b[0m\u001b[0;34m(\u001b[0m\u001b[0;34m\"please enter the number one:\"\u001b[0m\u001b[0;34m)\u001b[0m\u001b[0;34m)\u001b[0m\u001b[0;34m\u001b[0m\u001b[0m\n\u001b[1;32m      4\u001b[0m     \u001b[0mnum2\u001b[0m \u001b[0;34m=\u001b[0m \u001b[0mint\u001b[0m\u001b[0;34m(\u001b[0m\u001b[0mraw_input\u001b[0m\u001b[0;34m(\u001b[0m\u001b[0;34m\"please enter the number two:\"\u001b[0m\u001b[0;34m)\u001b[0m\u001b[0;34m)\u001b[0m\u001b[0;34m\u001b[0m\u001b[0m\n\u001b[0;32m----> 5\u001b[0;31m     \u001b[0mresult\u001b[0m \u001b[0;34m=\u001b[0m \u001b[0mnum1\u001b[0m \u001b[0;34m/\u001b[0m \u001b[0mnum2\u001b[0m\u001b[0;34m\u001b[0m\u001b[0m\n\u001b[0m\u001b[1;32m      6\u001b[0m \u001b[0;32mexcept\u001b[0m \u001b[0mValueError\u001b[0m\u001b[0;34m:\u001b[0m\u001b[0;34m\u001b[0m\u001b[0m\n\u001b[1;32m      7\u001b[0m     \u001b[0;32mprint\u001b[0m \u001b[0;34m\"Please enter numbers.\"\u001b[0m\u001b[0;34m\u001b[0m\u001b[0m\n",
      "\u001b[0;31mZeroDivisionError\u001b[0m: integer division or modulo by zero"
     ]
    }
   ],
   "source": [
    "# case III\n",
    "try:\n",
    "    num1 = int(raw_input(\"please enter the number one:\"))\n",
    "    num2 = int(raw_input(\"please enter the number two:\"))\n",
    "    result = num1 / num2\n",
    "except ValueError:\n",
    "    print \"Please enter numbers.\"\n",
    "else:\n",
    "    print \"the division of two numbers is:{}\".format(result)\n",
    "finally:\n",
    "    print \"hello we are done.\"\n",
    "    # db.close()\n",
    "    # socket.close()\n",
    "    # file.close()"
   ]
  },
  {
   "cell_type": "code",
   "execution_count": 17,
   "metadata": {
    "collapsed": false
   },
   "outputs": [
    {
     "ename": "SyntaxError",
     "evalue": "invalid syntax (<ipython-input-17-61cb1b62bdcd>, line 2)",
     "output_type": "error",
     "traceback": [
      "\u001b[0;36m  File \u001b[0;32m\"<ipython-input-17-61cb1b62bdcd>\"\u001b[0;36m, line \u001b[0;32m2\u001b[0m\n\u001b[0;31m    pint \"hello world\"\u001b[0m\n\u001b[0m                     ^\u001b[0m\n\u001b[0;31mSyntaxError\u001b[0m\u001b[0;31m:\u001b[0m invalid syntax\n"
     ]
    }
   ],
   "source": [
    "# raise\n",
    "pint \"hello world\""
   ]
  },
  {
   "cell_type": "code",
   "execution_count": 20,
   "metadata": {
    "collapsed": false
   },
   "outputs": [
    {
     "ename": "SyntaxError",
     "evalue": "Please clean your glasses",
     "output_type": "error",
     "traceback": [
      "\u001b[0;36m  File \u001b[0;32m\"<string>\"\u001b[0;36m, line \u001b[0;32munknown\u001b[0m\n\u001b[0;31mSyntaxError\u001b[0m\u001b[0;31m:\u001b[0m Please clean your glasses\n"
     ]
    }
   ],
   "source": [
    "raise SyntaxError,\"Please clean your glasses\""
   ]
  },
  {
   "cell_type": "code",
   "execution_count": 21,
   "metadata": {
    "collapsed": false
   },
   "outputs": [
    {
     "ename": "NameError",
     "evalue": "name 'santosh' is not defined",
     "output_type": "error",
     "traceback": [
      "\u001b[0;31m---------------------------------------------------------------------------\u001b[0m",
      "\u001b[0;31mNameError\u001b[0m                                 Traceback (most recent call last)",
      "\u001b[0;32m<ipython-input-21-460ec4d018fb>\u001b[0m in \u001b[0;36m<module>\u001b[0;34m()\u001b[0m\n\u001b[0;32m----> 1\u001b[0;31m \u001b[0;32mraise\u001b[0m \u001b[0msantosh\u001b[0m\u001b[0;34m\u001b[0m\u001b[0m\n\u001b[0m",
      "\u001b[0;31mNameError\u001b[0m: name 'santosh' is not defined"
     ]
    }
   ],
   "source": [
    "raise santosh"
   ]
  },
  {
   "cell_type": "code",
   "execution_count": 23,
   "metadata": {
    "collapsed": true
   },
   "outputs": [],
   "source": [
    "class santosh(Exception):\n",
    "    pass"
   ]
  },
  {
   "cell_type": "code",
   "execution_count": 24,
   "metadata": {
    "collapsed": false
   },
   "outputs": [
    {
     "ename": "santosh",
     "evalue": "i am back!!",
     "output_type": "error",
     "traceback": [
      "\u001b[0;31m---------------------------------------------------------------------------\u001b[0m",
      "\u001b[0;31msantosh\u001b[0m                                   Traceback (most recent call last)",
      "\u001b[0;32m<ipython-input-24-58a423ded1d3>\u001b[0m in \u001b[0;36m<module>\u001b[0;34m()\u001b[0m\n\u001b[0;32m----> 1\u001b[0;31m \u001b[0;32mraise\u001b[0m \u001b[0msantosh\u001b[0m\u001b[0;34m,\u001b[0m\u001b[0;34m\"i am back!!\"\u001b[0m\u001b[0;34m\u001b[0m\u001b[0m\n\u001b[0m",
      "\u001b[0;31msantosh\u001b[0m: i am back!!"
     ]
    }
   ],
   "source": [
    "raise santosh,\"i am back!!\""
   ]
  },
  {
   "cell_type": "code",
   "execution_count": null,
   "metadata": {
    "collapsed": true
   },
   "outputs": [],
   "source": []
  }
 ],
 "metadata": {
  "kernelspec": {
   "display_name": "Python 2",
   "language": "python",
   "name": "python2"
  },
  "language_info": {
   "codemirror_mode": {
    "name": "ipython",
    "version": 2
   },
   "file_extension": ".py",
   "mimetype": "text/x-python",
   "name": "python",
   "nbconvert_exporter": "python",
   "pygments_lexer": "ipython2",
   "version": "2.7.6"
  }
 },
 "nbformat": 4,
 "nbformat_minor": 1
}
