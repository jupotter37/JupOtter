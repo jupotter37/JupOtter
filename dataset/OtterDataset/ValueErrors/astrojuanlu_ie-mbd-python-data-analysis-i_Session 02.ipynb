{
 "cells": [
  {
   "cell_type": "markdown",
   "metadata": {},
   "source": [
    "# Session 02"
   ]
  },
  {
   "cell_type": "markdown",
   "metadata": {},
   "source": [
    "## Strings"
   ]
  },
  {
   "cell_type": "markdown",
   "metadata": {},
   "source": [
    "Strings contain characters, and they can be extracted with an operation called indexing:"
   ]
  },
  {
   "cell_type": "code",
   "execution_count": 1,
   "metadata": {
    "execution": {
     "iopub.execute_input": "2022-10-07T13:32:22.887174Z",
     "iopub.status.busy": "2022-10-07T13:32:22.887039Z",
     "iopub.status.idle": "2022-10-07T13:32:22.895963Z",
     "shell.execute_reply": "2022-10-07T13:32:22.895640Z",
     "shell.execute_reply.started": "2022-10-07T13:32:22.887142Z"
    },
    "tags": []
   },
   "outputs": [
    {
     "data": {
      "text/plain": [
       "'Juan Luis'"
      ]
     },
     "execution_count": 1,
     "metadata": {},
     "output_type": "execute_result"
    }
   ],
   "source": [
    "name = \"Juan Luis\"\n",
    "name"
   ]
  },
  {
   "cell_type": "markdown",
   "metadata": {},
   "source": [
    "The number zero `0` corresponds to the first element, `1` to the second, and so forth. Think of it as an offset:"
   ]
  },
  {
   "cell_type": "code",
   "execution_count": 2,
   "metadata": {
    "execution": {
     "iopub.execute_input": "2022-10-07T13:32:22.896563Z",
     "iopub.status.busy": "2022-10-07T13:32:22.896358Z",
     "iopub.status.idle": "2022-10-07T13:32:22.907989Z",
     "shell.execute_reply": "2022-10-07T13:32:22.907763Z",
     "shell.execute_reply.started": "2022-10-07T13:32:22.896551Z"
    },
    "tags": []
   },
   "outputs": [
    {
     "data": {
      "text/plain": [
       "'J'"
      ]
     },
     "execution_count": 2,
     "metadata": {},
     "output_type": "execute_result"
    }
   ],
   "source": [
    "name[0]"
   ]
  },
  {
   "cell_type": "code",
   "execution_count": 3,
   "metadata": {
    "execution": {
     "iopub.execute_input": "2022-10-07T13:32:22.908708Z",
     "iopub.status.busy": "2022-10-07T13:32:22.908596Z",
     "iopub.status.idle": "2022-10-07T13:32:22.910795Z",
     "shell.execute_reply": "2022-10-07T13:32:22.910578Z",
     "shell.execute_reply.started": "2022-10-07T13:32:22.908697Z"
    },
    "tags": []
   },
   "outputs": [
    {
     "data": {
      "text/plain": [
       "'u'"
      ]
     },
     "execution_count": 3,
     "metadata": {},
     "output_type": "execute_result"
    }
   ],
   "source": [
    "name[1]"
   ]
  },
  {
   "cell_type": "markdown",
   "metadata": {},
   "source": [
    "Negative indices start from the end:"
   ]
  },
  {
   "cell_type": "code",
   "execution_count": 4,
   "metadata": {
    "execution": {
     "iopub.execute_input": "2022-10-07T13:32:23.545036Z",
     "iopub.status.busy": "2022-10-07T13:32:23.544597Z",
     "iopub.status.idle": "2022-10-07T13:32:23.550606Z",
     "shell.execute_reply": "2022-10-07T13:32:23.549983Z",
     "shell.execute_reply.started": "2022-10-07T13:32:23.545003Z"
    },
    "tags": []
   },
   "outputs": [
    {
     "data": {
      "text/plain": [
       "'s'"
      ]
     },
     "execution_count": 4,
     "metadata": {},
     "output_type": "execute_result"
    }
   ],
   "source": [
    "name[-1]"
   ]
  },
  {
   "cell_type": "code",
   "execution_count": 5,
   "metadata": {
    "execution": {
     "iopub.execute_input": "2022-10-07T13:32:23.706685Z",
     "iopub.status.busy": "2022-10-07T13:32:23.706360Z",
     "iopub.status.idle": "2022-10-07T13:32:23.711183Z",
     "shell.execute_reply": "2022-10-07T13:32:23.710850Z",
     "shell.execute_reply.started": "2022-10-07T13:32:23.706649Z"
    },
    "tags": []
   },
   "outputs": [
    {
     "data": {
      "text/plain": [
       "'i'"
      ]
     },
     "execution_count": 5,
     "metadata": {},
     "output_type": "execute_result"
    }
   ],
   "source": [
    "name[-2]"
   ]
  },
  {
   "cell_type": "markdown",
   "metadata": {},
   "source": [
    "You can return the length of the string using the built-in function `len`:"
   ]
  },
  {
   "cell_type": "code",
   "execution_count": 6,
   "metadata": {
    "execution": {
     "iopub.execute_input": "2022-10-07T13:32:24.040739Z",
     "iopub.status.busy": "2022-10-07T13:32:24.040364Z",
     "iopub.status.idle": "2022-10-07T13:32:24.046781Z",
     "shell.execute_reply": "2022-10-07T13:32:24.046291Z",
     "shell.execute_reply.started": "2022-10-07T13:32:24.040705Z"
    },
    "tags": []
   },
   "outputs": [
    {
     "data": {
      "text/plain": [
       "9"
      ]
     },
     "execution_count": 6,
     "metadata": {},
     "output_type": "execute_result"
    }
   ],
   "source": [
    "len(name)"
   ]
  },
  {
   "cell_type": "markdown",
   "metadata": {},
   "source": [
    "To obtain a portion of the string, you use a similar syntax, which in this case is called slicing:"
   ]
  },
  {
   "cell_type": "code",
   "execution_count": 7,
   "metadata": {
    "execution": {
     "iopub.execute_input": "2022-10-07T13:32:24.372674Z",
     "iopub.status.busy": "2022-10-07T13:32:24.372544Z",
     "iopub.status.idle": "2022-10-07T13:32:24.375716Z",
     "shell.execute_reply": "2022-10-07T13:32:24.375468Z",
     "shell.execute_reply.started": "2022-10-07T13:32:24.372663Z"
    },
    "tags": []
   },
   "outputs": [
    {
     "data": {
      "text/plain": [
       "'uan '"
      ]
     },
     "execution_count": 7,
     "metadata": {},
     "output_type": "execute_result"
    }
   ],
   "source": [
    "name[1:5]"
   ]
  },
  {
   "cell_type": "markdown",
   "metadata": {},
   "source": [
    "Some notes:\n",
    "\n",
    "- The syntax is `[start_index:end_index:step]`\n",
    "- When an element is not specified, the default is used\n",
    "  - The default start is `0` (the beginning)\n",
    "  - The default end is the end\n",
    "  - The default step is one `1`"
   ]
  },
  {
   "cell_type": "code",
   "execution_count": 8,
   "metadata": {
    "execution": {
     "iopub.execute_input": "2022-10-07T13:32:24.773487Z",
     "iopub.status.busy": "2022-10-07T13:32:24.773072Z",
     "iopub.status.idle": "2022-10-07T13:32:24.778662Z",
     "shell.execute_reply": "2022-10-07T13:32:24.778169Z",
     "shell.execute_reply.started": "2022-10-07T13:32:24.773439Z"
    },
    "tags": []
   },
   "outputs": [
    {
     "data": {
      "text/plain": [
       "'unLi'"
      ]
     },
     "execution_count": 8,
     "metadata": {},
     "output_type": "execute_result"
    }
   ],
   "source": [
    "name[1::2]"
   ]
  },
  {
   "cell_type": "markdown",
   "metadata": {},
   "source": [
    "Strings are **immutable**, which means that I can't modify its value:"
   ]
  },
  {
   "cell_type": "code",
   "execution_count": 9,
   "metadata": {
    "execution": {
     "iopub.execute_input": "2022-10-07T13:32:25.195394Z",
     "iopub.status.busy": "2022-10-07T13:32:25.194944Z",
     "iopub.status.idle": "2022-10-07T13:32:25.450382Z",
     "shell.execute_reply": "2022-10-07T13:32:25.450052Z",
     "shell.execute_reply.started": "2022-10-07T13:32:25.195351Z"
    },
    "tags": []
   },
   "outputs": [
    {
     "ename": "TypeError",
     "evalue": "'str' object does not support item assignment",
     "output_type": "error",
     "traceback": [
      "\u001b[0;31m---------------------------------------------------------------------------\u001b[0m",
      "\u001b[0;31mTypeError\u001b[0m                                 Traceback (most recent call last)",
      "Input \u001b[0;32mIn [9]\u001b[0m, in \u001b[0;36m<cell line: 1>\u001b[0;34m()\u001b[0m\n\u001b[0;32m----> 1\u001b[0m name[\u001b[38;5;241m0\u001b[39m] \u001b[38;5;241m=\u001b[39m \u001b[38;5;124m\"\u001b[39m\u001b[38;5;124mX\u001b[39m\u001b[38;5;124m\"\u001b[39m\n",
      "\u001b[0;31mTypeError\u001b[0m: 'str' object does not support item assignment"
     ]
    }
   ],
   "source": [
    "name[0] = \"X\""
   ]
  },
  {
   "cell_type": "markdown",
   "metadata": {},
   "source": [
    "Also, strings have methods: functions that are attached to them."
   ]
  },
  {
   "cell_type": "code",
   "execution_count": 10,
   "metadata": {
    "execution": {
     "iopub.execute_input": "2022-10-07T13:32:25.606888Z",
     "iopub.status.busy": "2022-10-07T13:32:25.606682Z",
     "iopub.status.idle": "2022-10-07T13:32:25.610028Z",
     "shell.execute_reply": "2022-10-07T13:32:25.609627Z",
     "shell.execute_reply.started": "2022-10-07T13:32:25.606873Z"
    },
    "tags": []
   },
   "outputs": [
    {
     "data": {
      "text/plain": [
       "'juan luis'"
      ]
     },
     "execution_count": 10,
     "metadata": {},
     "output_type": "execute_result"
    }
   ],
   "source": [
    "name.lower()  # `lower` returns a string with all characters in lowercase"
   ]
  },
  {
   "cell_type": "markdown",
   "metadata": {},
   "source": [
    "<div class=\"alert alert-info\">For a list of all string methods, see the documentation at https://docs.python.org/3/library/stdtypes.html#string-methods</div>"
   ]
  },
  {
   "cell_type": "markdown",
   "metadata": {},
   "source": [
    "## Tuples"
   ]
  },
  {
   "cell_type": "markdown",
   "metadata": {},
   "source": [
    "Tuples are heterogeneous containers: their individual elements can be numbers, strings, other tuples, or any other object."
   ]
  },
  {
   "cell_type": "code",
   "execution_count": 11,
   "metadata": {
    "execution": {
     "iopub.execute_input": "2022-10-07T13:32:26.522159Z",
     "iopub.status.busy": "2022-10-07T13:32:26.522037Z",
     "iopub.status.idle": "2022-10-07T13:32:26.524855Z",
     "shell.execute_reply": "2022-10-07T13:32:26.524564Z",
     "shell.execute_reply.started": "2022-10-07T13:32:26.522149Z"
    },
    "tags": []
   },
   "outputs": [
    {
     "data": {
      "text/plain": [
       "(1, 2.0, '3', 'four')"
      ]
     },
     "execution_count": 11,
     "metadata": {},
     "output_type": "execute_result"
    }
   ],
   "source": [
    "my_tuple = 1, 2.0, \"3\", \"four\"\n",
    "my_tuple"
   ]
  },
  {
   "cell_type": "code",
   "execution_count": 12,
   "metadata": {
    "execution": {
     "iopub.execute_input": "2022-10-07T13:32:26.731136Z",
     "iopub.status.busy": "2022-10-07T13:32:26.730933Z",
     "iopub.status.idle": "2022-10-07T13:32:26.734249Z",
     "shell.execute_reply": "2022-10-07T13:32:26.733925Z",
     "shell.execute_reply.started": "2022-10-07T13:32:26.731114Z"
    },
    "tags": []
   },
   "outputs": [
    {
     "data": {
      "text/plain": [
       "1"
      ]
     },
     "execution_count": 12,
     "metadata": {},
     "output_type": "execute_result"
    }
   ],
   "source": [
    "my_tuple[0]"
   ]
  },
  {
   "cell_type": "code",
   "execution_count": 13,
   "metadata": {
    "execution": {
     "iopub.execute_input": "2022-10-07T13:32:26.945696Z",
     "iopub.status.busy": "2022-10-07T13:32:26.945108Z",
     "iopub.status.idle": "2022-10-07T13:32:26.950354Z",
     "shell.execute_reply": "2022-10-07T13:32:26.949920Z",
     "shell.execute_reply.started": "2022-10-07T13:32:26.945664Z"
    },
    "tags": []
   },
   "outputs": [
    {
     "data": {
      "text/plain": [
       "4"
      ]
     },
     "execution_count": 13,
     "metadata": {},
     "output_type": "execute_result"
    }
   ],
   "source": [
    "len(my_tuple)"
   ]
  },
  {
   "cell_type": "markdown",
   "metadata": {},
   "source": [
    "Tuples are also immutable:"
   ]
  },
  {
   "cell_type": "code",
   "execution_count": 14,
   "metadata": {
    "execution": {
     "iopub.execute_input": "2022-10-07T13:32:27.372531Z",
     "iopub.status.busy": "2022-10-07T13:32:27.372172Z",
     "iopub.status.idle": "2022-10-07T13:32:27.384741Z",
     "shell.execute_reply": "2022-10-07T13:32:27.384257Z",
     "shell.execute_reply.started": "2022-10-07T13:32:27.372491Z"
    },
    "tags": []
   },
   "outputs": [
    {
     "ename": "TypeError",
     "evalue": "'tuple' object does not support item assignment",
     "output_type": "error",
     "traceback": [
      "\u001b[0;31m---------------------------------------------------------------------------\u001b[0m",
      "\u001b[0;31mTypeError\u001b[0m                                 Traceback (most recent call last)",
      "Input \u001b[0;32mIn [14]\u001b[0m, in \u001b[0;36m<cell line: 1>\u001b[0;34m()\u001b[0m\n\u001b[0;32m----> 1\u001b[0m my_tuple[\u001b[38;5;241m0\u001b[39m] \u001b[38;5;241m=\u001b[39m \u001b[38;5;241m-\u001b[39m\u001b[38;5;241m1\u001b[39m\n",
      "\u001b[0;31mTypeError\u001b[0m: 'tuple' object does not support item assignment"
     ]
    }
   ],
   "source": [
    "my_tuple[0] = -1"
   ]
  },
  {
   "cell_type": "markdown",
   "metadata": {},
   "source": [
    "## Lists"
   ]
  },
  {
   "cell_type": "markdown",
   "metadata": {},
   "source": [
    "Lists are heterogeneous, mutable containers. To create them, use square brackets:"
   ]
  },
  {
   "cell_type": "code",
   "execution_count": 15,
   "metadata": {
    "execution": {
     "iopub.execute_input": "2022-10-07T13:32:28.013550Z",
     "iopub.status.busy": "2022-10-07T13:32:28.013022Z",
     "iopub.status.idle": "2022-10-07T13:32:28.020745Z",
     "shell.execute_reply": "2022-10-07T13:32:28.020146Z",
     "shell.execute_reply.started": "2022-10-07T13:32:28.013490Z"
    },
    "tags": []
   },
   "outputs": [
    {
     "data": {
      "text/plain": [
       "[1, 2.0, '3', 'four']"
      ]
     },
     "execution_count": 15,
     "metadata": {},
     "output_type": "execute_result"
    }
   ],
   "source": [
    "my_list = [1, 2.0, \"3\", \"four\"]\n",
    "my_list"
   ]
  },
  {
   "cell_type": "markdown",
   "metadata": {},
   "source": [
    "<div class=\"alert alert-warning\">Square brackets are used for two purposes in Python: (1) indexing/slicing and (2) creating lists. Don't confuse the two: the former will always go next to an object!</div>"
   ]
  },
  {
   "cell_type": "code",
   "execution_count": 16,
   "metadata": {
    "execution": {
     "iopub.execute_input": "2022-10-07T13:32:28.444032Z",
     "iopub.status.busy": "2022-10-07T13:32:28.443558Z",
     "iopub.status.idle": "2022-10-07T13:32:28.450710Z",
     "shell.execute_reply": "2022-10-07T13:32:28.450247Z",
     "shell.execute_reply.started": "2022-10-07T13:32:28.443981Z"
    },
    "tags": []
   },
   "outputs": [
    {
     "data": {
      "text/plain": [
       "1"
      ]
     },
     "execution_count": 16,
     "metadata": {},
     "output_type": "execute_result"
    }
   ],
   "source": [
    "my_list[0]  # Indexing a list"
   ]
  },
  {
   "cell_type": "code",
   "execution_count": 17,
   "metadata": {
    "execution": {
     "iopub.execute_input": "2022-10-07T13:32:28.656691Z",
     "iopub.status.busy": "2022-10-07T13:32:28.656494Z",
     "iopub.status.idle": "2022-10-07T13:32:28.659529Z",
     "shell.execute_reply": "2022-10-07T13:32:28.659172Z",
     "shell.execute_reply.started": "2022-10-07T13:32:28.656680Z"
    },
    "tags": []
   },
   "outputs": [
    {
     "data": {
      "text/plain": [
       "[1, 2.0, '3', 'four', 'F$V3']"
      ]
     },
     "execution_count": 17,
     "metadata": {},
     "output_type": "execute_result"
    }
   ],
   "source": [
    "my_list + [\"F$V3\"]  # Concatenating `my_list` with a list of one element"
   ]
  },
  {
   "cell_type": "code",
   "execution_count": 18,
   "metadata": {
    "execution": {
     "iopub.execute_input": "2022-10-07T13:32:28.863281Z",
     "iopub.status.busy": "2022-10-07T13:32:28.863037Z",
     "iopub.status.idle": "2022-10-07T13:32:28.867206Z",
     "shell.execute_reply": "2022-10-07T13:32:28.866927Z",
     "shell.execute_reply.started": "2022-10-07T13:32:28.863251Z"
    },
    "tags": []
   },
   "outputs": [
    {
     "data": {
      "text/plain": [
       "[1, 2, 1, 2, 1, 2, 1, 2, 1, 2]"
      ]
     },
     "execution_count": 18,
     "metadata": {},
     "output_type": "execute_result"
    }
   ],
   "source": [
    "[1, 2] * 5  # Repeating a list 5 times"
   ]
  },
  {
   "cell_type": "markdown",
   "metadata": {},
   "source": [
    "Mutable means that you can change the individual elements of the list:"
   ]
  },
  {
   "cell_type": "code",
   "execution_count": 19,
   "metadata": {
    "execution": {
     "iopub.execute_input": "2022-10-07T13:32:29.262540Z",
     "iopub.status.busy": "2022-10-07T13:32:29.262176Z",
     "iopub.status.idle": "2022-10-07T13:32:29.268122Z",
     "shell.execute_reply": "2022-10-07T13:32:29.267567Z",
     "shell.execute_reply.started": "2022-10-07T13:32:29.262498Z"
    },
    "tags": []
   },
   "outputs": [
    {
     "data": {
      "text/plain": [
       "[-1, 2.0, '3', 'four']"
      ]
     },
     "execution_count": 19,
     "metadata": {},
     "output_type": "execute_result"
    }
   ],
   "source": [
    "my_list[0] = -1\n",
    "my_list"
   ]
  },
  {
   "cell_type": "markdown",
   "metadata": {},
   "source": [
    "Or append new elements:"
   ]
  },
  {
   "cell_type": "code",
   "execution_count": 20,
   "metadata": {
    "execution": {
     "iopub.execute_input": "2022-10-07T13:32:29.649950Z",
     "iopub.status.busy": "2022-10-07T13:32:29.649554Z",
     "iopub.status.idle": "2022-10-07T13:32:29.655264Z",
     "shell.execute_reply": "2022-10-07T13:32:29.654290Z",
     "shell.execute_reply.started": "2022-10-07T13:32:29.649899Z"
    },
    "tags": []
   },
   "outputs": [],
   "source": [
    "my_list.append(\"F$V3\")"
   ]
  },
  {
   "cell_type": "code",
   "execution_count": 21,
   "metadata": {
    "execution": {
     "iopub.execute_input": "2022-10-07T13:32:29.838347Z",
     "iopub.status.busy": "2022-10-07T13:32:29.838134Z",
     "iopub.status.idle": "2022-10-07T13:32:29.842011Z",
     "shell.execute_reply": "2022-10-07T13:32:29.841783Z",
     "shell.execute_reply.started": "2022-10-07T13:32:29.838328Z"
    },
    "tags": []
   },
   "outputs": [
    {
     "data": {
      "text/plain": [
       "[-1, 2.0, '3', 'four', 'F$V3']"
      ]
     },
     "execution_count": 21,
     "metadata": {},
     "output_type": "execute_result"
    }
   ],
   "source": [
    "my_list"
   ]
  },
  {
   "cell_type": "markdown",
   "metadata": {
    "tags": []
   },
   "source": [
    "## More methods"
   ]
  },
  {
   "cell_type": "markdown",
   "metadata": {},
   "source": [
    "Some string methods return lists:"
   ]
  },
  {
   "cell_type": "code",
   "execution_count": 22,
   "metadata": {
    "execution": {
     "iopub.execute_input": "2022-10-07T13:32:30.431763Z",
     "iopub.status.busy": "2022-10-07T13:32:30.431509Z",
     "iopub.status.idle": "2022-10-07T13:32:30.437148Z",
     "shell.execute_reply": "2022-10-07T13:32:30.436634Z",
     "shell.execute_reply.started": "2022-10-07T13:32:30.431737Z"
    },
    "tags": []
   },
   "outputs": [
    {
     "data": {
      "text/plain": [
       "['Juan', 'Luis']"
      ]
     },
     "execution_count": 22,
     "metadata": {},
     "output_type": "execute_result"
    }
   ],
   "source": [
    "name.split()"
   ]
  },
  {
   "cell_type": "markdown",
   "metadata": {},
   "source": [
    "Which means that I can chain several operations:"
   ]
  },
  {
   "cell_type": "code",
   "execution_count": 23,
   "metadata": {
    "execution": {
     "iopub.execute_input": "2022-10-07T13:32:30.813354Z",
     "iopub.status.busy": "2022-10-07T13:32:30.813059Z",
     "iopub.status.idle": "2022-10-07T13:32:30.818659Z",
     "shell.execute_reply": "2022-10-07T13:32:30.818141Z",
     "shell.execute_reply.started": "2022-10-07T13:32:30.813326Z"
    },
    "tags": []
   },
   "outputs": [
    {
     "data": {
      "text/plain": [
       "'Juan'"
      ]
     },
     "execution_count": 23,
     "metadata": {},
     "output_type": "execute_result"
    }
   ],
   "source": [
    "# With an intermediate variable\n",
    "parts = name.split()\n",
    "parts[0]"
   ]
  },
  {
   "cell_type": "code",
   "execution_count": 24,
   "metadata": {
    "execution": {
     "iopub.execute_input": "2022-10-07T13:32:31.001293Z",
     "iopub.status.busy": "2022-10-07T13:32:31.001019Z",
     "iopub.status.idle": "2022-10-07T13:32:31.004662Z",
     "shell.execute_reply": "2022-10-07T13:32:31.004338Z",
     "shell.execute_reply.started": "2022-10-07T13:32:31.001276Z"
    },
    "tags": []
   },
   "outputs": [
    {
     "data": {
      "text/plain": [
       "'Juan'"
      ]
     },
     "execution_count": 24,
     "metadata": {},
     "output_type": "execute_result"
    }
   ],
   "source": [
    "# Without an intermediate variable, same result\n",
    "name.split()[0]"
   ]
  },
  {
   "cell_type": "markdown",
   "metadata": {},
   "source": [
    "A more complicated example:"
   ]
  },
  {
   "cell_type": "code",
   "execution_count": 25,
   "metadata": {
    "execution": {
     "iopub.execute_input": "2022-10-07T13:32:31.402795Z",
     "iopub.status.busy": "2022-10-07T13:32:31.402417Z",
     "iopub.status.idle": "2022-10-07T13:32:31.409449Z",
     "shell.execute_reply": "2022-10-07T13:32:31.408725Z",
     "shell.execute_reply.started": "2022-10-07T13:32:31.402756Z"
    },
    "tags": []
   },
   "outputs": [
    {
     "data": {
      "text/plain": [
       "['ie', 'edu']"
      ]
     },
     "execution_count": 25,
     "metadata": {},
     "output_type": "execute_result"
    }
   ],
   "source": [
    "\"jcano@faculty.ie.edu\".split(\"@\")[-1].split(\".\")[-2:]"
   ]
  },
  {
   "cell_type": "markdown",
   "metadata": {},
   "source": [
    "Let's examine what's happening here:"
   ]
  },
  {
   "cell_type": "code",
   "execution_count": 26,
   "metadata": {
    "execution": {
     "iopub.execute_input": "2022-10-07T13:32:31.804648Z",
     "iopub.status.busy": "2022-10-07T13:32:31.804409Z",
     "iopub.status.idle": "2022-10-07T13:32:31.810411Z",
     "shell.execute_reply": "2022-10-07T13:32:31.810064Z",
     "shell.execute_reply.started": "2022-10-07T13:32:31.804624Z"
    },
    "tags": []
   },
   "outputs": [
    {
     "data": {
      "text/plain": [
       "['ie', 'edu']"
      ]
     },
     "execution_count": 26,
     "metadata": {},
     "output_type": "execute_result"
    }
   ],
   "source": [
    "(\n",
    "    \"jcano@faculty.ie.edu\"  # string\n",
    "    .split(\"@\")  # str.split returns a list of two elements\n",
    "    [-1]  # pick the last element of the list, which is a string\n",
    "    .split(\".\")  # str.split returns another list\n",
    "    [-2:]  # slice from the second-to-last element onwards\n",
    ")"
   ]
  },
  {
   "cell_type": "markdown",
   "metadata": {},
   "source": [
    "## Converting objects"
   ]
  },
  {
   "cell_type": "markdown",
   "metadata": {},
   "source": [
    "In some cases you can convert one object in another. To do this, use the corresponding built-in function (`list`, `tuple`, `str`):"
   ]
  },
  {
   "cell_type": "code",
   "execution_count": 27,
   "metadata": {
    "execution": {
     "iopub.execute_input": "2022-10-07T13:32:32.468299Z",
     "iopub.status.busy": "2022-10-07T13:32:32.468177Z",
     "iopub.status.idle": "2022-10-07T13:32:32.471072Z",
     "shell.execute_reply": "2022-10-07T13:32:32.470834Z",
     "shell.execute_reply.started": "2022-10-07T13:32:32.468288Z"
    },
    "tags": []
   },
   "outputs": [
    {
     "data": {
      "text/plain": [
       "0.1"
      ]
     },
     "execution_count": 27,
     "metadata": {},
     "output_type": "execute_result"
    }
   ],
   "source": [
    "0.1"
   ]
  },
  {
   "cell_type": "code",
   "execution_count": 28,
   "metadata": {
    "execution": {
     "iopub.execute_input": "2022-10-07T13:32:32.669326Z",
     "iopub.status.busy": "2022-10-07T13:32:32.669137Z",
     "iopub.status.idle": "2022-10-07T13:32:32.671992Z",
     "shell.execute_reply": "2022-10-07T13:32:32.671762Z",
     "shell.execute_reply.started": "2022-10-07T13:32:32.669314Z"
    },
    "tags": []
   },
   "outputs": [
    {
     "data": {
      "text/plain": [
       "'0.1'"
      ]
     },
     "execution_count": 28,
     "metadata": {},
     "output_type": "execute_result"
    }
   ],
   "source": [
    "str(0.1)  # Notice the quotes: this is a string!"
   ]
  },
  {
   "cell_type": "code",
   "execution_count": 29,
   "metadata": {
    "execution": {
     "iopub.execute_input": "2022-10-07T13:32:32.883508Z",
     "iopub.status.busy": "2022-10-07T13:32:32.883252Z",
     "iopub.status.idle": "2022-10-07T13:32:32.888238Z",
     "shell.execute_reply": "2022-10-07T13:32:32.887915Z",
     "shell.execute_reply.started": "2022-10-07T13:32:32.883485Z"
    },
    "tags": []
   },
   "outputs": [
    {
     "data": {
      "text/plain": [
       "[1, 2.0, '3', 'four']"
      ]
     },
     "execution_count": 29,
     "metadata": {},
     "output_type": "execute_result"
    }
   ],
   "source": [
    "list(my_tuple)  # Converts the tuple above into a list, notice the square brackets!"
   ]
  },
  {
   "cell_type": "code",
   "execution_count": 30,
   "metadata": {
    "execution": {
     "iopub.execute_input": "2022-10-07T13:32:33.070061Z",
     "iopub.status.busy": "2022-10-07T13:32:33.069855Z",
     "iopub.status.idle": "2022-10-07T13:32:33.073495Z",
     "shell.execute_reply": "2022-10-07T13:32:33.073158Z",
     "shell.execute_reply.started": "2022-10-07T13:32:33.070042Z"
    },
    "tags": []
   },
   "outputs": [
    {
     "data": {
      "text/plain": [
       "(-1, 2.0, '3', 'four', 'F$V3')"
      ]
     },
     "execution_count": 30,
     "metadata": {},
     "output_type": "execute_result"
    }
   ],
   "source": [
    "tuple(my_list)  # Converts the list above into a tuple, notice the parentheses!"
   ]
  },
  {
   "cell_type": "markdown",
   "metadata": {},
   "source": [
    "Some other times, conversion might proceed and lose information:"
   ]
  },
  {
   "cell_type": "code",
   "execution_count": 31,
   "metadata": {
    "execution": {
     "iopub.execute_input": "2022-10-07T13:32:33.461078Z",
     "iopub.status.busy": "2022-10-07T13:32:33.460770Z",
     "iopub.status.idle": "2022-10-07T13:32:33.466724Z",
     "shell.execute_reply": "2022-10-07T13:32:33.466149Z",
     "shell.execute_reply.started": "2022-10-07T13:32:33.461049Z"
    },
    "tags": []
   },
   "outputs": [
    {
     "data": {
      "text/plain": [
       "1"
      ]
     },
     "execution_count": 31,
     "metadata": {},
     "output_type": "execute_result"
    }
   ],
   "source": [
    "int(1.5)"
   ]
  },
  {
   "cell_type": "markdown",
   "metadata": {},
   "source": [
    "Or directly fail:"
   ]
  },
  {
   "cell_type": "code",
   "execution_count": 32,
   "metadata": {
    "execution": {
     "iopub.execute_input": "2022-10-07T13:32:33.890484Z",
     "iopub.status.busy": "2022-10-07T13:32:33.890093Z",
     "iopub.status.idle": "2022-10-07T13:32:33.902041Z",
     "shell.execute_reply": "2022-10-07T13:32:33.901458Z",
     "shell.execute_reply.started": "2022-10-07T13:32:33.890445Z"
    },
    "tags": []
   },
   "outputs": [
    {
     "ename": "ValueError",
     "evalue": "invalid literal for int() with base 10: 'hello'",
     "output_type": "error",
     "traceback": [
      "\u001b[0;31m---------------------------------------------------------------------------\u001b[0m",
      "\u001b[0;31mValueError\u001b[0m                                Traceback (most recent call last)",
      "Input \u001b[0;32mIn [32]\u001b[0m, in \u001b[0;36m<cell line: 1>\u001b[0;34m()\u001b[0m\n\u001b[0;32m----> 1\u001b[0m \u001b[38;5;28;43mint\u001b[39;49m\u001b[43m(\u001b[49m\u001b[38;5;124;43m\"\u001b[39;49m\u001b[38;5;124;43mhello\u001b[39;49m\u001b[38;5;124;43m\"\u001b[39;49m\u001b[43m)\u001b[49m\n",
      "\u001b[0;31mValueError\u001b[0m: invalid literal for int() with base 10: 'hello'"
     ]
    }
   ],
   "source": [
    "int(\"hello\")"
   ]
  },
  {
   "cell_type": "markdown",
   "metadata": {},
   "source": [
    "## Special sequences"
   ]
  },
  {
   "cell_type": "markdown",
   "metadata": {},
   "source": [
    "There are some special sequences in Python that are very useful, as it's the case with ranges:"
   ]
  },
  {
   "cell_type": "code",
   "execution_count": 33,
   "metadata": {
    "execution": {
     "iopub.execute_input": "2022-10-07T13:32:34.697840Z",
     "iopub.status.busy": "2022-10-07T13:32:34.697138Z",
     "iopub.status.idle": "2022-10-07T13:32:34.702275Z",
     "shell.execute_reply": "2022-10-07T13:32:34.701878Z",
     "shell.execute_reply.started": "2022-10-07T13:32:34.697791Z"
    },
    "tags": []
   },
   "outputs": [
    {
     "data": {
      "text/plain": [
       "range(1, 10)"
      ]
     },
     "execution_count": 33,
     "metadata": {},
     "output_type": "execute_result"
    }
   ],
   "source": [
    "range(1, 10)"
   ]
  },
  {
   "cell_type": "markdown",
   "metadata": {},
   "source": [
    "That doesn't say much, but see what happens if you convert it to a list:"
   ]
  },
  {
   "cell_type": "code",
   "execution_count": 34,
   "metadata": {
    "execution": {
     "iopub.execute_input": "2022-10-07T13:32:35.226704Z",
     "iopub.status.busy": "2022-10-07T13:32:35.226447Z",
     "iopub.status.idle": "2022-10-07T13:32:35.232493Z",
     "shell.execute_reply": "2022-10-07T13:32:35.231734Z",
     "shell.execute_reply.started": "2022-10-07T13:32:35.226679Z"
    },
    "tags": []
   },
   "outputs": [
    {
     "data": {
      "text/plain": [
       "[1, 2, 3, 4, 5, 6, 7, 8, 9]"
      ]
     },
     "execution_count": 34,
     "metadata": {},
     "output_type": "execute_result"
    }
   ],
   "source": [
    "list(range(1, 10))"
   ]
  },
  {
   "cell_type": "markdown",
   "metadata": {},
   "source": [
    "## Troubleshooting"
   ]
  },
  {
   "cell_type": "markdown",
   "metadata": {},
   "source": [
    "To understand or debug a long line of code, try storing the intermediate results in variables. This will help you see what type do they have and methods are allowed."
   ]
  },
  {
   "cell_type": "code",
   "execution_count": 35,
   "metadata": {
    "execution": {
     "iopub.execute_input": "2022-10-07T13:32:35.954550Z",
     "iopub.status.busy": "2022-10-07T13:32:35.954267Z",
     "iopub.status.idle": "2022-10-07T13:32:35.959794Z",
     "shell.execute_reply": "2022-10-07T13:32:35.959242Z",
     "shell.execute_reply.started": "2022-10-07T13:32:35.954522Z"
    },
    "tags": []
   },
   "outputs": [
    {
     "data": {
      "text/plain": [
       "['ie', 'edu']"
      ]
     },
     "execution_count": 35,
     "metadata": {},
     "output_type": "execute_result"
    }
   ],
   "source": [
    "\"jcano@faculty.ie.edu\".split(\"@\")[-1].split(\".\")[-2:]"
   ]
  },
  {
   "cell_type": "code",
   "execution_count": 36,
   "metadata": {
    "execution": {
     "iopub.execute_input": "2022-10-07T13:32:36.125490Z",
     "iopub.status.busy": "2022-10-07T13:32:36.125300Z",
     "iopub.status.idle": "2022-10-07T13:32:36.130860Z",
     "shell.execute_reply": "2022-10-07T13:32:36.130323Z",
     "shell.execute_reply.started": "2022-10-07T13:32:36.125471Z"
    },
    "tags": []
   },
   "outputs": [
    {
     "data": {
      "text/plain": [
       "['ie', 'edu']"
      ]
     },
     "execution_count": 36,
     "metadata": {},
     "output_type": "execute_result"
    }
   ],
   "source": [
    "parts = \"jcano@faculty.ie.edu\".split(\"@\")\n",
    "domain = parts[-1]\n",
    "domain_parts = domain.split(\".\")\n",
    "host_tld = domain_parts[-2:]\n",
    "host_tld"
   ]
  },
  {
   "cell_type": "markdown",
   "metadata": {},
   "source": [
    "Symbols have different meanings in different contexts:\n",
    "\n",
    "- Square brackets `[]` are used for indexing & slicing and list creation\n",
    "- Parentheses `()` are used for function calls and grouping (notice that tuples can be created without parentheses, just using commas)\n",
    "- Braces `{}` are used for dictionary creation and set creation\n",
    "\n",
    "Therefore, rather than thinking in terms of \"what symbol do I need here\", first build an understanding of \"what operation do I need to perform\"."
   ]
  },
  {
   "cell_type": "code",
   "execution_count": 37,
   "metadata": {
    "execution": {
     "iopub.execute_input": "2022-10-07T13:32:36.489245Z",
     "iopub.status.busy": "2022-10-07T13:32:36.489049Z",
     "iopub.status.idle": "2022-10-07T13:32:36.493287Z",
     "shell.execute_reply": "2022-10-07T13:32:36.493057Z",
     "shell.execute_reply.started": "2022-10-07T13:32:36.489226Z"
    },
    "tags": []
   },
   "outputs": [
    {
     "data": {
      "text/plain": [
       "[0]"
      ]
     },
     "execution_count": 37,
     "metadata": {},
     "output_type": "execute_result"
    }
   ],
   "source": [
    "# A list with a zero\n",
    "[0]"
   ]
  },
  {
   "cell_type": "code",
   "execution_count": 38,
   "metadata": {
    "execution": {
     "iopub.execute_input": "2022-10-07T13:32:36.822634Z",
     "iopub.status.busy": "2022-10-07T13:32:36.822480Z",
     "iopub.status.idle": "2022-10-07T13:32:36.825434Z",
     "shell.execute_reply": "2022-10-07T13:32:36.825179Z",
     "shell.execute_reply.started": "2022-10-07T13:32:36.822622Z"
    },
    "tags": []
   },
   "outputs": [
    {
     "data": {
      "text/plain": [
       "'a'"
      ]
     },
     "execution_count": 38,
     "metadata": {},
     "output_type": "execute_result"
    }
   ],
   "source": [
    "# Indexing the first character of a string\n",
    "\"abc\"[0]"
   ]
  },
  {
   "cell_type": "markdown",
   "metadata": {},
   "source": [
    "Regular slices (`step = 1`) and extended slices (`step != 1`) behave differently on assignment:"
   ]
  },
  {
   "cell_type": "code",
   "execution_count": 39,
   "metadata": {
    "execution": {
     "iopub.execute_input": "2022-10-07T13:32:37.180975Z",
     "iopub.status.busy": "2022-10-07T13:32:37.180670Z",
     "iopub.status.idle": "2022-10-07T13:32:37.186117Z",
     "shell.execute_reply": "2022-10-07T13:32:37.185669Z",
     "shell.execute_reply.started": "2022-10-07T13:32:37.180947Z"
    },
    "tags": []
   },
   "outputs": [
    {
     "data": {
      "text/plain": [
       "[0, 1, 2, 3, 4, 5, 6, 7, 8, 9]"
      ]
     },
     "execution_count": 39,
     "metadata": {},
     "output_type": "execute_result"
    }
   ],
   "source": [
    "another_list = list(range(10))\n",
    "another_list"
   ]
  },
  {
   "cell_type": "code",
   "execution_count": 40,
   "metadata": {
    "execution": {
     "iopub.execute_input": "2022-10-07T13:32:37.349156Z",
     "iopub.status.busy": "2022-10-07T13:32:37.348949Z",
     "iopub.status.idle": "2022-10-07T13:32:37.352777Z",
     "shell.execute_reply": "2022-10-07T13:32:37.352432Z",
     "shell.execute_reply.started": "2022-10-07T13:32:37.349144Z"
    },
    "tags": []
   },
   "outputs": [
    {
     "data": {
      "text/plain": [
       "['A', 5, 6, 7, 8, 9]"
      ]
     },
     "execution_count": 40,
     "metadata": {},
     "output_type": "execute_result"
    }
   ],
   "source": [
    "another_list[:5] = \"A\"  # The length changes!\n",
    "another_list"
   ]
  },
  {
   "cell_type": "code",
   "execution_count": 41,
   "metadata": {
    "execution": {
     "iopub.execute_input": "2022-10-07T13:32:37.524719Z",
     "iopub.status.busy": "2022-10-07T13:32:37.524573Z",
     "iopub.status.idle": "2022-10-07T13:32:37.533468Z",
     "shell.execute_reply": "2022-10-07T13:32:37.533077Z",
     "shell.execute_reply.started": "2022-10-07T13:32:37.524707Z"
    },
    "tags": []
   },
   "outputs": [
    {
     "ename": "ValueError",
     "evalue": "attempt to assign sequence of size 1 to extended slice of size 3",
     "output_type": "error",
     "traceback": [
      "\u001b[0;31m---------------------------------------------------------------------------\u001b[0m",
      "\u001b[0;31mValueError\u001b[0m                                Traceback (most recent call last)",
      "Input \u001b[0;32mIn [41]\u001b[0m, in \u001b[0;36m<cell line: 1>\u001b[0;34m()\u001b[0m\n\u001b[0;32m----> 1\u001b[0m another_list[:\u001b[38;5;241m5\u001b[39m:\u001b[38;5;241m2\u001b[39m] \u001b[38;5;241m=\u001b[39m \u001b[38;5;124m\"\u001b[39m\u001b[38;5;124mA\u001b[39m\u001b[38;5;124m\"\u001b[39m\n",
      "\u001b[0;31mValueError\u001b[0m: attempt to assign sequence of size 1 to extended slice of size 3"
     ]
    }
   ],
   "source": [
    "another_list[:5:2] = \"A\"  # Doesn't work"
   ]
  },
  {
   "cell_type": "markdown",
   "metadata": {},
   "source": [
    "Apart from the Jupyter mechanism for displaying the return value of the last line of a cell, you can display it anytime you want with `print()`:"
   ]
  },
  {
   "cell_type": "code",
   "execution_count": 42,
   "metadata": {
    "execution": {
     "iopub.execute_input": "2022-10-07T13:36:19.672093Z",
     "iopub.status.busy": "2022-10-07T13:36:19.671854Z",
     "iopub.status.idle": "2022-10-07T13:36:19.676702Z",
     "shell.execute_reply": "2022-10-07T13:36:19.675906Z",
     "shell.execute_reply.started": "2022-10-07T13:36:19.672066Z"
    }
   },
   "outputs": [
    {
     "name": "stdout",
     "output_type": "stream",
     "text": [
      "2\n",
      "4\n"
     ]
    }
   ],
   "source": [
    "print(1 + 1)\n",
    "print(2 + 2)"
   ]
  },
  {
   "cell_type": "markdown",
   "metadata": {},
   "source": [
    "However, bear in mind that `print` returns `None`, so avoid assigning its value:"
   ]
  },
  {
   "cell_type": "code",
   "execution_count": 43,
   "metadata": {
    "execution": {
     "iopub.execute_input": "2022-10-07T13:36:41.252720Z",
     "iopub.status.busy": "2022-10-07T13:36:41.252188Z",
     "iopub.status.idle": "2022-10-07T13:36:41.258660Z",
     "shell.execute_reply": "2022-10-07T13:36:41.257582Z",
     "shell.execute_reply.started": "2022-10-07T13:36:41.252675Z"
    }
   },
   "outputs": [
    {
     "name": "stdout",
     "output_type": "stream",
     "text": [
      "2\n"
     ]
    }
   ],
   "source": [
    "a = print(1 + 1)  # Wrong!"
   ]
  },
  {
   "cell_type": "code",
   "execution_count": 44,
   "metadata": {
    "execution": {
     "iopub.execute_input": "2022-10-07T13:36:46.124854Z",
     "iopub.status.busy": "2022-10-07T13:36:46.124434Z",
     "iopub.status.idle": "2022-10-07T13:36:46.129551Z",
     "shell.execute_reply": "2022-10-07T13:36:46.128664Z",
     "shell.execute_reply.started": "2022-10-07T13:36:46.124817Z"
    }
   },
   "outputs": [],
   "source": [
    "a  # Nothing is shown!"
   ]
  },
  {
   "cell_type": "code",
   "execution_count": 45,
   "metadata": {
    "execution": {
     "iopub.execute_input": "2022-10-07T13:36:47.844895Z",
     "iopub.status.busy": "2022-10-07T13:36:47.844736Z",
     "iopub.status.idle": "2022-10-07T13:36:47.847761Z",
     "shell.execute_reply": "2022-10-07T13:36:47.847467Z",
     "shell.execute_reply.started": "2022-10-07T13:36:47.844882Z"
    }
   },
   "outputs": [
    {
     "data": {
      "text/plain": [
       "True"
      ]
     },
     "execution_count": 45,
     "metadata": {},
     "output_type": "execute_result"
    }
   ],
   "source": [
    "a is None"
   ]
  },
  {
   "cell_type": "markdown",
   "metadata": {
    "tags": []
   },
   "source": [
    "## Exercises"
   ]
  },
  {
   "cell_type": "markdown",
   "metadata": {},
   "source": [
    "### 1. Find string methods\n",
    "\n",
    "Find which `str` methods achieve this result:\n",
    "\n",
    "| Original | Transformed |\n",
    "| --- | --- |\n",
    "| `\"Tim O'Reilly\"` | `\"tim o'reilly\"` |\n",
    "| `\"Tim O'Reilly\"` | `\"Tom O'Reolly\"` |\n",
    "| `\"tim o'reilly\"` | `\"Tim O'Reilly\"` |\n",
    "| `\"Tim O'Reilly\"` | `\"tIM o'rEILLY\"` |\n",
    "| `\"Tim O'Reilly\"` | `\"    Tim O'Reilly    \"` (20 chars) |\n",
    "| `\"Tim O'Reilly\"` | `\"tIM o'rEILLY\"` |"
   ]
  },
  {
   "cell_type": "markdown",
   "metadata": {},
   "source": [
    "### 2. Weird list\n",
    "\n",
    "Create this list without conditionals, loops, or hardcoding the values:\n",
    "\n",
    "```\n",
    "[49, 0, 47, 0, 45, 0, 43, 0, 41, 0, 39, 0, 37, 0, 35, 0, 33, 0, 31, 0, 29, 0, 27, 0, 25, 0, 23, 0, 21, 0, 19, 0, 17, 0, 15, 0, 13, 0, 11, 0, 9, 0, 7, 0, 5, 0, 3, 0, 1, 0]\n",
    "```"
   ]
  },
  {
   "cell_type": "markdown",
   "metadata": {},
   "source": [
    "### 3. Extract titles\n",
    "\n",
    "Given the following list of names:\n",
    "\n",
    "- Braund, Mr. Owen Harris\n",
    "- Cumings, Mrs. John Bradley (Florence Briggs Thayer)\n",
    "- Heikkinen, Miss. Laina\n",
    "- Futrelle, Mrs. Jacques Heath (Lily May Peel)\n",
    "- Allen, Mr. William Henry\n",
    "\n",
    "Devise which string and slicing methods you can use to extract the titles as such:\n",
    "\n",
    "```\n",
    "\"Mr\"\n",
    "\"Mrs\"\n",
    "\"Miss\"\n",
    "\"Mrs\"\n",
    "\"Mr\"\n",
    "```"
   ]
  }
 ],
 "metadata": {
  "kernelspec": {
   "display_name": "Python 3 (ipykernel)",
   "language": "python",
   "name": "python3"
  },
  "language_info": {
   "codemirror_mode": {
    "name": "ipython",
    "version": 3
   },
   "file_extension": ".py",
   "mimetype": "text/x-python",
   "name": "python",
   "nbconvert_exporter": "python",
   "pygments_lexer": "ipython3",
   "version": "3.9.12"
  }
 },
 "nbformat": 4,
 "nbformat_minor": 4
}
