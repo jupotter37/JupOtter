{
 "cells": [
  {
   "cell_type": "code",
   "execution_count": 7,
   "metadata": {},
   "outputs": [],
   "source": [
    "import os\n",
    "from glob import glob\n",
    "import cv2\n",
    "import numpy as np\n",
    "import matplotlib.pyplot as plt\n",
    "#import dlib\n",
    "import datetime as dt"
   ]
  },
  {
   "cell_type": "markdown",
   "metadata": {},
   "source": [
    "dlib tidak dapat diinstal karena dependency yang dibutuhkan melebihi kapasitas PC saya, dan beberapa soalan juga tidak dapat dilaksanakan karena membutuhkan alokasi storage yang tinggi\n",
    "\n",
    "![storage](https://cdn.discordapp.com/attachments/644704134078922771/1312076221428793424/Screenshot_258.png?ex=674b2db4&is=6749dc34&hm=6df98e56d86e19b88d95924c28c33d0b2354da9ceceabb7e1306b749dae081f1&)"
   ]
  },
  {
   "cell_type": "code",
   "execution_count": 4,
   "metadata": {},
   "outputs": [
    {
     "name": "stdout",
     "output_type": "stream",
     "text": [
      "1914 frames have been saved to d:\\mgodonf\\if4021-handson-main\\data\\fjr\n"
     ]
    }
   ],
   "source": [
    "# Paths\n",
    "VIDEO_PATH = os.path.join(os.getcwd(), 'data', 'Fajrito.mp4')  # Path to the video file\n",
    "FRAMES_DIR = os.path.join(os.getcwd(), 'data', 'fjr')      # Directory to save frames\n",
    "\n",
    "# Create directory for frames if it doesn't exist\n",
    "if not os.path.exists(FRAMES_DIR):\n",
    "    os.makedirs(FRAMES_DIR)\n",
    "\n",
    "# Open video file\n",
    "cap = cv2.VideoCapture(VIDEO_PATH)\n",
    "\n",
    "frame_count = 0\n",
    "while True:\n",
    "    ret, frame = cap.read()\n",
    "    if not ret:  # Break the loop if there are no more frames\n",
    "        break\n",
    "    # Save frame as an image\n",
    "    frame_filename = os.path.join(FRAMES_DIR, f'frame_{frame_count:03d}.jpg')\n",
    "    cv2.imwrite(frame_filename, frame)\n",
    "    frame_count += 1\n",
    "\n",
    "cap.release()\n",
    "print(f\"{frame_count} frames have been saved to {FRAMES_DIR}\")"
   ]
  },
  {
   "cell_type": "code",
   "execution_count": 8,
   "metadata": {},
   "outputs": [
    {
     "name": "stdout",
     "output_type": "stream",
     "text": [
      "5 path pertama: ['d:\\\\mgodonf\\\\if4021-handson-main\\\\data\\\\fjr\\\\frame_000.jpg', 'd:\\\\mgodonf\\\\if4021-handson-main\\\\data\\\\fjr\\\\frame_001.jpg', 'd:\\\\mgodonf\\\\if4021-handson-main\\\\data\\\\fjr\\\\frame_002.jpg', 'd:\\\\mgodonf\\\\if4021-handson-main\\\\data\\\\fjr\\\\frame_003.jpg', 'd:\\\\mgodonf\\\\if4021-handson-main\\\\data\\\\fjr\\\\frame_004.jpg']\n"
     ]
    }
   ],
   "source": [
    "IMGS_PATH = (os.path.join(os.getcwd(), 'data', 'fjr'))\n",
    "list_imgs = glob(IMGS_PATH + '/*.jpg')\n",
    "print(f\"5 path pertama: {list_imgs[:5]}\")"
   ]
  },
  {
   "cell_type": "code",
   "execution_count": 9,
   "metadata": {},
   "outputs": [
    {
     "ename": "ValueError",
     "evalue": "invalid literal for int() with base 10: 'd:\\\\mgodonf\\\\if4021-handson-main\\\\data\\\\fjr\\\\frame_000'",
     "output_type": "error",
     "traceback": [
      "\u001b[1;31m---------------------------------------------------------------------------\u001b[0m",
      "\u001b[1;31mValueError\u001b[0m                                Traceback (most recent call last)",
      "Cell \u001b[1;32mIn[9], line 1\u001b[0m\n\u001b[1;32m----> 1\u001b[0m list_imgs \u001b[38;5;241m=\u001b[39m \u001b[38;5;28msorted\u001b[39m(list_imgs, key\u001b[38;5;241m=\u001b[39m\u001b[38;5;28;01mlambda\u001b[39;00m x: \u001b[38;5;28mint\u001b[39m(x\u001b[38;5;241m.\u001b[39msplit(\u001b[38;5;124m'\u001b[39m\u001b[38;5;124m/\u001b[39m\u001b[38;5;124m'\u001b[39m)[\u001b[38;5;241m-\u001b[39m\u001b[38;5;241m1\u001b[39m]\u001b[38;5;241m.\u001b[39msplit(\u001b[38;5;124m'\u001b[39m\u001b[38;5;124m.\u001b[39m\u001b[38;5;124m'\u001b[39m)[\u001b[38;5;241m0\u001b[39m]))\n\u001b[0;32m      2\u001b[0m \u001b[38;5;28mprint\u001b[39m(\u001b[38;5;124mf\u001b[39m\u001b[38;5;124m\"\u001b[39m\u001b[38;5;124m5 path pertama setelah diurutkan: \u001b[39m\u001b[38;5;132;01m{\u001b[39;00mlist_imgs[:\u001b[38;5;241m5\u001b[39m]\u001b[38;5;132;01m}\u001b[39;00m\u001b[38;5;124m\"\u001b[39m)\n\u001b[0;32m      3\u001b[0m \u001b[38;5;28mprint\u001b[39m(\u001b[38;5;124mf\u001b[39m\u001b[38;5;124m\"\u001b[39m\u001b[38;5;124mTotal jumlah gambar: \u001b[39m\u001b[38;5;132;01m{\u001b[39;00m\u001b[38;5;28mlen\u001b[39m(list_imgs)\u001b[38;5;132;01m}\u001b[39;00m\u001b[38;5;124m\"\u001b[39m)\n",
      "Cell \u001b[1;32mIn[9], line 1\u001b[0m, in \u001b[0;36m<lambda>\u001b[1;34m(x)\u001b[0m\n\u001b[1;32m----> 1\u001b[0m list_imgs \u001b[38;5;241m=\u001b[39m \u001b[38;5;28msorted\u001b[39m(list_imgs, key\u001b[38;5;241m=\u001b[39m\u001b[38;5;28;01mlambda\u001b[39;00m x: \u001b[38;5;28mint\u001b[39m(x\u001b[38;5;241m.\u001b[39msplit(\u001b[38;5;124m'\u001b[39m\u001b[38;5;124m/\u001b[39m\u001b[38;5;124m'\u001b[39m)[\u001b[38;5;241m-\u001b[39m\u001b[38;5;241m1\u001b[39m]\u001b[38;5;241m.\u001b[39msplit(\u001b[38;5;124m'\u001b[39m\u001b[38;5;124m.\u001b[39m\u001b[38;5;124m'\u001b[39m)[\u001b[38;5;241m0\u001b[39m]))\n\u001b[0;32m      2\u001b[0m \u001b[38;5;28mprint\u001b[39m(\u001b[38;5;124mf\u001b[39m\u001b[38;5;124m\"\u001b[39m\u001b[38;5;124m5 path pertama setelah diurutkan: \u001b[39m\u001b[38;5;132;01m{\u001b[39;00mlist_imgs[:\u001b[38;5;241m5\u001b[39m]\u001b[38;5;132;01m}\u001b[39;00m\u001b[38;5;124m\"\u001b[39m)\n\u001b[0;32m      3\u001b[0m \u001b[38;5;28mprint\u001b[39m(\u001b[38;5;124mf\u001b[39m\u001b[38;5;124m\"\u001b[39m\u001b[38;5;124mTotal jumlah gambar: \u001b[39m\u001b[38;5;132;01m{\u001b[39;00m\u001b[38;5;28mlen\u001b[39m(list_imgs)\u001b[38;5;132;01m}\u001b[39;00m\u001b[38;5;124m\"\u001b[39m)\n",
      "\u001b[1;31mValueError\u001b[0m: invalid literal for int() with base 10: 'd:\\\\mgodonf\\\\if4021-handson-main\\\\data\\\\fjr\\\\frame_000'"
     ]
    }
   ],
   "source": [
    "list_imgs = sorted(list_imgs, key=lambda x: int(x.split('/')[-1].split('.')[0]))\n",
    "print(f\"5 path pertama setelah diurutkan: {list_imgs[:5]}\")\n",
    "print(f\"Total jumlah gambar: {len(list_imgs)}\")"
   ]
  },
  {
   "cell_type": "markdown",
   "metadata": {},
   "source": [
    "1. list_imgs adalah fungsi untuk mensortir seluruh frame yang telah dirender sebagai jpg.\n",
    "\n",
    "key mengurutkan sortiran dari nama file.\n",
    "\n",
    "x.split('/') Memisahkan path file berdasarkan karakter / untuk mendapatkan bagian terakhir dari path (nama file).\n",
    "\n",
    "x.split('/')[-1].split('.')[0] Memisahkan nama file berdasarkan titik (.) untuk menghilangkan ekstensi."
   ]
  },
  {
   "cell_type": "code",
   "execution_count": 10,
   "metadata": {},
   "outputs": [
    {
     "ename": "MemoryError",
     "evalue": "Unable to allocate 11.1 GiB for an array with shape (1914, 1080, 1920, 3) and data type uint8",
     "output_type": "error",
     "traceback": [
      "\u001b[1;31m---------------------------------------------------------------------------\u001b[0m",
      "\u001b[1;31mMemoryError\u001b[0m                               Traceback (most recent call last)",
      "Cell \u001b[1;32mIn[10], line 6\u001b[0m\n\u001b[0;32m      3\u001b[0m     img \u001b[38;5;241m=\u001b[39m cv2\u001b[38;5;241m.\u001b[39mimread(img_path)\n\u001b[0;32m      4\u001b[0m     images\u001b[38;5;241m.\u001b[39mappend(img)\n\u001b[1;32m----> 6\u001b[0m images_array \u001b[38;5;241m=\u001b[39m np\u001b[38;5;241m.\u001b[39marray(images)\n\u001b[0;32m      8\u001b[0m \u001b[38;5;28mprint\u001b[39m(\u001b[38;5;124mf\u001b[39m\u001b[38;5;124m\"\u001b[39m\u001b[38;5;124mShape of images_array: \u001b[39m\u001b[38;5;132;01m{\u001b[39;00mimages_array\u001b[38;5;241m.\u001b[39mshape\u001b[38;5;132;01m}\u001b[39;00m\u001b[38;5;124m\"\u001b[39m)\n",
      "\u001b[1;31mMemoryError\u001b[0m: Unable to allocate 11.1 GiB for an array with shape (1914, 1080, 1920, 3) and data type uint8"
     ]
    }
   ],
   "source": [
    "images = []\n",
    "for img_path in list_imgs:\n",
    "    img = cv2.imread(img_path)\n",
    "    images.append(img)\n",
    "\n",
    "images_array = np.array(images)\n",
    "\n",
    "print(f\"Shape of images_array: {images_array.shape}\")"
   ]
  },
  {
   "cell_type": "code",
   "execution_count": 15,
   "metadata": {},
   "outputs": [
    {
     "ename": "IndexError",
     "evalue": "index 0 is out of bounds for axis 0 with size 0",
     "output_type": "error",
     "traceback": [
      "\u001b[1;31m---------------------------------------------------------------------------\u001b[0m",
      "\u001b[1;31mIndexError\u001b[0m                                Traceback (most recent call last)",
      "Cell \u001b[1;32mIn[15], line 3\u001b[0m\n\u001b[0;32m      1\u001b[0m save_loc \u001b[38;5;241m=\u001b[39m os\u001b[38;5;241m.\u001b[39mpath\u001b[38;5;241m.\u001b[39mjoin(os\u001b[38;5;241m.\u001b[39mgetcwd(), \u001b[38;5;124m'\u001b[39m\u001b[38;5;124mdata\u001b[39m\u001b[38;5;124m'\u001b[39m, \u001b[38;5;124m'\u001b[39m\u001b[38;5;124mFajrito.mp4\u001b[39m\u001b[38;5;124m'\u001b[39m)\n\u001b[0;32m      2\u001b[0m fourcc \u001b[38;5;241m=\u001b[39m cv2\u001b[38;5;241m.\u001b[39mVideoWriter_fourcc(\u001b[38;5;241m*\u001b[39m\u001b[38;5;124m'\u001b[39m\u001b[38;5;124mmp4v\u001b[39m\u001b[38;5;124m'\u001b[39m)\n\u001b[1;32m----> 3\u001b[0m height, width, layers \u001b[38;5;241m=\u001b[39m images_array[\u001b[38;5;241m0\u001b[39m]\u001b[38;5;241m.\u001b[39mshape\n\u001b[0;32m      4\u001b[0m video \u001b[38;5;241m=\u001b[39m cv2\u001b[38;5;241m.\u001b[39mVideoWriter(save_loc, fourcc, \u001b[38;5;241m30\u001b[39m, (width, height))\n\u001b[0;32m      6\u001b[0m \u001b[38;5;28;01mfor\u001b[39;00m image \u001b[38;5;129;01min\u001b[39;00m images_array:\n",
      "\u001b[1;31mIndexError\u001b[0m: index 0 is out of bounds for axis 0 with size 0"
     ]
    }
   ],
   "source": [
    "save_loc = os.path.join(os.getcwd(), 'data', 'Fajrito.mp4')\n",
    "fourcc = cv2.VideoWriter_fourcc(*'mp4v')\n",
    "height, width, layers = images_array[0].shape\n",
    "video = cv2.VideoWriter(save_loc, fourcc, 30, (width, height))\n",
    "\n",
    "for image in images_array:\n",
    "    video.write(image)\n",
    "\n",
    "video.release()"
   ]
  },
  {
   "cell_type": "markdown",
   "metadata": {},
   "source": [
    "2. Fourcc (Four Character Code) adalah fungsi untuk mengspesifikasikan codec yang digunakan untuk merender video, yang digunakan disini adalah mp4v (MPEG-4 codec).\n",
    "\n",
    "codec lain dapat digunakan di dalam cv2.VideoWriter_fourcc untuk codec lain, contoh berupa XVID (.avi), H264 (.mp4), dan MJPG (.jpeg)"
   ]
  },
  {
   "cell_type": "code",
   "execution_count": null,
   "metadata": {},
   "outputs": [],
   "source": [
    "VID_PATH = os.path.join(os.getcwd(), 'data', 'Fajrito.mp4')\n",
    "IMGSEQ_PATH = os.path.join(os.getcwd(), 'data', 'fjr-imgseq')\n",
    "\n",
    "if not os.path.exists(IMGSEQ_PATH):\n",
    "    os.makedirs(IMGSEQ_PATH)\n",
    "\n",
    "cap = cv2.VideoCapture(VID_PATH)\n",
    "frame_count = 0\n",
    "\n",
    "while frame_count < 100:\n",
    "    ret, frame = cap.read()\n",
    "    if not ret:\n",
    "        break\n",
    "    cv2.imwrite(os.path.join(IMGSEQ_PATH, f'frame_{frame_count:03d}.jpg'), frame)\n",
    "    frame_count += 1\n",
    "\n",
    "cap.release()\n",
    "print(\"100 frame pertama berhasil disimpan.\")"
   ]
  },
  {
   "cell_type": "markdown",
   "metadata": {},
   "source": [
    "Lower fps"
   ]
  },
  {
   "cell_type": "code",
   "execution_count": 14,
   "metadata": {},
   "outputs": [
    {
     "name": "stdout",
     "output_type": "stream",
     "text": [
      "638 frames berhasil disimpan.\n",
      "Video berhasil disimpan: d:\\mgodonf\\if4021-handson-main\\data\\video_low_fps.mp4\n"
     ]
    }
   ],
   "source": [
    "VID_PATH = os.path.join(os.getcwd(), 'data', 'Fajrito.mp4')\n",
    "IMGSEQ_PATH = os.path.join(os.getcwd(), 'data', 'fjr-imgseq')\n",
    "SAVE_VIDEO_PATH = os.path.join(os.getcwd(), 'data', 'video_low_fps.mp4')\n",
    "\n",
    "# Create directory for frames\n",
    "if not os.path.exists(IMGSEQ_PATH):\n",
    "    os.makedirs(IMGSEQ_PATH)\n",
    "\n",
    "\n",
    "\n",
    "# Capture video\n",
    "cap = cv2.VideoCapture(VID_PATH)\n",
    "original_frames = int(cap.get(cv2.CAP_PROP_FRAME_COUNT))\n",
    "fps = cap.get(cv2.CAP_PROP_FPS)\n",
    "frame_skip = 3\n",
    "total_frames = original_frames // frame_skip\n",
    "frame_count = 0\n",
    "saved_count = 0\n",
    "\n",
    "frames_to_save = []\n",
    "\n",
    "# Process every 3rd frame\n",
    "while True:\n",
    "    ret, frame = cap.read()\n",
    "    if not ret:\n",
    "        break\n",
    "    if frame_count % 3 == 0:  # Save every 3rd frame\n",
    "        # Convert to grayscale\n",
    "        gray_frame = cv2.cvtColor(frame, cv2.COLOR_BGR2GRAY)\n",
    "        \n",
    "        # Resize to 1280x720\n",
    "        gray_frame = cv2.resize(gray_frame, (1280, 720))\n",
    "        \n",
    "        # Convert back to 3-channel RGB\n",
    "        rgb_frame = np.stack([gray_frame] * 3, axis=-1)\n",
    "        \n",
    "        # Add a moving red dot\n",
    "        dot_position = int((saved_count / (total_frames - 1)) * (1280 - 1))  # Horizontal position of dot\n",
    "        dot_position = min(dot_position, 1279)\n",
    "        \n",
    "        rgb_frame[360, dot_position, :] = [255, 0, 0]\n",
    "        \n",
    "        # Save frame to folder\n",
    "        frame_path = os.path.join(IMGSEQ_PATH, f'frame_{saved_count:03d}.jpg')\n",
    "        cv2.imwrite(frame_path, rgb_frame)\n",
    "        frames_to_save.append(rgb_frame)\n",
    "        saved_count += 1\n",
    "    frame_count += 1\n",
    "\n",
    "cap.release()\n",
    "print(f\"{saved_count} frames berhasil disimpan.\")\n",
    "\n",
    "# Create video\n",
    "fourcc = cv2.VideoWriter_fourcc(*'mp4v')\n",
    "height, width, _ = frames_to_save[0].shape\n",
    "video = cv2.VideoWriter(SAVE_VIDEO_PATH, fourcc, 10, (width, height))  # New FPS = 10\n",
    "\n",
    "for frame in frames_to_save:\n",
    "    video.write(frame)\n",
    "\n",
    "video.release()\n",
    "print(f\"Video berhasil disimpan: {SAVE_VIDEO_PATH}\")"
   ]
  }
 ],
 "metadata": {
  "kernelspec": {
   "display_name": "base",
   "language": "python",
   "name": "python3"
  },
  "language_info": {
   "codemirror_mode": {
    "name": "ipython",
    "version": 3
   },
   "file_extension": ".py",
   "mimetype": "text/x-python",
   "name": "python",
   "nbconvert_exporter": "python",
   "pygments_lexer": "ipython3",
   "version": "3.12.4"
  }
 },
 "nbformat": 4,
 "nbformat_minor": 2
}
