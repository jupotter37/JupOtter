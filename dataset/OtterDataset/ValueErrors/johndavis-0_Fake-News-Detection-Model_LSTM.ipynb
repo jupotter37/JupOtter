{
 "cells": [
  {
   "cell_type": "markdown",
   "metadata": {},
   "source": [
    "# Importing Dataset and basic analysis and cleaning"
   ]
  },
  {
   "cell_type": "code",
   "execution_count": 1,
   "metadata": {},
   "outputs": [
    {
     "name": "stdout",
     "output_type": "stream",
     "text": [
      "Real news:  (21417, 4)\n",
      "Fake News:  (23481, 4)\n"
     ]
    }
   ],
   "source": [
    "import pandas as pd\n",
    "# Read the real news dataset\n",
    "real = pd.read_csv(\"../Dataset/True.csv\")\n",
    "\n",
    "# Read the fake news dataset\n",
    "fake = pd.read_csv(\"../Dataset/Fake.csv\")\n",
    "\n",
    "# Shape of real news dataset\n",
    "print(\"Real news: \", real.shape)\n",
    "\n",
    "# Shape of fake news dataset\n",
    "print(\"Fake News: \", fake.shape)\n",
    "\n",
    "# Assigning a value of 0 for all real news data and placing it in the dataframe\n",
    "class0 = [0] * len(real)\n",
    "real.insert(4, \"class\", class0, True)\n",
    "\n",
    "# Assigning a value of 1 for all fake news data and placing it in the dataframe\n",
    "class1 = [1] * len(fake)\n",
    "fake.insert(4, \"class\", class1, True)\n",
    "\n",
    "# Concatenating fake news and real news into one total dataset\n",
    "total = pd.concat([real, fake])\n",
    "total = total.sample(frac=1)\n"
   ]
  },
  {
   "cell_type": "code",
   "execution_count": 2,
   "metadata": {},
   "outputs": [
    {
     "data": {
      "text/html": [
       "<div>\n",
       "<style scoped>\n",
       "    .dataframe tbody tr th:only-of-type {\n",
       "        vertical-align: middle;\n",
       "    }\n",
       "\n",
       "    .dataframe tbody tr th {\n",
       "        vertical-align: top;\n",
       "    }\n",
       "\n",
       "    .dataframe thead th {\n",
       "        text-align: right;\n",
       "    }\n",
       "</style>\n",
       "<table border=\"1\" class=\"dataframe\">\n",
       "  <thead>\n",
       "    <tr style=\"text-align: right;\">\n",
       "      <th></th>\n",
       "      <th>title</th>\n",
       "      <th>text</th>\n",
       "      <th>subject</th>\n",
       "      <th>date</th>\n",
       "      <th>class</th>\n",
       "    </tr>\n",
       "  </thead>\n",
       "  <tbody>\n",
       "    <tr>\n",
       "      <th>19348</th>\n",
       "      <td>A North Korea nuclear test over the Pacific? L...</td>\n",
       "      <td>SEOUL/TOKYO (Reuters) - Detonating a nuclear-t...</td>\n",
       "      <td>worldnews</td>\n",
       "      <td>September 22, 2017</td>\n",
       "      <td>0</td>\n",
       "    </tr>\n",
       "    <tr>\n",
       "      <th>7892</th>\n",
       "      <td>Trump Jr. Offers Up Revolting Praise Of Dad: ...</td>\n",
       "      <td>Don Trump Jr., the privileged, wealthy son of ...</td>\n",
       "      <td>News</td>\n",
       "      <td>February 24, 2016</td>\n",
       "      <td>1</td>\n",
       "    </tr>\n",
       "    <tr>\n",
       "      <th>7976</th>\n",
       "      <td>It Begins: Supreme Court Rejects Racially Ger...</td>\n",
       "      <td>This the worst fear of Republicans, conservati...</td>\n",
       "      <td>News</td>\n",
       "      <td>February 20, 2016</td>\n",
       "      <td>1</td>\n",
       "    </tr>\n",
       "    <tr>\n",
       "      <th>12177</th>\n",
       "      <td>Mexico enshrines army's role in drug war with ...</td>\n",
       "      <td>MEXICO CITY (Reuters) - Mexico s Congress on F...</td>\n",
       "      <td>worldnews</td>\n",
       "      <td>December 15, 2017</td>\n",
       "      <td>0</td>\n",
       "    </tr>\n",
       "    <tr>\n",
       "      <th>14999</th>\n",
       "      <td>Freeport Indonesia mine access road reopened a...</td>\n",
       "      <td>JAKARTA (Reuters) - The Indonesian unit of Fre...</td>\n",
       "      <td>worldnews</td>\n",
       "      <td>November 13, 2017</td>\n",
       "      <td>0</td>\n",
       "    </tr>\n",
       "  </tbody>\n",
       "</table>\n",
       "</div>"
      ],
      "text/plain": [
       "                                                   title  \\\n",
       "19348  A North Korea nuclear test over the Pacific? L...   \n",
       "7892    Trump Jr. Offers Up Revolting Praise Of Dad: ...   \n",
       "7976    It Begins: Supreme Court Rejects Racially Ger...   \n",
       "12177  Mexico enshrines army's role in drug war with ...   \n",
       "14999  Freeport Indonesia mine access road reopened a...   \n",
       "\n",
       "                                                    text    subject  \\\n",
       "19348  SEOUL/TOKYO (Reuters) - Detonating a nuclear-t...  worldnews   \n",
       "7892   Don Trump Jr., the privileged, wealthy son of ...       News   \n",
       "7976   This the worst fear of Republicans, conservati...       News   \n",
       "12177  MEXICO CITY (Reuters) - Mexico s Congress on F...  worldnews   \n",
       "14999  JAKARTA (Reuters) - The Indonesian unit of Fre...  worldnews   \n",
       "\n",
       "                      date  class  \n",
       "19348  September 22, 2017       0  \n",
       "7892     February 24, 2016      1  \n",
       "7976     February 20, 2016      1  \n",
       "12177   December 15, 2017       0  \n",
       "14999   November 13, 2017       0  "
      ]
     },
     "execution_count": 2,
     "metadata": {},
     "output_type": "execute_result"
    }
   ],
   "source": [
    "total.head(5)"
   ]
  },
  {
   "cell_type": "code",
   "execution_count": 3,
   "metadata": {},
   "outputs": [
    {
     "data": {
      "text/html": [
       "<div>\n",
       "<style scoped>\n",
       "    .dataframe tbody tr th:only-of-type {\n",
       "        vertical-align: middle;\n",
       "    }\n",
       "\n",
       "    .dataframe tbody tr th {\n",
       "        vertical-align: top;\n",
       "    }\n",
       "\n",
       "    .dataframe thead th {\n",
       "        text-align: right;\n",
       "    }\n",
       "</style>\n",
       "<table border=\"1\" class=\"dataframe\">\n",
       "  <thead>\n",
       "    <tr style=\"text-align: right;\">\n",
       "      <th></th>\n",
       "      <th>title</th>\n",
       "      <th>class</th>\n",
       "      <th>text</th>\n",
       "    </tr>\n",
       "  </thead>\n",
       "  <tbody>\n",
       "    <tr>\n",
       "      <th>19348</th>\n",
       "      <td>A North Korea nuclear test over the Pacific? L...</td>\n",
       "      <td>0</td>\n",
       "      <td>SEOUL/TOKYO (Reuters) - Detonating a nuclear-t...</td>\n",
       "    </tr>\n",
       "    <tr>\n",
       "      <th>7892</th>\n",
       "      <td>Trump Jr. Offers Up Revolting Praise Of Dad: ...</td>\n",
       "      <td>1</td>\n",
       "      <td>Don Trump Jr., the privileged, wealthy son of ...</td>\n",
       "    </tr>\n",
       "    <tr>\n",
       "      <th>7976</th>\n",
       "      <td>It Begins: Supreme Court Rejects Racially Ger...</td>\n",
       "      <td>1</td>\n",
       "      <td>This the worst fear of Republicans, conservati...</td>\n",
       "    </tr>\n",
       "    <tr>\n",
       "      <th>12177</th>\n",
       "      <td>Mexico enshrines army's role in drug war with ...</td>\n",
       "      <td>0</td>\n",
       "      <td>MEXICO CITY (Reuters) - Mexico s Congress on F...</td>\n",
       "    </tr>\n",
       "    <tr>\n",
       "      <th>14999</th>\n",
       "      <td>Freeport Indonesia mine access road reopened a...</td>\n",
       "      <td>0</td>\n",
       "      <td>JAKARTA (Reuters) - The Indonesian unit of Fre...</td>\n",
       "    </tr>\n",
       "  </tbody>\n",
       "</table>\n",
       "</div>"
      ],
      "text/plain": [
       "                                                   title  class  \\\n",
       "19348  A North Korea nuclear test over the Pacific? L...      0   \n",
       "7892    Trump Jr. Offers Up Revolting Praise Of Dad: ...      1   \n",
       "7976    It Begins: Supreme Court Rejects Racially Ger...      1   \n",
       "12177  Mexico enshrines army's role in drug war with ...      0   \n",
       "14999  Freeport Indonesia mine access road reopened a...      0   \n",
       "\n",
       "                                                    text  \n",
       "19348  SEOUL/TOKYO (Reuters) - Detonating a nuclear-t...  \n",
       "7892   Don Trump Jr., the privileged, wealthy son of ...  \n",
       "7976   This the worst fear of Republicans, conservati...  \n",
       "12177  MEXICO CITY (Reuters) - Mexico s Congress on F...  \n",
       "14999  JAKARTA (Reuters) - The Indonesian unit of Fre...  "
      ]
     },
     "execution_count": 3,
     "metadata": {},
     "output_type": "execute_result"
    }
   ],
   "source": [
    "#shifting class to the end\n",
    "col_to_move = total.pop('class')\n",
    "total['class'] = col_to_move\n",
    "\n",
    "#Extract only the values for title (input) and class (output)\n",
    "data = total[['title','class','text']]\n",
    "data.head()"
   ]
  },
  {
   "cell_type": "code",
   "execution_count": 4,
   "metadata": {},
   "outputs": [
    {
     "name": "stdout",
     "output_type": "stream",
     "text": [
      "Mean Length 80.11171989843646\n",
      "Min Length 8\n",
      "Max Length 286\n"
     ]
    },
    {
     "data": {
      "image/png": "[encoded data removed]",
      "text/plain": [
       "<Figure size 640x480 with 1 Axes>"
      ]
     },
     "metadata": {},
     "output_type": "display_data"
    }
   ],
   "source": [
    "\n",
    "# Character Length of Titles - Min, Mean, Max\n",
    "print('Mean Length', data['title'].apply(len).mean())\n",
    "print('Min Length', data['title'].apply(len).min())\n",
    "print('Max Length', data['title'].apply(len).max())\n",
    "\n",
    "#plotting the frequency of characters on a histogram\n",
    "import seaborn as sns\n",
    "\n",
    "x = data['title'].apply(len).plot.hist()\n"
   ]
  },
  {
   "cell_type": "code",
   "execution_count": 8,
   "metadata": {},
   "outputs": [
    {
     "name": "stdout",
     "output_type": "stream",
     "text": [
      "Number of rows with more than 8000 characters: 1545\n"
     ]
    }
   ],
   "source": [
    "num_rows = (data['text'].str.len() > 3900).sum()\n",
    "print('Number of rows with more than 8000 characters:', num_rows)\n",
    "\n",
    "#Removing rows with more than 8000 characters\n",
    "data = data[data['text'].str.len() < 3900]"
   ]
  },
  {
   "cell_type": "code",
   "execution_count": 9,
   "metadata": {},
   "outputs": [
    {
     "name": "stdout",
     "output_type": "stream",
     "text": [
      "['!', '\"', '#', '$', '%', '&', \"'\", '(', ')', '*', '+', ',', '-', '.', '/', ':', ';', '<', '=', '>', '?', '@', '[', '\\\\', ']', '^', '_', '`', '{', '|', '}', '~', \"'\", '\"']\n"
     ]
    },
    {
     "data": {
      "text/html": [
       "<div>\n",
       "<style scoped>\n",
       "    .dataframe tbody tr th:only-of-type {\n",
       "        vertical-align: middle;\n",
       "    }\n",
       "\n",
       "    .dataframe tbody tr th {\n",
       "        vertical-align: top;\n",
       "    }\n",
       "\n",
       "    .dataframe thead th {\n",
       "        text-align: right;\n",
       "    }\n",
       "</style>\n",
       "<table border=\"1\" class=\"dataframe\">\n",
       "  <thead>\n",
       "    <tr style=\"text-align: right;\">\n",
       "      <th></th>\n",
       "      <th>title</th>\n",
       "      <th>class</th>\n",
       "      <th>text</th>\n",
       "      <th>stop_words_before</th>\n",
       "    </tr>\n",
       "  </thead>\n",
       "  <tbody>\n",
       "    <tr>\n",
       "      <th>19348</th>\n",
       "      <td>a north korea nuclear test over the pacific lo...</td>\n",
       "      <td>0</td>\n",
       "      <td>[S, E, O, U, L, /, T, O, K, Y, O,  , (, R, e, ...</td>\n",
       "      <td>1679</td>\n",
       "    </tr>\n",
       "    <tr>\n",
       "      <th>7892</th>\n",
       "      <td>trump jr offers up revolting praise of dad ‘t...</td>\n",
       "      <td>1</td>\n",
       "      <td>[D, n,  , T, r, u, p,  , J, r, ., ,,  , h, e, ...</td>\n",
       "      <td>1062</td>\n",
       "    </tr>\n",
       "    <tr>\n",
       "      <th>7976</th>\n",
       "      <td>it begins supreme court rejects racially gerr...</td>\n",
       "      <td>1</td>\n",
       "      <td>[T, h,  , h, e,  , w, r,  , f, e, r,  , f,  , ...</td>\n",
       "      <td>672</td>\n",
       "    </tr>\n",
       "    <tr>\n",
       "      <th>12177</th>\n",
       "      <td>mexico enshrines armys role in drug war with d...</td>\n",
       "      <td>0</td>\n",
       "      <td>[M, E, X, I, C, O,  , C, I, T, Y,  , (, R, e, ...</td>\n",
       "      <td>464</td>\n",
       "    </tr>\n",
       "    <tr>\n",
       "      <th>14999</th>\n",
       "      <td>freeport indonesia mine access road reopened a...</td>\n",
       "      <td>0</td>\n",
       "      <td>[J, A, K, A, R, T, A,  , (, R, e, u, e, r, ), ...</td>\n",
       "      <td>171</td>\n",
       "    </tr>\n",
       "  </tbody>\n",
       "</table>\n",
       "</div>"
      ],
      "text/plain": [
       "                                                   title  class  \\\n",
       "19348  a north korea nuclear test over the pacific lo...      0   \n",
       "7892    trump jr offers up revolting praise of dad ‘t...      1   \n",
       "7976    it begins supreme court rejects racially gerr...      1   \n",
       "12177  mexico enshrines armys role in drug war with d...      0   \n",
       "14999  freeport indonesia mine access road reopened a...      0   \n",
       "\n",
       "                                                    text  stop_words_before  \n",
       "19348  [S, E, O, U, L, /, T, O, K, Y, O,  , (, R, e, ...               1679  \n",
       "7892   [D, n,  , T, r, u, p,  , J, r, ., ,,  , h, e, ...               1062  \n",
       "7976   [T, h,  , h, e,  , w, r,  , f, e, r,  , f,  , ...                672  \n",
       "12177  [M, E, X, I, C, O,  , C, I, T, Y,  , (, R, e, ...                464  \n",
       "14999  [J, A, K, A, R, T, A,  , (, R, e, u, e, r, ), ...                171  "
      ]
     },
     "execution_count": 9,
     "metadata": {},
     "output_type": "execute_result"
    }
   ],
   "source": [
    "import string\n",
    "\n",
    "#Lowercase letters\n",
    "data['title'] = data['title'].str.lower()\n",
    "data['text'] = data['text'].str.lower()\n",
    "data.head()\n",
    "\n",
    "\n",
    "#Ensure that all necessary punctuations are in one list\n",
    "#Include ' and \" as they are not default\n",
    "punc = list(string.punctuation)\n",
    "punc.append('\\'')\n",
    "punc.append('\"')\n",
    "print(punc)\n",
    "\n",
    "\n",
    "#Loop through dataframe and remove all punctuations\n",
    "def removePunc(text):\n",
    "    for i in string.punctuation:\n",
    "        text = text.replace(i, '')\n",
    "    return text\n",
    "\n",
    "# Apply to the DF series\n",
    "data['title'] = data['title'].apply(removePunc)\n",
    "data['text'] = data['text'].apply(removePunc)\n",
    "data.head()"
   ]
  },
  {
   "cell_type": "code",
   "execution_count": 6,
   "metadata": {},
   "outputs": [],
   "source": [
    "del class0, class1, col_to_move, fake, real, total,x"
   ]
  },
  {
   "cell_type": "markdown",
   "metadata": {},
   "source": [
    "# Using NLTK"
   ]
  },
  {
   "cell_type": "code",
   "execution_count": 14,
   "metadata": {},
   "outputs": [],
   "source": [
    "#Import nltk preprocessing library to convert text into a readable format\n",
    "import nltk\n",
    "from nltk.stem import WordNetLemmatizer \n",
    "from nltk.corpus import stopwords\n",
    "\n",
    "#nltk.download('punkt')\n",
    "#nltk.download('wordnet')\n",
    "#nltk.download('stopwords')\n",
    "\n",
    "#Tokenize the string (create a list -> each index is a word)\n",
    "#data['title'] = data.apply(lambda row: nltk.word_tokenize(row['title']), axis=1)\n",
    "#data['text'] = data.apply(lambda row: nltk.word_tokenize(row['text']), axis=1)\n",
    "\n",
    "#Define text lemmatization model (eg: walks will be changed to walk)\n",
    "lemmatizer = WordNetLemmatizer()\n",
    "\n",
    "#Loop through title dataframe and lemmatize each word\n",
    "def lemma(data):\n",
    "  return [lemmatizer.lemmatize(w) for w in data]\n",
    "\n",
    "#Apply to dataframe\n",
    "data['title'] = data['title'].apply(lemma)\n",
    "data['text'] = data['text'].apply(lemma)\n",
    "\n",
    "#Define all stopwords in the English language (it, was, for, etc.)\n",
    "stop = stopwords.words('english')\n",
    "\n",
    "#Remove them from our dataframe\n",
    "data['title'] = data['title'].apply(lambda x: [i for i in x if i not in stop])\n",
    "\n",
    "import matplotlib.pyplot as plt\n",
    "\n",
    "# Calculate the number of stop words in each text before the operation\n",
    "#data['stop_words_before'] = data['text'].apply(lambda x: len([i for i in x if i in stop]))\n",
    "\n",
    "# Apply the function to remove stop words\n",
    "data['text'] = data['text'].apply(lambda x: [i for i in x if i not in stop])\n",
    "\n",
    "# Calculate the number of stop words in each text after the operation\n",
    "#data['stop_words_after'] = data['text'].apply(lambda x: len([i for i in x if i in stop]))\n",
    "\n",
    "# Plot the number of stop words before and after the operation\n",
    "#data[['stop_words_before', 'stop_words_after']].plot(kind='bar', figsize=(12, 6))\n",
    "#plt.ylabel('Number of stop words')\n",
    "#plt.show()\n",
    "#data.head()"
   ]
  },
  {
   "cell_type": "markdown",
   "metadata": {},
   "source": [
    "Assign training data and testing data\n",
    "titles = data['title']\n",
    "labels = data['class']\n",
    "OR direct assignment is done below\n",
    "title_train = X_train, title_test = X_test, y_train = y_train, y_test = y_test as per previous knowledge"
   ]
  },
  {
   "cell_type": "code",
   "execution_count": null,
   "metadata": {},
   "outputs": [],
   "source": [
    "from sklearn.model_selection import train_test_split\n",
    "import numpy as np\n",
    "\n",
    "#Split data into training and testing dataset\n",
    "title_train, title_test, y_train, y_test = train_test_split(data['title'], data['class'], test_size=0.2, random_state=1000)"
   ]
  },
  {
   "cell_type": "markdown",
   "metadata": {},
   "source": [
    "# Model Download\n",
    "Run only once."
   ]
  },
  {
   "cell_type": "markdown",
   "metadata": {},
   "source": [
    "'''\n",
    "import tensorflow_hub as hub\n",
    "import requests\n",
    "import os\n",
    "import tarfile\n",
    "\n",
    "### Specify the URL of the model and the location to store it\n",
    "model_url = \"https://tfhub.dev/google/Wiki-words-250/2?tf-hub-format=compressed\"\n",
    "model_dir = \"./\"\n",
    "\n",
    "### Download the model\n",
    "response = requests.get(model_url, stream=True)\n",
    "response.raise_for_status()\n",
    "\n",
    "### Save the model to a .tar.gz file\n",
    "model_file = os.path.join(model_dir, \"model.tar.gz\")\n",
    "with open(model_file, \"wb\") as f:\n",
    "    f.write(response.content)\n",
    "\n",
    "### Extract the model from the .tar.gz file\n",
    "with tarfile.open(model_file, \"r:gz\") as tar:\n",
    "    tar.extractall(path=model_dir)\n",
    "\n",
    "### Load the model from the local directory\n",
    "embed = hub.load(model_dir)"
   ]
  },
  {
   "cell_type": "markdown",
   "metadata": {},
   "source": [
    "# Model Configuration"
   ]
  },
  {
   "cell_type": "code",
   "execution_count": null,
   "metadata": {},
   "outputs": [
    {
     "name": "stdout",
     "output_type": "stream",
     "text": [
      "(35918, 100)\n"
     ]
    }
   ],
   "source": [
    "import tensorflow as tf\n",
    "from gensim.models import Word2Vec\n",
    "from nltk.tokenize import word_tokenize\n",
    "\n",
    "# Tokenizing sentences into words\n",
    "# title_train_tokenized = [word_tokenize(i) for i in title_train]\n",
    "\n",
    "# Training the Word2Vec model\n",
    "model = Word2Vec(sentences=title_train, vector_size=100, window=5, min_count=1, workers=4)\n",
    "\n",
    "# To convert each word in a sentence to its word2vec embedding and average them:\n",
    "indiv = []\n",
    "for sentence in title_train:\n",
    "  sentence_embedding = np.mean([model.wv[word] for word in sentence if word in model.wv.key_to_index], axis=0)\n",
    "  indiv.append(sentence_embedding)\n",
    "\n",
    "# Preprocess the sequences to account for different lengths of words\n",
    "indiv = tf.keras.preprocessing.sequence.pad_sequences(indiv, dtype='float32', padding='post')\n",
    "\n",
    "print(indiv.shape)"
   ]
  },
  {
   "cell_type": "markdown",
   "metadata": {},
   "source": [
    "# Model Training\n",
    "Eroors and solutions\n",
    "1.\n",
    "code: model.fit(indiv, y_train,validation_data=[title_test,y_test],epochs=10)\n",
    "issue : ValueError: Failed to convert a NumPy array to a Tensor (Unsupported object type list).\n",
    "solution 1: \n",
    "The validation_data argument in model.fit() should be a tuple in the form (x_val, y_val), where x_val is the validation input data and y_val is the validation target data.\n",
    "\n",
    "Try changing your code to: model.fit(indiv, y_train, validation_data=(title_test, y_test), epochs=10)\n",
    "\n",
    "Before this line, ensure that title_test and y_test are Numpy arrays or TensorFlow tensors. You can convert a list to a Numpy array using numpy.array(). For example: \n",
    "import numpy as np\n",
    "\n",
    "title_test = np.array(title_test)\n",
    "y_test = np.array(y_test)\n",
    "\n",
    "solution implemented : Numpyarry input need to be converted to tensor"
   ]
  },
  {
   "cell_type": "code",
   "execution_count": null,
   "metadata": {},
   "outputs": [
    {
     "name": "stdout",
     "output_type": "stream",
     "text": [
      "2.16.1\n",
      "c:\\Users\\johnd\\AppData\\Local\\Programs\\Python\\Python312\\Lib\\site-packages\\keras\\__init__.py\n"
     ]
    }
   ],
   "source": [
    "import tensorflow as tf\n",
    "import keras\n",
    "\n",
    "import tensorflow as tf\n",
    "print(tf.__version__)\n",
    "print(keras.__file__)"
   ]
  },
  {
   "cell_type": "code",
   "execution_count": null,
   "metadata": {},
   "outputs": [],
   "source": []
  },
  {
   "cell_type": "code",
   "execution_count": null,
   "metadata": {},
   "outputs": [
    {
     "ename": "ValueError",
     "evalue": "invalid literal for int() with base 10: '’'",
     "output_type": "error",
     "traceback": [
      "\u001b[1;31m---------------------------------------------------------------------------\u001b[0m",
      "\u001b[1;31mValueError\u001b[0m                                Traceback (most recent call last)",
      "Cell \u001b[1;32mIn[27], line 6\u001b[0m\n\u001b[0;32m      2\u001b[0m \u001b[38;5;28;01mfrom\u001b[39;00m \u001b[38;5;21;01msequence\u001b[39;00m \u001b[38;5;28;01mimport\u001b[39;00m pad_sequences\n\u001b[0;32m      4\u001b[0m \u001b[38;5;66;03m# Assuming title_train and title_test are lists of sentences where each sentence is a list of words\u001b[39;00m\n\u001b[0;32m      5\u001b[0m \u001b[38;5;66;03m# Pad sequences for consistent length\u001b[39;00m\n\u001b[1;32m----> 6\u001b[0m title_train_padded \u001b[38;5;241m=\u001b[39m \u001b[43mpad_sequences\u001b[49m\u001b[43m(\u001b[49m\u001b[43mtitle_train\u001b[49m\u001b[43m)\u001b[49m\n\u001b[0;32m      7\u001b[0m title_test_padded \u001b[38;5;241m=\u001b[39m pad_sequences(title_test)\n\u001b[0;32m      9\u001b[0m \u001b[38;5;66;03m# Reshape the padded arrays\u001b[39;00m\n",
      "File \u001b[1;32mc:\\Users\\johnd\\Project\\Program\\LSTM\\sequence.py:116\u001b[0m, in \u001b[0;36mpad_sequences\u001b[1;34m(sequences, maxlen, dtype, padding, truncating, value)\u001b[0m\n\u001b[0;32m    113\u001b[0m     \u001b[38;5;28;01mraise\u001b[39;00m \u001b[38;5;167;01mValueError\u001b[39;00m(\u001b[38;5;124mf\u001b[39m\u001b[38;5;124m'\u001b[39m\u001b[38;5;124mTruncating type \u001b[39m\u001b[38;5;124m\"\u001b[39m\u001b[38;5;132;01m{\u001b[39;00mtruncating\u001b[38;5;132;01m}\u001b[39;00m\u001b[38;5;124m\"\u001b[39m\u001b[38;5;124m not understood\u001b[39m\u001b[38;5;124m'\u001b[39m)\n\u001b[0;32m    115\u001b[0m \u001b[38;5;66;03m# check `trunc` has expected shape\u001b[39;00m\n\u001b[1;32m--> 116\u001b[0m trunc \u001b[38;5;241m=\u001b[39m \u001b[43mnp\u001b[49m\u001b[38;5;241;43m.\u001b[39;49m\u001b[43masarray\u001b[49m\u001b[43m(\u001b[49m\u001b[43mtrunc\u001b[49m\u001b[43m,\u001b[49m\u001b[43m \u001b[49m\u001b[43mdtype\u001b[49m\u001b[38;5;241;43m=\u001b[39;49m\u001b[43mdtype\u001b[49m\u001b[43m)\u001b[49m\n\u001b[0;32m    117\u001b[0m \u001b[38;5;28;01mif\u001b[39;00m trunc\u001b[38;5;241m.\u001b[39mshape[\u001b[38;5;241m1\u001b[39m:] \u001b[38;5;241m!=\u001b[39m sample_shape:\n\u001b[0;32m    118\u001b[0m     \u001b[38;5;28;01mraise\u001b[39;00m \u001b[38;5;167;01mValueError\u001b[39;00m(\n\u001b[0;32m    119\u001b[0m         \u001b[38;5;124mf\u001b[39m\u001b[38;5;124m\"\u001b[39m\u001b[38;5;124mShape of sample \u001b[39m\u001b[38;5;132;01m{\u001b[39;00mtrunc\u001b[38;5;241m.\u001b[39mshape[\u001b[38;5;241m1\u001b[39m:]\u001b[38;5;132;01m}\u001b[39;00m\u001b[38;5;124m of sequence at \u001b[39m\u001b[38;5;124m\"\u001b[39m\n\u001b[0;32m    120\u001b[0m         \u001b[38;5;124mf\u001b[39m\u001b[38;5;124m\"\u001b[39m\u001b[38;5;124mposition \u001b[39m\u001b[38;5;132;01m{\u001b[39;00midx\u001b[38;5;132;01m}\u001b[39;00m\u001b[38;5;124m is different from expected shape \u001b[39m\u001b[38;5;124m\"\u001b[39m\n\u001b[0;32m    121\u001b[0m         \u001b[38;5;124mf\u001b[39m\u001b[38;5;124m\"\u001b[39m\u001b[38;5;132;01m{\u001b[39;00msample_shape\u001b[38;5;132;01m}\u001b[39;00m\u001b[38;5;124m\"\u001b[39m\n\u001b[0;32m    122\u001b[0m     )\n",
      "\u001b[1;31mValueError\u001b[0m: invalid literal for int() with base 10: '’'"
     ]
    }
   ],
   "source": [
    "import numpy as np\n",
    "from sequence import pad_sequences\n",
    "\n",
    "# Assuming title_train and title_test are lists of sentences where each sentence is a list of words\n",
    "# Pad sequences for consistent length\n",
    "title_train_padded = pad_sequences(title_train)\n",
    "title_test_padded = pad_sequences(title_test)\n",
    "\n",
    "# Reshape the padded arrays\n",
    "title_train_reshaped = np.reshape(title_train_padded, (title_train_padded.shape[0], -1))  # -1 infers the correct shape automatically\n",
    "title_test_reshaped = np.reshape(title_test_padded, (title_test_padded.shape[0], -1))\n",
    "\n",
    "# Convert the reshaped arrays to Tensor arrays\n",
    "title_train_tensor = tf.convert_to_tensor(title_train_reshaped, dtype=tf.float32)\n",
    "title_test_tensor = tf.convert_to_tensor(title_test_reshaped, dtype=tf.float32)\n",
    "\n",
    "# Assuming y_train and y_test are already defined and are numpy arrays\n",
    "y_train_tensor = tf.convert_to_tensor(y_train, dtype=tf.float32)\n",
    "y_test_tensor = tf.convert_to_tensor(y_test, dtype=tf.float32)"
   ]
  },
  {
   "cell_type": "code",
   "execution_count": null,
   "metadata": {},
   "outputs": [
    {
     "ename": "ValueError",
     "evalue": "setting an array element with a sequence.",
     "output_type": "error",
     "traceback": [
      "\u001b[1;31m---------------------------------------------------------------------------\u001b[0m",
      "\u001b[1;31mValueError\u001b[0m                                Traceback (most recent call last)",
      "Cell \u001b[1;32mIn[16], line 67\u001b[0m\n\u001b[0;32m     64\u001b[0m model \u001b[38;5;241m=\u001b[39m compile_model(learning_rate\u001b[38;5;241m=\u001b[39m\u001b[38;5;241m1e-3\u001b[39m)\n\u001b[0;32m     66\u001b[0m \u001b[38;5;66;03m# Converting input data to Tensor array\u001b[39;00m\n\u001b[1;32m---> 67\u001b[0m title_train_tensor \u001b[38;5;241m=\u001b[39m \u001b[43mtf\u001b[49m\u001b[38;5;241;43m.\u001b[39;49m\u001b[43mconvert_to_tensor\u001b[49m\u001b[43m(\u001b[49m\u001b[43mtitle_train\u001b[49m\u001b[43m,\u001b[49m\u001b[43m \u001b[49m\u001b[43mdtype\u001b[49m\u001b[38;5;241;43m=\u001b[39;49m\u001b[43mtf\u001b[49m\u001b[38;5;241;43m.\u001b[39;49m\u001b[43mfloat32\u001b[49m\u001b[43m)\u001b[49m\n\u001b[0;32m     68\u001b[0m title_test_tensor \u001b[38;5;241m=\u001b[39m tf\u001b[38;5;241m.\u001b[39mconvert_to_tensor(title_train, dtype\u001b[38;5;241m=\u001b[39mtf\u001b[38;5;241m.\u001b[39mfloat32)\n\u001b[0;32m     69\u001b[0m y_train_tensor \u001b[38;5;241m=\u001b[39m tf\u001b[38;5;241m.\u001b[39mconvert_to_tensor(y_train, dtype\u001b[38;5;241m=\u001b[39mtf\u001b[38;5;241m.\u001b[39mfloat32)\n",
      "File \u001b[1;32mc:\\Users\\johnd\\AppData\\Local\\Programs\\Python\\Python312\\Lib\\site-packages\\tensorflow\\python\\util\\traceback_utils.py:153\u001b[0m, in \u001b[0;36mfilter_traceback.<locals>.error_handler\u001b[1;34m(*args, **kwargs)\u001b[0m\n\u001b[0;32m    151\u001b[0m \u001b[38;5;28;01mexcept\u001b[39;00m \u001b[38;5;167;01mException\u001b[39;00m \u001b[38;5;28;01mas\u001b[39;00m e:\n\u001b[0;32m    152\u001b[0m   filtered_tb \u001b[38;5;241m=\u001b[39m _process_traceback_frames(e\u001b[38;5;241m.\u001b[39m__traceback__)\n\u001b[1;32m--> 153\u001b[0m   \u001b[38;5;28;01mraise\u001b[39;00m e\u001b[38;5;241m.\u001b[39mwith_traceback(filtered_tb) \u001b[38;5;28;01mfrom\u001b[39;00m \u001b[38;5;28;01mNone\u001b[39;00m\n\u001b[0;32m    154\u001b[0m \u001b[38;5;28;01mfinally\u001b[39;00m:\n\u001b[0;32m    155\u001b[0m   \u001b[38;5;28;01mdel\u001b[39;00m filtered_tb\n",
      "File \u001b[1;32mc:\\Users\\johnd\\AppData\\Local\\Programs\\Python\\Python312\\Lib\\site-packages\\tensorflow\\python\\framework\\constant_op.py:108\u001b[0m, in \u001b[0;36mconvert_to_eager_tensor\u001b[1;34m(value, ctx, dtype)\u001b[0m\n\u001b[0;32m    106\u001b[0m     dtype \u001b[38;5;241m=\u001b[39m dtypes\u001b[38;5;241m.\u001b[39mas_dtype(dtype)\u001b[38;5;241m.\u001b[39mas_datatype_enum\n\u001b[0;32m    107\u001b[0m ctx\u001b[38;5;241m.\u001b[39mensure_initialized()\n\u001b[1;32m--> 108\u001b[0m \u001b[38;5;28;01mreturn\u001b[39;00m \u001b[43mops\u001b[49m\u001b[38;5;241;43m.\u001b[39;49m\u001b[43mEagerTensor\u001b[49m\u001b[43m(\u001b[49m\u001b[43mvalue\u001b[49m\u001b[43m,\u001b[49m\u001b[43m \u001b[49m\u001b[43mctx\u001b[49m\u001b[38;5;241;43m.\u001b[39;49m\u001b[43mdevice_name\u001b[49m\u001b[43m,\u001b[49m\u001b[43m \u001b[49m\u001b[43mdtype\u001b[49m\u001b[43m)\u001b[49m\n",
      "\u001b[1;31mValueError\u001b[0m: setting an array element with a sequence."
     ]
    }
   ],
   "source": [
    "import tensorflow as tf\n",
    "from tensorflow.keras.callbacks import EarlyStopping\n",
    "import numpy as np\n",
    "import matplotlib.pyplot as plt\n",
    "\n",
    "def compile_model(learning_rate):\n",
    "    model = tf.keras.models.Sequential()\n",
    "\n",
    "    model.add(tf.keras.layers.LSTM(50, return_sequences=True, dropout=0.2))\n",
    "    model.add(tf.keras.layers.LSTM(50, dropout=0.2))\n",
    "    model.add(tf.keras.layers.BatchNormalization())\n",
    "    model.add(tf.keras.layers.Dense(40, activation='relu'))\n",
    "    model.add(tf.keras.layers.Dense(10, activation='relu'))\n",
    "\n",
    "    model.add(tf.keras.layers.Dense(1, activation='sigmoid'))\n",
    "\n",
    "    model.compile(optimizer=tf.keras.optimizers.Adam(learning_rate=learning_rate),\n",
    "                  loss=\"binary_crossentropy\",\n",
    "                  metrics=['accuracy'])\n",
    "\n",
    "    return model\n",
    "\n",
    "def train_model(model, indiv, y_train, title_test, y_test, epochs, learning_rate, batch_size):\n",
    "    try:\n",
    "        model.compile(optimizer=tf.keras.optimizers.Adam(learning_rate=learning_rate),\n",
    "                      loss=\"binary_crossentropy\",\n",
    "                      metrics=['accuracy'])\n",
    "\n",
    "        early_stopping = EarlyStopping(monitor='val_loss', patience=3)\n",
    "\n",
    "        history = model.fit(indiv, y_train, validation_data=(title_test, y_test), epochs=epochs, batch_size=batch_size)\n",
    "\n",
    "        return history\n",
    "\n",
    "    except Exception as e:\n",
    "        print(f\"Error occurred during training: {e}\")\n",
    "        return None\n",
    "\n",
    "def plot_metrics(history):\n",
    "    if history is not None:\n",
    "        plt.figure(figsize=(12, 4))\n",
    "        plt.subplot(1, 2, 1)\n",
    "        plt.plot(history.history['accuracy'])\n",
    "        plt.plot(history.history['val_accuracy'])\n",
    "        plt.title('Model accuracy')\n",
    "        plt.ylabel('Accuracy')\n",
    "        plt.xlabel('Epoch')\n",
    "        plt.legend(['Train', 'Test'], loc='upper left')\n",
    "\n",
    "        plt.subplot(1, 2, 2)\n",
    "        plt.plot(history.history['loss'])\n",
    "        plt.plot(history.history['val_loss'])\n",
    "        plt.title('Model loss')\n",
    "        plt.ylabel('Loss')\n",
    "        plt.xlabel('Epoch')\n",
    "        plt.legend(['Train', 'Test'], loc='upper left')\n",
    "\n",
    "        plt.tight_layout()\n",
    "        plt.show()\n",
    "    else:\n",
    "        print(\"Cannot plot metrics as history is None.\")\n",
    "\n",
    "# Sequential model has a 50 cell LSTM layer before Dense layers\n",
    "model = compile_model(learning_rate=1e-3)\n",
    "\n",
    "# Converting input data to Tensor array\n",
    "title_train_tensor = tf.convert_to_tensor(title_train)\n",
    "title_test_tensor = tf.convert_to_tensor(title_test)\n",
    "y_train_tensor = tf.convert_to_tensor(y_train)\n",
    "y_test_tensor = tf.convert_to_tensor(y_test)\n",
    "\n",
    "# Train model on 10 epochs / \n",
    "history = train_model(model, title_train_tensor, y_train_tensor, title_test_tensor, y_test_tensor, epochs=10, learning_rate=1e-3, batch_size=32)\n",
    "\n",
    "# Plot training & validation accuracy values\n",
    "plot_metrics(history)\n"
   ]
  }
 ],
 "metadata": {
  "kernelspec": {
   "display_name": "Python 3",
   "language": "python",
   "name": "python3"
  },
  "language_info": {
   "codemirror_mode": {
    "name": "ipython",
    "version": 3
   },
   "file_extension": ".py",
   "mimetype": "text/x-python",
   "name": "python",
   "nbconvert_exporter": "python",
   "pygments_lexer": "ipython3",
   "version": "3.12.1"
  }
 },
 "nbformat": 4,
 "nbformat_minor": 2
}
