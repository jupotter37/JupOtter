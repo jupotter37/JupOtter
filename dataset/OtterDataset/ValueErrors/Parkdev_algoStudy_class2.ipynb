{
 "cells": [
  {
   "cell_type": "code",
   "execution_count": 1,
   "metadata": {},
   "outputs": [
    {
     "name": "stdout",
     "output_type": "stream",
     "text": [
      "[1, 2, 3, 4, 5]\n"
     ]
    }
   ],
   "source": [
    "#2751\n",
    "import sys\n",
    "\n",
    "n = int(sys.stdin.readline().rstrip())\n",
    "nums = []\n",
    "for _ in range(n):\n",
    "  nums.append(int(sys.stdin.readline().rstrip()))\n",
    "nums.sort()\n",
    "for i in (nums):\n",
    "  print (i)"
   ]
  },
  {
   "cell_type": "code",
   "execution_count": 2,
   "metadata": {},
   "outputs": [
    {
     "name": "stdout",
     "output_type": "stream",
     "text": [
      "NO\n"
     ]
    }
   ],
   "source": [
    "#9012\n",
    "n = int(input())\n",
    "for _ in range(n):\n",
    "  result = \"\"\n",
    "  ps = input()\n",
    "  while result == \"\":\n",
    "    if ps == \"\":\n",
    "      result = \"YES\"\n",
    "      break\n",
    "    else:\n",
    "      try:\n",
    "        for i, s in enumerate(ps):\n",
    "          if s == '(':\n",
    "            if ps[i+1] == ')':\n",
    "              ps = ps[:i] + ps[i+2:]\n",
    "              break\n",
    "            else:\n",
    "              continue\n",
    "          else:\n",
    "            result = \"NO\"\n",
    "            break\n",
    "      except:\n",
    "        result = \"NO\"\n",
    "        break\n",
    "  print(result)"
   ]
  },
  {
   "cell_type": "code",
   "execution_count": 6,
   "metadata": {},
   "outputs": [
    {
     "name": "stdout",
     "output_type": "stream",
     "text": [
      "(0, '(')\n",
      "(1, ')')\n",
      ")\n"
     ]
    },
    {
     "ename": "AttributeError",
     "evalue": "'str' object has no attribute 'pop'",
     "output_type": "error",
     "traceback": [
      "\u001b[0;31m---------------------------------------------------------------------------\u001b[0m",
      "\u001b[0;31mAttributeError\u001b[0m                            Traceback (most recent call last)",
      "Cell \u001b[0;32mIn[6], line 5\u001b[0m\n\u001b[1;32m      3\u001b[0m   \u001b[38;5;28mprint\u001b[39m (i)\n\u001b[1;32m      4\u001b[0m \u001b[38;5;28mprint\u001b[39m(a[\u001b[38;5;241m1\u001b[39m])\n\u001b[0;32m----> 5\u001b[0m \u001b[43ma\u001b[49m\u001b[38;5;241;43m.\u001b[39;49m\u001b[43mpop\u001b[49m()\n",
      "\u001b[0;31mAttributeError\u001b[0m: 'str' object has no attribute 'pop'"
     ]
    }
   ],
   "source": [
    "n = int(input())\n",
    "for _ in range(n):\n",
    "  result = \"\"\n",
    "  stack = []\n",
    "  ps = input()\n",
    "  for i in ps:\n",
    "    if i == \"(\":\n",
    "      stack.append(i)\n",
    "    else :\n",
    "      if stack:\n",
    "        stack.pop()\n",
    "      else:\n",
    "        result=\"NO\"\n",
    "        break\n",
    "  else:\n",
    "    if len(stack):\n",
    "      result=\"NO\"\n",
    "    else:\n",
    "      result=\"YES\"\n",
    "  print(result)\n"
   ]
  },
  {
   "cell_type": "code",
   "execution_count": 8,
   "metadata": {},
   "outputs": [
    {
     "name": "stdout",
     "output_type": "stream",
     "text": [
      "2\n",
      "2\n",
      "0\n",
      "2\n",
      "1\n",
      "0\n",
      "-1\n",
      "1\n",
      "-1\n",
      "0\n",
      "3\n"
     ]
    }
   ],
   "source": [
    "#10828 스택\n",
    "import sys\n",
    "stack = []\n",
    "n = int(sys.stdin.readline().rstrip())\n",
    "for _ in range(n):\n",
    "  command = sys.stdin.readline().rstrip()\n",
    "  if command.startswith(\"push\"):\n",
    "    _, num = command.split()\n",
    "    stack.append(int(num))\n",
    "  elif command == \"pop\":\n",
    "    if stack:\n",
    "      print(stack.pop())\n",
    "    else:\n",
    "      print(-1)\n",
    "  elif command == \"size\":\n",
    "    print(len(stack))\n",
    "  elif command == \"empty\":\n",
    "    print(0 if len(stack) else 1)\n",
    "  elif command == \"top\":\n",
    "    if stack:\n",
    "      print(stack[-1])\n",
    "    else:\n",
    "      print(-1) \n",
    "    \n"
   ]
  },
  {
   "cell_type": "code",
   "execution_count": 6,
   "metadata": {},
   "outputs": [
    {
     "name": "stdout",
     "output_type": "stream",
     "text": [
      "[(20, 'Sunyoung'), (21, 'Junkyu'), (21, 'Dohyun')]\n"
     ]
    }
   ],
   "source": [
    "mem = [(21,'Junkyu'),(21,'Dohyun'),(20,'Sunyoung')]\n",
    "\n",
    "sorted_mem = sorted(mem, key= lambda x: x[0])\n",
    "print(sorted_mem)\n"
   ]
  },
  {
   "cell_type": "code",
   "execution_count": 8,
   "metadata": {},
   "outputs": [
    {
     "name": "stdout",
     "output_type": "stream",
     "text": [
      "20 sun\n",
      "21 jun\n",
      "21 do\n"
     ]
    }
   ],
   "source": [
    "#10814\n",
    "import sys\n",
    "\n",
    "n = int(sys.stdin.readline().rstrip())\n",
    "members = []\n",
    "for _ in range(n):\n",
    "  age, name = sys.stdin.readline().split()\n",
    "  members.append((int(age),name))\n",
    "sorted_mem = sorted(members, key= lambda x: x[0])\n",
    "for i, j in sorted_mem:\n",
    "  print(i, j)"
   ]
  },
  {
   "cell_type": "code",
   "execution_count": null,
   "metadata": {},
   "outputs": [],
   "source": []
  },
  {
   "cell_type": "code",
   "execution_count": 1,
   "metadata": {},
   "outputs": [
    {
     "ename": "KeyboardInterrupt",
     "evalue": "",
     "output_type": "error",
     "traceback": [
      "\u001b[0;31m---------------------------------------------------------------------------\u001b[0m",
      "\u001b[0;31mKeyboardInterrupt\u001b[0m                         Traceback (most recent call last)",
      "Cell \u001b[0;32mIn[1], line 3\u001b[0m\n\u001b[1;32m      1\u001b[0m \u001b[38;5;28;01mimport\u001b[39;00m \u001b[38;5;21;01msys\u001b[39;00m\n\u001b[0;32m----> 3\u001b[0m n \u001b[38;5;241m=\u001b[39m \u001b[38;5;28mint\u001b[39m(\u001b[43msys\u001b[49m\u001b[38;5;241;43m.\u001b[39;49m\u001b[43mstdin\u001b[49m\u001b[38;5;241;43m.\u001b[39;49m\u001b[43mreadline\u001b[49m\u001b[43m(\u001b[49m\u001b[43m)\u001b[49m\u001b[38;5;241m.\u001b[39mrstrip())\n\u001b[1;32m      4\u001b[0m cards \u001b[38;5;241m=\u001b[39m \u001b[38;5;28mlist\u001b[39m(\u001b[38;5;28mmap\u001b[39m(\u001b[38;5;28mint\u001b[39m,sys\u001b[38;5;241m.\u001b[39mstdin\u001b[38;5;241m.\u001b[39mreadline()\u001b[38;5;241m.\u001b[39msplit()))\n\u001b[1;32m      5\u001b[0m m \u001b[38;5;241m=\u001b[39m \u001b[38;5;28mint\u001b[39m(sys\u001b[38;5;241m.\u001b[39mstdin\u001b[38;5;241m.\u001b[39mreadline()\u001b[38;5;241m.\u001b[39mrstrip())\n",
      "\u001b[0;31mKeyboardInterrupt\u001b[0m: "
     ]
    }
   ],
   "source": [
    "import sys\n",
    "\n",
    "n = int(sys.stdin.readline().rstrip())\n",
    "cards = list(map(int,sys.stdin.readline().split()))\n",
    "m = int(sys.stdin.readline().rstrip())\n",
    "targets = list(map(int,sys.stdin.readline().split()))\n",
    "\n",
    "dic = dict()\n",
    "\n",
    "for i in cards:\n",
    "    dic[i] = dic.get(i,0)+1\n",
    "\n",
    "for i in targets:\n",
    "    print(dic.get(i,0))"
   ]
  },
  {
   "cell_type": "code",
   "execution_count": 11,
   "metadata": {},
   "outputs": [
    {
     "data": {
      "text/plain": [
       "6"
      ]
     },
     "execution_count": 11,
     "metadata": {},
     "output_type": "execute_result"
    }
   ],
   "source": [
    "def binsearch (arr,target):\n",
    "    start = 0\n",
    "    end = len(arr)-1\n",
    "    \n",
    "    while start <= end:\n",
    "        mid = (start + end) // 2;\n",
    "        if arr[mid] == target:\n",
    "            return mid\n",
    "        elif arr[mid] > target:\n",
    "            end = mid-1\n",
    "        else:\n",
    "            start = mid+1\n",
    "    return -1\n",
    "\n",
    "n = int(input())\n",
    "cards = list(map(int,input().split()))\n",
    "m = int(input())\n",
    "targets = list(map(int,input().split()))\n",
    "count = 0\n",
    "cards.sort()\n",
    "\n",
    "for i in targets:\n",
    "    index = binsearch(cards, i)\n",
    "    if index == -1:\n",
    "        print(0)\n",
    "    else:\n",
    "        count+=1\n",
    "\n",
    "  \n",
    "\n"
   ]
  },
  {
   "cell_type": "code",
   "execution_count": 3,
   "metadata": {},
   "outputs": [
    {
     "name": "stdout",
     "output_type": "stream",
     "text": [
      "2\n",
      "1\n",
      "2\n",
      "0\n",
      "2\n",
      "1\n",
      "-1\n",
      "0\n",
      "0\n",
      "-1\n",
      "0\n",
      "3\n"
     ]
    }
   ],
   "source": [
    "# 10866\n",
    "from collections import deque\n",
    "import sys\n",
    "\n",
    "n = int(sys.stdin.readline())\n",
    "nums = deque()\n",
    "\n",
    "for i in range(n):\n",
    "  request = sys.stdin.readline().rstrip()\n",
    "  try:\n",
    "    if request[:4] == \"push\":\n",
    "      request, num = request.split()\n",
    "      if request == \"push_back\":\n",
    "        nums.append(num)\n",
    "      else:\n",
    "        nums.appendleft(num)\n",
    "    elif request == \"pop_front\":\n",
    "        print(nums.popleft())\n",
    "    elif request == \"pop_back\":\n",
    "        print(nums.pop())\n",
    "    elif request == \"size\":\n",
    "      print(len(nums))\n",
    "    elif request == \"empty\":\n",
    "      if len(nums):\n",
    "        print(0)\n",
    "      else:\n",
    "        print(1)\n",
    "    elif request == \"front\":\n",
    "      print(nums[0])\n",
    "    elif request == \"back\":\n",
    "      print(nums[-1])\n",
    "  except:\n",
    "    print(-1)"
   ]
  },
  {
   "cell_type": "code",
   "execution_count": null,
   "metadata": {},
   "outputs": [],
   "source": [
    "# 10845\n",
    "from collections import deque\n",
    "import sys\n",
    "\n",
    "n = int(sys.stdin.readline())\n",
    "nums = deque()\n",
    "\n",
    "for i in range(n):\n",
    "  request = sys.stdin.readline().split()\n",
    "  try:\n",
    "    if request[0] == \"push\":\n",
    "      nums.append(request[1])\n",
    "    elif request[0] == \"pop\":\n",
    "      print(nums.popleft())\n",
    "    elif request[0] == \"size\":\n",
    "      print(len(nums))\n",
    "    elif request[0] == \"empty\":\n",
    "      if len(nums):\n",
    "        print(0)\n",
    "      else:\n",
    "        print(1)\n",
    "    elif request[0] == \"front\":\n",
    "      print(nums[0])\n",
    "    elif request[0] == \"back\":\n",
    "      print(nums[-1])\n",
    "  except:\n",
    "    print(-1)\n",
    "\n"
   ]
  },
  {
   "cell_type": "code",
   "execution_count": 4,
   "metadata": {},
   "outputs": [
    {
     "name": "stdout",
     "output_type": "stream",
     "text": [
      "10.0\n"
     ]
    }
   ],
   "source": [
    "# 11050\n",
    "import math\n",
    "\n",
    "n, k = map(int,input().split())\n",
    "\n",
    "result = math.factorial(n)/math.factorial(n-k)/math.factorial(k)\n",
    "\n",
    "print(int(result))\n"
   ]
  },
  {
   "cell_type": "code",
   "execution_count": 5,
   "metadata": {},
   "outputs": [
    {
     "name": "stdout",
     "output_type": "stream",
     "text": [
      "10.0\n"
     ]
    }
   ],
   "source": [
    "def fact(n):\n",
    "  if n == 1:\n",
    "    return 1\n",
    "  else:\n",
    "    return n*fact(n-1)\n",
    "  \n",
    "n, k = map(int,input().split())\n",
    "\n",
    "print(int(fact(n)/fact(n-k)/fact(k)))\n",
    "\n"
   ]
  },
  {
   "cell_type": "code",
   "execution_count": 12,
   "metadata": {},
   "outputs": [
    {
     "ename": "IndentationError",
     "evalue": "unindent does not match any outer indentation level (<tokenize>, line 27)",
     "output_type": "error",
     "traceback": [
      "\u001b[0;36m  File \u001b[0;32m<tokenize>:27\u001b[0;36m\u001b[0m\n\u001b[0;31m    answer = min(answer, w_start, b_start)\u001b[0m\n\u001b[0m    ^\u001b[0m\n\u001b[0;31mIndentationError\u001b[0m\u001b[0;31m:\u001b[0m unindent does not match any outer indentation level\n"
     ]
    }
   ],
   "source": [
    "n, m = map(int,input().split())\n",
    "\n",
    "board = []\n",
    "\n",
    "for _ in range(n):\n",
    "  board.append([i for i in input()])\n",
    "\n",
    "answer= n*m\n",
    "\n",
    "for i in range(n-7):\n",
    "  for j in range(m-7):\n",
    "    w_start = 0\n",
    "    b_start = 0\n",
    "    for k in range(8):\n",
    "      for l in range(8):\n",
    "\n",
    "        if (i+k+j+l)%2 == 0:\n",
    "          if board[i+k][j+l] == \"B\":\n",
    "              w_start += 1\n",
    "          if board[i+k][j+l] == \"W\":\n",
    "              b_start += 1\n",
    "        else:\n",
    "           if board[i+k][j+l] == \"W\":\n",
    "              w_start += 1\n",
    "           if board[i+k][j+l] == \"B\":\n",
    "              b_start += 1\n",
    "    answer = min(answer, w_start, b_start)\n",
    "\n",
    "print(answer)\n"
   ]
  },
  {
   "cell_type": "code",
   "execution_count": 20,
   "metadata": {},
   "outputs": [
    {
     "name": "stdout",
     "output_type": "stream",
     "text": [
      "1 -1\n",
      "1 1\n",
      "2 2\n",
      "3 3\n",
      "3 4\n"
     ]
    }
   ],
   "source": [
    "n = int(input())\n",
    "arr = []\n",
    "for _ in range(n):\n",
    "  arr.append(tuple(map(int,input().split())))\n",
    "arr.sort()\n",
    "for i,j in arr:\n",
    "  print(i,j)\n"
   ]
  },
  {
   "cell_type": "code",
   "execution_count": 6,
   "metadata": {},
   "outputs": [
    {
     "name": "stdout",
     "output_type": "stream",
     "text": [
      "<3, 6, 2, 7, 5, 1, 4>\n"
     ]
    }
   ],
   "source": [
    "# 11866\n",
    "\n",
    "\n",
    "n, k = map(int,input().split())\n",
    "arr = [i for i in range(1,n+1)]\n",
    "result = []\n",
    "target = 0\n",
    "while arr:\n",
    "  target += k-1\n",
    "  if len(arr)-1 >= target:\n",
    "    result.append(arr.pop(target))\n",
    "  else:\n",
    "    while target > len(arr)-1:\n",
    "      target -= len(arr)\n",
    "    result.append(arr.pop(target))\n",
    "print('<' + ', '.join(map(str, result)) + '>')\n"
   ]
  },
  {
   "cell_type": "code",
   "execution_count": 8,
   "metadata": {},
   "outputs": [
    {
     "name": "stdout",
     "output_type": "stream",
     "text": [
      "apart: [[1, 2, 3], []]\n",
      "apart: [[1, 2, 3], [1]]\n",
      "apart: [[1, 2, 3], [1, 3]]\n",
      "6\n",
      "apart: [[1, 2, 3], [], []]\n",
      "apart: [[1, 2, 3], [1], []]\n",
      "apart: [[1, 2, 3], [1, 3], []]\n",
      "apart: [[1, 2, 3], [1, 3, 6], []]\n",
      "apart: [[1, 2, 3], [1, 3, 6], [1]]\n",
      "apart: [[1, 2, 3], [1, 3, 6], [1, 4]]\n",
      "10\n"
     ]
    }
   ],
   "source": [
    "# 2775\n",
    "\n",
    "# a층의 b호에 사려면 자신의 아래층의 1호부터 b호까지 사람들의 수의 함만큼 사사람을 데려와 살아야한다.\n",
    "# 2 1 3 2 3 = 6 10\n",
    "\n",
    "# 테스트케이스\n",
    "\n",
    "t = int(input())\n",
    "for _ in range(t):\n",
    "  #k층\n",
    "  k = int(input())\n",
    "  #n호\n",
    "  n = int(input())\n",
    "  apart = [[] for _ in range(k+1)]\n",
    "  apart[0] = [i+1 for i in range(n)]\n",
    "  for i in range(1, k+1):\n",
    "    print(\"apart:\", apart)\n",
    "    apart[i].append(1)\n",
    "    for j in range(1, n):\n",
    "      print(\"apart:\", apart)\n",
    "      apart[i].append(apart[i][j-1] + apart[i-1][j])\n",
    "\n",
    "  print(apart[k][n-1])\n",
    "\n",
    "# 2 - 1 4 10 \n",
    "# 1 - 1 3 6 10 15\n",
    "# 0 - 1 2 3 4 5 6 7 8 9 0\n",
    "\n",
    " "
   ]
  },
  {
   "cell_type": "code",
   "execution_count": null,
   "metadata": {},
   "outputs": [],
   "source": [
    "# 다른풀이\n",
    "\n",
    "t = int(input())\n",
    "for _ in range(t):\n",
    "  #k층\n",
    "  k = int(input())\n",
    "  #n호\n",
    "  n = int(input())\n",
    "  dy = [i for i in range(1, n+1)]\n",
    "\n",
    "  for i in range(k):\n",
    "    for j in range(1, n):\n",
    "      dy[j] += dy[j-1] # 저장은 고려하는 방식\n",
    "\n",
    "  print(dy[-1])"
   ]
  },
  {
   "cell_type": "code",
   "execution_count": 24,
   "metadata": {},
   "outputs": [
    {
     "ename": "ValueError",
     "evalue": "min() arg is an empty sequence",
     "output_type": "error",
     "traceback": [
      "\u001b[0;31m---------------------------------------------------------------------------\u001b[0m",
      "\u001b[0;31mValueError\u001b[0m                                Traceback (most recent call last)",
      "Cell \u001b[0;32mIn[24], line 10\u001b[0m\n\u001b[1;32m      8\u001b[0m   \u001b[38;5;28;01mif\u001b[39;00m remain \u001b[38;5;241m==\u001b[39m \u001b[38;5;241m0\u001b[39m:\n\u001b[1;32m      9\u001b[0m     count\u001b[38;5;241m.\u001b[39mappend(i \u001b[38;5;241m+\u001b[39m (kg\u001b[38;5;241m-\u001b[39mi\u001b[38;5;241m*\u001b[39m\u001b[38;5;241m5\u001b[39m)\u001b[38;5;241m/\u001b[39m\u001b[38;5;241m/\u001b[39m\u001b[38;5;241m3\u001b[39m)\n\u001b[0;32m---> 10\u001b[0m \u001b[38;5;28mprint\u001b[39m(\u001b[38;5;28;43mmin\u001b[39;49m\u001b[43m(\u001b[49m\u001b[43mcount\u001b[49m\u001b[43m)\u001b[49m)\n",
      "\u001b[0;31mValueError\u001b[0m: min() arg is an empty sequence"
     ]
    }
   ],
   "source": [
    "# 2839\n",
    "\n",
    "kg = int(input())\n",
    "count = []\n",
    "\n",
    "for i in range(kg//5+1):\n",
    "  if (kg - i*5) % 3 == 0:\n",
    "    count.append(i + (kg-i*5)//3)\n",
    "if len(count):\n",
    "  print(min(count))\n",
    "else:\n",
    "  print(-1)"
   ]
  },
  {
   "cell_type": "code",
   "execution_count": 22,
   "metadata": {},
   "outputs": [
    {
     "name": "stdout",
     "output_type": "stream",
     "text": [
      "5 0\n"
     ]
    }
   ],
   "source": [
    "#2869\n",
    "a,b,v = map(int,input().split())\n",
    "\n",
    "mbf = v-a\n",
    "\n",
    "day = mbf//(a-b)\n",
    "\n",
    "if mbf % (a- b) > 0:\n",
    "  day += 1\n",
    "\n",
    "day +=1\n",
    "\n",
    "print (day)"
   ]
  },
  {
   "cell_type": "code",
   "execution_count": 7,
   "metadata": {},
   "outputs": [
    {
     "name": "stdout",
     "output_type": "stream",
     "text": [
      "no\n"
     ]
    }
   ],
   "source": [
    "#4949\n",
    "while True:\n",
    "  stack = []\n",
    "  try:\n",
    "    sentence = input()\n",
    "    if sentence == '.':\n",
    "      break\n",
    "    for i in sentence:\n",
    "      if i == '(' or i == '[':\n",
    "        stack.append(i)\n",
    "      if i == ')':\n",
    "        if stack[-1] == '(':\n",
    "          stack.pop()\n",
    "        else:\n",
    "          break\n",
    "      if i == ']':\n",
    "        if stack[-1] == '[':\n",
    "          stack.pop()\n",
    "        else:\n",
    "          break\n",
    "    if len(stack) == 0:\n",
    "      print('yes')\n",
    "    else:\n",
    "      print('no')\n",
    "  except:\n",
    "    print('no')"
   ]
  },
  {
   "cell_type": "code",
   "execution_count": 16,
   "metadata": {},
   "outputs": [
    {
     "ename": "ValueError",
     "evalue": "invalid literal for int() with base 10: ''",
     "output_type": "error",
     "traceback": [
      "\u001b[0;31m---------------------------------------------------------------------------\u001b[0m",
      "\u001b[0;31mValueError\u001b[0m                                Traceback (most recent call last)",
      "Cell \u001b[0;32mIn[16], line 2\u001b[0m\n\u001b[1;32m      1\u001b[0m \u001b[38;5;66;03m# 7568\u001b[39;00m\n\u001b[0;32m----> 2\u001b[0m n \u001b[38;5;241m=\u001b[39m \u001b[38;5;28;43mint\u001b[39;49m\u001b[43m(\u001b[49m\u001b[38;5;28;43minput\u001b[39;49m\u001b[43m(\u001b[49m\u001b[43m)\u001b[49m\u001b[43m)\u001b[49m\n\u001b[1;32m      3\u001b[0m group \u001b[38;5;241m=\u001b[39m []\n\u001b[1;32m      4\u001b[0m \u001b[38;5;28;01mfor\u001b[39;00m _ \u001b[38;5;129;01min\u001b[39;00m \u001b[38;5;28mrange\u001b[39m(n):\n",
      "\u001b[0;31mValueError\u001b[0m: invalid literal for int() with base 10: ''"
     ]
    }
   ],
   "source": [
    "# 7568\n",
    "n = int(input())\n",
    "group = []\n",
    "for _ in range(n):\n",
    "  group.append(list(map(int,input().split())))\n",
    "# n = 5\n",
    "# group = [[55,185],[58,183],[88,186],[60,175],[46,155]]\n",
    "rank = [1]*n\n",
    "for idx, [kg, cm] in enumerate(group):\n",
    "  for i in range(idx+1, n):\n",
    "    if kg<group[i][0] and cm<group[i][1]:\n",
    "      rank[idx]+=1\n",
    "    elif kg>group[i][0] and cm>group[i][1]:\n",
    "      rank[i]+=1\n",
    "    \n",
    "\n",
    "print(*rank)"
   ]
  },
  {
   "cell_type": "code",
   "execution_count": 5,
   "metadata": {},
   "outputs": [
    {
     "name": "stdout",
     "output_type": "stream",
     "text": [
      "0\n"
     ]
    }
   ],
   "source": [
    "#10773\n",
    "n = int(input())\n",
    "note = []\n",
    "for i in range(n):\n",
    "  num = int(input())\n",
    "  if num == 0:\n",
    "    note.pop()\n",
    "    continue\n",
    "  note.append(num)\n",
    "print(sum(note))\n"
   ]
  },
  {
   "cell_type": "code",
   "execution_count": 4,
   "metadata": {},
   "outputs": [
    {
     "ename": "KeyboardInterrupt",
     "evalue": "",
     "output_type": "error",
     "traceback": [
      "\u001b[0;31m---------------------------------------------------------------------------\u001b[0m",
      "\u001b[0;31mKeyboardInterrupt\u001b[0m                         Traceback (most recent call last)",
      "Cell \u001b[0;32mIn[4], line 4\u001b[0m\n\u001b[1;32m      1\u001b[0m \u001b[38;5;66;03m#10989\u001b[39;00m\n\u001b[1;32m      2\u001b[0m \u001b[38;5;28;01mfrom\u001b[39;00m \u001b[38;5;21;01msys\u001b[39;00m \u001b[38;5;28;01mimport\u001b[39;00m stdin\n\u001b[0;32m----> 4\u001b[0m n \u001b[38;5;241m=\u001b[39m \u001b[38;5;28mint\u001b[39m(\u001b[43mstdin\u001b[49m\u001b[38;5;241;43m.\u001b[39;49m\u001b[43mreadline\u001b[49m\u001b[43m(\u001b[49m\u001b[43m)\u001b[49m\u001b[38;5;241m.\u001b[39mrstrip())\n\u001b[1;32m      5\u001b[0m nums \u001b[38;5;241m=\u001b[39m \u001b[38;5;28msorted\u001b[39m([\u001b[38;5;28mint\u001b[39m(stdin\u001b[38;5;241m.\u001b[39mreadline()) \u001b[38;5;28;01mfor\u001b[39;00m _ \u001b[38;5;129;01min\u001b[39;00m \u001b[38;5;28mrange\u001b[39m(n)])\n\u001b[1;32m      6\u001b[0m \u001b[38;5;28;01mfor\u001b[39;00m i \u001b[38;5;129;01min\u001b[39;00m nums:\n",
      "\u001b[0;31mKeyboardInterrupt\u001b[0m: "
     ]
    }
   ],
   "source": [
    "#10989\n",
    "from sys import stdin\n",
    "\n",
    "n = int(stdin.readline().rstrip())\n",
    "nums = sorted([int(stdin.readline()) for _ in range(n)])\n",
    "for i in nums:\n",
    "  print(i)"
   ]
  },
  {
   "cell_type": "code",
   "execution_count": 11,
   "metadata": {},
   "outputs": [
    {
     "name": "stdout",
     "output_type": "stream",
     "text": [
      "1\n",
      "1\n",
      "2\n",
      "2\n",
      "3\n",
      "3\n",
      "4\n",
      "5\n",
      "5\n",
      "7\n"
     ]
    }
   ],
   "source": [
    "#10989 다른풀이\n",
    "\n",
    "import sys\n",
    "\n",
    "# readline = sys.stdin.readline()\n",
    "\n",
    "n = int( sys.stdin.readline())\n",
    "counts = [0]*10000\n",
    "\n",
    "for i in range(n):\n",
    "  counts[int( sys.stdin.readline())-1]+=1\n",
    "\n",
    "for idx, i in len(counts):\n",
    "  if i:\n",
    "    for _ in range(i):\n",
    "      print(idx+1)"
   ]
  },
  {
   "cell_type": "code",
   "execution_count": 18,
   "metadata": {},
   "outputs": [
    {
     "name": "stdout",
     "output_type": "stream",
     "text": [
      "1 1\n",
      "2 1\n",
      "3 1\n"
     ]
    }
   ],
   "source": [
    "n = int(int(input()))\n",
    "coords = []\n",
    "for i in range(n):\n",
    "  coords.append(tuple(map(int,input().split())))\n",
    "coords.sort(key=lambda x : (x[1], x[0]))\n",
    "\n",
    "for i, j in coords:\n",
    "  print(i, j)\n"
   ]
  },
  {
   "cell_type": "code",
   "execution_count": 29,
   "metadata": {},
   "outputs": [
    {
     "name": "stdout",
     "output_type": "stream",
     "text": [
      "100\n"
     ]
    }
   ],
   "source": [
    "#18110\n",
    "import math\n",
    "import sys\n",
    "\n",
    "def custom_round(num):\n",
    "  if num - int(num) == 0.5:\n",
    "    return int(num) + 1\n",
    "  else:\n",
    "    return round(num)\n",
    "\n",
    "\n",
    "n = int(sys.stdin.readline())\n",
    "scores = []\n",
    "if n == 0:\n",
    "  answer = 0\n",
    "else:\n",
    "  for _ in range(n):\n",
    "    scores.append(int(sys.stdin.readline()))\n",
    "  cut = custom_round(len(scores) * 0.15)\n",
    "  scores.sort()\n",
    "  if cut:\n",
    "    answer = custom_round(sum(scores[cut:-cut])/(len(scores)-cut*2))\n",
    "  else:\n",
    "    answer = custom_round(sum(scores)/len(scores))\n",
    "\n",
    "print(answer)\n",
    "\n"
   ]
  },
  {
   "cell_type": "code",
   "execution_count": 34,
   "metadata": {},
   "outputs": [
    {
     "name": "stdout",
     "output_type": "stream",
     "text": [
      "[[0, 0, 0, 0], [0, 0, 0, 0], [0, 0, 0, 1]]\n"
     ]
    }
   ],
   "source": [
    "#18111\n",
    "\n",
    "# n x m  b개의 블록\n",
    "n, m, b = map(int,input().split())\n",
    "land = [list(map(int,input().split())) for _ in range(n)]\n",
    "targets = []\n",
    "result = []\n",
    "\n",
    "for i in range(n):\n",
    "  for j in range(m):\n",
    "    if land[i][j] not in targets:\n",
    "      targets.append(land[i][j])\n",
    "      result.append((land[i][j],0))\n",
    "  \n",
    "    \n",
    "\n",
    "    else:\n",
    "      continue"
   ]
  },
  {
   "cell_type": "code",
   "execution_count": 43,
   "metadata": {},
   "outputs": [
    {
     "ename": "SyntaxError",
     "evalue": "invalid syntax (3177020174.py, line 3)",
     "output_type": "error",
     "traceback": [
      "\u001b[0;36m  Cell \u001b[0;32mIn[43], line 3\u001b[0;36m\u001b[0m\n\u001b[0;31m    if 1 in (lambda x: x=test[0]):\u001b[0m\n\u001b[0m                        ^\u001b[0m\n\u001b[0;31mSyntaxError\u001b[0m\u001b[0;31m:\u001b[0m invalid syntax\n"
     ]
    }
   ],
   "source": [
    "test = [(1,0),(2,1)]\n",
    "\n",
    "if 1 in (lambda x: x=test[0]):\n",
    "  print('yes')\n",
    "else:\n",
    "  print('no')"
   ]
  },
  {
   "cell_type": "code",
   "execution_count": 4,
   "metadata": {},
   "outputs": [
    {
     "name": "stdout",
     "output_type": "stream",
     "text": [
      "7 3 2\n"
     ]
    }
   ],
   "source": [
    "# 30802\n",
    "import sys\n",
    "n = int(sys.stdin.readline())\n",
    "sizes = list(map(int,sys.stdin.readline().split()))\n",
    "t, p = map(int,sys.stdin.readline().split())\n",
    "t_count= 0\n",
    "\n",
    "for i in sizes:\n",
    "  if i % t == 0:\n",
    "    t_count += i//t\n",
    "  else:\n",
    "    t_count += i//t+1\n",
    "p_count = n//p\n",
    "p_left = n%p\n",
    "\n",
    "print(t_count)\n",
    "print(p_count,p_left)"
   ]
  },
  {
   "cell_type": "code",
   "execution_count": 7,
   "metadata": {},
   "outputs": [
    {
     "name": "stdout",
     "output_type": "stream",
     "text": [
      "1\n",
      "2\n",
      "Fizz\n",
      "4\n",
      "Buzz\n",
      "Fizz\n",
      "7\n",
      "8\n",
      "Fizz\n",
      "Buzz\n",
      "11\n",
      "Fizz\n",
      "13\n",
      "14\n",
      "FizzBuzz\n",
      "16\n"
     ]
    }
   ],
   "source": [
    "#28702\n",
    "i = 1\n",
    "fzbz = []\n",
    "while i:\n",
    "  if i%15 == 0:\n",
    "    fzbz.append('FizzBuzz')\n",
    "    i+=1\n",
    "    continue\n",
    "  elif i%3 == 0:\n",
    "    fzbz.append('Fizz')\n",
    "    i+=1\n",
    "    continue\n",
    "  elif i%5 == 0:\n",
    "    fzbz.append('Buzz')\n",
    "    i+=1\n",
    "    continue\n",
    "  fzbz.append(i)\n",
    "  if i == 16:\n",
    "    break\n",
    "  i+=1\n",
    "\n",
    "  "
   ]
  },
  {
   "cell_type": "code",
   "execution_count": 9,
   "metadata": {},
   "outputs": [
    {
     "ename": "TypeError",
     "evalue": "'int' object is not iterable",
     "output_type": "error",
     "traceback": [
      "\u001b[0;31m---------------------------------------------------------------------------\u001b[0m",
      "\u001b[0;31mTypeError\u001b[0m                                 Traceback (most recent call last)",
      "Cell \u001b[0;32mIn[9], line 6\u001b[0m\n\u001b[1;32m      4\u001b[0m \u001b[38;5;28;01mfor\u001b[39;00m _ \u001b[38;5;129;01min\u001b[39;00m \u001b[38;5;28mrange\u001b[39m(\u001b[38;5;241m3\u001b[39m):\n\u001b[1;32m      5\u001b[0m   arr\u001b[38;5;241m.\u001b[39mappend(\u001b[38;5;28minput\u001b[39m())\n\u001b[0;32m----> 6\u001b[0m \u001b[38;5;28;01mfor\u001b[39;00m i \u001b[38;5;129;01min\u001b[39;00m \u001b[38;5;28mlen\u001b[39m(arr):\n\u001b[1;32m      7\u001b[0m   \u001b[38;5;28;01mtry\u001b[39;00m:\n\u001b[1;32m      8\u001b[0m     arr[i] \u001b[38;5;241m=\u001b[39m \u001b[38;5;28mint\u001b[39m(arr[i])\n",
      "\u001b[0;31mTypeError\u001b[0m: 'int' object is not iterable"
     ]
    }
   ],
   "source": [
    "#이어서\n",
    "arr = []\n",
    "key = 0\n",
    "for _ in range(3):\n",
    "  arr.append(input())\n",
    "for idx, i in enumerate(arr):\n",
    "  try:\n",
    "    arr[idx] = int(i)\n",
    "    key = idx\n",
    "    break\n",
    "  except:\n",
    "    continue\n",
    "\n",
    "target = arr[key] + 3 - key\n",
    "\n",
    "if target%15 == 0:\n",
    "  print('FizzBuzz')\n",
    "elif target%3 == 0:\n",
    "  print('Fizz')\n",
    "elif target%5 == 0:\n",
    "  print('Buzz')\n",
    "else:\n",
    "  print(target)\n",
    "\n",
    "\n",
    "    "
   ]
  },
  {
   "cell_type": "code",
   "execution_count": 8,
   "metadata": {},
   "outputs": [
    {
     "ename": "ValueError",
     "evalue": "invalid literal for int() with base 10: 'fizz'",
     "output_type": "error",
     "traceback": [
      "\u001b[0;31m---------------------------------------------------------------------------\u001b[0m",
      "\u001b[0;31mValueError\u001b[0m                                Traceback (most recent call last)",
      "Cell \u001b[0;32mIn[8], line 2\u001b[0m\n\u001b[1;32m      1\u001b[0m a \u001b[38;5;241m=\u001b[39m \u001b[38;5;124m'\u001b[39m\u001b[38;5;124mfizz\u001b[39m\u001b[38;5;124m'\u001b[39m\n\u001b[0;32m----> 2\u001b[0m \u001b[38;5;28mprint\u001b[39m(\u001b[38;5;28;43mint\u001b[39;49m\u001b[43m(\u001b[49m\u001b[43ma\u001b[49m\u001b[43m)\u001b[49m)\n",
      "\u001b[0;31mValueError\u001b[0m: invalid literal for int() with base 10: 'fizz'"
     ]
    }
   ],
   "source": [
    "a = 'fizz'\n",
    "print(int(a))"
   ]
  }
 ],
 "metadata": {
  "kernelspec": {
   "display_name": "Python 3",
   "language": "python",
   "name": "python3"
  },
  "language_info": {
   "codemirror_mode": {
    "name": "ipython",
    "version": 3
   },
   "file_extension": ".py",
   "mimetype": "text/x-python",
   "name": "python",
   "nbconvert_exporter": "python",
   "pygments_lexer": "ipython3",
   "version": "3.10.12"
  }
 },
 "nbformat": 4,
 "nbformat_minor": 2
}
