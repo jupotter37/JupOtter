{
 "cells": [
  {
   "cell_type": "code",
   "execution_count": 9,
   "id": "2ddbe69c-021b-41d1-acc3-06de0cebc5b0",
   "metadata": {},
   "outputs": [
    {
     "name": "stdin",
     "output_type": "stream",
     "text": [
      " 2\n"
     ]
    },
    {
     "name": "stdout",
     "output_type": "stream",
     "text": [
      "2 * 1 = 2\n",
      "2 * 2 = 4\n",
      "2 * 3 = 6\n",
      "2 * 4 = 8\n",
      "2 * 5 = 10\n",
      "2 * 6 = 12\n",
      "2 * 7 = 14\n",
      "2 * 8 = 16\n",
      "2 * 9 = 18\n"
     ]
    }
   ],
   "source": [
    "# 2739 구구단\n",
    "\n",
    "a = int(input())\n",
    "\n",
    "for i in range(1, 10):\n",
    "    print(f'{a} * {i} = {a * i}')"
   ]
  },
  {
   "cell_type": "code",
   "execution_count": 17,
   "id": "d47a619e-2f55-413b-be46-4d6db2ecf3aa",
   "metadata": {},
   "outputs": [
    {
     "name": "stdin",
     "output_type": "stream",
     "text": [
      " 5\n",
      " 1 1\n"
     ]
    },
    {
     "name": "stdout",
     "output_type": "stream",
     "text": [
      "2\n"
     ]
    },
    {
     "name": "stdin",
     "output_type": "stream",
     "text": [
      " 2 3\n"
     ]
    },
    {
     "name": "stdout",
     "output_type": "stream",
     "text": [
      "5\n"
     ]
    },
    {
     "name": "stdin",
     "output_type": "stream",
     "text": [
      " 3 4\n"
     ]
    },
    {
     "name": "stdout",
     "output_type": "stream",
     "text": [
      "7\n"
     ]
    },
    {
     "name": "stdin",
     "output_type": "stream",
     "text": [
      " 9 8\n"
     ]
    },
    {
     "name": "stdout",
     "output_type": "stream",
     "text": [
      "17\n"
     ]
    },
    {
     "name": "stdin",
     "output_type": "stream",
     "text": [
      " 5 2\n"
     ]
    },
    {
     "name": "stdout",
     "output_type": "stream",
     "text": [
      "7\n"
     ]
    }
   ],
   "source": [
    "# 10950 A+B - 3\n",
    "\n",
    "t_case = int(input())\n",
    "\n",
    "for i in range(t_case):\n",
    "    num1, num2 = map(int, input().split())\n",
    "    total = num1 + num2\n",
    "    print(total)"
   ]
  },
  {
   "cell_type": "code",
   "execution_count": 19,
   "id": "54f08996-6d1b-4163-b621-8ee2ae099ebd",
   "metadata": {},
   "outputs": [
    {
     "name": "stdin",
     "output_type": "stream",
     "text": [
      " 10\n"
     ]
    },
    {
     "name": "stdout",
     "output_type": "stream",
     "text": [
      "55\n"
     ]
    }
   ],
   "source": [
    "# 8393 합\n",
    "\n",
    "a = int(input())\n",
    "sum = 0\n",
    "\n",
    "for i in range(a+1):\n",
    "    sum += i\n",
    "print(sum)\n",
    "    \n",
    "    \n"
   ]
  },
  {
   "cell_type": "code",
   "execution_count": 24,
   "id": "ec26d80c-2ea6-4592-b10b-c028467e3d98",
   "metadata": {},
   "outputs": [
    {
     "name": "stdin",
     "output_type": "stream",
     "text": [
      " 250000\n",
      " 4\n",
      " 20000 5\n",
      " 30000 2\n",
      " 10000 6\n",
      " 5000 8\n"
     ]
    },
    {
     "name": "stdout",
     "output_type": "stream",
     "text": [
      "No\n"
     ]
    }
   ],
   "source": [
    "# 4 - 25304 영수증\n",
    "\n",
    "total_price = int(input())\n",
    "total_num = int(input())\n",
    "total = 0\n",
    "\n",
    "for i in range(total_num):\n",
    "    a, b = map(int, input().split())\n",
    "    total += a * b\n",
    "\n",
    "if total == total_price:\n",
    "    print(\"Yes\")\n",
    "else:\n",
    "    print(\"No\")\n"
   ]
  },
  {
   "cell_type": "code",
   "execution_count": 8,
   "id": "0d1a34a1-1dbe-40e9-84db-013f883627d1",
   "metadata": {},
   "outputs": [
    {
     "name": "stdin",
     "output_type": "stream",
     "text": [
      " 20\n"
     ]
    },
    {
     "name": "stdout",
     "output_type": "stream",
     "text": [
      "long long long long long int\n"
     ]
    }
   ],
   "source": [
    "# 5 - 25314 코딩은 체육과목 입니다\n",
    "\n",
    "user = int(input())\n",
    "user_c = user // 4\n",
    "\n",
    "print(\"long \" * user_c, \"int\", sep = \"\")\n",
    "    \n"
   ]
  },
  {
   "cell_type": "code",
   "execution_count": 18,
   "id": "78a1f822-1079-4d69-ae47-ceae4acaddaf",
   "metadata": {},
   "outputs": [
    {
     "name": "stdin",
     "output_type": "stream",
     "text": [
      " 5 1 1 12 34 5 500 40 60 1000 1000\n"
     ]
    },
    {
     "ename": "ValueError",
     "evalue": "invalid literal for int() with base 10: '5 1 1 12 34 5 500 40 60 1000 1000'",
     "output_type": "error",
     "traceback": [
      "\u001b[1;31m---------------------------------------------------------------------------\u001b[0m",
      "\u001b[1;31mValueError\u001b[0m                                Traceback (most recent call last)",
      "Cell \u001b[1;32mIn[18], line 4\u001b[0m\n\u001b[0;32m      1\u001b[0m \u001b[38;5;66;03m# 6 - 15552 빠른 A+B\u001b[39;00m\n\u001b[0;32m      3\u001b[0m \u001b[38;5;28;01mimport\u001b[39;00m \u001b[38;5;21;01msys\u001b[39;00m \n\u001b[1;32m----> 4\u001b[0m num_case \u001b[38;5;241m=\u001b[39m \u001b[38;5;28;43mint\u001b[39;49m\u001b[43m(\u001b[49m\u001b[38;5;28;43minput\u001b[39;49m\u001b[43m(\u001b[49m\u001b[43m)\u001b[49m\u001b[43m)\u001b[49m\n\u001b[0;32m      6\u001b[0m \u001b[38;5;28;01mfor\u001b[39;00m i \u001b[38;5;129;01min\u001b[39;00m \u001b[38;5;28mrange\u001b[39m(num_case):\n\u001b[0;32m      7\u001b[0m     a, b \u001b[38;5;241m=\u001b[39m \u001b[38;5;28mmap\u001b[39m(\u001b[38;5;28mint\u001b[39m, sys\u001b[38;5;241m.\u001b[39mstdin\u001b[38;5;241m.\u001b[39mreadline()\u001b[38;5;241m.\u001b[39msplit())\n",
      "\u001b[1;31mValueError\u001b[0m: invalid literal for int() with base 10: '5 1 1 12 34 5 500 40 60 1000 1000'"
     ]
    }
   ],
   "source": [
    "# 6 - 15552 빠른 A+B\n",
    "\n",
    "import sys \n",
    "num_case = int(input())\n",
    "\n",
    "for i in range(num_case):\n",
    "    a, b = map(int, sys.stdin.readline().split())\n",
    "    print(a+b)\n",
    "\n"
   ]
  },
  {
   "cell_type": "code",
   "execution_count": 23,
   "id": "ce9e87e5-51dd-4cbb-a725-23829d3f49a7",
   "metadata": {},
   "outputs": [
    {
     "name": "stdin",
     "output_type": "stream",
     "text": [
      " 1\n",
      " 1 1\n"
     ]
    },
    {
     "name": "stdout",
     "output_type": "stream",
     "text": [
      "Case #1: 2\n"
     ]
    }
   ],
   "source": [
    "# 7\t11021\tA+B - 7\n",
    "\n",
    "n = int(input())\n",
    "\n",
    "for i in range(n):\n",
    "    a, b = map(int, input().split())\n",
    "    print(f\"Case #{i+1}: {a+b}\")"
   ]
  },
  {
   "cell_type": "code",
   "execution_count": 26,
   "id": "610b8136-998d-43aa-a139-6c711e834f57",
   "metadata": {},
   "outputs": [
    {
     "name": "stdin",
     "output_type": "stream",
     "text": [
      " 2\n",
      " 1 1\n"
     ]
    },
    {
     "name": "stdout",
     "output_type": "stream",
     "text": [
      "Case #1: 1 + 1 = 2\n"
     ]
    },
    {
     "name": "stdin",
     "output_type": "stream",
     "text": [
      " 2 3\n"
     ]
    },
    {
     "name": "stdout",
     "output_type": "stream",
     "text": [
      "Case #2: 2 + 3 = 5\n"
     ]
    }
   ],
   "source": [
    "# 8\t11022\tA+B - 8\n",
    "\n",
    "n = int(input())\n",
    "\n",
    "for i in range(n):\n",
    "    a, b = map(int, input().split())\n",
    "    print(f'Case #{i+1}: {a} + {b} = {a+b}')\n"
   ]
  },
  {
   "cell_type": "code",
   "execution_count": 6,
   "id": "48370622-ae8a-4e2c-a5b7-4b6618f9ceb8",
   "metadata": {},
   "outputs": [
    {
     "name": "stdin",
     "output_type": "stream",
     "text": [
      " 5\n"
     ]
    },
    {
     "name": "stdout",
     "output_type": "stream",
     "text": [
      "*\n",
      "**\n",
      "***\n",
      "****\n",
      "*****\n"
     ]
    }
   ],
   "source": [
    "# 9\t2438\t별 찍기 - 1\n",
    "\n",
    "a = int(input())\n",
    "\n",
    "for i in range(1, a+1):\n",
    "    print('*'*i)"
   ]
  },
  {
   "cell_type": "code",
   "execution_count": 14,
   "id": "36ff386a-1c85-480b-a098-c1884dfb4046",
   "metadata": {},
   "outputs": [
    {
     "name": "stdin",
     "output_type": "stream",
     "text": [
      " 5\n"
     ]
    },
    {
     "name": "stdout",
     "output_type": "stream",
     "text": [
      "    *\n",
      "   **\n",
      "  ***\n",
      " ****\n",
      "*****\n"
     ]
    }
   ],
   "source": [
    "# 10\t2439\t별 찍기 - 2\n",
    "\n",
    "a = int(input())\n",
    "\n",
    "for i in range(1, a+1):\n",
    "    print(\" \" * (a-i) + '*' * i, sep = \"\")"
   ]
  },
  {
   "cell_type": "code",
   "execution_count": 3,
   "id": "c141c451-47d3-4a3c-83ae-d4e838462623",
   "metadata": {},
   "outputs": [
    {
     "name": "stdin",
     "output_type": "stream",
     "text": [
      " 1 1\n"
     ]
    },
    {
     "name": "stdout",
     "output_type": "stream",
     "text": [
      "2\n"
     ]
    },
    {
     "name": "stdin",
     "output_type": "stream",
     "text": [
      " 2 3\n"
     ]
    },
    {
     "name": "stdout",
     "output_type": "stream",
     "text": [
      "5\n"
     ]
    },
    {
     "name": "stdin",
     "output_type": "stream",
     "text": [
      " 0 0\n"
     ]
    }
   ],
   "source": [
    "# 11\t10952\tA+B - 5\n",
    "\n",
    "while True:\n",
    "    a, b = map(int, input().split())\n",
    "    if (a == 0) & (b == 0):\n",
    "        break\n",
    "    else :\n",
    "        print(a + b)\n",
    "\n"
   ]
  },
  {
   "cell_type": "code",
   "execution_count": 5,
   "id": "4298dfc2-aae1-4978-9180-e7ac8a5c97e5",
   "metadata": {},
   "outputs": [
    {
     "name": "stdin",
     "output_type": "stream",
     "text": [
      " 1 1\n"
     ]
    },
    {
     "name": "stdout",
     "output_type": "stream",
     "text": [
      "2\n"
     ]
    },
    {
     "name": "stdin",
     "output_type": "stream",
     "text": [
      " \n"
     ]
    }
   ],
   "source": [
    "# 12\t10951\tA+B - 4\n",
    "\n",
    "while True:\n",
    "    try :\n",
    "        a, b = map(int, input().split())\n",
    "        print(a+b)\n",
    "    except:\n",
    "        break\n",
    "        \n",
    "    \n"
   ]
  },
  {
   "cell_type": "code",
   "execution_count": null,
   "id": "569a2f13-1a82-4d42-9c30-bd3b4a266e84",
   "metadata": {},
   "outputs": [],
   "source": []
  }
 ],
 "metadata": {
  "kernelspec": {
   "display_name": "Python 3 (ipykernel)",
   "language": "python",
   "name": "python3"
  },
  "language_info": {
   "codemirror_mode": {
    "name": "ipython",
    "version": 3
   },
   "file_extension": ".py",
   "mimetype": "text/x-python",
   "name": "python",
   "nbconvert_exporter": "python",
   "pygments_lexer": "ipython3",
   "version": "3.9.12"
  }
 },
 "nbformat": 4,
 "nbformat_minor": 5
}
