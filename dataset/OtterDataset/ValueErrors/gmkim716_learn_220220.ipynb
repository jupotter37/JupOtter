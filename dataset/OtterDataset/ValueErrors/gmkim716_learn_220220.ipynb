{
 "cells": [
  {
   "cell_type": "code",
   "execution_count": 1,
   "id": "804227c2-79d6-4108-b385-3e28a32a975c",
   "metadata": {},
   "outputs": [],
   "source": [
    "# Silver IV\n",
    "# 10866 덱"
   ]
  },
  {
   "cell_type": "code",
   "execution_count": 9,
   "id": "09aac43f-fdf6-4812-8a6c-8d434d0c2ad0",
   "metadata": {},
   "outputs": [
    {
     "name": "stdin",
     "output_type": "stream",
     "text": [
      " 15\n",
      " push_back 1\n",
      " push_front 2\n",
      " front\n"
     ]
    },
    {
     "name": "stdout",
     "output_type": "stream",
     "text": [
      "2\n"
     ]
    },
    {
     "name": "stdin",
     "output_type": "stream",
     "text": [
      " back\n"
     ]
    },
    {
     "name": "stdout",
     "output_type": "stream",
     "text": [
      "1\n"
     ]
    },
    {
     "name": "stdin",
     "output_type": "stream",
     "text": [
      " size\n"
     ]
    },
    {
     "name": "stdout",
     "output_type": "stream",
     "text": [
      "2\n"
     ]
    },
    {
     "name": "stdin",
     "output_type": "stream",
     "text": [
      " empty\n"
     ]
    },
    {
     "name": "stdout",
     "output_type": "stream",
     "text": [
      "0\n"
     ]
    },
    {
     "name": "stdin",
     "output_type": "stream",
     "text": [
      " pop_front\n"
     ]
    },
    {
     "name": "stdout",
     "output_type": "stream",
     "text": [
      "2\n"
     ]
    },
    {
     "name": "stdin",
     "output_type": "stream",
     "text": [
      " pop_back\n"
     ]
    },
    {
     "name": "stdout",
     "output_type": "stream",
     "text": [
      "1\n"
     ]
    },
    {
     "name": "stdin",
     "output_type": "stream",
     "text": [
      " pop_front\n"
     ]
    },
    {
     "name": "stdout",
     "output_type": "stream",
     "text": [
      "-1\n"
     ]
    },
    {
     "name": "stdin",
     "output_type": "stream",
     "text": [
      " size\n"
     ]
    },
    {
     "name": "stdout",
     "output_type": "stream",
     "text": [
      "0\n"
     ]
    },
    {
     "name": "stdin",
     "output_type": "stream",
     "text": [
      " empty\n"
     ]
    },
    {
     "name": "stdout",
     "output_type": "stream",
     "text": [
      "1\n"
     ]
    },
    {
     "name": "stdin",
     "output_type": "stream",
     "text": [
      " pop_back\n"
     ]
    },
    {
     "name": "stdout",
     "output_type": "stream",
     "text": [
      "-1\n"
     ]
    },
    {
     "name": "stdin",
     "output_type": "stream",
     "text": [
      " push_front 3\n",
      " empty\n"
     ]
    },
    {
     "name": "stdout",
     "output_type": "stream",
     "text": [
      "0\n"
     ]
    },
    {
     "name": "stdin",
     "output_type": "stream",
     "text": [
      " front\n"
     ]
    },
    {
     "name": "stdout",
     "output_type": "stream",
     "text": [
      "3\n"
     ]
    }
   ],
   "source": [
    "from collections import deque\n",
    "q = deque()\n",
    "N = int(input())\n",
    "for i in range(N):\n",
    "    order = input().split()\n",
    "    if order[0] == 'push_front':\n",
    "        q.insert(0, order[1])\n",
    "    elif order[0] == 'push_back':\n",
    "        q.append(order[1])\n",
    "    elif order[0] == 'pop_front':\n",
    "        if len(q) == 0:\n",
    "            print(-1)\n",
    "        else:\n",
    "            print(q.popleft())\n",
    "    elif order[0] == 'pop_back':\n",
    "        if len(q) == 0:\n",
    "            print(-1)\n",
    "        else:\n",
    "            print(q.pop())\n",
    "    elif order[0] == 'size':\n",
    "        print(len(q))\n",
    "    elif order[0] == 'empty':\n",
    "        if len(q) == 0:\n",
    "            print(1)\n",
    "        else:\n",
    "            print(0)\n",
    "    elif order[0] == 'front':\n",
    "        if len(q) == 0:\n",
    "            print(-1)\n",
    "        else:\n",
    "            print(q[0])\n",
    "    elif order[0] == 'back':\n",
    "        if len(q) == 0:\n",
    "            print(-1)\n",
    "        else:\n",
    "            print(q[-1])"
   ]
  },
  {
   "cell_type": "markdown",
   "id": "b1b4a3ca-4e64-41a6-b652-fb73cef62055",
   "metadata": {},
   "source": [
    "---"
   ]
  },
  {
   "cell_type": "code",
   "execution_count": 12,
   "id": "8516f05c-374f-42f3-a746-b902b83a12f7",
   "metadata": {},
   "outputs": [],
   "source": [
    "# Siver V\n",
    "# 11651 좌표 정렬하기 2"
   ]
  },
  {
   "cell_type": "code",
   "execution_count": 18,
   "id": "b4790ea2-12de-4014-923d-3e4e7cebcbb9",
   "metadata": {},
   "outputs": [
    {
     "name": "stdin",
     "output_type": "stream",
     "text": [
      " 5\n",
      " 0 4\n",
      " 1 2\n",
      " 1 -1\n",
      " 2 2\n",
      " 3 3\n"
     ]
    },
    {
     "name": "stdout",
     "output_type": "stream",
     "text": [
      "1 -1\n",
      "1 2\n",
      "2 2\n",
      "3 3\n",
      "0 4\n"
     ]
    }
   ],
   "source": [
    "N = int(input())\n",
    "li = []\n",
    "for i in range(N):\n",
    "    x, y = map(int, input().split())\n",
    "    li.append([x, y])\n",
    "li = sorted(li, key = lambda a: (a[1], a[0]))\n",
    "\n",
    "for i in li:\n",
    "    print(i[0], i[1])"
   ]
  },
  {
   "cell_type": "markdown",
   "id": "4c8ddb8f-66b4-4abe-948e-7f2b417ef09c",
   "metadata": {},
   "source": [
    "---"
   ]
  },
  {
   "cell_type": "code",
   "execution_count": 19,
   "id": "f4546775-d556-4ffc-83f4-b9e4552a6403",
   "metadata": {},
   "outputs": [],
   "source": [
    "# Silver IV\n",
    "# 2108 통계학"
   ]
  },
  {
   "cell_type": "code",
   "execution_count": 62,
   "id": "107ca31b-0301-462e-87ad-f8075b85075a",
   "metadata": {},
   "outputs": [
    {
     "ename": "ValueError",
     "evalue": "invalid literal for int() with base 10: ''",
     "output_type": "error",
     "traceback": [
      "\u001b[1;31m---------------------------------------------------------------------------\u001b[0m",
      "\u001b[1;31mValueError\u001b[0m                                Traceback (most recent call last)",
      "\u001b[1;32m~\\AppData\\Local\\Temp/ipykernel_10580/615759237.py\u001b[0m in \u001b[0;36m<module>\u001b[1;34m\u001b[0m\n\u001b[0;32m      2\u001b[0m \u001b[1;32mfrom\u001b[0m \u001b[0mcollections\u001b[0m \u001b[1;32mimport\u001b[0m \u001b[0mCounter\u001b[0m\u001b[1;33m\u001b[0m\u001b[1;33m\u001b[0m\u001b[0m\n\u001b[0;32m      3\u001b[0m \u001b[1;33m\u001b[0m\u001b[0m\n\u001b[1;32m----> 4\u001b[1;33m \u001b[0mN\u001b[0m \u001b[1;33m=\u001b[0m \u001b[0mint\u001b[0m\u001b[1;33m(\u001b[0m\u001b[0msys\u001b[0m\u001b[1;33m.\u001b[0m\u001b[0mstdin\u001b[0m\u001b[1;33m.\u001b[0m\u001b[0mreadline\u001b[0m\u001b[1;33m(\u001b[0m\u001b[1;33m)\u001b[0m\u001b[1;33m)\u001b[0m\u001b[1;33m\u001b[0m\u001b[1;33m\u001b[0m\u001b[0m\n\u001b[0m\u001b[0;32m      5\u001b[0m \u001b[0mli\u001b[0m \u001b[1;33m=\u001b[0m \u001b[0msorted\u001b[0m\u001b[1;33m(\u001b[0m\u001b[1;33m[\u001b[0m\u001b[0mint\u001b[0m\u001b[1;33m(\u001b[0m\u001b[0msys\u001b[0m\u001b[1;33m.\u001b[0m\u001b[0mstdin\u001b[0m\u001b[1;33m.\u001b[0m\u001b[0mreadline\u001b[0m\u001b[1;33m(\u001b[0m\u001b[1;33m)\u001b[0m\u001b[1;33m)\u001b[0m \u001b[1;32mfor\u001b[0m \u001b[0mi\u001b[0m \u001b[1;32min\u001b[0m \u001b[0mrange\u001b[0m\u001b[1;33m(\u001b[0m\u001b[0mN\u001b[0m\u001b[1;33m)\u001b[0m\u001b[1;33m]\u001b[0m\u001b[1;33m)\u001b[0m\u001b[1;33m\u001b[0m\u001b[1;33m\u001b[0m\u001b[0m\n\u001b[0;32m      6\u001b[0m \u001b[0mc\u001b[0m \u001b[1;33m=\u001b[0m \u001b[0mCounter\u001b[0m\u001b[1;33m(\u001b[0m\u001b[0mli\u001b[0m\u001b[1;33m)\u001b[0m\u001b[1;33m.\u001b[0m\u001b[0mmost_common\u001b[0m\u001b[1;33m(\u001b[0m\u001b[1;36m2\u001b[0m\u001b[1;33m)\u001b[0m\u001b[1;33m\u001b[0m\u001b[1;33m\u001b[0m\u001b[0m\n",
      "\u001b[1;31mValueError\u001b[0m: invalid literal for int() with base 10: ''"
     ]
    }
   ],
   "source": [
    "import sys\n",
    "from collections import Counter\n",
    "\n",
    "N = int(sys.stdin.readline())\n",
    "li = sorted([int(sys.stdin.readline()) for i in range(N)])\n",
    "c = Counter(li).most_common(2)\n",
    "\n",
    "print(round(sum(li)/len(li)))\n",
    "print(li[N//2])\n",
    "\n",
    "if len(c)>=2:\n",
    "    if c[0][1] != c[1][1]:\n",
    "        print(c[0][0])\n",
    "    elif c[0][1] == c[1][1]:\n",
    "        print(c[1][0])\n",
    "else:\n",
    "    print(c[0][0])\n",
    "\n",
    "print(max(li)-min(li))\n"
   ]
  },
  {
   "cell_type": "markdown",
   "id": "2d21e65b-8a86-4304-ac28-10302ef5eae2",
   "metadata": {},
   "source": [
    "---"
   ]
  },
  {
   "cell_type": "code",
   "execution_count": 1,
   "id": "d83a2af7-4b4b-4daf-b39b-2924342b8491",
   "metadata": {},
   "outputs": [],
   "source": [
    "# Siver III\n",
    "# 10989 수 정렬하기 3"
   ]
  },
  {
   "cell_type": "code",
   "execution_count": 8,
   "id": "aea9bdbc-6eca-42ed-ae5b-828a5952c1d6",
   "metadata": {},
   "outputs": [
    {
     "name": "stdin",
     "output_type": "stream",
     "text": [
      " 10\n",
      " 5\n",
      " 2\n",
      " 3\n",
      " 1\n",
      " 4\n",
      " 2\n",
      " 3\n",
      " 5\n",
      " 1\n",
      " 7\n"
     ]
    },
    {
     "name": "stdout",
     "output_type": "stream",
     "text": [
      "1\n",
      "1\n",
      "2\n",
      "2\n",
      "3\n",
      "3\n",
      "4\n",
      "5\n",
      "5\n",
      "7\n"
     ]
    }
   ],
   "source": [
    "import sys\n",
    "\n",
    "N = int(sys.stdin.readline())\n",
    "li = [0] * 10001\n",
    "for i in range(N):\n",
    "    num = int(sys.stdin.readline())\n",
    "    li[num] += 1\n",
    "\n",
    "for i in range(len(li)):\n",
    "    while li[i]:\n",
    "        print(i)\n",
    "        li[i] -= 1"
   ]
  },
  {
   "cell_type": "code",
   "execution_count": null,
   "id": "75a2d027-4569-4c60-93c5-725ee20a5ddc",
   "metadata": {},
   "outputs": [],
   "source": []
  }
 ],
 "metadata": {
  "kernelspec": {
   "display_name": "Python 3 (ipykernel)",
   "language": "python",
   "name": "python3"
  },
  "language_info": {
   "codemirror_mode": {
    "name": "ipython",
    "version": 3
   },
   "file_extension": ".py",
   "mimetype": "text/x-python",
   "name": "python",
   "nbconvert_exporter": "python",
   "pygments_lexer": "ipython3",
   "version": "3.8.12"
  }
 },
 "nbformat": 4,
 "nbformat_minor": 5
}
