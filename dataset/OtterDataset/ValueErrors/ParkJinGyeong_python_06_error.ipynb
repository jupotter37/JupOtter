{
 "cells": [
  {
   "cell_type": "markdown",
   "id": "a6d70626-4097-4457-bea1-124d4d7c5734",
   "metadata": {},
   "source": [
    "### syntax error"
   ]
  },
  {
   "cell_type": "markdown",
   "id": "68f06dac-de29-4924-9ed4-0ffac6fa486b",
   "metadata": {},
   "source": [
    "### exception"
   ]
  },
  {
   "cell_type": "code",
   "execution_count": 2,
   "id": "8f6b9de3-6be4-4a10-884c-87b0ae69013b",
   "metadata": {},
   "outputs": [
    {
     "ename": "ZeroDivisionError",
     "evalue": "division by zero",
     "output_type": "error",
     "traceback": [
      "\u001b[1;31m---------------------------------------------------------------------------\u001b[0m",
      "\u001b[1;31mZeroDivisionError\u001b[0m                         Traceback (most recent call last)",
      "Cell \u001b[1;32mIn[2], line 1\u001b[0m\n\u001b[1;32m----> 1\u001b[0m \u001b[38;5;28mprint\u001b[39m(\u001b[38;5;241;43m5\u001b[39;49m\u001b[38;5;241;43m/\u001b[39;49m\u001b[38;5;241;43m0\u001b[39;49m) \u001b[38;5;66;03m#계산상 0으로 나누면 안됨 \u001b[39;00m\n",
      "\u001b[1;31mZeroDivisionError\u001b[0m: division by zero"
     ]
    }
   ],
   "source": [
    "print(5/0) #계산상 0으로 나누면 안됨 "
   ]
  },
  {
   "cell_type": "code",
   "execution_count": 4,
   "id": "9699c938-f289-455d-a149-6979fc7d75b0",
   "metadata": {},
   "outputs": [
    {
     "ename": "NameError",
     "evalue": "name 'hello' is not defined",
     "output_type": "error",
     "traceback": [
      "\u001b[1;31m---------------------------------------------------------------------------\u001b[0m",
      "\u001b[1;31mNameError\u001b[0m                                 Traceback (most recent call last)",
      "Cell \u001b[1;32mIn[4], line 1\u001b[0m\n\u001b[1;32m----> 1\u001b[0m \u001b[38;5;28mprint\u001b[39m(\u001b[43mhello\u001b[49m) \u001b[38;5;66;03m#변수가 안 됨 \u001b[39;00m\n",
      "\u001b[1;31mNameError\u001b[0m: name 'hello' is not defined"
     ]
    }
   ],
   "source": [
    "print(hello) #변수가 없음 "
   ]
  },
  {
   "cell_type": "code",
   "execution_count": 5,
   "id": "09d521c6-31d4-499d-9eba-ac0ccf209500",
   "metadata": {},
   "outputs": [
    {
     "ename": "TypeError",
     "evalue": "unsupported operand type(s) for +: 'int' and 'str'",
     "output_type": "error",
     "traceback": [
      "\u001b[1;31m---------------------------------------------------------------------------\u001b[0m",
      "\u001b[1;31mTypeError\u001b[0m                                 Traceback (most recent call last)",
      "Cell \u001b[1;32mIn[5], line 1\u001b[0m\n\u001b[1;32m----> 1\u001b[0m \u001b[38;5;241;43m1\u001b[39;49m\u001b[43m \u001b[49m\u001b[38;5;241;43m+\u001b[39;49m\u001b[43m \u001b[49m\u001b[38;5;124;43m'\u001b[39;49m\u001b[38;5;124;43m1\u001b[39;49m\u001b[38;5;124;43m'\u001b[39;49m \n",
      "\u001b[1;31mTypeError\u001b[0m: unsupported operand type(s) for +: 'int' and 'str'"
     ]
    }
   ],
   "source": [
    "1 + '1' \n",
    "#unsupported operand type(s) for +: 'int' and 'str' "
   ]
  },
  {
   "cell_type": "code",
   "execution_count": 6,
   "id": "b71f0edf-e46c-48e5-b220-4da2f235ce03",
   "metadata": {},
   "outputs": [
    {
     "ename": "TypeError",
     "evalue": "Random.sample() missing 1 required positional argument: 'k'",
     "output_type": "error",
     "traceback": [
      "\u001b[1;31m---------------------------------------------------------------------------\u001b[0m",
      "\u001b[1;31mTypeError\u001b[0m                                 Traceback (most recent call last)",
      "Cell \u001b[1;32mIn[6], line 2\u001b[0m\n\u001b[0;32m      1\u001b[0m \u001b[38;5;28;01mimport\u001b[39;00m \u001b[38;5;21;01mrandom\u001b[39;00m\n\u001b[1;32m----> 2\u001b[0m \u001b[43mrandom\u001b[49m\u001b[38;5;241;43m.\u001b[39;49m\u001b[43msample\u001b[49m\u001b[43m(\u001b[49m\u001b[43m[\u001b[49m\u001b[38;5;241;43m1\u001b[39;49m\u001b[43m,\u001b[49m\u001b[43m \u001b[49m\u001b[38;5;241;43m2\u001b[39;49m\u001b[43m,\u001b[49m\u001b[43m \u001b[49m\u001b[38;5;241;43m3\u001b[39;49m\u001b[43m,\u001b[49m\u001b[43m \u001b[49m\u001b[38;5;241;43m4\u001b[39;49m\u001b[43m,\u001b[49m\u001b[43m \u001b[49m\u001b[38;5;241;43m5\u001b[39;49m\u001b[43m]\u001b[49m\u001b[43m)\u001b[49m\n",
      "\u001b[1;31mTypeError\u001b[0m: Random.sample() missing 1 required positional argument: 'k'"
     ]
    }
   ],
   "source": [
    "import random\n",
    "random.sample([1, 2, 3, 4, 5])\n",
    "#Random.sample() missing 1 required positional argument: 'k'\n"
   ]
  },
  {
   "cell_type": "code",
   "execution_count": 7,
   "id": "6f3e6689-58b5-451b-84fe-e1c605797f5f",
   "metadata": {},
   "outputs": [
    {
     "ename": "TypeError",
     "evalue": "Random.sample() takes 3 positional arguments but 7 were given",
     "output_type": "error",
     "traceback": [
      "\u001b[1;31m---------------------------------------------------------------------------\u001b[0m",
      "\u001b[1;31mTypeError\u001b[0m                                 Traceback (most recent call last)",
      "Cell \u001b[1;32mIn[7], line 2\u001b[0m\n\u001b[0;32m      1\u001b[0m \u001b[38;5;28;01mimport\u001b[39;00m \u001b[38;5;21;01mrandom\u001b[39;00m\n\u001b[1;32m----> 2\u001b[0m \u001b[43mrandom\u001b[49m\u001b[38;5;241;43m.\u001b[39;49m\u001b[43msample\u001b[49m\u001b[43m(\u001b[49m\u001b[43m[\u001b[49m\u001b[38;5;241;43m1\u001b[39;49m\u001b[43m,\u001b[49m\u001b[43m \u001b[49m\u001b[38;5;241;43m2\u001b[39;49m\u001b[43m,\u001b[49m\u001b[43m \u001b[49m\u001b[38;5;241;43m3\u001b[39;49m\u001b[43m,\u001b[49m\u001b[43m \u001b[49m\u001b[38;5;241;43m4\u001b[39;49m\u001b[43m,\u001b[49m\u001b[43m \u001b[49m\u001b[38;5;241;43m5\u001b[39;49m\u001b[43m]\u001b[49m\u001b[43m,\u001b[49m\u001b[38;5;241;43m1\u001b[39;49m\u001b[43m,\u001b[49m\u001b[43m \u001b[49m\u001b[38;5;241;43m2\u001b[39;49m\u001b[43m,\u001b[49m\u001b[43m \u001b[49m\u001b[38;5;241;43m3\u001b[39;49m\u001b[43m,\u001b[49m\u001b[43m \u001b[49m\u001b[38;5;241;43m4\u001b[39;49m\u001b[43m,\u001b[49m\u001b[43m \u001b[49m\u001b[38;5;241;43m5\u001b[39;49m\u001b[43m)\u001b[49m\n",
      "\u001b[1;31mTypeError\u001b[0m: Random.sample() takes 3 positional arguments but 7 were given"
     ]
    }
   ],
   "source": [
    "import random\n",
    "random.sample([1, 2, 3, 4, 5],1, 2, 3, 4, 5)\n",
    "#Random.sample() takes 3 positional arguments but 7 were given"
   ]
  },
  {
   "cell_type": "code",
   "execution_count": 9,
   "id": "966a6af0-91c7-4cb5-bdef-3debdf56671f",
   "metadata": {},
   "outputs": [
    {
     "ename": "ValueError",
     "evalue": "invalid literal for int() with base 10: '4.5'",
     "output_type": "error",
     "traceback": [
      "\u001b[1;31m---------------------------------------------------------------------------\u001b[0m",
      "\u001b[1;31mValueError\u001b[0m                                Traceback (most recent call last)",
      "Cell \u001b[1;32mIn[9], line 1\u001b[0m\n\u001b[1;32m----> 1\u001b[0m \u001b[38;5;28;43mint\u001b[39;49m\u001b[43m(\u001b[49m\u001b[38;5;124;43m'\u001b[39;49m\u001b[38;5;124;43m4.5\u001b[39;49m\u001b[38;5;124;43m'\u001b[39;49m\u001b[43m)\u001b[49m\n",
      "\u001b[1;31mValueError\u001b[0m: invalid literal for int() with base 10: '4.5'"
     ]
    }
   ],
   "source": [
    "int('4.5')"
   ]
  },
  {
   "cell_type": "code",
   "execution_count": 10,
   "id": "bd14bd69-edf0-47c3-8934-5300ae4710a3",
   "metadata": {},
   "outputs": [
    {
     "ename": "ValueError",
     "evalue": "100 is not in list",
     "output_type": "error",
     "traceback": [
      "\u001b[1;31m---------------------------------------------------------------------------\u001b[0m",
      "\u001b[1;31mValueError\u001b[0m                                Traceback (most recent call last)",
      "Cell \u001b[1;32mIn[10], line 2\u001b[0m\n\u001b[0;32m      1\u001b[0m numbers \u001b[38;5;241m=\u001b[39m [\u001b[38;5;241m1\u001b[39m, \u001b[38;5;241m2\u001b[39m, \u001b[38;5;241m3\u001b[39m]\n\u001b[1;32m----> 2\u001b[0m \u001b[43mnumbers\u001b[49m\u001b[38;5;241;43m.\u001b[39;49m\u001b[43mindex\u001b[49m\u001b[43m(\u001b[49m\u001b[38;5;241;43m100\u001b[39;49m\u001b[43m)\u001b[49m\n",
      "\u001b[1;31mValueError\u001b[0m: 100 is not in list"
     ]
    }
   ],
   "source": [
    "numbers = [1, 2, 3]\n",
    "numbers.index(100)"
   ]
  },
  {
   "cell_type": "code",
   "execution_count": 13,
   "id": "f6509f89-a016-40d2-85b8-1edbb3ab33eb",
   "metadata": {},
   "outputs": [],
   "source": [
    "my_dict = {'applpe' : '사과', 'ba': '바나나'}"
   ]
  },
  {
   "cell_type": "code",
   "execution_count": 15,
   "id": "dd68541b-e1b8-4f8c-9674-ab6f92e0600c",
   "metadata": {},
   "outputs": [
    {
     "ename": "KeyError",
     "evalue": "'melon'",
     "output_type": "error",
     "traceback": [
      "\u001b[1;31m---------------------------------------------------------------------------\u001b[0m",
      "\u001b[1;31mKeyError\u001b[0m                                  Traceback (most recent call last)",
      "Cell \u001b[1;32mIn[15], line 1\u001b[0m\n\u001b[1;32m----> 1\u001b[0m \u001b[43mmy_dict\u001b[49m\u001b[43m[\u001b[49m\u001b[38;5;124;43m'\u001b[39;49m\u001b[38;5;124;43mmelon\u001b[39;49m\u001b[38;5;124;43m'\u001b[39;49m\u001b[43m]\u001b[49m\n\u001b[0;32m      3\u001b[0m \u001b[38;5;66;03m# KeyError: 'melon'\u001b[39;00m\n",
      "\u001b[1;31mKeyError\u001b[0m: 'melon'"
     ]
    }
   ],
   "source": [
    "my_dict['melon']\n",
    "\n",
    "# KeyError: 'melon'"
   ]
  },
  {
   "cell_type": "markdown",
   "id": "d3287d61-f978-4648-a79b-2385f2a11229",
   "metadata": {},
   "source": [
    "### 예외처리 "
   ]
  },
  {
   "cell_type": "code",
   "execution_count": 18,
   "id": "08875786-ab56-47cb-9484-53b2b30a2fd0",
   "metadata": {},
   "outputs": [
    {
     "name": "stdout",
     "output_type": "stream",
     "text": [
      "숫자를 입력하라고 !!\n"
     ]
    }
   ],
   "source": [
    "try:\n",
    "    num = input('숫자를 입력해주세요') #input은 str만 받음 \n",
    "    print(f\"{num}의 세제곱은 {num ** 3} 입니다\")\n",
    "except:\n",
    "    print(\"숫자를 입력하라고 !!\")"
   ]
  },
  {
   "cell_type": "code",
   "execution_count": 20,
   "id": "a27a97a4-0cf0-49f8-810c-0e1ef0e5fdc7",
   "metadata": {},
   "outputs": [
    {
     "name": "stdin",
     "output_type": "stream",
     "text": [
      "100을 무엇으로 나누겠습니까? 100\n"
     ]
    },
    {
     "name": "stdout",
     "output_type": "stream",
     "text": [
      "100이라는 숫자를 100으로 나누면 1.0입니다\n"
     ]
    }
   ],
   "source": [
    "try:\n",
    "    num = int(input(\"100을 무엇으로 나누겠습니까?\"))\n",
    "    print(f\"100이라는 숫자를 {num}으로 나누면 {100/num}입니다\")\n",
    "except:\n",
    "    print(\"숫자를 입력하라고 !!\")"
   ]
  },
  {
   "cell_type": "code",
   "execution_count": 21,
   "id": "1806e8e0-7986-4726-a9f8-e932cd21764a",
   "metadata": {},
   "outputs": [
    {
     "name": "stdin",
     "output_type": "stream",
     "text": [
      "100을 무엇으로 나누겠습니까? 0\n"
     ]
    },
    {
     "name": "stdout",
     "output_type": "stream",
     "text": [
      "모든 수를 0으로 나눌수 없습니다\n"
     ]
    }
   ],
   "source": [
    "try:\n",
    "    num = int(input(\"100을 무엇으로 나누겠습니까?\"))\n",
    "    print(f\"100이라는 숫자를 {num}으로 나누면 {100/num}입니다\")\n",
    "except ValueError:\n",
    "    print(\"입력한 데이터는 숫자가 아닙니다 \")\n",
    "except ZeroDivisionError:\n",
    "    print(\"모든 수를 0으로 나눌수 없습니다\")\n",
    "except IndexError:\n",
    "    print(\"out of index\")"
   ]
  },
  {
   "cell_type": "code",
   "execution_count": 22,
   "id": "00ea20c1-0fcb-4dab-ab1a-6f13ba7e6bcf",
   "metadata": {},
   "outputs": [],
   "source": [
    "def my_div(num1, num2):\n",
    "    try:\n",
    "        return num1 / num2\n",
    "    except ValueError:\n",
    "        return \"숫자를 입력하세요\"\n",
    "    except ZeroDivisionError:\n",
    "        return \"0으로 나눌수 없습니다\"\n",
    "    except:\n",
    "        return \"무엇인가 잘못되었습니다\""
   ]
  },
  {
   "cell_type": "code",
   "execution_count": 23,
   "id": "307504d3-8cd9-4185-b648-8803a34914de",
   "metadata": {},
   "outputs": [
    {
     "name": "stdout",
     "output_type": "stream",
     "text": [
      "0으로 나눌수 없습니다\n"
     ]
    }
   ],
   "source": [
    "print(my_div(1,0))"
   ]
  },
  {
   "cell_type": "code",
   "execution_count": null,
   "id": "598a7e9d-cbbe-422f-af00-72792a7dd39a",
   "metadata": {},
   "outputs": [],
   "source": []
  }
 ],
 "metadata": {
  "kernelspec": {
   "display_name": "Python 3 (ipykernel)",
   "language": "python",
   "name": "python3"
  },
  "language_info": {
   "codemirror_mode": {
    "name": "ipython",
    "version": 3
   },
   "file_extension": ".py",
   "mimetype": "text/x-python",
   "name": "python",
   "nbconvert_exporter": "python",
   "pygments_lexer": "ipython3",
   "version": "3.12.4"
  }
 },
 "nbformat": 4,
 "nbformat_minor": 5
}
