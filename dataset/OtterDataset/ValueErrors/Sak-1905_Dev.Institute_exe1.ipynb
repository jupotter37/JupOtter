{
 "cells": [
  {
   "cell_type": "code",
   "execution_count": 2,
   "metadata": {},
   "outputs": [
    {
     "name": "stdout",
     "output_type": "stream",
     "text": [
      "[('', '', ''), ('', '', ''), ('', '', ''), ('', '', ''), ('', '', '')]\n"
     ]
    }
   ],
   "source": [
    "# Initialize an empty list to store user information\n",
    "users = []\n",
    "\n",
    "# Lambda function to get user information and create a tuple\n",
    "get_user_info = lambda: (\n",
    "    input('Enter your name: '),\n",
    "    input('Enter your age: '),\n",
    "    input('Enter your score: ')\n",
    ")\n",
    "\n",
    "# Ask the user for inputs five times and store the information in the users list\n",
    "for _ in range(5):\n",
    "    user_info = get_user_info()\n",
    "    users.append(user_info)\n",
    "\n",
    "# Print the list of users\n",
    "print(users)\n"
   ]
  },
  {
   "cell_type": "code",
   "execution_count": 3,
   "metadata": {},
   "outputs": [
    {
     "ename": "ValueError",
     "evalue": "invalid literal for int() with base 10: ''",
     "output_type": "error",
     "traceback": [
      "\u001b[1;31m---------------------------------------------------------------------------\u001b[0m",
      "\u001b[1;31mValueError\u001b[0m                                Traceback (most recent call last)",
      "Cell \u001b[1;32mIn[3], line 13\u001b[0m\n\u001b[0;32m     11\u001b[0m \u001b[39m# Ask the user for inputs five times and store the information in the users list\u001b[39;00m\n\u001b[0;32m     12\u001b[0m \u001b[39mfor\u001b[39;00m _ \u001b[39min\u001b[39;00m \u001b[39mrange\u001b[39m(\u001b[39m5\u001b[39m):\n\u001b[1;32m---> 13\u001b[0m     user_info \u001b[39m=\u001b[39m get_user_info()\n\u001b[0;32m     14\u001b[0m     users\u001b[39m.\u001b[39mappend(user_info)\n\u001b[0;32m     16\u001b[0m \u001b[39m# Print the list of users\u001b[39;00m\n",
      "Cell \u001b[1;32mIn[3], line 7\u001b[0m, in \u001b[0;36m<lambda>\u001b[1;34m()\u001b[0m\n\u001b[0;32m      2\u001b[0m users \u001b[39m=\u001b[39m []\n\u001b[0;32m      4\u001b[0m \u001b[39m# Lambda function to get user information and create a tuple\u001b[39;00m\n\u001b[0;32m      5\u001b[0m get_user_info \u001b[39m=\u001b[39m \u001b[39mlambda\u001b[39;00m: (\n\u001b[0;32m      6\u001b[0m     \u001b[39minput\u001b[39m(\u001b[39m'\u001b[39m\u001b[39mEnter your name: \u001b[39m\u001b[39m'\u001b[39m),\n\u001b[1;32m----> 7\u001b[0m     \u001b[39mint\u001b[39;49m(\u001b[39minput\u001b[39;49m(\u001b[39m'\u001b[39;49m\u001b[39mEnter your age: \u001b[39;49m\u001b[39m'\u001b[39;49m)),\n\u001b[0;32m      8\u001b[0m     \u001b[39mint\u001b[39m(\u001b[39minput\u001b[39m(\u001b[39m'\u001b[39m\u001b[39mEnter your score: \u001b[39m\u001b[39m'\u001b[39m))\n\u001b[0;32m      9\u001b[0m )\n\u001b[0;32m     11\u001b[0m \u001b[39m# Ask the user for inputs five times and store the information in the users list\u001b[39;00m\n\u001b[0;32m     12\u001b[0m \u001b[39mfor\u001b[39;00m _ \u001b[39min\u001b[39;00m \u001b[39mrange\u001b[39m(\u001b[39m5\u001b[39m):\n",
      "\u001b[1;31mValueError\u001b[0m: invalid literal for int() with base 10: ''"
     ]
    }
   ],
   "source": [
    "# Initialize an empty list to store user information as tuples\n",
    "users = []\n",
    "\n",
    "# Lambda function to get user information and create a tuple\n",
    "get_user_info = lambda: (\n",
    "    input('Enter your name: '),\n",
    "    int(input('Enter your age: ')),\n",
    "    int(input('Enter your score: '))\n",
    ")\n",
    "\n",
    "# Ask the user for inputs five times and store the information in the users list\n",
    "for _ in range(5):\n",
    "    user_info = get_user_info()\n",
    "    users.append(user_info)\n",
    "\n",
    "# Print the list of users\n",
    "print(users)\n"
   ]
  },
  {
   "cell_type": "code",
   "execution_count": 4,
   "metadata": {},
   "outputs": [
    {
     "ename": "ValueError",
     "evalue": "invalid literal for int() with base 10: ''",
     "output_type": "error",
     "traceback": [
      "\u001b[1;31m---------------------------------------------------------------------------\u001b[0m",
      "\u001b[1;31mValueError\u001b[0m                                Traceback (most recent call last)",
      "Cell \u001b[1;32mIn[4], line 13\u001b[0m\n\u001b[0;32m     11\u001b[0m \u001b[39m# Ask the user for inputs five times and store the information in the users list\u001b[39;00m\n\u001b[0;32m     12\u001b[0m \u001b[39mfor\u001b[39;00m _ \u001b[39min\u001b[39;00m \u001b[39mrange\u001b[39m(\u001b[39m5\u001b[39m):\n\u001b[1;32m---> 13\u001b[0m     user_info \u001b[39m=\u001b[39m get_user_info()\n\u001b[0;32m     14\u001b[0m     users\u001b[39m.\u001b[39mappend(user_info)\n\u001b[0;32m     16\u001b[0m \u001b[39m# Sort the list of users by name, age, and score\u001b[39;00m\n",
      "Cell \u001b[1;32mIn[4], line 7\u001b[0m, in \u001b[0;36m<lambda>\u001b[1;34m()\u001b[0m\n\u001b[0;32m      2\u001b[0m users \u001b[39m=\u001b[39m []\n\u001b[0;32m      4\u001b[0m \u001b[39m# Lambda function to get user information and create a tuple\u001b[39;00m\n\u001b[0;32m      5\u001b[0m get_user_info \u001b[39m=\u001b[39m \u001b[39mlambda\u001b[39;00m: (\n\u001b[0;32m      6\u001b[0m     \u001b[39minput\u001b[39m(\u001b[39m'\u001b[39m\u001b[39mEnter your name: \u001b[39m\u001b[39m'\u001b[39m),\n\u001b[1;32m----> 7\u001b[0m     \u001b[39mint\u001b[39;49m(\u001b[39minput\u001b[39;49m(\u001b[39m'\u001b[39;49m\u001b[39mEnter your age: \u001b[39;49m\u001b[39m'\u001b[39;49m)),\n\u001b[0;32m      8\u001b[0m     \u001b[39mint\u001b[39m(\u001b[39minput\u001b[39m(\u001b[39m'\u001b[39m\u001b[39mEnter your score: \u001b[39m\u001b[39m'\u001b[39m))\n\u001b[0;32m      9\u001b[0m )\n\u001b[0;32m     11\u001b[0m \u001b[39m# Ask the user for inputs five times and store the information in the users list\u001b[39;00m\n\u001b[0;32m     12\u001b[0m \u001b[39mfor\u001b[39;00m _ \u001b[39min\u001b[39;00m \u001b[39mrange\u001b[39m(\u001b[39m5\u001b[39m):\n",
      "\u001b[1;31mValueError\u001b[0m: invalid literal for int() with base 10: ''"
     ]
    }
   ],
   "source": [
    "# Initialize an empty list to store user information as tuples\n",
    "users = []\n",
    "\n",
    "# Lambda function to get user information and create a tuple\n",
    "get_user_info = lambda: (\n",
    "    input('Enter your name: '),\n",
    "    int(input('Enter your age: ')),\n",
    "    int(input('Enter your score: '))\n",
    ")\n",
    "\n",
    "# Ask the user for inputs five times and store the information in the users list\n",
    "for _ in range(5):\n",
    "    user_info = get_user_info()\n",
    "    users.append(user_info)\n",
    "\n",
    "# Sort the list of users by name, age, and score\n",
    "sorted_users = sorted(users, key=lambda x: (x[0], x[1], x[2]))\n",
    "\n",
    "# Print the sorted list of users\n",
    "print(sorted_users)\n"
   ]
  }
 ],
 "metadata": {
  "kernelspec": {
   "display_name": "Python 3",
   "language": "python",
   "name": "python3"
  },
  "language_info": {
   "codemirror_mode": {
    "name": "ipython",
    "version": 3
   },
   "file_extension": ".py",
   "mimetype": "text/x-python",
   "name": "python",
   "nbconvert_exporter": "python",
   "pygments_lexer": "ipython3",
   "version": "3.11.4"
  },
  "orig_nbformat": 4
 },
 "nbformat": 4,
 "nbformat_minor": 2
}
