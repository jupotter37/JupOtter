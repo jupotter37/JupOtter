{
 "cells": [
  {
   "cell_type": "markdown",
   "id": "f5f9cb93-72f3-419f-a827-d12b4562a5e7",
   "metadata": {},
   "source": [
    "<div style=\"background-color: lightgray; padding: 18px;\">\n",
    "    <h1> Learning Python | Day 14\n",
    "    \n",
    "</div>"
   ]
  },
  {
   "cell_type": "markdown",
   "id": "38ed6c50-5fbb-44df-a3df-2f5feeb7c1eb",
   "metadata": {},
   "source": [
    "### Features:\n",
    "Numpy\n",
    "- Reshape and Stacking\n",
    "- Data Types\n",
    "- Indexing and Slicing\n",
    "- Advanced Indexing | Boolean Mask\n",
    "- Arithmetic Operations"
   ]
  },
  {
   "cell_type": "markdown",
   "id": "d3d9ab3c-5f20-412e-8d44-9f6b3d848311",
   "metadata": {},
   "source": [
    "<div style=\"background-color: lightgreen; padding: 10px;\">\n",
    "    <h2> Reshape\n",
    "</div>"
   ]
  },
  {
   "cell_type": "markdown",
   "id": "2378ad2a-c1a5-4fb7-a946-ed843e2f222d",
   "metadata": {},
   "source": [
    "Reshaping of ``ndarrays``:\n",
    "\n",
    "Reshaping means changing the shape of an array.\n",
    "\n",
    "The shape of an array is the **number of elements** in **each** dimension.\n",
    "\n",
    "By reshaping we can add or remove dimensions or change number of elements in each dimension.\n",
    "\n",
    "---\n",
    "__Note:__ *Can We Reshape Into any Shape?*\n",
    "\n",
    "Yes, as long as the elements required for reshaping are **equal** in both shapes.\n",
    "\n",
    "We can reshape an 8 elements 1D array into 4 elements in 2 rows 2D array but we cannot reshape it into a 3 elements 3 rows 2D array as that would require 3x3 = 9 elemen\n",
    "\n",
    "Source: https://www.w3schools.com/python/numpy/numpy_array_reshape.aspts."
   ]
  },
  {
   "cell_type": "code",
   "execution_count": 3,
   "id": "712add1d-d8e7-4092-8d11-4b4f9332d5b9",
   "metadata": {},
   "outputs": [
    {
     "name": "stdout",
     "output_type": "stream",
     "text": [
      "(2, 4)\n"
     ]
    }
   ],
   "source": [
    "import numpy as np\n",
    "before = np.array([[1,2,3,4],[5,6,7,8]])\n",
    "print(before.shape)"
   ]
  },
  {
   "cell_type": "code",
   "execution_count": 4,
   "id": "86091573-0bcd-422c-b523-7b5e4fe40a73",
   "metadata": {},
   "outputs": [
    {
     "name": "stdout",
     "output_type": "stream",
     "text": [
      "[1 2 3 4 5 6 7 8]\n"
     ]
    }
   ],
   "source": [
    "after = before.reshape((8))  # The new array must have the same number of elements\n",
    "print(after)"
   ]
  },
  {
   "cell_type": "code",
   "execution_count": 5,
   "id": "4501808f-a4b4-420e-8f37-ae22e27d0aaf",
   "metadata": {},
   "outputs": [
    {
     "name": "stdout",
     "output_type": "stream",
     "text": [
      "[[1]\n",
      " [2]\n",
      " [3]\n",
      " [4]\n",
      " [5]\n",
      " [6]\n",
      " [7]\n",
      " [8]]\n"
     ]
    }
   ],
   "source": [
    "after = before.reshape((8, 1)) \n",
    "print(after)"
   ]
  },
  {
   "cell_type": "code",
   "execution_count": 6,
   "id": "824f0ff0-c854-43fc-8c5b-5b8ad97351b2",
   "metadata": {},
   "outputs": [
    {
     "name": "stdout",
     "output_type": "stream",
     "text": [
      "[[[1 2]\n",
      "  [3 4]]\n",
      "\n",
      " [[5 6]\n",
      "  [7 8]]]\n"
     ]
    }
   ],
   "source": [
    "after = before.reshape(2, 2, 2)\n",
    "print(after)"
   ]
  },
  {
   "cell_type": "markdown",
   "id": "316229cd-e3cf-44b1-b2a2-cd8e4ca86c0a",
   "metadata": {},
   "source": [
    "<div style=\"background-color: lightgreen; padding: 10px;\">\n",
    "    <h2> Stacking\n",
    "</div>"
   ]
  },
  {
   "cell_type": "markdown",
   "id": "c4b7521d-a3b4-4ec1-aebc-8ad48bca7c52",
   "metadata": {},
   "source": [
    "Stacking ``ndarrays``\n",
    "\n",
    "Another way to obtain arrays with different dimensions or shapes is to ``concatenate`` and ``stack`` arrays. \n",
    "\n",
    "Important points:\n",
    "- ``stack()`` is used for joining multiple NumPy arrays. Unlike, ``concatenate()``, it joins arrays along a new axis. It returns a NumPy array.\n",
    "- to join 2 arrays, they must have the same shape and dimensions. (e.g. both (2,3)–> 2 rows,3 columns)\n",
    "- ``stack()`` creates a new array which has 1 more dimension than the input arrays. If we stack 2 1-D arrays, the resultant array will have 2 dimensions.\n",
    "\n",
    "```\n",
    "Syntax:  numpy.stack(arrays, axis=0, out=None)\n",
    "```\n",
    "\n",
    "Sources:\n",
    "- https://www.geeksforgeeks.org/numpy-stack-in-python/\n",
    "- https://www.geeksforgeeks.org/numpy-vstack-in-python/\n",
    "- https://www.geeksforgeeks.org/numpy-hstack-in-python/?ref=lbp\n",
    "- https://www.w3schools.com/python/numpy/numpy_array_join.asp"
   ]
  },
  {
   "cell_type": "code",
   "execution_count": 1,
   "id": "3d925e2e-cba5-41de-9f65-21137e4aa763",
   "metadata": {},
   "outputs": [
    {
     "data": {
      "text/plain": [
       "array([[1, 2, 3, 4],\n",
       "       [5, 6, 7, 8]])"
      ]
     },
     "execution_count": 1,
     "metadata": {},
     "output_type": "execute_result"
    }
   ],
   "source": [
    "import numpy as np\n",
    "\n",
    "# Example 1 : stacking two 1d arrays\n",
    "v1 = np.array([1,2,3,4])\n",
    "v2 = np.array([5,6,7,8])\n",
    "\n",
    "# Stacking 2 1-d arrays\n",
    "np.stack((v1, v2))"
   ]
  },
  {
   "cell_type": "code",
   "execution_count": 2,
   "id": "c1006e73-acf1-4c6f-8720-1254b80151b0",
   "metadata": {},
   "outputs": [
    {
     "data": {
      "text/plain": [
       "array([[1, 5],\n",
       "       [2, 6],\n",
       "       [3, 7],\n",
       "       [4, 8]])"
      ]
     },
     "execution_count": 2,
     "metadata": {},
     "output_type": "execute_result"
    }
   ],
   "source": [
    "# stack 2 1-d arrays column-wise\n",
    "np.stack((v1, v2),axis=1)"
   ]
  },
  {
   "cell_type": "code",
   "execution_count": 4,
   "id": "318d4224-e0d6-45ad-a570-2a319ebe343c",
   "metadata": {},
   "outputs": [
    {
     "data": {
      "text/plain": [
       "array([[[ 1,  2,  3],\n",
       "        [ 4,  5,  6]],\n",
       "\n",
       "       [[ 7,  8,  9],\n",
       "        [10, 11, 12]]])"
      ]
     },
     "execution_count": 4,
     "metadata": {},
     "output_type": "execute_result"
    }
   ],
   "source": [
    "# Example 2 : stacking two 2d arrays\n",
    "\n",
    "x=np.array([[1,2,3],\n",
    "            [4,5,6]])\n",
    " \n",
    "y=np.array([[7,8,9],\n",
    "            [10,11,12]])\n",
    "\n",
    "np.stack((x,y),axis=0)"
   ]
  },
  {
   "cell_type": "code",
   "execution_count": 5,
   "id": "05f518ff-540f-4595-b232-89b4ac850933",
   "metadata": {},
   "outputs": [
    {
     "data": {
      "text/plain": [
       "array([[[ 1,  7],\n",
       "        [ 2,  8],\n",
       "        [ 3,  9]],\n",
       "\n",
       "       [[ 4, 10],\n",
       "        [ 5, 11],\n",
       "        [ 6, 12]]])"
      ]
     },
     "execution_count": 5,
     "metadata": {},
     "output_type": "execute_result"
    }
   ],
   "source": [
    "np.stack((x,y),axis=2)"
   ]
  },
  {
   "cell_type": "markdown",
   "id": "80ce550e-afc5-4aa4-9575-baa0dd017c47",
   "metadata": {},
   "source": [
    "---\n",
    "We can also stack one array on top of another (vertical stacking) using the `np.vstack` function\n",
    "\n",
    "*or*\n",
    "\n",
    "attempt to place them side by side (horizontal stacking) using the `np.hstack` function."
   ]
  },
  {
   "cell_type": "code",
   "execution_count": 6,
   "id": "a11a1899-7480-47fe-b3f7-2f27343635cf",
   "metadata": {},
   "outputs": [
    {
     "data": {
      "text/plain": [
       "array([[1, 2, 3, 4],\n",
       "       [5, 6, 7, 8],\n",
       "       [5, 6, 7, 8],\n",
       "       [5, 6, 7, 8]])"
      ]
     },
     "execution_count": 6,
     "metadata": {},
     "output_type": "execute_result"
    }
   ],
   "source": [
    "import numpy as np\n",
    "\n",
    "# Example 1 : stacking two 1d arrays\n",
    "v1 = np.array([1,2,3,4])\n",
    "v2 = np.array([5,6,7,8])\n",
    "\n",
    "# Stacking 2 1-d arrays ~ vertical:\n",
    "np.vstack((v1, v2, v2, v2))"
   ]
  },
  {
   "cell_type": "code",
   "execution_count": 7,
   "id": "a9fe7739-3bc4-4146-902d-ad247642a9ae",
   "metadata": {},
   "outputs": [
    {
     "data": {
      "text/plain": [
       "array([1, 2, 3, 4, 5, 6, 7, 8, 5, 6, 7, 8, 5, 6, 7, 8])"
      ]
     },
     "execution_count": 7,
     "metadata": {},
     "output_type": "execute_result"
    }
   ],
   "source": [
    "# Stacking 2 1-d arrays ~ horizontal:\n",
    "np.hstack((v1, v2, v2, v2))"
   ]
  },
  {
   "cell_type": "markdown",
   "id": "949b188b-dcd6-4201-8eaa-f97e3ecc4f69",
   "metadata": {},
   "source": [
    "<div style=\"background-color: lightgreen; padding: 10px;\">\n",
    "    <h2> Data Types\n",
    "</div>"
   ]
  },
  {
   "attachments": {
    "87e4ee6b-28b6-4ce9-a0d3-ea351b01c867.png": {
     "image/png": "[encoded data removed]"
    }
   },
   "cell_type": "markdown",
   "id": "5c910e81-37a0-43a3-8f40-36f2e1418a00",
   "metadata": {},
   "source": [
    "NumPy has some extra ``data types``, in comparison with Python, and refer to data types with one character, like ``i`` for integers, ``u`` for unsigned integers etc.\n",
    "\n",
    "![image.png](attachment:87e4ee6b-28b6-4ce9-a0d3-ea351b01c867.png)\n",
    "\n",
    "Below is a list of all data types in NumPy and the characters used to represent them:\r\n",
    "\r\n",
    "- `i` - integer\r\n",
    "- `b` - boolean\r\n",
    "- `u` - unsigned integer\r\n",
    "- `f` - float\r\n",
    "- `c` - complex float\r\n",
    "- `m` - timedelta\r\n",
    "- `M` - datetime\r\n",
    "- `O` - object\r\n",
    "- `S` - string\r\n",
    "- `U` - unicode string\r\n",
    "- `V` - fixed chunk of memory for other type (void)\n",
    "\n",
    "Sources:\n",
    "- https://www.w3schools.com/python/numpy/numpy_data_types.asp\n",
    "- https://www.geeksforgeeks.org/numpy-data-types/\n",
    "- https://numpy.org/doc/stable/user/basics.types.html\n",
    "- https://numpy.org/doc/stable/reference/generated/numpy.ndarray.html"
   ]
  },
  {
   "cell_type": "code",
   "execution_count": 8,
   "id": "5149327c-8d0f-4280-b4f3-0ea18c290426",
   "metadata": {},
   "outputs": [
    {
     "name": "stdout",
     "output_type": "stream",
     "text": [
      "int32\n",
      "<U6\n"
     ]
    }
   ],
   "source": [
    "# Checking the datatype of an array:\n",
    "\n",
    "import numpy as np\n",
    "\n",
    "arr = np.array([1, 2, 3, 4])\n",
    "print(arr.dtype)\n",
    "\n",
    "arr = np.array(['apple', 'banana', 'cherry'])\n",
    "print(arr.dtype)"
   ]
  },
  {
   "cell_type": "markdown",
   "id": "e7146db3-539a-43e4-85ea-16c6086190ff",
   "metadata": {},
   "source": [
    "---\n",
    "A NumPy array has the ``dtype`` property, which gives us the type of the elements it contains.\n",
    "\n",
    "It's worth remembering, as mentioned in the introduction:\n",
    "\n",
    "- All elements in an ``ndarray`` have the **same** data type.\n",
    "\n",
    "You may attempt to store data of different types, but NumPy will enforce type coercion to maintain this property."
   ]
  },
  {
   "cell_type": "code",
   "execution_count": 35,
   "id": "37a5bf3a-2fbd-431b-91f8-7272c737ffe4",
   "metadata": {},
   "outputs": [
    {
     "data": {
      "text/plain": [
       "dtype('float64')"
      ]
     },
     "execution_count": 35,
     "metadata": {},
     "output_type": "execute_result"
    }
   ],
   "source": [
    "vector = np.array([1., 2., 3, 4, 5, 6, 7])\n",
    "vector.dtype"
   ]
  },
  {
   "cell_type": "code",
   "execution_count": 36,
   "id": "76c12e6b-15f9-409d-8d1e-84cb1e96e9af",
   "metadata": {},
   "outputs": [
    {
     "data": {
      "text/plain": [
       "dtype('<U32')"
      ]
     },
     "execution_count": 36,
     "metadata": {},
     "output_type": "execute_result"
    }
   ],
   "source": [
    "vector2 = np.array([1.3, 2.6, 3.4, 'AVOCADO', 5.1, 6, 7.99])\n",
    "vector2.dtype"
   ]
  },
  {
   "cell_type": "markdown",
   "id": "777e86b6-ca96-4725-8102-194f6b591ab4",
   "metadata": {},
   "source": [
    "---\n",
    "To pass this parameter explicitly, simply use a second argument in the ``np.array`` function. \n",
    "\n",
    "For these arrays, we say that data consistency is **strong**. This means that if we create a vector of integers, for example, then all elements we place in our vector will **necessarily** be transformed into integers, as shown in the following example:"
   ]
  },
  {
   "cell_type": "code",
   "execution_count": 39,
   "id": "769a0849-cb2f-4392-8fc6-ce92fc5c5a8d",
   "metadata": {},
   "outputs": [
    {
     "data": {
      "text/plain": [
       "dtype('float64')"
      ]
     },
     "execution_count": 39,
     "metadata": {},
     "output_type": "execute_result"
    }
   ],
   "source": [
    "vector3 = np.array([1.3, 2.6, 3.4, 4.4, 5.1, 6, 7.99], dtype = np.float64)\n",
    "vector3.dtype"
   ]
  },
  {
   "cell_type": "code",
   "execution_count": 42,
   "id": "8a0eba62-cd2b-4691-94de-c45c7264a1d9",
   "metadata": {},
   "outputs": [
    {
     "name": "stdout",
     "output_type": "stream",
     "text": [
      "[1 2 3 4 5 6 7] int32\n"
     ]
    }
   ],
   "source": [
    "vector4 = np.array([1.3, 2.6, 3.4, 4.4, 5.1, 6, 7.99], dtype = np.int32)\n",
    "print(vector4, vector4.dtype)"
   ]
  },
  {
   "cell_type": "code",
   "execution_count": 43,
   "id": "b2913964-c42a-4f79-8ab0-fc11b33932cb",
   "metadata": {},
   "outputs": [
    {
     "ename": "ValueError",
     "evalue": "invalid literal for int() with base 10: 'a'",
     "output_type": "error",
     "traceback": [
      "\u001b[1;31m---------------------------------------------------------------------------\u001b[0m",
      "\u001b[1;31mValueError\u001b[0m                                Traceback (most recent call last)",
      "Cell \u001b[1;32mIn[43], line 3\u001b[0m\n\u001b[0;32m      1\u001b[0m \u001b[38;5;66;03m# A non integer string like 'a' can not be converted to integer (will raise an error):\u001b[39;00m\n\u001b[1;32m----> 3\u001b[0m arr \u001b[38;5;241m=\u001b[39m \u001b[43mnp\u001b[49m\u001b[38;5;241;43m.\u001b[39;49m\u001b[43marray\u001b[49m\u001b[43m(\u001b[49m\u001b[43m[\u001b[49m\u001b[38;5;124;43m'\u001b[39;49m\u001b[38;5;124;43ma\u001b[39;49m\u001b[38;5;124;43m'\u001b[39;49m\u001b[43m,\u001b[49m\u001b[43m \u001b[49m\u001b[38;5;124;43m'\u001b[39;49m\u001b[38;5;124;43m2\u001b[39;49m\u001b[38;5;124;43m'\u001b[39;49m\u001b[43m,\u001b[49m\u001b[43m \u001b[49m\u001b[38;5;124;43m'\u001b[39;49m\u001b[38;5;124;43m3\u001b[39;49m\u001b[38;5;124;43m'\u001b[39;49m\u001b[43m]\u001b[49m\u001b[43m,\u001b[49m\u001b[43m \u001b[49m\u001b[43mdtype\u001b[49m\u001b[38;5;241;43m=\u001b[39;49m\u001b[38;5;124;43m'\u001b[39;49m\u001b[38;5;124;43mi\u001b[39;49m\u001b[38;5;124;43m'\u001b[39;49m\u001b[43m)\u001b[49m\n",
      "\u001b[1;31mValueError\u001b[0m: invalid literal for int() with base 10: 'a'"
     ]
    }
   ],
   "source": [
    "# A non integer string like 'a' can not be converted to integer (will raise an error):\n",
    "\n",
    "arr = np.array(['a', '2', '3'], dtype='i')"
   ]
  },
  {
   "cell_type": "markdown",
   "id": "0b8b3f4e-4bd9-4567-a917-c09ec719d4f6",
   "metadata": {},
   "source": [
    "---\n",
    "It's worth mentioning: the default value of *dtype* depends on the installed Python. If the installed Python is 64-bit, the default will be 64-bit memory `int` or `float` types (`int64` or `float64`). If your Python is 32-bit, the default will be `int32` and `float32`.\r\n",
    "\r\n",
    "This difference affects the precision of calculations. The more memory space used (the higher the number of bits), the higher the precisioion.\r\n",
    "\r\n",
    "Some examples of NumPy data types (and probably the most common ones) are:\r\n",
    "\r\n",
    "* `np.int32`\r\n",
    "* `np.int64`\r\n",
    "* `np.float32`\r\n",
    "* `np.float64`\r\n",
    "\r\n",
    "As an example, we can create another array, `a16`, with the integer type of 16 bits."
   ]
  },
  {
   "cell_type": "code",
   "execution_count": 2,
   "id": "f920b596-46e9-426e-a52e-771d988dabd6",
   "metadata": {},
   "outputs": [
    {
     "data": {
      "text/plain": [
       "array([1, 2, 3], dtype=int16)"
      ]
     },
     "execution_count": 2,
     "metadata": {},
     "output_type": "execute_result"
    }
   ],
   "source": [
    "import numpy as np\n",
    "a16 = np.array([1, 2, 3], dtype=np.int16)\n",
    "a16"
   ]
  },
  {
   "cell_type": "code",
   "execution_count": 3,
   "id": "322c08a0-2387-49b6-b218-4882274f3cd3",
   "metadata": {},
   "outputs": [
    {
     "data": {
      "text/plain": [
       "2"
      ]
     },
     "execution_count": 3,
     "metadata": {},
     "output_type": "execute_result"
    }
   ],
   "source": [
    "# To find out the space that each element individually occupies in memory, we can access the ~itemsize attribute.\n",
    "\n",
    "a16.itemsize # it means, in bytes (2 bytes = 2 * 8 = 16 bits)"
   ]
  },
  {
   "cell_type": "code",
   "execution_count": 5,
   "id": "65d92abb-9f50-449b-9d68-db5a685b7776",
   "metadata": {},
   "outputs": [
    {
     "data": {
      "text/plain": [
       "3"
      ]
     },
     "execution_count": 5,
     "metadata": {},
     "output_type": "execute_result"
    }
   ],
   "source": [
    "# To find out the number of elements:\n",
    "a16.size"
   ]
  },
  {
   "cell_type": "code",
   "execution_count": 7,
   "id": "ce48e244-3b5a-4c41-b07b-4ab1866bd0af",
   "metadata": {},
   "outputs": [
    {
     "data": {
      "text/plain": [
       "6"
      ]
     },
     "execution_count": 7,
     "metadata": {},
     "output_type": "execute_result"
    }
   ],
   "source": [
    "# So, the number of bytes can be represented by:\n",
    "\n",
    "a16.size * a16.itemsize"
   ]
  },
  {
   "cell_type": "code",
   "execution_count": 9,
   "id": "21af8538-94e8-42f1-b3a1-59a947832421",
   "metadata": {},
   "outputs": [
    {
     "data": {
      "text/plain": [
       "6"
      ]
     },
     "execution_count": 9,
     "metadata": {},
     "output_type": "execute_result"
    }
   ],
   "source": [
    "# Or simply:\n",
    "a16.nbytes"
   ]
  },
  {
   "cell_type": "markdown",
   "id": "1da8d8ba-b899-4eaf-b519-2381e445878f",
   "metadata": {},
   "source": [
    "---\n",
    "Converting data type on existing ``ndarray``:\n",
    "\n",
    "The best way to change the data type of an existing array, is to make a copy of the array with the astype() method.\n",
    "\n",
    "The ``astype()`` function creates a copy of the array, and allows you to specify the ``data type`` as a parameter.\n",
    "\n",
    "The data type can be specified using a string, like '``f``' for float, '``i``' for integer etc. or you can use the data type directly like ``float`` for float and ``int`` for integer."
   ]
  },
  {
   "cell_type": "code",
   "execution_count": 10,
   "id": "bc6b4836-6f56-43b5-a51c-419b2a7691b8",
   "metadata": {},
   "outputs": [
    {
     "data": {
      "text/plain": [
       "dtype('float64')"
      ]
     },
     "execution_count": 10,
     "metadata": {},
     "output_type": "execute_result"
    }
   ],
   "source": [
    "a = np.array([1.0, 2.0, 3.0])\n",
    "a.dtype"
   ]
  },
  {
   "cell_type": "code",
   "execution_count": 12,
   "id": "d7b059a0-3e1d-4a58-a0d6-b767cc5c9f1e",
   "metadata": {},
   "outputs": [
    {
     "name": "stdout",
     "output_type": "stream",
     "text": [
      "int32\n",
      "[1 2 3]\n"
     ]
    }
   ],
   "source": [
    "b = a.astype('int32')\n",
    "print(b.dtype)\n",
    "print(b)"
   ]
  },
  {
   "cell_type": "code",
   "execution_count": 13,
   "id": "665e6670-cbe0-4ab0-ae3f-a9b7efae2be5",
   "metadata": {},
   "outputs": [
    {
     "data": {
      "text/plain": [
       "array([1., 2., 3.])"
      ]
     },
     "execution_count": 13,
     "metadata": {},
     "output_type": "execute_result"
    }
   ],
   "source": [
    "a"
   ]
  },
  {
   "cell_type": "markdown",
   "id": "f273db8f-ce8c-4e94-8949-488d15e28fcb",
   "metadata": {},
   "source": [
    "<div style=\"background-color: lightgreen; padding: 10px;\">\n",
    "    <h2> Index and Slicing\n",
    "</div>"
   ]
  },
  {
   "cell_type": "markdown",
   "id": "104f769e-8c59-4531-96d3-c2b95fedec19",
   "metadata": {},
   "source": [
    "``Array indexing`` is the same as accessing an array element.\n",
    "\n",
    "You can access an array element by referring to its index number.\n",
    "\n",
    "The indexes in NumPy arrays start with 0, meaning that the first element has index 0, and the second has index 1 etc.\n",
    "\n",
    "Sources:\n",
    "- https://www.w3schools.com/python/numpy/numpy_array_indexing.asp\n",
    "- https://www.w3schools.com/python/numpy/numpy_array_slicing.asp"
   ]
  },
  {
   "cell_type": "code",
   "execution_count": 14,
   "id": "51ba260f-fceb-4385-a294-f00c68537a8b",
   "metadata": {},
   "outputs": [
    {
     "name": "stdout",
     "output_type": "stream",
     "text": [
      "1\n"
     ]
    }
   ],
   "source": [
    "# To get the first element:\n",
    "\n",
    "import numpy as np\n",
    "\n",
    "arr = np.array([1, 2, 3, 4])\n",
    "print(arr[0])"
   ]
  },
  {
   "cell_type": "code",
   "execution_count": 16,
   "id": "c4bcbeeb-e5d5-4764-9e33-dedb9c483f44",
   "metadata": {},
   "outputs": [
    {
     "name": "stdout",
     "output_type": "stream",
     "text": [
      "2nd element on 1st row:  2\n"
     ]
    }
   ],
   "source": [
    "# Access 2-D arrays:\n",
    "\n",
    "arr = np.array([[1,2,3,4,5], [6,7,8,9,10]])\n",
    "print('2nd element on 1st row: ', arr[0, 1])"
   ]
  },
  {
   "cell_type": "code",
   "execution_count": 17,
   "id": "070e3c96-9bee-4d1e-b858-4fdbfd6d03de",
   "metadata": {},
   "outputs": [
    {
     "name": "stdout",
     "output_type": "stream",
     "text": [
      "6\n"
     ]
    }
   ],
   "source": [
    "# Access 3-D arrays:\n",
    "\n",
    "arr = np.array([[[1, 2, 3], [4, 5, 6]], [[7, 8, 9], [10, 11, 12]]])\n",
    "print(arr[0, 1, 2])"
   ]
  },
  {
   "cell_type": "markdown",
   "id": "902585aa-4145-4fb0-9c50-4b2e653590aa",
   "metadata": {},
   "source": [
    "Example Explained:\n",
    "\n",
    "``arr[0, 1, 2]`` prints the value 6.\n",
    "\n",
    "And this is why:\n",
    "\n",
    "- The first number represents the first dimension, which contains two arrays:\n",
    "``[[1, 2, 3], [4, 5, 6]]``\n",
    "and:\n",
    "``[[7, 8, 9], [10, 11, 12]]``\n",
    "\n",
    "- Since we selected 0, we are left with the first array:\n",
    "``[[1, 2, 3], [4, 5, 6]]``\n",
    "\n",
    "- The second number represents the second dimension, which also contains two arrays:\n",
    "``[1, 2, 3]``\n",
    "and:\n",
    "``[4, 5, 6]``\n",
    "\n",
    "- Since we selected 1, we are left with the second array:\n",
    "``[4, 5, 6]``\n",
    "\n",
    "- The third number represents the third dimension, which contains three values:\n",
    "``4\n",
    "5\n",
    "6``\n",
    "- Since we selected 2, we end up with the third value:\n",
    "6"
   ]
  },
  {
   "cell_type": "code",
   "execution_count": 19,
   "id": "216738d8-520c-488d-b66b-7292348830ba",
   "metadata": {},
   "outputs": [
    {
     "data": {
      "text/plain": [
       "6"
      ]
     },
     "execution_count": 19,
     "metadata": {},
     "output_type": "execute_result"
    }
   ],
   "source": [
    "# It's also possible to use the same notation as in python:\n",
    "\n",
    "arr[0][1][2]"
   ]
  },
  {
   "cell_type": "markdown",
   "id": "7de75e17-e90d-4fe2-969d-1b8e236bfcb6",
   "metadata": {},
   "source": [
    "---\n",
    "``Slicing arrays``\n",
    "\n",
    "Slicing in python means taking elements from one given index to another given index.\n",
    "\n",
    "We pass slice instead of index like this: ``[start:end]``.\n",
    "\n",
    "We can also define the step, like this: ``[start:end:step]``.\n",
    "\n",
    "If we don't pass ``start`` its considered ``0``\n",
    "\n",
    "If we don't pass ``end`` its considered length of array in that dimension\n",
    "\n",
    "If we don't pass ``step`` its considered ``1``"
   ]
  },
  {
   "cell_type": "code",
   "execution_count": 26,
   "id": "aba9af37-0713-4e8a-92d5-535072674799",
   "metadata": {},
   "outputs": [
    {
     "name": "stdout",
     "output_type": "stream",
     "text": [
      "[2 3 4 5]\n"
     ]
    }
   ],
   "source": [
    "# Slicing 1-D Arrays\n",
    "\n",
    "import numpy as np\n",
    "\n",
    "arr = np.array([1, 2, 3, 4, 5, 6, 7])\n",
    "\n",
    "print(arr[1:5])"
   ]
  },
  {
   "cell_type": "code",
   "execution_count": 22,
   "id": "64837cb5-5230-4f60-a57f-4497f87782fd",
   "metadata": {},
   "outputs": [
    {
     "name": "stdout",
     "output_type": "stream",
     "text": [
      "[ 5  6  7  8  9 10 10 10]\n",
      "[1 2 3 4]\n"
     ]
    }
   ],
   "source": [
    "arr = np.array([1, 2, 3, 4, 5, 6, 7, 8, 9, 10, 10, 10])\n",
    "\n",
    "print(arr[4:])\n",
    "print(arr[:4])"
   ]
  },
  {
   "cell_type": "code",
   "execution_count": 25,
   "id": "d3494308-4d5e-4eff-a277-a646493fe119",
   "metadata": {},
   "outputs": [
    {
     "name": "stdout",
     "output_type": "stream",
     "text": [
      "[8 9]\n"
     ]
    }
   ],
   "source": [
    "arr = np.array([1, 2, 3, 4, 5, 6, 7, 8, 8, 8, 9, 10])\n",
    "\n",
    "print(arr[-3:-1])"
   ]
  },
  {
   "cell_type": "code",
   "execution_count": 28,
   "id": "f84d755d-042f-4018-903a-05a22d7b1423",
   "metadata": {},
   "outputs": [
    {
     "name": "stdout",
     "output_type": "stream",
     "text": [
      "[7 8 9]\n"
     ]
    }
   ],
   "source": [
    "# Slicing 2-D Arrays\n",
    "\n",
    "arr = np.array([[1, 2, 3, 4, 5], [6, 7, 8, 9, 10]])\n",
    "\n",
    "print(arr[1, 1:4])"
   ]
  },
  {
   "cell_type": "code",
   "execution_count": 34,
   "id": "8b42350c-1ee9-490d-b2b5-45db21e7417f",
   "metadata": {},
   "outputs": [
    {
     "name": "stdout",
     "output_type": "stream",
     "text": [
      "[3 8]\n"
     ]
    }
   ],
   "source": [
    "arr = np.array([[1, 2, 3, 4, 5], [6, 7, 8, 9, 10]])\n",
    "\n",
    "print(arr[:, 2])"
   ]
  },
  {
   "cell_type": "code",
   "execution_count": 35,
   "id": "2da74bb8-390f-4751-bbbf-843bc60cfe7d",
   "metadata": {},
   "outputs": [
    {
     "name": "stdout",
     "output_type": "stream",
     "text": [
      "[[2 3 4]\n",
      " [7 8 9]]\n"
     ]
    }
   ],
   "source": [
    "arr = np.array([[1, 2, 3, 4, 5], [6, 7, 8, 9, 10]])\n",
    "\n",
    "print(arr[0:2, 1:4])"
   ]
  },
  {
   "cell_type": "markdown",
   "id": "1b7b83fa-4ddc-47f8-8334-b5bdece8b538",
   "metadata": {},
   "source": [
    "<div style=\"background-color: lightgreen; padding: 10px;\">\n",
    "    <h2> Advanced Indexing | Boolean Mask\n",
    "</div>"
   ]
  },
  {
   "cell_type": "markdown",
   "id": "b238a178-f6d4-4407-81af-82d0ef97ebf4",
   "metadata": {},
   "source": [
    "``NumPy Advanced indexing`` returns a copy of data rather than a view of it. Advanced indexing is of two types ``integer`` and ``boolean``.\n",
    "\n",
    "Advanced indexing in the NumPy array allows you to access and manipulate complex patterns of the data.\n",
    "\n",
    "Advanced indexing is triggered when obj is : \n",
    "\n",
    "- an ``ndarray`` of type integer or Boolean;\n",
    "- or a ``tuple`` with at least one sequence object;\n",
    "- is a ``non tuple`` sequence object;\n",
    "\n",
    "**Types of Advanced Indexing**\n",
    "  \n",
    "There are two types of Advanced Indexing in NumPy array indexing:\n",
    "\n",
    "- Purely integer indexing;\n",
    "- Boolean integer indexing;\n",
    "\n",
    "Sources:\n",
    "- https://www.geeksforgeeks.org/numpy-slicing-and-indexing/"
   ]
  },
  {
   "cell_type": "markdown",
   "id": "e0352220-6a9f-4eae-9a70-8dce2583c87b",
   "metadata": {},
   "source": [
    "---\n",
    "**Purely integer array indexing**\n",
    "\n",
    "Purely integer array indexing allows us to access elements from an ndarray (N-dimensional array) using integers.\n",
    "\n",
    "When integers are used for indexing. Each element of the first dimension is paired with the element of the second dimension. So the index of the elements in this case are ``(0,0),(1,0),(2,1)`` and the corresponding elements are selected.\n",
    "\n",
    "Example: Using purely integer array indexing"
   ]
  },
  {
   "cell_type": "code",
   "execution_count": 9,
   "id": "3a3e4157-a2cf-4451-a9bd-e51537fddc5a",
   "metadata": {},
   "outputs": [
    {
     "name": "stdout",
     "output_type": "stream",
     "text": [
      "[[1 2]\n",
      " [3 4]\n",
      " [5 6]]\n"
     ]
    }
   ],
   "source": [
    "# Python program showing advanced indexing \n",
    "import numpy as np \n",
    "\n",
    "a = np.array([[1 ,2 ],[3 ,4 ],[5 ,6 ]]) \n",
    "\n",
    "print(a)"
   ]
  },
  {
   "cell_type": "code",
   "execution_count": 11,
   "id": "38554712-6313-4e30-8a41-48440a499f01",
   "metadata": {},
   "outputs": [
    {
     "name": "stdout",
     "output_type": "stream",
     "text": [
      "[1 3 6]\n"
     ]
    }
   ],
   "source": [
    "print(a[[0 ,1 ,2 ],[0 ,0 ,1]]) # positions: (0,0),(1,0),(2,1)"
   ]
  },
  {
   "cell_type": "markdown",
   "id": "6a3cd332-5c6f-4f32-bf83-ef454528cf44",
   "metadata": {},
   "source": [
    "---\n",
    "**Boolean Indexing**\n",
    "\n",
    "This indexing has some ``boolean expressions`` as the index.\n",
    "\n",
    "Those elements are returned which satisfy that Boolean expression. It is used for filtering the desired element values."
   ]
  },
  {
   "cell_type": "code",
   "execution_count": 20,
   "id": "c2bf6547-501c-4323-863f-ec656940e9f2",
   "metadata": {},
   "outputs": [
    {
     "name": "stdout",
     "output_type": "stream",
     "text": [
      "[False False  True False  True]\n",
      "[ 80 100]\n",
      "[ 80 100]\n"
     ]
    }
   ],
   "source": [
    "# Example 1: Using boolean indexing on NumPy array to find numbers greater than 50\n",
    "\n",
    "import numpy as np \n",
    "  \n",
    "a = np.array([10, 40, 80, 50, 100]) \n",
    "mask = a>50\n",
    "\n",
    "print(mask)\n",
    "\n",
    "print(a[mask])\n",
    "print(a[a>50])"
   ]
  },
  {
   "cell_type": "code",
   "execution_count": 21,
   "id": "07735d52-5f8d-4bb4-b85a-2f93c5e1629e",
   "metadata": {},
   "outputs": [
    {
     "name": "stdout",
     "output_type": "stream",
     "text": [
      "[[ 5  5]\n",
      " [16  4]]\n"
     ]
    }
   ],
   "source": [
    "# Example 2: Using boolean indexing on NumPy array to find numbers whose sum row is 10#\n",
    "\n",
    " \n",
    "b = np.array([[5, 5],[4, 5],[16, 4]]) \n",
    "sumrow = b.sum(-1) \n",
    "\n",
    "print(b[sumrow%10==0])"
   ]
  },
  {
   "cell_type": "markdown",
   "id": "b7aa729d-835c-4ee4-8aec-b8d9960826de",
   "metadata": {},
   "source": [
    "<div style=\"background-color: lightgreen; padding: 10px;\">\n",
    "    <h2> Arithmetic Operations\n",
    "</div>"
   ]
  },
  {
   "cell_type": "markdown",
   "id": "c91f3cf8-bf0d-4e44-a48a-58311a7dd910",
   "metadata": {},
   "source": [
    "``NumPy objects`` can be easily converted to other types of objects like the Pandas data frame and the tensorflow tensor. \n",
    "\n",
    "Python list can be used for array computing, but it is much slower than NumPy. NumPy achieves its fast implementation using vectorization. \n",
    "\n",
    "One of the important features of NumPy arrays is that a developer can perform the **same mathematical operation** on every element with a single command.\n",
    "\n",
    "Let us understand ``arithmetic operations`` using NumPy.\n",
    "\n",
    "Sources:\n",
    "- https://www.geeksforgeeks.org/numpy-arithmetic-operations/"
   ]
  },
  {
   "cell_type": "code",
   "execution_count": 28,
   "id": "7f2af845-fbea-4aeb-ade0-ebb4cbd2f5f8",
   "metadata": {},
   "outputs": [
    {
     "name": "stdout",
     "output_type": "stream",
     "text": [
      "[  7  77  23 130]\n",
      "[  7  77  23 130]\n",
      "[  8  79  26 134]\n",
      "[  7  77  23 130]\n"
     ]
    }
   ],
   "source": [
    "# Addition\n",
    "\n",
    "import numpy as np\n",
    " \n",
    "# Defining both the matrices\n",
    "a = np.array([5, 72, 13, 100])\n",
    "b = np.array([2, 5, 10, 30])\n",
    " \n",
    "# Performing addition using arithmetic operator\n",
    "add_ans = a+b\n",
    "print(add_ans)\n",
    " \n",
    "# Performing addition using numpy function\n",
    "add_ans = np.add(a, b)\n",
    "print(add_ans)\n",
    " \n",
    "# this would work\n",
    "c = np.array([1, 2, 3, 4])\n",
    "add_ans = a+b+c\n",
    "print(add_ans)\n",
    " \n",
    "# IMPORTANT: here NumPy only considers the first two arrays (a and b) and ignores the third one (c).\n",
    "add_ans = np.add(a, b, c)\n",
    "print(add_ans)"
   ]
  },
  {
   "cell_type": "code",
   "execution_count": 29,
   "id": "3a0f0f20-4e6b-4dec-95d0-cbf636b3b5a3",
   "metadata": {},
   "outputs": [
    {
     "name": "stdout",
     "output_type": "stream",
     "text": [
      "[ 3 67  3 70]\n",
      "[ 3 67  3 70]\n"
     ]
    }
   ],
   "source": [
    "# Subtraction\n",
    "\n",
    "import numpy as np\n",
    " \n",
    "# Defining both the matrices\n",
    "a = np.array([5, 72, 13, 100])\n",
    "b = np.array([2, 5, 10, 30])\n",
    " \n",
    "# Performing subtraction using arithmetic operator\n",
    "sub_ans = a-b\n",
    "print(sub_ans)\n",
    " \n",
    "# Performing subtraction using numpy function\n",
    "sub_ans = np.subtract(a, b)\n",
    "print(sub_ans)"
   ]
  },
  {
   "cell_type": "code",
   "execution_count": 36,
   "id": "e08bd6f4-717a-45c7-acc4-68ab1e2a7294",
   "metadata": {},
   "outputs": [
    {
     "name": "stdout",
     "output_type": "stream",
     "text": [
      "[  10  360  130 3000]\n",
      "[  10  360  130 3000]\n"
     ]
    }
   ],
   "source": [
    "# Multiplication\n",
    " \n",
    "import numpy as np\n",
    " \n",
    "# Defining both the matrices\n",
    "a = np.array([5, 72, 13, 100])\n",
    "b = np.array([2, 5, 10, 30])\n",
    " \n",
    "# Performing multiplication using arithmetic operator\n",
    "mul_ans = a*b\n",
    "print(mul_ans)\n",
    " \n",
    "# Performing multiplication using numpy function\n",
    "mul_ans = np.multiply(a, b)\n",
    "print(mul_ans)"
   ]
  },
  {
   "cell_type": "code",
   "execution_count": 33,
   "id": "7263605c-5162-42bb-8ab3-9bf281ca5594",
   "metadata": {},
   "outputs": [
    {
     "name": "stdout",
     "output_type": "stream",
     "text": [
      "[ 2.5        14.4         1.3         3.33333333]\n",
      "[ 2.5        14.4         1.3         3.33333333]\n"
     ]
    }
   ],
   "source": [
    "# Division\n",
    "\n",
    "import numpy as np\n",
    " \n",
    "# Defining both the matrices\n",
    "a = np.array([5, 72, 13, 100])\n",
    "b = np.array([2, 5, 10, 30])\n",
    " \n",
    "# Performing division using arithmetic operators\n",
    "div_ans = a/b\n",
    "print(div_ans)\n",
    " \n",
    "# Performing division using numpy functions\n",
    "div_ans = np.divide(a, b)\n",
    "print(div_ans)"
   ]
  },
  {
   "cell_type": "code",
   "execution_count": 37,
   "id": "621df230-4177-4a8e-83b2-baf55888910d",
   "metadata": {},
   "outputs": [
    {
     "name": "stdout",
     "output_type": "stream",
     "text": [
      "47.5\n",
      "11.75\n",
      "190\n",
      "119.1875\n"
     ]
    }
   ],
   "source": [
    "# Some aggregation and statistical functions\n",
    "\n",
    "# Getting mean of all numbers in 'a'\n",
    "mean_a = np.mean(a)\n",
    "print(mean_a)\n",
    " \n",
    "# Getting average of all numbers in 'b'\n",
    "mean_b = np.average(b)\n",
    "print(mean_b)\n",
    " \n",
    "# Getting sum of all numbers in 'a'\n",
    "sum_a = np.sum(a)\n",
    "print(sum_a)\n",
    " \n",
    "# Getting variance of all number in 'b'\n",
    "var_b = np.var(b)\n",
    "print(var_b)"
   ]
  },
  {
   "cell_type": "markdown",
   "id": "90408bcf-55ce-4d51-8fe3-a7e5f6f52f60",
   "metadata": {},
   "source": [
    "<div style=\"background-color: lightgreen; padding: 10px;\">\n",
    "    <h2> Exercices\n",
    "</div>"
   ]
  },
  {
   "cell_type": "markdown",
   "id": "81e794b9-e0b4-42f2-b3ef-3aa32fc0a59e",
   "metadata": {},
   "source": [
    "**Ex1:** \n",
    "Imagine that you are a data scientist analyzing the performance of two sales teams over the course of a year. For each team, use an ndarray with 6 positions to represent the total sales over each of the 6 two-month periods in a year. Fill both arrays with the values you want. Then, calculate the average sales per period and indicate, for each team, in which periods the average sale was exceeded."
   ]
  },
  {
   "cell_type": "code",
   "execution_count": 2,
   "id": "f3855e93-5ff9-4b1a-91ba-54ebad54f752",
   "metadata": {},
   "outputs": [
    {
     "name": "stdout",
     "output_type": "stream",
     "text": [
      "2266.6666666666665\n",
      "2333.3333333333335\n"
     ]
    }
   ],
   "source": [
    "import numpy as np\n",
    "vendas1 = np.array([1000, 1500, 2000, 2400, 5000, 1700])\n",
    "vendas2 = np.array([2100, 3500, 1000, 1700, 3000, 2700])\n",
    "\n",
    "# Primeira abordagem - média do grupo:\n",
    "media1 = vendas1.sum(0) / vendas1.size\n",
    "media2 = vendas2.sum(0) / vendas2.size\n",
    "\n",
    "print(media1)\n",
    "print(media2)"
   ]
  },
  {
   "cell_type": "code",
   "execution_count": 3,
   "id": "1e40c2ff-f33c-44dd-a7dc-eee0a98e33cb",
   "metadata": {},
   "outputs": [
    {
     "name": "stdout",
     "output_type": "stream",
     "text": [
      "[1550. 2500. 1500. 2050. 4000. 2200.]\n",
      "[False False  True  True  True False]\n",
      "[ True  True False False False  True]\n"
     ]
    }
   ],
   "source": [
    "# Segunda abordagem, média por bimestre:\n",
    "\n",
    "medias = (vendas1 + vendas2) / 2\n",
    "print(medias)\n",
    "\n",
    "a = vendas1 >= medias\n",
    "b = vendas2 >= medias\n",
    "print(a)\n",
    "print(b)"
   ]
  },
  {
   "cell_type": "code",
   "execution_count": 4,
   "id": "3f7e9d17-6bd3-4464-ab65-5ae2ad39fb60",
   "metadata": {},
   "outputs": [
    {
     "data": {
      "text/plain": [
       "array([2100, 3500, 2700])"
      ]
     },
     "execution_count": 4,
     "metadata": {},
     "output_type": "execute_result"
    }
   ],
   "source": [
    "time_a = vendas1[a]\n",
    "time_a\n"
   ]
  },
  {
   "cell_type": "code",
   "execution_count": 5,
   "id": "5d38a59c-c9f5-41ed-9fc1-fcdeb53f9974",
   "metadata": {},
   "outputs": [
    {
     "data": {
      "text/plain": [
       "array([2100, 3500, 2700])"
      ]
     },
     "execution_count": 5,
     "metadata": {},
     "output_type": "execute_result"
    }
   ],
   "source": [
    "time_b = vendas2[b]\n",
    "time_b"
   ]
  },
  {
   "cell_type": "markdown",
   "id": "c9fbd3fa-b509-4118-aea5-75edec4846c6",
   "metadata": {},
   "source": [
    "**Ex2:** You work for a company and have received expense reports separated by quarter. Consider 3 types of expenses: `personal`, `supplies`, and `miscellaneous`. For each type, use an ndarray to store the 4 quarterly expense values that were recorded over the past year. After that, use ndarrays to find the total expenses for each quarter and then organize all expenses into a single data structure by stacking the ndarrays."
   ]
  },
  {
   "cell_type": "code",
   "execution_count": 6,
   "id": "18fee541-323a-4aba-8868-77efb80d9d84",
   "metadata": {},
   "outputs": [
    {
     "data": {
      "text/plain": [
       "array([ 4500, 10500, 12800, 17200])"
      ]
     },
     "execution_count": 6,
     "metadata": {},
     "output_type": "execute_result"
    }
   ],
   "source": [
    "import numpy as np\n",
    "\n",
    "pessoal = np.array([2000, 4000, 4500, 6000])\n",
    "insumos = np.array([2500, 5000, 7500, 10000])\n",
    "diversos = np.array([0, 1500, 800, 1200])\n",
    "\n",
    "totais = pessoal + insumos + diversos\n",
    "totais"
   ]
  },
  {
   "cell_type": "code",
   "execution_count": 7,
   "id": "7697d443-2a61-4676-8862-21a75348e2d0",
   "metadata": {},
   "outputs": [
    {
     "data": {
      "text/plain": [
       "array([[ 2000,  4000,  4500,  6000],\n",
       "       [ 2500,  5000,  7500, 10000],\n",
       "       [    0,  1500,   800,  1200]])"
      ]
     },
     "execution_count": 7,
     "metadata": {},
     "output_type": "execute_result"
    }
   ],
   "source": [
    "resultante = np.vstack((pessoal, insumos, diversos))\n",
    "resultante"
   ]
  },
  {
   "cell_type": "markdown",
   "id": "bc75dd54-ffad-4632-9ba2-4a3333aa4647",
   "metadata": {},
   "source": [
    "**Ex3:** Using the expenses saved in ndarrays in the previous exercise, use the ndarrays to find the total expenses for each semester, not each quarter."
   ]
  },
  {
   "cell_type": "code",
   "execution_count": 8,
   "id": "8f0623fa-4617-48a2-9841-0d2c30c6cd9c",
   "metadata": {},
   "outputs": [
    {
     "name": "stdout",
     "output_type": "stream",
     "text": [
      "[ 4500 10500]\n",
      "[12800 17200]\n"
     ]
    }
   ],
   "source": [
    "print(sum(resultante[:,:2]))\n",
    "print(sum(resultante[:,2:]))"
   ]
  },
  {
   "cell_type": "code",
   "execution_count": 9,
   "id": "b09df915-adc7-455a-9200-605d314a3642",
   "metadata": {},
   "outputs": [
    {
     "name": "stdout",
     "output_type": "stream",
     "text": [
      "15000 30000\n"
     ]
    }
   ],
   "source": [
    "p_semestre = sum(sum(resultante[:,:2]))\n",
    "s_semestre = sum(sum(resultante[:,2:]))\n",
    "\n",
    "print(p_semestre, s_semestre)"
   ]
  },
  {
   "cell_type": "markdown",
   "id": "4b9359d0-ee7e-4a0b-a78e-169a0e63113f",
   "metadata": {},
   "source": [
    "**Ex4:** Consider the following NumPy array `arr`:\r\n",
    "\r\n",
    "```python\r\n",
    "arr = np.array([[1, 2, 3, 4],\r\n",
    "                [5, 6, 7, 8],\r\n",
    "                [9, 10, 11, 12]])\r\n",
    "```\r\n",
    "\r\n",
    "Perform the following slicing operations:\r\n",
    "\r\n",
    "- Extract the second row of the array `arr`.\r\n",
    "- Get the last column of the array `arr`.\r\n",
    "- Create a submatrix consisting of the first two rows and the first two columns of `arr`.\r\n",
    "- Select the elements 6, 7, 10, and 11 from `arr`."
   ]
  },
  {
   "cell_type": "code",
   "execution_count": 11,
   "id": "112ce78a-a996-4da9-950f-4f875f9e2000",
   "metadata": {},
   "outputs": [
    {
     "data": {
      "text/plain": [
       "array([5, 6, 7, 8])"
      ]
     },
     "execution_count": 11,
     "metadata": {},
     "output_type": "execute_result"
    }
   ],
   "source": [
    "arr = np.array([[1, 2, 3, 4],\n",
    "                [5, 6, 7, 8],\n",
    "                [9, 10, 11, 12]])\n",
    "\n",
    "arr[1, :]"
   ]
  },
  {
   "cell_type": "code",
   "execution_count": 12,
   "id": "33ee069c-38b2-4d15-8cd8-3118d4793746",
   "metadata": {},
   "outputs": [
    {
     "data": {
      "text/plain": [
       "array([ 4,  8, 12])"
      ]
     },
     "execution_count": 12,
     "metadata": {},
     "output_type": "execute_result"
    }
   ],
   "source": [
    "arr[:,-1]"
   ]
  },
  {
   "cell_type": "code",
   "execution_count": 13,
   "id": "c8bb8a72-f877-49d3-a87e-7672f158f593",
   "metadata": {},
   "outputs": [
    {
     "data": {
      "text/plain": [
       "array([[1, 2],\n",
       "       [5, 6]])"
      ]
     },
     "execution_count": 13,
     "metadata": {},
     "output_type": "execute_result"
    }
   ],
   "source": [
    "arr[0:2,0:2]"
   ]
  },
  {
   "cell_type": "code",
   "execution_count": 14,
   "id": "77947eb7-c42b-454d-b616-66c25f6a0f7a",
   "metadata": {},
   "outputs": [
    {
     "data": {
      "text/plain": [
       "array([[ 6,  7],\n",
       "       [10, 11]])"
      ]
     },
     "execution_count": 14,
     "metadata": {},
     "output_type": "execute_result"
    }
   ],
   "source": [
    "arr[1:3,1:3]"
   ]
  },
  {
   "cell_type": "markdown",
   "id": "7fbbd4d5-5225-4bd6-8e8e-48910d2e3f52",
   "metadata": {},
   "source": [
    "**Ex5:** For the same matrix `arr` from the previous exercise, create a boolean matrix with the same shape as `arr` where True represents values greater than 6. Afterward, use the boolean matrix to create a new ndarray containing only the values greater than 6."
   ]
  },
  {
   "cell_type": "code",
   "execution_count": 15,
   "id": "7e51561c-756f-459f-85eb-0f8c983a9fbf",
   "metadata": {},
   "outputs": [
    {
     "data": {
      "text/plain": [
       "array([[False, False, False, False],\n",
       "       [False, False,  True,  True],\n",
       "       [ True,  True,  True,  True]])"
      ]
     },
     "execution_count": 15,
     "metadata": {},
     "output_type": "execute_result"
    }
   ],
   "source": [
    "mask_boolean = arr > 6\n",
    "mask_boolean"
   ]
  },
  {
   "cell_type": "code",
   "execution_count": 16,
   "id": "5fd2002f-ca71-4c83-afc7-7a4a6c3c4fb2",
   "metadata": {},
   "outputs": [
    {
     "data": {
      "text/plain": [
       "array([ 7,  8,  9, 10, 11, 12])"
      ]
     },
     "execution_count": 16,
     "metadata": {},
     "output_type": "execute_result"
    }
   ],
   "source": [
    "new = arr[mask_boolean]\n",
    "new"
   ]
  }
 ],
 "metadata": {
  "kernelspec": {
   "display_name": "Python 3 (ipykernel)",
   "language": "python",
   "name": "python3"
  },
  "language_info": {
   "codemirror_mode": {
    "name": "ipython",
    "version": 3
   },
   "file_extension": ".py",
   "mimetype": "text/x-python",
   "name": "python",
   "nbconvert_exporter": "python",
   "pygments_lexer": "ipython3",
   "version": "3.11.5"
  }
 },
 "nbformat": 4,
 "nbformat_minor": 5
}
