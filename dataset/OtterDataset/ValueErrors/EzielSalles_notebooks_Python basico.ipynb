{
 "cells": [
  {
   "cell_type": "code",
   "execution_count": 1,
   "id": "a6c17f1d",
   "metadata": {},
   "outputs": [],
   "source": [
    "name = \"Eziel\""
   ]
  },
  {
   "cell_type": "code",
   "execution_count": 2,
   "id": "8a7c5481",
   "metadata": {},
   "outputs": [
    {
     "name": "stdout",
     "output_type": "stream",
     "text": [
      "Eziel\n"
     ]
    }
   ],
   "source": [
    "print(name)"
   ]
  },
  {
   "cell_type": "code",
   "execution_count": 3,
   "id": "9dbc3854",
   "metadata": {},
   "outputs": [],
   "source": [
    "hora = 12"
   ]
  },
  {
   "cell_type": "code",
   "execution_count": 4,
   "id": "3b799e20",
   "metadata": {},
   "outputs": [
    {
     "name": "stdout",
     "output_type": "stream",
     "text": [
      "12\n"
     ]
    }
   ],
   "source": [
    "print(hora)"
   ]
  },
  {
   "cell_type": "code",
   "execution_count": 5,
   "id": "fca8b100",
   "metadata": {},
   "outputs": [
    {
     "data": {
      "text/plain": [
       "12"
      ]
     },
     "execution_count": 5,
     "metadata": {},
     "output_type": "execute_result"
    }
   ],
   "source": [
    "hora"
   ]
  },
  {
   "cell_type": "code",
   "execution_count": 6,
   "id": "2b66386c",
   "metadata": {},
   "outputs": [
    {
     "data": {
      "text/plain": [
       "12"
      ]
     },
     "execution_count": 6,
     "metadata": {},
     "output_type": "execute_result"
    }
   ],
   "source": [
    "name\n",
    "hora"
   ]
  },
  {
   "cell_type": "code",
   "execution_count": 7,
   "id": "5be1fdd8",
   "metadata": {},
   "outputs": [
    {
     "data": {
      "text/plain": [
       "str"
      ]
     },
     "execution_count": 7,
     "metadata": {},
     "output_type": "execute_result"
    }
   ],
   "source": [
    "type(name)"
   ]
  },
  {
   "cell_type": "code",
   "execution_count": 8,
   "id": "e513f438",
   "metadata": {},
   "outputs": [
    {
     "data": {
      "text/plain": [
       "int"
      ]
     },
     "execution_count": 8,
     "metadata": {},
     "output_type": "execute_result"
    }
   ],
   "source": [
    "type(hora)"
   ]
  },
  {
   "cell_type": "code",
   "execution_count": 9,
   "id": "16092bcd",
   "metadata": {},
   "outputs": [
    {
     "data": {
      "text/plain": [
       "float"
      ]
     },
     "execution_count": 9,
     "metadata": {},
     "output_type": "execute_result"
    }
   ],
   "source": [
    "type(0.6)"
   ]
  },
  {
   "cell_type": "code",
   "execution_count": 10,
   "id": "34998f7e",
   "metadata": {},
   "outputs": [],
   "source": [
    "nomes = [\"Eziel\",\"Luna\",\"Afonso\"]"
   ]
  },
  {
   "cell_type": "code",
   "execution_count": 11,
   "id": "a3df8a9a",
   "metadata": {},
   "outputs": [
    {
     "data": {
      "text/plain": [
       "list"
      ]
     },
     "execution_count": 11,
     "metadata": {},
     "output_type": "execute_result"
    }
   ],
   "source": [
    "type(nomes)"
   ]
  },
  {
   "cell_type": "code",
   "execution_count": 12,
   "id": "c2f24237",
   "metadata": {},
   "outputs": [
    {
     "data": {
      "text/plain": [
       "'Luna'"
      ]
     },
     "execution_count": 12,
     "metadata": {},
     "output_type": "execute_result"
    }
   ],
   "source": [
    "nomes[1]"
   ]
  },
  {
   "cell_type": "code",
   "execution_count": 13,
   "id": "d5599509",
   "metadata": {},
   "outputs": [],
   "source": [
    "mentor = nomes[2]"
   ]
  },
  {
   "cell_type": "code",
   "execution_count": 14,
   "id": "855eae8f",
   "metadata": {},
   "outputs": [
    {
     "data": {
      "text/plain": [
       "'Afonso'"
      ]
     },
     "execution_count": 14,
     "metadata": {},
     "output_type": "execute_result"
    }
   ],
   "source": [
    "mentor"
   ]
  },
  {
   "cell_type": "code",
   "execution_count": 15,
   "id": "ad9a3a49",
   "metadata": {},
   "outputs": [
    {
     "data": {
      "text/plain": [
       "str"
      ]
     },
     "execution_count": 15,
     "metadata": {},
     "output_type": "execute_result"
    }
   ],
   "source": [
    "type(mentor)"
   ]
  },
  {
   "cell_type": "code",
   "execution_count": 16,
   "id": "295957e4",
   "metadata": {},
   "outputs": [
    {
     "data": {
      "text/plain": [
       "['Eziel']"
      ]
     },
     "execution_count": 16,
     "metadata": {},
     "output_type": "execute_result"
    }
   ],
   "source": [
    "nomes[0:1]"
   ]
  },
  {
   "cell_type": "code",
   "execution_count": 17,
   "id": "ec8f3a48",
   "metadata": {},
   "outputs": [
    {
     "data": {
      "text/plain": [
       "['Eziel', 'Luna']"
      ]
     },
     "execution_count": 17,
     "metadata": {},
     "output_type": "execute_result"
    }
   ],
   "source": [
    "nomes[0:2]"
   ]
  },
  {
   "cell_type": "code",
   "execution_count": 18,
   "id": "043dc146",
   "metadata": {},
   "outputs": [
    {
     "data": {
      "text/plain": [
       "['Luna', 'Afonso']"
      ]
     },
     "execution_count": 18,
     "metadata": {},
     "output_type": "execute_result"
    }
   ],
   "source": [
    "nomes[1:3]"
   ]
  },
  {
   "cell_type": "code",
   "execution_count": 19,
   "id": "2fae3b4c",
   "metadata": {},
   "outputs": [
    {
     "data": {
      "text/plain": [
       "['Eziel', 'Luna']"
      ]
     },
     "execution_count": 19,
     "metadata": {},
     "output_type": "execute_result"
    }
   ],
   "source": [
    "nomes[:2]"
   ]
  },
  {
   "cell_type": "code",
   "execution_count": 21,
   "id": "6f627aee",
   "metadata": {},
   "outputs": [
    {
     "data": {
      "text/plain": [
       "['Luna', 'Afonso']"
      ]
     },
     "execution_count": 21,
     "metadata": {},
     "output_type": "execute_result"
    }
   ],
   "source": [
    "nomes[1:]"
   ]
  },
  {
   "cell_type": "code",
   "execution_count": 22,
   "id": "63151bdb",
   "metadata": {},
   "outputs": [],
   "source": [
    "dic = {\"nome1\":\"Eziel\", \"nome2\":\"Luna\", \"nome3\":\"Afonso\"}"
   ]
  },
  {
   "cell_type": "code",
   "execution_count": 23,
   "id": "eef2a0a9",
   "metadata": {},
   "outputs": [
    {
     "data": {
      "text/plain": [
       "'Luna'"
      ]
     },
     "execution_count": 23,
     "metadata": {},
     "output_type": "execute_result"
    }
   ],
   "source": [
    "dic[\"nome2\"]"
   ]
  },
  {
   "cell_type": "code",
   "execution_count": 24,
   "id": "1c69786a",
   "metadata": {},
   "outputs": [
    {
     "data": {
      "text/plain": [
       "'meu nome é: Eziel'"
      ]
     },
     "execution_count": 24,
     "metadata": {},
     "output_type": "execute_result"
    }
   ],
   "source": [
    "\"meu nome é: \" + name"
   ]
  },
  {
   "cell_type": "code",
   "execution_count": 25,
   "id": "1fcabe52",
   "metadata": {},
   "outputs": [
    {
     "data": {
      "text/plain": [
       "'meu nome é: Luna'"
      ]
     },
     "execution_count": 25,
     "metadata": {},
     "output_type": "execute_result"
    }
   ],
   "source": [
    "\"meu nome é: \" + dic[\"nome2\"]"
   ]
  },
  {
   "cell_type": "code",
   "execution_count": 29,
   "id": "95496510",
   "metadata": {},
   "outputs": [
    {
     "name": "stdout",
     "output_type": "stream",
     "text": [
      "meu nome é: Eziel\n",
      "meu nome é: Luna\n",
      "meu nome é: Afonso\n"
     ]
    }
   ],
   "source": [
    "for abacaxi in nomes:\n",
    "    print(\"meu nome é: \" + abacaxi)"
   ]
  },
  {
   "cell_type": "code",
   "execution_count": 28,
   "id": "b6fdc641",
   "metadata": {},
   "outputs": [
    {
     "name": "stdout",
     "output_type": "stream",
     "text": [
      "meu nome é: Afonso\n"
     ]
    }
   ],
   "source": [
    "abacaxi = nomes[2]\n",
    "print(\"meu nome é: \" + abacaxi)"
   ]
  },
  {
   "cell_type": "code",
   "execution_count": 30,
   "id": "a5e59af6",
   "metadata": {},
   "outputs": [
    {
     "data": {
      "text/plain": [
       "3"
      ]
     },
     "execution_count": 30,
     "metadata": {},
     "output_type": "execute_result"
    }
   ],
   "source": [
    "len(nomes)"
   ]
  },
  {
   "cell_type": "code",
   "execution_count": 31,
   "id": "173d79d6",
   "metadata": {},
   "outputs": [
    {
     "data": {
      "text/plain": [
       "5"
      ]
     },
     "execution_count": 31,
     "metadata": {},
     "output_type": "execute_result"
    }
   ],
   "source": [
    "len(name)"
   ]
  },
  {
   "cell_type": "code",
   "execution_count": 32,
   "id": "e249f222",
   "metadata": {},
   "outputs": [
    {
     "data": {
      "text/plain": [
       "str"
      ]
     },
     "execution_count": 32,
     "metadata": {},
     "output_type": "execute_result"
    }
   ],
   "source": [
    "type(\"12\")"
   ]
  },
  {
   "cell_type": "code",
   "execution_count": 33,
   "id": "33c172a0",
   "metadata": {},
   "outputs": [
    {
     "data": {
      "text/plain": [
       "12"
      ]
     },
     "execution_count": 33,
     "metadata": {},
     "output_type": "execute_result"
    }
   ],
   "source": [
    "int(\"12\")"
   ]
  },
  {
   "cell_type": "code",
   "execution_count": 34,
   "id": "1c6876ca",
   "metadata": {},
   "outputs": [
    {
     "data": {
      "text/plain": [
       "int"
      ]
     },
     "execution_count": 34,
     "metadata": {},
     "output_type": "execute_result"
    }
   ],
   "source": [
    "type(int(\"12\"))"
   ]
  },
  {
   "cell_type": "code",
   "execution_count": 35,
   "id": "1093e5ca",
   "metadata": {},
   "outputs": [
    {
     "ename": "ValueError",
     "evalue": "invalid literal for int() with base 10: 'Eziel'",
     "output_type": "error",
     "traceback": [
      "\u001b[1;31m---------------------------------------------------------------------------\u001b[0m",
      "\u001b[1;31mValueError\u001b[0m                                Traceback (most recent call last)",
      "Cell \u001b[1;32mIn[35], line 1\u001b[0m\n\u001b[1;32m----> 1\u001b[0m \u001b[38;5;28mint\u001b[39m(\u001b[38;5;124m\"\u001b[39m\u001b[38;5;124mEziel\u001b[39m\u001b[38;5;124m\"\u001b[39m)\n",
      "\u001b[1;31mValueError\u001b[0m: invalid literal for int() with base 10: 'Eziel'"
     ]
    }
   ],
   "source": [
    "int(\"Eziel\")"
   ]
  },
  {
   "cell_type": "code",
   "execution_count": null,
   "id": "f9dc4706",
   "metadata": {},
   "outputs": [],
   "source": []
  }
 ],
 "metadata": {
  "kernelspec": {
   "display_name": "Python 3 (ipykernel)",
   "language": "python",
   "name": "python3"
  },
  "language_info": {
   "codemirror_mode": {
    "name": "ipython",
    "version": 3
   },
   "file_extension": ".py",
   "mimetype": "text/x-python",
   "name": "python",
   "nbconvert_exporter": "python",
   "pygments_lexer": "ipython3",
   "version": "3.11.4"
  }
 },
 "nbformat": 4,
 "nbformat_minor": 5
}
