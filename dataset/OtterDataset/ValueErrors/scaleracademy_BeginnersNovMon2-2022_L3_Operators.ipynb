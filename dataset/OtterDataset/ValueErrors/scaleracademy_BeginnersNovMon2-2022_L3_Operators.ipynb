{
  "nbformat": 4,
  "nbformat_minor": 0,
  "metadata": {
    "colab": {
      "provenance": [],
      "authorship_tag": "ABX9TyOBlvA9+BJK9O7Eciy1iV84",
      "include_colab_link": true
    },
    "kernelspec": {
      "name": "python3",
      "display_name": "Python 3"
    },
    "language_info": {
      "name": "python"
    }
  },
  "cells": [
    {
      "cell_type": "markdown",
      "metadata": {
        "id": "view-in-github",
        "colab_type": "text"
      },
      "source": [
        "<a href=\"https://colab.research.google.com/github/scaleracademy/BeginnersNovMon2-2022/blob/main/L3_Operators.ipynb\" target=\"_parent\"><img src=\"https://colab.research.google.com/assets/colab-badge.svg\" alt=\"Open In Colab\"/></a>"
      ]
    },
    {
      "cell_type": "markdown",
      "source": [
        "#Operators:\n",
        "\n",
        "<img src='https://www.edureka.co/blog/content/ver.1556012641/uploads/2019/04/op2-1-528x221.png'>"
      ],
      "metadata": {
        "id": "RmhoYNGEuOJz"
      }
    },
    {
      "cell_type": "markdown",
      "source": [
        "# Problem1: WAP to convert minutes to seconds"
      ],
      "metadata": {
        "id": "IgKkgvL0Eehn"
      }
    },
    {
      "cell_type": "code",
      "source": [
        "mins = int(input())\n",
        "print(mins*60,'secs')"
      ],
      "metadata": {
        "id": "Kp26Z7Mjulik",
        "colab": {
          "base_uri": "https://localhost:8080/"
        },
        "outputId": "74f265f5-2080-494b-d468-e7bbd5f74a66"
      },
      "execution_count": 3,
      "outputs": [
        {
          "output_type": "stream",
          "name": "stdout",
          "text": [
            "5\n",
            "300 secs\n"
          ]
        }
      ]
    },
    {
      "cell_type": "code",
      "source": [
        "mins = int(input('time in mins '))\n",
        "print(mins*60,'secs')"
      ],
      "metadata": {
        "id": "hqIEahYoulf4",
        "colab": {
          "base_uri": "https://localhost:8080/"
        },
        "outputId": "3e7603f0-2696-4834-ea12-79aa296f54db"
      },
      "execution_count": 5,
      "outputs": [
        {
          "output_type": "stream",
          "name": "stdout",
          "text": [
            "time in mins 3\n",
            "180 secs\n"
          ]
        }
      ]
    },
    {
      "cell_type": "code",
      "source": [],
      "metadata": {
        "id": "Px4o3pMPZBlV"
      },
      "execution_count": null,
      "outputs": []
    },
    {
      "cell_type": "code",
      "source": [],
      "metadata": {
        "id": "WQUl2qbRZBis"
      },
      "execution_count": null,
      "outputs": []
    },
    {
      "cell_type": "code",
      "source": [],
      "metadata": {
        "id": "MF-mODszZBgF"
      },
      "execution_count": null,
      "outputs": []
    },
    {
      "cell_type": "markdown",
      "source": [
        "# Problem2\n",
        "A farmer is asking you to tell him how many legs can be counted among all his animals. The farmer breeds three species:\n",
        "\n",
        "chickens = 2 legs\n",
        "\n",
        "cows = 4 legs\n",
        "\n",
        "pigs = 4 legs\n",
        "\n",
        "The farmer has counted his animals and he gives you a subtotal for each species. You have to write a program to print the total number of legs of all the animals."
      ],
      "metadata": {
        "id": "D7sPXlmGumJ2"
      }
    },
    {
      "cell_type": "code",
      "source": [
        "chickens = int(input())\n",
        "cows = int(input())\n",
        "pigs = int(input())\n",
        "total_legs = 2*chickens+4*cows+4*pigs\n",
        "print('total legs = ',total_legs)"
      ],
      "metadata": {
        "id": "oB0XRdUAwmQ_",
        "colab": {
          "base_uri": "https://localhost:8080/"
        },
        "outputId": "58e2e5a2-9ba8-4d90-b254-6333582f13c5"
      },
      "execution_count": 6,
      "outputs": [
        {
          "output_type": "stream",
          "name": "stdout",
          "text": [
            "4\n",
            "3\n",
            "2\n",
            "total legs =  28\n"
          ]
        }
      ]
    },
    {
      "cell_type": "code",
      "source": [
        "ckn= 2*int(input())\n",
        "cw= 4*int(input())\n",
        "pig= 4*int(input())\n",
        "print(ckn+cw+pig)"
      ],
      "metadata": {
        "id": "H0_--Ml9ZBnl",
        "colab": {
          "base_uri": "https://localhost:8080/"
        },
        "outputId": "0bb13def-ed08-4076-ea8e-6c6c28381b46"
      },
      "execution_count": 33,
      "outputs": [
        {
          "output_type": "stream",
          "name": "stdout",
          "text": [
            "4\n",
            "5\n",
            "6\n",
            "52\n"
          ]
        }
      ]
    },
    {
      "cell_type": "code",
      "source": [],
      "metadata": {
        "id": "GUf1GyWQZDml"
      },
      "execution_count": null,
      "outputs": []
    },
    {
      "cell_type": "code",
      "source": [],
      "metadata": {
        "id": "7HQFD1huZDj0"
      },
      "execution_count": null,
      "outputs": []
    },
    {
      "cell_type": "code",
      "source": [],
      "metadata": {
        "id": "YcdDwU03ZDhU"
      },
      "execution_count": null,
      "outputs": []
    },
    {
      "cell_type": "code",
      "source": [],
      "metadata": {
        "id": "9N8iCpC1ZDe8"
      },
      "execution_count": null,
      "outputs": []
    },
    {
      "cell_type": "code",
      "source": [],
      "metadata": {
        "id": "tbpo-e-jZDcN"
      },
      "execution_count": null,
      "outputs": []
    },
    {
      "cell_type": "markdown",
      "source": [
        "# Problem3\n",
        "Write a program to calculate total marks and percentage of a student."
      ],
      "metadata": {
        "id": "uAL_kLdIwgVZ"
      }
    },
    {
      "cell_type": "code",
      "source": [
        "S1 = int(input())\n",
        "S2 = int(input())\n",
        "S3 = int(input())\n",
        "S4 = int(input())\n",
        "S5 = int(input())\n",
        "Total_marks = S1+S2+S3+S4+S5\n",
        "percentage = Total_marks/500 * 100\n",
        "print('Total marks = ',Total_marks,'Percentage =',percentage,'%')"
      ],
      "metadata": {
        "id": "e82lt9-K1vv9",
        "colab": {
          "base_uri": "https://localhost:8080/"
        },
        "outputId": "088ee6fb-ff50-481e-9a50-d008959710c8"
      },
      "execution_count": 7,
      "outputs": [
        {
          "output_type": "stream",
          "name": "stdout",
          "text": [
            "99\n",
            "99\n",
            "99\n",
            "99\n",
            "99\n",
            "Total marks =  495 Percentage = 99.0 %\n"
          ]
        }
      ]
    },
    {
      "cell_type": "code",
      "source": [
        "S1 = int(input())\n",
        "S2 = int(input())\n",
        "S3 = int(input())\n",
        "S4 = int(input())\n",
        "S5 = int(input())\n",
        "Total_marks = S1+S2+S3+S4+S5\n",
        "percentage = Total_marks/500 * 100\n",
        "print('Total marks = ',Total_marks,'Percentage =',percentage,'%')"
      ],
      "metadata": {
        "id": "5PQlHexJ3Ivg",
        "colab": {
          "base_uri": "https://localhost:8080/",
          "height": 257
        },
        "outputId": "a6696eff-a18c-47df-f821-069b0dd9dc03"
      },
      "execution_count": 8,
      "outputs": [
        {
          "name": "stdout",
          "output_type": "stream",
          "text": [
            "sthu\n"
          ]
        },
        {
          "output_type": "error",
          "ename": "ValueError",
          "evalue": "ignored",
          "traceback": [
            "\u001b[0;31m---------------------------------------------------------------------------\u001b[0m",
            "\u001b[0;31mValueError\u001b[0m                                Traceback (most recent call last)",
            "\u001b[0;32m<ipython-input-8-da9cdb8f6e53>\u001b[0m in \u001b[0;36m<module>\u001b[0;34m\u001b[0m\n\u001b[0;32m----> 1\u001b[0;31m \u001b[0mS1\u001b[0m \u001b[0;34m=\u001b[0m \u001b[0mint\u001b[0m\u001b[0;34m(\u001b[0m\u001b[0minput\u001b[0m\u001b[0;34m(\u001b[0m\u001b[0;34m)\u001b[0m\u001b[0;34m)\u001b[0m\u001b[0;34m\u001b[0m\u001b[0;34m\u001b[0m\u001b[0m\n\u001b[0m\u001b[1;32m      2\u001b[0m \u001b[0mS2\u001b[0m \u001b[0;34m=\u001b[0m \u001b[0mint\u001b[0m\u001b[0;34m(\u001b[0m\u001b[0minput\u001b[0m\u001b[0;34m(\u001b[0m\u001b[0;34m)\u001b[0m\u001b[0;34m)\u001b[0m\u001b[0;34m\u001b[0m\u001b[0;34m\u001b[0m\u001b[0m\n\u001b[1;32m      3\u001b[0m \u001b[0mS3\u001b[0m \u001b[0;34m=\u001b[0m \u001b[0mint\u001b[0m\u001b[0;34m(\u001b[0m\u001b[0minput\u001b[0m\u001b[0;34m(\u001b[0m\u001b[0;34m)\u001b[0m\u001b[0;34m)\u001b[0m\u001b[0;34m\u001b[0m\u001b[0;34m\u001b[0m\u001b[0m\n\u001b[1;32m      4\u001b[0m \u001b[0mS4\u001b[0m \u001b[0;34m=\u001b[0m \u001b[0mint\u001b[0m\u001b[0;34m(\u001b[0m\u001b[0minput\u001b[0m\u001b[0;34m(\u001b[0m\u001b[0;34m)\u001b[0m\u001b[0;34m)\u001b[0m\u001b[0;34m\u001b[0m\u001b[0;34m\u001b[0m\u001b[0m\n\u001b[1;32m      5\u001b[0m \u001b[0mS5\u001b[0m \u001b[0;34m=\u001b[0m \u001b[0mint\u001b[0m\u001b[0;34m(\u001b[0m\u001b[0minput\u001b[0m\u001b[0;34m(\u001b[0m\u001b[0;34m)\u001b[0m\u001b[0;34m)\u001b[0m\u001b[0;34m\u001b[0m\u001b[0;34m\u001b[0m\u001b[0m\n",
            "\u001b[0;31mValueError\u001b[0m: invalid literal for int() with base 10: 'sthu'"
          ]
        }
      ]
    },
    {
      "cell_type": "code",
      "source": [
        "10/2"
      ],
      "metadata": {
        "id": "QHeN5Puz1vtd",
        "colab": {
          "base_uri": "https://localhost:8080/"
        },
        "outputId": "663bf98c-5bcb-4ec7-c697-cde432e9a2b7"
      },
      "execution_count": 9,
      "outputs": [
        {
          "output_type": "execute_result",
          "data": {
            "text/plain": [
              "5.0"
            ]
          },
          "metadata": {},
          "execution_count": 9
        }
      ]
    },
    {
      "cell_type": "code",
      "source": [
        "11/5"
      ],
      "metadata": {
        "id": "vcNfuOKE1vq8",
        "colab": {
          "base_uri": "https://localhost:8080/"
        },
        "outputId": "27655ae7-674a-4455-e49e-487aee704f79"
      },
      "execution_count": 10,
      "outputs": [
        {
          "output_type": "execute_result",
          "data": {
            "text/plain": [
              "2.2"
            ]
          },
          "metadata": {},
          "execution_count": 10
        }
      ]
    },
    {
      "cell_type": "code",
      "source": [
        "11/0"
      ],
      "metadata": {
        "id": "baMaxXmJ1voO",
        "colab": {
          "base_uri": "https://localhost:8080/",
          "height": 168
        },
        "outputId": "9e3b56ca-41eb-45e6-9be0-ee5a19f8bce4"
      },
      "execution_count": 11,
      "outputs": [
        {
          "output_type": "error",
          "ename": "ZeroDivisionError",
          "evalue": "ignored",
          "traceback": [
            "\u001b[0;31m---------------------------------------------------------------------------\u001b[0m",
            "\u001b[0;31mZeroDivisionError\u001b[0m                         Traceback (most recent call last)",
            "\u001b[0;32m<ipython-input-11-5be670730087>\u001b[0m in \u001b[0;36m<module>\u001b[0;34m\u001b[0m\n\u001b[0;32m----> 1\u001b[0;31m \u001b[0;36m11\u001b[0m\u001b[0;34m/\u001b[0m\u001b[0;36m0\u001b[0m\u001b[0;34m\u001b[0m\u001b[0;34m\u001b[0m\u001b[0m\n\u001b[0m",
            "\u001b[0;31mZeroDivisionError\u001b[0m: division by zero"
          ]
        }
      ]
    },
    {
      "cell_type": "code",
      "source": [
        "0/11"
      ],
      "metadata": {
        "id": "gjIuTqYYZIMV",
        "colab": {
          "base_uri": "https://localhost:8080/"
        },
        "outputId": "ae70bbb5-dea2-43fc-d059-25491cda8347"
      },
      "execution_count": 12,
      "outputs": [
        {
          "output_type": "execute_result",
          "data": {
            "text/plain": [
              "0.0"
            ]
          },
          "metadata": {},
          "execution_count": 12
        }
      ]
    },
    {
      "cell_type": "code",
      "source": [
        "0/0"
      ],
      "metadata": {
        "id": "ERIkdY24ZIJl",
        "colab": {
          "base_uri": "https://localhost:8080/",
          "height": 168
        },
        "outputId": "1dd3a672-3035-46c7-b7ac-00286f38f8c3"
      },
      "execution_count": 13,
      "outputs": [
        {
          "output_type": "error",
          "ename": "ZeroDivisionError",
          "evalue": "ignored",
          "traceback": [
            "\u001b[0;31m---------------------------------------------------------------------------\u001b[0m",
            "\u001b[0;31mZeroDivisionError\u001b[0m                         Traceback (most recent call last)",
            "\u001b[0;32m<ipython-input-13-9ab73e148374>\u001b[0m in \u001b[0;36m<module>\u001b[0;34m\u001b[0m\n\u001b[0;32m----> 1\u001b[0;31m \u001b[0;36m0\u001b[0m\u001b[0;34m/\u001b[0m\u001b[0;36m0\u001b[0m\u001b[0;34m\u001b[0m\u001b[0;34m\u001b[0m\u001b[0m\n\u001b[0m",
            "\u001b[0;31mZeroDivisionError\u001b[0m: division by zero"
          ]
        }
      ]
    },
    {
      "cell_type": "code",
      "source": [
        "2//0"
      ],
      "metadata": {
        "id": "MWw-ntbR4GFu",
        "colab": {
          "base_uri": "https://localhost:8080/",
          "height": 168
        },
        "outputId": "991f81ae-6ae0-4305-d616-2e5f10a58bc3"
      },
      "execution_count": 14,
      "outputs": [
        {
          "output_type": "error",
          "ename": "ZeroDivisionError",
          "evalue": "ignored",
          "traceback": [
            "\u001b[0;31m---------------------------------------------------------------------------\u001b[0m",
            "\u001b[0;31mZeroDivisionError\u001b[0m                         Traceback (most recent call last)",
            "\u001b[0;32m<ipython-input-14-d6c81c30da92>\u001b[0m in \u001b[0;36m<module>\u001b[0;34m\u001b[0m\n\u001b[0;32m----> 1\u001b[0;31m \u001b[0;36m2\u001b[0m\u001b[0;34m//\u001b[0m\u001b[0;36m0\u001b[0m\u001b[0;34m\u001b[0m\u001b[0;34m\u001b[0m\u001b[0m\n\u001b[0m",
            "\u001b[0;31mZeroDivisionError\u001b[0m: integer division or modulo by zero"
          ]
        }
      ]
    },
    {
      "cell_type": "code",
      "source": [
        "5%2"
      ],
      "metadata": {
        "id": "mcBXD35k4GDP",
        "colab": {
          "base_uri": "https://localhost:8080/"
        },
        "outputId": "0726d6b6-95cc-4187-9266-35f2fceb0645"
      },
      "execution_count": 15,
      "outputs": [
        {
          "output_type": "execute_result",
          "data": {
            "text/plain": [
              "1"
            ]
          },
          "metadata": {},
          "execution_count": 15
        }
      ]
    },
    {
      "cell_type": "code",
      "source": [
        "-5%2"
      ],
      "metadata": {
        "id": "wkxawaBf4GAt",
        "colab": {
          "base_uri": "https://localhost:8080/"
        },
        "outputId": "616350b9-3172-4518-ce6a-981fd363a6a9"
      },
      "execution_count": 16,
      "outputs": [
        {
          "output_type": "execute_result",
          "data": {
            "text/plain": [
              "1"
            ]
          },
          "metadata": {},
          "execution_count": 16
        }
      ]
    },
    {
      "cell_type": "code",
      "source": [
        "5%-2"
      ],
      "metadata": {
        "id": "YwbNGPi14F-H",
        "colab": {
          "base_uri": "https://localhost:8080/"
        },
        "outputId": "a6ab89bc-b954-42db-ab1c-2ad558b21b48"
      },
      "execution_count": 17,
      "outputs": [
        {
          "output_type": "execute_result",
          "data": {
            "text/plain": [
              "-1"
            ]
          },
          "metadata": {},
          "execution_count": 17
        }
      ]
    },
    {
      "cell_type": "code",
      "source": [
        "-5%-2"
      ],
      "metadata": {
        "colab": {
          "base_uri": "https://localhost:8080/"
        },
        "id": "4zVAUuqEwIlU",
        "outputId": "fe337e51-0a6f-42e5-bb8b-f95ce845393f"
      },
      "execution_count": 18,
      "outputs": [
        {
          "output_type": "execute_result",
          "data": {
            "text/plain": [
              "-1"
            ]
          },
          "metadata": {},
          "execution_count": 18
        }
      ]
    },
    {
      "cell_type": "code",
      "source": [
        "x = 11\n",
        "y = 2\n",
        "print(x%y+4-7**(4//2))"
      ],
      "metadata": {
        "colab": {
          "base_uri": "https://localhost:8080/"
        },
        "id": "XeMqcA2UyxMF",
        "outputId": "0a53305f-4ce6-45be-9894-fb86c79f7af6"
      },
      "execution_count": 19,
      "outputs": [
        {
          "output_type": "stream",
          "name": "stdout",
          "text": [
            "-44\n"
          ]
        }
      ]
    },
    {
      "cell_type": "code",
      "source": [
        "x = 11\n",
        "y = 2\n",
        "z = 4\n",
        "res = (x + y - z) ** (x % z)\n",
        "print(res)"
      ],
      "metadata": {
        "colab": {
          "base_uri": "https://localhost:8080/"
        },
        "id": "eVOHXUHSy_b-",
        "outputId": "05d21bc3-5fe9-4005-ace8-d6243fd3a886"
      },
      "execution_count": 20,
      "outputs": [
        {
          "output_type": "stream",
          "name": "stdout",
          "text": [
            "729\n"
          ]
        }
      ]
    },
    {
      "cell_type": "markdown",
      "source": [
        "#Type conversion"
      ],
      "metadata": {
        "id": "e7U96jmAz20d"
      }
    },
    {
      "cell_type": "code",
      "source": [
        "print(float(10))"
      ],
      "metadata": {
        "colab": {
          "base_uri": "https://localhost:8080/"
        },
        "id": "9bGptuOUzoke",
        "outputId": "15192cef-bbef-4577-8b5b-4bbd23d03a4e"
      },
      "execution_count": 21,
      "outputs": [
        {
          "output_type": "stream",
          "name": "stdout",
          "text": [
            "10.0\n"
          ]
        }
      ]
    },
    {
      "cell_type": "code",
      "source": [
        "print(float('5.6'))"
      ],
      "metadata": {
        "colab": {
          "base_uri": "https://localhost:8080/"
        },
        "id": "eWqj27Qg0DTA",
        "outputId": "6fced72d-4043-4ed7-dce8-17757bdeebc5"
      },
      "execution_count": 22,
      "outputs": [
        {
          "output_type": "stream",
          "name": "stdout",
          "text": [
            "5.6\n"
          ]
        }
      ]
    },
    {
      "cell_type": "code",
      "source": [
        "print(int(5.4))"
      ],
      "metadata": {
        "colab": {
          "base_uri": "https://localhost:8080/"
        },
        "id": "9UZ7QR3T0Rjs",
        "outputId": "fd1937aa-8235-4d3c-ba08-bf084e3f5c89"
      },
      "execution_count": 23,
      "outputs": [
        {
          "output_type": "stream",
          "name": "stdout",
          "text": [
            "5\n"
          ]
        }
      ]
    },
    {
      "cell_type": "code",
      "source": [
        "print(int(-5.4))"
      ],
      "metadata": {
        "colab": {
          "base_uri": "https://localhost:8080/"
        },
        "id": "As5N_Edd0bfc",
        "outputId": "a16b7674-c23f-4251-dec1-872e2bd534ba"
      },
      "execution_count": 24,
      "outputs": [
        {
          "output_type": "stream",
          "name": "stdout",
          "text": [
            "-5\n"
          ]
        }
      ]
    },
    {
      "cell_type": "code",
      "source": [
        "print(int('5'))"
      ],
      "metadata": {
        "colab": {
          "base_uri": "https://localhost:8080/"
        },
        "id": "jYeyLssH0hTc",
        "outputId": "2130e034-2e35-4884-dea1-a107d3c79a4c"
      },
      "execution_count": 25,
      "outputs": [
        {
          "output_type": "stream",
          "name": "stdout",
          "text": [
            "5\n"
          ]
        }
      ]
    },
    {
      "cell_type": "code",
      "source": [
        "print(int('5.6'))"
      ],
      "metadata": {
        "colab": {
          "base_uri": "https://localhost:8080/",
          "height": 168
        },
        "id": "ekYhuYOA0l3V",
        "outputId": "ec728bbd-de65-4227-f381-dac69a481a1b"
      },
      "execution_count": 26,
      "outputs": [
        {
          "output_type": "error",
          "ename": "ValueError",
          "evalue": "ignored",
          "traceback": [
            "\u001b[0;31m---------------------------------------------------------------------------\u001b[0m",
            "\u001b[0;31mValueError\u001b[0m                                Traceback (most recent call last)",
            "\u001b[0;32m<ipython-input-26-2a9a922c28bd>\u001b[0m in \u001b[0;36m<module>\u001b[0;34m\u001b[0m\n\u001b[0;32m----> 1\u001b[0;31m \u001b[0mprint\u001b[0m\u001b[0;34m(\u001b[0m\u001b[0mint\u001b[0m\u001b[0;34m(\u001b[0m\u001b[0;34m'5.6'\u001b[0m\u001b[0;34m)\u001b[0m\u001b[0;34m)\u001b[0m\u001b[0;34m\u001b[0m\u001b[0;34m\u001b[0m\u001b[0m\n\u001b[0m",
            "\u001b[0;31mValueError\u001b[0m: invalid literal for int() with base 10: '5.6'"
          ]
        }
      ]
    },
    {
      "cell_type": "code",
      "source": [
        "print(int(float('5.6')))"
      ],
      "metadata": {
        "colab": {
          "base_uri": "https://localhost:8080/"
        },
        "id": "o3FlHtas06eV",
        "outputId": "ccf16f47-3f46-476f-b0db-604d667c348a"
      },
      "execution_count": 27,
      "outputs": [
        {
          "output_type": "stream",
          "name": "stdout",
          "text": [
            "5\n"
          ]
        }
      ]
    },
    {
      "cell_type": "code",
      "source": [
        "print(int('hello'))"
      ],
      "metadata": {
        "colab": {
          "base_uri": "https://localhost:8080/",
          "height": 168
        },
        "id": "oFWVyfHy1GUX",
        "outputId": "bd2caed6-ea65-41f0-c596-fe7863590ceb"
      },
      "execution_count": 28,
      "outputs": [
        {
          "output_type": "error",
          "ename": "ValueError",
          "evalue": "ignored",
          "traceback": [
            "\u001b[0;31m---------------------------------------------------------------------------\u001b[0m",
            "\u001b[0;31mValueError\u001b[0m                                Traceback (most recent call last)",
            "\u001b[0;32m<ipython-input-28-c52d1c1030a2>\u001b[0m in \u001b[0;36m<module>\u001b[0;34m\u001b[0m\n\u001b[0;32m----> 1\u001b[0;31m \u001b[0mprint\u001b[0m\u001b[0;34m(\u001b[0m\u001b[0mint\u001b[0m\u001b[0;34m(\u001b[0m\u001b[0;34m'hello'\u001b[0m\u001b[0;34m)\u001b[0m\u001b[0;34m)\u001b[0m\u001b[0;34m\u001b[0m\u001b[0;34m\u001b[0m\u001b[0m\n\u001b[0m",
            "\u001b[0;31mValueError\u001b[0m: invalid literal for int() with base 10: 'hello'"
          ]
        }
      ]
    },
    {
      "cell_type": "code",
      "source": [
        "bool(0.0)"
      ],
      "metadata": {
        "colab": {
          "base_uri": "https://localhost:8080/"
        },
        "id": "f5NEicxu2stZ",
        "outputId": "4aeea872-61ec-408c-91b4-ca4ee03b0f0f"
      },
      "execution_count": 29,
      "outputs": [
        {
          "output_type": "execute_result",
          "data": {
            "text/plain": [
              "False"
            ]
          },
          "metadata": {},
          "execution_count": 29
        }
      ]
    },
    {
      "cell_type": "code",
      "source": [
        "bool('durlav')"
      ],
      "metadata": {
        "colab": {
          "base_uri": "https://localhost:8080/"
        },
        "id": "7sd4Z5u628h7",
        "outputId": "d598950e-f6c3-46a0-f1d8-ce02f4ae5fb9"
      },
      "execution_count": 30,
      "outputs": [
        {
          "output_type": "execute_result",
          "data": {
            "text/plain": [
              "True"
            ]
          },
          "metadata": {},
          "execution_count": 30
        }
      ]
    },
    {
      "cell_type": "code",
      "source": [
        "bool('')"
      ],
      "metadata": {
        "colab": {
          "base_uri": "https://localhost:8080/"
        },
        "id": "dx1gKyMo2_B2",
        "outputId": "02cb205a-de68-4fdf-dabb-48bdc5665cae"
      },
      "execution_count": 31,
      "outputs": [
        {
          "output_type": "execute_result",
          "data": {
            "text/plain": [
              "False"
            ]
          },
          "metadata": {},
          "execution_count": 31
        }
      ]
    },
    {
      "cell_type": "code",
      "source": [
        "bool(' ')"
      ],
      "metadata": {
        "colab": {
          "base_uri": "https://localhost:8080/"
        },
        "id": "Olfh1PXp3B1f",
        "outputId": "e11dd336-0db5-49d7-9062-7a84869b599c"
      },
      "execution_count": 32,
      "outputs": [
        {
          "output_type": "execute_result",
          "data": {
            "text/plain": [
              "True"
            ]
          },
          "metadata": {},
          "execution_count": 32
        }
      ]
    },
    {
      "cell_type": "code",
      "source": [
        "ch=int(input())\n",
        "cow=int(input())\n",
        "pig=int(input())\n",
        "total_legs=2*ch+4*cow+2*pig\n",
        "print('total legs=',total_legs)"
      ],
      "metadata": {
        "colab": {
          "base_uri": "https://localhost:8080/"
        },
        "id": "yU9qZC7H6Dyn",
        "outputId": "a33c6ca1-1d6d-4ab3-fb06-0e523f99daec"
      },
      "execution_count": 34,
      "outputs": [
        {
          "output_type": "stream",
          "name": "stdout",
          "text": [
            "3\n",
            "4\n",
            "5\n",
            "total legs= 32\n"
          ]
        }
      ]
    },
    {
      "cell_type": "code",
      "source": [
        "s1 = int(input())\n",
        "s2 = int(input())\n",
        "s3 = int(input())\n",
        "s4 = int(input())\n",
        "s5 = int(input())\n",
        "total_marks = s1+s2+s3+s4+s5\n",
        "percentage = total_marks/500 * 100\n",
        "print('total marks= ' , total_marks,'percentage = ',percentage ,'%' )"
      ],
      "metadata": {
        "colab": {
          "base_uri": "https://localhost:8080/"
        },
        "id": "lk2MgXIj64Of",
        "outputId": "348c2040-8ca7-4b19-c803-db6a043375bc"
      },
      "execution_count": 35,
      "outputs": [
        {
          "output_type": "stream",
          "name": "stdout",
          "text": [
            "6\n",
            "7\n",
            "8\n",
            "9\n",
            "10\n",
            "total marks=  40 percentage =  8.0 %\n"
          ]
        }
      ]
    },
    {
      "cell_type": "code",
      "source": [
        "print(float(int(4.4)))"
      ],
      "metadata": {
        "colab": {
          "base_uri": "https://localhost:8080/"
        },
        "id": "Twh-ltiD8ARY",
        "outputId": "02585e06-4cd0-408e-ffe4-5ffe6dba107e"
      },
      "execution_count": 37,
      "outputs": [
        {
          "output_type": "stream",
          "name": "stdout",
          "text": [
            "4.0\n"
          ]
        }
      ]
    },
    {
      "cell_type": "code",
      "source": [
        "S1 = int(input())\n",
        "S2= int(input())\n",
        "S3 = int(input())\n",
        "S4 = int(input())\n",
        "S5 = int(input())\n",
        "total_marks = S1 + S2 + S3 + S4 + S5\n",
        "percetange = total_marks/500 * 100\n",
        "print('Total marks =',Total_marks,'Percentage =',percentage ,8'%')"
      ],
      "metadata": {
        "colab": {
          "base_uri": "https://localhost:8080/"
        },
        "id": "7iAx0gAJ9UxB",
        "outputId": "c62a9edf-a749-433b-94df-32eab824a85b"
      },
      "execution_count": 38,
      "outputs": [
        {
          "output_type": "stream",
          "name": "stdout",
          "text": [
            "4\n",
            "5\n",
            "6\n",
            "7\n",
            "8\n",
            "Total marks = 495 Percentage = 8.0 %\n"
          ]
        }
      ]
    },
    {
      "cell_type": "code",
      "source": [
        "mins = int(input())\n",
        "print(mins*60, 'secs')"
      ],
      "metadata": {
        "colab": {
          "base_uri": "https://localhost:8080/"
        },
        "id": "y_pHBvO_9fmE",
        "outputId": "36b5396a-77aa-4b9e-c247-aa340079084d"
      },
      "execution_count": 39,
      "outputs": [
        {
          "output_type": "stream",
          "name": "stdout",
          "text": [
            "5\n",
            "300 secs\n"
          ]
        }
      ]
    },
    {
      "cell_type": "code",
      "source": [
        "s1= int(input())\n",
        "s2 = int(input())\n",
        "s3 = int(input())\n",
        "s4 = int(input())\n",
        "s5 = int(input())\n",
        "total_marks = s1+s2+s3+s4+s5\n",
        "percentage = total_marks/500 * 100\n",
        "print('Total is',total_marks, 'percentage is', percentage)"
      ],
      "metadata": {
        "colab": {
          "base_uri": "https://localhost:8080/"
        },
        "id": "zs1UVzHb9n3K",
        "outputId": "fe16e359-c8e9-49d5-f2c7-a164b9e5c1e0"
      },
      "execution_count": 40,
      "outputs": [
        {
          "output_type": "stream",
          "name": "stdout",
          "text": [
            "5\n",
            "6\n",
            "7\n",
            "8\n",
            "9\n",
            "Total is 35 percentage is 7.000000000000001\n"
          ]
        }
      ]
    },
    {
      "cell_type": "code",
      "source": [
        "s1=int(input())\n",
        "s2=int(input())\n",
        "s3=int(input())\n",
        "s4=int(input())\n",
        "s5=int(input())\n",
        "total=(s1+s2+s3+s4+s5)\n",
        "percentage=total/500 * 100\n",
        "print"
      ],
      "metadata": {
        "id": "tB3Gy3xT94ty"
      },
      "execution_count": null,
      "outputs": []
    },
    {
      "cell_type": "code",
      "source": [
        "chickens = int(input('how many chickens'))\n",
        "cows = int(input('how many cows'))\n",
        "pigs = int(input('how many pigs'))\n",
        "total_legs = chickens*2+cows*4+pigs*4\n",
        "print('Total legs=', total_legs)"
      ],
      "metadata": {
        "colab": {
          "base_uri": "https://localhost:8080/"
        },
        "id": "VkV_PLi--BZT",
        "outputId": "da387cef-c26b-4042-c630-3fd09fc75a2e"
      },
      "execution_count": 41,
      "outputs": [
        {
          "output_type": "stream",
          "name": "stdout",
          "text": [
            "how many chickens5\n",
            "how many cows5\n",
            "how many pigs6\n",
            "Total legs= 54\n"
          ]
        }
      ]
    },
    {
      "cell_type": "code",
      "source": [
        "shesadri = int(input())\n",
        "s1= int(input())\n",
        "s2= int(input())\n",
        "s3= int(input())\n",
        "s4= int(input())\n",
        "s5= int(input())\n",
        "Total_marks = (s1+s2+s3+s4+s5)\n",
        "percentage = Total_marks/500*100\n",
        "print('Total marks=',Total_marks, 'percentage', percentage'%')"
      ],
      "metadata": {
        "colab": {
          "base_uri": "https://localhost:8080/",
          "height": 132
        },
        "id": "-0Zp-Wfs-q2W",
        "outputId": "11e4f6ef-beae-425c-a916-0d22c14c8b0b"
      },
      "execution_count": 43,
      "outputs": [
        {
          "output_type": "error",
          "ename": "SyntaxError",
          "evalue": "ignored",
          "traceback": [
            "\u001b[0;36m  File \u001b[0;32m\"<ipython-input-43-ac6700215119>\"\u001b[0;36m, line \u001b[0;32m9\u001b[0m\n\u001b[0;31m    print('Total marks=',Total_marks, 'percentage', percentage'%')\u001b[0m\n\u001b[0m                                                                ^\u001b[0m\n\u001b[0;31mSyntaxError\u001b[0m\u001b[0;31m:\u001b[0m invalid syntax\n"
          ]
        }
      ]
    }
  ]
}