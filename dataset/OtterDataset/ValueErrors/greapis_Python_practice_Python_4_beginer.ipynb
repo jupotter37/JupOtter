{
  "nbformat": 4,
  "nbformat_minor": 0,
  "metadata": {
    "colab": {
      "provenance": [],
      "gpuType": "T4",
      "authorship_tag": "ABX9TyO49E/8BkR1oDYpKrHqo/hq",
      "include_colab_link": true
    },
    "kernelspec": {
      "name": "python3",
      "display_name": "Python 3"
    },
    "language_info": {
      "name": "python"
    },
    "accelerator": "GPU"
  },
  "cells": [
    {
      "cell_type": "markdown",
      "metadata": {
        "id": "view-in-github",
        "colab_type": "text"
      },
      "source": [
        "<a href=\"https://colab.research.google.com/github/greapis/Python_practice/blob/main/Python_4_beginer.ipynb\" target=\"_parent\"><img src=\"https://colab.research.google.com/assets/colab-badge.svg\" alt=\"Open In Colab\"/></a>"
      ]
    },
    {
      "cell_type": "code",
      "execution_count": null,
      "metadata": {
        "colab": {
          "base_uri": "https://localhost:8080/"
        },
        "id": "V0Plu2qamgZ-",
        "outputId": "03070e49-adae-4aa9-d655-4318808b2f37"
      },
      "outputs": [
        {
          "output_type": "stream",
          "name": "stdout",
          "text": [
            "150\n"
          ]
        }
      ],
      "source": [
        "a = 100\n",
        "b = 50\n",
        "result = a + b\n",
        "print(result)"
      ]
    },
    {
      "cell_type": "code",
      "source": [
        "print(a, \"+\",  b, \"=\", result)"
      ],
      "metadata": {
        "colab": {
          "base_uri": "https://localhost:8080/"
        },
        "id": "BdFWONftvWeB",
        "outputId": "22f28a58-f32f-4210-dd17-e6df1e98628e"
      },
      "execution_count": null,
      "outputs": [
        {
          "output_type": "stream",
          "name": "stdout",
          "text": [
            "100 + 50 = 150\n"
          ]
        }
      ]
    },
    {
      "cell_type": "code",
      "source": [
        "result = a - b\n",
        "print(a, \"-\", b, \"=\", result)"
      ],
      "metadata": {
        "colab": {
          "base_uri": "https://localhost:8080/"
        },
        "id": "Abt1lQULv2RP",
        "outputId": "f1ffa4ff-e19b-48c4-9f39-75cdb9f9c677"
      },
      "execution_count": null,
      "outputs": [
        {
          "output_type": "stream",
          "name": "stdout",
          "text": [
            "100 - 50 = 50\n"
          ]
        }
      ]
    },
    {
      "cell_type": "code",
      "source": [
        "result = a * b\n",
        "print(a, \"*\", b, \"=\", result)"
      ],
      "metadata": {
        "colab": {
          "base_uri": "https://localhost:8080/"
        },
        "id": "0mvuRIVQwGvy",
        "outputId": "1bb5bdd8-45da-4fac-f4bb-31b031876358"
      },
      "execution_count": null,
      "outputs": [
        {
          "output_type": "stream",
          "name": "stdout",
          "text": [
            "100 * 50 = 5000\n"
          ]
        }
      ]
    },
    {
      "cell_type": "code",
      "source": [
        "result = a / b\n",
        "print(a, \"/\", b, \"=\", result)"
      ],
      "metadata": {
        "colab": {
          "base_uri": "https://localhost:8080/"
        },
        "id": "Qum3MB6uwOGf",
        "outputId": "9b36ac67-687e-409f-b7eb-90225c2c8212"
      },
      "execution_count": null,
      "outputs": [
        {
          "output_type": "stream",
          "name": "stdout",
          "text": [
            "100 / 50 = 2.0\n"
          ]
        }
      ]
    },
    {
      "cell_type": "code",
      "source": [
        "a = 100\n",
        "b = 50\n",
        "result = a + b\n",
        "print(result)\n",
        "print(a, \"+\",  b, \"=\", result)\n",
        "result = a - b\n",
        "print(a, \"-\", b, \"=\", result)\n",
        "result = a * b\n",
        "print(a, \"*\", b, \"=\", result)\n",
        "result = a / b\n",
        "print(a, \"/\", b, \"=\", result)"
      ],
      "metadata": {
        "colab": {
          "base_uri": "https://localhost:8080/"
        },
        "id": "poiyHNafwjUz",
        "outputId": "e0f3923b-1b4b-48c5-bdbb-c9690221f2af"
      },
      "execution_count": null,
      "outputs": [
        {
          "output_type": "stream",
          "name": "stdout",
          "text": [
            "150\n",
            "100 + 50 = 150\n",
            "100 - 50 = 50\n",
            "100 * 50 = 5000\n",
            "100 / 50 = 2.0\n"
          ]
        }
      ]
    },
    {
      "cell_type": "code",
      "source": [
        "input()"
      ],
      "metadata": {
        "colab": {
          "base_uri": "https://localhost:8080/",
          "height": 54
        },
        "id": "KEYTn__7xVa5",
        "outputId": "a64d2205-5573-4af9-98c6-97a833901f9e"
      },
      "execution_count": null,
      "outputs": [
        {
          "name": "stdout",
          "output_type": "stream",
          "text": [
            "a = 100\n"
          ]
        },
        {
          "output_type": "execute_result",
          "data": {
            "text/plain": [
              "'a = 100'"
            ],
            "application/vnd.google.colaboratory.intrinsic+json": {
              "type": "string"
            }
          },
          "metadata": {},
          "execution_count": 7
        }
      ]
    },
    {
      "cell_type": "code",
      "source": [
        "import os\n",
        "\n",
        "a = 100\n",
        "b = 50\n",
        "result = a + b\n",
        "print(result)\n",
        "print(a, \"+\",  b, \"=\", result)\n",
        "result = a - b\n",
        "print(a, \"-\", b, \"=\", result)\n",
        "result = a * b\n",
        "print(a, \"*\", b, \"=\", result)\n",
        "result = a / b\n",
        "print(a, \"/\", b, \"=\", result)\n",
        "\n",
        "\n",
        "os.system(\"Pause\")"
      ],
      "metadata": {
        "colab": {
          "base_uri": "https://localhost:8080/"
        },
        "id": "LIIOYbD-xXrk",
        "outputId": "4c10571e-61eb-45c5-e642-6b69c9235124"
      },
      "execution_count": null,
      "outputs": [
        {
          "output_type": "stream",
          "name": "stdout",
          "text": [
            "150\n",
            "100 + 50 = 150\n",
            "100 - 50 = 50\n",
            "100 * 50 = 5000\n",
            "100 / 50 = 2.0\n"
          ]
        },
        {
          "output_type": "execute_result",
          "data": {
            "text/plain": [
              "32512"
            ]
          },
          "metadata": {},
          "execution_count": 8
        }
      ]
    },
    {
      "cell_type": "code",
      "source": [
        "a = input()\n",
        "b = input()\n",
        "result = a + b\n",
        "print(a, \"+\", b, \"=\", result)\n",
        "result = a - b\n",
        "print(a, \"-\", b, \"=\", result)\n",
        "result = a * b\n",
        "print(a, \"*\", b, \"=\", result)\n",
        "result = a / b\n",
        "print(a, \"/\", b, \"=\", result)"
      ],
      "metadata": {
        "id": "B3OP6VgixhXR",
        "outputId": "d2e62d2b-1f60-47ab-bb44-2a6b81063a47",
        "colab": {
          "base_uri": "https://localhost:8080/",
          "height": 273
        }
      },
      "execution_count": null,
      "outputs": [
        {
          "output_type": "stream",
          "name": "stdout",
          "text": [
            "a = 100\n",
            "b = 50\n",
            "a = 100 + b = 50 = a = 100b = 50\n"
          ]
        },
        {
          "output_type": "error",
          "ename": "TypeError",
          "evalue": "unsupported operand type(s) for -: 'str' and 'str'",
          "traceback": [
            "\u001b[0;31m---------------------------------------------------------------------------\u001b[0m",
            "\u001b[0;31mTypeError\u001b[0m                                 Traceback (most recent call last)",
            "\u001b[0;32m<ipython-input-9-82ec5a1ce45a>\u001b[0m in \u001b[0;36m<cell line: 5>\u001b[0;34m()\u001b[0m\n\u001b[1;32m      3\u001b[0m \u001b[0mresult\u001b[0m \u001b[0;34m=\u001b[0m \u001b[0ma\u001b[0m \u001b[0;34m+\u001b[0m \u001b[0mb\u001b[0m\u001b[0;34m\u001b[0m\u001b[0;34m\u001b[0m\u001b[0m\n\u001b[1;32m      4\u001b[0m \u001b[0mprint\u001b[0m\u001b[0;34m(\u001b[0m\u001b[0ma\u001b[0m\u001b[0;34m,\u001b[0m \u001b[0;34m\"+\"\u001b[0m\u001b[0;34m,\u001b[0m \u001b[0mb\u001b[0m\u001b[0;34m,\u001b[0m \u001b[0;34m\"=\"\u001b[0m\u001b[0;34m,\u001b[0m \u001b[0mresult\u001b[0m\u001b[0;34m)\u001b[0m\u001b[0;34m\u001b[0m\u001b[0;34m\u001b[0m\u001b[0m\n\u001b[0;32m----> 5\u001b[0;31m \u001b[0mresult\u001b[0m \u001b[0;34m=\u001b[0m \u001b[0ma\u001b[0m \u001b[0;34m-\u001b[0m \u001b[0mb\u001b[0m\u001b[0;34m\u001b[0m\u001b[0;34m\u001b[0m\u001b[0m\n\u001b[0m\u001b[1;32m      6\u001b[0m \u001b[0mprint\u001b[0m\u001b[0;34m(\u001b[0m\u001b[0ma\u001b[0m\u001b[0;34m,\u001b[0m \u001b[0;34m\"-\"\u001b[0m\u001b[0;34m,\u001b[0m \u001b[0mb\u001b[0m\u001b[0;34m,\u001b[0m \u001b[0;34m\"=\"\u001b[0m\u001b[0;34m,\u001b[0m \u001b[0mresult\u001b[0m\u001b[0;34m)\u001b[0m\u001b[0;34m\u001b[0m\u001b[0;34m\u001b[0m\u001b[0m\n\u001b[1;32m      7\u001b[0m \u001b[0mresult\u001b[0m \u001b[0;34m=\u001b[0m \u001b[0ma\u001b[0m \u001b[0;34m*\u001b[0m \u001b[0mb\u001b[0m\u001b[0;34m\u001b[0m\u001b[0;34m\u001b[0m\u001b[0m\n",
            "\u001b[0;31mTypeError\u001b[0m: unsupported operand type(s) for -: 'str' and 'str'"
          ]
        }
      ]
    },
    {
      "cell_type": "code",
      "source": [
        "a = int(input())\n",
        "b = int(input())\n",
        "\n",
        "print(type(a))\n",
        "print(type(b))\n",
        "result = a + b\n",
        "print(a, \"+\", b, \"=\", result)\n",
        "result = a - b\n",
        "print(a, \"-\", b, \"=\", result)\n",
        "result = a * b\n",
        "print(a, \"*\", b, \"=\", result)\n",
        "result = a / b\n",
        "print(a, \"/\", b, \"=\", result)"
      ],
      "metadata": {
        "id": "Sr-E53Aod39U",
        "outputId": "431fe89e-a3b7-4328-9ef1-04ef145e8124",
        "colab": {
          "base_uri": "https://localhost:8080/",
          "height": 237
        }
      },
      "execution_count": null,
      "outputs": [
        {
          "name": "stdout",
          "output_type": "stream",
          "text": [
            "\n"
          ]
        },
        {
          "output_type": "error",
          "ename": "ValueError",
          "evalue": "invalid literal for int() with base 10: ''",
          "traceback": [
            "\u001b[0;31m---------------------------------------------------------------------------\u001b[0m",
            "\u001b[0;31mValueError\u001b[0m                                Traceback (most recent call last)",
            "\u001b[0;32m<ipython-input-10-1390ab82e1ed>\u001b[0m in \u001b[0;36m<cell line: 1>\u001b[0;34m()\u001b[0m\n\u001b[0;32m----> 1\u001b[0;31m \u001b[0ma\u001b[0m \u001b[0;34m=\u001b[0m \u001b[0mint\u001b[0m\u001b[0;34m(\u001b[0m\u001b[0minput\u001b[0m\u001b[0;34m(\u001b[0m\u001b[0;34m)\u001b[0m\u001b[0;34m)\u001b[0m\u001b[0;34m\u001b[0m\u001b[0;34m\u001b[0m\u001b[0m\n\u001b[0m\u001b[1;32m      2\u001b[0m \u001b[0mb\u001b[0m \u001b[0;34m=\u001b[0m \u001b[0mint\u001b[0m\u001b[0;34m(\u001b[0m\u001b[0minput\u001b[0m\u001b[0;34m(\u001b[0m\u001b[0;34m)\u001b[0m\u001b[0;34m)\u001b[0m\u001b[0;34m\u001b[0m\u001b[0;34m\u001b[0m\u001b[0m\n\u001b[1;32m      3\u001b[0m \u001b[0;34m\u001b[0m\u001b[0m\n\u001b[1;32m      4\u001b[0m \u001b[0mprint\u001b[0m\u001b[0;34m(\u001b[0m\u001b[0mtype\u001b[0m\u001b[0;34m(\u001b[0m\u001b[0ma\u001b[0m\u001b[0;34m)\u001b[0m\u001b[0;34m)\u001b[0m\u001b[0;34m\u001b[0m\u001b[0;34m\u001b[0m\u001b[0m\n\u001b[1;32m      5\u001b[0m \u001b[0mprint\u001b[0m\u001b[0;34m(\u001b[0m\u001b[0mtype\u001b[0m\u001b[0;34m(\u001b[0m\u001b[0mb\u001b[0m\u001b[0;34m)\u001b[0m\u001b[0;34m)\u001b[0m\u001b[0;34m\u001b[0m\u001b[0;34m\u001b[0m\u001b[0m\n",
            "\u001b[0;31mValueError\u001b[0m: invalid literal for int() with base 10: ''"
          ]
        }
      ]
    },
    {
      "cell_type": "code",
      "source": [
        "print(type(a))"
      ],
      "metadata": {
        "id": "uEViwoC5eVXr"
      },
      "execution_count": null,
      "outputs": []
    },
    {
      "cell_type": "code",
      "source": [
        "int(100)\n",
        "int(100.977)"
      ],
      "metadata": {
        "id": "N-8J0nk8exRY"
      },
      "execution_count": null,
      "outputs": []
    },
    {
      "cell_type": "code",
      "source": [
        "a = int(100.98)\n",
        "b = int(50.32434)\n",
        "\n",
        "print(type(a))\n",
        "print(type(b))\n",
        "result = a + b\n",
        "print(a, \"+\", b, \"=\", result)\n",
        "result = a - b\n",
        "print(a, \"-\", b, \"=\", result)\n",
        "result = a * b\n",
        "print(a, \"*\", b, \"=\", result)\n",
        "result = a / b\n",
        "print(a, \"/\", b, \"=\", result)\n"
      ],
      "metadata": {
        "id": "njE96elUe3og"
      },
      "execution_count": null,
      "outputs": []
    },
    {
      "cell_type": "markdown",
      "source": [
        "**Basic Frame of Coding**\n",
        "\n",
        "1. Defining function\n",
        "\n",
        "2. Deciding variables\n",
        "\n",
        "3. Main Coding\n"
      ],
      "metadata": {
        "id": "CdDAreSwflqa"
      }
    },
    {
      "cell_type": "code",
      "source": [
        "# 한 줄로 인식하기 : 역슬래시 사용 // 역슬래시 = 원화표시\n",
        "\n",
        "data = \"Hello \" + \\\n",
        "       \"World \" + \\\n",
        "       \"This is just beginnig\"\n",
        "\n",
        "print(data)"
      ],
      "metadata": {
        "id": "SiV9WB8KhGGW"
      },
      "execution_count": null,
      "outputs": []
    },
    {
      "cell_type": "code",
      "source": [
        "!pip install tkinter\n",
        "\n",
        "import tkinter\n",
        "\n",
        "root = tkinter.Tk()\n",
        "screen = turtle.Screen(root)\n",
        "t = turtle.Turtle(screen)\n",
        "\n",
        "t.forward(200)\n",
        "t.right(90)\n",
        "t.forward(200)\n",
        "t.right(90)\n",
        "t.forward(200)\n",
        "t.right(90)\n",
        "t.forward(200)\n",
        "\n",
        "\n",
        "\n",
        "# import turtle\n",
        "\n",
        "# turtle.shape('turtle')\n",
        "\n",
        "# turtle.forward(200)\n",
        "# turtle.right(90)\n",
        "# turtle.forward(200)\n",
        "# turtle.right(90)\n",
        "# turtle.forward(200)\n",
        "# turtle.right(90)\n",
        "# turtle.forward(200)\n",
        "\n",
        "# turtle.done()"
      ],
      "metadata": {
        "id": "HM_CR1HyhVf6",
        "outputId": "d90c0e9b-5402-4216-e505-192ac479b7b3",
        "colab": {
          "base_uri": "https://localhost:8080/",
          "height": 382
        }
      },
      "execution_count": null,
      "outputs": [
        {
          "output_type": "stream",
          "name": "stdout",
          "text": [
            "\u001b[31mERROR: Could not find a version that satisfies the requirement tkinter (from versions: none)\u001b[0m\u001b[31m\n",
            "\u001b[0m\u001b[31mERROR: No matching distribution found for tkinter\u001b[0m\u001b[31m\n",
            "\u001b[0m"
          ]
        },
        {
          "output_type": "error",
          "ename": "TclError",
          "evalue": "no display name and no $DISPLAY environment variable",
          "traceback": [
            "\u001b[0;31m---------------------------------------------------------------------------\u001b[0m",
            "\u001b[0;31mTclError\u001b[0m                                  Traceback (most recent call last)",
            "\u001b[0;32m<ipython-input-11-f1594b99f82b>\u001b[0m in \u001b[0;36m<cell line: 5>\u001b[0;34m()\u001b[0m\n\u001b[1;32m      3\u001b[0m \u001b[0;32mimport\u001b[0m \u001b[0mtkinter\u001b[0m\u001b[0;34m\u001b[0m\u001b[0;34m\u001b[0m\u001b[0m\n\u001b[1;32m      4\u001b[0m \u001b[0;34m\u001b[0m\u001b[0m\n\u001b[0;32m----> 5\u001b[0;31m \u001b[0mroot\u001b[0m \u001b[0;34m=\u001b[0m \u001b[0mtkinter\u001b[0m\u001b[0;34m.\u001b[0m\u001b[0mTk\u001b[0m\u001b[0;34m(\u001b[0m\u001b[0;34m)\u001b[0m\u001b[0;34m\u001b[0m\u001b[0;34m\u001b[0m\u001b[0m\n\u001b[0m\u001b[1;32m      6\u001b[0m \u001b[0mscreen\u001b[0m \u001b[0;34m=\u001b[0m \u001b[0mturtle\u001b[0m\u001b[0;34m.\u001b[0m\u001b[0mScreen\u001b[0m\u001b[0;34m(\u001b[0m\u001b[0mroot\u001b[0m\u001b[0;34m)\u001b[0m\u001b[0;34m\u001b[0m\u001b[0;34m\u001b[0m\u001b[0m\n\u001b[1;32m      7\u001b[0m \u001b[0mt\u001b[0m \u001b[0;34m=\u001b[0m \u001b[0mturtle\u001b[0m\u001b[0;34m.\u001b[0m\u001b[0mTurtle\u001b[0m\u001b[0;34m(\u001b[0m\u001b[0mscreen\u001b[0m\u001b[0;34m)\u001b[0m\u001b[0;34m\u001b[0m\u001b[0;34m\u001b[0m\u001b[0m\n",
            "\u001b[0;32m/usr/lib/python3.10/tkinter/__init__.py\u001b[0m in \u001b[0;36m__init__\u001b[0;34m(self, screenName, baseName, className, useTk, sync, use)\u001b[0m\n\u001b[1;32m   2297\u001b[0m                 \u001b[0mbaseName\u001b[0m \u001b[0;34m=\u001b[0m \u001b[0mbaseName\u001b[0m \u001b[0;34m+\u001b[0m \u001b[0mext\u001b[0m\u001b[0;34m\u001b[0m\u001b[0;34m\u001b[0m\u001b[0m\n\u001b[1;32m   2298\u001b[0m         \u001b[0minteractive\u001b[0m \u001b[0;34m=\u001b[0m \u001b[0;32mFalse\u001b[0m\u001b[0;34m\u001b[0m\u001b[0;34m\u001b[0m\u001b[0m\n\u001b[0;32m-> 2299\u001b[0;31m         \u001b[0mself\u001b[0m\u001b[0;34m.\u001b[0m\u001b[0mtk\u001b[0m \u001b[0;34m=\u001b[0m \u001b[0m_tkinter\u001b[0m\u001b[0;34m.\u001b[0m\u001b[0mcreate\u001b[0m\u001b[0;34m(\u001b[0m\u001b[0mscreenName\u001b[0m\u001b[0;34m,\u001b[0m \u001b[0mbaseName\u001b[0m\u001b[0;34m,\u001b[0m \u001b[0mclassName\u001b[0m\u001b[0;34m,\u001b[0m \u001b[0minteractive\u001b[0m\u001b[0;34m,\u001b[0m \u001b[0mwantobjects\u001b[0m\u001b[0;34m,\u001b[0m \u001b[0museTk\u001b[0m\u001b[0;34m,\u001b[0m \u001b[0msync\u001b[0m\u001b[0;34m,\u001b[0m \u001b[0muse\u001b[0m\u001b[0;34m)\u001b[0m\u001b[0;34m\u001b[0m\u001b[0;34m\u001b[0m\u001b[0m\n\u001b[0m\u001b[1;32m   2300\u001b[0m         \u001b[0;32mif\u001b[0m \u001b[0museTk\u001b[0m\u001b[0;34m:\u001b[0m\u001b[0;34m\u001b[0m\u001b[0;34m\u001b[0m\u001b[0m\n\u001b[1;32m   2301\u001b[0m             \u001b[0mself\u001b[0m\u001b[0;34m.\u001b[0m\u001b[0m_loadtk\u001b[0m\u001b[0;34m(\u001b[0m\u001b[0;34m)\u001b[0m\u001b[0;34m\u001b[0m\u001b[0;34m\u001b[0m\u001b[0m\n",
            "\u001b[0;31mTclError\u001b[0m: no display name and no $DISPLAY environment variable"
          ]
        }
      ]
    },
    {
      "cell_type": "code",
      "source": [
        "print(\"안녕하세요\")\n",
        "print(\"100\")\n",
        "print(\"%d\" % 100)\n",
        "print(\"100 + 100\")\n",
        "print(\"%d\" % (100 + 100))\n",
        "print(\"%d / %d = %d\" % (100, 200, 0.5))\n",
        "print(\"%d / %d = %f\" % (100, 200, 0.5))"
      ],
      "metadata": {
        "id": "_nitzbHN2F4E",
        "outputId": "8095001f-f449-4e5f-ff8a-405cbb9b643d",
        "colab": {
          "base_uri": "https://localhost:8080/"
        }
      },
      "execution_count": null,
      "outputs": [
        {
          "output_type": "stream",
          "name": "stdout",
          "text": [
            "안녕하세요\n",
            "100\n",
            "100\n",
            "100 + 100\n",
            "200\n",
            "100 / 200 = 0\n",
            "100 / 200 = 0.500000\n"
          ]
        }
      ]
    },
    {
      "cell_type": "code",
      "source": [
        "print(\"     *       \")\n",
        "print(\"    ***      \")\n",
        "print(\"   *****     \")\n",
        "print(\"  *******    \")\n",
        "print(\" *********   \")\n",
        "print(\"  *******    \")\n",
        "print(\"   *****    \")\n",
        "print(\"    ***   \")\n",
        "print(\"     *   \")"
      ],
      "metadata": {
        "id": "IfBTMoOxuCNw",
        "outputId": "43f9e8a1-92f5-4b01-f839-4b347e3e2a16",
        "colab": {
          "base_uri": "https://localhost:8080/"
        }
      },
      "execution_count": null,
      "outputs": [
        {
          "output_type": "stream",
          "name": "stdout",
          "text": [
            "     *       \n",
            "    ***      \n",
            "   *****     \n",
            "  *******    \n",
            " *********   \n",
            "  *******    \n",
            "   *****    \n",
            "    ***   \n",
            "     *   \n"
          ]
        }
      ]
    },
    {
      "cell_type": "code",
      "source": [
        "boolVar = True      #boolean\n",
        "intVar = 0          #integer\n",
        "floatVar = 0.0      #float\n",
        "strVar = \"\"         #string"
      ],
      "metadata": {
        "id": "NQjLY0dOvhyv"
      },
      "execution_count": null,
      "outputs": []
    },
    {
      "cell_type": "code",
      "source": [
        "type(boolVar), type(intVar), type(floatVar), type(strVar)"
      ],
      "metadata": {
        "id": "WS7Zl0ZLwSXM",
        "outputId": "68ed7a7a-5b54-4a31-a877-d69c28fd4ccc",
        "colab": {
          "base_uri": "https://localhost:8080/"
        }
      },
      "execution_count": null,
      "outputs": [
        {
          "output_type": "execute_result",
          "data": {
            "text/plain": [
              "(bool, int, float, str)"
            ]
          },
          "metadata": {},
          "execution_count": 35
        }
      ]
    },
    {
      "cell_type": "code",
      "source": [
        "boolVar = False      #boolean\n",
        "intVar = 100          #integer\n",
        "floatVar = 123.45      #float\n",
        "strVar = \"Hello\"         #string"
      ],
      "metadata": {
        "id": "u3IB_5CLw1pZ"
      },
      "execution_count": null,
      "outputs": []
    },
    {
      "cell_type": "code",
      "source": [
        "type(boolVar), type(intVar), type(floatVar), type(strVar)"
      ],
      "metadata": {
        "id": "l6iPeig8xKU3",
        "outputId": "47603cbd-548a-40eb-94ea-3c77987b758f",
        "colab": {
          "base_uri": "https://localhost:8080/"
        }
      },
      "execution_count": null,
      "outputs": [
        {
          "output_type": "execute_result",
          "data": {
            "text/plain": [
              "(bool, int, float, str)"
            ]
          },
          "metadata": {},
          "execution_count": 37
        }
      ]
    },
    {
      "cell_type": "code",
      "source": [
        "int('10010011',2)"
      ],
      "metadata": {
        "id": "VKYCspnmxLQ7",
        "outputId": "8d85ac76-8299-47b8-ac09-7568134c8b89",
        "colab": {
          "base_uri": "https://localhost:8080/"
        }
      },
      "execution_count": null,
      "outputs": [
        {
          "output_type": "execute_result",
          "data": {
            "text/plain": [
              "147"
            ]
          },
          "metadata": {},
          "execution_count": 4
        }
      ]
    },
    {
      "cell_type": "code",
      "source": [
        "int('93',16)"
      ],
      "metadata": {
        "id": "IWH-EFFjBvxG",
        "outputId": "c5314857-3c99-43f4-bdc6-6b1da41ffd74",
        "colab": {
          "base_uri": "https://localhost:8080/"
        }
      },
      "execution_count": null,
      "outputs": [
        {
          "output_type": "execute_result",
          "data": {
            "text/plain": [
              "147"
            ]
          },
          "metadata": {},
          "execution_count": 1
        }
      ]
    },
    {
      "cell_type": "code",
      "source": [
        "a = 123\n",
        "type(a)"
      ],
      "metadata": {
        "id": "1nRP1VLyB0ql",
        "outputId": "84d762b0-773b-46cb-e719-5ee5aa0c1d34",
        "colab": {
          "base_uri": "https://localhost:8080/"
        }
      },
      "execution_count": null,
      "outputs": [
        {
          "output_type": "execute_result",
          "data": {
            "text/plain": [
              "int"
            ]
          },
          "metadata": {},
          "execution_count": 2
        }
      ]
    },
    {
      "cell_type": "code",
      "source": [
        "a = 100**100\n",
        "print(a)"
      ],
      "metadata": {
        "id": "mUWHW5WqCGfq",
        "outputId": "b1d51b93-a872-4139-a8d8-38e8fcaffcc6",
        "colab": {
          "base_uri": "https://localhost:8080/"
        }
      },
      "execution_count": null,
      "outputs": [
        {
          "output_type": "stream",
          "name": "stdout",
          "text": [
            "100000000000000000000000000000000000000000000000000000000000000000000000000000000000000000000000000000000000000000000000000000000000000000000000000000000000000000000000000000000000000000000000000000000\n"
          ]
        }
      ]
    },
    {
      "cell_type": "code",
      "source": [
        "a = 3.14\n",
        "b = 3.14e5\n",
        "print(a, b)"
      ],
      "metadata": {
        "id": "36X7nepuCKK1",
        "outputId": "cea17367-9811-40d5-af06-0c7240cafa9b",
        "colab": {
          "base_uri": "https://localhost:8080/"
        }
      },
      "execution_count": null,
      "outputs": [
        {
          "output_type": "stream",
          "name": "stdout",
          "text": [
            "3.14 314000.0\n"
          ]
        }
      ]
    },
    {
      "cell_type": "code",
      "source": [
        "a = 10; b = 20\n",
        "print(a+b, a-b, a*b, a/b)"
      ],
      "metadata": {
        "id": "hw9NCL7vCapL",
        "outputId": "3e582b4b-95b7-4815-96ae-c995f310da62",
        "colab": {
          "base_uri": "https://localhost:8080/"
        }
      },
      "execution_count": null,
      "outputs": [
        {
          "output_type": "stream",
          "name": "stdout",
          "text": [
            "30 -10 200 0.5\n"
          ]
        }
      ]
    },
    {
      "cell_type": "code",
      "source": [
        "a,b = 9,2\n",
        "print(a**b, a%b, a//b)"
      ],
      "metadata": {
        "id": "VansYioFCkmc",
        "outputId": "28c5df0c-5b46-4d3a-fdc1-f7a91bd6fad2",
        "colab": {
          "base_uri": "https://localhost:8080/"
        }
      },
      "execution_count": null,
      "outputs": [
        {
          "output_type": "stream",
          "name": "stdout",
          "text": [
            "81 1 4\n"
          ]
        }
      ]
    },
    {
      "cell_type": "code",
      "source": [
        "a = True\n",
        "type(a)"
      ],
      "metadata": {
        "id": "KciTQ_FKCt_H",
        "outputId": "1427f981-7791-4601-9c1a-03029a9f22a1",
        "colab": {
          "base_uri": "https://localhost:8080/"
        }
      },
      "execution_count": null,
      "outputs": [
        {
          "output_type": "execute_result",
          "data": {
            "text/plain": [
              "bool"
            ]
          },
          "metadata": {},
          "execution_count": 7
        }
      ]
    },
    {
      "cell_type": "code",
      "source": [
        "a = (100 == 100)\n",
        "b = (10>100)\n",
        "print(a, b)"
      ],
      "metadata": {
        "id": "UUX77whbC7r_",
        "outputId": "7fc9201f-989a-4054-e130-b9df497489a2",
        "colab": {
          "base_uri": "https://localhost:8080/"
        }
      },
      "execution_count": null,
      "outputs": [
        {
          "output_type": "stream",
          "name": "stdout",
          "text": [
            "True False\n"
          ]
        }
      ]
    },
    {
      "cell_type": "code",
      "source": [
        "a = \"Great Python\"\n",
        "print(a)\n",
        "type(a)"
      ],
      "metadata": {
        "id": "l1ueQVDzDC-Y",
        "outputId": "6d65218c-f15d-4bbd-f826-f0a73af89cbf",
        "colab": {
          "base_uri": "https://localhost:8080/"
        }
      },
      "execution_count": 22,
      "outputs": [
        {
          "output_type": "stream",
          "name": "stdout",
          "text": [
            "Great Python\n"
          ]
        },
        {
          "output_type": "execute_result",
          "data": {
            "text/plain": [
              "str"
            ]
          },
          "metadata": {},
          "execution_count": 22
        }
      ]
    },
    {
      "cell_type": "code",
      "source": [
        "import sys\n",
        "\n",
        "# 변수 선언 #\n",
        "intVar, floatVar, boolVar, strVar, listVar, tupleVar, dictVar, setVar = [None] * 8\n",
        "\n",
        "# Main Coding #\n",
        "if __name__ == \"__main__\":\n",
        "  intVar = 0\n",
        "  floatVar = 0.0\n",
        "  boolVar = True\n",
        "  strVar = ''\n",
        "  listVar = []\n",
        "  tupleVar = ()\n",
        "  dictVar = {}\n",
        "  setVar = set()\n",
        "\n",
        "  print('int형 기본 크기 -->', sys.getsizeof(intVar))\n",
        "  print('float형 기본 크기 -->', sys.getsizeof(floatVar))\n",
        "  print('bool형 기본 크기 -->', sys.getsizeof(boolVar))\n",
        "  print('str형 기본 크기 -->', sys.getsizeof(strVar))\n",
        "  print('list형 기본 크기 -->', sys.getsizeof(listVar))\n",
        "  print('tuple형 기본 크기 -->', sys.getsizeof(tupleVar))\n",
        "  print('dictionary형 기본 크기 -->', sys.getsizeof(dictVar))\n",
        "  print('set형 기본 크기 -->', sys.getsizeof(setVar))\n"
      ],
      "metadata": {
        "id": "PmlFJqHsDM36",
        "colab": {
          "base_uri": "https://localhost:8080/"
        },
        "outputId": "cdd1ea16-f5a0-4449-f447-10ccf8e20a32"
      },
      "execution_count": 23,
      "outputs": [
        {
          "output_type": "stream",
          "name": "stdout",
          "text": [
            "int형 기본 크기 --> 24\n",
            "float형 기본 크기 --> 24\n",
            "bool형 기본 크기 --> 28\n",
            "str형 기본 크기 --> 49\n",
            "list형 기본 크기 --> 56\n",
            "tuple형 기본 크기 --> 40\n",
            "dictionary형 기본 크기 --> 64\n",
            "set형 기본 크기 --> 216\n"
          ]
        }
      ]
    },
    {
      "cell_type": "code",
      "source": [
        "a = 5; b = 3\n",
        "print(a+b, a-b, a*b, a/b, a//b, a%b, a**b)"
      ],
      "metadata": {
        "id": "pHJUCiUV7S4O",
        "outputId": "bc5dde72-caef-4491-909b-d83eac84f201",
        "colab": {
          "base_uri": "https://localhost:8080/"
        }
      },
      "execution_count": 27,
      "outputs": [
        {
          "output_type": "stream",
          "name": "stdout",
          "text": [
            "8 2 15 1.6666666666666667 1 2 125\n"
          ]
        }
      ]
    },
    {
      "cell_type": "code",
      "source": [
        "a, b = 5, 3\n",
        "print(a+b, a-b, a*b, a/b, a//b, a%b, a**b)"
      ],
      "metadata": {
        "id": "hRZamyOh9ELv",
        "outputId": "872c60f0-34de-44ab-cec9-b11680963c9b",
        "colab": {
          "base_uri": "https://localhost:8080/"
        }
      },
      "execution_count": 28,
      "outputs": [
        {
          "output_type": "stream",
          "name": "stdout",
          "text": [
            "8 2 15 1.6666666666666667 1 2 125\n"
          ]
        }
      ]
    },
    {
      "cell_type": "code",
      "source": [
        "s1, s2, s3 = \"100\", \"100.123\", \"9999999999999\"\n",
        "type(s1)"
      ],
      "metadata": {
        "id": "hAHHYqRo9YVZ",
        "outputId": "0df02a19-651e-4316-a1a2-1a763a3fcb8d",
        "colab": {
          "base_uri": "https://localhost:8080/"
        }
      },
      "execution_count": 30,
      "outputs": [
        {
          "output_type": "execute_result",
          "data": {
            "text/plain": [
              "str"
            ]
          },
          "metadata": {},
          "execution_count": 30
        }
      ]
    },
    {
      "cell_type": "code",
      "source": [
        "s1, s2, s3 = \"100\", \"100.123\", \"9999999999999\"\n",
        "print(int(s1)+1, float(s2)+2, int(s3)+1)"
      ],
      "metadata": {
        "id": "mF0NfFA-9-zN",
        "outputId": "fa1e6abf-1cc1-4d5a-8703-82e2a1949668",
        "colab": {
          "base_uri": "https://localhost:8080/"
        }
      },
      "execution_count": 32,
      "outputs": [
        {
          "output_type": "stream",
          "name": "stdout",
          "text": [
            "101 102.123 10000000000000\n"
          ]
        }
      ]
    },
    {
      "cell_type": "code",
      "source": [
        "a, b = 100, 100.123\n",
        "print(str(a)+\"1\", str(b)+\"1\")"
      ],
      "metadata": {
        "id": "SDNAlXlx-e5j",
        "outputId": "1a04a14d-0562-4ffd-ccdd-36d99e599137",
        "colab": {
          "base_uri": "https://localhost:8080/"
        }
      },
      "execution_count": 37,
      "outputs": [
        {
          "output_type": "stream",
          "name": "stdout",
          "text": [
            "1001 100.1231\n"
          ]
        }
      ]
    },
    {
      "cell_type": "code",
      "source": [
        "a = 10\n",
        "a += 5 ; print(a)\n",
        "a -= 5 ; print(a)\n",
        "a *= 5 ; print(a)\n",
        "a /= 5 ; print(a)\n",
        "a //= 5 ; print(a)\n",
        "a %= 5 ; print(a)\n",
        "a **= 5 ; print(a)"
      ],
      "metadata": {
        "id": "e6N5f5LB-tlv",
        "outputId": "4f6b6804-3780-4b5c-c875-8605beb81d8a",
        "colab": {
          "base_uri": "https://localhost:8080/"
        }
      },
      "execution_count": 43,
      "outputs": [
        {
          "output_type": "stream",
          "name": "stdout",
          "text": [
            "15\n",
            "10\n",
            "50\n",
            "10.0\n",
            "2.0\n",
            "2.0\n",
            "32.0\n"
          ]
        }
      ]
    },
    {
      "cell_type": "code",
      "source": [
        "## Exchanging coins  ##\n",
        "\n",
        "# Declaring variables\n",
        "money, c500, c100, c50, c10 = 0,0,0,0,0\n",
        "\n",
        "# Main coding\n",
        "money = int(input(\"How much exchange? \"))\n",
        "\n",
        "c500 = money // 500\n",
        "money %= 500\n",
        "\n",
        "c100 = money // 100\n",
        "money %= 100\n",
        "\n",
        "c50 = money // 50\n",
        "money %= 50\n",
        "\n",
        "c10 = money // 10\n",
        "money %= 10\n",
        "\n",
        "print(\"\\n500원짜리 ==> %d개\" % c500)\n",
        "print(\"100원짜리 ==> %d개\" % c100)\n",
        "print(\"50원짜리 ==> %d개\" % c50)\n",
        "print(\"10원짜리 ==> %d개\" % c10)\n",
        "print(\"바꾸지 못한 잔돈 ==> %d원 \\n\" %money)"
      ],
      "metadata": {
        "id": "UWz3XJoL_QFW",
        "outputId": "dc04b79d-c026-4c42-af53-369ee631a58d",
        "colab": {
          "base_uri": "https://localhost:8080/"
        }
      },
      "execution_count": 51,
      "outputs": [
        {
          "output_type": "stream",
          "name": "stdout",
          "text": [
            "How much exchange? 3323425\n",
            "\n",
            "500원짜리 ==> 6646개\n",
            "100원짜리 ==> 4개\n",
            "50원짜리 ==> 0개\n",
            "10원짜리 ==> 2개\n",
            "바꾸지 못한 잔돈 ==> 5원 \n",
            "\n"
          ]
        }
      ]
    },
    {
      "cell_type": "code",
      "source": [],
      "metadata": {
        "id": "5hboGdVmFgsp"
      },
      "execution_count": null,
      "outputs": []
    }
  ]
}