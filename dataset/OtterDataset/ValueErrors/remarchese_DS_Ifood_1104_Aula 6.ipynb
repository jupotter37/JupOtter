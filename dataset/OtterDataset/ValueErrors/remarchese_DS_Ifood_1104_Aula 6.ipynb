{
 "cells": [
  {
   "cell_type": "markdown",
   "id": "a186ba4d",
   "metadata": {},
   "source": [
    "# Funções\n"
   ]
  },
  {
   "cell_type": "code",
   "execution_count": 4,
   "id": "f2292910",
   "metadata": {},
   "outputs": [],
   "source": [
    "def funcao(parametro):\n",
    "    return parametro"
   ]
  },
  {
   "cell_type": "code",
   "execution_count": 6,
   "id": "1d371768",
   "metadata": {},
   "outputs": [
    {
     "data": {
      "text/plain": [
       "1"
      ]
     },
     "execution_count": 6,
     "metadata": {},
     "output_type": "execute_result"
    }
   ],
   "source": [
    "funcao(parametro=1)"
   ]
  },
  {
   "cell_type": "code",
   "execution_count": 7,
   "id": "dd190258",
   "metadata": {},
   "outputs": [
    {
     "data": {
      "text/plain": [
       "'texto'"
      ]
     },
     "execution_count": 7,
     "metadata": {},
     "output_type": "execute_result"
    }
   ],
   "source": [
    "funcao(parametro='texto')"
   ]
  },
  {
   "cell_type": "markdown",
   "id": "e2c74a17",
   "metadata": {},
   "source": [
    "**Exercícios**"
   ]
  },
  {
   "cell_type": "markdown",
   "id": "fca1e469",
   "metadata": {},
   "source": [
    "1) Faça uma função que recebe um número e imprima seu dobro. \n"
   ]
  },
  {
   "cell_type": "code",
   "execution_count": 8,
   "id": "ca39ad4f",
   "metadata": {},
   "outputs": [],
   "source": [
    "def dobro(numero):\n",
    "    return numero + numero"
   ]
  },
  {
   "cell_type": "code",
   "execution_count": 9,
   "id": "af698381",
   "metadata": {},
   "outputs": [
    {
     "data": {
      "text/plain": [
       "10"
      ]
     },
     "execution_count": 9,
     "metadata": {},
     "output_type": "execute_result"
    }
   ],
   "source": [
    "dobro(5)"
   ]
  },
  {
   "cell_type": "markdown",
   "id": "5779c67a",
   "metadata": {},
   "source": [
    "2.Faça uma função que recebe o valor do raio de um círculo e retorna o valor do comprimento de sua circunferência:   \n",
    "`C = 2*pi*r`"
   ]
  },
  {
   "cell_type": "code",
   "execution_count": 10,
   "id": "f63f6024",
   "metadata": {},
   "outputs": [],
   "source": [
    "def circunferencia(raio):\n",
    "    resultado = 2*3.14*raio\n",
    "    return resultado"
   ]
  },
  {
   "cell_type": "code",
   "execution_count": 11,
   "id": "c3d53b65",
   "metadata": {},
   "outputs": [
    {
     "data": {
      "text/plain": [
       "62.800000000000004"
      ]
     },
     "execution_count": 11,
     "metadata": {},
     "output_type": "execute_result"
    }
   ],
   "source": [
    "circunferencia(10)"
   ]
  },
  {
   "cell_type": "markdown",
   "id": "a93c1a27",
   "metadata": {},
   "source": [
    "3. Faça uma função para cada operação matemática básica (soma, subtração, multiplicação e divisão). As funções devem receber dois números e retornar o resultado da operação. \n"
   ]
  },
  {
   "cell_type": "code",
   "execution_count": 12,
   "id": "eefe2301",
   "metadata": {},
   "outputs": [],
   "source": [
    "def soma(a,b):\n",
    "    return a + b\n",
    "\n",
    "def subtracao(a,b):\n",
    "    return a - b\n",
    "\n",
    "def multiplicacao(a,b):\n",
    "    return a*b\n",
    "\n",
    "def divisao(a,b):\n",
    "    return a/b"
   ]
  },
  {
   "cell_type": "code",
   "execution_count": 13,
   "id": "a7556ffe",
   "metadata": {},
   "outputs": [
    {
     "data": {
      "text/plain": [
       "5"
      ]
     },
     "execution_count": 13,
     "metadata": {},
     "output_type": "execute_result"
    }
   ],
   "source": [
    "soma(2,3)"
   ]
  },
  {
   "cell_type": "code",
   "execution_count": 14,
   "id": "83523bc4",
   "metadata": {},
   "outputs": [
    {
     "data": {
      "text/plain": [
       "-1"
      ]
     },
     "execution_count": 14,
     "metadata": {},
     "output_type": "execute_result"
    }
   ],
   "source": [
    "subtracao(2,3)"
   ]
  },
  {
   "cell_type": "code",
   "execution_count": 15,
   "id": "11ffef66",
   "metadata": {},
   "outputs": [
    {
     "data": {
      "text/plain": [
       "6"
      ]
     },
     "execution_count": 15,
     "metadata": {},
     "output_type": "execute_result"
    }
   ],
   "source": [
    "multiplicacao(2,3)"
   ]
  },
  {
   "cell_type": "code",
   "execution_count": 16,
   "id": "d7140ee5",
   "metadata": {},
   "outputs": [
    {
     "data": {
      "text/plain": [
       "0.6666666666666666"
      ]
     },
     "execution_count": 16,
     "metadata": {},
     "output_type": "execute_result"
    }
   ],
   "source": [
    "divisao(2,3)"
   ]
  },
  {
   "cell_type": "markdown",
   "id": "bd041211",
   "metadata": {},
   "source": [
    "4. Faça uma função que recebe um nome e um horário e imprime “Bom dia, [nome]”, caso seja antes de 12h, “Boa Tarde, [nome]”, caso seja entre 12h e 18h e “Boa noite, [nome]” se for após às 18h."
   ]
  },
  {
   "cell_type": "code",
   "execution_count": 17,
   "id": "d9c53ee7",
   "metadata": {},
   "outputs": [],
   "source": [
    "def saudacao(nome,horario):\n",
    "    if horario < 12:\n",
    "        print(f'Bom dia, {nome}')\n",
    "    elif horario < 18:\n",
    "        print(f'Boa tarde, {nome}')\n",
    "    else:\n",
    "        print(f'Boa noite, {nome}')"
   ]
  },
  {
   "cell_type": "code",
   "execution_count": 18,
   "id": "fe14eba8",
   "metadata": {},
   "outputs": [
    {
     "name": "stdout",
     "output_type": "stream",
     "text": [
      "Boa noite, Renata\n"
     ]
    }
   ],
   "source": [
    "saudacao(\"Renata\", 21)"
   ]
  },
  {
   "cell_type": "markdown",
   "id": "d8fed0d2",
   "metadata": {},
   "source": [
    "5. Faça uma função que recebe duas listas e retorna a soma item a item dessas listas.  \n",
    "Exemplo: Se a função receber as listas [1,4,3] e [3,5,1], então a função deve retornar [1+3, 4+5, 3+1] = [4, 9, 4]. \n"
   ]
  },
  {
   "cell_type": "code",
   "execution_count": 21,
   "id": "2430b453",
   "metadata": {},
   "outputs": [],
   "source": [
    "def soma_lista(lista1, lista2):\n",
    "    lista_soma = []\n",
    "    for i in range(len(lista1)):\n",
    "        lista_soma.append(lista1[i] + lista2[i])\n",
    "    return lista_soma"
   ]
  },
  {
   "cell_type": "code",
   "execution_count": 22,
   "id": "c9ee760b",
   "metadata": {},
   "outputs": [],
   "source": [
    "lista1 = [1,4,3]\n",
    "lista2 = [3,5,1]"
   ]
  },
  {
   "cell_type": "code",
   "execution_count": 23,
   "id": "d95126e3",
   "metadata": {},
   "outputs": [
    {
     "data": {
      "text/plain": [
       "[4, 9, 4]"
      ]
     },
     "execution_count": 23,
     "metadata": {},
     "output_type": "execute_result"
    }
   ],
   "source": [
    "soma_lista(lista1,lista2)"
   ]
  },
  {
   "cell_type": "markdown",
   "id": "1e838d39",
   "metadata": {},
   "source": [
    "# zip e enumerate"
   ]
  },
  {
   "cell_type": "markdown",
   "id": "0b0d39a3",
   "metadata": {},
   "source": [
    "https://docs.python.org/3/library/functions.html"
   ]
  },
  {
   "cell_type": "markdown",
   "id": "c2c194c2",
   "metadata": {},
   "source": [
    "- enumerate\n",
    "\n",
    "A função \"embutida\" enumerate é uma função geradora, usada com frequência em laços for para evitar o tratamento manual de variáveis de índice.\n",
    "  \n",
    "enumerate(iterable, start=0)\n",
    "  \n",
    "Produz tuplas de dois elementos na forma (index, item), em que index é contado a partir de start e item é obtido de iterable"
   ]
  },
  {
   "cell_type": "code",
   "execution_count": 24,
   "id": "0d255cac",
   "metadata": {},
   "outputs": [],
   "source": [
    "lista = [1, 4, 3, 4, 5, 1, 10, 6, 7, 8, -4, 0, -3]"
   ]
  },
  {
   "cell_type": "code",
   "execution_count": 28,
   "id": "cf96972e",
   "metadata": {},
   "outputs": [
    {
     "name": "stdout",
     "output_type": "stream",
     "text": [
      "Indice 0, valor 1\n",
      "Indice 1, valor 4\n",
      "Indice 2, valor 3\n",
      "Indice 3, valor 4\n",
      "Indice 4, valor 5\n",
      "Indice 5, valor 1\n",
      "Indice 6, valor 10\n",
      "Indice 7, valor 6\n",
      "Indice 8, valor 7\n",
      "Indice 9, valor 8\n",
      "Indice 10, valor -4\n",
      "Indice 11, valor 0\n",
      "Indice 12, valor -3\n"
     ]
    }
   ],
   "source": [
    "for i in range(len(lista)):\n",
    "    print(f'Indice {i}, valor {lista[i]}')"
   ]
  },
  {
   "cell_type": "code",
   "execution_count": 29,
   "id": "ccfb3b46",
   "metadata": {},
   "outputs": [
    {
     "data": {
      "text/plain": [
       "<enumerate at 0x231afe699c0>"
      ]
     },
     "execution_count": 29,
     "metadata": {},
     "output_type": "execute_result"
    }
   ],
   "source": [
    "enumerate(lista) #enumera a lista"
   ]
  },
  {
   "cell_type": "code",
   "execution_count": 30,
   "id": "b48ab071",
   "metadata": {},
   "outputs": [
    {
     "data": {
      "text/plain": [
       "[(0, 1),\n",
       " (1, 4),\n",
       " (2, 3),\n",
       " (3, 4),\n",
       " (4, 5),\n",
       " (5, 1),\n",
       " (6, 10),\n",
       " (7, 6),\n",
       " (8, 7),\n",
       " (9, 8),\n",
       " (10, -4),\n",
       " (11, 0),\n",
       " (12, -3)]"
      ]
     },
     "execution_count": 30,
     "metadata": {},
     "output_type": "execute_result"
    }
   ],
   "source": [
    "list(enumerate(lista))"
   ]
  },
  {
   "cell_type": "code",
   "execution_count": 32,
   "id": "45d64bd1",
   "metadata": {},
   "outputs": [
    {
     "data": {
      "text/plain": [
       "[(100, 1),\n",
       " (101, 4),\n",
       " (102, 3),\n",
       " (103, 4),\n",
       " (104, 5),\n",
       " (105, 1),\n",
       " (106, 10),\n",
       " (107, 6),\n",
       " (108, 7),\n",
       " (109, 8),\n",
       " (110, -4),\n",
       " (111, 0),\n",
       " (112, -3)]"
      ]
     },
     "execution_count": 32,
     "metadata": {},
     "output_type": "execute_result"
    }
   ],
   "source": [
    "list(enumerate(lista, start=100))"
   ]
  },
  {
   "cell_type": "code",
   "execution_count": 34,
   "id": "a8bf927d",
   "metadata": {},
   "outputs": [
    {
     "name": "stdout",
     "output_type": "stream",
     "text": [
      "Esse é o índice: 0 e esse é o item : 1\n",
      "Esse é o índice: 1 e esse é o item : 4\n",
      "Esse é o índice: 2 e esse é o item : 3\n",
      "Esse é o índice: 3 e esse é o item : 4\n",
      "Esse é o índice: 4 e esse é o item : 5\n",
      "Esse é o índice: 5 e esse é o item : 1\n",
      "Esse é o índice: 6 e esse é o item : 10\n",
      "Esse é o índice: 7 e esse é o item : 6\n",
      "Esse é o índice: 8 e esse é o item : 7\n",
      "Esse é o índice: 9 e esse é o item : 8\n",
      "Esse é o índice: 10 e esse é o item : -4\n",
      "Esse é o índice: 11 e esse é o item : 0\n",
      "Esse é o índice: 12 e esse é o item : -3\n"
     ]
    }
   ],
   "source": [
    "for indice, item in enumerate(lista):\n",
    "    print('Esse é o índice:', indice, \"e esse é o item :\", item)"
   ]
  },
  {
   "cell_type": "code",
   "execution_count": 38,
   "id": "48d7f375",
   "metadata": {},
   "outputs": [
    {
     "name": "stdout",
     "output_type": "stream",
     "text": [
      "Esse é o índice: 0\n",
      "Esse é o item: 49212614633\n",
      "Esse é o índice: 1\n",
      "Esse é o item: Detrator\n",
      "Esse é o índice: 2\n",
      "Esse é o item: (59.0, 30.0, 51.0, 18.0)\n"
     ]
    }
   ],
   "source": [
    "cliente = [49212614633, 'Detrator', (59.00, 30.00, 51.00, 18.00)]\n",
    "\n",
    "for indice, item in enumerate(cliente):\n",
    "    print('Esse é o índice:', indice)\n",
    "    print('Esse é o item:', item)"
   ]
  },
  {
   "cell_type": "markdown",
   "id": "06a4d44e",
   "metadata": {},
   "source": [
    "- zip \n",
    "\n",
    "Produz tuplas de N elementos criadas a partir de itens obtidos dos iteráveis em paralelo, parando silenciosamente quando o primeiro iterável se esgotar.\n",
    "\n",
    "zip(it1, .. ,itN)  \n",
    "\n",
    "Tem que ter o mesmo tamanho, pois ele corta o iterável"
   ]
  },
  {
   "cell_type": "code",
   "execution_count": 42,
   "id": "e2e6db54",
   "metadata": {},
   "outputs": [
    {
     "name": "stdout",
     "output_type": "stream",
     "text": [
      "[1, 4, 3]\n",
      "[3, 5, 1]\n"
     ]
    }
   ],
   "source": [
    "print(lista1)\n",
    "print(lista2)"
   ]
  },
  {
   "cell_type": "code",
   "execution_count": 40,
   "id": "186f6ca5",
   "metadata": {},
   "outputs": [
    {
     "data": {
      "text/plain": [
       "<zip at 0x231b1bbed80>"
      ]
     },
     "execution_count": 40,
     "metadata": {},
     "output_type": "execute_result"
    }
   ],
   "source": [
    "zip(lista1, lista2)"
   ]
  },
  {
   "cell_type": "code",
   "execution_count": 41,
   "id": "68069a27",
   "metadata": {},
   "outputs": [
    {
     "data": {
      "text/plain": [
       "[(1, 3), (4, 5), (3, 1)]"
      ]
     },
     "execution_count": 41,
     "metadata": {},
     "output_type": "execute_result"
    }
   ],
   "source": [
    "list(zip(lista1, lista2))"
   ]
  },
  {
   "cell_type": "code",
   "execution_count": 48,
   "id": "3c0cf2d3",
   "metadata": {},
   "outputs": [
    {
     "data": {
      "text/plain": [
       "[(1, 3, 1), (4, 5, 1), (3, 1, 1)]"
      ]
     },
     "execution_count": 48,
     "metadata": {},
     "output_type": "execute_result"
    }
   ],
   "source": [
    "list(zip(lista1, lista2, [1,1,1]))"
   ]
  },
  {
   "cell_type": "code",
   "execution_count": 43,
   "id": "f3f02955",
   "metadata": {},
   "outputs": [
    {
     "name": "stdout",
     "output_type": "stream",
     "text": [
      "1 3\n",
      "4 5\n",
      "3 1\n"
     ]
    }
   ],
   "source": [
    "for item1, item2 in zip(lista1, lista2):\n",
    "    print(item1, item2)"
   ]
  },
  {
   "cell_type": "code",
   "execution_count": 45,
   "id": "041e5d86",
   "metadata": {},
   "outputs": [
    {
     "data": {
      "text/plain": [
       "[4, 9, 4]"
      ]
     },
     "execution_count": 45,
     "metadata": {},
     "output_type": "execute_result"
    }
   ],
   "source": [
    "lista_soma = []\n",
    "for item1, item2 in zip(lista1, lista2):\n",
    "    lista_soma.append(item1 + item2)\n",
    "\n",
    "lista_soma"
   ]
  },
  {
   "cell_type": "code",
   "execution_count": 46,
   "id": "56cc6fc3",
   "metadata": {},
   "outputs": [],
   "source": [
    "def soma_lista(lista1, lista2):\n",
    "    lista_soma = []\n",
    "    for item1, item2 in zip(lista1, lista2):\n",
    "        lista_soma.append(item1 + item2)\n",
    "    return lista_soma"
   ]
  },
  {
   "cell_type": "code",
   "execution_count": 47,
   "id": "18447ac4",
   "metadata": {},
   "outputs": [
    {
     "data": {
      "text/plain": [
       "[4, 9, 4]"
      ]
     },
     "execution_count": 47,
     "metadata": {},
     "output_type": "execute_result"
    }
   ],
   "source": [
    "soma_lista(lista1, lista2)"
   ]
  },
  {
   "cell_type": "markdown",
   "id": "020209f4",
   "metadata": {},
   "source": [
    "# Tuplas\n",
    "\n",
    "- Tuplas são parecidas com listas porém são imutáveis\n",
    "- Uma tupla é criado por () ou usando a palavra tuple(var)"
   ]
  },
  {
   "cell_type": "code",
   "execution_count": 50,
   "id": "fdd78609",
   "metadata": {},
   "outputs": [],
   "source": [
    "tupla1 = (1, 2, 3)"
   ]
  },
  {
   "cell_type": "code",
   "execution_count": 51,
   "id": "a2c8505d",
   "metadata": {},
   "outputs": [
    {
     "data": {
      "text/plain": [
       "1"
      ]
     },
     "execution_count": 51,
     "metadata": {},
     "output_type": "execute_result"
    }
   ],
   "source": [
    "tupla1[0] # acessar um valor pelo índice"
   ]
  },
  {
   "cell_type": "code",
   "execution_count": 52,
   "id": "05ecc33d",
   "metadata": {},
   "outputs": [
    {
     "ename": "TypeError",
     "evalue": "'tuple' object does not support item assignment",
     "output_type": "error",
     "traceback": [
      "\u001b[1;31m---------------------------------------------------------------------------\u001b[0m",
      "\u001b[1;31mTypeError\u001b[0m                                 Traceback (most recent call last)",
      "Cell \u001b[1;32mIn[52], line 2\u001b[0m\n\u001b[0;32m      1\u001b[0m \u001b[38;5;66;03m# Substituir o valor 1 do índice 0 pelo valor 2\u001b[39;00m\n\u001b[1;32m----> 2\u001b[0m \u001b[43mtupla1\u001b[49m\u001b[43m[\u001b[49m\u001b[38;5;241;43m0\u001b[39;49m\u001b[43m]\u001b[49m \u001b[38;5;241m=\u001b[39m \u001b[38;5;241m2\u001b[39m\n",
      "\u001b[1;31mTypeError\u001b[0m: 'tuple' object does not support item assignment"
     ]
    }
   ],
   "source": [
    "# Substituir o valor 1 do índice 0 pelo valor 2\n",
    "tupla1[0] = 2"
   ]
  },
  {
   "cell_type": "markdown",
   "id": "65920d3f",
   "metadata": {},
   "source": [
    "# Erros e excessões"
   ]
  },
  {
   "cell_type": "code",
   "execution_count": 53,
   "id": "72b24dec",
   "metadata": {},
   "outputs": [],
   "source": [
    "# Voltando ao exercício 3\n",
    "\n",
    "def divisao(a,b):\n",
    "    return a/b"
   ]
  },
  {
   "cell_type": "code",
   "execution_count": 54,
   "id": "62500682",
   "metadata": {},
   "outputs": [
    {
     "ename": "ZeroDivisionError",
     "evalue": "division by zero",
     "output_type": "error",
     "traceback": [
      "\u001b[1;31m---------------------------------------------------------------------------\u001b[0m",
      "\u001b[1;31mZeroDivisionError\u001b[0m                         Traceback (most recent call last)",
      "Cell \u001b[1;32mIn[54], line 1\u001b[0m\n\u001b[1;32m----> 1\u001b[0m \u001b[43mdivisao\u001b[49m\u001b[43m(\u001b[49m\u001b[38;5;241;43m2\u001b[39;49m\u001b[43m,\u001b[49m\u001b[38;5;241;43m0\u001b[39;49m\u001b[43m)\u001b[49m\n",
      "Cell \u001b[1;32mIn[53], line 4\u001b[0m, in \u001b[0;36mdivisao\u001b[1;34m(a, b)\u001b[0m\n\u001b[0;32m      3\u001b[0m \u001b[38;5;28;01mdef\u001b[39;00m \u001b[38;5;21mdivisao\u001b[39m(a,b):\n\u001b[1;32m----> 4\u001b[0m     \u001b[38;5;28;01mreturn\u001b[39;00m \u001b[43ma\u001b[49m\u001b[38;5;241;43m/\u001b[39;49m\u001b[43mb\u001b[49m\n",
      "\u001b[1;31mZeroDivisionError\u001b[0m: division by zero"
     ]
    }
   ],
   "source": [
    "divisao(2,0)"
   ]
  },
  {
   "cell_type": "markdown",
   "id": "5b969cbb",
   "metadata": {},
   "source": [
    "- Excessões\n",
    "\n",
    "\n",
    "Mesmo que um comando ou expressão estejam sintaticamente corretos, talvez ocorra um erro na hora de sua execução. Erros detectados durante a execução são chamados exceções e não são necessariamente fatais: logo veremos como tratá-las em programas Python. A maioria das exceções não são tratadas pelos programas e acabam resultando em mensagens de erro:"
   ]
  },
  {
   "cell_type": "code",
   "execution_count": 56,
   "id": "afca4567",
   "metadata": {},
   "outputs": [
    {
     "ename": "ZeroDivisionError",
     "evalue": "division by zero",
     "output_type": "error",
     "traceback": [
      "\u001b[1;31m---------------------------------------------------------------------------\u001b[0m",
      "\u001b[1;31mZeroDivisionError\u001b[0m                         Traceback (most recent call last)",
      "Cell \u001b[1;32mIn[56], line 1\u001b[0m\n\u001b[1;32m----> 1\u001b[0m \u001b[38;5;241m10\u001b[39m \u001b[38;5;241m*\u001b[39m (\u001b[38;5;241;43m1\u001b[39;49m\u001b[38;5;241;43m/\u001b[39;49m\u001b[38;5;241;43m0\u001b[39;49m)\n",
      "\u001b[1;31mZeroDivisionError\u001b[0m: division by zero"
     ]
    }
   ],
   "source": [
    "10 * (1/0)"
   ]
  },
  {
   "cell_type": "code",
   "execution_count": 57,
   "id": "b0af9ba4",
   "metadata": {},
   "outputs": [
    {
     "ename": "NameError",
     "evalue": "name 'spam' is not defined",
     "output_type": "error",
     "traceback": [
      "\u001b[1;31m---------------------------------------------------------------------------\u001b[0m",
      "\u001b[1;31mNameError\u001b[0m                                 Traceback (most recent call last)",
      "Cell \u001b[1;32mIn[57], line 1\u001b[0m\n\u001b[1;32m----> 1\u001b[0m \u001b[38;5;241m4\u001b[39m \u001b[38;5;241m+\u001b[39m \u001b[43mspam\u001b[49m\u001b[38;5;241m*\u001b[39m\u001b[38;5;241m3\u001b[39m\n",
      "\u001b[1;31mNameError\u001b[0m: name 'spam' is not defined"
     ]
    }
   ],
   "source": [
    "4 + spam*3"
   ]
  },
  {
   "cell_type": "code",
   "execution_count": 58,
   "id": "3c8e65d7",
   "metadata": {},
   "outputs": [
    {
     "ename": "TypeError",
     "evalue": "can only concatenate str (not \"int\") to str",
     "output_type": "error",
     "traceback": [
      "\u001b[1;31m---------------------------------------------------------------------------\u001b[0m",
      "\u001b[1;31mTypeError\u001b[0m                                 Traceback (most recent call last)",
      "Cell \u001b[1;32mIn[58], line 1\u001b[0m\n\u001b[1;32m----> 1\u001b[0m \u001b[38;5;124;43m'\u001b[39;49m\u001b[38;5;124;43m2\u001b[39;49m\u001b[38;5;124;43m'\u001b[39;49m\u001b[43m \u001b[49m\u001b[38;5;241;43m+\u001b[39;49m\u001b[43m \u001b[49m\u001b[38;5;241;43m2\u001b[39;49m\n",
      "\u001b[1;31mTypeError\u001b[0m: can only concatenate str (not \"int\") to str"
     ]
    }
   ],
   "source": [
    "'2' + 2"
   ]
  },
  {
   "cell_type": "markdown",
   "id": "d3fe21fd",
   "metadata": {},
   "source": [
    "- última linha mostra o que aconteceu\n",
    "- exceções de diferentes tipos\n",
    "- stack traceback (situação de pilha de execução) -> contexto onde ocorreu a execução"
   ]
  },
  {
   "cell_type": "markdown",
   "id": "e6f0acab",
   "metadata": {},
   "source": [
    "### Tratamento de excessões\n",
    "\n",
    "É possível escrever programas que tratam exceções específicas. Observe o exemplo seguinte, que pede dados ao usuário até que um inteiro válido seja fornecido, ainda permitindo que o programa seja interrompido (utilizando Control-C ou seja lá o que for que o sistema operacional suporte); note que uma interrupção gerada pelo usuário será sinalizada pela exceção KeyboardInterrupt"
   ]
  },
  {
   "cell_type": "markdown",
   "id": "095c5fd7",
   "metadata": {},
   "source": [
    "**try e except**"
   ]
  },
  {
   "cell_type": "code",
   "execution_count": 59,
   "id": "76a822c6",
   "metadata": {},
   "outputs": [
    {
     "name": "stdout",
     "output_type": "stream",
     "text": [
      "Digite um número :a\n"
     ]
    },
    {
     "ename": "ValueError",
     "evalue": "invalid literal for int() with base 10: 'a'",
     "output_type": "error",
     "traceback": [
      "\u001b[1;31m---------------------------------------------------------------------------\u001b[0m",
      "\u001b[1;31mValueError\u001b[0m                                Traceback (most recent call last)",
      "Cell \u001b[1;32mIn[59], line 1\u001b[0m\n\u001b[1;32m----> 1\u001b[0m x \u001b[38;5;241m=\u001b[39m \u001b[38;5;28;43mint\u001b[39;49m\u001b[43m(\u001b[49m\u001b[38;5;28;43minput\u001b[39;49m\u001b[43m(\u001b[49m\u001b[38;5;124;43m'\u001b[39;49m\u001b[38;5;124;43mDigite um número :\u001b[39;49m\u001b[38;5;124;43m'\u001b[39;49m\u001b[43m)\u001b[49m\u001b[43m)\u001b[49m\n",
      "\u001b[1;31mValueError\u001b[0m: invalid literal for int() with base 10: 'a'"
     ]
    }
   ],
   "source": [
    "x = int(input('Digite um número :'))"
   ]
  },
  {
   "cell_type": "code",
   "execution_count": 60,
   "id": "cbf9abbb",
   "metadata": {},
   "outputs": [
    {
     "name": "stdout",
     "output_type": "stream",
     "text": [
      "Digite um número :a\n",
      "Não é um número inteiro, por favor digite um número inteiro\n"
     ]
    }
   ],
   "source": [
    "try:\n",
    "    x = int(input('Digite um número :'))\n",
    "except ValueError:\n",
    "    print('Não é um número inteiro, por favor digite um número inteiro')\n",
    "    "
   ]
  },
  {
   "cell_type": "code",
   "execution_count": 63,
   "id": "db97c8ab",
   "metadata": {},
   "outputs": [
    {
     "name": "stdout",
     "output_type": "stream",
     "text": [
      "Digite um número :a\n",
      "Não é um número inteiro, por favor digite um número inteiro\n",
      "Digite um número :b\n",
      "Não é um número inteiro, por favor digite um número inteiro\n",
      "Digite um número :4.5\n",
      "Não é um número inteiro, por favor digite um número inteiro\n",
      "Digite um número :6\n"
     ]
    }
   ],
   "source": [
    "while True:\n",
    "    try:\n",
    "        x = int(input('Digite um número :'))\n",
    "        break\n",
    "    except ValueError:\n",
    "        print('Não é um número inteiro, por favor digite um número inteiro')"
   ]
  },
  {
   "cell_type": "code",
   "execution_count": 64,
   "id": "2c0a03a1",
   "metadata": {},
   "outputs": [],
   "source": [
    "def divisao(a,b):\n",
    "    try:\n",
    "        return a/b\n",
    "    except ZeroDivisionError:\n",
    "        return print('Não existe divisão por zero')"
   ]
  },
  {
   "cell_type": "code",
   "execution_count": 65,
   "id": "0c8b55bc",
   "metadata": {},
   "outputs": [
    {
     "name": "stdout",
     "output_type": "stream",
     "text": [
      "Não existe divisão por zero\n"
     ]
    }
   ],
   "source": [
    "divisao(2,0)"
   ]
  },
  {
   "cell_type": "code",
   "execution_count": 66,
   "id": "714f0e6e",
   "metadata": {},
   "outputs": [],
   "source": [
    "def divisao(a,b):\n",
    "    try:\n",
    "        return a/b\n",
    "    except: # CUIDADO: não especifiquei o tipo de erro\n",
    "        return print('Não existe divisão por zero')"
   ]
  },
  {
   "cell_type": "code",
   "execution_count": 67,
   "id": "ae1f0b49",
   "metadata": {},
   "outputs": [
    {
     "name": "stdout",
     "output_type": "stream",
     "text": [
      "Não existe divisão por zero\n"
     ]
    }
   ],
   "source": [
    "divisao(2,0)"
   ]
  },
  {
   "cell_type": "code",
   "execution_count": 68,
   "id": "639ac362",
   "metadata": {},
   "outputs": [
    {
     "name": "stdout",
     "output_type": "stream",
     "text": [
      "Não existe divisão por zero\n"
     ]
    }
   ],
   "source": [
    "divisao(\"2\",0)"
   ]
  },
  {
   "cell_type": "code",
   "execution_count": 69,
   "id": "6ece0af6",
   "metadata": {},
   "outputs": [],
   "source": [
    "def divisao(a,b):\n",
    "    try:\n",
    "        return a/b\n",
    "    except ZeroDivisionError:\n",
    "        return print('Não existe divisão por zero')"
   ]
  },
  {
   "cell_type": "code",
   "execution_count": 70,
   "id": "dcef1745",
   "metadata": {},
   "outputs": [
    {
     "ename": "TypeError",
     "evalue": "unsupported operand type(s) for /: 'str' and 'int'",
     "output_type": "error",
     "traceback": [
      "\u001b[1;31m---------------------------------------------------------------------------\u001b[0m",
      "\u001b[1;31mTypeError\u001b[0m                                 Traceback (most recent call last)",
      "Cell \u001b[1;32mIn[70], line 1\u001b[0m\n\u001b[1;32m----> 1\u001b[0m \u001b[43mdivisao\u001b[49m\u001b[43m(\u001b[49m\u001b[38;5;124;43m'\u001b[39;49m\u001b[38;5;124;43m2\u001b[39;49m\u001b[38;5;124;43m'\u001b[39;49m\u001b[43m,\u001b[49m\u001b[38;5;241;43m1\u001b[39;49m\u001b[43m)\u001b[49m\n",
      "Cell \u001b[1;32mIn[69], line 3\u001b[0m, in \u001b[0;36mdivisao\u001b[1;34m(a, b)\u001b[0m\n\u001b[0;32m      1\u001b[0m \u001b[38;5;28;01mdef\u001b[39;00m \u001b[38;5;21mdivisao\u001b[39m(a,b):\n\u001b[0;32m      2\u001b[0m     \u001b[38;5;28;01mtry\u001b[39;00m:\n\u001b[1;32m----> 3\u001b[0m         \u001b[38;5;28;01mreturn\u001b[39;00m \u001b[43ma\u001b[49m\u001b[38;5;241;43m/\u001b[39;49m\u001b[43mb\u001b[49m\n\u001b[0;32m      4\u001b[0m     \u001b[38;5;28;01mexcept\u001b[39;00m \u001b[38;5;167;01mZeroDivisionError\u001b[39;00m:\n\u001b[0;32m      5\u001b[0m         \u001b[38;5;28;01mreturn\u001b[39;00m \u001b[38;5;28mprint\u001b[39m(\u001b[38;5;124m'\u001b[39m\u001b[38;5;124mNão existe divisão por zero\u001b[39m\u001b[38;5;124m'\u001b[39m)\n",
      "\u001b[1;31mTypeError\u001b[0m: unsupported operand type(s) for /: 'str' and 'int'"
     ]
    }
   ],
   "source": [
    "divisao('2',1)"
   ]
  },
  {
   "cell_type": "markdown",
   "id": "81699ae3",
   "metadata": {},
   "source": [
    "https://docs.python.org/3/tutorial/errors.html"
   ]
  },
  {
   "cell_type": "code",
   "execution_count": null,
   "id": "5c0f26a2",
   "metadata": {},
   "outputs": [],
   "source": []
  }
 ],
 "metadata": {
  "kernelspec": {
   "display_name": "Python 3 (ipykernel)",
   "language": "python",
   "name": "python3"
  },
  "language_info": {
   "codemirror_mode": {
    "name": "ipython",
    "version": 3
   },
   "file_extension": ".py",
   "mimetype": "text/x-python",
   "name": "python",
   "nbconvert_exporter": "python",
   "pygments_lexer": "ipython3",
   "version": "3.10.9"
  }
 },
 "nbformat": 4,
 "nbformat_minor": 5
}
