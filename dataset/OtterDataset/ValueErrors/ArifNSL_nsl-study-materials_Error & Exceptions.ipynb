{
 "cells": [
  {
   "cell_type": "markdown",
   "id": "66c8d339",
   "metadata": {},
   "source": [
    "# Exceptions\n"
   ]
  },
  {
   "cell_type": "code",
   "execution_count": 1,
   "id": "1f74bd1d",
   "metadata": {},
   "outputs": [
    {
     "name": "stdout",
     "output_type": "stream",
     "text": [
      "3\n",
      "1 0\n",
      "Error Code: integer division or modulo by zero\n",
      "2 $\n",
      "Error Code: invalid literal for int() with base 10: '$'\n",
      "3 1\n",
      "3\n"
     ]
    }
   ],
   "source": [
    "for i in range(int(input())):\n",
    "    try:\n",
    "        a,b=map(int,input().split())   \n",
    "        print(a//b)\n",
    "    \n",
    "    except ZeroDivisionError as e:\n",
    "        print(\"Error Code: integer division or modulo by zero\")\n",
    "    except ValueError as e:\n",
    "        print(f\"Error Code: {e}\")"
   ]
  },
  {
   "cell_type": "markdown",
   "id": "74bf2eef",
   "metadata": {},
   "source": [
    "# Incorrect Regex"
   ]
  },
  {
   "cell_type": "code",
   "execution_count": 2,
   "id": "6b6809b2",
   "metadata": {},
   "outputs": [
    {
     "name": "stdout",
     "output_type": "stream",
     "text": [
      "2\n",
      ".*\\+\n",
      "True\n",
      ".*+\n",
      "False\n"
     ]
    }
   ],
   "source": [
    "import re\n",
    "\n",
    "for i in range(int(input())):\n",
    "    try:\n",
    "        re.compile(input())\n",
    "        print(True)\n",
    "    except re.error:\n",
    "        print(False)"
   ]
  }
 ],
 "metadata": {
  "kernelspec": {
   "display_name": "tenv",
   "language": "python",
   "name": "tenv"
  },
  "language_info": {
   "codemirror_mode": {
    "name": "ipython",
    "version": 3
   },
   "file_extension": ".py",
   "mimetype": "text/x-python",
   "name": "python",
   "nbconvert_exporter": "python",
   "pygments_lexer": "ipython3",
   "version": "3.9.12"
  }
 },
 "nbformat": 4,
 "nbformat_minor": 5
}
