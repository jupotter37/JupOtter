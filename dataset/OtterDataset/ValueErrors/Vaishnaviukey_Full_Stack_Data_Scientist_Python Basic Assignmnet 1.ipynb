{
 "cells": [
  {
   "cell_type": "markdown",
   "id": "f5c995be-fb4a-495e-8168-37396a796469",
   "metadata": {},
   "source": [
    "# 1.  If-Else Statements"
   ]
  },
  {
   "cell_type": "markdown",
   "id": "5b31c738-32a7-4c32-9ab8-c41ac1dbdc91",
   "metadata": {},
   "source": [
    "## Question 1:\n",
    "Write a program that takes an integer input from the user and prints \n",
    "whether the number is positive, negative, or zero.\r"
   ]
  },
  {
   "cell_type": "code",
   "execution_count": 97,
   "id": "dc4ede56-474a-461e-9bd8-1d447636fcef",
   "metadata": {},
   "outputs": [
    {
     "name": "stdin",
     "output_type": "stream",
     "text": [
      "Enter Number:  6\n"
     ]
    },
    {
     "name": "stdout",
     "output_type": "stream",
     "text": [
      "6 is Positive.\n"
     ]
    }
   ],
   "source": [
    "num = int(input(\"Enter Number: \"))\n",
    "if num > 0:\n",
    "    print(num,\"is Positive.\")\n",
    "elif num < 0:\n",
    "    print(num, \"is Negative.\")\n",
    "else:\n",
    "    print(num, \"is Zero.\")"
   ]
  },
  {
   "cell_type": "code",
   "execution_count": 102,
   "id": "1b920ef3-1bf2-44c7-91bd-dbe2336e430e",
   "metadata": {},
   "outputs": [
    {
     "name": "stdin",
     "output_type": "stream",
     "text": [
      "Enter Number:  l\n"
     ]
    },
    {
     "name": "stdout",
     "output_type": "stream",
     "text": [
      "invalid literal for int() with base 10: 'l'\n"
     ]
    }
   ],
   "source": [
    "try:\n",
    "    num = int(input(\"Enter Number: \"))\n",
    "    if num > 0:\n",
    "        print(num,\"is Positive.\")\n",
    "    elif num < 0:\n",
    "        print(num, \"is Negative.\")\n",
    "    else:\n",
    "        print(num, \"is Zero.\")\n",
    "        \n",
    "except ValueError as e:\n",
    "    print(\"Error occured. \",e)"
   ]
  },
  {
   "cell_type": "markdown",
   "id": "ed6a1451-1346-4959-8b38-cbc1ad647443",
   "metadata": {},
   "source": [
    "## Question 2 \n",
    "Write a program that checks if a given year is a leap year. A leap year is\n",
    "divisible by 4, but not by 100, unless it is also divisible by 400.\n"
   ]
  },
  {
   "cell_type": "code",
   "execution_count": 6,
   "id": "c073bd8e-e1cd-40fc-bd7c-1b1e2867dc3e",
   "metadata": {},
   "outputs": [],
   "source": [
    "def is_leap_year(year):\n",
    "    if year%4 == 0:\n",
    "        if year%100 != 0:\n",
    "            if year%400 != 0:\n",
    "                print(\"Leap year\")\n",
    "        \n",
    "    else:\n",
    "        print(\"Not Leap Year\")"
   ]
  },
  {
   "cell_type": "code",
   "execution_count": 7,
   "id": "2c94f7f0-eb28-43b0-86a3-abf0b9d8146a",
   "metadata": {},
   "outputs": [
    {
     "name": "stdout",
     "output_type": "stream",
     "text": [
      "Not Leap Year\n"
     ]
    }
   ],
   "source": [
    "is_leap_year(2003)"
   ]
  },
  {
   "cell_type": "code",
   "execution_count": 8,
   "id": "6112adc3-d6da-4202-8b01-0b19bea6ae45",
   "metadata": {},
   "outputs": [
    {
     "name": "stdout",
     "output_type": "stream",
     "text": [
      "Leap year\n"
     ]
    }
   ],
   "source": [
    "is_leap_year(2016)"
   ]
  },
  {
   "cell_type": "markdown",
   "id": "71a56989-21af-4542-b633-27b1ea88c54f",
   "metadata": {},
   "source": [
    "## 2.  For Loops\n"
   ]
  },
  {
   "cell_type": "markdown",
   "id": "c208ec3a-72fd-4967-9f3e-521693a321cf",
   "metadata": {},
   "source": [
    "### Question 3:\n",
    "Write a program that prints the first 10 natural numbers using a for loop.\n"
   ]
  },
  {
   "cell_type": "code",
   "execution_count": 107,
   "id": "46c711c0-6927-48cb-b9b7-72860d508cc3",
   "metadata": {},
   "outputs": [
    {
     "name": "stdout",
     "output_type": "stream",
     "text": [
      "0\n",
      "1\n",
      "2\n",
      "3\n",
      "4\n",
      "5\n",
      "6\n",
      "7\n",
      "8\n",
      "9\n"
     ]
    }
   ],
   "source": [
    "for i in range(10):\n",
    "    print(i)"
   ]
  },
  {
   "cell_type": "markdown",
   "id": "93da45b2-038a-440f-82f9-cb1e89fcd299",
   "metadata": {},
   "source": [
    "### Question 4:\n",
    "Write a program that calculates and prints the sum of all even numbers from 1 to 50.\n"
   ]
  },
  {
   "cell_type": "code",
   "execution_count": 15,
   "id": "cade755e-d529-4491-aa62-3d16958af332",
   "metadata": {},
   "outputs": [
    {
     "name": "stdout",
     "output_type": "stream",
     "text": [
      "600\n"
     ]
    }
   ],
   "source": [
    "sum = 0\n",
    "for i in range(50):\n",
    "    if i%2==0:\n",
    "        sum += i \n",
    "print(sum)"
   ]
  },
  {
   "cell_type": "markdown",
   "id": "6dee1aaf-4f71-4d41-bd35-cbf629aabc19",
   "metadata": {},
   "source": [
    "### Question 5:\n",
    "Write a program that takes a list of integers and prints each number in the list that is greater than 10.\n"
   ]
  },
  {
   "cell_type": "code",
   "execution_count": 39,
   "id": "fde4832c-9ff7-4995-83b9-404c3bb5f32a",
   "metadata": {},
   "outputs": [
    {
     "name": "stdout",
     "output_type": "stream",
     "text": [
      "[20, 30]\n"
     ]
    }
   ],
   "source": [
    "l = [1,2,3,10,20,30]\n",
    "k = []\n",
    "for i in l:\n",
    "    if i > 10:\n",
    "        k.append(i)\n",
    "print(k)"
   ]
  },
  {
   "cell_type": "markdown",
   "id": "ab784130-0665-444a-abc5-f3b0ebe187ac",
   "metadata": {},
   "source": [
    "## Question 6: \n",
    "Write a program that takes an integer input from the user and prints the multiplication table for that number up to 10.\n"
   ]
  },
  {
   "cell_type": "code",
   "execution_count": 43,
   "id": "18a0faf2-e5f9-4c37-9772-fcde3c0b6968",
   "metadata": {},
   "outputs": [
    {
     "name": "stdin",
     "output_type": "stream",
     "text": [
      "Write number:  2\n"
     ]
    },
    {
     "name": "stdout",
     "output_type": "stream",
     "text": [
      "2\n",
      "4\n",
      "6\n",
      "8\n",
      "10\n",
      "12\n",
      "14\n",
      "16\n",
      "18\n",
      "20\n"
     ]
    }
   ],
   "source": [
    "num = int(input(\"Write number: \"))\n",
    "for i in range(1,11):\n",
    "    print(i*num)"
   ]
  },
  {
   "cell_type": "markdown",
   "id": "c4471caf-2302-4c84-84f2-752a45f826df",
   "metadata": {},
   "source": [
    "# 3.  While Loops"
   ]
  },
  {
   "cell_type": "markdown",
   "id": "7e38eae5-2160-4089-a32d-ff34d5e3738c",
   "metadata": {},
   "source": [
    "## Question 7:\n",
    "Write a program that prints the numbers from 1 to 5 using a while loop.\n"
   ]
  },
  {
   "cell_type": "code",
   "execution_count": 1,
   "id": "5e573329-e8de-48cf-8d62-60b79d15ef36",
   "metadata": {},
   "outputs": [
    {
     "name": "stdout",
     "output_type": "stream",
     "text": [
      "1\n",
      "2\n",
      "3\n",
      "4\n",
      "5\n"
     ]
    }
   ],
   "source": [
    "n = 0\n",
    "while n <= 4:\n",
    "    n+=1\n",
    "    print(n)"
   ]
  },
  {
   "cell_type": "markdown",
   "id": "4375893e-7f28-4342-829a-cd63193a6a59",
   "metadata": {},
   "source": [
    "## Question 8:\n",
    "Write a program that takes an integer input from the user and prints the factorial of that number using a while loop.\n"
   ]
  },
  {
   "cell_type": "code",
   "execution_count": 5,
   "id": "af49da37-38ba-43ff-b345-adf8a68f29e2",
   "metadata": {},
   "outputs": [
    {
     "name": "stdin",
     "output_type": "stream",
     "text": [
      "Enter number:  5\n"
     ]
    },
    {
     "name": "stdout",
     "output_type": "stream",
     "text": [
      "5\n",
      "20\n",
      "60\n",
      "120\n",
      "120\n"
     ]
    }
   ],
   "source": [
    "n = int(input(\"Enter number: \"))\n",
    "fact = 1\n",
    "while n > 0:\n",
    "    fact *= n\n",
    "    n -= 1\n",
    "    print(fact)"
   ]
  },
  {
   "cell_type": "markdown",
   "id": "babc7452-567e-4c64-888f-fe113443e9c0",
   "metadata": {},
   "source": [
    "## Question 9:\n",
    "Write a program that takes a list of integers and calculates the sum of all \n",
    "elements using a while loop.\n"
   ]
  },
  {
   "cell_type": "code",
   "execution_count": 7,
   "id": "ee403c2c-d68c-45a2-bbbd-80e4e776b933",
   "metadata": {},
   "outputs": [
    {
     "name": "stdout",
     "output_type": "stream",
     "text": [
      "Sum of element in list is:  100\n"
     ]
    }
   ],
   "source": [
    "l = [10,20,30,40]\n",
    "index = 0\n",
    "sum = 0\n",
    "while index < len(l):\n",
    "    sum += l[index]\n",
    "    index+=1\n",
    "print(\"Sum of element in list is: \",sum)"
   ]
  },
  {
   "cell_type": "markdown",
   "id": "ac28f7f5-13ce-497a-8c8d-87eb38e5130d",
   "metadata": {},
   "source": [
    "# 4.  Combining Loops and Conditional Statements"
   ]
  },
  {
   "cell_type": "markdown",
   "id": "e5c37445-38f7-4e45-be6d-b2ab6c7b68df",
   "metadata": {},
   "source": [
    "## Question 10:\n",
    "Write a program that prints all the numbers from 1 to 20. For multiples of 3, print \"Fizz\" instead of the number, and for multiples of 5, print \"Buzz\". For numbers that are multiples of both 3 and 5, print \"FizzBuzz\"."
   ]
  },
  {
   "cell_type": "code",
   "execution_count": 23,
   "id": "b2580b5c-5fc0-4961-95b5-6a90ac19a93c",
   "metadata": {},
   "outputs": [
    {
     "name": "stdout",
     "output_type": "stream",
     "text": [
      "1  = --\n",
      "2  = --\n",
      "3  = Fizz\n",
      "4  = --\n",
      "5  = Buzz\n",
      "6  = Fizz\n",
      "7  = --\n",
      "8  = --\n",
      "9  = Fizz\n",
      "10  = Buzz\n",
      "11  = --\n",
      "12  = Fizz\n",
      "13  = --\n",
      "14  = --\n",
      "15  = FizzBuzz\n",
      "16  = --\n",
      "17  = --\n",
      "18  = Fizz\n",
      "19  = --\n",
      "20  = Buzz\n"
     ]
    }
   ],
   "source": [
    "for i in range(1,21):\n",
    "    if i%3==0 and i%5==0:\n",
    "        print(i,\" = FizzBuzz\")\n",
    "    elif i%5 == 0:\n",
    "        print(i,\" = Buzz\")\n",
    "    elif i%3==0:\n",
    "        print(i,\" = Fizz\")\n",
    "    else:\n",
    "        print(i,\" = --\")"
   ]
  },
  {
   "cell_type": "code",
   "execution_count": null,
   "id": "cd420c6f-1167-4b46-9acc-8a565c612d37",
   "metadata": {},
   "outputs": [],
   "source": []
  }
 ],
 "metadata": {
  "kernelspec": {
   "display_name": "Python 3 (ipykernel)",
   "language": "python",
   "name": "python3"
  },
  "language_info": {
   "codemirror_mode": {
    "name": "ipython",
    "version": 3
   },
   "file_extension": ".py",
   "mimetype": "text/x-python",
   "name": "python",
   "nbconvert_exporter": "python",
   "pygments_lexer": "ipython3",
   "version": "3.11.7"
  }
 },
 "nbformat": 4,
 "nbformat_minor": 5
}
