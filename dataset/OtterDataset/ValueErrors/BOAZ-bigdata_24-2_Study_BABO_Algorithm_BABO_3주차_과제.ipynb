{
 "cells": [
  {
   "cell_type": "markdown",
   "metadata": {},
   "source": [
    "#### 스택 : 선입후출 / 후입선출"
   ]
  },
  {
   "cell_type": "code",
   "execution_count": 3,
   "metadata": {},
   "outputs": [
    {
     "name": "stdout",
     "output_type": "stream",
     "text": [
      "[5, 6, 1]\n",
      "[1, 6, 5]\n"
     ]
    }
   ],
   "source": [
    "# 스택 예제\n",
    "\n",
    "stack = []\n",
    "\n",
    "stack.append(5)\n",
    "stack.append(6)\n",
    "stack.append(7)\n",
    "stack.pop()\n",
    "stack.append(1)\n",
    "stack.append(2)\n",
    "stack.pop()\n",
    "\n",
    "print(stack)\n",
    "print(stack[::-1])"
   ]
  },
  {
   "cell_type": "markdown",
   "metadata": {},
   "source": [
    "#### 큐 : 선입선출(놀이공원 입장할 때, 먼저 온 사람이 먼저 들어가고 나중에 온 사람일수록 나중에 들어간다)"
   ]
  },
  {
   "cell_type": "code",
   "execution_count": 4,
   "metadata": {},
   "outputs": [
    {
     "name": "stdout",
     "output_type": "stream",
     "text": [
      "deque([3, 1, 4])\n"
     ]
    }
   ],
   "source": [
    "# 큐 예제\n",
    "from collections import deque\n",
    "\n",
    "queue = deque()\n",
    "\n",
    "queue.append(5)\n",
    "queue.append(2)\n",
    "queue.append(3)\n",
    "queue.popleft()\n",
    "queue.append(1)\n",
    "queue.append(4)\n",
    "queue.popleft()\n",
    "\n",
    "print(queue)"
   ]
  },
  {
   "cell_type": "code",
   "execution_count": 5,
   "metadata": {},
   "outputs": [
    {
     "name": "stdout",
     "output_type": "stream",
     "text": [
      "deque([4, 1, 3])\n"
     ]
    }
   ],
   "source": [
    "queue.reverse() # 다음 출력을 위해 역순으로 바꾸기\n",
    "print(queue)"
   ]
  },
  {
   "cell_type": "markdown",
   "metadata": {},
   "source": [
    "#### 재귀 함수 : 자기 자신을 다시 호출하는 함수"
   ]
  },
  {
   "cell_type": "code",
   "execution_count": 6,
   "metadata": {},
   "outputs": [],
   "source": [
    "def recursive_function():\n",
    "    print(\"재귀 함수를 호출합니다.\")\n",
    "    recursive_function()"
   ]
  },
  {
   "cell_type": "code",
   "execution_count": null,
   "metadata": {},
   "outputs": [],
   "source": [
    "def recursive_function(i):\n",
    "    # 100번째 출력했을 때 종료되도록 종료 조건 명시\n",
    "    if i == 100:\n",
    "        return"
   ]
  },
  {
   "cell_type": "code",
   "execution_count": null,
   "metadata": {},
   "outputs": [],
   "source": [
    "# 재귀 함수를 이용하는 대표적인 예제 : 팩토리얼 문제\n",
    "\n",
    "# 1) 반복적으로 구현한 n!\n",
    "def factorial_iterative(n):\n",
    "    result = 1\n",
    "    # 1부터 n까지의 수를 차례대로 곱하기\n",
    "    for i in range(1,n+1):\n",
    "        result *= i\n",
    "    return result\n",
    "\n",
    "# 2) 재귀적으로 표현한 n!\n",
    "def factorial_recursive(n):\n",
    "    if n <= 1:\n",
    "        return 1\n",
    "    \n",
    "    # n! = n * (n-1)! 를 그대로 코드로 작성하기\n",
    "    # n이 1보다 클 때 : factorial(n) = n * factorial(n-1) 수학적 점화식 표현 이용\n",
    "    return n * factorial_recursive(n-1)"
   ]
  },
  {
   "cell_type": "markdown",
   "metadata": {},
   "source": [
    "# 탐색 알고리즘"
   ]
  },
  {
   "cell_type": "markdown",
   "metadata": {},
   "source": [
    "## 1) DFS(Depth-First Search), 깊이 우선 탐색이라고도 부르며, 그래프에서 깊은 부분을 우선적으로 탐색하는 알고리즘\n",
    "#### 스택 자료구조에 기초한다는 점에서 구현이 간단\n",
    "#### 스택을 이용하는 알고리즘이기 때문에 실제 구현은 재귀 함수를 이용했을 때 매우 간결하게 구현할 수 있다"
   ]
  },
  {
   "cell_type": "code",
   "execution_count": 7,
   "metadata": {},
   "outputs": [
    {
     "name": "stdout",
     "output_type": "stream",
     "text": [
      "[[0, 7, 5], [7, 0, 999999999999], [5, 999999999999, 0]]\n"
     ]
    }
   ],
   "source": [
    "# 인접 행렬 방식\n",
    "INF = 999999999999\n",
    "\n",
    "# 2차원 리스트를 이용해 인접 행렬 표현\n",
    "graph = [\n",
    "    [0,7,5],\n",
    "    [7,0,INF],\n",
    "    [5,INF,0]\n",
    "]\n",
    "\n",
    "print(graph)"
   ]
  },
  {
   "cell_type": "code",
   "execution_count": 8,
   "metadata": {},
   "outputs": [
    {
     "name": "stdout",
     "output_type": "stream",
     "text": [
      "[[(1, 7), (2, 5)], [(0, 7)], [(0, 5)]]\n"
     ]
    }
   ],
   "source": [
    "# 인접 리스트 방식\n",
    "# 단순히 2차원 리스트를 이용하면 된다는 점만 기억하자\n",
    "# 행이 3개인 2차원 리스트로 인접 리스트 표현\n",
    "graph = [[] for _ in range(3)]\n",
    "\n",
    "# 노드 0에 연결된 노드 정보 저장(노드,거리)\n",
    "graph[0].append((1,7))\n",
    "graph[0].append((2,5))\n",
    "\n",
    "# 노드 1에 연결된 노드 정보 저장(노드,거리)\n",
    "graph[1].append((0,7))\n",
    "\n",
    "# 노드 2에 연결된 노드 정보 저장(노드,거리)\n",
    "graph[2].append((0,5))\n",
    "\n",
    "print(graph)\n"
   ]
  },
  {
   "cell_type": "code",
   "execution_count": 9,
   "metadata": {},
   "outputs": [
    {
     "name": "stdout",
     "output_type": "stream",
     "text": [
      "1 2 7 6 8 3 4 5 "
     ]
    }
   ],
   "source": [
    "# DFS 예제\n",
    "def dfs(graph,v,visited):\n",
    "    # 현재 노드를 방문 처리\n",
    "    visited[v] = True\n",
    "    print(v,end=' ')\n",
    "\n",
    "    # 현재 노드와 연결된 다른 노드를 재귀적으로 방문\n",
    "    for i in graph[v]:\n",
    "        if not visited[i]:\n",
    "            dfs(graph,i,visited)\n",
    "\n",
    "# 각 노드가 연결된 정보를 리스트 자료형으로 표현(2차원)\n",
    "graph = [\n",
    "    [],\n",
    "    [2,3,8],\n",
    "    [1,7],\n",
    "    [1,4,5],\n",
    "    [3,5],\n",
    "    [3,4],\n",
    "    [7],\n",
    "    [2,6,8],\n",
    "    [1,7]\n",
    "]\n",
    "\n",
    "# 각 노드가 방문한 정보를 리스트 자료형으로 표현(1차원)\n",
    "visitied = [False] * 9\n",
    "\n",
    "# 정의된 DFS 함수 호출\n",
    "dfs(graph,1,visitied)"
   ]
  },
  {
   "cell_type": "code",
   "execution_count": 11,
   "metadata": {},
   "outputs": [
    {
     "name": "stdout",
     "output_type": "stream",
     "text": [
      "['A', 'B', 'D', 'E', 'C', 'F', 'G']\n"
     ]
    }
   ],
   "source": [
    "# 다른 예제\n",
    "def dfs(graph,start_node):\n",
    "    to_visit,visitied = list(),list()\n",
    "    to_visit.append(start_node)\n",
    "\n",
    "    while to_visit:\n",
    "        node = to_visit.pop()\n",
    "\n",
    "        if node not in visitied:\n",
    "            visitied.append(node)\n",
    "            to_visit.extend(graph[node])\n",
    "\n",
    "    return visitied\n",
    "\n",
    "graph = {\n",
    "    'A' : ['C','B'],\n",
    "    'B' : ['E','D'],\n",
    "    'C' : ['G','F'],\n",
    "    'D' : [],\n",
    "    'E' : [],\n",
    "    'F' : [],\n",
    "    'G' : []\n",
    "}\n",
    "\n",
    "print(dfs(graph,'A'))"
   ]
  },
  {
   "cell_type": "markdown",
   "metadata": {},
   "source": [
    "## 2) BFS(Breadth First Search), 너비 우선 탐색, 가까운 노드부터 탐색하는 알고리즘"
   ]
  },
  {
   "cell_type": "markdown",
   "metadata": {},
   "source": [
    "#### 큐 자료구조에 기초한다는 점에서 구현이 간단하다\n",
    "#### deque 라이브러리를 사용하는 것이 좋다"
   ]
  },
  {
   "cell_type": "code",
   "execution_count": 12,
   "metadata": {},
   "outputs": [
    {
     "name": "stdout",
     "output_type": "stream",
     "text": [
      "1 2 3 8 7 4 5 6 "
     ]
    }
   ],
   "source": [
    "# BFS 예제\n",
    "from collections import deque\n",
    "\n",
    "def bfs(graph,start,visitied):\n",
    "    # 큐 구현을 위해 deque 라이브러리 사용\n",
    "    queue = deque([start])\n",
    "\n",
    "    # 현재 노드를 방문 처리\n",
    "    visitied[start] = True\n",
    "\n",
    "    # 큐가 빌 때까지 반복\n",
    "    while queue:\n",
    "        # 큐에서 하나의 원소를 뽑아 출력\n",
    "        v = queue.popleft()\n",
    "        print(v,end=' ')\n",
    "\n",
    "        # 해당 원소와 연결된, 아직 방문하지 않은 원소들을 큐에 삽입\n",
    "        for i in graph[v]:\n",
    "            if not visitied[i]:\n",
    "                queue.append(i)\n",
    "                visitied[i] = True\n",
    "\n",
    "# 각 노드가 연결된 정보를 리스트 자료형으로 표현(2차원)\n",
    "graph = [\n",
    "    [],\n",
    "    [2,3,8],\n",
    "    [1,7],\n",
    "    [1,4,5],\n",
    "    [3,5],\n",
    "    [3,4],\n",
    "    [7],\n",
    "    [2,6,8],\n",
    "    [1,7]\n",
    "]\n",
    "\n",
    "# 각 노드가 방문한 정보를 리스트 자료형으로 표현(1차원)\n",
    "visitied = [False] * 9\n",
    "\n",
    "# 정의된 DFS 함수 호출\n",
    "bfs(graph,1,visitied)"
   ]
  },
  {
   "cell_type": "code",
   "execution_count": 13,
   "metadata": {},
   "outputs": [
    {
     "name": "stdout",
     "output_type": "stream",
     "text": [
      "['A', 'C', 'B', 'G', 'F', 'E', 'D']\n"
     ]
    }
   ],
   "source": [
    "# 다른 예제\n",
    "from collections import deque\n",
    "\n",
    "def bfs(graph,start_node):\n",
    "    to_visit,visitied = deque(),[]\n",
    "    to_visit.append(start_node)\n",
    "\n",
    "    while to_visit:\n",
    "        node = to_visit.popleft()\n",
    "\n",
    "        if node not in visitied:\n",
    "            visitied.append(node)\n",
    "            to_visit.extend(graph[node])\n",
    "\n",
    "    return visitied\n",
    "\n",
    "graph = {\n",
    "    'A' : ['C','B'],\n",
    "    'B' : ['E','D'],\n",
    "    'C' : ['G','F'],\n",
    "    'D' : [],\n",
    "    'E' : [],\n",
    "    'F' : [],\n",
    "    'G' : []\n",
    "}\n",
    "\n",
    "print(bfs(graph,'A'))"
   ]
  },
  {
   "cell_type": "markdown",
   "metadata": {},
   "source": [
    "### 예제 1) 음료수 얼려 먹기"
   ]
  },
  {
   "cell_type": "markdown",
   "metadata": {},
   "source": [
    "#### 1. 특정한 지점의 주변 상,하,좌,우를 살펴본 뒤에 주변 지점 중에서 값이 0이면서 아직 방문하지 않은 지점이 있다면 해당 지점을 방문\n",
    "#### 2. 방문한 지점에서 다시 상,하,좌,우 살펴보면서 방문을 다시 진행"
   ]
  },
  {
   "cell_type": "code",
   "execution_count": 16,
   "metadata": {},
   "outputs": [
    {
     "ename": "ValueError",
     "evalue": "invalid literal for int() with base 10: ' '",
     "output_type": "error",
     "traceback": [
      "\u001b[1;31m---------------------------------------------------------------------------\u001b[0m",
      "\u001b[1;31mValueError\u001b[0m                                Traceback (most recent call last)",
      "Cell \u001b[1;32mIn[16], line 7\u001b[0m\n\u001b[0;32m      5\u001b[0m graph \u001b[38;5;241m=\u001b[39m []\n\u001b[0;32m      6\u001b[0m \u001b[38;5;28;01mfor\u001b[39;00m i \u001b[38;5;129;01min\u001b[39;00m \u001b[38;5;28mrange\u001b[39m(n):\n\u001b[1;32m----> 7\u001b[0m     graph\u001b[38;5;241m.\u001b[39mappend(\u001b[38;5;28;43mlist\u001b[39;49m\u001b[43m(\u001b[49m\u001b[38;5;28;43mmap\u001b[39;49m\u001b[43m(\u001b[49m\u001b[38;5;28;43mint\u001b[39;49m\u001b[43m,\u001b[49m\u001b[38;5;28;43minput\u001b[39;49m\u001b[43m(\u001b[49m\u001b[43m)\u001b[49m\u001b[43m)\u001b[49m\u001b[43m)\u001b[49m)\n\u001b[0;32m      9\u001b[0m \u001b[38;5;66;03m# DFS로 특정한 노드를 방문한 뒤에 연결된 모든 노드들도 방문\u001b[39;00m\n\u001b[0;32m     10\u001b[0m \u001b[38;5;28;01mdef\u001b[39;00m \u001b[38;5;21mdfs\u001b[39m(x,y):\n\u001b[0;32m     11\u001b[0m \n\u001b[0;32m     12\u001b[0m     \u001b[38;5;66;03m# 주어진 범위를 벗어나는 경우에는 즉시 종료\u001b[39;00m\n",
      "\u001b[1;31mValueError\u001b[0m: invalid literal for int() with base 10: ' '"
     ]
    }
   ],
   "source": [
    "# N,M을 공백으로 구분하여 입력받기\n",
    "n,m = map(int,input().split())\n",
    "\n",
    "# 2차원 리스트의 맵 정보 입력받기\n",
    "graph = []\n",
    "for i in range(n):\n",
    "    graph.append(list(map(int,input())))\n",
    "\n",
    "# DFS로 특정한 노드를 방문한 뒤에 연결된 모든 노드들도 방문\n",
    "def dfs(x,y):\n",
    "\n",
    "    # 주어진 범위를 벗어나는 경우에는 즉시 종료\n",
    "    if x <= -1 or x >= n or y <= -1 or y >= m:\n",
    "        return False\n",
    "    \n",
    "    # 현재 노드를 아직 방문하지 않았다면\n",
    "    if graph[x][y] == 0:\n",
    "        # 해당 노드 방문 처리\n",
    "        graph[x][y] = 1\n",
    "\n",
    "        # 상,하,좌,우의 위치도 모두 재귀적으로 호출: (1,1)을 기준으로\n",
    "        dfs(x-1,y) # 좌\n",
    "        dfs(x,y-1) # 하\n",
    "        dfs(x+1,y) # 우\n",
    "        dfs(x,y+1) # 상\n",
    "        return True\n",
    "    \n",
    "    return False\n",
    "\n",
    "# 모든 노드(위치)에 대하여 음료수 채우기\n",
    "result = 0\n",
    "for i in range(n):\n",
    "    for j in range(m):\n",
    "\n",
    "        # 현재 위치에서 DFS 수행\n",
    "        if dfs(i,j) == True:\n",
    "            result += 1\n",
    "\n",
    "# 정답 출력\n",
    "print(result)"
   ]
  },
  {
   "cell_type": "markdown",
   "metadata": {},
   "source": [
    "### 과제 1) DFS와 BFS - 백준 1260"
   ]
  },
  {
   "cell_type": "code",
   "execution_count": 22,
   "metadata": {},
   "outputs": [
    {
     "name": "stdout",
     "output_type": "stream",
     "text": [
      "1 2 4 3 \n",
      "1 2 3 4 "
     ]
    }
   ],
   "source": [
    "from collections import deque\n",
    "\n",
    "# 정점(노드 수), 간선수, 시작점을 입력받음\n",
    "n,m,v = map(int,input().split())\n",
    "\n",
    "# 초기값을 False로 만들어 그래프 선언\n",
    "graph = [[False] * (n+1) for _ in range(n+1)]\n",
    "\n",
    "# 연결된 정점을 입력\n",
    "for i in range(m):\n",
    "    x,y = map(int,input().split())\n",
    "    graph[x][y] = 1\n",
    "    graph[y][x] = 1\n",
    "\n",
    "# dfs와 bfs 그래프의 방문 여부를 담을 리스트\n",
    "visitied1 = [False] * (n+1)\n",
    "visitied2 = [False] * (n+1)\n",
    "\n",
    "# dfs\n",
    "def dfs(v):\n",
    "    # 방문처리\n",
    "    visitied1[v] = True\n",
    "    # 방문 후, 정점 출력\n",
    "    print(v,end=' ')\n",
    "    # 방문 기록이 없고, 인덱스에 값이 있다면(연결되어있다면)\n",
    "    for i in range(1,n+1):\n",
    "        if not visitied1[i] and graph[v][i] == 1:\n",
    "            dfs(i)\n",
    "\n",
    "# bfs\n",
    "def bfs(v):\n",
    "    # 방문할 곳을 순서대로 넣을 큐\n",
    "    q = deque([v])\n",
    "    visitied2[v] = True\n",
    "    # 큐 안에 데이터가 없을 때 까지 실행\n",
    "    while q:\n",
    "        v = q.popleft()\n",
    "        print(v,end=' ')\n",
    "\n",
    "        for i in range(1,n+1):\n",
    "            if not visitied2[i] and graph[v][i] == 1:\n",
    "                q.append(i)\n",
    "                visitied2[i] = True\n",
    "\n",
    "dfs(v)\n",
    "print()\n",
    "bfs(v)"
   ]
  },
  {
   "cell_type": "code",
   "execution_count": 3,
   "metadata": {},
   "outputs": [
    {
     "name": "stdout",
     "output_type": "stream",
     "text": [
      "[[False, False, False, False, False], [False, False, False, False, False], [False, False, False, False, False], [False, False, False, False, False], [False, False, False, False, False]]\n",
      "[[False, False, False, False, False], [False, False, 1, False, False], [False, 1, False, False, False], [False, False, False, False, False], [False, False, False, False, False]]\n",
      "[[False, False, False, False, False], [False, False, 1, 1, False], [False, 1, False, False, False], [False, 1, False, False, False], [False, False, False, False, False]]\n",
      "[[False, False, False, False, False], [False, False, 1, 1, 1], [False, 1, False, False, False], [False, 1, False, False, False], [False, 1, False, False, False]]\n",
      "[[False, False, False, False, False], [False, False, 1, 1, 1], [False, 1, False, False, 1], [False, 1, False, False, False], [False, 1, 1, False, False]]\n",
      "[[False, False, False, False, False], [False, False, 1, 1, 1], [False, 1, False, False, 1], [False, 1, False, False, 1], [False, 1, 1, 1, False]]\n"
     ]
    }
   ],
   "source": [
    "from collections import deque\n",
    "\n",
    "# 정점(노드 수), 간선수, 시작점을 입력받음\n",
    "n,m,v = map(int,input().split())\n",
    "\n",
    "# 초기값을 False로 만들어 그래프 선언\n",
    "graph = [[False] * (n+1) for _ in range(n+1)]\n",
    "print(graph)\n",
    "\n",
    "# 연결된 정점을 입력\n",
    "for i in range(m):\n",
    "    x,y = map(int,input().split()) # 1 2 / 1 3\n",
    "    graph[x][y] = 1 # graph[1][2]\n",
    "    graph[y][x] = 1 # graph[2][1]\n",
    "    print(graph)"
   ]
  },
  {
   "cell_type": "markdown",
   "metadata": {},
   "source": [
    "### 과제 2) 연결 요소의 개수 - 백준 11724"
   ]
  },
  {
   "attachments": {
    "image.png": {
     "image/png": "[encoded data removed]"
    }
   },
   "cell_type": "markdown",
   "metadata": {},
   "source": [
    "##### ![image.png](attachment:image.png)"
   ]
  },
  {
   "attachments": {
    "image.png": {
     "image/png": "[encoded data removed]"
    }
   },
   "cell_type": "markdown",
   "metadata": {},
   "source": [
    "#### ![image.png](attachment:image.png)"
   ]
  },
  {
   "cell_type": "markdown",
   "metadata": {},
   "source": [
    "#### dfs/bfs를 수행한 횟수가 연결 요소의 개수 -> dfs/bfs가 끝날 때마다 count += 1 해줌"
   ]
  },
  {
   "cell_type": "code",
   "execution_count": 5,
   "metadata": {},
   "outputs": [
    {
     "name": "stdout",
     "output_type": "stream",
     "text": [
      "2\n"
     ]
    }
   ],
   "source": [
    "# dfs 함수\n",
    "def dfs(graph, v, visited):\n",
    "    visited[v] = True\n",
    "    for i in graph[v]:\n",
    "        if not visited[i]:\n",
    "            dfs(graph, i, visited)\n",
    "\n",
    "# 정점의 개수, 간선의 개수\n",
    "n, m = map(int, input().split()) \n",
    "\n",
    "graph = [[] for _ in range(n+1)]\n",
    "print(graph)\n",
    "\n",
    "for i in range(m):\n",
    "    u, v = map(int, input().split())\n",
    "    graph[u].append(v)\n",
    "    graph[v].append(u)\n",
    "\n",
    "count = 0 # 연결 노드의 수\n",
    "\n",
    "# dfs 그래프의 방문 여부를 담을 리스트\n",
    "visited = [False] * (n+1)\n",
    "\n",
    "for i in range(1, n+1):\n",
    "    if not visited[i]:\n",
    "        dfs(graph, i, visited)\n",
    "        count += 1 # dfs 한 번 끝날 때마다 count+1\n",
    "\n",
    "print(count)"
   ]
  },
  {
   "cell_type": "code",
   "execution_count": 6,
   "metadata": {},
   "outputs": [
    {
     "name": "stdout",
     "output_type": "stream",
     "text": [
      "1\n"
     ]
    }
   ],
   "source": [
    "# bfs 함수\n",
    "from collections import deque\n",
    "def bfs(graph,start,visited):\n",
    "    queue = deque([start])\n",
    "    visited[start] = True\n",
    "\n",
    "    while queue:\n",
    "        v = queue.popleft()\n",
    "        for i in graph[v]:\n",
    "            if not visited[i]:\n",
    "                queue.append(i)\n",
    "                visited[i] = True\n",
    "\n",
    "n,m = map(int,input().split())\n",
    "\n",
    "graph = [[] for _ in range(n+1)]\n",
    "\n",
    "for i in range(m):\n",
    "    u, v = map(int, input().split())\n",
    "    graph[u].append(v)\n",
    "    graph[v].append(u)\n",
    "\n",
    "# dfs 그래프의 방문 여부를 담을 리스트\n",
    "visited = [False] * (n+1)\n",
    "\n",
    "count = 0\n",
    "for i in range(1, n+1):\n",
    "    if not visited[i]:\n",
    "        bfs(graph, i, visited) # bfs 한 번 끝날 때마다 count+1\n",
    "        count += 1\n",
    "\n",
    "print(count)"
   ]
  },
  {
   "cell_type": "markdown",
   "metadata": {},
   "source": [
    "### 과제 3) 음식물 피하기 - 백준 1743"
   ]
  },
  {
   "cell_type": "code",
   "execution_count": 7,
   "metadata": {},
   "outputs": [
    {
     "name": "stdout",
     "output_type": "stream",
     "text": [
      "[[0, 0, 0, 0, 0], [0, 0, 0, 0, 0], [0, 0, 0, 0, 0], [0, 0, 0, 0, 0]]\n",
      "[[0, 0, 0, 0, 0], [0, 1, 0, 0, 0], [0, 0, 1, 1, 0], [0, 1, 1, 0, 0]]\n",
      "4\n"
     ]
    }
   ],
   "source": [
    "n,m,k = map(int,input().split())\n",
    "\n",
    "# 그래프 넉넉하게 설정\n",
    "graph = [[0] * (m+1) for _ in range(n+1)]\n",
    "print(graph)\n",
    "\n",
    "for _ in range(k):\n",
    "    x,y = map(int,input().split())\n",
    "    graph[x][y] = 1\n",
    "print(graph)\n",
    "\n",
    "# size를 전역변수로 선언\n",
    "global size\n",
    "size = 0\n",
    "ans = 0\n",
    "\n",
    "\n",
    "# dfs \n",
    "def dfs(x,y):\n",
    "    global size\n",
    "\n",
    "    # 범위 넘으면 종료\n",
    "    if x<0 or x>n or y<0 or y>m:\n",
    "        return False\n",
    "    \n",
    "    # 쓰레기가(1) 있다면\n",
    "    if graph[x][y] == 1:\n",
    "        # 쓰레기 크기 1 증가\n",
    "        size += 1\n",
    "        # 방문 처리\n",
    "        graph[x][y] = 0\n",
    "        # 상,하,좌,우 살피기\n",
    "        dfs(x+1,y)\n",
    "        dfs(x-1,y)\n",
    "        dfs(x,y+1)\n",
    "        dfs(x,y-1)\n",
    "\n",
    "        return True\n",
    "    return False\n",
    "\n",
    "for i in range(n+1):\n",
    "    for j in range(m+1):\n",
    "        if dfs(i,j) == True:\n",
    "            # ans(현재까지 중 최대 쓰레기의 크기,정답)에 쓰레기 크기(size) 비교하여 더 큰값을 넣어줌\n",
    "            ans = max(ans,size)\n",
    "            # 쓰레기 크기 초기화\n",
    "            size =0\n",
    "print(ans)"
   ]
  }
 ],
 "metadata": {
  "kernelspec": {
   "display_name": "Python 3",
   "language": "python",
   "name": "python3"
  },
  "language_info": {
   "codemirror_mode": {
    "name": "ipython",
    "version": 3
   },
   "file_extension": ".py",
   "mimetype": "text/x-python",
   "name": "python",
   "nbconvert_exporter": "python",
   "pygments_lexer": "ipython3",
   "version": "3.8.19"
  }
 },
 "nbformat": 4,
 "nbformat_minor": 2
}
