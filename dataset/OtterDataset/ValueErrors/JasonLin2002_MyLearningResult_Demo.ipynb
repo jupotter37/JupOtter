{
 "cells": [
  {
   "cell_type": "code",
   "execution_count": 2,
   "metadata": {},
   "outputs": [
    {
     "ename": "ValueError",
     "evalue": "invalid literal for int() with base 10: ''",
     "output_type": "error",
     "traceback": [
      "\u001b[0;31m---------------------------------------------------------------------------\u001b[0m",
      "\u001b[0;31mValueError\u001b[0m                                Traceback (most recent call last)",
      "Cell \u001b[0;32mIn[2], line 13\u001b[0m\n\u001b[1;32m     11\u001b[0m \u001b[39mif\u001b[39;00m \u001b[39m__name__\u001b[39m\u001b[39m==\u001b[39m\u001b[39m'\u001b[39m\u001b[39m__main__\u001b[39m\u001b[39m'\u001b[39m:\n\u001b[1;32m     12\u001b[0m     product_name\u001b[39m=\u001b[39m\u001b[39minput\u001b[39m()\n\u001b[0;32m---> 13\u001b[0m     P\u001b[39m=\u001b[39m\u001b[39mint\u001b[39;49m(\u001b[39minput\u001b[39;49m())\n\u001b[1;32m     14\u001b[0m     product1\u001b[39m=\u001b[39mProduct(product_name,P)\n\u001b[1;32m     15\u001b[0m     product1\u001b[39m.\u001b[39mshowInfo()\n",
      "\u001b[0;31mValueError\u001b[0m: invalid literal for int() with base 10: ''"
     ]
    }
   ],
   "source": [
    "class Product:\n",
    "    def __init__(self,product_name,P):\n",
    "        self.name=product_name\n",
    "        self.price=P #下面指定\n",
    "        #print('Hello')\n",
    "    def showInfo(self):\n",
    "        print('商品名:',self.name)\n",
    "        print('價錢:',self.price)\n",
    "\n",
    "\n",
    "if __name__=='__main__':\n",
    "    product_name=input()\n",
    "    P=int(input())\n",
    "    product1=Product(product_name,P)\n",
    "    product1.showInfo()"
   ]
  },
  {
   "cell_type": "code",
   "execution_count": 1,
   "metadata": {},
   "outputs": [
    {
     "name": "stdout",
     "output_type": "stream",
     "text": [
      "購買商品:\n",
      "Product Name: RTX4090,Price: 73000\n",
      "Product Name: RTX3090,Price: 34000\n",
      "\n",
      "107000\n",
      "購買商品:\n",
      "Product Name: RTX4090,Price: 73000\n",
      "\n",
      "73000\n",
      "購買商品:\n",
      "\n",
      "0\n"
     ]
    }
   ],
   "source": [
    "class Product:\n",
    "    def __init__(self,product_name,P):\n",
    "        self.name=product_name\n",
    "        self.price=P #下面指定\n",
    "\n",
    "class Shopping_Car:\n",
    "    def __init__(self):\n",
    "        self.name=[]\n",
    "    def buy(self,Product):\n",
    "        self.name.append(Product)\n",
    "    def show(self):\n",
    "        print('購買商品:')\n",
    "        for item in self.name:\n",
    "            print('Product Name: {},Price: {}'.format(item.name,item.price))\n",
    "        print()\n",
    "    def countPrice(self):\n",
    "        price=0\n",
    "        for item in self.name:\n",
    "            price+=item.price\n",
    "        print(price)\n",
    "    def cancel(self,name):\n",
    "        self.name.remove(name)\n",
    "    def clear(self):\n",
    "        self.name=[]\n",
    "\n",
    "\n",
    "if __name__=='__main__':\n",
    "    RTX_4090=Product('RTX4090',73000) \n",
    "    RTX_3090=Product('RTX3090',34000)\n",
    "    S=Shopping_Car()\n",
    "\n",
    "    S.buy(RTX_4090)\n",
    "    S.buy(RTX_3090)\n",
    "    S.show()\n",
    "    S.countPrice()\n",
    "    S.cancel(RTX_3090)\n",
    "\n",
    "    S.show()\n",
    "    S.countPrice()\n",
    "\n",
    "    S.clear()\n",
    "\n",
    "    S.show()\n",
    "    S.countPrice()"
   ]
  }
 ],
 "metadata": {
  "kernelspec": {
   "display_name": "Python 3",
   "language": "python",
   "name": "python3"
  },
  "language_info": {
   "codemirror_mode": {
    "name": "ipython",
    "version": 3
   },
   "file_extension": ".py",
   "mimetype": "text/x-python",
   "name": "python",
   "nbconvert_exporter": "python",
   "pygments_lexer": "ipython3",
   "version": "3.9.10 (tags/v3.9.10:f2f3f53, Jan 17 2022, 15:14:21) [MSC v.1929 64 bit (AMD64)]"
  },
  "orig_nbformat": 4,
  "vscode": {
   "interpreter": {
    "hash": "c5d269574d350b051d2fab1614ebbbf2fa09728239c894b53d63951c9539b734"
   }
  }
 },
 "nbformat": 4,
 "nbformat_minor": 2
}
