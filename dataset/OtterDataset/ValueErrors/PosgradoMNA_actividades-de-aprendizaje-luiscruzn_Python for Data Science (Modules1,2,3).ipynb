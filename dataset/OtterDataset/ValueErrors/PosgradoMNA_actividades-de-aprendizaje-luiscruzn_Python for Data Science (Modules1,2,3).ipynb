{
  "nbformat": 4,
  "nbformat_minor": 0,
  "metadata": {
    "colab": {
      "name": "assignment01.ipynb",
      "provenance": [],
      "include_colab_link": true
    },
    "kernelspec": {
      "name": "python3",
      "display_name": "Python 3"
    },
    "language_info": {
      "name": "python"
    }
  },
  "cells": [
    {
      "cell_type": "markdown",
      "metadata": {
        "id": "view-in-github",
        "colab_type": "text"
      },
      "source": [
        "<a href=\"https://colab.research.google.com/github/PosgradoMNA/actividades-de-aprendizaje-luiscruzn/blob/main/Python%20for%20Data%20Science%20(Modules1%2C2%2C3).ipynb\" target=\"_parent\"><img src=\"https://colab.research.google.com/assets/colab-badge.svg\" alt=\"Open In Colab\"/></a>"
      ]
    },
    {
      "cell_type": "markdown",
      "source": [
        "#**Luis Salvador Cruz Nájera**\n",
        "# A01002111"
      ],
      "metadata": {
        "id": "EpPw1-J48yPk"
      }
    },
    {
      "cell_type": "markdown",
      "source": [
        "# **Python for Data Science**\n",
        "\n",
        "Es un lenguaje de programación de propósito general, pero viene con miles dee bibliotecas para trabajar con datos. A menudo es el primer idioma que la gente aprende, pero es el idioma que la gente usa décadas más tarde en su carrera. Python suele ser la primera herramienta que la gente usa cuando necesita crear un prototipo rápido, pero es el lenguaje que impulsa algunos de los proyectos más complejos. El poder y la flexibilidad con miles de bibliotecas hicieron de Python el lenguaje elegido por científicos de datos, ingenieros de datos, analistas de datos e investigadores de IA en empresas líderes y nuevas empresas por igual. Python es esencial para cualquier currículum y es una habilidad imprescindible para cualquier persona que trabaje con datos."
      ],
      "metadata": {
        "id": "beHO-1hQQlA0"
      }
    },
    {
      "cell_type": "markdown",
      "source": [
        "# **Module 1.- Pyhton Basics**"
      ],
      "metadata": {
        "id": "5EYUzkwuY7-X"
      }
    },
    {
      "cell_type": "markdown",
      "source": [
        "**1.1.- Your first program**"
      ],
      "metadata": {
        "id": "q4Ggp1w0WLmd"
      }
    },
    {
      "cell_type": "code",
      "execution_count": 1,
      "metadata": {
        "id": "LzUSMM79NR9P",
        "outputId": "bdca36f7-c40c-4b43-96c3-d92d9e52a728",
        "colab": {
          "base_uri": "https://localhost:8080/"
        }
      },
      "outputs": [
        {
          "output_type": "stream",
          "name": "stdout",
          "text": [
            "Hello python 101\n"
          ]
        }
      ],
      "source": [
        "print(\"Hello python 101\")"
      ]
    },
    {
      "cell_type": "markdown",
      "source": [
        "Question 1\n",
        "\n"
      ],
      "metadata": {
        "id": "zzbEWF6RXUgw"
      }
    },
    {
      "cell_type": "code",
      "source": [
        "print(\"Hello\\nWorld!\")"
      ],
      "metadata": {
        "id": "mxM_WppZPMFx",
        "colab": {
          "base_uri": "https://localhost:8080/"
        },
        "outputId": "2f85ca16-a403-48c4-a39f-539fd5a3f286"
      },
      "execution_count": 2,
      "outputs": [
        {
          "output_type": "stream",
          "name": "stdout",
          "text": [
            "Hello\n",
            "World!\n"
          ]
        }
      ]
    },
    {
      "cell_type": "markdown",
      "source": [
        "Question 2"
      ],
      "metadata": {
        "id": "iiG3di9ZXvRE"
      }
    },
    {
      "cell_type": "code",
      "source": [
        "# print('Hello World!')"
      ],
      "metadata": {
        "id": "y_kum-b0Xdpp"
      },
      "execution_count": 3,
      "outputs": []
    },
    {
      "cell_type": "markdown",
      "source": [
        "**1.2.- Types**"
      ],
      "metadata": {
        "id": "pshScnMlZMCI"
      }
    },
    {
      "cell_type": "code",
      "source": [
        "type(11)"
      ],
      "metadata": {
        "colab": {
          "base_uri": "https://localhost:8080/"
        },
        "id": "QNl9wjlfBhHj",
        "outputId": "decbce8b-6398-435b-908c-acc117a863f2"
      },
      "execution_count": 4,
      "outputs": [
        {
          "output_type": "execute_result",
          "data": {
            "text/plain": [
              "int"
            ]
          },
          "metadata": {},
          "execution_count": 4
        }
      ]
    },
    {
      "cell_type": "code",
      "source": [
        "type(21.213)"
      ],
      "metadata": {
        "colab": {
          "base_uri": "https://localhost:8080/"
        },
        "id": "ux9iFe3ZB0t8",
        "outputId": "0dd4b3f1-21c6-4e56-9ccc-5683247e20d2"
      },
      "execution_count": 2,
      "outputs": [
        {
          "output_type": "execute_result",
          "data": {
            "text/plain": [
              "float"
            ]
          },
          "metadata": {},
          "execution_count": 2
        }
      ]
    },
    {
      "cell_type": "code",
      "source": [
        "type(\"Hello python 101\")"
      ],
      "metadata": {
        "colab": {
          "base_uri": "https://localhost:8080/"
        },
        "id": "snO754g2B2ML",
        "outputId": "5cac61c8-4d83-4b3b-d691-0c3a2d2e10a0"
      },
      "execution_count": 3,
      "outputs": [
        {
          "output_type": "execute_result",
          "data": {
            "text/plain": [
              "str"
            ]
          },
          "metadata": {},
          "execution_count": 3
        }
      ]
    },
    {
      "cell_type": "code",
      "source": [
        "float(2)"
      ],
      "metadata": {
        "colab": {
          "base_uri": "https://localhost:8080/"
        },
        "id": "fgJt-jWICMOz",
        "outputId": "97d92b23-4da0-4294-d316-9c54ac54936f"
      },
      "execution_count": 5,
      "outputs": [
        {
          "output_type": "execute_result",
          "data": {
            "text/plain": [
              "2.0"
            ]
          },
          "metadata": {},
          "execution_count": 5
        }
      ]
    },
    {
      "cell_type": "code",
      "source": [
        "int(1.1)"
      ],
      "metadata": {
        "colab": {
          "base_uri": "https://localhost:8080/"
        },
        "id": "w-AlyiwLCOYy",
        "outputId": "0af2930d-081f-44e3-b906-7fece24b1681"
      },
      "execution_count": 6,
      "outputs": [
        {
          "output_type": "execute_result",
          "data": {
            "text/plain": [
              "1"
            ]
          },
          "metadata": {},
          "execution_count": 6
        }
      ]
    },
    {
      "cell_type": "code",
      "source": [
        "int('1')"
      ],
      "metadata": {
        "colab": {
          "base_uri": "https://localhost:8080/"
        },
        "id": "1gSacH1FCTG7",
        "outputId": "d01e4a1d-3bc1-46d7-c209-b63d2a20cfef"
      },
      "execution_count": 7,
      "outputs": [
        {
          "output_type": "execute_result",
          "data": {
            "text/plain": [
              "1"
            ]
          },
          "metadata": {},
          "execution_count": 7
        }
      ]
    },
    {
      "cell_type": "code",
      "source": [
        "int('A')"
      ],
      "metadata": {
        "colab": {
          "base_uri": "https://localhost:8080/",
          "height": 174
        },
        "id": "LYneNOd9CWPJ",
        "outputId": "617f5531-cb8a-476f-9929-9133ea8f3bb8"
      },
      "execution_count": 8,
      "outputs": [
        {
          "output_type": "error",
          "ename": "ValueError",
          "evalue": "ignored",
          "traceback": [
            "\u001b[0;31m---------------------------------------------------------------------------\u001b[0m",
            "\u001b[0;31mValueError\u001b[0m                                Traceback (most recent call last)",
            "\u001b[0;32m<ipython-input-8-58e5992d18f7>\u001b[0m in \u001b[0;36m<module>\u001b[0;34m\u001b[0m\n\u001b[0;32m----> 1\u001b[0;31m \u001b[0mint\u001b[0m\u001b[0;34m(\u001b[0m\u001b[0;34m'A'\u001b[0m\u001b[0;34m)\u001b[0m\u001b[0;34m\u001b[0m\u001b[0;34m\u001b[0m\u001b[0m\n\u001b[0m",
            "\u001b[0;31mValueError\u001b[0m: invalid literal for int() with base 10: 'A'"
          ]
        }
      ]
    },
    {
      "cell_type": "code",
      "source": [
        "str(1)"
      ],
      "metadata": {
        "colab": {
          "base_uri": "https://localhost:8080/",
          "height": 35
        },
        "id": "QkdNXwNlCYbA",
        "outputId": "99132284-4e38-458a-db09-18e92692cab8"
      },
      "execution_count": 9,
      "outputs": [
        {
          "output_type": "execute_result",
          "data": {
            "text/plain": [
              "'1'"
            ],
            "application/vnd.google.colaboratory.intrinsic+json": {
              "type": "string"
            }
          },
          "metadata": {},
          "execution_count": 9
        }
      ]
    },
    {
      "cell_type": "code",
      "source": [
        "type(True)"
      ],
      "metadata": {
        "colab": {
          "base_uri": "https://localhost:8080/"
        },
        "id": "3i0v4WYTCcIT",
        "outputId": "287f669e-f5d0-487d-ce61-7d86dc3b4b89"
      },
      "execution_count": 10,
      "outputs": [
        {
          "output_type": "execute_result",
          "data": {
            "text/plain": [
              "bool"
            ]
          },
          "metadata": {},
          "execution_count": 10
        }
      ]
    },
    {
      "cell_type": "code",
      "source": [
        "int(True)"
      ],
      "metadata": {
        "colab": {
          "base_uri": "https://localhost:8080/"
        },
        "id": "c9j2u1FICjQA",
        "outputId": "c9a91e55-a806-41e8-e87f-d49cb63183ea"
      },
      "execution_count": 11,
      "outputs": [
        {
          "output_type": "execute_result",
          "data": {
            "text/plain": [
              "1"
            ]
          },
          "metadata": {},
          "execution_count": 11
        }
      ]
    },
    {
      "cell_type": "code",
      "source": [
        "int(False)"
      ],
      "metadata": {
        "colab": {
          "base_uri": "https://localhost:8080/"
        },
        "id": "bmBe73ImCktL",
        "outputId": "2c6e33f1-6fca-469e-b84a-a6485402f8b0"
      },
      "execution_count": 12,
      "outputs": [
        {
          "output_type": "execute_result",
          "data": {
            "text/plain": [
              "0"
            ]
          },
          "metadata": {},
          "execution_count": 12
        }
      ]
    },
    {
      "cell_type": "markdown",
      "source": [
        "Question 1.- What is the type of the following: int(1.0)?"
      ],
      "metadata": {
        "id": "crZXN00yZQd-"
      }
    },
    {
      "cell_type": "code",
      "source": [
        "int(1.0)"
      ],
      "metadata": {
        "colab": {
          "base_uri": "https://localhost:8080/"
        },
        "id": "IciLU7B9ZTHu",
        "outputId": "2eb6df56-95f3-4b8f-f4d1-81830dda9da6"
      },
      "execution_count": 4,
      "outputs": [
        {
          "output_type": "execute_result",
          "data": {
            "text/plain": [
              "1"
            ]
          },
          "metadata": {},
          "execution_count": 4
        }
      ]
    },
    {
      "cell_type": "markdown",
      "source": [
        "Question 2.- Enter the code to convert the number 1 to a Boolean."
      ],
      "metadata": {
        "id": "H4vnXgBGZh1U"
      }
    },
    {
      "cell_type": "code",
      "source": [
        "bool(1)"
      ],
      "metadata": {
        "colab": {
          "base_uri": "https://localhost:8080/"
        },
        "id": "q6AsxS2TZkj4",
        "outputId": "84eebe65-dab9-4cfc-efad-18e640f4390c"
      },
      "execution_count": 5,
      "outputs": [
        {
          "output_type": "execute_result",
          "data": {
            "text/plain": [
              "True"
            ]
          },
          "metadata": {},
          "execution_count": 5
        }
      ]
    },
    {
      "cell_type": "markdown",
      "source": [
        "**1.3.- Expressions and Variables**"
      ],
      "metadata": {
        "id": "AO1Td4HpZ5aq"
      }
    },
    {
      "cell_type": "code",
      "source": [
        "43 + 60 + 16 + 41"
      ],
      "metadata": {
        "id": "uUWK1T4vDWSy",
        "outputId": "1cdbce72-cd9d-42f6-d216-892ae64d9826",
        "colab": {
          "base_uri": "https://localhost:8080/"
        }
      },
      "execution_count": 13,
      "outputs": [
        {
          "output_type": "execute_result",
          "data": {
            "text/plain": [
              "160"
            ]
          },
          "metadata": {},
          "execution_count": 13
        }
      ]
    },
    {
      "cell_type": "code",
      "source": [
        "50 - 60"
      ],
      "metadata": {
        "id": "eFXOJ09HDaQM",
        "outputId": "2cffe798-e7eb-4ab6-ca1d-92f715f4dcfc",
        "colab": {
          "base_uri": "https://localhost:8080/"
        }
      },
      "execution_count": 14,
      "outputs": [
        {
          "output_type": "execute_result",
          "data": {
            "text/plain": [
              "-10"
            ]
          },
          "metadata": {},
          "execution_count": 14
        }
      ]
    },
    {
      "cell_type": "code",
      "source": [
        "5 * 5"
      ],
      "metadata": {
        "id": "lTJOqVqfDeUw",
        "outputId": "870f49c5-5242-42a0-d8d5-eb8edd4faf8a",
        "colab": {
          "base_uri": "https://localhost:8080/"
        }
      },
      "execution_count": 15,
      "outputs": [
        {
          "output_type": "execute_result",
          "data": {
            "text/plain": [
              "25"
            ]
          },
          "metadata": {},
          "execution_count": 15
        }
      ]
    },
    {
      "cell_type": "code",
      "source": [
        "25 / 5"
      ],
      "metadata": {
        "id": "xGoQW-1VDhsr",
        "outputId": "96f03a4d-79a5-4ccf-c142-41d4721843a5",
        "colab": {
          "base_uri": "https://localhost:8080/"
        }
      },
      "execution_count": 16,
      "outputs": [
        {
          "output_type": "execute_result",
          "data": {
            "text/plain": [
              "5.0"
            ]
          },
          "metadata": {},
          "execution_count": 16
        }
      ]
    },
    {
      "cell_type": "code",
      "source": [
        "25 / 6"
      ],
      "metadata": {
        "id": "6SvGw3kRDjFb",
        "outputId": "20ec28e3-4309-4ea1-a1d3-8d3275ada2f1",
        "colab": {
          "base_uri": "https://localhost:8080/"
        }
      },
      "execution_count": 17,
      "outputs": [
        {
          "output_type": "execute_result",
          "data": {
            "text/plain": [
              "4.166666666666667"
            ]
          },
          "metadata": {},
          "execution_count": 17
        }
      ]
    },
    {
      "cell_type": "code",
      "source": [
        "25 // 5"
      ],
      "metadata": {
        "id": "guCPMCt_DtC-",
        "outputId": "1655c60b-df8c-4164-80cf-d6ad34404c99",
        "colab": {
          "base_uri": "https://localhost:8080/"
        }
      },
      "execution_count": 18,
      "outputs": [
        {
          "output_type": "execute_result",
          "data": {
            "text/plain": [
              "5"
            ]
          },
          "metadata": {},
          "execution_count": 18
        }
      ]
    },
    {
      "cell_type": "code",
      "source": [
        "25 // 6"
      ],
      "metadata": {
        "id": "9WeqSS_2DvFX",
        "outputId": "2ec994ec-4ab4-4dcc-87f3-1c92ee095eb9",
        "colab": {
          "base_uri": "https://localhost:8080/"
        }
      },
      "execution_count": 19,
      "outputs": [
        {
          "output_type": "execute_result",
          "data": {
            "text/plain": [
              "4"
            ]
          },
          "metadata": {},
          "execution_count": 19
        }
      ]
    },
    {
      "cell_type": "code",
      "source": [
        "2 * 60 + 30"
      ],
      "metadata": {
        "id": "yeON3hQfD4h-",
        "outputId": "69cecdec-a5d0-4355-bee4-8cb464a2a2b9",
        "colab": {
          "base_uri": "https://localhost:8080/"
        }
      },
      "execution_count": 20,
      "outputs": [
        {
          "output_type": "execute_result",
          "data": {
            "text/plain": [
              "150"
            ]
          },
          "metadata": {},
          "execution_count": 20
        }
      ]
    },
    {
      "cell_type": "code",
      "source": [
        "30 + 2 * 60"
      ],
      "metadata": {
        "id": "8iiJgTxND678",
        "outputId": "4c6757b6-88b5-4712-d07c-9e8f63f98852",
        "colab": {
          "base_uri": "https://localhost:8080/"
        }
      },
      "execution_count": 21,
      "outputs": [
        {
          "output_type": "execute_result",
          "data": {
            "text/plain": [
              "150"
            ]
          },
          "metadata": {},
          "execution_count": 21
        }
      ]
    },
    {
      "cell_type": "code",
      "source": [
        "(30 + 2) * 60"
      ],
      "metadata": {
        "id": "X4d55MnvEEZX",
        "outputId": "8717aa16-1626-4c18-ca34-b4ba414dd49f",
        "colab": {
          "base_uri": "https://localhost:8080/"
        }
      },
      "execution_count": 22,
      "outputs": [
        {
          "output_type": "execute_result",
          "data": {
            "text/plain": [
              "1920"
            ]
          },
          "metadata": {},
          "execution_count": 22
        }
      ]
    },
    {
      "cell_type": "code",
      "source": [
        "my_variable = 1"
      ],
      "metadata": {
        "id": "vtpAMdnkEHO5"
      },
      "execution_count": 23,
      "outputs": []
    },
    {
      "cell_type": "code",
      "source": [
        "my_variable"
      ],
      "metadata": {
        "id": "iGp95TmXEgqH",
        "outputId": "5e2053af-f42c-49d2-800f-be43149b2dff",
        "colab": {
          "base_uri": "https://localhost:8080/"
        }
      },
      "execution_count": 24,
      "outputs": [
        {
          "output_type": "execute_result",
          "data": {
            "text/plain": [
              "1"
            ]
          },
          "metadata": {},
          "execution_count": 24
        }
      ]
    },
    {
      "cell_type": "code",
      "source": [
        "my_variable = 10"
      ],
      "metadata": {
        "id": "y2smwIRREikH"
      },
      "execution_count": 25,
      "outputs": []
    },
    {
      "cell_type": "code",
      "source": [
        "my_variable"
      ],
      "metadata": {
        "id": "T0G9n67mEnQH",
        "outputId": "39b41147-30e6-4bd1-c518-6bf9fcd2f55c",
        "colab": {
          "base_uri": "https://localhost:8080/"
        }
      },
      "execution_count": 26,
      "outputs": [
        {
          "output_type": "execute_result",
          "data": {
            "text/plain": [
              "10"
            ]
          },
          "metadata": {},
          "execution_count": 26
        }
      ]
    },
    {
      "cell_type": "code",
      "source": [
        "x = 160"
      ],
      "metadata": {
        "id": "kwf-GlSkEosO"
      },
      "execution_count": 31,
      "outputs": []
    },
    {
      "cell_type": "code",
      "source": [
        "x"
      ],
      "metadata": {
        "id": "CyaLjmoREuC8",
        "outputId": "7f823d79-f63e-4c34-8ba8-83d9982e5bd9",
        "colab": {
          "base_uri": "https://localhost:8080/"
        }
      },
      "execution_count": 32,
      "outputs": [
        {
          "output_type": "execute_result",
          "data": {
            "text/plain": [
              "160"
            ]
          },
          "metadata": {},
          "execution_count": 32
        }
      ]
    },
    {
      "cell_type": "code",
      "source": [
        "x = x / 60"
      ],
      "metadata": {
        "id": "n9_v3ppnEq83"
      },
      "execution_count": 33,
      "outputs": []
    },
    {
      "cell_type": "code",
      "source": [
        "x"
      ],
      "metadata": {
        "id": "podiSrMVEu-m",
        "outputId": "4006e13c-a10b-4f81-d810-b0f4347e3566",
        "colab": {
          "base_uri": "https://localhost:8080/"
        }
      },
      "execution_count": 34,
      "outputs": [
        {
          "output_type": "execute_result",
          "data": {
            "text/plain": [
              "2.6666666666666665"
            ]
          },
          "metadata": {},
          "execution_count": 34
        }
      ]
    },
    {
      "cell_type": "code",
      "source": [
        "total_min = 43 + 42 + 57"
      ],
      "metadata": {
        "id": "6D5U5pe_FASY"
      },
      "execution_count": 35,
      "outputs": []
    },
    {
      "cell_type": "code",
      "source": [
        "total_min"
      ],
      "metadata": {
        "id": "zw8vKeA-FEb3",
        "outputId": "9502170a-f20e-4c69-db2e-65ce84d2b0ed",
        "colab": {
          "base_uri": "https://localhost:8080/"
        }
      },
      "execution_count": 36,
      "outputs": [
        {
          "output_type": "execute_result",
          "data": {
            "text/plain": [
              "142"
            ]
          },
          "metadata": {},
          "execution_count": 36
        }
      ]
    },
    {
      "cell_type": "code",
      "source": [
        "total_hr = total_min  / 60"
      ],
      "metadata": {
        "id": "W_gWNu4FFFZg"
      },
      "execution_count": 37,
      "outputs": []
    },
    {
      "cell_type": "code",
      "source": [
        "total_hr"
      ],
      "metadata": {
        "id": "sGp0Gju2FIiI",
        "outputId": "609f6102-4907-4f51-cab9-c123b3df0e00",
        "colab": {
          "base_uri": "https://localhost:8080/"
        }
      },
      "execution_count": 38,
      "outputs": [
        {
          "output_type": "execute_result",
          "data": {
            "text/plain": [
              "2.3666666666666667"
            ]
          },
          "metadata": {},
          "execution_count": 38
        }
      ]
    },
    {
      "cell_type": "markdown",
      "source": [
        "**1.4.- String Operations**"
      ],
      "metadata": {
        "id": "nna2rT_2FuVI"
      }
    },
    {
      "cell_type": "code",
      "source": [
        "\"Michael Jackson\""
      ],
      "metadata": {
        "id": "PTOyiA2fFyqr",
        "outputId": "7d855d76-b6f3-4fed-c6a0-68c5d31ea989",
        "colab": {
          "base_uri": "https://localhost:8080/",
          "height": 35
        }
      },
      "execution_count": 39,
      "outputs": [
        {
          "output_type": "execute_result",
          "data": {
            "text/plain": [
              "'Michael Jackson'"
            ],
            "application/vnd.google.colaboratory.intrinsic+json": {
              "type": "string"
            }
          },
          "metadata": {},
          "execution_count": 39
        }
      ]
    },
    {
      "cell_type": "code",
      "source": [
        "'Michael Jackson'"
      ],
      "metadata": {
        "id": "LmeLFYEMF-oB",
        "outputId": "de536c3f-2b8c-4335-82ee-dcd7e09e4add",
        "colab": {
          "base_uri": "https://localhost:8080/",
          "height": 35
        }
      },
      "execution_count": 40,
      "outputs": [
        {
          "output_type": "execute_result",
          "data": {
            "text/plain": [
              "'Michael Jackson'"
            ],
            "application/vnd.google.colaboratory.intrinsic+json": {
              "type": "string"
            }
          },
          "metadata": {},
          "execution_count": 40
        }
      ]
    },
    {
      "cell_type": "code",
      "source": [
        "\"1 2 3 4 5 6\""
      ],
      "metadata": {
        "id": "4ZDxtT6HGDYf",
        "outputId": "45204b1d-7d62-4c3f-c92e-5c7a3ecd5a42",
        "colab": {
          "base_uri": "https://localhost:8080/",
          "height": 35
        }
      },
      "execution_count": 41,
      "outputs": [
        {
          "output_type": "execute_result",
          "data": {
            "text/plain": [
              "'1 2 3 4 5 6'"
            ],
            "application/vnd.google.colaboratory.intrinsic+json": {
              "type": "string"
            }
          },
          "metadata": {},
          "execution_count": 41
        }
      ]
    },
    {
      "cell_type": "code",
      "source": [
        "'@#2_#]&*^%$'"
      ],
      "metadata": {
        "id": "vCZEFColGJjh",
        "outputId": "e9c2a20f-dd9e-47b4-d768-439d48953cac",
        "colab": {
          "base_uri": "https://localhost:8080/",
          "height": 35
        }
      },
      "execution_count": 42,
      "outputs": [
        {
          "output_type": "execute_result",
          "data": {
            "text/plain": [
              "'@#2_#]&*^%$'"
            ],
            "application/vnd.google.colaboratory.intrinsic+json": {
              "type": "string"
            }
          },
          "metadata": {},
          "execution_count": 42
        }
      ]
    },
    {
      "cell_type": "code",
      "source": [
        "Name = \"Michael Jackson\""
      ],
      "metadata": {
        "id": "KvA0BXxNGbX7"
      },
      "execution_count": 43,
      "outputs": []
    },
    {
      "cell_type": "code",
      "source": [
        "Name[0]"
      ],
      "metadata": {
        "id": "FZ1pO3WaGezp",
        "outputId": "1b57c9d9-48a2-4259-c254-f6554157bb9d",
        "colab": {
          "base_uri": "https://localhost:8080/",
          "height": 35
        }
      },
      "execution_count": 44,
      "outputs": [
        {
          "output_type": "execute_result",
          "data": {
            "text/plain": [
              "'M'"
            ],
            "application/vnd.google.colaboratory.intrinsic+json": {
              "type": "string"
            }
          },
          "metadata": {},
          "execution_count": 44
        }
      ]
    },
    {
      "cell_type": "code",
      "source": [
        "Name[6]"
      ],
      "metadata": {
        "id": "dO1dKq_CGkxl",
        "outputId": "c140971d-1868-4151-835f-318b21772854",
        "colab": {
          "base_uri": "https://localhost:8080/",
          "height": 35
        }
      },
      "execution_count": 45,
      "outputs": [
        {
          "output_type": "execute_result",
          "data": {
            "text/plain": [
              "'l'"
            ],
            "application/vnd.google.colaboratory.intrinsic+json": {
              "type": "string"
            }
          },
          "metadata": {},
          "execution_count": 45
        }
      ]
    },
    {
      "cell_type": "code",
      "source": [
        "Name[13]"
      ],
      "metadata": {
        "id": "NTj1tcWtGmvY",
        "outputId": "d60413fd-7f40-42ac-a5e4-10dac3d3278a",
        "colab": {
          "base_uri": "https://localhost:8080/",
          "height": 35
        }
      },
      "execution_count": 46,
      "outputs": [
        {
          "output_type": "execute_result",
          "data": {
            "text/plain": [
              "'o'"
            ],
            "application/vnd.google.colaboratory.intrinsic+json": {
              "type": "string"
            }
          },
          "metadata": {},
          "execution_count": 46
        }
      ]
    },
    {
      "cell_type": "code",
      "source": [
        "Name[-1]"
      ],
      "metadata": {
        "id": "D_WakEL1GsJd",
        "outputId": "98bb4790-cf8b-46cc-9c24-aa5ca28ec583",
        "colab": {
          "base_uri": "https://localhost:8080/",
          "height": 35
        }
      },
      "execution_count": 47,
      "outputs": [
        {
          "output_type": "execute_result",
          "data": {
            "text/plain": [
              "'n'"
            ],
            "application/vnd.google.colaboratory.intrinsic+json": {
              "type": "string"
            }
          },
          "metadata": {},
          "execution_count": 47
        }
      ]
    },
    {
      "cell_type": "code",
      "source": [
        "Name[-15]"
      ],
      "metadata": {
        "id": "eiftc29sGuCA",
        "outputId": "f738b6aa-dbaf-4d8b-a6d4-157f5793c2fc",
        "colab": {
          "base_uri": "https://localhost:8080/",
          "height": 35
        }
      },
      "execution_count": 48,
      "outputs": [
        {
          "output_type": "execute_result",
          "data": {
            "text/plain": [
              "'M'"
            ],
            "application/vnd.google.colaboratory.intrinsic+json": {
              "type": "string"
            }
          },
          "metadata": {},
          "execution_count": 48
        }
      ]
    },
    {
      "cell_type": "code",
      "source": [
        "Name[0:4]"
      ],
      "metadata": {
        "id": "xGCIZaLoGzZ7",
        "outputId": "16bcd927-dc45-4512-abcf-a1201d17f7ac",
        "colab": {
          "base_uri": "https://localhost:8080/",
          "height": 35
        }
      },
      "execution_count": 49,
      "outputs": [
        {
          "output_type": "execute_result",
          "data": {
            "text/plain": [
              "'Mich'"
            ],
            "application/vnd.google.colaboratory.intrinsic+json": {
              "type": "string"
            }
          },
          "metadata": {},
          "execution_count": 49
        }
      ]
    },
    {
      "cell_type": "code",
      "source": [
        "Name[8:12]"
      ],
      "metadata": {
        "id": "NDkJkNdiG1Sq",
        "outputId": "8b6d53dc-95ad-471d-d1c3-c5f3f8e25c5d",
        "colab": {
          "base_uri": "https://localhost:8080/",
          "height": 35
        }
      },
      "execution_count": 50,
      "outputs": [
        {
          "output_type": "execute_result",
          "data": {
            "text/plain": [
              "'Jack'"
            ],
            "application/vnd.google.colaboratory.intrinsic+json": {
              "type": "string"
            }
          },
          "metadata": {},
          "execution_count": 50
        }
      ]
    },
    {
      "cell_type": "code",
      "source": [
        "Name[::2]"
      ],
      "metadata": {
        "id": "lC8EOsuVHC8b",
        "outputId": "ab5183bd-0b0a-4a4f-be2f-0d8237f58c32",
        "colab": {
          "base_uri": "https://localhost:8080/",
          "height": 35
        }
      },
      "execution_count": 51,
      "outputs": [
        {
          "output_type": "execute_result",
          "data": {
            "text/plain": [
              "'McalJcsn'"
            ],
            "application/vnd.google.colaboratory.intrinsic+json": {
              "type": "string"
            }
          },
          "metadata": {},
          "execution_count": 51
        }
      ]
    },
    {
      "cell_type": "code",
      "source": [
        "Name[0:5:2]"
      ],
      "metadata": {
        "id": "txuVdF_QHTT6",
        "outputId": "74cdf071-0158-4a95-f6c0-35c737f08a9e",
        "colab": {
          "base_uri": "https://localhost:8080/",
          "height": 35
        }
      },
      "execution_count": 52,
      "outputs": [
        {
          "output_type": "execute_result",
          "data": {
            "text/plain": [
              "'Mca'"
            ],
            "application/vnd.google.colaboratory.intrinsic+json": {
              "type": "string"
            }
          },
          "metadata": {},
          "execution_count": 52
        }
      ]
    },
    {
      "cell_type": "code",
      "source": [
        "len(\"Michael Jackson\")"
      ],
      "metadata": {
        "id": "_MM9nPOtHYdC",
        "outputId": "0d10387a-1597-4e98-92ae-d5b5c658a780",
        "colab": {
          "base_uri": "https://localhost:8080/"
        }
      },
      "execution_count": 53,
      "outputs": [
        {
          "output_type": "execute_result",
          "data": {
            "text/plain": [
              "15"
            ]
          },
          "metadata": {},
          "execution_count": 53
        }
      ]
    },
    {
      "cell_type": "code",
      "source": [
        "Name = \"Michael Jackson\""
      ],
      "metadata": {
        "id": "MConSfiSHr5T"
      },
      "execution_count": 54,
      "outputs": []
    },
    {
      "cell_type": "code",
      "source": [
        "Statement = Name + \" is the best\""
      ],
      "metadata": {
        "id": "d6azMvHQHumU"
      },
      "execution_count": 55,
      "outputs": []
    },
    {
      "cell_type": "code",
      "source": [
        "Statement"
      ],
      "metadata": {
        "id": "oE6UNRU2HyMZ",
        "outputId": "0648c08a-a8b5-4ece-cbf8-ad46f05f72c4",
        "colab": {
          "base_uri": "https://localhost:8080/",
          "height": 35
        }
      },
      "execution_count": 56,
      "outputs": [
        {
          "output_type": "execute_result",
          "data": {
            "text/plain": [
              "'Michael Jackson is the best'"
            ],
            "application/vnd.google.colaboratory.intrinsic+json": {
              "type": "string"
            }
          },
          "metadata": {},
          "execution_count": 56
        }
      ]
    },
    {
      "cell_type": "code",
      "source": [
        "3 * \"Michael Jackson \""
      ],
      "metadata": {
        "id": "ev5XUgUFJ0U8",
        "outputId": "71648324-c04c-4107-9d5e-a8dc36a5a7ba",
        "colab": {
          "base_uri": "https://localhost:8080/",
          "height": 35
        }
      },
      "execution_count": 58,
      "outputs": [
        {
          "output_type": "execute_result",
          "data": {
            "text/plain": [
              "'Michael Jackson Michael Jackson Michael Jackson '"
            ],
            "application/vnd.google.colaboratory.intrinsic+json": {
              "type": "string"
            }
          },
          "metadata": {},
          "execution_count": 58
        }
      ]
    },
    {
      "cell_type": "code",
      "source": [
        "Name = \"Michael Jackson\"\n",
        "Name[0]"
      ],
      "metadata": {
        "id": "7I3va4k-K6qz",
        "outputId": "fc09466c-80f1-4929-d20a-ffed972c6c0f",
        "colab": {
          "base_uri": "https://localhost:8080/",
          "height": 35
        }
      },
      "execution_count": 62,
      "outputs": [
        {
          "output_type": "execute_result",
          "data": {
            "text/plain": [
              "'M'"
            ],
            "application/vnd.google.colaboratory.intrinsic+json": {
              "type": "string"
            }
          },
          "metadata": {},
          "execution_count": 62
        }
      ]
    },
    {
      "cell_type": "code",
      "source": [
        "Name = Name + \" is the best\"\n",
        "Name"
      ],
      "metadata": {
        "id": "wNBx6q96LDwy",
        "outputId": "750a9587-9097-424c-cf4f-893f511edc4b",
        "colab": {
          "base_uri": "https://localhost:8080/",
          "height": 35
        }
      },
      "execution_count": 63,
      "outputs": [
        {
          "output_type": "execute_result",
          "data": {
            "text/plain": [
              "'Michael Jackson is the best'"
            ],
            "application/vnd.google.colaboratory.intrinsic+json": {
              "type": "string"
            }
          },
          "metadata": {},
          "execution_count": 63
        }
      ]
    },
    {
      "cell_type": "code",
      "source": [
        "print(\"Michael Jackson \\n is the best\")"
      ],
      "metadata": {
        "id": "p_67foDlLa7N",
        "outputId": "bae024a3-e544-4534-828f-7ceae499450c",
        "colab": {
          "base_uri": "https://localhost:8080/"
        }
      },
      "execution_count": 66,
      "outputs": [
        {
          "output_type": "stream",
          "name": "stdout",
          "text": [
            "Michael Jackson \n",
            " is the best\n"
          ]
        }
      ]
    },
    {
      "cell_type": "code",
      "source": [
        "print(\"Michael Jackson \\t is the best\")"
      ],
      "metadata": {
        "id": "kgYrR2NcdrO9",
        "outputId": "8823408a-1bfb-4b73-a53b-d2321ab9b919",
        "colab": {
          "base_uri": "https://localhost:8080/"
        }
      },
      "execution_count": 67,
      "outputs": [
        {
          "output_type": "stream",
          "name": "stdout",
          "text": [
            "Michael Jackson \t is the best\n"
          ]
        }
      ]
    },
    {
      "cell_type": "code",
      "source": [
        "print(\"Michael Jackson \\\\ is the best\")"
      ],
      "metadata": {
        "id": "jPhh548Md6BU",
        "outputId": "431d47c2-e3d3-4ff4-f8d6-ce5eee7df7f5",
        "colab": {
          "base_uri": "https://localhost:8080/"
        }
      },
      "execution_count": 68,
      "outputs": [
        {
          "output_type": "stream",
          "name": "stdout",
          "text": [
            "Michael Jackson \\ is the best\n"
          ]
        }
      ]
    },
    {
      "cell_type": "code",
      "source": [
        "print(r\"Michael Jackson \\ is the best\")"
      ],
      "metadata": {
        "id": "FIwaGt4Bd8SN",
        "outputId": "1d03eee5-fda1-4643-c654-e185219e2d2a",
        "colab": {
          "base_uri": "https://localhost:8080/"
        }
      },
      "execution_count": 69,
      "outputs": [
        {
          "output_type": "stream",
          "name": "stdout",
          "text": [
            "Michael Jackson \\ is the best\n"
          ]
        }
      ]
    },
    {
      "cell_type": "code",
      "source": [
        "A = \"Thriller is the sixth studio album\"\n",
        "A"
      ],
      "metadata": {
        "id": "b8lx_7AUevFv",
        "outputId": "ce06b52f-39d1-4c03-a82a-78b0a91c54ba",
        "colab": {
          "base_uri": "https://localhost:8080/",
          "height": 35
        }
      },
      "execution_count": 71,
      "outputs": [
        {
          "output_type": "execute_result",
          "data": {
            "text/plain": [
              "'Thriller is the sixth studio album'"
            ],
            "application/vnd.google.colaboratory.intrinsic+json": {
              "type": "string"
            }
          },
          "metadata": {},
          "execution_count": 71
        }
      ]
    },
    {
      "cell_type": "code",
      "source": [
        "B = A.upper()\n",
        "B"
      ],
      "metadata": {
        "id": "zspKnBole6Gv",
        "outputId": "21f449d7-cd59-4182-d1a1-e4edbebb9359",
        "colab": {
          "base_uri": "https://localhost:8080/",
          "height": 35
        }
      },
      "execution_count": 72,
      "outputs": [
        {
          "output_type": "execute_result",
          "data": {
            "text/plain": [
              "'THRILLER IS THE SIXTH STUDIO ALBUM'"
            ],
            "application/vnd.google.colaboratory.intrinsic+json": {
              "type": "string"
            }
          },
          "metadata": {},
          "execution_count": 72
        }
      ]
    },
    {
      "cell_type": "code",
      "source": [
        "A = \"Michael Jackson is the best\"\n",
        "B = A.replace(\"Michael\", \"Janet\")\n",
        "B"
      ],
      "metadata": {
        "id": "JtthZgFQoqNd",
        "outputId": "d91c9ed8-4313-4532-ced4-9e09b352ea18",
        "colab": {
          "base_uri": "https://localhost:8080/",
          "height": 35
        }
      },
      "execution_count": 74,
      "outputs": [
        {
          "output_type": "execute_result",
          "data": {
            "text/plain": [
              "'Janet Jackson is the best'"
            ],
            "application/vnd.google.colaboratory.intrinsic+json": {
              "type": "string"
            }
          },
          "metadata": {},
          "execution_count": 74
        }
      ]
    },
    {
      "cell_type": "code",
      "source": [
        "Name = \"Michael Jackson\"\n",
        "print(Name.find(\"el\"))\n",
        "print(Name.find(\"Jack\"))\n",
        "print(Name.find(\"&*D\"))"
      ],
      "metadata": {
        "id": "IH2_Lr-Ro4-0",
        "outputId": "74201cd4-a5c0-4373-fc3b-8b657acc4967",
        "colab": {
          "base_uri": "https://localhost:8080/"
        }
      },
      "execution_count": 77,
      "outputs": [
        {
          "output_type": "stream",
          "name": "stdout",
          "text": [
            "5\n",
            "8\n",
            "-1\n"
          ]
        }
      ]
    },
    {
      "cell_type": "markdown",
      "source": [
        "QUESTION 1\n",
        "1/1 point (ungraded)\n",
        "Consider the following string:\n",
        "\n",
        "Numbers = \"0123456\"\n",
        "How would you obtain the even elements?"
      ],
      "metadata": {
        "id": "it6uDJk6pcb7"
      }
    },
    {
      "cell_type": "code",
      "source": [
        "Numbers = \"0123456\"\n",
        "print(Numbers[::2])"
      ],
      "metadata": {
        "id": "xvv14HEKpd3o",
        "outputId": "e8f86b79-9288-4c60-f590-b8ce8b96ad63",
        "colab": {
          "base_uri": "https://localhost:8080/"
        }
      },
      "execution_count": 80,
      "outputs": [
        {
          "output_type": "stream",
          "name": "stdout",
          "text": [
            "0246\n"
          ]
        }
      ]
    },
    {
      "cell_type": "markdown",
      "source": [
        "QUESTION 2\n",
        "1 point possible (ungraded)\n",
        "What is the result of the following line of code:\n",
        "\n",
        "\"0123456\".find('1')"
      ],
      "metadata": {
        "id": "s0RxqeeCpsMP"
      }
    },
    {
      "cell_type": "code",
      "source": [
        "\"0123456\".find('1')"
      ],
      "metadata": {
        "id": "FVHR5xrgptsI",
        "outputId": "791d54e6-0a73-4ba4-f714-2d6ed82a9adf",
        "colab": {
          "base_uri": "https://localhost:8080/"
        }
      },
      "execution_count": 81,
      "outputs": [
        {
          "output_type": "execute_result",
          "data": {
            "text/plain": [
              "1"
            ]
          },
          "metadata": {},
          "execution_count": 81
        }
      ]
    },
    {
      "cell_type": "markdown",
      "source": [
        "Review Question 1\n",
        "1 point possible (graded)\n",
        "What is the result of the following operation in Python:\n",
        "\n",
        "3 + 2 * 2"
      ],
      "metadata": {
        "id": "blkCVVEup8Au"
      }
    },
    {
      "cell_type": "code",
      "source": [
        "3 + 2 * 2"
      ],
      "metadata": {
        "id": "eJ141-Y-p9Fx",
        "outputId": "3a1e42e7-0a84-4207-a44d-b7a84c6124cb",
        "colab": {
          "base_uri": "https://localhost:8080/"
        }
      },
      "execution_count": 82,
      "outputs": [
        {
          "output_type": "execute_result",
          "data": {
            "text/plain": [
              "7"
            ]
          },
          "metadata": {},
          "execution_count": 82
        }
      ]
    },
    {
      "cell_type": "markdown",
      "source": [
        "Review Question 2 \n",
        "1 point possible (graded)\n",
        "In Python, if you executed name = 'Lizz', what would be the output of print(name[0:2])?"
      ],
      "metadata": {
        "id": "BhpdBI9JqA48"
      }
    },
    {
      "cell_type": "code",
      "source": [
        "name = 'Lizz'\n",
        "print(name[0:2])"
      ],
      "metadata": {
        "id": "T2lUDLtoqCNw",
        "outputId": "b28fdb9b-a3e6-44d4-95b2-c7cd955e96b8",
        "colab": {
          "base_uri": "https://localhost:8080/"
        }
      },
      "execution_count": 83,
      "outputs": [
        {
          "output_type": "stream",
          "name": "stdout",
          "text": [
            "Li\n"
          ]
        }
      ]
    },
    {
      "cell_type": "markdown",
      "source": [
        "Review Question 3\n",
        "1 point possible (graded)\n",
        "In Python, if you executed var = '01234567', what would be the result of print(var[::2])?"
      ],
      "metadata": {
        "id": "4af_baTrqQ3_"
      }
    },
    {
      "cell_type": "code",
      "source": [
        "var = '01234567'\n",
        "print(var[::2])"
      ],
      "metadata": {
        "id": "8uSsl5zBqSS7",
        "outputId": "1e35e71a-6435-4cfb-fc3e-252650a9fcac",
        "colab": {
          "base_uri": "https://localhost:8080/"
        }
      },
      "execution_count": 84,
      "outputs": [
        {
          "output_type": "stream",
          "name": "stdout",
          "text": [
            "0246\n"
          ]
        }
      ]
    },
    {
      "cell_type": "markdown",
      "source": [
        "Review Question 4\n",
        "1 point possible (graded)\n",
        "In Python, what is the result of the following operation '1'+'2'?\n",
        "\n",
        "\n"
      ],
      "metadata": {
        "id": "Z8I7pZkAqfJH"
      }
    },
    {
      "cell_type": "code",
      "source": [
        "'1'+'2'"
      ],
      "metadata": {
        "id": "ssVkwbcVqinQ",
        "outputId": "fe22cb26-8eff-4c9f-df6f-34414cec3906",
        "colab": {
          "base_uri": "https://localhost:8080/",
          "height": 35
        }
      },
      "execution_count": 86,
      "outputs": [
        {
          "output_type": "execute_result",
          "data": {
            "text/plain": [
              "'12'"
            ],
            "application/vnd.google.colaboratory.intrinsic+json": {
              "type": "string"
            }
          },
          "metadata": {},
          "execution_count": 86
        }
      ]
    },
    {
      "cell_type": "markdown",
      "source": [
        "Review Question 5\n",
        "1 point possible (graded)\n",
        "Given myvar = 'hello', how would you convert myvar into uppercase?"
      ],
      "metadata": {
        "id": "2Mn1i4OhqsXf"
      }
    },
    {
      "cell_type": "code",
      "source": [
        "myvar = 'hello'\n",
        "myvar.upper()"
      ],
      "metadata": {
        "id": "IutqSPFNqtgm",
        "outputId": "e6f6da23-d611-46b0-b766-30d329d2170e",
        "colab": {
          "base_uri": "https://localhost:8080/",
          "height": 35
        }
      },
      "execution_count": 87,
      "outputs": [
        {
          "output_type": "execute_result",
          "data": {
            "text/plain": [
              "'HELLO'"
            ],
            "application/vnd.google.colaboratory.intrinsic+json": {
              "type": "string"
            }
          },
          "metadata": {},
          "execution_count": 87
        }
      ]
    },
    {
      "cell_type": "markdown",
      "source": [
        "# **Module 2.- Python Data Structures**"
      ],
      "metadata": {
        "id": "sTVrzasuq8c3"
      }
    },
    {
      "cell_type": "markdown",
      "source": [
        "**2.1.- Lists and tuples**"
      ],
      "metadata": {
        "id": "P_md9zMTrKEq"
      }
    },
    {
      "cell_type": "code",
      "source": [
        "Ratings = (10,9,6,5,10,8,9,6,2)"
      ],
      "metadata": {
        "id": "Kdlxqb1LrQ3z"
      },
      "execution_count": 88,
      "outputs": []
    },
    {
      "cell_type": "code",
      "source": [
        "tuple1 = (\"disco\", 10, 1.2)\n",
        "type(tuple1)"
      ],
      "metadata": {
        "id": "AUyLzU6_sApz",
        "outputId": "334fb96f-dc50-415b-97d4-4db732101cc4",
        "colab": {
          "base_uri": "https://localhost:8080/"
        }
      },
      "execution_count": 95,
      "outputs": [
        {
          "output_type": "execute_result",
          "data": {
            "text/plain": [
              "tuple"
            ]
          },
          "metadata": {},
          "execution_count": 95
        }
      ]
    },
    {
      "cell_type": "code",
      "source": [
        "print(tuple1[0])\n",
        "print(tuple1[1])\n",
        "print(tuple1[2])"
      ],
      "metadata": {
        "id": "8-7iz0cvsNQ5",
        "outputId": "f72aa86e-d359-45e7-e56b-72133d35dc54",
        "colab": {
          "base_uri": "https://localhost:8080/"
        }
      },
      "execution_count": 96,
      "outputs": [
        {
          "output_type": "stream",
          "name": "stdout",
          "text": [
            "disco\n",
            "10\n",
            "1.2\n"
          ]
        }
      ]
    },
    {
      "cell_type": "code",
      "source": [
        "print(tuple1[-3])\n",
        "print(tuple1[-2])\n",
        "print(tuple1[-1])"
      ],
      "metadata": {
        "id": "KMum8NSusZhZ",
        "outputId": "811bdb1d-9b76-4cea-fba4-204230a659a9",
        "colab": {
          "base_uri": "https://localhost:8080/"
        }
      },
      "execution_count": 97,
      "outputs": [
        {
          "output_type": "stream",
          "name": "stdout",
          "text": [
            "disco\n",
            "10\n",
            "1.2\n"
          ]
        }
      ]
    },
    {
      "cell_type": "code",
      "source": [
        "tuple2 = tuple1 + (\"hard rock\", 10)\n",
        "tuple2"
      ],
      "metadata": {
        "id": "UrdWLMGSsf0k",
        "outputId": "d6c81e92-75d2-4770-80df-2552d27d6042",
        "colab": {
          "base_uri": "https://localhost:8080/"
        }
      },
      "execution_count": 98,
      "outputs": [
        {
          "output_type": "execute_result",
          "data": {
            "text/plain": [
              "('disco', 10, 1.2, 'hard rock', 10)"
            ]
          },
          "metadata": {},
          "execution_count": 98
        }
      ]
    },
    {
      "cell_type": "code",
      "source": [
        "tuple2[0:3]"
      ],
      "metadata": {
        "id": "QzW0czWRsquw",
        "outputId": "ce2b226c-08f8-4042-c3f2-39fa38fc9270",
        "colab": {
          "base_uri": "https://localhost:8080/"
        }
      },
      "execution_count": 99,
      "outputs": [
        {
          "output_type": "execute_result",
          "data": {
            "text/plain": [
              "('disco', 10, 1.2)"
            ]
          },
          "metadata": {},
          "execution_count": 99
        }
      ]
    },
    {
      "cell_type": "code",
      "source": [
        "tuple2[3:5]"
      ],
      "metadata": {
        "id": "FYSuqSDws2Jg",
        "outputId": "783df234-544d-4db3-b8b0-9a53a7c7f4ce",
        "colab": {
          "base_uri": "https://localhost:8080/"
        }
      },
      "execution_count": 100,
      "outputs": [
        {
          "output_type": "execute_result",
          "data": {
            "text/plain": [
              "('hard rock', 10)"
            ]
          },
          "metadata": {},
          "execution_count": 100
        }
      ]
    },
    {
      "cell_type": "code",
      "source": [
        "len(('disco', 10, 1.2, 'hard rock', 10))"
      ],
      "metadata": {
        "id": "l2tpl6P4s4FB",
        "outputId": "370f2e2e-21e7-4b20-caa2-a9154c65a118",
        "colab": {
          "base_uri": "https://localhost:8080/"
        }
      },
      "execution_count": 101,
      "outputs": [
        {
          "output_type": "execute_result",
          "data": {
            "text/plain": [
              "5"
            ]
          },
          "metadata": {},
          "execution_count": 101
        }
      ]
    },
    {
      "cell_type": "code",
      "source": [
        "Ratings1 = Ratings\n",
        "Ratings[2] = 4"
      ],
      "metadata": {
        "id": "cpfqyaD-tNUG",
        "outputId": "b8433e36-15d8-4aa3-efef-05fdd1102154",
        "colab": {
          "base_uri": "https://localhost:8080/",
          "height": 193
        }
      },
      "execution_count": 103,
      "outputs": [
        {
          "output_type": "error",
          "ename": "TypeError",
          "evalue": "ignored",
          "traceback": [
            "\u001b[0;31m---------------------------------------------------------------------------\u001b[0m",
            "\u001b[0;31mTypeError\u001b[0m                                 Traceback (most recent call last)",
            "\u001b[0;32m<ipython-input-103-5f4441bc75a5>\u001b[0m in \u001b[0;36m<module>\u001b[0;34m\u001b[0m\n\u001b[1;32m      1\u001b[0m \u001b[0mRatings1\u001b[0m \u001b[0;34m=\u001b[0m \u001b[0mRatings\u001b[0m\u001b[0;34m\u001b[0m\u001b[0;34m\u001b[0m\u001b[0m\n\u001b[0;32m----> 2\u001b[0;31m \u001b[0mRatings\u001b[0m\u001b[0;34m[\u001b[0m\u001b[0;36m2\u001b[0m\u001b[0;34m]\u001b[0m \u001b[0;34m=\u001b[0m \u001b[0;36m4\u001b[0m\u001b[0;34m\u001b[0m\u001b[0;34m\u001b[0m\u001b[0m\n\u001b[0m",
            "\u001b[0;31mTypeError\u001b[0m: 'tuple' object does not support item assignment"
          ]
        }
      ]
    },
    {
      "cell_type": "code",
      "source": [
        "Ratings = (2, 10, 1)"
      ],
      "metadata": {
        "id": "Fg4a5lU5tYAY"
      },
      "execution_count": 104,
      "outputs": []
    },
    {
      "cell_type": "code",
      "source": [
        "Ratings1"
      ],
      "metadata": {
        "id": "JWH-o3uatogi",
        "outputId": "ec1b697a-0389-4958-eb40-bc6cfb023f15",
        "colab": {
          "base_uri": "https://localhost:8080/"
        }
      },
      "execution_count": 105,
      "outputs": [
        {
          "output_type": "execute_result",
          "data": {
            "text/plain": [
              "(10, 9, 6, 5, 10, 8, 9, 6, 2)"
            ]
          },
          "metadata": {},
          "execution_count": 105
        }
      ]
    },
    {
      "cell_type": "code",
      "source": [
        "RatingsSorted = sorted(Ratings1)\n",
        "RatingsSorted"
      ],
      "metadata": {
        "id": "ch1MUFL1u2ii",
        "outputId": "0c0e28b7-e905-4613-f098-bbfb509ed421",
        "colab": {
          "base_uri": "https://localhost:8080/"
        }
      },
      "execution_count": 107,
      "outputs": [
        {
          "output_type": "execute_result",
          "data": {
            "text/plain": [
              "[2, 5, 6, 6, 8, 9, 9, 10, 10]"
            ]
          },
          "metadata": {},
          "execution_count": 107
        }
      ]
    },
    {
      "cell_type": "code",
      "source": [
        "NT = (1,2,(\"pop\",\"rock\"),(3,4),(\"disco\", (1,2)))\n",
        "print(NT[2])\n",
        "print(NT[2][1])\n",
        "print(NT[4][1][1])"
      ],
      "metadata": {
        "id": "hAuxp6BsvFsy",
        "outputId": "86c0ded0-70bf-4879-8ab8-29cd73301382",
        "colab": {
          "base_uri": "https://localhost:8080/"
        }
      },
      "execution_count": 111,
      "outputs": [
        {
          "output_type": "stream",
          "name": "stdout",
          "text": [
            "('pop', 'rock')\n",
            "rock\n",
            "2\n"
          ]
        }
      ]
    },
    {
      "cell_type": "code",
      "source": [
        "L = [\"Michael Jackson\", 10.1, 1982]"
      ],
      "metadata": {
        "id": "q3WBn842vtRe"
      },
      "execution_count": 112,
      "outputs": []
    },
    {
      "cell_type": "code",
      "source": [
        "L = [\"Michael Jackson\", 10.1, 1982, [1,2], ('A', 1)]"
      ],
      "metadata": {
        "id": "NuQh7PQLv5Fj"
      },
      "execution_count": 113,
      "outputs": []
    },
    {
      "cell_type": "code",
      "source": [
        "print(L[0])\n",
        "print(L[1])\n",
        "print(L[2])"
      ],
      "metadata": {
        "id": "_s1-9z1awGjt",
        "outputId": "2db8c8f8-7246-4e56-9c04-5311078425be",
        "colab": {
          "base_uri": "https://localhost:8080/"
        }
      },
      "execution_count": 114,
      "outputs": [
        {
          "output_type": "stream",
          "name": "stdout",
          "text": [
            "Michael Jackson\n",
            "10.1\n",
            "1982\n"
          ]
        }
      ]
    },
    {
      "cell_type": "code",
      "source": [
        "print(L[-5])\n",
        "print(L[-4])\n",
        "print(L[-3])"
      ],
      "metadata": {
        "id": "rYELK3A7wN4C",
        "outputId": "960ab892-d0ff-4ce0-df6d-e2fd4a9b5945",
        "colab": {
          "base_uri": "https://localhost:8080/"
        }
      },
      "execution_count": 115,
      "outputs": [
        {
          "output_type": "stream",
          "name": "stdout",
          "text": [
            "Michael Jackson\n",
            "10.1\n",
            "1982\n"
          ]
        }
      ]
    },
    {
      "cell_type": "code",
      "source": [
        "L = [\"Michael Jackson\", 10.1, 1982, \"MJ\", 1]\n",
        "L[3:5]"
      ],
      "metadata": {
        "id": "eCkLoGRJwaNS",
        "outputId": "56f8569d-5433-434d-98f4-63d3c05fc312",
        "colab": {
          "base_uri": "https://localhost:8080/"
        }
      },
      "execution_count": 117,
      "outputs": [
        {
          "output_type": "execute_result",
          "data": {
            "text/plain": [
              "['MJ', 1]"
            ]
          },
          "metadata": {},
          "execution_count": 117
        }
      ]
    },
    {
      "cell_type": "code",
      "source": [
        "L1 = L + [\"pop\", 10]\n",
        "L1"
      ],
      "metadata": {
        "id": "cijM1y6Qwmii",
        "outputId": "e4e0cf72-fe85-4b4d-9a5a-f6219f16e308",
        "colab": {
          "base_uri": "https://localhost:8080/"
        }
      },
      "execution_count": 118,
      "outputs": [
        {
          "output_type": "execute_result",
          "data": {
            "text/plain": [
              "['Michael Jackson', 10.1, 1982, 'MJ', 1, 'pop', 10]"
            ]
          },
          "metadata": {},
          "execution_count": 118
        }
      ]
    },
    {
      "cell_type": "code",
      "source": [
        "L = [\"Michael Jackson\", 10.1, 1982]\n",
        "L.extend([\"pop\", 10])\n",
        "L"
      ],
      "metadata": {
        "id": "PJ8CH-2bw79u",
        "outputId": "79877d0a-6ac6-4c40-d37f-4afc6178aa1c",
        "colab": {
          "base_uri": "https://localhost:8080/"
        }
      },
      "execution_count": 120,
      "outputs": [
        {
          "output_type": "execute_result",
          "data": {
            "text/plain": [
              "['Michael Jackson', 10.1, 1982, 'pop', 10]"
            ]
          },
          "metadata": {},
          "execution_count": 120
        }
      ]
    },
    {
      "cell_type": "code",
      "source": [
        "L = [\"Michael Jackson\", 10.1, 1982]\n",
        "L.append([\"pop\", 10])\n",
        "L"
      ],
      "metadata": {
        "id": "5b4TNPyexGV9",
        "outputId": "cccef7d9-31bc-4db9-957e-61e06a8d4e7d",
        "colab": {
          "base_uri": "https://localhost:8080/"
        }
      },
      "execution_count": 121,
      "outputs": [
        {
          "output_type": "execute_result",
          "data": {
            "text/plain": [
              "['Michael Jackson', 10.1, 1982, ['pop', 10]]"
            ]
          },
          "metadata": {},
          "execution_count": 121
        }
      ]
    },
    {
      "cell_type": "code",
      "source": [
        "A = [\"disco\", 10, 1.2]\n",
        "A[0] = \"hard rock\"\n",
        "A"
      ],
      "metadata": {
        "id": "jqSygqF3xPos",
        "outputId": "7fed86af-ecb9-42f7-89c9-483c6b0442ea",
        "colab": {
          "base_uri": "https://localhost:8080/"
        }
      },
      "execution_count": 122,
      "outputs": [
        {
          "output_type": "execute_result",
          "data": {
            "text/plain": [
              "['hard rock', 10, 1.2]"
            ]
          },
          "metadata": {},
          "execution_count": 122
        }
      ]
    },
    {
      "cell_type": "code",
      "source": [
        "del[A[0]]\n",
        "A"
      ],
      "metadata": {
        "id": "QfzsuHw8xbQd",
        "outputId": "fc8b4bd1-3674-446c-8c41-e8420815c0e0",
        "colab": {
          "base_uri": "https://localhost:8080/"
        }
      },
      "execution_count": 123,
      "outputs": [
        {
          "output_type": "execute_result",
          "data": {
            "text/plain": [
              "[10, 1.2]"
            ]
          },
          "metadata": {},
          "execution_count": 123
        }
      ]
    },
    {
      "cell_type": "code",
      "source": [
        "del[A[1]]\n",
        "A"
      ],
      "metadata": {
        "id": "11YlW6mDxh9C",
        "outputId": "97918ce8-1cb3-4162-a474-0380900bab63",
        "colab": {
          "base_uri": "https://localhost:8080/"
        }
      },
      "execution_count": 125,
      "outputs": [
        {
          "output_type": "execute_result",
          "data": {
            "text/plain": [
              "[10]"
            ]
          },
          "metadata": {},
          "execution_count": 125
        }
      ]
    },
    {
      "cell_type": "code",
      "source": [
        "print(\"hard rock\".split())\n",
        "print(\"A,B,C,D\".split(\",\"))"
      ],
      "metadata": {
        "id": "wNdl5CMzxoXu",
        "outputId": "40c38bd1-db67-4c48-fb77-c3034fd2c1c9",
        "colab": {
          "base_uri": "https://localhost:8080/"
        }
      },
      "execution_count": 128,
      "outputs": [
        {
          "output_type": "stream",
          "name": "stdout",
          "text": [
            "['hard', 'rock']\n",
            "['A', 'B', 'C', 'D']\n"
          ]
        }
      ]
    },
    {
      "cell_type": "code",
      "source": [
        "A = [\"hard rock\", 10, 1.2]\n",
        "B = A\n",
        "print(B[0])\n",
        "A[0] = \"banana\"\n",
        "print(B[0])"
      ],
      "metadata": {
        "id": "MUGcDnG7yDHi",
        "outputId": "cb3c6315-04bd-4fa5-c99d-29a139fe9a08",
        "colab": {
          "base_uri": "https://localhost:8080/"
        }
      },
      "execution_count": 130,
      "outputs": [
        {
          "output_type": "stream",
          "name": "stdout",
          "text": [
            "hard rock\n",
            "banana\n"
          ]
        }
      ]
    },
    {
      "cell_type": "code",
      "source": [
        "A = [\"hard rock\", 10, 1.2]\n",
        "B = A[:]\n",
        "print(B[0])\n",
        "A[0] = \"banana\"\n",
        "print(B[0])"
      ],
      "metadata": {
        "id": "z-MRvAQbycxl",
        "outputId": "219f2aae-2b9a-4263-c8d1-da6518f97fd4",
        "colab": {
          "base_uri": "https://localhost:8080/"
        }
      },
      "execution_count": 131,
      "outputs": [
        {
          "output_type": "stream",
          "name": "stdout",
          "text": [
            "hard rock\n",
            "hard rock\n"
          ]
        }
      ]
    },
    {
      "cell_type": "markdown",
      "source": [
        "QUESTION 1\n",
        "1 point possible (ungraded)\n",
        "How do you access the last element of the following tuple: A=(0,1,2,3)? Select all possible correct answers."
      ],
      "metadata": {
        "id": "Gh__EbfSypcY"
      }
    },
    {
      "cell_type": "code",
      "source": [
        "A=(0,1,2,3)\n",
        "print(A[-1])\n",
        "print(A[3])"
      ],
      "metadata": {
        "id": "3_W2tjAOysMU",
        "outputId": "85927261-dc0b-4dbc-96e3-e6d8e171a4f8",
        "colab": {
          "base_uri": "https://localhost:8080/"
        }
      },
      "execution_count": 136,
      "outputs": [
        {
          "output_type": "stream",
          "name": "stdout",
          "text": [
            "3\n",
            "3\n"
          ]
        }
      ]
    },
    {
      "cell_type": "markdown",
      "source": [
        "QUESTION 2\n",
        "1 point possible (ungraded)\n",
        "Consider the list: B=[\"a\",\"b\",\"c\"].\n",
        "\n",
        "What is the result of the following B[1:]?"
      ],
      "metadata": {
        "id": "mmBs84eIzGCt"
      }
    },
    {
      "cell_type": "code",
      "source": [
        "B=[\"a\",\"b\",\"c\"]\n",
        "B[1:]"
      ],
      "metadata": {
        "id": "Z5YFHC63zG-r",
        "outputId": "6324c1fa-66a2-4a19-c3b9-25688b6c2479",
        "colab": {
          "base_uri": "https://localhost:8080/"
        }
      },
      "execution_count": 137,
      "outputs": [
        {
          "output_type": "execute_result",
          "data": {
            "text/plain": [
              "['b', 'c']"
            ]
          },
          "metadata": {},
          "execution_count": 137
        }
      ]
    },
    {
      "cell_type": "code",
      "source": [
        "Set1 = {\"pop\", \"rock\", \"soul\", \"hard rock\", \"rock\", \"R&B\", \"rock\", \"disco\"}\n",
        "Set1"
      ],
      "metadata": {
        "id": "LQCJkXS3zsfI",
        "outputId": "8b0e59a5-c79b-4cfa-e728-a46b44694c36",
        "colab": {
          "base_uri": "https://localhost:8080/"
        }
      },
      "execution_count": 142,
      "outputs": [
        {
          "output_type": "execute_result",
          "data": {
            "text/plain": [
              "{'R&B', 'disco', 'hard rock', 'pop', 'rock', 'soul'}"
            ]
          },
          "metadata": {},
          "execution_count": 142
        }
      ]
    },
    {
      "cell_type": "code",
      "source": [
        "album_list = [\"Michael Jackson\", \"Thriller\", \"Thriller\", 1982]\n",
        "print(album_list)\n",
        "album_set = set(album_list)\n",
        "print(album_set)"
      ],
      "metadata": {
        "id": "zUkjEeWI07tN",
        "outputId": "4656b7a4-6fcd-46e8-a429-8fe98bc56249",
        "colab": {
          "base_uri": "https://localhost:8080/"
        }
      },
      "execution_count": 145,
      "outputs": [
        {
          "output_type": "stream",
          "name": "stdout",
          "text": [
            "['Michael Jackson', 'Thriller', 'Thriller', 1982]\n",
            "{'Thriller', 'Michael Jackson', 1982}\n"
          ]
        }
      ]
    },
    {
      "cell_type": "code",
      "source": [
        "A = {\"Thriller\", \"Back in Black\", \"AC/DC\"}\n",
        "print(A)\n",
        "A.add(\"NSYNC\")\n",
        "print(A)\n",
        "A.remove(\"NSYNC\")\n",
        "print(A)\n",
        "print(\"AC/DC\" in A)\n",
        "print(\"Who\" in A)"
      ],
      "metadata": {
        "id": "SkMzeUoy1RZs",
        "outputId": "145f54c3-aa30-433d-b4f6-9185baa625a7",
        "colab": {
          "base_uri": "https://localhost:8080/"
        }
      },
      "execution_count": 150,
      "outputs": [
        {
          "output_type": "stream",
          "name": "stdout",
          "text": [
            "{'Thriller', 'AC/DC', 'Back in Black'}\n",
            "{'Thriller', 'AC/DC', 'Back in Black', 'NSYNC'}\n",
            "{'Thriller', 'AC/DC', 'Back in Black'}\n",
            "True\n",
            "False\n"
          ]
        }
      ]
    },
    {
      "cell_type": "code",
      "source": [
        "album_set_1 = {\"AC/DC\", \"Back in Black\", \"Thriller\"}\n",
        "album_set_2 = {\"AC/DC\", \"Back in Black\", \"The Dark Side of the Moon\"}\n",
        "print(album_set_1 & album_set_2)\n",
        "print(album_set_1.union(album_set_2))\n",
        "album_set_3 = {\"AC/DC\", \"Back in Black\"}\n",
        "print(album_set_3.issubset(album_set_1))"
      ],
      "metadata": {
        "id": "ZdnXd_wN19QY",
        "outputId": "d9c6b9fb-9748-4518-90da-4d8a95b9c6f2",
        "colab": {
          "base_uri": "https://localhost:8080/"
        }
      },
      "execution_count": 155,
      "outputs": [
        {
          "output_type": "stream",
          "name": "stdout",
          "text": [
            "{'AC/DC', 'Back in Black'}\n",
            "{'The Dark Side of the Moon', 'AC/DC', 'Back in Black', 'Thriller'}\n",
            "True\n"
          ]
        }
      ]
    },
    {
      "cell_type": "markdown",
      "source": [
        "QUESTION 1\n",
        "1 point possible (ungraded)\n",
        "What is the result of the following lines of code:\n",
        "\n",
        "S={'A','B','C'}\n",
        "\n",
        "U={'A','Z','C'}\n",
        "\n",
        "U.union(S)"
      ],
      "metadata": {
        "id": "5DIXtuN724lc"
      }
    },
    {
      "cell_type": "code",
      "source": [
        "S={'A','B','C'}\n",
        "U={'A','Z','C'}\n",
        "U.union(S)"
      ],
      "metadata": {
        "id": "Lk7lH9Qz25rC",
        "outputId": "3bb02f14-d129-405b-8b56-2698a06a106b",
        "colab": {
          "base_uri": "https://localhost:8080/"
        }
      },
      "execution_count": 156,
      "outputs": [
        {
          "output_type": "execute_result",
          "data": {
            "text/plain": [
              "{'A', 'B', 'C', 'Z'}"
            ]
          },
          "metadata": {},
          "execution_count": 156
        }
      ]
    },
    {
      "cell_type": "markdown",
      "source": [
        "QUESTION 2\n",
        "1 point possible (ungraded)\n",
        "What is the intersection of set S and U?\n",
        "\n",
        "S={'A','B','C'}\n",
        "\n",
        "U={'A','Z','C'}"
      ],
      "metadata": {
        "id": "XObdNf_L3BgX"
      }
    },
    {
      "cell_type": "code",
      "source": [
        "S={'A','B','C'}\n",
        "U={'A','Z','C'}\n",
        "S & U"
      ],
      "metadata": {
        "id": "p3F49m0y3Ckk",
        "outputId": "ee9279b5-2793-4d71-f1f3-54d718aedaf0",
        "colab": {
          "base_uri": "https://localhost:8080/"
        }
      },
      "execution_count": 157,
      "outputs": [
        {
          "output_type": "execute_result",
          "data": {
            "text/plain": [
              "{'A', 'C'}"
            ]
          },
          "metadata": {},
          "execution_count": 157
        }
      ]
    },
    {
      "cell_type": "code",
      "source": [
        "dict = {\"Thriller\": 1982, \"Back in Black\": 1980, \"The Dark Side of the Moon\": 1973, \"The bodyguard\": 1992, \"Bat Out of Hell\": 1977, \"Their Greatest...\" : 1976, \"Saturday Night Fever\": 1977, \"Rumours\": 1977}\n",
        "print(dict)\n",
        "print(dict[\"Thriller\"])\n",
        "dict[\"Graduation\"] = 2007\n",
        "print(dict)\n",
        "del(dict[\"Thriller\"])\n",
        "print(dict)\n",
        "print(\"The bodyguard\" in dict)\n",
        "print(\"Starboy\" in dict)"
      ],
      "metadata": {
        "id": "TUSWHMNO36_G",
        "outputId": "500e6d07-7fd8-4cd6-8cd9-f868eeb13305",
        "colab": {
          "base_uri": "https://localhost:8080/"
        }
      },
      "execution_count": 164,
      "outputs": [
        {
          "output_type": "stream",
          "name": "stdout",
          "text": [
            "{'Thriller': 1982, 'Back in Black': 1980, 'The Dark Side of the Moon': 1973, 'The bodyguard': 1992, 'Bat Out of Hell': 1977, 'Their Greatest...': 1976, 'Saturday Night Fever': 1977, 'Rumours': 1977}\n",
            "1982\n",
            "{'Thriller': 1982, 'Back in Black': 1980, 'The Dark Side of the Moon': 1973, 'The bodyguard': 1992, 'Bat Out of Hell': 1977, 'Their Greatest...': 1976, 'Saturday Night Fever': 1977, 'Rumours': 1977, 'Graduation': 2007}\n",
            "{'Back in Black': 1980, 'The Dark Side of the Moon': 1973, 'The bodyguard': 1992, 'Bat Out of Hell': 1977, 'Their Greatest...': 1976, 'Saturday Night Fever': 1977, 'Rumours': 1977, 'Graduation': 2007}\n",
            "True\n",
            "False\n"
          ]
        }
      ]
    },
    {
      "cell_type": "code",
      "source": [
        "print(dict.keys())\n",
        "print(dict.values())"
      ],
      "metadata": {
        "id": "MErmlXjc5oxF",
        "outputId": "4b7fe20a-7d10-48d1-d729-f2348964e9d7",
        "colab": {
          "base_uri": "https://localhost:8080/"
        }
      },
      "execution_count": 165,
      "outputs": [
        {
          "output_type": "stream",
          "name": "stdout",
          "text": [
            "dict_keys(['Back in Black', 'The Dark Side of the Moon', 'The bodyguard', 'Bat Out of Hell', 'Their Greatest...', 'Saturday Night Fever', 'Rumours', 'Graduation'])\n",
            "dict_values([1980, 1973, 1992, 1977, 1976, 1977, 1977, 2007])\n"
          ]
        }
      ]
    },
    {
      "cell_type": "markdown",
      "source": [
        "QUESTION 1\n",
        "1 point possible (ungraded)\n",
        "Consider the following dictionary:\n",
        "\n",
        "D = {'a':0,'b':1,'c':2}\n",
        "\n",
        "What is the result of the following: D.values()?"
      ],
      "metadata": {
        "id": "JlxOVobc5wn4"
      }
    },
    {
      "cell_type": "code",
      "source": [
        "D = {'a':0,'b':1,'c':2}\n",
        "D.values()"
      ],
      "metadata": {
        "id": "ZQGjamnk5x9h",
        "outputId": "cb30187f-18c3-443a-d57c-db84066d8520",
        "colab": {
          "base_uri": "https://localhost:8080/"
        }
      },
      "execution_count": 166,
      "outputs": [
        {
          "output_type": "execute_result",
          "data": {
            "text/plain": [
              "dict_values([0, 1, 2])"
            ]
          },
          "metadata": {},
          "execution_count": 166
        }
      ]
    },
    {
      "cell_type": "markdown",
      "source": [
        "QUESTION 2\n",
        "1 point possible (ungraded)\n",
        "Consider the following dictionary:\n",
        "\n",
        "D = {'a':0,'b':1,'c':2}\n",
        "What is the output of the following D['b']?"
      ],
      "metadata": {
        "id": "ymb30T_h5-2H"
      }
    },
    {
      "cell_type": "code",
      "source": [
        "D = {'a':0,'b':1,'c':2}\n",
        "D['b']"
      ],
      "metadata": {
        "id": "W2AioSTE5_zN",
        "outputId": "734e6b32-869f-4b7a-8562-e1f3bcddd577",
        "colab": {
          "base_uri": "https://localhost:8080/"
        }
      },
      "execution_count": 167,
      "outputs": [
        {
          "output_type": "execute_result",
          "data": {
            "text/plain": [
              "1"
            ]
          },
          "metadata": {},
          "execution_count": 167
        }
      ]
    },
    {
      "cell_type": "markdown",
      "source": [
        "Question 1\n",
        "1 point possible (graded)\n",
        "What is the syntax used to obtain the first element of the tuple:\n",
        "\n",
        "A = ('a','b','c')"
      ],
      "metadata": {
        "id": "i0ln51Ea6O18"
      }
    },
    {
      "cell_type": "code",
      "source": [
        "A = ('a','b','c')\n",
        "A[0]"
      ],
      "metadata": {
        "id": "6VV8rQtl6Q88",
        "outputId": "90e60421-2ab4-4134-a34f-ef395eae2572",
        "colab": {
          "base_uri": "https://localhost:8080/",
          "height": 35
        }
      },
      "execution_count": 170,
      "outputs": [
        {
          "output_type": "execute_result",
          "data": {
            "text/plain": [
              "'a'"
            ],
            "application/vnd.google.colaboratory.intrinsic+json": {
              "type": "string"
            }
          },
          "metadata": {},
          "execution_count": 170
        }
      ]
    },
    {
      "cell_type": "markdown",
      "source": [
        "Question 2\n",
        "1 point possible (graded)\n",
        "After applying the following method, L.append(['a','b']), the following list will only be one element longer."
      ],
      "metadata": {
        "id": "a0bNOxJ56cps"
      }
    },
    {
      "cell_type": "code",
      "source": [
        "L=[\"c\"]\n",
        "L.append(['a','b'])"
      ],
      "metadata": {
        "id": "8toHPV8R6fw1"
      },
      "execution_count": 171,
      "outputs": []
    },
    {
      "cell_type": "markdown",
      "source": [
        "Question 3\n",
        "1 point possible (graded)\n",
        "How many duplicate elements can you have in a set?"
      ],
      "metadata": {
        "id": "r-Yzk60q6r-U"
      }
    },
    {
      "cell_type": "code",
      "source": [
        "#0. You can only have one unique element in a set."
      ],
      "metadata": {
        "id": "OUUs0z8F6ux8"
      },
      "execution_count": null,
      "outputs": []
    },
    {
      "cell_type": "markdown",
      "source": [
        "Question 4\n",
        "1 point possible (graded)\n",
        "Consider the following Python dictionary:\n",
        "\n",
        "Dict={\"A\":1,\"B\":\"2\",\"C\":[3,3,3],\"D\":(4,4,4),'E':5,'F':6}\n",
        "\n",
        "What is the result of the following operation: Dict[\"D\"]?"
      ],
      "metadata": {
        "id": "JFh_V-YE61on"
      }
    },
    {
      "cell_type": "code",
      "source": [
        "Dict={\"A\":1,\"B\":\"2\",\"C\":[3,3,3],\"D\":(4,4,4),'E':5,'F':6}\n",
        "Dict[\"D\"]"
      ],
      "metadata": {
        "id": "So3sF-4o65WW",
        "outputId": "84e98fd6-bdaa-49f7-b123-bfd89b6dc0ac",
        "colab": {
          "base_uri": "https://localhost:8080/"
        }
      },
      "execution_count": 172,
      "outputs": [
        {
          "output_type": "execute_result",
          "data": {
            "text/plain": [
              "(4, 4, 4)"
            ]
          },
          "metadata": {},
          "execution_count": 172
        }
      ]
    },
    {
      "cell_type": "markdown",
      "source": [
        "# **Module 3.- Python Programming Fundamentals**"
      ],
      "metadata": {
        "id": "l4apgsEZ7gB_"
      }
    },
    {
      "cell_type": "markdown",
      "source": [
        "**3.1.- Conditions and Branching**"
      ],
      "metadata": {
        "id": "ljSyOOL57m5d"
      }
    },
    {
      "cell_type": "code",
      "source": [
        "a = 6\n",
        "print(a == 7)\n",
        "a = 6\n",
        "print(a == 6)"
      ],
      "metadata": {
        "id": "ROHKewkp7sim",
        "outputId": "ac47ce39-7152-42e9-9f69-007b45d64165",
        "colab": {
          "base_uri": "https://localhost:8080/"
        }
      },
      "execution_count": 175,
      "outputs": [
        {
          "output_type": "stream",
          "name": "stdout",
          "text": [
            "False\n",
            "True\n"
          ]
        }
      ]
    },
    {
      "cell_type": "code",
      "source": [
        "i = 6\n",
        "print(i > 5)"
      ],
      "metadata": {
        "id": "g5hWwR7q9VQu",
        "outputId": "c97ed7ff-8ff5-41f0-8f0f-e8634ca6d61a",
        "colab": {
          "base_uri": "https://localhost:8080/"
        }
      },
      "execution_count": 176,
      "outputs": [
        {
          "output_type": "stream",
          "name": "stdout",
          "text": [
            "True\n"
          ]
        }
      ]
    },
    {
      "cell_type": "code",
      "source": [
        "i = 5\n",
        "print(i >= 5)"
      ],
      "metadata": {
        "id": "nvUMwzn29fRD",
        "outputId": "27759991-3129-4ccc-8499-c139bfaefcac",
        "colab": {
          "base_uri": "https://localhost:8080/"
        }
      },
      "execution_count": 177,
      "outputs": [
        {
          "output_type": "stream",
          "name": "stdout",
          "text": [
            "True\n"
          ]
        }
      ]
    },
    {
      "cell_type": "code",
      "source": [
        "i = 2\n",
        "print(i >= 5)\n",
        "print(i < 6)"
      ],
      "metadata": {
        "id": "WlkmSXpm9lY1",
        "outputId": "5fa868a1-6d28-4a6d-b01a-e2ad6d5f1356",
        "colab": {
          "base_uri": "https://localhost:8080/"
        }
      },
      "execution_count": 179,
      "outputs": [
        {
          "output_type": "stream",
          "name": "stdout",
          "text": [
            "False\n",
            "True\n"
          ]
        }
      ]
    },
    {
      "cell_type": "code",
      "source": [
        "i = 2\n",
        "print(i!=6)"
      ],
      "metadata": {
        "id": "2P0oU5Lr98wF",
        "outputId": "e2da8105-48aa-4f8a-92e4-9ec8a5f1d548",
        "colab": {
          "base_uri": "https://localhost:8080/"
        }
      },
      "execution_count": 184,
      "outputs": [
        {
          "output_type": "stream",
          "name": "stdout",
          "text": [
            "True\n"
          ]
        }
      ]
    },
    {
      "cell_type": "code",
      "source": [
        "print(\"AC/DC\" == \"Michael Jackson\")\n",
        "print(\"AC/DC\" != \"Michael Jackson\")"
      ],
      "metadata": {
        "id": "1-dtVUfx-VNq",
        "outputId": "e203cd7f-8356-4511-b5d9-afbfc7e849bc",
        "colab": {
          "base_uri": "https://localhost:8080/"
        }
      },
      "execution_count": 185,
      "outputs": [
        {
          "output_type": "stream",
          "name": "stdout",
          "text": [
            "False\n",
            "True\n"
          ]
        }
      ]
    },
    {
      "cell_type": "code",
      "source": [
        "age = 18\n",
        "if age > 18:\n",
        "    print(\"you can enter\")\n",
        "elif age==18:\n",
        "    print(\"go see Pink Floyd\")\n",
        "else:\n",
        "    print(\"go see Meat Loaf\")\n",
        "print(\"move on\")\n"
      ],
      "metadata": {
        "id": "iH7qtjoG-nwG",
        "outputId": "83722490-8a46-4465-8847-bdb7b5864461",
        "colab": {
          "base_uri": "https://localhost:8080/"
        }
      },
      "execution_count": 192,
      "outputs": [
        {
          "output_type": "stream",
          "name": "stdout",
          "text": [
            "go see Pink Floyd\n",
            "move on\n"
          ]
        }
      ]
    },
    {
      "cell_type": "code",
      "source": [
        "print(not(True))"
      ],
      "metadata": {
        "id": "pYMLB0m7ACdm",
        "outputId": "16507eec-3101-4e3f-a5c2-ba2b896c9877",
        "colab": {
          "base_uri": "https://localhost:8080/"
        }
      },
      "execution_count": 193,
      "outputs": [
        {
          "output_type": "stream",
          "name": "stdout",
          "text": [
            "False\n"
          ]
        }
      ]
    },
    {
      "cell_type": "code",
      "source": [
        "album_year = 1990\n",
        "if album_year < 1980 or album_year > 1989:\n",
        "    print(\"The album was made in the 70s or 90s\")\n",
        "else:\n",
        "    print(\"The album was made in the 1980s\")"
      ],
      "metadata": {
        "id": "-qVnsyPpBA0j",
        "outputId": "115b0b5d-4912-4b8e-e985-6a50783fa45d",
        "colab": {
          "base_uri": "https://localhost:8080/"
        }
      },
      "execution_count": 195,
      "outputs": [
        {
          "output_type": "stream",
          "name": "stdout",
          "text": [
            "The album was made in the 70s or 90s\n"
          ]
        }
      ]
    },
    {
      "cell_type": "code",
      "source": [
        "album_year = 1983\n",
        "if album_year > 1979 or album_year < 1990:\n",
        "    print(\"The album was made in the 80s\")"
      ],
      "metadata": {
        "id": "gPvcYNPQBzzQ",
        "outputId": "9a6e4431-b7b1-47f9-e311-6b1936d38ce8",
        "colab": {
          "base_uri": "https://localhost:8080/"
        }
      },
      "execution_count": 196,
      "outputs": [
        {
          "output_type": "stream",
          "name": "stdout",
          "text": [
            "The album was made in the 80s\n"
          ]
        }
      ]
    },
    {
      "cell_type": "markdown",
      "source": [
        "QUESTION 1\n",
        "1 point possible (ungraded)\n",
        "Select the values of i that produces a True for the following:\n",
        "\n",
        "i!=0"
      ],
      "metadata": {
        "id": "bA7iWAfECGYN"
      }
    },
    {
      "cell_type": "code",
      "source": [
        "i!=0"
      ],
      "metadata": {
        "id": "D8KtYJIPCHJ-",
        "outputId": "48486558-03a7-4c1d-cfaf-ec9119ea0573",
        "colab": {
          "base_uri": "https://localhost:8080/"
        }
      },
      "execution_count": 197,
      "outputs": [
        {
          "output_type": "execute_result",
          "data": {
            "text/plain": [
              "True"
            ]
          },
          "metadata": {},
          "execution_count": 197
        }
      ]
    },
    {
      "cell_type": "markdown",
      "source": [
        "QUESTION 2\n",
        "1 point possible (ungraded)\n",
        "What is the output of the following:\n",
        "\n",
        "x='a'\n",
        "\n",
        "if(x!='a'):\n",
        "\n",
        "print(\"This is not a.\")\n",
        "\n",
        "else:\n",
        "\n",
        "print(\"This is a.\")"
      ],
      "metadata": {
        "id": "e_KVnUeoCYNU"
      }
    },
    {
      "cell_type": "code",
      "source": [
        "x='a'\n",
        "if(x!='a'):\n",
        "    print(\"This is not a.\")\n",
        "else:\n",
        "    print(\"This is a.\")"
      ],
      "metadata": {
        "id": "4SdXgR8ECY3_",
        "outputId": "7553c037-1897-44f0-fce9-b2a463565cc5",
        "colab": {
          "base_uri": "https://localhost:8080/"
        }
      },
      "execution_count": 198,
      "outputs": [
        {
          "output_type": "stream",
          "name": "stdout",
          "text": [
            "This is a.\n"
          ]
        }
      ]
    },
    {
      "cell_type": "code",
      "source": [
        "print(*range(3))\n",
        "print(*range(10,15))"
      ],
      "metadata": {
        "id": "kKi-HeXgCx-C",
        "outputId": "0dfce092-ac53-496f-956a-4800a8f5bc45",
        "colab": {
          "base_uri": "https://localhost:8080/"
        }
      },
      "execution_count": 202,
      "outputs": [
        {
          "output_type": "stream",
          "name": "stdout",
          "text": [
            "0 1 2\n",
            "10 11 12 13 14\n"
          ]
        }
      ]
    },
    {
      "cell_type": "markdown",
      "source": [
        "**3.2.- Loops**"
      ],
      "metadata": {
        "id": "2frlxTlCF4wN"
      }
    },
    {
      "cell_type": "code",
      "source": [
        "squares = [\"red\",\"yellow\",\"green\",\"purple\",\"blue\"]\n",
        "for i in range(0,5):\n",
        "    squares[i] = \"white\"\n",
        "print(squares)"
      ],
      "metadata": {
        "id": "jvxl_2QRDySJ",
        "outputId": "eb010e63-1891-4fc4-8322-481de0e0a7e7",
        "colab": {
          "base_uri": "https://localhost:8080/"
        }
      },
      "execution_count": 203,
      "outputs": [
        {
          "output_type": "stream",
          "name": "stdout",
          "text": [
            "['white', 'white', 'white', 'white', 'white']\n"
          ]
        }
      ]
    },
    {
      "cell_type": "code",
      "source": [
        "squares = [\"red\",\"yellow\",\"green\"]\n",
        "for square in squares:\n",
        "    print(square)"
      ],
      "metadata": {
        "id": "vH2CBycgEUEX",
        "outputId": "eae19ce5-4005-4c5c-d184-52f3e11e2eeb",
        "colab": {
          "base_uri": "https://localhost:8080/"
        }
      },
      "execution_count": 205,
      "outputs": [
        {
          "output_type": "stream",
          "name": "stdout",
          "text": [
            "red\n",
            "yellow\n",
            "green\n"
          ]
        }
      ]
    },
    {
      "cell_type": "code",
      "source": [
        "squares = [\"red\",\"yellow\",\"green\"]\n",
        "for i,square in enumerate(squares):\n",
        "    print(i,square)"
      ],
      "metadata": {
        "id": "t44kg1FmEl01",
        "outputId": "9071b342-1744-4892-c737-0b5b9ea88aca",
        "colab": {
          "base_uri": "https://localhost:8080/"
        }
      },
      "execution_count": 206,
      "outputs": [
        {
          "output_type": "stream",
          "name": "stdout",
          "text": [
            "0 red\n",
            "1 yellow\n",
            "2 green\n"
          ]
        }
      ]
    },
    {
      "cell_type": "code",
      "source": [
        "squares = [\"orange\",\"orange\",\"purple\",\"blue\"]\n",
        "Newsquares = []\n",
        "i = 0\n",
        "while squares[i] == \"orange\":\n",
        "    Newsquares.append(squares[i])\n",
        "    i=i+1\n",
        "print(Newsquares)"
      ],
      "metadata": {
        "id": "cWOaTE-nE9Fl",
        "outputId": "1a50e42b-5d13-4768-a686-521fb690aac7",
        "colab": {
          "base_uri": "https://localhost:8080/"
        }
      },
      "execution_count": 207,
      "outputs": [
        {
          "output_type": "stream",
          "name": "stdout",
          "text": [
            "['orange', 'orange']\n"
          ]
        }
      ]
    },
    {
      "cell_type": "markdown",
      "source": [
        "QUESTION 1\n",
        "1 point possible (ungraded)\n",
        "What is the output of the following lines of code:\n",
        "\n",
        "A=[3,4,5]\n",
        "\n",
        "for a in A:\n",
        "\n",
        "print(a)"
      ],
      "metadata": {
        "id": "2yhNYEdgFfes"
      }
    },
    {
      "cell_type": "code",
      "source": [
        "A=[3,4,5]\n",
        "for a in A:\n",
        "    print(a)"
      ],
      "metadata": {
        "id": "q6mUmUZjFgHt",
        "outputId": "e87c1af3-2ba9-4dd4-c50a-652ce7c072a4",
        "colab": {
          "base_uri": "https://localhost:8080/"
        }
      },
      "execution_count": 208,
      "outputs": [
        {
          "output_type": "stream",
          "name": "stdout",
          "text": [
            "3\n",
            "4\n",
            "5\n"
          ]
        }
      ]
    },
    {
      "cell_type": "markdown",
      "source": [
        "What is the output of the following lines of code:\n",
        "\n",
        "x=3\n",
        "\n",
        "y=1\n",
        "\n",
        "while(y!=x):\n",
        "\n",
        "print(y)\n",
        "\n",
        "y=y+1"
      ],
      "metadata": {
        "id": "3Vj1im8AFnmn"
      }
    },
    {
      "cell_type": "code",
      "source": [
        "x=3\n",
        "y=1\n",
        "\n",
        "while(y!=x):\n",
        "    print(y)\n",
        "    y=y+1"
      ],
      "metadata": {
        "id": "sQ6IK07wFoVR",
        "outputId": "66b08002-150b-4570-8c20-7793f88e4e20",
        "colab": {
          "base_uri": "https://localhost:8080/"
        }
      },
      "execution_count": 209,
      "outputs": [
        {
          "output_type": "stream",
          "name": "stdout",
          "text": [
            "1\n",
            "2\n"
          ]
        }
      ]
    },
    {
      "cell_type": "markdown",
      "source": [
        "**3.3.- Functions**"
      ],
      "metadata": {
        "id": "k3rU62zdF8QR"
      }
    },
    {
      "cell_type": "code",
      "source": [
        "def f1(input):\n",
        "    output = input +1\n",
        "    return output"
      ],
      "metadata": {
        "id": "Xg5gOxBtHKmE"
      },
      "execution_count": 211,
      "outputs": []
    },
    {
      "cell_type": "code",
      "source": [
        "def f2(input):\n",
        "    output = input*2\n",
        "    return output"
      ],
      "metadata": {
        "id": "TjVnLnAtHWWZ"
      },
      "execution_count": 212,
      "outputs": []
    },
    {
      "cell_type": "code",
      "source": [
        "val=3\n",
        "val=f1(val)\n",
        "print(val)\n",
        "val=f2(val)\n",
        "print(val)\n",
        "val=f2(val)\n",
        "print(val)\n",
        "val=f1(val)\n",
        "print(val)"
      ],
      "metadata": {
        "id": "wIf5jiHWHbAh",
        "outputId": "ec2f60e4-1d22-438a-d77a-7f7cac12e124",
        "colab": {
          "base_uri": "https://localhost:8080/"
        }
      },
      "execution_count": 213,
      "outputs": [
        {
          "output_type": "stream",
          "name": "stdout",
          "text": [
            "4\n",
            "8\n",
            "16\n",
            "17\n"
          ]
        }
      ]
    },
    {
      "cell_type": "code",
      "source": [
        "album_ratings=[10.0,8.5,9.5,7.0,7.0,9.5,9.0,9.5]\n",
        "print(len(album_ratings))\n",
        "print(sum(album_ratings))\n",
        "print(sorted(album_ratings))"
      ],
      "metadata": {
        "id": "37Fag4-GH0rM",
        "outputId": "bb4b00f9-37a3-4adb-af6e-7543748a4e08",
        "colab": {
          "base_uri": "https://localhost:8080/"
        }
      },
      "execution_count": 217,
      "outputs": [
        {
          "output_type": "stream",
          "name": "stdout",
          "text": [
            "8\n",
            "70.0\n",
            "[7.0, 7.0, 8.5, 9.0, 9.5, 9.5, 9.5, 10.0]\n"
          ]
        }
      ]
    },
    {
      "cell_type": "code",
      "source": [
        "def add1(a):\n",
        "    \"\"\"\n",
        "    add 1 to a\n",
        "    \"\"\"\n",
        "    b=a+1\n",
        "    return b\n",
        "\n",
        "print(add1(5))\n",
        "c=add1(10)\n",
        "print(c)\n",
        "\n",
        "help(add1)"
      ],
      "metadata": {
        "id": "t72V1miVIerC",
        "outputId": "ff11983d-3eba-4527-af9b-1fe8c521aa78",
        "colab": {
          "base_uri": "https://localhost:8080/"
        }
      },
      "execution_count": 222,
      "outputs": [
        {
          "output_type": "stream",
          "name": "stdout",
          "text": [
            "6\n",
            "11\n",
            "Help on function add1 in module __main__:\n",
            "\n",
            "add1(a)\n",
            "    add 1 to a\n",
            "\n"
          ]
        }
      ]
    },
    {
      "cell_type": "code",
      "source": [
        "def Mult(a,b):\n",
        "    c=a*b\n",
        "    return c\n",
        "\n",
        "print(Mult(2,3))\n",
        "print(Mult(10,3.14))\n",
        "print(Mult(2,\"Michael Jackson \"))"
      ],
      "metadata": {
        "id": "GkxDo6IiJVV1",
        "outputId": "f187d9ca-0779-4429-8891-b63758915ee8",
        "colab": {
          "base_uri": "https://localhost:8080/"
        }
      },
      "execution_count": 227,
      "outputs": [
        {
          "output_type": "stream",
          "name": "stdout",
          "text": [
            "6\n",
            "31.400000000000002\n",
            "Michael Jackson Michael Jackson \n"
          ]
        }
      ]
    },
    {
      "cell_type": "code",
      "source": [
        "def MJ():\n",
        "    print (\"Michael Jackson\")\n",
        "\n",
        "MJ()"
      ],
      "metadata": {
        "id": "yjG88WmdJyRp",
        "outputId": "72ad7031-6c35-44ae-ec73-297c842b80b8",
        "colab": {
          "base_uri": "https://localhost:8080/"
        }
      },
      "execution_count": 229,
      "outputs": [
        {
          "output_type": "stream",
          "name": "stdout",
          "text": [
            "Michael Jackson\n"
          ]
        }
      ]
    },
    {
      "cell_type": "code",
      "source": [
        "def NoWork():\n",
        "    pass\n",
        "\n",
        "print(NoWork())"
      ],
      "metadata": {
        "id": "glM_rzC-KAsT",
        "outputId": "18dfc990-6301-48d8-a39b-d4afee12a475",
        "colab": {
          "base_uri": "https://localhost:8080/"
        }
      },
      "execution_count": 230,
      "outputs": [
        {
          "output_type": "stream",
          "name": "stdout",
          "text": [
            "None\n"
          ]
        }
      ]
    },
    {
      "cell_type": "code",
      "source": [
        "def add1(a):\n",
        "    b = a +1\n",
        "    print(a, \" plus 1 equals \", b)\n",
        "    return b\n",
        "\n",
        "print(add1(2))"
      ],
      "metadata": {
        "id": "3w1d3W57KUD_",
        "outputId": "10750f06-473d-4f09-b272-a68f7647c0af",
        "colab": {
          "base_uri": "https://localhost:8080/"
        }
      },
      "execution_count": 232,
      "outputs": [
        {
          "output_type": "stream",
          "name": "stdout",
          "text": [
            "2  plus 1 equals  3\n",
            "3\n"
          ]
        }
      ]
    },
    {
      "cell_type": "code",
      "source": [
        "def printStuff(Stuff):\n",
        "    for i,s in enumerate(Stuff):\n",
        "        print(\"Album \",i,\"Rating is \",s)\n",
        "\n",
        "album_ratings = [10.0, 8.5, 9.5]\n",
        "printStuff(album_ratings)"
      ],
      "metadata": {
        "id": "CrVe36RxKwfH",
        "outputId": "f49e5a7b-5906-4c0b-b1f5-ff9c91c8c7b7",
        "colab": {
          "base_uri": "https://localhost:8080/"
        }
      },
      "execution_count": 233,
      "outputs": [
        {
          "output_type": "stream",
          "name": "stdout",
          "text": [
            "Album  0 Rating is  10.0\n",
            "Album  1 Rating is  8.5\n",
            "Album  2 Rating is  9.5\n"
          ]
        }
      ]
    },
    {
      "cell_type": "code",
      "source": [
        "def ArtistNames(*names):\n",
        "    for name in names:\n",
        "        print(name)\n",
        "\n",
        "ArtistNames(\"Michael Jackson\", \"AC/DC\", \"Pink Floyd\")"
      ],
      "metadata": {
        "id": "9Vq6Pm1XLWBy",
        "outputId": "2852d64a-6abe-4f61-cf81-8ebd6a68e481",
        "colab": {
          "base_uri": "https://localhost:8080/"
        }
      },
      "execution_count": 234,
      "outputs": [
        {
          "output_type": "stream",
          "name": "stdout",
          "text": [
            "Michael Jackson\n",
            "AC/DC\n",
            "Pink Floyd\n"
          ]
        }
      ]
    },
    {
      "cell_type": "code",
      "source": [
        "def addDC(y):\n",
        "    x=x+\"DC\"\n",
        "    print(x)\n",
        "    return x"
      ],
      "metadata": {
        "id": "S6P3_o45L5dK"
      },
      "execution_count": 239,
      "outputs": []
    },
    {
      "cell_type": "code",
      "source": [
        "x = \"AC\""
      ],
      "metadata": {
        "id": "zEU9sEdoMSQi"
      },
      "execution_count": 242,
      "outputs": []
    },
    {
      "cell_type": "code",
      "source": [
        "def Thriller():\n",
        "    Date = 1982\n",
        "    return Date\n",
        "\n",
        "Date=2017\n",
        "print(Thriller())\n",
        "print(Date)"
      ],
      "metadata": {
        "id": "kfTBvkiVMqAd",
        "outputId": "c9b5f7b7-ff3e-4a51-fc00-69a71b08e85f",
        "colab": {
          "base_uri": "https://localhost:8080/"
        }
      },
      "execution_count": 244,
      "outputs": [
        {
          "output_type": "stream",
          "name": "stdout",
          "text": [
            "1982\n",
            "2017\n"
          ]
        }
      ]
    },
    {
      "cell_type": "code",
      "source": [
        "def ACDC(y):\n",
        "    print(Rating)\n",
        "    return Rating+y\n",
        "\n",
        "Rating=9\n",
        "Z=ACDC(1)\n",
        "print(Z)\n"
      ],
      "metadata": {
        "id": "QQqwFEiSNDSk",
        "outputId": "c71c585c-a479-4db5-a447-ebdef7eaf07e",
        "colab": {
          "base_uri": "https://localhost:8080/"
        }
      },
      "execution_count": 247,
      "outputs": [
        {
          "output_type": "stream",
          "name": "stdout",
          "text": [
            "9\n",
            "10\n"
          ]
        }
      ]
    },
    {
      "cell_type": "code",
      "source": [
        "def PinkFloyd():\n",
        "    global ClaimedSales\n",
        "    ClaimedSales = \"45 million\"\n",
        "    #return ClaimedSales\n",
        "\n",
        "PinkFloyd()\n",
        "print(ClaimedSales)\n"
      ],
      "metadata": {
        "id": "JA3OoYgTNf7V",
        "outputId": "46a7be56-82b9-4982-862a-20bf96bc4d17",
        "colab": {
          "base_uri": "https://localhost:8080/"
        }
      },
      "execution_count": 250,
      "outputs": [
        {
          "output_type": "stream",
          "name": "stdout",
          "text": [
            "45 million\n"
          ]
        }
      ]
    },
    {
      "cell_type": "markdown",
      "source": [
        "What is the value of c after the following block of code is run ?\n",
        "\n",
        "a=1\n",
        "\n",
        "def add(b):\n",
        "\n",
        "return a+b\n",
        "\n",
        "c=add(10)"
      ],
      "metadata": {
        "id": "d0bwNMj2N1KE"
      }
    },
    {
      "cell_type": "code",
      "source": [
        "a=1\n",
        "def add(b):\n",
        "    return a+b\n",
        "\n",
        "c=add(10)\n",
        "print(c)"
      ],
      "metadata": {
        "id": "PWYXB00fN2Fp",
        "outputId": "12dd8f70-b0e8-4306-ade5-a8225d229c83",
        "colab": {
          "base_uri": "https://localhost:8080/"
        }
      },
      "execution_count": 252,
      "outputs": [
        {
          "output_type": "stream",
          "name": "stdout",
          "text": [
            "11\n"
          ]
        }
      ]
    },
    {
      "cell_type": "markdown",
      "source": [
        "QUESTION 2\n",
        "1 point possible (ungraded)\n",
        "What is the value of c after the following block of code is run with proper numerical input?\n",
        "\n",
        "def f(*x):\n",
        "\n",
        "return sum(x)"
      ],
      "metadata": {
        "id": "AMj1O3noN_-K"
      }
    },
    {
      "cell_type": "code",
      "source": [
        "#Return the total of a variable amount of parameters."
      ],
      "metadata": {
        "id": "kngW4t6JOAg-"
      },
      "execution_count": null,
      "outputs": []
    },
    {
      "cell_type": "markdown",
      "source": [
        "**3.4.- Objects and Classes** "
      ],
      "metadata": {
        "id": "VsmbEJvhOQoG"
      }
    },
    {
      "cell_type": "code",
      "source": [
        "Ratings = [10,9,6,5,10,8,9,6,2]\n",
        "Ratings.sort()\n",
        "print(Ratings)\n",
        "Ratings.reverse()\n",
        "print(Ratings)"
      ],
      "metadata": {
        "id": "DmeCDLO0OaU7",
        "outputId": "8ac78c7e-a42a-4f1e-a069-b8f729c359d5",
        "colab": {
          "base_uri": "https://localhost:8080/"
        }
      },
      "execution_count": 254,
      "outputs": [
        {
          "output_type": "stream",
          "name": "stdout",
          "text": [
            "[2, 5, 6, 6, 8, 9, 9, 10, 10]\n",
            "[10, 10, 9, 9, 8, 6, 6, 5, 2]\n"
          ]
        }
      ]
    },
    {
      "cell_type": "code",
      "source": [
        "class Circle: \n",
        "  \n",
        "  radius,color=0,\"\"\n",
        "  \n",
        "  def __init__(self, radius, color): \n",
        "    self.radius = radius;            \n",
        "    self.color = color;              \n",
        "\n",
        "  def add_radius(self,r):            \n",
        "    self.radius = self.radius + r\n",
        "    return (self.radius) \n",
        "\n",
        "  def drawCircle(self):\n",
        "    print(self.radius, \",\", self.color) \n",
        "\n",
        "class Rectangle(object ):\n",
        "\n",
        "  def __init__(self, color, height, width):\n",
        "    self.color = color;\n",
        "    self.height = height;\n",
        "    self.width = width;"
      ],
      "metadata": {
        "id": "47cVP19UPJvL"
      },
      "execution_count": 255,
      "outputs": []
    },
    {
      "cell_type": "code",
      "source": [
        "RedCircle = Circle(10, 'red')\n",
        "print(RedCircle.radius)\n",
        "print(RedCircle.color)\n",
        "RedCircle.drawCircle()\n",
        "RedCircle.add_radius(5) \n",
        "RedCircle.drawCircle()"
      ],
      "metadata": {
        "id": "rtjRshtdQAh9",
        "outputId": "d894f249-f802-48f4-afc9-52d2cfa7fb78",
        "colab": {
          "base_uri": "https://localhost:8080/"
        }
      },
      "execution_count": 257,
      "outputs": [
        {
          "output_type": "stream",
          "name": "stdout",
          "text": [
            "10\n",
            "red\n",
            "10 , red\n",
            "15 , red\n"
          ]
        }
      ]
    },
    {
      "cell_type": "markdown",
      "source": [
        "QUESTION 1\n",
        "1 point possible (ungraded)\n",
        "Using the Class Car in the lab, create a Car object with the following attributes:\n",
        "\n",
        "make=\"Honda\"\n",
        "\n",
        "model=\"Accord\"\n",
        "\n",
        "color=\"blue\""
      ],
      "metadata": {
        "id": "pL5KhhkwRPzL"
      }
    },
    {
      "cell_type": "code",
      "source": [
        "class Car(object):\n",
        "    def __init__(self,make,model,color):\n",
        "        self.make=make;\n",
        "        self.model=model;\n",
        "        self.color=color;\n",
        "        self.owner_number=0 \n",
        "    def car_info(self):\n",
        "        print(\"make: \",self.make)\n",
        "        print(\"model:\", self.model)\n",
        "        print(\"color:\",self.color)\n",
        "        print(\"number of owners:\",self.owner_number)\n",
        "    def sell(self):\n",
        "        self.owner_number=self.owner_number+1\n",
        "\n",
        "newCar=Car(make=\"Honda\",model=\"Accord\",color=\"blue\")\n",
        "newCar2=Car(\"Honda\",\"Accord\",\"blue\") \n",
        "newCar3=Car(model=\"Accord\",make=\"Honda\",color=\"blue\") \n",
        "newCar4=Car(\"Accord\",\"Honda\",\"blue\") \n",
        "\n",
        "print(newCar.car_info())\n",
        "print(newCar2.car_info())\n",
        "print(newCar3.car_info())\n",
        "print(newCar4.car_info())"
      ],
      "metadata": {
        "id": "lMxVWe0lRQuf",
        "outputId": "0f136be8-689c-483d-8074-5533868a67fd",
        "colab": {
          "base_uri": "https://localhost:8080/"
        }
      },
      "execution_count": 259,
      "outputs": [
        {
          "output_type": "stream",
          "name": "stdout",
          "text": [
            "make:  Honda\n",
            "model: Accord\n",
            "color: Accord\n",
            "number of owners: 0\n",
            "None\n",
            "make:  Honda\n",
            "model: Accord\n",
            "color: Accord\n",
            "number of owners: 0\n",
            "None\n",
            "make:  Honda\n",
            "model: Accord\n",
            "color: Accord\n",
            "number of owners: 0\n",
            "None\n",
            "make:  Accord\n",
            "model: Honda\n",
            "color: Honda\n",
            "number of owners: 0\n",
            "None\n"
          ]
        }
      ]
    },
    {
      "cell_type": "markdown",
      "source": [
        "Question 1\n",
        "1 point possible (graded)\n",
        "What is the output of the following lines of code:\n",
        "\n",
        "x=1\n",
        "\n",
        "if(x!=1):\n",
        "\n",
        "print('Hello')\n",
        "\n",
        "else:\n",
        "\n",
        "print('Hi')\n",
        "\n",
        "print('Mike')"
      ],
      "metadata": {
        "id": "EawRSmU8TK7Q"
      }
    },
    {
      "cell_type": "code",
      "source": [
        "x=1\n",
        "if(x!=1):\n",
        "    print('Hello')\n",
        "else:\n",
        "    print('Hi')\n",
        "print('Mike')"
      ],
      "metadata": {
        "id": "swxjHQySTLdj",
        "outputId": "d9ecb9bd-381d-4e40-b2b8-06c7e013ec65",
        "colab": {
          "base_uri": "https://localhost:8080/"
        }
      },
      "execution_count": 260,
      "outputs": [
        {
          "output_type": "stream",
          "name": "stdout",
          "text": [
            "Hi\n",
            "Mike\n"
          ]
        }
      ]
    },
    {
      "cell_type": "markdown",
      "source": [
        "Question 2\n",
        "1 point possible (graded)\n",
        "What is the output of the following few lines of code?\n",
        "\n",
        "A = ['1','2','3']\n",
        "\n",
        "for a in A:\n",
        "\n",
        "print(2*a)"
      ],
      "metadata": {
        "id": "563j_MQbTXGK"
      }
    },
    {
      "cell_type": "code",
      "source": [
        "A = ['1','2','3']\n",
        "for a in A:\n",
        "    print(2*a)"
      ],
      "metadata": {
        "id": "w--KCYv_TXre",
        "outputId": "0b594bba-3038-4893-ad6c-bd36136d4b71",
        "colab": {
          "base_uri": "https://localhost:8080/"
        }
      },
      "execution_count": 261,
      "outputs": [
        {
          "output_type": "stream",
          "name": "stdout",
          "text": [
            "11\n",
            "22\n",
            "33\n"
          ]
        }
      ]
    },
    {
      "cell_type": "markdown",
      "source": [
        "Question 3\n",
        "1 point possible (graded)\n",
        "Consider the function Delta, when will the function return a value of 1\n",
        "\n",
        "def Delta(x):\n",
        "\n",
        "if x==0:\n",
        "\n",
        "y=1;\n",
        "\n",
        "else:\n",
        "\n",
        "y=0;\n",
        "\n",
        "return(y)"
      ],
      "metadata": {
        "id": "2GIT7QcXTkkH"
      }
    },
    {
      "cell_type": "code",
      "source": [
        "def Delta(x):\n",
        "    if x==0:\n",
        "        y=1;\n",
        "    else:\n",
        "        y=0;\n",
        "    return(y)"
      ],
      "metadata": {
        "id": "5Tg8eIu6TlJQ"
      },
      "execution_count": null,
      "outputs": []
    },
    {
      "cell_type": "code",
      "source": [
        "#When the input is 0."
      ],
      "metadata": {
        "id": "sd9fvuTrTwzO"
      },
      "execution_count": null,
      "outputs": []
    },
    {
      "cell_type": "markdown",
      "source": [],
      "metadata": {
        "id": "uFiEGQQeTxz_"
      }
    }
  ]
}