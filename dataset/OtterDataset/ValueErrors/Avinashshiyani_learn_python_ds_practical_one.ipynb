{
 "cells": [
  {
   "cell_type": "code",
   "execution_count": 20,
   "id": "21af33fb-1b88-4406-a575-548245cd366c",
   "metadata": {},
   "outputs": [
    {
     "name": "stdout",
     "output_type": "stream",
     "text": [
      "10 10.1 (3+5j) Hello world True\n",
      "<class 'int'>\n",
      "<class 'float'>\n",
      "<class 'complex'>\n",
      "<class 'str'>\n",
      "<class 'bool'>\n"
     ]
    }
   ],
   "source": [
    "# Create three different variables namely my_integer, my_float and my_complex and assign\n",
    "# integer value, floating-point value and complex value.\n",
    "# Create a variable my_string and assign it a string value.\n",
    "# Create a variable my_boolean and assign it a boolean value.\n",
    "# Print out the values of these variables along with their data types\n",
    "my_integer = 10\n",
    "my_float = 10.1\n",
    "my_complex = complex(3,5)\n",
    "my_string = \"Hello world\"\n",
    "my_boolean = True\n",
    "\n",
    "print(my_integer , my_float , my_complex , my_string , my_boolean)\n",
    "print(type(my_integer));\n",
    "print(type(my_float));\n",
    "print(type(my_complex));\n",
    "print(type(my_string));\n",
    "print(type(my_boolean));\n"
   ]
  },
  {
   "cell_type": "code",
   "execution_count": 30,
   "id": "ccfdf3dc-9ca5-4450-bda5-4a1e36a378b8",
   "metadata": {},
   "outputs": [
    {
     "name": "stdout",
     "output_type": "stream",
     "text": [
      "24\n",
      "HELLO MY NAME IS AVINASH\n",
      "Hello my name is shiyani avinash\n"
     ]
    }
   ],
   "source": [
    "# Create a string variable called `my_string` and assign it a sentence.\n",
    "# Print the length of `my_string`.\n",
    "# Convert `my_string` to all uppercase letters and print the result.\n",
    "# Replace a word in `my_string` with another word and print the modified string.\n",
    "my_string = \"Hello my name is avinash\"\n",
    "\n",
    "# length of string\n",
    "print(len(my_string))\n",
    "\n",
    "# upperCaseLetter \n",
    "print(my_string.upper());\n",
    "\n",
    "# replace the string\n",
    "word = \"shiyani avinash\"\n",
    "\n",
    "replaced_string = my_string.replace(\"avinash\" , word)\n",
    "print(replaced_string)"
   ]
  },
  {
   "cell_type": "code",
   "execution_count": 37,
   "id": "c77a4ae6-5e7a-4515-acd0-e03dce7ef4f0",
   "metadata": {},
   "outputs": [
    {
     "name": "stdout",
     "output_type": "stream",
     "text": [
      "30 10 200 0.5 400 8000 4.47213595499958 10\n"
     ]
    }
   ],
   "source": [
    "# Create two variables, n1 and n2, and assign them any numeric values.\n",
    "# Calculate the sum, difference, product, and division of n1 and n2 and print the results.\n",
    "# Calculate the square, cube and square root of n2 and print the results.\n",
    "# Calculate and display remainder of n1 and n2\n",
    "import math\n",
    "n1 = 10;\n",
    "n2 = 20;\n",
    "\n",
    "sumOfNumber = n1 + n2\n",
    "differenceOfNumber  = n2-n1\n",
    "productOfNumber = n1*n2\n",
    "divitionOfNumber = n1 / n2\n",
    "squareOfNumber = n2 * n2\n",
    "cubeOfNumber = n2*n2*n2\n",
    "squareRoot = math.sqrt(n2)\n",
    "remainderOfNumber = n1 % n2\n",
    "\n",
    "print(sumOfNumber , differenceOfNumber ,productOfNumber , divitionOfNumber , squareOfNumber , cubeOfNumber , squareRoot , remainderOfNumber)"
   ]
  },
  {
   "cell_type": "code",
   "execution_count": 42,
   "id": "39c4f2e2-c65d-4f62-a114-f99c5f95f9b6",
   "metadata": {},
   "outputs": [
    {
     "name": "stdout",
     "output_type": "stream",
     "text": [
      "10\n",
      "10.2\n",
      "['hello', 'world']\n"
     ]
    }
   ],
   "source": [
    "# Create a list called `my_list` with at least five different elements (two integers, two\n",
    "# strings, one float).\n",
    "# Print the first element of the list.\n",
    "# Print the last element of the list.\n",
    "# Print a slice of the list that includes the second through fourth elements.\n",
    "my_list = [ 10 , 20 , \"hello\" , \"world\" , 10.20]\n",
    "\n",
    "# printfirstelement\n",
    "print(my_list[0])\n",
    "\n",
    "# lastelement\n",
    "print(my_list[-1])\n",
    "\n",
    "# sliceLlist\n",
    "print(my_list[2:4])"
   ]
  },
  {
   "cell_type": "code",
   "execution_count": 71,
   "id": "f0dff781-e27b-4959-b3eb-83bfe17431b6",
   "metadata": {},
   "outputs": [
    {
     "name": "stdout",
     "output_type": "stream",
     "text": [
      "Original List: [10, 20, 'hello', 'world', 10.2]\n",
      "After Appending: [10, 20, 'hello', 'world', 10.2, 'Hello']\n",
      "After Removing 'hello': [10, 20, 'world', 10.2, 'Hello']\n",
      "Is 1 in my_list? False\n",
      "Sorted numeric list: [10, 10.2, 20]\n",
      "Reversed List: ['Hello', 10.2, 'world', 20, 10]\n"
     ]
    }
   ],
   "source": [
    "my_list = [10, 20, \"hello\", \"world\", 10.20]  # Original list\n",
    "\n",
    "# Print the list\n",
    "print(\"Original List:\", my_list)\n",
    "\n",
    "# Append a new element to `my_list`\n",
    "my_list.append(\"Hello\")  # Appending a new element\n",
    "print(\"After Appending:\", my_list)\n",
    "\n",
    "# Remove an element from `my_list`\n",
    "my_list.remove(\"hello\")  # Removing an element\n",
    "print(\"After Removing 'hello':\", my_list)\n",
    "\n",
    "# Check if a specific element is in `my_list`\n",
    "hasElement = 1 in my_list \n",
    "print(\"Is 1 in my_list?\", hasElement)\n",
    "\n",
    "# Sort `my_list` in ascending order\n",
    "numeric_list = [10, 20, 10.20]\n",
    "numeric_list.sort()\n",
    "print(\"Sorted numeric list:\", numeric_list)\n",
    "\n",
    "# Reverse the order of elements in `my_list`\n",
    "my_list.reverse()\n",
    "print(\"Reversed List:\", my_list)\n"
   ]
  },
  {
   "cell_type": "code",
   "execution_count": 24,
   "id": "e2277d5c-a543-407f-88bf-0e4780a5e061",
   "metadata": {},
   "outputs": [
    {
     "name": "stdout",
     "output_type": "stream",
     "text": [
      "{'name': 'avinash', 'age': 18, 'love': 'coding'} False\n"
     ]
    }
   ],
   "source": [
    "# 6\n",
    "# Create a dictionary called `my_dict` with at least three key-value pairs.\n",
    "# Access and print the values associated with one of the keys.\n",
    "# Add a new key-value pair to `my_dict`.\n",
    "# Remove one of the key-value pairs from `my_dict`.\n",
    "# Check if a specific key is in `my_dict`.\n",
    "my_dict = {\n",
    "    \"name\":\"avinash\",\n",
    "    \"age\":18,\n",
    "    \"love\":\"coding\",\n",
    "}\n",
    "# print(my_dict[\"love\"])\n",
    "\n",
    "# added in tuple\n",
    "# my_dict[\"avi\"] = \"bro how are you\"\n",
    "\n",
    "# remove in tuple\n",
    "# my_dict.pop(\"age\")\n",
    "\n",
    "isThere = \"avinash\" in my_dict\n",
    "\n",
    "print(my_dict , isThere)"
   ]
  },
  {
   "cell_type": "code",
   "execution_count": 42,
   "id": "6284093a-fc2d-468b-a9cc-24e0c4dba1ca",
   "metadata": {},
   "outputs": [
    {
     "name": "stdout",
     "output_type": "stream",
     "text": [
      "28\n"
     ]
    }
   ],
   "source": [
    "# 7\n",
    "# Convert an integer to a string and print the result.\n",
    "# Convert a string containing a number to an integer and print the result.\n",
    "# Convert a float to an integer and print the result.\n",
    "# Convert a string to a list of characters and print the result.\n",
    "\n",
    "integer = 10 \n",
    "string = \"10\"\n",
    "toflo = 10.22\n",
    "toString = str(integer);\n",
    "# toInteger = int(string);\n",
    "toInteger = float(toflo);\n",
    "\n",
    "stringToChar = \"Hello my name is HEllo world\"\n",
    "\n",
    "a = list(stringToChar)\n",
    "\n",
    "print(len(a))"
   ]
  },
  {
   "cell_type": "code",
   "execution_count": 65,
   "id": "af9e01e2-723e-4abd-b400-35c27f51d847",
   "metadata": {},
   "outputs": [
    {
     "name": "stdout",
     "output_type": "stream",
     "text": [
      "False\n"
     ]
    }
   ],
   "source": [
    "# 8\n",
    "# Create two boolean variables, `is_raining` and `is_sunny` and assign them values True or\n",
    "# False. Use boolean operators (and, or, not) to create a new variable ‘is_good_day’ that\n",
    "# represents whether it's a good day (e.g., not raining and sunny). Print the value of the new\n",
    "# variable ‘is_good_day’.\n",
    "\n",
    "is_raining = True\n",
    "is_sunny = False\n",
    "\n",
    "# is_good_day = is_raining or is_sunny\n",
    "is_good_day = is_raining and is_sunny\n",
    "# is_good_day = not is_raining and is_sunny\n",
    "print(is_good_day)"
   ]
  },
  {
   "cell_type": "code",
   "execution_count": 81,
   "id": "6a57f3cf-a627-4d69-8766-4efea188237e",
   "metadata": {},
   "outputs": [
    {
     "name": "stdin",
     "output_type": "stream",
     "text": [
      "Enter number to check even or odd 5\n"
     ]
    },
    {
     "name": "stdout",
     "output_type": "stream",
     "text": [
      "Number is Odd\n"
     ]
    }
   ],
   "source": [
    "# 9\n",
    "# Write a program that takes an integer as input and prints whether it is even or odd\n",
    "\n",
    "userInput = int(input(\"Enter number to check even or odd\"))\n",
    "\n",
    "if (userInput % 2 == 0):\n",
    "    print(\"Number is Even\")\n",
    "else:\n",
    "    print(\"Number is Odd\")\n",
    "\n",
    "\n"
   ]
  },
  {
   "cell_type": "code",
   "execution_count": 92,
   "id": "96347370-2824-4d56-905c-cc364d2da4d6",
   "metadata": {},
   "outputs": [
    {
     "name": "stdin",
     "output_type": "stream",
     "text": [
      "Enter number to check the result \n"
     ]
    },
    {
     "ename": "ValueError",
     "evalue": "invalid literal for int() with base 10: ''",
     "output_type": "error",
     "traceback": [
      "\u001b[1;31m---------------------------------------------------------------------------\u001b[0m",
      "\u001b[1;31mValueError\u001b[0m                                Traceback (most recent call last)",
      "Cell \u001b[1;32mIn[92], line 3\u001b[0m\n\u001b[0;32m      1\u001b[0m \u001b[38;5;66;03m# 10\u001b[39;00m\n\u001b[0;32m      2\u001b[0m \u001b[38;5;66;03m# Write a program that takes number and display whether it is positive, negative or zero.\u001b[39;00m\n\u001b[1;32m----> 3\u001b[0m userInput \u001b[38;5;241m=\u001b[39m \u001b[38;5;28;43mint\u001b[39;49m\u001b[43m(\u001b[49m\u001b[38;5;28;43minput\u001b[39;49m\u001b[43m(\u001b[49m\u001b[38;5;124;43m\"\u001b[39;49m\u001b[38;5;124;43mEnter number to check the result\u001b[39;49m\u001b[38;5;124;43m\"\u001b[39;49m\u001b[43m)\u001b[49m\u001b[43m)\u001b[49m\n\u001b[0;32m      5\u001b[0m \u001b[38;5;28;01mif\u001b[39;00m(userInput \u001b[38;5;241m>\u001b[39m \u001b[38;5;241m0\u001b[39m):\n\u001b[0;32m      6\u001b[0m     \u001b[38;5;28mprint\u001b[39m(\u001b[38;5;124m\"\u001b[39m\u001b[38;5;124mPositive\u001b[39m\u001b[38;5;124m\"\u001b[39m)\n",
      "\u001b[1;31mValueError\u001b[0m: invalid literal for int() with base 10: ''"
     ]
    }
   ],
   "source": [
    "# 10\n",
    "# Write a program that takes number and display whether it is positive, negative or zero.\n",
    "userInput = int(input(\"Enter number to check the result\"))\n",
    "\n",
    "if(userInput > 0):\n",
    "    print(\"Positive\")\n",
    "elif(userInput < 0):\n",
    "    print(\"negative\")\n",
    "else:\n",
    "    print(\"Number is Zero\")"
   ]
  },
  {
   "cell_type": "code",
   "execution_count": 99,
   "id": "c9ab0c14-9f00-4f2a-8972-929dd96b0156",
   "metadata": {},
   "outputs": [
    {
     "name": "stdout",
     "output_type": "stream",
     "text": [
      "1\n",
      "2\n",
      "3\n",
      "4\n",
      "5\n",
      "6\n",
      "7\n",
      "8\n",
      "9\n",
      "10\n"
     ]
    }
   ],
   "source": [
    "# 11\n",
    "# Write a program that prints all the numbers from 1 to 10.\n",
    "\n",
    "for i in range(1,11):\n",
    "    print(i)"
   ]
  },
  {
   "cell_type": "code",
   "execution_count": 1,
   "id": "71d3877d-1cb1-4c3a-bb4a-a3359882ed6a",
   "metadata": {},
   "outputs": [
    {
     "name": "stdout",
     "output_type": "stream",
     "text": [
      "5050\n"
     ]
    }
   ],
   "source": [
    "# 12\n",
    "# Create a program that calculates the sum of all numbers from 1 to 100.\n",
    "\n",
    "i = sum(range(1 ,101))\n",
    "print(i)"
   ]
  },
  {
   "cell_type": "code",
   "execution_count": 18,
   "id": "3b49a5ed-269e-492e-b3ef-b7a95274cddb",
   "metadata": {},
   "outputs": [
    {
     "name": "stdout",
     "output_type": "stream",
     "text": [
      "50 x 1 = 50\n",
      "50 x 2 = 100\n",
      "50 x 3 = 150\n",
      "50 x 4 = 200\n",
      "50 x 5 = 250\n",
      "50 x 6 = 300\n",
      "50 x 7 = 350\n",
      "50 x 8 = 400\n",
      "50 x 9 = 450\n",
      "50 x 10 = 500\n"
     ]
    }
   ],
   "source": [
    "# 13\n",
    "# Write a program that prints the multiplication table of a given number\n",
    "number = 50;\n",
    "# i = range(1,11)\n",
    "\n",
    "for i in range(1,11):\n",
    "    print(number , \"x\" , i , \"=\" , number * i)"
   ]
  },
  {
   "cell_type": "code",
   "execution_count": 43,
   "id": "f03715b6-2739-4adc-b267-70235b595b56",
   "metadata": {},
   "outputs": [
    {
     "name": "stdout",
     "output_type": "stream",
     "text": [
      "1 X 1 = 1\n",
      "1 X 2 = 2\n",
      "1 X 3 = 3\n",
      "1 X 4 = 4\n",
      "1 X 5 = 5\n",
      "1 X 6 = 6\n",
      "1 X 7 = 7\n",
      "1 X 8 = 8\n",
      "1 X 9 = 9\n",
      "1 X 10 = 10\n",
      "2 X 1 = 2\n",
      "2 X 2 = 4\n",
      "2 X 3 = 6\n",
      "2 X 4 = 8\n",
      "2 X 5 = 10\n",
      "2 X 6 = 12\n",
      "2 X 7 = 14\n",
      "2 X 8 = 16\n",
      "2 X 9 = 18\n",
      "2 X 10 = 20\n",
      "3 X 1 = 3\n",
      "3 X 2 = 6\n",
      "3 X 3 = 9\n",
      "3 X 4 = 12\n",
      "3 X 5 = 15\n",
      "3 X 6 = 18\n",
      "3 X 7 = 21\n",
      "3 X 8 = 24\n",
      "3 X 9 = 27\n",
      "3 X 10 = 30\n",
      "4 X 1 = 4\n",
      "4 X 2 = 8\n",
      "4 X 3 = 12\n",
      "4 X 4 = 16\n",
      "4 X 5 = 20\n",
      "4 X 6 = 24\n",
      "4 X 7 = 28\n",
      "4 X 8 = 32\n",
      "4 X 9 = 36\n",
      "4 X 10 = 40\n",
      "5 X 1 = 5\n",
      "5 X 2 = 10\n",
      "5 X 3 = 15\n",
      "5 X 4 = 20\n",
      "5 X 5 = 25\n",
      "5 X 6 = 30\n",
      "5 X 7 = 35\n",
      "5 X 8 = 40\n",
      "5 X 9 = 45\n",
      "5 X 10 = 50\n",
      "6 X 1 = 6\n",
      "6 X 2 = 12\n",
      "6 X 3 = 18\n",
      "6 X 4 = 24\n",
      "6 X 5 = 30\n",
      "6 X 6 = 36\n",
      "6 X 7 = 42\n",
      "6 X 8 = 48\n",
      "6 X 9 = 54\n",
      "6 X 10 = 60\n",
      "7 X 1 = 7\n",
      "7 X 2 = 14\n",
      "7 X 3 = 21\n",
      "7 X 4 = 28\n",
      "7 X 5 = 35\n",
      "7 X 6 = 42\n",
      "7 X 7 = 49\n",
      "7 X 8 = 56\n",
      "7 X 9 = 63\n",
      "7 X 10 = 70\n",
      "8 X 1 = 8\n",
      "8 X 2 = 16\n",
      "8 X 3 = 24\n",
      "8 X 4 = 32\n",
      "8 X 5 = 40\n",
      "8 X 6 = 48\n",
      "8 X 7 = 56\n",
      "8 X 8 = 64\n",
      "8 X 9 = 72\n",
      "8 X 10 = 80\n",
      "9 X 1 = 9\n",
      "9 X 2 = 18\n",
      "9 X 3 = 27\n",
      "9 X 4 = 36\n",
      "9 X 5 = 45\n",
      "9 X 6 = 54\n",
      "9 X 7 = 63\n",
      "9 X 8 = 72\n",
      "9 X 9 = 81\n",
      "9 X 10 = 90\n",
      "10 X 1 = 10\n",
      "10 X 2 = 20\n",
      "10 X 3 = 30\n",
      "10 X 4 = 40\n",
      "10 X 5 = 50\n",
      "10 X 6 = 60\n",
      "10 X 7 = 70\n",
      "10 X 8 = 80\n",
      "10 X 9 = 90\n",
      "10 X 10 = 100\n"
     ]
    }
   ],
   "source": [
    "# 14\n",
    "# Create a program that generates a multiplication table from 1 to 10 using nested loops.\n",
    "for i in range(1,11):\n",
    "    for j in range(1,11):\n",
    "        print(i ,\"X\" , j ,\"=\" , i * j)\n"
   ]
  },
  {
   "cell_type": "code",
   "execution_count": null,
   "id": "e4c9f7a4-5519-4fa3-80c0-2d93a86b8191",
   "metadata": {},
   "outputs": [],
   "source": []
  }
 ],
 "metadata": {
  "kernelspec": {
   "display_name": "Python 3 (ipykernel)",
   "language": "python",
   "name": "python3"
  },
  "language_info": {
   "codemirror_mode": {
    "name": "ipython",
    "version": 3
   },
   "file_extension": ".py",
   "mimetype": "text/x-python",
   "name": "python",
   "nbconvert_exporter": "python",
   "pygments_lexer": "ipython3",
   "version": "3.10.4"
  }
 },
 "nbformat": 4,
 "nbformat_minor": 5
}
