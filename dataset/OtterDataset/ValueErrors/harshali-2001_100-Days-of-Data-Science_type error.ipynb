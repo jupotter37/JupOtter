{
 "cells": [
  {
   "cell_type": "markdown",
   "id": "838cb14d",
   "metadata": {},
   "source": [
    "## TypeError\n",
    "\n",
    "In Python, a \"TypeError\" occurs when an operation or function is applied to an object of inappropriate type. "
   ]
  },
  {
   "cell_type": "markdown",
   "id": "0ec51f41",
   "metadata": {},
   "source": [
    "<b>1] Unsupported Operand Types</b><br>\n",
    "<b>2] Incorrect Number of Arguments:</b><br>\n",
    "<b>3] Using a Variable Before Assignment:</b><br>\n",
    "<b>4] Indexing/Slicing a Non-Indexable Object:</b><br>\n",
    "<b>5] Calling a Non-Callable Object</b><br>\n",
    "<b>6] Mismatched Types in Comparison:</b><br>\n",
    "<b>7] Incorrect Usage of range:</b><br>\n",
    "<b>8] Attempting to Modify an Immutable Object:</b><br>\n",
    "<b>9] Incorrect Usage of Built-in Functions:</b><br>\n",
    "<b>10] Using a Non-Boolean in a Boolean Context:</b><br>\n",
    "<br>\n",
    "<b></b>"
   ]
  },
  {
   "cell_type": "markdown",
   "id": "52df0d56",
   "metadata": {},
   "source": [
    "### 1] Unsupported Operand Types\n",
    "Trying to perform an operation that is not supported for the given data types. For example, trying to add a string and an integer."
   ]
  },
  {
   "cell_type": "code",
   "execution_count": 2,
   "id": "c921a1a4",
   "metadata": {},
   "outputs": [
    {
     "ename": "TypeError",
     "evalue": "can only concatenate str (not \"int\") to str",
     "output_type": "error",
     "traceback": [
      "\u001b[1;31m---------------------------------------------------------------------------\u001b[0m",
      "\u001b[1;31mTypeError\u001b[0m                                 Traceback (most recent call last)",
      "Input \u001b[1;32mIn [2]\u001b[0m, in \u001b[0;36m<cell line: 2>\u001b[1;34m()\u001b[0m\n\u001b[0;32m      1\u001b[0m \u001b[38;5;66;03m#  1] unsupported Operand Type\u001b[39;00m\n\u001b[1;32m----> 2\u001b[0m \u001b[38;5;124;43m'\u001b[39;49m\u001b[38;5;124;43mhello\u001b[39;49m\u001b[38;5;124;43m'\u001b[39;49m\u001b[38;5;241;43m+\u001b[39;49m\u001b[38;5;241;43m5\u001b[39;49m\n",
      "\u001b[1;31mTypeError\u001b[0m: can only concatenate str (not \"int\") to str"
     ]
    }
   ],
   "source": [
    "#  1] unsupported Operand Type\n",
    "'hello'+5"
   ]
  },
  {
   "cell_type": "markdown",
   "id": "cfd33ce6",
   "metadata": {},
   "source": [
    "### 2] Incorrect Number of Arguments:\n",
    "Passing the wrong number of arguments to a function."
   ]
  },
  {
   "cell_type": "code",
   "execution_count": 3,
   "id": "b106460e",
   "metadata": {},
   "outputs": [
    {
     "ename": "TypeError",
     "evalue": "add_numbers() takes 2 positional arguments but 3 were given",
     "output_type": "error",
     "traceback": [
      "\u001b[1;31m---------------------------------------------------------------------------\u001b[0m",
      "\u001b[1;31mTypeError\u001b[0m                                 Traceback (most recent call last)",
      "Input \u001b[1;32mIn [3]\u001b[0m, in \u001b[0;36m<cell line: 4>\u001b[1;34m()\u001b[0m\n\u001b[0;32m      1\u001b[0m \u001b[38;5;28;01mdef\u001b[39;00m \u001b[38;5;21madd_numbers\u001b[39m(x, y):\n\u001b[0;32m      2\u001b[0m     \u001b[38;5;28;01mreturn\u001b[39;00m x \u001b[38;5;241m+\u001b[39m y\n\u001b[1;32m----> 4\u001b[0m \u001b[43madd_numbers\u001b[49m\u001b[43m(\u001b[49m\u001b[38;5;241;43m1\u001b[39;49m\u001b[43m,\u001b[49m\u001b[43m \u001b[49m\u001b[38;5;241;43m2\u001b[39;49m\u001b[43m,\u001b[49m\u001b[43m \u001b[49m\u001b[38;5;241;43m3\u001b[39;49m\u001b[43m)\u001b[49m\n",
      "\u001b[1;31mTypeError\u001b[0m: add_numbers() takes 2 positional arguments but 3 were given"
     ]
    }
   ],
   "source": [
    "def add_numbers(x, y):\n",
    "    return x + y\n",
    "\n",
    "add_numbers(1, 2, 3) "
   ]
  },
  {
   "cell_type": "markdown",
   "id": "9671c85f",
   "metadata": {},
   "source": [
    "### 3] Using a Variable Before Assignment:\n",
    " Trying to use a variable that has not been defined or assigned a value."
   ]
  },
  {
   "cell_type": "code",
   "execution_count": 4,
   "id": "433653d9",
   "metadata": {},
   "outputs": [
    {
     "ename": "NameError",
     "evalue": "name 'x' is not defined",
     "output_type": "error",
     "traceback": [
      "\u001b[1;31m---------------------------------------------------------------------------\u001b[0m",
      "\u001b[1;31mNameError\u001b[0m                                 Traceback (most recent call last)",
      "Input \u001b[1;32mIn [4]\u001b[0m, in \u001b[0;36m<cell line: 1>\u001b[1;34m()\u001b[0m\n\u001b[1;32m----> 1\u001b[0m \u001b[38;5;28mprint\u001b[39m(\u001b[43mx\u001b[49m)\n",
      "\u001b[1;31mNameError\u001b[0m: name 'x' is not defined"
     ]
    }
   ],
   "source": [
    "print(x)"
   ]
  },
  {
   "cell_type": "markdown",
   "id": "346abc39",
   "metadata": {},
   "source": [
    "### 4] Indexing/Slicing a Non-Indexable Object:\n",
    "Trying to access an index or slice of an object that does not support these operations."
   ]
  },
  {
   "cell_type": "code",
   "execution_count": 5,
   "id": "9824292c",
   "metadata": {},
   "outputs": [
    {
     "ename": "TypeError",
     "evalue": "'int' object is not subscriptable",
     "output_type": "error",
     "traceback": [
      "\u001b[1;31m---------------------------------------------------------------------------\u001b[0m",
      "\u001b[1;31mTypeError\u001b[0m                                 Traceback (most recent call last)",
      "Input \u001b[1;32mIn [5]\u001b[0m, in \u001b[0;36m<cell line: 2>\u001b[1;34m()\u001b[0m\n\u001b[0;32m      1\u001b[0m x \u001b[38;5;241m=\u001b[39m \u001b[38;5;241m5\u001b[39m\n\u001b[1;32m----> 2\u001b[0m \u001b[43mx\u001b[49m\u001b[43m[\u001b[49m\u001b[38;5;241;43m0\u001b[39;49m\u001b[43m]\u001b[49m\n",
      "\u001b[1;31mTypeError\u001b[0m: 'int' object is not subscriptable"
     ]
    }
   ],
   "source": [
    "x = 5\n",
    "x[0]"
   ]
  },
  {
   "cell_type": "markdown",
   "id": "c7149997",
   "metadata": {},
   "source": [
    "5] Calling a Non-Callable Object:\n",
    "\n",
    "Trying to call an object that is not a function or does not have a __call__ method."
   ]
  },
  {
   "cell_type": "code",
   "execution_count": 6,
   "id": "46615b1e",
   "metadata": {},
   "outputs": [
    {
     "ename": "TypeError",
     "evalue": "'int' object is not callable",
     "output_type": "error",
     "traceback": [
      "\u001b[1;31m---------------------------------------------------------------------------\u001b[0m",
      "\u001b[1;31mTypeError\u001b[0m                                 Traceback (most recent call last)",
      "Input \u001b[1;32mIn [6]\u001b[0m, in \u001b[0;36m<cell line: 2>\u001b[1;34m()\u001b[0m\n\u001b[0;32m      1\u001b[0m x \u001b[38;5;241m=\u001b[39m \u001b[38;5;241m5\u001b[39m\n\u001b[1;32m----> 2\u001b[0m \u001b[43mx\u001b[49m\u001b[43m(\u001b[49m\u001b[43m)\u001b[49m\n",
      "\u001b[1;31mTypeError\u001b[0m: 'int' object is not callable"
     ]
    }
   ],
   "source": [
    "x = 5\n",
    "x()  # This will raise a TypeError"
   ]
  },
  {
   "cell_type": "markdown",
   "id": "a7e0f495",
   "metadata": {},
   "source": [
    "### 6] Mismatched Types in Comparison:\n",
    "\n",
    "Trying to compare objects of different types that cannot be compared."
   ]
  },
  {
   "cell_type": "code",
   "execution_count": 7,
   "id": "b10c92ff",
   "metadata": {
    "scrolled": true
   },
   "outputs": [
    {
     "ename": "TypeError",
     "evalue": "'>' not supported between instances of 'str' and 'int'",
     "output_type": "error",
     "traceback": [
      "\u001b[1;31m---------------------------------------------------------------------------\u001b[0m",
      "\u001b[1;31mTypeError\u001b[0m                                 Traceback (most recent call last)",
      "Input \u001b[1;32mIn [7]\u001b[0m, in \u001b[0;36m<cell line: 1>\u001b[1;34m()\u001b[0m\n\u001b[1;32m----> 1\u001b[0m \u001b[38;5;124;43m'\u001b[39;49m\u001b[38;5;124;43m5\u001b[39;49m\u001b[38;5;124;43m'\u001b[39;49m\u001b[43m \u001b[49m\u001b[38;5;241;43m>\u001b[39;49m\u001b[43m \u001b[49m\u001b[38;5;241;43m4\u001b[39;49m\n",
      "\u001b[1;31mTypeError\u001b[0m: '>' not supported between instances of 'str' and 'int'"
     ]
    }
   ],
   "source": [
    "'5' > 4 "
   ]
  },
  {
   "cell_type": "markdown",
   "id": "c57758a0",
   "metadata": {},
   "source": [
    "### 7] Incorrect Usage of range:\n",
    "\n",
    "Using the range function with incorrect arguments."
   ]
  },
  {
   "cell_type": "code",
   "execution_count": 8,
   "id": "702159f4",
   "metadata": {},
   "outputs": [
    {
     "ename": "TypeError",
     "evalue": "'str' object cannot be interpreted as an integer",
     "output_type": "error",
     "traceback": [
      "\u001b[1;31m---------------------------------------------------------------------------\u001b[0m",
      "\u001b[1;31mTypeError\u001b[0m                                 Traceback (most recent call last)",
      "Input \u001b[1;32mIn [8]\u001b[0m, in \u001b[0;36m<cell line: 1>\u001b[1;34m()\u001b[0m\n\u001b[1;32m----> 1\u001b[0m \u001b[38;5;28;43mrange\u001b[39;49m\u001b[43m(\u001b[49m\u001b[38;5;124;43m'\u001b[39;49m\u001b[38;5;124;43m5\u001b[39;49m\u001b[38;5;124;43m'\u001b[39;49m\u001b[43m)\u001b[49m\n",
      "\u001b[1;31mTypeError\u001b[0m: 'str' object cannot be interpreted as an integer"
     ]
    }
   ],
   "source": [
    "range('5')"
   ]
  },
  {
   "cell_type": "markdown",
   "id": "834fef04",
   "metadata": {},
   "source": [
    "### 8] Attempting to Modify an Immutable Object:\n",
    "\n",
    "Trying to modify an object that is immutable, like a string or a tuple."
   ]
  },
  {
   "cell_type": "code",
   "execution_count": 9,
   "id": "8a8ebbeb",
   "metadata": {},
   "outputs": [
    {
     "ename": "TypeError",
     "evalue": "'str' object does not support item assignment",
     "output_type": "error",
     "traceback": [
      "\u001b[1;31m---------------------------------------------------------------------------\u001b[0m",
      "\u001b[1;31mTypeError\u001b[0m                                 Traceback (most recent call last)",
      "Input \u001b[1;32mIn [9]\u001b[0m, in \u001b[0;36m<cell line: 2>\u001b[1;34m()\u001b[0m\n\u001b[0;32m      1\u001b[0m x\u001b[38;5;241m=\u001b[39m \u001b[38;5;124m\"\u001b[39m\u001b[38;5;124mhello\u001b[39m\u001b[38;5;124m\"\u001b[39m\n\u001b[1;32m----> 2\u001b[0m x[\u001b[38;5;241m0\u001b[39m] \u001b[38;5;241m=\u001b[39m \u001b[38;5;124m'\u001b[39m\u001b[38;5;124mH\u001b[39m\u001b[38;5;124m'\u001b[39m\n",
      "\u001b[1;31mTypeError\u001b[0m: 'str' object does not support item assignment"
     ]
    }
   ],
   "source": [
    "x= \"hello\"\n",
    "x[0] = 'H'"
   ]
  },
  {
   "cell_type": "markdown",
   "id": "ca77b1af",
   "metadata": {},
   "source": [
    "### 9] Incorrect Usage of Built-in Functions:\n",
    "\n",
    "Providing incorrect arguments to built-in functions."
   ]
  },
  {
   "cell_type": "code",
   "execution_count": 10,
   "id": "8e8d67f8",
   "metadata": {},
   "outputs": [
    {
     "ename": "ValueError",
     "evalue": "invalid literal for int() with base 10: 'Hello'",
     "output_type": "error",
     "traceback": [
      "\u001b[1;31m---------------------------------------------------------------------------\u001b[0m",
      "\u001b[1;31mValueError\u001b[0m                                Traceback (most recent call last)",
      "Input \u001b[1;32mIn [10]\u001b[0m, in \u001b[0;36m<cell line: 1>\u001b[1;34m()\u001b[0m\n\u001b[1;32m----> 1\u001b[0m \u001b[38;5;28;43mint\u001b[39;49m\u001b[43m(\u001b[49m\u001b[38;5;124;43m'\u001b[39;49m\u001b[38;5;124;43mHello\u001b[39;49m\u001b[38;5;124;43m'\u001b[39;49m\u001b[43m)\u001b[49m\n",
      "\u001b[1;31mValueError\u001b[0m: invalid literal for int() with base 10: 'Hello'"
     ]
    }
   ],
   "source": [
    "int('Hello')"
   ]
  },
  {
   "cell_type": "code",
   "execution_count": 11,
   "id": "8459fd5a",
   "metadata": {},
   "outputs": [
    {
     "data": {
      "text/plain": [
       "5"
      ]
     },
     "execution_count": 11,
     "metadata": {},
     "output_type": "execute_result"
    }
   ],
   "source": [
    "int('5')"
   ]
  },
  {
   "cell_type": "markdown",
   "id": "3a0d7ddf",
   "metadata": {},
   "source": [
    "### 10]Using a Non-Boolean in a Boolean Context:\n",
    "\n",
    "Using a non-boolean value (like a number or an object) in a context where a boolean value is expected."
   ]
  },
  {
   "cell_type": "code",
   "execution_count": 12,
   "id": "313622ea",
   "metadata": {},
   "outputs": [
    {
     "name": "stdout",
     "output_type": "stream",
     "text": [
      "This will execute\n"
     ]
    }
   ],
   "source": [
    "if 5:\n",
    "    print(\"This will execute\")"
   ]
  }
 ],
 "metadata": {
  "kernelspec": {
   "display_name": "Python 3 (ipykernel)",
   "language": "python",
   "name": "python3"
  },
  "language_info": {
   "codemirror_mode": {
    "name": "ipython",
    "version": 3
   },
   "file_extension": ".py",
   "mimetype": "text/x-python",
   "name": "python",
   "nbconvert_exporter": "python",
   "pygments_lexer": "ipython3",
   "version": "3.9.12"
  }
 },
 "nbformat": 4,
 "nbformat_minor": 5
}
