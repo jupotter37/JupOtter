{
 "cells": [
  {
   "cell_type": "markdown",
   "metadata": {},
   "source": [
    "# Liquidación de asuntos laborales\n",
    "## Liquidación de prestaciones"
   ]
  },
  {
   "cell_type": "code",
<<<<<<< HEAD
   "execution_count": null,
   "metadata": {},
   "outputs": [],
=======
   "execution_count": 13,
   "metadata": {},
   "outputs": [
    {
     "ename": "TypeError",
     "evalue": "an integer is required (got type str)",
     "output_type": "error",
     "traceback": [
      "\u001b[1;31m---------------------------------------------------------------------------\u001b[0m",
      "\u001b[1;31mTypeError\u001b[0m                                 Traceback (most recent call last)",
      "\u001b[1;32m<ipython-input-13-c5852d2715f3>\u001b[0m in \u001b[0;36m<module>\u001b[1;34m\u001b[0m\n\u001b[0;32m     40\u001b[0m \u001b[1;33m\u001b[0m\u001b[0m\n\u001b[0;32m     41\u001b[0m \u001b[1;33m\u001b[0m\u001b[0m\n\u001b[1;32m---> 42\u001b[1;33m \u001b[0mfin\u001b[0m \u001b[1;33m=\u001b[0m \u001b[0mdate\u001b[0m\u001b[1;33m(\u001b[0m\u001b[1;34m\"2017\"\u001b[0m\u001b[1;33m,\u001b[0m\u001b[1;36m12\u001b[0m\u001b[1;33m,\u001b[0m\u001b[1;36m31\u001b[0m\u001b[1;33m)\u001b[0m\u001b[1;33m\u001b[0m\u001b[1;33m\u001b[0m\u001b[0m\n\u001b[0m",
      "\u001b[1;31mTypeError\u001b[0m: an integer is required (got type str)"
     ]
    }
   ],
>>>>>>> Joaquín-R
   "source": [
    "# Para contratos laborales a término indefinido\n",
    "# Renuncia normal\n",
    "\n",
    "#Necesitamos:\n",
    "\n",
    "#### Datos del trabajador (Valentina)\n",
    "\n",
    "# <- labor desempeñada\n",
    "#Fecha de inicio => DATE (número)\n",
    "#Fecha de finalización => DATE (número)\n",
    "#último Salario => Número (por ahora fijo)\n",
    "#Salario promedio (horas extras etc)\n",
    "# Auxilio lo calcularemos por ahora con base en el salario\n",
    "#Días trabajados Obtener de las fechas anterior\n",
    "\n",
    "#### Info del código Laboral (Joaquín)\n",
    "# Fórmulas para las liquidaciones (Prima, vacaciones, salarios, cesantías, intereses cesantías)\n",
    "# Fechas clave (prima, cesantías (intereses), )\n",
    "\n",
    "\n",
    "### Estructura del programa (Miguel)\n",
    "\n",
    "### Usuario Interfaz\n",
    "#nombre identificación, dirección, telefono\n",
    "# Trabajador - Inserta\n",
    "# Decirle qué hace, cómo usarlo\n",
    "# Pedirle los datos\n",
    "\n",
    "#Arrojar el valor discriminado por cada concepto y el total a pagar.\n",
    "\n",
    "### Oculto\n",
    "\n",
    "# Tener las fórmulas guardadas\n",
    "# Calcular el tie\n",
<<<<<<< HEAD
    "\n",
    "\n",
    "\n"
=======
    "from datetime import date\n",
    "\n",
    "\n",
    "inicio = date(2017,8,31)\n",
    "inicio\n",
    "\n",
    "\n",
    "fin = date(2017,12,31)\n"
   ]
  },
  {
   "cell_type": "code",
   "execution_count": 10,
   "metadata": {},
   "outputs": [
    {
     "data": {
      "text/plain": [
       "2017"
      ]
     },
     "execution_count": 10,
     "metadata": {},
     "output_type": "execute_result"
    }
   ],
   "source": [
    "inicio.year"
   ]
  },
  {
   "cell_type": "code",
   "execution_count": 14,
   "metadata": {},
   "outputs": [
    {
     "data": {
      "text/plain": [
       "8"
      ]
     },
     "execution_count": 14,
     "metadata": {},
     "output_type": "execute_result"
    }
   ],
   "source": [
    "int(\"08\")"
   ]
  },
  {
   "cell_type": "code",
   "execution_count": 2,
   "metadata": {
    "scrolled": false
   },
   "outputs": [
    {
     "name": "stdout",
     "output_type": "stream",
     "text": [
      "Por favor indique su nombre completo\n",
      "x\n",
      "Indique su salario mensualx\n"
     ]
    },
    {
     "ename": "ValueError",
     "evalue": "invalid literal for int() with base 10: 'x'",
     "output_type": "error",
     "traceback": [
      "\u001b[1;31m---------------------------------------------------------------------------\u001b[0m",
      "\u001b[1;31mValueError\u001b[0m                                Traceback (most recent call last)",
      "\u001b[1;32m<ipython-input-2-3118607472c4>\u001b[0m in \u001b[0;36m<module>\u001b[1;34m\u001b[0m\n\u001b[0;32m     28\u001b[0m \u001b[0msalario\u001b[0m \u001b[1;33m=\u001b[0m \u001b[1;33m(\u001b[0m\u001b[0minput\u001b[0m\u001b[1;33m(\u001b[0m\u001b[1;34m'Indique su salario mensual'\u001b[0m\u001b[1;33m)\u001b[0m\u001b[1;33m)\u001b[0m\u001b[1;33m\u001b[0m\u001b[1;33m\u001b[0m\u001b[0m\n\u001b[0;32m     29\u001b[0m \u001b[0msalario\u001b[0m \u001b[1;33m=\u001b[0m \u001b[0msalario\u001b[0m\u001b[1;33m.\u001b[0m\u001b[0mreplace\u001b[0m \u001b[1;33m(\u001b[0m\u001b[1;34m'.'\u001b[0m\u001b[1;33m,\u001b[0m\u001b[1;34m''\u001b[0m\u001b[1;33m)\u001b[0m\u001b[1;33m.\u001b[0m\u001b[0mreplace\u001b[0m\u001b[1;33m(\u001b[0m\u001b[1;34m\",\"\u001b[0m\u001b[1;33m,\u001b[0m\u001b[1;34m\"\"\u001b[0m\u001b[1;33m)\u001b[0m\u001b[1;33m\u001b[0m\u001b[1;33m\u001b[0m\u001b[0m\n\u001b[1;32m---> 30\u001b[1;33m \u001b[0msalario\u001b[0m \u001b[1;33m=\u001b[0m \u001b[0mint\u001b[0m\u001b[1;33m(\u001b[0m\u001b[0msalario\u001b[0m\u001b[1;33m)\u001b[0m\u001b[1;33m\u001b[0m\u001b[1;33m\u001b[0m\u001b[0m\n\u001b[0m\u001b[0;32m     31\u001b[0m \u001b[1;32mif\u001b[0m \u001b[0msalario\u001b[0m \u001b[1;33m<\u001b[0m \u001b[0mSMLMV\u001b[0m\u001b[1;33m*\u001b[0m\u001b[1;36m2\u001b[0m\u001b[1;33m:\u001b[0m\u001b[1;33m\u001b[0m\u001b[1;33m\u001b[0m\u001b[0m\n\u001b[0;32m     32\u001b[0m     \u001b[0maux_transporte\u001b[0m \u001b[1;33m=\u001b[0m \u001b[0minput\u001b[0m\u001b[1;33m(\u001b[0m\u001b[1;34m'Recibe Auxilio de Transporte (S/N)'\u001b[0m\u001b[1;33m)\u001b[0m\u001b[1;33m.\u001b[0m\u001b[0mupper\u001b[0m\u001b[1;33m(\u001b[0m\u001b[1;33m)\u001b[0m\u001b[1;33m\u001b[0m\u001b[1;33m\u001b[0m\u001b[0m\n",
      "\u001b[1;31mValueError\u001b[0m: invalid literal for int() with base 10: 'x'"
     ]
    }
   ],
   "source": [
    "from datetime import date\n",
    "\n",
    "def fecha(inp):\n",
    "    if inp == 'fin':\n",
    "        inp = 'finalización del contrato'\n",
    "    strfecha = input(f'Fecha de {inp}: AAAA-MM-DD')\n",
    "    año = int(strfecha[:4])\n",
    "    mes = int(strfecha[5:7])\n",
    "    dia = int(strfecha[-2:])\n",
    "    fecha = date(año,mes,dia)\n",
    "    return fecha\n",
    "\n",
    "\n",
    "\n",
    "\n",
    "#Datos internos\n",
    "\n",
    "SMLMV = 908526\n",
    "AUXILIO = 102854\n",
    "\n",
    "\n",
    "\n",
    "\n",
    "#DATOS DEL TRABAJADOR \n",
    "aux = 'No aplica'\n",
    "nom_trabajador= input('Por favor indique su nombre completo\\n').upper().strip()\n",
    "# contrato = input('Indique el tipo de contrato tiene: \\n 1. Término fijo\\n2. Término indefinido')\n",
    "salario = (input('Indique su salario mensual'))\n",
    "salario = salario.replace ('.','').replace(\",\",\"\")\n",
    "salario = int(salario)\n",
    "if salario < SMLMV*2:\n",
    "    aux_transporte = input('Recibe Auxilio de Transporte (S/N)').upper()\n",
    "    aux = (True if aux_transporte ==\"S\" else False)\n",
    "fecha_inicio = fecha('inicio')\n",
    "fecha_fin = fecha('fin')\n",
    "dias_t = dias30(fecha_fin,fecha_inicio)\n",
    "# if aux:\n",
    "#     salario = salario+AUXILIO\n",
    "\n",
    "\n",
    "print(nom_trabajador)\n",
    "print(salario)\n",
    "print(fecha_inicio)\n",
    "print(fecha_fin)"
   ]
  },
  {
   "cell_type": "code",
   "execution_count": 56,
   "metadata": {},
   "outputs": [
    {
     "data": {
      "text/plain": [
       "True"
      ]
     },
     "execution_count": 56,
     "metadata": {},
     "output_type": "execute_result"
    }
   ],
   "source": [
    "fecha_fin > mitad_año"
   ]
  },
  {
   "cell_type": "code",
   "execution_count": 34,
   "metadata": {},
   "outputs": [
    {
     "data": {
      "text/plain": [
       "0.6388888888888888"
      ]
     },
     "execution_count": 34,
     "metadata": {},
     "output_type": "execute_result"
    }
   ],
   "source": [
    "dias_t_año/360"
   ]
  },
  {
   "cell_type": "code",
   "execution_count": 37,
   "metadata": {
    "scrolled": true
   },
   "outputs": [
    {
     "data": {
      "text/plain": [
       "832378.94"
      ]
     },
     "execution_count": 37,
     "metadata": {},
     "output_type": "execute_result"
    }
   ],
   "source": [
    "\n",
    "\n",
    "cesantias = dias_t_año*(salario+AUXILIO)/360\n",
    "cesantias"
   ]
  },
  {
   "cell_type": "code",
   "execution_count": 48,
   "metadata": {},
   "outputs": [
    {
     "data": {
      "text/plain": [
       "True"
      ]
     },
     "execution_count": 48,
     "metadata": {},
     "output_type": "execute_result"
    }
   ],
   "source": [
    "aux"
   ]
  },
  {
   "cell_type": "code",
   "execution_count": 58,
   "metadata": {
    "scrolled": true
   },
   "outputs": [
    {
     "data": {
      "text/plain": [
       "651426.996521739"
      ]
     },
     "execution_count": 58,
     "metadata": {},
     "output_type": "execute_result"
    }
   ],
   "source": [
    "\n",
    "\n",
    "\n",
    "prima1 = cesantias*dias_sem_1/dias_t_año\n",
    "prima1"
   ]
  },
  {
   "cell_type": "code",
   "execution_count": 55,
   "metadata": {},
   "outputs": [
    {
     "data": {
      "text/plain": [
       "False"
      ]
     },
     "execution_count": 55,
     "metadata": {},
     "output_type": "execute_result"
    }
   ],
   "source": [
    "dias_sem_2"
   ]
  },
  {
   "cell_type": "code",
   "execution_count": 59,
   "metadata": {},
   "outputs": [
    {
     "data": {
      "text/plain": [
       "180951.94347826086"
      ]
     },
     "execution_count": 59,
     "metadata": {},
     "output_type": "execute_result"
    }
   ],
   "source": [
    "prima2 = cesantias*dias_sem_2/dias_t_año\n",
    "prima2"
   ]
  },
  {
   "cell_type": "code",
   "execution_count": 41,
   "metadata": {},
   "outputs": [
    {
     "name": "stdout",
     "output_type": "stream",
     "text": [
      "Valor intereses de las cesantías: 63816\n"
     ]
    }
   ],
   "source": [
    "i_cesantias = dias_t_año*0.12*cesantias/360\n",
    "print(\"Valor intereses de las cesantías:\", int(i_cesantias)+1)\n"
   ]
  },
  {
   "cell_type": "code",
   "execution_count": 65,
   "metadata": {},
   "outputs": [
    {
     "data": {
      "text/plain": [
       "445"
      ]
     },
     "execution_count": 65,
     "metadata": {},
     "output_type": "execute_result"
    }
   ],
   "source": [
    "dias_t"
   ]
  },
  {
   "cell_type": "code",
   "execution_count": 72,
   "metadata": {},
   "outputs": [
    {
     "data": {
      "text/plain": [
       "141666.6666666667"
      ]
     },
     "execution_count": 72,
     "metadata": {},
     "output_type": "execute_result"
    }
   ],
   "source": [
    "# fecha_inicio = date(2020,5,26)\n",
    "# fecha_fin = date(2021,8,20)\n",
    "inicio_año = date(fecha_fin.year,1,1)\n",
    "mitad_año = date(fecha_fin.year,6,30)\n",
    "\n",
    "dias_v = dias_t%360\n",
    "\n",
    "\n",
    "vacaciones = salario/30*dias_v/360*15\n",
    "vacaciones"
   ]
  },
  {
   "cell_type": "code",
   "execution_count": 71,
   "metadata": {},
   "outputs": [
    {
     "data": {
      "text/plain": [
       "25"
      ]
     },
     "execution_count": 71,
     "metadata": {},
     "output_type": "execute_result"
    }
   ],
   "source": [
    "385%360"
   ]
  },
  {
   "cell_type": "code",
   "execution_count": 26,
   "metadata": {},
   "outputs": [
    {
     "data": {
      "text/plain": [
       "85"
      ]
     },
     "execution_count": 26,
     "metadata": {},
     "output_type": "execute_result"
    }
   ],
   "source": [
    "dias30(fecha_fin,fecha_inicio)"
   ]
  },
  {
   "cell_type": "code",
   "execution_count": null,
   "metadata": {},
   "outputs": [],
   "source": [
    "\n",
    "\n",
    "\n",
    "total_cesantias = print(\"Valor cesantías:\", cesantias)\n",
    "intereses_cesantias = float(((dias_trabajado_año*0.12)*cesantias)/360)\n",
    "total_intereses = print(\"Valor intereses de las cesantías:\", intereses_cesantias)\n"
   ]
  },
  {
   "cell_type": "code",
   "execution_count": 20,
   "metadata": {},
   "outputs": [
    {
     "data": {
      "text/plain": [
       "True"
      ]
     },
     "execution_count": 20,
     "metadata": {},
     "output_type": "execute_result"
    }
   ],
   "source": [
    "fecha_fin > fecha_inicio"
   ]
  },
  {
   "cell_type": "code",
   "execution_count": 3,
   "metadata": {},
   "outputs": [],
   "source": [
    "def dias30(fecha_final,fecha_inicial):\n",
    "    mes_f = fecha_final.month\n",
    "    mes_i = fecha_inicial.month\n",
    "    año_f = fecha_final.year\n",
    "    año_i = fecha_inicial.year\n",
    "    dia_f = fecha_final.day\n",
    "    dia_i = fecha_inicial.day\n",
    "    if not año_f > año_i:\n",
    "        meses = mes_f - mes_i\n",
    "        dias = dia_f - dia_i\n",
    "        conteo = (meses*30)+dias\n",
    "    else:\n",
    "        años = año_f - año_i\n",
    "        meses = años*12 + (mes_f - mes_i)\n",
    "        dias = dia_f - dia_i\n",
    "        conteo = (meses*30)+dias\n",
    "    return conteo+1\n",
    "\n",
    "# dias30(fecha_fin,fecha_inicio)"
>>>>>>> Joaquín-R
   ]
  },
  {
   "cell_type": "markdown",
   "metadata": {},
   "source": [
    "# Indemnizaciones (Natalia)"
   ]
  },
  {
   "cell_type": "code",
   "execution_count": null,
   "metadata": {},
   "outputs": [],
   "source": [
    "# Tipo de contrato\n",
    "# Fechas contrato término fijo\n",
    "#labor obra\n",
    "#\n"
   ]
<<<<<<< HEAD
=======
  },
  {
   "cell_type": "code",
   "execution_count": null,
   "metadata": {},
   "outputs": [],
   "source": [
    "# En los contratos a término indefinido la indemnización se pagará así:\n",
    "\n",
    "\n",
    "# a) Para trabajadores que devenguen un salario inferior a diez (10) salarios mínimos mensuales legales:\n",
    "# 1. Treinta (30) días de salario cuando el trabajador tuviere un tiempo de servicio no mayor de un (1) año.\n",
    "# 2. Si el trabajador tuviere más de un (1) año de servicio continuo se le pagarán veinte (20) \n",
    "#días adicionales de salario sobre los treinta (30) básicos del numeral 1, por cada uno de los años \n",
    "#de servicio subsiguientes al primero y proporcionalmente por fracción;\n",
    "\n",
    "### Salario variable necesita más info\n",
    "\n",
    "\n",
    "\n",
    "# b) Para trabajadores que devenguen un salario igual o superior a diez (10), salarios mínimos legales mensuales.\n",
    "# 1. Veinte (20) días de salario cuando el trabajador tuviere un tiempo de servicio no mayor de un (1) año.\n",
    "# 2. Si el trabajador tuviere más de un (1) año de servicio continuo, se le pagarán quince (15) días adicionales de salario \n",
    "#sobre los veinte (20) días básicos del numeral 1 anterior, por cada uno de los años de servicio subsiguientes al \n",
    "#primero y proporcionalmente por fracción.\n",
    "\n",
    "\n",
    "\n"
   ]
  },
  {
   "cell_type": "code",
   "execution_count": 4,
   "metadata": {},
   "outputs": [],
   "source": [
    "nombre = \"Alex Rodríguez\"\n",
    "salario = 3000000\n",
    "fecha_inicio = date(2016,3,13)\n",
    "fecha_fin = date(2021,9,30)\n",
    "dias_t = dias30(fecha_fin,fecha_inicio)"
   ]
  },
  {
   "cell_type": "code",
   "execution_count": null,
   "metadata": {},
   "outputs": [],
   "source": [
    "nombre_2 = \"Alex Rodríguez\"\n",
    "salario_2 = 3000000\n",
    "fecha_inicio_2 = date(2016,3,13)\n",
    "fecha_fin_2 = date(2021,9,30)\n",
    "dias_t_2 = dias30(fecha_fin,fecha_inicio)"
   ]
  },
  {
   "cell_type": "code",
   "execution_count": null,
   "metadata": {},
   "outputs": [],
   "source": [
    "#### Literal A\n",
    "\n",
    "if salario < SMLMV*10:\n",
    "    if dias_t < 360:\n",
    "        indemnizacion = salario\n",
    "    else:\n",
    "        dias_2 = dias_t-360\n",
    "        dias_indem = dias_2 / 360 * 20\n",
    "        indemnizacion = salario+(dias_indem*salario/30)\n",
    "\n",
    "\n",
    "        \n",
    "        \n",
    "print(f\"Te deberían pagar $ {round(indemnizacion):,}\")"
   ]
  },
  {
   "cell_type": "code",
   "execution_count": 6,
   "metadata": {},
   "outputs": [
    {
     "name": "stdout",
     "output_type": "stream",
     "text": [
      "Te deberían pagar $ 12,100,000\n"
     ]
    }
   ],
   "source": [
    "#### Literal A y B\n",
    "\n",
    "\n",
    "\n",
    "\n",
    "def calcu_indemniza(salario, dias_t, SMLMV = 908526):\n",
    "\n",
    "    if salario < SMLMV*10:\n",
    "        if dias_t < 360:\n",
    "            indemnizacion = salario\n",
    "        else:\n",
    "            dias_2 = dias_t-360\n",
    "            dias_indem = dias_2 / 360 * 20\n",
    "            indemnizacion = salario+(dias_indem*salario/30)\n",
    "    else:\n",
    "        if dias_t < 360:\n",
    "            indemnizacion = salario/30*20\n",
    "        else:\n",
    "            dias_2 = dias_t-360\n",
    "            dias_indem = dias_2 / 360 * 15\n",
    "            indemnizacion = (salario/30*20)+(dias_indem*salario/30)\n",
    "    return indemnizacion\n",
    "\n",
    "            \n",
    "            \n",
    "print(f\"Te deberían pagar $ {round(calcu_indemniza(salario, dias_t, SMLMV = 908526)):,}\")\n",
    "        \n"
   ]
  },
  {
   "cell_type": "code",
   "execution_count": 27,
   "metadata": {
    "scrolled": true
   },
   "outputs": [
    {
     "data": {
      "text/plain": [
       "5.55"
      ]
     },
     "execution_count": 27,
     "metadata": {},
     "output_type": "execute_result"
    }
   ],
   "source": [
    "dias_t/360\n"
   ]
  },
  {
   "cell_type": "code",
   "execution_count": 7,
   "metadata": {},
   "outputs": [
    {
     "data": {
      "text/plain": [
       "198.00000000000003"
      ]
     },
     "execution_count": 7,
     "metadata": {},
     "output_type": "execute_result"
    }
   ],
   "source": [
    "0.55*360"
   ]
  },
  {
   "cell_type": "code",
   "execution_count": 21,
   "metadata": {},
   "outputs": [
    {
     "data": {
      "text/plain": [
       "1998.0"
      ]
     },
     "execution_count": 21,
     "metadata": {},
     "output_type": "execute_result"
    }
   ],
   "source": [
    "360*5.55"
   ]
  },
  {
   "cell_type": "code",
   "execution_count": 22,
   "metadata": {
    "scrolled": true
   },
   "outputs": [
    {
     "data": {
      "text/plain": [
       "198"
      ]
     },
     "execution_count": 22,
     "metadata": {},
     "output_type": "execute_result"
    }
   ],
   "source": [
    "1998%360"
   ]
  },
  {
   "cell_type": "code",
   "execution_count": 23,
   "metadata": {},
   "outputs": [
    {
     "data": {
      "text/plain": [
       "18"
      ]
     },
     "execution_count": 23,
     "metadata": {},
     "output_type": "execute_result"
    }
   ],
   "source": [
    "198%30"
   ]
  },
  {
   "cell_type": "code",
   "execution_count": null,
   "metadata": {},
   "outputs": [],
   "source": [
    "\n",
    "#Datos internos\n",
    "\n",
    "SMLMV = 908526\n",
    "AUXILIO = 102854\n",
    "\n",
    "\n",
    "\n",
    "\n",
    "#DATOS DEL TRABAJADOR \n",
    "aux = 'No aplica'\n",
    "nom_trabajador= input('Por favor indique su nombre completo\\n').upper().strip()\n",
    "# contrato = input('Indique el tipo de contrato tiene: \\n 1. Término fijo\\n2. Término indefinido')\n",
    "salario = (input('Indique su salario mensual'))\n",
    "salario = salario.replace ('.','').replace(\",\",\"\")\n",
    "salario = int(salario)\n",
    "if salario < SMLMV*2:\n",
    "    aux_transporte = input('Recibe Auxilio de Transporte (S/N)').upper()\n",
    "    aux = (True if aux_transporte ==\"S\" else False)\n",
    "fecha_inicio = fecha('inicio')\n",
    "fecha_fin = fecha('fin')\n",
    "dias_t = dias30(fecha_fin,fecha_inicio)\n",
    "# if aux:\n",
    "#     salario = salario+AUXILIO\n",
    "\n",
    "\n",
    "print(nom_trabajador)\n",
    "print(salario)\n",
    "print(fecha_inicio)\n",
    "print(fecha_fin)"
   ]
>>>>>>> Joaquín-R
  }
 ],
 "metadata": {
  "kernelspec": {
   "display_name": "Python 3",
   "language": "python",
   "name": "python3"
  },
  "language_info": {
   "codemirror_mode": {
    "name": "ipython",
    "version": 3
   },
   "file_extension": ".py",
   "mimetype": "text/x-python",
   "name": "python",
   "nbconvert_exporter": "python",
   "pygments_lexer": "ipython3",
<<<<<<< HEAD
   "version": "3.8.8"
=======
   "version": "3.7.3"
>>>>>>> Joaquín-R
  }
 },
 "nbformat": 4,
 "nbformat_minor": 4
}
