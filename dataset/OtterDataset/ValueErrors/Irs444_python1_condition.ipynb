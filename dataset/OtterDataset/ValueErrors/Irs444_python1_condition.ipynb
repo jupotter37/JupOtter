{
 "cells": [
  {
   "cell_type": "markdown",
   "metadata": {},
   "source": [
    "# **If Statement:**"
   ]
  },
  {
   "cell_type": "code",
   "execution_count": 1,
   "metadata": {},
   "outputs": [],
   "source": [
    "a=input(\"enter first number:\")\n",
    "b=input(\"enter second number:\")\n",
    "if a<b:\n",
    "    print(\"a is less than b\")\n"
   ]
  },
  {
   "cell_type": "code",
   "execution_count": 2,
   "metadata": {},
   "outputs": [
    {
     "name": "stdout",
     "output_type": "stream",
     "text": [
      "grade C\n"
     ]
    }
   ],
   "source": [
    "marks = int(input(\"enter the marks:\"))\n",
    "if marks>90:\n",
    "    print(\"grade A\")\n",
    "if marks >80 and marks<=90:\n",
    "    print(\"grade B\")\n",
    "if marks >70 and marks<=80:\n",
    "    print(\"grade C\")\n",
    "if marks >60 and marks<=70:\n",
    "    print(\"grade D\")  \n",
    "         "
   ]
  },
  {
   "cell_type": "code",
   "execution_count": 3,
   "metadata": {},
   "outputs": [
    {
     "name": "stdout",
     "output_type": "stream",
     "text": [
      "num1 is greater\n"
     ]
    }
   ],
   "source": [
    "num = int(input(\"enter number one:\"))\n",
    "num1 = int(input(\"enter number two:\"))\n",
    "num2 = int(input(\"enter number three:\"))\n",
    "if num>num1 and num>num2:\n",
    "    print(\"num is greater\")\n",
    "if num1>num and num1>num2:\n",
    "    print(\"num1 is greater\") \n",
    "if num2>num and num2>num1:\n",
    "    print(\"num2 is greater\")       "
   ]
  },
  {
   "cell_type": "markdown",
   "metadata": {},
   "source": [
    "# **elif statement:**"
   ]
  },
  {
   "cell_type": "code",
   "execution_count": 4,
   "metadata": {},
   "outputs": [
    {
     "name": "stdout",
     "output_type": "stream",
     "text": [
      "enter valid number\n"
     ]
    }
   ],
   "source": [
    "num_str = input(\"enter number between 1 to 7:\")\n",
    "if num_str.isnumeric():\n",
    "    num = int(num_str)\n",
    "    if num == 1:\n",
    "        print(\"monday\")\n",
    "    elif num == 2:\n",
    "        print(\"tuesday\")\n",
    "    elif num == 3:\n",
    "        print(\"wednesday\")\n",
    "    elif num == 4:\n",
    "        print(\"thursday\")\n",
    "    elif num == 5:\n",
    "        print(\"friday\")\n",
    "    elif num == 6:\n",
    "        print(\"saturday\")\n",
    "    else:\n",
    "        print(\"sunday\")\n",
    "else:\n",
    "    print(\"enter valid number\")\n",
    " \n",
    "                   "
   ]
  },
  {
   "cell_type": "markdown",
   "metadata": {},
   "source": [
    "# **if else statement:**"
   ]
  },
  {
   "cell_type": "code",
   "execution_count": 5,
   "metadata": {},
   "outputs": [
    {
     "ename": "ValueError",
     "evalue": "invalid literal for int() with base 10: ''",
     "output_type": "error",
     "traceback": [
      "\u001b[1;31m---------------------------------------------------------------------------\u001b[0m",
      "\u001b[1;31mValueError\u001b[0m                                Traceback (most recent call last)",
      "Cell \u001b[1;32mIn[5], line 1\u001b[0m\n\u001b[1;32m----> 1\u001b[0m x\u001b[38;5;241m=\u001b[39m \u001b[38;5;28;43mint\u001b[39;49m\u001b[43m(\u001b[49m\u001b[38;5;28;43minput\u001b[39;49m\u001b[43m(\u001b[49m\u001b[38;5;124;43m\"\u001b[39;49m\u001b[38;5;124;43menter the number:\u001b[39;49m\u001b[38;5;124;43m\"\u001b[39;49m\u001b[43m)\u001b[49m\u001b[43m)\u001b[49m\n\u001b[0;32m      2\u001b[0m \u001b[38;5;28;01mif\u001b[39;00m x\u001b[38;5;241m%\u001b[39m\u001b[38;5;241m2\u001b[39m \u001b[38;5;241m==\u001b[39m \u001b[38;5;241m0\u001b[39m:\n\u001b[0;32m      3\u001b[0m     \u001b[38;5;28mprint\u001b[39m (\u001b[38;5;124m\"\u001b[39m\u001b[38;5;124meven number\u001b[39m\u001b[38;5;124m\"\u001b[39m)\n",
      "\u001b[1;31mValueError\u001b[0m: invalid literal for int() with base 10: ''"
     ]
    }
   ],
   "source": [
    "x= int(input(\"enter the number:\"))\n",
    "if x%2 == 0:\n",
    "    print (\"even number\")\n",
    "else:\n",
    "    print(\"odd number\")"
   ]
  },
  {
   "cell_type": "code",
   "execution_count": null,
   "metadata": {},
   "outputs": [],
   "source": [
    "wd = int(input(\"enter the number of working days:\"))\n",
    "ab = int(input(\"enter the number of days absent\"))\n",
    "per = (wd-ab)/wd*100\n",
    "print(\"your attendence is:\", per)\n",
    "if per <75:\n",
    "    print(\"not allowed in exam\")\n",
    "else:\n",
    "    print(\"allowed in exam\")\n",
    "    "
   ]
  },
  {
   "cell_type": "markdown",
   "metadata": {},
   "source": [
    "wap to find out the total salay of the employee based on the following data\n",
    "salary : user input\n",
    "hra = 5%\n",
    "da = 3.3%\n",
    "ta = 2.61%\n",
    "\n",
    "`total = salary + hra + da+ ta`\n",
    "\n",
    "\n"
   ]
  },
  {
   "cell_type": "code",
   "execution_count": null,
   "metadata": {},
   "outputs": [
    {
     "name": "stdout",
     "output_type": "stream",
     "text": [
      "working day\n"
     ]
    }
   ],
   "source": [
    "# match case - use this to match multiple code \n",
    "day = input(\"enter the number between 1 to 7:\")    \n",
    "match day.lower():\n",
    "    case \"monday\"| \"tuesday\"| \"wednesday\"| \"thursday\"| \"friday\":\n",
    "        print(\"working day\")\n",
    "    case \"saturday\"|\"sunday\":\n",
    "        print(\"holiday\")\n",
    "    case _: #default case\n",
    "        print(\"enter valid number\")\n",
    "\n",
    "        "
   ]
  },
  {
   "cell_type": "markdown",
   "metadata": {},
   "source": []
  },
  {
   "cell_type": "markdown",
   "metadata": {},
   "source": [
    "#### single line condition"
   ]
  },
  {
   "cell_type": "code",
   "execution_count": null,
   "metadata": {},
   "outputs": [],
   "source": [
    "x= int(input(\"enter the number:\"))\n",
    "print(\"above 100\") if x>100 else print(\"below 100\")"
   ]
  },
  {
   "cell_type": "markdown",
   "metadata": {},
   "source": [
    "#### for loop\n",
    "- step based\n",
    "- transversal\n",
    "\n",
    "``for var in iterable:\n",
    "statement....``\n",
    "\n",
    "#### while loop\n",
    "- condition based"
   ]
  },
  {
   "cell_type": "code",
   "execution_count": null,
   "metadata": {},
   "outputs": [],
   "source": [
    "for v in \"hello\":\n",
    "    print(v)          "
   ]
  },
  {
   "cell_type": "code",
   "execution_count": null,
   "metadata": {},
   "outputs": [],
   "source": [
    "color =[ \"red\", \"green\", \"blue\"]\n",
    "for c in color:\n",
    "    print(c)"
   ]
  },
  {
   "cell_type": "code",
   "execution_count": null,
   "metadata": {},
   "outputs": [],
   "source": [
    "# index and value\n",
    "for i, v in enumerate(color):\n",
    "    print(i,v)"
   ]
  },
  {
   "cell_type": "code",
   "execution_count": null,
   "metadata": {},
   "outputs": [
    {
     "name": "stdout",
     "output_type": "stream",
     "text": [
      "1   =>  10\n",
      "453 =>  4530\n",
      "34  =>  340\n",
      "67  =>  670\n"
     ]
    }
   ],
   "source": [
    "numlist = [1, 453, 34 ,67]\n",
    "for num in numlist:\n",
    "    print(f\"{num:<3} =>  {num*10}\")"
   ]
  },
  {
   "cell_type": "code",
   "execution_count": null,
   "metadata": {},
   "outputs": [
    {
     "name": "stdout",
     "output_type": "stream",
     "text": [
      "13 X   1 = 13\n",
      "13 X   2 = 26\n",
      "13 X   3 = 39\n",
      "13 X   4 = 52\n",
      "13 X   5 = 65\n",
      "13 X   6 = 78\n",
      "13 X   7 = 91\n",
      "13 X   8 = 104\n",
      "13 X   9 = 117\n",
      "13 X  10 = 130\n"
     ]
    }
   ],
   "source": [
    "\n",
    "for i in range(1,11):\n",
    "    print(f\"13 X {i} = {13*i}\")"
   ]
  },
  {
   "cell_type": "code",
   "execution_count": null,
   "metadata": {},
   "outputs": [
    {
     "name": "stdout",
     "output_type": "stream",
     "text": [
      "10\n",
      "9\n",
      "8\n",
      "7\n",
      "6\n",
      "5\n",
      "4\n",
      "3\n",
      "2\n",
      "1\n"
     ]
    }
   ],
   "source": [
    "for i in range(10,0,-1):\n",
    "    print(i)"
   ]
  },
  {
   "cell_type": "code",
   "execution_count": null,
   "metadata": {},
   "outputs": [
    {
     "name": "stdout",
     "output_type": "stream",
     "text": [
      "3\n",
      "6\n",
      "9\n",
      "12\n",
      "15\n",
      "18\n",
      "21\n",
      "24\n",
      "27\n",
      "30\n"
     ]
    }
   ],
   "source": [
    "for i in range(3,33,3):\n",
    "    print(i)\n"
   ]
  },
  {
   "cell_type": "code",
   "execution_count": null,
   "metadata": {},
   "outputs": [],
   "source": []
  },
  {
   "cell_type": "markdown",
   "metadata": {},
   "source": [
    "# this is my first code \n",
    "- jbddjk\n",
    "- jbkj\n"
   ]
  },
  {
   "cell_type": "code",
   "execution_count": null,
   "metadata": {},
   "outputs": [],
   "source": [
    "data = [1,2,3,4,5,6,7,8,9,10]\n",
    "\n",
    "for i in data:\n",
    "    print(i)\n",
    "    if i==5:\n",
    "        break\n",
    "\n",
    "    "
   ]
  },
  {
   "cell_type": "code",
   "execution_count": null,
   "metadata": {},
   "outputs": [],
   "source": [
    "fruits = [\"apple\", \"banana\", \"cherry\"]\n",
    "for x in fruits:\n",
    "    if x == \"banana\":\n",
    "        continue\n",
    "    print(x)"
   ]
  },
  {
   "cell_type": "code",
   "execution_count": null,
   "metadata": {},
   "outputs": [],
   "source": [
    "num = [1,2,3]\n",
    "for i in num:\n",
    "    for j in fruits:\n",
    "        print(i,j)\n"
   ]
  },
  {
   "cell_type": "code",
   "execution_count": null,
   "metadata": {},
   "outputs": [],
   "source": [
    "for i in range(1,6):\n",
    "    for j in range(1,i+1):\n",
    "        print(\"*\", end=\" \")\n",
    "    print()                       "
   ]
  },
  {
   "cell_type": "code",
   "execution_count": null,
   "metadata": {},
   "outputs": [
    {
     "name": "stdout",
     "output_type": "stream",
     "text": [
      "Yes free is present in txt\n"
     ]
    }
   ],
   "source": [
    "\n",
    "txt = 'the best thing in life are free'\n",
    "if \"free\" in txt:\n",
    "    print(f\"Yes free is present in txt\")"
   ]
  },
  {
   "cell_type": "code",
   "execution_count": null,
   "metadata": {},
   "outputs": [
    {
     "name": "stdout",
     "output_type": "stream",
     "text": [
      "e\n",
      "ell\n",
      "ello, World, this , is , bad, world\n",
      "hello\n",
      "r\n",
      "worl\n"
     ]
    }
   ],
   "source": [
    "b= \"hello, World, this , is , bad, world\"\n",
    "print(b[1])\n",
    "print(b[1:4])\n",
    "print(b[1:])\n",
    "print(b[:5])\n",
    "print(b[-3])\n",
    "print(b[-5:-1])"
   ]
  },
  {
   "cell_type": "code",
   "execution_count": null,
   "metadata": {},
   "outputs": [
    {
     "name": "stdout",
     "output_type": "stream",
     "text": [
      "Invalid email🤦‍♂️\n"
     ]
    }
   ],
   "source": [
    "name=input(\"Enter the username\")\n",
    "email=input(\"Enter the email\")\n",
    "ps=input(\"Enter the password\")\n",
    "ps2=input(\"Enter the password again\")\n",
    "if len(name)>=4 and len(name)<=15:\n",
    "    if '@' in email and email.islower() and len(email)>10:\n",
    "        if len(ps)>=6 and ps!=name:\n",
    "            if ps==ps2:\n",
    "                print(\"Hurray🎉\")\n",
    "            else:\n",
    "                print(\"Password not matched😒\")\n",
    "        else:\n",
    "            print(\"Invalid password🤦‍♀️\")\n",
    "    else:\n",
    "        print(\"Invalid email🤦‍♂️\")\n",
    "else:\n",
    "    print(\"Invalid name😭\")"
   ]
  },
  {
   "cell_type": "code",
   "execution_count": null,
   "metadata": {},
   "outputs": [
    {
     "name": "stdout",
     "output_type": "stream",
     "text": [
      "it is sunday\n"
     ]
    }
   ],
   "source": [
    "weeks = input(\"enter the days:\")\n",
    "match weeks.lower():\n",
    "    case \"monday\" | \"tuesday\":\n",
    "        print(\"it is monday and tuesday\")\n",
    "    case \"wednesday\" | 'thursday':\n",
    "        print(\"it is wednesday and thursday\")\n",
    "    case \"friday\"|\"saturday\":\n",
    "        print(\"it is friday and saturday\")\n",
    "    case _:\n",
    "        print(\"it is sunday\") \n",
    "        "
   ]
  },
  {
   "cell_type": "code",
   "execution_count": null,
   "metadata": {},
   "outputs": [],
   "source": []
  }
 ],
 "metadata": {
  "kernelspec": {
   "display_name": "Python 3",
   "language": "python",
   "name": "python3"
  },
  "language_info": {
   "codemirror_mode": {
    "name": "ipython",
    "version": 3
   },
   "file_extension": ".py",
   "mimetype": "text/x-python",
   "name": "python",
   "nbconvert_exporter": "python",
   "pygments_lexer": "ipython3",
   "version": "3.12.3"
  }
 },
 "nbformat": 4,
 "nbformat_minor": 2
}
