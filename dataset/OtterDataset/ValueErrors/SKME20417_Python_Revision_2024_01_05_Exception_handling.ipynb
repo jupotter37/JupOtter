{
 "cells": [
  {
   "cell_type": "code",
   "execution_count": 1,
   "id": "de3517ac",
   "metadata": {},
   "outputs": [
    {
     "ename": "NameError",
     "evalue": "name 'p' is not defined",
     "output_type": "error",
     "traceback": [
      "\u001b[1;31m---------------------------------------------------------------------------\u001b[0m",
      "\u001b[1;31mNameError\u001b[0m                                 Traceback (most recent call last)",
      "\u001b[1;32m<ipython-input-1-c7efc66e9b10>\u001b[0m in \u001b[0;36m<module>\u001b[1;34m\u001b[0m\n\u001b[1;32m----> 1\u001b[1;33m \u001b[0mprint\u001b[0m\u001b[1;33m(\u001b[0m\u001b[0mp\u001b[0m\u001b[1;33m)\u001b[0m\u001b[1;33m\u001b[0m\u001b[1;33m\u001b[0m\u001b[0m\n\u001b[0m",
      "\u001b[1;31mNameError\u001b[0m: name 'p' is not defined"
     ]
    }
   ],
   "source": [
    "print(p)"
   ]
  },
  {
   "cell_type": "code",
   "execution_count": 2,
   "id": "ab459cf2",
   "metadata": {},
   "outputs": [
    {
     "ename": "SyntaxError",
     "evalue": "unexpected EOF while parsing (<ipython-input-2-8d62283e128a>, line 1)",
     "output_type": "error",
     "traceback": [
      "\u001b[1;36m  File \u001b[1;32m\"<ipython-input-2-8d62283e128a>\"\u001b[1;36m, line \u001b[1;32m1\u001b[0m\n\u001b[1;33m    if 4>6:\u001b[0m\n\u001b[1;37m           ^\u001b[0m\n\u001b[1;31mSyntaxError\u001b[0m\u001b[1;31m:\u001b[0m unexpected EOF while parsing\n"
     ]
    }
   ],
   "source": [
    "if 4>6:"
   ]
  },
  {
   "cell_type": "code",
   "execution_count": 3,
   "id": "b6f56790",
   "metadata": {},
   "outputs": [
    {
     "ename": "ModuleNotFoundError",
     "evalue": "No module named 'dontknow'",
     "output_type": "error",
     "traceback": [
      "\u001b[1;31m---------------------------------------------------------------------------\u001b[0m",
      "\u001b[1;31mModuleNotFoundError\u001b[0m                       Traceback (most recent call last)",
      "\u001b[1;32m<ipython-input-3-bcd87af70373>\u001b[0m in \u001b[0;36m<module>\u001b[1;34m\u001b[0m\n\u001b[1;32m----> 1\u001b[1;33m \u001b[1;32mimport\u001b[0m \u001b[0mdontknow\u001b[0m\u001b[1;33m\u001b[0m\u001b[1;33m\u001b[0m\u001b[0m\n\u001b[0m",
      "\u001b[1;31mModuleNotFoundError\u001b[0m: No module named 'dontknow'"
     ]
    }
   ],
   "source": [
    "import dontknow"
   ]
  },
  {
   "cell_type": "code",
   "execution_count": 4,
   "id": "f1f0acd9",
   "metadata": {},
   "outputs": [
    {
     "ename": "AttributeError",
     "evalue": "'str' object has no attribute 'sort'",
     "output_type": "error",
     "traceback": [
      "\u001b[1;31m---------------------------------------------------------------------------\u001b[0m",
      "\u001b[1;31mAttributeError\u001b[0m                            Traceback (most recent call last)",
      "\u001b[1;32m<ipython-input-4-9df22ca69a9a>\u001b[0m in \u001b[0;36m<module>\u001b[1;34m\u001b[0m\n\u001b[1;32m----> 1\u001b[1;33m \u001b[1;34m\"machine learning is easy\"\u001b[0m\u001b[1;33m.\u001b[0m\u001b[0msort\u001b[0m\u001b[1;33m(\u001b[0m\u001b[1;33m)\u001b[0m\u001b[1;33m\u001b[0m\u001b[1;33m\u001b[0m\u001b[0m\n\u001b[0m",
      "\u001b[1;31mAttributeError\u001b[0m: 'str' object has no attribute 'sort'"
     ]
    }
   ],
   "source": [
    "\"machine learning is easy\".sort()"
   ]
  },
  {
   "cell_type": "code",
   "execution_count": 5,
   "id": "2f08ef21",
   "metadata": {},
   "outputs": [
    {
     "ename": "TypeError",
     "evalue": "can only concatenate str (not \"int\") to str",
     "output_type": "error",
     "traceback": [
      "\u001b[1;31m---------------------------------------------------------------------------\u001b[0m",
      "\u001b[1;31mTypeError\u001b[0m                                 Traceback (most recent call last)",
      "\u001b[1;32m<ipython-input-5-7c537bbdad31>\u001b[0m in \u001b[0;36m<module>\u001b[1;34m\u001b[0m\n\u001b[1;32m----> 1\u001b[1;33m \u001b[1;34m\"hello\"\u001b[0m \u001b[1;33m+\u001b[0m \u001b[1;36m5\u001b[0m\u001b[1;33m\u001b[0m\u001b[1;33m\u001b[0m\u001b[0m\n\u001b[0m",
      "\u001b[1;31mTypeError\u001b[0m: can only concatenate str (not \"int\") to str"
     ]
    }
   ],
   "source": [
    "\"hello\" + 5"
   ]
  },
  {
   "cell_type": "code",
   "execution_count": 8,
   "id": "8c27ef51",
   "metadata": {},
   "outputs": [
    {
     "name": "stdout",
     "output_type": "stream",
     "text": [
      "['ArithmeticError', 'AssertionError', 'AttributeError', 'BaseException', 'BlockingIOError', 'BrokenPipeError', 'BufferError', 'BytesWarning', 'ChildProcessError', 'ConnectionAbortedError', 'ConnectionError', 'ConnectionRefusedError', 'ConnectionResetError', 'DeprecationWarning', 'EOFError', 'Ellipsis', 'EnvironmentError', 'Exception', 'False', 'FileExistsError', 'FileNotFoundError', 'FloatingPointError', 'FutureWarning', 'GeneratorExit', 'IOError', 'ImportError', 'ImportWarning', 'IndentationError', 'IndexError', 'InterruptedError', 'IsADirectoryError', 'KeyError', 'KeyboardInterrupt', 'LookupError', 'MemoryError', 'ModuleNotFoundError', 'NameError', 'None', 'NotADirectoryError', 'NotImplemented', 'NotImplementedError', 'OSError', 'OverflowError', 'PendingDeprecationWarning', 'PermissionError', 'ProcessLookupError', 'RecursionError', 'ReferenceError', 'ResourceWarning', 'RuntimeError', 'RuntimeWarning', 'StopAsyncIteration', 'StopIteration', 'SyntaxError', 'SyntaxWarning', 'SystemError', 'SystemExit', 'TabError', 'TimeoutError', 'True', 'TypeError', 'UnboundLocalError', 'UnicodeDecodeError', 'UnicodeEncodeError', 'UnicodeError', 'UnicodeTranslateError', 'UnicodeWarning', 'UserWarning', 'ValueError', 'Warning', 'WindowsError', 'ZeroDivisionError', '__IPYTHON__', '__build_class__', '__debug__', '__doc__', '__import__', '__loader__', '__name__', '__package__', '__spec__', 'abs', 'all', 'any', 'ascii', 'bin', 'bool', 'breakpoint', 'bytearray', 'bytes', 'callable', 'chr', 'classmethod', 'compile', 'complex', 'copyright', 'credits', 'delattr', 'dict', 'dir', 'display', 'divmod', 'enumerate', 'eval', 'exec', 'filter', 'float', 'format', 'frozenset', 'get_ipython', 'getattr', 'globals', 'hasattr', 'hash', 'help', 'hex', 'id', 'input', 'int', 'isinstance', 'issubclass', 'iter', 'len', 'license', 'list', 'locals', 'map', 'max', 'memoryview', 'min', 'next', 'object', 'oct', 'open', 'ord', 'pow', 'print', 'property', 'range', 'repr', 'reversed', 'round', 'set', 'setattr', 'slice', 'sorted', 'staticmethod', 'str', 'sum', 'super', 'tuple', 'type', 'vars', 'zip']\n"
     ]
    }
   ],
   "source": [
    "print(dir(__builtins__))"
   ]
  },
  {
   "cell_type": "code",
   "execution_count": null,
   "id": "6ab56d5c",
   "metadata": {},
   "outputs": [],
   "source": [
    "try\n",
    "except\n",
    "else\n",
    "finnaly\n",
    "raise"
   ]
  },
  {
   "cell_type": "code",
   "execution_count": 9,
   "id": "7f207b64",
   "metadata": {},
   "outputs": [
    {
     "ename": "ZeroDivisionError",
     "evalue": "division by zero",
     "output_type": "error",
     "traceback": [
      "\u001b[1;31m---------------------------------------------------------------------------\u001b[0m",
      "\u001b[1;31mZeroDivisionError\u001b[0m                         Traceback (most recent call last)",
      "\u001b[1;32m<ipython-input-9-0106664d39e8>\u001b[0m in \u001b[0;36m<module>\u001b[1;34m\u001b[0m\n\u001b[1;32m----> 1\u001b[1;33m \u001b[1;36m5\u001b[0m\u001b[1;33m/\u001b[0m\u001b[1;36m0\u001b[0m\u001b[1;33m\u001b[0m\u001b[1;33m\u001b[0m\u001b[0m\n\u001b[0m",
      "\u001b[1;31mZeroDivisionError\u001b[0m: division by zero"
     ]
    }
   ],
   "source": [
    "5/0"
   ]
  },
  {
   "cell_type": "code",
   "execution_count": 18,
   "id": "40e809a3",
   "metadata": {},
   "outputs": [],
   "source": [
    "lst = [2,5,0, 'hello', None, 4]\n",
    "import sys"
   ]
  },
  {
   "cell_type": "code",
   "execution_count": 20,
   "id": "b5311b78",
   "metadata": {},
   "outputs": [
    {
     "name": "stdout",
     "output_type": "stream",
     "text": [
      "Current Elemenet :  2\n",
      "Result :  2.5\n",
      "==================================================\n",
      "Current Elemenet :  5\n",
      "Result :  1.0\n",
      "==================================================\n",
      "Current Elemenet :  0\n",
      "Error Hanppened:  division by zero\n",
      "<class 'ZeroDivisionError'>\n",
      "==================================================\n",
      "Current Elemenet :  hello\n",
      "Error Hanppened:  invalid literal for int() with base 10: 'hello'\n",
      "<class 'ValueError'>\n",
      "==================================================\n",
      "Current Elemenet :  None\n",
      "Error Hanppened:  int() argument must be a string, a bytes-like object or a number, not 'NoneType'\n",
      "<class 'TypeError'>\n",
      "==================================================\n",
      "Current Elemenet :  4\n",
      "Result :  1.25\n",
      "==================================================\n",
      "100 lines of code..\n"
     ]
    }
   ],
   "source": [
    "for i in lst:\n",
    "    try:\n",
    "        print(\"Current Elemenet : \" , i)\n",
    "        res = 5/int(i)\n",
    "        print(\"Result : \" ,res)\n",
    "    except Exception as e:\n",
    "        print(\"Error Hanppened: \" , e)\n",
    "        print(sys.exc_info()[0])\n",
    "    print(\"=\"*50)\n",
    "        \n",
    "print(\"100 lines of code..\")"
   ]
  },
  {
   "cell_type": "code",
   "execution_count": null,
   "id": "b63f7089",
   "metadata": {},
   "outputs": [],
   "source": []
  },
  {
   "cell_type": "code",
   "execution_count": 23,
   "id": "d3607fbb",
   "metadata": {},
   "outputs": [
    {
     "name": "stdout",
     "output_type": "stream",
     "text": [
      "Current Elemenet :  2\n",
      "Result :  2.5\n",
      "I will always be executed...\n",
      "==================================================\n",
      "Current Elemenet :  5\n",
      "Result :  1.0\n",
      "I will always be executed...\n",
      "==================================================\n",
      "Current Elemenet :  0\n",
      "hey you can not divide it by zero.. division by zero\n",
      "I will always be executed...\n",
      "==================================================\n",
      "Current Elemenet :  hello\n",
      "This is value error :  invalid literal for int() with base 10: 'hello'\n",
      "I will always be executed...\n",
      "==================================================\n",
      "Current Elemenet :  None\n",
      "Error Hanppened:  int() argument must be a string, a bytes-like object or a number, not 'NoneType'\n",
      "<class 'TypeError'>\n",
      "I will always be executed...\n",
      "==================================================\n",
      "Current Elemenet :  4\n",
      "Result :  1.25\n",
      "I will always be executed...\n",
      "==================================================\n",
      "100 lines of code..\n"
     ]
    }
   ],
   "source": [
    "for i in lst:\n",
    "    try:\n",
    "        print(\"Current Elemenet : \" , i)\n",
    "        res = 5/int(i)\n",
    "        print(\"Result : \" ,res)\n",
    "        \n",
    "    except ZeroDivisionError as ze:\n",
    "        print(\"hey you can not divide it by zero..\", ze)\n",
    "    except ValueError as ve:\n",
    "        print(\"This is value error : \", ve)\n",
    "    except Exception as e:\n",
    "        print(\"Error Hanppened: \" , e)\n",
    "        print(sys.exc_info()[0])\n",
    "    finally:\n",
    "        print(\"I will always be executed...\")\n",
    "        #db.close()\n",
    "        #api.close()\n",
    "        #file.close()\n",
    "    print(\"=\"*50)\n",
    "        \n",
    "print(\"100 lines of code..\")"
   ]
  },
  {
   "cell_type": "code",
   "execution_count": 25,
   "id": "c56d5a17",
   "metadata": {},
   "outputs": [
    {
     "ename": "Exception",
     "evalue": "sanjay",
     "output_type": "error",
     "traceback": [
      "\u001b[1;31m---------------------------------------------------------------------------\u001b[0m",
      "\u001b[1;31mException\u001b[0m                                 Traceback (most recent call last)",
      "\u001b[1;32m<ipython-input-25-5520bdd99da2>\u001b[0m in \u001b[0;36m<module>\u001b[1;34m\u001b[0m\n\u001b[1;32m----> 1\u001b[1;33m \u001b[1;32mraise\u001b[0m \u001b[0mException\u001b[0m\u001b[1;33m(\u001b[0m\u001b[1;34m'sanjay'\u001b[0m\u001b[1;33m)\u001b[0m\u001b[1;33m\u001b[0m\u001b[1;33m\u001b[0m\u001b[0m\n\u001b[0m",
      "\u001b[1;31mException\u001b[0m: sanjay"
     ]
    }
   ],
   "source": [
    "raise Exception('sanjay')"
   ]
  },
  {
   "cell_type": "code",
   "execution_count": 26,
   "id": "8c4bc3f7",
   "metadata": {},
   "outputs": [
    {
     "ename": "Exception",
     "evalue": "Hi",
     "output_type": "error",
     "traceback": [
      "\u001b[1;31m---------------------------------------------------------------------------\u001b[0m",
      "\u001b[1;31mException\u001b[0m                                 Traceback (most recent call last)",
      "\u001b[1;32m<ipython-input-26-ece3340a3675>\u001b[0m in \u001b[0;36m<module>\u001b[1;34m\u001b[0m\n\u001b[1;32m----> 1\u001b[1;33m \u001b[1;32mraise\u001b[0m \u001b[0mException\u001b[0m\u001b[1;33m(\u001b[0m\u001b[1;34m'Hi'\u001b[0m\u001b[1;33m)\u001b[0m\u001b[1;33m\u001b[0m\u001b[1;33m\u001b[0m\u001b[0m\n\u001b[0m",
      "\u001b[1;31mException\u001b[0m: Hi"
     ]
    }
   ],
   "source": [
    "raise Exception('Hi')"
   ]
  },
  {
   "cell_type": "code",
   "execution_count": 28,
   "id": "177f44bb",
   "metadata": {},
   "outputs": [
    {
     "ename": "ValueError",
     "evalue": "This is my error",
     "output_type": "error",
     "traceback": [
      "\u001b[1;31m---------------------------------------------------------------------------\u001b[0m",
      "\u001b[1;31mValueError\u001b[0m                                Traceback (most recent call last)",
      "\u001b[1;32m<ipython-input-28-5f26f70071f0>\u001b[0m in \u001b[0;36m<module>\u001b[1;34m\u001b[0m\n\u001b[1;32m----> 1\u001b[1;33m \u001b[1;32mraise\u001b[0m \u001b[0mValueError\u001b[0m\u001b[1;33m(\u001b[0m\u001b[1;34m'This is my error'\u001b[0m\u001b[1;33m)\u001b[0m\u001b[1;33m\u001b[0m\u001b[1;33m\u001b[0m\u001b[0m\n\u001b[0m\u001b[0;32m      2\u001b[0m \u001b[1;33m\u001b[0m\u001b[0m\n\u001b[0;32m      3\u001b[0m \u001b[0mprint\u001b[0m\u001b[1;33m(\u001b[0m\u001b[1;34m'100 lines of code'\u001b[0m\u001b[1;33m)\u001b[0m\u001b[1;33m\u001b[0m\u001b[1;33m\u001b[0m\u001b[0m\n",
      "\u001b[1;31mValueError\u001b[0m: This is my error"
     ]
    }
   ],
   "source": [
    "raise ValueError('This is my error')\n",
    "\n",
    "print('100 lines of code')"
   ]
  },
  {
   "cell_type": "code",
   "execution_count": null,
   "id": "6eb68d40",
   "metadata": {},
   "outputs": [],
   "source": []
  },
  {
   "cell_type": "code",
   "execution_count": 32,
   "id": "55cb29b2",
   "metadata": {},
   "outputs": [
    {
     "name": "stdout",
     "output_type": "stream",
     "text": [
      "Enter your name : ase\n",
      "Error occured :  Please provide a proper name it can not be less than 3 charcters..\n",
      "You can not stop me to close resourses..\n"
     ]
    }
   ],
   "source": [
    "try:\n",
    "    name = input('Enter your name : ')\n",
    "    length = len(name)\n",
    "    \n",
    "    if length<=3:\n",
    "        raise Exception(\"Please provide a proper name it can not be less than 3 charcters..\")\n",
    "    else:\n",
    "        print(f\"Hello {name} how are you ?\")\n",
    "except Exception as e:\n",
    "    print(\"Error occured : \", e)\n",
    "finally:\n",
    "    print(\"You can not stop me to close resourses..\")\n",
    "    "
   ]
  },
  {
   "cell_type": "code",
   "execution_count": 36,
   "id": "bbada755",
   "metadata": {},
   "outputs": [
    {
     "name": "stdout",
     "output_type": "stream",
     "text": [
      "Enter your name : pooja\n",
      "Hi pooja whats up bro\n",
      "You can not stop me to close resourses..\n",
      "100 lines of code...\n"
     ]
    }
   ],
   "source": [
    "try:\n",
    "    name = input('Enter your name : ')\n",
    "    length = len(name)\n",
    "    \n",
    "    if length<=3:\n",
    "        raise Exception(\"Please provide a proper name it can not be less than 3 charcters..\")\n",
    "except Exception as e:\n",
    "    print(\"Error occured : \", e)\n",
    "else:\n",
    "    print(f\"Hi {name} whats up bro\")\n",
    "finally:\n",
    "    print(\"You can not stop me to close resourses..\")\n",
    "    \n",
    "print('100 lines of code...')"
   ]
  },
  {
   "cell_type": "code",
   "execution_count": null,
   "id": "18218623",
   "metadata": {},
   "outputs": [],
   "source": []
  }
 ],
 "metadata": {
  "kernelspec": {
   "display_name": "Python 3",
   "language": "python",
   "name": "python3"
  },
  "language_info": {
   "codemirror_mode": {
    "name": "ipython",
    "version": 3
   },
   "file_extension": ".py",
   "mimetype": "text/x-python",
   "name": "python",
   "nbconvert_exporter": "python",
   "pygments_lexer": "ipython3",
   "version": "3.8.8"
  }
 },
 "nbformat": 4,
 "nbformat_minor": 5
}
