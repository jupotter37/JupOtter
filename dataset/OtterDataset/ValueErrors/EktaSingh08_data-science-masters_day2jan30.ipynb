{
 "cells": [
  {
   "cell_type": "code",
   "execution_count": 2,
   "id": "792a6015-06b5-4394-9576-a890c3f3e93b",
   "metadata": {},
   "outputs": [],
   "source": [
    "a=10"
   ]
  },
  {
   "cell_type": "code",
   "execution_count": 3,
   "id": "98f8afb6-78e3-4db5-939e-03548c1ed317",
   "metadata": {},
   "outputs": [],
   "source": [
    "a='c'"
   ]
  },
  {
   "cell_type": "code",
   "execution_count": 4,
   "id": "c4e05eac-df56-4e8d-b563-706096333607",
   "metadata": {},
   "outputs": [
    {
     "data": {
      "text/plain": [
       "str"
      ]
     },
     "execution_count": 4,
     "metadata": {},
     "output_type": "execute_result"
    }
   ],
   "source": [
    "type(a)"
   ]
  },
  {
   "cell_type": "code",
   "execution_count": 5,
   "id": "87e5df41-0573-4ccd-ba3e-8551518b1c77",
   "metadata": {},
   "outputs": [
    {
     "data": {
      "text/plain": [
       "123"
      ]
     },
     "execution_count": 5,
     "metadata": {},
     "output_type": "execute_result"
    }
   ],
   "source": [
    "int('123')"
   ]
  },
  {
   "cell_type": "code",
   "execution_count": 6,
   "id": "2a1a8c3f-de5a-4b08-98db-4dea4269dba0",
   "metadata": {},
   "outputs": [
    {
     "ename": "ValueError",
     "evalue": "invalid literal for int() with base 10: 'abcd'",
     "output_type": "error",
     "traceback": [
      "\u001b[0;31m---------------------------------------------------------------------------\u001b[0m",
      "\u001b[0;31mValueError\u001b[0m                                Traceback (most recent call last)",
      "Cell \u001b[0;32mIn[6], line 1\u001b[0m\n\u001b[0;32m----> 1\u001b[0m \u001b[38;5;28;43mint\u001b[39;49m\u001b[43m(\u001b[49m\u001b[38;5;124;43m'\u001b[39;49m\u001b[38;5;124;43mabcd\u001b[39;49m\u001b[38;5;124;43m'\u001b[39;49m\u001b[43m)\u001b[49m\n",
      "\u001b[0;31mValueError\u001b[0m: invalid literal for int() with base 10: 'abcd'"
     ]
    }
   ],
   "source": [
    "int('abcd')"
   ]
  },
  {
   "cell_type": "code",
   "execution_count": 7,
   "id": "d682c6a3-eb64-48ff-bb94-f9f217e21f40",
   "metadata": {},
   "outputs": [
    {
     "name": "stdout",
     "output_type": "stream",
     "text": [
      "hello world\n",
      "hello world\n"
     ]
    }
   ],
   "source": [
    "print(\"hello world\")\n",
    "print('hello world')"
   ]
  },
  {
   "cell_type": "code",
   "execution_count": 8,
   "id": "53525817-58a7-416c-b1e8-a4d99cbd43f2",
   "metadata": {},
   "outputs": [],
   "source": [
    "## both of them work in the same manner if we use double or single quotation marks"
   ]
  },
  {
   "cell_type": "code",
   "execution_count": 9,
   "id": "09c54c31-6c18-401c-8314-daa642f93c0a",
   "metadata": {},
   "outputs": [
    {
     "name": "stdout",
     "output_type": "stream",
     "text": [
      "my age is: 20\n"
     ]
    }
   ],
   "source": [
    "age=20\n",
    "print('my age is:',age)"
   ]
  },
  {
   "cell_type": "code",
   "execution_count": 10,
   "id": "9afa0a6f-f301-4482-8881-336e498c9fac",
   "metadata": {},
   "outputs": [
    {
     "name": "stdout",
     "output_type": "stream",
     "text": [
      "my age is :{age}\n"
     ]
    }
   ],
   "source": [
    "print('my age is :{age}')"
   ]
  },
  {
   "cell_type": "code",
   "execution_count": 11,
   "id": "d2187648-74fa-4e0a-aa5c-16d535245dc0",
   "metadata": {},
   "outputs": [
    {
     "name": "stdout",
     "output_type": "stream",
     "text": [
      "my age is :20\n"
     ]
    }
   ],
   "source": [
    "print(f'my age is :{age}')"
   ]
  },
  {
   "cell_type": "code",
   "execution_count": 1,
   "id": "1793b6f3-b37e-45a1-aae3-0e97533f0caf",
   "metadata": {},
   "outputs": [],
   "source": [
    "## f is use for formatting and it is called f string , we use it beacuse if i want to call the variable\n",
    "## without using the comma"
   ]
  },
  {
   "cell_type": "code",
   "execution_count": 3,
   "id": "50ce4773-b838-4d23-a2c6-4fc05d8952da",
   "metadata": {},
   "outputs": [
    {
     "name": "stdout",
     "output_type": "stream",
     "text": [
      "my name is Ekta Singh and my age is 20\n"
     ]
    }
   ],
   "source": [
    "## format\n",
    "name='Ekta Singh'\n",
    "age=20\n",
    "print('my name is {} and my age is {}'.format(name,age))"
   ]
  },
  {
   "cell_type": "code",
   "execution_count": 6,
   "id": "ad956ecc-6765-4c55-b7bf-7ea7c93e80aa",
   "metadata": {},
   "outputs": [
    {
     "name": "stdout",
     "output_type": "stream",
     "text": [
      "my name is 20 and my age is Ekta Singh\n"
     ]
    }
   ],
   "source": [
    "name='Ekta Singh'\n",
    "age=20\n",
    "print(f'my name is {age} and my age is {name}')\n"
   ]
  },
  {
   "cell_type": "code",
   "execution_count": 2,
   "id": "d6394a9a-9cff-49bf-84f4-992814dbeef4",
   "metadata": {},
   "outputs": [],
   "source": [
    "## in which order you will be a giving a variable , in that order it will be replacing sequentially"
   ]
  },
  {
   "cell_type": "code",
   "execution_count": 7,
   "id": "b4e28a0c-dff8-4201-ad5c-bff7a6496f9e",
   "metadata": {},
   "outputs": [
    {
     "name": "stdout",
     "output_type": "stream",
     "text": [
      "my name is Ekta Singh and my age is 20\n"
     ]
    }
   ],
   "source": [
    "## placeholder are realname and realage , now whatever order we give it doesnt matter\n",
    "name='Ekta Singh'\n",
    "age=20\n",
    "print('my name is {realname} and my age is {realage}'.format(realname=name,realage=age))"
   ]
  },
  {
   "cell_type": "code",
   "execution_count": 13,
   "id": "0ac42e74-7b3b-4248-a3fc-16c30002a599",
   "metadata": {},
   "outputs": [
    {
     "data": {
      "text/plain": [
       "'my age is 32 and i have completed: my degree of bsc with the name of Ekta Singh'"
      ]
     },
     "execution_count": 13,
     "metadata": {},
     "output_type": "execute_result"
    }
   ],
   "source": [
    "## practice\n",
    "\n",
    "name='Ekta Singh'\n",
    "age= 20\n",
    "degree='bsc'\n",
    "\n",
    "\n",
    "\n",
    "'my age is 32 and i have completed: my degree of bsc with the name of Ekta Singh'"
   ]
  },
  {
   "cell_type": "code",
   "execution_count": 14,
   "id": "51514234-dd2f-4b54-a3df-1730173855a5",
   "metadata": {},
   "outputs": [
    {
     "name": "stdout",
     "output_type": "stream",
     "text": [
      "my age is 20 and i have completed : my degree of bsc with the name of Ekta Singh\n"
     ]
    }
   ],
   "source": [
    "print('my age is {} and i have completed : my degree of {} with the name of {}'.format(age,degree,name))"
   ]
  },
  {
   "cell_type": "code",
   "execution_count": 15,
   "id": "d5fd6637-be44-4b97-aee8-4b9a7b9ebf47",
   "metadata": {},
   "outputs": [
    {
     "name": "stdout",
     "output_type": "stream",
     "text": [
      "my age is 20 and i have completed : my degree of bsc with the name of Ekta Singh\n"
     ]
    }
   ],
   "source": [
    "print(f'my age is {age} and i have completed : my degree of {degree} with the name of {name}')"
   ]
  },
  {
   "cell_type": "markdown",
   "id": "7c21f52c-ffb8-4fad-99c1-2bc0338cb48f",
   "metadata": {},
   "source": [
    "## Control Flow\n",
    "### Decision Making Statements"
   ]
  },
  {
   "cell_type": "code",
   "execution_count": 17,
   "id": "fcae1113-bc0c-46b0-aec7-34c64af561b9",
   "metadata": {},
   "outputs": [
    {
     "name": "stdout",
     "output_type": "stream",
     "text": [
      "you are eligible to vote\n"
     ]
    }
   ],
   "source": [
    "## if statements\n",
    "age=18\n",
    "if  age>=18:\n",
    "    print('you are eligible to vote')"
   ]
  },
  {
   "cell_type": "code",
   "execution_count": 18,
   "id": "680be2e5-4bce-437c-be5b-1a4f0df1fc5d",
   "metadata": {},
   "outputs": [],
   "source": [
    "## if statements\n",
    "age=18\n",
    "if  age<18:\n",
    "    print('you are not eligible to vote')"
   ]
  },
  {
   "cell_type": "code",
   "execution_count": 19,
   "id": "de007e9c-0643-4ac4-8b6c-539da5bddc2b",
   "metadata": {},
   "outputs": [
    {
     "name": "stdin",
     "output_type": "stream",
     "text": [
      "enter the name ekta singh\n"
     ]
    }
   ],
   "source": [
    "name=input('enter the name')  ## by deafult input is of string type"
   ]
  },
  {
   "cell_type": "code",
   "execution_count": 20,
   "id": "a943a8c8-2976-4b36-bfbd-717400357516",
   "metadata": {},
   "outputs": [
    {
     "data": {
      "text/plain": [
       "'ekta singh'"
      ]
     },
     "execution_count": 20,
     "metadata": {},
     "output_type": "execute_result"
    }
   ],
   "source": [
    "name"
   ]
  },
  {
   "cell_type": "code",
   "execution_count": 21,
   "id": "0e385614-1398-4aec-8ced-7f7207ecddab",
   "metadata": {},
   "outputs": [
    {
     "name": "stdin",
     "output_type": "stream",
     "text": [
      "enter your age 20\n"
     ]
    }
   ],
   "source": [
    "age=int(input(\"enter your age\"))  ## we used typecasating to convert string into integer"
   ]
  },
  {
   "cell_type": "code",
   "execution_count": 22,
   "id": "169c09c1-067b-4e6e-b57e-6bcba1b79581",
   "metadata": {},
   "outputs": [
    {
     "data": {
      "text/plain": [
       "20"
      ]
     },
     "execution_count": 22,
     "metadata": {},
     "output_type": "execute_result"
    }
   ],
   "source": [
    "age"
   ]
  },
  {
   "cell_type": "code",
   "execution_count": 23,
   "id": "7434d1c0-18b4-4573-8882-5453c7732904",
   "metadata": {},
   "outputs": [
    {
     "data": {
      "text/plain": [
       "int"
      ]
     },
     "execution_count": 23,
     "metadata": {},
     "output_type": "execute_result"
    }
   ],
   "source": [
    "type(age)"
   ]
  },
  {
   "cell_type": "code",
   "execution_count": 24,
   "id": "54ab24eb-fab2-46ae-9f76-2ea6e0c64a04",
   "metadata": {},
   "outputs": [],
   "source": [
    "## task\n",
    "## take a input of age\n",
    "## check whether age>=18 and age<=45\n",
    "## display a message you are young blood"
   ]
  },
  {
   "cell_type": "code",
   "execution_count": 25,
   "id": "f630fb44-c6fc-4601-bacc-ff257ecce732",
   "metadata": {},
   "outputs": [
    {
     "name": "stdin",
     "output_type": "stream",
     "text": [
      "write your age 25\n"
     ]
    },
    {
     "name": "stdout",
     "output_type": "stream",
     "text": [
      "you are a young blood\n"
     ]
    }
   ],
   "source": [
    "age=int(input(\"write your age\"))\n",
    "if age>=18 and age<=45:\n",
    "    print(\"you are a young blood\")\n",
    "    "
   ]
  },
  {
   "cell_type": "code",
   "execution_count": 26,
   "id": "77504491-2507-4c5a-b19b-c113dc9fc091",
   "metadata": {},
   "outputs": [
    {
     "name": "stdin",
     "output_type": "stream",
     "text": [
      "write your age 15\n"
     ]
    }
   ],
   "source": [
    "age=int(input(\"write your age\"))\n",
    "if age>=18 and age<=45:\n",
    "    print(\"you are a young blood\")"
   ]
  },
  {
   "cell_type": "code",
   "execution_count": 1,
   "id": "bf206e8a-d177-4d8e-bf85-932e1e04e142",
   "metadata": {},
   "outputs": [
    {
     "name": "stdin",
     "output_type": "stream",
     "text": [
      "write your age 50\n"
     ]
    },
    {
     "name": "stdout",
     "output_type": "stream",
     "text": [
      "your application is rejected\n"
     ]
    }
   ],
   "source": [
    "## if alse statements\n",
    "age=int(input(\"write your age\"))\n",
    "if age>=18 and age<=45:\n",
    "    print(\"you are a young blood\")\n",
    "else:\n",
    "    print('your application is rejected')\n",
    "    \n"
   ]
  },
  {
   "cell_type": "code",
   "execution_count": 2,
   "id": "6b61814f-c81a-479b-a997-0253f0194c3a",
   "metadata": {},
   "outputs": [],
   "source": [
    "## task\n",
    "## mall- input the product price\n",
    "## product>1000 rs 20% off\n",
    "## print the product price after removing the discount price\n",
    "## product <= 1000 rs 30% off\n",
    "## print the product price after removing the discount price"
   ]
  },
  {
   "cell_type": "code",
   "execution_count": 3,
   "id": "5ac5539e-d25b-4a8f-bfdc-a9c63521b9f0",
   "metadata": {},
   "outputs": [
    {
     "name": "stdin",
     "output_type": "stream",
     "text": [
      "enter the price of the product 2000\n"
     ]
    },
    {
     "name": "stdout",
     "output_type": "stream",
     "text": [
      "the price of product is1600.0\n"
     ]
    }
   ],
   "source": [
    "price=int(input('enter the price of the product'))\n",
    "if price> 1000:\n",
    "    print(\"the price of product is{}\".format(price*0.8))\n",
    "else:\n",
    "    print(\"the price of prodcut is{}\".format(price*0.7))\n",
    "    "
   ]
  },
  {
   "cell_type": "code",
   "execution_count": 1,
   "id": "99f1a314-d507-4bbf-9c67-e02520f8890e",
   "metadata": {},
   "outputs": [
    {
     "name": "stdin",
     "output_type": "stream",
     "text": [
      "enter the price of the product 800\n"
     ]
    },
    {
     "name": "stdout",
     "output_type": "stream",
     "text": [
      "the price of prodcut is560.0\n"
     ]
    }
   ],
   "source": [
    "price=int(input('enter the price of the product'))\n",
    "if price> 1000:\n",
    "    print(\"the price of product is{}\".format(price*0.8)) ## price-(price*0.2)\n",
    "else:\n",
    "    print(f\"the price of prodcut is{price*0.7}\")\n",
    "    "
   ]
  },
  {
   "cell_type": "code",
   "execution_count": 2,
   "id": "bacf3fce-778d-4152-aa46-af35859a3b51",
   "metadata": {},
   "outputs": [],
   "source": [
    "## task\n",
    "## mall- input the product price\n",
    "## product>3000 rs 20% off\n",
    "## print the product price after removing the discount price\n",
    "## product >=2000 and <=3000 30% off\n",
    "## product==2999 you will get an additional  gift\n",
    "## print the product price after removing the discount price\n",
    "## product <= 1000 rs and <=2000 40% off\n",
    "## print the product price after removing the discount price\n"
   ]
  },
  {
   "cell_type": "code",
   "execution_count": 9,
   "id": "d67c2a89-8974-403b-adb4-03af7a4f93a1",
   "metadata": {},
   "outputs": [
    {
     "name": "stdin",
     "output_type": "stream",
     "text": [
      "enter the price of the product 2999\n"
     ]
    },
    {
     "name": "stdout",
     "output_type": "stream",
     "text": [
      "the price of prodcut is2099.2999999999997\n"
     ]
    }
   ],
   "source": [
    "price=int(input('enter the price of the product'))\n",
    "if price> 3000:\n",
    "    print(\"the price of product is{}\".format(price*0.8))\n",
    "elif price >= 2000 and price <=300    \n",
    "    print(f\"the price of prodcut is{price*0.7}\")\n",
    "    \n",
    "else:\n",
    "    print(f\"the price of prodcut is{price*0.6}\")"
   ]
  },
  {
   "cell_type": "code",
   "execution_count": 10,
   "id": "8262618b-80ca-44bd-9eee-f258b1d6fab5",
   "metadata": {},
   "outputs": [
    {
     "name": "stdin",
     "output_type": "stream",
     "text": [
      "enter the price of the product 2999\n"
     ]
    },
    {
     "name": "stdout",
     "output_type": "stream",
     "text": [
      "congratulations you get an additional gift\n",
      "the price of prodcut is2099.2999999999997\n"
     ]
    }
   ],
   "source": [
    "price=int(input('enter the price of the product'))\n",
    "if price> 3000:\n",
    "    print(\"the price of product is{}\".format(price*0.8))\n",
    "elif price >= 2000 and price <=3000:\n",
    "    if price == 2999:\n",
    "        print(\"congratulations you get an additional gift\")\n",
    "    \n",
    "    \n",
    "    \n",
    "    print(f\"the price of prodcut is{price*0.7}\")\n",
    "    \n",
    "else:\n",
    "    print(f\"the price of prodcut is{price*0.6}\")"
   ]
  },
  {
   "cell_type": "code",
   "execution_count": 16,
   "id": "1393205c-fb88-40b1-bfa2-4aa04eb0fb30",
   "metadata": {},
   "outputs": [
    {
     "name": "stdin",
     "output_type": "stream",
     "text": [
      "write the number 1000\n"
     ]
    },
    {
     "name": "stdout",
     "output_type": "stream",
     "text": [
      "go home\n"
     ]
    }
   ],
   "source": [
    "## single statements\n",
    "val=int(input('write the number'))\n",
    "\n",
    "if(val<=999):print('value is less than equal to 999') \n",
    "else:\n",
    "    print('go home')"
   ]
  },
  {
   "cell_type": "markdown",
   "id": "5a7cdee6-a614-4397-8951-44f62dc20873",
   "metadata": {},
   "source": [
    "### loop statements\n"
   ]
  },
  {
   "cell_type": "markdown",
   "id": "fec05f09-f874-4243-aced-6a80307ca98f",
   "metadata": {},
   "source": [
    "##### 1. while loop\n",
    "##### 2. for loop\n",
    "##### 3. nested loops\n",
    "##### 4. loop control(break , continue , pass)"
   ]
  },
  {
   "cell_type": "code",
   "execution_count": 1,
   "id": "9d5ae147-e97e-48be-8ca5-aece034a246c",
   "metadata": {},
   "outputs": [
    {
     "name": "stdout",
     "output_type": "stream",
     "text": [
      "25\n",
      "26\n",
      "27\n",
      "28\n",
      "29\n",
      "30\n",
      "31\n",
      "32\n",
      "33\n",
      "34\n",
      "35\n",
      "36\n",
      "37\n",
      "38\n",
      "39\n",
      "40\n",
      "41\n",
      "42\n",
      "43\n",
      "44\n",
      "45\n",
      "46\n",
      "47\n",
      "48\n",
      "49\n",
      "50\n",
      "51\n",
      "52\n",
      "53\n",
      "54\n",
      "55\n",
      "56\n",
      "57\n",
      "58\n",
      "59\n",
      "60\n",
      "its time for retirement\n"
     ]
    }
   ],
   "source": [
    "## while loop and while loop with else\n",
    "\n",
    "joining_age=25\n",
    "while joining_age<=60:\n",
    "    print(joining_age)\n",
    "    joining_age=joining_age+1\n",
    "    \n",
    "else:\n",
    "    print(\"its time for retirement\")\n",
    "    \n"
   ]
  },
  {
   "cell_type": "code",
   "execution_count": 22,
   "id": "e411895e-57e2-4457-8023-f6ed23677d54",
   "metadata": {},
   "outputs": [
    {
     "name": "stdout",
     "output_type": "stream",
     "text": [
      "1000\n",
      "900\n",
      "800\n",
      "700\n",
      "600\n",
      "500\n",
      "400\n",
      "300\n",
      "200\n",
      "100\n",
      "put money in atm machine\n"
     ]
    }
   ],
   "source": [
    "## atm machine with 1000 rs\n",
    "total_amount=1000\n",
    "while total_amount!=0:\n",
    "    print(total_amount)\n",
    "    total_amount=total_amount-100\n",
    "else:\n",
    "    print(\"put money in atm machine\")"
   ]
  },
  {
   "cell_type": "code",
   "execution_count": null,
   "id": "879bf526-6686-4baf-bd8f-5c5328cca1da",
   "metadata": {},
   "outputs": [],
   "source": [
    "## for loop\n",
    "  \n",
    "## this is a list , list is nothing but a basket containing different data items\n"
   ]
  },
  {
   "cell_type": "code",
   "execution_count": 12,
   "id": "f4851e90-cafb-4364-93be-cb925997744f",
   "metadata": {},
   "outputs": [],
   "source": [
    "lst=[\"ekta\",6,7,8,\"deepakshi\"]"
   ]
  },
  {
   "cell_type": "code",
   "execution_count": 13,
   "id": "f257c531-0dfe-4d9a-8207-ab783b1c687b",
   "metadata": {},
   "outputs": [
    {
     "data": {
      "text/plain": [
       "list"
      ]
     },
     "execution_count": 13,
     "metadata": {},
     "output_type": "execute_result"
    }
   ],
   "source": [
    "type(lst)"
   ]
  },
  {
   "cell_type": "code",
   "execution_count": 14,
   "id": "e23577f3-3245-49db-bded-acd1208a2a3d",
   "metadata": {},
   "outputs": [
    {
     "data": {
      "text/plain": [
       "'ekta'"
      ]
     },
     "execution_count": 14,
     "metadata": {},
     "output_type": "execute_result"
    }
   ],
   "source": [
    "lst[0]"
   ]
  },
  {
   "cell_type": "code",
   "execution_count": 15,
   "id": "ca5e0231-5d96-4fa1-8f83-a5a06a9807f4",
   "metadata": {},
   "outputs": [
    {
     "data": {
      "text/plain": [
       "8"
      ]
     },
     "execution_count": 15,
     "metadata": {},
     "output_type": "execute_result"
    }
   ],
   "source": [
    "lst[3]\n"
   ]
  },
  {
   "cell_type": "code",
   "execution_count": 16,
   "id": "012b4500-2bbb-4576-8800-2f0cc3526abb",
   "metadata": {},
   "outputs": [
    {
     "data": {
      "text/plain": [
       "['ekta', 6, 7, 8, 'deepakshi']"
      ]
     },
     "execution_count": 16,
     "metadata": {},
     "output_type": "execute_result"
    }
   ],
   "source": [
    "lst"
   ]
  },
  {
   "cell_type": "code",
   "execution_count": 17,
   "id": "5f2b394d-2b1b-497d-9e8e-3d966eeb1cf8",
   "metadata": {},
   "outputs": [
    {
     "name": "stdout",
     "output_type": "stream",
     "text": [
      "ekta\n",
      "6\n",
      "7\n",
      "8\n",
      "deepakshi\n"
     ]
    }
   ],
   "source": [
    "for i in lst:\n",
    "    print(i)\n"
   ]
  },
  {
   "cell_type": "code",
   "execution_count": null,
   "id": "ae21ac83-5a73-4cd5-84a2-ee26c270990f",
   "metadata": {},
   "outputs": [],
   "source": [
    "## for comes with a temporary variable and the collection name\n",
    "## the continous iteration will go on the basis of the length of the list"
   ]
  },
  {
   "cell_type": "code",
   "execution_count": 1,
   "id": "d55292ad-81aa-4ae1-9a4b-e2f0ab712181",
   "metadata": {},
   "outputs": [],
   "source": [
    "fruits_list=[\"mango\",\"guava\",\"papaya\",\"strawberry\",\"grapes\"]\n"
   ]
  },
  {
   "cell_type": "code",
   "execution_count": 20,
   "id": "7a91896e-ba03-431e-91ed-2254847a595e",
   "metadata": {},
   "outputs": [
    {
     "name": "stdout",
     "output_type": "stream",
     "text": [
      "mango\n",
      "guava\n",
      "papaya\n",
      "the fruit is my favourite\n",
      "strawbeery\n",
      "grapes\n"
     ]
    }
   ],
   "source": [
    "for i in fruits_list:\n",
    "    print(i)\n",
    "    if i==\"papaya\":\n",
    "        print(\"the fruit is my favourite\")"
   ]
  },
  {
   "cell_type": "code",
   "execution_count": 24,
   "id": "64ade20b-23df-43e6-8644-edd30bf1faea",
   "metadata": {},
   "outputs": [
    {
     "name": "stdout",
     "output_type": "stream",
     "text": [
      "g u a v a "
     ]
    }
   ],
   "source": [
    "fruit='guava'\n",
    "for x in fruit:\n",
    "    print(x ,end=' ')  ## string is also a collection of elements"
   ]
  },
  {
   "cell_type": "code",
   "execution_count": 23,
   "id": "9b53f786-db8d-4108-acbb-1a55e9856cc2",
   "metadata": {},
   "outputs": [
    {
     "data": {
      "text/plain": [
       "'a'"
      ]
     },
     "execution_count": 23,
     "metadata": {},
     "output_type": "execute_result"
    }
   ],
   "source": [
    "fruit[2]"
   ]
  },
  {
   "cell_type": "code",
   "execution_count": null,
   "id": "02dd4575-3a2e-4325-b4d9-41b830896831",
   "metadata": {},
   "outputs": [],
   "source": [
    "## why the print statement is printing in new line everytime because by default print statment is ending with \\n \n",
    "## if you want to print in the same line keep the statement blank"
   ]
  },
  {
   "cell_type": "code",
   "execution_count": 26,
   "id": "5ff935b6-1f4d-4260-81e0-0aae0b585069",
   "metadata": {},
   "outputs": [
    {
     "name": "stdout",
     "output_type": "stream",
     "text": [
      "1\n",
      "2\n",
      "3\n",
      "4\n",
      "5\n",
      "6\n",
      "7\n",
      "8\n",
      "9\n"
     ]
    }
   ],
   "source": [
    "## range beneficial for star patterns\n",
    "for i in range(1,10):\n",
    "    print(i)  ## in range we have to give start and end points and it is a inbuilt function and it always takes the first number\n",
    "            ## but excludes the last number and it contains a 3rd parameter called stepsize , \n"
   ]
  },
  {
   "cell_type": "code",
   "execution_count": 27,
   "id": "2f91ec93-a96a-43b7-bf36-79f1bfbcbded",
   "metadata": {},
   "outputs": [
    {
     "name": "stdout",
     "output_type": "stream",
     "text": [
      "1\n",
      "3\n",
      "5\n",
      "7\n",
      "9\n"
     ]
    }
   ],
   "source": [
    "for i in range(1,10,2):\n",
    "    print(i)"
   ]
  },
  {
   "cell_type": "code",
   "execution_count": 50,
   "id": "f726fe56-c92e-4797-b72c-a615a499f273",
   "metadata": {},
   "outputs": [
    {
     "name": "stdout",
     "output_type": "stream",
     "text": [
      "*\n",
      "**\n",
      "***\n",
      "****\n",
      "*****\n",
      "******\n",
      "*******\n"
     ]
    }
   ],
   "source": [
    "## nested loops\n",
    "n=7\n",
    "for i in range(0,n):\n",
    "    for j in range(0,i+1):\n",
    "        print(\"*\",end=\"\")\n",
    "    print(\"\\r\")\n"
   ]
  },
  {
   "cell_type": "code",
   "execution_count": 58,
   "id": "0730e7b0-01bd-46ad-b69e-58070be6d860",
   "metadata": {},
   "outputs": [
    {
     "name": "stdout",
     "output_type": "stream",
     "text": [
      "*\n",
      "***\n",
      "*****\n",
      "*******\n",
      "*********\n"
     ]
    }
   ],
   "source": [
    "## equilateral triangle\n",
    "\n",
    "n=9\n",
    "for i in range(0,n,2):\n",
    "    for j in range(0,i+1):\n",
    "        print(\"*\",end=\"\")\n",
    "    print(\"\\r\")"
   ]
  },
  {
   "cell_type": "code",
   "execution_count": 2,
   "id": "64ed5f5a-48af-45b8-893e-c186c474fd99",
   "metadata": {},
   "outputs": [],
   "source": [
    "## loop controls\n",
    "## break and continue\n",
    "\n",
    "fruits_list=[\"mango\",\"guava\",\"papaya\",\"strawberry\",\"grapes\"]\n"
   ]
  },
  {
   "cell_type": "code",
   "execution_count": 7,
   "id": "c4d306f5-5254-4476-8eba-183fc9be854e",
   "metadata": {},
   "outputs": [
    {
     "name": "stdout",
     "output_type": "stream",
     "text": [
      "mango\n",
      "guava\n",
      "the fruit is my fav\n",
      "papaya\n",
      "strawberry\n",
      "grapes\n"
     ]
    }
   ],
   "source": [
    "for i in fruits_list:\n",
    "   if i==\"papaya\":\n",
    "      print(\"the fruit is my fav\")\n",
    "   print(i)"
   ]
  },
  {
   "cell_type": "code",
   "execution_count": 9,
   "id": "4b20b3ca-da73-499c-a2f2-fc172c966ffb",
   "metadata": {},
   "outputs": [
    {
     "name": "stdout",
     "output_type": "stream",
     "text": [
      "mango\n",
      "guava\n",
      "the fruit is my fav\n"
     ]
    }
   ],
   "source": [
    "for i in fruits_list:\n",
    "   if i==\"papaya\":\n",
    "      print(\"the fruit is my fav\")\n",
    "      break\n",
    "   print(i)"
   ]
  },
  {
   "cell_type": "code",
   "execution_count": 10,
   "id": "98d7d94a-c5d3-44bc-8555-cbe0dd4d55c5",
   "metadata": {},
   "outputs": [],
   "source": [
    "## break statement , once it encounters the correct statement it will come out of the loop , it is going to stop the loop"
   ]
  },
  {
   "cell_type": "code",
   "execution_count": 11,
   "id": "b1307e9f-49c0-43ba-a49d-1924c7934d74",
   "metadata": {},
   "outputs": [
    {
     "name": "stdout",
     "output_type": "stream",
     "text": [
      "mango\n",
      "guava\n",
      "the fruit is my fav\n",
      "papaya\n",
      "strawberry\n",
      "grapes\n"
     ]
    }
   ],
   "source": [
    "for i in fruits_list:\n",
    "   if i==\"papaya\":\n",
    "      print(\"the fruit is my fav\")\n",
    "      pass\n",
    "   print(i)"
   ]
  },
  {
   "cell_type": "code",
   "execution_count": null,
   "id": "0ff2dc2c-174f-4b9b-895f-9ff3541f9c5c",
   "metadata": {},
   "outputs": [],
   "source": [
    "## pass is simply just going to pass without doing anything"
   ]
  },
  {
   "cell_type": "code",
   "execution_count": 12,
   "id": "ec9dfe72-4297-4ba5-9938-2b81725807c6",
   "metadata": {},
   "outputs": [
    {
     "name": "stdout",
     "output_type": "stream",
     "text": [
      "mango\n",
      "guava\n",
      "the fruit is my fav\n",
      "strawberry\n",
      "grapes\n"
     ]
    }
   ],
   "source": [
    "for i in fruits_list:\n",
    "   if i==\"papaya\":\n",
    "      print(\"the fruit is my fav\")\n",
    "      continue\n",
    "   print(i)"
   ]
  },
  {
   "cell_type": "code",
   "execution_count": null,
   "id": "a0350b91-e2d1-4616-91b9-3cf0f2df8371",
   "metadata": {},
   "outputs": [],
   "source": [
    "## continue will just skip one step which is matching the condition whereas break will skip the entire loop \n"
   ]
  },
  {
   "cell_type": "code",
   "execution_count": null,
   "id": "f796695e-d9b4-41dd-b3b7-a331ba139b1e",
   "metadata": {},
   "outputs": [],
   "source": []
  }
 ],
 "metadata": {
  "kernelspec": {
   "display_name": "Python 3 (ipykernel)",
   "language": "python",
   "name": "python3"
  },
  "language_info": {
   "codemirror_mode": {
    "name": "ipython",
    "version": 3
   },
   "file_extension": ".py",
   "mimetype": "text/x-python",
   "name": "python",
   "nbconvert_exporter": "python",
   "pygments_lexer": "ipython3",
   "version": "3.10.8"
  }
 },
 "nbformat": 4,
 "nbformat_minor": 5
}
