{
 "cells": [
  {
   "cell_type": "markdown",
   "metadata": {},
   "source": [
    "# Module 3 Assignment Solution"
   ]
  },
  {
   "cell_type": "markdown",
   "metadata": {},
   "source": [
    "## Day 3: 30 Days of Python Programming"
   ]
  },
  {
   "cell_type": "code",
   "execution_count": 1,
   "metadata": {},
   "outputs": [
    {
     "name": "stdout",
     "output_type": "stream",
     "text": [
      "My age is: 20 years\n"
     ]
    }
   ],
   "source": [
    "# Declare your age as integer variable\n",
    "\n",
    "Age=20\n",
    "print('My age is:', Age, 'years')"
   ]
  },
  {
   "cell_type": "code",
   "execution_count": null,
   "metadata": {},
   "outputs": [],
   "source": [
    "# Declare a variable that store a complex number\n",
    "\n",
    "X = 1 + 2j"
   ]
  },
  {
   "cell_type": "code",
   "execution_count": 2,
   "metadata": {},
   "outputs": [
    {
     "name": "stdout",
     "output_type": "stream",
     "text": [
      "Area of the triangle: 100.0\n"
     ]
    }
   ],
   "source": [
    "# Write a script that prompts the user to enter base and height of the triangle and calculate an area of this triangle (area = 0.5 x b x h).\n",
    "\n",
    "Base= 10\n",
    "Height= 20\n",
    "Area=0.5*Base * Height\n",
    "print('Area of the triangle:', Area)\n",
    "\n"
   ]
  },
  {
   "cell_type": "code",
   "execution_count": null,
   "metadata": {},
   "outputs": [
    {
     "name": "stdout",
     "output_type": "stream",
     "text": [
      "Perimeter of the triangle: 12 metres\n"
     ]
    }
   ],
   "source": [
    "# Write a script that prompts the user to enter side a, side b, and side c of the triangle. Calculate the perimeter of the triangle (perimeter = a + b + c).\n",
    "\n",
    "side_a=5\n",
    "side_b=4\n",
    "side_c=3\n",
    "perimeter=side_a+side_b+side_c\n",
    "print('Perimeter of the triangle:',perimeter,'metres')"
   ]
  },
  {
   "cell_type": "code",
   "execution_count": 6,
   "metadata": {},
   "outputs": [
    {
     "name": "stdout",
     "output_type": "stream",
     "text": [
      "Area of the rectangle: 48 metre^2\n",
      "perimeter of the rectangle: 28 metres\n"
     ]
    }
   ],
   "source": [
    "# Get length and width of a rectangle using prompt. Calculate its area (area = length x width) and perimeter (perimeter = 2 x (length + width))\n",
    "\n",
    "length=6\n",
    "width=8\n",
    "area=length*width\n",
    "perimeter= 2 * (length + width)\n",
    "print('Area of the rectangle:',area, 'metre^2')\n",
    "print('perimeter of the rectangle:',perimeter,'metres')"
   ]
  },
  {
   "cell_type": "code",
   "execution_count": 1,
   "metadata": {},
   "outputs": [
    {
     "name": "stdout",
     "output_type": "stream",
     "text": [
      "Area of circle: 153.86 metre^2\n",
      "Circumference of circle: 43.96 metres\n"
     ]
    }
   ],
   "source": [
    "# Get radius of a circle using prompt. Calculate the area (area = pi x r x r) and circumference (c = 2 x pi x r) where pi = 3.14.\n",
    "\n",
    "radius=7\n",
    "pi=3.14\n",
    "area=pi*radius*radius\n",
    "circumference=2*pi*radius\n",
    "print('Area of circle:',area,'metre^2')\n",
    "print('Circumference of circle:',circumference,'metres')"
   ]
  },
  {
   "cell_type": "code",
   "execution_count": 2,
   "metadata": {},
   "outputs": [
    {
     "name": "stdout",
     "output_type": "stream",
     "text": [
      "The x-intercept is: 1.0 and the y-intercept is: -2\n"
     ]
    }
   ],
   "source": [
    "# Calculate the slope, x-intercept and y-intercept of y = 2x -2\n",
    "\n",
    "# slope=2, which is the coefficient of x \n",
    "# x-intercept is the value of x when y=0\n",
    "# y-intercept is the value of y when x=0\n",
    "y = 2 * 0 -2\n",
    "x = (0 +2)/2\n",
    "print('The x-intercept is:',x, 'and','the y-intercept is:', y)"
   ]
  },
  {
   "cell_type": "code",
   "execution_count": 3,
   "metadata": {},
   "outputs": [
    {
     "name": "stdout",
     "output_type": "stream",
     "text": [
      "Slope is: 2.0\n",
      "The Euclidean distance is: 4.0\n"
     ]
    }
   ],
   "source": [
    "# Slope is (m = y2-y1/x2-x1). Find the slope and Euclidean distance between point (2, 2) and point (6,10)\n",
    "\n",
    "import math\n",
    "x1=2\n",
    "x2=6\n",
    "y1=2\n",
    "y2=10\n",
    "m=(y2 - y1)/(x2 - x1)\n",
    "print('Slope is:',m)\n",
    "\n",
    "# Euclidean distance, d = square root of square distances\n",
    "d2=((x2-x1)^2) + ((y2-y1)^2)\n",
    "d=math.sqrt(d2)\n",
    "print('The Euclidean distance is:',d)"
   ]
  },
  {
   "cell_type": "code",
   "execution_count": 4,
   "metadata": {},
   "outputs": [
    {
     "name": "stdout",
     "output_type": "stream",
     "text": [
      "The slopes for both tasks are 2\n"
     ]
    }
   ],
   "source": [
    "# Compare the slopes in tasks 8 and 9\n",
    "\n",
    "print('The slopes for both tasks are 2')"
   ]
  },
  {
   "cell_type": "code",
   "execution_count": 5,
   "metadata": {},
   "outputs": [
    {
     "name": "stdout",
     "output_type": "stream",
     "text": [
      "Length of python: 6\n",
      "Length of dragon: 6\n",
      "Definitely false: False\n"
     ]
    }
   ],
   "source": [
    "# Find the length of 'python' and 'dragon' and make a falsy comparison statement.\n",
    "\n",
    "print('Length of python:', len('python'),)\n",
    "print('Length of dragon:', len('dragon'),)\n",
    "print('Definitely false:', len('python') > len('dragon'))\n"
   ]
  },
  {
   "cell_type": "code",
   "execution_count": 8,
   "metadata": {},
   "outputs": [
    {
     "name": "stdout",
     "output_type": "stream",
     "text": [
      "False\n"
     ]
    }
   ],
   "source": [
    "# Use and operator to check if 'on' is found in both 'python' and 'dragon'\n",
    "\n",
    "print(\"Checking for 'on':\" 'on' in ('python' and 'dragon'))"
   ]
  },
  {
   "cell_type": "code",
   "execution_count": 9,
   "metadata": {},
   "outputs": [
    {
     "name": "stdout",
     "output_type": "stream",
     "text": [
      "jargon in sentence: True\n"
     ]
    }
   ],
   "source": [
    "# I hope this course is not full of jargon. Use in operator to check if jargon is in the sentence.\n",
    "\n",
    "print(\"jargon in sentence:\", 'jargon' in 'I hope this course is not full of jargon')"
   ]
  },
  {
   "cell_type": "code",
   "execution_count": 10,
   "metadata": {},
   "outputs": [
    {
     "name": "stdout",
     "output_type": "stream",
     "text": [
      "There is no 'on' in both dragon and python: False\n"
     ]
    }
   ],
   "source": [
    "# There is no 'on' in both dragon and python\n",
    "\n",
    "print(\"There is no 'on' in both dragon and python:\", 'on' not in ('dragon' and 'python'))"
   ]
  },
  {
   "cell_type": "code",
   "execution_count": 11,
   "metadata": {},
   "outputs": [
    {
     "name": "stdout",
     "output_type": "stream",
     "text": [
      "Length: 6\n",
      "Float: 6.0\n",
      "string: 6\n"
     ]
    }
   ],
   "source": [
    "# Find the length of the text python and convert the value to float and convert it to string\n",
    "\n",
    "length=len('python')\n",
    "print('Length:',length)\n",
    "print('Float:', float(length))\n",
    "print('string:', str(length))"
   ]
  },
  {
   "cell_type": "code",
   "execution_count": 12,
   "metadata": {},
   "outputs": [
    {
     "name": "stdout",
     "output_type": "stream",
     "text": [
      "x is even: False\n"
     ]
    }
   ],
   "source": [
    "# Even numbers are divisible by 2 and the remainder is zero. How do you check if a number is even or not using python?\n",
    "\n",
    "# using a modulus operator that returns the remainder. e.g. x%2 == 0 will be true if x is even and false if x is odd\n",
    "x = 3\n",
    "print('x is even:', x%2==0)"
   ]
  },
  {
   "cell_type": "code",
   "execution_count": 14,
   "metadata": {},
   "outputs": [
    {
     "name": "stdout",
     "output_type": "stream",
     "text": [
      "Floor division of x = 2.7 converted to integer: True\n"
     ]
    }
   ],
   "source": [
    "# Check if the floor division of 7 by 3 is equal to the int converted value of 2.7.\n",
    "\n",
    "x = 7//3\n",
    "print('Floor division of x = 2.7 converted to integer:', x==int(2.7))"
   ]
  },
  {
   "cell_type": "code",
   "execution_count": 15,
   "metadata": {},
   "outputs": [
    {
     "name": "stdout",
     "output_type": "stream",
     "text": [
      "x=y: False\n"
     ]
    }
   ],
   "source": [
    "# Check if type of '10' is equal to type of 10\n",
    "\n",
    "x = type('10')\n",
    "y = type(10)\n",
    "print('x=y:', x==y)"
   ]
  },
  {
   "cell_type": "code",
   "execution_count": 16,
   "metadata": {},
   "outputs": [
    {
     "ename": "ValueError",
     "evalue": "invalid literal for int() with base 10: '9.8'",
     "output_type": "error",
     "traceback": [
      "\u001b[1;31m---------------------------------------------------------------------------\u001b[0m",
      "\u001b[1;31mValueError\u001b[0m                                Traceback (most recent call last)",
      "Cell \u001b[1;32mIn[16], line 3\u001b[0m\n\u001b[0;32m      1\u001b[0m \u001b[38;5;66;03m# Check if int('9.8') is equal to 10\u001b[39;00m\n\u001b[1;32m----> 3\u001b[0m x\u001b[38;5;241m=\u001b[39m \u001b[38;5;28mint\u001b[39m(\u001b[38;5;124m'\u001b[39m\u001b[38;5;124m9.8\u001b[39m\u001b[38;5;124m'\u001b[39m)\n\u001b[0;32m      4\u001b[0m \u001b[38;5;28mprint\u001b[39m(\u001b[38;5;124m'\u001b[39m\u001b[38;5;124mx=10 is\u001b[39m\u001b[38;5;124m'\u001b[39m, x\u001b[38;5;241m==\u001b[39m\u001b[38;5;241m10\u001b[39m)\n",
      "\u001b[1;31mValueError\u001b[0m: invalid literal for int() with base 10: '9.8'"
     ]
    }
   ],
   "source": [
    "# Check if int('9.8') is equal to 10\n",
    "\n",
    "x= int('9.8')\n",
    "print('x=10 is', x==10)"
   ]
  },
  {
   "cell_type": "code",
   "execution_count": 17,
   "metadata": {},
   "outputs": [
    {
     "name": "stdout",
     "output_type": "stream",
     "text": [
      "x=10 is False\n"
     ]
    }
   ],
   "source": [
    "# Check if int(9.8) is equal to 10\n",
    "\n",
    "x= int(9.8)\n",
    "print('x=10 is', x==10)"
   ]
  },
  {
   "cell_type": "code",
   "execution_count": null,
   "metadata": {},
   "outputs": [],
   "source": [
    "# Write a script that prompts the user to enter hours and rate per hour. Calculate pay of the person?\n",
    "\n",
    "hours = float(input(\"Enter hours: \"))\n",
    "\n",
    "rate_per_hour = float(input(\"Enter rate per hour: \"))\n",
    "\n",
    "weekly_earnings = hours * rate_per_hour\n",
    "\n",
    "print(f\"Your weekly earning is {weekly_earnings}\")\n"
   ]
  },
  {
   "cell_type": "code",
   "execution_count": null,
   "metadata": {},
   "outputs": [],
   "source": [
    "# Write a script that prompts the user to enter number of years. Calculate the number of seconds a person can live. Assume a person can live hundred years\n",
    "\n",
    "# Prompt the user to enter the number of years they have lived\n",
    "years_lived = int(input(\"Enter number of years you have lived: \"))\n",
    "\n",
    "# Define the number of seconds in a year\n",
    "seconds_per_year = 365 * 24 * 60 * 60  # Days in a year * hours in a day * minutes in an hour * seconds in a minute\n",
    "\n",
    "# Calculate the total number of seconds\n",
    "total_seconds = years_lived * seconds_per_year\n",
    "\n",
    "# Display the result\n",
    "print(f\"You have lived for {total_seconds} seconds.\")\n"
   ]
  },
  {
   "cell_type": "code",
   "execution_count": null,
   "metadata": {},
   "outputs": [],
   "source": [
    "# Write a Python script that displays the following table\n",
    "# 1 1 1 1 1\n",
    "# 2 1 2 4 8\n",
    "# 3 1 3 9 27\n",
    "# 4 1 4 16 64\n",
    "# 5 1 5 25 125\n",
    "\n",
    "# Print the header row\n",
    "print(\"Number  Square  Cube  Quadruple  Quintuple\")\n",
    "\n",
    "# Loop through numbers 1 to 5\n",
    "for num in range(1, 6):\n",
    "    square = num ** 2  # Square of the number\n",
    "    cube = num ** 3    # Cube of the number\n",
    "    quadruple = num ** 4  # Fourth power of the number\n",
    "    quintuple = num ** 5  # Fifth power of the number\n",
    "    \n",
    "    # Print the row for the current number\n",
    "    print(f\"{num:<6} {1:<7} {num:<5} {square:<10} {cube}\")\n"
   ]
  }
 ],
 "metadata": {
  "kernelspec": {
   "display_name": "base",
   "language": "python",
   "name": "python3"
  },
  "language_info": {
   "codemirror_mode": {
    "name": "ipython",
    "version": 3
   },
   "file_extension": ".py",
   "mimetype": "text/x-python",
   "name": "python",
   "nbconvert_exporter": "python",
   "pygments_lexer": "ipython3",
   "version": "3.12.4"
  }
 },
 "nbformat": 4,
 "nbformat_minor": 2
}
