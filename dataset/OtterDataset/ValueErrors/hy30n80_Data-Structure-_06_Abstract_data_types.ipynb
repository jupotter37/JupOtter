{
  "nbformat": 4,
  "nbformat_minor": 0,
  "metadata": {
    "colab": {
      "provenance": [],
      "include_colab_link": true
    },
    "kernelspec": {
      "name": "python3",
      "display_name": "Python 3"
    },
    "language_info": {
      "name": "python"
    }
  },
  "cells": [
    {
      "cell_type": "markdown",
      "metadata": {
        "id": "view-in-github",
        "colab_type": "text"
      },
      "source": [
        "<a href=\"https://colab.research.google.com/github/hy30n80/Data-Structure-/blob/main/06_Abstract_data_types.ipynb\" target=\"_parent\"><img src=\"https://colab.research.google.com/assets/colab-badge.svg\" alt=\"Open In Colab\"/></a>"
      ]
    },
    {
      "cell_type": "markdown",
      "source": [
        "# EC2202 Abstract Data Types"
      ],
      "metadata": {
        "id": "gqZUxjuw8OE4"
      }
    },
    {
      "cell_type": "code",
      "source": [
        "%%HTML\n",
        "<iframe width=\"560\" height=\"315\" src=\"https://www.youtube.com/embed/mVc5V68wIV4\" title=\"YouTube video player\" frameborder=\"0\" allowfullscreen></iframe>"
      ],
      "metadata": {
        "colab": {
          "base_uri": "https://localhost:8080/",
          "height": 336
        },
        "id": "LtO_yKCtarPS",
        "outputId": "49314aa6-b504-421b-f5ca-c17acf3de67e"
      },
      "execution_count": null,
      "outputs": [
        {
          "output_type": "display_data",
          "data": {
            "text/plain": [
              "<IPython.core.display.HTML object>"
            ],
            "text/html": [
              "<iframe width=\"560\" height=\"315\" src=\"https://www.youtube.com/embed/mVc5V68wIV4\" title=\"YouTube video player\" frameborder=\"0\" allowfullscreen></iframe>\n"
            ]
          },
          "metadata": {}
        }
      ]
    },
    {
      "cell_type": "markdown",
      "source": [
        "**Disclaimer.**\n",
        "This code examples are based on\n",
        "\n",
        "1. [KAIST CS206 (Professor Otfried Cheong)](https://otfried.org/courses/cs206/)"
      ],
      "metadata": {
        "id": "1bWHozli8SQ_"
      }
    },
    {
      "cell_type": "markdown",
      "source": [
        "## First Implementation"
      ],
      "metadata": {
        "id": "lDEbL7Wj8Vv6"
      }
    },
    {
      "cell_type": "markdown",
      "source": [
        "Let's first implement our date calculator using the Julian day convention.\n",
        "\n",
        "[**The Julian day**](https://en.wikipedia.org/wiki/Julian_day) is the continuous count of days since the beginning of the Julian period, and is used primarily by astronomers, and in software for easily calculating elapsed days between two events (e.g. food production date and sell by date). The Julian day number (JDN) is the integer assigned to a whole solar day in the Julian day count starting from noon Universal Time, with Julian day number 0 assigned to the day starting at noon on Monday, January 1, 4713 BC, proleptic Julian calendar (November 24, 4714 BC, in the proleptic Gregorian calendar), a date at which three multi-year cycles started (which are: Indiction, Solar, and Lunar cycles) and which preceded any dates in recorded history. For example, the Julian day number for the day starting at 12:00 UT (noon) on January 1, 2000, was 2 451 545."
      ],
      "metadata": {
        "id": "7bGGC068Fvjz"
      }
    },
    {
      "cell_type": "code",
      "execution_count": 1,
      "metadata": {
        "id": "pa6OKiIWyu-H"
      },
      "outputs": [],
      "source": [
        "class Date():\n",
        "  def __init__(self, year, month, day):\n",
        "    # encapsulation\n",
        "    self._year = year\n",
        "    self._month = month\n",
        "    self._day = day\n",
        "\n",
        "  def year(self):\n",
        "    return self._year\n",
        "\n",
        "  def month(self):\n",
        "    return self._month\n",
        "\n",
        "  def day(self):\n",
        "    return self._day\n",
        "\n",
        "  def day_of_week(self):\n",
        "    jday = self._to_jday()\n",
        "    return jday % 7\n",
        "\n",
        "  def _to_jday(self):\n",
        "    tmp = 0\n",
        "    if self._month < 3:\n",
        "      tmp = -1\n",
        "    return (self._day - 32075 +\n",
        "           (1461 * (self._year + 4800 + tmp) // 4) +\n",
        "           (367 * (self._month - 2 - tmp * 12) // 12) -\n",
        "           (3 * ((self._year + 4900 + tmp) // 100) // 4))\n",
        "\n",
        "  @staticmethod  # decorator\n",
        "  def _jday_to_ymd(jday):\n",
        "    A = jday + 68569\n",
        "    B = 4 * A // 146097\n",
        "    A = A - (146097 * B + 3) // 4\n",
        "    year = 4000 * (A + 1) // 1461001\n",
        "    A = A - (1461 * year // 4) + 31\n",
        "    month = 80 * A // 2447\n",
        "    day = A - (2447 * month // 80)\n",
        "    A = month // 11\n",
        "    month = month + 2 - (12 * A)\n",
        "    year = 100 * (B - 49) + year + A\n",
        "    return year, month, day\n",
        "\n",
        "  def num_days(self, other_date):\n",
        "    return other_date._to_jday() - self._to_jday()\n",
        "\n",
        "  def is_leap_year(self):\n",
        "    return ((self._year % 400 == 0) or\n",
        "            ((self._year % 4 == 0) and (self._year % 100 != 0)))\n",
        "\n",
        "  def __str__(self):\n",
        "    return \"%04d/%02d/%02d\" % (self._year, self._month, self._day)\n",
        "\n",
        "  def advance_by(self, days):\n",
        "    jday = self._to_jday() + days\n",
        "    y, m, d = self._jday_to_ymd(jday)\n",
        "    return Date(y, m, d)"
      ]
    },
    {
      "cell_type": "markdown",
      "source": [
        "Now, let's test our implementation"
      ],
      "metadata": {
        "id": "xNWqmjYH94H_"
      }
    },
    {
      "cell_type": "code",
      "source": [
        "month_names = [ \"January\", \"February\", \"March\", \"April\",\n",
        "               \"May\", \"June\", \"July\", \"August\",\n",
        "               \"September\", \"October\", \"November\", \"December\" ]\n",
        "day_names = [ \"Monday\", \"Tuesday\", \"Wednesday\", \"Thursday\",\n",
        "             \"Friday\", \"Saturday\", \"Sunday\" ]\n",
        "digits = \"0123456789\"\n",
        "\n",
        "def str_to_ymd(s):\n",
        "  if len(s) != 10 or s[4] not in \"/.-\" or s[7] != s[4]:\n",
        "    return 0, 0, 0\n",
        "  for i in range(10):\n",
        "    if i != 4 and i != 7 and s[i] not in digits:\n",
        "      return 0, 0, 0\n",
        "  year = int(s[:4])\n",
        "  month = int(s[5:7])\n",
        "  day = int(s[8:])\n",
        "  return year, month, day\n",
        "\n",
        "def get_date(s):\n",
        "  y, m, d = str_to_ymd(s)\n",
        "  if y > 0:\n",
        "    return Date(y, m, d)\n",
        "  print(\"Incorrect date format\")\n",
        "  return None\n",
        "\n",
        "def show_weekday(s):\n",
        "  day = get_date(s)\n",
        "  if day:\n",
        "    print(day, \"is a\", day_names[day.day_of_week()])\n",
        "\n",
        "def show_difference(s1, s2):\n",
        "  day1 = get_date(s1)\n",
        "  if day1:\n",
        "    day2 = get_date(s2)\n",
        "    if day2:\n",
        "      print(\"There are\", day1.num_days(day2), \"days between\", day1, \"and\", day2)\n",
        "\n",
        "def show_advance(s1, op, s2):\n",
        "  day = get_date(s1)\n",
        "  if day:\n",
        "    n = int(s2)\n",
        "    if op not in \"+-\":\n",
        "      print(\"Incorrect operator (only plus and minus are possible)\")\n",
        "      return\n",
        "    m = n\n",
        "    if op == \"-\":\n",
        "      m = -n\n",
        "    print(day, op, n, \"days =\", day.advance_by(m))\n",
        "\n",
        "def main():\n",
        "  print(\"Welcome to the EC2202 day calculator\\n\")\n",
        "  print(\"You can do the following:\")\n",
        "  print(\" * Enter a date to determine the weekday\")\n",
        "  print(\" * Enter two dates to determine the number of days in between\")\n",
        "  print(\" * Enter a date, + or -, and then a number of days\\n\")\n",
        "  print(\"All dates are in the form YYYY/MM/DD\\n\")\n",
        "\n",
        "  while True:\n",
        "    s = input(\"> \")\n",
        "    f = s.split()\n",
        "    if len(f) == 0:\n",
        "      return\n",
        "    elif len(f) == 1:\n",
        "      show_weekday(f[0])\n",
        "    elif len(f) == 2:\n",
        "      show_difference(f[0], f[1])\n",
        "    elif len(f) == 3:\n",
        "      show_advance(f[0], f[1], f[2])\n",
        "    else:\n",
        "      print(\"Incorrect command\")\n",
        "\n",
        "main()"
      ],
      "metadata": {
        "colab": {
          "base_uri": "https://localhost:8080/"
        },
        "id": "yo-ZbAkm97Zl",
        "outputId": "5ca51251-eed5-40e1-c141-ed9011409e09"
      },
      "execution_count": null,
      "outputs": [
        {
          "name": "stdout",
          "output_type": "stream",
          "text": [
            "Welcome to the EC2202 day calculator\n",
            "\n",
            "You can do the following:\n",
            " * Enter a date to determine the weekday\n",
            " * Enter two dates to determine the number of days in between\n",
            " * Enter a date, + or -, and then a number of days\n",
            "\n",
            "All dates are in the form YYYY/MM/DD\n",
            "\n",
            "> 2022/04/14 - 30\n",
            "2022/04/14 - 30 days = 2022/03/15\n",
            "> 2022/03/21 1990/04/14\n",
            "There are -11664 days between 2022/03/21 and 1990/04/14\n",
            "> \n"
          ]
        }
      ]
    },
    {
      "cell_type": "markdown",
      "source": [
        "## Alternative Implementation"
      ],
      "metadata": {
        "id": "dQOPpFBbOAcR"
      }
    },
    {
      "cell_type": "markdown",
      "source": [
        "Consider a situation where you need to store millions of `Date` objects. In this case it would be best to make the `Date` object as small as possible. Instead of storing three integers for year, month, and day, we could just store a single integer—the Julian day number."
      ],
      "metadata": {
        "id": "HjTL_6qNOCoZ"
      }
    },
    {
      "cell_type": "code",
      "source": [
        "def _jday_to_ymd(jday):\n",
        "  A = jday + 68569\n",
        "  B = 4 * A // 146097\n",
        "  A = A - (146097 * B + 3) // 4\n",
        "  year = 4000 * (A + 1) // 1461001\n",
        "  A = A - (1461 * year // 4) + 31\n",
        "  month = 80 * A // 2447\n",
        "  day = A - (2447 * month // 80)\n",
        "  A = month // 11\n",
        "  month = month + 2 - (12 * A)\n",
        "  year = 100 * (B - 49) + year + A\n",
        "  return year, month, day\n",
        "\n",
        "def _to_jday(year, month, day):\n",
        "  tmp = 0\n",
        "  if month < 3:\n",
        "    tmp = -1\n",
        "  return (day - 32075 +\n",
        "          (1461 * (year + 4800 + tmp) // 4) +\n",
        "          (367 * (month - 2 - tmp * 12) // 12) -\n",
        "          (3 * ((year + 4900 + tmp) // 100) // 4))\n",
        "\n",
        "class Date():\n",
        "  def __init__(self, year, month, day):\n",
        "    self._jday = _to_jday(year, month, day)\n",
        "\n",
        "  # ppp exercise\n",
        "  def _to_ymd(self):\n",
        "    pass\n",
        "\n",
        "  def year(self):\n",
        "    pass\n",
        "\n",
        "  def month(self):\n",
        "    pass\n",
        "\n",
        "  def day(self):\n",
        "    pass\n",
        "\n",
        "  def __str__(self):\n",
        "    y, m, d = self._to_ymd()\n",
        "    return \"%04d/%02d/%02d\" % (y, m, d)\n",
        "\n",
        "  def day_of_week(self):\n",
        "    pass\n",
        "\n",
        "  def num_days(self, other_date):\n",
        "    pass\n",
        "\n",
        "  def is_leap_year(self):\n",
        "    y = self.year()\n",
        "    return ((y % 400 == 0) or\n",
        "            ((y % 4 == 0) and (y % 100 != 0)))\n",
        "\n",
        "  def advance_by(self, days):\n",
        "    pass"
      ],
      "metadata": {
        "id": "ryrTN-GrO7Kb"
      },
      "execution_count": null,
      "outputs": []
    },
    {
      "cell_type": "markdown",
      "source": [
        "## Comparisons"
      ],
      "metadata": {
        "id": "aCF8emoScfgE"
      }
    },
    {
      "cell_type": "markdown",
      "source": [
        "We have not yet added the comparison operations to our implementations. It’s slightly easier doing this for the second implementation, since we can just compare the Julian day numbers. It suffices to define a few magic methods:\n"
      ],
      "metadata": {
        "id": "o8LQNPJkchvT"
      }
    },
    {
      "cell_type": "code",
      "source": [
        "def _jday_to_ymd(jday):\n",
        "  A = jday + 68569\n",
        "  B = 4 * A // 146097\n",
        "  A = A - (146097 * B + 3) // 4\n",
        "  year = 4000 * (A + 1) // 1461001\n",
        "  A = A - (1461 * year // 4) + 31\n",
        "  month = 80 * A // 2447\n",
        "  day = A - (2447 * month // 80)\n",
        "  A = month // 11\n",
        "  month = month + 2 - (12 * A)\n",
        "  year = 100 * (B - 49) + year + A\n",
        "  return year, month, day\n",
        "\n",
        "def _to_jday(year, month, day):\n",
        "  tmp = 0\n",
        "  if month < 3:\n",
        "    tmp = -1\n",
        "  return (day - 32075 +\n",
        "          (1461 * (year + 4800 + tmp) // 4) +\n",
        "          (367 * (month - 2 - tmp * 12) // 12) -\n",
        "          (3 * ((year + 4900 + tmp) // 100) // 4))\n",
        "\n",
        "class Date():\n",
        "  def __init__(self, year, month, day):\n",
        "    self._jday = _to_jday(year, month, day)\n",
        "\n",
        "  def _to_ymd(self):\n",
        "    return _jday_to_ymd(self._jday)\n",
        "\n",
        "  def year(self):\n",
        "    return self._to_ymd()[0]\n",
        "\n",
        "  def month(self):\n",
        "    return self._to_ymd()[1]\n",
        "\n",
        "  def day(self):\n",
        "    return self._to_ymd()[2]\n",
        "\n",
        "  def __str__(self):\n",
        "    y, m, d = self._to_ymd()\n",
        "    return \"%04d/%02d/%02d\" % (y, m, d)\n",
        "\n",
        "  def day_of_week(self):\n",
        "    return self._jday % 7\n",
        "\n",
        "  def num_days(self, other_date):\n",
        "    return other_date._jday - self._jday\n",
        "\n",
        "  def is_leap_year(self):\n",
        "    y = self.year()\n",
        "    return ((y % 400 == 0) or\n",
        "            ((y % 4 == 0) and (y % 100 != 0)))\n",
        "\n",
        "  def advance_by(self, days):\n",
        "    y, m, d = _jday_to_ymd(self._jday + days)\n",
        "    return Date(y, m, d)\n",
        "\n",
        "  def __eq__(self, rhs):\n",
        "    return self._jday == rhs._jday\n",
        "\n",
        "  def __lt__(self, rhs):\n",
        "    return self._jday < rhs._jday\n",
        "\n",
        "  def __le__(self, rhs):\n",
        "    return self._jday <= rhs._jday"
      ],
      "metadata": {
        "id": "EKrbU0NXcoQC"
      },
      "execution_count": null,
      "outputs": []
    },
    {
      "cell_type": "markdown",
      "source": [
        "The `__eq__` method implements equality, and makes the == and != operators work correctly. The `__lt__` method implements the “less than” operator <, while the `__le__` method implements the “less than or equal” operator <=. Python is smart enough to also use these methods for the > and >= operators."
      ],
      "metadata": {
        "id": "GChNJ9IP_nqi"
      }
    },
    {
      "cell_type": "markdown",
      "source": [
        "## Exceptions"
      ],
      "metadata": {
        "id": "bDRuLfRCdr1N"
      }
    },
    {
      "cell_type": "markdown",
      "source": [
        "Neither of our Date implementations handled invalid dates in the constructor:"
      ],
      "metadata": {
        "id": "N3ebo3-ZAx0Y"
      }
    },
    {
      "cell_type": "code",
      "source": [
        "# from date2 import Date\n",
        "\n",
        "d = Date(2017, 8, 32)"
      ],
      "metadata": {
        "id": "Et2hqM6eAzlo"
      },
      "execution_count": null,
      "outputs": []
    },
    {
      "cell_type": "markdown",
      "source": [
        "We would like to print an error message when the user enters such a date, but our Date data type accepts it silently.\n",
        "It’s actually quite easy to detect invalid dates: we can simply convert year, month, and day to the Julian day number, then convert it back and check if we get the same values.\n",
        "The problem is that the constructor always returns a Date object—so how can we report that the arguments are invalid? The solution is to raise an exception:"
      ],
      "metadata": {
        "id": "axb1ycZtA2tT"
      }
    },
    {
      "cell_type": "code",
      "source": [
        "def __init__(self, year, month, day):\n",
        "  jday = _to_jday(year, month, day)\n",
        "  y, m, d = _jday_to_ymd(jday)\n",
        "  if y != year or m != month or d != day:\n",
        "    raise ValueError(\"Invalid Gregorian date\")\n",
        "  self._jday = jday"
      ],
      "metadata": {
        "id": "O3XPP8-adt83"
      },
      "execution_count": null,
      "outputs": []
    },
    {
      "cell_type": "markdown",
      "source": [
        "Let's test again :)"
      ],
      "metadata": {
        "id": "BhZFjCk0V0Rz"
      }
    },
    {
      "cell_type": "code",
      "source": [
        "# from date4 import Date\n",
        "d = Date(2017, 8, 32)"
      ],
      "metadata": {
        "id": "x575cw0nBFSv"
      },
      "execution_count": null,
      "outputs": []
    },
    {
      "cell_type": "markdown",
      "source": [
        "now we also need to handle the exception in our client code, otherwise the program will simply crash when the user enters an invalid date."
      ],
      "metadata": {
        "id": "iLQ_hhQbVztB"
      }
    },
    {
      "cell_type": "code",
      "source": [
        "def main():\n",
        "  print(\"Welcome to the EC2202 day calculator\\n\")\n",
        "  print(\"You can do the following:\")\n",
        "  print(\" * Enter a date to determine the weekday\")\n",
        "  print(\" * Enter two dates to determine the number of days in between\")\n",
        "  print(\" * Enter a date, + or -, and then a number of days\\n\")\n",
        "  print(\"All dates are in the form YYYY/MM/DD\\n\")\n",
        "  while True:\n",
        "    s = input(\"> \")\n",
        "    f = s.split()\n",
        "    try:\n",
        "      if len(f) == 0:\n",
        "        return\n",
        "      elif len(f) == 1:\n",
        "        show_weekday(f[0])\n",
        "      elif len(f) == 2:\n",
        "        show_difference(f[0], f[1])\n",
        "      elif len(f) == 3:\n",
        "        show_advance(f[0], f[1], f[2])\n",
        "      else:\n",
        "        print(\"Incorrect command\")\n",
        "    except ValueError as e:\n",
        "      print(e)\n",
        "\n",
        "main()"
      ],
      "metadata": {
        "id": "M-mfbxrL0GGe"
      },
      "execution_count": null,
      "outputs": []
    },
    {
      "cell_type": "markdown",
      "source": [
        "## More Exceptions"
      ],
      "metadata": {
        "id": "zATku0Y_ABs8"
      }
    },
    {
      "cell_type": "markdown",
      "source": [
        "You may have seen many times how your programs terminate with an error or exception message. Here are some examples of exception messages:"
      ],
      "metadata": {
        "id": "PxWjFcEBWGbJ"
      }
    },
    {
      "cell_type": "code",
      "source": [
        "a = 3\n",
        "a // 0"
      ],
      "metadata": {
        "id": "99zo2dIXWLad",
        "colab": {
          "base_uri": "https://localhost:8080/",
          "height": 163
        },
        "outputId": "b980293a-f9a1-4c53-9d1d-c1fb5ec81c90"
      },
      "execution_count": 2,
      "outputs": [
        {
          "output_type": "error",
          "ename": "ZeroDivisionError",
          "evalue": "integer division or modulo by zero",
          "traceback": [
            "\u001b[0;31m---------------------------------------------------------------------------\u001b[0m",
            "\u001b[0;31mZeroDivisionError\u001b[0m                         Traceback (most recent call last)",
            "\u001b[0;32m<ipython-input-2-4e1d1ba6a678>\u001b[0m in \u001b[0;36m<cell line: 2>\u001b[0;34m()\u001b[0m\n\u001b[1;32m      1\u001b[0m \u001b[0ma\u001b[0m \u001b[0;34m=\u001b[0m \u001b[0;36m3\u001b[0m\u001b[0;34m\u001b[0m\u001b[0;34m\u001b[0m\u001b[0m\n\u001b[0;32m----> 2\u001b[0;31m \u001b[0ma\u001b[0m \u001b[0;34m//\u001b[0m \u001b[0;36m0\u001b[0m\u001b[0;34m\u001b[0m\u001b[0;34m\u001b[0m\u001b[0m\n\u001b[0m",
            "\u001b[0;31mZeroDivisionError\u001b[0m: integer division or modulo by zero"
          ]
        }
      ]
    },
    {
      "cell_type": "code",
      "source": [
        "s = 'abc'\n",
        "b = int(s)"
      ],
      "metadata": {
        "id": "Jqv0DuiDWNmf",
        "colab": {
          "base_uri": "https://localhost:8080/",
          "height": 163
        },
        "outputId": "63bbc1ee-6184-4e7f-9c6e-9bd859c9f212"
      },
      "execution_count": 3,
      "outputs": [
        {
          "output_type": "error",
          "ename": "ValueError",
          "evalue": "invalid literal for int() with base 10: 'abc'",
          "traceback": [
            "\u001b[0;31m---------------------------------------------------------------------------\u001b[0m",
            "\u001b[0;31mValueError\u001b[0m                                Traceback (most recent call last)",
            "\u001b[0;32m<ipython-input-3-60a9feffceaa>\u001b[0m in \u001b[0;36m<cell line: 2>\u001b[0;34m()\u001b[0m\n\u001b[1;32m      1\u001b[0m \u001b[0ms\u001b[0m \u001b[0;34m=\u001b[0m \u001b[0;34m'abc'\u001b[0m\u001b[0;34m\u001b[0m\u001b[0;34m\u001b[0m\u001b[0m\n\u001b[0;32m----> 2\u001b[0;31m \u001b[0mb\u001b[0m \u001b[0;34m=\u001b[0m \u001b[0mint\u001b[0m\u001b[0;34m(\u001b[0m\u001b[0ms\u001b[0m\u001b[0;34m)\u001b[0m\u001b[0;34m\u001b[0m\u001b[0;34m\u001b[0m\u001b[0m\n\u001b[0m",
            "\u001b[0;31mValueError\u001b[0m: invalid literal for int() with base 10: 'abc'"
          ]
        }
      ]
    },
    {
      "cell_type": "code",
      "source": [
        "data = [ None ] * 10000000000"
      ],
      "metadata": {
        "id": "Cozwbl8JWSAb"
      },
      "execution_count": null,
      "outputs": []
    },
    {
      "cell_type": "markdown",
      "source": [
        "Some exceptions, such as `MemoryError`, indicate a serious failure, where continuing the program makes no sense.\n",
        "\n",
        "Other exceptions, however, merely indicate an unexpected or abnormal condition in a program. For instance, a mistake in the input data of a program could cause an exception. Such mistakes can be handled: We say that the exception is handled or caught.\n",
        "\n",
        "We can catch the exception by enclosing the critical part in a `try`-block, and adding an `except`-clause to handle the exceptions we are interested in:"
      ],
      "metadata": {
        "id": "Xfo5zFSoWVea"
      }
    },
    {
      "cell_type": "code",
      "source": [
        "s = input(\"Enter an integer> \")\n",
        "try:\n",
        "  x = int(s)\n",
        "  print(\"You said: %g\" % x)\n",
        "except ValueError:\n",
        "  print(\"’%s’ is not a number\" % s)"
      ],
      "metadata": {
        "id": "m4LUiXMmWuc4"
      },
      "execution_count": null,
      "outputs": []
    },
    {
      "cell_type": "markdown",
      "source": [
        "If the `try`-block executes normally, then the `except`-clauses are skipped. But if somewhere inside the `try`-block (including in any method called, directly or indirectly) an exception is thrown, then execution of the `try`-block stops immediately, and continues in the first `except`-clause that matches the exception. Here, “matches” means that the exception is the same type as the exception type listed in the clause.\n",
        "The code within an `except`-clause is called an exception handler.\n",
        "\n",
        "The nice thing about exceptions is that you can also catch exceptions that were thrown inside functions called in the `try`-block."
      ],
      "metadata": {
        "id": "IW1iUr7sWwaP"
      }
    },
    {
      "cell_type": "code",
      "source": [
        "def test(s):\n",
        "  return int(100 * float(s))\n",
        "\n",
        "def show(s):\n",
        "  try:\n",
        "    print(test(s))\n",
        "  except ValueError:\n",
        "    print(\"’%s’ is not a number\" % s)"
      ],
      "metadata": {
        "id": "R4vbA4HfXWh7"
      },
      "execution_count": null,
      "outputs": []
    },
    {
      "cell_type": "code",
      "source": [
        "show(\"123.456\")"
      ],
      "metadata": {
        "id": "uzk1dpEZXYeW"
      },
      "execution_count": null,
      "outputs": []
    },
    {
      "cell_type": "code",
      "source": [
        "show(\"123a456\")"
      ],
      "metadata": {
        "id": "gKDD-cHyXaSJ"
      },
      "execution_count": null,
      "outputs": []
    },
    {
      "cell_type": "markdown",
      "source": [
        "Note that when an exception occurs (in this case inside the `float` function), the `float` function does not return, the `test` function does not return, the print statement is not executed, and instead execution continues in the `except`-clause."
      ],
      "metadata": {
        "id": "xjzDYkqIXeaD"
      }
    },
    {
      "cell_type": "code",
      "source": [
        "def f(n):\n",
        "  print(\"Starting f(%d) ... \" % n)\n",
        "  g(n)\n",
        "  print(\"Ending f(%d) ... \" % n)\n",
        "\n",
        "def g(n):\n",
        "  print(\"Starting g(%d) ... \" % n)\n",
        "  m = 100 // n\n",
        "  print(\"The result is %d\" % m)\n",
        "  print(\"Ending g(%d) ... \" % n)\n",
        "\n",
        "def main():\n",
        "  while True:\n",
        "    s = input(\"Enter a number> \")\n",
        "    if s.strip() == \"\":\n",
        "      return\n",
        "    try:\n",
        "      print(\"Beginning of try block\")\n",
        "      n = int(s)\n",
        "      f(n)\n",
        "      print(\"End of try block\")\n",
        "    except ValueError:\n",
        "      print(\"Please enter a number!\")\n",
        "    except ZeroDivisionError:\n",
        "      print(\"I can’t handle this value!\")\n",
        "\n",
        "main()"
      ],
      "metadata": {
        "colab": {
          "base_uri": "https://localhost:8080/"
        },
        "id": "Bu-3BTWPXnC8",
        "outputId": "79f724c5-5527-4481-f9bd-627613e0b439"
      },
      "execution_count": null,
      "outputs": [
        {
          "name": "stdout",
          "output_type": "stream",
          "text": [
            "Enter a number> 12\n",
            "Beginning of try block\n",
            "Starting f(12) ... \n",
            "Starting g(12) ... \n",
            "The result is 8\n",
            "Ending g(12) ... \n",
            "Ending f(12) ... \n",
            "End of try block\n",
            "Enter a number> abc\n",
            "Beginning of try block\n",
            "Please enter a number!\n",
            "Enter a number> 0\n",
            "Beginning of try block\n",
            "Starting f(0) ... \n",
            "Starting g(0) ... \n",
            "I can’t handle this value!\n",
            "Enter a number> \n"
          ]
        }
      ]
    },
    {
      "cell_type": "markdown",
      "source": [
        "So far we have only caught exceptions raised inside some library function. But you can just as well raise exceptions yourself. For instance, let’s assume that our function g(n) above should only handle non-negative numbers. We can ensure this by throwing a `ValueError` if the argument is negative. The whole script now looks like this:"
      ],
      "metadata": {
        "id": "Ap5F-V2rX3f0"
      }
    },
    {
      "cell_type": "code",
      "source": [
        "def f(n):\n",
        "  print(\"Starting f(%d) ... \" % n)\n",
        "  g(n)\n",
        "  print(\"Ending f(%d) ... \" % n)\n",
        "\n",
        "def g(n):\n",
        "  print(\"Starting g(%d) ... \" % n)\n",
        "  if n < 0:\n",
        "    raise ValueError(\"Cannot handle negative numbers\")\n",
        "  print(\"The result is %d\" % n)\n",
        "  print(\"Ending g(%d) ... \" % n)\n",
        "\n",
        "def main():\n",
        "  while True:\n",
        "    s = input(\"Enter a number> \")\n",
        "    if s.strip() == \"\":\n",
        "      return\n",
        "    try:\n",
        "      print(\"Beginning of try block\")\n",
        "      n = int(s)\n",
        "      f(n)\n",
        "      print(\"End of try block\")\n",
        "    except ValueError as e:\n",
        "      print(\"Cannot handle this input: %s\" % e)\n",
        "\n",
        "main()"
      ],
      "metadata": {
        "colab": {
          "base_uri": "https://localhost:8080/"
        },
        "id": "wlSU2565X6Dm",
        "outputId": "d5753400-29f2-4f0a-c909-77484bc70afd"
      },
      "execution_count": null,
      "outputs": [
        {
          "output_type": "stream",
          "name": "stdout",
          "text": [
            "Enter a number> 33\n",
            "Beginning of try block\n",
            "Starting f(33) ... \n",
            "Starting g(33) ... \n",
            "The result is 33\n",
            "Ending g(33) ... \n",
            "Ending f(33) ... \n",
            "End of try block\n"
          ]
        }
      ]
    },
    {
      "cell_type": "markdown",
      "source": [
        "You can also define your own `Exception`"
      ],
      "metadata": {
        "id": "PuTqn2Y0ZqJJ"
      }
    },
    {
      "cell_type": "code",
      "source": [
        "class MyErrorRandom(Exception):\n",
        "  def __init__(self):\n",
        "      super().__init__('custom_error_msg')\n",
        "\n",
        "def main():\n",
        "  try:\n",
        "    x = int(input(\"I'll raise an error!\"))\n",
        "    raise MyErrorRandom\n",
        "  except MyErrorRandom as e:\n",
        "    print('error occured', e)\n",
        "\n",
        "main()"
      ],
      "metadata": {
        "colab": {
          "base_uri": "https://localhost:8080/"
        },
        "id": "IVxuqHDkaTeJ",
        "outputId": "db462b30-b7ea-41de-fb4b-0069ae7ec818"
      },
      "execution_count": null,
      "outputs": [
        {
          "output_type": "stream",
          "name": "stdout",
          "text": [
            "I'll raise an error!5\n",
            "error occured custom_error_msg\n"
          ]
        }
      ]
    }
  ]
}