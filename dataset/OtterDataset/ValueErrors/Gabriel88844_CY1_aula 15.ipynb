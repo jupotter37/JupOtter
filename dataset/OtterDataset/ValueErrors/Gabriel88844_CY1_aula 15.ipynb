{
 "cells": [
  {
   "cell_type": "code",
   "execution_count": 3,
   "id": "abd65725-777a-4b9d-98ef-e233eb55429b",
   "metadata": {},
   "outputs": [
    {
     "name": "stdin",
     "output_type": "stream",
     "text": [
      "digite seu nome 1983\n"
     ]
    }
   ],
   "source": [
    "nome = input('digite seu nome')"
   ]
  },
  {
   "cell_type": "code",
   "execution_count": 5,
   "id": "34e807fb-efc3-4192-afdd-79562474ec64",
   "metadata": {},
   "outputs": [
    {
     "name": "stdin",
     "output_type": "stream",
     "text": [
      "digite um numero sei la\n"
     ]
    },
    {
     "ename": "ValueError",
     "evalue": "invalid literal for int() with base 10: 'sei la'",
     "output_type": "error",
     "traceback": [
      "\u001b[1;31m---------------------------------------------------------------------------\u001b[0m",
      "\u001b[1;31mValueError\u001b[0m                                Traceback (most recent call last)",
      "Cell \u001b[1;32mIn[5], line 1\u001b[0m\n\u001b[1;32m----> 1\u001b[0m numero \u001b[38;5;241m=\u001b[39m \u001b[38;5;28mint\u001b[39m(\u001b[38;5;28minput\u001b[39m(\u001b[38;5;124m'\u001b[39m\u001b[38;5;124mdigite um numero\u001b[39m\u001b[38;5;124m'\u001b[39m))\n",
      "\u001b[1;31mValueError\u001b[0m: invalid literal for int() with base 10: 'sei la'"
     ]
    }
   ],
   "source": [
    "numero = int(input('digite um numero'))"
   ]
  },
  {
   "cell_type": "code",
   "execution_count": 6,
   "id": "bbc55195-3c75-4c94-9499-64d7cb4ca0c6",
   "metadata": {},
   "outputs": [
    {
     "ename": "SyntaxError",
     "evalue": "unterminated string literal (detected at line 1) (1512329057.py, line 1)",
     "output_type": "error",
     "traceback": [
      "\u001b[1;36m  Cell \u001b[1;32mIn[6], line 1\u001b[1;36m\u001b[0m\n\u001b[1;33m    print('ctrl + play)\u001b[0m\n\u001b[1;37m          ^\u001b[0m\n\u001b[1;31mSyntaxError\u001b[0m\u001b[1;31m:\u001b[0m unterminated string literal (detected at line 1)\n"
     ]
    }
   ],
   "source": [
    "print('ctrl + play)"
   ]
  },
  {
   "cell_type": "code",
   "execution_count": 13,
   "id": "6bc7b402-68e2-4653-abc8-ba6b8c02351c",
   "metadata": {},
   "outputs": [
    {
     "name": "stdin",
     "output_type": "stream",
     "text": [
      "digite um numero 5\n",
      "digite outro numero 0.000000000000000000000000000000000000000000000000000000000000000000000000000000000000000000000000000000000000000000000000000000000000000000000000000000000000000000000000000000000000000000000000000000000000000000000000000000000000000000000000000000000000000000000000000000000000000000000000000000000000000000000000000000000000000000000000000000000000000000000000000000000000000000000000000000000000000000000000000000000000000000000000000000000000000000000000000000000000000000000000000000000000000000000000000000000000000000000000000000000000000000000000000000000000000000000000000000000000000000000000000000000000000000000000000000000000000000000000000000000000000000000000000000000000000000000000000000000000000000000000000000000000000000000000000000000000000000000000000000000000000000000000000000000000000000000000000000000000000000000000000000000000000000000000000000000000000000000000000000000000000000000000000000000000000000000000000000000000000000000000000000000000000000000000000000000000000000000000000000000000000000000000000000000000000000000000000000000000000000000000000000000000000000000000000000000000000000000000000000000000000000000000000000000000000000000000000000000000000000000000000000000000000000000000000000000000000000000000000000000000000000000000000000000000000000000000000000000000000000000000000000000000000000000000000000000000000000000000000000000000000000000000000000000000000000000000000000000000000000000000000000000000000000000000000000000000000000000000000000000000000000000000000000001\n"
     ]
    },
    {
     "ename": "ZeroDivisionError",
     "evalue": "float division by zero",
     "output_type": "error",
     "traceback": [
      "\u001b[1;31m---------------------------------------------------------------------------\u001b[0m",
      "\u001b[1;31mZeroDivisionError\u001b[0m                         Traceback (most recent call last)",
      "Cell \u001b[1;32mIn[13], line 3\u001b[0m\n\u001b[0;32m      1\u001b[0m x \u001b[38;5;241m=\u001b[39m \u001b[38;5;28mfloat\u001b[39m(\u001b[38;5;28minput\u001b[39m(\u001b[38;5;124m'\u001b[39m\u001b[38;5;124mdigite um numero\u001b[39m\u001b[38;5;124m'\u001b[39m))\n\u001b[0;32m      2\u001b[0m y \u001b[38;5;241m=\u001b[39m \u001b[38;5;28mfloat\u001b[39m(\u001b[38;5;28minput\u001b[39m(\u001b[38;5;124m'\u001b[39m\u001b[38;5;124mdigite outro numero\u001b[39m\u001b[38;5;124m'\u001b[39m))\n\u001b[1;32m----> 3\u001b[0m \u001b[38;5;28mprint\u001b[39m(x\u001b[38;5;241m/\u001b[39my)\n",
      "\u001b[1;31mZeroDivisionError\u001b[0m: float division by zero"
     ]
    }
   ],
   "source": [
    "x = float(input('digite um numero'))\n",
    "y = float(input('digite outro numero'))\n",
    "print(x/y)"
   ]
  },
  {
   "cell_type": "code",
   "execution_count": 15,
   "id": "20ee3e6f-9853-4661-8556-ba403e0ef281",
   "metadata": {},
   "outputs": [
    {
     "name": "stdin",
     "output_type": "stream",
     "text": [
      "digite um numero 5\n",
      "digite outro numero 0\n"
     ]
    },
    {
     "name": "stdout",
     "output_type": "stream",
     "text": [
      "memoria insuficiente\n"
     ]
    }
   ],
   "source": [
    "try:\n",
    "    x = float(input('digite um numero'))\n",
    "    y = float(input('digite outro numero'))\n",
    "    print(x/y)\n",
    "except:\n",
    "    print('memoria insuficiente')\n",
    "else:\n",
    "    print('programa executado com sucesso')"
   ]
  },
  {
   "cell_type": "code",
   "execution_count": 18,
   "id": "b76ade2c-08ac-4c6e-9463-3f4417f8f498",
   "metadata": {},
   "outputs": [
    {
     "name": "stdout",
     "output_type": "stream",
     "text": [
      "nao foi possivel localizar o arquivo\n"
     ]
    }
   ],
   "source": [
    "try:\n",
    "    f = open('arquivo.txt','r')\n",
    "    f.write('tente escrever algo')\n",
    "except:\n",
    "    print('nao foi possivel localizar o arquivo')\n",
    "\n",
    "else:\n",
    "    print('texto escrito com sucesso')\n",
    "    f.close()"
   ]
  },
  {
   "cell_type": "code",
   "execution_count": 19,
   "id": "7b098b80-ea38-4304-9aa3-5a1ab92f62ec",
   "metadata": {},
   "outputs": [
    {
     "name": "stdout",
     "output_type": "stream",
     "text": [
      "nao foi possivel localizar o arquivo\n",
      "qualquer coisa\n"
     ]
    }
   ],
   "source": [
    "try:\n",
    "    f = open('arquivo.txt','r')\n",
    "    f.write('tente escrever algo')\n",
    "except:\n",
    "    print('nao foi possivel localizar o arquivo')\n",
    "\n",
    "else:\n",
    "    print('texto escrito com sucesso')\n",
    "    f.close()\n",
    "\n",
    "finally:\n",
    "    print('qualquer coisa')"
   ]
  },
  {
   "cell_type": "code",
   "execution_count": 20,
   "id": "30a6892b-be18-4eda-aa9c-5365246f59b8",
   "metadata": {},
   "outputs": [
    {
     "name": "stdin",
     "output_type": "stream",
     "text": [
      "Digite um numero intero 4.9\n"
     ]
    },
    {
     "name": "stdout",
     "output_type": "stream",
     "text": [
      "parece que voce nao digitou um numero inteiro\n",
      "tentativa numero:1\n"
     ]
    },
    {
     "name": "stdin",
     "output_type": "stream",
     "text": [
      "Digite um numero intero 5.8\n"
     ]
    },
    {
     "name": "stdout",
     "output_type": "stream",
     "text": [
      "parece que voce nao digitou um numero inteiro\n",
      "tentativa numero:2\n"
     ]
    },
    {
     "name": "stdin",
     "output_type": "stream",
     "text": [
      "Digite um numero intero 6.7\n"
     ]
    },
    {
     "name": "stdout",
     "output_type": "stream",
     "text": [
      "parece que voce nao digitou um numero inteiro\n",
      "tentativa numero:3\n"
     ]
    },
    {
     "name": "stdin",
     "output_type": "stream",
     "text": [
      "Digite um numero intero 8.6\n"
     ]
    },
    {
     "name": "stdout",
     "output_type": "stream",
     "text": [
      "parece que voce nao digitou um numero inteiro\n",
      "tentativa numero:4\n"
     ]
    },
    {
     "name": "stdin",
     "output_type": "stream",
     "text": [
      "Digite um numero intero 9.5\n"
     ]
    },
    {
     "name": "stdout",
     "output_type": "stream",
     "text": [
      "parece que voce nao digitou um numero inteiro\n",
      "tentativa numero:5\n"
     ]
    },
    {
     "name": "stdin",
     "output_type": "stream",
     "text": [
      "Digite um numero intero 10.4\n"
     ]
    },
    {
     "name": "stdout",
     "output_type": "stream",
     "text": [
      "parece que voce nao digitou um numero inteiro\n",
      "tentativa numero:6\n"
     ]
    },
    {
     "name": "stdin",
     "output_type": "stream",
     "text": [
      "Digite um numero intero 1945\n"
     ]
    },
    {
     "name": "stdout",
     "output_type": "stream",
     "text": [
      "muito bem!\n",
      "tentativa numero:7\n",
      "1945\n"
     ]
    }
   ],
   "source": [
    "def pergunta_Numero():\n",
    "    numero = 1\n",
    "    while True:\n",
    "        try:\n",
    "            val= int(input('Digite um numero intero'))\n",
    "        except:\n",
    "            print('parece que voce nao digitou um numero inteiro')\n",
    "            continue\n",
    "        else:\n",
    "            print('muito bem!')\n",
    "            break\n",
    "        finally:\n",
    "            print('tentativa numero:{}'.format(numero))\n",
    "            numero += 1\n",
    "\n",
    "    print(val)\n",
    "\n",
    "pergunta_Numero()"
   ]
  },
  {
   "cell_type": "code",
   "execution_count": 3,
   "id": "a9242eae-7c47-4681-98b7-8931f5c8289b",
   "metadata": {},
   "outputs": [
    {
     "name": "stdin",
     "output_type": "stream",
     "text": [
      "Digite a senha 1020\n"
     ]
    },
    {
     "name": "stdout",
     "output_type": "stream",
     "text": [
      "digite novamente\n"
     ]
    },
    {
     "name": "stdin",
     "output_type": "stream",
     "text": [
      "Digite a senha aasdas\n"
     ]
    },
    {
     "name": "stdout",
     "output_type": "stream",
     "text": [
      "Senha incorreta:(\n"
     ]
    },
    {
     "name": "stdin",
     "output_type": "stream",
     "text": [
      "Digite a senha 2002\n"
     ]
    },
    {
     "name": "stdout",
     "output_type": "stream",
     "text": [
      "senha correta\n"
     ]
    }
   ],
   "source": [
    "while True:\n",
    "    senha = 2002\n",
    "    try:\n",
    "        senha = int(input('Digite a senha'))\n",
    "    except:\n",
    "         print('Senha incorreta:(')\n",
    "         continue\n",
    "    else:\n",
    "        if senha != 2002:\n",
    "            print ('digite novamente')\n",
    "        if senha == 2002:\n",
    "            print('senha correta')\n",
    "            break"
   ]
  },
  {
   "cell_type": "code",
   "execution_count": 4,
   "id": "58ec394e-7d32-4442-8955-cc177e5c91af",
   "metadata": {},
   "outputs": [
    {
     "name": "stdin",
     "output_type": "stream",
     "text": [
      "Digite um numero inteiro 4\n"
     ]
    },
    {
     "name": "stdout",
     "output_type": "stream",
     "text": [
      "1 1 1\n",
      "2 4 8\n",
      "3 9 27\n",
      "4 16 64\n"
     ]
    }
   ],
   "source": [
    "try:\n",
    "    n = int(input('Digite um numero inteiro'))\n",
    "except:\n",
    "    print('Numero invalido')\n",
    "else:\n",
    "    for x in range(1,n + 1):\n",
    "        print ('{} {} {}'.format(x,x**2,x**3))"
   ]
  }
 ],
 "metadata": {
  "kernelspec": {
   "display_name": "Python 3 (ipykernel)",
   "language": "python",
   "name": "python3"
  },
  "language_info": {
   "codemirror_mode": {
    "name": "ipython",
    "version": 3
   },
   "file_extension": ".py",
   "mimetype": "text/x-python",
   "name": "python",
   "nbconvert_exporter": "python",
   "pygments_lexer": "ipython3",
   "version": "3.11.7"
  }
 },
 "nbformat": 4,
 "nbformat_minor": 5
}
