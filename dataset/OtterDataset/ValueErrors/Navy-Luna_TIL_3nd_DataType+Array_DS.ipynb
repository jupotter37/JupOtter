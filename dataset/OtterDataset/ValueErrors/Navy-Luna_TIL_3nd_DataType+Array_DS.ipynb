{
  "cells": [
    {
      "cell_type": "markdown",
      "source": [
        "# Lecture 03의 데모\n",
        "\n",
        "### Lecture 03의 데모에 대한 코드\n",
        "\n",
        "참고자료: https://github.com/data-8/materials-sp22/blob/main/lec/lec04.ipynb"
      ],
      "metadata": {
        "id": "k_5WHxS4bDgg"
      }
    },
    {
      "cell_type": "code",
      "source": [
        "import os\n",
        "from google.colab import drive\n",
        "\n",
        "drive.mount('/content/gdrive')\n",
        "\n",
        "%cd /content/gdrive/MyDrive/ITEC419-fa22/lec"
      ],
      "metadata": {
        "id": "HJsP9gm9c6fs",
        "colab": {
          "base_uri": "https://localhost:8080/"
        },
        "outputId": "9bf0d874-b321-4e3e-e666-8dad5f8fbdfd"
      },
      "execution_count": 40,
      "outputs": [
        {
          "output_type": "stream",
          "name": "stdout",
          "text": [
            "Mounted at /content/gdrive\n",
            "/content/gdrive/MyDrive/ITEC419-fa22/lec\n"
          ]
        }
      ]
    },
    {
      "cell_type": "code",
      "execution_count": 38,
      "metadata": {
        "id": "kYA_rysSasQp"
      },
      "outputs": [],
      "source": [
        "from datascience import *\n",
        "import numpy as np"
      ]
    },
    {
      "cell_type": "markdown",
      "metadata": {
        "id": "s8wXE-5rasQx"
      },
      "source": [
        "## Numbers ##"
      ]
    },
    {
      "cell_type": "code",
      "execution_count": null,
      "metadata": {
        "id": "_jL3y4QaasQx"
      },
      "outputs": [],
      "source": [
        "10*3"
      ]
    },
    {
      "cell_type": "code",
      "execution_count": 4,
      "metadata": {
        "id": "dmTLwLTHasQx",
        "colab": {
          "base_uri": "https://localhost:8080/"
        },
        "outputId": "e94d3ce0-0f08-4057-86ca-fe08b78336f7"
      },
      "outputs": [
        {
          "output_type": "execute_result",
          "data": {
            "text/plain": [
              "3.3333333333333335"
            ]
          },
          "metadata": {},
          "execution_count": 4
        }
      ],
      "source": [
        "10/3"
      ]
    },
    {
      "cell_type": "code",
      "execution_count": 5,
      "metadata": {
        "id": "1bRtks0lasQx",
        "colab": {
          "base_uri": "https://localhost:8080/"
        },
        "outputId": "c45a7555-cad1-434b-9c37-787048d7e528"
      },
      "outputs": [
        {
          "output_type": "execute_result",
          "data": {
            "text/plain": [
              "1000"
            ]
          },
          "metadata": {},
          "execution_count": 5
        }
      ],
      "source": [
        "10**3"
      ]
    },
    {
      "cell_type": "code",
      "source": [
        "10**0.5"
      ],
      "metadata": {
        "id": "5vWsXzBDm6Aw",
        "colab": {
          "base_uri": "https://localhost:8080/"
        },
        "outputId": "303c64e6-4908-48d1-8b95-0c3af9167d08"
      },
      "execution_count": 6,
      "outputs": [
        {
          "output_type": "execute_result",
          "data": {
            "text/plain": [
              "3.1622776601683795"
            ]
          },
          "metadata": {},
          "execution_count": 6
        }
      ]
    },
    {
      "cell_type": "code",
      "source": [
        "# float(실수)형을 int(정수)형으로 변경가능하다.\n",
        "int(10/4)"
      ],
      "metadata": {
        "colab": {
          "base_uri": "https://localhost:8080/"
        },
        "id": "YVKOjpg0-AyS",
        "outputId": "3c1f9f73-771d-4984-a575-f40ba2126cc5"
      },
      "execution_count": 8,
      "outputs": [
        {
          "output_type": "execute_result",
          "data": {
            "text/plain": [
              "2"
            ]
          },
          "metadata": {},
          "execution_count": 8
        }
      ]
    },
    {
      "cell_type": "code",
      "source": [
        "# int(정수)형을 float(실수)형으로 변경가능하다.\n",
        "float(3)"
      ],
      "metadata": {
        "colab": {
          "base_uri": "https://localhost:8080/"
        },
        "id": "n7-hDBsD-Rto",
        "outputId": "91004bb2-4a52-45ef-836b-4f32e5c5e152"
      },
      "execution_count": 10,
      "outputs": [
        {
          "output_type": "execute_result",
          "data": {
            "text/plain": [
              "3.0"
            ]
          },
          "metadata": {},
          "execution_count": 10
        }
      ]
    },
    {
      "cell_type": "markdown",
      "metadata": {
        "id": "mfwusvlaasQ1"
      },
      "source": [
        "## Strings ##"
      ]
    },
    {
      "cell_type": "code",
      "execution_count": 11,
      "metadata": {
        "id": "gDnysHhuasQ1",
        "colab": {
          "base_uri": "https://localhost:8080/",
          "height": 36
        },
        "outputId": "f7978204-2c99-491c-d75a-22442317f362"
      },
      "outputs": [
        {
          "output_type": "execute_result",
          "data": {
            "text/plain": [
              "'Flavor'"
            ],
            "application/vnd.google.colaboratory.intrinsic+json": {
              "type": "string"
            }
          },
          "metadata": {},
          "execution_count": 11
        }
      ],
      "source": [
        "'Flavor'"
      ]
    },
    {
      "cell_type": "code",
      "execution_count": 12,
      "metadata": {
        "scrolled": true,
        "tags": [
          "raises-exception"
        ],
        "id": "g9ehCMobasQ1",
        "colab": {
          "base_uri": "https://localhost:8080/",
          "height": 36
        },
        "outputId": "11e31e16-e689-4737-cd6f-47c0f2d38fcb"
      },
      "outputs": [
        {
          "output_type": "execute_result",
          "data": {
            "text/plain": [
              "'Flavor'"
            ],
            "application/vnd.google.colaboratory.intrinsic+json": {
              "type": "string"
            }
          },
          "metadata": {},
          "execution_count": 12
        }
      ],
      "source": [
        "\"Flavor\""
      ]
    },
    {
      "cell_type": "code",
      "source": [
        "'straw' 'berry' # concatenation - colab에서만 되는듯"
      ],
      "metadata": {
        "id": "ZeaQq2BiVLXs",
        "colab": {
          "base_uri": "https://localhost:8080/",
          "height": 36
        },
        "outputId": "06b3a211-0a0c-49e9-b4e8-aa52789d2217"
      },
      "execution_count": 14,
      "outputs": [
        {
          "output_type": "execute_result",
          "data": {
            "text/plain": [
              "'strawberry'"
            ],
            "application/vnd.google.colaboratory.intrinsic+json": {
              "type": "string"
            }
          },
          "metadata": {},
          "execution_count": 14
        }
      ]
    },
    {
      "cell_type": "code",
      "source": [
        "'straw' + 'berry' # concatenation"
      ],
      "metadata": {
        "id": "6UWohSr0VPcM",
        "colab": {
          "base_uri": "https://localhost:8080/",
          "height": 36
        },
        "outputId": "ac0579e6-062b-47a9-fba0-242117c3d6bc"
      },
      "execution_count": 15,
      "outputs": [
        {
          "output_type": "execute_result",
          "data": {
            "text/plain": [
              "'strawberry'"
            ],
            "application/vnd.google.colaboratory.intrinsic+json": {
              "type": "string"
            }
          },
          "metadata": {},
          "execution_count": 15
        }
      ]
    },
    {
      "cell_type": "code",
      "execution_count": 17,
      "metadata": {
        "id": "gcP04pGcasQ1",
        "colab": {
          "base_uri": "https://localhost:8080/",
          "height": 36
        },
        "outputId": "438b9466-cedc-4d7c-9810-8a3238aa10ee"
      },
      "outputs": [
        {
          "output_type": "execute_result",
          "data": {
            "text/plain": [
              "'Chirs Paul'"
            ],
            "application/vnd.google.colaboratory.intrinsic+json": {
              "type": "string"
            }
          },
          "metadata": {},
          "execution_count": 17
        }
      ],
      "source": [
        "'Chirs' + ' ' + 'Paul'"
      ]
    },
    {
      "cell_type": "code",
      "source": [
        "x = 'straw'\n",
        "y = 'berry'\n",
        "x+y # 변수에 string 대입해서 concatenate 연산 가능"
      ],
      "metadata": {
        "colab": {
          "base_uri": "https://localhost:8080/",
          "height": 36
        },
        "id": "yLnzI9yr_67g",
        "outputId": "f27110e7-f2e8-4423-8a61-7cc7672cbd43"
      },
      "execution_count": 19,
      "outputs": [
        {
          "output_type": "execute_result",
          "data": {
            "text/plain": [
              "'strawberry'"
            ],
            "application/vnd.google.colaboratory.intrinsic+json": {
              "type": "string"
            }
          },
          "metadata": {},
          "execution_count": 19
        }
      ]
    },
    {
      "cell_type": "code",
      "source": [
        "x y # 앞에서는 중간에 공백만으로 됐는데 변수로해서 넣으면 안됨!!"
      ],
      "metadata": {
        "colab": {
          "base_uri": "https://localhost:8080/",
          "height": 134
        },
        "id": "HPG0ffHtAFz0",
        "outputId": "39d8fb67-00cf-457a-dd17-9d9591441622"
      },
      "execution_count": 20,
      "outputs": [
        {
          "output_type": "error",
          "ename": "SyntaxError",
          "evalue": "ignored",
          "traceback": [
            "\u001b[0;36m  File \u001b[0;32m\"<ipython-input-20-469c70ac347d>\"\u001b[0;36m, line \u001b[0;32m1\u001b[0m\n\u001b[0;31m    x y\u001b[0m\n\u001b[0m      ^\u001b[0m\n\u001b[0;31mSyntaxError\u001b[0m\u001b[0;31m:\u001b[0m invalid syntax\n"
          ]
        }
      ]
    },
    {
      "cell_type": "code",
      "source": [
        "# 여기서는 단순한 곱하기가 아님\n",
        "'ha' * 10"
      ],
      "metadata": {
        "colab": {
          "base_uri": "https://localhost:8080/",
          "height": 36
        },
        "id": "qqtl8ukoAuK4",
        "outputId": "153a447e-b55c-4d1f-cc25-6c2f113165fa"
      },
      "execution_count": 21,
      "outputs": [
        {
          "output_type": "execute_result",
          "data": {
            "text/plain": [
              "'hahahahahahahahahaha'"
            ],
            "application/vnd.google.colaboratory.intrinsic+json": {
              "type": "string"
            }
          },
          "metadata": {},
          "execution_count": 21
        }
      ]
    },
    {
      "cell_type": "code",
      "source": [
        "# 소수는 안됨!\n",
        "'lo' * 5.5"
      ],
      "metadata": {
        "colab": {
          "base_uri": "https://localhost:8080/",
          "height": 205
        },
        "id": "-Lk5L7bHAw7k",
        "outputId": "2023e34b-a1df-4b8b-fe2d-c5e934c39555"
      },
      "execution_count": 22,
      "outputs": [
        {
          "output_type": "error",
          "ename": "TypeError",
          "evalue": "ignored",
          "traceback": [
            "\u001b[0;31m---------------------------------------------------------------------------\u001b[0m",
            "\u001b[0;31mTypeError\u001b[0m                                 Traceback (most recent call last)",
            "\u001b[0;32m<ipython-input-22-b21ea21e1530>\u001b[0m in \u001b[0;36m<module>\u001b[0;34m\u001b[0m\n\u001b[0;32m----> 1\u001b[0;31m \u001b[0;34m'lo'\u001b[0m \u001b[0;34m*\u001b[0m \u001b[0;36m5.5\u001b[0m\u001b[0;34m\u001b[0m\u001b[0;34m\u001b[0m\u001b[0m\n\u001b[0m",
            "\u001b[0;31mTypeError\u001b[0m: can't multiply sequence by non-int of type 'float'"
          ]
        }
      ]
    },
    {
      "cell_type": "code",
      "source": [
        "# String과 int형은 더해지지 않는다.\n",
        "# 여기서는 숫자의 더하기로 기능한게 아니라 concatenate로 기능한것\n",
        "# 구분 잘해야함\n",
        "'ha' + 10"
      ],
      "metadata": {
        "colab": {
          "base_uri": "https://localhost:8080/",
          "height": 205
        },
        "id": "xjW0W1TxA98h",
        "outputId": "52cbe6a7-4480-4bec-f729-0d5a29291c4f"
      },
      "execution_count": 23,
      "outputs": [
        {
          "output_type": "error",
          "ename": "TypeError",
          "evalue": "ignored",
          "traceback": [
            "\u001b[0;31m---------------------------------------------------------------------------\u001b[0m",
            "\u001b[0;31mTypeError\u001b[0m                                 Traceback (most recent call last)",
            "\u001b[0;32m<ipython-input-23-e09ba789268d>\u001b[0m in \u001b[0;36m<module>\u001b[0;34m\u001b[0m\n\u001b[0;32m----> 1\u001b[0;31m \u001b[0;34m'ha'\u001b[0m \u001b[0;34m+\u001b[0m \u001b[0;36m10\u001b[0m\u001b[0;34m\u001b[0m\u001b[0;34m\u001b[0m\u001b[0m\n\u001b[0m",
            "\u001b[0;31mTypeError\u001b[0m: can only concatenate str (not \"int\") to str"
          ]
        }
      ]
    },
    {
      "cell_type": "code",
      "source": [
        "# concatenate 기능을 하니까 뒤에 숫자를 string 변화시키면됨\n",
        "'ha' + str(10)"
      ],
      "metadata": {
        "colab": {
          "base_uri": "https://localhost:8080/",
          "height": 36
        },
        "id": "e9oDATC7B3vW",
        "outputId": "9fbd15d3-f69c-4c90-9d1b-20af3cc8eb86"
      },
      "execution_count": 24,
      "outputs": [
        {
          "output_type": "execute_result",
          "data": {
            "text/plain": [
              "'ha10'"
            ],
            "application/vnd.google.colaboratory.intrinsic+json": {
              "type": "string"
            }
          },
          "metadata": {},
          "execution_count": 24
        }
      ]
    },
    {
      "cell_type": "code",
      "source": [
        "# 문자를 다시 정수형으로 변환 가능\n",
        "int('3')"
      ],
      "metadata": {
        "colab": {
          "base_uri": "https://localhost:8080/"
        },
        "id": "3ynLuNYkB7KA",
        "outputId": "e7c7644e-6e57-489e-e321-27f7adb3b9b2"
      },
      "execution_count": 26,
      "outputs": [
        {
          "output_type": "execute_result",
          "data": {
            "text/plain": [
              "3"
            ]
          },
          "metadata": {},
          "execution_count": 26
        }
      ]
    },
    {
      "cell_type": "code",
      "source": [
        "int('3r') # 문자포함은 안됨"
      ],
      "metadata": {
        "colab": {
          "base_uri": "https://localhost:8080/",
          "height": 205
        },
        "id": "_35YKsaWCKCT",
        "outputId": "bd0177a5-535d-4ae9-877e-3274b997f7d1"
      },
      "execution_count": 28,
      "outputs": [
        {
          "output_type": "error",
          "ename": "ValueError",
          "evalue": "ignored",
          "traceback": [
            "\u001b[0;31m---------------------------------------------------------------------------\u001b[0m",
            "\u001b[0;31mValueError\u001b[0m                                Traceback (most recent call last)",
            "\u001b[0;32m<ipython-input-28-f78a78ba6205>\u001b[0m in \u001b[0;36m<module>\u001b[0;34m\u001b[0m\n\u001b[0;32m----> 1\u001b[0;31m \u001b[0mint\u001b[0m\u001b[0;34m(\u001b[0m\u001b[0;34m'3r'\u001b[0m\u001b[0;34m)\u001b[0m \u001b[0;31m# 문자포함은 안됨\u001b[0m\u001b[0;34m\u001b[0m\u001b[0;34m\u001b[0m\u001b[0m\n\u001b[0m",
            "\u001b[0;31mValueError\u001b[0m: invalid literal for int() with base 10: '3r'"
          ]
        }
      ]
    },
    {
      "cell_type": "code",
      "source": [
        "# 실수형 string 들어있는걸 정수형으로 바꾸면 안됨\n",
        "int('3.0')"
      ],
      "metadata": {
        "colab": {
          "base_uri": "https://localhost:8080/",
          "height": 205
        },
        "id": "iUOVbLVpCOUf",
        "outputId": "cb5e10ee-6a27-42d7-a6cf-9eb62bc09178"
      },
      "execution_count": 29,
      "outputs": [
        {
          "output_type": "error",
          "ename": "ValueError",
          "evalue": "ignored",
          "traceback": [
            "\u001b[0;31m---------------------------------------------------------------------------\u001b[0m",
            "\u001b[0;31mValueError\u001b[0m                                Traceback (most recent call last)",
            "\u001b[0;32m<ipython-input-29-90ae876cd031>\u001b[0m in \u001b[0;36m<module>\u001b[0;34m\u001b[0m\n\u001b[0;32m----> 1\u001b[0;31m \u001b[0mint\u001b[0m\u001b[0;34m(\u001b[0m\u001b[0;34m'3.0'\u001b[0m\u001b[0;34m)\u001b[0m\u001b[0;34m\u001b[0m\u001b[0;34m\u001b[0m\u001b[0m\n\u001b[0m",
            "\u001b[0;31mValueError\u001b[0m: invalid literal for int() with base 10: '3.0'"
          ]
        }
      ]
    },
    {
      "cell_type": "code",
      "source": [
        "dot_oh =  '.0'\n",
        "float('3'+dot_oh)"
      ],
      "metadata": {
        "colab": {
          "base_uri": "https://localhost:8080/"
        },
        "id": "T3cUTL6SN1Ex",
        "outputId": "7b95a5cc-c045-4e0b-d0d3-f67da7734f03"
      },
      "execution_count": 30,
      "outputs": [
        {
          "output_type": "execute_result",
          "data": {
            "text/plain": [
              "3.0"
            ]
          },
          "metadata": {},
          "execution_count": 30
        }
      ]
    },
    {
      "cell_type": "markdown",
      "metadata": {
        "id": "Fjt2cgDmasQ3"
      },
      "source": [
        "## Types ##"
      ]
    },
    {
      "cell_type": "code",
      "execution_count": 31,
      "metadata": {
        "id": "VYp8GmEcasQ3",
        "colab": {
          "base_uri": "https://localhost:8080/"
        },
        "outputId": "bc8b993f-fc6f-48af-b8af-d5416ffc6ec9"
      },
      "outputs": [
        {
          "output_type": "execute_result",
          "data": {
            "text/plain": [
              "int"
            ]
          },
          "metadata": {},
          "execution_count": 31
        }
      ],
      "source": [
        "type(10)"
      ]
    },
    {
      "cell_type": "code",
      "execution_count": 32,
      "metadata": {
        "id": "cfQDP2ftasQ3"
      },
      "outputs": [],
      "source": [
        "a=10"
      ]
    },
    {
      "cell_type": "code",
      "execution_count": 34,
      "metadata": {
        "id": "bGKdcaoVasQ3",
        "colab": {
          "base_uri": "https://localhost:8080/"
        },
        "outputId": "464934f8-d630-4750-cce2-85f546f39663"
      },
      "outputs": [
        {
          "output_type": "execute_result",
          "data": {
            "text/plain": [
              "int"
            ]
          },
          "metadata": {},
          "execution_count": 34
        }
      ],
      "source": [
        "# 변수에 담겨있는 것의 타입기준으로 나옴\n",
        "type(a)"
      ]
    },
    {
      "cell_type": "code",
      "execution_count": 35,
      "metadata": {
        "id": "o2oWlSZXasQ3",
        "colab": {
          "base_uri": "https://localhost:8080/"
        },
        "outputId": "1065cc1c-4cac-42c8-c53d-44a7274c5b72"
      },
      "outputs": [
        {
          "output_type": "execute_result",
          "data": {
            "text/plain": [
              "str"
            ]
          },
          "metadata": {},
          "execution_count": 35
        }
      ],
      "source": [
        "type('abc')"
      ]
    },
    {
      "cell_type": "code",
      "execution_count": 36,
      "metadata": {
        "id": "jHzvRzshasQ3",
        "colab": {
          "base_uri": "https://localhost:8080/"
        },
        "outputId": "dd787481-8995-4590-d56c-20fa9bc1c63d"
      },
      "outputs": [
        {
          "output_type": "execute_result",
          "data": {
            "text/plain": [
              "float"
            ]
          },
          "metadata": {},
          "execution_count": 36
        }
      ],
      "source": [
        "type(4.5)"
      ]
    },
    {
      "cell_type": "code",
      "execution_count": 41,
      "metadata": {
        "id": "qJ14iJ_ZasQ4",
        "colab": {
          "base_uri": "https://localhost:8080/"
        },
        "outputId": "989424ac-4b50-4d01-d8c9-eaaa8a62aa2b"
      },
      "outputs": [
        {
          "output_type": "execute_result",
          "data": {
            "text/plain": [
              "datascience.tables.Table"
            ]
          },
          "metadata": {},
          "execution_count": 41
        }
      ],
      "source": [
        "type(Table.read_table('nba_salaries.csv'))"
      ]
    },
    {
      "cell_type": "code",
      "execution_count": 43,
      "metadata": {
        "id": "__j92kCbasQ4",
        "colab": {
          "base_uri": "https://localhost:8080/"
        },
        "outputId": "3fce40ed-148d-4ba8-80e3-9cb3deb7e286"
      },
      "outputs": [
        {
          "output_type": "execute_result",
          "data": {
            "text/plain": [
              "bool"
            ]
          },
          "metadata": {},
          "execution_count": 43
        }
      ],
      "source": [
        "type(True)"
      ]
    },
    {
      "cell_type": "code",
      "execution_count": 44,
      "metadata": {
        "id": "5ghRNsNSasQ4",
        "colab": {
          "base_uri": "https://localhost:8080/"
        },
        "outputId": "e1d58103-38c1-4449-93da-8ddaae0061bb"
      },
      "outputs": [
        {
          "output_type": "execute_result",
          "data": {
            "text/plain": [
              "int"
            ]
          },
          "metadata": {},
          "execution_count": 44
        }
      ],
      "source": [
        "type(-5)"
      ]
    },
    {
      "cell_type": "code",
      "execution_count": 45,
      "metadata": {
        "id": "TCzMxCwJasQ4",
        "colab": {
          "base_uri": "https://localhost:8080/"
        },
        "outputId": "210739a1-ef96-4e45-be53-ed02ffa9b29f"
      },
      "outputs": [
        {
          "output_type": "execute_result",
          "data": {
            "text/plain": [
              "builtin_function_or_method"
            ]
          },
          "metadata": {},
          "execution_count": 45
        }
      ],
      "source": [
        "type(abs)"
      ]
    },
    {
      "cell_type": "markdown",
      "metadata": {
        "id": "KpUTOovtasQ4"
      },
      "source": [
        "## Arrays ##"
      ]
    },
    {
      "cell_type": "code",
      "execution_count": 47,
      "metadata": {
        "id": "k-AcZ4KpasQ4"
      },
      "outputs": [],
      "source": [
        "# numpy 모듈 안에 존재하는 array\n",
        "# python에는 튜플, 리스트, 딕셔너리가 존재 Array는 없다.\n",
        "# array를 만드는 함수 make_array()\n",
        "first_four = make_array(1, 2, 3, 4)"
      ]
    },
    {
      "cell_type": "code",
      "execution_count": 48,
      "metadata": {
        "id": "A_JuLPdAasQ4",
        "colab": {
          "base_uri": "https://localhost:8080/"
        },
        "outputId": "cdc06b68-656e-4ccd-d753-632bb3de906b"
      },
      "outputs": [
        {
          "output_type": "execute_result",
          "data": {
            "text/plain": [
              "array([1, 2, 3, 4])"
            ]
          },
          "metadata": {},
          "execution_count": 48
        }
      ],
      "source": [
        "first_four"
      ]
    },
    {
      "cell_type": "code",
      "source": [
        "type(first_four)"
      ],
      "metadata": {
        "id": "hrHTxdX5kmy1",
        "colab": {
          "base_uri": "https://localhost:8080/"
        },
        "outputId": "94c969a2-757f-4ea7-c358-e215dd007af0"
      },
      "execution_count": 49,
      "outputs": [
        {
          "output_type": "execute_result",
          "data": {
            "text/plain": [
              "numpy.ndarray"
            ]
          },
          "metadata": {},
          "execution_count": 49
        }
      ]
    },
    {
      "cell_type": "code",
      "source": [
        "first_four*2"
      ],
      "metadata": {
        "id": "0D4AfORqkyyy",
        "colab": {
          "base_uri": "https://localhost:8080/"
        },
        "outputId": "75530bf5-8404-4067-cb04-53c9c6b6bdf1"
      },
      "execution_count": 50,
      "outputs": [
        {
          "output_type": "execute_result",
          "data": {
            "text/plain": [
              "array([2, 4, 6, 8])"
            ]
          },
          "metadata": {},
          "execution_count": 50
        }
      ]
    },
    {
      "cell_type": "code",
      "source": [
        "first_four**2"
      ],
      "metadata": {
        "id": "OGr93vaik8y1",
        "colab": {
          "base_uri": "https://localhost:8080/"
        },
        "outputId": "4910481f-c7fc-4cb1-9817-174cc6f0273d"
      },
      "execution_count": 51,
      "outputs": [
        {
          "output_type": "execute_result",
          "data": {
            "text/plain": [
              "array([ 1,  4,  9, 16])"
            ]
          },
          "metadata": {},
          "execution_count": 51
        }
      ]
    },
    {
      "cell_type": "code",
      "execution_count": 52,
      "metadata": {
        "id": "ym4war_XasQ4",
        "colab": {
          "base_uri": "https://localhost:8080/"
        },
        "outputId": "17721d84-2525-4bc0-c695-0aed89af580d"
      },
      "outputs": [
        {
          "output_type": "execute_result",
          "data": {
            "text/plain": [
              "array([0, 1, 2, 3])"
            ]
          },
          "metadata": {},
          "execution_count": 52
        }
      ],
      "source": [
        "first_four - 1"
      ]
    },
    {
      "cell_type": "code",
      "source": [
        "# 위에서 연산했다고 first_four가 바뀌는건 아님!\n",
        "first_four"
      ],
      "metadata": {
        "colab": {
          "base_uri": "https://localhost:8080/"
        },
        "id": "Fqt2lS2neLxb",
        "outputId": "fa75aeac-3faf-43a7-867f-74fab15db3b6"
      },
      "execution_count": 53,
      "outputs": [
        {
          "output_type": "execute_result",
          "data": {
            "text/plain": [
              "array([1, 2, 3, 4])"
            ]
          },
          "metadata": {},
          "execution_count": 53
        }
      ]
    },
    {
      "cell_type": "code",
      "source": [
        "next_four = make_array(5,6,7,8)"
      ],
      "metadata": {
        "id": "yw7Br7U3eWFa"
      },
      "execution_count": 54,
      "outputs": []
    },
    {
      "cell_type": "code",
      "source": [
        "# 항목 개수가 안맞으면 오류 생김\n",
        "first_four + next_four"
      ],
      "metadata": {
        "colab": {
          "base_uri": "https://localhost:8080/"
        },
        "id": "1jmZMl-ledI8",
        "outputId": "2f6fe482-b4b8-440b-ecfc-ae7e271e2350"
      },
      "execution_count": 56,
      "outputs": [
        {
          "output_type": "execute_result",
          "data": {
            "text/plain": [
              "array([ 6,  8, 10, 12])"
            ]
          },
          "metadata": {},
          "execution_count": 56
        }
      ]
    },
    {
      "cell_type": "code",
      "source": [
        "# 하지만 둘 중의 하나가 사이즈가1이면 자동으로 broadcast됨\n",
        "test = make_array(1)\n",
        "first_four+test"
      ],
      "metadata": {
        "colab": {
          "base_uri": "https://localhost:8080/"
        },
        "id": "DIdh8tDCekmf",
        "outputId": "b087ffaf-d9fd-42ba-8d06-63744c37d13b"
      },
      "execution_count": 58,
      "outputs": [
        {
          "output_type": "execute_result",
          "data": {
            "text/plain": [
              "array([2, 3, 4, 5])"
            ]
          },
          "metadata": {},
          "execution_count": 58
        }
      ]
    },
    {
      "cell_type": "code",
      "source": [
        "str_array = make_array('ha','he','ho')"
      ],
      "metadata": {
        "id": "6I5ynqSiexDk"
      },
      "execution_count": 59,
      "outputs": []
    },
    {
      "cell_type": "code",
      "source": [
        "# str 각각에 대해 4번 나올걸 기대했지만 그렇게는 안됨\n",
        "str_array*4"
      ],
      "metadata": {
        "colab": {
          "base_uri": "https://localhost:8080/",
          "height": 241
        },
        "id": "wjWBvnUqe1m4",
        "outputId": "313282d2-2698-499b-d70e-daa23f894cef"
      },
      "execution_count": 61,
      "outputs": [
        {
          "output_type": "error",
          "ename": "UFuncTypeError",
          "evalue": "ignored",
          "traceback": [
            "\u001b[0;31m---------------------------------------------------------------------------\u001b[0m",
            "\u001b[0;31mUFuncTypeError\u001b[0m                            Traceback (most recent call last)",
            "\u001b[0;32m<ipython-input-61-7514b899a3e1>\u001b[0m in \u001b[0;36m<module>\u001b[0;34m\u001b[0m\n\u001b[1;32m      1\u001b[0m \u001b[0;31m# str 각각에 대해 4번 나올걸 기대했지만 그렇게는 안됨\u001b[0m\u001b[0;34m\u001b[0m\u001b[0;34m\u001b[0m\u001b[0;34m\u001b[0m\u001b[0m\n\u001b[0;32m----> 2\u001b[0;31m \u001b[0mstr_array\u001b[0m\u001b[0;34m*\u001b[0m\u001b[0;36m4\u001b[0m\u001b[0;34m\u001b[0m\u001b[0;34m\u001b[0m\u001b[0m\n\u001b[0m",
            "\u001b[0;31mUFuncTypeError\u001b[0m: ufunc 'multiply' did not contain a loop with signature matching types (dtype('<U2'), dtype('int64')) -> None"
          ]
        }
      ]
    },
    {
      "cell_type": "code",
      "source": [
        "str_array +2"
      ],
      "metadata": {
        "colab": {
          "base_uri": "https://localhost:8080/",
          "height": 223
        },
        "id": "JAR5vw_Oe-hz",
        "outputId": "a8f64674-e253-4374-d3e9-2f6838ab7d49"
      },
      "execution_count": 62,
      "outputs": [
        {
          "output_type": "error",
          "ename": "UFuncTypeError",
          "evalue": "ignored",
          "traceback": [
            "\u001b[0;31m---------------------------------------------------------------------------\u001b[0m",
            "\u001b[0;31mUFuncTypeError\u001b[0m                            Traceback (most recent call last)",
            "\u001b[0;32m<ipython-input-62-fdb55722d36a>\u001b[0m in \u001b[0;36m<module>\u001b[0;34m\u001b[0m\n\u001b[0;32m----> 1\u001b[0;31m \u001b[0mstr_array\u001b[0m \u001b[0;34m+\u001b[0m\u001b[0;36m2\u001b[0m\u001b[0;34m\u001b[0m\u001b[0;34m\u001b[0m\u001b[0m\n\u001b[0m",
            "\u001b[0;31mUFuncTypeError\u001b[0m: ufunc 'add' did not contain a loop with signature matching types (dtype('<U2'), dtype('int64')) -> None"
          ]
        }
      ]
    },
    {
      "cell_type": "code",
      "source": [
        "str_array + 'test'"
      ],
      "metadata": {
        "colab": {
          "base_uri": "https://localhost:8080/",
          "height": 223
        },
        "id": "ueBtxbzBfBvG",
        "outputId": "0973a4a2-ebea-42f4-be2d-7e4c96d398a6"
      },
      "execution_count": 63,
      "outputs": [
        {
          "output_type": "error",
          "ename": "UFuncTypeError",
          "evalue": "ignored",
          "traceback": [
            "\u001b[0;31m---------------------------------------------------------------------------\u001b[0m",
            "\u001b[0;31mUFuncTypeError\u001b[0m                            Traceback (most recent call last)",
            "\u001b[0;32m<ipython-input-63-2a4b9f3f8126>\u001b[0m in \u001b[0;36m<module>\u001b[0;34m\u001b[0m\n\u001b[0;32m----> 1\u001b[0;31m \u001b[0mstr_array\u001b[0m \u001b[0;34m+\u001b[0m \u001b[0;34m'test'\u001b[0m\u001b[0;34m\u001b[0m\u001b[0;34m\u001b[0m\u001b[0m\n\u001b[0m",
            "\u001b[0;31mUFuncTypeError\u001b[0m: ufunc 'add' did not contain a loop with signature matching types (dtype('<U2'), dtype('<U4')) -> None"
          ]
        }
      ]
    },
    {
      "cell_type": "code",
      "source": [
        "# 인덱스를 활용하여 항목에 직접 접근 가능\n",
        "next_four.item(0)"
      ],
      "metadata": {
        "colab": {
          "base_uri": "https://localhost:8080/"
        },
        "id": "raiA2UcifEuF",
        "outputId": "8b9babe1-32c3-44d3-f23e-f753a42117f0"
      },
      "execution_count": 64,
      "outputs": [
        {
          "output_type": "execute_result",
          "data": {
            "text/plain": [
              "5"
            ]
          },
          "metadata": {},
          "execution_count": 64
        }
      ]
    },
    {
      "cell_type": "code",
      "source": [
        "# array의 합 구하기: sum 함수 이용\n",
        "sum(next_four)\n",
        "np.sum(next_four)"
      ],
      "metadata": {
        "colab": {
          "base_uri": "https://localhost:8080/"
        },
        "id": "Cy0sdlJkfMYc",
        "outputId": "215baa69-d71c-4a7d-9f6b-50bb50cc0dc6"
      },
      "execution_count": 66,
      "outputs": [
        {
          "output_type": "execute_result",
          "data": {
            "text/plain": [
              "26"
            ]
          },
          "metadata": {},
          "execution_count": 66
        }
      ]
    },
    {
      "cell_type": "code",
      "source": [
        "# 그냥 average는 안됨\n",
        "np.average(next_four)"
      ],
      "metadata": {
        "colab": {
          "base_uri": "https://localhost:8080/"
        },
        "id": "6LFb8GWtfYme",
        "outputId": "62aa3009-ca7c-4700-b8da-c86c185054b9"
      },
      "execution_count": 69,
      "outputs": [
        {
          "output_type": "execute_result",
          "data": {
            "text/plain": [
              "6.5"
            ]
          },
          "metadata": {},
          "execution_count": 69
        }
      ]
    },
    {
      "cell_type": "code",
      "source": [
        "# array 길이 반환\n",
        "len(next_four)"
      ],
      "metadata": {
        "colab": {
          "base_uri": "https://localhost:8080/"
        },
        "id": "zUo9r-1Ofi9Y",
        "outputId": "1cc78db9-81e8-461d-c775-c6b711fd51f3"
      },
      "execution_count": 70,
      "outputs": [
        {
          "output_type": "execute_result",
          "data": {
            "text/plain": [
              "4"
            ]
          },
          "metadata": {},
          "execution_count": 70
        }
      ]
    },
    {
      "cell_type": "markdown",
      "metadata": {
        "id": "1ez9LBgPasQ6"
      },
      "source": [
        "## Columns of Tables are Arrays ##"
      ]
    },
    {
      "cell_type": "code",
      "execution_count": 72,
      "metadata": {
        "id": "Z7WbgM2FasQ6",
        "colab": {
          "base_uri": "https://localhost:8080/",
          "height": 236
        },
        "outputId": "b41d1680-3726-401e-d9f4-d7168d24248a"
      },
      "outputs": [
        {
          "output_type": "display_data",
          "data": {
            "text/plain": [
              "<IPython.core.display.HTML object>"
            ],
            "text/html": [
              "<table border=\"1\" class=\"dataframe\">\n",
              "    <thead>\n",
              "        <tr>\n",
              "            <th>rank</th> <th>name</th> <th>position</th> <th>team</th> <th>salary</th>\n",
              "        </tr>\n",
              "    </thead>\n",
              "    <tbody>\n",
              "        <tr>\n",
              "            <td>1   </td> <td>Stephen Curry    </td> <td>PG      </td> <td>Golden State Warriors</td> <td>40231758</td>\n",
              "        </tr>\n",
              "        <tr>\n",
              "            <td>2   </td> <td>Chris Paul       </td> <td>PG      </td> <td>Oklahoma City Thunder</td> <td>38506482</td>\n",
              "        </tr>\n",
              "        <tr>\n",
              "            <td>3   </td> <td>Russell Westbrook</td> <td>PG      </td> <td>Houston Rockets      </td> <td>38506482</td>\n",
              "        </tr>\n",
              "        <tr>\n",
              "            <td>4   </td> <td>John Wall        </td> <td>PG      </td> <td>Washington Wizards   </td> <td>38199000</td>\n",
              "        </tr>\n",
              "        <tr>\n",
              "            <td>5   </td> <td>Kevin Durant     </td> <td>SF      </td> <td>Brooklyn Nets        </td> <td>38199000</td>\n",
              "        </tr>\n",
              "    </tbody>\n",
              "</table>\n",
              "<p>... (523 rows omitted)</p>"
            ]
          },
          "metadata": {}
        }
      ],
      "source": [
        "nba = Table.read_table('nba_salaries.csv').where('season', 2020).drop('season')\n",
        "nba.show(5)"
      ]
    },
    {
      "cell_type": "code",
      "execution_count": 73,
      "metadata": {
        "id": "MBW5OT8pasQ6",
        "colab": {
          "base_uri": "https://localhost:8080/",
          "height": 236
        },
        "outputId": "37ed2c72-fced-41d3-ed7c-3455d280ac52"
      },
      "outputs": [
        {
          "output_type": "display_data",
          "data": {
            "text/plain": [
              "<IPython.core.display.HTML object>"
            ],
            "text/html": [
              "<table border=\"1\" class=\"dataframe\">\n",
              "    <thead>\n",
              "        <tr>\n",
              "            <th>rank</th> <th>name</th> <th>position</th> <th>team</th> <th>salary</th>\n",
              "        </tr>\n",
              "    </thead>\n",
              "    <tbody>\n",
              "        <tr>\n",
              "            <td>1   </td> <td>Stephen Curry      </td> <td>PG      </td> <td>Golden State Warriors</td> <td>40231758</td>\n",
              "        </tr>\n",
              "        <tr>\n",
              "            <td>13  </td> <td>Klay Thompson      </td> <td>SG      </td> <td>Golden State Warriors</td> <td>32742000</td>\n",
              "        </tr>\n",
              "        <tr>\n",
              "            <td>60  </td> <td>Draymond Green     </td> <td>PF      </td> <td>Golden State Warriors</td> <td>18539130</td>\n",
              "        </tr>\n",
              "        <tr>\n",
              "            <td>223 </td> <td>Kevon Looney       </td> <td>PF      </td> <td>Golden State Warriors</td> <td>4464226 </td>\n",
              "        </tr>\n",
              "        <tr>\n",
              "            <td>316 </td> <td>Willie Cauley-Stein</td> <td>C       </td> <td>Golden State Warriors</td> <td>2177483 </td>\n",
              "        </tr>\n",
              "    </tbody>\n",
              "</table>\n",
              "<p>... (8 rows omitted)</p>"
            ]
          },
          "metadata": {}
        }
      ],
      "source": [
        "warriors = nba.where('team', 'Golden State Warriors')\n",
        "warriors.show(5)"
      ]
    },
    {
      "cell_type": "code",
      "execution_count": 75,
      "metadata": {
        "scrolled": true,
        "id": "_ps4v71uasQ6",
        "colab": {
          "base_uri": "https://localhost:8080/",
          "height": 392
        },
        "outputId": "b05478a2-6901-45e1-c784-ac753481d308"
      },
      "outputs": [
        {
          "output_type": "execute_result",
          "data": {
            "text/plain": [
              "salary\n",
              "40231758\n",
              "32742000\n",
              "18539130\n",
              "4464226\n",
              "2177483\n",
              "1964760\n",
              "1897800\n",
              "898310\n",
              "898310\n",
              "842327\n",
              "... (3 rows omitted)"
            ],
            "text/html": [
              "<table border=\"1\" class=\"dataframe\">\n",
              "    <thead>\n",
              "        <tr>\n",
              "            <th>salary</th>\n",
              "        </tr>\n",
              "    </thead>\n",
              "    <tbody>\n",
              "        <tr>\n",
              "            <td>40231758</td>\n",
              "        </tr>\n",
              "        <tr>\n",
              "            <td>32742000</td>\n",
              "        </tr>\n",
              "        <tr>\n",
              "            <td>18539130</td>\n",
              "        </tr>\n",
              "        <tr>\n",
              "            <td>4464226 </td>\n",
              "        </tr>\n",
              "        <tr>\n",
              "            <td>2177483 </td>\n",
              "        </tr>\n",
              "        <tr>\n",
              "            <td>1964760 </td>\n",
              "        </tr>\n",
              "        <tr>\n",
              "            <td>1897800 </td>\n",
              "        </tr>\n",
              "        <tr>\n",
              "            <td>898310  </td>\n",
              "        </tr>\n",
              "        <tr>\n",
              "            <td>898310  </td>\n",
              "        </tr>\n",
              "        <tr>\n",
              "            <td>842327  </td>\n",
              "        </tr>\n",
              "    </tbody>\n",
              "</table>\n",
              "<p>... (3 rows omitted)</p>"
            ]
          },
          "metadata": {},
          "execution_count": 75
        }
      ],
      "source": [
        "warriors.select('salary')"
      ]
    },
    {
      "cell_type": "code",
      "execution_count": 76,
      "metadata": {
        "id": "h_jcXrQ0asQ6",
        "colab": {
          "base_uri": "https://localhost:8080/"
        },
        "outputId": "ecb85549-ff5f-4786-a849-0ad85c9a9d6b"
      },
      "outputs": [
        {
          "output_type": "execute_result",
          "data": {
            "text/plain": [
              "datascience.tables.Table"
            ]
          },
          "metadata": {},
          "execution_count": 76
        }
      ],
      "source": [
        "type(warriors.select('salary'))"
      ]
    },
    {
      "cell_type": "code",
      "execution_count": 78,
      "metadata": {
        "id": "QWaayj-MasQ6",
        "colab": {
          "base_uri": "https://localhost:8080/"
        },
        "outputId": "da3a6ad5-7879-4408-fd01-3fc5d07aad73"
      },
      "outputs": [
        {
          "output_type": "execute_result",
          "data": {
            "text/plain": [
              "array([40231758, 32742000, 18539130,  4464226,  2177483,  1964760,\n",
              "        1897800,   898310,   898310,   842327,   654469,   350189,   350189])"
            ]
          },
          "metadata": {},
          "execution_count": 78
        }
      ],
      "source": [
        "# 위의 select문을 사용한 것과 차이를 확인\n",
        "warriors.column('salary')"
      ]
    },
    {
      "cell_type": "code",
      "execution_count": 79,
      "metadata": {
        "id": "oAr_mm_gasQ7",
        "colab": {
          "base_uri": "https://localhost:8080/"
        },
        "outputId": "d6e5c81a-6117-489d-88ab-d8b67ef04b24"
      },
      "outputs": [
        {
          "output_type": "execute_result",
          "data": {
            "text/plain": [
              "8154688.538461538"
            ]
          },
          "metadata": {},
          "execution_count": 79
        }
      ],
      "source": [
        "np.average(warriors.column('salary'))"
      ]
    },
    {
      "cell_type": "code",
      "source": [
        "suns = nba.where('team', 'Phoenix Suns')"
      ],
      "metadata": {
        "id": "2SNddRaDglFt"
      },
      "execution_count": 80,
      "outputs": []
    },
    {
      "cell_type": "code",
      "source": [
        "# 테이블 행의 개수\n",
        "suns.num_rows"
      ],
      "metadata": {
        "colab": {
          "base_uri": "https://localhost:8080/"
        },
        "id": "RIDPbeB1me0B",
        "outputId": "87cad138-dde3-4036-d606-2dd10e37f1dd"
      },
      "execution_count": 82,
      "outputs": [
        {
          "output_type": "execute_result",
          "data": {
            "text/plain": [
              "19"
            ]
          },
          "metadata": {},
          "execution_count": 82
        }
      ]
    },
    {
      "cell_type": "code",
      "source": [
        "# 테이블 열의 개수\n",
        "suns.num_columns"
      ],
      "metadata": {
        "colab": {
          "base_uri": "https://localhost:8080/"
        },
        "id": "EbA39jfPneOT",
        "outputId": "ab21fafe-3703-4e33-c3cb-04f52a15bb9f"
      },
      "execution_count": 83,
      "outputs": [
        {
          "output_type": "execute_result",
          "data": {
            "text/plain": [
              "5"
            ]
          },
          "metadata": {},
          "execution_count": 83
        }
      ]
    },
    {
      "cell_type": "code",
      "source": [],
      "metadata": {
        "id": "ZrLpYijOnjfg"
      },
      "execution_count": null,
      "outputs": []
    }
  ],
  "metadata": {
    "anaconda-cloud": {},
    "kernelspec": {
      "display_name": "Python 3",
      "language": "python",
      "name": "python3"
    },
    "language_info": {
      "codemirror_mode": {
        "name": "ipython",
        "version": 3
      },
      "file_extension": ".py",
      "mimetype": "text/x-python",
      "name": "python",
      "nbconvert_exporter": "python",
      "pygments_lexer": "ipython3",
      "version": "3.8.5"
    },
    "colab": {
      "provenance": [],
      "collapsed_sections": []
    }
  },
  "nbformat": 4,
  "nbformat_minor": 0
}