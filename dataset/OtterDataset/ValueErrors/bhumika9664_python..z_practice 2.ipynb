{
 "cells": [
  {
   "cell_type": "code",
   "execution_count": 1,
   "id": "17b468d8-4229-446d-95f8-46f1301d058f",
   "metadata": {},
   "outputs": [
    {
     "name": "stdout",
     "output_type": "stream",
     "text": [
      "my age is  40\n"
     ]
    }
   ],
   "source": [
    "print(\"my age is \",40)"
   ]
  },
  {
   "cell_type": "code",
   "execution_count": 5,
   "id": "1ab6693f-6209-4ba1-a6a1-de4c270e7934",
   "metadata": {},
   "outputs": [
    {
     "name": "stdout",
     "output_type": "stream",
     "text": [
      "my age is , 50\n"
     ]
    }
   ],
   "source": [
    "age=50\n",
    "print(f\"my age is , {age}\")"
   ]
  },
  {
   "cell_type": "markdown",
   "id": "83205ac7-f008-4ef7-8440-d61d3582334c",
   "metadata": {},
   "source": [
    "#print function \n",
    "#concatination\n",
    "#fstring"
   ]
  },
  {
   "cell_type": "code",
   "execution_count": 9,
   "id": "9767c2bf-6b5d-4851-9525-b1afcc58589a",
   "metadata": {},
   "outputs": [
    {
     "name": "stdout",
     "output_type": "stream",
     "text": [
      "my namr is Snighda I am a teacher\n"
     ]
    }
   ],
   "source": [
    "print(\"my namr is Snighda\",end=\" \")\n",
    "print(\"I am a teacher\")"
   ]
  },
  {
   "cell_type": "code",
   "execution_count": 11,
   "id": "05f99acd-df05-46f6-b5c7-d0ecf9205386",
   "metadata": {},
   "outputs": [
    {
     "name": "stdout",
     "output_type": "stream",
     "text": [
      "my namr is Snighda\n",
      "I am a teacher\n"
     ]
    }
   ],
   "source": [
    "print(\"my namr is Snighda\",end=\"\\n\")\n",
    "print(\"I am a teacher\")"
   ]
  },
  {
   "cell_type": "markdown",
   "id": "815f1153-ec2a-4b77-afa2-8410daf85700",
   "metadata": {},
   "source": [
    "#data type\n",
    "#\\n"
   ]
  },
  {
   "cell_type": "code",
   "execution_count": 13,
   "id": "980e002e-a22c-414d-a7a9-4c98ab4b7688",
   "metadata": {},
   "outputs": [
    {
     "name": "stdout",
     "output_type": "stream",
     "text": [
      "jaipur is a nice city its in Rajasthan\n",
      "its in India\n"
     ]
    }
   ],
   "source": [
    "print(\"jaipur is a nice city\",end=\" \")\n",
    "print(\"its in Rajasthan\",end=\"\\n\")\n",
    "print(\"its in India\")"
   ]
  },
  {
   "cell_type": "markdown",
   "id": "46c55393-8bd6-40e2-a523-9761de52240d",
   "metadata": {},
   "source": [
    "#data type\n",
    "#string\n",
    "#int\n",
    "#float\n",
    "#Boolean"
   ]
  },
  {
   "cell_type": "code",
   "execution_count": 15,
   "id": "3be3d620-03b1-4ddf-9784-724fd2ed72d1",
   "metadata": {},
   "outputs": [
    {
     "name": "stdout",
     "output_type": "stream",
     "text": [
      "<class 'int'>\n"
     ]
    }
   ],
   "source": [
    "a=12\n",
    "print(type(a))"
   ]
  },
  {
   "cell_type": "markdown",
   "id": "a48964ee-be9b-4ba2-bf55-e766f4631390",
   "metadata": {},
   "source": [
    "#conversion of dat type\n",
    "#str(variable to convert)\n",
    "#int(variable)\n",
    "#bool,float()"
   ]
  },
  {
   "cell_type": "code",
   "execution_count": 17,
   "id": "10c4f46b-17ea-4179-b26a-366224f695fd",
   "metadata": {},
   "outputs": [
    {
     "data": {
      "text/plain": [
       "'12'"
      ]
     },
     "execution_count": 17,
     "metadata": {},
     "output_type": "execute_result"
    }
   ],
   "source": [
    "str(a)"
   ]
  },
  {
   "cell_type": "code",
   "execution_count": 19,
   "id": "f651626c-92f4-4af1-85fe-5c6c621a5430",
   "metadata": {},
   "outputs": [
    {
     "ename": "ValueError",
     "evalue": "invalid literal for int() with base 10: 'jaipur'",
     "output_type": "error",
     "traceback": [
      "\u001b[1;31m---------------------------------------------------------------------------\u001b[0m",
      "\u001b[1;31mValueError\u001b[0m                                Traceback (most recent call last)",
      "Cell \u001b[1;32mIn[19], line 2\u001b[0m\n\u001b[0;32m      1\u001b[0m b\u001b[38;5;241m=\u001b[39m\u001b[38;5;124m\"\u001b[39m\u001b[38;5;124mjaipur\u001b[39m\u001b[38;5;124m\"\u001b[39m\n\u001b[1;32m----> 2\u001b[0m \u001b[38;5;28mint\u001b[39m (b)\n",
      "\u001b[1;31mValueError\u001b[0m: invalid literal for int() with base 10: 'jaipur'"
     ]
    }
   ],
   "source": [
    "b=\"jaipur\"\n",
    "int (b)"
   ]
  },
  {
   "cell_type": "code",
   "execution_count": 21,
   "id": "b08f896e-d6c7-4f07-abbd-91646b8965db",
   "metadata": {},
   "outputs": [
    {
     "data": {
      "text/plain": [
       "12.0"
      ]
     },
     "execution_count": 21,
     "metadata": {},
     "output_type": "execute_result"
    }
   ],
   "source": [
    "float(a)"
   ]
  },
  {
   "cell_type": "code",
   "execution_count": 23,
   "id": "515da891-bc47-40fc-928a-b6c6b1fb78e7",
   "metadata": {},
   "outputs": [
    {
     "data": {
      "text/plain": [
       "True"
      ]
     },
     "execution_count": 23,
     "metadata": {},
     "output_type": "execute_result"
    }
   ],
   "source": [
    "bool(a)"
   ]
  },
  {
   "cell_type": "code",
   "execution_count": 27,
   "id": "89a20736-7fea-449d-9f8d-6e37c557a357",
   "metadata": {},
   "outputs": [
    {
     "data": {
      "text/plain": [
       "1.0"
      ]
     },
     "execution_count": 27,
     "metadata": {},
     "output_type": "execute_result"
    }
   ],
   "source": [
    "c=1\n",
    "float(c)"
   ]
  },
  {
   "cell_type": "code",
   "execution_count": 31,
   "id": "032df1d9-7276-426d-982e-f5f92afc4c37",
   "metadata": {},
   "outputs": [
    {
     "data": {
      "text/plain": [
       "True"
      ]
     },
     "execution_count": 31,
     "metadata": {},
     "output_type": "execute_result"
    }
   ],
   "source": [
    "bool(c)"
   ]
  },
  {
   "cell_type": "code",
   "execution_count": 33,
   "id": "da245df8-8fa4-4a20-abf7-4d4eda59f248",
   "metadata": {},
   "outputs": [
    {
     "data": {
      "text/plain": [
       "'1'"
      ]
     },
     "execution_count": 33,
     "metadata": {},
     "output_type": "execute_result"
    }
   ],
   "source": [
    "str(c)"
   ]
  },
  {
   "cell_type": "code",
   "execution_count": 35,
   "id": "43467337-56d8-4b03-befe-d0f5cb24fccc",
   "metadata": {},
   "outputs": [
    {
     "name": "stdout",
     "output_type": "stream",
     "text": [
      "my name is Bhumika\n",
      "i am 19 years old\n"
     ]
    }
   ],
   "source": [
    "print(\"my name is Bhumika\",end=\"\\n\")\n",
    "print(\"i am 19 years old\")"
   ]
  },
  {
   "cell_type": "markdown",
   "id": "4b727340-641d-43f6-9508-e8c79eb4a2d0",
   "metadata": {},
   "source": [
    "#operators\n",
    "#arithmatic operators----(+,-,/,*,%,//,**)"
   ]
  },
  {
   "cell_type": "code",
   "execution_count": 39,
   "id": "444bbda0-e1a3-421a-b9c9-2add361d2d65",
   "metadata": {},
   "outputs": [
    {
     "name": "stdout",
     "output_type": "stream",
     "text": [
      "30\n",
      "-10\n",
      "0.5\n",
      "200\n",
      "10\n",
      "0\n",
      "100000000000000000000\n"
     ]
    }
   ],
   "source": [
    "a=10\n",
    "b=20\n",
    "print(a+b)\n",
    "print(a-b)\n",
    "print(a/b)\n",
    "print(a*b)\n",
    "print(a%b)\n",
    "print(a//b)\n",
    "print(a**b)"
   ]
  },
  {
   "cell_type": "markdown",
   "id": "549b3bda-b1d5-4a5f-8998-38214a885048",
   "metadata": {},
   "source": [
    "#comparision operators--(==,!=,<,>,<=,>=)"
   ]
  },
  {
   "cell_type": "code",
   "execution_count": 41,
   "id": "c29b3db8-1209-492a-9e61-cc6e94a8044a",
   "metadata": {},
   "outputs": [
    {
     "name": "stdout",
     "output_type": "stream",
     "text": [
      "False\n",
      "True\n",
      "True\n",
      "False\n",
      "True\n",
      "False\n"
     ]
    }
   ],
   "source": [
    "print(a==b)\n",
    "print(a!=b)\n",
    "print(a<b)\n",
    "print(a>b)\n",
    "print(a<=b)\n",
    "print(a>=b)"
   ]
  },
  {
   "cell_type": "markdown",
   "id": "68a34bfd-763f-4473-8e70-2f896404cc60",
   "metadata": {},
   "source": [
    "#assignment operators----(+=,-=,*=,/=,**=,//=,%=)\n",
    "#uranaru oprators\n",
    "#modulus(%)----gives remainder"
   ]
  },
  {
   "cell_type": "code",
   "execution_count": 57,
   "id": "978f601a-1af8-4f7b-b109-d785be3a9a39",
   "metadata": {},
   "outputs": [
    {
     "name": "stdout",
     "output_type": "stream",
     "text": [
      "7\n",
      "4\n",
      "8\n",
      "2.0\n",
      "4.0\n",
      "1.0\n",
      "1.0\n"
     ]
    }
   ],
   "source": [
    "x=5\n",
    "x+=2\n",
    "print(x)\n",
    "x-=3\n",
    "print(x)\n",
    "x*=2\n",
    "print(x)\n",
    "x/=4\n",
    "print(x)\n",
    "x**=2\n",
    "print(x)\n",
    "x//=3\n",
    "print(x)\n",
    "x%=2\n",
    "print(x)"
   ]
  },
  {
   "cell_type": "code",
   "execution_count": 59,
   "id": "75904540-af5b-4b8d-baef-a8668deed64c",
   "metadata": {},
   "outputs": [
    {
     "name": "stdout",
     "output_type": "stream",
     "text": [
      "2\n",
      "-1\n",
      "-2\n",
      "-0.5\n",
      "0.25\n",
      "0.0\n",
      "0.0\n"
     ]
    }
   ],
   "source": [
    "y=2\n",
    "x+=9\n",
    "print(y)\n",
    "y-=3\n",
    "print(y)\n",
    "y*=2\n",
    "print(y)\n",
    "y/=4\n",
    "print(y)\n",
    "y**=2\n",
    "print(y)\n",
    "y//=3\n",
    "print(y)\n",
    "y%=2\n",
    "print(y)"
   ]
  },
  {
   "cell_type": "markdown",
   "id": "56bbf31c-32a8-43fd-acc4-3cc31eeec5d1",
   "metadata": {},
   "source": [
    "#5 + 4 -3 ** 6 // 5 * 6 / 7 % 3"
   ]
  },
  {
   "cell_type": "code",
   "execution_count": 63,
   "id": "f43741fd-7092-41bb-97d8-8a0decfd3b1d",
   "metadata": {},
   "outputs": [
    {
     "name": "stdout",
     "output_type": "stream",
     "text": [
      "9\n",
      "6\n",
      "46656\n",
      "9331\n",
      "55986\n",
      "7998.0\n",
      "0.0\n"
     ]
    }
   ],
   "source": [
    "x=5\n",
    "x+=4\n",
    "print(x)\n",
    "x-=3\n",
    "print(x)\n",
    "x**=6\n",
    "print(x)\n",
    "x//=5\n",
    "print(x)\n",
    "x*=6\n",
    "print(x)\n",
    "x/=7\n",
    "print(x)\n",
    "x%=3\n",
    "print(x)"
   ]
  }
 ],
 "metadata": {
  "kernelspec": {
   "display_name": "Python 3 (ipykernel)",
   "language": "python",
   "name": "python3"
  },
  "language_info": {
   "codemirror_mode": {
    "name": "ipython",
    "version": 3
   },
   "file_extension": ".py",
   "mimetype": "text/x-python",
   "name": "python",
   "nbconvert_exporter": "python",
   "pygments_lexer": "ipython3",
   "version": "3.12.4"
  }
 },
 "nbformat": 4,
 "nbformat_minor": 5
}
