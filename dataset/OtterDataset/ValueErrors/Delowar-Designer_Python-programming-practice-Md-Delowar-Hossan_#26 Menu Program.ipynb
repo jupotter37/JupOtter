{
 "cells": [
  {
   "cell_type": "code",
   "execution_count": 6,
   "id": "894a03fb",
   "metadata": {},
   "outputs": [
    {
     "name": "stdout",
     "output_type": "stream",
     "text": [
      "Main Menu:\n",
      "1. Addition\n",
      "2. Substraction\n",
      "3. Multiplication\n",
      "4. Division\n",
      "5. Quit\n",
      "Please make a choice: 1\n",
      "Enter a number: 4\n",
      "Enter another numner: 5\n",
      "Addition is: 9\n",
      "Please make a choice: 25\n",
      "Please make a choice: 2\n",
      "Enter a number: 4\n",
      "Enter another numner: 4\n",
      "Substraction is: 0\n",
      "Please make a choice: 3\n",
      "Enter a number: 4\n",
      "Enter another numner: 4\n",
      "Multiplication is: 16\n",
      "Please make a choice: 4\n",
      "Enter a number: 10\n",
      "Enter another numner: 2\n",
      "Division is: 5.0\n",
      "Please make a choice: 3\n",
      "Enter a number: \n"
     ]
    },
    {
     "ename": "ValueError",
     "evalue": "invalid literal for int() with base 10: ''",
     "output_type": "error",
     "traceback": [
      "\u001b[1;31m---------------------------------------------------------------------------\u001b[0m",
      "\u001b[1;31mValueError\u001b[0m                                Traceback (most recent call last)",
      "Cell \u001b[1;32mIn[6], line 41\u001b[0m\n\u001b[0;32m     39\u001b[0m     sub()\n\u001b[0;32m     40\u001b[0m \u001b[38;5;28;01mif\u001b[39;00m choice \u001b[38;5;241m==\u001b[39m \u001b[38;5;241m3\u001b[39m:\n\u001b[1;32m---> 41\u001b[0m     mul()\n\u001b[0;32m     42\u001b[0m \u001b[38;5;28;01mif\u001b[39;00m choice \u001b[38;5;241m==\u001b[39m \u001b[38;5;241m4\u001b[39m:\n\u001b[0;32m     43\u001b[0m     div()\n",
      "Cell \u001b[1;32mIn[6], line 19\u001b[0m, in \u001b[0;36mmul\u001b[1;34m()\u001b[0m\n\u001b[0;32m     18\u001b[0m \u001b[38;5;28;01mdef\u001b[39;00m \u001b[38;5;21mmul\u001b[39m():\n\u001b[1;32m---> 19\u001b[0m     num1 \u001b[38;5;241m=\u001b[39m \u001b[38;5;28mint\u001b[39m(\u001b[38;5;28minput\u001b[39m(\u001b[38;5;124m\"\u001b[39m\u001b[38;5;124mEnter a number: \u001b[39m\u001b[38;5;124m\"\u001b[39m))\n\u001b[0;32m     20\u001b[0m     num2 \u001b[38;5;241m=\u001b[39m \u001b[38;5;28mint\u001b[39m(\u001b[38;5;28minput\u001b[39m(\u001b[38;5;124m\"\u001b[39m\u001b[38;5;124mEnter another numner: \u001b[39m\u001b[38;5;124m\"\u001b[39m))\n\u001b[0;32m     21\u001b[0m     \u001b[38;5;28mprint\u001b[39m(\u001b[38;5;124m\"\u001b[39m\u001b[38;5;124mMultiplication is: \u001b[39m\u001b[38;5;132;01m{}\u001b[39;00m\u001b[38;5;124m\"\u001b[39m\u001b[38;5;241m.\u001b[39mformat(num1 \u001b[38;5;241m*\u001b[39m num2))\n",
      "\u001b[1;31mValueError\u001b[0m: invalid literal for int() with base 10: ''"
     ]
    }
   ],
   "source": [
    "print(\"Main Menu:\")\n",
    "print(\"1. Addition\")\n",
    "print(\"2. Substraction\")\n",
    "print(\"3. Multiplication\")\n",
    "print(\"4. Division\")\n",
    "print(\"5. Quit\")\n",
    "\n",
    "def add():\n",
    "    num1 = int(input(\"Enter a number: \"))\n",
    "    num2 = int(input(\"Enter another numner: \"))\n",
    "    print(\"Addition is: {}\".format(num1 + num2))\n",
    "    \n",
    "def sub():\n",
    "    num1 = int(input(\"Enter a number: \"))\n",
    "    num2 = int(input(\"Enter another numner: \"))\n",
    "    print(\"Substraction is: {}\".format(num1 - num2))\n",
    "\n",
    "def mul():\n",
    "    num1 = int(input(\"Enter a number: \"))\n",
    "    num2 = int(input(\"Enter another numner: \"))\n",
    "    print(\"Multiplication is: {}\".format(num1 * num2))\n",
    "    \n",
    "def div():\n",
    "    try:\n",
    "        num1 = int(input(\"Enter a number: \"))\n",
    "        num2 = int(input(\"Enter another numner: \"))\n",
    "        print(\"Division is: {}\".format(num1 / num2))\n",
    "    except ZeroDivisionError as e:\n",
    "        print(e)\n",
    "while True: \n",
    "    try:\n",
    "        choice = int(input(\"Please make a choice: \"))\n",
    "    except:\n",
    "        continue\n",
    "\n",
    "    if choice == 1:\n",
    "        add()\n",
    "    if choice == 2:\n",
    "        sub()\n",
    "    if choice == 3:\n",
    "        mul()\n",
    "    if choice == 4:\n",
    "        div()\n",
    "    if choice == 5:\n",
    "        break"
   ]
  },
  {
   "cell_type": "code",
   "execution_count": null,
   "id": "dcf8bf65",
   "metadata": {},
   "outputs": [],
   "source": []
  },
  {
   "cell_type": "code",
   "execution_count": null,
   "id": "df6197cd",
   "metadata": {},
   "outputs": [],
   "source": []
  },
  {
   "cell_type": "code",
   "execution_count": null,
   "id": "3e16f758",
   "metadata": {},
   "outputs": [],
   "source": []
  }
 ],
 "metadata": {
  "kernelspec": {
   "display_name": "Python 3 (ipykernel)",
   "language": "python",
   "name": "python3"
  },
  "language_info": {
   "codemirror_mode": {
    "name": "ipython",
    "version": 3
   },
   "file_extension": ".py",
   "mimetype": "text/x-python",
   "name": "python",
   "nbconvert_exporter": "python",
   "pygments_lexer": "ipython3",
   "version": "3.11.5"
  }
 },
 "nbformat": 4,
 "nbformat_minor": 5
}
