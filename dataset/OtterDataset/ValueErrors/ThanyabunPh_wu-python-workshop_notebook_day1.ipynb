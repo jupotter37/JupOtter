{
 "cells": [
  {
   "metadata": {},
   "cell_type": "markdown",
   "source": [
    "# python basic syntax\n",
    "print() for printing variable or string to screen"
   ]
  },
  {
   "cell_type": "code",
   "metadata": {
    "ExecuteTime": {
     "end_time": "2024-08-18T01:45:57.115782Z",
     "start_time": "2024-08-18T01:45:57.110434Z"
    }
   },
   "source": [
    "print('hello world \"hello world\" ')\n",
    "print(\"hello world \")"
   ],
   "outputs": [
    {
     "name": "stdout",
     "output_type": "stream",
     "text": [
      "hello world \"hello world\" \n",
      "hello world \n"
     ]
    }
   ],
   "execution_count": 1
  },
  {
   "metadata": {},
   "cell_type": "markdown",
   "source": [
    "---\n",
    "## variables name\n",
    "Variables are containers for storing data values.\n",
    "\n"
   ]
  },
  {
   "metadata": {
    "ExecuteTime": {
     "end_time": "2024-08-18T01:45:57.427790Z",
     "start_time": "2024-08-18T01:45:57.424791Z"
    }
   },
   "cell_type": "code",
   "source": "x = 5",
   "outputs": [],
   "execution_count": 2
  },
  {
   "metadata": {
    "ExecuteTime": {
     "end_time": "2024-08-18T01:45:57.435132Z",
     "start_time": "2024-08-18T01:45:57.431792Z"
    }
   },
   "cell_type": "code",
   "source": "print(x)",
   "outputs": [
    {
     "name": "stdout",
     "output_type": "stream",
     "text": [
      "5\n"
     ]
    }
   ],
   "execution_count": 3
  },
  {
   "metadata": {
    "ExecuteTime": {
     "end_time": "2024-08-18T01:45:57.470672Z",
     "start_time": "2024-08-18T01:45:57.467804Z"
    }
   },
   "cell_type": "code",
   "source": [
    "name = 'tanabodee'\n",
    "name2 = \"limlong\""
   ],
   "outputs": [],
   "execution_count": 4
  },
  {
   "metadata": {
    "ExecuteTime": {
     "end_time": "2024-08-18T01:45:57.567985Z",
     "start_time": "2024-08-18T01:45:57.563709Z"
    }
   },
   "cell_type": "code",
   "source": "print(name, name2)",
   "outputs": [
    {
     "name": "stdout",
     "output_type": "stream",
     "text": [
      "tanabodee limlong\n"
     ]
    }
   ],
   "execution_count": 5
  },
  {
   "metadata": {
    "ExecuteTime": {
     "end_time": "2024-08-18T01:45:57.613358Z",
     "start_time": "2024-08-18T01:45:57.609644Z"
    }
   },
   "cell_type": "code",
   "source": [
    "x = 6   \n",
    "x = \"paweena\"\n",
    "print(x)"
   ],
   "outputs": [
    {
     "name": "stdout",
     "output_type": "stream",
     "text": [
      "paweena\n"
     ]
    }
   ],
   "execution_count": 6
  },
  {
   "metadata": {
    "ExecuteTime": {
     "end_time": "2024-08-18T01:45:57.706952Z",
     "start_time": "2024-08-18T01:45:57.703285Z"
    }
   },
   "cell_type": "code",
   "source": [
    "# Question\n",
    "name = 'First'\n",
    "Name = 'Second'\n",
    "NAME = 'Third'\n",
    "\n",
    "print(Name)"
   ],
   "outputs": [
    {
     "name": "stdout",
     "output_type": "stream",
     "text": [
      "Second\n"
     ]
    }
   ],
   "execution_count": 7
  },
  {
   "metadata": {
    "ExecuteTime": {
     "end_time": "2024-08-18T01:45:57.793274Z",
     "start_time": "2024-08-18T01:45:57.790273Z"
    }
   },
   "cell_type": "code",
   "source": [
    "# 2myname = \"John\" # A variable name cannot start with a numeral.\n",
    "# print(myname) # Correct version"
   ],
   "outputs": [],
   "execution_count": 8
  },
  {
   "metadata": {
    "ExecuteTime": {
     "end_time": "2024-08-18T01:45:57.847181Z",
     "start_time": "2024-08-18T01:45:57.844181Z"
    }
   },
   "cell_type": "code",
   "source": [
    "# my-name = \"John\"  # Invalid: hyphens are not allowed in variable names.\n",
    "# print(my-name) # Correct version"
   ],
   "outputs": [],
   "execution_count": 9
  },
  {
   "metadata": {
    "ExecuteTime": {
     "end_time": "2024-08-18T01:45:57.865319Z",
     "start_time": "2024-08-18T01:45:57.862685Z"
    }
   },
   "cell_type": "code",
   "source": [
    "# my name = \"John\"  # Invalid: variable names cannot have spaces\n",
    "# print(my name) # Correct version"
   ],
   "outputs": [],
   "execution_count": 10
  },
  {
   "metadata": {
    "ExecuteTime": {
     "end_time": "2024-08-18T01:45:57.886493Z",
     "start_time": "2024-08-18T01:45:57.882959Z"
    }
   },
   "cell_type": "code",
   "source": "# and = \"john\"  # Invalid: variable names cannot be Python keywords",
   "outputs": [],
   "execution_count": 11
  },
  {
   "metadata": {},
   "cell_type": "markdown",
   "source": [
    "---\n",
    "# Data Types"
   ]
  },
  {
   "metadata": {
    "ExecuteTime": {
     "end_time": "2024-08-18T01:45:57.919461Z",
     "start_time": "2024-08-18T01:45:57.916515Z"
    }
   },
   "cell_type": "code",
   "source": [
    "# Text type\n",
    "x = \"Hello World\"\n",
    "print(type(x))"
   ],
   "outputs": [
    {
     "name": "stdout",
     "output_type": "stream",
     "text": [
      "<class 'str'>\n"
     ]
    }
   ],
   "execution_count": 12
  },
  {
   "metadata": {
    "ExecuteTime": {
     "end_time": "2024-08-18T01:45:57.967476Z",
     "start_time": "2024-08-18T01:45:57.963458Z"
    }
   },
   "cell_type": "code",
   "source": [
    "# Numeric types\n",
    "x = 20 # int\n",
    "y = 20.25 # float\n",
    "z = 3j # complex\n",
    "\n",
    "print(type(x))\n",
    "print(type(y))\n",
    "print(type(z))"
   ],
   "outputs": [
    {
     "name": "stdout",
     "output_type": "stream",
     "text": [
      "<class 'int'>\n",
      "<class 'float'>\n",
      "<class 'complex'>\n"
     ]
    }
   ],
   "execution_count": 13
  },
  {
   "metadata": {
    "ExecuteTime": {
     "end_time": "2024-08-18T01:45:58.062967Z",
     "start_time": "2024-08-18T01:45:58.059418Z"
    }
   },
   "cell_type": "code",
   "source": [
    "# Boolean type\n",
    "# x = True\n",
    "y = False\n",
    "\n",
    "print(type(y))"
   ],
   "outputs": [
    {
     "name": "stdout",
     "output_type": "stream",
     "text": [
      "<class 'bool'>\n"
     ]
    }
   ],
   "execution_count": 14
  },
  {
   "metadata": {},
   "cell_type": "markdown",
   "source": "## Casting Data type"
  },
  {
   "metadata": {
    "ExecuteTime": {
     "end_time": "2024-08-18T01:45:58.162491Z",
     "start_time": "2024-08-18T01:45:58.158966Z"
    }
   },
   "cell_type": "code",
   "source": [
    "# Casting int()\n",
    "print(int(1))\n",
    "print(int(2.9))\n",
    "print(int('3'))"
   ],
   "outputs": [
    {
     "name": "stdout",
     "output_type": "stream",
     "text": [
      "1\n",
      "2\n",
      "3\n"
     ]
    }
   ],
   "execution_count": 15
  },
  {
   "metadata": {
    "ExecuteTime": {
     "end_time": "2024-08-18T01:45:58.262268Z",
     "start_time": "2024-08-18T01:45:58.258890Z"
    }
   },
   "cell_type": "code",
   "source": [
    "# Casting Float()\n",
    "print(float(1))\n",
    "print(float(2.8))\n",
    "print(float(\"3\"))\n",
    "print(float(\"4.2\"))"
   ],
   "outputs": [
    {
     "name": "stdout",
     "output_type": "stream",
     "text": [
      "1.0\n",
      "2.8\n",
      "3.0\n",
      "4.2\n"
     ]
    }
   ],
   "execution_count": 16
  },
  {
   "metadata": {
    "ExecuteTime": {
     "end_time": "2024-08-18T01:45:58.364660Z",
     "start_time": "2024-08-18T01:45:58.361265Z"
    }
   },
   "cell_type": "code",
   "source": [
    "# Casting String()\n",
    "print(str(\"s1\"))\n",
    "print(str(2))\n",
    "print(str(3.0))"
   ],
   "outputs": [
    {
     "name": "stdout",
     "output_type": "stream",
     "text": [
      "s1\n",
      "2\n",
      "3.0\n"
     ]
    }
   ],
   "execution_count": 17
  },
  {
   "metadata": {},
   "cell_type": "markdown",
   "source": "# Python Input"
  },
  {
   "metadata": {
    "ExecuteTime": {
     "end_time": "2024-08-18T01:46:00.529499Z",
     "start_time": "2024-08-18T01:45:58.448367Z"
    }
   },
   "cell_type": "code",
   "source": [
    "# y = input(\"enter number \")\n",
    "\n",
    "# # normally we use input() function to get input from the user\n",
    "x = input('Enter your name: ')\n",
    "print('Hello, ' + x)"
   ],
   "outputs": [
    {
     "ename": "KeyboardInterrupt",
     "evalue": "Interrupted by user",
     "output_type": "error",
     "traceback": [
      "\u001B[1;31m---------------------------------------------------------------------------\u001B[0m",
      "\u001B[1;31mKeyboardInterrupt\u001B[0m                         Traceback (most recent call last)",
      "Cell \u001B[1;32mIn[18], line 4\u001B[0m\n\u001B[0;32m      1\u001B[0m \u001B[38;5;66;03m# y = input(\"enter number \")\u001B[39;00m\n\u001B[0;32m      2\u001B[0m \n\u001B[0;32m      3\u001B[0m \u001B[38;5;66;03m# # normally we use input() function to get input from the user\u001B[39;00m\n\u001B[1;32m----> 4\u001B[0m x \u001B[38;5;241m=\u001B[39m \u001B[38;5;28;43minput\u001B[39;49m\u001B[43m(\u001B[49m\u001B[38;5;124;43m'\u001B[39;49m\u001B[38;5;124;43mEnter your name: \u001B[39;49m\u001B[38;5;124;43m'\u001B[39;49m\u001B[43m)\u001B[49m\n\u001B[0;32m      5\u001B[0m \u001B[38;5;28mprint\u001B[39m(\u001B[38;5;124m'\u001B[39m\u001B[38;5;124mHello, \u001B[39m\u001B[38;5;124m'\u001B[39m \u001B[38;5;241m+\u001B[39m x)\n",
      "File \u001B[1;32mD:\\Alize\\MyWorkSpace\\python\\wu-python-workshop\\.venv\\Lib\\site-packages\\ipykernel\\kernelbase.py:1282\u001B[0m, in \u001B[0;36mKernel.raw_input\u001B[1;34m(self, prompt)\u001B[0m\n\u001B[0;32m   1280\u001B[0m     msg \u001B[38;5;241m=\u001B[39m \u001B[38;5;124m\"\u001B[39m\u001B[38;5;124mraw_input was called, but this frontend does not support input requests.\u001B[39m\u001B[38;5;124m\"\u001B[39m\n\u001B[0;32m   1281\u001B[0m     \u001B[38;5;28;01mraise\u001B[39;00m StdinNotImplementedError(msg)\n\u001B[1;32m-> 1282\u001B[0m \u001B[38;5;28;01mreturn\u001B[39;00m \u001B[38;5;28;43mself\u001B[39;49m\u001B[38;5;241;43m.\u001B[39;49m\u001B[43m_input_request\u001B[49m\u001B[43m(\u001B[49m\n\u001B[0;32m   1283\u001B[0m \u001B[43m    \u001B[49m\u001B[38;5;28;43mstr\u001B[39;49m\u001B[43m(\u001B[49m\u001B[43mprompt\u001B[49m\u001B[43m)\u001B[49m\u001B[43m,\u001B[49m\n\u001B[0;32m   1284\u001B[0m \u001B[43m    \u001B[49m\u001B[38;5;28;43mself\u001B[39;49m\u001B[38;5;241;43m.\u001B[39;49m\u001B[43m_parent_ident\u001B[49m\u001B[43m[\u001B[49m\u001B[38;5;124;43m\"\u001B[39;49m\u001B[38;5;124;43mshell\u001B[39;49m\u001B[38;5;124;43m\"\u001B[39;49m\u001B[43m]\u001B[49m\u001B[43m,\u001B[49m\n\u001B[0;32m   1285\u001B[0m \u001B[43m    \u001B[49m\u001B[38;5;28;43mself\u001B[39;49m\u001B[38;5;241;43m.\u001B[39;49m\u001B[43mget_parent\u001B[49m\u001B[43m(\u001B[49m\u001B[38;5;124;43m\"\u001B[39;49m\u001B[38;5;124;43mshell\u001B[39;49m\u001B[38;5;124;43m\"\u001B[39;49m\u001B[43m)\u001B[49m\u001B[43m,\u001B[49m\n\u001B[0;32m   1286\u001B[0m \u001B[43m    \u001B[49m\u001B[43mpassword\u001B[49m\u001B[38;5;241;43m=\u001B[39;49m\u001B[38;5;28;43;01mFalse\u001B[39;49;00m\u001B[43m,\u001B[49m\n\u001B[0;32m   1287\u001B[0m \u001B[43m\u001B[49m\u001B[43m)\u001B[49m\n",
      "File \u001B[1;32mD:\\Alize\\MyWorkSpace\\python\\wu-python-workshop\\.venv\\Lib\\site-packages\\ipykernel\\kernelbase.py:1325\u001B[0m, in \u001B[0;36mKernel._input_request\u001B[1;34m(self, prompt, ident, parent, password)\u001B[0m\n\u001B[0;32m   1322\u001B[0m \u001B[38;5;28;01mexcept\u001B[39;00m \u001B[38;5;167;01mKeyboardInterrupt\u001B[39;00m:\n\u001B[0;32m   1323\u001B[0m     \u001B[38;5;66;03m# re-raise KeyboardInterrupt, to truncate traceback\u001B[39;00m\n\u001B[0;32m   1324\u001B[0m     msg \u001B[38;5;241m=\u001B[39m \u001B[38;5;124m\"\u001B[39m\u001B[38;5;124mInterrupted by user\u001B[39m\u001B[38;5;124m\"\u001B[39m\n\u001B[1;32m-> 1325\u001B[0m     \u001B[38;5;28;01mraise\u001B[39;00m \u001B[38;5;167;01mKeyboardInterrupt\u001B[39;00m(msg) \u001B[38;5;28;01mfrom\u001B[39;00m \u001B[38;5;28;01mNone\u001B[39;00m\n\u001B[0;32m   1326\u001B[0m \u001B[38;5;28;01mexcept\u001B[39;00m \u001B[38;5;167;01mException\u001B[39;00m:\n\u001B[0;32m   1327\u001B[0m     \u001B[38;5;28mself\u001B[39m\u001B[38;5;241m.\u001B[39mlog\u001B[38;5;241m.\u001B[39mwarning(\u001B[38;5;124m\"\u001B[39m\u001B[38;5;124mInvalid Message:\u001B[39m\u001B[38;5;124m\"\u001B[39m, exc_info\u001B[38;5;241m=\u001B[39m\u001B[38;5;28;01mTrue\u001B[39;00m)\n",
      "\u001B[1;31mKeyboardInterrupt\u001B[0m: Interrupted by user"
     ]
    }
   ],
   "execution_count": 18
  },
  {
   "metadata": {
    "ExecuteTime": {
     "end_time": "2024-08-18T01:46:00.610161500Z",
     "start_time": "2024-08-17T04:46:27.066050Z"
    }
   },
   "cell_type": "code",
   "source": [
    "# if we put input() function inside int() function, it will convert the input to integer \n",
    "y = int(input('Enter your age: '))\n",
    "print('Your age is ', y)"
   ],
   "outputs": [
    {
     "ename": "ValueError",
     "evalue": "invalid literal for int() with base 10: '\"20\"'",
     "output_type": "error",
     "traceback": [
      "\u001B[1;31m---------------------------------------------------------------------------\u001B[0m",
      "\u001B[1;31mValueError\u001B[0m                                Traceback (most recent call last)",
      "Cell \u001B[1;32mIn[27], line 2\u001B[0m\n\u001B[0;32m      1\u001B[0m \u001B[38;5;66;03m# if we put input() function inside int() function, it will convert the input to integer \u001B[39;00m\n\u001B[1;32m----> 2\u001B[0m y \u001B[38;5;241m=\u001B[39m \u001B[38;5;28;43mint\u001B[39;49m\u001B[43m(\u001B[49m\u001B[38;5;28;43minput\u001B[39;49m\u001B[43m(\u001B[49m\u001B[38;5;124;43m'\u001B[39;49m\u001B[38;5;124;43mEnter your age: \u001B[39;49m\u001B[38;5;124;43m'\u001B[39;49m\u001B[43m)\u001B[49m\u001B[43m)\u001B[49m\n\u001B[0;32m      3\u001B[0m \u001B[38;5;28mprint\u001B[39m(\u001B[38;5;124m'\u001B[39m\u001B[38;5;124mYour age is \u001B[39m\u001B[38;5;124m'\u001B[39m, y)\n",
      "\u001B[1;31mValueError\u001B[0m: invalid literal for int() with base 10: '\"20\"'"
     ]
    }
   ],
   "execution_count": 27
  },
  {
   "metadata": {},
   "cell_type": "markdown",
   "source": "# Python Operators\n"
  },
  {
   "metadata": {
    "ExecuteTime": {
     "end_time": "2024-08-18T01:46:00.613161300Z",
     "start_time": "2024-08-17T04:48:15.277307Z"
    }
   },
   "cell_type": "code",
   "source": [
    "# Arithmetic Operators\n",
    "print('Addition, ', 2 + 3)\n",
    "print('Subtraction, ', 9 - 5)\n",
    "print('Multiplication, ', 5 * 4)\n",
    "print('Modulus, ', 30 % 7)\n",
    "print('Exponentiation, ', 2 ** 6)\n",
    "print('Division, ', 10 / 4)\n",
    "print('Floor division, ', 11 // 4)"
   ],
   "outputs": [
    {
     "name": "stdout",
     "output_type": "stream",
     "text": [
      "Addition,  5\n",
      "Subtraction,  4\n",
      "Multiplication,  20\n",
      "Modulus,  2\n",
      "Exponentiation,  64\n",
      "Division,  2.5\n",
      "Floor division,  2\n"
     ]
    }
   ],
   "execution_count": 29
  },
  {
   "metadata": {
    "ExecuteTime": {
     "end_time": "2024-08-18T01:46:00.614164200Z",
     "start_time": "2024-08-17T04:52:52.693373Z"
    }
   },
   "cell_type": "code",
   "source": [
    "# Python Comparison Operators\n",
    "x1 = 20\n",
    "y1 = 20\n",
    "print('Equal Operators, ', x1 == y1) # true\n",
    "print('Not equal, ', x1 != y1)\n",
    "print('Greater than\t, ', x1 > y1)\n",
    "print('Less than, ', x1 < y1)\n",
    "print('Greater than or equal to\t, ', x1 >= y1) # true\n",
    "print('Less than or equal to , ', x1 <= y1) # true"
   ],
   "outputs": [
    {
     "name": "stdout",
     "output_type": "stream",
     "text": [
      "Equal Operators,  True\n",
      "Not equal,  False\n",
      "Greater than\t,  False\n",
      "Less than,  False\n",
      "Greater than or equal to\t,  True\n",
      "Less than or equal to ,  True\n"
     ]
    }
   ],
   "execution_count": 31
  },
  {
   "metadata": {
    "ExecuteTime": {
     "end_time": "2024-08-18T01:46:00.614164200Z",
     "start_time": "2024-08-17T04:54:36.543527Z"
    }
   },
   "cell_type": "code",
   "source": [
    "# and, or, not\n",
    "\n",
    "# Python Logical Operators\n",
    "print('and => ', (5 > 6) and (6 < 5)) # false"
   ],
   "outputs": [
    {
     "name": "stdout",
     "output_type": "stream",
     "text": [
      "and =>  False\n"
     ]
    }
   ],
   "execution_count": 32
  },
  {
   "metadata": {
    "ExecuteTime": {
     "end_time": "2024-08-18T01:46:00.615162200Z",
     "start_time": "2024-08-17T04:54:44.363792Z"
    }
   },
   "cell_type": "code",
   "source": "print('or => ', (10 == 10) or (10 > 20)) # true",
   "outputs": [
    {
     "name": "stdout",
     "output_type": "stream",
     "text": [
      "or =>  True\n"
     ]
    }
   ],
   "execution_count": 33
  },
  {
   "metadata": {
    "ExecuteTime": {
     "end_time": "2024-08-18T01:46:00.615162200Z",
     "start_time": "2024-08-17T04:54:48.019333Z"
    }
   },
   "cell_type": "code",
   "source": "print('not => ', not(10 < 20) and (20 > 10)) # false",
   "outputs": [
    {
     "name": "stdout",
     "output_type": "stream",
     "text": [
      "not =>  False\n"
     ]
    }
   ],
   "execution_count": 34
  },
  {
   "metadata": {},
   "cell_type": "markdown",
   "source": "# if...Else Conditions"
  },
  {
   "metadata": {
    "ExecuteTime": {
     "end_time": "2024-08-18T01:46:00.624161400Z",
     "start_time": "2024-08-17T06:40:15.045432Z"
    }
   },
   "cell_type": "code",
   "source": [
    "# Python supports the usual logical conditions from mathematics:\n",
    "a = 100  # assigning value 100 to variable a\n",
    "b = 200  # assigning value 200 to variable b\n",
    "\n",
    "if a == b:  # checking if a is equal to b\n",
    "    print('a and b are equal')  # this line will execute if the condition is true\n",
    "else:\n",
    "    print(\"a and b are not equal\")  # this line will execute if the condition is false\n"
   ],
   "outputs": [
    {
     "name": "stdout",
     "output_type": "stream",
     "text": [
      "a and b are not equal\n"
     ]
    }
   ],
   "execution_count": 36
  },
  {
   "metadata": {
    "ExecuteTime": {
     "end_time": "2024-08-18T01:46:00.625163400Z",
     "start_time": "2024-08-17T06:43:03.192222Z"
    }
   },
   "cell_type": "code",
   "source": [
    "# why this sector is error\n",
    "a = 50\n",
    "b = 100\n",
    "if a > b:\n",
    "    print('a is greater than b')"
   ],
   "outputs": [],
   "execution_count": 38
  },
  {
   "metadata": {
    "ExecuteTime": {
     "end_time": "2024-08-18T01:46:00.625163400Z",
     "start_time": "2024-08-17T06:46:12.402688Z"
    }
   },
   "cell_type": "code",
   "source": [
    "# elif \n",
    "a = 33\n",
    "b = 31\n",
    "\n",
    "if a > b:\n",
    "    print('a is greater than b')\n",
    "elif a < b:\n",
    "    print('a is less than b')\n",
    "else:\n",
    "    print('a and b are equal')\n"
   ],
   "outputs": [
    {
     "name": "stdout",
     "output_type": "stream",
     "text": [
      "a is greater than b\n"
     ]
    }
   ],
   "execution_count": 41
  },
  {
   "metadata": {
    "ExecuteTime": {
     "end_time": "2024-08-18T01:46:00.626162800Z",
     "start_time": "2024-08-17T06:49:11.313945Z"
    }
   },
   "cell_type": "code",
   "source": [
    "# and condition\n",
    "a = 100\n",
    "b = 200\n",
    "c = 300\n",
    "\n",
    "if a < b and a < c:\n",
    "    print('a is the least')\n",
    "else:\n",
    "    print('a is not the least')"
   ],
   "outputs": [
    {
     "name": "stdout",
     "output_type": "stream",
     "text": [
      "a is not the least\n"
     ]
    }
   ],
   "execution_count": 43
  },
  {
   "metadata": {
    "ExecuteTime": {
     "end_time": "2024-08-18T01:46:00.626162800Z",
     "start_time": "2024-08-17T06:52:38.857897Z"
    }
   },
   "cell_type": "code",
   "source": [
    "# or condition\n",
    "a = 40\n",
    "b = 50\n",
    "c = 30\n",
    "\n",
    "if a > b or a > c:\n",
    "    print('a is greater than either b or c or both')\n",
    "else:\n",
    "    print('a is not greater than either b or c')\n"
   ],
   "outputs": [
    {
     "name": "stdout",
     "output_type": "stream",
     "text": [
      "a is greater than either b or c or both\n"
     ]
    }
   ],
   "execution_count": 44
  },
  {
   "metadata": {
    "ExecuteTime": {
     "end_time": "2024-08-18T01:46:00.627162200Z",
     "start_time": "2024-08-17T06:57:07.160660Z"
    }
   },
   "cell_type": "code",
   "source": [
    "a = 200\n",
    "b = 200\n",
    "if a <= b: # if a == b or a < b\n",
    "    print(\"a is NOT greater than b\")"
   ],
   "outputs": [
    {
     "name": "stdout",
     "output_type": "stream",
     "text": [
      "a is NOT greater than b\n"
     ]
    }
   ],
   "execution_count": 51
  },
  {
   "metadata": {},
   "cell_type": "markdown",
   "source": "# Python List and Array"
  },
  {
   "metadata": {
    "ExecuteTime": {
     "end_time": "2024-08-18T01:46:00.627162200Z",
     "start_time": "2024-08-17T06:59:32.126124Z"
    }
   },
   "cell_type": "code",
   "source": [
    "wordlist = ['never', 'gonna', 'give', 'you', 'up']\n",
    "print(wordlist)"
   ],
   "outputs": [
    {
     "name": "stdout",
     "output_type": "stream",
     "text": [
      "['never', 'gonna', 'give', 'you', 'up']\n"
     ]
    }
   ],
   "execution_count": 52
  },
  {
   "metadata": {
    "ExecuteTime": {
     "end_time": "2024-08-18T01:46:00.627162200Z",
     "start_time": "2024-08-17T07:00:49.693829Z"
    }
   },
   "cell_type": "code",
   "source": [
    "# length of the list\n",
    "print(len(wordlist))"
   ],
   "outputs": [
    {
     "name": "stdout",
     "output_type": "stream",
     "text": [
      "5\n"
     ]
    }
   ],
   "execution_count": 53
  },
  {
   "metadata": {
    "ExecuteTime": {
     "end_time": "2024-08-18T01:46:00.628162100Z",
     "start_time": "2024-08-17T07:01:37.001319Z"
    }
   },
   "cell_type": "code",
   "source": [
    "\n",
    "wordlist = ['never', 'gonna', 'give', 'you', 'up']\n",
    "print(wordlist[2]) # Note: The first item has index 0."
   ],
   "outputs": [
    {
     "name": "stdout",
     "output_type": "stream",
     "text": [
      "give\n"
     ]
    }
   ],
   "execution_count": 54
  },
  {
   "metadata": {
    "ExecuteTime": {
     "end_time": "2024-08-18T01:46:00.628162100Z",
     "start_time": "2024-08-17T07:07:36.434036Z"
    }
   },
   "cell_type": "code",
   "source": [
    "# Print last item of the list\n",
    "print(wordlist[-3])"
   ],
   "outputs": [
    {
     "name": "stdout",
     "output_type": "stream",
     "text": [
      "give\n"
     ]
    }
   ],
   "execution_count": 56
  },
  {
   "metadata": {
    "ExecuteTime": {
     "end_time": "2024-08-18T01:46:00.628162100Z",
     "start_time": "2024-08-17T07:15:15.542570Z"
    }
   },
   "cell_type": "code",
   "source": [
    "# Range of Indexes \n",
    "# specify a range of indexes by specifying where to start and where to end the range\n",
    "fruits = [\"Apple\", \"Banana\", \"Cherry\", \"Date\", \"Elderberry\", \"Fig\", \"Grapes\", \"Elderberry\", \"Honeydew\", \"Kiwi\", \"Lemon\"]\n",
    "print(fruits[2:5])\n",
    "# print(fruits[-4: -1])\n",
    "# print(fruits[1:])\n",
    "# print(fruits[:4])"
   ],
   "outputs": [
    {
     "name": "stdout",
     "output_type": "stream",
     "text": [
      "['Apple', 'Banana', 'Cherry', 'Date']\n"
     ]
    }
   ],
   "execution_count": 64
  },
  {
   "metadata": {
    "ExecuteTime": {
     "end_time": "2024-08-18T01:46:00.629162Z",
     "start_time": "2024-08-17T07:16:55.847806Z"
    }
   },
   "cell_type": "code",
   "source": [
    "# Adding item to the end of the list\n",
    "fruits = [\"Apple\", \"Banana\", \"Cherry\", \"Date\", \"Elderberry\", \"Fig\", \"Grapes\", \"Elderberry\", \"Honeydew\", \"Kiwi\", \"Lemon\"]\n",
    "print('default: ', fruits)\n",
    "fruits.append('Blueberry')\n",
    "print('append => ', fruits)"
   ],
   "outputs": [
    {
     "name": "stdout",
     "output_type": "stream",
     "text": [
      "default:  ['Apple', 'Banana', 'Cherry', 'Date', 'Elderberry', 'Fig', 'Grapes', 'Elderberry', 'Honeydew', 'Kiwi', 'Lemon']\n",
      "append =>  ['Apple', 'Banana', 'Cherry', 'Date', 'Elderberry', 'Fig', 'Grapes', 'Elderberry', 'Honeydew', 'Kiwi', 'Lemon', 'Blueberry']\n"
     ]
    }
   ],
   "execution_count": 65
  },
  {
   "metadata": {
    "ExecuteTime": {
     "end_time": "2024-08-18T01:46:00.629162Z",
     "start_time": "2024-08-17T07:24:14.049831Z"
    }
   },
   "cell_type": "code",
   "source": [
    "# Insert a list item at a specified index\n",
    "fruits.insert(0, 'Grape')\n",
    "print('insert => ', fruits)"
   ],
   "outputs": [
    {
     "name": "stdout",
     "output_type": "stream",
     "text": [
      "insert =>  ['Grape', 'Apple', 'Banana', 'Cherry', 'Date', 'Elderberry', 'Fig', 'Grapes', 'Elderberry', 'Honeydew', 'Kiwi', 'Lemon', 'Blueberry']\n"
     ]
    }
   ],
   "execution_count": 66
  },
  {
   "metadata": {
    "ExecuteTime": {
     "end_time": "2024-08-18T01:46:00.629162Z",
     "start_time": "2024-08-17T07:25:50.633685Z"
    }
   },
   "cell_type": "code",
   "source": [
    "# Remove List Items\n",
    "# Tips: If there are more than one item with the specified value, the remove() method removes the first occurrence:\n",
    "\n",
    "# fruits = [\"Apple\", \"Banana\", \"Cherry\", \"Date\", \"Elderberry\", \"Fig\", \"Grapes\", \"Elderberry\", \"Honeydew\", \"Kiwi\", \"Lemon\"]\n",
    "\n",
    "fruits.remove('Elderberry')\n",
    "print('remove => ', fruits)"
   ],
   "outputs": [
    {
     "ename": "ValueError",
     "evalue": "list.remove(x): x not in list",
     "output_type": "error",
     "traceback": [
      "\u001B[1;31m---------------------------------------------------------------------------\u001B[0m",
      "\u001B[1;31mValueError\u001B[0m                                Traceback (most recent call last)",
      "Cell \u001B[1;32mIn[70], line 6\u001B[0m\n\u001B[0;32m      1\u001B[0m \u001B[38;5;66;03m# Remove List Items\u001B[39;00m\n\u001B[0;32m      2\u001B[0m \u001B[38;5;66;03m# Tips: If there are more than one item with the specified value, the remove() method removes the first occurrence:\u001B[39;00m\n\u001B[0;32m      3\u001B[0m \n\u001B[0;32m      4\u001B[0m \u001B[38;5;66;03m# fruits = [\"Apple\", \"Banana\", \"Cherry\", \"Date\", \"Elderberry\", \"Fig\", \"Grapes\", \"Elderberry\", \"Honeydew\", \"Kiwi\", \"Lemon\"]\u001B[39;00m\n\u001B[1;32m----> 6\u001B[0m \u001B[43mfruits\u001B[49m\u001B[38;5;241;43m.\u001B[39;49m\u001B[43mremove\u001B[49m\u001B[43m(\u001B[49m\u001B[38;5;124;43m'\u001B[39;49m\u001B[38;5;124;43mElderberry\u001B[39;49m\u001B[38;5;124;43m'\u001B[39;49m\u001B[43m)\u001B[49m\n\u001B[0;32m      7\u001B[0m \u001B[38;5;28mprint\u001B[39m(\u001B[38;5;124m'\u001B[39m\u001B[38;5;124mremove => \u001B[39m\u001B[38;5;124m'\u001B[39m, fruits)\n",
      "\u001B[1;31mValueError\u001B[0m: list.remove(x): x not in list"
     ]
    }
   ],
   "execution_count": 70
  },
  {
   "metadata": {
    "ExecuteTime": {
     "end_time": "2024-08-18T01:46:00.635161300Z",
     "start_time": "2024-08-17T07:27:10.169743Z"
    }
   },
   "cell_type": "code",
   "source": [
    "fruits = [\"Apple\", \"Banana\", \"Cherry\", \"Date\", \"Elderberry\", \"Fig\", \"Grapes\", \"Elderberry\", \"Honeydew\", \"Kiwi\", \"Lemon\"]\n",
    "fruits.pop(1)\n",
    "print('pop => ', fruits)"
   ],
   "outputs": [
    {
     "name": "stdout",
     "output_type": "stream",
     "text": [
      "pop =>  ['Apple', 'Cherry', 'Date', 'Elderberry', 'Fig', 'Grapes', 'Elderberry', 'Honeydew', 'Kiwi', 'Lemon']\n"
     ]
    }
   ],
   "execution_count": 71
  },
  {
   "metadata": {
    "ExecuteTime": {
     "end_time": "2024-08-18T01:46:00.636162600Z",
     "start_time": "2024-08-17T07:27:26.696347Z"
    }
   },
   "cell_type": "code",
   "source": [
    "# Clear all the items in the list\n",
    "fruits.clear()\n",
    "print(fruits)"
   ],
   "outputs": [
    {
     "name": "stdout",
     "output_type": "stream",
     "text": [
      "[]\n"
     ]
    }
   ],
   "execution_count": 72
  },
  {
   "metadata": {},
   "cell_type": "code",
   "source": [
    "# Sorts the elements of a list. \n",
    "# It sorts in ascending order by default but can also sort values in descending order or in a custom manner using its parameters.\n",
    "\n",
    "numerical = [42, -7, 13.5, -29.2, 5, -88.1, 63.3, -21, 34, -55.5]\n",
    "print('before sort => ', numerical)"
   ],
   "outputs": [],
   "execution_count": null
  },
  {
   "metadata": {},
   "cell_type": "code",
   "source": [
    "numerical.sort()\n",
    "print('after sort => ', numerical)"
   ],
   "outputs": [],
   "execution_count": null
  },
  {
   "metadata": {},
   "cell_type": "markdown",
   "source": "# LOOPS "
  },
  {
   "metadata": {},
   "cell_type": "markdown",
   "source": "## while loop"
  },
  {
   "metadata": {
    "ExecuteTime": {
     "end_time": "2024-08-18T01:46:00.638161400Z",
     "start_time": "2024-08-17T08:18:26.573302Z"
    }
   },
   "cell_type": "code",
   "source": [
    "i = 1\n",
    "while i < 6:\n",
    "    print(i)\n",
    "    i += 1"
   ],
   "outputs": [
    {
     "name": "stdout",
     "output_type": "stream",
     "text": [
      "1\n",
      "2\n",
      "3\n",
      "4\n",
      "5\n"
     ]
    }
   ],
   "execution_count": 74
  },
  {
   "metadata": {
    "ExecuteTime": {
     "end_time": "2024-08-18T01:46:00.638161400Z",
     "start_time": "2024-08-17T08:20:26.976277Z"
    }
   },
   "cell_type": "code",
   "source": [
    "# break statement \n",
    "i = 1\n",
    "while i < 6:\n",
    "    print(i)\n",
    "    if i == 4:\n",
    "        break\n",
    "    i += 1"
   ],
   "outputs": [
    {
     "name": "stdout",
     "output_type": "stream",
     "text": [
      "1\n",
      "2\n",
      "3\n",
      "4\n"
     ]
    }
   ],
   "execution_count": 75
  },
  {
   "metadata": {
    "ExecuteTime": {
     "end_time": "2024-08-18T01:46:00.638161400Z",
     "start_time": "2024-08-17T08:24:59.046654Z"
    }
   },
   "cell_type": "code",
   "source": [
    "# continue statement\n",
    "i = 0\n",
    "while i < 6:\n",
    "    i += 1\n",
    "    if i == 3:\n",
    "        continue\n",
    "    else:\n",
    "        print(i)"
   ],
   "outputs": [
    {
     "name": "stdout",
     "output_type": "stream",
     "text": [
      "1\n",
      "2\n",
      "4\n",
      "5\n",
      "6\n"
     ]
    }
   ],
   "execution_count": 1
  },
  {
   "metadata": {
    "ExecuteTime": {
     "end_time": "2024-08-18T01:46:00.639163200Z",
     "start_time": "2024-08-17T08:32:33.382082Z"
    }
   },
   "cell_type": "code",
   "source": [
    "i = 1\n",
    "while i < 6:\n",
    "    print(f'i = {i}')\n",
    "    i += 1\n",
    "else:\n",
    "    print('-'*50)\n",
    "    print(f'i = {i}')\n",
    "    print('i is no longer less than 6')"
   ],
   "outputs": [
    {
     "name": "stdout",
     "output_type": "stream",
     "text": [
      "i = 1\n",
      "i = 2\n",
      "i = 3\n",
      "i = 4\n",
      "i = 5\n",
      "--------------------------------------------------\n",
      "i = 6\n",
      "i is no longer less than 6\n"
     ]
    }
   ],
   "execution_count": 3
  },
  {
   "metadata": {},
   "cell_type": "markdown",
   "source": "## FOR LOOP"
  },
  {
   "metadata": {
    "ExecuteTime": {
     "end_time": "2024-08-18T01:46:00.639163200Z",
     "start_time": "2024-08-17T08:37:58.581398Z"
    }
   },
   "cell_type": "code",
   "source": "fruits = [\"Apple\", \"Banana\", \"Cherry\", \"Date\", \"Elderberry\", \"Fig\", \"Grapes\", \"Elderberry\", \"Honeydew\", \"Kiwi\", \"Lemon\"]",
   "outputs": [],
   "execution_count": 4
  },
  {
   "metadata": {
    "ExecuteTime": {
     "end_time": "2024-08-18T01:46:00.639163200Z",
     "start_time": "2024-08-17T08:38:01.832151Z"
    }
   },
   "cell_type": "code",
   "source": [
    "# looping through the list\n",
    "for x in fruits:\n",
    "    print(x)"
   ],
   "outputs": [
    {
     "name": "stdout",
     "output_type": "stream",
     "text": [
      "Apple\n",
      "Banana\n",
      "Cherry\n",
      "Date\n",
      "Elderberry\n",
      "Fig\n",
      "Grapes\n",
      "Elderberry\n",
      "Honeydew\n",
      "Kiwi\n",
      "Lemon\n"
     ]
    }
   ],
   "execution_count": 5
  },
  {
   "metadata": {
    "ExecuteTime": {
     "end_time": "2024-08-18T01:46:00.640162100Z",
     "start_time": "2024-08-17T08:39:35.409489Z"
    }
   },
   "cell_type": "code",
   "source": [
    "for x in range(len(fruits)):\n",
    "    print(fruits[x])"
   ],
   "outputs": [
    {
     "name": "stdout",
     "output_type": "stream",
     "text": [
      "Apple\n",
      "Banana\n",
      "Cherry\n",
      "Date\n",
      "Elderberry\n",
      "Fig\n",
      "Grapes\n",
      "Elderberry\n",
      "Honeydew\n",
      "Kiwi\n",
      "Lemon\n"
     ]
    }
   ],
   "execution_count": 8
  },
  {
   "metadata": {
    "ExecuteTime": {
     "end_time": "2024-08-18T01:46:00.640162100Z",
     "start_time": "2024-08-17T08:40:37.593611Z"
    }
   },
   "cell_type": "code",
   "source": [
    "# looping through a String\n",
    "for x in \"Elderberry\":\n",
    "    print(x)"
   ],
   "outputs": [
    {
     "name": "stdout",
     "output_type": "stream",
     "text": [
      "E\n",
      "l\n",
      "d\n",
      "e\n",
      "r\n",
      "b\n",
      "e\n",
      "r\n",
      "r\n",
      "y\n"
     ]
    }
   ],
   "execution_count": 9
  },
  {
   "metadata": {
    "ExecuteTime": {
     "end_time": "2024-08-18T01:46:00.640162100Z",
     "start_time": "2024-08-17T08:41:37.410629Z"
    }
   },
   "cell_type": "code",
   "source": [
    "# break statement\n",
    "fruits = [\"Apple\", \"Banana\", \"Cherry\", \"Date\", \"Elderberry\", \"Fig\", \"Grapes\", \"Elderberry\", \"Honeydew\", \"Kiwi\", \"Lemon\"]\n",
    "for x in fruits:\n",
    "    print(x)\n",
    "    if x == \"Honeydew\":\n",
    "        break"
   ],
   "outputs": [
    {
     "name": "stdout",
     "output_type": "stream",
     "text": [
      "Apple\n",
      "Banana\n",
      "Cherry\n",
      "Date\n",
      "Elderberry\n",
      "Fig\n",
      "Grapes\n",
      "Elderberry\n",
      "Honeydew\n"
     ]
    }
   ],
   "execution_count": 10
  },
  {
   "metadata": {
    "ExecuteTime": {
     "end_time": "2024-08-18T01:46:00.649162100Z",
     "start_time": "2024-08-17T08:42:10.965147Z"
    }
   },
   "cell_type": "code",
   "source": [
    "# continue\n",
    "for x in fruits:\n",
    "    if x == \"Elderberry\":\n",
    "        continue\n",
    "    print(x)"
   ],
   "outputs": [
    {
     "name": "stdout",
     "output_type": "stream",
     "text": [
      "Apple\n",
      "Banana\n",
      "Cherry\n",
      "Date\n",
      "Fig\n",
      "Grapes\n",
      "Honeydew\n",
      "Kiwi\n",
      "Lemon\n"
     ]
    }
   ],
   "execution_count": 11
  },
  {
   "metadata": {
    "ExecuteTime": {
     "end_time": "2024-08-18T01:46:00.650160700Z",
     "start_time": "2024-08-17T08:42:49.334593Z"
    }
   },
   "cell_type": "code",
   "source": [
    "# Range\n",
    "# To loop through a set of code a specified number of times, we can use the range() function,\n",
    "\n",
    "for x in range(10):\n",
    "    print(x)"
   ],
   "outputs": [
    {
     "name": "stdout",
     "output_type": "stream",
     "text": [
      "0\n",
      "1\n",
      "2\n",
      "3\n",
      "4\n",
      "5\n",
      "6\n",
      "7\n",
      "8\n",
      "9\n"
     ]
    }
   ],
   "execution_count": 12
  },
  {
   "metadata": {
    "ExecuteTime": {
     "end_time": "2024-08-18T01:46:00.651160400Z",
     "start_time": "2024-08-17T08:43:23.882574Z"
    }
   },
   "cell_type": "code",
   "source": [
    "for x in range(3, 10):\n",
    "    print(x)"
   ],
   "outputs": [
    {
     "name": "stdout",
     "output_type": "stream",
     "text": [
      "3\n",
      "4\n",
      "5\n",
      "6\n",
      "7\n",
      "8\n",
      "9\n"
     ]
    }
   ],
   "execution_count": 13
  },
  {
   "metadata": {
    "ExecuteTime": {
     "end_time": "2024-08-18T01:46:00.651160400Z",
     "start_time": "2024-08-17T08:45:07.545195Z"
    }
   },
   "cell_type": "code",
   "source": [
    "for x in range(0, 30, 2):\n",
    "    print(x)\n",
    "else:\n",
    "    print(\"Finally finished!\")"
   ],
   "outputs": [
    {
     "name": "stdout",
     "output_type": "stream",
     "text": [
      "0\n",
      "2\n",
      "4\n",
      "6\n",
      "8\n",
      "10\n",
      "12\n",
      "14\n",
      "16\n",
      "18\n",
      "20\n",
      "22\n",
      "24\n",
      "26\n",
      "28\n",
      "Finally finished!\n"
     ]
    }
   ],
   "execution_count": 15
  },
  {
   "metadata": {},
   "cell_type": "markdown",
   "source": "# Function  "
  },
  {
   "metadata": {
    "ExecuteTime": {
     "end_time": "2024-08-18T01:46:00.651160400Z",
     "start_time": "2024-08-17T08:47:32.361281Z"
    }
   },
   "cell_type": "code",
   "source": [
    "# A function is a block of code which only runs when it is called.\n",
    "def HelloFunction():\n",
    "    print('Hello from function :)')"
   ],
   "outputs": [],
   "execution_count": 16
  },
  {
   "metadata": {
    "ExecuteTime": {
     "end_time": "2024-08-18T01:46:00.652159900Z",
     "start_time": "2024-08-17T08:47:45.685960Z"
    }
   },
   "cell_type": "code",
   "source": [
    "# Calling a function\n",
    "HelloFunction()"
   ],
   "outputs": [
    {
     "name": "stdout",
     "output_type": "stream",
     "text": [
      "Hello from function :)\n"
     ]
    }
   ],
   "execution_count": 17
  },
  {
   "metadata": {
    "ExecuteTime": {
     "end_time": "2024-08-18T01:46:00.652159900Z",
     "start_time": "2024-08-17T08:50:17.048202Z"
    }
   },
   "cell_type": "code",
   "source": [
    "# Arguments \n",
    "# Information can be passed into functions as arguments.  \n",
    "# You can add as many arguments as you want, just separate them with a comma.\n",
    "def FirstFunction(first_name):\n",
    "    print(f'Hello {first_name} from the function :)')"
   ],
   "outputs": [],
   "execution_count": 18
  },
  {
   "metadata": {
    "ExecuteTime": {
     "end_time": "2024-08-18T01:46:00.652159900Z",
     "start_time": "2024-08-17T08:51:27.234722Z"
    }
   },
   "cell_type": "code",
   "source": [
    "# Calling a function with arguments\n",
    "FirstFunction()"
   ],
   "outputs": [
    {
     "ename": "TypeError",
     "evalue": "FirstFunction() missing 1 required positional argument: 'first_name'",
     "output_type": "error",
     "traceback": [
      "\u001B[1;31m---------------------------------------------------------------------------\u001B[0m",
      "\u001B[1;31mTypeError\u001B[0m                                 Traceback (most recent call last)",
      "Cell \u001B[1;32mIn[20], line 2\u001B[0m\n\u001B[0;32m      1\u001B[0m \u001B[38;5;66;03m# Calling a function with arguments\u001B[39;00m\n\u001B[1;32m----> 2\u001B[0m \u001B[43mFirstFunction\u001B[49m\u001B[43m(\u001B[49m\u001B[43m)\u001B[49m\n",
      "\u001B[1;31mTypeError\u001B[0m: FirstFunction() missing 1 required positional argument: 'first_name'"
     ]
    }
   ],
   "execution_count": 20
  },
  {
   "metadata": {
    "ExecuteTime": {
     "end_time": "2024-08-18T01:46:00.653160400Z",
     "start_time": "2024-08-17T08:51:56.171266Z"
    }
   },
   "cell_type": "code",
   "source": [
    "# Number of Arguments\n",
    "def FullNameFunction(first_name, last_name):\n",
    "    print(f'Hello {first_name} {last_name} from the function :)')\n",
    "    "
   ],
   "outputs": [],
   "execution_count": 21
  },
  {
   "metadata": {
    "ExecuteTime": {
     "end_time": "2024-08-18T01:46:00.653160400Z",
     "start_time": "2024-08-17T08:51:58.824570Z"
    }
   },
   "cell_type": "code",
   "source": "FullNameFunction('little', 'john')",
   "outputs": [
    {
     "name": "stdout",
     "output_type": "stream",
     "text": [
      "Hello little john from the function :)\n"
     ]
    }
   ],
   "execution_count": 22
  },
  {
   "metadata": {
    "ExecuteTime": {
     "end_time": "2024-08-18T01:46:00.654161300Z",
     "start_time": "2024-08-17T08:52:17.571760Z"
    }
   },
   "cell_type": "code",
   "source": [
    "# Why this sector is error ?\n",
    "FullNameFunction('little')"
   ],
   "outputs": [
    {
     "ename": "TypeError",
     "evalue": "FullNameFunction() missing 1 required positional argument: 'last_name'",
     "output_type": "error",
     "traceback": [
      "\u001B[1;31m---------------------------------------------------------------------------\u001B[0m",
      "\u001B[1;31mTypeError\u001B[0m                                 Traceback (most recent call last)",
      "Cell \u001B[1;32mIn[23], line 2\u001B[0m\n\u001B[0;32m      1\u001B[0m \u001B[38;5;66;03m# Why this sector is error ?\u001B[39;00m\n\u001B[1;32m----> 2\u001B[0m \u001B[43mFullNameFunction\u001B[49m\u001B[43m(\u001B[49m\u001B[38;5;124;43m'\u001B[39;49m\u001B[38;5;124;43mlittle\u001B[39;49m\u001B[38;5;124;43m'\u001B[39;49m\u001B[43m)\u001B[49m\n",
      "\u001B[1;31mTypeError\u001B[0m: FullNameFunction() missing 1 required positional argument: 'last_name'"
     ]
    }
   ],
   "execution_count": 23
  },
  {
   "metadata": {
    "ExecuteTime": {
     "end_time": "2024-08-18T01:46:00.654161300Z",
     "start_time": "2024-08-17T08:53:55.790137Z"
    }
   },
   "cell_type": "code",
   "source": [
    "# Return Values Function\n",
    "def ExampleSumFunction(x, y):\n",
    "    return x + y\n",
    "\n",
    "\n",
    "print(ExampleSumFunction(10, 20))\n",
    "\n",
    "sum_result = ExampleSumFunction(10, 20)\n",
    "print(sum_result)"
   ],
   "outputs": [
    {
     "name": "stdout",
     "output_type": "stream",
     "text": [
      "30\n",
      "30\n"
     ]
    }
   ],
   "execution_count": 24
  },
  {
   "metadata": {
    "ExecuteTime": {
     "end_time": "2024-08-18T01:46:00.660160100Z",
     "start_time": "2024-08-17T08:55:10.877364Z"
    }
   },
   "cell_type": "code",
   "source": [
    "# Why print('Hello') is not executed ?\n",
    "def MinusFunction(x, y):\n",
    "    return x - y\n",
    "    print('Hello')\n",
    "    \n",
    "MinusFunction(5, 4)"
   ],
   "outputs": [
    {
     "data": {
      "text/plain": [
       "1"
      ]
     },
     "execution_count": 25,
     "metadata": {},
     "output_type": "execute_result"
    }
   ],
   "execution_count": 25
  },
  {
   "metadata": {
    "ExecuteTime": {
     "end_time": "2024-08-18T01:46:00.662161900Z",
     "start_time": "2024-08-17T08:56:18.440220Z"
    }
   },
   "cell_type": "code",
   "source": [
    "# Arbitrary Arguments, *args\n",
    "def AverageFunction(*x):\n",
    "    if not x:\n",
    "        return \"No numbers provided\"\n",
    "    else:\n",
    "        return sum(x) / len(x)\n",
    "    \n",
    "\n",
    "print(AverageFunction(1, 2, 3, 4, 5, 6, 7, 8, 9, 10))\n",
    "print(AverageFunction())"
   ],
   "outputs": [
    {
     "name": "stdout",
     "output_type": "stream",
     "text": [
      "5.5\n",
      "No numbers provided\n"
     ]
    }
   ],
   "execution_count": 26
  },
  {
   "metadata": {
    "ExecuteTime": {
     "end_time": "2024-08-18T01:46:00.662161900Z",
     "start_time": "2024-08-17T08:57:01.757162Z"
    }
   },
   "cell_type": "code",
   "source": [
    "# Arbitrary Keyword Arguments, **kwargs \n",
    "# If you do not know how many keyword arguments that will be passed into your function, add two asterisk: ** before the parameter name in the function definition.\n",
    "\n",
    "def my_book_function(**book):\n",
    "    print('The book title is ' + book['title'])\n",
    "    print('The book author is ' + book['author'])\n",
    "    print(f'The book year is {book[\"year\"]}')\n",
    "\n",
    "my_book_function(title='Python Programming', author='John Doe', year=2021)"
   ],
   "outputs": [
    {
     "name": "stdout",
     "output_type": "stream",
     "text": [
      "The book title is Python Programming\n",
      "The book author is John Doe\n",
      "The book year is 2021\n"
     ]
    }
   ],
   "execution_count": 27
  },
  {
   "metadata": {},
   "cell_type": "code",
   "source": [
    "# Passing a List as an Argument\n",
    "def my_busket_function(busket):\n",
    "    for fruit in busket:\n",
    "        print(fruit)\n",
    "        \n",
    "fruits = [\"Apple\", \"Banana\", \"Cherry\", \"Date\", \"Elderberry\", \"Fig\", \"Grapes\", \"Elderberry\", \"Honeydew\", \"Kiwi\", \"Lemon\"]\n",
    "my_busket_function(fruits)"
   ],
   "outputs": [],
   "execution_count": null
  },
  {
   "metadata": {},
   "cell_type": "code",
   "source": [
    "# Default Parameter Value\n",
    "def my_country_function(country = \"Norway\"):\n",
    "    print(\"I am from \" + country)\n",
    "    \n",
    "my_country_function(\"Sweden\")\n",
    "my_country_function()"
   ],
   "outputs": [],
   "execution_count": null
  },
  {
   "metadata": {},
   "cell_type": "code",
   "source": [
    "# Recursion Function\n",
    "# Recursion is a common mathematical and programming concept. \n",
    "# It means that a function calls itself. This has the benefit of meaning that you can loop through data to reach a result.\n",
    "\n",
    "def my_factorial_function(n):\n",
    "    if n > 0:\n",
    "        return n * my_factorial_function(n - 1)\n",
    "    else:\n",
    "        return 1\n",
    "    \n",
    "print(my_factorial_function(5))"
   ],
   "outputs": [],
   "execution_count": null
  },
  {
   "metadata": {},
   "cell_type": "code",
   "source": [
    "# What if we call the function with a negative number?\n",
    "print(my_factorial_function(-1))"
   ],
   "outputs": [],
   "execution_count": null
  },
  {
   "metadata": {},
   "cell_type": "markdown",
   "source": "# Object Oriented Programming"
  },
  {
   "metadata": {
    "ExecuteTime": {
     "end_time": "2024-08-18T02:43:09.915861Z",
     "start_time": "2024-08-18T02:43:09.911861Z"
    }
   },
   "cell_type": "code",
   "source": [
    "# Create a Class\n",
    "# Python is an object oriented programming language.\n",
    "# A Class is like a \"blueprint\" for creating objects.\n",
    "\n",
    "class MyClass:\n",
    "    # Class body\n",
    "    x = 5"
   ],
   "outputs": [],
   "execution_count": 24
  },
  {
   "metadata": {
    "ExecuteTime": {
     "end_time": "2024-08-18T02:43:16.456586Z",
     "start_time": "2024-08-18T02:43:16.451672Z"
    }
   },
   "cell_type": "code",
   "source": [
    "# Create an Object\n",
    "# Once we have a class, we can use it to create objects.\n",
    "# Object is an instance of a class.\n",
    "\n",
    "ob1 = MyClass()\n",
    "print(ob1.x)"
   ],
   "outputs": [
    {
     "name": "stdout",
     "output_type": "stream",
     "text": [
      "5\n"
     ]
    }
   ],
   "execution_count": 25
  },
  {
   "metadata": {
    "ExecuteTime": {
     "end_time": "2024-08-18T02:45:21.184447Z",
     "start_time": "2024-08-18T02:45:21.180894Z"
    }
   },
   "cell_type": "code",
   "source": [
    "# The Example of Class\n",
    "# Class will have properties and methods.\n",
    "# Properties are like variables attached to the class.\n",
    "# Methods are like functions attached to the class.\n",
    "\n",
    "class Person:\n",
    "    def __init__(self, name, age): # The __init__() function is called automatically every time the class is being used to create a new object.\n",
    "        self.name = name # Property\n",
    "        self.age = age # Property\n",
    "        print('init activate')\n",
    "    \n",
    "    def speak(self): # Method\n",
    "        print(\"Hello my name is \" + self.name)\n",
    "    \n",
    "person = Person(\"John\", 36)\n",
    "person.speak()"
   ],
   "outputs": [
    {
     "name": "stdout",
     "output_type": "stream",
     "text": [
      "init activate\n",
      "Hello my name is John\n"
     ]
    }
   ],
   "execution_count": 27
  },
  {
   "metadata": {},
   "cell_type": "markdown",
   "source": "## Example of Encapsulation"
  },
  {
   "metadata": {
    "ExecuteTime": {
     "end_time": "2024-08-18T02:48:36.507876Z",
     "start_time": "2024-08-18T02:48:36.502150Z"
    }
   },
   "cell_type": "code",
   "source": [
    "# public My_var \n",
    "# Protected _My_var2\n",
    "# Private __my_var3\n",
    "\n",
    "class Car:\n",
    "    def __init__(self, make, model, year):\n",
    "        self.make = make  # Public property, can be accessed from outside the class\n",
    "        self._model = model  # Protected property, can be accessed from the class and its subclasses\n",
    "        self.__year = year  # Private property, can only be accessed from the class\n",
    "\n",
    "    def get_year(self):  # Public method to access the private attribute\n",
    "        return self.__year\n",
    "\n",
    "    def set_year(self, year):  # Method to set the private attribute\n",
    "        self.__year = year\n",
    "        \n",
    "    def __private_method(self):\n",
    "        print(self.__year)\n"
   ],
   "outputs": [],
   "execution_count": 28
  },
  {
   "metadata": {
    "ExecuteTime": {
     "end_time": "2024-08-18T02:53:20.970611Z",
     "start_time": "2024-08-18T02:53:20.966915Z"
    }
   },
   "cell_type": "code",
   "source": [
    "# Create an object of the Car class\n",
    "car1 = Car(\"Toyota\", \"Camry\", 2021)\n",
    "# print(car1.make) # Accessing public property\n",
    "# print(car1._model) # Accessing protected property\n",
    "\n",
    "# print(car1.__year) # Error: Cannot access private property\n",
    "# \n",
    "print(car1.get_year()) # Accessing private property\n",
    "# \n",
    "# car1.set_year(2022) # Setting the private attribute\n",
    "# print(car1.get_year())\n",
    "\n",
    "# print(car1.__private_method)"
   ],
   "outputs": [
    {
     "name": "stdout",
     "output_type": "stream",
     "text": [
      "2021\n"
     ]
    }
   ],
   "execution_count": 35
  },
  {
   "metadata": {},
   "cell_type": "markdown",
   "source": "## Example of Inheritance"
  },
  {
   "metadata": {
    "ExecuteTime": {
     "end_time": "2024-08-18T02:56:39.270163Z",
     "start_time": "2024-08-18T02:56:39.264332Z"
    }
   },
   "cell_type": "code",
   "source": [
    "class Vehicle:\n",
    "    def __init__(self, brand, speed):\n",
    "        self.brand = brand\n",
    "        self.speed = speed\n",
    "\n",
    "    def show_info(self):\n",
    "        print(f\"Brand: {self.brand}, Speed: {self.speed} km/h\")\n",
    "\n",
    "class Car(Vehicle):  # Inherits all properties and methods from the Vehicle class\n",
    "    def __init__(self, brand, speed, fuel_type): \n",
    "        super().__init__(brand, speed)  # Calls the parent class constructor\n",
    "        self.fuel_type = fuel_type\n",
    "\n",
    "    def show_car_info(self):\n",
    "        self.show_info()  # Inherited method\n",
    "        print(f\"Fuel Type: {self.fuel_type}\")\n",
    "\n",
    "# # normal class\n",
    "# my_vehicle = Vehicle(\"Toyota\", 180)\n",
    "# my_vehicle.show_info()\n",
    "\n",
    "# Using Inheritance\n",
    "my_car = Car(\"Honda\", 180, \"Petrol\")\n",
    "my_car.show_car_info()\n"
   ],
   "outputs": [
    {
     "name": "stdout",
     "output_type": "stream",
     "text": [
      "Brand: Honda, Speed: 180 km/h\n",
      "Fuel Type: Petrol\n"
     ]
    }
   ],
   "execution_count": 38
  },
  {
   "metadata": {},
   "cell_type": "markdown",
   "source": "## Example of Abstraction"
  },
  {
   "metadata": {
    "ExecuteTime": {
     "end_time": "2024-08-18T03:02:23.414380Z",
     "start_time": "2024-08-18T03:02:23.408932Z"
    }
   },
   "cell_type": "code",
   "source": [
    "from abc import ABC, abstractmethod\n",
    "\n",
    "class Shape(ABC):  # Abstract base class\n",
    "    @abstractmethod\n",
    "    def area(self):\n",
    "        pass\n",
    "\n",
    "    @abstractmethod\n",
    "    def perimeter(self):\n",
    "        pass\n",
    "\n",
    "class Circle(Shape):  # Concrete class implementing the abstract methods\n",
    "    def __init__(self, radius):\n",
    "        self.radius = radius\n",
    "\n",
    "    def area(self):\n",
    "        return 3.14 * (self.radius ** 2)\n",
    "\n",
    "    def perimeter(self):\n",
    "        return 2 * 3.14 * self.radius\n",
    "    \n",
    "class Square(Shape):\n",
    "    def __init__(self, width, height):\n",
    "        self.width = width\n",
    "        self.height = height\n",
    "        \n",
    "    def area(self):\n",
    "        return self.width * self.height\n",
    "    \n",
    "    def perimeter(self):\n",
    "        return (self.width * 2) + (self.height * 2)\n",
    "\n",
    "# # Using Abstraction\n",
    "# circle = Circle(5)\n",
    "# print(f\"Area of circle: {circle.area()}\")\n",
    "# print(f\"Perimeter of circle: {circle.perimeter()}\")\n",
    "\n",
    "square = Square(5, 4)\n",
    "print(square.area())\n",
    "print(square.perimeter())"
   ],
   "outputs": [
    {
     "name": "stdout",
     "output_type": "stream",
     "text": [
      "20\n",
      "18\n"
     ]
    }
   ],
   "execution_count": 40
  },
  {
   "metadata": {},
   "cell_type": "markdown",
   "source": "## Example of Polymorphism"
  },
  {
   "metadata": {
    "ExecuteTime": {
     "end_time": "2024-08-18T02:36:06.093934Z",
     "start_time": "2024-08-18T02:36:06.089760Z"
    }
   },
   "cell_type": "code",
   "source": [
    "from abc import ABC, abstractmethod\n",
    "\n",
    "class Animal(ABC):\n",
    "    @abstractmethod\n",
    "    def speak(self):\n",
    "        pass\n",
    "    \n",
    "class Dog(Animal):\n",
    "    def speak(self):\n",
    "        return \"Woof!\"\n",
    "    \n",
    "class Cat(Animal):\n",
    "    def speak(self):\n",
    "        return \"Meow!\"\n",
    "\n",
    "# Using Polymorphism\n",
    "dog = Dog()\n",
    "cat = Cat()\n",
    "\n",
    "for x in (dog, cat):\n",
    "    print(x.speak())"
   ],
   "outputs": [
    {
     "name": "stdout",
     "output_type": "stream",
     "text": [
      "Woof!\n",
      "Meow!\n"
     ]
    }
   ],
   "execution_count": 23
  },
  {
   "metadata": {},
   "cell_type": "code",
   "source": [
    "# # Create a class named Product, with properties name and price and 2 methods to get the total price and reduce the stock of the product.\n",
    "# class Product:\n",
    "#     def __init__(self, name, price, quantity):\n",
    "#         self.name = name\n",
    "#         self.price = price\n",
    "#         self.quantity = quantity\n",
    "#     \n",
    "#     def get_total_price(self):\n",
    "#         return self.price * self.quantity\n",
    "#     \n",
    "#     def reduce_stock(self, amount):\n",
    "#         if amount <= self.quantity:\n",
    "#             self.quantity -= amount\n",
    "#         else:\n",
    "#             print(f\"จำนวนสินค้าคงคลังไม่พอสำหรับ {self.name}.\")"
   ],
   "outputs": [],
   "execution_count": null
  },
  {
   "metadata": {},
   "cell_type": "code",
   "source": [
    "# # Create a class named Store, with a property products and 2 methods to add a product and sell a product.\n",
    "# class Store:\n",
    "#     def __init__(self):\n",
    "#         self.products = []\n",
    "#         \n",
    "#     def add_product(self, product):\n",
    "#         self.products.append(product)\n",
    "#         \n",
    "#     def sell_product(self, product_name, quantity):\n",
    "#         for product in self.products:\n",
    "#             if product.name == product_name:\n",
    "#                 if product.quantity >= quantity:\n",
    "#                     product.reduce_stock(quantity)\n",
    "#                     total_price = product.price * quantity\n",
    "#                     print(f\"ขายสินค้า {product.name} จำนวน {quantity} ชิ้น ราคา {total_price} บาท\")\n",
    "#                 else:\n",
    "#                     print(f\"ไม่สามารถขายสินค้าได้ จำนวนสินค้าไม่พอ ({product.name})\")\n",
    "#                 return\n",
    "#         print(f\"ไม่พบสินค้า {product_name} ในร้านค้า\")\n"
   ],
   "outputs": [],
   "execution_count": null
  },
  {
   "metadata": {},
   "cell_type": "code",
   "source": [
    "# # Create an object of the Product class\n",
    "# laptop = Product(\"Laptop\", 30000, 1)\n",
    "# mouse = Product(\"Mouse\", 500, 20)"
   ],
   "outputs": [],
   "execution_count": null
  },
  {
   "metadata": {},
   "cell_type": "code",
   "source": [
    "# # Create an object of the Store class\n",
    "# store = Store()\n",
    "# store.add_product(laptop)\n",
    "# store.add_product(mouse)\n",
    "# \n",
    "# # Sell a product\n",
    "# store.sell_product(\"Laptop\", 1)"
   ],
   "outputs": [],
   "execution_count": null
  },
  {
   "metadata": {},
   "cell_type": "markdown",
   "source": "# Python Packages Manager"
  },
  {
   "metadata": {},
   "cell_type": "code",
   "outputs": [],
   "execution_count": null,
   "source": [
    "# pip is a package manager for Python packages, or modules if you like.\n",
    "# You can use pip to install packages from the Python Package Index and other indexes.\n",
    "\n",
    "# Install a package\n",
    "%pip install numpy"
   ]
  }
 ],
 "metadata": {
  "kernelspec": {
   "display_name": "venv",
   "language": "python",
   "name": "python3"
  },
  "language_info": {
   "name": "python",
   "version": "3.9.10"
  }
 },
 "nbformat": 4,
 "nbformat_minor": 2
}
