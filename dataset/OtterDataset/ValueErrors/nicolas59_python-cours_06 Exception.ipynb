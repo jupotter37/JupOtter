{
 "cells": [
  {
   "cell_type": "markdown",
   "id": "5fa9d2f3-33d9-45af-a769-6a0a9dd31f3b",
   "metadata": {},
   "source": [
    "## Interception des excpetions"
   ]
  },
  {
   "cell_type": "code",
   "execution_count": 1,
   "id": "3ef2174e-2a4e-400d-b2f5-307446a6c5f8",
   "metadata": {},
   "outputs": [],
   "source": [
    "try:\n",
    "    \"\"\"\n",
    "    Bloc d'instruction\n",
    "    \"\"\"\n",
    "except:\n",
    "    pass"
   ]
  },
  {
   "cell_type": "markdown",
   "id": "96fd06c1-a3ec-402f-bc37-22e910b7d161",
   "metadata": {},
   "source": [
    "### Exception non gérée"
   ]
  },
  {
   "cell_type": "code",
   "execution_count": 5,
   "id": "ecc012d5-61e2-4c3d-85f6-5a7e71bb98af",
   "metadata": {},
   "outputs": [
    {
     "name": "stdin",
     "output_type": "stream",
     "text": [
      "Saisir une valeur numérique : 1\n"
     ]
    },
    {
     "name": "stdout",
     "output_type": "stream",
     "text": [
      "1\n"
     ]
    }
   ],
   "source": [
    "val = int(input(\"Saisir une valeur numérique :\"))\n",
    "print(val)"
   ]
  },
  {
   "cell_type": "code",
   "execution_count": 7,
   "id": "ddb3dd6e-0cd5-48d3-9720-ef75c91bbcb2",
   "metadata": {},
   "outputs": [
    {
     "name": "stdin",
     "output_type": "stream",
     "text": [
      "Saisir une valeur numérique : eee\n"
     ]
    },
    {
     "ename": "ValueError",
     "evalue": "invalid literal for int() with base 10: 'eee'",
     "output_type": "error",
     "traceback": [
      "\u001b[0;31m---------------------------------------------------------------------------\u001b[0m",
      "\u001b[0;31mValueError\u001b[0m                                Traceback (most recent call last)",
      "Cell \u001b[0;32mIn [7], line 1\u001b[0m\n\u001b[0;32m----> 1\u001b[0m val \u001b[38;5;241m=\u001b[39m \u001b[38;5;28;43mint\u001b[39;49m\u001b[43m(\u001b[49m\u001b[38;5;28;43minput\u001b[39;49m\u001b[43m(\u001b[49m\u001b[38;5;124;43m\"\u001b[39;49m\u001b[38;5;124;43mSaisir une valeur numérique :\u001b[39;49m\u001b[38;5;124;43m\"\u001b[39;49m\u001b[43m)\u001b[49m\u001b[43m)\u001b[49m\n\u001b[1;32m      2\u001b[0m \u001b[38;5;28mprint\u001b[39m(val)\n",
      "\u001b[0;31mValueError\u001b[0m: invalid literal for int() with base 10: 'eee'"
     ]
    }
   ],
   "source": [
    "val = int(input(\"Saisir une valeur numérique :\"))\n",
    "print(val)"
   ]
  },
  {
   "cell_type": "markdown",
   "id": "a3e7101e-6ffb-45f8-bb05-467588199dcc",
   "metadata": {},
   "source": [
    "### Exception gérée"
   ]
  },
  {
   "cell_type": "code",
   "execution_count": 8,
   "id": "2878c23f-5d67-4f14-b930-f87c3e40f570",
   "metadata": {},
   "outputs": [
    {
     "name": "stdin",
     "output_type": "stream",
     "text": [
      "Saisir une valeur numérique : yyy\n"
     ]
    },
    {
     "name": "stdout",
     "output_type": "stream",
     "text": [
      "Attention !  Erreur de saisie !!\n"
     ]
    }
   ],
   "source": [
    "try:\n",
    "    val = int(input(\"Saisir une valeur numérique :\"))\n",
    "    print(val)\n",
    "except:\n",
    "    print(\"Attention !  Erreur de saisie !!\")"
   ]
  },
  {
   "cell_type": "markdown",
   "id": "f6b6ba0d-a158-4d46-acbe-947a97880617",
   "metadata": {},
   "source": [
    "## Recupérer l'exception"
   ]
  },
  {
   "cell_type": "code",
   "execution_count": 9,
   "id": "ad394fc2-c046-4219-ac9c-62d7c4d7d6ed",
   "metadata": {},
   "outputs": [
    {
     "name": "stdin",
     "output_type": "stream",
     "text": [
      "Saisir une valeur numérique : jj\n"
     ]
    },
    {
     "name": "stdout",
     "output_type": "stream",
     "text": [
      "Message : invalid literal for int() with base 10: 'jj'\n"
     ]
    }
   ],
   "source": [
    "try:\n",
    "    val = int(input(\"Saisir une valeur numérique :\"))\n",
    "    print(val)\n",
    "except ValueError as error:\n",
    "    print(f\"Message : {error}\")"
   ]
  },
  {
   "cell_type": "markdown",
   "id": "8758e003-97e0-49b7-b1df-43f7cdab7617",
   "metadata": {},
   "source": [
    "## Interception d'exceptions spécifiques"
   ]
  },
  {
   "cell_type": "code",
   "execution_count": 10,
   "id": "6c18cff0-b469-4df1-8c8b-fc8b1e20cbb2",
   "metadata": {},
   "outputs": [],
   "source": [
    "class NegativeException(Exception):\n",
    "    pass\n",
    "\n",
    "def check_positive(nb):\n",
    "    if nb < 0:\n",
    "        raise NegativeException()"
   ]
  },
  {
   "cell_type": "code",
   "execution_count": 11,
   "id": "f5e8d920-39cd-4b5d-9150-ddf8cad380c0",
   "metadata": {},
   "outputs": [
    {
     "name": "stdin",
     "output_type": "stream",
     "text": [
      "Saisir une valeur numérique : -9\n"
     ]
    },
    {
     "name": "stdout",
     "output_type": "stream",
     "text": [
      "Nombre doit être positif\n"
     ]
    }
   ],
   "source": [
    "try:\n",
    "    val = int(input(\"Saisir une valeur numérique :\"))\n",
    "    check_positive(val) # Peut lever une exception (NegativeException)\n",
    "    print(val)\n",
    "except ValueError as error:\n",
    "    print(f\"Message : {error}\")\n",
    "except NegativeException as error:\n",
    "    print(\"Nombre doit être positif\")"
   ]
  },
  {
   "cell_type": "markdown",
   "id": "80acb4c5-04d2-46e0-9ffc-9a8e0283778b",
   "metadata": {},
   "source": [
    "## Le mot clé else"
   ]
  },
  {
   "cell_type": "code",
   "execution_count": null,
   "id": "19a2a2f6-ffa6-476a-9e5f-9b74aafce273",
   "metadata": {},
   "outputs": [],
   "source": [
    "try:\n",
    "    val = int(input(\"Saisir une valeur numérique :\"))\n",
    "    check_positive(val) # Peut lever une exception (NegativeException)\n",
    "    print(val)\n",
    "except ValueError as error:\n",
    "    print(f\"Message : {error}\")\n",
    "except NegativeException as error:\n",
    "    print(\"Nombre doit être positif\")\n",
    "else:\n",
    "    print(\"Bon tout va bien. La valeur saisie est correcte !\")"
   ]
  },
  {
   "cell_type": "markdown",
   "id": "d6e7dae8-fbff-4430-99b4-d5c80d13ef30",
   "metadata": {},
   "source": [
    "## Le mot clé finally"
   ]
  },
  {
   "cell_type": "code",
   "execution_count": null,
   "id": "28a41802-b29c-445c-834d-d0da8331a1f4",
   "metadata": {},
   "outputs": [],
   "source": [
    "try:\n",
    "    val = int(input(\"Saisir une valeur numérique :\"))\n",
    "    check_positive(val) # Peut lever une exception (NegativeException)\n",
    "    print(val)\n",
    "except ValueError as error:\n",
    "    print(f\"Message : {error}\")\n",
    "except NegativeException as error:\n",
    "    print(\"Nombre doit être positif\")\n",
    "else:\n",
    "    print(\"Bon tout va bien. La valeur saisie est correcte !\")\n",
    "finally:\n",
    "    print(\"----  Programme terminé avec ou sans exception ----\")"
   ]
  },
  {
   "cell_type": "markdown",
   "id": "ceceefcd-ad82-476f-8074-f52beaf1dfac",
   "metadata": {},
   "source": [
    "## Lever une exception"
   ]
  },
  {
   "cell_type": "code",
   "execution_count": 12,
   "id": "cd9dfff9-9177-4e0b-89d7-246cac21b5a1",
   "metadata": {},
   "outputs": [
    {
     "name": "stdin",
     "output_type": "stream",
     "text": [
      "Saisir une valeur numérique : -87\n"
     ]
    },
    {
     "name": "stdout",
     "output_type": "stream",
     "text": [
      "Nombre doit être positif\n"
     ]
    }
   ],
   "source": [
    "try:\n",
    "    val = int(input(\"Saisir une valeur numérique :\"))\n",
    "    if val < 0:\n",
    "        raise NegativeException()\n",
    "except ValueError as error:\n",
    "    print(f\"Message : {error}\")\n",
    "except NegativeException as error:\n",
    "    print(\"Nombre doit être positif\")\n"
   ]
  },
  {
   "cell_type": "markdown",
   "id": "ed6f4241-7bbc-476a-a7fd-a3cbc1eff3bc",
   "metadata": {},
   "source": [
    "## Developper ses exceptions"
   ]
  },
  {
   "cell_type": "code",
   "execution_count": 18,
   "id": "3e38965b-28c4-41bc-ba79-81b5650d4ccd",
   "metadata": {},
   "outputs": [],
   "source": [
    "class NegativeException(Exception):\n",
    "    \n",
    "    def __init__(self, message = \"Valeur negative\"):\n",
    "        super().__init__(message)\n",
    "\n",
    "        "
   ]
  },
  {
   "cell_type": "code",
   "execution_count": 20,
   "id": "b555f9da-ea28-486b-bf7c-2af846bd0d6e",
   "metadata": {},
   "outputs": [
    {
     "name": "stdin",
     "output_type": "stream",
     "text": [
      "Saisir une valeur numérique : -90\n"
     ]
    },
    {
     "name": "stdout",
     "output_type": "stream",
     "text": [
      "La valeur doit être positive. Saisie : -90\n"
     ]
    }
   ],
   "source": [
    "try:\n",
    "    val = int(input(\"Saisir une valeur numérique :\"))\n",
    "    if val < 0:\n",
    "        raise NegativeException(f\"La valeur doit être positive. Saisie : {val}\")\n",
    "except NegativeException as error:\n",
    "    print(error)"
   ]
  },
  {
   "cell_type": "markdown",
   "id": "8f5fd87c-8e94-4c07-ba61-eaf3fb934543",
   "metadata": {},
   "source": [
    "## Le mot clé with"
   ]
  },
  {
   "cell_type": "code",
   "execution_count": 76,
   "id": "4b84acc0-4a13-4670-ae71-14f5dcbc76dc",
   "metadata": {},
   "outputs": [
    {
     "name": "stdout",
     "output_type": "stream",
     "text": [
      "-->. Prepation contexte <--\n",
      "***  je travaille ***\n",
      "Liberation des ressources\n"
     ]
    }
   ],
   "source": [
    "class MonContext:\n",
    "    \n",
    "    def __enter__(self):\n",
    "        print(\"-->. Prepation contexte <--\")\n",
    "        return self\n",
    "    \n",
    "    def __exit__(self, type, value, traceback):\n",
    "        if type != None:\n",
    "            print(f\"!!! Erreur recue !!!, Valeur : {value}\")\n",
    "        print(\"Liberation des ressources\")\n",
    "        return True\n",
    "    \n",
    "    def do_something(self):\n",
    "        print(\"***  je travaille ***\")\n",
    "    \n",
    "    def do_fail(self):\n",
    "        print(\"***  aie ***\")\n",
    "        raise ValueError(\"Erreur technique\")\n",
    "\n",
    "with MonContext() as mon_contexte:\n",
    "    mon_contexte.do_something()\n",
    "\n",
    "              "
   ]
  },
  {
   "cell_type": "code",
   "execution_count": 77,
   "id": "ebdb399d-389c-4b68-bf7d-447ec0647380",
   "metadata": {},
   "outputs": [
    {
     "name": "stdout",
     "output_type": "stream",
     "text": [
      "-->. Prepation contexte <--\n",
      "***  aie ***\n",
      "!!! Erreur recue !!!, Valeur : Erreur technique\n",
      "Liberation des ressources\n"
     ]
    }
   ],
   "source": [
    "with MonContext() as mon_contexte:\n",
    "    mon_contexte.do_fail()"
   ]
  },
  {
   "cell_type": "code",
   "execution_count": null,
   "id": "236597aa-fbd5-427d-a91e-256ecbe2afed",
   "metadata": {},
   "outputs": [],
   "source": []
  }
 ],
 "metadata": {
  "kernelspec": {
   "display_name": "Python 3 (ipykernel)",
   "language": "python",
   "name": "python3"
  },
  "language_info": {
   "codemirror_mode": {
    "name": "ipython",
    "version": 3
   },
   "file_extension": ".py",
   "mimetype": "text/x-python",
   "name": "python",
   "nbconvert_exporter": "python",
   "pygments_lexer": "ipython3",
   "version": "3.8.3"
  }
 },
 "nbformat": 4,
 "nbformat_minor": 5
}
