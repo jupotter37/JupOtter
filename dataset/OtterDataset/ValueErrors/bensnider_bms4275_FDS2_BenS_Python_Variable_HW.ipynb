{
 "cells": [
  {
   "cell_type": "markdown",
   "id": "a4755f03",
   "metadata": {},
   "source": [
    "# Variables homework"
   ]
  },
  {
   "cell_type": "markdown",
   "id": "a519fdac",
   "metadata": {},
   "source": [
    "Advice for homework and life: try, play, experiment; don't Google until you get frustrated.\n",
    "\n",
    "You can't break anything with Python, so, if you want to figure something out, try until you get it to work. You'll learn more and you'll remember it longer and more deeply. "
   ]
  },
  {
   "cell_type": "markdown",
   "id": "935435c3",
   "metadata": {},
   "source": [
    "---"
   ]
  },
  {
   "cell_type": "markdown",
   "id": "672eb676",
   "metadata": {},
   "source": [
    "In general, the homework question will consist of the question in a markdown cell, a code cell for you to play in, repeating as needed,  and a final markdown cell for your answer or explanation *that will be in italics*.\n",
    "\n",
    "But do feel free to add or delete cells as you feel appropriate. The important thing is you get your point across!"
   ]
  },
  {
   "cell_type": "markdown",
   "id": "fd5a0577",
   "metadata": {},
   "source": [
    "---"
   ]
  },
  {
   "cell_type": "markdown",
   "id": "8cac38b8",
   "metadata": {},
   "source": [
    "### 1."
   ]
  },
  {
   "cell_type": "markdown",
   "id": "41ebcb4a",
   "metadata": {},
   "source": [
    "Make an integer: `theAnswer = 42`.\n",
    "Now make another: `anotherNameForTheAnswer = 42`\n",
    "(You don't have to use these exactly, but make sure you have two different names referring to the same exact value.)"
   ]
  },
  {
   "cell_type": "code",
   "execution_count": 2,
   "id": "792d077c",
   "metadata": {},
   "outputs": [],
   "source": [
    "number=42\n",
    "other_name_number=42"
   ]
  },
  {
   "cell_type": "markdown",
   "id": "110df7e7",
   "metadata": {},
   "source": [
    "Get and note the ID numbers for both."
   ]
  },
  {
   "cell_type": "code",
   "execution_count": 3,
   "id": "0bca1e61",
   "metadata": {},
   "outputs": [
    {
     "name": "stdout",
     "output_type": "stream",
     "text": [
      "140734325364808\n",
      "140734325364808\n"
     ]
    }
   ],
   "source": [
    "print(id(number))\n",
    "print(id(other_name_number))"
   ]
  },
  {
   "cell_type": "markdown",
   "id": "3b3616a6",
   "metadata": {},
   "source": [
    "Assign each name to a completely different number and confirm that each name now refers to an object with a new ID."
   ]
  },
  {
   "cell_type": "code",
   "execution_count": 4,
   "id": "19c87f48",
   "metadata": {},
   "outputs": [
    {
     "name": "stdout",
     "output_type": "stream",
     "text": [
      "140734325364840\n",
      "140734325364840\n"
     ]
    }
   ],
   "source": [
    "number=43\n",
    "other_name_number=43\n",
    "print(id(number))\n",
    "print(id(other_name_number))"
   ]
  },
  {
   "cell_type": "markdown",
   "id": "a6d1c613",
   "metadata": {},
   "source": [
    "Do a `whos` to confirm that *no* names refer to the original value."
   ]
  },
  {
   "cell_type": "code",
   "execution_count": 5,
   "id": "26921f75",
   "metadata": {},
   "outputs": [
    {
     "name": "stdout",
     "output_type": "stream",
     "text": [
      "Variable            Type    Data/Info\n",
      "-------------------------------------\n",
      "number              int     43\n",
      "other_name_number   int     43\n"
     ]
    }
   ],
   "source": [
    "whos"
   ]
  },
  {
   "cell_type": "markdown",
   "id": "329c40f1",
   "metadata": {},
   "source": [
    "Finally, assign a new name to the original value, and get its ID."
   ]
  },
  {
   "cell_type": "code",
   "execution_count": 6,
   "id": "6d8e21a3",
   "metadata": {},
   "outputs": [
    {
     "name": "stdout",
     "output_type": "stream",
     "text": [
      "140734325364808\n"
     ]
    }
   ],
   "source": [
    "new_name=42\n",
    "print(id(new_name))"
   ]
  },
  {
   "cell_type": "markdown",
   "id": "005730a3",
   "metadata": {},
   "source": [
    "*Look at this ID and compare it to the original ones. What happened? What does this tell you?*"
   ]
  },
  {
   "cell_type": "markdown",
   "id": "1927d46f",
   "metadata": {},
   "source": [
    "*The ID number was the same as the original! This tells me that the first object was retained*"
   ]
  },
  {
   "cell_type": "markdown",
   "id": "022dd79c",
   "metadata": {},
   "source": [
    "---"
   ]
  },
  {
   "cell_type": "markdown",
   "id": "70b28d0b",
   "metadata": {},
   "source": [
    "### 2."
   ]
  },
  {
   "cell_type": "markdown",
   "id": "4016abc8",
   "metadata": {},
   "source": [
    "Convert both possible Boolean values to strings and print them."
   ]
  },
  {
   "cell_type": "code",
   "execution_count": 11,
   "id": "634b8733",
   "metadata": {},
   "outputs": [
    {
     "name": "stdout",
     "output_type": "stream",
     "text": [
      "True\n",
      "False\n"
     ]
    }
   ],
   "source": [
    "bool1 = True\n",
    "bool2 = False\n",
    "print(str(bool1))\n",
    "print(str(bool2))"
   ]
  },
  {
   "cell_type": "markdown",
   "id": "fa273c8d",
   "metadata": {},
   "source": [
    "Now convert some strings to Boolean until you figure out \"the rule\"."
   ]
  },
  {
   "cell_type": "code",
   "execution_count": 16,
   "id": "4c637ec5",
   "metadata": {},
   "outputs": [
    {
     "name": "stdout",
     "output_type": "stream",
     "text": [
      "True\n",
      "True\n",
      "False\n"
     ]
    }
   ],
   "source": [
    "string1 = 'hello'\n",
    "print(bool(string1))\n",
    "string2 = 'hi'\n",
    "print(bool(string2))\n",
    "string3 = ''\n",
    "print(bool(string3))"
   ]
  },
  {
   "cell_type": "markdown",
   "id": "b2c5c4e8",
   "metadata": {},
   "source": [
    "*What string(s) convert to True and False? In other words, what is the rule for str -> bool conversion?*"
   ]
  },
  {
   "cell_type": "markdown",
   "id": "0a44ed0f",
   "metadata": {},
   "source": [
    "*Strings convert to True when there are any other strings as part of the string, that is, if any letters are present. String only convert to False when the strign is empty.*"
   ]
  },
  {
   "cell_type": "markdown",
   "id": "9dc74072",
   "metadata": {},
   "source": [
    "---"
   ]
  },
  {
   "cell_type": "markdown",
   "id": "517c7fe1",
   "metadata": {},
   "source": [
    "### 3. "
   ]
  },
  {
   "cell_type": "markdown",
   "id": "f8fddb59",
   "metadata": {},
   "source": [
    "Make three variables:\n",
    "\n",
    "* a Boolean equal to True\n",
    "* an int (any int)\n",
    "* a float\n",
    "\n",
    "Try all combinations of adding two of the variables pairwise."
   ]
  },
  {
   "cell_type": "code",
   "execution_count": 18,
   "id": "86d384c9",
   "metadata": {},
   "outputs": [
    {
     "name": "stdout",
     "output_type": "stream",
     "text": [
      "401\n",
      "404.0\n",
      "5.0\n"
     ]
    }
   ],
   "source": [
    "my_bool = True\n",
    "my_int = 400\n",
    "my_float = 4.00\n",
    "print(my_bool+my_int)\n",
    "print(my_int+my_float)\n",
    "print(my_float+my_bool)"
   ]
  },
  {
   "cell_type": "markdown",
   "id": "db2ebd3c",
   "metadata": {},
   "source": [
    "*What is the rule for adding numbers of different types?*"
   ]
  },
  {
   "cell_type": "markdown",
   "id": "448ec1b5",
   "metadata": {},
   "source": [
    "*When adding boolean variables to integers or floats a True boolean value becomes equal to 1, the numers are then added, and the data type of the number is retained. When adding numbers of different types (float + integer) the more complex data type (float) is retained.*"
   ]
  },
  {
   "cell_type": "markdown",
   "id": "1ea9b7ea",
   "metadata": {},
   "source": [
    "---"
   ]
  },
  {
   "cell_type": "markdown",
   "id": "e1b9ed6c",
   "metadata": {},
   "source": [
    "### 4."
   ]
  },
  {
   "cell_type": "markdown",
   "id": "cf84dd90",
   "metadata": {},
   "source": [
    "Make an int (any int) and a string containing a number (e.g. num_str = '64'). Try\n",
    "\n",
    "* adding them\n",
    "* adding them converting the number to a string\n",
    "* adding them converting the string to a number"
   ]
  },
  {
   "cell_type": "code",
   "execution_count": 21,
   "id": "18ed5b89",
   "metadata": {},
   "outputs": [
    {
     "name": "stdout",
     "output_type": "stream",
     "text": [
      "6464\n",
      "128\n"
     ]
    },
    {
     "ename": "TypeError",
     "evalue": "can only concatenate str (not \"int\") to str",
     "output_type": "error",
     "traceback": [
      "\u001b[1;31m---------------------------------------------------------------------------\u001b[0m",
      "\u001b[1;31mTypeError\u001b[0m                                 Traceback (most recent call last)",
      "Cell \u001b[1;32mIn[21], line 5\u001b[0m\n\u001b[0;32m      3\u001b[0m \u001b[38;5;28mprint\u001b[39m(fake_number\u001b[38;5;241m+\u001b[39m\u001b[38;5;28mstr\u001b[39m(real_number))\n\u001b[0;32m      4\u001b[0m \u001b[38;5;28mprint\u001b[39m(\u001b[38;5;28mint\u001b[39m(fake_number)\u001b[38;5;241m+\u001b[39mreal_number)\n\u001b[1;32m----> 5\u001b[0m \u001b[38;5;28mprint\u001b[39m(fake_number\u001b[38;5;241m+\u001b[39mreal_number)\n",
      "\u001b[1;31mTypeError\u001b[0m: can only concatenate str (not \"int\") to str"
     ]
    }
   ],
   "source": [
    "fake_number = '64'\n",
    "real_number = 64\n",
    "print(fake_number+str(real_number))\n",
    "print(int(fake_number)+real_number)\n",
    "print(fake_number+real_number)"
   ]
  },
  {
   "cell_type": "markdown",
   "id": "5110c575",
   "metadata": {},
   "source": [
    "Try converting a `str` that is a spelled out number (like 'forty two') to an int."
   ]
  },
  {
   "cell_type": "code",
   "execution_count": 22,
   "id": "3f8e8f20",
   "metadata": {},
   "outputs": [
    {
     "ename": "ValueError",
     "evalue": "invalid literal for int() with base 10: 'forty two'",
     "output_type": "error",
     "traceback": [
      "\u001b[1;31m---------------------------------------------------------------------------\u001b[0m",
      "\u001b[1;31mValueError\u001b[0m                                Traceback (most recent call last)",
      "Cell \u001b[1;32mIn[22], line 2\u001b[0m\n\u001b[0;32m      1\u001b[0m faker_number \u001b[38;5;241m=\u001b[39m \u001b[38;5;124m'\u001b[39m\u001b[38;5;124mforty two\u001b[39m\u001b[38;5;124m'\u001b[39m\n\u001b[1;32m----> 2\u001b[0m \u001b[38;5;28mprint\u001b[39m(\u001b[38;5;28mint\u001b[39m(faker_number))\n",
      "\u001b[1;31mValueError\u001b[0m: invalid literal for int() with base 10: 'forty two'"
     ]
    }
   ],
   "source": [
    "faker_number = 'forty two'\n",
    "print(int(faker_number))"
   ]
  },
  {
   "cell_type": "markdown",
   "id": "fd5707eb",
   "metadata": {},
   "source": [
    "*Did that work?*"
   ]
  },
  {
   "cell_type": "markdown",
   "id": "88f76f98",
   "metadata": {},
   "source": [
    "*Nope!*"
   ]
  },
  {
   "cell_type": "markdown",
   "id": "1dae4adc",
   "metadata": {},
   "source": [
    "---"
   ]
  },
  {
   "cell_type": "markdown",
   "id": "9d9f04c2",
   "metadata": {},
   "source": [
    "### 5. "
   ]
  },
  {
   "cell_type": "markdown",
   "id": "41cab9d3",
   "metadata": {},
   "source": [
    "Make a variable that is a 5 element tuple."
   ]
  },
  {
   "cell_type": "code",
   "execution_count": 23,
   "id": "b7d56346",
   "metadata": {},
   "outputs": [],
   "source": [
    "my_tuple = (1, 2, 3, 4, 5)"
   ]
  },
  {
   "cell_type": "markdown",
   "id": "e8c66a73",
   "metadata": {},
   "source": [
    "Extract the last 3 elements."
   ]
  },
  {
   "cell_type": "code",
   "execution_count": 24,
   "id": "2e49c601",
   "metadata": {},
   "outputs": [
    {
     "name": "stdout",
     "output_type": "stream",
     "text": [
      "(3, 4, 5)\n"
     ]
    }
   ],
   "source": [
    "print(my_tuple[2:])"
   ]
  },
  {
   "cell_type": "markdown",
   "id": "47e21ef5",
   "metadata": {},
   "source": [
    "---"
   ]
  },
  {
   "cell_type": "markdown",
   "id": "158ffef3",
   "metadata": {},
   "source": [
    "### 6. "
   ]
  },
  {
   "cell_type": "markdown",
   "id": "448bfa55",
   "metadata": {},
   "source": [
    "Make two variables containing tuples (you can create one and re-use the one from #5). Add them using \"+\"."
   ]
  },
  {
   "cell_type": "code",
   "execution_count": 25,
   "id": "5d681205",
   "metadata": {},
   "outputs": [
    {
     "name": "stdout",
     "output_type": "stream",
     "text": [
      "(1, 2, 3, 4, 5, 5, 4, 3, 2, 1)\n"
     ]
    }
   ],
   "source": [
    "my_tuple = (1, 2, 3, 4, 5)\n",
    "my_other_tuple = (5, 4, 3, 2, 1)\n",
    "print(my_tuple + my_other_tuple)"
   ]
  },
  {
   "cell_type": "markdown",
   "id": "119c9a85",
   "metadata": {},
   "source": [
    "Make two list variables and add them."
   ]
  },
  {
   "cell_type": "code",
   "execution_count": 26,
   "id": "0b72465e",
   "metadata": {},
   "outputs": [
    {
     "name": "stdout",
     "output_type": "stream",
     "text": [
      "[1, 2, 3, 4, 5, 5, 4, 3, 2, 1]\n"
     ]
    }
   ],
   "source": [
    "my_list = [1, 2, 3, 4, 5]\n",
    "my_other_list = [5, 4, 3, 2, 1]\n",
    "print(my_list + my_other_list)"
   ]
  },
  {
   "cell_type": "markdown",
   "id": "23ed3aa7",
   "metadata": {},
   "source": [
    "Try adding one of your tuples to one of your lists."
   ]
  },
  {
   "cell_type": "code",
   "execution_count": 27,
   "id": "187ba06d",
   "metadata": {},
   "outputs": [
    {
     "ename": "TypeError",
     "evalue": "can only concatenate list (not \"tuple\") to list",
     "output_type": "error",
     "traceback": [
      "\u001b[1;31m---------------------------------------------------------------------------\u001b[0m",
      "\u001b[1;31mTypeError\u001b[0m                                 Traceback (most recent call last)",
      "Cell \u001b[1;32mIn[27], line 1\u001b[0m\n\u001b[1;32m----> 1\u001b[0m my_list \u001b[38;5;241m+\u001b[39m my_tuple\n",
      "\u001b[1;31mTypeError\u001b[0m: can only concatenate list (not \"tuple\") to list"
     ]
    }
   ],
   "source": [
    "my_list + my_tuple"
   ]
  },
  {
   "cell_type": "markdown",
   "id": "c22fff9f",
   "metadata": {},
   "source": [
    "*What happened? How does this compare to adding, say, a bool to a float?*"
   ]
  },
  {
   "cell_type": "markdown",
   "id": "82202685",
   "metadata": {},
   "source": [
    "*It didn't work! This is the opposite of adding a bool to a float, which did work.*"
   ]
  },
  {
   "cell_type": "markdown",
   "id": "24ceb313",
   "metadata": {},
   "source": [
    "---"
   ]
  },
  {
   "cell_type": "markdown",
   "id": "46be9eeb",
   "metadata": {},
   "source": [
    "### 7."
   ]
  },
  {
   "cell_type": "markdown",
   "id": "ed51a160",
   "metadata": {},
   "source": [
    "Can you tell the type of a variable by looking at its value?"
   ]
  },
  {
   "cell_type": "markdown",
   "id": "7b9d839a",
   "metadata": {},
   "source": [
    "*If so, how? A couple examples are fine; no need for an exhaustive list.*"
   ]
  },
  {
   "cell_type": "markdown",
   "id": "bbdaa35d",
   "metadata": {},
   "source": [
    "*Yes, you can! For example you can tell that `42` is an integer while `42.0` is a float just by looking at it. Similarly the `True` and `False` of boolean variables are obvious. Other than that you can usually tell by looking at the type of brackets to differentiate strings, lists, tuples, and dictionaries.*"
   ]
  },
  {
   "cell_type": "markdown",
   "id": "d9d4751a",
   "metadata": {},
   "source": [
    "---"
   ]
  },
  {
   "cell_type": "markdown",
   "id": "0e6d00d0",
   "metadata": {},
   "source": [
    "### 8."
   ]
  },
  {
   "cell_type": "markdown",
   "id": "fef795f0",
   "metadata": {},
   "source": [
    "Make a list variable in which one of the elements is itself a list (e.g. `myList = ['hi', [3, 5, 7, 11], False]`)."
   ]
  },
  {
   "cell_type": "code",
   "execution_count": 28,
   "id": "397862a5",
   "metadata": {},
   "outputs": [],
   "source": [
    "this_list = ['hi', [3, 5, 7, 11], False]"
   ]
  },
  {
   "cell_type": "markdown",
   "id": "6c9f9c01",
   "metadata": {},
   "source": [
    "Extract one element of the nested list - the list-within a list. Try it in two steps, by first extracting the nested list and assigning it to a new variable."
   ]
  },
  {
   "cell_type": "code",
   "execution_count": 31,
   "id": "fb0d3c73",
   "metadata": {},
   "outputs": [
    {
     "name": "stdout",
     "output_type": "stream",
     "text": [
      "3\n"
     ]
    }
   ],
   "source": [
    "new_list = this_list[1]\n",
    "one_item = new_list[0]\n",
    "print(one_item)"
   ]
  },
  {
   "cell_type": "markdown",
   "id": "2af6ccf6",
   "metadata": {},
   "source": [
    "Now see if you can do this in one step."
   ]
  },
  {
   "cell_type": "code",
   "execution_count": 32,
   "id": "9c7617ec",
   "metadata": {},
   "outputs": [
    {
     "name": "stdout",
     "output_type": "stream",
     "text": [
      "3\n"
     ]
    }
   ],
   "source": [
    "print(this_list[1][0])"
   ]
  },
  {
   "cell_type": "markdown",
   "id": "0554f1ab",
   "metadata": {},
   "source": [
    "---"
   ]
  },
  {
   "cell_type": "markdown",
   "id": "bc4dfb16",
   "metadata": {},
   "source": [
    "### 9."
   ]
  },
  {
   "cell_type": "markdown",
   "id": "942c18ed",
   "metadata": {},
   "source": [
    "Make a `dict` variable with two elements, one of which is a list."
   ]
  },
  {
   "cell_type": "code",
   "execution_count": 33,
   "id": "eab04be2",
   "metadata": {},
   "outputs": [],
   "source": [
    "my_dict = {'one' : 45, 'two': [1, 2, 3, 4, 5]}"
   ]
  },
  {
   "cell_type": "markdown",
   "id": "33671a6f",
   "metadata": {},
   "source": [
    "Extract a single element from the list-in-a-dict in one step."
   ]
  },
  {
   "cell_type": "code",
   "execution_count": 34,
   "id": "d34db06d",
   "metadata": {},
   "outputs": [
    {
     "data": {
      "text/plain": [
       "1"
      ]
     },
     "execution_count": 34,
     "metadata": {},
     "output_type": "execute_result"
    }
   ],
   "source": [
    "my_dict['two'][0]"
   ]
  },
  {
   "cell_type": "markdown",
   "id": "ad326e31",
   "metadata": {},
   "source": [
    "---"
   ]
  },
  {
   "cell_type": "markdown",
   "id": "3ee688b1",
   "metadata": {},
   "source": [
    "### 10."
   ]
  },
  {
   "cell_type": "markdown",
   "id": "d75d6e10",
   "metadata": {},
   "source": [
    "Make a list variable. Consider that each element of the list is logically an *object* in and of itself. Confirm that one or two of these list elements has its own unique ID number."
   ]
  },
  {
   "cell_type": "code",
   "execution_count": 35,
   "id": "57e89abe",
   "metadata": {},
   "outputs": [
    {
     "name": "stdout",
     "output_type": "stream",
     "text": [
      "2040970468416\n",
      "140734325363496\n",
      "140734325363528\n",
      "140734325363560\n",
      "140734325363592\n",
      "140734325363624\n"
     ]
    }
   ],
   "source": [
    "last_list = [1, 2, 3, 4, 5]\n",
    "print(id(last_list))\n",
    "print(id(last_list[0]))\n",
    "print(id(last_list[1]))\n",
    "print(id(last_list[2]))\n",
    "print(id(last_list[3]))\n",
    "print(id(last_list[4]))"
   ]
  },
  {
   "cell_type": "markdown",
   "id": "a6dd53d9",
   "metadata": {},
   "source": [
    "If you extract an element from your list and assign it to a new variable, are the IDs the same, or is a new object created?"
   ]
  },
  {
   "cell_type": "code",
   "execution_count": 36,
   "id": "307d648b",
   "metadata": {},
   "outputs": [
    {
     "name": "stdout",
     "output_type": "stream",
     "text": [
      "140734325363496\n"
     ]
    }
   ],
   "source": [
    "last_item = last_list[0]\n",
    "print(id(last_item))"
   ]
  },
  {
   "cell_type": "markdown",
   "id": "c30af4e6",
   "metadata": {},
   "source": [
    "*Are the IDs the same, or is a new object created when you assigned the list element to new variable?*"
   ]
  },
  {
   "cell_type": "markdown",
   "id": "417e072f",
   "metadata": {},
   "source": [
    "*The IDs are the same! A new object is NOT created when the element is assigned to a new variable.*"
   ]
  },
  {
   "cell_type": "markdown",
   "id": "4a3df1f0",
   "metadata": {},
   "source": [
    "---"
   ]
  },
  {
   "cell_type": "markdown",
   "id": "954d5cb8",
   "metadata": {},
   "source": [
    "### 11."
   ]
  },
  {
   "cell_type": "markdown",
   "id": "d5aaa23b",
   "metadata": {},
   "source": [
    "Make a `str` variable containing the first 5 letters of the alphabet (e.g. `a2e = 'abcde'`). Check the ID of the second (index = 1) element (the 'b')."
   ]
  },
  {
   "cell_type": "code",
   "execution_count": 37,
   "id": "eb1770d5",
   "metadata": {},
   "outputs": [
    {
     "name": "stdout",
     "output_type": "stream",
     "text": [
      "2040970443568\n",
      "140734325409592\n"
     ]
    }
   ],
   "source": [
    "last_str = 'abcde'\n",
    "print(id(last_str))\n",
    "print(id(last_str[1]))"
   ]
  },
  {
   "cell_type": "markdown",
   "id": "fba510ba",
   "metadata": {},
   "source": [
    "Now make a `str` variable containing the letter 'b'. Check its ID."
   ]
  },
  {
   "cell_type": "code",
   "execution_count": 38,
   "id": "7bd7560d",
   "metadata": {},
   "outputs": [
    {
     "name": "stdout",
     "output_type": "stream",
     "text": [
      "140734324141112\n"
     ]
    }
   ],
   "source": [
    "b = 'b'\n",
    "print(id(b))"
   ]
  },
  {
   "cell_type": "markdown",
   "id": "8484a41a",
   "metadata": {},
   "source": [
    "*What happened?*"
   ]
  },
  {
   "cell_type": "markdown",
   "id": "6320cc38",
   "metadata": {},
   "source": [
    "*The IDs are different, which means a new object was created when we made a string of just the letter 'b'.*"
   ]
  }
 ],
 "metadata": {
  "kernelspec": {
   "display_name": "Python 3 (ipykernel)",
   "language": "python",
   "name": "python3"
  },
  "language_info": {
   "codemirror_mode": {
    "name": "ipython",
    "version": 3
   },
   "file_extension": ".py",
   "mimetype": "text/x-python",
   "name": "python",
   "nbconvert_exporter": "python",
   "pygments_lexer": "ipython3",
   "version": "3.11.4"
  }
 },
 "nbformat": 4,
 "nbformat_minor": 5
}
