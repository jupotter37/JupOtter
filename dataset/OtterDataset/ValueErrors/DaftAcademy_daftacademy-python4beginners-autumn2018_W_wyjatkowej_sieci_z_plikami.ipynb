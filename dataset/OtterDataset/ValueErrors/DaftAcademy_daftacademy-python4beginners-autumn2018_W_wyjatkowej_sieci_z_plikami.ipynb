{
 "cells": [
  {
   "cell_type": "markdown",
   "metadata": {
    "slideshow": {
     "slide_type": "slide"
    }
   },
   "source": [
    "# Wykład 4:\n",
    "# W wyjątkowej sieci z plikami\n",
    "##  wyjątki, praca z plikami, contextmanager\n",
    "# Wojciech Łuszczyński\n",
    "### 20.XI.2018, Daft Academy Python4Beginners"
   ]
  },
  {
   "cell_type": "markdown",
   "metadata": {
    "slideshow": {
     "slide_type": "slide"
    }
   },
   "source": [
    "# 1. Exceptions"
   ]
  },
  {
   "cell_type": "markdown",
   "metadata": {
    "slideshow": {
     "slide_type": "subslide"
    }
   },
   "source": [
    "## Syntax Errors vs Exceptions?"
   ]
  },
  {
   "cell_type": "markdown",
   "metadata": {
    "slideshow": {
     "slide_type": "subslide"
    }
   },
   "source": [
    "### Syntax Errors"
   ]
  },
  {
   "cell_type": "code",
   "execution_count": 1,
   "metadata": {
    "slideshow": {
     "slide_type": "-"
    }
   },
   "outputs": [
    {
     "ename": "SyntaxError",
     "evalue": "invalid syntax (<ipython-input-1-7234bef2bf69>, line 1)",
     "output_type": "error",
     "traceback": [
      "\u001b[0;36m  File \u001b[0;32m\"<ipython-input-1-7234bef2bf69>\"\u001b[0;36m, line \u001b[0;32m1\u001b[0m\n\u001b[0;31m    for i in range(10) print('HELLO')\u001b[0m\n\u001b[0m                           ^\u001b[0m\n\u001b[0;31mSyntaxError\u001b[0m\u001b[0;31m:\u001b[0m invalid syntax\n"
     ]
    }
   ],
   "source": [
    "for i in range(10) print('HELLO')"
   ]
  },
  {
   "cell_type": "markdown",
   "metadata": {
    "slideshow": {
     "slide_type": "subslide"
    }
   },
   "source": [
    "## Syntax Error\n",
    "- błąd interpretera podczasu parsowania skryptu\n",
    "- błąd składniowy\n",
    "- python nie jest w stanie sparsować naszego kodu\n",
    "- domyślnie pythonowy intepreter poda linijkę i miejsce wystąpienia błędu składniowego i przestanie dalej przetwarzać plik\n",
    "\n",
    "https://docs.python.org/3.7/tutorial/errors.html#syntax-errors"
   ]
  },
  {
   "cell_type": "markdown",
   "metadata": {
    "slideshow": {
     "slide_type": "subslide"
    }
   },
   "source": [
    "### Exceptions"
   ]
  },
  {
   "cell_type": "code",
   "execution_count": 2,
   "metadata": {
    "slideshow": {
     "slide_type": "-"
    }
   },
   "outputs": [
    {
     "ename": "ZeroDivisionError",
     "evalue": "division by zero",
     "output_type": "error",
     "traceback": [
      "\u001b[0;31m---------------------------------------------------------------------------\u001b[0m",
      "\u001b[0;31mZeroDivisionError\u001b[0m                         Traceback (most recent call last)",
      "\u001b[0;32m<ipython-input-2-50239462e239>\u001b[0m in \u001b[0;36m<module>\u001b[0;34m\u001b[0m\n\u001b[1;32m      3\u001b[0m \u001b[0mf\u001b[0m\u001b[0;34m.\u001b[0m\u001b[0mwrite\u001b[0m\u001b[0;34m(\u001b[0m\u001b[0;34m'Linia druga\\n'\u001b[0m\u001b[0;34m)\u001b[0m\u001b[0;34m\u001b[0m\u001b[0;34m\u001b[0m\u001b[0m\n\u001b[1;32m      4\u001b[0m \u001b[0mf\u001b[0m\u001b[0;34m.\u001b[0m\u001b[0mwrite\u001b[0m\u001b[0;34m(\u001b[0m\u001b[0;34m'Linia trzecia\\n'\u001b[0m\u001b[0;34m)\u001b[0m\u001b[0;34m\u001b[0m\u001b[0;34m\u001b[0m\u001b[0m\n\u001b[0;32m----> 5\u001b[0;31m \u001b[0mx\u001b[0m \u001b[0;34m=\u001b[0m \u001b[0;36m1\u001b[0m \u001b[0;34m/\u001b[0m \u001b[0;36m0\u001b[0m\u001b[0;34m\u001b[0m\u001b[0;34m\u001b[0m\u001b[0m\n\u001b[0m\u001b[1;32m      6\u001b[0m \u001b[0mf\u001b[0m\u001b[0;34m.\u001b[0m\u001b[0mclose\u001b[0m\u001b[0;34m(\u001b[0m\u001b[0;34m)\u001b[0m\u001b[0;34m\u001b[0m\u001b[0;34m\u001b[0m\u001b[0m\n",
      "\u001b[0;31mZeroDivisionError\u001b[0m: division by zero"
     ]
    }
   ],
   "source": [
    "f = open('test.txt', 'w')\n",
    "f.write('Linia pierwsza\\n')\n",
    "f.write('Linia druga\\n')\n",
    "f.write('Linia trzecia\\n')\n",
    "x = 1 / 0\n",
    "f.close()"
   ]
  },
  {
   "cell_type": "markdown",
   "metadata": {
    "slideshow": {
     "slide_type": "subslide"
    }
   },
   "source": [
    "### Exceptions\n",
    "- błędy w trakcie wykonywania programu\n",
    "- zazwyczaj zwracają jakiś opis błędu\n",
    "- można sobie z nimi radzić\n",
    "\n",
    "\n",
    "- https://docs.python.org/3.7/tutorial/errors.html#exceptions\n",
    "- https://jeffknupp.com/blog/2013/02/06/write-cleaner-python-use-exceptions/"
   ]
  },
  {
   "cell_type": "markdown",
   "metadata": {
    "slideshow": {
     "slide_type": "subslide"
    },
    "toc-hr-collapsed": false
   },
   "source": [
    "## \"Łapanie\" wyjątków"
   ]
  },
  {
   "cell_type": "markdown",
   "metadata": {
    "slideshow": {
     "slide_type": "subslide"
    }
   },
   "source": [
    "### Try Except"
   ]
  },
  {
   "cell_type": "code",
   "execution_count": 3,
   "metadata": {
    "slideshow": {
     "slide_type": "subslide"
    }
   },
   "outputs": [
    {
     "name": "stdout",
     "output_type": "stream",
     "text": [
      "4\n"
     ]
    }
   ],
   "source": [
    "try:\n",
    "    my_int = int('4')\n",
    "    print(my_int)\n",
    "except ValueError:\n",
    "    print('Złapałem value error!')"
   ]
  },
  {
   "cell_type": "markdown",
   "metadata": {
    "slideshow": {
     "slide_type": "-"
    }
   },
   "source": [
    "- Na początek wykonywany jest kod pomiędzy try, a except\n",
    "- Jeżeli nie ma błędu, kod spomiędzy try a except jest wykonany w całości, a kod w except jest pomijany"
   ]
  },
  {
   "cell_type": "code",
   "execution_count": 4,
   "metadata": {
    "slideshow": {
     "slide_type": "subslide"
    }
   },
   "outputs": [
    {
     "name": "stdout",
     "output_type": "stream",
     "text": [
      "Złapałem value error!\n"
     ]
    }
   ],
   "source": [
    "try:\n",
    "    my_int = int('nie int :(')\n",
    "    print(my_int)\n",
    "except ValueError:\n",
    "    print('Złapałem value error!')"
   ]
  },
  {
   "cell_type": "markdown",
   "metadata": {
    "slideshow": {
     "slide_type": "-"
    }
   },
   "source": [
    "- Jeżeli pojawi się błąd, wykonanie kodu spomiędzy try a except jest przerwane\n",
    "- Jeżeli błąd jest łapanego przez nas typu, to wykonywany jest kod w except"
   ]
  },
  {
   "cell_type": "code",
   "execution_count": 5,
   "metadata": {
    "slideshow": {
     "slide_type": "subslide"
    }
   },
   "outputs": [
    {
     "name": "stdout",
     "output_type": "stream",
     "text": [
      "4\n",
      "Dostalem ValueError lub KeyError\n"
     ]
    }
   ],
   "source": [
    "try:\n",
    "    my_int = int('4')\n",
    "    print(my_int)\n",
    "    a = {'b': 'c'}\n",
    "    print(a['d'])\n",
    "except (ValueError, KeyError):  # te nawiasy są ważne!\n",
    "    print('Dostalem ValueError lub KeyError')\n"
   ]
  },
  {
   "cell_type": "markdown",
   "metadata": {
    "slideshow": {
     "slide_type": "fragment"
    }
   },
   "source": [
    "- Można łapać więcej niż jeden wyjątek jednocześnie"
   ]
  },
  {
   "cell_type": "code",
   "execution_count": 6,
   "metadata": {
    "slideshow": {
     "slide_type": "subslide"
    }
   },
   "outputs": [
    {
     "name": "stdout",
     "output_type": "stream",
     "text": [
      "4\n",
      "Złapałem KeyError\n"
     ]
    }
   ],
   "source": [
    "try:\n",
    "    my_int = int('4')\n",
    "    print(my_int)\n",
    "    a = {'b': 'c'}\n",
    "    print(a['d'])\n",
    "except ValueError:\n",
    "    print('Złapałem ValueError')\n",
    "except KeyError:\n",
    "    print('Złapałem KeyError')"
   ]
  },
  {
   "cell_type": "markdown",
   "metadata": {
    "slideshow": {
     "slide_type": "fragment"
    }
   },
   "source": [
    "- Blok Try Except może przyjąc tak dużo Except ile potrzebujemy"
   ]
  },
  {
   "cell_type": "code",
   "execution_count": 7,
   "metadata": {
    "slideshow": {
     "slide_type": "subslide"
    }
   },
   "outputs": [
    {
     "name": "stdout",
     "output_type": "stream",
     "text": [
      "4\n"
     ]
    },
    {
     "ename": "AttributeError",
     "evalue": "'dict' object has no attribute 'append'",
     "output_type": "error",
     "traceback": [
      "\u001b[0;31m---------------------------------------------------------------------------\u001b[0m",
      "\u001b[0;31mAttributeError\u001b[0m                            Traceback (most recent call last)",
      "\u001b[0;32m<ipython-input-7-e385ce99efcb>\u001b[0m in \u001b[0;36m<module>\u001b[0;34m\u001b[0m\n\u001b[1;32m      3\u001b[0m     \u001b[0mprint\u001b[0m\u001b[0;34m(\u001b[0m\u001b[0mmy_int\u001b[0m\u001b[0;34m)\u001b[0m\u001b[0;34m\u001b[0m\u001b[0;34m\u001b[0m\u001b[0m\n\u001b[1;32m      4\u001b[0m     \u001b[0ma\u001b[0m \u001b[0;34m=\u001b[0m \u001b[0;34m{\u001b[0m\u001b[0;34m'b'\u001b[0m\u001b[0;34m:\u001b[0m \u001b[0;34m'c'\u001b[0m\u001b[0;34m}\u001b[0m\u001b[0;34m\u001b[0m\u001b[0;34m\u001b[0m\u001b[0m\n\u001b[0;32m----> 5\u001b[0;31m     \u001b[0mprint\u001b[0m\u001b[0;34m(\u001b[0m\u001b[0ma\u001b[0m\u001b[0;34m.\u001b[0m\u001b[0mappend\u001b[0m\u001b[0;34m(\u001b[0m\u001b[0;34m'my_int'\u001b[0m\u001b[0;34m)\u001b[0m\u001b[0;34m)\u001b[0m\u001b[0;34m\u001b[0m\u001b[0;34m\u001b[0m\u001b[0m\n\u001b[0m\u001b[1;32m      6\u001b[0m \u001b[0;32mexcept\u001b[0m \u001b[0mValueError\u001b[0m\u001b[0;34m:\u001b[0m\u001b[0;34m\u001b[0m\u001b[0;34m\u001b[0m\u001b[0m\n\u001b[1;32m      7\u001b[0m     \u001b[0mprint\u001b[0m\u001b[0;34m(\u001b[0m\u001b[0;34m'Złapałem ValueError'\u001b[0m\u001b[0;34m)\u001b[0m\u001b[0;34m\u001b[0m\u001b[0;34m\u001b[0m\u001b[0m\n",
      "\u001b[0;31mAttributeError\u001b[0m: 'dict' object has no attribute 'append'"
     ]
    }
   ],
   "source": [
    "try:\n",
    "    my_int = int('4')\n",
    "    print(my_int)\n",
    "    a = {'b': 'c'}\n",
    "    print(a.append('my_int'))\n",
    "except ValueError:\n",
    "    print('Złapałem ValueError')\n",
    "except KeyError:\n",
    "    print('Złapałem KeyError')    "
   ]
  },
  {
   "cell_type": "markdown",
   "metadata": {
    "slideshow": {
     "slide_type": "fragment"
    }
   },
   "source": [
    "- Jeżeli wystąpi inny błąd - wyjątek nie jest łapany i program kończy się z takim błędem"
   ]
  },
  {
   "cell_type": "code",
   "execution_count": 8,
   "metadata": {
    "slideshow": {
     "slide_type": "subslide"
    }
   },
   "outputs": [
    {
     "name": "stdout",
     "output_type": "stream",
     "text": [
      "xx {'a': 'b'}\n",
      "Złapałem dowolny błąd\n",
      "******\n",
      "4 {'c': 'd'}\n",
      "Złapałem dowolny błąd\n"
     ]
    }
   ],
   "source": [
    "def fun(my_int, my_dict):\n",
    "    print (my_int, my_dict)\n",
    "    try:\n",
    "        int(my_int)\n",
    "        my_dict['a']\n",
    "    except:\n",
    "        print('Złapałem dowolny błąd')\n",
    "\n",
    "fun('xx', {'a': 'b'})\n",
    "print('******')\n",
    "fun('4', {'c': 'd'})"
   ]
  },
  {
   "cell_type": "markdown",
   "metadata": {
    "slideshow": {
     "slide_type": "fragment"
    }
   },
   "source": [
    "- Możliwe jest łapanie dowolnego rodzaju błędu - używać z rozwagą - zazwyczaj chcemy łapać konkretny błąd.\n",
    "- W ten sposób można łatwo przegapić zwykły błąd programistyczny jak staramy się obsługiwać wszystkie błędy na raz"
   ]
  },
  {
   "cell_type": "markdown",
   "metadata": {
    "slideshow": {
     "slide_type": "subslide"
    }
   },
   "source": [
    "### Wbudowane wyjątki"
   ]
  },
  {
   "cell_type": "markdown",
   "metadata": {
    "slideshow": {
     "slide_type": "fragment"
    }
   },
   "source": [
    "- https://docs.python.org/3.7/library/exceptions.html#bltin-exceptions"
   ]
  },
  {
   "cell_type": "markdown",
   "metadata": {
    "slideshow": {
     "slide_type": "fragment"
    }
   },
   "source": [
    "- wszystkie klasy wyjątków dziedziczą pośrednio lub bezpośrednio z BaseException\n",
    "- w większości przypadków instancje klasy wyjątków dziedziczą z Exception (sprawdź w dokumentacji)\n",
    "- rozbudowana hierarchia błędów - można się uczyć z czasem ;)\n",
    "- warto zobaczyć: https://docs.python.org/3.7/library/exceptions.html#exception-hierarchy"
   ]
  },
  {
   "cell_type": "markdown",
   "metadata": {
    "slideshow": {
     "slide_type": "subslide"
    }
   },
   "source": [
    "## Rzucanie wyjątkiem"
   ]
  },
  {
   "cell_type": "code",
   "execution_count": 9,
   "metadata": {
    "slideshow": {
     "slide_type": "subslide"
    }
   },
   "outputs": [
    {
     "ename": "ValueError",
     "evalue": "Poważny błąd!",
     "output_type": "error",
     "traceback": [
      "\u001b[0;31m---------------------------------------------------------------------------\u001b[0m",
      "\u001b[0;31mValueError\u001b[0m                                Traceback (most recent call last)",
      "\u001b[0;32m<ipython-input-9-f64d36392cbe>\u001b[0m in \u001b[0;36m<module>\u001b[0;34m\u001b[0m\n\u001b[0;32m----> 1\u001b[0;31m \u001b[0;32mraise\u001b[0m \u001b[0mValueError\u001b[0m\u001b[0;34m(\u001b[0m\u001b[0;34m'Poważny błąd!'\u001b[0m\u001b[0;34m)\u001b[0m\u001b[0;34m\u001b[0m\u001b[0;34m\u001b[0m\u001b[0m\n\u001b[0m",
      "\u001b[0;31mValueError\u001b[0m: Poważny błąd!"
     ]
    }
   ],
   "source": [
    "raise ValueError('Poważny błąd!')"
   ]
  },
  {
   "cell_type": "markdown",
   "metadata": {
    "slideshow": {
     "slide_type": "fragment"
    }
   },
   "source": [
    "- Możemy rzucać zarówno instancję wyjątku, jak i klasę"
   ]
  },
  {
   "cell_type": "code",
   "execution_count": 10,
   "metadata": {
    "slideshow": {
     "slide_type": "-"
    }
   },
   "outputs": [
    {
     "ename": "ValueError",
     "evalue": "",
     "output_type": "error",
     "traceback": [
      "\u001b[0;31m---------------------------------------------------------------------------\u001b[0m",
      "\u001b[0;31mValueError\u001b[0m                                Traceback (most recent call last)",
      "\u001b[0;32m<ipython-input-10-e4c8e09828d5>\u001b[0m in \u001b[0;36m<module>\u001b[0;34m\u001b[0m\n\u001b[0;32m----> 1\u001b[0;31m \u001b[0;32mraise\u001b[0m \u001b[0mValueError\u001b[0m\u001b[0;34m\u001b[0m\u001b[0;34m\u001b[0m\u001b[0m\n\u001b[0m",
      "\u001b[0;31mValueError\u001b[0m: "
     ]
    }
   ],
   "source": [
    "raise ValueError"
   ]
  },
  {
   "cell_type": "code",
   "execution_count": 11,
   "metadata": {
    "slideshow": {
     "slide_type": "subslide"
    }
   },
   "outputs": [
    {
     "name": "stdout",
     "output_type": "stream",
     "text": [
      "xx {'a': 'b'}\n",
      "Złapałem ValueError\n"
     ]
    },
    {
     "ename": "ValueError",
     "evalue": "invalid literal for int() with base 10: 'xx'",
     "output_type": "error",
     "traceback": [
      "\u001b[0;31m---------------------------------------------------------------------------\u001b[0m",
      "\u001b[0;31mValueError\u001b[0m                                Traceback (most recent call last)",
      "\u001b[0;32m<ipython-input-11-f76eec9a9539>\u001b[0m in \u001b[0;36m<module>\u001b[0;34m\u001b[0m\n\u001b[1;32m      8\u001b[0m         \u001b[0;32mraise\u001b[0m\u001b[0;34m\u001b[0m\u001b[0;34m\u001b[0m\u001b[0m\n\u001b[1;32m      9\u001b[0m \u001b[0;34m\u001b[0m\u001b[0m\n\u001b[0;32m---> 10\u001b[0;31m \u001b[0mfun\u001b[0m\u001b[0;34m(\u001b[0m\u001b[0;34m'xx'\u001b[0m\u001b[0;34m,\u001b[0m \u001b[0;34m{\u001b[0m\u001b[0;34m'a'\u001b[0m\u001b[0;34m:\u001b[0m \u001b[0;34m'b'\u001b[0m\u001b[0;34m}\u001b[0m\u001b[0;34m)\u001b[0m\u001b[0;34m\u001b[0m\u001b[0;34m\u001b[0m\u001b[0m\n\u001b[0m",
      "\u001b[0;32m<ipython-input-11-f76eec9a9539>\u001b[0m in \u001b[0;36mfun\u001b[0;34m(my_int, my_dict)\u001b[0m\n\u001b[1;32m      2\u001b[0m     \u001b[0mprint\u001b[0m \u001b[0;34m(\u001b[0m\u001b[0mmy_int\u001b[0m\u001b[0;34m,\u001b[0m \u001b[0mmy_dict\u001b[0m\u001b[0;34m)\u001b[0m\u001b[0;34m\u001b[0m\u001b[0;34m\u001b[0m\u001b[0m\n\u001b[1;32m      3\u001b[0m     \u001b[0;32mtry\u001b[0m\u001b[0;34m:\u001b[0m\u001b[0;34m\u001b[0m\u001b[0;34m\u001b[0m\u001b[0m\n\u001b[0;32m----> 4\u001b[0;31m         \u001b[0mint\u001b[0m\u001b[0;34m(\u001b[0m\u001b[0mmy_int\u001b[0m\u001b[0;34m)\u001b[0m\u001b[0;34m\u001b[0m\u001b[0;34m\u001b[0m\u001b[0m\n\u001b[0m\u001b[1;32m      5\u001b[0m         \u001b[0mmy_dict\u001b[0m\u001b[0;34m[\u001b[0m\u001b[0;34m'a'\u001b[0m\u001b[0;34m]\u001b[0m\u001b[0;34m\u001b[0m\u001b[0;34m\u001b[0m\u001b[0m\n\u001b[1;32m      6\u001b[0m     \u001b[0;32mexcept\u001b[0m \u001b[0mValueError\u001b[0m\u001b[0;34m:\u001b[0m\u001b[0;34m\u001b[0m\u001b[0;34m\u001b[0m\u001b[0m\n",
      "\u001b[0;31mValueError\u001b[0m: invalid literal for int() with base 10: 'xx'"
     ]
    }
   ],
   "source": [
    "def fun(my_int, my_dict):\n",
    "    print (my_int, my_dict)\n",
    "    try:\n",
    "        int(my_int)\n",
    "        my_dict['a']\n",
    "    except ValueError:\n",
    "        print('Złapałem ValueError')\n",
    "        raise\n",
    "\n",
    "fun('xx', {'a': 'b'})"
   ]
  },
  {
   "cell_type": "markdown",
   "metadata": {
    "slideshow": {
     "slide_type": "-"
    }
   },
   "source": [
    "- powyższy przykład pokazuje że możemy obsłużyć wyjątek i nadal go \"rzucić\" by np inna część kodu go obsłużyła"
   ]
  },
  {
   "cell_type": "markdown",
   "metadata": {
    "slideshow": {
     "slide_type": "subslide"
    }
   },
   "source": [
    "## Własna definicja klasy wyjątku"
   ]
  },
  {
   "cell_type": "markdown",
   "metadata": {
    "slideshow": {
     "slide_type": "fragment"
    }
   },
   "source": [
    "Definiowanie własnych błędów\n",
    "- błąd powinien dziedziczyć po Exception\n",
    "- zazwyczaj klasy błędów są proste\n",
    "- często, gdy planujemy stworzyć więcej niż jeden błąd, tworzy się wspólną nadklasę dla modułu"
   ]
  },
  {
   "cell_type": "code",
   "execution_count": 12,
   "metadata": {
    "slideshow": {
     "slide_type": "subslide"
    }
   },
   "outputs": [
    {
     "name": "stdout",
     "output_type": "stream",
     "text": [
      "Za malo o 6\n"
     ]
    }
   ],
   "source": [
    "class IncorrectGuessError(Exception):\n",
    "    def __init__(self, difference):\n",
    "        self.difference = difference\n",
    "\n",
    "class NumberTooSmall(IncorrectGuessError):\n",
    "    pass\n",
    "\n",
    "class NumberTooBig(IncorrectGuessError):\n",
    "    pass\n",
    "\n",
    "def guess_number(guess):\n",
    "    number = 10\n",
    "    if guess > number:\n",
    "        raise NumberToBig(guess - number)\n",
    "    elif guess < number:\n",
    "        raise NumberTooSmall(number - guess)\n",
    "    else:\n",
    "        print('Brawo')\n",
    "try:\n",
    "    guess_number(4)\n",
    "except NumberTooSmall as exc:\n",
    "    print('Za malo o {}'.format(exc.difference))\n",
    "except NumberTooBig:\n",
    "    print('Za duzo o {}'.format(exc.difference))"
   ]
  },
  {
   "cell_type": "markdown",
   "metadata": {
    "slideshow": {
     "slide_type": "subslide"
    }
   },
   "source": [
    "Dzięki instrukcji `else` możemy wykonać jakiś kod TYLKO wtedy, gdy kod w bloku `try` wykona się bez błędu"
   ]
  },
  {
   "cell_type": "code",
   "execution_count": 13,
   "metadata": {
    "slideshow": {
     "slide_type": "subslide"
    }
   },
   "outputs": [
    {
     "name": "stdout",
     "output_type": "stream",
     "text": [
      "4 {'a': 'b'}\n",
      "Bez błędu!\n",
      "x {'c': 'd'}\n",
      "Złapałem błąd\n",
      "4 {'c': 'd'}\n"
     ]
    },
    {
     "ename": "KeyError",
     "evalue": "'a'",
     "output_type": "error",
     "traceback": [
      "\u001b[0;31m---------------------------------------------------------------------------\u001b[0m",
      "\u001b[0;31mKeyError\u001b[0m                                  Traceback (most recent call last)",
      "\u001b[0;32m<ipython-input-13-1123807c62ed>\u001b[0m in \u001b[0;36m<module>\u001b[0;34m\u001b[0m\n\u001b[1;32m     11\u001b[0m \u001b[0mfun\u001b[0m\u001b[0;34m(\u001b[0m\u001b[0;34m'4'\u001b[0m\u001b[0;34m,\u001b[0m \u001b[0;34m{\u001b[0m\u001b[0;34m'a'\u001b[0m\u001b[0;34m:\u001b[0m \u001b[0;34m'b'\u001b[0m\u001b[0;34m}\u001b[0m\u001b[0;34m)\u001b[0m\u001b[0;34m\u001b[0m\u001b[0;34m\u001b[0m\u001b[0m\n\u001b[1;32m     12\u001b[0m \u001b[0mfun\u001b[0m\u001b[0;34m(\u001b[0m\u001b[0;34m'x'\u001b[0m\u001b[0;34m,\u001b[0m \u001b[0;34m{\u001b[0m\u001b[0;34m'c'\u001b[0m\u001b[0;34m:\u001b[0m \u001b[0;34m'd'\u001b[0m\u001b[0;34m}\u001b[0m\u001b[0;34m)\u001b[0m\u001b[0;34m\u001b[0m\u001b[0;34m\u001b[0m\u001b[0m\n\u001b[0;32m---> 13\u001b[0;31m \u001b[0mfun\u001b[0m\u001b[0;34m(\u001b[0m\u001b[0;34m'4'\u001b[0m\u001b[0;34m,\u001b[0m \u001b[0;34m{\u001b[0m\u001b[0;34m'c'\u001b[0m\u001b[0;34m:\u001b[0m \u001b[0;34m'd'\u001b[0m\u001b[0;34m}\u001b[0m\u001b[0;34m)\u001b[0m\u001b[0;34m\u001b[0m\u001b[0;34m\u001b[0m\u001b[0m\n\u001b[0m",
      "\u001b[0;32m<ipython-input-13-1123807c62ed>\u001b[0m in \u001b[0;36mfun\u001b[0;34m(my_int, my_dict)\u001b[0m\n\u001b[1;32m      3\u001b[0m     \u001b[0;32mtry\u001b[0m\u001b[0;34m:\u001b[0m\u001b[0;34m\u001b[0m\u001b[0;34m\u001b[0m\u001b[0m\n\u001b[1;32m      4\u001b[0m         \u001b[0mint\u001b[0m\u001b[0;34m(\u001b[0m\u001b[0mmy_int\u001b[0m\u001b[0;34m)\u001b[0m\u001b[0;34m\u001b[0m\u001b[0;34m\u001b[0m\u001b[0m\n\u001b[0;32m----> 5\u001b[0;31m         \u001b[0mmy_dict\u001b[0m\u001b[0;34m[\u001b[0m\u001b[0;34m'a'\u001b[0m\u001b[0;34m]\u001b[0m\u001b[0;34m\u001b[0m\u001b[0;34m\u001b[0m\u001b[0m\n\u001b[0m\u001b[1;32m      6\u001b[0m     \u001b[0;32mexcept\u001b[0m \u001b[0mValueError\u001b[0m\u001b[0;34m:\u001b[0m\u001b[0;34m\u001b[0m\u001b[0;34m\u001b[0m\u001b[0m\n\u001b[1;32m      7\u001b[0m         \u001b[0mprint\u001b[0m\u001b[0;34m(\u001b[0m\u001b[0;34m'Złapałem błąd'\u001b[0m\u001b[0;34m)\u001b[0m\u001b[0;34m\u001b[0m\u001b[0;34m\u001b[0m\u001b[0m\n",
      "\u001b[0;31mKeyError\u001b[0m: 'a'"
     ]
    }
   ],
   "source": [
    "def fun(my_int, my_dict):\n",
    "    print (my_int, my_dict)\n",
    "    try:\n",
    "        int(my_int)\n",
    "        my_dict['a']\n",
    "    except ValueError:\n",
    "        print('Złapałem błąd')\n",
    "    else:\n",
    "        print('Bez błędu!')\n",
    "fun('4', {'a': 'b'})\n",
    "fun('x', {'c': 'd'})\n",
    "fun('4', {'c': 'd'})"
   ]
  },
  {
   "cell_type": "markdown",
   "metadata": {
    "slideshow": {
     "slide_type": "subslide"
    }
   },
   "source": [
    "Kod, który chcemy żeby wykonał się zawsze umieszczamy w bloku `finally`"
   ]
  },
  {
   "cell_type": "code",
   "execution_count": 14,
   "metadata": {
    "slideshow": {
     "slide_type": "subslide"
    }
   },
   "outputs": [
    {
     "name": "stdout",
     "output_type": "stream",
     "text": [
      "4 {'a': 'b'}\n",
      "Bez błędu!\n",
      "********************************************************************************\n",
      "x {'c': 'd'}\n",
      "Złapałem błąd\n",
      "********************************************************************************\n",
      "4 {'c': 'd'}\n",
      "********************************************************************************\n"
     ]
    },
    {
     "ename": "KeyError",
     "evalue": "'a'",
     "output_type": "error",
     "traceback": [
      "\u001b[0;31m---------------------------------------------------------------------------\u001b[0m",
      "\u001b[0;31mKeyError\u001b[0m                                  Traceback (most recent call last)",
      "\u001b[0;32m<ipython-input-14-9bc3e8465632>\u001b[0m in \u001b[0;36m<module>\u001b[0;34m\u001b[0m\n\u001b[1;32m     13\u001b[0m \u001b[0mfun\u001b[0m\u001b[0;34m(\u001b[0m\u001b[0;34m'4'\u001b[0m\u001b[0;34m,\u001b[0m \u001b[0;34m{\u001b[0m\u001b[0;34m'a'\u001b[0m\u001b[0;34m:\u001b[0m \u001b[0;34m'b'\u001b[0m\u001b[0;34m}\u001b[0m\u001b[0;34m)\u001b[0m\u001b[0;34m\u001b[0m\u001b[0;34m\u001b[0m\u001b[0m\n\u001b[1;32m     14\u001b[0m \u001b[0mfun\u001b[0m\u001b[0;34m(\u001b[0m\u001b[0;34m'x'\u001b[0m\u001b[0;34m,\u001b[0m \u001b[0;34m{\u001b[0m\u001b[0;34m'c'\u001b[0m\u001b[0;34m:\u001b[0m \u001b[0;34m'd'\u001b[0m\u001b[0;34m}\u001b[0m\u001b[0;34m)\u001b[0m\u001b[0;34m\u001b[0m\u001b[0;34m\u001b[0m\u001b[0m\n\u001b[0;32m---> 15\u001b[0;31m \u001b[0mfun\u001b[0m\u001b[0;34m(\u001b[0m\u001b[0;34m'4'\u001b[0m\u001b[0;34m,\u001b[0m \u001b[0;34m{\u001b[0m\u001b[0;34m'c'\u001b[0m\u001b[0;34m:\u001b[0m \u001b[0;34m'd'\u001b[0m\u001b[0;34m}\u001b[0m\u001b[0;34m)\u001b[0m\u001b[0;34m\u001b[0m\u001b[0;34m\u001b[0m\u001b[0m\n\u001b[0m",
      "\u001b[0;32m<ipython-input-14-9bc3e8465632>\u001b[0m in \u001b[0;36mfun\u001b[0;34m(my_int, my_dict)\u001b[0m\n\u001b[1;32m      3\u001b[0m     \u001b[0;32mtry\u001b[0m\u001b[0;34m:\u001b[0m\u001b[0;34m\u001b[0m\u001b[0;34m\u001b[0m\u001b[0m\n\u001b[1;32m      4\u001b[0m         \u001b[0mint\u001b[0m\u001b[0;34m(\u001b[0m\u001b[0mmy_int\u001b[0m\u001b[0;34m)\u001b[0m\u001b[0;34m\u001b[0m\u001b[0;34m\u001b[0m\u001b[0m\n\u001b[0;32m----> 5\u001b[0;31m         \u001b[0mmy_dict\u001b[0m\u001b[0;34m[\u001b[0m\u001b[0;34m'a'\u001b[0m\u001b[0;34m]\u001b[0m\u001b[0;34m\u001b[0m\u001b[0;34m\u001b[0m\u001b[0m\n\u001b[0m\u001b[1;32m      6\u001b[0m     \u001b[0;32mexcept\u001b[0m \u001b[0mValueError\u001b[0m\u001b[0;34m:\u001b[0m\u001b[0;34m\u001b[0m\u001b[0;34m\u001b[0m\u001b[0m\n\u001b[1;32m      7\u001b[0m         \u001b[0mprint\u001b[0m\u001b[0;34m(\u001b[0m\u001b[0;34m'Złapałem błąd'\u001b[0m\u001b[0;34m)\u001b[0m\u001b[0;34m\u001b[0m\u001b[0;34m\u001b[0m\u001b[0m\n",
      "\u001b[0;31mKeyError\u001b[0m: 'a'"
     ]
    }
   ],
   "source": [
    "def fun(my_int, my_dict):\n",
    "    print (my_int, my_dict)\n",
    "    try:\n",
    "        int(my_int)\n",
    "        my_dict['a']\n",
    "    except ValueError:\n",
    "        print('Złapałem błąd')\n",
    "    else:\n",
    "        print('Bez błędu!')\n",
    "    finally:\n",
    "        print('*' * 80)\n",
    "fun('4', {'a': 'b'})\n",
    "fun('x', {'c': 'd'})\n",
    "fun('4', {'c': 'd'})"
   ]
  },
  {
   "cell_type": "markdown",
   "metadata": {
    "slideshow": {
     "slide_type": "subslide"
    }
   },
   "source": [
    "kod w bloku `finally` wykonuje się zawsze\n",
    "- nie zależnie od tego czy wyjątek był obsłużony czy nie\n",
    "- wykona się nawet jeśli w `try`, `except`, `else` nastąpi `return` lub `break`\n",
    "- jeśli wyjątek nie jest obsłużony `finally` po wykonaniu kodu w swoim bloku rzuci ponownie tym samym wyjątkiem"
   ]
  },
  {
   "cell_type": "markdown",
   "metadata": {
    "slideshow": {
     "slide_type": "slide"
    }
   },
   "source": [
    "# 2. Pliki"
   ]
  },
  {
   "cell_type": "code",
   "execution_count": 15,
   "metadata": {
    "slideshow": {
     "slide_type": "subslide"
    }
   },
   "outputs": [],
   "source": [
    "f = open('test.txt', 'w')\n",
    "f.write('Linia pierwsza\\n')\n",
    "f.write('Linia druga\\n')\n",
    "f.write('Linia trzecia\\n')\n",
    "f.close()"
   ]
  },
  {
   "cell_type": "markdown",
   "metadata": {
    "slideshow": {
     "slide_type": "fragment"
    },
    "toc-hr-collapsed": false
   },
   "source": [
    "## Otwieranie pliku:\n",
    "- przyjmuje relatywną lub absolutną ścieżkę do pliku który otwieramy\n",
    "- reszta argumentów jest opcjonalna, często używa się argumentu mode\n",
    "- mode określa w jakim trybie otwieramy plik\n",
    "- dostępne tryby: 'r' (read), 'w' (write), 'a' (append), 'r+' (read+write)\n",
    "- domyślny tryb to 'r' (read)\n",
    "- write nadpisuje plik, append dodaje do końca\n",
    "- mode określa dodatkowo tryb tekstowy ('t' - domyślnie) lub binarny ('b')\n",
    "- zwraca obiekt pliku\n",
    "- domyślne kodowanie tekstu w trybie tekstowym to UTF-8"
   ]
  },
  {
   "cell_type": "markdown",
   "metadata": {
    "slideshow": {
     "slide_type": "subslide"
    }
   },
   "source": [
    "## Przydatne linki\n",
    "\n",
    "- https://docs.python.org/3/tutorial/inputoutput.html#reading-and-writing-files\n",
    "- https://docs.python.org/3/library/functions.html#open\n",
    "- https://docs.python.org/3/glossary.html#term-file-object\n"
   ]
  },
  {
   "cell_type": "markdown",
   "metadata": {
    "slideshow": {
     "slide_type": "subslide"
    }
   },
   "source": [
    "## Zamykanie pliku:\n",
    "- metoda close dostępna jest na obiekcie pliku\n",
    "- CPython dzięki garbage collectorowi z licznikiem referencji sam zadba o zamknięcie pliku\n",
    "- mimo tego powinniśmy ZAWSZE zadbać o to sami - to, że CPython zamknie plik to szczegół tej implementacji, część innych implementacji tego nie zapewnia"
   ]
  },
  {
   "cell_type": "markdown",
   "metadata": {
    "slideshow": {
     "slide_type": "subslide"
    }
   },
   "source": [
    "## Dlaczego nie można zostawić otwartego pliku?\n",
    "- wpisane przez nas zmiany mogą nie zostać sflushowane na dysk (zależne od implementacji - flush zapewnia, że dane z bufora zapisują się na dysku)\n",
    "- systemy operacyjne mają limit otwartych plików - możemy dostać wyjątek w przypadku otwarcia zbyt dużej liczby plików\n",
    "- czasami niezamknięty plik uniemożliwia odmontowanie, wyjęcie jakiegoś nośnika danych\n"
   ]
  },
  {
   "cell_type": "markdown",
   "metadata": {
    "slideshow": {
     "slide_type": "subslide"
    }
   },
   "source": [
    "### Przydatne linki:\n",
    "- https://stackoverflow.com/questions/3167494/how-often-does-python-flush-to-a-file\n",
    "- https://askubuntu.com/questions/701491/is-closing-a-file-after-having-opened-it-with-open-required-in-python"
   ]
  },
  {
   "cell_type": "code",
   "execution_count": 16,
   "metadata": {
    "slideshow": {
     "slide_type": "subslide"
    }
   },
   "outputs": [
    {
     "ename": "ZeroDivisionError",
     "evalue": "division by zero",
     "output_type": "error",
     "traceback": [
      "\u001b[0;31m---------------------------------------------------------------------------\u001b[0m",
      "\u001b[0;31mZeroDivisionError\u001b[0m                         Traceback (most recent call last)",
      "\u001b[0;32m<ipython-input-16-50239462e239>\u001b[0m in \u001b[0;36m<module>\u001b[0;34m\u001b[0m\n\u001b[1;32m      3\u001b[0m \u001b[0mf\u001b[0m\u001b[0;34m.\u001b[0m\u001b[0mwrite\u001b[0m\u001b[0;34m(\u001b[0m\u001b[0;34m'Linia druga\\n'\u001b[0m\u001b[0;34m)\u001b[0m\u001b[0;34m\u001b[0m\u001b[0;34m\u001b[0m\u001b[0m\n\u001b[1;32m      4\u001b[0m \u001b[0mf\u001b[0m\u001b[0;34m.\u001b[0m\u001b[0mwrite\u001b[0m\u001b[0;34m(\u001b[0m\u001b[0;34m'Linia trzecia\\n'\u001b[0m\u001b[0;34m)\u001b[0m\u001b[0;34m\u001b[0m\u001b[0;34m\u001b[0m\u001b[0m\n\u001b[0;32m----> 5\u001b[0;31m \u001b[0mx\u001b[0m \u001b[0;34m=\u001b[0m \u001b[0;36m1\u001b[0m \u001b[0;34m/\u001b[0m \u001b[0;36m0\u001b[0m\u001b[0;34m\u001b[0m\u001b[0;34m\u001b[0m\u001b[0m\n\u001b[0m\u001b[1;32m      6\u001b[0m \u001b[0mf\u001b[0m\u001b[0;34m.\u001b[0m\u001b[0mclose\u001b[0m\u001b[0;34m(\u001b[0m\u001b[0;34m)\u001b[0m\u001b[0;34m\u001b[0m\u001b[0;34m\u001b[0m\u001b[0m\n",
      "\u001b[0;31mZeroDivisionError\u001b[0m: division by zero"
     ]
    }
   ],
   "source": [
    "f = open('test.txt', 'w')\n",
    "f.write('Linia pierwsza\\n')\n",
    "f.write('Linia druga\\n')\n",
    "f.write('Linia trzecia\\n')\n",
    "x = 1 / 0\n",
    "f.close()"
   ]
  },
  {
   "cell_type": "code",
   "execution_count": 17,
   "metadata": {
    "slideshow": {
     "slide_type": "subslide"
    }
   },
   "outputs": [
    {
     "name": "stdout",
     "output_type": "stream",
     "text": [
      "Zamykam plik\n",
      "Plik zamkniety\n"
     ]
    },
    {
     "ename": "ZeroDivisionError",
     "evalue": "division by zero",
     "output_type": "error",
     "traceback": [
      "\u001b[0;31m---------------------------------------------------------------------------\u001b[0m",
      "\u001b[0;31mZeroDivisionError\u001b[0m                         Traceback (most recent call last)",
      "\u001b[0;32m<ipython-input-17-016b748dc8e7>\u001b[0m in \u001b[0;36m<module>\u001b[0;34m\u001b[0m\n\u001b[1;32m      4\u001b[0m     \u001b[0mf\u001b[0m\u001b[0;34m.\u001b[0m\u001b[0mwrite\u001b[0m\u001b[0;34m(\u001b[0m\u001b[0;34m'Linia druga\\n'\u001b[0m\u001b[0;34m)\u001b[0m\u001b[0;34m\u001b[0m\u001b[0;34m\u001b[0m\u001b[0m\n\u001b[1;32m      5\u001b[0m     \u001b[0mf\u001b[0m\u001b[0;34m.\u001b[0m\u001b[0mwrite\u001b[0m\u001b[0;34m(\u001b[0m\u001b[0;34m'Linia trzecia\\n'\u001b[0m\u001b[0;34m)\u001b[0m\u001b[0;34m\u001b[0m\u001b[0;34m\u001b[0m\u001b[0m\n\u001b[0;32m----> 6\u001b[0;31m     \u001b[0mx\u001b[0m \u001b[0;34m=\u001b[0m \u001b[0;36m1\u001b[0m \u001b[0;34m/\u001b[0m \u001b[0;36m0\u001b[0m\u001b[0;34m\u001b[0m\u001b[0;34m\u001b[0m\u001b[0m\n\u001b[0m\u001b[1;32m      7\u001b[0m \u001b[0;32mfinally\u001b[0m\u001b[0;34m:\u001b[0m\u001b[0;34m\u001b[0m\u001b[0;34m\u001b[0m\u001b[0m\n\u001b[1;32m      8\u001b[0m     \u001b[0mprint\u001b[0m\u001b[0;34m(\u001b[0m\u001b[0;34m'Zamykam plik'\u001b[0m\u001b[0;34m)\u001b[0m\u001b[0;34m\u001b[0m\u001b[0;34m\u001b[0m\u001b[0m\n",
      "\u001b[0;31mZeroDivisionError\u001b[0m: division by zero"
     ]
    }
   ],
   "source": [
    "try:\n",
    "    f = open('test.txt', 'w')\n",
    "    f.write('Linia pierwsza\\n')\n",
    "    f.write('Linia druga\\n')\n",
    "    f.write('Linia trzecia\\n')\n",
    "    x = 1 / 0\n",
    "finally:\n",
    "    print('Zamykam plik')\n",
    "    f.close()\n",
    "    print('Plik zamkniety')"
   ]
  },
  {
   "cell_type": "markdown",
   "metadata": {
    "slideshow": {
     "slide_type": "subslide"
    }
   },
   "source": [
    "O zamknięcie pliku da się zadbać łatwiej"
   ]
  },
  {
   "cell_type": "code",
   "execution_count": null,
   "metadata": {
    "slideshow": {
     "slide_type": "subslide"
    }
   },
   "outputs": [],
   "source": [
    "with open('test.txt', 'w') as f:\n",
    "    f.write('Linia pierwsza\\n')\n",
    "    f.write('Linia druga\\n')\n",
    "    f.write('Linia trzecia\\n')\n",
    "    x = 1 / 0"
   ]
  },
  {
   "cell_type": "markdown",
   "metadata": {
    "slideshow": {
     "slide_type": "slide"
    }
   },
   "source": [
    "# 3. Context Manager"
   ]
  },
  {
   "cell_type": "markdown",
   "metadata": {
    "slideshow": {
     "slide_type": "subslide"
    }
   },
   "source": [
    "## contextmanager\n",
    "\n",
    "- obiekt, który definiuje w jakim kontekście ma się wywołać owijany kod\n",
    "- określa, co ma się wykonać przed i po wykonaniu bloku kodu owijanego\n",
    "- zazwyczaj wywoływane ze pomocą `with`, ale da się też bezpośrednio wywołać poszczególne metody\n",
    "- przykłady użycia: zamykanie otwartych plików, zwalnianie zasobów/locków, przywracanie jakeigoś globalnego stanu\n",
    "\n",
    "\n",
    "- https://docs.python.org/3/reference/datamodel.html#context-managers\n",
    "- https://docs.python.org/3/library/stdtypes.html#typecontextmanager"
   ]
  },
  {
   "cell_type": "markdown",
   "metadata": {
    "slideshow": {
     "slide_type": "subslide"
    }
   },
   "source": [
    "## with\n",
    "\n",
    "- `with` jest używane do owinięcia bloku kodu za pomocą metod określonych w context managerze\n",
    "- używane do zarządzania zasobami w danym bloku\n",
    "- da się dzięki temu ładnie owinąć `try`...`except`...`finally`\n",
    "\n",
    "\n",
    "- https://docs.python.org/3/reference/compound_stmts.html#with\n",
    "- https://www.python.org/dev/peps/pep-0343/"
   ]
  },
  {
   "cell_type": "code",
   "execution_count": 18,
   "metadata": {
    "slideshow": {
     "slide_type": "subslide"
    }
   },
   "outputs": [
    {
     "ename": "ValueError",
     "evalue": "I/O operation on closed file.",
     "output_type": "error",
     "traceback": [
      "\u001b[0;31m---------------------------------------------------------------------------\u001b[0m",
      "\u001b[0;31mValueError\u001b[0m                                Traceback (most recent call last)",
      "\u001b[0;32m<ipython-input-18-e86e0da938d7>\u001b[0m in \u001b[0;36m<module>\u001b[0;34m\u001b[0m\n\u001b[1;32m      2\u001b[0m     \u001b[0mf\u001b[0m\u001b[0;34m.\u001b[0m\u001b[0mwrite\u001b[0m\u001b[0;34m(\u001b[0m\u001b[0;34m'Linia pierwsza\\n'\u001b[0m\u001b[0;34m)\u001b[0m\u001b[0;34m\u001b[0m\u001b[0;34m\u001b[0m\u001b[0m\n\u001b[1;32m      3\u001b[0m     \u001b[0mf\u001b[0m\u001b[0;34m.\u001b[0m\u001b[0mwrite\u001b[0m\u001b[0;34m(\u001b[0m\u001b[0;34m'Linia druga\\n'\u001b[0m\u001b[0;34m)\u001b[0m\u001b[0;34m\u001b[0m\u001b[0;34m\u001b[0m\u001b[0m\n\u001b[0;32m----> 4\u001b[0;31m \u001b[0mf\u001b[0m\u001b[0;34m.\u001b[0m\u001b[0mwrite\u001b[0m\u001b[0;34m(\u001b[0m\u001b[0;34m'Linia trzecia\\n'\u001b[0m\u001b[0;34m)\u001b[0m\u001b[0;34m\u001b[0m\u001b[0;34m\u001b[0m\u001b[0m\n\u001b[0m",
      "\u001b[0;31mValueError\u001b[0m: I/O operation on closed file."
     ]
    }
   ],
   "source": [
    "with open('test.txt', 'w') as f:\n",
    "    f.write('Linia pierwsza\\n')\n",
    "    f.write('Linia druga\\n')\n",
    "f.write('Linia trzecia\\n')"
   ]
  },
  {
   "cell_type": "markdown",
   "metadata": {
    "slideshow": {
     "slide_type": "slide"
    }
   },
   "source": [
    "# 4. Pracy z plikami ciąg dalszy"
   ]
  },
  {
   "cell_type": "markdown",
   "metadata": {
    "slideshow": {
     "slide_type": "subslide"
    }
   },
   "source": [
    "# Rozwiążmy zadanie rekrutacyjne w pythonie\n",
    "\n",
    "Jesteś pracownikiem firmy ConfWorld.\n",
    "Twoja firma zajmuje się organizowaniem konferencji na całym świecie.\n",
    "Dostałes plik z danymi (CSV) o przeszłych konferencjach powiązanych z pewnymi językami programowania.\n",
    "W pierwszym wierszu, w każdej kolumnie masz podany numer konferencji i nazwę języka programowania, którego dotyczyła.\n",
    "W kolejnych wierszach w każdej kolumnie masz podanych uczestników każdej konferencji wraz z zyskiem jaki przynieśli firmie ConfWorld."
   ]
  },
  {
   "cell_type": "markdown",
   "metadata": {
    "slideshow": {
     "slide_type": "subslide"
    }
   },
   "source": [
    "Wiesz, że każdy uczestnik ma adres email w formie:\n",
    "- `aaaaaa@bbbbb.cc`\n",
    "- gdzie:\n",
    "- `aaaaaa` - login\n",
    "- `bbbbb` - domena firmy w jakiej pracuje uczestnik\n",
    "- `cc` - kraj zamieszkania uczestnika\n",
    "- długość pól a, b, nie jest stała.\n",
    "\n",
    "maile zapisaną są w formacie takim że:\n",
    "- `ala@xyz.pl` i `ala@xyz.at` reprezentują dwie różne osoby.\n",
    "\n",
    "Z powodów takich jak różne kanały sprzedaży, termin zakupu wejściówek, przewalutowań i innych prawie każdy uczestnik danej konferencji przyniósł firmie ConfWorld inny zysk."
   ]
  },
  {
   "cell_type": "markdown",
   "metadata": {
    "slideshow": {
     "slide_type": "subslide"
    }
   },
   "source": [
    "### 1. O którym języku programowania zorganizowano najwiecej konferencji?\n",
    "### 2. Ile różnych osób uczestniczyło w sumie we wszystkich konferencjach o języku Python?\n",
    "### 3. Który język programowania okazał sie najbardziej dochodowy?\n",
    "### 4. Mieszkańcy, którego kraju zapłacili najwięcej za wstęp na wszystkie konferencje?"
   ]
  },
  {
   "cell_type": "code",
   "execution_count": 19,
   "metadata": {
    "slideshow": {
     "slide_type": "subslide"
    }
   },
   "outputs": [],
   "source": [
    "from collections import defaultdict\n",
    "\n",
    "def get_data(filename):\n",
    "    rows = list()\n",
    "    dane = dict()\n",
    "    with open(filename, \"r\") as f:\n",
    "        # read headers and make them usefull for future use\n",
    "        headers = f.readline().strip('\\n').split(\";\")\n",
    "        for i in range(0, len(headers)):\n",
    "            # example: \"konferencja 0 (Ruby)\" -> ('0', 'ruby')\n",
    "            headers[i] = tuple(headers[i].lower().strip(') ').replace('(', '').split(' ')[1:])\n",
    "        # read all lines\n",
    "        for line in f:\n",
    "            rows.append(line.strip(') \\n').split(\";\"))\n",
    "        # change CSV lines representation into columns of data per header\n",
    "        for i in range(0, len(headers)):\n",
    "            # columns are not equally filled with data so filter out empty cells\n",
    "            dane[headers[i]] = list(filter(lambda g: len(g), [y[i] for y in rows]))\n",
    "    return dane\n",
    "data = get_data(\"../zadanie_rekrutacyjne/dane.csv\")"
   ]
  },
  {
   "cell_type": "code",
   "execution_count": 20,
   "metadata": {
    "slideshow": {
     "slide_type": "subslide"
    }
   },
   "outputs": [
    {
     "name": "stdout",
     "output_type": "stream",
     "text": [
      "1: java\n"
     ]
    }
   ],
   "source": [
    "# 1. O którym języku programowania zorganizowano najwiecej konferencji?\n",
    "\n",
    "def task_1(data):\n",
    "    headers = [x[1] for x in data.keys()]\n",
    "    langs = defaultdict(int)\n",
    "    for x in headers:\n",
    "        langs[x] = headers.count(x)\n",
    "    return max(langs.keys(), key=(lambda key: langs[key]))\n",
    "print(\"1:\", task_1(data))\n"
   ]
  },
  {
   "cell_type": "code",
   "execution_count": 21,
   "metadata": {
    "slideshow": {
     "slide_type": "subslide"
    }
   },
   "outputs": [
    {
     "name": "stdout",
     "output_type": "stream",
     "text": [
      "2: 1868\n"
     ]
    }
   ],
   "source": [
    "# 2. Ile różnych osób uczestniczyło w sumie we wszystkich konferencjach o języku Python?\n",
    "\n",
    "def task_2(data):\n",
    "    # adding to set wont create duplicates\n",
    "    python_participants = set()\n",
    "    for key, val in data.items():\n",
    "        if 'python' == key[1]:\n",
    "            for pp in val:\n",
    "                python_participants.add(pp.split('/')[0])\n",
    "\n",
    "    return len(python_participants)\n",
    "print(\"2:\", task_2(data))"
   ]
  },
  {
   "cell_type": "code",
   "execution_count": 22,
   "metadata": {
    "slideshow": {
     "slide_type": "subslide"
    }
   },
   "outputs": [
    {
     "name": "stdout",
     "output_type": "stream",
     "text": [
      "3: java\n"
     ]
    }
   ],
   "source": [
    "# 3. Który język programowania okazał sie najbardziej dochodowy?\n",
    "\n",
    "def task_3(data):\n",
    "    # defaultdict(int) is initializes with 0\n",
    "    revenue = defaultdict(int)\n",
    "    for key, val in data.items():\n",
    "        x = key[1]\n",
    "        for y in val:\n",
    "            revenue[x] += int(y.split('/')[1]) \n",
    "    \n",
    "    # nice way to get MAX from dict, just implement the KEY getter\n",
    "    return max(revenue.keys(), key=(lambda key: revenue[key]))\n",
    "\n",
    "print(\"3:\", task_3(data))"
   ]
  },
  {
   "cell_type": "code",
   "execution_count": 23,
   "metadata": {
    "slideshow": {
     "slide_type": "subslide"
    }
   },
   "outputs": [
    {
     "name": "stdout",
     "output_type": "stream",
     "text": [
      "5: sm\n"
     ]
    }
   ],
   "source": [
    "# 4. Mieszkańcy, którego kraju zapłacili najwięcej za wstęp na wszystkie konferencje?\n",
    "\n",
    "def task_5(data):\n",
    "    countries = defaultdict(int)\n",
    "    for val in data.values():\n",
    "        for y in val:\n",
    "            mail, greens = y.split('/')\n",
    "            country = mail.split('@')[1].split('.')[1]\n",
    "            countries[country] += int(greens)\n",
    "    return max(countries.keys(), key=(lambda key: countries[key]))\n",
    "\n",
    "print(\"5:\", task_5(data))"
   ]
  },
  {
   "cell_type": "markdown",
   "metadata": {
    "slideshow": {
     "slide_type": "slide"
    }
   },
   "source": [
    "# 5. Praca z plikami w trybie binarnym"
   ]
  },
  {
   "cell_type": "code",
   "execution_count": 24,
   "metadata": {
    "slideshow": {
     "slide_type": "subslide"
    }
   },
   "outputs": [
    {
     "name": "stdout",
     "output_type": "stream",
     "text": [
      "<class 'bytes'>\n"
     ]
    }
   ],
   "source": [
    "with open('p4b_logo.bmp', 'rb') as fr:\n",
    "    data = fr.read()\n",
    "    print(type(data))\n",
    "with open('copy_p4b_logo.bmp', 'wb') as fw:\n",
    "    fw.write(data)"
   ]
  },
  {
   "cell_type": "markdown",
   "metadata": {
    "slideshow": {
     "slide_type": "fragment"
    }
   },
   "source": [
    "- tryb otwarcia pliku z 'b' na końcu\n",
    "- umożliwia pracę z plikami niezawierającymi tekstu"
   ]
  },
  {
   "cell_type": "markdown",
   "metadata": {
    "slideshow": {
     "slide_type": "subslide"
    }
   },
   "source": [
    "Przydatne funkcje\n",
    "- seek - ustawia aktualną pozycję wskaźnika pozycji w pliku na wybraną\n",
    "- tell - zwraca aktualną pozycję wskaźnika w pliku"
   ]
  },
  {
   "cell_type": "code",
   "execution_count": 25,
   "metadata": {
    "slideshow": {
     "slide_type": "fragment"
    }
   },
   "outputs": [
    {
     "name": "stdout",
     "output_type": "stream",
     "text": [
      "0\n",
      "10\n",
      "0\n",
      "100\n"
     ]
    }
   ],
   "source": [
    "with open('p4b_logo.bmp', 'rb') as fr:\n",
    "    print(fr.tell())\n",
    "    ten_bytes = fr.read(10)\n",
    "    print(fr.tell())\n",
    "    fr.seek(0)\n",
    "    print(fr.tell())\n",
    "    fr.seek(100)\n",
    "    print(fr.tell())"
   ]
  },
  {
   "cell_type": "markdown",
   "metadata": {
    "slideshow": {
     "slide_type": "subslide"
    }
   },
   "source": [
    "## bytes\n",
    "- wczytywane dane binarne są typu bytes - niezmiennej sekwencji 8-bitowych wartości (0-255)\n",
    "\n",
    "\n",
    "## bytearray\n",
    "- zmienna (mutowalna) wersja bytes\n",
    "- jeżeli chcemy zmodyfikować plik, lepiej używać bytearray\n",
    "\n",
    "\n",
    "- https://www.w3resource.com/python/python-bytes.php#bytes\n",
    "- https://www.devdungeon.com/content/working-binary-data-python"
   ]
  },
  {
   "cell_type": "code",
   "execution_count": 26,
   "metadata": {
    "slideshow": {
     "slide_type": "subslide"
    }
   },
   "outputs": [
    {
     "name": "stdout",
     "output_type": "stream",
     "text": [
      "<class 'bytes'>\n",
      "<class 'bytearray'>\n"
     ]
    }
   ],
   "source": [
    "with open('p4b_logo.bmp', 'rb') as fr:\n",
    "    data = fr.read()\n",
    "    print(type(data))\n",
    "    data = bytearray(data)\n",
    "    print(type(data))\n",
    "with open('another_copy_p4b_logo.bmp', 'wb') as fw:\n",
    "    fw.write(data)"
   ]
  }
 ],
 "metadata": {
  "kernelspec": {
   "display_name": "Python 3",
   "language": "python",
   "name": "python3"
  },
  "language_info": {
   "codemirror_mode": {
    "name": "ipython",
    "version": 3
   },
   "file_extension": ".py",
   "mimetype": "text/x-python",
   "name": "python",
   "nbconvert_exporter": "python",
   "pygments_lexer": "ipython3",
   "version": "3.7.1"
  },
  "toc-autonumbering": false,
  "toc-showcode": false,
  "toc-showmarkdowntxt": false,
  "toc-showtags": false
 },
 "nbformat": 4,
 "nbformat_minor": 2
}
