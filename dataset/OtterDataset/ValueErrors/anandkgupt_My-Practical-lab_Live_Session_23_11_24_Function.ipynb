{
  "nbformat": 4,
  "nbformat_minor": 0,
  "metadata": {
    "colab": {
      "provenance": [],
      "authorship_tag": "ABX9TyPlyx3r7/Enj4Wa3vGCj/jR",
      "include_colab_link": true
    },
    "kernelspec": {
      "name": "python3",
      "display_name": "Python 3"
    },
    "language_info": {
      "name": "python"
    }
  },
  "cells": [
    {
      "cell_type": "markdown",
      "metadata": {
        "id": "view-in-github",
        "colab_type": "text"
      },
      "source": [
        "<a href=\"https://colab.research.google.com/github/anandkgupt/My-Practical-lab/blob/main/Live_Session_23_11_24_Function.ipynb\" target=\"_parent\"><img src=\"https://colab.research.google.com/assets/colab-badge.svg\" alt=\"Open In Colab\"/></a>"
      ]
    },
    {
      "cell_type": "markdown",
      "source": [
        "Function\n",
        "\n",
        "Builtin function\n",
        "\n",
        "User dfine function\n",
        "\n",
        "def- its a keyword which create function\n"
      ],
      "metadata": {
        "id": "d5a2ySRBDioB"
      }
    },
    {
      "cell_type": "code",
      "source": [
        "a = int(input())  # Takes the first integer input and assigns it to variable 'a'\n",
        "b = int(input())  # Takes the second integer input and assigns it to variable 'b'\n",
        "c = a + b         # Calculates the sum of 'a' and 'b' and assigns it to variable 'c'\n"
      ],
      "metadata": {
        "colab": {
          "base_uri": "https://localhost:8080/",
          "height": 193
        },
        "id": "hNN5DyKJDorJ",
        "outputId": "95529fee-1ce8-4f8b-aeab-ebcd633454bd"
      },
      "execution_count": 5,
      "outputs": [
        {
          "name": "stdout",
          "output_type": "stream",
          "text": [
            "2,4\n"
          ]
        },
        {
          "output_type": "error",
          "ename": "ValueError",
          "evalue": "invalid literal for int() with base 10: '2,4'",
          "traceback": [
            "\u001b[0;31m---------------------------------------------------------------------------\u001b[0m",
            "\u001b[0;31mValueError\u001b[0m                                Traceback (most recent call last)",
            "\u001b[0;32m<ipython-input-5-104cd7991dd8>\u001b[0m in \u001b[0;36m<cell line: 1>\u001b[0;34m()\u001b[0m\n\u001b[0;32m----> 1\u001b[0;31m \u001b[0ma\u001b[0m \u001b[0;34m=\u001b[0m \u001b[0mint\u001b[0m\u001b[0;34m(\u001b[0m\u001b[0minput\u001b[0m\u001b[0;34m(\u001b[0m\u001b[0;34m)\u001b[0m\u001b[0;34m)\u001b[0m  \u001b[0;31m# Takes the first integer input and assigns it to variable 'a'\u001b[0m\u001b[0;34m\u001b[0m\u001b[0;34m\u001b[0m\u001b[0m\n\u001b[0m\u001b[1;32m      2\u001b[0m \u001b[0mb\u001b[0m \u001b[0;34m=\u001b[0m \u001b[0mint\u001b[0m\u001b[0;34m(\u001b[0m\u001b[0minput\u001b[0m\u001b[0;34m(\u001b[0m\u001b[0;34m)\u001b[0m\u001b[0;34m)\u001b[0m  \u001b[0;31m# Takes the second integer input and assigns it to variable 'b'\u001b[0m\u001b[0;34m\u001b[0m\u001b[0;34m\u001b[0m\u001b[0m\n\u001b[1;32m      3\u001b[0m \u001b[0mc\u001b[0m \u001b[0;34m=\u001b[0m \u001b[0ma\u001b[0m \u001b[0;34m+\u001b[0m \u001b[0mb\u001b[0m         \u001b[0;31m# Calculates the sum of 'a' and 'b' and assigns it to variable 'c'\u001b[0m\u001b[0;34m\u001b[0m\u001b[0;34m\u001b[0m\u001b[0m\n",
            "\u001b[0;31mValueError\u001b[0m: invalid literal for int() with base 10: '2,4'"
          ]
        }
      ]
    },
    {
      "cell_type": "markdown",
      "source": [
        "1. Function: Define and Call"
      ],
      "metadata": {
        "id": "Zk2uicVNHP5_"
      }
    },
    {
      "cell_type": "code",
      "source": [
        "## definie the function\n",
        "def add_two_numbers(a,b):\n",
        "    return a+b"
      ],
      "metadata": {
        "id": "F_4X1SvBElnD"
      },
      "execution_count": 6,
      "outputs": []
    },
    {
      "cell_type": "code",
      "source": [
        "## call the function\n",
        "add_two_numbers(4,6)"
      ],
      "metadata": {
        "colab": {
          "base_uri": "https://localhost:8080/"
        },
        "id": "zZ-Sp2N5FeJq",
        "outputId": "c5a26ffb-e4f0-4f7f-929c-f33cac8808ad"
      },
      "execution_count": 8,
      "outputs": [
        {
          "output_type": "execute_result",
          "data": {
            "text/plain": [
              "10"
            ]
          },
          "metadata": {},
          "execution_count": 8
        }
      ]
    },
    {
      "cell_type": "markdown",
      "source": [
        "2."
      ],
      "metadata": {
        "id": "bTnQxqJ2HK07"
      }
    },
    {
      "cell_type": "code",
      "source": [
        "##\n",
        "def add_no_input():\n",
        "  a= int(input())\n",
        "  b= int(input())\n",
        "  return a+b\n"
      ],
      "metadata": {
        "id": "32EEDaCfFu2G"
      },
      "execution_count": 13,
      "outputs": []
    },
    {
      "cell_type": "code",
      "source": [
        "result = add_no_input()  # Calls the function\n",
        "print(\"The sum is:\", result)  # Prints the returned value\n",
        "\n"
      ],
      "metadata": {
        "colab": {
          "base_uri": "https://localhost:8080/",
          "height": 315
        },
        "id": "uN4IM-n1GNgM",
        "outputId": "ff2949be-f782-49f2-972d-899acdb889b8"
      },
      "execution_count": 15,
      "outputs": [
        {
          "name": "stdout",
          "output_type": "stream",
          "text": [
            "5 7\n"
          ]
        },
        {
          "output_type": "error",
          "ename": "ValueError",
          "evalue": "invalid literal for int() with base 10: '5 7'",
          "traceback": [
            "\u001b[0;31m---------------------------------------------------------------------------\u001b[0m",
            "\u001b[0;31mValueError\u001b[0m                                Traceback (most recent call last)",
            "\u001b[0;32m<ipython-input-15-c4d38a406464>\u001b[0m in \u001b[0;36m<cell line: 1>\u001b[0;34m()\u001b[0m\n\u001b[0;32m----> 1\u001b[0;31m \u001b[0mresult\u001b[0m \u001b[0;34m=\u001b[0m \u001b[0madd_no_input\u001b[0m\u001b[0;34m(\u001b[0m\u001b[0;34m)\u001b[0m  \u001b[0;31m# Calls the function\u001b[0m\u001b[0;34m\u001b[0m\u001b[0;34m\u001b[0m\u001b[0m\n\u001b[0m\u001b[1;32m      2\u001b[0m \u001b[0mprint\u001b[0m\u001b[0;34m(\u001b[0m\u001b[0;34m\"The sum is:\"\u001b[0m\u001b[0;34m,\u001b[0m \u001b[0mresult\u001b[0m\u001b[0;34m)\u001b[0m  \u001b[0;31m# Prints the returned value\u001b[0m\u001b[0;34m\u001b[0m\u001b[0;34m\u001b[0m\u001b[0m\n\u001b[1;32m      3\u001b[0m \u001b[0;34m\u001b[0m\u001b[0m\n",
            "\u001b[0;32m<ipython-input-13-9cf8404edd52>\u001b[0m in \u001b[0;36madd_no_input\u001b[0;34m()\u001b[0m\n\u001b[1;32m      1\u001b[0m \u001b[0;31m##\u001b[0m\u001b[0;34m\u001b[0m\u001b[0;34m\u001b[0m\u001b[0m\n\u001b[1;32m      2\u001b[0m \u001b[0;32mdef\u001b[0m \u001b[0madd_no_input\u001b[0m\u001b[0;34m(\u001b[0m\u001b[0;34m)\u001b[0m\u001b[0;34m:\u001b[0m\u001b[0;34m\u001b[0m\u001b[0;34m\u001b[0m\u001b[0m\n\u001b[0;32m----> 3\u001b[0;31m   \u001b[0ma\u001b[0m\u001b[0;34m=\u001b[0m \u001b[0mint\u001b[0m\u001b[0;34m(\u001b[0m\u001b[0minput\u001b[0m\u001b[0;34m(\u001b[0m\u001b[0;34m)\u001b[0m\u001b[0;34m)\u001b[0m\u001b[0;34m\u001b[0m\u001b[0;34m\u001b[0m\u001b[0m\n\u001b[0m\u001b[1;32m      4\u001b[0m   \u001b[0mb\u001b[0m\u001b[0;34m=\u001b[0m \u001b[0mint\u001b[0m\u001b[0;34m(\u001b[0m\u001b[0minput\u001b[0m\u001b[0;34m(\u001b[0m\u001b[0;34m)\u001b[0m\u001b[0;34m)\u001b[0m\u001b[0;34m\u001b[0m\u001b[0;34m\u001b[0m\u001b[0m\n\u001b[1;32m      5\u001b[0m   \u001b[0;32mreturn\u001b[0m \u001b[0ma\u001b[0m\u001b[0;34m+\u001b[0m\u001b[0mb\u001b[0m\u001b[0;34m\u001b[0m\u001b[0;34m\u001b[0m\u001b[0m\n",
            "\u001b[0;31mValueError\u001b[0m: invalid literal for int() with base 10: '5 7'"
          ]
        }
      ]
    },
    {
      "cell_type": "markdown",
      "source": [
        "3. function with argument but no return value"
      ],
      "metadata": {
        "id": "RmXd1YUtHVrX"
      }
    },
    {
      "cell_type": "code",
      "source": [
        "def greet_user(name):\n",
        "    print(f\"Hello, {name}! Welcome to the program.\")\n"
      ],
      "metadata": {
        "id": "VLHgpD8TGNir"
      },
      "execution_count": 9,
      "outputs": []
    },
    {
      "cell_type": "code",
      "source": [
        "greet_user(\"Alice\")  # Function is called with \"Alice\" as the argument\n"
      ],
      "metadata": {
        "colab": {
          "base_uri": "https://localhost:8080/"
        },
        "id": "gI6YX6fYGNlP",
        "outputId": "3f23de77-5540-4260-ad43-e7d4735c0b2a"
      },
      "execution_count": 10,
      "outputs": [
        {
          "output_type": "stream",
          "name": "stdout",
          "text": [
            "Hello, Alice! Welcome to the program.\n"
          ]
        }
      ]
    },
    {
      "cell_type": "markdown",
      "source": [
        "4. function with no argument but return value"
      ],
      "metadata": {
        "id": "pDEqHOd-H8XU"
      }
    },
    {
      "cell_type": "code",
      "source": [
        "def get_pi():\n",
        "    return 3.14159\n"
      ],
      "metadata": {
        "id": "qNQhR6u2GNn8"
      },
      "execution_count": 11,
      "outputs": []
    },
    {
      "cell_type": "code",
      "source": [
        "pi_value = get_pi()  # Call the function and store the returned value in a variable\n",
        "print(\"The value of pi is:\", pi_value)\n"
      ],
      "metadata": {
        "colab": {
          "base_uri": "https://localhost:8080/"
        },
        "id": "BZF7w55BGNqi",
        "outputId": "24dde8b0-c742-4d95-df87-d6e53b9a9e6b"
      },
      "execution_count": 12,
      "outputs": [
        {
          "output_type": "stream",
          "name": "stdout",
          "text": [
            "The value of pi is: 3.14159\n"
          ]
        }
      ]
    },
    {
      "cell_type": "markdown",
      "source": [
        "Define a function with two output first name and last name = full name"
      ],
      "metadata": {
        "id": "kFu5rQliJydv"
      }
    },
    {
      "cell_type": "code",
      "source": [
        "def full_name(first_name, last_name):\n",
        "    return f\"{first_name} {last_name}\"\n"
      ],
      "metadata": {
        "id": "QaugeDBsGNtH"
      },
      "execution_count": 16,
      "outputs": []
    },
    {
      "cell_type": "code",
      "source": [
        "name = full_name(\"John\", \"Doe\")\n",
        "print(\"The full name is:\", name)\n"
      ],
      "metadata": {
        "colab": {
          "base_uri": "https://localhost:8080/"
        },
        "id": "XMMeSqTTGNwq",
        "outputId": "525676c0-d48c-4b40-e780-d166a7957462"
      },
      "execution_count": 17,
      "outputs": [
        {
          "output_type": "stream",
          "name": "stdout",
          "text": [
            "The full name is: John Doe\n"
          ]
        }
      ]
    },
    {
      "cell_type": "markdown",
      "source": [
        "write a python function string is palindrome or not"
      ],
      "metadata": {
        "id": "FXnToSzqLD6q"
      }
    },
    {
      "cell_type": "code",
      "source": [
        "def is_palindrome(s):\n",
        "    # Remove spaces and convert to lowercase for consistent comparison\n",
        "    s = s.replace(\" \", \"\").lower()\n",
        "    # Check if the string is the same as its reverse\n",
        "    return s == s[::-1]\n"
      ],
      "metadata": {
        "id": "aBjbM3P8GOTW"
      },
      "execution_count": 18,
      "outputs": []
    },
    {
      "cell_type": "code",
      "source": [
        "# Test cases\n",
        "print(is_palindrome(\"Racecar\"))  # True\n",
        "print(is_palindrome(\"hello\"))    # False\n",
        "print(is_palindrome(\"A man a plan a canal Panama\"))  # True\n"
      ],
      "metadata": {
        "colab": {
          "base_uri": "https://localhost:8080/"
        },
        "id": "oLxXvW8_GOWA",
        "outputId": "eaafab49-88f8-43e2-ec6c-3e87d13b6fd5"
      },
      "execution_count": 19,
      "outputs": [
        {
          "output_type": "stream",
          "name": "stdout",
          "text": [
            "True\n",
            "False\n",
            "True\n"
          ]
        }
      ]
    },
    {
      "cell_type": "markdown",
      "source": [
        "Write function check even odd(n) that take integer as input and prints"
      ],
      "metadata": {
        "id": "OP6O4fw_LzUJ"
      }
    },
    {
      "cell_type": "code",
      "source": [
        "def check_even_odd(n):\n",
        "    if n % 2 == 0:\n",
        "        print(f\"{n} is even.\")\n",
        "    else:\n",
        "        print(f\"{n} is odd.\")\n"
      ],
      "metadata": {
        "id": "NJp2NlOuGOYX"
      },
      "execution_count": 20,
      "outputs": []
    },
    {
      "cell_type": "code",
      "source": [
        "check_even_odd(10)  # Even\n",
        "check_even_odd(15)  # Odd\n"
      ],
      "metadata": {
        "colab": {
          "base_uri": "https://localhost:8080/"
        },
        "id": "YOFnvki3GObD",
        "outputId": "ff3d2549-75ad-42a5-e139-4e39f59faa8b"
      },
      "execution_count": 21,
      "outputs": [
        {
          "output_type": "stream",
          "name": "stdout",
          "text": [
            "10 is even.\n",
            "15 is odd.\n"
          ]
        }
      ]
    },
    {
      "cell_type": "markdown",
      "source": [
        "function count vowel or not\n"
      ],
      "metadata": {
        "id": "JMheSoTFMkZO"
      }
    },
    {
      "cell_type": "code",
      "source": [
        "def count_vowels(s):\n",
        "    # Define the set of vowels\n",
        "    vowels = \"aeiouAEIOU\"\n",
        "    # Initialize a counter\n",
        "    count = 0\n",
        "    # Loop through the string and count vowels\n",
        "    for char in s:\n",
        "        if char in vowels:\n",
        "            count += 1\n",
        "    return count\n"
      ],
      "metadata": {
        "id": "Szj9k7sjGOem"
      },
      "execution_count": 22,
      "outputs": []
    },
    {
      "cell_type": "code",
      "source": [
        "print(count_vowels(\"Hello World\"))  # Output: 3\n",
        "print(count_vowels(\"Python Programming\"))  # Output: 4\n"
      ],
      "metadata": {
        "colab": {
          "base_uri": "https://localhost:8080/"
        },
        "id": "VHz9ZKHkM6lw",
        "outputId": "f21dacb8-a30d-47df-d8e0-96a0c2b60d8a"
      },
      "execution_count": 23,
      "outputs": [
        {
          "output_type": "stream",
          "name": "stdout",
          "text": [
            "3\n",
            "4\n"
          ]
        }
      ]
    },
    {
      "cell_type": "markdown",
      "source": [
        "User define functions:\n",
        "\n",
        "1.Reqired argument"
      ],
      "metadata": {
        "id": "B3KGJbYFNSC7"
      }
    },
    {
      "cell_type": "code",
      "source": [
        "def rectangle_area(length, width):\n",
        "    return length * width\n"
      ],
      "metadata": {
        "id": "kr3FLHrjM_H-"
      },
      "execution_count": 24,
      "outputs": []
    },
    {
      "cell_type": "code",
      "source": [
        "# Valid call\n",
        "area = rectangle_area(10, 5)\n",
        "print(\"The area of the rectangle is:\", area)\n",
        "\n",
        "# Invalid call (will raise an error)\n",
        "area = rectangle_area(10, 5)  # Missing the 'width' argument\n"
      ],
      "metadata": {
        "colab": {
          "base_uri": "https://localhost:8080/"
        },
        "id": "c1CguVbMOmUy",
        "outputId": "85adbf1f-8517-4a21-b840-1c3f8f541b86"
      },
      "execution_count": 28,
      "outputs": [
        {
          "output_type": "stream",
          "name": "stdout",
          "text": [
            "The area of the rectangle is: 50\n"
          ]
        }
      ]
    },
    {
      "cell_type": "markdown",
      "source": [
        "2. User-Defined Function with Keyword Arguments"
      ],
      "metadata": {
        "id": "B_9pdlkUPFm5"
      }
    },
    {
      "cell_type": "code",
      "source": [
        "def final_price(price, discount=0, tax=0):\n",
        "    return price - (price * discount / 100) + (price * tax / 100)\n"
      ],
      "metadata": {
        "id": "avmLboXJO1EZ"
      },
      "execution_count": 29,
      "outputs": []
    },
    {
      "cell_type": "code",
      "source": [
        "# Using only positional arguments\n",
        "print(final_price(1000, 10, 5))  # Output: 950.0\n",
        "\n",
        "# Using keyword arguments (order doesn't matter)\n",
        "print(final_price(price=1000, tax=5, discount=10))  # Output: 950.0\n",
        "\n",
        "# Mixing positional and keyword arguments\n",
        "print(final_price(1000, tax=5, discount=10))  # Output: 950.0\n"
      ],
      "metadata": {
        "colab": {
          "base_uri": "https://localhost:8080/"
        },
        "id": "uMkwwdzTPSpt",
        "outputId": "8a44f15f-454d-43d2-f6f8-05bd6ddfa249"
      },
      "execution_count": 30,
      "outputs": [
        {
          "output_type": "stream",
          "name": "stdout",
          "text": [
            "950.0\n",
            "950.0\n",
            "950.0\n"
          ]
        }
      ]
    },
    {
      "cell_type": "markdown",
      "source": [
        "3. User-Defined Function with Default Arguments\n",
        "\n",
        "Default arguments are parameters that take a default value if no argument is provided during the function call. This allows the function to be called with fewer arguments, and if any argument is missing, the default value is used.\n",
        "\n"
      ],
      "metadata": {
        "id": "HnGYyS76P8CY"
      }
    },
    {
      "cell_type": "code",
      "source": [
        "def calculate_price(price, discount=10):\n",
        "    return price - (price * discount / 100)\n"
      ],
      "metadata": {
        "id": "cJrWxckkPS09"
      },
      "execution_count": 32,
      "outputs": []
    },
    {
      "cell_type": "code",
      "source": [
        "print(calculate_price(100))  # Discount is 10 by default, Output: 90.0\n"
      ],
      "metadata": {
        "colab": {
          "base_uri": "https://localhost:8080/"
        },
        "id": "8X3s3tI7PS3y",
        "outputId": "e9ddb478-c331-47d1-e1fe-4fb0d863a51a"
      },
      "execution_count": 33,
      "outputs": [
        {
          "output_type": "stream",
          "name": "stdout",
          "text": [
            "90.0\n"
          ]
        }
      ]
    },
    {
      "cell_type": "code",
      "source": [
        "print(calculate_price(100, 20))  # Discount is 20, Output: 80.0\n"
      ],
      "metadata": {
        "colab": {
          "base_uri": "https://localhost:8080/"
        },
        "id": "VqnyaD_3PS6n",
        "outputId": "ebf3f8bf-1277-430b-9ffe-cc9bfa9aaf6d"
      },
      "execution_count": 34,
      "outputs": [
        {
          "output_type": "stream",
          "name": "stdout",
          "text": [
            "80.0\n"
          ]
        }
      ]
    },
    {
      "cell_type": "markdown",
      "source": [
        "4. User-Defined Function with Variable-Length Arguments\n",
        "\n",
        "In Python, you can define functions that accept a variable number of arguments using the following methods:\n",
        "\n",
        "*args for variable-length positional arguments.\n",
        "\n",
        "**kwargs for variable-length keyword arguments.\n",
        "\n",
        "Combining *args and **kwargs\n",
        "\n",
        "You can combine both *args and **kwargs in the same function to accept both variable-length positional and keyword arguments. When used together, *args must appear before **kwargs"
      ],
      "metadata": {
        "id": "WP0-AchcRP-d"
      }
    },
    {
      "cell_type": "code",
      "source": [
        "## args\n",
        "def sum_numbers(*args):\n",
        "    return sum(args)\n"
      ],
      "metadata": {
        "id": "cWPdM7ZLPS9k"
      },
      "execution_count": 37,
      "outputs": []
    },
    {
      "cell_type": "code",
      "source": [
        "print(sum_numbers(1, 2, 3))        # Output: 6\n",
        "print(sum_numbers(5, 10, 15, 20))  # Output: 50\n",
        "print(sum_numbers(7))              # Output: 7\n"
      ],
      "metadata": {
        "colab": {
          "base_uri": "https://localhost:8080/"
        },
        "id": "6Rpd9phbQuXN",
        "outputId": "a6fc81fe-266c-46fc-b642-7ff9f0d6b190"
      },
      "execution_count": 36,
      "outputs": [
        {
          "output_type": "stream",
          "name": "stdout",
          "text": [
            "6\n",
            "50\n",
            "7\n"
          ]
        }
      ]
    },
    {
      "cell_type": "code",
      "source": [
        "## kwargs\n",
        "def print_details(**kwargs):\n",
        "    for key, value in kwargs.items():\n",
        "        print(f\"{key}: {value}\")\n"
      ],
      "metadata": {
        "id": "P8uO-zutQuaC"
      },
      "execution_count": 38,
      "outputs": []
    },
    {
      "cell_type": "code",
      "source": [
        "print_details(name=\"Alice\", age=30, city=\"New York\")\n",
        "# Output:\n",
        "# name: Alice\n",
        "# age: 30\n",
        "# city: New York\n"
      ],
      "metadata": {
        "colab": {
          "base_uri": "https://localhost:8080/"
        },
        "id": "JQ8CUL-5Quc7",
        "outputId": "f5ec2a92-f88b-4508-8cd1-3767eecf53b5"
      },
      "execution_count": 39,
      "outputs": [
        {
          "output_type": "stream",
          "name": "stdout",
          "text": [
            "name: Alice\n",
            "age: 30\n",
            "city: New York\n"
          ]
        }
      ]
    },
    {
      "cell_type": "code",
      "source": [
        "## Combining args and *kwargs\n",
        "def display_info(*args, **kwargs):\n",
        "    print(\"Positional arguments:\")\n",
        "    for arg in args:\n",
        "        print(arg)\n",
        "    print(\"\\nKeyword arguments:\")\n",
        "    for key, value in kwargs.items():\n",
        "        print(f\"{key}: {value}\")\n"
      ],
      "metadata": {
        "id": "t1l-qu57QugM"
      },
      "execution_count": 40,
      "outputs": []
    },
    {
      "cell_type": "code",
      "source": [
        "display_info(1, 2, 3, name=\"John\", age=25)\n"
      ],
      "metadata": {
        "colab": {
          "base_uri": "https://localhost:8080/"
        },
        "id": "ZAtMODarQujJ",
        "outputId": "cb437769-0aa2-406d-ae5a-c53da2db9ebc"
      },
      "execution_count": 41,
      "outputs": [
        {
          "output_type": "stream",
          "name": "stdout",
          "text": [
            "Positional arguments:\n",
            "1\n",
            "2\n",
            "3\n",
            "\n",
            "Keyword arguments:\n",
            "name: John\n",
            "age: 25\n"
          ]
        }
      ]
    },
    {
      "cell_type": "markdown",
      "source": [
        "Practice"
      ],
      "metadata": {
        "id": "d17h_PvqVt5m"
      }
    },
    {
      "cell_type": "code",
      "source": [
        "def calculate_bmi(weight, height):\n",
        "    bmi = weight / (height ** 2)\n",
        "    return bmi\n"
      ],
      "metadata": {
        "id": "CBRYOssOQulu"
      },
      "execution_count": 42,
      "outputs": []
    },
    {
      "cell_type": "code",
      "source": [
        "weight = 70  # kg\n",
        "height = 1.75  # meters\n",
        "bmi = calculate_bmi(weight, height)\n",
        "print(\"The BMI is:\", bmi)\n"
      ],
      "metadata": {
        "colab": {
          "base_uri": "https://localhost:8080/"
        },
        "id": "kCZrxbCCQuof",
        "outputId": "415b5048-1e8b-4afb-8be7-42ccd527c5d0"
      },
      "execution_count": 43,
      "outputs": [
        {
          "output_type": "stream",
          "name": "stdout",
          "text": [
            "The BMI is: 22.857142857142858\n"
          ]
        }
      ]
    },
    {
      "cell_type": "code",
      "source": [
        "class Student:\n",
        "    def __init__(self, name, age, course):\n",
        "        self.name = name\n",
        "        self.age = age\n",
        "        self.course = course\n",
        "\n",
        "    def display_info(self):\n",
        "        print(f\"Student Name: {self.name}\")\n",
        "        print(f\"Age: {self.age}\")\n",
        "        print(f\"Course: {self.course}\")\n",
        "\n",
        "# Example usage:\n",
        "student1 = Student(\"Alice\", 20, \"Computer Science\")\n",
        "student2 = Student(\"Bob\", 22, \"Mathematics\")\n",
        "\n",
        "student1.display_info()\n",
        "student2.display_info()\n"
      ],
      "metadata": {
        "colab": {
          "base_uri": "https://localhost:8080/"
        },
        "id": "KvwrAEgsQurP",
        "outputId": "495f06ae-4e2f-422a-80eb-d5dbcf14de3b"
      },
      "execution_count": 44,
      "outputs": [
        {
          "output_type": "stream",
          "name": "stdout",
          "text": [
            "Student Name: Alice\n",
            "Age: 20\n",
            "Course: Computer Science\n",
            "Student Name: Bob\n",
            "Age: 22\n",
            "Course: Mathematics\n"
          ]
        }
      ]
    },
    {
      "cell_type": "code",
      "source": [
        "def longest_word(words):\n",
        "    return max(words, key=len)\n",
        "\n",
        "# Example usage:\n",
        "word_list = [\"apple\", \"banana\", \"grapefruit\", \"kiwi\", \"orange\"]\n",
        "longest = longest_word(word_list)\n",
        "print(\"The longest word is:\", longest)\n"
      ],
      "metadata": {
        "colab": {
          "base_uri": "https://localhost:8080/"
        },
        "id": "9yyC61zsUXTa",
        "outputId": "b4c5d49e-5343-4d66-dea6-4b2a6cf4d545"
      },
      "execution_count": 45,
      "outputs": [
        {
          "output_type": "stream",
          "name": "stdout",
          "text": [
            "The longest word is: grapefruit\n"
          ]
        }
      ]
    },
    {
      "cell_type": "markdown",
      "source": [
        "Recursive Function in Python\n",
        "\n",
        "A recursive function is a function that calls itself to solve a smaller instance of the same problem. Recursion generally consists of two main components:\n",
        "\n",
        "Base Case: A condition that stops the recursion.\n",
        "\n",
        "Recursive Case: The part of the function that reduces the problem into a smaller sub-problem and calls the function again."
      ],
      "metadata": {
        "id": "Za9c0oVsV1Vf"
      }
    },
    {
      "cell_type": "code",
      "source": [
        "##Example 1: Factorial using Recursion\n",
        "def factorial(n):\n",
        "    if n == 1:  # Base case: factorial of 1 is 1\n",
        "        return 1\n",
        "    else:\n",
        "        return n * factorial(n - 1)  # Recursive case\n",
        "\n",
        "# Example usage:\n",
        "print(factorial(5))  # Output: 120\n"
      ],
      "metadata": {
        "colab": {
          "base_uri": "https://localhost:8080/"
        },
        "id": "eNrSvZTsUXWI",
        "outputId": "589192df-51e7-42e2-b521-757470bf766e"
      },
      "execution_count": 46,
      "outputs": [
        {
          "output_type": "stream",
          "name": "stdout",
          "text": [
            "120\n"
          ]
        }
      ]
    },
    {
      "cell_type": "code",
      "source": [
        "##2.Fibonacci Sequence using Recursion\n",
        "def fibonacci(n):\n",
        "    if n == 0:  # Base case\n",
        "        return 0\n",
        "    elif n == 1:  # Base case\n",
        "        return 1\n",
        "    else:\n",
        "        return fibonacci(n - 1) + fibonacci(n - 2)  # Recursive case\n",
        "\n",
        "# Example usage:\n",
        "print(fibonacci(6))  # Output: 8\n"
      ],
      "metadata": {
        "colab": {
          "base_uri": "https://localhost:8080/"
        },
        "id": "PVBQR6h8Quxy",
        "outputId": "c496419e-a2a3-4fc6-d7bd-b3b3342d8968"
      },
      "execution_count": 47,
      "outputs": [
        {
          "output_type": "stream",
          "name": "stdout",
          "text": [
            "8\n"
          ]
        }
      ]
    },
    {
      "cell_type": "code",
      "source": [
        "##3 Sum of Numbers in a List (Recursive Approach)\n",
        "def sum_of_list(lst):\n",
        "    if len(lst) == 0:  # Base case: empty list\n",
        "        return 0\n",
        "    else:\n",
        "        return lst[0] + sum_of_list(lst[1:])  # Recursive case: sum first element + sum of rest\n",
        "\n",
        "# Example usage:\n",
        "print(sum_of_list([1, 2, 3, 4, 5]))  # Output: 15\n"
      ],
      "metadata": {
        "colab": {
          "base_uri": "https://localhost:8080/"
        },
        "id": "4hrPMXZ7PTBM",
        "outputId": "f48a8f3f-f554-4fa9-ef31-f57e4b4ad132"
      },
      "execution_count": 48,
      "outputs": [
        {
          "output_type": "stream",
          "name": "stdout",
          "text": [
            "15\n"
          ]
        }
      ]
    },
    {
      "cell_type": "code",
      "source": [
        "##4 Tower of Hanoi (Classic Recursion Example)\n",
        "def tower_of_hanoi(n, source, target, auxiliary):\n",
        "    if n == 1:\n",
        "        print(f\"Move disk 1 from {source} to {target}\")\n",
        "    else:\n",
        "        tower_of_hanoi(n - 1, source, auxiliary, target)  # Move n-1 disks to auxiliary\n",
        "        print(f\"Move disk {n} from {source} to {target}\")  # Move nth disk to target\n",
        "        tower_of_hanoi(n - 1, auxiliary, target, source)  # Move n-1 disks from auxiliary to target\n",
        "\n",
        "# Example usage:\n",
        "tower_of_hanoi(3, 'A', 'C', 'B')\n"
      ],
      "metadata": {
        "colab": {
          "base_uri": "https://localhost:8080/"
        },
        "id": "c-aiJpqiW3ni",
        "outputId": "e3e6f61b-caa7-430b-ab78-5cc778cf7a70"
      },
      "execution_count": 49,
      "outputs": [
        {
          "output_type": "stream",
          "name": "stdout",
          "text": [
            "Move disk 1 from A to C\n",
            "Move disk 2 from A to B\n",
            "Move disk 1 from C to B\n",
            "Move disk 3 from A to C\n",
            "Move disk 1 from B to A\n",
            "Move disk 2 from B to C\n",
            "Move disk 1 from A to C\n"
          ]
        }
      ]
    },
    {
      "cell_type": "markdown",
      "source": [
        "Scope of variables\n",
        "\n",
        "1.Global variable\n",
        "\n",
        "2.Local variable\n",
        "\n",
        "3.enclosed\n",
        "\n",
        "4.built-in"
      ],
      "metadata": {
        "id": "X8MirP3dX5tS"
      }
    },
    {
      "cell_type": "code",
      "source": [
        "x = 10  # Global variable\n",
        "\n",
        "def func1():\n",
        "    print(x)  # Accessing global variable\n",
        "\n",
        "def func2():\n",
        "    print(x)  # Accessing global variable\n",
        "\n",
        "func1()\n",
        "func2()\n"
      ],
      "metadata": {
        "colab": {
          "base_uri": "https://localhost:8080/"
        },
        "id": "aCt43bhhXBuU",
        "outputId": "5082b97c-f1ef-454e-906b-772712bf8b0d"
      },
      "execution_count": 50,
      "outputs": [
        {
          "output_type": "stream",
          "name": "stdout",
          "text": [
            "10\n",
            "10\n"
          ]
        }
      ]
    },
    {
      "cell_type": "code",
      "source": [
        "def func():\n",
        "    x = 5  # Local variable\n",
        "    print(x)  # Accessing the local variable\n",
        "\n",
        "func()\n",
        "\n",
        "# print(x)  # This will raise an error because x is local to func()\n"
      ],
      "metadata": {
        "colab": {
          "base_uri": "https://localhost:8080/"
        },
        "id": "PLFVDeSjXHQO",
        "outputId": "027630c2-a8e9-415f-8af9-aef8938867a7"
      },
      "execution_count": 51,
      "outputs": [
        {
          "output_type": "stream",
          "name": "stdout",
          "text": [
            "5\n"
          ]
        }
      ]
    },
    {
      "cell_type": "code",
      "source": [
        "def outer():\n",
        "    x = 10  # Enclosed variable\n",
        "\n",
        "    def inner():\n",
        "        print(x)  # Accessing the enclosed variable\n",
        "\n",
        "    inner()\n",
        "\n",
        "outer()\n"
      ],
      "metadata": {
        "colab": {
          "base_uri": "https://localhost:8080/"
        },
        "id": "Lbf9GaVoYxHe",
        "outputId": "1ac55cd1-b6ea-4f81-8734-e58879881e55"
      },
      "execution_count": 52,
      "outputs": [
        {
          "output_type": "stream",
          "name": "stdout",
          "text": [
            "10\n"
          ]
        }
      ]
    },
    {
      "cell_type": "code",
      "source": [
        "print(len(\"Hello\"))  # Using built-in function len\n"
      ],
      "metadata": {
        "colab": {
          "base_uri": "https://localhost:8080/"
        },
        "id": "KQIe9W4EYxKO",
        "outputId": "511c39b9-6ddb-4859-c061-c6b6ee760c92"
      },
      "execution_count": 53,
      "outputs": [
        {
          "output_type": "stream",
          "name": "stdout",
          "text": [
            "5\n"
          ]
        }
      ]
    },
    {
      "cell_type": "markdown",
      "source": [
        "LEGB Rule (Scope Resolution Order):\n",
        "\n",
        "When you reference a variable, Python looks for the variable in the following order:\n",
        "\n",
        "Local (L): The function or block where the variable is called.\n",
        "\n",
        "Enclosed (E): In the enclosing function if the variable is in a nested function.\n",
        "\n",
        "Global (G): In the top-level script or module.\n",
        "\n",
        "Built-in (B): In the built-in namespace (like print(), len(), etc.).\n"
      ],
      "metadata": {
        "id": "yspfqtcLZcUo"
      }
    },
    {
      "cell_type": "code",
      "source": [
        "x = \"Global x\"\n",
        "\n",
        "def outer():\n",
        "    x = \"Enclosed x\"\n",
        "\n",
        "    def inner():\n",
        "        x = \"Local x\"\n",
        "        print(x)  # What x is this?\n",
        "\n",
        "    inner()\n",
        "\n",
        "outer()\n"
      ],
      "metadata": {
        "colab": {
          "base_uri": "https://localhost:8080/"
        },
        "id": "uT1-153-YxMn",
        "outputId": "63aa5303-b6a8-4724-eafc-a10fc16325df"
      },
      "execution_count": 54,
      "outputs": [
        {
          "output_type": "stream",
          "name": "stdout",
          "text": [
            "Local x\n"
          ]
        }
      ]
    },
    {
      "cell_type": "markdown",
      "source": [
        "Lambda Functions in Python\n",
        "\n",
        "A lambda function is a small, anonymous function defined with the lambda keyword. Lambda functions can have any number of arguments but only one expression. Unlike regular functions defined with def, lambda functions are typically used for short, simple operations, where defining a full function might be unnecessarily verbose.\n",
        "\n",
        "map, filter, reduce"
      ],
      "metadata": {
        "id": "sKyhWLn2atuA"
      }
    },
    {
      "cell_type": "code",
      "source": [
        "lambda arguments: expression\n"
      ],
      "metadata": {
        "colab": {
          "base_uri": "https://localhost:8080/"
        },
        "id": "YpF8uvrCXHTS",
        "outputId": "4d7fc246-9270-4dd9-9987-24acd8c2272d"
      },
      "execution_count": 58,
      "outputs": [
        {
          "output_type": "execute_result",
          "data": {
            "text/plain": [
              "<function __main__.<lambda>(arguments)>"
            ]
          },
          "metadata": {},
          "execution_count": 58
        }
      ]
    },
    {
      "cell_type": "code",
      "source": [
        "add = lambda a, b: a + b\n",
        "print(add(5, 3))  # Output: 8\n"
      ],
      "metadata": {
        "colab": {
          "base_uri": "https://localhost:8080/"
        },
        "id": "LZSW6yYnXHV-",
        "outputId": "0992b9d6-fd5a-4e1c-938e-d949b35de3cf"
      },
      "execution_count": 59,
      "outputs": [
        {
          "output_type": "stream",
          "name": "stdout",
          "text": [
            "8\n"
          ]
        }
      ]
    },
    {
      "cell_type": "code",
      "source": [
        "square = lambda x: x ** 2\n",
        "print(square(4))  # Output: 16\n"
      ],
      "metadata": {
        "colab": {
          "base_uri": "https://localhost:8080/"
        },
        "id": "pBCEjemGXHY2",
        "outputId": "71a06767-2261-4022-d13d-d54d91cb658b"
      },
      "execution_count": 60,
      "outputs": [
        {
          "output_type": "stream",
          "name": "stdout",
          "text": [
            "16\n"
          ]
        }
      ]
    },
    {
      "cell_type": "code",
      "source": [
        "get_ten = lambda: 10\n",
        "print(get_ten())  # Output: 10\n"
      ],
      "metadata": {
        "colab": {
          "base_uri": "https://localhost:8080/"
        },
        "id": "0mXKxDC6XHb6",
        "outputId": "c751eebd-2130-42a9-88db-749e23875f22"
      },
      "execution_count": 61,
      "outputs": [
        {
          "output_type": "stream",
          "name": "stdout",
          "text": [
            "10\n"
          ]
        }
      ]
    },
    {
      "cell_type": "code",
      "source": [
        "## Using map() with Lambda: The map() function applies a function to all items in an input list (or any iterable) and returns a map object (which can be converted into a list).\n",
        "numbers = [1, 2, 3, 4, 5]\n",
        "squared_numbers = list(map(lambda x: x ** 2, numbers))\n",
        "print(squared_numbers)  # Output: [1, 4, 9, 16, 25]\n"
      ],
      "metadata": {
        "colab": {
          "base_uri": "https://localhost:8080/"
        },
        "id": "aRasUhkjXHem",
        "outputId": "d517cd17-56ee-43b1-d4a8-c889575e881f"
      },
      "execution_count": 62,
      "outputs": [
        {
          "output_type": "stream",
          "name": "stdout",
          "text": [
            "[1, 4, 9, 16, 25]\n"
          ]
        }
      ]
    },
    {
      "cell_type": "code",
      "source": [
        "## Using filter() with Lambda: The filter() function filters elements of an iterable based on a condition (a boolean return value). It returns a filter object (which can be converted into a list).\n",
        "numbers = [1, 2, 3, 4, 5]\n",
        "even_numbers = list(filter(lambda x: x % 2 == 0, numbers))\n",
        "print(even_numbers)  # Output: [2, 4]\n"
      ],
      "metadata": {
        "colab": {
          "base_uri": "https://localhost:8080/"
        },
        "id": "UzPPIVu3XHh1",
        "outputId": "b4ee8fe0-e1f1-4b1a-ad87-bbc28b8646b5"
      },
      "execution_count": 63,
      "outputs": [
        {
          "output_type": "stream",
          "name": "stdout",
          "text": [
            "[2, 4]\n"
          ]
        }
      ]
    },
    {
      "cell_type": "code",
      "source": [
        "## Using reduce() with Lambda: The reduce() function from the functools module is used to apply a binary function (lambda) cumulatively to the items of an iterable, from left to right, so as to reduce the iterable to a single value.\n",
        "from functools import reduce\n",
        "\n",
        "numbers = [1, 2, 3, 4, 5]\n",
        "product = reduce(lambda x, y: x * y, numbers)\n",
        "print(product)  # Output: 120\n"
      ],
      "metadata": {
        "colab": {
          "base_uri": "https://localhost:8080/"
        },
        "id": "joTjzoGtXHk4",
        "outputId": "8a6ccf35-9596-42dc-be4b-7bc9f6a52ed3"
      },
      "execution_count": 64,
      "outputs": [
        {
          "output_type": "stream",
          "name": "stdout",
          "text": [
            "120\n"
          ]
        }
      ]
    },
    {
      "cell_type": "markdown",
      "source": [
        "Lambda Functions vs Regular Functions\n",
        "\n",
        "While lambda functions are concise and useful for simple operations, regular functions (defined using def) are better suited for complex logic, documentation, and multiple expressions."
      ],
      "metadata": {
        "id": "sV0yl4ZYcZix"
      }
    },
    {
      "cell_type": "code",
      "source": [
        "#Lambda Function Example:\n",
        "multiply = lambda a, b: a * b\n",
        "print(multiply(3, 4))  # Output: 12\n"
      ],
      "metadata": {
        "colab": {
          "base_uri": "https://localhost:8080/"
        },
        "id": "ss0hTGmwXHnr",
        "outputId": "454cb6bd-5582-41b4-d107-821190090540"
      },
      "execution_count": 65,
      "outputs": [
        {
          "output_type": "stream",
          "name": "stdout",
          "text": [
            "12\n"
          ]
        }
      ]
    },
    {
      "cell_type": "code",
      "source": [
        "#Regular Function Example:\n",
        "def multiply(a, b):\n",
        "    return a * b\n",
        "\n",
        "print(multiply(3, 4))  # Output: 12\n"
      ],
      "metadata": {
        "colab": {
          "base_uri": "https://localhost:8080/"
        },
        "id": "sdhpkwu9XHqt",
        "outputId": "07ac31b8-9e16-4d11-c6d8-5b4308bfb68d"
      },
      "execution_count": 66,
      "outputs": [
        {
          "output_type": "stream",
          "name": "stdout",
          "text": [
            "12\n"
          ]
        }
      ]
    },
    {
      "cell_type": "markdown",
      "source": [
        "Ternary Operation vs Lambda Function\n",
        "Both ternary operations and lambda functions are shorthand ways to write expressions in Python, but they serve different purposes and have distinct use cases. Let’s compare the two:\n",
        "\n",
        "1. Ternary Operation (Conditional Expression)\n",
        "\n",
        "The ternary operator (also called conditional expression) in Python allows you to write a simple if-else statement in a single line.\n",
        "\n",
        "2. Lambda Function\n",
        "\n",
        "A lambda function is a small, anonymous function that can have multiple arguments and a single expression. It's defined using the lambda keyword and can be used for short operations in Python."
      ],
      "metadata": {
        "id": "V6wlTnmmdNg2"
      }
    },
    {
      "cell_type": "code",
      "source": [
        "#ternary operation\n",
        "age = 20\n",
        "status = \"Adult\" if age >= 18 else \"Minor\"\n",
        "print(status)  # Output: Adult\n",
        "\n",
        "\n"
      ],
      "metadata": {
        "colab": {
          "base_uri": "https://localhost:8080/"
        },
        "id": "jjMWVdumXHtz",
        "outputId": "220134ec-a822-481d-bf36-5335b73a4bb8"
      },
      "execution_count": 69,
      "outputs": [
        {
          "output_type": "stream",
          "name": "stdout",
          "text": [
            "Adult\n"
          ]
        }
      ]
    },
    {
      "cell_type": "code",
      "source": [
        "#lambda function\n",
        "multiply = lambda x, y: x * y\n",
        "print(multiply(3, 4))  # Output: 12\n"
      ],
      "metadata": {
        "colab": {
          "base_uri": "https://localhost:8080/"
        },
        "id": "R9pdkwbjcyW0",
        "outputId": "7431ffa0-4739-4e81-b6cf-cd923def2e28"
      },
      "execution_count": 70,
      "outputs": [
        {
          "output_type": "stream",
          "name": "stdout",
          "text": [
            "12\n"
          ]
        }
      ]
    },
    {
      "cell_type": "markdown",
      "source": [
        "Map function\n",
        "\n",
        "The map() function in Python is a higher-order function that applies a given function to each item of an iterable (like a list, tuple, or string) and returns an iterator (a map object) that produces the results.\n",
        "\n",
        "map(function, iterable, ...)\n"
      ],
      "metadata": {
        "id": "EV4MYaOUfAF2"
      }
    },
    {
      "cell_type": "code",
      "source": [
        "# Function to square a number\n",
        "def square(x):\n",
        "    return x ** 2\n",
        "\n",
        "numbers = [1, 2, 3, 4, 5]\n",
        "\n",
        "# Apply the square function to each element in the numbers list\n",
        "squared_numbers = map(square, numbers)\n",
        "\n",
        "# Convert the result to a list and print it\n",
        "print(list(squared_numbers))  # Output: [1, 4, 9, 16, 25]\n"
      ],
      "metadata": {
        "colab": {
          "base_uri": "https://localhost:8080/"
        },
        "id": "mviiUMWScycv",
        "outputId": "669c7b09-34b3-4610-afe1-ff0c01454ff3"
      },
      "execution_count": 72,
      "outputs": [
        {
          "output_type": "stream",
          "name": "stdout",
          "text": [
            "[1, 4, 9, 16, 25]\n"
          ]
        }
      ]
    },
    {
      "cell_type": "code",
      "source": [
        "numbers = [1, 2, 3, 4, 5]\n",
        "\n",
        "# Apply a lambda function to square each number\n",
        "squared_numbers = map(lambda x: x ** 2, numbers)\n",
        "\n",
        "# Convert the result to a list and print it\n",
        "print(list(squared_numbers))  # Output: [1, 4, 9, 16, 25]\n"
      ],
      "metadata": {
        "colab": {
          "base_uri": "https://localhost:8080/"
        },
        "id": "I4I1aq7ycye9",
        "outputId": "6463535e-ed87-4860-a3ae-f225c735afeb"
      },
      "execution_count": 73,
      "outputs": [
        {
          "output_type": "stream",
          "name": "stdout",
          "text": [
            "[1, 4, 9, 16, 25]\n"
          ]
        }
      ]
    },
    {
      "cell_type": "code",
      "source": [
        "# Function to add two numbers\n",
        "def add(x, y):\n",
        "    return x + y\n",
        "\n",
        "list1 = [1, 2, 3]\n",
        "list2 = [4, 5, 6]\n",
        "\n",
        "# Apply the add function to each pair of elements from list1 and list2\n",
        "sum_list = map(add, list1, list2)\n",
        "\n",
        "# Convert the result to a list and print it\n",
        "print(list(sum_list))  # Output: [5, 7, 9]\n"
      ],
      "metadata": {
        "colab": {
          "base_uri": "https://localhost:8080/"
        },
        "id": "Zr_xT0RRcyho",
        "outputId": "cce6b76e-fc0a-4c58-8e69-0c21e33e4d64"
      },
      "execution_count": 74,
      "outputs": [
        {
          "output_type": "stream",
          "name": "stdout",
          "text": [
            "[5, 7, 9]\n"
          ]
        }
      ]
    },
    {
      "cell_type": "code",
      "source": [
        "string_numbers = [\"1\", \"2\", \"3\", \"4\", \"5\"]\n",
        "\n",
        "# Use map() to convert the strings to integers\n",
        "int_numbers = map(int, string_numbers)\n",
        "\n",
        "# Convert the result to a list and print it\n",
        "print(list(int_numbers))  # Output: [1, 2, 3, 4, 5]\n"
      ],
      "metadata": {
        "colab": {
          "base_uri": "https://localhost:8080/"
        },
        "id": "EzvmKuvecykL",
        "outputId": "2c67e578-ca7e-4ea3-bef0-d1afbeb91c6d"
      },
      "execution_count": 75,
      "outputs": [
        {
          "output_type": "stream",
          "name": "stdout",
          "text": [
            "[1, 2, 3, 4, 5]\n"
          ]
        }
      ]
    },
    {
      "cell_type": "markdown",
      "source": [
        "The filter() function in Python is used to filter elements from an iterable (like a list, tuple, etc.) based on a condition defined by a function. The filter() function returns an iterator that includes only those elements that satisfy the condition (i.e., where the function returns True).\n",
        "\n",
        "filter(function, iterable)\n"
      ],
      "metadata": {
        "id": "FIanTc79iBmH"
      }
    },
    {
      "cell_type": "code",
      "source": [
        "##1. Filtering Even Numbers:\n",
        "# Function to check if a number is even\n",
        "def is_even(x):\n",
        "    return x % 2 == 0\n",
        "\n",
        "numbers = [1, 2, 3, 4, 5, 6, 7, 8, 9, 10]\n",
        "\n",
        "# Filter the even numbers\n",
        "even_numbers = filter(is_even, numbers)\n",
        "\n",
        "# Convert the result to a list and print it\n",
        "print(list(even_numbers))  # Output: [2, 4, 6, 8, 10]\n"
      ],
      "metadata": {
        "colab": {
          "base_uri": "https://localhost:8080/"
        },
        "id": "Ftjya39ucym2",
        "outputId": "4cf06508-4e06-4c27-e866-be900dd19bdf"
      },
      "execution_count": 76,
      "outputs": [
        {
          "output_type": "stream",
          "name": "stdout",
          "text": [
            "[2, 4, 6, 8, 10]\n"
          ]
        }
      ]
    },
    {
      "cell_type": "code",
      "source": [
        "##2. Using filter() with a Lambda Function:\n",
        "numbers = [1, 2, 3, 4, 5, 6, 7, 8, 9, 10]\n",
        "\n",
        "# Use filter with a lambda function to filter even numbers\n",
        "even_numbers = filter(lambda x: x % 2 == 0, numbers)\n",
        "\n",
        "# Convert the result to a list and print it\n",
        "print(list(even_numbers))  # Output: [2, 4, 6, 8, 10]\n"
      ],
      "metadata": {
        "colab": {
          "base_uri": "https://localhost:8080/"
        },
        "id": "rf9ZoS2JcyqY",
        "outputId": "5d2f2eac-6558-4b9a-b660-adcafb2b8beb"
      },
      "execution_count": 77,
      "outputs": [
        {
          "output_type": "stream",
          "name": "stdout",
          "text": [
            "[2, 4, 6, 8, 10]\n"
          ]
        }
      ]
    },
    {
      "cell_type": "code",
      "source": [
        "##3. Filtering Odd Numbers:\n",
        "numbers = [1, 2, 3, 4, 5, 6, 7, 8, 9, 10]\n",
        "\n",
        "# Filter the odd numbers\n",
        "odd_numbers = filter(lambda x: x % 2 != 0, numbers)\n",
        "\n",
        "# Convert the result to a list and print it\n",
        "print(list(odd_numbers))  # Output: [1, 3, 5, 7, 9]\n"
      ],
      "metadata": {
        "colab": {
          "base_uri": "https://localhost:8080/"
        },
        "id": "ywhIfNAcXHxO",
        "outputId": "c3e7f1ca-11f6-4a8b-9632-b12faadac545"
      },
      "execution_count": 78,
      "outputs": [
        {
          "output_type": "stream",
          "name": "stdout",
          "text": [
            "[1, 3, 5, 7, 9]\n"
          ]
        }
      ]
    },
    {
      "cell_type": "code",
      "source": [
        "##4. Filtering Strings with a Condition:\n",
        "words = [\"apple\", \"banana\", \"kiwi\", \"orange\", \"pear\"]\n",
        "\n",
        "# Filter words longer than 3 characters\n",
        "long_words = filter(lambda x: len(x) > 3, words)\n",
        "\n",
        "# Convert the result to a list and print it\n",
        "print(list(long_words))  # Output: ['apple', 'banana', 'orange']\n"
      ],
      "metadata": {
        "colab": {
          "base_uri": "https://localhost:8080/"
        },
        "id": "N-qoj_BpiW_T",
        "outputId": "3f7b3323-9347-4857-9b64-d952116ea3fc"
      },
      "execution_count": 79,
      "outputs": [
        {
          "output_type": "stream",
          "name": "stdout",
          "text": [
            "['apple', 'banana', 'kiwi', 'orange', 'pear']\n"
          ]
        }
      ]
    },
    {
      "cell_type": "code",
      "source": [],
      "metadata": {
        "id": "l5b71FuMiXB_"
      },
      "execution_count": null,
      "outputs": []
    },
    {
      "cell_type": "code",
      "source": [],
      "metadata": {
        "id": "irsHIbfpiXEl"
      },
      "execution_count": null,
      "outputs": []
    },
    {
      "cell_type": "code",
      "source": [],
      "metadata": {
        "id": "3QplOrHriXHF"
      },
      "execution_count": null,
      "outputs": []
    },
    {
      "cell_type": "code",
      "source": [],
      "metadata": {
        "id": "wTxatClCiXJn"
      },
      "execution_count": null,
      "outputs": []
    },
    {
      "cell_type": "code",
      "source": [],
      "metadata": {
        "id": "3kgNXcjfiXNC"
      },
      "execution_count": null,
      "outputs": []
    }
  ]
}