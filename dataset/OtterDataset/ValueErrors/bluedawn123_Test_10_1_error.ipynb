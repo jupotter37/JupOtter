{
 "metadata": {
  "language_info": {
   "codemirror_mode": {
    "name": "ipython",
    "version": 3
   },
   "file_extension": ".py",
   "mimetype": "text/x-python",
   "name": "python",
   "nbconvert_exporter": "python",
   "pygments_lexer": "ipython3",
   "version": "3.7.6"
  },
  "orig_nbformat": 2,
  "kernelspec": {
   "name": "python376jvsc74a57bd0e25e0584590c458883016a89e0cf53be7d76548718d22946ce414c44a74f5c84",
   "display_name": "Python 3.7.6 64-bit ('cpv': conda)"
  }
 },
 "nbformat": 4,
 "nbformat_minor": 2,
 "cells": [
  {
   "cell_type": "code",
   "execution_count": 3,
   "metadata": {},
   "outputs": [
    {
     "output_type": "stream",
     "name": "stdout",
     "text": [
      "나누기 전용 계산기\n"
     ]
    },
    {
     "output_type": "error",
     "ename": "ValueError",
     "evalue": "invalid literal for int() with base 10: 'ㅇ'",
     "traceback": [
      "\u001b[1;31m---------------------------------------------------------------------------\u001b[0m",
      "\u001b[1;31mValueError\u001b[0m                                Traceback (most recent call last)",
      "\u001b[1;32m<ipython-input-3-51d78bb867f2>\u001b[0m in \u001b[0;36m<module>\u001b[1;34m\u001b[0m\n\u001b[0;32m      1\u001b[0m \u001b[0mprint\u001b[0m\u001b[1;33m(\u001b[0m\u001b[1;34m\"나누기 전용 계산기\"\u001b[0m\u001b[1;33m)\u001b[0m\u001b[1;33m\u001b[0m\u001b[1;33m\u001b[0m\u001b[0m\n\u001b[0;32m      2\u001b[0m \u001b[0mnum1\u001b[0m \u001b[1;33m=\u001b[0m \u001b[0mint\u001b[0m\u001b[1;33m(\u001b[0m\u001b[0minput\u001b[0m\u001b[1;33m(\u001b[0m\u001b[1;34m\"첫번째 숫자를 입력하시오\"\u001b[0m\u001b[1;33m)\u001b[0m\u001b[1;33m)\u001b[0m\u001b[1;33m\u001b[0m\u001b[1;33m\u001b[0m\u001b[0m\n\u001b[1;32m----> 3\u001b[1;33m \u001b[0mnum2\u001b[0m \u001b[1;33m=\u001b[0m \u001b[0mint\u001b[0m\u001b[1;33m(\u001b[0m\u001b[0minput\u001b[0m\u001b[1;33m(\u001b[0m\u001b[1;34m\"첫번째 숫자를 입력하시오\"\u001b[0m\u001b[1;33m)\u001b[0m\u001b[1;33m)\u001b[0m\u001b[1;33m\u001b[0m\u001b[1;33m\u001b[0m\u001b[0m\n\u001b[0m\u001b[0;32m      4\u001b[0m \u001b[1;33m\u001b[0m\u001b[0m\n\u001b[0;32m      5\u001b[0m \u001b[0mprint\u001b[0m\u001b[1;33m(\u001b[0m\u001b[1;34m\"{0} / {1} = {2}\"\u001b[0m\u001b[1;33m.\u001b[0m\u001b[0mformat\u001b[0m\u001b[1;33m(\u001b[0m\u001b[0mnum1\u001b[0m\u001b[1;33m,\u001b[0m \u001b[0mnum2\u001b[0m\u001b[1;33m,\u001b[0m \u001b[0mfloat\u001b[0m\u001b[1;33m(\u001b[0m\u001b[0mnum1\u001b[0m\u001b[1;33m/\u001b[0m\u001b[0mnum2\u001b[0m\u001b[1;33m)\u001b[0m\u001b[1;33m)\u001b[0m\u001b[1;33m)\u001b[0m\u001b[1;33m\u001b[0m\u001b[1;33m\u001b[0m\u001b[0m\n",
      "\u001b[1;31mValueError\u001b[0m: invalid literal for int() with base 10: 'ㅇ'"
     ]
    }
   ],
   "source": [
    "#1\n",
    "print(\"나누기 전용 계산기\")\n",
    "num1 = int(input(\"첫번째 숫자를 입력하시오\"))\n",
    "num2 = int(input(\"첫번째 숫자를 입력하시오\"))\n",
    "print(\"{0} / {1} = {2}\".format(num1, num2, float(num1/num2)))\n",
    "\n",
    "#숫자대신 한글을 넣으면, ValueError: invalid literal for int() with base 10: 'ㅇ' 이런 에러가 나온다. "
   ]
  },
  {
   "cell_type": "code",
   "execution_count": 7,
   "metadata": {},
   "outputs": [
    {
     "output_type": "stream",
     "name": "stdout",
     "text": [
      "나누기 전용 계산기\n",
      "division by zero\n"
     ]
    }
   ],
   "source": [
    "#2\n",
    "try:\n",
    "    print(\"나누기 전용 계산기\")\n",
    "    num1 = int(input(\"첫번째 숫자를 입력하시오\"))\n",
    "    num2 = int(input(\"첫번째 숫자를 입력하시오\"))\n",
    "    print(\"{0} / {1} = {2}\".format(num1, num2, float(num1/num2)))\n",
    "\n",
    "except ValueError:\n",
    "    print(\"에러가 발생했습니다.\") \n",
    "except ZeroDivisionError as sdfdsddd:  #0넣으면 ZeroDivisionError발생하므로 except에 추가:\n",
    "    print(sdfdsddd)\n",
    "\n",
    "#에러 처리를 원하는 대로 해줄 수 있다"
   ]
  },
  {
   "cell_type": "code",
   "execution_count": 8,
   "metadata": {},
   "outputs": [
    {
     "output_type": "stream",
     "name": "stdout",
     "text": [
      "나누기 전용 계산기\n",
      "6 / 3 = 2\n"
     ]
    }
   ],
   "source": [
    "#3\n",
    "try:\n",
    "    print(\"나누기 전용 계산기\")\n",
    "    nums = []\n",
    "    nums.append(int(input(\"첫번째 숫자를 입력하시오\")))  #리스트 순서대로 저장\n",
    "    nums.append(int(input(\"첫번째 숫자를 입력하시오\")))\n",
    "    nums.append(int(nums[0] / nums[1]))                #첫 숫자 나누기 두번째 숫자 한 값도 리스트에 3번째( [2] )로 저장된다.\n",
    "\n",
    "    print(\"{0} / {1} = {2}\".format(nums[0], nums[1], nums[2]))\n",
    "\n",
    "except ValueError:\n",
    "    print(\"에러가 발생했습니다.\") \n",
    "except ZeroDivisionError as sdfdsddd:  #0넣으면 ZeroDivisionError발생하므로 except에 추가:\n",
    "    print(sdfdsddd)\n",
    "\n",
    "#에러 처리를 원하는 대로 해줄 수 있다"
   ]
  },
  {
   "cell_type": "code",
   "execution_count": 13,
   "metadata": {},
   "outputs": [
    {
     "output_type": "stream",
     "name": "stdout",
     "text": [
      "나누기 전용 계산기\n",
      "알 수 없는 에러가 발생하였습니다.\n",
      "list index out of range\n"
     ]
    }
   ],
   "source": [
    "#3 - 2\n",
    "#3\n",
    "try:\n",
    "    print(\"나누기 전용 계산기\")\n",
    "    nums = []\n",
    "    nums.append(int(input(\"첫번째 숫자를 입력하시오\")))  #리스트 순서대로 저장\n",
    "    nums.append(int(input(\"첫번째 숫자를 입력하시오\")))\n",
    "    \n",
    "    # 아래 부분을 error 발생시키기\n",
    "    # nums.append(int(nums[0] / nums[1]))                #첫 숫자 나누기 두번째 숫자 한 값도 리스트에 3번째( [2] )로 저장된다.\n",
    "\n",
    "    print(\"{0} / {1} = {2}\".format(nums[0], nums[1], nums[2]))\n",
    "\n",
    "except ValueError:\n",
    "    print(\"에러가 발생했습니다.\") \n",
    "except ZeroDivisionError as sdfdsddd:  #0넣으면 ZeroDivisionError발생하므로 except에 추가:\n",
    "    print(sdfdsddd)\n",
    "\n",
    "#list index out of range 에러 발생.\n",
    "except Exception as err:\n",
    "    print(\"알 수 없는 에러가 발생하였습니다.\")\n",
    "    print(err)   #정확한 에러 표시 => list index out of range로 잘 출력이 된다.\n",
    "\n",
    "#즉! ValueError나 ZeroDivisionError가 아닌 모든 에러에 대해서 원하는 대로 출력가능"
   ]
  },
  {
   "cell_type": "code",
   "execution_count": null,
   "metadata": {},
   "outputs": [],
   "source": [
    "\n",
    "\n"
   ]
  }
 ]
}