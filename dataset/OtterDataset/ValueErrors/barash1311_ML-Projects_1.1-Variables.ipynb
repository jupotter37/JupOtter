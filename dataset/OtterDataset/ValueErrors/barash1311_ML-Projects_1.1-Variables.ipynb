{
 "cells": [
  {
   "cell_type": "markdown",
   "metadata": {},
   "source": [
    "## variables"
   ]
  },
  {
   "cell_type": "code",
   "execution_count": 2,
   "metadata": {},
   "outputs": [],
   "source": [
    "a=100"
   ]
  },
  {
   "cell_type": "code",
   "execution_count": 6,
   "metadata": {},
   "outputs": [
    {
     "name": "stdout",
     "output_type": "stream",
     "text": [
      "True\n",
      "32\n",
      "age: 32\n",
      "name:barash\n",
      "height:6.1\n",
      "age:32\n",
      "student:True\n",
      "\n"
     ]
    }
   ],
   "source": [
    "##declaring and assigning variable\n",
    "age=32\n",
    "height=6.1\n",
    "name=\"barash\"\n",
    "is_Student=True\n",
    "print(is_Student)\n",
    "print(age)\n",
    "print(\"age:\",age)\n",
    "print(f\"name:{name}\\nheight:{height}\\nage:{age}\\nstudent:{is_Student}\\n\")"
   ]
  },
  {
   "cell_type": "code",
   "execution_count": 7,
   "metadata": {},
   "outputs": [],
   "source": [
    "## Naming convention\n",
    "## names should be descriptive\n",
    "##they can start with _ alphabet but can't with a number\n",
    "## can include alhpa numberic and are case sensitive\n",
    "\n",
    "##valid name\n",
    "first_name=\"barash\"\n",
    "last_name=\"sharma\"\n",
    "is_student=True"
   ]
  },
  {
   "cell_type": "code",
   "execution_count": 8,
   "metadata": {},
   "outputs": [],
   "source": [
    "##case sensitive\n",
    "name=\"barsh\"\n",
    "Name=\"sharma\"\n"
   ]
  },
  {
   "cell_type": "code",
   "execution_count": 9,
   "metadata": {},
   "outputs": [
    {
     "name": "stdout",
     "output_type": "stream",
     "text": [
      "<class 'bool'>\n"
     ]
    }
   ],
   "source": [
    "##python is dynamicall typed\n",
    "age=23 #int\n",
    "height=6.1 #float\n",
    "name=\"barash\" #str\n",
    "is_student=True #bool\n",
    "print(type(is_student))\n",
    "\n"
   ]
  },
  {
   "cell_type": "code",
   "execution_count": 10,
   "metadata": {},
   "outputs": [
    {
     "data": {
      "text/plain": [
       "float"
      ]
     },
     "execution_count": 10,
     "metadata": {},
     "output_type": "execute_result"
    }
   ],
   "source": [
    "## Type checking and conversion\n",
    "type(height)"
   ]
  },
  {
   "cell_type": "code",
   "execution_count": 14,
   "metadata": {},
   "outputs": [
    {
     "name": "stdout",
     "output_type": "stream",
     "text": [
      "25\n",
      "<class 'str'>\n",
      "25\n"
     ]
    }
   ],
   "source": [
    "age=25\n",
    "print(age)\n",
    "age_str=str(age)\n",
    "print(type(age_str))\n",
    "print(age_str)"
   ]
  },
  {
   "cell_type": "code",
   "execution_count": 15,
   "metadata": {},
   "outputs": [
    {
     "name": "stdout",
     "output_type": "stream",
     "text": [
      "<class 'int'>\n"
     ]
    }
   ],
   "source": [
    "age=\"25\"\n",
    "string_age=int(age)\n",
    "print(type(string_age))\n"
   ]
  },
  {
   "cell_type": "code",
   "execution_count": 16,
   "metadata": {},
   "outputs": [
    {
     "ename": "ValueError",
     "evalue": "invalid literal for int() with base 10: 'barash'",
     "output_type": "error",
     "traceback": [
      "\u001b[1;31m---------------------------------------------------------------------------\u001b[0m",
      "\u001b[1;31mValueError\u001b[0m                                Traceback (most recent call last)",
      "Cell \u001b[1;32mIn[16], line 2\u001b[0m\n\u001b[0;32m      1\u001b[0m name\u001b[38;5;241m=\u001b[39m\u001b[38;5;124m\"\u001b[39m\u001b[38;5;124mbarash\u001b[39m\u001b[38;5;124m\"\u001b[39m\n\u001b[1;32m----> 2\u001b[0m \u001b[38;5;28;43mint\u001b[39;49m\u001b[43m(\u001b[49m\u001b[43mname\u001b[49m\u001b[43m)\u001b[49m\n",
      "\u001b[1;31mValueError\u001b[0m: invalid literal for int() with base 10: 'barash'"
     ]
    }
   ],
   "source": [
    "name=\"barash\"\n",
    "int(name)"
   ]
  },
  {
   "cell_type": "code",
   "execution_count": 19,
   "metadata": {},
   "outputs": [
    {
     "data": {
      "text/plain": [
       "int"
      ]
     },
     "execution_count": 19,
     "metadata": {},
     "output_type": "execute_result"
    }
   ],
   "source": [
    "height=5.11\n",
    "he=int(height)\n",
    "type(he)"
   ]
  },
  {
   "cell_type": "code",
   "execution_count": 21,
   "metadata": {},
   "outputs": [
    {
     "data": {
      "text/plain": [
       "5.0"
      ]
     },
     "execution_count": 21,
     "metadata": {},
     "output_type": "execute_result"
    }
   ],
   "source": [
    "float(int(height))"
   ]
  },
  {
   "cell_type": "code",
   "execution_count": 26,
   "metadata": {},
   "outputs": [
    {
     "name": "stdout",
     "output_type": "stream",
     "text": [
      "12 <class 'int'>\n",
      "hello <class 'str'>\n",
      "12.0 <class 'float'>\n",
      "True <class 'bool'>\n"
     ]
    }
   ],
   "source": [
    "#dynamic typing\n",
    "## python allw the type of variable to change when porgam execute\n",
    "var=12\n",
    "print(var,type(var))\n",
    "\n",
    "var=\"hello\"\n",
    "print(var,type(var))\n",
    "\n",
    "var=12.0\n",
    "print(var,type(var))\n",
    "\n",
    "var=True\n",
    "print(var,type(var))"
   ]
  },
  {
   "cell_type": "code",
   "execution_count": 28,
   "metadata": {},
   "outputs": [
    {
     "name": "stdout",
     "output_type": "stream",
     "text": [
      "23 <class 'int'>\n"
     ]
    }
   ],
   "source": [
    "##input\n",
    "age=int(input(\"enter the age:\"))\n",
    "print(age,type(age))"
   ]
  },
  {
   "cell_type": "code",
   "execution_count": 30,
   "metadata": {},
   "outputs": [
    {
     "name": "stdout",
     "output_type": "stream",
     "text": [
      "5.0 <class 'float'>\n",
      "-1.0 <class 'float'>\n",
      "6.0 <class 'float'>\n",
      "0.67 <class 'float'>\n"
     ]
    }
   ],
   "source": [
    "## simple calculator\n",
    "num1=float(input(\"enter the first number:\"))\n",
    "num2=float(input(\"enter the second number:\"))\n",
    "sum=num1+num2\n",
    "difference=num1-num2\n",
    "multiply=num1*num2\n",
    "divide=round(num1/num2,2)\n",
    "print(sum,type(sum))\n",
    "print(difference,type(difference))\n",
    "print(multiply,type(multiply))\n",
    "print(divide,type(divide))\n",
    "\n"
   ]
  },
  {
   "cell_type": "code",
   "execution_count": null,
   "metadata": {},
   "outputs": [],
   "source": []
  }
 ],
 "metadata": {
  "kernelspec": {
   "display_name": "Python 3",
   "language": "python",
   "name": "python3"
  },
  "language_info": {
   "codemirror_mode": {
    "name": "ipython",
    "version": 3
   },
   "file_extension": ".py",
   "mimetype": "text/x-python",
   "name": "python",
   "nbconvert_exporter": "python",
   "pygments_lexer": "ipython3",
   "version": "3.12.0"
  }
 },
 "nbformat": 4,
 "nbformat_minor": 2
}
