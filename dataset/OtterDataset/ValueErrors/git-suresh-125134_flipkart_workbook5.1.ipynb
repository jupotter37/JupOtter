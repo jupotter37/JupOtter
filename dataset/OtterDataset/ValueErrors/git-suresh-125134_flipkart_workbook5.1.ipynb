{
 "cells": [
  {
   "cell_type": "code",
   "execution_count": 1,
   "id": "bb2c1a83-9f8e-45fd-a1f8-a434f87d938f",
   "metadata": {},
   "outputs": [],
   "source": [
    "#program to print anagram"
   ]
  },
  {
   "cell_type": "code",
   "execution_count": 6,
   "id": "0f885a13-b484-4283-9818-b6a738380201",
   "metadata": {},
   "outputs": [
    {
     "name": "stdin",
     "output_type": "stream",
     "text": [
      "enter 1st string:  listen\n",
      "enter 2nd string:  silent\n"
     ]
    }
   ],
   "source": [
    "s1=input('enter 1st string: ')\n",
    "s2=input('enter 2nd string: ')\n",
    "\n"
   ]
  },
  {
   "cell_type": "code",
   "execution_count": 7,
   "id": "3f0abca6-59a0-459a-8952-d33be7647d94",
   "metadata": {},
   "outputs": [],
   "source": [
    "s1=list(s1)\n",
    "s2=list(s2)\n",
    "s1.sort()\n",
    "s2.sort()\n"
   ]
  },
  {
   "cell_type": "code",
   "execution_count": 8,
   "id": "9ed1e5c7-84d2-40a0-9b90-2ca3b0dedf30",
   "metadata": {},
   "outputs": [
    {
     "name": "stdout",
     "output_type": "stream",
     "text": [
      "anagram\n"
     ]
    }
   ],
   "source": [
    "if len(s1)==len(s2):\n",
    "    if s1==s2:\n",
    "        print('anagram')\n",
    "    else:\n",
    "        print('not anagram')\n",
    "else:\n",
    "    print('not anagram')"
   ]
  },
  {
   "cell_type": "code",
   "execution_count": 11,
   "id": "2fd3509e-99bf-4885-814d-013fce031bb7",
   "metadata": {},
   "outputs": [],
   "source": [
    "class cat1:\n",
    "    x=10\n",
    "    def __init__(self,age):\n",
    "        self.age=age\n",
    "    def get_age(self):\n",
    "        print(f'I am a cat of age {self.age}')\n",
    "        \n",
    "    "
   ]
  },
  {
   "cell_type": "code",
   "execution_count": 14,
   "id": "1fd9b8e4-8567-4a46-8e2a-3f337284c3f7",
   "metadata": {},
   "outputs": [],
   "source": [
    "ob1=cat1(4)\n"
   ]
  },
  {
   "cell_type": "code",
   "execution_count": 16,
   "id": "011cd9f7-7cfc-4f67-b9cc-f86067ede897",
   "metadata": {},
   "outputs": [
    {
     "data": {
      "text/plain": [
       "4"
      ]
     },
     "execution_count": 16,
     "metadata": {},
     "output_type": "execute_result"
    }
   ],
   "source": [
    "ob1.age"
   ]
  },
  {
   "cell_type": "code",
   "execution_count": 18,
   "id": "39245c79-bab1-4011-a347-fc86dfdb80d2",
   "metadata": {},
   "outputs": [
    {
     "name": "stdout",
     "output_type": "stream",
     "text": [
      "I am a cat of age 4\n"
     ]
    }
   ],
   "source": [
    "ob1.get_age()"
   ]
  },
  {
   "cell_type": "code",
   "execution_count": 19,
   "id": "949dffcb-5c70-4019-b5ec-d21dff0ea128",
   "metadata": {},
   "outputs": [
    {
     "data": {
      "text/plain": [
       "10"
      ]
     },
     "execution_count": 19,
     "metadata": {},
     "output_type": "execute_result"
    }
   ],
   "source": [
    "cat1.x      #class level attribute"
   ]
  },
  {
   "cell_type": "code",
   "execution_count": 20,
   "id": "402b7cc0-7214-41aa-bf1d-833f892fa4a7",
   "metadata": {},
   "outputs": [],
   "source": [
    "class cat2:\n",
    "    cat_counts=[]\n",
    "    def __init__(self,age):\n",
    "        self.age=age\n",
    "        self.cat_counts.append(age)\n",
    "    def get_age(self):\n",
    "        print(f'cat of age{self.age}')\n",
    "    @classmethod    #decorator\n",
    "    def get_number_of_cats(cls):\n",
    "        print(f'no of cats is {len(cls.cat_counts)}')"
   ]
  },
  {
   "cell_type": "code",
   "execution_count": 21,
   "id": "fe5be2c2-0bf1-487b-823e-338958a71d6f",
   "metadata": {},
   "outputs": [
    {
     "data": {
      "text/plain": [
       "[]"
      ]
     },
     "execution_count": 21,
     "metadata": {},
     "output_type": "execute_result"
    }
   ],
   "source": [
    "cat2.cat_counts\n"
   ]
  },
  {
   "cell_type": "code",
   "execution_count": 22,
   "id": "08ada7e6-c9f0-41c3-bf9f-9ed5d575d56c",
   "metadata": {},
   "outputs": [
    {
     "name": "stdout",
     "output_type": "stream",
     "text": [
      "no of cats is 0\n"
     ]
    }
   ],
   "source": [
    "cat2.get_number_of_cats()"
   ]
  },
  {
   "cell_type": "code",
   "execution_count": 26,
   "id": "139fdd57-af8c-4f35-afac-4ab2b7c03241",
   "metadata": {},
   "outputs": [],
   "source": [
    "ob1_cat=cat2(3)"
   ]
  },
  {
   "cell_type": "code",
   "execution_count": 28,
   "id": "af8b05f0-5102-4db0-8c47-8eb099c4c14a",
   "metadata": {},
   "outputs": [
    {
     "data": {
      "text/plain": [
       "[3]"
      ]
     },
     "execution_count": 28,
     "metadata": {},
     "output_type": "execute_result"
    }
   ],
   "source": [
    "ob1_cat.cat_counts"
   ]
  },
  {
   "cell_type": "code",
   "execution_count": 29,
   "id": "25d0794f-f720-4d35-95a8-86a99ddfe38b",
   "metadata": {},
   "outputs": [
    {
     "name": "stdout",
     "output_type": "stream",
     "text": [
      "no of cats is 1\n"
     ]
    }
   ],
   "source": [
    "ob1_cat.get_number_of_cats()"
   ]
  },
  {
   "cell_type": "code",
   "execution_count": 30,
   "id": "27712b70-24a1-4330-bbae-8cc38eb2959d",
   "metadata": {},
   "outputs": [],
   "source": [
    "ob2_cat=cat2(5)"
   ]
  },
  {
   "cell_type": "code",
   "execution_count": 32,
   "id": "7a3a9600-58e0-43f9-b72c-57a6cc1167aa",
   "metadata": {},
   "outputs": [
    {
     "name": "stdout",
     "output_type": "stream",
     "text": [
      "no of cats is 2\n"
     ]
    }
   ],
   "source": [
    "cat2.get_number_of_cats()"
   ]
  },
  {
   "cell_type": "code",
   "execution_count": 31,
   "id": "495a6c77-2368-432f-a8af-113978df2aab",
   "metadata": {},
   "outputs": [
    {
     "data": {
      "text/plain": [
       "[3, 5]"
      ]
     },
     "execution_count": 31,
     "metadata": {},
     "output_type": "execute_result"
    }
   ],
   "source": [
    "ob2_cat.cat_counts"
   ]
  },
  {
   "cell_type": "code",
   "execution_count": 33,
   "id": "a16c211b-8720-4f86-9d1a-338b73e9c60f",
   "metadata": {},
   "outputs": [],
   "source": [
    "#static methods --- they are good as a function outside the class "
   ]
  },
  {
   "cell_type": "code",
   "execution_count": 34,
   "id": "2b7b19df-df75-4289-9314-0d249b5dd361",
   "metadata": {},
   "outputs": [],
   "source": [
    "class cat3:\n",
    "    cat_counts=[]\n",
    "    def __init__(self,age):\n",
    "        self.age=age\n",
    "        self.cat_counts.append(age)\n",
    "    def get_age(self):\n",
    "        print(f'cat of age{self.age}')\n",
    "    @classmethod    #decorator\n",
    "    def get_number_of_cats(cls):\n",
    "        print(f'no of cats is {len(cls.cat_counts)}')\n",
    "    @staticmethod    #decorator\n",
    "    def egstaticmethod():\n",
    "        print('example of static method') "
   ]
  },
  {
   "cell_type": "code",
   "execution_count": 35,
   "id": "cedfc596-3565-4428-8df2-c73a22d24ee0",
   "metadata": {},
   "outputs": [
    {
     "name": "stdout",
     "output_type": "stream",
     "text": [
      "example of static method\n"
     ]
    }
   ],
   "source": [
    "cat3.egstaticmethod()"
   ]
  },
  {
   "cell_type": "code",
   "execution_count": 36,
   "id": "1bebbbbb-c20a-4661-adb1-0a5225c0459b",
   "metadata": {},
   "outputs": [],
   "source": [
    "#abstraction"
   ]
  },
  {
   "cell_type": "code",
   "execution_count": 51,
   "id": "7072a87a-e11d-40c7-aff5-5e668bed6461",
   "metadata": {},
   "outputs": [],
   "source": [
    "from abc import ABC,abstractmethod\n",
    "\n",
    "class shape(ABC):\n",
    "    @abstractmethod\n",
    "    def area(self):\n",
    "        pass\n",
    "        "
   ]
  },
  {
   "cell_type": "code",
   "execution_count": 52,
   "id": "485306f3-10be-496c-89d1-47e180f0cffc",
   "metadata": {},
   "outputs": [],
   "source": [
    "class square(shape):\n",
    "    def __init__(self,length):\n",
    "        self.length=length\n",
    "    def area(self):\n",
    "        print(f'area is {self.length*self.length}')"
   ]
  },
  {
   "cell_type": "code",
   "execution_count": 53,
   "id": "d61de4a3-34ce-4842-97ce-9a6463af01c4",
   "metadata": {},
   "outputs": [],
   "source": [
    "ob=square(4)"
   ]
  },
  {
   "cell_type": "code",
   "execution_count": 54,
   "id": "dcc89820-7278-422b-bd5d-a22f86b104ad",
   "metadata": {},
   "outputs": [
    {
     "name": "stdout",
     "output_type": "stream",
     "text": [
      "area is 16\n"
     ]
    }
   ],
   "source": [
    "ob.area()"
   ]
  },
  {
   "cell_type": "code",
   "execution_count": 55,
   "id": "0815f51e-1407-4d69-af6d-9bf861f4272d",
   "metadata": {},
   "outputs": [
    {
     "ename": "ZeroDivisionError",
     "evalue": "division by zero",
     "output_type": "error",
     "traceback": [
      "\u001b[1;31m---------------------------------------------------------------------------\u001b[0m",
      "\u001b[1;31mZeroDivisionError\u001b[0m                         Traceback (most recent call last)",
      "Cell \u001b[1;32mIn[55], line 1\u001b[0m\n\u001b[1;32m----> 1\u001b[0m \u001b[38;5;241m10\u001b[39m\u001b[38;5;241m/\u001b[39m\u001b[38;5;241m0\u001b[39m\n",
      "\u001b[1;31mZeroDivisionError\u001b[0m: division by zero"
     ]
    }
   ],
   "source": [
    "10/0\n"
   ]
  },
  {
   "cell_type": "code",
   "execution_count": 58,
   "id": "21a7df2f-a632-4ae2-b75a-8e2bea6dbe91",
   "metadata": {},
   "outputs": [
    {
     "name": "stdin",
     "output_type": "stream",
     "text": [
      " d\n"
     ]
    },
    {
     "ename": "ValueError",
     "evalue": "invalid literal for int() with base 10: 'd'",
     "output_type": "error",
     "traceback": [
      "\u001b[1;31m---------------------------------------------------------------------------\u001b[0m",
      "\u001b[1;31mValueError\u001b[0m                                Traceback (most recent call last)",
      "Cell \u001b[1;32mIn[58], line 1\u001b[0m\n\u001b[1;32m----> 1\u001b[0m a\u001b[38;5;241m=\u001b[39m\u001b[38;5;28mint\u001b[39m(\u001b[38;5;28minput\u001b[39m())\n",
      "\u001b[1;31mValueError\u001b[0m: invalid literal for int() with base 10: 'd'"
     ]
    }
   ],
   "source": [
    "a=int(input())"
   ]
  },
  {
   "cell_type": "code",
   "execution_count": 59,
   "id": "b2368559-3c41-421c-9488-fb8242334eb8",
   "metadata": {},
   "outputs": [],
   "source": [
    "#All exceptions (errors) are subclass of the exception"
   ]
  },
  {
   "cell_type": "code",
   "execution_count": 62,
   "id": "ea93d402-231f-4543-9d7a-1bee7292bc5d",
   "metadata": {},
   "outputs": [
    {
     "data": {
      "text/plain": [
       "True"
      ]
     },
     "execution_count": 62,
     "metadata": {},
     "output_type": "execute_result"
    }
   ],
   "source": [
    "issubclass(ZeroDivisionError,Exception)"
   ]
  },
  {
   "cell_type": "code",
   "execution_count": 66,
   "id": "61c12591-87a2-452a-b4bf-5ed40b6ad98e",
   "metadata": {},
   "outputs": [
    {
     "data": {
      "text/plain": [
       "True"
      ]
     },
     "execution_count": 66,
     "metadata": {},
     "output_type": "execute_result"
    }
   ],
   "source": [
    "issubclass(ValueError,Exception)"
   ]
  },
  {
   "cell_type": "code",
   "execution_count": 65,
   "id": "508a5702-717d-4511-9bc0-9777f8f935df",
   "metadata": {},
   "outputs": [
    {
     "ename": "IndexError",
     "evalue": "list index out of range",
     "output_type": "error",
     "traceback": [
      "\u001b[1;31m---------------------------------------------------------------------------\u001b[0m",
      "\u001b[1;31mIndexError\u001b[0m                                Traceback (most recent call last)",
      "Cell \u001b[1;32mIn[65], line 2\u001b[0m\n\u001b[0;32m      1\u001b[0m l\u001b[38;5;241m=\u001b[39m[\u001b[38;5;241m1\u001b[39m,\u001b[38;5;241m2\u001b[39m,\u001b[38;5;241m3\u001b[39m]\n\u001b[1;32m----> 2\u001b[0m l[\u001b[38;5;241m4\u001b[39m]\n",
      "\u001b[1;31mIndexError\u001b[0m: list index out of range"
     ]
    }
   ],
   "source": [
    "l=[1,2,3]\n",
    "l[4]"
   ]
  },
  {
   "cell_type": "code",
   "execution_count": 67,
   "id": "5ac44940-3231-45d6-885e-bb4e9fd2c02e",
   "metadata": {},
   "outputs": [
    {
     "data": {
      "text/plain": [
       "True"
      ]
     },
     "execution_count": 67,
     "metadata": {},
     "output_type": "execute_result"
    }
   ],
   "source": [
    "issubclass(IndexError,Exception)"
   ]
  },
  {
   "cell_type": "code",
   "execution_count": 68,
   "id": "3c30eaac-22f5-4f72-ad70-973b4aa9dc29",
   "metadata": {},
   "outputs": [],
   "source": [
    "#syntax error --- we are handling\n",
    "#logic error ---- \"     \"   \"\n",
    "#run time error ----   exception handling"
   ]
  },
  {
   "cell_type": "code",
   "execution_count": 69,
   "id": "eb9f7641-2fcb-48b3-bea7-f89d18e76afb",
   "metadata": {},
   "outputs": [],
   "source": [
    "#try,except,finally,else\n"
   ]
  },
  {
   "cell_type": "code",
   "execution_count": 71,
   "id": "641ce310-ca77-4648-af60-72ef9addef57",
   "metadata": {},
   "outputs": [
    {
     "name": "stdin",
     "output_type": "stream",
     "text": [
      "enter an integer:  0\n"
     ]
    },
    {
     "name": "stdout",
     "output_type": "stream",
     "text": [
      "exception handled\n",
      "try except block finished\n",
      "10.0\n"
     ]
    }
   ],
   "source": [
    "try:\n",
    "    a=int(input('enter an integer: '))\n",
    "    b=10/a\n",
    "except:\n",
    "    print('exception handled')\n",
    "print('try except block finished')\n",
    "print(b)\n",
    "          "
   ]
  },
  {
   "cell_type": "code",
   "execution_count": 72,
   "id": "f69f2416-f684-49c9-bf2d-c9e4e853a74d",
   "metadata": {},
   "outputs": [
    {
     "name": "stdin",
     "output_type": "stream",
     "text": [
      "enter an integer:  0\n"
     ]
    },
    {
     "name": "stdout",
     "output_type": "stream",
     "text": [
      "exception handled division by zero\n",
      "try except block finished\n",
      "10.0\n"
     ]
    }
   ],
   "source": [
    "try:\n",
    "    a=int(input('enter an integer: '))\n",
    "    b=10/a\n",
    "except Exception as e:\n",
    "    print('exception handled',e)\n",
    "print('try except block finished')\n",
    "print(b)\n",
    "          "
   ]
  },
  {
   "cell_type": "code",
   "execution_count": 74,
   "id": "83219677-3137-4a11-a3d1-006b628248b9",
   "metadata": {},
   "outputs": [
    {
     "name": "stdin",
     "output_type": "stream",
     "text": [
      "enter an integer:  0\n"
     ]
    },
    {
     "name": "stdout",
     "output_type": "stream",
     "text": [
      "True\n",
      "exception handled division by zero\n",
      "try except block finished\n",
      "10.0\n"
     ]
    }
   ],
   "source": [
    "try:\n",
    "    a=int(input('enter an integer: '))\n",
    "    b=10/a\n",
    "except Exception as e:\n",
    "    print(isinstance(e,Exception))\n",
    "    print('exception handled',e)\n",
    "print('try except block finished')\n",
    "print(b)"
   ]
  },
  {
   "cell_type": "code",
   "execution_count": 76,
   "id": "2eabef39-3801-4e3a-b460-024e115f39d6",
   "metadata": {},
   "outputs": [
    {
     "name": "stdin",
     "output_type": "stream",
     "text": [
      "enter an integer:  a\n"
     ]
    },
    {
     "name": "stdout",
     "output_type": "stream",
     "text": [
      "it required an integer invalid literal for int() with base 10: 'a'\n",
      "try except block finished\n",
      "10.0\n"
     ]
    }
   ],
   "source": [
    "try:\n",
    "    a=int(input('enter an integer: '))\n",
    "    b=10/a\n",
    "except ZeroDivisionError as e:\n",
    "    print('we cannot divide a number by 0',e)\n",
    "except ValueError as e:\n",
    "    print('it required an integer',e)\n",
    "except Exception as e:\n",
    "    print('exception handled',e)\n",
    "print('try except block finished')\n",
    "print(b)"
   ]
  },
  {
   "cell_type": "code",
   "execution_count": 77,
   "id": "64fad191-1212-4b89-99d7-b5355b5bae2e",
   "metadata": {},
   "outputs": [],
   "source": [
    "#else --- it will exceuted only there is no exception"
   ]
  },
  {
   "cell_type": "code",
   "execution_count": 79,
   "id": "bcc457f7-1b23-46cf-9ab6-05f27a48a4dd",
   "metadata": {},
   "outputs": [
    {
     "name": "stdin",
     "output_type": "stream",
     "text": [
      "enter an integer:  2\n"
     ]
    },
    {
     "name": "stdout",
     "output_type": "stream",
     "text": [
      "5.0\n"
     ]
    }
   ],
   "source": [
    "try:\n",
    "    a=int(input('enter an integer: '))\n",
    "    b=10/a\n",
    "except ZeroDivisionError as e:\n",
    "    print('we cannot divide a number by 0',e)\n",
    "except ValueError as e:\n",
    "    print('it required an integer',e)\n",
    "except Exception as e:\n",
    "    print('exception handled',e)\n",
    "else:\n",
    "    print(b)"
   ]
  },
  {
   "cell_type": "code",
   "execution_count": 80,
   "id": "c0a4420e-fe47-4aae-a33b-667512f0e200",
   "metadata": {},
   "outputs": [],
   "source": [
    "#finally"
   ]
  },
  {
   "cell_type": "code",
   "execution_count": 81,
   "id": "86a088d5-49e0-4faa-a6a3-30da6fe7746f",
   "metadata": {},
   "outputs": [
    {
     "name": "stdin",
     "output_type": "stream",
     "text": [
      "enter an integer:  3\n"
     ]
    },
    {
     "name": "stdout",
     "output_type": "stream",
     "text": [
      "3.3333333333333335\n",
      "finally demo\n"
     ]
    }
   ],
   "source": [
    "try:\n",
    "    a=int(input('enter an integer: '))\n",
    "    b=10/a\n",
    "except ZeroDivisionError as e:\n",
    "    print('we cannot divide a number by 0',e)\n",
    "except ValueError as e:\n",
    "    print('it required an integer',e)\n",
    "except Exception as e:\n",
    "    print('exception handled',e)\n",
    "else:\n",
    "    print(b)\n",
    "finally:\n",
    "    print('finally demo')"
   ]
  },
  {
   "cell_type": "code",
   "execution_count": 82,
   "id": "6160535d-8222-4173-a902-326a6652b216",
   "metadata": {},
   "outputs": [],
   "source": [
    "#raising exceptions ---- assert, raise"
   ]
  },
  {
   "cell_type": "code",
   "execution_count": 83,
   "id": "16d1a3e4-f126-4dd0-b34e-9bcc55695ff8",
   "metadata": {},
   "outputs": [],
   "source": [
    "a=50"
   ]
  },
  {
   "cell_type": "code",
   "execution_count": 84,
   "id": "f8257dab-0217-442d-b383-107373c4b908",
   "metadata": {},
   "outputs": [
    {
     "ename": "AssertionError",
     "evalue": "",
     "output_type": "error",
     "traceback": [
      "\u001b[1;31m---------------------------------------------------------------------------\u001b[0m",
      "\u001b[1;31mAssertionError\u001b[0m                            Traceback (most recent call last)",
      "Cell \u001b[1;32mIn[84], line 1\u001b[0m\n\u001b[1;32m----> 1\u001b[0m \u001b[38;5;28;01massert\u001b[39;00m a\u001b[38;5;241m>\u001b[39m\u001b[38;5;241m50\u001b[39m\n",
      "\u001b[1;31mAssertionError\u001b[0m: "
     ]
    }
   ],
   "source": [
    "assert a>50"
   ]
  },
  {
   "cell_type": "code",
   "execution_count": 85,
   "id": "91d845f9-22cb-4d11-9b56-fdce1ea32a01",
   "metadata": {},
   "outputs": [],
   "source": [
    "assert a==50"
   ]
  },
  {
   "cell_type": "code",
   "execution_count": 87,
   "id": "ac49708a-e1cb-45ae-bc49-d24bee53fbec",
   "metadata": {},
   "outputs": [],
   "source": [
    "#creating custom exceptions and raise keyword"
   ]
  },
  {
   "cell_type": "code",
   "execution_count": 88,
   "id": "76f77730-8581-4a0c-b2bc-58090b4d4da0",
   "metadata": {},
   "outputs": [],
   "source": [
    "class customexception(Exception):\n",
    "    pass"
   ]
  },
  {
   "cell_type": "code",
   "execution_count": 89,
   "id": "64a5ace3-7c1e-4541-8ee4-b6ef44d9937c",
   "metadata": {},
   "outputs": [],
   "source": [
    "class input_age_out_of_limit(customexception):\n",
    "    def __init__(self,message):\n",
    "        super().__init__(message)\n"
   ]
  },
  {
   "cell_type": "code",
   "execution_count": 91,
   "id": "0266a260-69c6-46cd-94a1-1fddd0cf1a55",
   "metadata": {},
   "outputs": [
    {
     "name": "stdin",
     "output_type": "stream",
     "text": [
      "enter the age:  10\n"
     ]
    },
    {
     "ename": "input_age_out_of_limit",
     "evalue": "admission is allowed upto 5 years age only",
     "output_type": "error",
     "traceback": [
      "\u001b[1;31m---------------------------------------------------------------------------\u001b[0m",
      "\u001b[1;31minput_age_out_of_limit\u001b[0m                    Traceback (most recent call last)",
      "Cell \u001b[1;32mIn[91], line 3\u001b[0m\n\u001b[0;32m      1\u001b[0m age\u001b[38;5;241m=\u001b[39m\u001b[38;5;28mint\u001b[39m(\u001b[38;5;28minput\u001b[39m(\u001b[38;5;124m'\u001b[39m\u001b[38;5;124menter the age: \u001b[39m\u001b[38;5;124m'\u001b[39m))\n\u001b[0;32m      2\u001b[0m \u001b[38;5;28;01mif\u001b[39;00m age\u001b[38;5;241m>\u001b[39m\u001b[38;5;241m5\u001b[39m:\n\u001b[1;32m----> 3\u001b[0m     \u001b[38;5;28;01mraise\u001b[39;00m input_age_out_of_limit(\u001b[38;5;124m'\u001b[39m\u001b[38;5;124madmission is allowed upto 5 years age only\u001b[39m\u001b[38;5;124m'\u001b[39m)\n",
      "\u001b[1;31minput_age_out_of_limit\u001b[0m: admission is allowed upto 5 years age only"
     ]
    }
   ],
   "source": [
    "age=int(input('enter the age: '))\n",
    "if age>5:\n",
    "    raise input_age_out_of_limit('admission is allowed upto 5 years age only')"
   ]
  },
  {
   "cell_type": "code",
   "execution_count": null,
   "id": "dd862950-2d20-4c1b-82a9-253ef1ee7d10",
   "metadata": {},
   "outputs": [],
   "source": []
  }
 ],
 "metadata": {
  "kernelspec": {
   "display_name": "Python 3 (ipykernel)",
   "language": "python",
   "name": "python3"
  },
  "language_info": {
   "codemirror_mode": {
    "name": "ipython",
    "version": 3
   },
   "file_extension": ".py",
   "mimetype": "text/x-python",
   "name": "python",
   "nbconvert_exporter": "python",
   "pygments_lexer": "ipython3",
   "version": "3.12.4"
  }
 },
 "nbformat": 4,
 "nbformat_minor": 5
}
