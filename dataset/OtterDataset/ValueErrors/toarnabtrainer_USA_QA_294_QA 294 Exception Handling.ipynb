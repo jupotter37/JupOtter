{
 "cells": [
  {
   "cell_type": "markdown",
   "id": "e7b00f45-4a2c-47ad-922f-652eea4a2117",
   "metadata": {},
   "source": [
    "# **Python Exception Handling**"
   ]
  },
  {
   "cell_type": "code",
   "execution_count": 3,
   "id": "09980a5c-bea4-433f-bcee-eec827c8d8d1",
   "metadata": {},
   "outputs": [
    {
     "name": "stdin",
     "output_type": "stream",
     "text": [
      "Please enter the first number: 100\n",
      "Please enter the second number: 20\n"
     ]
    },
    {
     "name": "stdout",
     "output_type": "stream",
     "text": [
      "Performing the division operation...\n",
      "So 100 / 20 = 5.0...\n",
      "End of the program...\n"
     ]
    }
   ],
   "source": [
    "num1 = int(input(\"Please enter the first number:\"))\n",
    "num2 = int(input(\"Please enter the second number:\"))\n",
    "print (\"Performing the division operation...\")\n",
    "result = num1 / num2\n",
    "print (f\"So {num1} / {num2} = {result}...\")\n",
    "print (\"End of the program...\")"
   ]
  },
  {
   "cell_type": "code",
   "execution_count": 4,
   "id": "336a2b5b-b425-4c45-aad0-ec0ee391010d",
   "metadata": {},
   "outputs": [
    {
     "name": "stdin",
     "output_type": "stream",
     "text": [
      "Please enter the first number: 100\n",
      "Please enter the second number: 0\n"
     ]
    },
    {
     "name": "stdout",
     "output_type": "stream",
     "text": [
      "Performing the division operation...\n"
     ]
    },
    {
     "ename": "ZeroDivisionError",
     "evalue": "division by zero",
     "output_type": "error",
     "traceback": [
      "\u001b[1;31m---------------------------------------------------------------------------\u001b[0m",
      "\u001b[1;31mZeroDivisionError\u001b[0m                         Traceback (most recent call last)",
      "Cell \u001b[1;32mIn[4], line 4\u001b[0m\n\u001b[0;32m      2\u001b[0m num2 \u001b[38;5;241m=\u001b[39m \u001b[38;5;28mint\u001b[39m(\u001b[38;5;28minput\u001b[39m(\u001b[38;5;124m\"\u001b[39m\u001b[38;5;124mPlease enter the second number:\u001b[39m\u001b[38;5;124m\"\u001b[39m))\n\u001b[0;32m      3\u001b[0m \u001b[38;5;28mprint\u001b[39m (\u001b[38;5;124m\"\u001b[39m\u001b[38;5;124mPerforming the division operation...\u001b[39m\u001b[38;5;124m\"\u001b[39m)\n\u001b[1;32m----> 4\u001b[0m result \u001b[38;5;241m=\u001b[39m num1 \u001b[38;5;241m/\u001b[39m num2\n\u001b[0;32m      5\u001b[0m \u001b[38;5;28mprint\u001b[39m (\u001b[38;5;124mf\u001b[39m\u001b[38;5;124m\"\u001b[39m\u001b[38;5;124mSo \u001b[39m\u001b[38;5;132;01m{\u001b[39;00mnum1\u001b[38;5;132;01m}\u001b[39;00m\u001b[38;5;124m / \u001b[39m\u001b[38;5;132;01m{\u001b[39;00mnum2\u001b[38;5;132;01m}\u001b[39;00m\u001b[38;5;124m = \u001b[39m\u001b[38;5;132;01m{\u001b[39;00mresult\u001b[38;5;132;01m}\u001b[39;00m\u001b[38;5;124m...\u001b[39m\u001b[38;5;124m\"\u001b[39m)\n\u001b[0;32m      6\u001b[0m \u001b[38;5;28mprint\u001b[39m (\u001b[38;5;124m\"\u001b[39m\u001b[38;5;124mEnd of the program...\u001b[39m\u001b[38;5;124m\"\u001b[39m)\n",
      "\u001b[1;31mZeroDivisionError\u001b[0m: division by zero"
     ]
    }
   ],
   "source": [
    "num1 = int(input(\"Please enter the first number:\"))\n",
    "num2 = int(input(\"Please enter the second number:\"))\n",
    "print (\"Performing the division operation...\")\n",
    "result = num1 / num2\n",
    "print (f\"So {num1} / {num2} = {result}...\")\n",
    "print (\"End of the program...\")"
   ]
  },
  {
   "cell_type": "code",
   "execution_count": 6,
   "id": "98a849d2-5d7b-4e9e-a894-07b7ad897985",
   "metadata": {},
   "outputs": [
    {
     "name": "stdin",
     "output_type": "stream",
     "text": [
      "Please enter the first number: 100\n",
      "Please enter the second number: 0\n"
     ]
    },
    {
     "name": "stdout",
     "output_type": "stream",
     "text": [
      "Performing the division operation...\n",
      "ZeroDivisionError: Division by ZERO is Illegal !!!\n",
      "ZeroDivisionError: Error type: <class 'ZeroDivisionError'>\n",
      "ZeroDivisionError: Error message: division by zero\n",
      "End of the program...\n"
     ]
    }
   ],
   "source": [
    "try:\n",
    "    num1 = int(input(\"Please enter the first number:\"))\n",
    "    num2 = int(input(\"Please enter the second number:\"))\n",
    "    print (\"Performing the division operation...\")\n",
    "    result = num1 / num2\n",
    "    print (f\"So {num1} / {num2} = {result}...\")\n",
    "except ZeroDivisionError as zde:\n",
    "    print (\"ZeroDivisionError: Division by ZERO is Illegal !!!\")\n",
    "    print (\"ZeroDivisionError: Error type:\", type(zde))\n",
    "    print (\"ZeroDivisionError: Error message:\", zde)\n",
    "print (\"End of the program...\")"
   ]
  },
  {
   "cell_type": "code",
   "execution_count": 7,
   "id": "558f67b0-5b48-41bb-9139-89a08cecb7fd",
   "metadata": {},
   "outputs": [
    {
     "name": "stdin",
     "output_type": "stream",
     "text": [
      "Please enter the first number: 100\n",
      "Please enter the second number: two\n"
     ]
    },
    {
     "ename": "ValueError",
     "evalue": "invalid literal for int() with base 10: 'two'",
     "output_type": "error",
     "traceback": [
      "\u001b[1;31m---------------------------------------------------------------------------\u001b[0m",
      "\u001b[1;31mValueError\u001b[0m                                Traceback (most recent call last)",
      "Cell \u001b[1;32mIn[7], line 3\u001b[0m\n\u001b[0;32m      1\u001b[0m \u001b[38;5;28;01mtry\u001b[39;00m:\n\u001b[0;32m      2\u001b[0m     num1 \u001b[38;5;241m=\u001b[39m \u001b[38;5;28mint\u001b[39m(\u001b[38;5;28minput\u001b[39m(\u001b[38;5;124m\"\u001b[39m\u001b[38;5;124mPlease enter the first number:\u001b[39m\u001b[38;5;124m\"\u001b[39m))\n\u001b[1;32m----> 3\u001b[0m     num2 \u001b[38;5;241m=\u001b[39m \u001b[38;5;28mint\u001b[39m(\u001b[38;5;28minput\u001b[39m(\u001b[38;5;124m\"\u001b[39m\u001b[38;5;124mPlease enter the second number:\u001b[39m\u001b[38;5;124m\"\u001b[39m))\n\u001b[0;32m      4\u001b[0m     \u001b[38;5;28mprint\u001b[39m (\u001b[38;5;124m\"\u001b[39m\u001b[38;5;124mPerforming the division operation...\u001b[39m\u001b[38;5;124m\"\u001b[39m)\n\u001b[0;32m      5\u001b[0m     result \u001b[38;5;241m=\u001b[39m num1 \u001b[38;5;241m/\u001b[39m num2\n",
      "\u001b[1;31mValueError\u001b[0m: invalid literal for int() with base 10: 'two'"
     ]
    }
   ],
   "source": [
    "try:\n",
    "    num1 = int(input(\"Please enter the first number:\"))\n",
    "    num2 = int(input(\"Please enter the second number:\"))\n",
    "    print (\"Performing the division operation...\")\n",
    "    result = num1 / num2\n",
    "    print (f\"So {num1} / {num2} = {result}...\")\n",
    "except ZeroDivisionError as zde:\n",
    "    print (\"ZeroDivisionError: Division by ZERO is Illegal !!!\")\n",
    "    print (\"ZeroDivisionError: Error type:\", type(zde))\n",
    "    print (\"ZeroDivisionError: Error message:\", zde)\n",
    "print (\"End of the program...\")"
   ]
  },
  {
   "cell_type": "code",
   "execution_count": 10,
   "id": "54dd07f2-f426-4c23-938f-1914be6c4125",
   "metadata": {},
   "outputs": [
    {
     "name": "stdin",
     "output_type": "stream",
     "text": [
      "Please enter the first number: 100.34\n"
     ]
    },
    {
     "name": "stdout",
     "output_type": "stream",
     "text": [
      "ValueError: Input should be of integer type !!!\n",
      "ValueError: Error type: <class 'ValueError'>\n",
      "ValueError: Error message: invalid literal for int() with base 10: '100.34'\n",
      "End of the program...\n"
     ]
    }
   ],
   "source": [
    "try:\n",
    "    num1 = int(input(\"Please enter the first number:\"))\n",
    "    num2 = int(input(\"Please enter the second number:\"))\n",
    "    print (\"Performing the division operation...\")\n",
    "    result = num1 / num2\n",
    "    print (f\"So {num1} / {num2} = {result}...\")\n",
    "except ZeroDivisionError as zde:\n",
    "    print (\"ZeroDivisionError: Division by ZERO is Illegal !!!\")\n",
    "    print (\"ZeroDivisionError: Error type:\", type(zde))\n",
    "    print (\"ZeroDivisionError: Error message:\", zde)\n",
    "except ValueError as ve:\n",
    "    print (\"ValueError: Input should be of integer type !!!\")\n",
    "    print (\"ValueError: Error type:\", type(ve))\n",
    "    print (\"ValueError: Error message:\", ve)\n",
    "print (\"End of the program...\")"
   ]
  },
  {
   "cell_type": "code",
   "execution_count": 14,
   "id": "3b7127b5-7208-4d0d-9ee4-071220e6bc78",
   "metadata": {},
   "outputs": [
    {
     "name": "stdin",
     "output_type": "stream",
     "text": [
      "Please enter the first number: 12.5\n"
     ]
    },
    {
     "name": "stdout",
     "output_type": "stream",
     "text": [
      "ValueError: Input should be of integer type !!!\n",
      "ValueError: Error type: <class 'ValueError'>\n",
      "ValueError: Error message: invalid literal for int() with base 10: '12.5'\n",
      "End of the program...\n"
     ]
    }
   ],
   "source": [
    "try:\n",
    "    num1 = int(input(\"Please enter the first number:\"))\n",
    "    num2 = int(input(\"Please enter the second number:\"))\n",
    "    print (\"Performing the division operation...\")\n",
    "    result = num1 / num2\n",
    "    print (f\"So {num1} / {num2} = {result}...\")\n",
    "except ValueError as ve:\n",
    "    print (\"ValueError: Input should be of integer type !!!\")\n",
    "    print (\"ValueError: Error type:\", type(ve))\n",
    "    print (\"ValueError: Error message:\", ve)\n",
    "except ZeroDivisionError as zde:\n",
    "    print (\"ZeroDivisionError: Division by ZERO is Illegal !!!\")\n",
    "    print (\"ZeroDivisionError: Error type:\", type(zde))\n",
    "    print (\"ZeroDivisionError: Error message:\", zde)\n",
    "print (\"End of the program...\")"
   ]
  },
  {
   "cell_type": "code",
   "execution_count": 17,
   "id": "fc716cae-0422-425a-a781-4f356e3de2a3",
   "metadata": {},
   "outputs": [
    {
     "name": "stdin",
     "output_type": "stream",
     "text": [
      "Please enter the first number: 200\n",
      "Please enter the second number: 45\n"
     ]
    },
    {
     "name": "stdout",
     "output_type": "stream",
     "text": [
      "Performing the division operation...\n",
      "So 200 / 45 = 4.444444444444445...\n",
      "Else: Executing the else block...\n",
      "Else: Had a smooth execution...\n",
      "End of the program...\n"
     ]
    }
   ],
   "source": [
    "try:\n",
    "    num1 = int(input(\"Please enter the first number:\"))\n",
    "    num2 = int(input(\"Please enter the second number:\"))\n",
    "    print (\"Performing the division operation...\")\n",
    "    result = num1 / num2\n",
    "    print (f\"So {num1} / {num2} = {result}...\")\n",
    "except ValueError as ve:\n",
    "    print (\"ValueError: Input should be of integer type !!!\")\n",
    "    print (\"ValueError: Error type:\", type(ve))\n",
    "    print (\"ValueError: Error message:\", ve)\n",
    "except ZeroDivisionError as zde:\n",
    "    print (\"ZeroDivisionError: Division by ZERO is Illegal !!!\")\n",
    "    print (\"ZeroDivisionError: Error type:\", type(zde))\n",
    "    print (\"ZeroDivisionError: Error message:\", zde)\n",
    "else:\n",
    "    print (\"Else: Executing the else block...\")\n",
    "    print (\"Else: Had a smooth execution...\")\n",
    "print (\"End of the program...\")"
   ]
  },
  {
   "cell_type": "code",
   "execution_count": 19,
   "id": "69472fca-4ca6-472e-b32f-a00fc3abfbb4",
   "metadata": {},
   "outputs": [
    {
     "name": "stdin",
     "output_type": "stream",
     "text": [
      "Please enter the first number: 110.2\n"
     ]
    },
    {
     "name": "stdout",
     "output_type": "stream",
     "text": [
      "ValueError: Input should be of integer type !!!\n",
      "ValueError: Error type: <class 'ValueError'>\n",
      "ValueError: Error message: invalid literal for int() with base 10: '110.2'\n",
      "Finally: Executing the finally block...\n",
      "Finally: Finally block will execute always...\n",
      "End of the program...\n"
     ]
    }
   ],
   "source": [
    "try:\n",
    "    num1 = int(input(\"Please enter the first number:\"))\n",
    "    num2 = int(input(\"Please enter the second number:\"))\n",
    "    print (\"Performing the division operation...\")\n",
    "    result = num1 / num2\n",
    "    print (f\"So {num1} / {num2} = {result}...\")\n",
    "except ValueError as ve:\n",
    "    print (\"ValueError: Input should be of integer type !!!\")\n",
    "    print (\"ValueError: Error type:\", type(ve))\n",
    "    print (\"ValueError: Error message:\", ve)\n",
    "except ZeroDivisionError as zde:\n",
    "    print (\"ZeroDivisionError: Division by ZERO is Illegal !!!\")\n",
    "    print (\"ZeroDivisionError: Error type:\", type(zde))\n",
    "    print (\"ZeroDivisionError: Error message:\", zde)\n",
    "else:\n",
    "    print (\"Else: Executing the else block...\")\n",
    "    print (\"Else: Had a smooth execution...\")\n",
    "finally:\n",
    "    print (\"Finally: Executing the finally block...\")\n",
    "    print (\"Finally: Finally block will execute always...\")\n",
    "print (\"End of the program...\")"
   ]
  },
  {
   "cell_type": "code",
   "execution_count": 25,
   "id": "3cf5d3f9-3fb6-418a-8b45-85fdce6c4ed2",
   "metadata": {},
   "outputs": [
    {
     "name": "stdin",
     "output_type": "stream",
     "text": [
      "Please enter the first number: 100\n",
      "Please enter the second number: 20\n"
     ]
    },
    {
     "name": "stdout",
     "output_type": "stream",
     "text": [
      "Performing the division operation...\n",
      "So 100 / 20 = 5.0...\n",
      "Else: Executing the else block...\n",
      "Else: Had a smooth execution...\n",
      "Finally: Executing the finally block...\n",
      "Finally: Finally block will execute always...\n",
      "End of the program...\n"
     ]
    }
   ],
   "source": [
    "try:\n",
    "    num1 = int(input(\"Please enter the first number:\"))\n",
    "    num2 = int(input(\"Please enter the second number:\"))\n",
    "    print (\"Performing the division operation...\")\n",
    "    result = num1 / num2\n",
    "    print (f\"So {num1} / {num2} = {result}...\")\n",
    "except ValueError as ve:\n",
    "    print (\"ValueError: Input should be of integer type !!!\")\n",
    "    print (\"ValueError: Error type:\", type(ve))\n",
    "    print (\"ValueError: Error message:\", ve)\n",
    "except ZeroDivisionError as zde:\n",
    "    print (\"ZeroDivisionError: Division by ZERO is Illegal !!!\")\n",
    "    print (\"ZeroDivisionError: Error type:\", type(zde))\n",
    "    print (\"ZeroDivisionError: Error message:\", zde)\n",
    "except Exception as ex:\n",
    "    print (\"Exception: Some exception has occurred !!!\")\n",
    "    print (\"Exception: Error type:\", type(ex))\n",
    "    print (\"Exception: Error message:\", ex)\n",
    "else:\n",
    "    print (\"Else: Executing the else block...\")\n",
    "    print (\"Else: Had a smooth execution...\")\n",
    "finally:\n",
    "    print (\"Finally: Executing the finally block...\")\n",
    "    print (\"Finally: Finally block will execute always...\")\n",
    "print (\"End of the program...\")"
   ]
  },
  {
   "cell_type": "code",
   "execution_count": 24,
   "id": "cdad13a6-ef6b-429b-97c3-2841408a55f9",
   "metadata": {},
   "outputs": [
    {
     "name": "stdin",
     "output_type": "stream",
     "text": [
      "Please enter the first number: 100.5\n"
     ]
    },
    {
     "name": "stdout",
     "output_type": "stream",
     "text": [
      "Exception: Some exception has occurred !!!\n",
      "Exception: Error type: <class 'ValueError'>\n",
      "Exception: Error message: invalid literal for int() with base 10: '100.5'\n",
      "Finally: Executing the finally block...\n",
      "Finally: Finally block will execute always...\n",
      "End of the program...\n"
     ]
    }
   ],
   "source": [
    "try:\n",
    "    num1 = int(input(\"Please enter the first number:\"))\n",
    "    num2 = int(input(\"Please enter the second number:\"))\n",
    "    print (\"Performing the division operation...\")\n",
    "    result = num1 / num2\n",
    "    print (f\"So {num1} / {num2} = {result}...\")\n",
    "except Exception as ex:\n",
    "    print (\"Exception: Some exception has occurred !!!\")\n",
    "    print (\"Exception: Error type:\", type(ex))\n",
    "    print (\"Exception: Error message:\", ex)\n",
    "except ValueError as ve:\n",
    "    print (\"ValueError: Input should be of integer type !!!\")\n",
    "    print (\"ValueError: Error type:\", type(ve))\n",
    "    print (\"ValueError: Error message:\", ve)\n",
    "except ZeroDivisionError as zde:\n",
    "    print (\"ZeroDivisionError: Division by ZERO is Illegal !!!\")\n",
    "    print (\"ZeroDivisionError: Error type:\", type(zde))\n",
    "    print (\"ZeroDivisionError: Error message:\", zde)\n",
    "else:\n",
    "    print (\"Else: Executing the else block...\")\n",
    "    print (\"Else: Had a smooth execution...\")\n",
    "finally:\n",
    "    print (\"Finally: Executing the finally block...\")\n",
    "    print (\"Finally: Finally block will execute always...\")\n",
    "print (\"End of the program...\")"
   ]
  },
  {
   "cell_type": "code",
   "execution_count": 27,
   "id": "1ec400d6-115c-44d7-b22b-52618f9d97b6",
   "metadata": {},
   "outputs": [
    {
     "name": "stdin",
     "output_type": "stream",
     "text": [
      "Please enter the first number: -900\n",
      "Please enter the second number: 20\n"
     ]
    },
    {
     "name": "stdout",
     "output_type": "stream",
     "text": [
      "NameError: Input number is beyond the range !!!\n",
      "NameError: Error type: <class 'NameError'>\n",
      "NameError: Input number is BELOW THAN -100...\n",
      "Finally: Executing the finally block...\n",
      "Finally: Finally block will execute always...\n",
      "End of the program...\n"
     ]
    }
   ],
   "source": [
    "try:\n",
    "    num1 = int(input(\"Please enter the first number:\"))\n",
    "    num2 = int(input(\"Please enter the second number:\"))\n",
    "    if (num1 > 100 or num2 > 100):\n",
    "        raise NameError(\"Above100\")\n",
    "    if (num1 < -100 or num2 < -100):\n",
    "        raise NameError(\"Below-100\")\n",
    "    print (\"Performing the division operation...\")\n",
    "    result = num1 / num2\n",
    "    print (f\"So {num1} / {num2} = {result}...\")\n",
    "except NameError as ne:\n",
    "    print (\"NameError: Input number is beyond the range !!!\")\n",
    "    print (\"NameError: Error type:\", type(ne))\n",
    "    if (str(ne) == \"Above100\"):\n",
    "        print (\"NameError: Input number is MORE THAN +100...\")\n",
    "    if (str(ne) == \"Below-100\"):\n",
    "        print (\"NameError: Input number is BELOW THAN -100...\")\n",
    "except ValueError as ve:\n",
    "    print (\"ValueError: Input should be of integer type !!!\")\n",
    "    print (\"ValueError: Error type:\", type(ve))\n",
    "    print (\"ValueError: Error message:\", ve)\n",
    "except ZeroDivisionError as zde:\n",
    "    print (\"ZeroDivisionError: Division by ZERO is Illegal !!!\")\n",
    "    print (\"ZeroDivisionError: Error type:\", type(zde))\n",
    "    print (\"ZeroDivisionError: Error message:\", zde)\n",
    "except Exception as ex:\n",
    "    print (\"Exception: Some exception has occurred !!!\")\n",
    "    print (\"Exception: Error type:\", type(ex))\n",
    "    print (\"Exception: Error message:\", ex)\n",
    "else:\n",
    "    print (\"Else: Executing the else block...\")\n",
    "    print (\"Else: Had a smooth execution...\")\n",
    "finally:\n",
    "    print (\"Finally: Executing the finally block...\")\n",
    "    print (\"Finally: Finally block will execute always...\")\n",
    "print (\"End of the program...\")"
   ]
  },
  {
   "cell_type": "code",
   "execution_count": 29,
   "id": "562e1bf2-d5f5-48da-a6ad-e7ca25ee9527",
   "metadata": {},
   "outputs": [
    {
     "name": "stdin",
     "output_type": "stream",
     "text": [
      "Please enter the first number: 100\n",
      "Please enter the second number: -400\n"
     ]
    },
    {
     "name": "stdout",
     "output_type": "stream",
     "text": [
      "NameError: Input number is beyond the range !!!\n",
      "NameError: Error type: <class 'NameError'>\n",
      "NameError: Input number is BELOW THAN -100...\n",
      "Finally: Executing the finally block...\n",
      "Finally: Finally block will execute always...\n"
     ]
    },
    {
     "name": "stdin",
     "output_type": "stream",
     "text": [
      "Please enter the first number: 900\n",
      "Please enter the second number: 20\n"
     ]
    },
    {
     "name": "stdout",
     "output_type": "stream",
     "text": [
      "NameError: Input number is beyond the range !!!\n",
      "NameError: Error type: <class 'NameError'>\n",
      "NameError: Input number is MORE THAN +100...\n",
      "Finally: Executing the finally block...\n",
      "Finally: Finally block will execute always...\n"
     ]
    },
    {
     "name": "stdin",
     "output_type": "stream",
     "text": [
      "Please enter the first number: 100\n",
      "Please enter the second number: 0\n"
     ]
    },
    {
     "name": "stdout",
     "output_type": "stream",
     "text": [
      "Performing the division operation...\n",
      "ZeroDivisionError: Division by ZERO is Illegal !!!\n",
      "ZeroDivisionError: Error type: <class 'ZeroDivisionError'>\n",
      "ZeroDivisionError: Error message: division by zero\n",
      "Finally: Executing the finally block...\n",
      "Finally: Finally block will execute always...\n"
     ]
    },
    {
     "name": "stdin",
     "output_type": "stream",
     "text": [
      "Please enter the first number: 100.25\n"
     ]
    },
    {
     "name": "stdout",
     "output_type": "stream",
     "text": [
      "ValueError: Input should be of integer type !!!\n",
      "ValueError: Error type: <class 'ValueError'>\n",
      "ValueError: Error message: invalid literal for int() with base 10: '100.25'\n",
      "Finally: Executing the finally block...\n",
      "Finally: Finally block will execute always...\n"
     ]
    },
    {
     "name": "stdin",
     "output_type": "stream",
     "text": [
      "Please enter the first number: 80\n",
      "Please enter the second number: 20\n"
     ]
    },
    {
     "name": "stdout",
     "output_type": "stream",
     "text": [
      "Performing the division operation...\n",
      "So 80 / 20 = 4.0...\n",
      "Else: Executing the else block...\n",
      "Else: Had a smooth execution...\n",
      "Finally: Executing the finally block...\n",
      "Finally: Finally block will execute always...\n",
      "End of the program...\n"
     ]
    }
   ],
   "source": [
    "while(True):\n",
    "    try:\n",
    "        num1 = int(input(\"Please enter the first number:\"))\n",
    "        num2 = int(input(\"Please enter the second number:\"))\n",
    "        if (num1 > 100 or num2 > 100):\n",
    "            raise NameError(\"Above100\")\n",
    "        if (num1 < -100 or num2 < -100):\n",
    "            raise NameError(\"Below-100\")\n",
    "        print (\"Performing the division operation...\")\n",
    "        result = num1 / num2\n",
    "        print (f\"So {num1} / {num2} = {result}...\")\n",
    "    except NameError as ne:\n",
    "        print (\"NameError: Input number is beyond the range !!!\")\n",
    "        print (\"NameError: Error type:\", type(ne))\n",
    "        if (str(ne) == \"Above100\"):\n",
    "            print (\"NameError: Input number is MORE THAN +100...\")\n",
    "        if (str(ne) == \"Below-100\"):\n",
    "            print (\"NameError: Input number is BELOW THAN -100...\")\n",
    "    except ValueError as ve:\n",
    "        print (\"ValueError: Input should be of integer type !!!\")\n",
    "        print (\"ValueError: Error type:\", type(ve))\n",
    "        print (\"ValueError: Error message:\", ve)\n",
    "    except ZeroDivisionError as zde:\n",
    "        print (\"ZeroDivisionError: Division by ZERO is Illegal !!!\")\n",
    "        print (\"ZeroDivisionError: Error type:\", type(zde))\n",
    "        print (\"ZeroDivisionError: Error message:\", zde)\n",
    "    except Exception as ex:\n",
    "        print (\"Exception: Some exception has occurred !!!\")\n",
    "        print (\"Exception: Error type:\", type(ex))\n",
    "        print (\"Exception: Error message:\", ex)\n",
    "    else:\n",
    "        print (\"Else: Executing the else block...\")\n",
    "        print (\"Else: Had a smooth execution...\")\n",
    "        break\n",
    "    finally:\n",
    "        print (\"Finally: Executing the finally block...\")\n",
    "        print (\"Finally: Finally block will execute always...\")\n",
    "print (\"End of the program...\")"
   ]
  },
  {
   "cell_type": "code",
   "execution_count": null,
   "id": "4c33023f-4839-455b-936b-a805022874df",
   "metadata": {},
   "outputs": [],
   "source": []
  }
 ],
 "metadata": {
  "kernelspec": {
   "display_name": "Python 3 (ipykernel)",
   "language": "python",
   "name": "python3"
  },
  "language_info": {
   "codemirror_mode": {
    "name": "ipython",
    "version": 3
   },
   "file_extension": ".py",
   "mimetype": "text/x-python",
   "name": "python",
   "nbconvert_exporter": "python",
   "pygments_lexer": "ipython3",
   "version": "3.11.7"
  }
 },
 "nbformat": 4,
 "nbformat_minor": 5
}
