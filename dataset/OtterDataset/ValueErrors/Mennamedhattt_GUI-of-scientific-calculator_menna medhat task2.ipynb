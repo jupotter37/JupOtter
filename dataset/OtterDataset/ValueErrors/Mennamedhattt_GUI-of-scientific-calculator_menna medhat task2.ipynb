{
 "cells": [
  {
   "cell_type": "code",
   "execution_count": 21,
   "id": "199d0c1d-9d0d-4770-aef5-c6741e4c2f65",
   "metadata": {},
   "outputs": [],
   "source": [
    "import math\n",
    "e_const=math.e\n",
    "pi_const=math.pi\n",
    "import statistics\n",
    "from fractions import Fraction\n",
    "from decimal import Decimal\n",
    "import numpy as np\n",
    "\n",
    "def add(x, y):\n",
    "    last_result=x+y\n",
    "    return last_result\n",
    "\n",
    "def subtract(x, y):\n",
    "    last_result= x - y\n",
    "    return last_result\n",
    "\n",
    "def multiply(x, y):\n",
    "    last_result= x * y\n",
    "    return last_result\n",
    "\n",
    "def divide(x, y):\n",
    "    if y == 0:\n",
    "        return \"Error: Cannot divide by zero\"\n",
    "    else:\n",
    "        last_result= x / y\n",
    "        return last_result\n",
    "\n",
    "def power(x, y):\n",
    "    last_result= x ** y\n",
    "    return last_result\n",
    "\n",
    "def square_root(x,y):\n",
    "    last_result= x**(1/2)\n",
    "    return last_result\n",
    "\n",
    "def variable_root(x,y):\n",
    "    last_result= x**(1/y)\n",
    "    return last_result\n",
    "\n",
    "def sin(x):\n",
    "    last_result= math.sin(math.radians(x))\n",
    "    return last_result\n",
    "\n",
    "def cos(x):\n",
    "    last_result= math.cos(math.radians(x))\n",
    "    return last_result\n",
    "\n",
    "def tan(x):\n",
    "    last_result= math.tan(math.radians(x))\n",
    "    return last_result\n",
    "\n",
    "def sinh(x):\n",
    "    last_result= math.sinh(math.radians(x))\n",
    "    return last_result\n",
    "\n",
    "def cosh(x):\n",
    "    last_result= math.cosh(math.radians(x))\n",
    "    return last_result\n",
    "\n",
    "def tanh(x):\n",
    "    last_result= math.tanh(math.radians(x))\n",
    "    return last_result\n",
    "\n",
    "def logarithm(x):\n",
    "    last_result= math.log10(x)\n",
    "    return last_result\n",
    "\n",
    "def logarithm_base2(x):\n",
    "    last_result= math.log2(x)\n",
    "    return last_result\n",
    "\n",
    "def ln(x):\n",
    "    last_result= math.log(x)\n",
    "    return last_result\n",
    "\n",
    "def exponential(x):\n",
    "    last_result= e_const**x\n",
    "    return last_result\n",
    "\n",
    "def mean(*x):\n",
    "    last_result= statistics.mean(x)\n",
    "    return last_result\n",
    "\n",
    "def variance(*x):\n",
    "    last_result= statistics.variance(x)\n",
    "    return last_result\n",
    "\n",
    "def standard_deviation(*x):\n",
    "    last_result= statistics.stdev(x)\n",
    "    return last_result\n",
    "\n",
    "def decimal_value(x,y):\n",
    "    last_result= Decimal(x/y)\n",
    "    return last_result\n",
    "\n",
    "def fraction_value(x):\n",
    "    last_result= Fraction(x)\n",
    "    return last_result\n",
    "\n",
    "def factorial(x):\n",
    "    last_result=1\n",
    "    for i in range (1,x+1,1):\n",
    "        last_result*=i\n",
    "    return last_result\n",
    "\n",
    "def permutation(x,y):\n",
    "    z=x-y\n",
    "    last_result= factorial(x)/factorial(z)\n",
    "    return last_result\n",
    "\n",
    "def combination(x,y):\n",
    "    z=x-y\n",
    "    last_result= factorial(x)/(factorial(y)*factorial(z))\n",
    "    return last_result\n",
    "\n",
    "def meters_to_feet(meters):\n",
    "    last_result= meters * 3.28084\n",
    "    return last_result\n",
    "\n",
    "def feet_to_meters(feet):\n",
    "    last_result= feet / 3.28084\n",
    "    return last_result\n",
    "\n",
    "def kilograms_to_pounds(kilograms):\n",
    "    last_result= kilograms * 2.20462\n",
    "    return last_result\n",
    "\n",
    "def pounds_to_kilograms(pounds):\n",
    "    last_result= pounds / 2.20462\n",
    "    return last_result\n",
    "\n",
    "def liters_to_gallons(liters):\n",
    "    last_result= liters * 0.264172\n",
    "    return last_result\n",
    "\n",
    "def gallons_to_liters(gallons):\n",
    "    last_result= gallons / 0.264172\n",
    "    return last_result\n",
    "\n",
    "def solve_linear_eqn(a, b):\n",
    "    if a == 0:\n",
    "        raise ValueError(\"Coefficient 'a' cannot be zero.\")\n",
    "    return -b / a\n",
    "\n",
    "def solve_quadratic_eqn(a, b, c):\n",
    "    discriminant = b**2 - 4*a*c\n",
    "    if discriminant > 0:\n",
    "        root1 = (-b + math.sqrt(discriminant)) / (2*a)\n",
    "        root2 = (-b - math.sqrt(discriminant)) / (2*a)\n",
    "        return root1, root2\n",
    "    elif discriminant == 0:\n",
    "        root = -b / (2*a)\n",
    "        return root,\n",
    "    else:\n",
    "        realPart = -b / (2*a)\n",
    "        imaginaryPart = math.sqrt(-discriminant) / (2*a)\n",
    "        return (realPart + imaginaryPart*1j, realPart - imaginaryPart*1j)\n",
    "def find_polynomial_eqn(a,b,c):\n",
    "    coefficients=[a,b,c]\n",
    "    roots = np.roots(coefficients)\n",
    "    return roots\n",
    "\n",
    "def matrix_addition(matrix1,matrix2):\n",
    "    return np.add(matrix1, matrix2)\n",
    "\n",
    "def matrix_subtraction(matrix1,matrix2):\n",
    "    return np.subtract(matrix1, matrix2)\n",
    "\n",
    "def matrix_multiplication(matrix1,matrix2):\n",
    "    return np.dot(matrix1, matrix2)\n",
    "\n",
    "def matrix_det(matrix):\n",
    "    return np.linalg.det(matrix)\n",
    "\n",
    "def matrix_inv(matrix):\n",
    "    try:\n",
    "     result=np.linalg.inv(matrix)\n",
    "    except np.linalg.LinAlgError:\n",
    "     result='error'\n",
    "    return result\n",
    "\n",
    "def matrix_transpose(matrix):\n",
    "    return np.transpose(matrix)\n",
    "\n",
    "def show_operations():\n",
    "    print(\"Available operations:\")\n",
    "    print(\"1. Addition (+)\")\n",
    "    print(\"2. Subtraction (-)\")\n",
    "    print(\"3. Multiplication (*)\")\n",
    "    print(\"4. Division (/)\")\n",
    "    print(\"5. Power (^)\")\n",
    "    print(\"6. Square Root (sqrt)\")\n",
    "    print(\"7. Variable Root (root)\")\n",
    "    print(\"8. Sine (sin)\")\n",
    "    print(\"9. Cosine (cos)\")\n",
    "    print(\"10. Tangent (tan)\")\n",
    "    print(\"11. Hyperbolic Sine (sinh)\")\n",
    "    print(\"12. Hyperbolic Cosine (cosh)\")\n",
    "    print(\"13. Hyperbolic Tangent (tanh)\")\n",
    "    print(\"14. Logarithm (log10)\")\n",
    "    print(\"15. Logarithm Base 2 (log2)\")\n",
    "    print(\"16. Natural Logarithm (ln)\")\n",
    "    print(\"17. Exponential (exp)\")\n",
    "    print(\"18. Mean (mean)\")\n",
    "    print(\"19. Variance (variance)\")\n",
    "    print(\"20. Standard Deviation (stdev)\")\n",
    "    print(\"21. Decimal Value (decimal)\")\n",
    "    print(\"22. Fraction Value (fraction)\")\n",
    "    print(\"23. Factorial (factorial)\")\n",
    "    print(\"24. Permutation (perm)\")\n",
    "    print(\"25. Combination (comb)\")\n",
    "    print(\"26. Meters to Feet (m2ft)\")\n",
    "    print(\"27. Feet to Meters (ft2m)\")\n",
    "    print(\"28. Kilograms to Pounds (kg2lb)\")\n",
    "    print(\"29. Pounds to Kilograms (lb2kg)\")\n",
    "    print(\"30. Liters to Gallons (L2G)\")\n",
    "    print(\"31. Gallons to Liters (G2L)\")\n",
    "    print(\"32. Solve Linear Equation (linear)\")\n",
    "    print(\"33. Solve Quadratic Equation (quadratic)\")\n",
    "    print(\"34. Find Polynomial Roots (polynomial)\")\n",
    "    print(\"35. Matrix Addition (mat_add)\")\n",
    "    print(\"36. Matrix Subtraction (mat_sub)\")\n",
    "    print(\"37. Matrix Multiplication (mat_mul)\")\n",
    "    print(\"38. Matrix Determinant (mat_det)\")\n",
    "    print(\"39. Matrix Inverse (mat_inv)\")\n",
    "    print(\"40. Matrix Transpose (mat_trans)\")\n",
    "    print(\"41. Store to Memory (M)\")\n",
    "    print(\"42. Recall Memory (MR)\")\n",
    "    print(\"43. Add to Memory (M+)\")\n",
    "    print(\"44. Subtract from Memory (M-)\")\n",
    "    print(\"45. Clear Memory (MC)\")\n",
    "    print(\"46. Exit (end)\")\n",
    "\n",
    "def calculator():\n",
    "    show_operations()\n",
    "\n",
    "    memory = 0  \n",
    "    last_result=0\n",
    "    while True:\n",
    "        choice = input(\"Enter your choice: \").strip().lower()\n",
    "\n",
    "        if choice == 'end':\n",
    "            print(\"Goodbye!\")\n",
    "            break\n",
    "        elif choice in ['+', '-', '*', '/', '^']:\n",
    "            x = float(input(\"Enter first number: \"))\n",
    "            y = float(input(\"Enter second number: \"))\n",
    "            if choice == '+':\n",
    "                print(f\"Result: {add(x, y)}\")\n",
    "                last_result=add(x, y)\n",
    "            elif choice == '-':\n",
    "                print(f\"Result: {subtract(x, y)}\")\n",
    "                last_result=subtract(x, y)\n",
    "            elif choice == '*':\n",
    "                print(f\"Result: {multiply(x, y)}\")\n",
    "                last_result=multiply(x, y)\n",
    "            elif choice == '/':\n",
    "                print(f\"Result: {divide(x, y)}\")\n",
    "                last_result=divide(x, y)\n",
    "            elif choice == '^':\n",
    "                print(f\"Result: {power(x, y)}\")\n",
    "                last_result=power(x, y)\n",
    "        elif choice == 'sqrt':\n",
    "            x = float(input(\"Enter number: \"))\n",
    "            print(f\"Result: {square_root(x)}\")\n",
    "            last_result=square_root(x)\n",
    "        elif choice == 'root':\n",
    "            x = float(input(\"Enter base: \"))\n",
    "            y = float(input(\"Enter root: \"))\n",
    "            print(f\"Result: {variable_root(x, y)}\")\n",
    "            last_result=variable_root(x, y)\n",
    "        elif choice == 'sin':\n",
    "            x = float(input(\"Enter angle (degrees): \"))\n",
    "            print(f\"Result: {sin(x)}\")\n",
    "            last_result=sin(x)\n",
    "        elif choice == 'cos':\n",
    "            x = float(input(\"Enter angle (degrees): \"))\n",
    "            print(f\"Result: {cos(x)}\")\n",
    "            last_result=cos(x)\n",
    "        elif choice == 'tan':\n",
    "            x = float(input(\"Enter angle (degrees): \"))\n",
    "            print(f\"Result: {tan(x)}\")\n",
    "            last_result=tan(x)\n",
    "        elif choice == 'sinh':\n",
    "            x = float(input(\"Enter angle (degrees): \"))\n",
    "            print(f\"Result: {sinh(x)}\")\n",
    "            last_result=sinh(x)\n",
    "        elif choice == 'cosh':\n",
    "            x = float(input(\"Enter angle (degrees): \"))\n",
    "            print(f\"Result: {cosh(x)}\")\n",
    "            last_result=cosh(x)\n",
    "        elif choice == 'tanh':\n",
    "            x = float(input(\"Enter angle (degrees): \"))\n",
    "            print(f\"Result: {tanh(x)}\")\n",
    "            last_result=tanh(x)\n",
    "        elif choice == 'log10':\n",
    "            x = float(input(\"Enter number: \"))\n",
    "            print(f\"Result: {logarithm(x)}\")\n",
    "            last_result=logarithm(x)\n",
    "        elif choice == 'log2':\n",
    "            x = float(input(\"Enter number: \"))\n",
    "            print(f\"Result: {logarithm_base2(x)}\")\n",
    "            last_result=logarithm_base2(x)\n",
    "        elif choice == 'ln':\n",
    "            x = float(input(\"Enter number: \"))\n",
    "            print(f\"Result: {ln(x)}\")\n",
    "            last_result=ln(x)\n",
    "        elif choice == 'exp':\n",
    "            x = float(input(\"Enter exponent: \"))\n",
    "            print(f\"Result: {exponential(x)}\")\n",
    "            last_result=exponential(x)\n",
    "        elif choice == 'mean':\n",
    "            nums = list(map(float, input(\"Enter numbers separated by spaces: \").split()))\n",
    "            print(f\"Result: {mean(*nums)}\")\n",
    "            last_result=mean(*nums)\n",
    "        elif choice == 'variance':\n",
    "            nums = list(map(float, input(\"Enter numbers separated by spaces: \").split()))\n",
    "            print(f\"Result: {variance(*nums)}\")\n",
    "            last_result=variance(*nums)\n",
    "        elif choice == 'stdev':\n",
    "            nums = list(map(float, input(\"Enter numbers separated by spaces: \").split()))\n",
    "            print(f\"Result: {standard_deviation(*nums)}\")\n",
    "            last_result=standard_deviation(*nums)\n",
    "        elif choice == 'decimal':\n",
    "            x = input(\"Enter number: \")\n",
    "            print(f\"Result: {decimal_value(x)}\")\n",
    "            last_result=decimal_value(x)\n",
    "        elif choice == 'fraction':\n",
    "            x = input(\"Enter number: \")\n",
    "            print(f\"Result: {fraction_value(x)}\")\n",
    "            last_result=fraction_value(x)\n",
    "        elif choice == 'factorial':\n",
    "            x = int(input(\"Enter number: \"))\n",
    "            print(f\"Result: {factorial(x)}\")\n",
    "            last_result=factorial(x)\n",
    "        elif choice == 'perm':\n",
    "            x = int(input(\"Enter n: \"))\n",
    "            y = int(input(\"Enter r: \"))\n",
    "            print(f\"Result: {permutation(x, y)}\")\n",
    "            last_result=permutation(x, y)\n",
    "        elif choice == 'comb':\n",
    "            x = int(input(\"Enter n: \"))\n",
    "            y = int(input(\"Enter r: \"))\n",
    "            print(f\"Result: {combination(x, y)}\")\n",
    "            last_result=combination(x, y)\n",
    "        elif choice == 'm2ft':\n",
    "            meters = float(input(\"Enter meters: \"))\n",
    "            print(f\"Result: {meters_to_feet(meters)}\")\n",
    "            last_result=meters_to_feet(meters)\n",
    "        elif choice == 'ft2m':\n",
    "            feet = float(input(\"Enter feet: \"))\n",
    "            print(f\"Result: {feet_to_meters(feet)}\")\n",
    "            last_result=feet_to_meters(feet)\n",
    "        elif choice == 'kg2lb':\n",
    "            kilograms = float(input(\"Enter kilograms: \"))\n",
    "            print(f\"Result: {kilograms_to_pounds(kilograms)}\")\n",
    "            last_result=kilograms_to_pounds(kilograms)\n",
    "        elif choice == 'lb2kg':\n",
    "            pounds = float(input(\"Enter pounds: \"))\n",
    "            print(f\"Result: {pounds_to_kilograms(pounds)}\")\n",
    "            last_result=pounds_to_kilograms(pounds)\n",
    "        elif choice == 'l2g':\n",
    "            liters = float(input(\"Enter liters: \"))\n",
    "            print(f\"Result: {liters_to_gallons(liters)}\")\n",
    "            last_result=liters_to_gallons(liters)\n",
    "        elif choice == 'g2l':\n",
    "            gallons = float(input(\"Enter gallons: \"))\n",
    "            print(f\"Result: {gallons_to_liters(gallons)}\")\n",
    "            last_result=gallons_to_liters(gallons)\n",
    "        elif choice == 'linear':\n",
    "            a = float(input(\"Enter coefficient a: \"))\n",
    "            b = float(input(\"Enter coefficient b: \"))\n",
    "            print(f\"Result: {solve_linear_eqn(a, b)}\")\n",
    "        elif choice == 'quadratic':\n",
    "            a = float(input(\"Enter coefficient a: \"))\n",
    "            b = float(input(\"Enter coefficient b: \"))\n",
    "            c = float(input(\"Enter coefficient c: \"))\n",
    "            print(f\"Result: {solve_quadratic_eqn(a, b, c)}\")\n",
    "        elif choice == 'polynomial':\n",
    "            a = float(input(\"Enter coefficient a: \"))\n",
    "            b = float(input(\"Enter coefficient b: \"))\n",
    "            c = float(input(\"Enter coefficient c: \"))\n",
    "            print(f\"Roots: {find_polynomial_eqn(a, b, c)}\")\n",
    "        elif choice == 'mat_add':\n",
    "            matrix1 = np.array(eval(input(\"Enter first matrix (as list of lists): \")))\n",
    "            matrix2 = np.array(eval(input(\"Enter second matrix (as list of lists): \")))\n",
    "            print(f\"Result: {matrix_addition(matrix1, matrix2)}\")\n",
    "        elif choice == 'mat_sub':\n",
    "            matrix1 = np.array(eval(input(\"Enter first matrix (as list of lists): \")))\n",
    "            matrix2 = np.array(eval(input(\"Enter second matrix (as list of lists): \")))\n",
    "            print(f\"Result: {matrix_subtraction(matrix1, matrix2)}\")\n",
    "        elif choice == 'mat_mul':\n",
    "            matrix1 = np.array(eval(input(\"Enter first matrix (as list of lists): \")))\n",
    "            matrix2 = np.array(eval(input(\"Enter second matrix (as list of lists): \")))\n",
    "            print(f\"Result: {matrix_multiplication(matrix1, matrix2)}\")\n",
    "        elif choice == 'mat_det':\n",
    "            matrix = np.array(eval(input(\"Enter matrix (as list of lists): \")))\n",
    "            print(f\"Result: {matrix_det(matrix)}\")\n",
    "        elif choice == 'mat_inv':\n",
    "            matrix = np.array(eval(input(\"Enter matrix (as list of lists): \")))\n",
    "            print(f\"Result: {matrix_inv(matrix)}\")\n",
    "        elif choice == 'mat_trans':\n",
    "            matrix = np.array(eval(input(\"Enter matrix (as list of lists): \")))\n",
    "            print(f\"Result: {matrix_transpose(matrix)}\")\n",
    "        elif choice == 'store to memory':\n",
    "            memory = last_result\n",
    "            print(f\"Stored {memory} in memory.\")\n",
    "        elif choice == 'recall memory':\n",
    "            print(f\"Recalled memory: {memory}\")\n",
    "        elif choice == 'add to memory':\n",
    "            memory += last_result\n",
    "            print(f\"Added {last_result} to memory. New memory: {memory}\")\n",
    "        elif choice == 'subtract from memory':\n",
    "            memory -= last_result\n",
    "            print(f\"Subtracted {last_result} from memory. New memory: {memory}\")\n",
    "        elif choice == 'clear memory':\n",
    "            memory = 0\n",
    "            print(\"Memory cleared.\")\n",
    "        else:\n",
    "            print(\"Invalid choice. Please select a valid operation or 'end' to quit.\")"
   ]
  },
  {
   "cell_type": "code",
   "execution_count": 22,
   "id": "4dceb0f5-4cf6-4659-94d1-a2e5f0abb9a7",
   "metadata": {},
   "outputs": [
    {
     "ename": "ValueError",
     "evalue": "invalid literal for int() with base 10: ''",
     "output_type": "error",
     "traceback": [
      "\u001b[1;31m---------------------------------------------------------------------------\u001b[0m",
      "\u001b[1;31mValueError\u001b[0m                                Traceback (most recent call last)",
      "Cell \u001b[1;32mIn[22], line 1\u001b[0m\n\u001b[1;32m----> 1\u001b[0m add(x\u001b[38;5;241m=\u001b[39m\u001b[38;5;28mint\u001b[39m(\u001b[38;5;28minput\u001b[39m()),y\u001b[38;5;241m=\u001b[39m\u001b[38;5;28mint\u001b[39m(\u001b[38;5;28minput\u001b[39m()))\n",
      "\u001b[1;31mValueError\u001b[0m: invalid literal for int() with base 10: ''"
     ]
    }
   ],
   "source": [
    "add(x=int(input()),y=int(input()))"
   ]
  },
  {
   "cell_type": "code",
   "execution_count": null,
   "id": "04822571-0019-4711-b8c9-dde88fe5836e",
   "metadata": {},
   "outputs": [
    {
     "data": {
      "text/plain": [
       "1"
      ]
     },
     "execution_count": 4,
     "metadata": {},
     "output_type": "execute_result"
    }
   ],
   "source": [
    "subtract(x=int(input()),y=int(input()))"
   ]
  },
  {
   "cell_type": "code",
   "execution_count": null,
   "id": "7db4121e-b6dc-46f5-a72f-fed2c33b99f2",
   "metadata": {},
   "outputs": [
    {
     "data": {
      "text/plain": [
       "6"
      ]
     },
     "execution_count": 5,
     "metadata": {},
     "output_type": "execute_result"
    }
   ],
   "source": [
    "multiply(x=int(input()),y=int(input()))"
   ]
  },
  {
   "cell_type": "code",
   "execution_count": null,
   "id": "6ee400a4-e95a-4949-bec7-02fb47e7b42b",
   "metadata": {},
   "outputs": [
    {
     "data": {
      "text/plain": [
       "1.25"
      ]
     },
     "execution_count": 6,
     "metadata": {},
     "output_type": "execute_result"
    }
   ],
   "source": [
    "divide(x=int(input()),y=int(input()))"
   ]
  },
  {
   "cell_type": "code",
   "execution_count": null,
   "id": "e5c7ede8-451a-40cf-8775-c85b37682e72",
   "metadata": {},
   "outputs": [
    {
     "data": {
      "text/plain": [
       "64"
      ]
     },
     "execution_count": 119,
     "metadata": {},
     "output_type": "execute_result"
    }
   ],
   "source": [
    "power(x=int(input()),y=int(input()))"
   ]
  },
  {
   "cell_type": "code",
   "execution_count": null,
   "id": "0cf5bd71-a9fe-4cfc-b0a7-80025ff2c841",
   "metadata": {},
   "outputs": [
    {
     "data": {
      "text/plain": [
       "2.23606797749979"
      ]
     },
     "execution_count": 120,
     "metadata": {},
     "output_type": "execute_result"
    }
   ],
   "source": [
    "square_root(x=int(input()),y=1/2)"
   ]
  },
  {
   "cell_type": "code",
   "execution_count": null,
   "id": "819a5a56-5f0e-4a43-902d-ea794b588827",
   "metadata": {},
   "outputs": [
    {
     "data": {
      "text/plain": [
       "1.1769039562428527"
      ]
     },
     "execution_count": 121,
     "metadata": {},
     "output_type": "execute_result"
    }
   ],
   "source": [
    "variable_root(x=int(input()),y=int(input()))"
   ]
  },
  {
   "cell_type": "code",
   "execution_count": null,
   "id": "cc6aaa93-b194-4e37-bebc-a7f5cee48fa0",
   "metadata": {},
   "outputs": [
    {
     "data": {
      "text/plain": [
       "0.20791169081775934"
      ]
     },
     "execution_count": 122,
     "metadata": {},
     "output_type": "execute_result"
    }
   ],
   "source": [
    "sin(x=int(input()))"
   ]
  },
  {
   "cell_type": "code",
   "execution_count": null,
   "id": "d72daf38-bc42-4b1e-83dc-aa5c72a94444",
   "metadata": {},
   "outputs": [
    {
     "data": {
      "text/plain": [
       "0.9702957262759965"
      ]
     },
     "execution_count": 123,
     "metadata": {},
     "output_type": "execute_result"
    }
   ],
   "source": [
    "cos(x=int(input()))"
   ]
  },
  {
   "cell_type": "code",
   "execution_count": null,
   "id": "0ee3cf7a-36ca-4417-8509-0c9fa4bf06e4",
   "metadata": {},
   "outputs": [
    {
     "data": {
      "text/plain": [
       "0.03492076949174773"
      ]
     },
     "execution_count": 124,
     "metadata": {},
     "output_type": "execute_result"
    }
   ],
   "source": [
    "tan(x=int(input()))"
   ]
  },
  {
   "cell_type": "code",
   "execution_count": null,
   "id": "9a8a3425-faa6-4fbb-956a-bf4849e6e9e1",
   "metadata": {},
   "outputs": [
    {
     "data": {
      "text/plain": [
       "0.3010785658797934"
      ]
     },
     "execution_count": 125,
     "metadata": {},
     "output_type": "execute_result"
    }
   ],
   "source": [
    "sinh(x=int(input()))"
   ]
  },
  {
   "cell_type": "code",
   "execution_count": null,
   "id": "32777bd4-c597-4803-bea9-11bf96e85cb7",
   "metadata": {},
   "outputs": [
    {
     "data": {
      "text/plain": [
       "1.0074724144482754"
      ]
     },
     "execution_count": 126,
     "metadata": {},
     "output_type": "execute_result"
    }
   ],
   "source": [
    "cosh(x=int(input()))"
   ]
  },
  {
   "cell_type": "code",
   "execution_count": null,
   "id": "753c047f-393d-4e47-87f2-8e9126251bf2",
   "metadata": {},
   "outputs": [
    {
     "data": {
      "text/plain": [
       "0.3042161928867445"
      ]
     },
     "execution_count": 127,
     "metadata": {},
     "output_type": "execute_result"
    }
   ],
   "source": [
    "tanh(x=int(input()))"
   ]
  },
  {
   "cell_type": "code",
   "execution_count": null,
   "id": "57e2319d-255c-4d8a-b93a-8105edf45a7e",
   "metadata": {},
   "outputs": [
    {
     "data": {
      "text/plain": [
       "0.9542425094393249"
      ]
     },
     "execution_count": 128,
     "metadata": {},
     "output_type": "execute_result"
    }
   ],
   "source": [
    "logarithm(x=int(input()))"
   ]
  },
  {
   "cell_type": "code",
   "execution_count": null,
   "id": "56d4b36f-a5f2-4d4b-b583-c3889bff2d7a",
   "metadata": {},
   "outputs": [
    {
     "data": {
      "text/plain": [
       "3.169925001442312"
      ]
     },
     "execution_count": 129,
     "metadata": {},
     "output_type": "execute_result"
    }
   ],
   "source": [
    "logarithm_base2(x=int(input()))"
   ]
  },
  {
   "cell_type": "code",
   "execution_count": null,
   "id": "6e45d180-654d-4160-9de8-cc14f3c45477",
   "metadata": {},
   "outputs": [
    {
     "data": {
      "text/plain": [
       "1.6094379124341003"
      ]
     },
     "execution_count": 130,
     "metadata": {},
     "output_type": "execute_result"
    }
   ],
   "source": [
    "\n",
    "ln(x=int(input())) \n"
   ]
  },
  {
   "cell_type": "code",
   "execution_count": null,
   "id": "9552b9f8-7466-4995-bf82-dec0fb339d43",
   "metadata": {},
   "outputs": [
    {
     "data": {
      "text/plain": [
       "403.428793492735"
      ]
     },
     "execution_count": 131,
     "metadata": {},
     "output_type": "execute_result"
    }
   ],
   "source": [
    "exponential(x=int(input()))"
   ]
  },
  {
   "cell_type": "code",
   "execution_count": null,
   "id": "27942f04-424e-4d11-99b5-bca3e59b6c9e",
   "metadata": {},
   "outputs": [
    {
     "data": {
      "text/plain": [
       "3.8333333333333335"
      ]
     },
     "execution_count": 132,
     "metadata": {},
     "output_type": "execute_result"
    }
   ],
   "source": [
    "mean(1,2,3,4,5,8)"
   ]
  },
  {
   "cell_type": "code",
   "execution_count": null,
   "id": "49232abc-43be-4659-8ee8-280332810e3d",
   "metadata": {},
   "outputs": [
    {
     "data": {
      "text/plain": [
       "6.166666666666667"
      ]
     },
     "execution_count": 133,
     "metadata": {},
     "output_type": "execute_result"
    }
   ],
   "source": [
    "variance(1,2,3,4,5,8)"
   ]
  },
  {
   "cell_type": "code",
   "execution_count": null,
   "id": "498b554c-b51e-489c-a22c-52e84b8e9619",
   "metadata": {},
   "outputs": [
    {
     "data": {
      "text/plain": [
       "2.449489742783178"
      ]
     },
     "execution_count": 134,
     "metadata": {},
     "output_type": "execute_result"
    }
   ],
   "source": [
    "standard_deviation(1,2,3,4,5,6,7,8)"
   ]
  },
  {
   "cell_type": "code",
   "execution_count": null,
   "id": "866ec9a5-f851-4abe-a484-688e86355d69",
   "metadata": {},
   "outputs": [
    {
     "data": {
      "text/plain": [
       "Fraction(3, 1)"
      ]
     },
     "execution_count": 135,
     "metadata": {},
     "output_type": "execute_result"
    }
   ],
   "source": [
    "fraction_value(x=float(input()))"
   ]
  },
  {
   "cell_type": "code",
   "execution_count": null,
   "id": "fe0b9df6-d858-49a6-b741-84626728f465",
   "metadata": {},
   "outputs": [
    {
     "data": {
      "text/plain": [
       "Decimal('1.5')"
      ]
     },
     "execution_count": 136,
     "metadata": {},
     "output_type": "execute_result"
    }
   ],
   "source": [
    "decimal_value(x=int(input()),y=int(input()))"
   ]
  },
  {
   "cell_type": "code",
   "execution_count": null,
   "id": "f5b8f30b-90a1-40b8-a5a9-74a3051139b3",
   "metadata": {},
   "outputs": [
    {
     "data": {
      "text/plain": [
       "1"
      ]
     },
     "execution_count": 137,
     "metadata": {},
     "output_type": "execute_result"
    }
   ],
   "source": [
    "factorial(x=int(input()))"
   ]
  },
  {
   "cell_type": "code",
   "execution_count": null,
   "id": "98a9b67e-a4b3-4ff6-b459-240cbecfd387",
   "metadata": {},
   "outputs": [
    {
     "data": {
      "text/plain": [
       "120.0"
      ]
     },
     "execution_count": 138,
     "metadata": {},
     "output_type": "execute_result"
    }
   ],
   "source": [
    "permutation(x=int(input()),y=int(input()))"
   ]
  },
  {
   "cell_type": "code",
   "execution_count": null,
   "id": "c550e49c-0d2e-4bb5-b8a8-d43ca6670f76",
   "metadata": {},
   "outputs": [
    {
     "data": {
      "text/plain": [
       "0.2"
      ]
     },
     "execution_count": 139,
     "metadata": {},
     "output_type": "execute_result"
    }
   ],
   "source": [
    "combination(x=int(input()),y=int(input()))"
   ]
  },
  {
   "cell_type": "code",
   "execution_count": null,
   "id": "9efddc40-7931-4b0c-bcdf-284c7720e68a",
   "metadata": {},
   "outputs": [
    {
     "data": {
      "text/plain": [
       "13.12336"
      ]
     },
     "execution_count": 7,
     "metadata": {},
     "output_type": "execute_result"
    }
   ],
   "source": [
    "meters_to_feet(meters=int(input()))\n"
   ]
  },
  {
   "cell_type": "code",
   "execution_count": null,
   "id": "5db63d3b-f328-4821-a5f0-4e0f7defd74e",
   "metadata": {},
   "outputs": [
    {
     "data": {
      "text/plain": [
       "4.0"
      ]
     },
     "execution_count": 8,
     "metadata": {},
     "output_type": "execute_result"
    }
   ],
   "source": [
    "feet_to_meters(13.12336)"
   ]
  },
  {
   "cell_type": "code",
   "execution_count": null,
   "id": "4e35df60-2500-48c7-8bfc-b2c4677b9920",
   "metadata": {},
   "outputs": [
    {
     "data": {
      "text/plain": [
       "11.0231"
      ]
     },
     "execution_count": 9,
     "metadata": {},
     "output_type": "execute_result"
    }
   ],
   "source": [
    "kilograms_to_pounds(kilograms=float(input()))"
   ]
  },
  {
   "cell_type": "code",
   "execution_count": null,
   "id": "970a927e-7c96-4cec-aacb-208439399908",
   "metadata": {},
   "outputs": [
    {
     "data": {
      "text/plain": [
       "5.0"
      ]
     },
     "execution_count": 10,
     "metadata": {},
     "output_type": "execute_result"
    }
   ],
   "source": [
    "pounds_to_kilograms(11.0231)"
   ]
  },
  {
   "cell_type": "code",
   "execution_count": null,
   "id": "121af3e1-f032-44de-aa7d-2e0ff09af173",
   "metadata": {},
   "outputs": [
    {
     "data": {
      "text/plain": [
       "1.056688"
      ]
     },
     "execution_count": 12,
     "metadata": {},
     "output_type": "execute_result"
    }
   ],
   "source": [
    "liters_to_gallons(liters=float(input()))"
   ]
  },
  {
   "cell_type": "code",
   "execution_count": null,
   "id": "3d2b081e-d004-4ce9-a9a7-facd82ca2b90",
   "metadata": {},
   "outputs": [
    {
     "data": {
      "text/plain": [
       "4.0"
      ]
     },
     "execution_count": 145,
     "metadata": {},
     "output_type": "execute_result"
    }
   ],
   "source": [
    "gallons_to_liters(1.056688)"
   ]
  },
  {
   "cell_type": "code",
   "execution_count": null,
   "id": "067d25f7-668b-4fee-bc79-e84d4c585f87",
   "metadata": {},
   "outputs": [
    {
     "data": {
      "text/plain": [
       "-1.25"
      ]
     },
     "execution_count": 146,
     "metadata": {},
     "output_type": "execute_result"
    }
   ],
   "source": [
    "solve_linear_eqn(a=int(input()),b=int(input()))"
   ]
  },
  {
   "cell_type": "code",
   "execution_count": null,
   "id": "167c7ec4-ddf4-4951-a6e6-5d084696aa9c",
   "metadata": {},
   "outputs": [
    {
     "data": {
      "text/plain": [
       "((-0.5+0.5j), (-0.5-0.5j))"
      ]
     },
     "execution_count": 147,
     "metadata": {},
     "output_type": "execute_result"
    }
   ],
   "source": [
    "solve_quadratic_eqn(a=int(input()),b=int(input()),c=int(input()))"
   ]
  },
  {
   "cell_type": "code",
   "execution_count": null,
   "id": "7c1b6489-cea0-406f-bd53-5937b7b6d298",
   "metadata": {},
   "outputs": [
    {
     "data": {
      "text/plain": [
       "((-0.6+0.4898979485566356j), (-0.6-0.4898979485566356j))"
      ]
     },
     "execution_count": 148,
     "metadata": {},
     "output_type": "execute_result"
    }
   ],
   "source": [
    "solve_quadratic_eqn(a=int(input()),b=int(input()),c=int(input()))"
   ]
  },
  {
   "cell_type": "code",
   "execution_count": null,
   "id": "08b981a7-7c73-41d5-8f5a-b7eaee8c4080",
   "metadata": {},
   "outputs": [
    {
     "data": {
      "text/plain": [
       "array([-0.75+1.19895788j, -0.75-1.19895788j])"
      ]
     },
     "execution_count": 149,
     "metadata": {},
     "output_type": "execute_result"
    }
   ],
   "source": [
    "find_polynomial_eqn(a=int(input()),b=int(input()),c=int(input()))"
   ]
  },
  {
   "cell_type": "code",
   "execution_count": null,
   "id": "79485a61-942b-4a39-a07e-a9644cf3c34e",
   "metadata": {},
   "outputs": [
    {
     "data": {
      "text/plain": [
       "array([-12.29669331,  -0.20330669])"
      ]
     },
     "execution_count": 150,
     "metadata": {},
     "output_type": "execute_result"
    }
   ],
   "source": [
    "find_polynomial_eqn(a=int(input()),b=int(input()),c=int(input()))"
   ]
  },
  {
   "cell_type": "code",
   "execution_count": null,
   "id": "a23146d2-bd9d-4e2c-9b54-020aa0637151",
   "metadata": {},
   "outputs": [
    {
     "data": {
      "text/plain": [
       "array([[2, 6],\n",
       "       [2, 8]])"
      ]
     },
     "execution_count": 151,
     "metadata": {},
     "output_type": "execute_result"
    }
   ],
   "source": [
    "matrix1=[[1,2],[1,3]]\n",
    "matrix2=[[1,4],[1,5]]\n",
    "matrix_addition(matrix1,matrix2)"
   ]
  },
  {
   "cell_type": "code",
   "execution_count": null,
   "id": "112ef664-573d-4671-b9d0-a19c32177cf9",
   "metadata": {},
   "outputs": [
    {
     "data": {
      "text/plain": [
       "array([[ 0, -2],\n",
       "       [ 0, -2]])"
      ]
     },
     "execution_count": 152,
     "metadata": {},
     "output_type": "execute_result"
    }
   ],
   "source": [
    "matrix_subtraction(matrix1,matrix2)"
   ]
  },
  {
   "cell_type": "code",
   "execution_count": null,
   "id": "736c88fb-ff97-44f4-98f1-736b8c5c3e84",
   "metadata": {},
   "outputs": [
    {
     "data": {
      "text/plain": [
       "array([18])"
      ]
     },
     "execution_count": 153,
     "metadata": {},
     "output_type": "execute_result"
    }
   ],
   "source": [
    "matrix3=[3,3,3]\n",
    "matrix4=[[2],[2],[2]]\n",
    "matrix_multiplication(matrix3,matrix4)"
   ]
  },
  {
   "cell_type": "code",
   "execution_count": null,
   "id": "9e0b9435-31d2-4479-853d-93c389c4547d",
   "metadata": {},
   "outputs": [
    {
     "data": {
      "text/plain": [
       "1.0"
      ]
     },
     "execution_count": 154,
     "metadata": {},
     "output_type": "execute_result"
    }
   ],
   "source": [
    "matrix_det(matrix1)"
   ]
  },
  {
   "cell_type": "code",
   "execution_count": null,
   "id": "49d59847-0912-447e-a0bb-ddd9fa94d9a4",
   "metadata": {},
   "outputs": [
    {
     "data": {
      "text/plain": [
       "array([[ 3., -2.],\n",
       "       [-1.,  1.]])"
      ]
     },
     "execution_count": 155,
     "metadata": {},
     "output_type": "execute_result"
    }
   ],
   "source": [
    "matrix_inv(matrix1)"
   ]
  },
  {
   "cell_type": "code",
   "execution_count": null,
   "id": "70b48227-ba84-48d6-afc2-c0bdbff5ff2d",
   "metadata": {},
   "outputs": [
    {
     "data": {
      "text/plain": [
       "array([[1, 1],\n",
       "       [2, 3]])"
      ]
     },
     "execution_count": 156,
     "metadata": {},
     "output_type": "execute_result"
    }
   ],
   "source": [
    "matrix_transpose(matrix1)"
   ]
  },
  {
   "cell_type": "code",
   "execution_count": null,
   "id": "e7a2626e-47db-4943-b1fe-f37a78031263",
   "metadata": {},
   "outputs": [
    {
     "name": "stdout",
     "output_type": "stream",
     "text": [
      "Available operations:\n",
      "1. Addition (+)\n",
      "2. Subtraction (-)\n",
      "3. Multiplication (*)\n",
      "4. Division (/)\n",
      "5. Power (^)\n",
      "6. Square Root (sqrt)\n",
      "7. Variable Root (root)\n",
      "8. Sine (sin)\n",
      "9. Cosine (cos)\n",
      "10. Tangent (tan)\n",
      "11. Hyperbolic Sine (sinh)\n",
      "12. Hyperbolic Cosine (cosh)\n",
      "13. Hyperbolic Tangent (tanh)\n",
      "14. Logarithm (log10)\n",
      "15. Logarithm Base 2 (log2)\n",
      "16. Natural Logarithm (ln)\n",
      "17. Exponential (exp)\n",
      "18. Mean (mean)\n",
      "19. Variance (variance)\n",
      "20. Standard Deviation (stdev)\n",
      "21. Decimal Value (decimal)\n",
      "22. Fraction Value (fraction)\n",
      "23. Factorial (factorial)\n",
      "24. Permutation (perm)\n",
      "25. Combination (comb)\n",
      "26. Meters to Feet (m2ft)\n",
      "27. Feet to Meters (ft2m)\n",
      "28. Kilograms to Pounds (kg2lb)\n",
      "29. Pounds to Kilograms (lb2kg)\n",
      "30. Liters to Gallons (L2G)\n",
      "31. Gallons to Liters (G2L)\n",
      "32. Solve Linear Equation (linear)\n",
      "33. Solve Quadratic Equation (quadratic)\n",
      "34. Find Polynomial Roots (polynomial)\n",
      "35. Matrix Addition (mat_add)\n",
      "36. Matrix Subtraction (mat_sub)\n",
      "37. Matrix Multiplication (mat_mul)\n",
      "38. Matrix Determinant (mat_det)\n",
      "39. Matrix Inverse (mat_inv)\n",
      "40. Matrix Transpose (mat_trans)\n",
      "41. Store to Memory (M)\n",
      "42. Recall Memory (MR)\n",
      "43. Add to Memory (M+)\n",
      "44. Subtract from Memory (M-)\n",
      "45. Clear Memory (MC)\n",
      "46. Exit (end)\n",
      "Invalid choice. Please select a valid operation or 'end' to quit.\n",
      "Invalid choice. Please select a valid operation or 'end' to quit.\n",
      "Invalid choice. Please select a valid operation or 'end' to quit.\n",
      "Invalid choice. Please select a valid operation or 'end' to quit.\n",
      "Invalid choice. Please select a valid operation or 'end' to quit.\n",
      "Invalid choice. Please select a valid operation or 'end' to quit.\n",
      "Goodbye!\n"
     ]
    }
   ],
   "source": [
    "calculator()"
   ]
  },
  {
   "cell_type": "code",
   "execution_count": null,
   "id": "24fb7ffa",
   "metadata": {},
   "outputs": [],
   "source": [
    "from tkinter import *\n",
    "import math\n",
    "import tkinter.messagebox"
   ]
  },
  {
   "cell_type": "code",
   "execution_count": null,
   "id": "2f010949",
   "metadata": {},
   "outputs": [],
   "source": [
    "root = Tk()\n",
    "\n",
    "# sets the name on the top of the gui\n",
    "root.title(\"Scientific Calculator\") \n",
    "\n",
    "# sets the background color of the calculator \n",
    "# as white\n",
    "root.configure(background = 'black') \n",
    "\n",
    "# fixed the width and height of the gui,\n",
    "# hence can't be expanded/stretched\n",
    "root.resizable(width=False, height=False)\n",
    "\n",
    "# sets the geometry\n",
    "root.geometry(\"480x568+450+90\") \n",
    "\n",
    "# holds the buttons in the calculator,\n",
    "# act as a container for numbers and operators\n",
    "calc = Frame(root)\n",
    "\n",
    "# create a grid like pattern of the frame \n",
    "# i.e buttons\n",
    "calc.grid()\n"
   ]
  },
  {
   "cell_type": "code",
   "execution_count": null,
   "id": "44bb750c",
   "metadata": {},
   "outputs": [],
   "source": [
    "class Calc():\n",
    "\tdef __init__(self):\n",
    "\t\tself.total = 0\n",
    "\t\tself.current = ''\n",
    "\t\tself.input_value = True\n",
    "\t\tself.check_sum = False\n",
    "\t\tself.op = ''\n",
    "\t\tself.result = False\n",
    "\n",
    "\tdef numberEnter(self, num):\n",
    "\t\tself.result = False\n",
    "\t\tfirstnum = txtDisplay.get()\n",
    "\t\tsecondnum = str(num)\n",
    "\t\tif self.input_value:\n",
    "\t\t\tself.current = secondnum\n",
    "\t\t\tself.input_value = False\n",
    "\t\telse:\n",
    "\t\t\tif secondnum == '.':\n",
    "\t\t\t\tif secondnum in firstnum:\n",
    "\t\t\t\t\treturn\n",
    "\t\t\tself.current = firstnum+secondnum\n",
    "\t\tself.display(self.current)\n",
    "\n",
    "\tdef sum_of_total(self):\n",
    "\t\tself.result = True\n",
    "\t\tself.current = float(self.current)\n",
    "\t\tif self.check_sum == True:\n",
    "\t\t\tself.valid_function()\n",
    "\t\telse:\n",
    "\t\t\tself.total = float(txtDisplay.get())\n",
    "\n",
    "\tdef display(self, value):\n",
    "\t\ttxtDisplay.delete(0, END)\n",
    "\t\ttxtDisplay.insert(0, value)\n",
    "\n",
    "\tdef valid_function(self):\n",
    "\t\tif self.op == \"add\":\n",
    "\t\t\tself.total += self.current\n",
    "\t\tif self.op == \"sub\":\n",
    "\t\t\tself.total -= self.current\n",
    "\t\tif self.op == \"multi\":\n",
    "\t\t\tself.total *= self.current\n",
    "\t\tif self.op == \"divide\":\n",
    "\t\t\tself.total /= self.current\n",
    "\t\tif self.op == \"mod\":\n",
    "\t\t\tself.total %= self.current\n",
    "\t\tself.input_value = True\n",
    "\t\tself.check_sum = False\n",
    "\t\tself.display(self.total)\n",
    "\n",
    "\tdef operation(self, op):\n",
    "\t\tself.current = float(self.current)\n",
    "\t\tif self.check_sum:\n",
    "\t\t\tself.valid_function()\n",
    "\t\telif not self.result:\n",
    "\t\t\tself.total = self.current\n",
    "\t\t\tself.input_value = True\n",
    "\t\tself.check_sum = True\n",
    "\t\tself.op = op\n",
    "\t\tself.result = False\n",
    "\n",
    "\tdef Clear_Entry(self):\n",
    "\t\tself.result = False\n",
    "\t\tself.current = \"0\"\n",
    "\t\tself.display(0)\n",
    "\t\tself.input_value = True\n",
    "\n",
    "\tdef All_Clear_Entry(self):\n",
    "\t\tself.Clear_Entry()\n",
    "\t\tself.total = 0\n",
    "\n",
    "\tdef pi(self):\n",
    "\t\tself.result = False\n",
    "\t\tself.current = math.pi\n",
    "\t\tself.display(self.current)\n",
    "\n",
    "\tdef tau(self):\n",
    "\t\tself.result = False\n",
    "\t\tself.current = math.tau\n",
    "\t\tself.display(self.current)\n",
    "\n",
    "\tdef e(self):\n",
    "\t\tself.result = False\n",
    "\t\tself.current = math.e\n",
    "\t\tself.display(self.current)\n",
    "\n",
    "\tdef mathPM(self):\n",
    "\t\tself.result = False\n",
    "\t\tself.current = -(float(txtDisplay.get()))\n",
    "\t\tself.display(self.current)\n",
    "\n",
    "\tdef squared(self):\n",
    "\t\tself.result = False\n",
    "\t\tself.current = math.sqrt(float(txtDisplay.get()))\n",
    "\t\tself.display(self.current)\n",
    "\n",
    "\tdef cos(self):\n",
    "\t\tself.result = False\n",
    "\t\tself.current = math.cos(math.radians(float(txtDisplay.get())))\n",
    "\t\tself.display(self.current)\n",
    "\n",
    "\tdef cosh(self):\n",
    "\t\tself.result = False\n",
    "\t\tself.current = math.cosh(math.radians(float(txtDisplay.get())))\n",
    "\t\tself.display(self.current)\n",
    "\n",
    "\tdef tan(self):\n",
    "\t\tself.result = False\n",
    "\t\tself.current = math.tan(math.radians(float(txtDisplay.get())))\n",
    "\t\tself.display(self.current)\n",
    "\n",
    "\tdef tanh(self):\n",
    "\t\tself.result = False\n",
    "\t\tself.current = math.tanh(math.radians(float(txtDisplay.get())))\n",
    "\t\tself.display(self.current)\n",
    "\n",
    "\tdef sin(self):\n",
    "\t\tself.result = False\n",
    "\t\tself.current = math.sin(math.radians(float(txtDisplay.get())))\n",
    "\t\tself.display(self.current)\n",
    "\n",
    "\tdef sinh(self):\n",
    "\t\tself.result = False\n",
    "\t\tself.current = math.sinh(math.radians(float(txtDisplay.get())))\n",
    "\t\tself.display(self.current)\n",
    "\n",
    "\tdef log(self):\n",
    "\t\tself.result = False\n",
    "\t\tself.current = math.log(float(txtDisplay.get()))\n",
    "\t\tself.display(self.current)\n",
    "\n",
    "\tdef exp(self):\n",
    "\t\tself.result = False\n",
    "\t\tself.current = math.exp(float(txtDisplay.get()))\n",
    "\t\tself.display(self.current)\n",
    "\n",
    "\tdef acosh(self):\n",
    "\t\tself.result = False\n",
    "\t\tself.current = math.acosh(float(txtDisplay.get()))\n",
    "\t\tself.display(self.current)\n",
    "\n",
    "\tdef asinh(self):\n",
    "\t\tself.result = False\n",
    "\t\tself.current = math.asinh(float(txtDisplay.get()))\n",
    "\t\tself.display(self.current)\n",
    "\n",
    "\tdef expm1(self):\n",
    "\t\tself.result = False\n",
    "\t\tself.current = math.expm1(float(txtDisplay.get()))\n",
    "\t\tself.display(self.current)\n",
    "\n",
    "\tdef lgamma(self):\n",
    "\t\tself.result = False\n",
    "\t\tself.current = math.lgamma(float(txtDisplay.get()))\n",
    "\t\tself.display(self.current)\n",
    "\n",
    "\tdef degrees(self):\n",
    "\t\tself.result = False\n",
    "\t\tself.current = math.degrees(float(txtDisplay.get()))\n",
    "\t\tself.display(self.current)\n",
    "\n",
    "\tdef log2(self):\n",
    "\t\tself.result = False\n",
    "\t\tself.current = math.log2(float(txtDisplay.get()))\n",
    "\t\tself.display(self.current)\n",
    "\n",
    "\tdef log10(self):\n",
    "\t\tself.result = False\n",
    "\t\tself.current = math.log10(float(txtDisplay.get()))\n",
    "\t\tself.display(self.current)\n",
    "\n",
    "\tdef log1p(self):\n",
    "\t\tself.result = False\n",
    "\t\tself.current = math.log1p(float(txtDisplay.get()))\n",
    "\t\tself.display(self.current)\n",
    "\n",
    "\n",
    "added_value = Calc()\n"
   ]
  },
  {
   "cell_type": "code",
   "execution_count": null,
   "id": "19ea9303",
   "metadata": {},
   "outputs": [],
   "source": [
    "txtDisplay = Entry(calc,\n",
    "\t\t\t\tfont=('Helvetica', 20,\n",
    "\t\t\t\t\t\t'bold'),\n",
    "\t\t\t\tbg='black',\n",
    "\t\t\t\tfg='white',\n",
    "\t\t\t\tbd=30,\n",
    "\t\t\t\twidth=28,\n",
    "\t\t\t\tjustify=RIGHT)\n",
    "\n",
    "txtDisplay.grid(row=0,\n",
    "\t\t\t\tcolumn=0,\n",
    "\t\t\t\tcolumnspan=4,\n",
    "\t\t\t\tpady=1)\n",
    "\n",
    "txtDisplay.insert(0, \"0\")\n"
   ]
  },
  {
   "cell_type": "code",
   "execution_count": null,
   "id": "44adbade",
   "metadata": {},
   "outputs": [],
   "source": [
    "# store all the numbers in a variable\n",
    "numberpad = \"789456123\"\n",
    "\n",
    "# here i will count the rows for placing buttons\n",
    "# in grid\n",
    "i = 0\n",
    "\n",
    "# create an empty list to store\n",
    "# each button with its particular specifications\n",
    "btn = []\n",
    "\n",
    "# j is in that range to place\n",
    "# the button in that particular row\n",
    "for j in range(2, 5):\n",
    "\n",
    "\t\t# k is in this range to place the\n",
    "\t# button in that particular column\n",
    "\tfor k in range(3):\n",
    "\t\tbtn.append(Button(calc,\n",
    "\t\t\t\t\t\twidth=6,\n",
    "\t\t\t\t\t\theight=2,\n",
    "\t\t\t\t\t\tbg='black',\n",
    "\t\t\t\t\t\tfg='white',\n",
    "\t\t\t\t\t\tfont=('Helvetica', 20, 'bold'),\n",
    "\t\t\t\t\t\tbd=4, text=numberpad[i]))\n",
    "\n",
    "\t\t# set buttons in row & column and\n",
    "\t\t# separate them with a padding of 1 unit\n",
    "\t\tbtn[i].grid(row=j, column=k, pady=1)\n",
    "\n",
    "\t\t# put that number as a symbol on that button\n",
    "\t\tbtn[i][\"command\"] = lambda x=numberpad[i]: added_value.numberEnter(x)\n",
    "\t\ti += 1\n"
   ]
  },
  {
   "cell_type": "code",
   "execution_count": null,
   "id": "556f25fd",
   "metadata": {},
   "outputs": [],
   "source": [
    "btnClear = Button(calc, text=chr(67),\n",
    "\t\t\t\twidth=6, height=2,\n",
    "\t\t\t\tbg='powder blue',\n",
    "\t\t\t\tfont=('Helvetica', 20, 'bold'),\n",
    "\t\t\t\tbd=4,\n",
    "\t\t\t\tcommand=added_value.Clear_Entry).grid(\n",
    "\trow=1, column=0, pady=1)\n",
    "\n",
    "btnAllClear = Button(calc, text=chr(67)+chr(69),\n",
    "\t\t\t\t\twidth=6, height=2,\n",
    "\t\t\t\t\tbg='powder blue',\n",
    "\t\t\t\t\tfont=('Helvetica',\n",
    "\t\t\t\t\t\t20, 'bold'), bd=4,\n",
    "\t\t\t\t\tcommand=added_value.All_Clear_Entry).grid(\n",
    "\trow=1, column=1, pady=1)\n",
    "\n",
    "btnsq = Button(calc, text=\"\\u221A\", width=6,\n",
    "\t\t\theight=2, bg='powder blue',\n",
    "\t\t\tfont=('Helvetica', 20, 'bold'),\n",
    "\t\t\tbd=4, command=added_value.squared).grid(\n",
    "\trow=1, column=2, pady=1)\n",
    "\n",
    "btnAdd = Button(calc, text=\"+\", width=6,\n",
    "\t\t\t\theight=2, bg='powder blue',\n",
    "\t\t\t\tfont=('Helvetica', 20, 'bold'),\n",
    "\t\t\t\tbd=4, command=lambda: added_value.operation(\"add\")\n",
    "\t\t\t\t).grid(row=1, column=3, pady=1)\n",
    "\n",
    "btnSub = Button(calc, text=\"-\", width=6,\n",
    "\t\t\t\theight=2, bg='powder blue',\n",
    "\t\t\t\tfont=('Helvetica', 20, 'bold'),\n",
    "\t\t\t\tbd=4,\n",
    "\t\t\t\tcommand=lambda: added_value.operation(\"sub\")\n",
    "\t\t\t\t).grid(row=2, column=3, pady=1)\n",
    "\n",
    "btnMul = Button(calc, text=\"x\", width=6, height=2,\n",
    "\t\t\t\tbg='powder blue',\n",
    "\t\t\t\tfont=('Helvetica', 20, 'bold'),\n",
    "\t\t\t\tbd=4, command=lambda: added_value.operation(\"multi\")\n",
    "\t\t\t\t).grid(row=3, column=3, pady=1)\n",
    "\n",
    "btnDiv = Button(calc, text=\"/\", width=6,\n",
    "\t\t\t\theight=2, bg='powder blue',\n",
    "\t\t\t\tfont=('Helvetica', 20, 'bold'),\n",
    "\t\t\t\tbd=4, command=lambda: added_value.operation(\"divide\")\n",
    "\t\t\t\t).grid(row=4, column=3, pady=1)\n",
    "\n",
    "btnZero = Button(calc, text=\"0\", width=6,\n",
    "\t\t\t\theight=2, bg='black', fg='white',\n",
    "\t\t\t\tfont=('Helvetica', 20, 'bold'),\n",
    "\t\t\t\tbd=4, command=lambda: added_value.numberEnter(0)\n",
    "\t\t\t\t).grid(row=5, column=0, pady=1)\n",
    "\n",
    "btnDot = Button(calc, text=\".\", width=6,\n",
    "\t\t\t\theight=2, bg='powder blue',\n",
    "\t\t\t\tfont=('Helvetica', 20, 'bold'),\n",
    "\t\t\t\tbd=4, command=lambda: added_value.numberEnter(\".\")\n",
    "\t\t\t\t).grid(row=5, column=1, pady=1)\n",
    "btnPM = Button(calc, text=chr(177), width=6,\n",
    "\t\t\theight=2, bg='powder blue',\n",
    "\t\t\tfont=('Helvetica', 20, 'bold'),\n",
    "\t\t\tbd=4, command=added_value.mathPM\n",
    "\t\t\t).grid(row=5, column=2, pady=1)\n",
    "\n",
    "btnEquals = Button(calc, text=\"=\", width=6,\n",
    "\t\t\t\theight=2, bg='powder blue',\n",
    "\t\t\t\tfont=('Helvetica', 20, 'bold'),\n",
    "\t\t\t\tbd=4, command=added_value.sum_of_total\n",
    "\t\t\t\t).grid(row=5, column=3, pady=1)\n",
    "# ROW 1 :\n",
    "\n",
    "btnPi = Button(calc, text=\"pi\", width=6,\n",
    "\t\t\theight=2, bg='black', fg='white',\n",
    "\t\t\tfont=('Helvetica', 20, 'bold'),\n",
    "\t\t\tbd=4, command=added_value.pi\n",
    "\t\t\t).grid(row=1, column=4, pady=1)\n",
    "\n",
    "btnCos = Button(calc, text=\"Cos\", width=6,\n",
    "\t\t\t\theight=2, bg='black', fg='white',\n",
    "\t\t\t\tfont=('Helvetica', 20, 'bold'),\n",
    "\t\t\t\tbd=4, command=added_value.cos\n",
    "\t\t\t\t).grid(row=1, column=5, pady=1)\n",
    "\n",
    "btntan = Button(calc, text=\"tan\", width=6,\n",
    "\t\t\t\theight=2, bg='black', fg='white',\n",
    "\t\t\t\tfont=('Helvetica', 20, 'bold'),\n",
    "\t\t\t\tbd=4, command=added_value.tan\n",
    "\t\t\t\t).grid(row=1, column=6, pady=1)\n",
    "\n",
    "btnsin = Button(calc, text=\"sin\", width=6,\n",
    "\t\t\t\theight=2, bg='black', fg='white',\n",
    "\t\t\t\tfont=('Helvetica', 20, 'bold'),\n",
    "\t\t\t\tbd=4, command=added_value.sin\n",
    "\t\t\t\t).grid(row=1, column=7, pady=1)\n",
    "\n",
    "# ROW 2 :\n",
    "\n",
    "btn2Pi = Button(calc, text=\"2pi\", width=6,\n",
    "\t\t\t\theight=2, bg='black', fg='white',\n",
    "\t\t\t\tfont=('Helvetica', 20, 'bold'),\n",
    "\t\t\t\tbd=4, command=added_value.tau\n",
    "\t\t\t\t).grid(row=2, column=4, pady=1)\n",
    "\n",
    "btnCosh = Button(calc, text=\"Cosh\", width=6,\n",
    "\t\t\t\theight=2, bg='black', fg='white',\n",
    "\t\t\t\tfont=('Helvetica', 20, 'bold'),\n",
    "\t\t\t\tbd=4, command=added_value.cosh\n",
    "\t\t\t\t).grid(row=2, column=5, pady=1)\n",
    "\n",
    "btntanh = Button(calc, text=\"tanh\", width=6,\n",
    "\t\t\t\theight=2, bg='black', fg='white',\n",
    "\t\t\t\tfont=('Helvetica', 20, 'bold'),\n",
    "\t\t\t\tbd=4, command=added_value.tanh\n",
    "\t\t\t\t).grid(row=2, column=6, pady=1)\n",
    "\n",
    "btnsinh = Button(calc, text=\"sinh\", width=6,\n",
    "\t\t\t\theight=2, bg='black', fg='white',\n",
    "\t\t\t\tfont=('Helvetica', 20, 'bold'),\n",
    "\t\t\t\tbd=4, command=added_value.sinh\n",
    "\t\t\t\t).grid(row=2, column=7, pady=1)\n",
    "\n",
    "# ROW 3 :\n",
    "\n",
    "btnlog = Button(calc, text=\"log\", width=6,\n",
    "\t\t\t\theight=2, bg='black', fg='white',\n",
    "\t\t\t\tfont=('Helvetica', 20, 'bold'),\n",
    "\t\t\t\tbd=4, command=added_value.log\n",
    "\t\t\t\t).grid(row=3, column=4, pady=1)\n",
    "\n",
    "btnExp = Button(calc, text=\"exp\", width=6,\n",
    "\t\t\t\theight=2, bg='black', fg='white',\n",
    "\t\t\t\tfont=('Helvetica', 20, 'bold'),\n",
    "\t\t\t\tbd=4, command=added_value.exp\n",
    "\t\t\t\t).grid(row=3, column=5, pady=1)\n",
    "\n",
    "btnMod = Button(calc, text=\"Mod\", width=6,\n",
    "\t\t\t\theight=2, bg='black', fg='white',\n",
    "\t\t\t\tfont=('Helvetica', 20, 'bold'),\n",
    "\t\t\t\tbd=4, command=lambda: added_value.operation(\"mod\")\n",
    "\t\t\t\t).grid(row=3, column=6, pady=1)\n",
    "\n",
    "btnE = Button(calc, text=\"e\", width=6,\n",
    "\t\t\theight=2, bg='black', fg='white',\n",
    "\t\t\tfont=('Helvetica', 20, 'bold'),\n",
    "\t\t\tbd=4, command=added_value.e\n",
    "\t\t\t).grid(row=3, column=7, pady=1)\n",
    "\n",
    "# ROW 4 :\n",
    "\n",
    "btnlog10 = Button(calc, text=\"log10\", width=6,\n",
    "\t\t\t\theight=2, bg='black', fg='white',\n",
    "\t\t\t\tfont=('Helvetica', 20, 'bold'),\n",
    "\t\t\t\tbd=4, command=added_value.log10\n",
    "\t\t\t\t).grid(row=4, column=4, pady=1)\n",
    "\n",
    "btncos = Button(calc, text=\"log1p\", width=6,\n",
    "\t\t\t\theight=2, bg='black', fg='white',\n",
    "\t\t\t\tfont=('Helvetica', 20, 'bold'),\n",
    "\t\t\t\tbd=4, command=added_value.log1p\n",
    "\t\t\t\t).grid(row=4, column=5, pady=1)\n",
    "\n",
    "btnexpm1 = Button(calc, text=\"expm1\", width=6,\n",
    "\t\t\t\theight=2, bg='black', fg='white',\n",
    "\t\t\t\tfont=('Helvetica', 20, 'bold'),\n",
    "\t\t\t\tbd=4, command=added_value.expm1\n",
    "\t\t\t\t).grid(row=4, column=6, pady=1)\n",
    "\n",
    "btngamma = Button(calc, text=\"gamma\", width=6,\n",
    "\t\t\t\theight=2, bg='black', fg='white',\n",
    "\t\t\t\tfont=('Helvetica', 20, 'bold'),\n",
    "\t\t\t\tbd=4, command=added_value.lgamma\n",
    "\t\t\t\t).grid(row=4, column=7, pady=1)\n",
    "# ROW 5 :\n",
    "\n",
    "btnlog2 = Button(calc, text=\"log2\", width=6,\n",
    "\t\t\t\theight=2, bg='black', fg='white',\n",
    "\t\t\t\tfont=('Helvetica', 20, 'bold'),\n",
    "\t\t\t\tbd=4, command=added_value.log2\n",
    "\t\t\t\t).grid(row=5, column=4, pady=1)\n",
    "\n",
    "btndeg = Button(calc, text=\"deg\", width=6,\n",
    "\t\t\t\theight=2, bg='black', fg='white',\n",
    "\t\t\t\tfont=('Helvetica', 20, 'bold'),\n",
    "\t\t\t\tbd=4, command=added_value.degrees\n",
    "\t\t\t\t).grid(row=5, column=5, pady=1)\n",
    "\n",
    "btnacosh = Button(calc, text=\"acosh\", width=6,\n",
    "\t\t\t\theight=2, bg='black', fg='white',\n",
    "\t\t\t\tfont=('Helvetica', 20, 'bold'),\n",
    "\t\t\t\tbd=4, command=added_value.acosh\n",
    "\t\t\t\t).grid(row=5, column=6, pady=1)\n",
    "\n",
    "btnasinh = Button(calc, text=\"asinh\", width=6,\n",
    "\t\t\t\theight=2, bg='black', fg='white',\n",
    "\t\t\t\tfont=('Helvetica', 20, 'bold'),\n",
    "\t\t\t\tbd=4, command=added_value.asinh\n",
    "\t\t\t\t).grid(row=5, column=7, pady=1)\n",
    "\n",
    "lblDisplay = Label(calc, text=\"Scientific Calculator\",\n",
    "\t\t\t\tfont=('Helvetica', 30, 'bold'),\n",
    "\t\t\t\tbg='black', fg='white', justify=CENTER)\n",
    "lblDisplay.grid(row=0, column=4, columnspan=4)\n"
   ]
  },
  {
   "cell_type": "code",
   "execution_count": 28,
   "id": "9406204d",
   "metadata": {},
   "outputs": [
    {
     "ename": "TclError",
     "evalue": "can't invoke \"menu\" command: application has been destroyed",
     "output_type": "error",
     "traceback": [
      "\u001b[1;31m---------------------------------------------------------------------------\u001b[0m",
      "\u001b[1;31mTclError\u001b[0m                                  Traceback (most recent call last)",
      "Cell \u001b[1;32mIn[28], line 19\u001b[0m\n\u001b[0;32m     16\u001b[0m \troot\u001b[38;5;241m.\u001b[39mresizable(width\u001b[38;5;241m=\u001b[39m\u001b[38;5;28;01mFalse\u001b[39;00m, height\u001b[38;5;241m=\u001b[39m\u001b[38;5;28;01mFalse\u001b[39;00m)\n\u001b[0;32m     17\u001b[0m \troot\u001b[38;5;241m.\u001b[39mgeometry(\u001b[38;5;124m\"\u001b[39m\u001b[38;5;124m480x568+0+0\u001b[39m\u001b[38;5;124m\"\u001b[39m)\n\u001b[1;32m---> 19\u001b[0m menubar \u001b[38;5;241m=\u001b[39m Menu(calc)\n\u001b[0;32m     21\u001b[0m \u001b[38;5;66;03m# ManuBar 1 :\u001b[39;00m\n\u001b[0;32m     23\u001b[0m filemenu \u001b[38;5;241m=\u001b[39m Menu(menubar, tearoff \u001b[38;5;241m=\u001b[39m \u001b[38;5;241m0\u001b[39m)\n",
      "File \u001b[1;32mc:\\Users\\lenovo\\anaconda3\\Lib\\tkinter\\__init__.py:3343\u001b[0m, in \u001b[0;36mMenu.__init__\u001b[1;34m(self, master, cnf, **kw)\u001b[0m\n\u001b[0;32m   3336\u001b[0m \u001b[38;5;28;01mdef\u001b[39;00m \u001b[38;5;21m__init__\u001b[39m(\u001b[38;5;28mself\u001b[39m, master\u001b[38;5;241m=\u001b[39m\u001b[38;5;28;01mNone\u001b[39;00m, cnf\u001b[38;5;241m=\u001b[39m{}, \u001b[38;5;241m*\u001b[39m\u001b[38;5;241m*\u001b[39mkw):\n\u001b[0;32m   3337\u001b[0m \u001b[38;5;250m    \u001b[39m\u001b[38;5;124;03m\"\"\"Construct menu widget with the parent MASTER.\u001b[39;00m\n\u001b[0;32m   3338\u001b[0m \n\u001b[0;32m   3339\u001b[0m \u001b[38;5;124;03m    Valid resource names: activebackground, activeborderwidth,\u001b[39;00m\n\u001b[0;32m   3340\u001b[0m \u001b[38;5;124;03m    activeforeground, background, bd, bg, borderwidth, cursor,\u001b[39;00m\n\u001b[0;32m   3341\u001b[0m \u001b[38;5;124;03m    disabledforeground, fg, font, foreground, postcommand, relief,\u001b[39;00m\n\u001b[0;32m   3342\u001b[0m \u001b[38;5;124;03m    selectcolor, takefocus, tearoff, tearoffcommand, title, type.\"\"\"\u001b[39;00m\n\u001b[1;32m-> 3343\u001b[0m     Widget\u001b[38;5;241m.\u001b[39m\u001b[38;5;21m__init__\u001b[39m(\u001b[38;5;28mself\u001b[39m, master, \u001b[38;5;124m'\u001b[39m\u001b[38;5;124mmenu\u001b[39m\u001b[38;5;124m'\u001b[39m, cnf, kw)\n",
      "File \u001b[1;32mc:\\Users\\lenovo\\anaconda3\\Lib\\tkinter\\__init__.py:2628\u001b[0m, in \u001b[0;36mBaseWidget.__init__\u001b[1;34m(self, master, widgetName, cnf, kw, extra)\u001b[0m\n\u001b[0;32m   2626\u001b[0m \u001b[38;5;28;01mfor\u001b[39;00m k, v \u001b[38;5;129;01min\u001b[39;00m classes:\n\u001b[0;32m   2627\u001b[0m     \u001b[38;5;28;01mdel\u001b[39;00m cnf[k]\n\u001b[1;32m-> 2628\u001b[0m \u001b[38;5;28mself\u001b[39m\u001b[38;5;241m.\u001b[39mtk\u001b[38;5;241m.\u001b[39mcall(\n\u001b[0;32m   2629\u001b[0m     (widgetName, \u001b[38;5;28mself\u001b[39m\u001b[38;5;241m.\u001b[39m_w) \u001b[38;5;241m+\u001b[39m extra \u001b[38;5;241m+\u001b[39m \u001b[38;5;28mself\u001b[39m\u001b[38;5;241m.\u001b[39m_options(cnf))\n\u001b[0;32m   2630\u001b[0m \u001b[38;5;28;01mfor\u001b[39;00m k, v \u001b[38;5;129;01min\u001b[39;00m classes:\n\u001b[0;32m   2631\u001b[0m     k\u001b[38;5;241m.\u001b[39mconfigure(\u001b[38;5;28mself\u001b[39m, v)\n",
      "\u001b[1;31mTclError\u001b[0m: can't invoke \"menu\" command: application has been destroyed"
     ]
    }
   ],
   "source": [
    "# use askyesno function to\n",
    "# stop/continue the program execution \n",
    "def iExit(): \n",
    "\tiExit = tkinter.messagebox.askyesno(\"Scientific Calculator\",\n",
    "\t\t\t\t\t\t\t\t\t\t\"Do you want to exit ?\")\n",
    "\tif iExit>0:\n",
    "\t\troot.destroy()\n",
    "\t\treturn\n",
    "\n",
    "def Scientific():\n",
    "\troot.resizable(width=False, height=False)\n",
    "\troot.geometry(\"944x568+0+0\")\n",
    "\n",
    "\n",
    "def Standard():\n",
    "\troot.resizable(width=False, height=False)\n",
    "\troot.geometry(\"480x568+0+0\")\n",
    "\n",
    "menubar = Menu(calc)\n",
    "\n",
    "# ManuBar 1 :\n",
    "\n",
    "filemenu = Menu(menubar, tearoff = 0)\n",
    "menubar.add_cascade(label = 'File', menu = filemenu)\n",
    "filemenu.add_command(label = \"Standard\", command = Standard)\n",
    "filemenu.add_command(label = \"Scientific\", command = Scientific)\n",
    "filemenu.add_separator()\n",
    "filemenu.add_command(label = \"Exit\", command = iExit)\n",
    "\n",
    "# ManuBar 2 :\n",
    "\n",
    "editmenu = Menu(menubar, tearoff = 0)\n",
    "menubar.add_cascade(label = 'Edit', menu = editmenu)\n",
    "editmenu.add_command(label = \"Cut\")\n",
    "editmenu.add_command(label = \"Copy\")\n",
    "editmenu.add_separator()\n",
    "editmenu.add_command(label = \"Paste\")\n",
    "\n",
    "root.config(menu=menubar)\n",
    "\n",
    "root.mainloop()\n"
   ]
  },
  {
   "cell_type": "code",
   "execution_count": null,
   "id": "22be8f07",
   "metadata": {},
   "outputs": [],
   "source": []
  }
 ],
 "metadata": {
  "kernelspec": {
   "display_name": "Python 3 (ipykernel)",
   "language": "python",
   "name": "python3"
  },
  "language_info": {
   "codemirror_mode": {
    "name": "ipython",
    "version": 3
   },
   "file_extension": ".py",
   "mimetype": "text/x-python",
   "name": "python",
   "nbconvert_exporter": "python",
   "pygments_lexer": "ipython3",
   "version": "3.11.5"
  }
 },
 "nbformat": 4,
 "nbformat_minor": 5
}
