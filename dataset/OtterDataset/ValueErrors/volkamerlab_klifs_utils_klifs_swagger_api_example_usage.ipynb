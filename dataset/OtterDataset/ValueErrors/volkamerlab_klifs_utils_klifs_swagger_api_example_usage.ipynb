{
 "cells": [
  {
   "cell_type": "markdown",
   "metadata": {},
   "source": [
    "# KLIFS API\n",
    "\n",
    "Check out result values when using KLIFS API:\n",
    "\n",
    "https://klifs.vu-compmedchem.nl/swagger/"
   ]
  },
  {
   "cell_type": "code",
   "execution_count": 1,
   "metadata": {},
   "outputs": [],
   "source": [
    "from bravado.client import SwaggerClient\n",
    "from bravado_core.exception import SwaggerMappingError\n",
    "\n",
    "KLIFS_API_DEFINITIONS = \"http://klifs.vu-compmedchem.nl/swagger/swagger.json\"\n",
    "KLIFS_CLIENT = SwaggerClient.from_url(\n",
    "    KLIFS_API_DEFINITIONS, config={\"validate_responses\": False}\n",
    ")"
   ]
  },
  {
   "cell_type": "code",
   "execution_count": 2,
   "metadata": {},
   "outputs": [],
   "source": [
    "def print_result(result):\n",
    "    \"\"\"Use when result is a list.\"\"\"\n",
    "    if isinstance(result, list):\n",
    "        print(\"Result type:\", type(result))\n",
    "        print(\"Number of list items:\", len(result))\n",
    "        print(\"List item type:\", type(result[0]))\n",
    "        print(\"First list item:\", result[0])\n",
    "    if isinstance(result, str):\n",
    "        print(\"Result type:\", type(result))"
   ]
  },
  {
   "cell_type": "markdown",
   "metadata": {},
   "source": [
    "## Information"
   ]
  },
  {
   "cell_type": "code",
   "execution_count": 3,
   "metadata": {},
   "outputs": [
    {
     "name": "stdout",
     "output_type": "stream",
     "text": [
      "Result type: <class 'list'>\n",
      "Number of list items: 8\n",
      "List item type: <class 'str'>\n",
      "First list item: AGC\n"
     ]
    }
   ],
   "source": [
    "result = KLIFS_CLIENT.Information.get_kinase_groups().response().result\n",
    "print_result(result)"
   ]
  },
  {
   "cell_type": "code",
   "execution_count": 4,
   "metadata": {},
   "outputs": [
    {
     "name": "stdout",
     "output_type": "stream",
     "text": [
      "Result type: <class 'list'>\n",
      "Number of list items: 144\n",
      "List item type: <class 'str'>\n",
      "First list item: A6\n"
     ]
    }
   ],
   "source": [
    "result = KLIFS_CLIENT.Information.get_kinase_families().response().result\n",
    "print_result(result)"
   ]
  },
  {
   "cell_type": "code",
   "execution_count": 23,
   "metadata": {},
   "outputs": [
    {
     "data": {
      "text/plain": [
       "type"
      ]
     },
     "execution_count": 23,
     "metadata": {},
     "output_type": "execute_result"
    }
   ],
   "source": [
    "type(int)"
   ]
  },
  {
   "cell_type": "code",
   "execution_count": 5,
   "metadata": {},
   "outputs": [
    {
     "name": "stdout",
     "output_type": "stream",
     "text": [
      "Result type: <class 'list'>\n",
      "Number of list items: 1127\n",
      "List item type: <class 'abc.IDlist'>\n",
      "First list item: IDlist(full_name='RIKEN cDNA 4921509C19 gene', kinase_ID=813, name='4921509C19Rik', species='Mouse')\n"
     ]
    }
   ],
   "source": [
    "result = KLIFS_CLIENT.Information.get_kinase_names().response().result\n",
    "print_result(result)"
   ]
  },
  {
   "cell_type": "code",
   "execution_count": 6,
   "metadata": {},
   "outputs": [
    {
     "name": "stdout",
     "output_type": "stream",
     "text": [
      "Result type: <class 'list'>\n",
      "Number of list items: 1\n",
      "List item type: <class 'abc.KinaseInformation'>\n",
      "First list item: KinaseInformation(HGNC='PRKCA', family='PKC', full_name='protein kinase C alpha', group='AGC', iuphar=1482, kinase_ID=33, kinase_class='Alpha', name='PKCa', pocket='MVLGKGSFGKVMLYAIKILCTMVEKRVLALLDPFLTQLHSCYFVMEYVNGGDLMYHIQQFLHKRGIIYRDLKLDNVMLIADFGMC', species='Human', uniprot='P17252')\n"
     ]
    }
   ],
   "source": [
    "result = KLIFS_CLIENT.Information.get_kinase_information(kinase_ID=[33]).response().result\n",
    "print_result(result)"
   ]
  },
  {
   "cell_type": "code",
   "execution_count": 7,
   "metadata": {},
   "outputs": [
    {
     "name": "stdout",
     "output_type": "stream",
     "text": [
      "Result type: <class 'list'>\n",
      "Number of list items: 2\n",
      "List item type: <class 'abc.KinaseInformation'>\n",
      "First list item: KinaseInformation(HGNC='EGFR', family='EGFR', full_name='epidermal growth factor receptor', group='TK', iuphar=1797, kinase_ID=406, kinase_class='', name='EGFR', pocket='KVLGSGAFGTVYKVAIKELEILDEAYVMASVDPHVCRLLGIQLITQLMPFGCLLDYVREYLEDRRLVHRDLAARNVLVITDFGLA', species='Human', uniprot='P00533')\n"
     ]
    }
   ],
   "source": [
    "result = KLIFS_CLIENT.Information.get_kinase_ID(kinase_name=\"EGFR\").response().result\n",
    "print_result(result)"
   ]
  },
  {
   "cell_type": "markdown",
   "metadata": {},
   "source": [
    "## Interactions"
   ]
  },
  {
   "cell_type": "code",
   "execution_count": 8,
   "metadata": {},
   "outputs": [
    {
     "name": "stdout",
     "output_type": "stream",
     "text": [
      "Result type: <class 'list'>\n",
      "Number of list items: 7\n",
      "List item type: <class 'dict'>\n",
      "First list item: {'position': '1', 'name': 'Apolar contact'}\n"
     ]
    }
   ],
   "source": [
    "result = KLIFS_CLIENT.Interactions.get_interactions_get_types().response().result\n",
    "print_result(result)"
   ]
  },
  {
   "cell_type": "code",
   "execution_count": 9,
   "metadata": {},
   "outputs": [
    {
     "name": "stdout",
     "output_type": "stream",
     "text": [
      "Result type: <class 'list'>\n",
      "Number of list items: 1\n",
      "List item type: <class 'dict'>\n",
      "First list item: {'structure_ID': 33, 'IFP': '0000000000000010000001000000000000000000000000000000000000000000000000100000000000000000000000000010000000000000100000000000000000000000000000000000000000000000000000000000000000000000000000000000000000000000000000000000000000000000000000000000010000000000000000000000000000000000000000000000000000000000000010100000000100110000010010000000000000000010000001000000000000000000000000000000000000000000000000000000000000000000000000000000000000000000000000000000000000000000000000000000000000000000000000000000000100000010000000000000100000000000000000000100000010000000000000000000000000000000000'}\n"
     ]
    }
   ],
   "source": [
    "result = KLIFS_CLIENT.Interactions.get_interactions_get_IFP(structure_ID=[33]).response().result\n",
    "print_result(result)"
   ]
  },
  {
   "cell_type": "code",
   "execution_count": 10,
   "metadata": {},
   "outputs": [
    {
     "name": "stdout",
     "output_type": "stream",
     "text": [
      "Result type: <class 'list'>\n",
      "Number of list items: 85\n",
      "List item type: <class 'dict'>\n",
      "First list item: {'index': 1, 'Xray_position': '367', 'KLIFS_position': 'I.1'}\n"
     ]
    }
   ],
   "source": [
    "result = KLIFS_CLIENT.Interactions.get_interactions_match_residues(structure_ID=33).response().result\n",
    "print_result(result)"
   ]
  },
  {
   "cell_type": "markdown",
   "metadata": {},
   "source": [
    "## Ligands"
   ]
  },
  {
   "cell_type": "code",
   "execution_count": 11,
   "metadata": {},
   "outputs": [
    {
     "name": "stdout",
     "output_type": "stream",
     "text": [
      "Result type: <class 'list'>\n",
      "Number of list items: 1\n",
      "List item type: <class 'abc.ligandDetails'>\n",
      "First list item: ligandDetails(InChIKey='HKSZLNNOFSGOKW-FYTWVXJKSA-N', Name='STAUROSPORINE', PDB-code='STU', SMILES='O=C1NCc2c3c4N(c5c3cccc5)[C@]6(O[C@@H](N7c4c(c8c7cccc8)c21)C[C@@H](NC)[C@H]6OC)C', ligand_ID=28)\n"
     ]
    }
   ],
   "source": [
    "result = KLIFS_CLIENT.Ligands.get_ligands_list(kinase_ID=[22]).response().result\n",
    "print_result(result)"
   ]
  },
  {
   "cell_type": "code",
   "execution_count": 12,
   "metadata": {},
   "outputs": [
    {
     "name": "stdout",
     "output_type": "stream",
     "text": [
      "Result type: <class 'list'>\n",
      "Number of list items: 1\n",
      "List item type: <class 'abc.structureDetails'>\n",
      "First list item: structureDetails(DFG='in', Grich_angle=53.1356, Grich_distance=15.607, Grich_rotation=65.903, aC_helix='out', allosteric_ligand=0, alt='', back=False, bp_III=False, bp_II_A_in=False, bp_II_B=False, bp_II_B_in=False, bp_II_in=False, bp_II_out=False, bp_IV=False, bp_I_A=False, bp_I_B=False, bp_V=False, chain='A', fp_I=False, fp_II=False, front=True, gate=False, kinase='ITK', kinase_ID=474, ligand='614', missing_atoms=0, missing_residues=8, pdb='3mj1', pocket='QEIGSG__GLVHLVAIKTI___EEAEVMMKLSPKLVQLYGVCLVFEFMEHGCLSDYLRTYLEEASVIHRDLAARNCLVVSDF___', quality_score=4.8, resolution=1.72, rmsd1=0.781, rmsd2=1.962, species='Human', structure_ID=27)\n"
     ]
    }
   ],
   "source": [
    "result = KLIFS_CLIENT.Ligands.get_ligands_list_structures(ligand_ID=[22]).response().result\n",
    "print_result(result)"
   ]
  },
  {
   "cell_type": "code",
   "execution_count": 13,
   "metadata": {},
   "outputs": [
    {
     "name": "stdout",
     "output_type": "stream",
     "text": [
      "Result type: <class 'list'>\n",
      "Number of list items: 7\n",
      "List item type: <class 'dict'>\n",
      "First list item: {'pref_name': 'Dual specificity protein kinase CLK3', 'accession': 'P49761', 'organism': 'Homo sapiens', 'standard_type': 'IC50', 'standard_relation': '=', 'standard_value': '29.2', 'standard_units': 'nM', 'pchembl_value': '7.54'}\n"
     ]
    }
   ],
   "source": [
    "result = KLIFS_CLIENT.Ligands.get_bioactivity_list_id(ligand_ID=50).response().result\n",
    "print_result(result)"
   ]
  },
  {
   "cell_type": "code",
   "execution_count": 14,
   "metadata": {},
   "outputs": [
    {
     "name": "stdout",
     "output_type": "stream",
     "text": [
      "('Error while marshalling value=STU to type=integer/int32.', ValueError(\"invalid literal for int() with base 10: 'STU'\"))\n"
     ]
    }
   ],
   "source": [
    "try:\n",
    "    result = KLIFS_CLIENT.Ligands.get_bioactivity_list_pdb(ligand_PDB=\"STU\").response().result\n",
    "except (SwaggerMappingError, ValueError) as e:\n",
    "    print(e)"
   ]
  },
  {
   "cell_type": "markdown",
   "metadata": {},
   "source": [
    "## Structures"
   ]
  },
  {
   "cell_type": "code",
   "execution_count": 15,
   "metadata": {},
   "outputs": [
    {
     "name": "stdout",
     "output_type": "stream",
     "text": [
      "Result type: <class 'list'>\n",
      "Number of list items: 1\n",
      "List item type: <class 'abc.structureDetails'>\n",
      "First list item: structureDetails(DFG='na', Grich_angle=53.1351, Grich_distance=16.4813, Grich_rotation=50.787, aC_helix='na', allosteric_ligand=0, alt='', back=False, bp_III=False, bp_II_A_in=False, bp_II_B=False, bp_II_B_in=False, bp_II_in=False, bp_II_out=False, bp_IV=False, bp_I_A=False, bp_I_B=False, bp_V=False, chain='B', fp_I=True, fp_II=False, front=True, gate=False, kinase='ITK', kinase_ID=474, ligand='STU', missing_atoms=0, missing_residues=4, pdb='1snu', pocket='QEIGSGQFGLVHLVAIKTIDFIEEAEVMMKLSPKLVQLYGVCLVFEFMEHGCLSDYLRTYLEEACVIHRDLAARNCLVVSD____', quality_score=6.0, resolution=2.5, rmsd1=0.746, rmsd2=2.124, species='Human', structure_ID=33)\n"
     ]
    }
   ],
   "source": [
    "result = KLIFS_CLIENT.Structures.get_structure_list(structure_ID=[33]).response().result\n",
    "print_result(result)"
   ]
  },
  {
   "cell_type": "code",
   "execution_count": 16,
   "metadata": {},
   "outputs": [
    {
     "name": "stdout",
     "output_type": "stream",
     "text": [
      "Result type: <class 'list'>\n",
      "Number of list items: 4\n",
      "List item type: <class 'abc.structureDetails'>\n",
      "First list item: structureDetails(DFG='in', Grich_angle=50.9131, Grich_distance=15.8616, Grich_rotation=42.2912, aC_helix='in', allosteric_ligand=0, alt='', back=False, bp_III=False, bp_II_A_in=False, bp_II_B=False, bp_II_B_in=False, bp_II_in=False, bp_II_out=False, bp_IV=False, bp_I_A=False, bp_I_B=True, bp_V=False, chain='B', fp_I=True, fp_II=False, front=True, gate=True, kinase='PKCa', kinase_ID=33, ligand='LW4', missing_atoms=0, missing_residues=0, pdb='3iw4', pocket='MVLGKGSFGKVMLYAIKILCTMVEKRVLALLDPFLTQLHSCYFVMEYVNGGDLMYHIQQFLHKRGIIYRDLKLDNVMLIADFGMC', quality_score=8.0, resolution=2.8, rmsd1=0.783, rmsd2=2.105, species='Human', structure_ID=3039)\n"
     ]
    }
   ],
   "source": [
    "result = KLIFS_CLIENT.Structures.get_structures_list(kinase_ID=[33]).response().result\n",
    "print_result(result)"
   ]
  },
  {
   "cell_type": "code",
   "execution_count": 17,
   "metadata": {},
   "outputs": [
    {
     "name": "stdout",
     "output_type": "stream",
     "text": [
      "Result type: <class 'list'>\n",
      "Number of list items: 1\n",
      "List item type: <class 'abc.structureDetails'>\n",
      "First list item: structureDetails(DFG='in', Grich_angle=44.4624, Grich_distance=13.7114, Grich_rotation=41.949, aC_helix='out', allosteric_ligand=0, alt='', back=True, bp_III=False, bp_II_A_in=True, bp_II_B=False, bp_II_B_in=False, bp_II_in=True, bp_II_out=False, bp_IV=False, bp_I_A=True, bp_I_B=True, bp_V=False, chain='A', fp_I=False, fp_II=False, front=True, gate=True, kinase='EGFR', kinase_ID=406, ligand='W32', missing_atoms=0, missing_residues=0, pdb='3w32', pocket='KVLGSGAFGTVYKVAIKELEILDEAYVMASVDPHVCRLLGIQLITQLMPFGCLLDYVREYLEDRRLVHRDLAARNVLVITDFGLA', quality_score=8.0, resolution=1.8, rmsd1=0.83, rmsd2=2.177, species='Human', structure_ID=784)\n"
     ]
    }
   ],
   "source": [
    "result = KLIFS_CLIENT.Structures.get_structures_pdb_list(pdb_codes=[\"3w32\"]).response().result\n",
    "print_result(result)"
   ]
  },
  {
   "cell_type": "code",
   "execution_count": 18,
   "metadata": {},
   "outputs": [
    {
     "name": "stdout",
     "output_type": "stream",
     "text": [
      "Result type: <class 'str'>\n"
     ]
    }
   ],
   "source": [
    "result = KLIFS_CLIENT.Structures.get_structure_get_complex(structure_ID=33).response().result\n",
    "print_result(result)"
   ]
  },
  {
   "cell_type": "code",
   "execution_count": 19,
   "metadata": {},
   "outputs": [
    {
     "name": "stdout",
     "output_type": "stream",
     "text": [
      "Result type: <class 'str'>\n"
     ]
    }
   ],
   "source": [
    "result = KLIFS_CLIENT.Structures.get_structure_get_pdb_complex(structure_ID=33).response().result\n",
    "print_result(result)"
   ]
  },
  {
   "cell_type": "code",
   "execution_count": 20,
   "metadata": {},
   "outputs": [
    {
     "name": "stdout",
     "output_type": "stream",
     "text": [
      "Result type: <class 'str'>\n"
     ]
    }
   ],
   "source": [
    "result = KLIFS_CLIENT.Structures.get_structure_get_ligand(structure_ID=33).response().result\n",
    "print_result(result)"
   ]
  },
  {
   "cell_type": "code",
   "execution_count": 21,
   "metadata": {},
   "outputs": [
    {
     "name": "stdout",
     "output_type": "stream",
     "text": [
      "Result type: <class 'str'>\n"
     ]
    }
   ],
   "source": [
    "result = KLIFS_CLIENT.Structures.get_structure_get_pocket(structure_ID=33).response().result\n",
    "print_result(result)"
   ]
  },
  {
   "cell_type": "code",
   "execution_count": 22,
   "metadata": {},
   "outputs": [
    {
     "name": "stdout",
     "output_type": "stream",
     "text": [
      "Result type: <class 'str'>\n"
     ]
    }
   ],
   "source": [
    "result = KLIFS_CLIENT.Structures.get_structure_get_protein(structure_ID=33).response().result\n",
    "print_result(result)"
   ]
  }
 ],
 "metadata": {
  "kernelspec": {
   "display_name": "opencadd",
   "language": "python",
   "name": "opencadd"
  },
  "language_info": {
   "codemirror_mode": {
    "name": "ipython",
    "version": 3
   },
   "file_extension": ".py",
   "mimetype": "text/x-python",
   "name": "python",
   "nbconvert_exporter": "python",
   "pygments_lexer": "ipython3",
   "version": "3.8.5"
  }
 },
 "nbformat": 4,
 "nbformat_minor": 4
}
