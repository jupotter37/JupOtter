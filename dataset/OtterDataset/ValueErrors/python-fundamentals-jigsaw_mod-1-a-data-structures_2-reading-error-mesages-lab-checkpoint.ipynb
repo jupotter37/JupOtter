{
 "cells": [
  {
   "cell_type": "markdown",
   "id": "c7143247-2d04-4e10-87e1-490d1bdb3722",
   "metadata": {},
   "source": [
    "# Reading Error Messages Lab"
   ]
  },
  {
   "cell_type": "markdown",
   "id": "86d6dbe0-082f-4243-bf4a-46bde4fe6c66",
   "metadata": {},
   "source": [
    "### Introduction"
   ]
  },
  {
   "cell_type": "markdown",
   "id": "55c9ea03-fa22-4b26-90b4-c52a456e5554",
   "metadata": {},
   "source": [
    "In this lesson, we'll practice reading our error messages.  Let's get started."
   ]
  },
  {
   "cell_type": "markdown",
   "id": "d8df36ce-b7e7-4919-a3bc-b9b4d17b4668",
   "metadata": {},
   "source": [
    "### Loading our Data"
   ]
  },
  {
   "cell_type": "markdown",
   "id": "0c6b70d6-6489-4fb3-b7b8-43e900b05824",
   "metadata": {},
   "source": [
    "Let's load our data, but not look at any of the error messages.  Instead, we would just like to read the error messages, and understand what is occurring."
   ]
  },
  {
   "cell_type": "code",
   "execution_count": null,
   "id": "5fe3369c-5a85-4b40-b11b-f7977ff26cfb",
   "metadata": {},
   "outputs": [],
   "source": [
    "import pandas as pd\n",
    "\n",
    "url = \"https://raw.githubusercontent.com/eng-6-22/mod-1-a-data-structures/master/0-programming-patterns/polls.csv\"\n",
    "df = pd.read_csv(url)\n",
    "records = df.to_dict('records')\n",
    "\n",
    "records"
   ]
  },
  {
   "cell_type": "markdown",
   "id": "7a68336a-3580-43bd-a4be-0fc0ce03e591",
   "metadata": {},
   "source": [
    "### Guessing the error message"
   ]
  },
  {
   "cell_type": "markdown",
   "id": "a1a46279-d335-4288-8a86-15cb5b3b360c",
   "metadata": {},
   "source": [
    "* For each of the following errors, explain why it means, and why it is occurring."
   ]
  },
  {
   "cell_type": "code",
   "execution_count": 26,
   "id": "fd642deb-57ed-4bbb-ada6-233305dc49b0",
   "metadata": {},
   "outputs": [
    {
     "ename": "TypeError",
     "evalue": "list indices must be integers or slices, not str",
     "output_type": "error",
     "traceback": [
      "\u001b[0;31m---------------------------------------------------------------------------\u001b[0m",
      "\u001b[0;31mTypeError\u001b[0m                                 Traceback (most recent call last)",
      "\u001b[0;32m/var/folders/kx/pltjhhp51mv3hjlcsp0dwlfw0000gn/T/ipykernel_59207/1096331961.py\u001b[0m in \u001b[0;36m<module>\u001b[0;34m\u001b[0m\n\u001b[0;32m----> 1\u001b[0;31m \u001b[0mrecords\u001b[0m\u001b[0;34m[\u001b[0m\u001b[0;34m'state'\u001b[0m\u001b[0;34m]\u001b[0m\u001b[0;34m\u001b[0m\u001b[0;34m\u001b[0m\u001b[0m\n\u001b[0m",
      "\u001b[0;31mTypeError\u001b[0m: list indices must be integers or slices, not str"
     ]
    }
   ],
   "source": [
    "records['state']"
   ]
  },
  {
   "cell_type": "code",
   "execution_count": 21,
   "id": "dacaf333-588f-4629-8e28-be2125b202be",
   "metadata": {},
   "outputs": [],
   "source": [
    "# Explain here"
   ]
  },
  {
   "cell_type": "code",
   "execution_count": 27,
   "id": "4d49ea52-acf5-4dc2-8d7a-d689e49d3e6f",
   "metadata": {},
   "outputs": [
    {
     "ename": "AttributeError",
     "evalue": "'list' object has no attribute 'keys'",
     "output_type": "error",
     "traceback": [
      "\u001b[0;31m---------------------------------------------------------------------------\u001b[0m",
      "\u001b[0;31mAttributeError\u001b[0m                            Traceback (most recent call last)",
      "\u001b[0;32m/var/folders/kx/pltjhhp51mv3hjlcsp0dwlfw0000gn/T/ipykernel_59207/1297121401.py\u001b[0m in \u001b[0;36m<module>\u001b[0;34m\u001b[0m\n\u001b[0;32m----> 1\u001b[0;31m \u001b[0mrecords\u001b[0m\u001b[0;34m.\u001b[0m\u001b[0mkeys\u001b[0m\u001b[0;34m(\u001b[0m\u001b[0;34m)\u001b[0m\u001b[0;34m\u001b[0m\u001b[0;34m\u001b[0m\u001b[0m\n\u001b[0m",
      "\u001b[0;31mAttributeError\u001b[0m: 'list' object has no attribute 'keys'"
     ]
    }
   ],
   "source": [
    "records.keys()"
   ]
  },
  {
   "cell_type": "code",
   "execution_count": 23,
   "id": "9c2dff80-2696-49d0-a58c-f3441e4b8f29",
   "metadata": {},
   "outputs": [],
   "source": [
    "# Explain here"
   ]
  },
  {
   "cell_type": "code",
   "execution_count": 28,
   "id": "2899623d-27d0-456c-bdf8-dadfd11e3ac1",
   "metadata": {},
   "outputs": [
    {
     "ename": "IndexError",
     "evalue": "list index out of range",
     "output_type": "error",
     "traceback": [
      "\u001b[0;31m---------------------------------------------------------------------------\u001b[0m",
      "\u001b[0;31mIndexError\u001b[0m                                Traceback (most recent call last)",
      "\u001b[0;32m/var/folders/kx/pltjhhp51mv3hjlcsp0dwlfw0000gn/T/ipykernel_59207/535287285.py\u001b[0m in \u001b[0;36m<module>\u001b[0;34m\u001b[0m\n\u001b[0;32m----> 1\u001b[0;31m \u001b[0mrecords\u001b[0m\u001b[0;34m[\u001b[0m\u001b[0;36m1_000_000\u001b[0m\u001b[0;34m]\u001b[0m\u001b[0;34m\u001b[0m\u001b[0;34m\u001b[0m\u001b[0m\n\u001b[0m",
      "\u001b[0;31mIndexError\u001b[0m: list index out of range"
     ]
    }
   ],
   "source": [
    "records[1_000_000]"
   ]
  },
  {
   "cell_type": "code",
   "execution_count": 28,
   "id": "8085aab3-c912-4af7-a883-3638b0c1b3c4",
   "metadata": {},
   "outputs": [],
   "source": [
    "# What kind of error is this.  What do you think is occurring."
   ]
  },
  {
   "cell_type": "markdown",
   "id": "535eb76d-3491-46d9-86ee-dce9f00f9a51",
   "metadata": {},
   "source": [
    "### Discussion"
   ]
  },
  {
   "cell_type": "markdown",
   "id": "bc75725e-3b61-422a-b10f-30a3682c100d",
   "metadata": {},
   "source": [
    "Ok, so as we may have seen from the above, that our records are of type list.  The initial errors occurred because we were performing operations that are not available to a list.  And the last error occurred because we are selecting an element at index `1_000_000` where we do not have that many elements, thus getting the out of range error."
   ]
  },
  {
   "cell_type": "markdown",
   "id": "36441226-33bb-430d-be59-042c6c3ba64a",
   "metadata": {},
   "source": [
    "### Continuing with Error Messages"
   ]
  },
  {
   "cell_type": "markdown",
   "id": "c6a98f37-f888-48ef-b625-be74bd8e2133",
   "metadata": {},
   "source": [
    "Now without looking at the records, try to guess what is occurring with the error message below."
   ]
  },
  {
   "cell_type": "markdown",
   "id": "31f8450d-b1b2-49cd-a1fa-b8b6ad965b47",
   "metadata": {},
   "source": [
    "> Where specifically is the error occurring?"
   ]
  },
  {
   "cell_type": "code",
   "execution_count": 14,
   "id": "f52581cc-960a-4156-a653-56e08aa8771d",
   "metadata": {},
   "outputs": [
    {
     "ename": "AttributeError",
     "evalue": "'int' object has no attribute 'split'",
     "output_type": "error",
     "traceback": [
      "\u001b[0;31m---------------------------------------------------------------------------\u001b[0m",
      "\u001b[0;31mAttributeError\u001b[0m                            Traceback (most recent call last)",
      "\u001b[0;32m/var/folders/kx/pltjhhp51mv3hjlcsp0dwlfw0000gn/T/ipykernel_59207/2149569929.py\u001b[0m in \u001b[0;36m<module>\u001b[0;34m\u001b[0m\n\u001b[1;32m      1\u001b[0m \u001b[0myears\u001b[0m \u001b[0;34m=\u001b[0m \u001b[0;34m[\u001b[0m\u001b[0;34m]\u001b[0m\u001b[0;34m\u001b[0m\u001b[0;34m\u001b[0m\u001b[0m\n\u001b[1;32m      2\u001b[0m \u001b[0;32mfor\u001b[0m \u001b[0mrecord\u001b[0m \u001b[0;32min\u001b[0m \u001b[0mrecords\u001b[0m\u001b[0;34m:\u001b[0m\u001b[0;34m\u001b[0m\u001b[0;34m\u001b[0m\u001b[0m\n\u001b[0;32m----> 3\u001b[0;31m     \u001b[0myears\u001b[0m\u001b[0;34m.\u001b[0m\u001b[0mappend\u001b[0m\u001b[0;34m(\u001b[0m\u001b[0mint\u001b[0m\u001b[0;34m(\u001b[0m\u001b[0mrecord\u001b[0m\u001b[0;34m[\u001b[0m\u001b[0;34m'cycle'\u001b[0m\u001b[0;34m]\u001b[0m\u001b[0;34m.\u001b[0m\u001b[0msplit\u001b[0m\u001b[0;34m(\u001b[0m\u001b[0;34m)\u001b[0m\u001b[0;34m[\u001b[0m\u001b[0;34m-\u001b[0m\u001b[0;36m1\u001b[0m\u001b[0;34m]\u001b[0m\u001b[0;34m)\u001b[0m\u001b[0;34m)\u001b[0m\u001b[0;34m\u001b[0m\u001b[0;34m\u001b[0m\u001b[0m\n\u001b[0m",
      "\u001b[0;31mAttributeError\u001b[0m: 'int' object has no attribute 'split'"
     ]
    }
   ],
   "source": [
    "years = []\n",
    "for record in records:\n",
    "    years.append(int(record['cycle'].split()[-1]))"
   ]
  },
  {
   "cell_type": "markdown",
   "id": "79a0712c-ceaf-4c60-82a0-3c1ab3fdbc7b",
   "metadata": {},
   "source": [
    "Then look at the data to better understand the error.\n",
    "\n",
    "Ok, now let's keep going with this.  What do you think is occurring in the error below.  What method or function is causing the error.  \n",
    "\n",
    "> Use Google to search for this error message and understand when it typically occurs."
   ]
  },
  {
   "cell_type": "code",
   "execution_count": 16,
   "id": "e2899130-5782-4bcc-9161-18a2d1d53314",
   "metadata": {},
   "outputs": [
    {
     "ename": "ValueError",
     "evalue": "invalid literal for int() with base 10: '3/3'",
     "output_type": "error",
     "traceback": [
      "\u001b[0;31m---------------------------------------------------------------------------\u001b[0m",
      "\u001b[0;31mValueError\u001b[0m                                Traceback (most recent call last)",
      "\u001b[0;32m/var/folders/kx/pltjhhp51mv3hjlcsp0dwlfw0000gn/T/ipykernel_59207/1988330663.py\u001b[0m in \u001b[0;36m<module>\u001b[0;34m\u001b[0m\n\u001b[1;32m      1\u001b[0m \u001b[0;32mfor\u001b[0m \u001b[0mrecord\u001b[0m \u001b[0;32min\u001b[0m \u001b[0mrecords\u001b[0m\u001b[0;34m:\u001b[0m\u001b[0;34m\u001b[0m\u001b[0;34m\u001b[0m\u001b[0m\n\u001b[0;32m----> 2\u001b[0;31m     \u001b[0mint\u001b[0m\u001b[0;34m(\u001b[0m\u001b[0mrecord\u001b[0m\u001b[0;34m[\u001b[0m\u001b[0;34m'modeldate'\u001b[0m\u001b[0;34m]\u001b[0m\u001b[0;34m[\u001b[0m\u001b[0;34m:\u001b[0m\u001b[0;36m3\u001b[0m\u001b[0;34m]\u001b[0m\u001b[0;34m)\u001b[0m\u001b[0;34m\u001b[0m\u001b[0;34m\u001b[0m\u001b[0m\n\u001b[0m",
      "\u001b[0;31mValueError\u001b[0m: invalid literal for int() with base 10: '3/3'"
     ]
    }
   ],
   "source": [
    "for record in records:\n",
    "    int(record['modeldate'][:3])"
   ]
  },
  {
   "cell_type": "markdown",
   "id": "7ce143c5-7f42-4df0-a4c2-c09149566ddc",
   "metadata": {},
   "source": [
    "### Continued practice with debugging"
   ]
  },
  {
   "cell_type": "markdown",
   "id": "581b6251-fcac-4887-9364-11d27ae5fedb",
   "metadata": {},
   "source": [
    "Now this time, let's practice debugging trying to identify when our code is doing something different than we expected."
   ]
  },
  {
   "cell_type": "code",
   "execution_count": null,
   "id": "c6ee77ab-5777-45c3-9bcf-34dda65d401a",
   "metadata": {},
   "outputs": [],
   "source": [
    "\n",
    "model_dates = []\n",
    "for record in records:\n",
    "    model_date = record.get('modeldate')\n",
    "    candidate_name = record.get('candidatename')\n",
    "    candidate = {'model_date': model_date, 'candidate_name': candidate_name[:3]}"
   ]
  },
  {
   "cell_type": "markdown",
   "id": "c5f19ecf-5cd3-4688-b0a0-0cf4f561a09a",
   "metadata": {},
   "source": [
    "> Hint: Remember that when debugging, we can inspect what is occurring either by trying to perform the operations only on a single element.  Or we can also use the `print` function to view our data. "
   ]
  },
  {
   "cell_type": "markdown",
   "id": "e71b3b5c-dc6b-4a00-ac11-79040812010e",
   "metadata": {},
   "source": [
    "### Summary"
   ]
  },
  {
   "cell_type": "markdown",
   "id": "c8cfe1c3-7b78-42bf-905e-4245c5f67766",
   "metadata": {},
   "source": [
    "In this lesson, we spent some practice debugging.  The first step to debugging is to read and understand the error message.  If you do not understand the error message, it's a good idea to search Google to get a better understanding.\n",
    "\n",
    "Also take a look at each component of the error message, the carrot tells us where the error is occurring.  And the `type` of error tells us what kind of error we have.   \n",
    "\n",
    "Then we saw a problem where the error occurred because our data is different than what we expected.  For this, it is a good idea to identify where our code is operating as we expected, and then find the place where things started to change."
   ]
  }
 ],
 "metadata": {
  "kernelspec": {
   "display_name": "Python 3 (ipykernel)",
   "language": "python",
   "name": "python3"
  },
  "language_info": {
   "codemirror_mode": {
    "name": "ipython",
    "version": 3
   },
   "file_extension": ".py",
   "mimetype": "text/x-python",
   "name": "python",
   "nbconvert_exporter": "python",
   "pygments_lexer": "ipython3",
   "version": "3.9.10"
  }
 },
 "nbformat": 4,
 "nbformat_minor": 5
}
