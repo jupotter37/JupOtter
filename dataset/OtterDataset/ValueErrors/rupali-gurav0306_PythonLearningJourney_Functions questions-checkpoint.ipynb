{
 "cells": [
  {
   "cell_type": "code",
   "execution_count": 1,
   "id": "28ba4892-a0d2-479d-825f-a7431cb9a580",
   "metadata": {},
   "outputs": [
    {
     "name": "stdout",
     "output_type": "stream",
     "text": [
      "2\n",
      "4\n",
      "6\n",
      "8\n",
      "10\n",
      "12\n",
      "14\n",
      "16\n",
      "18\n",
      "20\n"
     ]
    }
   ],
   "source": [
    "#Write a program to print the following using a while loop. \n",
    "'''\n",
    "1. First 10 even numbers.\n",
    "2. First 10 odd numbers.\n",
    "3. First 10 natural numbers.\n",
    "4. First 10 whole numbers.'''\n",
    "\n",
    "#1. The first 10 even numbers.\n",
    "num = 2\n",
    "while (num<=20):\n",
    "    print(num)\n",
    "    num += 2"
   ]
  },
  {
   "cell_type": "code",
   "execution_count": 2,
   "id": "e3bc2dd4-666b-4f17-8fce-a4f7e8b4968b",
   "metadata": {},
   "outputs": [
    {
     "name": "stdout",
     "output_type": "stream",
     "text": [
      "name : Rupali\n",
      "age : 27\n",
      "phone : 278393\n",
      "city : pune\n"
     ]
    }
   ],
   "source": [
    "def function(**args):\n",
    "    for key in args:\n",
    "        print(key,':',args[key])\n",
    "function(name='Rupali',age='27',phone='278393',city='pune')\n",
    "    "
   ]
  },
  {
   "cell_type": "code",
   "execution_count": null,
   "id": "ce336b28-5776-4833-aef7-62830494aafd",
   "metadata": {},
   "outputs": [],
   "source": [
    "def function(*args)"
   ]
  },
  {
   "cell_type": "code",
   "execution_count": 5,
   "id": "7f6e799b-0543-41e9-a298-65c38860fadd",
   "metadata": {},
   "outputs": [
    {
     "name": "stdout",
     "output_type": "stream",
     "text": [
      "The youngest child is LinusTobiasEmil\n"
     ]
    }
   ],
   "source": [
    "def my_function(child3, child2, child1):\n",
    "  print(\"The youngest child is \" + child3 + child2  + child1)\n",
    "\n",
    "my_function(child1 = \"Emil\", child2 = \"Tobias\", child3 = \"Linus\")\n"
   ]
  },
  {
   "cell_type": "code",
   "execution_count": 6,
   "id": "8178aed1-e7d9-4e79-bbb6-ef363eb0cf3b",
   "metadata": {},
   "outputs": [],
   "source": [
    "def square(a):\n",
    "    '''Returned argument a is squared.'''\n",
    "    return a**a"
   ]
  },
  {
   "cell_type": "code",
   "execution_count": 7,
   "id": "a4c59881-2be7-4ef4-a46a-77fb3d28f152",
   "metadata": {},
   "outputs": [
    {
     "data": {
      "text/plain": [
       "'Returned argument a is squared.'"
      ]
     },
     "execution_count": 7,
     "metadata": {},
     "output_type": "execute_result"
    }
   ],
   "source": [
    "square.__doc__"
   ]
  },
  {
   "cell_type": "code",
   "execution_count": 17,
   "id": "dd915043-e511-4805-9b8b-0b0b25286306",
   "metadata": {},
   "outputs": [
    {
     "name": "stdin",
     "output_type": "stream",
     "text": [
      "enter 89\n"
     ]
    }
   ],
   "source": [
    "def add_num(n):\n",
    "    def incremented_func(n):\n",
    "        n+=1\n",
    "        return n\n",
    "        n2=incremented_func(n)\n",
    "        print(n,'-------------',n2)\n",
    "x=int(input(\"enter\"))\n",
    "add_num(x)\n",
    "    "
   ]
  },
  {
   "cell_type": "code",
   "execution_count": 25,
   "id": "07623364-2cba-4b99-b6aa-93718c6a2cfe",
   "metadata": {},
   "outputs": [
    {
     "name": "stdin",
     "output_type": "stream",
     "text": [
      "Enter name rup\n"
     ]
    },
    {
     "name": "stdout",
     "output_type": "stream",
     "text": [
      "Hello, rup \n",
      "how are you dear?\n"
     ]
    }
   ],
   "source": [
    "def name(x):\n",
    "    print(\"Hello,\",x,\"\\nhow are you dear?\")\n",
    "x=input(\"Enter name\")\n",
    "name(x)\n"
   ]
  },
  {
   "cell_type": "code",
   "execution_count": 27,
   "id": "8d32677b-6ce2-4ccc-8b4e-438733c73b56",
   "metadata": {},
   "outputs": [
    {
     "name": "stdin",
     "output_type": "stream",
     "text": [
      "Enter number: 78\n"
     ]
    },
    {
     "name": "stdout",
     "output_type": "stream",
     "text": [
      "78 ---------- 73\n"
     ]
    }
   ],
   "source": [
    "def add_num(num1):\n",
    "    def incre_num(num1):\n",
    "                  num1=num1-5\n",
    "                  return num1\n",
    "    num2=incre_num(num1)\n",
    "    print(num1,\"----------\",num2)\n",
    "x=int(input(\"Enter number:\"))\n",
    "add_num(x)"
   ]
  },
  {
   "cell_type": "code",
   "execution_count": 73,
   "id": "978f08e7-a3be-46bc-bb45-f1e429cc0046",
   "metadata": {},
   "outputs": [
    {
     "name": "stdin",
     "output_type": "stream",
     "text": [
      "Enter number: 2\n",
      "Enter number: 2\n"
     ]
    },
    {
     "name": "stdout",
     "output_type": "stream",
     "text": [
      "exponent is 2\n"
     ]
    }
   ],
   "source": [
    "def add_num(x,y):\n",
    "    def incre_num(x):\n",
    "        z=1\n",
    "        z=x**y\n",
    "        return z\n",
    "    print(\"exponent is\",x)\n",
    "x=int(input(\"Enter number:\"))\n",
    "y=int(input(\"Enter number:\"))\n",
    "\n",
    "add_num(x,y)"
   ]
  },
  {
   "cell_type": "code",
   "execution_count": 32,
   "id": "08509fc7-a4ed-4254-98c0-ecb3d3972bee",
   "metadata": {},
   "outputs": [
    {
     "name": "stdin",
     "output_type": "stream",
     "text": [
      "Enter any number 5\n"
     ]
    },
    {
     "name": "stdout",
     "output_type": "stream",
     "text": [
      "It is odd.\n"
     ]
    }
   ],
   "source": [
    "#even or odd number using function.\n",
    "\n",
    "def even(n):\n",
    "    if n % 2 ==0:\n",
    "        print(\"It is even.\")\n",
    "    else:\n",
    "        print(\"It is odd.\")\n",
    "n = int(input(\"Enter any number\"))\n",
    "even(n)"
   ]
  },
  {
   "cell_type": "code",
   "execution_count": 35,
   "id": "146d0954-ee8d-4506-93aa-210ec8a02c58",
   "metadata": {},
   "outputs": [
    {
     "name": "stdin",
     "output_type": "stream",
     "text": [
      "enter first number: 70\n",
      "enter second number: 70\n"
     ]
    },
    {
     "name": "stdout",
     "output_type": "stream",
     "text": [
      "Sum of two numbers is: 140 \n",
      "Product of two numbers is: 4900\n"
     ]
    }
   ],
   "source": [
    "#write to program display the sum and product of two numbers using function.abs\n",
    "\n",
    "def product(x,y):\n",
    "    sum_num = x+y\n",
    "    product_num = x*y\n",
    "    print(\"Sum of two numbers is:\",sum_num,\"\\nProduct of two numbers is:\",product_num)\n",
    "num1=int(input(\"enter first number:\"))\n",
    "num2=int(input(\"enter second number:\"))\n",
    "product(num1,num2)"
   ]
  },
  {
   "cell_type": "code",
   "execution_count": 53,
   "id": "bc4a81c6-7274-42b1-9b13-42ee40574eed",
   "metadata": {},
   "outputs": [
    {
     "name": "stdin",
     "output_type": "stream",
     "text": [
      "enter first number: 90\n",
      "enter second number: 9\n"
     ]
    },
    {
     "name": "stdout",
     "output_type": "stream",
     "text": [
      "The first number 90 is divisible by second number 9\n"
     ]
    }
   ],
   "source": [
    "\n",
    "def div_num(x,y):\n",
    "    if x > 0 and y > 0:\n",
    "        if x%y==0:\n",
    "            print(f\"The first number {x} is divisible by second number {y}\")\n",
    "        elif x % y !=0:\n",
    "             print(f\"The first number {x} is not divisible by second number {y}\")\n",
    "    else:\n",
    "        print(\"Only positive numbers allowed\")\n",
    "    \n",
    "num1=int(input(\"enter first number:\"))\n",
    "num2=int(input(\"enter second number:\"))\n",
    "div_num(num1,num2)    \n",
    "\n",
    "\n"
   ]
  },
  {
   "cell_type": "code",
   "execution_count": 63,
   "id": "6deb3b8a-fea8-426e-953a-5f87c180976c",
   "metadata": {},
   "outputs": [
    {
     "name": "stdout",
     "output_type": "stream",
     "text": [
      "4\n"
     ]
    }
   ],
   "source": [
    "# MAX OF THREE NUMBERS USING FUNCTION\n",
    "\n",
    "def max_find(x,y):\n",
    "    if x > y:\n",
    "        return x\n",
    "    return y\n",
    "def max_three(x,y,z):\n",
    "    return max_find(x,max_find(y,z))\n",
    "print(max_three(2,3,4))\n",
    "    "
   ]
  },
  {
   "cell_type": "code",
   "execution_count": 62,
   "id": "e957a4ce-1be2-495c-9a67-96c91316f311",
   "metadata": {},
   "outputs": [
    {
     "name": "stdout",
     "output_type": "stream",
     "text": [
      "Largest is  -1\n"
     ]
    }
   ],
   "source": [
    "# MAX OF THREE NUMBERS USING FUNCTION\n",
    "\n",
    "def max_find(x,y,z):\n",
    "    if (x >= y) and (x>=z):\n",
    "        print(\"Largest is\",x)\n",
    "    elif y>=x and y>=z:\n",
    "        print(\"Largest is \",y)\n",
    "    else:\n",
    "        print(\"Largest is\",z)\n",
    "max_find(-2,-1,-7)"
   ]
  },
  {
   "cell_type": "code",
   "execution_count": 70,
   "id": "f03e17bc-7aa6-408a-af84-57f5b8daff15",
   "metadata": {},
   "outputs": [
    {
     "name": "stdout",
     "output_type": "stream",
     "text": [
      "sum of list is 200\n"
     ]
    }
   ],
   "source": [
    "#SUM OF GIVEN LIST USING FUNCTION AND FOR LOOP IN IT\n",
    "\n",
    "my_list = [8,2,3,0,7,100,20,15,20,25]\n",
    "\n",
    "def sum_function(l):\n",
    "    total = 0\n",
    "    for i in l:\n",
    "        total+=i\n",
    "    return total\n",
    "d = sum_function(my_list)\n",
    "print(\"sum of list is\",d)"
   ]
  },
  {
   "cell_type": "code",
   "execution_count": 83,
   "id": "b56c3076-6a9f-44b4-b46e-1bac9098398d",
   "metadata": {},
   "outputs": [
    {
     "name": "stdin",
     "output_type": "stream",
     "text": [
      "Enter base 5\n",
      "Enter exponent 0\n"
     ]
    },
    {
     "name": "stdout",
     "output_type": "stream",
     "text": [
      "Output is 1\n"
     ]
    }
   ],
   "source": [
    "#CALCULATE EXPONENT OF X AS BASE AND Y AS EXPONENT, Y SHOULD BE POSITIVE ONLY\n",
    "\n",
    "def cal_power(x,y):\n",
    "    if y==0:\n",
    "        return 1\n",
    "    if x>0 and y>0:\n",
    "        return x ** y\n",
    "a=int(input(\"Enter base\"))\n",
    "b=int(input(\"Enter exponent\"))\n",
    "z=cal_power(a,b)\n",
    "print(\"Output is\",z)"
   ]
  },
  {
   "cell_type": "code",
   "execution_count": 88,
   "id": "2c8631f9-cf15-41e7-8786-98a5f3da9b44",
   "metadata": {},
   "outputs": [
    {
     "name": "stdin",
     "output_type": "stream",
     "text": [
      "enter any list 7,8,9\n"
     ]
    },
    {
     "ename": "ValueError",
     "evalue": "invalid literal for int() with base 10: '7,8,9'",
     "output_type": "error",
     "traceback": [
      "\u001b[1;31m---------------------------------------------------------------------------\u001b[0m",
      "\u001b[1;31mValueError\u001b[0m                                Traceback (most recent call last)",
      "Cell \u001b[1;32mIn[88], line 3\u001b[0m\n\u001b[0;32m      1\u001b[0m \u001b[38;5;66;03m# RETURN TRUE IF FIRST AND LAST NUMBER OF GIVEN LIST IS SAMEa\u001b[39;00m\n\u001b[0;32m      2\u001b[0m \u001b[38;5;66;03m# IF THE NUMBER ARE DIFFERENT THEN RETURN FALSE\u001b[39;00m\n\u001b[1;32m----> 3\u001b[0m a\u001b[38;5;241m=\u001b[39m\u001b[38;5;28;43mint\u001b[39;49m\u001b[43m(\u001b[49m\u001b[38;5;28;43minput\u001b[39;49m\u001b[43m(\u001b[49m\u001b[38;5;124;43m\"\u001b[39;49m\u001b[38;5;124;43menter any list\u001b[39;49m\u001b[38;5;124;43m\"\u001b[39;49m\u001b[43m)\u001b[49m\u001b[43m)\u001b[49m\n\u001b[0;32m      4\u001b[0m \u001b[38;5;28;01mdef\u001b[39;00m \u001b[38;5;21mlist_check\u001b[39m(l):\n\u001b[0;32m      5\u001b[0m     lst \u001b[38;5;241m=\u001b[39m []\n",
      "\u001b[1;31mValueError\u001b[0m: invalid literal for int() with base 10: '7,8,9'"
     ]
    }
   ],
   "source": [
    "# RETURN TRUE IF FIRST AND LAST NUMBER OF GIVEN LIST IS SAMEa\n",
    "# IF THE NUMBER ARE DIFFERENT THEN RETURN FALSE\n",
    "a=int(input(\"enter any list\"))\n",
    "def list_check(l):\n",
    "    lst = []\n",
    "    for i in r ange(0,a):\n",
    "        ele\n",
    "    ment = int(input())\n",
    "        lst.append(element)\n",
    "        if lst(0)==lst(-1):\n",
    "            return True\n",
    "        else:\n",
    "            return False\n",
    "z = list_check(a)\n",
    "print(\"output is\",z)\n",
    "        \n",
    "    \n"
   ]
  },
  {
   "cell_type": "code",
   "execution_count": 14,
   "id": "1dd0082f-4222-41d3-9db9-82a5084c0967",
   "metadata": {},
   "outputs": [
    {
     "name": "stdin",
     "output_type": "stream",
     "text": [
      "Enter number of elements : 9\n",
      " 8\n",
      " 8\n",
      " 8\n",
      " 8\n",
      " 9\n",
      " 9\n",
      " 9\n",
      " 9\n",
      " 0\n"
     ]
    },
    {
     "name": "stdout",
     "output_type": "stream",
     "text": [
      "[8, 8, 8, 8, 9, 9, 9, 9, 0]\n",
      "First and last element of list are not same\n",
      "result is False\n"
     ]
    }
   ],
   "source": [
    "# Take a list as input from the user.\n",
    "# If the first and last element of the list is the same return as True\n",
    "#If the first and last element of the list is not true return it as False. \n",
    "\n",
    "\n",
    "list = []\n",
    "n = int(input(\"Enter number of elements :\"))\n",
    "for i in range (0,n):\n",
    "    element = int(input())\n",
    "    list.append(element)\n",
    "print(list)\n",
    "\n",
    "def list_check(list):\n",
    "    if list[0]==list[-1]:\n",
    "        print(\"First and last element of list are same\")\n",
    "        return True\n",
    "    else:\n",
    "        print(\"First and last element of list are not same\")\n",
    "        return False\n",
    "z = list_check(list)\n",
    "print(\"result is\",z)"
   ]
  },
  {
   "cell_type": "code",
   "execution_count": 118,
   "id": "d7a82e46-cc32-4d9b-88ae-38d8875e2a8f",
   "metadata": {},
   "outputs": [
    {
     "name": "stdin",
     "output_type": "stream",
     "text": [
      "Enter range 10\n"
     ]
    },
    {
     "name": "stdout",
     "output_type": "stream",
     "text": [
      "0,2,4,6,8,10,None\n"
     ]
    }
   ],
   "source": [
    "#Write a function to find a even number from user input \n",
    "\n",
    "n = int(input(\"Enter range\"))\n",
    "\n",
    "def even(n):\n",
    "    for i in range(0,n+1):\n",
    "        if i % 2 == 0:\n",
    "            print(i,end=',')\n",
    "print(even(n))  \n"
   ]
  },
  {
   "cell_type": "code",
   "execution_count": 116,
   "id": "a6de8d27-cfe7-4699-a86d-1c519a08b5c7",
   "metadata": {},
   "outputs": [
    {
     "name": "stdin",
     "output_type": "stream",
     "text": [
      "enter start of range 2\n",
      "enter end of range 10\n"
     ]
    },
    {
     "ename": "TypeError",
     "evalue": "even() missing 2 required positional arguments: 'start' and 'end'",
     "output_type": "error",
     "traceback": [
      "\u001b[1;31m----------------------------------------------------------------\u001b[0m",
      "\u001b[1;31mTypeError\u001b[0m                      Traceback (most recent call last)",
      "Cell \u001b[1;32mIn[116], line 8\u001b[0m\n\u001b[0;32m      5\u001b[0m     \u001b[38;5;28;01mfor\u001b[39;00m x \u001b[38;5;129;01min\u001b[39;00m (start,end\u001b[38;5;241m+\u001b[39m\u001b[38;5;241m1\u001b[39m,\u001b[38;5;241m2\u001b[39m):\n\u001b[0;32m      6\u001b[0m         \u001b[38;5;28mprint\u001b[39m(x)\n\u001b[1;32m----> 8\u001b[0m \u001b[38;5;28mprint\u001b[39m(\u001b[43meven\u001b[49m\u001b[43m(\u001b[49m\u001b[43m)\u001b[49m)\n",
      "\u001b[1;31mTypeError\u001b[0m: even() missing 2 required positional arguments: 'start' and 'end'"
     ]
    }
   ],
   "source": [
    "start = int(input(\"enter start of range\"))\n",
    "end = int(input(\"enter end of range\"))\n",
    "\n",
    "def even (start,end):\n",
    "    for x in (start,end+1,2):\n",
    "        print(x)\n",
    "\n",
    "print(even())"
   ]
  },
  {
   "cell_type": "code",
   "execution_count": 148,
   "id": "8d10680e-dc37-4811-8a0d-62057ba9a874",
   "metadata": {},
   "outputs": [
    {
     "name": "stdin",
     "output_type": "stream",
     "text": [
      "Enter first number 10\n",
      "Enter last number 20\n"
     ]
    },
    {
     "name": "stdout",
     "output_type": "stream",
     "text": [
      "10,12,14,16,18,20,"
     ]
    }
   ],
   "source": [
    "\n",
    "def even(x,y):\n",
    "    if x > 0 and y>0:\n",
    "        for i in range(x,y+1):\n",
    "            if i % 2 ==0:\n",
    "                print(i,end=',')\n",
    "        else:\n",
    "            (\"These are even numbers\")\n",
    "    else:\n",
    "        print(\"Only positives\")\n",
    "s1 = int(input(\"Enter first number\"))\n",
    "s2 = int(input(\"Enter last number\"))\n",
    "\n",
    "even(s1,s2)"
   ]
  },
  {
   "cell_type": "code",
   "execution_count": null,
   "id": "0942bb86-8a6e-4d48-860f-29ee29e4ddb4",
   "metadata": {},
   "outputs": [],
   "source": [
    "i = 0\n",
    "    while i <= x:\n",
    "        if i % 2 == 0:\n",
    "            print(i,end=',')\n",
    "            i+=1\n",
    "s = int(input(\"Enter a number\"))\n",
    "even(s)"
   ]
  },
  {
   "cell_type": "code",
   "execution_count": null,
   "id": "c30626b4-ee3e-402d-abf4-d2e5bf577f34",
   "metadata": {},
   "outputs": [],
   "source": [
    "\n",
    "def odd(x,y):\n",
    "     total = 0\n",
    "     i = 0\n",
    "    if x > 0 and y>0:\n",
    "        for i in range(x,y+1):\n",
    "            if i % 2 !=0:\n",
    "                print(i,end=',')\n",
    "                total = total+i\n",
    "            i = i+1\n",
    "            else:\n",
    "            (\"These are even numbers\")\n",
    "    else:\n",
    "        print(\"Only positives\")\n",
    "s1 = int(input(\"Enter first number\"))\n",
    "s2 = int(input(\"Enter last number\"))\n",
    "\n",
    "odd(s1,s2)"
   ]
  },
  {
   "cell_type": "code",
   "execution_count": null,
   "id": "7ebd5e20-1896-4dcb-b5fe-403222098594",
   "metadata": {},
   "outputs": [],
   "source": [
    "\n",
    "def even(x,y):\n",
    "    if x > 0 and y>0:\n",
    "        for i in range(x,y+1):\n",
    "            if i % 2 ==0:\n",
    "                print(i,end=',')\n",
    "        else:\n",
    "            (\"These are even numbers\")\n",
    "    else:\n",
    "        print(\"Only positives\")\n",
    "s1 = int(input(\"Enter first number\"))\n",
    "s2 = int(input(\"Enter last number\"))\n",
    "\n",
    "even(s1,s2)"
   ]
  },
  {
   "cell_type": "code",
   "execution_count": 2,
   "id": "f8ea7b74-dc11-4023-8401-a5e32df2315e",
   "metadata": {},
   "outputs": [
    {
     "name": "stdin",
     "output_type": "stream",
     "text": [
      "Enter first number 10\n",
      "Enter last number 20\n"
     ]
    },
    {
     "name": "stdout",
     "output_type": "stream",
     "text": [
      "11,13,15,17,19,"
     ]
    }
   ],
   "source": [
    "\n",
    "def odd(x,y):\n",
    "    if x > 0 and y>0:\n",
    "        sum = 0\n",
    "        for i in range(x,y+1):\n",
    "            if i % 2 !=0:\n",
    "                print(i,end=',')\n",
    "        else:\n",
    "            (\"These are even numbers\")\n",
    "    else:\n",
    "        print(\"Only positives\")\n",
    "s1 = int(input(\"Enter first number\"))\n",
    "s2 = int(input(\"Enter last number\"))\n",
    "\n",
    "odd(s1,s2)"
   ]
  },
  {
   "cell_type": "code",
   "execution_count": 34,
   "id": "40f5622b-2785-4af4-87c0-1b488bc89f0d",
   "metadata": {},
   "outputs": [
    {
     "name": "stdin",
     "output_type": "stream",
     "text": [
      "Enter no of elements to be inserted in list:\n",
      " 9\n",
      " 8\n",
      " 8\n",
      " 8\n"
     ]
    },
    {
     "name": "stdout",
     "output_type": "stream",
     "text": [
      "[8, 8, 8]\n",
      "24\n"
     ]
    }
   ],
   "source": [
    "#Write a Python function to sum all the numbers in a list.\n",
    "\n",
    "n4 = int(input(\"Enter no of elements to be inserted in list:\\n\"))\n",
    "list = []\n",
    "for i in range(1,n):\n",
    "    ele = int(input())\n",
    "    list.append(ele)\n",
    "print(list)\n",
    "    \n",
    "def sum_list(x):\n",
    "    total=0\n",
    "    for i in list:\n",
    "        total l+=i\n",
    "    return total\n",
    "    print(\"Sum of given list is:\",total)\n",
    "    \n",
    "print(sum_list(list))"
   ]
  },
  {
   "cell_type": "code",
   "execution_count": 60,
   "id": "89d4294a-1981-4418-9c2a-7433e9bf19c3",
   "metadata": {},
   "outputs": [
    {
     "name": "stdin",
     "output_type": "stream",
     "text": [
      "Enter first age: 22\n",
      "Enter second age: 11\n",
      "Enter third age: 22\n"
     ]
    },
    {
     "name": "stdout",
     "output_type": "stream",
     "text": [
      "Eldest is 22\n"
     ]
    }
   ],
   "source": [
    "#Find greatest age of three people\n",
    "#person age 100 not accepted(Age should be below 100)\n",
    "#Negateive age not allowed (Age must be in positive )\n",
    "\n",
    "def age_check(x,y,z):\n",
    "    if x<0 and y<0 and z<0:\n",
    "    if x>y and x>z:\n",
    "        print(\"Eldest is\",x)\n",
    "    elif y>x and y>z:\n",
    "        print(\"Eldest is\",y)\n",
    "    else:\n",
    "        print(\"Eldest is\",z)\n",
    "    \n",
    "\n",
    "a = int(input(\"Enter first age:\"))\n",
    "b = int(input(\"Enter second age:\"))\n",
    "c = int(input(\"Enter third age:\"))\n",
    "\n",
    "age_check(a,b,c)"
   ]
  },
  {
   "cell_type": "code",
   "execution_count": null,
   "id": "a3a8692d-29d1-47db-a3d8-ce3bdb59d577",
   "metadata": {},
   "outputs": [],
   "source": [
    " if x>100 and y>100 and z>100:\n",
    "      print(\"Age not more than 100\")\n",
    "     print(\"Only positives\")\n",
    "\n",
    " if x<0 and y<0 and z<0:"
   ]
  },
  {
   "cell_type": "code",
   "execution_count": 72,
   "id": "5272aa2b-3c8e-4b4a-be2b-d1598c2c50ff",
   "metadata": {},
   "outputs": [
    {
     "ename": "SyntaxError",
     "evalue": "invalid syntax (2685708148.py, line 12)",
     "output_type": "error",
     "traceback": [
      "\u001b[1;36m  Cell \u001b[1;32mIn[72], line 12\u001b[1;36m\u001b[0m\n\u001b[1;33m    else:\u001b[0m\n\u001b[1;37m    ^\u001b[0m\n\u001b[1;31mSyntaxError\u001b[0m\u001b[1;31m:\u001b[0m invalid syntax\n"
     ]
    }
   ],
   "source": [
    "def greatest_three(a,b,c):\n",
    "     if a>0 and b>0 and c>0:\n",
    "          if a>100 and b>100 and c>100:\n",
    "              if a >b and a>c:\n",
    "                  print(a)\n",
    "              elif b>a and b>c:\n",
    "                  print(b)\n",
    "              else:\n",
    "                  print(c)\n",
    "         else:\n",
    "            print(\"Only positives\")\n",
    "     else:\n",
    "         print(\"Not more than 100\")\n",
    "x = int(input(\"Enter first age:\"))\n",
    "y = int(input(\"Enter second age:\"))\n",
    "z = int(input(\"Enter third age:\"))\n",
    "\n",
    "greatest_three(x,y,z)"
   ]
  },
  {
   "cell_type": "code",
   "execution_count": 83,
   "id": "2166e31a-6fbe-4693-8a99-d47e4b280d02",
   "metadata": {},
   "outputs": [
    {
     "name": "stdin",
     "output_type": "stream",
     "text": [
      "Enter your age: 22\n",
      "Enter your gendes as:M/F t\n",
      "Enter your marriatl status as:Y/N y\n"
     ]
    },
    {
     "name": "stdout",
     "output_type": "stream",
     "text": [
      "Gender in M or F only\n"
     ]
    }
   ],
   "source": [
    "# Ask user to enter age,sex(M or F), Martial status(Y or N) then using following rules print their places  of service.\n",
    "# if employee is female, then she will be work only in urban ares.\n",
    "# if employee is a male and age is in between 20 to 40 then he will in anywhere.\n",
    "# if employee is male and age is in between 40 to 60 then he will work in urban areas only.\n",
    "# employee age must be in between 20 to 60 if age is above 60 it raise (Please, enter Employee age between 20 to 60)\n",
    "# if employee age is in negative print(\"Enter a valid age:Age must be in positive.\")\n",
    "# Employee gender must be in (M or F) only.\n",
    "\n",
    "\n",
    "def check_status(age,gender,marr):\n",
    "    if age>0:\n",
    "        if age >=20 and age<=60:\n",
    "            if gender.upper()==\"F\" or gender.upper()==\"M\":\n",
    "            \n",
    "                if gender.upper()==\"F\":\n",
    "                    print('The employee will work in urban ara only:\\n')\n",
    "                elif gender.upper()==\"M\" and age<=40 and age>=20:\n",
    "                    print('The employee can work anywhere:\\n')\n",
    "                elif gender.upper()==\"M\" and age<=60 and age>=40:\n",
    "                    print('The employee will work in urban ara only:\\n')\n",
    "                else:\n",
    "                    print('error ')\n",
    "            else:\n",
    "                print(\"Gender in M or F only\")\n",
    "            \n",
    "            \n",
    "                \n",
    "\n",
    "        else:\n",
    "            print(\"Age must be in 20 to 60 years\")\n",
    "        \n",
    "        \n",
    "    else:\n",
    "        print(\"Age in positive only\")\n",
    "\n",
    "x=int(input('Enter your age:'))\n",
    "y=str(input('Enter your gendes as:M/F'))\n",
    "z=str(input('Enter your marriatl status as:Y/N'))\n",
    "\n",
    "check_status(x,y,z)\n",
    "\n",
    "\n",
    "        "
   ]
  },
  {
   "cell_type": "code",
   "execution_count": 92,
   "id": "a0c92b7f-65cc-4dac-8477-615f236b9ea9",
   "metadata": {},
   "outputs": [
    {
     "name": "stdin",
     "output_type": "stream",
     "text": [
      "enter the number of classses held:\n",
      " 100\n",
      "enter the number of classes attended :\n",
      " 35\n"
     ]
    },
    {
     "name": "stdout",
     "output_type": "stream",
     "text": [
      "You can sit in exam next year after attending 75% classes.\n"
     ]
    }
   ],
   "source": [
    "# A student will not be allowed to sit in the exam if his/her attendence is less than 75%. \n",
    "# Take following input from user as:\n",
    "# Number of classes held\n",
    "# Number of classes attended and print percentage of class attended.\n",
    "# is student allowed to sit in the exam or not.\n",
    "#Number of classes held not more than 365 and not negative\n",
    "#Number of classes attended not more than 365 and not in negative\n",
    "#If student passed criteria display (\"Congratualtions all the best\")\n",
    "#If student not valid then print(\"You can sit in exam next year after attending 75% classes.\")\n",
    "\n",
    "\n",
    "\n",
    "\n",
    "def class_check(held,attend):\n",
    "    if held < 365 and held > 0:\n",
    "        if attend < 365 and attend >0:\n",
    "            total = attend/ held *100\n",
    "            if total >= 75:\n",
    "                print(\"Congratulations all the best,your attendance is:\",total)\n",
    "            else: \n",
    "                print(\"You can sit in exam next year after attending 75% classes.\")\n",
    "        else:\n",
    "            print(\"Classes attended must not be more than 365 and negative\")\n",
    "            \n",
    "    else:\n",
    "        print(\"Classes held must not be more than 365 and negative\")\n",
    "\n",
    "x=int(input('enter the number of classses held:\\n'))\n",
    "y=int(input('enter the number of classes attended :\\n'))\n",
    "\n",
    "class_check(x,y)"
   ]
  },
  {
   "cell_type": "code",
   "execution_count": 22,
   "id": "4745da28-00a2-41b9-ac88-f9611a762bd7",
   "metadata": {},
   "outputs": [
    {
     "name": "stdin",
     "output_type": "stream",
     "text": [
      "Enter number of elements : 3\n",
      " 1\n",
      " 2\n",
      " 3\n"
     ]
    },
    {
     "name": "stdout",
     "output_type": "stream",
     "text": [
      "[1, 2, 3]\n"
     ]
    },
    {
     "data": {
      "text/plain": [
       "6"
      ]
     },
     "execution_count": 22,
     "metadata": {},
     "output_type": "execute_result"
    }
   ],
   "source": [
    "list = []\n",
    "n = int(input(\"Enter number of elements :\"))\n",
    "for i in range (0,n):\n",
    "    element = int(input())\n",
    "    list.append(element)\n",
    "print(list)\n",
    "\n",
    "def check(list):\n",
    "    sum1 = 0 \n",
    "    for i in list:\n",
    "        sum1 = sum1 + i \n",
    "    return sum1\n",
    "    avg = sum1 / len(list)\n",
    "    return avg\n",
    "        \n",
    "check(list)\n",
    "\n",
    "    "
   ]
  },
  {
   "cell_type": "code",
   "execution_count": 20,
   "id": "cc7b9aea-dd3e-48aa-b758-50b368ac0de1",
   "metadata": {},
   "outputs": [
    {
     "name": "stdin",
     "output_type": "stream",
     "text": [
      "Enter number of elements : 3\n",
      " 1\n",
      " 2\n",
      " 3\n"
     ]
    },
    {
     "name": "stdout",
     "output_type": "stream",
     "text": [
      "[1, 2, 3]\n"
     ]
    }
   ],
   "source": [
    "list = []\n",
    "n = int(input(\"Enter number of elements :\"))\n",
    "for i in range (0,n):\n",
    "    element = int(input())\n",
    "    list.append(element)\n",
    "print(list)\n",
    "\n",
    "def average(list):\n",
    "        return sum(list) / len(list)"
   ]
  },
  {
   "cell_type": "code",
   "execution_count": 5,
   "id": "7657f965-46d6-46f5-83dd-faac889c25f1",
   "metadata": {},
   "outputs": [
    {
     "name": "stdin",
     "output_type": "stream",
     "text": [
      "Enter the elements you want :  3\n",
      "Enter your 1 number :  2\n",
      "Enter your 2 number :  1\n",
      "Enter your 3 number :  2\n"
     ]
    },
    {
     "name": "stdout",
     "output_type": "stream",
     "text": [
      "Sum of list is 5 Average is 1\n"
     ]
    }
   ],
   "source": [
    "#Take no of elements from user and do the sum\n",
    "\n",
    "\n",
    "\n",
    "list = []\n",
    "def add_avg(x):\n",
    "    n = int(input(\"Enter the elements you want : \"))\n",
    "    for i in range(1,n+1):\n",
    "        x = int(input(f'Enter your {i} number : '))\n",
    "        list.append(x)\n",
    "    sum1 = sum(list)\n",
    "    print(\"Sum of list is\",sum1,\"Average is\",sum1//len(list))\n",
    "add_avg(\"rupali\")\n",
    "    \n",
    "    \n",
    "    "
   ]
  },
  {
   "cell_type": "code",
   "execution_count": 31,
   "id": "cc2025e3-9136-4a81-8458-a871cedce023",
   "metadata": {},
   "outputs": [
    {
     "ename": "KeyboardInterrupt",
     "evalue": "Interrupted by user",
     "output_type": "error",
     "traceback": [
      "\u001b[1;31m---------------------------------------------------------------------------\u001b[0m",
      "\u001b[1;31mKeyboardInterrupt\u001b[0m                         Traceback (most recent call last)",
      "Cell \u001b[1;32mIn[31], line 26\u001b[0m\n\u001b[0;32m     23\u001b[0m     \u001b[38;5;28;01melse\u001b[39;00m:\n\u001b[0;32m     24\u001b[0m         \u001b[38;5;28mprint\u001b[39m(\u001b[38;5;124m\"\u001b[39m\u001b[38;5;124mPrice not more than 3000\u001b[39m\u001b[38;5;124m\"\u001b[39m)\n\u001b[1;32m---> 26\u001b[0m price \u001b[38;5;241m=\u001b[39m \u001b[38;5;28mint\u001b[39m(\u001b[38;5;28;43minput\u001b[39;49m\u001b[43m(\u001b[49m\u001b[38;5;124;43m\"\u001b[39;49m\u001b[38;5;124;43mEnter your price\u001b[39;49m\u001b[38;5;124;43m\"\u001b[39;49m\u001b[43m)\u001b[49m)\n\u001b[0;32m     28\u001b[0m dis_price(\u001b[38;5;124m\"\u001b[39m\u001b[38;5;124mrupali\u001b[39m\u001b[38;5;124m\"\u001b[39m)\n",
      "File \u001b[1;32m~\\AppData\\Local\\Packages\\PythonSoftwareFoundation.Python.3.12_qbz5n2kfra8p0\\LocalCache\\local-packages\\Python312\\site-packages\\ipykernel\\kernelbase.py:1270\u001b[0m, in \u001b[0;36mKernel.raw_input\u001b[1;34m(self, prompt)\u001b[0m\n\u001b[0;32m   1268\u001b[0m     msg \u001b[38;5;241m=\u001b[39m \u001b[38;5;124m\"\u001b[39m\u001b[38;5;124mraw_input was called, but this frontend does not support input requests.\u001b[39m\u001b[38;5;124m\"\u001b[39m\n\u001b[0;32m   1269\u001b[0m     \u001b[38;5;28;01mraise\u001b[39;00m StdinNotImplementedError(msg)\n\u001b[1;32m-> 1270\u001b[0m \u001b[38;5;28;01mreturn\u001b[39;00m \u001b[38;5;28;43mself\u001b[39;49m\u001b[38;5;241;43m.\u001b[39;49m\u001b[43m_input_request\u001b[49m\u001b[43m(\u001b[49m\n\u001b[0;32m   1271\u001b[0m \u001b[43m    \u001b[49m\u001b[38;5;28;43mstr\u001b[39;49m\u001b[43m(\u001b[49m\u001b[43mprompt\u001b[49m\u001b[43m)\u001b[49m\u001b[43m,\u001b[49m\n\u001b[0;32m   1272\u001b[0m \u001b[43m    \u001b[49m\u001b[38;5;28;43mself\u001b[39;49m\u001b[38;5;241;43m.\u001b[39;49m\u001b[43m_parent_ident\u001b[49m\u001b[43m[\u001b[49m\u001b[38;5;124;43m\"\u001b[39;49m\u001b[38;5;124;43mshell\u001b[39;49m\u001b[38;5;124;43m\"\u001b[39;49m\u001b[43m]\u001b[49m\u001b[43m,\u001b[49m\n\u001b[0;32m   1273\u001b[0m \u001b[43m    \u001b[49m\u001b[38;5;28;43mself\u001b[39;49m\u001b[38;5;241;43m.\u001b[39;49m\u001b[43mget_parent\u001b[49m\u001b[43m(\u001b[49m\u001b[38;5;124;43m\"\u001b[39;49m\u001b[38;5;124;43mshell\u001b[39;49m\u001b[38;5;124;43m\"\u001b[39;49m\u001b[43m)\u001b[49m\u001b[43m,\u001b[49m\n\u001b[0;32m   1274\u001b[0m \u001b[43m    \u001b[49m\u001b[43mpassword\u001b[49m\u001b[38;5;241;43m=\u001b[39;49m\u001b[38;5;28;43;01mFalse\u001b[39;49;00m\u001b[43m,\u001b[49m\n\u001b[0;32m   1275\u001b[0m \u001b[43m\u001b[49m\u001b[43m)\u001b[49m\n",
      "File \u001b[1;32m~\\AppData\\Local\\Packages\\PythonSoftwareFoundation.Python.3.12_qbz5n2kfra8p0\\LocalCache\\local-packages\\Python312\\site-packages\\ipykernel\\kernelbase.py:1313\u001b[0m, in \u001b[0;36mKernel._input_request\u001b[1;34m(self, prompt, ident, parent, password)\u001b[0m\n\u001b[0;32m   1310\u001b[0m \u001b[38;5;28;01mexcept\u001b[39;00m \u001b[38;5;167;01mKeyboardInterrupt\u001b[39;00m:\n\u001b[0;32m   1311\u001b[0m     \u001b[38;5;66;03m# re-raise KeyboardInterrupt, to truncate traceback\u001b[39;00m\n\u001b[0;32m   1312\u001b[0m     msg \u001b[38;5;241m=\u001b[39m \u001b[38;5;124m\"\u001b[39m\u001b[38;5;124mInterrupted by user\u001b[39m\u001b[38;5;124m\"\u001b[39m\n\u001b[1;32m-> 1313\u001b[0m     \u001b[38;5;28;01mraise\u001b[39;00m \u001b[38;5;167;01mKeyboardInterrupt\u001b[39;00m(msg) \u001b[38;5;28;01mfrom\u001b[39;00m \u001b[38;5;28;01mNone\u001b[39;00m\n\u001b[0;32m   1314\u001b[0m \u001b[38;5;28;01mexcept\u001b[39;00m \u001b[38;5;167;01mException\u001b[39;00m:\n\u001b[0;32m   1315\u001b[0m     \u001b[38;5;28mself\u001b[39m\u001b[38;5;241m.\u001b[39mlog\u001b[38;5;241m.\u001b[39mwarning(\u001b[38;5;124m\"\u001b[39m\u001b[38;5;124mInvalid Message:\u001b[39m\u001b[38;5;124m\"\u001b[39m, exc_info\u001b[38;5;241m=\u001b[39m\u001b[38;5;28;01mTrue\u001b[39;00m)\n",
      "\u001b[1;31mKeyboardInterrupt\u001b[0m: Interrupted by user"
     ]
    }
   ],
   "source": [
    "# A shop will give \n",
    "#discount-------------price purchase\n",
    "#20%------------------more than 2000\n",
    "#10%------------------more than 1000\n",
    "#NO discount-----------below 1000\n",
    "#(Cost mot more than 3000)\n",
    "\n",
    "def dis_price(x):\n",
    "    if price > 0 andprice < 3000:\n",
    "        if price > 2000:\n",
    "            dis = price * 20 / 100\n",
    "            print(\"You will get discount 20%\")\n",
    "            print(\"Discount on your price is : \",dis )\n",
    "            print(\"Final price is : \",price - dis)\n",
    "        elif 1000 <= price <= 2000:\n",
    "            dis = price * 10 / 100\n",
    "            print(\"You will get discount 10%\")\n",
    "            print(\"Discount on your price is : \",dis )\n",
    "            print(\"Final price is : \",price - dis)\n",
    "        elif price < 1000:\n",
    "            print(\"No discount below 1000\")\n",
    "            \n",
    "    else:\n",
    "        print(\"Price not more than 3000\")\n",
    "\n",
    "price = int(input(\"Enter your price\"))\n",
    "\n",
    "dis_price(\"rupali\")"
   ]
  },
  {
   "cell_type": "code",
   "execution_count": 20,
   "id": "8c45b464-3c39-4be7-ac4c-4f4ed04d644c",
   "metadata": {},
   "outputs": [
    {
     "name": "stdin",
     "output_type": "stream",
     "text": [
      "Enter the starting range :  60\n",
      "enter ending range :  100\n"
     ]
    },
    {
     "name": "stdout",
     "output_type": "stream",
     "text": [
      "\n",
      "Even list is :  [60, 62, 64, 66, 68, 70, 72, 74, 76, 78, 80, 82, 84, 86, 88, 90, 92, 94, 96, 98, 100] \n",
      "\n",
      "Sum of the list is :  1680 \n",
      "\n",
      "Average of even list is :  80.0\n"
     ]
    }
   ],
   "source": [
    "# Write a program\n",
    "#Take input of range from user\n",
    "#Find even numbers and its sum\n",
    "#Find average of even numbers\n",
    "\n",
    "\n",
    "even_list = []\n",
    "def check_num(x):\n",
    "    try:\n",
    "        a = int(input(\"Enter the starting range : \"))\n",
    "        b = int(input(\"enter ending range : \"))\n",
    "        for i in range(a,b + 1):\n",
    "            if i % 2 == 0:\n",
    "                even_list.append(i)\n",
    "            sum1 = sum(even_list)\n",
    "        print(\"\\nEven list is : \",even_list,\"\\n\")\n",
    "        print(\"Sum of the list is : \",sum1,\"\\n\")\n",
    "        print(\"Average of even list is : \",sum1/len(even_list))\n",
    "    except ValueError:\n",
    "        print(\"Enter only integers\")\n",
    "\n",
    "check_num(\"Rupali\")\n",
    "       "
   ]
  },
  {
   "cell_type": "code",
   "execution_count": 32,
   "id": "902023fb-dfcb-45f9-b827-9291e7e887c4",
   "metadata": {},
   "outputs": [
    {
     "name": "stdin",
     "output_type": "stream",
     "text": [
      "Enter your salary: 10000\n",
      "Enter your years of service: 10\n"
     ]
    },
    {
     "name": "stdout",
     "output_type": "stream",
     "text": [
      "You will get bonus : 8% \n",
      "Your bonus is :  800.0 \n",
      "Your incremented salary is :  10800.0\n"
     ]
    }
   ],
   "source": [
    "# A company decided to give the bonus to the employee according to the following conditions:\n",
    "# Period of service-------------->Bonus\n",
    "# More than 10 years------------------>10%\n",
    "# >=6years and <=10years-------------->8%\n",
    "# <6years----------------------------->5%\n",
    "#Ask the user for their salary and year of service and print the net bonus amount.\n",
    "\n",
    "\n",
    "def sal_dis():\n",
    "  \n",
    "    if years>0 and salary>0:\n",
    "        \n",
    "        if years > 10:\n",
    "            bonus = salary * 10 / 100\n",
    "            print(\"You will get bonus : 10%\",\"\\nYour bonus is : \",bonus,\"\\nYour incremented salary is : \",salary+bonus)\n",
    "        elif 6 <= years <= 10:\n",
    "            bonus = salary * 8 / 100\n",
    "            print(\"You will get bonus : 8%\",\"\\nYour bonus is : \",bonus,\"\\nYour incremented salary is : \",salary+bonus)\n",
    "        elif years < 6:\n",
    "            bonus = salary * 5 / 100\n",
    "            print(\"You will get bonus : 5%\",\"\\nYour bonus is : \",bonus,\"\\nYour incremented salary is : \",salary+bonus)\n",
    "    else:\n",
    "        print(\"Salary and years must be greater than 0\")\n",
    "\n",
    "salary = int(input(\"Enter your salary:\"))\n",
    "years = int(input(\"Enter your years of service:\"))\n",
    "\n",
    "sal_dis()\n",
    "    "
   ]
  },
  {
   "cell_type": "code",
   "execution_count": null,
   "id": "8f3694ea-84fb-4f78-8751-aa7228c90ac9",
   "metadata": {},
   "outputs": [],
   "source": []
  }
 ],
 "metadata": {
  "kernelspec": {
   "display_name": "Python 3 (ipykernel)",
   "language": "python",
   "name": "python3"
  },
  "language_info": {
   "codemirror_mode": {
    "name": "ipython",
    "version": 3
   },
   "file_extension": ".py",
   "mimetype": "text/x-python",
   "name": "python",
   "nbconvert_exporter": "python",
   "pygments_lexer": "ipython3",
   "version": "3.12.2"
  }
 },
 "nbformat": 4,
 "nbformat_minor": 5
}
