{
  "nbformat": 4,
  "nbformat_minor": 0,
  "metadata": {
    "colab": {
      "provenance": [],
      "authorship_tag": "ABX9TyPVpmdSH2hAemBG5yjwDHK/",
      "include_colab_link": true
    },
    "kernelspec": {
      "name": "python3",
      "display_name": "Python 3"
    },
    "language_info": {
      "name": "python"
    }
  },
  "cells": [
    {
      "cell_type": "markdown",
      "metadata": {
        "id": "view-in-github",
        "colab_type": "text"
      },
      "source": [
        "<a href=\"https://colab.research.google.com/github/jacksonguedes/BasicPython/blob/main/Try_Except_Else_Finally.ipynb\" target=\"_parent\"><img src=\"https://colab.research.google.com/assets/colab-badge.svg\" alt=\"Open In Colab\"/></a>"
      ]
    },
    {
      "cell_type": "markdown",
      "source": [
        "# **Try / Except / Else / Finally**\n",
        "**Dica de quando e onde tratar código:   \n",
        "TODA ENTRADA DEVE SER TRATADA!**    \n"
      ],
      "metadata": {
        "id": "TSsoL17t3s97"
      }
    },
    {
      "cell_type": "code",
      "execution_count": null,
      "metadata": {
        "colab": {
          "base_uri": "https://localhost:8080/"
        },
        "id": "YKO-ekHD3oD9",
        "outputId": "591e13fe-5158-443c-a179-572aa54d3fbb"
      },
      "outputs": [
        {
          "output_type": "stream",
          "name": "stdout",
          "text": [
            "Informe um número: 85\n",
            "Você gigitou 85\n"
          ]
        }
      ],
      "source": [
        "num = int(input('Informe um número: '))\n",
        "print(f'Você gigitou {num}')"
      ]
    },
    {
      "cell_type": "markdown",
      "source": [
        "Mas, se o usuário digitar 'Geek\"?"
      ],
      "metadata": {
        "id": "plEkW7c840hE"
      }
    },
    {
      "cell_type": "code",
      "source": [
        "num = int(input('Informe um número: '))\n",
        "print(f'Você gigitou {num}')"
      ],
      "metadata": {
        "colab": {
          "base_uri": "https://localhost:8080/",
          "height": 210
        },
        "id": "sh3f0QfM46K0",
        "outputId": "425b5a73-88d1-46af-92ce-1bc552bf8cba"
      },
      "execution_count": null,
      "outputs": [
        {
          "name": "stdout",
          "output_type": "stream",
          "text": [
            "Informe um número: Geek\n"
          ]
        },
        {
          "output_type": "error",
          "ename": "ValueError",
          "evalue": "invalid literal for int() with base 10: 'Geek'",
          "traceback": [
            "\u001b[0;31m---------------------------------------------------------------------------\u001b[0m",
            "\u001b[0;31mValueError\u001b[0m                                Traceback (most recent call last)",
            "\u001b[0;32m<ipython-input-2-43b06ccc0997>\u001b[0m in \u001b[0;36m<cell line: 1>\u001b[0;34m()\u001b[0m\n\u001b[0;32m----> 1\u001b[0;31m \u001b[0mnum\u001b[0m \u001b[0;34m=\u001b[0m \u001b[0mint\u001b[0m\u001b[0;34m(\u001b[0m\u001b[0minput\u001b[0m\u001b[0;34m(\u001b[0m\u001b[0;34m'Informe um número: '\u001b[0m\u001b[0;34m)\u001b[0m\u001b[0;34m)\u001b[0m\u001b[0;34m\u001b[0m\u001b[0;34m\u001b[0m\u001b[0m\n\u001b[0m\u001b[1;32m      2\u001b[0m \u001b[0mprint\u001b[0m\u001b[0;34m(\u001b[0m\u001b[0;34mf'Você gigitou {num}'\u001b[0m\u001b[0;34m)\u001b[0m\u001b[0;34m\u001b[0m\u001b[0;34m\u001b[0m\u001b[0m\n",
            "\u001b[0;31mValueError\u001b[0m: invalid literal for int() with base 10: 'Geek'"
          ]
        }
      ]
    },
    {
      "cell_type": "markdown",
      "source": [
        "Tratando o dado de entrada, temos:"
      ],
      "metadata": {
        "id": "2RJH0_nl49gt"
      }
    },
    {
      "cell_type": "code",
      "source": [
        "try:\n",
        "  num = int(input('Informe um número: '))\n",
        "except:\n",
        "  print('Valor incorreto!')\n",
        "\n",
        "print(f'Você digitou {num}')"
      ],
      "metadata": {
        "colab": {
          "base_uri": "https://localhost:8080/"
        },
        "id": "tlXFQvyi5D6e",
        "outputId": "85c50465-d999-49dc-dae4-752c1f1cdb18"
      },
      "execution_count": null,
      "outputs": [
        {
          "output_type": "stream",
          "name": "stdout",
          "text": [
            "Informe um número: Geek\n",
            "Valor incorreto!\n",
            "Você digitou 85\n"
          ]
        }
      ]
    },
    {
      "cell_type": "code",
      "source": [
        "# Else -> É executado senão ocorrer o erro\n",
        "num = 0\n",
        "\n",
        "try:\n",
        "  num = int(input('Informe um número: '))\n",
        "except:\n",
        "  print('Valor incorreto!')\n",
        "else:\n",
        "  print(f'Você digitou {num}')"
      ],
      "metadata": {
        "colab": {
          "base_uri": "https://localhost:8080/"
        },
        "id": "1ZcanEVB5flt",
        "outputId": "3e782373-ab5e-46cc-c149-134bf5c79e0b"
      },
      "execution_count": null,
      "outputs": [
        {
          "output_type": "stream",
          "name": "stdout",
          "text": [
            "Informe um número: Geek\n",
            "Valor incorreto!\n"
          ]
        }
      ]
    },
    {
      "cell_type": "code",
      "source": [
        "def dividir(a, b):\n",
        "  return a / b"
      ],
      "metadata": {
        "id": "5a07LsQGp975"
      },
      "execution_count": 2,
      "outputs": []
    },
    {
      "cell_type": "code",
      "source": [
        "num1 = int(input('Informe o primeiro número: '))r\n",
        "try:\n",
        "  num2 = int(input('Informe o segundo número: '))\n",
        "except ValueError:\n",
        "  print('Valor precisa ser numérico')\n",
        "\n",
        "try:\n",
        "  print(dividir(num1, num2))\n",
        "except NameError:\n",
        "  print('Valor incorreto')"
      ],
      "metadata": {
        "id": "a1RAtoUL6tEW",
        "colab": {
          "base_uri": "https://localhost:8080/"
        },
        "outputId": "3360e5c4-c720-4443-f003-12a91889d2bd"
      },
      "execution_count": 5,
      "outputs": [
        {
          "output_type": "stream",
          "name": "stdout",
          "text": [
            "Informe o primeiro número: 9\n",
            "Informe o segundo número: \n",
            "Valor precisa ser numérico\n",
            "1.8\n"
          ]
        }
      ]
    },
    {
      "cell_type": "markdown",
      "source": [
        "Exemplo mais complexo CORRETO   "
      ],
      "metadata": {
        "id": "YwyPmOyHqzJQ"
      }
    },
    {
      "cell_type": "code",
      "source": [
        "def dividir(a, b):\n",
        "  try:\n",
        "    return int(a) / int(b)\n",
        "  except ValueError:\n",
        "    return '\\nValor Incorreto!'\n",
        "  except ZeroDivisionError:\n",
        "    return '\\nNão é possível realizar uma divisão por zero!'\n",
        "\n",
        "num1 = input('Informe o primeiro número: ')\n",
        "num2 = input('Informe o segundo número: ')\n",
        "\n",
        "print(dividir(num1, num2))\n"
      ],
      "metadata": {
        "colab": {
          "base_uri": "https://localhost:8080/"
        },
        "id": "B5ICln1yq5HR",
        "outputId": "f2bd5d4c-bb1a-4ad0-c872-06ce8540196a"
      },
      "execution_count": 20,
      "outputs": [
        {
          "output_type": "stream",
          "name": "stdout",
          "text": [
            "Informe o primeiro número: 5\n",
            "Informe o segundo número: 0\n",
            "\n",
            "Não é possível realizar uma divisão por zero!\n"
          ]
        }
      ]
    }
  ]
}
