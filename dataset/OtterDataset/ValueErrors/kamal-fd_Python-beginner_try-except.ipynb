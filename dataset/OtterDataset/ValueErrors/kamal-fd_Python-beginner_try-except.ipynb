{
 "cells": [
  {
   "cell_type": "code",
   "execution_count": 2,
   "metadata": {},
   "outputs": [
    {
     "name": "stdout",
     "output_type": "stream",
     "text": [
      "Yoshinggizni kiriting:20.5\n",
      "Butun son kiritmadinggiz\n"
     ]
    }
   ],
   "source": [
    "t = input('Yoshinggizni kiriting:')\n",
    "\n",
    "try:\n",
    "    t = int(t)\n",
    "except:\n",
    "    print('Butun son kiritmadinggiz')\n",
    "else:\n",
    "    print(f\"Siz {2021-t}-yilda tug'ilgansiz\")"
   ]
  },
  {
   "cell_type": "code",
   "execution_count": 3,
   "metadata": {},
   "outputs": [
    {
     "name": "stdout",
     "output_type": "stream",
     "text": [
      "2.3\n"
     ]
    },
    {
     "ename": "ValueError",
     "evalue": "invalid literal for int() with base 10: '2.3'",
     "output_type": "error",
     "traceback": [
      "\u001b[1;31m---------------------------------------------------------------------------\u001b[0m",
      "\u001b[1;31mValueError\u001b[0m                                Traceback (most recent call last)",
      "\u001b[1;32m<ipython-input-3-6f33bf75fced>\u001b[0m in \u001b[0;36m<module>\u001b[1;34m\u001b[0m\n\u001b[0;32m      1\u001b[0m \u001b[0mt\u001b[0m \u001b[1;33m=\u001b[0m \u001b[0minput\u001b[0m\u001b[1;33m(\u001b[0m\u001b[1;33m)\u001b[0m\u001b[1;33m\u001b[0m\u001b[1;33m\u001b[0m\u001b[0m\n\u001b[1;32m----> 2\u001b[1;33m \u001b[0mt\u001b[0m \u001b[1;33m=\u001b[0m \u001b[0mint\u001b[0m\u001b[1;33m(\u001b[0m\u001b[0mt\u001b[0m\u001b[1;33m)\u001b[0m\u001b[1;33m\u001b[0m\u001b[1;33m\u001b[0m\u001b[0m\n\u001b[0m",
      "\u001b[1;31mValueError\u001b[0m: invalid literal for int() with base 10: '2.3'"
     ]
    }
   ],
   "source": [
    "t = input()\n",
    "t = int(t)"
   ]
  },
  {
   "cell_type": "code",
   "execution_count": 5,
   "metadata": {},
   "outputs": [
    {
     "name": "stdout",
     "output_type": "stream",
     "text": [
      "Yoshinggizni kiriting:20\n",
      "Siz 2001-yilda tug'ilgansiz\n"
     ]
    }
   ],
   "source": [
    "t = input('Yoshinggizni kiriting:')\n",
    "\n",
    "try:\n",
    "    t = int(t)\n",
    "except ValueError:\n",
    "    print('Butun son kiritmadinggiz')\n",
    "else:\n",
    "    print(f\"Siz {2021-t}-yilda tug'ilgansiz\")"
   ]
  },
  {
   "cell_type": "code",
   "execution_count": 1,
   "metadata": {},
   "outputs": [
    {
     "name": "stdout",
     "output_type": "stream",
     "text": [
      "0\n",
      "0 ga bo'lish mumkin emas!\n"
     ]
    }
   ],
   "source": [
    "a = input()\n",
    "try:\n",
    "    x = 10/int(a)\n",
    "except ZeroDivisionError:\n",
    "    print(\"0 ga bo'lish mumkin emas!\")\n",
    "else:\n",
    "    print(f\"x = {x}\")"
   ]
  },
  {
   "cell_type": "code",
   "execution_count": 9,
   "metadata": {},
   "outputs": [
    {
     "name": "stdout",
     "output_type": "stream",
     "text": [
      "asus\n"
     ]
    }
   ],
   "source": [
    "my_list = ['msi','hp','macbook','asus','lenovo']\n",
    "\n",
    "try:\n",
    "    s = my_list[3]\n",
    "except IndexError:\n",
    "    print('Bunday tartibli mavjud emas!')\n",
    "else:\n",
    "    print(s)"
   ]
  },
  {
   "cell_type": "code",
   "execution_count": 11,
   "metadata": {},
   "outputs": [],
   "source": [
    "my_dict = {\n",
    "    'username':'freckledMe',\n",
    "    'name':'Kamoliddin',\n",
    "    'address':'Yunusobod district',\n",
    "    'location':'Uzbekistan,Tashkent'\n",
    "}"
   ]
  },
  {
   "cell_type": "code",
   "execution_count": 13,
   "metadata": {},
   "outputs": [
    {
     "name": "stdout",
     "output_type": "stream",
     "text": [
      "key = name\n",
      "Kamoliddin\n"
     ]
    }
   ],
   "source": [
    "k = input('key = ')\n",
    "try:\n",
    "    a = my_dict[k]\n",
    "except KeyError:\n",
    "    print(f'{k} nomli kalit mavjud emas!')\n",
    "else:\n",
    "    print(a)"
   ]
  },
  {
   "cell_type": "code",
   "execution_count": 22,
   "metadata": {},
   "outputs": [
    {
     "name": "stdout",
     "output_type": "stream",
     "text": [
      "{'Model': 'Malibu', 'Rang': 'Qora', 'Yil': 2020, 'Narh': 40000}\n"
     ]
    }
   ],
   "source": [
    "import json\n",
    "filename = 'data.json'\n",
    "try:\n",
    "    with open(filename) as f:\n",
    "        m = json.load(f)\n",
    "except FileNotFoundError:\n",
    "    print(f\"{filename} nomli fayl topilmadi\")\n",
    "else:\n",
    "    print(m)"
   ]
  },
  {
   "cell_type": "code",
   "execution_count": 27,
   "metadata": {},
   "outputs": [
    {
     "name": "stdout",
     "output_type": "stream",
     "text": [
      "{'Model': 'Malibu', 'Narh': 40000, 'Rang': 'Qora', 'Yil': 2020}\n",
      "{'familiya': 'Husanov', 'ism': 'Hasan', 'tyil': 2000}\n",
      "{'student': [{'faculty': 'Engineering',\n",
      "              'id': '01',\n",
      "              'lastname': 'Price',\n",
      "              'name': 'Tom',\n",
      "              'year': 4},\n",
      "             {'faculty': 'Computer Science',\n",
      "              'id': '02',\n",
      "              'lastname': 'Thameson',\n",
      "              'name': 'Nick',\n",
      "              'year': 3},\n",
      "             {'faculty': 'ICT',\n",
      "              'id': '03',\n",
      "              'lastname': 'Doe',\n",
      "              'name': 'John',\n",
      "              'year': 2}]}\n"
     ]
    }
   ],
   "source": [
    "from pprint import pprint\n",
    "jsons = ['data.json','talaba.json','fanlar.json','students.json']\n",
    "\n",
    "for jsonfile in jsons:\n",
    "    try:\n",
    "        with open(jsonfile) as f:\n",
    "            k = json.load(f)\n",
    "    except FileNotFoundError:\n",
    "        pass\n",
    "#         print(f\"{jsonfile} nomli fayl mavjud emas\")\n",
    "    else:\n",
    "        pprint(k)"
   ]
  },
  {
   "cell_type": "code",
   "execution_count": null,
   "metadata": {},
   "outputs": [],
   "source": []
  },
  {
   "cell_type": "code",
   "execution_count": null,
   "metadata": {},
   "outputs": [],
   "source": []
  }
 ],
 "metadata": {
  "kernelspec": {
   "display_name": "Python 3",
   "language": "python",
   "name": "python3"
  },
  "language_info": {
   "codemirror_mode": {
    "name": "ipython",
    "version": 3
   },
   "file_extension": ".py",
   "mimetype": "text/x-python",
   "name": "python",
   "nbconvert_exporter": "python",
   "pygments_lexer": "ipython3",
   "version": "3.8.5"
  }
 },
 "nbformat": 4,
 "nbformat_minor": 4
}
