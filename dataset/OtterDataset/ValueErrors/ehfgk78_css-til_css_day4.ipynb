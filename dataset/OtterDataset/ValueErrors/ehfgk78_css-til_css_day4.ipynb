{
 "cells": [
  {
   "cell_type": "markdown",
   "metadata": {},
   "source": [
    "## function"
   ]
  },
  {
   "cell_type": "code",
   "execution_count": 1,
   "metadata": {},
   "outputs": [
    {
     "data": {
      "text/plain": [
       "11"
      ]
     },
     "execution_count": 1,
     "metadata": {},
     "output_type": "execute_result"
    }
   ],
   "source": [
    "# 아주 멋진 Awe-sum함수 만들기\n",
    "def awe_sum(a,b):\n",
    "    result = 0 \n",
    "    result = a + b\n",
    "    return result\n",
    "\n",
    "awe_sum(5,6)"
   ]
  },
  {
   "cell_type": "code",
   "execution_count": 2,
   "metadata": {},
   "outputs": [
    {
     "data": {
      "text/plain": [
       "'hello'"
      ]
     },
     "execution_count": 2,
     "metadata": {},
     "output_type": "execute_result"
    }
   ],
   "source": [
    "def print_hello():\n",
    "    return \"hello\"\n",
    "\n",
    "print_hello()"
   ]
  },
  {
   "cell_type": "code",
   "execution_count": 3,
   "metadata": {},
   "outputs": [
    {
     "name": "stdout",
     "output_type": "stream",
     "text": [
      "hi, this is fastcampus without return.\n"
     ]
    }
   ],
   "source": [
    "def func_wo_return(a):\n",
    "    print(\"hi, this is \" + str(a) + \" without return.\")\n",
    "\n",
    "func_wo_return(\"fastcampus\")"
   ]
  },
  {
   "cell_type": "markdown",
   "metadata": {},
   "source": [
    "### function with multiple return"
   ]
  },
  {
   "cell_type": "code",
   "execution_count": 4,
   "metadata": {},
   "outputs": [
    {
     "data": {
      "text/plain": [
       "(23, 123)"
      ]
     },
     "execution_count": 4,
     "metadata": {},
     "output_type": "execute_result"
    }
   ],
   "source": [
    "def mul_return(a):\n",
    "    b = 0\n",
    "    b = a + 100\n",
    "    return a, b\n",
    "\n",
    "mul_return(23)"
   ]
  },
  {
   "cell_type": "markdown",
   "metadata": {},
   "source": [
    "### return skill"
   ]
  },
  {
   "cell_type": "code",
   "execution_count": 6,
   "metadata": {},
   "outputs": [
    {
     "name": "stdout",
     "output_type": "stream",
     "text": [
      "invalid id: admin\n",
      "valid id: admin\n"
     ]
    }
   ],
   "source": [
    "def id_check(id):\n",
    "    if id == \"admin\":\n",
    "        print(\"invalid id: admin\")\n",
    "        #return\n",
    "    print(\"valid id:\", id)\n",
    "\n",
    "id_check(\"admin\")"
   ]
  },
  {
   "cell_type": "markdown",
   "metadata": {},
   "source": [
    "## parameter with initialize"
   ]
  },
  {
   "cell_type": "code",
   "execution_count": 7,
   "metadata": {},
   "outputs": [
    {
     "name": "stdout",
     "output_type": "stream",
     "text": [
      "Hi,  Fool\n",
      "But you are Fool.\n"
     ]
    }
   ],
   "source": [
    "def say_hello(name=\"Fool\", nick=True):\n",
    "    print('Hi, ', name)\n",
    "    if nick == True:\n",
    "        print(\"But you are Fool.\")\n",
    "    else:\n",
    "        print(\"Oh, you are not Fool. \")\n",
    "say_hello()"
   ]
  },
  {
   "cell_type": "code",
   "execution_count": 8,
   "metadata": {},
   "outputs": [
    {
     "name": "stdout",
     "output_type": "stream",
     "text": [
      "Hi,  Jinseok\n",
      "But you are Fool.\n"
     ]
    }
   ],
   "source": [
    "say_hello(\"Jinseok\")"
   ]
  },
  {
   "cell_type": "code",
   "execution_count": 9,
   "metadata": {},
   "outputs": [
    {
     "name": "stdout",
     "output_type": "stream",
     "text": [
      "Hi,  Jinseok\n",
      "Oh, you are not Fool. \n"
     ]
    }
   ],
   "source": [
    "say_hello(\"Jinseok\", False)"
   ]
  },
  {
   "cell_type": "markdown",
   "metadata": {},
   "source": [
    "# *arguments"
   ]
  },
  {
   "cell_type": "code",
   "execution_count": 10,
   "metadata": {},
   "outputs": [
    {
     "data": {
      "text/plain": [
       "2"
      ]
     },
     "execution_count": 10,
     "metadata": {},
     "output_type": "execute_result"
    }
   ],
   "source": [
    "# *num은 리스트임\n",
    "def mul_sum(*nums):\n",
    "    result = 0\n",
    "    for num in nums:\n",
    "        result = result + num\n",
    "    return result\n",
    "\n",
    "mul_sum(1,1)"
   ]
  },
  {
   "cell_type": "code",
   "execution_count": 11,
   "metadata": {},
   "outputs": [
    {
     "data": {
      "text/plain": [
       "55"
      ]
     },
     "execution_count": 11,
     "metadata": {},
     "output_type": "execute_result"
    }
   ],
   "source": [
    "mul_sum(1,2,3,4,5,6,7,8,9,10)"
   ]
  },
  {
   "cell_type": "markdown",
   "metadata": {},
   "source": [
    "# keyword arguments: **kwargs\n",
    "* key-value dictionary 형태\n",
    "* 리스트를 이용하려면  dict.keys()로 key들의 list를 만들어서 dick[key] = value 관계를 이용함"
   ]
  },
  {
   "cell_type": "code",
   "execution_count": 12,
   "metadata": {},
   "outputs": [
    {
     "name": "stdout",
     "output_type": "stream",
     "text": [
      "{'a': 10, 'c': 'fastcampus', 'b': 'google'}\n"
     ]
    }
   ],
   "source": [
    "def show_kwargs(**kwargs):\n",
    "    print(str(kwargs))\n",
    "\n",
    "show_kwargs(a=10, b=\"google\", c=\"fastcampus\")"
   ]
  },
  {
   "cell_type": "code",
   "execution_count": 13,
   "metadata": {},
   "outputs": [
    {
     "data": {
      "text/plain": [
       "'https://www.naver.com:8080?query=덩케르크&ie=utf-8&'"
      ]
     },
     "execution_count": 13,
     "metadata": {},
     "output_type": "execute_result"
    }
   ],
   "source": [
    "def kwargs_url(server, port, **query):\n",
    "    url = \"https://\" + server + \":\" + port + \"?\"\n",
    "    for key in query.keys():\n",
    "        url = url + key + \"=\" + query[key] + \"&\"\n",
    "    return url\n",
    "\n",
    "kwargs_url(\"www.naver.com\", \"8080\", ie=\"utf-8\", query=\"덩케르크\")"
   ]
  },
  {
   "cell_type": "code",
   "execution_count": 14,
   "metadata": {},
   "outputs": [
    {
     "data": {
      "text/plain": [
       "'https://www.naver.com:8080?query=덩케르크'"
      ]
     },
     "execution_count": 14,
     "metadata": {},
     "output_type": "execute_result"
    }
   ],
   "source": [
    "def wokwargs(server, port, query):\n",
    "    url = \"https://\" + server + \":\" + port + \"?query=\" + query\n",
    "    return url\n",
    "\n",
    "wokwargs(\"www.naver.com\", \"8080\", \"덩케르크\")"
   ]
  },
  {
   "cell_type": "markdown",
   "metadata": {},
   "source": [
    "## variable outside function"
   ]
  },
  {
   "cell_type": "code",
   "execution_count": 18,
   "metadata": {},
   "outputs": [
    {
     "name": "stdout",
     "output_type": "stream",
     "text": [
      "hello\n"
     ]
    }
   ],
   "source": [
    "a = \"hello\"\n",
    "def glob_test1(a):\n",
    "    a = a + \"world\"\n",
    "    return a\n",
    "\n",
    "glob_test1(a)\n",
    "print(a)"
   ]
  },
  {
   "cell_type": "code",
   "execution_count": 19,
   "metadata": {},
   "outputs": [
    {
     "name": "stdout",
     "output_type": "stream",
     "text": [
      "hello\n"
     ]
    }
   ],
   "source": [
    "a = \"hello\"\n",
    "def glob_test2(x):\n",
    "    x = x + \"world\"\n",
    "    return x\n",
    "\n",
    "glob_test2(a)\n",
    "print(a)"
   ]
  },
  {
   "cell_type": "markdown",
   "metadata": {},
   "source": [
    "## So, how to globalize\n",
    "(1) using  **global**"
   ]
  },
  {
   "cell_type": "code",
   "execution_count": 24,
   "metadata": {},
   "outputs": [
    {
     "ename": "SyntaxError",
     "evalue": "name 'a' is parameter and global (<ipython-input-24-d5e779e3b2cf>, line 3)",
     "output_type": "error",
     "traceback": [
      "\u001b[0;36m  File \u001b[0;32m\"<ipython-input-24-d5e779e3b2cf>\"\u001b[0;36m, line \u001b[0;32m3\u001b[0m\n\u001b[0;31m    global a\u001b[0m\n\u001b[0;31mSyntaxError\u001b[0m\u001b[0;31m:\u001b[0m name 'a' is parameter and global\n"
     ]
    }
   ],
   "source": [
    "a = \"hello\" \n",
    "def glob_test3(a):\n",
    "    global a\n",
    "    a += \"world\"\n",
    "    return a\n",
    "\n",
    "a = glob_test3(a)\n",
    "print(a)"
   ]
  },
  {
   "cell_type": "markdown",
   "metadata": {},
   "source": [
    "(2) using **return**"
   ]
  },
  {
   "cell_type": "code",
   "execution_count": 23,
   "metadata": {},
   "outputs": [
    {
     "name": "stdout",
     "output_type": "stream",
     "text": [
      "helloworld\n"
     ]
    }
   ],
   "source": [
    "a = \"hello\"\n",
    "\n",
    "def glob_test(a):\n",
    "    a += \"world\"\n",
    "    return a\n",
    "\n",
    "a = glob_test(a)\n",
    "print(a)"
   ]
  },
  {
   "cell_type": "markdown",
   "metadata": {},
   "source": [
    "# Leap year\n",
    "4로 나누어 떨어지면 윤년,\n",
    "<b><u>100으로 나누어 떨어지면 평년, </u></b>\n",
    "400으로 나누어 떨어지면 윤년"
   ]
  },
  {
   "cell_type": "code",
   "execution_count": 40,
   "metadata": {
    "collapsed": true
   },
   "outputs": [],
   "source": [
    "def is_leap_year(year):\n",
    "    if year % 400 == 0 : return print(\"윤년\")\n",
    "    elif year % 100 == 0 : return print(\"평년\")\n",
    "    elif year % 4 == 0 : return print(\"윤년\")\n",
    "    else: return(\"평년\")"
   ]
  },
  {
   "cell_type": "code",
   "execution_count": 41,
   "metadata": {},
   "outputs": [
    {
     "name": "stdout",
     "output_type": "stream",
     "text": [
      "평년\n"
     ]
    }
   ],
   "source": [
    "is_leap_year(1900)"
   ]
  },
  {
   "cell_type": "code",
   "execution_count": 43,
   "metadata": {
    "collapsed": true
   },
   "outputs": [],
   "source": [
    "def is_leap_year2(year):\n",
    "    return (year % 4 == 0 and (year % 100 != 0 or  year % 400 == 0)) * \"윤년\" or \"평년\""
   ]
  },
  {
   "cell_type": "code",
   "execution_count": 53,
   "metadata": {},
   "outputs": [
    {
     "data": {
      "text/plain": [
       "'평년'"
      ]
     },
     "execution_count": 53,
     "metadata": {},
     "output_type": "execute_result"
    }
   ],
   "source": [
    "is_leap_year2(123)"
   ]
  },
  {
   "cell_type": "code",
   "execution_count": 42,
   "metadata": {},
   "outputs": [
    {
     "name": "stdout",
     "output_type": "stream",
     "text": [
      "True\n"
     ]
    }
   ],
   "source": [
    "def is_leap_year3(year):\n",
    "    leap = False\n",
    "    if year % 4 == 0 and (year % 100!=0 or year % 400 ==0):\n",
    "        leap = True\n",
    "    return print(leap)\n",
    "\n",
    "is_leap_year3(2004)"
   ]
  },
  {
   "cell_type": "markdown",
   "metadata": {},
   "source": [
    "## 에라토스테네스의 체"
   ]
  },
  {
   "cell_type": "code",
   "execution_count": null,
   "metadata": {
    "collapsed": true
   },
   "outputs": [],
   "source": [
    "def find_prime_number(a):\n",
    "    "
   ]
  },
  {
   "cell_type": "markdown",
   "metadata": {},
   "source": [
    "## numguess with function"
   ]
  },
  {
   "cell_type": "markdown",
   "metadata": {},
   "source": [
    "# Recursive"
   ]
  },
  {
   "cell_type": "code",
   "execution_count": 54,
   "metadata": {},
   "outputs": [
    {
     "name": "stdout",
     "output_type": "stream",
     "text": [
      "How many times do you want to curse the beast??: 7\n",
      "Fusion!!! (6  times left)\n",
      "Fusion!!! (5  times left)\n",
      "Fusion!!! (4  times left)\n",
      "Fusion!!! (3  times left)\n",
      "Fusion!!! (2  times left)\n",
      "Fusion!!! (1  times left)\n",
      "Fusion!!! (0  times left)\n",
      "Complete!\n"
     ]
    }
   ],
   "source": [
    "def recursive_beast(a):\n",
    "    if a == 0:\n",
    "        print(\"Complete!\")\n",
    "    else:\n",
    "        print(\"Fusion!!! (%d  times left)\"  % (a-1)) \n",
    "        recursive_beast(a-1)\n",
    "        \n",
    "times = int( input(\"How many times do you want to curse the beast??: \"))         \n",
    "recursive_beast(times)        "
   ]
  },
  {
   "cell_type": "markdown",
   "metadata": {},
   "source": [
    "## File I/O\n",
    "f = open(filename, mode) <br/>\n",
    "mode   <br/> \n",
    "r - 읽기 모드  <br/> \n",
    "w - 쓰기 모드 <br/> \n",
    "a - 추가 모드 (파일의 마지막에 새로운 내용을 추가)  <br/>  \n",
    "\n",
    "### Create text-file"
   ]
  },
  {
   "cell_type": "code",
   "execution_count": 56,
   "metadata": {
    "collapsed": true
   },
   "outputs": [],
   "source": [
    "f = open(\"Newfile.txt\", 'w')\n",
    "f.close()"
   ]
  },
  {
   "cell_type": "markdown",
   "metadata": {},
   "source": [
    "### Write text"
   ]
  },
  {
   "cell_type": "code",
   "execution_count": 57,
   "metadata": {
    "collapsed": true
   },
   "outputs": [],
   "source": [
    "f = open(\"Newfile.txt\", 'a')\n",
    "for i in range(1, 10+1):\n",
    "    text = \"Hello Fastcampus for %2d times. \\n\" % i\n",
    "    f.write(text)\n",
    "f.close()"
   ]
  },
  {
   "cell_type": "markdown",
   "metadata": {},
   "source": [
    "### Read text"
   ]
  },
  {
   "cell_type": "code",
   "execution_count": 58,
   "metadata": {},
   "outputs": [
    {
     "name": "stdout",
     "output_type": "stream",
     "text": [
      "Hello Fastcampus for  1 times. \n",
      "\n"
     ]
    }
   ],
   "source": [
    "f = open(\"Newfile.txt\", 'r')\n",
    "text = f.readline()\n",
    "print(text)\n",
    "f.close()"
   ]
  },
  {
   "cell_type": "code",
   "execution_count": 59,
   "metadata": {},
   "outputs": [
    {
     "name": "stdout",
     "output_type": "stream",
     "text": [
      "Hello Fastcampus for  1 times. \n",
      "\n",
      "Hello Fastcampus for  2 times. \n",
      "\n",
      "Hello Fastcampus for  3 times. \n",
      "\n",
      "Hello Fastcampus for  4 times. \n",
      "\n",
      "Hello Fastcampus for  5 times. \n",
      "\n",
      "Hello Fastcampus for  6 times. \n",
      "\n",
      "Hello Fastcampus for  7 times. \n",
      "\n",
      "Hello Fastcampus for  8 times. \n",
      "\n",
      "Hello Fastcampus for  9 times. \n",
      "\n",
      "Hello Fastcampus for 10 times. \n",
      "\n"
     ]
    }
   ],
   "source": [
    "f = open(\"Newfile.txt\", 'r')\n",
    "while True:\n",
    "    text = f.readline()\n",
    "    if not text: break\n",
    "    print(text)\n",
    "f.close()"
   ]
  },
  {
   "cell_type": "code",
   "execution_count": 63,
   "metadata": {},
   "outputs": [
    {
     "data": {
      "text/plain": [
       "'Hello Fastcampus for  1 times. \\nHello Fastcampus for  2 times. \\nHello Fastcampus for  3 times. \\nHello Fastcampus for  4 times. \\nHello Fastcampus for  5 times. \\nHello Fastcampus for  6 times. \\nHello Fastcampus for  7 times. \\nHello Fastcampus for  8 times. \\nHello Fastcampus for  9 times. \\nHello Fastcampus for 10 times. \\n'"
      ]
     },
     "execution_count": 63,
     "metadata": {},
     "output_type": "execute_result"
    }
   ],
   "source": [
    "f = open(\"Newfile.txt\", 'r')\n",
    "texts = f.readlines()\n",
    "f.close()\n",
    "\n",
    "a = ''.join(texts)\n",
    "a"
   ]
  },
  {
   "cell_type": "code",
   "execution_count": 64,
   "metadata": {},
   "outputs": [
    {
     "data": {
      "text/plain": [
       "['Hello Fastcampus for  1 times. ',\n",
       " 'Hello Fastcampus for  2 times. ',\n",
       " 'Hello Fastcampus for  3 times. ',\n",
       " 'Hello Fastcampus for  4 times. ',\n",
       " 'Hello Fastcampus for  5 times. ',\n",
       " 'Hello Fastcampus for  6 times. ',\n",
       " 'Hello Fastcampus for  7 times. ',\n",
       " 'Hello Fastcampus for  8 times. ',\n",
       " 'Hello Fastcampus for  9 times. ',\n",
       " 'Hello Fastcampus for 10 times. ',\n",
       " '']"
      ]
     },
     "execution_count": 64,
     "metadata": {},
     "output_type": "execute_result"
    }
   ],
   "source": [
    "a.split('\\n')"
   ]
  },
  {
   "cell_type": "code",
   "execution_count": 66,
   "metadata": {
    "collapsed": true
   },
   "outputs": [],
   "source": [
    "f = open(\"Newfile.txt\", \"a\")\n",
    "for i in range(11, 10+10+1):\n",
    "    text = \"Hello Fastcampus for %2d times. \\n\" %i\n",
    "    f.write(text)\n",
    "f.close()    "
   ]
  },
  {
   "cell_type": "markdown",
   "metadata": {},
   "source": [
    "### Get rid of f.close()"
   ]
  },
  {
   "cell_type": "code",
   "execution_count": 67,
   "metadata": {
    "collapsed": true
   },
   "outputs": [],
   "source": [
    "with open(\"foo.txt\", 'w') as f:  f.write(\"foo is \")"
   ]
  },
  {
   "cell_type": "markdown",
   "metadata": {},
   "source": [
    "# Error Handle - Syntax\n",
    "<pre>\n",
    "try:\n",
    "    실행문 1\n",
    "except:\n",
    "    실행문 2\n",
    "</pre>\n",
    "\n",
    "### pass를 붙이는 습관 좋다. "
   ]
  },
  {
   "cell_type": "markdown",
   "metadata": {},
   "source": [
    "### Error Handle - ValueError"
   ]
  },
  {
   "cell_type": "code",
   "execution_count": 68,
   "metadata": {},
   "outputs": [
    {
     "name": "stdout",
     "output_type": "stream",
     "text": [
      "?\"패스트 캠퍼스\"\n"
     ]
    },
    {
     "ename": "ValueError",
     "evalue": "invalid literal for int() with base 10: '\"패스트 캠퍼스\"'",
     "output_type": "error",
     "traceback": [
      "\u001b[0;31m---------------------------------------------------------------------------\u001b[0m",
      "\u001b[0;31mValueError\u001b[0m                                Traceback (most recent call last)",
      "\u001b[0;32m<ipython-input-68-9b716701632f>\u001b[0m in \u001b[0;36m<module>\u001b[0;34m()\u001b[0m\n\u001b[0;32m----> 1\u001b[0;31m \u001b[0mtext\u001b[0m \u001b[0;34m=\u001b[0m \u001b[0mint\u001b[0m\u001b[0;34m(\u001b[0m\u001b[0minput\u001b[0m\u001b[0;34m(\u001b[0m\u001b[0;34m\"?\"\u001b[0m\u001b[0;34m)\u001b[0m\u001b[0;34m)\u001b[0m\u001b[0;34m\u001b[0m\u001b[0m\n\u001b[0m",
      "\u001b[0;31mValueError\u001b[0m: invalid literal for int() with base 10: '\"패스트 캠퍼스\"'"
     ]
    }
   ],
   "source": [
    "text = int(input(\"?\"))"
   ]
  },
  {
   "cell_type": "markdown",
   "metadata": {},
   "source": [
    "<pre>\n",
    "try:\n",
    "    pass\n",
    "except:\n",
    "    pass\n",
    "</pre>"
   ]
  },
  {
   "cell_type": "code",
   "execution_count": 69,
   "metadata": {},
   "outputs": [
    {
     "name": "stdout",
     "output_type": "stream",
     "text": [
      "Type the number: \"패스트캠퍼스\"\n",
      "I said type the NUMBER!!!!!\n",
      "invalid literal for int() with base 10: '\"패스트캠퍼스\"'\n"
     ]
    }
   ],
   "source": [
    "try:\n",
    "    some_input = int( input(\"Type the number: \"))\n",
    "except ValueError as e:\n",
    "    print(\"I said type the NUMBER!!!!!\")\n",
    "    print(e)"
   ]
  },
  {
   "cell_type": "markdown",
   "metadata": {},
   "source": [
    "### Error Handle - FileNotFoundError"
   ]
  },
  {
   "cell_type": "code",
   "execution_count": 70,
   "metadata": {},
   "outputs": [
    {
     "ename": "FileNotFoundError",
     "evalue": "[Errno 2] No such file or directory: 'error.txt'",
     "output_type": "error",
     "traceback": [
      "\u001b[0;31m---------------------------------------------------------------------------\u001b[0m",
      "\u001b[0;31mFileNotFoundError\u001b[0m                         Traceback (most recent call last)",
      "\u001b[0;32m<ipython-input-70-9512331e8406>\u001b[0m in \u001b[0;36m<module>\u001b[0;34m()\u001b[0m\n\u001b[0;32m----> 1\u001b[0;31m \u001b[0mf\u001b[0m \u001b[0;34m=\u001b[0m \u001b[0mopen\u001b[0m\u001b[0;34m(\u001b[0m\u001b[0;34m\"error.txt\"\u001b[0m\u001b[0;34m,\u001b[0m \u001b[0;34m'r'\u001b[0m\u001b[0;34m)\u001b[0m\u001b[0;34m\u001b[0m\u001b[0m\n\u001b[0m\u001b[1;32m      2\u001b[0m \u001b[0mf\u001b[0m\u001b[0;34m.\u001b[0m\u001b[0mclose\u001b[0m\u001b[0;34m(\u001b[0m\u001b[0;34m)\u001b[0m\u001b[0;34m\u001b[0m\u001b[0m\n",
      "\u001b[0;31mFileNotFoundError\u001b[0m: [Errno 2] No such file or directory: 'error.txt'"
     ]
    }
   ],
   "source": [
    "f = open(\"error.txt\", 'r')\n",
    "f.close()"
   ]
  },
  {
   "cell_type": "code",
   "execution_count": 72,
   "metadata": {},
   "outputs": [
    {
     "name": "stdout",
     "output_type": "stream",
     "text": [
      "Hello Fastcampus for  1 times. \n",
      "Hello Fastcampus for  2 times. \n",
      "Hello Fastcampus for  3 times. \n",
      "Hello Fastcampus for  4 times. \n",
      "Hello Fastcampus for  5 times. \n",
      "Hello Fastcampus for  6 times. \n",
      "Hello Fastcampus for  7 times. \n",
      "Hello Fastcampus for  8 times. \n",
      "Hello Fastcampus for  9 times. \n",
      "Hello Fastcampus for 10 times. \n",
      "Hello Fastcampus for 11 times. \n",
      "Hello Fastcampus for 12 times. \n",
      "Hello Fastcampus for 13 times. \n",
      "Hello Fastcampus for 14 times. \n",
      "Hello Fastcampus for 15 times. \n",
      "Hello Fastcampus for 16 times. \n",
      "Hello Fastcampus for 17 times. \n",
      "Hello Fastcampus for 18 times. \n",
      "Hello Fastcampus for 19 times. \n",
      "Hello Fastcampus for 20 times. \n",
      "\n"
     ]
    }
   ],
   "source": [
    "try:\n",
    "    f = open(\"Newfile.txt\", 'r')\n",
    "except FileNotFoundError as e:\n",
    "    print(e)\n",
    "else:\n",
    "    text = f.read()\n",
    "    f.close\n",
    "\n",
    "print(text)"
   ]
  },
  {
   "cell_type": "markdown",
   "metadata": {},
   "source": [
    "### multi- except \n",
    "<pre>\n",
    "try:\n",
    "   실행문 1\n",
    "except  error type 1 as e1:\n",
    "   실행문 2\n",
    "except  error type 2 as e2:\n",
    "   실행문 3\n",
    "except  error type3 as e3:\n",
    "   실행문 4\n",
    "else:   \n",
    "</pre>"
   ]
  },
  {
   "cell_type": "markdown",
   "metadata": {},
   "source": [
    "### Error Handle  - error pass"
   ]
  },
  {
   "cell_type": "markdown",
   "metadata": {},
   "source": [
    "### hackerrank.com"
   ]
  },
  {
   "cell_type": "code",
   "execution_count": null,
   "metadata": {
    "collapsed": true
   },
   "outputs": [],
   "source": []
  }
 ],
 "metadata": {
  "kernelspec": {
   "display_name": "Python 3",
   "language": "python",
   "name": "python3"
  },
  "language_info": {
   "codemirror_mode": {
    "name": "ipython",
    "version": 3
   },
   "file_extension": ".py",
   "mimetype": "text/x-python",
   "name": "python",
   "nbconvert_exporter": "python",
   "pygments_lexer": "ipython3",
   "version": "3.5.2"
  }
 },
 "nbformat": 4,
 "nbformat_minor": 2
}
