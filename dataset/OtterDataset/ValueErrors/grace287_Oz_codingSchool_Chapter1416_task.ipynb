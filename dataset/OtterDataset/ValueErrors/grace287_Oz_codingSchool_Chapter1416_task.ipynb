{
  "cells": [
    {
      "cell_type": "markdown",
      "metadata": {
        "id": "BX7SgOeWu86I"
      },
      "source": [
        "안녕하세요. 수강생 여러분~! Chapter14 ~ 16 수업은 잘 들으셨나요?\n",
        "\n",
        "Chapter14 ~ 16의 수업 내용을 바탕으로 아래 문제를 풀어주시면 됩니다.\n",
        "\n",
        "[**답변 입력 방법**]\n",
        "\n",
        "문제 아래에 있는 코드 입력창에 정답코드를 작성하신 후 ▷ 버튼을 클릭해 코드를 실행해보세요<br>"
      ]
    },
    {
      "cell_type": "markdown",
      "metadata": {
        "id": "TeExvZff0YRl"
      },
      "source": [
        "---"
      ]
    },
    {
      "cell_type": "markdown",
      "metadata": {
        "id": "7kQJMRuFu-6s"
      },
      "source": [
        "[문제1]\n",
        "\n",
        "주어진 정수 x와 자연수 n을 이용해, x부터 시작해 x씩 증가하는 숫자를 n개 지니는 리스트를 출력해주세요   \n",
        "\n",
        "x = 2, n =5"
      ]
    },
    {
      "cell_type": "code",
      "execution_count": null,
      "metadata": {
        "id": "juUF2KYbu0DX",
        "outputId": "5ba4ce20-29b2-42b3-9b39-528725cb7a8a"
      },
      "outputs": [
        {
          "name": "stdout",
          "output_type": "stream",
          "text": [
            "[2, 4, 6, 8, 10]\n"
          ]
        }
      ],
      "source": [
        "x = 2\n",
        "n = 5\n",
        "\n",
        "list = [x * (i + 1) for i in range(n)]\n",
        "\n",
        "print(list)"
      ]
    },
    {
      "cell_type": "markdown",
      "metadata": {
        "id": "Jp456Ldj0YRq"
      },
      "source": [
        "---"
      ]
    },
    {
      "cell_type": "markdown",
      "metadata": {
        "id": "4BPXMLXUvBVL"
      },
      "source": [
        "[문제2]\n",
        "\n",
        "전화번호가 문자열 phone_number로 주어졌을 때, 전화번호의 뒷 4자리를 *으로 가린 문자열이 출력되도록 코드를 작성해주세요\n",
        "\n",
        "phone_number = \"01012347890\"  \n",
        "\n",
        "출력 예시 : \"0101234****\""
      ]
    },
    {
      "cell_type": "code",
      "execution_count": null,
      "metadata": {
        "id": "P0fY7CYUvC_j",
        "outputId": "001dbd9d-e9f1-43fe-b7b2-b0153d967cdb"
      },
      "outputs": [
        {
          "name": "stdout",
          "output_type": "stream",
          "text": [
            "0101234****\n"
          ]
        }
      ],
      "source": [
        "phone_number = \"01012347890\"\n",
        "\n",
        "masked_num = phone_number[:-4] + '****'\n",
        "\n",
        "print(masked_num)"
      ]
    },
    {
      "cell_type": "markdown",
      "metadata": {
        "id": "mUZVycFO0YRt"
      },
      "source": [
        "---"
      ]
    },
    {
      "cell_type": "markdown",
      "metadata": {
        "id": "uUdOU9cFvDsq"
      },
      "source": [
        "[문제3]\n",
        "\n",
        "숫자를 건넬 때 일부 자릿수를 영단어로 바꾼 카드를 건네주면 프로도는 원래 숫자를 찾는 게임입니다.\n",
        "\n",
        "다음은 숫자의 일부 자릿수를 영단어로 바꾸는 예시입니다.\n",
        "\n",
        "1478 → \"one4seveneight\"  \n",
        "234567 → \"23four5six7\"  \n",
        "10203 → \"1zerotwozero3\"    \n",
        "\n",
        "이렇게 숫자의 일부 자릿수가 영단어로 바뀌어졌거나,   \n",
        "혹은 바뀌지 않고 그대로인 문자열 s가 주어졌을때\n",
        "s가 의미하는 원래 숫자를 출력하도록 코드를 작성해주세요\n",
        "\n",
        "s = \"77three4one\n",
        "\n",
        "---\n",
        "참고로 각 숫자에 대응되는 영단어는 다음 표와 같습니다.\n",
        "\n",
        "숫자\t영단어  \n",
        "0\tzero  \n",
        "1\tone  \n",
        "2\ttwo  \n",
        "3\tthree  \n",
        "4\tfour  \n",
        "5\tfive  \n",
        "6\tsix  \n",
        "7\tseven  \n",
        "8\teight  \n",
        "9\tnine  "
      ]
    },
    {
      "cell_type": "code",
      "execution_count": null,
      "metadata": {
        "id": "2NmqRFgDvFtz",
        "outputId": "61031ff6-d32f-4402-b26f-055897bfbb8c"
      },
      "outputs": [
        {
          "name": "stdout",
          "output_type": "stream",
          "text": [
            "77341\n"
          ]
        }
      ],
      "source": [
        "s = \"77three4one\"\n",
        "\n",
        "word_to_digit = {\n",
        "    \"zero\": \"0\",\n",
        "    \"one\": \"1\",\n",
        "    \"two\": \"2\",\n",
        "    \"three\": \"3\",\n",
        "    \"four\": \"4\",\n",
        "    \"five\": \"5\",\n",
        "    \"six\": \"6\",\n",
        "    \"seven\": \"7\",\n",
        "    \"eight\": \"8\",\n",
        "    \"nine\": \"9\"\n",
        "}\n",
        "\n",
        "result = \"\"\n",
        "i = 0\n",
        "\n",
        "while i < len(s):\n",
        "    if s[i].isdigit():\n",
        "        result += s[i]\n",
        "        i += 1\n",
        "    else:\n",
        "        for word in word_to_digit.keys():\n",
        "            if s.startswith(word, i):\n",
        "                result += word_to_digit[word]\n",
        "                i += len(word)\n",
        "                break\n",
        "\n",
        "# 결과 출력\n",
        "print(result)\n"
      ]
    },
    {
      "cell_type": "markdown",
      "metadata": {
        "id": "1WzQO0Hx0YRu"
      },
      "source": [
        "---"
      ]
    },
    {
      "cell_type": "markdown",
      "metadata": {
        "id": "J0Tha6AdvGL3"
      },
      "source": [
        "[문제4]\n",
        "\n",
        "행렬의 덧셈은 행과 열의 크기가 같은 두 행렬의 같은 행, 같은 열의 값을 서로 더한 결과가 됩니다. 2개의 행렬 arr1과 arr2가 주어졌을 때, 행렬 덧셈의 결과를 출력하는 코드를 작성해주세요(result와 같은 결과가 출력되도록 작성)\n",
        "\n",
        "arr1 = [[1,2],[2,3]]\n",
        "\n",
        "arr2 = [[3,4],[5,6]]\n",
        "\n",
        "result = [[4,6],[7,9]]"
      ]
    },
    {
      "cell_type": "code",
      "execution_count": null,
      "metadata": {
        "id": "ujiXrEhJvIV0",
        "outputId": "32cad80c-0622-4fe4-c38f-26bb4aa4a1e0"
      },
      "outputs": [
        {
          "name": "stdout",
          "output_type": "stream",
          "text": [
            "[[4, 6], [7, 9]]\n"
          ]
        }
      ],
      "source": [
        "arr1 = [[1, 2], [2, 3]]\n",
        "arr2 = [[3, 4], [5, 6]]\n",
        "\n",
        "result = [[0, 0], [0, 0]]\n",
        "\n",
        "for i in range(len(arr1)):\n",
        "    for j in range(len(arr1[i])):\n",
        "        result[i][j] = arr1[i][j] + arr2[i][j]\n",
        "\n",
        "# 결과 출력\n",
        "print(result)\n"
      ]
    },
    {
      "cell_type": "markdown",
      "metadata": {
        "id": "Bf-ykRiA0YRv"
      },
      "source": [
        "---"
      ]
    },
    {
      "cell_type": "markdown",
      "metadata": {
        "id": "eLdrWVkavJEN"
      },
      "source": [
        "[문제5]\n",
        "\n",
        "양의 정수 x가 하샤드 수이려면 x의 자릿수의 합으로 x가 나누어져야 합니다.   \n",
        "예를 들어 18의 자릿수 합은 1+8=9이고, 18은 9로 나누어 떨어지므로 18은 하샤드 수입니다.   \n",
        "주어진 x를 이용해 x가 하샤드 수인지 아닌지 검사하는 코드를 작성해주세요\n",
        "\n",
        "x = 17\n",
        "\n",
        "----\n",
        "\n",
        "입출력 예시\n",
        "x\t결과값  \n",
        "10\ttrue  \n",
        "12\ttrue  \n",
        "11\tfalse  \n",
        "13\tfalse  "
      ]
    },
    {
      "cell_type": "code",
      "execution_count": null,
      "metadata": {
        "id": "EULD-IOrvKmG",
        "outputId": "0dda4e7e-06c9-4f6a-ca42-055ea2d2669f"
      },
      "outputs": [
        {
          "name": "stdout",
          "output_type": "stream",
          "text": [
            "False\n",
            "10: True\n",
            "12: True\n",
            "11: False\n",
            "13: False\n"
          ]
        }
      ],
      "source": [
        "def is_harshad_number(x):\n",
        "    digit_sum = sum(int(digit) for digit in str(x))\n",
        "\n",
        "    return x % digit_sum == 0\n",
        "\n",
        "x = 17\n",
        "\n",
        "result = is_harshad_number(x)\n",
        "print(result)\n",
        "\n",
        "test_values = [10, 12, 11, 13]\n",
        "results = {x: is_harshad_number(x) for x in test_values}\n",
        "\n",
        "# 결과 출력\n",
        "for x, result in results.items():\n",
        "    print(f\"{x}: {result}\")\n"
      ]
    },
    {
      "cell_type": "markdown",
      "metadata": {
        "id": "k2kwlE5F0YRw"
      },
      "source": [
        "---"
      ]
    },
    {
      "cell_type": "markdown",
      "metadata": {
        "id": "GeS6hZhivLMZ"
      },
      "source": [
        "[문제6]\n",
        "\n",
        "String형 배열 seoul의 element중 \"Kim\"의 인덱스 x를 찾아, \"김서방은 x에 있다\"는 String을 출력하는 코드를 작성해주세요.   \n",
        "\n",
        "seoul에 \"Kim\"은 오직 한 번만 나타나며 잘못된 값이 입력되는 경우는 없습니다.\n",
        "\n",
        "seoul = [\"Jane\", \"Kim\"]\n",
        "\n",
        "결과\n",
        "\"김서방은 1에 있다\""
      ]
    },
    {
      "cell_type": "code",
      "execution_count": null,
      "metadata": {
        "id": "e4LXat3BvRRg",
        "outputId": "82630edd-53d7-415f-ee4a-e36e67c0d1ef"
      },
      "outputs": [
        {
          "name": "stdout",
          "output_type": "stream",
          "text": [
            "김서방은 1에 있다\n"
          ]
        }
      ],
      "source": [
        "seoul = [\"Jane\", \"Kim\"]\n",
        "\n",
        "x = seoul.index(\"Kim\")\n",
        "\n",
        "result = f\"김서방은 {x}에 있다\"\n",
        "print(result)"
      ]
    },
    {
      "cell_type": "markdown",
      "metadata": {
        "id": "52oMlE8V0YRx"
      },
      "source": [
        "---"
      ]
    },
    {
      "cell_type": "markdown",
      "metadata": {
        "id": "iZjKl-ZqvOkm"
      },
      "source": [
        "[문제7]\n",
        "\n",
        "0부터 9까지의 숫자 중 일부가 들어있는 정수 배열 numbers가 주어집니다.   \n",
        "numbers에서 찾을 수 없는 0부터 9까지의 숫자를 모두 찾아 더한 수를 출력해주세요\n",
        "\n",
        "numbers = [5,8,1,0,6,9]"
      ]
    },
    {
      "cell_type": "code",
      "execution_count": null,
      "metadata": {
        "id": "598DAkIHvQav",
        "outputId": "82eab1ca-ae14-4f84-a1ef-012eef5dbfee"
      },
      "outputs": [
        {
          "name": "stdout",
          "output_type": "stream",
          "text": [
            "16\n"
          ]
        }
      ],
      "source": [
        "numbers = [5, 8, 1, 0, 6, 9]\n",
        "\n",
        "all_numbers = set(range(10))\n",
        "\n",
        "numbers_set = set(numbers)\n",
        "\n",
        "missing_numbers = all_numbers - numbers_set\n",
        "\n",
        "result = sum(missing_numbers)\n",
        "\n",
        "# 결과 출력\n",
        "print(result)\n"
      ]
    },
    {
      "cell_type": "markdown",
      "metadata": {
        "id": "GcGh4VqC0YRx"
      },
      "source": [
        "#### 프로젝트: 붕어빵 자동 판매 시스템\n",
        "\n",
        "\n",
        "당신은 붕어빵 가게의 주인입니다.\n",
        "\n",
        "손님들이 붕어빵을 주문하면 이를 자동으로 처리하고, 재고를 관리하는 시스템을 만들고자 합니다. 또한, 관리자 모드를 통해 재고를 추가할 수 있는 기능을 구현해야 합니다.\n"
      ]
    },
    {
      "cell_type": "markdown",
      "metadata": {
        "id": "utxankCN0YRx"
      },
      "source": [
        "[문제 1: 붕어빵 재고 확인]\n",
        "\n",
        "붕어빵 가게의 현재 재고를 확인하는 기능을 구현하세요.\n",
        "\n",
        "요구사항:\n",
        "- 현재 붕어빵의 재고를 딕셔너리로 관리합니다.\n",
        "- 딕셔너리에는 붕어빵의 종류와 각각의 재고 개수가 저장됩니다.\n",
        "- 현재 재고를 화면에 출력하세요.\n",
        "\n",
        "붕어빵 재고\n",
        "- 팥붕어빵 : 10개\n",
        "- 슈크림붕어빵 : 8개\n",
        "- 초코붕어빵 : 5개"
      ]
    },
    {
      "cell_type": "code",
      "execution_count": null,
      "metadata": {
        "id": "VSgqvPIy0YRx",
        "outputId": "6bc25add-9782-41c7-ad2d-16258142039f"
      },
      "outputs": [
        {
          "name": "stdout",
          "output_type": "stream",
          "text": [
            "현재 붕어빵 재고:\n",
            "팥붕어빵 : 10개\n",
            "슈크림붕어빵 : 8개\n",
            "초코붕어빵 : 5개\n"
          ]
        }
      ],
      "source": [
        "\n",
        "bungeoppang_stock = {\n",
        "    \"팥붕어빵\": 10,\n",
        "    \"슈크림붕어빵\": 8,\n",
        "    \"초코붕어빵\": 5\n",
        "}\n",
        "\n",
        "\n",
        "def print_stock(stock):\n",
        "    print(\"현재 붕어빵 재고:\")\n",
        "    for type_, quantity in stock.items():\n",
        "        print(f\"{type_} : {quantity}개\")\n",
        "\n",
        "# 재고 출력 함수 호출\n",
        "print_stock(bungeoppang_stock)\n"
      ]
    },
    {
      "cell_type": "markdown",
      "metadata": {
        "id": "eF9TWgX-0YRy"
      },
      "source": [
        "[문제 2: 붕어빵 주문 받기]\n",
        "\n",
        "손님이 주문한 붕어빵의 종류와 개수를 입력받는 기능을 구현하세요.\n",
        "\n",
        "요구사항:\n",
        "- 손님이 주문할 붕어빵의 종류와 개수를 입력받습니다.\n",
        "- 주문 내용을 딕셔너리에 저장하세요.\n",
        "- 주문 내역을 출력해주세요."
      ]
    },
    {
      "cell_type": "markdown",
      "metadata": {
        "id": "nkgdKaHw0YRy"
      },
      "source": []
    },
    {
      "cell_type": "code",
      "execution_count": 1,
      "metadata": {
        "colab": {
          "base_uri": "https://localhost:8080/",
          "height": 386
        },
        "id": "uzNF0g1y0YRy",
        "outputId": "d271e988-3834-4f82-ec42-5ab235f8592e"
      },
      "outputs": [
        {
          "name": "stdout",
          "output_type": "stream",
          "text": [
            "주문할 붕어빵의 종류를 입력하세요 (종료하려면 '끝' 입력): 2\n",
            "2 몇 개 주문하시겠습니까?: 14\n",
            "주문할 붕어빵의 종류를 입력하세요 (종료하려면 '끝' 입력): 2\n",
            "2 몇 개 주문하시겠습니까?: 끝\n"
          ]
        },
        {
          "ename": "ValueError",
          "evalue": "invalid literal for int() with base 10: '끝'",
          "output_type": "error",
          "traceback": [
            "\u001b[0;31m---------------------------------------------------------------------------\u001b[0m",
            "\u001b[0;31mValueError\u001b[0m                                Traceback (most recent call last)",
            "\u001b[0;32m<ipython-input-1-e8c57e2c433d>\u001b[0m in \u001b[0;36m<cell line: 22>\u001b[0;34m()\u001b[0m\n\u001b[1;32m     20\u001b[0m \u001b[0;34m\u001b[0m\u001b[0m\n\u001b[1;32m     21\u001b[0m \u001b[0;31m# 주문 받기 함수 호출\u001b[0m\u001b[0;34m\u001b[0m\u001b[0;34m\u001b[0m\u001b[0m\n\u001b[0;32m---> 22\u001b[0;31m \u001b[0mtake_order\u001b[0m\u001b[0;34m(\u001b[0m\u001b[0;34m)\u001b[0m\u001b[0;34m\u001b[0m\u001b[0;34m\u001b[0m\u001b[0m\n\u001b[0m",
            "\u001b[0;32m<ipython-input-1-e8c57e2c433d>\u001b[0m in \u001b[0;36mtake_order\u001b[0;34m()\u001b[0m\n\u001b[1;32m      9\u001b[0m         \u001b[0;32mif\u001b[0m \u001b[0mkind\u001b[0m \u001b[0;34m==\u001b[0m \u001b[0;34m'끝'\u001b[0m\u001b[0;34m:\u001b[0m\u001b[0;34m\u001b[0m\u001b[0;34m\u001b[0m\u001b[0m\n\u001b[1;32m     10\u001b[0m             \u001b[0;32mbreak\u001b[0m\u001b[0;34m\u001b[0m\u001b[0;34m\u001b[0m\u001b[0m\n\u001b[0;32m---> 11\u001b[0;31m         \u001b[0mcount\u001b[0m \u001b[0;34m=\u001b[0m \u001b[0mint\u001b[0m\u001b[0;34m(\u001b[0m\u001b[0minput\u001b[0m\u001b[0;34m(\u001b[0m\u001b[0;34mf\"{kind} 몇 개 주문하시겠습니까?: \"\u001b[0m\u001b[0;34m)\u001b[0m\u001b[0;34m)\u001b[0m\u001b[0;34m\u001b[0m\u001b[0;34m\u001b[0m\u001b[0m\n\u001b[0m\u001b[1;32m     12\u001b[0m \u001b[0;34m\u001b[0m\u001b[0m\n\u001b[1;32m     13\u001b[0m         \u001b[0;31m# 주문 내역에 추가\u001b[0m\u001b[0;34m\u001b[0m\u001b[0;34m\u001b[0m\u001b[0m\n",
            "\u001b[0;31mValueError\u001b[0m: invalid literal for int() with base 10: '끝'"
          ]
        }
      ],
      "source": [
        "# 붕어빵 주문 받기\n",
        "def take_order():\n",
        "    # 주문 내역을 저장할 딕셔너리\n",
        "    order = {}\n",
        "\n",
        "    # 손님으로부터 주문 정보를 입력받기\n",
        "    while True:\n",
        "        kind = input(\"주문할 붕어빵의 종류를 입력하세요 (종료하려면 '끝' 입력): \")\n",
        "        if kind == '끝':\n",
        "            break\n",
        "        count = int(input(f\"{kind} 몇 개 주문하시겠습니까?: \"))\n",
        "\n",
        "        # 주문 내역에 추가\n",
        "        order[kind] = count\n",
        "\n",
        "    # 주문 내역 출력\n",
        "    print(\"\\n주문 내역:\")\n",
        "    for kind, count in order.items():\n",
        "        print(f\"{kind}: {count}개\")\n",
        "\n",
        "# 주문 받기 함수 호출\n",
        "take_order()\n"
      ]
    },
    {
      "cell_type": "markdown",
      "metadata": {
        "id": "uTVlAZT-0YRy"
      },
      "source": [
        "[문제 3: 붕어빵 주문 처리]\n",
        "\n",
        "손님의 주문을 처리하여 붕어빵 재고를 업데이트하는 기능을 구현하세요.\n",
        "\n",
        "요구사항:\n",
        "- 손님의 주문 내용을 기반으로 재고를 업데이트합니다.\n",
        "- 재고가 부족할 경우, 손님에게 재고 부족을 알리고 재고를 감소시키지 않습니다.\n",
        "- 재고가 충분할 경우, 주문한 만큼 재고를 감소시키고 판매를 완료합니다.\n",
        "- 판매가 완료된 경우 판매된 붕어빵 맛과 개수를 출력하세요."
      ]
    },
    {
      "cell_type": "markdown",
      "metadata": {
        "id": "CpnY64VW0YRy"
      },
      "source": []
    },
    {
      "cell_type": "code",
      "execution_count": 2,
      "metadata": {
        "colab": {
          "base_uri": "https://localhost:8080/"
        },
        "id": "y7eJjQgN0YRy",
        "outputId": "5db07124-9c9a-4c7d-9fd0-a61aecc90911"
      },
      "outputs": [
        {
          "name": "stdout",
          "output_type": "stream",
          "text": [
            "팥붕어빵 3개 판매 완료!\n",
            "슈크림붕어빵의 재고가 부족합니다. 현재 재고: 8개\n",
            "초코붕어빵 2개 판매 완료!\n",
            "\n",
            "현재 붕어빵 재고:\n",
            "팥붕어빵: 7개\n",
            "슈크림붕어빵: 8개\n",
            "초코붕어빵: 3개\n"
          ]
        }
      ],
      "source": [
        "# 붕어빵 재고 관리 및 주문 처리\n",
        "def process_order(inventory, order):\n",
        "    for kind, count in order.items():\n",
        "        if kind in inventory:\n",
        "            if inventory[kind] >= count:\n",
        "                # 재고 충분할 경우\n",
        "                inventory[kind] -= count\n",
        "                print(f\"{kind} {count}개 판매 완료!\")\n",
        "            else:\n",
        "                # 재고 부족할 경우\n",
        "                print(f\"{kind}의 재고가 부족합니다. 현재 재고: {inventory[kind]}개\")\n",
        "        else:\n",
        "            print(f\"{kind}는 판매하지 않는 품목입니다.\")\n",
        "\n",
        "# 붕어빵 재고 딕셔너리\n",
        "inventory = {\n",
        "    \"팥붕어빵\": 10,\n",
        "    \"슈크림붕어빵\": 8,\n",
        "    \"초코붕어빵\": 5\n",
        "}\n",
        "\n",
        "# 주문 내역 예시 (이 부분은 실제 입력받는 방식으로 변경 가능)\n",
        "order = {\n",
        "    \"팥붕어빵\": 3,\n",
        "    \"슈크림붕어빵\": 10,  # 재고 부족 예시\n",
        "    \"초코붕어빵\": 2\n",
        "}\n",
        "\n",
        "# 주문 처리 함수 호출\n",
        "process_order(inventory, order)\n",
        "\n",
        "# 현재 재고 출력\n",
        "print(\"\\n현재 붕어빵 재고:\")\n",
        "for kind, count in inventory.items():\n",
        "    print(f\"{kind}: {count}개\")\n"
      ]
    },
    {
      "cell_type": "markdown",
      "metadata": {
        "id": "aiOeqYUh0YRy"
      },
      "source": [
        "[문제 4: 여러 손님 주문 처리]\n",
        "\n",
        "여러 손님들의 주문을 처리할 수 있도록 시스템을 확장하세요.\n",
        "\n",
        "요구사항:\n",
        "- 손님이 \"종료\"를 입력할 때까지 주문을 계속 받습니다.\n",
        "- 각 주문마다 재고를 업데이트합니다.\n",
        "- 현재 재고를 화면에 출력합니다."
      ]
    },
    {
      "cell_type": "code",
      "execution_count": null,
      "metadata": {
        "colab": {
          "base_uri": "https://localhost:8080/"
        },
        "id": "2JsjnxmH0YRz",
        "outputId": "1d5b0694-fff2-47a7-81f3-b1b32e9ac4a5"
      },
      "outputs": [
        {
          "name": "stdout",
          "output_type": "stream",
          "text": [
            "\n",
            "주문을 시작합니다. '종료'를 입력하면 주문을 종료합니다.\n"
          ]
        }
      ],
      "source": [
        "# 붕어빵 재고 관리 및 여러 손님 주문 처리\n",
        "def process_order(inventory, order):\n",
        "    for kind, count in order.items():\n",
        "        if kind in inventory:\n",
        "            if inventory[kind] >= count:\n",
        "                # 재고 충분할 경우\n",
        "                inventory[kind] -= count\n",
        "                print(f\"{kind} {count}개 판매 완료!\")\n",
        "            else:\n",
        "                # 재고 부족할 경우\n",
        "                print(f\"{kind}의 재고가 부족합니다. 현재 재고: {inventory[kind]}개\")\n",
        "        else:\n",
        "            print(f\"{kind}는 판매하지 않는 품목입니다.\")\n",
        "\n",
        "def take_orders(inventory):\n",
        "    while True:\n",
        "        # 주문 내역을 저장할 딕셔너리\n",
        "        order = {}\n",
        "\n",
        "        print(\"\\n주문을 시작합니다. '종료'를 입력하면 주문을 종료합니다.\")\n",
        "        while True:\n",
        "            kind = input(\"주문할 붕어빵의 종류를 입력하세요 (종료하려면 '종료' 입력): \")\n",
        "            if kind == '종료':\n",
        "                return  # 주문 종료\n",
        "            count = int(input(f\"{kind} 몇 개 주문하시겠습니까?: \"))\n",
        "            order[kind] = count\n",
        "\n",
        "        # 주문 처리\n",
        "        process_order(inventory, order)\n",
        "\n",
        "        # 현재 재고 출력\n",
        "        print(\"\\n현재 붕어빵 재고:\")\n",
        "        for kind, count in inventory.items():\n",
        "            print(f\"{kind}: {count}개\")\n",
        "\n",
        "# 붕어빵 재고 딕셔너리\n",
        "inventory = {\n",
        "    \"팥붕어빵\": 10,\n",
        "    \"슈크림붕어빵\": 8,\n",
        "    \"초코붕어빵\": 5\n",
        "}\n",
        "\n",
        "# 여러 손님 주문 받기 함수 호출\n",
        "take_orders(inventory)\n"
      ]
    },
    {
      "cell_type": "markdown",
      "metadata": {
        "id": "ljM_0LTT0YRz"
      },
      "source": [
        "[문제 5: 관리자 모드]\n",
        "\n",
        "관리자 모드를 통해 붕어빵 재고를 추가할 수 있는 기능을 구현하세요.\n",
        "\n",
        "요구사항:\n",
        "- 관리자는 특정 붕어빵의 재고를 추가할 수 있습니다.\n",
        "- \"종료\"를 입력하면 관리자 모드를 종료합니다.\n",
        "- 추가된 재고를 업데이트하고 현재 재고를 화면에 출력합니다."
      ]
    },
    {
      "cell_type": "code",
      "execution_count": null,
      "metadata": {
        "id": "RgkkP6lt0YRz"
      },
      "outputs": [],
      "source": [
        "# 붕어빵 재고 관리 및 관리자 모드\n",
        "def add_inventory(inventory):\n",
        "    while True:\n",
        "        kind = input(\"추가할 붕어빵의 종류를 입력하세요 (종료하려면 '종료' 입력): \")\n",
        "        if kind == '종료':\n",
        "            return  # 관리자 모드 종료\n",
        "\n",
        "        if kind in inventory:\n",
        "            count = int(input(f\"{kind} 몇 개 추가하시겠습니까?: \"))\n",
        "            inventory[kind] += count\n",
        "            print(f\"{kind}의 재고가 {count}개 추가되었습니다.\")\n",
        "        else:\n",
        "            print(f\"{kind}는 판매하지 않는 품목입니다.\")\n",
        "\n",
        "        # 현재 재고 출력\n",
        "        print(\"\\n현재 붕어빵 재고:\")\n",
        "        for kind, count in inventory.items():\n",
        "            print(f\"{kind}: {count}개\")\n",
        "\n",
        "# 붕어빵 재고 딕셔너리\n",
        "inventory = {\n",
        "    \"팥붕어빵\": 10,\n",
        "    \"슈크림붕어빵\": 8,\n",
        "    \"초코붕어빵\": 5\n",
        "}\n",
        "\n",
        "# 관리자 모드 함수 호출\n",
        "add_inventory(inventory)\n"
      ]
    },
    {
      "cell_type": "markdown",
      "metadata": {
        "id": "qBMMD9aN0YRz"
      },
      "source": [
        "[문제 6: 매출 확인]\n",
        "\n",
        "붕어빵 판매 가격을 설정하고, 판매한 붕어빵의 매출을 계산하세요.\n",
        "\n",
        "요구사항:\n",
        "- 각 붕어빵의 가격을 딕셔너리로 관리합니다.\n",
        "- 판매된 붕어빵의 종류와 개수를 딕셔너리로 관리합니다.\n",
        "- 총 매출을 계산하여 출력합니다.\n",
        "\n",
        "초기 설정:\n",
        "- 가격\n",
        "    - \"팥붕어빵\": 1000\n",
        "    - \"슈크림붕어빵\": 1200\n",
        "    - \"초코붕어빵\": 1500\n",
        "\n",
        "- 판매 개수\n",
        "    - \"팥붕어빵\": 0\n",
        "    - \"슈크림붕어빵\": 0\n",
        "    - \"초코붕어빵\": 0"
      ]
    },
    {
      "cell_type": "code",
      "execution_count": 1,
      "metadata": {
        "id": "Y6Nf4Ixx0YRz"
      },
      "outputs": [
        {
          "name": "stdout",
          "output_type": "stream",
          "text": [
            "판매된 붕어빵 개수:\n",
            "팥붕어빵: 3개\n",
            "슈크림붕어빵: 2개\n",
            "초코붕어빵: 1개\n",
            "\n",
            "총 매출: 6900원\n"
          ]
        }
      ],
      "source": [
        "# 붕어빵 가격 및 판매 개수 관리\n",
        "def calculate_sales(prices, sales):\n",
        "    total_sales = 0\n",
        "    for kind, count in sales.items():\n",
        "        total_sales += prices[kind] * count\n",
        "    return total_sales\n",
        "\n",
        "# 붕어빵 가격 설정\n",
        "prices = {\n",
        "    \"팥붕어빵\": 1000,\n",
        "    \"슈크림붕어빵\": 1200,\n",
        "    \"초코붕어빵\": 1500\n",
        "}\n",
        "\n",
        "# 판매된 붕어빵 개수 초기화\n",
        "sales = {\n",
        "    \"팥붕어빵\": 0,\n",
        "    \"슈크림붕어빵\": 0,\n",
        "    \"초코붕어빵\": 0\n",
        "}\n",
        "\n",
        "# 예시 판매 데이터 (이 부분은 실제 주문 처리 후 업데이트하는 방식으로 변경 가능)\n",
        "sales[\"팥붕어빵\"] += 3\n",
        "sales[\"슈크림붕어빵\"] += 2\n",
        "sales[\"초코붕어빵\"] += 1\n",
        "\n",
        "# 총 매출 계산\n",
        "total_sales = calculate_sales(prices, sales)\n",
        "\n",
        "# 총 매출 출력\n",
        "print(\"판매된 붕어빵 개수:\")\n",
        "for kind, count in sales.items():\n",
        "    print(f\"{kind}: {count}개\")\n",
        "\n",
        "print(f\"\\n총 매출: {total_sales}원\")\n"
      ]
    },
    {
      "cell_type": "code",
      "execution_count": null,
      "metadata": {
        "id": "bzqWy9SV10pY"
      },
      "outputs": [],
      "source": []
    }
  ],
  "metadata": {
    "colab": {
      "provenance": []
    },
    "kernelspec": {
      "display_name": "Python 3",
      "name": "python3"
    },
    "language_info": {
      "codemirror_mode": {
        "name": "ipython",
        "version": 3
      },
      "file_extension": ".py",
      "mimetype": "text/x-python",
      "name": "python",
      "nbconvert_exporter": "python",
      "pygments_lexer": "ipython3",
      "version": "3.11.9"
    }
  },
  "nbformat": 4,
  "nbformat_minor": 0
}
