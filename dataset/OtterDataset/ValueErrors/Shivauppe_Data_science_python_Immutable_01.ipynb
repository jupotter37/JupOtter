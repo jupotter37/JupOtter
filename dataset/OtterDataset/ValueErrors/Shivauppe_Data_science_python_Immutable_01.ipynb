{
  "nbformat": 4,
  "nbformat_minor": 0,
  "metadata": {
    "colab": {
      "provenance": []
    },
    "kernelspec": {
      "name": "python3",
      "display_name": "Python 3"
    },
    "language_info": {
      "name": "python"
    }
  },
  "cells": [
    {
      "cell_type": "markdown",
      "source": [
        "**#List and Immutable**"
      ],
      "metadata": {
        "id": "AdHqjU7xEbDt"
      }
    },
    {
      "cell_type": "code",
      "source": [
        "list_con = [1,2.9,'shivanand',2+3j]\n",
        "list_con"
      ],
      "metadata": {
        "colab": {
          "base_uri": "https://localhost:8080/"
        },
        "id": "C6uyW99s13Bi",
        "outputId": "c22c3cb3-a023-4d1a-8a46-04fdc555571f"
      },
      "execution_count": null,
      "outputs": [
        {
          "output_type": "execute_result",
          "data": {
            "text/plain": [
              "[1, 2.9, 'shivanand', (2+3j)]"
            ]
          },
          "metadata": {},
          "execution_count": 2
        }
      ]
    },
    {
      "cell_type": "code",
      "source": [],
      "metadata": {
        "id": "YNUJ3BM82iW1"
      },
      "execution_count": null,
      "outputs": []
    },
    {
      "cell_type": "code",
      "source": [
        "list_container = [1,2.9,'shivanand',2+3j]\n",
        "list_container[1]"
      ],
      "metadata": {
        "colab": {
          "base_uri": "https://localhost:8080/"
        },
        "id": "7iDpROGA2MCZ",
        "outputId": "b13d77a4-5522-4b34-df54-f0f1e2536acb"
      },
      "execution_count": null,
      "outputs": [
        {
          "output_type": "execute_result",
          "data": {
            "text/plain": [
              "2.9"
            ]
          },
          "metadata": {},
          "execution_count": 3
        }
      ]
    },
    {
      "cell_type": "code",
      "source": [],
      "metadata": {
        "id": "eJCaZg5gNrUX"
      },
      "execution_count": null,
      "outputs": []
    },
    {
      "cell_type": "code",
      "source": [
        "list_container[3]"
      ],
      "metadata": {
        "colab": {
          "base_uri": "https://localhost:8080/"
        },
        "id": "wWLxWgVI2W6B",
        "outputId": "299fa2a6-23a5-41c5-a1c5-7b9f89d24921"
      },
      "execution_count": null,
      "outputs": [
        {
          "output_type": "execute_result",
          "data": {
            "text/plain": [
              "(2+3j)"
            ]
          },
          "metadata": {},
          "execution_count": 4
        }
      ]
    },
    {
      "cell_type": "code",
      "source": [
        "list_container[2] = 'Shivanad Uppe'"
      ],
      "metadata": {
        "id": "Awq4ycGR2aHg"
      },
      "execution_count": null,
      "outputs": []
    },
    {
      "cell_type": "code",
      "source": [
        "list_container"
      ],
      "metadata": {
        "colab": {
          "base_uri": "https://localhost:8080/"
        },
        "id": "A52VN-ft2jY-",
        "outputId": "72351547-51a6-498c-f2f8-4c683ccc62f8"
      },
      "execution_count": null,
      "outputs": [
        {
          "output_type": "execute_result",
          "data": {
            "text/plain": [
              "[1, 2.9, 'Shivanad Uppe', (2+3j)]"
            ]
          },
          "metadata": {},
          "execution_count": 7
        }
      ]
    },
    {
      "cell_type": "code",
      "source": [
        "a ="
      ],
      "metadata": {
        "colab": {
          "base_uri": "https://localhost:8080/",
          "height": 36
        },
        "id": "8W8QSQXi70g0",
        "outputId": "c1e7c568-ef46-420b-8daf-2f64864d2661"
      },
      "execution_count": null,
      "outputs": [
        {
          "output_type": "execute_result",
          "data": {
            "text/plain": [
              "'Shivanand'"
            ],
            "application/vnd.google.colaboratory.intrinsic+json": {
              "type": "string"
            }
          },
          "metadata": {},
          "execution_count": 8
        }
      ]
    },
    {
      "cell_type": "markdown",
      "source": [
        "**#Boolean Value Operations**"
      ],
      "metadata": {
        "id": "Gjo-Z6QkD_ZT"
      }
    },
    {
      "cell_type": "code",
      "source": [
        "True and False"
      ],
      "metadata": {
        "colab": {
          "base_uri": "https://localhost:8080/"
        },
        "id": "H4Umc45O81V1",
        "outputId": "a59680e0-193c-4e8a-e5f9-47654d023e95"
      },
      "execution_count": null,
      "outputs": [
        {
          "output_type": "execute_result",
          "data": {
            "text/plain": [
              "False"
            ]
          },
          "metadata": {},
          "execution_count": 12
        }
      ]
    },
    {
      "cell_type": "code",
      "source": [
        "True or False"
      ],
      "metadata": {
        "colab": {
          "base_uri": "https://localhost:8080/"
        },
        "id": "mii_gusM9EgM",
        "outputId": "02751e00-1206-424d-8380-a959fe7ba581"
      },
      "execution_count": null,
      "outputs": [
        {
          "output_type": "execute_result",
          "data": {
            "text/plain": [
              "True"
            ]
          },
          "metadata": {},
          "execution_count": 14
        }
      ]
    },
    {
      "cell_type": "code",
      "source": [
        "int(False / True)"
      ],
      "metadata": {
        "colab": {
          "base_uri": "https://localhost:8080/"
        },
        "id": "MtLxAGD_9MMm",
        "outputId": "e02d7209-07e7-4b0b-d60c-308ba78778db"
      },
      "execution_count": null,
      "outputs": [
        {
          "output_type": "execute_result",
          "data": {
            "text/plain": [
              "0"
            ]
          },
          "metadata": {},
          "execution_count": 18
        }
      ]
    },
    {
      "cell_type": "code",
      "source": [
        "False and False"
      ],
      "metadata": {
        "colab": {
          "base_uri": "https://localhost:8080/"
        },
        "id": "bCYRPv_m9d-j",
        "outputId": "6171a577-00ce-4b8b-ddb0-d2058eb2cf9b"
      },
      "execution_count": null,
      "outputs": [
        {
          "output_type": "execute_result",
          "data": {
            "text/plain": [
              "False"
            ]
          },
          "metadata": {},
          "execution_count": 19
        }
      ]
    },
    {
      "cell_type": "markdown",
      "source": [
        "**#Operations on self variables**"
      ],
      "metadata": {
        "id": "RAK7zR-7EGvL"
      }
    },
    {
      "cell_type": "code",
      "source": [
        "b = 12\n",
        "b = b+10\n",
        "b"
      ],
      "metadata": {
        "colab": {
          "base_uri": "https://localhost:8080/"
        },
        "id": "LsaZJlQJE9cg",
        "outputId": "be76e777-35be-49a1-c1b8-65dc054703dc"
      },
      "execution_count": null,
      "outputs": [
        {
          "output_type": "execute_result",
          "data": {
            "text/plain": [
              "22"
            ]
          },
          "metadata": {},
          "execution_count": 21
        }
      ]
    },
    {
      "cell_type": "code",
      "source": [
        "b = 12\n",
        "b+=10\n",
        "b"
      ],
      "metadata": {
        "colab": {
          "base_uri": "https://localhost:8080/"
        },
        "id": "OUA0isiPFEqZ",
        "outputId": "1eeee5a2-a511-48db-a3ad-184c2a6693c1"
      },
      "execution_count": null,
      "outputs": [
        {
          "output_type": "execute_result",
          "data": {
            "text/plain": [
              "22"
            ]
          },
          "metadata": {},
          "execution_count": 24
        }
      ]
    },
    {
      "cell_type": "code",
      "source": [
        "b = 12\n",
        "b/=10\n",
        "b"
      ],
      "metadata": {
        "colab": {
          "base_uri": "https://localhost:8080/"
        },
        "id": "cDedhjgrFRqO",
        "outputId": "d7abdf7e-0af6-498d-9b16-5df217c10fd4"
      },
      "execution_count": null,
      "outputs": [
        {
          "output_type": "execute_result",
          "data": {
            "text/plain": [
              "1.2"
            ]
          },
          "metadata": {},
          "execution_count": 27
        }
      ]
    },
    {
      "cell_type": "markdown",
      "source": [
        "**#Not operator**"
      ],
      "metadata": {
        "id": "zTKqfXPIYnw0"
      }
    },
    {
      "cell_type": "code",
      "source": [
        "not True"
      ],
      "metadata": {
        "colab": {
          "base_uri": "https://localhost:8080/"
        },
        "id": "oe1DaX9LYs9N",
        "outputId": "782773b8-21c5-4bd1-ce9f-2a7b842b04d8"
      },
      "execution_count": null,
      "outputs": [
        {
          "output_type": "execute_result",
          "data": {
            "text/plain": [
              "False"
            ]
          },
          "metadata": {},
          "execution_count": 28
        }
      ]
    },
    {
      "cell_type": "code",
      "source": [
        "not False"
      ],
      "metadata": {
        "colab": {
          "base_uri": "https://localhost:8080/"
        },
        "id": "G32m7tjZYyQN",
        "outputId": "b2c076f9-f261-4aac-90f4-63b2aa1fe37d"
      },
      "execution_count": null,
      "outputs": [
        {
          "output_type": "execute_result",
          "data": {
            "text/plain": [
              "True"
            ]
          },
          "metadata": {},
          "execution_count": 29
        }
      ]
    },
    {
      "cell_type": "code",
      "source": [
        "a = ['shiva','abc',1,2,3.5,4+5j]\n",
        "'shiva' in a"
      ],
      "metadata": {
        "colab": {
          "base_uri": "https://localhost:8080/"
        },
        "id": "5QYqsxWOY1aF",
        "outputId": "277b92ee-e0f1-4b98-d381-81c00378c384"
      },
      "execution_count": null,
      "outputs": [
        {
          "output_type": "execute_result",
          "data": {
            "text/plain": [
              "True"
            ]
          },
          "metadata": {},
          "execution_count": 36
        }
      ]
    },
    {
      "cell_type": "code",
      "source": [
        "a = ['shiva','abc',1,2,3.5,4+5j]\n",
        "'shiva' not in a"
      ],
      "metadata": {
        "id": "0jBzsIzvbHxK",
        "outputId": "4b997b31-df84-4f99-c75d-015f18db1862",
        "colab": {
          "base_uri": "https://localhost:8080/"
        }
      },
      "execution_count": null,
      "outputs": [
        {
          "output_type": "execute_result",
          "data": {
            "text/plain": [
              "False"
            ]
          },
          "metadata": {},
          "execution_count": 37
        }
      ]
    },
    {
      "cell_type": "code",
      "source": [
        "a= 12\n",
        "b = a\n",
        "a is b"
      ],
      "metadata": {
        "id": "W4YnOCIh5mHa",
        "colab": {
          "base_uri": "https://localhost:8080/"
        },
        "outputId": "b2e3f68e-a174-48dd-c717-85108775c51d"
      },
      "execution_count": null,
      "outputs": [
        {
          "output_type": "execute_result",
          "data": {
            "text/plain": [
              "True"
            ]
          },
          "metadata": {},
          "execution_count": 1
        }
      ]
    },
    {
      "cell_type": "code",
      "source": [
        "a= 12\n",
        "b = a\n",
        "a is not b"
      ],
      "metadata": {
        "colab": {
          "base_uri": "https://localhost:8080/"
        },
        "id": "gEnIBPvq54eH",
        "outputId": "2e9b1b7f-dd7b-4cc3-916a-64203b6fd2e5"
      },
      "execution_count": null,
      "outputs": [
        {
          "output_type": "execute_result",
          "data": {
            "text/plain": [
              "False"
            ]
          },
          "metadata": {},
          "execution_count": 2
        }
      ]
    },
    {
      "cell_type": "code",
      "source": [
        "a= 12\n",
        "b = a + 1\n",
        "a is not b"
      ],
      "metadata": {
        "colab": {
          "base_uri": "https://localhost:8080/"
        },
        "id": "IyvNqivO576l",
        "outputId": "ab7801e8-1e4a-4003-87ac-89c07c18b71d"
      },
      "execution_count": null,
      "outputs": [
        {
          "output_type": "execute_result",
          "data": {
            "text/plain": [
              "True"
            ]
          },
          "metadata": {},
          "execution_count": 4
        }
      ]
    },
    {
      "cell_type": "markdown",
      "source": [
        "**#bitwise operators**"
      ],
      "metadata": {
        "id": "nvX7A4Sv6C2t"
      }
    },
    {
      "cell_type": "code",
      "source": [
        "1 & 10"
      ],
      "metadata": {
        "id": "pYT0W8B16G_u",
        "colab": {
          "base_uri": "https://localhost:8080/"
        },
        "outputId": "c7a9c33f-06b9-4521-f5db-74a59761627b"
      },
      "execution_count": null,
      "outputs": [
        {
          "output_type": "execute_result",
          "data": {
            "text/plain": [
              "0"
            ]
          },
          "metadata": {},
          "execution_count": 8
        }
      ]
    },
    {
      "cell_type": "code",
      "source": [
        "bin(10)"
      ],
      "metadata": {
        "colab": {
          "base_uri": "https://localhost:8080/",
          "height": 36
        },
        "id": "RU7t39nNBg2p",
        "outputId": "14b1d41a-17c1-49fd-d067-91d59b019a6a"
      },
      "execution_count": null,
      "outputs": [
        {
          "output_type": "execute_result",
          "data": {
            "text/plain": [
              "'0b1010'"
            ],
            "application/vnd.google.colaboratory.intrinsic+json": {
              "type": "string"
            }
          },
          "metadata": {},
          "execution_count": 9
        }
      ]
    },
    {
      "cell_type": "code",
      "source": [
        "1 or -1"
      ],
      "metadata": {
        "colab": {
          "base_uri": "https://localhost:8080/"
        },
        "id": "oVXH6dAVBwSg",
        "outputId": "c45444d5-b980-496b-b9b4-b97b5720442d"
      },
      "execution_count": null,
      "outputs": [
        {
          "output_type": "execute_result",
          "data": {
            "text/plain": [
              "1"
            ]
          },
          "metadata": {},
          "execution_count": 11
        }
      ]
    },
    {
      "cell_type": "markdown",
      "source": [
        "**Left and right Shift operators >> right shift & << Left shift**"
      ],
      "metadata": {
        "id": "hVoUzqkF1RT2"
      }
    },
    {
      "cell_type": "code",
      "source": [
        "5 << 1"
      ],
      "metadata": {
        "id": "s28GK6WZB334",
        "colab": {
          "base_uri": "https://localhost:8080/"
        },
        "outputId": "b6abeab7-3f83-42b8-fffe-25a04152bd89"
      },
      "execution_count": null,
      "outputs": [
        {
          "output_type": "execute_result",
          "data": {
            "text/plain": [
              "10"
            ]
          },
          "metadata": {},
          "execution_count": 1
        }
      ]
    },
    {
      "cell_type": "code",
      "source": [],
      "metadata": {
        "id": "ybh3fE6e1_1p"
      },
      "execution_count": null,
      "outputs": []
    },
    {
      "cell_type": "code",
      "source": [],
      "metadata": {
        "id": "scbLpEd_6ZC2"
      },
      "execution_count": null,
      "outputs": []
    },
    {
      "cell_type": "code",
      "source": [],
      "metadata": {
        "id": "yum460Vf1Qnf"
      },
      "execution_count": null,
      "outputs": []
    },
    {
      "cell_type": "code",
      "source": [
        "bin(5)"
      ],
      "metadata": {
        "colab": {
          "base_uri": "https://localhost:8080/",
          "height": 36
        },
        "id": "wf1JX4NR1W4F",
        "outputId": "71f0b7c0-cc90-4eac-842d-0ea593d1e9ca"
      },
      "execution_count": null,
      "outputs": [
        {
          "output_type": "execute_result",
          "data": {
            "text/plain": [
              "'0b101'"
            ],
            "application/vnd.google.colaboratory.intrinsic+json": {
              "type": "string"
            }
          },
          "metadata": {},
          "execution_count": 2
        }
      ]
    },
    {
      "cell_type": "code",
      "source": [
        "bin(1)"
      ],
      "metadata": {
        "colab": {
          "base_uri": "https://localhost:8080/",
          "height": 36
        },
        "id": "GpMYys5_1cmA",
        "outputId": "4f5570f9-3344-4085-f1b9-cdcbcfc573aa"
      },
      "execution_count": null,
      "outputs": [
        {
          "output_type": "execute_result",
          "data": {
            "text/plain": [
              "'0b1'"
            ],
            "application/vnd.google.colaboratory.intrinsic+json": {
              "type": "string"
            }
          },
          "metadata": {},
          "execution_count": 3
        }
      ]
    },
    {
      "cell_type": "code",
      "source": [
        "a = 'shivanand has to finish the Datasience course with AI in the month of March - 2025'\n",
        "\n",
        "type(a)\n",
        "b = int(a)\n",
        "b"
      ],
      "metadata": {
        "colab": {
          "base_uri": "https://localhost:8080/",
          "height": 217
        },
        "id": "CzGDM0oc6a4c",
        "outputId": "172b87b4-0722-4f18-8088-8f30a0a4c0e7"
      },
      "execution_count": null,
      "outputs": [
        {
          "output_type": "error",
          "ename": "ValueError",
          "evalue": "invalid literal for int() with base 10: 'shivanand has to finish the Datasience course with AI in the month of March - 2025'",
          "traceback": [
            "\u001b[0;31m---------------------------------------------------------------------------\u001b[0m",
            "\u001b[0;31mValueError\u001b[0m                                Traceback (most recent call last)",
            "\u001b[0;32m<ipython-input-6-59507564f311>\u001b[0m in \u001b[0;36m<cell line: 4>\u001b[0;34m()\u001b[0m\n\u001b[1;32m      2\u001b[0m \u001b[0;34m\u001b[0m\u001b[0m\n\u001b[1;32m      3\u001b[0m \u001b[0mtype\u001b[0m\u001b[0;34m(\u001b[0m\u001b[0ma\u001b[0m\u001b[0;34m)\u001b[0m\u001b[0;34m\u001b[0m\u001b[0;34m\u001b[0m\u001b[0m\n\u001b[0;32m----> 4\u001b[0;31m \u001b[0mb\u001b[0m \u001b[0;34m=\u001b[0m \u001b[0mint\u001b[0m\u001b[0;34m(\u001b[0m\u001b[0ma\u001b[0m\u001b[0;34m)\u001b[0m\u001b[0;34m\u001b[0m\u001b[0;34m\u001b[0m\u001b[0m\n\u001b[0m\u001b[1;32m      5\u001b[0m \u001b[0mb\u001b[0m\u001b[0;34m\u001b[0m\u001b[0;34m\u001b[0m\u001b[0m\n",
            "\u001b[0;31mValueError\u001b[0m: invalid literal for int() with base 10: 'shivanand has to finish the Datasience course with AI in the month of March - 2025'"
          ]
        }
      ]
    },
    {
      "cell_type": "code",
      "source": [
        "a = 8\n",
        "b = float(a)\n",
        "b"
      ],
      "metadata": {
        "id": "UHPorm6k6yuy",
        "colab": {
          "base_uri": "https://localhost:8080/"
        },
        "outputId": "8d089cea-197c-499a-a0ea-f33d1343ee19"
      },
      "execution_count": null,
      "outputs": [
        {
          "output_type": "execute_result",
          "data": {
            "text/plain": [
              "8.0"
            ]
          },
          "metadata": {},
          "execution_count": 8
        }
      ]
    },
    {
      "cell_type": "code",
      "source": [
        "a = 'Shivanand'\n",
        "b = ' Uppe'\n",
        "a + b"
      ],
      "metadata": {
        "colab": {
          "base_uri": "https://localhost:8080/",
          "height": 36
        },
        "id": "buxKj5PS7bMf",
        "outputId": "96105c47-c3b7-4d8d-c4af-8edfb4d74b8a"
      },
      "execution_count": null,
      "outputs": [
        {
          "output_type": "execute_result",
          "data": {
            "text/plain": [
              "'Shivanand Uppe'"
            ],
            "application/vnd.google.colaboratory.intrinsic+json": {
              "type": "string"
            }
          },
          "metadata": {},
          "execution_count": 13
        }
      ]
    },
    {
      "cell_type": "markdown",
      "source": [
        "**#Boolean of any number other than 0 is always a True**\n",
        "\n",
        "\n",
        "**#Boolean of -ve number also considered as True**"
      ],
      "metadata": {
        "id": "8yIqLPFu84Kk"
      }
    },
    {
      "cell_type": "markdown",
      "source": [],
      "metadata": {
        "id": "ST3DStHx9gqi"
      }
    },
    {
      "cell_type": "markdown",
      "source": [
        "**#Boolean of Any string other than Empty String is True**"
      ],
      "metadata": {
        "id": "eJUopOW39nKB"
      }
    },
    {
      "cell_type": "code",
      "source": [
        "bool('Some text here')"
      ],
      "metadata": {
        "colab": {
          "base_uri": "https://localhost:8080/"
        },
        "id": "SIcLnte19xO2",
        "outputId": "133b511a-5bfc-4be4-8327-c0ad47e2e1e1"
      },
      "execution_count": null,
      "outputs": [
        {
          "output_type": "execute_result",
          "data": {
            "text/plain": [
              "True"
            ]
          },
          "metadata": {},
          "execution_count": 14
        }
      ]
    },
    {
      "cell_type": "code",
      "source": [],
      "metadata": {
        "id": "HIpCCGp6wS8e"
      },
      "execution_count": null,
      "outputs": []
    },
    {
      "cell_type": "code",
      "source": [
        "bool(\"\")"
      ],
      "metadata": {
        "colab": {
          "base_uri": "https://localhost:8080/"
        },
        "id": "kj2voEDc94XZ",
        "outputId": "0ac1d017-e15f-4f43-b410-ed024822d5b5"
      },
      "execution_count": null,
      "outputs": [
        {
          "output_type": "execute_result",
          "data": {
            "text/plain": [
              "False"
            ]
          },
          "metadata": {},
          "execution_count": 15
        }
      ]
    },
    {
      "cell_type": "markdown",
      "source": [
        "**Some texts here for Conditions - if , else, else if **\n",
        "  "
      ],
      "metadata": {
        "id": "DZpCPLW8BBu7"
      }
    },
    {
      "cell_type": "code",
      "source": [
        "a = 25\n",
        "if a < 0 :\n",
        "  print('a is negative')\n",
        "elif(a == 0):\n",
        "  print('a is zero')\n",
        "else :\n",
        "  print('a is positive')"
      ],
      "metadata": {
        "colab": {
          "base_uri": "https://localhost:8080/"
        },
        "id": "d6GgMVjsGUzA",
        "outputId": "e08dee7b-6928-4521-9f53-d06ef2042109"
      },
      "execution_count": null,
      "outputs": [
        {
          "output_type": "stream",
          "name": "stdout",
          "text": [
            "a is positive\n"
          ]
        }
      ]
    },
    {
      "cell_type": "code",
      "source": [
        "weather = 'thunderstorm'\n",
        "if weather == 'Rainy':\n",
        "  print('go outside')\n",
        "elif weather == 'Cloudy':\n",
        "  print('stay inside')\n",
        "else:\n",
        "  print('check weather condition')"
      ],
      "metadata": {
        "colab": {
          "base_uri": "https://localhost:8080/"
        },
        "id": "B22vwMxFFMjD",
        "outputId": "554450af-05b1-40c1-da49-cb5f42fd874e"
      },
      "execution_count": null,
      "outputs": [
        {
          "output_type": "stream",
          "name": "stdout",
          "text": [
            "check weather condition\n"
          ]
        }
      ]
    },
    {
      "cell_type": "code",
      "source": [
        "#Print number is even or odd\n",
        "num = input('Enter the Number\\n')\n",
        "num = int(num)\n",
        "if num % 2 == 0:\n",
        "  print('Number is Even')\n",
        "else:\n",
        "  print('Number is odd')"
      ],
      "metadata": {
        "colab": {
          "base_uri": "https://localhost:8080/"
        },
        "id": "-SJNFNpWG6MW",
        "outputId": "8cb384c3-9285-4fce-c856-c194f50b6f63"
      },
      "execution_count": null,
      "outputs": [
        {
          "output_type": "stream",
          "name": "stdout",
          "text": [
            "Enter the Number\n",
            "10\n",
            "Number is Even\n"
          ]
        }
      ]
    },
    {
      "cell_type": "code",
      "source": [],
      "metadata": {
        "id": "_J3dLqbmL8Ki"
      },
      "execution_count": null,
      "outputs": []
    },
    {
      "cell_type": "code",
      "source": [
        "#fibonacci series\n",
        "number = input(\"Enter the number \")\n",
        "number = int(number)\n",
        "a = 0\n",
        "b = 1\n",
        "print(a)\n",
        "print(b)\n",
        "for i in range(number):\n",
        "  c = a + b\n",
        "  a = b\n",
        "  b = c\n",
        "  print(c)"
      ],
      "metadata": {
        "colab": {
          "base_uri": "https://localhost:8080/"
        },
        "id": "9xmF2r2OHj_p",
        "outputId": "a1c6163f-f317-41ba-9e06-4616fda8cd57"
      },
      "execution_count": null,
      "outputs": [
        {
          "output_type": "stream",
          "name": "stdout",
          "text": [
            "Enter the number 5\n",
            "0\n",
            "1\n",
            "1\n",
            "2\n",
            "3\n",
            "5\n",
            "8\n"
          ]
        }
      ]
    },
    {
      "cell_type": "code",
      "source": [
        "#Based on Score grade segregation\n",
        "\n",
        "Score = input(\"Enter the Marks obtained by Student \\n\")\n",
        "Score = int(Score)\n",
        "if (Score >= 90 and Score < 101):\n",
        "  print(\"Grade A\")\n",
        "elif 80<=Score<=89:\n",
        "  print(\"Grade B\")\n",
        "elif 70<=Score<=79:\n",
        "  print(\"Grade C\")\n",
        "elif 60<=Score<=69:\n",
        "  print(\"Grade D\")\n",
        "elif 50<=Score<=59:\n",
        "  print(\"Grade E\")\n",
        "elif 40<=Score<=49:\n",
        "  print(\"Grade F\")\n",
        "elif Score <= 35:\n",
        "  print(\"Better luck next time\")\n",
        "else:\n",
        "  print(\"Sorry You entered an out of range marks\")"
      ],
      "metadata": {
        "colab": {
          "base_uri": "https://localhost:8080/"
        },
        "id": "GoGLp1fQL9X8",
        "outputId": "47b78465-27f5-48d4-aa1c-517dee37c677"
      },
      "execution_count": null,
      "outputs": [
        {
          "output_type": "stream",
          "name": "stdout",
          "text": [
            "Enter the Marks obtained by Student \n",
            "101\n",
            "Sorry You entered an out of range marks\n"
          ]
        }
      ]
    },
    {
      "cell_type": "code",
      "source": [
        "#Senior Citizen\n",
        "\n",
        "Age = input(\"Enter the Age of a Person\")\n",
        "Age = int(Age)\n",
        "if Age >= 60 and Age <= 101:\n",
        "  print(\"Senior Citizen\")\n",
        "elif Age >= 18 and Age < 60:\n",
        "  print(\"Eligible to cast Vote\")\n",
        "elif Age >= 12 and Age < 18:\n",
        "  print(\"Teenager\")\n",
        "else :\n",
        "  print(\"Invalid Age\")\n"
      ],
      "metadata": {
        "colab": {
          "base_uri": "https://localhost:8080/"
        },
        "id": "nm_yyahZW-LG",
        "outputId": "f34cf18c-8d01-4d86-d00d-99f898090d82"
      },
      "execution_count": null,
      "outputs": [
        {
          "output_type": "stream",
          "name": "stdout",
          "text": [
            "Enter the Age of a Person25\n",
            "Eligible to cast Vote\n"
          ]
        }
      ]
    },
    {
      "cell_type": "markdown",
      "source": [
        "**#Multiple Conditions**\n"
      ],
      "metadata": {
        "id": "1KMpyO5sXwWx"
      }
    },
    {
      "cell_type": "code",
      "source": [
        "A = input(\"Enter the first number\\n\")\n",
        "A = int(A)\n",
        "B = input(\"Enter the second number\\n\")\n",
        "B = int(B)\n",
        "if (A > 10):\n",
        "  if (B > 7):\n",
        "    print(\"Inside Nested If\")\n",
        "  else:\n",
        "    print(\"Inside Nested Else\")\n",
        "else:\n",
        "  print(\"Outside If\")\n",
        "  if (B < 7):\n",
        "    print(\"Inside Nested If\")\n",
        "  else:\n",
        "    print(\"Inside Nested Else\")\n"
      ],
      "metadata": {
        "colab": {
          "base_uri": "https://localhost:8080/"
        },
        "id": "3ctDh7UfX0bx",
        "outputId": "19f8f1c2-bcdf-4f6c-a012-32085b8ebc15"
      },
      "execution_count": null,
      "outputs": [
        {
          "output_type": "stream",
          "name": "stdout",
          "text": [
            "Enter the first number\n",
            "3\n",
            "Enter the second number\n",
            "4\n",
            "Outside If\n",
            "Inside Nested If\n"
          ]
        }
      ]
    },
    {
      "cell_type": "markdown",
      "source": [
        "**Conditional things**"
      ],
      "metadata": {
        "id": "ZO-_P67ZEDUv"
      }
    },
    {
      "cell_type": "code",
      "source": [
        "name = input(\"Enter the Customer Name\\n\")\n",
        "mail = input(\"Enter the Customer Email id\\n\")\n",
        "password = input(\"Enter the Customer Password\\n\")\n",
        "if name == \"\":\n",
        "  print(\"Please enter the valid name\")\n",
        "else:\n",
        "    if \"@\" not in mail :\n",
        "      print(\"Please enter the valid email\")\n",
        "    else:\n",
        "        if len(password) < 0 :\n",
        "          print(\"Password cannot be empty\")\n",
        "        else:\n",
        "          print(\"Registration Successful\")\n",
        "\n",
        "\n",
        "\n"
      ],
      "metadata": {
        "colab": {
          "base_uri": "https://localhost:8080/"
        },
        "id": "8xAP9DSoEL2l",
        "outputId": "22d7da60-451a-4cff-f070-63b0749de596"
      },
      "execution_count": null,
      "outputs": [
        {
          "output_type": "stream",
          "name": "stdout",
          "text": [
            "Enter the Customer Name\n",
            "Shiva\n",
            "Enter the Customer Email id\n",
            "Shiva@123\n",
            "Enter the Customer Password\n",
            "yuiyuyui\n",
            "Registration Successful\n"
          ]
        }
      ]
    },
    {
      "cell_type": "markdown",
      "source": [
        "#Loop - While Loop and For loop\n",
        "\n",
        "While loop - repetedly executed while loop until condition is met\n"
      ],
      "metadata": {
        "id": "kBbRkoi4tlM0"
      }
    },
    {
      "cell_type": "code",
      "source": [
        "n = 7\n",
        "i = 1\n",
        "while(i<n):\n",
        "  print(i)\n",
        "  i = i+1"
      ],
      "metadata": {
        "colab": {
          "base_uri": "https://localhost:8080/"
        },
        "id": "DFyTcuYtuAbb",
        "outputId": "e4057ad9-af83-4385-896a-2a60f268b311"
      },
      "execution_count": null,
      "outputs": [
        {
          "output_type": "stream",
          "name": "stdout",
          "text": [
            "1\n",
            "2\n",
            "3\n",
            "4\n",
            "5\n",
            "6\n"
          ]
        }
      ]
    },
    {
      "cell_type": "code",
      "source": [
        "i = int(input(\"Enter the number\\n\"))\n",
        "j = int(input(\"Enter the number\\n\"))\n",
        "print(\"The numbers are\",i,j)\n",
        "while(i<j):\n",
        "  print(i)\n",
        "  i = i+1\n"
      ],
      "metadata": {
        "colab": {
          "base_uri": "https://localhost:8080/"
        },
        "id": "zuLJi8YHvCfn",
        "outputId": "477ced59-e46a-482d-bc3e-4c64b1d533c8"
      },
      "execution_count": null,
      "outputs": [
        {
          "output_type": "stream",
          "name": "stdout",
          "text": [
            "Enter the number\n",
            "9\n",
            "Enter the number\n",
            "4\n",
            "The numbers are 9 4\n"
          ]
        }
      ]
    },
    {
      "cell_type": "code",
      "source": [
        "count = 10\n",
        "while(count>0):\n",
        "  print(count)\n",
        "  count = count - 1"
      ],
      "metadata": {
        "colab": {
          "base_uri": "https://localhost:8080/"
        },
        "id": "iZvwUsIVvzJY",
        "outputId": "290004db-4971-475a-dd7c-9d977fb3e40e"
      },
      "execution_count": null,
      "outputs": [
        {
          "output_type": "stream",
          "name": "stdout",
          "text": [
            "10\n",
            "9\n",
            "8\n",
            "7\n",
            "6\n",
            "5\n",
            "4\n",
            "3\n",
            "2\n",
            "1\n"
          ]
        }
      ]
    },
    {
      "cell_type": "code",
      "source": [
        "n = 7\n",
        "i = 1\n",
        "while(i<n):\n",
        "  print(i)\n",
        "  i = i+1\n",
        "else :\n",
        "    print(\"Loop finished\")"
      ],
      "metadata": {
        "colab": {
          "base_uri": "https://localhost:8080/"
        },
        "id": "DLnlQ1c6wL-G",
        "outputId": "1cf12608-f07c-45db-a572-fe40350c38e6"
      },
      "execution_count": null,
      "outputs": [
        {
          "output_type": "stream",
          "name": "stdout",
          "text": [
            "1\n",
            "2\n",
            "3\n",
            "4\n",
            "5\n",
            "6\n",
            "Loop finished\n"
          ]
        }
      ]
    },
    {
      "cell_type": "code",
      "source": [
        "#Break statements -- terminates /exists the loop\n",
        "n = 7\n",
        "i = 1\n",
        "while(i<n):\n",
        "  print(i)\n",
        "  if i == 4:\n",
        "    break\n",
        "  i = i+1\n",
        "else :\n",
        "    print(\"Loop finished\")"
      ],
      "metadata": {
        "colab": {
          "base_uri": "https://localhost:8080/"
        },
        "id": "heJVNSzqwnJ2",
        "outputId": "087e5bfc-05cb-4cbe-929f-059d9aa20688"
      },
      "execution_count": null,
      "outputs": [
        {
          "output_type": "stream",
          "name": "stdout",
          "text": [
            "1\n",
            "2\n",
            "3\n",
            "4\n"
          ]
        }
      ]
    },
    {
      "cell_type": "code",
      "source": [
        "#Continue Statements\n",
        "n = 7\n",
        "i = 1\n",
        "while(i<n):\n",
        "  if i == 4:\n",
        "    i = i+1\n",
        "    continue\n",
        "  print(i)\n",
        "  i = i+1\n",
        "else :\n",
        "    print(\"Loop finished\")"
      ],
      "metadata": {
        "colab": {
          "base_uri": "https://localhost:8080/"
        },
        "id": "TJJlBFfgxYRw",
        "outputId": "c7e7c02d-e09c-427b-fb7d-0ead00f594db"
      },
      "execution_count": null,
      "outputs": [
        {
          "output_type": "stream",
          "name": "stdout",
          "text": [
            "1\n",
            "2\n",
            "3\n",
            "5\n",
            "6\n",
            "Loop finished\n"
          ]
        }
      ]
    },
    {
      "cell_type": "code",
      "source": [
        "#for loop\n",
        "for i in \"pwskills\":\n",
        "  print(i)\n",
        "  # if i == \"s\":\n",
        "  #   continue\n",
        "else :\n",
        "  print(\"Loop finished\")"
      ],
      "metadata": {
        "colab": {
          "base_uri": "https://localhost:8080/"
        },
        "id": "B_VHEoZmz-Bj",
        "outputId": "f4d53d5c-d115-4e10-8337-f4bca9e74427"
      },
      "execution_count": null,
      "outputs": [
        {
          "output_type": "stream",
          "name": "stdout",
          "text": [
            "p\n",
            "w\n",
            "s\n",
            "k\n",
            "i\n",
            "l\n",
            "l\n",
            "s\n",
            "Loop finished\n"
          ]
        }
      ]
    },
    {
      "cell_type": "code",
      "source": [
        "#for loop example for list\n",
        "for i in [1,2,3,4,\"Shivanand\",89.0,7.00000899,8,9]:\n",
        "  print(i)\n",
        "else:\n",
        "  print(\"Loop finished\")"
      ],
      "metadata": {
        "colab": {
          "base_uri": "https://localhost:8080/"
        },
        "id": "SZnqmitM0q4U",
        "outputId": "b7d69841-6e95-4139-e9c0-fc112ad36df9"
      },
      "execution_count": null,
      "outputs": [
        {
          "output_type": "stream",
          "name": "stdout",
          "text": [
            "1\n",
            "2\n",
            "3\n",
            "4\n",
            "Shivanand\n",
            "89.0\n",
            "7.00000899\n",
            "8\n",
            "9\n",
            "Loop finished\n"
          ]
        }
      ]
    },
    {
      "cell_type": "code",
      "source": [
        "l = [1,2,3,4,\"Shivanand\",89.0,7.00000899,8,9]\n",
        "for i in l:\n",
        "  if i == \"Shivanand\":\n",
        "    continue\n",
        "  print(i)\n",
        "else:\n",
        "  print(\"Loop finished\")"
      ],
      "metadata": {
        "colab": {
          "base_uri": "https://localhost:8080/"
        },
        "id": "-RMW801l1sH8",
        "outputId": "4b18cdcd-20ab-49cd-dd2f-0dc61b7b1f34"
      },
      "execution_count": null,
      "outputs": [
        {
          "output_type": "stream",
          "name": "stdout",
          "text": [
            "1\n",
            "2\n",
            "3\n",
            "4\n",
            "89.0\n",
            "7.00000899\n",
            "8\n",
            "9\n",
            "Loop finished\n"
          ]
        }
      ]
    },
    {
      "cell_type": "code",
      "source": [
        "#range - Sequential numbers\n",
        "list(range(0,10))"
      ],
      "metadata": {
        "colab": {
          "base_uri": "https://localhost:8080/"
        },
        "id": "q3SzXZ_z43pJ",
        "outputId": "21815965-a995-4512-e7c3-84dcb8d6f67a"
      },
      "execution_count": null,
      "outputs": [
        {
          "output_type": "execute_result",
          "data": {
            "text/plain": [
              "[0, 1, 2, 3, 4, 5, 6, 7, 8, 9]"
            ]
          },
          "metadata": {},
          "execution_count": 31
        }
      ]
    },
    {
      "cell_type": "code",
      "source": [
        "for i in range(0,10,2):\n",
        "  print(i)"
      ],
      "metadata": {
        "colab": {
          "base_uri": "https://localhost:8080/"
        },
        "id": "fIl3mGFo6fqv",
        "outputId": "1af065ad-4597-4f26-b38d-bff3948ef9c5"
      },
      "execution_count": null,
      "outputs": [
        {
          "output_type": "stream",
          "name": "stdout",
          "text": [
            "0\n",
            "2\n",
            "4\n",
            "6\n",
            "8\n"
          ]
        }
      ]
    },
    {
      "cell_type": "markdown",
      "source": [
        "**Print a right angle Traingle**\n"
      ],
      "metadata": {
        "id": "Sf571Z2T62VC"
      }
    },
    {
      "cell_type": "code",
      "source": [
        "#print Right angle traingle\n",
        "n = 5\n",
        "for i in range(0,n):\n",
        "  for j in range(0,i+1):\n",
        "    print(\"*\",end = \"\")\n",
        "  print()"
      ],
      "metadata": {
        "colab": {
          "base_uri": "https://localhost:8080/"
        },
        "id": "H_aHVYXH7D2v",
        "outputId": "0adf97e2-0731-495e-a280-ad6fce26ae63"
      },
      "execution_count": null,
      "outputs": [
        {
          "output_type": "stream",
          "name": "stdout",
          "text": [
            "*\n",
            "**\n",
            "***\n",
            "****\n",
            "*****\n"
          ]
        }
      ]
    },
    {
      "cell_type": "code",
      "source": [
        "#print square\n",
        "n = 5\n",
        "for i in range(0,n):\n",
        "  for j in range(0,n):\n",
        "    print(\"*\",end = \"\")\n",
        "  print()"
      ],
      "metadata": {
        "colab": {
          "base_uri": "https://localhost:8080/"
        },
        "id": "1yKyjjyy-ibW",
        "outputId": "0ee24696-de96-4ef7-f26b-93f22b7b85b1"
      },
      "execution_count": null,
      "outputs": [
        {
          "output_type": "stream",
          "name": "stdout",
          "text": [
            "*****\n",
            "*****\n",
            "*****\n",
            "*****\n",
            "*****\n"
          ]
        }
      ]
    },
    {
      "cell_type": "code",
      "source": [
        "#Print given number is Even or Odd\n",
        "num = int(input(\"Enter the Number\\n\"))\n",
        "if num%2 == 0:\n",
        "  print(\"Even\")\n",
        "else:\n",
        "  print(\"Odd\")\n"
      ],
      "metadata": {
        "colab": {
          "base_uri": "https://localhost:8080/"
        },
        "id": "8PvLBjRj-194",
        "outputId": "ee2a1408-d065-47d3-cc48-89ae3d935eaa"
      },
      "execution_count": null,
      "outputs": [
        {
          "output_type": "stream",
          "name": "stdout",
          "text": [
            "Enter the Number\n",
            "65\n",
            "Odd\n"
          ]
        }
      ]
    },
    {
      "cell_type": "code",
      "source": [
        "#print number of even numbers from the range 40\n",
        "\n",
        "for i in range(0,30,3):\n",
        "  if i%2 == 0:\n",
        "    print(i)"
      ],
      "metadata": {
        "colab": {
          "base_uri": "https://localhost:8080/"
        },
        "id": "MSu2GD_t_YRJ",
        "outputId": "24d9601b-6bb7-489d-8efc-480223171687"
      },
      "execution_count": null,
      "outputs": [
        {
          "output_type": "stream",
          "name": "stdout",
          "text": [
            "0\n",
            "6\n",
            "12\n",
            "18\n",
            "24\n"
          ]
        }
      ]
    },
    {
      "cell_type": "code",
      "source": [
        "3+4*2"
      ],
      "metadata": {
        "colab": {
          "base_uri": "https://localhost:8080/"
        },
        "id": "wtVoEcaeH_UG",
        "outputId": "9780f358-da74-4d45-baab-3c08cb8c1a9b"
      },
      "execution_count": null,
      "outputs": [
        {
          "output_type": "execute_result",
          "data": {
            "text/plain": [
              "11"
            ]
          },
          "metadata": {},
          "execution_count": 52
        }
      ]
    },
    {
      "cell_type": "code",
      "source": [
        "a = 5\n",
        "b = 1\n",
        "while (b<a):\n",
        "  b = b+1\n",
        "  if(b%2 != 0):\n",
        "    continue\n",
        "  print(b)\n"
      ],
      "metadata": {
        "colab": {
          "base_uri": "https://localhost:8080/"
        },
        "id": "XJkupX4kOmSJ",
        "outputId": "26175a8b-05a8-4e4e-ef05-957c9f8bbbbe"
      },
      "execution_count": 6,
      "outputs": [
        {
          "output_type": "stream",
          "name": "stdout",
          "text": [
            "2\n",
            "4\n"
          ]
        }
      ]
    },
    {
      "cell_type": "markdown",
      "source": [
        "Diff between Pass , continue and Break"
      ],
      "metadata": {
        "id": "dadQvLiu3-gw"
      }
    },
    {
      "cell_type": "code",
      "source": [
        "#Diff between Pass , continue and Break\n",
        "a = 5\n",
        "b = 1\n",
        "while (b<a):\n",
        "  b = b+1\n",
        "  if(b%2 != 0):\n",
        "    pass\n",
        "  print('post pass',b)\n",
        "  if(b == 4):\n",
        "    break\n",
        "  print('after break',b)  #This will not be printed"
      ],
      "metadata": {
        "colab": {
          "base_uri": "https://localhost:8080/"
        },
        "id": "c8koSCXG4DhF",
        "outputId": "37265e7f-f795-4f9c-9afe-20b086a3e0c0"
      },
      "execution_count": 9,
      "outputs": [
        {
          "output_type": "stream",
          "name": "stdout",
          "text": [
            "post pass 2\n",
            "after break 2\n",
            "post pass 3\n",
            "after break 3\n",
            "post pass 4\n"
          ]
        }
      ]
    },
    {
      "cell_type": "code",
      "source": [
        "new_var = ['Shivanand\\n']\n",
        "for i in new_var:\n",
        "  # print(i)\n",
        "  # if 'S' in new_var:\n",
        "    print(i[1])"
      ],
      "metadata": {
        "colab": {
          "base_uri": "https://localhost:8080/"
        },
        "id": "_io07Ul04pFO",
        "outputId": "7fef8cb6-826f-4b5c-da2d-746dbdc11b53"
      },
      "execution_count": 26,
      "outputs": [
        {
          "output_type": "stream",
          "name": "stdout",
          "text": [
            "h\n"
          ]
        }
      ]
    }
  ]
}