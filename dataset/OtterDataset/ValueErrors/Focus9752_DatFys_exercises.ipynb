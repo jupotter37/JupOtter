{
 "cells": [
  {
   "cell_type": "markdown",
   "metadata": {},
   "source": [
    "# Chapter 2"
   ]
  },
  {
   "cell_type": "markdown",
   "metadata": {},
   "source": [
    "## 2.4"
   ]
  },
  {
   "cell_type": "code",
   "execution_count": 1,
   "metadata": {},
   "outputs": [
    {
     "ename": "ValueError",
     "evalue": "invalid literal for int() with base 10: ''",
     "output_type": "error",
     "traceback": [
      "\u001b[0;31m---------------------------------------------------------------------------\u001b[0m",
      "\u001b[0;31mValueError\u001b[0m                                Traceback (most recent call last)",
      "Cell \u001b[0;32mIn[1], line 1\u001b[0m\n\u001b[0;32m----> 1\u001b[0m numXs \u001b[38;5;241m=\u001b[39m \u001b[38;5;28mint\u001b[39m(\u001b[38;5;28minput\u001b[39m(\u001b[38;5;124m'\u001b[39m\u001b[38;5;124mHow many times should I print the letter X? \u001b[39m\u001b[38;5;124m'\u001b[39m))\n\u001b[1;32m      2\u001b[0m toPrint \u001b[38;5;241m=\u001b[39m \u001b[38;5;124m'\u001b[39m\u001b[38;5;124m'\u001b[39m\n\u001b[1;32m      3\u001b[0m \u001b[38;5;66;03m#concatenate X to toPrint numXs times\u001b[39;00m\n",
      "\u001b[0;31mValueError\u001b[0m: invalid literal for int() with base 10: ''"
     ]
    }
   ],
   "source": [
    "numXs = int(input('How many times should I print the letter X? '))\n",
    "toPrint = ''\n",
    "#concatenate X to toPrint numXs times\n",
    "iteration = 0\n",
    "while(iteration != numXs):\n",
    "    toPrint += 'X'\n",
    "    iteration += 1\n",
    "print(toPrint)"
   ]
  },
  {
   "cell_type": "code",
   "execution_count": null,
   "metadata": {},
   "outputs": [
    {
     "name": "stdout",
     "output_type": "stream",
     "text": [
      "You didn't enter any odd numbers!\n"
     ]
    }
   ],
   "source": [
    "numbers = [int(item) for item in input(\"Please enter some integers seperated by spaces: \").split()]\n",
    "for number in numbers:\n",
    "    if number % 2 == 0:\n",
    "        numbers.remove(number)\n",
    "    \n",
    "if not numbers:\n",
    "    print(\"You didn't enter any odd numbers!\")\n",
    "else:\n",
    "    print(max(numbers))"
   ]
  },
  {
   "cell_type": "markdown",
   "metadata": {},
   "source": [
    "# Chapter 3"
   ]
  },
  {
   "cell_type": "markdown",
   "metadata": {},
   "source": [
    "## 3.1"
   ]
  },
  {
   "cell_type": "code",
   "execution_count": null,
   "metadata": {},
   "outputs": [
    {
     "ename": "KeyboardInterrupt",
     "evalue": "",
     "output_type": "error",
     "traceback": [
      "\u001b[0;31m---------------------------------------------------------------------------\u001b[0m",
      "\u001b[0;31mKeyboardInterrupt\u001b[0m                         Traceback (most recent call last)",
      "Cell \u001b[0;32mIn[8], line 4\u001b[0m\n\u001b[1;32m      2\u001b[0m x \u001b[38;5;241m=\u001b[39m \u001b[38;5;28mint\u001b[39m(\u001b[38;5;28minput\u001b[39m(\u001b[38;5;124m'\u001b[39m\u001b[38;5;124mEnter an integer: \u001b[39m\u001b[38;5;124m'\u001b[39m))\n\u001b[1;32m      3\u001b[0m ans \u001b[38;5;241m=\u001b[39m \u001b[38;5;241m0\u001b[39m\n\u001b[0;32m----> 4\u001b[0m \u001b[38;5;28;01mwhile\u001b[39;00m ans\u001b[38;5;241m*\u001b[39m\u001b[38;5;241m*\u001b[39m\u001b[38;5;241m3\u001b[39m \u001b[38;5;241m<\u001b[39m \u001b[38;5;28mabs\u001b[39m(x):\n\u001b[1;32m      5\u001b[0m     ans \u001b[38;5;241m=\u001b[39m ans \u001b[38;5;241m+\u001b[39m \u001b[38;5;241m1\u001b[39m\n\u001b[1;32m      6\u001b[0m \u001b[38;5;28;01mif\u001b[39;00m ans\u001b[38;5;241m*\u001b[39m\u001b[38;5;241m*\u001b[39m\u001b[38;5;241m3\u001b[39m \u001b[38;5;241m!=\u001b[39m \u001b[38;5;28mabs\u001b[39m(x):\n",
      "\u001b[0;31mKeyboardInterrupt\u001b[0m: "
     ]
    }
   ],
   "source": [
    "#Find the cube root of a perfect cube\n",
    "x = int(input('Enter an integer: '))\n",
    "ans = 0\n",
    "while ans**3 < abs(x):\n",
    "    ans = ans + 1\n",
    "if ans**3 != abs(x):\n",
    "    print(x, 'is not a perfect cube')\n",
    "else:\n",
    "    if x < 0:\n",
    "        ans = -ans\n",
    "    print('Cube root of', x,'is', ans)"
   ]
  },
  {
   "cell_type": "code",
   "execution_count": 11,
   "metadata": {},
   "outputs": [
    {
     "name": "stdout",
     "output_type": "stream",
     "text": [
      "-2 1\n"
     ]
    }
   ],
   "source": [
    "x = int(input(\"Enter an integer: \"))\n",
    "\n",
    "ans_found = False\n",
    "\n",
    "for pwr in range(1,6):\n",
    "    root = 0\n",
    "    while root**pwr < abs(x):\n",
    "        root += 1\n",
    "    if root**pwr == abs(x):\n",
    "        if x < 0 and pwr%2 != 0:\n",
    "            print(-root, pwr)\n",
    "        else:\n",
    "            print(root, pwr)\n",
    "\n",
    "        ans_found = True\n",
    "\n",
    "if not ans_found:\n",
    "    print(\"No root found for 0 < pwr < 6!\")\n",
    "\n",
    "\n",
    "\n",
    "\n",
    "    "
   ]
  },
  {
   "cell_type": "markdown",
   "metadata": {},
   "source": [
    "## 3.2"
   ]
  },
  {
   "cell_type": "code",
   "execution_count": 13,
   "metadata": {},
   "outputs": [
    {
     "name": "stdout",
     "output_type": "stream",
     "text": [
      "Cube root of 27 is 3\n"
     ]
    }
   ],
   "source": [
    "#Find the cube root of a perfect cube\n",
    "x = int(input('Enter an integer: '))\n",
    "for ans in range(0, abs(x)+1):\n",
    "    if ans**3 >= abs(x):\n",
    "        break\n",
    "if ans**3 != abs(x):\n",
    "    print(x, 'is not a perfect cube')\n",
    "else:\n",
    "    if x < 0:\n",
    "        ans = -ans\n",
    "    print('Cube root of', x,'is', ans)"
   ]
  },
  {
   "cell_type": "code",
   "execution_count": 14,
   "metadata": {},
   "outputs": [
    {
     "name": "stdout",
     "output_type": "stream",
     "text": [
      "6.753\n"
     ]
    }
   ],
   "source": [
    "s = input()\n",
    "total = 0\n",
    "for char in s.split(','):\n",
    "    total += float(char)\n",
    "print(total)"
   ]
  },
  {
   "cell_type": "markdown",
   "metadata": {},
   "source": [
    "## 3.3"
   ]
  },
  {
   "cell_type": "code",
   "execution_count": null,
   "metadata": {},
   "outputs": [
    {
     "name": "stdout",
     "output_type": "stream",
     "text": [
      "The square root of 2 is approximately 1.4140625\n"
     ]
    }
   ],
   "source": [
    "# Bisection search: Square Root\n",
    "\n",
    "x = int(input(\"Enter an integer: \"))\n",
    "epsilon = 0.01\n",
    "low = 0\n",
    "high = max(1.0, x)\n",
    "guess = (low + high)/2\n",
    "while abs(guess**2 - x) >= epsilon:\n",
    "    if guess**2 < x:\n",
    "        low = guess\n",
    "    elif guess**2 > x:\n",
    "        high = guess\n",
    "    guess = (low + high)/2\n",
    "\n",
    "print(f\"The square root of {x} is approximately {guess}\")\n"
   ]
  },
  {
   "cell_type": "code",
   "execution_count": null,
   "metadata": {},
   "outputs": [],
   "source": [
    "# Bisection search: Cube Root\n",
    "\n",
    "x = int(input(\"Enter an integer: \"))\n",
    "epsilon = 0.01\n",
    "low = min(-1.0, x)\n",
    "high = max(1.0, x)\n",
    "guess = (low + high)/2\n",
    "while abs(guess**3 - x) >= epsilon:\n",
    "    if guess**3 < x:\n",
    "        low = guess\n",
    "    elif guess**3 > x:\n",
    "        high = guess\n",
    "    guess = (low + high)/2\n",
    "\n",
    "print(f\"The cube root of {x} is approximately {guess}\")\n"
   ]
  },
  {
   "cell_type": "markdown",
   "metadata": {},
   "source": [
    "# Chapter 4"
   ]
  },
  {
   "cell_type": "markdown",
   "metadata": {},
   "source": [
    "## 4.1"
   ]
  },
  {
   "cell_type": "code",
   "execution_count": 1,
   "metadata": {},
   "outputs": [
    {
     "name": "stdout",
     "output_type": "stream",
     "text": [
      "True\n",
      "True\n",
      "False\n"
     ]
    }
   ],
   "source": [
    "def isIn(str1, str2):\n",
    "    return (str1 in str2) or (str2 in str1)\n",
    "\n",
    "print(isIn(\"aa\", \"abababaababaa\"))\n",
    "print(isIn(\"aadada\", \"a\"))\n",
    "print(isIn(\"GuguGaga\", \"Ibibibi\"))\n",
    "\n"
   ]
  },
  {
   "cell_type": "markdown",
   "metadata": {},
   "source": [
    "## 4.3"
   ]
  },
  {
   "cell_type": "code",
   "execution_count": 2,
   "metadata": {},
   "outputs": [
    {
     "name": "stdout",
     "output_type": "stream",
     "text": [
      "Computing fib(2)\n",
      "Computing fib(2)\n",
      "Computing fib(2)\n"
     ]
    },
    {
     "data": {
      "text/plain": [
       "8"
      ]
     },
     "execution_count": 2,
     "metadata": {},
     "output_type": "execute_result"
    }
   ],
   "source": [
    "def fib(n):\n",
    "    \"\"\"Assumes n int >= 0\n",
    "    Returns Fibonacci of n\"\"\"\n",
    "    if n == 2:\n",
    "        print(\"Computing fib(2)\")\n",
    "    if n == 0 or n == 1:\n",
    "        return 1\n",
    "    else:\n",
    "        return fib(n-1) + fib(n-2)\n",
    "    \n",
    "def testFib(n):\n",
    "    for i in range(n+1):\n",
    "        print('fib of', i, '=', fib(i))\n",
    "\n",
    "fib(5)\n"
   ]
  }
 ],
 "metadata": {
  "kernelspec": {
   "display_name": "base",
   "language": "python",
   "name": "python3"
  },
  "language_info": {
   "codemirror_mode": {
    "name": "ipython",
    "version": 3
   },
   "file_extension": ".py",
   "mimetype": "text/x-python",
   "name": "python",
   "nbconvert_exporter": "python",
   "pygments_lexer": "ipython3",
   "version": "3.12.7"
  }
 },
 "nbformat": 4,
 "nbformat_minor": 2
}
