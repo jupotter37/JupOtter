{
 "cells": [
  {
   "cell_type": "markdown",
   "metadata": {},
   "source": [
    "# Hello Computer Science!"
   ]
  },
  {
   "cell_type": "code",
   "execution_count": 1,
   "metadata": {
    "pycharm": {
     "is_executing": false,
     "name": "#%%\n"
    }
   },
   "outputs": [
    {
     "name": "stdout",
     "output_type": "stream",
     "text": [
      "Hello, Computer Science!\n"
     ]
    }
   ],
   "source": [
    "print(\"Hello, Computer Science!\")"
   ]
  },
  {
   "cell_type": "markdown",
   "metadata": {},
   "source": [
    "# Variables"
   ]
  },
  {
   "cell_type": "code",
   "execution_count": 2,
   "metadata": {
    "pycharm": {
     "is_executing": false,
     "name": "#%%\n"
    }
   },
   "outputs": [
    {
     "name": "stdout",
     "output_type": "stream",
     "text": [
      "Hello FoCSP!\n"
     ]
    }
   ],
   "source": [
    "message = 'Hello FoCSP!'\n",
    "print(message)"
   ]
  },
  {
   "cell_type": "code",
   "execution_count": 3,
   "metadata": {
    "pycharm": {
     "is_executing": false,
     "name": "#%%\n"
    }
   },
   "outputs": [
    {
     "name": "stdout",
     "output_type": "stream",
     "text": [
      "It is 2005, who is the president of the USA?\n",
      "Bush\n",
      "It is 2015, who is the president of the USA?\n",
      "Obama\n",
      "It is 2020, who is the president of the USA?\n",
      "Trump\n",
      "It is 2040, who is the president of the USA?\n",
      "Ronald McDonald\n"
     ]
    }
   ],
   "source": [
    "\"\"\"\n",
    "    This is a comment header.\n",
    "    Here we will talk about the president of the USA.\n",
    "\"\"\"\n",
    "\n",
    "# Who was president in 2005?\n",
    "print('It is 2005, who is the president of the USA?')\n",
    "\n",
    "president = 'Bush'\n",
    "\n",
    "print(president)\n",
    "\n",
    "# Who was president 5 years ago?\n",
    "print('It is 2015, who is the president of the USA?')\n",
    "\n",
    "president = 'Obama'\n",
    "\n",
    "print(president)\n",
    "\n",
    "# Who is president right now?\n",
    "print('It is 2020, who is the president of the USA?')\n",
    "\n",
    "president = 'Trump'\n",
    "\n",
    "print(president)\n",
    "\n",
    "# What will the future bring?\n",
    "print('It is 2040, who is the president of the USA?')\n",
    "\n",
    "president = 'Ronald McDonald'\n",
    "\n",
    "print(president)"
   ]
  },
  {
   "cell_type": "code",
   "execution_count": 4,
   "metadata": {
    "pycharm": {
     "is_executing": false,
     "name": "#%%\n"
    }
   },
   "outputs": [
    {
     "name": "stdout",
     "output_type": "stream",
     "text": [
      "5\n",
      "Five\n"
     ]
    }
   ],
   "source": [
    "number = 5\n",
    "print(number)\n",
    "number = 'Five'\n",
    "print(number)"
   ]
  },
  {
   "cell_type": "markdown",
   "metadata": {},
   "source": [
    "# Integer and Floats"
   ]
  },
  {
   "cell_type": "markdown",
   "metadata": {},
   "source": [
    "### Integer"
   ]
  },
  {
   "cell_type": "code",
   "execution_count": 5,
   "metadata": {
    "pycharm": {
     "is_executing": false,
     "name": "#%%\n"
    }
   },
   "outputs": [
    {
     "name": "stdout",
     "output_type": "stream",
     "text": [
      "5\n",
      "1\n",
      "6\n",
      "1.5\n",
      "8\n"
     ]
    }
   ],
   "source": [
    "# Integers\n",
    "print(2 + 3)\n",
    "print(3 - 2)\n",
    "print(2 * 3)\n",
    "print(3 / 2)\n",
    "print(2 ** 3)"
   ]
  },
  {
   "cell_type": "code",
   "execution_count": 6,
   "metadata": {
    "pycharm": {
     "name": "#%%\n"
    }
   },
   "outputs": [
    {
     "name": "stdout",
     "output_type": "stream",
     "text": [
      "14\n",
      "20\n"
     ]
    }
   ],
   "source": [
    "print(2 + 3 * 4)\n",
    "print((2 + 3) * 4)"
   ]
  },
  {
   "cell_type": "code",
   "execution_count": 7,
   "metadata": {
    "pycharm": {
     "is_executing": false,
     "name": "#%%\n"
    }
   },
   "outputs": [
    {
     "name": "stdout",
     "output_type": "stream",
     "text": [
      "9\n"
     ]
    }
   ],
   "source": [
    "print(100 % 13)"
   ]
  },
  {
   "cell_type": "code",
   "execution_count": 8,
   "metadata": {
    "pycharm": {
     "is_executing": false,
     "name": "#%%\n"
    }
   },
   "outputs": [
    {
     "name": "stdout",
     "output_type": "stream",
     "text": [
      "5 + 6 = 11\n"
     ]
    }
   ],
   "source": [
    "number_one = 5\n",
    "number_two = 6\n",
    "number_three = number_one + number_two\n",
    "print(number_one, '+', number_two, '=', number_three)"
   ]
  },
  {
   "cell_type": "markdown",
   "metadata": {
    "pycharm": {
     "is_executing": false,
     "name": "#%% md\n"
    }
   },
   "source": [
    "### Floats"
   ]
  },
  {
   "cell_type": "code",
   "execution_count": 9,
   "metadata": {
    "pycharm": {
     "name": "#%%\n"
    }
   },
   "outputs": [
    {
     "name": "stdout",
     "output_type": "stream",
     "text": [
      "0.2\n",
      "0.7247796636776955\n",
      "0.0\n",
      "1.0\n",
      "0.30000000000000004\n",
      "0.30000000000000004\n"
     ]
    }
   ],
   "source": [
    "print(0.1 + 0.1)\n",
    "print(0.2 ** 0.2)\n",
    "print(0.3 - 0.3)\n",
    "print(0.3 / 0.3)\n",
    "\n",
    "print(0.2 + 0.1)\n",
    "print(3 * 0.1)"
   ]
  },
  {
   "cell_type": "code",
   "execution_count": 10,
   "metadata": {
    "pycharm": {
     "name": "#%%\n"
    }
   },
   "outputs": [
    {
     "name": "stdout",
     "output_type": "stream",
     "text": [
      "8.0 / 2 = 4.0\n"
     ]
    }
   ],
   "source": [
    "float_one = 8.0\n",
    "int_one = 2\n",
    "float_three = float_one / int_one\n",
    "print(float_one, '/', int_one, '=', float_three)"
   ]
  },
  {
   "cell_type": "code",
   "execution_count": 11,
   "metadata": {
    "pycharm": {
     "is_executing": false,
     "name": "#%%\n"
    }
   },
   "outputs": [
    {
     "name": "stdout",
     "output_type": "stream",
     "text": [
      "8 / 2 = 4.0\n"
     ]
    }
   ],
   "source": [
    "int_one = 8\n",
    "int_two = 2\n",
    "result = int_one / int_two\n",
    "print(int_one, '/', int_two, '=', result)"
   ]
  },
  {
   "cell_type": "markdown",
   "metadata": {
    "pycharm": {
     "is_executing": false,
     "name": "#%% md\n"
    }
   },
   "source": [
    "### Arithemetic operations with direct assignment"
   ]
  },
  {
   "cell_type": "code",
   "execution_count": 12,
   "metadata": {
    "pycharm": {
     "name": "#%%\n"
    }
   },
   "outputs": [
    {
     "name": "stdout",
     "output_type": "stream",
     "text": [
      "20.0\n"
     ]
    }
   ],
   "source": [
    "number = 42\n",
    "number += 8 \n",
    "number -= 10\n",
    "number /= 4 \n",
    "number *= 2\n",
    "print(number)"
   ]
  },
  {
   "cell_type": "markdown",
   "metadata": {},
   "source": [
    "# Strings"
   ]
  },
  {
   "cell_type": "code",
   "execution_count": 13,
   "metadata": {
    "pycharm": {
     "is_executing": false,
     "name": "#%%\n"
    }
   },
   "outputs": [
    {
     "name": "stdout",
     "output_type": "stream",
     "text": [
      "My name is:  John Doe\n"
     ]
    }
   ],
   "source": [
    "firstname = \"John\"\n",
    "lastname = \"Doe\"\n",
    "print(\"My name is: \", firstname, lastname)"
   ]
  },
  {
   "cell_type": "code",
   "execution_count": 14,
   "metadata": {
    "pycharm": {
     "is_executing": false,
     "name": "#%%\n"
    }
   },
   "outputs": [
    {
     "name": "stdout",
     "output_type": "stream",
     "text": [
      "My full name is:  John Doe\n"
     ]
    }
   ],
   "source": [
    "full_name = firstname + \" \" + lastname\n",
    "print(\"My full name is: \", full_name)"
   ]
  },
  {
   "cell_type": "code",
   "execution_count": 15,
   "metadata": {
    "pycharm": {
     "is_executing": false,
     "name": "#%%\n"
    }
   },
   "outputs": [
    {
     "name": "stdout",
     "output_type": "stream",
     "text": [
      "hahaha\n"
     ]
    }
   ],
   "source": [
    "laughter = \"ha\" * 3\n",
    "print(laughter) # what is the output?"
   ]
  },
  {
   "cell_type": "code",
   "execution_count": 16,
   "metadata": {
    "pycharm": {
     "is_executing": false,
     "name": "#%%\n"
    }
   },
   "outputs": [
    {
     "name": "stdout",
     "output_type": "stream",
     "text": [
      "length of multi-line string: 47\n",
      "title: John Doe\n",
      "uppercase: JOHN DOE\n",
      "lowercase:  pythonic! \n",
      "rstrip:  Pythonic!\n",
      "lstrip: Pythonic! \n",
      "strip: Pythonic!\n",
      "split: ['John', 'Doe']\n"
     ]
    }
   ],
   "source": [
    "name = 'John Doe'\n",
    "text = ' Pythonic! '\n",
    "lines = \"\"\"this\n",
    "            has multiple\n",
    "            lines\"\"\"\n",
    "\n",
    "print('length of multi-line string:', len(lines))\n",
    "print('title:', name.title())\n",
    "print('uppercase:', name.upper())\n",
    "print('lowercase:', text.lower())\n",
    "print('rstrip:', text.rstrip())\n",
    "print('lstrip:', text.lstrip())\n",
    "print('strip:', text.strip())\n",
    "print('split:', name.split(' '))"
   ]
  },
  {
   "cell_type": "code",
   "execution_count": 17,
   "metadata": {
    "pycharm": {
     "is_executing": false,
     "name": "#%%\n"
    }
   },
   "outputs": [
    {
     "name": "stdout",
     "output_type": "stream",
     "text": [
      "First: H\n",
      "First few: Hello\n",
      "Last few:  World!\n",
      "Middle: Wor\n",
      "Every 2nd character: HloWrd\n",
      "Last: !\n",
      "Always Last: !\n",
      "Third Last: l\n",
      "Length: 12\n",
      "Every 2nd character: HloWrd\n",
      "From 6th last: World!\n",
      "Everything except last: Hello World\n",
      "Reverse: !dlroW olleH\n"
     ]
    }
   ],
   "source": [
    "# ============= Slicing\n",
    "string = 'Hello World!'\n",
    "print('First:', string[0])\n",
    "print('First few:', string[:5])\n",
    "print('Last few:', string[5:])\n",
    "print('Middle:', string[6:9])\n",
    "print('Every 2nd character:', string[::2])\n",
    "print('Last:', string[11])\n",
    "print('Always Last:', string[-1])\n",
    "print('Third Last:', string[-3])\n",
    "print('Length:', len(string))\n",
    "print('Every 2nd character:', string[::2])\n",
    "print('From 6th last:', string[-6:])\n",
    "print('Everything except last:', string[:-1])\n",
    "print('Reverse:', string[::-1])"
   ]
  },
  {
   "cell_type": "code",
   "execution_count": 18,
   "metadata": {
    "pycharm": {
     "is_executing": false,
     "name": "#%%\n"
    }
   },
   "outputs": [
    {
     "name": "stdout",
     "output_type": "stream",
     "text": [
      "False\n"
     ]
    }
   ],
   "source": [
    "text = 'otto'\n",
    "is_text_text = text == 'anna'\n",
    "print(is_text_text)"
   ]
  },
  {
   "cell_type": "markdown",
   "metadata": {},
   "source": [
    "# String formatting and printing"
   ]
  },
  {
   "cell_type": "code",
   "execution_count": 19,
   "metadata": {
    "pycharm": {
     "is_executing": false,
     "name": "#%% \n"
    }
   },
   "outputs": [
    {
     "name": "stdout",
     "output_type": "stream",
     "text": [
      "I work for 25 hours each day!\n"
     ]
    }
   ],
   "source": [
    "hours = 25\n",
    "print(\"I work for\", hours, \"hours each day!\") # what is the output?"
   ]
  },
  {
   "cell_type": "code",
   "execution_count": 20,
   "metadata": {
    "pycharm": {
     "is_executing": false,
     "name": "#%%\n"
    }
   },
   "outputs": [
    {
     "ename": "TypeError",
     "evalue": "can only concatenate str (not \"int\") to str",
     "output_type": "error",
     "traceback": [
      "\u001b[1;31m---------------------------------------------------------------------------\u001b[0m",
      "\u001b[1;31mTypeError\u001b[0m                                 Traceback (most recent call last)",
      "Input \u001b[1;32mIn [20]\u001b[0m, in \u001b[0;36m<cell line: 2>\u001b[1;34m()\u001b[0m\n\u001b[0;32m      1\u001b[0m hours \u001b[38;5;241m=\u001b[39m \u001b[38;5;241m25\u001b[39m\n\u001b[1;32m----> 2\u001b[0m \u001b[38;5;28mprint\u001b[39m(\u001b[38;5;124;43m\"\u001b[39;49m\u001b[38;5;124;43mI work for\u001b[39;49m\u001b[38;5;124;43m\"\u001b[39;49m\u001b[43m \u001b[49m\u001b[38;5;241;43m+\u001b[39;49m\u001b[43m \u001b[49m\u001b[43mhours\u001b[49m \u001b[38;5;241m+\u001b[39m \u001b[38;5;124m\"\u001b[39m\u001b[38;5;124mhours each day!\u001b[39m\u001b[38;5;124m\"\u001b[39m)\n",
      "\u001b[1;31mTypeError\u001b[0m: can only concatenate str (not \"int\") to str"
     ]
    }
   ],
   "source": [
    "hours = 25\n",
    "print(\"I work for\" + hours + \"hours each day!\") # what is the output?"
   ]
  },
  {
   "cell_type": "code",
   "execution_count": 21,
   "metadata": {
    "pycharm": {
     "is_executing": false,
     "name": "#%%\n"
    }
   },
   "outputs": [
    {
     "name": "stdout",
     "output_type": "stream",
     "text": [
      "My name is Max, my student id is 12345678 and I work for 25.0 hours each day!\n"
     ]
    }
   ],
   "source": [
    "studentid = 12345678\n",
    "boolean = True\n",
    "hours = 25.0\n",
    "name = \"Max\"\n",
    "\n",
    "print(\"My name is \" + name + \", my student id is\", studentid, \"and I work for\", hours, \"hours each day!\")"
   ]
  },
  {
   "cell_type": "code",
   "execution_count": 22,
   "metadata": {
    "pycharm": {
     "is_executing": false,
     "name": "#%%\n"
    }
   },
   "outputs": [
    {
     "name": "stdout",
     "output_type": "stream",
     "text": [
      "Welcome to FoCSP in 2022\n",
      "Welcome to FoCSP in 2022\n"
     ]
    }
   ],
   "source": [
    "lecture_name = 'FoCSP'\n",
    "year = 2022\n",
    "# f String\n",
    "msg = f'Welcome to {lecture_name} in {year}' # preferred\n",
    "print(msg)\n",
    "\n",
    "print(f'Welcome to {lecture_name} in {year}')"
   ]
  },
  {
   "cell_type": "code",
   "execution_count": 23,
   "metadata": {
    "pycharm": {
     "is_executing": false,
     "name": "#%%\n"
    }
   },
   "outputs": [
    {
     "name": "stdout",
     "output_type": "stream",
     "text": [
      "Willkommen zu FOCSP im Jahr 2022\n"
     ]
    }
   ],
   "source": [
    "lecture_name = 'FoCSP'\n",
    "year = 2022\n",
    "# methods\n",
    "print(f'Willkommen zu {lecture_name.upper()} im Jahr {year}') # preferred"
   ]
  },
  {
   "cell_type": "code",
   "execution_count": 24,
   "metadata": {
    "pycharm": {
     "is_executing": false,
     "name": "#%%\n"
    },
    "scrolled": true
   },
   "outputs": [
    {
     "name": "stdout",
     "output_type": "stream",
     "text": [
      "This is Maria's umbrella.\n",
      "Deal with it.\n"
     ]
    }
   ],
   "source": [
    "# escaping\n",
    "print('This is Maria\\'s umbrella.\\nDeal with it.')"
   ]
  },
  {
   "cell_type": "markdown",
   "metadata": {},
   "source": [
    "# Casting: Conversion between data types"
   ]
  },
  {
   "cell_type": "code",
   "execution_count": 25,
   "metadata": {},
   "outputs": [
    {
     "ename": "TypeError",
     "evalue": "can only concatenate str (not \"int\") to str",
     "output_type": "error",
     "traceback": [
      "\u001b[1;31m---------------------------------------------------------------------------\u001b[0m",
      "\u001b[1;31mTypeError\u001b[0m                                 Traceback (most recent call last)",
      "Input \u001b[1;32mIn [25]\u001b[0m, in \u001b[0;36m<cell line: 3>\u001b[1;34m()\u001b[0m\n\u001b[0;32m      1\u001b[0m \u001b[38;5;66;03m# what does this produce?\u001b[39;00m\n\u001b[0;32m      2\u001b[0m number \u001b[38;5;241m=\u001b[39m \u001b[38;5;124m'\u001b[39m\u001b[38;5;124m5\u001b[39m\u001b[38;5;124m'\u001b[39m\n\u001b[1;32m----> 3\u001b[0m weird_result \u001b[38;5;241m=\u001b[39m \u001b[43mnumber\u001b[49m\u001b[43m \u001b[49m\u001b[38;5;241;43m+\u001b[39;49m\u001b[43m \u001b[49m\u001b[38;5;241;43m5\u001b[39;49m\n\u001b[0;32m      4\u001b[0m \u001b[38;5;28mprint\u001b[39m(weird_result)\n",
      "\u001b[1;31mTypeError\u001b[0m: can only concatenate str (not \"int\") to str"
     ]
    }
   ],
   "source": [
    "# what does this produce?\n",
    "number = '5'\n",
    "weird_result = number + 5\n",
    "print(weird_result)"
   ]
  },
  {
   "cell_type": "code",
   "execution_count": 26,
   "metadata": {},
   "outputs": [
    {
     "name": "stdout",
     "output_type": "stream",
     "text": [
      "15\n"
     ]
    }
   ],
   "source": [
    "number = '5'\n",
    "better_result = int(number) + 10\n",
    "print(better_result)"
   ]
  },
  {
   "cell_type": "code",
   "execution_count": 27,
   "metadata": {},
   "outputs": [
    {
     "name": "stdout",
     "output_type": "stream",
     "text": [
      "1010101010\n",
      "50\n"
     ]
    }
   ],
   "source": [
    "# what does this produce?\n",
    "number_2 = '10'\n",
    "weirder_result = number_2 * 5\n",
    "print(weirder_result)\n",
    "\n",
    "# what does this produce?\n",
    "number_2 = '10'\n",
    "normal_result = int(number_2) * 5\n",
    "print(normal_result)"
   ]
  },
  {
   "cell_type": "code",
   "execution_count": 28,
   "metadata": {},
   "outputs": [
    {
     "name": "stdout",
     "output_type": "stream",
     "text": [
      "1010\n"
     ]
    }
   ],
   "source": [
    "number = 10\n",
    "# int to string\n",
    "number_str = str(number)\n",
    "print(number_str * 2) # what is the output?"
   ]
  },
  {
   "cell_type": "code",
   "execution_count": 29,
   "metadata": {},
   "outputs": [
    {
     "ename": "ValueError",
     "evalue": "invalid literal for int() with base 10: 'Ten'",
     "output_type": "error",
     "traceback": [
      "\u001b[1;31m---------------------------------------------------------------------------\u001b[0m",
      "\u001b[1;31mValueError\u001b[0m                                Traceback (most recent call last)",
      "Input \u001b[1;32mIn [29]\u001b[0m, in \u001b[0;36m<cell line: 3>\u001b[1;34m()\u001b[0m\n\u001b[0;32m      1\u001b[0m text \u001b[38;5;241m=\u001b[39m \u001b[38;5;124m'\u001b[39m\u001b[38;5;124mTen\u001b[39m\u001b[38;5;124m'\u001b[39m\n\u001b[0;32m      2\u001b[0m \u001b[38;5;66;03m# string to int\u001b[39;00m\n\u001b[1;32m----> 3\u001b[0m magic \u001b[38;5;241m=\u001b[39m \u001b[38;5;28;43mint\u001b[39;49m\u001b[43m(\u001b[49m\u001b[43mtext\u001b[49m\u001b[43m)\u001b[49m \n\u001b[0;32m      4\u001b[0m \u001b[38;5;28mprint\u001b[39m(magic)\n",
      "\u001b[1;31mValueError\u001b[0m: invalid literal for int() with base 10: 'Ten'"
     ]
    }
   ],
   "source": [
    "text = 'Ten'\n",
    "# string to int\n",
    "magic = int(text) \n",
    "print(magic) # what is the output?"
   ]
  },
  {
   "cell_type": "code",
   "execution_count": 30,
   "metadata": {},
   "outputs": [
    {
     "name": "stdout",
     "output_type": "stream",
     "text": [
      "15\n"
     ]
    }
   ],
   "source": [
    "# string to int\n",
    "number_as_text = '10'\n",
    "\n",
    "real_magic = int(number_as_text) \n",
    "print(real_magic + 5) # what is the output?"
   ]
  },
  {
   "cell_type": "code",
   "execution_count": 31,
   "metadata": {},
   "outputs": [
    {
     "name": "stdout",
     "output_type": "stream",
     "text": [
      "4.2\n"
     ]
    }
   ],
   "source": [
    "float_as_text = '4.2'\n",
    "# string to float\n",
    "magic_float = float(float_as_text) \n",
    "print(magic_float) # what is the output?"
   ]
  },
  {
   "cell_type": "markdown",
   "metadata": {},
   "source": [
    "# Booleans"
   ]
  },
  {
   "cell_type": "code",
   "execution_count": 32,
   "metadata": {
    "pycharm": {
     "is_executing": false,
     "name": "#%%\n"
    }
   },
   "outputs": [
    {
     "name": "stdout",
     "output_type": "stream",
     "text": [
      "True\n"
     ]
    }
   ],
   "source": [
    "number_one = 10\n",
    "number_two = 5\n",
    "my_first_bool = number_two < number_one\n",
    "print(my_first_bool)"
   ]
  },
  {
   "cell_type": "code",
   "execution_count": 33,
   "metadata": {
    "pycharm": {
     "is_executing": false,
     "name": "#%%\n"
    }
   },
   "outputs": [
    {
     "name": "stdout",
     "output_type": "stream",
     "text": [
      "False\n"
     ]
    }
   ],
   "source": [
    "number_one = 10\n",
    "number_two = 5\n",
    "my_second_bool = number_two > number_one\n",
    "print(my_second_bool)"
   ]
  },
  {
   "cell_type": "code",
   "execution_count": 34,
   "metadata": {
    "pycharm": {
     "is_executing": false,
     "name": "#%%\n"
    }
   },
   "outputs": [
    {
     "name": "stdout",
     "output_type": "stream",
     "text": [
      "False\n"
     ]
    }
   ],
   "source": [
    "my_third_bool = True and False\n",
    "print(my_third_bool)"
   ]
  },
  {
   "cell_type": "code",
   "execution_count": 35,
   "metadata": {
    "pycharm": {
     "is_executing": false,
     "name": "#%%\n"
    }
   },
   "outputs": [
    {
     "name": "stdout",
     "output_type": "stream",
     "text": [
      "False\n"
     ]
    }
   ],
   "source": [
    "is_october = True\n",
    "is_raining = False\n",
    "is_sick = True\n",
    "statement_true = is_october and is_raining and is_sick\n",
    "print(statement_true)"
   ]
  },
  {
   "cell_type": "markdown",
   "metadata": {},
   "source": [
    "# Operator precedence"
   ]
  },
  {
   "cell_type": "code",
   "execution_count": 36,
   "metadata": {
    "pycharm": {
     "is_executing": false,
     "name": "#%%\n"
    }
   },
   "outputs": [
    {
     "name": "stdout",
     "output_type": "stream",
     "text": [
      "90.0 == 50.0 ?\n"
     ]
    }
   ],
   "source": [
    "a = 20\n",
    "b = 10\n",
    "c = 15\n",
    "d = 5\n",
    "e1 = (a + b) * (c / d)\n",
    "e2 = a + (b * c) / d\n",
    "print(e1, '==', e2, '?')"
   ]
  },
  {
   "cell_type": "code",
   "execution_count": 37,
   "metadata": {
    "pycharm": {
     "is_executing": false,
     "name": "#%%\n"
    },
    "scrolled": true
   },
   "outputs": [
    {
     "name": "stdout",
     "output_type": "stream",
     "text": [
      "16.0\n"
     ]
    }
   ],
   "source": [
    "print(8 / 2 * (2 + 2))"
   ]
  },
  {
   "cell_type": "markdown",
   "metadata": {},
   "source": [
    "# Flow control: if-Statements"
   ]
  },
  {
   "cell_type": "markdown",
   "metadata": {},
   "source": [
    "### Basics"
   ]
  },
  {
   "cell_type": "code",
   "execution_count": 38,
   "metadata": {},
   "outputs": [
    {
     "name": "stdout",
     "output_type": "stream",
     "text": [
      "Peter is older than Max!\n"
     ]
    }
   ],
   "source": [
    "age_max = 35\n",
    "age_peter = 42\n",
    "\n",
    "if age_max < age_peter:\n",
    "    print('Peter is older than Max!') # what is the output?"
   ]
  },
  {
   "cell_type": "code",
   "execution_count": 39,
   "metadata": {},
   "outputs": [
    {
     "name": "stdout",
     "output_type": "stream",
     "text": [
      "True\n",
      "Peter is older than Max!\n"
     ]
    }
   ],
   "source": [
    "age_max = 35\n",
    "age_peter = 42\n",
    "\n",
    "is_older = age_max < age_peter\n",
    "print(is_older) # which datatype? what is the output?\n",
    "if is_older:\n",
    "    print('Peter is older than Max!') # what is the output?"
   ]
  },
  {
   "cell_type": "code",
   "execution_count": 40,
   "metadata": {},
   "outputs": [
    {
     "name": "stdout",
     "output_type": "stream",
     "text": [
      "Peter is older than Max!\n"
     ]
    }
   ],
   "source": [
    "age_max = 35\n",
    "age_peter = 42\n",
    "\n",
    "if age_max < age_peter:\n",
    "    print('Peter is older than Max!') # what is the output?\n",
    "else: # what would happen without this? what would happen without indendation?\n",
    "    print('Max is at least as old as Peter')"
   ]
  },
  {
   "cell_type": "markdown",
   "metadata": {},
   "source": [
    "### Nested if-else and if-elif-else statements"
   ]
  },
  {
   "cell_type": "code",
   "execution_count": 41,
   "metadata": {},
   "outputs": [
    {
     "name": "stdout",
     "output_type": "stream",
     "text": [
      "Max is the youngest!\n"
     ]
    }
   ],
   "source": [
    "# Nesting of ifs\n",
    "age_max = 35\n",
    "age_peter = 42\n",
    "age_berta = 37\n",
    "\n",
    "if age_max < age_peter:\n",
    "    if age_berta < age_max:\n",
    "        print('Berta is the youngest!')\n",
    "    else:\n",
    "        print('Max is the youngest!')\n",
    "else:\n",
    "    if age_berta < age_peter:\n",
    "        print('Berta is the youngest!')\n",
    "    else:\n",
    "        print('Peter is the youngest!')"
   ]
  },
  {
   "cell_type": "code",
   "execution_count": 42,
   "metadata": {},
   "outputs": [
    {
     "name": "stdout",
     "output_type": "stream",
     "text": [
      "Max is younger than Peter!\n"
     ]
    }
   ],
   "source": [
    "age_max = 35\n",
    "age_peter = 42\n",
    "age_berta = 37\n",
    "# what is the output?\n",
    "if age_max < age_peter:\n",
    "     print('Max is younger than Peter!')\n",
    "elif age_max < age_berta:\n",
    "     print('Max is younger than Berta!')\n",
    "else:\n",
    "     print('Max is pretty old...')"
   ]
  },
  {
   "cell_type": "code",
   "execution_count": 43,
   "metadata": {},
   "outputs": [
    {
     "name": "stdout",
     "output_type": "stream",
     "text": [
      "Max is younger than Peter!\n",
      "Max is younger than Berta!\n"
     ]
    }
   ],
   "source": [
    "age_max = 35\n",
    "age_peter = 42\n",
    "age_berta = 37\n",
    "# what is the output?\n",
    "if age_max < age_peter:\n",
    "     print('Max is younger than Peter!')\n",
    "if age_max < age_berta: # notice the difference? what happened here?\n",
    "     print('Max is younger than Berta!')\n",
    "else:\n",
    "     print('Max is pretty old...')"
   ]
  },
  {
   "cell_type": "markdown",
   "metadata": {},
   "source": [
    "### Indentation is important!"
   ]
  },
  {
   "cell_type": "code",
   "execution_count": 45,
   "metadata": {},
   "outputs": [
    {
     "ename": "IndentationError",
     "evalue": "expected an indented block (<ipython-input-45-fc88f6f016ee>, line 4)",
     "output_type": "error",
     "traceback": [
      "\u001b[0;36m  File \u001b[0;32m\"<ipython-input-45-fc88f6f016ee>\"\u001b[0;36m, line \u001b[0;32m4\u001b[0m\n\u001b[0;31m    print('Max is younger than Peter!')\u001b[0m\n\u001b[0m    ^\u001b[0m\n\u001b[0;31mIndentationError\u001b[0m\u001b[0;31m:\u001b[0m expected an indented block\n"
     ]
    }
   ],
   "source": [
    "age_max = 35\n",
    "age_peter = 42\n",
    "if age_max < age_peter:\n",
    "print('Max is younger than Peter!')"
   ]
  },
  {
   "cell_type": "code",
   "execution_count": 46,
   "metadata": {},
   "outputs": [
    {
     "name": "stdout",
     "output_type": "stream",
     "text": [
      "You cannot enter.\n",
      "You are too young.\n",
      "Next, please!\n"
     ]
    }
   ],
   "source": [
    "age = 15\n",
    "if age < 18:\n",
    "    print('You cannot enter.')\n",
    "    print('You are too young.')\n",
    "print('Next, please!')"
   ]
  },
  {
   "cell_type": "code",
   "execution_count": 47,
   "metadata": {},
   "outputs": [
    {
     "name": "stdout",
     "output_type": "stream",
     "text": [
      "You are too young.\n",
      "Next, please!\n"
     ]
    }
   ],
   "source": [
    "age = 20\n",
    "if age < 18:\n",
    "    print('You cannot enter.')\n",
    "print('You are too young.')\n",
    "print('Next, please!')"
   ]
  },
  {
   "cell_type": "code",
   "execution_count": null,
   "metadata": {},
   "outputs": [],
   "source": []
  }
 ],
 "metadata": {
  "kernelspec": {
   "display_name": "Python 3 (ipykernel)",
   "language": "python",
   "name": "python3"
  },
  "language_info": {
   "codemirror_mode": {
    "name": "ipython",
    "version": 3
   },
   "file_extension": ".py",
   "mimetype": "text/x-python",
   "name": "python",
   "nbconvert_exporter": "python",
   "pygments_lexer": "ipython3",
   "version": "3.10.4"
  },
  "pycharm": {
   "stem_cell": {
    "cell_type": "raw",
    "metadata": {
     "collapsed": false
    },
    "source": []
   }
  }
 },
 "nbformat": 4,
 "nbformat_minor": 4
}
