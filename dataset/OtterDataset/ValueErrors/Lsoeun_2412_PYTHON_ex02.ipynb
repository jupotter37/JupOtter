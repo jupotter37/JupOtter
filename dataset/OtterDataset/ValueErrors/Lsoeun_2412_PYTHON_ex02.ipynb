{
 "cells": [
  {
   "cell_type": "markdown",
   "metadata": {},
   "source": [
    "# try-except 구문\n",
    "- try-except 구문은 예외 상황을 처리하는 데 가장 기본적으로 사용되는 구문\n",
    "- try 블록에는 예외가 발생할 가능성이 있는 코드를 작성\n",
    "- try 블록에서 예외가 발생하면, 해당 예외는 자동으로 except 블록으로 전달되어 처리\n",
    "- except 블록에는 예외가 발생했을 때 수행해야 할 코드를 작성\n",
    "- 만약 try 블록에서 오류가 발생하지 않으면 except 블록은 수행되지 않음"
   ]
  },
  {
   "cell_type": "code",
   "execution_count": 3,
   "metadata": {},
   "outputs": [
    {
     "name": "stdout",
     "output_type": "stream",
     "text": [
      "예외가 발생했습니다.\n"
     ]
    }
   ],
   "source": [
    "# try-except\n",
    "try:\n",
    "  num1 = int(input(\"첫 번째 정수를 입력하세요: \"))\n",
    "  num2 = int(input(\"두 번째 정수를 입력하세요: \"))\n",
    "  print(\"num1 나누기 num2의 결과는\", num1 / num2, \"입니다.\")\n",
    "except:\n",
    "  print(\"예외가 발생했습니다.\")\n",
    "  \n",
    "# try-except 구문은 예외가 발생하면 except 블록을 실행하도록 지정되어 있음\n",
    "# try 구문에서 예외가 발생할 코드를 입력하면, except 블록에 작성된 \"예외가 발생했습니다.\"메세지가 출력됨\n",
    "# try-except 구문을 사용하여 예외를 처리하면, 어떤 예외가 발생하더라도 에러 메세지가 출력되지 않고 개발자가 원하는 대로 예외를 처리할 수 있음"
   ]
  },
  {
   "cell_type": "markdown",
   "metadata": {},
   "source": [
    "# try-except 발생예외\n",
    "- 기본적인 try-except 구문만으로는 모든 예외 상황을 만족스럽게 처리하기 어려움\n",
    "- 모든 예외에 대해 동일한 처리 방식을 적용하면, 어떤 예외가 발생했는지 명확하게 알리지 못하고, 문제 해결을 위한 단서도 제공할 수 없음\n",
    "- 개발자 입장에서도 예외의 원인을 파악하고 문제를 해결하기 어려움\n",
    "- 따라서 예외에 따라 구체적인 메세지를 제공하는 것이 중요 "
   ]
  },
  {
   "cell_type": "code",
   "execution_count": 6,
   "metadata": {},
   "outputs": [
    {
     "name": "stdout",
     "output_type": "stream",
     "text": [
      "입력값 예외가 발생했습니다.\n"
     ]
    }
   ],
   "source": [
    "# try-except 발생예외\n",
    "try:\n",
    "  num1 = int(input(\"첫 번째 정수를 입력하세요: \"))\n",
    "  num2 = int(input(\"두 번째 정수를 입력하세요: \"))\n",
    "  print(\"num1 나누기 num2의 결과는\", num1 / num2, \"입니다.\")\n",
    "except ArithmeticError:\n",
    "  print(\"산술 연산 예외가 발생했습니다.\")\n",
    "except ValueError:\n",
    "  print(\"입력값 예외가 발생했습니다.\")"
   ]
  },
  {
   "cell_type": "code",
   "execution_count": 7,
   "metadata": {},
   "outputs": [
    {
     "name": "stdout",
     "output_type": "stream",
     "text": [
      "인덱스 범위를 벗어났습니다.\n"
     ]
    }
   ],
   "source": [
    "# 인덱스 관련 예외 처리\n",
    "try:\n",
    "  list = [1, 2, 3, 4]\n",
    "  print(list[5])\n",
    "except IndexError:\n",
    "  print(\"인덱스 범위를 벗어났습니다.\")"
   ]
  },
  {
   "cell_type": "markdown",
   "metadata": {},
   "source": [
    "# try-except 발생예외 as 예외변수\n",
    "- 파이썬은 우리가 어떤 예외를 만나게 되었는지, 발생한 예외에 대한 기본 메세지를 함께 제공\n",
    "- 파이썬은 as 절을 사용하여 예외 객체를 변수에 저장할 수 있도록 함\n",
    "- 예외 객체는 예외 발생 시점, 예외 종류, 예외 메세지 등 다양한 정보가 포함되어 있음\n",
    "- except 블록 뒤에 as 키워드와 변수 이름을 작성하면 예외 객체가 해당 변수에 저장"
   ]
  },
  {
   "cell_type": "code",
   "execution_count": null,
   "metadata": {},
   "outputs": [
    {
     "name": "stdout",
     "output_type": "stream",
     "text": [
      "입력값 예외가 발생했습니다.\n",
      "상세 메세지는 invalid literal for int() with base 10: 'ㄹ' 입니다.\n"
     ]
    }
   ],
   "source": [
    "# try-except 발생예외 as 예외변수\n",
    "try:\n",
    "  num1 = int(input(\"첫 번째 정수를 입력하세요: \"))\n",
    "  num2 = int(input(\"두 번째 정수를 입력하세요: \"))\n",
    "  print(\"num1 나누기 num2의 결과는\", num1 / num2, \"입니다.\")\n",
    "except ArithmeticError as e: # e 변수에 예외 객체를 저장\n",
    "  print(\"산술 연산 예외가 발생했습니다.\")\n",
    "  print(\"상세 메세지는\", e, \"입니다.\") # 예외 객체의 메세지를 출력\n",
    "except ValueError as e: # e 변수에 예외 객체를 저장\n",
    "  print(\"입력값 예외가 발생했습니다.\")\n",
    "  print(\"상세 메세지는\", e, \"입니다.\") # 예외 객체의 메세지를 출력\n",
    "  \n",
    "# as절을 사용하여 예외 객체를 변수에 저장하면 예외에 대한 자세한 정보를 확인하고, 문제 해결에 도움이 되는 코드를 작성할 수 있음"
   ]
  }
 ],
 "metadata": {
  "kernelspec": {
   "display_name": "Python 3",
   "language": "python",
   "name": "python3"
  },
  "language_info": {
   "codemirror_mode": {
    "name": "ipython",
    "version": 3
   },
   "file_extension": ".py",
   "mimetype": "text/x-python",
   "name": "python",
   "nbconvert_exporter": "python",
   "pygments_lexer": "ipython3",
   "version": "3.13.0"
  }
 },
 "nbformat": 4,
 "nbformat_minor": 2
}
