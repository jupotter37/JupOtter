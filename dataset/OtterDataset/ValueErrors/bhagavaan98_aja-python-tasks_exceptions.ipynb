{
 "cells": [
  {
   "cell_type": "code",
   "execution_count": 1,
   "id": "076012ec",
   "metadata": {},
   "outputs": [
    {
     "ename": "SyntaxError",
     "evalue": "unterminated string literal (detected at line 3) (2291910701.py, line 3)",
     "output_type": "error",
     "traceback": [
      "\u001b[1;36m  Cell \u001b[1;32mIn[1], line 3\u001b[1;36m\u001b[0m\n\u001b[1;33m    print(\"3)\u001b[0m\n\u001b[1;37m          ^\u001b[0m\n\u001b[1;31mSyntaxError\u001b[0m\u001b[1;31m:\u001b[0m unterminated string literal (detected at line 3)\n"
     ]
    }
   ],
   "source": [
    "print(\"1\")\n",
    "print(\"2\")\n",
    "print(\"3)\n",
    "print(\"4\")\n",
    "#compile the code, execute code"
   ]
  },
  {
   "cell_type": "code",
   "execution_count": 2,
   "id": "6f0db330",
   "metadata": {},
   "outputs": [
    {
     "name": "stdout",
     "output_type": "stream",
     "text": [
      "1\n",
      "2\n"
     ]
    },
    {
     "ename": "ZeroDivisionError",
     "evalue": "division by zero",
     "output_type": "error",
     "traceback": [
      "\u001b[1;31m---------------------------------------------------------------------------\u001b[0m",
      "\u001b[1;31mZeroDivisionError\u001b[0m                         Traceback (most recent call last)",
      "Cell \u001b[1;32mIn[2], line 3\u001b[0m\n\u001b[0;32m      1\u001b[0m \u001b[38;5;28mprint\u001b[39m(\u001b[38;5;124m\"\u001b[39m\u001b[38;5;124m1\u001b[39m\u001b[38;5;124m\"\u001b[39m)\n\u001b[0;32m      2\u001b[0m \u001b[38;5;28mprint\u001b[39m(\u001b[38;5;124m\"\u001b[39m\u001b[38;5;124m2\u001b[39m\u001b[38;5;124m\"\u001b[39m)\n\u001b[1;32m----> 3\u001b[0m \u001b[38;5;28mprint\u001b[39m(\u001b[38;5;241m1\u001b[39m\u001b[38;5;241m/\u001b[39m\u001b[38;5;241m0\u001b[39m)\n\u001b[0;32m      4\u001b[0m \u001b[38;5;28mprint\u001b[39m(\u001b[38;5;124m\"\u001b[39m\u001b[38;5;124m4\u001b[39m\u001b[38;5;124m\"\u001b[39m)\n",
      "\u001b[1;31mZeroDivisionError\u001b[0m: division by zero"
     ]
    }
   ],
   "source": [
    "print(\"1\")\n",
    "print(\"2\")\n",
    "print(1/0)\n",
    "print(\"4\")\n",
    "#compile the code, execute code"
   ]
  },
  {
   "cell_type": "code",
   "execution_count": 3,
   "id": "e4af4e65",
   "metadata": {},
   "outputs": [
    {
     "name": "stdout",
     "output_type": "stream",
     "text": [
      "1\n",
      "2\n",
      "error\n",
      "4\n"
     ]
    }
   ],
   "source": [
    "print(\"1\")\n",
    "print(\"2\")\n",
    "try:\n",
    "    print(1/0)\n",
    "except:\n",
    "    print(\"error\")\n",
    "print(\"4\")\n",
    "#compile the code, execute code"
   ]
  },
  {
   "cell_type": "code",
   "execution_count": 4,
   "id": "03fce43e",
   "metadata": {},
   "outputs": [
    {
     "name": "stdout",
     "output_type": "stream",
     "text": [
      "1\n",
      "2\n",
      "error\n",
      "4\n"
     ]
    }
   ],
   "source": [
    "print(\"1\")\n",
    "print(\"2\")\n",
    "try:\n",
    "    print(1/0) # raise ZeroDivisionError()\n",
    "except Exception as err:\n",
    "    print(\"error\")\n",
    "print(\"4\")\n",
    "#compile the code, execute code"
   ]
  },
  {
   "cell_type": "code",
   "execution_count": 5,
   "id": "558d0d05",
   "metadata": {},
   "outputs": [
    {
     "name": "stdout",
     "output_type": "stream",
     "text": [
      "1\n",
      "2\n",
      "error\n",
      "division by zero\n",
      "4\n"
     ]
    }
   ],
   "source": [
    "print(\"1\")\n",
    "print(\"2\")\n",
    "try:\n",
    "    print(1/0) # raise ZeroDivisionError()\n",
    "except Exception as err:\n",
    "    print(\"error\")\n",
    "    print(err)\n",
    "print(\"4\")\n",
    "#compile the code, execute code"
   ]
  },
  {
   "cell_type": "code",
   "execution_count": 6,
   "id": "6f4b2469",
   "metadata": {},
   "outputs": [
    {
     "name": "stdout",
     "output_type": "stream",
     "text": [
      "1\n",
      "2\n",
      "error\n",
      "division by zero <class 'ZeroDivisionError'>\n",
      "4\n"
     ]
    }
   ],
   "source": [
    "print(\"1\")\n",
    "print(\"2\")\n",
    "try:\n",
    "    print(1/0) # raise ZeroDivisionError()\n",
    "except Exception as err:\n",
    "    print(\"error\")\n",
    "    print(err, type(err))\n",
    "print(\"4\")\n",
    "#compile the code, execute code"
   ]
  },
  {
   "cell_type": "code",
   "execution_count": 7,
   "id": "2c7c07a3",
   "metadata": {},
   "outputs": [
    {
     "name": "stdout",
     "output_type": "stream",
     "text": [
      "hello\n",
      "Exception block\n",
      "done\n"
     ]
    }
   ],
   "source": [
    "from time import sleep\n",
    "print(\"hello\")\n",
    "try:\n",
    "    sleep(2)\n",
    "    print(1/0)# ptyon virtual machine\n",
    "except Exception as err:\n",
    "    print(\"Exception block\")\n",
    "except:\n",
    "    print(\"except block\")\n",
    "print(\"done\")"
   ]
  },
  {
   "cell_type": "code",
   "execution_count": 8,
   "id": "7945c3cf",
   "metadata": {},
   "outputs": [
    {
     "name": "stdout",
     "output_type": "stream",
     "text": [
      "hello\n",
      "except block\n",
      "done\n"
     ]
    }
   ],
   "source": [
    "from time import sleep\n",
    "print(\"hello\")\n",
    "try:\n",
    "    sleep(10)\n",
    "    #raising an exception from os end by terminating the process, ctrl+c\n",
    "    print(1/0)# ptyon virtual machine\n",
    "except Exception as err:\n",
    "    print(\"Exception block\")\n",
    "except:\n",
    "    print(\"except block\")\n",
    "print(\"done\")"
   ]
  },
  {
   "cell_type": "code",
   "execution_count": 2,
   "id": "460f30aa",
   "metadata": {},
   "outputs": [
    {
     "name": "stdout",
     "output_type": "stream",
     "text": [
      "Enter a value:1\n",
      "Enter b value:2\n",
      "Given a=1,b=2\n",
      "converted a=1,b=2\n",
      "res a=0.5\n"
     ]
    }
   ],
   "source": [
    "# which code do I need to write in try block?\n",
    "a=input(\"Enter a value:\")\n",
    "b=input(\"Enter b value:\")\n",
    "print(f\"Given a={a},b={b}\")\n",
    "a=int(a)\n",
    "b=int(b)\n",
    "print(f\"converted a={a},b={b}\")\n",
    "res=a/b\n",
    "print(f\"res a={res}\")"
   ]
  },
  {
   "cell_type": "code",
   "execution_count": 3,
   "id": "9a5e3d61",
   "metadata": {},
   "outputs": [
    {
     "name": "stdout",
     "output_type": "stream",
     "text": [
      "Enter a value:1\n",
      "Enter b value:2.3\n",
      "Given a=1,b=2.3\n"
     ]
    },
    {
     "ename": "ValueError",
     "evalue": "invalid literal for int() with base 10: '2.3'",
     "output_type": "error",
     "traceback": [
      "\u001b[1;31m---------------------------------------------------------------------------\u001b[0m",
      "\u001b[1;31mValueError\u001b[0m                                Traceback (most recent call last)",
      "Cell \u001b[1;32mIn[3], line 6\u001b[0m\n\u001b[0;32m      4\u001b[0m \u001b[38;5;28mprint\u001b[39m(\u001b[38;5;124mf\u001b[39m\u001b[38;5;124m\"\u001b[39m\u001b[38;5;124mGiven a=\u001b[39m\u001b[38;5;132;01m{\u001b[39;00ma\u001b[38;5;132;01m}\u001b[39;00m\u001b[38;5;124m,b=\u001b[39m\u001b[38;5;132;01m{\u001b[39;00mb\u001b[38;5;132;01m}\u001b[39;00m\u001b[38;5;124m\"\u001b[39m)\n\u001b[0;32m      5\u001b[0m a\u001b[38;5;241m=\u001b[39m\u001b[38;5;28mint\u001b[39m(a)\n\u001b[1;32m----> 6\u001b[0m b\u001b[38;5;241m=\u001b[39m\u001b[38;5;28mint\u001b[39m(b)\n\u001b[0;32m      7\u001b[0m \u001b[38;5;28mprint\u001b[39m(\u001b[38;5;124mf\u001b[39m\u001b[38;5;124m\"\u001b[39m\u001b[38;5;124mconverted a=\u001b[39m\u001b[38;5;132;01m{\u001b[39;00ma\u001b[38;5;132;01m}\u001b[39;00m\u001b[38;5;124m,b=\u001b[39m\u001b[38;5;132;01m{\u001b[39;00mb\u001b[38;5;132;01m}\u001b[39;00m\u001b[38;5;124m\"\u001b[39m)\n\u001b[0;32m      8\u001b[0m res\u001b[38;5;241m=\u001b[39ma\u001b[38;5;241m/\u001b[39mb\n",
      "\u001b[1;31mValueError\u001b[0m: invalid literal for int() with base 10: '2.3'"
     ]
    }
   ],
   "source": [
    "# which code do I need to write in try block?\n",
    "a=input(\"Enter a value:\")\n",
    "b=input(\"Enter b value:\")\n",
    "print(f\"Given a={a},b={b}\")\n",
    "a=int(a)\n",
    "b=int(b)\n",
    "print(f\"converted a={a},b={b}\")\n",
    "res=a/b\n",
    "print(f\"res a={res}\")"
   ]
  },
  {
   "cell_type": "code",
   "execution_count": 4,
   "id": "15dc1c5e",
   "metadata": {},
   "outputs": [
    {
     "data": {
      "text/plain": [
       "2"
      ]
     },
     "execution_count": 4,
     "metadata": {},
     "output_type": "execute_result"
    }
   ],
   "source": [
    "int(2.3)"
   ]
  },
  {
   "cell_type": "code",
   "execution_count": 5,
   "id": "ea70601e",
   "metadata": {},
   "outputs": [
    {
     "ename": "ValueError",
     "evalue": "invalid literal for int() with base 10: '2.3'",
     "output_type": "error",
     "traceback": [
      "\u001b[1;31m---------------------------------------------------------------------------\u001b[0m",
      "\u001b[1;31mValueError\u001b[0m                                Traceback (most recent call last)",
      "Cell \u001b[1;32mIn[5], line 1\u001b[0m\n\u001b[1;32m----> 1\u001b[0m \u001b[38;5;28mint\u001b[39m(\u001b[38;5;124m\"\u001b[39m\u001b[38;5;124m2.3\u001b[39m\u001b[38;5;124m\"\u001b[39m)\n",
      "\u001b[1;31mValueError\u001b[0m: invalid literal for int() with base 10: '2.3'"
     ]
    }
   ],
   "source": [
    "int(\"2.3\")"
   ]
  },
  {
   "cell_type": "code",
   "execution_count": 6,
   "id": "7575d64b",
   "metadata": {},
   "outputs": [
    {
     "data": {
      "text/plain": [
       "2.3"
      ]
     },
     "execution_count": 6,
     "metadata": {},
     "output_type": "execute_result"
    }
   ],
   "source": [
    "float(\"2.3\")"
   ]
  },
  {
   "cell_type": "code",
   "execution_count": 7,
   "id": "96fa592c",
   "metadata": {},
   "outputs": [
    {
     "name": "stdout",
     "output_type": "stream",
     "text": [
      "Enter a value:1\n",
      "Enter b value:2.3\n",
      "Given a=1,b=2.3\n",
      "converted a=1.0,b=2.3\n",
      "res a=0.4347826086956522\n"
     ]
    }
   ],
   "source": [
    "# which code do I need to write in try block?\n",
    "a=input(\"Enter a value:\")\n",
    "b=input(\"Enter b value:\")\n",
    "print(f\"Given a={a},b={b}\")\n",
    "a=float(a)\n",
    "b=float(b)\n",
    "print(f\"converted a={a},b={b}\")\n",
    "res=a/b\n",
    "print(f\"res a={res}\")"
   ]
  },
  {
   "cell_type": "code",
   "execution_count": 8,
   "id": "3e1e377f",
   "metadata": {},
   "outputs": [
    {
     "name": "stdout",
     "output_type": "stream",
     "text": [
      "Enter a value:1\n",
      "Enter b value:2\n",
      "Given a=1,b=2\n",
      "converted a=1.0,b=2.0\n",
      "res a=0.5\n"
     ]
    }
   ],
   "source": [
    "# which code do I need to write in try block?\n",
    "a=input(\"Enter a value:\")\n",
    "b=input(\"Enter b value:\")\n",
    "print(f\"Given a={a},b={b}\")\n",
    "a=float(a)\n",
    "b=float(b)\n",
    "print(f\"converted a={a},b={b}\")\n",
    "res=a/b\n",
    "print(f\"res a={res}\")"
   ]
  },
  {
   "cell_type": "code",
   "execution_count": 9,
   "id": "ed928da0",
   "metadata": {},
   "outputs": [
    {
     "name": "stdout",
     "output_type": "stream",
     "text": [
      "Enter a value:1\n",
      "Enter b value:sd\n",
      "Given a=1,b=sd\n"
     ]
    },
    {
     "ename": "ValueError",
     "evalue": "could not convert string to float: 'sd'",
     "output_type": "error",
     "traceback": [
      "\u001b[1;31m---------------------------------------------------------------------------\u001b[0m",
      "\u001b[1;31mValueError\u001b[0m                                Traceback (most recent call last)",
      "Cell \u001b[1;32mIn[9], line 6\u001b[0m\n\u001b[0;32m      4\u001b[0m \u001b[38;5;28mprint\u001b[39m(\u001b[38;5;124mf\u001b[39m\u001b[38;5;124m\"\u001b[39m\u001b[38;5;124mGiven a=\u001b[39m\u001b[38;5;132;01m{\u001b[39;00ma\u001b[38;5;132;01m}\u001b[39;00m\u001b[38;5;124m,b=\u001b[39m\u001b[38;5;132;01m{\u001b[39;00mb\u001b[38;5;132;01m}\u001b[39;00m\u001b[38;5;124m\"\u001b[39m)\n\u001b[0;32m      5\u001b[0m a\u001b[38;5;241m=\u001b[39m\u001b[38;5;28mfloat\u001b[39m(a)\n\u001b[1;32m----> 6\u001b[0m b\u001b[38;5;241m=\u001b[39m\u001b[38;5;28mfloat\u001b[39m(b)\n\u001b[0;32m      7\u001b[0m \u001b[38;5;28mprint\u001b[39m(\u001b[38;5;124mf\u001b[39m\u001b[38;5;124m\"\u001b[39m\u001b[38;5;124mconverted a=\u001b[39m\u001b[38;5;132;01m{\u001b[39;00ma\u001b[38;5;132;01m}\u001b[39;00m\u001b[38;5;124m,b=\u001b[39m\u001b[38;5;132;01m{\u001b[39;00mb\u001b[38;5;132;01m}\u001b[39;00m\u001b[38;5;124m\"\u001b[39m)\n\u001b[0;32m      8\u001b[0m res\u001b[38;5;241m=\u001b[39ma\u001b[38;5;241m/\u001b[39mb\n",
      "\u001b[1;31mValueError\u001b[0m: could not convert string to float: 'sd'"
     ]
    }
   ],
   "source": [
    "# which code do I need to write in try block?\n",
    "a=input(\"Enter a value:\")\n",
    "b=input(\"Enter b value:\")\n",
    "print(f\"Given a={a},b={b}\")\n",
    "a=float(a)\n",
    "b=float(b)\n",
    "print(f\"converted a={a},b={b}\")\n",
    "res=a/b\n",
    "print(f\"res a={res}\")"
   ]
  },
  {
   "cell_type": "code",
   "execution_count": null,
   "id": "187ef64a",
   "metadata": {},
   "outputs": [],
   "source": [
    "# which code do I need to write in try block?\n",
    "a=input(\"Enter a value:\")\n",
    "b=input(\"Enter b value:\")\n",
    "print(f\"Given a={a},b={b}\")\n",
    "try:\n",
    "    a=float(a)\n",
    "    b=float(b)\n",
    "    print(f\"converted a={a},b={b}\")\n",
    "    res=a/b\n",
    "    print(f\"res a={res}\")\n",
    "except ValueError as err:\n",
    "    print(\"\")\n",
    "except ZeroDivisionError as err:\n",
    "    print(\"\")\n",
    "except Exception as err:\n",
    "    print(err)\n",
    "except:\n",
    "    print(\"err\")"
   ]
  },
  {
   "cell_type": "code",
   "execution_count": 10,
   "id": "115ef209",
   "metadata": {},
   "outputs": [
    {
     "ename": "FileNotFoundError",
     "evalue": "[Errno 2] No such file or directory: 'file.txt'",
     "output_type": "error",
     "traceback": [
      "\u001b[1;31m---------------------------------------------------------------------------\u001b[0m",
      "\u001b[1;31mFileNotFoundError\u001b[0m                         Traceback (most recent call last)",
      "Cell \u001b[1;32mIn[10], line 1\u001b[0m\n\u001b[1;32m----> 1\u001b[0m f\u001b[38;5;241m=\u001b[39m\u001b[38;5;28mopen\u001b[39m(\u001b[38;5;124m\"\u001b[39m\u001b[38;5;124mfile.txt\u001b[39m\u001b[38;5;124m\"\u001b[39m,\u001b[38;5;124m\"\u001b[39m\u001b[38;5;124mr\u001b[39m\u001b[38;5;124m\"\u001b[39m)\n",
      "File \u001b[1;32m~\\anaconda3\\Lib\\site-packages\\IPython\\core\\interactiveshell.py:286\u001b[0m, in \u001b[0;36m_modified_open\u001b[1;34m(file, *args, **kwargs)\u001b[0m\n\u001b[0;32m    279\u001b[0m \u001b[38;5;28;01mif\u001b[39;00m file \u001b[38;5;129;01min\u001b[39;00m {\u001b[38;5;241m0\u001b[39m, \u001b[38;5;241m1\u001b[39m, \u001b[38;5;241m2\u001b[39m}:\n\u001b[0;32m    280\u001b[0m     \u001b[38;5;28;01mraise\u001b[39;00m \u001b[38;5;167;01mValueError\u001b[39;00m(\n\u001b[0;32m    281\u001b[0m         \u001b[38;5;124mf\u001b[39m\u001b[38;5;124m\"\u001b[39m\u001b[38;5;124mIPython won\u001b[39m\u001b[38;5;124m'\u001b[39m\u001b[38;5;124mt let you open fd=\u001b[39m\u001b[38;5;132;01m{\u001b[39;00mfile\u001b[38;5;132;01m}\u001b[39;00m\u001b[38;5;124m by default \u001b[39m\u001b[38;5;124m\"\u001b[39m\n\u001b[0;32m    282\u001b[0m         \u001b[38;5;124m\"\u001b[39m\u001b[38;5;124mas it is likely to crash IPython. If you know what you are doing, \u001b[39m\u001b[38;5;124m\"\u001b[39m\n\u001b[0;32m    283\u001b[0m         \u001b[38;5;124m\"\u001b[39m\u001b[38;5;124myou can use builtins\u001b[39m\u001b[38;5;124m'\u001b[39m\u001b[38;5;124m open.\u001b[39m\u001b[38;5;124m\"\u001b[39m\n\u001b[0;32m    284\u001b[0m     )\n\u001b[1;32m--> 286\u001b[0m \u001b[38;5;28;01mreturn\u001b[39;00m io_open(file, \u001b[38;5;241m*\u001b[39margs, \u001b[38;5;241m*\u001b[39m\u001b[38;5;241m*\u001b[39mkwargs)\n",
      "\u001b[1;31mFileNotFoundError\u001b[0m: [Errno 2] No such file or directory: 'file.txt'"
     ]
    }
   ],
   "source": [
    "f=open(\"file.txt\",\"r\")"
   ]
  },
  {
   "cell_type": "code",
   "execution_count": 11,
   "id": "5ac0bf6b",
   "metadata": {},
   "outputs": [],
   "source": [
    "f=open(\"file.txt\",\"w\")"
   ]
  },
  {
   "cell_type": "code",
   "execution_count": 12,
   "id": "b20f34c1",
   "metadata": {},
   "outputs": [],
   "source": [
    "f=open(\"file.txt\",\"w\")\n",
    "f.write(\"HELLO\\n\")\n",
    "f.close()"
   ]
  },
  {
   "cell_type": "code",
   "execution_count": null,
   "id": "53921943",
   "metadata": {},
   "outputs": [],
   "source": [
    "# which code do I need to write in try block?\n",
    "a=input(\"Enter a value:\")\n",
    "b=input(\"Enter b value:\")\n",
    "print(f\"Given a={a},b={b}\")\n",
    "try:\n",
    "    a=float(a)\n",
    "    b=float(b)\n",
    "    print(f\"converted a={a},b={b}\")\n",
    "    res=a/b\n",
    "    print(f\"res a={res}\")\n",
    "except ValueError as err:\n",
    "    print(\"\")\n",
    "except ZeroDivisionError as err:\n",
    "    print(\"\")\n",
    "except Exception as err:\n",
    "    print(err)\n",
    "except:\n",
    "    print(\"err\")"
   ]
  },
  {
   "cell_type": "code",
   "execution_count": 2,
   "id": "3a58bb3a",
   "metadata": {},
   "outputs": [
    {
     "name": "stdout",
     "output_type": "stream",
     "text": [
      "started\n",
      "try\n",
      "esle\n",
      "finally\n",
      "main\n",
      "ended\n"
     ]
    }
   ],
   "source": [
    "# need of finally block\n",
    "print(\"started\")\n",
    "try:\n",
    "    print(\"try\")\n",
    "except:\n",
    "    print(\"except\")\n",
    "else:\n",
    "    print(\"esle\")\n",
    "finally:\n",
    "    print(\"finally\")\n",
    "print(\"main\")\n",
    "print(\"ended\")"
   ]
  },
  {
   "cell_type": "code",
   "execution_count": 3,
   "id": "0d2a4359",
   "metadata": {},
   "outputs": [
    {
     "name": "stdout",
     "output_type": "stream",
     "text": [
      "started\n",
      "try\n",
      "except\n",
      "finally\n",
      "main\n",
      "ended\n"
     ]
    }
   ],
   "source": [
    "# need of finally block\n",
    "print(\"started\")\n",
    "try:\n",
    "    print(\"try\")\n",
    "    print(1/0)\n",
    "except:\n",
    "    print(\"except\")\n",
    "else:\n",
    "    print(\"esle\")\n",
    "finally:\n",
    "    print(\"finally\")\n",
    "print(\"main\")\n",
    "print(\"ended\")"
   ]
  },
  {
   "cell_type": "code",
   "execution_count": 4,
   "id": "1c5d7649",
   "metadata": {},
   "outputs": [
    {
     "name": "stdout",
     "output_type": "stream",
     "text": [
      "started\n",
      "try\n",
      "except\n",
      "finally\n",
      "main\n",
      "ended\n"
     ]
    }
   ],
   "source": [
    "# need of finally block\n",
    "print(\"started\")\n",
    "try:\n",
    "    print(\"try\")\n",
    "    print(1/0)\n",
    "except:\n",
    "    print(\"except\")\n",
    "else:\n",
    "    print(\"esle\")\n",
    "print(\"finally\")\n",
    "print(\"main\")\n",
    "print(\"ended\")"
   ]
  },
  {
   "cell_type": "code",
   "execution_count": 5,
   "id": "c5738bd7",
   "metadata": {},
   "outputs": [
    {
     "name": "stdout",
     "output_type": "stream",
     "text": [
      "started\n",
      "try\n",
      "esle\n",
      "finally\n",
      "main\n",
      "ended\n"
     ]
    }
   ],
   "source": [
    "# need of finally block\n",
    "print(\"started\")\n",
    "try:\n",
    "    print(\"try\")\n",
    "except:\n",
    "    print(\"except\")\n",
    "else:\n",
    "    print(\"esle\")\n",
    "print(\"finally\")\n",
    "print(\"main\")\n",
    "print(\"ended\")"
   ]
  },
  {
   "cell_type": "code",
   "execution_count": 6,
   "id": "e2f85a9a",
   "metadata": {},
   "outputs": [
    {
     "name": "stdout",
     "output_type": "stream",
     "text": [
      "except\n",
      "finally\n",
      "main\n"
     ]
    }
   ],
   "source": [
    "from time import sleep\n",
    "try:\n",
    "    sleep(10)\n",
    "except:\n",
    "    print(\"except\")\n",
    "finally:\n",
    "    print(\"finally\")\n",
    "print(\"main\")"
   ]
  },
  {
   "cell_type": "code",
   "execution_count": 1,
   "id": "900d2332",
   "metadata": {},
   "outputs": [
    {
     "name": "stdout",
     "output_type": "stream",
     "text": [
      "10\n",
      "10\n",
      "10\n"
     ]
    }
   ],
   "source": [
    "def fun():\n",
    "    return 10\n",
    "    print(\"1\")\n",
    "    return 20\n",
    "    return 30\n",
    "res=fun()\n",
    "print(res)\n",
    "res1=fun()\n",
    "print(res1)\n",
    "res2=fun()\n",
    "print(res2)"
   ]
  },
  {
   "cell_type": "code",
   "execution_count": 2,
   "id": "b9a18222",
   "metadata": {},
   "outputs": [
    {
     "name": "stdout",
     "output_type": "stream",
     "text": [
      "1\n",
      "iteration ended\n",
      "done\n"
     ]
    }
   ],
   "source": [
    "for i in [1,2,3]:\n",
    "    if i==2:\n",
    "        break\n",
    "    else:\n",
    "        print(i)\n",
    "    print(\"iteration ended\")\n",
    "print(\"done\")"
   ]
  },
  {
   "cell_type": "code",
   "execution_count": 3,
   "id": "9079e4a1",
   "metadata": {},
   "outputs": [
    {
     "name": "stdout",
     "output_type": "stream",
     "text": [
      "try\n",
      "finally\n",
      "20\n"
     ]
    }
   ],
   "source": [
    "def fun():\n",
    "    try:\n",
    "        print(\"try\")\n",
    "        return 20\n",
    "    except:\n",
    "        print(\"except\")\n",
    "    finally:\n",
    "        print(\"finally\")\n",
    "    print(\"fun block\")\n",
    "res=fun()\n",
    "print(res)"
   ]
  },
  {
   "cell_type": "code",
   "execution_count": 4,
   "id": "bc224225",
   "metadata": {},
   "outputs": [
    {
     "name": "stdout",
     "output_type": "stream",
     "text": [
      "try\n",
      "finally\n",
      "20\n"
     ]
    }
   ],
   "source": [
    "def fun():\n",
    "    try:\n",
    "        print(\"try\")\n",
    "        return 20\n",
    "        print(1/0)\n",
    "    except:\n",
    "        print(\"except\")\n",
    "    finally:\n",
    "        print(\"finally\")\n",
    "    print(\"fun block\")\n",
    "res=fun()\n",
    "print(res)"
   ]
  },
  {
   "cell_type": "code",
   "execution_count": 5,
   "id": "84463287",
   "metadata": {},
   "outputs": [
    {
     "name": "stdout",
     "output_type": "stream",
     "text": [
      "try\n",
      "except\n",
      "finally\n",
      "fun block\n",
      "None\n"
     ]
    }
   ],
   "source": [
    "def fun():\n",
    "    try:\n",
    "        print(\"try\")\n",
    "        print(1/0)\n",
    "        return 20\n",
    "    except:\n",
    "        print(\"except\")\n",
    "    finally:\n",
    "        print(\"finally\")\n",
    "    print(\"fun block\")\n",
    "res=fun()\n",
    "print(res)"
   ]
  },
  {
   "cell_type": "code",
   "execution_count": 6,
   "id": "6d4602fe",
   "metadata": {},
   "outputs": [
    {
     "name": "stdout",
     "output_type": "stream",
     "text": [
      "try\n",
      "except\n",
      "finally\n",
      "fun block\n",
      "None\n"
     ]
    }
   ],
   "source": [
    "def fun():\n",
    "    try:\n",
    "        print(\"try\")\n",
    "        return 20\n",
    "    except:\n",
    "        print(\"except\")\n",
    "    finally:\n",
    "        print(\"finally\")\n",
    "    print(\"fun block\")\n",
    "res=fun()\n",
    "print(res)\n"
   ]
  },
  {
   "cell_type": "code",
   "execution_count": 7,
   "id": "73f0a46e",
   "metadata": {},
   "outputs": [
    {
     "name": "stdout",
     "output_type": "stream",
     "text": [
      "try\n",
      "finally\n",
      "result= 40\n"
     ]
    }
   ],
   "source": [
    "def fun():\n",
    "    try:\n",
    "        print(\"try\")\n",
    "        return 10\n",
    "    except:\n",
    "        return 20\n",
    "    else:\n",
    "        return 30\n",
    "    finally:\n",
    "        print(\"finally\")\n",
    "        return 40\n",
    "    return 50\n",
    "res=fun()\n",
    "print(\"result=\",res)"
   ]
  },
  {
   "cell_type": "code",
   "execution_count": 8,
   "id": "17456aa3",
   "metadata": {},
   "outputs": [
    {
     "name": "stdout",
     "output_type": "stream",
     "text": [
      "try\n",
      "except\n",
      "finally\n",
      "result= 40\n"
     ]
    }
   ],
   "source": [
    "def fun():\n",
    "    try:\n",
    "        print(\"try\")\n",
    "        print(1/0)# raise an exception\n",
    "        print(\"after exception\")\n",
    "        return 10\n",
    "    except:\n",
    "        print(\"except\")\n",
    "        return 20\n",
    "    else:\n",
    "        return 30\n",
    "    finally:\n",
    "        print(\"finally\")\n",
    "        return 40\n",
    "    return 50\n",
    "res=fun()\n",
    "print(\"result=\",res)"
   ]
  },
  {
   "cell_type": "code",
   "execution_count": 9,
   "id": "2cc0c1e4",
   "metadata": {},
   "outputs": [
    {
     "name": "stdout",
     "output_type": "stream",
     "text": [
      "try\n",
      "except\n",
      "finally\n",
      "result1= 40\n",
      "try\n",
      "except\n",
      "finally\n",
      "result2= 40\n"
     ]
    }
   ],
   "source": [
    "def fun():\n",
    "    try:\n",
    "        print(\"try\")\n",
    "        print(1/0)# raise an exception\n",
    "        print(\"after exception\")\n",
    "        return 10\n",
    "    except:\n",
    "        print(\"except\")\n",
    "        return 20\n",
    "    else:\n",
    "        return 30\n",
    "    finally:\n",
    "        print(\"finally\")\n",
    "        return 40\n",
    "    #\n",
    "    return 50\n",
    "res1=fun()\n",
    "print(\"result1=\",res1)\n",
    "res2=fun()\n",
    "print(\"result2=\",res2)"
   ]
  },
  {
   "cell_type": "code",
   "execution_count": null,
   "id": "7df6836a",
   "metadata": {},
   "outputs": [],
   "source": [
    "\"\"\"\n",
    "on transaction has multiple sql staements execute.\n",
    "These statements has to commit after competing the transactions.\n",
    "\n",
    "\"\"\"\n",
    "# open db connection\n",
    "try:\n",
    "    print(\"insertting data\")\n",
    "    print(\"get id of data it commited\")\n",
    "    print(\"insert one more link row of above id\",1/0)\n",
    "except:\n",
    "    # what are the ids created in db. delete those\n",
    "else:\n",
    "    #commit the transaction\n",
    "finally:\n",
    "    #close db connection"
   ]
  },
  {
   "cell_type": "code",
   "execution_count": null,
   "id": "7d02b415",
   "metadata": {},
   "outputs": [],
   "source": [
    "try:\n",
    "    print(\"sfsd\")\n",
    "    print(1/0)\n",
    "except:\n",
    "    #TODO \n",
    "    #log statement\n",
    "    pass\n",
    "print(\"hello\")"
   ]
  },
  {
   "cell_type": "code",
   "execution_count": 10,
   "id": "314488ee",
   "metadata": {},
   "outputs": [],
   "source": [
    "import contextlib"
   ]
  },
  {
   "cell_type": "code",
   "execution_count": 12,
   "id": "26692369",
   "metadata": {},
   "outputs": [
    {
     "name": "stdout",
     "output_type": "stream",
     "text": [
      "['AbstractAsyncContextManager', 'AbstractContextManager', 'AsyncContextDecorator', 'AsyncExitStack', 'ContextDecorator', 'ExitStack', 'GenericAlias', 'MethodType', '_AsyncGeneratorContextManager', '_BaseExitStack', '_GeneratorContextManager', '_GeneratorContextManagerBase', '_RedirectStream', '__all__', '__builtins__', '__cached__', '__doc__', '__file__', '__loader__', '__name__', '__package__', '__spec__', '_collections_abc', 'abc', 'aclosing', 'asynccontextmanager', 'chdir', 'closing', 'contextmanager', 'deque', 'nullcontext', 'os', 'redirect_stderr', 'redirect_stdout', 'suppress', 'sys', 'wraps']\n"
     ]
    }
   ],
   "source": [
    "print(dir(contextlib))"
   ]
  },
  {
   "cell_type": "code",
   "execution_count": 13,
   "id": "482267b7",
   "metadata": {},
   "outputs": [
    {
     "name": "stdout",
     "output_type": "stream",
     "text": [
      "jay@gamil.com\n"
     ]
    }
   ],
   "source": [
    "resp = {\"name\":\"jay\",\"email\":\"jay@gamil.com\"}\n",
    "try:\n",
    "    print(resp[\"email\"])\n",
    "except KeyError as err:\n",
    "    print(err)\n",
    "    "
   ]
  },
  {
   "cell_type": "code",
   "execution_count": 14,
   "id": "3f207d10",
   "metadata": {},
   "outputs": [
    {
     "name": "stdout",
     "output_type": "stream",
     "text": [
      "'email'\n"
     ]
    }
   ],
   "source": [
    "resp = {\"name\":\"jay\"}\n",
    "try:\n",
    "    print(resp[\"email\"])\n",
    "except KeyError as err:\n",
    "    print(err)\n",
    "    "
   ]
  },
  {
   "cell_type": "code",
   "execution_count": 16,
   "id": "018a73aa",
   "metadata": {},
   "outputs": [
    {
     "name": "stdout",
     "output_type": "stream",
     "text": [
      "jay@gamil.com\n"
     ]
    }
   ],
   "source": [
    "resp = {\"name\":\"jay\",\"email\":\"jay@gamil.com\"}\n",
    "with contextlib.suppress(KeyError):\n",
    "    print(resp[\"email\"])"
   ]
  },
  {
   "cell_type": "code",
   "execution_count": 17,
   "id": "0b42c508",
   "metadata": {},
   "outputs": [],
   "source": [
    "resp = {\"name\":\"jay\"}\n",
    "with contextlib.suppress(KeyError):\n",
    "    print(resp[\"email\"])"
   ]
  },
  {
   "cell_type": "code",
   "execution_count": 18,
   "id": "e22e427e",
   "metadata": {},
   "outputs": [
    {
     "name": "stdout",
     "output_type": "stream",
     "text": [
      "None\n"
     ]
    }
   ],
   "source": [
    "resp = {\"name\":\"jay\"}\n",
    "try:\n",
    "    print(resp.get(\"email\"))\n",
    "except KeyError as err:\n",
    "    print(err)\n",
    "    "
   ]
  },
  {
   "cell_type": "code",
   "execution_count": null,
   "id": "fbba8572",
   "metadata": {},
   "outputs": [],
   "source": [
    "# views.py\n",
    "def fun(x):\n",
    "    if x<0:\n",
    "        return Http(400)\n",
    "\n",
    "def fun1(x):\n",
    "    if x<0:\n",
    "        return Http\n",
    "    retunr http(200)\n",
    "    \n",
    "#middleware.py\n",
    "def call(fun,fun1):\n",
    "    res=fun(10)\n",
    "    res1=fun1(0)\n",
    "    return res,res1\n",
    "call(fun,fun1)\n"
   ]
  },
  {
   "cell_type": "code",
   "execution_count": null,
   "id": "429dbcf7",
   "metadata": {},
   "outputs": [],
   "source": [
    "# views.py\n",
    "def fun(x):\n",
    "    if x<0:\n",
    "        raise HttpExcetion()\n",
    "\n",
    "def fun1(x):\n",
    "    if x<0:\n",
    "        return Http\n",
    "    retunr http(200)\n",
    "    \n",
    "#middleware.py\n",
    "def call(fun,fun1):\n",
    "    try:\n",
    "        res=fun(10)\n",
    "        res1=fun1(0)\n",
    "    except Exception as err:\n",
    "        return HttpException()\n",
    "    return res,res1\n",
    "call(fun,fun1)\n"
   ]
  },
  {
   "cell_type": "code",
   "execution_count": 19,
   "id": "91109097",
   "metadata": {},
   "outputs": [
    {
     "name": "stdout",
     "output_type": "stream",
     "text": [
      "Enter +ve number:-1\n"
     ]
    },
    {
     "ename": "PostivieIntegerException",
     "evalue": "EXpecting value GE 0",
     "output_type": "error",
     "traceback": [
      "\u001b[1;31m---------------------------------------------------------------------------\u001b[0m",
      "\u001b[1;31mPostivieIntegerException\u001b[0m                  Traceback (most recent call last)",
      "Cell \u001b[1;32mIn[19], line 6\u001b[0m\n\u001b[0;32m      4\u001b[0m x\u001b[38;5;241m=\u001b[39m\u001b[38;5;28mfloat\u001b[39m(\u001b[38;5;28minput\u001b[39m(\u001b[38;5;124m\"\u001b[39m\u001b[38;5;124mEnter +ve number:\u001b[39m\u001b[38;5;124m\"\u001b[39m))\n\u001b[0;32m      5\u001b[0m \u001b[38;5;28;01mif\u001b[39;00m x\u001b[38;5;241m<\u001b[39m\u001b[38;5;241m0\u001b[39m:\n\u001b[1;32m----> 6\u001b[0m     \u001b[38;5;28;01mraise\u001b[39;00m PostivieIntegerException()\n",
      "\u001b[1;31mPostivieIntegerException\u001b[0m: EXpecting value GE 0"
     ]
    }
   ],
   "source": [
    "class PostivieIntegerException(Exception):\n",
    "    def __init__(self, *args, **kwargs):\n",
    "        Exception.__init__(self, \"EXpecting value GE 0\")\n",
    "x=float(input(\"Enter +ve number:\"))\n",
    "if x<0:\n",
    "    raise PostivieIntegerException()\n",
    "    "
   ]
  },
  {
   "cell_type": "code",
   "execution_count": null,
   "id": "6420d284",
   "metadata": {},
   "outputs": [],
   "source": []
  }
 ],
 "metadata": {
  "kernelspec": {
   "display_name": "Python 3 (ipykernel)",
   "language": "python",
   "name": "python3"
  },
  "language_info": {
   "codemirror_mode": {
    "name": "ipython",
    "version": 3
   },
   "file_extension": ".py",
   "mimetype": "text/x-python",
   "name": "python",
   "nbconvert_exporter": "python",
   "pygments_lexer": "ipython3",
   "version": "3.11.5"
  }
 },
 "nbformat": 4,
 "nbformat_minor": 5
}
