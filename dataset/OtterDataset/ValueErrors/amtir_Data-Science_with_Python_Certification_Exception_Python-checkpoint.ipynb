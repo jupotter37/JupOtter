{
 "cells": [
  {
   "cell_type": "markdown",
   "id": "843cd7d9-5c0a-4d27-99a7-52aeadfdffc2",
   "metadata": {},
   "source": [
    "# Exception Handling\n"
   ]
  },
  {
   "cell_type": "markdown",
   "id": "dd666823-f85e-43ac-8355-50aac5263e7c",
   "metadata": {},
   "source": [
    "## Error vs. Exception\n",
    "### Error:\n",
    "* Errors are issues that occur due to problems that cannot be recovered from, often related to the system or environment.\n",
    "* They usually represent serious problems, such as running out of memory, stack overflow, or other critical issues that often stop the program from continuing execution.\n",
    "* Example: A syntax error or a memory overflow error.\n",
    ">Key Point: Errors are often fatal and usually need to be fixed in the code before the program can run properly.\n",
    "\n",
    "### Exception:\n",
    "* Exceptions are issues that occur due to unexpected events during runtime but are recoverable.\n",
    "* They can be caught and handled by the program using techniques like try, except, or finally blocks in Python.\n",
    "* Example: A file not found exception or a division by zero exception.\n",
    "> Key Point: Exceptions are runtime problems that can be managed or \"caught\" to prevent the program from crashing.\n",
    "\n",
    "### Summary:\n",
    "* Errors are typically unrecoverable and indicate a serious problem, while exceptions are more manageable, allowing the program to handle unexpected situations gracefully without crashing."
   ]
  },
  {
   "cell_type": "code",
   "execution_count": 9,
   "id": "d6cd17de-1396-4624-ac00-3afc808c4f5a",
   "metadata": {},
   "outputs": [
    {
     "name": "stdin",
     "output_type": "stream",
     "text": [
      "Enter any number for var1:  1234\n",
      "Enter any number for var2:  asdf\n"
     ]
    },
    {
     "name": "stdout",
     "output_type": "stream",
     "text": [
      "Error: Invalid input. Please enter a valid integer.\n",
      "End of the exception handling process.\n"
     ]
    }
   ],
   "source": [
    "try:\n",
    "    # Taking input from the user\n",
    "    var1 = int(input(\"Enter any number for var1: \"))\n",
    "    var2 = int(input(\"Enter any number for var2: \"))\n",
    "\n",
    "    # Attempting division\n",
    "    var3 = var1 / var2\n",
    "    print(f\"Result of division: {var3}\")\n",
    "\n",
    "# Handle specific exceptions\n",
    "except ZeroDivisionError as e:\n",
    "    print(\"Error: Division by zero is not allowed.\")\n",
    "\n",
    "except ValueError as e:\n",
    "    print(\"Error: Invalid input. Please enter a valid integer.\")\n",
    "\n",
    "# Catching any other kind of exception\n",
    "except Exception as e:\n",
    "    print(f\"An unexpected error occurred: {e}\")\n",
    "\n",
    "# Optional: Code that runs if no exceLption occurs\n",
    "else:\n",
    "    print(\"Division successful!\")\n",
    "\n",
    "# Code that always runs, whether an exception occurred or not\n",
    "finally:\n",
    "    print(\"End of the exception handling process.\")\n"
   ]
  },
  {
   "cell_type": "code",
   "execution_count": 15,
   "id": "139addd0-cdd4-486c-9fb9-42e2d4535c8a",
   "metadata": {},
   "outputs": [
    {
     "name": "stdin",
     "output_type": "stream",
     "text": [
      "Enter any number for var1:  1\n",
      "Enter any number for var2:  asd\n"
     ]
    },
    {
     "name": "stdout",
     "output_type": "stream",
     "text": [
      "Error: Invalid input. Please enter a valid integer.\n",
      "Exception: (<class 'ValueError'>, ValueError(\"invalid literal for int() with base 10: 'asd'\"), <traceback object at 0x000001EFD5471700>)\n",
      "Exception Type: <class 'ValueError'>\n",
      "Exception Value: invalid literal for int() with base 10: 'asd'\n",
      "Traceback Object: <traceback object at 0x000001EFD5471700>\n",
      "End of the exception handling process.\n"
     ]
    }
   ],
   "source": [
    "import sys \n",
    "try:\n",
    "    # Taking input from the user\n",
    "    var1 = int(input(\"Enter any number for var1: \"))\n",
    "    var2 = int(input(\"Enter any number for var2: \"))\n",
    "\n",
    "    # Manually raising an exception if var2 is zero\n",
    "    if var2 == 0:\n",
    "        raise ZeroDivisionError(\"Cannot divide by zero, custom raised exception.\")\n",
    "\n",
    "    # List for demonstration of IndexError\n",
    "    my_list = [10, 20, 30]\n",
    "    \n",
    "    # Accessing a specific index\n",
    "    index = int(input(\"Enter the index you want to access from the list [0, 1, 2]: \"))\n",
    "    print(f\"Value at index {index}: {my_list[index]}\")  # Might raise IndexError\n",
    "\n",
    "    # Division operation\n",
    "    var3 = var1 / var2\n",
    "    print(f\"Result of division: {var3}\")\n",
    "\n",
    "# Handle ZeroDivisionError (custom raised or actual division by zero)\n",
    "except ZeroDivisionError as e:\n",
    "    print(f\"Error: {e}\")\n",
    "    print(f\"Exception: {sys.exc_info()}\")\n",
    "    exc_type, exc_value, exc_traceback = sys.exc_info()  # Get the exception info\n",
    "    print(f\"Exception Type: {exc_type}\")\n",
    "    print(f\"Exception Value: {exc_value}\")\n",
    "    print(f\"Traceback Object: {exc_traceback}\")\n",
    "\n",
    "# Handle invalid input (ValueError)\n",
    "except ValueError as e:\n",
    "    print(\"Error: Invalid input. Please enter a valid integer.\")\n",
    "    print(f\"Exception: {sys.exc_info()}\")\n",
    "    exc_type, exc_value, exc_traceback = sys.exc_info()  # Get the exception info\n",
    "    print(f\"Exception Type: {exc_type}\")\n",
    "    print(f\"Exception Value: {exc_value}\")\n",
    "    print(f\"Traceback Object: {exc_traceback}\")\n",
    "\n",
    "# Handle index out of range (IndexError)\n",
    "except IndexError as e:\n",
    "    print(\"Error: List index is out of range. Please enter a valid index.\")\n",
    "\n",
    "# Catch any other exceptions\n",
    "except Exception as e:\n",
    "    print(f\"An unexpected error occurred: {e}\")\n",
    "\n",
    "# Code that runs whether there is an exception or not\n",
    "finally:\n",
    "    print(\"End of the exception handling process.\")\n"
   ]
  },
  {
   "cell_type": "code",
   "execution_count": 16,
   "id": "40c061b8-92f2-4291-a3dc-1a1087d3e1c3",
   "metadata": {},
   "outputs": [
    {
     "name": "stdin",
     "output_type": "stream",
     "text": [
      "Enter a number:  -3\n"
     ]
    },
    {
     "name": "stdout",
     "output_type": "stream",
     "text": [
      "Error: -3 is a negative number. Only positive numbers are allowed.\n"
     ]
    }
   ],
   "source": [
    "# Defining a custom exception class\n",
    "# Own custom exception by defining a new class that inherits from the built-in Exception class.\n",
    "class NegativeNumberError(Exception):\n",
    "    def __init__(self, value):\n",
    "        self.value = value\n",
    "    \n",
    "    def __str__(self):\n",
    "        return f\"Error: {self.value} is a negative number. Only positive numbers are allowed.\"\n",
    "\n",
    "# Function that raises the custom exception\n",
    "def check_positive_number(num):\n",
    "    if num < 0:\n",
    "        raise NegativeNumberError(num)\n",
    "    else:\n",
    "        print(f\"The number {num} is positive.\")\n",
    "\n",
    "# Example usage\n",
    "try:\n",
    "    num = int(input(\"Enter a number: \"))\n",
    "    check_positive_number(num)\n",
    "except NegativeNumberError as e:\n",
    "    print(e)\n"
   ]
  },
  {
   "cell_type": "code",
   "execution_count": null,
   "id": "323d63ad-faba-4464-aaa3-783de6c5709a",
   "metadata": {},
   "outputs": [],
   "source": []
  }
 ],
 "metadata": {
  "kernelspec": {
   "display_name": "Python 3 (ipykernel)",
   "language": "python",
   "name": "python3"
  },
  "language_info": {
   "codemirror_mode": {
    "name": "ipython",
    "version": 3
   },
   "file_extension": ".py",
   "mimetype": "text/x-python",
   "name": "python",
   "nbconvert_exporter": "python",
   "pygments_lexer": "ipython3",
   "version": "3.10.1"
  }
 },
 "nbformat": 4,
 "nbformat_minor": 5
}
