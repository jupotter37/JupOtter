{
 "cells": [
  {
   "cell_type": "markdown",
   "id": "3fc09ee0",
   "metadata": {},
   "source": [
    "# Welcome to week 2!\n",
    "\n",
    "1. Loops\n",
    "    - What are loops for?\n",
    "    - `for` loops\n",
    "    - Looping a number of times\n",
    "    - `while` loops\n",
    "2. Lists (collections)\n",
    "    - How to create lists\n",
    "    - Working with lists\n",
    "    - Lists are mutable\n",
    "3. Strings to lists (and back)\n",
    "    - `str.split` method\n",
    "    - `str.join` method\n",
    "4. Tuples\n",
    "5. Tuple unpacking"
   ]
  },
  {
   "cell_type": "code",
   "execution_count": 1,
   "id": "611481e6",
   "metadata": {},
   "outputs": [
    {
     "name": "stdout",
     "output_type": "stream",
     "text": [
      "a\n",
      "b\n",
      "c\n",
      "d\n"
     ]
    }
   ],
   "source": [
    "# let's assume that I have a short string, assigned to s\n",
    "\n",
    "s = 'abcd'\n",
    "\n",
    "# I want to print each of the characters in s\n",
    "print(s[0])\n",
    "print(s[1])\n",
    "print(s[2])\n",
    "print(s[3])"
   ]
  },
  {
   "cell_type": "markdown",
   "id": "cec6d64f",
   "metadata": {},
   "source": [
    "# DRY -- don't repeat yourself!\n",
    "\n",
    "In programming, you want to avoid repeating yourself.  This is good for you, and it's also good for the program.\n",
    "\n",
    "- It saves you time, if you can write code once, and refer to it many times\n",
    "- It makes the coding more maintainable -- if you need to change something, you can do it in once place\n",
    "- Reduces memory usage\n",
    "- If you optimize something, every part of the program will benefit\n",
    "\n"
   ]
  },
  {
   "cell_type": "markdown",
   "id": "1208458d",
   "metadata": {},
   "source": [
    "# Loops lets us repeat code without repeating code\n",
    "\n",
    "We tell the computer that we want to repeat certain instructions, and it does that!\n",
    "\n",
    "There are two types of loops in Python:\n",
    "- `for` loops\n",
    "- `while` loops\n",
    "\n",
    "`for` loops are much more common, but both are used quite a lot."
   ]
  },
  {
   "cell_type": "code",
   "execution_count": 2,
   "id": "14d25d7d",
   "metadata": {},
   "outputs": [
    {
     "name": "stdout",
     "output_type": "stream",
     "text": [
      "a\n",
      "b\n",
      "c\n",
      "d\n"
     ]
    }
   ],
   "source": [
    "# to display each character in s, here is a for loop:\n",
    "\n",
    "# for VARIABLE in OBJECT:\n",
    "for one_character in s:   # for loop asks s: are you iterable?  If s says \"yes,\" then for asks for the next item\n",
    "    print(one_character)"
   ]
  },
  {
   "cell_type": "markdown",
   "id": "2fe45804",
   "metadata": {},
   "source": [
    "# Some vocabulary\n",
    "\n",
    "If we loop over an object, we're going to perform some action repeatedly.\n",
    "\n",
    "An object that knows how to behave inside of a `for` loop is called \"iterable,\" and each time that we do something, it's called one \"iteration.\"\n",
    "\n",
    "Strings are iterable, and thus we can use a `for` loop on them.  When we do so, we get one character in each iteration."
   ]
  },
  {
   "cell_type": "code",
   "execution_count": 3,
   "id": "f798d918",
   "metadata": {},
   "outputs": [
    {
     "ename": "TypeError",
     "evalue": "'int' object is not iterable",
     "output_type": "error",
     "traceback": [
      "\u001b[0;31m---------------------------------------------------------------------------\u001b[0m",
      "\u001b[0;31mTypeError\u001b[0m                                 Traceback (most recent call last)",
      "\u001b[0;32m/var/folders/rr/0mnyyv811fs5vyp22gf4fxk00000gn/T/ipykernel_63065/1987108268.py\u001b[0m in \u001b[0;36m<module>\u001b[0;34m\u001b[0m\n\u001b[0;32m----> 1\u001b[0;31m \u001b[0;32mfor\u001b[0m \u001b[0mone_item\u001b[0m \u001b[0;32min\u001b[0m \u001b[0;36m5\u001b[0m\u001b[0;34m:\u001b[0m\u001b[0;34m\u001b[0m\u001b[0;34m\u001b[0m\u001b[0m\n\u001b[0m\u001b[1;32m      2\u001b[0m     \u001b[0mprint\u001b[0m\u001b[0;34m(\u001b[0m\u001b[0mone_item\u001b[0m\u001b[0;34m)\u001b[0m\u001b[0;34m\u001b[0m\u001b[0;34m\u001b[0m\u001b[0m\n",
      "\u001b[0;31mTypeError\u001b[0m: 'int' object is not iterable"
     ]
    }
   ],
   "source": [
    "for one_item in 5:\n",
    "    print(one_item)"
   ]
  },
  {
   "cell_type": "markdown",
   "id": "b70f65ca",
   "metadata": {},
   "source": [
    "# Exercise: Vowel and others counter\n",
    "\n",
    "1. Define two variables, `vowels` and `others`, and set them both to be 0.\n",
    "2. Ask the user to enter a string (with `input`).\n",
    "3. Go through each character in the string, and check if it is a vowel.\n",
    "    - If so, then add 1 to `vowels`\n",
    "    - If not, then add 1 to `others`\n",
    "4. When the loop is done, print the values of `vowels` and `others`.    "
   ]
  },
  {
   "cell_type": "code",
   "execution_count": 4,
   "id": "f0cf1399",
   "metadata": {},
   "outputs": [
    {
     "name": "stdout",
     "output_type": "stream",
     "text": [
      "Enter a string: hello out there\n",
      "vowels = 6\n",
      "others = 9\n"
     ]
    }
   ],
   "source": [
    "vowels = 0\n",
    "others = 0\n",
    "\n",
    "s = input('Enter a string: ').strip()   # get input from the user, remove leading/trailing whitespace, then assign\n",
    "\n",
    "for one_character in s:\n",
    "    if one_character in 'aeiou':\n",
    "        vowels += 1\n",
    "    else:\n",
    "        others += 1\n",
    "        \n",
    "print(f'vowels = {vowels}')        \n",
    "print(f'others = {others}')        "
   ]
  },
  {
   "cell_type": "markdown",
   "id": "056a9419",
   "metadata": {},
   "source": [
    "# What are loops used for?\n",
    "\n",
    "Two common cases are:\n",
    "- Searching for something\n",
    "- Counting something"
   ]
  },
  {
   "cell_type": "code",
   "execution_count": 5,
   "id": "cad5cfdc",
   "metadata": {},
   "outputs": [],
   "source": [
    "s = 'abcd'   # we see 4 letters, but Python sees 4 characters\n",
    "s = 'a  d'   # we see 2 letters and 2 spaces, but Python still sees 4 characters"
   ]
  },
  {
   "cell_type": "code",
   "execution_count": 6,
   "id": "20a2d264",
   "metadata": {},
   "outputs": [
    {
     "ename": "TypeError",
     "evalue": "'int' object is not iterable",
     "output_type": "error",
     "traceback": [
      "\u001b[0;31m---------------------------------------------------------------------------\u001b[0m",
      "\u001b[0;31mTypeError\u001b[0m                                 Traceback (most recent call last)",
      "\u001b[0;32m/var/folders/rr/0mnyyv811fs5vyp22gf4fxk00000gn/T/ipykernel_63065/1987108268.py\u001b[0m in \u001b[0;36m<module>\u001b[0;34m\u001b[0m\n\u001b[0;32m----> 1\u001b[0;31m \u001b[0;32mfor\u001b[0m \u001b[0mone_item\u001b[0m \u001b[0;32min\u001b[0m \u001b[0;36m5\u001b[0m\u001b[0;34m:\u001b[0m\u001b[0;34m\u001b[0m\u001b[0;34m\u001b[0m\u001b[0m\n\u001b[0m\u001b[1;32m      2\u001b[0m     \u001b[0mprint\u001b[0m\u001b[0;34m(\u001b[0m\u001b[0mone_item\u001b[0m\u001b[0;34m)\u001b[0m\u001b[0;34m\u001b[0m\u001b[0;34m\u001b[0m\u001b[0m\n",
      "\u001b[0;31mTypeError\u001b[0m: 'int' object is not iterable"
     ]
    }
   ],
   "source": [
    "for one_item in 5:\n",
    "    print(one_item)"
   ]
  },
  {
   "cell_type": "code",
   "execution_count": 7,
   "id": "4dc53967",
   "metadata": {},
   "outputs": [
    {
     "name": "stdout",
     "output_type": "stream",
     "text": [
      "Yay!\n",
      "Yay!\n",
      "Yay!\n"
     ]
    }
   ],
   "source": [
    "# this works -- nothing technically wrong with it\n",
    "print('Yay!')\n",
    "print('Yay!')\n",
    "print('Yay!')"
   ]
  },
  {
   "cell_type": "code",
   "execution_count": 8,
   "id": "ccd8143a",
   "metadata": {},
   "outputs": [
    {
     "name": "stdout",
     "output_type": "stream",
     "text": [
      "Yay!\n",
      "Yay!\n",
      "Yay!\n"
     ]
    }
   ],
   "source": [
    "# I want to run my for loop 3 times\n",
    "# I can do this with \"range\"\n",
    "# range returns an iterable object that runs a given number of times\n",
    "\n",
    "for count in range(3):\n",
    "    print('Yay!')"
   ]
  },
  {
   "cell_type": "code",
   "execution_count": 9,
   "id": "d7995f16",
   "metadata": {},
   "outputs": [
    {
     "name": "stdout",
     "output_type": "stream",
     "text": [
      "0 Yay!\n",
      "1 Yay!\n",
      "2 Yay!\n"
     ]
    }
   ],
   "source": [
    "# what will be the values of \"count\" in our loop?\n",
    "# starting at 0, up to (and not including) the number we specify\n",
    "\n",
    "for count in range(3):\n",
    "    print(f'{count} Yay!')"
   ]
  },
  {
   "cell_type": "code",
   "execution_count": 10,
   "id": "7eb85113",
   "metadata": {},
   "outputs": [
    {
     "name": "stdout",
     "output_type": "stream",
     "text": [
      "0 Yay!\n",
      "1 Yay!\n",
      "2 Yay!\n"
     ]
    }
   ],
   "source": [
    "# I can hand range 1, 2, or 3 arguments when I call it\n",
    "\n",
    "for count in range(3):   # from 0 up to (and not including) 3\n",
    "    print(f'{count} Yay!')"
   ]
  },
  {
   "cell_type": "code",
   "execution_count": 11,
   "id": "8ad46dd5",
   "metadata": {},
   "outputs": [
    {
     "name": "stdout",
     "output_type": "stream",
     "text": [
      "3 Yay!\n",
      "4 Yay!\n",
      "5 Yay!\n",
      "6 Yay!\n",
      "7 Yay!\n"
     ]
    }
   ],
   "source": [
    "for count in range(3,8):   # from 3 up to (and not including) 8\n",
    "    print(f'{count} Yay!')"
   ]
  },
  {
   "cell_type": "code",
   "execution_count": 12,
   "id": "bc0f73e5",
   "metadata": {},
   "outputs": [
    {
     "name": "stdout",
     "output_type": "stream",
     "text": [
      "3 Yay!\n",
      "5 Yay!\n",
      "7 Yay!\n"
     ]
    }
   ],
   "source": [
    "for count in range(3,8,2):   # from 3 up to (and not including) 8, increasing by 2 each time\n",
    "    print(f'{count} Yay!')"
   ]
  },
  {
   "cell_type": "markdown",
   "id": "9514b128",
   "metadata": {},
   "source": [
    "# Stopping the loop early\n",
    "\n",
    "There are two ways to stop our `for` loop early:\n",
    "\n",
    "- We can exit from the loop completely, if we've accomplished our task. This is done with `break`.\n",
    "- We can exit from the current iteration, if it's irrelevant or unnecessary, continuing with the next iteration.  We do this with `continue`."
   ]
  },
  {
   "cell_type": "code",
   "execution_count": 13,
   "id": "5e7c83a6",
   "metadata": {},
   "outputs": [
    {
     "ename": "SyntaxError",
     "evalue": "'break' outside loop (668683560.py, line 1)",
     "output_type": "error",
     "traceback": [
      "\u001b[0;36m  File \u001b[0;32m\"/var/folders/rr/0mnyyv811fs5vyp22gf4fxk00000gn/T/ipykernel_63065/668683560.py\"\u001b[0;36m, line \u001b[0;32m1\u001b[0m\n\u001b[0;31m    break\u001b[0m\n\u001b[0m    ^\u001b[0m\n\u001b[0;31mSyntaxError\u001b[0m\u001b[0;31m:\u001b[0m 'break' outside loop\n"
     ]
    }
   ],
   "source": [
    "break"
   ]
  },
  {
   "cell_type": "code",
   "execution_count": 14,
   "id": "e308ec69",
   "metadata": {},
   "outputs": [
    {
     "ename": "SyntaxError",
     "evalue": "'continue' not properly in loop (414696514.py, line 1)",
     "output_type": "error",
     "traceback": [
      "\u001b[0;36m  File \u001b[0;32m\"/var/folders/rr/0mnyyv811fs5vyp22gf4fxk00000gn/T/ipykernel_63065/414696514.py\"\u001b[0;36m, line \u001b[0;32m1\u001b[0m\n\u001b[0;31m    continue\u001b[0m\n\u001b[0m    ^\u001b[0m\n\u001b[0;31mSyntaxError\u001b[0m\u001b[0;31m:\u001b[0m 'continue' not properly in loop\n"
     ]
    }
   ],
   "source": [
    "continue"
   ]
  },
  {
   "cell_type": "code",
   "execution_count": 16,
   "id": "cb7adad2",
   "metadata": {},
   "outputs": [
    {
     "name": "stdout",
     "output_type": "stream",
     "text": [
      "a\n",
      "b\n",
      "d\n",
      "e\n"
     ]
    }
   ],
   "source": [
    "s = 'abcde'\n",
    "\n",
    "for one_letter in s:\n",
    "    if one_letter == 'c':\n",
    "        continue   # go to the next iteration right away -- ignore the rest of the loop body\n",
    "    \n",
    "    print(one_letter)"
   ]
  },
  {
   "cell_type": "code",
   "execution_count": 17,
   "id": "3e73030e",
   "metadata": {},
   "outputs": [
    {
     "name": "stdout",
     "output_type": "stream",
     "text": [
      "a\n",
      "b\n"
     ]
    }
   ],
   "source": [
    "s = 'abcde'\n",
    "\n",
    "for one_letter in s:\n",
    "    if one_letter == 'c':\n",
    "        break   # exit the for loop *RIGHT NOW*\n",
    "    \n",
    "    print(one_letter)"
   ]
  },
  {
   "cell_type": "code",
   "execution_count": 20,
   "id": "fa935800",
   "metadata": {},
   "outputs": [],
   "source": [
    "one_letter = 'a'  # \"snake case\", because it stays close to the ground, usual style in Python"
   ]
  },
  {
   "cell_type": "code",
   "execution_count": 21,
   "id": "61c55962",
   "metadata": {},
   "outputs": [],
   "source": [
    "oneLetter = 'a'   # \"camel case\", because it has one or more humps in the middle -- in Python, only in class names"
   ]
  },
  {
   "cell_type": "code",
   "execution_count": 22,
   "id": "b20ffe9a",
   "metadata": {},
   "outputs": [
    {
     "name": "stdout",
     "output_type": "stream",
     "text": [
      "a\n",
      "b\n",
      "c\n",
      "d\n"
     ]
    }
   ],
   "source": [
    "s = 'abcd'\n",
    "\n",
    "for one_letter in s:\n",
    "    print(one_letter)\n",
    "    \n",
    "    \n",
    "# this means: execute the loop body once for each character in s,\n",
    "# the current character is assigned to the variable one_letter"
   ]
  },
  {
   "cell_type": "markdown",
   "id": "cdd35fdc",
   "metadata": {},
   "source": [
    "# Exercise: Name triangles\n",
    "\n",
    "1. Ask the user to enter their name, and assign to a variable, `name`.\n",
    "2. Print the user's name in a triangle, with the first letter on the first line, the full name on the final line, and each line in between \"growing\" by one letter.\n",
    "\n",
    "Example:\n",
    "\n",
    "    Enter your name: Reuven\n",
    "    R\n",
    "    Re\n",
    "    Reu\n",
    "    Reuv\n",
    "    Reuve\n",
    "    Reuven\n",
    "    \n",
    "Hints:\n",
    "1. Use `len` to get the length of a string\n",
    "2. Use `range` to run a `for` loop a particular number of times\n",
    "3. You can retrieve a \"slice\" from a string, where you specify the starting index and the ending index + 1 (e.g., `s[2:5]` or `s[:5]`)\n",
    "\n"
   ]
  },
  {
   "cell_type": "code",
   "execution_count": 24,
   "id": "8dd2fe2e",
   "metadata": {},
   "outputs": [
    {
     "name": "stdout",
     "output_type": "stream",
     "text": [
      "Enter your name: Reuven\n",
      "R\n",
      "Re\n",
      "Reu\n",
      "Reuv\n",
      "Reuve\n",
      "Reuven\n"
     ]
    }
   ],
   "source": [
    "name = input('Enter your name: ').strip()\n",
    "\n",
    "# what do I really want to print?\n",
    "print(name[:1])\n",
    "print(name[:2])\n",
    "print(name[:3])\n",
    "print(name[:4])\n",
    "print(name[:5])\n",
    "print(name[:6])"
   ]
  },
  {
   "cell_type": "code",
   "execution_count": 26,
   "id": "c7070dfa",
   "metadata": {},
   "outputs": [
    {
     "name": "stdout",
     "output_type": "stream",
     "text": [
      "Enter your name: Reuven\n",
      "R\n",
      "Re\n",
      "Reu\n",
      "Reuv\n",
      "Reuve\n",
      "Reuven\n"
     ]
    }
   ],
   "source": [
    "name = input('Enter your name: ').strip()\n",
    "\n",
    "for max_index in range(len(name)):\n",
    "    print(name[:max_index+1])  # print the slice of name from the start up to (and not including) max_index+1\n"
   ]
  },
  {
   "cell_type": "code",
   "execution_count": 27,
   "id": "b3184c30",
   "metadata": {},
   "outputs": [
    {
     "name": "stdout",
     "output_type": "stream",
     "text": [
      "Enter your name: Reuven\n",
      "R\n",
      "Re\n",
      "Reu\n",
      "Reuv\n",
      "Reuve\n",
      "Reuven\n"
     ]
    }
   ],
   "source": [
    "name = input('Enter your name: ').strip()\n",
    "\n",
    "for max_index in range(1,len(name)+1):  # count from 1 up to (and not including) len(name) + 1\n",
    "    print(name[:max_index])  \n"
   ]
  },
  {
   "cell_type": "markdown",
   "id": "bf90822a",
   "metadata": {},
   "source": [
    "# Next up\n",
    "\n",
    "1. `while` loops\n",
    "2. Where's the index? (And how we can get it without working too hard)\n",
    "\n"
   ]
  },
  {
   "cell_type": "code",
   "execution_count": 28,
   "id": "e45bf896",
   "metadata": {},
   "outputs": [
    {
     "name": "stdout",
     "output_type": "stream",
     "text": [
      "Enter your name: Reuven\n",
      "R\n",
      "Re\n",
      "Reu\n",
      "Reuv\n",
      "Reuve\n",
      "Reuven\n"
     ]
    }
   ],
   "source": [
    "# name triangle, in a different way\n",
    "\n",
    "name = input('Enter your name: ').strip()\n",
    "output = ''\n",
    "\n",
    "for one_character in name:\n",
    "    output += one_character\n",
    "    print(output)"
   ]
  },
  {
   "cell_type": "code",
   "execution_count": null,
   "id": "cd9e8f88",
   "metadata": {},
   "outputs": [],
   "source": [
    "output = ''\n",
    "output = 'R'\n",
    "output = 'Re'\n",
    "output = 'Reu'\n",
    "\n",
    "# the above can also be written as\n",
    "output = ''\n",
    "output += 'R'\n",
    "output += 'e'\n",
    "output += 'u'"
   ]
  },
  {
   "cell_type": "markdown",
   "id": "1b454e6f",
   "metadata": {},
   "source": [
    "# `while` loops\n",
    "\n",
    "`for` loops iterate over an existing data structure, one element at a time.  We'll get the first character, the second character, etc., until we get to the end.  We know how many times the loop will run.\n",
    "\n",
    "By constrast, `while` loops are for when we don't know how many times we'll want to iterate, but we do know under what conditions we want to stop.\n",
    "\n",
    "You can think of a `while` loop as an `if` statement that runs repeatedly until the condition is found to be `False`."
   ]
  },
  {
   "cell_type": "code",
   "execution_count": 30,
   "id": "2d0c1220",
   "metadata": {},
   "outputs": [
    {
     "name": "stdout",
     "output_type": "stream",
     "text": [
      "Before\n",
      "5\n",
      "4\n",
      "3\n",
      "2\n",
      "1\n",
      "After\n"
     ]
    }
   ],
   "source": [
    "x = 5\n",
    "\n",
    "print('Before')\n",
    "while x > 0:    # if this condition (x>0) is True, then run the loop body and come back to the top condition\n",
    "    print(x)\n",
    "    x -= 1   # reduce x by 1\n",
    "print('After')    "
   ]
  },
  {
   "cell_type": "code",
   "execution_count": 31,
   "id": "313c317a",
   "metadata": {},
   "outputs": [
    {
     "name": "stdout",
     "output_type": "stream",
     "text": [
      "Enter your name: Reuven\n",
      "Hello, Reuven!\n",
      "Enter your name: world\n",
      "Hello, world!\n",
      "Enter your name: someone else\n",
      "Hello, someone else!\n",
      "Enter your name: \n"
     ]
    }
   ],
   "source": [
    "while True:    # when will this loop exit? NEVER.  It's an infinite loop!\n",
    "    name = input('Enter your name: ').strip()\n",
    "    \n",
    "    if name == '':   # did I get an empty string?  If so, exit the while loop\n",
    "        break\n",
    "        \n",
    "    if name.isspace():   # does it only contain whitespace?\n",
    "        print('Please enter something!')\n",
    "        continue\n",
    "        \n",
    "    print(f'Hello, {name}!') \n",
    "    "
   ]
  },
  {
   "cell_type": "markdown",
   "id": "7f070ad2",
   "metadata": {},
   "source": [
    "# Exercise: Sum numbers\n",
    "\n",
    "1. Ask the user to enter our goal number (i.e., what we want to reach), and assign this to `goal`.  (Remember to turn it into an integer!)\n",
    "2. Set `total` to be 0.\n",
    "3. Repeatedly ask the user to enter a number.\n",
    "    - If they enter something non-numeric, then scold them and let them try again\n",
    "    - If they enter something numeric, then add it to `total`, and print the current values of `goal` and `total`.\n",
    "4. Stop asking when the `total` is equal to or greater than `goal`.\n",
    "\n",
    "Example:\n",
    "\n",
    "    Enter goal: 100\n",
    "    Enter number: 20\n",
    "    Total is 20, goal is 100\n",
    "    Enter number: 30\n",
    "    Total is 50, goal is 100\n",
    "    Enter number: abc\n",
    "    abc is not numeric\n",
    "    Enter number: 40\n",
    "    Total is 90, goal is 100\n",
    "    Enter number:\n",
    "    Total is 130, goal is 100\n",
    "    Exiting\n",
    "    Done, with total of 130"
   ]
  },
  {
   "cell_type": "code",
   "execution_count": 32,
   "id": "d993e43f",
   "metadata": {},
   "outputs": [
    {
     "name": "stdout",
     "output_type": "stream",
     "text": [
      "Enter goal: 100\n",
      "Enter number: 20\n",
      "total is 20, goal is 100\n",
      "Enter number: 30\n",
      "total is 50, goal is 100\n",
      "Enter number: 42\n",
      "total is 92, goal is 100\n",
      "Enter number: asdfafafa\n",
      "asdfafafa is not numeric\n",
      "Enter number: 7\n",
      "total is 99, goal is 100\n",
      "Enter number: 12345\n",
      "total is 12444, goal is 100\n",
      "Done, with total of {total}\n"
     ]
    }
   ],
   "source": [
    "goal = int(input('Enter goal: '))   # assumes the user really enters only digits\n",
    "total = 0\n",
    "\n",
    "# ask the user to enter numbers, and add them to total until we get to goal\n",
    "while total < goal:\n",
    "    s = input('Enter number: ').strip()\n",
    "    \n",
    "    if s.isdigit():   # if s is a string containing only digits\n",
    "        total += int(s)\n",
    "        print(f'total is {total}, goal is {goal}')\n",
    "    else:\n",
    "        print(f'{s} is not numeric')\n",
    "        \n",
    "print(f'Done, with total of {total}')        "
   ]
  },
  {
   "cell_type": "code",
   "execution_count": 35,
   "id": "50ca3af0",
   "metadata": {},
   "outputs": [
    {
     "name": "stdout",
     "output_type": "stream",
     "text": [
      "The secret number is 49\n",
      "Enter guess: 10\n",
      "Too low!\n"
     ]
    }
   ],
   "source": [
    "# last time, we did (I think!) a number guessing game\n",
    "\n",
    "import random\n",
    "number = random.randint(0, 100)  # get a random number from 0-100\n",
    "print(f'The secret number is {number}')\n",
    "\n",
    "# ask the user to guess the number\n",
    "guess = int(input('Enter guess: '))\n",
    "\n",
    "if guess < number:\n",
    "    print('Too low!')\n",
    "elif guess > number:\n",
    "    print('Too high!')\n",
    "else:\n",
    "    print('You got it!')"
   ]
  },
  {
   "cell_type": "code",
   "execution_count": 37,
   "id": "7687e6a3",
   "metadata": {},
   "outputs": [
    {
     "name": "stdout",
     "output_type": "stream",
     "text": [
      "The secret number is 25\n",
      "Enter guess: 200\n",
      "Too high!\n",
      "Enter guess: 200\n",
      "Too high!\n",
      "Enter guess: 2000\n",
      "Too high!\n",
      "Enter guess: \n"
     ]
    },
    {
     "ename": "ValueError",
     "evalue": "invalid literal for int() with base 10: ''",
     "output_type": "error",
     "traceback": [
      "\u001b[0;31m---------------------------------------------------------------------------\u001b[0m",
      "\u001b[0;31mValueError\u001b[0m                                Traceback (most recent call last)",
      "\u001b[0;32m/var/folders/rr/0mnyyv811fs5vyp22gf4fxk00000gn/T/ipykernel_63065/2813241731.py\u001b[0m in \u001b[0;36m<module>\u001b[0;34m\u001b[0m\n\u001b[1;32m      7\u001b[0m \u001b[0;32mwhile\u001b[0m \u001b[0;32mTrue\u001b[0m\u001b[0;34m:\u001b[0m\u001b[0;34m\u001b[0m\u001b[0;34m\u001b[0m\u001b[0m\n\u001b[1;32m      8\u001b[0m \u001b[0;34m\u001b[0m\u001b[0m\n\u001b[0;32m----> 9\u001b[0;31m     \u001b[0mguess\u001b[0m \u001b[0;34m=\u001b[0m \u001b[0mint\u001b[0m\u001b[0;34m(\u001b[0m\u001b[0minput\u001b[0m\u001b[0;34m(\u001b[0m\u001b[0;34m'Enter guess: '\u001b[0m\u001b[0;34m)\u001b[0m\u001b[0;34m)\u001b[0m\u001b[0;34m\u001b[0m\u001b[0;34m\u001b[0m\u001b[0m\n\u001b[0m\u001b[1;32m     10\u001b[0m \u001b[0;34m\u001b[0m\u001b[0m\n\u001b[1;32m     11\u001b[0m     \u001b[0;32mif\u001b[0m \u001b[0mguess\u001b[0m \u001b[0;34m<\u001b[0m \u001b[0mnumber\u001b[0m\u001b[0;34m:\u001b[0m\u001b[0;34m\u001b[0m\u001b[0;34m\u001b[0m\u001b[0m\n",
      "\u001b[0;31mValueError\u001b[0m: invalid literal for int() with base 10: ''"
     ]
    }
   ],
   "source": [
    "# number guessing game, let the user guess multiple times until they get it right\n",
    "\n",
    "import random\n",
    "number = random.randint(0, 100)  # get a random number from 0-100\n",
    "print(f'The secret number is {number}')\n",
    "\n",
    "while True:\n",
    "\n",
    "    guess = int(input('Enter guess: '))\n",
    "\n",
    "    if guess < number:\n",
    "        print('Too low!')\n",
    "    elif guess > number:\n",
    "        print('Too high!')\n",
    "    else:\n",
    "        print('You got it!')\n",
    "        break  # exit from the loop when we guess correctly"
   ]
  },
  {
   "cell_type": "markdown",
   "id": "64fad60a",
   "metadata": {},
   "source": [
    "# Where's the index?\n",
    "\n",
    "In C, our `for` loops look very different: We have our iteration variable, often called `i`, and it generally starts at 0, and goes up with each iteration until we get to some goal.  We can retrieve all of the characters from a string by starting at index 0, stopping at the length of the string, and incrementing between.\n",
    "\n",
    "In Python, we don't need to do this -- we can simply get the characters from the string. We don't need the index!\n",
    "\n",
    "In C, I use the index to get the data. In Python, I get the data myself, so I don't need the index.\n",
    "\n",
    "Sometimes, we want to use or print the index with the characters.  How can we do that?"
   ]
  },
  {
   "cell_type": "code",
   "execution_count": 38,
   "id": "594489ac",
   "metadata": {},
   "outputs": [
    {
     "name": "stdout",
     "output_type": "stream",
     "text": [
      "0: a\n",
      "1: b\n",
      "2: c\n",
      "3: d\n"
     ]
    }
   ],
   "source": [
    "# Option 1: Do it ourselves\n",
    "\n",
    "s = 'abcd'\n",
    "index = 0\n",
    "\n",
    "for one_character in s:\n",
    "    print(f'{index}: {one_character}')\n",
    "    index += 1"
   ]
  },
  {
   "cell_type": "code",
   "execution_count": 39,
   "id": "0079841b",
   "metadata": {},
   "outputs": [
    {
     "name": "stdout",
     "output_type": "stream",
     "text": [
      "0: a\n",
      "1: b\n",
      "2: c\n",
      "3: d\n"
     ]
    }
   ],
   "source": [
    "# Option 2: Use \"enumerate\"\n",
    "\n",
    "# enumerate is a function that can be called on any iterable (i.e., anything that \n",
    "# can be in a for loop).  It is meant to be used inside of a for loop.  With each\n",
    "# iteration, you get *two* values -- both the current index and the current element.\n",
    "\n",
    "# in other words, enumerate counts the elements for you, avoiding the need to increment index yourself each time\n",
    "\n",
    "\n",
    "s = 'abcd'\n",
    "\n",
    "for index, one_character in enumerate(s):  # enumerate returns *two* values with each iteration\n",
    "    print(f'{index}: {one_character}')"
   ]
  },
  {
   "cell_type": "code",
   "execution_count": 40,
   "id": "b570a25a",
   "metadata": {},
   "outputs": [
    {
     "name": "stdout",
     "output_type": "stream",
     "text": [
      "1: a\n",
      "2: b\n",
      "3: c\n",
      "4: d\n"
     ]
    }
   ],
   "source": [
    "# to have the enumerate's index start counting at 1, pass a second (optional) argument to enumerate\n",
    "\n",
    "s = 'abcd'\n",
    "\n",
    "for index, one_character in enumerate(s, 1): \n",
    "    print(f'{index}: {one_character}')"
   ]
  },
  {
   "cell_type": "code",
   "execution_count": 41,
   "id": "86da34bc",
   "metadata": {},
   "outputs": [
    {
     "name": "stdout",
     "output_type": "stream",
     "text": [
      "8: a\n",
      "9: b\n",
      "10: c\n",
      "11: d\n"
     ]
    }
   ],
   "source": [
    "s = 'abcd'\n",
    "\n",
    "for index, one_character in enumerate(s, 8): \n",
    "    print(f'{index}: {one_character}')"
   ]
  },
  {
   "cell_type": "markdown",
   "id": "a92f3336",
   "metadata": {},
   "source": [
    "# Exercise: Powers of 10\n",
    "\n",
    "You might know that when we have a number like 123, that's actually 1\\*100 + 2\\*10 + 3\\*1.  The number is 3 digits long, thus the first digit is multiplied by 10\\*\\*2, the second by 10\\*\\*1, and the third by 10\\*\\*0 (anything to the 0th power is 1).\n",
    "\n",
    "Ask the user to enter a number. Print the number, one digit at a time, expanded with powers of 10.\n",
    "\n",
    "Example:\n",
    "\n",
    "    Enter a number: 1234\n",
    "    1234 = 1*1000 + 2*100 + 3*10 + 4*1\n",
    "    \n",
    "Hints/reminders:\n",
    "1. Iterate over a string with `for`\n",
    "2. We can get the length of the string with `len`\n",
    "3. The exponentiation operator in Python is `**`, so `2**3` is 8."
   ]
  },
  {
   "cell_type": "code",
   "execution_count": 47,
   "id": "7ef112db",
   "metadata": {},
   "outputs": [
    {
     "name": "stdout",
     "output_type": "stream",
     "text": [
      "Enter a number: 1234\n",
      "1 * 1000\n",
      "2 * 100\n",
      "3 * 10\n",
      "4 * 1\n"
     ]
    }
   ],
   "source": [
    "s = input('Enter a number: ').strip()\n",
    "\n",
    "if s.isdigit():\n",
    "    for index, one_digit in enumerate(s):\n",
    "        power = len(s) - index - 1\n",
    "        \n",
    "        print(f'{one_digit} * {10 ** power}')"
   ]
  },
  {
   "cell_type": "markdown",
   "id": "1d655e50",
   "metadata": {},
   "source": [
    "# Demo: Sum digits\n",
    "\n",
    "I'll ask the user to enter strings.  When the user enters an empty string, we'll stop asking.\n",
    "\n",
    "Meanwhile, we'll go through each entered string, one character at a time. If the character is a digit, then we'll add it to our total.  (If not, we'll scold the user.)"
   ]
  },
  {
   "cell_type": "code",
   "execution_count": 48,
   "id": "30f9c3da",
   "metadata": {
    "scrolled": true
   },
   "outputs": [
    {
     "name": "stdout",
     "output_type": "stream",
     "text": [
      "Enter digits: 12345\n",
      "Added 1; total is now 1\n",
      "Added 2; total is now 3\n",
      "Added 3; total is now 6\n",
      "Added 4; total is now 10\n",
      "Added 5; total is now 15\n",
      "Enter digits: abc456\n",
      "a is not numeric\n",
      "b is not numeric\n",
      "c is not numeric\n",
      "Added 4; total is now 19\n",
      "Added 5; total is now 24\n",
      "Added 6; total is now 30\n",
      "Enter digits: \n",
      "total = 30\n"
     ]
    }
   ],
   "source": [
    "total = 0\n",
    "\n",
    "while True:  # ask for many inputs from the user\n",
    "    s = input('Enter digits: ').strip()  # s is a string\n",
    "    \n",
    "    if s == '':  # exit the loop when we get an empty string\n",
    "        break\n",
    "        \n",
    "    for one_character in s:  # one_character is a string\n",
    "        if one_character.isdigit():\n",
    "            total += int(one_character)\n",
    "            print(f'Added {one_character}; total is now {total}')\n",
    "        else:\n",
    "            print(f'{one_character} is not numeric')\n",
    "            \n",
    "print(f'total = {total}')            "
   ]
  },
  {
   "cell_type": "code",
   "execution_count": 49,
   "id": "6ad21424",
   "metadata": {},
   "outputs": [
    {
     "data": {
      "text/plain": [
       "True"
      ]
     },
     "execution_count": 49,
     "metadata": {},
     "output_type": "execute_result"
    }
   ],
   "source": [
    "s = '1'\n",
    "\n",
    "s.isdigit()"
   ]
  },
  {
   "cell_type": "code",
   "execution_count": 50,
   "id": "c28d843c",
   "metadata": {},
   "outputs": [
    {
     "data": {
      "text/plain": [
       "'11'"
      ]
     },
     "execution_count": 50,
     "metadata": {},
     "output_type": "execute_result"
    }
   ],
   "source": [
    "s + s"
   ]
  },
  {
   "cell_type": "code",
   "execution_count": 51,
   "id": "5b93b56b",
   "metadata": {},
   "outputs": [
    {
     "data": {
      "text/plain": [
       "True"
      ]
     },
     "execution_count": 51,
     "metadata": {},
     "output_type": "execute_result"
    }
   ],
   "source": [
    "# str.isdigit is a \"string method\" \n",
    "# methods are functions that are attached to specific types of objects\n",
    "\n",
    "s = '1234'\n",
    "s.isdigit()   # returns True if all characters are 0-9, False otherwise"
   ]
  },
  {
   "cell_type": "code",
   "execution_count": 52,
   "id": "0e61eb15",
   "metadata": {},
   "outputs": [
    {
     "data": {
      "text/plain": [
       "'aBcD eFgH iJkL'"
      ]
     },
     "execution_count": 52,
     "metadata": {},
     "output_type": "execute_result"
    }
   ],
   "source": [
    "# Some string methods!\n",
    "\n",
    "s = '  aBcD eFgH iJkL '\n",
    "s.strip()  # returns a new string, based on s, without leading/trailing whitespace (space, \\n, \\t, etc.)"
   ]
  },
  {
   "cell_type": "code",
   "execution_count": 54,
   "id": "07934148",
   "metadata": {
    "scrolled": true
   },
   "outputs": [
    {
     "data": {
      "text/plain": [
       "'  ABCD EFGH IJKL '"
      ]
     },
     "execution_count": 54,
     "metadata": {},
     "output_type": "execute_result"
    }
   ],
   "source": [
    "s.upper()  # returns a new string, based on s, with all characters UPPERCASE"
   ]
  },
  {
   "cell_type": "code",
   "execution_count": 55,
   "id": "61b3bee5",
   "metadata": {
    "scrolled": true
   },
   "outputs": [
    {
     "data": {
      "text/plain": [
       "'  abcd efgh ijkl '"
      ]
     },
     "execution_count": 55,
     "metadata": {},
     "output_type": "execute_result"
    }
   ],
   "source": [
    "s.lower()  # returns a new string, based on s, with all characters lowercase"
   ]
  },
  {
   "cell_type": "code",
   "execution_count": 56,
   "id": "6e1b9c44",
   "metadata": {
    "scrolled": true
   },
   "outputs": [
    {
     "data": {
      "text/plain": [
       "'  Abcd Efgh Ijkl '"
      ]
     },
     "execution_count": 56,
     "metadata": {},
     "output_type": "execute_result"
    }
   ],
   "source": [
    "s.title()"
   ]
  },
  {
   "cell_type": "code",
   "execution_count": 57,
   "id": "ceec4d1d",
   "metadata": {
    "scrolled": true
   },
   "outputs": [
    {
     "data": {
      "text/plain": [
       "7"
      ]
     },
     "execution_count": 57,
     "metadata": {},
     "output_type": "execute_result"
    }
   ],
   "source": [
    "s.index('e')  # returns the integer of where 'e' is located in s"
   ]
  },
  {
   "cell_type": "code",
   "execution_count": 59,
   "id": "7add0858",
   "metadata": {},
   "outputs": [
    {
     "data": {
      "text/plain": [
       "'  aBcD eFgH iJkL '"
      ]
     },
     "execution_count": 59,
     "metadata": {},
     "output_type": "execute_result"
    }
   ],
   "source": [
    "s"
   ]
  },
  {
   "cell_type": "code",
   "execution_count": 58,
   "id": "a2c91a7e",
   "metadata": {},
   "outputs": [
    {
     "data": {
      "text/plain": [
       "'aBcDeFgHiJkL'"
      ]
     },
     "execution_count": 58,
     "metadata": {},
     "output_type": "execute_result"
    }
   ],
   "source": [
    "s.replace(' ', '')  # returns a new string based on s, replacing all ' ' with '' (meaning: remove them)"
   ]
  },
  {
   "cell_type": "markdown",
   "id": "be6dc400",
   "metadata": {},
   "source": [
    "# Next up\n",
    "\n",
    "Lists\n",
    "   - Defining lists\n",
    "   - Retrieve from lists\n",
    "   - Lists are sequences (just like strings)\n",
    "   - Lists are mutable, which is both good and bad\n",
    "   - List methods"
   ]
  },
  {
   "cell_type": "markdown",
   "id": "31335e17",
   "metadata": {},
   "source": [
    "# Lists \n",
    "\n",
    "So far, we've looked at integers and strings.  Strings are containers, but for individual characters.\n",
    "\n",
    "What if I need a collection of other things?\n",
    "\n",
    "- IP addresses\n",
    "- Usernames\n",
    "- URLs for Web sites\n",
    "- Numbers (salaries, bonuses, sales figures)\n",
    "\n",
    "Lists are defined with `[]`, and the elements of the list can be *anything at all* in Python.  Elements are separated with commas (`,`)."
   ]
  },
  {
   "cell_type": "code",
   "execution_count": 60,
   "id": "3809ca5a",
   "metadata": {},
   "outputs": [
    {
     "data": {
      "text/plain": [
       "list"
      ]
     },
     "execution_count": 60,
     "metadata": {},
     "output_type": "execute_result"
    }
   ],
   "source": [
    "mylist = [10, 20, 30, 40, 50, 60, 70, 80, 90, 100]\n",
    "type(mylist)"
   ]
  },
  {
   "cell_type": "markdown",
   "id": "ad0e3dde",
   "metadata": {},
   "source": [
    "Even though a list may contain any number of objects of any sort, it's traditional for a list's elements to all be of the same type."
   ]
  },
  {
   "cell_type": "code",
   "execution_count": 61,
   "id": "59086ea1",
   "metadata": {},
   "outputs": [
    {
     "data": {
      "text/plain": [
       "10"
      ]
     },
     "execution_count": 61,
     "metadata": {},
     "output_type": "execute_result"
    }
   ],
   "source": [
    "# What can I do with lists?  Many of the actions are just like what we can do with strings!\n",
    "# (that's on purpose, to make it easier to remember and use)\n",
    "\n",
    "mylist[0]  # gets the first element"
   ]
  },
  {
   "cell_type": "code",
   "execution_count": 62,
   "id": "94c2c6e5",
   "metadata": {},
   "outputs": [
    {
     "data": {
      "text/plain": [
       "20"
      ]
     },
     "execution_count": 62,
     "metadata": {},
     "output_type": "execute_result"
    }
   ],
   "source": [
    "mylist[1]  # gets the second element"
   ]
  },
  {
   "cell_type": "code",
   "execution_count": 63,
   "id": "08907cfe",
   "metadata": {},
   "outputs": [
    {
     "data": {
      "text/plain": [
       "100"
      ]
     },
     "execution_count": 63,
     "metadata": {},
     "output_type": "execute_result"
    }
   ],
   "source": [
    "mylist[-1]  # gets the final element"
   ]
  },
  {
   "cell_type": "code",
   "execution_count": 64,
   "id": "f6e9f619",
   "metadata": {},
   "outputs": [
    {
     "data": {
      "text/plain": [
       "10"
      ]
     },
     "execution_count": 64,
     "metadata": {},
     "output_type": "execute_result"
    }
   ],
   "source": [
    "len(mylist)  # how many elements are in mylist?"
   ]
  },
  {
   "cell_type": "code",
   "execution_count": 65,
   "id": "75bbc7d2",
   "metadata": {},
   "outputs": [
    {
     "name": "stdout",
     "output_type": "stream",
     "text": [
      "10\n"
     ]
    }
   ],
   "source": [
    "print(len(mylist))"
   ]
  },
  {
   "cell_type": "code",
   "execution_count": 66,
   "id": "e2623d83",
   "metadata": {},
   "outputs": [
    {
     "name": "stdout",
     "output_type": "stream",
     "text": [
      "10\n",
      "20\n",
      "30\n",
      "40\n",
      "50\n",
      "60\n",
      "70\n",
      "80\n",
      "90\n",
      "100\n"
     ]
    }
   ],
   "source": [
    "# iterate over a list\n",
    "for one_item in mylist:\n",
    "    print(one_item)"
   ]
  },
  {
   "cell_type": "code",
   "execution_count": 67,
   "id": "b5e4c254",
   "metadata": {},
   "outputs": [
    {
     "data": {
      "text/plain": [
       "True"
      ]
     },
     "execution_count": 67,
     "metadata": {},
     "output_type": "execute_result"
    }
   ],
   "source": [
    "# search in a list\n",
    "50 in mylist"
   ]
  },
  {
   "cell_type": "code",
   "execution_count": 68,
   "id": "f2eeabde",
   "metadata": {},
   "outputs": [
    {
     "data": {
      "text/plain": [
       "False"
      ]
     },
     "execution_count": 68,
     "metadata": {},
     "output_type": "execute_result"
    }
   ],
   "source": [
    "'50' in mylist"
   ]
  },
  {
   "cell_type": "code",
   "execution_count": 69,
   "id": "6a55ec50",
   "metadata": {},
   "outputs": [
    {
     "data": {
      "text/plain": [
       "[30, 40, 50, 60, 70]"
      ]
     },
     "execution_count": 69,
     "metadata": {},
     "output_type": "execute_result"
    }
   ],
   "source": [
    "# slices, too!\n",
    "\n",
    "mylist[2:7]"
   ]
  },
  {
   "cell_type": "code",
   "execution_count": 70,
   "id": "9ac39e5b",
   "metadata": {},
   "outputs": [],
   "source": [
    "mylist = [10, 20, 30]\n",
    "biglist = [mylist, mylist, mylist]"
   ]
  },
  {
   "cell_type": "code",
   "execution_count": 71,
   "id": "62fd778f",
   "metadata": {},
   "outputs": [
    {
     "data": {
      "text/plain": [
       "3"
      ]
     },
     "execution_count": 71,
     "metadata": {},
     "output_type": "execute_result"
    }
   ],
   "source": [
    "len(mylist)"
   ]
  },
  {
   "cell_type": "code",
   "execution_count": 72,
   "id": "57172ac7",
   "metadata": {},
   "outputs": [
    {
     "data": {
      "text/plain": [
       "3"
      ]
     },
     "execution_count": 72,
     "metadata": {},
     "output_type": "execute_result"
    }
   ],
   "source": [
    "len(biglist)"
   ]
  },
  {
   "cell_type": "code",
   "execution_count": 73,
   "id": "64941f34",
   "metadata": {},
   "outputs": [
    {
     "ename": "TypeError",
     "evalue": "'str' object does not support item assignment",
     "output_type": "error",
     "traceback": [
      "\u001b[0;31m---------------------------------------------------------------------------\u001b[0m",
      "\u001b[0;31mTypeError\u001b[0m                                 Traceback (most recent call last)",
      "\u001b[0;32m/var/folders/rr/0mnyyv811fs5vyp22gf4fxk00000gn/T/ipykernel_63065/1178979598.py\u001b[0m in \u001b[0;36m<module>\u001b[0;34m\u001b[0m\n\u001b[1;32m      1\u001b[0m \u001b[0;31m# strings are immutable\u001b[0m\u001b[0;34m\u001b[0m\u001b[0;34m\u001b[0m\u001b[0m\n\u001b[1;32m      2\u001b[0m \u001b[0ms\u001b[0m \u001b[0;34m=\u001b[0m \u001b[0;34m'abcd'\u001b[0m\u001b[0;34m\u001b[0m\u001b[0;34m\u001b[0m\u001b[0m\n\u001b[0;32m----> 3\u001b[0;31m \u001b[0ms\u001b[0m\u001b[0;34m[\u001b[0m\u001b[0;36m0\u001b[0m\u001b[0;34m]\u001b[0m \u001b[0;34m=\u001b[0m \u001b[0;34m'!'\u001b[0m  \u001b[0;31m# this won't work!\u001b[0m\u001b[0;34m\u001b[0m\u001b[0;34m\u001b[0m\u001b[0m\n\u001b[0m",
      "\u001b[0;31mTypeError\u001b[0m: 'str' object does not support item assignment"
     ]
    }
   ],
   "source": [
    "# strings are immutable\n",
    "s = 'abcd'\n",
    "s[0] = '!'  # this won't work!"
   ]
  },
  {
   "cell_type": "code",
   "execution_count": 74,
   "id": "9c3889a2",
   "metadata": {},
   "outputs": [],
   "source": [
    "mylist[0] = '!'  # can we change a list?"
   ]
  },
  {
   "cell_type": "code",
   "execution_count": 75,
   "id": "5283f966",
   "metadata": {},
   "outputs": [
    {
     "data": {
      "text/plain": [
       "['!', 20, 30]"
      ]
     },
     "execution_count": 75,
     "metadata": {},
     "output_type": "execute_result"
    }
   ],
   "source": [
    "mylist"
   ]
  },
  {
   "cell_type": "code",
   "execution_count": 76,
   "id": "ca5e30a8",
   "metadata": {},
   "outputs": [
    {
     "data": {
      "text/plain": [
       "[['!', 20, 30], ['!', 20, 30], ['!', 20, 30]]"
      ]
     },
     "execution_count": 76,
     "metadata": {},
     "output_type": "execute_result"
    }
   ],
   "source": [
    "biglist"
   ]
  },
  {
   "cell_type": "code",
   "execution_count": 77,
   "id": "04db7bbf",
   "metadata": {},
   "outputs": [
    {
     "data": {
      "text/plain": [
       "[10, 20, 30, 40]"
      ]
     },
     "execution_count": 77,
     "metadata": {},
     "output_type": "execute_result"
    }
   ],
   "source": [
    "# to add one element to the end of a list, use \"list.append\"\n",
    "mylist = [10, 20, 30]\n",
    "mylist.append(40)  # now the list has 4 elements, ending with 40\n",
    "\n",
    "mylist"
   ]
  },
  {
   "cell_type": "code",
   "execution_count": 78,
   "id": "56462de4",
   "metadata": {},
   "outputs": [
    {
     "data": {
      "text/plain": [
       "[10, 20, 30, 40, [50, 60, 70]]"
      ]
     },
     "execution_count": 78,
     "metadata": {},
     "output_type": "execute_result"
    }
   ],
   "source": [
    "# I can append any Python data type to the end of a list\n",
    "mylist.append([50, 60, 70])\n",
    "mylist"
   ]
  },
  {
   "cell_type": "code",
   "execution_count": 79,
   "id": "e7500705",
   "metadata": {},
   "outputs": [
    {
     "data": {
      "text/plain": [
       "[10, 20, 30, 40, [50, 60, 70], 80, 90, 100]"
      ]
     },
     "execution_count": 79,
     "metadata": {},
     "output_type": "execute_result"
    }
   ],
   "source": [
    "# what if I want to add more than one thing? \n",
    "# I can use the += operator, which does change the list\n",
    "\n",
    "mylist += [80, 90, 100]  # += runs a for loop on the list we see on the right side, appending each element\n",
    "mylist"
   ]
  },
  {
   "cell_type": "code",
   "execution_count": 80,
   "id": "e40e20c4",
   "metadata": {},
   "outputs": [
    {
     "data": {
      "text/plain": [
       "[10, 20, 30, 'abc']"
      ]
     },
     "execution_count": 80,
     "metadata": {},
     "output_type": "execute_result"
    }
   ],
   "source": [
    "mylist = [10, 20, 30]\n",
    "mylist.append('abc')\n",
    "mylist"
   ]
  },
  {
   "cell_type": "code",
   "execution_count": 81,
   "id": "ffc1e74d",
   "metadata": {},
   "outputs": [
    {
     "data": {
      "text/plain": [
       "[10, 20, 30, 'abc', 'a', 'b', 'c']"
      ]
     },
     "execution_count": 81,
     "metadata": {},
     "output_type": "execute_result"
    }
   ],
   "source": [
    "mylist += 'abc'   # += runs a for loop on the item to its right, appending each one\n",
    "mylist"
   ]
  },
  {
   "cell_type": "code",
   "execution_count": 82,
   "id": "842f72dd",
   "metadata": {},
   "outputs": [
    {
     "data": {
      "text/plain": [
       "'c'"
      ]
     },
     "execution_count": 82,
     "metadata": {},
     "output_type": "execute_result"
    }
   ],
   "source": [
    "# you can remove items from a list\n",
    "# the easiest way is to use \"list.pop\", which removes + returns the final element in the list\n",
    "\n",
    "mylist.pop()"
   ]
  },
  {
   "cell_type": "code",
   "execution_count": 83,
   "id": "3ccaa3a0",
   "metadata": {},
   "outputs": [
    {
     "data": {
      "text/plain": [
       "[10, 20, 30, 'abc', 'a', 'b']"
      ]
     },
     "execution_count": 83,
     "metadata": {},
     "output_type": "execute_result"
    }
   ],
   "source": [
    "mylist"
   ]
  },
  {
   "cell_type": "code",
   "execution_count": 84,
   "id": "fc8bcbcd",
   "metadata": {},
   "outputs": [
    {
     "data": {
      "text/plain": [
       "'b'"
      ]
     },
     "execution_count": 84,
     "metadata": {},
     "output_type": "execute_result"
    }
   ],
   "source": [
    "mylist.pop()"
   ]
  },
  {
   "cell_type": "code",
   "execution_count": 85,
   "id": "ac391346",
   "metadata": {},
   "outputs": [
    {
     "data": {
      "text/plain": [
       "[10, 20, 30, 'abc', 'a']"
      ]
     },
     "execution_count": 85,
     "metadata": {},
     "output_type": "execute_result"
    }
   ],
   "source": [
    "mylist"
   ]
  },
  {
   "cell_type": "code",
   "execution_count": 86,
   "id": "a724c5cf",
   "metadata": {},
   "outputs": [
    {
     "data": {
      "text/plain": [
       "20"
      ]
     },
     "execution_count": 86,
     "metadata": {},
     "output_type": "execute_result"
    }
   ],
   "source": [
    "mylist.pop(1)  # removes the item at index 1"
   ]
  },
  {
   "cell_type": "code",
   "execution_count": 87,
   "id": "10f58959",
   "metadata": {},
   "outputs": [
    {
     "data": {
      "text/plain": [
       "[10, 30, 'abc', 'a']"
      ]
     },
     "execution_count": 87,
     "metadata": {},
     "output_type": "execute_result"
    }
   ],
   "source": [
    "mylist"
   ]
  },
  {
   "cell_type": "code",
   "execution_count": 89,
   "id": "522b2614",
   "metadata": {},
   "outputs": [
    {
     "name": "stdout",
     "output_type": "stream",
     "text": [
      "20\n",
      "30\n",
      "40\n"
     ]
    }
   ],
   "source": [
    "# print elements of mylist + 10\n",
    "\n",
    "mylist = [10, 20, 30]\n",
    "\n",
    "for one_item in mylist:\n",
    "    print(one_item + 10)"
   ]
  },
  {
   "cell_type": "code",
   "execution_count": 90,
   "id": "e0e4d1f9",
   "metadata": {},
   "outputs": [
    {
     "data": {
      "text/plain": [
       "[20, 30, 40]"
      ]
     },
     "execution_count": 90,
     "metadata": {},
     "output_type": "execute_result"
    }
   ],
   "source": [
    "# get a new list, whose elements are teh same as mylist, but +10\n",
    "\n",
    "output = [] # empty list\n",
    "mylist = [10, 20, 30]\n",
    "\n",
    "for one_item in mylist:\n",
    "    output.append(one_item + 10)\n",
    "    \n",
    "output    "
   ]
  },
  {
   "cell_type": "code",
   "execution_count": 91,
   "id": "b00ab755",
   "metadata": {},
   "outputs": [
    {
     "data": {
      "text/plain": [
       "[10, 'hello', 20, 30, 40, 50]"
      ]
     },
     "execution_count": 91,
     "metadata": {},
     "output_type": "execute_result"
    }
   ],
   "source": [
    "# the list.insert method adds at a particular location, pushing to the right whatever was there before\n",
    "mylist = [10, 20, 30, 40, 50]\n",
    "\n",
    "mylist.insert(1, 'hello')\n",
    "mylist"
   ]
  },
  {
   "cell_type": "markdown",
   "id": "d72be8af",
   "metadata": {},
   "source": [
    "# Exercise: Odds and evens\n",
    "\n",
    "1. Define two empty lists, `odds` and `evens`.\n",
    "2. Ask the user, repeatedly, to enter a number.\n",
    "     - If they enter an empty string, exit the loop\n",
    "     - If they enter a non-numeric string, scold them and try again\n",
    "     - Turn the user's input into an integer, and check if it's odd or even. If it's odd, add it to `odds`. If it's even, add it to `evens`.\n",
    "3. After the loop, print both `odds` and `evens`.     "
   ]
  },
  {
   "cell_type": "code",
   "execution_count": 92,
   "id": "d1f5b2ed",
   "metadata": {},
   "outputs": [
    {
     "name": "stdout",
     "output_type": "stream",
     "text": [
      "Enter a number: 100\n",
      "Enter a number: 123\n",
      "Enter a number: 152\n",
      "Enter a number: 157\n",
      "Enter a number: \n",
      "odds = [123, 157]\n",
      "evens = [100, 152]\n"
     ]
    }
   ],
   "source": [
    "odds = []\n",
    "evens = []\n",
    "\n",
    "while True:\n",
    "    s = input('Enter a number: ').strip()\n",
    "    \n",
    "    if s == '':\n",
    "        break\n",
    "        \n",
    "    if not s.isdigit():\n",
    "        print(f'{s} is not numeric; try again')\n",
    "        continue\n",
    "        \n",
    "    # if I'm here, then I know s is not blank, and that it contains only digits\n",
    "    \n",
    "    # method 1 to check if it's odd:\n",
    "    if s[-1] in '13579':       # is the last digit odd?\n",
    "        odds.append(int(s))    # turn it into an integer, and append to odds\n",
    "    else:\n",
    "        evens.append(int(s))   # turn it into an integer, and append to evens\n",
    "        \n",
    "print(f'odds = {odds}')        \n",
    "print(f'evens = {evens}')        \n",
    "    "
   ]
  },
  {
   "cell_type": "code",
   "execution_count": 93,
   "id": "a6813179",
   "metadata": {},
   "outputs": [
    {
     "name": "stdout",
     "output_type": "stream",
     "text": [
      "Enter a number: 10\n",
      "Enter a number: 15\n",
      "Enter a number: 20\n",
      "Enter a number: 25\n",
      "Enter a number: 30\n",
      "Enter a number: 35\n",
      "Enter a number: \n",
      "odds = [15, 25, 35]\n",
      "evens = [10, 20, 30]\n"
     ]
    }
   ],
   "source": [
    "odds = []\n",
    "evens = []\n",
    "\n",
    "while True:\n",
    "    s = input('Enter a number: ').strip()\n",
    "    \n",
    "    if s == '':  # if the user enters an empty string, break out of the while loop\n",
    "        break\n",
    "        \n",
    "    if not s.isdigit():\n",
    "        print(f'{s} is not numeric; try again')\n",
    "        continue\n",
    "        \n",
    "    # if I'm here, then I know s is not blank, and that it contains only digits\n",
    "    \n",
    "    # method 2 is to turn s into an integer, and \n",
    "    # check the remainder after dividing by 2\n",
    "    n = int(s)\n",
    "    \n",
    "    if n % 2 == 1:    # if the remainder from dividing by 2 is 1, it must be odd\n",
    "        odds.append(int(s))    # append to odds\n",
    "    else:\n",
    "        evens.append(int(s))   # append to evens\n",
    "        \n",
    "print(f'odds = {odds}')        \n",
    "print(f'evens = {evens}')        \n",
    "    "
   ]
  },
  {
   "cell_type": "code",
   "execution_count": 94,
   "id": "8e435de7",
   "metadata": {},
   "outputs": [
    {
     "data": {
      "text/plain": [
       "75"
      ]
     },
     "execution_count": 94,
     "metadata": {},
     "output_type": "execute_result"
    }
   ],
   "source": [
    "# what if I want to show the sum and average (mean) of each of our lists?\n",
    "# Python has a \"sum\" method that takes a list of numbers as an input\n",
    "\n",
    "sum(odds)"
   ]
  },
  {
   "cell_type": "code",
   "execution_count": 95,
   "id": "6051d873",
   "metadata": {},
   "outputs": [
    {
     "data": {
      "text/plain": [
       "60"
      ]
     },
     "execution_count": 95,
     "metadata": {},
     "output_type": "execute_result"
    }
   ],
   "source": [
    "sum(evens)"
   ]
  },
  {
   "cell_type": "code",
   "execution_count": 96,
   "id": "3fc770dd",
   "metadata": {},
   "outputs": [
    {
     "name": "stdout",
     "output_type": "stream",
     "text": [
      "Average of odds = 25.0\n",
      "Average of evens = 20.0\n"
     ]
    }
   ],
   "source": [
    "# average = sum / length\n",
    "print(f'Average of odds = {sum(odds) / len(odds)}')\n",
    "print(f'Average of evens = {sum(evens) / len(evens)}')\n"
   ]
  },
  {
   "cell_type": "code",
   "execution_count": 97,
   "id": "19528987",
   "metadata": {},
   "outputs": [
    {
     "data": {
      "text/plain": [
       "False"
      ]
     },
     "execution_count": 97,
     "metadata": {},
     "output_type": "execute_result"
    }
   ],
   "source": [
    "# we can compare two integers or strings with < and > (and ==)\n",
    "\n",
    "'taxi' < 'cab'"
   ]
  },
  {
   "cell_type": "code",
   "execution_count": 98,
   "id": "d309df6a",
   "metadata": {},
   "outputs": [
    {
     "data": {
      "text/plain": [
       "True"
      ]
     },
     "execution_count": 98,
     "metadata": {},
     "output_type": "execute_result"
    }
   ],
   "source": [
    "'cab' < 'taxi'"
   ]
  },
  {
   "cell_type": "code",
   "execution_count": 99,
   "id": "2920cef1",
   "metadata": {},
   "outputs": [
    {
     "data": {
      "text/plain": [
       "True"
      ]
     },
     "execution_count": 99,
     "metadata": {},
     "output_type": "execute_result"
    }
   ],
   "source": [
    "10 < 100"
   ]
  },
  {
   "cell_type": "code",
   "execution_count": 100,
   "id": "5ce81f33",
   "metadata": {},
   "outputs": [
    {
     "data": {
      "text/plain": [
       "False"
      ]
     },
     "execution_count": 100,
     "metadata": {},
     "output_type": "execute_result"
    }
   ],
   "source": [
    "100 < 10"
   ]
  },
  {
   "cell_type": "code",
   "execution_count": 101,
   "id": "75e69b72",
   "metadata": {},
   "outputs": [
    {
     "data": {
      "text/plain": [
       "[-8, -1, 2, 10, 12, 15, 19, 30]"
      ]
     },
     "execution_count": 101,
     "metadata": {},
     "output_type": "execute_result"
    }
   ],
   "source": [
    "# what if I have a list of elements, and I want to sort them from lowest to highest?\n",
    "mylist = [10, 15, 2, -8, -1, 12, 30, 19]\n",
    "\n",
    "sorted(mylist)  # this returns a new list, based on mylist, with elements sorted from lowest to highest"
   ]
  },
  {
   "cell_type": "code",
   "execution_count": 102,
   "id": "694b827f",
   "metadata": {},
   "outputs": [
    {
     "data": {
      "text/plain": [
       "['a', 'bunch', 'is', 'of', 'this', 'words']"
      ]
     },
     "execution_count": 102,
     "metadata": {},
     "output_type": "execute_result"
    }
   ],
   "source": [
    "mylist = ['this', 'is', 'a', 'bunch', 'of', 'words']\n",
    "sorted(mylist)"
   ]
  },
  {
   "cell_type": "markdown",
   "id": "34a2e137",
   "metadata": {},
   "source": [
    "# Exercise: Vowels, digits, and others\n",
    "\n",
    "1. Define three empty lists -- `vowels`, `digits`, and `others`.\n",
    "2. Repeatedly ask the user to enter a string.\n",
    "    - If the user enters an empty string, stop asking and exit from the loop.\n",
    "3. Go through each character in the string, and check:\n",
    "    - If it's a vowel (a,e, i, o, u) then add it to the `vowels` list\n",
    "    - If it's a digit (0-9) then add it to the `digits` list\n",
    "    - In other cases, add it to the `others` list\n",
    "4. After the loop ends, print the value of each list.    "
   ]
  },
  {
   "cell_type": "code",
   "execution_count": 103,
   "id": "7ec4ac1e",
   "metadata": {},
   "outputs": [
    {
     "name": "stdout",
     "output_type": "stream",
     "text": [
      "Enter a string: hello !!! 123\n",
      "Enter a string: goodbye ??? 456\n",
      "Enter a string: \n",
      "vowels = ['e', 'o', 'o', 'o', 'e']\n",
      "digits = ['1', '2', '3', '4', '5', '6']\n",
      "others = ['h', 'l', 'l', ' ', '!', '!', '!', ' ', 'g', 'd', 'b', 'y', ' ', '?', '?', '?', ' ']\n"
     ]
    }
   ],
   "source": [
    "vowels = []\n",
    "digits = []\n",
    "others = []\n",
    "\n",
    "while True:\n",
    "    s = input('Enter a string: ').strip()\n",
    "    \n",
    "    if s == '':\n",
    "        break\n",
    "        \n",
    "    for one_character in s:\n",
    "        if one_character in 'aeiou':\n",
    "            vowels.append(one_character)\n",
    "        elif one_character.isdigit():\n",
    "            digits.append(one_character)\n",
    "        else:\n",
    "            others.append(one_character)\n",
    "            \n",
    "print(f'vowels = {vowels}')\n",
    "print(f'digits = {digits}')\n",
    "print(f'others = {others}')\n"
   ]
  },
  {
   "cell_type": "markdown",
   "id": "8b114edc",
   "metadata": {},
   "source": [
    "# Next up\n",
    "\n",
    "1. Turning strings into lists (with `str.split`)\n",
    "2. Turning lists into strings (with `str.join`)\n",
    "3. Tuples\n",
    "4. Unpacking"
   ]
  },
  {
   "cell_type": "code",
   "execution_count": 104,
   "id": "aaf15a14",
   "metadata": {},
   "outputs": [
    {
     "data": {
      "text/plain": [
       "5"
      ]
     },
     "execution_count": 104,
     "metadata": {},
     "output_type": "execute_result"
    }
   ],
   "source": [
    "# we know that we can always get a new data structure from an existing one by\n",
    "# calling a type as if it were a function\n",
    "\n",
    "int('5')   # get a new int based on '5'"
   ]
  },
  {
   "cell_type": "code",
   "execution_count": 105,
   "id": "d2fda56d",
   "metadata": {},
   "outputs": [
    {
     "data": {
      "text/plain": [
       "'5'"
      ]
     },
     "execution_count": 105,
     "metadata": {},
     "output_type": "execute_result"
    }
   ],
   "source": [
    "str(5)   # get a new string based on 5"
   ]
  },
  {
   "cell_type": "code",
   "execution_count": 106,
   "id": "2dd357d0",
   "metadata": {},
   "outputs": [
    {
     "data": {
      "text/plain": [
       "['a', 'b', ' ', 'c', 'd', 'e', ' ', 'f', 'g']"
      ]
     },
     "execution_count": 106,
     "metadata": {},
     "output_type": "execute_result"
    }
   ],
   "source": [
    "s = 'ab cde fg'\n",
    "\n",
    "# I want a list based on this\n",
    "list(s)"
   ]
  },
  {
   "cell_type": "code",
   "execution_count": 107,
   "id": "6b5ddc09",
   "metadata": {},
   "outputs": [
    {
     "data": {
      "text/plain": [
       "['ab', 'cde', 'fg']"
      ]
     },
     "execution_count": 107,
     "metadata": {},
     "output_type": "execute_result"
    }
   ],
   "source": [
    "# what if you want a list containing the words in s -- that is, with three elements, not 9?\n",
    "# we can use the str.split method, which returns a list of strings based on an existing string\n",
    "\n",
    "s.split(' ')  # this returns a new list of strings, based on s, using ' ' as the separator"
   ]
  },
  {
   "cell_type": "code",
   "execution_count": 108,
   "id": "ac2695b6",
   "metadata": {},
   "outputs": [
    {
     "data": {
      "text/plain": [
       "['ab', 'cde', 'fg']"
      ]
     },
     "execution_count": 108,
     "metadata": {},
     "output_type": "execute_result"
    }
   ],
   "source": [
    "s = 'ab:cde:fg'\n",
    "\n",
    "s.split(':')"
   ]
  },
  {
   "cell_type": "code",
   "execution_count": 109,
   "id": "e571d3d1",
   "metadata": {},
   "outputs": [
    {
     "data": {
      "text/plain": [
       "['ab:c', 'e:fg']"
      ]
     },
     "execution_count": 109,
     "metadata": {},
     "output_type": "execute_result"
    }
   ],
   "source": [
    "s.split('d')"
   ]
  },
  {
   "cell_type": "code",
   "execution_count": 110,
   "id": "200a87e8",
   "metadata": {},
   "outputs": [
    {
     "data": {
      "text/plain": [
       "['ab:', 'e:fg']"
      ]
     },
     "execution_count": 110,
     "metadata": {},
     "output_type": "execute_result"
    }
   ],
   "source": [
    "s.split('cd')"
   ]
  },
  {
   "cell_type": "code",
   "execution_count": 111,
   "id": "47ae7e70",
   "metadata": {},
   "outputs": [
    {
     "data": {
      "text/plain": [
       "['ab', '', 'cde', '', '', '', '', 'fg']"
      ]
     },
     "execution_count": 111,
     "metadata": {},
     "output_type": "execute_result"
    }
   ],
   "source": [
    "# what if this is my string?\n",
    "\n",
    "s = 'ab  cde     fg'\n",
    "s.split(' ')  # what will I get now?"
   ]
  },
  {
   "cell_type": "code",
   "execution_count": 112,
   "id": "a5b9cf60",
   "metadata": {},
   "outputs": [
    {
     "data": {
      "text/plain": [
       "['ab', 'cde', 'fg']"
      ]
     },
     "execution_count": 112,
     "metadata": {},
     "output_type": "execute_result"
    }
   ],
   "source": [
    "# I can deal with this by calling str.split with *NO* arguments\n",
    "# that will look for any whitespace (space, \\n, \\r, \\t, \\v), in any combination and length, to cut\n",
    "\n",
    "s.split()  # I can do less work, and get more done!"
   ]
  },
  {
   "cell_type": "code",
   "execution_count": 113,
   "id": "fbd9a60c",
   "metadata": {},
   "outputs": [
    {
     "name": "stdout",
     "output_type": "stream",
     "text": [
      "Enter a word: train\n",
      "raintay\n"
     ]
    }
   ],
   "source": [
    "# Last time, we wrote a Pig Latin translator\n",
    "# You would enter an English word (all lowercase) and get back the translation into Pig Latin.\n",
    "\n",
    "word = input('Enter a word: ').strip()\n",
    "\n",
    "if word[0] in 'aeiou':\n",
    "    print(word + 'way')\n",
    "else:\n",
    "    print(word[1:] + word[0] + 'ay')"
   ]
  },
  {
   "cell_type": "markdown",
   "id": "22c26ff6",
   "metadata": {},
   "source": [
    "# Exercise: Pig Latin sentence\n",
    "\n",
    "1. Ask the user to enter a sentence (all lowercase, no punctuation).\n",
    "2. Modify the existing program such that it translates each word into Pig Latin, and prints the translation.\n",
    "\n",
    "Example:\n",
    "\n",
    "    Enter sentence: hello out there\n",
    "    ellohay\n",
    "    outway\n",
    "    heretay"
   ]
  },
  {
   "cell_type": "code",
   "execution_count": 114,
   "id": "831f2f65",
   "metadata": {},
   "outputs": [
    {
     "name": "stdout",
     "output_type": "stream",
     "text": [
      "Enter a sentence: hello out there\n",
      "ellohay\n",
      "outway\n",
      "heretay\n"
     ]
    }
   ],
   "source": [
    "sentence = input('Enter a sentence: ').strip()\n",
    "\n",
    "for word in sentence.split():\n",
    "    if word[0] in 'aeiou':\n",
    "        print(word + 'way')\n",
    "    else:\n",
    "        print(word[1:] + word[0] + 'ay')"
   ]
  },
  {
   "cell_type": "code",
   "execution_count": 116,
   "id": "b0e8c7a7",
   "metadata": {},
   "outputs": [
    {
     "name": "stdout",
     "output_type": "stream",
     "text": [
      "Enter a sentence: this is a test\n",
      "histay isway away esttay "
     ]
    }
   ],
   "source": [
    "# one method to print the output on a single line\n",
    "\n",
    "sentence = input('Enter a sentence: ').strip()\n",
    "\n",
    "for word in sentence.split():\n",
    "    if word[0] in 'aeiou':\n",
    "        print(word + 'way', end=' ')\n",
    "    else:\n",
    "        print(word[1:] + word[0] + 'ay', end=' ')  # the \"end\" parameter lets us customize how print ends its output"
   ]
  },
  {
   "cell_type": "code",
   "execution_count": 117,
   "id": "d05929a1",
   "metadata": {},
   "outputs": [
    {
     "name": "stdout",
     "output_type": "stream",
     "text": [
      "Enter a sentence: this is a test\n",
      "['histay', 'isway', 'away', 'esttay']\n"
     ]
    }
   ],
   "source": [
    "# second method to print the output on a single line\n",
    "\n",
    "sentence = input('Enter a sentence: ').strip()\n",
    "output = []\n",
    "\n",
    "for word in sentence.split():\n",
    "    if word[0] in 'aeiou':\n",
    "        output.append(word + 'way')\n",
    "    else:\n",
    "        output.append(word[1:] + word[0] + 'ay')\n",
    "        \n",
    "print(output)        "
   ]
  },
  {
   "cell_type": "code",
   "execution_count": 118,
   "id": "e1b4a889",
   "metadata": {},
   "outputs": [
    {
     "data": {
      "text/plain": [
       "\"['histay', 'isway', 'away', 'esttay']\""
      ]
     },
     "execution_count": 118,
     "metadata": {},
     "output_type": "execute_result"
    }
   ],
   "source": [
    "# I can create a string based on anything with \"str\"\n",
    "\n",
    "str(output)  # probably not ready to be shown to end users"
   ]
  },
  {
   "cell_type": "code",
   "execution_count": 120,
   "id": "2a70644f",
   "metadata": {},
   "outputs": [
    {
     "name": "stdout",
     "output_type": "stream",
     "text": [
      "histay isway away esttay\n"
     ]
    }
   ],
   "source": [
    "# the str.join method returns a new string based on (a) a \"glue\" string and (b) a list of strings\n",
    "\n",
    "print(' '.join(output))"
   ]
  },
  {
   "cell_type": "code",
   "execution_count": 121,
   "id": "94632aa7",
   "metadata": {},
   "outputs": [
    {
     "data": {
      "text/plain": [
       "'histay*isway*away*esttay'"
      ]
     },
     "execution_count": 121,
     "metadata": {},
     "output_type": "execute_result"
    }
   ],
   "source": [
    "'*'.join(output)"
   ]
  },
  {
   "cell_type": "code",
   "execution_count": 123,
   "id": "de281765",
   "metadata": {},
   "outputs": [
    {
     "name": "stdout",
     "output_type": "stream",
     "text": [
      "histay\n",
      "isway\n",
      "away\n",
      "esttay\n"
     ]
    }
   ],
   "source": [
    "print('\\n'.join(output))"
   ]
  },
  {
   "cell_type": "code",
   "execution_count": 124,
   "id": "ba3ed5ba",
   "metadata": {},
   "outputs": [
    {
     "data": {
      "text/plain": [
       "'a*b*c*d'"
      ]
     },
     "execution_count": 124,
     "metadata": {},
     "output_type": "execute_result"
    }
   ],
   "source": [
    "'*'.join('abcd')"
   ]
  },
  {
   "cell_type": "code",
   "execution_count": 125,
   "id": "ec9498ac",
   "metadata": {},
   "outputs": [
    {
     "ename": "TypeError",
     "evalue": "sequence item 0: expected str instance, int found",
     "output_type": "error",
     "traceback": [
      "\u001b[0;31m---------------------------------------------------------------------------\u001b[0m",
      "\u001b[0;31mTypeError\u001b[0m                                 Traceback (most recent call last)",
      "\u001b[0;32m/var/folders/rr/0mnyyv811fs5vyp22gf4fxk00000gn/T/ipykernel_63065/3907070603.py\u001b[0m in \u001b[0;36m<module>\u001b[0;34m\u001b[0m\n\u001b[1;32m      3\u001b[0m \u001b[0mmylist\u001b[0m \u001b[0;34m=\u001b[0m \u001b[0;34m[\u001b[0m\u001b[0;36m10\u001b[0m\u001b[0;34m,\u001b[0m \u001b[0;36m20\u001b[0m\u001b[0;34m,\u001b[0m \u001b[0;36m30\u001b[0m\u001b[0;34m]\u001b[0m\u001b[0;34m\u001b[0m\u001b[0;34m\u001b[0m\u001b[0m\n\u001b[1;32m      4\u001b[0m \u001b[0;34m\u001b[0m\u001b[0m\n\u001b[0;32m----> 5\u001b[0;31m \u001b[0;34m'*'\u001b[0m\u001b[0;34m.\u001b[0m\u001b[0mjoin\u001b[0m\u001b[0;34m(\u001b[0m\u001b[0mmylist\u001b[0m\u001b[0;34m)\u001b[0m  \u001b[0;31m# will not work -- because the argument needs to be an iterable of strings\u001b[0m\u001b[0;34m\u001b[0m\u001b[0;34m\u001b[0m\u001b[0m\n\u001b[0m",
      "\u001b[0;31mTypeError\u001b[0m: sequence item 0: expected str instance, int found"
     ]
    }
   ],
   "source": [
    "# what about this?\n",
    "\n",
    "mylist = [10, 20, 30]\n",
    "\n",
    "'*'.join(mylist)  # will not work -- because the argument needs to be an iterable of strings"
   ]
  },
  {
   "cell_type": "markdown",
   "id": "d8d48355",
   "metadata": {},
   "source": [
    "# Tuples\n",
    "\n",
    "Tuples are the third member of the \"sequence\" family in Python. Other sequences are strings and lists.\n",
    "\n",
    "Just like with strings and lists, we can:\n",
    "\n",
    "- Retrieve from an index with `[i]`\n",
    "- Retrieve a slice with `[start:end]`\n",
    "- Search with `in`\n",
    "- Iterate with `for`\n"
   ]
  },
  {
   "cell_type": "raw",
   "id": "b534675b",
   "metadata": {},
   "source": [
    "        contains         mutable/immutable?\n",
    "str     characters         immutable\n",
    "list    anything at all      mutable\n",
    "tuple   anything at all    immutable\n",
    "\n"
   ]
  },
  {
   "cell_type": "markdown",
   "id": "79f477a5",
   "metadata": {},
   "source": [
    "You can think of a tuple as a \"locked list.\"  You can have any number of elements in a tuple, of any sort, but once the tuple is created, you cannot change it.\n",
    "\n",
    "Traditionally, list elements are all of the same type, while tuple elements are of different types.\n",
    "\n",
    "Tuples are Python's answer to structs or records.\n",
    "\n",
    "Note that the usage of tuples has nothing to do with whether it's mutable or immutable!"
   ]
  },
  {
   "cell_type": "code",
   "execution_count": 126,
   "id": "f96068c1",
   "metadata": {},
   "outputs": [
    {
     "data": {
      "text/plain": [
       "tuple"
      ]
     },
     "execution_count": 126,
     "metadata": {},
     "output_type": "execute_result"
    }
   ],
   "source": [
    "# let's define some tuples!\n",
    "\n",
    "t = (10, 20, 30)   # notice: () and ,\n",
    "type(t)"
   ]
  },
  {
   "cell_type": "code",
   "execution_count": 127,
   "id": "bb000c1b",
   "metadata": {},
   "outputs": [
    {
     "data": {
      "text/plain": [
       "tuple"
      ]
     },
     "execution_count": 127,
     "metadata": {},
     "output_type": "execute_result"
    }
   ],
   "source": [
    "t = (10, 20)\n",
    "type(t)"
   ]
  },
  {
   "cell_type": "code",
   "execution_count": 128,
   "id": "ae7ac50f",
   "metadata": {},
   "outputs": [
    {
     "data": {
      "text/plain": [
       "int"
      ]
     },
     "execution_count": 128,
     "metadata": {},
     "output_type": "execute_result"
    }
   ],
   "source": [
    "t = (10)\n",
    "type(t)"
   ]
  },
  {
   "cell_type": "code",
   "execution_count": 129,
   "id": "3fc00967",
   "metadata": {},
   "outputs": [
    {
     "data": {
      "text/plain": [
       "tuple"
      ]
     },
     "execution_count": 129,
     "metadata": {},
     "output_type": "execute_result"
    }
   ],
   "source": [
    "t = ()\n",
    "type(t)"
   ]
  },
  {
   "cell_type": "code",
   "execution_count": 130,
   "id": "7ce7b68e",
   "metadata": {},
   "outputs": [
    {
     "data": {
      "text/plain": [
       "610"
      ]
     },
     "execution_count": 130,
     "metadata": {},
     "output_type": "execute_result"
    }
   ],
   "source": [
    "10 + 20 * 30 "
   ]
  },
  {
   "cell_type": "code",
   "execution_count": 131,
   "id": "a30a6cdd",
   "metadata": {},
   "outputs": [
    {
     "data": {
      "text/plain": [
       "900"
      ]
     },
     "execution_count": 131,
     "metadata": {},
     "output_type": "execute_result"
    }
   ],
   "source": [
    "# I can change that with parentheses\n",
    "(10 + 20) * 30"
   ]
  },
  {
   "cell_type": "code",
   "execution_count": 132,
   "id": "f4df0a36",
   "metadata": {},
   "outputs": [
    {
     "data": {
      "text/plain": [
       "tuple"
      ]
     },
     "execution_count": 132,
     "metadata": {},
     "output_type": "execute_result"
    }
   ],
   "source": [
    "# Python cannot tell the difference between (10) and (10 + 20) -- both are seen as priorities, not \n",
    "# tuples.  But if we include a comma, then we get a tuple\n",
    "\n",
    "t = (10,)  # yes, this is a tuple!\n",
    "type(t)"
   ]
  },
  {
   "cell_type": "code",
   "execution_count": 133,
   "id": "91b49689",
   "metadata": {},
   "outputs": [
    {
     "ename": "TypeError",
     "evalue": "'tuple' object does not support item assignment",
     "output_type": "error",
     "traceback": [
      "\u001b[0;31m---------------------------------------------------------------------------\u001b[0m",
      "\u001b[0;31mTypeError\u001b[0m                                 Traceback (most recent call last)",
      "\u001b[0;32m/var/folders/rr/0mnyyv811fs5vyp22gf4fxk00000gn/T/ipykernel_63065/1621762164.py\u001b[0m in \u001b[0;36m<module>\u001b[0;34m\u001b[0m\n\u001b[1;32m      1\u001b[0m \u001b[0mt\u001b[0m \u001b[0;34m=\u001b[0m \u001b[0;34m(\u001b[0m\u001b[0;36m10\u001b[0m\u001b[0;34m,\u001b[0m \u001b[0;36m20\u001b[0m\u001b[0;34m,\u001b[0m \u001b[0;36m30\u001b[0m\u001b[0;34m,\u001b[0m \u001b[0;36m40\u001b[0m\u001b[0;34m,\u001b[0m \u001b[0;36m50\u001b[0m\u001b[0;34m)\u001b[0m\u001b[0;34m\u001b[0m\u001b[0;34m\u001b[0m\u001b[0m\n\u001b[1;32m      2\u001b[0m \u001b[0;34m\u001b[0m\u001b[0m\n\u001b[0;32m----> 3\u001b[0;31m \u001b[0mt\u001b[0m\u001b[0;34m[\u001b[0m\u001b[0;36m0\u001b[0m\u001b[0;34m]\u001b[0m \u001b[0;34m=\u001b[0m \u001b[0;34m'!'\u001b[0m \u001b[0;31m# this won't work, because tuples are immutable\u001b[0m\u001b[0;34m\u001b[0m\u001b[0;34m\u001b[0m\u001b[0m\n\u001b[0m",
      "\u001b[0;31mTypeError\u001b[0m: 'tuple' object does not support item assignment"
     ]
    }
   ],
   "source": [
    "t = (10, 20, 30, 40, 50)\n",
    "\n",
    "t[0] = '!' # this won't work, because tuples are immutable"
   ]
  },
  {
   "cell_type": "code",
   "execution_count": 134,
   "id": "53d286ef",
   "metadata": {},
   "outputs": [
    {
     "data": {
      "text/plain": [
       "[10, 20, 30]"
      ]
     },
     "execution_count": 134,
     "metadata": {},
     "output_type": "execute_result"
    }
   ],
   "source": [
    "x = [10, 20, 30]\n",
    "x"
   ]
  },
  {
   "cell_type": "code",
   "execution_count": 135,
   "id": "794e4ee4",
   "metadata": {},
   "outputs": [
    {
     "data": {
      "text/plain": [
       "(10, 20, 30)"
      ]
     },
     "execution_count": 135,
     "metadata": {},
     "output_type": "execute_result"
    }
   ],
   "source": [
    "y = (10, 20, 30)\n",
    "y"
   ]
  },
  {
   "cell_type": "code",
   "execution_count": 136,
   "id": "8acdd868",
   "metadata": {},
   "outputs": [
    {
     "data": {
      "text/plain": [
       "30"
      ]
     },
     "execution_count": 136,
     "metadata": {},
     "output_type": "execute_result"
    }
   ],
   "source": [
    "# retrieve from a tuple with square brackets!\n",
    "t[2]"
   ]
  },
  {
   "cell_type": "code",
   "execution_count": 138,
   "id": "74802d8b",
   "metadata": {},
   "outputs": [
    {
     "data": {
      "text/plain": [
       "2"
      ]
     },
     "execution_count": 138,
     "metadata": {},
     "output_type": "execute_result"
    }
   ],
   "source": [
    "t = (10, 20, 30, 20, 30, 40, 30, 40)\n",
    "\n",
    "t.count(40)  # 40 appears twice in t"
   ]
  },
  {
   "cell_type": "code",
   "execution_count": 140,
   "id": "d5dacfbb",
   "metadata": {},
   "outputs": [
    {
     "data": {
      "text/plain": [
       "5"
      ]
     },
     "execution_count": 140,
     "metadata": {},
     "output_type": "execute_result"
    }
   ],
   "source": [
    "t.index(40)   # first occurrence of 40 in t is at index 5"
   ]
  },
  {
   "cell_type": "code",
   "execution_count": 141,
   "id": "1f65d2b4",
   "metadata": {},
   "outputs": [
    {
     "name": "stdout",
     "output_type": "stream",
     "text": [
      "Found 40 at index 5\n",
      "Found 40 at index 7\n"
     ]
    }
   ],
   "source": [
    "# what if I want to find all occurrences of 40 in t?\n",
    "\n",
    "look_for = 40\n",
    "\n",
    "for index, one_item in enumerate(t):\n",
    "    if one_item == look_for:\n",
    "        print(f'Found {look_for} at index {index}')\n"
   ]
  },
  {
   "cell_type": "code",
   "execution_count": 142,
   "id": "85a6ddfa",
   "metadata": {},
   "outputs": [
    {
     "data": {
      "text/plain": [
       "(10, 20, 30, 40, 50)"
      ]
     },
     "execution_count": 142,
     "metadata": {},
     "output_type": "execute_result"
    }
   ],
   "source": [
    "# you don't need parentheses to create a tuple!\n",
    "# It's enough just to have elements separated by ,\n",
    "\n",
    "t = 10, 20, 30, 40, 50\n",
    "t"
   ]
  },
  {
   "cell_type": "code",
   "execution_count": 144,
   "id": "95796c0e",
   "metadata": {},
   "outputs": [
    {
     "data": {
      "text/plain": [
       "[10, 20, 30]"
      ]
     },
     "execution_count": 144,
     "metadata": {},
     "output_type": "execute_result"
    }
   ],
   "source": [
    "mylist = [10, 20, 30]\n",
    "\n",
    "x = mylist\n",
    "\n",
    "# what's the value of x?\n",
    "x"
   ]
  },
  {
   "cell_type": "code",
   "execution_count": 149,
   "id": "5e5ffea1",
   "metadata": {},
   "outputs": [],
   "source": [
    "# what about this?\n",
    "\n",
    "# this is known as \"unpacking\"\n",
    "# if you have an iterable on the right (i.e., something that behaves in a \"for\" loop)\n",
    "# and multiple variables on the left (separated by commas), we get one element\n",
    "# in each variable\n",
    "\n",
    "x,y,z = mylist"
   ]
  },
  {
   "cell_type": "code",
   "execution_count": 150,
   "id": "dd313872",
   "metadata": {},
   "outputs": [
    {
     "data": {
      "text/plain": [
       "10"
      ]
     },
     "execution_count": 150,
     "metadata": {},
     "output_type": "execute_result"
    }
   ],
   "source": [
    "x"
   ]
  },
  {
   "cell_type": "code",
   "execution_count": 151,
   "id": "0ef70570",
   "metadata": {},
   "outputs": [
    {
     "data": {
      "text/plain": [
       "20"
      ]
     },
     "execution_count": 151,
     "metadata": {},
     "output_type": "execute_result"
    }
   ],
   "source": [
    "y"
   ]
  },
  {
   "cell_type": "code",
   "execution_count": 152,
   "id": "2d6b44aa",
   "metadata": {},
   "outputs": [
    {
     "data": {
      "text/plain": [
       "30"
      ]
     },
     "execution_count": 152,
     "metadata": {},
     "output_type": "execute_result"
    }
   ],
   "source": [
    "z"
   ]
  },
  {
   "cell_type": "code",
   "execution_count": 153,
   "id": "2799e2a1",
   "metadata": {},
   "outputs": [],
   "source": [
    "person = ('Reuven', 'Lerner', 46)\n",
    "\n",
    "first, last, shoe_size = person"
   ]
  },
  {
   "cell_type": "code",
   "execution_count": 154,
   "id": "2aeb94d2",
   "metadata": {},
   "outputs": [
    {
     "data": {
      "text/plain": [
       "'Reuven'"
      ]
     },
     "execution_count": 154,
     "metadata": {},
     "output_type": "execute_result"
    }
   ],
   "source": [
    "first"
   ]
  },
  {
   "cell_type": "code",
   "execution_count": 155,
   "id": "bb037862",
   "metadata": {},
   "outputs": [
    {
     "data": {
      "text/plain": [
       "'Lerner'"
      ]
     },
     "execution_count": 155,
     "metadata": {},
     "output_type": "execute_result"
    }
   ],
   "source": [
    "last"
   ]
  },
  {
   "cell_type": "code",
   "execution_count": 156,
   "id": "2de1ee43",
   "metadata": {},
   "outputs": [
    {
     "data": {
      "text/plain": [
       "46"
      ]
     },
     "execution_count": 156,
     "metadata": {},
     "output_type": "execute_result"
    }
   ],
   "source": [
    "shoe_size"
   ]
  },
  {
   "cell_type": "code",
   "execution_count": 158,
   "id": "5563771a",
   "metadata": {},
   "outputs": [
    {
     "name": "stdout",
     "output_type": "stream",
     "text": [
      "(0, 'a')\n",
      "(1, 'b')\n",
      "(2, 'c')\n",
      "(3, 'd')\n"
     ]
    }
   ],
   "source": [
    "# enumerate returns a 2-element tuple with each iteration\n",
    "# normally, we use unpacking to assign those elements to different variables.... but I don't have to\n",
    "\n",
    "for x in enumerate('abcd'):\n",
    "    print(x)"
   ]
  },
  {
   "cell_type": "code",
   "execution_count": 159,
   "id": "e9d9381d",
   "metadata": {},
   "outputs": [
    {
     "name": "stdout",
     "output_type": "stream",
     "text": [
      "0: a\n",
      "1: b\n",
      "2: c\n",
      "3: d\n"
     ]
    }
   ],
   "source": [
    "for index, one_item in enumerate('abcd'):\n",
    "    print(f'{index}: {one_item}')"
   ]
  },
  {
   "cell_type": "code",
   "execution_count": 160,
   "id": "00636742",
   "metadata": {},
   "outputs": [
    {
     "ename": "TypeError",
     "evalue": "cannot unpack non-iterable int object",
     "output_type": "error",
     "traceback": [
      "\u001b[0;31m---------------------------------------------------------------------------\u001b[0m",
      "\u001b[0;31mTypeError\u001b[0m                                 Traceback (most recent call last)",
      "\u001b[0;32m/var/folders/rr/0mnyyv811fs5vyp22gf4fxk00000gn/T/ipykernel_63065/3476304701.py\u001b[0m in \u001b[0;36m<module>\u001b[0;34m\u001b[0m\n\u001b[1;32m      2\u001b[0m \u001b[0;31m# unpacking means: let's iterate in a for loop over the right-hand side\u001b[0m\u001b[0;34m\u001b[0m\u001b[0;34m\u001b[0m\u001b[0m\n\u001b[1;32m      3\u001b[0m \u001b[0;34m\u001b[0m\u001b[0m\n\u001b[0;32m----> 4\u001b[0;31m \u001b[0mvowels\u001b[0m\u001b[0;34m,\u001b[0m \u001b[0mothers\u001b[0m \u001b[0;34m=\u001b[0m \u001b[0;36m0\u001b[0m\u001b[0;34m\u001b[0m\u001b[0;34m\u001b[0m\u001b[0m\n\u001b[0m",
      "\u001b[0;31mTypeError\u001b[0m: cannot unpack non-iterable int object"
     ]
    }
   ],
   "source": [
    "# unpacking, because we have comma-separated variables on the left of our assignment operator\n",
    "# unpacking means: let's iterate in a for loop over the right-hand side\n",
    "\n",
    "vowels, others = 0"
   ]
  },
  {
   "cell_type": "code",
   "execution_count": 161,
   "id": "83840adb",
   "metadata": {},
   "outputs": [],
   "source": [
    "first, second, third = range(3)"
   ]
  },
  {
   "cell_type": "code",
   "execution_count": 162,
   "id": "f334e5b2",
   "metadata": {},
   "outputs": [
    {
     "data": {
      "text/plain": [
       "0"
      ]
     },
     "execution_count": 162,
     "metadata": {},
     "output_type": "execute_result"
    }
   ],
   "source": [
    "first"
   ]
  },
  {
   "cell_type": "code",
   "execution_count": 163,
   "id": "9564b32a",
   "metadata": {},
   "outputs": [
    {
     "data": {
      "text/plain": [
       "1"
      ]
     },
     "execution_count": 163,
     "metadata": {},
     "output_type": "execute_result"
    }
   ],
   "source": [
    "second"
   ]
  },
  {
   "cell_type": "code",
   "execution_count": 164,
   "id": "d3646b97",
   "metadata": {},
   "outputs": [
    {
     "data": {
      "text/plain": [
       "2"
      ]
     },
     "execution_count": 164,
     "metadata": {},
     "output_type": "execute_result"
    }
   ],
   "source": [
    "third"
   ]
  },
  {
   "cell_type": "markdown",
   "id": "bd82cab7",
   "metadata": {},
   "source": [
    "`enumerate` always returns a 2-element tuple in each iteration. The first element is an integer, the current count/index. The second element is based on the argument you passed to `enumerate`.\n",
    "\n",
    "So if you call `enumerate` on a string, you'll get `(int, str)` tuples with each iteration."
   ]
  },
  {
   "cell_type": "code",
   "execution_count": 165,
   "id": "55b19c26",
   "metadata": {},
   "outputs": [],
   "source": [
    "vowels, others = 0, 0"
   ]
  },
  {
   "cell_type": "code",
   "execution_count": 166,
   "id": "0d89718c",
   "metadata": {},
   "outputs": [
    {
     "data": {
      "text/plain": [
       "0"
      ]
     },
     "execution_count": 166,
     "metadata": {},
     "output_type": "execute_result"
    }
   ],
   "source": [
    "vowels"
   ]
  },
  {
   "cell_type": "code",
   "execution_count": 167,
   "id": "eed6c4ad",
   "metadata": {},
   "outputs": [
    {
     "data": {
      "text/plain": [
       "0"
      ]
     },
     "execution_count": 167,
     "metadata": {},
     "output_type": "execute_result"
    }
   ],
   "source": [
    "others"
   ]
  },
  {
   "cell_type": "code",
   "execution_count": 168,
   "id": "46865e36",
   "metadata": {},
   "outputs": [
    {
     "data": {
      "text/plain": [
       "222"
      ]
     },
     "execution_count": 168,
     "metadata": {},
     "output_type": "execute_result"
    }
   ],
   "source": [
    "x = 111\n",
    "y = 222\n",
    "\n",
    "x,y = y,x   # create a tuple, (y,x).  Assign its elements to the variables x,y.  Result? Swapping!\n",
    "\n",
    "x"
   ]
  },
  {
   "cell_type": "code",
   "execution_count": 169,
   "id": "384f01b4",
   "metadata": {},
   "outputs": [
    {
     "data": {
      "text/plain": [
       "111"
      ]
     },
     "execution_count": 169,
     "metadata": {},
     "output_type": "execute_result"
    }
   ],
   "source": [
    "y"
   ]
  },
  {
   "cell_type": "markdown",
   "id": "2316277b",
   "metadata": {},
   "source": [
    "# What does it mean to be \"iterable\"?\n",
    "\n",
    "An iterable object in Python knows how to behave in a `for` loop.  Moreover, it contains smaller pieces, and in a `for` loop, we get one piece with each iteration.\n",
    "\n",
    "Imagine a bowl of ice cream. You can \"iterate\" over it with a spoon, getting a spoonful with each iteration.  The loop ends when there is no more ice cream."
   ]
  },
  {
   "cell_type": "code",
   "execution_count": 170,
   "id": "4cad4aad",
   "metadata": {},
   "outputs": [
    {
     "ename": "ValueError",
     "evalue": "too many values to unpack (expected 2)",
     "output_type": "error",
     "traceback": [
      "\u001b[0;31m---------------------------------------------------------------------------\u001b[0m",
      "\u001b[0;31mValueError\u001b[0m                                Traceback (most recent call last)",
      "\u001b[0;32m/var/folders/rr/0mnyyv811fs5vyp22gf4fxk00000gn/T/ipykernel_63065/174998864.py\u001b[0m in \u001b[0;36m<module>\u001b[0;34m\u001b[0m\n\u001b[1;32m      1\u001b[0m \u001b[0mmylist\u001b[0m \u001b[0;34m=\u001b[0m \u001b[0;34m[\u001b[0m\u001b[0;36m10\u001b[0m\u001b[0;34m,\u001b[0m \u001b[0;36m20\u001b[0m\u001b[0;34m,\u001b[0m \u001b[0;36m30\u001b[0m\u001b[0;34m]\u001b[0m\u001b[0;34m\u001b[0m\u001b[0;34m\u001b[0m\u001b[0m\n\u001b[1;32m      2\u001b[0m \u001b[0;34m\u001b[0m\u001b[0m\n\u001b[0;32m----> 3\u001b[0;31m \u001b[0mx\u001b[0m\u001b[0;34m,\u001b[0m\u001b[0my\u001b[0m \u001b[0;34m=\u001b[0m \u001b[0mmylist\u001b[0m\u001b[0;34m\u001b[0m\u001b[0;34m\u001b[0m\u001b[0m\n\u001b[0m",
      "\u001b[0;31mValueError\u001b[0m: too many values to unpack (expected 2)"
     ]
    }
   ],
   "source": [
    "mylist = [10, 20, 30]\n",
    "\n",
    "x,y = mylist"
   ]
  },
  {
   "cell_type": "code",
   "execution_count": 171,
   "id": "a71ceaa9",
   "metadata": {},
   "outputs": [
    {
     "ename": "ValueError",
     "evalue": "not enough values to unpack (expected 4, got 3)",
     "output_type": "error",
     "traceback": [
      "\u001b[0;31m---------------------------------------------------------------------------\u001b[0m",
      "\u001b[0;31mValueError\u001b[0m                                Traceback (most recent call last)",
      "\u001b[0;32m/var/folders/rr/0mnyyv811fs5vyp22gf4fxk00000gn/T/ipykernel_63065/4284919170.py\u001b[0m in \u001b[0;36m<module>\u001b[0;34m\u001b[0m\n\u001b[0;32m----> 1\u001b[0;31m \u001b[0mw\u001b[0m\u001b[0;34m,\u001b[0m\u001b[0mx\u001b[0m\u001b[0;34m,\u001b[0m\u001b[0my\u001b[0m\u001b[0;34m,\u001b[0m\u001b[0mz\u001b[0m \u001b[0;34m=\u001b[0m \u001b[0mmylist\u001b[0m\u001b[0;34m\u001b[0m\u001b[0;34m\u001b[0m\u001b[0m\n\u001b[0m",
      "\u001b[0;31mValueError\u001b[0m: not enough values to unpack (expected 4, got 3)"
     ]
    }
   ],
   "source": [
    "w,x,y,z = mylist"
   ]
  },
  {
   "cell_type": "code",
   "execution_count": null,
   "id": "c7ad81f1",
   "metadata": {},
   "outputs": [],
   "source": []
  }
 ],
 "metadata": {
  "kernelspec": {
   "display_name": "Python 3 (ipykernel)",
   "language": "python",
   "name": "python3"
  },
  "language_info": {
   "codemirror_mode": {
    "name": "ipython",
    "version": 3
   },
   "file_extension": ".py",
   "mimetype": "text/x-python",
   "name": "python",
   "nbconvert_exporter": "python",
   "pygments_lexer": "ipython3",
   "version": "3.10.4"
  }
 },
 "nbformat": 4,
 "nbformat_minor": 5
}
