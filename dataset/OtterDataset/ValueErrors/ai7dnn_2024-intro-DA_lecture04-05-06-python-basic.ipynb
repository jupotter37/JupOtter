{
 "cells": [
  {
   "cell_type": "markdown",
   "metadata": {},
   "source": [
    "# 자료형과 변수"
   ]
  },
  {
   "cell_type": "markdown",
   "metadata": {},
   "source": [
    "- shift + Enter : 실행 후 다음 셀로 이동, 다음 셀이 없으면 생성 \n",
    "- ctrl + Enter : 현재 셀만 실행\n",
    "- alt + Enter : 현재 셀 실행 후 다음 셀 생성"
   ]
  },
  {
   "cell_type": "markdown",
   "metadata": {},
   "source": [
    "## 현재 사용 파이썬 점검"
   ]
  },
  {
   "cell_type": "code",
   "execution_count": 1,
   "metadata": {},
   "outputs": [
    {
     "data": {
      "text/plain": [
       "'3.11.5 | packaged by Anaconda, Inc. | (main, Sep 11 2023, 13:26:23) [MSC v.1916 64 bit (AMD64)]'"
      ]
     },
     "execution_count": 1,
     "metadata": {},
     "output_type": "execute_result"
    }
   ],
   "source": [
    "import sys\n",
    "sys.version"
   ]
  },
  {
   "cell_type": "code",
   "execution_count": 2,
   "metadata": {},
   "outputs": [
    {
     "data": {
      "text/plain": [
       "['C:\\\\ProgramData\\\\anaconda3-23-09',\n",
       " 'C:\\\\ProgramData\\\\anaconda3-23-09\\\\Lib\\\\site-packages']"
      ]
     },
     "execution_count": 2,
     "metadata": {},
     "output_type": "execute_result"
    }
   ],
   "source": [
    "import site\n",
    "site.getsitepackages()"
   ]
  },
  {
   "cell_type": "markdown",
   "metadata": {},
   "source": [
    "## 1절. 파이썬 자료형과 리터럴 "
   ]
  },
  {
   "cell_type": "code",
   "execution_count": 3,
   "metadata": {},
   "outputs": [
    {
     "name": "stdout",
     "output_type": "stream",
     "text": [
      "20 <class 'int'>\n",
      "-3.67 <class 'float'>\n",
      "3.4 34.0\n",
      "6.46784 1.2334\n",
      "(3+4j) <class 'complex'>\n"
     ]
    }
   ],
   "source": [
    "# %% 자료형 개요\n",
    "print(20, type(-7))\n",
    "print(-3.67, type(-3.18))\n",
    "print(0.34e1, 0.34E2)\n",
    "print(64.6784e-1, 123.34E-2)\n",
    "print(3 + 4j, type(5 - 4.3j))"
   ]
  },
  {
   "cell_type": "code",
   "execution_count": 1,
   "metadata": {},
   "outputs": [
    {
     "name": "stdout",
     "output_type": "stream",
     "text": [
      "Python is powerful.\n",
      "파이썬은 쉬워요.\n"
     ]
    }
   ],
   "source": [
    "# %% 문자열 str\n",
    "print('Python is powerful.')\n",
    "print(\"파이썬은 쉬워요.\")\n",
    "# print('파이썬은 강력해요.\")\n",
    "# print(\"파이썬은 확장성이 좋아요.')"
   ]
  },
  {
   "cell_type": "code",
   "execution_count": 2,
   "metadata": {},
   "outputs": [
    {
     "name": "stdout",
     "output_type": "stream",
     "text": [
      "Beautiful is better than ugly.\n",
      "Explicit is better than implicit.\n"
     ]
    }
   ],
   "source": [
    "print('''Beautiful is better than ugly.\n",
    "Explicit is better than implicit.''')"
   ]
  },
  {
   "cell_type": "code",
   "execution_count": 3,
   "metadata": {},
   "outputs": [
    {
     "name": "stdout",
     "output_type": "stream",
     "text": [
      "\"python\"\n",
      "'java'\n"
     ]
    }
   ],
   "source": [
    "print('\"python\"')\n",
    "print(\"'java'\")"
   ]
  },
  {
   "cell_type": "code",
   "execution_count": 4,
   "metadata": {},
   "outputs": [
    {
     "name": "stdout",
     "output_type": "stream",
     "text": [
      "p y\n"
     ]
    }
   ],
   "source": [
    "print('py'[0], 'py'[1])"
   ]
  },
  {
   "cell_type": "code",
   "execution_count": 5,
   "metadata": {},
   "outputs": [
    {
     "name": "stdout",
     "output_type": "stream",
     "text": [
      "False <class 'bool'>\n"
     ]
    }
   ],
   "source": [
    "# %% bool\n",
    "print(3 > 4, type(3 < 4))"
   ]
  },
  {
   "cell_type": "code",
   "execution_count": 6,
   "metadata": {},
   "outputs": [
    {
     "name": "stdout",
     "output_type": "stream",
     "text": [
      "False False False\n",
      "True True True\n"
     ]
    }
   ],
   "source": [
    "print(bool(0), bool(0.0), bool(''))\n",
    "print(bool(1), bool(0.1), bool('b'))"
   ]
  },
  {
   "cell_type": "code",
   "execution_count": 7,
   "metadata": {},
   "outputs": [
    {
     "name": "stdout",
     "output_type": "stream",
     "text": [
      "True False\n",
      "3 0\n"
     ]
    }
   ],
   "source": [
    "# %% literals & variable\n",
    "print(True, False)\n",
    "# 3000으로 인식하지 못하며 출력문 내부에서 출력 자료의 구분자 쉼표로 인식 \n",
    "print(3,000) # 출력 자료 3과 0으로 인식 "
   ]
  },
  {
   "cell_type": "code",
   "execution_count": 8,
   "metadata": {},
   "outputs": [
    {
     "name": "stdout",
     "output_type": "stream",
     "text": [
      "10 2 3\n",
      "11 9 10\n",
      "12 18 19\n",
      "1000 1000000 100\n"
     ]
    }
   ],
   "source": [
    "# %% various radix literals\n",
    "print(10, 0b10, 0B11) # ob oB 2진수\n",
    "print(11, 0o11, 0O12) # 0o 8진수\n",
    "print(12, 0x12, 0X13) # 0x 0X 16진수\n",
    "print(1_000, 1_000_000, 1_00) # 수에서 _"
   ]
  },
  {
   "cell_type": "code",
   "execution_count": 8,
   "metadata": {},
   "outputs": [
    {
     "name": "stdout",
     "output_type": "stream",
     "text": [
      "comments\n"
     ]
    },
    {
     "data": {
      "text/plain": [
       "' 여러줄 주석에 활용\\n    수: int float complex\\n    문자열: str\\n    시퀀스형: list tuple\\n    매핍형: dict\\n    집합형: set frozenset\\n'"
      ]
     },
     "execution_count": 8,
     "metadata": {},
     "output_type": "execute_result"
    }
   ],
   "source": [
    "# %% comments\n",
    "\n",
    "# 이후 줄 종료까지 주석\n",
    "print('comments') # 이후 줄 종료까지 주석\n",
    "\n",
    "''' 여러줄 주석에 활용\n",
    "    수: int float complex\n",
    "    문자열: str\n",
    "    시퀀스형: list tuple\n",
    "    매핍형: dict\n",
    "    집합형: set frozenset\n",
    "'''"
   ]
  },
  {
   "cell_type": "markdown",
   "metadata": {},
   "source": [
    "## 2절. 변수와 모임 자료형"
   ]
  },
  {
   "cell_type": "code",
   "execution_count": 9,
   "metadata": {},
   "outputs": [
    {
     "name": "stdout",
     "output_type": "stream",
     "text": [
      "파이썬은 1990년에 개발되었다.\n",
      "자바는 1995년에 개발되었다.\n"
     ]
    }
   ],
   "source": [
    "# %%\n",
    "print('파이썬은 1990년에 개발되었다.')\n",
    "print('자바는 1995년에 개발되었다.')"
   ]
  },
  {
   "cell_type": "code",
   "execution_count": 10,
   "metadata": {},
   "outputs": [
    {
     "name": "stdout",
     "output_type": "stream",
     "text": [
      "파이썬은 1990 년에 개발되었다.\n",
      "자바는 1995 년에 개발되었다.\n"
     ]
    }
   ],
   "source": [
    "prog_lang = '파이썬은'\n",
    "devp_year = 1990\n",
    "print(prog_lang, devp_year, '년에 개발되었다.')\n",
    "\n",
    "prog_lang = '자바는'\n",
    "devp_year = 1995\n",
    "print(prog_lang, devp_year, '년에 개발되었다.')"
   ]
  },
  {
   "cell_type": "code",
   "execution_count": 11,
   "metadata": {},
   "outputs": [
    {
     "name": "stdout",
     "output_type": "stream",
     "text": [
      "353.25\n",
      "353.25\n",
      "94.68042\n"
     ]
    }
   ],
   "source": [
    "print(5 ** 2 * 3.14 * 4.5)\n",
    "\n",
    "radius, height = 5, 4.5\n",
    "pi = 3.14\n",
    "print(radius * radius * pi * height)\n",
    "\n",
    "radius, height = 2.3, 5.7\n",
    "print(radius**2 * pi * height)"
   ]
  },
  {
   "cell_type": "code",
   "execution_count": 12,
   "metadata": {},
   "outputs": [
    {
     "name": "stdout",
     "output_type": "stream",
     "text": [
      "홍길동 학생\n"
     ]
    }
   ],
   "source": [
    "# %%\n",
    "name = '홍길동'\n",
    "직업 = '학생'\n",
    "print(name, 직업)"
   ]
  },
  {
   "cell_type": "code",
   "execution_count": 13,
   "metadata": {},
   "outputs": [
    {
     "name": "stdout",
     "output_type": "stream",
     "text": [
      "2026년 월드컵 개최국: 미국 캐나다 멕시코\n"
     ]
    }
   ],
   "source": [
    "# 2026_worldcup = '미국 캐나다 멕시코'\n",
    "worldcup_2026 = '미국 캐나다 멕시코'\n",
    "print('2026년 월드컵 개최국:', worldcup_2026)\n",
    "\n",
    "# total@money = 300000\n",
    "# name&person = 'tom'"
   ]
  },
  {
   "cell_type": "code",
   "execution_count": 9,
   "metadata": {},
   "outputs": [
    {
     "name": "stdout",
     "output_type": "stream",
     "text": [
      "['False', 'None', 'True', 'and', 'as', 'assert', 'async', 'await', 'break', 'class', 'continue', 'def', 'del', 'elif', 'else', 'except', 'finally', 'for', 'from', 'global', 'if', 'import', 'in', 'is', 'lambda', 'nonlocal', 'not', 'or', 'pass', 'raise', 'return', 'try', 'while', 'with', 'yield']\n",
      "35\n"
     ]
    }
   ],
   "source": [
    "import keyword\n",
    "print(keyword.kwlist)\n",
    "print(len(keyword.kwlist))"
   ]
  },
  {
   "cell_type": "code",
   "execution_count": 10,
   "metadata": {},
   "outputs": [
    {
     "name": "stdout",
     "output_type": "stream",
     "text": [
      "\n",
      "Here is a list of the Python keywords.  Enter any keyword to get more help.\n",
      "\n",
      "False               class               from                or\n",
      "None                continue            global              pass\n",
      "True                def                 if                  raise\n",
      "and                 del                 import              return\n",
      "as                  elif                in                  try\n",
      "assert              else                is                  while\n",
      "async               except              lambda              with\n",
      "await               finally             nonlocal            yield\n",
      "break               for                 not                 \n",
      "\n"
     ]
    }
   ],
   "source": [
    "# %%\n",
    "help('keywords')"
   ]
  },
  {
   "cell_type": "code",
   "execution_count": 16,
   "metadata": {},
   "outputs": [
    {
     "name": "stdout",
     "output_type": "stream",
     "text": [
      "[10, 20, 30] <class 'list'>\n"
     ]
    }
   ],
   "source": [
    "# %% list tuple\n",
    "lst = [10, 20, 30]\n",
    "print(lst, type(lst))"
   ]
  },
  {
   "cell_type": "code",
   "execution_count": 17,
   "metadata": {},
   "outputs": [
    {
     "name": "stdout",
     "output_type": "stream",
     "text": [
      "[1, 3.92, False, 'list']\n",
      "[1, 3.92, False, 'list', 'py']\n"
     ]
    }
   ],
   "source": [
    "lst = [1, 3.92, 3 > 4, 'list']\n",
    "print(lst)\n",
    "lst.append('py')\n",
    "print(lst)"
   ]
  },
  {
   "cell_type": "code",
   "execution_count": 18,
   "metadata": {},
   "outputs": [
    {
     "name": "stdout",
     "output_type": "stream",
     "text": [
      "[1, 3.92, False, 'list', 'py']\n",
      "[1, 'java', False, 'list', 'py']\n"
     ]
    }
   ],
   "source": [
    "lst[0]\n",
    "lst[4]\n",
    "print(lst)\n",
    "lst[1] = 'java'\n",
    "print(lst)"
   ]
  },
  {
   "cell_type": "code",
   "execution_count": 19,
   "metadata": {},
   "outputs": [
    {
     "name": "stdout",
     "output_type": "stream",
     "text": [
      "(10, 20, 30) <class 'tuple'>\n"
     ]
    }
   ],
   "source": [
    "# %% list tuple\n",
    "tpl = (10, 20, 30)\n",
    "print(tpl, type(tpl))"
   ]
  },
  {
   "cell_type": "code",
   "execution_count": 20,
   "metadata": {},
   "outputs": [
    {
     "name": "stdout",
     "output_type": "stream",
     "text": [
      "(1, 3.92, False, 'tuple') <class 'tuple'>\n",
      "1\n",
      "tuple\n"
     ]
    }
   ],
   "source": [
    "tpl = 1, 3.92, 3 > 4, 'tuple'\n",
    "print(tpl, type(tpl))\n",
    "\n",
    "print(tpl[0])\n",
    "print(tpl[3])"
   ]
  },
  {
   "cell_type": "code",
   "execution_count": 21,
   "metadata": {},
   "outputs": [],
   "source": [
    "# tpl[1] = 100\n",
    "# tpl.append('py') # 오류발생"
   ]
  },
  {
   "cell_type": "code",
   "execution_count": 22,
   "metadata": {},
   "outputs": [
    {
     "name": "stdout",
     "output_type": "stream",
     "text": [
      "{'라면': 1200, '음료수': 1500, '과자': 800} <class 'dict'>\n"
     ]
    }
   ],
   "source": [
    "# %% dict\n",
    "mart = {'라면':1200, '음료수':1500, '과자':800}\n",
    "print(mart, type(mart))"
   ]
  },
  {
   "cell_type": "code",
   "execution_count": 23,
   "metadata": {},
   "outputs": [
    {
     "name": "stdout",
     "output_type": "stream",
     "text": [
      "{'라면': 1200, '음료수': 1500, '과자': 800}\n",
      "{'라면': 1200, '음료수': 1500, '과자': 900}\n",
      "{'라면': 1200, '음료수': 1500, '과자': 900}\n",
      "{'라면': 1200, '음료수': 1500, '과자': 900, '삼각김밥': 1700}\n"
     ]
    },
    {
     "data": {
      "text/plain": [
       "dict_values([1200, 1500, 900, 1700])"
      ]
     },
     "execution_count": 23,
     "metadata": {},
     "output_type": "execute_result"
    }
   ],
   "source": [
    "mart['라면']\n",
    "mart['음료수']\n",
    "\n",
    "print(mart)\n",
    "mart['과자'] = 900\n",
    "print(mart)\n",
    "\n",
    "print(mart)\n",
    "mart['삼각김밥'] = 1700\n",
    "print(mart)\n",
    "\n",
    "mart.keys()\n",
    "mart.values()"
   ]
  },
  {
   "cell_type": "code",
   "execution_count": 24,
   "metadata": {},
   "outputs": [
    {
     "name": "stdout",
     "output_type": "stream",
     "text": [
      "{'orange', 'apple', 'pear'}\n",
      "{'orange', 'apple', 'banana', 'pear'}\n"
     ]
    }
   ],
   "source": [
    "# %% set\n",
    "basket = {'apple', 'orange', 'apple', 'pear'}\n",
    "print(basket)\n",
    "\n",
    "basket.add('banana')\n",
    "print(basket)\n",
    "\n",
    "# basket[0] # 오류 "
   ]
  },
  {
   "cell_type": "code",
   "execution_count": 25,
   "metadata": {},
   "outputs": [
    {
     "name": "stdout",
     "output_type": "stream",
     "text": [
      "{1, 2, 3.4}\n",
      "{1, 2, 3.4}\n"
     ]
    }
   ],
   "source": [
    "myset = {1, 2, 3.4}\n",
    "print(myset)\n",
    "myset.add(True)\n",
    "print(myset)\n",
    "\n",
    "# myset.add([1, 2]) # 오류"
   ]
  },
  {
   "cell_type": "code",
   "execution_count": 26,
   "metadata": {},
   "outputs": [
    {
     "name": "stdout",
     "output_type": "stream",
     "text": [
      "frozenset({'python', 'kotlin'}) <class 'frozenset'>\n"
     ]
    }
   ],
   "source": [
    "# %% frosenset\n",
    "pl = frozenset({'python', 'kotlin'})\n",
    "pl = frozenset(('python', 'kotlin'))\n",
    "pl = frozenset(['python', 'kotlin'])\n",
    "print(pl, type(pl))\n",
    "\n",
    "# pl.add('java')  # 오류"
   ]
  },
  {
   "cell_type": "code",
   "execution_count": 27,
   "metadata": {},
   "outputs": [
    {
     "name": "stdout",
     "output_type": "stream",
     "text": [
      "Help on built-in function id in module builtins:\n",
      "\n",
      "id(obj, /)\n",
      "    Return the identity of an object.\n",
      "    \n",
      "    This is guaranteed to be unique among simultaneously existing objects.\n",
      "    (CPython uses the object's memory address.)\n",
      "\n"
     ]
    }
   ],
   "source": [
    "# %% mutable vs immutable\n",
    "help(id)"
   ]
  },
  {
   "cell_type": "code",
   "execution_count": 28,
   "metadata": {},
   "outputs": [
    {
     "name": "stdout",
     "output_type": "stream",
     "text": [
      "140711000707880 140711000707880\n",
      "True\n"
     ]
    }
   ],
   "source": [
    "# %% mutbale vs immutable\n",
    "a = b = 1\n",
    "print(id(a), id(b))\n",
    "print(id(a) == id(b))"
   ]
  },
  {
   "cell_type": "code",
   "execution_count": 29,
   "metadata": {},
   "outputs": [
    {
     "name": "stdout",
     "output_type": "stream",
     "text": [
      "140711000707912 140711000707880\n",
      "False\n"
     ]
    }
   ],
   "source": [
    "a = a + 1\n",
    "print(id(a), id(b))\n",
    "print(id(a) == id(b))"
   ]
  },
  {
   "cell_type": "code",
   "execution_count": 11,
   "metadata": {},
   "outputs": [
    {
     "name": "stdout",
     "output_type": "stream",
     "text": [
      "140712818611016 140712818611016 140712818611016\n"
     ]
    }
   ],
   "source": [
    "print(id(2), id(1+1), id(3-1))"
   ]
  },
  {
   "cell_type": "code",
   "execution_count": 12,
   "metadata": {},
   "outputs": [
    {
     "name": "stdout",
     "output_type": "stream",
     "text": [
      "140712818611272\n",
      "140712818611304\n"
     ]
    }
   ],
   "source": [
    "data = 10\n",
    "print(id(data))\n",
    "data = 10 + 1\n",
    "print(id(data))"
   ]
  },
  {
   "cell_type": "code",
   "execution_count": 31,
   "metadata": {},
   "outputs": [
    {
     "name": "stdout",
     "output_type": "stream",
     "text": [
      "2613030810944\n",
      "2613030810944\n"
     ]
    }
   ],
   "source": [
    "lst = [1, 2, 3]\n",
    "print(id(lst))\n",
    "\n",
    "lst.append(4)\n",
    "print(id(lst))"
   ]
  },
  {
   "cell_type": "code",
   "execution_count": 32,
   "metadata": {},
   "outputs": [
    {
     "name": "stdout",
     "output_type": "stream",
     "text": [
      "Help on built-in function hash in module builtins:\n",
      "\n",
      "hash(obj, /)\n",
      "    Return the hash value for the given object.\n",
      "    \n",
      "    Two objects that compare equal must also have the same hash value, but the\n",
      "    reverse is not necessarily true.\n",
      "\n"
     ]
    }
   ],
   "source": [
    "help(hash)"
   ]
  },
  {
   "cell_type": "code",
   "execution_count": 33,
   "metadata": {},
   "outputs": [
    {
     "name": "stdout",
     "output_type": "stream",
     "text": [
      "4475000099362023540 10\n",
      "922337203685477379 529344067295497451\n"
     ]
    }
   ],
   "source": [
    "s, a, x, t = 'py', 10, 3.4, (1, 2, 3)\n",
    "print(hash(s), hash(a))\n",
    "print(hash(x), hash(t))"
   ]
  },
  {
   "cell_type": "code",
   "execution_count": 34,
   "metadata": {},
   "outputs": [
    {
     "ename": "TypeError",
     "evalue": "unhashable type: 'list'",
     "output_type": "error",
     "traceback": [
      "\u001b[1;31m---------------------------------------------------------------------------\u001b[0m",
      "\u001b[1;31mTypeError\u001b[0m                                 Traceback (most recent call last)",
      "Cell \u001b[1;32mIn[34], line 1\u001b[0m\n\u001b[1;32m----> 1\u001b[0m \u001b[38;5;28mprint\u001b[39m(\u001b[38;5;28;43mhash\u001b[39;49m\u001b[43m(\u001b[49m\u001b[43m[\u001b[49m\u001b[38;5;241;43m1\u001b[39;49m\u001b[43m,\u001b[49m\u001b[43m \u001b[49m\u001b[38;5;241;43m2\u001b[39;49m\u001b[43m,\u001b[49m\u001b[43m \u001b[49m\u001b[38;5;241;43m3\u001b[39;49m\u001b[43m]\u001b[49m\u001b[43m)\u001b[49m)\n",
      "\u001b[1;31mTypeError\u001b[0m: unhashable type: 'list'"
     ]
    }
   ],
   "source": [
    "print(hash([1, 2, 3]))"
   ]
  },
  {
   "cell_type": "code",
   "execution_count": 35,
   "metadata": {},
   "outputs": [
    {
     "ename": "TypeError",
     "evalue": "unhashable type: 'dict'",
     "output_type": "error",
     "traceback": [
      "\u001b[1;31m---------------------------------------------------------------------------\u001b[0m",
      "\u001b[1;31mTypeError\u001b[0m                                 Traceback (most recent call last)",
      "Cell \u001b[1;32mIn[35], line 1\u001b[0m\n\u001b[1;32m----> 1\u001b[0m \u001b[38;5;28mprint\u001b[39m(\u001b[38;5;28;43mhash\u001b[39;49m\u001b[43m(\u001b[49m\u001b[43m{\u001b[49m\u001b[38;5;124;43m'\u001b[39;49m\u001b[38;5;124;43mone\u001b[39;49m\u001b[38;5;124;43m'\u001b[39;49m\u001b[43m:\u001b[49m\u001b[38;5;241;43m1\u001b[39;49m\u001b[43m}\u001b[49m\u001b[43m)\u001b[49m)\n",
      "\u001b[1;31mTypeError\u001b[0m: unhashable type: 'dict'"
     ]
    }
   ],
   "source": [
    "print(hash({'one':1}))"
   ]
  },
  {
   "cell_type": "code",
   "execution_count": 36,
   "metadata": {},
   "outputs": [
    {
     "ename": "TypeError",
     "evalue": "unhashable type: 'set'",
     "output_type": "error",
     "traceback": [
      "\u001b[1;31m---------------------------------------------------------------------------\u001b[0m",
      "\u001b[1;31mTypeError\u001b[0m                                 Traceback (most recent call last)",
      "Cell \u001b[1;32mIn[36], line 1\u001b[0m\n\u001b[1;32m----> 1\u001b[0m \u001b[38;5;28mprint\u001b[39m(\u001b[38;5;28;43mhash\u001b[39;49m\u001b[43m(\u001b[49m\u001b[43m{\u001b[49m\u001b[38;5;241;43m1\u001b[39;49m\u001b[43m,\u001b[49m\u001b[43m \u001b[49m\u001b[38;5;241;43m2\u001b[39;49m\u001b[43m,\u001b[49m\u001b[43m \u001b[49m\u001b[38;5;241;43m3\u001b[39;49m\u001b[43m}\u001b[49m\u001b[43m)\u001b[49m)\n",
      "\u001b[1;31mTypeError\u001b[0m: unhashable type: 'set'"
     ]
    }
   ],
   "source": [
    "print(hash({1, 2, 3}))"
   ]
  },
  {
   "cell_type": "markdown",
   "metadata": {},
   "source": [
    "## 3절. 표준입력과 표준출력"
   ]
  },
  {
   "cell_type": "code",
   "execution_count": 37,
   "metadata": {},
   "outputs": [
    {
     "name": "stdout",
     "output_type": "stream",
     "text": [
      "20\n",
      "나이 입력 >> 20\n",
      "20\n"
     ]
    }
   ],
   "source": [
    "# %% input()\n",
    "input()\n",
    "age = input('나이 입력 >> ')\n",
    "print(age)"
   ]
  },
  {
   "cell_type": "code",
   "execution_count": 38,
   "metadata": {},
   "outputs": [
    {
     "name": "stdout",
     "output_type": "stream",
     "text": [
      "정수 입력 >> 30\n",
      "30 <class 'str'>\n"
     ]
    }
   ],
   "source": [
    "a = input('정수 입력 >> ')\n",
    "print(a, type(a))\n",
    "# print(a + 5) # 오류 발생"
   ]
  },
  {
   "cell_type": "code",
   "execution_count": 20,
   "metadata": {},
   "outputs": [
    {
     "name": "stdout",
     "output_type": "stream",
     "text": [
      "300\n",
      "3.61\n"
     ]
    }
   ],
   "source": [
    "# %% int() float()\n",
    "print(int('300'))\n",
    "print(float('3.61'))"
   ]
  },
  {
   "cell_type": "code",
   "execution_count": 40,
   "metadata": {},
   "outputs": [
    {
     "ename": "ValueError",
     "evalue": "invalid literal for int() with base 10: '300.4'",
     "output_type": "error",
     "traceback": [
      "\u001b[1;31m---------------------------------------------------------------------------\u001b[0m",
      "\u001b[1;31mValueError\u001b[0m                                Traceback (most recent call last)",
      "Cell \u001b[1;32mIn[40], line 1\u001b[0m\n\u001b[1;32m----> 1\u001b[0m \u001b[38;5;28;43mint\u001b[39;49m\u001b[43m(\u001b[49m\u001b[38;5;124;43m'\u001b[39;49m\u001b[38;5;124;43m300.4\u001b[39;49m\u001b[38;5;124;43m'\u001b[39;49m\u001b[43m)\u001b[49m\n\u001b[0;32m      2\u001b[0m \u001b[38;5;28mfloat\u001b[39m(\u001b[38;5;124m'\u001b[39m\u001b[38;5;124m3.61f\u001b[39m\u001b[38;5;124m'\u001b[39m)\n",
      "\u001b[1;31mValueError\u001b[0m: invalid literal for int() with base 10: '300.4'"
     ]
    }
   ],
   "source": [
    "int('300.4')\n",
    "float('3.61f')"
   ]
  },
  {
   "cell_type": "code",
   "execution_count": 41,
   "metadata": {},
   "outputs": [
    {
     "name": "stdout",
     "output_type": "stream",
     "text": [
      "3\n",
      "-3\n",
      "3.4\n",
      "3.0\n"
     ]
    }
   ],
   "source": [
    "print(int(3.56))\n",
    "print(int(-3.4))\n",
    "print(float(3.4))\n",
    "print(float(3))"
   ]
  },
  {
   "cell_type": "code",
   "execution_count": 19,
   "metadata": {},
   "outputs": [
    {
     "name": "stdout",
     "output_type": "stream",
     "text": [
      "100 <class 'int'>\n",
      "105\n"
     ]
    }
   ],
   "source": [
    "a = int(input('정수 입력 >> '))\n",
    "print(a, type(a))\n",
    "print(a + 5) "
   ]
  },
  {
   "cell_type": "code",
   "execution_count": 43,
   "metadata": {},
   "outputs": [
    {
     "name": "stdout",
     "output_type": "stream",
     "text": [
      "실수 입력 >> 4.6\n",
      "4.6 <class 'float'>\n",
      "14.6\n"
     ]
    }
   ],
   "source": [
    "x = float(input('실수 입력 >> '))\n",
    "print(x, type(x))\n",
    "print(a + x) "
   ]
  },
  {
   "cell_type": "code",
   "execution_count": 44,
   "metadata": {},
   "outputs": [
    {
     "name": "stdout",
     "output_type": "stream",
     "text": [
      "개발환경 colab와 codespace\n",
      "개발환경 colab와 codespace\n",
      "개발환경 codespace와 colab\n",
      "개발환경 colab와 codespace\n"
     ]
    }
   ],
   "source": [
    "# %% string format mathod\n",
    "print('개발환경 {}와 {}'.format('colab', 'codespace'))\n",
    "print('개발환경 {0}와 {1}'.format('colab', 'codespace'))\n",
    "print('개발환경 {1}와 {0}'.format('colab', 'codespace'))\n",
    "print('개발환경 {ide1}와 {ide2}'.format(ide1='colab', ide2='codespace'))"
   ]
  },
  {
   "cell_type": "code",
   "execution_count": 45,
   "metadata": {},
   "outputs": [
    {
     "ename": "IndexError",
     "evalue": "Replacement index 1 out of range for positional args tuple",
     "output_type": "error",
     "traceback": [
      "\u001b[1;31m---------------------------------------------------------------------------\u001b[0m",
      "\u001b[1;31mIndexError\u001b[0m                                Traceback (most recent call last)",
      "Cell \u001b[1;32mIn[45], line 1\u001b[0m\n\u001b[1;32m----> 1\u001b[0m \u001b[38;5;28mprint\u001b[39m(\u001b[38;5;124;43m'\u001b[39;49m\u001b[38;5;124;43m개발환경 \u001b[39;49m\u001b[38;5;132;43;01m{}\u001b[39;49;00m\u001b[38;5;124;43m와 \u001b[39;49m\u001b[38;5;132;43;01m{}\u001b[39;49;00m\u001b[38;5;124;43m'\u001b[39;49m\u001b[38;5;241;43m.\u001b[39;49m\u001b[43mformat\u001b[49m\u001b[43m(\u001b[49m\u001b[38;5;124;43m'\u001b[39;49m\u001b[38;5;124;43mcolab\u001b[39;49m\u001b[38;5;124;43m'\u001b[39;49m\u001b[43m)\u001b[49m)\n",
      "\u001b[1;31mIndexError\u001b[0m: Replacement index 1 out of range for positional args tuple"
     ]
    }
   ],
   "source": [
    "print('개발환경 {}와 {}'.format('colab'))"
   ]
  },
  {
   "cell_type": "code",
   "execution_count": 46,
   "metadata": {},
   "outputs": [
    {
     "name": "stdout",
     "output_type": "stream",
     "text": [
      "2026년 월드컵\n"
     ]
    }
   ],
   "source": [
    "# %% format string\n",
    "s = f'2026년 월드컵'\n",
    "print(s)"
   ]
  },
  {
   "cell_type": "code",
   "execution_count": 47,
   "metadata": {},
   "outputs": [
    {
     "name": "stdout",
     "output_type": "stream",
     "text": [
      "28.26\n",
      "81\n",
      "3\n",
      "4.2\n",
      "13\n"
     ]
    }
   ],
   "source": [
    "print(f'{3 * 3 * 3.14}')\n",
    "print(f'{3 ** 4}')\n",
    "print(f'{12 // 4}')\n",
    "print(f'{1.1 + 3.1}')\n",
    "print(f'{0b11 + 0xa}')"
   ]
  },
  {
   "cell_type": "code",
   "execution_count": 23,
   "metadata": {},
   "outputs": [
    {
     "data": {
      "text/plain": [
       "'10진수: 16 2진수: 10000 8진수: 00020 16진수: 00010'"
      ]
     },
     "execution_count": 23,
     "metadata": {},
     "output_type": "execute_result"
    }
   ],
   "source": [
    "a = 16\n",
    "f'10진수: {a} 2진수: {a:05b} 8진수: {a:05o} 16진수: {a:05x}'"
   ]
  },
  {
   "cell_type": "code",
   "execution_count": 48,
   "metadata": {},
   "outputs": [
    {
     "data": {
      "text/plain": [
       "'국가: 대한민국 수도: 서울'"
      ]
     },
     "execution_count": 48,
     "metadata": {},
     "output_type": "execute_result"
    }
   ],
   "source": [
    "# %% format dict \n",
    "na = {'nation':'대한민국', 'capital':'서울'}\n",
    "f'국가: {na[\"nation\"]} 수도: {na[\"capital\"]}'\n",
    "f\"국가: {na['nation']} 수도: {na['capital']}\""
   ]
  },
  {
   "cell_type": "code",
   "execution_count": 49,
   "metadata": {},
   "outputs": [
    {
     "name": "stdout",
     "output_type": "stream",
     "text": [
      "150000 원은 $ 122.110061869098\n",
      "150000 원은 $ 122.110062\n",
      "    150000 원은 $ 122.11\n"
     ]
    }
   ],
   "source": [
    "# %% format specifiers\n",
    "won, ex_rate = 150000, 1228.4 \n",
    "print('{} 원은 $ {}'.format(won, won/ex_rate))\n",
    "print('{:d} 원은 $ {:10f}'.format(won, won/ex_rate))\n",
    "print('{:10d} 원은 $ {:.2f}'.format(won, won/ex_rate))"
   ]
  },
  {
   "cell_type": "code",
   "execution_count": 50,
   "metadata": {},
   "outputs": [
    {
     "name": "stdout",
     "output_type": "stream",
     "text": [
      "150000 원은 € 101.4747666080368\n",
      "150000 원은 € 101.474767\n",
      "    150000 원은 € 101.47\n"
     ]
    }
   ],
   "source": [
    "won, ex_rate = 150000, 1478.2 \n",
    "print(f'{won} 원은 {chr(8364)} {won/ex_rate}')\n",
    "print(f'{won:d} 원은 {chr(8364)} {won/ex_rate :10f}')\n",
    "print(f'{won:10d} 원은 {chr(8364)} {won/ex_rate :.2f}')"
   ]
  },
  {
   "cell_type": "code",
   "execution_count": 52,
   "metadata": {},
   "outputs": [
    {
     "data": {
      "text/plain": [
       "['__doc__',\n",
       " '__loader__',\n",
       " '__name__',\n",
       " '__package__',\n",
       " '__spec__',\n",
       " 'acos',\n",
       " 'acosh',\n",
       " 'asin',\n",
       " 'asinh',\n",
       " 'atan',\n",
       " 'atan2',\n",
       " 'atanh',\n",
       " 'cbrt',\n",
       " 'ceil',\n",
       " 'comb',\n",
       " 'copysign',\n",
       " 'cos',\n",
       " 'cosh',\n",
       " 'degrees',\n",
       " 'dist',\n",
       " 'e',\n",
       " 'erf',\n",
       " 'erfc',\n",
       " 'exp',\n",
       " 'exp2',\n",
       " 'expm1',\n",
       " 'fabs',\n",
       " 'factorial',\n",
       " 'floor',\n",
       " 'fmod',\n",
       " 'frexp',\n",
       " 'fsum',\n",
       " 'gamma',\n",
       " 'gcd',\n",
       " 'hypot',\n",
       " 'inf',\n",
       " 'isclose',\n",
       " 'isfinite',\n",
       " 'isinf',\n",
       " 'isnan',\n",
       " 'isqrt',\n",
       " 'lcm',\n",
       " 'ldexp',\n",
       " 'lgamma',\n",
       " 'log',\n",
       " 'log10',\n",
       " 'log1p',\n",
       " 'log2',\n",
       " 'modf',\n",
       " 'nan',\n",
       " 'nextafter',\n",
       " 'perm',\n",
       " 'pi',\n",
       " 'pow',\n",
       " 'prod',\n",
       " 'radians',\n",
       " 'remainder',\n",
       " 'sin',\n",
       " 'sinh',\n",
       " 'sqrt',\n",
       " 'tan',\n",
       " 'tanh',\n",
       " 'tau',\n",
       " 'trunc',\n",
       " 'ulp']"
      ]
     },
     "execution_count": 52,
     "metadata": {},
     "output_type": "execute_result"
    }
   ],
   "source": [
    "# %% module math\n",
    "import math\n",
    "\n",
    "dir(math)"
   ]
  },
  {
   "cell_type": "code",
   "execution_count": 53,
   "metadata": {},
   "outputs": [
    {
     "name": "stdout",
     "output_type": "stream",
     "text": [
      "81.0\n",
      "7.7\n",
      "4.0\n"
     ]
    }
   ],
   "source": [
    "print(math.pow(3, 4))\n",
    "print(math.fsum([3.3, 4.4]))\n",
    "print(math.sqrt(16))"
   ]
  },
  {
   "cell_type": "code",
   "execution_count": 54,
   "metadata": {},
   "outputs": [
    {
     "name": "stdout",
     "output_type": "stream",
     "text": [
      "3.141592653589793\n",
      "2.718281828459045\n"
     ]
    }
   ],
   "source": [
    "print(math.pi)\n",
    "print(math.e)"
   ]
  },
  {
   "cell_type": "code",
   "execution_count": 55,
   "metadata": {},
   "outputs": [
    {
     "name": "stdout",
     "output_type": "stream",
     "text": [
      "   12.3% 12.30% 0.123000\n"
     ]
    }
   ],
   "source": [
    "x = .123\n",
    "print(f'{x:8.1%} {x:.2%} {x:f}')"
   ]
  },
  {
   "cell_type": "code",
   "execution_count": 56,
   "metadata": {},
   "outputs": [
    {
     "name": "stdout",
     "output_type": "stream",
     "text": [
      "123456789012345678901234567890\n",
      "java      python    kotlin    \n",
      "java         java         java\n",
      "python      python      python\n"
     ]
    }
   ],
   "source": [
    "# %%\n",
    "p1 = 'java'\n",
    "p2 = 'python'\n",
    "p3 = 'kotlin'\n",
    "print('1234567890' * 3)\n",
    "print(f'{p1:10s}{p2:10s}{p3:10s}')\n",
    "print(f'{p1:<10s}{p1:^10s}{p1:>10s}')\n",
    "print(f'{p2:<10s}{p2:^10s}{p2:>10s}')"
   ]
  },
  {
   "cell_type": "code",
   "execution_count": 57,
   "metadata": {},
   "outputs": [
    {
     "name": "stdout",
     "output_type": "stream",
     "text": [
      "([1, 2], 30)\n"
     ]
    }
   ],
   "source": [
    "# %% tuple \n",
    "# 튜플 자체는 변경할 수 없지만 해당 내용이나 요소는 변경할 수 있습니다.\n",
    "a = [1, 2]\n",
    "b = 30\n",
    "t = a, b\n",
    "print(t)"
   ]
  },
  {
   "cell_type": "code",
   "execution_count": 58,
   "metadata": {},
   "outputs": [
    {
     "name": "stdout",
     "output_type": "stream",
     "text": [
      "([1, 2, 3], 30)\n"
     ]
    }
   ],
   "source": [
    "# 튜플 항목 제체를 수정 가능 \n",
    "a.append(3)\n",
    "print(t)"
   ]
  },
  {
   "cell_type": "code",
   "execution_count": 59,
   "metadata": {},
   "outputs": [
    {
     "name": "stdout",
     "output_type": "stream",
     "text": [
      "([1, 2, 3], 30)\n"
     ]
    }
   ],
   "source": [
    "# 첨자로 튜플 항목 수정 불가능 \n",
    "# t[0] = [1, 2, 3]\n",
    "print(t)"
   ]
  },
  {
   "cell_type": "markdown",
   "metadata": {},
   "source": [
    "## 함수 기초"
   ]
  },
  {
   "cell_type": "code",
   "execution_count": 2,
   "metadata": {},
   "outputs": [
    {
     "name": "stdout",
     "output_type": "stream",
     "text": [
      "안녕, 현수!\n",
      "안녕, 수희!\n",
      "안녕, 지수!\n",
      "안녕, 현수!\n",
      "안녕, 수희!\n",
      "안녕, 지수!\n"
     ]
    }
   ],
   "source": [
    "# %%\n",
    "print('안녕, 현수!')\n",
    "print('안녕, 수희!')\n",
    "print('안녕, 지수!')\n",
    "\n",
    "# %% 함수\n",
    "def greet():\n",
    "    print('안녕, 현수!')\n",
    "    print('안녕, 수희!')\n",
    "    print('안녕, 지수!')\n",
    "\n",
    "greet()"
   ]
  },
  {
   "cell_type": "code",
   "execution_count": 3,
   "metadata": {},
   "outputs": [
    {
     "name": "stdout",
     "output_type": "stream",
     "text": [
      "안녕, 현수!\n",
      "안녕, 수희!\n",
      "안녕, 지수!\n",
      "안녕, 모든 친구들!\n"
     ]
    }
   ],
   "source": [
    "# %%\n",
    "def greet(name):\n",
    "    print(f'안녕, {name}!')\n",
    "\n",
    "greet('현수')\n",
    "greet('수희')\n",
    "greet('지수')\n",
    "greet('모든 친구들')"
   ]
  },
  {
   "cell_type": "code",
   "execution_count": 4,
   "metadata": {},
   "outputs": [
    {
     "name": "stdout",
     "output_type": "stream",
     "text": [
      "안녕, 모든 친구들!\n",
      "None\n"
     ]
    }
   ],
   "source": [
    "# %% 반환 값 None\n",
    "def greet(name):\n",
    "    print(f'안녕, {name}!')\n",
    "\n",
    "print(greet('모든 친구들'))"
   ]
  },
  {
   "cell_type": "code",
   "execution_count": 5,
   "metadata": {},
   "outputs": [
    {
     "name": "stdout",
     "output_type": "stream",
     "text": [
      "24 평은 79.20 제곱미터\n",
      "32 평은 105.60 제곱미터\n"
     ]
    }
   ],
   "source": [
    "# %%\n",
    "area = 24\n",
    "print(f'{area} 평은 {area*3.3:.2f} 제곱미터')\n",
    "area = 32\n",
    "print(f'{area} 평은 {area*3.3:.2f} 제곱미터')"
   ]
  },
  {
   "cell_type": "code",
   "execution_count": 6,
   "metadata": {},
   "outputs": [
    {
     "name": "stdout",
     "output_type": "stream",
     "text": [
      "24 평은 79.20 제곱미터\n",
      "32 평은 105.60 제곱미터\n"
     ]
    }
   ],
   "source": [
    "# %%\n",
    "def toArea(pg):\n",
    "    return pg * 3.3 \n",
    "\n",
    "toArea(16)\n",
    "\n",
    "pg = 24\n",
    "print(f'{pg} 평은 {toArea(pg):.2f} 제곱미터')\n",
    "pg = 32\n",
    "print(f'{pg} 평은 {toArea(pg):.2f} 제곱미터')"
   ]
  },
  {
   "cell_type": "markdown",
   "metadata": {},
   "source": [
    "#### 함수도 객체"
   ]
  },
  {
   "cell_type": "code",
   "execution_count": 7,
   "metadata": {},
   "outputs": [
    {
     "name": "stdout",
     "output_type": "stream",
     "text": [
      "<class 'function'>\n"
     ]
    }
   ],
   "source": [
    "# 함수 정의\n",
    "def hello():\n",
    "    print('안녕')\n",
    "\n",
    "print(type(hello))"
   ]
  },
  {
   "cell_type": "code",
   "execution_count": 8,
   "metadata": {},
   "outputs": [
    {
     "name": "stdout",
     "output_type": "stream",
     "text": [
      "<function hello at 0x0000028B61237F60>\n",
      "2797653426016\n"
     ]
    }
   ],
   "source": [
    "# 정의된 함수 주소 출력\n",
    "print(hello)\n",
    "print(id(hello))"
   ]
  },
  {
   "cell_type": "code",
   "execution_count": 9,
   "metadata": {},
   "outputs": [
    {
     "name": "stdout",
     "output_type": "stream",
     "text": [
      "안녕\n",
      "None\n",
      "안녕\n"
     ]
    },
    {
     "data": {
      "text/plain": [
       "(2797653426016, 2797653426016)"
      ]
     },
     "execution_count": 9,
     "metadata": {},
     "output_type": "execute_result"
    }
   ],
   "source": [
    "# 함수 호출\n",
    "print(hello())\n",
    "\n",
    "# 함수 대입\n",
    "my_hello = hello\n",
    "my_hello()\n",
    "\n",
    "id(my_hello), id(hello)"
   ]
  },
  {
   "cell_type": "code",
   "execution_count": 11,
   "metadata": {},
   "outputs": [
    {
     "data": {
      "text/plain": [
       "<function __main__.<lambda>()>"
      ]
     },
     "execution_count": 11,
     "metadata": {},
     "output_type": "execute_result"
    }
   ],
   "source": [
    "# %% 람다 함수 정의\n",
    "lambda : print('안녕')"
   ]
  },
  {
   "cell_type": "code",
   "execution_count": 12,
   "metadata": {},
   "outputs": [
    {
     "name": "stdout",
     "output_type": "stream",
     "text": [
      "안녕\n"
     ]
    }
   ],
   "source": [
    "# 람다 함수 정의와 호출\n",
    "(lambda : print('안녕'))()"
   ]
  },
  {
   "cell_type": "code",
   "execution_count": 13,
   "metadata": {},
   "outputs": [
    {
     "name": "stdout",
     "output_type": "stream",
     "text": [
      "안녕\n"
     ]
    }
   ],
   "source": [
    "my_hello = lambda : print('안녕')\n",
    "my_hello()"
   ]
  },
  {
   "cell_type": "code",
   "execution_count": 14,
   "metadata": {},
   "outputs": [
    {
     "name": "stdout",
     "output_type": "stream",
     "text": [
      "<function <lambda> at 0x0000028B612E4680> <class 'function'>\n",
      "안녕\n",
      "None\n"
     ]
    }
   ],
   "source": [
    "print(my_hello, type(my_hello))\n",
    "print(my_hello())"
   ]
  },
  {
   "cell_type": "code",
   "execution_count": 16,
   "metadata": {},
   "outputs": [
    {
     "name": "stdout",
     "output_type": "stream",
     "text": [
      "24 평은 79.20 제곱미터\n",
      "32 평은 105.60 제곱미터\n"
     ]
    }
   ],
   "source": [
    "# 람다 함수 정의\n",
    "pyeong_to_ms = lambda pg: f'{pg} 평은 {pg*3.3:.2f} 제곱미터'\n",
    "\n",
    "# 람다 함수 호출\n",
    "print(pyeong_to_ms(24))\n",
    "print(pyeong_to_ms(32))"
   ]
  },
  {
   "cell_type": "markdown",
   "metadata": {},
   "source": [
    "## 조건"
   ]
  },
  {
   "cell_type": "code",
   "execution_count": 25,
   "metadata": {},
   "outputs": [
    {
     "name": "stdout",
     "output_type": "stream",
     "text": [
      "한 학기 수강 학점이 부족합니다.\n"
     ]
    }
   ],
   "source": [
    "# %% if\n",
    "credits = 10\n",
    "if credits < 12:\n",
    "    print('한 학기 수강 학점이 부족합니다.') "
   ]
  },
  {
   "cell_type": "code",
   "execution_count": 26,
   "metadata": {},
   "outputs": [
    {
     "name": "stdout",
     "output_type": "stream",
     "text": [
      "한 학기 수강 학점이 부족합니다.\n"
     ]
    }
   ],
   "source": [
    "# 한 줄로 작성하지 말도록 권고 \n",
    "if credits < 12: print('한 학기 수강 학점이 부족합니다.') "
   ]
  },
  {
   "cell_type": "code",
   "execution_count": 27,
   "metadata": {},
   "outputs": [
    {
     "name": "stdout",
     "output_type": "stream",
     "text": [
      "현재 속도 55는 적정 합니다.\n"
     ]
    }
   ],
   "source": [
    "speed = 55\n",
    "if 40 <= speed <= 60:\n",
    "    print(f'현재 속도 {speed}는 적정 합니다.')"
   ]
  },
  {
   "cell_type": "code",
   "execution_count": 28,
   "metadata": {},
   "outputs": [
    {
     "name": "stdout",
     "output_type": "stream",
     "text": [
      "폭염에 주의하세요.\n"
     ]
    }
   ],
   "source": [
    "temperature = 34\n",
    "if 33 <= temperature:\n",
    "    print(f'폭염에 주의하세요.')\n",
    "else:\n",
    "    print(f'기온 {temperature}도 입니다.')"
   ]
  },
  {
   "cell_type": "code",
   "execution_count": 29,
   "metadata": {},
   "outputs": [
    {
     "name": "stdout",
     "output_type": "stream",
     "text": [
      "성인\n"
     ]
    }
   ],
   "source": [
    "age = 20\n",
    "if age >= 70:\n",
    "    print('노인')\n",
    "elif age >= 20:\n",
    "    print('성인')\n",
    "elif age >= 12:\n",
    "    print('청소년')\n",
    "elif age >= 6:\n",
    "    print('어린이')\n",
    "elif age >= 1:\n",
    "    print('유아')\n",
    "else:\n",
    "    print('영아')    "
   ]
  },
  {
   "cell_type": "code",
   "execution_count": null,
   "metadata": {},
   "outputs": [],
   "source": [
    "# %% 코딩 에제\n",
    "# 단위 변환 함수 정의\n",
    "def celsius_to_fahrenheit(celsius):\n",
    "    \"\"\"섭씨 온도를 화씨 온도로 변환하는 함수\"\"\"\n",
    "    return (celsius * 9/5) + 32\n",
    "\n",
    "def kilometers_to_miles(kilometers):\n",
    "    \"\"\"킬로미터를 마일로 변환하는 함수\"\"\"\n",
    "    return kilometers * 0.621371\n",
    "\n",
    "def pounds_to_kilograms(pounds):\n",
    "    \"\"\"파운드를 킬로그램으로 변환하는 함수\"\"\"\n",
    "    return pounds * 0.453592\n",
    "\n",
    "# 사용자로부터 함수 선택\n",
    "print(\"다음 중 원하는 변환을 선택하세요:\")\n",
    "print(\"1. 섭씨를 화씨로 변환\")\n",
    "print(\"2. 킬로미터를 마일로 변환\")\n",
    "print(\"3. 파운드를 킬로그램으로 변환\")\n",
    "\n",
    "choice = int(input(\"번호를 입력하세요: \"))\n",
    "# 선택한 함수를 호출하여 결과 출력\n",
    "if 1 <= choice <= 3:\n",
    "    # 선택한 함수에서 입력 받기\n",
    "    input_value = float(input(\"변환할 값을 입력하세요: \"))\n",
    "    result = 0\n",
    "    if choice == 1:\n",
    "        result = celsius_to_fahrenheit(input_value)\n",
    "    elif choice == 2:    \n",
    "        result = kilometers_to_miles(input_value)\n",
    "    elif choice == 3:    \n",
    "        result = pounds_to_kilograms(input_value)\n",
    "    print(f\"변환 결과: {result:.2f}\")\n",
    "else:\n",
    "    print(\"올바른 번호를 선택하세요.\")\n",
    "\n",
    "'''\n",
    "# 단위 변환 함수를 리스트에 저장\n",
    "result = conversion_functions[choice - 1](input_value)\n",
    "functions = [celsius_to_fahrenheit, kilometers_to_miles, pounds_to_kilograms]\n",
    "'''"
   ]
  },
  {
   "cell_type": "code",
   "execution_count": 30,
   "metadata": {},
   "outputs": [
    {
     "name": "stdout",
     "output_type": "stream",
     "text": [
      "놀이공원 가기\n"
     ]
    }
   ],
   "source": [
    "# %% conditional if \n",
    "is_sunny = True\n",
    "play = '놀이공원 가기' if is_sunny else '집에서 놀기'\n",
    "print(play)"
   ]
  },
  {
   "cell_type": "code",
   "execution_count": 31,
   "metadata": {},
   "outputs": [
    {
     "name": "stdout",
     "output_type": "stream",
     "text": [
      "집에서 놀기\n"
     ]
    }
   ],
   "source": [
    "is_sunny = False\n",
    "print('놀이공원 가기') if is_sunny else print('집에서 놀기')"
   ]
  },
  {
   "cell_type": "code",
   "execution_count": 32,
   "metadata": {},
   "outputs": [
    {
     "name": "stdout",
     "output_type": "stream",
     "text": [
      "B\n"
     ]
    }
   ],
   "source": [
    "point = 85\n",
    "grade = 'C' if point < 80 else 'B' if point < 90 else 'A'\n",
    "print(grade)"
   ]
  },
  {
   "cell_type": "code",
   "execution_count": 33,
   "metadata": {},
   "outputs": [
    {
     "name": "stdout",
     "output_type": "stream",
     "text": [
      "유아\n"
     ]
    }
   ],
   "source": [
    "age = 5\n",
    "age_grade = '노인' if age >= 70 else \\\n",
    "            '성인' if age >= 20 else \\\n",
    "            '청소년' if age >= 12 else \\\n",
    "            '어린이' if age >= 6 else \\\n",
    "            '유아' if age >= 1 else \\\n",
    "            '영아'\n",
    "print(age_grade)"
   ]
  },
  {
   "cell_type": "code",
   "execution_count": 35,
   "metadata": {},
   "outputs": [
    {
     "name": "stdout",
     "output_type": "stream",
     "text": [
      "한 학기 수강 학점이 부족합니다.\n"
     ]
    }
   ],
   "source": [
    "credits = 11\n",
    "if credits < 12: print('한 학기 수강 학점이 부족합니다.') "
   ]
  },
  {
   "cell_type": "code",
   "execution_count": 36,
   "metadata": {},
   "outputs": [
    {
     "name": "stdout",
     "output_type": "stream",
     "text": [
      "학점이 부족합니다.\n",
      "최소 학점: 12\n"
     ]
    }
   ],
   "source": [
    "credits = 10\n",
    "if credits < 12: print('학점이 부족합니다.'); print('최소 학점: 12')"
   ]
  },
  {
   "cell_type": "code",
   "execution_count": 37,
   "metadata": {},
   "outputs": [
    {
     "name": "stdout",
     "output_type": "stream",
     "text": [
      "신청 학점: 15\n",
      "학점이 적정합니다.\n"
     ]
    }
   ],
   "source": [
    "credits = 15\n",
    "if credits < 12: print('학점이 부족합니다.'); print('최소 학점: 12')\n",
    "else: print(f'신청 학점: {credits}'); print('학점이 적정합니다.')"
   ]
  },
  {
   "cell_type": "code",
   "execution_count": 38,
   "metadata": {},
   "outputs": [
    {
     "name": "stdout",
     "output_type": "stream",
     "text": [
      "눈\n",
      "코\n",
      "잎\n"
     ]
    }
   ],
   "source": [
    "num = 1\n",
    "if num == 0: print('해'); print('달'); print('별');\n",
    "elif num == 1: print('눈'); print('코'); print('잎');\n",
    "elif num == 2: print('소'); print('말'); print('양');\n",
    "else: print('꽃'); print('비'); print('씨');"
   ]
  },
  {
   "cell_type": "code",
   "execution_count": null,
   "metadata": {},
   "outputs": [],
   "source": [
    "# %% 코딩 예제\n",
    "# 사용자로부터 두 개의 숫자 입력 받기\n",
    "num1 = float(input(\"첫 번째 숫자를 입력하세요: \"))\n",
    "num2 = float(input(\"두 번째 숫자를 입력하세요: \"))\n",
    "\n",
    "# 큰 수 판별하여 출력\n",
    "result = num1 if num1 > num2 else num2\n",
    "print(f\"두 숫자 중 큰 수는 {result}입니다.\")\n",
    "\n",
    "# 작은 수 판별하여 출력\n",
    "if num1 > num2: result = num2\n",
    "else: result = num1\n",
    "print(f\"두 숫자 중 작은 수는 {result}입니다.\")"
   ]
  },
  {
   "cell_type": "markdown",
   "metadata": {},
   "source": [
    "## 반복 for in과 while"
   ]
  },
  {
   "cell_type": "code",
   "execution_count": 39,
   "metadata": {},
   "outputs": [
    {
     "name": "stdout",
     "output_type": "stream",
     "text": [
      "1\n",
      "2\n",
      "3\n",
      "리스트의 모든 항목에 대해 반복 종료!\n"
     ]
    }
   ],
   "source": [
    "for i in [1, 2, 3]:\n",
    "    print(i)\n",
    "else: \n",
    "    print('리스트의 모든 항목에 대해 반복 종료!')"
   ]
  },
  {
   "cell_type": "code",
   "execution_count": 40,
   "metadata": {},
   "outputs": [
    {
     "name": "stdout",
     "output_type": "stream",
     "text": [
      "1\n",
      "2\n",
      "3\n"
     ]
    }
   ],
   "source": [
    "for i in [1, 2, 3]:\n",
    "    print(i)"
   ]
  },
  {
   "cell_type": "code",
   "execution_count": 42,
   "metadata": {},
   "outputs": [
    {
     "name": "stdout",
     "output_type": "stream",
     "text": [
      "apple\n",
      "banana\n",
      "grape\n"
     ]
    }
   ],
   "source": [
    "fruits = (\"apple\", \"banana\", \"grape\")\n",
    "for one in fruits:\n",
    "  print(one)"
   ]
  },
  {
   "cell_type": "code",
   "execution_count": 43,
   "metadata": {},
   "outputs": [
    {
     "name": "stdout",
     "output_type": "stream",
     "text": [
      "Swift\n",
      "Go\n",
      "Java\n",
      "Python\n"
     ]
    }
   ],
   "source": [
    "languages = {'Swift', 'Python', 'Go', 'Java'}\n",
    "for lang in languages:\n",
    "    print(lang)"
   ]
  },
  {
   "cell_type": "code",
   "execution_count": 44,
   "metadata": {},
   "outputs": [
    {
     "name": "stdout",
     "output_type": "stream",
     "text": [
      "Swift\n",
      "Python\n",
      "Go\n",
      "Java\n"
     ]
    }
   ],
   "source": [
    "languages = {'Swift': 2014, 'Python': 1991, 'Go': 2009, 'Java': 1995}\n",
    "for lang in languages:\n",
    "    print(lang)"
   ]
  },
  {
   "cell_type": "code",
   "execution_count": 45,
   "metadata": {},
   "outputs": [
    {
     "name": "stdout",
     "output_type": "stream",
     "text": [
      "2014\n",
      "1991\n",
      "2009\n",
      "1995\n"
     ]
    }
   ],
   "source": [
    "for lang in languages:\n",
    "    print(languages[lang])"
   ]
  },
  {
   "cell_type": "code",
   "execution_count": 46,
   "metadata": {},
   "outputs": [
    {
     "name": "stdout",
     "output_type": "stream",
     "text": [
      "p y t h o n "
     ]
    }
   ],
   "source": [
    "for c in 'python':\n",
    "    print(c, end=' ')"
   ]
  },
  {
   "cell_type": "code",
   "execution_count": null,
   "metadata": {},
   "outputs": [],
   "source": [
    "# %% 코딩 예제 # 낱말의 문자에 해당하는 그래프 그리기\n",
    "s = 'python'\n",
    "\n",
    "for char in s:\n",
    "    print(f'{char}: ', end=' ')\n",
    "    print(\"*\" * (ord(char) - ord(\"a\") + 1))\n",
    "    # print(f'{\"*\" * (ord(char) - ord(\"a\") + 1)}')"
   ]
  },
  {
   "cell_type": "code",
   "execution_count": 48,
   "metadata": {},
   "outputs": [
    {
     "name": "stdout",
     "output_type": "stream",
     "text": [
      "range(0, 6) <class 'range'>\n"
     ]
    }
   ],
   "source": [
    "# %% type range()\n",
    "r = range(6) # 0, 1, 2, 3, 4, 5 \n",
    "print(r, type(r))"
   ]
  },
  {
   "cell_type": "code",
   "execution_count": 49,
   "metadata": {},
   "outputs": [
    {
     "name": "stdout",
     "output_type": "stream",
     "text": [
      "0 1 6\n"
     ]
    }
   ],
   "source": [
    "print(r.start, r.step, r.stop)"
   ]
  },
  {
   "cell_type": "code",
   "execution_count": 51,
   "metadata": {},
   "outputs": [
    {
     "data": {
      "text/plain": [
       "[0, 1, 2, 3, 4, 5]"
      ]
     },
     "execution_count": 51,
     "metadata": {},
     "output_type": "execute_result"
    }
   ],
   "source": [
    "list(range(6))"
   ]
  },
  {
   "cell_type": "code",
   "execution_count": 52,
   "metadata": {},
   "outputs": [
    {
     "data": {
      "text/plain": [
       "(0, 1, 2, 3, 4, 5)"
      ]
     },
     "execution_count": 52,
     "metadata": {},
     "output_type": "execute_result"
    }
   ],
   "source": [
    "tuple(range(6))"
   ]
  },
  {
   "cell_type": "code",
   "execution_count": 53,
   "metadata": {},
   "outputs": [
    {
     "name": "stdout",
     "output_type": "stream",
     "text": [
      "0 1 2 3 4 "
     ]
    }
   ],
   "source": [
    "for i in range(5):\n",
    "    print(i, end = ' ')"
   ]
  },
  {
   "cell_type": "code",
   "execution_count": 54,
   "metadata": {},
   "outputs": [
    {
     "name": "stdout",
     "output_type": "stream",
     "text": [
      "1 2 3 4 5 6 7 8 9 "
     ]
    }
   ],
   "source": [
    "for i in range(1, 10):\n",
    "    print(i, end = ' ')"
   ]
  },
  {
   "cell_type": "code",
   "execution_count": 55,
   "metadata": {},
   "outputs": [
    {
     "name": "stdout",
     "output_type": "stream",
     "text": [
      "5 4 3 2 1 "
     ]
    }
   ],
   "source": [
    "for _ in range(5, 0, -1):\n",
    "    print(_,  end = ' ')"
   ]
  },
  {
   "cell_type": "code",
   "execution_count": 56,
   "metadata": {},
   "outputs": [
    {
     "name": "stdout",
     "output_type": "stream",
     "text": [
      "10 5 0 -5 "
     ]
    }
   ],
   "source": [
    "for _ in range(10, -10, -5):\n",
    "    print(_,  end = ' ')"
   ]
  },
  {
   "cell_type": "code",
   "execution_count": null,
   "metadata": {},
   "outputs": [],
   "source": [
    "# %% 코딩 예제\n",
    "for i in range(0, 13, 3):\n",
    "    print(i, end= ' ')\n",
    "\n",
    "for _ in range(5):\n",
    "    print(3*_, end = ' ')"
   ]
  },
  {
   "cell_type": "code",
   "execution_count": null,
   "metadata": {},
   "outputs": [],
   "source": [
    "# %% 코딩 예제\n",
    "# 빈 목록 생성\n",
    "name_list = []\n",
    "\n",
    "# 사용자로부터 이름 입력받기\n",
    "num_names = int(input(\"입력할 이름의 수를 입력하세요: \"))\n",
    "\n",
    "for i in range(num_names):\n",
    "    name = input(f\"{i+1}. 이름을 입력하세요: \")\n",
    "    name_list.append(name)  # 이름을 목록에 추가\n",
    "\n",
    "# 알파벳 순으로 정렬\n",
    "name_list.sort() # 리스트의 정렬\n",
    "\n",
    "# 정렬된 이름 목록 출력\n",
    "print(\"\\n입력한 이름들(문자 순):\")\n",
    "for name in name_list:\n",
    "    print(f\"{name}\")"
   ]
  },
  {
   "cell_type": "code",
   "execution_count": 57,
   "metadata": {},
   "outputs": [
    {
     "name": "stdout",
     "output_type": "stream",
     "text": [
      "4 3 2 1 \n",
      "while 종료 후: 변수 n => 0\n"
     ]
    }
   ],
   "source": [
    "n = 4\n",
    "while 1 <= n:\n",
    "    print(n, end = ' ')\n",
    "    n = n - 1\n",
    "else:\n",
    "    print(f'\\nwhile 종료 후: 변수 n => {n}')    "
   ]
  },
  {
   "cell_type": "code",
   "execution_count": null,
   "metadata": {},
   "outputs": [],
   "source": [
    "# %% 코딩 예제\n",
    "# 할 일 목록을 저장할 빈 리스트 생성\n",
    "todo_list = []\n",
    "\n",
    "while True:\n",
    "    print(\"할 일 목록을 관리하는 프로그램입니다.\")\n",
    "    print(\"1. 할 일 추가\")\n",
    "    print(\"2. 할 일 목록 보기\")\n",
    "    print(\"3. 프로그램 종료\")\n",
    "    \n",
    "    choice = input(\"선택할 옵션을 입력하세요 (1/2/3): \")\n",
    "    \n",
    "    if choice == '1':\n",
    "        task = input(\"추가할 할 일을 입력하세요: \")\n",
    "        todo_list.append(task)  # 할 일을 리스트에 추가\n",
    "        print(f\"'{task}'를 할 일 목록에 추가했습니다.\")\n",
    "    \n",
    "    elif choice == '2':\n",
    "        print(\"\\n할 일 목록:\")\n",
    "        for task in todo_list:\n",
    "            print(f\"{task}\")\n",
    "    \n",
    "    elif choice == '3':\n",
    "        print(\"프로그램을 종료합니다.\")\n",
    "        break  # 반복문 종료\n",
    "    \n",
    "    else:\n",
    "        print(\"올바른 옵션을 선택하세요.\")\n",
    "    \n",
    "    print()  # 공백 줄을 추가하여 출력을 구분합니다."
   ]
  },
  {
   "cell_type": "code",
   "execution_count": 58,
   "metadata": {},
   "outputs": [
    {
     "name": "stdout",
     "output_type": "stream",
     "text": [
      "6 * 1 = 6\n",
      "6 * 2 = 12\n",
      "6 * 3 = 18\n"
     ]
    }
   ],
   "source": [
    "# %% break\n",
    "i = 1\n",
    "while i <= 10:\n",
    "    print(f'6 * {i} = {6*i}')\n",
    "    if i == 3:\n",
    "        break   \n",
    "    i = i + 1"
   ]
  },
  {
   "cell_type": "code",
   "execution_count": 60,
   "metadata": {},
   "outputs": [
    {
     "name": "stdout",
     "output_type": "stream",
     "text": [
      "p y t h n \n"
     ]
    }
   ],
   "source": [
    "for s in 'python':\n",
    "    if s in 'aeiou':\n",
    "       continue\n",
    "    print(s, end = ' ')\n",
    "else:\n",
    " \tprint()"
   ]
  },
  {
   "cell_type": "code",
   "execution_count": null,
   "metadata": {},
   "outputs": [],
   "source": [
    "# %% 코딩 예제\n",
    "while True:\n",
    "    user_input = int(input(\"1~10 사이 정수 입력(-1 입력시 종료) >> \"))\n",
    "    \n",
    "    if user_input == -1:\n",
    "        print(\"프로그램을 종료합니다.\")\n",
    "        break  # 반복문 종료\n",
    "    \n",
    "    if user_input < 1 or user_input > 10:\n",
    "        print(\"1부터 10까지의 숫자를 입력하세요.\")\n",
    "        continue  # 현재 반복 중단 후 다음 반복 시작\n",
    "    \n",
    "    if user_input % 2 == 0:\n",
    "        print(f\"{user_input}는 짝수입니다.\")\n",
    "    else:\n",
    "        continue  # 홀수일 경우 현재 반복 중단 후 다음 반복 시작"
   ]
  },
  {
   "cell_type": "code",
   "execution_count": 61,
   "metadata": {},
   "outputs": [
    {
     "name": "stdout",
     "output_type": "stream",
     "text": [
      "7 * 1 = 7  7 * 2 = 14  7 * 3 = 21  7 * 4 = 28  7 * 5 = 35  7 * 6 = 42  7 * 7 = 49  7 * 8 = 56  7 * 9 = 63  "
     ]
    }
   ],
   "source": [
    "i = 7\n",
    "for j in range(1, 10):\n",
    "    print(f'{i} * {j} = {i*j} ', end=' ')"
   ]
  },
  {
   "cell_type": "code",
   "execution_count": 62,
   "metadata": {},
   "outputs": [
    {
     "name": "stdout",
     "output_type": "stream",
     "text": [
      "2 * 1 =  2  2 * 2 =  4  2 * 3 =  6  2 * 4 =  8  2 * 5 = 10  2 * 6 = 12  2 * 7 = 14  2 * 8 = 16  2 * 9 = 18  \n",
      "3 * 1 =  3  3 * 2 =  6  3 * 3 =  9  3 * 4 = 12  3 * 5 = 15  3 * 6 = 18  3 * 7 = 21  3 * 8 = 24  3 * 9 = 27  \n",
      "4 * 1 =  4  4 * 2 =  8  4 * 3 = 12  4 * 4 = 16  4 * 5 = 20  4 * 6 = 24  4 * 7 = 28  4 * 8 = 32  4 * 9 = 36  \n",
      "5 * 1 =  5  5 * 2 = 10  5 * 3 = 15  5 * 4 = 20  5 * 5 = 25  5 * 6 = 30  5 * 7 = 35  5 * 8 = 40  5 * 9 = 45  \n",
      "6 * 1 =  6  6 * 2 = 12  6 * 3 = 18  6 * 4 = 24  6 * 5 = 30  6 * 6 = 36  6 * 7 = 42  6 * 8 = 48  6 * 9 = 54  \n",
      "7 * 1 =  7  7 * 2 = 14  7 * 3 = 21  7 * 4 = 28  7 * 5 = 35  7 * 6 = 42  7 * 7 = 49  7 * 8 = 56  7 * 9 = 63  \n",
      "8 * 1 =  8  8 * 2 = 16  8 * 3 = 24  8 * 4 = 32  8 * 5 = 40  8 * 6 = 48  8 * 7 = 56  8 * 8 = 64  8 * 9 = 72  \n",
      "9 * 1 =  9  9 * 2 = 18  9 * 3 = 27  9 * 4 = 36  9 * 5 = 45  9 * 6 = 54  9 * 7 = 63  9 * 8 = 72  9 * 9 = 81  \n"
     ]
    }
   ],
   "source": [
    "# %%\n",
    "for i in range(2, 10):\n",
    "    for j in range(1, 10):\n",
    "        print(f'{i} * {j} = {i*j:2d} ', end=' ')\n",
    "    print()"
   ]
  }
 ],
 "metadata": {
  "kernelspec": {
   "display_name": "Python 3 (ipykernel)",
   "language": "python",
   "name": "python3"
  },
  "language_info": {
   "codemirror_mode": {
    "name": "ipython",
    "version": 3
   },
   "file_extension": ".py",
   "mimetype": "text/x-python",
   "name": "python",
   "nbconvert_exporter": "python",
   "pygments_lexer": "ipython3",
   "version": "3.11.5"
  }
 },
 "nbformat": 4,
 "nbformat_minor": 2
}
