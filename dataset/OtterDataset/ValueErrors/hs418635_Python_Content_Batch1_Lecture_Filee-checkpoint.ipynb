{
 "cells": [
  {
   "cell_type": "code",
   "execution_count": 1,
   "id": "cd944e8c-2e99-420d-9158-3e99a1114212",
   "metadata": {},
   "outputs": [
    {
     "data": {
      "text/plain": [
       "'C:\\\\Users\\\\HIMANSHU SURYAVANSHI'"
      ]
     },
     "execution_count": 1,
     "metadata": {},
     "output_type": "execute_result"
    }
   ],
   "source": [
    "pwd"
   ]
  },
  {
   "cell_type": "markdown",
   "id": "5e17de6a-7ca5-423a-aea7-6e16fb840df0",
   "metadata": {
    "jp-MarkdownHeadingCollapsed": true
   },
   "source": [
    "## Essentials to make programm\n",
    "\n",
    "1) Identifiers\n",
    "   Rules of identifiers:\n",
    "   1) Always starts with alphbets\n",
    "   2) can contain numbers but can not be started from number\n",
    "   3) keywords like if , any , else can not be identifiers\n",
    "   4) except underscore _ not other special symbolls are allowed\n",
    "2) Comments --> are the uncessarry statements which are ignored by interpreter\n",
    "3) Keywords\n",
    "4) Indentation --> 1TAB space\n",
    "5) Operators"
   ]
  },
  {
   "cell_type": "markdown",
   "id": "41abb04c-7c7a-4ad2-9bf3-1a2702b22958",
   "metadata": {},
   "source": [
    "#### identifiers , comments , keywords , indentation"
   ]
  },
  {
   "cell_type": "code",
   "execution_count": 2,
   "id": "77c033ff-8b2a-487d-8afc-4aed49623f1c",
   "metadata": {},
   "outputs": [
    {
     "name": "stdout",
     "output_type": "stream",
     "text": [
      "number is: 10\n"
     ]
    }
   ],
   "source": [
    "# variable --> are the containers which stores the address of memory location\n",
    "num = 10 # can contain number\n",
    "print(\"number is:\",num)"
   ]
  },
  {
   "cell_type": "code",
   "execution_count": 6,
   "id": "3672d643-3833-4def-b65f-80271ebb3a14",
   "metadata": {},
   "outputs": [
    {
     "data": {
      "text/plain": [
       "'hi this is indore\\ni live in indore'"
      ]
     },
     "execution_count": 6,
     "metadata": {},
     "output_type": "execute_result"
    }
   ],
   "source": [
    "'''hi this is indore\n",
    "i live in indore'''"
   ]
  },
  {
   "cell_type": "code",
   "execution_count": 3,
   "id": "41dd9b99-1045-46f1-abcf-e12f23a7e0c9",
   "metadata": {},
   "outputs": [
    {
     "name": "stdout",
     "output_type": "stream",
     "text": [
      "number is: 100\n"
     ]
    }
   ],
   "source": [
    "num1 = 100 #\n",
    "print(\"number is:\",num1)"
   ]
  },
  {
   "cell_type": "code",
   "execution_count": 4,
   "id": "fb4d0929-bcf5-44c1-ae27-1ff941526af6",
   "metadata": {},
   "outputs": [
    {
     "ename": "SyntaxError",
     "evalue": "invalid decimal literal (1292339775.py, line 1)",
     "output_type": "error",
     "traceback": [
      "\u001b[1;36m  Cell \u001b[1;32mIn[4], line 1\u001b[1;36m\u001b[0m\n\u001b[1;33m    23num = 100 #ca not be started from numbers\u001b[0m\n\u001b[1;37m     ^\u001b[0m\n\u001b[1;31mSyntaxError\u001b[0m\u001b[1;31m:\u001b[0m invalid decimal literal\n"
     ]
    }
   ],
   "source": [
    "23num = 100 #ca not be started from numbers\n",
    "print(\"number is:\",num1)"
   ]
  },
  {
   "cell_type": "code",
   "execution_count": 3,
   "id": "0983c82b-2d24-43b4-8066-3e0f2fa4445e",
   "metadata": {},
   "outputs": [
    {
     "name": "stdout",
     "output_type": "stream",
     "text": [
      "number is: 80\n"
     ]
    }
   ],
   "source": [
    "num_1 = 80\n",
    "print(\"number is:\",num_1)"
   ]
  },
  {
   "cell_type": "code",
   "execution_count": 4,
   "id": "2331396d-d87e-443e-9f8f-22122c0250f5",
   "metadata": {},
   "outputs": [
    {
     "name": "stdout",
     "output_type": "stream",
     "text": [
      "number is: 80\n"
     ]
    }
   ],
   "source": [
    "_num1 = 80\n",
    "print(\"number is:\",_num1)"
   ]
  },
  {
   "cell_type": "code",
   "execution_count": 5,
   "id": "a3cab537-42d3-41c5-b4b0-a5a6c9fbd913",
   "metadata": {},
   "outputs": [
    {
     "ename": "SyntaxError",
     "evalue": "invalid syntax (2577068498.py, line 1)",
     "output_type": "error",
     "traceback": [
      "\u001b[1;36m  Cell \u001b[1;32mIn[5], line 1\u001b[1;36m\u001b[0m\n\u001b[1;33m    num$1 = 80\u001b[0m\n\u001b[1;37m       ^\u001b[0m\n\u001b[1;31mSyntaxError\u001b[0m\u001b[1;31m:\u001b[0m invalid syntax\n"
     ]
    }
   ],
   "source": [
    "num$1 = 80\n",
    "print(\"number is:\",num$1)"
   ]
  },
  {
   "cell_type": "code",
   "execution_count": 2,
   "id": "5c877fb5-d766-49fb-ab92-727752d0abf2",
   "metadata": {},
   "outputs": [
    {
     "ename": "SyntaxError",
     "evalue": "invalid syntax (1020569653.py, line 1)",
     "output_type": "error",
     "traceback": [
      "\u001b[1;36m  Cell \u001b[1;32mIn[2], line 1\u001b[1;36m\u001b[0m\n\u001b[1;33m    if = 30\u001b[0m\n\u001b[1;37m       ^\u001b[0m\n\u001b[1;31mSyntaxError\u001b[0m\u001b[1;31m:\u001b[0m invalid syntax\n"
     ]
    }
   ],
   "source": [
    "if = 30\n",
    "print(if)"
   ]
  },
  {
   "cell_type": "code",
   "execution_count": 7,
   "id": "d54b847d-5113-4159-86aa-1718d95d83d8",
   "metadata": {},
   "outputs": [
    {
     "name": "stdout",
     "output_type": "stream",
     "text": [
      "your age is 30\n"
     ]
    }
   ],
   "source": [
    "###  Indentation\n",
    "age = 30 \n",
    "if age==30:\n",
    "    print(\"your age is\",age)"
   ]
  },
  {
   "cell_type": "code",
   "execution_count": 10,
   "id": "da04bf79-59b5-4f58-91db-1cf0bcabbb87",
   "metadata": {},
   "outputs": [
    {
     "ename": "IndentationError",
     "evalue": "expected an indented block after 'if' statement on line 2 (80430487.py, line 3)",
     "output_type": "error",
     "traceback": [
      "\u001b[1;36m  Cell \u001b[1;32mIn[10], line 3\u001b[1;36m\u001b[0m\n\u001b[1;33m    print(\"your age is\",age)\u001b[0m\n\u001b[1;37m    ^\u001b[0m\n\u001b[1;31mIndentationError\u001b[0m\u001b[1;31m:\u001b[0m expected an indented block after 'if' statement on line 2\n"
     ]
    }
   ],
   "source": [
    "age = 30 \n",
    "if age==30:\n",
    "print(\"your age is\",age)"
   ]
  },
  {
   "cell_type": "markdown",
   "id": "8b613e76-b672-4f04-89a7-97d371b77def",
   "metadata": {},
   "source": [
    "#### Operators\n",
    "1) arithmatic --> ( + , - , * , / , **(exponent), %(modulus) , // ( floor division))\n",
    "2) Relation or comparison --> (== , != , > , < , >= , <=)\n",
    "3) Logical Operators --> AND , OR , NOT\n",
    "4) Assignment or Compound operators --> ( = , += , -= , *= , /= , %= , //=)\n",
    "5) Membership operator --> in, not in\n",
    "6) Identity operator ---> is , is not"
   ]
  },
  {
   "cell_type": "markdown",
   "id": "5a9eeea0-e7ec-4547-802c-0cb4b4dd29cd",
   "metadata": {},
   "source": [
    "##### arithmatic operator"
   ]
  },
  {
   "cell_type": "code",
   "execution_count": null,
   "id": "2e5530f7-a354-499c-bc9a-66620e648667",
   "metadata": {},
   "outputs": [],
   "source": [
    "2 + 2"
   ]
  },
  {
   "cell_type": "code",
   "execution_count": null,
   "id": "578af1f6-8c4e-494c-bae3-9850ecc006b2",
   "metadata": {},
   "outputs": [],
   "source": [
    "5 - 2"
   ]
  },
  {
   "cell_type": "code",
   "execution_count": null,
   "id": "ef4777fc-1ced-48b2-97a6-f657beec5273",
   "metadata": {},
   "outputs": [],
   "source": [
    "3 * 2 "
   ]
  },
  {
   "cell_type": "code",
   "execution_count": null,
   "id": "7657ddc7-ccad-499f-866b-0ba7cc7bdebf",
   "metadata": {},
   "outputs": [],
   "source": [
    "11 / 2"
   ]
  },
  {
   "cell_type": "code",
   "execution_count": null,
   "id": "9cf16d39-8973-4027-a8f9-95085b9effb7",
   "metadata": {},
   "outputs": [],
   "source": [
    "11 % 2 # modulus division --> gives remainder only "
   ]
  },
  {
   "cell_type": "code",
   "execution_count": null,
   "id": "beddd2a9-cb2b-49a1-8327-1bb7376c24a0",
   "metadata": {},
   "outputs": [],
   "source": [
    "11 // 2 # floor division --> gives quotient"
   ]
  },
  {
   "cell_type": "code",
   "execution_count": null,
   "id": "4e5a1671-ef40-470e-8dca-db3e2b6a0ba1",
   "metadata": {},
   "outputs": [],
   "source": [
    "143 // 10"
   ]
  },
  {
   "cell_type": "code",
   "execution_count": null,
   "id": "80e7599b-fa4a-40d3-915f-adb550bb157a",
   "metadata": {},
   "outputs": [],
   "source": [
    "143 % 10 "
   ]
  },
  {
   "cell_type": "markdown",
   "id": "fc6e86f3-16d8-4548-9c15-12dbd6d9f489",
   "metadata": {},
   "source": [
    "##### Relational or comparison operator"
   ]
  },
  {
   "cell_type": "code",
   "execution_count": 15,
   "id": "ac6fd95b-1164-4627-a459-f24ade18667b",
   "metadata": {},
   "outputs": [],
   "source": [
    "a = 10 \n",
    "b = 30 "
   ]
  },
  {
   "cell_type": "code",
   "execution_count": 16,
   "id": "7cc3966c-9eb4-4248-903b-a678c3ebfdec",
   "metadata": {},
   "outputs": [
    {
     "data": {
      "text/plain": [
       "False"
      ]
     },
     "execution_count": 16,
     "metadata": {},
     "output_type": "execute_result"
    }
   ],
   "source": [
    "a > b"
   ]
  },
  {
   "cell_type": "code",
   "execution_count": 17,
   "id": "9bd0b88e-7ede-43b1-8d99-afdaa521a0a4",
   "metadata": {},
   "outputs": [
    {
     "data": {
      "text/plain": [
       "True"
      ]
     },
     "execution_count": 17,
     "metadata": {},
     "output_type": "execute_result"
    }
   ],
   "source": [
    "a < b"
   ]
  },
  {
   "cell_type": "code",
   "execution_count": 18,
   "id": "2a8a2371-8a59-4481-83a1-0b7dd9092117",
   "metadata": {},
   "outputs": [
    {
     "data": {
      "text/plain": [
       "False"
      ]
     },
     "execution_count": 18,
     "metadata": {},
     "output_type": "execute_result"
    }
   ],
   "source": [
    "a == b"
   ]
  },
  {
   "cell_type": "code",
   "execution_count": 19,
   "id": "0870f2c1-4ff4-405b-a011-fb128a99fe64",
   "metadata": {},
   "outputs": [
    {
     "data": {
      "text/plain": [
       "True"
      ]
     },
     "execution_count": 19,
     "metadata": {},
     "output_type": "execute_result"
    }
   ],
   "source": [
    "a != b"
   ]
  },
  {
   "cell_type": "code",
   "execution_count": 20,
   "id": "c664b821-fcfd-4121-82bb-dd608a68799f",
   "metadata": {},
   "outputs": [
    {
     "data": {
      "text/plain": [
       "False"
      ]
     },
     "execution_count": 20,
     "metadata": {},
     "output_type": "execute_result"
    }
   ],
   "source": [
    "a >= b"
   ]
  },
  {
   "cell_type": "code",
   "execution_count": 21,
   "id": "b73b8e99-96f5-4e64-b3a9-c9a6c684f76b",
   "metadata": {},
   "outputs": [
    {
     "data": {
      "text/plain": [
       "True"
      ]
     },
     "execution_count": 21,
     "metadata": {},
     "output_type": "execute_result"
    }
   ],
   "source": [
    "a <= b"
   ]
  },
  {
   "cell_type": "markdown",
   "id": "39f87ffa-41c4-4c95-8461-1d240b703407",
   "metadata": {},
   "source": [
    "##### Logical Operators"
   ]
  },
  {
   "cell_type": "code",
   "execution_count": 22,
   "id": "68ba3fac-c70f-4054-8b2b-5a86ff4423e3",
   "metadata": {},
   "outputs": [
    {
     "data": {
      "text/plain": [
       "True"
      ]
     },
     "execution_count": 22,
     "metadata": {},
     "output_type": "execute_result"
    }
   ],
   "source": [
    "# and or not\n",
    "\n",
    "a = 10 \n",
    "b = 20 \n",
    "c = 30 \n",
    "\n",
    "a<b and b<c"
   ]
  },
  {
   "cell_type": "code",
   "execution_count": 23,
   "id": "56a1b945-2b65-41be-9da4-f09834911a6c",
   "metadata": {},
   "outputs": [
    {
     "data": {
      "text/plain": [
       "False"
      ]
     },
     "execution_count": 23,
     "metadata": {},
     "output_type": "execute_result"
    }
   ],
   "source": [
    "a>b and b<c"
   ]
  },
  {
   "cell_type": "code",
   "execution_count": 24,
   "id": "003416cf-385e-440b-a3b7-3b8d7502886c",
   "metadata": {},
   "outputs": [
    {
     "data": {
      "text/plain": [
       "True"
      ]
     },
     "execution_count": 24,
     "metadata": {},
     "output_type": "execute_result"
    }
   ],
   "source": [
    "a>b or b<c"
   ]
  },
  {
   "cell_type": "code",
   "execution_count": null,
   "id": "d2f6e219-5f7d-4334-ba5d-17872d4fb077",
   "metadata": {},
   "outputs": [],
   "source": [
    "not (a<b and b<c)"
   ]
  },
  {
   "cell_type": "markdown",
   "id": "0a1f5cf3-798f-4f0a-8039-e8e63f2c4b9d",
   "metadata": {},
   "source": [
    "##### Assignment or Compound operators"
   ]
  },
  {
   "cell_type": "code",
   "execution_count": 32,
   "id": "d867f3b9-cc76-455b-972b-8efbe9b1b555",
   "metadata": {},
   "outputs": [],
   "source": [
    "# ( = , += , -= , *= , /= , %= , //=)\n",
    "\n",
    "a = 10"
   ]
  },
  {
   "cell_type": "code",
   "execution_count": 33,
   "id": "338b9432-d7e1-45f6-9f3b-84e58d594370",
   "metadata": {},
   "outputs": [
    {
     "data": {
      "text/plain": [
       "15"
      ]
     },
     "execution_count": 33,
     "metadata": {},
     "output_type": "execute_result"
    }
   ],
   "source": [
    "a + 5"
   ]
  },
  {
   "cell_type": "code",
   "execution_count": 34,
   "id": "c1b23134-b6aa-4997-8a3a-4309aae3950f",
   "metadata": {},
   "outputs": [
    {
     "data": {
      "text/plain": [
       "10"
      ]
     },
     "execution_count": 34,
     "metadata": {},
     "output_type": "execute_result"
    }
   ],
   "source": [
    "a"
   ]
  },
  {
   "cell_type": "code",
   "execution_count": 35,
   "id": "77fe4827-9aab-4993-945b-3d9320916ccd",
   "metadata": {},
   "outputs": [],
   "source": [
    "a += 5"
   ]
  },
  {
   "cell_type": "code",
   "execution_count": 36,
   "id": "7ab74cae-2393-40f7-bfce-90e88e37df77",
   "metadata": {},
   "outputs": [
    {
     "data": {
      "text/plain": [
       "15"
      ]
     },
     "execution_count": 36,
     "metadata": {},
     "output_type": "execute_result"
    }
   ],
   "source": [
    "a"
   ]
  },
  {
   "cell_type": "code",
   "execution_count": 37,
   "id": "60af17b0-e831-45ca-8360-2fb1ab26e5b6",
   "metadata": {},
   "outputs": [],
   "source": [
    "a -= 10"
   ]
  },
  {
   "cell_type": "code",
   "execution_count": 38,
   "id": "9e4dd6ba-1321-4b22-a23b-752463b3dc37",
   "metadata": {},
   "outputs": [
    {
     "data": {
      "text/plain": [
       "5"
      ]
     },
     "execution_count": 38,
     "metadata": {},
     "output_type": "execute_result"
    }
   ],
   "source": [
    "a"
   ]
  },
  {
   "cell_type": "markdown",
   "id": "047e2623-a1d3-4211-b0b6-c685316cb8f5",
   "metadata": {},
   "source": [
    "##### Membership operator"
   ]
  },
  {
   "cell_type": "code",
   "execution_count": 42,
   "id": "26897462-9ed3-4fe2-b172-e3752dd9821a",
   "metadata": {},
   "outputs": [
    {
     "data": {
      "text/plain": [
       "True"
      ]
     },
     "execution_count": 42,
     "metadata": {},
     "output_type": "execute_result"
    }
   ],
   "source": [
    "# in, not in\n",
    "\n",
    "a = [1,2,3,4,5]\n",
    "\n",
    "3 in a"
   ]
  },
  {
   "cell_type": "code",
   "execution_count": 43,
   "id": "08c9191a-769d-4c98-9c64-960644db6cee",
   "metadata": {},
   "outputs": [
    {
     "data": {
      "text/plain": [
       "False"
      ]
     },
     "execution_count": 43,
     "metadata": {},
     "output_type": "execute_result"
    }
   ],
   "source": [
    "6 in a"
   ]
  },
  {
   "cell_type": "code",
   "execution_count": 44,
   "id": "ef299565-330b-4b00-bb75-05361774ed32",
   "metadata": {},
   "outputs": [
    {
     "data": {
      "text/plain": [
       "False"
      ]
     },
     "execution_count": 44,
     "metadata": {},
     "output_type": "execute_result"
    }
   ],
   "source": [
    "4 not in a"
   ]
  },
  {
   "cell_type": "markdown",
   "id": "2cb8c2d8-5e21-49f2-9a1e-367ef8ac1785",
   "metadata": {},
   "source": [
    "##### Identity operators"
   ]
  },
  {
   "cell_type": "code",
   "execution_count": 45,
   "id": "7f0ca668-57ae-4c44-be83-70d8ecdd6398",
   "metadata": {},
   "outputs": [
    {
     "data": {
      "text/plain": [
       "False"
      ]
     },
     "execution_count": 45,
     "metadata": {},
     "output_type": "execute_result"
    }
   ],
   "source": [
    "# is , is not\n",
    "a = 10\n",
    "b = 20\n",
    "\n",
    "a is b"
   ]
  },
  {
   "cell_type": "code",
   "execution_count": 47,
   "id": "2d06c124-5db6-4d92-8435-38104d8f4f6b",
   "metadata": {},
   "outputs": [
    {
     "data": {
      "text/plain": [
       "True"
      ]
     },
     "execution_count": 47,
     "metadata": {},
     "output_type": "execute_result"
    }
   ],
   "source": [
    "a is not b"
   ]
  },
  {
   "cell_type": "markdown",
   "id": "1ca3f58d-0ab8-42c9-b51b-e9c102b5b0e8",
   "metadata": {
    "jp-MarkdownHeadingCollapsed": true
   },
   "source": [
    "## Variables and Data types"
   ]
  },
  {
   "cell_type": "markdown",
   "id": "c610bd1c-2260-44a9-bf29-73575c89d9e8",
   "metadata": {},
   "source": [
    "### Variable"
   ]
  },
  {
   "cell_type": "code",
   "execution_count": 48,
   "id": "8fa1daac-d51e-4c48-9376-18065492962c",
   "metadata": {},
   "outputs": [],
   "source": [
    "a = 10\n",
    "a1 = 10\n",
    "a_1 = 19\n",
    "_a = 12\n",
    "_a1 = 23"
   ]
  },
  {
   "cell_type": "code",
   "execution_count": 53,
   "id": "4c4ce1dc-e499-49b4-bb77-b76fa0ac1288",
   "metadata": {},
   "outputs": [
    {
     "name": "stdout",
     "output_type": "stream",
     "text": [
      "<class 'int'>\n"
     ]
    }
   ],
   "source": [
    "num = 12\n",
    "print(type(num))"
   ]
  },
  {
   "cell_type": "code",
   "execution_count": 50,
   "id": "de353f01-fda0-44fd-a1e1-eb989a82825c",
   "metadata": {},
   "outputs": [
    {
     "name": "stdout",
     "output_type": "stream",
     "text": [
      "140716494537864\n"
     ]
    }
   ],
   "source": [
    "print(id(num))"
   ]
  },
  {
   "cell_type": "code",
   "execution_count": 54,
   "id": "26e64c03-3441-4a1e-9aaa-0ae9e8a04c6a",
   "metadata": {},
   "outputs": [
    {
     "name": "stdout",
     "output_type": "stream",
     "text": [
      "10\n",
      "20\n",
      "140716494537800\n",
      "140716494538120\n"
     ]
    }
   ],
   "source": [
    "a = 10\n",
    "b = 20\n",
    "print(a)\n",
    "print(b)\n",
    "\n",
    "print(id(a))\n",
    "print(id(b))"
   ]
  },
  {
   "cell_type": "code",
   "execution_count": 55,
   "id": "7b3af4c4-6d0f-427e-a128-1dbf42495457",
   "metadata": {},
   "outputs": [
    {
     "name": "stdout",
     "output_type": "stream",
     "text": [
      "140716494537800\n",
      "140716494537800\n"
     ]
    }
   ],
   "source": [
    "num = 10\n",
    "num1 = 10\n",
    "\n",
    "print(id(num))\n",
    "print(id(num1))"
   ]
  },
  {
   "cell_type": "code",
   "execution_count": 58,
   "id": "46cdd3f6-84ac-4478-9604-e639dc9991b2",
   "metadata": {},
   "outputs": [
    {
     "name": "stdout",
     "output_type": "stream",
     "text": [
      "140716494537800\n",
      "140716494537896\n"
     ]
    }
   ],
   "source": [
    "var = 10\n",
    "var1 = 13\n",
    "print(id(var))\n",
    "print(id(var1))"
   ]
  },
  {
   "cell_type": "code",
   "execution_count": 59,
   "id": "ac8dac39-7cdc-4bd9-b9cc-7b92d152b1af",
   "metadata": {},
   "outputs": [
    {
     "data": {
      "text/plain": [
       "False"
      ]
     },
     "execution_count": 59,
     "metadata": {},
     "output_type": "execute_result"
    }
   ],
   "source": [
    "id(a) == id(b)"
   ]
  },
  {
   "cell_type": "code",
   "execution_count": 60,
   "id": "98cff109-20e2-4073-bd82-48d1a6937911",
   "metadata": {},
   "outputs": [],
   "source": [
    "a = b"
   ]
  },
  {
   "cell_type": "code",
   "execution_count": 61,
   "id": "28152d56-4399-4023-b4e2-904425c8c594",
   "metadata": {},
   "outputs": [
    {
     "data": {
      "text/plain": [
       "True"
      ]
     },
     "execution_count": 61,
     "metadata": {},
     "output_type": "execute_result"
    }
   ],
   "source": [
    "id(a) == id(b)"
   ]
  },
  {
   "cell_type": "code",
   "execution_count": 62,
   "id": "e91ddcd9-6638-4e2c-8fd2-aafe75cef385",
   "metadata": {},
   "outputs": [
    {
     "name": "stdout",
     "output_type": "stream",
     "text": [
      "140716494537800\n"
     ]
    }
   ],
   "source": [
    "k = 10 # if we assign same values in two different name variables then id of both variable will be same\n",
    "L = 10\n",
    "print(id(k))"
   ]
  },
  {
   "cell_type": "code",
   "execution_count": 63,
   "id": "9f224723-7b94-4419-9958-45c0ecb9db3c",
   "metadata": {},
   "outputs": [
    {
     "name": "stdout",
     "output_type": "stream",
     "text": [
      "140716494537800\n"
     ]
    }
   ],
   "source": [
    "print(id(L))"
   ]
  },
  {
   "cell_type": "code",
   "execution_count": 64,
   "id": "59806a4f-0fc9-4ba4-b10e-fe545c80d7f9",
   "metadata": {},
   "outputs": [
    {
     "name": "stdout",
     "output_type": "stream",
     "text": [
      "140716494537800\n"
     ]
    }
   ],
   "source": [
    "name = 10\n",
    "print(id(name))"
   ]
  },
  {
   "cell_type": "markdown",
   "id": "554c0a1e-e099-4da0-be54-c2b9be39aaf3",
   "metadata": {
    "jp-MarkdownHeadingCollapsed": true
   },
   "source": [
    "### Data type ---> data are the category/class of data stored in memory"
   ]
  },
  {
   "cell_type": "code",
   "execution_count": 65,
   "id": "fd5feceb-c6ea-44ba-93b9-328ad35713d0",
   "metadata": {},
   "outputs": [
    {
     "data": {
      "text/plain": [
       "'\\n1) Numeric ---> int , float , complex\\n2) string ---> str,eval\\n3) boolean ---> True , False '"
      ]
     },
     "execution_count": 65,
     "metadata": {},
     "output_type": "execute_result"
    }
   ],
   "source": [
    "# types of data types in python \n",
    "'''\n",
    "1) Numeric ---> int , float , complex\n",
    "2) string ---> str,eval\n",
    "3) boolean ---> True , False '''"
   ]
  },
  {
   "cell_type": "code",
   "execution_count": 66,
   "id": "3fe09cc6-6ab3-48f8-bc9e-2c9d2a39906b",
   "metadata": {},
   "outputs": [],
   "source": [
    "# Numeric Data types\n",
    "\n",
    "a = 10\n",
    "b = 10.8\n",
    "c = 10+2j\n",
    "d = 'Virat'\n",
    "e = True"
   ]
  },
  {
   "cell_type": "code",
   "execution_count": 67,
   "id": "53b5fed3-966c-4830-8375-613d50317b8b",
   "metadata": {},
   "outputs": [
    {
     "name": "stdout",
     "output_type": "stream",
     "text": [
      "<class 'int'>\n",
      "<class 'float'>\n",
      "<class 'complex'>\n",
      "<class 'str'>\n",
      "<class 'bool'>\n"
     ]
    }
   ],
   "source": [
    "print(type(a))\n",
    "print(type(b))\n",
    "print(type(c))\n",
    "print(type(d))\n",
    "print(type(e))"
   ]
  },
  {
   "cell_type": "code",
   "execution_count": 68,
   "id": "1ff7c411-6e24-4f3c-93af-a36dceee9176",
   "metadata": {},
   "outputs": [
    {
     "name": "stdout",
     "output_type": "stream",
     "text": [
      "10.0\n",
      "<class 'float'>\n"
     ]
    }
   ],
   "source": [
    "new = float(a)\n",
    "print(new)\n",
    "print(type(new))"
   ]
  },
  {
   "cell_type": "code",
   "execution_count": 69,
   "id": "d917f35b-0ba8-41bb-88f3-b1ca88d92153",
   "metadata": {},
   "outputs": [
    {
     "name": "stdout",
     "output_type": "stream",
     "text": [
      "(10+0j)\n",
      "<class 'complex'>\n"
     ]
    }
   ],
   "source": [
    "new = complex(a)\n",
    "print(new)\n",
    "print(type(new))"
   ]
  },
  {
   "cell_type": "code",
   "execution_count": 71,
   "id": "61ff7b20-bf5b-4b21-ace1-46e569c10527",
   "metadata": {},
   "outputs": [
    {
     "name": "stdout",
     "output_type": "stream",
     "text": [
      "10\n",
      "<class 'int'>\n"
     ]
    }
   ],
   "source": [
    "new = int(b)\n",
    "print(new)\n",
    "print(type(new))"
   ]
  },
  {
   "cell_type": "code",
   "execution_count": 72,
   "id": "450196a1-d2da-4b11-9f2c-1b16c288053d",
   "metadata": {},
   "outputs": [
    {
     "name": "stdout",
     "output_type": "stream",
     "text": [
      "10\n",
      "<class 'str'>\n"
     ]
    }
   ],
   "source": [
    "new = str(a)\n",
    "print(new)\n",
    "print(type(new))"
   ]
  },
  {
   "cell_type": "code",
   "execution_count": 73,
   "id": "9f549687-afe4-46bc-bc49-f7800e4432a0",
   "metadata": {},
   "outputs": [
    {
     "name": "stdout",
     "output_type": "stream",
     "text": [
      "10\n",
      "<class 'str'>\n"
     ]
    }
   ],
   "source": [
    "new1 = str(b)\n",
    "print(new)\n",
    "print(type(new))"
   ]
  },
  {
   "cell_type": "code",
   "execution_count": 74,
   "id": "f9b3fd50-2f8f-4de6-8e7d-5c92810421dc",
   "metadata": {},
   "outputs": [
    {
     "data": {
      "text/plain": [
       "'1010.8'"
      ]
     },
     "execution_count": 74,
     "metadata": {},
     "output_type": "execute_result"
    }
   ],
   "source": [
    "new + new1"
   ]
  },
  {
   "cell_type": "code",
   "execution_count": 75,
   "id": "4e37ad67-c161-4393-bbf0-8eeb33a626a8",
   "metadata": {},
   "outputs": [
    {
     "data": {
      "text/plain": [
       "5"
      ]
     },
     "execution_count": 75,
     "metadata": {},
     "output_type": "execute_result"
    }
   ],
   "source": [
    "2 + 3"
   ]
  },
  {
   "cell_type": "code",
   "execution_count": 76,
   "id": "3567ca58-b190-4c30-a118-db3754f1c78d",
   "metadata": {},
   "outputs": [
    {
     "data": {
      "text/plain": [
       "'23'"
      ]
     },
     "execution_count": 76,
     "metadata": {},
     "output_type": "execute_result"
    }
   ],
   "source": [
    "'2' + '3'"
   ]
  },
  {
   "cell_type": "markdown",
   "id": "3a799886-ec5f-42ea-bd21-0e9299c33c02",
   "metadata": {
    "jp-MarkdownHeadingCollapsed": true
   },
   "source": [
    "## Inputting and outputting"
   ]
  },
  {
   "cell_type": "code",
   "execution_count": 81,
   "id": "4ca216a4-d60c-4f37-a80a-879fcf2c87ac",
   "metadata": {},
   "outputs": [
    {
     "name": "stdout",
     "output_type": "stream",
     "text": [
      " 45\n",
      "45\n",
      "<class 'str'>\n",
      "45\n",
      "<class 'str'>\n"
     ]
    },
    {
     "name": "stdout",
     "output_type": "stream",
     "text": [
      "45\n",
      "<class 'str'>\n"
     ]
    }
   ],
   "source": [
    "a = input() # Taking input from user, # input function takes values in string data type\n",
    "print(a)\n",
    "print(type(a))"
   ]
  },
  {
   "cell_type": "code",
   "execution_count": 82,
   "id": "6cc2df55-c1e9-4c33-b85d-c53031c7ab58",
   "metadata": {},
   "outputs": [
    {
     "name": "stdout",
     "output_type": "stream",
     "text": [
      "enter values =  45\n",
      "45\n",
      "<class 'int'>\n",
      "45\n",
      "<class 'int'>\n"
     ]
    },
    {
     "name": "stdout",
     "output_type": "stream",
     "text": [
      "45\n",
      "<class 'int'>\n"
     ]
    }
   ],
   "source": [
    "a = int(input(\"enter values = \")) # Taking input from user\n",
    "print(a)\n",
    "print(type(a))"
   ]
  },
  {
   "cell_type": "code",
   "execution_count": 83,
   "id": "eebc0744-5a4f-434a-a065-ec56083262d5",
   "metadata": {},
   "outputs": [
    {
     "name": "stdout",
     "output_type": "stream",
     "text": [
      "enter values =  45\n",
      "45.0\n",
      "<class 'float'>\n",
      "45.0\n",
      "<class 'float'>\n"
     ]
    },
    {
     "name": "stdout",
     "output_type": "stream",
     "text": [
      "45.0\n",
      "<class 'float'>\n"
     ]
    }
   ],
   "source": [
    "a = float(input(\"enter values = \")) # Taking input from user\n",
    "print(a)\n",
    "print(type(a))"
   ]
  },
  {
   "cell_type": "code",
   "execution_count": 84,
   "id": "d5c71c8a-806f-4e44-8c82-4efac398e051",
   "metadata": {},
   "outputs": [
    {
     "name": "stdout",
     "output_type": "stream",
     "text": [
      "enter values =  45\n",
      "(45+0j)\n",
      "<class 'complex'>\n",
      "(45+0j)\n",
      "<class 'complex'>\n"
     ]
    },
    {
     "name": "stdout",
     "output_type": "stream",
     "text": [
      "(45+0j)\n",
      "<class 'complex'>\n"
     ]
    }
   ],
   "source": [
    "a = complex(input(\"enter values = \")) # Taking input from user\n",
    "print(a)\n",
    "print(type(a))"
   ]
  },
  {
   "cell_type": "code",
   "execution_count": 85,
   "id": "2d926477-0319-4d69-b1e6-45ac0960d978",
   "metadata": {},
   "outputs": [
    {
     "name": "stdout",
     "output_type": "stream",
     "text": [
      "enter values =  45\n",
      "45\n",
      "<class 'str'>\n",
      "45\n",
      "<class 'str'>\n"
     ]
    },
    {
     "name": "stdout",
     "output_type": "stream",
     "text": [
      "45\n",
      "<class 'str'>\n"
     ]
    }
   ],
   "source": [
    "a = str(input(\"enter values = \")) # Taking input from user\n",
    "print(a)\n",
    "print(type(a))"
   ]
  },
  {
   "cell_type": "code",
   "execution_count": 89,
   "id": "9265e350-c43d-48c6-80f6-468117b38b87",
   "metadata": {},
   "outputs": [
    {
     "name": "stdout",
     "output_type": "stream",
     "text": [
      "enter values =  \"himanshu\"\n",
      "himanshu\n",
      "<class 'str'>\n",
      "himanshu\n",
      "<class 'str'>\n"
     ]
    },
    {
     "name": "stdout",
     "output_type": "stream",
     "text": [
      "himanshu\n",
      "<class 'str'>\n"
     ]
    }
   ],
   "source": [
    "a = eval(input(\"enter values = \")) # Taking input from user\n",
    "print(a)\n",
    "print(type(a))"
   ]
  },
  {
   "cell_type": "code",
   "execution_count": 90,
   "id": "c5ccf55e-578d-4661-bab8-b3a69905e07b",
   "metadata": {},
   "outputs": [
    {
     "name": "stdout",
     "output_type": "stream",
     "text": [
      "enter values =  2\n",
      "enter values =  3\n",
      "23\n",
      "23\n"
     ]
    },
    {
     "name": "stdout",
     "output_type": "stream",
     "text": [
      "23\n"
     ]
    }
   ],
   "source": [
    "a = input(\"enter values = \") # Taking input from user\n",
    "b = input(\"enter values = \")\n",
    "c = a + b\n",
    "print(c)"
   ]
  },
  {
   "cell_type": "code",
   "execution_count": 91,
   "id": "14db09c0-10df-40f3-9ce2-5e9d89c2b6f2",
   "metadata": {},
   "outputs": [
    {
     "name": "stdout",
     "output_type": "stream",
     "text": [
      "enter values =  virat\n",
      "enter values =  kohli\n",
      "virat kohli\n",
      "virat kohli\n"
     ]
    },
    {
     "name": "stdout",
     "output_type": "stream",
     "text": [
      "virat kohli\n"
     ]
    }
   ],
   "source": [
    "a = input(\"enter values = \") # Taking input from user\n",
    "b = input(\"enter values = \")\n",
    "c = a +\" \"+ b\n",
    "print(c)"
   ]
  },
  {
   "cell_type": "code",
   "execution_count": 92,
   "id": "69c43455-191e-4c6d-a356-fe2f3d5d7bbe",
   "metadata": {},
   "outputs": [
    {
     "name": "stdout",
     "output_type": "stream",
     "text": [
      "enter values =  2\n",
      "enter values =  3\n",
      "5\n",
      "5\n"
     ]
    },
    {
     "name": "stdout",
     "output_type": "stream",
     "text": [
      "5\n"
     ]
    }
   ],
   "source": [
    "a = int(input(\"enter values = \")) # Taking input from user\n",
    "b = int(input(\"enter values = \"))\n",
    "c = a + b\n",
    "print(c)"
   ]
  },
  {
   "cell_type": "markdown",
   "id": "2e7f9026-3a76-4477-b118-33edc1678e77",
   "metadata": {
    "jp-MarkdownHeadingCollapsed": true
   },
   "source": [
    "### Ouputting "
   ]
  },
  {
   "cell_type": "code",
   "execution_count": 93,
   "id": "52321cad-d956-49be-b3bf-353b5a8d272b",
   "metadata": {},
   "outputs": [],
   "source": [
    "name = \"Lavesh\"\n",
    "age = 24"
   ]
  },
  {
   "cell_type": "code",
   "execution_count": 94,
   "id": "4b7425a7-111d-49db-be73-45bf894928a1",
   "metadata": {},
   "outputs": [
    {
     "name": "stdout",
     "output_type": "stream",
     "text": [
      "hi Lavesh your age is 24\n"
     ]
    }
   ],
   "source": [
    "print(\"hi\",name,\"your age is\",age)"
   ]
  },
  {
   "cell_type": "code",
   "execution_count": 118,
   "id": "6359e6b0-fa29-42b0-8bc2-c1777d637bb6",
   "metadata": {},
   "outputs": [
    {
     "name": "stdout",
     "output_type": "stream",
     "text": [
      "hi your name is\n",
      " Lavesh\n"
     ]
    }
   ],
   "source": [
    "print(\"hi your name is\\n\",name)"
   ]
  },
  {
   "cell_type": "code",
   "execution_count": 95,
   "id": "fadbc5ed-5aff-4561-8306-cafdb9ab71fd",
   "metadata": {},
   "outputs": [
    {
     "name": "stdout",
     "output_type": "stream",
     "text": [
      "Hi Lavesh your age is 24\n"
     ]
    }
   ],
   "source": [
    "## string formatting\n",
    "print(\"Hi {} your age is {}\".format(name,age))"
   ]
  },
  {
   "cell_type": "code",
   "execution_count": 96,
   "id": "99e7c81f-9622-4ca9-808f-45cbe1a9e4f4",
   "metadata": {},
   "outputs": [
    {
     "name": "stdout",
     "output_type": "stream",
     "text": [
      "Hi 24 your age is Lavesh\n"
     ]
    }
   ],
   "source": [
    "# print(\"Hi {} your age is {}\".format(age,name))\n",
    "print(\"Hi {} your age is {}\".format(age,name))"
   ]
  },
  {
   "cell_type": "code",
   "execution_count": 97,
   "id": "838c2222-609d-4aad-b46d-3df804a0d61a",
   "metadata": {},
   "outputs": [
    {
     "name": "stdout",
     "output_type": "stream",
     "text": [
      "Hi Lavesh your age is 24\n"
     ]
    }
   ],
   "source": [
    "# print(\"Hi {} your age is {}\".format(age,name))\n",
    "print(\"Hi {1} your age is {0}\".format(age,name))"
   ]
  },
  {
   "cell_type": "code",
   "execution_count": 98,
   "id": "2f2658bb-4d3a-4d8c-b0b6-1779e30e9573",
   "metadata": {},
   "outputs": [
    {
     "name": "stdout",
     "output_type": "stream",
     "text": [
      "Hi virat your age is 30\n"
     ]
    }
   ],
   "source": [
    "print(\"Hi {name} your age is {age}\".format(name=\"virat\",age=30))"
   ]
  },
  {
   "cell_type": "code",
   "execution_count": 99,
   "id": "3f35e864-c4eb-4005-a3de-f696d2eb7b9e",
   "metadata": {},
   "outputs": [
    {
     "name": "stdout",
     "output_type": "stream",
     "text": [
      "Hi Lavesh your age is 24\n"
     ]
    }
   ],
   "source": [
    "print(f\"Hi {name} your age is {age}\")"
   ]
  },
  {
   "cell_type": "markdown",
   "id": "23b2c58a-0fd7-4d6f-8327-fa95cc00aba6",
   "metadata": {
    "jp-MarkdownHeadingCollapsed": true
   },
   "source": [
    "## Control Flow statements\n",
    "\n",
    "control are the fundamental programming constructor that provides us to control the flow of programm based on certain we specify\n",
    "\n",
    "\n",
    "1) conditional statement\n",
    "   simple if , if else , if else ladder or if elif else , nested\n",
    "2) looping statements "
   ]
  },
  {
   "cell_type": "markdown",
   "id": "f2e37dfc-6806-46f2-a106-5d63e6fb578f",
   "metadata": {
    "jp-MarkdownHeadingCollapsed": true
   },
   "source": [
    "#### Conditional statements"
   ]
  },
  {
   "cell_type": "markdown",
   "id": "feb65278-8778-46ff-801e-6834047654a8",
   "metadata": {},
   "source": [
    "##### Simple if"
   ]
  },
  {
   "cell_type": "code",
   "execution_count": 101,
   "id": "6d52635b-8245-4258-8b3b-2acd7863a1f2",
   "metadata": {},
   "outputs": [
    {
     "name": "stdout",
     "output_type": "stream",
     "text": [
      "a is less than b\n"
     ]
    }
   ],
   "source": [
    "# simple if\n",
    "\n",
    "a = 10\n",
    "b = 20\n",
    "if a<b: # if the condition true it will print the message\n",
    "    print(\"a is less than b\")"
   ]
  },
  {
   "cell_type": "markdown",
   "id": "6cbac143-db4f-464e-beff-43bb398756ac",
   "metadata": {},
   "source": [
    "##### if else"
   ]
  },
  {
   "cell_type": "code",
   "execution_count": 102,
   "id": "95b465e4-9ed3-43eb-ba62-659170a7b6b5",
   "metadata": {},
   "outputs": [
    {
     "name": "stdout",
     "output_type": "stream",
     "text": [
      "b is greater than a\n"
     ]
    }
   ],
   "source": [
    "a = 10\n",
    "b = 20\n",
    "if a>b: # if the condition true it will print the message\n",
    "    print(\"a is greater than b\")\n",
    "else:\n",
    "    print(\"b is greater than a\")\n",
    "\n",
    "# if the condition true then if block will get executed , otherwise else block will get executed"
   ]
  },
  {
   "cell_type": "code",
   "execution_count": 105,
   "id": "bd607160-346f-4851-b0cf-1c9e34e7538c",
   "metadata": {},
   "outputs": [
    {
     "name": "stdout",
     "output_type": "stream",
     "text": [
      "enter salary 1000\n",
      "enter experience in years 6\n",
      "your total bonus is 20.0\n",
      "your total bonus is 20.0\n"
     ]
    },
    {
     "name": "stdout",
     "output_type": "stream",
     "text": [
      "your total bonus is 20.0\n"
     ]
    }
   ],
   "source": [
    "# # Q)  based on experience give bonus to the employee \n",
    "# take salary and experience from user \n",
    "# condtion--> exp>=5 , 2%\n",
    "\n",
    "sal = int(input(\"enter salary\"))\n",
    "exp = int(input(\"enter experience in years\"))\n",
    "\n",
    "if exp >= 5:\n",
    "    p = sal * 0.02\n",
    "    print(f\"your total bonus is {p}\")\n",
    "    \n",
    "else:\n",
    "    print(\"you are not eligible for bonus amount\")"
   ]
  },
  {
   "cell_type": "code",
   "execution_count": 106,
   "id": "1dd038dc-c7a4-415b-8995-a61be6c12bd7",
   "metadata": {},
   "outputs": [
    {
     "name": "stdout",
     "output_type": "stream",
     "text": [
      "enter salary 1000\n",
      "enter experience in years 6\n",
      "your total bonus is 20.0\n",
      "your total salary with bonus is 1020.0\n",
      "your total bonus is 20.0\n",
      "your total salary with bonus is 1020.0\n"
     ]
    },
    {
     "name": "stdout",
     "output_type": "stream",
     "text": [
      "your total bonus is 20.0\n",
      "your total salary with bonus is 1020.0\n"
     ]
    }
   ],
   "source": [
    "# # Q)  based on experience give bonus to the employee \n",
    "# take salary and experience from user \n",
    "# condtion--> exp>=5 , 2%\n",
    "\n",
    "sal = int(input(\"enter salary\"))\n",
    "exp = int(input(\"enter experience in years\"))\n",
    "sum = 0\n",
    "if exp >= 5:\n",
    "    p = sal * 0.02\n",
    "    print(f\"your total bonus is {p}\")\n",
    "    sum = sum + sal + p\n",
    "    print(\"your total salary with bonus is\",sum)\n",
    "else:\n",
    "    print(\"you are not eligible for bonus amount\")"
   ]
  },
  {
   "cell_type": "code",
   "execution_count": null,
   "id": "6e520f9b-f43e-459a-9811-d09aebbf8e4e",
   "metadata": {},
   "outputs": [],
   "source": [
    "sal = int(input(\"enter salary\"))\n",
    "exp = int(input(\"enter experience in years\"))\n",
    "\n",
    "if exp >= 5:\n",
    "    p = sal * 0.02\n",
    "    print(f\"your total bonus is {p}\")\n",
    "else:\n",
    "    print(\"you are not eligible for bonus amount\")"
   ]
  },
  {
   "cell_type": "code",
   "execution_count": 108,
   "id": "58a84c9f-a8d1-4764-8548-8eeb056b0090",
   "metadata": {},
   "outputs": [
    {
     "name": "stdout",
     "output_type": "stream",
     "text": [
      "enter length 45\n",
      "enter breadth 42\n",
      "it is a rectangle\n",
      "it is a rectangle\n"
     ]
    },
    {
     "name": "stdout",
     "output_type": "stream",
     "text": [
      "it is a rectangle\n"
     ]
    }
   ],
   "source": [
    "# take the length and breadth from user and based on L and B print it is rectangle or square\n",
    "\n",
    "L = int(input(\"enter length\"))\n",
    "B = int(input(\"enter breadth\"))\n",
    "\n",
    "if L==B :\n",
    "    print(\"it is a square\")\n",
    "else:\n",
    "    print(\"it is a rectangle\")"
   ]
  },
  {
   "cell_type": "markdown",
   "id": "aefdb240-644a-45d4-857a-a0512b67d4c6",
   "metadata": {},
   "source": [
    "##### If else ladder or if elif else\n",
    "\n",
    "if we are having more than one condition then we use if else ladder"
   ]
  },
  {
   "cell_type": "code",
   "execution_count": 109,
   "id": "317ee009-c55c-4a2c-bd1b-3763542960bf",
   "metadata": {},
   "outputs": [
    {
     "name": "stdout",
     "output_type": "stream",
     "text": [
      " 2\n",
      " 4\n",
      "num2 is greater than num1\n",
      "num2 is greater than num1\n"
     ]
    },
    {
     "name": "stdout",
     "output_type": "stream",
     "text": [
      "num2 is greater than num1\n"
     ]
    }
   ],
   "source": [
    "num1 = int(input())\n",
    "num2 = int(input())\n",
    "\n",
    "if num1>num2:\n",
    "    print(\"num1 is greater than num2\")\n",
    "elif num2>num1:\n",
    "    print(\"num2 is greater than num1\")\n",
    "else:\n",
    "    print(\"both are equal\")"
   ]
  },
  {
   "cell_type": "code",
   "execution_count": 110,
   "id": "afcb0b3b-679a-4921-943a-ed2d25928c4b",
   "metadata": {},
   "outputs": [
    {
     "name": "stdout",
     "output_type": "stream",
     "text": [
      "enter floor number 3\n",
      "3rd floor\n",
      "3rd floor\n"
     ]
    },
    {
     "name": "stdout",
     "output_type": "stream",
     "text": [
      "3rd floor\n"
     ]
    }
   ],
   "source": [
    "# Lift --> (0:Ground floor , 1:1st floor , 2:2nd floor , 3:3rd floor)  \n",
    "\n",
    "f = int(input(\"enter floor number\"))\n",
    "\n",
    "if f==0:\n",
    "    print(\"ground floor\")\n",
    "elif f==1:\n",
    "    print(\"1st floor\")\n",
    "elif f==2:\n",
    "    print(\"2nd floor\")\n",
    "elif f==3:\n",
    "    print(\"3rd floor\")\n",
    "else:\n",
    "    print(\"enter correct floor number\")"
   ]
  },
  {
   "cell_type": "markdown",
   "id": "476019a8-4d90-4e65-b7e2-251413ec03f7",
   "metadata": {},
   "source": [
    "##### nested if"
   ]
  },
  {
   "cell_type": "code",
   "execution_count": 113,
   "id": "1686aa27-8c29-47f0-ad68-de570eab9202",
   "metadata": {},
   "outputs": [
    {
     "name": "stdout",
     "output_type": "stream",
     "text": [
      "enter username hsadkjfhadl\n",
      "username is incorrect\n",
      "username is incorrect\n"
     ]
    },
    {
     "name": "stdout",
     "output_type": "stream",
     "text": [
      "username is incorrect\n"
     ]
    }
   ],
   "source": [
    "# taker username and password from user and show the flow of program accordingly\n",
    "\n",
    "username = input(\"enter username\")\n",
    "if username == \"debug\":\n",
    "    password = input(\"enter password\")\n",
    "    if password == \"shala\":\n",
    "        print(\"login successfull\")\n",
    "    else:\n",
    "        print(\"incorrect password\")\n",
    "else:\n",
    "    print(\"username is incorrect\")"
   ]
  },
  {
   "cell_type": "code",
   "execution_count": 114,
   "id": "8e579a02-79c9-4b62-933c-639f51ed163d",
   "metadata": {},
   "outputs": [
    {
     "name": "stdout",
     "output_type": "stream",
     "text": [
      "enter username debug\n",
      "debug\n",
      "enter password shala\n",
      "shala\n",
      "login successfull\n",
      "debug\n",
      "enter password shala\n",
      "shala\n",
      "login successfull\n"
     ]
    },
    {
     "name": "stdout",
     "output_type": "stream",
     "text": [
      "debug\n"
     ]
    },
    {
     "name": "stdout",
     "output_type": "stream",
     "text": [
      "enter password shala\n"
     ]
    },
    {
     "name": "stdout",
     "output_type": "stream",
     "text": [
      "shala\n",
      "login successfull\n"
     ]
    }
   ],
   "source": [
    "\n",
    "username = input(\"enter username\")\n",
    "print(username)\n",
    "if username == \"debug\":\n",
    "    password = input(\"enter password\")\n",
    "    print(password)\n",
    "    if password == \"shala\":\n",
    "        print(\"login successfull\")\n",
    "    else:\n",
    "        print(\"incorrect password\")\n",
    "else:\n",
    "    print(\"username is incorrect\")"
   ]
  },
  {
   "cell_type": "code",
   "execution_count": null,
   "id": "82a9435d-1dfc-4e13-a480-5abdd6f1cb44",
   "metadata": {},
   "outputs": [],
   "source": [
    "\n",
    "username = input(\"enter username\")\n",
    "if username == \"debug\":\n",
    "    password = input(\"enter password\")\n",
    "    if password == \"shala\":\n",
    "        print(\"login successfull\")\n",
    "    else:\n",
    "        print(\"incorrect password\")\n",
    "else:\n",
    "    print(\"username is incorrect\")"
   ]
  },
  {
   "cell_type": "markdown",
   "id": "c73c73f8-25f5-422a-86bf-4eb49110f994",
   "metadata": {
    "jp-MarkdownHeadingCollapsed": true
   },
   "source": [
    "### looping statements\n",
    "\n",
    "looping statements are the control flow statements which keeps on executing a single statements or block of statements multiple time\n",
    "till the conition true , if the condition becomes false the execution is terminated\n",
    "\n",
    "1) while loop --> when we dont know how many number of times the iteration is going to be done\n",
    "2) for loop --> when we know how many times iteration is going to be done , in that case we use for loop"
   ]
  },
  {
   "cell_type": "code",
   "execution_count": 1,
   "id": "be7ab431-d9de-4da3-b9a4-98d470c4d084",
   "metadata": {},
   "outputs": [],
   "source": [
    "# # while loop\n",
    "\n",
    "# 1 intitialization ---> it is the counter variable taking loop will start iterating\n",
    "# 2 condtion \n",
    "# 3 increment / decrement"
   ]
  },
  {
   "cell_type": "code",
   "execution_count": 115,
   "id": "fbe80fa1-ddc0-4fa1-8ea2-712f656f61c3",
   "metadata": {},
   "outputs": [
    {
     "name": "stdout",
     "output_type": "stream",
     "text": [
      "1\n",
      "2\n",
      "3\n",
      "4\n",
      "5\n",
      "6\n",
      "7\n",
      "8\n",
      "9\n",
      "10\n"
     ]
    }
   ],
   "source": [
    "# Q write a program to print from 1 to 10\n",
    "i = 1\n",
    "while i<= 10:\n",
    "    print(i)\n",
    "    i = i + 1"
   ]
  },
  {
   "cell_type": "code",
   "execution_count": 2,
   "id": "ef68d7e5-9fba-44ea-97d7-6e6b4b32df4a",
   "metadata": {
    "scrolled": true
   },
   "outputs": [
    {
     "name": "stdout",
     "output_type": "stream",
     "text": [
      "1 2 3 4 5 6 7 8 9 10 "
     ]
    }
   ],
   "source": [
    "# Q write a program to print from 1 to 10\n",
    "i = 1\n",
    "while i<= 10:\n",
    "    print(i, end=\" \")\n",
    "    i = i + 1"
   ]
  },
  {
   "cell_type": "code",
   "execution_count": 3,
   "id": "70755e82-c04b-4ba0-85f9-d2e01c02c7ec",
   "metadata": {},
   "outputs": [
    {
     "name": "stdout",
     "output_type": "stream",
     "text": [
      "1 2 3 4 5 6 7 8 9 10 "
     ]
    }
   ],
   "source": [
    "i = 1\n",
    "while i<= 10:\n",
    "    print(i, end=\" \")\n",
    "    i += 1"
   ]
  },
  {
   "cell_type": "code",
   "execution_count": 4,
   "id": "a73ec1a0-5bbc-4a82-9339-72b0fc6759ec",
   "metadata": {},
   "outputs": [
    {
     "name": "stdout",
     "output_type": "stream",
     "text": [
      "10 9 8 7 6 5 4 3 2 1 "
     ]
    }
   ],
   "source": [
    "# Q write a program to print from 10 to 1\n",
    "i = 10\n",
    "while i>= 1:\n",
    "    print(i, end=\" \")\n",
    "    i -= 1"
   ]
  },
  {
   "cell_type": "code",
   "execution_count": 119,
   "id": "9ae515a3-2c73-417a-8c29-11beac84f12b",
   "metadata": {},
   "outputs": [
    {
     "name": "stdout",
     "output_type": "stream",
     "text": [
      "enter number 5\n",
      "1\n",
      "3\n",
      "6\n",
      "10\n",
      "15\n",
      "1\n",
      "3\n",
      "6\n",
      "10\n",
      "15\n"
     ]
    },
    {
     "name": "stdout",
     "output_type": "stream",
     "text": [
      "1\n",
      "3\n",
      "6\n",
      "10\n",
      "15\n"
     ]
    }
   ],
   "source": [
    "# Q write a program to find sum from 1 to n\n",
    "n = int(input(\"enter number\"))\n",
    "i = 1\n",
    "sum = 0\n",
    "while i <= n:\n",
    "    sum = sum + i\n",
    "    i += 1\n",
    "    print(sum)"
   ]
  },
  {
   "cell_type": "code",
   "execution_count": 8,
   "id": "530c5783-0e11-44ee-8271-d7fb52539018",
   "metadata": {},
   "outputs": [
    {
     "name": "stdout",
     "output_type": "stream",
     "text": [
      "enter number 5\n",
      "15\n",
      "15\n"
     ]
    },
    {
     "name": "stdout",
     "output_type": "stream",
     "text": [
      "15\n"
     ]
    }
   ],
   "source": [
    "n = int(input(\"enter number\"))\n",
    "i = 1\n",
    "sum = 0\n",
    "while i <= n:\n",
    "    sum = sum + i\n",
    "    i += 1\n",
    "print(sum)"
   ]
  },
  {
   "cell_type": "code",
   "execution_count": 121,
   "id": "cf9f641a-f912-4b61-a541-9ae35654ea85",
   "metadata": {},
   "outputs": [
    {
     "name": "stdout",
     "output_type": "stream",
     "text": [
      "enter number 5\n",
      "55\n",
      "55\n"
     ]
    },
    {
     "name": "stdout",
     "output_type": "stream",
     "text": [
      "55\n"
     ]
    }
   ],
   "source": [
    "# Q write a programm to print sum of square from 1 to n\n",
    "n = int(input(\"enter number\"))\n",
    "i = 1\n",
    "sum = 0\n",
    "while i <= n:\n",
    "    sum = sum + i**2\n",
    "    i += 1\n",
    "print(sum)"
   ]
  },
  {
   "cell_type": "code",
   "execution_count": 18,
   "id": "d2642cdb-c3e7-4e2d-baa9-027c9144300b",
   "metadata": {},
   "outputs": [
    {
     "name": "stdout",
     "output_type": "stream",
     "text": [
      "enter number 10\n",
      "2 4 6 8 10 2 4 6 8 10 "
     ]
    },
    {
     "name": "stdout",
     "output_type": "stream",
     "text": [
      "2 4 6 8 10 "
     ]
    }
   ],
   "source": [
    "# Q write a programm to print only even number from 1 to n\n",
    "n = int(input(\"enter number\"))\n",
    "i = 1\n",
    "while i<=n:\n",
    "    if i % 2 == 0:\n",
    "        print(i, end=\" \")\n",
    "    i += 1"
   ]
  },
  {
   "cell_type": "code",
   "execution_count": 20,
   "id": "03bb705f-763d-41eb-98d7-e1d0de527c8e",
   "metadata": {},
   "outputs": [
    {
     "name": "stdout",
     "output_type": "stream",
     "text": [
      "enter number 10\n",
      "2 4 6 8 10 2 4 6 8 10 "
     ]
    },
    {
     "name": "stdout",
     "output_type": "stream",
     "text": [
      "2 4 6 8 10 "
     ]
    }
   ],
   "source": [
    "# WAP to print only even numbers without using if and modulus condition\n",
    "n = int(input(\"enter number\"))\n",
    "i = 2\n",
    "while i<= n:\n",
    "    print(i, end=\" \")\n",
    "    i += 2"
   ]
  },
  {
   "cell_type": "code",
   "execution_count": 125,
   "id": "bf104ecb-e2b6-4e0c-9360-5fc9938a1d25",
   "metadata": {},
   "outputs": [
    {
     "name": "stdout",
     "output_type": "stream",
     "text": [
      "enter number 10\n",
      "2\n",
      "6\n",
      "12\n",
      "20\n",
      "30\n",
      "2\n",
      "6\n",
      "12\n",
      "20\n",
      "30\n"
     ]
    },
    {
     "name": "stdout",
     "output_type": "stream",
     "text": [
      "2\n",
      "6\n",
      "12\n",
      "20\n",
      "30\n"
     ]
    }
   ],
   "source": [
    "# Q wrte a programm to print sum of only even number between 1 to n \n",
    "n = int(input(\"enter number\"))\n",
    "i = 1\n",
    "sum = 0\n",
    "while i <= n:\n",
    "    if i % 2 == 0:\n",
    "        sum = sum + i\n",
    "        print(sum)\n",
    "    i += 1"
   ]
  },
  {
   "cell_type": "code",
   "execution_count": 126,
   "id": "84571308-aca3-46e4-8e6c-80450a6d047e",
   "metadata": {},
   "outputs": [
    {
     "name": "stdout",
     "output_type": "stream",
     "text": [
      "enter number 10\n",
      "sum of even numbers between 1 to n is : 30\n",
      "sum of even numbers between 1 to n is : 30\n"
     ]
    },
    {
     "name": "stdout",
     "output_type": "stream",
     "text": [
      "sum of even numbers between 1 to n is : 30\n"
     ]
    }
   ],
   "source": [
    "# Q wrte a programm to print sum of only even number between 1 to n \n",
    "n = int(input(\"enter number\"))\n",
    "i = 1\n",
    "sum = 0\n",
    "while i <= n:\n",
    "    if i % 2 == 0:\n",
    "        sum = sum + i\n",
    "    i += 1\n",
    "print(f\"sum of even numbers between 1 to n is : {sum}\")"
   ]
  },
  {
   "cell_type": "code",
   "execution_count": 130,
   "id": "5a4573c2-89da-48bc-b30c-c207b82777f0",
   "metadata": {},
   "outputs": [
    {
     "name": "stdout",
     "output_type": "stream",
     "text": [
      "enter number more than 1 digits 123\n",
      "3\n",
      "5\n",
      "6\n",
      "3\n",
      "5\n",
      "6\n"
     ]
    },
    {
     "name": "stdout",
     "output_type": "stream",
     "text": [
      "3\n",
      "5\n",
      "6\n"
     ]
    }
   ],
   "source": [
    "# Q write a program to find sum  of digits of a given number\n",
    "# its a dynamic programm for any number\n",
    "n = int(input(\"enter number more than 1 digits\"))\n",
    "sum = 0\n",
    "while n > 0:\n",
    "    sum = sum + n%10\n",
    "    n //= 10\n",
    "    print(sum)"
   ]
  },
  {
   "cell_type": "code",
   "execution_count": 34,
   "id": "84653e11-845d-4620-900e-c38dd3f53e5c",
   "metadata": {},
   "outputs": [
    {
     "name": "stdout",
     "output_type": "stream",
     "text": [
      "enter number more than 1 digit :  1234\n",
      "10\n",
      "10\n"
     ]
    },
    {
     "name": "stdout",
     "output_type": "stream",
     "text": [
      "10\n"
     ]
    }
   ],
   "source": [
    "# Q write a program to find sum  of digits of a given number\n",
    "# its a dynamic programm for any number\n",
    "n = int(input(\"enter number more than 1 digit : \"))\n",
    "sum = 0\n",
    "while n > 0:\n",
    "    sum = sum + n%10\n",
    "    n //= 10\n",
    "print(sum)"
   ]
  },
  {
   "cell_type": "code",
   "execution_count": 132,
   "id": "fd5402db-591c-45b2-807b-a3e6ff12a689",
   "metadata": {},
   "outputs": [
    {
     "name": "stdout",
     "output_type": "stream",
     "text": [
      "enter number more than 1 digit :  123\n",
      "9\n",
      "13\n",
      "14\n",
      "9\n",
      "13\n",
      "14\n"
     ]
    },
    {
     "name": "stdout",
     "output_type": "stream",
     "text": [
      "9\n",
      "13\n",
      "14\n"
     ]
    }
   ],
   "source": [
    "# Q write a program to find sum  of square digits of a given number\n",
    "# its a dynamic programm for any number\n",
    "n = int(input(\"enter number more than 1 digit : \"))\n",
    "sum = 0\n",
    "while n > 0:\n",
    "    sum = sum + (n%10)**2\n",
    "    n //= 10\n",
    "    print(sum)"
   ]
  },
  {
   "cell_type": "markdown",
   "id": "17fc7802-007c-420e-be16-c3845bfcb394",
   "metadata": {
    "jp-MarkdownHeadingCollapsed": true
   },
   "source": [
    "### Nested While Loops"
   ]
  },
  {
   "cell_type": "code",
   "execution_count": 1,
   "id": "6d68cf6f-8f65-4fcf-8a1b-5165a39b4b54",
   "metadata": {},
   "outputs": [
    {
     "name": "stdin",
     "output_type": "stream",
     "text": [
      "enter number of rows 5\n"
     ]
    },
    {
     "name": "stdout",
     "output_type": "stream",
     "text": [
      "* \n",
      "* * \n",
      "* * * \n",
      "* * * * \n",
      "* * * * * \n"
     ]
    }
   ],
   "source": [
    "rows = int(input(\"enter number of rows\"))\n",
    "i = 1\n",
    "while i <= rows: \n",
    "    j = 1\n",
    "    while j<= i: \n",
    "        print(\"*\",end=\" \")\n",
    "        j += 1\n",
    "    print() # print funtion is used to put the cursor on next line\n",
    "    i +=1"
   ]
  },
  {
   "cell_type": "code",
   "execution_count": 2,
   "id": "76b16cbc-aa55-4740-80d7-c353ffe8adf7",
   "metadata": {},
   "outputs": [
    {
     "name": "stdin",
     "output_type": "stream",
     "text": [
      "enter number of rows 5\n"
     ]
    },
    {
     "name": "stdout",
     "output_type": "stream",
     "text": [
      "* * * * * \n",
      "* * * * \n",
      "* * * \n",
      "* * \n",
      "* \n"
     ]
    }
   ],
   "source": [
    "rows = int(input(\"enter number of rows\"))\n",
    "i = rows\n",
    "while i >= 1: # 3 >= 1\n",
    "    j = 1\n",
    "    while j <= i : # 1 <= 3\n",
    "        print(\"*\",end=\" \")\n",
    "        j += 1\n",
    "    print()\n",
    "    i -= 1"
   ]
  },
  {
   "cell_type": "code",
   "execution_count": 3,
   "id": "f85316a7-0624-407d-8a26-5c942135f837",
   "metadata": {},
   "outputs": [
    {
     "name": "stdin",
     "output_type": "stream",
     "text": [
      "enter number of rows 5\n"
     ]
    },
    {
     "name": "stdout",
     "output_type": "stream",
     "text": [
      "        * \n",
      "      * * * \n",
      "    * * * * * \n",
      "  * * * * * * * \n",
      "* * * * * * * * * \n"
     ]
    }
   ],
   "source": [
    "rows = int(input(\"enter number of rows\"))\n",
    "i = 1\n",
    "k = 1\n",
    "while i <= rows: \n",
    "    # printing spaces\n",
    "    s = 1\n",
    "    while s <= rows - i: \n",
    "        print(\" \", end = \" \")\n",
    "        s += 1\n",
    "\n",
    "    # printing star\n",
    "    j = 1\n",
    "    while j <= k: \n",
    "        print(\"*\", end = \" \")\n",
    "        j += 1\n",
    "\n",
    "    print()\n",
    "    k += 2\n",
    "    i += 1"
   ]
  },
  {
   "cell_type": "code",
   "execution_count": 4,
   "id": "c92fb42a-cf84-46e8-ae90-06762a82b456",
   "metadata": {},
   "outputs": [
    {
     "name": "stdin",
     "output_type": "stream",
     "text": [
      "enter number more than 1 digits 5\n"
     ]
    },
    {
     "name": "stdout",
     "output_type": "stream",
     "text": [
      "* * * * * * * * * \n",
      "  * * * * * * * \n",
      "    * * * * * \n",
      "      * * * \n",
      "        * \n",
      "          "
     ]
    }
   ],
   "source": [
    "n = int(input(\"enter number more than 1 digits\"))\n",
    "i = 1\n",
    "k = (2*n)-1\n",
    "while n >= 1:\n",
    "    j = 1\n",
    "    while j <= k:\n",
    "        print(\"*\",end = \" \")\n",
    "        j += 1\n",
    "    print()\n",
    "    s = 1\n",
    "    while s<=i:\n",
    "        print(\" \",end=\" \")\n",
    "        s += 1\n",
    "    n = n - 1\n",
    "    k -= 2\n",
    "    i += 1"
   ]
  },
  {
   "cell_type": "markdown",
   "id": "d1243b3e-582c-496a-b1a8-e8bab8ccf01d",
   "metadata": {
    "jp-MarkdownHeadingCollapsed": true
   },
   "source": [
    "### For Loops\n",
    "\n",
    "syntanx\n",
    "for varriable_name in range_function:"
   ]
  },
  {
   "cell_type": "code",
   "execution_count": 15,
   "id": "62f004a7-ca0e-4d03-900f-3e8ed6880a67",
   "metadata": {},
   "outputs": [
    {
     "name": "stdout",
     "output_type": "stream",
     "text": [
      "0 1 2 3 4 5 6 7 8 9 "
     ]
    }
   ],
   "source": [
    "# Q 1: Print the first 10 natural numbers using for loop.\n",
    "\n",
    "for i in range(10): # starts from zero bydefalt and goes toll -1\n",
    "    print(i, end= \" \")"
   ]
  },
  {
   "cell_type": "code",
   "execution_count": 27,
   "id": "130b09d8-1182-4ed4-995d-4633485ede00",
   "metadata": {},
   "outputs": [
    {
     "name": "stdout",
     "output_type": "stream",
     "text": [
      "1 2 3 4 5 6 7 8 9 10 "
     ]
    }
   ],
   "source": [
    "for i in range(1,11): # starts from zero bydefalt and goes (till number - 1)\n",
    "    print(i, end= \" \")"
   ]
  },
  {
   "cell_type": "code",
   "execution_count": 19,
   "id": "729a89b2-42bc-4542-9fd0-b72472080cbb",
   "metadata": {},
   "outputs": [
    {
     "name": "stdout",
     "output_type": "stream",
     "text": [
      "enter number  10\n",
      "1 2 3 4 5 6 7 8 9 10 1 2 3 4 5 6 7 8 9 10 "
     ]
    },
    {
     "name": "stdout",
     "output_type": "stream",
     "text": [
      "1 2 3 4 5 6 7 8 9 10 "
     ]
    }
   ],
   "source": [
    "n = int(input(\"enter number \"))\n",
    "for element in range(1,n+1):\n",
    "    print(element,end=\" \")"
   ]
  },
  {
   "cell_type": "code",
   "execution_count": 28,
   "id": "f6d4b9c7-f1b6-4fea-aae4-9ea62a909987",
   "metadata": {},
   "outputs": [
    {
     "name": "stdout",
     "output_type": "stream",
     "text": [
      "enter number  10\n",
      "1 3 5 7 9 1 3 5 7 9 "
     ]
    },
    {
     "name": "stdout",
     "output_type": "stream",
     "text": [
      "1 3 5 7 9 "
     ]
    }
   ],
   "source": [
    "n = int(input(\"enter number \"))\n",
    "for element in range(1,n+1,2): # range(starting_point,ending_point,step_size)\n",
    "    print(element,end=\" \")"
   ]
  },
  {
   "cell_type": "code",
   "execution_count": 22,
   "id": "93b4addc-d5c5-4313-9dfe-ab6ae64b5fe1",
   "metadata": {},
   "outputs": [
    {
     "name": "stdout",
     "output_type": "stream",
     "text": [
      "enter number  10\n",
      "10 9 8 7 6 5 4 3 2 1 10 9 8 7 6 5 4 3 2 1 "
     ]
    },
    {
     "name": "stdout",
     "output_type": "stream",
     "text": [
      "10 9 8 7 6 5 4 3 2 1 "
     ]
    }
   ],
   "source": [
    "n = int(input(\"enter number \"))\n",
    "for element in range(n,0,-1): # (starting_point,ending_point,step_size)\n",
    "    print(element,end=\" \")"
   ]
  },
  {
   "cell_type": "code",
   "execution_count": 23,
   "id": "df62346d-2101-4c45-a3ea-17e0c67ba51c",
   "metadata": {},
   "outputs": [
    {
     "name": "stdout",
     "output_type": "stream",
     "text": [
      "-5 -4 -3 -2 -1 "
     ]
    }
   ],
   "source": [
    "# Write a program to display numbers from -5 to -1.\n",
    "for i in range(-5,0):\n",
    "    print(i,end=\" \")"
   ]
  },
  {
   "cell_type": "code",
   "execution_count": 24,
   "id": "79c3f667-12d0-4383-855f-6de7a5dd491d",
   "metadata": {},
   "outputs": [
    {
     "name": "stdout",
     "output_type": "stream",
     "text": [
      "-5 -4 -3 -2 -1 0 1 "
     ]
    }
   ],
   "source": [
    "for i in range(-5,2):\n",
    "    print(i,end=\" \")"
   ]
  },
  {
   "cell_type": "code",
   "execution_count": 29,
   "id": "2b152073-fa1f-4e40-91a2-1e029e52ecbf",
   "metadata": {},
   "outputs": [
    {
     "name": "stdout",
     "output_type": "stream",
     "text": [
      "enter number  10\n",
      "1 4 9 16 25 36 49 64 81 100 1 4 9 16 25 36 49 64 81 100 "
     ]
    },
    {
     "name": "stdout",
     "output_type": "stream",
     "text": [
      "1 4 9 16 25 36 49 64 81 100 "
     ]
    }
   ],
   "source": [
    "# squares of all the natural numbers between 1 and 10.\n",
    "n = int(input(\"enter number \"))\n",
    "for element in range(1,n+1):\n",
    "    print(element**2,end=\" \")"
   ]
  },
  {
   "cell_type": "code",
   "execution_count": 1,
   "id": "9fadb4cc-a838-4c95-a69d-5b7b2705a9a8",
   "metadata": {},
   "outputs": [
    {
     "name": "stdout",
     "output_type": "stream",
     "text": [
      "2 4 6 8 10 "
     ]
    }
   ],
   "source": [
    "# Q 2 Write a program that prints all the even numbers between 1 and 10.\n",
    "for i in range(1,11):\n",
    "    if i % 2 == 0:\n",
    "        print(i,end=\" \")"
   ]
  },
  {
   "cell_type": "code",
   "execution_count": 5,
   "id": "b6c22fab-e92a-45be-a599-c5bf482f6d67",
   "metadata": {},
   "outputs": [
    {
     "name": "stdout",
     "output_type": "stream",
     "text": [
      "enter number 10\n",
      "25\n",
      "25\n"
     ]
    },
    {
     "name": "stdout",
     "output_type": "stream",
     "text": [
      "25\n"
     ]
    }
   ],
   "source": [
    "# Q.4: Python program to calculate the sum of all the odd numbers within  given range.\n",
    "n = int(input(\"enter number\"))\n",
    "sum = 0\n",
    "for i in range(1,n+1):\n",
    "    if i % 2 != 0:\n",
    "        sum = sum + i\n",
    "print(sum)"
   ]
  },
  {
   "cell_type": "code",
   "execution_count": 14,
   "id": "f4bf946f-4f75-480e-b8ab-8c1d3d768f94",
   "metadata": {},
   "outputs": [
    {
     "name": "stdout",
     "output_type": "stream",
     "text": [
      "enter number 3\n",
      "3 6 9 12 15 18 21 24 27 30 3 6 9 12 15 18 21 24 27 30 "
     ]
    },
    {
     "name": "stdout",
     "output_type": "stream",
     "text": [
      "3 6 9 12 15 18 21 24 27 30 "
     ]
    }
   ],
   "source": [
    "# Q.5 Write a program that takes a number as input and generates its multiplication table (up to 10 digits).\n",
    "n = int(input(\"enter number\"))\n",
    "for i in range(1,11):\n",
    "    print(i*n, end= \" \")"
   ]
  },
  {
   "cell_type": "code",
   "execution_count": 18,
   "id": "ac82685e-105b-423e-ad01-371dc10894dc",
   "metadata": {},
   "outputs": [
    {
     "name": "stdout",
     "output_type": "stream",
     "text": [
      "1 2 3 4 10 2 3 "
     ]
    }
   ],
   "source": [
    "# Q.6: Python program to display numbers from a list using a for loop.\n",
    "a = [1,2,3,4,10,2,3]\n",
    "for i in a:\n",
    "    print(i,end=\" \")"
   ]
  },
  {
   "cell_type": "code",
   "execution_count": 19,
   "id": "7bc36f17-029a-475a-8b60-38925c039ad7",
   "metadata": {},
   "outputs": [
    {
     "name": "stdout",
     "output_type": "stream",
     "text": [
      "1 2 3 4 10 2 3 "
     ]
    }
   ],
   "source": [
    "a = [1,2,3,4,10,2,3]\n",
    "for elements in a:\n",
    "    print(elements,end=\" \")"
   ]
  },
  {
   "cell_type": "code",
   "execution_count": 3,
   "id": "529005da-7001-4747-9c8e-723fe5235a55",
   "metadata": {},
   "outputs": [
    {
     "name": "stdout",
     "output_type": "stream",
     "text": [
      "enter number: 124\n",
      "3\n",
      "3\n"
     ]
    },
    {
     "name": "stdout",
     "output_type": "stream",
     "text": [
      "3\n"
     ]
    }
   ],
   "source": [
    "# Q.7: Python program to count the total number of digits in a number.\n",
    "n = int(input(\"enter number:\"))\n",
    "count = 0\n",
    "for i in str(n):\n",
    "    count += 1\n",
    "print(count)"
   ]
  },
  {
   "cell_type": "code",
   "execution_count": 4,
   "id": "3947cb61-99fb-4475-baf4-d18b04100cb9",
   "metadata": {},
   "outputs": [
    {
     "name": "stdout",
     "output_type": "stream",
     "text": [
      "enter number: 12345\n",
      "5\n",
      "0\n",
      "5\n",
      "0\n"
     ]
    },
    {
     "name": "stdout",
     "output_type": "stream",
     "text": [
      "5\n",
      "0\n"
     ]
    }
   ],
   "source": [
    "n = int(input(\"enter number:\"))\n",
    "count = 0\n",
    "for i in str(n):\n",
    "    if n>0:\n",
    "        count += 1\n",
    "    n //= 10 # reducing each value in every iterattion\n",
    "print(count)\n",
    "print(n) # here original varible is printing zero because we have reduced each numbers"
   ]
  },
  {
   "cell_type": "code",
   "execution_count": 19,
   "id": "10f98b12-7b28-46c4-8814-7db1dd6dea63",
   "metadata": {},
   "outputs": [
    {
     "name": "stdout",
     "output_type": "stream",
     "text": [
      "enter number: 1634\n",
      "1634 is armstrong number\n",
      "1634 is armstrong number\n"
     ]
    },
    {
     "name": "stdout",
     "output_type": "stream",
     "text": [
      "1634 is armstrong number\n"
     ]
    }
   ],
   "source": [
    "# Q.8: Python program to check if a given number is an Armstrong number ( 153, 370 , 371, 1634)\n",
    "n = int(input(\"enter number:\"))\n",
    "temp1 = n # 1634\n",
    "temp2 = n # 1634\n",
    "count = 0\n",
    "# counting the digits\n",
    "for i in str(temp1):\n",
    "    if temp1>0: # 0\n",
    "        count = count + 1 \n",
    "    temp1 //= 10\n",
    "# Finding sum of power of digits\n",
    "sum = 0\n",
    "for i in range(len(str(temp2))):\n",
    "    sum = sum + ((temp2 % 10)**count)\n",
    "    temp2 //= 10\n",
    "# comparing the sum and Original number taken by user\n",
    "if sum == n:\n",
    "    print(f\"{n} is armstrong number\")\n",
    "else:\n",
    "    print(f\"{n} is not armstrong number\")"
   ]
  },
  {
   "cell_type": "code",
   "execution_count": 3,
   "id": "02639c95-f362-4367-af27-04c837e857ef",
   "metadata": {},
   "outputs": [
    {
     "name": "stdout",
     "output_type": "stream",
     "text": [
      "even_count is 4\n",
      "odd_count is 5\n"
     ]
    }
   ],
   "source": [
    "# Q.9: Python program to count the number of even and odd numbers from a series of numbers.\n",
    "l = [2,3,4,5,6,1,7,8,9]\n",
    "even_count = 0\n",
    "odd_count = 0\n",
    "for i in l:\n",
    "    if i % 2 == 0:\n",
    "        even_count += 1\n",
    "    else:\n",
    "        odd_count += 1\n",
    "print(f\"even_count is {even_count}\")\n",
    "print(f\"odd_count is {odd_count}\")"
   ]
  },
  {
   "cell_type": "code",
   "execution_count": 5,
   "id": "5683b97b-4a2d-4b66-b2fb-7275d8ffa29c",
   "metadata": {},
   "outputs": [
    {
     "name": "stdout",
     "output_type": "stream",
     "text": [
      "enter number 6\n",
      "0 1 1 2 3 5 0 1 1 2 3 5 "
     ]
    },
    {
     "name": "stdout",
     "output_type": "stream",
     "text": [
      "0 1 1 2 3 5 "
     ]
    }
   ],
   "source": [
    "# Q.10 Write a program that prints the Fibonacci series of a number.\n",
    "n = int(input(\"enter number\"))\n",
    "n1,n2 = 0,1\n",
    "sum = 0 # 3\n",
    "for i in range(1,n+1):\n",
    "    print(sum,end=\" \")\n",
    "    n1 = n2 # 1 # 0 # 1 # 1\n",
    "    n2 = sum # 0 # 1 # 1 # 2\n",
    "    sum = n1 + n2 # 1 + 2"
   ]
  },
  {
   "cell_type": "code",
   "execution_count": 6,
   "id": "aeebb0c4-59da-4745-8bf1-e1ccd5731f81",
   "metadata": {},
   "outputs": [
    {
     "name": "stdout",
     "output_type": "stream",
     "text": [
      "enter number 5\n",
      "5 is prime number\n",
      "5 is prime number\n"
     ]
    },
    {
     "name": "stdout",
     "output_type": "stream",
     "text": [
      "5 is prime number\n"
     ]
    }
   ],
   "source": [
    "# Q.11 write prime number programm to check a number is prime or not\n",
    "n = int(input(\"enter number\"))\n",
    "count = 0\n",
    "for i in range(1,n+1):\n",
    "    if n % i == 0:\n",
    "        count += 1\n",
    "if count == 2:\n",
    "    print(f\"{n} is prime number\")\n",
    "else:\n",
    "    print(f\"{n} is not prime number\")"
   ]
  },
  {
   "cell_type": "code",
   "execution_count": 28,
   "id": "09bb691f-0cb7-4b41-ac90-68da41470d23",
   "metadata": {},
   "outputs": [
    {
     "name": "stdout",
     "output_type": "stream",
     "text": [
      "enter number 9\n",
      "9 is not a prime number\n",
      "9 is not a prime number\n"
     ]
    },
    {
     "name": "stdout",
     "output_type": "stream",
     "text": [
      "9 is not a prime number\n"
     ]
    }
   ],
   "source": [
    "n = int(input(\"enter number\"))\n",
    "if n>1:\n",
    "    for i in range(2,(n//2)+1):\n",
    "        if n % i == 0:\n",
    "            print(f\"{n} is not a prime number\")\n",
    "            break\n",
    "    else:\n",
    "        print(f\"{n} is prime number\")\n",
    "else:\n",
    "    print(f\"{n} is not prime number\")"
   ]
  },
  {
   "cell_type": "code",
   "execution_count": 7,
   "id": "7d81ee7b-30e1-4f1a-9b5a-2bff9fffd4d9",
   "metadata": {},
   "outputs": [
    {
     "name": "stdout",
     "output_type": "stream",
     "text": [
      "enter number 5\n",
      "120\n",
      "120\n"
     ]
    },
    {
     "name": "stdout",
     "output_type": "stream",
     "text": [
      "120\n"
     ]
    }
   ],
   "source": [
    "# Q.12 Write a program to calculate the factorial of any positive integer using loop\n",
    "n = int(input(\"enter number\"))\n",
    "fact = 1\n",
    "for i in range(1,n+1):\n",
    "    fact = fact * i\n",
    "print(fact)"
   ]
  },
  {
   "cell_type": "markdown",
   "id": "947978e7-a40d-4313-ac9f-0f902fda211d",
   "metadata": {
    "jp-MarkdownHeadingCollapsed": true
   },
   "source": [
    "### Keywords --> Break , Continue , Pass"
   ]
  },
  {
   "cell_type": "code",
   "execution_count": 9,
   "id": "7f6ac271-229b-437b-a216-7bfe29da8ab5",
   "metadata": {},
   "outputs": [
    {
     "name": "stdout",
     "output_type": "stream",
     "text": [
      "1 2 3 "
     ]
    }
   ],
   "source": [
    "list = [1,2,3,4,5,6,7,8,9]\n",
    "for i in list:\n",
    "    if i == 4:\n",
    "        break\n",
    "    print(i,end=\" \")"
   ]
  },
  {
   "cell_type": "code",
   "execution_count": 10,
   "id": "ce77e251-e63b-4855-b07d-b08b65802de5",
   "metadata": {},
   "outputs": [
    {
     "name": "stdout",
     "output_type": "stream",
     "text": [
      "1 2 3 5 6 7 8 9 "
     ]
    }
   ],
   "source": [
    "list = [1,2,3,4,5,6,7,8,9]\n",
    "for i in list:\n",
    "    if i == 4:\n",
    "        continue\n",
    "    print(i,end=\" \")"
   ]
  },
  {
   "cell_type": "code",
   "execution_count": 14,
   "id": "87146569-6a69-4dab-a122-f587dd5cec70",
   "metadata": {},
   "outputs": [
    {
     "name": "stdout",
     "output_type": "stream",
     "text": [
      "1 2 3 4 5 6 7 8 9 "
     ]
    }
   ],
   "source": [
    "list = [1,2,3,4,5,6,7,8,9]\n",
    "for i in list:\n",
    "    if i == 4:\n",
    "        pass\n",
    "    print(i,end=\" \")"
   ]
  },
  {
   "cell_type": "code",
   "execution_count": 16,
   "id": "6cd6035e-e31d-4b96-8c66-003ed0415b01",
   "metadata": {},
   "outputs": [
    {
     "name": "stdout",
     "output_type": "stream",
     "text": [
      "1 2 3 4 "
     ]
    }
   ],
   "source": [
    "# Q1.Write a Python program using a while loop that prints numbers from 1 to 10. Stop the loop when the number is 5.\n",
    "i = 1\n",
    "while i <= 10:\n",
    "    if i == 5:\n",
    "        break\n",
    "    print(i,end=\" \")\n",
    "    i += 1"
   ]
  },
  {
   "cell_type": "code",
   "execution_count": 18,
   "id": "4994f2c5-0ded-491d-be77-8b3c978fa39d",
   "metadata": {},
   "outputs": [
    {
     "name": "stdout",
     "output_type": "stream",
     "text": [
      "elep"
     ]
    }
   ],
   "source": [
    "# Q2.Write a Python program using a for loop that iterates over a string \"Elephant\" and prints each letter. Stop the loop if the letter is \"h\".\n",
    "s = \"elephant\"\n",
    "for i in s:\n",
    "    if i=='h':\n",
    "        break\n",
    "    print(i,end=\"\")"
   ]
  },
  {
   "cell_type": "code",
   "execution_count": 1,
   "id": "b32c47da-0f12-456b-a1df-c1fa4a898248",
   "metadata": {
    "scrolled": true
   },
   "outputs": [
    {
     "name": "stdout",
     "output_type": "stream",
     "text": [
      "1 2 3 4 6 7 8 9 10 "
     ]
    }
   ],
   "source": [
    "# Q3.Write a Python program using a while loop that prints numbers from 1 to 10. Skip the number 5.\n",
    "i = 1\n",
    "while i <= 10:\n",
    "    if i==5:\n",
    "        i += 1\n",
    "        continue\n",
    "    print(i,end=\" \")\n",
    "    i += 1"
   ]
  },
  {
   "cell_type": "code",
   "execution_count": null,
   "id": "41bea285-aa9e-44c2-b05b-276a61733e36",
   "metadata": {},
   "outputs": [],
   "source": [
    "# Q4.Write a Python program using a for loop that iterates over a range from 1 to 10 and prints each number. Skip the number 7.\n",
    "# Q5.Write a Python program using a while loop that prints numbers from 1 to 10. Use the pass keyword when the number is 5."
   ]
  },
  {
   "cell_type": "markdown",
   "id": "4ddbccc7-4622-4009-9056-a6d8d8e8d614",
   "metadata": {
    "jp-MarkdownHeadingCollapsed": true
   },
   "source": [
    "### nested for loop"
   ]
  },
  {
   "cell_type": "code",
   "execution_count": 16,
   "id": "7026fe6f-c206-4dec-bf20-529b6cf45d62",
   "metadata": {},
   "outputs": [
    {
     "name": "stdout",
     "output_type": "stream",
     "text": [
      "(1, 1)\n",
      "(1, 2)\n",
      "(1, 3)\n",
      "(2, 1)\n",
      "(2, 2)\n",
      "(2, 3)\n",
      "(3, 1)\n",
      "(3, 2)\n",
      "(3, 3)\n",
      "(4, 1)\n",
      "(4, 2)\n",
      "(4, 3)\n",
      "(5, 1)\n",
      "(5, 2)\n",
      "(5, 3)\n"
     ]
    }
   ],
   "source": [
    "# Q1.Write a Python program that prints all possible pairs of integers (i, j) such that 1 <= i <= 5 and 1 <= j <= 3. \n",
    "# Each pair should be printed on a new line.\n",
    "# (1, 1)\n",
    "# (1, 2)\n",
    "# (1, 3)\n",
    "# (2, 1)\n",
    "# (2, 2)\n",
    "# (2, 3)\n",
    "# ...\n",
    "# (3, 3)\n",
    "for i in range(1,6):\n",
    "    for j in range(1,4):\n",
    "        print(f\"{(i,j)}\")"
   ]
  },
  {
   "cell_type": "code",
   "execution_count": 18,
   "id": "ade8a990-3eca-402b-a3d0-0e02ac03a9d0",
   "metadata": {},
   "outputs": [
    {
     "name": "stdout",
     "output_type": "stream",
     "text": [
      "1\n",
      "22\n",
      "333\n",
      "4444\n"
     ]
    }
   ],
   "source": [
    "# Q2.Write a Python program to print a pattern of numbers in a pyramid shape with 4 rows using nested for loops. \n",
    "# Each row i should contain the number i, repeated i times.\n",
    "# 1\n",
    "# 22\n",
    "# 333\n",
    "# 4444\n",
    "for i in range(1,5):\n",
    "    for j in range(i):\n",
    "        print(i,end=\"\")\n",
    "    print()"
   ]
  },
  {
   "cell_type": "code",
   "execution_count": 24,
   "id": "203d1e97-e543-4f6c-8b39-dea046cae766",
   "metadata": {},
   "outputs": [
    {
     "name": "stdout",
     "output_type": "stream",
     "text": [
      "enter number1: 1\n",
      "enter number2: 19\n",
      "2 3 5 7 11 13 17 19 2 3 5 7 11 13 17 19 "
     ]
    },
    {
     "name": "stdout",
     "output_type": "stream",
     "text": [
      "2 3 5 7 11 13 17 19 "
     ]
    }
   ],
   "source": [
    "# Q3.Write a program that takes two numbers as input and prints all the prime numbers lying between them.\n",
    "n1 = int(input(\"enter number1:\"))\n",
    "n2 = int(input(\"enter number2:\"))\n",
    "for i in range(n1,n2+1):\n",
    "    if i>1: \n",
    "        for j in range(2,i):\n",
    "            if i%j == 0:\n",
    "                break \n",
    "        else:\n",
    "            print(i, end=\" \")"
   ]
  },
  {
   "cell_type": "markdown",
   "id": "e3d243b5-715b-4569-a7d5-6384bd39539d",
   "metadata": {
    "jp-MarkdownHeadingCollapsed": true
   },
   "source": [
    "## Regular expressions\n",
    "\n",
    "Regex is a special text strings that allow us to describe search pattern\n",
    "\n",
    "operation:\n",
    "1) Find a word in a string\n",
    "2) Match a single specific letter in a string\n",
    "3) Match a character in a string\n",
    "4) match series of range of character in a string\n",
    "5) replace characters\n",
    "6) find iterator\n",
    "\n",
    "applicationi:\n",
    "1) To validate correct email and phone numbers\n",
    "2) Also used Web scrapping\n",
    "\n",
    "character class:\n",
    "1) [a-z] --> for lowercase characters\n",
    "2) [A-Z]--> for uppercase characters\n",
    "3) [0-9]--> for any digits\n",
    "4) [^a-z]--> for any character not in a range a-z\n",
    "\n",
    "predifined classes:\n",
    "'\\d'--> for any digits\n",
    "\n",
    "'\\D'--> for any non digits \n",
    "\n",
    "'\\w' --> for any character (alphanumeric, underscore)\n",
    "\n",
    "'\\W'--> for any non character\n",
    "\n",
    "'\\s'--> for any white spaces in a string\n",
    "\n",
    "'\\S'--> for any Non white spces\n",
    "\n",
    "common functions:\n",
    "1) re.findall()--> finds the substring where regular expression matches and returns in the form of list\n",
    "2) re.search()--> scans through the string , and looks for any location where Regular expression matches\n",
    "3) re.finditer()--> finds the substring where regular expression matches and returns in the form of iterator\n",
    "4) re.compile() --> compiles the regular expression pattern for later use\n",
    "5) re.sub() --> replaces the occurance of regular expression with replacement string"
   ]
  },
  {
   "cell_type": "markdown",
   "id": "ebbc79a1-7b84-4e9d-9d08-bee5aa1ed5ca",
   "metadata": {},
   "source": [
    "##### findall"
   ]
  },
  {
   "cell_type": "code",
   "execution_count": 1,
   "id": "3a5a200f-33cb-4e86-acb9-bb79e369efae",
   "metadata": {},
   "outputs": [],
   "source": [
    "import re # re is a package name\n",
    "string='''Virat is 32 and Rohit is 33 \n",
    "        1000902831293!@#$%^&()(&^%$#@#$%^&()'''"
   ]
  },
  {
   "cell_type": "code",
   "execution_count": 3,
   "id": "7d91180f-7a8b-4e55-8b34-11dff8c98cdb",
   "metadata": {},
   "outputs": [
    {
     "name": "stdout",
     "output_type": "stream",
     "text": [
      "['i', 'r', 'a', 't', 'i', 's', 'a', 'n', 'd', 'o', 'h', 'i', 't', 'i', 's']\n"
     ]
    }
   ],
   "source": [
    "print(re.findall(r'[a-z]',string))"
   ]
  },
  {
   "cell_type": "code",
   "execution_count": 4,
   "id": "934cff71-7fad-44fa-96f7-98904ebc83e9",
   "metadata": {},
   "outputs": [
    {
     "name": "stdout",
     "output_type": "stream",
     "text": [
      "['V', 'R']\n"
     ]
    }
   ],
   "source": [
    "print(re.findall(r'[A-Z]',string))"
   ]
  },
  {
   "cell_type": "code",
   "execution_count": 5,
   "id": "baee912c-f41f-4cc4-aeb4-b3ce7993f205",
   "metadata": {},
   "outputs": [
    {
     "name": "stdout",
     "output_type": "stream",
     "text": [
      "['3', '2', '3', '3', '1', '0', '0', '0', '9', '0', '2', '8', '3', '1', '2', '9', '3']\n"
     ]
    }
   ],
   "source": [
    "print(re.findall(r'[0-9]',string))"
   ]
  },
  {
   "cell_type": "code",
   "execution_count": 6,
   "id": "174d2017-6635-4b55-b18b-7e504cd28f56",
   "metadata": {},
   "outputs": [
    {
     "name": "stdout",
     "output_type": "stream",
     "text": [
      "['V', ' ', ' ', '3', '2', ' ', ' ', 'R', ' ', ' ', '3', '3', ' ', '\\n', ' ', ' ', ' ', ' ', ' ', ' ', ' ', ' ', '1', '0', '0', '0', '9', '0', '2', '8', '3', '1', '2', '9', '3', '!', '@', '#', '$', '%', '^', '&', '(', ')', '(', '&', '^', '%', '$', '#', '@', '#', '$', '%', '^', '&', '(', ')']\n"
     ]
    }
   ],
   "source": [
    "print(re.findall(r'[^a-z]',string))"
   ]
  },
  {
   "cell_type": "code",
   "execution_count": 7,
   "id": "ca659c26-8ea8-460b-9da5-42f077a3beb8",
   "metadata": {},
   "outputs": [
    {
     "name": "stdout",
     "output_type": "stream",
     "text": [
      "['3', '2', '3', '3', '1', '0', '0', '0', '9', '0', '2', '8', '3', '1', '2', '9', '3']\n"
     ]
    }
   ],
   "source": [
    "# predifined class\n",
    "print(re.findall(r'\\d',string))"
   ]
  },
  {
   "cell_type": "code",
   "execution_count": 9,
   "id": "9b0d86d7-ed3e-4a98-a833-015a5ea056e7",
   "metadata": {},
   "outputs": [
    {
     "name": "stdout",
     "output_type": "stream",
     "text": [
      "['100', '090', '283', '129']\n"
     ]
    }
   ],
   "source": [
    "print(re.findall(r'\\d\\d\\d',string))"
   ]
  },
  {
   "cell_type": "code",
   "execution_count": 13,
   "id": "03e98ce5-0a61-4044-8a1b-7a18f3ceb397",
   "metadata": {},
   "outputs": [
    {
     "name": "stdout",
     "output_type": "stream",
     "text": [
      "['32', '33', '10', '00', '90', '28', '31', '29']\n"
     ]
    }
   ],
   "source": [
    "print(re.findall(r'\\d{2}',string))"
   ]
  },
  {
   "cell_type": "code",
   "execution_count": 12,
   "id": "653c0703-c50f-4527-bcaa-d6ab2ea69e71",
   "metadata": {},
   "outputs": [
    {
     "name": "stdout",
     "output_type": "stream",
     "text": [
      "['V', 'i', 'r', 'a', 't', ' ', 'i', 's', ' ', ' ', 'a', 'n', 'd', ' ', 'R', 'o', 'h', 'i', 't', ' ', 'i', 's', ' ', ' ', '\\n', ' ', ' ', ' ', ' ', ' ', ' ', ' ', ' ', '!', '@', '#', '$', '%', '^', '&', '(', ')', '(', '&', '^', '%', '$', '#', '@', '#', '$', '%', '^', '&', '(', ')']\n"
     ]
    }
   ],
   "source": [
    "print(re.findall(r'\\D',string))"
   ]
  },
  {
   "cell_type": "code",
   "execution_count": 14,
   "id": "206b2e8e-4190-4df8-a36a-58a29061118a",
   "metadata": {},
   "outputs": [
    {
     "name": "stdout",
     "output_type": "stream",
     "text": [
      "['V', 'i', 'r', 'a', 't', 'i', 's', '3', '2', 'a', 'n', 'd', 'R', 'o', 'h', 'i', 't', 'i', 's', '3', '3', '1', '0', '0', '0', '9', '0', '2', '8', '3', '1', '2', '9', '3']\n"
     ]
    }
   ],
   "source": [
    "print(re.findall(r'\\w',string))"
   ]
  },
  {
   "cell_type": "code",
   "execution_count": 15,
   "id": "dc29f5c4-8a63-4f72-b31d-1c7b44d76bae",
   "metadata": {},
   "outputs": [
    {
     "name": "stdout",
     "output_type": "stream",
     "text": [
      "[' ', ' ', ' ', ' ', ' ', ' ', ' ', '\\n', ' ', ' ', ' ', ' ', ' ', ' ', ' ', ' ', '!', '@', '#', '$', '%', '^', '&', '(', ')', '(', '&', '^', '%', '$', '#', '@', '#', '$', '%', '^', '&', '(', ')']\n"
     ]
    }
   ],
   "source": [
    "print(re.findall(r'\\W',string))"
   ]
  },
  {
   "cell_type": "code",
   "execution_count": 16,
   "id": "a4cebd13-d4ba-4cb1-b58c-2603ea94c4d9",
   "metadata": {},
   "outputs": [
    {
     "name": "stdout",
     "output_type": "stream",
     "text": [
      "[' ', ' ', ' ', ' ', ' ', ' ', ' ', '\\n', ' ', ' ', ' ', ' ', ' ', ' ', ' ', ' ']\n"
     ]
    }
   ],
   "source": [
    "print(re.findall(r'\\s',string))"
   ]
  },
  {
   "cell_type": "code",
   "execution_count": 17,
   "id": "02c26c5b-aadf-41a0-addc-ef720a7f1bb9",
   "metadata": {},
   "outputs": [
    {
     "name": "stdout",
     "output_type": "stream",
     "text": [
      "['V', 'i', 'r', 'a', 't', 'i', 's', '3', '2', 'a', 'n', 'd', 'R', 'o', 'h', 'i', 't', 'i', 's', '3', '3', '1', '0', '0', '0', '9', '0', '2', '8', '3', '1', '2', '9', '3', '!', '@', '#', '$', '%', '^', '&', '(', ')', '(', '&', '^', '%', '$', '#', '@', '#', '$', '%', '^', '&', '(', ')']\n"
     ]
    }
   ],
   "source": [
    "print(re.findall(r'\\S',string))"
   ]
  },
  {
   "cell_type": "code",
   "execution_count": 26,
   "id": "514eece8-af58-4a48-abbf-5cd19cfd8c6c",
   "metadata": {},
   "outputs": [
    {
     "name": "stdout",
     "output_type": "stream",
     "text": [
      "sat\n",
      "hat\n",
      "mat\n",
      "pat\n"
     ]
    }
   ],
   "source": [
    "# Q2.Find all the character which is having 'at'\n",
    "string = 'sat,hat,mat,pat'\n",
    "for i in re.findall('[shmp]at',string):\n",
    "    print(i)"
   ]
  },
  {
   "cell_type": "code",
   "execution_count": 29,
   "id": "2bc40235-79de-4072-8e59-df30647c61da",
   "metadata": {},
   "outputs": [
    {
     "name": "stdout",
     "output_type": "stream",
     "text": [
      "sat\n",
      "hat\n",
      "mat\n",
      "pat\n",
      "rat\n"
     ]
    }
   ],
   "source": [
    "# Q2.Find all the character which is having 'at'\n",
    "string = 'sat,hat,mat,pat,rat'\n",
    "for i in re.findall('[shmpr]at',string):\n",
    "    print(i)"
   ]
  },
  {
   "cell_type": "code",
   "execution_count": 32,
   "id": "2747b000-e08a-46af-a88f-db98b9247bb3",
   "metadata": {},
   "outputs": [
    {
     "name": "stdout",
     "output_type": "stream",
     "text": [
      "sat\n",
      "pat\n",
      "rat\n"
     ]
    }
   ],
   "source": [
    "# Q2.Find all the character except hat and mat\n",
    "string = 'sat,hat,mat,pat,rat'\n",
    "for i in re.findall('[^h-m]at',string):\n",
    "    print(i)"
   ]
  },
  {
   "cell_type": "code",
   "execution_count": null,
   "id": "5b10f925-1bb8-46fd-b814-06c39ceee210",
   "metadata": {},
   "outputs": [],
   "source": []
  },
  {
   "cell_type": "markdown",
   "id": "d07a78da-4dff-4137-9848-8fab36975d37",
   "metadata": {
    "jp-MarkdownHeadingCollapsed": true
   },
   "source": [
    "##### Search"
   ]
  },
  {
   "cell_type": "code",
   "execution_count": 20,
   "id": "8f8f6212-692d-4e28-90f7-561a36b367f4",
   "metadata": {},
   "outputs": [
    {
     "name": "stdout",
     "output_type": "stream",
     "text": [
      "ML is present in the string\n"
     ]
    }
   ],
   "source": [
    "string = \"ML is a subset of artificial intelligence\"\n",
    "if re.search('ML',string):\n",
    "    print(\"ML is present in the string\")"
   ]
  },
  {
   "cell_type": "markdown",
   "id": "4b6c9cb1-564b-4fd6-b51c-634597311885",
   "metadata": {},
   "source": [
    "##### finditer"
   ]
  },
  {
   "cell_type": "code",
   "execution_count": 21,
   "id": "792a9ea0-f1a5-417f-90b2-58b08cdde4b7",
   "metadata": {},
   "outputs": [
    {
     "name": "stdout",
     "output_type": "stream",
     "text": [
      "<re.Match object; span=(11, 17), match='inform'>\n",
      "<re.Match object; span=(38, 44), match='inform'>\n"
     ]
    }
   ],
   "source": [
    "string2 = \"we need to inform him with the latest information\"\n",
    "for i in re.finditer('inform',string2):\n",
    "    print(i)"
   ]
  },
  {
   "cell_type": "markdown",
   "id": "e5d1684d-f712-40c6-a24b-5795035732ba",
   "metadata": {},
   "source": [
    "##### Compile and Sub"
   ]
  },
  {
   "cell_type": "code",
   "execution_count": 36,
   "id": "dbe705c9-2b13-433d-b879-125d6147f0a7",
   "metadata": {},
   "outputs": [
    {
     "data": {
      "text/plain": [
       "'sat,hat,mat,pat,food'"
      ]
     },
     "execution_count": 36,
     "metadata": {},
     "output_type": "execute_result"
    }
   ],
   "source": [
    "# Q2.replace the rat as food\n",
    "string = 'sat,hat,mat,pat,rat'\n",
    "re.compile('[r]at').sub('food',string)"
   ]
  },
  {
   "cell_type": "code",
   "execution_count": 43,
   "id": "a2cc6539-8303-4900-8e54-93f5d736c4a0",
   "metadata": {},
   "outputs": [],
   "source": [
    "# Q1. Find the names and Ages of players given in a string\n",
    "import re\n",
    "name_age = '''Virat is 32 and Rohit is 35\n",
    "                Sikhar is 30 and Risabh is 22'''"
   ]
  },
  {
   "cell_type": "code",
   "execution_count": 44,
   "id": "f037f94a-8e52-41da-bb1f-b6d5e735ec7f",
   "metadata": {},
   "outputs": [
    {
     "name": "stdout",
     "output_type": "stream",
     "text": [
      "['Virat', 'Rohit', 'Sikhar', 'Risabh']\n"
     ]
    }
   ],
   "source": [
    "name = re.findall(r'[A-Z][a-z]*',name_age)\n",
    "print(name)"
   ]
  },
  {
   "cell_type": "code",
   "execution_count": 46,
   "id": "c5d9a54a-9314-4c97-a25a-24b5319f1e55",
   "metadata": {},
   "outputs": [
    {
     "name": "stdout",
     "output_type": "stream",
     "text": [
      "['32', '35', '30', '22']\n"
     ]
    }
   ],
   "source": [
    "ages = re.findall(r'\\d{2}',name_age)\n",
    "print(ages)"
   ]
  },
  {
   "cell_type": "code",
   "execution_count": 50,
   "id": "e6dfc07c-ebf0-4855-96b6-2288be9ae94b",
   "metadata": {},
   "outputs": [
    {
     "name": "stdout",
     "output_type": "stream",
     "text": [
      "{'Virat': '32', 'Rohit': '35', 'Sikhar': '30', 'Risabh': '22'}\n"
     ]
    }
   ],
   "source": [
    "dictt = {}\n",
    "x = 0\n",
    "for i in name:\n",
    "    dictt[i]=ages[x]\n",
    "    x += 1\n",
    "print(dictt)"
   ]
  },
  {
   "cell_type": "code",
   "execution_count": null,
   "id": "8c7e054c-3a12-45dc-8362-414f4639c150",
   "metadata": {},
   "outputs": [],
   "source": []
  },
  {
   "cell_type": "markdown",
   "id": "2a15d308-28aa-4f98-b597-05fba0882d80",
   "metadata": {
    "jp-MarkdownHeadingCollapsed": true
   },
   "source": [
    "## Data structures\n",
    "\n",
    "Data structures are the way of collecting and organizing data in such a way that it can easily stored , accessed and managed.\n",
    "\n",
    "Types of Data structures:\n",
    "\n",
    "1) Inbuilt Data strutures --> int , float , complex , string, List , Tuple , Set , Dictionary\n",
    "   1) Numeric data Types --> int , float , complex\n",
    "   2) Sequence Data types --> string , List , Tuple\n",
    "   3) Set Data Types --> Set\n",
    "   4) Mapping Data types --> Dictionary\n",
    "3) User defined data structures --> Arrays, Linked list , Stack , Queue , Graph , Tree\n",
    "\n",
    "Sequence Data Types\n",
    "1) strings --> They are Ordered collection of Character , Indexed , Immetuable\n",
    "2) List --> They are ordered collection of different Data Types elements , Indexed , Mutable\n",
    "3) Tuple --> They are also orderd collection of elements , Indexed , Immetuable , they are assinged in paranthesis\n",
    "\n",
    "Set Data Types:\n",
    "They Unordered collection of Unique elements , Unindexed , Immutable\n",
    "\n",
    "Mapping Data Types--> unordered collection of Key:Value Pair , Key are indexed and Values are Mutable"
   ]
  },
  {
   "cell_type": "code",
   "execution_count": 32,
   "id": "0b11c842-e651-4f84-8a76-c65bcf25be11",
   "metadata": {},
   "outputs": [
    {
     "data": {
      "text/plain": [
       "'n'"
      ]
     },
     "execution_count": 32,
     "metadata": {},
     "output_type": "execute_result"
    }
   ],
   "source": [
    "string = \"India\"\n",
    "string[1]\n",
    "# string[-1] = \"p\""
   ]
  },
  {
   "cell_type": "code",
   "execution_count": 35,
   "id": "1ee820b8-7f6d-43b2-871d-3f49bc9b0e4f",
   "metadata": {},
   "outputs": [],
   "source": [
    "list = [1,2,3,4,5,\"Indore\",20.5]\n",
    "list[-1] = 30"
   ]
  },
  {
   "cell_type": "code",
   "execution_count": 36,
   "id": "2cec168a-db77-49ad-b693-42f1c6c92ff9",
   "metadata": {},
   "outputs": [
    {
     "data": {
      "text/plain": [
       "[1, 2, 3, 4, 5, 'Indore', 30]"
      ]
     },
     "execution_count": 36,
     "metadata": {},
     "output_type": "execute_result"
    }
   ],
   "source": [
    "list"
   ]
  },
  {
   "cell_type": "code",
   "execution_count": 38,
   "id": "131dc7aa-648c-40d2-bf1b-23e0ff6d2e30",
   "metadata": {},
   "outputs": [
    {
     "ename": "TypeError",
     "evalue": "'tuple' object does not support item assignment",
     "output_type": "error",
     "traceback": [
      "\u001b[1;31m---------------------------------------------------------------------------\u001b[0m",
      "\u001b[1;31mTypeError\u001b[0m                                 Traceback (most recent call last)",
      "Cell \u001b[1;32mIn[38], line 3\u001b[0m\n\u001b[0;32m      1\u001b[0m t \u001b[38;5;241m=\u001b[39m (\u001b[38;5;241m1\u001b[39m,\u001b[38;5;241m2\u001b[39m,\u001b[38;5;241m3\u001b[39m,\u001b[38;5;241m4\u001b[39m)\n\u001b[0;32m      2\u001b[0m t[\u001b[38;5;241m-\u001b[39m\u001b[38;5;241m2\u001b[39m]\n\u001b[1;32m----> 3\u001b[0m t[\u001b[38;5;241m-\u001b[39m\u001b[38;5;241m2\u001b[39m] \u001b[38;5;241m=\u001b[39m \u001b[38;5;241m10\u001b[39m\n",
      "\u001b[1;31mTypeError\u001b[0m: 'tuple' object does not support item assignment"
     ]
    }
   ],
   "source": [
    "t = (1,2,3,4)\n",
    "t[-2]\n",
    "t[-2] = 10"
   ]
  },
  {
   "cell_type": "code",
   "execution_count": 40,
   "id": "430a267a-2967-4765-86e4-98671ea0208c",
   "metadata": {},
   "outputs": [],
   "source": [
    "l = [1,2,3,2,3,1,4,5,6,9]\n",
    "\n",
    "sett = set(l)"
   ]
  },
  {
   "cell_type": "code",
   "execution_count": 41,
   "id": "134388b8-2136-4392-9b10-a9fb6ad63b5d",
   "metadata": {},
   "outputs": [
    {
     "name": "stdout",
     "output_type": "stream",
     "text": [
      "<class 'set'>\n"
     ]
    }
   ],
   "source": [
    "print(type(sett))"
   ]
  },
  {
   "cell_type": "code",
   "execution_count": 42,
   "id": "e742ab0d-06d9-4ca6-ab03-822ee84e3056",
   "metadata": {},
   "outputs": [
    {
     "ename": "TypeError",
     "evalue": "'set' object is not subscriptable",
     "output_type": "error",
     "traceback": [
      "\u001b[1;31m---------------------------------------------------------------------------\u001b[0m",
      "\u001b[1;31mTypeError\u001b[0m                                 Traceback (most recent call last)",
      "Cell \u001b[1;32mIn[42], line 1\u001b[0m\n\u001b[1;32m----> 1\u001b[0m sett[\u001b[38;5;241m2\u001b[39m]\n",
      "\u001b[1;31mTypeError\u001b[0m: 'set' object is not subscriptable"
     ]
    }
   ],
   "source": [
    "sett[2]"
   ]
  },
  {
   "cell_type": "code",
   "execution_count": 45,
   "id": "de69ea11-09d8-45d4-a347-0689625d1a39",
   "metadata": {},
   "outputs": [
    {
     "name": "stdout",
     "output_type": "stream",
     "text": [
      "<class 'dict'>\n"
     ]
    }
   ],
   "source": [
    "dictt = {'name':\"Lavesh\",'Age':25}\n",
    "print(type(dictt))"
   ]
  },
  {
   "cell_type": "code",
   "execution_count": 48,
   "id": "6137c6c3-69c0-4851-853a-1dc77882855d",
   "metadata": {},
   "outputs": [],
   "source": [
    "dictt['Age'] = 60"
   ]
  },
  {
   "cell_type": "code",
   "execution_count": 49,
   "id": "5bc03759-2984-4dfc-b3c6-93b4ab2b0cbe",
   "metadata": {},
   "outputs": [
    {
     "data": {
      "text/plain": [
       "{'name': 'Lavesh', 'Age': 60}"
      ]
     },
     "execution_count": 49,
     "metadata": {},
     "output_type": "execute_result"
    }
   ],
   "source": [
    "dictt"
   ]
  },
  {
   "cell_type": "markdown",
   "id": "db055c00-b8a7-4431-9728-651358a862fe",
   "metadata": {
    "jp-MarkdownHeadingCollapsed": true
   },
   "source": [
    "### String Basics"
   ]
  },
  {
   "cell_type": "code",
   "execution_count": 51,
   "id": "62738c22-9971-4abb-aabf-eb38ef760dcb",
   "metadata": {},
   "outputs": [],
   "source": [
    "string = 'data science' # single quote \n",
    "string = \"data science\" # double quote\n",
    "string = ''' data science''' # triple quote"
   ]
  },
  {
   "cell_type": "code",
   "execution_count": 52,
   "id": "552f80dd-5ec4-44d3-b310-685c13907e56",
   "metadata": {},
   "outputs": [
    {
     "name": "stdout",
     "output_type": "stream",
     "text": [
      " data science\n"
     ]
    }
   ],
   "source": [
    "print(string)"
   ]
  },
  {
   "cell_type": "code",
   "execution_count": 53,
   "id": "87d711cd-6714-4f86-bbfe-adb0709d40c7",
   "metadata": {},
   "outputs": [
    {
     "name": "stdout",
     "output_type": "stream",
     "text": [
      "dataset\n"
     ]
    }
   ],
   "source": [
    "print(\"dataset\")"
   ]
  },
  {
   "cell_type": "code",
   "execution_count": 54,
   "id": "9135b9cf-8f04-48ef-93a6-39bbd6686aca",
   "metadata": {},
   "outputs": [
    {
     "data": {
      "text/plain": [
       "12"
      ]
     },
     "execution_count": 54,
     "metadata": {},
     "output_type": "execute_result"
    }
   ],
   "source": [
    "len(\"data science\")"
   ]
  },
  {
   "cell_type": "code",
   "execution_count": 56,
   "id": "500bff14-9c7c-4b3f-b10f-eebb520e98d8",
   "metadata": {},
   "outputs": [
    {
     "data": {
      "text/plain": [
       "'t'"
      ]
     },
     "execution_count": 56,
     "metadata": {},
     "output_type": "execute_result"
    }
   ],
   "source": [
    "#### indexing and slicing\n",
    "string = \"data science\"\n",
    "string[2] # + ve indexing"
   ]
  },
  {
   "cell_type": "code",
   "execution_count": 62,
   "id": "e5770024-df25-4353-97a5-ed265a80799a",
   "metadata": {},
   "outputs": [
    {
     "data": {
      "text/plain": [
       "'e'"
      ]
     },
     "execution_count": 62,
     "metadata": {},
     "output_type": "execute_result"
    }
   ],
   "source": [
    "string[-1] # -ve indexing"
   ]
  },
  {
   "cell_type": "code",
   "execution_count": 1,
   "id": "21cd3656-8594-46e2-b367-8fafd4606050",
   "metadata": {},
   "outputs": [
    {
     "data": {
      "text/plain": [
       "'Data science'"
      ]
     },
     "execution_count": 1,
     "metadata": {},
     "output_type": "execute_result"
    }
   ],
   "source": [
    "# slicing --> grabing the elements withing specified range , slicing [start:stop-1:step]\n",
    "string = 'Data science'\n",
    "string[:]"
   ]
  },
  {
   "cell_type": "code",
   "execution_count": 67,
   "id": "c4fc858d-2a13-433c-878c-ba1373e83515",
   "metadata": {},
   "outputs": [
    {
     "data": {
      "text/plain": [
       "'Data science'"
      ]
     },
     "execution_count": 67,
     "metadata": {},
     "output_type": "execute_result"
    }
   ],
   "source": [
    "string[0:]"
   ]
  },
  {
   "cell_type": "code",
   "execution_count": 69,
   "id": "26e465da-595e-450b-8364-93c4c344c9c7",
   "metadata": {},
   "outputs": [
    {
     "data": {
      "text/plain": [
       "'Data'"
      ]
     },
     "execution_count": 69,
     "metadata": {},
     "output_type": "execute_result"
    }
   ],
   "source": [
    "string[0:4]"
   ]
  },
  {
   "cell_type": "code",
   "execution_count": 71,
   "id": "f51dae1e-1a28-4cfe-a44a-c22872ad6a5f",
   "metadata": {},
   "outputs": [
    {
     "data": {
      "text/plain": [
       "'science'"
      ]
     },
     "execution_count": 71,
     "metadata": {},
     "output_type": "execute_result"
    }
   ],
   "source": [
    "string[5:]"
   ]
  },
  {
   "cell_type": "code",
   "execution_count": 72,
   "id": "7eceb63a-9e7e-4ac3-af4c-16126751ca4c",
   "metadata": {},
   "outputs": [
    {
     "data": {
      "text/plain": [
       "'Dt ce'"
      ]
     },
     "execution_count": 72,
     "metadata": {},
     "output_type": "execute_result"
    }
   ],
   "source": [
    "string[0:10:2]"
   ]
  },
  {
   "cell_type": "code",
   "execution_count": 73,
   "id": "03ba9a57-3353-4ded-97e2-9b2cd6bd2c6b",
   "metadata": {},
   "outputs": [
    {
     "data": {
      "text/plain": [
       "'ecneics ataD'"
      ]
     },
     "execution_count": 73,
     "metadata": {},
     "output_type": "execute_result"
    }
   ],
   "source": [
    "string[::-1]"
   ]
  },
  {
   "cell_type": "markdown",
   "id": "bb716700-eb72-40e1-9c1c-46ee08a548e2",
   "metadata": {},
   "source": [
    "##### string concatenation"
   ]
  },
  {
   "cell_type": "code",
   "execution_count": 7,
   "id": "694e788a-7642-431c-99d4-3c8fa75dd310",
   "metadata": {},
   "outputs": [],
   "source": [
    "# change sam as pam\n",
    "name = \"Sam\""
   ]
  },
  {
   "cell_type": "code",
   "execution_count": 8,
   "id": "9c2ce427-bf64-4929-8856-1ddec7cff035",
   "metadata": {},
   "outputs": [
    {
     "data": {
      "text/plain": [
       "'S'"
      ]
     },
     "execution_count": 8,
     "metadata": {},
     "output_type": "execute_result"
    }
   ],
   "source": [
    "name[0]"
   ]
  },
  {
   "cell_type": "code",
   "execution_count": 15,
   "id": "3f72f8c1-7704-4e7d-a1cf-c0503e1ce346",
   "metadata": {},
   "outputs": [
    {
     "ename": "TypeError",
     "evalue": "'str' object does not support item assignment",
     "output_type": "error",
     "traceback": [
      "\u001b[1;31m---------------------------------------------------------------------------\u001b[0m",
      "\u001b[1;31mTypeError\u001b[0m                                 Traceback (most recent call last)",
      "Cell \u001b[1;32mIn[15], line 1\u001b[0m\n\u001b[1;32m----> 1\u001b[0m name[\u001b[38;5;241m0\u001b[39m] \u001b[38;5;241m=\u001b[39m \u001b[38;5;124m\"\u001b[39m\u001b[38;5;124mP\u001b[39m\u001b[38;5;124m\"\u001b[39m\n",
      "\u001b[1;31mTypeError\u001b[0m: 'str' object does not support item assignment"
     ]
    }
   ],
   "source": [
    "name[0] = \"P\" # string is immetuable"
   ]
  },
  {
   "cell_type": "code",
   "execution_count": 13,
   "id": "56aefbef-26f9-4c74-894c-5d229aade2b0",
   "metadata": {},
   "outputs": [],
   "source": [
    "last_letters = name[1:]"
   ]
  },
  {
   "cell_type": "code",
   "execution_count": 14,
   "id": "d6050343-25a0-4b8b-8167-e23b039e9712",
   "metadata": {},
   "outputs": [
    {
     "data": {
      "text/plain": [
       "'Pam'"
      ]
     },
     "execution_count": 14,
     "metadata": {},
     "output_type": "execute_result"
    }
   ],
   "source": [
    "\"P\" + last_letters"
   ]
  },
  {
   "cell_type": "code",
   "execution_count": 18,
   "id": "188d4453-c8d7-4539-a5a6-a7909598f593",
   "metadata": {},
   "outputs": [],
   "source": [
    "# eg.2 \n",
    "x = \"Hello!\"\n",
    "\n",
    "x += \" Data Scientist\""
   ]
  },
  {
   "cell_type": "code",
   "execution_count": 19,
   "id": "6426677a-1ba1-4a6a-9f5a-937bce3090c5",
   "metadata": {},
   "outputs": [
    {
     "data": {
      "text/plain": [
       "'Hello! Data Scientist'"
      ]
     },
     "execution_count": 19,
     "metadata": {},
     "output_type": "execute_result"
    }
   ],
   "source": [
    "x "
   ]
  },
  {
   "cell_type": "markdown",
   "id": "8f968b10-7339-4f07-ab6b-117b50f67877",
   "metadata": {
    "jp-MarkdownHeadingCollapsed": true
   },
   "source": [
    "### Methods in string"
   ]
  },
  {
   "cell_type": "code",
   "execution_count": 31,
   "id": "b1d238ea-6a3a-4257-a0ef-a007a7597246",
   "metadata": {},
   "outputs": [
    {
     "name": "stdout",
     "output_type": "stream",
     "text": [
      "Thankyou for purchasing from flipkart\n",
      "Thankyou For Purchasing From Flipkart\n",
      "THANKYOU FOR PURCHASING FROM FLIPKART\n",
      "********************************************************thankyou for purchasing from flipkart*********************************************************\n",
      "3\n",
      "True\n",
      "True\n",
      "thankyou for purchasing from amazone\n"
     ]
    }
   ],
   "source": [
    "st = \"thankyou for purchasing from flipkart\"\n",
    "print(st.capitalize()) \n",
    "print(st.title())\n",
    "print(st.upper())\n",
    "print(st.center(150,\"*\"))\n",
    "print(st.count(\"a\"))\n",
    "print(st.endswith(\"flipkart\"))\n",
    "print(st.startswith(\"thankyou\"))\n",
    "print(st.replace(\"flipkart\",\"amazone\"))"
   ]
  },
  {
   "cell_type": "code",
   "execution_count": 32,
   "id": "3ae07044-504c-4314-a443-1876904ac140",
   "metadata": {},
   "outputs": [
    {
     "data": {
      "text/plain": [
       "'pam'"
      ]
     },
     "execution_count": 32,
     "metadata": {},
     "output_type": "execute_result"
    }
   ],
   "source": [
    "name = \"sam\"\n",
    "name.replace(\"s\",\"p\")"
   ]
  },
  {
   "cell_type": "code",
   "execution_count": 45,
   "id": "3cf5d592-21f1-4efb-bb03-318f467bf9d3",
   "metadata": {},
   "outputs": [
    {
     "name": "stdout",
     "output_type": "stream",
     "text": [
      "False\n",
      "True\n",
      "False\n"
     ]
    }
   ],
   "source": [
    "string = \"salman23\"\n",
    "print(string.isalpha()) # only considers alphabets except space , special character\n",
    "print(string.isalnum()) # this only considers alphabets and number and not special character\n",
    "print(string.isdigit())"
   ]
  },
  {
   "cell_type": "code",
   "execution_count": 48,
   "id": "1a35f064-d87e-463d-89b9-f044d04ec95b",
   "metadata": {},
   "outputs": [
    {
     "name": "stdout",
     "output_type": "stream",
     "text": [
      "6\n",
      "-1\n"
     ]
    }
   ],
   "source": [
    "# find vs index --> both are used to find the index position\n",
    "\n",
    "string = \"hello python developers\"\n",
    "print(string.find(\"python\")) # if found , returns index position\n",
    "print(string.find(\"sql\")) # if not found , returns -1"
   ]
  },
  {
   "cell_type": "code",
   "execution_count": 51,
   "id": "0f685ad4-c7f2-4fcd-9d70-5aa1b1a2a070",
   "metadata": {},
   "outputs": [
    {
     "name": "stdout",
     "output_type": "stream",
     "text": [
      "6\n"
     ]
    }
   ],
   "source": [
    "# index\n",
    "string = \"hello python developers\"\n",
    "print(string.index(\"python\"))"
   ]
  },
  {
   "cell_type": "code",
   "execution_count": 54,
   "id": "c539255e-54ca-4ab0-946a-aa8db15ac282",
   "metadata": {},
   "outputs": [
    {
     "ename": "ValueError",
     "evalue": "substring not found",
     "output_type": "error",
     "traceback": [
      "\u001b[1;31m---------------------------------------------------------------------------\u001b[0m",
      "\u001b[1;31mValueError\u001b[0m                                Traceback (most recent call last)",
      "Cell \u001b[1;32mIn[54], line 1\u001b[0m\n\u001b[1;32m----> 1\u001b[0m \u001b[38;5;28mprint\u001b[39m(string\u001b[38;5;241m.\u001b[39mindex(\u001b[38;5;124m\"\u001b[39m\u001b[38;5;124msql\u001b[39m\u001b[38;5;124m\"\u001b[39m))\n",
      "\u001b[1;31mValueError\u001b[0m: substring not found"
     ]
    }
   ],
   "source": [
    "print(string.index(\"sql\"))"
   ]
  },
  {
   "cell_type": "code",
   "execution_count": 56,
   "id": "8217ec09-8dba-4174-ba19-7dea69e678b7",
   "metadata": {},
   "outputs": [
    {
     "name": "stdout",
     "output_type": "stream",
     "text": [
      "substring not found\n"
     ]
    }
   ],
   "source": [
    "try:\n",
    "    index_found = string.index(\"sql\")\n",
    "    print(f\"index_of_python_is : {index_found}\")\n",
    "except ValueError as e:\n",
    "    print(e)"
   ]
  },
  {
   "cell_type": "markdown",
   "id": "49c67cdf-2a77-4dbc-bbb4-7e147b160901",
   "metadata": {},
   "source": [
    "##### strip , split , join methods"
   ]
  },
  {
   "cell_type": "code",
   "execution_count": 77,
   "id": "68aa53e0-504a-4006-b984-6e45823ccd2d",
   "metadata": {},
   "outputs": [
    {
     "name": "stdout",
     "output_type": "stream",
     "text": [
      "Data      Science\n"
     ]
    }
   ],
   "source": [
    "# strip\n",
    "st = \"         Data      Science        \"\n",
    "print(st.strip())"
   ]
  },
  {
   "cell_type": "code",
   "execution_count": 82,
   "id": "cd1ed705-b245-4312-a05d-6cf05a894f92",
   "metadata": {},
   "outputs": [
    {
     "data": {
      "text/plain": [
       "'Data      Science'"
      ]
     },
     "execution_count": 82,
     "metadata": {},
     "output_type": "execute_result"
    }
   ],
   "source": [
    "st = \"     &&&&////    Data      Science    ????((()))    \"\n",
    "st.strip(\" &/?()\") # strip , step1"
   ]
  },
  {
   "cell_type": "code",
   "execution_count": 83,
   "id": "eb9ac059-7fc0-47fe-88b7-61672b52ccb7",
   "metadata": {},
   "outputs": [
    {
     "data": {
      "text/plain": [
       "['Data', 'Science']"
      ]
     },
     "execution_count": 83,
     "metadata": {},
     "output_type": "execute_result"
    }
   ],
   "source": [
    "st.strip(\" &/?()\").split() # using split to remove spaces from betweeen data and science , step2"
   ]
  },
  {
   "cell_type": "code",
   "execution_count": 84,
   "id": "fa4ae995-48c7-447e-811a-088bcc0bd685",
   "metadata": {},
   "outputs": [
    {
     "data": {
      "text/plain": [
       "'Data Science'"
      ]
     },
     "execution_count": 84,
     "metadata": {},
     "output_type": "execute_result"
    }
   ],
   "source": [
    "' '.join(st.strip(\" &/?()\").split()) # step3"
   ]
  },
  {
   "cell_type": "code",
   "execution_count": 75,
   "id": "9075d5a2-14f4-45b6-a614-5685aa429ab9",
   "metadata": {},
   "outputs": [
    {
     "data": {
      "text/plain": [
       "['Neil', 'Nitin', 'Mukesh']"
      ]
     },
     "execution_count": 75,
     "metadata": {},
     "output_type": "execute_result"
    }
   ],
   "source": [
    "# split\n",
    "\n",
    "name = \"Neil Nitin Mukesh\"\n",
    "name.split()"
   ]
  },
  {
   "cell_type": "code",
   "execution_count": 76,
   "id": "72d10032-8ec7-4edb-9e4e-7b4402481990",
   "metadata": {},
   "outputs": [
    {
     "data": {
      "text/plain": [
       "'Neil-Nitin-Mukesh'"
      ]
     },
     "execution_count": 76,
     "metadata": {},
     "output_type": "execute_result"
    }
   ],
   "source": [
    "'-'.join(name.split())"
   ]
  },
  {
   "cell_type": "code",
   "execution_count": 88,
   "id": "f562110e-5764-4927-875f-67e53336e273",
   "metadata": {},
   "outputs": [
    {
     "data": {
      "text/plain": [
       "'malayalam'"
      ]
     },
     "execution_count": 88,
     "metadata": {},
     "output_type": "execute_result"
    }
   ],
   "source": [
    "# malayalam\n",
    "name = \" &&&    Malaya      Lam    //// \"\n",
    "''.join(name.strip(\" &/\").lower().split())"
   ]
  },
  {
   "cell_type": "code",
   "execution_count": 90,
   "id": "0b42c8b5-cd50-4b4e-8169-3084388f5bf7",
   "metadata": {},
   "outputs": [],
   "source": [
    "# Making above programm little bit more complex , print output as \"malayalam\"\n",
    "name = \" &&&    Malaya   &&&&   lam    //// \""
   ]
  },
  {
   "cell_type": "code",
   "execution_count": 102,
   "id": "9a3a1651-0d78-40f2-97bb-c7cbaf117165",
   "metadata": {},
   "outputs": [
    {
     "data": {
      "text/plain": [
       "'malaya   &&&&   lam'"
      ]
     },
     "execution_count": 102,
     "metadata": {},
     "output_type": "execute_result"
    }
   ],
   "source": [
    "name.strip(\" &/\").lower() # step1"
   ]
  },
  {
   "cell_type": "code",
   "execution_count": 103,
   "id": "2321ccd5-3fd4-4f67-ae96-03fe4a07a157",
   "metadata": {},
   "outputs": [
    {
     "data": {
      "text/plain": [
       "['malaya   ', '', '', '', '   lam']"
      ]
     },
     "execution_count": 103,
     "metadata": {},
     "output_type": "execute_result"
    }
   ],
   "source": [
    "name.strip(\" &/\").lower().split(\"&\") # step2"
   ]
  },
  {
   "cell_type": "code",
   "execution_count": 108,
   "id": "dc0ee94d-aba5-4d9b-9653-3943e7854913",
   "metadata": {},
   "outputs": [
    {
     "data": {
      "text/plain": [
       "'malaya      lam'"
      ]
     },
     "execution_count": 108,
     "metadata": {},
     "output_type": "execute_result"
    }
   ],
   "source": [
    "cleaned_string = ''.join(name.strip(\" &/\").lower().split(\"&\")) # step3\n",
    "cleaned_string"
   ]
  },
  {
   "cell_type": "code",
   "execution_count": 109,
   "id": "8cec2858-57d0-47d3-8da3-5005e83d6e3e",
   "metadata": {},
   "outputs": [
    {
     "data": {
      "text/plain": [
       "'malayalam'"
      ]
     },
     "execution_count": 109,
     "metadata": {},
     "output_type": "execute_result"
    }
   ],
   "source": [
    "''.join(cleaned_string.split()) # step4"
   ]
  },
  {
   "cell_type": "code",
   "execution_count": 112,
   "id": "88cd65e3-6b8f-42c5-934e-7155d1e31b28",
   "metadata": {},
   "outputs": [
    {
     "name": "stdout",
     "output_type": "stream",
     "text": [
      "malayalam is palindrome string\n"
     ]
    }
   ],
   "source": [
    "# write a programm for palindrome string\n",
    "name = \" &&&    Malaya   &&&&   lam    //// \"\n",
    "cleaned_string =  ''.join(name.strip(\" &/\").lower().split(\"&\"))\n",
    "cleaned_string1 = ''.join(cleaned_string.split())\n",
    "# print(cleaned_string1)\n",
    "\n",
    "\n",
    "if cleaned_string1 == cleaned_string1[::-1]:\n",
    "    print(f\"{cleaned_string1} is palindrome string\")\n",
    "else:\n",
    "    print(\"not palindrome\")"
   ]
  },
  {
   "cell_type": "markdown",
   "id": "5bdf086d-3287-4013-82b2-8bc73804e8c9",
   "metadata": {
    "jp-MarkdownHeadingCollapsed": true
   },
   "source": [
    "### encoding and decoding string"
   ]
  },
  {
   "cell_type": "code",
   "execution_count": 121,
   "id": "cb01216e-40af-424f-8886-cb23d3d8518e",
   "metadata": {},
   "outputs": [
    {
     "name": "stdout",
     "output_type": "stream",
     "text": [
      "b'\\xff\\xfet\\x00h\\x00a\\x00n\\x00k\\x00y\\x00o\\x00u\\x00 \\x00f\\x00o\\x00r\\x00 \\x00p\\x00u\\x00r\\x00c\\x00h\\x00a\\x00s\\x00i\\x00n\\x00g\\x00 \\x00f\\x00r\\x00o\\x00m\\x00 \\x00f\\x00l\\x00i\\x00p\\x00k\\x00a\\x00r\\x00t\\x00'\n"
     ]
    }
   ],
   "source": [
    "string = \"thankyou for purchasing from flipkart\"\n",
    "encoded = string.encode(\"utf-16\")\n",
    "print(encoded)"
   ]
  },
  {
   "cell_type": "code",
   "execution_count": 122,
   "id": "366c0871-61d3-4067-9df6-8477a9aa8df0",
   "metadata": {},
   "outputs": [
    {
     "data": {
      "text/plain": [
       "'thankyou for purchasing from flipkart'"
      ]
     },
     "execution_count": 122,
     "metadata": {},
     "output_type": "execute_result"
    }
   ],
   "source": [
    "encoded.decode(\"utf-16\")"
   ]
  },
  {
   "cell_type": "code",
   "execution_count": 126,
   "id": "89416b10-2a7e-497d-9b08-56e1e17318c4",
   "metadata": {},
   "outputs": [
    {
     "name": "stdout",
     "output_type": "stream",
     "text": [
      "t h i s   i s   d a t a   s c i e n c e "
     ]
    }
   ],
   "source": [
    "### iteration\n",
    "string = \"this is data science\"\n",
    "for i in string:\n",
    "    print(i,end=\" \")"
   ]
  },
  {
   "cell_type": "code",
   "execution_count": 129,
   "id": "b97a10b5-cdf6-46c1-8d6b-af4fb56ac393",
   "metadata": {},
   "outputs": [
    {
     "name": "stdout",
     "output_type": "stream",
     "text": [
      "vowel count is : 7\n",
      "consonents count is : 10\n"
     ]
    }
   ],
   "source": [
    "# write a programm to count the vowels and consonents without using length function\n",
    "string = \"this is data science\"\n",
    "v_count = 0\n",
    "c_count = 0\n",
    "for i in string:\n",
    "    if i in \"aeiou\":\n",
    "        v_count += 1\n",
    "    elif i.isalpha():\n",
    "        c_count += 1\n",
    "print(f\"vowel count is : {v_count}\")\n",
    "print(f\"consonents count is : {c_count}\")"
   ]
  },
  {
   "cell_type": "markdown",
   "id": "f2529ec2-6e37-4e31-9fe1-cb23eba1e4c9",
   "metadata": {},
   "source": [
    "### List --They are ordered collection of different Data Types elements , Indexed , Mutable"
   ]
  },
  {
   "cell_type": "markdown",
   "id": "4c969848-972b-48e0-b497-a41fdc6c3a97",
   "metadata": {
    "jp-MarkdownHeadingCollapsed": true
   },
   "source": [
    "#### Indtroduction to list"
   ]
  },
  {
   "cell_type": "code",
   "execution_count": 7,
   "id": "d28d4f8c-bb2b-4462-840b-a8db639002e3",
   "metadata": {},
   "outputs": [
    {
     "name": "stdout",
     "output_type": "stream",
     "text": [
      "<class 'list'>\n"
     ]
    }
   ],
   "source": [
    "empty_list = []\n",
    "print(type(empty_list))"
   ]
  },
  {
   "cell_type": "code",
   "execution_count": 8,
   "id": "7c75c930-da1c-4147-9087-6216b9ab994e",
   "metadata": {},
   "outputs": [],
   "source": [
    "num_list = [1,2,3,4,5]\n",
    "mixed_list = [1,2,3,4.5,\"indore\",True]"
   ]
  },
  {
   "cell_type": "code",
   "execution_count": 16,
   "id": "c5ac643a-0911-4e31-8580-40fa4bece43d",
   "metadata": {},
   "outputs": [
    {
     "name": "stdout",
     "output_type": "stream",
     "text": [
      "2\n",
      "10\n",
      "[1, 2, 3, 4]\n",
      "[2, 4, 6, 8]\n"
     ]
    }
   ],
   "source": [
    "# indexing and slicing in list\n",
    "lst = [1,2,3,4,5,6,7,8,9,10]\n",
    "print(lst[1]) # +ve indexing\n",
    "print(lst[-1]) # -ve indexing\n",
    "print(lst[0:4]) # slicing\n",
    "print(lst[1:8:2]) # slicing with steps"
   ]
  },
  {
   "cell_type": "markdown",
   "id": "93b2bfb9-d98d-42be-9115-c62cb0ff9f46",
   "metadata": {
    "jp-MarkdownHeadingCollapsed": true
   },
   "source": [
    "#### Basic operation and methods in list"
   ]
  },
  {
   "cell_type": "code",
   "execution_count": 47,
   "id": "8c97e228-e306-4751-9da9-e0ebed657512",
   "metadata": {},
   "outputs": [
    {
     "name": "stdout",
     "output_type": "stream",
     "text": [
      "3\n"
     ]
    }
   ],
   "source": [
    "# accessing elements\n",
    "lst = [1,2,3,4,5]\n",
    "print(lst[2])"
   ]
  },
  {
   "cell_type": "code",
   "execution_count": 48,
   "id": "51229771-3576-4789-b540-1f93b27e857c",
   "metadata": {},
   "outputs": [
    {
     "name": "stdout",
     "output_type": "stream",
     "text": [
      "[1, 2, 300, 4, 5]\n"
     ]
    }
   ],
   "source": [
    "# updating elements \n",
    "lst[2] = 300\n",
    "print(lst)"
   ]
  },
  {
   "cell_type": "code",
   "execution_count": 49,
   "id": "5a3be919-1a91-4de9-b191-709231e08a4a",
   "metadata": {},
   "outputs": [
    {
     "name": "stdout",
     "output_type": "stream",
     "text": [
      "[1, 2, 3, 4, 5, 6]\n"
     ]
    }
   ],
   "source": [
    "# adding elements ( append , extend , insert )\n",
    "lst = [1,2,3,4,5]\n",
    "\n",
    "lst.append(6)\n",
    "print(lst)"
   ]
  },
  {
   "cell_type": "code",
   "execution_count": 50,
   "id": "8288c318-939a-46d0-8457-e27447a5bbfe",
   "metadata": {},
   "outputs": [
    {
     "name": "stdout",
     "output_type": "stream",
     "text": [
      "[1, 2, 3, 4, 5, 6, 7, 8, 9]\n"
     ]
    }
   ],
   "source": [
    "lst.extend([7,8,9]) # adding multiple elements\n",
    "print(lst)"
   ]
  },
  {
   "cell_type": "code",
   "execution_count": 51,
   "id": "1511f7f3-ee7b-4066-9c93-28f2366139cc",
   "metadata": {},
   "outputs": [],
   "source": [
    "lst.insert(2,200) # insert(index_position,value)"
   ]
  },
  {
   "cell_type": "code",
   "execution_count": 52,
   "id": "45af4105-c21e-4d94-b882-f90aae8b8ea9",
   "metadata": {},
   "outputs": [
    {
     "data": {
      "text/plain": [
       "[1, 2, 200, 3, 4, 5, 6, 7, 8, 9]"
      ]
     },
     "execution_count": 52,
     "metadata": {},
     "output_type": "execute_result"
    }
   ],
   "source": [
    "lst"
   ]
  },
  {
   "cell_type": "code",
   "execution_count": 53,
   "id": "86a800bc-6fed-46a5-bccf-7b59895b226b",
   "metadata": {},
   "outputs": [
    {
     "data": {
      "text/plain": [
       "9"
      ]
     },
     "execution_count": 53,
     "metadata": {},
     "output_type": "execute_result"
    }
   ],
   "source": [
    "# removing element ( pop , remove , clear )\n",
    "lst.pop() # removes last element"
   ]
  },
  {
   "cell_type": "code",
   "execution_count": 54,
   "id": "32c66eab-addd-4b79-b934-c7ff774dc25b",
   "metadata": {},
   "outputs": [
    {
     "data": {
      "text/plain": [
       "[1, 2, 200, 3, 4, 5, 6, 7, 8]"
      ]
     },
     "execution_count": 54,
     "metadata": {},
     "output_type": "execute_result"
    }
   ],
   "source": [
    "lst"
   ]
  },
  {
   "cell_type": "code",
   "execution_count": 55,
   "id": "f48ee7e6-5840-4df9-984e-0b357f1796f6",
   "metadata": {},
   "outputs": [
    {
     "name": "stdout",
     "output_type": "stream",
     "text": [
      "[1, 2, 3, 4, 5, 6, 7, 8]\n"
     ]
    }
   ],
   "source": [
    "lst.pop(2) # removing elements with index_position\n",
    "print(lst)"
   ]
  },
  {
   "cell_type": "code",
   "execution_count": 56,
   "id": "e8793dcc-3e95-4553-be35-c0adbe7ab92e",
   "metadata": {},
   "outputs": [
    {
     "name": "stdout",
     "output_type": "stream",
     "text": [
      "[1, 2, 3, 4, 5, 7, 8]\n"
     ]
    }
   ],
   "source": [
    "lst.remove(6)\n",
    "print(lst)"
   ]
  },
  {
   "cell_type": "code",
   "execution_count": 57,
   "id": "bb08fe27-560c-4011-8492-cfb99925044e",
   "metadata": {},
   "outputs": [
    {
     "name": "stdout",
     "output_type": "stream",
     "text": [
      "[]\n"
     ]
    }
   ],
   "source": [
    "lst.clear()\n",
    "print(lst)"
   ]
  },
  {
   "cell_type": "code",
   "execution_count": 66,
   "id": "040d193c-4dce-4a9c-aed3-312f74336dcc",
   "metadata": {},
   "outputs": [
    {
     "data": {
      "text/plain": [
       "1"
      ]
     },
     "execution_count": 66,
     "metadata": {},
     "output_type": "execute_result"
    }
   ],
   "source": [
    "### ( index , count , reverse)\n",
    "lst = [1,2,10,20,3,3,4,4,4,4,5]\n",
    "lst.index(2)"
   ]
  },
  {
   "cell_type": "code",
   "execution_count": 67,
   "id": "fc032751-230f-4b60-bb2c-1162a540a8d2",
   "metadata": {},
   "outputs": [
    {
     "data": {
      "text/plain": [
       "2"
      ]
     },
     "execution_count": 67,
     "metadata": {},
     "output_type": "execute_result"
    }
   ],
   "source": [
    "lst.count(3)"
   ]
  },
  {
   "cell_type": "code",
   "execution_count": 80,
   "id": "bcae76c1-2792-4712-b1f6-635051a7b0c1",
   "metadata": {},
   "outputs": [],
   "source": [
    "lst.sort(reverse=True)"
   ]
  },
  {
   "cell_type": "code",
   "execution_count": 81,
   "id": "31b25686-5cd1-482e-ba5e-d3284fe49bd0",
   "metadata": {},
   "outputs": [
    {
     "data": {
      "text/plain": [
       "[20, 10, 5, 4, 4, 4, 4, 3, 3, 2, 1]"
      ]
     },
     "execution_count": 81,
     "metadata": {},
     "output_type": "execute_result"
    }
   ],
   "source": [
    "lst"
   ]
  },
  {
   "cell_type": "code",
   "execution_count": 82,
   "id": "8a981171-e365-4c2a-b684-b374e59265d0",
   "metadata": {},
   "outputs": [],
   "source": [
    "lst.reverse()"
   ]
  },
  {
   "cell_type": "code",
   "execution_count": 83,
   "id": "18861734-d4e4-4b06-9b78-8cc980049050",
   "metadata": {},
   "outputs": [
    {
     "data": {
      "text/plain": [
       "[1, 2, 3, 3, 4, 4, 4, 4, 5, 10, 20]"
      ]
     },
     "execution_count": 83,
     "metadata": {},
     "output_type": "execute_result"
    }
   ],
   "source": [
    "lst"
   ]
  },
  {
   "cell_type": "markdown",
   "id": "9964dd26-581c-4e2c-9fe6-96bb601d71f0",
   "metadata": {
    "jp-MarkdownHeadingCollapsed": true
   },
   "source": [
    "#### list concatenation"
   ]
  },
  {
   "cell_type": "code",
   "execution_count": 85,
   "id": "96776920-804c-48eb-9d42-7a9f1c387a73",
   "metadata": {},
   "outputs": [],
   "source": [
    "lst1 = [\"one\",\"two\",\"three\"]\n",
    "lst2 = [4,5,6]\n",
    "\n",
    "new_list = lst1 + lst2"
   ]
  },
  {
   "cell_type": "code",
   "execution_count": 87,
   "id": "6db012d4-458f-4403-a6a9-8176eeb886a9",
   "metadata": {},
   "outputs": [
    {
     "data": {
      "text/plain": [
       "['one', 'two', 'three', 4, 5, 6]"
      ]
     },
     "execution_count": 87,
     "metadata": {},
     "output_type": "execute_result"
    }
   ],
   "source": [
    "new_list"
   ]
  },
  {
   "cell_type": "code",
   "execution_count": 90,
   "id": "944a8a18-5427-4059-96c9-9b84c6c0705b",
   "metadata": {},
   "outputs": [
    {
     "data": {
      "text/plain": [
       "[5, 6, 7, 8]"
      ]
     },
     "execution_count": 90,
     "metadata": {},
     "output_type": "execute_result"
    }
   ],
   "source": [
    "### Nested list\n",
    "lst = [[1,2,3,4],[5,6,7,8],[10,20,30]]\n",
    "lst[1]"
   ]
  },
  {
   "cell_type": "code",
   "execution_count": 91,
   "id": "24ce448a-9a29-46eb-a5cd-ec0ea42da7c0",
   "metadata": {},
   "outputs": [
    {
     "data": {
      "text/plain": [
       "5"
      ]
     },
     "execution_count": 91,
     "metadata": {},
     "output_type": "execute_result"
    }
   ],
   "source": [
    "lst[1][0]"
   ]
  },
  {
   "cell_type": "code",
   "execution_count": 96,
   "id": "63519c15-54d2-4a24-8548-7274e4560b68",
   "metadata": {},
   "outputs": [
    {
     "data": {
      "text/plain": [
       "[1, 2, 3, 4, 5]"
      ]
     },
     "execution_count": 96,
     "metadata": {},
     "output_type": "execute_result"
    }
   ],
   "source": [
    "# list comprehensioin\n",
    "lst = [i for i in range(1,6)]\n",
    "lst"
   ]
  },
  {
   "cell_type": "code",
   "execution_count": 97,
   "id": "2a124362-2f06-4beb-8e2e-7ef58a6c9e3a",
   "metadata": {},
   "outputs": [],
   "source": [
    "lst = [[40,10,5],[2,1,4,3],[100,99,200]]\n",
    "sorted_sublist = [sorted(i) for i in lst]"
   ]
  },
  {
   "cell_type": "code",
   "execution_count": 104,
   "id": "22053dce-def2-4c2c-bbf8-9421d57d9e2d",
   "metadata": {},
   "outputs": [],
   "source": [
    "# sorted_sublist.sort() # we can use this also"
   ]
  },
  {
   "cell_type": "code",
   "execution_count": 105,
   "id": "0971c683-55c0-42c1-9d61-23f4528afc67",
   "metadata": {},
   "outputs": [],
   "source": [
    "# sorted_sublist"
   ]
  },
  {
   "cell_type": "code",
   "execution_count": 106,
   "id": "f1e79afa-7bea-4e72-9b4d-4898d4aaccde",
   "metadata": {},
   "outputs": [],
   "source": [
    "sorted_list = sorted(sorted_sublist,key=lambda x: x[0])"
   ]
  },
  {
   "cell_type": "code",
   "execution_count": 107,
   "id": "76b4e6c8-cdaf-4167-b2f5-e5df06dcc869",
   "metadata": {},
   "outputs": [
    {
     "data": {
      "text/plain": [
       "[[1, 2, 3, 4], [5, 10, 40], [99, 100, 200]]"
      ]
     },
     "execution_count": 107,
     "metadata": {},
     "output_type": "execute_result"
    }
   ],
   "source": [
    "sorted_list"
   ]
  },
  {
   "cell_type": "markdown",
   "id": "493353da-0868-4863-91b3-59c91d36d291",
   "metadata": {
    "jp-MarkdownHeadingCollapsed": true
   },
   "source": [
    "#### list comprehension"
   ]
  },
  {
   "cell_type": "code",
   "execution_count": 2,
   "id": "911ba154-0b9f-4cc0-ac9e-9c57fd78b964",
   "metadata": {},
   "outputs": [
    {
     "name": "stdout",
     "output_type": "stream",
     "text": [
      "[1, 2, 3, 4, 5, 6, 7, 8, 9, 10, 11, 12, 13, 14, 15, 16, 17, 18, 19]\n"
     ]
    }
   ],
   "source": [
    "lst = []\n",
    "for i in range(1,20):\n",
    "    lst.append(i)\n",
    "print(lst)"
   ]
  },
  {
   "cell_type": "code",
   "execution_count": 11,
   "id": "49d468f4-35a3-43b1-81ce-3da070a23dc6",
   "metadata": {
    "scrolled": true
   },
   "outputs": [
    {
     "name": "stdout",
     "output_type": "stream",
     "text": [
      "numlist : [1, 2, 3, 4, 5, 6, 7, 8, 9, 10, 11, 12, 13, 14, 15, 16, 17, 18, 19]\n",
      "squares : [1, 4, 9, 16, 25, 36, 49, 64, 81, 100, 121, 144, 169, 196, 225, 256, 289, 324, 361]\n",
      "evenlist : [2, 4, 6, 8, 10, 12, 14, 16, 18]\n",
      "nested_list : [[1, 2, 3, 4], [1, 2, 3, 4], [1, 2, 3, 4]]\n"
     ]
    }
   ],
   "source": [
    "numlist = [i for i in range(1,20)]\n",
    "print(\"numlist :\",numlist)\n",
    "\n",
    "squares = [i**2 for i in range(1,20)]\n",
    "print(\"squares :\",squares)\n",
    "\n",
    "evenlist = [i for i in range(1,20) if i%2 == 0]\n",
    "print(\"evenlist :\",evenlist)\n",
    "\n",
    "nested = [[i for i in range(1,5)] for j in range(3)]\n",
    "print(\"nested_list :\",nested)"
   ]
  },
  {
   "cell_type": "markdown",
   "id": "e7cc5575-7190-4ff8-bf68-55b32471d719",
   "metadata": {
    "jp-MarkdownHeadingCollapsed": true
   },
   "source": [
    "#### shallow vs deep copy\n",
    "1) assigning method or index method\n",
    "2) .copy method\n",
    "3) deep copy method"
   ]
  },
  {
   "cell_type": "markdown",
   "id": "7824daba-b3e8-4676-b9c9-a356dbf9d027",
   "metadata": {},
   "source": [
    "##### assign method"
   ]
  },
  {
   "cell_type": "code",
   "execution_count": 19,
   "id": "3d056c91-ae67-420e-a80d-21d5b778f9a0",
   "metadata": {},
   "outputs": [
    {
     "name": "stdout",
     "output_type": "stream",
     "text": [
      "[1, 2, 3, 4]\n"
     ]
    }
   ],
   "source": [
    "# 1d list\n",
    "lst1 = [1,2,3,4]\n",
    "lst2 = lst1\n",
    "print(lst2)"
   ]
  },
  {
   "cell_type": "code",
   "execution_count": 20,
   "id": "ae4a62ef-09a1-48fd-a992-d4384742fe88",
   "metadata": {},
   "outputs": [
    {
     "name": "stdout",
     "output_type": "stream",
     "text": [
      "list2 : [1, 200, 3, 4]\n",
      "list1 : [1, 200, 3, 4]\n",
      "2065138525760\n",
      "2065138525760\n"
     ]
    }
   ],
   "source": [
    "lst2[1] = 200\n",
    "print(\"list2 :\",lst2)\n",
    "print(\"list1 :\",lst1)\n",
    "\n",
    "print(id(lst2))\n",
    "print(id(lst1))"
   ]
  },
  {
   "cell_type": "code",
   "execution_count": 21,
   "id": "2ab33a2e-2819-4721-8618-615c1cabcc1d",
   "metadata": {},
   "outputs": [
    {
     "name": "stdout",
     "output_type": "stream",
     "text": [
      "[[1, 2, 3, 4], [5, 6, 7, 8]]\n"
     ]
    }
   ],
   "source": [
    "# multidim list\n",
    "lst1 = [[1,2,3,4],[5,6,7,8]]\n",
    "lst2 = lst1\n",
    "print(lst2)"
   ]
  },
  {
   "cell_type": "code",
   "execution_count": 22,
   "id": "cc51fcf7-2d81-48c5-9602-9af75d7dbd36",
   "metadata": {},
   "outputs": [
    {
     "name": "stdout",
     "output_type": "stream",
     "text": [
      "[[1, 2, 3, 4], [500, 6, 7, 8]]\n",
      "[[1, 2, 3, 4], [500, 6, 7, 8]]\n"
     ]
    }
   ],
   "source": [
    "lst2[1][0] = 500\n",
    "print(lst2)\n",
    "print(lst1)"
   ]
  },
  {
   "cell_type": "code",
   "execution_count": 23,
   "id": "523160f2-7768-4183-a6c4-99b66a4e30db",
   "metadata": {},
   "outputs": [
    {
     "name": "stdout",
     "output_type": "stream",
     "text": [
      "[1, 2, 3, 4]\n"
     ]
    }
   ],
   "source": [
    "##### .copy method\n",
    "\n",
    "# 1d list\n",
    "lst1 = [1,2,3,4]\n",
    "lst2 = lst1.copy()\n",
    "print(lst2)"
   ]
  },
  {
   "cell_type": "code",
   "execution_count": 24,
   "id": "e953ad97-aa03-4d2d-9336-9177bd4b931f",
   "metadata": {},
   "outputs": [
    {
     "name": "stdout",
     "output_type": "stream",
     "text": [
      "list2 : [1, 200, 3, 4]\n",
      "list1 : [1, 2, 3, 4]\n",
      "2065138345088\n",
      "2065138878976\n"
     ]
    }
   ],
   "source": [
    "lst2[1] = 200\n",
    "print(\"list2 :\",lst2)\n",
    "print(\"list1 :\",lst1)\n",
    "\n",
    "print(id(lst2))\n",
    "print(id(lst1))"
   ]
  },
  {
   "cell_type": "code",
   "execution_count": 28,
   "id": "2bb8ebcc-08f2-4c9a-8df9-5dca7d2b7797",
   "metadata": {},
   "outputs": [
    {
     "name": "stdout",
     "output_type": "stream",
     "text": [
      "[[1, 2, 3, 4], [5, 6, 7, 8]]\n"
     ]
    }
   ],
   "source": [
    "# multidim list\n",
    "lst1 = [[1,2,3,4],[5,6,7,8]]\n",
    "lst2 = lst1.copy()\n",
    "print(lst2)"
   ]
  },
  {
   "cell_type": "code",
   "execution_count": 29,
   "id": "da4ca908-ef6d-4e09-b0f9-5f1990ff3252",
   "metadata": {},
   "outputs": [
    {
     "name": "stdout",
     "output_type": "stream",
     "text": [
      "list2 : [[1, 2, 3, 4], [500, 6, 7, 8]]\n",
      "list1 : [[1, 2, 3, 4], [500, 6, 7, 8]]\n",
      "2065135914560\n",
      "2065138345088\n"
     ]
    }
   ],
   "source": [
    "lst2[1][0] = 500\n",
    "print(\"list2 :\",lst2)\n",
    "print(\"list1 :\",lst1)\n",
    "\n",
    "\n",
    "print(id(lst2))\n",
    "print(id(lst1))"
   ]
  },
  {
   "cell_type": "markdown",
   "id": "2fd16051-adc7-455d-bfb2-96467358cabf",
   "metadata": {},
   "source": [
    "##### deep copy method"
   ]
  },
  {
   "cell_type": "code",
   "execution_count": 31,
   "id": "18eed119-7fdb-4b22-9672-686882501ec7",
   "metadata": {},
   "outputs": [
    {
     "name": "stdout",
     "output_type": "stream",
     "text": [
      "[1, 2, 3, 4]\n"
     ]
    }
   ],
   "source": [
    "import copy\n",
    "\n",
    "# 1d list\n",
    "lst1 = [1,2,3,4]\n",
    "lst2 = copy.deepcopy(lst1)\n",
    "print(lst2)"
   ]
  },
  {
   "cell_type": "code",
   "execution_count": 32,
   "id": "512aecf7-7408-47a1-aad6-77e60442f0f0",
   "metadata": {},
   "outputs": [
    {
     "name": "stdout",
     "output_type": "stream",
     "text": [
      "list2 : [1, 200, 3, 4]\n",
      "list1 : [1, 2, 3, 4]\n",
      "2065136796672\n",
      "2065137406720\n"
     ]
    }
   ],
   "source": [
    "lst2[1] = 200\n",
    "print(\"list2 :\",lst2)\n",
    "print(\"list1 :\",lst1)\n",
    "\n",
    "print(id(lst2))\n",
    "print(id(lst1))"
   ]
  },
  {
   "cell_type": "code",
   "execution_count": 37,
   "id": "a7a64b24-fce5-47a7-a9dd-fae364f943b1",
   "metadata": {},
   "outputs": [
    {
     "name": "stdout",
     "output_type": "stream",
     "text": [
      "[[1, 2, 3, 4], [5, 6, 7, 8]]\n"
     ]
    }
   ],
   "source": [
    "# multidim list\n",
    "lst1 = [[1,2,3,4],[5,6,7,8]]\n",
    "lst2 = copy.deepcopy(lst1)\n",
    "print(lst2)"
   ]
  },
  {
   "cell_type": "code",
   "execution_count": 38,
   "id": "fa7cd13f-8cbc-4d45-8552-6ef384eebbb3",
   "metadata": {},
   "outputs": [
    {
     "name": "stdout",
     "output_type": "stream",
     "text": [
      "list2 : [[1, 2, 3, 4], [200, 6, 7, 8]]\n",
      "list1 : [[1, 2, 3, 4], [5, 6, 7, 8]]\n",
      "2065156198400\n",
      "2065156185600\n"
     ]
    }
   ],
   "source": [
    "lst2[1][0] = 200\n",
    "print(\"list2 :\",lst2)\n",
    "print(\"list1 :\",lst1)\n",
    "\n",
    "print(id(lst2))\n",
    "print(id(lst1))"
   ]
  },
  {
   "attachments": {
    "a0ea5459-5264-423c-a920-46525c4b51d5.png": {
     "image/png": "[encoded data removed]"
    }
   },
   "cell_type": "markdown",
   "id": "23cc8f93-9344-41f2-9974-3e602a6d47a3",
   "metadata": {},
   "source": [
    "![image.png](attachment:a0ea5459-5264-423c-a920-46525c4b51d5.png)"
   ]
  },
  {
   "cell_type": "markdown",
   "id": "c78d758b-f387-450f-be93-2039521df3cb",
   "metadata": {
    "jp-MarkdownHeadingCollapsed": true
   },
   "source": [
    "#### iteration in list"
   ]
  },
  {
   "cell_type": "code",
   "execution_count": 71,
   "id": "7297bcac-1e15-4255-b8c1-b11e06470ec0",
   "metadata": {},
   "outputs": [
    {
     "name": "stdout",
     "output_type": "stream",
     "text": [
      "1 2 3 4 5 6 7 8 9 "
     ]
    }
   ],
   "source": [
    "lst = [[1,2,3],[4,5,6],[7,8,9]]\n",
    "for i in lst:\n",
    "    for j in i:\n",
    "        print(j,end=\" \")"
   ]
  },
  {
   "cell_type": "code",
   "execution_count": 72,
   "id": "babed88a-27f5-44ad-970f-fdd4f1d9ef67",
   "metadata": {},
   "outputs": [
    {
     "name": "stdout",
     "output_type": "stream",
     "text": [
      "2 4 6 8 "
     ]
    }
   ],
   "source": [
    "lst = [[1,2,3],[4,5,6],[7,8,9]]\n",
    "for i in lst:\n",
    "    for j in i:\n",
    "        if j % 2 == 0:\n",
    "            print(j,end=\" \")"
   ]
  },
  {
   "cell_type": "markdown",
   "id": "ac6c7da7-124b-4d66-b4e7-d3caf318f19c",
   "metadata": {
    "jp-MarkdownHeadingCollapsed": true
   },
   "source": [
    "#### some builting functions"
   ]
  },
  {
   "cell_type": "code",
   "execution_count": 73,
   "id": "405f3591-199f-49e6-89b1-a6c6721bdb10",
   "metadata": {},
   "outputs": [
    {
     "name": "stdout",
     "output_type": "stream",
     "text": [
      "length : 4\n",
      "max : 4\n",
      "min : 1\n",
      "sum : 10\n",
      "index :0 , value :1\n",
      "index :1 , value :2\n",
      "index :2 , value :3\n",
      "index :3 , value :4\n"
     ]
    }
   ],
   "source": [
    "lst = [1,2,3,4]\n",
    "print(\"length :\",len(lst))\n",
    "print(\"max :\",max(lst))\n",
    "print(\"min :\",min(lst))\n",
    "print(\"sum :\",sum(lst))\n",
    "\n",
    "for index,values in enumerate(lst):\n",
    "    print(f\"index :{index} , value :{values}\")"
   ]
  },
  {
   "cell_type": "code",
   "execution_count": 74,
   "id": "e8afa706-55a8-42a6-8645-93ef02a67288",
   "metadata": {},
   "outputs": [
    {
     "name": "stdout",
     "output_type": "stream",
     "text": [
      "zipped : [(10, 30), (2, 40), (3, 50), (4, 60), (5, 3)]\n"
     ]
    }
   ],
   "source": [
    "lst1 = [10,2,3,4,5]\n",
    "lst2 = [30,40,50,60,3]\n",
    "\n",
    "zipped = list(zip(lst1,lst2))\n",
    "print(\"zipped :\",zipped)\n",
    "\n",
    "# mapped "
   ]
  },
  {
   "cell_type": "code",
   "execution_count": 3,
   "id": "48301241-7cc3-452e-988f-7936769ba662",
   "metadata": {},
   "outputs": [
    {
     "name": "stdout",
     "output_type": "stream",
     "text": [
      "zipped : [(10, 30), (2, 40), (3, 50), (4, 60), (5, 3)]\n",
      "[900, 1600, 2500, 3600, 9]\n"
     ]
    }
   ],
   "source": [
    "lst1 = [10,2,3,4,5]\n",
    "lst2 = [30,40,50,60,3]\n",
    "\n",
    "a = list(zip(lst1,lst2))\n",
    "print(\"zipped :\",a)\n",
    "\n",
    "b = list(map(lambda x:x**2,lst2))\n",
    "print(b)"
   ]
  },
  {
   "cell_type": "code",
   "execution_count": 4,
   "id": "3523de82-3675-41a8-b766-6a8fa90ab64a",
   "metadata": {},
   "outputs": [
    {
     "name": "stdout",
     "output_type": "stream",
     "text": [
      "[10, 3, 4, 5]\n"
     ]
    }
   ],
   "source": [
    "filt = list(filter(lambda x:x>2,lst1))\n",
    "print(filt)"
   ]
  },
  {
   "cell_type": "markdown",
   "id": "019cba5e-faa4-475c-9f67-7a94fdf6011c",
   "metadata": {
    "jp-MarkdownHeadingCollapsed": true
   },
   "source": [
    "### tuple -- They are also orderd collection of elements , Indexed , Immetuable , they are assinged in paranthesis"
   ]
  },
  {
   "cell_type": "code",
   "execution_count": 4,
   "id": "84810e87-028f-4834-813b-711d6cb97b5e",
   "metadata": {},
   "outputs": [
    {
     "data": {
      "text/plain": [
       "tuple"
      ]
     },
     "execution_count": 4,
     "metadata": {},
     "output_type": "execute_result"
    }
   ],
   "source": [
    "t = () # blank tuple\n",
    "type(t)"
   ]
  },
  {
   "cell_type": "code",
   "execution_count": 7,
   "id": "716d09f1-2271-4e62-bc81-17e7dce78696",
   "metadata": {},
   "outputs": [
    {
     "name": "stdout",
     "output_type": "stream",
     "text": [
      "<class 'tuple'>\n"
     ]
    }
   ],
   "source": [
    "t = (2,) # tuple with single element\n",
    "print(type(t))"
   ]
  },
  {
   "cell_type": "code",
   "execution_count": 9,
   "id": "8be98d41-3ac5-44c5-bf64-0756dea8a561",
   "metadata": {},
   "outputs": [
    {
     "name": "stdout",
     "output_type": "stream",
     "text": [
      "<class 'tuple'>\n"
     ]
    }
   ],
   "source": [
    "t = (2,3,4,True,\"string\")\n",
    "print(type(t))"
   ]
  },
  {
   "cell_type": "code",
   "execution_count": 10,
   "id": "7970a95d-f69a-4724-a0d9-1dfeafccbd4f",
   "metadata": {},
   "outputs": [
    {
     "data": {
      "text/plain": [
       "3"
      ]
     },
     "execution_count": 10,
     "metadata": {},
     "output_type": "execute_result"
    }
   ],
   "source": [
    "t[1]"
   ]
  },
  {
   "cell_type": "code",
   "execution_count": 11,
   "id": "3a6143bf-8a77-45f2-9766-f1df021d7736",
   "metadata": {},
   "outputs": [
    {
     "ename": "TypeError",
     "evalue": "'tuple' object does not support item assignment",
     "output_type": "error",
     "traceback": [
      "\u001b[1;31m---------------------------------------------------------------------------\u001b[0m",
      "\u001b[1;31mTypeError\u001b[0m                                 Traceback (most recent call last)",
      "Cell \u001b[1;32mIn[11], line 1\u001b[0m\n\u001b[1;32m----> 1\u001b[0m t[\u001b[38;5;241m1\u001b[39m] \u001b[38;5;241m=\u001b[39m \u001b[38;5;241m400\u001b[39m\n",
      "\u001b[1;31mTypeError\u001b[0m: 'tuple' object does not support item assignment"
     ]
    }
   ],
   "source": [
    "t[1] = 400"
   ]
  },
  {
   "cell_type": "code",
   "execution_count": 14,
   "id": "e4907b99-a15a-46ea-b718-4383bb9ea008",
   "metadata": {},
   "outputs": [
    {
     "name": "stdout",
     "output_type": "stream",
     "text": [
      "count 3\n",
      "index 2\n"
     ]
    }
   ],
   "source": [
    "# methods in tuple \n",
    "t = (2,3,4,5,6,7,1,2,2)\n",
    "print(\"count\",t.count(2))\n",
    "print(\"index\",t.index(4))"
   ]
  },
  {
   "cell_type": "code",
   "execution_count": 16,
   "id": "99597fa0-3e04-4fce-ab62-30f7e54554b1",
   "metadata": {},
   "outputs": [
    {
     "name": "stdout",
     "output_type": "stream",
     "text": [
      "1 2 3\n"
     ]
    }
   ],
   "source": [
    "# tuple unpacking\n",
    "a,b,c = (1,2,3)\n",
    "print(a,b,c)"
   ]
  },
  {
   "cell_type": "code",
   "execution_count": 17,
   "id": "9011dec4-4fcd-4a94-b50e-07696627e4bf",
   "metadata": {},
   "outputs": [
    {
     "ename": "ValueError",
     "evalue": "too many values to unpack (expected 3)",
     "output_type": "error",
     "traceback": [
      "\u001b[1;31m---------------------------------------------------------------------------\u001b[0m",
      "\u001b[1;31mValueError\u001b[0m                                Traceback (most recent call last)",
      "Cell \u001b[1;32mIn[17], line 1\u001b[0m\n\u001b[1;32m----> 1\u001b[0m a,b,c \u001b[38;5;241m=\u001b[39m (\u001b[38;5;241m1\u001b[39m,\u001b[38;5;241m2\u001b[39m,\u001b[38;5;241m3\u001b[39m,\u001b[38;5;241m4\u001b[39m,\u001b[38;5;241m5\u001b[39m)\n\u001b[0;32m      2\u001b[0m \u001b[38;5;28mprint\u001b[39m(a,b,c)\n",
      "\u001b[1;31mValueError\u001b[0m: too many values to unpack (expected 3)"
     ]
    }
   ],
   "source": [
    "a,b,c = (1,2,3,4,5)\n",
    "print(a,b,c)"
   ]
  },
  {
   "cell_type": "code",
   "execution_count": 18,
   "id": "4f267205-453d-4b33-9213-90fca19dafc1",
   "metadata": {},
   "outputs": [
    {
     "name": "stdout",
     "output_type": "stream",
     "text": [
      "1 [2, 3, 4] 5\n"
     ]
    }
   ],
   "source": [
    "a,*b,c = (1,2,3,4,5)\n",
    "print(a,b,c)"
   ]
  },
  {
   "cell_type": "code",
   "execution_count": 19,
   "id": "3d236702-1004-48a2-a8e2-c44089a35790",
   "metadata": {},
   "outputs": [
    {
     "name": "stdout",
     "output_type": "stream",
     "text": [
      "1 2 [3, 4, 5]\n"
     ]
    }
   ],
   "source": [
    "a,b,*c = (1,2,3,4,5)\n",
    "print(a,b,c)"
   ]
  },
  {
   "cell_type": "markdown",
   "id": "6c02e316-1ff3-49ca-ba1d-5133cefcc5a9",
   "metadata": {
    "jp-MarkdownHeadingCollapsed": true
   },
   "source": [
    "### sets --> They Unordered collection of Unique elements , Unindexed , Immutable"
   ]
  },
  {
   "cell_type": "code",
   "execution_count": 26,
   "id": "b9269a83-dc19-448c-a3d1-a411e7f0be23",
   "metadata": {},
   "outputs": [
    {
     "data": {
      "text/plain": [
       "dict"
      ]
     },
     "execution_count": 26,
     "metadata": {},
     "output_type": "execute_result"
    }
   ],
   "source": [
    "s = {}\n",
    "type(s)"
   ]
  },
  {
   "cell_type": "code",
   "execution_count": 27,
   "id": "70d8f404-21c7-43f1-b65c-890589fdc13c",
   "metadata": {},
   "outputs": [
    {
     "data": {
      "text/plain": [
       "set"
      ]
     },
     "execution_count": 27,
     "metadata": {},
     "output_type": "execute_result"
    }
   ],
   "source": [
    "s = {1,2,3}\n",
    "type(s)"
   ]
  },
  {
   "cell_type": "code",
   "execution_count": 29,
   "id": "3ac79ed2-bd60-4cba-b77f-1ee642fd7d3e",
   "metadata": {},
   "outputs": [
    {
     "data": {
      "text/plain": [
       "set"
      ]
     },
     "execution_count": 29,
     "metadata": {},
     "output_type": "execute_result"
    }
   ],
   "source": [
    "s = set() # create a blank set without putting elements\n",
    "type(s)"
   ]
  },
  {
   "cell_type": "code",
   "execution_count": 31,
   "id": "265be4fd-bc76-4d69-a169-29bc11e8e067",
   "metadata": {},
   "outputs": [
    {
     "name": "stdout",
     "output_type": "stream",
     "text": [
      "{1, 2, 3, 4, 5, 6}\n"
     ]
    }
   ],
   "source": [
    "lst = [1,1,1,2,2,3,4,5,6]\n",
    "s = set(lst) # stores only unique collection of elements\n",
    "print(s)"
   ]
  },
  {
   "cell_type": "code",
   "execution_count": 33,
   "id": "d7a5484d-7b39-472d-a06c-764e9ea5a556",
   "metadata": {},
   "outputs": [
    {
     "name": "stdout",
     "output_type": "stream",
     "text": [
      "{1, 2, 3, 4, 5, 6}\n"
     ]
    }
   ],
   "source": [
    "lst = [6,5,2,1,3,4]\n",
    "s = set(lst)\n",
    "print(s)"
   ]
  },
  {
   "cell_type": "code",
   "execution_count": 34,
   "id": "94bdff43-85ce-4883-93ae-20b296ba8931",
   "metadata": {},
   "outputs": [
    {
     "name": "stdout",
     "output_type": "stream",
     "text": [
      "{1, 2, 3, 4, 5, 6}\n"
     ]
    }
   ],
   "source": [
    "lst = {6,5,2,1,3,4}\n",
    "print(lst)"
   ]
  },
  {
   "cell_type": "markdown",
   "id": "c48bbbaf-6905-4610-8440-fba55472460e",
   "metadata": {},
   "source": [
    "#### methods in sets"
   ]
  },
  {
   "cell_type": "code",
   "execution_count": 35,
   "id": "f366f5b9-5610-4703-b742-fc5be5baf8e6",
   "metadata": {},
   "outputs": [],
   "source": [
    "s = set()\n",
    "s.add(2)"
   ]
  },
  {
   "cell_type": "code",
   "execution_count": 37,
   "id": "86661484-b81e-4023-a03a-62b7dc8b0c14",
   "metadata": {},
   "outputs": [],
   "source": [
    "s.add(3)"
   ]
  },
  {
   "cell_type": "code",
   "execution_count": 42,
   "id": "f5a33142-10c5-48d2-b118-61547e05e1fa",
   "metadata": {},
   "outputs": [],
   "source": [
    "s.update([4,5,6,7])"
   ]
  },
  {
   "cell_type": "code",
   "execution_count": 43,
   "id": "ded68558-4038-45e3-987c-a1f9d5487d64",
   "metadata": {},
   "outputs": [
    {
     "data": {
      "text/plain": [
       "{2, 3, 4, 5, 6, 7}"
      ]
     },
     "execution_count": 43,
     "metadata": {},
     "output_type": "execute_result"
    }
   ],
   "source": [
    "s"
   ]
  },
  {
   "cell_type": "code",
   "execution_count": 62,
   "id": "01483d65-f1d8-4c7b-885e-8006af1011e4",
   "metadata": {},
   "outputs": [
    {
     "name": "stdout",
     "output_type": "stream",
     "text": [
      "{1}\n",
      "{4}\n",
      "{2, 3}\n",
      "{1, 2, 3, 4}\n"
     ]
    }
   ],
   "source": [
    "# performing mathematical operations in set\n",
    "sett1 = {1,2,3}\n",
    "sett2 = {2,3,4}\n",
    "\n",
    "print(sett1.difference(sett2))\n",
    "print(sett2.difference(sett1))\n",
    "print(sett1.intersection(sett2))\n",
    "print(sett1.union(sett2))"
   ]
  },
  {
   "cell_type": "code",
   "execution_count": 63,
   "id": "6ac6d7b4-6633-4cb9-8633-dcfba52c5ce2",
   "metadata": {},
   "outputs": [],
   "source": [
    "# sett1.pop()"
   ]
  },
  {
   "cell_type": "code",
   "execution_count": 64,
   "id": "3f200287-2ce7-4d78-84c6-55598d64b5a2",
   "metadata": {},
   "outputs": [],
   "source": [
    "sett2.remove(2)"
   ]
  },
  {
   "cell_type": "code",
   "execution_count": 65,
   "id": "8afb9df1-a68b-4f1d-a349-05267dcb7f5b",
   "metadata": {},
   "outputs": [
    {
     "data": {
      "text/plain": [
       "{3, 4}"
      ]
     },
     "execution_count": 65,
     "metadata": {},
     "output_type": "execute_result"
    }
   ],
   "source": [
    "sett2"
   ]
  },
  {
   "cell_type": "code",
   "execution_count": 66,
   "id": "527f2c38-5a98-4c4c-831b-9cbca70693aa",
   "metadata": {},
   "outputs": [],
   "source": [
    "sett1.update(sett2)"
   ]
  },
  {
   "cell_type": "code",
   "execution_count": 67,
   "id": "e2e8e124-14ac-44a2-86d6-115a4bab1f3c",
   "metadata": {},
   "outputs": [
    {
     "data": {
      "text/plain": [
       "{1, 2, 3, 4}"
      ]
     },
     "execution_count": 67,
     "metadata": {},
     "output_type": "execute_result"
    }
   ],
   "source": [
    "sett1"
   ]
  },
  {
   "cell_type": "code",
   "execution_count": 69,
   "id": "25941c67-583b-469c-b05c-a6f1b8927be1",
   "metadata": {},
   "outputs": [],
   "source": [
    "sett1.update([7])"
   ]
  },
  {
   "cell_type": "code",
   "execution_count": 70,
   "id": "027b0db6-8aa7-4d95-824e-eb2d5279fd42",
   "metadata": {},
   "outputs": [
    {
     "data": {
      "text/plain": [
       "{1, 2, 3, 4, 7}"
      ]
     },
     "execution_count": 70,
     "metadata": {},
     "output_type": "execute_result"
    }
   ],
   "source": [
    "sett1"
   ]
  },
  {
   "cell_type": "markdown",
   "id": "093e3ed7-2f87-4f9e-8b28-faf9108a94ab",
   "metadata": {},
   "source": [
    "### dictionary -->  unordered collection of Key:Value Pair , Key are indexed and Values are Mutable"
   ]
  },
  {
   "cell_type": "code",
   "execution_count": 71,
   "id": "d00ff61e-a053-415b-9227-be60c581a8d4",
   "metadata": {},
   "outputs": [
    {
     "data": {
      "text/plain": [
       "dict"
      ]
     },
     "execution_count": 71,
     "metadata": {},
     "output_type": "execute_result"
    }
   ],
   "source": [
    "d = {}\n",
    "type(d)"
   ]
  },
  {
   "cell_type": "code",
   "execution_count": 72,
   "id": "2b8e6ac9-6ed1-487e-b402-4553052de92d",
   "metadata": {},
   "outputs": [],
   "source": [
    "dictt = {'key1':'value1','key2':'value2','key3':'value3'}"
   ]
  },
  {
   "cell_type": "code",
   "execution_count": 74,
   "id": "2aeb44d6-866c-4601-a66f-dc08c48720a0",
   "metadata": {},
   "outputs": [
    {
     "name": "stdout",
     "output_type": "stream",
     "text": [
      "400\n"
     ]
    }
   ],
   "source": [
    "price_lookup = {'apple':100,'mango':200,'banana':400,'chocolate':500}\n",
    "print(price_lookup['banana'])"
   ]
  },
  {
   "cell_type": "code",
   "execution_count": 75,
   "id": "b72b9804-70cf-42cd-a8e6-11110730cdb9",
   "metadata": {},
   "outputs": [
    {
     "ename": "NameError",
     "evalue": "name 'apple' is not defined",
     "output_type": "error",
     "traceback": [
      "\u001b[1;31m---------------------------------------------------------------------------\u001b[0m",
      "\u001b[1;31mNameError\u001b[0m                                 Traceback (most recent call last)",
      "Cell \u001b[1;32mIn[75], line 1\u001b[0m\n\u001b[1;32m----> 1\u001b[0m price_lookup \u001b[38;5;241m=\u001b[39m {apple:\u001b[38;5;241m100\u001b[39m,\u001b[38;5;124m'\u001b[39m\u001b[38;5;124mmango\u001b[39m\u001b[38;5;124m'\u001b[39m:\u001b[38;5;241m200\u001b[39m,\u001b[38;5;124m'\u001b[39m\u001b[38;5;124mbanana\u001b[39m\u001b[38;5;124m'\u001b[39m:\u001b[38;5;241m400\u001b[39m,\u001b[38;5;124m'\u001b[39m\u001b[38;5;124mchocolate\u001b[39m\u001b[38;5;124m'\u001b[39m:\u001b[38;5;241m500\u001b[39m}\n\u001b[0;32m      2\u001b[0m \u001b[38;5;28mprint\u001b[39m(price_lookup[\u001b[38;5;124m'\u001b[39m\u001b[38;5;124mbanana\u001b[39m\u001b[38;5;124m'\u001b[39m])\n",
      "\u001b[1;31mNameError\u001b[0m: name 'apple' is not defined"
     ]
    }
   ],
   "source": [
    "price_lookup = {apple:100,'mango':200,'banana':400,'chocolate':500}\n",
    "print(price_lookup['banana'])"
   ]
  },
  {
   "cell_type": "code",
   "execution_count": 79,
   "id": "a73e874b-06ce-4586-b01a-697f59cfeca0",
   "metadata": {},
   "outputs": [
    {
     "name": "stdout",
     "output_type": "stream",
     "text": [
      "400\n"
     ]
    }
   ],
   "source": [
    "apple = 200\n",
    "price_lookup = {apple:100,'mango':200,'banana':400,'chocolate':500}\n",
    "print(price_lookup['banana']) # we have to use quotes to define keys"
   ]
  },
  {
   "cell_type": "code",
   "execution_count": 80,
   "id": "00b07c90-7fe7-49bb-b7c8-9128f1e108d9",
   "metadata": {},
   "outputs": [],
   "source": [
    "# nested dictionary\n",
    "nested = {'k1':20,'k2':[2,3,4],'k3':{\"key\":\"indore\"}}"
   ]
  },
  {
   "cell_type": "code",
   "execution_count": 81,
   "id": "133dce4a-007f-461d-9be8-4511aec3da61",
   "metadata": {},
   "outputs": [],
   "source": [
    "nested['k4']=['a','b','c','d']"
   ]
  },
  {
   "cell_type": "code",
   "execution_count": 82,
   "id": "49da3211-791b-4ce8-aff5-243ec146e0f3",
   "metadata": {},
   "outputs": [
    {
     "data": {
      "text/plain": [
       "{'k1': 20,\n",
       " 'k2': [2, 3, 4],\n",
       " 'k3': {'key': 'indore'},\n",
       " 'k4': ['a', 'b', 'c', 'd']}"
      ]
     },
     "execution_count": 82,
     "metadata": {},
     "output_type": "execute_result"
    }
   ],
   "source": [
    "nested"
   ]
  },
  {
   "cell_type": "code",
   "execution_count": 86,
   "id": "6b1a3150-daf8-4f6b-8fbd-74966a93b634",
   "metadata": {},
   "outputs": [],
   "source": [
    "# update d --> D\n",
    "nested['k4'][-1] = 'D'"
   ]
  },
  {
   "cell_type": "code",
   "execution_count": 87,
   "id": "0188765e-767f-4c58-9c27-eda60c4939d8",
   "metadata": {},
   "outputs": [
    {
     "data": {
      "text/plain": [
       "{'k1': 20,\n",
       " 'k2': [2, 3, 4],\n",
       " 'k3': {'key': 'indore'},\n",
       " 'k4': ['a', 'b', 'c', 'D']}"
      ]
     },
     "execution_count": 87,
     "metadata": {},
     "output_type": "execute_result"
    }
   ],
   "source": [
    "nested"
   ]
  },
  {
   "cell_type": "markdown",
   "id": "a14041b0-15e5-46d6-ada2-f207ba43928b",
   "metadata": {},
   "source": [
    "##### methods"
   ]
  },
  {
   "cell_type": "code",
   "execution_count": 91,
   "id": "b7ee3d1f-6cc4-4405-a68e-84633a3b77aa",
   "metadata": {},
   "outputs": [
    {
     "name": "stdout",
     "output_type": "stream",
     "text": [
      "keys : dict_keys(['k1', 'k2', 'k3', 'k4'])\n",
      "values : dict_values([20, [2, 3, 4], {'key': 'indore'}, ['a', 'b', 'c', 'D']])\n",
      "items : dict_items([('k1', 20), ('k2', [2, 3, 4]), ('k3', {'key': 'indore'}), ('k4', ['a', 'b', 'c', 'D'])])\n"
     ]
    }
   ],
   "source": [
    "dictt = {'k1':20,'k2':[2,3,4],'k3':{\"key\":\"indore\"}, 'k4': ['a', 'b', 'c', 'D']}\n",
    "print(\"keys :\",dictt.keys())\n",
    "print(\"values :\",dictt.values())\n",
    "print(\"items :\",dictt.items())"
   ]
  },
  {
   "cell_type": "code",
   "execution_count": 94,
   "id": "afd741b6-4eb1-4469-a8ee-c117563cfa4d",
   "metadata": {},
   "outputs": [
    {
     "name": "stdout",
     "output_type": "stream",
     "text": [
      "keys : [2, 3, 4]\n",
      "keys : [2, 3, 4]\n"
     ]
    }
   ],
   "source": [
    "print(\"keys :\",dictt.get('k2'))\n",
    "print(\"keys :\",dictt['k2'])"
   ]
  },
  {
   "cell_type": "code",
   "execution_count": 98,
   "id": "c366f6dd-ade0-42f2-9461-f9000dea6992",
   "metadata": {},
   "outputs": [
    {
     "name": "stdout",
     "output_type": "stream",
     "text": [
      "keys : None\n"
     ]
    }
   ],
   "source": [
    "print(\"keys :\",dictt.get('k100')) #interview"
   ]
  },
  {
   "cell_type": "code",
   "execution_count": 99,
   "id": "483365b9-9963-4dbe-aed8-c3a671ca4d2e",
   "metadata": {},
   "outputs": [
    {
     "ename": "KeyError",
     "evalue": "'k99'",
     "output_type": "error",
     "traceback": [
      "\u001b[1;31m---------------------------------------------------------------------------\u001b[0m",
      "\u001b[1;31mKeyError\u001b[0m                                  Traceback (most recent call last)",
      "Cell \u001b[1;32mIn[99], line 1\u001b[0m\n\u001b[1;32m----> 1\u001b[0m \u001b[38;5;28mprint\u001b[39m(\u001b[38;5;124m\"\u001b[39m\u001b[38;5;124mkeys :\u001b[39m\u001b[38;5;124m\"\u001b[39m,dictt[\u001b[38;5;124m'\u001b[39m\u001b[38;5;124mk99\u001b[39m\u001b[38;5;124m'\u001b[39m])\n",
      "\u001b[1;31mKeyError\u001b[0m: 'k99'"
     ]
    }
   ],
   "source": [
    "print(\"keys :\",dictt['k99']) # interview"
   ]
  },
  {
   "cell_type": "code",
   "execution_count": 101,
   "id": "c5a8170e-ebfb-4832-b5d9-abef570f9cce",
   "metadata": {},
   "outputs": [],
   "source": [
    "# extract 'hello'\n",
    "d = {'k1':[{'nest_key':['this is deep',['hello']]}]}"
   ]
  },
  {
   "cell_type": "code",
   "execution_count": 105,
   "id": "bd8e375d-8043-410b-aa13-4d22fc35d237",
   "metadata": {},
   "outputs": [
    {
     "data": {
      "text/plain": [
       "['hello']"
      ]
     },
     "execution_count": 105,
     "metadata": {},
     "output_type": "execute_result"
    }
   ],
   "source": [
    "d['k1'][0]['nest_key'][1]"
   ]
  },
  {
   "cell_type": "code",
   "execution_count": 2,
   "id": "0f8e8412-a3f0-49b3-9c4b-38ce5fd7ec2c",
   "metadata": {},
   "outputs": [
    {
     "name": "stdout",
     "output_type": "stream",
     "text": [
      "{'Ten': 10, 'Twenty': 20, 'Thirty': 30}\n"
     ]
    }
   ],
   "source": [
    "# convert two list into dictionary\n",
    "keys = ['Ten', 'Twenty', 'Thirty']\n",
    "values = [10, 20, 30]\n",
    "new_dictionary = dict(zip(keys,values))\n",
    "print(new_dictionary)"
   ]
  },
  {
   "cell_type": "code",
   "execution_count": 10,
   "id": "7517a928-e303-48c6-abe1-3684db424b5f",
   "metadata": {},
   "outputs": [],
   "source": [
    "# Merge two Python dictionaries into one:\n",
    "dict1 = {'Ten': 10, 'Twenty': 20, 'Thirty': 30}\n",
    "dictt2 = {'Thirty':30,'Fourty':40,'Fifty':50}\n",
    "dict1.update(dictt2)"
   ]
  },
  {
   "cell_type": "code",
   "execution_count": 11,
   "id": "899284bf-ea32-466e-a612-667ed532aced",
   "metadata": {},
   "outputs": [
    {
     "data": {
      "text/plain": [
       "{'Ten': 10, 'Twenty': 20, 'Thirty': 30, 'Fourty': 40, 'Fifty': 50}"
      ]
     },
     "execution_count": 11,
     "metadata": {},
     "output_type": "execute_result"
    }
   ],
   "source": [
    "dict1"
   ]
  },
  {
   "cell_type": "code",
   "execution_count": 14,
   "id": "18df2151-d647-4ec7-b3a6-229cce02c7af",
   "metadata": {},
   "outputs": [
    {
     "name": "stdout",
     "output_type": "stream",
     "text": [
      "{'a': 1, 'p': 2, 'l': 1, 'e': 1}\n"
     ]
    }
   ],
   "source": [
    "s = 'apple'\n",
    "count = {} \n",
    "for i in s: \n",
    "    if i in count:\n",
    "        count[i] += 1\n",
    "    else:\n",
    "        count[i] = 1\n",
    "print(count)"
   ]
  },
  {
   "cell_type": "markdown",
   "id": "0e69a769-f119-4dd9-b92d-164af789cfae",
   "metadata": {
    "jp-MarkdownHeadingCollapsed": true
   },
   "source": [
    "## Functions\n",
    "Functions are the self content block of programms that allows us to create a block of programm  that can be executed many time without rewriting the entire block of code from scratch.\n",
    "\n",
    "Types of Functions:\n",
    "1) Inbuilt Functions or Built in functions\n",
    "2) User defined functions\n",
    "\n",
    " built in functions:\n",
    "   1) conversion functions --> int(), float() , list , tuple , set , dict\n",
    "   2) mathematcial functions --> min , max , count , sum , sort , pow()\n",
    "   3) iterable function --> range() , len() , enumerate() ,\n"
   ]
  },
  {
   "cell_type": "markdown",
   "id": "055a9026-610f-4d85-b1a3-487fb7adf020",
   "metadata": {
    "jp-MarkdownHeadingCollapsed": true
   },
   "source": [
    "#### Functions Basics"
   ]
  },
  {
   "cell_type": "code",
   "execution_count": 28,
   "id": "8eba7754-689f-4058-9de7-ea44f011009f",
   "metadata": {},
   "outputs": [
    {
     "name": "stdout",
     "output_type": "stream",
     "text": [
      "average : 20.0\n"
     ]
    }
   ],
   "source": [
    "a = 10\n",
    "b = 20\n",
    "c = 30\n",
    "avg = (a+b+c)/3\n",
    "print(\"average :\",avg)"
   ]
  },
  {
   "cell_type": "code",
   "execution_count": 17,
   "id": "6b51871f-ea31-43aa-8386-7063231292a1",
   "metadata": {},
   "outputs": [
    {
     "name": "stdout",
     "output_type": "stream",
     "text": [
      "average : 20.0\n",
      "average : 20.0\n",
      "average : 20.0\n"
     ]
    }
   ],
   "source": [
    "a = 10\n",
    "b = 20\n",
    "c = 30\n",
    "\n",
    "avg = (a+b+c)/3\n",
    "print(\"average :\",avg)\n",
    "\n",
    "a = 10\n",
    "b = 20\n",
    "c = 30\n",
    "\n",
    "avg = (a+b+c)/3\n",
    "print(\"average :\",avg)\n",
    "\n",
    "a = 10\n",
    "b = 20\n",
    "c = 30\n",
    "\n",
    "avg = (a+b+c)/3\n",
    "print(\"average :\",avg)"
   ]
  },
  {
   "cell_type": "code",
   "execution_count": 23,
   "id": "af40176f-bed7-40b2-b12c-7541272b0cda",
   "metadata": {},
   "outputs": [
    {
     "name": "stdout",
     "output_type": "stream",
     "text": [
      "average : 20.0\n",
      "average : 20.0\n",
      "average : 20.0\n"
     ]
    }
   ],
   "source": [
    "def avg(): # function definition\n",
    "    a = 10\n",
    "    b = 20\n",
    "    c = 30\n",
    "    avg = (a+b+c)/3\n",
    "    print(\"average :\",avg)\n",
    "avg() # function calling\n",
    "avg()\n",
    "avg()"
   ]
  },
  {
   "cell_type": "markdown",
   "id": "2d00e1e3-e727-47c3-ac04-6a8d484d2800",
   "metadata": {
    "jp-MarkdownHeadingCollapsed": true
   },
   "source": [
    "#### User defined functions are of two types\n",
    "1) with arguments/parameters\n",
    "   1) Positional arguments\n",
    "   2) keyword arguments\n",
    "   3) default arguments\n",
    "   4) arbitrary or variable length  arguments\n",
    "3) without arguments/parameters"
   ]
  },
  {
   "cell_type": "code",
   "execution_count": 29,
   "id": "bb57168e-5ec5-412c-a284-323a346db8ad",
   "metadata": {},
   "outputs": [
    {
     "name": "stdout",
     "output_type": "stream",
     "text": [
      "good day !\n"
     ]
    }
   ],
   "source": [
    "# function without arguments\n",
    "def greet():\n",
    "    print(\"good day !\")\n",
    "greet()"
   ]
  },
  {
   "cell_type": "code",
   "execution_count": 30,
   "id": "814540a3-9361-45d3-ba76-474fce3ec775",
   "metadata": {},
   "outputs": [
    {
     "name": "stdout",
     "output_type": "stream",
     "text": [
      "good day ! himanshu\n"
     ]
    }
   ],
   "source": [
    "# function with arguments/parameter\n",
    "def greet(name): # here name is parameter\n",
    "    print(\"good day ! \" + name)\n",
    "greet(\"himanshu\") # the value of parameter is passed in greet function calling"
   ]
  },
  {
   "cell_type": "markdown",
   "id": "01cac4a9-967c-4db7-b6e9-100bb0360e72",
   "metadata": {
    "jp-MarkdownHeadingCollapsed": true
   },
   "source": [
    "##### understanding print and return keywords"
   ]
  },
  {
   "cell_type": "code",
   "execution_count": 1,
   "id": "5dc1c77c-ba20-4763-8311-ae8942ec1129",
   "metadata": {},
   "outputs": [
    {
     "name": "stdout",
     "output_type": "stream",
     "text": [
      "5\n"
     ]
    }
   ],
   "source": [
    "# print\n",
    "def addition(a,b):\n",
    "    print(a+b)\n",
    "addition(2,3)"
   ]
  },
  {
   "cell_type": "code",
   "execution_count": 2,
   "id": "80ddcf12-46e9-499a-8b13-fbdd86303ea3",
   "metadata": {},
   "outputs": [
    {
     "name": "stdout",
     "output_type": "stream",
     "text": [
      "5\n"
     ]
    }
   ],
   "source": [
    "# print\n",
    "def addition(a,b):\n",
    "    print(a+b)\n",
    "result = addition(2,3)"
   ]
  },
  {
   "cell_type": "code",
   "execution_count": 3,
   "id": "1ecc0e12-61d7-4887-a71a-a94ec34b688c",
   "metadata": {},
   "outputs": [],
   "source": [
    "result"
   ]
  },
  {
   "cell_type": "code",
   "execution_count": 4,
   "id": "e13c1494-9534-4b97-81fc-6d356a4fdd3a",
   "metadata": {},
   "outputs": [
    {
     "name": "stdout",
     "output_type": "stream",
     "text": [
      "<class 'NoneType'>\n"
     ]
    }
   ],
   "source": [
    "print(type(result))"
   ]
  },
  {
   "cell_type": "code",
   "execution_count": 9,
   "id": "f287b421-a880-4e4a-b6b9-9a74fa9ae650",
   "metadata": {},
   "outputs": [
    {
     "data": {
      "text/plain": [
       "5"
      ]
     },
     "execution_count": 9,
     "metadata": {},
     "output_type": "execute_result"
    }
   ],
   "source": [
    "# return\n",
    "def addition(a,b):\n",
    "    return a+b\n",
    "addition(2,3)"
   ]
  },
  {
   "cell_type": "code",
   "execution_count": 6,
   "id": "1ebe241e-7040-4bf8-867c-50fb503c7435",
   "metadata": {},
   "outputs": [],
   "source": [
    "def addition(a,b):\n",
    "    return a+b\n",
    "result1 = addition(2,3)"
   ]
  },
  {
   "cell_type": "code",
   "execution_count": 7,
   "id": "59ac82b6-6deb-4495-8bd9-891028072178",
   "metadata": {},
   "outputs": [
    {
     "data": {
      "text/plain": [
       "5"
      ]
     },
     "execution_count": 7,
     "metadata": {},
     "output_type": "execute_result"
    }
   ],
   "source": [
    "result1"
   ]
  },
  {
   "cell_type": "code",
   "execution_count": 10,
   "id": "ac5be94c-10ba-4697-985f-0d843577b780",
   "metadata": {},
   "outputs": [
    {
     "name": "stdout",
     "output_type": "stream",
     "text": [
      "<class 'int'>\n"
     ]
    }
   ],
   "source": [
    "print(type(result1))\n",
    "# return allows us to store the result in a new variable "
   ]
  },
  {
   "cell_type": "markdown",
   "id": "2fc3ce83-1ddb-4f59-9073-ded24306a593",
   "metadata": {
    "jp-MarkdownHeadingCollapsed": true
   },
   "source": [
    "##### Positional argumnets"
   ]
  },
  {
   "cell_type": "code",
   "execution_count": 14,
   "id": "83d5ae42-dc0d-47fc-9414-4aecd213cd38",
   "metadata": {},
   "outputs": [
    {
     "name": "stdout",
     "output_type": "stream",
     "text": [
      "Hi his name is virat and his age is 35\n"
     ]
    }
   ],
   "source": [
    "def greet(name,age):\n",
    "    print(f\"Hi his name is {name} and his age is {age}\")\n",
    "greet(\"virat\",35)"
   ]
  },
  {
   "cell_type": "code",
   "execution_count": 15,
   "id": "b6aee643-b797-4178-ac4c-d1bd395c0e37",
   "metadata": {},
   "outputs": [
    {
     "name": "stdout",
     "output_type": "stream",
     "text": [
      "Hi welcome John Doe\n"
     ]
    }
   ],
   "source": [
    "# Question: Create a function greet(first_name, last_name) that takes a first name and a last name as positional arguments \n",
    "# and prints a greeting message. Call the function with the names \"John\" and \"Doe\".\n",
    "\n",
    "def greet(first_name, last_name):\n",
    "    print(f\"Hi welcome {first_name} {last_name}\")\n",
    "greet(\"John\" , \"Doe\")"
   ]
  },
  {
   "cell_type": "markdown",
   "id": "7d9d6a45-af3c-4750-ba51-f853dc4bb9cf",
   "metadata": {
    "jp-MarkdownHeadingCollapsed": true
   },
   "source": [
    "#####  Keyword arguement"
   ]
  },
  {
   "cell_type": "code",
   "execution_count": 17,
   "id": "9c4e872b-7535-45d1-86be-12aaf3f1b118",
   "metadata": {},
   "outputs": [
    {
     "name": "stdout",
     "output_type": "stream",
     "text": [
      "10 20 50\n"
     ]
    }
   ],
   "source": [
    "def show(a,b,c):\n",
    "    print(a,b,c)\n",
    "show(b=20,a=10,c=50)"
   ]
  },
  {
   "cell_type": "code",
   "execution_count": 51,
   "id": "9cf888da-75d9-4990-b983-e885f041f91e",
   "metadata": {},
   "outputs": [
    {
     "data": {
      "text/plain": [
       "20"
      ]
     },
     "execution_count": 51,
     "metadata": {},
     "output_type": "execute_result"
    }
   ],
   "source": [
    "# Question: Create a function calculate_area(length, width) that calculates the area of a rectangle. Call the function using keyword arguments \n",
    "# with length=5 and width=3.\n",
    "def calculate_area(length, width):\n",
    "    result = length*width\n",
    "    return result\n",
    "calculate_area(width=4,length=5)"
   ]
  },
  {
   "cell_type": "code",
   "execution_count": 53,
   "id": "1ebf3b9a-cd48-46ee-af76-67c707b698d0",
   "metadata": {},
   "outputs": [
    {
     "name": "stdout",
     "output_type": "stream",
     "text": [
      "Hi this is german shepherd and his name is Hind ka sitara\n"
     ]
    }
   ],
   "source": [
    "# Question: Write a function describe_pet(pet_name, pet_type) that prints a message describing a pet. \n",
    "# Call the function using keyword arguments with pet_name=\"Hind ka sitara\" and pet_type=\"german shepherd\".\n",
    "def describe_pet(pet_name, pet_type):\n",
    "    print(f\"Hi this is {pet_type} and his name is {pet_name}\")\n",
    "describe_pet(pet_name=\"Hind ka sitara\",pet_type=\"german shepherd\")"
   ]
  },
  {
   "cell_type": "markdown",
   "id": "49875738-1fa0-4d43-b4e1-7d5995e4ca44",
   "metadata": {
    "jp-MarkdownHeadingCollapsed": true
   },
   "source": [
    "##### Default arguments"
   ]
  },
  {
   "cell_type": "code",
   "execution_count": 22,
   "id": "73e7687c-1eec-4652-bd5f-37d74d9d98da",
   "metadata": {},
   "outputs": [
    {
     "name": "stdout",
     "output_type": "stream",
     "text": [
      "his name is yuvraj and he is from amritsar\n"
     ]
    }
   ],
   "source": [
    "def info(name,city):\n",
    "    print(\"his name is {} and he is from {}\".format(name,city))\n",
    "info(\"yuvraj\",\"amritsar\")"
   ]
  },
  {
   "cell_type": "code",
   "execution_count": 21,
   "id": "3b15e923-cde6-43c0-98ee-f31fb7b09ac0",
   "metadata": {},
   "outputs": [
    {
     "ename": "TypeError",
     "evalue": "info() missing 1 required positional argument: 'city'",
     "output_type": "error",
     "traceback": [
      "\u001b[1;31m---------------------------------------------------------------------------\u001b[0m",
      "\u001b[1;31mTypeError\u001b[0m                                 Traceback (most recent call last)",
      "Cell \u001b[1;32mIn[21], line 3\u001b[0m\n\u001b[0;32m      1\u001b[0m \u001b[38;5;28;01mdef\u001b[39;00m \u001b[38;5;21minfo\u001b[39m(name,city):\n\u001b[0;32m      2\u001b[0m     \u001b[38;5;28mprint\u001b[39m(\u001b[38;5;124m\"\u001b[39m\u001b[38;5;124mhis name is \u001b[39m\u001b[38;5;132;01m{}\u001b[39;00m\u001b[38;5;124m and he is from \u001b[39m\u001b[38;5;132;01m{}\u001b[39;00m\u001b[38;5;124m\"\u001b[39m\u001b[38;5;241m.\u001b[39mformat(name,city))\n\u001b[1;32m----> 3\u001b[0m info(\u001b[38;5;124m\"\u001b[39m\u001b[38;5;124myuvraj\u001b[39m\u001b[38;5;124m\"\u001b[39m)\n",
      "\u001b[1;31mTypeError\u001b[0m: info() missing 1 required positional argument: 'city'"
     ]
    }
   ],
   "source": [
    "def info(name,city):\n",
    "    print(\"his name is {} and he is from {}\".format(name,city))\n",
    "info(\"yuvraj\")"
   ]
  },
  {
   "cell_type": "code",
   "execution_count": 23,
   "id": "51a933ac-9305-4c92-9fcf-9d32354df16e",
   "metadata": {},
   "outputs": [
    {
     "name": "stdout",
     "output_type": "stream",
     "text": [
      "his name is yuvraj and he is from indore\n"
     ]
    }
   ],
   "source": [
    "def info(name,city=\"indore\"):\n",
    "    print(\"his name is {} and he is from {}\".format(name,city))\n",
    "info(\"yuvraj\")"
   ]
  },
  {
   "cell_type": "code",
   "execution_count": 24,
   "id": "ff0811e7-faad-48db-bbdc-15e0d6d99a47",
   "metadata": {},
   "outputs": [
    {
     "name": "stdout",
     "output_type": "stream",
     "text": [
      "his name is yuvraj and he is from mumbai\n"
     ]
    }
   ],
   "source": [
    "def info(name,city=\"indore\"):\n",
    "    print(\"his name is {} and he is from {}\".format(name,city))\n",
    "info(\"yuvraj\",\"mumbai\")"
   ]
  },
  {
   "cell_type": "code",
   "execution_count": 25,
   "id": "fec6cfcd-dced-4cf4-b44b-f2a956dde63c",
   "metadata": {},
   "outputs": [
    {
     "name": "stdout",
     "output_type": "stream",
     "text": [
      "his name is abc and he is from indore\n"
     ]
    }
   ],
   "source": [
    "def info(name=\"abc\",city=\"indore\"):\n",
    "    print(\"his name is {} and he is from {}\".format(name,city))\n",
    "info()"
   ]
  },
  {
   "cell_type": "code",
   "execution_count": 26,
   "id": "8db87d37-8d55-482e-ab32-bdebc4fe3599",
   "metadata": {},
   "outputs": [
    {
     "data": {
      "text/plain": [
       "16"
      ]
     },
     "execution_count": 26,
     "metadata": {},
     "output_type": "execute_result"
    }
   ],
   "source": [
    "# Question: Define a function power(base, exponent=2) that calculates the power of a number with a default exponent of 2. \n",
    "# Call the function with the base 4 and without specifying the exponent.\n",
    "def power(base, exponent=2):\n",
    "    result = base**exponent\n",
    "    return result\n",
    "power(4)"
   ]
  },
  {
   "cell_type": "code",
   "execution_count": 27,
   "id": "bc589b3b-cbee-4204-8902-38a3b3cf9f7d",
   "metadata": {},
   "outputs": [],
   "source": [
    "# Question: Write a function introduce(name, age=25) that prints a message introducing a person, with a default age of 25. \n",
    "# Call the function with the name \"Alice\"."
   ]
  },
  {
   "cell_type": "markdown",
   "id": "d349eb9a-7ab5-412e-8e31-b5f75b182da4",
   "metadata": {
    "jp-MarkdownHeadingCollapsed": true
   },
   "source": [
    "##### arbitrary or variable length arguments"
   ]
  },
  {
   "cell_type": "code",
   "execution_count": 29,
   "id": "49a3c8f4-9ca4-4119-a0ba-70011fdeadf7",
   "metadata": {},
   "outputs": [
    {
     "name": "stdout",
     "output_type": "stream",
     "text": [
      "Thankyou shrey for purchasing your mobile\n"
     ]
    }
   ],
   "source": [
    "def shopping(name,products):\n",
    "    print(f\"Thankyou {name} for purchasing your {products}\")\n",
    "shopping(\"shrey\",\"mobile\")"
   ]
  },
  {
   "cell_type": "code",
   "execution_count": 32,
   "id": "84ff8b36-4929-47f3-a44f-ea8c7693e298",
   "metadata": {},
   "outputs": [
    {
     "ename": "TypeError",
     "evalue": "shopping() takes 2 positional arguments but 3 were given",
     "output_type": "error",
     "traceback": [
      "\u001b[1;31m---------------------------------------------------------------------------\u001b[0m",
      "\u001b[1;31mTypeError\u001b[0m                                 Traceback (most recent call last)",
      "Cell \u001b[1;32mIn[32], line 3\u001b[0m\n\u001b[0;32m      1\u001b[0m \u001b[38;5;28;01mdef\u001b[39;00m \u001b[38;5;21mshopping\u001b[39m(name,products):\n\u001b[0;32m      2\u001b[0m     \u001b[38;5;28mprint\u001b[39m(\u001b[38;5;124mf\u001b[39m\u001b[38;5;124m\"\u001b[39m\u001b[38;5;124mThankyou \u001b[39m\u001b[38;5;132;01m{\u001b[39;00mname\u001b[38;5;132;01m}\u001b[39;00m\u001b[38;5;124m for purchasing your \u001b[39m\u001b[38;5;132;01m{\u001b[39;00mproducts\u001b[38;5;132;01m}\u001b[39;00m\u001b[38;5;124m\"\u001b[39m)\n\u001b[1;32m----> 3\u001b[0m shopping(\u001b[38;5;124m\"\u001b[39m\u001b[38;5;124mshrey\u001b[39m\u001b[38;5;124m\"\u001b[39m,\u001b[38;5;124m\"\u001b[39m\u001b[38;5;124mmobile\u001b[39m\u001b[38;5;124m\"\u001b[39m,\u001b[38;5;124m\"\u001b[39m\u001b[38;5;124mlaptop\u001b[39m\u001b[38;5;124m\"\u001b[39m)\n",
      "\u001b[1;31mTypeError\u001b[0m: shopping() takes 2 positional arguments but 3 were given"
     ]
    }
   ],
   "source": [
    "def shopping(name,products):\n",
    "    print(f\"Thankyou {name} for purchasing your {products}\")\n",
    "shopping(\"shrey\",\"mobile\",\"laptop\")"
   ]
  },
  {
   "cell_type": "code",
   "execution_count": 31,
   "id": "9720ec8f-aab1-46a3-a00e-5cec9fefcc25",
   "metadata": {},
   "outputs": [
    {
     "name": "stdout",
     "output_type": "stream",
     "text": [
      "Thankyou shrey for purchasing your ('mobile', 'laptop')\n"
     ]
    }
   ],
   "source": [
    "def shopping(name,*products):\n",
    "    print(f\"Thankyou {name} for purchasing your {products}\")\n",
    "shopping(\"shrey\",\"mobile\",\"laptop\")"
   ]
  },
  {
   "cell_type": "code",
   "execution_count": 40,
   "id": "0fd8f005-f33f-4305-baf6-752ec170a245",
   "metadata": {},
   "outputs": [
    {
     "name": "stdout",
     "output_type": "stream",
     "text": [
      "Thankyou shrey for purchasing your ('mobile', 'laptop')\n"
     ]
    }
   ],
   "source": [
    "def shopping(*products,name):\n",
    "    print(f\"Thankyou {name} for purchasing your {products}\")\n",
    "shopping(\"mobile\",\"laptop\",name=\"shrey\")"
   ]
  },
  {
   "cell_type": "code",
   "execution_count": 41,
   "id": "8228d988-f7d3-4563-82da-f2db59339296",
   "metadata": {},
   "outputs": [
    {
     "data": {
      "text/plain": [
       "15"
      ]
     },
     "execution_count": 41,
     "metadata": {},
     "output_type": "execute_result"
    }
   ],
   "source": [
    "# Question: Define a function sum_all(*numbers) that sums an arbitrary number of arguments. \n",
    "# Call the function with the numbers 1, 2, 3, 4, and 5.\n",
    "def sum_all(*numbers):\n",
    "    result = sum(numbers)\n",
    "    return result\n",
    "sum_all(1,2,3,4,5)"
   ]
  },
  {
   "cell_type": "code",
   "execution_count": 42,
   "id": "e59a0ccb-34a4-48c6-ab86-419afcfba582",
   "metadata": {},
   "outputs": [
    {
     "name": "stdout",
     "output_type": "stream",
     "text": [
      "my fav fruits are ('apple', 'banana', 'cherry')\n"
     ]
    }
   ],
   "source": [
    "# Question: Create a function list_fruits(*fruits) that takes an arbitrary number of fruit names and prints them. \n",
    "# Call the function with the fruit names \"apple\", \"banana\", and \"cherry\".\n",
    "def list_fruits(*fruits):\n",
    "    print(f\"my fav fruits are {fruits}\")\n",
    "list_fruits(\"apple\", \"banana\", \"cherry\")"
   ]
  },
  {
   "cell_type": "markdown",
   "id": "afd56ea8-3f67-4a62-b113-ad6c4fed2032",
   "metadata": {
    "jp-MarkdownHeadingCollapsed": true
   },
   "source": [
    "##### *args and **kwargs)"
   ]
  },
  {
   "cell_type": "code",
   "execution_count": 46,
   "id": "70361df7-d063-4ded-990d-b45a4cbb096d",
   "metadata": {},
   "outputs": [
    {
     "name": "stdout",
     "output_type": "stream",
     "text": [
      "('apple', 'banana', 'cherry')\n",
      "<class 'tuple'>\n"
     ]
    }
   ],
   "source": [
    "# *args\n",
    "def list_fruits(*fruits):\n",
    "    print(fruits)\n",
    "    print(type(fruits))\n",
    "list_fruits(\"apple\", \"banana\", \"cherry\")"
   ]
  },
  {
   "cell_type": "code",
   "execution_count": 48,
   "id": "faef12b5-368d-444b-afe2-e4c84b61d909",
   "metadata": {},
   "outputs": [
    {
     "name": "stdout",
     "output_type": "stream",
     "text": [
      "apple\n",
      "banana\n",
      "cherry\n"
     ]
    }
   ],
   "source": [
    "# *args\n",
    "def list_fruits(*fruits):\n",
    "    for i in fruits:\n",
    "        print(i)\n",
    "list_fruits(\"apple\", \"banana\", \"cherry\")"
   ]
  },
  {
   "cell_type": "code",
   "execution_count": 49,
   "id": "0c4f8305-5169-48ae-aa99-ce1873297604",
   "metadata": {},
   "outputs": [
    {
     "data": {
      "text/plain": [
       "24"
      ]
     },
     "execution_count": 49,
     "metadata": {},
     "output_type": "execute_result"
    }
   ],
   "source": [
    "# Question: Define a function multiply_all(*args) that multiplies an arbitrary number of arguments together. \n",
    "# Call the function with the numbers 2, 3, and 4.\n",
    "\n",
    "def multiply_all(*args):\n",
    "    result = 1\n",
    "    for i in args:\n",
    "        result *= i\n",
    "    return result\n",
    "multiply_all(2,3,4)"
   ]
  },
  {
   "cell_type": "code",
   "execution_count": 6,
   "id": "35734cc9-a57d-445d-b98c-554cabc52dee",
   "metadata": {},
   "outputs": [
    {
     "name": "stdout",
     "output_type": "stream",
     "text": [
      "{'fruit': 'mango', 'veggi': 'ladyfingure'}\n",
      "<class 'dict'>\n",
      "my fav are :{'fruit': 'mango', 'veggi': 'ladyfingure'}\n"
     ]
    }
   ],
   "source": [
    "# kwargs ---> **kwargs\n",
    "\n",
    "def myfunc(**kwargs):\n",
    "    print(kwargs)\n",
    "    print(type(kwargs))\n",
    "    print(f\"my fav are :{kwargs}\")\n",
    "myfunc(fruit='mango',veggi='ladyfingure')"
   ]
  },
  {
   "cell_type": "code",
   "execution_count": 13,
   "id": "9cc078ea-bda4-429d-8dc4-290a1863a171",
   "metadata": {},
   "outputs": [
    {
     "name": "stdout",
     "output_type": "stream",
     "text": [
      "my fav is : mango\n"
     ]
    }
   ],
   "source": [
    "def myfunc(**kwargs):\n",
    "    print(f\"my fav is : {kwargs['fruit']}\")\n",
    "myfunc(fruit='mango',veggi='ladyfinger')"
   ]
  },
  {
   "cell_type": "code",
   "execution_count": 12,
   "id": "9ad5c30d-0a67-4ba3-b942-37f03a3940a1",
   "metadata": {},
   "outputs": [
    {
     "name": "stdout",
     "output_type": "stream",
     "text": [
      "found nothing\n"
     ]
    }
   ],
   "source": [
    "def myfunc(**kwargs):\n",
    "    if 'fruits' in kwargs:\n",
    "        print(f\"my fav is {kwargs['fruit']}\")\n",
    "    else:\n",
    "        print(\"found nothing\")\n",
    "myfunc(fruit='mango',veggi='ladyfinger')"
   ]
  },
  {
   "cell_type": "code",
   "execution_count": 14,
   "id": "76e2f6ac-8d1a-40b8-8e34-553dfa101b7a",
   "metadata": {},
   "outputs": [
    {
     "ename": "ValueError",
     "evalue": "too many values to unpack (expected 2)",
     "output_type": "error",
     "traceback": [
      "\u001b[1;31m---------------------------------------------------------------------------\u001b[0m",
      "\u001b[1;31mValueError\u001b[0m                                Traceback (most recent call last)",
      "Cell \u001b[1;32mIn[14], line 4\u001b[0m\n\u001b[0;32m      2\u001b[0m     \u001b[38;5;28;01mfor\u001b[39;00m key,value \u001b[38;5;129;01min\u001b[39;00m kwargs:\n\u001b[0;32m      3\u001b[0m         \u001b[38;5;28mprint\u001b[39m(\u001b[38;5;124mf\u001b[39m\u001b[38;5;124m\"\u001b[39m\u001b[38;5;132;01m{\u001b[39;00mkey\u001b[38;5;132;01m}\u001b[39;00m\u001b[38;5;124m : \u001b[39m\u001b[38;5;132;01m{\u001b[39;00mvalue\u001b[38;5;132;01m}\u001b[39;00m\u001b[38;5;124m\"\u001b[39m)\n\u001b[1;32m----> 4\u001b[0m myfunc(fruit\u001b[38;5;241m=\u001b[39m\u001b[38;5;124m'\u001b[39m\u001b[38;5;124mmango\u001b[39m\u001b[38;5;124m'\u001b[39m,veggi\u001b[38;5;241m=\u001b[39m\u001b[38;5;124m'\u001b[39m\u001b[38;5;124mladyfinger\u001b[39m\u001b[38;5;124m'\u001b[39m)\n",
      "Cell \u001b[1;32mIn[14], line 2\u001b[0m, in \u001b[0;36mmyfunc\u001b[1;34m(**kwargs)\u001b[0m\n\u001b[0;32m      1\u001b[0m \u001b[38;5;28;01mdef\u001b[39;00m \u001b[38;5;21mmyfunc\u001b[39m(\u001b[38;5;241m*\u001b[39m\u001b[38;5;241m*\u001b[39mkwargs):\n\u001b[1;32m----> 2\u001b[0m     \u001b[38;5;28;01mfor\u001b[39;00m key,value \u001b[38;5;129;01min\u001b[39;00m kwargs:\n\u001b[0;32m      3\u001b[0m         \u001b[38;5;28mprint\u001b[39m(\u001b[38;5;124mf\u001b[39m\u001b[38;5;124m\"\u001b[39m\u001b[38;5;132;01m{\u001b[39;00mkey\u001b[38;5;132;01m}\u001b[39;00m\u001b[38;5;124m : \u001b[39m\u001b[38;5;132;01m{\u001b[39;00mvalue\u001b[38;5;132;01m}\u001b[39;00m\u001b[38;5;124m\"\u001b[39m)\n",
      "\u001b[1;31mValueError\u001b[0m: too many values to unpack (expected 2)"
     ]
    }
   ],
   "source": [
    "def myfunc(**kwargs):\n",
    "    for key,value in kwargs:\n",
    "        print(f\"{key} : {value}\")\n",
    "myfunc(fruit='mango',veggi='ladyfinger')"
   ]
  },
  {
   "cell_type": "code",
   "execution_count": 16,
   "id": "d54f0c4f-3335-43e5-b024-04905bc62c3a",
   "metadata": {},
   "outputs": [
    {
     "name": "stdout",
     "output_type": "stream",
     "text": [
      "fruit : mango\n",
      "veggi : ladyfinger\n"
     ]
    }
   ],
   "source": [
    "def myfunc(**kwargs):\n",
    "    for key,value in kwargs.items():\n",
    "        print(f\"{key} : {value}\")\n",
    "myfunc(fruit='mango',veggi='ladyfinger')"
   ]
  },
  {
   "cell_type": "code",
   "execution_count": 17,
   "id": "b66eaf7f-8d44-4cd9-b241-87bad10a42aa",
   "metadata": {},
   "outputs": [],
   "source": [
    "# Question: Create a function print_kwargs(**kwargs) that prints each key-value pair. Call the function with the keyword arguments \n",
    "# name=\"Bob\", age=27, and city=\"Boston\"."
   ]
  },
  {
   "cell_type": "code",
   "execution_count": 19,
   "id": "9f47cc66-0c8b-475c-82ef-55aa89647ae2",
   "metadata": {},
   "outputs": [
    {
     "name": "stdout",
     "output_type": "stream",
     "text": [
      "profile of candiate : {'first_name': 'John', 'last_name': 'Doe', 'profession': 'Engineer'}\n"
     ]
    }
   ],
   "source": [
    "# Question: Write a function build_profile(**kwargs) that builds and prints a profile from keyword arguments.\n",
    "# Call the function with the keyword arguments first_name=\"John\", last_name=\"Doe\", and profession=\"Engineer\".\n",
    "\n",
    "def build_profile(**kwargs):\n",
    "    profile = {}\n",
    "    for key,value in kwargs.items():\n",
    "        profile[key]=value\n",
    "    print(\"profile of candiate :\",profile)\n",
    "build_profile(first_name=\"John\", last_name=\"Doe\", profession=\"Engineer\")"
   ]
  },
  {
   "cell_type": "markdown",
   "id": "17746464-6cea-420a-b41e-d473029d3e70",
   "metadata": {},
   "source": [
    "#### Nested statements/functions and Scope in python\n",
    "\n",
    "Scope --\n",
    "\n",
    "LEGB Rule\n",
    "\n",
    "L-->Local --> Names assigned in any way within a function (def or lambda), and not declared global in that function.\n",
    "\n",
    "E-->Enclosing function locals - Names in the local scope of any and all enclosing functions (def or lambda), from inner to outer.\n",
    "\n",
    "G-->Global (module) - Names assigned at the top-level of a module file, or declared global in a def within the file.\n",
    "\n",
    "B--> Built-in (Python) - Names preassigned in the built-in names module: open, range, SyntaxError,..."
   ]
  },
  {
   "cell_type": "markdown",
   "id": "9c3e7116-ec84-4765-8908-cd5a9150f25c",
   "metadata": {
    "jp-MarkdownHeadingCollapsed": true
   },
   "source": [
    "##### Local Scope or Local variable\n",
    "\n",
    "Local variables are defined within a function and are only accessible within that function. They are created when the function is called and destroyed when the function exits."
   ]
  },
  {
   "cell_type": "code",
   "execution_count": 20,
   "id": "b519c1f3-2912-4d41-b34e-f64109411536",
   "metadata": {},
   "outputs": [
    {
     "name": "stdout",
     "output_type": "stream",
     "text": [
      "Inside the function , Local_var : 10\n"
     ]
    }
   ],
   "source": [
    "def myfunc():\n",
    "    local_var = 10\n",
    "    print(\"Inside the function , Local_var :\",local_var)\n",
    "myfunc()"
   ]
  },
  {
   "cell_type": "code",
   "execution_count": 24,
   "id": "1d27a915-5a85-4482-b0e7-5d6d6cde4390",
   "metadata": {
    "scrolled": true
   },
   "outputs": [
    {
     "name": "stdout",
     "output_type": "stream",
     "text": [
      "Inside the function , Local_var : 10\n"
     ]
    },
    {
     "ename": "NameError",
     "evalue": "name 'local_var' is not defined",
     "output_type": "error",
     "traceback": [
      "\u001b[1;31m---------------------------------------------------------------------------\u001b[0m",
      "\u001b[1;31mNameError\u001b[0m                                 Traceback (most recent call last)",
      "Cell \u001b[1;32mIn[24], line 5\u001b[0m\n\u001b[0;32m      3\u001b[0m     \u001b[38;5;28mprint\u001b[39m(\u001b[38;5;124m\"\u001b[39m\u001b[38;5;124mInside the function , Local_var :\u001b[39m\u001b[38;5;124m\"\u001b[39m,local_var)\n\u001b[0;32m      4\u001b[0m myfunc()\n\u001b[1;32m----> 5\u001b[0m \u001b[38;5;28mprint\u001b[39m(\u001b[38;5;124m\"\u001b[39m\u001b[38;5;124mOutside the function , Local_var :\u001b[39m\u001b[38;5;124m\"\u001b[39m,local_var)\n",
      "\u001b[1;31mNameError\u001b[0m: name 'local_var' is not defined"
     ]
    }
   ],
   "source": [
    "def myfunc():\n",
    "    local_var = 10\n",
    "    print(\"Inside the function , Local_var :\",local_var)\n",
    "myfunc()\n",
    "print(\"Outside the function , Local_var :\",local_var) # we can not access local variable outside the function"
   ]
  },
  {
   "cell_type": "code",
   "execution_count": 2,
   "id": "1090be08-ffc9-47d7-8808-aa37766f8cc4",
   "metadata": {},
   "outputs": [
    {
     "name": "stdout",
     "output_type": "stream",
     "text": [
      "area of circle : 314.0\n"
     ]
    }
   ],
   "source": [
    "# find area of circle \n",
    "def CircleArea(radius):\n",
    "    pi = 3.14\n",
    "    area = pi * radius**2\n",
    "    print(\"area of circle :\",area)\n",
    "CircleArea(10)"
   ]
  },
  {
   "cell_type": "markdown",
   "id": "c1dbd76b-1330-4be0-af37-c019ed14f321",
   "metadata": {
    "jp-MarkdownHeadingCollapsed": true
   },
   "source": [
    "##### Global variable\n",
    "\n",
    "Global variables are defined outside of any function and are accessible from any function within the same module. They exist for the duration of the program."
   ]
  },
  {
   "cell_type": "code",
   "execution_count": 4,
   "id": "26480899-57d8-48f6-9068-f560e03d6788",
   "metadata": {},
   "outputs": [
    {
     "name": "stdout",
     "output_type": "stream",
     "text": [
      "inside the function , global_var : 10\n"
     ]
    }
   ],
   "source": [
    "global_var = 10\n",
    "def myfunc():\n",
    "    print(\"inside the function , global_var :\",global_var)\n",
    "myfunc()"
   ]
  },
  {
   "cell_type": "code",
   "execution_count": 5,
   "id": "f58fdc72-0bcd-41ff-be84-edb8cdbd64cd",
   "metadata": {},
   "outputs": [
    {
     "name": "stdout",
     "output_type": "stream",
     "text": [
      "inside the function , global_var : 10\n",
      "Outside the function , global_var : 10\n"
     ]
    }
   ],
   "source": [
    "global_var = 10\n",
    "def myfunc():\n",
    "    print(\"inside the function , global_var :\",global_var)\n",
    "myfunc()\n",
    "print(\"Outside the function , global_var :\",global_var)"
   ]
  },
  {
   "cell_type": "code",
   "execution_count": 8,
   "id": "0e04752a-967b-4321-90d5-0777ea7e2fa9",
   "metadata": {},
   "outputs": [
    {
     "name": "stdout",
     "output_type": "stream",
     "text": [
      "Hi i am local variable and priority is given to me : 20\n"
     ]
    }
   ],
   "source": [
    "# when global and local variable are of same name , then priority is given to local variable\n",
    "a = 10\n",
    "def show():\n",
    "    a = 20\n",
    "    print(\"Hi i am local variable and priority is given to me :\",a)\n",
    "show()"
   ]
  },
  {
   "cell_type": "code",
   "execution_count": 9,
   "id": "efb4a0ef-47dd-457f-9695-53c456987a5b",
   "metadata": {},
   "outputs": [
    {
     "name": "stdout",
     "output_type": "stream",
     "text": [
      "Hi i am local variable and priority is given to me : 20\n",
      "i am global variable : 10\n"
     ]
    }
   ],
   "source": [
    "a = 10\n",
    "def show():\n",
    "    a = 20\n",
    "    print(\"Hi i am local variable and priority is given to me :\",a)\n",
    "show()\n",
    "print(\"i am global variable :\",a)"
   ]
  },
  {
   "cell_type": "code",
   "execution_count": 12,
   "id": "9de21fb9-a92f-425e-b5ed-300a9985f0a5",
   "metadata": {},
   "outputs": [
    {
     "name": "stdout",
     "output_type": "stream",
     "text": [
      "Inside the function , Local_var : 10\n",
      "Inside the function , Local_var : 10\n"
     ]
    }
   ],
   "source": [
    "def myfunc():\n",
    "    global local_var\n",
    "    local_var = 10\n",
    "    print(\"Inside the function , Local_var :\",local_var)\n",
    "myfunc()\n",
    "print(\"Inside the function , Local_var :\",local_var)"
   ]
  },
  {
   "cell_type": "code",
   "execution_count": 14,
   "id": "4a915c76-9c02-4b32-a8df-c28fe5bd8dc0",
   "metadata": {},
   "outputs": [
    {
     "name": "stdout",
     "output_type": "stream",
     "text": [
      "3\n"
     ]
    }
   ],
   "source": [
    "count = 2\n",
    "def incremet():\n",
    "    global count\n",
    "    count = count + 1\n",
    "    print(count)\n",
    "incremet()"
   ]
  },
  {
   "cell_type": "code",
   "execution_count": 15,
   "id": "ebaa93f2-2ef7-46f7-957c-fdad5a472749",
   "metadata": {},
   "outputs": [
    {
     "name": "stdout",
     "output_type": "stream",
     "text": [
      "3\n",
      "3\n"
     ]
    }
   ],
   "source": [
    "count = 2\n",
    "def incremet():\n",
    "    global count\n",
    "    count = count + 1\n",
    "    print(count)\n",
    "incremet()\n",
    "print(count)"
   ]
  },
  {
   "cell_type": "markdown",
   "id": "16583c9a-509a-4909-990f-49cf547b08a7",
   "metadata": {
    "jp-MarkdownHeadingCollapsed": true
   },
   "source": [
    "##### Nested and Enclosing scope"
   ]
  },
  {
   "cell_type": "code",
   "execution_count": 16,
   "id": "4fcf6259-f1de-4489-aca4-b540ad978479",
   "metadata": {},
   "outputs": [
    {
     "name": "stdout",
     "output_type": "stream",
     "text": [
      "i am local variable : 30\n"
     ]
    }
   ],
   "source": [
    "a = 10 # global variable\n",
    "def outer():\n",
    "    a = 20 # local variable for outer scope and Enclosing variable for inner scope\n",
    "    def inner():\n",
    "        a = 30 # local variable for inner scope\n",
    "        print(\"i am local variable :\",a)\n",
    "    inner()\n",
    "outer()"
   ]
  },
  {
   "cell_type": "code",
   "execution_count": 17,
   "id": "c93bb285-12d9-431f-a6f8-bc5eaa2fdef0",
   "metadata": {},
   "outputs": [
    {
     "name": "stdout",
     "output_type": "stream",
     "text": [
      "i am local variable : 20\n"
     ]
    }
   ],
   "source": [
    "a = 10 # global variable\n",
    "def outer():\n",
    "    a = 20 # local variable for outer scope and Enclosing variable for inner scope\n",
    "    def inner():\n",
    "        # a = 30 # local variable for inner scope\n",
    "        print(\"i am local variable :\",a)\n",
    "    inner()\n",
    "outer()"
   ]
  },
  {
   "cell_type": "code",
   "execution_count": 18,
   "id": "b1790621-6b00-4fb9-8da6-e471ffb64829",
   "metadata": {},
   "outputs": [
    {
     "name": "stdout",
     "output_type": "stream",
     "text": [
      "i am local variable : 10\n"
     ]
    }
   ],
   "source": [
    "a = 10 # global variable\n",
    "def outer():\n",
    "    # a = 20 # local variable for outer scope and Enclosing variable for inner scope\n",
    "    def inner():\n",
    "        # a = 30 # local variable for inner scope\n",
    "        print(\"i am local variable :\",a)\n",
    "    inner()\n",
    "outer()"
   ]
  },
  {
   "cell_type": "code",
   "execution_count": 2,
   "id": "12031142-0317-4611-a9fc-b2424b8b01c9",
   "metadata": {},
   "outputs": [
    {
     "name": "stdout",
     "output_type": "stream",
     "text": [
      "i am local variable : 3.141592653589793\n"
     ]
    }
   ],
   "source": [
    "from math import pi\n",
    "def outer():\n",
    "    def inner():\n",
    "        print(\"i am local variable :\",pi)\n",
    "    inner()\n",
    "outer()"
   ]
  },
  {
   "cell_type": "markdown",
   "id": "8d779166-9111-4138-8740-4bfed4b8accf",
   "metadata": {},
   "source": [
    "##### Anonymous Function (Lambda Function)\n",
    "\n",
    "Lambda function can take any number of argumets , but can have only one expression\n",
    "\n",
    "or A function without def key word or expression\n",
    "\n",
    "Anonymous function(A function without name)"
   ]
  },
  {
   "cell_type": "code",
   "execution_count": 1,
   "id": "6d4ead78-b392-4e36-9607-856aa31f128b",
   "metadata": {},
   "outputs": [],
   "source": [
    "# syntax --> lambda arguments : expression"
   ]
  },
  {
   "cell_type": "code",
   "execution_count": 2,
   "id": "a2b176c7-5c9b-4b0f-8371-e5c8b84f568a",
   "metadata": {},
   "outputs": [
    {
     "data": {
      "text/plain": [
       "15"
      ]
     },
     "execution_count": 2,
     "metadata": {},
     "output_type": "execute_result"
    }
   ],
   "source": [
    "# regular\n",
    "def addall(x):\n",
    "    return x + 5\n",
    "addall(10)"
   ]
  },
  {
   "cell_type": "code",
   "execution_count": 4,
   "id": "1a333f89-514a-4ea2-86cb-1e2721c4ee60",
   "metadata": {},
   "outputs": [
    {
     "data": {
      "text/plain": [
       "10"
      ]
     },
     "execution_count": 4,
     "metadata": {},
     "output_type": "execute_result"
    }
   ],
   "source": [
    "# lambda function\n",
    "result = lambda x : x + 5\n",
    "result(5)"
   ]
  },
  {
   "cell_type": "code",
   "execution_count": 5,
   "id": "8592dafc-5e5d-4bfa-ae9a-4ebb39d06485",
   "metadata": {},
   "outputs": [
    {
     "data": {
      "text/plain": [
       "6"
      ]
     },
     "execution_count": 5,
     "metadata": {},
     "output_type": "execute_result"
    }
   ],
   "source": [
    "# multiply x * y\n",
    "multiplication = lambda x,y : x * y\n",
    "multiplication(2,3)"
   ]
  },
  {
   "cell_type": "code",
   "execution_count": 10,
   "id": "e9af7c83-9dbf-45e9-a67e-960f7be5fbee",
   "metadata": {},
   "outputs": [
    {
     "name": "stdout",
     "output_type": "stream",
     "text": [
      "enter string : indore\n",
      "length of indore is 6\n",
      "length of indore is 6\n"
     ]
    },
    {
     "name": "stdout",
     "output_type": "stream",
     "text": [
      "length of indore is 6\n"
     ]
    }
   ],
   "source": [
    "# Q.return the length of the string\n",
    "string = input(\"enter string :\")\n",
    "L = lambda string : print(f\"length of {string} is {len(string)}\")\n",
    "L(string)"
   ]
  },
  {
   "cell_type": "code",
   "execution_count": 12,
   "id": "e88fc3c8-1123-4492-be27-8b0129737145",
   "metadata": {},
   "outputs": [
    {
     "data": {
      "text/plain": [
       "[1, 4, 9, 16, 25, 36, 49, 64, 81, 100]"
      ]
     },
     "execution_count": 12,
     "metadata": {},
     "output_type": "execute_result"
    }
   ],
   "source": [
    "# Q.convert the list of integers to their corresponding square values\n",
    "num = [1,2,3,4,5,6,7,8,9,10]\n",
    "squares = list(map(lambda i : i**2 , num))\n",
    "squares"
   ]
  },
  {
   "cell_type": "code",
   "execution_count": 13,
   "id": "75d69154-d62a-4ce6-8524-fed2dd54ec23",
   "metadata": {},
   "outputs": [
    {
     "data": {
      "text/plain": [
       "[2, 4, 6, 8, 10]"
      ]
     },
     "execution_count": 13,
     "metadata": {},
     "output_type": "execute_result"
    }
   ],
   "source": [
    "# Q.filter out even numbers from a list\n",
    "num = [1,2,3,4,5,6,7,8,9,10]\n",
    "filterred = list(filter(lambda x : x%2 == 0 ,num))\n",
    "filterred"
   ]
  },
  {
   "cell_type": "code",
   "execution_count": 16,
   "id": "2c226158-9d47-4856-a490-2d5cedd82b7f",
   "metadata": {},
   "outputs": [
    {
     "data": {
      "text/plain": [
       "['app', 'bana', 'cherry', 'mangohhhh']"
      ]
     },
     "execution_count": 16,
     "metadata": {},
     "output_type": "execute_result"
    }
   ],
   "source": [
    "# Q.sort a list of string based on their alphabetical characters and  length\n",
    "fruits = ['app','bana','mangohhhh','cherry']\n",
    "sorted_fruits = sorted(fruits , key=lambda i : len(i),reverse=False)\n",
    "sorted_fruits"
   ]
  },
  {
   "cell_type": "code",
   "execution_count": 20,
   "id": "dcc11f7a-7313-49f7-98a7-75a7af28173a",
   "metadata": {},
   "outputs": [
    {
     "data": {
      "text/plain": [
       "[(5, 0), (8, 1), (1, 2)]"
      ]
     },
     "execution_count": 20,
     "metadata": {},
     "output_type": "execute_result"
    }
   ],
   "source": [
    "# sort--> pairs = [(1, 2), (8, 1), (5, 0)]\n",
    "pairs = [(1, 2), (8, 1), (5, 0)]\n",
    "sorted_pairs = sorted(pairs , key=lambda x : x[1],reverse=False)\n",
    "sorted_pairs"
   ]
  },
  {
   "cell_type": "code",
   "execution_count": 22,
   "id": "1562dff9-fdd6-49be-ae39-899c63c42ed1",
   "metadata": {},
   "outputs": [
    {
     "data": {
      "text/plain": [
       "[{'name': 'virat', 'age': 25, 'occupation': 'batter'},\n",
       " {'name': 'shami', 'age': 45, 'occupation': 'bowler'},\n",
       " {'name': 'rohit', 'age': 65, 'occupation': 'batter'}]"
      ]
     },
     "execution_count": 22,
     "metadata": {},
     "output_type": "execute_result"
    }
   ],
   "source": [
    "# Given a list of dictionaries people, sort the list by the age of each person using a lambda function \n",
    "# with the sorted() function.\n",
    "people = [\n",
    "    {'name':'virat','age':25,'occupation':'batter'},\n",
    "    {'name':'rohit','age':65,'occupation':'batter'},\n",
    "    {'name':'shami','age':45,'occupation':'bowler'},\n",
    "]\n",
    "sorted_people = sorted(people , key=lambda x : x['age'],reverse=False)\n",
    "sorted_people"
   ]
  },
  {
   "cell_type": "markdown",
   "id": "9313cf29-69d6-4869-bd86-2d7f5da92c04",
   "metadata": {},
   "source": [
    "##### Recurssion or recurssive function \n",
    "\n",
    "A function which calls itset again and again that is known as recurssive function"
   ]
  },
  {
   "cell_type": "code",
   "execution_count": 25,
   "id": "b87befc9-9a69-491d-a8c0-9f4597c4ae67",
   "metadata": {},
   "outputs": [],
   "source": [
    "# # factorial\n",
    "# factorial(6) = 6 x 5 x 4 x 3 x 2 x 1\n",
    "# factorial(5) = 5 x 4 x 3 x 2 x 1\n",
    "# factorial(4) = 4 x 3 x 2 x 1\n",
    "# factorial(1) = 1\n",
    "# factorial(0) = 1\n",
    "# .\n",
    "# .\n",
    "# factorial(n) = n * factorial(n-1)"
   ]
  },
  {
   "cell_type": "code",
   "execution_count": 26,
   "id": "3ba9e520-a31b-4b18-be8d-03b757c7da38",
   "metadata": {},
   "outputs": [
    {
     "data": {
      "text/plain": [
       "120"
      ]
     },
     "execution_count": 26,
     "metadata": {},
     "output_type": "execute_result"
    }
   ],
   "source": [
    "def factorial(n):\n",
    "    if n==0 or n==1:\n",
    "        return 1\n",
    "    else:\n",
    "        return n * factorial(n-1)\n",
    "factorial(5)\n",
    "\n",
    "################\n",
    "# factorial(5)\n",
    "# 5 * factorial(4)\n",
    "# 5 * 4 * factorial(3)\n",
    "# 5 * 4 * 3 * factorial(2)\n",
    "# 5 * 4 * 3 * 2 * factorial(1)\n",
    "# 5 * 4 * 3 * 2 * 1"
   ]
  },
  {
   "cell_type": "code",
   "execution_count": 6,
   "id": "498ae69d-14f5-4ca4-b129-54825bfb0687",
   "metadata": {},
   "outputs": [
    {
     "data": {
      "text/plain": [
       "15"
      ]
     },
     "execution_count": 6,
     "metadata": {},
     "output_type": "execute_result"
    }
   ],
   "source": [
    "# sum of n natural numbers.\n",
    "# eg. for 5 --> 5+4+3+2+1\n",
    "def add_all(n):\n",
    "    if n==0:\n",
    "        return 0\n",
    "    else:\n",
    "        return n + add_all(n-1)\n",
    "add_all(5)"
   ]
  },
  {
   "cell_type": "code",
   "execution_count": 1,
   "id": "59c0a4dc-ee08-43a4-925a-9d7d39aaba5e",
   "metadata": {},
   "outputs": [
    {
     "data": {
      "text/plain": [
       "8"
      ]
     },
     "execution_count": 1,
     "metadata": {},
     "output_type": "execute_result"
    }
   ],
   "source": [
    "# power programm\n",
    "def power(a,b):\n",
    "    if b==0 :\n",
    "        return 1\n",
    "    else:\n",
    "        return a * power(a,b-1)\n",
    "power(2,3)"
   ]
  },
  {
   "cell_type": "code",
   "execution_count": 2,
   "id": "4dbdc274-c24d-44f4-a09d-8aba461a9aec",
   "metadata": {},
   "outputs": [],
   "source": [
    "# power(2,3)\n",
    "# 2 * power(2,2)\n",
    "# 2 * 2 * power(2,1)\n",
    "# 2 * 2 * 2 * power(2,0)\n",
    "# 2 * 2 * 2 * 1"
   ]
  },
  {
   "cell_type": "code",
   "execution_count": 5,
   "id": "f3728ed4-1018-44c5-a0c9-b2f35f40ff2d",
   "metadata": {},
   "outputs": [
    {
     "name": "stdout",
     "output_type": "stream",
     "text": [
      "enter number 153\n",
      "153 is armstrong number\n",
      "153 is armstrong number\n",
      "153 is armstrong number\n",
      "153 is armstrong number\n"
     ]
    },
    {
     "name": "stdout",
     "output_type": "stream",
     "text": [
      "153 is armstrong number\n",
      "153 is armstrong number\n"
     ]
    }
   ],
   "source": [
    "# Q.8: Python program to check if a given number is an Armstrong number ( 153, 370 , 371, 1634)\n",
    "n = int(input(\"enter number\"))\n",
    "def armstrong_no(n):\n",
    "    temp1 = n # 1634\n",
    "    temp2 = n # 1634\n",
    "    count = 0\n",
    "    # counting the digits\n",
    "    for i in str(temp1):\n",
    "        if temp1>0: # 0\n",
    "            count = count + 1 \n",
    "        temp1 //= 10\n",
    "    # Finding sum of power of digits\n",
    "    sum = 0\n",
    "    for i in range(len(str(temp2))):\n",
    "        sum = sum + ((temp2 % 10)**count)\n",
    "        temp2 //= 10\n",
    "    # comparing the sum and Original number taken by user\n",
    "    if sum == n:\n",
    "        print(f\"{n} is armstrong number\")\n",
    "    else:\n",
    "        print(f\"{n} is not armstrong number\")\n",
    "armstrong_no(n)\n",
    "armstrong_no(n)"
   ]
  },
  {
   "cell_type": "markdown",
   "id": "42f66988-fca1-4406-8a7e-5e0dcc794990",
   "metadata": {
    "jp-MarkdownHeadingCollapsed": true
   },
   "source": [
    "## Modules\n",
    "\n",
    "Module is a python file (.py) that contains function definitions and statements\n",
    "\n",
    "after the execution the extension of module is (.pyc) compiled python code\n",
    "\n",
    "Advantage :\n",
    "1) provide proper organisation  --> we can place many function in a single module that(those functions) perform similary kind of operation . eg math module ( cos , sin , pow , pi )\n",
    "2) code reusability --> instead rewriting and calling the function again and again we put them in a single file and use them by importing.\n",
    "3) Namespace management --> It is a container that stores all the name of identifiers(variables , functions , classes etc)\n",
    "   eg. in math module --> pi=3.14 is constant , outside math module pi can be anything\n",
    "4) Encapsulation --> we dont actually know how the execution is happening. Modules are Encapsulated.\n",
    "\n",
    "Types of module :\n",
    "1) Inbuilt modules --> math , os , sys , random , time , fraction\n",
    "2) user defined modules"
   ]
  },
  {
   "cell_type": "markdown",
   "id": "63ed7a90-94da-4053-b2ef-e31322b9d951",
   "metadata": {
    "jp-MarkdownHeadingCollapsed": true
   },
   "source": [
    "#### inbuilt modules"
   ]
  },
  {
   "cell_type": "code",
   "execution_count": 11,
   "id": "d984bdf1-1522-44c4-a8aa-c0a8dcf604e4",
   "metadata": {},
   "outputs": [
    {
     "name": "stdout",
     "output_type": "stream",
     "text": [
      "power : 8.0\n",
      "pi value : 3.141592653589793\n",
      "factorial : 120\n",
      "Lcm : 24\n",
      "gcd : 4\n"
     ]
    }
   ],
   "source": [
    "# math module\n",
    "import math\n",
    "\n",
    "print(\"power :\",math.pow(2,3))\n",
    "print(\"pi value :\",math.pi)\n",
    "print(\"factorial :\",math.factorial(5))\n",
    "print(\"Lcm :\",math.lcm(8,12))\n",
    "print(\"gcd :\",math.gcd(8,12))"
   ]
  },
  {
   "cell_type": "code",
   "execution_count": 16,
   "id": "ab739adb-bba6-46ab-bc8e-155125c2ffbb",
   "metadata": {},
   "outputs": [],
   "source": [
    "from math import pow,pi,factorial # We can also import like this"
   ]
  },
  {
   "cell_type": "code",
   "execution_count": 17,
   "id": "8cd07121-1684-4361-8e0d-7b2e1c453e1e",
   "metadata": {},
   "outputs": [
    {
     "data": {
      "text/plain": [
       "9.0"
      ]
     },
     "execution_count": 17,
     "metadata": {},
     "output_type": "execute_result"
    }
   ],
   "source": [
    "pow(3,2)"
   ]
  },
  {
   "cell_type": "code",
   "execution_count": 19,
   "id": "56d2e499-aa5f-41a9-97e0-3aa9ebb27db0",
   "metadata": {},
   "outputs": [
    {
     "name": "stdout",
     "output_type": "stream",
     "text": [
      "power : 8.0\n",
      "pi value : 3.141592653589793\n",
      "factorial : 120\n",
      "Lcm : 24\n",
      "gcd : 4\n"
     ]
    }
   ],
   "source": [
    "from math import * # importing * means we can importing all the functions at once\n",
    "print(\"power :\",pow(2,3))\n",
    "print(\"pi value :\",pi)\n",
    "print(\"factorial :\",factorial(5))\n",
    "print(\"Lcm :\",lcm(8,12))\n",
    "print(\"gcd :\",gcd(8,12))"
   ]
  },
  {
   "cell_type": "code",
   "execution_count": 21,
   "id": "abc79bd9-3627-43b6-9192-f2020c23cf0e",
   "metadata": {},
   "outputs": [
    {
     "data": {
      "text/plain": [
       "'C:\\\\Users\\\\HIMANSHU SURYAVANSHI'"
      ]
     },
     "execution_count": 21,
     "metadata": {},
     "output_type": "execute_result"
    }
   ],
   "source": [
    "# os module\n",
    "import os\n",
    "os.getcwd() # gives current location of file"
   ]
  },
  {
   "cell_type": "code",
   "execution_count": 25,
   "id": "8246b3f4-c8c4-446b-80a2-b5314873edba",
   "metadata": {},
   "outputs": [],
   "source": [
    "os.mkdir(\"testmodule\") # makes a folder in the above location "
   ]
  },
  {
   "cell_type": "code",
   "execution_count": 26,
   "id": "2421dcde-07e9-49f8-867d-15a0acb78b4c",
   "metadata": {},
   "outputs": [],
   "source": [
    "os.rename(\"testmodule\",\"test11\")"
   ]
  },
  {
   "cell_type": "code",
   "execution_count": 27,
   "id": "55d8650f-f10d-48a2-be8f-8ea51dc9db17",
   "metadata": {},
   "outputs": [],
   "source": [
    "os.rmdir(\"test11\")"
   ]
  },
  {
   "cell_type": "code",
   "execution_count": 69,
   "id": "927791d7-c13b-4524-b0df-7c867eb90966",
   "metadata": {},
   "outputs": [
    {
     "name": "stdout",
     "output_type": "stream",
     "text": [
      "random decimal number : 0.14753645999743148\n",
      "random whole number : 71\n"
     ]
    }
   ],
   "source": [
    "# random\n",
    "import random\n",
    "print(\"random decimal number :\",random.random())\n",
    "print(\"random whole number :\",random.randint(1,100))"
   ]
  },
  {
   "cell_type": "code",
   "execution_count": 10,
   "id": "90e0559b-c17c-4f4d-898b-a38f4b24823b",
   "metadata": {},
   "outputs": [
    {
     "name": "stdout",
     "output_type": "stream",
     "text": [
      "random decimal number : 0.45084513414500904\n",
      "random whole number : 56\n"
     ]
    }
   ],
   "source": [
    "import random\n",
    "random.seed(75) # freezing random number\n",
    "print(\"random decimal number :\",random.random())\n",
    "print(\"random whole number :\",random.randint(1,100))"
   ]
  },
  {
   "cell_type": "code",
   "execution_count": 83,
   "id": "5bb8d02e-d2eb-473c-8213-2e9d9ba41a09",
   "metadata": {},
   "outputs": [
    {
     "name": "stdout",
     "output_type": "stream",
     "text": [
      "current date and time : Tue Jul  9 12:29:21 2024\n",
      "local time : time.struct_time(tm_year=2024, tm_mon=7, tm_mday=9, tm_hour=12, tm_min=29, tm_sec=21, tm_wday=1, tm_yday=191, tm_isdst=0)\n",
      "GM-time : time.struct_time(tm_year=2024, tm_mon=7, tm_mday=9, tm_hour=6, tm_min=59, tm_sec=21, tm_wday=1, tm_yday=191, tm_isdst=0)\n"
     ]
    }
   ],
   "source": [
    "# time \n",
    "import time\n",
    "print(\"current date and time :\",time.ctime())\n",
    "print(\"local time :\",time.localtime())\n",
    "print(\"GM-time :\",time.gmtime())"
   ]
  },
  {
   "cell_type": "markdown",
   "id": "15de9755-64ec-4fa6-aa4a-d347bda9d126",
   "metadata": {},
   "source": [
    "#### User defined modules"
   ]
  },
  {
   "cell_type": "markdown",
   "id": "6126455d-77dc-4f29-920f-084427a5a2b2",
   "metadata": {
    "jp-MarkdownHeadingCollapsed": true
   },
   "source": [
    "##### same location"
   ]
  },
  {
   "cell_type": "code",
   "execution_count": 3,
   "id": "6b3ae44e-6531-479c-b353-fd48165da2a8",
   "metadata": {},
   "outputs": [
    {
     "name": "stdout",
     "output_type": "stream",
     "text": [
      "ADDITION : 5\n",
      "DIVISION : 0.6666666666666666\n",
      "MULTIPLY : 6\n",
      "SUBSTRACTION : -1\n"
     ]
    }
   ],
   "source": [
    "import calci\n",
    "\n",
    "print(\"ADDITION :\",calci.add(2,3))\n",
    "print(\"DIVISION :\",calci.division(2,3))\n",
    "print(\"MULTIPLY :\",calci.multiply(2,3))\n",
    "print(\"SUBSTRACTION :\",calci.substraction(2,3))"
   ]
  },
  {
   "cell_type": "code",
   "execution_count": 14,
   "id": "0f49d77d-7104-4765-aa50-219d50d9f096",
   "metadata": {},
   "outputs": [
    {
     "name": "stdout",
     "output_type": "stream",
     "text": [
      "ADDITION : 5\n",
      "DIVISION : 0.6666666666666666\n",
      "MULTIPLY : 6\n",
      "SUBSTRACTION : -1\n"
     ]
    }
   ],
   "source": [
    "import calci as c # using alias name\n",
    "\n",
    "print(\"ADDITION :\",c.add(2,3))\n",
    "print(\"DIVISION :\",c.division(2,3))\n",
    "print(\"MULTIPLY :\",c.multiply(2,3))\n",
    "print(\"SUBSTRACTION :\",c.substraction(2,3))"
   ]
  },
  {
   "cell_type": "code",
   "execution_count": 12,
   "id": "d84e7691-9c62-4915-a10f-5de8905ae622",
   "metadata": {},
   "outputs": [],
   "source": [
    "from calci import *"
   ]
  },
  {
   "cell_type": "code",
   "execution_count": 15,
   "id": "8f4014d1-09be-429b-b976-ab737f02d449",
   "metadata": {},
   "outputs": [
    {
     "name": "stdout",
     "output_type": "stream",
     "text": [
      "ADDITION : 5\n",
      "DIVISION : zero division error\n",
      "MULTIPLY : 6\n",
      "SUBSTRACTION : -1\n"
     ]
    }
   ],
   "source": [
    "print(\"ADDITION :\",add(2,3))\n",
    "print(\"DIVISION :\",division(2,0))\n",
    "print(\"MULTIPLY :\",multiply(2,3))\n",
    "print(\"SUBSTRACTION :\",substraction(2,3))"
   ]
  },
  {
   "cell_type": "markdown",
   "id": "502ae9a3-ee23-4dd6-8048-ec6435a6327c",
   "metadata": {
    "jp-MarkdownHeadingCollapsed": true
   },
   "source": [
    "##### for different location "
   ]
  },
  {
   "cell_type": "code",
   "execution_count": 16,
   "id": "8f6dc141-8ea0-4481-8f5d-f58bde1f10ed",
   "metadata": {},
   "outputs": [
    {
     "ename": "ModuleNotFoundError",
     "evalue": "No module named 'info'",
     "output_type": "error",
     "traceback": [
      "\u001b[1;31m---------------------------------------------------------------------------\u001b[0m",
      "\u001b[1;31mModuleNotFoundError\u001b[0m                       Traceback (most recent call last)",
      "Cell \u001b[1;32mIn[16], line 1\u001b[0m\n\u001b[1;32m----> 1\u001b[0m \u001b[38;5;28;01mimport\u001b[39;00m \u001b[38;5;21;01minfo\u001b[39;00m\n",
      "\u001b[1;31mModuleNotFoundError\u001b[0m: No module named 'info'"
     ]
    }
   ],
   "source": [
    "import info"
   ]
  },
  {
   "cell_type": "code",
   "execution_count": 18,
   "id": "f5da5c5c-0fef-443c-9b9f-dc881a8b35d5",
   "metadata": {},
   "outputs": [],
   "source": [
    "# sys\n",
    "import sys\n",
    "sys.path.append(\"C:/Users/HIMANSHU SURYAVANSHI/diff\")"
   ]
  },
  {
   "cell_type": "code",
   "execution_count": 19,
   "id": "efb1838d-0716-45f5-9109-b7ebf65439d0",
   "metadata": {},
   "outputs": [],
   "source": [
    "import info"
   ]
  },
  {
   "cell_type": "code",
   "execution_count": 20,
   "id": "99687cb7-0ac7-4e4b-abdd-18a698a9fa24",
   "metadata": {},
   "outputs": [
    {
     "data": {
      "text/plain": [
       "'good morning'"
      ]
     },
     "execution_count": 20,
     "metadata": {},
     "output_type": "execute_result"
    }
   ],
   "source": [
    "info.greet()"
   ]
  },
  {
   "cell_type": "code",
   "execution_count": 21,
   "id": "8d6971a9-a5d1-4967-93fe-74e0e0bee5f0",
   "metadata": {},
   "outputs": [],
   "source": [
    "# package in vs code"
   ]
  },
  {
   "cell_type": "markdown",
   "id": "3399cba3-58ad-494d-9254-115d71c2f497",
   "metadata": {
    "jp-MarkdownHeadingCollapsed": true
   },
   "source": [
    "## File handling\n",
    "\n",
    "what is files ?--->\n",
    "Files are named location on memory,\n",
    "Data is stored in the non-volatile memory\n",
    "\n",
    "Types of files :\n",
    "1) Text files --> data is stored in the form text and its type is consider as str type\n",
    "   eg. text files , json\n",
    "2) Binary files --> data is stored in the form  bytes or pixles\n",
    "   eg. image_file , vedio files , audio file\n",
    "\n",
    "File handling\n",
    "1) opening a file\n",
    "2) performing some operation\n",
    "3) close\n",
    "\n",
    "Modes in file handling\n",
    "1) text mode --> data is considered as str type , encoding is used in text mode\n",
    "   operation --> (r-read , w-write , a-append , r+-->read then write , w+ --> write then read , a+ --> append then write)\n",
    "2) binary mode --> data is considered as bytes , encoding is not here\n",
    "   operation --> (rb-read in binary , wb -write binary , ab-append in binary, rb+-->read then write in binary, wb+ --> write then read , ab+ --> append then write)"
   ]
  },
  {
   "cell_type": "markdown",
   "id": "6b4a6b8b-cd46-4181-af2a-9e4679629cd8",
   "metadata": {
    "jp-MarkdownHeadingCollapsed": true
   },
   "source": [
    "#### opening , closing files and reading files"
   ]
  },
  {
   "cell_type": "code",
   "execution_count": 3,
   "id": "a740ab5d-b308-4142-ab1a-093036b0ed65",
   "metadata": {},
   "outputs": [],
   "source": [
    "# f = open(filename,mode)\n",
    "# operation\n",
    "# f--> file handler "
   ]
  },
  {
   "cell_type": "code",
   "execution_count": 5,
   "id": "48258d08-ce2f-422c-9e57-88d946f15f0f",
   "metadata": {},
   "outputs": [
    {
     "name": "stdout",
     "output_type": "stream",
     "text": [
      "#numpy--library---> use mathematical operations\n",
      "#install \n",
      "#python's default location inside script copy path \n",
      "#and open cmd pip install numpy\n",
      "\n",
      "#import ---import numpy as np(alias name)\n",
      "\n",
      "import numpy as np\n",
      "l=[1,2,3,4,5,6,6,7]\n",
      "type(l)\n",
      "np.mean(l)\n",
      "np.median(l)\n",
      "np.std(l)\n",
      "np.var(l)\n",
      "np.sum(l)\n",
      "p=np.array(l)\n",
      "type(p)\n",
      "np.subtract(21,3)\n",
      "np.multiply(23,6)\n",
      "np.divide(78,3)\n",
      "np.mod(12,7)\n",
      "np.add(12,34)\n",
      "np.tan(45)\n",
      "np.sqrt(441)\n",
      "np.pi\n",
      "np.sin(30)\n",
      "np.square(12)\n",
      "np.cos(0)\n",
      "np.power(2,3)\n",
      "np.shape(p)\n",
      "#matrix creation using numpy\n",
      "x=[1,2,3,4,6,6]\n",
      "y=[7,8,9,10,11,12]\n",
      "z=np.array([x,y]).reshape(6,2)#rows,columns\n",
      "z\n",
      "\n",
      "#concat\n",
      "a1=np.array([1,2,3])\n",
      "a2=np.array([4,5,6])\n",
      "arr=np.concatenate((a1,a2))\n",
      "print(arr)\n",
      "\n",
      "\n",
      "#copy\n",
      "\n",
      "p1=np.array([6,7,8,9,5])\n",
      "j=p1.copy()\n",
      "print(j)\n",
      "\n",
      "#insert\n",
      "p1[0]=90\n",
      "print(p1)\n",
      "\n",
      "#slicing\n",
      "\n",
      "k=np.array([11,23,3,53,5])\n",
      "print(k[1:3])\n",
      "\n",
      "\n",
      "#split\n",
      "d=np.array([34,5,6,7,8,8])\n",
      "new=np.array_split(d,3)\n",
      "print(new)\n",
      "\n",
      "#search\n",
      "\n",
      "s=np.array([11,23,4,345,54,665,767])\n",
      "c=np.where(s==4)#index value\n",
      "print(c)\n",
      "\n",
      "#sort\n",
      "h=np.array([4,34,345,4,5,5,45])\n",
      "print(np.sort(h))\n",
      "\n",
      "\n",
      "#filter\n",
      "g=np.array([87,23,43,4])\n",
      "n=[True,True,True,True]\n",
      "\n",
      "new1=g[n]\n",
      "print(new1)\n",
      "\n",
      "\n",
      "\n",
      "\n",
      "\n",
      "\n",
      "\n",
      "\n",
      "\n",
      "\n",
      "\n",
      "\n",
      "\n",
      "\n",
      "\n",
      "\n",
      "\n",
      "\n",
      "\n",
      "\n",
      "\n",
      "\n",
      "\n",
      "\n",
      "\n",
      "\n",
      "\n",
      "\n",
      "\n"
     ]
    }
   ],
   "source": [
    "# reading file from different location\n",
    "f = open(file=\"E:/HLibrary/numpy.py\",mode='r')\n",
    "print(f.read())\n",
    "f.close()"
   ]
  },
  {
   "cell_type": "code",
   "execution_count": 7,
   "id": "5bf35065-7612-45b6-93f5-e4e83f58751a",
   "metadata": {},
   "outputs": [
    {
     "name": "stdout",
     "output_type": "stream",
     "text": [
      "India, officially known as the Republic of India, is a country in South Asia. It is the seventh-largest country by land area, the second-most populous country, and the most populous democracy in the world. \n",
      "Bounded by the Indian Ocean to the south, the Arabian Sea to the southwest, and the Bay of Bengal to the southeast, it shares land borders with Pakistan to the west, China, Nepal, and Bhutan to the north, and \n",
      "Bangladesh and Myanmar to the east. In the Indian Ocean, India is in the vicinity of Sri Lanka and the Maldives; its Andaman and Nicobar Islands share a maritime border with Thailand, Myanmar, and Indonesia.\n",
      "India's culture is a rich amalgamation of traditions, languages, religions, dance, music, architecture, food, and customs, differing from place to place within the country.\n"
     ]
    }
   ],
   "source": [
    "# reading file from same location\n",
    "f = open(file=\"about_india.txt\",mode='r')\n",
    "print(f.read())\n",
    "f.close()"
   ]
  },
  {
   "cell_type": "code",
   "execution_count": 8,
   "id": "ac29663c-7d14-4e7c-8367-fb7c918a04be",
   "metadata": {},
   "outputs": [
    {
     "name": "stdout",
     "output_type": "stream",
     "text": [
      "India, officially known as the Republic of India, is a country in South Asia. It is the seventh-largest country by land area, the second-most populous country, and the most populous democracy in the world. \n",
      "Bounded by the Indian Ocean to the south, the Arabian Sea to the southwest, and the Bay of Bengal to the southeast, it shares land borders with Pakistan to the west, China, Nepal, and Bhutan to the north, and \n",
      "Bangladesh and Myanmar to the east. In the Indian Ocean, India is in the vicinity of Sri Lanka and the Maldives; its Andaman and Nicobar Islands share a maritime border with Thailand, Myanmar, and Indonesia.\n",
      "India's culture is a rich amalgamation of traditions, languages, religions, dance, music, architecture, food, and customs, differing from place to place within the country.\n"
     ]
    }
   ],
   "source": [
    "# reading file from same location\n",
    "f = open(\"about_india.txt\",'r')\n",
    "print(f.read())\n",
    "f.close()"
   ]
  },
  {
   "cell_type": "markdown",
   "id": "3ea554d2-9a9b-404f-bc41-b7b35d562051",
   "metadata": {},
   "source": [
    "##### way of closing \n",
    "1) normal way\n",
    "2) exception handling\n",
    "3) with statement"
   ]
  },
  {
   "cell_type": "code",
   "execution_count": 9,
   "id": "db3039fe-eced-48af-976d-3f5fdf710bbc",
   "metadata": {},
   "outputs": [
    {
     "name": "stdout",
     "output_type": "stream",
     "text": [
      "India, officially known as the Republic of India, is a country in South Asia. It is the seventh-largest country by land area, the second-most populous country, and the most populous democracy in the world. \n",
      "Bounded by the Indian Ocean to the south, the Arabian Sea to the southwest, and the Bay of Bengal to the southeast, it shares land borders with Pakistan to the west, China, Nepal, and Bhutan to the north, and \n",
      "Bangladesh and Myanmar to the east. In the Indian Ocean, India is in the vicinity of Sri Lanka and the Maldives; its Andaman and Nicobar Islands share a maritime border with Thailand, Myanmar, and Indonesia.\n",
      "India's culture is a rich amalgamation of traditions, languages, religions, dance, music, architecture, food, and customs, differing from place to place within the country.\n"
     ]
    }
   ],
   "source": [
    "# normal way\n",
    "f = open(\"about_india.txt\",'r')\n",
    "print(f.read())\n",
    "f.close()"
   ]
  },
  {
   "cell_type": "code",
   "execution_count": 10,
   "id": "3a52cdb3-71e4-4ed8-b03e-cddcff051dfc",
   "metadata": {},
   "outputs": [
    {
     "name": "stdout",
     "output_type": "stream",
     "text": [
      "India, officially known as the Republic of India, is a country in South Asia. It is the seventh-largest country by land area, the second-most populous country, and the most populous democracy in the world. \n",
      "Bounded by the Indian Ocean to the south, the Arabian Sea to the southwest, and the Bay of Bengal to the southeast, it shares land borders with Pakistan to the west, China, Nepal, and Bhutan to the north, and \n",
      "Bangladesh and Myanmar to the east. In the Indian Ocean, India is in the vicinity of Sri Lanka and the Maldives; its Andaman and Nicobar Islands share a maritime border with Thailand, Myanmar, and Indonesia.\n",
      "India's culture is a rich amalgamation of traditions, languages, religions, dance, music, architecture, food, and customs, differing from place to place within the country.\n"
     ]
    }
   ],
   "source": [
    "# exception handling\n",
    "try:\n",
    "    f = open(\"about_india.txt\",'r')\n",
    "    print(f.read()) # operation\n",
    "finally:\n",
    "    f.close()"
   ]
  },
  {
   "cell_type": "code",
   "execution_count": 11,
   "id": "1664ccfc-3dd0-48c7-ba25-83c47ca5a5af",
   "metadata": {},
   "outputs": [
    {
     "name": "stdout",
     "output_type": "stream",
     "text": [
      "India, officially known as the Republic of India, is a country in South Asia. It is the seventh-largest country by land area, the second-most populous country, and the most populous democracy in the world. \n",
      "Bounded by the Indian Ocean to the south, the Arabian Sea to the southwest, and the Bay of Bengal to the southeast, it shares land borders with Pakistan to the west, China, Nepal, and Bhutan to the north, and \n",
      "Bangladesh and Myanmar to the east. In the Indian Ocean, India is in the vicinity of Sri Lanka and the Maldives; its Andaman and Nicobar Islands share a maritime border with Thailand, Myanmar, and Indonesia.\n",
      "India's culture is a rich amalgamation of traditions, languages, religions, dance, music, architecture, food, and customs, differing from place to place within the country.\n"
     ]
    }
   ],
   "source": [
    "# with statement\n",
    "with open(\"about_india.txt\",'r') as f:\n",
    "    print(f.read())"
   ]
  },
  {
   "cell_type": "markdown",
   "id": "d475f8a9-97d0-4f6c-9173-3b41a82ff2eb",
   "metadata": {},
   "source": [
    "##### read vs readline vs readlines"
   ]
  },
  {
   "cell_type": "code",
   "execution_count": 12,
   "id": "d3e9ed69-d147-4d87-a074-1b6130859335",
   "metadata": {},
   "outputs": [
    {
     "name": "stdout",
     "output_type": "stream",
     "text": [
      "India, officially known as the Republic of India, is a country in South Asia. It is the seventh-largest country by land area, the second-most populous country, and the most populous democracy in the world. \n",
      "Bounded by the Indian Ocean to the south, the Arabian Sea to the southwest, and the Bay of Bengal to the southeast, it shares land borders with Pakistan to the west, China, Nepal, and Bhutan to the north, and \n",
      "Bangladesh and Myanmar to the east. In the Indian Ocean, India is in the vicinity of Sri Lanka and the Maldives; its Andaman and Nicobar Islands share a maritime border with Thailand, Myanmar, and Indonesia.\n",
      "India's culture is a rich amalgamation of traditions, languages, religions, dance, music, architecture, food, and customs, differing from place to place within the country.\n"
     ]
    }
   ],
   "source": [
    "# # normal way\n",
    "f = open(\"about_india.txt\",'r')\n",
    "print(f.read())\n",
    "f.close()"
   ]
  },
  {
   "cell_type": "code",
   "execution_count": 16,
   "id": "9a2f5294-6d9b-407b-9692-4f2fcd3b97f0",
   "metadata": {},
   "outputs": [
    {
     "name": "stdout",
     "output_type": "stream",
     "text": [
      "India\n",
      ", officially known as the Republic of India, is a country in South Asia. It is the seventh-largest country by land area, the second-most populous country, and the most populous democracy in the world. \n",
      "Bounded by the Indian Ocean to the south, the Arabian Sea to the southwest, and the Bay of Bengal to the southeast, it shares land borders with Pakistan to the west, China, Nepal, and Bhutan to the north, and \n",
      "Bangladesh and Myanmar to the east. In the Indian Ocean, India is in the vicinity of Sri Lanka and the Maldives; its Andaman and Nicobar Islands share a maritime border with Thailand, Myanmar, and Indonesia.\n",
      "India's culture is a rich amalgamation of traditions, languages, religions, dance, music, architecture, food, and customs, differing from place to place within the country.\n"
     ]
    }
   ],
   "source": [
    "# # normal way\n",
    "f = open(\"about_india.txt\",'r')\n",
    "data1 = f.read(5)\n",
    "data2 = f.read()\n",
    "print(data1)\n",
    "print(data2)\n",
    "f.close()"
   ]
  },
  {
   "cell_type": "code",
   "execution_count": 18,
   "id": "909ea801-afa1-4ebe-af41-7f61df87922c",
   "metadata": {},
   "outputs": [
    {
     "name": "stdout",
     "output_type": "stream",
     "text": [
      "India, off\n",
      "icially known as the\n"
     ]
    }
   ],
   "source": [
    "f = open(\"about_india.txt\",'r')\n",
    "data1 = f.read(10)\n",
    "data2 = f.read(20)\n",
    "print(data1)\n",
    "print(data2)\n",
    "f.close()"
   ]
  },
  {
   "cell_type": "code",
   "execution_count": 22,
   "id": "aba0e521-be2c-4756-9220-92255f6f23a5",
   "metadata": {},
   "outputs": [
    {
     "name": "stdout",
     "output_type": "stream",
     "text": [
      "India, officially known as the Republic of India, is a country in South Asia.\n",
      "\n"
     ]
    }
   ],
   "source": [
    "# readline\n",
    "f = open(\"about_india.txt\",'r')\n",
    "print(f.readline()) # reads the single line\n",
    "f.close() # WHERE IT FINDS THE NEWLINE(\\N) then this is considered as line 1"
   ]
  },
  {
   "cell_type": "code",
   "execution_count": 23,
   "id": "ac924b2a-a810-4e04-96cc-5e6f20a33597",
   "metadata": {},
   "outputs": [
    {
     "name": "stdout",
     "output_type": "stream",
     "text": [
      "['India, officially known as the Republic of India, is a country in South Asia.\\n', 'It is the seventh-largest country by land area, the second-most populous country, and the most populous democracy in the world. \\n', 'Bounded by the Indian Ocean to the south, the Arabian Sea to the southwest, and the Bay of Bengal to the southeast, it shares land borders with Pakistan to the west, China, Nepal, and Bhutan to the north, and \\n', 'Bangladesh and Myanmar to the east. In the Indian Ocean, India is in the vicinity of Sri Lanka and the Maldives; its Andaman and Nicobar Islands share a maritime border with Thailand, Myanmar, and Indonesia.\\n', \"India's culture is a rich amalgamation of traditions, languages, religions, dance, music, architecture, food, and customs, differing from place to place within the country.\"]\n"
     ]
    }
   ],
   "source": [
    "# readline\n",
    "f = open(\"about_india.txt\",'r')\n",
    "print(f.readlines()) # reads the single line\n",
    "f.close()"
   ]
  },
  {
   "cell_type": "code",
   "execution_count": 24,
   "id": "5c4a65a8-6124-4c97-8e89-43f74b2116cf",
   "metadata": {},
   "outputs": [
    {
     "name": "stdout",
     "output_type": "stream",
     "text": [
      "India, officially known as the Republic of India, is a country in South Asia.\n",
      "\n",
      "It is the seventh-largest country by land area, the second-most populous country, and the most populous democracy in the world. \n",
      "\n",
      "Bounded by the Indian Ocean to the south, the Arabian Sea to the southwest, and the Bay of Bengal to the southeast, it shares land borders with Pakistan to the west, China, Nepal, and Bhutan to the north, and \n",
      "\n",
      "Bangladesh and Myanmar to the east. In the Indian Ocean, India is in the vicinity of Sri Lanka and the Maldives; its Andaman and Nicobar Islands share a maritime border with Thailand, Myanmar, and Indonesia.\n",
      "\n",
      "India's culture is a rich amalgamation of traditions, languages, religions, dance, music, architecture, food, and customs, differing from place to place within the country.\n"
     ]
    }
   ],
   "source": [
    "# readline\n",
    "f = open(\"about_india.txt\",'r')\n",
    "data = f.readlines() # reads the single line\n",
    "for lines in data:\n",
    "    print(lines)\n",
    "f.close()"
   ]
  },
  {
   "cell_type": "code",
   "execution_count": 25,
   "id": "c34f1e07-9286-454f-934b-1920849a338c",
   "metadata": {},
   "outputs": [
    {
     "name": "stdout",
     "output_type": "stream",
     "text": [
      "India, officially known as the Republic of India, is a country in South Asia.\n",
      "It is the seventh-largest country by land area, the second-most populous country, and the most populous democracy in the world. \n",
      "Bounded by the Indian Ocean to the south, the Arabian Sea to the southwest, and the Bay of Bengal to the southeast, it shares land borders with Pakistan to the west, China, Nepal, and Bhutan to the north, and \n",
      "Bangladesh and Myanmar to the east. In the Indian Ocean, India is in the vicinity of Sri Lanka and the Maldives; its Andaman and Nicobar Islands share a maritime border with Thailand, Myanmar, and Indonesia.\n",
      "India's culture is a rich amalgamation of traditions, languages, religions, dance, music, architecture, food, and customs, differing from place to place within the country."
     ]
    }
   ],
   "source": [
    "f = open(\"about_india.txt\",'r')\n",
    "data = f.readlines() # reads the single line\n",
    "for lines in data:\n",
    "    print(lines,end=\"\")\n",
    "f.close()"
   ]
  },
  {
   "cell_type": "markdown",
   "id": "2d8aa294-0576-445f-ac4b-1fd0e83d6c0e",
   "metadata": {},
   "source": [
    "##### tell() , seek()\n",
    "\n",
    "tell--> specifies the cursor/pointer position\n",
    "\n",
    "seek--> is used to put pointer from zeroth position again"
   ]
  },
  {
   "cell_type": "code",
   "execution_count": 27,
   "id": "1ca05312-6e69-474b-943e-073cb2231834",
   "metadata": {},
   "outputs": [
    {
     "name": "stdout",
     "output_type": "stream",
     "text": [
      "0\n"
     ]
    }
   ],
   "source": [
    "f = open(\"about_india.txt\",'r')\n",
    "print(f.tell())\n",
    "f.close()"
   ]
  },
  {
   "cell_type": "code",
   "execution_count": 30,
   "id": "93270487-3506-4af0-935e-69bd2ffcbcca",
   "metadata": {},
   "outputs": [
    {
     "name": "stdout",
     "output_type": "stream",
     "text": [
      "0\n",
      "5\n"
     ]
    }
   ],
   "source": [
    "f = open(\"about_india.txt\",'r')\n",
    "print(f.tell())\n",
    "f.read(5)\n",
    "print(f.tell())\n",
    "f.close()"
   ]
  },
  {
   "cell_type": "code",
   "execution_count": 32,
   "id": "bb3dfc1b-eda3-428f-be04-dea4cc3005fd",
   "metadata": {},
   "outputs": [
    {
     "name": "stdout",
     "output_type": "stream",
     "text": [
      "0\n",
      "India\n",
      "5\n",
      "801\n"
     ]
    }
   ],
   "source": [
    "f = open(\"about_india.txt\",'r')\n",
    "print(f.tell())\n",
    "print(f.read(5))\n",
    "print(f.tell())\n",
    "f.read()\n",
    "print(f.tell())\n",
    "f.close()"
   ]
  },
  {
   "cell_type": "code",
   "execution_count": 38,
   "id": "7dbdf454-8504-49cd-a302-3da0d1580a92",
   "metadata": {},
   "outputs": [
    {
     "name": "stdout",
     "output_type": "stream",
     "text": [
      "0\n",
      "Ind\n",
      "ia, officially known as the Republic of India, is a country in South Asia.\n",
      "It is the seventh-largest country by land area, the second-most populous country, and the most populous democracy in the world. \n",
      "Bounded by the Indian Ocean to the south, the Arabian Sea to the southwest, and the Bay of Bengal to the southeast, it shares land borders with Pakistan to the west, China, Nepal, and Bhutan to the north, and \n",
      "Bangladesh and Myanmar to the east. In the Indian Ocean, India is in the vicinity of Sri Lanka and the Maldives; its Andaman and Nicobar Islands share a maritime border with Thailand, Myanmar, and Indonesia.\n",
      "India's culture is a rich amalgamation of traditions, languages, religions, dance, music, architecture, food, and customs, differing from place to place within the country.\n"
     ]
    }
   ],
   "source": [
    "# seek\n",
    "f = open(\"about_india.txt\",'r')\n",
    "print(f.tell())\n",
    "print(f.read(3))\n",
    "print(f.read())\n",
    "f.close()"
   ]
  },
  {
   "cell_type": "code",
   "execution_count": 43,
   "id": "bc3f54b6-d234-4d26-aea5-ce7818e12a96",
   "metadata": {},
   "outputs": [
    {
     "name": "stdout",
     "output_type": "stream",
     "text": [
      "0\n",
      "Ind\n",
      "India, officially known as the Republic of India, is a country in South Asia.\n",
      "It is the seventh-largest country by land area, the second-most populous country, and the most populous democracy in the world. \n",
      "Bounded by the Indian Ocean to the south, the Arabian Sea to the southwest, and the Bay of Bengal to the southeast, it shares land borders with Pakistan to the west, China, Nepal, and Bhutan to the north, and \n",
      "Bangladesh and Myanmar to the east. In the Indian Ocean, India is in the vicinity of Sri Lanka and the Maldives; its Andaman and Nicobar Islands share a maritime border with Thailand, Myanmar, and Indonesia.\n",
      "India's culture is a rich amalgamation of traditions, languages, religions, dance, music, architecture, food, and customs, differing from place to place within the country.\n"
     ]
    }
   ],
   "source": [
    "f = open(\"about_india.txt\",'r')\n",
    "print(f.tell())\n",
    "print(f.read(3))\n",
    "f.seek(0)\n",
    "print(f.read())\n",
    "f.close()"
   ]
  },
  {
   "cell_type": "code",
   "execution_count": 1,
   "id": "2aead17e-8b9e-40b2-a0a7-50e9ee467143",
   "metadata": {},
   "outputs": [
    {
     "name": "stdout",
     "output_type": "stream",
     "text": [
      "India, officially known as the Republic of India, is a country in South Asia.\n",
      "It is the seventh-largest country by land area, the second-most populous country, and the most populous democracy in the world. \n",
      "Bounded by the Indian Ocean to the south, the Arabian Sea to the southwest, and the Bay of Bengal to the southeast, it shares land borders with Pakistan to the west, China, Nepal, and Bhutan to the north, and \n",
      "Bangladesh and Myanmar to the east. In the Indian Ocean, India is in the vicinity of Sri Lanka and the Maldives; its Andaman and Nicobar Islands share a maritime border with Thailand, Myanmar, and Indonesia.\n",
      "India's culture is a rich amalgamation of traditions, languages, religions, dance, music, architecture, food, and customs, differing from place to place within the country.\n"
     ]
    }
   ],
   "source": [
    "# # normal way\n",
    "f = open(\"about_india.txt\",'r')\n",
    "print(f.read())\n",
    "f.close()"
   ]
  },
  {
   "cell_type": "code",
   "execution_count": 2,
   "id": "c8261ed6-54ee-4351-a6a4-a1e12af3f34e",
   "metadata": {},
   "outputs": [
    {
     "name": "stdout",
     "output_type": "stream",
     "text": [
      "b\"India, officially known as the Republic of India, is a country in South Asia.\\r\\nIt is the seventh-largest country by land area, the second-most populous country, and the most populous democracy in the world. \\r\\nBounded by the Indian Ocean to the south, the Arabian Sea to the southwest, and the Bay of Bengal to the southeast, it shares land borders with Pakistan to the west, China, Nepal, and Bhutan to the north, and \\r\\nBangladesh and Myanmar to the east. In the Indian Ocean, India is in the vicinity of Sri Lanka and the Maldives; its Andaman and Nicobar Islands share a maritime border with Thailand, Myanmar, and Indonesia.\\r\\nIndia's culture is a rich amalgamation of traditions, languages, religions, dance, music, architecture, food, and customs, differing from place to place within the country.\"\n"
     ]
    }
   ],
   "source": [
    "# # normal way\n",
    "f = open(\"about_india.txt\",'rb')\n",
    "print(f.read())\n",
    "f.close()"
   ]
  },
  {
   "cell_type": "markdown",
   "id": "36feaa26-e09f-42a2-9da1-8e4b2dd14b98",
   "metadata": {},
   "source": [
    "##### Count number of lines , words  and character from text file"
   ]
  },
  {
   "cell_type": "code",
   "execution_count": 7,
   "id": "2b19e034-344a-485d-893d-bd655337eb17",
   "metadata": {},
   "outputs": [
    {
     "name": "stdout",
     "output_type": "stream",
     "text": [
      "no. of lines : 5\n",
      "no of words : 132\n",
      "no of characters : 793\n"
     ]
    }
   ],
   "source": [
    "f = open(\"about_india.txt\",'r')\n",
    "count_lines = 0\n",
    "count_words = 0\n",
    "count_chars = 0\n",
    "for lines in f:\n",
    "    count_lines += 1\n",
    "    nonewline = lines.strip(\"\\n\")\n",
    "    count_chars += len(nonewline)\n",
    "    wordlist = nonewline.split()\n",
    "    count_words += len(wordlist)\n",
    "f.close()\n",
    "print(\"no. of lines :\",count_lines)\n",
    "print(\"no of words :\",count_words)\n",
    "print(\"no of characters :\",count_chars)"
   ]
  },
  {
   "cell_type": "code",
   "execution_count": 11,
   "id": "f77d449d-e33f-405e-94f9-ae435a344574",
   "metadata": {},
   "outputs": [
    {
     "name": "stdout",
     "output_type": "stream",
     "text": [
      "Power BI\n",
      "Day-wise syllabus\n",
      "Duration: 60 Hours\n",
      "Day Topic\n",
      "1 INTRODUCTION TO POWER BI\n",
      "• Introduction\n",
      "• Downloading, Installing, and Activating the New Features in Power BI\n",
      "2 BASIC CHARTS IN POWER BI\n",
      "• Section Overview\n",
      "• Creating a Column Chart in Power BI\n",
      "• Creating a Stacked Column Chart in Power BI\n",
      "• Creating a Pie Chart in Power BI\n",
      "• Creating a Donut Chart in Power BI\n",
      "• Creating a Funnel Chart in Power BI\n",
      "• Creating a Ribbon Chart in Power BI\n",
      "• Include and Exclude in Power BI\n",
      "• Exporting Data from Visuals\n",
      "3 MAPS IN POWER BI\n",
      "• Basic Maps in Power BI\n",
      "• Creating a Filled Map\n",
      "• Creating a Map with a Pie Chart\n",
      "• Formatting a Map\n",
      "• Changing the Background in a Map\n",
      "• Creating the Map of India in Power BI\n",
      "• Creating the Map of Australia in Power BI\n",
      "4 TABLES AND MATRIX IN POWER BI\n",
      "• Creating a Table\n",
      "• Formatting a Table\n",
      "• Conditional Formatting in a Table\n",
      "• Aggregation in a Table\n",
      "• Matrix\n",
      "• Conditional Formatting in a Matrix.\n",
      "• Hierarchies in a Matrix\n",
      "• Sub-Total and Total in a Matrix\n",
      "• Formatting Numbers in a Table\n",
      "5 OTHER CHARTS IN POWER BI\n",
      "• Section Introduction\n",
      "• Line Chart in Power BI\n",
      "• Drill Down Line Chart in Power BI\n",
      "• Area Chart in Power BI\n",
      "• Line Chart versus Column Chart in Power BI\n",
      "• Scatter Plot in Power BI\n",
      "• Waterfall Chart in Power BI\n",
      "• TreeMap in Power BI\n",
      "• Gauge Chart in Power BI\n",
      "6 CARDS AND FILTERS IN POWER BI\n",
      "• Introduction\n",
      "• Number Card in Power BI\n",
      "• Text Card in Power BI\n",
      "• Formatting a Text Card in Power BI\n",
      "• Date Card\n",
      "• Date Card (Relative Filtering)\n",
      "• Multi-row Card\n",
      "• Applying Filters on Visuals\n",
      "• Applying Filters on a Page\n",
      "• Using Filters on All Pages\n",
      "• Drillthrough in Power BI\n",
      "7 SLICERS IN POWER BI\n",
      "• Slicers in Power BI\n",
      "• Text Slicers in Power BI\n",
      "• Formatting a Text Slicer\n",
      "• Date Slicers in Power BI\n",
      "• Formatting a Date Slicer\n",
      "• Number Slicers in Power BI\n",
      "8 ADVANCED CHARTS IN POWER BI\n",
      "• Advanced Charts in Power BI\n",
      "• Creating an Animated Bar Chart Race\n",
      "• Drill Down Donut Chart\n",
      "• Drill Down Column Chart\n",
      "• Creating a Word Cloud in Power BI\n",
      "• Creating a Sankey Chart in Power BI\n",
      "• Creating an Infographic in Power BI\n",
      "• Creating a Play Axis in Power BI\n",
      "• Creating a Scroller in Power BI\n",
      "• Creating a Sunburst Chart in Power BI\n",
      "• Creating a Histogram in Power BI\n",
      "9 POWER BI OBJECTS, BOOKMARKS, AND ACTIONS\n",
      "• Inserting Images in Power BI\n",
      "• Inserting Text in Power BI\n",
      "• Inserting Shapes in Power BI\n",
      "• Inserting Buttons in Power BI\n",
      "• Inserting a Web Uniform Resource Locator (URL) in Power BI\n",
      "• Inserting a Page Navigation Option in Power BI\n",
      "• Inserting a Bookmark Option in Power BI\n",
      "• Drillthrough Action in Power BI\n",
      "10 POWER BI SERVICES\n",
      "• Creating a Report in Power BI\n",
      "• Creating an Account in the Power BI Service\n",
      "• Publishing a Report to the Power BI Service\n",
      "• Exporting a Report to PPT, PDF, and PBIX\n",
      "• Commenting, Sharing, and Subscribing to Power BI Reports\n",
      "• Creating a Dashboard in the Power BI Service\n",
      "• Problems in the BI Dashboard and their Solution\n",
      "• Automatically Refreshing Reports in the Power BI Service\n",
      "11 TEXT FUNCTIONS IN POWER QUERY\n",
      "• Text Functions in Power Query\n",
      "• Merging Columns in Power Query\n",
      "• Split and Trim Functions\n",
      "• Upper Case, Lower Case and Proper Case\n",
      "• Adding Prefixes and Suffixes\n",
      "• Left, Right, and Mid Functions in Power Query\n",
      "• Extracting Text with Delimiters\n",
      "12 DATE FUNCTIONS\n",
      "• Date Functions\n",
      "• Year, Quarter, and Day Functions\n",
      "• Difference between Dates\n",
      "• Month and Day Name\n",
      "• Finding Day and Week of the Week/Month/Year\n",
      "• Extracting the Date and Time\n",
      "• Calculating Age\n",
      "• Day of Year, Quarter, or Month\n",
      "13 NUMBER FUNCTIONS IN POWER QUERY\n",
      "• Number Functions\n",
      "• Basic Number Functions\n",
      "• Percentage, Percent of, and Modulo Functions\n",
      "• Rounding Off Functions\n",
      "• IsEven and IsOdd Functions\n",
      "14 APPENDING DATA IN POWER BI\n",
      "• Appending Data\n",
      "• Appending Multiple Comma Separated Values (CSV) Files in a Folder\n",
      "• Appending Multiple Excel Sheets and Tables\n",
      "• Appending Excel Sheets or Tables with Different Columns\n",
      "• Appending Multiple Files from a Folder\n",
      "• Appending Different Data Source\n",
      "15 INTRODUCTION TO MERGE QUERIES\n",
      "• Merge Queries\n",
      "• Merging Sheets or Tables\n",
      "• Merging Data from Multiple Excel Files\n",
      "• Merging Data from Different Data Sources\n",
      "• Merging Data Having Multiple Criteria\n",
      "16 INTRODUCTION TO CONDITIONAL COLUMN AND COLUMN FROM\n",
      "EXAMPLES\n",
      "• Section Introduction\n",
      "• Column from Examples - Splitting Text\n",
      "• Column from Examples - Merging Columns\n",
      "• Column from Examples - Date\n",
      "• Column from Examples - Alphanumeric\n",
      "• Conditional Column - One Column\n",
      "• Conditional Column- Two Columns\n",
      "• Conditional Column- Comparing Two Columns\n",
      "• Conditional Column - On Dates\n",
      "17 IMPORTANT TOPICS IN POWER BI\n",
      "• Section Introduction\n",
      "• Working with the Fill up and Fill Down Options\n",
      "• Grouping in Power BI\n",
      "• How to Transpose?\n",
      "• How to Unpivot?\n",
      "• What are Data Types?\n",
      "• Replacing Errors and Values\n",
      "• Keeping and Removing Rows\n",
      "• Adding, Removing, and Going to Specific Columns\n",
      "18 M LANGUAGE\n",
      "• M Language\n",
      "• Introduction to M Language\n",
      "• ISINDATE Function in M Language\n",
      "• Adding and Subtracting Dates Using M Functions\n",
      "• Basic Date M Functions\n",
      "• Basic Text M Functions\n",
      "• Writing a Simple M Code\n",
      "• Tricks to Get Help on More than 900 M Functions\n",
      "19 Project Work\n",
      "20 Project Work\n"
     ]
    }
   ],
   "source": [
    "## reading pdf\n",
    "import pdfplumber\n",
    "with pdfplumber.open(\"mypdf.pdf\") as f:\n",
    "    for pages in f.pages:\n",
    "        text = pages.extract_text()\n",
    "        print(text)"
   ]
  },
  {
   "cell_type": "markdown",
   "id": "eec25a2e-1442-4eba-bd37-f32fe608cce0",
   "metadata": {},
   "source": [
    "#### writing into files"
   ]
  },
  {
   "cell_type": "code",
   "execution_count": 21,
   "id": "43694af0-0747-4312-9682-2b13a2750f90",
   "metadata": {},
   "outputs": [],
   "source": [
    "f = open(\"data2.txt\",'w')\n",
    "f.write(\"Vande matram\")\n",
    "f.close()"
   ]
  },
  {
   "cell_type": "code",
   "execution_count": 22,
   "id": "6e51f711-be71-4126-888b-7c2401a8946d",
   "metadata": {},
   "outputs": [
    {
     "name": "stdout",
     "output_type": "stream",
     "text": [
      "17\n"
     ]
    }
   ],
   "source": [
    "f = open(\"data1.txt\",'w',encoding='utf-8')\n",
    "f.write(\"this is new india\")\n",
    "print(f.tell())\n",
    "f.seek(18)\n",
    "f.write(\"wow\")\n",
    "f.close()"
   ]
  },
  {
   "cell_type": "code",
   "execution_count": 23,
   "id": "92956bb1-812c-4ec5-8f64-4369917b7fcd",
   "metadata": {},
   "outputs": [
    {
     "name": "stdout",
     "output_type": "stream",
     "text": [
      "enter text : hello world\n"
     ]
    }
   ],
   "source": [
    "text = input(\"enter text :\")\n",
    "f = open(\"data3.txt\",'w')\n",
    "f.write(text)\n",
    "f.close()"
   ]
  },
  {
   "cell_type": "code",
   "execution_count": 25,
   "id": "26a44fb1-d906-403b-abb5-31add9dda5db",
   "metadata": {},
   "outputs": [],
   "source": [
    "f = open('data3.txt','a')\n",
    "f.write(\"\\nappneding new text\")\n",
    "f.close()"
   ]
  },
  {
   "cell_type": "code",
   "execution_count": 29,
   "id": "b36ecd4b-dede-4fe4-8311-839dc78cc3a5",
   "metadata": {},
   "outputs": [],
   "source": [
    "# copying data from one file to another file\n",
    "f1 = open('file1.txt','r')\n",
    "f2 = open('file2.txt','w')\n",
    "for lines in f1:\n",
    "    f2.write(lines)\n",
    "f1.close()\n",
    "f2.close()"
   ]
  },
  {
   "cell_type": "markdown",
   "id": "07803c16-d72b-4c27-a0d7-82624d7c3464",
   "metadata": {},
   "source": [
    "##### r+ vs w+ vs a+\n",
    "\n",
    "r+ --> first reads then writes\n",
    "\n",
    "w+ --> first writes then reades\n",
    "\n",
    "a+ ---> first appends then writes"
   ]
  },
  {
   "cell_type": "code",
   "execution_count": 5,
   "id": "b0bbbef8-89d1-4450-8038-888cc0fc3536",
   "metadata": {},
   "outputs": [
    {
     "name": "stdout",
     "output_type": "stream",
     "text": [
      "writing again\n",
      "\n"
     ]
    }
   ],
   "source": [
    "f = open('data1.txt','r+')\n",
    "print(f.read())\n",
    "f.write(\"\\swriting another text\")\n",
    "print(f.read()) # \n",
    "f.close()"
   ]
  },
  {
   "cell_type": "code",
   "execution_count": 6,
   "id": "fe4d17ca-01f5-4904-b600-a1f8ae9de1d4",
   "metadata": {},
   "outputs": [
    {
     "name": "stdout",
     "output_type": "stream",
     "text": [
      "writing again\n"
     ]
    }
   ],
   "source": [
    "f = open('data1.txt','w+')\n",
    "f.write(\"writing again\")\n",
    "f.seek(0)\n",
    "print(f.read())\n",
    "f.close()"
   ]
  },
  {
   "cell_type": "markdown",
   "id": "7a371af9-3560-437c-972e-471a7a3dd8f4",
   "metadata": {
    "jp-MarkdownHeadingCollapsed": true
   },
   "source": [
    "## Error and Exception handling\n",
    "\n",
    "Error ---> When we write any statement syntactically wrong\n",
    "\n",
    "1) syntax error ---> Syntax error , indendation , module not found error , name error , attribute error\n",
    "2) Run error --> index error , value error , key error , type error , keyboard interrupt error\n",
    "3) symantic error ---> when your  syntax and code is correct , but logic is wrong "
   ]
  },
  {
   "cell_type": "markdown",
   "id": "7486c60c-cfe5-49f5-8c90-d986ef42fe31",
   "metadata": {},
   "source": [
    "#### syntax error"
   ]
  },
  {
   "cell_type": "code",
   "execution_count": 1,
   "id": "38c8bd53-260f-401c-bbf9-5c36875fab68",
   "metadata": {},
   "outputs": [
    {
     "ename": "SyntaxError",
     "evalue": "incomplete input (142703800.py, line 3)",
     "output_type": "error",
     "traceback": [
      "\u001b[1;36m  Cell \u001b[1;32mIn[1], line 3\u001b[1;36m\u001b[0m\n\u001b[1;33m    print(a\u001b[0m\n\u001b[1;37m           ^\u001b[0m\n\u001b[1;31mSyntaxError\u001b[0m\u001b[1;31m:\u001b[0m incomplete input\n"
     ]
    }
   ],
   "source": [
    "# syntax error\n",
    "a = 10\n",
    "print(a"
   ]
  },
  {
   "cell_type": "code",
   "execution_count": 2,
   "id": "fe8dee2a-e614-424d-aafc-224753a6cc43",
   "metadata": {},
   "outputs": [
    {
     "ename": "SyntaxError",
     "evalue": "invalid syntax (213570795.py, line 1)",
     "output_type": "error",
     "traceback": [
      "\u001b[1;36m  Cell \u001b[1;32mIn[2], line 1\u001b[1;36m\u001b[0m\n\u001b[1;33m    for i range(1,20):\u001b[0m\n\u001b[1;37m          ^\u001b[0m\n\u001b[1;31mSyntaxError\u001b[0m\u001b[1;31m:\u001b[0m invalid syntax\n"
     ]
    }
   ],
   "source": [
    "for i range(1,20):\n",
    "print(i)"
   ]
  },
  {
   "cell_type": "code",
   "execution_count": 4,
   "id": "137cb1c4-96d1-4a69-acfb-6ca56348c225",
   "metadata": {},
   "outputs": [
    {
     "name": "stdout",
     "output_type": "stream",
     "text": [
      "a is less than b\n"
     ]
    }
   ],
   "source": [
    "# indendation error\n",
    "a,b = 20,30\n",
    "if a>b:\n",
    "           print(\"a is greater than b\")\n",
    "else:\n",
    "            print(\"a is less than b\")"
   ]
  },
  {
   "cell_type": "code",
   "execution_count": 3,
   "id": "a74c18d4-0042-4762-a8c4-a28ed9c2350d",
   "metadata": {},
   "outputs": [
    {
     "ename": "IndentationError",
     "evalue": "expected an indented block after 'if' statement on line 2 (1226140378.py, line 3)",
     "output_type": "error",
     "traceback": [
      "\u001b[1;36m  Cell \u001b[1;32mIn[3], line 3\u001b[1;36m\u001b[0m\n\u001b[1;33m    print(\"a is greater than b\")\u001b[0m\n\u001b[1;37m    ^\u001b[0m\n\u001b[1;31mIndentationError\u001b[0m\u001b[1;31m:\u001b[0m expected an indented block after 'if' statement on line 2\n"
     ]
    }
   ],
   "source": [
    "a,b = 20,30\n",
    "if a>b:\n",
    "print(\"a is greater than b\")\n",
    "else:\n",
    "    print(\"a is less than b\")"
   ]
  },
  {
   "cell_type": "code",
   "execution_count": 3,
   "id": "bc98220a-49c0-4a0f-84eb-fb4eb0c8f2b0",
   "metadata": {},
   "outputs": [
    {
     "data": {
      "text/plain": [
       "3.141592653589793"
      ]
     },
     "execution_count": 3,
     "metadata": {},
     "output_type": "execute_result"
    }
   ],
   "source": [
    "# module not found error\n",
    "import math\n",
    "math.pi"
   ]
  },
  {
   "cell_type": "code",
   "execution_count": 9,
   "id": "e97a8e92-9ebf-491b-b798-8fe78254da08",
   "metadata": {},
   "outputs": [
    {
     "ename": "ModuleNotFoundError",
     "evalue": "No module named 'acer'",
     "output_type": "error",
     "traceback": [
      "\u001b[1;31m---------------------------------------------------------------------------\u001b[0m",
      "\u001b[1;31mModuleNotFoundError\u001b[0m                       Traceback (most recent call last)",
      "Cell \u001b[1;32mIn[9], line 1\u001b[0m\n\u001b[1;32m----> 1\u001b[0m \u001b[38;5;28;01mimport\u001b[39;00m \u001b[38;5;21;01macer\u001b[39;00m\n",
      "\u001b[1;31mModuleNotFoundError\u001b[0m: No module named 'acer'"
     ]
    }
   ],
   "source": [
    "import acer"
   ]
  },
  {
   "cell_type": "code",
   "execution_count": 1,
   "id": "099c189e-dca3-4ad4-af95-66b0a7c37a1e",
   "metadata": {},
   "outputs": [
    {
     "ename": "NameError",
     "evalue": "name 'c' is not defined",
     "output_type": "error",
     "traceback": [
      "\u001b[1;31m---------------------------------------------------------------------------\u001b[0m",
      "\u001b[1;31mNameError\u001b[0m                                 Traceback (most recent call last)",
      "Cell \u001b[1;32mIn[1], line 3\u001b[0m\n\u001b[0;32m      1\u001b[0m \u001b[38;5;66;03m# name error\u001b[39;00m\n\u001b[0;32m      2\u001b[0m a \u001b[38;5;241m=\u001b[39m \u001b[38;5;241m10\u001b[39m\n\u001b[1;32m----> 3\u001b[0m \u001b[38;5;28mprint\u001b[39m(a\u001b[38;5;241m+\u001b[39mc)\n",
      "\u001b[1;31mNameError\u001b[0m: name 'c' is not defined"
     ]
    }
   ],
   "source": [
    "# name error\n",
    "a = 10\n",
    "print(a+c)"
   ]
  },
  {
   "cell_type": "code",
   "execution_count": 8,
   "id": "75fba14c-6ec6-4ccf-bdeb-833d1b7d46e3",
   "metadata": {},
   "outputs": [
    {
     "data": {
      "text/plain": [
       "3.141592653589793"
      ]
     },
     "execution_count": 8,
     "metadata": {},
     "output_type": "execute_result"
    }
   ],
   "source": [
    "# attribute error\n",
    "# module not found error\n",
    "import math\n",
    "math.pi"
   ]
  },
  {
   "cell_type": "code",
   "execution_count": 9,
   "id": "aee1ee85-6650-40bd-a1d2-6574fe2437e1",
   "metadata": {},
   "outputs": [
    {
     "ename": "AttributeError",
     "evalue": "module 'math' has no attribute 'pii'",
     "output_type": "error",
     "traceback": [
      "\u001b[1;31m---------------------------------------------------------------------------\u001b[0m",
      "\u001b[1;31mAttributeError\u001b[0m                            Traceback (most recent call last)",
      "Cell \u001b[1;32mIn[9], line 1\u001b[0m\n\u001b[1;32m----> 1\u001b[0m math\u001b[38;5;241m.\u001b[39mpii\n",
      "\u001b[1;31mAttributeError\u001b[0m: module 'math' has no attribute 'pii'"
     ]
    }
   ],
   "source": [
    "math.pii"
   ]
  },
  {
   "cell_type": "code",
   "execution_count": 10,
   "id": "95f99a95-8025-40ef-b43d-70d6660fa666",
   "metadata": {},
   "outputs": [
    {
     "data": {
      "text/plain": [
       "'Udta punjab'"
      ]
     },
     "execution_count": 10,
     "metadata": {},
     "output_type": "execute_result"
    }
   ],
   "source": [
    "string = \"udta punjab\"\n",
    "string.capitalize()"
   ]
  },
  {
   "cell_type": "code",
   "execution_count": 11,
   "id": "27577781-8d27-4ff5-8cba-8db34ed4eba1",
   "metadata": {},
   "outputs": [
    {
     "ename": "AttributeError",
     "evalue": "'str' object has no attribute 'small'",
     "output_type": "error",
     "traceback": [
      "\u001b[1;31m---------------------------------------------------------------------------\u001b[0m",
      "\u001b[1;31mAttributeError\u001b[0m                            Traceback (most recent call last)",
      "Cell \u001b[1;32mIn[11], line 1\u001b[0m\n\u001b[1;32m----> 1\u001b[0m string\u001b[38;5;241m.\u001b[39msmall()\n",
      "\u001b[1;31mAttributeError\u001b[0m: 'str' object has no attribute 'small'"
     ]
    }
   ],
   "source": [
    "string.small()"
   ]
  },
  {
   "cell_type": "markdown",
   "id": "175083ea-f757-4333-bf54-b05d4bc5ab74",
   "metadata": {},
   "source": [
    "#### Runtime error"
   ]
  },
  {
   "cell_type": "code",
   "execution_count": 12,
   "id": "2d261336-b231-4048-a39a-8077db957e68",
   "metadata": {},
   "outputs": [
    {
     "data": {
      "text/plain": [
       "4"
      ]
     },
     "execution_count": 12,
     "metadata": {},
     "output_type": "execute_result"
    }
   ],
   "source": [
    "# index error\n",
    "lst = [2,3,4,5]\n",
    "lst[2]"
   ]
  },
  {
   "cell_type": "code",
   "execution_count": 13,
   "id": "7df3adda-986a-4072-8df1-b490d3726b0e",
   "metadata": {},
   "outputs": [
    {
     "ename": "IndexError",
     "evalue": "list index out of range",
     "output_type": "error",
     "traceback": [
      "\u001b[1;31m---------------------------------------------------------------------------\u001b[0m",
      "\u001b[1;31mIndexError\u001b[0m                                Traceback (most recent call last)",
      "Cell \u001b[1;32mIn[13], line 1\u001b[0m\n\u001b[1;32m----> 1\u001b[0m lst[\u001b[38;5;241m5\u001b[39m]\n",
      "\u001b[1;31mIndexError\u001b[0m: list index out of range"
     ]
    }
   ],
   "source": [
    "lst[5]"
   ]
  },
  {
   "cell_type": "code",
   "execution_count": 14,
   "id": "dae4fe2e-6c24-4b0d-bcb4-0d14b333aa2d",
   "metadata": {},
   "outputs": [
    {
     "name": "stdout",
     "output_type": "stream",
     "text": [
      "enter name : subham\n",
      "enter age : twenty five\n"
     ]
    },
    {
     "ename": "ValueError",
     "evalue": "invalid literal for int() with base 10: 'twenty five'",
     "output_type": "error",
     "traceback": [
      "\u001b[1;31m---------------------------------------------------------------------------\u001b[0m",
      "\u001b[1;31mValueError\u001b[0m                                Traceback (most recent call last)",
      "Cell \u001b[1;32mIn[14], line 3\u001b[0m\n\u001b[0;32m      1\u001b[0m \u001b[38;5;66;03m# value error\u001b[39;00m\n\u001b[0;32m      2\u001b[0m name \u001b[38;5;241m=\u001b[39m \u001b[38;5;28minput\u001b[39m(\u001b[38;5;124m\"\u001b[39m\u001b[38;5;124menter name :\u001b[39m\u001b[38;5;124m\"\u001b[39m)\n\u001b[1;32m----> 3\u001b[0m age \u001b[38;5;241m=\u001b[39m \u001b[38;5;28mint\u001b[39m(\u001b[38;5;28minput\u001b[39m(\u001b[38;5;124m\"\u001b[39m\u001b[38;5;124menter age :\u001b[39m\u001b[38;5;124m\"\u001b[39m))\n\u001b[0;32m      4\u001b[0m \u001b[38;5;28;01mif\u001b[39;00m age \u001b[38;5;241m>\u001b[39m \u001b[38;5;241m25\u001b[39m:\n\u001b[0;32m      5\u001b[0m     \u001b[38;5;28mprint\u001b[39m(\u001b[38;5;124m\"\u001b[39m\u001b[38;5;124myou are young\u001b[39m\u001b[38;5;124m\"\u001b[39m)\n",
      "\u001b[1;31mValueError\u001b[0m: invalid literal for int() with base 10: 'twenty five'"
     ]
    }
   ],
   "source": [
    "# value error\n",
    "name = input(\"enter name :\")\n",
    "age = int(input(\"enter age :\"))\n",
    "if age > 25:\n",
    "    print(\"you are young\")"
   ]
  },
  {
   "cell_type": "code",
   "execution_count": 15,
   "id": "d6b3e5ce-7d8b-4bc5-9005-9233696bf362",
   "metadata": {},
   "outputs": [
    {
     "data": {
      "text/plain": [
       "500"
      ]
     },
     "execution_count": 15,
     "metadata": {},
     "output_type": "execute_result"
    }
   ],
   "source": [
    "# key error\n",
    "d = {\"k1\":200,\"k2\":500}\n",
    "d['k2']"
   ]
  },
  {
   "cell_type": "code",
   "execution_count": 16,
   "id": "5bcab57f-dd48-4d6a-8620-5fda29c0844f",
   "metadata": {},
   "outputs": [
    {
     "ename": "KeyError",
     "evalue": "'k5'",
     "output_type": "error",
     "traceback": [
      "\u001b[1;31m---------------------------------------------------------------------------\u001b[0m",
      "\u001b[1;31mKeyError\u001b[0m                                  Traceback (most recent call last)",
      "Cell \u001b[1;32mIn[16], line 2\u001b[0m\n\u001b[0;32m      1\u001b[0m d \u001b[38;5;241m=\u001b[39m {\u001b[38;5;124m\"\u001b[39m\u001b[38;5;124mk1\u001b[39m\u001b[38;5;124m\"\u001b[39m:\u001b[38;5;241m200\u001b[39m,\u001b[38;5;124m\"\u001b[39m\u001b[38;5;124mk2\u001b[39m\u001b[38;5;124m\"\u001b[39m:\u001b[38;5;241m500\u001b[39m}\n\u001b[1;32m----> 2\u001b[0m d[\u001b[38;5;124m'\u001b[39m\u001b[38;5;124mk5\u001b[39m\u001b[38;5;124m'\u001b[39m]\n",
      "\u001b[1;31mKeyError\u001b[0m: 'k5'"
     ]
    }
   ],
   "source": [
    "d = {\"k1\":200,\"k2\":500}\n",
    "d['k5']"
   ]
  },
  {
   "cell_type": "code",
   "execution_count": 17,
   "id": "2e5d09f1-57ca-4fd4-bfd2-6fa352ff709f",
   "metadata": {},
   "outputs": [
    {
     "ename": "TypeError",
     "evalue": "can only concatenate str (not \"int\") to str",
     "output_type": "error",
     "traceback": [
      "\u001b[1;31m---------------------------------------------------------------------------\u001b[0m",
      "\u001b[1;31mTypeError\u001b[0m                                 Traceback (most recent call last)",
      "Cell \u001b[1;32mIn[17], line 4\u001b[0m\n\u001b[0;32m      2\u001b[0m name \u001b[38;5;241m=\u001b[39m \u001b[38;5;124m\"\u001b[39m\u001b[38;5;124mindore\u001b[39m\u001b[38;5;124m\"\u001b[39m\n\u001b[0;32m      3\u001b[0m age \u001b[38;5;241m=\u001b[39m \u001b[38;5;241m20\u001b[39m\n\u001b[1;32m----> 4\u001b[0m \u001b[38;5;28mprint\u001b[39m(name \u001b[38;5;241m+\u001b[39m age)\n",
      "\u001b[1;31mTypeError\u001b[0m: can only concatenate str (not \"int\") to str"
     ]
    }
   ],
   "source": [
    "# type error\n",
    "name = \"indore\"\n",
    "age = 20\n",
    "print(name + age)"
   ]
  },
  {
   "cell_type": "markdown",
   "id": "47e04fd4-2dd9-474e-b555-b0cfead906e5",
   "metadata": {},
   "source": [
    "#### Exception handling --> try , except , assert , else , finally , raise"
   ]
  },
  {
   "cell_type": "code",
   "execution_count": 3,
   "id": "7ccb4eeb-26a2-43b8-bfc4-aa806dc6e04e",
   "metadata": {},
   "outputs": [
    {
     "name": "stdout",
     "output_type": "stream",
     "text": [
      "enter number 4\n",
      "enter number 0\n"
     ]
    },
    {
     "ename": "ZeroDivisionError",
     "evalue": "division by zero",
     "output_type": "error",
     "traceback": [
      "\u001b[1;31m---------------------------------------------------------------------------\u001b[0m",
      "\u001b[1;31mZeroDivisionError\u001b[0m                         Traceback (most recent call last)",
      "Cell \u001b[1;32mIn[3], line 3\u001b[0m\n\u001b[0;32m      1\u001b[0m n1 \u001b[38;5;241m=\u001b[39m \u001b[38;5;28mint\u001b[39m(\u001b[38;5;28minput\u001b[39m(\u001b[38;5;124m\"\u001b[39m\u001b[38;5;124menter number\u001b[39m\u001b[38;5;124m\"\u001b[39m))\n\u001b[0;32m      2\u001b[0m n2 \u001b[38;5;241m=\u001b[39m \u001b[38;5;28mint\u001b[39m(\u001b[38;5;28minput\u001b[39m(\u001b[38;5;124m\"\u001b[39m\u001b[38;5;124menter number\u001b[39m\u001b[38;5;124m\"\u001b[39m))\n\u001b[1;32m----> 3\u001b[0m \u001b[38;5;28mprint\u001b[39m(n1\u001b[38;5;241m/\u001b[39mn2)\n",
      "\u001b[1;31mZeroDivisionError\u001b[0m: division by zero"
     ]
    }
   ],
   "source": [
    "n1 = int(input(\"enter number\"))\n",
    "n2 = int(input(\"enter number\"))\n",
    "print(n1/n2)"
   ]
  },
  {
   "cell_type": "code",
   "execution_count": 7,
   "id": "df57afcc-c716-4bb6-8af1-1942db83cfbb",
   "metadata": {},
   "outputs": [
    {
     "name": "stdout",
     "output_type": "stream",
     "text": [
      "enter number 4\n",
      "enter number h\n"
     ]
    },
    {
     "ename": "ValueError",
     "evalue": "invalid literal for int() with base 10: 'h'",
     "output_type": "error",
     "traceback": [
      "\u001b[1;31m---------------------------------------------------------------------------\u001b[0m",
      "\u001b[1;31mValueError\u001b[0m                                Traceback (most recent call last)",
      "Cell \u001b[1;32mIn[7], line 2\u001b[0m\n\u001b[0;32m      1\u001b[0m n1 \u001b[38;5;241m=\u001b[39m \u001b[38;5;28mint\u001b[39m(\u001b[38;5;28minput\u001b[39m(\u001b[38;5;124m\"\u001b[39m\u001b[38;5;124menter number\u001b[39m\u001b[38;5;124m\"\u001b[39m))\n\u001b[1;32m----> 2\u001b[0m n2 \u001b[38;5;241m=\u001b[39m \u001b[38;5;28mint\u001b[39m(\u001b[38;5;28minput\u001b[39m(\u001b[38;5;124m\"\u001b[39m\u001b[38;5;124menter number\u001b[39m\u001b[38;5;124m\"\u001b[39m))\n\u001b[0;32m      3\u001b[0m \u001b[38;5;28mprint\u001b[39m(n1\u001b[38;5;241m/\u001b[39mn2)\n",
      "\u001b[1;31mValueError\u001b[0m: invalid literal for int() with base 10: 'h'"
     ]
    }
   ],
   "source": [
    "n1 = int(input(\"enter number\"))\n",
    "n2 = int(input(\"enter number\"))\n",
    "print(n1/n2)"
   ]
  },
  {
   "cell_type": "code",
   "execution_count": 5,
   "id": "3603e9eb-3416-49ae-8878-e4a9fc1d4cae",
   "metadata": {},
   "outputs": [
    {
     "name": "stdout",
     "output_type": "stream",
     "text": [
      "enter number 4\n",
      "enter number 0\n",
      "division by zero\n"
     ]
    },
    {
     "name": "stdout",
     "output_type": "stream",
     "text": [
      "division by zero\n"
     ]
    }
   ],
   "source": [
    "try:\n",
    "    n1 = int(input(\"enter number\"))\n",
    "    n2 = int(input(\"enter number\"))\n",
    "    print(n1/n2)\n",
    "except ZeroDivisionError as e:\n",
    "    print(e)"
   ]
  },
  {
   "cell_type": "code",
   "execution_count": 24,
   "id": "6cc8504a-d42c-44f0-b3b5-aa2f6702c7d3",
   "metadata": {},
   "outputs": [
    {
     "name": "stdout",
     "output_type": "stream",
     "text": [
      "enter number 4\n",
      "enter number 0\n",
      "please enter other than zero\n"
     ]
    },
    {
     "name": "stdout",
     "output_type": "stream",
     "text": [
      "please enter other than zero\n"
     ]
    }
   ],
   "source": [
    "try:\n",
    "    n1 = int(input(\"enter number\"))\n",
    "    n2 = int(input(\"enter number\"))\n",
    "    print(n1/n2)\n",
    "except ZeroDivisionError :\n",
    "    print(\"please enter other than zero\")"
   ]
  },
  {
   "cell_type": "code",
   "execution_count": 11,
   "id": "d0174c88-5a24-4931-aa0c-d1a594613b29",
   "metadata": {},
   "outputs": [
    {
     "name": "stdout",
     "output_type": "stream",
     "text": [
      "enter number 4\n",
      "enter number k\n",
      "enter numbers only\n"
     ]
    },
    {
     "name": "stdout",
     "output_type": "stream",
     "text": [
      "enter numbers only\n"
     ]
    }
   ],
   "source": [
    "try:\n",
    "    n1 = int(input(\"enter number\"))\n",
    "    n2 = int(input(\"enter number\"))\n",
    "    print(n1/n2)\n",
    "except ZeroDivisionError :\n",
    "    print(\"please enter other than zero\")\n",
    "except ValueError:\n",
    "    print(\"enter numbers only\")"
   ]
  },
  {
   "cell_type": "code",
   "execution_count": 14,
   "id": "3135b493-b2f5-41da-a38b-323e5dd71e30",
   "metadata": {},
   "outputs": [
    {
     "name": "stdout",
     "output_type": "stream",
     "text": [
      "enter number 4\n",
      "enter number 2\n",
      "2.0\n",
      "programm completed\n"
     ]
    },
    {
     "name": "stdout",
     "output_type": "stream",
     "text": [
      "2.0\n",
      "programm completed\n"
     ]
    }
   ],
   "source": [
    "try:\n",
    "    n1 = int(input(\"enter number\"))\n",
    "    n2 = int(input(\"enter number\"))\n",
    "    print(n1/n2)\n",
    "except ZeroDivisionError :\n",
    "    print(\"please enter other than zero\")\n",
    "except ValueError:\n",
    "    print(\"enter numbers only\")\n",
    "finally:\n",
    "    print(\"programm completed\")"
   ]
  },
  {
   "cell_type": "code",
   "execution_count": 17,
   "id": "336646ba-dc69-4f6a-9619-f9815550c296",
   "metadata": {},
   "outputs": [
    {
     "name": "stdout",
     "output_type": "stream",
     "text": [
      "enter number 8\n",
      "enter number 2\n",
      "4.0\n",
      "programm completed\n"
     ]
    },
    {
     "name": "stdout",
     "output_type": "stream",
     "text": [
      "4.0\n",
      "programm completed\n"
     ]
    }
   ],
   "source": [
    "try:\n",
    "    n1 = int(input(\"enter number\"))\n",
    "    n2 = int(input(\"enter number\"))\n",
    "    print(n1/n2)\n",
    "except ZeroDivisionError :\n",
    "    print(\"please enter other than zero\")\n",
    "except ValueError:\n",
    "    print(\"enter numbers only\")\n",
    "else:\n",
    "    print(\"programm completed\")"
   ]
  },
  {
   "cell_type": "code",
   "execution_count": 20,
   "id": "e38a3a5d-5e98-4749-acd8-941f8297e28c",
   "metadata": {},
   "outputs": [
    {
     "name": "stdout",
     "output_type": "stream",
     "text": [
      "enter son's age : 25\n",
      "enter father's age : 20\n"
     ]
    },
    {
     "ename": "AssertionError",
     "evalue": "son's age can not be greater than father's age",
     "output_type": "error",
     "traceback": [
      "\u001b[1;31m---------------------------------------------------------------------------\u001b[0m",
      "\u001b[1;31mAssertionError\u001b[0m                            Traceback (most recent call last)",
      "Cell \u001b[1;32mIn[20], line 5\u001b[0m\n\u001b[0;32m      2\u001b[0m s \u001b[38;5;241m=\u001b[39m \u001b[38;5;28mint\u001b[39m(\u001b[38;5;28minput\u001b[39m(\u001b[38;5;124m\"\u001b[39m\u001b[38;5;124menter son\u001b[39m\u001b[38;5;124m'\u001b[39m\u001b[38;5;124ms age :\u001b[39m\u001b[38;5;124m\"\u001b[39m))\n\u001b[0;32m      3\u001b[0m f \u001b[38;5;241m=\u001b[39m \u001b[38;5;28mint\u001b[39m(\u001b[38;5;28minput\u001b[39m(\u001b[38;5;124m\"\u001b[39m\u001b[38;5;124menter father\u001b[39m\u001b[38;5;124m'\u001b[39m\u001b[38;5;124ms age :\u001b[39m\u001b[38;5;124m\"\u001b[39m))\n\u001b[1;32m----> 5\u001b[0m \u001b[38;5;28;01massert\u001b[39;00m s\u001b[38;5;241m<\u001b[39mf, \u001b[38;5;124m\"\u001b[39m\u001b[38;5;124mson\u001b[39m\u001b[38;5;124m'\u001b[39m\u001b[38;5;124ms age can not be greater than father\u001b[39m\u001b[38;5;124m'\u001b[39m\u001b[38;5;124ms age\u001b[39m\u001b[38;5;124m\"\u001b[39m\n",
      "\u001b[1;31mAssertionError\u001b[0m: son's age can not be greater than father's age"
     ]
    }
   ],
   "source": [
    "# assert \n",
    "s = int(input(\"enter son's age :\"))\n",
    "f = int(input(\"enter father's age :\"))\n",
    "\n",
    "assert s<f, \"son's age can not be greater than father's age\""
   ]
  },
  {
   "cell_type": "code",
   "execution_count": 21,
   "id": "ededd12d-545b-4478-95e6-e79d5cd291c6",
   "metadata": {},
   "outputs": [
    {
     "name": "stdout",
     "output_type": "stream",
     "text": [
      "enter son's age : 25\n",
      "enter father's age : 50\n"
     ]
    }
   ],
   "source": [
    "s = int(input(\"enter son's age :\"))\n",
    "f = int(input(\"enter father's age :\"))\n",
    "\n",
    "assert s<f, \"son's age can not be greater than father's age\""
   ]
  },
  {
   "cell_type": "code",
   "execution_count": 23,
   "id": "dbd442f8-81da-4a8e-9ef8-fa7d530ec151",
   "metadata": {},
   "outputs": [
    {
     "name": "stdout",
     "output_type": "stream",
     "text": [
      "enter son's age : 25\n",
      "enter father's age : 50\n",
      "both the ages are correct , proceed with the further logic\n"
     ]
    },
    {
     "name": "stdout",
     "output_type": "stream",
     "text": [
      "both the ages are correct , proceed with the further logic\n"
     ]
    }
   ],
   "source": [
    "s = int(input(\"enter son's age :\"))\n",
    "f = int(input(\"enter father's age :\"))\n",
    "try:\n",
    "    assert s<f, \"son's age can not be greater than father's age\"\n",
    "except AssertionError as e:\n",
    "    print(e)\n",
    "else:\n",
    "    print(\"both the ages are correct , proceed with the further logic\")"
   ]
  },
  {
   "cell_type": "code",
   "execution_count": 31,
   "id": "1be31fba-e2dc-4ebb-a16d-350a8d191541",
   "metadata": {},
   "outputs": [
    {
     "name": "stdout",
     "output_type": "stream",
     "text": [
      "enter number 4\n",
      "enter number 2\n",
      "2.0\n",
      "all correct\n"
     ]
    },
    {
     "name": "stdout",
     "output_type": "stream",
     "text": [
      "2.0\n",
      "all correct\n"
     ]
    }
   ],
   "source": [
    "# raise\n",
    "try:\n",
    "    n1 = int(input(\"enter number\"))\n",
    "    n2 = int(input(\"enter number\"))\n",
    "    if n2 == 0:\n",
    "        raise Exception(\"you are getting error because of zero\")\n",
    "    print(n1/n2)\n",
    "except ValueError :\n",
    "    print(\"plse enter integer only\")\n",
    "else:\n",
    "    print(\"all correct\")"
   ]
  },
  {
   "cell_type": "markdown",
   "id": "e9217d28-d5b1-4290-a680-d7c4d7a718e6",
   "metadata": {},
   "source": [
    "## OOPS --> Object Oriented Programming\n",
    "\n",
    "oops --> concept which was first introduced in c++ , then followed by Java and python \n",
    "\n",
    "ooP allows programmer to create their own that has its own attribute and methods\n",
    "\n",
    "Generally we use object oriented programmig for security purpose \n",
    "\n",
    "In python everything is in the form of objects \n",
    "\n",
    "\n",
    "piller of oops:\n",
    "\n",
    "1) structure --> way of write code --> statment  , fucntion\n",
    "\n",
    "   eg. a bird --> eyes(blue) , wings(small)\n",
    "\n",
    "3) behaviour --> working of the code.\n",
    "\n",
    "   eg. a bird --> can fly , can jump "
   ]
  },
  {
   "cell_type": "markdown",
   "id": "b71f7d61-8b71-42a6-8e1f-8255f3d92c86",
   "metadata": {},
   "source": [
    "#### Function vs Method\n",
    "\n",
    "Method --> method are always defined inside a class and at last we call method using class name or its instance(object) using dot operator"
   ]
  },
  {
   "cell_type": "code",
   "execution_count": 1,
   "id": "3fb8b6e6-ab67-40eb-a0c3-052830266be1",
   "metadata": {},
   "outputs": [
    {
     "name": "stdout",
     "output_type": "stream",
     "text": [
      "hello\n"
     ]
    }
   ],
   "source": [
    "# fucntion \n",
    "def intro():\n",
    "    print(\"hello\")\n",
    "intro()"
   ]
  },
  {
   "cell_type": "code",
   "execution_count": 3,
   "id": "4ac32a30-22e7-48c0-a8e3-a443e959da16",
   "metadata": {},
   "outputs": [
    {
     "name": "stdout",
     "output_type": "stream",
     "text": [
      "5\n"
     ]
    }
   ],
   "source": [
    "def add(a,b):\n",
    "    print(a+b)\n",
    "add(2,3)"
   ]
  },
  {
   "cell_type": "code",
   "execution_count": 2,
   "id": "6e413242-bcb1-438b-909a-159f217eabf5",
   "metadata": {},
   "outputs": [
    {
     "ename": "NameError",
     "evalue": "name 'add' is not defined",
     "output_type": "error",
     "traceback": [
      "\u001b[1;31m---------------------------------------------------------------------------\u001b[0m",
      "\u001b[1;31mNameError\u001b[0m                                 Traceback (most recent call last)",
      "Cell \u001b[1;32mIn[2], line 4\u001b[0m\n\u001b[0;32m      2\u001b[0m     \u001b[38;5;28;01mdef\u001b[39;00m \u001b[38;5;21madd\u001b[39m(a,b): \u001b[38;5;66;03m# methods\u001b[39;00m\n\u001b[0;32m      3\u001b[0m         \u001b[38;5;28mprint\u001b[39m(a\u001b[38;5;241m+\u001b[39mb)\n\u001b[1;32m----> 4\u001b[0m add(\u001b[38;5;241m2\u001b[39m,\u001b[38;5;241m3\u001b[39m)\n",
      "\u001b[1;31mNameError\u001b[0m: name 'add' is not defined"
     ]
    }
   ],
   "source": [
    "class Example: # class\n",
    "    def add(a,b): # methods\n",
    "        print(a+b)\n",
    "add(2,3)"
   ]
  },
  {
   "cell_type": "code",
   "execution_count": 3,
   "id": "697adced-ece9-4e39-afd8-8631eb446263",
   "metadata": {},
   "outputs": [
    {
     "name": "stdout",
     "output_type": "stream",
     "text": [
      "5\n"
     ]
    }
   ],
   "source": [
    "class Example: # class\n",
    "    def add(a,b): # methods\n",
    "        print(a+b)\n",
    "Example.add(2,3)"
   ]
  },
  {
   "cell_type": "markdown",
   "id": "12648129-49c0-45de-a4a1-a2eed8cb392e",
   "metadata": {},
   "source": [
    "#### classes , object and attributes\n",
    "\n",
    "classess --> classess are the blueprint , it encapsulates the data for methods and object to manipulate that data.\n",
    "\n",
    "objects --> object is a realworld entity that has state and behaviour associated with it.\n",
    "\n",
    "attributes --> are the variable which are defined inside a class or methods"
   ]
  },
  {
   "cell_type": "code",
   "execution_count": 4,
   "id": "c1b45e2e-210d-48d5-b861-451c5bb7c41b",
   "metadata": {},
   "outputs": [
    {
     "name": "stdout",
     "output_type": "stream",
     "text": [
      "Hello world\n"
     ]
    }
   ],
   "source": [
    "# calling by class\n",
    "\n",
    "class Sample:\n",
    "    def demo():\n",
    "        print(\"Hello world\")\n",
    "Sample.demo()"
   ]
  },
  {
   "cell_type": "code",
   "execution_count": 6,
   "id": "ce5750b7-5ebf-41d1-8885-dcc493b1638d",
   "metadata": {},
   "outputs": [
    {
     "name": "stdout",
     "output_type": "stream",
     "text": [
      "Hello world\n"
     ]
    }
   ],
   "source": [
    "# calling by class\n",
    "\n",
    "class Sample:\n",
    "    def demo(self):\n",
    "        print(\"Hello world\")\n",
    "obj = Sample()\n",
    "obj.demo()"
   ]
  },
  {
   "cell_type": "code",
   "execution_count": 10,
   "id": "f74846d9-dcbc-4096-9905-95259d113af6",
   "metadata": {},
   "outputs": [
    {
     "name": "stdout",
     "output_type": "stream",
     "text": [
      "Hello world\n"
     ]
    }
   ],
   "source": [
    "# calling by object\n",
    "class Sample: # class\n",
    "    def demo(self): # method\n",
    "        print(\"Hello world\")\n",
    "obj = Sample() # object / instance / intances of class\n",
    "obj.demo()"
   ]
  },
  {
   "cell_type": "markdown",
   "id": "e86eb686-1484-42e0-91f6-70248e5d8e5b",
   "metadata": {},
   "source": [
    "#### class variable and instance variable\n",
    "\n",
    "Class variable --> are always defined inside a class but outside any method, class variable can be acessed accross all instances. we can acess class variable using class name or instances(objects) of class."
   ]
  },
  {
   "cell_type": "code",
   "execution_count": 12,
   "id": "73a658a3-5450-4b35-8966-abce95253d40",
   "metadata": {},
   "outputs": [
    {
     "ename": "NameError",
     "evalue": "name 'a' is not defined",
     "output_type": "error",
     "traceback": [
      "\u001b[1;31m---------------------------------------------------------------------------\u001b[0m",
      "\u001b[1;31mNameError\u001b[0m                                 Traceback (most recent call last)",
      "Cell \u001b[1;32mIn[12], line 6\u001b[0m\n\u001b[0;32m      4\u001b[0m         \u001b[38;5;28mprint\u001b[39m(\u001b[38;5;124m\"\u001b[39m\u001b[38;5;124maccessing class variable inside a method :\u001b[39m\u001b[38;5;124m\"\u001b[39m,a)\n\u001b[0;32m      5\u001b[0m obj \u001b[38;5;241m=\u001b[39m Sample()\n\u001b[1;32m----> 6\u001b[0m obj\u001b[38;5;241m.\u001b[39mdemo()\n",
      "Cell \u001b[1;32mIn[12], line 4\u001b[0m, in \u001b[0;36mSample.demo\u001b[1;34m(self)\u001b[0m\n\u001b[0;32m      3\u001b[0m \u001b[38;5;28;01mdef\u001b[39;00m \u001b[38;5;21mdemo\u001b[39m(\u001b[38;5;28mself\u001b[39m):\n\u001b[1;32m----> 4\u001b[0m     \u001b[38;5;28mprint\u001b[39m(\u001b[38;5;124m\"\u001b[39m\u001b[38;5;124maccessing class variable inside a method :\u001b[39m\u001b[38;5;124m\"\u001b[39m,a)\n",
      "\u001b[1;31mNameError\u001b[0m: name 'a' is not defined"
     ]
    }
   ],
   "source": [
    "class Sample:\n",
    "    a = \"i am a class variable\"\n",
    "    def demo(self):\n",
    "        print(\"accessing class variable inside a method :\",a)\n",
    "obj = Sample()\n",
    "obj.demo()"
   ]
  },
  {
   "cell_type": "code",
   "execution_count": 16,
   "id": "77ea87fa-7dc8-4069-a1d3-ebf53ae5a456",
   "metadata": {},
   "outputs": [
    {
     "name": "stdout",
     "output_type": "stream",
     "text": [
      "accessing class variable inside a method : i am a class variable\n",
      "accessing class variable outside a method : i am a class variable\n",
      "accessing class variable outside a method : i am a class variable\n"
     ]
    }
   ],
   "source": [
    "class Sample:\n",
    "    a = \"i am a class variable\"\n",
    "    def demo(self):\n",
    "        print(\"accessing class variable inside a method :\",Sample.a)\n",
    "obj = Sample()\n",
    "obj.demo()\n",
    "print(\"accessing class variable outside a method :\",Sample.a)\n",
    "print(\"accessing class variable outside a method :\",obj.a)"
   ]
  },
  {
   "cell_type": "code",
   "execution_count": 21,
   "id": "a622ed70-95c1-4df5-a2eb-29cf3ed0d225",
   "metadata": {},
   "outputs": [
    {
     "name": "stdout",
     "output_type": "stream",
     "text": [
      "accessing instance variable inside a method : i am a instance variable\n"
     ]
    },
    {
     "ename": "NameError",
     "evalue": "name 'b' is not defined",
     "output_type": "error",
     "traceback": [
      "\u001b[1;31m---------------------------------------------------------------------------\u001b[0m",
      "\u001b[1;31mNameError\u001b[0m                                 Traceback (most recent call last)",
      "Cell \u001b[1;32mIn[21], line 8\u001b[0m\n\u001b[0;32m      6\u001b[0m obj \u001b[38;5;241m=\u001b[39m Sample()\n\u001b[0;32m      7\u001b[0m obj\u001b[38;5;241m.\u001b[39mdemo()\n\u001b[1;32m----> 8\u001b[0m \u001b[38;5;28mprint\u001b[39m(\u001b[38;5;124m\"\u001b[39m\u001b[38;5;124maccessing instance variable outside a method :\u001b[39m\u001b[38;5;124m\"\u001b[39m,b)\n",
      "\u001b[1;31mNameError\u001b[0m: name 'b' is not defined"
     ]
    }
   ],
   "source": [
    "# instance variable\n",
    "class Sample:\n",
    "    def demo(self):\n",
    "        b = \"i am a instance variable\"\n",
    "        print(\"accessing instance variable inside a method :\",b)\n",
    "obj = Sample()\n",
    "obj.demo()\n",
    "print(\"accessing instance variable outside a method :\",b)"
   ]
  },
  {
   "cell_type": "code",
   "execution_count": 24,
   "id": "649850dc-7a0d-4e61-ae93-d95682f97ee7",
   "metadata": {},
   "outputs": [
    {
     "name": "stdout",
     "output_type": "stream",
     "text": [
      "accessing instance variable inside a method : 20\n",
      "accessing class variable inside a method : 50\n",
      "accessing class variable outside a method : 50\n"
     ]
    }
   ],
   "source": [
    "class Sample:\n",
    "    a = 50\n",
    "    def demo(self):\n",
    "        b = 20\n",
    "        print(\"accessing instance variable inside a method :\",b)\n",
    "        print(\"accessing class variable inside a method :\",obj.a)\n",
    "obj = Sample()\n",
    "obj.demo()\n",
    "print(\"accessing class variable outside a method :\",obj.a)"
   ]
  },
  {
   "cell_type": "code",
   "execution_count": 26,
   "id": "5c17cdb9-7829-4fcd-b3d6-5c069a9ffd38",
   "metadata": {},
   "outputs": [
    {
     "name": "stdout",
     "output_type": "stream",
     "text": [
      "accessing instance variable inside a method : 20\n",
      "accessing class variable outside a method : 50\n",
      "accessing instance variable inside a method : 20\n",
      "accessing class variable outside a method : 50\n"
     ]
    }
   ],
   "source": [
    "class Sample:\n",
    "    a = 50\n",
    "    def demo(self):\n",
    "        b = 20\n",
    "        print(\"accessing instance variable inside a method :\",b)\n",
    "obj1 = Sample()\n",
    "obj1.demo()\n",
    "print(\"accessing class variable outside a method :\",obj1.a)\n",
    "\n",
    "obj2 = Sample()\n",
    "obj2.demo()\n",
    "print(\"accessing class variable outside a method :\",obj2.a)"
   ]
  },
  {
   "cell_type": "code",
   "execution_count": 31,
   "id": "bd6089cc-0215-433d-942c-c4613a8307df",
   "metadata": {},
   "outputs": [
    {
     "name": "stdout",
     "output_type": "stream",
     "text": [
      "x:10 and y:20\n",
      "x:50 and y:60\n"
     ]
    }
   ],
   "source": [
    "class Test:\n",
    "    def set_values(self,x,y):\n",
    "        self.x = x\n",
    "        self.y = y\n",
    "    def display(self):\n",
    "        print(f\"x:{self.x} and y:{self.y}\")\n",
    "obj1 = Test()\n",
    "# setting the value\n",
    "obj1.set_values(10,20)\n",
    "# displaying the values\n",
    "obj1.display()\n",
    "\n",
    "########################################\n",
    "\n",
    "obj2 = Test()\n",
    "# setting the value\n",
    "obj2.set_values(50,60)\n",
    "# displaying the values\n",
    "obj2.display()"
   ]
  },
  {
   "cell_type": "code",
   "execution_count": 35,
   "id": "e7c250da-a452-441f-a36e-2b6b4d9aa100",
   "metadata": {},
   "outputs": [
    {
     "name": "stdout",
     "output_type": "stream",
     "text": [
      "Name : Dr.vikas\n",
      "designation : orthologist\n",
      "City : Jabalpur\n",
      "Name : Dr.Abhilasha\n",
      "designation : opthologist\n",
      "City : bhopal\n"
     ]
    }
   ],
   "source": [
    "## example\n",
    "class Doctor:\n",
    "    def set_name(self,name):\n",
    "        self.name = name\n",
    "\n",
    "    def designation(self,desig):\n",
    "        self.desig = desig\n",
    "\n",
    "    def city_name(self,city):\n",
    "        self.city = city\n",
    "\n",
    "    def display_info(self):\n",
    "        print(f\"Name : {self.name}\")\n",
    "        print(f\"designation : {self.desig}\")\n",
    "        print(f\"City : {self.city}\")\n",
    "\n",
    "d1 = Doctor()\n",
    "\n",
    "# setting the details\n",
    "d1.set_name(\"Dr.vikas\")\n",
    "d1.designation(\"orthologist\")\n",
    "d1.city_name(\"Jabalpur\")\n",
    "\n",
    "# displaying the details\n",
    "d1.display_info()\n",
    "\n",
    "########################################################################\n",
    "\n",
    "d2 = Doctor()\n",
    "\n",
    "# setting the details\n",
    "d2.set_name(\"Dr.Abhilasha\")\n",
    "d2.designation(\"opthologist\")\n",
    "d2.city_name(\"bhopal\")\n",
    "\n",
    "# displaying the details\n",
    "d2.display_info()"
   ]
  },
  {
   "cell_type": "markdown",
   "id": "ff307a8a-a380-417d-908d-a094c41655ac",
   "metadata": {},
   "source": [
    "#### Constructor"
   ]
  },
  {
   "cell_type": "code",
   "execution_count": 42,
   "id": "aa648adb-8e60-401b-885b-07af4467362a",
   "metadata": {},
   "outputs": [
    {
     "name": "stdout",
     "output_type": "stream",
     "text": [
      "Adding new student into the database...\n",
      "Arjun 26\n",
      "Adding new student into the database...\n",
      "Karan 28\n",
      "SDSF\n"
     ]
    }
   ],
   "source": [
    "## constructor --> it used to intialize the variables , no need to call the constructors\n",
    "\n",
    "class Student:\n",
    "    college_name = \"SDSF\"\n",
    "    def __init__(self,name,age):\n",
    "        self.name = name\n",
    "        self.age = age\n",
    "        print(\"Adding new student into the database...\")\n",
    "person1 = Student(\"Arjun\",26)\n",
    "print(person1.name,person1.age)\n",
    "\n",
    "person2 = Student(\"Karan\",28)\n",
    "print(person2.name,person2.age)\n",
    "\n",
    "print(Student.college_name)"
   ]
  },
  {
   "cell_type": "code",
   "execution_count": 5,
   "id": "f5f74262-0a78-4287-b93c-076b12ece455",
   "metadata": {},
   "outputs": [
    {
     "name": "stdout",
     "output_type": "stream",
     "text": [
      "Hi Priyanshu you avg score is 74.0\n",
      "Hi Ansh you avg score is 80.0\n"
     ]
    }
   ],
   "source": [
    "# construtor eg.2\n",
    "class Student:\n",
    "    def __init__(self,name,marks):\n",
    "        self.name = name\n",
    "        self.marks = marks\n",
    "\n",
    "    def get_avg_marks(self):\n",
    "        sum = 0\n",
    "        for val in self.marks:\n",
    "            sum += val\n",
    "        print(f\"Hi {self.name} you avg score is {sum/len(self.marks)}\")\n",
    "\n",
    "s1 = Student(\"Priyanshu\",[90,99,33])\n",
    "s1.get_avg_marks()\n",
    "\n",
    "s2 = Student(\"Ansh\",[90,99,33,83,95])\n",
    "s2.get_avg_marks()"
   ]
  },
  {
   "cell_type": "markdown",
   "id": "61547393-aa3e-48d7-90df-d7ee0b02d3c9",
   "metadata": {},
   "source": [
    "#### Destructor"
   ]
  },
  {
   "cell_type": "code",
   "execution_count": 16,
   "id": "fa2cf151-3b07-4a85-8c98-f986df2374c3",
   "metadata": {},
   "outputs": [
    {
     "name": "stdout",
     "output_type": "stream",
     "text": [
      "Hi Priyanshu you avg score is 74.0\n",
      "Hi Ansh you avg score is 80.0\n"
     ]
    }
   ],
   "source": [
    "# construtor eg.2\n",
    "class Student:\n",
    "    def __init__(self,name,marks):\n",
    "        self.name = name\n",
    "        self.marks = marks\n",
    "\n",
    "    def get_avg_marks(self):\n",
    "        sum = 0\n",
    "        for val in self.marks:\n",
    "            sum += val\n",
    "        print(f\"Hi {self.name} you avg score is {sum/len(self.marks)}\")\n",
    "\n",
    "    def __del__(self): # destructor\n",
    "        # pass\n",
    "        print(\"destructor is activated\")\n",
    "\n",
    "s1 = Student(\"Priyanshu\",[90,99,33])\n",
    "s1.get_avg_marks()\n",
    "\n",
    "s2 = Student(\"Ansh\",[90,99,33,83,95])\n",
    "s2.get_avg_marks()"
   ]
  },
  {
   "cell_type": "code",
   "execution_count": 17,
   "id": "d2446477-1499-4fc5-ad32-f8259d22b8b7",
   "metadata": {},
   "outputs": [
    {
     "name": "stdout",
     "output_type": "stream",
     "text": [
      "destructor is activated\n",
      "destructor is activated\n"
     ]
    }
   ],
   "source": [
    "del s1\n",
    "del s2"
   ]
  },
  {
   "cell_type": "code",
   "execution_count": 18,
   "id": "d7334c44-5872-4a3d-82f9-fad19c79f198",
   "metadata": {},
   "outputs": [
    {
     "ename": "NameError",
     "evalue": "name 's1' is not defined",
     "output_type": "error",
     "traceback": [
      "\u001b[1;31m---------------------------------------------------------------------------\u001b[0m",
      "\u001b[1;31mNameError\u001b[0m                                 Traceback (most recent call last)",
      "Cell \u001b[1;32mIn[18], line 1\u001b[0m\n\u001b[1;32m----> 1\u001b[0m s1\u001b[38;5;241m.\u001b[39mget_avg_marks()\n",
      "\u001b[1;31mNameError\u001b[0m: name 's1' is not defined"
     ]
    }
   ],
   "source": [
    "s1.get_avg_marks()"
   ]
  },
  {
   "cell_type": "code",
   "execution_count": 19,
   "id": "198635b0-c1ef-43ff-b588-6c047d8e6a1b",
   "metadata": {},
   "outputs": [
    {
     "ename": "NameError",
     "evalue": "name 's2' is not defined",
     "output_type": "error",
     "traceback": [
      "\u001b[1;31m---------------------------------------------------------------------------\u001b[0m",
      "\u001b[1;31mNameError\u001b[0m                                 Traceback (most recent call last)",
      "Cell \u001b[1;32mIn[19], line 1\u001b[0m\n\u001b[1;32m----> 1\u001b[0m s2\u001b[38;5;241m.\u001b[39mget_avg_marks()\n",
      "\u001b[1;31mNameError\u001b[0m: name 's2' is not defined"
     ]
    }
   ],
   "source": [
    "s2.get_avg_marks()"
   ]
  },
  {
   "cell_type": "markdown",
   "id": "d79608e1-a3bd-433a-ba7f-42b44c2a9ccb",
   "metadata": {
    "jp-MarkdownHeadingCollapsed": true
   },
   "source": [
    "#### Encapsulation\n",
    "\n",
    "Wrapping up of your data in a protective wrapper , it prevents accidental modification of data. Encapsulation also promotes reuse of code."
   ]
  },
  {
   "cell_type": "code",
   "execution_count": 17,
   "id": "178910a6-2d1a-4646-8386-86eb67d2e118",
   "metadata": {},
   "outputs": [
    {
     "name": "stdout",
     "output_type": "stream",
     "text": [
      "Name : Tyrion Lannister and salary : 50000\n",
      "Name : Joe and salary : 100000\n",
      "Total empoyees : 2\n"
     ]
    }
   ],
   "source": [
    "class Employee:\n",
    "\n",
    "    empCount = 0\n",
    "\n",
    "    def __init__(self,name,salary):\n",
    "        self.name = name # public attribute\n",
    "        self.__salary = salary # private attribute\n",
    "        Employee.empCount += 1\n",
    "\n",
    "    def displayinfo(self):\n",
    "        print(f\"Name : {self.name} and salary : {self.__salary}\")\n",
    "\n",
    "emp1 = Employee(\"Tyrion Lannister\",50000)\n",
    "emp1.displayinfo()\n",
    "\n",
    "emp2 = Employee(\"Joe\",100000)\n",
    "emp2.displayinfo()\n",
    "\n",
    "print(f\"Total empoyees : {Employee.empCount}\")"
   ]
  },
  {
   "cell_type": "code",
   "execution_count": 18,
   "id": "1f9184b5-8341-471b-b3a7-b533e615e2de",
   "metadata": {},
   "outputs": [
    {
     "data": {
      "text/plain": [
       "'Tyrion Lannister'"
      ]
     },
     "execution_count": 18,
     "metadata": {},
     "output_type": "execute_result"
    }
   ],
   "source": [
    "emp1.name"
   ]
  },
  {
   "cell_type": "code",
   "execution_count": 19,
   "id": "c3d5109c-c1ec-4c9c-bd64-5dd51f7e1647",
   "metadata": {},
   "outputs": [
    {
     "ename": "AttributeError",
     "evalue": "'Employee' object has no attribute 'salary'",
     "output_type": "error",
     "traceback": [
      "\u001b[1;31m---------------------------------------------------------------------------\u001b[0m",
      "\u001b[1;31mAttributeError\u001b[0m                            Traceback (most recent call last)",
      "Cell \u001b[1;32mIn[19], line 1\u001b[0m\n\u001b[1;32m----> 1\u001b[0m emp1\u001b[38;5;241m.\u001b[39msalary\n",
      "\u001b[1;31mAttributeError\u001b[0m: 'Employee' object has no attribute 'salary'"
     ]
    }
   ],
   "source": [
    "emp1.salary"
   ]
  },
  {
   "cell_type": "code",
   "execution_count": 20,
   "id": "b5749a6b-0c7a-4faa-84dc-37d360815295",
   "metadata": {},
   "outputs": [
    {
     "data": {
      "text/plain": [
       "'Joe'"
      ]
     },
     "execution_count": 20,
     "metadata": {},
     "output_type": "execute_result"
    }
   ],
   "source": [
    "emp2.name"
   ]
  },
  {
   "cell_type": "code",
   "execution_count": 21,
   "id": "32bc0449-cdef-4f4c-b619-01e87be3c8a4",
   "metadata": {},
   "outputs": [
    {
     "ename": "AttributeError",
     "evalue": "'Employee' object has no attribute 'salary'",
     "output_type": "error",
     "traceback": [
      "\u001b[1;31m---------------------------------------------------------------------------\u001b[0m",
      "\u001b[1;31mAttributeError\u001b[0m                            Traceback (most recent call last)",
      "Cell \u001b[1;32mIn[21], line 1\u001b[0m\n\u001b[1;32m----> 1\u001b[0m emp2\u001b[38;5;241m.\u001b[39msalary\n",
      "\u001b[1;31mAttributeError\u001b[0m: 'Employee' object has no attribute 'salary'"
     ]
    }
   ],
   "source": [
    "emp2.salary"
   ]
  },
  {
   "cell_type": "markdown",
   "id": "2dce2fb7-7372-46c6-abec-5dd2f998c708",
   "metadata": {
    "jp-MarkdownHeadingCollapsed": true
   },
   "source": [
    "### Inheritance\n",
    "\n",
    "In inheritance one class can inherit the properties and methods from parent class or other classes \n",
    "\n",
    "parent class (super class) and child class (derived class)\n",
    "\n",
    "Type of inheritance\n",
    "1) single inheritance\n",
    "2) multiple inheritance\n",
    "3) hierarchical inheritance\n",
    "4) multilevel inheritance"
   ]
  },
  {
   "cell_type": "code",
   "execution_count": 39,
   "id": "93c2b512-6c8d-4d4c-a3f0-68b5e498f82f",
   "metadata": {},
   "outputs": [
    {
     "name": "stdout",
     "output_type": "stream",
     "text": [
      "displaying child class.\n",
      "displaying parent class.\n"
     ]
    }
   ],
   "source": [
    "# single inheritance\n",
    "\n",
    "class Parent:\n",
    "    def dislplayA(self):\n",
    "        print(\"displaying parent class.\")\n",
    "\n",
    "class Child(Parent):\n",
    "    def dislplayB(self):\n",
    "        print(\"displaying child class.\")\n",
    "\n",
    "obj = Child()\n",
    "obj.dislplayB()\n",
    "obj.dislplayA()"
   ]
  },
  {
   "cell_type": "code",
   "execution_count": 40,
   "id": "6a9d36d1-c40e-43f2-85c2-5f6f3bbcb3ab",
   "metadata": {},
   "outputs": [
    {
     "name": "stdout",
     "output_type": "stream",
     "text": [
      "displaying class C.\n",
      "displaying class B.\n",
      "displaying class A.\n"
     ]
    }
   ],
   "source": [
    "# multiple inheritance --> Bottom to top approach\n",
    "class A:\n",
    "    def dislplayA(self):\n",
    "        print(\"displaying class A.\")\n",
    "\n",
    "class B(A):\n",
    "    def dislplayB(self):\n",
    "        print(\"displaying class B.\")\n",
    "\n",
    "class C(B,A):\n",
    "    def dislplayC(self):\n",
    "        print(\"displaying class C.\")\n",
    "\n",
    "class D(C,B,A):\n",
    "    def dislplayD(self):\n",
    "        print(\"displaying class D.\")\n",
    "\n",
    "obj = D()\n",
    "obj.dislplayC()\n",
    "obj.dislplayB()\n",
    "obj.dislplayA()"
   ]
  },
  {
   "cell_type": "code",
   "execution_count": null,
   "id": "88f10ce2-eb00-45ca-93b7-344cd7666819",
   "metadata": {},
   "outputs": [],
   "source": [
    "                                        Father\n",
    "                                          |\n",
    "                                ----------------------\n",
    "                                |                    |\n",
    "                               Son                  Daughter"
   ]
  },
  {
   "cell_type": "code",
   "execution_count": 45,
   "id": "ad9c385a-1daf-4c37-a2c0-de23b95715a1",
   "metadata": {},
   "outputs": [
    {
     "name": "stdout",
     "output_type": "stream",
     "text": [
      "displaying father class\n"
     ]
    },
    {
     "ename": "AttributeError",
     "evalue": "'Daughter' object has no attribute 'displayB'",
     "output_type": "error",
     "traceback": [
      "\u001b[1;31m---------------------------------------------------------------------------\u001b[0m",
      "\u001b[1;31mAttributeError\u001b[0m                            Traceback (most recent call last)",
      "Cell \u001b[1;32mIn[45], line 16\u001b[0m\n\u001b[0;32m     14\u001b[0m obj \u001b[38;5;241m=\u001b[39m Daughter()\n\u001b[0;32m     15\u001b[0m obj\u001b[38;5;241m.\u001b[39mdisplayA()\n\u001b[1;32m---> 16\u001b[0m obj\u001b[38;5;241m.\u001b[39mdisplayB()\n",
      "\u001b[1;31mAttributeError\u001b[0m: 'Daughter' object has no attribute 'displayB'"
     ]
    }
   ],
   "source": [
    "# hierarchical inheritance\n",
    "class Father:\n",
    "    def displayA(self):\n",
    "        print(\"displaying father class\")\n",
    "\n",
    "class Son(Father):\n",
    "    def displayB(self):\n",
    "        print(\"displaying Son class\")\n",
    "\n",
    "class Daughter(Father):\n",
    "    def displayC(self):\n",
    "        print(\"displaying Daughter class\")\n",
    "\n",
    "obj = Daughter()\n",
    "obj.displayA()\n",
    "obj.displayB()"
   ]
  },
  {
   "cell_type": "code",
   "execution_count": 49,
   "id": "048d4c0a-138b-404b-bdce-25f9334716e4",
   "metadata": {},
   "outputs": [
    {
     "name": "stdout",
     "output_type": "stream",
     "text": [
      "displaying class C.\n",
      "displaying class B.\n",
      "displaying class A.\n"
     ]
    }
   ],
   "source": [
    "# Multilevel inheritance\n",
    "class A:\n",
    "    def dislplayA(self):\n",
    "        print(\"displaying class A.\")\n",
    "\n",
    "class B(A):\n",
    "    def dislplayB(self):\n",
    "        print(\"displaying class B.\")\n",
    "\n",
    "class C(B):\n",
    "    def dislplayC(self):\n",
    "        print(\"displaying class C.\")\n",
    "\n",
    "class D(C):\n",
    "    def dislplayD(self):\n",
    "        print(\"displaying class D.\")\n",
    "\n",
    "obj = D()\n",
    "obj.dislplayC()\n",
    "obj.dislplayB()\n",
    "obj.dislplayA()"
   ]
  },
  {
   "cell_type": "markdown",
   "id": "6c78c2b6-23f0-40c3-9256-636bdc5021a5",
   "metadata": {
    "jp-MarkdownHeadingCollapsed": true
   },
   "source": [
    "### Polymorphism\n",
    "\n",
    "polymorphism means many form , An entity can work in many form.\n",
    "\n",
    "Laptop --> vedio game play , can play music , can do coding\n",
    "\n",
    "1) method overloading\n",
    "2) method overriding\n",
    "3) operator overloading"
   ]
  },
  {
   "cell_type": "code",
   "execution_count": 2,
   "id": "728e4e54-60c3-49ef-8e56-7b7170e8b4fa",
   "metadata": {},
   "outputs": [
    {
     "name": "stdout",
     "output_type": "stream",
     "text": [
      "data science\n",
      "5\n",
      "num 5\n"
     ]
    }
   ],
   "source": [
    "print(\"data science\")\n",
    "print(2+3)\n",
    "print(\"num\",5)"
   ]
  },
  {
   "cell_type": "markdown",
   "id": "76b87b71-dd6c-407b-abd1-4e82731609eb",
   "metadata": {},
   "source": [
    "#### method overloading"
   ]
  },
  {
   "cell_type": "code",
   "execution_count": 7,
   "id": "b1a94390-bdfb-48f9-a297-c5a5832d8d60",
   "metadata": {},
   "outputs": [
    {
     "name": "stdout",
     "output_type": "stream",
     "text": [
      "addition : 5\n",
      "addition : ab\n",
      "addition : (6+5j)\n",
      "addition : 6.5\n"
     ]
    }
   ],
   "source": [
    "class Overloading:\n",
    "    def show(self,a,b):\n",
    "        self.a = a\n",
    "        self.b = b\n",
    "        print(\"addition :\",self.a + self.b)\n",
    "\n",
    "k = Overloading()\n",
    "k.show(2,3)\n",
    "k.show('a','b')\n",
    "k.show(2,4+5j)\n",
    "k.show(2,4.5)"
   ]
  },
  {
   "cell_type": "markdown",
   "id": "c632bef7-9cf4-4094-b368-f0c2a7438a3b",
   "metadata": {},
   "source": [
    "#### method overriding"
   ]
  },
  {
   "cell_type": "code",
   "execution_count": 9,
   "id": "9b09f400-ae30-43f1-b489-eedd83afcf54",
   "metadata": {},
   "outputs": [
    {
     "name": "stdout",
     "output_type": "stream",
     "text": [
      "i am child class.\n",
      "i am parent clas.\n"
     ]
    }
   ],
   "source": [
    " # normal single inheritance\n",
    "class Parent:\n",
    "    def demo1(self):\n",
    "        print(\"i am parent clas.\")\n",
    "\n",
    "class Child(Parent):\n",
    "    def demo2(self):\n",
    "        print(\"i am child class.\")\n",
    "\n",
    "obj = Child()\n",
    "obj.demo2()\n",
    "obj.demo1()"
   ]
  },
  {
   "cell_type": "code",
   "execution_count": 11,
   "id": "8229e668-aa51-4adc-9384-2de2ff300401",
   "metadata": {},
   "outputs": [
    {
     "name": "stdout",
     "output_type": "stream",
     "text": [
      "i am parent clas.\n"
     ]
    }
   ],
   "source": [
    "class Parent:\n",
    "    def demo(self):\n",
    "        print(\"i am parent clas.\")\n",
    "\n",
    "class Child(Parent):\n",
    "    def demo(self):\n",
    "        print(\"i am child class.\")\n",
    "\n",
    "# obj = Child()\n",
    "# obj.demo()\n",
    "\n",
    "obj = Parent()\n",
    "obj.demo()"
   ]
  },
  {
   "cell_type": "code",
   "execution_count": 12,
   "id": "4b59abed-a196-43da-828d-c3455ea0bd2f",
   "metadata": {},
   "outputs": [
    {
     "name": "stdout",
     "output_type": "stream",
     "text": [
      "i am child class.\n",
      "i am parent clas.\n"
     ]
    }
   ],
   "source": [
    "class Parent:\n",
    "    def demo(self):\n",
    "        print(\"i am parent clas.\")\n",
    "\n",
    "class Child(Parent):\n",
    "    def demo(self):\n",
    "        print(\"i am child class.\")\n",
    "        super().demo()\n",
    "\n",
    "obj = Child()\n",
    "obj.demo()"
   ]
  },
  {
   "cell_type": "markdown",
   "id": "7da1e7ba-bc0f-42d0-96a8-eba5af5fcc01",
   "metadata": {},
   "source": [
    "#### operator overloading"
   ]
  },
  {
   "cell_type": "code",
   "execution_count": 14,
   "id": "f6db867c-33b3-45dc-a0dd-1e2cd03820c2",
   "metadata": {},
   "outputs": [
    {
     "name": "stdout",
     "output_type": "stream",
     "text": [
      "enter : \"d\"\n",
      "enter : 2\n",
      "dd\n"
     ]
    },
    {
     "name": "stdout",
     "output_type": "stream",
     "text": [
      "dd\n"
     ]
    }
   ],
   "source": [
    "n1 = eval(input(\"enter :\"))\n",
    "n2 = eval(input(\"enter :\"))\n",
    "print(n1*n2)"
   ]
  },
  {
   "cell_type": "markdown",
   "id": "3da3db12-ee15-46e4-a9b3-f68b26619ad9",
   "metadata": {},
   "source": [
    "### Abstraction --> hiding unccessary data"
   ]
  },
  {
   "cell_type": "code",
   "execution_count": null,
   "id": "720c2507-8de0-4db5-9a3c-bbb4f956f069",
   "metadata": {},
   "outputs": [],
   "source": []
  },
  {
   "cell_type": "raw",
   "id": "460b199f-fb06-4053-8bb6-0615ff15646e",
   "metadata": {},
   "source": [
    "              BankApp(databse)\n",
    "                     |\n",
    "            --------------------\n",
    "            |                  |\n",
    "        WebApp             MobileApp"
   ]
  },
  {
   "cell_type": "code",
   "execution_count": 49,
   "id": "4d77b192-ca9b-4827-a034-bfbcb3c218bc",
   "metadata": {},
   "outputs": [],
   "source": [
    "#data abstraction #OOPs\n",
    "from abc import ABC, abstractmethod\n",
    "\n",
    "class parent(ABC):\n",
    "    \n",
    "    @abstractmethod\n",
    "    def fun1(self):\n",
    "        pass\n",
    "        \n",
    "    def fun2(self):\n",
    "        print(\"this is an parent class\")"
   ]
  },
  {
   "cell_type": "code",
   "execution_count": 50,
   "id": "0d1af36a-e44d-4182-bfce-6f1d86c9e6a4",
   "metadata": {},
   "outputs": [],
   "source": [
    "class child(parent):\n",
    "    def fun1(self):\n",
    "        print(\"this is an child class\")"
   ]
  },
  {
   "cell_type": "code",
   "execution_count": 51,
   "id": "30c96cff-ad2e-4625-a5e6-576c77763f66",
   "metadata": {},
   "outputs": [
    {
     "name": "stdout",
     "output_type": "stream",
     "text": [
      "this is an child class\n",
      "this is an parent class\n"
     ]
    }
   ],
   "source": [
    "obj=child()\n",
    "obj.fun1()\n",
    "obj.fun2()"
   ]
  },
  {
   "cell_type": "markdown",
   "id": "ff5e05fa-a879-44d5-89a6-fc89bc41a1f5",
   "metadata": {},
   "source": [
    "#### eg2."
   ]
  },
  {
   "cell_type": "code",
   "execution_count": 52,
   "id": "26839b78-77bb-4534-b436-5afa4819f3f9",
   "metadata": {},
   "outputs": [],
   "source": [
    "from abc import  ABC , abstractmethod\n",
    "\n",
    "class BankApp(ABC):\n",
    "    def database(self):\n",
    "        print(\"accessing database..\")\n",
    "\n",
    "    @abstractmethod\n",
    "    def security(self):\n",
    "        pass"
   ]
  },
  {
   "cell_type": "code",
   "execution_count": 53,
   "id": "b0a447bf-48d0-431f-99f9-dda09014c8a0",
   "metadata": {},
   "outputs": [],
   "source": [
    "class MobileApp(BankApp):\n",
    "    def mobile_login(self):\n",
    "        print(\"login into mobile..\")\n",
    "\n",
    "    def security(self):\n",
    "        print(\"mobile security\")"
   ]
  },
  {
   "cell_type": "code",
   "execution_count": 54,
   "id": "47118871-dace-4184-bc2a-e8394baff8ef",
   "metadata": {},
   "outputs": [],
   "source": [
    "obj = MobileApp()"
   ]
  },
  {
   "cell_type": "code",
   "execution_count": 55,
   "id": "d0901b9f-f26d-40cd-9b5b-3a0b6ae8a151",
   "metadata": {},
   "outputs": [
    {
     "name": "stdout",
     "output_type": "stream",
     "text": [
      "accessing database..\n"
     ]
    }
   ],
   "source": [
    "obj.database()"
   ]
  },
  {
   "cell_type": "code",
   "execution_count": 56,
   "id": "066670fa-9bdd-4527-918c-91d80dd05a41",
   "metadata": {},
   "outputs": [
    {
     "name": "stdout",
     "output_type": "stream",
     "text": [
      "login into mobile..\n"
     ]
    }
   ],
   "source": [
    "obj.mobile_login()"
   ]
  },
  {
   "cell_type": "code",
   "execution_count": 57,
   "id": "0a9b3405-c802-4d38-a9ed-3052ed73f548",
   "metadata": {},
   "outputs": [
    {
     "name": "stdout",
     "output_type": "stream",
     "text": [
      "mobile security\n"
     ]
    }
   ],
   "source": [
    "obj.security()"
   ]
  },
  {
   "cell_type": "markdown",
   "id": "c03afa0f-0664-4e23-9fbf-dda278b40a71",
   "metadata": {},
   "source": [
    "## Oops Projects"
   ]
  },
  {
   "cell_type": "code",
   "execution_count": 4,
   "id": "36c57248-b839-47ba-b069-1a40852a433a",
   "metadata": {},
   "outputs": [
    {
     "name": "stdout",
     "output_type": "stream",
     "text": [
      "0.9\n",
      "0.1\n",
      "0\n"
     ]
    }
   ],
   "source": [
    "class CropRatio:\n",
    "    def __init__(self):\n",
    "        self.crop_data = {}\n",
    "\n",
    "    def add(self, crop, ratio):\n",
    "        crop = crop.lower()  # Normalize the crop name to handle case-insensitivity\n",
    "        if crop in self.crop_data:\n",
    "            self.crop_data[crop] += ratio\n",
    "        else:\n",
    "            self.crop_data[crop] = ratio\n",
    "\n",
    "    def proportion(self, crop):\n",
    "        crop = crop.lower()\n",
    "        total = sum(self.crop_data.values())\n",
    "        if crop in self.crop_data:\n",
    "            return self.crop_data[crop] / total\n",
    "        else:\n",
    "            return 0\n",
    "\n",
    "# Example usage\n",
    "crop_ratio = CropRatio()\n",
    "crop_ratio.add(\"Wheat\", 4)\n",
    "crop_ratio.add(\"Wheat\", 5)\n",
    "crop_ratio.add(\"Rice\", 1)\n",
    "\n",
    "print(crop_ratio.proportion(\"Wheat\"))  # Output the proportion of Wheat\n",
    "print(crop_ratio.proportion(\"Rice\"))   # Output the proportion of Rice\n",
    "print(crop_ratio.proportion(\"Corn\"))   # Output \"Crop not found\" since Corn is not in the data"
   ]
  },
  {
   "cell_type": "markdown",
   "id": "5c6d7397-e71e-4e04-90d3-bdfc104c5c23",
   "metadata": {
    "jp-MarkdownHeadingCollapsed": true
   },
   "source": [
    "#### Oops project in Banking System"
   ]
  },
  {
   "cell_type": "code",
   "execution_count": 62,
   "id": "9b679d25-c682-4c47-9d60-1a8ea25ed9e2",
   "metadata": {},
   "outputs": [
    {
     "name": "stdout",
     "output_type": "stream",
     "text": [
      "nalance : 10000\n",
      "account : 25255\n"
     ]
    }
   ],
   "source": [
    "class Account:\n",
    "    def __init__(self,bal,acc):\n",
    "        self.balance = bal\n",
    "        self.account = acc\n",
    "\n",
    "acc1 = Account(10000,25255)\n",
    "print(\"nalance :\",acc1.balance)\n",
    "print(\"account :\",acc1.account)"
   ]
  },
  {
   "cell_type": "code",
   "execution_count": 73,
   "id": "c104b117-3e26-4249-89ef-a6bccf8d7460",
   "metadata": {},
   "outputs": [],
   "source": [
    "class Account:\n",
    "    def __init__(self,bal,acc):\n",
    "        self.balance = bal\n",
    "        self.account = acc\n",
    "\n",
    "    def debit(self,amount):\n",
    "        self.balance -= amount\n",
    "        print(f\"Rs.{amount} is debited.\")\n",
    "        print(\"Total balance is :\",self.get_balance())\n",
    "\n",
    "    def credit(self,amount):\n",
    "        self.balance += amount\n",
    "        print(f\"Rs.{amount} is credited.\")\n",
    "        print(\"Total balance is :\",self.get_balance())\n",
    "\n",
    "    # getter method\n",
    "    def get_balance(self):\n",
    "        return self.balance\n",
    "\n",
    "acc1 = Account(10000,1234)"
   ]
  },
  {
   "cell_type": "code",
   "execution_count": 74,
   "id": "d96563ac-ccf8-4513-8b6e-474b82768015",
   "metadata": {},
   "outputs": [
    {
     "name": "stdout",
     "output_type": "stream",
     "text": [
      "Rs.1000 is debited.\n",
      "Total balance is : 9000\n"
     ]
    }
   ],
   "source": [
    "acc1.debit(1000)"
   ]
  },
  {
   "cell_type": "code",
   "execution_count": 75,
   "id": "149ee248-c77d-4bed-af87-e9dc8e5e2477",
   "metadata": {},
   "outputs": [
    {
     "name": "stdout",
     "output_type": "stream",
     "text": [
      "Rs.500 is credited.\n",
      "Total balance is : 9500\n"
     ]
    }
   ],
   "source": [
    "acc1.credit(500)"
   ]
  },
  {
   "cell_type": "code",
   "execution_count": 76,
   "id": "dae95f0d-787b-4015-ab61-a46260087010",
   "metadata": {},
   "outputs": [
    {
     "name": "stdout",
     "output_type": "stream",
     "text": [
      "Rs.50000 is credited.\n",
      "Total balance is : 59500\n"
     ]
    }
   ],
   "source": [
    "acc1.credit(50000)"
   ]
  },
  {
   "cell_type": "code",
   "execution_count": 77,
   "id": "5aa0a9e8-8859-4ba3-852d-63c7e838855d",
   "metadata": {},
   "outputs": [
    {
     "name": "stdout",
     "output_type": "stream",
     "text": [
      "Rs.7000 is debited.\n",
      "Total balance is : 52500\n"
     ]
    }
   ],
   "source": [
    "# paying rent\n",
    "acc1.debit(7000)"
   ]
  }
 ],
 "metadata": {
  "kernelspec": {
   "display_name": "Python 3 (ipykernel)",
   "language": "python",
   "name": "python3"
  },
  "language_info": {
   "codemirror_mode": {
    "name": "ipython",
    "version": 3
   },
   "file_extension": ".py",
   "mimetype": "text/x-python",
   "name": "python",
   "nbconvert_exporter": "python",
   "pygments_lexer": "ipython3",
   "version": "3.11.7"
  },
  "widgets": {
   "application/vnd.jupyter.widget-state+json": {
    "state": {},
    "version_major": 2,
    "version_minor": 0
   }
  }
 },
 "nbformat": 4,
 "nbformat_minor": 5
}
