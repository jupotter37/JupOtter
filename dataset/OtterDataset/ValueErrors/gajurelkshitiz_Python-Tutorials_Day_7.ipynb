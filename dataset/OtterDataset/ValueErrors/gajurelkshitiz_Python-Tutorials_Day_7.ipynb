{
 "cells": [
  {
   "cell_type": "markdown",
   "metadata": {},
   "source": [
    "### Iterables\n",
    "    An object/collection that can return its elements one at a time, \n",
    "    allowing it to be iterated over in a loop."
   ]
  },
  {
   "cell_type": "code",
   "execution_count": 1,
   "metadata": {},
   "outputs": [
    {
     "name": "stdout",
     "output_type": "stream",
     "text": [
      "1 2 3 4 5 "
     ]
    }
   ],
   "source": [
    "numbers = [1,2,3,4,5]\n",
    "\n",
    "for number in numbers:\n",
    "    print(number, end=\" \")"
   ]
  },
  {
   "cell_type": "code",
   "execution_count": 2,
   "metadata": {},
   "outputs": [
    {
     "name": "stdout",
     "output_type": "stream",
     "text": [
      "5 4 3 2 1 "
     ]
    }
   ],
   "source": [
    "for number in reversed(numbers):\n",
    "    print(number, end=\" \")"
   ]
  },
  {
   "cell_type": "code",
   "execution_count": 3,
   "metadata": {},
   "outputs": [
    {
     "name": "stdout",
     "output_type": "stream",
     "text": [
      "1 2 3 4 5 "
     ]
    }
   ],
   "source": [
    "numbers = (1,2,3,4,5)\n",
    "\n",
    "for number in numbers:\n",
    "    print(number, end=\" \")"
   ]
  },
  {
   "cell_type": "code",
   "execution_count": 6,
   "metadata": {},
   "outputs": [
    {
     "name": "stdout",
     "output_type": "stream",
     "text": [
      "5 4 3 2 1 "
     ]
    }
   ],
   "source": [
    "numbers = (1,2,3,4,5)\n",
    "\n",
    "for number in reversed(numbers):\n",
    "    print(number, end=\" \")"
   ]
  },
  {
   "cell_type": "code",
   "execution_count": 5,
   "metadata": {},
   "outputs": [
    {
     "name": "stdout",
     "output_type": "stream",
     "text": [
      "apple\n",
      "coconut\n",
      "orange\n",
      "banana\n"
     ]
    }
   ],
   "source": [
    "fruits = {\"apple\",\"orange\",\"banana\",\"coconut\"}\n",
    "\n",
    "for fruit in fruits:\n",
    "    print(fruit)"
   ]
  },
  {
   "cell_type": "code",
   "execution_count": 7,
   "metadata": {},
   "outputs": [
    {
     "ename": "TypeError",
     "evalue": "'set' object is not reversible",
     "output_type": "error",
     "traceback": [
      "\u001b[1;31m---------------------------------------------------------------------------\u001b[0m",
      "\u001b[1;31mTypeError\u001b[0m                                 Traceback (most recent call last)",
      "Cell \u001b[1;32mIn[7], line 3\u001b[0m\n\u001b[0;32m      1\u001b[0m fruits \u001b[38;5;241m=\u001b[39m {\u001b[38;5;124m\"\u001b[39m\u001b[38;5;124mapple\u001b[39m\u001b[38;5;124m\"\u001b[39m,\u001b[38;5;124m\"\u001b[39m\u001b[38;5;124morange\u001b[39m\u001b[38;5;124m\"\u001b[39m,\u001b[38;5;124m\"\u001b[39m\u001b[38;5;124mbanana\u001b[39m\u001b[38;5;124m\"\u001b[39m,\u001b[38;5;124m\"\u001b[39m\u001b[38;5;124mcoconut\u001b[39m\u001b[38;5;124m\"\u001b[39m}\n\u001b[1;32m----> 3\u001b[0m \u001b[38;5;28;01mfor\u001b[39;00m fruit \u001b[38;5;129;01min\u001b[39;00m \u001b[38;5;28;43mreversed\u001b[39;49m\u001b[43m(\u001b[49m\u001b[43mfruits\u001b[49m\u001b[43m)\u001b[49m:\n\u001b[0;32m      4\u001b[0m     \u001b[38;5;28mprint\u001b[39m(fruit)\n",
      "\u001b[1;31mTypeError\u001b[0m: 'set' object is not reversible"
     ]
    }
   ],
   "source": [
    "fruits = {\"apple\",\"orange\",\"banana\",\"coconut\"}\n",
    "\n",
    "for fruit in reversed(fruits):\n",
    "    print(fruit)"
   ]
  },
  {
   "cell_type": "code",
   "execution_count": 8,
   "metadata": {},
   "outputs": [
    {
     "name": "stdout",
     "output_type": "stream",
     "text": [
      "k s h i t i z   g a j u r e l "
     ]
    }
   ],
   "source": [
    "name = \"kshitiz gajurel\"\n",
    "\n",
    "for character in name:\n",
    "    print(character, end=\" \")"
   ]
  },
  {
   "cell_type": "code",
   "execution_count": 10,
   "metadata": {},
   "outputs": [],
   "source": [
    "my_dictionary = {\"A\":1,\"B\":2,\"C\":3}"
   ]
  },
  {
   "cell_type": "code",
   "execution_count": 11,
   "metadata": {},
   "outputs": [
    {
     "name": "stdout",
     "output_type": "stream",
     "text": [
      "A\n",
      "B\n",
      "C\n"
     ]
    }
   ],
   "source": [
    "for key in my_dictionary:\n",
    "    print(key)"
   ]
  },
  {
   "cell_type": "code",
   "execution_count": 12,
   "metadata": {},
   "outputs": [
    {
     "name": "stdout",
     "output_type": "stream",
     "text": [
      "1\n",
      "2\n",
      "3\n"
     ]
    }
   ],
   "source": [
    "for value in my_dictionary.values():\n",
    "    print(value)"
   ]
  },
  {
   "cell_type": "code",
   "execution_count": 13,
   "metadata": {},
   "outputs": [
    {
     "name": "stdout",
     "output_type": "stream",
     "text": [
      "A : 1\n",
      "B : 2\n",
      "C : 3\n"
     ]
    }
   ],
   "source": [
    "for key,value in my_dictionary.items():\n",
    "    print(f\"{key} : {value}\")"
   ]
  },
  {
   "cell_type": "markdown",
   "metadata": {},
   "source": [
    "### Membership operators\n",
    "\n",
    "    used to test whether a value or variable is found in a sequence \n",
    "    (string, list, tuple, set, or dictionary)\n",
    "\n",
    "    1. in\n",
    "    2. not in"
   ]
  },
  {
   "cell_type": "code",
   "execution_count": 14,
   "metadata": {},
   "outputs": [
    {
     "name": "stdout",
     "output_type": "stream",
     "text": [
      "There is a L\n"
     ]
    }
   ],
   "source": [
    "word = \"APPLE\"\n",
    "\n",
    "letter = input(\"Guess a letter in the secret word: \")\n",
    "\n",
    "if letter in word:\n",
    "    print(f\"There is a {letter}\")\n",
    "    \n",
    "else:\n",
    "    print(f\"{letter} was not found.\")"
   ]
  },
  {
   "cell_type": "code",
   "execution_count": 16,
   "metadata": {},
   "outputs": [
    {
     "name": "stdout",
     "output_type": "stream",
     "text": [
      "Patrick's grade is D\n"
     ]
    }
   ],
   "source": [
    "grades = {\"Sandy\" : \"A\",\n",
    "          \"Squirdward\" : \"B\",\n",
    "          \"Spongebob\" : \"C\",\n",
    "          \"Patrick\" : \"D\"}\n",
    "\n",
    "student = input(\"Enter the name of the student: \")\n",
    "\n",
    "if student in grades:\n",
    "    print(f\"{student}'s grade is {grades[student]}\")\n",
    "else:\n",
    "    print(f\"{student} was not found.\")"
   ]
  },
  {
   "cell_type": "code",
   "execution_count": 19,
   "metadata": {},
   "outputs": [
    {
     "name": "stdout",
     "output_type": "stream",
     "text": [
      "Valid email.\n"
     ]
    }
   ],
   "source": [
    "email = \"kshitizgajurel@hotmail.com\"\n",
    "\n",
    "if \"@\" in email and \".\" in email:\n",
    "    print(\"Valid email.\")\n",
    "else:\n",
    "    print(\"Invalid email.\")"
   ]
  },
  {
   "cell_type": "markdown",
   "metadata": {},
   "source": [
    "### List Comprehension\n",
    "\n",
    "        A concise way to create lists in python.\n",
    "        compact and easier to read than traditional loops\n",
    "\n",
    "        [expression for value in iterable if condition]"
   ]
  },
  {
   "cell_type": "code",
   "execution_count": 20,
   "metadata": {},
   "outputs": [],
   "source": [
    "doubles = []\n",
    "\n",
    "for x in range(1,11):\n",
    "    doubles.append(x)"
   ]
  },
  {
   "cell_type": "code",
   "execution_count": 21,
   "metadata": {},
   "outputs": [
    {
     "name": "stdout",
     "output_type": "stream",
     "text": [
      "[1, 2, 3, 4, 5, 6, 7, 8, 9, 10]\n"
     ]
    }
   ],
   "source": [
    "print(doubles)"
   ]
  },
  {
   "cell_type": "code",
   "execution_count": 22,
   "metadata": {},
   "outputs": [],
   "source": [
    "# list comprehension:\n",
    "\n",
    "doubles = [x for x in range(1,11)]"
   ]
  },
  {
   "cell_type": "code",
   "execution_count": 23,
   "metadata": {},
   "outputs": [
    {
     "name": "stdout",
     "output_type": "stream",
     "text": [
      "[1, 2, 3, 4, 5, 6, 7, 8, 9, 10]\n"
     ]
    }
   ],
   "source": [
    "print(doubles)"
   ]
  },
  {
   "cell_type": "code",
   "execution_count": 24,
   "metadata": {},
   "outputs": [],
   "source": [
    "fruits = [\"apple\",\"orange\",\"banana\",\"coconut\"]\n",
    "\n",
    "fruits = [fruit.upper() for fruit in fruits]"
   ]
  },
  {
   "cell_type": "code",
   "execution_count": 25,
   "metadata": {},
   "outputs": [
    {
     "name": "stdout",
     "output_type": "stream",
     "text": [
      "['APPLE', 'ORANGE', 'BANANA', 'COCONUT']\n"
     ]
    }
   ],
   "source": [
    "print(fruits)"
   ]
  },
  {
   "cell_type": "code",
   "execution_count": 28,
   "metadata": {},
   "outputs": [
    {
     "name": "stdout",
     "output_type": "stream",
     "text": [
      "[8]\n"
     ]
    }
   ],
   "source": [
    "numbers = [1, -2, 3, -4, 5, -6, 8, -7]\n",
    "\n",
    "positive_even_num = [number for number in numbers if number > 0 and number % 2 == 0]\n",
    "print(positive_even_num)"
   ]
  },
  {
   "cell_type": "code",
   "execution_count": 29,
   "metadata": {},
   "outputs": [
    {
     "name": "stdout",
     "output_type": "stream",
     "text": [
      "[1, 3, 5]\n"
     ]
    }
   ],
   "source": [
    "positive_odd_num = [number for number in numbers if number > 0 and number % 2 == 1]\n",
    "print(positive_odd_num)"
   ]
  },
  {
   "cell_type": "markdown",
   "metadata": {},
   "source": [
    "### Match-case statement (switch):\n",
    "    An alternative to using many 'elif' statements\n",
    "    Execute some code if a value matches a 'case'\n",
    "\n",
    "    Benifits: Cleaner and syntax is more readable."
   ]
  },
  {
   "cell_type": "code",
   "execution_count": 30,
   "metadata": {},
   "outputs": [
    {
     "name": "stdout",
     "output_type": "stream",
     "text": [
      "It is Tuesday\n"
     ]
    }
   ],
   "source": [
    "def day_of_week(day):\n",
    "    if day == 1:\n",
    "        return \"It is Sunday\"\n",
    "    elif day == 2:\n",
    "        return \"It is Monday\"\n",
    "    elif day == 3:\n",
    "        return \"It is Tuesday\"\n",
    "    elif day == 4:\n",
    "        return \"It is Wednesday\"\n",
    "    elif day == 5:\n",
    "        return \"It is Thrusday\"\n",
    "    elif day == 6:\n",
    "        return \"It is Friday\"\n",
    "    elif day == 7:\n",
    "        return \"It is Saturday\"\n",
    "    else:\n",
    "        return \"Invalid Input\"\n",
    "    \n",
    "\n",
    "print(day_of_week(3))"
   ]
  },
  {
   "cell_type": "code",
   "execution_count": 31,
   "metadata": {},
   "outputs": [
    {
     "data": {
      "text/plain": [
       "'It is Tuesday'"
      ]
     },
     "execution_count": 31,
     "metadata": {},
     "output_type": "execute_result"
    }
   ],
   "source": [
    "#match-case statement\n",
    "def day_of_week(day):\n",
    "    match day:\n",
    "        case 1:\n",
    "            return \"It is Sunday\"\n",
    "        case 2:\n",
    "            return \"It is Monday\"\n",
    "        case 3:\n",
    "            return \"It is Tuesday\"\n",
    "        case 4:\n",
    "            return \"It is Wednesday\"\n",
    "        case 5:\n",
    "            return \"It is Thrusday\"\n",
    "        case 6:\n",
    "            return \"It is Friday\"\n",
    "        case 7:\n",
    "            return \"It is Saturday\"\n",
    "        case _:\n",
    "            return \"Invalid Input\"\n",
    "        \n",
    "\n",
    "day_of_week(3)"
   ]
  },
  {
   "cell_type": "code",
   "execution_count": 32,
   "metadata": {},
   "outputs": [
    {
     "data": {
      "text/plain": [
       "'Invalid Input'"
      ]
     },
     "execution_count": 32,
     "metadata": {},
     "output_type": "execute_result"
    }
   ],
   "source": [
    "day_of_week(9)"
   ]
  },
  {
   "cell_type": "code",
   "execution_count": 33,
   "metadata": {},
   "outputs": [
    {
     "name": "stdout",
     "output_type": "stream",
     "text": [
      "False\n"
     ]
    }
   ],
   "source": [
    "def is_weekend(day):\n",
    "    match day:\n",
    "        case \"Sunday\":\n",
    "            return True\n",
    "        case \"Monday\":\n",
    "            return False\n",
    "        case \"Tuesday\":\n",
    "            return False\n",
    "        case \"Wednesday\":\n",
    "            return False\n",
    "        case \"Thrusday\":\n",
    "            return False\n",
    "        case \"Friday\":\n",
    "            return False\n",
    "        case \"Saturday\":\n",
    "            return True\n",
    "        case _:\n",
    "            return False\n",
    "        \n",
    "        \n",
    "print(is_weekend(\"Monday\"))"
   ]
  },
  {
   "cell_type": "code",
   "execution_count": 34,
   "metadata": {},
   "outputs": [
    {
     "name": "stdout",
     "output_type": "stream",
     "text": [
      "False\n"
     ]
    }
   ],
   "source": [
    "def is_weekend(day):\n",
    "    match day:\n",
    "        case \"Sunday\" | \"Saturday\":\n",
    "            return True\n",
    "        case \"Monday\" | \"Tuesday\" | \"Wednesday\" | \"Thrusday\" | \"Friday\":\n",
    "            return False\n",
    "        case _:\n",
    "            return False\n",
    "        \n",
    "print(is_weekend(\"pizza\"))"
   ]
  },
  {
   "cell_type": "markdown",
   "metadata": {},
   "source": [
    "## Module \n",
    "    a file containing code you want to include in your program\n",
    "    use '*import*' to include a module. (built-in or your own)\n",
    "\n",
    "    useful to break up a large program reusuable separate files\n"
   ]
  },
  {
   "cell_type": "code",
   "execution_count": 37,
   "metadata": {},
   "outputs": [
    {
     "name": "stdout",
     "output_type": "stream",
     "text": [
      "\n",
      "Please wait a moment while I gather a list of all available modules...\n",
      "\n",
      "IPython             ast                 math                sunau\n",
      "__future__          asttokens           matplotlib_inline   symtable\n",
      "__hello__           asyncio             mdurl               sys\n",
      "__phello__          atexit              mimetypes           sysconfig\n",
      "_abc                audioop             ml_dtypes           tabnanny\n",
      "_aix_support        base64              mmap                tarfile\n",
      "_ast                bdb                 mmapfile            telnetlib\n",
      "_asyncio            binascii            mmsystem            tempfile\n",
      "_bisect             bisect              modulefinder        test\n",
      "_blake2             builtins            msilib              textwrap\n",
      "_bz2                bz2                 msvcrt              this\n",
      "_codecs             cProfile            multiprocessing     threading\n",
      "_codecs_cn          calendar            namex               time\n",
      "_codecs_hk          cgi                 nest_asyncio        timeit\n",
      "_codecs_iso2022     cgitb               netbios             timer\n",
      "_codecs_jp          chunk               netrc               tkinter\n",
      "_codecs_kr          cmath               nntplib             token\n",
      "_codecs_tw          cmd                 nt                  tokenize\n",
      "_collections        code                ntpath              tomllib\n",
      "_collections_abc    codecs              ntsecuritycon       tornado\n",
      "_compat_pickle      codeop              nturl2path          trace\n",
      "_compression        collections         numbers             traceback\n",
      "_contextvars        colorama            numpy               tracemalloc\n",
      "_csv                colorsys            odbc                traitlets\n",
      "_ctypes             comm                opcode              tty\n",
      "_ctypes_test        commctrl            operator            turtle\n",
      "_datetime           compileall          optparse            turtledemo\n",
      "_decimal            concurrent          optree              types\n",
      "_elementtree        configparser        os                  typing\n",
      "_functools          contextlib          packaging           typing_extensions\n",
      "_hashlib            contextvars         parso               unicodedata\n",
      "_heapq              copy                pathlib             unittest\n",
      "_imp                copyreg             pdb                 urllib\n",
      "_io                 crypt               perfmon             uu\n",
      "_json               csv                 pickle              uuid\n",
      "_locale             ctypes              pickletools         venv\n",
      "_lsprof             curses              pip                 warnings\n",
      "_lzma               dataclasses         pipes               wave\n",
      "_markupbase         datetime            pkgutil             wcwidth\n",
      "_md5                dateutil            platform            weakref\n",
      "_msi                dbi                 platformdirs        webbrowser\n",
      "_multibytecodec     dbm                 plistlib            win2kras\n",
      "_multiprocessing    dde                 poplib              win32api\n",
      "_opcode             debugpy             posixpath           win32clipboard\n",
      "_operator           decimal             pprint              win32com\n",
      "_osx_support        decorator           profile             win32con\n",
      "_overlapped         difflib             prompt_toolkit      win32console\n",
      "_pickle             dis                 pstats              win32cred\n",
      "_py_abc             doctest             psutil              win32crypt\n",
      "_pydatetime         email               pty                 win32cryptcon\n",
      "_pydecimal          encodings           pure_eval           win32event\n",
      "_pyio               ensurepip           py_compile          win32evtlog\n",
      "_pylong             enum                pyclbr              win32evtlogutil\n",
      "_queue              errno               pydoc               win32file\n",
      "_random             executing           pydoc_data          win32gui\n",
      "_sha1               faulthandler        pyexpat             win32gui_struct\n",
      "_sha2               filecmp             pygments            win32help\n",
      "_sha3               fileinput           pythoncom           win32inet\n",
      "_signal             fnmatch             pywin               win32inetcon\n",
      "_sitebuiltins       fractions           pywin32_bootstrap   win32job\n",
      "_socket             ftplib              pywin32_testutil    win32lz\n",
      "_sqlite3            functools           pywintypes          win32net\n",
      "_sre                gc                  queue               win32netcon\n",
      "_ssl                genericpath         quopri              win32pdh\n",
      "_stat               getopt              random              win32pdhquery\n",
      "_statistics         getpass             rasutil             win32pdhutil\n",
      "_string             gettext             re                  win32pipe\n",
      "_strptime           glob                regcheck            win32print\n",
      "_struct             graphlib            regutil             win32process\n",
      "_symtable           gzip                reprlib             win32profile\n",
      "_testbuffer         h5py                rich                win32ras\n",
      "_testcapi           hashlib             rlcompleter         win32rcparser\n",
      "_testclinic         heapq               runpy               win32security\n",
      "_testconsole        hmac                sched               win32service\n",
      "_testimportmultiple html                secrets             win32serviceutil\n",
      "_testinternalcapi   http                select              win32timezone\n",
      "_testmultiphase     idlelib             selectors           win32trace\n",
      "_testsinglephase    imaplib             servicemanager      win32traceutil\n",
      "_thread             imghdr              shelve              win32transaction\n",
      "_threading_local    importlib           shlex               win32ts\n",
      "_tkinter            inspect             shutil              win32ui\n",
      "_tokenize           io                  signal              win32uiole\n",
      "_tracemalloc        ipaddress           site                win32verstamp\n",
      "_typing             ipykernel           six                 win32wnet\n",
      "_uuid               ipykernel_launcher  smtplib             winerror\n",
      "_warnings           isapi               sndhdr              winioctlcon\n",
      "_weakref            itertools           socket              winnt\n",
      "_weakrefset         jedi                socketserver        winperf\n",
      "_win32sysloader     json                sqlite3             winreg\n",
      "_winapi             jupyter             sre_compile         winsound\n",
      "_winxptheme         jupyter_client      sre_constants       winxpgui\n",
      "_wmi                jupyter_core        sre_parse           winxptheme\n",
      "_xxinterpchannels   keras               ssl                 wsgiref\n",
      "_xxsubinterpreters  keyword             sspi                xdrlib\n",
      "_zoneinfo           lib2to3             sspicon             xml\n",
      "abc                 linecache           stack_data          xmlrpc\n",
      "absl                locale              start_pythonwin     xxsubtype\n",
      "adodbapi            logging             stat                zipapp\n",
      "afxres              lzma                statistics          zipfile\n",
      "aifc                mailbox             string              zipimport\n",
      "antigravity         mailcap             stringprep          zlib\n",
      "argparse            markdown_it         struct              zmq\n",
      "array               marshal             subprocess          zoneinfo\n",
      "\n",
      "Enter any module name to get more help.  Or, type \"modules spam\" to search\n",
      "for modules whose name or summary contain the string \"spam\".\n",
      "\n",
      "None\n"
     ]
    }
   ],
   "source": [
    "print(help(\"modules\"))"
   ]
  },
  {
   "cell_type": "code",
   "execution_count": 38,
   "metadata": {},
   "outputs": [
    {
     "data": {
      "text/plain": [
       "3.141592653589793"
      ]
     },
     "execution_count": 38,
     "metadata": {},
     "output_type": "execute_result"
    }
   ],
   "source": [
    "import math \n",
    "\n",
    "math.pi"
   ]
  },
  {
   "cell_type": "code",
   "execution_count": 41,
   "metadata": {},
   "outputs": [
    {
     "data": {
      "text/plain": [
       "3.141592653589793"
      ]
     },
     "execution_count": 41,
     "metadata": {},
     "output_type": "execute_result"
    }
   ],
   "source": [
    "import math as m\n",
    "\n",
    "m.pi"
   ]
  },
  {
   "cell_type": "code",
   "execution_count": 42,
   "metadata": {},
   "outputs": [
    {
     "data": {
      "text/plain": [
       "3.141592653589793"
      ]
     },
     "execution_count": 42,
     "metadata": {},
     "output_type": "execute_result"
    }
   ],
   "source": [
    "from math import pi\n",
    "\n",
    "pi"
   ]
  },
  {
   "cell_type": "markdown",
   "metadata": {},
   "source": [
    "### Variable scope :\n",
    "    where a variable is visible and accessible\n",
    "\n",
    "### Scope resolution :\n",
    "\n",
    "        `` (l E G B)     Local  -->  Enclosed  -->  Global  -->  Built-in ``"
   ]
  },
  {
   "cell_type": "code",
   "execution_count": 43,
   "metadata": {},
   "outputs": [
    {
     "name": "stdout",
     "output_type": "stream",
     "text": [
      "1\n",
      "2\n"
     ]
    }
   ],
   "source": [
    "def func1():\n",
    "    a = 1\n",
    "    print(a)\n",
    "    \n",
    "def func2():\n",
    "    b = 2\n",
    "    print(b)\n",
    "    \n",
    "func1()\n",
    "func2()"
   ]
  },
  {
   "cell_type": "code",
   "execution_count": 44,
   "metadata": {},
   "outputs": [
    {
     "ename": "NameError",
     "evalue": "name 'b' is not defined",
     "output_type": "error",
     "traceback": [
      "\u001b[1;31m---------------------------------------------------------------------------\u001b[0m",
      "\u001b[1;31mNameError\u001b[0m                                 Traceback (most recent call last)",
      "Cell \u001b[1;32mIn[44], line 9\u001b[0m\n\u001b[0;32m      6\u001b[0m     b \u001b[38;5;241m=\u001b[39m \u001b[38;5;241m2\u001b[39m\n\u001b[0;32m      7\u001b[0m     \u001b[38;5;28mprint\u001b[39m(a)\n\u001b[1;32m----> 9\u001b[0m \u001b[43mfunc1\u001b[49m\u001b[43m(\u001b[49m\u001b[43m)\u001b[49m\n\u001b[0;32m     10\u001b[0m func2()\n",
      "Cell \u001b[1;32mIn[44], line 3\u001b[0m, in \u001b[0;36mfunc1\u001b[1;34m()\u001b[0m\n\u001b[0;32m      1\u001b[0m \u001b[38;5;28;01mdef\u001b[39;00m \u001b[38;5;21mfunc1\u001b[39m():\n\u001b[0;32m      2\u001b[0m     a \u001b[38;5;241m=\u001b[39m \u001b[38;5;241m1\u001b[39m\n\u001b[1;32m----> 3\u001b[0m     \u001b[38;5;28mprint\u001b[39m(\u001b[43mb\u001b[49m)\n",
      "\u001b[1;31mNameError\u001b[0m: name 'b' is not defined"
     ]
    }
   ],
   "source": [
    "def func1():\n",
    "    a = 1\n",
    "    print(b)\n",
    "                    ### Variables  are defined only locally.\n",
    "def func2():\n",
    "    b = 2\n",
    "    print(a)\n",
    "    \n",
    "func1()\n",
    "func2()"
   ]
  },
  {
   "cell_type": "code",
   "execution_count": 45,
   "metadata": {},
   "outputs": [
    {
     "name": "stdout",
     "output_type": "stream",
     "text": [
      "1\n",
      "2\n"
     ]
    }
   ],
   "source": [
    "def func1():\n",
    "    x= 1\n",
    "    print(x)\n",
    "    \n",
    "def func2():\n",
    "    x = 2\n",
    "    print(x)\n",
    "    \n",
    "func1()\n",
    "func2()"
   ]
  },
  {
   "cell_type": "code",
   "execution_count": 46,
   "metadata": {},
   "outputs": [
    {
     "name": "stdout",
     "output_type": "stream",
     "text": [
      "1\n"
     ]
    }
   ],
   "source": [
    "## Enclosed variables:\n",
    "\n",
    "def func1():\n",
    "    a = 1\n",
    "    \n",
    "    def func2():\n",
    "        \n",
    "        print(a)\n",
    "    func2()\n",
    "    \n",
    "func1()\n"
   ]
  },
  {
   "cell_type": "code",
   "execution_count": 70,
   "metadata": {},
   "outputs": [
    {
     "name": "stdout",
     "output_type": "stream",
     "text": [
      "3\n"
     ]
    }
   ],
   "source": [
    "\n",
    "def func1():\n",
    "    \n",
    "    def func2():\n",
    "        print(a)\n",
    "    func2()\n",
    "    \n",
    "a = 3\n",
    "    \n",
    "func1()\n"
   ]
  },
  {
   "cell_type": "markdown",
   "metadata": {},
   "source": [
    "### if __name__ == __main__ :\n",
    "        (this script can be imported OR run standalone)\n",
    "        Functions and classes in this module can be reused\n",
    "        without the main block of code executing\n",
    "\n",
    "\n",
    "ex. library = Import library for functionality\n",
    "\n",
    "              When running library directly, display a help page"
   ]
  },
  {
   "cell_type": "code",
   "execution_count": 49,
   "metadata": {},
   "outputs": [],
   "source": [
    "def main():\n",
    "    # Your program goes here\n",
    "    return None\n",
    "    \n",
    "if __name__ == \"__main__\":\n",
    "    main()"
   ]
  },
  {
   "cell_type": "code",
   "execution_count": 50,
   "metadata": {},
   "outputs": [
    {
     "name": "stdout",
     "output_type": "stream",
     "text": [
      "['In', 'Out', '_', '_31', '_32', '_38', '_39', '_40', '_41', '_42', '__', '___', '__builtin__', '__builtins__', '__doc__', '__loader__', '__name__', '__package__', '__spec__', '__vsc_ipynb_file__', '_dh', '_i', '_i1', '_i10', '_i11', '_i12', '_i13', '_i14', '_i15', '_i16', '_i17', '_i18', '_i19', '_i2', '_i20', '_i21', '_i22', '_i23', '_i24', '_i25', '_i26', '_i27', '_i28', '_i29', '_i3', '_i30', '_i31', '_i32', '_i33', '_i34', '_i35', '_i36', '_i37', '_i38', '_i39', '_i4', '_i40', '_i41', '_i42', '_i43', '_i44', '_i45', '_i46', '_i47', '_i48', '_i49', '_i5', '_i50', '_i6', '_i7', '_i8', '_i9', '_ih', '_ii', '_iii', '_oh', 'a', 'character', 'day_of_week', 'doubles', 'email', 'exit', 'fruit', 'fruits', 'func1', 'func2', 'get_ipython', 'grades', 'is_weekend', 'key', 'letter', 'm', 'main', 'math', 'my_dictionary', 'name', 'number', 'numbers', 'open', 'pi', 'positive_even_num', 'positive_odd_num', 'quit', 'student', 'value', 'word', 'x']\n"
     ]
    }
   ],
   "source": [
    "print(dir())"
   ]
  },
  {
   "cell_type": "markdown",
   "metadata": {},
   "source": [
    "  __name__ == \"__main__\" \n",
    "\n",
    "\n",
    "  Good practise (code is modular,\n",
    "                helps readability,\n",
    "                leaves no global variables,\n",
    "                avoid unintended execution)"
   ]
  },
  {
   "cell_type": "markdown",
   "metadata": {},
   "source": [
    "## Python Banking Program"
   ]
  },
  {
   "cell_type": "code",
   "execution_count": 72,
   "metadata": {},
   "outputs": [
    {
     "name": "stdout",
     "output_type": "stream",
     "text": [
      "Welcome to the Banking System!\n",
      "\n",
      "**************************************\n",
      "            Banking Program             \n",
      "**************************************\n",
      "1. Show Balance\n",
      "2. Deposit\n",
      "3. Withdraw\n",
      "4. Exit\n",
      "**************************************\n",
      "Your current balance is: Rs.0.0\n",
      "Welcome to the Banking System!\n",
      "\n",
      "**************************************\n",
      "            Banking Program             \n",
      "**************************************\n",
      "1. Show Balance\n",
      "2. Deposit\n",
      "3. Withdraw\n",
      "4. Exit\n",
      "**************************************\n",
      "Welcome to the Banking System!\n",
      "\n",
      "**************************************\n",
      "            Banking Program             \n",
      "**************************************\n",
      "1. Show Balance\n",
      "2. Deposit\n",
      "3. Withdraw\n",
      "4. Exit\n",
      "**************************************\n",
      "Your current balance is: Rs.0.0\n",
      "Welcome to the Banking System!\n",
      "\n",
      "**************************************\n",
      "            Banking Program             \n",
      "**************************************\n",
      "1. Show Balance\n",
      "2. Deposit\n",
      "3. Withdraw\n",
      "4. Exit\n",
      "**************************************\n",
      "Your current balance is: Rs.0.0\n",
      "Welcome to the Banking System!\n",
      "\n",
      "**************************************\n",
      "            Banking Program             \n",
      "**************************************\n",
      "1. Show Balance\n",
      "2. Deposit\n",
      "3. Withdraw\n",
      "4. Exit\n",
      "**************************************\n"
     ]
    },
    {
     "ename": "ValueError",
     "evalue": "invalid literal for int() with base 10: ''",
     "output_type": "error",
     "traceback": [
      "\u001b[1;31m---------------------------------------------------------------------------\u001b[0m",
      "\u001b[1;31mValueError\u001b[0m                                Traceback (most recent call last)",
      "Cell \u001b[1;32mIn[72], line 42\u001b[0m\n\u001b[0;32m     40\u001b[0m \u001b[38;5;28mprint\u001b[39m(\u001b[38;5;124m\"\u001b[39m\u001b[38;5;124m1. Show Balance\u001b[39m\u001b[38;5;130;01m\\n\u001b[39;00m\u001b[38;5;124m2. Deposit\u001b[39m\u001b[38;5;130;01m\\n\u001b[39;00m\u001b[38;5;124m3. Withdraw\u001b[39m\u001b[38;5;130;01m\\n\u001b[39;00m\u001b[38;5;124m4. Exit\u001b[39m\u001b[38;5;124m\"\u001b[39m)\n\u001b[0;32m     41\u001b[0m \u001b[38;5;28mprint\u001b[39m(\u001b[38;5;124m\"\u001b[39m\u001b[38;5;124m*\u001b[39m\u001b[38;5;124m\"\u001b[39m\u001b[38;5;241m*\u001b[39m\u001b[38;5;241m38\u001b[39m)\n\u001b[1;32m---> 42\u001b[0m choice \u001b[38;5;241m=\u001b[39m \u001b[38;5;28;43mint\u001b[39;49m\u001b[43m(\u001b[49m\u001b[38;5;28;43minput\u001b[39;49m\u001b[43m(\u001b[49m\u001b[38;5;124;43m\"\u001b[39;49m\u001b[38;5;124;43mEnter your choice: \u001b[39;49m\u001b[38;5;124;43m\"\u001b[39;49m\u001b[43m)\u001b[49m\u001b[43m)\u001b[49m\n\u001b[0;32m     43\u001b[0m operation(choice)\n",
      "\u001b[1;31mValueError\u001b[0m: invalid literal for int() with base 10: ''"
     ]
    }
   ],
   "source": [
    "string_to_display = \"Banking Program\"\n",
    "choice = 1\n",
    "Balance = 0.0\n",
    "\n",
    "def show_balance(Balance):\n",
    "    print(f\"Your current balance is: Rs.{Balance}\")\n",
    "\n",
    "def deposit(Balance):\n",
    "    amount = float(input(\"Enter the amount to deposit: Rs.\"))\n",
    "    if amount > 0:\n",
    "        Balance += amount\n",
    "    \n",
    "def withdraw(Balance):\n",
    "    amount = float(input(\"Enter the amount to Withdraw: Rs.\"))\n",
    "    if Balance > amount:\n",
    "        Balance -= amount\n",
    "    else:\n",
    "        print(\"Insufficient Balance.\")\n",
    "    \n",
    "\n",
    "def operation(choice,Balance):\n",
    "    match choice:\n",
    "        case 1:\n",
    "            show_balance(Balance)\n",
    "        case 2:\n",
    "            deposit(Balance)\n",
    "        case 3:\n",
    "            withdraw(Balance)\n",
    "        case 4:\n",
    "            print(\"Thank You for Banking with us.\")\n",
    "        case _:\n",
    "            return \"Invalid Choice!\"\n",
    "\n",
    "while choice != 4:\n",
    "    print(\"Welcome to the Banking System!\\n\")\n",
    "    print(\"*\"*38)\n",
    "    print(f\"{string_to_display:^40}\")\n",
    "    print(\"*\"*38)\n",
    "    print(\"1. Show Balance\\n2. Deposit\\n3. Withdraw\\n4. Exit\")\n",
    "    print(\"*\"*38)\n",
    "    choice = int(input(\"Enter your choice: \"))\n",
    "    operation(choice,Balance)\n",
    "    \n",
    "    \n",
    "    \n",
    "    \n",
    "    "
   ]
  },
  {
   "cell_type": "code",
   "execution_count": 71,
   "metadata": {},
   "outputs": [
    {
     "name": "stdout",
     "output_type": "stream",
     "text": [
      "5\n"
     ]
    }
   ],
   "source": [
    "\n",
    "\n",
    "def func():\n",
    "    # a += 1\n",
    "    print(a)\n",
    "    \n",
    "a = 5   \n",
    "func()"
   ]
  },
  {
   "cell_type": "code",
   "execution_count": null,
   "metadata": {},
   "outputs": [],
   "source": []
  }
 ],
 "metadata": {
  "kernelspec": {
   "display_name": "Python 3",
   "language": "python",
   "name": "python3"
  },
  "language_info": {
   "codemirror_mode": {
    "name": "ipython",
    "version": 3
   },
   "file_extension": ".py",
   "mimetype": "text/x-python",
   "name": "python",
   "nbconvert_exporter": "python",
   "pygments_lexer": "ipython3",
   "version": "3.12.2"
  }
 },
 "nbformat": 4,
 "nbformat_minor": 2
}
