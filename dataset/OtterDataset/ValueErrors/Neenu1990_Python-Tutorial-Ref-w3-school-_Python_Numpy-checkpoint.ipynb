{
 "cells": [
  {
   "cell_type": "markdown",
   "id": "2144562c",
   "metadata": {},
   "source": [
    "# NUMPY  (Numerical Pyhton) "
   ]
  },
  {
   "cell_type": "code",
   "execution_count": null,
   "id": "64ca1e35",
   "metadata": {},
   "outputs": [],
   "source": [
    "1. NumPy (Numerical Pyhton) is a Python library, used for working with arrays. \n",
    "2. NumPy was created in 2005 by Travis Oliphant.\n",
    "3. NumPy is used for working with arrays.\n",
    "4. NumPy aims to provide an array object called ndarray.\n",
    "5. Numpy provides a lot of supporting functions that make working with ndarray very easy.\n",
    "6. NumPy is a Python library and is written partially in Python, but most of the parts that require\n",
    "   fast computation are written in C or C++.\n",
    "7. NumPy arrays are stored at one continuous place in memory unlike lists, \n",
    "   so processes can access and manipulate them very efficiently.\n",
    "   This behavior is called locality of reference in computer science.\n",
    "   This is the main reason why NumPy is faster than lists. "
   ]
  },
  {
   "cell_type": "markdown",
   "id": "f4c9bd4a",
   "metadata": {},
   "source": [
    "### Installation of NumPy\n",
    "\n",
    "Use the below command to install Numpy:"
   ]
  },
  {
   "cell_type": "code",
   "execution_count": 6,
   "id": "4fbf8b9a",
   "metadata": {},
   "outputs": [
    {
     "name": "stdout",
     "output_type": "stream",
     "text": [
      "Requirement already satisfied: numpy in c:\\users\\rajee\\anaconda3\\lib\\site-packages (1.23.5)\n",
      "Note: you may need to restart the kernel to use updated packages.\n"
     ]
    }
   ],
   "source": [
    "pip install numpy"
   ]
  },
  {
   "cell_type": "markdown",
   "id": "2da1fbdd",
   "metadata": {},
   "source": [
    "### Import NumPy as np"
   ]
  },
  {
   "cell_type": "code",
   "execution_count": 2,
   "id": "24bdf931",
   "metadata": {},
   "outputs": [],
   "source": [
    "# Importing Numpy Library\n",
    "# 'np' is the generally used alias name for Numpy\n",
    "# In Python alias are an alternate name for referring to the same thing.\n",
    "\n",
    "import numpy as np"
   ]
  },
  {
   "cell_type": "markdown",
   "id": "2380976e",
   "metadata": {},
   "source": [
    "### CREATION OF ARRAYS\n",
    "\n",
    "We can create a NumPy ndarray object by using the array() function. To create an ndarray, we can pass a list, tuple or any array-like object into the array() method, and it will be converted into an ndarray."
   ]
  },
  {
   "cell_type": "code",
   "execution_count": 10,
   "id": "919ee031",
   "metadata": {},
   "outputs": [
    {
     "data": {
      "text/plain": [
       "array([1, 2, 3, 4, 5])"
      ]
     },
     "execution_count": 10,
     "metadata": {},
     "output_type": "execute_result"
    }
   ],
   "source": [
    "# creating an ndarray from the list\n",
    "l = [1,2,3,4,5]\n",
    "a = np.array(l)\n",
    "a"
   ]
  },
  {
   "cell_type": "code",
   "execution_count": 3,
   "id": "e21bd220",
   "metadata": {},
   "outputs": [
    {
     "data": {
      "text/plain": [
       "array([1, 2, 3, 4, 5])"
      ]
     },
     "execution_count": 3,
     "metadata": {},
     "output_type": "execute_result"
    }
   ],
   "source": [
    "# creating an ndarray from the Tuple\n",
    "t = (1,2,3,4,5)\n",
    "a = np.array(t)\n",
    "a"
   ]
  },
  {
   "cell_type": "markdown",
   "id": "fa31ef7d",
   "metadata": {},
   "source": [
    "### Dimensions in Arrays\n",
    "\n",
    "A dimension in arrays is one level of array depth (nested arrays)."
   ]
  },
  {
   "cell_type": "markdown",
   "id": "bb616528",
   "metadata": {},
   "source": [
    "### 0-D arrays\n",
    "0-D arrays also called Scalars.Scalars are the elements in an array. Each value in an array is a 0-D array."
   ]
  },
  {
   "cell_type": "code",
   "execution_count": 11,
   "id": "60642992",
   "metadata": {},
   "outputs": [
    {
     "name": "stdout",
     "output_type": "stream",
     "text": [
      "54\n"
     ]
    }
   ],
   "source": [
    "#0D array\n",
    "arr = np.array(54)\n",
    "print(arr)\n"
   ]
  },
  {
   "cell_type": "markdown",
   "id": "a581526c",
   "metadata": {},
   "source": [
    "### 1-D Arrays\n",
    "An array that has 0-D arrays as its elements is called uni-dimensional or 1-D array.\n",
    "These are the most common and basic arrays."
   ]
  },
  {
   "cell_type": "code",
   "execution_count": 14,
   "id": "e95a2f54",
   "metadata": {},
   "outputs": [
    {
     "name": "stdout",
     "output_type": "stream",
     "text": [
      "[1 5 2 4 7 8]\n"
     ]
    }
   ],
   "source": [
    "#1D array\n",
    "arr1 = np.array([1,5,2,4,7,8])\n",
    "print(arr1)"
   ]
  },
  {
   "cell_type": "markdown",
   "id": "58883ca3",
   "metadata": {},
   "source": [
    "### 2-D Arrays\n",
    "An array that has 1-D arrays as its elements is called a 2-D array.\n",
    "These are often used to represent matrix."
   ]
  },
  {
   "cell_type": "code",
   "execution_count": 15,
   "id": "103bfc33",
   "metadata": {},
   "outputs": [
    {
     "data": {
      "text/plain": [
       "array([[1, 2],\n",
       "       [3, 4],\n",
       "       [5, 6]])"
      ]
     },
     "execution_count": 15,
     "metadata": {},
     "output_type": "execute_result"
    }
   ],
   "source": [
    "#2D array\n",
    "arr2 =np.array([[1,2],[3,4],[5,6]])\n",
    "arr2"
   ]
  },
  {
   "cell_type": "markdown",
   "id": "8a0ef78d",
   "metadata": {},
   "source": [
    "### 3-D arrays\n",
    "An array that has 2-D arrays (matrices) as its elements is called 3-D array.\n"
   ]
  },
  {
   "cell_type": "code",
   "execution_count": 16,
   "id": "b79630c9",
   "metadata": {},
   "outputs": [
    {
     "data": {
      "text/plain": [
       "array([[[1, 2],\n",
       "        [3, 4]],\n",
       "\n",
       "       [[5, 6],\n",
       "        [7, 8]]])"
      ]
     },
     "execution_count": 16,
     "metadata": {},
     "output_type": "execute_result"
    }
   ],
   "source": [
    "#3D array\n",
    "arr3 = np.array([[[1,2],[3,4]],[[5,6],[7,8]]])\n",
    "arr3"
   ]
  },
  {
   "cell_type": "markdown",
   "id": "464084e5",
   "metadata": {},
   "source": [
    "type()  : Method to determine the type of a given variable."
   ]
  },
  {
   "cell_type": "code",
   "execution_count": 4,
   "id": "e4d71f6f",
   "metadata": {},
   "outputs": [
    {
     "data": {
      "text/plain": [
       "numpy.ndarray"
      ]
     },
     "execution_count": 4,
     "metadata": {},
     "output_type": "execute_result"
    }
   ],
   "source": [
    "# type() method to determine the type of a given variale.\n",
    "\n",
    "a = np.array([10,20,30,40,50]) # variale 'a' is ndarray object.\n",
    "type(a)"
   ]
  },
  {
   "cell_type": "markdown",
   "id": "c0c27b39",
   "metadata": {},
   "source": [
    "### Data Types in NumPy"
   ]
  },
  {
   "cell_type": "code",
   "execution_count": null,
   "id": "14ee4e2b",
   "metadata": {},
   "outputs": [],
   "source": [
    "\n",
    "Below is a list of all data types in NumPy and the characters used to represent them.\n",
    "\n",
    "i - integer\n",
    "b - boolean\n",
    "u - unsigned integer\n",
    "f - float\n",
    "c - complex float\n",
    "m - timedelta\n",
    "M - datetime\n",
    "O - object\n",
    "S - string\n",
    "U - unicode string\n",
    "V - fixed chunk of memory for other type ( void )"
   ]
  },
  {
   "cell_type": "markdown",
   "id": "a9d20869",
   "metadata": {},
   "source": [
    "### Creating Arrays With a Defined Data Type"
   ]
  },
  {
   "cell_type": "code",
   "execution_count": 9,
   "id": "33568fa7",
   "metadata": {},
   "outputs": [
    {
     "data": {
      "text/plain": [
       "array([1., 2., 3., 4.], dtype=float32)"
      ]
     },
     "execution_count": 9,
     "metadata": {},
     "output_type": "execute_result"
    }
   ],
   "source": [
    "# To define the data type of array elements \n",
    "# To create an array  with data type Float\n",
    "\n",
    "c =np.array([1,2,3,4],dtype='f') \n",
    "# c = np.array([1,2,3,4],dtype='U1') #To represent datas as string with 1 character\n",
    "c\n"
   ]
  },
  {
   "cell_type": "code",
   "execution_count": 8,
   "id": "9d659ba0",
   "metadata": {},
   "outputs": [
    {
     "data": {
      "text/plain": [
       "array(['agg', 'bdd', 'cdd', 'dsd'], dtype='<U3')"
      ]
     },
     "execution_count": 8,
     "metadata": {},
     "output_type": "execute_result"
    }
   ],
   "source": [
    "# To deine type of array elements as String\n",
    "# In U1 : U -String data type , 1- No. of charactres in String (if U2: means string with 2 charactres)\n",
    " \n",
    "arr = np.array(['agg','bdd','cdd','dsd'])\n",
    "arr"
   ]
  },
  {
   "cell_type": "code",
   "execution_count": 19,
   "id": "54583517",
   "metadata": {},
   "outputs": [
    {
     "data": {
      "text/plain": [
       "array(['ag', 'bd', 'cd', 'ds'], dtype='<U2')"
      ]
     },
     "execution_count": 19,
     "metadata": {},
     "output_type": "execute_result"
    }
   ],
   "source": [
    "# To deine type os array elements as String\n",
    "# In U1 : U - String data type , 1- No.of charactres in Strring (if U2 : means string with 2 charactres)\n",
    " \n",
    "c = np.array(['agg','bdd','cdd','dsd'],dtype='U2')\n",
    "c"
   ]
  },
  {
   "cell_type": "markdown",
   "id": "c1b9bcc3",
   "metadata": {},
   "source": [
    "### What if a Value Can Not Be Converted?\n",
    "\n",
    "If a type is given in which elements can't be casted then NumPy will raise a ValueError."
   ]
  },
  {
   "cell_type": "code",
   "execution_count": 12,
   "id": "b45217be",
   "metadata": {},
   "outputs": [
    {
     "ename": "ValueError",
     "evalue": "invalid literal for int() with base 10: 'agg'",
     "output_type": "error",
     "traceback": [
      "\u001b[1;31m---------------------------------------------------------------------------\u001b[0m",
      "\u001b[1;31mValueError\u001b[0m                                Traceback (most recent call last)",
      "Cell \u001b[1;32mIn[12], line 1\u001b[0m\n\u001b[1;32m----> 1\u001b[0m c \u001b[38;5;241m=\u001b[39m \u001b[43mnp\u001b[49m\u001b[38;5;241;43m.\u001b[39;49m\u001b[43marray\u001b[49m\u001b[43m(\u001b[49m\u001b[43m[\u001b[49m\u001b[38;5;124;43m'\u001b[39;49m\u001b[38;5;124;43magg\u001b[39;49m\u001b[38;5;124;43m'\u001b[39;49m\u001b[43m,\u001b[49m\u001b[38;5;124;43m'\u001b[39;49m\u001b[38;5;124;43mbdd\u001b[39;49m\u001b[38;5;124;43m'\u001b[39;49m\u001b[43m,\u001b[49m\u001b[38;5;124;43m'\u001b[39;49m\u001b[38;5;124;43mcdd\u001b[39;49m\u001b[38;5;124;43m'\u001b[39;49m\u001b[43m,\u001b[49m\u001b[38;5;124;43m'\u001b[39;49m\u001b[38;5;124;43mdsd\u001b[39;49m\u001b[38;5;124;43m'\u001b[39;49m\u001b[43m]\u001b[49m\u001b[43m,\u001b[49m\u001b[43mdtype\u001b[49m\u001b[38;5;241;43m=\u001b[39;49m\u001b[38;5;124;43m'\u001b[39;49m\u001b[38;5;124;43mi\u001b[39;49m\u001b[38;5;124;43m'\u001b[39;49m\u001b[43m)\u001b[49m\n\u001b[0;32m      2\u001b[0m c\n",
      "\u001b[1;31mValueError\u001b[0m: invalid literal for int() with base 10: 'agg'"
     ]
    }
   ],
   "source": [
    "c = np.array(['agg','bdd','cdd','dsd'],dtype='i')\n",
    "c # here, array data type is <U3  and it can not be converted to integer type, i. So the program will throw a ValueError"
   ]
  },
  {
   "cell_type": "markdown",
   "id": "574d8bcf",
   "metadata": {},
   "source": [
    "### Checking the Data Type of an Array"
   ]
  },
  {
   "cell_type": "code",
   "execution_count": null,
   "id": "4d8939d4",
   "metadata": {},
   "outputs": [],
   "source": [
    "dtype  : The NumPy array object has a property called 'dtype' that returns the data type of the array."
   ]
  },
  {
   "cell_type": "code",
   "execution_count": 11,
   "id": "3ab7a721",
   "metadata": {},
   "outputs": [
    {
     "name": "stdout",
     "output_type": "stream",
     "text": [
      "<U3\n"
     ]
    }
   ],
   "source": [
    "#Checking the Data Type of an Array\n",
    "\n",
    "c = np.array(['agg','bdd','cdd','dsd'])\n",
    "print(c.dtype) # return U3 (String data type with 3 characters)"
   ]
  },
  {
   "cell_type": "markdown",
   "id": "b6ddc576",
   "metadata": {},
   "source": [
    "### NumPy Array Copy vs View"
   ]
  },
  {
   "cell_type": "code",
   "execution_count": null,
   "id": "c8af1b8e",
   "metadata": {},
   "outputs": [],
   "source": [
    "copy()   : 1. Method to create a copy of an existing (original) array. \n",
    "           2. The copy owns the data and any changes made to the copy will not affect original array, \n",
    "              and any changes made to the original array will not affect the copy.\n",
    "    \n",
    "view()   : 1. Mehtod to create a view of a original array.\n",
    "           2. The view does not own the data and any changes made to the view will affect the original array, \n",
    "              and any changes made to the original array will affect the view."
   ]
  },
  {
   "cell_type": "markdown",
   "id": "ae016ee2",
   "metadata": {},
   "source": [
    "##### copy() Mehtod"
   ]
  },
  {
   "cell_type": "code",
   "execution_count": 14,
   "id": "272376fe",
   "metadata": {},
   "outputs": [
    {
     "name": "stdout",
     "output_type": "stream",
     "text": [
      "['a' 'b' 'c' 'd']\n",
      "['A' 'b' 'c' 'd']\n"
     ]
    }
   ],
   "source": [
    "#Make a copy, change the original array, and display both arrays:\n",
    "\n",
    "arr = np.array(['a','b','c','d'])\n",
    "c   = arr.copy()\n",
    "c[0] = 'A' # changed the 0th index value as 42 in the copy\n",
    "\n",
    "print(arr) #original array\n",
    "print(c)   # copy"
   ]
  },
  {
   "cell_type": "markdown",
   "id": "182c4bcd",
   "metadata": {},
   "source": [
    "##### view() Mehtod"
   ]
  },
  {
   "cell_type": "code",
   "execution_count": 15,
   "id": "2d325e34",
   "metadata": {},
   "outputs": [
    {
     "name": "stdout",
     "output_type": "stream",
     "text": [
      "['A' 'b' 'c' 'd']\n",
      "['A' 'b' 'c' 'd']\n"
     ]
    }
   ],
   "source": [
    "#Make a copy, change the copy array, and display both arrays:\n",
    "\n",
    "arr = np.array(['a','b','c','d'])\n",
    "c   = arr.view()\n",
    "c[0] = 'A' # changed the 0th index value as 4 in the view\n",
    "\n",
    "print(arr) #original array\n",
    "print(c)   # copy"
   ]
  },
  {
   "cell_type": "markdown",
   "id": "d1b56d01",
   "metadata": {},
   "source": [
    "### Creating arrays with different Dimensions (Excercise)"
   ]
  },
  {
   "cell_type": "code",
   "execution_count": 21,
   "id": "2c3d5338",
   "metadata": {},
   "outputs": [
    {
     "data": {
      "text/plain": [
       "array([12])"
      ]
     },
     "execution_count": 21,
     "metadata": {},
     "output_type": "execute_result"
    }
   ],
   "source": [
    "#Creating 0-D Array\n",
    "d0 = np.array([12])\n",
    "d0"
   ]
  },
  {
   "cell_type": "code",
   "execution_count": 22,
   "id": "fbac0fbb",
   "metadata": {},
   "outputs": [
    {
     "data": {
      "text/plain": [
       "array([1, 2, 3, 4])"
      ]
     },
     "execution_count": 22,
     "metadata": {},
     "output_type": "execute_result"
    }
   ],
   "source": [
    "# Creating 1-D array\n",
    "d1 = np.array([1,2,3,4])\n",
    "d1"
   ]
  },
  {
   "cell_type": "code",
   "execution_count": 27,
   "id": "496eabc0",
   "metadata": {},
   "outputs": [
    {
     "data": {
      "text/plain": [
       "array([[ 1,  2,  3,  4],\n",
       "       [ 5,  6,  7,  8],\n",
       "       [ 9, 10, 11, 12]])"
      ]
     },
     "execution_count": 27,
     "metadata": {},
     "output_type": "execute_result"
    }
   ],
   "source": [
    "# Creating 2-D array (array elements should be 1d array, contains 2 square brackets)\n",
    "d2 = np.array([[1,2,3,4],[5,6,7,8],[9,10,11,12]])\n",
    "d2"
   ]
  },
  {
   "cell_type": "code",
   "execution_count": 28,
   "id": "0a1c026d",
   "metadata": {},
   "outputs": [
    {
     "data": {
      "text/plain": [
       "array([[[ 1,  2,  3],\n",
       "        [ 4,  5,  6]],\n",
       "\n",
       "       [[ 7,  8,  9],\n",
       "        [10, 11, 12]]])"
      ]
     },
     "execution_count": 28,
     "metadata": {},
     "output_type": "execute_result"
    }
   ],
   "source": [
    "# Creating 3-D array -  (array elements should be 2d array, contains three square brackets)\n",
    "d3 = np.array([[[1,2,3],[4,5,6]],[[7,8,9],[10,11,12]]])\n",
    "d3\n",
    "#type(d3)\n"
   ]
  },
  {
   "cell_type": "code",
   "execution_count": 32,
   "id": "955bafc7",
   "metadata": {},
   "outputs": [
    {
     "name": "stdout",
     "output_type": "stream",
     "text": [
      "42\n",
      "[1 2 3 4 5]\n",
      "[[1 2 3]\n",
      " [4 5 6]]\n",
      "[[[1 2 3]\n",
      "  [4 5 6]]\n",
      "\n",
      " [[1 2 3]\n",
      "  [4 5 6]]]\n"
     ]
    }
   ],
   "source": [
    "# Creating arrays with different dimensions.\n",
    "\n",
    "a = np.array(42) # 0D array\n",
    "b = np.array([1, 2, 3, 4, 5]) #1D array\n",
    "c = np.array([[1, 2, 3], [4, 5, 6]]) # 2D array\n",
    "d = np.array([[[1, 2, 3], [4, 5, 6]], [[1, 2, 3], [4, 5, 6]]]) #3D array\n",
    "print(a) \n",
    "print(b) \n",
    "print(c) \n",
    "print(d) "
   ]
  },
  {
   "cell_type": "markdown",
   "id": "276c5100",
   "metadata": {},
   "source": [
    "### Checking the Data Type of an Array (Excercise)"
   ]
  },
  {
   "cell_type": "code",
   "execution_count": 16,
   "id": "cce6d218",
   "metadata": {},
   "outputs": [
    {
     "data": {
      "text/plain": [
       "dtype('int32')"
      ]
     },
     "execution_count": 16,
     "metadata": {},
     "output_type": "execute_result"
    }
   ],
   "source": [
    "a = np.array(42)\n",
    "a.dtype"
   ]
  },
  {
   "cell_type": "code",
   "execution_count": 34,
   "id": "ca523a1f",
   "metadata": {},
   "outputs": [
    {
     "name": "stdout",
     "output_type": "stream",
     "text": [
      "<U6\n"
     ]
    }
   ],
   "source": [
    "# checking data types\n",
    "arr = np.array(['apple', 'banana', 'cherry'])\n",
    "print(arr.dtype)  # U6 U- String 6 - Maximum number of character in the given list of strings"
   ]
  },
  {
   "cell_type": "code",
   "execution_count": 52,
   "id": "26b45850",
   "metadata": {},
   "outputs": [
    {
     "data": {
      "text/plain": [
       "dtype('float64')"
      ]
     },
     "execution_count": 52,
     "metadata": {},
     "output_type": "execute_result"
    }
   ],
   "source": [
    "a = np.array([1,2.0,3,4,])\n",
    "a.dtype\n",
    "#a"
   ]
  },
  {
   "cell_type": "code",
   "execution_count": 39,
   "id": "78fe38cb",
   "metadata": {},
   "outputs": [
    {
     "data": {
      "text/plain": [
       "dtype('<U10')"
      ]
     },
     "execution_count": 39,
     "metadata": {},
     "output_type": "execute_result"
    }
   ],
   "source": [
    "a = np.array(['apple','banana','orange','Watermelon'])\n",
    "a.dtype"
   ]
  },
  {
   "cell_type": "code",
   "execution_count": 54,
   "id": "7ad9130e",
   "metadata": {},
   "outputs": [
    {
     "data": {
      "text/plain": [
       "dtype('<U32')"
      ]
     },
     "execution_count": 54,
     "metadata": {},
     "output_type": "execute_result"
    }
   ],
   "source": [
    "a = np.array(['apple','banana',1,89,5.0,'Watermelon'])\n",
    "a.dtype\n",
    "#a"
   ]
  },
  {
   "cell_type": "markdown",
   "id": "e990589f",
   "metadata": {},
   "source": [
    "### Dimensions of the array \n",
    "\n",
    "ndim - attribute used to identify the dimension of the given array."
   ]
  },
  {
   "cell_type": "code",
   "execution_count": 3,
   "id": "a5a04cdf",
   "metadata": {},
   "outputs": [
    {
     "data": {
      "text/plain": [
       "1"
      ]
     },
     "execution_count": 3,
     "metadata": {},
     "output_type": "execute_result"
    }
   ],
   "source": [
    "b = np.array([1,2,3,4])\n",
    "b.ndim"
   ]
  },
  {
   "cell_type": "code",
   "execution_count": 6,
   "id": "c84bbcfa",
   "metadata": {},
   "outputs": [
    {
     "data": {
      "text/plain": [
       "2"
      ]
     },
     "execution_count": 6,
     "metadata": {},
     "output_type": "execute_result"
    }
   ],
   "source": [
    "c = np.array([[1,2,3],[1,2,3]])\n",
    "c.ndim"
   ]
  },
  {
   "cell_type": "code",
   "execution_count": 8,
   "id": "728fce7e",
   "metadata": {},
   "outputs": [
    {
     "data": {
      "text/plain": [
       "3"
      ]
     },
     "execution_count": 8,
     "metadata": {},
     "output_type": "execute_result"
    }
   ],
   "source": [
    "d = np.array([[[1,4,5,],[3,6,8]],[[2,4,6],[8,9,4]]])\n",
    "d.ndim"
   ]
  },
  {
   "cell_type": "markdown",
   "id": "40b1b43d",
   "metadata": {},
   "source": [
    "### Define the number of dimensions \n",
    "ndmin - attribute used to define the dimension of array."
   ]
  },
  {
   "cell_type": "code",
   "execution_count": 58,
   "id": "f3c4a67a",
   "metadata": {},
   "outputs": [
    {
     "name": "stdout",
     "output_type": "stream",
     "text": [
      "[[[[1 2 3 4]]]]\n",
      "number of dimensions : 4\n"
     ]
    }
   ],
   "source": [
    "# Creating higher dimensional arrays\n",
    "\n",
    "arr = np.array([1, 2, 3, 4], ndmin=4)\n",
    "print(arr)\n",
    "print('number of dimensions :', arr.ndim)"
   ]
  },
  {
   "cell_type": "code",
   "execution_count": 19,
   "id": "3f224ba2",
   "metadata": {},
   "outputs": [
    {
     "data": {
      "text/plain": [
       "array([[[[[[[[[[[[[[[[[[[[[[[[[[[[[[[[1, 2,\n",
       "                                      3, 4]]]]]]]]]]]]]]]]]]]]]]]]]]]]]]]])"
      ]
     },
     "execution_count": 19,
     "metadata": {},
     "output_type": "execute_result"
    }
   ],
   "source": [
    "# Creating higher dimensional arrays example\n",
    "a = np.array([1,2,3,4],ndmin=32) #maximum valuue for ndmin is 32,We can make up to 32 dimension array\n",
    "a"
   ]
  },
  {
   "cell_type": "markdown",
   "id": "2a5f329c",
   "metadata": {},
   "source": [
    "### CHECKING SHAPE"
   ]
  },
  {
   "cell_type": "code",
   "execution_count": null,
   "id": "9fc8316e",
   "metadata": {},
   "outputs": [],
   "source": [
    "Shape of an Array : The shape of an array is the number of elements in each dimension.\n",
    "    \n",
    "shape  : 1. Attribute used to determine the shape of an array.\n",
    "         2. Returns a tuple with each index having the number of corresponding elements."
   ]
  },
  {
   "cell_type": "code",
   "execution_count": 20,
   "id": "66fee97c",
   "metadata": {},
   "outputs": [
    {
     "data": {
      "text/plain": [
       "(2, 3)"
      ]
     },
     "execution_count": 20,
     "metadata": {},
     "output_type": "execute_result"
    }
   ],
   "source": [
    "# checking the shape\n",
    "c = np.array([[1, 2, 3], [4, 5, 6]])\n",
    "c.shape"
   ]
  },
  {
   "cell_type": "code",
   "execution_count": 21,
   "id": "4b6b37ee",
   "metadata": {},
   "outputs": [
    {
     "data": {
      "text/plain": [
       "(4,)"
      ]
     },
     "execution_count": 21,
     "metadata": {},
     "output_type": "execute_result"
    }
   ],
   "source": [
    "a = np.array([1,2,3,4])\n",
    "a.shape"
   ]
  },
  {
   "cell_type": "code",
   "execution_count": 23,
   "id": "173ed7ae",
   "metadata": {},
   "outputs": [
    {
     "data": {
      "text/plain": [
       "(2, 3)"
      ]
     },
     "execution_count": 23,
     "metadata": {},
     "output_type": "execute_result"
    }
   ],
   "source": [
    "a = np.array([[1,2,3],[4,5,6]])\n",
    "a.shape"
   ]
  },
  {
   "cell_type": "code",
   "execution_count": 25,
   "id": "e1d737e1",
   "metadata": {},
   "outputs": [
    {
     "data": {
      "text/plain": [
       "(3, 2, 2)"
      ]
     },
     "execution_count": 25,
     "metadata": {},
     "output_type": "execute_result"
    }
   ],
   "source": [
    "a = np.array([[[1,2],[3,4]],[[5,6],[7,8]],[[9,10],[11,12]]])\n",
    "a.shape"
   ]
  },
  {
   "cell_type": "markdown",
   "id": "d8fe2d20",
   "metadata": {},
   "source": [
    "### Size of an array\n",
    "\n",
    "size : Attribute used to determine the size of an array. Size returns the number of elements in the array."
   ]
  },
  {
   "cell_type": "code",
   "execution_count": 28,
   "id": "81b48a4b",
   "metadata": {},
   "outputs": [
    {
     "data": {
      "text/plain": [
       "12"
      ]
     },
     "execution_count": 28,
     "metadata": {},
     "output_type": "execute_result"
    }
   ],
   "source": [
    "# size - returns the no. of elements in the array\n",
    "\n",
    "d = np.array([[[1, 2, 3], [4, 5, 6]], [[1, 2, 3], [4, 5, 6]]])\n",
    "d.size"
   ]
  },
  {
   "cell_type": "code",
   "execution_count": 29,
   "id": "89191358",
   "metadata": {},
   "outputs": [
    {
     "data": {
      "text/plain": [
       "12"
      ]
     },
     "execution_count": 29,
     "metadata": {},
     "output_type": "execute_result"
    }
   ],
   "source": [
    "a = np.array([[[1,2],[3,4]],[[5,6],[7,8]],[[9,10],[11,12]]])\n",
    "a.size"
   ]
  },
  {
   "cell_type": "code",
   "execution_count": 30,
   "id": "14deae9c",
   "metadata": {},
   "outputs": [
    {
     "data": {
      "text/plain": [
       "6"
      ]
     },
     "execution_count": 30,
     "metadata": {},
     "output_type": "execute_result"
    }
   ],
   "source": [
    "a = np.array([[1,2,3],[4,5,6]])\n",
    "a.size"
   ]
  },
  {
   "cell_type": "markdown",
   "id": "4cd475b1",
   "metadata": {},
   "source": [
    "### EXERCISE "
   ]
  },
  {
   "cell_type": "code",
   "execution_count": 36,
   "id": "f07d226e",
   "metadata": {},
   "outputs": [
    {
     "name": "stdout",
     "output_type": "stream",
     "text": [
      "1\n"
     ]
    }
   ],
   "source": [
    "# check the number of dimensions\n",
    "\n",
    "arr = np.array([1, 2, 3, 4])\n",
    "print(arr.ndim)"
   ]
  },
  {
   "cell_type": "code",
   "execution_count": 35,
   "id": "8146a903",
   "metadata": {},
   "outputs": [
    {
     "data": {
      "text/plain": [
       "array([[1, 2, 3, 4]])"
      ]
     },
     "execution_count": 35,
     "metadata": {},
     "output_type": "execute_result"
    }
   ],
   "source": [
    "# create 2D array from 1D array\n",
    "\n",
    "arr = np.array([1, 2, 3, 4],ndmin=2)\n",
    "arr"
   ]
  },
  {
   "cell_type": "markdown",
   "id": "82bbf013",
   "metadata": {},
   "source": [
    "###### Array creation with homogenious data."
   ]
  },
  {
   "cell_type": "code",
   "execution_count": null,
   "id": "9f0cff03",
   "metadata": {},
   "outputs": [],
   "source": [
    "Methods used to create arrays having homogenious data are:\n",
    "    1. zeros()   : Method to create array of zeros. This method takes array shape as arguments.\n",
    "    2. ones()    : Method to create array of ones. This method takes array shape as arguments.\n",
    "    3. full()    : Method used to create an array with a single value."
   ]
  },
  {
   "cell_type": "code",
   "execution_count": 37,
   "id": "7ece9a1c",
   "metadata": {},
   "outputs": [
    {
     "data": {
      "text/plain": [
       "array([[0, 0, 0],\n",
       "       [0, 0, 0]])"
      ]
     },
     "execution_count": 37,
     "metadata": {},
     "output_type": "execute_result"
    }
   ],
   "source": [
    "#Creating array of zeros\n",
    "\n",
    "a=np.zeros((2,3),dtype='int')\n",
    "a"
   ]
  },
  {
   "cell_type": "code",
   "execution_count": 40,
   "id": "fa553b36",
   "metadata": {},
   "outputs": [
    {
     "data": {
      "text/plain": [
       "array([[0.],\n",
       "       [0.]])"
      ]
     },
     "execution_count": 40,
     "metadata": {},
     "output_type": "execute_result"
    }
   ],
   "source": [
    "a = np.zeros((2,1),dtype='float')\n",
    "a"
   ]
  },
  {
   "cell_type": "code",
   "execution_count": 4,
   "id": "00cfa6b2",
   "metadata": {},
   "outputs": [
    {
     "data": {
      "text/plain": [
       "array([[1, 1],\n",
       "       [1, 1],\n",
       "       [1, 1]])"
      ]
     },
     "execution_count": 4,
     "metadata": {},
     "output_type": "execute_result"
    }
   ],
   "source": [
    "#creating array of 1's\n",
    "\n",
    "b= np.ones((3,2), dtype = 'int')\n",
    "b"
   ]
  },
  {
   "cell_type": "code",
   "execution_count": 5,
   "id": "8dfefbf9",
   "metadata": {},
   "outputs": [
    {
     "data": {
      "text/plain": [
       "array([[[1., 1., 1., 1.],\n",
       "        [1., 1., 1., 1.],\n",
       "        [1., 1., 1., 1.]],\n",
       "\n",
       "       [[1., 1., 1., 1.],\n",
       "        [1., 1., 1., 1.],\n",
       "        [1., 1., 1., 1.]]])"
      ]
     },
     "execution_count": 5,
     "metadata": {},
     "output_type": "execute_result"
    }
   ],
   "source": [
    "a = np.ones((2,3,4))\n",
    "a"
   ]
  },
  {
   "cell_type": "code",
   "execution_count": 42,
   "id": "99e938c9",
   "metadata": {},
   "outputs": [
    {
     "data": {
      "text/plain": [
       "array([['abc', 'abc', 'abc'],\n",
       "       ['abc', 'abc', 'abc']], dtype='<U3')"
      ]
     },
     "execution_count": 42,
     "metadata": {},
     "output_type": "execute_result"
    }
   ],
   "source": [
    "#creating array with a single value\n",
    "\n",
    "c=np.full((2,3),'abc')\n",
    "c"
   ]
  },
  {
   "cell_type": "markdown",
   "id": "8a09f7cd",
   "metadata": {},
   "source": [
    "### Random Numbers in NumPy"
   ]
  },
  {
   "cell_type": "code",
   "execution_count": null,
   "id": "2de44b68",
   "metadata": {},
   "outputs": [],
   "source": [
    "NumPy offers the random module to work with random numbers.\n",
    "The random module  methods:\n",
    "    1. rand()      : Method returns a random float between 0 and 1.\n",
    "    2. randint(n)  : Method to generate a random integer from 0 to n."
   ]
  },
  {
   "cell_type": "code",
   "execution_count": 9,
   "id": "8d07d63f",
   "metadata": {},
   "outputs": [
    {
     "name": "stdout",
     "output_type": "stream",
     "text": [
      "33\n"
     ]
    }
   ],
   "source": [
    "#Generate a random integer from 0 to 50:(randint() method)\n",
    "\n",
    "from numpy import random # command to import random module\n",
    "x = random.randint(50)\n",
    "print(x)"
   ]
  },
  {
   "cell_type": "code",
   "execution_count": 7,
   "id": "5c59b17e",
   "metadata": {},
   "outputs": [
    {
     "name": "stdout",
     "output_type": "stream",
     "text": [
      "0.9211259218361701\n"
     ]
    }
   ],
   "source": [
    "#Generate a random float from 0 to 1: (rand() method)\n",
    "\n",
    "from numpy import random # command to import random module\n",
    "r = random.rand()\n",
    "print(r)"
   ]
  },
  {
   "cell_type": "markdown",
   "id": "019c3886",
   "metadata": {},
   "source": [
    "### Generate Random Array"
   ]
  },
  {
   "cell_type": "code",
   "execution_count": null,
   "id": "79d8c8b7",
   "metadata": {},
   "outputs": [],
   "source": [
    "There are several methods to generate random arrays:\n",
    "    \n",
    "    1. randint()  : Create an array of integer numbers. Method takes a size parameter where you can specify \n",
    "                    the shape of an array.\n",
    "            \n",
    "    2. rand()     : Create an array of float numbers. Method also allows you to specify the shape of the array.\n",
    "        \n",
    "    3. random()   : Create an array of random numbers. \n",
    "        \n",
    "    4. choice()   : Method allows us to generate a random value based on an array of values.\n",
    "                    The choice() method takes an array as a parameter and randomly returns one of the values.\n",
    "                    It also allows us to return an array of values, add a size parameter to specify the shape of the array."
   ]
  },
  {
   "cell_type": "code",
   "execution_count": 14,
   "id": "0d85acc6",
   "metadata": {},
   "outputs": [
    {
     "name": "stdout",
     "output_type": "stream",
     "text": [
      "[25 27 36 30 34 29]\n"
     ]
    }
   ],
   "source": [
    "#Generate a 1-D array using randint() method containing 6 random integers from 0 to 50:\n",
    "\n",
    "arr = np.random.randint(50, size=(6))\n",
    "print(arr)"
   ]
  },
  {
   "cell_type": "code",
   "execution_count": 15,
   "id": "fb32ff3d",
   "metadata": {},
   "outputs": [
    {
     "name": "stdout",
     "output_type": "stream",
     "text": [
      "[[42 39 36 23]\n",
      " [32 45  9  8]]\n"
     ]
    }
   ],
   "source": [
    "#Generate a 2-D array using randint() method containing 8 random integers from 0 to 50:\n",
    "\n",
    "arr = np.random.randint(50, size=(2,4))\n",
    "print(arr)"
   ]
  },
  {
   "cell_type": "code",
   "execution_count": 20,
   "id": "1fde692a",
   "metadata": {},
   "outputs": [
    {
     "name": "stdout",
     "output_type": "stream",
     "text": [
      "[0.88120064 0.26516753 0.58133605 0.35433232 0.52485111]\n"
     ]
    }
   ],
   "source": [
    "#Generate a 1-D array containing 5 random floats:\n",
    "\n",
    "arr = random.rand(5)\n",
    "print(arr)"
   ]
  },
  {
   "cell_type": "code",
   "execution_count": 22,
   "id": "190814db",
   "metadata": {},
   "outputs": [
    {
     "name": "stdout",
     "output_type": "stream",
     "text": [
      "[[0.52490195 0.82658445]\n",
      " [0.11729888 0.09937123]]\n"
     ]
    }
   ],
   "source": [
    "#Generate a 2-D array containing 4 random floats:\n",
    "\n",
    "arr = random.rand(2,2)\n",
    "print(arr)"
   ]
  },
  {
   "cell_type": "code",
   "execution_count": 25,
   "id": "78fc41f3",
   "metadata": {},
   "outputs": [
    {
     "name": "stdout",
     "output_type": "stream",
     "text": [
      "[[0.52944491 0.26274302 0.06843229 0.09822787 0.02160015]\n",
      " [0.88490897 0.12273519 0.38431442 0.7932834  0.64065968]\n",
      " [0.9012493  0.59756857 0.16803969 0.98383741 0.78738222]\n",
      " [0.16978969 0.96619817 0.73611989 0.32924178 0.38877664]\n",
      " [0.69260251 0.56476599 0.50728818 0.83963856 0.32862201]]\n"
     ]
    }
   ],
   "source": [
    "#creating array with random values\n",
    "\n",
    "arr = np.random.random((5,5)) \n",
    "print(arr)"
   ]
  },
  {
   "cell_type": "code",
   "execution_count": 27,
   "id": "dfdc6336",
   "metadata": {},
   "outputs": [
    {
     "name": "stdout",
     "output_type": "stream",
     "text": [
      "8\n"
     ]
    }
   ],
   "source": [
    "#generate an array using choice() method\n",
    "\n",
    "x = random.choice([6,2,8,1])\n",
    "print(x)"
   ]
  },
  {
   "cell_type": "code",
   "execution_count": 31,
   "id": "386403b5",
   "metadata": {},
   "outputs": [
    {
     "name": "stdout",
     "output_type": "stream",
     "text": [
      "[[40 20]\n",
      " [40 40]\n",
      " [10 10]]\n"
     ]
    }
   ],
   "source": [
    "#Generate a 2-D array that consists of the values in the array parameter (10,20,30,40):\n",
    "\n",
    "from numpy import random\n",
    "\n",
    "arr = random.choice([10,20,30,40], size=(3,2))\n",
    "print(arr)"
   ]
  },
  {
   "cell_type": "markdown",
   "id": "97361434",
   "metadata": {},
   "source": [
    "###### ARRAY CREATION - NUMERICAL RANGES"
   ]
  },
  {
   "cell_type": "code",
   "execution_count": 46,
   "id": "c64fb91c",
   "metadata": {},
   "outputs": [
    {
     "data": {
      "text/plain": [
       "array([1, 3, 5, 7, 9])"
      ]
     },
     "execution_count": 46,
     "metadata": {},
     "output_type": "execute_result"
    }
   ],
   "source": [
    "#creating array with step size arange(start,end,step)\n",
    "e=np.arange(1,10,2)\n",
    "e"
   ]
  },
  {
   "cell_type": "code",
   "execution_count": 49,
   "id": "8a15fb87",
   "metadata": {},
   "outputs": [
    {
     "data": {
      "text/plain": [
       "array([ 1., 10.])"
      ]
     },
     "execution_count": 49,
     "metadata": {},
     "output_type": "execute_result"
    }
   ],
   "source": [
    "#creating array with equal spacing\n",
    "f=np.linspace(1,10,2)\n",
    "f"
   ]
  },
  {
   "cell_type": "markdown",
   "id": "2646cbd3",
   "metadata": {},
   "source": [
    "### Numpy array Indexing\n",
    " Two types:\n",
    "1.  Positive indexing  2. Negative indexing\n",
    "\n",
    "Access Array Elements:\n",
    "1. Positive indexing\n",
    "You can access an array element by referring to its index number. In positive indexing, \n",
    "The indexes in NumPy arrays start with 0, meaning that the first element has index 0, and the second has index 1 etc.\n",
    "2. Negative Indexing\n",
    "Use negative indexing to access an array from the end."
   ]
  },
  {
   "cell_type": "markdown",
   "id": "14ec72ec",
   "metadata": {},
   "source": [
    "###### POSITIVE INDEXING"
   ]
  },
  {
   "cell_type": "markdown",
   "id": "0bfdb3f4",
   "metadata": {},
   "source": [
    "###### Accessing 1D Array"
   ]
  },
  {
   "cell_type": "code",
   "execution_count": 22,
   "id": "e3ab8ec3",
   "metadata": {},
   "outputs": [
    {
     "name": "stdout",
     "output_type": "stream",
     "text": [
      "1\n"
     ]
    }
   ],
   "source": [
    "# accessing 1-D \n",
    "# access first element\n",
    "arr = np.array([1, 2, 3, 4,5])\n",
    "print(arr[0])"
   ]
  },
  {
   "cell_type": "code",
   "execution_count": 24,
   "id": "7aaa5215",
   "metadata": {},
   "outputs": [
    {
     "name": "stdout",
     "output_type": "stream",
     "text": [
      "2\n"
     ]
    }
   ],
   "source": [
    "# to access second element\n",
    "print(arr[1])\n"
   ]
  },
  {
   "cell_type": "code",
   "execution_count": 25,
   "id": "d4d66469",
   "metadata": {},
   "outputs": [
    {
     "name": "stdout",
     "output_type": "stream",
     "text": [
      "8\n"
     ]
    }
   ],
   "source": [
    "# get 3rd and 5 th and add them\n",
    "print(arr[2] + arr[4])"
   ]
  },
  {
   "cell_type": "markdown",
   "id": "eb79f87c",
   "metadata": {},
   "source": [
    "###### Accessing 2D Array\n",
    "2-D arrays like a table with rows and columns, where the dimension represents the row and the index represents the column."
   ]
  },
  {
   "cell_type": "code",
   "execution_count": 27,
   "id": "e46546f2",
   "metadata": {},
   "outputs": [
    {
     "data": {
      "text/plain": [
       "array([[ 1,  2,  3,  4,  5],\n",
       "       [ 6,  7,  8,  9, 10]])"
      ]
     },
     "execution_count": 27,
     "metadata": {},
     "output_type": "execute_result"
    }
   ],
   "source": [
    "arr = np.array([[1,2,3,4,5], [6,7,8,9,10]])\n",
    "arr"
   ]
  },
  {
   "cell_type": "code",
   "execution_count": 51,
   "id": "93503c29",
   "metadata": {},
   "outputs": [
    {
     "name": "stdout",
     "output_type": "stream",
     "text": [
      "2nd element on 1st row:  2\n"
     ]
    }
   ],
   "source": [
    "# to access element on the first row and second column\n",
    "print('2nd element on 1st row: ', arr[0, 1])"
   ]
  },
  {
   "cell_type": "code",
   "execution_count": 28,
   "id": "6c9e93f3",
   "metadata": {},
   "outputs": [
    {
     "name": "stdout",
     "output_type": "stream",
     "text": [
      "5th element on 2nd row:  10\n"
     ]
    }
   ],
   "source": [
    "#access element on the 2nd row and 5th column\n",
    "print('5th element on 2nd row: ', arr[1, 4])"
   ]
  },
  {
   "cell_type": "markdown",
   "id": "40bc553e",
   "metadata": {},
   "source": [
    "###### Accessing 3D Array\n",
    "To access elements from 3-D arrays we can use comma separated integers representing the dimensions and the index of the element."
   ]
  },
  {
   "cell_type": "code",
   "execution_count": 29,
   "id": "7f4f1fa2",
   "metadata": {},
   "outputs": [
    {
     "data": {
      "text/plain": [
       "array([[[ 1,  2,  3],\n",
       "        [ 4,  5,  6]],\n",
       "\n",
       "       [[ 7,  8,  9],\n",
       "        [10, 11, 12]]])"
      ]
     },
     "execution_count": 29,
     "metadata": {},
     "output_type": "execute_result"
    }
   ],
   "source": [
    "arr = np.array([[[1, 2, 3], [4, 5, 6]], [[7, 8, 9], [10, 11, 12]]])\n",
    "arr"
   ]
  },
  {
   "cell_type": "code",
   "execution_count": 30,
   "id": "5cec62c5",
   "metadata": {},
   "outputs": [
    {
     "name": "stdout",
     "output_type": "stream",
     "text": [
      "6\n"
     ]
    }
   ],
   "source": [
    "# accessing 3-d (dimensions and index )\n",
    "arr = np.array([[[1, 2, 3], [4, 5, 6]], [[7, 8, 9], [10, 11, 12]]])\n",
    "# access 3rd of second array of the first array\n",
    "print(arr[0, 1, 2])"
   ]
  },
  {
   "cell_type": "code",
   "execution_count": 57,
   "id": "0f2cdc76",
   "metadata": {},
   "outputs": [
    {
     "data": {
      "text/plain": [
       "array([1, 2, 3])"
      ]
     },
     "execution_count": 57,
     "metadata": {},
     "output_type": "execute_result"
    }
   ],
   "source": [
    "# accessing whole row\n",
    "arr[0,0]"
   ]
  },
  {
   "cell_type": "markdown",
   "id": "398dc99a",
   "metadata": {},
   "source": [
    "###### Negative Indexing"
   ]
  },
  {
   "cell_type": "code",
   "execution_count": 59,
   "id": "079fe246",
   "metadata": {},
   "outputs": [
    {
     "data": {
      "text/plain": [
       "9"
      ]
     },
     "execution_count": 59,
     "metadata": {},
     "output_type": "execute_result"
    }
   ],
   "source": [
    "arr[-1, -2, -1]\n"
   ]
  },
  {
   "cell_type": "markdown",
   "id": "d60a060a",
   "metadata": {},
   "source": [
    "### EXERCISE "
   ]
  },
  {
   "cell_type": "code",
   "execution_count": 4,
   "id": "0e184586",
   "metadata": {},
   "outputs": [
    {
     "name": "stdout",
     "output_type": "stream",
     "text": [
      "1\n"
     ]
    }
   ],
   "source": [
    "#print first item in the array\n",
    "\n",
    "arr = np.array([1, 2, 3, 4, 5])\n",
    "print(arr[0])"
   ]
  },
  {
   "cell_type": "code",
   "execution_count": 5,
   "id": "1364d808",
   "metadata": {},
   "outputs": [
    {
     "data": {
      "text/plain": [
       "50"
      ]
     },
     "execution_count": 5,
     "metadata": {},
     "output_type": "execute_result"
    }
   ],
   "source": [
    "# print 50\n",
    "\n",
    "arr = np.array([[10, 20, 30, 40], [50, 60, 70, 80]])\n",
    "arr[1,0]"
   ]
  },
  {
   "cell_type": "code",
   "execution_count": 7,
   "id": "6fd2afe3",
   "metadata": {},
   "outputs": [
    {
     "data": {
      "text/plain": [
       "11"
      ]
     },
     "execution_count": 7,
     "metadata": {},
     "output_type": "execute_result"
    }
   ],
   "source": [
    "\n",
    "# print 11\n",
    "\n",
    "arr = np.array([[[1, 2, 3], [4, 5, 6]], [[7, 8, 9], [10, 11, 12]]])\n",
    "#arr[1,1,1]\n",
    "arr[-1,-1,-2]"
   ]
  },
  {
   "cell_type": "markdown",
   "id": "91914765",
   "metadata": {},
   "source": [
    "### NumPy Array Slicing"
   ]
  },
  {
   "cell_type": "code",
   "execution_count": null,
   "id": "6c1c2682",
   "metadata": {},
   "outputs": [],
   "source": [
    "# Array slicing\n",
    "# Slicing 1-d array [start:end] [start:end:step]"
   ]
  },
  {
   "cell_type": "code",
   "execution_count": 9,
   "id": "2bb0452e",
   "metadata": {},
   "outputs": [
    {
     "data": {
      "text/plain": [
       "array([2, 4, 6, 3, 7])"
      ]
     },
     "execution_count": 9,
     "metadata": {},
     "output_type": "execute_result"
    }
   ],
   "source": [
    "# slicing from index 1 to 5\n",
    "arr = np.array([1,2,4,6,3,7,4])\n",
    "arr[0:6]"
   ]
  },
  {
   "cell_type": "code",
   "execution_count": 10,
   "id": "6975c6ae",
   "metadata": {},
   "outputs": [
    {
     "data": {
      "text/plain": [
       "array([3, 7, 4])"
      ]
     },
     "execution_count": 10,
     "metadata": {},
     "output_type": "execute_result"
    }
   ],
   "source": [
    "#slices from index 4 to the end\n",
    "arr[4:]"
   ]
  },
  {
   "cell_type": "code",
   "execution_count": 11,
   "id": "7f534f86",
   "metadata": {},
   "outputs": [
    {
     "data": {
      "text/plain": [
       "array([1, 2, 4, 6, 3])"
      ]
     },
     "execution_count": 11,
     "metadata": {},
     "output_type": "execute_result"
    }
   ],
   "source": [
    "# beginning to index 4\n",
    "arr[0:5]"
   ]
  },
  {
   "cell_type": "markdown",
   "id": "d55b862e",
   "metadata": {},
   "source": [
    "###### SLICING WITH NEGATIVE INDEX"
   ]
  },
  {
   "cell_type": "code",
   "execution_count": 12,
   "id": "0a3caa28",
   "metadata": {},
   "outputs": [
    {
     "data": {
      "text/plain": [
       "array([5, 6, 7])"
      ]
     },
     "execution_count": 12,
     "metadata": {},
     "output_type": "execute_result"
    }
   ],
   "source": [
    "\n",
    "arr = np.array([1, 2, 3, 4, 5, 6, 7])\n",
    "# slicing from index -3 to index -1 \n",
    "arr[-3:]"
   ]
  },
  {
   "cell_type": "code",
   "execution_count": 15,
   "id": "70e04300",
   "metadata": {},
   "outputs": [
    {
     "name": "stdout",
     "output_type": "stream",
     "text": [
      "[2 4 6]\n"
     ]
    }
   ],
   "source": [
    "# every other element from index 1 to index 5\n",
    "print(arr[1:6:2])"
   ]
  },
  {
   "cell_type": "code",
   "execution_count": 16,
   "id": "a881e29d",
   "metadata": {},
   "outputs": [
    {
     "data": {
      "text/plain": [
       "array([1, 3, 5, 7])"
      ]
     },
     "execution_count": 16,
     "metadata": {},
     "output_type": "execute_result"
    }
   ],
   "source": [
    "# every other element from entire array\n",
    "arr[::2]"
   ]
  },
  {
   "cell_type": "markdown",
   "id": "785018ed",
   "metadata": {},
   "source": [
    "###### SLICING 2D ARRAY"
   ]
  },
  {
   "cell_type": "code",
   "execution_count": 19,
   "id": "0ec0f049",
   "metadata": {},
   "outputs": [
    {
     "name": "stdout",
     "output_type": "stream",
     "text": [
      "[ 7  8  9 10]\n"
     ]
    }
   ],
   "source": [
    "# slicing 2-D array\n",
    "# From the second element, slice from index 1 to index 4 \n",
    "arr2 = np.array([[1,2,3,4,5],[6,7,8,9,10]])\n",
    "print(arr2[1,1:])"
   ]
  },
  {
   "cell_type": "code",
   "execution_count": 23,
   "id": "8259d789",
   "metadata": {},
   "outputs": [
    {
     "name": "stdout",
     "output_type": "stream",
     "text": [
      "[3 8]\n"
     ]
    }
   ],
   "source": [
    "# from both array return index 2\n",
    "print(arr2[0:2,2])\n",
    "#print(arr2[0:, 2])"
   ]
  },
  {
   "cell_type": "code",
   "execution_count": 27,
   "id": "271ec59e",
   "metadata": {},
   "outputs": [
    {
     "data": {
      "text/plain": [
       "array([[ 2,  3,  4,  5],\n",
       "       [ 7,  8,  9, 10]])"
      ]
     },
     "execution_count": 27,
     "metadata": {},
     "output_type": "execute_result"
    }
   ],
   "source": [
    "# from both elements slice 1 - 4(returns a 2 d array)\n",
    "\n",
    "arr2[0:,1:5]\n"
   ]
  },
  {
   "cell_type": "code",
   "execution_count": 12,
   "id": "4e9bca35",
   "metadata": {},
   "outputs": [
    {
     "data": {
      "text/plain": [
       "array([[ 1,  2,  3,  4,  5],\n",
       "       [ 6,  7,  8,  9, 10]])"
      ]
     },
     "execution_count": 12,
     "metadata": {},
     "output_type": "execute_result"
    }
   ],
   "source": [
    "arr = np.array([[1, 2, 3, 4, 5], [6, 7, 8, 9, 10]])\n",
    "arr"
   ]
  },
  {
   "cell_type": "code",
   "execution_count": 28,
   "id": "c14efa72",
   "metadata": {},
   "outputs": [
    {
     "data": {
      "text/plain": [
       "array([ 7,  8,  9, 10])"
      ]
     },
     "execution_count": 28,
     "metadata": {},
     "output_type": "execute_result"
    }
   ],
   "source": [
    "# From the second element, slice from index 1 to index 4\n",
    "arr2[1,1:5]\n",
    "#print(arr[1, 1:5])"
   ]
  },
  {
   "cell_type": "code",
   "execution_count": 29,
   "id": "b8c44bd8",
   "metadata": {},
   "outputs": [
    {
     "data": {
      "text/plain": [
       "array([3, 8])"
      ]
     },
     "execution_count": 29,
     "metadata": {},
     "output_type": "execute_result"
    }
   ],
   "source": [
    "# from both return index 2\n",
    "arr2[0:,2]"
   ]
  },
  {
   "cell_type": "markdown",
   "id": "69b75828",
   "metadata": {},
   "source": [
    "###  EXERCISE "
   ]
  },
  {
   "cell_type": "code",
   "execution_count": 30,
   "id": "46641215",
   "metadata": {},
   "outputs": [
    {
     "name": "stdout",
     "output_type": "stream",
     "text": [
      "[15 20 25]\n"
     ]
    }
   ],
   "source": [
    "#1.Everything from (including) the second item to \n",
    "#(not including) the fifth item.\n",
    "\n",
    "arr = np.array([10, 15, 20, 25, 30, 35, 40])\n",
    "print(arr[1:4])"
   ]
  },
  {
   "cell_type": "code",
   "execution_count": 31,
   "id": "edce8385",
   "metadata": {},
   "outputs": [
    {
     "data": {
      "text/plain": [
       "array([15, 25, 35])"
      ]
     },
     "execution_count": 31,
     "metadata": {},
     "output_type": "execute_result"
    }
   ],
   "source": [
    "#3.Every other item from (including) the second item to \n",
    "#(not including) the fifth item.\n",
    "\n",
    "arr[1::2]"
   ]
  },
  {
   "cell_type": "code",
   "execution_count": 32,
   "id": "339419e1",
   "metadata": {},
   "outputs": [
    {
     "data": {
      "text/plain": [
       "array([10, 20, 30, 40])"
      ]
     },
     "execution_count": 32,
     "metadata": {},
     "output_type": "execute_result"
    }
   ],
   "source": [
    "#4.Every other item from the entire array.\n",
    "arr[::2]"
   ]
  },
  {
   "cell_type": "code",
   "execution_count": null,
   "id": "12b617a8",
   "metadata": {},
   "outputs": [],
   "source": [
    "arr = np.array([10, 15, 20, 25, 30, 35, 40])\n",
    "print(arr   )"
   ]
  },
  {
   "cell_type": "markdown",
   "id": "0e09e515",
   "metadata": {},
   "source": [
    "######      CHECKING THE SHAPE:"
   ]
  },
  {
   "cell_type": "code",
   "execution_count": 19,
   "id": "f99e7cf5",
   "metadata": {},
   "outputs": [
    {
     "name": "stdout",
     "output_type": "stream",
     "text": [
      "(2, 4)\n"
     ]
    }
   ],
   "source": [
    "# checking the shape of array\n",
    "arr = np.array([[1, 2, 3, 4], [5, 6, 7, 8]])\n",
    "print(arr.shape)"
   ]
  },
  {
   "cell_type": "code",
   "execution_count": 33,
   "id": "2b35ba4a",
   "metadata": {},
   "outputs": [
    {
     "data": {
      "text/plain": [
       "(6,)"
      ]
     },
     "execution_count": 33,
     "metadata": {},
     "output_type": "execute_result"
    }
   ],
   "source": [
    "arr = np.array([1,2,3,4,5,6])\n",
    "arr.shape"
   ]
  },
  {
   "cell_type": "code",
   "execution_count": 34,
   "id": "80aa48b4",
   "metadata": {},
   "outputs": [
    {
     "data": {
      "text/plain": [
       "(2, 2, 3)"
      ]
     },
     "execution_count": 34,
     "metadata": {},
     "output_type": "execute_result"
    }
   ],
   "source": [
    "arr = np.array([[[1,2,3],[4,5,6]],[[7,8,9],[10,11,12]]])\n",
    "arr.shape"
   ]
  },
  {
   "cell_type": "markdown",
   "id": "6d753036",
   "metadata": {},
   "source": [
    "### Array Reshape "
   ]
  },
  {
   "cell_type": "code",
   "execution_count": null,
   "id": "fee6f809",
   "metadata": {},
   "outputs": [],
   "source": [
    "1. Reshaping means changing the shape of an array.\n",
    "\n",
    "2. The shape of an array is the number of elements in each dimension.\n",
    "\n",
    "3. By reshaping we can add or remove dimensions or change number of elements in each dimension."
   ]
  },
  {
   "cell_type": "code",
   "execution_count": 20,
   "id": "8c9475b2",
   "metadata": {},
   "outputs": [
    {
     "name": "stdout",
     "output_type": "stream",
     "text": [
      "[[ 1  2  3]\n",
      " [ 4  5  6]\n",
      " [ 7  8  9]\n",
      " [10 11 12]]\n"
     ]
    }
   ],
   "source": [
    "# reshaping an 1D array to 2D array\n",
    "arr = np.array([1, 2, 3, 4, 5, 6, 7, 8, 9, 10, 11, 12])\n",
    "newarr = arr.reshape(4, 3)\n",
    "\n",
    "print(newarr)"
   ]
  },
  {
   "cell_type": "code",
   "execution_count": 17,
   "id": "2e526142",
   "metadata": {},
   "outputs": [
    {
     "name": "stdout",
     "output_type": "stream",
     "text": [
      "[[[ 1  2]\n",
      "  [ 3  4]\n",
      "  [ 5  6]]\n",
      "\n",
      " [[ 7  8]\n",
      "  [ 9 10]\n",
      "  [11 12]]]\n"
     ]
    }
   ],
   "source": [
    "#Reshaping 1-D array with 12 elements into a 3-D array.\n",
    "\n",
    "#The outermost dimension will have 2 arrays that contains 3 arrays, each with 2 elements:\n",
    "\n",
    "\n",
    "arr = np.array([1, 2, 3, 4, 5, 6, 7, 8, 9, 10, 11, 12])\n",
    "\n",
    "newarr = arr.reshape(2, 3, 2)\n",
    "\n",
    "print(newarr)\n"
   ]
  },
  {
   "cell_type": "code",
   "execution_count": 24,
   "id": "640dcab6",
   "metadata": {},
   "outputs": [
    {
     "data": {
      "text/plain": [
       "array([1, 2, 3, 4, 6, 7, 8, 9])"
      ]
     },
     "execution_count": 24,
     "metadata": {},
     "output_type": "execute_result"
    }
   ],
   "source": [
    "# Can we reshape higher dimension to lower dimension\"\n",
    "\n",
    "arr = np.array([[1,2,3,4],[6,7,8,9]]) \n",
    "arr.reshape(8) #2d to 1d array"
   ]
  },
  {
   "cell_type": "code",
   "execution_count": 19,
   "id": "cfdae0c7",
   "metadata": {},
   "outputs": [
    {
     "data": {
      "text/plain": [
       "array([[list([1, 2, 3]), list([4, 5])],\n",
       "       [list([1, 2, 8]), list([3, 4, 9, 10])]], dtype=object)"
      ]
     },
     "execution_count": 19,
     "metadata": {},
     "output_type": "execute_result"
    }
   ],
   "source": [
    "arr = np.array([[[1,2,3],[4,5]],[[1,2,8],[3,4,9,10]]],dtype=object) # when you want to give diffent no. of items\n",
    "                                                                    # in each array declare dtype= object \n",
    "arr"
   ]
  },
  {
   "cell_type": "code",
   "execution_count": 22,
   "id": "ffda6943",
   "metadata": {},
   "outputs": [
    {
     "name": "stdout",
     "output_type": "stream",
     "text": [
      "[[ 1  2  3]\n",
      " [ 4  5  6]\n",
      " [ 7  8  9]\n",
      " [10 11 12]]\n"
     ]
    }
   ],
   "source": [
    "arr = np.array([1, 2, 3, 4, 5, 6, 7, 8,9,10,11,12])\n",
    "newarr = arr.reshape(4, 3)\n",
    "print(newarr)"
   ]
  },
  {
   "cell_type": "markdown",
   "id": "d913818c",
   "metadata": {},
   "source": [
    "### Flattening the arrays"
   ]
  },
  {
   "cell_type": "code",
   "execution_count": null,
   "id": "3a559f48",
   "metadata": {},
   "outputs": [],
   "source": [
    "1. Flattening array means converting a multidimensional array into a 1D array.\n",
    "\n",
    "reshape(-1)   : Method to use converting a multidimensional array into a 1D array."
   ]
  },
  {
   "cell_type": "code",
   "execution_count": 18,
   "id": "5d732df1",
   "metadata": {},
   "outputs": [
    {
     "name": "stdout",
     "output_type": "stream",
     "text": [
      "[1 2 3 4 5 6]\n"
     ]
    }
   ],
   "source": [
    "#Convert the 2D array into a 1D array:\n",
    "\n",
    "arr = np.array([[1, 2, 3], [4, 5, 6]])\n",
    "\n",
    "newarr = arr.reshape(-1)\n",
    "\n",
    "print(newarr)"
   ]
  },
  {
   "cell_type": "markdown",
   "id": "37a31a91",
   "metadata": {},
   "source": [
    "###   Array Iterating\n",
    "\n",
    "Iterating means going through elements one by one. We can use for loop to iterate through array elements."
   ]
  },
  {
   "cell_type": "code",
   "execution_count": 24,
   "id": "2916abe4",
   "metadata": {},
   "outputs": [
    {
     "name": "stdout",
     "output_type": "stream",
     "text": [
      "1\n",
      "2\n",
      "3\n"
     ]
    }
   ],
   "source": [
    "# iterating(1D)\n",
    "arr = np.array([1, 2, 3])\n",
    "\n",
    "for x in arr:\n",
    "    print(x)"
   ]
  },
  {
   "cell_type": "code",
   "execution_count": 28,
   "id": "80d65296",
   "metadata": {},
   "outputs": [
    {
     "name": "stdout",
     "output_type": "stream",
     "text": [
      "3\n",
      "6\n",
      "8\n",
      "9\n",
      "4\n"
     ]
    }
   ],
   "source": [
    "arr = np.array([3,6,8,9,4])\n",
    "for i in arr:\n",
    "    print(i)"
   ]
  },
  {
   "cell_type": "code",
   "execution_count": 25,
   "id": "9ed3f1c7",
   "metadata": {},
   "outputs": [
    {
     "name": "stdout",
     "output_type": "stream",
     "text": [
      "[1 2 3]\n",
      "[4 5 6]\n"
     ]
    }
   ],
   "source": [
    "# iterating 2-D\n",
    "arr = np.array([[1, 2, 3], [4, 5, 6]])\n",
    "\n",
    "for x in arr:\n",
    "    print(x)"
   ]
  },
  {
   "cell_type": "code",
   "execution_count": 26,
   "id": "2b93d80a",
   "metadata": {},
   "outputs": [
    {
     "name": "stdout",
     "output_type": "stream",
     "text": [
      "1\n",
      "2\n",
      "3\n",
      "4\n",
      "5\n",
      "6\n"
     ]
    }
   ],
   "source": [
    "arr = np.array([[1, 2, 3], [4, 5, 6]])\n",
    "\n",
    "for x in arr:\n",
    "    for y in x:\n",
    "        print(y)"
   ]
  },
  {
   "cell_type": "code",
   "execution_count": 29,
   "id": "ee048a94",
   "metadata": {},
   "outputs": [
    {
     "name": "stdout",
     "output_type": "stream",
     "text": [
      "[1 2 3]\n",
      "[4 5 6]\n"
     ]
    }
   ],
   "source": [
    "arr = np.array([[1,2,3],[4,5,6]])\n",
    "for i in arr:\n",
    "    print(i)"
   ]
  },
  {
   "cell_type": "code",
   "execution_count": 31,
   "id": "c3aec7f3",
   "metadata": {},
   "outputs": [
    {
     "name": "stdout",
     "output_type": "stream",
     "text": [
      "1\n",
      "2\n",
      "3\n",
      "4\n",
      "5\n",
      "6\n"
     ]
    }
   ],
   "source": [
    "arr = np.array([[1,2,3],[4,5,6]])\n",
    "for i in arr:\n",
    "    for j in i:\n",
    "        print(j)"
   ]
  },
  {
   "cell_type": "code",
   "execution_count": 27,
   "id": "6dfbf211",
   "metadata": {},
   "outputs": [
    {
     "name": "stdout",
     "output_type": "stream",
     "text": [
      "[[1 2 3]\n",
      " [4 5 6]]\n",
      "[[ 7  8  9]\n",
      " [10 11 12]]\n"
     ]
    }
   ],
   "source": [
    "#iterating 3-d arrays\n",
    "arr = np.array([[[1, 2, 3], [4, 5, 6]], [[7, 8, 9], [10, 11, 12]]])\n",
    "for x in arr:\n",
    "    print(x)"
   ]
  },
  {
   "cell_type": "code",
   "execution_count": 28,
   "id": "4b36c330",
   "metadata": {},
   "outputs": [
    {
     "name": "stdout",
     "output_type": "stream",
     "text": [
      "1\n",
      "2\n",
      "3\n",
      "4\n",
      "5\n",
      "6\n",
      "7\n",
      "8\n",
      "9\n",
      "10\n",
      "11\n",
      "12\n"
     ]
    }
   ],
   "source": [
    "arr = np.array([[[1, 2, 3], [4, 5, 6]], [[7, 8, 9], [10, 11, 12]]])\n",
    "\n",
    "for x in arr:\n",
    "    for y in x:\n",
    "        for z in y:\n",
    "            print(z)"
   ]
  },
  {
   "cell_type": "code",
   "execution_count": 35,
   "id": "2ef32243",
   "metadata": {},
   "outputs": [
    {
     "name": "stdout",
     "output_type": "stream",
     "text": [
      "\n",
      " [[1 2]\n",
      " [3 4]]\n",
      "\n",
      " [[5 6]\n",
      " [7 8]]\n"
     ]
    }
   ],
   "source": [
    "arr = np.array([[[1,2],[3,4]],[[5,6],[7,8]]])\n",
    "for i in arr:\n",
    "    print(\"\\n\",i)"
   ]
  },
  {
   "cell_type": "code",
   "execution_count": 37,
   "id": "6e7d6ec0",
   "metadata": {},
   "outputs": [
    {
     "name": "stdout",
     "output_type": "stream",
     "text": [
      "\n",
      " [1 2]\n",
      "\n",
      " [3 4]\n",
      "\n",
      " [5 6]\n",
      "\n",
      " [7 8]\n"
     ]
    }
   ],
   "source": [
    "arr = np.array([[[1,2],[3,4]],[[5,6],[7,8]]])\n",
    "for i in arr:\n",
    "    for j in i:    \n",
    "        print(\"\\n\",j)"
   ]
  },
  {
   "cell_type": "code",
   "execution_count": 39,
   "id": "9e707603",
   "metadata": {},
   "outputs": [
    {
     "name": "stdout",
     "output_type": "stream",
     "text": [
      "\n",
      " 1\n",
      "\n",
      " 2\n",
      "\n",
      " 3\n",
      "\n",
      " 4\n",
      "\n",
      " 5\n",
      "\n",
      " 6\n",
      "\n",
      " 7\n",
      "\n",
      " 8\n"
     ]
    }
   ],
   "source": [
    "arr = np.array([[[1,2],[3,4]],[[5,6],[7,8]]])\n",
    "for i in arr:\n",
    "    for j in i: \n",
    "        for k in j:\n",
    "            print(\"\\n\",k)"
   ]
  },
  {
   "cell_type": "markdown",
   "id": "7a196e80",
   "metadata": {},
   "source": [
    "###### nditer() - Effectively iterate over multidimensional array elements."
   ]
  },
  {
   "cell_type": "code",
   "execution_count": 29,
   "id": "59691720",
   "metadata": {},
   "outputs": [
    {
     "name": "stdout",
     "output_type": "stream",
     "text": [
      "1\n",
      "2\n",
      "3\n",
      "4\n",
      "5\n",
      "6\n",
      "7\n",
      "8\n"
     ]
    }
   ],
   "source": [
    "# iterating using nditer\n",
    "arr = np.array([[[1, 2], [3, 4]], [[5, 6], [7, 8]]])\n",
    "\n",
    "for x in np.nditer(arr):\n",
    "    print(x)"
   ]
  },
  {
   "cell_type": "code",
   "execution_count": 40,
   "id": "c40c4ce4",
   "metadata": {},
   "outputs": [
    {
     "name": "stdout",
     "output_type": "stream",
     "text": [
      "4\n",
      "7\n",
      "3\n",
      "8\n",
      "1\n",
      "9\n"
     ]
    }
   ],
   "source": [
    "arr = np.array([[4,7],[3,8],[1,9]])\n",
    "for i in np.nditer(arr):\n",
    "    print(i)"
   ]
  },
  {
   "cell_type": "markdown",
   "id": "1aec0b5a",
   "metadata": {},
   "source": [
    "### Joining NumPy Arrays"
   ]
  },
  {
   "cell_type": "code",
   "execution_count": null,
   "id": "d09a5162",
   "metadata": {},
   "outputs": [],
   "source": [
    "1. Joining means putting contents of two or more arrays in a single array.\n",
    "2. In SQL we join tables based on a key, whereas in NumPy we join arrays by axes\n",
    "3. Methods used in numpy to join arrays are:\n",
    "    \n",
    "    concatenate()  : We pass a sequence of arrays that we want to join to the concatenate() function, along with the axis. \n",
    "                     If axis is not explicitly passed, it is taken as 0.\n",
    "        \n",
    "    stack()        : Stacking is same as concatenation, the only difference is that stacking is done along a new axis.\n",
    "                     We pass a sequence of arrays that we want to join to the stack() method along with the axis.\n",
    "                     If axis is not explicitly passed it is taken as 0.We can concatenate two 1-D arrays along the \n",
    "                     second axis which would result in putting them one over the other, ie. stacking.\n",
    "            \n",
    "    vstack()       : Method to stack along columns.\n",
    "        \n",
    "    hstack()       : Method to stack along rows.\n",
    "    \n",
    "    dstack()       : Method to stacking Along Height (depth)."
   ]
  },
  {
   "cell_type": "markdown",
   "id": "69633724",
   "metadata": {},
   "source": [
    "### join arrays  using concatenate()"
   ]
  },
  {
   "cell_type": "code",
   "execution_count": 35,
   "id": "3b7b76d5",
   "metadata": {},
   "outputs": [
    {
     "name": "stdout",
     "output_type": "stream",
     "text": [
      "[1 2 3 4 5 6]\n"
     ]
    }
   ],
   "source": [
    "# joining 1D arrays\n",
    "\n",
    "arr1 = np.array([1, 2, 3])\n",
    "\n",
    "arr2 = np.array([4, 5, 6])\n",
    "\n",
    "arr = np.concatenate((arr1, arr2))\n",
    "\n",
    "print(arr)"
   ]
  },
  {
   "cell_type": "code",
   "execution_count": 79,
   "id": "921fadad",
   "metadata": {},
   "outputs": [
    {
     "name": "stdout",
     "output_type": "stream",
     "text": [
      "[[[1 2]\n",
      "  [3 4]]\n",
      "\n",
      " [[5 6]\n",
      "  [7 8]]]\n",
      "Shape: (2, 2, 2)\n",
      "Shape: (2, 2)\n"
     ]
    }
   ],
   "source": [
    "# Joining 2D arrays\n",
    "\n",
    "arr1 = np.array([[1,2],[3,4]])\n",
    "arr2 = np.array([[5,6],[7,8]])\n",
    "#arr = np.concatenate((arr1,arr2))\n",
    "#arr = np.hstack((arr1,arr2))\n",
    "#arr =np.vstack((arr1,arr2))\n",
    "arr =np.stack((arr1,arr2))\n",
    "#arr = np.dstack((arr1, arr2))\n",
    "print(arr)\n",
    "print(\"Shape:\", arr.shape)\n",
    "print(\"Shape:\", arr1.shape)\n"
   ]
  },
  {
   "cell_type": "code",
   "execution_count": 45,
   "id": "3e6d7013",
   "metadata": {},
   "outputs": [
    {
     "name": "stdout",
     "output_type": "stream",
     "text": [
      "[[1 2 5 6]\n",
      " [3 4 7 8]]\n"
     ]
    }
   ],
   "source": [
    "# joining rows 2d\n",
    "\n",
    "arr1 = np.array([[1, 2], [3, 4]])\n",
    "\n",
    "arr2 = np.array([[5, 6], [7, 8]])\n",
    "\n",
    "#arr  = np.concatenate((arr1, arr2),axis=0)\n",
    "arr  = np.concatenate((arr1, arr2),axis=1)\n",
    "print(arr)"
   ]
  },
  {
   "cell_type": "code",
   "execution_count": 43,
   "id": "ce777dce",
   "metadata": {},
   "outputs": [
    {
     "name": "stdout",
     "output_type": "stream",
     "text": [
      "[[[ 1  2  9 10]\n",
      "  [ 3  4 13 14]]\n",
      "\n",
      " [[ 5  6 15 16]\n",
      "  [ 7  8 17 18]]]\n"
     ]
    }
   ],
   "source": [
    "# joining rows 3d\n",
    "arr1 = np.array([[[1,2],[3,4]],[[5,6],[7,8]]])\n",
    "\n",
    "arr2 = np.array([[[9,10],[13,14]],[[15,16],[17,18]]])\n",
    "\n",
    "#arr  = np.concatenate((arr1, arr2),axis=0)\n",
    "#arr  = np.concatenate((arr1, arr2),axis=1)\n",
    "arr  = np.concatenate((arr1, arr2),axis=2)\n",
    "\n",
    "print(arr)"
   ]
  },
  {
   "cell_type": "markdown",
   "id": "c4a208cb",
   "metadata": {},
   "source": [
    "### Join arrays using Stack()"
   ]
  },
  {
   "cell_type": "code",
   "execution_count": 51,
   "id": "b5de4710",
   "metadata": {},
   "outputs": [
    {
     "name": "stdout",
     "output_type": "stream",
     "text": [
      "[[1 2 3]\n",
      " [4 5 6]]\n"
     ]
    }
   ],
   "source": [
    "#stacking\n",
    "\n",
    "arr1 = np.array([1, 2, 3])\n",
    "\n",
    "arr2 = np.array([4, 5, 6])\n",
    "\n",
    "arr = np.stack((arr1, arr2), axis=0)\n",
    "#arr = np.stack((arr1, arr2), axis=1)\n",
    "\n",
    "print(arr)"
   ]
  },
  {
   "cell_type": "markdown",
   "id": "31b39aef",
   "metadata": {},
   "source": [
    "### Join arrays using hstack()"
   ]
  },
  {
   "cell_type": "code",
   "execution_count": 48,
   "id": "d48f8da3",
   "metadata": {},
   "outputs": [
    {
     "name": "stdout",
     "output_type": "stream",
     "text": [
      "[1 2 3 4 5 6]\n"
     ]
    }
   ],
   "source": [
    "#Horizontal Stacking, stacks one beside other\n",
    "\n",
    "arr1 = np.array([1, 2, 3])\n",
    "arr2 = np.array([4, 5, 6])\n",
    "\n",
    "arr = np.hstack((arr1, arr2))\n",
    "print(arr)"
   ]
  },
  {
   "cell_type": "markdown",
   "id": "aefceb3e",
   "metadata": {},
   "source": [
    "###  Join arrays using vstack()"
   ]
  },
  {
   "cell_type": "code",
   "execution_count": 72,
   "id": "648f2d45",
   "metadata": {},
   "outputs": [
    {
     "data": {
      "text/plain": [
       "array([[1, 2, 3],\n",
       "       [4, 5, 6]])"
      ]
     },
     "execution_count": 72,
     "metadata": {},
     "output_type": "execute_result"
    }
   ],
   "source": [
    "#Vertical Stacking stacks one above other\n",
    "\n",
    "arr1 = np.array([1, 2, 3])\n",
    "arr2 = np.array([4, 5, 6])\n",
    "\n",
    "arr = np.vstack((arr1, arr2))\n",
    "#arr = np.concatenate((arr1,arr2))\n",
    "#arr = np.hstack((arr1,arr2))\n",
    "arr"
   ]
  },
  {
   "cell_type": "markdown",
   "id": "52ae405a",
   "metadata": {},
   "source": [
    "###  Join arrays using dstack()"
   ]
  },
  {
   "cell_type": "code",
   "execution_count": 35,
   "id": "69aeabe6",
   "metadata": {},
   "outputs": [
    {
     "data": {
      "text/plain": [
       "array([[[1, 4],\n",
       "        [2, 5],\n",
       "        [3, 6]]])"
      ]
     },
     "execution_count": 35,
     "metadata": {},
     "output_type": "execute_result"
    }
   ],
   "source": [
    "#stacking along depth\n",
    "\n",
    "arr1 = np.array([1, 2, 3])\n",
    "arr2 = np.array([4, 5, 6])\n",
    "\n",
    "arr = np.dstack((arr1, arr2))\n",
    "arr"
   ]
  },
  {
   "cell_type": "markdown",
   "id": "5c4a6502",
   "metadata": {},
   "source": [
    "### Exercise "
   ]
  },
  {
   "cell_type": "code",
   "execution_count": 58,
   "id": "f37cdc54",
   "metadata": {},
   "outputs": [
    {
     "data": {
      "text/plain": [
       "array([1, 2, 3, 4, 5, 6])"
      ]
     },
     "execution_count": 58,
     "metadata": {},
     "output_type": "execute_result"
    }
   ],
   "source": [
    "# Use a correct NumPy method to join two arrays into a single array.\n",
    "\n",
    "arr1 = np.array([1, 2, 3])\n",
    "\n",
    "arr2 = np.array([4, 5, 6])\n",
    "\n",
    "arr = np.concatenate((arr1, arr2))\n",
    "arr"
   ]
  },
  {
   "cell_type": "markdown",
   "id": "21808aba",
   "metadata": {},
   "source": [
    "### Splitting NumPy Arrays"
   ]
  },
  {
   "cell_type": "code",
   "execution_count": null,
   "id": "f414741d",
   "metadata": {},
   "outputs": [],
   "source": [
    "1. Splitting is reverse operation of Joining.\n",
    "2. Joining merges multiple arrays into one and Splitting breaks one array into multiple.\n",
    "3. Methods used in numpy to join arrays are:\n",
    "    \n",
    "    array_split()   : We can use array_split() for splitting arrays, we pass it the array we want to split and \n",
    "                      the number of splits. The return value of the array_split() method is an array containing \n",
    "                      each of the split as an array.\n",
    "    \n",
    "    hsplit()        : Method used to split the array along horizontal axis (rows).\n",
    "    \n",
    "    vsplit()        : Method used to split the array along vertical axis (columns)."
   ]
  },
  {
   "cell_type": "markdown",
   "id": "15c912a0",
   "metadata": {},
   "source": [
    "### Split array using  arraysplit()"
   ]
  },
  {
   "cell_type": "code",
   "execution_count": 59,
   "id": "10646e35",
   "metadata": {},
   "outputs": [
    {
     "name": "stdout",
     "output_type": "stream",
     "text": [
      "[array([1, 2]), array([3, 4]), array([5, 6])]\n"
     ]
    }
   ],
   "source": [
    "# split arrays using arraysplit() method\n",
    "\n",
    "arr = np.array([1, 2, 3, 4, 5, 6])\n",
    "  \n",
    "# splits in 3 parts\n",
    "newarr = np.array_split(arr, 3)\n",
    "\n",
    "print(newarr)"
   ]
  },
  {
   "cell_type": "code",
   "execution_count": 52,
   "id": "f5f67fc1",
   "metadata": {},
   "outputs": [
    {
     "name": "stdout",
     "output_type": "stream",
     "text": [
      "[array([1, 2]), array([3]), array([4]), array([5]), array([6])]\n"
     ]
    }
   ],
   "source": [
    "arr = np.array([1, 2, 3, 4, 5, 6])\n",
    "\n",
    "# splits in 4 parts\n",
    "\n",
    "newarr = np.array_split(arr,5)\n",
    "print(newarr)"
   ]
  },
  {
   "cell_type": "code",
   "execution_count": 57,
   "id": "1460bc9a",
   "metadata": {},
   "outputs": [
    {
     "name": "stdout",
     "output_type": "stream",
     "text": [
      "[array([[1, 2, 3, 4, 5, 6]]), array([[ 7,  8,  9, 10, 11, 12]])]\n"
     ]
    }
   ],
   "source": [
    "# Splitting 2-dimensional array into two 2D array.\n",
    "\n",
    "a = np.array([[1,2,3,4,5,6],[7,8,9,10,11,12]])\n",
    "newarr = np.array_split(a,2)\n",
    "\n",
    "print(newarr)\n"
   ]
  },
  {
   "cell_type": "markdown",
   "id": "80274f76",
   "metadata": {},
   "source": [
    "###  Split array using  hsplit()"
   ]
  },
  {
   "cell_type": "code",
   "execution_count": 39,
   "id": "75b9b707",
   "metadata": {},
   "outputs": [
    {
     "name": "stdout",
     "output_type": "stream",
     "text": [
      "Splitting along horizontal axis into 2 parts:\n",
      " [array([[1, 2, 3],\n",
      "       [7, 8, 9]]), array([[ 4,  5,  6],\n",
      "       [10, 11, 12]])]\n"
     ]
    }
   ],
   "source": [
    "# horizontal splitting\n",
    "\n",
    "a = np.array([[1,2,3,4,5,6],[7,8,9,10,11,12]])\n",
    "print(\"Splitting along horizontal axis into 2 parts:\\n\", np.hsplit(a, 2))"
   ]
  },
  {
   "cell_type": "markdown",
   "id": "ed39570f",
   "metadata": {},
   "source": [
    "###  Split array using  vsplit()"
   ]
  },
  {
   "cell_type": "code",
   "execution_count": 40,
   "id": "cf500883",
   "metadata": {},
   "outputs": [
    {
     "name": "stdout",
     "output_type": "stream",
     "text": [
      "Splitting along Vertical axis into 2 parts:\n",
      " [array([[1, 2, 3, 4, 5, 6]]), array([[ 7,  8,  9, 10, 11, 12]])]\n"
     ]
    }
   ],
   "source": [
    "#Vertical Split\n",
    "\n",
    "a = np.array([[1,2,3,4,5,6],[7,8,9,10,11,12]])\n",
    "print(\"Splitting along Vertical axis into 2 parts:\\n\", np.vsplit(a, 2))"
   ]
  },
  {
   "cell_type": "markdown",
   "id": "7e714965",
   "metadata": {},
   "source": [
    "### Searching Arrays"
   ]
  },
  {
   "cell_type": "code",
   "execution_count": null,
   "id": "e30a63e2",
   "metadata": {},
   "outputs": [],
   "source": [
    "where()  : Method to search  elements in the array.\n",
    "           Return array of index(s) of searched item."
   ]
  },
  {
   "cell_type": "code",
   "execution_count": 41,
   "id": "b598c330",
   "metadata": {},
   "outputs": [
    {
     "name": "stdout",
     "output_type": "stream",
     "text": [
      "(array([3, 5, 6], dtype=int64),)\n"
     ]
    }
   ],
   "source": [
    "# search using where() method\n",
    "\n",
    "arr = np.array([1, 2, 3, 4, 5, 4, 4])\n",
    "\n",
    "x = np.where(arr == 4)\n",
    "\n",
    "print(x) # Return the array of index position(s) of searched item"
   ]
  },
  {
   "cell_type": "code",
   "execution_count": 61,
   "id": "a7d4f394",
   "metadata": {},
   "outputs": [
    {
     "name": "stdout",
     "output_type": "stream",
     "text": [
      "(array([2, 6], dtype=int64),)\n"
     ]
    }
   ],
   "source": [
    "#Searching items that has more than one occurences.\n",
    "\n",
    "arr = np.array([1,4,8,3,1,5,8,4])\n",
    "x =np.where(arr==8)\n",
    "print (x)"
   ]
  },
  {
   "cell_type": "code",
   "execution_count": 64,
   "id": "265f7c31",
   "metadata": {},
   "outputs": [
    {
     "name": "stdout",
     "output_type": "stream",
     "text": [
      "(array([ 5,  8,  9, 10], dtype=int64),)\n"
     ]
    }
   ],
   "source": [
    "#Searching item 7\n",
    "\n",
    "arr = np.array([1,4,8,3,1,7,8,4,7,7,7])\n",
    "x =np.where(arr==7)\n",
    "print (x)"
   ]
  },
  {
   "cell_type": "code",
   "execution_count": 42,
   "id": "6c66ab45",
   "metadata": {},
   "outputs": [
    {
     "data": {
      "text/plain": [
       "(array([1, 3, 5, 6], dtype=int64),)"
      ]
     },
     "execution_count": 42,
     "metadata": {},
     "output_type": "execute_result"
    }
   ],
   "source": [
    "# search for even number\n",
    "\n",
    "x = np.where(arr%2 == 0)\n",
    "x"
   ]
  },
  {
   "cell_type": "code",
   "execution_count": 43,
   "id": "98e588c6",
   "metadata": {},
   "outputs": [
    {
     "data": {
      "text/plain": [
       "(array([0, 2, 4], dtype=int64),)"
      ]
     },
     "execution_count": 43,
     "metadata": {},
     "output_type": "execute_result"
    }
   ],
   "source": [
    "# search for odd number\n",
    "\n",
    "x = np.where(arr%2 == 1)\n",
    "x"
   ]
  },
  {
   "cell_type": "markdown",
   "id": "6cd7c2c9",
   "metadata": {},
   "source": [
    "### Sorting Arrays"
   ]
  },
  {
   "cell_type": "code",
   "execution_count": null,
   "id": "76aae3c9",
   "metadata": {},
   "outputs": [],
   "source": [
    "sort() :  Method to sort the array elements."
   ]
  },
  {
   "cell_type": "code",
   "execution_count": 66,
   "id": "a2ff6fe1",
   "metadata": {},
   "outputs": [
    {
     "name": "stdout",
     "output_type": "stream",
     "text": [
      "[-8 -1  0  1  2  3 10]\n"
     ]
    }
   ],
   "source": [
    "# sort the array elements\n",
    "\n",
    "arr = np.array([3, 2, 0, 1,-1, 10,-8])\n",
    "sarr =np.sort(arr)\n",
    "print(sarr)"
   ]
  },
  {
   "cell_type": "code",
   "execution_count": 68,
   "id": "e7494ad6",
   "metadata": {},
   "outputs": [
    {
     "data": {
      "text/plain": [
       "array([[ 8, 41, 50],\n",
       "       [31, 50, 77],\n",
       "       [12, 23, 90]])"
      ]
     },
     "execution_count": 68,
     "metadata": {},
     "output_type": "execute_result"
    }
   ],
   "source": [
    "# Sorting of 2D array\n",
    "\n",
    "arr = np.array([[41,50,8],[31,77,50],[23,90,12]])\n",
    "sarr = np.sort(arr)\n",
    "sarr"
   ]
  },
  {
   "cell_type": "code",
   "execution_count": 69,
   "id": "84430d26",
   "metadata": {},
   "outputs": [
    {
     "name": "stdout",
     "output_type": "stream",
     "text": [
      "['Apple' 'Banana' 'Cherry']\n"
     ]
    }
   ],
   "source": [
    "# sorts alphabetically whrn you get an string of arrays as input.\n",
    "\n",
    "arr = np.array(['Banana', 'Cherry', 'Apple'])\n",
    "\n",
    "print(np.sort(arr))"
   ]
  },
  {
   "cell_type": "markdown",
   "id": "bb48040c",
   "metadata": {},
   "source": [
    "# End"
   ]
  }
 ],
 "metadata": {
  "kernelspec": {
   "display_name": "Python 3 (ipykernel)",
   "language": "python",
   "name": "python3"
  },
  "language_info": {
   "codemirror_mode": {
    "name": "ipython",
    "version": 3
   },
   "file_extension": ".py",
   "mimetype": "text/x-python",
   "name": "python",
   "nbconvert_exporter": "python",
   "pygments_lexer": "ipython3",
   "version": "3.10.9"
  }
 },
 "nbformat": 4,
 "nbformat_minor": 5
}
