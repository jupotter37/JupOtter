{
 "cells": [
  {
   "cell_type": "markdown",
   "id": "324bb845",
   "metadata": {},
   "source": [
    "### Large Col sum"
   ]
  },
  {
   "cell_type": "code",
   "execution_count": 4,
   "id": "45513b15",
   "metadata": {},
   "outputs": [
    {
     "name": "stdout",
     "output_type": "stream",
     "text": [
      "21 3\n"
     ]
    }
   ],
   "source": [
    "def large_col_sum(li):\n",
    "    n = len(li)\n",
    "    m = len(li[0])\n",
    "    max_sum = -1\n",
    "    max_col_index = -1\n",
    "    for j in range(m):\n",
    "        sum = 0\n",
    "        for i in range(n):\n",
    "            sum  = sum + li[i][j]\n",
    "        if sum > max_sum:\n",
    "            max_col_index = j\n",
    "            max_sum = sum\n",
    "    return  max_sum, max_col_index      \n",
    "            \n",
    "            \n",
    "\n",
    "li = [[1,2,3,4],[8,7,6,5],[9,10,11,12]]\n",
    "larg_sum,larg_col_index = large_col_sum(li)\n",
    "print(larg_sum,larg_col_index)"
   ]
  },
  {
   "cell_type": "code",
   "execution_count": 5,
   "id": "d03662ed",
   "metadata": {},
   "outputs": [
    {
     "name": "stdout",
     "output_type": "stream",
     "text": [
      "21 3\n"
     ]
    }
   ],
   "source": [
    "#2nd method\n",
    "def large_col_sum(li):\n",
    "    n = len(li)\n",
    "    m = len(li[0])\n",
    "    max_sum = -1\n",
    "    max_col_index = -1\n",
    "    for j in range(m):\n",
    "        sum = 0\n",
    "        for ele in li:\n",
    "            sum  = sum + ele[j]\n",
    "        if sum > max_sum:\n",
    "            max_col_index = j\n",
    "            max_sum = sum\n",
    "    return  max_sum, max_col_index      \n",
    "            \n",
    "            \n",
    "\n",
    "li = [[1,2,3,4],[8,7,6,5],[9,10,11,12]]\n",
    "larg_sum,larg_col_index = large_col_sum(li)\n",
    "print(larg_sum,larg_col_index)"
   ]
  },
  {
   "cell_type": "markdown",
   "id": "6fe46c1b",
   "metadata": {},
   "source": [
    "### Large Row sum"
   ]
  },
  {
   "cell_type": "code",
   "execution_count": 3,
   "id": "e54dd544",
   "metadata": {},
   "outputs": [
    {
     "name": "stdout",
     "output_type": "stream",
     "text": [
      "(3, 24)\n"
     ]
    }
   ],
   "source": [
    "def large_row_sum(li):\n",
    "    n = len(li)\n",
    "    m = len(li[0])\n",
    "    max_sum = -1\n",
    "    max_row_index = -1\n",
    "    for i in range(n):\n",
    "        sum = 0 \n",
    "        for j in range(m):\n",
    "            sum += li[i][j]\n",
    "            if sum > max_sum:\n",
    "                max_row_index = i\n",
    "                max_sum = sum\n",
    "    return max_row_index, max_sum             \n",
    "\n",
    "\n",
    "li = [[1,2,5],[3,4,6],[5,6,8],[7,8,9]]\n",
    "ans = large_row_sum(li)\n",
    "print(ans)"
   ]
  },
  {
   "cell_type": "markdown",
   "id": "d438d79d",
   "metadata": {},
   "source": [
    "### Row wise Sum"
   ]
  },
  {
   "cell_type": "code",
   "execution_count": 8,
   "id": "9bb10769",
   "metadata": {},
   "outputs": [],
   "source": [
    "def rowWiseSum(mat):\n",
    "    n = len(mat)\n",
    "    m = len(mat[0])\n",
    "    for i in range(n):\n",
    "        sum = 0\n",
    "        for j in range(m):\n",
    "            sum = sum + mat[i][j]\n",
    "            \n",
    "        print(sum, end=' ')"
   ]
  },
  {
   "cell_type": "code",
   "execution_count": 9,
   "id": "eb78521f",
   "metadata": {},
   "outputs": [
    {
     "name": "stdout",
     "output_type": "stream",
     "text": [
      "3 7 11 15 None\n"
     ]
    }
   ],
   "source": [
    "mat = [[1,2],[3,4],[5,6],[7,8]]\n",
    "ans = rowWiseSum(mat)\n",
    "print(ans)"
   ]
  },
  {
   "cell_type": "markdown",
   "id": "7674abd9",
   "metadata": {},
   "source": [
    "### ColWise sum"
   ]
  },
  {
   "cell_type": "code",
   "execution_count": 1,
   "id": "1ece758c",
   "metadata": {},
   "outputs": [],
   "source": [
    "def colWiseSum(mat):\n",
    "    n = len(mat)\n",
    "    m = len(mat[0])\n",
    "    for j in range(m):\n",
    "        sum = 0\n",
    "        for i in range(n):\n",
    "            sum += mat[i][j]\n",
    "        print(sum , end=' ')    \n",
    "        "
   ]
  },
  {
   "cell_type": "code",
   "execution_count": 2,
   "id": "a84adec9",
   "metadata": {},
   "outputs": [
    {
     "name": "stdout",
     "output_type": "stream",
     "text": [
      "16 20 "
     ]
    }
   ],
   "source": [
    "colWiseSum([[1,2],[3,4],[5,6],[7,8]])"
   ]
  },
  {
   "cell_type": "markdown",
   "id": "7ccb9f08",
   "metadata": {},
   "source": [
    "### Largest Row or Column"
   ]
  },
  {
   "cell_type": "code",
   "execution_count": 1,
   "id": "39ee5f63",
   "metadata": {},
   "outputs": [],
   "source": [
    "def findLargest(arr):\n",
    "    sum = 0\n",
    "    n = len(arr)\n",
    "    m = len(arr[0])\n",
    "    rowORcol = ''\n",
    "    max=0\n",
    "    index=0\n",
    "    if n==0 or m ==0:\n",
    "        print(\"row\",0,-2147483648)\n",
    "    else:\n",
    "        for i in range(0,n):\n",
    "            sum = 0\n",
    "            for j in range(0,m):\n",
    "                sum = sum + arr[i][j]\n",
    "            if sum>max:\n",
    "                index = i\n",
    "                max = sum\n",
    "                rowORcol='row'\n",
    "        for i in range(0,n):\n",
    "            sum  = 0\n",
    "            for j in range(0,m):\n",
    "                sum  = sum + arr[i][j]\n",
    "            if sum > max:\n",
    "                index = j\n",
    "                max = sum\n",
    "                rowORcol='col'\n",
    "        print(rowORcol,index,max)"
   ]
  },
  {
   "cell_type": "code",
   "execution_count": 2,
   "id": "1b6315e8",
   "metadata": {},
   "outputs": [
    {
     "name": "stdout",
     "output_type": "stream",
     "text": [
      "row 0 2\n"
     ]
    }
   ],
   "source": [
    "findLargest([[1,1],[1,1]])"
   ]
  },
  {
   "cell_type": "markdown",
   "id": "9a7a8d7e",
   "metadata": {},
   "source": [
    "### second method....little change"
   ]
  },
  {
   "cell_type": "code",
   "execution_count": 1,
   "id": "c3523920",
   "metadata": {},
   "outputs": [
    {
     "name": "stdout",
     "output_type": "stream",
     "text": [
      "row 0 2\n"
     ]
    }
   ],
   "source": [
    "def findLargest(arr):\n",
    "    sum = 0\n",
    "    n = len(arr)\n",
    "    m = len(arr[0])\n",
    "    rowORcol = ''\n",
    "    max=0\n",
    "    index=0\n",
    "    if n==0 or m ==0:\n",
    "        print(\"row\",0,-2147483648)\n",
    "    else:\n",
    "        for i in range(0,n):\n",
    "            sum = 0\n",
    "            for j in range(0,m):\n",
    "                sum = sum + arr[i][j]\n",
    "            if sum>max:\n",
    "                index = i\n",
    "                max = sum\n",
    "                rowORcol='row'\n",
    "        for j in range(0,m):\n",
    "            sum  = 0\n",
    "            for i in range(0,n):\n",
    "                sum  = sum + arr[i][j]\n",
    "            if sum > max:\n",
    "                index = j\n",
    "                max = sum\n",
    "                rowORcol='col'\n",
    "        print(rowORcol,index,max)\n",
    "findLargest([[1,1],[1,1]])        "
   ]
  },
  {
   "cell_type": "markdown",
   "id": "859e7950",
   "metadata": {},
   "source": [
    "### Wave print"
   ]
  },
  {
   "cell_type": "code",
   "execution_count": 17,
   "id": "61f22992",
   "metadata": {},
   "outputs": [],
   "source": [
    "def  wavePrint(mat):\n",
    "    n = len(mat)\n",
    "    m = len(mat[0])\n",
    "    for j in range(m):\n",
    "        if j%2==0:\n",
    "            for i in range(n):\n",
    "                print(mat[i][j],end=' ')\n",
    "        else:\n",
    "            for i in range(n-1,-1,-1):\n",
    "                print(mat[i][j],end=' ')"
   ]
  },
  {
   "cell_type": "code",
   "execution_count": 18,
   "id": "21dc2e00",
   "metadata": {},
   "outputs": [
    {
     "name": "stdout",
     "output_type": "stream",
     "text": [
      "1 5 9 10 6 2 3 7 11 12 8 4 "
     ]
    }
   ],
   "source": [
    "mat = [[1,2,3,4],[5,6,7,8],[9,10,11,12]]\n",
    "wavePrint(mat)\n"
   ]
  },
  {
   "cell_type": "markdown",
   "id": "acf3b715",
   "metadata": {},
   "source": [
    "### spiralPrint"
   ]
  },
  {
   "cell_type": "code",
   "execution_count": 4,
   "id": "e606f924",
   "metadata": {},
   "outputs": [
    {
     "ename": "ValueError",
     "evalue": "invalid literal for int() with base 10: ''",
     "output_type": "error",
     "traceback": [
      "\u001b[1;31m---------------------------------------------------------------------------\u001b[0m",
      "\u001b[1;31mValueError\u001b[0m                                Traceback (most recent call last)",
      "\u001b[1;32mC:\\Users\\PRIYAN~1\\AppData\\Local\\Temp/ipykernel_13604/3095336431.py\u001b[0m in \u001b[0;36m<module>\u001b[1;34m\u001b[0m\n\u001b[0;32m     80\u001b[0m \u001b[1;33m\u001b[0m\u001b[0m\n\u001b[0;32m     81\u001b[0m \u001b[1;31m#main\u001b[0m\u001b[1;33m\u001b[0m\u001b[1;33m\u001b[0m\u001b[0m\n\u001b[1;32m---> 82\u001b[1;33m \u001b[0mt\u001b[0m \u001b[1;33m=\u001b[0m \u001b[0mint\u001b[0m\u001b[1;33m(\u001b[0m\u001b[0mstdin\u001b[0m\u001b[1;33m.\u001b[0m\u001b[0mreadline\u001b[0m\u001b[1;33m(\u001b[0m\u001b[1;33m)\u001b[0m\u001b[1;33m.\u001b[0m\u001b[0mrstrip\u001b[0m\u001b[1;33m(\u001b[0m\u001b[1;33m)\u001b[0m\u001b[1;33m)\u001b[0m\u001b[1;33m\u001b[0m\u001b[1;33m\u001b[0m\u001b[0m\n\u001b[0m\u001b[0;32m     83\u001b[0m \u001b[1;33m\u001b[0m\u001b[0m\n\u001b[0;32m     84\u001b[0m \u001b[1;32mwhile\u001b[0m \u001b[0mt\u001b[0m \u001b[1;33m>\u001b[0m \u001b[1;36m0\u001b[0m \u001b[1;33m:\u001b[0m\u001b[1;33m\u001b[0m\u001b[1;33m\u001b[0m\u001b[0m\n",
      "\u001b[1;31mValueError\u001b[0m: invalid literal for int() with base 10: ''"
     ]
    }
   ],
   "source": [
    "from sys import stdin\n",
    "\n",
    "def spiralPrint(mat, nRows, mCols):\n",
    "    #Your code goes here\n",
    "    if nRows == 0:\n",
    "        return \n",
    "    \n",
    "    rowStart, colStart = 0, 0\n",
    "    \n",
    "    numElements = nRows * mCols\n",
    "    count = 0\n",
    "    \n",
    "    while count < numElements:\n",
    "        i = colStart\n",
    "        \n",
    "        while i < mCols and count < numElements:\n",
    "            print(mat[rowStart][i],end=' ')\n",
    "            count += 1\n",
    "            i += 1\n",
    "            \n",
    "        rowStart += 1\n",
    "        \n",
    "        i = rowStart\n",
    "        while i < nRows and count < numElements:\n",
    "            print(mat[i][mCols - 1],end=' ')\n",
    "            count += 1\n",
    "            i += 1\n",
    "            \n",
    "        mCols -= 1\n",
    "        \n",
    "        i = mCols - 1\n",
    "        while i >= colStart and count < numElements:\n",
    "            print(mat[nRows - 1][i],end=' ')\n",
    "            count += 1\n",
    "            i -= 1\n",
    "        nRows -= 1\n",
    "        \n",
    "        i = nRows - 1\n",
    "        while i >= rowStart and count < numElements:\n",
    "            print(mat[i][colStart],end=' ')\n",
    "            count += 1\n",
    "            i -= 1\n",
    "        colStart += 1\n",
    "\n",
    "\n",
    "\n",
    "\n",
    "\n",
    "\n",
    "\n",
    "\n",
    "\n",
    "\n",
    "\n",
    "\n",
    "\n",
    "\n",
    "\n",
    "\n",
    "\n",
    "\n",
    "\n",
    "\n",
    "\n",
    "\n",
    "\n",
    "\n",
    "#Taking Input Using Fast I/O\n",
    "def take2DInput() :\n",
    "    li = stdin.readline().rstrip().split(\" \")\n",
    "    nRows = int(li[0])\n",
    "    mCols = int(li[1])\n",
    "    \n",
    "    if nRows == 0 :\n",
    "        return list(), 0, 0\n",
    "    \n",
    "    mat = [list(map(int, input().strip().split(\" \"))) for row in range(nRows)]\n",
    "    return mat, nRows, mCols\n",
    "\n",
    "\n",
    "#main\n",
    "t = int(stdin.readline().rstrip())\n",
    "\n",
    "while t > 0 :\n",
    "\n",
    "    mat, nRows, mCols = take2DInput()\n",
    "    spiralPrint(mat, nRows, mCols)\n",
    "    print()\n",
    "\n",
    "    t -= 1"
   ]
  },
  {
   "cell_type": "code",
   "execution_count": 1,
   "id": "ed4913d3",
   "metadata": {},
   "outputs": [
    {
     "ename": "NameError",
     "evalue": "name 'li' is not defined",
     "output_type": "error",
     "traceback": [
      "\u001b[1;31m---------------------------------------------------------------------------\u001b[0m",
      "\u001b[1;31mNameError\u001b[0m                                 Traceback (most recent call last)",
      "\u001b[1;32mC:\\Users\\PRIYAN~1\\AppData\\Local\\Temp/ipykernel_10944/3003724079.py\u001b[0m in \u001b[0;36m<module>\u001b[1;34m\u001b[0m\n\u001b[1;32m----> 1\u001b[1;33m \u001b[0mli\u001b[0m\u001b[1;33m\u001b[0m\u001b[1;33m\u001b[0m\u001b[0m\n\u001b[0m",
      "\u001b[1;31mNameError\u001b[0m: name 'li' is not defined"
     ]
    }
   ],
   "source": [
    "li"
   ]
  },
  {
   "cell_type": "code",
   "execution_count": 2,
   "id": "c46e9ee6",
   "metadata": {},
   "outputs": [],
   "source": [
    "li = [[1,2,3,4],[8,7,6,5],[9,10,11,12]]"
   ]
  },
  {
   "cell_type": "code",
   "execution_count": 3,
   "id": "a4cec339",
   "metadata": {},
   "outputs": [
    {
     "data": {
      "text/plain": [
       "[[1, 2, 3, 4], [8, 7, 6, 5], [9, 10, 11, 12]]"
      ]
     },
     "execution_count": 3,
     "metadata": {},
     "output_type": "execute_result"
    }
   ],
   "source": [
    "li"
   ]
  },
  {
   "cell_type": "code",
   "execution_count": 4,
   "id": "87606986",
   "metadata": {},
   "outputs": [
    {
     "data": {
      "text/plain": [
       "3"
      ]
     },
     "execution_count": 4,
     "metadata": {},
     "output_type": "execute_result"
    }
   ],
   "source": [
    "len(li)"
   ]
  },
  {
   "cell_type": "code",
   "execution_count": null,
   "id": "d446df4c",
   "metadata": {},
   "outputs": [],
   "source": []
  }
 ],
 "metadata": {
  "kernelspec": {
   "display_name": "Python 3 (ipykernel)",
   "language": "python",
   "name": "python3"
  },
  "language_info": {
   "codemirror_mode": {
    "name": "ipython",
    "version": 3
   },
   "file_extension": ".py",
   "mimetype": "text/x-python",
   "name": "python",
   "nbconvert_exporter": "python",
   "pygments_lexer": "ipython3",
   "version": "3.9.7"
  }
 },
 "nbformat": 4,
 "nbformat_minor": 5
}
