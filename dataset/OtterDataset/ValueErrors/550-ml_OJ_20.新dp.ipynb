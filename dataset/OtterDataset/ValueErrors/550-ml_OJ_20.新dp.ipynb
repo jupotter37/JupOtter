{
 "cells": [
  {
   "cell_type": "code",
   "execution_count": null,
   "metadata": {},
   "outputs": [],
   "source": [
    "# 01背包直接递推求解\n",
    "(n, V)  = map(int, input().split())\n",
    "dp = [[0]*(v+1) for _ in range(n+1)]\n",
    "bag_list = []\n",
    "for _ in range(n):\n",
    "    (v, w) = map(int, input().split())\n",
    "    bag_list.append((v, w))\n",
    "\n",
    "# 然后就是递推求解\n",
    "for i in range(n-1, -1, -1):\n",
    "    (v, w) = bag_list[i]\n",
    "    for j in range(V+1):\n",
    "        if j < v:\n",
    "            dp[i][j] = dp[i+1][j]\n",
    "        else:\n",
    "            dp[i][j] = max(dp[i+1][j], dp[i+1][j-v]+w)\n",
    "print(dp[0][v])"
   ]
  },
  {
   "cell_type": "code",
   "execution_count": null,
   "metadata": {},
   "outputs": [],
   "source": [
    "# 01背包\n",
    "(n,V) = map(int, input().split())\n",
    "ob_list = []\n",
    "\n",
    "\n",
    "for i in range(n):\n",
    "    ob_list.append(list(map(int, input().split())))\n",
    "\n",
    "\n",
    "# ans = dfs(0,V)\n",
    "f = [[0]*(V+1) for _ in range(n+1)]\n",
    "# 递推直接求解\n",
    "for i in range(n-1 ,-1 ,-1):\n",
    "    (v, w) = ob_list[i]\n",
    "    for j in range(V+1):\n",
    "        if(j < v):\n",
    "            f[i][j] = f[i+1][j]\n",
    "        else:\n",
    "            f[i][j] = max(f[i+1][j], f[i+1][j-v]+w)\n",
    "print(f[0][V])"
   ]
  },
  {
   "cell_type": "code",
   "execution_count": null,
   "metadata": {},
   "outputs": [],
   "source": [
    "# 完全背包\n",
    "(n,V) = map(int, input().split())\n",
    "ob_list = []\n",
    "\n",
    "\n",
    "for i in range(n):\n",
    "    ob_list.append(list(map(int, input().split())))\n",
    "\n",
    "\n",
    "# ans = dfs(0,V)\n",
    "f = [[0]*(V+1) for _ in range(n+1)]\n",
    "\n",
    "for i in range(n-1, -1, -1):\n",
    "    (v, w) = ob_list[i]\n",
    "    for j in range(V+1):\n",
    "        f[i][j] = f[i+1][j]\n",
    "        if j >= v:\n",
    "            f[i][j] = max(f[i][j], f[i][j-v]+w)\n",
    "print(f[0][V])"
   ]
  },
  {
   "cell_type": "code",
   "execution_count": null,
   "metadata": {},
   "outputs": [],
   "source": [
    "# 多重背包\n",
    "(n,V) = map(int, input().split())\n",
    "ob_list = []\n",
    "\n",
    "\n",
    "for i in range(n):\n",
    "    ob_list.append(list(map(int, input().split())))\n",
    "f = [[0]*(V+1) for _ in range(n+1)]\n",
    "\n",
    "for i in range(n-1, -1, -1):\n",
    "    (v, w, s) = ob_list[i]\n",
    "    for j in range(V+1):\n",
    "        f[i][j]  = f[i+1][j]\n",
    "        for k in range(1, s+1):\n",
    "            if j>=k*v:\n",
    "                f[i][j]= max(f[i][j], f[i+1][j-k*v]+k*w)\n",
    "print(f[0][V])"
   ]
  },
  {
   "cell_type": "code",
   "execution_count": 3,
   "metadata": {},
   "outputs": [
    {
     "name": "stdout",
     "output_type": "stream",
     "text": [
      "All Excel files have been merged into merged_output.xlsx\n"
     ]
    }
   ],
   "source": [
    "# excel\n",
    "import pandas as pd\n",
    "import os\n",
    "\n",
    "# 指定包含Excel文件的文件夹路径\n",
    "folder_path = 'E:\\\\System\\\\桌面\\\\金融文档爬虫'\n",
    "\n",
    "# 读取文件夹内的所有Excel文件\n",
    "excel_files = [f for f in os.listdir(folder_path) if f.endswith('.xlsx') or f.endswith('.xls')]\n",
    "\n",
    "# 创建一个空的DataFrame用于存储合并后的数据\n",
    "merged_data = pd.DataFrame()\n",
    "\n",
    "# 遍历所有文件\n",
    "for file in excel_files:\n",
    "    # 读取Excel文件，跳过第一行\n",
    "    df = pd.read_excel(os.path.join(folder_path, file))\n",
    "    \n",
    "    # 将读取的数据追加到merged_data中\n",
    "    merged_data = merged_data.append(df, ignore_index=True)\n",
    "\n",
    "# 保存合并后的数据到新的Excel文件\n",
    "output_file = 'merged_output.xlsx'\n",
    "merged_data.to_excel(output_file, index=False)\n",
    "\n",
    "print(f'All Excel files have been merged into {output_file}')"
   ]
  },
  {
   "cell_type": "code",
   "execution_count": 4,
   "metadata": {},
   "outputs": [
    {
     "name": "stderr",
     "output_type": "stream",
     "text": [
      "e:\\SoftWare\\Program\\Anaconda\\envs\\d2l\\lib\\site-packages\\IPython\\core\\interactiveshell.py:3135: DtypeWarning: Columns (0,1,2,4,5,6,8,9,10,12,13,14,16,17,19,20,22,23,25,26,28,29,31,32,34,35,36,38,39,40,42,43,45,46,47,48,50,51,53,54,55,57,58,59,61,62,63,65) have mixed types.Specify dtype option on import or set low_memory=False.\n",
      "  has_raised = await self.run_ast_nodes(code_ast.body, cell_name,\n"
     ]
    }
   ],
   "source": [
    "import pandas as pd\n",
    "import os\n",
    "\n",
    "# 指定包含CSV文件的文件夹路径\n",
    "folder_path = 'E:\\\\System\\\\桌面\\\\金融文档爬虫'\n",
    "\n",
    "# 读取文件夹内的所有CSV文件\n",
    "csv_files = [f for f in os.listdir(folder_path) if f.endswith('.csv')]\n",
    "\n",
    "# 创建一个空的DataFrame用于存储合并后的数据\n",
    "merged_data = pd.DataFrame()\n",
    "\n",
    "# 遍历所有文件\n",
    "for file in csv_files:\n",
    "    # 读取CSV文件，跳过第一行\n",
    "    df = pd.read_csv(os.path.join(folder_path, file), skiprows=1)\n",
    "    \n",
    "    # 将读取的数据追加到merged_data中\n",
    "    merged_data = pd.concat([merged_data, df])\n",
    "\n",
    "# 保存合并后的数据到新的CSV文件\n",
    "output_file = 'merged_output.xlsx'\n",
    "merged_data.to_excel(output_file, index=False)\n",
    "\n",
    "print(f'All CSV files have been merged into {output_file}')"
   ]
  },
  {
   "cell_type": "code",
   "execution_count": 2,
   "metadata": {},
   "outputs": [
    {
     "name": "stderr",
     "output_type": "stream",
     "text": [
      "e:\\SoftWare\\Program\\Anaconda\\envs\\d2l\\lib\\site-packages\\IPython\\core\\interactiveshell.py:3135: DtypeWarning: Columns (0,1,2,4,5,6,8,9,10,12,13,14,16,17,19,20,22,23,25,26,28,29,31,32,34,35,36,38,39,40,42,43,45,46,47,48,50,51,53,54,55,57,58,59,61,62,63,65) have mixed types.Specify dtype option on import or set low_memory=False.\n",
      "  has_raised = await self.run_ast_nodes(code_ast.body, cell_name,\n"
     ]
    },
    {
     "name": "stdout",
     "output_type": "stream",
     "text": [
      "All CSV files have been converted to Excel format.\n"
     ]
    }
   ],
   "source": [
    "import pandas as pd\n",
    "import os\n",
    "\n",
    "# 设置包含CSV文件的文件夹路径\n",
    "folder_path = 'E:\\\\System\\\\桌面\\\\金融文档爬虫'  # 替换为你的文件夹路径\n",
    "\n",
    "# 获取文件夹内所有CSV文件的列表\n",
    "csv_files = [f for f in os.listdir(folder_path) if f.endswith('.csv')]\n",
    "\n",
    "# 遍历所有CSV文件\n",
    "for file_name in csv_files:\n",
    "    # 构建CSV文件的完整路径\n",
    "    csv_file_path = os.path.join(folder_path, file_name)\n",
    "    \n",
    "    # 读取CSV文件\n",
    "    df = pd.read_csv(csv_file_path,skiprows=1)\n",
    "    \n",
    "    # 构建Excel文件的完整路径，使用相同的文件名但扩展名为.xlsx\n",
    "    excel_file_path = os.path.join(folder_path, file_name.replace('.csv', '.xlsx'))\n",
    "    \n",
    "    # 将DataFrame保存为Excel文件\n",
    "    df.to_excel(excel_file_path, index=False)\n",
    "\n",
    "print(f'All CSV files have been converted to Excel format.')"
   ]
  },
  {
   "cell_type": "code",
   "execution_count": 1,
   "metadata": {},
   "outputs": [
    {
     "ename": "ValueError",
     "evalue": "invalid literal for int() with base 10: ''",
     "output_type": "error",
     "traceback": [
      "\u001b[1;31m---------------------------------------------------------------------------\u001b[0m",
      "\u001b[1;31mValueError\u001b[0m                                Traceback (most recent call last)",
      "Input \u001b[1;32mIn [1]\u001b[0m, in \u001b[0;36m<cell line: 2>\u001b[1;34m()\u001b[0m\n\u001b[0;32m      1\u001b[0m \u001b[38;5;66;03m# 线性dp\u001b[39;00m\n\u001b[1;32m----> 2\u001b[0m N \u001b[38;5;241m=\u001b[39m \u001b[38;5;28;43mint\u001b[39;49m\u001b[43m(\u001b[49m\u001b[38;5;28;43minput\u001b[39;49m\u001b[43m(\u001b[49m\u001b[43m)\u001b[49m\u001b[43m)\u001b[49m\n\u001b[0;32m      3\u001b[0m f \u001b[38;5;241m=\u001b[39m [[\u001b[38;5;241m0\u001b[39m]\u001b[38;5;241m*\u001b[39m(N\u001b[38;5;241m+\u001b[39m\u001b[38;5;241m1\u001b[39m) \u001b[38;5;28;01mfor\u001b[39;00m _ \u001b[38;5;129;01min\u001b[39;00m \u001b[38;5;28mrange\u001b[39m(N\u001b[38;5;241m+\u001b[39m\u001b[38;5;241m1\u001b[39m)]\n\u001b[0;32m      5\u001b[0m \u001b[38;5;28;01mfor\u001b[39;00m i \u001b[38;5;129;01min\u001b[39;00m \u001b[38;5;28mrange\u001b[39m(N):\n",
      "\u001b[1;31mValueError\u001b[0m: invalid literal for int() with base 10: ''"
     ]
    }
   ],
   "source": [
    "# 线性dp\n",
    "N = int(input())\n",
    "f = [[0] * (N + 1) for _ in range(N + 1)]\n",
    "\n",
    "for i in range(N):\n",
    "    f[i] = list(map(int, input().split()))\n",
    "\n",
    "# 从底往上\n",
    "for i in range(N - 1, -1, -1):\n",
    "    for j in range(i + 1):\n",
    "        f[i][j] += max(f[i + 1][j], f[i + 1][j + 1])\n",
    "print(f[0][0])"
   ]
  },
  {
   "cell_type": "code",
   "execution_count": null,
   "metadata": {},
   "outputs": [],
   "source": [
    "n = int(input())\n",
    "num_list = list(map(int, input().split()))\n",
    "\n",
    "cache = [0]*(n+1)\n",
    "\n",
    "# 递归搜索\n",
    "def dfs(i):\n",
    "    if cache[i] != 0:\n",
    "        return cache[i]\n",
    "    if i==0:\n",
    "        return 1\n",
    "    res = 0\n",
    "    for j in range(i):\n",
    "        if num_list[j] < num_list[i]:\n",
    "            res = max(res, dfs(j))\n",
    "    cache[i] = res+1\n",
    "    return res+1\n",
    "\n",
    "ans = max(dfs(i) for i in range(n))"
   ]
  },
  {
   "cell_type": "code",
   "execution_count": null,
   "metadata": {},
   "outputs": [],
   "source": [
    "n = int(input())\n",
    "num_list = list(map(int, input().split()))\n",
    "\n",
    "f = [0] * (n + 1)\n",
    "# 直接递推，递归改成循环\n",
    "for i in range(n):\n",
    "    for j in range(i):\n",
    "        if num_list[j] < num_list[i]:\n",
    "            f[i] = max(f[i], f[j])\n",
    "    f[i] += 1\n",
    "\n",
    "print(max(f))"
   ]
  },
  {
   "cell_type": "code",
   "execution_count": 1,
   "metadata": {},
   "outputs": [
    {
     "ename": "TypeError",
     "evalue": "'>' not supported between instances of 'list' and 'int'",
     "output_type": "error",
     "traceback": [
      "\u001b[1;31m---------------------------------------------------------------------------\u001b[0m",
      "\u001b[1;31mTypeError\u001b[0m                                 Traceback (most recent call last)",
      "Input \u001b[1;32mIn [1]\u001b[0m, in \u001b[0;36m<cell line: 20>\u001b[1;34m()\u001b[0m\n\u001b[0;32m     19\u001b[0m ans \u001b[38;5;241m=\u001b[39m \u001b[38;5;241m0\u001b[39m\n\u001b[0;32m     20\u001b[0m \u001b[38;5;28;01mfor\u001b[39;00m i \u001b[38;5;129;01min\u001b[39;00m \u001b[38;5;28mrange\u001b[39m(n):\n\u001b[1;32m---> 21\u001b[0m     ans \u001b[38;5;241m=\u001b[39m \u001b[38;5;28;43mmax\u001b[39;49m\u001b[43m(\u001b[49m\u001b[43mans\u001b[49m\u001b[43m,\u001b[49m\u001b[43m \u001b[49m\u001b[43mdfs\u001b[49m\u001b[43m(\u001b[49m\u001b[43mi\u001b[49m\u001b[43m)\u001b[49m\u001b[43m)\u001b[49m\n\u001b[0;32m     22\u001b[0m \u001b[38;5;28mprint\u001b[39m(ans)\n",
      "\u001b[1;31mTypeError\u001b[0m: '>' not supported between instances of 'list' and 'int'"
     ]
    }
   ],
   "source": [
    "# 线性dp,最长公共子序列\n",
    "n = int(input())\n",
    "num_list = list(map(int, input().split()))\n",
    "cache = [[0]*n]\n",
    "def dfs(i):\n",
    "    # ! 代表第i个数前面有多少上升数\n",
    "    # 终止条件\n",
    "    if cache[i] != 0:\n",
    "        return cache[i]\n",
    "    if i == 0:\n",
    "        return 1\n",
    "    res = 1\n",
    "    for j in range(i):\n",
    "        if num_list[j] < num_list[i]:\n",
    "            res = max(res, dfs(j) + 1)\n",
    "    cache[i] = res\n",
    "    return res\n",
    "\n",
    "ans = 0\n",
    "for i in range(n):\n",
    "    ans = max(ans, dfs(i))\n",
    "print(ans)"
   ]
  },
  {
   "cell_type": "code",
   "execution_count": null,
   "metadata": {},
   "outputs": [],
   "source": [
    "# 最长公共子序列\n",
    "n = int(input())\n",
    "# dfs(i) = max(dfs(j)+1)\n",
    "num_list = list(map(int, input().split()))\n",
    "f = [0]*(n+1)\n",
    "for i in range(n):\n",
    "    for j in range(i):\n",
    "        if num_list[j]< num_list[i]:\n",
    "            f[i] = max(f[i], f[j])\n",
    "    f[i]+=1\n",
    "print(max(f))"
   ]
  },
  {
   "cell_type": "code",
   "execution_count": 6,
   "metadata": {},
   "outputs": [
    {
     "ename": "TypeError",
     "evalue": "'function' object is not subscriptable",
     "output_type": "error",
     "traceback": [
      "\u001b[1;31m---------------------------------------------------------------------------\u001b[0m",
      "\u001b[1;31mTypeError\u001b[0m                                 Traceback (most recent call last)",
      "Cell \u001b[1;32mIn[6], line 39\u001b[0m\n\u001b[0;32m     29\u001b[0m     \u001b[38;5;28;01mreturn\u001b[39;00m  res\n\u001b[0;32m     30\u001b[0m     \u001b[38;5;66;03m# if i<0 or j<0:\u001b[39;00m\n\u001b[0;32m     31\u001b[0m     \u001b[38;5;66;03m#     return 0\u001b[39;00m\n\u001b[0;32m     32\u001b[0m     \u001b[38;5;66;03m# if s[i]==t[j]:\u001b[39;00m\n\u001b[1;32m   (...)\u001b[0m\n\u001b[0;32m     37\u001b[0m     \u001b[38;5;66;03m# cache[i][j-1] = dfs(i,j-1)\u001b[39;00m\n\u001b[0;32m     38\u001b[0m     \u001b[38;5;66;03m# return max(cache[i-1][j],cache[i][j-1])\u001b[39;00m\n\u001b[1;32m---> 39\u001b[0m \u001b[38;5;28mprint\u001b[39m(\u001b[43mdfs\u001b[49m\u001b[43m(\u001b[49m\u001b[43mn\u001b[49m\u001b[38;5;241;43m-\u001b[39;49m\u001b[38;5;241;43m1\u001b[39;49m\u001b[43m,\u001b[49m\u001b[43mm\u001b[49m\u001b[38;5;241;43m-\u001b[39;49m\u001b[38;5;241;43m1\u001b[39;49m\u001b[43m)\u001b[49m)\n\u001b[0;32m     41\u001b[0m \u001b[38;5;66;03m# for i in range(n):\u001b[39;00m\n\u001b[0;32m     42\u001b[0m \u001b[38;5;66;03m#     for j in range(m):\u001b[39;00m\n\u001b[0;32m     43\u001b[0m \u001b[38;5;66;03m#         f[i][j] = max(f[i-1][j],f[i][j-1],f[i-1][j-1])\u001b[39;00m\n",
      "Cell \u001b[1;32mIn[6], line 26\u001b[0m, in \u001b[0;36mdfs\u001b[1;34m(i, j)\u001b[0m\n\u001b[0;32m     24\u001b[0m \u001b[38;5;28;01mif\u001b[39;00m i\u001b[38;5;241m<\u001b[39m\u001b[38;5;241m0\u001b[39m \u001b[38;5;129;01mor\u001b[39;00m j\u001b[38;5;241m<\u001b[39m\u001b[38;5;241m0\u001b[39m:\n\u001b[0;32m     25\u001b[0m     \u001b[38;5;28;01mreturn\u001b[39;00m \u001b[38;5;241m0\u001b[39m\n\u001b[1;32m---> 26\u001b[0m res \u001b[38;5;241m=\u001b[39m \u001b[38;5;28mmax\u001b[39m(\u001b[43mdfs\u001b[49m\u001b[43m[\u001b[49m\u001b[43mi\u001b[49m\u001b[38;5;241;43m-\u001b[39;49m\u001b[38;5;241;43m1\u001b[39;49m\u001b[43m]\u001b[49m[j],dfs[i][j\u001b[38;5;241m-\u001b[39m\u001b[38;5;241m1\u001b[39m],dfs[i\u001b[38;5;241m-\u001b[39m\u001b[38;5;241m1\u001b[39m][j\u001b[38;5;241m-\u001b[39m\u001b[38;5;241m1\u001b[39m])\u001b[38;5;241m+\u001b[39m(s[i]\u001b[38;5;241m==\u001b[39mt[j])\n\u001b[0;32m     27\u001b[0m cache[i][j] \u001b[38;5;241m=\u001b[39m res\n\u001b[0;32m     29\u001b[0m \u001b[38;5;28;01mreturn\u001b[39;00m  res\n",
      "\u001b[1;31mTypeError\u001b[0m: 'function' object is not subscriptable"
     ]
    }
   ],
   "source": [
    "# 最长共子序列\n",
    "(n,m) = map(int,input().split())\n",
    "\n",
    "s = input().split()\n",
    "t = input().split()\n",
    "s = s[0]\n",
    "t = t[0]\n",
    "\n",
    "cache = [[0]*m for _ in range(n)]\n",
    "# def dfs(i,j):\n",
    "#     res = 0\n",
    "#     if i<0 or j<0:\n",
    "#         return 0\n",
    "#     if s[i]==t[j]:\n",
    "#         return dfs(i-1,j-1)+1\n",
    "\n",
    "#     return max(dfs(i-1,j),dfs(i,j-1))\n",
    "# print(dfs(n-1,m-1))\n",
    "\n",
    "def dfs(i,j):\n",
    "    if cache[i][j] != 0:\n",
    "        return cache[i][j]\n",
    "    res = 0\n",
    "    if i<0 or j<0:\n",
    "        return 0\n",
    "    res = max(dfs(i-1,j),dfs(i,j-1),dfs(i-1,j-1))\n",
    "    if s[i]==t[j]:\n",
    "        res+=1\n",
    "    cache[i][j] = res\n",
    "\n",
    "    return  res\n",
    "    # if i<0 or j<0:\n",
    "    #     return 0\n",
    "    # if s[i]==t[j]:\n",
    "    #     res = dfs(i-1,j-1)+1\n",
    "    #     cache[i][j] = res\n",
    "    #     return res\n",
    "    # cache[i-1][j] = dfs(i-1,j)\n",
    "    # cache[i][j-1] = dfs(i,j-1)\n",
    "    # return max(cache[i-1][j],cache[i][j-1])\n",
    "print(dfs(n-1,m-1))\n",
    "\n",
    "# for i in range(n):\n",
    "#     for j in range(m):\n",
    "#         f[i][j] = max(f[i-1][j],f[i][j-1],f[i-1][j-1])"
   ]
  },
  {
   "cell_type": "code",
   "execution_count": null,
   "metadata": {},
   "outputs": [],
   "source": [
    "# 最长共子序列\n",
    "(n,m) = map(int,input().split())\n",
    "\n",
    "s = input().split()\n",
    "t = input().split()\n",
    "s = s[0]\n",
    "t = t[0]\n",
    "\n",
    "cache = [[0]*(m+1) for _ in range(n+1)]\n",
    "\n",
    "for i, x in enumerate(s):\n",
    "    for j, y in enumerate(t):\n",
    "        cache[i+1][j+1] = cache[i][j]+1 if x==y else max(cache[i][j+1],cache[i+1][j])\n",
    "\n",
    "print(cache[n][m])"
   ]
  },
  {
   "cell_type": "code",
   "execution_count": null,
   "metadata": {},
   "outputs": [],
   "source": [
    "n = int(input())\n",
    "num_list = list(map(int,input().split()))\n",
    "f = [0]*(n+1)\n",
    "\n",
    "for i in range(n+1):\n",
    "    for j in range(i):\n",
    "        if num_list[j]< num_list[i]:\n",
    "            f[i] = max(f[i], f[j])\n",
    "        \n",
    "    f[i]+=1\n"
   ]
  },
  {
   "cell_type": "code",
   "execution_count": null,
   "metadata": {},
   "outputs": [],
   "source": [
    "# 最短编辑距离\n",
    "n = int(input())\n",
    "listA = input().split()\n",
    "A = listA[0]\n",
    "m = int(input())\n",
    "listB = input().split()\n",
    "B = listB[0]\n",
    "\n",
    "def dfs(i,j):\n",
    "    \n",
    "    if i<0 :\n",
    "        return j+1\n",
    "    if j<0:\n",
    "        return i+1\n",
    "    # 递归推导式\n",
    "    if A[i]==B[j]:\n",
    "        return dfs(i-1, j-1)\n",
    "    return min(dfs(i,j-1), dfs(i-1,j), dfs(i-1, j-1))+1\n",
    "print(dfs(n-1,m-1))"
   ]
  },
  {
   "cell_type": "code",
   "execution_count": null,
   "metadata": {},
   "outputs": [],
   "source": [
    "# 变成递推的形式\n",
    "n = int(input())\n",
    "listA = input().split()\n",
    "A = listA[0]\n",
    "m = int(input())\n",
    "listB = input().split()\n",
    "B= listB[0]\n",
    "\n",
    "f = [[0]*(m+1) for _ in range(n+1)]\n",
    "f[0] = list(range(m+1))\n",
    "for i, x in enumerate(A):\n",
    "    f[i+1][0] = i+1\n",
    "    for j, y in enumerate(B):\n",
    "        if x == y:\n",
    "            f[i+1][j+1] = f[i][j]\n",
    "        else:\n",
    "            f[i+1][j+1] = min(f[i][j+1], f[i+1][j], f[i][j])+1\n",
    "print(f[n][m])"
   ]
  },
  {
   "cell_type": "code",
   "execution_count": null,
   "metadata": {},
   "outputs": [],
   "source": [
    "# 状态机DP\n",
    "n = int(input())\n",
    "num_list = list(map(int, input().split()))\n",
    "\n",
    "f = [[0]*2 for _ in range(n+1)]\n",
    "f[0][1]= -10000\n",
    "\n",
    "for i, p in enumerate(num_list):\n",
    "    f[i+1][0] = max(f[i][0],f[i][1]+p)\n",
    "    f[i+1][1] = max(f[i][1], f[i][0]-p)\n",
    "\n",
    "print(f[n][0])\n",
    "def dfs(i, hold):\n",
    "    if i<0:\n",
    "        return -1000000 if hold==True else 0\n",
    "    if hold:\n",
    "        return max(dfs(i-1, 1), dfs(i-1, 0)-num_list[i])\n",
    "    else:\n",
    "        return max(dfs(i-1, 0), dfs(i-1,1)+num_list[i])\n",
    "\n",
    "print(dfs(n-1,0))\n",
    "    "
   ]
  },
  {
   "cell_type": "code",
   "execution_count": null,
   "metadata": {},
   "outputs": [],
   "source": [
    "# 至多完成k次\n",
    "n = int(input())\n",
    "num_list = list(map(int, input().split()))\n",
    "k = 2\n",
    "f = [[[-10000]*2 for _ in range(k+2)] for _ in range(n+1)]\n",
    "\n",
    "for j in range(1,k+2):\n",
    "    f[0][j][0] = 0\n",
    "for i, p in enumerate(num_list):\n",
    "    for j in range(k+2):\n",
    "        f[i+1][j][0] = max(f[i][j][0],f[i][j-1][1]+p)\n",
    "        f[i+1][j][1] = max(f[i][j][1], f[i][j][0]-p)\n",
    "print(f[n][k+1][0])"
   ]
  }
 ],
 "metadata": {
  "kernelspec": {
   "display_name": "d2l",
   "language": "python",
   "name": "python3"
  },
  "language_info": {
   "codemirror_mode": {
    "name": "ipython",
    "version": 3
   },
   "file_extension": ".py",
   "mimetype": "text/x-python",
   "name": "python",
   "nbconvert_exporter": "python",
   "pygments_lexer": "ipython3",
   "version": "3.10.14"
  }
 },
 "nbformat": 4,
 "nbformat_minor": 2
}
