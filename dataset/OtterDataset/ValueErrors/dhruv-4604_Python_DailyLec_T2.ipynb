{
 "cells": [
  {
   "cell_type": "markdown",
   "metadata": {},
   "source": [
    "# Immutable Data Structure"
   ]
  },
  {
   "cell_type": "markdown",
   "metadata": {},
   "source": [
    "#### The data structure that can not be changed in space is called Immutable Data Structure\n",
    "\n",
    "the examples are : string, numbers, tuples, frozen set"
   ]
  },
  {
   "cell_type": "code",
   "execution_count": 7,
   "metadata": {},
   "outputs": [
    {
     "ename": "TypeError",
     "evalue": "'str' object does not support item assignment",
     "output_type": "error",
     "traceback": [
      "\u001b[1;31m---------------------------------------------------------------------------\u001b[0m",
      "\u001b[1;31mTypeError\u001b[0m                                 Traceback (most recent call last)",
      "\u001b[1;32m<ipython-input-7-7f97c447cbdc>\u001b[0m in \u001b[0;36m<module>\u001b[1;34m\u001b[0m\n\u001b[0;32m      1\u001b[0m \u001b[0ms\u001b[0m\u001b[1;33m=\u001b[0m\u001b[1;34m'python'\u001b[0m\u001b[1;33m\u001b[0m\u001b[1;33m\u001b[0m\u001b[0m\n\u001b[1;32m----> 2\u001b[1;33m \u001b[0ms\u001b[0m\u001b[1;33m[\u001b[0m\u001b[1;36m0\u001b[0m\u001b[1;33m]\u001b[0m\u001b[1;33m=\u001b[0m\u001b[1;34m\"z'\"\u001b[0m\u001b[1;33m\u001b[0m\u001b[1;33m\u001b[0m\u001b[0m\n\u001b[0m",
      "\u001b[1;31mTypeError\u001b[0m: 'str' object does not support item assignment"
     ]
    }
   ],
   "source": [
    "s='python'\n",
    "s[0]=\"z'\""
   ]
  },
  {
   "cell_type": "markdown",
   "metadata": {},
   "source": [
    "#### - ACCESS"
   ]
  },
  {
   "cell_type": "code",
   "execution_count": 15,
   "metadata": {},
   "outputs": [
    {
     "name": "stdout",
     "output_type": "stream",
     "text": [
      "e\n",
      "o\n"
     ]
    }
   ],
   "source": [
    "s='hello'\n",
    "print(s[1])\n",
    "print(s[-1]) #reverse indexing"
   ]
  },
  {
   "cell_type": "markdown",
   "metadata": {},
   "source": [
    "###### If the indexing is out of range it will throw Index Error\n",
    "<br>\n",
    "<br>\n",
    "\n"
   ]
  },
  {
   "cell_type": "markdown",
   "metadata": {},
   "source": [
    "#### - SLICING"
   ]
  },
  {
   "cell_type": "markdown",
   "metadata": {},
   "source": [
    "##### [start:stop:step] <br>\n",
    "Stop is exclusive <br>\n",
    "\n",
    "s[a:b] <br>\n",
    "if a & b <0 <br>\n",
    "a>b it's value will be blank <br>"
   ]
  },
  {
   "cell_type": "code",
   "execution_count": 43,
   "metadata": {},
   "outputs": [
    {
     "name": "stdout",
     "output_type": "stream",
     "text": [
      "Hello \n",
      "l\n",
      "H\n",
      "Hello World\n",
      "HloWrd\n",
      "Hello Worl\n",
      "\n",
      "o Wor\n",
      "ello\n"
     ]
    }
   ],
   "source": [
    "s='Hello World'\n",
    "\n",
    "print(s[0:6])\n",
    "print(s[2:3])\n",
    "print(s[:1])\n",
    "print(s[0:])\n",
    "print(s[:-1])\n",
    "print(s[-2:-6])\n",
    "print(s[-7:-2])\n",
    "print(s[1:5])"
   ]
  },
  {
   "cell_type": "code",
   "execution_count": 65,
   "metadata": {},
   "outputs": [
    {
     "name": "stdout",
     "output_type": "stream",
     "text": [
      "Hlo\n",
      "l\n",
      "leH\n",
      "dlroW olleH\n",
      "\n"
     ]
    }
   ],
   "source": [
    "s='Hello World'\n",
    "print(s[0:6:2])\n",
    "print(s[2:4:2])\n",
    "print(s[2::-1])\n",
    "print(s[::-1]) #reversed String\n",
    "print(s[1000:232323:1000])#No Index Error"
   ]
  },
  {
   "cell_type": "markdown",
   "metadata": {},
   "source": [
    "#### - DELETE"
   ]
  },
  {
   "cell_type": "code",
   "execution_count": 70,
   "metadata": {},
   "outputs": [
    {
     "name": "stdout",
     "output_type": "stream",
     "text": [
      "hi\n"
     ]
    },
    {
     "ename": "NameError",
     "evalue": "name 's' is not defined",
     "output_type": "error",
     "traceback": [
      "\u001b[1;31m---------------------------------------------------------------------------\u001b[0m",
      "\u001b[1;31mNameError\u001b[0m                                 Traceback (most recent call last)",
      "\u001b[1;32m<ipython-input-70-cc457f00cf24>\u001b[0m in \u001b[0;36m<module>\u001b[1;34m\u001b[0m\n\u001b[0;32m      2\u001b[0m \u001b[0mprint\u001b[0m\u001b[1;33m(\u001b[0m\u001b[0ms\u001b[0m\u001b[1;33m)\u001b[0m\u001b[1;33m\u001b[0m\u001b[1;33m\u001b[0m\u001b[0m\n\u001b[0;32m      3\u001b[0m \u001b[1;32mdel\u001b[0m \u001b[0ms\u001b[0m\u001b[1;33m\u001b[0m\u001b[1;33m\u001b[0m\u001b[0m\n\u001b[1;32m----> 4\u001b[1;33m \u001b[1;32mdel\u001b[0m \u001b[0ms\u001b[0m\u001b[1;33m\u001b[0m\u001b[1;33m\u001b[0m\u001b[0m\n\u001b[0m",
      "\u001b[1;31mNameError\u001b[0m: name 's' is not defined"
     ]
    }
   ],
   "source": [
    "s='hi'\n",
    "print(s)\n",
    "del s\n",
    "del s"
   ]
  },
  {
   "cell_type": "markdown",
   "metadata": {},
   "source": [
    "#### - STRING METHODS\n",
    "\n"
   ]
  },
  {
   "cell_type": "code",
   "execution_count": 335,
   "metadata": {},
   "outputs": [
    {
     "name": "stdout",
     "output_type": "stream",
     "text": [
      "pythonhi\n",
      "python python python \n",
      "['h', 'n', 'o', 'p', 't', 'y']\n",
      "y\n",
      "6\n",
      "5\n",
      "p y t h o n \n",
      "Index is 0 and Values is p\n",
      "Index is 1 and Values is y\n",
      "Index is 2 and Values is t\n",
      "Index is 3 and Values is h\n",
      "Index is 4 and Values is o\n",
      "Index is 5 and Values is n\n",
      "<enumerate object at 0x000001AAA27CC300>\n",
      "[(0, 'p'), (1, 'y'), (2, 't'), (3, 'h'), (4, 'o'), (5, 'n')]\n"
     ]
    }
   ],
   "source": [
    "s='python'\n",
    "\n",
    "t='hi'\n",
    "\n",
    "print(s+t)\n",
    "print((s+' ')*3)\n",
    "print(sorted(s))\n",
    "print(max(s))\n",
    "print(len(s))\n",
    "print(len('\\n\\n\\tHi'))\n",
    "for i in s:\n",
    "    print(i,end=\" \")\n",
    "print()\n",
    "for index,value in enumerate(s):\n",
    "    print(f\"Index is {index} and Values is {value}\")\n",
    "    \n",
    "print(enumerate(s))\n",
    "\n",
    "print(list(enumerate(s)))\n"
   ]
  },
  {
   "cell_type": "code",
   "execution_count": 144,
   "metadata": {},
   "outputs": [
    {
     "name": "stdout",
     "output_type": "stream",
     "text": [
      "Hello\n",
      "HELLO\n",
      "False\n",
      "HElLo\n"
     ]
    }
   ],
   "source": [
    "s=\"heLlO\"\n",
    "print(s.capitalize())\n",
    "print(s.upper())\n",
    "print(s.islower())\n",
    "print(s.swapcase())\n"
   ]
  },
  {
   "cell_type": "code",
   "execution_count": 204,
   "metadata": {},
   "outputs": [
    {
     "name": "stdout",
     "output_type": "stream",
     "text": [
      "0\n",
      "4\n",
      "4\n",
      "True\n",
      "True\n"
     ]
    }
   ],
   "source": [
    "s='python is a programing language'\n",
    "t='python'\n",
    "z='12452433'\n",
    "o=\"Hii\"\n",
    "print(s.count('o',0,2))\n",
    "print(s.find('on')) #return -1 when str not found\n",
    "print(s.index('o')) #Value Error When index is not found\n",
    "print(z.isnumeric())#only int\n",
    "print(o.isalnum())\n"
   ]
  },
  {
   "cell_type": "code",
   "execution_count": 297,
   "metadata": {},
   "outputs": [
    {
     "name": "stdout",
     "output_type": "stream",
     "text": [
      "Herrlo\n",
      "Herrro\n",
      "Helllo\n",
      "Herrro\n",
      "['He', 'llo']\n",
      "['l', 'l', 'o']\n",
      "He <join> llo\n",
      "H <join> e <join> l <join> l <join> l <join> o\n"
     ]
    }
   ],
   "source": [
    "s=\"Helllo\"\n",
    "\n",
    "print(s.replace('l','r',2))\n",
    "print(s.replace('l','r'))\n",
    "print(s.replace('x','r'))\n",
    "print(s.replace('l','r',-333))\n",
    "print(s.split('l',1))\n",
    "print(list(s.split('l',1)[1]))\n",
    "print(' <join> '.join(s.split('l',1)))\n",
    "print(' <join> '.join(s))"
   ]
  },
  {
   "cell_type": "code",
   "execution_count": 334,
   "metadata": {},
   "outputs": [
    {
     "name": "stdout",
     "output_type": "stream",
     "text": [
      "elHl\n"
     ]
    }
   ],
   "source": [
    "s='HHoelHlHH'\n",
    "print(s.strip(\"Ho\"))\n"
   ]
  },
  {
   "cell_type": "code",
   "execution_count": 41,
   "metadata": {},
   "outputs": [
    {
     "name": "stdout",
     "output_type": "stream",
     "text": [
      "{97: 49, 98: 50, 99: 51}\n",
      "123\n",
      "Hi Hello\n"
     ]
    }
   ],
   "source": [
    "import string\n",
    "intab='abc'\n",
    "outtab='123'\n",
    "my=\"abc\"\n",
    "table=my.maketrans(intab,outtab)\n",
    "print(my.maketrans(intab,outtab))\n",
    "\n",
    "print(my.translate(table))\n",
    "\n",
    "x={97:'Hi',98:'Hello'}\n",
    "\n",
    "print(str.translate('a b',x))\n",
    "\n"
   ]
  },
  {
   "cell_type": "markdown",
   "metadata": {},
   "source": [
    "## Tuple\n",
    "Tuple is an immutable data structure with heterogeneous component. it is consider faster than list data structure and it <br>\n",
    "safe due to data intigrity.\n",
    "it can be created using paranthesis  or commas."
   ]
  },
  {
   "cell_type": "code",
   "execution_count": 40,
   "metadata": {
    "scrolled": true
   },
   "outputs": [
    {
     "name": "stdout",
     "output_type": "stream",
     "text": [
      "(1, 2, 3)\n"
     ]
    },
    {
     "data": {
      "text/plain": [
       "tuple"
      ]
     },
     "execution_count": 40,
     "metadata": {},
     "output_type": "execute_result"
    }
   ],
   "source": [
    "x=1,2,3\n",
    "print(x)\n",
    "type(x)"
   ]
  },
  {
   "cell_type": "markdown",
   "metadata": {},
   "source": [
    "#### ACCESS"
   ]
  },
  {
   "cell_type": "code",
   "execution_count": 48,
   "metadata": {},
   "outputs": [
    {
     "name": "stdout",
     "output_type": "stream",
     "text": [
      "('hi', [1, 100, 3], 4, 5, 6)\n"
     ]
    }
   ],
   "source": [
    "x=('hi',[1,2,3],4,5,6)\n",
    "x[1][1]=100\n",
    "print(x)"
   ]
  },
  {
   "cell_type": "code",
   "execution_count": 74,
   "metadata": {},
   "outputs": [
    {
     "name": "stdout",
     "output_type": "stream",
     "text": [
      "2\n",
      "1\n",
      "2\n"
     ]
    }
   ],
   "source": [
    "x=('hii','hi','hi','python','java')\n",
    "sorted(x,key=len)#sorted according to the length of tuple\n",
    "print(x.count('hi'))\n",
    "print(x.index('hi'))\n",
    "print(x.index('hi',2))"
   ]
  },
  {
   "cell_type": "code",
   "execution_count": 80,
   "metadata": {},
   "outputs": [
    {
     "name": "stdout",
     "output_type": "stream",
     "text": [
      "Enter String: pop\n",
      "Your Input is Palindrom.\n"
     ]
    }
   ],
   "source": [
    "#write a program to check the given string is palindrom\n",
    "\n",
    "x=input(\"Enter String: \")\n",
    "\n",
    "if x==x[::-1]:\n",
    "    print(\"Your Input is Palindrom.\")\n",
    "else:\n",
    "    print(\"Your Input is not Palindrom.\")"
   ]
  },
  {
   "cell_type": "code",
   "execution_count": 95,
   "metadata": {},
   "outputs": [
    {
     "name": "stdout",
     "output_type": "stream",
     "text": [
      "Enter String: Dhruv\n",
      "Upper: 1   Lower: 4\n"
     ]
    }
   ],
   "source": [
    "#Count the upper and lower case of the given string.\n",
    "x=input(\"Enter String: \")\n",
    "upper=0\n",
    "lower=0\n",
    "for i in x:\n",
    "    if i.isupper():\n",
    "        upper+=1\n",
    "    elif i.islower():\n",
    "        lower+=1\n",
    "print(f\"Upper: {upper}   Lower: {lower}\")"
   ]
  },
  {
   "cell_type": "code",
   "execution_count": 94,
   "metadata": {},
   "outputs": [
    {
     "name": "stdout",
     "output_type": "stream",
     "text": [
      "Enter String: Dhruv\n",
      "Drv\n"
     ]
    }
   ],
   "source": [
    "x=input(\"Enter String: \")\n",
    "print(x[0],x[len(x)//2],x[-1],sep=\"\")"
   ]
  },
  {
   "cell_type": "code",
   "execution_count": 98,
   "metadata": {},
   "outputs": [
    {
     "name": "stdout",
     "output_type": "stream",
     "text": [
      "Enter Email: dhruv@1233\n",
      "dhruv\n"
     ]
    }
   ],
   "source": [
    "x=input(\"Enter Email: \")\n",
    "print(x.split('@')[0])"
   ]
  },
  {
   "cell_type": "code",
   "execution_count": null,
   "metadata": {},
   "outputs": [],
   "source": [
    "x=input(\"Enter String: \")\n",
    "y=input(\"Enter String: \")\n"
   ]
  },
  {
   "cell_type": "code",
   "execution_count": 113,
   "metadata": {},
   "outputs": [
    {
     "name": "stdout",
     "output_type": "stream",
     "text": [
      "Enter String: this is python\n",
      "ThiS IS PythoN "
     ]
    }
   ],
   "source": [
    "#write a program to capitalize 1st and last ch of String.\n",
    "x=input(\"Enter String: \")\n",
    "\n",
    "for i in x.split(\" \"): \n",
    "    print(i[0].capitalize()+i[1:len(i)-1]+i[len(i)-1::].capitalize(),end=\" \")"
   ]
  },
  {
   "cell_type": "code",
   "execution_count": 118,
   "metadata": {},
   "outputs": [
    {
     "name": "stdout",
     "output_type": "stream",
     "text": [
      "This is a p[]ython program\n"
     ]
    }
   ],
   "source": [
    "x='This is a$ p[]ython pro?gram'\n",
    "x=x.replace('?',\"\")\n",
    "x=x.replace('$',\"\")\n",
    "print(x)\n"
   ]
  },
  {
   "cell_type": "code",
   "execution_count": 122,
   "metadata": {},
   "outputs": [
    {
     "name": "stdout",
     "output_type": "stream",
     "text": [
      "Enter Name: Adf\n",
      "Enter PAN Number: ABCDE1234J\n",
      "Valid\n"
     ]
    }
   ],
   "source": [
    "#write a program that take user name and pancard number and validate it if it is a valid pancard number\n",
    "user=input(\"Enter Name: \")\n",
    "pan=input(\"Enter PAN Number: \")\n",
    "if user.isalpha() and len(pan)==10 and pan[5:9].isnumeric() and pan[0:5].isupper() and pan[9].isupper():\n",
    "    print(\"Valid\")\n",
    "else:\n",
    "    print(\"Invalid\")"
   ]
  },
  {
   "cell_type": "code",
   "execution_count": 2,
   "metadata": {},
   "outputs": [
    {
     "name": "stdout",
     "output_type": "stream",
     "text": [
      "Enter String: bank of borda\n",
      "Enter Charcter to Find: b\n",
      "Index is : 0\n",
      "Index is : 8\n"
     ]
    }
   ],
   "source": [
    "#write a program to find wether a character is present in string if present it should print the index of the charcter\n",
    "x=input(\"Enter String: \")\n",
    "y=input(\"Enter Charcter to Find: \")\n",
    "index=0\n",
    "for i in x:\n",
    "    if(i==y):\n",
    "        print(f\"Index is : {index}\")\n",
    "    index+=1"
   ]
  },
  {
   "cell_type": "markdown",
   "metadata": {},
   "source": [
    "## List"
   ]
  },
  {
   "cell_type": "markdown",
   "metadata": {},
   "source": [
    "#### Mutable and Hetrogeneous"
   ]
  },
  {
   "cell_type": "code",
   "execution_count": 3,
   "metadata": {},
   "outputs": [
    {
     "data": {
      "text/plain": [
       "list"
      ]
     },
     "execution_count": 3,
     "metadata": {},
     "output_type": "execute_result"
    }
   ],
   "source": [
    "x=[]\n",
    "type(x)"
   ]
  },
  {
   "cell_type": "code",
   "execution_count": 16,
   "metadata": {},
   "outputs": [
    {
     "name": "stdout",
     "output_type": "stream",
     "text": [
      "2\n",
      "[1, 'hi', 3]\n",
      "[3, 'hi', 1]\n",
      "3\n"
     ]
    }
   ],
   "source": [
    "x=[1,2,3]\n",
    "print(x[1])\n",
    "x[1]=\"hi\"\n",
    "print(x)\n",
    "#x[40] #index out  of range\n",
    "print(x[::-1])#reversed\n",
    "print(len(x))\n",
    "#for min max and sorted not supported str"
   ]
  },
  {
   "cell_type": "markdown",
   "metadata": {},
   "source": [
    "#### Append() - its adds an item to the end of the list."
   ]
  },
  {
   "cell_type": "code",
   "execution_count": 28,
   "metadata": {},
   "outputs": [
    {
     "name": "stdout",
     "output_type": "stream",
     "text": [
      "[1, 2, 3, 4, 'Hello', ['a', 'b'], {'Hi2', 'Hi'}]\n"
     ]
    }
   ],
   "source": [
    "x=[1,2,3]\n",
    "#x.append(4,5)# its takes only on arg.\n",
    "x.append(4)\n",
    "x.append('Hello')\n",
    "x.append(['a','b'])\n",
    "x.append({'Hi','Hi2'})\n",
    "print(x)"
   ]
  },
  {
   "cell_type": "markdown",
   "metadata": {},
   "source": [
    "#### extend() - its adds all the elements of the iterable to the end of the list"
   ]
  },
  {
   "cell_type": "code",
   "execution_count": 27,
   "metadata": {},
   "outputs": [
    {
     "name": "stdout",
     "output_type": "stream",
     "text": [
      "[1, 2, 3, 'a', 'b', 'H', 'e', 'l', 'l', 'o', 'Hi2', 'Hi']\n"
     ]
    }
   ],
   "source": [
    "x=[1,2,3]\n",
    "x.extend(['a','b'])\n",
    "x.extend('Hello')\n",
    "x.extend({'Hi','Hi2'})\n",
    "print(x)\n"
   ]
  },
  {
   "cell_type": "markdown",
   "metadata": {},
   "source": [
    "#### insert() - the method inserts an element to the list at a specify index"
   ]
  },
  {
   "cell_type": "code",
   "execution_count": 36,
   "metadata": {},
   "outputs": [
    {
     "name": "stdout",
     "output_type": "stream",
     "text": [
      "[1, 2, 'python', 3]\n"
     ]
    }
   ],
   "source": [
    "x=[1,2,3]\n",
    "x.insert(2,'python')\n",
    "print(x)"
   ]
  },
  {
   "cell_type": "markdown",
   "metadata": {},
   "source": [
    "#### remove() - this meothod removes the first matching elements"
   ]
  },
  {
   "cell_type": "code",
   "execution_count": null,
   "metadata": {},
   "outputs": [],
   "source": []
  },
  {
   "cell_type": "markdown",
   "metadata": {},
   "source": [
    "#### pop() - this methond removes the item at a given index and return the removed item"
   ]
  },
  {
   "cell_type": "code",
   "execution_count": 43,
   "metadata": {},
   "outputs": [
    {
     "name": "stdout",
     "output_type": "stream",
     "text": [
      "[3, 4, 'Hii', 5]\n",
      "[3, 'Hii', 5]\n"
     ]
    }
   ],
   "source": [
    "x=[3,4,5,6]\n",
    "x.insert(2,'Hii')\n",
    "x.pop() #remove last element\n",
    "print(x)\n",
    "x.pop(1)\n",
    "print(x)"
   ]
  },
  {
   "cell_type": "markdown",
   "metadata": {},
   "source": [
    "#### clear() - its removes all the items from  the list\n"
   ]
  },
  {
   "cell_type": "code",
   "execution_count": 51,
   "metadata": {},
   "outputs": [
    {
     "name": "stdout",
     "output_type": "stream",
     "text": [
      "[1, 2, 3]\n",
      "[]\n"
     ]
    }
   ],
   "source": [
    "x=[1,2,3]\n",
    "print(x)\n",
    "x.clear()\n",
    "print(x)"
   ]
  },
  {
   "cell_type": "markdown",
   "metadata": {},
   "source": [
    "#### sort() - its sort the elements of the given list in ascending or decending order"
   ]
  },
  {
   "cell_type": "code",
   "execution_count": 73,
   "metadata": {},
   "outputs": [
    {
     "name": "stdout",
     "output_type": "stream",
     "text": [
      "[1, 2, 3, 4, 5, 6]\n",
      "[3, 4, 1, 2, 6, 5]\n",
      "[1, 2, 3, 4, 5, 6]\n",
      "[6, 5, 4, 3, 2, 1]\n",
      "[1, 2, 3, 4, 5, 6]\n"
     ]
    }
   ],
   "source": [
    "x=[3,4,1,2,6,5]\n",
    "print(sorted(x))#return sorted val\n",
    "print(x)\n",
    "x.sort()\n",
    "print(x)\n",
    "print(list(reversed(x)))\n",
    "print(x)\n",
    "x.reverse()\n",
    "\n"
   ]
  },
  {
   "cell_type": "code",
   "execution_count": 75,
   "metadata": {},
   "outputs": [
    {
     "name": "stdout",
     "output_type": "stream",
     "text": [
      "[1, 100, 3]\n"
     ]
    }
   ],
   "source": [
    "x=[1,2,3]\n",
    "y=x\n",
    "y[1]=100\n",
    "print(x) #its also change the x\n"
   ]
  },
  {
   "cell_type": "markdown",
   "metadata": {},
   "source": [
    "#### copy() - this method return  a shallow copy of a list"
   ]
  },
  {
   "cell_type": "code",
   "execution_count": 76,
   "metadata": {},
   "outputs": [
    {
     "name": "stdout",
     "output_type": "stream",
     "text": [
      "[1, 2, 3]\n",
      "[1, 2, 3]\n",
      "[1, 2, 3]\n",
      "[1, 200, 3]\n"
     ]
    }
   ],
   "source": [
    "x=[1,2,3]\n",
    "y=x.copy()\n",
    "print(x)\n",
    "print(y)\n",
    "y[1]=200\n",
    "print(x)\n",
    "print(y)"
   ]
  },
  {
   "cell_type": "code",
   "execution_count": 123,
   "metadata": {},
   "outputs": [
    {
     "name": "stdout",
     "output_type": "stream",
     "text": [
      "[0, 2, 4, 6, 8]\n"
     ]
    }
   ],
   "source": [
    "#write a program \n",
    "x=[0,1,2,3,4,5,6,7,8]\n",
    "x=[x for x in x if x%2==0]\n",
    "print(x)"
   ]
  },
  {
   "cell_type": "code",
   "execution_count": 22,
   "metadata": {},
   "outputs": [
    {
     "name": "stdout",
     "output_type": "stream",
     "text": [
      "98\n"
     ]
    }
   ],
   "source": [
    "def char(y):\n",
    "    \n",
    "    x=y.maketrans(' ',y)\n",
    "    return x.get(32)\n",
    "    \n",
    "print(char('b'))\n",
    "\n",
    "\n",
    "    \n",
    "\n",
    "\n",
    "        "
   ]
  },
  {
   "cell_type": "code",
   "execution_count": 23,
   "metadata": {},
   "outputs": [
    {
     "data": {
      "text/plain": [
       "'a'"
      ]
     },
     "execution_count": 23,
     "metadata": {},
     "output_type": "execute_result"
    }
   ],
   "source": [
    "chr(97)"
   ]
  },
  {
   "cell_type": "code",
   "execution_count": null,
   "metadata": {},
   "outputs": [],
   "source": []
  },
  {
   "cell_type": "code",
   "execution_count": 157,
   "metadata": {},
   "outputs": [
    {
     "name": "stdout",
     "output_type": "stream",
     "text": [
      "Enter Your Message: sd\n",
      "Shift: dsd\n"
     ]
    },
    {
     "ename": "ValueError",
     "evalue": "invalid literal for int() with base 10: 'dsd'",
     "output_type": "error",
     "traceback": [
      "\u001b[1;31m---------------------------------------------------------------------------\u001b[0m",
      "\u001b[1;31mValueError\u001b[0m                                Traceback (most recent call last)",
      "\u001b[1;32m<ipython-input-157-a066bf3e1c26>\u001b[0m in \u001b[0;36m<module>\u001b[1;34m\u001b[0m\n\u001b[0;32m      1\u001b[0m \u001b[0mx\u001b[0m\u001b[1;33m=\u001b[0m\u001b[0minput\u001b[0m\u001b[1;33m(\u001b[0m\u001b[1;34m\"Enter Your Message: \"\u001b[0m\u001b[1;33m)\u001b[0m\u001b[1;33m\u001b[0m\u001b[1;33m\u001b[0m\u001b[0m\n\u001b[1;32m----> 2\u001b[1;33m \u001b[0mshift\u001b[0m\u001b[1;33m=\u001b[0m\u001b[0mint\u001b[0m\u001b[1;33m(\u001b[0m\u001b[0minput\u001b[0m\u001b[1;33m(\u001b[0m\u001b[1;34m\"Shift: \"\u001b[0m\u001b[1;33m)\u001b[0m\u001b[1;33m)\u001b[0m\u001b[1;33m\u001b[0m\u001b[1;33m\u001b[0m\u001b[0m\n\u001b[0m\u001b[0;32m      3\u001b[0m \u001b[1;33m\u001b[0m\u001b[0m\n\u001b[0;32m      4\u001b[0m \u001b[0mtable\u001b[0m\u001b[1;33m=\u001b[0m\u001b[0mmy\u001b[0m\u001b[1;33m.\u001b[0m\u001b[0mmaketrans\u001b[0m\u001b[1;33m(\u001b[0m\u001b[0mintab\u001b[0m\u001b[1;33m,\u001b[0m\u001b[0mouttab\u001b[0m\u001b[1;33m)\u001b[0m\u001b[1;33m\u001b[0m\u001b[1;33m\u001b[0m\u001b[0m\n\u001b[0;32m      5\u001b[0m \u001b[0mprint\u001b[0m\u001b[1;33m(\u001b[0m\u001b[0mmy\u001b[0m\u001b[1;33m.\u001b[0m\u001b[0mmaketrans\u001b[0m\u001b[1;33m(\u001b[0m\u001b[0mintab\u001b[0m\u001b[1;33m,\u001b[0m\u001b[0mouttab\u001b[0m\u001b[1;33m)\u001b[0m\u001b[1;33m)\u001b[0m\u001b[1;33m\u001b[0m\u001b[1;33m\u001b[0m\u001b[0m\n",
      "\u001b[1;31mValueError\u001b[0m: invalid literal for int() with base 10: 'dsd'"
     ]
    }
   ],
   "source": [
    "x=input(\"Enter Your Message: \")\n",
    "shift=int(input(\"Shift: \"))\n",
    "\n",
    "table=my.maketrans(intab,outtab)\n",
    "print(my.maketrans(intab,outtab))\n",
    "\n",
    "print(my.translate(table))\n",
    "\n",
    "x={97:'Hi',98:'Hello'}\n",
    "\n",
    "print(str.translate('a b',x))\n",
    "\n",
    "\n",
    "encrpyted=\"\"\n",
    "for i in x:\n",
    "    if i.alnum():\n",
    "         encrpyted=str"
   ]
  },
  {
   "cell_type": "code",
   "execution_count": 3,
   "metadata": {},
   "outputs": [
    {
     "name": "stdout",
     "output_type": "stream",
     "text": [
      "Enter: Hello there\n",
      "Count of Words = 2\n"
     ]
    }
   ],
   "source": [
    "x=input(\"Enter: \")\n",
    "print(f\"Count of Words = {(len([x for x in x if x==' ']))+1}\")"
   ]
  },
  {
   "cell_type": "code",
   "execution_count": 15,
   "metadata": {},
   "outputs": [
    {
     "name": "stdout",
     "output_type": "stream",
     "text": [
      "Enter: malayalam\n",
      "not sym\n"
     ]
    }
   ],
   "source": [
    "#Write a program if a given string is symetrical, a string is said to be symetrical if both half are same;\n",
    "x=input(\"Enter: \")\n",
    "\n",
    "if x[:len(x)//2]==x[(len(x)//2):(len(x)+1)]:\n",
    "    print(\"sym\")\n",
    "else:\n",
    "    print(\"not sym\")"
   ]
  },
  {
   "cell_type": "markdown",
   "metadata": {},
   "source": [
    "### Dictionary"
   ]
  },
  {
   "cell_type": "markdown",
   "metadata": {},
   "source": [
    "#### Mutable, Unordered Collection"
   ]
  },
  {
   "cell_type": "code",
   "execution_count": 10,
   "metadata": {},
   "outputs": [
    {
     "data": {
      "text/plain": [
       "dict"
      ]
     },
     "execution_count": 10,
     "metadata": {},
     "output_type": "execute_result"
    }
   ],
   "source": [
    "x={}\n",
    "type(x)"
   ]
  },
  {
   "cell_type": "code",
   "execution_count": 53,
   "metadata": {},
   "outputs": [
    {
     "name": "stdout",
     "output_type": "stream",
     "text": [
      "Hii\n",
      "dict_keys([1, -2])\n",
      "dict_values(['Hello', 'Hii'])\n",
      "dict_items([(1, 'Hello'), (-2, 'Hii')])\n",
      "[-2, 1]\n",
      "None\n",
      "{1: 'Hello', -2: 'Hii', 'a': 23, 'b': 43}\n",
      "{1: None, 2: None, 3: None}\n"
     ]
    }
   ],
   "source": [
    "x={1:\"Hello\",-2:\"Hii\"}\n",
    "print(x[-2])\n",
    "print(x.keys())\n",
    "print(x.values())\n",
    "print(x.items())\n",
    "print(sorted(x)) #retun key sorted list\n",
    "print(x.get(3))\n",
    "#print(x[3]) generate error if key is not found.\n",
    "y={'a':23,'b':43}\n",
    "x.update(y)\n",
    "print(x)\n",
    "\n",
    "d={}\n",
    "seq=(1,2,3)\n",
    "d1=d.fromkeys(seq)\n",
    "print(d1)"
   ]
  },
  {
   "cell_type": "code",
   "execution_count": 55,
   "metadata": {},
   "outputs": [
    {
     "name": "stdout",
     "output_type": "stream",
     "text": [
      "('a', 1)\n",
      "('b', 2)\n",
      "('c', 3)\n"
     ]
    }
   ],
   "source": [
    "d={'a':1,'b':2,'c':3}\n",
    "\n",
    "'c' in d\n",
    "for items in d.items():\n",
    "    print(items)"
   ]
  },
  {
   "cell_type": "markdown",
   "metadata": {},
   "source": [
    "### LAMBDA FUNCTION"
   ]
  },
  {
   "cell_type": "markdown",
   "metadata": {},
   "source": [
    "#### map function applies specify function to all item in given iterable and returns modified iterator "
   ]
  },
  {
   "cell_type": "code",
   "execution_count": 94,
   "metadata": {},
   "outputs": [
    {
     "name": "stdout",
     "output_type": "stream",
     "text": [
      "[False, True, False, True]\n"
     ]
    }
   ],
   "source": [
    "numbers=[1,2,3,4]\n",
    "squares=list(map(lambda x:x**2,numbers))\n",
    "print(squares)\n"
   ]
  },
  {
   "cell_type": "code",
   "execution_count": 96,
   "metadata": {},
   "outputs": [
    {
     "name": "stdout",
     "output_type": "stream",
     "text": [
      "[2, 4]\n"
     ]
    }
   ],
   "source": [
    "numbers=[1,2,3,4]\n",
    "evens=list(filter(lambda x:x%2==0,numbers))#it creates an iterator from elements of iterables for which function returns true\n",
    "print(evens)\n"
   ]
  },
  {
   "cell_type": "markdown",
   "metadata": {},
   "source": [
    "### Reduce"
   ]
  },
  {
   "cell_type": "markdown",
   "metadata": {},
   "source": [
    "#### this function applies specific function cumulatively to the items of iterable from left to right and reduce iterable to single  value."
   ]
  },
  {
   "cell_type": "code",
   "execution_count": 109,
   "metadata": {},
   "outputs": [
    {
     "name": "stdout",
     "output_type": "stream",
     "text": [
      "10\n"
     ]
    }
   ],
   "source": [
    "from functools import reduce \n",
    "number=[1,2,3,4]\n",
    "product=reduce(lambda x,y:x+y,number)\n",
    "print(product)\n"
   ]
  },
  {
   "cell_type": "code",
   "execution_count": 64,
   "metadata": {},
   "outputs": [],
   "source": [
    "import functools"
   ]
  },
  {
   "cell_type": "code",
   "execution_count": 65,
   "metadata": {},
   "outputs": [
    {
     "name": "stdout",
     "output_type": "stream",
     "text": [
      "Help on built-in function reduce in module _functools:\n",
      "\n",
      "reduce(...)\n",
      "    reduce(function, sequence[, initial]) -> value\n",
      "    \n",
      "    Apply a function of two arguments cumulatively to the items of a sequence,\n",
      "    from left to right, so as to reduce the sequence to a single value.\n",
      "    For example, reduce(lambda x, y: x+y, [1, 2, 3, 4, 5]) calculates\n",
      "    ((((1+2)+3)+4)+5).  If initial is present, it is placed before the items\n",
      "    of the sequence in the calculation, and serves as a default when the\n",
      "    sequence is empty.\n",
      "\n"
     ]
    }
   ],
   "source": [
    "help(functools.reduce)"
   ]
  },
  {
   "cell_type": "code",
   "execution_count": 36,
   "metadata": {},
   "outputs": [
    {
     "data": {
      "text/plain": [
       "'HEY'"
      ]
     },
     "execution_count": 36,
     "metadata": {},
     "output_type": "execute_result"
    }
   ],
   "source": [
    "x=['H','E','Y']\n",
    "''.join(x)\n",
    "\n",
    "\n",
    "\n",
    "\n"
   ]
  },
  {
   "cell_type": "code",
   "execution_count": 88,
   "metadata": {},
   "outputs": [
    {
     "ename": "SyntaxError",
     "evalue": "invalid syntax (<ipython-input-88-117fd51428de>, line 4)",
     "output_type": "error",
     "traceback": [
      "\u001b[1;36m  File \u001b[1;32m\"<ipython-input-88-117fd51428de>\"\u001b[1;36m, line \u001b[1;32m4\u001b[0m\n\u001b[1;33m    y=[x.next() for x in  if x!=13 & x[i] ]\u001b[0m\n\u001b[1;37m                          ^\u001b[0m\n\u001b[1;31mSyntaxError\u001b[0m\u001b[1;31m:\u001b[0m invalid syntax\n"
     ]
    }
   ],
   "source": [
    "#Write a progam which will return the sum of numbers in a given list returing 0 for empty list\n",
    "#except the number 13 which is very unlucky so it dosn't count and number that comes immediatly after 13 should not be counter\n",
    "x=[1,13,1,2,13,3,3,13]\n",
    "y=[x.next() for x in  if x!=13 & x[i] ]\n",
    "print(y)\n"
   ]
  }
 ],
 "metadata": {
  "kernelspec": {
   "display_name": "Python 3",
   "language": "python",
   "name": "python3"
  },
  "language_info": {
   "codemirror_mode": {
    "name": "ipython",
    "version": 3
   },
   "file_extension": ".py",
   "mimetype": "text/x-python",
   "name": "python",
   "nbconvert_exporter": "python",
   "pygments_lexer": "ipython3",
   "version": "3.8.5"
  }
 },
 "nbformat": 4,
 "nbformat_minor": 4
}
