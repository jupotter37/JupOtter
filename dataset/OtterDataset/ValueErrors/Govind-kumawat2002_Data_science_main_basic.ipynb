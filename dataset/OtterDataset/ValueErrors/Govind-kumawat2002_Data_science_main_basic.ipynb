{
 "cells": [
  {
   "cell_type": "code",
   "execution_count": 7,
   "metadata": {},
   "outputs": [
    {
     "name": "stdout",
     "output_type": "stream",
     "text": [
      "R.i.t.i.k. .K.u.m.a.w.a.t\n"
     ]
    }
   ],
   "source": [
    "# str \n",
    "# print('jai shree ganesh')\n",
    "name = \"Ritik Kumawat\"\n",
    "# print(name[1:3])\n",
    "# print(name.replace(\"Ritik\",\"Govind\"))\n",
    "# print(len(name))\n",
    "# print(name.count(' '))\n",
    "# print(name.join('hello'))\n",
    "name3 = \"hello\"\n",
    "# name4 = name+name3\n",
    "# print(name4)\n",
    "nmae = \".\".join(name)\n",
    "print(nmae)"
   ]
  },
  {
   "cell_type": "code",
   "execution_count": 8,
   "metadata": {},
   "outputs": [
    {
     "name": "stdout",
     "output_type": "stream",
     "text": [
      "<class 'list'>\n"
     ]
    },
    {
     "data": {
      "text/plain": [
       "'hemant'"
      ]
     },
     "execution_count": 8,
     "metadata": {},
     "output_type": "execute_result"
    }
   ],
   "source": [
    "\n",
    "# list\n",
    "# set\n",
    "\n",
    "\n",
    "### list \n",
    "lst = [1,2,5,8,78,10]\n",
    "lst\n",
    "lst[0:4]\n",
    "lst.count(1)\n",
    "lst.clear()\n",
    "print(type(lst))\n",
    "lst = [1,5,4,56,87]\n",
    "lst\n",
    "# print(lst.sort())\n",
    "lst.append(45)\n",
    "lst.insert(78,45)\n",
    "lst # lst are allow duplicated value \n",
    "# sliceing \n",
    "# indexing \n",
    "name = ['hemant','ritik','kavita']\n",
    "name\n",
    "name[0]\n"
   ]
  },
  {
   "cell_type": "markdown",
   "metadata": {},
   "source": [
    "# Tuple\n",
    "* Store a collection of ordered items. \n",
    "* Immutable \n",
    "* Once a tuple is created, its elements cannot be changed, added, or removed.\n",
    "* Ordered: Tuples maintain the order of elements. The first element added is the first element in the tuple, the second element is the second, and so on.\n",
    "* Immutable: After a tuple is created, its size and contents cannot be altered. This immutability makes tuples hashable, meaning they can be used as keys in dictionaries or stored in sets.\n",
    "* Heterogeneous: Tuples can contain elements of different types, including integers, strings, lists, and even other tuples.\n",
    "\n",
    "\n",
    "\n"
   ]
  },
  {
   "cell_type": "code",
   "execution_count": 9,
   "metadata": {},
   "outputs": [
    {
     "name": "stdout",
     "output_type": "stream",
     "text": [
      "<class 'tuple'>\n"
     ]
    }
   ],
   "source": [
    "tpl = ('raju',12,45,'rohit')\n",
    "tpl.count('raju')\n",
    "tpl[0]\n",
    "print(type(tpl))\n",
    "\n",
    "\n",
    "\n",
    "\n",
    "\n",
    "\n",
    "\n"
   ]
  },
  {
   "cell_type": "markdown",
   "metadata": {},
   "source": [
    "# Dict\n",
    "* mutable data structures that store collections of key-value pairs. \n",
    " \n",
    "##### Characteristics of Dictionaries\n",
    "* Key-Value Pairs: A dictionary consists of key-value pairs, where each key is unique, and each key maps to exactly one value.\n",
    "* Unordered: Prior to Python 3.7, dictionaries were unordered collections. From Python 3.7 onwards, dictionaries maintain the insertion order of keys.\n",
    "* Mutable: Dictionaries are mutable, meaning you can change, add, or remove key-value pairs after the dictionary is created.\n",
    "* Dynamic: Dictionaries can grow and shrink as needed, allowing for dynamic adjustments to the data they store.\n",
    "* Hashable Keys: Keys must be of a hashable type, meaning they must be immutable types like strings, numbers, or tuples containing immutable elements."
   ]
  },
  {
   "cell_type": "code",
   "execution_count": 10,
   "metadata": {},
   "outputs": [
    {
     "name": "stdout",
     "output_type": "stream",
     "text": [
      "<class 'dict'>\n"
     ]
    },
    {
     "data": {
      "text/plain": [
       "{'roll_no': 21}"
      ]
     },
     "execution_count": 10,
     "metadata": {},
     "output_type": "execute_result"
    }
   ],
   "source": [
    "hii = {\"name\":\"govind\",\"roll_no\":21}\n",
    "print(type(hii))\n",
    "hii.values()\n",
    "hii.keys()\n",
    "hii['roll_no']\n",
    "hii.items()\n",
    "hii.pop\n",
    "hii.pop('name','govind')\n",
    "hii.update()\n",
    "hii\n"
   ]
  },
  {
   "cell_type": "code",
   "execution_count": 11,
   "metadata": {},
   "outputs": [
    {
     "name": "stdout",
     "output_type": "stream",
     "text": [
      "{'roll_no': 21}\n"
     ]
    }
   ],
   "source": [
    "print(hii)"
   ]
  },
  {
   "cell_type": "markdown",
   "metadata": {},
   "source": [
    "# Condition\n",
    "if else and elif \n",
    " condition "
   ]
  },
  {
   "cell_type": "code",
   "execution_count": 12,
   "metadata": {},
   "outputs": [
    {
     "ename": "ValueError",
     "evalue": "invalid literal for int() with base 10: 'hello'",
     "output_type": "error",
     "traceback": [
      "\u001b[1;31m---------------------------------------------------------------------------\u001b[0m",
      "\u001b[1;31mValueError\u001b[0m                                Traceback (most recent call last)",
      "Cell \u001b[1;32mIn[12], line 1\u001b[0m\n\u001b[1;32m----> 1\u001b[0m num1 \u001b[38;5;241m=\u001b[39m \u001b[38;5;28;43mint\u001b[39;49m\u001b[43m(\u001b[49m\u001b[38;5;28;43minput\u001b[39;49m\u001b[43m(\u001b[49m\u001b[38;5;124;43m\"\u001b[39;49m\u001b[38;5;124;43menter a number1\u001b[39;49m\u001b[38;5;124;43m\"\u001b[39;49m\u001b[43m)\u001b[49m\u001b[43m)\u001b[49m \n\u001b[0;32m      2\u001b[0m num2 \u001b[38;5;241m=\u001b[39m \u001b[38;5;28mint\u001b[39m(\u001b[38;5;28minput\u001b[39m(\u001b[38;5;124m\"\u001b[39m\u001b[38;5;124menter a number2\u001b[39m\u001b[38;5;124m\"\u001b[39m))\n\u001b[0;32m      3\u001b[0m result \u001b[38;5;241m=\u001b[39m num1\u001b[38;5;241m+\u001b[39mnum2\n",
      "\u001b[1;31mValueError\u001b[0m: invalid literal for int() with base 10: 'hello'"
     ]
    }
   ],
   "source": [
    "num1 = int(input(\"enter a number1\")) \n",
    "num2 = int(input(\"enter a number2\"))\n",
    "result = num1+num2\n",
    "if num1>num2:\n",
    "    print(\"yeah i am right \")\n",
    "else:\n",
    "    print(\"you are divide \",result) \n"
   ]
  },
  {
   "cell_type": "markdown",
   "metadata": {},
   "source": [
    "# looping\n",
    "for &  while "
   ]
  },
  {
   "cell_type": "code",
   "execution_count": 13,
   "metadata": {},
   "outputs": [
    {
     "name": "stdout",
     "output_type": "stream",
     "text": [
      "1\n",
      "4\n",
      "6\n",
      "8\n"
     ]
    }
   ],
   "source": [
    "lst = [1,4,6,8]\n",
    "for i in lst:\n",
    "    print(i)\n",
    "\n",
    "    "
   ]
  },
  {
   "cell_type": "code",
   "execution_count": 14,
   "metadata": {},
   "outputs": [
    {
     "name": "stdout",
     "output_type": "stream",
     "text": [
      "name\n",
      "33\n",
      "455\n",
      "harii\n"
     ]
    }
   ],
   "source": [
    "tpl = (\"name\",33,455,\"harii\")\n",
    "for i in tpl:\n",
    "    print(i)"
   ]
  },
  {
   "cell_type": "code",
   "execution_count": 15,
   "metadata": {},
   "outputs": [
    {
     "name": "stdout",
     "output_type": "stream",
     "text": [
      "1\n",
      "2\n",
      "3\n",
      "4\n",
      "5\n",
      "6\n",
      "7\n",
      "8\n",
      "9\n",
      "10\n",
      "11\n"
     ]
    }
   ],
   "source": [
    "for i in range(1,12):\n",
    "    print(i)"
   ]
  },
  {
   "cell_type": "code",
   "execution_count": 16,
   "metadata": {},
   "outputs": [
    {
     "name": "stdout",
     "output_type": "stream",
     "text": [
      "0\n",
      "1\n",
      "2\n",
      "3\n",
      "4\n",
      "5\n",
      "6\n",
      "7\n",
      "8\n",
      "9\n",
      "10\n",
      "11\n",
      "12\n",
      "13\n",
      "14\n",
      "15\n",
      "16\n",
      "17\n",
      "18\n",
      "19\n"
     ]
    }
   ],
   "source": [
    "i = 0\n",
    "while i<20:\n",
    "    print(i)\n",
    "    i+= 1"
   ]
  },
  {
   "cell_type": "code",
   "execution_count": 17,
   "metadata": {},
   "outputs": [],
   "source": [
    "i = 0\n",
    "while i >45:\n",
    "    print(\"HAA SHI HAI \" ,i)\n",
    "\n",
    "    i+=1"
   ]
  },
  {
   "cell_type": "markdown",
   "metadata": {},
   "source": [
    "# Function\n",
    " * That performs a specific task or a set of tasks and function allows modularity , reusability , abstraction.\n",
    " * types of function \n",
    "    * user define function \n",
    "    * pri define function(built define function)\n",
    "        ex- print(),len(), fillter,copy and etc function  "
   ]
  },
  {
   "cell_type": "markdown",
   "metadata": {},
   "source": [
    "#### Built  function"
   ]
  },
  {
   "cell_type": "code",
   "execution_count": 18,
   "metadata": {},
   "outputs": [
    {
     "name": "stdout",
     "output_type": "stream",
     "text": [
      "hello python \n"
     ]
    }
   ],
   "source": [
    "print(\"hello python \")"
   ]
  },
  {
   "cell_type": "code",
   "execution_count": 19,
   "metadata": {},
   "outputs": [
    {
     "data": {
      "text/plain": [
       "13"
      ]
     },
     "execution_count": 19,
     "metadata": {},
     "output_type": "execute_result"
    }
   ],
   "source": [
    "name = \"hello python \"\n",
    "len(name)"
   ]
  },
  {
   "cell_type": "markdown",
   "metadata": {},
   "source": [
    "### User define function \n",
    "jo apn banyenge "
   ]
  },
  {
   "cell_type": "code",
   "execution_count": 20,
   "metadata": {},
   "outputs": [
    {
     "name": "stdout",
     "output_type": "stream",
     "text": [
      "hello python \n"
     ]
    }
   ],
   "source": [
    "def hello():\n",
    "    print(\"hello python \")\n",
    "    \n",
    "hello()"
   ]
  },
  {
   "cell_type": "code",
   "execution_count": 21,
   "metadata": {},
   "outputs": [
    {
     "name": "stdout",
     "output_type": "stream",
     "text": [
      "father nane is : shree  and father age is  44\n",
      "  \n",
      "child name is : Ritik and child age is : 20\n"
     ]
    }
   ],
   "source": [
    "def father():\n",
    "    father_name = \"shree \"\n",
    "    father_age = 44\n",
    "    print(\"father nane is :\",father_name,\"and father age is \",father_age)\n",
    "    # print(father_name,father_age)\n",
    "def child():\n",
    "    child_name = \"Ritik\"\n",
    "    child_age = 20\n",
    "    print(\"child name is :\", child_name, \"and child age is :\",child_age)\n",
    "father()\n",
    "print(\"  \")\n",
    "child()"
   ]
  },
  {
   "cell_type": "markdown",
   "metadata": {},
   "source": [
    "### Parameters or Arguments\n",
    "    * jo apn function ke ander pass krte hai vo arguments \n",
    "    * and which is pass on when we are call of function that is call know as a parameters"
   ]
  },
  {
   "cell_type": "code",
   "execution_count": 22,
   "metadata": {},
   "outputs": [
    {
     "name": "stdout",
     "output_type": "stream",
     "text": [
      "Student`s name  Govind  , class :  3rd year  and sem is   6th sem\n"
     ]
    }
   ],
   "source": [
    "def school(name ,classes,sem ):\n",
    "    print(\"Student`s name \",name,\" , class : \",classes,\"and sem is  \",sem)\n",
    "school(\"Govind\",\"3rd year \",\"6th sem\")    \n"
   ]
  },
  {
   "cell_type": "code",
   "execution_count": 23,
   "metadata": {},
   "outputs": [],
   "source": [
    "# *args  eske ander apn ko tuple bnayenge \n",
    "# **kwargs eske andr apn dictonry banyenge  "
   ]
  },
  {
   "cell_type": "code",
   "execution_count": 24,
   "metadata": {},
   "outputs": [
    {
     "name": "stdout",
     "output_type": "stream",
     "text": [
      "my name is  govind\n"
     ]
    }
   ],
   "source": [
    "def hello(*kids):\n",
    "    print(\"my name is \",kids[0])\n",
    "hello(\"govind\",\"ritik\",\"himashu\")"
   ]
  },
  {
   "cell_type": "code",
   "execution_count": 25,
   "metadata": {},
   "outputs": [],
   "source": [
    "# def hello(**kid):\n",
    "#     print(\"my name is \",kid['classes'])\n",
    "# hello(\"govind\",\"ritik\",\"himashu\",clas = \"3rd year\")"
   ]
  },
  {
   "cell_type": "code",
   "execution_count": 26,
   "metadata": {},
   "outputs": [
    {
     "name": "stdout",
     "output_type": "stream",
     "text": [
      "His last name is Refsnes\n"
     ]
    }
   ],
   "source": [
    "def my_function(**kid):\n",
    "  print(\"His last name is \" + kid[\"lname\"])\n",
    "\n",
    "my_function(fname = \"Tobias\", lname = \"Refsnes\")"
   ]
  },
  {
   "cell_type": "code",
   "execution_count": 27,
   "metadata": {},
   "outputs": [
    {
     "name": "stdout",
     "output_type": "stream",
     "text": [
      "1\n",
      "3\n",
      "45\n",
      "6\n"
     ]
    }
   ],
   "source": [
    "# function with list \n",
    "def fruits(lst):\n",
    "\n",
    "    for i in lst:\n",
    "        print(i)\n",
    "lst = [1,3,45,6]\n",
    "       \n",
    "fruits(lst)"
   ]
  },
  {
   "cell_type": "code",
   "execution_count": 28,
   "metadata": {},
   "outputs": [
    {
     "name": "stdout",
     "output_type": "stream",
     "text": [
      "ritik\n",
      "babu\n",
      "451\n"
     ]
    }
   ],
   "source": [
    "def tpl(tpl1):\n",
    "    for x in tpl1:\n",
    "        print(x)\n",
    "tpl1 = (\"ritik\",\"babu\",451) \n",
    "\n",
    "tpl(tpl1)"
   ]
  },
  {
   "cell_type": "markdown",
   "metadata": {},
   "source": [
    "we are not acces of dict (wit values  )\n",
    "function are not acces of dict"
   ]
  },
  {
   "cell_type": "code",
   "execution_count": 29,
   "metadata": {},
   "outputs": [
    {
     "name": "stdout",
     "output_type": "stream",
     "text": [
      "name\n",
      "classes\n"
     ]
    }
   ],
   "source": [
    "def dict_function(dct):\n",
    "    for x in dct:\n",
    "        print(x)\n",
    "dct = {\"name\":'govind',\"classes\":'3rd year'}\n",
    "    # pass\n",
    "dict_function(dct)"
   ]
  },
  {
   "cell_type": "code",
   "execution_count": 30,
   "metadata": {},
   "outputs": [
    {
     "name": "stdout",
     "output_type": "stream",
     "text": [
      "4\n",
      "5\n",
      "7\n",
      "10\n",
      "9\n"
     ]
    }
   ],
   "source": [
    "def set_function(sit):\n",
    "    for x in sit:\n",
    "\n",
    "        print(x)\n",
    "sit = [4,5,7,10,9]\n",
    "\n",
    "\n",
    "    # pass\n",
    "set_function(sit)"
   ]
  },
  {
   "cell_type": "markdown",
   "metadata": {},
   "source": [
    "### EXCEPTIONAL HANDLING\n",
    "* Handle errors or exceptional situations that may occur during the execution of a program.\n",
    "* The key components of exception handling in Python are :\n",
    "\n",
    "\n",
    "            * try\n",
    "            * except\n",
    "            * else\n",
    "            * finally \n",
    "\n"
   ]
  },
  {
   "cell_type": "code",
   "execution_count": 31,
   "metadata": {},
   "outputs": [
    {
     "name": "stdout",
     "output_type": "stream",
     "text": [
      "Welcome to HDFC account\n",
      " \n",
      "I hope you are so  happy \n",
      " \n",
      "Thank for Visiting HDFC Bank\n"
     ]
    }
   ],
   "source": [
    "# Atm_system\n",
    "try :\n",
    "    int(input(\"Enter you pin \")) \n",
    "\n",
    "    print(\"Welcome to HDFC account\")\n",
    "    print(\" \")\n",
    "except:\n",
    "    print(\"Do not insert Alphabats \")\n",
    "    print(\" \")\n",
    "else:\n",
    "    print(\"I hope you are so  happy \")\n",
    "    print(\" \")\n",
    "finally:\n",
    "    print(\"Thank for Visiting HDFC Bank\")\n",
    "\n"
   ]
  },
  {
   "cell_type": "code",
   "execution_count": null,
   "metadata": {},
   "outputs": [],
   "source": []
  }
 ],
 "metadata": {
  "kernelspec": {
   "display_name": "Python 3",
   "language": "python",
   "name": "python3"
  },
  "language_info": {
   "codemirror_mode": {
    "name": "ipython",
    "version": 3
   },
   "file_extension": ".py",
   "mimetype": "text/x-python",
   "name": "python",
   "nbconvert_exporter": "python",
   "pygments_lexer": "ipython3",
   "version": "3.12.3"
  }
 },
 "nbformat": 4,
 "nbformat_minor": 2
}
