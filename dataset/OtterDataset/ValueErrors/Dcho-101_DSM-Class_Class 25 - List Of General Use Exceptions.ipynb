{
 "cells": [
  {
   "cell_type": "code",
   "execution_count": 1,
   "id": "4af94eb2-cc17-4943-8ce7-a62f153508ac",
   "metadata": {},
   "outputs": [
    {
     "name": "stdout",
     "output_type": "stream",
     "text": [
      "invalid literal for int() with base 10: 'dip'\n"
     ]
    }
   ],
   "source": [
    "try :\n",
    "    a = int(\"dip\")\n",
    "    \n",
    "except (ValueError, TypeError) as e :\n",
    "    print(e)"
   ]
  },
  {
   "cell_type": "code",
   "execution_count": 2,
   "id": "44a8695c-396d-42b9-b100-dc82c1a26e0d",
   "metadata": {},
   "outputs": [
    {
     "name": "stdout",
     "output_type": "stream",
     "text": [
      "this will print an error\n"
     ]
    }
   ],
   "source": [
    "# if you don't know the type of error\n",
    "\n",
    "try :\n",
    "    int(\"dip\")\n",
    "    \n",
    "except :\n",
    "    print(\"this will print an error\")"
   ]
  },
  {
   "cell_type": "code",
   "execution_count": null,
   "id": "d2cc5d46-6e85-4150-b29f-f110f4364877",
   "metadata": {},
   "outputs": [],
   "source": []
  },
  {
   "cell_type": "code",
   "execution_count": 3,
   "id": "064ec7c8-4771-4c79-a27d-dee06027caf9",
   "metadata": {},
   "outputs": [
    {
     "name": "stdout",
     "output_type": "stream",
     "text": [
      "No module named 'dip'\n"
     ]
    }
   ],
   "source": [
    "try :\n",
    "    import dip\n",
    "    \n",
    "except ImportError as i :\n",
    "    print(i)"
   ]
  },
  {
   "cell_type": "code",
   "execution_count": 4,
   "id": "7955abb1-7d87-427a-afff-eed1fc1fddd9",
   "metadata": {},
   "outputs": [
    {
     "name": "stdout",
     "output_type": "stream",
     "text": [
      "'str' object has no attribute 'test'\n"
     ]
    }
   ],
   "source": [
    "try :\n",
    "    \"dip\".test()\n",
    "    \n",
    "except AttributeError as a :\n",
    "    print(a)"
   ]
  },
  {
   "cell_type": "code",
   "execution_count": null,
   "id": "524e47ef-7e84-43d7-b18a-0a2d73a75df8",
   "metadata": {},
   "outputs": [],
   "source": []
  }
 ],
 "metadata": {
  "kernelspec": {
   "display_name": "Python 3 (ipykernel)",
   "language": "python",
   "name": "python3"
  },
  "language_info": {
   "codemirror_mode": {
    "name": "ipython",
    "version": 3
   },
   "file_extension": ".py",
   "mimetype": "text/x-python",
   "name": "python",
   "nbconvert_exporter": "python",
   "pygments_lexer": "ipython3",
   "version": "3.10.8"
  }
 },
 "nbformat": 4,
 "nbformat_minor": 5
}
