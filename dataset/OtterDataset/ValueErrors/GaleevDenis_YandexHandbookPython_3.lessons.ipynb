{
 "cells": [
  {
   "cell_type": "code",
   "execution_count": null,
   "metadata": {},
   "outputs": [],
   "source": [
    "saved_pwd = \"right_password\"\n",
    "while input(\"Введите пароль для входа: \") != saved_pwd:\n",
    "    pass\n",
    "print(\"Пароль верный. Вход разрешен.\")"
   ]
  },
  {
   "cell_type": "code",
   "execution_count": null,
   "metadata": {},
   "outputs": [],
   "source": [
    "name = input(\"Введите имя: \")\n",
    "while name != \"СТОП\":\n",
    "    print(f\"Привет, {name}\")\n",
    "    name = input(\"Введите имя: \")\n",
    "print(\"Программа завершена\")"
   ]
  },
  {
   "cell_type": "code",
   "execution_count": null,
   "metadata": {},
   "outputs": [],
   "source": [
    "while (name := input(\"Введите имя: \")) != \"СТОП\":\n",
    "    print(f\"Привет, {name}\")\n",
    "print(\"Программа завершена\")"
   ]
  },
  {
   "cell_type": "code",
   "execution_count": null,
   "metadata": {},
   "outputs": [],
   "source": [
    "range(k, n, s) # возвращает диапазон целых чисел от k до n - 1 с шагом s. "
   ]
  },
  {
   "cell_type": "code",
   "execution_count": null,
   "metadata": {},
   "outputs": [],
   "source": [
    "while (number := input()) != \"Три!\": # Пока не введено три, пишет режим ожидания\n",
    "    print(\"Режим ожидания...\")\n",
    "else:\n",
    "    print(\"Ёлочка, гори!\")"
   ]
  },
  {
   "cell_type": "code",
   "execution_count": null,
   "metadata": {},
   "outputs": [],
   "source": [
    "k = 0 # считает строки в которых есть зайка, до строки приехали\n",
    "while (stop := input()) != \"Приехали!\":\n",
    "    if stop.count(\"зайка\") > 0:\n",
    "        k = k + 1\n",
    "print(k)"
   ]
  },
  {
   "cell_type": "code",
   "execution_count": null,
   "metadata": {},
   "outputs": [],
   "source": [
    "a = int(input()) # считает цифры от а до б(включительно) через 1\n",
    "b = int(input())\n",
    "k = \"\"\n",
    "if a > b:\n",
    "    for i in range(a, b - 1, -1):\n",
    "        k = k + \" \" + str(i)\n",
    "else:\n",
    "    for i in range(a, b + 1):\n",
    "        k = k + \" \" + str(i)\n",
    "print(k[1:])"
   ]
  },
  {
   "cell_type": "code",
   "execution_count": null,
   "metadata": {},
   "outputs": [],
   "source": [
    "k = 0 # сумма цена на товары если товар >= 500 то cкидка 10% на этот товар, до 0\n",
    "while (price := float(input())) != 0:\n",
    "    if price >= 500:\n",
    "        k = k + price * 0.9\n",
    "    else:\n",
    "        k = k + price\n",
    "print(k)"
   ]
  },
  {
   "cell_type": "code",
   "execution_count": null,
   "metadata": {},
   "outputs": [],
   "source": [
    "a = int(input()) # поиск НОД(наибольший общий делитель) двух чисел\n",
    "b = int(input())\n",
    "k = 0\n",
    "if a > b:\n",
    "    while a % b != 0:\n",
    "        k = b\n",
    "        b = a % b\n",
    "        a = k\n",
    "    print(b)\n",
    "else:\n",
    "    while b % a != 0:\n",
    "        k = a\n",
    "        a = b % a\n",
    "        b = k\n",
    "    print(a)"
   ]
  },
  {
   "cell_type": "code",
   "execution_count": null,
   "metadata": {},
   "outputs": [],
   "source": [
    "a = int(input()) # поиск НОК(наибольший общий делитель) двух чисел\n",
    "b = int(input())\n",
    "a1 = a\n",
    "b1 = b\n",
    "k = 0\n",
    "if a > b:\n",
    "    while a % b != 0:\n",
    "        k = b\n",
    "        b = a % b\n",
    "        a = k\n",
    "    k = (a1 * b1) / b\n",
    "    print(int(k))\n",
    "else:\n",
    "    while b % a != 0:\n",
    "        k = a\n",
    "        a = b % a\n",
    "        b = k\n",
    "    k = (a1 * b1) / a\n",
    "    print(int(k))"
   ]
  },
  {
   "cell_type": "code",
   "execution_count": null,
   "metadata": {},
   "outputs": [],
   "source": [
    "a = input() # введенная информация повторяется b раз\n",
    "b = int(input())\n",
    "for i in range(b - 1):\n",
    "    print(a, sep=\"/n\")\n",
    "print(a)"
   ]
  },
  {
   "cell_type": "code",
   "execution_count": null,
   "metadata": {},
   "outputs": [],
   "source": [
    "a = int(input()) # факториал натурального числа\n",
    "k = 1\n",
    "for i in range(1, a + 1):\n",
    "    k = k * i\n",
    "print(k)"
   ]
  },
  {
   "cell_type": "code",
   "execution_count": null,
   "metadata": {},
   "outputs": [],
   "source": [
    "x = 0 # нахождение координаты на плоскости\n",
    "y = 0\n",
    "while (napr := input()) != \"СТОП\":\n",
    "    k = int(input())\n",
    "    if napr == \"СЕВЕР\":\n",
    "        y = y + k\n",
    "    elif napr == \"ЮГ\":\n",
    "        y = y - k\n",
    "    elif napr == \"ВОСТОК\":\n",
    "        x = x + k\n",
    "    elif napr == \"ЗАПАД\":\n",
    "        x = x - k\n",
    "print(y)\n",
    "print(x)"
   ]
  },
  {
   "cell_type": "code",
   "execution_count": null,
   "metadata": {},
   "outputs": [],
   "source": [
    "a = str(input()) # сумма всех цифр в числе\n",
    "k = 0\n",
    "for i in range(len(a)):\n",
    "    k = k + int(a[i])\n",
    "print(k)"
   ]
  },
  {
   "cell_type": "code",
   "execution_count": null,
   "metadata": {},
   "outputs": [],
   "source": [
    "a = str(input()) # макс цифра в числе\n",
    "k = 0\n",
    "for i in range(len(a)):\n",
    "    if k < int(a[i]):\n",
    "        k = int(a[i])\n",
    "print(k)"
   ]
  },
  {
   "cell_type": "code",
   "execution_count": null,
   "metadata": {},
   "outputs": [],
   "source": [
    "a = int(input()) # нахождение min имени\n",
    "k = \"\"\n",
    "for i in range(a):\n",
    "    b = input()\n",
    "    if len(k) == 0 or k > b:\n",
    "        k = b\n",
    "print(k)"
   ]
  },
  {
   "cell_type": "code",
   "execution_count": null,
   "metadata": {},
   "outputs": [],
   "source": [
    "a = int(input())\n",
    "if a == 1:\n",
    "    print(\"NO\")\n",
    "elif a == 2 or a == 3 or a == 5 or a == 7:\n",
    "    print(\"YES\")\n",
    "elif a % 2 != 0 and a % 3 != 0:\n",
    "    print(\"YES\")\n",
    "else:\n",
    "    print(\"NO\")"
   ]
  },
  {
   "cell_type": "code",
   "execution_count": null,
   "metadata": {},
   "outputs": [],
   "source": [
    "a = int(input())\n",
    "k = 0\n",
    "for i in range(a):\n",
    "    b = input()\n",
    "    if b.count(\"зайка\") >= 1:\n",
    "        k = k + 1\n",
    "print(k)"
   ]
  },
  {
   "cell_type": "code",
   "execution_count": null,
   "metadata": {},
   "outputs": [],
   "source": [
    "a = str(input()) #Проверка на паллиндром\n",
    "k = 0\n",
    "for i in range(1, len(a) + 1):\n",
    "    if a[i - 1] == a[-i]:\n",
    "        k = k + 1\n",
    "if k == len(a):\n",
    "    print(\"YES\")\n",
    "else:\n",
    "    print(\"NO\")"
   ]
  },
  {
   "cell_type": "code",
   "execution_count": null,
   "metadata": {},
   "outputs": [],
   "source": [
    "a = str(input())\n",
    "k = \"\"\n",
    "for i in range(len(a)):\n",
    "    if int(a[i]) % 2 != 0:\n",
    "        k = k + str(a[i])\n",
    "print(k)"
   ]
  },
  {
   "cell_type": "code",
   "execution_count": null,
   "metadata": {},
   "outputs": [],
   "source": [
    "a = int(input())\n",
    "while a % 2 != 0:\n",
    "    pass"
   ]
  },
  {
   "cell_type": "code",
   "execution_count": 35,
   "metadata": {},
   "outputs": [
    {
     "name": "stdout",
     "output_type": "stream",
     "text": [
      "2 * 7 * 7\n"
     ]
    }
   ],
   "source": [
    "a = int(input()) # Выводит математическое выражение — произведение простых неубывающих чисел, которое в результате даёт исходное.\n",
    "k = 0\n",
    "d = 2\n",
    "e = 1\n",
    "z = \"\"\n",
    "while a / e != 1:\n",
    "    if a % d != 0:\n",
    "        d = d + 1\n",
    "        e = d\n",
    "    else:\n",
    "        a = a / d\n",
    "        e = d\n",
    "        z = z + str(e) + \" * \"\n",
    "print(z + str(e))"
   ]
  },
  {
   "cell_type": "code",
   "execution_count": null,
   "metadata": {},
   "outputs": [],
   "source": [
    "print(5/3)"
   ]
  },
  {
   "cell_type": "code",
   "execution_count": null,
   "metadata": {},
   "outputs": [],
   "source": [
    "d = 500 # Бинарная сортировка На каждую попытку пользователь отвечает одной из фраз: Больше. Меньше. Угадал! от 1 до 1000ё\n",
    "w = 1\n",
    "z = 1000\n",
    "p = 0\n",
    "print(d)\n",
    "while (k := input()) != \"Угадал!\":\n",
    "    match k:\n",
    "        case \"Больше\":\n",
    "            w = d # Нижний ограничитель\n",
    "            p = (z - w) // 2\n",
    "            d = z - p\n",
    "            print(d)\n",
    "        case \"Меньше\":\n",
    "            z = d # Верхний ограничитель\n",
    "            p = (z - w) // 2\n",
    "            d = w + p\n",
    "            print(d)"
   ]
  },
  {
   "cell_type": "code",
   "execution_count": null,
   "metadata": {},
   "outputs": [],
   "source": [
    "# A решена\n",
    "\n",
    "while (number := str(input())) != 'Три!':\n",
    "    print('Режим ожидания...')\n",
    "print('Ёлочка, гори!')"
   ]
  },
  {
   "cell_type": "code",
   "execution_count": null,
   "metadata": {},
   "outputs": [],
   "source": [
    "# B решена\n",
    "\n",
    "number = 0\n",
    "while (text := str(input())) != 'Приехали!':\n",
    "    if 'зайка' in text:\n",
    "        number = number + 1\n",
    "print(number)"
   ]
  },
  {
   "cell_type": "code",
   "execution_count": null,
   "metadata": {},
   "outputs": [],
   "source": [
    "# C решена\n",
    "\n",
    "a = int(input())\n",
    "b = int(input())\n",
    "text = []\n",
    "for i in range(a, b + 1):\n",
    "    text.append(str(i))\n",
    "print(\" \".join(text))"
   ]
  },
  {
   "cell_type": "code",
   "execution_count": null,
   "metadata": {},
   "outputs": [],
   "source": [
    "# D решена\n",
    "\n",
    "a = int(input())\n",
    "b = int(input())\n",
    "text = []\n",
    "if a < b:\n",
    "    for i in range(a, b + 1):\n",
    "        text.append(str(i))\n",
    "else:\n",
    "    for i in range(a, b - 1, -1):\n",
    "        text.append(str(i))\n",
    "print(\" \".join(text))"
   ]
  },
  {
   "cell_type": "code",
   "execution_count": null,
   "metadata": {},
   "outputs": [],
   "source": [
    "# E решена\n",
    "\n",
    "sum_price = 0.0\n",
    "while (price := float(input())) != 0.0:\n",
    "    if price >= 500.0:\n",
    "        sum_price = sum_price + price * 0.9\n",
    "    else:\n",
    "        sum_price = sum_price + price\n",
    "print(sum_price)"
   ]
  },
  {
   "cell_type": "code",
   "execution_count": 1,
   "metadata": {},
   "outputs": [
    {
     "name": "stdout",
     "output_type": "stream",
     "text": [
      "6\n"
     ]
    }
   ],
   "source": [
    "# F решена\n",
    "\n",
    "a = int(input())\n",
    "b = int(input())\n",
    "while a != 0 and b != 0:\n",
    "    if a > b:\n",
    "        a = a % b\n",
    "    elif a < b:\n",
    "        b = b % a\n",
    "print(max(a, b))"
   ]
  },
  {
   "cell_type": "code",
   "execution_count": 8,
   "metadata": {},
   "outputs": [
    {
     "name": "stdout",
     "output_type": "stream",
     "text": [
      "320000\n"
     ]
    }
   ],
   "source": [
    "# G решена (НОК)\n",
    "\n",
    "listi = sorted([int(input()) for i in range(2)])\n",
    "listi_1 = listi[1]\n",
    "while listi[1] % listi[0] != 0:\n",
    "    listi[1] = listi[1] + listi_1\n",
    "print(listi[1])"
   ]
  },
  {
   "cell_type": "code",
   "execution_count": 14,
   "metadata": {},
   "outputs": [
    {
     "name": "stdout",
     "output_type": "stream",
     "text": [
      "2 + 2 = 4\n",
      "2 + 2 = 4\n",
      "2 + 2 = 4\n"
     ]
    }
   ],
   "source": [
    "# H решена\n",
    "\n",
    "text = str(input())\n",
    "remember = int(input())\n",
    "for i in range(remember):\n",
    "    print(text)"
   ]
  },
  {
   "cell_type": "code",
   "execution_count": 17,
   "metadata": {},
   "outputs": [
    {
     "name": "stdout",
     "output_type": "stream",
     "text": [
      "120\n"
     ]
    }
   ],
   "source": [
    "# I решена\n",
    "\n",
    "number = int(input())\n",
    "answer = 1\n",
    "if number != 0:\n",
    "    for i in range(1, number + 1):\n",
    "        answer = i * answer\n",
    "        if i == number:\n",
    "            print(answer)\n",
    "else:\n",
    "    print(1)"
   ]
  },
  {
   "cell_type": "code",
   "execution_count": 19,
   "metadata": {},
   "outputs": [
    {
     "name": "stdout",
     "output_type": "stream",
     "text": [
      "-4\n",
      "-1\n"
     ]
    }
   ],
   "source": [
    "# J решена\n",
    "\n",
    "coord = [0, 0]\n",
    "while (text := str(input())) != 'СТОП':\n",
    "    number = int(input())\n",
    "    if text == 'СЕВЕР':\n",
    "        coord[1] = coord[1] + number\n",
    "    elif text == 'ЮГ':\n",
    "        coord[1] = coord[1] - number\n",
    "    elif text == 'ВОСТОК':\n",
    "        coord[0] = coord[0] + number\n",
    "    elif text == 'ЗАПАД':\n",
    "        coord[0] = coord[0] - number\n",
    "print(coord[1])\n",
    "print(coord[0])"
   ]
  },
  {
   "cell_type": "code",
   "execution_count": 29,
   "metadata": {},
   "outputs": [
    {
     "name": "stdout",
     "output_type": "stream",
     "text": [
      "15\n"
     ]
    }
   ],
   "source": [
    "# K решена\n",
    "\n",
    "number = str(input())\n",
    "number_list = list(\"\".join((number)))\n",
    "print(sum([int(q) for q in number_list]))"
   ]
  },
  {
   "cell_type": "code",
   "execution_count": 30,
   "metadata": {},
   "outputs": [
    {
     "name": "stdout",
     "output_type": "stream",
     "text": [
      "5\n"
     ]
    }
   ],
   "source": [
    "# L решена\n",
    "\n",
    "number = str(input())\n",
    "number_list = list(\"\".join((number)))\n",
    "print(max([int(q) for q in number_list]))"
   ]
  },
  {
   "cell_type": "code",
   "execution_count": 32,
   "metadata": {},
   "outputs": [
    {
     "name": "stdout",
     "output_type": "stream",
     "text": [
      "Аня\n"
     ]
    }
   ],
   "source": [
    "# M решена\n",
    "\n",
    "number = int(input())\n",
    "name_min = ''\n",
    "for i in range(number):\n",
    "    name = input()\n",
    "    if name < name_min or name_min == '':\n",
    "        name_min = name\n",
    "print(name_min)"
   ]
  },
  {
   "cell_type": "code",
   "execution_count": 30,
   "metadata": {},
   "outputs": [
    {
     "ename": "ValueError",
     "evalue": "invalid literal for int() with base 10: ''",
     "output_type": "error",
     "traceback": [
      "\u001b[1;31m---------------------------------------------------------------------------\u001b[0m",
      "\u001b[1;31mValueError\u001b[0m                                Traceback (most recent call last)",
      "Cell \u001b[1;32mIn[30], line 3\u001b[0m\n\u001b[0;32m      1\u001b[0m \u001b[38;5;66;03m# N не решена\u001b[39;00m\n\u001b[1;32m----> 3\u001b[0m number \u001b[38;5;241m=\u001b[39m \u001b[38;5;28;43mint\u001b[39;49m\u001b[43m(\u001b[49m\u001b[38;5;28;43minput\u001b[39;49m\u001b[43m(\u001b[49m\u001b[43m)\u001b[49m\u001b[43m)\u001b[49m\n\u001b[0;32m      5\u001b[0m \u001b[38;5;28;01mif\u001b[39;00m number \u001b[38;5;241m!=\u001b[39m \u001b[38;5;241m1\u001b[39m:\n\u001b[0;32m      6\u001b[0m     \u001b[38;5;28;01mif\u001b[39;00m (number \u001b[38;5;241m==\u001b[39m \u001b[38;5;241m2\u001b[39m) \u001b[38;5;129;01mor\u001b[39;00m (number \u001b[38;5;241m%\u001b[39m \u001b[38;5;241m2\u001b[39m \u001b[38;5;241m!=\u001b[39m \u001b[38;5;241m0\u001b[39m):\n",
      "\u001b[1;31mValueError\u001b[0m: invalid literal for int() with base 10: ''"
     ]
    }
   ],
   "source": [
    "# N не решена\n",
    "\n",
    "number = int(input())\n",
    "\n",
    "if number != 1:\n",
    "    if (number == 2) or (number % 2 != 0):\n",
    "        if (number == 3) or (number % 3 != 0):\n",
    "            if (number == 5) or (number % 5 != 0):\n",
    "                if (number == 7) or (number % 7 != 0):\n",
    "                    print('YES')\n",
    "                else:\n",
    "                    print('NO')\n",
    "            else:\n",
    "                print('NO')\n",
    "        else:\n",
    "            print('NO')\n",
    "    else:\n",
    "        print('NO')\n",
    "else:\n",
    "    print('NO')"
   ]
  },
  {
   "cell_type": "code",
   "execution_count": 99,
   "metadata": {},
   "outputs": [
    {
     "name": "stdout",
     "output_type": "stream",
     "text": [
      "1\n"
     ]
    }
   ],
   "source": [
    "# O решена\n",
    "\n",
    "number = int(input())\n",
    "number_rab = 0\n",
    "for i in range(number):\n",
    "    if 'зайка' in input():\n",
    "        number_rab += 1\n",
    "print(number_rab)"
   ]
  },
  {
   "cell_type": "code",
   "execution_count": 125,
   "metadata": {},
   "outputs": [
    {
     "name": "stdout",
     "output_type": "stream",
     "text": [
      "YES\n"
     ]
    }
   ],
   "source": [
    "# P решена\n",
    "\n",
    "num = [str(q) for q in \"\".join(str(input()))]\n",
    "num_rev = list(reversed(num))\n",
    "if num == num_rev:\n",
    "    print('YES')\n",
    "else:\n",
    "    print('NO')"
   ]
  },
  {
   "cell_type": "code",
   "execution_count": 163,
   "metadata": {},
   "outputs": [
    {
     "name": "stdout",
     "output_type": "stream",
     "text": [
      "\n"
     ]
    }
   ],
   "source": [
    "# Q решена\n",
    "\n",
    "num = [int(q) for q in \"\".join(str(input()))]\n",
    "num_clear = ''\n",
    "for i in num:\n",
    "    if i % 2 != 0:\n",
    "        num_clear += str(i)\n",
    "print(num_clear)"
   ]
  },
  {
   "cell_type": "code",
   "execution_count": 34,
   "metadata": {},
   "outputs": [
    {
     "name": "stdout",
     "output_type": "stream",
     "text": [
      "2 * 2 * 2 * 2 * 2 * 5 * 7\n"
     ]
    }
   ],
   "source": [
    "# R не решена\n",
    "\n",
    "number = int(input())\n",
    "\n",
    "answer = ''\n",
    "\n",
    "while int(number) != 1:\n",
    "    if int(number) % 2 == 0:\n",
    "        answer = answer + ' 2 *'\n",
    "        number = int(number) / 2\n",
    "    elif int(number) % 3 == 0:\n",
    "        answer = answer + ' 3 *'\n",
    "        number = int(number) / 3\n",
    "    elif int(number) % 5 == 0:\n",
    "        answer = answer + ' 5 *'\n",
    "        number = int(number) / 5\n",
    "    elif int(number) % 7 == 0:\n",
    "        answer = answer + ' 7 *'\n",
    "        number = int(number) / 7\n",
    "    elif int(number) % 11 == 0:\n",
    "        answer = answer + ' 11 *'\n",
    "        number = int(number) / 11\n",
    "    elif int(number) % 13 == 0:\n",
    "        answer = answer + ' 13 *'\n",
    "        number = int(number) / 13\n",
    "print(answer[1:len(answer[:-2])])"
   ]
  },
  {
   "cell_type": "code",
   "execution_count": 5,
   "metadata": {},
   "outputs": [
    {
     "name": "stdout",
     "output_type": "stream",
     "text": [
      "500\n",
      "250\n",
      "125\n",
      "63\n",
      "94\n",
      "109\n",
      "117\n",
      "121\n",
      "123\n",
      "122\n",
      "122\n"
     ]
    }
   ],
   "source": [
    "# S решено\n",
    "\n",
    "number = 500\n",
    "number_min = 1\n",
    "number_max = 1000\n",
    "print(number)\n",
    "while (k := input()) != 'Угадал!':\n",
    "    if k == \"Больше\":\n",
    "        if number % 2 == 0:\n",
    "            number_min = number\n",
    "        else:\n",
    "            number_min = number + 1\n",
    "        number = (number_max + number_min) // 2\n",
    "    else:\n",
    "        number_max = number\n",
    "        number = (number_max + number_min) // 2\n",
    "    print(number)"
   ]
  },
  {
   "cell_type": "code",
   "execution_count": null,
   "metadata": {},
   "outputs": [],
   "source": []
  }
 ],
 "metadata": {
  "kernelspec": {
   "display_name": "base",
   "language": "python",
   "name": "python3"
  },
  "language_info": {
   "codemirror_mode": {
    "name": "ipython",
    "version": 3
   },
   "file_extension": ".py",
   "mimetype": "text/x-python",
   "name": "python",
   "nbconvert_exporter": "python",
   "pygments_lexer": "ipython3",
   "version": "3.11.9"
  },
  "orig_nbformat": 4
 },
 "nbformat": 4,
 "nbformat_minor": 2
}
