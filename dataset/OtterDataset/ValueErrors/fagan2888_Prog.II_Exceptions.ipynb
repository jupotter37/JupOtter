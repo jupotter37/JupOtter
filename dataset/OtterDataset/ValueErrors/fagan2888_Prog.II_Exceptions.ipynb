{
 "cells": [
  {
   "cell_type": "markdown",
   "metadata": {},
   "source": [
    "## Exceptions"
   ]
  },
  {
   "cell_type": "markdown",
   "metadata": {},
   "source": [
    "[Folha 10 problems](#problems)"
   ]
  },
  {
   "cell_type": "markdown",
   "metadata": {},
   "source": [
    "### Basic Stuff"
   ]
  },
  {
   "cell_type": "code",
   "execution_count": 1,
   "metadata": {
    "collapsed": false
   },
   "outputs": [
    {
     "ename": "IndexError",
     "evalue": "list index out of range",
     "output_type": "error",
     "traceback": [
      "\u001b[1;31m---------------------------------------------------------------------------\u001b[0m",
      "\u001b[1;31mIndexError\u001b[0m                                Traceback (most recent call last)",
      "\u001b[1;32m<ipython-input-1-f6bbb9c6b5b8>\u001b[0m in \u001b[0;36m<module>\u001b[1;34m()\u001b[0m\n\u001b[0;32m      1\u001b[0m \u001b[0mtest\u001b[0m \u001b[1;33m=\u001b[0m \u001b[1;33m[\u001b[0m\u001b[1;36m1\u001b[0m\u001b[1;33m,\u001b[0m\u001b[1;36m2\u001b[0m\u001b[1;33m,\u001b[0m\u001b[1;36m3\u001b[0m\u001b[1;33m]\u001b[0m\u001b[1;33m\u001b[0m\u001b[0m\n\u001b[1;32m----> 2\u001b[1;33m \u001b[0mtest\u001b[0m\u001b[1;33m[\u001b[0m\u001b[1;36m3\u001b[0m\u001b[1;33m]\u001b[0m\u001b[1;33m\u001b[0m\u001b[0m\n\u001b[0m",
      "\u001b[1;31mIndexError\u001b[0m: list index out of range"
     ]
    }
   ],
   "source": [
    "test = [1,2,3]\n",
    "test[3]"
   ]
  },
  {
   "cell_type": "code",
   "execution_count": 2,
   "metadata": {
    "collapsed": false
   },
   "outputs": [
    {
     "name": "stdout",
     "output_type": "stream",
     "text": [
      "index not valid\n"
     ]
    }
   ],
   "source": [
    "test = [1,2,3]\n",
    "\n",
    "try:\n",
    "    test[3]\n",
    "except IndexError:\n",
    "    print 'index not valid'"
   ]
  },
  {
   "cell_type": "code",
   "execution_count": 3,
   "metadata": {
    "collapsed": true
   },
   "outputs": [],
   "source": [
    "def sumDigits(s):\n",
    "    \"\"\"Assumes s is a string\n",
    "    Returns the sum of the decimal digits in s\n",
    "    For example, if s is 'a2b3c' it returns 5\"\"\"\n",
    "    \n",
    "    digitSum = 0\n",
    "    for d in s:\n",
    "        digitSum += int(d)\n",
    "    return digitSum"
   ]
  },
  {
   "cell_type": "code",
   "execution_count": 4,
   "metadata": {
    "collapsed": false
   },
   "outputs": [
    {
     "name": "stdout",
     "output_type": "stream",
     "text": [
      "8\n"
     ]
    },
    {
     "ename": "ValueError",
     "evalue": "invalid literal for int() with base 10: 'a'",
     "output_type": "error",
     "traceback": [
      "\u001b[1;31m---------------------------------------------------------------------------\u001b[0m",
      "\u001b[1;31mValueError\u001b[0m                                Traceback (most recent call last)",
      "\u001b[1;32m<ipython-input-4-f02d8a5f9b0a>\u001b[0m in \u001b[0;36m<module>\u001b[1;34m()\u001b[0m\n\u001b[0;32m      1\u001b[0m \u001b[1;32mprint\u001b[0m \u001b[0msumDigits\u001b[0m\u001b[1;33m(\u001b[0m\u001b[1;34m'143'\u001b[0m\u001b[1;33m)\u001b[0m\u001b[1;33m\u001b[0m\u001b[0m\n\u001b[1;32m----> 2\u001b[1;33m \u001b[1;32mprint\u001b[0m \u001b[0msumDigits\u001b[0m\u001b[1;33m(\u001b[0m\u001b[1;34m'14a'\u001b[0m\u001b[1;33m)\u001b[0m\u001b[1;33m\u001b[0m\u001b[0m\n\u001b[0m",
      "\u001b[1;32m<ipython-input-3-d14966447316>\u001b[0m in \u001b[0;36msumDigits\u001b[1;34m(s)\u001b[0m\n\u001b[0;32m      6\u001b[0m     \u001b[0mdigitSum\u001b[0m \u001b[1;33m=\u001b[0m \u001b[1;36m0\u001b[0m\u001b[1;33m\u001b[0m\u001b[0m\n\u001b[0;32m      7\u001b[0m     \u001b[1;32mfor\u001b[0m \u001b[0md\u001b[0m \u001b[1;32min\u001b[0m \u001b[0ms\u001b[0m\u001b[1;33m:\u001b[0m\u001b[1;33m\u001b[0m\u001b[0m\n\u001b[1;32m----> 8\u001b[1;33m         \u001b[0mdigitSum\u001b[0m \u001b[1;33m+=\u001b[0m \u001b[0mint\u001b[0m\u001b[1;33m(\u001b[0m\u001b[0md\u001b[0m\u001b[1;33m)\u001b[0m\u001b[1;33m\u001b[0m\u001b[0m\n\u001b[0m\u001b[0;32m      9\u001b[0m     \u001b[1;32mreturn\u001b[0m \u001b[0mdigitSum\u001b[0m\u001b[1;33m\u001b[0m\u001b[0m\n",
      "\u001b[1;31mValueError\u001b[0m: invalid literal for int() with base 10: 'a'"
     ]
    }
   ],
   "source": [
    "print sumDigits('143')\n",
    "print sumDigits('14a')"
   ]
  },
  {
   "cell_type": "code",
   "execution_count": 5,
   "metadata": {
    "collapsed": false
   },
   "outputs": [],
   "source": [
    "def sumDigits(s):\n",
    "    \"\"\"Assumes s is a string\n",
    "    Returns the sum of the decimal digits in s\n",
    "    For example, if s is 'a2b3c' it returns 5\"\"\"\n",
    "    \n",
    "    digitSum = 0\n",
    "    for d in s:\n",
    "        try:\n",
    "            digitSum += int(d)\n",
    "        except ValueError:\n",
    "            pass\n",
    "    return digitSum"
   ]
  },
  {
   "cell_type": "code",
   "execution_count": 6,
   "metadata": {
    "collapsed": false
   },
   "outputs": [
    {
     "name": "stdout",
     "output_type": "stream",
     "text": [
      "8\n",
      "5\n"
     ]
    }
   ],
   "source": [
    "print sumDigits('143')\n",
    "print sumDigits('14a')"
   ]
  },
  {
   "cell_type": "markdown",
   "metadata": {},
   "source": [
    "Robust function to read an int"
   ]
  },
  {
   "cell_type": "code",
   "execution_count": 2,
   "metadata": {
    "collapsed": true
   },
   "outputs": [],
   "source": [
    "def readIntRobust():\n",
    "    valid = False\n",
    "    while not valid:\n",
    "        val = raw_input('Enter an integer: ')\n",
    "        try:\n",
    "            val = int(val)\n",
    "            valid = True\n",
    "        except ValueError:\n",
    "            print val, 'is not an integer'\n",
    "    return val"
   ]
  },
  {
   "cell_type": "code",
   "execution_count": 3,
   "metadata": {
    "collapsed": false
   },
   "outputs": [
    {
     "name": "stdout",
     "output_type": "stream",
     "text": [
      "Enter an integer: eqw\n",
      "eqw is not an integer\n",
      "Enter an integer: 1\n",
      "1\n"
     ]
    }
   ],
   "source": [
    "a = readIntRobust()\n",
    "print a"
   ]
  },
  {
   "cell_type": "markdown",
   "metadata": {},
   "source": [
    "Making the previous function more general:"
   ]
  },
  {
   "cell_type": "code",
   "execution_count": 4,
   "metadata": {
    "collapsed": true
   },
   "outputs": [],
   "source": [
    "def readRobust(valType, requestMsg=\"Insert value: \", errorMsg=\" is an incorrect value\"):\n",
    "    valid = False\n",
    "    while not valid:\n",
    "        val = raw_input(requestMsg)\n",
    "        try:\n",
    "            val = valType(val)\n",
    "            valid = True\n",
    "        except ValueError:\n",
    "            print val, errorMsg\n",
    "    return val"
   ]
  },
  {
   "cell_type": "code",
   "execution_count": 5,
   "metadata": {
    "collapsed": false
   },
   "outputs": [
    {
     "name": "stdout",
     "output_type": "stream",
     "text": [
      "Insert value: dqw\n",
      "dqw  is an incorrect value\n",
      "Insert value: 1\n",
      "1\n",
      "Insert Floatd231\n",
      "d231  is an incorrect value\n",
      "Insert Float\\1\n",
      "\\1  is an incorrect value\n",
      "Insert Float2\n",
      "2.0\n"
     ]
    }
   ],
   "source": [
    "a = readRobust(int)\n",
    "print a\n",
    "b = readRobust(float, requestMsg=\"Insert Float\")\n",
    "print b"
   ]
  },
  {
   "cell_type": "markdown",
   "metadata": {},
   "source": [
    "To receive more than one exception, use \n",
    "    <pre><code>except(Error1, Error2):</code></pre>\n",
    "\n",
    "To receive any exception, use\n",
    "    <pre><code>except:</code></pre>\n",
    "    \n",
    "To raise an exception, use    \n",
    "    <pre><code>raise exceptionName(arguments)</code></pre>\n"
   ]
  },
  {
   "cell_type": "markdown",
   "metadata": {},
   "source": [
    "A function catching several exceptions:"
   ]
  },
  {
   "cell_type": "code",
   "execution_count": 10,
   "metadata": {
    "collapsed": true
   },
   "outputs": [],
   "source": [
    "def getRatios(vect1, vect2):\n",
    "    \"\"\"Assumes: vect1 and vect2 are lists of equal length of numbers\n",
    "    Returns: a list containing the meaningful values of\n",
    "    vect1[i]/vect2[i]\"\"\"\n",
    "    ratios = []\n",
    "    for index in range(len(vect1)):\n",
    "        try:\n",
    "            ratios.append(vect1[index]/float(vect2[index]))\n",
    "        except ZeroDivisionError:\n",
    "            ratios.append(float('nan')) #nan = Not a Number\n",
    "        except:\n",
    "            raise ValueError('getRatios called with bad arguments')\n",
    "    return ratios"
   ]
  },
  {
   "cell_type": "code",
   "execution_count": 16,
   "metadata": {
    "collapsed": false
   },
   "outputs": [
    {
     "name": "stdout",
     "output_type": "stream",
     "text": [
      "[1.0, 0.6666666666666666, 0.3333333333333333, 0.5]\n",
      "[nan, 0.6666666666666666, 0.3333333333333333, 0.5]\n"
     ]
    },
    {
     "ename": "ValueError",
     "evalue": "getRatios called with bad arguments",
     "output_type": "error",
     "traceback": [
      "\u001b[1;31m---------------------------------------------------------------------------\u001b[0m",
      "\u001b[1;31mValueError\u001b[0m                                Traceback (most recent call last)",
      "\u001b[1;32m<ipython-input-16-73a0e969156a>\u001b[0m in \u001b[0;36m<module>\u001b[1;34m()\u001b[0m\n\u001b[0;32m      1\u001b[0m \u001b[1;32mprint\u001b[0m \u001b[0mgetRatios\u001b[0m\u001b[1;33m(\u001b[0m\u001b[1;33m[\u001b[0m\u001b[1;36m1\u001b[0m\u001b[1;33m,\u001b[0m\u001b[1;36m2\u001b[0m\u001b[1;33m,\u001b[0m\u001b[1;36m3\u001b[0m\u001b[1;33m,\u001b[0m\u001b[1;36m4\u001b[0m\u001b[1;33m]\u001b[0m\u001b[1;33m,\u001b[0m\u001b[1;33m[\u001b[0m\u001b[1;36m1\u001b[0m\u001b[1;33m,\u001b[0m\u001b[1;36m3\u001b[0m\u001b[1;33m,\u001b[0m\u001b[1;36m9\u001b[0m\u001b[1;33m,\u001b[0m\u001b[1;36m8\u001b[0m\u001b[1;33m]\u001b[0m\u001b[1;33m)\u001b[0m\u001b[1;33m\u001b[0m\u001b[0m\n\u001b[0;32m      2\u001b[0m \u001b[1;32mprint\u001b[0m \u001b[0mgetRatios\u001b[0m\u001b[1;33m(\u001b[0m\u001b[1;33m[\u001b[0m\u001b[1;36m1\u001b[0m\u001b[1;33m,\u001b[0m\u001b[1;36m2\u001b[0m\u001b[1;33m,\u001b[0m\u001b[1;36m3\u001b[0m\u001b[1;33m,\u001b[0m\u001b[1;36m4\u001b[0m\u001b[1;33m]\u001b[0m\u001b[1;33m,\u001b[0m\u001b[1;33m[\u001b[0m\u001b[1;36m0\u001b[0m\u001b[1;33m,\u001b[0m\u001b[1;36m3\u001b[0m\u001b[1;33m,\u001b[0m\u001b[1;36m9\u001b[0m\u001b[1;33m,\u001b[0m\u001b[1;36m8\u001b[0m\u001b[1;33m]\u001b[0m\u001b[1;33m)\u001b[0m\u001b[1;33m\u001b[0m\u001b[0m\n\u001b[1;32m----> 3\u001b[1;33m \u001b[1;32mprint\u001b[0m \u001b[0mgetRatios\u001b[0m\u001b[1;33m(\u001b[0m\u001b[1;33m[\u001b[0m\u001b[1;36m1\u001b[0m\u001b[1;33m,\u001b[0m\u001b[1;36m2\u001b[0m\u001b[1;33m,\u001b[0m\u001b[1;36m3\u001b[0m\u001b[1;33m,\u001b[0m\u001b[1;36m4\u001b[0m\u001b[1;33m]\u001b[0m\u001b[1;33m,\u001b[0m\u001b[1;33m[\u001b[0m\u001b[1;36m0\u001b[0m\u001b[1;33m,\u001b[0m\u001b[1;36m3\u001b[0m\u001b[1;33m,\u001b[0m\u001b[1;36m9\u001b[0m\u001b[1;33m]\u001b[0m\u001b[1;33m)\u001b[0m\u001b[1;33m\u001b[0m\u001b[0m\n\u001b[0m",
      "\u001b[1;32m<ipython-input-10-fc833f4e3d90>\u001b[0m in \u001b[0;36mgetRatios\u001b[1;34m(vect1, vect2)\u001b[0m\n\u001b[0;32m     10\u001b[0m             \u001b[0mratios\u001b[0m\u001b[1;33m.\u001b[0m\u001b[0mappend\u001b[0m\u001b[1;33m(\u001b[0m\u001b[0mfloat\u001b[0m\u001b[1;33m(\u001b[0m\u001b[1;34m'nan'\u001b[0m\u001b[1;33m)\u001b[0m\u001b[1;33m)\u001b[0m \u001b[1;31m#nan = Not a Number\u001b[0m\u001b[1;33m\u001b[0m\u001b[0m\n\u001b[0;32m     11\u001b[0m         \u001b[1;32mexcept\u001b[0m\u001b[1;33m:\u001b[0m\u001b[1;33m\u001b[0m\u001b[0m\n\u001b[1;32m---> 12\u001b[1;33m             \u001b[1;32mraise\u001b[0m \u001b[0mValueError\u001b[0m\u001b[1;33m(\u001b[0m\u001b[1;34m'getRatios called with bad arguments'\u001b[0m\u001b[1;33m)\u001b[0m\u001b[1;33m\u001b[0m\u001b[0m\n\u001b[0m\u001b[0;32m     13\u001b[0m     \u001b[1;32mreturn\u001b[0m \u001b[0mratios\u001b[0m\u001b[1;33m\u001b[0m\u001b[0m\n",
      "\u001b[1;31mValueError\u001b[0m: getRatios called with bad arguments"
     ]
    }
   ],
   "source": [
    "print getRatios([1,2,3,4],[1,3,9,8])\n",
    "print getRatios([1,2,3,4],[0,3,9,8])\n",
    "print getRatios([1,2,3,4],[0,3,9])"
   ]
  },
  {
   "cell_type": "markdown",
   "metadata": {
    "collapsed": true
   },
   "source": [
    "## Assertions"
   ]
  },
  {
   "cell_type": "markdown",
   "metadata": {},
   "source": [
    "The Python assert statement provides programmers with a simple way to\n",
    "confirm that the state of the computation is as expected. \n",
    "\n",
    "They should be used in situations where the program must never reach a given illegal value.\n",
    "\n",
    "While exceptions promote with **robust code**, ie, situations where the program state can be recovered; assertions deal with **unrecoverable problems**, where the program should stop as soon as possible."
   ]
  },
  {
   "cell_type": "code",
   "execution_count": 1,
   "metadata": {
    "collapsed": false
   },
   "outputs": [
    {
     "name": "stdout",
     "output_type": "stream",
     "text": [
      "0\n"
     ]
    },
    {
     "ename": "AssertionError",
     "evalue": "denominator is zero!",
     "output_type": "error",
     "traceback": [
      "\u001b[1;31m---------------------------------------------------------------------------\u001b[0m",
      "\u001b[1;31mAssertionError\u001b[0m                            Traceback (most recent call last)",
      "\u001b[1;32m<ipython-input-1-fc25f9467d15>\u001b[0m in \u001b[0;36m<module>\u001b[1;34m()\u001b[0m\n\u001b[0;32m      5\u001b[0m \u001b[1;33m\u001b[0m\u001b[0m\n\u001b[0;32m      6\u001b[0m \u001b[0mb\u001b[0m \u001b[1;33m=\u001b[0m \u001b[1;36m0\u001b[0m\u001b[1;33m\u001b[0m\u001b[0m\n\u001b[1;32m----> 7\u001b[1;33m \u001b[1;32massert\u001b[0m \u001b[0mb\u001b[0m \u001b[1;33m!=\u001b[0m \u001b[1;36m0\u001b[0m\u001b[1;33m,\u001b[0m \u001b[1;34m\"denominator is zero!\"\u001b[0m\u001b[1;33m\u001b[0m\u001b[0m\n\u001b[0m\u001b[0;32m      8\u001b[0m \u001b[1;32mprint\u001b[0m \u001b[0ma\u001b[0m\u001b[1;33m/\u001b[0m\u001b[0mb\u001b[0m\u001b[1;33m\u001b[0m\u001b[0m\n",
      "\u001b[1;31mAssertionError\u001b[0m: denominator is zero!"
     ]
    }
   ],
   "source": [
    "a = 0\n",
    "b = 1\n",
    "assert b != 0, \"denominator is zero!\"\n",
    "print a/b\n",
    "\n",
    "b = 0\n",
    "assert b != 0, \"denominator is zero!\"\n",
    "print a/b"
   ]
  },
  {
   "cell_type": "markdown",
   "metadata": {},
   "source": [
    "<a id='problems'></a>\n",
    "## Folha 10\n"
   ]
  },
  {
   "cell_type": "markdown",
   "metadata": {},
   "source": [
    "1) Escreva uma função que receba por parâmetro um iterável e que determine o\n",
    "elemento que se repete mais vezes. A função deve devolver um par contendo o\n",
    "elemento mais frequente e o número de vezes que ele se repete. Para tal utilize\n",
    "um dicionário para contar as ocorrências dos vários elementos e depois\n",
    "determinar o maior."
   ]
  },
  {
   "cell_type": "code",
   "execution_count": 22,
   "metadata": {
    "collapsed": true
   },
   "outputs": [],
   "source": [
    "def repeteMais(sequencia):\n",
    "    dic = {}\n",
    "    \n",
    "    # fill dictionary\n",
    "    for elemento in sequencia:\n",
    "        if elemento in dic.keys():\n",
    "            dic[elemento] += 1\n",
    "        else:\n",
    "            dic[elemento] = 0\n",
    "    \n",
    "    # The optional key argument of max() specifies a one-argument ordering function\n",
    "    # eg: max([1,-2], key=lambda x: x**2) returns -2\n",
    "    # The method dict.get() returns a value for the given key\n",
    "    maxKey = max(dic, key=dic.get)\n",
    "\n",
    "    return (maxKey, dic[maxKey])"
   ]
  },
  {
   "cell_type": "code",
   "execution_count": 23,
   "metadata": {
    "collapsed": false
   },
   "outputs": [
    {
     "name": "stdout",
     "output_type": "stream",
     "text": [
      "('b', 15)\n"
     ]
    }
   ],
   "source": [
    "print repeteMais(\"abcbdbebdbabcbabdbcbbebababcbab\")"
   ]
  },
  {
   "cell_type": "markdown",
   "metadata": {},
   "source": [
    "4) Implemente uma função encontra que recebe um iterável e um elemento e\n",
    "devolva um tuplo com as posições em que se encontra o elemento. Caso o\n",
    "elemento não exista, deve ser lançada a exceção KeyError com uma mensagem\n",
    "de texto adequada."
   ]
  },
  {
   "cell_type": "code",
   "execution_count": 33,
   "metadata": {
    "collapsed": false
   },
   "outputs": [],
   "source": [
    "def encontra(sequencia, elemento):\n",
    "    \n",
    "    if elemento not in sequencia:\n",
    "        raise KeyError, \"elemento inexistente\"\n",
    "        \n",
    "    i, result = 0, ()\n",
    "    for valor in sequencia:\n",
    "        if valor == elemento:\n",
    "            result += (i,)\n",
    "        i += 1\n",
    "        \n",
    "    return result"
   ]
  },
  {
   "cell_type": "code",
   "execution_count": 36,
   "metadata": {
    "collapsed": false
   },
   "outputs": [
    {
     "name": "stdout",
     "output_type": "stream",
     "text": [
      "(0, 3, 6, 8)\n"
     ]
    },
    {
     "ename": "KeyError",
     "evalue": "'elemento inexistente'",
     "output_type": "error",
     "traceback": [
      "\u001b[1;31m---------------------------------------------------------------------------\u001b[0m",
      "\u001b[1;31mKeyError\u001b[0m                                  Traceback (most recent call last)",
      "\u001b[1;32m<ipython-input-36-b6a7ae622ba1>\u001b[0m in \u001b[0;36m<module>\u001b[1;34m()\u001b[0m\n\u001b[0;32m      1\u001b[0m \u001b[1;32mprint\u001b[0m \u001b[0mencontra\u001b[0m\u001b[1;33m(\u001b[0m\u001b[1;33m[\u001b[0m\u001b[1;36m1\u001b[0m\u001b[1;33m,\u001b[0m\u001b[1;36m2\u001b[0m\u001b[1;33m,\u001b[0m\u001b[1;36m3\u001b[0m\u001b[1;33m,\u001b[0m\u001b[1;36m1\u001b[0m\u001b[1;33m,\u001b[0m\u001b[1;36m3\u001b[0m\u001b[1;33m,\u001b[0m\u001b[1;36m2\u001b[0m\u001b[1;33m,\u001b[0m\u001b[1;36m1\u001b[0m\u001b[1;33m,\u001b[0m\u001b[1;36m3\u001b[0m\u001b[1;33m,\u001b[0m\u001b[1;36m1\u001b[0m\u001b[1;33m]\u001b[0m\u001b[1;33m,\u001b[0m\u001b[1;36m1\u001b[0m\u001b[1;33m)\u001b[0m\u001b[1;33m\u001b[0m\u001b[0m\n\u001b[1;32m----> 2\u001b[1;33m \u001b[1;32mprint\u001b[0m \u001b[0mencontra\u001b[0m\u001b[1;33m(\u001b[0m\u001b[1;33m[\u001b[0m\u001b[1;36m1\u001b[0m\u001b[1;33m,\u001b[0m\u001b[1;36m2\u001b[0m\u001b[1;33m,\u001b[0m\u001b[1;36m3\u001b[0m\u001b[1;33m,\u001b[0m\u001b[1;36m1\u001b[0m\u001b[1;33m,\u001b[0m\u001b[1;36m3\u001b[0m\u001b[1;33m,\u001b[0m\u001b[1;36m2\u001b[0m\u001b[1;33m,\u001b[0m\u001b[1;36m1\u001b[0m\u001b[1;33m,\u001b[0m\u001b[1;36m3\u001b[0m\u001b[1;33m,\u001b[0m\u001b[1;36m1\u001b[0m\u001b[1;33m]\u001b[0m\u001b[1;33m,\u001b[0m\u001b[1;36m4\u001b[0m\u001b[1;33m)\u001b[0m\u001b[1;33m\u001b[0m\u001b[0m\n\u001b[0m",
      "\u001b[1;32m<ipython-input-33-37f9e79574c7>\u001b[0m in \u001b[0;36mencontra\u001b[1;34m(sequencia, elemento)\u001b[0m\n\u001b[0;32m      2\u001b[0m \u001b[1;33m\u001b[0m\u001b[0m\n\u001b[0;32m      3\u001b[0m     \u001b[1;32mif\u001b[0m \u001b[0melemento\u001b[0m \u001b[1;32mnot\u001b[0m \u001b[1;32min\u001b[0m \u001b[0msequencia\u001b[0m\u001b[1;33m:\u001b[0m\u001b[1;33m\u001b[0m\u001b[0m\n\u001b[1;32m----> 4\u001b[1;33m         \u001b[1;32mraise\u001b[0m \u001b[0mKeyError\u001b[0m\u001b[1;33m,\u001b[0m \u001b[1;34m\"elemento inexistente\"\u001b[0m\u001b[1;33m\u001b[0m\u001b[0m\n\u001b[0m\u001b[0;32m      5\u001b[0m \u001b[1;33m\u001b[0m\u001b[0m\n\u001b[0;32m      6\u001b[0m     \u001b[0mi\u001b[0m\u001b[1;33m,\u001b[0m \u001b[0mresult\u001b[0m \u001b[1;33m=\u001b[0m \u001b[1;36m0\u001b[0m\u001b[1;33m,\u001b[0m \u001b[1;33m(\u001b[0m\u001b[1;33m)\u001b[0m\u001b[1;33m\u001b[0m\u001b[0m\n",
      "\u001b[1;31mKeyError\u001b[0m: 'elemento inexistente'"
     ]
    }
   ],
   "source": [
    "print encontra([1,2,3,1,3,2,1,3,1],1)\n",
    "print encontra([1,2,3,1,3,2,1,3,1],4)"
   ]
  },
  {
   "cell_type": "markdown",
   "metadata": {},
   "source": [
    "5) Escreva uma função ler_inteiro que lê, garantidamente, um inteiro do\n",
    "utilizador. A função deve pedir a informação ao utilizador até que seja fornecido\n",
    "um número inteiro. Faça um programa que teste convenientemente a função\n",
    "desenvolvida."
   ]
  },
  {
   "cell_type": "code",
   "execution_count": 2,
   "metadata": {
    "collapsed": false
   },
   "outputs": [],
   "source": [
    "def lerInteiro():\n",
    "    valid = False\n",
    "    while not valid:\n",
    "        val = raw_input('Enter an integer: ')\n",
    "        try:\n",
    "            val = int(val)\n",
    "            valid = True\n",
    "        except ValueError:\n",
    "            print val, 'is not an integer, try again:'\n",
    "    return val"
   ]
  },
  {
   "cell_type": "code",
   "execution_count": 3,
   "metadata": {
    "collapsed": false
   },
   "outputs": [
    {
     "name": "stdout",
     "output_type": "stream",
     "text": [
      "Enter an integer: 23\n",
      "23\n"
     ]
    }
   ],
   "source": [
    "a = lerInteiro()\n",
    "print a"
   ]
  },
  {
   "cell_type": "markdown",
   "metadata": {},
   "source": [
    "6) Escreva uma função que recebe uma string com o nome de um ficheiro que\n",
    "deveria conter um número inteiro em cada linha e devolva a soma destes\n",
    "números. Caso o ficheiro não exista, a função deve devolver zero. As linhas que\n",
    "não têm números inteiros devem ser ignoradas."
   ]
  },
  {
   "cell_type": "code",
   "execution_count": 24,
   "metadata": {
    "collapsed": false
   },
   "outputs": [
    {
     "name": "stdout",
     "output_type": "stream",
     "text": [
      "21\n"
     ]
    }
   ],
   "source": [
    "def read_ints_file(filename):\n",
    "    mysum = 0\n",
    "    try:\n",
    "        fh = open(filename, 'r')\n",
    "        for line in fh:\n",
    "            try:\n",
    "                mysum += int(line)\n",
    "            except ValueError:\n",
    "                pass\n",
    "        fh.close()\n",
    "    except IOError:\n",
    "        pass\n",
    "\n",
    "    return mysum\n",
    "\n",
    "print read_ints_file('nums.txt')"
   ]
  },
  {
   "cell_type": "markdown",
   "metadata": {},
   "source": [
    "7) Escreva uma função que recebe um dicionário e devolve outro dicionário com a\n",
    "relação inversa, ou seja, para cada par chave:valor do dicionário recebido por\n",
    "parâmetro, o dicionário resultado deve conter uma entrada valor:chave. Caso a\n",
    "relação não tenha inversa, ou seja, quando existem várias chaves associadas ao\n",
    "mesmo valor no dicionário recebido, a função deve lançadar uma exceção\n",
    "ValueError com uma mensagem conveniente. Elabore um programa que teste a\n",
    "sua função para os diversos casos."
   ]
  },
  {
   "cell_type": "code",
   "execution_count": 60,
   "metadata": {
    "collapsed": false
   },
   "outputs": [],
   "source": [
    "def mirrorDict(dic):\n",
    "    \n",
    "    # casting to set removes duplicates\n",
    "    if len(dic.values()) != len(set(dic.values())):\n",
    "        raise ValueError, \"not valid due to duplicate values (non-injective mapping)\"\n",
    "        \n",
    "    return {v:k for k,v in dic.items()}"
   ]
  },
  {
   "cell_type": "code",
   "execution_count": 62,
   "metadata": {
    "collapsed": false
   },
   "outputs": [
    {
     "name": "stdout",
     "output_type": "stream",
     "text": [
      "{40: 'b', 1: 'a'}\n"
     ]
    },
    {
     "ename": "ValueError",
     "evalue": "not valid due to duplicate values (non-injective mapping)",
     "output_type": "error",
     "traceback": [
      "\u001b[1;31m---------------------------------------------------------------------------\u001b[0m",
      "\u001b[1;31mValueError\u001b[0m                                Traceback (most recent call last)",
      "\u001b[1;32m<ipython-input-62-146536ecce80>\u001b[0m in \u001b[0;36m<module>\u001b[1;34m()\u001b[0m\n\u001b[0;32m      1\u001b[0m \u001b[1;32mprint\u001b[0m \u001b[0mmirrorDict\u001b[0m\u001b[1;33m(\u001b[0m\u001b[1;33m{\u001b[0m\u001b[1;34m'a'\u001b[0m\u001b[1;33m:\u001b[0m\u001b[1;36m1\u001b[0m\u001b[1;33m,\u001b[0m \u001b[1;34m'b'\u001b[0m\u001b[1;33m:\u001b[0m\u001b[1;36m40\u001b[0m\u001b[1;33m}\u001b[0m\u001b[1;33m)\u001b[0m\u001b[1;33m\u001b[0m\u001b[0m\n\u001b[1;32m----> 2\u001b[1;33m \u001b[1;32mprint\u001b[0m \u001b[0mmirrorDict\u001b[0m\u001b[1;33m(\u001b[0m\u001b[1;33m{\u001b[0m\u001b[1;34m'a'\u001b[0m\u001b[1;33m:\u001b[0m\u001b[1;36m1\u001b[0m\u001b[1;33m,\u001b[0m \u001b[1;34m'b'\u001b[0m\u001b[1;33m:\u001b[0m\u001b[1;36m1\u001b[0m\u001b[1;33m}\u001b[0m\u001b[1;33m)\u001b[0m\u001b[1;33m\u001b[0m\u001b[0m\n\u001b[0m",
      "\u001b[1;32m<ipython-input-60-ac1fd64e7853>\u001b[0m in \u001b[0;36mmirrorDict\u001b[1;34m(dic)\u001b[0m\n\u001b[0;32m      3\u001b[0m     \u001b[1;31m# casting to set removes duplicates\u001b[0m\u001b[1;33m\u001b[0m\u001b[1;33m\u001b[0m\u001b[0m\n\u001b[0;32m      4\u001b[0m     \u001b[1;32mif\u001b[0m \u001b[0mlen\u001b[0m\u001b[1;33m(\u001b[0m\u001b[0mdic\u001b[0m\u001b[1;33m.\u001b[0m\u001b[0mvalues\u001b[0m\u001b[1;33m(\u001b[0m\u001b[1;33m)\u001b[0m\u001b[1;33m)\u001b[0m \u001b[1;33m!=\u001b[0m \u001b[0mlen\u001b[0m\u001b[1;33m(\u001b[0m\u001b[0mset\u001b[0m\u001b[1;33m(\u001b[0m\u001b[0mdic\u001b[0m\u001b[1;33m.\u001b[0m\u001b[0mvalues\u001b[0m\u001b[1;33m(\u001b[0m\u001b[1;33m)\u001b[0m\u001b[1;33m)\u001b[0m\u001b[1;33m)\u001b[0m\u001b[1;33m:\u001b[0m\u001b[1;33m\u001b[0m\u001b[0m\n\u001b[1;32m----> 5\u001b[1;33m         \u001b[1;32mraise\u001b[0m \u001b[0mValueError\u001b[0m\u001b[1;33m,\u001b[0m \u001b[1;34m\"not valid due to duplicate values (non-injective mapping)\"\u001b[0m\u001b[1;33m\u001b[0m\u001b[0m\n\u001b[0m\u001b[0;32m      6\u001b[0m \u001b[1;33m\u001b[0m\u001b[0m\n\u001b[0;32m      7\u001b[0m     \u001b[1;32mreturn\u001b[0m \u001b[1;33m{\u001b[0m\u001b[0mv\u001b[0m\u001b[1;33m:\u001b[0m\u001b[0mk\u001b[0m \u001b[1;32mfor\u001b[0m \u001b[0mk\u001b[0m\u001b[1;33m,\u001b[0m\u001b[0mv\u001b[0m \u001b[1;32min\u001b[0m \u001b[0mdic\u001b[0m\u001b[1;33m.\u001b[0m\u001b[0mitems\u001b[0m\u001b[1;33m(\u001b[0m\u001b[1;33m)\u001b[0m\u001b[1;33m}\u001b[0m\u001b[1;33m\u001b[0m\u001b[0m\n",
      "\u001b[1;31mValueError\u001b[0m: not valid due to duplicate values (non-injective mapping)"
     ]
    }
   ],
   "source": [
    "print mirrorDict({'a':1, 'b':40})\n",
    "print mirrorDict({'a':1, 'b':1})"
   ]
  },
  {
   "cell_type": "markdown",
   "metadata": {},
   "source": [
    "8) Escreva uma função media que recebe um tuplo de números pares e devolve a sua média.\n",
    "\n",
    " a. Escreva a docstring com o contrato da função;\n",
    "    \n",
    " b. Tente escrever comandos assert que traduzem os contratos escritos em texto;"
   ]
  },
  {
   "cell_type": "code",
   "execution_count": 87,
   "metadata": {
    "collapsed": false
   },
   "outputs": [],
   "source": [
    "def media(data):\n",
    "    \"\"\"\n",
    "    Requires: a tuple with two even integers\n",
    "    Ensures:  an integer with the mean of the two input values\n",
    "    \"\"\"\n",
    "    \n",
    "    assert type(data) == tuple, \"input is not a tuple\"\n",
    "    assert len(data)  == 2,     \"tuple is not a pair\"\n",
    "    assert data[0] % 2 == 0,    \"first number is not even\"\n",
    "    assert data[1] % 2 == 0,    \"second number is not even\"\n",
    "    \n",
    "    result = (data[0]+data[1])/2\n",
    "    \n",
    "    assert result == sum(data)/2, \"mean calculation error\"\n",
    "    \n",
    "    return result"
   ]
  },
  {
   "cell_type": "code",
   "execution_count": 88,
   "metadata": {
    "collapsed": false
   },
   "outputs": [
    {
     "data": {
      "text/plain": [
       "6"
      ]
     },
     "execution_count": 88,
     "metadata": {},
     "output_type": "execute_result"
    }
   ],
   "source": [
    "media((10,2))"
   ]
  },
  {
   "cell_type": "markdown",
   "metadata": {},
   "source": [
    "\n",
    " c. Defina uma função que verifique se um tuplo é constituído só por números pares;\n",
    "\n",
    " d. Escreva outra função que some os elementos de um tuplo;\n",
    " \n",
    " e. Rescreva a função media usando as funções definidas na alínea c) e d);\n",
    " \n",
    " f. Escreva agora os comandos assert que traduzem os contratos da função media;"
   ]
  },
  {
   "cell_type": "code",
   "execution_count": 105,
   "metadata": {
    "collapsed": false
   },
   "outputs": [],
   "source": [
    "def evenPair(data):\n",
    "    return data[0]%2 == 0 and data[1]%2 == 0\n",
    "\n",
    "def addPair(data):\n",
    "    return data[0] + data[1]\n",
    "\n",
    "def media(data):\n",
    "    \"\"\"\n",
    "    Requires: a tuple with two even integers\n",
    "    Ensures:  an integer with the mean of the two input values\n",
    "    \"\"\"\n",
    "    \n",
    "    assert type(data) == tuple, \"input is not a tuple\"\n",
    "    assert len(data)  == 2,     \"tuple is not a pair\"\n",
    "    assert evenPair(data),      \"not all numbers are even\"\n",
    "\n",
    "    result = addPair(data)/2\n",
    "    \n",
    "    assert result == sum(data)/2, \"mean calculation error\"\n",
    "    \n",
    "    return result"
   ]
  },
  {
   "cell_type": "code",
   "execution_count": 100,
   "metadata": {
    "collapsed": false
   },
   "outputs": [
    {
     "data": {
      "text/plain": [
       "-4"
      ]
     },
     "execution_count": 100,
     "metadata": {},
     "output_type": "execute_result"
    }
   ],
   "source": [
    "media((-10,2))"
   ]
  },
  {
   "cell_type": "markdown",
   "metadata": {},
   "source": [
    " g. Faça um programa que teste de forma conveniente as funções desenvolvidas, em particular, inclua casos que testem o funcionamento correto e a falha das pré-condições."
   ]
  },
  {
   "cell_type": "code",
   "execution_count": 111,
   "metadata": {
    "collapsed": false
   },
   "outputs": [
    {
     "data": {
      "text/plain": [
       "TestResults(failed=0, attempted=7)"
      ]
     },
     "execution_count": 111,
     "metadata": {},
     "output_type": "execute_result"
    }
   ],
   "source": [
    "import doctest\n",
    "\n",
    "def media(data):\n",
    "    \"\"\"\n",
    "    Requires: a tuple with two even integers\n",
    "    Ensures:  an integer with the mean of the two input values\n",
    "    \n",
    "    >>> media((0,4))\n",
    "    2\n",
    "    \n",
    "    >>> media((-2,2))\n",
    "    0\n",
    "    \n",
    "    >>> media((2,2))\n",
    "    2\n",
    "    \n",
    "    >>> media(1)\n",
    "    Traceback (most recent call last):\n",
    "    ...\n",
    "    AssertionError: input is not a tuple\n",
    "\n",
    "    >>> media((1,))\n",
    "    Traceback (most recent call last):\n",
    "    ...\n",
    "    AssertionError: tuple is not a pair\n",
    "\n",
    "    >>> media((1,2))\n",
    "    Traceback (most recent call last):\n",
    "    ...\n",
    "    AssertionError: not all number are even\n",
    "\n",
    "    >>> media((10,21))\n",
    "    Traceback (most recent call last):\n",
    "    ...\n",
    "    AssertionError: not all numbers are even\n",
    "    \"\"\"\n",
    "    \n",
    "    assert type(data) == tuple, \"input is not a tuple\"\n",
    "    assert len(data)  == 2,     \"tuple is not a pair\"\n",
    "    assert evenPair(data),      \"not all numbers are even\"\n",
    "\n",
    "    result = addPair(data)/2\n",
    "    \n",
    "    assert result == sum(data)/2, \"mean calculation error\"\n",
    "    \n",
    "    return result\n",
    "\n",
    "doctest.testmod()"
   ]
  },
  {
   "cell_type": "markdown",
   "metadata": {},
   "source": [
    " h. Introduza um erro na função soma de forma a fazer falhar a pós-condição da função media."
   ]
  },
  {
   "cell_type": "code",
   "execution_count": 9,
   "metadata": {
    "collapsed": false
   },
   "outputs": [],
   "source": [
    "def evenPair(data):\n",
    "    return data[0]%2 == 0 and data[1]%2 == 0\n",
    "\n",
    "def addPair(data):\n",
    "    return data[0] + data[1] + 2\n",
    "\n",
    "def media(data):\n",
    "    \"\"\"\n",
    "    Requires: a tuple with two even integers\n",
    "    Ensures:  an integer with the mean of the two input values\n",
    "    \"\"\"\n",
    "    \n",
    "    assert type(data) == tuple, \"input is not a tuple\"\n",
    "    assert len(data)  == 2,     \"tuple is not a pair\"\n",
    "    assert evenPair(data),      \"not all numbers are even\"\n",
    "\n",
    "    result = addPair(data)/2\n",
    "    \n",
    "    assert result == sum(data)/2, \"mean calculation error\"\n",
    "    \n",
    "    return result"
   ]
  },
  {
   "cell_type": "code",
   "execution_count": 10,
   "metadata": {
    "collapsed": false
   },
   "outputs": [
    {
     "ename": "AssertionError",
     "evalue": "mean calculation error",
     "output_type": "error",
     "traceback": [
      "\u001b[1;31m---------------------------------------------------------------------------\u001b[0m",
      "\u001b[1;31mAssertionError\u001b[0m                            Traceback (most recent call last)",
      "\u001b[1;32m<ipython-input-10-4d35ccd94b9f>\u001b[0m in \u001b[0;36m<module>\u001b[1;34m()\u001b[0m\n\u001b[1;32m----> 1\u001b[1;33m \u001b[0mmedia\u001b[0m\u001b[1;33m(\u001b[0m\u001b[1;33m(\u001b[0m\u001b[1;33m-\u001b[0m\u001b[1;36m10\u001b[0m\u001b[1;33m,\u001b[0m\u001b[1;36m2\u001b[0m\u001b[1;33m)\u001b[0m\u001b[1;33m)\u001b[0m\u001b[1;33m\u001b[0m\u001b[0m\n\u001b[0m",
      "\u001b[1;32m<ipython-input-9-0235227374b3>\u001b[0m in \u001b[0;36mmedia\u001b[1;34m(data)\u001b[0m\n\u001b[0;32m     17\u001b[0m     \u001b[0mresult\u001b[0m \u001b[1;33m=\u001b[0m \u001b[0maddPair\u001b[0m\u001b[1;33m(\u001b[0m\u001b[0mdata\u001b[0m\u001b[1;33m)\u001b[0m\u001b[1;33m/\u001b[0m\u001b[1;36m2\u001b[0m\u001b[1;33m\u001b[0m\u001b[0m\n\u001b[0;32m     18\u001b[0m \u001b[1;33m\u001b[0m\u001b[0m\n\u001b[1;32m---> 19\u001b[1;33m     \u001b[1;32massert\u001b[0m \u001b[0mresult\u001b[0m \u001b[1;33m==\u001b[0m \u001b[0msum\u001b[0m\u001b[1;33m(\u001b[0m\u001b[0mdata\u001b[0m\u001b[1;33m)\u001b[0m\u001b[1;33m/\u001b[0m\u001b[1;36m2\u001b[0m\u001b[1;33m,\u001b[0m \u001b[1;34m\"mean calculation error\"\u001b[0m\u001b[1;33m\u001b[0m\u001b[0m\n\u001b[0m\u001b[0;32m     20\u001b[0m \u001b[1;33m\u001b[0m\u001b[0m\n\u001b[0;32m     21\u001b[0m     \u001b[1;32mreturn\u001b[0m \u001b[0mresult\u001b[0m\u001b[1;33m\u001b[0m\u001b[0m\n",
      "\u001b[1;31mAssertionError\u001b[0m: mean calculation error"
     ]
    }
   ],
   "source": [
    "media((-10,2))"
   ]
  },
  {
   "cell_type": "markdown",
   "metadata": {},
   "source": [
    "9) Escreva uma função media que dada uma lista de strings, cada uma\n",
    "representando um número, devolva a sua média, um número em vírgula\n",
    "flutuante. A função levanta a exceção ValueError quando pelo menos um\n",
    "elemento da lista não for convertível para float. Levanta a exceção\n",
    "ZeroDivisionError quando a lista de strings estiver vazia."
   ]
  },
  {
   "cell_type": "code",
   "execution_count": 25,
   "metadata": {
    "collapsed": false
   },
   "outputs": [
    {
     "name": "stdout",
     "output_type": "stream",
     "text": [
      "9.05\n"
     ]
    }
   ],
   "source": [
    "def media_string_1(strings):\n",
    "    mysum = 0.0\n",
    "    for string in strings:\n",
    "        mysum += float(string)\n",
    "    return mysum / len(strings)\n",
    "\n",
    "def media_string(strings):\n",
    "    mysum = 0.0\n",
    "    if len(strings)==0:\n",
    "        raise ZeroDivisionError(\"lista vazia\")\n",
    "        \n",
    "    for string in strings:\n",
    "        try: \n",
    "            mysum += float(string)\n",
    "        except ValueError:\n",
    "            raise ValueError(\"Um dos valores nao e' float\")\n",
    "    return mysum / len(strings)\n",
    "\n",
    "print media_string([\"5.6\", \"7.8\", \"11.7\", \"12.6\", \"9.3\", \"7.3\"])"
   ]
  },
  {
   "cell_type": "markdown",
   "metadata": {},
   "source": [
    "10) Dados referentes a observações são frequentemente guardados em ficheiros\n",
    "de texto. Por exemplo, as temperaturas lidas a várias horas do dia, ao longo de\n",
    "vários dias, podem ser guardadas num ficheiro de números em vírgula flutuante,\n",
    "onde cada linha contém os valores das várias temperaturas medidas num dia.\n",
    "\n",
    "    5.6 7.8 11.7 12.6 9.3 7.3\n",
    "    \n",
    "    6.7 8.5 11.6 11.6 9.4 7.0\n",
    "    \n",
    "    5.4 7.2 10.5 11.1 10.0 8.3\n",
    "    \n",
    "Utilizando a função media do exercício anterior, escreva uma função\n",
    "imprime_medias que, dado o nome de um ficheiro de texto como o acima,\n",
    "imprima as temperaturas médias diárias. Deverá imprimir um valor por linha e\n",
    "tantos valores quantas as linhas do ficheiro. Sugestão: utilize o método\n",
    "string.split(s) para obter a lista de palavras existentes numa string.\n",
    "A função imprime_medias deve apanhar as exceções levantadas pela função\n",
    "media. No caso de divisão por zero deverá imprimir “linha vazia”; no caso de\n",
    "uma linha que contenha uma palavra que não representa um número em vírgula\n",
    "flutuante deverá imprimir “linha mal formada”. Exceções relativas à abertura do\n",
    "ficheiro deverão ser tratadas pelo chamador (ver exercício seguinte).\n",
    "\n",
    "a) Escreva a função imprime_medias que imprima algo (a média ou uma\n",
    "mensagem de erro) para cada linha no ficheiro. Utilize o comando try: finally: para se\n",
    "assegurar que fecha o ficheiro."
   ]
  },
  {
   "cell_type": "code",
   "execution_count": 34,
   "metadata": {
    "collapsed": false
   },
   "outputs": [
    {
     "name": "stdout",
     "output_type": "stream",
     "text": [
      "9.05\n",
      "linha mal formada\n",
      "9.13333333333\n",
      "linha vazia\n",
      "8.75\n"
     ]
    }
   ],
   "source": [
    "def imprime_medias(filename):\n",
    "    fh = None\n",
    "    try:\n",
    "        fh = open(filename, 'r')\n",
    "        for line in fh:\n",
    "            try:\n",
    "                print media_strings(line.split())\n",
    "            except ZeroDivisionError:\n",
    "                print \"linha vazia\"\n",
    "            except ValueError:\n",
    "                print \"linha mal formada\"\n",
    "#    except IOError:\n",
    "#        print \"no file\"\n",
    "    finally:\n",
    "        if fh != None:\n",
    "            fh.close()\n",
    "        \n",
    "imprime_medias(\"temp.txt\")        "
   ]
  },
  {
   "cell_type": "markdown",
   "metadata": {},
   "source": [
    "b) Adapte a solução da alínea anterior utilizando desta vez o comando with."
   ]
  },
  {
   "cell_type": "code",
   "execution_count": 36,
   "metadata": {
    "collapsed": false
   },
   "outputs": [
    {
     "name": "stdout",
     "output_type": "stream",
     "text": [
      "9.05\n",
      "linha mal formada\n",
      "9.13333333333\n",
      "linha vazia\n",
      "8.75\n"
     ]
    }
   ],
   "source": [
    "def imprime_medias(filename):\n",
    "    fh = None\n",
    "    \n",
    "    try:\n",
    "        with open(filename, 'r') as fh:\n",
    "            for line in fh:\n",
    "                try:\n",
    "                    print media_strings(line.split())\n",
    "                except ZeroDivisionError:\n",
    "                    print \"linha vazia\"\n",
    "                except ValueError:\n",
    "                    print \"linha mal formada\"\n",
    "#    except IOError:\n",
    "#        print \"no file\"\n",
    "    finally:\n",
    "        if fh != None:\n",
    "            fh.close()\n",
    "        \n",
    "imprime_medias(\"temp.txt\")  "
   ]
  },
  {
   "cell_type": "markdown",
   "metadata": {},
   "source": [
    "c) Finalmente, escreva uma versão da função imprime_medias que pára ao primeiro erro\n",
    "(escrevendo no entanto a mensagem de erro correspondente)."
   ]
  },
  {
   "cell_type": "code",
   "execution_count": 39,
   "metadata": {
    "collapsed": false
   },
   "outputs": [
    {
     "name": "stdout",
     "output_type": "stream",
     "text": [
      "9.05\n",
      "linha mal formada\n"
     ]
    }
   ],
   "source": [
    "def imprime_medias(filename):\n",
    "    fh = None\n",
    "    \n",
    "    try:\n",
    "        with open(filename, 'r') as fh:\n",
    "            for line in fh:\n",
    "                try:\n",
    "                    print media_strings(line.split())\n",
    "                except ZeroDivisionError:\n",
    "                    print \"linha vazia\"\n",
    "                    return\n",
    "                except ValueError:\n",
    "                    print \"linha mal formada\"\n",
    "                    return\n",
    "#    except IOError:\n",
    "#        print \"no file\"\n",
    "    finally:\n",
    "        if fh != None:\n",
    "            fh.close()\n",
    "        \n",
    "imprime_medias(\"temp.txt\")  "
   ]
  },
  {
   "cell_type": "markdown",
   "metadata": {},
   "source": [
    "11) Escreva uma função principal, sem parâmetros, que peça ao utilizador o nome de\n",
    "um ficheiro de temperaturas, e chame a função imprime_medias passando o nome do\n",
    "ficheiro. Caso ocorra algum problema de acesso ao ficheiro, a função principal deve\n",
    "escrever Erro de I/O ao ler o ficheiro <nome do ficheiro>."
   ]
  },
  {
   "cell_type": "code",
   "execution_count": 43,
   "metadata": {
    "collapsed": false
   },
   "outputs": [
    {
     "name": "stdout",
     "output_type": "stream",
     "text": [
      "insert filename: tem\n",
      "Erro de I/O\n"
     ]
    }
   ],
   "source": [
    "def run():\n",
    "    filename = raw_input(\"insert filename: \")\n",
    "    try:\n",
    "        imprime_medias(filename)\n",
    "    except IOError:\n",
    "        print \"Erro de I/O\"\n",
    "        \n",
    "run()        "
   ]
  }
 ],
 "metadata": {
  "kernelspec": {
   "display_name": "Python 2",
   "language": "python",
   "name": "python2"
  },
  "language_info": {
   "codemirror_mode": {
    "name": "ipython",
    "version": 2
   },
   "file_extension": ".py",
   "mimetype": "text/x-python",
   "name": "python",
   "nbconvert_exporter": "python",
   "pygments_lexer": "ipython2",
   "version": "2.7.10"
  }
 },
 "nbformat": 4,
 "nbformat_minor": 0
}
