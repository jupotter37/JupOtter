{
 "cells": [
  {
   "cell_type": "markdown",
   "metadata": {},
   "source": [
    "<a href=\"https://colab.research.google.com/github/pr0fez/AI24-Programmering/blob/master/Exercises/02-while-statement-exercise.ipynb\" target=\"_parent\"><img align=\"left\" src=\"https://colab.research.google.com/assets/colab-badge.svg\" alt=\"Open In Colab\"/></a> &nbsp; to see hints and answers."
   ]
  },
  {
   "cell_type": "markdown",
   "metadata": {},
   "source": [
    "# while statement exercises\n",
    "\n",
    "---\n",
    "These are introductory exercises in Python with focus in **while** statement.\n",
    "\n",
    "<p class = \"alert alert-info\" role=\"alert\"><b>Remember</b> to use <b>descriptive variable names</b> in order to get readable code </p>\n",
    "\n",
    "<p class = \"alert alert-info\" role=\"alert\"><b>Remember</b> to format your answers in a neat way using <b>f-strings</b>\n",
    "\n",
    "<p class = \"alert alert-info\" role=\"alert\"><b>Remember</b> to format your input questions in a pedagogical way to guide the user\n",
    "\n",
    "The number of stars (\\*), (\\*\\*), (\\*\\*\\*) denotes the difficulty level of the task\n",
    "\n",
    "---"
   ]
  },
  {
   "cell_type": "markdown",
   "metadata": {},
   "source": [
    "## 1. Count numbers (*)\n",
    "\n",
    "Use a **while** statement to count from -10 to 10 with one increment. \n",
    "\n",
    "<details>\n",
    "\n",
    "<summary>Hint </summary>\n",
    "\n",
    "```python\n",
    "\n",
    "i += 1 # adds one and assigns it to i, equivalent to i = i + 1\n",
    "```\n",
    "\n",
    "</details>\n",
    "<br>\n",
    "<details>\n",
    "\n",
    "<summary>Answer </summary>\n",
    "\n",
    "```\n",
    "\n",
    "-10 -9 -8 -7 -6 -5 -4 -3 -2 -1 0 1 2 3 4 5 6 7 8 9 10\n",
    "```\n",
    "\n",
    "</details>\n"
   ]
  },
  {
   "cell_type": "code",
   "execution_count": 50,
   "metadata": {},
   "outputs": [
    {
     "name": "stdout",
     "output_type": "stream",
     "text": [
      "-10 -9 -8 -7 -6 -5 -4 -3 -2 -1 0 1 2 3 4 5 6 7 8 9 10 "
     ]
    }
   ],
   "source": [
    "i = -11\n",
    "\n",
    "while i < 10:\n",
    "    i += 1\n",
    "    print(i, end=\" \")"
   ]
  },
  {
   "cell_type": "markdown",
   "metadata": {},
   "source": [
    "--- \n",
    "## 2. Arithmetic sum (*)\n",
    "Use a **while** statement to compute the following sums: \n",
    "\n",
    "&nbsp; a) &nbsp; $\\text{sum} = 1 + 2 + \\ldots + 99+ 100$\n",
    "\n",
    "&nbsp; b) &nbsp; $\\text{sum} = 1 + 3 + 5 + \\ldots + 97 + 99$\n",
    "\n",
    "<details>\n",
    "\n",
    "<summary>Answer </summary>\n",
    "\n",
    "```\n",
    "a) 1 + 2 + ... + 99 + 100 = 5050 \n",
    "\n",
    "b) 1 + 3 + 5 +...+ 97 + 99 = 2500\n",
    "```\n",
    "\n",
    "</details>"
   ]
  },
  {
   "cell_type": "code",
   "execution_count": 51,
   "metadata": {},
   "outputs": [
    {
     "name": "stdout",
     "output_type": "stream",
     "text": [
      "1 + 2 + 3 + 4 + 5 + 6 + 7 + 8 + 9 + 10 + 11 + 12 + 13 + 14 + 15 + 16 + 17 + 18 + 19 + 20 + 21 + 22 + 23 + 24 + 25 + 26 + 27 + 28 + 29 + 30 + 31 + 32 + 33 + 34 + 35 + 36 + 37 + 38 + 39 + 40 + 41 + 42 + 43 + 44 + 45 + 46 + 47 + 48 + 49 + 50 + 51 + 52 + 53 + 54 + 55 + 56 + 57 + 58 + 59 + 60 + 61 + 62 + 63 + 64 + 65 + 66 + 67 + 68 + 69 + 70 + 71 + 72 + 73 + 74 + 75 + 76 + 77 + 78 + 79 + 80 + 81 + 82 + 83 + 84 + 85 + 86 + 87 + 88 + 89 + 90 + 91 + 92 + 93 + 94 + 95 + 96 + 97 + 98 + 99 + 100 + = 5050\n",
      "1 + 3 + 5 + 7 + 9 + 11 + 13 + 15 + 17 + 19 + 21 + 23 + 25 + 27 + 29 + 31 + 33 + 35 + 37 + 39 + 41 + 43 + 45 + 47 + 49 + 51 + 53 + 55 + 57 + 59 + 61 + 63 + 65 + 67 + 69 + 71 + 73 + 75 + 77 + 79 + 81 + 83 + 85 + 87 + 89 + 91 + 93 + 95 + 97 + 99 +  =  2500\n"
     ]
    }
   ],
   "source": [
    "i = 0\n",
    "sum = 0\n",
    "\n",
    "while i < 100:\n",
    "    i += 1 \n",
    "    sum += i\n",
    "    print(i, end=\" + \")\n",
    "print(\"=\", sum)\n",
    "\n",
    "j = 0\n",
    "sum_odd = 0\n",
    "\n",
    "while j < 99:\n",
    "    j += 1\n",
    "    if j % 2 != 0:\n",
    "        sum_odd += j\n",
    "        print(j, end=\" + \")\n",
    "print(\" = \", sum_odd)\n",
    "\n",
    "# Få bort pluset från sista talet...?"
   ]
  },
  {
   "cell_type": "markdown",
   "metadata": {},
   "source": [
    "--- \n",
    "## 3. Guess number game (*)\n",
    "&nbsp; a) &nbsp; Create a guessing number game following this flow chart: \n",
    "\n",
    "<img align=\"left\" src=\"../assets/guessing_game.png\" width=\"300\"/>"
   ]
  },
  {
   "cell_type": "markdown",
   "metadata": {},
   "source": [
    "&nbsp; b) &nbsp; Make an algorithm to automatically guess the correct number. Can you optimize to get as few guesses as possible? (**)\n",
    "\n",
    "<details>\n",
    "\n",
    "<summary>Hint </summary>\n",
    "\n",
    "&nbsp; b) &nbsp; Half your testing number each time \n",
    "\n",
    "</details>"
   ]
  },
  {
   "cell_type": "code",
   "execution_count": 4,
   "metadata": {},
   "outputs": [
    {
     "name": "stdout",
     "output_type": "stream",
     "text": [
      "Guess a number between 1-100: -- 50 -- \n",
      "1: Guess too high, try again...\n",
      "\n",
      "Guess a number between 1-100: -- 25 -- \n",
      "2: Guess too high, try again...\n",
      "\n",
      "Guess a number between 1-100: -- 12 -- \n",
      "3: Guess too high, try again...\n",
      "\n",
      "Guess a number between 1-100: -- 6 -- \n",
      "4: You won!\n"
     ]
    }
   ],
   "source": [
    "import random as rnd \n",
    "rnd_numb = rnd.randint(1, 101)\n",
    "# rnd_numb = 55\n",
    "# guess = rnd.randint(1, 100)\n",
    "low = 1\n",
    "high = 100\n",
    "# guess = 0\n",
    "guesses = 1\n",
    "\n",
    "\n",
    "while True:\n",
    "    mid = (low + high) // 2\n",
    "    guess = mid\n",
    "    print(f\"Guess a number between 1-100: -- {guess} -- \")\n",
    "\n",
    "\n",
    "    if guess > rnd_numb:\n",
    "        print(f\"{guesses}: Guess too high, try again...\\n\")\n",
    "        guesses = guesses + 1\n",
    "        high = mid - 1 \n",
    "        \n",
    "    elif guess < rnd_numb:\n",
    "        print(f\"{guesses}: Guess too low, try again...\\n\")\n",
    "        guesses = guesses + 1\n",
    "        low = mid + 1\n",
    "    else:\n",
    "        print(f\"{guesses}: You won!\")\n",
    "        break\n"
   ]
  },
  {
   "cell_type": "markdown",
   "metadata": {},
   "source": [
    "--- \n",
    "## 4. Multiplication game (*)\n",
    "&nbsp; a) &nbsp; Create a multiplication game following this flow chart: \n",
    "\n",
    "<img align=\"left\" src=\"../assets/Multiplication_game.png\" width=\"300\"/>"
   ]
  },
  {
   "cell_type": "code",
   "execution_count": 16,
   "metadata": {},
   "outputs": [
    {
     "ename": "ValueError",
     "evalue": "invalid literal for int() with base 10: ''",
     "output_type": "error",
     "traceback": [
      "\u001b[1;31m---------------------------------------------------------------------------\u001b[0m",
      "\u001b[1;31mValueError\u001b[0m                                Traceback (most recent call last)",
      "Cell \u001b[1;32mIn[16], line 7\u001b[0m\n\u001b[0;32m      4\u001b[0m x \u001b[38;5;241m=\u001b[39m rng\u001b[38;5;241m.\u001b[39mrandint(\u001b[38;5;241m1\u001b[39m, \u001b[38;5;241m10\u001b[39m)\n\u001b[0;32m      5\u001b[0m y \u001b[38;5;241m=\u001b[39m rng\u001b[38;5;241m.\u001b[39mrandint(\u001b[38;5;241m1\u001b[39m, \u001b[38;5;241m10\u001b[39m)\n\u001b[1;32m----> 7\u001b[0m user_answer \u001b[38;5;241m=\u001b[39m \u001b[38;5;28;43mint\u001b[39;49m\u001b[43m(\u001b[49m\u001b[38;5;28;43minput\u001b[39;49m\u001b[43m(\u001b[49m\u001b[38;5;124;43mf\u001b[39;49m\u001b[38;5;124;43m\"\u001b[39;49m\u001b[38;5;124;43mWhat is \u001b[39;49m\u001b[38;5;132;43;01m{\u001b[39;49;00m\u001b[43mx\u001b[49m\u001b[38;5;132;43;01m}\u001b[39;49;00m\u001b[38;5;124;43m * \u001b[39;49m\u001b[38;5;132;43;01m{\u001b[39;49;00m\u001b[43my\u001b[49m\u001b[38;5;132;43;01m}\u001b[39;49;00m\u001b[38;5;124;43m?\u001b[39;49m\u001b[38;5;124;43m\"\u001b[39;49m\u001b[43m)\u001b[49m\u001b[43m)\u001b[49m\n\u001b[0;32m      8\u001b[0m \u001b[38;5;28;01mif\u001b[39;00m user_answer \u001b[38;5;241m==\u001b[39m x\u001b[38;5;241m*\u001b[39my:\n\u001b[0;32m      9\u001b[0m     \u001b[38;5;28mprint\u001b[39m(\u001b[38;5;124m\"\u001b[39m\u001b[38;5;124mCorrect!\u001b[39m\u001b[38;5;124m\"\u001b[39m)\n",
      "\u001b[1;31mValueError\u001b[0m: invalid literal for int() with base 10: ''"
     ]
    }
   ],
   "source": [
    "import random as rng \n",
    "\n",
    "while True:\n",
    "    x = rng.randint(1, 10)\n",
    "    y = rng.randint(1, 10)\n",
    "\n",
    "    user_answer = int(input(f\"What is {x} * {y}?\"))\n",
    "    if user_answer == x*y:\n",
    "        print(\"Correct!\")\n",
    "    else:\n",
    "        print((f\"{user_answer} is wrong.\"))\n",
    "        print(f\"Right answer is {x*y}.\")\n",
    "\n",
    "    play_again = input(\"Want to play again? (y for Yes)\")\n",
    "\n",
    "    if play_again != \"y\":\n",
    "        print(\"Thank you for playing! Goodbye!\")\n",
    "        break"
   ]
  },
  {
   "cell_type": "markdown",
   "metadata": {},
   "source": [
    "&nbsp; b) &nbsp; Add a menu for choosing difficulty level of the game\n",
    "\n",
    "&nbsp; c) &nbsp; Feel free to extend this program with features of your choice."
   ]
  },
  {
   "cell_type": "markdown",
   "metadata": {},
   "source": [
    "--- \n",
    "## 5. Check convergence (**)\n",
    "Use a while statement to compute the following sums: \n",
    "\n",
    "&nbsp; a) &nbsp; $\\text{sum} = 1 + \\frac{1}{2} + \\frac{1}{4} + \\frac{1}{8} + \\dots + \\frac{1}{2^n}$\n",
    "\n",
    "&nbsp; b) &nbsp; $\\text{sum} = 1 - \\frac{1}{3} + \\frac{1}{5} - \\frac{1}{7} + \\dots + \\frac{(-1)^n}{2n+1}$\n",
    "\n",
    "Try different values on $n$ to see which value it converges to.\n",
    "\n",
    "<details>\n",
    "\n",
    "<summary>Answer </summary>\n",
    "\n",
    "&nbsp; a) &nbsp; $1 + \\frac{1}{2} + \\frac{1}{4} + \\frac{1}{8} + \\dots + \\frac{1}{2^n} \\xrightarrow[n\\rightarrow \\infty]{} 2$ \n",
    "\n",
    "&nbsp; b) &nbsp; $ 1 - \\frac{1}{3} + \\frac{1}{5} - \\frac{1}{7} + \\dots + \\frac{(-1)^n}{2n+1} \\xrightarrow[n\\rightarrow \\infty]{} \\frac{\\pi}{4}$\n",
    "\n",
    "</details>"
   ]
  },
  {
   "cell_type": "code",
   "execution_count": 1,
   "metadata": {},
   "outputs": [
    {
     "name": "stdout",
     "output_type": "stream",
     "text": [
      "1\n",
      "1.5\n",
      "1.75\n",
      "1.875\n",
      "1.9375\n",
      "1.96875\n",
      "1.984375\n",
      "1.9921875\n",
      "1.99609375\n",
      "1.998046875\n",
      "1.9990234375\n",
      "1.99951171875\n",
      "1.999755859375\n",
      "1.9998779296875\n",
      "1.99993896484375\n",
      "1.999969482421875\n",
      "1.9999847412109375\n",
      "1.9999923706054688\n",
      "1.9999961853027344\n",
      "1.9999980926513672\n",
      "1.9999990463256836\n",
      "1.9999995231628418\n",
      "1.999999761581421\n",
      "1.9999998807907104\n",
      "1.9999999403953552\n",
      "1.9999999701976776\n",
      "1.9999999850988388\n",
      "1.9999999925494194\n",
      "1.9999999962747097\n",
      "1.9999999981373549\n",
      "1.9999999990686774\n",
      "1.9999999995343387\n",
      "1.9999999997671694\n",
      "1.9999999998835847\n",
      "1.9999999999417923\n",
      "1.9999999999708962\n",
      "1.999999999985448\n",
      "1.999999999992724\n",
      "1.999999999996362\n",
      "1.999999999998181\n",
      "1.9999999999990905\n",
      "1.9999999999995453\n",
      "1.9999999999997726\n",
      "1.9999999999998863\n",
      "1.9999999999999432\n",
      "1.9999999999999716\n",
      "1.9999999999999858\n",
      "1.999999999999993\n",
      "1.9999999999999964\n",
      "1.9999999999999982\n",
      "1.9999999999999991\n",
      "1.9999999999999996\n",
      "1.9999999999999998\n"
     ]
    }
   ],
   "source": [
    "# OBS Behöver komma tillbaka!!!\n",
    "total = 0\n",
    "räkna = 1\n",
    "\n",
    "while True:\n",
    "    total += räkna\n",
    "    räkna /= 2\n",
    "    if total == 2:\n",
    "        break\n",
    "    print(total)"
   ]
  },
  {
   "cell_type": "code",
   "execution_count": 2,
   "metadata": {},
   "outputs": [
    {
     "ename": "IndentationError",
     "evalue": "unexpected indent (269795165.py, line 9)",
     "output_type": "error",
     "traceback": [
      "\u001b[1;36m  Cell \u001b[1;32mIn[2], line 9\u001b[1;36m\u001b[0m\n\u001b[1;33m    nämnare += 2 # Nämnaren blir 3\u001b[0m\n\u001b[1;37m    ^\u001b[0m\n\u001b[1;31mIndentationError\u001b[0m\u001b[1;31m:\u001b[0m unexpected indent\n"
     ]
    }
   ],
   "source": [
    "import math \n",
    "total = 1\n",
    "täljare = 1\n",
    "nämnare = 1\n",
    "räknare = 0\n",
    "\n",
    "while True:\n",
    "    #print(\"totalen\", total)\n",
    "    nämnare += 2 # Nämnaren blir 3\n",
    "    #print(\"nämnare\", nämnare)\n",
    "    räknare = täljare / nämnare # 1/3\n",
    "    #print(\"x / y =\", räknare)\n",
    "    total -= räknare # 1 - 1/3 = \n",
    "    #print(\"totalen\", total)\n",
    "    nämnare += 2\n",
    "    #print(\"nämnare\", nämnare)\n",
    "    räknare = täljare / nämnare\n",
    "    #print(\"x / y =\", räknare)\n",
    "    total += räknare\n",
    "    print(\"totalen\", total)\n",
    "    if total < (math.pi/4): # OBS!!! Kör på egen risk!!!! (╯°□°）╯︵ ┻━┻\n",
    "        break "
   ]
  },
  {
   "cell_type": "code",
   "execution_count": 3,
   "metadata": {},
   "outputs": [
    {
     "name": "stdout",
     "output_type": "stream",
     "text": [
      "Number of iterations: 1000002\n",
      " sum: 0.7853979133979436 or 0.2500pi\n"
     ]
    }
   ],
   "source": [
    "import numpy as np\n",
    "\n",
    "def term(n):\n",
    "    return np.divide(np.float_power((-1), n), 2*n+1)\n",
    "n = 0\n",
    "acc = 0\n",
    "v = 0\n",
    "e = 1\n",
    "while e > np.float_power(10, -6):\n",
    "    prev = v\n",
    "    v = term(n)\n",
    "    e = np.absolute(prev - v)\n",
    "    acc += v\n",
    "    n += 1\n",
    "\n",
    "print(f\"Number of iterations: {n}\\n sum: {acc} or {np.divide(acc, np.pi):.4f}pi\")"
   ]
  },
  {
   "cell_type": "markdown",
   "metadata": {},
   "source": [
    "---\n",
    "\n",
    "pr0fez Giang\n",
    "\n",
    "[LinkedIn][linkedIn_pr0fez]\n",
    "\n",
    "[GitHub portfolio][github_portfolio]\n",
    "\n",
    "[linkedIn_pr0fez]: https://www.linkedin.com/in/pr0fezgiang/\n",
    "[github_portfolio]: https://github.com/pr0fez/Portfolio-pr0fez-Giang\n",
    "\n",
    "---"
   ]
  }
 ],
 "metadata": {
  "kernelspec": {
   "display_name": "Python 3.9.6 64-bit",
   "language": "python",
   "name": "python3"
  },
  "language_info": {
   "codemirror_mode": {
    "name": "ipython",
    "version": 3
   },
   "file_extension": ".py",
   "mimetype": "text/x-python",
   "name": "python",
   "nbconvert_exporter": "python",
   "pygments_lexer": "ipython3",
   "version": "3.11.9"
  },
  "orig_nbformat": 4,
  "vscode": {
   "interpreter": {
    "hash": "0da836a34428266995a795f1e1e27b816fa1c02f148d9728b3fbbbc5459afca6"
   }
  }
 },
 "nbformat": 4,
 "nbformat_minor": 2
}
