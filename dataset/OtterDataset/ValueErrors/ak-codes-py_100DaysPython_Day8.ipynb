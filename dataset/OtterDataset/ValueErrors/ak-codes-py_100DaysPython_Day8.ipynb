{
 "cells": [
  {
   "cell_type": "code",
   "execution_count": 13,
   "id": "initial_id",
   "metadata": {
    "collapsed": true,
    "ExecuteTime": {
     "end_time": "2023-10-29T07:40:48.683137Z",
     "start_time": "2023-10-29T07:40:48.680982900Z"
    }
   },
   "outputs": [
    {
     "name": "stdout",
     "output_type": "stream",
     "text": [
      "Hi I'm Kentucky and I live in Aaditya.\n"
     ]
    }
   ],
   "source": [
    "def greet_with(name,location):\n",
    "    print(f'Hi I\\'m {name} and I live in {location}.')\n",
    "greet_with(location = 'Aaditya',name = 'Kentucky')    "
   ]
  },
  {
   "cell_type": "code",
   "execution_count": 14,
   "outputs": [
    {
     "name": "stdout",
     "output_type": "stream",
     "text": [
      " You need 96 number of cans.\n"
     ]
    }
   ],
   "source": [
    "#How many cans of paint do you need to buy ?\n",
    "import math\n",
    "def cans_req(height,width,cover):\n",
    "    num_cans = (height * width) / cover\n",
    "    round_up_value = math.ceil(num_cans)\n",
    "    print(f' You need {round_up_value} number of cans.')\n",
    "t_height = int(input(\"height: \"))\n",
    "t_weight = int(input(\"Width: \"))\n",
    "coverage = 5\n",
    "cans_req(t_height,t_weight,coverage)"
   ],
   "metadata": {
    "collapsed": false,
    "ExecuteTime": {
     "end_time": "2023-10-29T07:40:53.842485300Z",
     "start_time": "2023-10-29T07:40:48.685361300Z"
    }
   },
   "id": "51d07f9134824af8"
  },
  {
   "cell_type": "code",
   "execution_count": 15,
   "outputs": [
    {
     "name": "stdout",
     "output_type": "stream",
     "text": [
      "Not a prime number.\n"
     ]
    }
   ],
   "source": [
    "#Prime number checker\n",
    "def prime_finder(n):\n",
    "    is_Prime = True\n",
    "    for i in range(2,n):\n",
    "        if i % 2 == 0:\n",
    "            is_Prime = False\n",
    "    if is_Prime:\n",
    "        print(\"Prime Number.\")\n",
    "    else:\n",
    "        print(\"Not a prime number.\")\n",
    "n = int(input(\"Enter a number: \"))\n",
    "prime_finder(n)"
   ],
   "metadata": {
    "collapsed": false,
    "ExecuteTime": {
     "end_time": "2023-10-29T07:41:02.080736800Z",
     "start_time": "2023-10-29T07:40:53.835378300Z"
    }
   },
   "id": "e252a6a7e0afb7f6"
  },
  {
   "cell_type": "code",
   "execution_count": 2,
   "outputs": [
    {
     "ename": "ValueError",
     "evalue": "invalid literal for int() with base 10: ''",
     "output_type": "error",
     "traceback": [
      "\u001B[1;31m---------------------------------------------------------------------------\u001B[0m",
      "\u001B[1;31mValueError\u001B[0m                                Traceback (most recent call last)",
      "Cell \u001B[1;32mIn[2], line 5\u001B[0m\n\u001B[0;32m      3\u001B[0m prompt \u001B[38;5;241m=\u001B[39m \u001B[38;5;28minput\u001B[39m(\u001B[38;5;124m'\u001B[39m\u001B[38;5;124mType: \u001B[39m\u001B[38;5;130;01m\\n\u001B[39;00m\u001B[38;5;124mencrypt\u001B[39m\u001B[38;5;130;01m\\n\u001B[39;00m\u001B[38;5;124mdecrypt\u001B[39m\u001B[38;5;124m'\u001B[39m)\n\u001B[0;32m      4\u001B[0m user_message \u001B[38;5;241m=\u001B[39m \u001B[38;5;28minput\u001B[39m(\u001B[38;5;124mf\u001B[39m\u001B[38;5;124m\"\u001B[39m\u001B[38;5;124mEnter message:\u001B[39m\u001B[38;5;130;01m\\n\u001B[39;00m\u001B[38;5;124m\"\u001B[39m)\n\u001B[1;32m----> 5\u001B[0m shift_num \u001B[38;5;241m=\u001B[39m \u001B[38;5;28;43mint\u001B[39;49m\u001B[43m(\u001B[49m\u001B[38;5;28;43minput\u001B[39;49m\u001B[43m(\u001B[49m\u001B[38;5;124;43m\"\u001B[39;49m\u001B[38;5;124;43mEnter how many times to shift:\u001B[39;49m\u001B[38;5;130;43;01m\\n\u001B[39;49;00m\u001B[38;5;124;43m\"\u001B[39;49m\u001B[43m)\u001B[49m\u001B[43m)\u001B[49m\n\u001B[0;32m      6\u001B[0m \u001B[38;5;28;01mdef\u001B[39;00m \u001B[38;5;21mcipher\u001B[39m(start, shift, choice):\n\u001B[0;32m      7\u001B[0m     final_text \u001B[38;5;241m=\u001B[39m \u001B[38;5;124m'\u001B[39m\u001B[38;5;124m'\u001B[39m\n",
      "\u001B[1;31mValueError\u001B[0m: invalid literal for int() with base 10: ''"
     ]
    }
   ],
   "source": [
    "#Caeser Cipher\n",
    "alphabet = ['a', 'b', 'c', 'd', 'e', 'f', 'g', 'h', 'i', 'j', 'k', 'l', 'm', 'n', 'o', 'p', 'q', 'r', 's', 't', 'u', 'v', 'w', 'x', 'y', 'z','a', 'b', 'c', 'd', 'e', 'f', 'g', 'h', 'i', 'j', 'k', 'l', 'm', 'n', 'o', 'p', 'q', 'r', 's', 't', 'u', 'v', 'w', 'x', 'y', 'z']\n",
    "prompt = input('Type: \\nencrypt\\ndecrypt')\n",
    "user_message = input(f\"Enter message:\\n\")\n",
    "shift_num = int(input(\"Enter how many times to shift:\\n\"))\n",
    "def cipher(start, shift, choice):\n",
    "    final_text = ''\n",
    "    for letter in user_message:\n",
    "        position = alphabet.index(letter)\n",
    "        if choice == 'decrypt':\n",
    "            n_position = position - shift_num\n",
    "            decipher_text = alphabet[n_position]\n",
    "            final_text += decipher_text\n",
    "        elif choice == 'encrypt':\n",
    "            new_position = position + shift_num\n",
    "            encrypted_text = alphabet[new_position]\n",
    "            final_text += encrypted_text\n",
    "        else:\n",
    "            print('Invalid choice, try again!')\n",
    "    return final_text\n",
    "cipher(user_message,shift_num,prompt)\n",
    "# ciphered text: 'iilqbgi'\n",
    "#decipered-text: 'aaditya'"
   ],
   "metadata": {
    "collapsed": false,
    "ExecuteTime": {
     "end_time": "2023-10-29T15:59:43.974513200Z",
     "start_time": "2023-10-29T15:59:30.146298700Z"
    }
   },
   "id": "9c68757ac2911ae7"
  }
 ],
 "metadata": {
  "kernelspec": {
   "display_name": "Python 3",
   "language": "python",
   "name": "python3"
  },
  "language_info": {
   "codemirror_mode": {
    "name": "ipython",
    "version": 2
   },
   "file_extension": ".py",
   "mimetype": "text/x-python",
   "name": "python",
   "nbconvert_exporter": "python",
   "pygments_lexer": "ipython2",
   "version": "2.7.6"
  }
 },
 "nbformat": 4,
 "nbformat_minor": 5
}
