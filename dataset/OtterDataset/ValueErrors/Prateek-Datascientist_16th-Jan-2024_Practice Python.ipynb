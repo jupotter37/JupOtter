{
 "cells": [
  {
   "cell_type": "code",
   "execution_count": 17,
   "id": "6f16ee3f",
   "metadata": {},
   "outputs": [
    {
     "data": {
      "text/plain": [
       "[2, 23, 23, 121, 434]"
      ]
     },
     "execution_count": 17,
     "metadata": {},
     "output_type": "execute_result"
    }
   ],
   "source": [
    "a = [2,434,121,23,23]\n",
    "a.sort()\n",
    "a"
   ]
  },
  {
   "cell_type": "code",
   "execution_count": 16,
   "id": "1052df5a",
   "metadata": {},
   "outputs": [
    {
     "data": {
      "text/plain": [
       "'Hello Wpr;d'"
      ]
     },
     "execution_count": 16,
     "metadata": {},
     "output_type": "execute_result"
    }
   ],
   "source": [
    "a = 'Hello Wpr;d'\n",
    "b = list(a)\n",
    "''.join(b)"
   ]
  },
  {
   "cell_type": "code",
   "execution_count": 13,
   "id": "bdcefb06",
   "metadata": {},
   "outputs": [
    {
     "name": "stdout",
     "output_type": "stream",
     "text": [
      "23 32\n",
      "12 4\n",
      "23 4\n",
      "[[23, 32], [12, 4], [23, 4]]\n",
      "sum of  [23, 32]  is  55\n",
      "sum of  [12, 4]  is  16\n",
      "sum of  [23, 4]  is  27\n"
     ]
    }
   ],
   "source": [
    "b = [[int(j) for j in input().split()] for i in range(3)]\n",
    "print(b)\n",
    "for i in b:\n",
    "    sum = 0\n",
    "    for j in i:\n",
    "        sum += j\n",
    "    print(\"sum of \" , i , ' is ' , sum)"
   ]
  },
  {
   "cell_type": "markdown",
   "id": "7b06022f",
   "metadata": {},
   "source": [
    "###### a = [[1,2,23,23,23] , ['a,ascas,casas,2',2]]\n",
    "print(a[1][1])\n",
    "\n",
    "\n"
   ]
  },
  {
   "cell_type": "markdown",
   "id": "b0c6f8b1",
   "metadata": {},
   "source": []
  },
  {
   "cell_type": "code",
   "execution_count": 55,
   "id": "24e1d478",
   "metadata": {},
   "outputs": [
    {
     "name": "stdout",
     "output_type": "stream",
     "text": [
      "[0, 1, 2, 3, 4, 5, 6, 7, 8, 9, 10, 11, 12]\n"
     ]
    },
    {
     "data": {
      "text/plain": [
       "-6"
      ]
     },
     "execution_count": 55,
     "metadata": {},
     "output_type": "execute_result"
    }
   ],
   "source": [
    "# Find diff of even and odd index no. in list\n",
    "\n",
    "a = [i for i in range(13)]\n",
    "a1 = [a[i*2] for i in range(len(a)//2)]\n",
    "a2 = [a[(i*2) + 1] for i in range(len(a)//2)]\n",
    "sum_even = 0\n",
    "sum_odd = 0\n",
    "for i in a1:\n",
    "    sum_even += i\n",
    "for i in a2:\n",
    "    sum_odd += i\n",
    "print(a)\n",
    "sum_even - sum_odd"
   ]
  },
  {
   "cell_type": "code",
   "execution_count": 47,
   "id": "dab49e67",
   "metadata": {},
   "outputs": [
    {
     "name": "stdout",
     "output_type": "stream",
     "text": [
      "a?b?c\n"
     ]
    }
   ],
   "source": [
    "a = ['a', 'b', 'c']\n",
    "print('?'.join(a))"
   ]
  },
  {
   "cell_type": "code",
   "execution_count": 43,
   "id": "f21bffb4",
   "metadata": {},
   "outputs": [
    {
     "ename": "TypeError",
     "evalue": "sequence item 0: expected str instance, int found",
     "output_type": "error",
     "traceback": [
      "\u001b[1;31m---------------------------------------------------------------------------\u001b[0m",
      "\u001b[1;31mTypeError\u001b[0m                                 Traceback (most recent call last)",
      "Cell \u001b[1;32mIn[43], line 2\u001b[0m\n\u001b[0;32m      1\u001b[0m a \u001b[38;5;241m=\u001b[39m [i \u001b[38;5;28;01mfor\u001b[39;00m i \u001b[38;5;129;01min\u001b[39;00m \u001b[38;5;28mrange\u001b[39m( \u001b[38;5;241m10\u001b[39m, \u001b[38;5;241m0\u001b[39m, \u001b[38;5;241m-\u001b[39m\u001b[38;5;241m1\u001b[39m)]\n\u001b[1;32m----> 2\u001b[0m \u001b[38;5;124m'\u001b[39m\u001b[38;5;124m'\u001b[39m\u001b[38;5;241m.\u001b[39mjoin(a)\n",
      "\u001b[1;31mTypeError\u001b[0m: sequence item 0: expected str instance, int found"
     ]
    }
   ],
   "source": []
  },
  {
   "cell_type": "code",
   "execution_count": 40,
   "id": "7f7a65d4",
   "metadata": {},
   "outputs": [
    {
     "name": "stdout",
     "output_type": "stream",
     "text": [
      "[10, 9, 8, 7, 6, 5, 4, 3, 2, 1]\n",
      "[1, 2, 3, 4, 5, 6, 7, 8, 9, 10]\n",
      "2\n",
      "10\n"
     ]
    },
    {
     "data": {
      "text/plain": [
       "False"
      ]
     },
     "execution_count": 40,
     "metadata": {},
     "output_type": "execute_result"
    }
   ],
   "source": [
    "b = [i for i in range( 10, 0, -1)]\n",
    "print(b)\n",
    "b.sort()\n",
    "print(b)\n",
    "print(b.index(3))\n",
    "print(max(b))\n",
    "22 in b"
   ]
  },
  {
   "cell_type": "code",
   "execution_count": 26,
   "id": "401ba106",
   "metadata": {},
   "outputs": [
    {
     "name": "stdout",
     "output_type": "stream",
     "text": [
      "['a', 'v', 23, 'sdjk3', 'a', 'v', 23, 'sdjk3', 'a', 'v', 23, 'sdjk3']\n",
      "['a', 'v', 22, 23, 'sdjk3', 99]\n",
      "None\n"
     ]
    },
    {
     "data": {
      "text/plain": [
       "['v', 22, 23, 'sdjk3', 99, 1, 'ascjasc,  231122']"
      ]
     },
     "execution_count": 26,
     "metadata": {},
     "output_type": "execute_result"
    }
   ],
   "source": [
    "a = [ 'a', 'v' ,23, 'sdjk3']\n",
    "b = [1, 'ascjasc,  231122']\n",
    "\n",
    "print(a*3)\n",
    "\n",
    "\n",
    "a.append(99)\n",
    "\n",
    "\n",
    "a.insert(2, 22)\n",
    "print(a)\n",
    "\n",
    "print(a.extend(b ))\n",
    "\n",
    "len(a)\n",
    "a+b\n",
    "a.remove('a')\n",
    "a"
   ]
  },
  {
   "cell_type": "code",
   "execution_count": 6,
   "id": "ac595f08",
   "metadata": {},
   "outputs": [
    {
     "name": "stdout",
     "output_type": "stream",
     "text": [
      "[0, 0, 0, 0, 0, 0, 0, 0, 0, 0]\n"
     ]
    },
    {
     "data": {
      "text/plain": [
       "0"
      ]
     },
     "execution_count": 6,
     "metadata": {},
     "output_type": "execute_result"
    }
   ],
   "source": [
    "a = [0 for i in range(10)]\n",
    "print(a)\n",
    "a[2]"
   ]
  },
  {
   "cell_type": "code",
   "execution_count": 21,
   "id": "238275ec",
   "metadata": {},
   "outputs": [
    {
     "name": "stdout",
     "output_type": "stream",
     "text": [
      "svsdxxq\n"
     ]
    },
    {
     "ename": "IndexError",
     "evalue": "string index out of range",
     "output_type": "error",
     "traceback": [
      "\u001b[1;31m---------------------------------------------------------------------------\u001b[0m",
      "\u001b[1;31mIndexError\u001b[0m                                Traceback (most recent call last)",
      "Cell \u001b[1;32mIn[21], line 6\u001b[0m\n\u001b[0;32m      3\u001b[0m a  \u001b[38;5;241m=\u001b[39m \u001b[38;5;28minput\u001b[39m()\n\u001b[0;32m      5\u001b[0m \u001b[38;5;28;01mfor\u001b[39;00m  i  \u001b[38;5;129;01min\u001b[39;00m \u001b[38;5;28mrange\u001b[39m(\u001b[38;5;28mlen\u001b[39m(a)):\n\u001b[1;32m----> 6\u001b[0m     \u001b[38;5;28;01mif\u001b[39;00m a[i] \u001b[38;5;241m==\u001b[39m \u001b[38;5;124m'\u001b[39m\u001b[38;5;124mx\u001b[39m\u001b[38;5;124m'\u001b[39m:\n\u001b[0;32m      8\u001b[0m         str_new \u001b[38;5;241m=\u001b[39m a[ : i\u001b[38;5;241m-\u001b[39m\u001b[38;5;241m1\u001b[39m ] \u001b[38;5;241m+\u001b[39m \u001b[38;5;124m'\u001b[39m\u001b[38;5;124my\u001b[39m\u001b[38;5;124m'\u001b[39m \u001b[38;5;241m+\u001b[39m a[ i\u001b[38;5;241m+\u001b[39m\u001b[38;5;241m1\u001b[39m : ]\n\u001b[0;32m      9\u001b[0m         a \u001b[38;5;241m=\u001b[39m str_new\n",
      "\u001b[1;31mIndexError\u001b[0m: string index out of range"
     ]
    }
   ],
   "source": [
    "# Replace  all x in string with y ,  # String is immutable => you have to create a new one\n",
    "\n",
    "a  = input()\n",
    "\n",
    "for  i  in range(len(a)):\n",
    "    if a[i] == 'x':\n",
    "             \n",
    "        str_new = a[ : i-1 ] + 'y' + a[ i+1 : ]\n",
    "        a = str_new\n",
    "\n",
    "print(a)\n",
    "\n",
    "    \n",
    "\n",
    "    \n",
    "        \n",
    "    \n"
   ]
  },
  {
   "cell_type": "code",
   "execution_count": 17,
   "id": "899f1e33",
   "metadata": {},
   "outputs": [
    {
     "name": "stdout",
     "output_type": "stream",
     "text": [
      "sdcksncl3\n",
      "cksncl3\n",
      "f;sdvv\n",
      "palindrome is  vvds;f\n",
      "f;sdvv\n",
      "aschascjacsaschascjacsaschascjacs\n"
     ]
    }
   ],
   "source": [
    "#String Slicing & Palindrome\n",
    "\n",
    "str = input()\n",
    "\n",
    "print(str[2:9]);\n",
    "\n",
    "str = input()\n",
    "print(\"palindrome is \", str[ : : -1])\n",
    "\n",
    "print(str.replace('a', 'ABCDE'))\n",
    "\n",
    "str.find('e')\n",
    "\n",
    "b = 'aschascjacs'\n",
    "\n",
    "print(b*3)"
   ]
  },
  {
   "cell_type": "code",
   "execution_count": 9,
   "id": "ec533f49",
   "metadata": {},
   "outputs": [
    {
     "name": "stdout",
     "output_type": "stream",
     "text": [
      "wiefbewk23\n",
      "w\n",
      "i\n",
      "e\n",
      "f\n",
      "b\n",
      "e\n",
      "w\n",
      "k\n",
      "2\n",
      "3\n"
     ]
    }
   ],
   "source": [
    "# String entered horizontally is displayed vertically\n",
    "\n",
    "i = input()\n",
    "\n",
    "for a in i:\n",
    "    print(a)"
   ]
  },
  {
   "cell_type": "code",
   "execution_count": 8,
   "id": "2d90554e",
   "metadata": {},
   "outputs": [
    {
     "name": "stdout",
     "output_type": "stream",
     "text": [
      "sdvkjnsk\n",
      "False\n",
      "welfnwl\n",
      "False\n",
      "wefnlw3\n",
      "True\n",
      "sdvl32\n",
      "True\n"
     ]
    }
   ],
   "source": [
    "#Checing string has at least one alphabet and one number in it\n",
    "\n",
    "def f_check():\n",
    "\n",
    "  str1 = input()\n",
    "\n",
    "  flag1 = False\n",
    "  flag2 = False\n",
    "\n",
    "  for i in str1:\n",
    "    if i.isdigit():\n",
    "        flag1 = True\n",
    "    if i.isalpha():\n",
    "        flag2 = True\n",
    "\n",
    "  return print(flag1 and flag2)\n",
    "\n",
    "f_check()\n",
    "\n",
    "\n",
    "f_check()\n",
    "\n",
    "\n",
    "f_check()\n",
    "\n",
    "\n",
    "f_check()\n"
   ]
  },
  {
   "cell_type": "code",
   "execution_count": 47,
   "id": "9702c110",
   "metadata": {},
   "outputs": [
    {
     "name": "stdout",
     "output_type": "stream",
     "text": [
      "10\n",
      "11\n",
      "10\n"
     ]
    }
   ],
   "source": [
    "#Checking global and local variable in python\n",
    "\n",
    "a = 10\n",
    "\n",
    "def f(a):\n",
    "      \n",
    "    print( a)  #this is global variable\n",
    "    a = 11     #this is local variable, this change will not be reflected in our global variable\n",
    "    print(a)\n",
    "f(a)\n",
    "print(a)"
   ]
  },
  {
   "cell_type": "code",
   "execution_count": 41,
   "id": "39e66505",
   "metadata": {},
   "outputs": [
    {
     "name": "stdout",
     "output_type": "stream",
     "text": [
      "123          12323\n",
      "123\n",
      "12323\n"
     ]
    }
   ],
   "source": [
    "# input split\n",
    "\n",
    "a, b = map(int, input().split())\n",
    "print(a)\n",
    "print(b)"
   ]
  },
  {
   "cell_type": "code",
   "execution_count": 37,
   "id": "2c642015",
   "metadata": {},
   "outputs": [
    {
     "name": "stdout",
     "output_type": "stream",
     "text": [
      "b\n",
      "c\n",
      "a\n"
     ]
    }
   ],
   "source": [
    "#Checking fucntion calling\n",
    "\n",
    "\n",
    "\n",
    "def f2(d):\n",
    "    print('b')\n",
    "    f3()\n",
    "    \n",
    "\n",
    "    \n",
    "def f1():\n",
    "    f2(d)\n",
    "    print('a')\n",
    "    \n",
    "\n",
    "d= 10\n",
    "\n",
    "\n",
    "\n",
    "def f3():\n",
    "    print('c')\n",
    "    \n",
    "    \n",
    "f1()\n",
    "\n",
    "\n"
   ]
  },
  {
   "cell_type": "code",
   "execution_count": 25,
   "id": "a7ad42c0",
   "metadata": {},
   "outputs": [
    {
     "name": "stdout",
     "output_type": "stream",
     "text": [
      "23\n",
      "3\n",
      "5\n",
      "7\n",
      "11\n",
      "13\n",
      "17\n",
      "19\n",
      "23\n"
     ]
    }
   ],
   "source": [
    "# Using function print all prime numbers from 2 to n:\n",
    "\n",
    "n = int(input())\n",
    "\n",
    "def prime(n):\n",
    "    \n",
    "    for i in range(2,n+1):\n",
    "        for a in range(2,i):\n",
    "            if i%a == 0:\n",
    "                break\n",
    "            if a == i-1: print(i)\n",
    "  \n",
    "\n",
    "prime(n)\n",
    "        \n",
    "        \n",
    "            \n",
    "                \n"
   ]
  },
  {
   "cell_type": "code",
   "execution_count": 20,
   "id": "66860dce",
   "metadata": {},
   "outputs": [
    {
     "name": "stdout",
     "output_type": "stream",
     "text": [
      "10\n",
      "6\n",
      "210\n"
     ]
    }
   ],
   "source": [
    "#Finding factorial n with functions:\n",
    "\n",
    "n = int(input())\n",
    "r = int(input())\n",
    "\n",
    "def fact(n):\n",
    "    fact = 1\n",
    "    for i in range(1,n+1):\n",
    "        fact = fact*i\n",
    "    return fact\n",
    "\n",
    "def nCr(n,r):\n",
    "\n",
    "    ans = fact(n)//(fact(r)*fact(n-r))\n",
    "    return ans\n",
    "\n",
    "print(nCr(n,r))\n",
    "\n",
    "\n",
    "\n"
   ]
  },
  {
   "cell_type": "code",
   "execution_count": 9,
   "id": "3c1e332b",
   "metadata": {},
   "outputs": [
    {
     "name": "stdout",
     "output_type": "stream",
     "text": [
      "41\n",
      "35\n",
      "41 C 35  =  3237399360\n"
     ]
    }
   ],
   "source": [
    "# Finding value of nCr\n",
    "\n",
    "\n",
    "n = int(input())\n",
    "r = int(input())\n",
    "\n",
    "if n < r: print(\"enter correct nCr\")\n",
    "\n",
    "\n",
    "\n",
    "else:\n",
    "    factn = 1\n",
    "    factr = 1\n",
    "    \n",
    "    for i in range(1,n+1):\n",
    "        factn = factn*i\n",
    "    \n",
    "    for i in range(1,r+1):\n",
    "        factr = factr*i\n",
    "    \n",
    "    factn_r =1\n",
    "    \n",
    "    for  i in range(i, n-r+1):\n",
    "        factn_r = factn_r*i\n",
    "    print( n , 'C' , r , ' = ', factn//(factr*factn_r))"
   ]
  },
  {
   "cell_type": "code",
   "execution_count": 5,
   "id": "543d6efe",
   "metadata": {},
   "outputs": [
    {
     "name": "stdout",
     "output_type": "stream",
     "text": [
      "41\n",
      "2\n",
      "4\n",
      "6\n",
      "8\n",
      "12\n",
      "14\n",
      "16\n",
      "18\n",
      "22\n",
      "24\n",
      "26\n",
      "28\n",
      "32\n",
      "34\n",
      "36\n",
      "38\n"
     ]
    }
   ],
   "source": [
    "#Printing all even numbers till n expcet multiples of 5\n",
    "\n",
    "n = int(input())\n",
    "\n",
    "for i in range(2,n+1):\n",
    "    if i%2 == 0 and i%5 != 0:\n",
    "        print(i)\n",
    "        "
   ]
  },
  {
   "cell_type": "code",
   "execution_count": 29,
   "id": "bcb12916",
   "metadata": {},
   "outputs": [
    {
     "name": "stdout",
     "output_type": "stream",
     "text": [
      "59\n",
      "2\n",
      "3\n",
      "5\n",
      "7\n",
      "11\n",
      "13\n",
      "17\n",
      "19\n",
      "23\n",
      "29\n",
      "31\n",
      "37\n",
      "41\n",
      "43\n",
      "47\n",
      "53\n",
      "59\n",
      "total prime numbers till n are  17\n"
     ]
    }
   ],
   "source": [
    "#Printing prime from 2 to n:\n",
    "\n",
    "n = int(input())\n",
    "count = 0\n",
    "for i in range(2,n+1):\n",
    "    for a in range(2,i):\n",
    "        if i%a == 0:\n",
    "            break;\n",
    "    if a == i-1 or i == 2: \n",
    "        print(i)\n",
    "        count += 1\n",
    "        \n",
    "print(\"total prime numbers till n are \", count)\n",
    "            "
   ]
  },
  {
   "cell_type": "code",
   "execution_count": 16,
   "id": "69871fa1",
   "metadata": {},
   "outputs": [
    {
     "name": "stdout",
     "output_type": "stream",
     "text": [
      "341\n",
      "341\n",
      "31\n",
      "11\n",
      "1\n"
     ]
    }
   ],
   "source": [
    "#Finding factors of a number \n",
    "\n",
    "a = int(input())\n",
    "\n",
    "for i in range(a,0,-1):\n",
    "    if a%i == 0:\n",
    "        print(i)"
   ]
  },
  {
   "cell_type": "markdown",
   "id": "e9de4ec3",
   "metadata": {},
   "source": []
  },
  {
   "cell_type": "code",
   "execution_count": 12,
   "id": "3b21468d",
   "metadata": {},
   "outputs": [
    {
     "name": "stdout",
     "output_type": "stream",
     "text": [
      "237\n",
      "it not prime\n"
     ]
    }
   ],
   "source": [
    "#Checking prime\n",
    "\n",
    "i = int(input())\n",
    "\n",
    "for a in range(2,i):\n",
    "    if i%a == 0:\n",
    "        print(\"it not prime\")\n",
    "        break;\n",
    "    \n",
    "if a == i-1 or i==1: \n",
    "    print(\"Its prime\")\n",
    "\n"
   ]
  },
  {
   "cell_type": "code",
   "execution_count": 5,
   "id": "6c3e1698",
   "metadata": {},
   "outputs": [
    {
     "name": "stdout",
     "output_type": "stream",
     "text": [
      "213341\n",
      "143312\n"
     ]
    }
   ],
   "source": [
    "#Finding reverse of input number\n",
    "\n",
    "i = int(input())\n",
    "\n",
    "rev= 0\n",
    "rem = 0\n",
    "\n",
    "while(i != 0):\n",
    "    rem = i%10\n",
    "    rev = rev*10 + rem \n",
    "    i = i//10\n",
    "\n",
    "print(rev)\n",
    "\n"
   ]
  },
  {
   "cell_type": "code",
   "execution_count": 3,
   "id": "33fb76c6",
   "metadata": {},
   "outputs": [
    {
     "name": "stdout",
     "output_type": "stream",
     "text": [
      "3\n",
      "5\n",
      "5\n",
      "5\n"
     ]
    }
   ],
   "source": [
    "n = int(input())\n",
    "\n",
    "for i in range(1,n+1):\n",
    "    \n",
    "  for a in range(5,100 , 3):\n",
    "    \n",
    "    if a%4 != 0:\n",
    "        print(a)\n",
    "        break;\n",
    "        \n",
    "        \n",
    "    \n",
    "    "
   ]
  },
  {
   "cell_type": "code",
   "execution_count": 22,
   "id": "51e947da",
   "metadata": {},
   "outputs": [
    {
     "name": "stdout",
     "output_type": "stream",
     "text": [
      "6\n",
      "720\n"
     ]
    }
   ],
   "source": [
    "#Printing factorial n!\n",
    "\n",
    "n = int(input())\n",
    "i = 1\n",
    "fact = 1\n",
    "for i in range(1,n+1):\n",
    "    fact = fact*i\n",
    "print(fact)"
   ]
  },
  {
   "cell_type": "code",
   "execution_count": 18,
   "id": "f844d917",
   "metadata": {},
   "outputs": [
    {
     "name": "stdout",
     "output_type": "stream",
     "text": [
      "22\n",
      "Our input is  22\n",
      "3\n",
      "6\n",
      "9\n",
      "12\n",
      "15\n",
      "18\n",
      "21\n"
     ]
    }
   ],
   "source": [
    "#print Multiples of 3 till given input\n",
    "n = int(input())\n",
    "print(\"Our input is \" , n)\n",
    "for i in range(3,n+1,3):\n",
    "    print(i)"
   ]
  },
  {
   "cell_type": "code",
   "execution_count": 15,
   "id": "04f63c84",
   "metadata": {},
   "outputs": [
    {
     "name": "stdout",
     "output_type": "stream",
     "text": [
      "3\n",
      "6\n",
      "9\n",
      "12\n",
      "15\n",
      "18\n",
      "21\n",
      "24\n",
      "27\n",
      "30\n"
     ]
    }
   ],
   "source": [
    "# Print multiples of 3 till 31\n",
    "for i in range(3,31,3):\n",
    "    print(i)"
   ]
  },
  {
   "cell_type": "code",
   "execution_count": 14,
   "id": "4609f384",
   "metadata": {},
   "outputs": [
    {
     "name": "stdout",
     "output_type": "stream",
     "text": [
      "12\n",
      "12\n",
      "11\n",
      "10\n",
      "9\n",
      "8\n",
      "7\n",
      "6\n",
      "5\n",
      "4\n",
      "3\n",
      "2\n",
      "1\n"
     ]
    }
   ],
   "source": [
    "#Print numbers from n to 1\n",
    "n = int(input())\n",
    "for i in range(n,0,-1):\n",
    "    print(i)"
   ]
  },
  {
   "cell_type": "code",
   "execution_count": 13,
   "id": "c77943de",
   "metadata": {},
   "outputs": [
    {
     "name": "stdout",
     "output_type": "stream",
     "text": [
      "100\n",
      "100\n",
      "100\n",
      "100\n",
      "100\n",
      "100\n",
      "100\n",
      "100\n",
      "100\n",
      "100\n",
      "100\n",
      "see the difference\n",
      "11\n"
     ]
    }
   ],
   "source": [
    "for c in 'abscascascn':\n",
    "    print(100)\n",
    "print(\"see the difference\");\n",
    "print(11)\n"
   ]
  },
  {
   "cell_type": "code",
   "execution_count": 8,
   "id": "03d11238",
   "metadata": {},
   "outputs": [
    {
     "name": "stdout",
     "output_type": "stream",
     "text": [
      "10\n",
      "20\n",
      "30\n",
      "40\n",
      "50\n",
      "60\n",
      "70\n",
      "80\n",
      "90\n",
      "100\n"
     ]
    }
   ],
   "source": [
    "#Printing AP\n",
    "for i in range(10,101,10):\n",
    "    print(i)"
   ]
  },
  {
   "cell_type": "code",
   "execution_count": 7,
   "id": "670f6ff0",
   "metadata": {},
   "outputs": [
    {
     "name": "stdout",
     "output_type": "stream",
     "text": [
      "0\n",
      "1\n",
      "2\n",
      "3\n",
      "4\n",
      "5\n",
      "6\n",
      "7\n",
      "8\n",
      "9\n",
      "10\n",
      "11\n",
      "12\n",
      "13\n",
      "14\n",
      "15\n",
      "16\n",
      "17\n",
      "18\n",
      "19\n",
      "20\n",
      "21\n",
      "22\n",
      "23\n",
      "24\n",
      "25\n",
      "26\n",
      "27\n",
      "28\n",
      "29\n",
      "30\n"
     ]
    }
   ],
   "source": [
    "i = -10\n",
    "for i in range(31):\n",
    "    print(i)"
   ]
  },
  {
   "cell_type": "code",
   "execution_count": 3,
   "id": "8bf9ac4a",
   "metadata": {},
   "outputs": [
    {
     "name": "stdout",
     "output_type": "stream",
     "text": [
      "13123\n",
      "12312\n",
      "3\n"
     ]
    }
   ],
   "source": [
    "#Taking input and doing stuff\n",
    "n = int(input())\n",
    "m = int(input())\n",
    "if n%2 == 0:\n",
    "    if m%2==0:\n",
    "        print(1)\n",
    "    else: print(2)\n",
    "else: print(3)"
   ]
  },
  {
   "cell_type": "code",
   "execution_count": 29,
   "id": "1f713d24",
   "metadata": {},
   "outputs": [
    {
     "data": {
      "text/plain": [
       "Index(['Sr No', 'Date dd/mm/yyyy', 'Startup Name', 'Industry Vertical',\n",
       "       'SubVertical', 'City  Location', 'Investors Name', 'InvestmentnType',\n",
       "       'Amount in USD', 'Remarks'],\n",
       "      dtype='object')"
      ]
     },
     "execution_count": 29,
     "metadata": {},
     "output_type": "execute_result"
    }
   ],
   "source": [
    "import pandas as pd\n",
    "file = pd.read_csv(\"C:\\\\Users\\\\Lenovo\\\\Desktop\\\\startup_funding.csv\")\n",
    "f1 = file.copy()\n",
    "#print(f1.head(5))\n",
    "f1.loc[[4 , 6]]\n",
    "f1.shape\n",
    "f1.head(5)\n",
    "f1.loc[[2,5,7]]\n",
    "f1.columns\n",
    "f1.isnull().sum()\n",
    "f1.columns\n",
    "f1.columns\n",
    "f1.isnull().sum()\n",
    "f1.columns\n",
    "\n"
   ]
  },
  {
   "cell_type": "code",
   "execution_count": 20,
   "id": "9e00abdf",
   "metadata": {},
   "outputs": [
    {
     "name": "stdout",
     "output_type": "stream",
     "text": [
      "Hello??712e81\n",
      "<class 'int'>\n",
      "False\n"
     ]
    }
   ],
   "source": [
    "print('Hello' , end = \"??712e81\\n\")\n",
    "print( type(6) )\n",
    "print(isinstance( 'a' , int))"
   ]
  },
  {
   "cell_type": "code",
   "execution_count": null,
   "id": "25b9b691",
   "metadata": {},
   "outputs": [],
   "source": []
  },
  {
   "cell_type": "code",
   "execution_count": 2,
   "id": "bed730bf",
   "metadata": {},
   "outputs": [
    {
     "name": "stdout",
     "output_type": "stream",
     "text": [
      "Hello??712e81\n",
      "<class 'int'>\n"
     ]
    },
    {
     "data": {
      "text/plain": [
       "False"
      ]
     },
     "execution_count": 2,
     "metadata": {},
     "output_type": "execute_result"
    }
   ],
   "source": [
    "print('Hello' , end = \"??712e81\\n\")\n",
    "print( type(6) )\n",
    "isinstance( 'a' , int)"
   ]
  },
  {
   "cell_type": "code",
   "execution_count": 25,
   "id": "daa3556a",
   "metadata": {},
   "outputs": [
    {
     "name": "stdout",
     "output_type": "stream",
     "text": [
      "Hello??712e81\n",
      "<class 'int'>\n",
      "False\n"
     ]
    },
    {
     "data": {
      "text/plain": [
       "1929878558384"
      ]
     },
     "execution_count": 25,
     "metadata": {},
     "output_type": "execute_result"
    }
   ],
   "source": [
    "print('Hello' , end = \"??712e81\\n\")\n",
    "print( type(6) )\n",
    "print(isinstance( 'a' , int))\n",
    "a = 'Hello'\n",
    "id(a)\n",
    "##id is the location of cell\n"
   ]
  },
  {
   "cell_type": "code",
   "execution_count": 27,
   "id": "dcd974b1",
   "metadata": {},
   "outputs": [
    {
     "name": "stdout",
     "output_type": "stream",
     "text": [
      "Hello WorldThat's enough \n",
      "<class 'int'>\n",
      "False\n"
     ]
    },
    {
     "data": {
      "text/plain": [
       "1929878558384"
      ]
     },
     "execution_count": 27,
     "metadata": {},
     "output_type": "execute_result"
    }
   ],
   "source": [
    "print('Hello World' , end = \"That's enough \\n\")\n",
    "print( type(6) )\n",
    "print(isinstance( 'a' , int))\n",
    "a = 'Hello'\n",
    "id(a)\n",
    "##id is the location of cell\n"
   ]
  },
  {
   "cell_type": "code",
   "execution_count": 57,
   "id": "4598790b",
   "metadata": {},
   "outputs": [
    {
     "name": "stdout",
     "output_type": "stream",
     "text": [
      "Hello World That's enough \n",
      "<class 'int'>\n",
      "The type of a is Integer?\n",
      " False\n",
      "1929878558384\n",
      "1929893837680\n",
      "True\n"
     ]
    }
   ],
   "source": [
    "print('Hello World ' ,\n",
    "      end = \"That's enough \\n\")\n",
    "print( type(29) )\n",
    "print( \"The type of a is Integer?\\n\" , isinstance( 'a' , int))\n",
    "a = 'Hello'\n",
    "b =1222\n",
    "print(id(a))\n",
    "print( id(b)   )\n",
    "##id is the location of cell\n",
    "#checking id changed or not\n",
    "\n",
    "print( 5> 6 or 4>1 )\n",
    "      \n",
    "    \n",
    "import numpy as np\n",
    "\n"
   ]
  },
  {
   "cell_type": "code",
   "execution_count": 76,
   "id": "5dbdb3e4",
   "metadata": {},
   "outputs": [
    {
     "name": "stdout",
     "output_type": "stream",
     "text": [
      "Hello World That's enough \n",
      "<class 'int'>\n",
      "The type of a is Integer?\n",
      " False\n",
      "1929878558384\n",
      "1929901124720\n",
      "True\n",
      "1\n",
      "2\n",
      "3\n",
      "4\n",
      "5\n",
      "6\n",
      "7\n",
      "8\n",
      "9\n",
      "Finish\n"
     ]
    }
   ],
   "source": [
    "print('Hello World ' ,\n",
    "      end = \"That's enough \\n\")\n",
    "print( type(29) )\n",
    "print( \"The type of a is Integer?\\n\" , isinstance( 'a' , int))\n",
    "a = 'Hello'\n",
    "b =1222\n",
    "print(id(a))\n",
    "print( id(b)   )\n",
    "##id is the location of cell\n",
    "#checking id changed or not\n",
    "\n",
    "print( 5> 6 or 4>1 )\n",
    "      \n",
    "    \n",
    "import numpy as np\n",
    "\n",
    "\n",
    "a =1\n",
    "while(a<10): \n",
    "    print(a),\n",
    "    a+=1\n",
    "    ;\n",
    "print(\"Finish\")\n"
   ]
  },
  {
   "cell_type": "code",
   "execution_count": 84,
   "id": "c55c0c20",
   "metadata": {},
   "outputs": [
    {
     "name": "stdout",
     "output_type": "stream",
     "text": [
      "Hello World That's enough \n",
      "<class 'int'>\n",
      "The type of a is Integer?\n",
      " False\n",
      "1929878558384\n",
      "1929901119088\n",
      "True\n",
      "1\n",
      "2\n",
      "3\n",
      "4\n",
      "5\n",
      "6\n",
      "7\n",
      "8\n",
      "9\n",
      "Finish\n",
      "the square of  22  is 484\n",
      "the square of  23  is 529\n",
      "the square of  24  is 576\n",
      "the square of  25  is 625\n",
      "the square of  26  is 676\n",
      "the square of  27  is 729\n",
      "the square of  28  is 784\n",
      "the square of  29  is 841\n"
     ]
    }
   ],
   "source": [
    "print('Hello World ' ,\n",
    "      end = \"That's enough \\n\")\n",
    "print( type(29) )\n",
    "print( \"The type of a is Integer?\\n\" , isinstance( 'a' , int))\n",
    "a = 'Hello'\n",
    "b =1222\n",
    "print(id(a))\n",
    "print( id(b)   )\n",
    "##id is the location of cell\n",
    "#checking id changed or not\n",
    "\n",
    "print( 5> 6 or 4>1 )\n",
    "      \n",
    "    \n",
    "import numpy as np\n",
    "\n",
    "\n",
    "a =1\n",
    "while(a<10): \n",
    "    print(a),\n",
    "    a+=1\n",
    "    ;\n",
    "print(\"Finish\")\n",
    "i = 24\n",
    "for i in range(22, 30):\n",
    "    print(\"the square of \" ,i , \" is\" , i**2)\n",
    "    i+=2;\n"
   ]
  },
  {
   "cell_type": "code",
   "execution_count": 104,
   "id": "268732e9",
   "metadata": {},
   "outputs": [
    {
     "name": "stdout",
     "output_type": "stream",
     "text": [
      "Hello World That's enough \n",
      "<class 'int'>\n",
      "The type of a is Integer?\n",
      " False\n",
      "1929878558384\n",
      "1929901117392\n",
      "True\n",
      "1\n",
      "2\n",
      "3\n",
      "4\n",
      "5\n",
      "6\n",
      "7\n",
      "8\n",
      "9\n",
      "Finish\n",
      "the square of  22  is 484\n",
      "the square of  24  is 576\n",
      "the square of  26  is 676\n",
      "the square of  28  is 784\n"
     ]
    }
   ],
   "source": [
    "print('Hello World ' ,\n",
    "      end = \"That's enough \\n\")\n",
    "print( type(29) )\n",
    "print( \"The type of a is Integer?\\n\" , isinstance( 'a' , int))\n",
    "a = 'Hello'\n",
    "b =1222\n",
    "print(id(a))\n",
    "print( id(b)   )\n",
    "##id is the location of cell\n",
    "#checking id changed or not\n",
    "\n",
    "print( 5> 6 or 4>1 )\n",
    "      \n",
    "    \n",
    "import numpy as np\n",
    "\n",
    "\n",
    "a =1\n",
    "while(a<10): \n",
    "    print(a),\n",
    "    a+=1\n",
    "    ;\n",
    "print(\"Finish\")\n",
    "i = 24\n",
    "for i in range(22, 31, 2):\n",
    "    print(\"the square of \" , i , \" is\" , i**2)\n",
    "    if i ==28:\n",
    "       break;\n",
    "\n",
    "\n",
    "   "
   ]
  },
  {
   "cell_type": "code",
   "execution_count": 4,
   "id": "50cf279f",
   "metadata": {},
   "outputs": [
    {
     "name": "stdout",
     "output_type": "stream",
     "text": [
      "100\n",
      "140730219664456\n",
      "140730219664488\n"
     ]
    }
   ],
   "source": [
    "a =10\n",
    "b =10\n",
    "print(a*b)\n",
    "print(id(a))\n",
    "b = a\n",
    "a += 1\n",
    "print(id(a))\n",
    "#id of b is equal to earlier a, and it doesnt take value of new 'a' as a refrence "
   ]
  },
  {
   "cell_type": "code",
   "execution_count": 19,
   "id": "4a6651aa",
   "metadata": {},
   "outputs": [
    {
     "data": {
      "text/plain": [
       "True"
      ]
     },
     "execution_count": 19,
     "metadata": {},
     "output_type": "execute_result"
    }
   ],
   "source": [
    "a =1.01\n",
    "\n",
    "bool(a == 1.01  and a>1) "
   ]
  },
  {
   "cell_type": "code",
   "execution_count": 28,
   "id": "10303a32",
   "metadata": {},
   "outputs": [
    {
     "data": {
      "text/plain": [
       "3.0"
      ]
     },
     "execution_count": 28,
     "metadata": {},
     "output_type": "execute_result"
    }
   ],
   "source": [
    "a = 5.41\n",
    "b = a/2\n",
    "round(b, 0) "
   ]
  },
  {
   "cell_type": "code",
   "execution_count": 47,
   "id": "6072ee0b",
   "metadata": {},
   "outputs": [
    {
     "name": "stdout",
     "output_type": "stream",
     "text": [
      "2.3342\n",
      "3.334232343\n"
     ]
    },
    {
     "data": {
      "text/plain": [
       "342323"
      ]
     },
     "execution_count": 47,
     "metadata": {},
     "output_type": "execute_result"
    }
   ],
   "source": [
    "3+2-1*6//3\n",
    "a = 2.334232343\n",
    "print(format(a, \".4f\"))\n",
    "b = a + 1\n",
    "print(b)\n",
    "\n",
    "d = 342323\n",
    "round(d,3)\n",
    "\n"
   ]
  },
  {
   "cell_type": "code",
   "execution_count": 52,
   "id": "58e7922d",
   "metadata": {},
   "outputs": [
    {
     "data": {
      "text/plain": [
       "5.3"
      ]
     },
     "execution_count": 52,
     "metadata": {},
     "output_type": "execute_result"
    }
   ],
   "source": [
    "a = 5.34000\n",
    "round(a,1)"
   ]
  },
  {
   "cell_type": "code",
   "execution_count": 56,
   "id": "4cd1eb39",
   "metadata": {},
   "outputs": [
    {
     "data": {
      "text/plain": [
       "'1312'"
      ]
     },
     "execution_count": 56,
     "metadata": {},
     "output_type": "execute_result"
    }
   ],
   "source": [
    "a = '13'\n",
    "b = '12'\n",
    "a+b"
   ]
  },
  {
   "cell_type": "code",
   "execution_count": null,
   "id": "8c88f390",
   "metadata": {},
   "outputs": [],
   "source": [
    "a = input()\n",
    "b = input()\n",
    "a == b\n"
   ]
  },
  {
   "cell_type": "markdown",
   "id": "b931999b",
   "metadata": {},
   "source": []
  },
  {
   "cell_type": "code",
   "execution_count": 71,
   "id": "9b88d58f",
   "metadata": {},
   "outputs": [
    {
     "data": {
      "text/plain": [
       "True"
      ]
     },
     "execution_count": 71,
     "metadata": {},
     "output_type": "execute_result"
    }
   ],
   "source": [
    "bool(10==10)"
   ]
  },
  {
   "cell_type": "code",
   "execution_count": 77,
   "id": "f52bde9f",
   "metadata": {},
   "outputs": [
    {
     "name": "stdout",
     "output_type": "stream",
     "text": [
      "\n"
     ]
    },
    {
     "ename": "ValueError",
     "evalue": "invalid literal for int() with base 10: ''",
     "output_type": "error",
     "traceback": [
      "\u001b[1;31m---------------------------------------------------------------------------\u001b[0m",
      "\u001b[1;31mValueError\u001b[0m                                Traceback (most recent call last)",
      "Cell \u001b[1;32mIn[77], line 1\u001b[0m\n\u001b[1;32m----> 1\u001b[0m a \u001b[38;5;241m=\u001b[39m \u001b[38;5;28mint\u001b[39m(\u001b[38;5;28minput\u001b[39m())\n\u001b[0;32m      2\u001b[0m \u001b[38;5;28;01mif\u001b[39;00m a \u001b[38;5;241m>\u001b[39m \u001b[38;5;241m10\u001b[39m:\n\u001b[0;32m      3\u001b[0m     \u001b[38;5;28mprint\u001b[39m(\u001b[38;5;124m\"\u001b[39m\u001b[38;5;124mgreater than 10\u001b[39m\u001b[38;5;124m\"\u001b[39m)\n",
      "\u001b[1;31mValueError\u001b[0m: invalid literal for int() with base 10: ''"
     ]
    }
   ],
   "source": [
    "a = int(input())\n",
    "if a > 10:\n",
    "    print(\"greater than 10\")\n",
    "else : print(\"less than or equal to 10\")"
   ]
  },
  {
   "cell_type": "code",
   "execution_count": 86,
   "id": "ad5fece6",
   "metadata": {},
   "outputs": [
    {
     "name": "stdout",
     "output_type": "stream",
     "text": [
      "\n"
     ]
    },
    {
     "ename": "ValueError",
     "evalue": "invalid literal for int() with base 10: ''",
     "output_type": "error",
     "traceback": [
      "\u001b[1;31m---------------------------------------------------------------------------\u001b[0m",
      "\u001b[1;31mValueError\u001b[0m                                Traceback (most recent call last)",
      "Cell \u001b[1;32mIn[86], line 3\u001b[0m\n\u001b[0;32m      1\u001b[0m \u001b[38;5;66;03m#checking a number odd or even\u001b[39;00m\n\u001b[1;32m----> 3\u001b[0m x \u001b[38;5;241m=\u001b[39m \u001b[38;5;28mint\u001b[39m(\u001b[38;5;28minput\u001b[39m())\n\u001b[0;32m      4\u001b[0m r \u001b[38;5;241m=\u001b[39m x\u001b[38;5;241m%\u001b[39m\u001b[38;5;241m2\u001b[39m\n\u001b[0;32m      5\u001b[0m \u001b[38;5;28;01mif\u001b[39;00m r\u001b[38;5;241m==\u001b[39m\u001b[38;5;241m0\u001b[39m:\n",
      "\u001b[1;31mValueError\u001b[0m: invalid literal for int() with base 10: ''"
     ]
    }
   ],
   "source": [
    "#checking a number odd or even\n",
    "\n",
    "x = int(input())\n",
    "r = x%2\n",
    "if r==0:\n",
    "    print(\"yes, its even\")\n",
    "else: print(\"no,its odd\")"
   ]
  },
  {
   "cell_type": "code",
   "execution_count": 91,
   "id": "30c8eff7",
   "metadata": {},
   "outputs": [
    {
     "name": "stdout",
     "output_type": "stream",
     "text": [
      "12\n",
      "you chose an even function\n",
      "a multiple of 3\n"
     ]
    }
   ],
   "source": [
    "#Turn for elif function\n",
    "\n",
    "a = int(input())\n",
    "if a%2 == 0:\n",
    "    print(\"you chose an even function\")\n",
    "    if a%5 ==0:\n",
    "        print(\"Its a multiple of 10 buddy\")\n",
    "else: print(\"its odd\")\n",
    "if a%3 == 0:\n",
    "        print(\"a multiple of 3\")\n"
   ]
  },
  {
   "cell_type": "markdown",
   "id": "904d1473",
   "metadata": {},
   "source": []
  },
  {
   "cell_type": "code",
   "execution_count": 97,
   "id": "f53f9688",
   "metadata": {},
   "outputs": [
    {
     "name": "stdout",
     "output_type": "stream",
     "text": [
      "12\n",
      "22\n",
      "22\n",
      "22\n"
     ]
    }
   ],
   "source": [
    "#Finding largest of 3 Numbers\n",
    "a = int(input())\n",
    "b = int(input())\n",
    "c = int(input())\n",
    "if a >= b:\n",
    "    if a >= c:\n",
    "        print(a)\n",
    "    else: print(c)\n",
    "if b>=c:\n",
    "    print(b)\n",
    "    \n",
    "        "
   ]
  },
  {
   "cell_type": "code",
   "execution_count": 102,
   "id": "57d320fe",
   "metadata": {},
   "outputs": [
    {
     "name": "stdout",
     "output_type": "stream",
     "text": [
      "23\n",
      "23\n",
      "21\n",
      "19\n",
      "17\n",
      "15\n",
      "13\n",
      "11\n",
      "9\n",
      "10\n"
     ]
    }
   ],
   "source": [
    "# lets break down a to 100 or increment it to 100\n",
    "a = int(input())\n",
    "while (a != 10):\n",
    "    if a > 10:\n",
    "        print(a)\n",
    "        a = a - 2\n",
    "        \n",
    "    if a < 10:\n",
    "        print(a)\n",
    "        a +=1\n",
    "if a==10: print(a)\n",
    "    "
   ]
  },
  {
   "cell_type": "code",
   "execution_count": 122,
   "id": "a0812fc3",
   "metadata": {},
   "outputs": [
    {
     "name": "stdout",
     "output_type": "stream",
     "text": [
      "12321\n",
      "Its not prime\n"
     ]
    }
   ],
   "source": [
    "#Checking prime or not\n",
    "\n",
    "x = int(input())\n",
    "\n",
    "a = 2\n",
    "\n",
    "while a<x:\n",
    "    if x%a == 0:\n",
    "        print(\"Its not prime\")\n",
    "        break;\n",
    "    else: a+=1\n",
    "if a == x:\n",
    "    \n",
    "    print(\"Its prime man\")\n",
    "if x==1 or x==2:\n",
    "    print(\"its prime\")"
   ]
  },
  {
   "cell_type": "code",
   "execution_count": 123,
   "id": "63bf6ce1",
   "metadata": {},
   "outputs": [
    {
     "name": "stdout",
     "output_type": "stream",
     "text": [
      "kcasac\n",
      "k\n",
      "c\n",
      "a\n",
      "s\n",
      "a\n",
      "c\n"
     ]
    }
   ],
   "source": [
    "a  = input()\n",
    "for i in a:\n",
    "    print(i)\n"
   ]
  },
  {
   "cell_type": "code",
   "execution_count": 22,
   "id": "34012848",
   "metadata": {
    "scrolled": true
   },
   "outputs": [
    {
     "data": {
      "text/plain": [
       "0                             BYJU’S\n",
       "1                             Shuttl\n",
       "2                          Mamaearth\n",
       "3       https://www.wealthbucket.in/\n",
       "4                             Fashor\n",
       "                    ...             \n",
       "3039                      Printvenue\n",
       "3040                        Graphene\n",
       "3041                  Mad Street Den\n",
       "3042                       Simplotel\n",
       "3043                couponmachine.in\n",
       "Name: Startup Name, Length: 3044, dtype: object"
      ]
     },
     "execution_count": 22,
     "metadata": {},
     "output_type": "execute_result"
    }
   ],
   "source": [
    "import pandas as pd\n",
    "file = pd.read_csv(\"C:\\\\Users\\\\Lenovo\\\\Desktop\\\\startup_funding.csv\"  )\n",
    "#(file.head())\n",
    "file['Startup Name']"
   ]
  }
 ],
 "metadata": {
  "kernelspec": {
   "display_name": "Python 3 (ipykernel)",
   "language": "python",
   "name": "python3"
  },
  "language_info": {
   "codemirror_mode": {
    "name": "ipython",
    "version": 3
   },
   "file_extension": ".py",
   "mimetype": "text/x-python",
   "name": "python",
   "nbconvert_exporter": "python",
   "pygments_lexer": "ipython3",
   "version": "3.11.3"
  }
 },
 "nbformat": 4,
 "nbformat_minor": 5
}
