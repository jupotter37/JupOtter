{
 "cells": [
  {
   "cell_type": "markdown",
   "metadata": {},
   "source": [
    "# Python Fundamentos 1"
   ]
  },
  {
   "cell_type": "code",
   "execution_count": 1,
   "metadata": {},
   "outputs": [
    {
     "name": "stdout",
     "output_type": "stream",
     "text": [
      "1\n",
      "2\n",
      "3\n",
      "4\n",
      "5\n",
      "Function to double the value\n",
      "5\n",
      "3.2\n",
      "Hello\n"
     ]
    }
   ],
   "source": [
    "# asignacionunilinea\n",
    "a = 1; b = 2; c = 3\n",
    "\n",
    "#identacion de código o tabulación\n",
    "for i in range(1,11):\n",
    "  print(i)\n",
    "  if i == 5:\n",
    "    break\n",
    "  \n",
    "#documentando el codigo\n",
    "\n",
    "def double(num):\n",
    "    \"\"\"Function to double the value\"\"\"\n",
    "    return 2*num\n",
    "print(double.__doc__)\n",
    "\n",
    "#asignacion multiple \n",
    "a, b, c = 5, 3.2, \"Hello\"\n",
    "\n",
    "print (a)\n",
    "print (b)\n",
    "print (c)\n",
    "\n",
    "  "
   ]
  },
  {
   "cell_type": "code",
   "execution_count": null,
   "metadata": {},
   "outputs": [],
   "source": [
    "#numeros literales\n",
    "\n",
    "a = 0b1010 #Binary Literals\n",
    "b = 100 #Decimal Literal \n",
    "c = 0o310 #Octal Literal\n",
    "d = 0x12c #Hexadecimal Literal\n",
    "\n",
    "#Float Literal\n",
    "float_1 = 10.5 \n",
    "float_2 = 1.5e2\n",
    "\n",
    "#Complex Literal \n",
    "x = 3.14j\n",
    "\n",
    "print(a, b, c, d)\n",
    "print(float_1, float_2)\n",
    "print(x, x.imag, x.real)"
   ]
  },
  {
   "cell_type": "markdown",
   "metadata": {},
   "source": [
    "### Formato de salida\n",
    "A veces nos gustaría formatear nuestra salida para que se vea atractiva. Esto se puede hacer usando el str.format()método. Este método es visible para cualquier objeto de cadena."
   ]
  },
  {
   "cell_type": "code",
   "execution_count": null,
   "metadata": {},
   "outputs": [],
   "source": [
    "x = 5; y = 10\n",
    "print('The value of x is {} and y is {}'.format(x,y))\n",
    "#The value of x is 5 and y is 10"
   ]
  },
  {
   "cell_type": "code",
   "execution_count": null,
   "metadata": {},
   "outputs": [],
   "source": [
    "print('I love {0} and {1}'.format('bread','butter'))\n",
    "print('I love {1} and {0}'.format('bread','butter'))"
   ]
  },
  {
   "cell_type": "markdown",
   "metadata": {},
   "source": [
    "Incluso podemos usar argumentos de palabras clave para formatear la cadena."
   ]
  },
  {
   "cell_type": "code",
   "execution_count": null,
   "metadata": {},
   "outputs": [],
   "source": [
    "print('Hello {name}, {greeting}'.format(greeting = 'Goodmorning', name = 'John'))\n",
    "#Hello John, Goodmorning"
   ]
  },
  {
   "cell_type": "markdown",
   "metadata": {},
   "source": [
    "También podemos formatear cadenas como el antiguo sprintf()estilo utilizado en el lenguaje de programación C. Usamos el %operador para lograr esto."
   ]
  },
  {
   "cell_type": "code",
   "execution_count": null,
   "metadata": {},
   "outputs": [],
   "source": [
    "x = 12.3456789\n",
    "print('The value of x is %3.2f' %x)\n",
    "#The value of x is 12.35\n",
    "print('The value of x is %3.4f' %x)\n",
    "#The value of x is 12.3457"
   ]
  },
  {
   "cell_type": "markdown",
   "metadata": {},
   "source": [
    "### Entrada de Python\n",
    "Hasta ahora, nuestros programas eran estáticos. El valor de las variables se definió o codificó en el código fuente.\n",
    "\n",
    "Para permitir flexibilidad, es posible que deseemos tomar la entrada del usuario. En Python, tenemos la input()función para permitir esto. La sintaxis para input()es:\n",
    "\n",
    "```py\n",
    ">>> num = input('Enter a number: ')\n",
    "Enter a number: 10\n",
    ">>> num\n",
    "'10'\n",
    "```\n",
    "\n",
    "---\n",
    "Esta misma operación se puede realizar utilizando la eval()función. Pero evallo lleva más lejos. Puede evaluar incluso expresiones, siempre que la entrada sea una cadena\n",
    "\n",
    "```py\n",
    ">>> int('2+3')\n",
    "Traceback (most recent call last):\n",
    "  File \"<string>\", line 301, in runcode\n",
    "  File \"<interactive input>\", line 1, in <module>\n",
    "ValueError: invalid literal for int() with base 10: '2+3'\n",
    ">>> eval('2+3')\n",
    "5\n",
    "```"
   ]
  },
  {
   "cell_type": "markdown",
   "metadata": {},
   "source": [
    "### Importación de Python\n",
    "Cuando nuestro programa crezca, es una buena idea dividirlo en diferentes módulos.\n",
    "\n",
    "Un módulo es un archivo que contiene definiciones y declaraciones de Python. Los módulos de Python tienen un nombre de archivo y terminan con la extensión .py.\n",
    "\n",
    "Las definiciones dentro de un módulo se pueden importar a otro módulo o al intérprete interactivo en Python. Usamos la importpalabra clave para hacer esto.\n",
    "\n",
    "Por ejemplo, podemos importar el mathmódulo escribiendo la siguiente línea:"
   ]
  },
  {
   "cell_type": "code",
   "execution_count": 1,
   "metadata": {},
   "outputs": [
    {
     "name": "stdout",
     "output_type": "stream",
     "text": [
      "3.141592653589793\n"
     ]
    }
   ],
   "source": [
    "import math\n",
    "print(math.pi)"
   ]
  },
  {
   "cell_type": "markdown",
   "metadata": {},
   "source": [
    "Ahora todas las definiciones dentro del mathmódulo están disponibles en nuestro alcance. También podemos importar solo algunos atributos y funciones específicas, usando la frompalabra clave. Por ejemplo:\n",
    "\n",
    "```py\n",
    ">>> from math import pi\n",
    ">>> pi\n",
    "3.141592653589793\n",
    "\n",
    "```"
   ]
  }
 ],
 "metadata": {
  "kernelspec": {
   "display_name": "Python 3.8.2 64-bit",
   "language": "python",
   "name": "python3"
  },
  "language_info": {
   "codemirror_mode": {
    "name": "ipython",
    "version": 3
   },
   "file_extension": ".py",
   "mimetype": "text/x-python",
   "name": "python",
   "nbconvert_exporter": "python",
   "pygments_lexer": "ipython3",
   "version": "3.8.2"
  },
  "orig_nbformat": 4,
  "vscode": {
   "interpreter": {
    "hash": "0adcc2737ebf6a4a119f135174df96668767fca1ef1112612db5ecadf2b6d608"
   }
  }
 },
 "nbformat": 4,
 "nbformat_minor": 2
}
