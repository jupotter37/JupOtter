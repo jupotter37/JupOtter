{
 "cells": [
  {
   "cell_type": "markdown",
   "id": "decent-teacher",
   "metadata": {},
   "source": [
    "# Exercise 1: Computer Security - Simple authentication scheme [1]"
   ]
  },
  {
   "cell_type": "code",
   "execution_count": 89,
   "id": "secure-archive",
   "metadata": {},
   "outputs": [],
   "source": [
    "import numpy as np \n",
    "from scipy import linalg\n",
    "import random \n",
    "import matplotlib.pyplot as plt\n",
    "from mpl_toolkits import mplot3d"
   ]
  },
  {
   "cell_type": "code",
   "execution_count": 90,
   "id": "wireless-amino",
   "metadata": {},
   "outputs": [],
   "source": [
    "# Function to converting String to binary array\n",
    "def str2bits(s): \n",
    "    res = ''.join(format(ord(i), 'b') for i in s) \n",
    "    bitsArray = []\n",
    "    for i in res:\n",
    "        bitsArray.append(int(i))\n",
    "    return bitsArray"
   ]
  },
  {
   "cell_type": "markdown",
   "id": "absolute-deployment",
   "metadata": {},
   "source": [
    "# Q1"
   ]
  },
  {
   "cell_type": "code",
   "execution_count": 91,
   "id": "abroad-dining",
   "metadata": {},
   "outputs": [],
   "source": [
    "x=[1,0,1,1,1]"
   ]
  },
  {
   "cell_type": "code",
   "execution_count": 92,
   "id": "dangerous-breast",
   "metadata": {},
   "outputs": [],
   "source": [
    "c1=[0,1,0,1,1]\n",
    "c2=[1,1,1,1,0]"
   ]
  },
  {
   "cell_type": "code",
   "execution_count": 93,
   "id": "congressional-sweet",
   "metadata": {},
   "outputs": [
    {
     "name": "stdout",
     "output_type": "stream",
     "text": [
      "0\n"
     ]
    }
   ],
   "source": [
    "print(np.dot(x, c1)%2) "
   ]
  },
  {
   "cell_type": "code",
   "execution_count": 94,
   "id": "discrete-albania",
   "metadata": {},
   "outputs": [
    {
     "name": "stdout",
     "output_type": "stream",
     "text": [
      "1\n"
     ]
    }
   ],
   "source": [
    "print(np.dot(x, c2)%2) "
   ]
  },
  {
   "cell_type": "code",
   "execution_count": 95,
   "id": "informative-thomson",
   "metadata": {},
   "outputs": [],
   "source": [
    "beta1= (np.dot(x, c1)%2) \n",
    "beta2= (np.dot(x, c2)%2) "
   ]
  },
  {
   "cell_type": "code",
   "execution_count": 96,
   "id": "affecting-times",
   "metadata": {},
   "outputs": [],
   "source": [
    "beta3_add=((beta1+beta2)%2)"
   ]
  },
  {
   "cell_type": "markdown",
   "id": "alleged-minneapolis",
   "metadata": {},
   "source": [
    "# Q2"
   ]
  },
  {
   "cell_type": "code",
   "execution_count": 97,
   "id": "quiet-portrait",
   "metadata": {},
   "outputs": [],
   "source": [
    "c3=(np.add(c1,c2)%2)"
   ]
  },
  {
   "cell_type": "code",
   "execution_count": 98,
   "id": "expanded-console",
   "metadata": {},
   "outputs": [],
   "source": [
    "beta3_dot =(np.dot(x, c3)%2) "
   ]
  },
  {
   "cell_type": "code",
   "execution_count": 99,
   "id": "egyptian-treasure",
   "metadata": {},
   "outputs": [
    {
     "name": "stdout",
     "output_type": "stream",
     "text": [
      "Eve got the correct response!\n"
     ]
    }
   ],
   "source": [
    "if(beta3_add == beta3_dot):\n",
    "    print(\"Eve got the correct response!\")"
   ]
  },
  {
   "cell_type": "markdown",
   "id": "soviet-royalty",
   "metadata": {},
   "source": [
    "# Q3"
   ]
  },
  {
   "cell_type": "code",
   "execution_count": 100,
   "id": "narrow-naples",
   "metadata": {},
   "outputs": [],
   "source": [
    "c3 = [1,1,0,0,1,1]\n",
    "c4 = [1,0,1,0,1,0]\n",
    "c5 = [1,1,1,0,1,1]\n",
    "c6 = [0,0,1,1,0,0]\n",
    "\n",
    "r3 = 0\n",
    "r4 = 0\n",
    "r5 = 1\n",
    "r6 = 1\n",
    "\n",
    "ca = [0,1,1,0,0,1]\n",
    "cb = [1,1,0,1,1,1]"
   ]
  },
  {
   "cell_type": "code",
   "execution_count": 101,
   "id": "crazy-respect",
   "metadata": {},
   "outputs": [],
   "source": [
    "tempc=(np.add(c3,c4)%2)"
   ]
  },
  {
   "cell_type": "code",
   "execution_count": 102,
   "id": "sensitive-central",
   "metadata": {},
   "outputs": [
    {
     "name": "stdout",
     "output_type": "stream",
     "text": [
      "Response for ca should be 0\n"
     ]
    }
   ],
   "source": [
    "if(np.array_equal(tempc,ca)):\n",
    "    print(\"Response for ca should be \"+str((r3+r4)%2))\n"
   ]
  },
  {
   "cell_type": "code",
   "execution_count": 103,
   "id": "fancy-sydney",
   "metadata": {},
   "outputs": [],
   "source": [
    "tempc=(np.add(c5,c6)%2)"
   ]
  },
  {
   "cell_type": "code",
   "execution_count": 104,
   "id": "ordered-recognition",
   "metadata": {},
   "outputs": [
    {
     "name": "stdout",
     "output_type": "stream",
     "text": [
      "Response for cb should be 0\n"
     ]
    }
   ],
   "source": [
    "if(np.array_equal(tempc,cb)):\n",
    "    print(\"Response for cb should be \"+str((r5+r6)%2))"
   ]
  },
  {
   "cell_type": "markdown",
   "id": "extreme-semiconductor",
   "metadata": {},
   "source": [
    "# Q4\n"
   ]
  },
  {
   "cell_type": "code",
   "execution_count": 105,
   "id": "failing-product",
   "metadata": {},
   "outputs": [],
   "source": [
    "c7 = [0,1,1,0,1,1]\n",
    "c8 = [1,1,0,1,0,0]\n",
    "\n",
    "r7 = 0\n",
    "r8 = 1"
   ]
  },
  {
   "cell_type": "code",
   "execution_count": 106,
   "id": "powerful-editor",
   "metadata": {},
   "outputs": [
    {
     "data": {
      "text/plain": [
       "array([1., 0., 1., 0., 0., 1.])"
      ]
     },
     "execution_count": 106,
     "metadata": {},
     "output_type": "execute_result"
    }
   ],
   "source": [
    "a = np.array([c3,c4,c5,c6,c7,c8])\n",
    "b = np.array([r3,r4,r5,r6,r7,r8])\n",
    "\n",
    "x = (linalg.solve(a, b)%2)\n",
    "x"
   ]
  },
  {
   "cell_type": "markdown",
   "id": "forced-bubble",
   "metadata": {},
   "source": [
    "# Exercise 2: Machine learning – Linear regression"
   ]
  },
  {
   "cell_type": "markdown",
   "id": "cathedral-princess",
   "metadata": {},
   "source": [
    "# Q5"
   ]
  },
  {
   "cell_type": "code",
   "execution_count": 107,
   "id": "architectural-jaguar",
   "metadata": {},
   "outputs": [],
   "source": [
    "data = np.array( [[0.846 , 115.00],\n",
    "                 [1.324 , 234.50],\n",
    "                 [1.150 , 198.00],\n",
    "                 [3.037 , 528.00],\n",
    "                 [3.984 , 572.50]])\n",
    "\n",
    "x = np.array( [0.846 , 1.324 ,1.150 , 3.037 ,3.984 ])\n",
    "\n",
    "y = np.array( [115.00,234.50,198.00,528.00, 572.50])"
   ]
  },
  {
   "cell_type": "code",
   "execution_count": 108,
   "id": "casual-least",
   "metadata": {},
   "outputs": [],
   "source": [
    "a1= np.sum(x*x)\n",
    "a2 = np.sum(x)\n",
    "a3 = a2\n",
    "a4 = 5"
   ]
  },
  {
   "cell_type": "code",
   "execution_count": 109,
   "id": "fiscal-england",
   "metadata": {},
   "outputs": [
    {
     "data": {
      "text/plain": [
       "[[28.886817, 10.341], [10.341, 5]]"
      ]
     },
     "execution_count": 109,
     "metadata": {},
     "output_type": "execute_result"
    }
   ],
   "source": [
    "A = [[a1,a2],[a3,a4]]\n",
    "A"
   ]
  },
  {
   "cell_type": "code",
   "execution_count": 110,
   "id": "significant-tonight",
   "metadata": {},
   "outputs": [],
   "source": [
    "b1 = np.sum(y*x)\n",
    "b2 = np.sum(y)"
   ]
  },
  {
   "cell_type": "code",
   "execution_count": 111,
   "id": "palestinian-oxford",
   "metadata": {},
   "outputs": [
    {
     "data": {
      "text/plain": [
       "[4519.844, 1648.0]"
      ]
     },
     "execution_count": 111,
     "metadata": {},
     "output_type": "execute_result"
    }
   ],
   "source": [
    "B = [b1,b2]\n",
    "B"
   ]
  },
  {
   "cell_type": "code",
   "execution_count": 112,
   "id": "documentary-norfolk",
   "metadata": {},
   "outputs": [],
   "source": [
    "Ans = np.dot(np.linalg.inv(A),B)"
   ]
  },
  {
   "cell_type": "code",
   "execution_count": 113,
   "id": "vocal-championship",
   "metadata": {},
   "outputs": [
    {
     "data": {
      "image/png": "[encoded data removed]",
      "text/plain": [
       "<Figure size 432x288 with 1 Axes>"
      ]
     },
     "metadata": {
      "needs_background": "light"
     },
     "output_type": "display_data"
    }
   ],
   "source": [
    "xs = np.linspace(0,5,5)\n",
    "ys = Ans[1] + Ans[0]*xs\n",
    "plt.plot(xs,ys,'r',linewidth=4)\n",
    "plt.scatter(x,y)\n",
    "plt.show()"
   ]
  },
  {
   "cell_type": "markdown",
   "id": "growing-replica",
   "metadata": {},
   "source": [
    "# Q6\n"
   ]
  },
  {
   "cell_type": "code",
   "execution_count": 114,
   "id": "affiliated-laser",
   "metadata": {},
   "outputs": [],
   "source": [
    "x1 = [0.846,1.324,1.150,3.037,3.984]\n",
    "x2 = [1,2,3,4,5]\n",
    "y = [115.00,234.50,198.00,528.00,572.50]\n",
    "\n",
    "# X = [[1,1,1,1,1],x1,x2]\n",
    "X = [[1,0.846,1],[1,1.324,2],[1,1.150,3],[1,3.037,4],[1,3.984,5]]\n",
    "\n",
    "X = np.array(X)\n",
    "Y = np.array(y)"
   ]
  },
  {
   "cell_type": "code",
   "execution_count": 115,
   "id": "temporal-signal",
   "metadata": {},
   "outputs": [],
   "source": [
    "# A = (np.linalg.lstsq(X, y,rcond=None))[0]"
   ]
  },
  {
   "cell_type": "code",
   "execution_count": 116,
   "id": "entertaining-niagara",
   "metadata": {},
   "outputs": [
    {
     "data": {
      "text/plain": [
       "array([136.98030068, 215.89774347, 209.61722022, 472.65112643,\n",
       "       612.8536092 ])"
      ]
     },
     "execution_count": 116,
     "metadata": {},
     "output_type": "execute_result"
    }
   ],
   "source": [
    "a = np.linalg.solve(np.dot(X.T, X), np.dot(X.T, Y))\n",
    "predictedY = np.dot(X, a)\n",
    "\n",
    "# a\n",
    "predictedY"
   ]
  },
  {
   "cell_type": "code",
   "execution_count": 117,
   "id": "latin-gather",
   "metadata": {},
   "outputs": [
    {
     "data": {
      "image/png": "[encoded data removed]",
      "text/plain": [
       "<Figure size 432x288 with 1 Axes>"
      ]
     },
     "metadata": {
      "needs_background": "light"
     },
     "output_type": "display_data"
    }
   ],
   "source": [
    "# create a wiremesh for the plane that the predicted values will lie\n",
    "xx, yy, zz = np.meshgrid(X[:, 1], X[:, 2], X[:, 0])\n",
    "combinedArrays = np.vstack((xx.flatten(), yy.flatten(), zz.flatten())).T\n",
    "Z = combinedArrays.dot(a)\n",
    "\n",
    "# graph the original data, predicted data, and wiremesh plane\n",
    "fig = plt.figure(2)\n",
    "ax = plt.axes(projection='3d')\n",
    "ax.scatter(X[:, 1], X[:, 2], Y, color='r', label='Actual BP')\n",
    "ax.scatter(X[:, 1], X[:, 2], predictedY, color='g', label='Predicted BP')\n",
    "ax.plot_trisurf(combinedArrays[:, 0], combinedArrays[:, 1], Z, alpha=0.5)\n",
    "ax.legend()\n",
    "plt.show()"
   ]
  },
  {
   "cell_type": "markdown",
   "id": "flying-daisy",
   "metadata": {},
   "source": [
    "# Exercise 3: Cryptography – Threshold secret sharing [1]"
   ]
  },
  {
   "cell_type": "markdown",
   "id": "robust-camping",
   "metadata": {},
   "source": [
    "# Q7"
   ]
  },
  {
   "cell_type": "code",
   "execution_count": 118,
   "id": "interracial-engine",
   "metadata": {},
   "outputs": [],
   "source": [
    "# Function to create random binary string of length p\n",
    "def rand_key(p): \n",
    "    \n",
    "    # Variable to store in an array \n",
    "    key = []\n",
    "  \n",
    "    # Loop to find the string \n",
    "    # of desired length \n",
    "    for i in range(p): \n",
    "          \n",
    "        # randint function to generate \n",
    "        # 0, 1 randomly and add  \n",
    "        # the result into arry\n",
    "        key.append(random.randint(0, 1)) \n",
    "    return(key) "
   ]
  },
  {
   "cell_type": "code",
   "execution_count": 119,
   "id": "massive-portuguese",
   "metadata": {},
   "outputs": [],
   "source": [
    "a0 = [1,1,0,1,0,1]\n",
    "b0 = [1,1,0,0,1,1]"
   ]
  },
  {
   "cell_type": "code",
   "execution_count": 120,
   "id": "domestic-travel",
   "metadata": {},
   "outputs": [],
   "source": [
    "def random_vector(s,t):\n",
    "    u = []\n",
    "    while True:\n",
    "        u = rand_key(6)\n",
    "        if((((np.dot(u,a0)%2)==s) and ((np.dot(u,b0)%2)==t))):\n",
    "           return (u)"
   ]
  },
  {
   "cell_type": "code",
   "execution_count": 130,
   "id": "integrated-small",
   "metadata": {},
   "outputs": [],
   "source": [
    "# Function to check if the generated vectors fulfil the independency requirements\n",
    "#input two lists a & b, each contains 4 vectors\n",
    "#Return \"True\" if any 3 pairs of vectors from (a1,b1),(a2,b2),(a3,b3),(a4,b4) are linearly independent\n",
    "def check_dependency(a,b): \n",
    "    # \n",
    "    for v1 in range(0,2): #1st vector from 1 to 2\n",
    "        for v2 in range(v1+1,3): \n",
    "            for v3 in range(v2+1,4): \n",
    "                squareMatrix = np.vstack((a[v1],b[v1],a[v2],b[v2],a[v3],b[v3]))\n",
    "                determinant = np.linalg.det(squareMatrix) \n",
    "                if determinant == 0: #if determinant is 0, the vectors are not linearly dependent\n",
    "                    return False\n",
    "\n",
    "    # check if a0,b0 and any two random selected pairs of vectors are linearly independent\n",
    "    for v1 in range(0,3): #1st vector from 1 to 3\n",
    "        for v2 in range(v1+1,4):\n",
    "            squareMatrix = np.vstack((a[0], b[0], a[v1], b[v1], a[v2], b[v2]))\n",
    "            determinant = np.linalg.det(squareMatrix) \n",
    "            if determinant == 0: #if determinant is 0, the vectors are not linearly dependent\n",
    "                return False\n",
    "    return True\n",
    "\n"
   ]
  },
  {
   "cell_type": "code",
   "execution_count": 145,
   "id": "suffering-suite",
   "metadata": {},
   "outputs": [],
   "source": [
    "#Generating a1, b1, a2, b2, a3, b3, a4, b4\n",
    "\n",
    "a=[]\n",
    "b=[]\n",
    "\n",
    "while True:\n",
    "    a.append(rand_key(6))\n",
    "    a.append(rand_key(6))\n",
    "    a.append(rand_key(6))\n",
    "    a.append(rand_key(6))\n",
    "    b.append(rand_key(6))\n",
    "    b.append(rand_key(6))\n",
    "    b.append(rand_key(6))\n",
    "    b.append(rand_key(6))\n",
    "#     print(a)\n",
    "#     print(b)\n",
    "    if(not check_dependency(a,b)):\n",
    "        break\n",
    "    else:\n",
    "        a = []\n",
    "        b = []\n",
    "    \n",
    "    "
   ]
  },
  {
   "cell_type": "code",
   "execution_count": 146,
   "id": "lightweight-allen",
   "metadata": {},
   "outputs": [
    {
     "data": {
      "text/plain": [
       "[[1, 1, 0, 1, 0, 0],\n",
       " [1, 1, 0, 0, 0, 0],\n",
       " [1, 1, 1, 1, 0, 1],\n",
       " [1, 1, 1, 1, 0, 0]]"
      ]
     },
     "execution_count": 146,
     "metadata": {},
     "output_type": "execute_result"
    }
   ],
   "source": [
    "a"
   ]
  },
  {
   "cell_type": "code",
   "execution_count": 147,
   "id": "thorough-router",
   "metadata": {},
   "outputs": [
    {
     "data": {
      "text/plain": [
       "[[1, 0, 0, 0, 1, 0],\n",
       " [0, 1, 1, 0, 0, 1],\n",
       " [0, 0, 0, 1, 1, 1],\n",
       " [0, 1, 1, 0, 1, 0]]"
      ]
     },
     "execution_count": 147,
     "metadata": {},
     "output_type": "execute_result"
    }
   ],
   "source": [
    "b"
   ]
  },
  {
   "cell_type": "code",
   "execution_count": 148,
   "id": "continuing-liberia",
   "metadata": {},
   "outputs": [],
   "source": [
    "# Function to converting String to binary array\n",
    "def str2bits(s): \n",
    "    res = ''.join(format(ord(i), 'b') for i in s) \n",
    "    bitsArray = []\n",
    "    for i in res:\n",
    "        bitsArray.append(int(i))\n",
    "    return bitsArray"
   ]
  },
  {
   "cell_type": "code",
   "execution_count": 149,
   "id": "narrow-vancouver",
   "metadata": {},
   "outputs": [],
   "source": [
    "password = str2bits(\"potter\")\n",
    "n= int(len(password)/2)"
   ]
  },
  {
   "cell_type": "code",
   "execution_count": 150,
   "id": "scenic-bride",
   "metadata": {},
   "outputs": [],
   "source": [
    "password = np.reshape(password,(n,2))\n",
    "# password"
   ]
  },
  {
   "cell_type": "code",
   "execution_count": 151,
   "id": "comparable-gibraltar",
   "metadata": {},
   "outputs": [],
   "source": [
    "u=[]\n",
    "for i in range (n):\n",
    "    u.append(random_vector(password[i][0],password[i][1]))"
   ]
  },
  {
   "cell_type": "code",
   "execution_count": 152,
   "id": "rental-horror",
   "metadata": {},
   "outputs": [],
   "source": [
    "beta_1 = []\n",
    "gamma_1 = []\n",
    "\n",
    "beta_2 = []\n",
    "gamma_2 = []\n",
    "\n",
    "beta_3 = []\n",
    "gamma_3 = []\n",
    "\n",
    "beta_4 = []\n",
    "gamma_4 = []\n",
    "\n",
    "for i in range (n):\n",
    "    beta_1.append(np.dot(u[i],a[0])%2)\n",
    "    gamma_1.append(np.dot(u[i],b[0])%2)\n",
    "    \n",
    "    beta_2.append(np.dot(u[i],a[1])%2)\n",
    "    gamma_2.append(np.dot(u[i],b[1])%2)\n",
    "    \n",
    "    beta_3.append(np.dot(u[i],a[2])%2)\n",
    "    gamma_3.append(np.dot(u[i],b[2])%2)\n",
    "    \n",
    "    beta_4.append(np.dot(u[i],a[3])%2)\n",
    "    gamma_4.append(np.dot(u[i],b[3])%2)"
   ]
  },
  {
   "cell_type": "code",
   "execution_count": 198,
   "id": "according-breath",
   "metadata": {},
   "outputs": [
    {
     "data": {
      "text/plain": [
       "[1, 1, 0, 1, 0, 1]"
      ]
     },
     "execution_count": 198,
     "metadata": {},
     "output_type": "execute_result"
    }
   ],
   "source": [
    "FinAns = []"
   ]
  },
  {
   "cell_type": "code",
   "execution_count": 200,
   "id": "chicken-caribbean",
   "metadata": {},
   "outputs": [
    {
     "name": "stdout",
     "output_type": "stream",
     "text": [
      "[[1, 1, 0, 1, 0, 0], [1, 0, 0, 0, 1, 0], [1, 1, 0, 0, 0, 0], [0, 1, 1, 0, 0, 1], [1, 1, 1, 1, 0, 0], [0, 1, 1, 0, 1, 0]]\n",
      "[0, 0, 1, 0, 1, 0]\n",
      "[[1, 1, 0, 1, 0, 0], [1, 0, 0, 0, 1, 0], [1, 1, 1, 1, 0, 1], [0, 0, 0, 1, 1, 1], [1, 1, 1, 1, 0, 0], [0, 1, 1, 0, 1, 0]]\n",
      "[0, 0, 0, 1, 1, 0]\n",
      "[[1, 1, 0, 1, 0, 0], [1, 0, 0, 0, 1, 0], [1, 1, 0, 0, 0, 0], [0, 1, 1, 0, 0, 1], [1, 1, 1, 1, 0, 0], [0, 1, 1, 0, 1, 0]]\n",
      "[0, 0, 1, 0, 1, 0]\n",
      "[[1, 1, 0, 1, 0, 0], [1, 0, 0, 0, 1, 0], [1, 1, 0, 0, 0, 0], [0, 1, 1, 0, 0, 1], [1, 1, 1, 1, 0, 1], [0, 0, 0, 1, 1, 1]]\n",
      "[0, 0, 1, 0, 0, 1]\n",
      "[[1, 1, 0, 1, 0, 0], [1, 0, 0, 0, 1, 0], [1, 1, 1, 1, 0, 1], [0, 0, 0, 1, 1, 1], [1, 1, 1, 1, 0, 0], [0, 1, 1, 0, 1, 0]]\n",
      "[0, 0, 0, 1, 1, 0]\n",
      "[[1, 1, 0, 1, 0, 0], [1, 0, 0, 0, 1, 0], [1, 1, 0, 0, 0, 0], [0, 1, 1, 0, 0, 1], [1, 1, 1, 1, 0, 1], [0, 0, 0, 1, 1, 1]]\n",
      "[0, 0, 1, 0, 0, 1]\n",
      "[[1, 1, 0, 1, 0, 0], [1, 0, 0, 0, 1, 0], [1, 1, 0, 0, 0, 0], [0, 1, 1, 0, 0, 1], [1, 1, 1, 1, 0, 0], [0, 1, 1, 0, 1, 0]]\n",
      "[0, 0, 1, 0, 1, 0]\n",
      "[[1, 1, 0, 0, 0, 0], [0, 1, 1, 0, 0, 1], [1, 1, 1, 1, 0, 1], [0, 0, 0, 1, 1, 1], [1, 1, 1, 1, 0, 0], [0, 1, 1, 0, 1, 0]]\n",
      "[1, 0, 0, 1, 1, 0]\n",
      "[[1, 1, 0, 1, 0, 0], [1, 0, 0, 0, 1, 0], [1, 1, 0, 0, 0, 0], [0, 1, 1, 0, 0, 1], [1, 1, 1, 1, 0, 1], [0, 0, 0, 1, 1, 1]]\n",
      "[0, 0, 1, 0, 0, 1]\n",
      "[[1, 1, 0, 1, 0, 0], [1, 0, 0, 0, 1, 0], [1, 1, 0, 0, 0, 0], [0, 1, 1, 0, 0, 1], [1, 1, 1, 1, 0, 0], [0, 1, 1, 0, 1, 0]]\n",
      "[0, 0, 1, 0, 1, 0]\n",
      "[[1, 1, 0, 1, 0, 0], [1, 0, 0, 0, 1, 0], [1, 1, 0, 0, 0, 0], [0, 1, 1, 0, 0, 1], [1, 1, 1, 1, 0, 0], [0, 1, 1, 0, 1, 0]]\n",
      "[0, 0, 1, 0, 1, 0]\n",
      "[[1, 1, 0, 1, 0, 0], [1, 0, 0, 0, 1, 0], [1, 1, 0, 0, 0, 0], [0, 1, 1, 0, 0, 1], [1, 1, 1, 1, 0, 1], [0, 0, 0, 1, 1, 1]]\n",
      "[0, 0, 1, 0, 0, 1]\n",
      "[[1, 1, 0, 1, 0, 0], [1, 0, 0, 0, 1, 0], [1, 1, 0, 0, 0, 0], [0, 1, 1, 0, 0, 1], [1, 1, 1, 1, 0, 1], [0, 0, 0, 1, 1, 1]]\n",
      "[0, 0, 1, 0, 0, 1]\n",
      "[[1, 1, 0, 1, 0, 0], [1, 0, 0, 0, 1, 0], [1, 1, 0, 0, 0, 0], [0, 1, 1, 0, 0, 1], [1, 1, 1, 1, 0, 1], [0, 0, 0, 1, 1, 1]]\n",
      "[0, 0, 1, 0, 0, 1]\n",
      "[[1, 1, 0, 1, 0, 0], [1, 0, 0, 0, 1, 0], [1, 1, 0, 0, 0, 0], [0, 1, 1, 0, 0, 1], [1, 1, 1, 1, 0, 0], [0, 1, 1, 0, 1, 0]]\n",
      "[0, 0, 1, 0, 1, 0]\n",
      "[[1, 1, 0, 1, 0, 0], [1, 0, 0, 0, 1, 0], [1, 1, 0, 0, 0, 0], [0, 1, 1, 0, 0, 1], [1, 1, 1, 1, 0, 1], [0, 0, 0, 1, 1, 1]]\n",
      "[0, 0, 1, 0, 0, 1]\n",
      "[[1, 1, 0, 1, 0, 0], [1, 0, 0, 0, 1, 0], [1, 1, 0, 0, 0, 0], [0, 1, 1, 0, 0, 1], [1, 1, 1, 1, 0, 1], [0, 0, 0, 1, 1, 1]]\n",
      "[0, 0, 1, 0, 0, 1]\n",
      "[[1, 1, 0, 1, 0, 0], [1, 0, 0, 0, 1, 0], [1, 1, 0, 0, 0, 0], [0, 1, 1, 0, 0, 1], [1, 1, 1, 1, 0, 1], [0, 0, 0, 1, 1, 1]]\n",
      "[0, 0, 1, 0, 0, 1]\n",
      "[[1, 1, 0, 1, 0, 0], [1, 0, 0, 0, 1, 0], [1, 1, 1, 1, 0, 1], [0, 0, 0, 1, 1, 1], [1, 1, 1, 1, 0, 0], [0, 1, 1, 0, 1, 0]]\n",
      "[0, 0, 0, 1, 1, 0]\n",
      "[[1, 1, 0, 1, 0, 0], [1, 0, 0, 0, 1, 0], [1, 1, 0, 0, 0, 0], [0, 1, 1, 0, 0, 1], [1, 1, 1, 1, 0, 1], [0, 0, 0, 1, 1, 1]]\n",
      "[0, 0, 1, 0, 0, 1]\n",
      "[[1, 1, 0, 0, 0, 0], [0, 1, 1, 0, 0, 1], [1, 1, 1, 1, 0, 1], [0, 0, 0, 1, 1, 1], [1, 1, 1, 1, 0, 0], [0, 1, 1, 0, 1, 0]]\n",
      "[1, 0, 0, 1, 1, 0]\n"
     ]
    }
   ],
   "source": [
    "for i in range(n):\n",
    "    temp = random.sample([0,1,2,3],3)\n",
    "    temp.sort()\n",
    "    A = [a[temp[0]],b[temp[0]],a[temp[1]],b[temp[1]],a[temp[2]],b[temp[2]]]\n",
    "    B = []\n",
    "\n",
    "    if(temp[0]==0):\n",
    "        if(temp[1]==1):\n",
    "            if(temp[2]==2):\n",
    "                B = [beta_1[0],gamma_1[0],beta_2[0],gamma_2[0],beta_3[0],gamma_3[0]]\n",
    "            else:\n",
    "                B = [beta_1[0],gamma_1[0],beta_2[0],gamma_2[0],beta_4[0],gamma_4[0]]\n",
    "        else:\n",
    "            B = [beta_1[0],gamma_1[0],beta_3[0],gamma_3[0],beta_4[0],gamma_4[0]]\n",
    "    else:\n",
    "        B = [beta_2[0],gamma_2[0],beta_3[0],gamma_3[0],beta_4[0],gamma_4[0]]\n",
    "    print(A)\n",
    "    print(B)\n",
    "#     FinAns.append(np.dot(a0,np.linalg.solve(A,B))%2)\n",
    "#     FinAns.append(np.dot(b0,np.linalg.solve(A,B))%2)\n",
    "    "
   ]
  },
  {
   "cell_type": "code",
   "execution_count": 189,
   "id": "subsequent-canon",
   "metadata": {},
   "outputs": [
    {
     "data": {
      "text/plain": [
       "[1.0,\n",
       " 1.0,\n",
       " 1.0,\n",
       " 1.0,\n",
       " 1.0,\n",
       " 1.0,\n",
       " 1.0,\n",
       " 1.0,\n",
       " 1.0,\n",
       " 1.0,\n",
       " 0.9999999999999998,\n",
       " 1.6666666666666665,\n",
       " 1.0,\n",
       " 1.0,\n",
       " 1.0,\n",
       " 1.0,\n",
       " 1.0,\n",
       " 1.0,\n",
       " 1.0,\n",
       " 1.0,\n",
       " 1.0,\n",
       " 1.0,\n",
       " 1.0,\n",
       " 1.0,\n",
       " 1.0,\n",
       " 1.0,\n",
       " 1.0,\n",
       " 1.0,\n",
       " 1.0,\n",
       " 1.0,\n",
       " 1.0,\n",
       " 1.0,\n",
       " 1.0,\n",
       " 1.0,\n",
       " 1.0,\n",
       " 1.0,\n",
       " 1.0,\n",
       " 1.0,\n",
       " 1.0,\n",
       " 1.0,\n",
       " 1.0,\n",
       " 1.0]"
      ]
     },
     "execution_count": 189,
     "metadata": {},
     "output_type": "execute_result"
    }
   ],
   "source": [
    "FinAns"
   ]
  },
  {
   "cell_type": "code",
   "execution_count": 195,
   "id": "cooperative-examination",
   "metadata": {},
   "outputs": [],
   "source": [
    "# Function to converting binary array to String\n",
    "\n",
    "def bits2str(b):\n",
    "    NumOfChar = int(len(b)/7)\n",
    "    string = ''\n",
    "    for i in range(NumOfChar):\n",
    "        bitsChar = ''.join(str(j) for j in b[7*i:7*i+7]) # 7 digits represents 1 char\n",
    "        decimalChar = int(bitsChar,2) #convert binary to decimal\n",
    "        string = string + chr(decimalChar) #convert decimal to string\n",
    "        return string\n"
   ]
  },
  {
   "cell_type": "code",
   "execution_count": 197,
   "id": "superior-delaware",
   "metadata": {},
   "outputs": [
    {
     "ename": "ValueError",
     "evalue": "invalid literal for int() with base 2: '1.01.01.01.01.01.01.0'",
     "output_type": "error",
     "traceback": [
      "\u001b[0;31m---------------------------------------------------------------------------\u001b[0m",
      "\u001b[0;31mValueError\u001b[0m                                Traceback (most recent call last)",
      "\u001b[0;32m<ipython-input-197-46bd17bb08e8>\u001b[0m in \u001b[0;36m<module>\u001b[0;34m\u001b[0m\n\u001b[0;32m----> 1\u001b[0;31m \u001b[0mbits2str\u001b[0m\u001b[0;34m(\u001b[0m\u001b[0mFinAns\u001b[0m\u001b[0;34m)\u001b[0m\u001b[0;34m\u001b[0m\u001b[0;34m\u001b[0m\u001b[0m\n\u001b[0m",
      "\u001b[0;32m<ipython-input-195-6a90fbdc1e1f>\u001b[0m in \u001b[0;36mbits2str\u001b[0;34m(b)\u001b[0m\n\u001b[1;32m      6\u001b[0m     \u001b[0;32mfor\u001b[0m \u001b[0mi\u001b[0m \u001b[0;32min\u001b[0m \u001b[0mrange\u001b[0m\u001b[0;34m(\u001b[0m\u001b[0mNumOfChar\u001b[0m\u001b[0;34m)\u001b[0m\u001b[0;34m:\u001b[0m\u001b[0;34m\u001b[0m\u001b[0;34m\u001b[0m\u001b[0m\n\u001b[1;32m      7\u001b[0m         \u001b[0mbitsChar\u001b[0m \u001b[0;34m=\u001b[0m \u001b[0;34m''\u001b[0m\u001b[0;34m.\u001b[0m\u001b[0mjoin\u001b[0m\u001b[0;34m(\u001b[0m\u001b[0mstr\u001b[0m\u001b[0;34m(\u001b[0m\u001b[0mj\u001b[0m\u001b[0;34m)\u001b[0m \u001b[0;32mfor\u001b[0m \u001b[0mj\u001b[0m \u001b[0;32min\u001b[0m \u001b[0mb\u001b[0m\u001b[0;34m[\u001b[0m\u001b[0;36m7\u001b[0m\u001b[0;34m*\u001b[0m\u001b[0mi\u001b[0m\u001b[0;34m:\u001b[0m\u001b[0;36m7\u001b[0m\u001b[0;34m*\u001b[0m\u001b[0mi\u001b[0m\u001b[0;34m+\u001b[0m\u001b[0;36m7\u001b[0m\u001b[0;34m]\u001b[0m\u001b[0;34m)\u001b[0m \u001b[0;31m# 7 digits represents 1 char\u001b[0m\u001b[0;34m\u001b[0m\u001b[0;34m\u001b[0m\u001b[0m\n\u001b[0;32m----> 8\u001b[0;31m         \u001b[0mdecimalChar\u001b[0m \u001b[0;34m=\u001b[0m \u001b[0mint\u001b[0m\u001b[0;34m(\u001b[0m\u001b[0mbitsChar\u001b[0m\u001b[0;34m,\u001b[0m\u001b[0;36m2\u001b[0m\u001b[0;34m)\u001b[0m \u001b[0;31m#convert binary to decimal\u001b[0m\u001b[0;34m\u001b[0m\u001b[0;34m\u001b[0m\u001b[0m\n\u001b[0m\u001b[1;32m      9\u001b[0m         \u001b[0mstring\u001b[0m \u001b[0;34m=\u001b[0m \u001b[0mstring\u001b[0m \u001b[0;34m+\u001b[0m \u001b[0mchr\u001b[0m\u001b[0;34m(\u001b[0m\u001b[0mdecimalChar\u001b[0m\u001b[0;34m)\u001b[0m \u001b[0;31m#convert decimal to string\u001b[0m\u001b[0;34m\u001b[0m\u001b[0;34m\u001b[0m\u001b[0m\n\u001b[1;32m     10\u001b[0m         \u001b[0;32mreturn\u001b[0m \u001b[0mstring\u001b[0m\u001b[0;34m\u001b[0m\u001b[0;34m\u001b[0m\u001b[0m\n",
      "\u001b[0;31mValueError\u001b[0m: invalid literal for int() with base 2: '1.01.01.01.01.01.01.0'"
     ]
    }
   ],
   "source": [
    "bits2str(FinAns)"
   ]
  },
  {
   "cell_type": "code",
   "execution_count": null,
   "id": "demographic-access",
   "metadata": {},
   "outputs": [],
   "source": []
  },
  {
   "cell_type": "code",
   "execution_count": null,
   "id": "eleven-preserve",
   "metadata": {},
   "outputs": [],
   "source": []
  },
  {
   "cell_type": "code",
   "execution_count": null,
   "id": "owned-puppy",
   "metadata": {},
   "outputs": [],
   "source": []
  }
 ],
 "metadata": {
  "kernelspec": {
   "display_name": "Python 3",
   "language": "python",
   "name": "python3"
  },
  "language_info": {
   "codemirror_mode": {
    "name": "ipython",
    "version": 3
   },
   "file_extension": ".py",
   "mimetype": "text/x-python",
   "name": "python",
   "nbconvert_exporter": "python",
   "pygments_lexer": "ipython3",
   "version": "3.8.3"
  }
 },
 "nbformat": 4,
 "nbformat_minor": 5
}
