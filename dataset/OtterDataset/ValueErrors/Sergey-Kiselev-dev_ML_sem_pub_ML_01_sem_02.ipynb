{
  "nbformat": 4,
  "nbformat_minor": 0,
  "metadata": {
    "colab": {
      "provenance": [],
      "authorship_tag": "ABX9TyPMZX8PjWL9ckoZ9+y1XL9j",
      "include_colab_link": true
    },
    "kernelspec": {
      "name": "python3",
      "display_name": "Python 3"
    },
    "language_info": {
      "name": "python"
    }
  },
  "cells": [
    {
      "cell_type": "markdown",
      "metadata": {
        "id": "view-in-github",
        "colab_type": "text"
      },
      "source": [
        "<a href=\"https://colab.research.google.com/github/Sergey-Kiselev-dev/ML_sem_pub/blob/main/ML_01_sem_02.ipynb\" target=\"_parent\"><img src=\"https://colab.research.google.com/assets/colab-badge.svg\" alt=\"Open In Colab\"/></a>"
      ]
    },
    {
      "cell_type": "markdown",
      "source": [
        "Семинар 2: объектно-ориентированное программирование в Python\n",
        "Вступление\n",
        "Бывает, что вам нужно написать программу, которую вы запустите один раз и которая просто должна решить некоторую задачу. В этом случае все средства хороши, и можно оформлять код так, как вам удобно. Есть и другая ситуация: вам надо запрограммировать что-то, что потом вы будете использовать много раз, а ещё этот код могут захотеть редактировать другие люди. Тут надо задуматься о правильном оформлении кода.\n",
        "\n",
        "В машинном обучении главное — это модели, их обучение, применение, подсчёт качества и прочие связанные операции. Допустим, вы собрались запрограммировать обучение и применение метода k ближайших соседей и выложить в открытый доступ. Тогда будет логично потребовать от вашего кода следующее:\n",
        "\n",
        "Вы можете что-то улучшить в нём, не поменяв логику работы, и это не сломает ничего у пользователей. Будет странно, если вы, скажем, замените циклы на векторные операции в numpy, опубликуете новую версию, и любой код, зависящий от вашего, перестанет работать. Ведь суть того, что делает ваш код, не поменялась!\n",
        "Достаточно легко можно сделать расширенные версии kNN на основе вашего кода — например, запрограммировать kNN с весами.\n",
        "От пользователей скрыты все детали вашей реализации — чтобы пользоваться вашим кодом для kNN, им не нужно вникать, как вы храните данные, как ищете ближайших соседей и т.д. Они просто вызывают нужные функции, и всё работает.\n",
        "Объектно-ориентированное программирование (ООП) — это подход к организации кода, который (наверное) лучше всего подходит для оформления операций из машинного обучения. В его основе лежат классы и объекты, а также три важных свойства: инкапсуляция, наследование и полиморфизм. Ниже мы разберёмся со всем этим.\n",
        "\n",
        "Программист может создать класс, своеобразный чертёж, который будет определять поведение объектов этого класса: какие данные они могут хранить и какой код исполнять. После этого можно создавать объекты класса с ожидаемым поведением.\n",
        "\n",
        "Поломать голову над формальными определениями ООП можно на вики.\n",
        "\n",
        "План семинара:\n",
        "Как создать класс\n",
        "Методы\n",
        "Атрибуты класса и метод __init__\n",
        "Magic методы\n",
        "Копирование\n",
        "getter, setter\n",
        "@staticmethod\n",
        "@classmethod\n",
        "Наследование, super())\n",
        "ABC — Abstract Base Classes\n",
        "Datacasses\n",
        "Как создать класс\n",
        "Класс в питоне создаётся специальной конструкцией class. Экземпляр (объект, instance) класса создаётся вызовом класса со скобками.\n"
      ],
      "metadata": {
        "id": "ruKzbsEWG3Xc"
      }
    },
    {
      "cell_type": "code",
      "execution_count": 2,
      "metadata": {
        "colab": {
          "base_uri": "https://localhost:8080/"
        },
        "id": "7rB36T30-m4k",
        "outputId": "e754d0b5-58e6-4c06-a92b-54037bfa9b88"
      },
      "outputs": [
        {
          "output_type": "execute_result",
          "data": {
            "text/plain": [
              "<__main__.DummyClass at 0x7f9a0167abc0>"
            ]
          },
          "metadata": {},
          "execution_count": 2
        }
      ],
      "source": [
        "class DummyClass:\n",
        "    pass\n",
        "\n",
        "\n",
        "dummy_object = DummyClass()\n",
        "\n",
        "dummy_object\n"
      ]
    },
    {
      "cell_type": "code",
      "source": [
        "import math\n",
        "\n",
        "vars(DummyClass)"
      ],
      "metadata": {
        "colab": {
          "base_uri": "https://localhost:8080/"
        },
        "id": "4AIGwTrrC565",
        "outputId": "0fd19138-2d8c-4f23-fbe8-c777114a5f36"
      },
      "execution_count": 3,
      "outputs": [
        {
          "output_type": "execute_result",
          "data": {
            "text/plain": [
              "mappingproxy({'__module__': '__main__',\n",
              "              '__dict__': <attribute '__dict__' of 'DummyClass' objects>,\n",
              "              '__weakref__': <attribute '__weakref__' of 'DummyClass' objects>,\n",
              "              '__doc__': None})"
            ]
          },
          "metadata": {},
          "execution_count": 3
        }
      ]
    },
    {
      "cell_type": "code",
      "source": [
        "Методы\n",
        "Классы могут определять функции, которые можно будет вызывать от их объектов. Такие функции называются методами. В любом (почти) методе первым аргументом является self. В него будет передан сам объект, от которого вызывается метод.\n",
        "\n",
        "Наш класс не особо полезен, так как ничего не делает. Давайте напишем класс с методом. Вызов методов происходит через оператор ."
      ],
      "metadata": {
        "id": "COqtUa-tDSZ4",
        "colab": {
          "base_uri": "https://localhost:8080/",
          "height": 124
        },
        "outputId": "14405a05-53f6-4c02-f7b8-c902b0b3d3bd"
      },
      "execution_count": 4,
      "outputs": [
        {
          "output_type": "error",
          "ename": "SyntaxError",
          "evalue": "invalid syntax (<ipython-input-4-6e47b9bbe310>, line 2)",
          "traceback": [
            "\u001b[0;36m  File \u001b[0;32m\"<ipython-input-4-6e47b9bbe310>\"\u001b[0;36m, line \u001b[0;32m2\u001b[0m\n\u001b[0;31m    Классы могут определять функции, которые можно будет вызывать от их объектов. Такие функции называются методами. В любом (почти) методе первым аргументом является self. В него будет передан сам объект, от которого вызывается метод.\u001b[0m\n\u001b[0m           ^\u001b[0m\n\u001b[0;31mSyntaxError\u001b[0m\u001b[0;31m:\u001b[0m invalid syntax\n"
          ]
        }
      ]
    },
    {
      "cell_type": "code",
      "source": [
        "GOOSE = \"\"\"\n",
        "░░░░░▄▀▀▀▄░░░░░░░░\n",
        "▄███▀░◐░░░▌░░░░░░░\n",
        "░░░░▌░░░░░▐░░░░░░░\n",
        "░░░░▐░░░░░▐░░░░░░░\n",
        "░░░░▌░░░░░▐▄▄░░░░░\n",
        "░░░░▌░░░░▄▀▒▒▀▀▀▀▄\n",
        "░░░▐░░░░▐▒▒▒▒▒▒▒▒▀▀▄\n",
        "░░░▐░░░░▐▄▒▒▒▒▒▒▒▒▒▒▀▄\n",
        "░░░░▀▄░░░░▀▄▒▒▒▒▒▒▒▒▒▒▀▄\n",
        "░░░░░░▀▄▄▄▄▄█▄▄▄▄▄▄▄▄▄▄▄▀▄\n",
        "░░░░░░░░░░░▌▌▌▌░░░░░\n",
        "░░░░░░░░░░░▌▌░▌▌░░░░░\n",
        "░░░░░░░░░▄▄▌▌▄▌▌░░░░░\"\"\"\n",
        "\n",
        "\n",
        "class GoosePrinter:\n",
        "    GOOSE = \"\"\n",
        "\n",
        "    def print_goose(self) -> None:\n",
        "        print(self.GOOSE)\n",
        "\n",
        "\n",
        "goose_printer = GoosePrinter()\n",
        "\n",
        "goose_printer.print_goose()\n"
      ],
      "metadata": {
        "colab": {
          "base_uri": "https://localhost:8080/"
        },
        "id": "xGWY6Xa3D_m_",
        "outputId": "42c3bae0-a3a7-4626-a4db-bd7707708fc0"
      },
      "execution_count": null,
      "outputs": [
        {
          "output_type": "stream",
          "name": "stdout",
          "text": [
            "\n"
          ]
        }
      ]
    },
    {
      "cell_type": "code",
      "source": [
        "vars(GoosePrinter)"
      ],
      "metadata": {
        "colab": {
          "base_uri": "https://localhost:8080/",
          "height": 141
        },
        "id": "zKd1mMMYEsK1",
        "outputId": "1ac203be-c471-4208-85bd-6deefa681640"
      },
      "execution_count": 5,
      "outputs": [
        {
          "output_type": "error",
          "ename": "NameError",
          "evalue": "name 'GoosePrinter' is not defined",
          "traceback": [
            "\u001b[0;31m---------------------------------------------------------------------------\u001b[0m",
            "\u001b[0;31mNameError\u001b[0m                                 Traceback (most recent call last)",
            "\u001b[0;32m<ipython-input-5-831f51f738d8>\u001b[0m in \u001b[0;36m<cell line: 1>\u001b[0;34m()\u001b[0m\n\u001b[0;32m----> 1\u001b[0;31m \u001b[0mvars\u001b[0m\u001b[0;34m(\u001b[0m\u001b[0mGoosePrinter\u001b[0m\u001b[0;34m)\u001b[0m\u001b[0;34m\u001b[0m\u001b[0;34m\u001b[0m\u001b[0m\n\u001b[0m",
            "\u001b[0;31mNameError\u001b[0m: name 'GoosePrinter' is not defined"
          ]
        }
      ]
    },
    {
      "cell_type": "code",
      "source": [
        "class Point2D:\n",
        "    \"\"\"\n",
        "    A point in 2D space\n",
        "    :param x: x coordinate\n",
        "    :param y: y coordinate\n",
        "    \"\"\"\n",
        "\n",
        "    def __init__(self, x: int, y: int) -> None:\n",
        "        # Создаём атрибуты и присваиваем им переданные значения координат\n",
        "        self.x = x\n",
        "        self.y = y\n",
        "\n",
        "    def print_coords(self) -> None:\n",
        "        # Выводим координаты, обращаясь к ним через self с точкой\n",
        "        print(f\"({self.x}, {self.y})\")\n",
        "\n",
        "    def first_coord(self) -> int:\n",
        "        return x\n",
        "\n",
        "\n",
        "point = Point2D(3, 5)\n",
        "point.print_coords()\n",
        "\n",
        "vars(Point2D)"
      ],
      "metadata": {
        "colab": {
          "base_uri": "https://localhost:8080/"
        },
        "id": "HA1Mkz74Ev56",
        "outputId": "e8591485-8e2e-49d5-b98a-6fc1b1b1e3f8"
      },
      "execution_count": 6,
      "outputs": [
        {
          "output_type": "stream",
          "name": "stdout",
          "text": [
            "(3, 5)\n"
          ]
        },
        {
          "output_type": "execute_result",
          "data": {
            "text/plain": [
              "mappingproxy({'__module__': '__main__',\n",
              "              '__doc__': '\\n    A point in 2D space\\n    :param x: x coordinate\\n    :param y: y coordinate\\n    ',\n",
              "              '__init__': <function __main__.Point2D.__init__(self, x: int, y: int) -> None>,\n",
              "              'print_coords': <function __main__.Point2D.print_coords(self) -> None>,\n",
              "              'first_coord': <function __main__.Point2D.first_coord(self) -> int>,\n",
              "              '__dict__': <attribute '__dict__' of 'Point2D' objects>,\n",
              "              '__weakref__': <attribute '__weakref__' of 'Point2D' objects>})"
            ]
          },
          "metadata": {},
          "execution_count": 6
        }
      ]
    },
    {
      "cell_type": "markdown",
      "source": [
        "Magic методы\n",
        "В питоне у классов могут быть так называемые магические методы. Это методы, которые может определить класс, которые позволяют ему действовать определённым образом. Обычно они не вызываются напрямую.\n",
        "\n",
        "Все магические методы отличаются тем, что их названия начинаются и заканчиваются на двойные подчёркивания (__method__). С одним таким мы уже познакомились — это метод __init__, который вызывается при создании объекта класса. Давайте посмотрим, какие ещё бывают магические методы:\n",
        "\n",
        "__str__ и __repr__ (Документация)\n",
        "Методы __str__ и __repr__ позволяют добавить текстовое описание к объекту класса. Они возвращают строку, описывающую объект.\n",
        "\n",
        "Метод __str__ должен возвращать строку, описывающую объект простым, понятным, читаемым образом, а метод __repr__ предназаначен больше для дебага и должен возвращать всю информацию об объекте, а его вывод должен в идеале быть исполняемым кодом, с помощью которого можно было бы создать такой же объект.\n",
        "\n",
        "Метод __str__ вызывается, например, когда мы принтим объект или берём str от него (например, str(point)). Метод __repr__ вызывается, например, когда мы просто выводим объект в консоли или берём repr от него. Если __str__ не определён, по дефолту его роль будет играть __repr__.\n",
        "\n",
        "Давайте избавимся от метода print_coords и добавим нашим точкам хорошее форматирование:"
      ],
      "metadata": {
        "id": "TfMBkUHvm6ht"
      }
    },
    {
      "cell_type": "code",
      "source": [
        "# Для начала убедимся, что по дефолту наши точки не умеют красиво печататься:\n",
        "print(f\"Некрасивая точка: {Point2D(5, 5)}\")\n",
        "\n",
        "\n",
        "class Point2D:\n",
        "    \"\"\"\n",
        "    A point in 2D space\n",
        "    :param x: x coordinate\n",
        "    :param y: y coordinate\n",
        "    \"\"\"\n",
        "\n",
        "    def __init__(self, x: int, y: int) -> None:\n",
        "        # Создаём атрибуты и присваиваем им переданные значения координат\n",
        "        self.x = x\n",
        "        self.y = y\n",
        "\n",
        "    def __repr__(self) -> str:\n",
        "        return f\"Point2D({self.x}, {self.y})\"\n",
        "\n",
        "    def __str__(self) -> str:\n",
        "        return f\"A 2D point with coordinates ({self.x}, {self.y})\"\n",
        "\n",
        "    def __deepcopy__(self):\n",
        "        pass\n",
        "\n",
        "\n",
        "# Посмотрим, что у нас есть теперь:\n",
        "print(Point2D(5, 5))\n",
        "Point2D(3, 4)"
      ],
      "metadata": {
        "colab": {
          "base_uri": "https://localhost:8080/"
        },
        "id": "-dZOw61Gm80n",
        "outputId": "d849fa20-5073-4b37-c00a-e61a8add86df"
      },
      "execution_count": 7,
      "outputs": [
        {
          "output_type": "stream",
          "name": "stdout",
          "text": [
            "Некрасивая точка: <__main__.Point2D object at 0x7f9a0167ab00>\n",
            "A 2D point with coordinates (5, 5)\n"
          ]
        },
        {
          "output_type": "execute_result",
          "data": {
            "text/plain": [
              "Point2D(3, 4)"
            ]
          },
          "metadata": {},
          "execution_count": 7
        }
      ]
    },
    {
      "cell_type": "code",
      "source": [
        "p = Point2D(10, 11)\n",
        "p"
      ],
      "metadata": {
        "colab": {
          "base_uri": "https://localhost:8080/"
        },
        "id": "gh_gIAUkE6_q",
        "outputId": "e0c34c8d-9fd7-46b4-b280-f5e8d77d4b09"
      },
      "execution_count": 8,
      "outputs": [
        {
          "output_type": "execute_result",
          "data": {
            "text/plain": [
              "Point2D(10, 11)"
            ]
          },
          "metadata": {},
          "execution_count": 8
        }
      ]
    },
    {
      "cell_type": "code",
      "source": [
        "print(p)\n",
        "p + Point2D(1, 1)"
      ],
      "metadata": {
        "colab": {
          "base_uri": "https://localhost:8080/",
          "height": 176
        },
        "id": "qXUSaNHVnGAZ",
        "outputId": "4eb6a6be-71e6-4005-8cd4-d3a6b7841409"
      },
      "execution_count": 9,
      "outputs": [
        {
          "output_type": "stream",
          "name": "stdout",
          "text": [
            "A 2D point with coordinates (10, 11)\n"
          ]
        },
        {
          "output_type": "error",
          "ename": "TypeError",
          "evalue": "unsupported operand type(s) for +: 'Point2D' and 'Point2D'",
          "traceback": [
            "\u001b[0;31m---------------------------------------------------------------------------\u001b[0m",
            "\u001b[0;31mTypeError\u001b[0m                                 Traceback (most recent call last)",
            "\u001b[0;32m<ipython-input-9-6a46ff8d6649>\u001b[0m in \u001b[0;36m<cell line: 2>\u001b[0;34m()\u001b[0m\n\u001b[1;32m      1\u001b[0m \u001b[0mprint\u001b[0m\u001b[0;34m(\u001b[0m\u001b[0mp\u001b[0m\u001b[0;34m)\u001b[0m\u001b[0;34m\u001b[0m\u001b[0;34m\u001b[0m\u001b[0m\n\u001b[0;32m----> 2\u001b[0;31m \u001b[0mp\u001b[0m \u001b[0;34m+\u001b[0m \u001b[0mPoint2D\u001b[0m\u001b[0;34m(\u001b[0m\u001b[0;36m1\u001b[0m\u001b[0;34m,\u001b[0m \u001b[0;36m1\u001b[0m\u001b[0;34m)\u001b[0m\u001b[0;34m\u001b[0m\u001b[0;34m\u001b[0m\u001b[0m\n\u001b[0m",
            "\u001b[0;31mTypeError\u001b[0m: unsupported operand type(s) for +: 'Point2D' and 'Point2D'"
          ]
        }
      ]
    },
    {
      "cell_type": "markdown",
      "source": [
        "Обратите внимание, что __str__ вызвался, когда мы запринтили объект, а __repr__, когда мы вывели его в конце ячейки.\n",
        "\n",
        "__add__, __sub__, __mul__, __truediv__, etc. (Документация)\n",
        "Методы __add__, __sub__, __mul__, __truediv__ позволяют добавить классу функционал сложения, вычитания, умножения, деления и так далее, (операторы +, -, *, /, etc.). Они вызываются от левого операнда и применяются к правому, возвращая результат. Давайте научим наши точки складываться и вычитаться:"
      ],
      "metadata": {
        "id": "uwvEQ4emnL0e"
      }
    },
    {
      "cell_type": "code",
      "source": [
        "class Point2D:\n",
        "    \"\"\"\n",
        "    A point in 2D space\n",
        "    :param x: x coordinate\n",
        "    :param y: y coordinate\n",
        "    \"\"\"\n",
        "\n",
        "    def __init__(self, x: int, y: int) -> None:\n",
        "        # Создаём атрибуты и присваиваем им переданные значения координат\n",
        "        self.x = x\n",
        "        self.y = y\n",
        "\n",
        "    def __repr__(self) -> str:\n",
        "        return f\"Point2D({self.x}, {self.y})\"\n",
        "\n",
        "    def __str__(self) -> str:\n",
        "        return f\"A 2D point with coordinates ({self.x}, {self.y})\"\n",
        "\n",
        "    def __add__(self, other: Point2D) -> Point2D:\n",
        "        return Point2D(self.x + other.x, self.y + other.y)\n",
        "\n",
        "    def __sub__(self, other: Point2D) -> Point2D:\n",
        "        return Point2D(self.x - other.x, self.y - other.y)\n",
        "\n",
        "\n",
        "print(Point2D(3, 5) + Point2D(4, 7))\n",
        "print(Point2D(3, 5) - Point2D(4, 7))"
      ],
      "metadata": {
        "colab": {
          "base_uri": "https://localhost:8080/"
        },
        "id": "poh5cAjFnM65",
        "outputId": "1dad41f4-5dfd-408f-c60e-55803ad7afd2"
      },
      "execution_count": 10,
      "outputs": [
        {
          "output_type": "stream",
          "name": "stdout",
          "text": [
            "A 2D point with coordinates (7, 12)\n",
            "A 2D point with coordinates (-1, -2)\n"
          ]
        }
      ]
    },
    {
      "cell_type": "markdown",
      "source": [
        "У каждого из вышеописанных методов есть так же версия \"i\" в начале, отвечающая за операцию с присвоением (__iadd__ — +=, __isub__ — -=, etc.)\n",
        "\n",
        "В принципе, операции с присовением будут работать и так, питон сам выведет их из обычных операций. Но на самом деле они не будут модифицировать объект in-place, а будут возвращать новый объект и присваивать его переменной:"
      ],
      "metadata": {
        "id": "rsFt29JsnUIu"
      }
    },
    {
      "cell_type": "code",
      "source": [
        "a = Point2D(3, 3)\n",
        "print(id(a))\n",
        "\n",
        "a += Point2D(1, 1)\n",
        "print(id(a))\n",
        "print(a)"
      ],
      "metadata": {
        "colab": {
          "base_uri": "https://localhost:8080/"
        },
        "id": "5taxmGupnVYQ",
        "outputId": "41a2f605-1eae-4699-ff86-29b84cbf77a2"
      },
      "execution_count": 11,
      "outputs": [
        {
          "output_type": "stream",
          "name": "stdout",
          "text": [
            "140299425266752\n",
            "140299425264880\n",
            "A 2D point with coordinates (4, 4)\n"
          ]
        }
      ]
    },
    {
      "cell_type": "markdown",
      "source": [
        "В данном случае это скорее правильное поведение, но давайте для практики добавим в наш класс эти методы:"
      ],
      "metadata": {
        "id": "v0fFbfJBncxW"
      }
    },
    {
      "cell_type": "code",
      "source": [
        "class Point2D:\n",
        "    \"\"\"\n",
        "    A point in 2D space\n",
        "    :param x: x coordinate\n",
        "    :param y: y coordinate\n",
        "    \"\"\"\n",
        "\n",
        "    def __init__(self, x: int, y: int) -> None:\n",
        "        # Создаём атрибуты и присваиваем им переданные значения координат\n",
        "        self.x = x\n",
        "        self.y = y\n",
        "\n",
        "    def __repr__(self) -> str:\n",
        "        return f\"Point2D({self.x}, {self.y})\"\n",
        "\n",
        "    def __str__(self) -> str:\n",
        "        return f\"A 2D point with coordinates ({self.x}, {self.y})\"\n",
        "\n",
        "    def __add__(self, other: Point2D) -> Point2D:\n",
        "        return Point2D(self.x + other.x, self.y + other.y)\n",
        "\n",
        "    def __sub__(self, other: Point2D) -> Point2D:\n",
        "        return Point2D(self.x - other.x, self.y - other.y)\n",
        "\n",
        "    def __iadd__(self, other: Point2D) -> Point2D:\n",
        "        self.x += other.x\n",
        "        self.y += other.y\n",
        "        return self\n",
        "\n",
        "    def __isub__(self, other: Point2D) -> Point2D:\n",
        "        self.x -= other.x\n",
        "        self.y -= other.y\n",
        "        return self"
      ],
      "metadata": {
        "id": "cLpyHIZHneFz"
      },
      "execution_count": 12,
      "outputs": []
    },
    {
      "cell_type": "code",
      "source": [
        "a = Point2D(3, 3)\n",
        "print(id(a))\n",
        "\n",
        "a += Point2D(2, 2)\n",
        "print(id(a))\n",
        "print(a)\n",
        "\n",
        "a += Point2D(2, 2)\n",
        "print(id(a))\n",
        "print(a)"
      ],
      "metadata": {
        "colab": {
          "base_uri": "https://localhost:8080/"
        },
        "id": "NTYFrHkNnkcX",
        "outputId": "03ae7c37-1e15-4742-cdd9-64fdf811a51e"
      },
      "execution_count": 13,
      "outputs": [
        {
          "output_type": "stream",
          "name": "stdout",
          "text": [
            "140299425266080\n",
            "140299425266080\n",
            "A 2D point with coordinates (5, 5)\n",
            "140299425266080\n",
            "A 2D point with coordinates (7, 7)\n"
          ]
        }
      ]
    },
    {
      "cell_type": "markdown",
      "source": [
        "еперь при использовании += мы остаёмся с тем же объектом.\n",
        "\n",
        "__eq__, __ne__, __lt__, __le__, __gt__, __ge__, (Документация)\n",
        "По умолчанию объекты классов в питоне не имеют порядка и сравниваются на равенство при помощи is. Таким образом, две точки будут равны друг другу только тогда когда они представляют один и тот же объект в памяти:"
      ],
      "metadata": {
        "id": "_kYpxcTCnpgR"
      }
    },
    {
      "cell_type": "code",
      "source": [
        "a = Point2D(1, 1)\n",
        "b = Point2D(1, 1)\n",
        "\n",
        "a == b, a == a"
      ],
      "metadata": {
        "colab": {
          "base_uri": "https://localhost:8080/"
        },
        "id": "oH-pONBMnrAV",
        "outputId": "319dbc9e-da03-4ac9-c67b-dcb674a658af"
      },
      "execution_count": 14,
      "outputs": [
        {
          "output_type": "execute_result",
          "data": {
            "text/plain": [
              "(False, True)"
            ]
          },
          "metadata": {},
          "execution_count": 14
        }
      ]
    },
    {
      "cell_type": "markdown",
      "source": [
        "Методы __eq__, __ne__, __lt__, __le__, __gt__, __ge__ позволяют задать правила сравнения для объектов класса.\n",
        "\n",
        "Давайте научим наши точки сравниваться:"
      ],
      "metadata": {
        "id": "yFW0Jn1SnzWT"
      }
    },
    {
      "cell_type": "code",
      "source": [
        "class Point2D:\n",
        "    \"\"\"\n",
        "    A point in 2D space\n",
        "    :param x: x coordinate\n",
        "    :param y: y coordinate\n",
        "    \"\"\"\n",
        "\n",
        "    def __init__(self, x: int, y: int) -> None:\n",
        "        # Создаём атрибуты и присваиваем им переданные значения координат\n",
        "        self.x = x\n",
        "        self.y = y\n",
        "\n",
        "    def __repr__(self) -> str:\n",
        "        return f\"Point2D({self.x}, {self.y})\"\n",
        "\n",
        "    def __str__(self) -> str:\n",
        "        return f\"A 2D point with coordinates ({self.x}, {self.y})\"\n",
        "\n",
        "    def __add__(self, other: Point2D) -> Point2D:\n",
        "        return Point2D(self.x + other.x, self.y + other.y)\n",
        "\n",
        "    def __sub__(self, other: Point2D) -> Point2D:\n",
        "        return Point2D(self.x - other.x, self.y - other.y)\n",
        "\n",
        "    def __iadd__(self, other: Point2D) -> Point2D:\n",
        "        self.x += other.x\n",
        "        self.y += other.y\n",
        "        return self\n",
        "\n",
        "    def __isub__(self, other: Point2D) -> Point2D:\n",
        "        self.x -= other.x\n",
        "        self.y -= other.y\n",
        "        return self\n",
        "\n",
        "    def __eq__(self, other: Point2D) -> Point2D:\n",
        "        return self.x == other.x and self.y == other.y\n",
        "\n",
        "    def __del__(self):\n",
        "        print(\"delete\", end=\" \")\n",
        "        print(self)\n",
        "\n",
        "\n",
        "# print(Point2D(1, 1) == Point2D(1, 1))\n",
        "# print(Point2D(1, 1) != Point2D(1, 1))\n",
        "# print(Point2D(1, 1) == Point2D(1, 2))\n",
        "# print(Point2D(1, 1) != Point2D(1, 2))\n",
        "\n",
        "p = Point2D(1, 1)\n",
        "del p"
      ],
      "metadata": {
        "colab": {
          "base_uri": "https://localhost:8080/"
        },
        "id": "fVp44BVjn0gd",
        "outputId": "285b861b-e9a5-423e-d007-7b2288893376"
      },
      "execution_count": 15,
      "outputs": [
        {
          "output_type": "stream",
          "name": "stdout",
          "text": [
            "delete A 2D point with coordinates (1, 1)\n"
          ]
        }
      ]
    },
    {
      "cell_type": "markdown",
      "source": [
        "delete A 2D point with coordinates (1, 1)\n",
        "Обратите внимание, что когда мы определили __eq__ (==) для сравнения, __ne__ (!=) вывелся автоматически. Однако, это исключение. Если мы, например, определим ещё и __gt__ (>), операция __le__ (<=) сама не выведется.\n",
        "\n",
        "NB: Если вам хочется написать одну операцию, чтобы остальные вывелись автоматически, используйте декоратор functools.total_ordering\n",
        "\n",
        "Кроме описанных в питоне есть ещё великое множество магических методов, которые способны осуществить примерно любое поведение, которое вы видели в питоне. Все их можно посмотреть в документации или нагуглить.\n",
        "\n",
        "Из полезных можно отметить:\n",
        "\n",
        "__new__ и __del__ — создание и удаление объекта.\n",
        "__len__ — возвращение длины объекта (например, контейнера). Используется функцией len.\n",
        "__getitem__, __setitem__ — индексация квадратными скобками.\n",
        "__getattr__, __setattr__ — обращение к атрибутам по точке.\n",
        "__iter__ — возвращает итератор, проходящий по объекту. Используется, например, for.\n",
        "__next__ — возвращает следующее состояние итератора\n",
        "__nonzero__ — определяет поведение функции bool на объекте.\n",
        "__contains__ — определяет поведение оператора in (полезно для контейнеров)\n",
        "__call__ — вызывается, когда объект класса вызывается со скобками (как функция). Позволяет сделать объекты класса callable.\n",
        "__copy__, __deepcopy__ — определяют, как объект класса копируется.\n",
        "Копирование\n",
        "Переменные в питоне всегда хранят ссылку на объект. Если мы присвоим объект нашего класса двум разным переменным, они обе будут хранить один и тот же объект и \"меняться\" вместе:"
      ],
      "metadata": {
        "id": "bdaxOPimn7Rr"
      }
    },
    {
      "cell_type": "code",
      "source": [
        "a = Point2D(3, 4)\n",
        "print(a)\n",
        "\n",
        "b = a\n",
        "b.x = -1\n",
        "\n",
        "print(a)\n",
        "\n",
        "print(id(a), id(b))"
      ],
      "metadata": {
        "colab": {
          "base_uri": "https://localhost:8080/"
        },
        "id": "-sxyoiWhn8vg",
        "outputId": "691bfc80-c418-46b8-e2fc-1ac447634e6f"
      },
      "execution_count": 16,
      "outputs": [
        {
          "output_type": "stream",
          "name": "stdout",
          "text": [
            "A 2D point with coordinates (3, 4)\n",
            "A 2D point with coordinates (-1, 4)\n",
            "140299407219952 140299407219952\n"
          ]
        }
      ]
    },
    {
      "cell_type": "markdown",
      "source": [
        "Мы поменяли значение в переменной b, но значение в a тоже поменялось, потому что они ссылаются на один и тот же объект.\n",
        "\n",
        "Чтобы избежать этого недоразумения в питоне существует модуль copy и соответствующая функция:"
      ],
      "metadata": {
        "id": "U7yrBCvvoGwT"
      }
    },
    {
      "cell_type": "code",
      "source": [
        "import copy\n",
        "\n",
        "a = Point2D(3, 4)\n",
        "print(a)\n",
        "\n",
        "b = copy.copy(a)\n",
        "b.x = -1\n",
        "\n",
        "print(a)\n",
        "print(b)"
      ],
      "metadata": {
        "colab": {
          "base_uri": "https://localhost:8080/"
        },
        "id": "5KBQeuk7oIdc",
        "outputId": "64f97a7d-0b17-4957-c05b-4e69b5793987"
      },
      "execution_count": 17,
      "outputs": [
        {
          "output_type": "stream",
          "name": "stdout",
          "text": [
            "A 2D point with coordinates (3, 4)\n",
            "A 2D point with coordinates (3, 4)\n",
            "A 2D point with coordinates (-1, 4)\n"
          ]
        }
      ]
    },
    {
      "cell_type": "markdown",
      "source": [
        "Однако и это не спасёт нас, если в объекте нашего класса снова хранятся изменяемые переменные (например, списки). В таком случае нам понадобится функция deepcopy, которая полностью скопирует как сам объект класса, так и всё внутри него, по сути действуя рекурсивно.\n",
        "\n",
        "Продемонстрируем это на новом классе Student:"
      ],
      "metadata": {
        "id": "6q36ERhBoOWe"
      }
    },
    {
      "cell_type": "code",
      "source": [
        "import copy\n",
        "from typing import Iterable\n",
        "\n",
        "\n",
        "class Student:\n",
        "    \"\"\"\n",
        "    A class representing student along with his name and classes he/she takes\n",
        "    :param name: name of the student\n",
        "    :param classes: iterable of strings with names of classes\n",
        "    \"\"\"\n",
        "\n",
        "    def __init__(self, name: str, classes: Iterable[str]) -> None:\n",
        "        self.name = name\n",
        "        self.classes = classes\n",
        "\n",
        "    def __repr__(self) -> str:\n",
        "        return f\"Student({repr(self.name)}, {repr(self.classes)})\"\n",
        "\n",
        "\n",
        "student = Student(\"Ваня\", [\"Линал\", \"Алгосы\", \"Машинное обучение\"])\n",
        "student_deepcopy = copy.deepcopy(student)\n",
        "student_copy = copy.copy(student)\n",
        "student_naive = student\n",
        "\n",
        "# Распечатаем студента\n",
        "print(\"До изменений\")\n",
        "print(student)\n",
        "\n",
        "student_deepcopy.name = \"Катя\"\n",
        "student_deepcopy.classes[0] = \"Матан\"\n",
        "print(\"\\nИзменения в deepcopy\")\n",
        "print(f\"{student_deepcopy}\")\n",
        "print(f\"{student}\")\n",
        "\n",
        "student_copy.name = \"Лиза\"\n",
        "student_copy.classes[0] = \"Экономика\"\n",
        "print(\"\\nИзменения в copy\")\n",
        "print(f\"{student_copy}\")\n",
        "print(f\"{student}\")\n",
        "\n",
        "student_naive.name = \"Лёша\"\n",
        "student_naive.classes[0] = \"Алгебра\"\n",
        "print(\"\\nИзменения в простом присваивании\")\n",
        "print(f\"{student_naive}\")\n",
        "print(f\"{student}\")"
      ],
      "metadata": {
        "colab": {
          "base_uri": "https://localhost:8080/"
        },
        "id": "2eTiqa-joPtO",
        "outputId": "7ef5e268-d971-4568-deeb-4d6476bfe4ad"
      },
      "execution_count": 18,
      "outputs": [
        {
          "output_type": "stream",
          "name": "stdout",
          "text": [
            "До изменений\n",
            "Student('Ваня', ['Линал', 'Алгосы', 'Машинное обучение'])\n",
            "\n",
            "Изменения в deepcopy\n",
            "Student('Катя', ['Матан', 'Алгосы', 'Машинное обучение'])\n",
            "Student('Ваня', ['Линал', 'Алгосы', 'Машинное обучение'])\n",
            "\n",
            "Изменения в copy\n",
            "Student('Лиза', ['Экономика', 'Алгосы', 'Машинное обучение'])\n",
            "Student('Ваня', ['Экономика', 'Алгосы', 'Машинное обучение'])\n",
            "\n",
            "Изменения в простом присваивании\n",
            "Student('Лёша', ['Алгебра', 'Алгосы', 'Машинное обучение'])\n",
            "Student('Лёша', ['Алгебра', 'Алгосы', 'Машинное обучение'])\n"
          ]
        }
      ]
    },
    {
      "cell_type": "markdown",
      "source": [
        "Как видим, если мы используем просто copy, имя студента действительно не меняется в изначальной переменной student, потому что соответствующий атрибут name был скопирован. А вот список дисциплин меняется, потому что copy скопировал в новый объект ссылку на этот список, и мы обращаемся к ней из обоих студентов. deepcopy позволяет избежать этой проблемы, потому что он создаст новый список.\n",
        "\n",
        "getter, setter\n",
        "\n",
        "Иногда нам хочется, чтобы чтение или установка атрибута объекта сопровождались какой-нибудь логикой, будь то проверка или ещё что. Предположим, мы создаём класс градусника:"
      ],
      "metadata": {
        "id": "-XsXGNky-Os6"
      }
    },
    {
      "cell_type": "code",
      "source": [
        "class Thermometer:\n",
        "    \"\"\"\n",
        "    Thermometer containing temperature in Celsius\n",
        "    :param temperature: temperature to contain\n",
        "    \"\"\"\n",
        "\n",
        "    def __init__(self, temperature: float) -> None:\n",
        "        self.temperature = temperature"
      ],
      "metadata": {
        "id": "esIcZ7AW-UCq"
      },
      "execution_count": 19,
      "outputs": []
    },
    {
      "cell_type": "markdown",
      "source": [
        "У такого класса есть проблема: мы можем присовить ему температуру ниже возможного минимума:"
      ],
      "metadata": {
        "id": "i52UnsbYAcoR"
      }
    },
    {
      "cell_type": "code",
      "source": [
        "thermometer = Thermometer(10.0)\n",
        "thermometer.temperature = -100000.0"
      ],
      "metadata": {
        "id": "RhE2eUJGAdpI"
      },
      "execution_count": 20,
      "outputs": []
    },
    {
      "cell_type": "code",
      "source": [
        "del thermometer.temperature\n",
        "thermometer.temperature"
      ],
      "metadata": {
        "colab": {
          "base_uri": "https://localhost:8080/",
          "height": 159
        },
        "id": "cxPvjZC0AiOR",
        "outputId": "0bb307c5-052f-4943-81cd-8f6580bbd9d8"
      },
      "execution_count": 21,
      "outputs": [
        {
          "output_type": "error",
          "ename": "AttributeError",
          "evalue": "'Thermometer' object has no attribute 'temperature'",
          "traceback": [
            "\u001b[0;31m---------------------------------------------------------------------------\u001b[0m",
            "\u001b[0;31mAttributeError\u001b[0m                            Traceback (most recent call last)",
            "\u001b[0;32m<ipython-input-21-2d7c46d9349b>\u001b[0m in \u001b[0;36m<cell line: 2>\u001b[0;34m()\u001b[0m\n\u001b[1;32m      1\u001b[0m \u001b[0;32mdel\u001b[0m \u001b[0mthermometer\u001b[0m\u001b[0;34m.\u001b[0m\u001b[0mtemperature\u001b[0m\u001b[0;34m\u001b[0m\u001b[0;34m\u001b[0m\u001b[0m\n\u001b[0;32m----> 2\u001b[0;31m \u001b[0mthermometer\u001b[0m\u001b[0;34m.\u001b[0m\u001b[0mtemperature\u001b[0m\u001b[0;34m\u001b[0m\u001b[0;34m\u001b[0m\u001b[0m\n\u001b[0m",
            "\u001b[0;31mAttributeError\u001b[0m: 'Thermometer' object has no attribute 'temperature'"
          ]
        }
      ]
    },
    {
      "cell_type": "markdown",
      "source": [
        "Мы могли бы решить эту проблему, добавив специальную функцию set_temperature, и сказав, что установка температуры должна происходить только через неё:"
      ],
      "metadata": {
        "id": "bc4wVyUUAm-o"
      }
    },
    {
      "cell_type": "code",
      "source": [
        "class Thermometer:\n",
        "    \"\"\"\n",
        "    Thermometer containing temperature in Celsius\n",
        "    :param temperature: temperature to contain\n",
        "    \"\"\"\n",
        "\n",
        "    MINIMAL_TEMPERATURE = -273.15\n",
        "\n",
        "    def __init__(self, temperature: float) -> None:\n",
        "        self.set_temperature(temperature)\n",
        "\n",
        "    def set_temperature(self, value: float) -> None:\n",
        "        if value < Thermometer.MINIMAL_TEMPERATURE:\n",
        "            raise ValueError(\n",
        "                f\"Temperature cannot be less than {Thermometer.MINIMAL_TEMPERATURE}\"\n",
        "            )\n",
        "        self.temperature = value\n",
        "\n",
        "\n",
        "thermometer = Thermometer(10.0)\n",
        "thermometer.set_temperature(-100000.0)"
      ],
      "metadata": {
        "colab": {
          "base_uri": "https://localhost:8080/",
          "height": 297
        },
        "id": "5VtwrppxAoQw",
        "outputId": "d7abadc7-b180-4d40-9023-303ecb907210"
      },
      "execution_count": 22,
      "outputs": [
        {
          "output_type": "error",
          "ename": "ValueError",
          "evalue": "Temperature cannot be less than -273.15",
          "traceback": [
            "\u001b[0;31m---------------------------------------------------------------------------\u001b[0m",
            "\u001b[0;31mValueError\u001b[0m                                Traceback (most recent call last)",
            "\u001b[0;32m<ipython-input-22-2547544a0c5f>\u001b[0m in \u001b[0;36m<cell line: 21>\u001b[0;34m()\u001b[0m\n\u001b[1;32m     19\u001b[0m \u001b[0;34m\u001b[0m\u001b[0m\n\u001b[1;32m     20\u001b[0m \u001b[0mthermometer\u001b[0m \u001b[0;34m=\u001b[0m \u001b[0mThermometer\u001b[0m\u001b[0;34m(\u001b[0m\u001b[0;36m10.0\u001b[0m\u001b[0;34m)\u001b[0m\u001b[0;34m\u001b[0m\u001b[0;34m\u001b[0m\u001b[0m\n\u001b[0;32m---> 21\u001b[0;31m \u001b[0mthermometer\u001b[0m\u001b[0;34m.\u001b[0m\u001b[0mset_temperature\u001b[0m\u001b[0;34m(\u001b[0m\u001b[0;34m-\u001b[0m\u001b[0;36m100000.0\u001b[0m\u001b[0;34m)\u001b[0m\u001b[0;34m\u001b[0m\u001b[0;34m\u001b[0m\u001b[0m\n\u001b[0m",
            "\u001b[0;32m<ipython-input-22-2547544a0c5f>\u001b[0m in \u001b[0;36mset_temperature\u001b[0;34m(self, value)\u001b[0m\n\u001b[1;32m     12\u001b[0m     \u001b[0;32mdef\u001b[0m \u001b[0mset_temperature\u001b[0m\u001b[0;34m(\u001b[0m\u001b[0mself\u001b[0m\u001b[0;34m,\u001b[0m \u001b[0mvalue\u001b[0m\u001b[0;34m:\u001b[0m \u001b[0mfloat\u001b[0m\u001b[0;34m)\u001b[0m \u001b[0;34m->\u001b[0m \u001b[0;32mNone\u001b[0m\u001b[0;34m:\u001b[0m\u001b[0;34m\u001b[0m\u001b[0;34m\u001b[0m\u001b[0m\n\u001b[1;32m     13\u001b[0m         \u001b[0;32mif\u001b[0m \u001b[0mvalue\u001b[0m \u001b[0;34m<\u001b[0m \u001b[0mThermometer\u001b[0m\u001b[0;34m.\u001b[0m\u001b[0mMINIMAL_TEMPERATURE\u001b[0m\u001b[0;34m:\u001b[0m\u001b[0;34m\u001b[0m\u001b[0;34m\u001b[0m\u001b[0m\n\u001b[0;32m---> 14\u001b[0;31m             raise ValueError(\n\u001b[0m\u001b[1;32m     15\u001b[0m                 \u001b[0;34mf\"Temperature cannot be less than {Thermometer.MINIMAL_TEMPERATURE}\"\u001b[0m\u001b[0;34m\u001b[0m\u001b[0;34m\u001b[0m\u001b[0m\n\u001b[1;32m     16\u001b[0m             )\n",
            "\u001b[0;31mValueError\u001b[0m: Temperature cannot be less than -273.15"
          ]
        }
      ]
    },
    {
      "cell_type": "markdown",
      "source": [
        "С таким решением, во-первых, мы теряем удобное присваивание по имени атрибута, а во-вторых, весь код, который до этого использовал temperature напрямую теперь будет работать неправильно. Чтобы избежать этих проблем в python есть декоратор @property: он позволяет превратить функцию в атрибут и определить поведение при установке и чтении атрибута:"
      ],
      "metadata": {
        "id": "a70c-BSLAuDR"
      }
    },
    {
      "cell_type": "code",
      "source": [
        "class Thermometer:\n",
        "    \"\"\"\n",
        "    Thermometer containing temperature in Celsius\n",
        "    :param temperature: temperature to contain\n",
        "    \"\"\"\n",
        "\n",
        "    MINIMAL_TEMPERATURE = -273.15\n",
        "\n",
        "    def __init__(self, temperature: float) -> None:\n",
        "        self.temperature = temperature\n",
        "\n",
        "    @property\n",
        "    def temperature(self):\n",
        "        pass\n",
        "\n",
        "    @temperature.setter\n",
        "    def temperature(self, value: float) -> None:\n",
        "        if value < Thermometer.MINIMAL_TEMPERATURE:\n",
        "            raise ValueError(\n",
        "                f\"Temperature cannot be less than {Thermometer.MINIMAL_TEMPERATURE}\"\n",
        "            )\n",
        "        self._temperature = value\n",
        "\n",
        "    @temperature.deleter\n",
        "    def temperature(self):\n",
        "        pass\n",
        "\n",
        "    @temperature.getter\n",
        "    def temperature(self) -> float:\n",
        "        return self._temperature * 2\n",
        "\n",
        "\n",
        "thermometer = Thermometer(10.0)\n",
        "thermometer.temperature = 20\n",
        "print(thermometer.temperature)\n",
        "del thermometer.temperature\n",
        "print(thermometer.temperature)"
      ],
      "metadata": {
        "colab": {
          "base_uri": "https://localhost:8080/"
        },
        "id": "LR9iYfLhAxEg",
        "outputId": "7799e564-bc06-48ee-85af-44e7635b6418"
      },
      "execution_count": 23,
      "outputs": [
        {
          "output_type": "stream",
          "name": "stdout",
          "text": [
            "40\n",
            "40\n"
          ]
        }
      ]
    },
    {
      "cell_type": "markdown",
      "source": [
        "Разберёмся, как это работает. Во-первых, теперь мы будем хранить нашу реальную температуру в переменной self._temperature. Обращение к этой переменной не будет влечь за собой никакой другой логики, но присваивать ей температуру мы будем только внутри класса, а пользователь снаружи не будет о ней ничего знать и не должен к ней обращаться.\n",
        "\n",
        "NB: Подчёркивание в начале названия атрибута или метода — это стандартное в питоне обозначение части внутреннего интерфейса класса. Разработчик не обещает, что этот интерфейс не будет меняться в будущих версиях, и пользователь не должен его использовать. Причём сам питон никак не запрещает обращаться к таким атрибутам и методам, просто программисты соблюдают некоторое джентльменское соглашение (цитата из документации)\n",
        "\n",
        "Сначала мы создаём функцию с названием нашего атрибута (в нашем случае def temperature) с декоратором @property и в ней возвращаем наше реальное значение температуры (return self._temperature). Теперь, когда мы будем обращаться к thermometer.temperature будет вызываться эта функция.\n",
        "\n",
        "Затем мы создаём ещё одну функцию с тем же названием, но теперь с декоратором @temperature.setter, в которой проверяем наше условие и присваиваем новое значение нашей внутренней переменной self._temperature. Эта функция будет вызываться, когда мы будем присваивать значение thermometer.temperature.\n",
        "\n",
        "Дескрипторы\n",
        "Дескрипторы позволяют обобщить это поведение. Допустим, у нас сразу 2 элемента, на которые мы хотим навесить ограничение, чтобы они не были, допустим, отрицательными. Можно прописать свойства для каждого, а можно сделать лучше!"
      ],
      "metadata": {
        "id": "5h4XNqoyA1mQ"
      }
    },
    {
      "cell_type": "code",
      "source": [
        "class Order:\n",
        "    def __init__(self, name, price, quantity):\n",
        "        self.name = name\n",
        "        self.price = price\n",
        "        self.quantity = quantity\n",
        "\n",
        "    def total(self):\n",
        "        return self.price * self.quantity"
      ],
      "metadata": {
        "id": "hpKbKACKA5OY"
      },
      "execution_count": 25,
      "outputs": []
    },
    {
      "cell_type": "code",
      "source": [
        "class NonNegative:\n",
        "    def __init__(self, name):\n",
        "        self.name = name\n",
        "\n",
        "    def __get__(self, instance, owner):\n",
        "        return instance.__dict__[self.name]\n",
        "\n",
        "    def __set__(self, instance, value):\n",
        "        if value < 0:\n",
        "            raise ValueError(\"Cannot be negative.\")\n",
        "        instance.__dict__[self.name] = value"
      ],
      "metadata": {
        "id": "bcpeyWpXA9lQ"
      },
      "execution_count": 27,
      "outputs": []
    },
    {
      "cell_type": "code",
      "source": [
        "class Order:\n",
        "    price = NonNegative(\"price\")\n",
        "    quantity = NonNegative(\"quantity\")\n",
        "\n",
        "    def __init__(self, name, price, quantity):\n",
        "        self._name = name\n",
        "        self.price = price\n",
        "        self.quantity = quantity\n",
        "\n",
        "    def total(self):\n",
        "        return self.price * self.quantity"
      ],
      "metadata": {
        "id": "OWuL8-veBBUg"
      },
      "execution_count": 28,
      "outputs": []
    },
    {
      "cell_type": "code",
      "source": [
        "order = Order(\"apple\", 10, 5)\n",
        "print(order.total())\n",
        "order.quantity = -1"
      ],
      "metadata": {
        "colab": {
          "base_uri": "https://localhost:8080/",
          "height": 297
        },
        "id": "_ylB6KkYBEA4",
        "outputId": "78012baf-baf1-4a78-8960-7893c3819d7b"
      },
      "execution_count": 29,
      "outputs": [
        {
          "output_type": "stream",
          "name": "stdout",
          "text": [
            "50\n"
          ]
        },
        {
          "output_type": "error",
          "ename": "ValueError",
          "evalue": "Cannot be negative.",
          "traceback": [
            "\u001b[0;31m---------------------------------------------------------------------------\u001b[0m",
            "\u001b[0;31mValueError\u001b[0m                                Traceback (most recent call last)",
            "\u001b[0;32m<ipython-input-29-155a3ca6f931>\u001b[0m in \u001b[0;36m<cell line: 3>\u001b[0;34m()\u001b[0m\n\u001b[1;32m      1\u001b[0m \u001b[0morder\u001b[0m \u001b[0;34m=\u001b[0m \u001b[0mOrder\u001b[0m\u001b[0;34m(\u001b[0m\u001b[0;34m\"apple\"\u001b[0m\u001b[0;34m,\u001b[0m \u001b[0;36m10\u001b[0m\u001b[0;34m,\u001b[0m \u001b[0;36m5\u001b[0m\u001b[0;34m)\u001b[0m\u001b[0;34m\u001b[0m\u001b[0;34m\u001b[0m\u001b[0m\n\u001b[1;32m      2\u001b[0m \u001b[0mprint\u001b[0m\u001b[0;34m(\u001b[0m\u001b[0morder\u001b[0m\u001b[0;34m.\u001b[0m\u001b[0mtotal\u001b[0m\u001b[0;34m(\u001b[0m\u001b[0;34m)\u001b[0m\u001b[0;34m)\u001b[0m\u001b[0;34m\u001b[0m\u001b[0;34m\u001b[0m\u001b[0m\n\u001b[0;32m----> 3\u001b[0;31m \u001b[0morder\u001b[0m\u001b[0;34m.\u001b[0m\u001b[0mquantity\u001b[0m \u001b[0;34m=\u001b[0m \u001b[0;34m-\u001b[0m\u001b[0;36m1\u001b[0m\u001b[0;34m\u001b[0m\u001b[0;34m\u001b[0m\u001b[0m\n\u001b[0m",
            "\u001b[0;32m<ipython-input-27-2c98914bf944>\u001b[0m in \u001b[0;36m__set__\u001b[0;34m(self, instance, value)\u001b[0m\n\u001b[1;32m      8\u001b[0m     \u001b[0;32mdef\u001b[0m \u001b[0m__set__\u001b[0m\u001b[0;34m(\u001b[0m\u001b[0mself\u001b[0m\u001b[0;34m,\u001b[0m \u001b[0minstance\u001b[0m\u001b[0;34m,\u001b[0m \u001b[0mvalue\u001b[0m\u001b[0;34m)\u001b[0m\u001b[0;34m:\u001b[0m\u001b[0;34m\u001b[0m\u001b[0;34m\u001b[0m\u001b[0m\n\u001b[1;32m      9\u001b[0m         \u001b[0;32mif\u001b[0m \u001b[0mvalue\u001b[0m \u001b[0;34m<\u001b[0m \u001b[0;36m0\u001b[0m\u001b[0;34m:\u001b[0m\u001b[0;34m\u001b[0m\u001b[0;34m\u001b[0m\u001b[0m\n\u001b[0;32m---> 10\u001b[0;31m             \u001b[0;32mraise\u001b[0m \u001b[0mValueError\u001b[0m\u001b[0;34m(\u001b[0m\u001b[0;34m\"Cannot be negative.\"\u001b[0m\u001b[0;34m)\u001b[0m\u001b[0;34m\u001b[0m\u001b[0;34m\u001b[0m\u001b[0m\n\u001b[0m\u001b[1;32m     11\u001b[0m         \u001b[0minstance\u001b[0m\u001b[0;34m.\u001b[0m\u001b[0m__dict__\u001b[0m\u001b[0;34m[\u001b[0m\u001b[0mself\u001b[0m\u001b[0;34m.\u001b[0m\u001b[0mname\u001b[0m\u001b[0;34m]\u001b[0m \u001b[0;34m=\u001b[0m \u001b[0mvalue\u001b[0m\u001b[0;34m\u001b[0m\u001b[0;34m\u001b[0m\u001b[0m\n",
            "\u001b[0;31mValueError\u001b[0m: Cannot be negative."
          ]
        }
      ]
    },
    {
      "cell_type": "markdown",
      "source": [
        "А теперь уберём ещё немного дублирования! (3.6+)"
      ],
      "metadata": {
        "id": "O0phhnzbBLd6"
      }
    },
    {
      "cell_type": "code",
      "source": [
        "class NonNegative:\n",
        "    def __get__(self, instance, owner):\n",
        "        return instance.__dict__[self.name]\n",
        "\n",
        "    def __set__(self, instance, value):\n",
        "        if value < 0:\n",
        "            raise ValueError(\"Cannot be negative.\")\n",
        "        instance.__dict__[self.name] = value\n",
        "\n",
        "    def __set_name__(self, owner, name):\n",
        "        self.name = name"
      ],
      "metadata": {
        "id": "lPoydf1VBMcZ"
      },
      "execution_count": 30,
      "outputs": []
    },
    {
      "cell_type": "code",
      "source": [
        "class Order:\n",
        "    price = NonNegative()\n",
        "    quantity = NonNegative()\n",
        "\n",
        "    def __init__(self, name, price, quantity):\n",
        "        self._name = name\n",
        "        self.price = price\n",
        "        self.quantity = quantity\n",
        "\n",
        "    def total(self):\n",
        "        return self.price * self.quantity"
      ],
      "metadata": {
        "id": "TvmeYi1GBRVf"
      },
      "execution_count": 32,
      "outputs": []
    },
    {
      "cell_type": "code",
      "source": [
        "apple_order = Order(\"apple\", 1, 10)\n",
        "print(apple_order.total())\n",
        "apple_order.__dict__"
      ],
      "metadata": {
        "colab": {
          "base_uri": "https://localhost:8080/"
        },
        "id": "eN_MFiGlBWC4",
        "outputId": "bdba86e3-e9ac-467f-fcfc-0a3b94e20a29"
      },
      "execution_count": 33,
      "outputs": [
        {
          "output_type": "stream",
          "name": "stdout",
          "text": [
            "10\n"
          ]
        },
        {
          "output_type": "execute_result",
          "data": {
            "text/plain": [
              "{'_name': 'apple', 'price': 1, 'quantity': 10}"
            ]
          },
          "metadata": {},
          "execution_count": 33
        }
      ]
    },
    {
      "cell_type": "markdown",
      "source": [
        "@staticmethod\n",
        "Иногда метод объекта никак не использует его атрибуты (не обращается к self), а просто выполняет независимую логику. В таком случае такой метод называется статическим. Мы можем использовать на нём специальный декоратор @staticmethod, и тогда мы помимо прочего сможем вызывать его, даже не создавая объект\n",
        "\n",
        "Попробуем это на примере нашего термометра. Предположим, мы хотим научить его вычислять выдавать температуру в градусах по Фаренгейту. В таком случае нам следует определить метод get_fahrenheit и хорошо бы вынести сам перевод в отдельный метод celsius_to_fahrenheit:"
      ],
      "metadata": {
        "id": "aw9VpKesBcJ5"
      }
    },
    {
      "cell_type": "code",
      "source": [
        "class Thermometer:\n",
        "    \"\"\"\n",
        "    Thermometer containing temperature in Celsius\n",
        "    :param temperature: temperature to contain\n",
        "    \"\"\"\n",
        "\n",
        "    MINIMAL_TEMPERATURE = -273.15\n",
        "\n",
        "    def __init__(self, temperature: float) -> None:\n",
        "        self.temperature = temperature\n",
        "\n",
        "    @property\n",
        "    def temperature(self) -> float:\n",
        "        return self._temperature\n",
        "\n",
        "    @temperature.setter\n",
        "    def temperature(self, value: float) -> None:\n",
        "        if value < Thermometer.MINIMAL_TEMPERATURE:\n",
        "            raise ValueError(\n",
        "                f\"Temperature cannot be less than {Thermometer.MINIMAL_TEMPERATURE}\"\n",
        "            )\n",
        "        self._temperature = value\n",
        "\n",
        "    def celsius_to_fahrenheit(self, value) -> float:\n",
        "        return value * 1.8 + 32\n",
        "\n",
        "    def get_fahrenheit(self) -> float:\n",
        "        return self.celsius_to_fahrenheit(self.temperature)\n",
        "\n",
        "\n",
        "thermometer = Thermometer(10.0)\n",
        "print(\n",
        "    f\"{thermometer.temperature} градусов по Цельсию равны {thermometer.get_fahrenheit()} градусов по Фаренгейту\"\n",
        ")"
      ],
      "metadata": {
        "colab": {
          "base_uri": "https://localhost:8080/"
        },
        "id": "qPsxTJhhBdaY",
        "outputId": "23d47e07-6cf5-48ff-98f9-354dfd8626d8"
      },
      "execution_count": 34,
      "outputs": [
        {
          "output_type": "stream",
          "name": "stdout",
          "text": [
            "10.0 градусов по Цельсию равны 50.0 градусов по Фаренгейту\n"
          ]
        }
      ]
    },
    {
      "cell_type": "markdown",
      "source": [
        "Наша функция celsius_to_fahrenheit просто переводит температуру, которую получает на вход. Она никак не использует self. Давайте сделаем её статическим методом."
      ],
      "metadata": {
        "id": "phtrcGVBBk-_"
      }
    },
    {
      "cell_type": "code",
      "source": [
        "class Thermometer:\n",
        "    \"\"\"\n",
        "    Thermometer containing temperature in Celsius\n",
        "    :param temperature: temperature to contain\n",
        "    \"\"\"\n",
        "\n",
        "    MINIMAL_TEMPERATURE = -273.15\n",
        "\n",
        "    def __init__(self, temperature: float) -> None:\n",
        "        self.temperature = temperature\n",
        "\n",
        "    @property\n",
        "    def temperature(self) -> float:\n",
        "        return self._temperature\n",
        "\n",
        "    @temperature.setter\n",
        "    def temperature(self, value: float) -> None:\n",
        "        if value < Thermometer.MINIMAL_TEMPERATURE:\n",
        "            raise ValueError(\n",
        "                f\"Temperature cannot be less than {Thermometer.MINIMAL_TEMPERATURE}\"\n",
        "            )\n",
        "        self._temperature = value\n",
        "\n",
        "    @staticmethod\n",
        "    def celsius_to_fahrenheit(value) -> float:\n",
        "        return value * 1.8 + 32\n",
        "\n",
        "    def get_fahrenheit(self) -> float:\n",
        "        return self.celsius_to_fahrenheit(self.temperature)\n",
        "\n",
        "\n",
        "Thermometer.celsius_to_fahrenheit(10)\n",
        "thermometer = Thermometer(10)"
      ],
      "metadata": {
        "id": "VACvkmRfBmmg"
      },
      "execution_count": 36,
      "outputs": []
    },
    {
      "cell_type": "markdown",
      "source": [
        "Обратите внимание, что мы всё так же можем вызывать функцию от объекта класса (как, например, от self в get_fahrenheit). Но так же теперь мы можем вызывать её и от самого класса:"
      ],
      "metadata": {
        "id": "yPkYbgYJBsw3"
      }
    },
    {
      "cell_type": "code",
      "source": [
        "Thermometer.celsius_to_fahrenheit(10.0)"
      ],
      "metadata": {
        "colab": {
          "base_uri": "https://localhost:8080/"
        },
        "id": "TG5wFQ2LBuVo",
        "outputId": "3e321860-ae41-437c-f12b-2eb60e745cda"
      },
      "execution_count": 37,
      "outputs": [
        {
          "output_type": "execute_result",
          "data": {
            "text/plain": [
              "50.0"
            ]
          },
          "metadata": {},
          "execution_count": 37
        }
      ]
    },
    {
      "cell_type": "markdown",
      "source": [
        "@classmethod\n",
        "Бывает и другая ситуация. Когда метод не использует атрибуты объекта (не обращается к self), но использует знание о том, из какого класса он вызывается. Такой метод называется методом класса и мы можем обозначить его декоратором @classmethod. Метод с декоратором @classmethod принимает в качестве первого аргумента не объект класса (self), а сам класс (cls).\n",
        "\n",
        "Предположим, мы хотим уметь создавать наш термометр сразу из температуры по Фаренгейту. Но наш __init__ принимает температуру в градусах Цельсия. Создадим новый метод класса from_fahrenheit, который будет переводить полученную температуру из Фаренгейта в Цельсии (при помощи нового статического метода fahrenheit_to_celsius и возвращать новый объект класса:"
      ],
      "metadata": {
        "id": "Xmm2r7BeBxZ5"
      }
    },
    {
      "cell_type": "code",
      "source": [
        "class Thermometer:\n",
        "    \"\"\"\n",
        "    Thermometer containing temperature in Celsius\n",
        "    :param temperature: temperature to contain\n",
        "    \"\"\"\n",
        "\n",
        "    MINIMAL_TEMPERATURE = -273.15\n",
        "\n",
        "    def __init__(self, temperature: float) -> None:\n",
        "        self.temperature = temperature\n",
        "\n",
        "    @property\n",
        "    def temperature(self) -> float:\n",
        "        return self._temperature\n",
        "\n",
        "    @temperature.setter\n",
        "    def temperature(self, value: float) -> None:\n",
        "        if value < Thermometer.MINIMAL_TEMPERATURE:\n",
        "            raise ValueError(\n",
        "                f\"Temperature cannot be less than {Thermometer.MINIMAL_TEMPERATURE}\"\n",
        "            )\n",
        "        self._temperature = value\n",
        "\n",
        "    @staticmethod\n",
        "    def celsius_to_fahrenheit(value) -> float:\n",
        "        return value * 1.8 + 32\n",
        "\n",
        "    @staticmethod\n",
        "    def fahrenheit_to_celsius(value) -> float:\n",
        "        return (value - 32) / 1.8\n",
        "\n",
        "    def get_fahrenheit(self) -> float:\n",
        "        print(type(self))\n",
        "        return self.celsius_to_fahrenheit(self.temperature)\n",
        "\n",
        "    @classmethod\n",
        "    def from_fahrenheit(cls, temperature_fahrenheit) -> Thermometer:\n",
        "        temperature_celsius = cls.fahrenheit_to_celsius(temperature_fahrenheit)\n",
        "        print(type(cls))\n",
        "        return cls(temperature_celsius)"
      ],
      "metadata": {
        "id": "JUblboITB08H"
      },
      "execution_count": 38,
      "outputs": []
    },
    {
      "cell_type": "markdown",
      "source": [
        "Теперь мы можем создать термометер из градусов по Фаренгейту:"
      ],
      "metadata": {
        "id": "1suTeuVaB6nA"
      }
    },
    {
      "cell_type": "code",
      "source": [
        "thermometer = Thermometer(10)\n",
        "thermometer.from_fahrenheit(100)"
      ],
      "metadata": {
        "colab": {
          "base_uri": "https://localhost:8080/"
        },
        "id": "8kx4_hy_B74X",
        "outputId": "8f24866c-3083-416f-f07a-5617c247491c"
      },
      "execution_count": 39,
      "outputs": [
        {
          "output_type": "stream",
          "name": "stdout",
          "text": [
            "<class 'type'>\n"
          ]
        },
        {
          "output_type": "execute_result",
          "data": {
            "text/plain": [
              "<__main__.Thermometer at 0x7f9a0167bdc0>"
            ]
          },
          "metadata": {},
          "execution_count": 39
        }
      ]
    },
    {
      "cell_type": "markdown",
      "source": [
        "Наследование, super()\n",
        "Одним из главных механизмов ООП является наследование. Класс может отнаследоваться от другого класса, тем самым получая доступ к его методам и атрибутам. Класс-ребёнок может добавлять свои новые методы и переопределять методы класса-родителя, но так же может использовать и все методы, определённые в классе родителе. Родительский класс в питоне указывается в скобках после названия класса во время объявления: class Children(Parent). Причём один класс может быть ребёнком сразу нескольких классов. В таком случае они перечисляются через запятую.\n",
        "\n",
        "Попробуем создать общий класс Person, который будет иметь атрибут name и сможет представляться при помощи метода introduce:"
      ],
      "metadata": {
        "id": "n4IH3M2nCBeY"
      }
    },
    {
      "cell_type": "code",
      "source": [
        "class Person:\n",
        "    \"\"\"\n",
        "    A class representing a person with a name that can introduce himself\n",
        "    :param name: the name of the person\n",
        "    \"\"\"\n",
        "\n",
        "    def __init__(self, name: str) -> None:\n",
        "        self.name = name\n",
        "\n",
        "    def introduce(self) -> None:\n",
        "        print(f\"Hello, my name is {self.name}\")\n",
        "\n",
        "    @classmethod\n",
        "    def f(cls):\n",
        "        print(cls)\n",
        "\n",
        "    def __str__(self) -> str:\n",
        "        return f\"A person named {self.name}\"\n",
        "\n",
        "\n",
        "person = Person(\"Dima\")\n",
        "person.introduce()\n",
        "print(person)"
      ],
      "metadata": {
        "colab": {
          "base_uri": "https://localhost:8080/"
        },
        "id": "KYyawhwCCDq4",
        "outputId": "6236ca3b-e867-40f0-e5b8-4385a0adb899"
      },
      "execution_count": 40,
      "outputs": [
        {
          "output_type": "stream",
          "name": "stdout",
          "text": [
            "Hello, my name is Dima\n",
            "A person named Dima\n"
          ]
        }
      ]
    },
    {
      "cell_type": "code",
      "source": [
        "type(Person)"
      ],
      "metadata": {
        "colab": {
          "base_uri": "https://localhost:8080/"
        },
        "id": "E2RD4LJ9CQZC",
        "outputId": "eea6adc4-c8d1-4157-f4a0-210138b194d3"
      },
      "execution_count": 41,
      "outputs": [
        {
          "output_type": "execute_result",
          "data": {
            "text/plain": [
              "type"
            ]
          },
          "metadata": {},
          "execution_count": 41
        }
      ]
    },
    {
      "cell_type": "markdown",
      "source": [
        "Теперь создадим подклассы Teacher и Student. Помимо имени у преподавателя будет поле discipline, а у студента поле marks:"
      ],
      "metadata": {
        "id": "4Wsz02idCUXw"
      }
    },
    {
      "cell_type": "code",
      "source": [
        "from typing import Dict\n",
        "\n",
        "\n",
        "class Teacher(Person):\n",
        "    \"\"\"\n",
        "    A class representing a teacher with his discipline\n",
        "    :param name: the name of the teacher\n",
        "    :param discipline: the discipline taught by the teacher\n",
        "    \"\"\"\n",
        "\n",
        "    def __init__(self, name: str, discipline: str) -> None:\n",
        "        super().__init__(name)  # Вызываем __init__ класса-родителя\n",
        "        self.discipline = discipline\n",
        "\n",
        "    def __str__(self) -> str:\n",
        "        return f\"A teacher named {self.name} who teaches {self.discipline}\"\n",
        "\n",
        "\n",
        "class Student(Person):\n",
        "    \"\"\"\n",
        "    A class representing a student and his marks\n",
        "    :param name: the name of the student\n",
        "    :param marks: a dict of disciplines as keys and marks as values\n",
        "    \"\"\"\n",
        "\n",
        "    def __init__(self, name: str, marks: Dict[str, int]) -> None:\n",
        "        super().__init__(name)  # Вызываем __init__ класса-родителя\n",
        "        self.marks = marks\n",
        "\n",
        "    def __str__(self) -> str:\n",
        "        return f\"A student named {self.name} with marks {self.marks}\"\n",
        "\n",
        "\n",
        "teacher = Teacher(\"Evgeny\", \"Machine Learning\")\n",
        "teacher.introduce()\n",
        "print(teacher)\n",
        "print()\n",
        "\n",
        "student = Student(\"Liza\", {\"Calculus\": 5, \"Machine Learning\": 10})\n",
        "student.introduce()\n",
        "print(student)"
      ],
      "metadata": {
        "colab": {
          "base_uri": "https://localhost:8080/"
        },
        "id": "9eYpE2a0CVsI",
        "outputId": "acee7d60-7241-432a-8934-b87d73602fbd"
      },
      "execution_count": 42,
      "outputs": [
        {
          "output_type": "stream",
          "name": "stdout",
          "text": [
            "Hello, my name is Evgeny\n",
            "A teacher named Evgeny who teaches Machine Learning\n",
            "\n",
            "Hello, my name is Liza\n",
            "A student named Liza with marks {'Calculus': 5, 'Machine Learning': 10}\n"
          ]
        }
      ]
    },
    {
      "cell_type": "code",
      "source": [
        "persons = []\n",
        "persons.append(person)\n",
        "persons.append(teacher)\n",
        "persons.append(student)\n",
        "\n",
        "for i in persons:\n",
        "    i.f()"
      ],
      "metadata": {
        "colab": {
          "base_uri": "https://localhost:8080/"
        },
        "id": "1C9Q_XkWCbFQ",
        "outputId": "2757ed08-34bf-41ff-f19e-f5b51cb05cb1"
      },
      "execution_count": 43,
      "outputs": [
        {
          "output_type": "stream",
          "name": "stdout",
          "text": [
            "<class '__main__.Person'>\n",
            "<class '__main__.Teacher'>\n",
            "<class '__main__.Student'>\n"
          ]
        }
      ]
    },
    {
      "cell_type": "markdown",
      "source": [
        "Теперь любой код, который использует метод introduce может работать как с классом Person, так и с классами Teacher и Student.\n",
        "\n",
        "И в то же время, ни в одном из этих классов мы не прописывали функцию introduce, потому что она уже есть в родительском классе Person, так что мы избежали дублирования кода и объединили объекты со схожей логикой между собой.\n",
        "\n",
        "Стоит обратить особое внимание на оператор super(). Все методы, вызывающиеся от super(), будут вызваны от родительского класса (классов) объекта. Таким образом, когда мы вызываем super().__init__(name) в классах Teacher и Student мы выполняем код из метода __init__ родительского класса Person: self.name = name, то есть определяем в объекте атрибут name. А затем уже мы добавляем новые атрибуты. Если функция __init__ в родительском классе как-то поменяется, у нас ничего не сломается, и эти изменения будут использоваться и в дочерних классах.\n",
        "\n",
        "Так же следует обратить внимание на то, что метод __str__ определён как в родительсом классе Person, так и в дочерних Teacher и Student. Таким образом, дочерние классы переопределяют этот метод, и при вызове print или str от объектов дочерних классов будет вызыван их метод __str__, а не родительский.\n",
        "\n",
        "Мы могли бы использовать super() и не только в __init__, например, чтобы расширить функционал представления:"
      ],
      "metadata": {
        "id": "BqYWx2OZCjZ4"
      }
    },
    {
      "cell_type": "code",
      "source": [
        "class Teacher(Person):\n",
        "    \"\"\"\n",
        "    A class representing a teacher with his discipline\n",
        "    :param name: the name of the teacher\n",
        "    :param discipline: the discipline taught by the teacher\n",
        "    \"\"\"\n",
        "\n",
        "    def __init__(self, name: str, discipline: str) -> None:\n",
        "        super().__init__(name)  # Вызываем __init__ класса-родителя\n",
        "        self.discipline = discipline\n",
        "\n",
        "    def introduce(self) -> None:\n",
        "        super().introduce()\n",
        "        print(f\"I teach {self.discipline}\")\n",
        "\n",
        "    def __str__(self) -> str:\n",
        "        return f\"A teacher named {self.name} who teaches {self.discipline}\"\n",
        "\n",
        "\n",
        "teacher = Teacher(\"Evgeny\", \"Machine Learning\")\n",
        "teacher.introduce()"
      ],
      "metadata": {
        "colab": {
          "base_uri": "https://localhost:8080/"
        },
        "id": "VFZdeqCACk9H",
        "outputId": "b334c25b-2037-42bb-d977-e4a14b9fe0d3"
      },
      "execution_count": 44,
      "outputs": [
        {
          "output_type": "stream",
          "name": "stdout",
          "text": [
            "Hello, my name is Evgeny\n",
            "I teach Machine Learning\n"
          ]
        }
      ]
    },
    {
      "cell_type": "markdown",
      "source": [
        "Кроме того мы могли бы определить в дочерних классах совершенно новые методы, которых нет в классе-родителе:"
      ],
      "metadata": {
        "id": "_e9f2yPxC25A"
      }
    },
    {
      "cell_type": "code",
      "source": [
        "class Student(Person):\n",
        "    \"\"\"\n",
        "    A class representing a student and his marks\n",
        "    :param name: the name of the student\n",
        "    :param marks: a dict of disciplines as keys and marks as values\n",
        "    \"\"\"\n",
        "\n",
        "    def __init__(self, name: str, marks) -> None:\n",
        "        super().__init__(name)  # Вызываем __init__ класса-родителя\n",
        "        self.marks = marks\n",
        "\n",
        "    def __str__(self) -> str:\n",
        "        return f\"A student named {self.name} with marks {self.marks}\"\n",
        "\n",
        "    def get_fails(self):\n",
        "        \"\"\"\n",
        "        Gets failed disciplines\n",
        "        \"\"\"\n",
        "        return {discipline: mark for discipline, mark in self.marks.items() if mark < 4}\n",
        "\n",
        "\n",
        "student = Student(\"Liza\", {\"Calculus\": 3, \"Machine Learning\": 10})\n",
        "student.introduce()\n",
        "print(f\"Failed disciplines: {student.get_fails()}\")"
      ],
      "metadata": {
        "colab": {
          "base_uri": "https://localhost:8080/"
        },
        "id": "S_VRu1gLC32B",
        "outputId": "80eba26f-8f5d-447f-b5af-434e2cc35d4c"
      },
      "execution_count": 45,
      "outputs": [
        {
          "output_type": "stream",
          "name": "stdout",
          "text": [
            "Hello, my name is Liza\n",
            "Failed disciplines: {'Calculus': 3}\n"
          ]
        }
      ]
    },
    {
      "cell_type": "markdown",
      "source": [
        "Мы разобрали очень простой пример наследования. На практике деревья наследования могут быть очень большими, один класс может иметь множество детей и множество родителей. В таких случаях может стать непонятно, в каком именно порядке питон обходит родителей класса, чтобы понять, чью реализацию того или иного метода использовать.\n",
        "\n",
        "Чтобы посмотреть этот порядок можно использовать атрибут класса __mro__ (Method Resolution Order):"
      ],
      "metadata": {
        "id": "-4vkacOEC93g"
      }
    },
    {
      "cell_type": "code",
      "source": [
        "Student.__mro__"
      ],
      "metadata": {
        "colab": {
          "base_uri": "https://localhost:8080/"
        },
        "id": "2ISn7LqrDDgw",
        "outputId": "82ae8f06-a688-460e-bae1-938207554138"
      },
      "execution_count": 46,
      "outputs": [
        {
          "output_type": "execute_result",
          "data": {
            "text/plain": [
              "(__main__.Student, __main__.Person, object)"
            ]
          },
          "metadata": {},
          "execution_count": 46
        }
      ]
    },
    {
      "cell_type": "markdown",
      "source": [
        "Мы видим, что если мы попытаемся вызвать у объекта класса Student, например, метод introduce, то сначала питон попытается найти его реализацию в самом классе Student. Если там её не окажется, он попробует класс Person, а если и там нет, то родительский класс всех классов object. (А если и там нет, то выдаст AttributeError)\n",
        "\n",
        "Подробнее про то, как именно питон определяет этот порядок, можно почитать, например, тут.\n",
        "\n",
        "ABC — Abstract Base Classes\n",
        "Бывает так, что мы хотим обозначить какой-то список методов, которые должны реализовывать все классы одного семейства, но не можем предоставить дефолтной реализации для этих методов. Например, нам нужно написать код, который вычислял бы сумму площадей или периметров списка фигур, но для каждого типа фигуры эти величины вычисляются по-своему, а всё же хотелось бы как-то объединить их всех в один родительский класс и показать, какими методами должна обладать фигура.\n",
        "\n",
        "В таком случае нам на помощь приходит модуль abc и декоратор @abstractmethod. Если мы отнаследуем наш класс от класса abc.ABC и добавим к методам декоратор @abc.abstractmethod, все классы, наследующиеся от нашего будут обязаны объявить эти методы, а иначе питон выдаст ошибку.\n",
        "\n",
        "Давайте поробуем:"
      ],
      "metadata": {
        "id": "h0D5wCIbDKRI"
      }
    },
    {
      "cell_type": "code",
      "source": [
        "import abc\n",
        "\n",
        "\n",
        "class Shape(abc.ABC):\n",
        "    \"\"\"\n",
        "    Shape class capable of calculating its area and perimeter\n",
        "    \"\"\"\n",
        "\n",
        "    @abc.abstractmethod\n",
        "    def get_area(self) -> float:\n",
        "        \"\"\"\n",
        "        Method for getting the area of the shape\n",
        "        \"\"\"\n",
        "        pass\n",
        "\n",
        "    @abc.abstractmethod\n",
        "    def get_perimeter(self) -> float:\n",
        "        \"\"\"\n",
        "        Method for getting the perimeter of the shape\n",
        "        \"\"\"\n",
        "        pass"
      ],
      "metadata": {
        "id": "l8Tzk4pWDL4v"
      },
      "execution_count": 47,
      "outputs": []
    },
    {
      "cell_type": "markdown",
      "source": [
        "Попробуем создать класс, который наследуется от Shape, но не реализует эти методы:"
      ],
      "metadata": {
        "id": "3xQL9jORDRhn"
      }
    },
    {
      "cell_type": "code",
      "source": [],
      "metadata": {
        "id": "TM7jGsQODSl_"
      },
      "execution_count": null,
      "outputs": []
    },
    {
      "cell_type": "code",
      "source": [
        "class BadShape(Shape):\n",
        "    pass\n",
        "\n",
        "\n",
        "bad_shape = BadShape()"
      ],
      "metadata": {
        "colab": {
          "base_uri": "https://localhost:8080/",
          "height": 176
        },
        "id": "nzzMHPpYDUlH",
        "outputId": "5a0ec1e7-2ce4-4abc-da07-dbccfd37f96c"
      },
      "execution_count": 48,
      "outputs": [
        {
          "output_type": "error",
          "ename": "TypeError",
          "evalue": "Can't instantiate abstract class BadShape with abstract methods get_area, get_perimeter",
          "traceback": [
            "\u001b[0;31m---------------------------------------------------------------------------\u001b[0m",
            "\u001b[0;31mTypeError\u001b[0m                                 Traceback (most recent call last)",
            "\u001b[0;32m<ipython-input-48-10bf11ce78dc>\u001b[0m in \u001b[0;36m<cell line: 5>\u001b[0;34m()\u001b[0m\n\u001b[1;32m      3\u001b[0m \u001b[0;34m\u001b[0m\u001b[0m\n\u001b[1;32m      4\u001b[0m \u001b[0;34m\u001b[0m\u001b[0m\n\u001b[0;32m----> 5\u001b[0;31m \u001b[0mbad_shape\u001b[0m \u001b[0;34m=\u001b[0m \u001b[0mBadShape\u001b[0m\u001b[0;34m(\u001b[0m\u001b[0;34m)\u001b[0m\u001b[0;34m\u001b[0m\u001b[0;34m\u001b[0m\u001b[0m\n\u001b[0m",
            "\u001b[0;31mTypeError\u001b[0m: Can't instantiate abstract class BadShape with abstract methods get_area, get_perimeter"
          ]
        }
      ]
    },
    {
      "cell_type": "markdown",
      "source": [
        "Теперь реализуем нормальные фигуры:"
      ],
      "metadata": {
        "id": "ZBYLLprWDb_A"
      }
    },
    {
      "cell_type": "code",
      "source": [
        "import math\n",
        "\n",
        "\n",
        "class Circle(Shape):\n",
        "    \"\"\"\n",
        "    A circle with a some radius\n",
        "    \"\"\"\n",
        "\n",
        "    def __init__(self, radius: float) -> None:\n",
        "        self.radius = radius\n",
        "\n",
        "    def get_area(self) -> float:\n",
        "        return math.pi * self.radius**2\n",
        "\n",
        "    def get_perimeter(self) -> float:\n",
        "        return 2 * math.pi * self.radius\n",
        "\n",
        "\n",
        "class Rectangle(Shape):\n",
        "    \"\"\"\n",
        "    A rectangle with some width and height\n",
        "    \"\"\"\n",
        "\n",
        "    def __init__(self, width: float, height: float) -> None:\n",
        "        self.width = width\n",
        "        self.height = height\n",
        "\n",
        "    def get_area(self) -> float:\n",
        "        return self.width * self.height\n",
        "\n",
        "    def get_perimeter(self) -> float:\n",
        "        return 2 * (self.width + self.height)"
      ],
      "metadata": {
        "id": "MuMgkpmQDc_Q"
      },
      "execution_count": 50,
      "outputs": []
    },
    {
      "cell_type": "markdown",
      "source": [
        "Теперь мы можем написать функции, которая будет работать с нашими объектами Shape, и они могут быть уверены, что все классы, наследующиеся от Shape будут реализовывать нужные им методы:"
      ],
      "metadata": {
        "id": "iigQ1KifDjMo"
      }
    },
    {
      "cell_type": "code",
      "source": [
        "def get_areas_sum(shapes):\n",
        "    # Проверяем, что все наши объекты наследуются от Shape:\n",
        "    for shape in shapes:\n",
        "        if not isinstance(shape, Shape):\n",
        "            raise ValueError(\n",
        "                f\"Only Shape objects are allowed, you tried to pass object of type {type(shape)}\"\n",
        "            )\n",
        "    # if not all(isinstance(shape, Shape) for shape in shapes):\n",
        "    #   raise ValueError(\"Only Shape objects are allowed\")\n",
        "    return sum(shape.get_area() for shape in shapes)\n",
        "\n",
        "\n",
        "def get_perimeters_sum(shapes):\n",
        "    # Проверяем, что все наши объекты наследуются от Shape:\n",
        "    if not all(isinstance(shape, Shape) for shape in shapes):\n",
        "        raise ValueError(\"Only Shape objects are allowed\")\n",
        "    return sum(shape.get_perimeter() for shape in shapes)"
      ],
      "metadata": {
        "id": "1NxWP27kDkIw"
      },
      "execution_count": 51,
      "outputs": []
    },
    {
      "cell_type": "markdown",
      "source": [
        "Попробуем использовать наши функции по назначению:"
      ],
      "metadata": {
        "id": "IUPnLKf3Dso4"
      }
    },
    {
      "cell_type": "code",
      "source": [
        "my_circle = Circle(10)\n",
        "del my_circle.radius"
      ],
      "metadata": {
        "id": "Ok5RZ6eADu9Q"
      },
      "execution_count": 52,
      "outputs": []
    },
    {
      "cell_type": "code",
      "source": [
        "print(get_areas_sum([Circle(1.0), Rectangle(1.0, 1.0)]))\n",
        "print(get_areas_sum([Circle(1.0), Circle(2.0), Rectangle(3.0, 2.0), my_circle]))\n",
        "\n",
        "print(get_perimeters_sum([Circle(1.0), Rectangle(1.0, 1.0)]))\n",
        "print(get_perimeters_sum([Circle(1.0), Circle(2.0), Rectangle(3.0, 2.0)]))"
      ],
      "metadata": {
        "colab": {
          "base_uri": "https://localhost:8080/",
          "height": 373
        },
        "id": "1eyGO0wpDwSw",
        "outputId": "7ce23743-1fda-4e8c-f677-4c64bdba524d"
      },
      "execution_count": 53,
      "outputs": [
        {
          "output_type": "stream",
          "name": "stdout",
          "text": [
            "4.141592653589793\n"
          ]
        },
        {
          "output_type": "error",
          "ename": "AttributeError",
          "evalue": "'Circle' object has no attribute 'radius'",
          "traceback": [
            "\u001b[0;31m---------------------------------------------------------------------------\u001b[0m",
            "\u001b[0;31mAttributeError\u001b[0m                            Traceback (most recent call last)",
            "\u001b[0;32m<ipython-input-53-1aa17f943f82>\u001b[0m in \u001b[0;36m<cell line: 2>\u001b[0;34m()\u001b[0m\n\u001b[1;32m      1\u001b[0m \u001b[0mprint\u001b[0m\u001b[0;34m(\u001b[0m\u001b[0mget_areas_sum\u001b[0m\u001b[0;34m(\u001b[0m\u001b[0;34m[\u001b[0m\u001b[0mCircle\u001b[0m\u001b[0;34m(\u001b[0m\u001b[0;36m1.0\u001b[0m\u001b[0;34m)\u001b[0m\u001b[0;34m,\u001b[0m \u001b[0mRectangle\u001b[0m\u001b[0;34m(\u001b[0m\u001b[0;36m1.0\u001b[0m\u001b[0;34m,\u001b[0m \u001b[0;36m1.0\u001b[0m\u001b[0;34m)\u001b[0m\u001b[0;34m]\u001b[0m\u001b[0;34m)\u001b[0m\u001b[0;34m)\u001b[0m\u001b[0;34m\u001b[0m\u001b[0;34m\u001b[0m\u001b[0m\n\u001b[0;32m----> 2\u001b[0;31m \u001b[0mprint\u001b[0m\u001b[0;34m(\u001b[0m\u001b[0mget_areas_sum\u001b[0m\u001b[0;34m(\u001b[0m\u001b[0;34m[\u001b[0m\u001b[0mCircle\u001b[0m\u001b[0;34m(\u001b[0m\u001b[0;36m1.0\u001b[0m\u001b[0;34m)\u001b[0m\u001b[0;34m,\u001b[0m \u001b[0mCircle\u001b[0m\u001b[0;34m(\u001b[0m\u001b[0;36m2.0\u001b[0m\u001b[0;34m)\u001b[0m\u001b[0;34m,\u001b[0m \u001b[0mRectangle\u001b[0m\u001b[0;34m(\u001b[0m\u001b[0;36m3.0\u001b[0m\u001b[0;34m,\u001b[0m \u001b[0;36m2.0\u001b[0m\u001b[0;34m)\u001b[0m\u001b[0;34m,\u001b[0m \u001b[0mmy_circle\u001b[0m\u001b[0;34m]\u001b[0m\u001b[0;34m)\u001b[0m\u001b[0;34m)\u001b[0m\u001b[0;34m\u001b[0m\u001b[0;34m\u001b[0m\u001b[0m\n\u001b[0m\u001b[1;32m      3\u001b[0m \u001b[0;34m\u001b[0m\u001b[0m\n\u001b[1;32m      4\u001b[0m \u001b[0mprint\u001b[0m\u001b[0;34m(\u001b[0m\u001b[0mget_perimeters_sum\u001b[0m\u001b[0;34m(\u001b[0m\u001b[0;34m[\u001b[0m\u001b[0mCircle\u001b[0m\u001b[0;34m(\u001b[0m\u001b[0;36m1.0\u001b[0m\u001b[0;34m)\u001b[0m\u001b[0;34m,\u001b[0m \u001b[0mRectangle\u001b[0m\u001b[0;34m(\u001b[0m\u001b[0;36m1.0\u001b[0m\u001b[0;34m,\u001b[0m \u001b[0;36m1.0\u001b[0m\u001b[0;34m)\u001b[0m\u001b[0;34m]\u001b[0m\u001b[0;34m)\u001b[0m\u001b[0;34m)\u001b[0m\u001b[0;34m\u001b[0m\u001b[0;34m\u001b[0m\u001b[0m\n\u001b[1;32m      5\u001b[0m \u001b[0mprint\u001b[0m\u001b[0;34m(\u001b[0m\u001b[0mget_perimeters_sum\u001b[0m\u001b[0;34m(\u001b[0m\u001b[0;34m[\u001b[0m\u001b[0mCircle\u001b[0m\u001b[0;34m(\u001b[0m\u001b[0;36m1.0\u001b[0m\u001b[0;34m)\u001b[0m\u001b[0;34m,\u001b[0m \u001b[0mCircle\u001b[0m\u001b[0;34m(\u001b[0m\u001b[0;36m2.0\u001b[0m\u001b[0;34m)\u001b[0m\u001b[0;34m,\u001b[0m \u001b[0mRectangle\u001b[0m\u001b[0;34m(\u001b[0m\u001b[0;36m3.0\u001b[0m\u001b[0;34m,\u001b[0m \u001b[0;36m2.0\u001b[0m\u001b[0;34m)\u001b[0m\u001b[0;34m]\u001b[0m\u001b[0;34m)\u001b[0m\u001b[0;34m)\u001b[0m\u001b[0;34m\u001b[0m\u001b[0;34m\u001b[0m\u001b[0m\n",
            "\u001b[0;32m<ipython-input-51-02c005673db4>\u001b[0m in \u001b[0;36mget_areas_sum\u001b[0;34m(shapes)\u001b[0m\n\u001b[1;32m      8\u001b[0m     \u001b[0;31m# if not all(isinstance(shape, Shape) for shape in shapes):\u001b[0m\u001b[0;34m\u001b[0m\u001b[0;34m\u001b[0m\u001b[0m\n\u001b[1;32m      9\u001b[0m     \u001b[0;31m#   raise ValueError(\"Only Shape objects are allowed\")\u001b[0m\u001b[0;34m\u001b[0m\u001b[0;34m\u001b[0m\u001b[0m\n\u001b[0;32m---> 10\u001b[0;31m     \u001b[0;32mreturn\u001b[0m \u001b[0msum\u001b[0m\u001b[0;34m(\u001b[0m\u001b[0mshape\u001b[0m\u001b[0;34m.\u001b[0m\u001b[0mget_area\u001b[0m\u001b[0;34m(\u001b[0m\u001b[0;34m)\u001b[0m \u001b[0;32mfor\u001b[0m \u001b[0mshape\u001b[0m \u001b[0;32min\u001b[0m \u001b[0mshapes\u001b[0m\u001b[0;34m)\u001b[0m\u001b[0;34m\u001b[0m\u001b[0;34m\u001b[0m\u001b[0m\n\u001b[0m\u001b[1;32m     11\u001b[0m \u001b[0;34m\u001b[0m\u001b[0m\n\u001b[1;32m     12\u001b[0m \u001b[0;34m\u001b[0m\u001b[0m\n",
            "\u001b[0;32m<ipython-input-51-02c005673db4>\u001b[0m in \u001b[0;36m<genexpr>\u001b[0;34m(.0)\u001b[0m\n\u001b[1;32m      8\u001b[0m     \u001b[0;31m# if not all(isinstance(shape, Shape) for shape in shapes):\u001b[0m\u001b[0;34m\u001b[0m\u001b[0;34m\u001b[0m\u001b[0m\n\u001b[1;32m      9\u001b[0m     \u001b[0;31m#   raise ValueError(\"Only Shape objects are allowed\")\u001b[0m\u001b[0;34m\u001b[0m\u001b[0;34m\u001b[0m\u001b[0m\n\u001b[0;32m---> 10\u001b[0;31m     \u001b[0;32mreturn\u001b[0m \u001b[0msum\u001b[0m\u001b[0;34m(\u001b[0m\u001b[0mshape\u001b[0m\u001b[0;34m.\u001b[0m\u001b[0mget_area\u001b[0m\u001b[0;34m(\u001b[0m\u001b[0;34m)\u001b[0m \u001b[0;32mfor\u001b[0m \u001b[0mshape\u001b[0m \u001b[0;32min\u001b[0m \u001b[0mshapes\u001b[0m\u001b[0;34m)\u001b[0m\u001b[0;34m\u001b[0m\u001b[0;34m\u001b[0m\u001b[0m\n\u001b[0m\u001b[1;32m     11\u001b[0m \u001b[0;34m\u001b[0m\u001b[0m\n\u001b[1;32m     12\u001b[0m \u001b[0;34m\u001b[0m\u001b[0m\n",
            "\u001b[0;32m<ipython-input-50-74ab3b8096fb>\u001b[0m in \u001b[0;36mget_area\u001b[0;34m(self)\u001b[0m\n\u001b[1;32m     11\u001b[0m \u001b[0;34m\u001b[0m\u001b[0m\n\u001b[1;32m     12\u001b[0m     \u001b[0;32mdef\u001b[0m \u001b[0mget_area\u001b[0m\u001b[0;34m(\u001b[0m\u001b[0mself\u001b[0m\u001b[0;34m)\u001b[0m \u001b[0;34m->\u001b[0m \u001b[0mfloat\u001b[0m\u001b[0;34m:\u001b[0m\u001b[0;34m\u001b[0m\u001b[0;34m\u001b[0m\u001b[0m\n\u001b[0;32m---> 13\u001b[0;31m         \u001b[0;32mreturn\u001b[0m \u001b[0mmath\u001b[0m\u001b[0;34m.\u001b[0m\u001b[0mpi\u001b[0m \u001b[0;34m*\u001b[0m \u001b[0mself\u001b[0m\u001b[0;34m.\u001b[0m\u001b[0mradius\u001b[0m\u001b[0;34m**\u001b[0m\u001b[0;36m2\u001b[0m\u001b[0;34m\u001b[0m\u001b[0;34m\u001b[0m\u001b[0m\n\u001b[0m\u001b[1;32m     14\u001b[0m \u001b[0;34m\u001b[0m\u001b[0m\n\u001b[1;32m     15\u001b[0m     \u001b[0;32mdef\u001b[0m \u001b[0mget_perimeter\u001b[0m\u001b[0;34m(\u001b[0m\u001b[0mself\u001b[0m\u001b[0;34m)\u001b[0m \u001b[0;34m->\u001b[0m \u001b[0mfloat\u001b[0m\u001b[0;34m:\u001b[0m\u001b[0;34m\u001b[0m\u001b[0;34m\u001b[0m\u001b[0m\n",
            "\u001b[0;31mAttributeError\u001b[0m: 'Circle' object has no attribute 'radius'"
          ]
        }
      ]
    },
    {
      "cell_type": "markdown",
      "source": [
        "Попробуем подать неправильные объекты:"
      ],
      "metadata": {
        "id": "HVTXhByTD5ag"
      }
    },
    {
      "cell_type": "code",
      "source": [
        "print(get_areas_sum([Circle(1.0), Rectangle(1.0, 1.0), \"STRING\"]))"
      ],
      "metadata": {
        "colab": {
          "base_uri": "https://localhost:8080/",
          "height": 263
        },
        "id": "wlZBINDMD62Y",
        "outputId": "d3c992fd-8017-4ffa-fe9a-cbcdd85e296b"
      },
      "execution_count": 54,
      "outputs": [
        {
          "output_type": "error",
          "ename": "ValueError",
          "evalue": "Only Shape objects are allowed, you tried to pass object of type <class 'str'>",
          "traceback": [
            "\u001b[0;31m---------------------------------------------------------------------------\u001b[0m",
            "\u001b[0;31mValueError\u001b[0m                                Traceback (most recent call last)",
            "\u001b[0;32m<ipython-input-54-a7b41e03eeee>\u001b[0m in \u001b[0;36m<cell line: 1>\u001b[0;34m()\u001b[0m\n\u001b[0;32m----> 1\u001b[0;31m \u001b[0mprint\u001b[0m\u001b[0;34m(\u001b[0m\u001b[0mget_areas_sum\u001b[0m\u001b[0;34m(\u001b[0m\u001b[0;34m[\u001b[0m\u001b[0mCircle\u001b[0m\u001b[0;34m(\u001b[0m\u001b[0;36m1.0\u001b[0m\u001b[0;34m)\u001b[0m\u001b[0;34m,\u001b[0m \u001b[0mRectangle\u001b[0m\u001b[0;34m(\u001b[0m\u001b[0;36m1.0\u001b[0m\u001b[0;34m,\u001b[0m \u001b[0;36m1.0\u001b[0m\u001b[0;34m)\u001b[0m\u001b[0;34m,\u001b[0m \u001b[0;34m\"STRING\"\u001b[0m\u001b[0;34m]\u001b[0m\u001b[0;34m)\u001b[0m\u001b[0;34m)\u001b[0m\u001b[0;34m\u001b[0m\u001b[0;34m\u001b[0m\u001b[0m\n\u001b[0m",
            "\u001b[0;32m<ipython-input-51-02c005673db4>\u001b[0m in \u001b[0;36mget_areas_sum\u001b[0;34m(shapes)\u001b[0m\n\u001b[1;32m      3\u001b[0m     \u001b[0;32mfor\u001b[0m \u001b[0mshape\u001b[0m \u001b[0;32min\u001b[0m \u001b[0mshapes\u001b[0m\u001b[0;34m:\u001b[0m\u001b[0;34m\u001b[0m\u001b[0;34m\u001b[0m\u001b[0m\n\u001b[1;32m      4\u001b[0m         \u001b[0;32mif\u001b[0m \u001b[0;32mnot\u001b[0m \u001b[0misinstance\u001b[0m\u001b[0;34m(\u001b[0m\u001b[0mshape\u001b[0m\u001b[0;34m,\u001b[0m \u001b[0mShape\u001b[0m\u001b[0;34m)\u001b[0m\u001b[0;34m:\u001b[0m\u001b[0;34m\u001b[0m\u001b[0;34m\u001b[0m\u001b[0m\n\u001b[0;32m----> 5\u001b[0;31m             raise ValueError(\n\u001b[0m\u001b[1;32m      6\u001b[0m                 \u001b[0;34mf\"Only Shape objects are allowed, you tried to pass object of type {type(shape)}\"\u001b[0m\u001b[0;34m\u001b[0m\u001b[0;34m\u001b[0m\u001b[0m\n\u001b[1;32m      7\u001b[0m             )\n",
            "\u001b[0;31mValueError\u001b[0m: Only Shape objects are allowed, you tried to pass object of type <class 'str'>"
          ]
        }
      ]
    },
    {
      "cell_type": "markdown",
      "source": [
        "Питон так же имеет множество встроенных абстрактных классов, которые вы можете использовать, для проверки того, что объект удовлетворяет определённому интерфейсу: https://docs.python.org/3/library/collections.abc.html"
      ],
      "metadata": {
        "id": "-xKTDka7EAux"
      }
    },
    {
      "cell_type": "code",
      "source": [
        "from collections.abc import *\n",
        "\n",
        "\n",
        "class MyStorage(Sequence):\n",
        "    def __getitem__(self):\n",
        "        pass\n",
        "\n",
        "    def __len__(self):\n",
        "        pass\n",
        "\n",
        "\n",
        "storage = MyStorage()"
      ],
      "metadata": {
        "id": "2nyJAFuuECEg"
      },
      "execution_count": 55,
      "outputs": []
    },
    {
      "cell_type": "markdown",
      "source": [
        "Dataclasses\n",
        "Зачастую нам нужен небольшой класс, который не имеет своих методов, но просто хранит в себе какие-то данные. Например, класс человека с именем, фамилией и возрастом.\n",
        "\n",
        "Если мы напишем для такой цели полноценный питоновский класс, мы получим громоздкую конструкцию с множеством повторений:"
      ],
      "metadata": {
        "id": "zONI8Tt-EGuQ"
      }
    },
    {
      "cell_type": "code",
      "source": [
        "class Person:\n",
        "    def __init__(self, name, surname, age):\n",
        "        self.name = name\n",
        "        self.surname = surname\n",
        "        self.age = age\n",
        "\n",
        "\n",
        "person = Person(\"Stern\", \"Morgenov\", 13)\n",
        "person"
      ],
      "metadata": {
        "colab": {
          "base_uri": "https://localhost:8080/"
        },
        "id": "qVRrx_RrEILB",
        "outputId": "53806286-9aa9-4ade-d7d8-d0c81f3b5542"
      },
      "execution_count": 56,
      "outputs": [
        {
          "output_type": "execute_result",
          "data": {
            "text/plain": [
              "<__main__.Person at 0x7f9a00544100>"
            ]
          },
          "metadata": {},
          "execution_count": 56
        }
      ]
    },
    {
      "cell_type": "markdown",
      "source": [
        "И это мы не ещё определили такие методы как __repr__ и __eq__ для понятного представления и сравнения людей.\n",
        "\n",
        "Чтобы не заниматься всей этой ерундой питон предоставляет удобный способ создания классов, нужных исключительно для хранения данных, определённый во встроенном модуле dataclasses:"
      ],
      "metadata": {
        "id": "x9x2gHcEENV4"
      }
    },
    {
      "cell_type": "code",
      "source": [
        "from dataclasses import dataclass\n",
        "\n",
        "\n",
        "@dataclass\n",
        "class Person:\n",
        "    name: str\n",
        "    surname: str\n",
        "    age: int\n",
        "\n",
        "    def birthday(self):\n",
        "        self.age += 1\n",
        "\n",
        "\n",
        "person = Person(\"Stern\", \"Morgenov\", 13)\n",
        "print(person)\n",
        "person.birthday()\n",
        "print(person)"
      ],
      "metadata": {
        "colab": {
          "base_uri": "https://localhost:8080/"
        },
        "id": "eYJe-smAEOlP",
        "outputId": "25e15c2c-ed6f-49be-cfbd-635f7ca82421"
      },
      "execution_count": 57,
      "outputs": [
        {
          "output_type": "stream",
          "name": "stdout",
          "text": [
            "Person(name='Stern', surname='Morgenov', age=13)\n",
            "Person(name='Stern', surname='Morgenov', age=14)\n"
          ]
        }
      ]
    },
    {
      "cell_type": "markdown",
      "source": [
        "Стоит отметить, что аннотация типов тут является обязательной частью синтаксиса. Данная конструкция автоматически создаёт для нас класс Person с определёнными методами __init__, __repr__ и даже __eq__.\n",
        "\n",
        "При создании объекта параметры будут подаваться в том же порядке, в котором они объявлены в классе.\n",
        "\n",
        "Более тонко настроить, какие именно методы будут автоматически добавляться можно при помощи параметров самого декоратора. Например, если мы не хотим, чтобы за нас создавали __repr__, мы можем сделать так:"
      ],
      "metadata": {
        "id": "2pHv6FlOEX-I"
      }
    },
    {
      "cell_type": "code",
      "source": [
        "@dataclass(repr=False)\n",
        "class PersonWORepr:\n",
        "    name: str\n",
        "    surname: str\n",
        "    age: int\n",
        "\n",
        "\n",
        "person_wo_repr = PersonWORepr(\"Stern\", \"Morgenov\", 13)\n",
        "person_wo_repr"
      ],
      "metadata": {
        "colab": {
          "base_uri": "https://localhost:8080/"
        },
        "id": "lj5BYI4QEWeI",
        "outputId": "bfde0130-5e0e-4b92-af0f-3faad46116f9"
      },
      "execution_count": 58,
      "outputs": [
        {
          "output_type": "execute_result",
          "data": {
            "text/plain": [
              "<__main__.PersonWORepr at 0x7f9a00545bd0>"
            ]
          },
          "metadata": {},
          "execution_count": 58
        }
      ]
    },
    {
      "cell_type": "markdown",
      "source": [
        "Как видим, метод __repr__ не добавился, и информация об объекте красиво не вывелась.\n",
        "\n",
        "dataclass'ы поддерживают значения по умолчанию:"
      ],
      "metadata": {
        "id": "ib8nvtaoFXd6"
      }
    },
    {
      "cell_type": "code",
      "source": [
        "@dataclass\n",
        "class PersonWithDefaultAge:\n",
        "    name: str\n",
        "    surname: str\n",
        "    age: int = 28\n",
        "\n",
        "\n",
        "person_with_default_age = PersonWithDefaultAge(\"Stern\", \"Morgenov\")\n",
        "person_with_default_age"
      ],
      "metadata": {
        "colab": {
          "base_uri": "https://localhost:8080/"
        },
        "id": "rJRRwVOSFYfq",
        "outputId": "aa32dd95-0616-435b-bacb-369dcd495020"
      },
      "execution_count": 59,
      "outputs": [
        {
          "output_type": "execute_result",
          "data": {
            "text/plain": [
              "PersonWithDefaultAge(name='Stern', surname='Morgenov', age=28)"
            ]
          },
          "metadata": {},
          "execution_count": 59
        }
      ]
    },
    {
      "cell_type": "markdown",
      "source": [
        "Как и в аргументах функций, все переменные со значениями по умолчанию должны стоять после всех переменных без них.\n",
        "\n",
        "Last but not least, иногда вам может быть нужна дополнительная логика при задании полей dataclass'а. Например, вы хотите добавить изменяемый объект в качестве значения по умолчанию. Для таких случаев в модуле dataclasses есть field:"
      ],
      "metadata": {
        "id": "8Bz2A5D7FeFh"
      }
    },
    {
      "cell_type": "code",
      "source": [
        "from dataclasses import field\n",
        "from typing import List\n",
        "\n",
        "\n",
        "@dataclass\n",
        "class Student:\n",
        "    name: str\n",
        "    surname: str\n",
        "    age: int = 28\n",
        "    classes: List[int] = field(default_factory=lambda: [1, 2, 3])\n",
        "\n",
        "\n",
        "student = Student(\"Stern\", \"Morgenov\")\n",
        "print(student)\n",
        "student.somename = 100\n",
        "print(student.__dict__)\n",
        "del student.name\n",
        "print(student)"
      ],
      "metadata": {
        "colab": {
          "base_uri": "https://localhost:8080/",
          "height": 367
        },
        "id": "3RyW_x3GFf2p",
        "outputId": "2d113cf5-56d0-4730-e997-23d33821d40c"
      },
      "execution_count": 60,
      "outputs": [
        {
          "output_type": "stream",
          "name": "stdout",
          "text": [
            "Student(name='Stern', surname='Morgenov', age=28, classes=[1, 2, 3])\n",
            "{'name': 'Stern', 'surname': 'Morgenov', 'age': 28, 'classes': [1, 2, 3], 'somename': 100}\n"
          ]
        },
        {
          "output_type": "error",
          "ename": "AttributeError",
          "evalue": "'Student' object has no attribute 'name'",
          "traceback": [
            "\u001b[0;31m---------------------------------------------------------------------------\u001b[0m",
            "\u001b[0;31mAttributeError\u001b[0m                            Traceback (most recent call last)",
            "\u001b[0;32m<ipython-input-60-16be5809da03>\u001b[0m in \u001b[0;36m<cell line: 18>\u001b[0;34m()\u001b[0m\n\u001b[1;32m     16\u001b[0m \u001b[0mprint\u001b[0m\u001b[0;34m(\u001b[0m\u001b[0mstudent\u001b[0m\u001b[0;34m.\u001b[0m\u001b[0m__dict__\u001b[0m\u001b[0;34m)\u001b[0m\u001b[0;34m\u001b[0m\u001b[0;34m\u001b[0m\u001b[0m\n\u001b[1;32m     17\u001b[0m \u001b[0;32mdel\u001b[0m \u001b[0mstudent\u001b[0m\u001b[0;34m.\u001b[0m\u001b[0mname\u001b[0m\u001b[0;34m\u001b[0m\u001b[0;34m\u001b[0m\u001b[0m\n\u001b[0;32m---> 18\u001b[0;31m \u001b[0mprint\u001b[0m\u001b[0;34m(\u001b[0m\u001b[0mstudent\u001b[0m\u001b[0;34m)\u001b[0m\u001b[0;34m\u001b[0m\u001b[0;34m\u001b[0m\u001b[0m\n\u001b[0m",
            "\u001b[0;32m/usr/lib/python3.10/dataclasses.py\u001b[0m in \u001b[0;36mwrapper\u001b[0;34m(self)\u001b[0m\n\u001b[1;32m    237\u001b[0m         \u001b[0mrepr_running\u001b[0m\u001b[0;34m.\u001b[0m\u001b[0madd\u001b[0m\u001b[0;34m(\u001b[0m\u001b[0mkey\u001b[0m\u001b[0;34m)\u001b[0m\u001b[0;34m\u001b[0m\u001b[0;34m\u001b[0m\u001b[0m\n\u001b[1;32m    238\u001b[0m         \u001b[0;32mtry\u001b[0m\u001b[0;34m:\u001b[0m\u001b[0;34m\u001b[0m\u001b[0;34m\u001b[0m\u001b[0m\n\u001b[0;32m--> 239\u001b[0;31m             \u001b[0mresult\u001b[0m \u001b[0;34m=\u001b[0m \u001b[0muser_function\u001b[0m\u001b[0;34m(\u001b[0m\u001b[0mself\u001b[0m\u001b[0;34m)\u001b[0m\u001b[0;34m\u001b[0m\u001b[0;34m\u001b[0m\u001b[0m\n\u001b[0m\u001b[1;32m    240\u001b[0m         \u001b[0;32mfinally\u001b[0m\u001b[0;34m:\u001b[0m\u001b[0;34m\u001b[0m\u001b[0;34m\u001b[0m\u001b[0m\n\u001b[1;32m    241\u001b[0m             \u001b[0mrepr_running\u001b[0m\u001b[0;34m.\u001b[0m\u001b[0mdiscard\u001b[0m\u001b[0;34m(\u001b[0m\u001b[0mkey\u001b[0m\u001b[0;34m)\u001b[0m\u001b[0;34m\u001b[0m\u001b[0;34m\u001b[0m\u001b[0m\n",
            "\u001b[0;32m<string>\u001b[0m in \u001b[0;36m__repr__\u001b[0;34m(self)\u001b[0m\n",
            "\u001b[0;31mAttributeError\u001b[0m: 'Student' object has no attribute 'name'"
          ]
        }
      ]
    },
    {
      "cell_type": "markdown",
      "source": [
        "Параметр default_factory в field принимает функцию, которая создаёт дефолтное значение. (Подробнее, почему изменяемые объекты в дефолтах — это плохо, спросите у семинариста или почитайте тут)\n",
        "\n",
        "dataclass'ы также поддерживают наследование.\n",
        "\n",
        "Подробнее о dataclass'ах можно почитать в документации или тут.\n",
        "\n",
        "Слоты\n",
        "Чтобы сделать наши классы ещё более управляемыми, мы можем жёстко ограничить используемые имена атрибутов!"
      ],
      "metadata": {
        "id": "bmRj3pIpFl1Y"
      }
    },
    {
      "cell_type": "code",
      "source": [
        "class SlotsClass:\n",
        "\n",
        "    __slots__ = (\"foo\", \"bar\")"
      ],
      "metadata": {
        "id": "cIeuizgUFsM_"
      },
      "execution_count": 62,
      "outputs": []
    },
    {
      "cell_type": "code",
      "source": [
        "obj = SlotsClass()\n",
        "obj.foo = 5\n",
        "print(obj.foo)\n",
        "obj.bar = 100\n",
        "obj.bar"
      ],
      "metadata": {
        "colab": {
          "base_uri": "https://localhost:8080/"
        },
        "id": "ZfSUvu-zFuy4",
        "outputId": "766c99b9-e96c-496f-f299-60a55251ed74"
      },
      "execution_count": 63,
      "outputs": [
        {
          "output_type": "stream",
          "name": "stdout",
          "text": [
            "5\n"
          ]
        },
        {
          "output_type": "execute_result",
          "data": {
            "text/plain": [
              "100"
            ]
          },
          "metadata": {},
          "execution_count": 63
        }
      ]
    },
    {
      "cell_type": "code",
      "source": [
        "obj.another_attribute = \"Elvis has left the building\""
      ],
      "metadata": {
        "colab": {
          "base_uri": "https://localhost:8080/",
          "height": 141
        },
        "id": "sEMJvkt0FxH_",
        "outputId": "0867c2fd-d219-4cd2-d632-f7eeae807e9a"
      },
      "execution_count": 64,
      "outputs": [
        {
          "output_type": "error",
          "ename": "AttributeError",
          "evalue": "'SlotsClass' object has no attribute 'another_attribute'",
          "traceback": [
            "\u001b[0;31m---------------------------------------------------------------------------\u001b[0m",
            "\u001b[0;31mAttributeError\u001b[0m                            Traceback (most recent call last)",
            "\u001b[0;32m<ipython-input-64-9a11e0fae239>\u001b[0m in \u001b[0;36m<cell line: 1>\u001b[0;34m()\u001b[0m\n\u001b[0;32m----> 1\u001b[0;31m \u001b[0mobj\u001b[0m\u001b[0;34m.\u001b[0m\u001b[0manother_attribute\u001b[0m \u001b[0;34m=\u001b[0m \u001b[0;34m\"Elvis has left the building\"\u001b[0m\u001b[0;34m\u001b[0m\u001b[0;34m\u001b[0m\u001b[0m\n\u001b[0m",
            "\u001b[0;31mAttributeError\u001b[0m: 'SlotsClass' object has no attribute 'another_attribute'"
          ]
        }
      ]
    },
    {
      "cell_type": "markdown",
      "source": [
        "Классы-декораторы"
      ],
      "metadata": {
        "id": "7ztAZWebF7wY"
      }
    },
    {
      "cell_type": "code",
      "source": [
        "class Repeater:\n",
        "    def __init__(self, n):\n",
        "        self.n = n\n",
        "\n",
        "    def __call__(self, f):\n",
        "        def wrapper(*args, **kwargs):\n",
        "            for _ in range(self.n):\n",
        "                f(*args, **kwargs)\n",
        "\n",
        "        return wrapper\n",
        "\n",
        "\n",
        "@Repeater(3)\n",
        "def foo(a, b):\n",
        "    print(\"foo\")\n",
        "\n",
        "\n",
        "foo(1, 2)"
      ],
      "metadata": {
        "colab": {
          "base_uri": "https://localhost:8080/"
        },
        "id": "aF7l5-3qF9ug",
        "outputId": "15cbd265-7462-43f0-9bbb-89ae9d788f18"
      },
      "execution_count": 66,
      "outputs": [
        {
          "output_type": "stream",
          "name": "stdout",
          "text": [
            "foo\n",
            "foo\n",
            "foo\n"
          ]
        }
      ]
    },
    {
      "cell_type": "markdown",
      "source": [
        "Отступление. Обработка ошибок:"
      ],
      "metadata": {
        "id": "0LYCAOsBGDxI"
      }
    },
    {
      "cell_type": "code",
      "source": [
        "class MyError(ValueError):\n",
        "    pass"
      ],
      "metadata": {
        "id": "4TJy5_JdGEqI"
      },
      "execution_count": 68,
      "outputs": []
    },
    {
      "cell_type": "code",
      "source": [
        "try:\n",
        "    n = int(\"weew\")\n",
        "    data = n / 0\n",
        "    raise (MyError(\"some error happened\"))\n",
        "    # raise(BaseException())\n",
        "except MyError as e:\n",
        "    print(e)\n",
        "    print(\"My Error\")\n",
        "except ValueError as e:\n",
        "    print(e)\n",
        "    print(\"Could not convert!\")\n",
        "except ArithmeticError as e:\n",
        "    print(e)\n",
        "    print(\"Could not divide by zero!\")\n",
        "else:\n",
        "    print(\"else\")\n",
        "finally:\n",
        "    print(\"finish\")"
      ],
      "metadata": {
        "colab": {
          "base_uri": "https://localhost:8080/"
        },
        "id": "Q32ulDUtGJTZ",
        "outputId": "037b159e-4abe-41cc-e2a5-4ee991bc20d7"
      },
      "execution_count": 69,
      "outputs": [
        {
          "output_type": "stream",
          "name": "stdout",
          "text": [
            "invalid literal for int() with base 10: 'weew'\n",
            "Could not convert!\n",
            "finish\n"
          ]
        }
      ]
    },
    {
      "cell_type": "markdown",
      "source": [
        "И декораторы для классов!"
      ],
      "metadata": {
        "id": "tJa9J5SEGMjn"
      }
    },
    {
      "cell_type": "code",
      "source": [
        "import time\n",
        "\n",
        "\n",
        "def timeit(method):\n",
        "    def timed(*args, **kw):\n",
        "        ts = time.time()\n",
        "        result = method(*args, **kw)\n",
        "        te = time.time()\n",
        "        delta = (te - ts) * 1000\n",
        "        print(f\"{method.__name__} took {delta} ms\")\n",
        "        return result\n",
        "\n",
        "    return timed\n",
        "\n",
        "\n",
        "def time_all_methods(cls):\n",
        "    class NewCls:\n",
        "        def __init__(self, *args, **kwargs):\n",
        "            self._obj = cls(*args, **kwargs)\n",
        "\n",
        "        def __getattribute__(self, s):\n",
        "            try:\n",
        "                x = super().__getattribute__(s)\n",
        "            except AttributeError:\n",
        "                pass\n",
        "            else:\n",
        "                return x\n",
        "            attr = self._obj.__getattribute__(s)\n",
        "            if isinstance(attr, type(self.__init__)):\n",
        "                return timeit(attr)\n",
        "            else:\n",
        "                return attr\n",
        "\n",
        "    return NewCls\n",
        "\n",
        "\n",
        "@time_all_methods\n",
        "class Foo:\n",
        "    def func(self):\n",
        "        print(\"start\")\n",
        "        time.sleep(0.56)\n",
        "        print(\"end\")\n",
        "\n",
        "\n",
        "f = Foo()\n",
        "f.func()"
      ],
      "metadata": {
        "colab": {
          "base_uri": "https://localhost:8080/"
        },
        "id": "xSlQ_wA-GNnA",
        "outputId": "ee240564-426b-40c0-89e9-ade418908ab7"
      },
      "execution_count": 70,
      "outputs": [
        {
          "output_type": "stream",
          "name": "stdout",
          "text": [
            "start\n",
            "end\n",
            "func took 561.1121654510498 ms\n"
          ]
        }
      ]
    },
    {
      "cell_type": "code",
      "source": [
        "class SelfCount:\n",
        "    __count = 0\n",
        "\n",
        "    def __init__(self):\n",
        "        SelfCount.__count += 1\n",
        "\n",
        "    def get_count(self):\n",
        "        return SelfCount.__count\n",
        "\n",
        "    def set_count(self, value):\n",
        "        return\n",
        "\n",
        "    def del_count(self):\n",
        "        return\n",
        "\n",
        "    def __del__(self):\n",
        "        SelfCount.__count -= 1\n",
        "\n",
        "    count = property(get_count, set_count, del_count)"
      ],
      "metadata": {
        "id": "lw8qGbALGUbA"
      },
      "execution_count": 72,
      "outputs": []
    }
  ]
}