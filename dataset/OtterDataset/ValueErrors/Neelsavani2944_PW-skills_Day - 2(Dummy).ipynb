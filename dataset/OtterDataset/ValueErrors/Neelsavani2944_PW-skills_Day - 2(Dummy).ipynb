{
 "cells": [
  {
   "cell_type": "code",
   "execution_count": 1,
   "id": "d39a5dbd-ced7-44c4-9816-18488c9f1c63",
   "metadata": {},
   "outputs": [],
   "source": [
    "a = 10"
   ]
  },
  {
   "cell_type": "code",
   "execution_count": 2,
   "id": "fdac39c3-9514-4a5b-87ca-929ab7e06d59",
   "metadata": {},
   "outputs": [],
   "source": [
    "a = \"neel\""
   ]
  },
  {
   "cell_type": "code",
   "execution_count": 3,
   "id": "a67f1423-011f-45f6-9a64-a8498a7facf0",
   "metadata": {},
   "outputs": [
    {
     "data": {
      "text/plain": [
       "str"
      ]
     },
     "execution_count": 3,
     "metadata": {},
     "output_type": "execute_result"
    }
   ],
   "source": [
    "type(a)"
   ]
  },
  {
   "cell_type": "code",
   "execution_count": 4,
   "id": "ce7fecf6-eda4-42b5-ad76-3b37aa87db5d",
   "metadata": {},
   "outputs": [
    {
     "data": {
      "text/plain": [
       "123"
      ]
     },
     "execution_count": 4,
     "metadata": {},
     "output_type": "execute_result"
    }
   ],
   "source": [
    "int(\"123\")"
   ]
  },
  {
   "cell_type": "code",
   "execution_count": 5,
   "id": "4e27e5bc-eb08-4a14-8005-063fb02043ab",
   "metadata": {},
   "outputs": [
    {
     "ename": "ValueError",
     "evalue": "invalid literal for int() with base 10: 'abcd'",
     "output_type": "error",
     "traceback": [
      "\u001b[1;31m---------------------------------------------------------------------------\u001b[0m",
      "\u001b[1;31mValueError\u001b[0m                                Traceback (most recent call last)",
      "Cell \u001b[1;32mIn[5], line 1\u001b[0m\n\u001b[1;32m----> 1\u001b[0m \u001b[38;5;28;43mint\u001b[39;49m\u001b[43m(\u001b[49m\u001b[38;5;124;43m\"\u001b[39;49m\u001b[38;5;124;43mabcd\u001b[39;49m\u001b[38;5;124;43m\"\u001b[39;49m\u001b[43m)\u001b[49m\n",
      "\u001b[1;31mValueError\u001b[0m: invalid literal for int() with base 10: 'abcd'"
     ]
    }
   ],
   "source": [
    "int(\"abcd\")"
   ]
  },
  {
   "cell_type": "code",
   "execution_count": 6,
   "id": "e91e4e54-f69b-436c-a47b-b33f2bff0609",
   "metadata": {},
   "outputs": [
    {
     "data": {
      "text/plain": [
       "'123'"
      ]
     },
     "execution_count": 6,
     "metadata": {},
     "output_type": "execute_result"
    }
   ],
   "source": [
    "str(123)"
   ]
  },
  {
   "cell_type": "code",
   "execution_count": 8,
   "id": "3edaaa53-cdf6-4b75-b0db-17923e2f106e",
   "metadata": {},
   "outputs": [
    {
     "name": "stdout",
     "output_type": "stream",
     "text": [
      "hello world\n"
     ]
    }
   ],
   "source": [
    "print(\"hello world\")"
   ]
  },
  {
   "cell_type": "code",
   "execution_count": 9,
   "id": "5be8edce-f019-4bf1-af8b-b76eb6726f93",
   "metadata": {},
   "outputs": [
    {
     "name": "stdout",
     "output_type": "stream",
     "text": [
      "123\n"
     ]
    }
   ],
   "source": [
    "print(\"123\")"
   ]
  },
  {
   "cell_type": "code",
   "execution_count": 10,
   "id": "cabf4ac3-5f4e-4bf7-97a3-4aff6b557004",
   "metadata": {},
   "outputs": [
    {
     "name": "stdout",
     "output_type": "stream",
     "text": [
      "\n"
     ]
    }
   ],
   "source": [
    "print(\"\")"
   ]
  },
  {
   "cell_type": "code",
   "execution_count": 11,
   "id": "3db943ba-8466-4848-89b3-247aecf81e07",
   "metadata": {},
   "outputs": [
    {
     "name": "stdout",
     "output_type": "stream",
     "text": [
      "my age is 22\n"
     ]
    }
   ],
   "source": [
    "age = 22\n",
    "print(\"my age is\",age)"
   ]
  },
  {
   "cell_type": "code",
   "execution_count": 15,
   "id": "53295990-90d3-4bf8-ac14-fef205fd7d5c",
   "metadata": {},
   "outputs": [
    {
     "name": "stdout",
     "output_type": "stream",
     "text": [
      "my age is 22\n"
     ]
    }
   ],
   "source": [
    "print(f\"my age is {age}\")"
   ]
  },
  {
   "cell_type": "code",
   "execution_count": 17,
   "id": "8b0b2970-ac3b-4558-ac17-e071661456f2",
   "metadata": {},
   "outputs": [
    {
     "name": "stdout",
     "output_type": "stream",
     "text": [
      "my name is neel and my age is 22\n"
     ]
    }
   ],
   "source": [
    "name = \"neel\"\n",
    "age = 22\n",
    "print(\"my name is {} and my age is {}\".format(name,age))"
   ]
  },
  {
   "cell_type": "code",
   "execution_count": 18,
   "id": "9cb2c31f-ba17-456d-b094-10219aa2852c",
   "metadata": {},
   "outputs": [
    {
     "name": "stdout",
     "output_type": "stream",
     "text": [
      "my name is neel and my age is 22\n"
     ]
    }
   ],
   "source": [
    "print(\"my name is {firstname} and my age is {firstage}\".format(firstage=age,firstname=name))"
   ]
  },
  {
   "cell_type": "code",
   "execution_count": 19,
   "id": "b251aa33-73eb-4454-b0ae-4d49baf9269f",
   "metadata": {},
   "outputs": [],
   "source": [
    "degree = \"Msc\""
   ]
  },
  {
   "cell_type": "code",
   "execution_count": 21,
   "id": "d84f031e-1b78-43e4-9f65-7bab0bc2fea1",
   "metadata": {},
   "outputs": [
    {
     "name": "stdout",
     "output_type": "stream",
     "text": [
      "my age is 22 and i have completed my degree of Msc with the name of neel\n"
     ]
    }
   ],
   "source": [
    "print(\"my age is {} and i have completed my degree of {} with the name of {}\".format(age,degree,name))"
   ]
  },
  {
   "cell_type": "code",
   "execution_count": 22,
   "id": "3978a7d4-a88d-4ef2-a06e-841c22afa69f",
   "metadata": {},
   "outputs": [
    {
     "name": "stdout",
     "output_type": "stream",
     "text": [
      "my age is 22 and i have completed my degree of Msc with the name of neel\n"
     ]
    }
   ],
   "source": [
    "print(f\"my age is {age} and i have completed my degree of {degree} with the name of {name}\")"
   ]
  },
  {
   "cell_type": "code",
   "execution_count": 25,
   "id": "af640efc-4b00-46ff-8574-a0d14d516ca9",
   "metadata": {},
   "outputs": [
    {
     "name": "stdin",
     "output_type": "stream",
     "text": [
      "Enter your age :  17\n"
     ]
    },
    {
     "name": "stdout",
     "output_type": "stream",
     "text": [
      "You are not eligible for vote\n"
     ]
    }
   ],
   "source": [
    "age = int(input(\"Enter your age : \"))\n",
    "if age <= 18:\n",
    "    print(\"You are not eligible for vote\")\n",
    "else:\n",
    "    print(\"You are eligible for vote\")"
   ]
  },
  {
   "cell_type": "code",
   "execution_count": 28,
   "id": "9e135661-3c4b-4571-89b9-2f70335b3fc4",
   "metadata": {},
   "outputs": [
    {
     "name": "stdin",
     "output_type": "stream",
     "text": [
      "Enter the amount of purchesed item :  1700\n"
     ]
    },
    {
     "name": "stdout",
     "output_type": "stream",
     "text": [
      "30% off\n",
      "You need to pay 1190.0 rupees\n"
     ]
    }
   ],
   "source": [
    "amount = int(input(\"Enter the amount of purchesed item : \"))\n",
    "if amount > 1000:\n",
    "    print(\"30% off\")\n",
    "    print(\"You need to pay {} rupees\".format(amount*0.7))\n",
    "else:\n",
    "    print(\"20% off\")\n",
    "    print(\"You need to pay {} rupees\".format(amount*0.8))"
   ]
  },
  {
   "cell_type": "code",
   "execution_count": 29,
   "id": "d5ea5741-9b13-4fde-b00e-1b8a30f5641e",
   "metadata": {},
   "outputs": [
    {
     "name": "stdin",
     "output_type": "stream",
     "text": [
      "Enter the amount of purchesed item :  500\n"
     ]
    },
    {
     "name": "stdout",
     "output_type": "stream",
     "text": [
      "20% off\n",
      "You need to pay 400.0 rupees\n"
     ]
    }
   ],
   "source": [
    "amount = int(input(\"Enter the amount of purchesed item : \"))\n",
    "if amount > 1000:\n",
    "    print(\"30% off\")\n",
    "    print(\"You need to pay {} rupees\".format(amount*0.7))\n",
    "else:\n",
    "    print(\"20% off\")\n",
    "    print(\"You need to pay {} rupees\".format(amount*0.8))"
   ]
  },
  {
   "cell_type": "code",
   "execution_count": 30,
   "id": "42dfd3d9-1a9b-444d-aff1-67b6207a1343",
   "metadata": {},
   "outputs": [
    {
     "name": "stdin",
     "output_type": "stream",
     "text": [
      "Enter the amount of purchesed item :  1700\n"
     ]
    },
    {
     "name": "stdout",
     "output_type": "stream",
     "text": [
      "30% off\n",
      "You need to pay 1190.0 rupees\n"
     ]
    }
   ],
   "source": [
    "amount = int(input(\"Enter the amount of purchesed item : \"))\n",
    "if amount > 1000:\n",
    "    print(\"30% off\")\n",
    "    print(f\"You need to pay {amount*0.7} rupees\")\n",
    "else:\n",
    "    print(\"20% off\")\n",
    "    print(f\"You need to pay {amount*0.8} rupees\")"
   ]
  },
  {
   "cell_type": "code",
   "execution_count": 35,
   "id": "464bad63-45c5-4089-85d7-1b05291d3a53",
   "metadata": {},
   "outputs": [
    {
     "name": "stdout",
     "output_type": "stream",
     "text": [
      "22\n",
      "23\n",
      "24\n",
      "25\n",
      "26\n",
      "27\n",
      "28\n",
      "29\n",
      "30\n",
      "31\n",
      "32\n",
      "33\n",
      "34\n",
      "35\n",
      "36\n",
      "37\n",
      "38\n",
      "39\n",
      "40\n",
      "sorry its time to retire\n"
     ]
    }
   ],
   "source": [
    "joining_age = 22\n",
    "while joining_age <= 40:\n",
    "    print(joining_age)\n",
    "    joining_age += 1\n",
    "else:\n",
    "        print(\"sorry its time to retire\")"
   ]
  },
  {
   "cell_type": "code",
   "execution_count": 40,
   "id": "bdf559ab-5df4-4662-8b57-15330f7518a9",
   "metadata": {},
   "outputs": [
    {
     "name": "stdout",
     "output_type": "stream",
     "text": [
      "You have 1000 rupees\n",
      "You withdrawed 200 rupees\n",
      "You have 800 rupees\n",
      "You withdrawed 200 rupees\n",
      "You have 600 rupees\n",
      "You withdrawed 200 rupees\n",
      "You have 400 rupees\n",
      "You withdrawed 200 rupees\n",
      "You have 200 rupees\n",
      "You withdrawed 200 rupees\n",
      "please deposite money\n"
     ]
    }
   ],
   "source": [
    "money = 1000\n",
    "while money != 0:\n",
    "    print(f\"You have {money} rupees\")\n",
    "    money -= 200\n",
    "    print(\"You withdrawed 200 rupees\")\n",
    "else: \n",
    "    print(\"please deposite money\")"
   ]
  },
  {
   "cell_type": "markdown",
   "id": "09fb29f2-ef93-431a-a82f-f3676b5291f1",
   "metadata": {},
   "source": [
    "# for loop"
   ]
  },
  {
   "cell_type": "code",
   "execution_count": 15,
   "id": "a8d5c1fa-1a3e-4e4a-b801-538cded60730",
   "metadata": {},
   "outputs": [
    {
     "name": "stdout",
     "output_type": "stream",
     "text": [
      "neel\n",
      "5\n",
      "49\n",
      "lol\n",
      "42\n",
      "(3+5j)\n",
      "{45: 'am'}\n"
     ]
    }
   ],
   "source": [
    "a = [\"neel\",5,49,\"lol\",42,5j+3,{45:\"am\"}]\n",
    "for i in a:\n",
    "    print(i)"
   ]
  },
  {
   "cell_type": "code",
   "execution_count": 16,
   "id": "8340c019-b267-4fb3-bab8-59949f312652",
   "metadata": {},
   "outputs": [
    {
     "data": {
      "text/plain": [
       "'am'"
      ]
     },
     "execution_count": 16,
     "metadata": {},
     "output_type": "execute_result"
    }
   ],
   "source": [
    "a[6][45]"
   ]
  },
  {
   "cell_type": "code",
   "execution_count": 45,
   "id": "684d8219-d59e-466e-b6ae-b48678e102b8",
   "metadata": {},
   "outputs": [
    {
     "name": "stdout",
     "output_type": "stream",
     "text": [
      "neel\n"
     ]
    }
   ],
   "source": [
    "b = [\"neel\"]\n",
    "for i in b:\n",
    "    print(i)"
   ]
  },
  {
   "cell_type": "code",
   "execution_count": 47,
   "id": "79658bef-956b-4039-8bd7-4b4f6cd7d1f8",
   "metadata": {},
   "outputs": [
    {
     "name": "stdout",
     "output_type": "stream",
     "text": [
      "('neel', 2)\n",
      "('neel', 2)\n"
     ]
    }
   ],
   "source": [
    "c = (\"neel\",2)\n",
    "for i in c:\n",
    "    print(c)"
   ]
  },
  {
   "cell_type": "code",
   "execution_count": 48,
   "id": "0ddda9fe-35cc-4672-8c5c-be51b0a7fa33",
   "metadata": {},
   "outputs": [
    {
     "name": "stdout",
     "output_type": "stream",
     "text": [
      "n\n",
      "e\n",
      "e\n",
      "l\n"
     ]
    }
   ],
   "source": [
    "d = \"neel\"\n",
    "for i in d:\n",
    "    print(i)"
   ]
  },
  {
   "cell_type": "code",
   "execution_count": 49,
   "id": "0f58c0a3-4d37-44ff-883f-03178c2c0e0d",
   "metadata": {},
   "outputs": [
    {
     "name": "stdout",
     "output_type": "stream",
     "text": [
      "neel"
     ]
    }
   ],
   "source": [
    "d = \"neel\"\n",
    "for i in d:\n",
    "    print(i,end=\"\")"
   ]
  },
  {
   "cell_type": "code",
   "execution_count": 7,
   "id": "d124ebf8-50af-4079-909a-f93207e996ff",
   "metadata": {},
   "outputs": [
    {
     "name": "stdout",
     "output_type": "stream",
     "text": [
      "neel\n",
      "lol\n",
      "am\n",
      "i found a candidate\n"
     ]
    }
   ],
   "source": [
    "a = [\"neel\",\"lol\",\"am\",\"yo\",\"btsb\"]\n",
    "for i in a:\n",
    "    print(i)\n",
    "    if i == \"am\":\n",
    "        print(\"i found a candidate\")\n",
    "        break"
   ]
  },
  {
   "cell_type": "code",
   "execution_count": 45,
   "id": "b0567e96-b718-4e37-9bfe-17143c3d486c",
   "metadata": {},
   "outputs": [
    {
     "name": "stdout",
     "output_type": "stream",
     "text": [
      "neel\n",
      "lol\n",
      "i found a candidate\n",
      "am\n",
      "yo\n",
      "btsb\n"
     ]
    }
   ],
   "source": [
    "a = [\"neel\",\"lol\",\"am\",\"yo\",\"btsb\"]\n",
    "for i in a:\n",
    "    if i == \"am\":\n",
    "        print(\"i found a candidate\")\n",
    "        pass\n",
    "    print(i)"
   ]
  },
  {
   "cell_type": "code",
   "execution_count": 48,
   "id": "9c242ced-4478-4236-ba53-a8d9f3294bef",
   "metadata": {},
   "outputs": [
    {
     "name": "stdout",
     "output_type": "stream",
     "text": [
      "neel\n",
      "lol\n",
      "i found a candidate\n",
      "yo\n",
      "btsb\n"
     ]
    }
   ],
   "source": [
    "a = [\"neel\",\"lol\",\"am\",\"yo\",\"btsb\"]\n",
    "for i in a:\n",
    "    if i == \"am\":\n",
    "        print(\"i found a candidate\")\n",
    "        continue\n",
    "    print(i)"
   ]
  },
  {
   "cell_type": "code",
   "execution_count": null,
   "id": "9fbc4982-cb85-42b2-b288-bcdb280e4ae5",
   "metadata": {},
   "outputs": [],
   "source": []
  },
  {
   "cell_type": "code",
   "execution_count": 25,
   "id": "3b9ea815-059d-4444-969a-eb256541b172",
   "metadata": {},
   "outputs": [
    {
     "data": {
      "text/plain": [
       "[1, 3, 5, 7, 9]"
      ]
     },
     "execution_count": 25,
     "metadata": {},
     "output_type": "execute_result"
    }
   ],
   "source": [
    "list(range(1,10,2))"
   ]
  },
  {
   "cell_type": "code",
   "execution_count": 24,
   "id": "024d89d4-8fc2-4b9a-a27e-f1e7cdc5e940",
   "metadata": {},
   "outputs": [
    {
     "name": "stdout",
     "output_type": "stream",
     "text": [
      "1\n",
      "4\n",
      "7\n"
     ]
    }
   ],
   "source": [
    "for i in range(1,10,3):\n",
    "    print (i)"
   ]
  },
  {
   "cell_type": "code",
   "execution_count": 40,
   "id": "1e95b293-02d4-4157-97af-419fdabb34f6",
   "metadata": {},
   "outputs": [
    {
     "name": "stdout",
     "output_type": "stream",
     "text": [
      "* \n",
      "* * \n",
      "* * * \n",
      "* * * * \n",
      "* * * * * \n",
      "* * * * * * \n",
      "* * * * * * * \n",
      "* * * * * * * * \n",
      "* * * * * * * * * \n"
     ]
    }
   ],
   "source": [
    "# nested loop\n",
    "a = 9\n",
    "for i in range(0,a):\n",
    "    for j in range(0,i+1):\n",
    "        print(\"*\",end=\" \")\n",
    "    print(\"\")"
   ]
  },
  {
   "cell_type": "code",
   "execution_count": null,
   "id": "ab3c9be6-de8d-4886-9622-4d9bb63d5dd1",
   "metadata": {},
   "outputs": [],
   "source": []
  }
 ],
 "metadata": {
  "kernelspec": {
   "display_name": "Python 3 (ipykernel)",
   "language": "python",
   "name": "python3"
  },
  "language_info": {
   "codemirror_mode": {
    "name": "ipython",
    "version": 3
   },
   "file_extension": ".py",
   "mimetype": "text/x-python",
   "name": "python",
   "nbconvert_exporter": "python",
   "pygments_lexer": "ipython3",
   "version": "3.12.1"
  }
 },
 "nbformat": 4,
 "nbformat_minor": 5
}
