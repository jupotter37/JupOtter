{
 "cells": [
  {
   "cell_type": "markdown",
   "id": "0fd4ebfe",
   "metadata": {},
   "source": [
    "# Basic Python"
   ]
  },
  {
   "cell_type": "markdown",
   "id": "651f11a2",
   "metadata": {},
   "source": [
    "## สารบัญ\n",
    "- [1) Print Operation](#cell-id)\n",
    "- [2) Variables](#var)\n",
    "- [3) Data Types](#dtype)\n",
    "  + [3.1) Text(String)](#text_type)\n",
    "  + [3.2) Numberic](#num)\n",
    "  + [3.3) Boolean](#bool)\n",
    "- [4) Sequence](#seq)\n",
    "  + [4.1) List](#list)\n",
    "  + [4.2) Tuple](#tuple)\n",
    "  + [4.3) Set](#set)\n",
    "- [5) Dictionary](#dic)\n",
    "- [6) If...Else](#if)\n",
    "- [7) Looping](#looping)\n",
    "- [8) Try & Except](#te)\n",
    "- [9) Function](#func)\n",
    "- [10) Class](#class)\n",
    "- [11) Input/Output](#io)\n",
    "- [12) Modules & Packages](#mdpc)\n"
   ]
  },
  {
   "cell_type": "markdown",
   "id": "aa57f9b2",
   "metadata": {},
   "source": [
    "## 1. การแสดงผลออกหน้อจอ ( Print operation) <a id=\"cell-id\"></a>\n",
    "เป็นการปริ้นหรือนำข้อมูลออกมาดูแสดงผ่านตัวอักษร"
   ]
  },
  {
   "cell_type": "code",
   "execution_count": 63,
   "id": "2829ebc0",
   "metadata": {},
   "outputs": [
    {
     "name": "stdout",
     "output_type": "stream",
     "text": [
      "Hello World\n"
     ]
    }
   ],
   "source": [
    "print(\"Hello World\")"
   ]
  },
  {
   "cell_type": "markdown",
   "id": "e684855a",
   "metadata": {},
   "source": [
    "### ModCom2024\n",
    "คราวนี้เรามาลองพิมพ์ `\"ModCom2024\"` ออกที่หน้าจอกันบ้าง ลองเติมข้อความดังกล่าวลงในเครื่องหมายคำพูดเดี่ยวดู"
   ]
  },
  {
   "cell_type": "code",
   "execution_count": 64,
   "id": "2653fce5",
   "metadata": {},
   "outputs": [
    {
     "name": "stdout",
     "output_type": "stream",
     "text": [
      "ModCom2024\n"
     ]
    }
   ],
   "source": [
    "print(\"ModCom2024\")"
   ]
  },
  {
   "cell_type": "markdown",
   "id": "12331d3e",
   "metadata": {},
   "source": [
    "## 2. หมายเหตุ (Comment) <a id='comment_opeartion'></a>\n",
    "การ Comment เป็นการที่เราระบุให้ตัวโปรแกรมของเราเข้าใจว่าไม่ต้องนำ เนื้อหานั้นไม่ต้องนำไป execute หรือประมวลผล โดยหลักๆแล้วจะใช้เพื่อ 2 เหตุผลดังนี้:\n",
    "+ 1) เพื่อใส่ข้อความสำหรับอธิบายโค้ดส่วนนั้นๆ\n",
    "+ 2) เพื่อเป็นการปิดโค้ดที่ไม่ได้ใช้"
   ]
  },
  {
   "cell_type": "markdown",
   "id": "c99d18bc",
   "metadata": {},
   "source": [
    "กด Ctrl + / เพื่อปิดคอมเมนต์ได้"
   ]
  },
  {
   "cell_type": "code",
   "execution_count": 65,
   "id": "2db44a9a",
   "metadata": {},
   "outputs": [
    {
     "name": "stdout",
     "output_type": "stream",
     "text": [
      "World\n"
     ]
    }
   ],
   "source": [
    "# print(\"Hello\")\n",
    "print(\"World\")"
   ]
  },
  {
   "cell_type": "markdown",
   "id": "d8df8bbc",
   "metadata": {},
   "source": [
    "## 3. ตัวแปร (Variable) <a id='var'></a>\n",
    "การกำหนดค่าของแต่ละตัวแปร\n",
    "> เราสามารถแทนค่าอะไรก็ได้เข้าไปในตัวแปรที่เรากำหนด เช่น อาจจะเป็นข้อมูลจำนวนเต็ม ทศนิยม หรือข้อมูลตัวหนังสือก็ได้เช่นกัน"
   ]
  },
  {
   "cell_type": "markdown",
   "id": "22162678",
   "metadata": {},
   "source": [
    "ลองทำการกำหนดตัวแปรออกมาสามตัว"
   ]
  },
  {
   "cell_type": "code",
   "execution_count": 66,
   "id": "d6db6500",
   "metadata": {},
   "outputs": [],
   "source": [
    "a = 'Hello World' #กำหนดให้ a มีค่าเท่ากับ Hello World\n",
    "b = 1 #กำหนดให้ b มีค่าเท่ากับ 1\n",
    "c = 1.0 #กำหนดให้ c มีค่าเท่ากับ 1.0"
   ]
  },
  {
   "cell_type": "markdown",
   "id": "a5a4822b",
   "metadata": {},
   "source": [
    "เราสามารถแสดงผลข้อมูลที่อยู่ในแต่ละตัวแปรออกมาดูได้ผ่าน Print Operation"
   ]
  },
  {
   "cell_type": "code",
   "execution_count": 67,
   "id": "1828fa7a",
   "metadata": {},
   "outputs": [
    {
     "name": "stdout",
     "output_type": "stream",
     "text": [
      "Hello World\n"
     ]
    }
   ],
   "source": [
    "print(a)"
   ]
  },
  {
   "cell_type": "code",
   "execution_count": 68,
   "id": "6402e766",
   "metadata": {},
   "outputs": [
    {
     "name": "stdout",
     "output_type": "stream",
     "text": [
      "1\n"
     ]
    }
   ],
   "source": [
    "print(b)"
   ]
  },
  {
   "cell_type": "code",
   "execution_count": 69,
   "id": "ad2d526e",
   "metadata": {},
   "outputs": [
    {
     "name": "stdout",
     "output_type": "stream",
     "text": [
      "1.0\n"
     ]
    }
   ],
   "source": [
    "print(c)"
   ]
  },
  {
   "cell_type": "markdown",
   "id": "ffbf1e88",
   "metadata": {},
   "source": [
    "เรายังสามารถแทนค่าตัวแปรทับซ้อนกันไปเรื่อยๆได้ แต่ข้อมูลตัวแปรจะยึดตามครั้งสุดท้ายที่ถูกกำหนดค่า"
   ]
  },
  {
   "cell_type": "code",
   "execution_count": 70,
   "id": "31329589",
   "metadata": {},
   "outputs": [
    {
     "name": "stdout",
     "output_type": "stream",
     "text": [
      "1\n"
     ]
    }
   ],
   "source": [
    "#รอบที่ 1 กำหนดตัวแปร number มีค่าเท่ากับ 1\n",
    "number = 1\n",
    "print(number)"
   ]
  },
  {
   "cell_type": "code",
   "execution_count": 71,
   "id": "7858629e",
   "metadata": {},
   "outputs": [
    {
     "name": "stdout",
     "output_type": "stream",
     "text": [
      "2\n"
     ]
    }
   ],
   "source": [
    "#รอบที่ 2 กำหนดตัวแปร number มีค่าเท่ากับ 2\n",
    "number = 2\n",
    "print(number)"
   ]
  },
  {
   "cell_type": "markdown",
   "id": "1a615c02",
   "metadata": {},
   "source": [
    "## การรับค่าจากแป้นพิมพ์ \n",
    "เราจะใช้คำสั่ง input เพื่อรับค่าจากแป้นพิมพ์\n"
   ]
  },
  {
   "cell_type": "code",
   "execution_count": 73,
   "id": "55eab2cc",
   "metadata": {},
   "outputs": [
    {
     "name": "stdin",
     "output_type": "stream",
     "text": [
      "Enter anyting:  aaa\n"
     ]
    },
    {
     "name": "stdout",
     "output_type": "stream",
     "text": [
      "aaa\n"
     ]
    }
   ],
   "source": [
    "a = input('Enter anyting: ')\n",
    "print(a)"
   ]
  },
  {
   "cell_type": "markdown",
   "id": "7ac2f251",
   "metadata": {},
   "source": [
    "## 4. ชนิดของข้อมูล (Type of Data) <a id='dtype'></a>\n",
    "ประเภทของข้อมูลที่สามารถพบเจอได้บ่อยในการใช้ ภาษา Python"
   ]
  },
  {
   "cell_type": "code",
   "execution_count": 16,
   "id": "38360dec",
   "metadata": {},
   "outputs": [
    {
     "data": {
      "text/plain": [
       "str"
      ]
     },
     "execution_count": 16,
     "metadata": {},
     "output_type": "execute_result"
    }
   ],
   "source": [
    "#ในการจะรู้ประเภทของข้อมูลภายในตัวแปรนั้นๆเราสามารถใช้คำสั่ง type ได้\n",
    "type('Hello World')"
   ]
  },
  {
   "cell_type": "markdown",
   "id": "1d956631",
   "metadata": {},
   "source": [
    "### String (Text) <a id='text_type'></a>\n",
    "> ค่า string สามารถกำหนดได้โดยใช้เครื่องหมาย '' หรือ \"\"  ก็ได้"
   ]
  },
  {
   "cell_type": "code",
   "execution_count": 3,
   "id": "def2f29d",
   "metadata": {},
   "outputs": [
    {
     "data": {
      "text/plain": [
       "str"
      ]
     },
     "execution_count": 3,
     "metadata": {},
     "output_type": "execute_result"
    }
   ],
   "source": [
    "text = 'Hello World'\n",
    "type(text)"
   ]
  },
  {
   "cell_type": "markdown",
   "id": "49b36b58",
   "metadata": {},
   "source": [
    "เราสามารถดึงข้อมูลแต่ละส่วนของ String ออกมาได้โดยการใช้ Index \n",
    ">Index จะเป็นตัวระบุตำแหน่งของข้อมูลนั้น โดยแสดงผ่านตัวเลขเริ่มตั้งแต่ 0 เป็นต้นไป"
   ]
  },
  {
   "cell_type": "markdown",
   "id": "c7852351",
   "metadata": {},
   "source": [
    "ตัวอย่าง: เรามี String ของ \"Hello World\" เราจะสามารถระบุข้อมูลผ่าน Index ได้ดังนี้\n",
    "+ [0] H\n",
    "+ [1] e\n",
    "+ [2] l\n",
    "+ [3] l\n",
    "+ [4] o\n",
    "+ [5]  \n",
    "+ [6] W\n",
    "+ [7] o\n",
    "+ [8] r\n",
    "+ [9] l\n",
    "+ [10] d"
   ]
  },
  {
   "cell_type": "code",
   "execution_count": 27,
   "id": "56c66b92",
   "metadata": {},
   "outputs": [
    {
     "name": "stdout",
     "output_type": "stream",
     "text": [
      "H\n"
     ]
    }
   ],
   "source": [
    "print(text[0])"
   ]
  },
  {
   "cell_type": "code",
   "execution_count": 28,
   "id": "30750895",
   "metadata": {},
   "outputs": [
    {
     "name": "stdout",
     "output_type": "stream",
     "text": [
      "e\n"
     ]
    }
   ],
   "source": [
    "print(text[1])"
   ]
  },
  {
   "cell_type": "code",
   "execution_count": 29,
   "id": "b5d3926a",
   "metadata": {},
   "outputs": [
    {
     "name": "stdout",
     "output_type": "stream",
     "text": [
      "d\n"
     ]
    }
   ],
   "source": [
    "print(text[10])"
   ]
  },
  {
   "cell_type": "markdown",
   "id": "0364dac1",
   "metadata": {},
   "source": [
    "เราสามารถไล่ index จากหลังมาหน้าโดยการใส่ค่า index เท่ากับ -1 เป็นตัวตั้งต้น"
   ]
  },
  {
   "cell_type": "code",
   "execution_count": 5,
   "id": "f62483bd",
   "metadata": {},
   "outputs": [
    {
     "name": "stdout",
     "output_type": "stream",
     "text": [
      "d\n"
     ]
    }
   ],
   "source": [
    "print(text[-1])"
   ]
  },
  {
   "cell_type": "code",
   "execution_count": 6,
   "id": "0b9759b6",
   "metadata": {},
   "outputs": [],
   "source": [
    "text = 'Hello World'"
   ]
  },
  {
   "cell_type": "markdown",
   "id": "635c8ce1",
   "metadata": {},
   "source": [
    "เรายังสามารถกำหนดช่วงของข้อมูลที่ต้องการได้อีกด้วยในภาษา Python\n",
    "\n",
    "ตัวอย่าง: เราต้องการคำว่า \"Hello\" จากตัวแปร text เราสามารถกำหนดค่าของ index ที่เราต้องการได้แบบนี้ [x:y]\n",
    "> โดยค่า x เป็น index ตั้งต้นของสิ่งที่เราต้องการ และ y เป็นตำแหน่ง index สุดท้ายที่เราต้องการ <b>(แต่ค่า y จำเป็นต้อง +1 เพราะมันจะไม่เอาตำแหน่งสุดท้ายที่ใส่เข้าไปออกมาให้</b>"
   ]
  },
  {
   "cell_type": "code",
   "execution_count": 31,
   "id": "d9586cfe",
   "metadata": {},
   "outputs": [
    {
     "name": "stdout",
     "output_type": "stream",
     "text": [
      "Hello\n"
     ]
    }
   ],
   "source": [
    "print(text[0:5])"
   ]
  },
  {
   "cell_type": "markdown",
   "id": "46c746cc",
   "metadata": {},
   "source": [
    "### 📝แบบฝึกหัด\n",
    "\n",
    "ต้องการคำว่า \"World\" จากตัวแปร text"
   ]
  },
  {
   "cell_type": "code",
   "execution_count": null,
   "id": "dd6adbb6",
   "metadata": {},
   "outputs": [],
   "source": [
    "print(text[])"
   ]
  },
  {
   "cell_type": "markdown",
   "id": "ef069008",
   "metadata": {},
   "source": [
    "ถ้าเราต้องการจะต่อ string สองค่าเข้าด้วยกันเราสามารถใช้เครื่องหมาย บวก \"+\" ระหว่างสองค่าได้เลย\n",
    "\n",
    "<b>NOTE: การที่เราจะต่อ string ข้อมูลทั้งสองค่าจำเป็นต้องเป็นค่า string เท่านั้น</b>"
   ]
  },
  {
   "cell_type": "code",
   "execution_count": 19,
   "id": "1975a73e",
   "metadata": {},
   "outputs": [
    {
     "name": "stdout",
     "output_type": "stream",
     "text": [
      "I am24years old\n",
      "I am 24 years old\n"
     ]
    }
   ],
   "source": [
    "text_1st = 'I am'\n",
    "age = '24'\n",
    "text_2nd = 'years old'\n",
    "print(text_1st + age + text_2nd) #เนื่องจากการที่เราเอาสอง string มารวมกัน มันจะรวมกันโต้งๆโดยไม่มี space เพราะเราไม่ได้กำหนดไว้\n",
    "print(text_1st + \" \" + age + \" \" + text_2nd) #ดังนั้นเราสามารถเติม space เข้าไปได้ตามบรรทัดนี้"
   ]
  },
  {
   "cell_type": "markdown",
   "id": "2e8527c7",
   "metadata": {},
   "source": [
    "ในกรณีที่เราต้องการแก้ไขตัวแปรข้างใน string ตามตัวแปรอื่นเราสามารถใช้ Format Function เข้ามาช่วยได้เพื่อลดความซับซ้อนของตัวโค้ดของเรา"
   ]
  },
  {
   "cell_type": "code",
   "execution_count": 20,
   "id": "77af1cff",
   "metadata": {},
   "outputs": [
    {
     "name": "stdout",
     "output_type": "stream",
     "text": [
      "Me: I am 24 years old\n",
      "Brother: I am 19 years old\n"
     ]
    }
   ],
   "source": [
    "#แทนที่จะต้องเขียน text_1st + \" \" + age + \" \" + text_2nd แล้วเปลี่ยนค่า age ตามตัวแปรอื่นไปเรื่อยๆ\n",
    "#เราสามารถใช้ Format Function ได้ตามนี้\n",
    "my_brother_age = 19\n",
    "expected_text = \"I am {} years old\"\n",
    "print(\"Me:\", expected_text.format(age))\n",
    "print(\"Brother:\", expected_text.format(my_brother_age))"
   ]
  },
  {
   "cell_type": "markdown",
   "id": "427e42bf",
   "metadata": {},
   "source": [
    "### Numberical Type <a id='num'></a>\n",
    "โดยหลักๆข้อมูลประเภทนี้จะถูกแบ่งออกเป็นสองพวกดังนี้\n",
    "+ 1) Integer (int) เป็นเลขจำนวนเต็ม\n",
    "+ 2) Float (float) เป็นเลขทศนิยม\n",
    "\n",
    "NOTE: โดยถ้าต้องการใช้ข้อมูลติดค่าลบ  สามารภใส่เครื่องหมายลบ \"-\" ไว้ด้านหน้าเลข หรือตัวแปลเลขนั้นๆได้เลย"
   ]
  },
  {
   "cell_type": "code",
   "execution_count": 2,
   "id": "5ba28d6d",
   "metadata": {},
   "outputs": [],
   "source": [
    "integer_type = 1\n",
    "float_type = 1.0"
   ]
  },
  {
   "cell_type": "code",
   "execution_count": 4,
   "id": "6a366aee",
   "metadata": {},
   "outputs": [
    {
     "name": "stdout",
     "output_type": "stream",
     "text": [
      "<class 'int'>\n"
     ]
    }
   ],
   "source": [
    "print(type(integer_type))"
   ]
  },
  {
   "cell_type": "code",
   "execution_count": 5,
   "id": "ee3ea24c",
   "metadata": {},
   "outputs": [
    {
     "name": "stdout",
     "output_type": "stream",
     "text": [
      "<class 'float'>\n"
     ]
    }
   ],
   "source": [
    "print(type(float_type))"
   ]
  },
  {
   "cell_type": "markdown",
   "id": "348913c0",
   "metadata": {},
   "source": [
    "<center>\n",
    "\n",
    "## ➗✖️ คณิตศาสตร์ ➖➕\n",
    "\n",
    "</center>"
   ]
  },
  {
   "cell_type": "markdown",
   "id": "27d5314e",
   "metadata": {},
   "source": [
    "ในการเขียนโปรแกรมภาษาต่างๆนอกเหนือจาก Python ก็เช่นกัน เครื่องหมายต่างๆมีระดับความสำคัญการทำก่อนหลังอย่างชัดเจนโดยมีลำดับหลักๆดังนี้\n",
    "+ 1) การหาร \"/\"\n",
    "+ 2) การคูณ \"*\"\n",
    "+ 3) การบวก \"+\"\n",
    "+ 4) การลบ  \"-\""
   ]
  },
  {
   "cell_type": "markdown",
   "id": "6a794308",
   "metadata": {},
   "source": [
    "- เช่น ถ้าเราสั่งให้คอมพิวเตอร์คำนวณค่าของนิพจน์ทางคณิตศาสตร์ $ 5 \\times 2 + 10 $ คอมพิวเตอร์ก็จะคำนวณผลลัพธ์ให้ทันที"
   ]
  },
  {
   "cell_type": "code",
   "execution_count": 7,
   "id": "831de618",
   "metadata": {},
   "outputs": [
    {
     "name": "stdout",
     "output_type": "stream",
     "text": [
      "25\n"
     ]
    }
   ],
   "source": [
    "print(5*3+10)"
   ]
  },
  {
   "cell_type": "markdown",
   "id": "a82c9a44",
   "metadata": {},
   "source": [
    "- เช่น ถ้าเราสั่งให้คอมพิวเตอร์คำนวณค่าของนิพจน์ทางคณิตศาสตร์ $ 10 + 5 ÷ 5  $ คอมพิวเตอร์ก็จะคำนวณผลลัพธ์ให้ทันที"
   ]
  },
  {
   "cell_type": "code",
   "execution_count": 8,
   "id": "19295953",
   "metadata": {},
   "outputs": [
    {
     "name": "stdout",
     "output_type": "stream",
     "text": [
      "11.0\n"
     ]
    }
   ],
   "source": [
    "print(10+5/5)"
   ]
  },
  {
   "cell_type": "markdown",
   "id": "4e57a9b5",
   "metadata": {},
   "source": [
    "\n",
    "\n",
    "### การใช้วงเล็บ (...)\n",
    "    \n",
    "\n",
    "\n",
    "- ทั้งนี้ เราสามารถใช้เครื่องหมายวงเล็บ `( )` ได้เหมือนกับนิพจน์ทางคณิตศาสตร์ปกติเลย\n",
    "- เช่น เราสามารถคำนวณค่าของนิพจน์ $ 4 \\times 3 + (1 + 2) / 4 $ ได้ด้วยคำสั่งนี้"
   ]
  },
  {
   "cell_type": "code",
   "execution_count": 10,
   "id": "831b9ded",
   "metadata": {},
   "outputs": [
    {
     "name": "stdout",
     "output_type": "stream",
     "text": [
      "12.75\n"
     ]
    }
   ],
   "source": [
    "print(4*3+(1+2)/4)"
   ]
  },
  {
   "cell_type": "markdown",
   "id": "5f304445",
   "metadata": {},
   "source": [
    "\n",
    "\n",
    "### แบบฝึกหัด\n",
    "\n",
    "\n",
    "\n",
    "### จงหาค่าของ $ 3 \\times (4 + 1 - 2 \\times 5) $\n",
    "\n"
   ]
  },
  {
   "cell_type": "code",
   "execution_count": 2,
   "id": "1efc2653",
   "metadata": {},
   "outputs": [
    {
     "name": "stdout",
     "output_type": "stream",
     "text": [
      "-15\n"
     ]
    }
   ],
   "source": [
    "print(3*(4+1-2*5))"
   ]
  },
  {
   "cell_type": "markdown",
   "id": "087edd52",
   "metadata": {},
   "source": [
    "\n",
    "\n",
    "### เครื่องหมายยกกำลัง\n",
    "\n",
    "\n",
    "\n",
    "- เครื่องหมายยกกำลังในภาษา Python จะใช้เครื่องหมาย `**` (ดอกจันเขียนติดกัน 2 ดวง) ครับ\n",
    "- เช่น ถ้าเราจะคำนวณค่าของนิพจน์ $ 2^5 $ เราจะใช้คำสั่งว่า"
   ]
  },
  {
   "cell_type": "code",
   "execution_count": 12,
   "id": "87f9c3f6",
   "metadata": {},
   "outputs": [
    {
     "name": "stdout",
     "output_type": "stream",
     "text": [
      "32\n"
     ]
    }
   ],
   "source": [
    "print(2**5)"
   ]
  },
  {
   "cell_type": "markdown",
   "id": "8d2a1159",
   "metadata": {},
   "source": [
    "\n",
    "\n",
    "นอกจากนี้เรายังสามารถคำนวณค่าราก (root) ได้โดยการใช้สูตร\n",
    "\n",
    "\n",
    "\n",
    "\n",
    "$$ \\sqrt[r]{a} = a^{1/r} $$\n",
    "\n",
    "- เช่น เราสามารถคำนวณค่า $ \\sqrt[3]{8} $ (รากที่ 3 ของ 8) ได้โดยคำสั่ง `8**(1/3)"
   ]
  },
  {
   "cell_type": "code",
   "execution_count": 17,
   "id": "dedff3c8",
   "metadata": {},
   "outputs": [
    {
     "name": "stdout",
     "output_type": "stream",
     "text": [
      "2.0\n"
     ]
    }
   ],
   "source": [
    "print(8**(1/3))"
   ]
  },
  {
   "cell_type": "markdown",
   "id": "c1c4a022",
   "metadata": {},
   "source": [
    "### แบบฝึกหัด"
   ]
  },
  {
   "cell_type": "markdown",
   "id": "645e4b61",
   "metadata": {},
   "source": [
    "### ข้อที่ 1\n",
    "\n",
    "\n",
    "### $ 3^{5 + 3/4} $\n",
    "    \n"
   ]
  },
  {
   "cell_type": "code",
   "execution_count": 4,
   "id": "719e18f6",
   "metadata": {},
   "outputs": [
    {
     "name": "stdout",
     "output_type": "stream",
     "text": [
      "553.920214840011\n"
     ]
    }
   ],
   "source": [
    "print(3**(5+3/4))"
   ]
  },
  {
   "cell_type": "markdown",
   "id": "79f75ff6",
   "metadata": {},
   "source": [
    "### ข้อที่ 2\n",
    "\n",
    "    \n",
    "### $ \\sqrt[2]{\\left( 7 + 3 \\times 4 \\right)} $\n",
    "    \n"
   ]
  },
  {
   "cell_type": "code",
   "execution_count": 5,
   "id": "68b05ccb",
   "metadata": {},
   "outputs": [
    {
     "name": "stdout",
     "output_type": "stream",
     "text": [
      "9.5\n"
     ]
    }
   ],
   "source": [
    "print((7+3*4)**1/2)"
   ]
  },
  {
   "cell_type": "markdown",
   "id": "db6ae7ad",
   "metadata": {},
   "source": [
    "### Boolean<a id='bool'></a>\n",
    "เป็นประเภทข้อมูลที่จะบรรจุว่าเป็น จริง(True) หรือเท็จ(False) \n",
    "\n",
    "ค่า Boolean โดยส่วนมากมาจากผลของการตั้งเงื่อนเปรียบเทียบ ซึ่งเราสามารถใช้เครื่องหมายดังต่อไปนี้ในการเปรียบเทียบเป็นหลัก\n",
    "+ \" < \" น้อยกว่า\n",
    "+ \" <= \" น้อยกว่าเท่ากับ\n",
    "+ \" == \" เท่ากับ\n",
    "+ \" \\> \" มากกว่า\n",
    "+ \" \\>= \" มากกว่าเท่ากับ\n",
    "+ \" != \" ไม่เท่ากับ"
   ]
  },
  {
   "cell_type": "code",
   "execution_count": 23,
   "id": "b24aa636",
   "metadata": {},
   "outputs": [
    {
     "name": "stdout",
     "output_type": "stream",
     "text": [
      "1 == 1: True\n",
      "1 < 2 : True\n",
      "1 >= 1: True\n",
      "1 > 2 : False\n",
      "1 != 2 True\n"
     ]
    }
   ],
   "source": [
    "#ตัวอย่างในกรณีเปรียบเทียบข้อมูลที่เป็นตัวเลข\n",
    "print('1 == 1:',1==1)\n",
    "print('1 < 2 :',1<=2)\n",
    "print('1 >= 1:',1>=1)\n",
    "print('1 > 2 :',1>2)\n",
    "print('1 != 2',1!=2)"
   ]
  },
  {
   "cell_type": "code",
   "execution_count": 5,
   "id": "73b625bf",
   "metadata": {},
   "outputs": [
    {
     "name": "stdout",
     "output_type": "stream",
     "text": [
      "text_1 == text_2 --> True\n",
      "text_1 == text_3 --> False\n"
     ]
    }
   ],
   "source": [
    "#ตัวอย่างในกรณีเปรียบเทียบข้อมูลที่เป็นตัวอักษร\n",
    "text_1 = 'ModCom2024'\n",
    "text_2 = 'ModCom2024'\n",
    "text_3 = 'Hello World'\n",
    "print('text_1 == text_2 -->',text_1 == text_2)\n",
    "print('text_1 == text_3 -->',text_1 == text_3)"
   ]
  },
  {
   "cell_type": "markdown",
   "id": "4f19a5db",
   "metadata": {},
   "source": [
    "เมื่อโยงเข้ากับเรื่องของสัจนิรันดร์ จะต้องมีเรื่องของ และ(AND) กับ หรือ(OR) เข้ามาเกี่ยวข้อง\n",
    "\n",
    "<b>NOTE: โดยใน Python ถ้าต้องการจะเรียก AND และ OR มาใช้ต้องพิมพ์ว่า and และ or ตามลำดับ"
   ]
  },
  {
   "cell_type": "markdown",
   "id": "25e536cb",
   "metadata": {},
   "source": [
    "ตัวอย่างการใช้ AND และ OR operations"
   ]
  },
  {
   "cell_type": "code",
   "execution_count": 7,
   "id": "4ee5ce0b",
   "metadata": {},
   "outputs": [
    {
     "name": "stdout",
     "output_type": "stream",
     "text": [
      "We go get cups of coffee: True\n"
     ]
    }
   ],
   "source": [
    "#คนสองคนคุยกันว่าจะไปร้านกาแฟไหม โดยตัดสินจากการที่ใครดิ่มกาแฟบ้าง\n",
    "person1_drink_coffee = True\n",
    "person2_drink_coffee = True\n",
    "\n",
    "#ถ้าทั้งคู่ทานกาแฟพวกเขาจะไปร้านกาแฟ\n",
    "print(\"We go get cups of coffee:\", person1_drink_coffee and person2_drink_coffee)"
   ]
  },
  {
   "cell_type": "markdown",
   "id": "f213e662",
   "metadata": {},
   "source": [
    "### 4.Sequence<a id='seq'></a>\n",
    "ข้อมูลประเภทนี้จะเป็นข้อมูลที่เป็นตัวเก็บข้อมูลหลายตัวเข้าไว้ด้วยกันเหมือนกล่องใส่ของ ซึ่งโดยหลักจะมีกล่องอยู่ทั้งหมด 3 ประเภท ได้แก่ list, tuple และ set"
   ]
  },
  {
   "cell_type": "markdown",
   "id": "9eecde96",
   "metadata": {},
   "source": [
    "#### 4.1 List<a id='list'></a>\n",
    "TIPS: ใน Python เราจะเรียกข้อมูลประเภทนี้ว่า List แต่ในภาษา Programming อื่นๆจะใช้คำว่า Array ดังนั้นสองคำนี้จะถูกใช้สลับกันไปมาอยู่บ่อยๆ\n",
    "- ลิสต์ (list) คือรายการสิ่งของที่เราสามารถปรับเปลี่ยนรายการได้ตลอดเวลาครับ\n",
    "- ลิสต์ใช้สัญลักษณ์ `[ ]` คั่นด้วยเครื่องหมายคอมมา `,`\n",
    "\n",
    ">คอมพิวเตอร์จะสร้าง ตำแหน่ง(Index) ของสิ่งของที่เก็บข้อมูลนั้นไว้เมื่อเราต้องการจะนำของชิ้นนั้นออกมาเราต้องชี้ไปที่ Index นั้นๆ โดยค่า Index จะไล่จากค่า 0 ไปเรื่อยๆ\n",
    "![Alt Text](https://www.programiz.com/sites/tutorial2program/files/python-list-index.png)\n",
    "\n"
   ]
  },
  {
   "cell_type": "markdown",
   "id": "d2fb4fe7",
   "metadata": {},
   "source": [
    "การสร้าง List"
   ]
  },
  {
   "cell_type": "code",
   "execution_count": 9,
   "id": "086f803d",
   "metadata": {},
   "outputs": [],
   "source": [
    "Drinks = ['Coffee','Water','Cola'] #list of strings\n",
    "numbers= [1, 2, 3, 4, 5] #list of integers\n",
    "\n",
    "#สร้าง list เปล่า\n",
    "empty_list = []\n",
    "empty_list_style2 = list()"
   ]
  },
  {
   "cell_type": "markdown",
   "id": "d9508bdc",
   "metadata": {},
   "source": [
    "\n",
    "\n",
    "การเข้าถึงข้อมูลภายใน List"
   ]
  },
  {
   "cell_type": "code",
   "execution_count": 1,
   "id": "720b87bd",
   "metadata": {},
   "outputs": [
    {
     "name": "stdout",
     "output_type": "stream",
     "text": [
      "Cola\n",
      "['Coffee', 'Water', 'Cola']\n"
     ]
    }
   ],
   "source": [
    "Drinks = ['Coffee','Water','Cola']\n",
    "print(Drinks[2])\n",
    "print(Drinks)"
   ]
  },
  {
   "cell_type": "code",
   "execution_count": 4,
   "id": "8de6b62d",
   "metadata": {},
   "outputs": [
    {
     "name": "stdout",
     "output_type": "stream",
     "text": [
      "Before appending a drink  >> ['Coffee', 'Water', 'Cola', 'Soda']\n",
      "After appending a new drink   >> ['Coffee', 'Water', 'Cola', 'Soda', 'Tea']\n"
     ]
    }
   ],
   "source": [
    "###############################\n",
    "#การเพิ่มโดยการใส่ไว้ด้านหลังข้อมูลเดิม#\n",
    "###############################\n",
    "Drinks = ['Coffee','Water','Cola','Soda']\n",
    "print('Before appending a drink  >>', Drinks)\n",
    "\n",
    "Drinks.append('Tea') #เพิ่ม 'Tea' เข้าไปใน list ชื่อ Drinks ที่เราเตรียมไว้ตอนต้น โดยใช้คำสั่ง append()\n",
    "\n",
    "print('After appending a new drink   >>', Drinks)"
   ]
  },
  {
   "cell_type": "code",
   "execution_count": 10,
   "id": "1df2dd71",
   "metadata": {},
   "outputs": [
    {
     "name": "stdout",
     "output_type": "stream",
     "text": [
      "Removing water from the list>> ['Coffee', 'Cola', 'Soda', 'Tea']\n"
     ]
    }
   ],
   "source": [
    "#############################\n",
    "#การนำข้อมูลบางส่วนออกจาก list#\n",
    "############################\n",
    "\n",
    "\n",
    "Drinks.remove('Water') #นำ 'Water' ออกจาก list โดยใช้คำสั่ง remove()\n",
    "\n",
    "print('Removing water from the list>>', Drinks)\n",
    "\n"
   ]
  },
  {
   "cell_type": "code",
   "execution_count": 11,
   "id": "8e63a22c",
   "metadata": {},
   "outputs": [
    {
     "name": "stdout",
     "output_type": "stream",
     "text": [
      "After editing the value in the list>> ['Coffee', 'Cola', 'Soda', 'Coco']\n"
     ]
    }
   ],
   "source": [
    "########################\n",
    "#การแก้ไขข้อมูลภายใน list#\n",
    "#######################\n",
    "\n",
    "#วิธีแก้ไข หรือ update ช้อมูลสามารถทำได้โดยเรียกของที่ต้องการแก้ไขออกมา แล้วแทนค่าเป็นอย่างอื่นเหมือนการแก้ไข variable ทั่วไป\n",
    "#เช่น เราต้องการเปลี่ยน 'Tea' เป็นคำว่า 'Coco' สามารถทำได้ดังนี้\n",
    "Drinks[3] = 'Coco' #เรารู้ว่า 'Tea' อยู่ในตำแหน่งที่ 3 ของ List\n",
    "\n",
    "print('After editing the value in the list>>', Drinks)"
   ]
  },
  {
   "cell_type": "markdown",
   "id": "66b36588",
   "metadata": {},
   "source": [
    "<b>******NOTE:การดูขนาดของ List ว่ามีจะมีขนาดเท่าไร เราสามารถใช้ build-in function ของ Python ได้โดยใช้คำสั่ง len เข้ามาช่วย</b>"
   ]
  },
  {
   "cell_type": "code",
   "execution_count": 20,
   "id": "5c665e41",
   "metadata": {},
   "outputs": [
    {
     "name": "stdout",
     "output_type": "stream",
     "text": [
      "The Length of this List = 4\n"
     ]
    }
   ],
   "source": [
    "Drinks = ['Coffee','Water','Cola','Soda']\n",
    "print(\"The Length of this List =\", len(Drinks))"
   ]
  },
  {
   "cell_type": "markdown",
   "id": "92d2671a",
   "metadata": {},
   "source": [
    "TIPS: เราสามารถใช้ len() เพื่อเช็คความยาวของ string ได้เช่นกัน"
   ]
  },
  {
   "cell_type": "code",
   "execution_count": 23,
   "id": "2991ab0a",
   "metadata": {},
   "outputs": [
    {
     "name": "stdout",
     "output_type": "stream",
     "text": [
      "11\n"
     ]
    }
   ],
   "source": [
    "text = 'ComCamp2024'\n",
    "print(len(text))"
   ]
  },
  {
   "cell_type": "markdown",
   "id": "e0db757e",
   "metadata": {},
   "source": [
    "### แบบฝึกหัด"
   ]
  },
  {
   "cell_type": "markdown",
   "id": "30f1b46e",
   "metadata": {},
   "source": [
    "จงคำนวณผลรวมของสมาชิกทุกตัวของลิสต์ในตัวแปร `my_list` เพื่อหาค่าเฉลี่ยโดยใช้สูตร\n",
    "\n",
    "$$ \\mathrm{avg}(\\mathbf{a}) = \\frac{\\sum_{i = 1}^N a_i}{N} $$\n",
    "\n",
    "เมื่อค่า $ N $ คือจำนวนสมาชิกที่มีในลิสต์ $ \\mathbf{a} $"
   ]
  },
  {
   "cell_type": "code",
   "execution_count": 3,
   "id": "5e848b2c",
   "metadata": {},
   "outputs": [
    {
     "name": "stdout",
     "output_type": "stream",
     "text": [
      "2.75\n"
     ]
    }
   ],
   "source": [
    "#Tip: สามารถใช้คำสั่ง len เพื่อหาจำนวนสมาชิกในlist ได้\n",
    "# คำนวณผลรวมของสมาชิกทุกตัวใน my_list\n",
    "m = [1,2,3,5]\n",
    "average = sum(m)/len(m)\n",
    "print(average)"
   ]
  },
  {
   "cell_type": "markdown",
   "id": "8c821747",
   "metadata": {},
   "source": [
    "#### 4.2 Tuple<a id='tuple'></a>\n",
    "ลักษณะของข้อมูลชนิดนี้จะมีความคล้ายคลึงกับข้อมูลประเภท List เพียงแต่ว่าข้อมูลภายใน Tuple นั้นไม่สามารถปรับหรือดัดแปลงได้"
   ]
  },
  {
   "cell_type": "code",
   "execution_count": 20,
   "id": "98be5d1b",
   "metadata": {},
   "outputs": [
    {
     "name": "stdout",
     "output_type": "stream",
     "text": [
      "Tuple Data: (1, 2, 3)\n",
      "The First Element of Tuple Data: 1\n",
      "The Last Element of Tuple Data: 3\n"
     ]
    }
   ],
   "source": [
    "example_tuple = (1, 2, 3)\n",
    "print('Tuple Data:', example_tuple)\n",
    "print('The First Element of Tuple Data:', example_tuple[0])\n",
    "print('The Last Element of Tuple Data:', example_tuple[-1])"
   ]
  },
  {
   "cell_type": "code",
   "execution_count": 22,
   "id": "9e4c5d1e",
   "metadata": {},
   "outputs": [],
   "source": [
    "#ลองแก้ไขข้อมูลใน tuple\n",
    "example_tuple[0] = 5"
   ]
  },
  {
   "cell_type": "markdown",
   "id": "d2294ac8",
   "metadata": {},
   "source": [
    "#### 4.3 Set<a id='set'></a>"
   ]
  },
  {
   "cell_type": "markdown",
   "id": "98fa1b8d",
   "metadata": {},
   "source": [
    "เป็นประเภทของข้อมูลที่คล้าย List เช่นกันอย่างไรก็ตาม Set จะมีความพิเศษตรงที่เราสามารถหาของใน Set จะมีการเรียงโดยอัตโนมัติและจะไม่ซ้ำกัน\n",
    "\n",
    "<b>NOTE: อย่างไรก็ตามการเข้าถึงข้อมูลภายใน Set จะไม่สามรถใช้ Index ได้เหมือนกับ List หรือ Tuple</b>"
   ]
  },
  {
   "cell_type": "code",
   "execution_count": 8,
   "id": "b3659ee3",
   "metadata": {},
   "outputs": [
    {
     "name": "stdout",
     "output_type": "stream",
     "text": [
      "{1, 2, 3, 4, 5}\n"
     ]
    }
   ],
   "source": [
    "set_example = {3,2,1,5,4}\n",
    "print(set_example)"
   ]
  },
  {
   "cell_type": "markdown",
   "id": "4eab78d5",
   "metadata": {},
   "source": [
    "การเพิ่มสิ่งของและลดสิ่งของ ข้อมูลภายใน Set"
   ]
  },
  {
   "cell_type": "code",
   "execution_count": 9,
   "id": "6602949e",
   "metadata": {},
   "outputs": [
    {
     "name": "stdout",
     "output_type": "stream",
     "text": [
      "Before inserting new data into Set: {1, 2, 3, 4, 5}\n",
      "After inserting new data into Set: {1, 2, 3, 4, 5, 6}\n"
     ]
    }
   ],
   "source": [
    "#############################\n",
    "#การเพิ่มของและนำของออกจาก Set#\n",
    "#############################\n",
    "\n",
    "print('Before inserting new data into Set:', set_example)\n",
    "set_example.add(6) #ทำการเพิ่มของใน Set\n",
    "print('After inserting new data into Set:', set_example)"
   ]
  },
  {
   "cell_type": "code",
   "execution_count": 10,
   "id": "39ae7a1c",
   "metadata": {},
   "outputs": [
    {
     "name": "stdout",
     "output_type": "stream",
     "text": [
      "Before removing new data into Set: {1, 2, 3, 4, 5, 6}\n",
      "After removing new data into Set: {1, 2, 3, 4, 5}\n"
     ]
    }
   ],
   "source": [
    "#############################\n",
    "#การเพิ่มของและนำของออกจาก Set#\n",
    "#############################\n",
    "\n",
    "print('Before removing new data into Set:', set_example)\n",
    "set_example.remove(6) #ทำการนำของออกจาก Set\n",
    "print('After removing new data into Set:', set_example)"
   ]
  },
  {
   "cell_type": "markdown",
   "id": "7542f766",
   "metadata": {},
   "source": [
    "การจะเข้าถึงข้อมูลภายใน Set\n",
    "\n",
    "TIPS: การเข้าถึงข้อมูลจำเป็นต้องใช้ For Loop เพื่อดึงข้อมูลออกมาทีละตัว <b>อย่างไรก็ตาม For Loop จะอยู่ในหัวข้อถัดๆไป</b>"
   ]
  },
  {
   "cell_type": "code",
   "execution_count": 12,
   "id": "83cb89fa",
   "metadata": {},
   "outputs": [
    {
     "name": "stdout",
     "output_type": "stream",
     "text": [
      "Element in set_example: 1\n",
      "Element in set_example: 2\n",
      "Element in set_example: 3\n",
      "Element in set_example: 4\n",
      "Element in set_example: 5\n"
     ]
    }
   ],
   "source": [
    "for item in set_example:\n",
    "    print('Element in set_example:', item)"
   ]
  },
  {
   "cell_type": "markdown",
   "id": "7a5fa926",
   "metadata": {},
   "source": [
    "### 5.Dictionary<a id='dic'></a>\n",
    "ข้อมูลประเภทนี้จะเป็นข้อมูลที่เราจะใช้ค่าต่างๆเป็นตัวระบุตำแหน่งของข้อมูลแทนที่จะเป็น Index ใน List และ Tuple ซึ่งข้อมูลที่เราใช้ระบุตำแหน่งจะเรียกว่า Key และค่าที่เราเข้าถึงผ่าน Key นั้นจะเรียกว่า Value"
   ]
  },
  {
   "cell_type": "markdown",
   "id": "3f80cff0",
   "metadata": {},
   "source": [
    "การสร้าง Dictionary"
   ]
  },
  {
   "cell_type": "code",
   "execution_count": 14,
   "id": "4a020c7c",
   "metadata": {},
   "outputs": [],
   "source": [
    "#การประกาศ Dictionary แบบมีข้อมูล\n",
    "example_dictionary = {'fish': 0, 'dog': 4, 'chicken': 2}\n",
    "\n",
    "#ประกาศ Dictionary เปล่า\n",
    "empty_dictionary = dict()"
   ]
  },
  {
   "cell_type": "markdown",
   "id": "6c94e0d2",
   "metadata": {},
   "source": [
    "การเข้าถึงข้อมูลใน Dictionary \n",
    "> เริ่มจากเรียกตัวของ Dictionary มาก่อนแล้วกรอกตัวของ key ที่เราต้องการจะถึงข้อมูลใน [ ] \n",
    "![Alt Text](data:image/png;base64,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)"
   ]
  },
  {
   "cell_type": "code",
   "execution_count": 23,
   "id": "2651299d",
   "metadata": {},
   "outputs": [
    {
     "name": "stdout",
     "output_type": "stream",
     "text": [
      "dog have 4 legs\n"
     ]
    }
   ],
   "source": [
    "interested_animal = 'dog'\n",
    "number_of_legs = example_dictionary[interested_animal] #ดึงค่าจาก dictionary\n",
    "print(interested_animal,'have',example_dictionary[interested_animal],'legs')\n",
    "#print('{} have {} legs'.format(interested_animal, number_of_legs))\n"
   ]
  },
  {
   "cell_type": "markdown",
   "id": "cafab145",
   "metadata": {},
   "source": [
    "การเพิ่ม, ลบ และแก้ไขข้อมูลใน Dictionary"
   ]
  },
  {
   "cell_type": "code",
   "execution_count": 24,
   "id": "8874288d",
   "metadata": {},
   "outputs": [
    {
     "name": "stdout",
     "output_type": "stream",
     "text": [
      "Before inserting new data into Dictionary: {'fish': 0, 'dog': 4, 'chicken': 2}\n",
      "Before inserting new data into Dictionary: {'fish': 0, 'dog': 4, 'chicken': 2, 'cat': 4, 'tiger': 4}\n"
     ]
    }
   ],
   "source": [
    "##############################\n",
    "#การเพิ่มข้อมูลเข้าไปใน Dictionary#\n",
    "##############################\n",
    "\n",
    "print('Before inserting new data into Dictionary:', example_dictionary)\n",
    "example_dictionary['cat'] = 4\n",
    "example_dictionary['tiger']  = 4\n",
    "print('Before inserting new data into Dictionary:', example_dictionary)"
   ]
  },
  {
   "cell_type": "code",
   "execution_count": 25,
   "id": "1e0b9a48",
   "metadata": {},
   "outputs": [
    {
     "name": "stdout",
     "output_type": "stream",
     "text": [
      "Reamaining data: {'fish': 0, 'dog': 4, 'chicken': 2, 'cat': 4}\n"
     ]
    }
   ],
   "source": [
    "#########################\n",
    "#การลบข้อมูลใน Dictionary#\n",
    "########################\n",
    "\n",
    "example_dictionary.pop(\"tiger\") #ทำการลบข้อมูลโดยใช้คำสั่ง pop() ภายใน () ให้เติม key ของข้อมูลที่เราต้องการนำออก\n",
    "print('Reamaining data:', example_dictionary)"
   ]
  },
  {
   "cell_type": "code",
   "execution_count": 26,
   "id": "f5f760bb",
   "metadata": {},
   "outputs": [
    {
     "name": "stdout",
     "output_type": "stream",
     "text": [
      "Reamaining data: {'fish': 0, 'dog': 4, 'chicken': 2, 'cat': 3}\n"
     ]
    }
   ],
   "source": [
    "##########################\n",
    "#การแก้ไขข้อมูลใน Dictionary#\n",
    "##########################\n",
    "\n",
    "example_dictionary['cat'] = 3 #ทำเหมือนกับการเพิ่มข้อมูล แค่ต้องเรียก key ของของที่เราต้องการจะแก้ไขออกมาแล้วใส่ข้อมูลใหม่\n",
    "print('Reamaining data:', example_dictionary)"
   ]
  },
  {
   "cell_type": "markdown",
   "id": "0728ea02",
   "metadata": {},
   "source": [
    "Dictionary นั้นสามารถมี value ด้านในเป็น Dictionary ได้เหมือนกันเราจะเรียกสิ่งนี้ว่า Nested Dictionary "
   ]
  },
  {
   "cell_type": "code",
   "execution_count": 27,
   "id": "9102d7bb",
   "metadata": {},
   "outputs": [
    {
     "name": "stdout",
     "output_type": "stream",
     "text": [
      "{'fish': {}, 'dog': {}, 'bird': {}}\n"
     ]
    }
   ],
   "source": [
    "############################\n",
    "#ทำการสร้าง Dictionary ชั้นแรก#\n",
    "############################\n",
    "\n",
    "nested_dictionary = dict() #ทำการสร้าง Dictionary เปล่า\n",
    "nested_dictionary['fish'] = dict() #ทำการสร้าง Dictionary เปล่าภายใน Dictionary ที่มี key เป็น fish\n",
    "nested_dictionary['dog']  = dict() #ทำการสร้าง Dictionary เปล่าภายใน Dictionary ที่มี key เป็น dog\n",
    "nested_dictionary['bird'] = dict() #ทำการสร้าง Dictionary เปล่าภายใน Dictionary ที่มี key เป็น bird\n",
    "\n",
    "print(nested_dictionary)"
   ]
  },
  {
   "cell_type": "code",
   "execution_count": 28,
   "id": "513c9aef",
   "metadata": {},
   "outputs": [
    {
     "name": "stdout",
     "output_type": "stream",
     "text": [
      "{'fish': {'legs': 0, 'wings': 0}, 'dog': {'legs': 4, 'wings': 0}, 'bird': {'legs': 2, 'wings': 2}}\n"
     ]
    }
   ],
   "source": [
    "########################################\n",
    "#ทำการเติมข้อมูลเข้าไปใน Dictionary ชั้นที่สอง#\n",
    "########################################\n",
    "\n",
    "#เติมข้อมูลภายใน Dictionary ของ 'fish'\n",
    "nested_dictionary['fish']['legs'] = 0\n",
    "nested_dictionary['fish']['wings'] = 0\n",
    "\n",
    "#เติมข้อมูลภายใน Dictionary ของ 'dog'\n",
    "nested_dictionary['dog']['legs'] = 4\n",
    "nested_dictionary['dog']['wings'] = 0\n",
    "\n",
    "#เติมข้อมูลภายใน Dictionary ของ 'bird'\n",
    "nested_dictionary['bird']['legs'] = 2\n",
    "nested_dictionary['bird']['wings'] = 2\n",
    "\n",
    "print(nested_dictionary)"
   ]
  },
  {
   "cell_type": "code",
   "execution_count": 32,
   "id": "b26cb194",
   "metadata": {},
   "outputs": [
    {
     "name": "stdout",
     "output_type": "stream",
     "text": [
      "dog have 4 legs and 0 wings\n"
     ]
    }
   ],
   "source": [
    "#####################################\n",
    "#ทำการเติมข้อมูลเข้าใน Nested Dictionary#\n",
    "#####################################\n",
    "\n",
    "interested_animal = 'dog'\n",
    "number_animal_legs  = nested_dictionary[interested_animal]['legs']\n",
    "number_animal_wings = nested_dictionary[interested_animal]['wings']\n",
    "\n",
    "print(interested_animal,'have',number_animal_legs,'legs and',number_animal_wings,'wings')\n",
    "#print('{} have {} legs and {} wings'.format(interested_animal, number_animal_legs, number_animal_wings))\n"
   ]
  },
  {
   "cell_type": "markdown",
   "id": "dc614946",
   "metadata": {},
   "source": [
    "## 6. If...Else <a id='if'></a>"
   ]
  },
  {
   "cell_type": "markdown",
   "id": "9eda2402",
   "metadata": {},
   "source": [
    "If...Else คือการตั้งเงื่อนไขในการทำงานของโปรแกรมตามสถานการณ์ต่างที่เรากำหนดขึ้นมา\n",
    "+ If statement เป็นเหมือนตัวเลือกในการตัดสินใจใรการทำคำสั่งนั้นๆหากเงื่อนนั้นเป็นจริง(True) ซึ่งนี่สอดคล้องกับเรื่องของ Boolean ใน data type\n",
    "+ Else statement ถ้าหากไม่สามารถทำตามเงื่อนไขของ If statement ด้านบนได้จะมาทำคำสั่งภายใน Else statement แทน"
   ]
  },
  {
   "cell_type": "markdown",
   "id": "56940402",
   "metadata": {},
   "source": [
    "<b>ตัวอย่าง: การใช้งานงาน If...Else</b>\n",
    "\n",
    "เราต้องการสร้างเงื่อนไขในการตรวจเช็คว่าค่า x มีค่ามากกว่า หรือน้อยกว่า 5"
   ]
  },
  {
   "cell_type": "code",
   "execution_count": 34,
   "id": "829187d1",
   "metadata": {},
   "outputs": [],
   "source": [
    "x = 4"
   ]
  },
  {
   "cell_type": "code",
   "execution_count": 35,
   "id": "348c5cc2",
   "metadata": {},
   "outputs": [
    {
     "name": "stdout",
     "output_type": "stream",
     "text": [
      "x less than 5\n"
     ]
    }
   ],
   "source": [
    "#x มากกว่า 5 หรือไม่\n",
    "if x > 5:\n",
    "    print('x more than 5')\n",
    "#ไม่อย่างงั้น\n",
    "else:\n",
    "    print('x less than 5')"
   ]
  },
  {
   "cell_type": "markdown",
   "id": "c0efb1e2",
   "metadata": {},
   "source": [
    "ถ้าเรามีเงื่อนไขมากกว่าสองอันเราสามารถใช้คำสั่ง elif (Else if) เพื่อเพิ่มเติมเงื่อนไขลงไประหว่าง if statement และ else statement ได้"
   ]
  },
  {
   "cell_type": "code",
   "execution_count": 74,
   "id": "b449ed22",
   "metadata": {},
   "outputs": [],
   "source": [
    "x = 5"
   ]
  },
  {
   "cell_type": "code",
   "execution_count": 75,
   "id": "e78e4fff",
   "metadata": {},
   "outputs": [
    {
     "name": "stdout",
     "output_type": "stream",
     "text": [
      "x equal to 5\n"
     ]
    }
   ],
   "source": [
    "#x มากกว่า 5 หรือไม่\n",
    "if x > 5:\n",
    "    print('x more than 5')\n",
    "#x เท่ากับ 5 หรือไม่\n",
    "elif x==5:\n",
    "    print('x equal to 5')\n",
    "#ไม่อย่างงั้น\n",
    "else:\n",
    "    print('x less than 5')"
   ]
  },
  {
   "cell_type": "markdown",
   "id": "72e808b2",
   "metadata": {},
   "source": [
    "## แบบฝึกหัด : โปรแกรมตัดเกรด\n",
    "#### จงเขียนโปรแกรมตัดเกรดโดยมีเงื่อนไขต่อไปนี้\n",
    "\n",
    "- คะแนนน้อยกว่า 50 คะแนน เกรด 0\n",
    "- คะแนนมากกว่าเท่ากับ 50 คะแนน แต่น้อยกว่า 60 คะแนน เกรด 1\n",
    "- คะแนนมากกว่าเท่ากับ 60 คะแนน แต่น้อยกว่า 70 คะแนน เกรด 2\n",
    "- คะแนนมากกว่าเท่ากับ 70 คะแนน แต่น้อยกว่า 80 คะแนน เกรด 3\n",
    "- คะแนนมากกว่าเท่ากับ 80 คะแนน  เกรด 4\n",
    "- นอกจากนั้นพิมพ์ \" โกงข้อสอบเหรอเจอกันห้องปกครอง \""
   ]
  },
  {
   "cell_type": "code",
   "execution_count": 6,
   "id": "c33c4ccc",
   "metadata": {},
   "outputs": [
    {
     "name": "stdin",
     "output_type": "stream",
     "text": [
      " 90\n"
     ]
    },
    {
     "name": "stdout",
     "output_type": "stream",
     "text": [
      "เกรด 4\n"
     ]
    }
   ],
   "source": [
    "score = int(input())\n",
    "\n",
    "if score<50 :\n",
    "    print(\"เกรด 0\")\n",
    "elif 50<= score<60 :\n",
    "    print(\"เกรด 1\")\n",
    "elif 60<= score<70 :\n",
    "    print(\"เกรด 2\")\n",
    "elif 70<= score<80 :\n",
    "    print(\"เกรด 3\")\n",
    "elif 80<= score :\n",
    "    print(\"เกรด 4\")\n",
    "else:\n",
    "    print(\" โกงข้อสอบเหรอเจอกันห้องปกครอง \")"
   ]
  },
  {
   "cell_type": "markdown",
   "id": "ab9e1e1a",
   "metadata": {},
   "source": [
    "## แบบฝึกหัด : Leap Year(อธิกสุรทิน)\n",
    "\n",
    "ปีอธิกสุรทินคือปีที่มีจำนวนวันเพิ่มเป็น 366 วัน ซึ่งมีเฉพาะบางปี เพื่อชดเชยความคลาดเคลื่อนที่เกิดจากการกำหนดว่าหนึ่งปีมี 365 วัน \n",
    "\n",
    "จงเขียนโปรแกรมตรวจสอบปีอธิกสุรทิน\n",
    "\n",
    "<b> เงื่อนไข: <b>\n",
    "    \n",
    "- ปีอธิกสุรทินเป็นปีที่หารด้วย 4 ลงตัว\n",
    "- หากเป็นปีที่หารด้วย 100 ลงตัวต้องหารด้วย 400 ลงตัวด้วยจึงจะเป็นปีอธิกสุรทิน\n",
    "    \n",
    "เช่น ปี 1900 เนื่องจากปี 1900 หารด้วย 100 ลงตัวแต่หารด้วย 400 ไม่ลงตัวทำให้ไม่เป็นปีอธิกสุรทินถึงแม้จะหารด้วย 4 ลงตัว"
   ]
  },
  {
   "cell_type": "markdown",
   "id": "605062c9",
   "metadata": {},
   "source": [
    "<b>TIPS: เครื่องหมายเปอร์เซ็น \"%\" ในสมการเราจะเรียกว่า Modulo เป็นการหาเศษที่เหลือหลังจากการหาร</b>"
   ]
  },
  {
   "cell_type": "code",
   "execution_count": 90,
   "id": "3972f25c",
   "metadata": {},
   "outputs": [
    {
     "name": "stdout",
     "output_type": "stream",
     "text": [
      "3 % 2 = 1\n",
      "100 % 10 = 0\n"
     ]
    }
   ],
   "source": [
    "#ตัวอย่าง\n",
    "print('3 % 2 =', 3%2)\n",
    "print('100 % 10 =', 100%10)"
   ]
  },
  {
   "cell_type": "code",
   "execution_count": 42,
   "id": "1e429909",
   "metadata": {},
   "outputs": [
    {
     "name": "stdin",
     "output_type": "stream",
     "text": [
      " 2024\n"
     ]
    },
    {
     "name": "stdout",
     "output_type": "stream",
     "text": [
      "Leap Year\n"
     ]
    }
   ],
   "source": [
    "year= int(input())\n",
    "if year%100==0 and year%400!=0:\n",
    "    print(\"not Leap Year\")\n",
    "elif year%4==0:\n",
    "    print(\"Leap Year\")\n",
    "elif year%100!=0 and year%400==0:\n",
    "    print(\"Leap Year\")\n",
    "else:\n",
    "    print(\"not Leap Year\")\n",
    "\n",
    "    \n",
    "\n"
   ]
  },
  {
   "cell_type": "markdown",
   "id": "9b32ce15",
   "metadata": {},
   "source": [
    "สำหรับตรวจดูว่าถูกไหมลองใส่ปี 2020 จะออกมาเป็น leap year และ 2100 จะไม่เป็น leap year"
   ]
  },
  {
   "cell_type": "markdown",
   "id": "ba128e9d",
   "metadata": {},
   "source": [
    "## 7. Looping <a id='looping'></a>|"
   ]
  },
  {
   "cell_type": "markdown",
   "id": "7aee4add",
   "metadata": {},
   "source": [
    "Looping หมายถึงการที่เราสั่งให้โปรแกรมทำไรบางสิ่งบางอย่างซ้ำๆจนกระทั่งเติมเต็มเงื่อนไขที่ตั้งไว้ โดยจะมีการ Looping หลักอยู่สองรูปแบบคือ While และ For\n",
    "\n",
    "<b>TIPS: โดยปกติส่วนมากเราจะใช้ Looping ในการเข้าถึงข้อมูลภายทั้งหมดของ Sequence Data Type โดยเฉพาะ List</b>\n",
    "\n",
    "<b>ตัวอย่าง: เราต้องการสิ่งของทั้งหมดออกมาดู</b>\n",
    "![Alt Text](data:image/png;base64,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)"
   ]
  },
  {
   "cell_type": "code",
   "execution_count": 1,
   "id": "e30cd85f",
   "metadata": {},
   "outputs": [],
   "source": [
    "#ทำการจำลองข้อมูล\n",
    "box = ['Apple', 'Banana', 'Orange', 'Grape']"
   ]
  },
  {
   "cell_type": "markdown",
   "id": "0013cf0d",
   "metadata": {},
   "source": [
    "### 1. While looping\n",
    "\n",
    "> จะเป็น Looping ที่ทำไปเรื่อยๆจนกว่าจะไม่อยู่ภายในเงื่อนไขที่ตั้งไว้โดยมีโครงสร้างดังนี้"
   ]
  },
  {
   "cell_type": "markdown",
   "id": "27873f1f",
   "metadata": {},
   "source": [
    "While (เงื่อนไขที่ยังจะทำการ Looping):\n",
    "\n",
    "    + การกระทำต่างๆที่เราต้องการกระทำภายใน Loop นั้นๆ\n",
    "    + การขยับของ Index"
   ]
  },
  {
   "cell_type": "code",
   "execution_count": 8,
   "id": "93de69fc",
   "metadata": {},
   "outputs": [
    {
     "name": "stdout",
     "output_type": "stream",
     "text": [
      "ที่ตำแหน่งที่ 0 มี Apple\n",
      "ที่ตำแหน่งที่ 1 มี Banana\n",
      "ที่ตำแหน่งที่ 2 มี Orange\n",
      "ที่ตำแหน่งที่ 3 มี Grape\n"
     ]
    }
   ],
   "source": [
    "index = 0 #เริ่มจากของชิ้นแรกโดยการระบุของ ณ ตำแหน่งแรก\n",
    "\n",
    "#สร้าง While loop และตั้งเงื่อนไขในการหยุด Looping\n",
    "while index < len(box):\n",
    "    print('ที่ตำแหน่งที่ {} มี {}'.format(index, box[index])) #นำสิ่งของออกมาดู\n",
    "    index += 1 #ทำการปลี่ยน Index เพื่อขยับไปที่สิ่งของถัดไป"
   ]
  },
  {
   "cell_type": "markdown",
   "id": "a3b85469",
   "metadata": {},
   "source": [
    "<b>NOTE: การทำ While looping นั้นจำเป็นต้องมีการขยับ Index ทุกครั้งที่เราเขียน!!! ซึ่งทำให้ For loop ได้รับความนิยมมากกว่า</b>\n",
    "\n",
    "<b>TIPS: index += 1 มีความหมายเท่ากับ index = index + 1 ซึ่งการใช้นั้นแล้วแต่ตามความถนัดของแต่ละบุคคล</b>"
   ]
  },
  {
   "cell_type": "markdown",
   "id": "ccb08495",
   "metadata": {},
   "source": [
    "### 2. For looping\n",
    "\n",
    "> จะมีแนวทางความคิดเหมือนกับ While loop แต่จะต่างที่โครงสร้างคือเราจะต้องระบุเลยว่าเราจะ Loop ไปที่ไหนบ้าง แทนที่จะตั้งเงื่อนไขการหยุด โดยจะมีโครงสร้างดังนี้"
   ]
  },
  {
   "cell_type": "markdown",
   "id": "735c4607",
   "metadata": {},
   "source": [
    "For (สื่งที่ต้องการจะนำมาใช้ในแต่ละรอบ):\n",
    "\n",
    "    + การกระทำต่างๆที่เราต้องการกระทำภายใน Loop นั้นๆ"
   ]
  },
  {
   "cell_type": "markdown",
   "id": "4ab61968",
   "metadata": {},
   "source": [
    "โดยการใช้ For loop นั้นจะมีสองลักษณะคือ\n",
    "+ วน loop แต่ละรอบด้วย Index\n",
    "+ วน loop แต่ละรอบด้วยของที่เราต้องการใช้ ชิ้นนั้นๆเลย"
   ]
  },
  {
   "cell_type": "markdown",
   "id": "48b4543a",
   "metadata": {},
   "source": [
    "#### 2.1 การวน For loop แต่ละรอบด้วย Index \n",
    "\n",
    "ส่วนมากเราจะใช้คำสั่ง range เข้ามาช่วยเพื่อสร้างช่วงของตัวเลขที่ต้องการวน loop โดยคำสั่งนั้นจะมีการกำหนดค่าดังนี้\n",
    "> range(ค่าเริ่มต้น, ค่าสิ้นสุด, ค่าที่บวกเพิ่มหลังจากจบ loop รอบนั้นๆ)\n",
    "\n",
    "<b>NOTE: ค่าสิ้นสุดนั้นจะไม่รวมตัวเองเข้าไปใน range นั้นๆ</b>"
   ]
  },
  {
   "cell_type": "code",
   "execution_count": 6,
   "id": "079a5794",
   "metadata": {},
   "outputs": [
    {
     "name": "stdout",
     "output_type": "stream",
     "text": [
      "ที่ตำแหน่งที่ 0 มี Apple\n",
      "ที่ตำแหน่งที่ 1 มี Banana\n",
      "ที่ตำแหน่งที่ 2 มี Orange\n",
      "ที่ตำแหน่งที่ 3 มี Grape\n"
     ]
    }
   ],
   "source": [
    "for index in range(0, len(box), 1):\n",
    "    print('ที่ตำแหน่งที่ {} มี {}'.format(index, box[index]))"
   ]
  },
  {
   "cell_type": "markdown",
   "id": "50ab2f28",
   "metadata": {},
   "source": [
    "#### 2.2 วน loop แต่ละรอบด้วยของที่เราต้องการใช้ ชิ้นนั้นๆเลย"
   ]
  },
  {
   "cell_type": "code",
   "execution_count": 12,
   "id": "7058b48f",
   "metadata": {},
   "outputs": [
    {
     "name": "stdout",
     "output_type": "stream",
     "text": [
      "- Apple\n",
      "- Banana\n",
      "- Orange\n",
      "- Grape\n"
     ]
    }
   ],
   "source": [
    "for item in box:\n",
    "    print('-',item)"
   ]
  },
  {
   "cell_type": "markdown",
   "id": "0f8db5b2",
   "metadata": {},
   "source": [
    "<b>TIPS: เราสามารถใช้ For loop กับ Dictionary ได้โดยค่าที่จะได้จากการ loop Dictionary ในแต่ละรอบจะเป็น key ที่อยู่ใน Dictionary นั้น</b>"
   ]
  },
  {
   "cell_type": "code",
   "execution_count": 16,
   "id": "57becc84",
   "metadata": {},
   "outputs": [
    {
     "name": "stdout",
     "output_type": "stream",
     "text": [
      "- A\n",
      "- B\n",
      "- C\n"
     ]
    }
   ],
   "source": [
    "example_dictionary = {'A': 1, 'B': 2, 'C': 3}\n",
    "for key in example_dictionary:\n",
    "    print('-', key)"
   ]
  },
  {
   "cell_type": "code",
   "execution_count": 25,
   "id": "9c87cf83",
   "metadata": {},
   "outputs": [
    {
     "name": "stdout",
     "output_type": "stream",
     "text": [
      "A have 1 points\n",
      "B have 2 points\n",
      "C have 3 points\n"
     ]
    }
   ],
   "source": [
    "#เราสามารถนำข้อมูลด้านใน (value) ออกมาพร้อมกับ key ได้เช่นโดยใช้คำสั่ง .items() ตามหลังตัวแปรที่เก็บ Dictionary ไว้\n",
    "example_dictionary = {'A': 1, 'B': 2, 'C': 3}\n",
    "for key, value in example_dictionary.items():\n",
    "    print('{} have {} points'.format(key, value))"
   ]
  },
  {
   "cell_type": "markdown",
   "id": "b5e6223b",
   "metadata": {},
   "source": [
    "### 3. Break and Continue\n",
    "Break เป็นการที่เราต้องการหยุด loop ก่อนเงื่อนไขที่เราตั้งไว้ตอนแรก โดยส่วนใหญ๋เราจะใช้คู่กับ If...Else เพื่อกำหนดเงื่อนไขย่อยภายในเพื่อทำการหยุด loop ก่อน"
   ]
  },
  {
   "cell_type": "code",
   "execution_count": 47,
   "id": "51a9639f",
   "metadata": {},
   "outputs": [
    {
     "name": "stdout",
     "output_type": "stream",
     "text": [
      "Nah, this is a Apple, keep searching\n",
      "Nah, this is a Banana, keep searching\n",
      "We found a orange\n"
     ]
    }
   ],
   "source": [
    "Cargo = ['Apple', 'Banana', 'Orange', 'Grape']\n",
    "for i in Cargo:\n",
    "    if i == 'Orange':\n",
    "        print('We found a orange')\n",
    "        break\n",
    "    else:\n",
    "        print('Nah, this is a {}, keep searching'.format(i))"
   ]
  },
  {
   "cell_type": "markdown",
   "id": "da663fb9",
   "metadata": {},
   "source": [
    "Continue เป็นการข้ามการทำงานของคำสั่งที่เหลืออยู่ใน loop ในรอบนั้น ๆ และเริ่มการทำงานในรอบถัดไปทันที"
   ]
  },
  {
   "cell_type": "code",
   "execution_count": 13,
   "id": "9d8ed650",
   "metadata": {},
   "outputs": [
    {
     "name": "stdout",
     "output_type": "stream",
     "text": [
      "รอบที่  0\n",
      "Current Letter: P\n",
      "รอบที่  1\n",
      "Current Letter: y\n",
      "รอบที่  2\n",
      "Current Letter: t\n",
      "รอบที่  3\n",
      "รอบที่  4\n",
      "Current Letter: o\n",
      "รอบที่  5\n",
      "Current Letter: n\n"
     ]
    }
   ],
   "source": [
    "i = 0\n",
    "for letter in 'Python':\n",
    "    print('รอบที่ ',i)\n",
    "    i += 1\n",
    "    if letter =='h':\n",
    "        continue\n",
    "    print('Current Letter:', letter)"
   ]
  },
  {
   "cell_type": "markdown",
   "id": "7b4240e2",
   "metadata": {},
   "source": [
    "## แบบฝึกหัด : โปรแกรมคัดกรองเงินเดือน"
   ]
  },
  {
   "cell_type": "markdown",
   "id": "2008f06e",
   "metadata": {},
   "source": [
    "- นายมด เป็น พนักงานบริษัทต้องการย้ายไปบริษัทที่มีสวัสดิการหรือเงินเดือนที่มากพอต่อการดำเนินชีวิต โดยที่แต่ล่ะเดือนนายมดมีค่าใช้จ่ายดังนี้\n",
    "1. ค่าน้ำ-ค่าไฟ 500 บาท\n",
    "2. ค่าเดินทาง 5,000 บาท\n",
    "3. ค่าเช่าบ้าน 12,000 บาท\n",
    "4. เงินลงทุนหุ้น 10,000 บาท\n",
    "- จงเขียนเงื่อนไขรับจำนวนเงินเดือนที่เพียงพอต่อความต้องการของนายมด"
   ]
  },
  {
   "cell_type": "code",
   "execution_count": 56,
   "id": "6c1561f3",
   "metadata": {},
   "outputs": [
    {
     "name": "stdout",
     "output_type": "stream",
     "text": [
      "We are selected :  38000\n",
      "We are selected :  42000\n",
      "We are selected :  60000\n",
      "We are selected :  32000\n"
     ]
    }
   ],
   "source": [
    "salary = [\"38000\",\"42000\",\"60000\",\"32000\",\"24000\"]\n",
    "month = 500+5000+12000+10000\n",
    "for i in range(len(salary)):\n",
    "    if int(salary[i])>=month:\n",
    "        print(\"We are selected : \",salary[i])"
   ]
  },
  {
   "cell_type": "markdown",
   "id": "8115d0ca",
   "metadata": {},
   "source": [
    "## 8. Try and Except <a id=\"te\"></a>\n",
    "try และ except เป็นคำสั่งใน Python ที่ใช้ในการจัดการข้อผิดพลาด (Exception Handling) และประโยชน์ของ try และ except คือ\n",
    "- เพื่อให้โปรแกรมทำงานต่อได้แม้ว่าจะเกิดข้อผิดพลาด\n",
    "- ช่วยในการหาข้อผิดพลาดและแก้ไขโค้ดให้ถูกต้อง\n",
    "- ป้องกันการหยุดทำงานของโปรแกรมอย่างกระทันหัน\n",
    "\n",
    "การใช้งาน try except ใน Python นั้นมีรูปแบบง่ายๆ คือ\n",
    "\n",
    "try:\n",
    "\n",
    "    + โค้ดที่อาจทำให้เกิดข้อผิดพลาด\n",
    "    \n",
    "except ประเภทของข้อผิดพลาด:\n",
    "    \n",
    "    + โค้ดที่จะทำงานเมื่อเกิดข้อผิดพลาด\n",
    "\n",
    "ตัวอย่างเช่น 10/0 :"
   ]
  },
  {
   "cell_type": "code",
   "execution_count": 1,
   "id": "f76b2045",
   "metadata": {},
   "outputs": [
    {
     "ename": "ZeroDivisionError",
     "evalue": "division by zero",
     "output_type": "error",
     "traceback": [
      "\u001b[0;31m---------------------------------------------------------------------------\u001b[0m",
      "\u001b[0;31mZeroDivisionError\u001b[0m                         Traceback (most recent call last)",
      "Cell \u001b[0;32mIn[1], line 1\u001b[0m\n\u001b[0;32m----> 1\u001b[0m result \u001b[38;5;241m=\u001b[39m \u001b[38;5;241;43m10\u001b[39;49m\u001b[43m \u001b[49m\u001b[38;5;241;43m/\u001b[39;49m\u001b[43m \u001b[49m\u001b[38;5;241;43m0\u001b[39;49m\n",
      "\u001b[0;31mZeroDivisionError\u001b[0m: division by zero"
     ]
    }
   ],
   "source": [
    "result = 10 / 0"
   ]
  },
  {
   "cell_type": "code",
   "execution_count": 2,
   "id": "a580792f",
   "metadata": {},
   "outputs": [
    {
     "name": "stdout",
     "output_type": "stream",
     "text": [
      "ไม่สามารถหารด้วยศูนย์\n"
     ]
    }
   ],
   "source": [
    "try:\n",
    "    result = 10 / 0 #โค้ดที่อาจทำให้เกิดข้อผิดพลาด\n",
    "except :\n",
    "    print('ไม่สามารถหารด้วยศูนย์') #โค้ดที่จะทำงานเมื่อเกิดข้อผิดพลาด"
   ]
  },
  {
   "attachments": {
    "image.png": {
     "image/png": "[encoded data removed]"
    }
   },
   "cell_type": "markdown",
   "id": "2353a776",
   "metadata": {},
   "source": [
    "### ข้อผิดพลาดที่พบบ่อย\n",
    "- SyntaxError: Python ไม่สามารถแปลโปรแกรมได้\n",
    "- NameError: ไม่พบชื่อท้องถิ่นหรือชื่อทั่วโลก\n",
    "- AttributeError: การอ้างอิง attribute ล้มเหลว\n",
    "- TypeError: ตัวถูกดำเนินการมีชนิดข้อมูลไม่ถูกต้อง\n",
    "- ValueError: ชนิดข้อมูลถูกต้องแต่ค่าไม่ถูกต้อง\n",
    "![image.png](attachment:image.png)"
   ]
  },
  {
   "cell_type": "markdown",
   "id": "a2081933",
   "metadata": {},
   "source": [
    "#### SyntaxError"
   ]
  },
  {
   "cell_type": "code",
   "execution_count": 5,
   "id": "a203b251",
   "metadata": {},
   "outputs": [
    {
     "ename": "SyntaxError",
     "evalue": "incomplete input (1103635973.py, line 1)",
     "output_type": "error",
     "traceback": [
      "\u001b[1;36m  Cell \u001b[1;32mIn[5], line 1\u001b[1;36m\u001b[0m\n\u001b[1;33m    print('Hello'\u001b[0m\n\u001b[1;37m                 ^\u001b[0m\n\u001b[1;31mSyntaxError\u001b[0m\u001b[1;31m:\u001b[0m incomplete input\n"
     ]
    }
   ],
   "source": [
    "print('Hello' #ขาดวงเล็บปิด ) ทำให้เกิด SyntaxError"
   ]
  },
  {
   "cell_type": "markdown",
   "id": "92ede2e8",
   "metadata": {},
   "source": [
    "#### NameError"
   ]
  },
  {
   "cell_type": "code",
   "execution_count": 6,
   "id": "6c34527a",
   "metadata": {},
   "outputs": [
    {
     "ename": "NameError",
     "evalue": "name 'undeclared_variable' is not defined",
     "output_type": "error",
     "traceback": [
      "\u001b[1;31m---------------------------------------------------------------------------\u001b[0m",
      "\u001b[1;31mNameError\u001b[0m                                 Traceback (most recent call last)",
      "Cell \u001b[1;32mIn[6], line 1\u001b[0m\n\u001b[1;32m----> 1\u001b[0m \u001b[38;5;28mprint\u001b[39m(undeclared_variable)\n",
      "\u001b[1;31mNameError\u001b[0m: name 'undeclared_variable' is not defined"
     ]
    }
   ],
   "source": [
    " print(undeclared_variable) #มีการใช้ตัวแปรที่ยังไม่ได้ประกาศ ทำให้เกิด NameError"
   ]
  },
  {
   "cell_type": "markdown",
   "id": "8aebe5db",
   "metadata": {},
   "source": [
    "#### AttributeError"
   ]
  },
  {
   "cell_type": "code",
   "execution_count": 9,
   "id": "e9c1b835",
   "metadata": {},
   "outputs": [
    {
     "ename": "AttributeError",
     "evalue": "'str' object has no attribute 'not_a_real_method'",
     "output_type": "error",
     "traceback": [
      "\u001b[1;31m---------------------------------------------------------------------------\u001b[0m",
      "\u001b[1;31mAttributeError\u001b[0m                            Traceback (most recent call last)",
      "Cell \u001b[1;32mIn[9], line 1\u001b[0m\n\u001b[1;32m----> 1\u001b[0m \u001b[38;5;124m\"\u001b[39m\u001b[38;5;124mhello\u001b[39m\u001b[38;5;124m\"\u001b[39m\u001b[38;5;241m.\u001b[39mnot_a_real_method()\n",
      "\u001b[1;31mAttributeError\u001b[0m: 'str' object has no attribute 'not_a_real_method'"
     ]
    }
   ],
   "source": [
    "\"hello\".not_a_real_method() #มีการเรียกใช้ method ที่ไม่มีอยู่ ทำให้เกิด AttributeError"
   ]
  },
  {
   "cell_type": "markdown",
   "id": "dc6f3762",
   "metadata": {},
   "source": [
    "#### TypeError"
   ]
  },
  {
   "cell_type": "code",
   "execution_count": 10,
   "id": "6045842f",
   "metadata": {},
   "outputs": [
    {
     "ename": "TypeError",
     "evalue": "can only concatenate str (not \"int\") to str",
     "output_type": "error",
     "traceback": [
      "\u001b[1;31m---------------------------------------------------------------------------\u001b[0m",
      "\u001b[1;31mTypeError\u001b[0m                                 Traceback (most recent call last)",
      "Cell \u001b[1;32mIn[10], line 1\u001b[0m\n\u001b[1;32m----> 1\u001b[0m \u001b[38;5;124m\"\u001b[39m\u001b[38;5;124m2\u001b[39m\u001b[38;5;124m\"\u001b[39m\u001b[38;5;241m+\u001b[39m\u001b[38;5;241m2\u001b[39m\n",
      "\u001b[1;31mTypeError\u001b[0m: can only concatenate str (not \"int\") to str"
     ]
    }
   ],
   "source": [
    "\"2\"+2 #มีการพยายามบวก string กับ integer ทำให้เกิด TypeError"
   ]
  },
  {
   "cell_type": "markdown",
   "id": "bbe702f0",
   "metadata": {},
   "source": [
    "#### ValueError"
   ]
  },
  {
   "cell_type": "code",
   "execution_count": 11,
   "id": "38b562cf",
   "metadata": {},
   "outputs": [
    {
     "ename": "ValueError",
     "evalue": "invalid literal for int() with base 10: 'not_a_number'",
     "output_type": "error",
     "traceback": [
      "\u001b[1;31m---------------------------------------------------------------------------\u001b[0m",
      "\u001b[1;31mValueError\u001b[0m                                Traceback (most recent call last)",
      "Cell \u001b[1;32mIn[11], line 1\u001b[0m\n\u001b[1;32m----> 1\u001b[0m \u001b[38;5;28mint\u001b[39m(\u001b[38;5;124m\"\u001b[39m\u001b[38;5;124mnot_a_number\u001b[39m\u001b[38;5;124m\"\u001b[39m)\n",
      "\u001b[1;31mValueError\u001b[0m: invalid literal for int() with base 10: 'not_a_number'"
     ]
    }
   ],
   "source": [
    "int(\"not_a_number\") # มีการพยายามแปลง string ที่ไม่ใช่ตัวเลขเป็น integer ทำให้เกิด ValueError"
   ]
  },
  {
   "cell_type": "markdown",
   "id": "d9ed95aa",
   "metadata": {},
   "source": [
    "## 9. Function <a id='func'></a>\n",
    "เป็นการสร้างชุดคำสั่งที่จะทำแบบเดิมทุกครั้งที่ได้รับข้อมูลเข้ามา \n",
    "> ทำให้มีข้อดีคือเราไม่ต้องเขียนชุดคำสั่งนั้นหลายๆครั้งที่ต้องมีการเปลี่ยนตัวแปรที่เก็บข้อมูล ซึ่งการเขียนหลายครั้งอาจจะทำให้เกิด Human Error ที่ทำให้เกิดบัคได้ อีกทั้งยังทำให้โค้ดที่เราเขียนอ่านง่ายขึ้นอีกด้วย"
   ]
  },
  {
   "cell_type": "markdown",
   "id": "2d3a5d4e",
   "metadata": {},
   "source": [
    "<b>ตัวอย่าง: หาพื้นที่รูปสี่เหลี่ยมพื้นผ้า </b> เราต้องใช้ width (ความกว้าง), lenght (ความยาว), และ area (พื้นที่) ดังตัวอย่างด้านล่างนี้"
   ]
  },
  {
   "cell_type": "markdown",
   "id": "4c8029fa",
   "metadata": {},
   "source": [
    "การเขียนแบบไม่ใช้ function"
   ]
  },
  {
   "cell_type": "code",
   "execution_count": 53,
   "id": "042289e0",
   "metadata": {},
   "outputs": [
    {
     "name": "stdout",
     "output_type": "stream",
     "text": [
      "Equation1: 2\n",
      "Equation2: 10\n",
      "Equation3: 100\n"
     ]
    }
   ],
   "source": [
    "#Equation1\n",
    "Width = 1\n",
    "Lenght = 2\n",
    "Area = Width*Lenght\n",
    "print('Equation1:',Area)\n",
    "#Equation2\n",
    "Width_1 = 2\n",
    "Lenght_1 = 5\n",
    "Area_1 = Width_1*Lenght_1\n",
    "print('Equation2:',Area_1)\n",
    "#Equation3\n",
    "Width_2 = 10\n",
    "Lenght_2 = 10\n",
    "Area_2 = Width_2*Lenght_2\n",
    "print('Equation3:',Area_2)"
   ]
  },
  {
   "cell_type": "markdown",
   "id": "d9fe2e8a",
   "metadata": {},
   "source": [
    "การเขียนโดยใช้ Function"
   ]
  },
  {
   "cell_type": "code",
   "execution_count": 3,
   "id": "bd18c4ed",
   "metadata": {},
   "outputs": [],
   "source": [
    "def Equation(A,B):\n",
    "    Area = A*B\n",
    "    return Area"
   ]
  },
  {
   "cell_type": "code",
   "execution_count": 7,
   "id": "a0c01252",
   "metadata": {},
   "outputs": [
    {
     "name": "stdout",
     "output_type": "stream",
     "text": [
      "Equation 1:  2\n",
      "Equation 2:  10\n",
      "Equation 3:  100\n"
     ]
    }
   ],
   "source": [
    "print('Equation 1: ', Equation(1,2))\n",
    "print('Equation 2: ', Equation(2,5))\n",
    "print('Equation 3: ', Equation(10,10))"
   ]
  },
  {
   "cell_type": "markdown",
   "id": "73611608",
   "metadata": {},
   "source": [
    "## 10. Class <a id='class'></a>\n",
    "ในภาษาโปรแกรมเชิงวัตถุ (Object-Oriented Programming หรือ OOP) \"class\" คือแม่แบบหรือพิมพ์เขียวสำหรับสร้างวัตถุ (objects) โดย class จะกำหนดโครงสร้างและพฤติกรรมของวัตถุเหล่านั้น\n",
    "\n",
    "Class ประกอบด้วยสองส่วนหลักๆ คือ:\n",
    "\n",
    "- Attributes: ตัวแปรที่เก็บข้อมูลของวัตถุ \n",
    "- Methods: ฟังก์ชันที่กำหนดพฤติกรรมหรือการทำงานของวัตถุ\n",
    "\n",
    "ในภาษา Python เราสร้าง class ได้ดังนี้:\n"
   ]
  },
  {
   "cell_type": "code",
   "execution_count": 4,
   "id": "46474c2b",
   "metadata": {},
   "outputs": [],
   "source": [
    "class Basic:\n",
    "    a = 1 #กำหนด attribute a = 1\n",
    "    b = 2 #กำหนด attribute b = 2\n",
    "    def plus(self):\n",
    "        print(self.a+self.b)"
   ]
  },
  {
   "cell_type": "code",
   "execution_count": 5,
   "id": "2819b364",
   "metadata": {},
   "outputs": [
    {
     "name": "stdout",
     "output_type": "stream",
     "text": [
      "3\n"
     ]
    }
   ],
   "source": [
    "x = Basic()# สร้าง object\n",
    "x.plus() #ใช้ method plus ซึ่งจะพิมพ์ผลลัพธ์ของ 1 + 2 คือ 3"
   ]
  },
  {
   "cell_type": "markdown",
   "id": "3f6e0de5",
   "metadata": {},
   "source": [
    "เราสามารถค่าเปลี่ยนใน class ได้ดังนี้:"
   ]
  },
  {
   "cell_type": "code",
   "execution_count": 7,
   "id": "b3e63c4a",
   "metadata": {},
   "outputs": [
    {
     "name": "stdout",
     "output_type": "stream",
     "text": [
      "5\n"
     ]
    }
   ],
   "source": [
    "x.a = 3 \n",
    "x.plus()"
   ]
  },
  {
   "attachments": {
    "image.png": {
     "image/png": "[encoded data removed]"
    }
   },
   "cell_type": "markdown",
   "id": "787d3430",
   "metadata": {},
   "source": [
    "ตัวอย่าง:class User ที่มี Attribute: name และ Methods: sayHello()\n",
    "![image.png](attachment:image.png)"
   ]
  },
  {
   "cell_type": "code",
   "execution_count": 8,
   "id": "23061776",
   "metadata": {},
   "outputs": [],
   "source": [
    "#This is the User class\n",
    "#It contain one attribute, name, and one function, sayHello()\n",
    "\n",
    "class User:\n",
    "    name = \"\"  # ตัวอย่างการกำหนดแอตทริบิวต์\n",
    "    \n",
    "    def __init__(self, name):  # constructor เมธอดที่ใช้ในการสร้างวัตถุ\n",
    "        self.name = name #Assign the value to an instances attribute\n",
    "    \n",
    "    def sayHello(self):  # Methods ที่ใช้ในการแสดงข้อความ\n",
    "        print(\"Hello, my name is \" + self.name)\n",
    "\n",
    "\n"
   ]
  },
  {
   "cell_type": "markdown",
   "id": "62c60ff2",
   "metadata": {},
   "source": [
    "จากนั้นเราสามารถสร้างวัตถุ (instances) จาก class ได้ดังนี้:"
   ]
  },
  {
   "cell_type": "code",
   "execution_count": 9,
   "id": "4a8e363d",
   "metadata": {},
   "outputs": [],
   "source": [
    "james = User(\"James\") #create object ที่ชื่อว่า James โดยเรียกใช้ Class ที่เรียกว่า User แล้วมีการส่งค่า name = James\n",
    "david = User(\"David\") #create object ที่ชื่อว่า David โดยเรียกใช้ Class ที่เรียกว่า User แล้วมีการส่งค่า name = David\n",
    "eric = User(\"Eric\") #create object ที่ชื่อว่า Eric โดยเรียกใช้ Class ที่เรียกว่า User แล้วมมีการส่งค่า name = Eric"
   ]
  },
  {
   "cell_type": "markdown",
   "id": "02b2a749",
   "metadata": {},
   "source": [
    "เราสามารถเรียกใช้เมธอด sayHello() ของแต่ละวัตถุได้ดังนี้:"
   ]
  },
  {
   "cell_type": "code",
   "execution_count": 10,
   "id": "53e2097a",
   "metadata": {},
   "outputs": [
    {
     "name": "stdout",
     "output_type": "stream",
     "text": [
      "Hello, my name is James\n",
      "Hello, my name is David\n",
      "Hello, my name is Eric\n"
     ]
    }
   ],
   "source": [
    "james.sayHello()  # ผลลัพธ์: Hello, my name is James\n",
    "david.sayHello()  # ผลลัพธ์: Hello, my name is David\n",
    "eric.sayHello() # ผลลัพธ์: Hello, my name is Eric"
   ]
  },
  {
   "cell_type": "markdown",
   "id": "52188efc",
   "metadata": {},
   "source": [
    "## 11. Input/Output <a id='io'></a>"
   ]
  },
  {
   "cell_type": "markdown",
   "id": "95ccccbd",
   "metadata": {},
   "source": [
    "การอ่านข้อมูลจากภายนอกมาเพื่อประมวลผลผ่านโปรแกรมที่เราเขียน และการนำผลลัพธ์ที่ได้มาเขียนใส่ไฟล์ใหม่ภายนอก"
   ]
  },
  {
   "cell_type": "markdown",
   "id": "8b46e939",
   "metadata": {},
   "source": [
    "### 1. การอ่านข้อมูลภายนอกเข้ามาในโปรแกรม (Input)\n",
    "\n",
    "> โดยการอ่านไฟล์ในระดับพื้นฐาน จะใช้คำสั่ง open เพื่อเปิดไฟล์นั้นๆก่อนแล้วถึงจะใช้คำสั่ง read ในรูปแบบต่างๆ ในการอ่านข้อมูลเข้า\n",
    "\n",
    "คำสั่ง open จะมีหลายโหมดให้เลือกใช้แต่ในการอ่านส่วนใหญ่แล้วเราจะใช้ \"r\" เพื่อเป็นการระบุว่าเราจะใช้โหมดอ่าน"
   ]
  },
  {
   "cell_type": "markdown",
   "id": "4ea2c8ca",
   "metadata": {},
   "source": [
    "#### 1.1 คำสั่ง open เพื่ออ่านข้อมูลรูปแบบที่ 1"
   ]
  },
  {
   "cell_type": "markdown",
   "id": "8cc7a63b",
   "metadata": {},
   "source": [
    "ทำการเปิด file ที่เราต้องการอ่าน"
   ]
  },
  {
   "cell_type": "code",
   "execution_count": 11,
   "id": "cfbf6070",
   "metadata": {},
   "outputs": [],
   "source": [
    "file = open(\"DemoFile.txt\", \"r\")"
   ]
  },
  {
   "cell_type": "markdown",
   "id": "2a63c2ca",
   "metadata": {},
   "source": [
    "เริ่มการอ่านไฟล์"
   ]
  },
  {
   "cell_type": "code",
   "execution_count": 12,
   "id": "95974f9c",
   "metadata": {},
   "outputs": [
    {
     "name": "stdout",
     "output_type": "stream",
     "text": [
      "Hello, this is the Basic Python Programming program.\n",
      "In this program, you will learn about all the required basics for data management.\n",
      "Therefore, GOOD LUCK and have fun.\n"
     ]
    }
   ],
   "source": [
    "#วิธีที่ 1 การอ่านทีทั้งหมดทีเดียวโดยใช้คำสั่ง .read() ต่อจากตัวแปรที่เราเปิดตัว file ที่เราสนใจไว้\n",
    "file = open(\"DemoFile.txt\", \"r\")\n",
    "print(file.read())"
   ]
  },
  {
   "cell_type": "code",
   "execution_count": 17,
   "id": "4a8abd67",
   "metadata": {},
   "outputs": [
    {
     "name": "stdout",
     "output_type": "stream",
     "text": [
      "Hello, this is the Basic Python Programming program.\n",
      "\n",
      "In this program, you will learn about all the required basics for data management.\n",
      "\n",
      "Therefore, GOOD LUCK and have fun.\n"
     ]
    }
   ],
   "source": [
    "#วิธีที่ 2 การอ่านทีละบรรทัดโดยใช้คำสั่ง .readline() ต่อจากตัวแปรที่เราเปิดตัว file ที่เราสนใจไว้\n",
    "#การใช้ readline เหมาะสำหรับการใช้เมื่อเราเจอข้อมูลที่เป็นข้อมูลขนาดใหญ่ เพราะ คอมพิวเตอร์ของเราไม่สามารถเปิดได้ทีเดียวทั้งหมด\n",
    "file = open(\"DemoFile.txt\", \"r\")\n",
    "print(file.readline())\n",
    "print(file.readline())\n",
    "print(file.readline())"
   ]
  },
  {
   "cell_type": "markdown",
   "id": "091179ca",
   "metadata": {},
   "source": [
    "<b>NOTE: การใช้การเปิดข้อมูลด้วยวิธีนี้จำเป็นต้องทำการปิด file ที่เราเปิดไว้เสมอ</b>"
   ]
  },
  {
   "cell_type": "code",
   "execution_count": 18,
   "id": "6a602f93",
   "metadata": {},
   "outputs": [],
   "source": [
    "file.close()"
   ]
  },
  {
   "cell_type": "markdown",
   "id": "abd8353b",
   "metadata": {},
   "source": [
    "#### 1.2 คำสั่ง open เพื่ออ่านข้อมูลรูปแบบที่ 2\n",
    "> วิธีนี้เราไม่ต้องปิด ตัวแปรที่เราเปิด file ไว้ แต่เราต้องทำงานกับข้อมูลที่เราเปิดจาก file นั้นภายใน indent หรือ ย่อหน้านั้นๆ"
   ]
  },
  {
   "cell_type": "code",
   "execution_count": 19,
   "id": "e682ea18",
   "metadata": {},
   "outputs": [],
   "source": [
    "text_collection = ''"
   ]
  },
  {
   "cell_type": "code",
   "execution_count": 20,
   "id": "5bef2bf7",
   "metadata": {},
   "outputs": [
    {
     "name": "stdout",
     "output_type": "stream",
     "text": [
      "Hello, this is the Basic Python Programming program.\n",
      "In this program, you will learn about all the required basics for data management.\n",
      "Therefore, GOOD LUCK and have fun.\n"
     ]
    }
   ],
   "source": [
    "with open(\"DemoFile.txt\", 'r') as file:\n",
    "    content = file.read() #ทำการอ่านข้อมูลทั้งหมดโดยใช้ .read()\n",
    "    text_collection = content #ถ้าต้องการเก็บข้อมูลไปใช้ต่อ ในกรณีนี้เราเก็บใส่ string เปล่าที่เราสร้างเตรียมไว้\n",
    "print(text_collection)"
   ]
  },
  {
   "cell_type": "markdown",
   "id": "eb485855",
   "metadata": {},
   "source": [
    "### 2. การนำข้อมูลที่ประมวลผลเสร็จไปเขียนบันทึกบนไฟล์ใหม่ (Output)\n",
    "\n",
    "> โดยการเขียนไฟล์ในระดับพื้นฐาน จะใช้คำสั่ง open เพื่อเปิดไฟล์นั้นๆก่อนเหมือนการอ่านข้อมูลแต่รอบนี้เราจะใช้คำสั่ง write ในการเขียนข้อมูลแทน"
   ]
  },
  {
   "cell_type": "markdown",
   "id": "93e08233",
   "metadata": {},
   "source": [
    "<b>ตัวอย่าง: เราต้องการจะเขียนข้อมูลที่เราอ่านมาได้จากขั้นที่แล้วไปเขียนไฟล์ใหม่โดยตัดประโยคแรกออกไป</b>\n",
    "    \n",
    "ตัดออก -> Hello, this is the Basic Python Programming program.\n",
    "\n",
    "นำไปเขียนไฟล์ -> In this program, you will learn about all the required basics for data management.\n",
    "\n",
    "นำไปเขียนไฟล์ -> Therefore, GOOD LUCK and have fun."
   ]
  },
  {
   "cell_type": "markdown",
   "id": "2b1dbd40",
   "metadata": {},
   "source": [
    "<b>TIPS: ข้อมูลประเภท string มีคำสั่ง split() ใช้ในการแยกข้อความออกจากกัน โดยระบุข้อความที่เราจะใช้ในการแยกข้อความออกจากกันได้</b>"
   ]
  },
  {
   "cell_type": "code",
   "execution_count": 21,
   "id": "4485b15f",
   "metadata": {},
   "outputs": [
    {
     "name": "stdout",
     "output_type": "stream",
     "text": [
      "Original text\n",
      "--------------------------------------------------\n",
      "Hello, this is the Basic Python Programming program.\n",
      "In this program, you will learn about all the required basics for data management.\n",
      "Therefore, GOOD LUCK and have fun.\n",
      "\n",
      "\n",
      "Splitted text\n",
      "--------------------------------------------------\n",
      "['Hello, this is the Basic Python Programming program.', 'In this program, you will learn about all the required basics for data management.', 'Therefore, GOOD LUCK and have fun.']\n"
     ]
    }
   ],
   "source": [
    "#ตอนแรกเรามีข้อมูลที่ติดกันหมดเนื่องจากเราอ่านมาด้วยคำสั่ง .read() ที่เป็นการอ่านทั้งหมด\n",
    "print('Original text')\n",
    "print('-'*50)\n",
    "print(text_collection)\n",
    "print('\\n')\n",
    "\n",
    "#เราต้องทำการแบ่งข้อมูลแต่ละบรรทัดออกมา\n",
    "#ซึ่งเรารู้ว่าข้อความต่างๆถูกแบ่งด้วย \\n \n",
    "#(ทุกๆการขึ้นบรรทัดใหม่ทุกครั้งจะมีคอมพิวเตอร์จะมีการเพิ่มค่าลงไปใน string เพื่อระบุว่าหลังจากนี้จะเป็นการขึ้นบรรทัดใหม่นั้นคือ \\n)\n",
    "#ดังนั้นเราสามารถใช้คำสั่ง .split('\\n') เพื่อแบ่งข้อความที่เรามี และเราจะได้ผลลัพธ์ออกมาเป็น List ของข้อมูลในแต่ละบรรทัด\n",
    "inline_content = text_collection.split('\\n')\n",
    "\n",
    "print('Splitted text')\n",
    "print('-'*50)\n",
    "print(inline_content)"
   ]
  },
  {
   "cell_type": "markdown",
   "id": "31baadfa",
   "metadata": {},
   "source": [
    "เริ่มทำการเขียนข้อมูลลงในไฟล์ใหม่ <b>โดยในการเขียนไฟล์เราใช้ open ในโหมดการเขียนนั่นโดยใช้คำสั่งว่า \"w\"</b>\n",
    ">โดยในการเขียนเราสามารถใช้คำสั่ง .write() ตามหลังตัวแปรที่เราเปิดไฟล์ไว้ได้เลย และภายในวงเล็บให้เติมสิ่งที่เราอยากจะเขียนลงไป"
   ]
  },
  {
   "cell_type": "code",
   "execution_count": 22,
   "id": "70897301",
   "metadata": {},
   "outputs": [],
   "source": [
    "with open(\"OutFile.txt\", 'w') as outfile:\n",
    "    \n",
    "    outfile.write(inline_content[0]) #เขียนข้อมูลใน line แรกลงไปในไฟล์ใหม่\n",
    "    \n",
    "    #เนื่องจากหลังจากการใช้ split การขึ้นบรรทัดใหม่หายไปจึงทำให้จำเป็นต้องเติม \\n ลงไปไม่เช่นนั้นข้อมูลทั้งหมดจะติดกัน\n",
    "    #เช่น Hello, this is the Basic Python Programming program.Therefore, GOOD LUCK and have fun.\n",
    "    outfile.write('\\n')\n",
    "    \n",
    "    outfile.write(inline_content[2]) #เขียนข้อมูลใน line ที่ 3 ลงไปในไฟล์ใหม่"
   ]
  },
  {
   "cell_type": "markdown",
   "id": "8e496e32",
   "metadata": {},
   "source": [
    "## 12. Modules & Packages <a id='mdpc'></a>\n",
    "-- Module คือ ไฟล์ของโปรแกรมที่กำหนดตัวแปร ฟังก์ชัน หรือคลาสโดยแบ่งย่อยออกไปจากโปรแกรมหลัก และสามารถนำมาใช้งานได้โดยการนำเข้ามาในโปรแกรม (Import) "
   ]
  },
  {
   "cell_type": "markdown",
   "id": "09214e7c",
   "metadata": {},
   "source": [
    "### Import Module"
   ]
  },
  {
   "cell_type": "code",
   "execution_count": 22,
   "id": "b34681dd",
   "metadata": {},
   "outputs": [
    {
     "data": {
      "text/plain": [
       "3.141592653589793"
      ]
     },
     "execution_count": 22,
     "metadata": {},
     "output_type": "execute_result"
    }
   ],
   "source": [
    "import math\n",
    "math.pi"
   ]
  },
  {
   "cell_type": "code",
   "execution_count": 23,
   "id": "69e1722b",
   "metadata": {},
   "outputs": [
    {
     "data": {
      "text/plain": [
       "module"
      ]
     },
     "execution_count": 23,
     "metadata": {},
     "output_type": "execute_result"
    }
   ],
   "source": [
    "type(math)"
   ]
  },
  {
   "cell_type": "markdown",
   "id": "c3794795",
   "metadata": {},
   "source": [
    "การตั้งชื่อให้ module เพื่อความสะดวกสบายในการเรียกใช้งาน"
   ]
  },
  {
   "cell_type": "code",
   "execution_count": 27,
   "id": "1ac77ca2",
   "metadata": {},
   "outputs": [
    {
     "data": {
      "text/plain": [
       "[<matplotlib.lines.Line2D at 0x1b753e05590>]"
      ]
     },
     "execution_count": 27,
     "metadata": {},
     "output_type": "execute_result"
    },
    {
     "data": {
      "image/png": "[encoded data removed]",
      "text/plain": [
       "<Figure size 640x480 with 1 Axes>"
      ]
     },
     "metadata": {},
     "output_type": "display_data"
    }
   ],
   "source": [
    "import matplotlib.pyplot as plt\n",
    "x = [1,2,3,4,5]\n",
    "y = [2,3,5,7,9]\n",
    "plt.plot(x,y)"
   ]
  },
  {
   "cell_type": "markdown",
   "id": "1e5a4437",
   "metadata": {},
   "source": [
    "### Create your own Module \n",
    "- การสร้าง module สามารถทำได้โดยเขียนฟังก์ชันแล้ว export เป็นไฟล์นามสกุล .py"
   ]
  },
  {
   "cell_type": "code",
   "execution_count": 12,
   "id": "2a739fd4",
   "metadata": {},
   "outputs": [
    {
     "name": "stdout",
     "output_type": "stream",
     "text": [
      "hi\n"
     ]
    }
   ],
   "source": [
    "import testtest as M\n",
    "M.fun()"
   ]
  },
  {
   "cell_type": "markdown",
   "id": "83be6b0c",
   "metadata": {},
   "source": [
    "### Packages\n",
    "การจัดกลุ่มของโมดูล (module) หรือไลบรารี (library)และในPython การใช้แพ็กเกจช่วยให้การจัดการและโครงสร้างโค้ดเป็นระเบียบมากขึ้น \n",
    "\n",
    "ตัวอย่างของแพ็กเกจยอดนิยมใน Python ได้แก่:\n",
    "+ NumPy: ใช้สำหรับการคำนวณทางคณิตศาสตร์และการจัดการอาร์เรย์\n",
    "+ Pandas: ใช้สำหรับการจัดการและการวิเคราะห์ข้อมูล\n",
    "+ Matplotlib: ใช้สำหรับการสร้างกราฟและการแสดงผลข้อมูล\n",
    "+ Scikit-learn: ใช้สำหรับการเรียนรู้ของเครื่อง (machine learning)\n",
    "+ Requests: ใช้สำหรับการทำ HTTP requests"
   ]
  },
  {
   "cell_type": "code",
   "execution_count": null,
   "id": "b22bd6ff",
   "metadata": {},
   "outputs": [],
   "source": []
  }
 ],
 "metadata": {
  "kernelspec": {
   "display_name": "Python 3 (ipykernel)",
   "language": "python",
   "name": "python3"
  },
  "language_info": {
   "codemirror_mode": {
    "name": "ipython",
    "version": 3
   },
   "file_extension": ".py",
   "mimetype": "text/x-python",
   "name": "python",
   "nbconvert_exporter": "python",
   "pygments_lexer": "ipython3",
   "version": "3.11.4"
  }
 },
 "nbformat": 4,
 "nbformat_minor": 5
}
