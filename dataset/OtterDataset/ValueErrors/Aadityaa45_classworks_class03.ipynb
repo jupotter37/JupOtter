{
 "cells": [
  {
   "cell_type": "code",
   "execution_count": 6,
   "id": "0652fd12-9eb9-4919-9ed3-8644b190d4b1",
   "metadata": {},
   "outputs": [
    {
     "name": "stdin",
     "output_type": "stream",
     "text": [
      "enter the number n:- 4\n",
      "enter the number m:- 5\n"
     ]
    },
    {
     "name": "stdout",
     "output_type": "stream",
     "text": [
      "1\n",
      "2\n"
     ]
    }
   ],
   "source": [
    "n = int(input(\"enter the number n:-\"))\n",
    "m = int(input(\"enter the number m:-\"))\n",
    "remaindern = n%2\n",
    "rn = (remaindern==0)\n",
    "remainderm = m%2\n",
    "rm = (remainderm==0)\n",
    "if rn:\n",
    "    print(1)\n",
    "else:\n",
    "    print(3)\n",
    "if(rn and rm):\n",
    "    print(1)\n",
    "if(rn or rm):\n",
    "    print(2)\n",
    "##it is also true but using conditional operators make it more memory consuming and make bigger stack"
   ]
  },
  {
   "cell_type": "code",
   "execution_count": 7,
   "id": "5ccf5666-db2c-41b9-9ce2-69a927a44ad2",
   "metadata": {},
   "outputs": [
    {
     "name": "stdin",
     "output_type": "stream",
     "text": [
      "enter the number n:- 4\n",
      "enter the number m:- 5\n"
     ]
    },
    {
     "name": "stdout",
     "output_type": "stream",
     "text": [
      "1\n",
      "2\n"
     ]
    }
   ],
   "source": [
    "n = int(input(\"enter the number n:-\"))\n",
    "m = int(input(\"enter the number m:-\"))\n",
    "if n%2==0:\n",
    "    print(\"1\")\n",
    "    if m%2==0:\n",
    "        print(\"1\")\n",
    "    else:\n",
    "        print(\"2\")\n",
    "else:\n",
    "    print(\"3\")\n",
    "##it is more efficient because no conditional operators are used here which reduce the stack "
   ]
  },
  {
   "cell_type": "code",
   "execution_count": 12,
   "id": "ca755151-b8f9-4edb-9bd1-7e8f6e3e6f27",
   "metadata": {},
   "outputs": [
    {
     "name": "stdin",
     "output_type": "stream",
     "text": [
      "enter which ott platform netflix or amzon prime:- netflix\n"
     ]
    },
    {
     "name": "stdout",
     "output_type": "stream",
     "text": [
      "Horror\n",
      "\n",
      "thriller\n"
     ]
    }
   ],
   "source": [
    "channel = input(\"enter which ott platform netflix or amzon prime:-\")\n",
    "if(channel==\"netflix\"):\n",
    "    print(\"Horror\\n\")\n",
    "    print(\"thriller\")\n",
    "else:\n",
    "    print(\"comedy\\n\")\n",
    "    print(\"humor\")\n",
    "                "
   ]
  },
  {
   "cell_type": "code",
   "execution_count": 19,
   "id": "0995e9b8-8522-4b2a-866d-881d34c1b738",
   "metadata": {},
   "outputs": [
    {
     "name": "stdin",
     "output_type": "stream",
     "text": [
      "enter the ott platform netflix or amazon prime netflix\n"
     ]
    },
    {
     "name": "stdout",
     "output_type": "stream",
     "text": [
      "horror\n",
      "\n",
      "thriller\n",
      "\n"
     ]
    },
    {
     "name": "stdin",
     "output_type": "stream",
     "text": [
      "select one out of it:- horror\n"
     ]
    },
    {
     "name": "stdout",
     "output_type": "stream",
     "text": [
      "you can watch conjuring2\n"
     ]
    }
   ],
   "source": [
    "channel = input(\"enter the ott platform netflix or amazon prime\")\n",
    "if(channel==\"netflix\"):\n",
    "    print(\"horror\\n\")\n",
    "    print(\"thriller\\n\")\n",
    "    option = input(\"select one out of it:-\")\n",
    "    if(option==\"horror\"):\n",
    "        print(\"you can watch conjuring2\")\n",
    "    else:\n",
    "        print(\"you can watch man in black for thriller\")\n",
    "else:\n",
    "    print(\"comedy\\n\")\n",
    "    print(\"humor\\n\")\n",
    "    newoption = input(\"select the one out of it\")\n",
    "    if(newoption==\"comedy\"):\n",
    "        print(\"you can watch dhamaal\")\n",
    "    else:\n",
    "        print(\"you can watch drishyam for humor\")"
   ]
  },
  {
   "cell_type": "code",
   "execution_count": 17,
   "id": "a15e2beb-45ad-4a41-a03c-931c0ca474fe",
   "metadata": {},
   "outputs": [
    {
     "name": "stdin",
     "output_type": "stream",
     "text": [
      "enter the number: 4\n"
     ]
    },
    {
     "name": "stdout",
     "output_type": "stream",
     "text": [
      "yellow\n"
     ]
    }
   ],
   "source": [
    "n = int(input(\"enter the number:\"))\n",
    "if(n>10):\n",
    "    print(\"red\")\n",
    "elif(5<=n<=10):\n",
    "    print(\"green\")\n",
    "elif(0<n<5):\n",
    "    print(\"yellow\")\n",
    "##https://pythontutor.com/render.html#mode=display we can check how programme runs in steps"
   ]
  },
  {
   "cell_type": "code",
   "execution_count": 16,
   "id": "e906c606-7ac5-4980-9c0a-cb3c9e490121",
   "metadata": {},
   "outputs": [
    {
     "name": "stdin",
     "output_type": "stream",
     "text": [
      "enter the number: 12\n"
     ]
    },
    {
     "name": "stdout",
     "output_type": "stream",
     "text": [
      "green\n"
     ]
    }
   ],
   "source": [
    "n = int(input(\"enter the number:\"))\n",
    "if(n>=5):\n",
    "    print(\"green\")\n",
    "elif(n>10):\n",
    "    print(\"red\")"
   ]
  },
  {
   "cell_type": "code",
   "execution_count": 36,
   "id": "61397cfc-1bb7-4416-9355-8d2e9cf127be",
   "metadata": {},
   "outputs": [
    {
     "name": "stdin",
     "output_type": "stream",
     "text": [
      "enter the password:- aaditya45\n"
     ]
    },
    {
     "name": "stdout",
     "output_type": "stream",
     "text": [
      "0 a\n",
      "1 a\n",
      "2 d\n",
      "3 i\n",
      "4 t\n",
      "5 y\n",
      "6 a\n",
      "7 4\n",
      "the password contains the digit\n"
     ]
    }
   ],
   "source": [
    "password = input(\"enter the password:-\")\n",
    "i = 0\n",
    "while(i<len(password)):\n",
    "    print(i,password[i])\n",
    "    if(password[i].isdigit()):\n",
    "        print(\"the password contains the digit\")\n",
    "        break\n",
    "    i = i+1\n"
   ]
  },
  {
   "cell_type": "code",
   "execution_count": 26,
   "id": "3985b4b0-8390-47d1-bddf-9b690a92fe66",
   "metadata": {},
   "outputs": [
    {
     "name": "stdout",
     "output_type": "stream",
     "text": [
      "Welcome to Python 3.12's help utility! If this is your first time using\n",
      "Python, you should definitely check out the tutorial at\n",
      "https://docs.python.org/3.12/tutorial/.\n",
      "\n",
      "Enter the name of any module, keyword, or topic to get help on writing\n",
      "Python programs and using Python modules.  To get a list of available\n",
      "modules, keywords, symbols, or topics, enter \"modules\", \"keywords\",\n",
      "\"symbols\", or \"topics\".\n",
      "\n",
      "Each module also comes with a one-line summary of what it does; to list\n",
      "the modules whose name or summary contain a given string such as \"spam\",\n",
      "enter \"modules spam\".\n",
      "\n",
      "To quit this help utility and return to the interpreter,\n",
      "enter \"q\" or \"quit\".\n",
      "\n"
     ]
    },
    {
     "name": "stdin",
     "output_type": "stream",
     "text": [
      "help>  string\n"
     ]
    },
    {
     "name": "stdout",
     "output_type": "stream",
     "text": [
      "Help on module string:\n",
      "\n",
      "NAME\n",
      "    string - A collection of string constants.\n",
      "\n",
      "MODULE REFERENCE\n",
      "    https://docs.python.org/3.12/library/string.html\n",
      "\n",
      "    The following documentation is automatically generated from the Python\n",
      "    source files.  It may be incomplete, incorrect or include features that\n",
      "    are considered implementation detail and may vary between Python\n",
      "    implementations.  When in doubt, consult the module reference at the\n",
      "    location listed above.\n",
      "\n",
      "DESCRIPTION\n",
      "    Public module variables:\n",
      "\n",
      "    whitespace -- a string containing all ASCII whitespace\n",
      "    ascii_lowercase -- a string containing all ASCII lowercase letters\n",
      "    ascii_uppercase -- a string containing all ASCII uppercase letters\n",
      "    ascii_letters -- a string containing all ASCII letters\n",
      "    digits -- a string containing all ASCII decimal digits\n",
      "    hexdigits -- a string containing all ASCII hexadecimal digits\n",
      "    octdigits -- a string containing all ASCII octal digits\n",
      "    punctuation -- a string containing all ASCII punctuation characters\n",
      "    printable -- a string containing all ASCII characters considered printable\n",
      "\n",
      "CLASSES\n",
      "    builtins.object\n",
      "        Formatter\n",
      "        Template\n",
      "\n",
      "    class Formatter(builtins.object)\n",
      "     |  Methods defined here:\n",
      "     |\n",
      "     |  check_unused_args(self, used_args, args, kwargs)\n",
      "     |\n",
      "     |  convert_field(self, value, conversion)\n",
      "     |\n",
      "     |  format(self, format_string, /, *args, **kwargs)\n",
      "     |\n",
      "     |  format_field(self, value, format_spec)\n",
      "     |\n",
      "     |  get_field(self, field_name, args, kwargs)\n",
      "     |      # given a field_name, find the object it references.\n",
      "     |      #  field_name:   the field being looked up, e.g. \"0.name\"\n",
      "     |      #                 or \"lookup[3]\"\n",
      "     |      #  used_args:    a set of which args have been used\n",
      "     |      #  args, kwargs: as passed in to vformat\n",
      "     |\n",
      "     |  get_value(self, key, args, kwargs)\n",
      "     |\n",
      "     |  parse(self, format_string)\n",
      "     |      # returns an iterable that contains tuples of the form:\n",
      "     |      # (literal_text, field_name, format_spec, conversion)\n",
      "     |      # literal_text can be zero length\n",
      "     |      # field_name can be None, in which case there's no\n",
      "     |      #  object to format and output\n",
      "     |      # if field_name is not None, it is looked up, formatted\n",
      "     |      #  with format_spec and conversion and then used\n",
      "     |\n",
      "     |  vformat(self, format_string, args, kwargs)\n",
      "     |\n",
      "     |  ----------------------------------------------------------------------\n",
      "     |  Data descriptors defined here:\n",
      "     |\n",
      "     |  __dict__\n",
      "     |      dictionary for instance variables\n",
      "     |\n",
      "     |  __weakref__\n",
      "     |      list of weak references to the object\n",
      "\n",
      "    class Template(builtins.object)\n",
      "     |  Template(template)\n",
      "     |\n",
      "     |  A string class for supporting $-substitutions.\n",
      "     |\n",
      "     |  Methods defined here:\n",
      "     |\n",
      "     |  __init__(self, template)\n",
      "     |      Initialize self.  See help(type(self)) for accurate signature.\n",
      "     |\n",
      "     |  get_identifiers(self)\n",
      "     |\n",
      "     |  is_valid(self)\n",
      "     |\n",
      "     |  safe_substitute(self, mapping={}, /, **kws)\n",
      "     |\n",
      "     |  substitute(self, mapping={}, /, **kws)\n",
      "     |\n",
      "     |  ----------------------------------------------------------------------\n",
      "     |  Class methods defined here:\n",
      "     |\n",
      "     |  __init_subclass__() from builtins.type\n",
      "     |      This method is called when a class is subclassed.\n",
      "     |\n",
      "     |      The default implementation does nothing. It may be\n",
      "     |      overridden to extend subclasses.\n",
      "     |\n",
      "     |  ----------------------------------------------------------------------\n",
      "     |  Data descriptors defined here:\n",
      "     |\n",
      "     |  __dict__\n",
      "     |      dictionary for instance variables\n",
      "     |\n",
      "     |  __weakref__\n",
      "     |      list of weak references to the object\n",
      "     |\n",
      "     |  ----------------------------------------------------------------------\n",
      "     |  Data and other attributes defined here:\n",
      "     |\n",
      "     |  braceidpattern = None\n",
      "     |\n",
      "     |  delimiter = '$'\n",
      "     |\n",
      "     |  flags = re.IGNORECASE\n",
      "     |\n",
      "     |  idpattern = '(?a:[_a-z][_a-z0-9]*)'\n",
      "     |\n",
      "     |  pattern = re.compile('\\n            \\\\$(?:\\n              ...identifie...\n",
      "\n",
      "FUNCTIONS\n",
      "    capwords(s, sep=None)\n",
      "        capwords(s [,sep]) -> string\n",
      "\n",
      "        Split the argument into words using split, capitalize each\n",
      "        word using capitalize, and join the capitalized words using\n",
      "        join.  If the optional second argument sep is absent or None,\n",
      "        runs of whitespace characters are replaced by a single space\n",
      "        and leading and trailing whitespace are removed, otherwise\n",
      "        sep is used to split and join the words.\n",
      "\n",
      "DATA\n",
      "    __all__ = ['ascii_letters', 'ascii_lowercase', 'ascii_uppercase', 'cap...\n",
      "    ascii_letters = 'abcdefghijklmnopqrstuvwxyzABCDEFGHIJKLMNOPQRSTUVWXYZ'\n",
      "    ascii_lowercase = 'abcdefghijklmnopqrstuvwxyz'\n",
      "    ascii_uppercase = 'ABCDEFGHIJKLMNOPQRSTUVWXYZ'\n",
      "    digits = '0123456789'\n",
      "    hexdigits = '0123456789abcdefABCDEF'\n",
      "    octdigits = '01234567'\n",
      "    printable = '0123456789abcdefghijklmnopqrstuvwxyzABCDEFGHIJKLMNOPQRSTU...\n",
      "    punctuation = '!\"#$%&\\'()*+,-./:;<=>?@[\\\\]^_`{|}~'\n",
      "    whitespace = ' \\t\\n\\r\\x0b\\x0c'\n",
      "\n",
      "FILE\n",
      "    c:\\users\\asus\\appdata\\local\\programs\\python\\python312\\lib\\string.py\n",
      "\n",
      "\n",
      "\n",
      "You are now leaving help and returning to the Python interpreter.\n",
      "If you want to ask for help on a particular object directly from the\n",
      "interpreter, you can type \"help(object)\".  Executing \"help('string')\"\n",
      "has the same effect as typing a particular string at the help> prompt.\n"
     ]
    }
   ],
   "source": []
  },
  {
   "cell_type": "code",
   "execution_count": null,
   "id": "47615711-7fc8-4558-a19d-de3caa425108",
   "metadata": {},
   "outputs": [],
   "source": [
    "##bookmarks https://peps.python.org/pep-0008/"
   ]
  },
  {
   "cell_type": "code",
   "execution_count": 1,
   "id": "d67ae4d8-f194-4527-a142-b8fb206e3c02",
   "metadata": {},
   "outputs": [
    {
     "name": "stdin",
     "output_type": "stream",
     "text": [
      "enter the age in yy mm dd formats:- 1,0,0\n"
     ]
    },
    {
     "ename": "ValueError",
     "evalue": "invalid literal for int() with base 10: '1,0,0'",
     "output_type": "error",
     "traceback": [
      "\u001b[1;31m---------------------------------------------------------------------------\u001b[0m",
      "\u001b[1;31mValueError\u001b[0m                                Traceback (most recent call last)",
      "Cell \u001b[1;32mIn[1], line 1\u001b[0m\n\u001b[1;32m----> 1\u001b[0m monkey_age \u001b[38;5;241m=\u001b[39m \u001b[38;5;28;43mint\u001b[39;49m\u001b[43m(\u001b[49m\u001b[38;5;28;43minput\u001b[39;49m\u001b[43m(\u001b[49m\u001b[38;5;124;43m\"\u001b[39;49m\u001b[38;5;124;43menter the age in yy mm dd formats:-\u001b[39;49m\u001b[38;5;124;43m\"\u001b[39;49m\u001b[43m)\u001b[49m\u001b[43m)\u001b[49m\n\u001b[0;32m      2\u001b[0m conversion \u001b[38;5;241m=\u001b[39m \u001b[38;5;241m2\u001b[39m,\u001b[38;5;241m8\u001b[39m,\u001b[38;5;241m13\u001b[39m\n",
      "\u001b[1;31mValueError\u001b[0m: invalid literal for int() with base 10: '1,0,0'"
     ]
    }
   ],
   "source": [
    "monkey_age = int(input(\"enter the age in yy mm dd formats:-\"))\n",
    "conversion = 2,8,13\n",
    "human_age = (monkey_age)*(coversion)\n",
    "print(human_age)"
   ]
  },
  {
   "cell_type": "code",
   "execution_count": null,
   "id": "8ecd6168-df07-4558-a6ec-0463a2a95f5a",
   "metadata": {},
   "outputs": [],
   "source": []
  },
  {
   "cell_type": "code",
   "execution_count": null,
   "id": "89a88893-c6d2-4b68-85e3-e8f45300b64e",
   "metadata": {},
   "outputs": [],
   "source": []
  },
  {
   "cell_type": "code",
   "execution_count": null,
   "id": "912c17fc-bd74-498f-b667-5ca58117114e",
   "metadata": {},
   "outputs": [],
   "source": [
    "monkey_year = int(input(\"enter the birth year of monkey:-\"))\n",
    "monkey_month = int(input(\"enter the birth month of monkey:-\"))\n",
    "monkey_days = "
   ]
  },
  {
   "cell_type": "code",
   "execution_count": 1,
   "id": "a5bb7414-422c-4037-99ab-83b51c72f171",
   "metadata": {},
   "outputs": [
    {
     "name": "stdin",
     "output_type": "stream",
     "text": [
      " 430\n"
     ]
    },
    {
     "ename": "NameError",
     "evalue": "name 'digit' is not defined",
     "output_type": "error",
     "traceback": [
      "\u001b[1;31m---------------------------------------------------------------------------\u001b[0m",
      "\u001b[1;31mNameError\u001b[0m                                 Traceback (most recent call last)",
      "Cell \u001b[1;32mIn[1], line 5\u001b[0m\n\u001b[0;32m      3\u001b[0m oddsum \u001b[38;5;241m=\u001b[39m \u001b[38;5;241m0\u001b[39m\n\u001b[0;32m      4\u001b[0m i \u001b[38;5;241m=\u001b[39m \u001b[38;5;241m1\u001b[39m\n\u001b[1;32m----> 5\u001b[0m remainder \u001b[38;5;241m=\u001b[39m \u001b[43mdigit\u001b[49m\u001b[38;5;241m%\u001b[39m\u001b[38;5;241m2\u001b[39m\n\u001b[0;32m      6\u001b[0m r \u001b[38;5;241m=\u001b[39m (remainder\u001b[38;5;241m==\u001b[39m\u001b[38;5;241m0\u001b[39m)\n\u001b[0;32m      7\u001b[0m \u001b[38;5;28;01mwhile\u001b[39;00m(i\u001b[38;5;241m<\u001b[39m\u001b[38;5;241m100\u001b[39m):\n",
      "\u001b[1;31mNameError\u001b[0m: name 'digit' is not defined"
     ]
    }
   ],
   "source": [
    "k = int(input())\n",
    "evensum = 0\n",
    "oddsum = 0\n",
    "i = 1\n",
    "remainder = digit%2\n",
    "r = (remainder==0)\n",
    "while(i<100):\n",
    "    digit = k%10\n",
    "    k = (k-digit)/10\n",
    "    if r:\n",
    "        evensum = evensum + digit\n",
    "    else:\n",
    "        oddsum = oddsum + digit\n",
    "    i = i + 1\n",
    "oddeven_sum = evensum+oddsum\n",
    "print((oddsum),(evensum),(oddeven_sum))\n"
   ]
  },
  {
   "cell_type": "code",
   "execution_count": 13,
   "id": "1844cfc3-f5b3-4663-b901-d4f1e634ff41",
   "metadata": {},
   "outputs": [
    {
     "name": "stdin",
     "output_type": "stream",
     "text": [
      "Enter 430\n"
     ]
    },
    {
     "name": "stdout",
     "output_type": "stream",
     "text": [
      "3 4 7\n"
     ]
    }
   ],
   "source": [
    "number = int(input(\"Enter\"))\n",
    "remainder = 0\n",
    "i=0\n",
    "even_sum=0\n",
    "odd_sum=0\n",
    "while (i<10) : \n",
    "    remainder = number%10 \n",
    "    number = (number-remainder) / 10\n",
    "    if (remainder%2==0) : \n",
    "        even_sum = even_sum + remainder\n",
    "    else :\n",
    "        odd_sum = odd_sum + remainder\n",
    "    i = i + 1\n",
    "final_sum = even_sum + odd_sum \n",
    "print(int(odd_sum),int(even_sum),int(final_sum))"
   ]
  },
  {
   "cell_type": "code",
   "execution_count": 5,
   "id": "8e25bd89-92a7-4fec-905a-3a9d65524c82",
   "metadata": {},
   "outputs": [
    {
     "name": "stdout",
     "output_type": "stream",
     "text": [
      "good night its 20\n"
     ]
    }
   ],
   "source": [
    "import time\n",
    "currenttime = (time.strftime('%H:%M:%S'))\n",
    "currenttime = int(time.strftime('%H'))\n",
    "if(4<=currenttime<12):\n",
    "    print(\"good morning its\",currenttime)\n",
    "elif(12>=currenttime<17):\n",
    "    print(\"good evening its\",currenttime)\n",
    "else:\n",
    "    print(\"good night its\",currenttime)"
   ]
  },
  {
   "cell_type": "code",
   "execution_count": 2,
   "id": "feb2ed75-737a-46b7-8e38-da2f6e691a8a",
   "metadata": {},
   "outputs": [
    {
     "name": "stdin",
     "output_type": "stream",
     "text": [
      " 430\n"
     ]
    },
    {
     "name": "stdout",
     "output_type": "stream",
     "text": [
      "3 4 7\n"
     ]
    }
   ],
   "source": [
    "k = int(input())\n",
    "evensum = 0\n",
    "oddsum = 0\n",
    "i = 1\n",
    "while(i<100):\n",
    "    digit = k%10\n",
    "    k = (k-digit)/10\n",
    "    remainder = digit%2\n",
    "    r = (remainder==0)\n",
    "    if r:\n",
    "        evensum = evensum + digit\n",
    "    else:\n",
    "        oddsum = oddsum + digit\n",
    "    i = i + 1\n",
    "evenodd_sum = evensum+oddsum\n",
    "print(int(oddsum),int(evensum),int(evenodd_sum))\n"
   ]
  },
  {
   "cell_type": "code",
   "execution_count": 2,
   "id": "bca87cba-5c8b-4c45-af40-db194c0506b2",
   "metadata": {},
   "outputs": [
    {
     "name": "stdin",
     "output_type": "stream",
     "text": [
      " 430\n"
     ]
    },
    {
     "name": "stdout",
     "output_type": "stream",
     "text": [
      "0 0 0\n"
     ]
    }
   ],
   "source": [
    "K = int(input())\n",
    "evensum = 0\n",
    "oddsum = 0\n",
    "i = 1\n",
    "while(i<100):\n",
    "    digit = k%10\n",
    "    k = (k-digit)/10\n",
    "    remainder = digit%2\n",
    "    r = (remainder==0)\n",
    "    if r:\n",
    "        evensum = evensum + digit\n",
    "    else:\n",
    "        oddsum = oddsum + digit\n",
    "    i = i + 1\n",
    "evenodd_sum = evensum+oddsum\n",
    "print(int(oddsum),int(evensum),int(evenodd_sum))\n"
   ]
  },
  {
   "cell_type": "code",
   "execution_count": null,
   "id": "eb999fe3-8f9d-40b4-af01-bc3c980e2612",
   "metadata": {},
   "outputs": [],
   "source": []
  }
 ],
 "metadata": {
  "kernelspec": {
   "display_name": "Python 3 (ipykernel)",
   "language": "python",
   "name": "python3"
  },
  "language_info": {
   "codemirror_mode": {
    "name": "ipython",
    "version": 3
   },
   "file_extension": ".py",
   "mimetype": "text/x-python",
   "name": "python",
   "nbconvert_exporter": "python",
   "pygments_lexer": "ipython3",
   "version": "3.12.2"
  }
 },
 "nbformat": 4,
 "nbformat_minor": 5
}
