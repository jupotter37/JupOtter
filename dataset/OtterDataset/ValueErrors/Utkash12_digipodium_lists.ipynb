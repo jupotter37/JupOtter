{
 "cells": [
  {
   "cell_type": "markdown",
   "metadata": {},
   "source": []
  },
  {
   "cell_type": "markdown",
   "metadata": {},
   "source": [
    "## data structures\n",
    "## lists\n",
    "    -indexed,ordered,changeable,allows duplicate values\n",
    "## tuples\n",
    "    -indexed,ordered,unchangeable,allows duplicate values\n",
    "## dictionaries\n",
    "    -indexed,unordered,changeable,does not allow duplicate values\n",
    "## sets\n",
    "    -indexed,unordered,unchangeable,does not allow duplicate values\n",
    "\n"
   ]
  },
  {
   "cell_type": "markdown",
   "metadata": {},
   "source": []
  },
  {
   "cell_type": "code",
   "execution_count": 5,
   "metadata": {},
   "outputs": [
    {
     "name": "stdout",
     "output_type": "stream",
     "text": [
      "[]\n",
      "[1, 2, 3, 4, 5]\n",
      "['sunday', 'monday', 'tuesday', 'wednesday', 'thursday', 'friday', 'saturday']\n",
      "['milk', 30, 'bread', 20, 'butter', 40]\n",
      "[[1, 2, 3], [4, 5, 6], [7, 8, 9], [10, 12, 13, 14, 12]]\n",
      "[10, 10, 10, 10, 10, 10, 10, 10, 10, 10, 10, 10, 10, 10, 10, 10, 10, 10, 10, 10, 10, 10, 10, 10, 10]\n",
      "[1, 2, 1, 2, 1, 2, 1, 2, 1, 2, 1, 2, 1, 2, 1, 2, 1, 2, 1, 2]\n"
     ]
    }
   ],
   "source": [
    "# creating a list\n",
    "x=[] # empty list\n",
    "y=[1,2,3,4,5] # list of integers\n",
    "z=['sunday','monday','tuesday','wednesday','thursday','friday','saturday'] # list of strings\n",
    "grocery=['milk',30,'bread',20,'butter',40] # list of mixed data types\n",
    "info=[[1,2,3],[4,5,6],[7,8,9],[10,12,13,14,12]] # list of lists\n",
    "a=[10]*25 # list of 25 elements with value 10\n",
    "b=[1,2]*10\n",
    "print(x)\n",
    "print(y)\n",
    "print(z)\n",
    "print(grocery)\n",
    "print(info)\n",
    "print(a)\n",
    "print(b)"
   ]
  },
  {
   "cell_type": "code",
   "execution_count": 11,
   "metadata": {},
   "outputs": [
    {
     "ename": "ValueError",
     "evalue": "invalid literal for int() with base 10: ''",
     "output_type": "error",
     "traceback": [
      "\u001b[1;31m---------------------------------------------------------------------------\u001b[0m",
      "\u001b[1;31mValueError\u001b[0m                                Traceback (most recent call last)",
      "Cell \u001b[1;32mIn[11], line 3\u001b[0m\n\u001b[0;32m      1\u001b[0m c\u001b[39m=\u001b[39m[]\n\u001b[0;32m      2\u001b[0m c\u001b[39m.\u001b[39mappend(\u001b[39m10\u001b[39m)\n\u001b[1;32m----> 3\u001b[0m c\u001b[39m.\u001b[39mappend(\u001b[39mint\u001b[39;49m(\u001b[39minput\u001b[39;49m(\u001b[39m'\u001b[39;49m\u001b[39mEnter a number: \u001b[39;49m\u001b[39m'\u001b[39;49m)))\n\u001b[0;32m      4\u001b[0m \u001b[39mprint\u001b[39m(c)\n",
      "\u001b[1;31mValueError\u001b[0m: invalid literal for int() with base 10: ''"
     ]
    }
   ],
   "source": [
    "c=[]\n",
    "c.append(10)\n",
    "c.append(int(input('Enter a number: ')))\n",
    "print(c)"
   ]
  },
  {
   "cell_type": "code",
   "execution_count": 12,
   "metadata": {},
   "outputs": [
    {
     "name": "stdout",
     "output_type": "stream",
     "text": [
      "1 5 2\n",
      "[1, 2]\n",
      "[3, 4, 5]\n",
      "[5, 4, 3, 2, 1]\n"
     ]
    }
   ],
   "source": [
    "print(y[0],y[-1],y[1])\n",
    "print(y[:2])\n",
    "print(y[-3:])\n",
    "print(y[::-1])"
   ]
  },
  {
   "cell_type": "code",
   "execution_count": 17,
   "metadata": {},
   "outputs": [
    {
     "data": {
      "text/plain": [
       "['The Final Empire', 'Pshycology of Money', 'Well of Ascension']"
      ]
     },
     "execution_count": 17,
     "metadata": {},
     "output_type": "execute_result"
    }
   ],
   "source": [
    "books=[]\n",
    "books.append('The Final Empire')\n",
    "books.append('Pshycology of Money')\n",
    "books.append('Well of Ascension')\n",
    "books"
   ]
  },
  {
   "cell_type": "code",
   "execution_count": 18,
   "metadata": {},
   "outputs": [
    {
     "name": "stdout",
     "output_type": "stream",
     "text": [
      "['The Final Empire', 'The Way of Kings', 'Pshycology of Money', 'Well of Ascension']\n"
     ]
    }
   ],
   "source": [
    "books.insert(1,'The Way of Kings')\n",
    "print(books)"
   ]
  },
  {
   "cell_type": "code",
   "execution_count": 11,
   "metadata": {},
   "outputs": [
    {
     "name": "stdout",
     "output_type": "stream",
     "text": [
      "A song of ice and fire\n",
      "Umbrella\n",
      "The Jungle Book\n",
      "Pride and prejudice\n"
     ]
    }
   ],
   "source": [
    "old_books=['A song of ice and fire','Umbrella','The Jungle Book','Pride and prejudice']\n",
    "for j in range(len(old_books)):\n",
    "   print(old_books[j])"
   ]
  },
  {
   "cell_type": "code",
   "execution_count": 23,
   "metadata": {},
   "outputs": [
    {
     "data": {
      "text/plain": [
       "['The Final Empire',\n",
       " 'The Way of Kings',\n",
       " 'Pshycology of Money',\n",
       " 'Well of Ascension',\n",
       " 'A song of ice and fire',\n",
       " 'The Jungle Book',\n",
       " 'Pride and prejudice',\n",
       " 'A song of ice and fire',\n",
       " 'Umbrella',\n",
       " 'The Jungle Book',\n",
       " 'Pride and prejudice']"
      ]
     },
     "execution_count": 23,
     "metadata": {},
     "output_type": "execute_result"
    }
   ],
   "source": [
    "books.extend(old_books)\n",
    "books"
   ]
  },
  {
   "cell_type": "code",
   "execution_count": 24,
   "metadata": {},
   "outputs": [],
   "source": [
    "books.remove('Umbrella')"
   ]
  },
  {
   "cell_type": "code",
   "execution_count": 26,
   "metadata": {},
   "outputs": [
    {
     "data": {
      "text/plain": [
       "['The Final Empire',\n",
       " 'The Way of Kings',\n",
       " 'Pshycology of Money',\n",
       " 'Well of Ascension',\n",
       " 'A song of ice and fire',\n",
       " 'Pride and prejudice',\n",
       " 'A song of ice and fire',\n",
       " 'Pride and prejudice']"
      ]
     },
     "execution_count": 26,
     "metadata": {},
     "output_type": "execute_result"
    }
   ],
   "source": [
    "if 'The Jungle Book' in books:\n",
    "   books.remove('The Jungle Book')\n",
    "books"
   ]
  },
  {
   "cell_type": "code",
   "execution_count": 27,
   "metadata": {},
   "outputs": [
    {
     "data": {
      "text/plain": [
       "'Pride and prejudice'"
      ]
     },
     "execution_count": 27,
     "metadata": {},
     "output_type": "execute_result"
    }
   ],
   "source": [
    "books.pop() # removes the last element"
   ]
  },
  {
   "cell_type": "code",
   "execution_count": 28,
   "metadata": {},
   "outputs": [
    {
     "data": {
      "text/plain": [
       "['The Final Empire',\n",
       " 'The Way of Kings',\n",
       " 'Pshycology of Money',\n",
       " 'Well of Ascension',\n",
       " 'A song of ice and fire',\n",
       " 'Pride and prejudice',\n",
       " 'A song of ice and fire']"
      ]
     },
     "execution_count": 28,
     "metadata": {},
     "output_type": "execute_result"
    }
   ],
   "source": [
    "books"
   ]
  },
  {
   "cell_type": "markdown",
   "metadata": {},
   "source": [
    "- list\n",
    "    -adding\n",
    "        -append()   -add single item to the end\n",
    "        -insert()   -insert single item at given index\n",
    "        -extend()   -merge a list to an existing list\n",
    "    -remove\n",
    "        -remove()   -remove single item by value\n",
    "        -pop()      -remove single item by index\n",
    "        -clear()    -remove all items\n",
    "    -utility\n",
    "        -index()    -find index of items by value\n",
    "        -count()    -counted repeated items\n",
    "        -sort()     -sort items\n",
    "        -reverse()  -reverse items\n",
    "        -copy()     -copy list"
   ]
  },
  {
   "cell_type": "code",
   "execution_count": 29,
   "metadata": {},
   "outputs": [
    {
     "data": {
      "text/plain": [
       "'Pshycology of Money'"
      ]
     },
     "execution_count": 29,
     "metadata": {},
     "output_type": "execute_result"
    }
   ],
   "source": [
    "books.pop(2) # removes the element at index 2"
   ]
  },
  {
   "cell_type": "code",
   "execution_count": 30,
   "metadata": {},
   "outputs": [
    {
     "data": {
      "text/plain": [
       "['The Final Empire',\n",
       " 'The Way of Kings',\n",
       " 'Well of Ascension',\n",
       " 'A song of ice and fire',\n",
       " 'Pride and prejudice',\n",
       " 'A song of ice and fire']"
      ]
     },
     "execution_count": 30,
     "metadata": {},
     "output_type": "execute_result"
    }
   ],
   "source": [
    "books"
   ]
  },
  {
   "cell_type": "code",
   "execution_count": 31,
   "metadata": {},
   "outputs": [
    {
     "data": {
      "text/plain": [
       "[]"
      ]
     },
     "execution_count": 31,
     "metadata": {},
     "output_type": "execute_result"
    }
   ],
   "source": [
    "books.clear()\n",
    "books"
   ]
  },
  {
   "cell_type": "code",
   "execution_count": 37,
   "metadata": {},
   "outputs": [
    {
     "data": {
      "text/plain": [
       "['regularly',\n",
       " 'generally',\n",
       " 'normally',\n",
       " 'usually',\n",
       " 'frequently',\n",
       " 'occasionally',\n",
       " 'seldom',\n",
       " 'rarely',\n",
       " 'often',\n",
       " 'never',\n",
       " 'sometimes',\n",
       " 'always',\n",
       " 'fronty',\n",
       " 'backyard',\n",
       " 'lawn',\n",
       " 'driveway',\n",
       " 'patio',\n",
       " 'veranda',\n",
       " 'porch',\n",
       " 'hallway',\n",
       " 'corridor',\n",
       " 'escalator',\n",
       " 'lift',\n",
       " 'elevator',\n",
       " 'staircase',\n",
       " 'roof',\n",
       " 'attic',\n",
       " 'basement',\n",
       " 'garage',\n",
       " 'garden',\n",
       " 'terrace',\n",
       " 'balcony',\n",
       " 'dining room',\n",
       " 'living room',\n",
       " 'bedroom',\n",
       " 'bathroom',\n",
       " 'kitchen',\n",
       " 'hall',\n",
       " 'room',\n",
       " 'min',\n",
       " 'max',\n",
       " 'boom',\n",
       " 'inception',\n",
       " 'the lion king',\n",
       " 'whiplash',\n",
       " 'argo',\n",
       " 'parasite',\n",
       " 'the irishman',\n",
       " 'the favourite',\n",
       " 'the shape of water',\n",
       " 'the grand budapest hotel',\n",
       " 'the social network',\n",
       " 'the wolf of wall street',\n",
       " 'the revenant',\n",
       " 'django',\n",
       " 'spotlight',\n",
       " 'arrival',\n",
       " 'birdman',\n",
       " 'get out',\n",
       " 'moonlight',\n",
       " 'drive',\n",
       " 'gravity',\n",
       " 'room',\n",
       " 'her',\n",
       " 'black swan',\n",
       " 'fight club',\n",
       " 'goodfellas',\n",
       " 'cheatcode',\n",
       " 'Scam 1992',\n",
       " 'the dark knight returns',\n",
       " 'the dark knight rises',\n",
       " 'the dark knight',\n",
       " '3 idiots',\n",
       " '\"basics prac.ipynb',\n",
       " 'Blenders Pride',\n",
       " 'the goodfather',\n",
       " 'fight club',\n",
       " 'the prestige',\n",
       " 'memento',\n",
       " 'foody',\n",
       " 'woman hunter',\n",
       " 'the mu',\n",
       " 'the mummy 1959',\n",
       " 'the mummy 1932',\n",
       " 'the mummy 1999',\n",
       " 'the mummy 2017',\n",
       " 'the mummy tomb of the dragon emperor',\n",
       " 'the mummy returns',\n",
       " 'the mummy',\n",
       " 'womb raider',\n",
       " 'kong vs godzilla',\n",
       " 'fast and furious',\n",
       " 'The Prestige',\n",
       " 'The Avengers',\n",
       " 'Dhoom',\n",
       " 'The Matrix',\n",
       " 'The Lord of the Rings',\n",
       " 'The Shawshank Redemption',\n",
       " 'The Godfather',\n",
       " 'The Dark Knight']"
      ]
     },
     "execution_count": 37,
     "metadata": {},
     "output_type": "execute_result"
    }
   ],
   "source": [
    "movies=['The Dark Knight','The Godfather','The Shawshank Redemption','The Lord of the Rings','The Matrix','Dhoom','The Avengers','The Prestige','fast and furious','kong vs godzilla','womb raider','the mummy','the mummy returns','the mummy tomb of the dragon emperor','the mummy 2017','the mummy 1999','the mummy 1932','the mummy 1959','the mu','woman hunter','foody','memento','the prestige','fight club','the goodfather','Blenders Pride','\"basics prac.ipynb','3 idiots','the dark knight','the dark knight rises','the dark knight returns','Scam 1992','cheatcode','goodfellas','fight club','black swan','her','room','gravity','drive','moonlight','get out','birdman','arrival','spotlight','django','the revenant','the wolf of wall street','the social network','the grand budapest hotel','the shape of water','the favourite','the irishman','parasite','argo','whiplash','the lion king','inception','boom','max','min','room','hall','kitchen','bathroom','bedroom','living room','dining room','balcony','terrace','garden','garage','basement','attic','roof','staircase','elevator','lift','escalator','corridor','hallway','porch','veranda','patio','driveway','lawn','backyard','fronty','always','sometimes','never','often','rarely','seldom','occasionally','frequently','usually','normally','generally','regularly']\n",
    "len(movies)\n",
    "movies.reverse()\n",
    "movies"
   ]
  },
  {
   "cell_type": "code",
   "execution_count": 40,
   "metadata": {},
   "outputs": [
    {
     "data": {
      "text/plain": [
       "['\"basics prac.ipynb',\n",
       " '3 idiots',\n",
       " 'Blenders Pride',\n",
       " 'Dhoom',\n",
       " 'Scam 1992',\n",
       " 'The Avengers',\n",
       " 'The Dark Knight',\n",
       " 'The Godfather',\n",
       " 'The Lord of the Rings',\n",
       " 'The Matrix',\n",
       " 'The Prestige',\n",
       " 'The Shawshank Redemption',\n",
       " 'always',\n",
       " 'argo',\n",
       " 'arrival',\n",
       " 'attic',\n",
       " 'backyard',\n",
       " 'balcony',\n",
       " 'basement',\n",
       " 'bathroom',\n",
       " 'bedroom',\n",
       " 'birdman',\n",
       " 'black swan',\n",
       " 'boom',\n",
       " 'cheatcode',\n",
       " 'corridor',\n",
       " 'dining room',\n",
       " 'django',\n",
       " 'drive',\n",
       " 'driveway',\n",
       " 'elevator',\n",
       " 'escalator',\n",
       " 'fast and furious',\n",
       " 'fight club',\n",
       " 'fight club',\n",
       " 'foody',\n",
       " 'frequently',\n",
       " 'fronty',\n",
       " 'garage',\n",
       " 'garden',\n",
       " 'generally',\n",
       " 'get out',\n",
       " 'goodfellas',\n",
       " 'gravity',\n",
       " 'hall',\n",
       " 'hallway',\n",
       " 'her',\n",
       " 'inception',\n",
       " 'kitchen',\n",
       " 'kong vs godzilla',\n",
       " 'lawn',\n",
       " 'lift',\n",
       " 'living room',\n",
       " 'max',\n",
       " 'memento',\n",
       " 'min',\n",
       " 'moonlight',\n",
       " 'never',\n",
       " 'normally',\n",
       " 'occasionally',\n",
       " 'often',\n",
       " 'parasite',\n",
       " 'patio',\n",
       " 'porch',\n",
       " 'rarely',\n",
       " 'regularly',\n",
       " 'roof',\n",
       " 'room',\n",
       " 'room',\n",
       " 'seldom',\n",
       " 'sometimes',\n",
       " 'spotlight',\n",
       " 'staircase',\n",
       " 'terrace',\n",
       " 'the dark knight',\n",
       " 'the dark knight returns',\n",
       " 'the dark knight rises',\n",
       " 'the favourite',\n",
       " 'the goodfather',\n",
       " 'the grand budapest hotel',\n",
       " 'the irishman',\n",
       " 'the lion king',\n",
       " 'the mu',\n",
       " 'the mummy',\n",
       " 'the mummy 1932',\n",
       " 'the mummy 1959',\n",
       " 'the mummy 1999',\n",
       " 'the mummy 2017',\n",
       " 'the mummy returns',\n",
       " 'the mummy tomb of the dragon emperor',\n",
       " 'the prestige',\n",
       " 'the revenant',\n",
       " 'the shape of water',\n",
       " 'the social network',\n",
       " 'the wolf of wall street',\n",
       " 'usually',\n",
       " 'veranda',\n",
       " 'whiplash',\n",
       " 'woman hunter',\n",
       " 'womb raider']"
      ]
     },
     "execution_count": 40,
     "metadata": {},
     "output_type": "execute_result"
    }
   ],
   "source": [
    "movies.sort()\n",
    "movies"
   ]
  },
  {
   "cell_type": "code",
   "execution_count": 41,
   "metadata": {},
   "outputs": [
    {
     "data": {
      "text/plain": [
       "['womb raider',\n",
       " 'woman hunter',\n",
       " 'whiplash',\n",
       " 'veranda',\n",
       " 'usually',\n",
       " 'the wolf of wall street',\n",
       " 'the social network',\n",
       " 'the shape of water',\n",
       " 'the revenant',\n",
       " 'the prestige',\n",
       " 'the mummy tomb of the dragon emperor',\n",
       " 'the mummy returns',\n",
       " 'the mummy 2017',\n",
       " 'the mummy 1999',\n",
       " 'the mummy 1959',\n",
       " 'the mummy 1932',\n",
       " 'the mummy',\n",
       " 'the mu',\n",
       " 'the lion king',\n",
       " 'the irishman',\n",
       " 'the grand budapest hotel',\n",
       " 'the goodfather',\n",
       " 'the favourite',\n",
       " 'the dark knight rises',\n",
       " 'the dark knight returns',\n",
       " 'the dark knight',\n",
       " 'terrace',\n",
       " 'staircase',\n",
       " 'spotlight',\n",
       " 'sometimes',\n",
       " 'seldom',\n",
       " 'room',\n",
       " 'room',\n",
       " 'roof',\n",
       " 'regularly',\n",
       " 'rarely',\n",
       " 'porch',\n",
       " 'patio',\n",
       " 'parasite',\n",
       " 'often',\n",
       " 'occasionally',\n",
       " 'normally',\n",
       " 'never',\n",
       " 'moonlight',\n",
       " 'min',\n",
       " 'memento',\n",
       " 'max',\n",
       " 'living room',\n",
       " 'lift',\n",
       " 'lawn',\n",
       " 'kong vs godzilla',\n",
       " 'kitchen',\n",
       " 'inception',\n",
       " 'her',\n",
       " 'hallway',\n",
       " 'hall',\n",
       " 'gravity',\n",
       " 'goodfellas',\n",
       " 'get out',\n",
       " 'generally',\n",
       " 'garden',\n",
       " 'garage',\n",
       " 'fronty',\n",
       " 'frequently',\n",
       " 'foody',\n",
       " 'fight club',\n",
       " 'fight club',\n",
       " 'fast and furious',\n",
       " 'escalator',\n",
       " 'elevator',\n",
       " 'driveway',\n",
       " 'drive',\n",
       " 'django',\n",
       " 'dining room',\n",
       " 'corridor',\n",
       " 'cheatcode',\n",
       " 'boom',\n",
       " 'black swan',\n",
       " 'birdman',\n",
       " 'bedroom',\n",
       " 'bathroom',\n",
       " 'basement',\n",
       " 'balcony',\n",
       " 'backyard',\n",
       " 'attic',\n",
       " 'arrival',\n",
       " 'argo',\n",
       " 'always',\n",
       " 'The Shawshank Redemption',\n",
       " 'The Prestige',\n",
       " 'The Matrix',\n",
       " 'The Lord of the Rings',\n",
       " 'The Godfather',\n",
       " 'The Dark Knight',\n",
       " 'The Avengers',\n",
       " 'Scam 1992',\n",
       " 'Dhoom',\n",
       " 'Blenders Pride',\n",
       " '3 idiots',\n",
       " '\"basics prac.ipynb']"
      ]
     },
     "execution_count": 41,
     "metadata": {},
     "output_type": "execute_result"
    }
   ],
   "source": [
    "movies.sort(reverse=True)\n",
    "movies"
   ]
  },
  {
   "cell_type": "code",
   "execution_count": 43,
   "metadata": {},
   "outputs": [
    {
     "data": {
      "text/plain": [
       "1"
      ]
     },
     "execution_count": 43,
     "metadata": {},
     "output_type": "execute_result"
    }
   ],
   "source": [
    "movies.count('the mummy 2017')"
   ]
  },
  {
   "cell_type": "code",
   "execution_count": 44,
   "metadata": {},
   "outputs": [
    {
     "data": {
      "text/plain": [
       "1"
      ]
     },
     "execution_count": 44,
     "metadata": {},
     "output_type": "execute_result"
    }
   ],
   "source": [
    "movies.count('Scam 1992')"
   ]
  },
  {
   "cell_type": "code",
   "execution_count": 45,
   "metadata": {},
   "outputs": [
    {
     "data": {
      "text/plain": [
       "12"
      ]
     },
     "execution_count": 45,
     "metadata": {},
     "output_type": "execute_result"
    }
   ],
   "source": [
    "movies.index('the mummy 2017')"
   ]
  },
  {
   "cell_type": "code",
   "execution_count": 50,
   "metadata": {},
   "outputs": [
    {
     "name": "stdout",
     "output_type": "stream",
     "text": [
      "womb raider , woman hunter , whiplash , veranda , usually , the wolf of wall street , the social network , the shape of water , the revenant , the prestige , the mummy tomb of the dragon emperor , the mummy returns , the mummy 2017 , the mummy 1999 , the mummy 1959 , the mummy 1932 , the mummy , the mu , the lion king , the irishman , the grand budapest hotel , the goodfather , the favourite , the dark knight rises , the dark knight returns , the dark knight , terrace , staircase , spotlight , sometimes , seldom , room , room , roof , regularly , rarely , porch , patio , parasite , often , occasionally , normally , never , moonlight , min , memento , max , living room , lift , lawn , kong vs godzilla , kitchen , inception , her , hallway , hall , gravity , goodfellas , get out , generally , garden , garage , fronty , frequently , foody , fight club , fight club , fast and furious , escalator , elevator , driveway , drive , django , dining room , corridor , cheatcode , boom , black swan , birdman , bedroom , bathroom , basement , balcony , backyard , attic , arrival , argo , always , The Shawshank Redemption , The Prestige , The Matrix , The Lord of the Rings , The Godfather , The Dark Knight , The Avengers , Scam 1992 , Dhoom , Blenders Pride , 3 idiots , \"basics prac.ipynb , "
     ]
    }
   ],
   "source": [
    "movies_copy=movies.copy() \n",
    "len11=len(movies_copy)\n",
    "for z in range(len11):\n",
    "       print(movies_copy[z], end=' , ')"
   ]
  },
  {
   "cell_type": "code",
   "execution_count": 51,
   "metadata": {},
   "outputs": [
    {
     "data": {
      "text/plain": [
       "['womb raider',\n",
       " 'woman hunter',\n",
       " 'whiplash',\n",
       " 'veranda',\n",
       " 'usually',\n",
       " 'the wolf of wall street',\n",
       " 'the social network',\n",
       " 'the shape of water',\n",
       " 'the revenant',\n",
       " 'the prestige']"
      ]
     },
     "execution_count": 51,
     "metadata": {},
     "output_type": "execute_result"
    }
   ],
   "source": [
    "movies[:10]"
   ]
  },
  {
   "cell_type": "code",
   "execution_count": 53,
   "metadata": {},
   "outputs": [
    {
     "name": "stdout",
     "output_type": "stream",
     "text": [
      "[11, 12, 8, 7, 7, 23, 18, 18, 12, 12, 36, 17, 14, 14, 14, 14, 9, 6, 13, 12, 24, 14, 13, 21, 23, 15, 7, 9, 9, 9, 6, 4, 4, 4, 9, 6, 5, 5, 8, 5, 12, 8, 5, 9, 3, 7, 3, 11, 4, 4, 16, 7, 9, 3, 7, 4, 7, 10, 7, 9, 6, 6, 6, 10, 5, 10, 10, 16, 9, 8, 8, 5, 6, 11, 8, 9, 4, 10, 7, 7, 8, 8, 7, 8, 5, 7, 4, 6, 24, 12, 10, 21, 13, 15, 12, 9, 5, 14, 8, 18] , "
     ]
    }
   ],
   "source": [
    "size_movies=[]\n",
    "for movie in movies:\n",
    "    s=len(movie)\n",
    "    size_movies.append(s)\n",
    "print(size_movies, end='  , ')"
   ]
  },
  {
   "cell_type": "markdown",
   "metadata": {},
   "source": [
    "# list comprehension"
   ]
  },
  {
   "cell_type": "code",
   "execution_count": 54,
   "metadata": {},
   "outputs": [
    {
     "name": "stdout",
     "output_type": "stream",
     "text": [
      "[1, 2, 3, 4, 5, 6, 7, 8, 9, 10]\n",
      "[1, 4, 9, 16, 25, 36, 49, 64, 81, 100]\n"
     ]
    }
   ],
   "source": [
    "xyz=[1,2,3,4,5,6,7,8,9,10]\n",
    "xyz2=[i**2 for i in xyz]\n",
    "print(xyz)\n",
    "print(xyz2)"
   ]
  },
  {
   "cell_type": "code",
   "execution_count": null,
   "metadata": {},
   "outputs": [],
   "source": []
  }
 ],
 "metadata": {
  "kernelspec": {
   "display_name": "base",
   "language": "python",
   "name": "python3"
  },
  "language_info": {
   "codemirror_mode": {
    "name": "ipython",
    "version": 3
   },
   "file_extension": ".py",
   "mimetype": "text/x-python",
   "name": "python",
   "nbconvert_exporter": "python",
   "pygments_lexer": "ipython3",
   "version": "3.10.10"
  },
  "orig_nbformat": 4
 },
 "nbformat": 4,
 "nbformat_minor": 2
}
