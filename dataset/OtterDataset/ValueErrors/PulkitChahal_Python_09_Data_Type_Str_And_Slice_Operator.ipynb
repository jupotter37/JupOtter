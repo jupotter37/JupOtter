{
 "cells": [
  {
   "cell_type": "code",
   "execution_count": 4,
   "id": "eb333cc1",
   "metadata": {},
   "outputs": [],
   "source": [
    "# # # Slice Operator :-"
   ]
  },
  {
   "cell_type": "code",
   "execution_count": 81,
   "id": "195058fe",
   "metadata": {},
   "outputs": [],
   "source": [
    "# peice --> part\n",
    "\n",
    "# [] to retreive part(slice) of the string\n",
    "\n",
    "# s[begin:end] -> returns substring from index to end-1 index"
   ]
  },
  {
   "cell_type": "code",
   "execution_count": 12,
   "id": "8ffc9dee",
   "metadata": {},
   "outputs": [
    {
     "data": {
      "text/plain": [
       "'fghijk'"
      ]
     },
     "execution_count": 12,
     "metadata": {},
     "output_type": "execute_result"
    }
   ],
   "source": [
    "s = 'abcdefghijklmnopqrstuvwxyz'\n",
    "\n",
    "s[5:11] # begin to end-1"
   ]
  },
  {
   "cell_type": "code",
   "execution_count": 10,
   "id": "af6a0bee",
   "metadata": {},
   "outputs": [
    {
     "data": {
      "text/plain": [
       "'abcdefgh'"
      ]
     },
     "execution_count": 10,
     "metadata": {},
     "output_type": "execute_result"
    }
   ],
   "source": [
    "# If we are taking begin, then it will consider from begining of the string i.e default value is : 0\n",
    "\n",
    "s[:8] # from 0 to 7"
   ]
  },
  {
   "cell_type": "code",
   "execution_count": 9,
   "id": "bcd9905a",
   "metadata": {},
   "outputs": [
    {
     "data": {
      "text/plain": [
       "'defghijklmnopqrstuvwxyz'"
      ]
     },
     "execution_count": 9,
     "metadata": {},
     "output_type": "execute_result"
    }
   ],
   "source": [
    "# If we are not specifying end index until end of string\n",
    "\n",
    "s[3:] # from 3 to end of string"
   ]
  },
  {
   "cell_type": "code",
   "execution_count": 11,
   "id": "d830e62e",
   "metadata": {},
   "outputs": [
    {
     "data": {
      "text/plain": [
       "'abcdefghijklmnopqrstuvwxyz'"
      ]
     },
     "execution_count": 11,
     "metadata": {},
     "output_type": "execute_result"
    }
   ],
   "source": [
    "s[:] # from 0 to end of string"
   ]
  },
  {
   "cell_type": "code",
   "execution_count": 14,
   "id": "cb2f7811",
   "metadata": {},
   "outputs": [],
   "source": [
    "# s and s[:]"
   ]
  },
  {
   "cell_type": "code",
   "execution_count": 15,
   "id": "50d92da8",
   "metadata": {},
   "outputs": [
    {
     "data": {
      "text/plain": [
       "'abcdefghijklmnopqrstuvwxyz'"
      ]
     },
     "execution_count": 15,
     "metadata": {},
     "output_type": "execute_result"
    }
   ],
   "source": [
    "s"
   ]
  },
  {
   "cell_type": "code",
   "execution_count": 16,
   "id": "125bc798",
   "metadata": {},
   "outputs": [
    {
     "data": {
      "text/plain": [
       "'abcdefghijklmnopqrstuvwxyz'"
      ]
     },
     "execution_count": 16,
     "metadata": {},
     "output_type": "execute_result"
    }
   ],
   "source": [
    "s[:]"
   ]
  },
  {
   "cell_type": "code",
   "execution_count": 17,
   "id": "c1ca7695",
   "metadata": {},
   "outputs": [],
   "source": [
    "# Slice operaator won't raise any IndexError.\n",
    "\n",
    "# If the index is out of range, then it will consider upto available characters only."
   ]
  },
  {
   "cell_type": "code",
   "execution_count": 18,
   "id": "5df74c3d",
   "metadata": {},
   "outputs": [
    {
     "data": {
      "text/plain": [
       "'abcdefghijklmnopqrstuvwxyz'"
      ]
     },
     "execution_count": 18,
     "metadata": {},
     "output_type": "execute_result"
    }
   ],
   "source": [
    "s[0:2689] # from 0 to last"
   ]
  },
  {
   "cell_type": "code",
   "execution_count": 19,
   "id": "955f6d0d",
   "metadata": {},
   "outputs": [
    {
     "ename": "IndexError",
     "evalue": "string index out of range",
     "output_type": "error",
     "traceback": [
      "\u001b[1;31m---------------------------------------------------------------------------\u001b[0m",
      "\u001b[1;31mIndexError\u001b[0m                                Traceback (most recent call last)",
      "Cell \u001b[1;32mIn[19], line 1\u001b[0m\n\u001b[1;32m----> 1\u001b[0m s[\u001b[38;5;241m26\u001b[39m]\n",
      "\u001b[1;31mIndexError\u001b[0m: string index out of range"
     ]
    }
   ],
   "source": [
    "s[26] # IndexError: string index out of range"
   ]
  },
  {
   "cell_type": "code",
   "execution_count": 20,
   "id": "4eac26d4",
   "metadata": {},
   "outputs": [
    {
     "data": {
      "text/plain": [
       "'de'"
      ]
     },
     "execution_count": 20,
     "metadata": {},
     "output_type": "execute_result"
    }
   ],
   "source": [
    "s[3:5] # from begin index to end-1\n",
    "        # from 3 to 4"
   ]
  },
  {
   "cell_type": "code",
   "execution_count": 1,
   "id": "9e5b0de3",
   "metadata": {},
   "outputs": [],
   "source": [
    "s1 = 'aabcdefghijklmnopqrstuvwxyz             '"
   ]
  },
  {
   "cell_type": "code",
   "execution_count": 2,
   "id": "58c45576",
   "metadata": {},
   "outputs": [
    {
     "data": {
      "text/plain": [
       "'aabcdefghijklmnopqrstuvwxyz             '"
      ]
     },
     "execution_count": 2,
     "metadata": {},
     "output_type": "execute_result"
    }
   ],
   "source": [
    "s1[:24656874]"
   ]
  },
  {
   "cell_type": "code",
   "execution_count": 3,
   "id": "9c0a97c3",
   "metadata": {},
   "outputs": [
    {
     "data": {
      "text/plain": [
       "''"
      ]
     },
     "execution_count": 3,
     "metadata": {},
     "output_type": "execute_result"
    }
   ],
   "source": [
    "s1[154687:1564687463]"
   ]
  },
  {
   "cell_type": "code",
   "execution_count": 21,
   "id": "ab20fba7",
   "metadata": {},
   "outputs": [
    {
     "data": {
      "text/plain": [
       "'cdefg'"
      ]
     },
     "execution_count": 21,
     "metadata": {},
     "output_type": "execute_result"
    }
   ],
   "source": [
    "s[2:7]"
   ]
  },
  {
   "cell_type": "code",
   "execution_count": 22,
   "id": "0dc7bd1f",
   "metadata": {},
   "outputs": [
    {
     "data": {
      "text/plain": [
       "''"
      ]
     },
     "execution_count": 22,
     "metadata": {},
     "output_type": "execute_result"
    }
   ],
   "source": [
    "s[7:2]"
   ]
  },
  {
   "cell_type": "code",
   "execution_count": 24,
   "id": "45b6855d",
   "metadata": {},
   "outputs": [
    {
     "data": {
      "text/plain": [
       "''"
      ]
     },
     "execution_count": 24,
     "metadata": {},
     "output_type": "execute_result"
    }
   ],
   "source": [
    "s[7:4] # from 7 to 3rd index in forward direction"
   ]
  },
  {
   "cell_type": "code",
   "execution_count": 25,
   "id": "f3888229",
   "metadata": {},
   "outputs": [],
   "source": [
    "# s[begin:end:step]"
   ]
  },
  {
   "cell_type": "code",
   "execution_count": 30,
   "id": "eb7f22e5",
   "metadata": {},
   "outputs": [
    {
     "data": {
      "text/plain": [
       "'Durga'"
      ]
     },
     "execution_count": 30,
     "metadata": {},
     "output_type": "execute_result"
    }
   ],
   "source": [
    "# Print the given string with first character as uppercase\n",
    "\n",
    "s = 'durga'\n",
    "s[0].upper()+s[1:]"
   ]
  },
  {
   "cell_type": "code",
   "execution_count": 37,
   "id": "ea6eaeb6",
   "metadata": {},
   "outputs": [
    {
     "data": {
      "text/plain": [
       "'durgA'"
      ]
     },
     "execution_count": 37,
     "metadata": {},
     "output_type": "execute_result"
    }
   ],
   "source": [
    "# Print the given string with last character as uppercase\n",
    "\n",
    "s = 'durga'\n",
    "s[0:-1] + s[-1].upper()\n",
    "# or\n",
    "s[0:len(s)-1] + s[-1].upper()"
   ]
  },
  {
   "cell_type": "code",
   "execution_count": 40,
   "id": "aecbdb03",
   "metadata": {},
   "outputs": [
    {
     "data": {
      "text/plain": [
       "'PulkitchahaL'"
      ]
     },
     "execution_count": 40,
     "metadata": {},
     "output_type": "execute_result"
    }
   ],
   "source": [
    "# First and last character capital\n",
    "\n",
    "s = 'pulkitchahal'\n",
    "s[0].upper() + s[1:len(s)-1] + s[-1].upper()"
   ]
  },
  {
   "cell_type": "code",
   "execution_count": 42,
   "id": "c212404f",
   "metadata": {},
   "outputs": [],
   "source": [
    "# # # Mathematical Operator for the String :-"
   ]
  },
  {
   "cell_type": "code",
   "execution_count": 44,
   "id": "11ad6b77",
   "metadata": {},
   "outputs": [
    {
     "data": {
      "text/plain": [
       "'durgasoft'"
      ]
     },
     "execution_count": 44,
     "metadata": {},
     "output_type": "execute_result"
    }
   ],
   "source": [
    "s = 'pulkit' + 'chahal'\n",
    "s"
   ]
  },
  {
   "cell_type": "code",
   "execution_count": 54,
   "id": "b1d8c741",
   "metadata": {},
   "outputs": [
    {
     "data": {
      "text/plain": [
       "'     chahal'"
      ]
     },
     "execution_count": 54,
     "metadata": {},
     "output_type": "execute_result"
    }
   ],
   "source": [
    "s = '     ' + 'chahal'\n",
    "s"
   ]
  },
  {
   "cell_type": "code",
   "execution_count": 52,
   "id": "159e645e",
   "metadata": {},
   "outputs": [
    {
     "ename": "TypeError",
     "evalue": "can only concatenate str (not \"int\") to str",
     "output_type": "error",
     "traceback": [
      "\u001b[1;31m---------------------------------------------------------------------------\u001b[0m",
      "\u001b[1;31mTypeError\u001b[0m                                 Traceback (most recent call last)",
      "Cell \u001b[1;32mIn[52], line 1\u001b[0m\n\u001b[1;32m----> 1\u001b[0m s \u001b[38;5;241m=\u001b[39m \u001b[38;5;124m'\u001b[39m\u001b[38;5;124mdurga\u001b[39m\u001b[38;5;124m'\u001b[39m \u001b[38;5;241m+\u001b[39m \u001b[38;5;241m10\u001b[39m\n",
      "\u001b[1;31mTypeError\u001b[0m: can only concatenate str (not \"int\") to str"
     ]
    }
   ],
   "source": [
    "s = 'durga' + 10"
   ]
  },
  {
   "cell_type": "code",
   "execution_count": 51,
   "id": "73b41092",
   "metadata": {},
   "outputs": [
    {
     "ename": "TypeError",
     "evalue": "unsupported operand type(s) for +: 'int' and 'str'",
     "output_type": "error",
     "traceback": [
      "\u001b[1;31m---------------------------------------------------------------------------\u001b[0m",
      "\u001b[1;31mTypeError\u001b[0m                                 Traceback (most recent call last)",
      "Cell \u001b[1;32mIn[51], line 1\u001b[0m\n\u001b[1;32m----> 1\u001b[0m s \u001b[38;5;241m=\u001b[39m \u001b[38;5;241m10\u001b[39m \u001b[38;5;241m+\u001b[39m \u001b[38;5;124m'\u001b[39m\u001b[38;5;124mdurga\u001b[39m\u001b[38;5;124m'\u001b[39m\n",
      "\u001b[1;31mTypeError\u001b[0m: unsupported operand type(s) for +: 'int' and 'str'"
     ]
    }
   ],
   "source": [
    "s = 10 + 'durga'"
   ]
  },
  {
   "cell_type": "code",
   "execution_count": 55,
   "id": "d1c1cd70",
   "metadata": {},
   "outputs": [
    {
     "data": {
      "text/plain": [
       "'10durga'"
      ]
     },
     "execution_count": 55,
     "metadata": {},
     "output_type": "execute_result"
    }
   ],
   "source": [
    "s = '10' + 'durga'\n",
    "s"
   ]
  },
  {
   "cell_type": "code",
   "execution_count": 56,
   "id": "a93da232",
   "metadata": {},
   "outputs": [
    {
     "data": {
      "text/plain": [
       "'durga10'"
      ]
     },
     "execution_count": 56,
     "metadata": {},
     "output_type": "execute_result"
    }
   ],
   "source": [
    "s = 'durga' + '10'\n",
    "s"
   ]
  },
  {
   "cell_type": "code",
   "execution_count": 57,
   "id": "94ee6e82",
   "metadata": {},
   "outputs": [],
   "source": [
    "# If we apply + operator for the strings both arguments should be str type only"
   ]
  },
  {
   "cell_type": "code",
   "execution_count": 60,
   "id": "979ea55d",
   "metadata": {},
   "outputs": [],
   "source": [
    "# String Repition Operator(* -> Multiplication) ->"
   ]
  },
  {
   "cell_type": "code",
   "execution_count": 62,
   "id": "007f3a6b",
   "metadata": {},
   "outputs": [
    {
     "data": {
      "text/plain": [
       "'durgadurgadurgadurgadurga'"
      ]
     },
     "execution_count": 62,
     "metadata": {},
     "output_type": "execute_result"
    }
   ],
   "source": [
    "s = 'durga' * 5\n",
    "s"
   ]
  },
  {
   "cell_type": "code",
   "execution_count": 65,
   "id": "230d5e99",
   "metadata": {},
   "outputs": [
    {
     "data": {
      "text/plain": [
       "'durgadurgadurgadurgadurga'"
      ]
     },
     "execution_count": 65,
     "metadata": {},
     "output_type": "execute_result"
    }
   ],
   "source": [
    "s = 5 * 'durga'\n",
    "s"
   ]
  },
  {
   "cell_type": "code",
   "execution_count": 63,
   "id": "3379cae6",
   "metadata": {},
   "outputs": [
    {
     "ename": "TypeError",
     "evalue": "can't multiply sequence by non-int of type 'str'",
     "output_type": "error",
     "traceback": [
      "\u001b[1;31m---------------------------------------------------------------------------\u001b[0m",
      "\u001b[1;31mTypeError\u001b[0m                                 Traceback (most recent call last)",
      "Cell \u001b[1;32mIn[63], line 1\u001b[0m\n\u001b[1;32m----> 1\u001b[0m s \u001b[38;5;241m=\u001b[39m \u001b[38;5;124m'\u001b[39m\u001b[38;5;124mdurga\u001b[39m\u001b[38;5;124m'\u001b[39m \u001b[38;5;241m*\u001b[39m \u001b[38;5;124m'\u001b[39m\u001b[38;5;124msoft\u001b[39m\u001b[38;5;124m'\u001b[39m\n",
      "\u001b[1;31mTypeError\u001b[0m: can't multiply sequence by non-int of type 'str'"
     ]
    }
   ],
   "source": [
    "s = 'durga' * 'soft'"
   ]
  },
  {
   "cell_type": "code",
   "execution_count": 66,
   "id": "105a2cf2",
   "metadata": {},
   "outputs": [],
   "source": [
    "# int + int\n",
    "# str + str\n",
    "\n",
    "# int * str\n",
    "# str * int\n",
    "\n",
    "# if we apply * for string one argument should be int"
   ]
  },
  {
   "cell_type": "code",
   "execution_count": 67,
   "id": "db6ea44c",
   "metadata": {},
   "outputs": [
    {
     "data": {
      "text/plain": [
       "'abababababab'"
      ]
     },
     "execution_count": 67,
     "metadata": {},
     "output_type": "execute_result"
    }
   ],
   "source": [
    "s = 2 * 'ab' * 3\n",
    "s"
   ]
  },
  {
   "cell_type": "code",
   "execution_count": 69,
   "id": "00a4e698",
   "metadata": {},
   "outputs": [],
   "source": [
    "# # # Fundamental data types of Python :-\n",
    "\n",
    "# int\n",
    "# float\n",
    "# complex\n",
    "# bool\n",
    "# str"
   ]
  },
  {
   "cell_type": "code",
   "execution_count": 70,
   "id": "2b407ef2",
   "metadata": {},
   "outputs": [],
   "source": [
    "# # # Type Casting :-"
   ]
  },
  {
   "cell_type": "code",
   "execution_count": 71,
   "id": "114cbeb3",
   "metadata": {},
   "outputs": [],
   "source": [
    "# int()\n",
    "# float()\n",
    "# complex()\n",
    "# bool()\n",
    "# str()"
   ]
  },
  {
   "cell_type": "code",
   "execution_count": 72,
   "id": "85fed41f",
   "metadata": {},
   "outputs": [],
   "source": [
    "# # 1. int() ->"
   ]
  },
  {
   "cell_type": "code",
   "execution_count": 80,
   "id": "72f1e1f8",
   "metadata": {},
   "outputs": [],
   "source": [
    "# We can use this function to convert from other types to int\n",
    "\n",
    "# int(x)\n",
    "\n",
    "# We can convert from any type to int type except comlex type.\n",
    "\n",
    "# If we want to convert str to int type, string should represent only integral value and should be specified only in decimal form(base-10)"
   ]
  },
  {
   "cell_type": "code",
   "execution_count": 3,
   "id": "c49158a3",
   "metadata": {},
   "outputs": [
    {
     "data": {
      "text/plain": [
       "10"
      ]
     },
     "execution_count": 3,
     "metadata": {},
     "output_type": "execute_result"
    }
   ],
   "source": [
    "int(10.5)"
   ]
  },
  {
   "cell_type": "code",
   "execution_count": 74,
   "id": "5c7336ae",
   "metadata": {},
   "outputs": [
    {
     "data": {
      "text/plain": [
       "10"
      ]
     },
     "execution_count": 74,
     "metadata": {},
     "output_type": "execute_result"
    }
   ],
   "source": [
    "int('10')"
   ]
  },
  {
   "cell_type": "code",
   "execution_count": 77,
   "id": "393a74cd",
   "metadata": {},
   "outputs": [
    {
     "ename": "ValueError",
     "evalue": "invalid literal for int() with base 10: '10.5'",
     "output_type": "error",
     "traceback": [
      "\u001b[1;31m---------------------------------------------------------------------------\u001b[0m",
      "\u001b[1;31mValueError\u001b[0m                                Traceback (most recent call last)",
      "Cell \u001b[1;32mIn[77], line 1\u001b[0m\n\u001b[1;32m----> 1\u001b[0m \u001b[38;5;28mint\u001b[39m(\u001b[38;5;124m'\u001b[39m\u001b[38;5;124m10.5\u001b[39m\u001b[38;5;124m'\u001b[39m)\n",
      "\u001b[1;31mValueError\u001b[0m: invalid literal for int() with base 10: '10.5'"
     ]
    }
   ],
   "source": [
    "int('10.5')"
   ]
  },
  {
   "cell_type": "code",
   "execution_count": 75,
   "id": "49ea93f0",
   "metadata": {},
   "outputs": [
    {
     "data": {
      "text/plain": [
       "1"
      ]
     },
     "execution_count": 75,
     "metadata": {},
     "output_type": "execute_result"
    }
   ],
   "source": [
    "int(True)"
   ]
  },
  {
   "cell_type": "code",
   "execution_count": 76,
   "id": "5018757f",
   "metadata": {},
   "outputs": [
    {
     "ename": "TypeError",
     "evalue": "int() argument must be a string, a bytes-like object or a real number, not 'complex'",
     "output_type": "error",
     "traceback": [
      "\u001b[1;31m---------------------------------------------------------------------------\u001b[0m",
      "\u001b[1;31mTypeError\u001b[0m                                 Traceback (most recent call last)",
      "Cell \u001b[1;32mIn[76], line 1\u001b[0m\n\u001b[1;32m----> 1\u001b[0m \u001b[38;5;28mint\u001b[39m(\u001b[38;5;241m10\u001b[39m\u001b[38;5;241m+\u001b[39m\u001b[38;5;241m20\u001b[39mj)\n",
      "\u001b[1;31mTypeError\u001b[0m: int() argument must be a string, a bytes-like object or a real number, not 'complex'"
     ]
    }
   ],
   "source": [
    "int(10+20j)"
   ]
  },
  {
   "cell_type": "code",
   "execution_count": 78,
   "id": "0ee54335",
   "metadata": {},
   "outputs": [
    {
     "ename": "ValueError",
     "evalue": "invalid literal for int() with base 10: '0B1001'",
     "output_type": "error",
     "traceback": [
      "\u001b[1;31m---------------------------------------------------------------------------\u001b[0m",
      "\u001b[1;31mValueError\u001b[0m                                Traceback (most recent call last)",
      "Cell \u001b[1;32mIn[78], line 1\u001b[0m\n\u001b[1;32m----> 1\u001b[0m \u001b[38;5;28mint\u001b[39m(\u001b[38;5;124m'\u001b[39m\u001b[38;5;124m0B1001\u001b[39m\u001b[38;5;124m'\u001b[39m)\n",
      "\u001b[1;31mValueError\u001b[0m: invalid literal for int() with base 10: '0B1001'"
     ]
    }
   ],
   "source": [
    "int('0B1001')"
   ]
  },
  {
   "cell_type": "code",
   "execution_count": 2,
   "id": "2c4d08f4",
   "metadata": {},
   "outputs": [
    {
     "ename": "ValueError",
     "evalue": "invalid literal for int() with base 10: 'durga'",
     "output_type": "error",
     "traceback": [
      "\u001b[1;31m---------------------------------------------------------------------------\u001b[0m",
      "\u001b[1;31mValueError\u001b[0m                                Traceback (most recent call last)",
      "Cell \u001b[1;32mIn[2], line 1\u001b[0m\n\u001b[1;32m----> 1\u001b[0m \u001b[38;5;28;43mint\u001b[39;49m\u001b[43m(\u001b[49m\u001b[38;5;124;43m'\u001b[39;49m\u001b[38;5;124;43mdurga\u001b[39;49m\u001b[38;5;124;43m'\u001b[39;49m\u001b[43m)\u001b[49m\n",
      "\u001b[1;31mValueError\u001b[0m: invalid literal for int() with base 10: 'durga'"
     ]
    }
   ],
   "source": [
    "int('durga')"
   ]
  },
  {
   "cell_type": "code",
   "execution_count": null,
   "id": "fe1420c7",
   "metadata": {},
   "outputs": [],
   "source": [
    "# float --> int   int(10.5)\n",
    "# complex --> int   int(10+20j)  # Error\n",
    "# bool --> int  int(True)-->1\n",
    "# str --> int   int('123')"
   ]
  }
 ],
 "metadata": {
  "kernelspec": {
   "display_name": "Python 3 (ipykernel)",
   "language": "python",
   "name": "python3"
  },
  "language_info": {
   "codemirror_mode": {
    "name": "ipython",
    "version": 3
   },
   "file_extension": ".py",
   "mimetype": "text/x-python",
   "name": "python",
   "nbconvert_exporter": "python",
   "pygments_lexer": "ipython3",
   "version": "3.11.9"
  }
 },
 "nbformat": 4,
 "nbformat_minor": 5
}
