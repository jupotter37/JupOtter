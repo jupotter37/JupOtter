{
 "cells": [
  {
   "attachments": {},
   "cell_type": "markdown",
   "metadata": {},
   "source": [
    "## DSA using python"
   ]
  },
  {
   "attachments": {},
   "cell_type": "markdown",
   "metadata": {},
   "source": [
    "### sample factorial\n"
   ]
  },
  {
   "cell_type": "code",
   "execution_count": 23,
   "metadata": {},
   "outputs": [
    {
     "data": {
      "text/plain": [
       "False"
      ]
     },
     "execution_count": 23,
     "metadata": {},
     "output_type": "execute_result"
    }
   ],
   "source": [
    "def factors(n):\n",
    "    for i in range(1,n+1):\n",
    "        if n%i == 0:\n",
    "            yield i\n",
    "\n",
    "def prime(n):\n",
    "    return len(list(factors(n))) == 2\n"
   ]
  },
  {
   "attachments": {},
   "cell_type": "markdown",
   "metadata": {},
   "source": [
    "### GCD"
   ]
  },
  {
   "attachments": {},
   "cell_type": "markdown",
   "metadata": {},
   "source": [
    "Brute force"
   ]
  },
  {
   "cell_type": "code",
   "execution_count": 85,
   "metadata": {},
   "outputs": [
    {
     "name": "stdout",
     "output_type": "stream",
     "text": [
      "4\n"
     ]
    }
   ],
   "source": [
    "def gcd(m,n):\n",
    "    for i in range(1,min(m,n)+1):\n",
    "        if m%i == 0 and n%i == 0:\n",
    "            yield i\n",
    "            \n",
    "print(list(gcd(8,12))[-1])"
   ]
  },
  {
   "cell_type": "code",
   "execution_count": 29,
   "metadata": {},
   "outputs": [
    {
     "name": "stdout",
     "output_type": "stream",
     "text": [
      "4\n"
     ]
    }
   ],
   "source": [
    "def gcd(m,n):\n",
    "    for i in range(1,min(m,n)+1):\n",
    "        if m%i == 0 and n%i == 0:\n",
    "            most_recent_common_factor = i\n",
    "    return (most_recent_common_factor)\n",
    "\n",
    "print(gcd(8,12))\n"
   ]
  },
  {
   "attachments": {},
   "cell_type": "markdown",
   "metadata": {},
   "source": [
    "Another stratergy "
   ]
  },
  {
   "cell_type": "code",
   "execution_count": null,
   "metadata": {},
   "outputs": [],
   "source": [
    "\n",
    "def gcd(m,n):\n",
    "    global steps\n",
    "    (a,b) = (max(m,n),min(m,n))\n",
    "    print(steps)\n",
    "\n",
    "    if a%b == 0:\n",
    "        return b\n",
    "    else:\n",
    "        steps += 1\n",
    "        return gcd(b,a-b)\n",
    "    \n",
    "\n",
    "print(gcd(99,2))"
   ]
  },
  {
   "attachments": {},
   "cell_type": "markdown",
   "metadata": {},
   "source": [
    "Euclid algorithm"
   ]
  },
  {
   "cell_type": "code",
   "execution_count": 132,
   "metadata": {},
   "outputs": [],
   "source": [
    "def gcd(m,n):\n",
    "    (a,b) = (max(m,n),min(m,n))\n",
    "\n",
    "    if a%b == 0:\n",
    "        return b\n",
    "    else:\n",
    "        return gcd(b,a%b)\n",
    "\n",
    "#non trivial algorithm -> An algorithm that improves the performance of an obvious algorithm "
   ]
  },
  {
   "cell_type": "code",
   "execution_count": 133,
   "metadata": {},
   "outputs": [
    {
     "name": "stdout",
     "output_type": "stream",
     "text": [
      "9\n"
     ]
    }
   ],
   "source": [
    "print(gcd(9999999999,9))"
   ]
  },
  {
   "attachments": {},
   "cell_type": "markdown",
   "metadata": {},
   "source": [
    "### prime numbers"
   ]
  },
  {
   "cell_type": "code",
   "execution_count": 27,
   "metadata": {},
   "outputs": [],
   "source": [
    "from math import sqrt\n",
    "def prime(n):\n",
    "    (result,i) = (True,2)\n",
    "    while(result and (i<=sqrt(n))):\n",
    "        if n%i == 0:\n",
    "            result = False\n",
    "        i+=1\n",
    "    return result\n",
    "    "
   ]
  },
  {
   "cell_type": "code",
   "execution_count": 71,
   "metadata": {},
   "outputs": [
    {
     "data": {
      "text/plain": [
       "False"
      ]
     },
     "execution_count": 71,
     "metadata": {},
     "output_type": "execute_result"
    }
   ],
   "source": [
    "prime(49)"
   ]
  },
  {
   "cell_type": "code",
   "execution_count": null,
   "metadata": {},
   "outputs": [],
   "source": [
    "\n",
    "def difference_distribution(n):\n",
    "    list_of_prime = []\n",
    "    difference_distribution_list = []\n",
    "    for i in range(2,n+1):\n",
    "        if prime(i):\n",
    "            list_of_prime.append(i)\n",
    "    for j in range(0,len(list_of_prime)-1):\n",
    "        difference_distribution_list.append(list_of_prime[j+1] - list_of_prime[j])\n",
    "    return (difference_distribution_list)\n",
    "    \n",
    "\n",
    "difference_distribution(10000)"
   ]
  },
  {
   "cell_type": "code",
   "execution_count": 82,
   "metadata": {},
   "outputs": [
    {
     "name": "stdout",
     "output_type": "stream",
     "text": [
      "{1: 1, 2: 35, 4: 40, 6: 44, 8: 15, 14: 7, 10: 16, 12: 7, 18: 1, 20: 1}\n"
     ]
    }
   ],
   "source": [
    "freq = {}\n",
    "\n",
    "for i in difference_distribution(1000):\n",
    "    if i in freq.keys():\n",
    "        freq[i] = freq[i]+1\n",
    "    else:\n",
    "        freq[i] = 1\n",
    "\n",
    "print(freq)"
   ]
  },
  {
   "attachments": {},
   "cell_type": "markdown",
   "metadata": {},
   "source": [
    "### Exeption Handling"
   ]
  },
  {
   "attachments": {},
   "cell_type": "markdown",
   "metadata": {},
   "source": [
    "- goal is to recover gracefully \n",
    "- provide a contegency plan \n",
    "- handle exeptional cases"
   ]
  },
  {
   "cell_type": "code",
   "execution_count": 134,
   "metadata": {},
   "outputs": [
    {
     "name": "stdout",
     "output_type": "stream",
     "text": [
      "There are no 23 elements in the list\n"
     ]
    }
   ],
   "source": [
    "def execpt_handle_array(n):\n",
    "    try:\n",
    "        print(n[23])\n",
    "    except IndexError:\n",
    "        print(\"There are no 23 elements in the list\")\n",
    "\n",
    "execpt_handle_array([2,3,4,5])"
   ]
  },
  {
   "attachments": {},
   "cell_type": "markdown",
   "metadata": {},
   "source": [
    "Using execption positively"
   ]
  },
  {
   "cell_type": "code",
   "execution_count": 136,
   "metadata": {},
   "outputs": [
    {
     "name": "stdout",
     "output_type": "stream",
     "text": [
      "{1: 1, 2: 6, 3: 10, 4: 10, 5: 7, 6: 5, 7: 2, 24: 1, 66: 1, 56: 2, 34: 1, 67: 1}\n"
     ]
    }
   ],
   "source": [
    "count = {}\n",
    "k = [1,2,3,4,5,6,7,4,24,5,66,4,4,3,4,56,3,2,2,3,3,4,5,56,4,3,3,2,2,3,4,5,6,6,6,5,4,3,3,2,34,4,5,5,6,67,7]\n",
    "\n",
    "for i in k:\n",
    "    try:\n",
    "        count[i] += 1\n",
    "    except KeyError:\n",
    "        count[i] = 1\n",
    "\n",
    "print(count)\n"
   ]
  },
  {
   "attachments": {},
   "cell_type": "markdown",
   "metadata": {},
   "source": [
    "Sequence of handling error"
   ]
  },
  {
   "cell_type": "code",
   "execution_count": 139,
   "metadata": {},
   "outputs": [
    {
     "ename": "ValueError",
     "evalue": "invalid literal for int() with base 10: '20.345'",
     "output_type": "error",
     "traceback": [
      "\u001b[1;31m---------------------------------------------------------------------------\u001b[0m",
      "\u001b[1;31mValueError\u001b[0m                                Traceback (most recent call last)",
      "Cell \u001b[1;32mIn[139], line 16\u001b[0m\n\u001b[0;32m     10\u001b[0m \u001b[39mdef\u001b[39;00m \u001b[39mm\u001b[39m(x):\n\u001b[0;32m     11\u001b[0m     \u001b[39mprint\u001b[39m(\u001b[39mint\u001b[39m(x))\n\u001b[1;32m---> 16\u001b[0m f(\u001b[39m\"\u001b[39;49m\u001b[39m20.345\u001b[39;49m\u001b[39m\"\u001b[39;49m)\n",
      "Cell \u001b[1;32mIn[139], line 2\u001b[0m, in \u001b[0;36mf\u001b[1;34m(x)\u001b[0m\n\u001b[0;32m      1\u001b[0m \u001b[39mdef\u001b[39;00m \u001b[39mf\u001b[39m(x):\n\u001b[1;32m----> 2\u001b[0m     a(x)\n",
      "Cell \u001b[1;32mIn[139], line 5\u001b[0m, in \u001b[0;36ma\u001b[1;34m(x)\u001b[0m\n\u001b[0;32m      4\u001b[0m \u001b[39mdef\u001b[39;00m \u001b[39ma\u001b[39m(x):\n\u001b[1;32m----> 5\u001b[0m     k(x)\n",
      "Cell \u001b[1;32mIn[139], line 8\u001b[0m, in \u001b[0;36mk\u001b[1;34m(x)\u001b[0m\n\u001b[0;32m      7\u001b[0m \u001b[39mdef\u001b[39;00m \u001b[39mk\u001b[39m(x):\n\u001b[1;32m----> 8\u001b[0m     m(x)\n",
      "Cell \u001b[1;32mIn[139], line 11\u001b[0m, in \u001b[0;36mm\u001b[1;34m(x)\u001b[0m\n\u001b[0;32m     10\u001b[0m \u001b[39mdef\u001b[39;00m \u001b[39mm\u001b[39m(x):\n\u001b[1;32m---> 11\u001b[0m     \u001b[39mprint\u001b[39m(\u001b[39mint\u001b[39;49m(x))\n",
      "\u001b[1;31mValueError\u001b[0m: invalid literal for int() with base 10: '20.345'"
     ]
    }
   ],
   "source": [
    "\n",
    "\n",
    "def f(x):\n",
    "    a(x) #error inherited from m(x) -> k(x) -> a(x)\n",
    "\n",
    "def a(x):\n",
    "    k(x) #error inherited from m(x) -> k(x)\n",
    "\n",
    "def k(x):\n",
    "    m(x) #error inherited from m(x)\n",
    "\n",
    "def m(x):\n",
    "    print(int(x)) #error raised\n",
    "\n",
    "\n",
    "f(\"20.345\")\n",
    "    "
   ]
  },
  {
   "attachments": {},
   "cell_type": "markdown",
   "metadata": {},
   "source": [
    "### Classes and objects "
   ]
  },
  {
   "attachments": {},
   "cell_type": "markdown",
   "metadata": {},
   "source": [
    " point "
   ]
  },
  {
   "cell_type": "code",
   "execution_count": 1,
   "metadata": {},
   "outputs": [],
   "source": [
    "class Point:\n",
    "    def __init__(self,a=0,b=0):\n",
    "        self.x = a\n",
    "        self.y = b\n",
    "    \n",
    "    def translate(self,dx,dy):\n",
    "        self.x += dx\n",
    "        self.y += dy\n",
    "\n",
    "    def distance(self):\n",
    "        import math\n",
    "        return math.sqrt(self.x**2 + self.y**2)\n",
    "\n"
   ]
  },
  {
   "cell_type": "code",
   "execution_count": 8,
   "metadata": {},
   "outputs": [
    {
     "name": "stdout",
     "output_type": "stream",
     "text": [
      "<__main__.Point object at 0x0000017C6E84B730>\n"
     ]
    },
    {
     "data": {
      "text/plain": [
       "(5.0, 7.810249675906654)"
      ]
     },
     "execution_count": 8,
     "metadata": {},
     "output_type": "execute_result"
    }
   ],
   "source": [
    "p = Point(3,4)\n",
    "print(p)\n",
    "q = Point(5,6)\n",
    "\n",
    "p.distance(),q.distance()"
   ]
  },
  {
   "attachments": {},
   "cell_type": "markdown",
   "metadata": {},
   "source": [
    "defenition 2"
   ]
  },
  {
   "cell_type": "code",
   "execution_count": 9,
   "metadata": {},
   "outputs": [],
   "source": [
    "class Point:\n",
    "\n",
    "    def __init__(self,a=0,b=0):\n",
    "        import math\n",
    "        self.r = math.sqrt(a**2 + b**2)\n",
    "        if a==0:\n",
    "            self.theta = 0\n",
    "        else:\n",
    "            self.theta = math.atan(b/a)\n",
    "    \n",
    "    def translate(self,dx,dy):\n",
    "        import math\n",
    "        x = self.r*math.cos(self.theta)\n",
    "        y = self.r*math.sin(self.theta)\n",
    "\n",
    "        x+=dx\n",
    "        y+=dy\n",
    "\n",
    "        self.r = math.sqrt(x**2+y**2)\n",
    "        if x == 0:\n",
    "            self.theta = 0\n",
    "        else:\n",
    "            self.theta = math.atan(y/x)"
   ]
  },
  {
   "cell_type": "code",
   "execution_count": 18,
   "metadata": {},
   "outputs": [
    {
     "data": {
      "text/plain": [
       "10.816653826391969"
      ]
     },
     "execution_count": 18,
     "metadata": {},
     "output_type": "execute_result"
    }
   ],
   "source": [
    "p = Point(3,4)\n",
    "\n",
    "p.translate(6,2)\n",
    "\n",
    "p.r"
   ]
  },
  {
   "attachments": {},
   "cell_type": "markdown",
   "metadata": {},
   "source": [
    "### Timing the code"
   ]
  },
  {
   "cell_type": "code",
   "execution_count": 4,
   "metadata": {},
   "outputs": [],
   "source": [
    "import time\n",
    "class Timer:\n",
    "    def __init__(self):\n",
    "        self.start_time = 0\n",
    "        self.elpased = 0\n",
    "    def start(self):\n",
    "        self.start_time = time.perf_counter()\n",
    "     \n",
    "    def stop(self):\n",
    "        self.elpased = time.perf_counter() - self.start_time\n",
    "\n",
    "    def elapsed_time(self):\n",
    "        return self.elpased\n"
   ]
  },
  {
   "cell_type": "code",
   "execution_count": 70,
   "metadata": {},
   "outputs": [],
   "source": [
    "#decoorator \n",
    "\n",
    "def time_this(func):\n",
    "\n",
    "    def wrapper(*args,**kwargs):\n",
    "        start = time.perf_counter()\n",
    "        func(*args,**kwargs)\n",
    "        end = time.perf_counter()\n",
    "        print(\"Time taken to execute the function is {}\".format(end-start))\n",
    "        \n",
    "    return wrapper"
   ]
  },
  {
   "cell_type": "code",
   "execution_count": 71,
   "metadata": {},
   "outputs": [
    {
     "ename": "NameError",
     "evalue": "name 'time' is not defined",
     "output_type": "error",
     "traceback": [
      "\u001b[1;31m---------------------------------------------------------------------------\u001b[0m",
      "\u001b[1;31mNameError\u001b[0m                                 Traceback (most recent call last)",
      "Cell \u001b[1;32mIn[71], line 13\u001b[0m\n\u001b[0;32m      9\u001b[0m         difference_distribution_list\u001b[39m.\u001b[39mappend(list_of_prime[j\u001b[39m+\u001b[39m\u001b[39m1\u001b[39m] \u001b[39m-\u001b[39m list_of_prime[j])\n\u001b[0;32m     10\u001b[0m     \u001b[39mreturn\u001b[39;00m (difference_distribution_list)\n\u001b[1;32m---> 13\u001b[0m difference_distribution(\u001b[39m1000000\u001b[39;49m)\n",
      "Cell \u001b[1;32mIn[70], line 6\u001b[0m, in \u001b[0;36mtime_this.<locals>.wrapper\u001b[1;34m(*args, **kwargs)\u001b[0m\n\u001b[0;32m      5\u001b[0m \u001b[39mdef\u001b[39;00m \u001b[39mwrapper\u001b[39m(\u001b[39m*\u001b[39margs,\u001b[39m*\u001b[39m\u001b[39m*\u001b[39mkwargs):\n\u001b[1;32m----> 6\u001b[0m     start \u001b[39m=\u001b[39m time\u001b[39m.\u001b[39mperf_counter()\n\u001b[0;32m      7\u001b[0m     func(\u001b[39m*\u001b[39margs,\u001b[39m*\u001b[39m\u001b[39m*\u001b[39mkwargs)\n\u001b[0;32m      8\u001b[0m     end \u001b[39m=\u001b[39m time\u001b[39m.\u001b[39mperf_counter()\n",
      "\u001b[1;31mNameError\u001b[0m: name 'time' is not defined"
     ]
    }
   ],
   "source": [
    "@time_this\n",
    "def difference_distribution(n):\n",
    "    list_of_prime = []\n",
    "    difference_distribution_list = []\n",
    "    for i in range(2,n+1):\n",
    "        if prime(i):\n",
    "            list_of_prime.append(i)\n",
    "    for j in range(0,len(list_of_prime)-1):\n",
    "        difference_distribution_list.append(list_of_prime[j+1] - list_of_prime[j])\n",
    "    return (difference_distribution_list)\n",
    "    \n",
    "\n",
    "difference_distribution(1000000)"
   ]
  },
  {
   "attachments": {},
   "cell_type": "markdown",
   "metadata": {},
   "source": [
    "### Implementation of codes part 3\n"
   ]
  },
  {
   "attachments": {},
   "cell_type": "markdown",
   "metadata": {},
   "source": [
    "Creating a timer class"
   ]
  },
  {
   "cell_type": "code",
   "execution_count": 13,
   "metadata": {},
   "outputs": [],
   "source": [
    "#new timer class\n",
    "\n",
    "import time\n",
    "from time import perf_counter\n",
    "\n",
    "class TimerError(Exception):\n",
    "    \"\"\"its my custom timer error\"\"\"\n",
    "\n",
    "\n",
    "class Timer:\n",
    "    def __init__(self):\n",
    "        self.start_time = None\n",
    "        self.stop_time = None\n",
    "\n",
    "    def start(self) -> None:\n",
    "        \"\"\"starts the timer\"\"\"\n",
    "\n",
    "        if self.start_time is not None:\n",
    "            raise TimerError(\"Timer is running use stop\")\n",
    "        self.start_time = time.perf_counter()\n",
    "    \n",
    "    def stop(self) -> None:\n",
    "        \"\"\"stops the timer\"\"\"\n",
    "\n",
    "        if self.start_time is None:\n",
    "            raise TimerError(\"timer is not running please run it\")\n",
    "        self.stop_time = abs(self.start_time - time.perf_counter())\n",
    "        self.start_time = None\n",
    "    \n",
    "    def elapsed(self) -> None:\n",
    "        \n",
    "        if self.stop_time is None:\n",
    "            raise TimerError(\"please run the timer first\")\n",
    "        return(self.stop_time)\n",
    "    \n",
    "    def __str__(self):\n",
    "        \"\"\"print() prints the elapsed time\"\"\"\n",
    "        return(str(self.stop_time))\n"
   ]
  },
  {
   "attachments": {},
   "cell_type": "markdown",
   "metadata": {},
   "source": [
    "Using the timer class"
   ]
  },
  {
   "cell_type": "code",
   "execution_count": 15,
   "metadata": {},
   "outputs": [
    {
     "name": "stdout",
     "output_type": "stream",
     "text": [
      "4 0.001320100000043567\n",
      "5 0.010749399999895104\n",
      "6 0.08237599999995382\n",
      "7 0.6764505999999528\n",
      "8 6.423345799999993\n"
     ]
    }
   ],
   "source": [
    "t = Timer()\n",
    "for j in range(4,9):\n",
    "    t.start()\n",
    "    n = 0\n",
    "    for i in range(10**j):\n",
    "        n+=i\n",
    "    t.stop()\n",
    "    print(j,t)\n"
   ]
  },
  {
   "cell_type": "code",
   "execution_count": 16,
   "metadata": {},
   "outputs": [],
   "source": [
    "t.start()"
   ]
  },
  {
   "cell_type": "code",
   "execution_count": 17,
   "metadata": {},
   "outputs": [
    {
     "ename": "TimerError",
     "evalue": "Timer is running use stop",
     "output_type": "error",
     "traceback": [
      "\u001b[1;31m---------------------------------------------------------------------------\u001b[0m",
      "\u001b[1;31mTimerError\u001b[0m                                Traceback (most recent call last)",
      "Cell \u001b[1;32mIn[17], line 1\u001b[0m\n\u001b[1;32m----> 1\u001b[0m t\u001b[39m.\u001b[39;49mstart()\n",
      "Cell \u001b[1;32mIn[13], line 19\u001b[0m, in \u001b[0;36mTimer.start\u001b[1;34m(self)\u001b[0m\n\u001b[0;32m     16\u001b[0m \u001b[39m\"\"\"starts the timer\"\"\"\u001b[39;00m\n\u001b[0;32m     18\u001b[0m \u001b[39mif\u001b[39;00m \u001b[39mself\u001b[39m\u001b[39m.\u001b[39mstart_time \u001b[39mis\u001b[39;00m \u001b[39mnot\u001b[39;00m \u001b[39mNone\u001b[39;00m:\n\u001b[1;32m---> 19\u001b[0m     \u001b[39mraise\u001b[39;00m TimerError(\u001b[39m\"\u001b[39m\u001b[39mTimer is running use stop\u001b[39m\u001b[39m\"\u001b[39m)\n\u001b[0;32m     20\u001b[0m \u001b[39mself\u001b[39m\u001b[39m.\u001b[39mstart_time \u001b[39m=\u001b[39m time\u001b[39m.\u001b[39mperf_counter()\n",
      "\u001b[1;31mTimerError\u001b[0m: Timer is running use stop"
     ]
    }
   ],
   "source": [
    "t.start()"
   ]
  },
  {
   "cell_type": "code",
   "execution_count": 18,
   "metadata": {},
   "outputs": [],
   "source": [
    "t.stop()"
   ]
  },
  {
   "cell_type": "code",
   "execution_count": 19,
   "metadata": {},
   "outputs": [
    {
     "ename": "TimerError",
     "evalue": "timer is not running please run it",
     "output_type": "error",
     "traceback": [
      "\u001b[1;31m---------------------------------------------------------------------------\u001b[0m",
      "\u001b[1;31mTimerError\u001b[0m                                Traceback (most recent call last)",
      "Cell \u001b[1;32mIn[19], line 1\u001b[0m\n\u001b[1;32m----> 1\u001b[0m t\u001b[39m.\u001b[39;49mstop()\n",
      "Cell \u001b[1;32mIn[13], line 26\u001b[0m, in \u001b[0;36mTimer.stop\u001b[1;34m(self)\u001b[0m\n\u001b[0;32m     23\u001b[0m \u001b[39m\"\"\"stops the timer\"\"\"\u001b[39;00m\n\u001b[0;32m     25\u001b[0m \u001b[39mif\u001b[39;00m \u001b[39mself\u001b[39m\u001b[39m.\u001b[39mstart_time \u001b[39mis\u001b[39;00m \u001b[39mNone\u001b[39;00m:\n\u001b[1;32m---> 26\u001b[0m     \u001b[39mraise\u001b[39;00m TimerError(\u001b[39m\"\u001b[39m\u001b[39mtimer is not running please run it\u001b[39m\u001b[39m\"\u001b[39m)\n\u001b[0;32m     27\u001b[0m \u001b[39mself\u001b[39m\u001b[39m.\u001b[39mstop_time \u001b[39m=\u001b[39m \u001b[39mabs\u001b[39m(\u001b[39mself\u001b[39m\u001b[39m.\u001b[39mstart_time \u001b[39m-\u001b[39m time\u001b[39m.\u001b[39mperf_counter())\n\u001b[0;32m     28\u001b[0m \u001b[39mself\u001b[39m\u001b[39m.\u001b[39mstart_time \u001b[39m=\u001b[39m \u001b[39mNone\u001b[39;00m\n",
      "\u001b[1;31mTimerError\u001b[0m: timer is not running please run it"
     ]
    }
   ],
   "source": [
    "t.stop()"
   ]
  },
  {
   "cell_type": "code",
   "execution_count": 20,
   "metadata": {},
   "outputs": [
    {
     "data": {
      "text/plain": [
       "14.371612999999911"
      ]
     },
     "execution_count": 20,
     "metadata": {},
     "output_type": "execute_result"
    }
   ],
   "source": [
    "t.elapsed()"
   ]
  },
  {
   "cell_type": "code",
   "execution_count": 25,
   "metadata": {},
   "outputs": [],
   "source": [
    "t.start()"
   ]
  },
  {
   "cell_type": "code",
   "execution_count": 22,
   "metadata": {},
   "outputs": [
    {
     "data": {
      "text/plain": [
       "14.371612999999911"
      ]
     },
     "execution_count": 22,
     "metadata": {},
     "output_type": "execute_result"
    }
   ],
   "source": [
    "t.elapsed()"
   ]
  },
  {
   "cell_type": "code",
   "execution_count": 26,
   "metadata": {},
   "outputs": [],
   "source": [
    "t.stop()"
   ]
  },
  {
   "cell_type": "code",
   "execution_count": 27,
   "metadata": {},
   "outputs": [
    {
     "data": {
      "text/plain": [
       "42.12002819999998"
      ]
     },
     "execution_count": 27,
     "metadata": {},
     "output_type": "execute_result"
    }
   ],
   "source": [
    "t.elapsed()"
   ]
  },
  {
   "cell_type": "code",
   "execution_count": 30,
   "metadata": {},
   "outputs": [
    {
     "name": "stdout",
     "output_type": "stream",
     "text": [
      "42.12002819999998\n"
     ]
    }
   ],
   "source": [
    "print(t.stop_time)"
   ]
  },
  {
   "cell_type": "code",
   "execution_count": 31,
   "metadata": {},
   "outputs": [
    {
     "ename": "TimerError",
     "evalue": "please run the timer first",
     "output_type": "error",
     "traceback": [
      "\u001b[1;31m---------------------------------------------------------------------------\u001b[0m",
      "\u001b[1;31mTimerError\u001b[0m                                Traceback (most recent call last)",
      "Cell \u001b[1;32mIn[31], line 2\u001b[0m\n\u001b[0;32m      1\u001b[0m j \u001b[39m=\u001b[39m Timer()\n\u001b[1;32m----> 2\u001b[0m j\u001b[39m.\u001b[39;49melapsed()\n",
      "Cell \u001b[1;32mIn[13], line 33\u001b[0m, in \u001b[0;36mTimer.elapsed\u001b[1;34m(self)\u001b[0m\n\u001b[0;32m     30\u001b[0m \u001b[39mdef\u001b[39;00m \u001b[39melapsed\u001b[39m(\u001b[39mself\u001b[39m):\n\u001b[0;32m     32\u001b[0m     \u001b[39mif\u001b[39;00m \u001b[39mself\u001b[39m\u001b[39m.\u001b[39mstop_time \u001b[39mis\u001b[39;00m \u001b[39mNone\u001b[39;00m:\n\u001b[1;32m---> 33\u001b[0m         \u001b[39mraise\u001b[39;00m TimerError(\u001b[39m\"\u001b[39m\u001b[39mplease run the timer first\u001b[39m\u001b[39m\"\u001b[39m)\n\u001b[0;32m     34\u001b[0m     \u001b[39mreturn\u001b[39;00m(\u001b[39mself\u001b[39m\u001b[39m.\u001b[39mstop_time)\n",
      "\u001b[1;31mTimerError\u001b[0m: please run the timer first"
     ]
    }
   ],
   "source": [
    "j = Timer()\n",
    "j.elapsed()"
   ]
  },
  {
   "attachments": {},
   "cell_type": "markdown",
   "metadata": {},
   "source": [
    "### calculating complexity"
   ]
  },
  {
   "cell_type": "code",
   "execution_count": 1,
   "metadata": {},
   "outputs": [
    {
     "name": "stdout",
     "output_type": "stream",
     "text": [
      "98\n"
     ]
    }
   ],
   "source": [
    "def maxval(arr):\n",
    "    maximum_value = arr[0]\n",
    "    for i in arr:\n",
    "        if i > maximum_value:\n",
    "            maximum_value = i\n",
    "    return maximum_value\n",
    "\n",
    "#the above function has to run through the entire array of size n. It must do that there is no other way so worst case and average case is both n\n",
    "print(maxval([2,3,7,98]))"
   ]
  },
  {
   "cell_type": "code",
   "execution_count": 3,
   "metadata": {},
   "outputs": [
    {
     "data": {
      "text/plain": [
       "False"
      ]
     },
     "execution_count": 3,
     "metadata": {},
     "output_type": "execute_result"
    }
   ],
   "source": [
    "def nodup(arr):\n",
    "    for i in range(len(arr)):\n",
    "        for j in range(i+1,len(arr)):\n",
    "            if arr[i] == arr[j]:\n",
    "                return False\n",
    "    return True\n",
    "\n",
    "# this function has the worst case complexity as n**2 as to get true it has to go through the entire array\n",
    "nodup([1,2,5,2,4]) "
   ]
  },
  {
   "cell_type": "code",
   "execution_count": 8,
   "metadata": {},
   "outputs": [
    {
     "data": {
      "text/plain": [
       "[[38, 44, 50, 56], [83, 98, 113, 128]]"
      ]
     },
     "execution_count": 8,
     "metadata": {},
     "output_type": "execute_result"
    }
   ],
   "source": [
    "def matmul(A,B):\n",
    "    try:\n",
    "        (m,n,p) = (len(A),len(B),len(B[0]))\n",
    "        \n",
    "        multiplied_matrix = [[0 for i in range(p)] \n",
    "                             for j in range(m)]\n",
    "        \n",
    "        for i in range(m):\n",
    "            for j in range(p):\n",
    "                for k in range(n):\n",
    "                    multiplied_matrix[i][j] += A[i][k]*B[k][j]\n",
    "        return multiplied_matrix\n",
    "    \n",
    "    except:\n",
    "        return \"Matrix mul not possible\"\n",
    "    \n",
    "A = [[1,2,3],\n",
    "     [4,5,6]]\n",
    "\n",
    "B = [[1,2,3,4],\n",
    "     [5,6,7,8],\n",
    "     [9,10,11,12]]\n",
    "\n",
    "matmul(A,B)"
   ]
  },
  {
   "attachments": {},
   "cell_type": "markdown",
   "metadata": {},
   "source": [
    "### Tower of Hanoi"
   ]
  },
  {
   "cell_type": "code",
   "execution_count": 1,
   "metadata": {},
   "outputs": [],
   "source": [
    "#tower of hanoi puzzle\n",
    "\n",
    "class tower:\n",
    "    def __init__(self,disks=3):\n",
    "        self.disks = disks\n",
    "        self.towers = [[]] * 3\n",
    "        self.towers[0] = [i for i in range(self.disks,0,-1)]\n",
    "        self.towers[1] = []\n",
    "        self.towers[2] = []\n",
    "    \n",
    "    def __str__(self):\n",
    "\n",
    "        out = \"\"\n",
    "        for i in range(self.disks,-1,-1):\n",
    "            for j in range(3):\n",
    "                if len(self.towers[j]) > i:\n",
    "                    out += \" \" + str(self.towers[j][i])\n",
    "                else:\n",
    "                    out += \"  \"\n",
    "            out += \"\\n\"\n",
    "        return out + \"-------------\"\n",
    "    \n",
    "    def move(self,from_tower,to_tower):\n",
    "\n",
    "        disk = self.towers[from_tower].pop()\n",
    "        self.towers[to_tower].append(disk)\n",
    "\n",
    "\n",
    "def tower_of_hanoi(towers,n,start,dest,aux):\n",
    "\n",
    "    if n == 0:\n",
    "        return\n",
    "    \n",
    "    tower_of_hanoi(towers,n-1,start,aux,dest) #move n-1 problem from start to aux \n",
    "\n",
    "    towers.move(start,dest) #move the nth disk from start to dest\n",
    "    print(towers)\n",
    "\n",
    "    tower_of_hanoi(towers,n-1,aux,dest,start)\n",
    "\n",
    "\n",
    "\n",
    "\n"
   ]
  },
  {
   "cell_type": "code",
   "execution_count": 5,
   "metadata": {},
   "outputs": [
    {
     "name": "stdout",
     "output_type": "stream",
     "text": [
      "      \n",
      " 1    \n",
      " 2    \n",
      "-------------\n",
      "      \n",
      "      \n",
      " 2 1  \n",
      "-------------\n",
      "      \n",
      "      \n",
      "   1 2\n",
      "-------------\n",
      "      \n",
      "     1\n",
      "     2\n",
      "-------------\n"
     ]
    }
   ],
   "source": [
    "t = tower(2)\n",
    "print(t)\n",
    "tower_of_hanoi(t,t.disks,0,2,1)"
   ]
  },
  {
   "attachments": {},
   "cell_type": "markdown",
   "metadata": {},
   "source": [
    "### Searching a list"
   ]
  },
  {
   "cell_type": "code",
   "execution_count": 164,
   "metadata": {},
   "outputs": [
    {
     "name": "stdout",
     "output_type": "stream",
     "text": [
      "488\n",
      "Time taken to execute the function is 0.00010600000314298086\n",
      "Time taken to execute the function is 0.0406981000014639\n"
     ]
    },
    {
     "data": {
      "text/plain": [
       "454547"
      ]
     },
     "execution_count": 164,
     "metadata": {},
     "output_type": "execute_result"
    }
   ],
   "source": [
    "#@time_this\n",
    "def search(arr,element):\n",
    "    start = time.perf_counter()\n",
    "        \n",
    "    for i in range(len(arr)):\n",
    "        \n",
    "        if arr[i] == element:\n",
    "            end = time.perf_counter()\n",
    "            print(\"Time taken to execute the function is {}\".format(end-start))\n",
    "            return i\n",
    "        \n",
    "    end = time.perf_counter()\n",
    "    print(\"Time taken to execute the function is {}\".format(end-start))\n",
    "    return -1 \n",
    "#this is the naive solution that takes the maximum time if solution is not found\n",
    "\n",
    "#binary search\n",
    "\n",
    "def binary_search(arr,element):\n",
    "    start = time.perf_counter()\n",
    "\n",
    "    if arr.size == 0:\n",
    "        end = time.perf_counter()\n",
    "        print(\"Time taken to execute the function is {}\".format(end-start))\n",
    "        return False\n",
    "    \n",
    "    mid = len(arr)//2\n",
    "\n",
    "    if element == arr[mid]:\n",
    "        print(mid)\n",
    "        end = time.perf_counter()\n",
    "        print(\"Time taken to execute the function is {}\".format(end-start))\n",
    "        return True\n",
    "    \n",
    "    if element < arr[mid]:\n",
    "        return (binary_search(arr[:mid],element))\n",
    "    else:\n",
    "        return (binary_search(arr[mid+1:],element))\n",
    "    \n",
    "\n",
    "import numpy as np\n",
    "import random\n",
    "import time\n",
    "\n",
    "array = np.random.randint(1,10**4,size=1000000)\n",
    "element = random.randint(1,10**4)\n",
    "array = np.sort(array, axis=-1)\n",
    "arr1 = [9,3,4,54,6,546,3,45,36,4,67,36,34,6,456,4,67,24,563,5,345,354,6,354,6345,5,34,534,5,3456,45,6,45,6,4567,4,6,35,6,34,5,34,565,6,5467,45,6]\n",
    "el = 6\n",
    "\n",
    "binary_search(array,element)\n",
    "search(array,element)"
   ]
  },
  {
   "attachments": {},
   "cell_type": "markdown",
   "metadata": {},
   "source": [
    "### Sorting"
   ]
  },
  {
   "cell_type": "markdown",
   "metadata": {},
   "source": [
    "#### Selection Sort"
   ]
  },
  {
   "cell_type": "code",
   "execution_count": 5,
   "metadata": {},
   "outputs": [
    {
     "name": "stdout",
     "output_type": "stream",
     "text": [
      "[3, 5, 6, 7, 54, 3, 2, 3]\n",
      "[4]\n"
     ]
    },
    {
     "data": {
      "text/plain": [
       "[2, 3, 3, 3, 4, 5, 6, 7, 54]"
      ]
     },
     "execution_count": 5,
     "metadata": {},
     "output_type": "execute_result"
    }
   ],
   "source": [
    "def selection_sort(arr):\n",
    "    n = len(arr)\n",
    "\n",
    "    if n<1:\n",
    "        return arr\n",
    "    \n",
    "    for i in range(n):\n",
    "\n",
    "        min_pos = i\n",
    "        for j in range(i+1,n):\n",
    "            if arr[j] < arr[min_pos]:\n",
    "                min_pos = j\n",
    "        \n",
    "        (arr[i],arr[min_pos]) = (arr[min_pos],arr[i])\n",
    "    \n",
    "    return arr\n",
    "\n",
    "arr = [3,5,6,7,54,3,2,3,4]\n",
    "print(arr[:-1])\n",
    "print(arr[-1:])\n",
    "selection_sort(arr)\n"
   ]
  },
  {
   "attachments": {},
   "cell_type": "markdown",
   "metadata": {},
   "source": [
    "#### Insertion sort"
   ]
  },
  {
   "cell_type": "code",
   "execution_count": 10,
   "metadata": {},
   "outputs": [
    {
     "data": {
      "text/plain": [
       "[1, 2, 3]"
      ]
     },
     "execution_count": 10,
     "metadata": {},
     "output_type": "execute_result"
    }
   ],
   "source": [
    "def insertion_sort(arr):\n",
    "    n = len(arr)\n",
    "    if n<1:\n",
    "        return arr\n",
    "    \n",
    "    for i in range(n):\n",
    "        j = i\n",
    "\n",
    "        while(j>0 and arr[j]<arr[j-1]):\n",
    "            (arr[j],arr[j-1]) = (arr[j-1],arr[j])\n",
    "            j = j-1\n",
    "    return arr\n",
    "\n",
    "class insert_recur:\n",
    "    def insert(self,arr,v):\n",
    "        n = len(arr)\n",
    "        if n == 0:\n",
    "            return ([v])\n",
    "        \n",
    "        if v >= arr[-1]:\n",
    "            return (arr+[v])\n",
    "        else:\n",
    "            return (self.insert(arr[:-1],v)+arr[-1:])\n",
    "\n",
    "    def insert_sort_reccur(self,arr):\n",
    "        n = len(arr)\n",
    "        if n<1:\n",
    "            return arr\n",
    "        l = self.insert(self.insert_sort_reccur(arr[:-1]),arr[-1])\n",
    "        return l\n",
    "\n",
    "recur = insert_recur()\n",
    "recur.insert_sort_reccur(arr)"
   ]
  },
  {
   "cell_type": "code",
   "execution_count": 11,
   "metadata": {},
   "outputs": [
    {
     "name": "stdout",
     "output_type": "stream",
     "text": [
      "before pop :  [2, 3, 4, 5, 6, 4, 3, 3, 3]\n"
     ]
    }
   ],
   "source": [
    "def recur(arr):\n",
    "    if (arr[3]) == 1:\n",
    "        return\n",
    "    print(\"before pop : \",arr)\n",
    "    \n",
    "\n",
    "    arr[3] = 1\n",
    "    recur(arr)\n",
    "    \n",
    "\n",
    "recur([2,3,4,5,6,4,3,3,3])"
   ]
  },
  {
   "cell_type": "code",
   "execution_count": 12,
   "metadata": {},
   "outputs": [
    {
     "name": "stdout",
     "output_type": "stream",
     "text": [
      "[2, 3, 3, 3, 3, 4, 4, 5, 6]\n"
     ]
    }
   ],
   "source": [
    "def insertionSortRecursive(arr,n):\n",
    "    if n <= 1:\n",
    "        return\n",
    "    \n",
    "    insertionSortRecursive(arr,n-1)\n",
    "\n",
    "    last = arr[n-1]\n",
    "    j = n-2\n",
    "\n",
    "    while(j>=0 and arr[j]>last):\n",
    "        arr[j+1] = arr[j]\n",
    "        j = j-1\n",
    "    \n",
    "    arr[j+1] = last\n",
    "\n",
    "arr = [2,3,4,5,6,4,3,3,3]\n",
    "n = len(arr)\n",
    "insertionSortRecursive(arr, n)\n",
    "print(arr)\n"
   ]
  },
  {
   "cell_type": "code",
   "execution_count": null,
   "metadata": {},
   "outputs": [],
   "source": []
  }
 ],
 "metadata": {
  "kernelspec": {
   "display_name": "base",
   "language": "python",
   "name": "python3"
  },
  "language_info": {
   "codemirror_mode": {
    "name": "ipython",
    "version": 3
   },
   "file_extension": ".py",
   "mimetype": "text/x-python",
   "name": "python",
   "nbconvert_exporter": "python",
   "pygments_lexer": "ipython3",
   "version": "3.10.9"
  },
  "orig_nbformat": 4
 },
 "nbformat": 4,
 "nbformat_minor": 2
}
