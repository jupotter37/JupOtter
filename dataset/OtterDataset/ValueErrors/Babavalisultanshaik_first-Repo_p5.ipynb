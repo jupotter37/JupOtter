{
 "cells": [
  {
   "cell_type": "code",
   "execution_count": 2,
   "metadata": {},
   "outputs": [
    {
     "name": "stdout",
     "output_type": "stream",
     "text": [
      "*       \n",
      "* *     \n",
      "* * *   \n",
      "* * * * \n"
     ]
    }
   ],
   "source": [
    "n = int(input(\"Enter the number of rows & cols: \"))\n",
    "\n",
    "for i in range(n):\n",
    "    for j in range(n):\n",
    "        if i >= j:\n",
    "            print(\"*\", end = \" \")\n",
    "        else:\n",
    "            print(\" \", end= \" \")\n",
    "    print()"
   ]
  },
  {
   "cell_type": "code",
   "execution_count": 1,
   "metadata": {},
   "outputs": [
    {
     "ename": "ValueError",
     "evalue": "invalid literal for int() with base 10: ''",
     "output_type": "error",
     "traceback": [
      "\u001b[1;31m---------------------------------------------------------------------------\u001b[0m",
      "\u001b[1;31mValueError\u001b[0m                                Traceback (most recent call last)",
      "Cell \u001b[1;32mIn[1], line 1\u001b[0m\n\u001b[1;32m----> 1\u001b[0m n\u001b[38;5;241m=\u001b[39m \u001b[38;5;28;43mint\u001b[39;49m\u001b[43m(\u001b[49m\u001b[38;5;28;43minput\u001b[39;49m\u001b[43m(\u001b[49m\u001b[38;5;124;43m\"\u001b[39;49m\u001b[38;5;124;43mn: \u001b[39;49m\u001b[38;5;124;43m\"\u001b[39;49m\u001b[43m)\u001b[49m\u001b[43m)\u001b[49m\n\u001b[0;32m      2\u001b[0m \u001b[38;5;28;01mfor\u001b[39;00m i \u001b[38;5;129;01min\u001b[39;00m \u001b[38;5;28mrange\u001b[39m(n):\n\u001b[0;32m      3\u001b[0m     \u001b[38;5;28;01mfor\u001b[39;00m j \u001b[38;5;129;01min\u001b[39;00m \u001b[38;5;28mrange\u001b[39m(n):\n",
      "\u001b[1;31mValueError\u001b[0m: invalid literal for int() with base 10: ''"
     ]
    }
   ],
   "source": [
    "n= int(input(\"n: \"))\n",
    "for i in range(n):\n",
    "    for j in range(n):\n",
    "        if (i+j)==n-1:\n",
    "            print(\"*\",end=\" \")\n",
    "        else:\n",
    "            print(\" \",end= \" \")\n",
    "    print( )        "
   ]
  },
  {
   "cell_type": "code",
   "execution_count": null,
   "metadata": {},
   "outputs": [],
   "source": [
    "n= int(input(\"n:\"))\n",
    "val = ord(\"A\")+n-1\n",
    "if val>ord(\"Z\"):\n",
    "    val=ord(\"Z\")\n",
    "for i in range(n):\n",
    "    #val = ord(\"A\")+n-1\n",
    "    for j in range(n):\n",
    "        if i==j:\n",
    "            print(chr(val),end=\" \")\n",
    "           # val-=1\n",
    "        else:\n",
    "            print(\" \",end = \" \")\n",
    "    print( )\n",
    "    val-=1\n",
    "    if val<ord(\"A\"):\n",
    "        val = ord(\"Z\")"
   ]
  },
  {
   "cell_type": "code",
   "execution_count": 8,
   "metadata": {},
   "outputs": [
    {
     "name": "stdout",
     "output_type": "stream",
     "text": [
      "    ename  age city\n",
      "0    baba   20   ap\n",
      "1    vali   30  kar\n",
      "2  sultan   14   mp\n",
      "3   shaik   23   up\n",
      "4    adil   45   tn\n",
      "    ename  age city\n",
      "0    baba   20   ap\n",
      "1    vali   30  kar\n",
      "2  sultan   14   mp\n",
      "    ename  age city\n",
      "0    baba   20   ap\n",
      "1    vali   30  kar\n",
      "2  sultan   14   mp\n",
      "    ename  age city\n",
      "2  sultan   14   mp\n",
      "3   shaik   23   up\n",
      "4    adil   45   tn\n",
      "<class 'pandas.core.frame.DataFrame'>\n",
      "RangeIndex: 5 entries, 0 to 4\n",
      "Data columns (total 3 columns):\n",
      " #   Column  Non-Null Count  Dtype \n",
      "---  ------  --------------  ----- \n",
      " 0   ename   5 non-null      object\n",
      " 1   age     5 non-null      int64 \n",
      " 2   city    5 non-null      object\n",
      "dtypes: int64(1), object(2)\n",
      "memory usage: 252.0+ bytes\n",
      "None\n"
     ]
    }
   ],
   "source": [
    "import pandas as pd\n",
    "d={'ename':['baba','vali','sultan','shaik','adil'],\n",
    "   'age':[20,30,14,23,45,],\n",
    "   'city':['ap','kar','mp','up','tn']\n",
    "   }\n",
    "df=pd.DataFrame(d)\n",
    "print(df)\n",
    "print(df.head(3))\n",
    "print(df.head(-2))\n",
    "print(df.tail(3))\n",
    "print(df.info())"
   ]
  },
  {
   "cell_type": "code",
   "execution_count": 9,
   "metadata": {},
   "outputs": [
    {
     "data": {
      "text/plain": [
       "(array([ 10,  20,  40,  60, 500]), array([4, 1, 0, 2, 3, 2, 0, 3, 2]))"
      ]
     },
     "execution_count": 9,
     "metadata": {},
     "output_type": "execute_result"
    }
   ],
   "source": [
    "import numpy as np\n",
    "a=np.array([500,20,10,40,60,40,10,60,40])\n",
    "np.unique(a,return_inverse=True)"
   ]
  }
 ],
 "metadata": {
  "kernelspec": {
   "display_name": "Python 3",
   "language": "python",
   "name": "python3"
  },
  "language_info": {
   "codemirror_mode": {
    "name": "ipython",
    "version": 3
   },
   "file_extension": ".py",
   "mimetype": "text/x-python",
   "name": "python",
   "nbconvert_exporter": "python",
   "pygments_lexer": "ipython3",
   "version": "3.12.4"
  }
 },
 "nbformat": 4,
 "nbformat_minor": 2
}
