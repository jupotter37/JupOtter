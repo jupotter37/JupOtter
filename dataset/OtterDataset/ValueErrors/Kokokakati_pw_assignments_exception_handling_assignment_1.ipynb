{
  "nbformat": 4,
  "nbformat_minor": 0,
  "metadata": {
    "colab": {
      "provenance": []
    },
    "kernelspec": {
      "name": "python3",
      "display_name": "Python 3"
    },
    "language_info": {
      "name": "python"
    }
  },
  "cells": [
    {
      "cell_type": "markdown",
      "source": [
        "Q1. What is\n",
        "an Exception in python? Write the differen between Exceptions and syntax errors\n"
      ],
      "metadata": {
        "id": "dd7x_adiAzcQ"
      }
    },
    {
      "cell_type": "markdown",
      "source": [
        " An exception in Python is an event that occurs during the execution of a program that disrupts the normal flow of instructions. It is a way of handling errors and exceptional situations in Python code. Exceptions are raised when an error occurs during the execution of valid code.\n",
        "\n",
        "The difference between exceptions and syntax errors in Python is as follows:\n",
        "\n",
        "Exceptions: Exceptions occur during the runtime of a program when an error or exceptional condition is encountered. They can be caught and handled using exception handling mechanisms. Exceptions can be caused by factors such as invalid input, file not found, network errors, or division by zero.\n",
        "\n",
        "Syntax errors: Syntax errors, also known as parsing errors, occur when the Python interpreter detects an incorrect syntax or structure in the code. These errors prevent the program from executing and need to be fixed before running the program. Examples of syntax errors include missing colons, unmatched parentheses, or misspelled keywords."
      ],
      "metadata": {
        "id": "xKv7fV8Pd5Jf"
      }
    },
    {
      "cell_type": "markdown",
      "source": [
        "Q2. What happens when\n",
        "\n",
        "an exception is not handled? Explain with an example"
      ],
      "metadata": {
        "id": "-fUnq9A3A3uw"
      }
    },
    {
      "cell_type": "markdown",
      "source": [
        "When an exception is not handled, it leads to an abnormal termination of the program, and an error message is displayed to the user. The program execution stops at the point where the exception occurred. Here's an example:"
      ],
      "metadata": {
        "id": "jepcpeU4e7Xx"
      }
    },
    {
      "cell_type": "code",
      "source": [
        "num1 = int(input(\"Enter a number: \"))\n",
        "num2 = int(input(\"Enter another number: \"))\n",
        "result = num1 / num2\n",
        "print(\"Result:\", result)\n"
      ],
      "metadata": {
        "colab": {
          "base_uri": "https://localhost:8080/",
          "height": 252
        },
        "id": "CUrQquaAe8mZ",
        "outputId": "319213fd-5808-46e4-a4d0-73a4f13c47a3"
      },
      "execution_count": 2,
      "outputs": [
        {
          "name": "stdout",
          "output_type": "stream",
          "text": [
            "Enter a number: 4\n",
            "Enter another number: 0\n"
          ]
        },
        {
          "output_type": "error",
          "ename": "ZeroDivisionError",
          "evalue": "ignored",
          "traceback": [
            "\u001b[0;31m---------------------------------------------------------------------------\u001b[0m",
            "\u001b[0;31mZeroDivisionError\u001b[0m                         Traceback (most recent call last)",
            "\u001b[0;32m<ipython-input-2-b0c1b525b03e>\u001b[0m in \u001b[0;36m<cell line: 3>\u001b[0;34m()\u001b[0m\n\u001b[1;32m      1\u001b[0m \u001b[0mnum1\u001b[0m \u001b[0;34m=\u001b[0m \u001b[0mint\u001b[0m\u001b[0;34m(\u001b[0m\u001b[0minput\u001b[0m\u001b[0;34m(\u001b[0m\u001b[0;34m\"Enter a number: \"\u001b[0m\u001b[0;34m)\u001b[0m\u001b[0;34m)\u001b[0m\u001b[0;34m\u001b[0m\u001b[0;34m\u001b[0m\u001b[0m\n\u001b[1;32m      2\u001b[0m \u001b[0mnum2\u001b[0m \u001b[0;34m=\u001b[0m \u001b[0mint\u001b[0m\u001b[0;34m(\u001b[0m\u001b[0minput\u001b[0m\u001b[0;34m(\u001b[0m\u001b[0;34m\"Enter another number: \"\u001b[0m\u001b[0;34m)\u001b[0m\u001b[0;34m)\u001b[0m\u001b[0;34m\u001b[0m\u001b[0;34m\u001b[0m\u001b[0m\n\u001b[0;32m----> 3\u001b[0;31m \u001b[0mresult\u001b[0m \u001b[0;34m=\u001b[0m \u001b[0mnum1\u001b[0m \u001b[0;34m/\u001b[0m \u001b[0mnum2\u001b[0m\u001b[0;34m\u001b[0m\u001b[0;34m\u001b[0m\u001b[0m\n\u001b[0m\u001b[1;32m      4\u001b[0m \u001b[0mprint\u001b[0m\u001b[0;34m(\u001b[0m\u001b[0;34m\"Result:\"\u001b[0m\u001b[0;34m,\u001b[0m \u001b[0mresult\u001b[0m\u001b[0;34m)\u001b[0m\u001b[0;34m\u001b[0m\u001b[0;34m\u001b[0m\u001b[0m\n",
            "\u001b[0;31mZeroDivisionError\u001b[0m: division by zero"
          ]
        }
      ]
    },
    {
      "cell_type": "markdown",
      "source": [
        "Q3. Which Python statements\n",
        "are used to catch\n",
        "and handle exceptions? Explain with\n",
        "an example"
      ],
      "metadata": {
        "id": "_sCGj9sNBoi4"
      }
    },
    {
      "cell_type": "markdown",
      "source": [
        "try: This statement is used to enclose the code that may raise an exception. It is followed by one or more except blocks.\n",
        "\n",
        "except: This block is executed if a specific exception, specified in the except statement, occurs within the corresponding try block.\n",
        "\n",
        "else: This block is executed if no exceptions are raised in the try block.\n",
        "finally: This block is always executed, regardless of whether an exception occurred or not."
      ],
      "metadata": {
        "id": "ASR1e75cxphy"
      }
    },
    {
      "cell_type": "markdown",
      "source": [
        "\n",
        "Q4. Explain with\n",
        "an example:\n",
        "\n",
        "\n",
        "1. try and else\n",
        "2. finally\n",
        "3. raise\n",
        "\n",
        "\n"
      ],
      "metadata": {
        "id": "8EonceZcB4GZ"
      }
    },
    {
      "cell_type": "code",
      "source": [
        "try:\n",
        "    num = int(input(\"Enter a number: \"))\n",
        "    result = 100 / num\n",
        "except ZeroDivisionError:\n",
        "    print(\"Cannot divide by zero.\")\n",
        "else:\n",
        "    print(\"Result:\", result)\n",
        "finally:\n",
        "    print(\"This will always be executed, even if an exception occurred.\")\n",
        "\n"
      ],
      "metadata": {
        "colab": {
          "base_uri": "https://localhost:8080/",
          "height": 270
        },
        "id": "7UFlcwVIyWRQ",
        "outputId": "21e11ae2-d88d-4bad-eb8b-8a8e5b0dd42b"
      },
      "execution_count": 4,
      "outputs": [
        {
          "output_type": "stream",
          "name": "stdout",
          "text": [
            "Enter a number: t\n",
            "This will always be executed, even if an exception occurred.\n"
          ]
        },
        {
          "output_type": "error",
          "ename": "ValueError",
          "evalue": "ignored",
          "traceback": [
            "\u001b[0;31m---------------------------------------------------------------------------\u001b[0m",
            "\u001b[0;31mValueError\u001b[0m                                Traceback (most recent call last)",
            "\u001b[0;32m<ipython-input-4-813d1f7eab09>\u001b[0m in \u001b[0;36m<cell line: 1>\u001b[0;34m()\u001b[0m\n\u001b[1;32m      1\u001b[0m \u001b[0;32mtry\u001b[0m\u001b[0;34m:\u001b[0m\u001b[0;34m\u001b[0m\u001b[0;34m\u001b[0m\u001b[0m\n\u001b[0;32m----> 2\u001b[0;31m     \u001b[0mnum\u001b[0m \u001b[0;34m=\u001b[0m \u001b[0mint\u001b[0m\u001b[0;34m(\u001b[0m\u001b[0minput\u001b[0m\u001b[0;34m(\u001b[0m\u001b[0;34m\"Enter a number: \"\u001b[0m\u001b[0;34m)\u001b[0m\u001b[0;34m)\u001b[0m\u001b[0;34m\u001b[0m\u001b[0;34m\u001b[0m\u001b[0m\n\u001b[0m\u001b[1;32m      3\u001b[0m     \u001b[0mresult\u001b[0m \u001b[0;34m=\u001b[0m \u001b[0;36m100\u001b[0m \u001b[0;34m/\u001b[0m \u001b[0mnum\u001b[0m\u001b[0;34m\u001b[0m\u001b[0;34m\u001b[0m\u001b[0m\n\u001b[1;32m      4\u001b[0m \u001b[0;32mexcept\u001b[0m \u001b[0mZeroDivisionError\u001b[0m\u001b[0;34m:\u001b[0m\u001b[0;34m\u001b[0m\u001b[0;34m\u001b[0m\u001b[0m\n\u001b[1;32m      5\u001b[0m     \u001b[0mprint\u001b[0m\u001b[0;34m(\u001b[0m\u001b[0;34m\"Cannot divide by zero.\"\u001b[0m\u001b[0;34m)\u001b[0m\u001b[0;34m\u001b[0m\u001b[0;34m\u001b[0m\u001b[0m\n",
            "\u001b[0;31mValueError\u001b[0m: invalid literal for int() with base 10: 't'"
          ]
        }
      ]
    },
    {
      "cell_type": "markdown",
      "source": [
        "Q5. What are Custom Exceptions in python? Why\n",
        "do we need Custom Exceptions? Explain with\n",
        "an example"
      ],
      "metadata": {
        "id": "bw3ijAfICCNP"
      }
    },
    {
      "cell_type": "markdown",
      "source": [
        " Custom exceptions in Python are user-defined exceptions that allow programmers to create their own exception classes. These exception classes can be tailored to handle specific errors or exceptional situations that are not covered by the built-in exceptions in Python. Custom exceptions are created by inheriting from the base Exception class or any other existing exception class.\n",
        "\n",
        "We need custom exceptions in Python for the following reasons:\n",
        "\n",
        "Specificity: Custom exceptions allow us to provide more specific and meaningful error messages. By creating exception classes that are relevant to our application or domain, we can communicate the nature of the error more effectively, making it easier to identify and resolve issues in the code.\n",
        "\n",
        "Differentiation: Custom exceptions enable us to differentiate between different types of errors. We can define multiple custom exception classes to represent distinct error scenarios. This differentiation allows us to handle each type of exception differently based on the specific requirements of our application.\n",
        "\n",
        "Readability and Maintainability: Custom exceptions can encapsulate business rules or domain-specific logic. By creating exception classes that align with our application's domain concepts, the code becomes more readable and easier to maintain. Custom exceptions provide a higher level of abstraction and make the code more expressive.\n",
        "\n",
        "Here's an example that demonstrates the use of a custom exception:"
      ],
      "metadata": {
        "id": "-AiMQbX5ysL2"
      }
    },
    {
      "cell_type": "code",
      "source": [
        "class InvalidEmailError(Exception):\n",
        "    def __init__(self, email):\n",
        "        self.email = email\n",
        "        self.message = f\"Invalid email: {email}\"\n",
        "\n",
        "def send_email(email):\n",
        "    if not validate_email(email):\n",
        "        raise InvalidEmailError(email)\n",
        "    # Code to send the email\n",
        "\n",
        "# Usage:\n",
        "try:\n",
        "    email = input(\"Enter the recipient's email: \")\n",
        "    send_email(email)\n",
        "except InvalidEmailError as e:\n",
        "    print(e.message)\n"
      ],
      "metadata": {
        "colab": {
          "base_uri": "https://localhost:8080/",
          "height": 374
        },
        "id": "IGQ_DnbOyt3r",
        "outputId": "6f904f95-23a1-4f2e-f02f-0d632f118bd4"
      },
      "execution_count": 5,
      "outputs": [
        {
          "name": "stdout",
          "output_type": "stream",
          "text": [
            "Enter the recipient's email: y\n"
          ]
        },
        {
          "output_type": "error",
          "ename": "NameError",
          "evalue": "ignored",
          "traceback": [
            "\u001b[0;31m---------------------------------------------------------------------------\u001b[0m",
            "\u001b[0;31mNameError\u001b[0m                                 Traceback (most recent call last)",
            "\u001b[0;32m<ipython-input-5-25b77c6a5819>\u001b[0m in \u001b[0;36m<cell line: 12>\u001b[0;34m()\u001b[0m\n\u001b[1;32m     12\u001b[0m \u001b[0;32mtry\u001b[0m\u001b[0;34m:\u001b[0m\u001b[0;34m\u001b[0m\u001b[0;34m\u001b[0m\u001b[0m\n\u001b[1;32m     13\u001b[0m     \u001b[0memail\u001b[0m \u001b[0;34m=\u001b[0m \u001b[0minput\u001b[0m\u001b[0;34m(\u001b[0m\u001b[0;34m\"Enter the recipient's email: \"\u001b[0m\u001b[0;34m)\u001b[0m\u001b[0;34m\u001b[0m\u001b[0;34m\u001b[0m\u001b[0m\n\u001b[0;32m---> 14\u001b[0;31m     \u001b[0msend_email\u001b[0m\u001b[0;34m(\u001b[0m\u001b[0memail\u001b[0m\u001b[0;34m)\u001b[0m\u001b[0;34m\u001b[0m\u001b[0;34m\u001b[0m\u001b[0m\n\u001b[0m\u001b[1;32m     15\u001b[0m \u001b[0;32mexcept\u001b[0m \u001b[0mInvalidEmailError\u001b[0m \u001b[0;32mas\u001b[0m \u001b[0me\u001b[0m\u001b[0;34m:\u001b[0m\u001b[0;34m\u001b[0m\u001b[0;34m\u001b[0m\u001b[0m\n\u001b[1;32m     16\u001b[0m     \u001b[0mprint\u001b[0m\u001b[0;34m(\u001b[0m\u001b[0me\u001b[0m\u001b[0;34m.\u001b[0m\u001b[0mmessage\u001b[0m\u001b[0;34m)\u001b[0m\u001b[0;34m\u001b[0m\u001b[0;34m\u001b[0m\u001b[0m\n",
            "\u001b[0;32m<ipython-input-5-25b77c6a5819>\u001b[0m in \u001b[0;36msend_email\u001b[0;34m(email)\u001b[0m\n\u001b[1;32m      5\u001b[0m \u001b[0;34m\u001b[0m\u001b[0m\n\u001b[1;32m      6\u001b[0m \u001b[0;32mdef\u001b[0m \u001b[0msend_email\u001b[0m\u001b[0;34m(\u001b[0m\u001b[0memail\u001b[0m\u001b[0;34m)\u001b[0m\u001b[0;34m:\u001b[0m\u001b[0;34m\u001b[0m\u001b[0;34m\u001b[0m\u001b[0m\n\u001b[0;32m----> 7\u001b[0;31m     \u001b[0;32mif\u001b[0m \u001b[0;32mnot\u001b[0m \u001b[0mvalidate_email\u001b[0m\u001b[0;34m(\u001b[0m\u001b[0memail\u001b[0m\u001b[0;34m)\u001b[0m\u001b[0;34m:\u001b[0m\u001b[0;34m\u001b[0m\u001b[0;34m\u001b[0m\u001b[0m\n\u001b[0m\u001b[1;32m      8\u001b[0m         \u001b[0;32mraise\u001b[0m \u001b[0mInvalidEmailError\u001b[0m\u001b[0;34m(\u001b[0m\u001b[0memail\u001b[0m\u001b[0;34m)\u001b[0m\u001b[0;34m\u001b[0m\u001b[0;34m\u001b[0m\u001b[0m\n\u001b[1;32m      9\u001b[0m     \u001b[0;31m# Code to send the email\u001b[0m\u001b[0;34m\u001b[0m\u001b[0;34m\u001b[0m\u001b[0m\n",
            "\u001b[0;31mNameError\u001b[0m: name 'validate_email' is not defined"
          ]
        }
      ]
    },
    {
      "cell_type": "markdown",
      "source": [
        "Q6. Create\n",
        "a custom exception class. Use this class to handle\n",
        "an exception."
      ],
      "metadata": {
        "id": "dmvLh8dWCHn2"
      }
    },
    {
      "cell_type": "code",
      "source": [
        "class CustomException(Exception):\n",
        "    def __init__(self, message):\n",
        "        self.message = message\n",
        "\n",
        "def divide_numbers(a, b):\n",
        "    if b == 0:\n",
        "        raise CustomException(\"Cannot divide by zero\")\n",
        "    return a / b\n",
        "\n",
        "try:\n",
        "    result = divide_numbers(10, 0)\n",
        "    print(\"Result:\", result)\n",
        "except CustomException as e:\n",
        "    print(\"Error:\", e.message)\n"
      ],
      "metadata": {
        "colab": {
          "base_uri": "https://localhost:8080/"
        },
        "id": "8QvMFbjOy090",
        "outputId": "3ff5d866-a911-4616-b8e8-3b5b1ca60717"
      },
      "execution_count": 6,
      "outputs": [
        {
          "output_type": "stream",
          "name": "stdout",
          "text": [
            "Error: Cannot divide by zero\n"
          ]
        }
      ]
    }
  ]
}