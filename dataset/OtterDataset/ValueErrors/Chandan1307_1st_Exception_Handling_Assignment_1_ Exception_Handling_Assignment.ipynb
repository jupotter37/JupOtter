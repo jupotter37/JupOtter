{
 "cells": [
  {
   "cell_type": "markdown",
   "id": "0afceda3-3803-4707-a40b-88c2d0d352ea",
   "metadata": {},
   "source": [
    "Q1. What is an Exception in python? Write the difference between Exception and Syntax error."
   ]
  },
  {
   "cell_type": "markdown",
   "id": "f2131ac7-8b87-4561-9b82-b53630385e91",
   "metadata": {},
   "source": [
    "An exception is an event, which occurs during the execution of a program that disrupts the normal flow of the program's instructions. In general, when a Python script encounters a situation that it cannot cope with, it raises an exception. An exception is a Python object that represents an error."
   ]
  },
  {
   "cell_type": "markdown",
   "id": "c6246067-e9dc-43f4-a7a2-75bc5aaf3aea",
   "metadata": {},
   "source": [
    "The key difference between an exception and a syntax error is that a syntax error occurs when the Python interpreter cannot parse the code because it does not conform to the rules of the language. In contrast, an exception occurs during the execution of a program, when something unexpected happens, such as an invalid input or a file that cannot be found. While syntax errors can be caught by careful checking of the code before it is run, exceptions are harder to anticipate and must be handled by writing code that explicitly deals with them."
   ]
  },
  {
   "cell_type": "markdown",
   "id": "56a397fe-fdf4-49dc-ad53-cb6c6960ec92",
   "metadata": {},
   "source": [
    "Q2. What happens when an exception is not handled? Explain with an example."
   ]
  },
  {
   "cell_type": "code",
   "execution_count": 2,
   "id": "bba83f92-4099-43b4-87c9-073ead1a9380",
   "metadata": {},
   "outputs": [
    {
     "name": "stdout",
     "output_type": "stream",
     "text": [
      "invalid literal for int() with base 10: 'chandan'\n"
     ]
    }
   ],
   "source": [
    "try:\n",
    "    int(\"chandan\")\n",
    "except ValueError as e:\n",
    "    print(e)"
   ]
  },
  {
   "cell_type": "markdown",
   "id": "ac8fa7a6-5648-4c4d-a91e-51e6be9713d5",
   "metadata": {},
   "source": [
    "Q3. Which Python statements are used to catch and handle exception? Explain with an example."
   ]
  },
  {
   "cell_type": "code",
   "execution_count": 3,
   "id": "dbace1d6-f38e-4a21-ab3d-68c12b9f4abd",
   "metadata": {},
   "outputs": [
    {
     "name": "stdout",
     "output_type": "stream",
     "text": [
      "invalid literal for int() with base 10: 'i am developer'\n"
     ]
    }
   ],
   "source": [
    "try:\n",
    "    int(\"i am developer\")\n",
    "except Exception as e:\n",
    "    print(e)"
   ]
  },
  {
   "cell_type": "code",
   "execution_count": null,
   "id": "b0aad7ac-7b39-4c24-8be5-25f7f12241d6",
   "metadata": {},
   "outputs": [],
   "source": [
    "try:\n",
    "    # code that may raise an exception\n",
    "except ExceptionType1:\n",
    "    # code to handle ExceptionType1\n",
    "except ExceptionType2:\n",
    "    # code to handle ExceptionType2\n",
    "except:\n",
    "    # code to handle all other exceptions"
   ]
  },
  {
   "cell_type": "markdown",
   "id": "8cfc5b16-e516-420c-a0fd-47d1255dd0ca",
   "metadata": {},
   "source": [
    "Q4. Explain with an example:\n",
    "    \n",
    "    a.try and else\n",
    "    b.finally\n",
    "    c.raise"
   ]
  },
  {
   "cell_type": "code",
   "execution_count": 4,
   "id": "fe77b3e5-ba8d-43d6-8958-198dea32c088",
   "metadata": {},
   "outputs": [
    {
     "name": "stdout",
     "output_type": "stream",
     "text": [
      "this is my except\n"
     ]
    }
   ],
   "source": [
    "# a. try and else use \n",
    "try:\n",
    "    f.open(\"test1.txt\", \"w\")\n",
    "    f.write(\"I am use try and else case\")\n",
    "except Exception as e:\n",
    "    print(\"this is my except\")\n",
    "    \n",
    "else:\n",
    "    f.close()\n",
    "    print(\"this will be executed once try will execute without erroe\")"
   ]
  },
  {
   "cell_type": "code",
   "execution_count": 5,
   "id": "2d160961-ae43-427a-ad2c-a1dbb2d8ec96",
   "metadata": {},
   "outputs": [
    {
     "name": "stdout",
     "output_type": "stream",
     "text": [
      "finally will execute itself in any situation\n"
     ]
    }
   ],
   "source": [
    "try:\n",
    "    f = open(\"test2.txt\", \"w\")\n",
    "    f.write(\"write something\")\n",
    "finally:\n",
    "    print(\"finally will execute itself in any situation\")"
   ]
  },
  {
   "cell_type": "code",
   "execution_count": 9,
   "id": "7d706f3a-8638-4dfd-a6e4-d8fc24eb7688",
   "metadata": {},
   "outputs": [
    {
     "ename": "ValueError",
     "evalue": "x should not be greater than 5",
     "output_type": "error",
     "traceback": [
      "\u001b[0;31m---------------------------------------------------------------------------\u001b[0m",
      "\u001b[0;31mValueError\u001b[0m                                Traceback (most recent call last)",
      "Cell \u001b[0;32mIn[9], line 3\u001b[0m\n\u001b[1;32m      1\u001b[0m x \u001b[38;5;241m=\u001b[39m \u001b[38;5;241m10\u001b[39m\n\u001b[1;32m      2\u001b[0m \u001b[38;5;28;01mif\u001b[39;00m x \u001b[38;5;241m>\u001b[39m \u001b[38;5;241m5\u001b[39m:\n\u001b[0;32m----> 3\u001b[0m     \u001b[38;5;28;01mraise\u001b[39;00m \u001b[38;5;167;01mValueError\u001b[39;00m(\u001b[38;5;124m\"\u001b[39m\u001b[38;5;124mx should not be greater than 5\u001b[39m\u001b[38;5;124m\"\u001b[39m)\n",
      "\u001b[0;31mValueError\u001b[0m: x should not be greater than 5"
     ]
    }
   ],
   "source": [
    "x = 10\n",
    "    if x > 5:\n",
    "        raise ValueError(\"x should not be greater than 5\")"
   ]
  },
  {
   "cell_type": "markdown",
   "id": "8ee9fda4-a769-4a1b-89fd-b88152aa5ebf",
   "metadata": {},
   "source": [
    "Q5. What are Custom Exception in python? Why do we need custom Exception? Explain with an example."
   ]
  },
  {
   "cell_type": "markdown",
   "id": "75a6e656-6e63-40be-b82c-cf3c3767b8b1",
   "metadata": {},
   "source": [
    "In Python, we can define custom exceptions by creating a new class that is derived from the built-in Exception class. Here's the syntax to define custom exceptions, class CustomError(Exception): ... pass try: ... except CustomError: ..."
   ]
  },
  {
   "cell_type": "markdown",
   "id": "2f4cb1a3-602f-46f2-9b14-65c12612d870",
   "metadata": {},
   "source": [
    "# Need to Custom Exception\n",
    "Python is known for its readability and user-friendliness; using custom exceptions can help us improve this even more, especially when we are designing our package. If you decide to avoid, at all costs, custom exceptions by using only built-in ones, you risk decreasing Python's readability."
   ]
  },
  {
   "cell_type": "code",
   "execution_count": 11,
   "id": "f84959f8-2a64-45be-9429-e0aaa7b86407",
   "metadata": {},
   "outputs": [
    {
     "name": "stdin",
     "output_type": "stream",
     "text": [
      "enter your age 150\n"
     ]
    },
    {
     "name": "stdout",
     "output_type": "stream",
     "text": [
      "Age is valid\n"
     ]
    }
   ],
   "source": [
    "class Validateage(Exception):\n",
    "    \n",
    "    def __init__(self,msg):\n",
    "        self.msg\n",
    "    \n",
    "def validateage(age):\n",
    "    if age < 0:\n",
    "        raise validateage(\"enter age is negative\")\n",
    "    elif age > 200:\n",
    "        raise validateage(\"enter age is very high\")\n",
    "    else:\n",
    "        print(\"Age is valid\")\n",
    "        \n",
    "try:\n",
    "    age = int(input(\"enter your age\"))\n",
    "    validateage(age)    \n",
    "except validateage as e:\n",
    "    print(e)"
   ]
  },
  {
   "cell_type": "markdown",
   "id": "c8fa7dd3-bef6-4dc4-b7db-f1593b9f67a3",
   "metadata": {},
   "source": [
    "Q6. Create a custom exception class.Use this class to handle an exception."
   ]
  },
  {
   "cell_type": "code",
   "execution_count": 12,
   "id": "e9cef5f3-d6df-48c3-a6e8-447fdb22d6ed",
   "metadata": {},
   "outputs": [
    {
     "name": "stdin",
     "output_type": "stream",
     "text": [
      "enter your age 160\n"
     ]
    },
    {
     "name": "stdout",
     "output_type": "stream",
     "text": [
      "Age is valid\n"
     ]
    }
   ],
   "source": [
    "class Validateage(Exception):\n",
    "    \n",
    "    def __init__(self,msg):\n",
    "        self.msg\n",
    "    \n",
    "def validateage(age):\n",
    "    if age < 0:\n",
    "        raise validateage(\"enter age is negative\")\n",
    "    elif age > 200:\n",
    "        raise validateage(\"enter age is very high\")\n",
    "    else:\n",
    "        print(\"Age is valid\")\n",
    "        \n",
    "try:\n",
    "    age = int(input(\"enter your age\"))\n",
    "    validateage(age)    \n",
    "except validateage as e:\n",
    "    print(e)"
   ]
  }
 ],
 "metadata": {
  "kernelspec": {
   "display_name": "Python 3 (ipykernel)",
   "language": "python",
   "name": "python3"
  },
  "language_info": {
   "codemirror_mode": {
    "name": "ipython",
    "version": 3
   },
   "file_extension": ".py",
   "mimetype": "text/x-python",
   "name": "python",
   "nbconvert_exporter": "python",
   "pygments_lexer": "ipython3",
   "version": "3.10.8"
  }
 },
 "nbformat": 4,
 "nbformat_minor": 5
}
