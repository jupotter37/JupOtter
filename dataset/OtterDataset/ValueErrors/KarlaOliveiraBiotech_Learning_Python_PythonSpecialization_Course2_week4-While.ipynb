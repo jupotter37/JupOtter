{
 "cells": [
  {
   "cell_type": "markdown",
   "metadata": {},
   "source": [
    "#### Course 2\n",
    "##### Week 4 - While loop"
   ]
  },
  {
   "cell_type": "markdown",
   "metadata": {},
   "source": [
    "While is an indefinite loop, since it keeps running until something (a condition) happens. This \"until\" can be 5 times, 20 times, or much more. \n",
    "<br><br> Similar to \"if statement\", the \"while statement\" uses a boolean expression to control the flow of the exectution. \n",
    "<br><br>Let's see an example:"
   ]
  },
  {
   "cell_type": "code",
   "execution_count": 3,
   "metadata": {},
   "outputs": [],
   "source": [
    "def getCaptchaAnswer():\n",
    "    valid_input = False     # Helpful boolean variable\n",
    "\n",
    "    while not valid_input:      # While false do\n",
    "        validAnswer = showNewCaptcha()\n",
    "        answer = input('Type characters here: ')\n",
    "        if answer == validAnswer:\n",
    "            valid_input = True\n",
    "        else:\n",
    "            print('Please try again. ')\n",
    "\n",
    "    return answer"
   ]
  },
  {
   "cell_type": "markdown",
   "metadata": {},
   "source": [
    "\"Write a while loop that is initialized at 0 and stops at 15. If the counter is an even number, append the counter to a list called eve_nums\":"
   ]
  },
  {
   "cell_type": "code",
   "execution_count": 4,
   "metadata": {},
   "outputs": [
    {
     "name": "stdout",
     "output_type": "stream",
     "text": [
      "[0, 2, 4, 6, 8, 10, 12, 14]\n"
     ]
    }
   ],
   "source": [
    "eve_nums = []\n",
    "n = 0\n",
    "while n <= 15:\n",
    "    if (n % 2 == 0):\n",
    "        eve_nums.append(n)\n",
    "    n = n + 1\n",
    " \n",
    "print(eve_nums)"
   ]
  },
  {
   "cell_type": "markdown",
   "metadata": {},
   "source": [
    "The listener loop:"
   ]
  },
  {
   "cell_type": "code",
   "execution_count": 5,
   "metadata": {},
   "outputs": [
    {
     "ename": "ValueError",
     "evalue": "invalid literal for int() with base 10: ''",
     "output_type": "error",
     "traceback": [
      "\u001b[0;31m---------------------------------------------------------------------------\u001b[0m",
      "\u001b[0;31mValueError\u001b[0m                                Traceback (most recent call last)",
      "Cell \u001b[0;32mIn[5], line 4\u001b[0m\n\u001b[1;32m      2\u001b[0m x \u001b[38;5;241m=\u001b[39m \u001b[38;5;241m-\u001b[39m\u001b[38;5;241m1\u001b[39m \n\u001b[1;32m      3\u001b[0m \u001b[38;5;28;01mwhile\u001b[39;00m (x \u001b[38;5;241m!=\u001b[39m \u001b[38;5;241m0\u001b[39m):\n\u001b[0;32m----> 4\u001b[0m     x \u001b[38;5;241m=\u001b[39m \u001b[38;5;28;43mint\u001b[39;49m\u001b[43m(\u001b[49m\u001b[38;5;28;43minput\u001b[39;49m\u001b[43m(\u001b[49m\u001b[38;5;124;43m'\u001b[39;49m\u001b[38;5;124;43mnext number to add up (enter 0 if no more numbers): \u001b[39;49m\u001b[38;5;124;43m'\u001b[39;49m\u001b[43m)\u001b[49m\u001b[43m)\u001b[49m\n\u001b[1;32m      5\u001b[0m     theSum \u001b[38;5;241m=\u001b[39m theSum \u001b[38;5;241m+\u001b[39m x\n\u001b[1;32m      7\u001b[0m \u001b[38;5;28mprint\u001b[39m(theSum)\n",
      "\u001b[0;31mValueError\u001b[0m: invalid literal for int() with base 10: ''"
     ]
    }
   ],
   "source": [
    "theSum = 0\n",
    "x = -1 \n",
    "while (x != 0):\n",
    "    x = int(input('next number to add up (enter 0 if no more numbers): '))\n",
    "    theSum = theSum + x\n",
    "\n",
    "print(theSum)"
   ]
  },
  {
   "cell_type": "markdown",
   "metadata": {},
   "source": [
    "We initialized the variable x because it is checked at the beginning of our \"while loop\" with the **x != 0**. \n",
    "<br>In this case, \"x\" is not 0 because it would skip the while test and stops the code."
   ]
  },
  {
   "cell_type": "code",
   "execution_count": null,
   "metadata": {},
   "outputs": [
    {
     "name": "stdout",
     "output_type": "stream",
     "text": [
      "Subtotal: $ 10.0\n",
      "Subtotal: $ 25.990000000000002\n",
      "Subtotal: $ 27.840000000000003\n",
      "Did you type right? Negative price is not allowed. \n",
      "Total items: 3\n",
      "Total $ 27.840000000000003\n",
      "Average price per item: $ 9.280000000000001\n"
     ]
    }
   ],
   "source": [
    "def checkout():\n",
    "    total = 0\n",
    "    count = 0\n",
    "    moreItems = True\n",
    "    while moreItems:\n",
    "        price = float(input('Enter price of item (0 when done): '))\n",
    "        if price != 0 and price > 0:\n",
    "            count = count + 1\n",
    "            total = total + price\n",
    "            print('Subtotal: $', total)\n",
    "        elif price < 0:\n",
    "            print(\"Did you type right? Negative price is not allowed. \")\n",
    "        else:\n",
    "            moreItems = False\n",
    "    average = total / count\n",
    "    print('Total items:', count)\n",
    "    print('Total $', total)\n",
    "    print('Average price per item: $', average)\n",
    "\n",
    "checkout()"
   ]
  },
  {
   "cell_type": "markdown",
   "metadata": {},
   "source": [
    "We can break or continue loops with *break* and *continue*. \n",
    "<br><br> **Break** will stop the loop immediately, no matter which step in the code.\n",
    "<br><br> **Continue** will immediately continue with the next iteration. \"The program will skip the rest of the iteration, recheck the condition, and maybe does another iteration depending on the condition set for the while loop.\"\n",
    "<br><br> Take a look"
   ]
  },
  {
   "cell_type": "code",
   "execution_count": null,
   "metadata": {},
   "outputs": [
    {
     "name": "stdout",
     "output_type": "stream",
     "text": [
      "this phrase will always print\n",
      "We are done with the while loop.\n"
     ]
    }
   ],
   "source": [
    "while True:\n",
    "    print(\"this phrase will always print\")\n",
    "    break\n",
    "    print(\"Does this phrase print?\")\n",
    "\n",
    "print(\"We are done with the while loop.\")"
   ]
  },
  {
   "cell_type": "code",
   "execution_count": null,
   "metadata": {},
   "outputs": [
    {
     "name": "stdout",
     "output_type": "stream",
     "text": [
      "we are incrementing x\n",
      "we are incrementing x\n",
      "we are incrementing x\n",
      "Done with our loop! X has the value: 15\n"
     ]
    }
   ],
   "source": [
    "x = 0\n",
    "while x < 10:\n",
    "    print(\"we are incrementing x\")\n",
    "    if x % 2 == 0:\n",
    "        x += 3\n",
    "        continue\n",
    "    if x % 3 == 0:\n",
    "        x += 5\n",
    "    x += 1\n",
    "print(\"Done with our loop! X has the value: \" + str(x))\n"
   ]
  },
  {
   "cell_type": "markdown",
   "metadata": {},
   "source": [
    "Exercise 1: Rewrite the following for loop to a while loop."
   ]
  },
  {
   "cell_type": "code",
   "execution_count": null,
   "metadata": {},
   "outputs": [],
   "source": [
    "# Exercise 1\n",
    "total_sum = 0\n",
    "for i in range(10):\n",
    "    total_sum += i\n",
    "print(total_sum)"
   ]
  },
  {
   "cell_type": "code",
   "execution_count": 7,
   "metadata": {},
   "outputs": [
    {
     "name": "stdout",
     "output_type": "stream",
     "text": [
      "45\n"
     ]
    }
   ],
   "source": [
    "total_sum = 0\n",
    "for i in range(10):\n",
    "    total_sum += i\n",
    "print(total_sum)"
   ]
  },
  {
   "cell_type": "markdown",
   "metadata": {},
   "source": [
    "Exercise 2: Suppose we want to calculate the sum of user inputs, using a listener loop. Using while, in iteration, you can input an integer number and add it to your accumulator. However, each integer number has to be in the interval 1~100, (1 and 100 are included). As soon as the user enters a number not in that range, the loop ends and the sum should be printed."
   ]
  },
  {
   "cell_type": "code",
   "execution_count": null,
   "metadata": {},
   "outputs": [],
   "source": [
    "accum = 0\n",
    "i = -1  # Must be initialized. However, it cannot be 0, otherwise will not enter \"while loop\"\n",
    "\n",
    "while (i != 0):\n",
    "    i = int(input(\"Choose a number up to 100: \"))\n",
    "    if i  <= 100:\n",
    "        accum = accum + i\n",
    "    else:\n",
    "        break\n",
    "\n",
    "\n",
    "print(accum)"
   ]
  },
  {
   "cell_type": "markdown",
   "metadata": {},
   "source": [
    "Exercise 3: Write a function, sublist, that takes in a list of numbers as the parameter. In the function, use a while loop to return a sublist of the input list. The sublist should contain the same values of the original list up until it reaches the number 5 (it should not contain the number 5)."
   ]
  },
  {
   "cell_type": "code",
   "execution_count": 2,
   "metadata": {},
   "outputs": [
    {
     "data": {
      "text/plain": [
       "[10, 9, 18, 123]"
      ]
     },
     "execution_count": 2,
     "metadata": {},
     "output_type": "execute_result"
    }
   ],
   "source": [
    "def sublist(x):\n",
    "    i = 0\n",
    "    lst = []\n",
    "    while i < len(x):\n",
    "        if x[i] == 5:\n",
    "            break\n",
    "        lst.append(x[i])\n",
    "        i += 1\n",
    "        \n",
    "    return(lst)\n",
    "\n",
    "sublist([10, 9, 18, 123, 5, 58])"
   ]
  },
  {
   "cell_type": "markdown",
   "metadata": {},
   "source": [
    "Exercise 4: Write a function called check_nums that takes a list as its parameter, and contains a while loop that only stops once the element of the list is the number 7. What is returned is a list of all of the numbers up until it reaches 7."
   ]
  },
  {
   "cell_type": "code",
   "execution_count": 4,
   "metadata": {},
   "outputs": [
    {
     "data": {
      "text/plain": [
       "[10, 8]"
      ]
     },
     "execution_count": 4,
     "metadata": {},
     "output_type": "execute_result"
    }
   ],
   "source": [
    "def check_nums(x):\n",
    "    i = 0\n",
    "    lst = []\n",
    "    while (i < len(x)):\n",
    "        if x[i] == 7:\n",
    "            break\n",
    "        lst.append(x[i])\n",
    "        i += 1\n",
    "    return(lst)\n",
    " \n",
    "check_nums([10, 8, 7, 2, 1])"
   ]
  },
  {
   "cell_type": "markdown",
   "metadata": {},
   "source": [
    "Exercise 5: Write a function, sublist, that takes in a list of strings as the parameter. In the function, use a while loop to return a sublist of the input list. The sublist should contain the same values of the original list up until it reaches the string “STOP” (it should not contain the string “STOP”)."
   ]
  },
  {
   "cell_type": "code",
   "execution_count": 63,
   "metadata": {},
   "outputs": [
    {
     "data": {
      "text/plain": [
       "['BOB', 'JOE', 'LUCY']"
      ]
     },
     "execution_count": 63,
     "metadata": {},
     "output_type": "execute_result"
    }
   ],
   "source": [
    "def sublist(x): \n",
    "    i = 0\n",
    "    lst = []\n",
    "    upper = [string.upper() for string in x]\n",
    "\n",
    "    while (i < len(upper)):\n",
    "        if upper[i] == \"STOP\":\n",
    "            break\n",
    "        lst.append(upper[i])\n",
    "        i += 1\n",
    "    \n",
    "    return lst\n",
    "\n",
    "sublist([\"bob\", \"joe\", \"lucy\", \"STOP\", \"carol\", \"james\"])"
   ]
  },
  {
   "cell_type": "code",
   "execution_count": 69,
   "metadata": {},
   "outputs": [
    {
     "data": {
      "text/plain": [
       "['alfa', 'beta']"
      ]
     },
     "execution_count": 69,
     "metadata": {},
     "output_type": "execute_result"
    }
   ],
   "source": [
    "def sublist(x):\n",
    "    i = 0\n",
    "    while i < len(x):\n",
    "        if x[i] == \"STOP\":\n",
    "            return x[0:i]\n",
    "        i += 1\n",
    "    return x[0:i]\n",
    "\n",
    "sublist(['alfa', 'beta', 'STOP', 'test'])"
   ]
  },
  {
   "cell_type": "markdown",
   "metadata": {},
   "source": [
    "Exercise 6: Write a function called `stop_at_z` that iterates through a list of strings. Using a while loop, append each string to a new list until the string that appears is “z”. The function should return the new list."
   ]
  },
  {
   "cell_type": "code",
   "execution_count": 48,
   "metadata": {},
   "outputs": [
    {
     "data": {
      "text/plain": [
       "['a']"
      ]
     },
     "execution_count": 48,
     "metadata": {},
     "output_type": "execute_result"
    }
   ],
   "source": [
    "def stop_at_z(x):\n",
    "    i = 0 \n",
    "    newlist = []\n",
    "\n",
    "    while (i < len(x)): \n",
    "        if (x[i] == \"z\"):\n",
    "            break\n",
    "        newlist.append(x[i])\n",
    "        i += 1\n",
    "    \n",
    "    return newlist\n",
    "\n",
    "stop_at_z(\"azbsdf\")"
   ]
  },
  {
   "cell_type": "markdown",
   "metadata": {},
   "source": [
    "Exercise 7: Below is a for loop that works. Underneath the for loop, rewrite the problem so that it does the same thing, but using a while loop instead of a for loop. Assign the accumulated total in the while loop code to the variable `sum2`. Once complete, `sum2` should equal `sum1`."
   ]
  },
  {
   "cell_type": "code",
   "execution_count": 51,
   "metadata": {},
   "outputs": [
    {
     "name": "stdout",
     "output_type": "stream",
     "text": [
      "197\n",
      "197\n"
     ]
    }
   ],
   "source": [
    "sum1 = 0\n",
    "\n",
    "lst = [65, 78, 21, 33]\n",
    "\n",
    "for x in lst:\n",
    "    sum1 = sum1 + x\n",
    "\n",
    "\n",
    "i = 0\n",
    "sum2 = 0\n",
    "\n",
    "while(i < len(lst)):\n",
    "    sum2 = sum2 + lst[i]\n",
    "    i += 1\n",
    "    \n",
    "print(sum1)\n",
    "print(sum2)"
   ]
  },
  {
   "cell_type": "markdown",
   "metadata": {},
   "source": [
    "Challenge: Write a function called beginning that takes a list as input and contains a while loop that only stops once the element of the list is the string ‘bye’. What is returned is a list that contains up to the first 10 strings, regardless of where the loop stops. (i.e., if it stops on the 32nd element, the first 10 are returned. If “bye” is the 5th element, the first 4 are returned.) If you want to make this even more of a challenge, do this without slicing."
   ]
  },
  {
   "cell_type": "code",
   "execution_count": null,
   "metadata": {},
   "outputs": [],
   "source": [
    "# 1\n",
    "def beginning(x):\n",
    "    i = 0\n",
    "    newlist = []\n",
    "    \n",
    "    while (\"bye\" != x[i] and i < 10):\n",
    "        newlist.append(x[i])\n",
    "        i += 1\n",
    "\n",
    "    return newlist\n",
    "\n",
    "beginning(['a', 'b', 'c','d', 'e', 'f', 'bye'])"
   ]
  },
  {
   "cell_type": "code",
   "execution_count": 67,
   "metadata": {},
   "outputs": [
    {
     "data": {
      "text/plain": [
       "['a', 'b', 'c', 'd', 'e', 'f']"
      ]
     },
     "execution_count": 67,
     "metadata": {},
     "output_type": "execute_result"
    }
   ],
   "source": [
    "# 2\n",
    "def beginning(x):\n",
    "    i = 0\n",
    "    newlist = []\n",
    "    \n",
    "    while (i < len(x)):\n",
    "        if x[i] == \"bye\":\n",
    "            break\n",
    "        newlist.append(x[i])\n",
    "        i += 1\n",
    "\n",
    "    return newlist[:10]\n",
    "\n",
    "beginning(['a', 'b', 'c','d', 'e', 'f', 'bye'])"
   ]
  }
 ],
 "metadata": {
  "kernelspec": {
   "display_name": "Python 3",
   "language": "python",
   "name": "python3"
  },
  "language_info": {
   "codemirror_mode": {
    "name": "ipython",
    "version": 3
   },
   "file_extension": ".py",
   "mimetype": "text/x-python",
   "name": "python",
   "nbconvert_exporter": "python",
   "pygments_lexer": "ipython3",
   "version": "3.11.5"
  }
 },
 "nbformat": 4,
 "nbformat_minor": 2
}
