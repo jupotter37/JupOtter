{
  "nbformat": 4,
  "nbformat_minor": 0,
  "metadata": {
    "colab": {
      "provenance": [],
      "authorship_tag": "ABX9TyM2IJk8IM+O/CgjXlqPsTEf",
      "include_colab_link": true
    },
    "kernelspec": {
      "name": "python3",
      "display_name": "Python 3"
    },
    "language_info": {
      "name": "python"
    }
  },
  "cells": [
    {
      "cell_type": "markdown",
      "metadata": {
        "id": "view-in-github",
        "colab_type": "text"
      },
      "source": [
        "<a href=\"https://colab.research.google.com/github/Amsyal/Praktikum/blob/main/pert_2.ipynb\" target=\"_parent\"><img src=\"https://colab.research.google.com/assets/colab-badge.svg\" alt=\"Open In Colab\"/></a>"
      ]
    },
    {
      "cell_type": "markdown",
      "source": [
        "### Minggu ke-2\n",
        "Tipe data dari objek di python"
      ],
      "metadata": {
        "id": "jUfRrAGJJrev"
      }
    },
    {
      "cell_type": "code",
      "source": [
        "# integer\n",
        "\n",
        "11"
      ],
      "metadata": {
        "colab": {
          "base_uri": "https://localhost:8080/"
        },
        "id": "Q2j5AC0MLq9D",
        "outputId": "f8613f7c-a408-49ab-f611-270e671f1d55"
      },
      "execution_count": null,
      "outputs": [
        {
          "output_type": "execute_result",
          "data": {
            "text/plain": [
              "11"
            ]
          },
          "metadata": {},
          "execution_count": 21
        }
      ]
    },
    {
      "cell_type": "code",
      "source": [
        "# Float\n",
        "\n",
        "3.14"
      ],
      "metadata": {
        "colab": {
          "base_uri": "https://localhost:8080/"
        },
        "id": "FWZnhwvRL69L",
        "outputId": "ae1b5ed8-5b61-4820-bfed-19b298806ec4"
      },
      "execution_count": null,
      "outputs": [
        {
          "output_type": "execute_result",
          "data": {
            "text/plain": [
              "3.14"
            ]
          },
          "metadata": {},
          "execution_count": 22
        }
      ]
    },
    {
      "cell_type": "code",
      "source": [
        "# String\n",
        "\n",
        "\"Hello python\""
      ],
      "metadata": {
        "colab": {
          "base_uri": "https://localhost:8080/",
          "height": 35
        },
        "id": "AuW0VuAMMEnX",
        "outputId": "65f1c906-ef28-43ea-ef63-3f260337a061"
      },
      "execution_count": null,
      "outputs": [
        {
          "output_type": "execute_result",
          "data": {
            "text/plain": [
              "'Hello python'"
            ],
            "application/vnd.google.colaboratory.intrinsic+json": {
              "type": "string"
            }
          },
          "metadata": {},
          "execution_count": 23
        }
      ]
    },
    {
      "cell_type": "markdown",
      "source": [
        "cek tipe data menggunakan type()"
      ],
      "metadata": {
        "id": "nlLTtHPlMTX0"
      }
    },
    {
      "cell_type": "code",
      "source": [
        "type(12) # integer"
      ],
      "metadata": {
        "colab": {
          "base_uri": "https://localhost:8080/"
        },
        "id": "ciZXAadQMRVt",
        "outputId": "e699b44c-3af4-43a7-f3ea-9e5e96eaac01"
      },
      "execution_count": null,
      "outputs": [
        {
          "output_type": "execute_result",
          "data": {
            "text/plain": [
              "int"
            ]
          },
          "metadata": {},
          "execution_count": 28
        }
      ]
    },
    {
      "cell_type": "code",
      "source": [
        "type(3.14) # float\n"
      ],
      "metadata": {
        "colab": {
          "base_uri": "https://localhost:8080/"
        },
        "id": "0Ng3oyj4MkDN",
        "outputId": "45b8b2bc-cd28-445a-9fd4-fbbe30a486cd"
      },
      "execution_count": null,
      "outputs": [
        {
          "output_type": "execute_result",
          "data": {
            "text/plain": [
              "float"
            ]
          },
          "metadata": {},
          "execution_count": 27
        }
      ]
    },
    {
      "cell_type": "code",
      "source": [
        "type(\"Hello, Python\") #string"
      ],
      "metadata": {
        "colab": {
          "base_uri": "https://localhost:8080/"
        },
        "id": "Lmwkb44_M-_t",
        "outputId": "f5bcb4f2-0ea2-426c-cbc8-4d172455a5e2"
      },
      "execution_count": null,
      "outputs": [
        {
          "output_type": "execute_result",
          "data": {
            "text/plain": [
              "str"
            ]
          },
          "metadata": {},
          "execution_count": 26
        }
      ]
    },
    {
      "cell_type": "markdown",
      "source": [
        "# Integer\n",
        "integer dapat bernilai negatif atau positif"
      ],
      "metadata": {
        "id": "eTR2I0lLNEza"
      }
    },
    {
      "cell_type": "code",
      "source": [
        "# menampilkan tipe dari -1\n",
        "\n",
        "type(-1)"
      ],
      "metadata": {
        "colab": {
          "base_uri": "https://localhost:8080/"
        },
        "id": "qGpJbqDcNLid",
        "outputId": "7beef935-664c-4aeb-ed0c-dc73a7d162f9"
      },
      "execution_count": null,
      "outputs": [
        {
          "output_type": "execute_result",
          "data": {
            "text/plain": [
              "int"
            ]
          },
          "metadata": {},
          "execution_count": 29
        }
      ]
    },
    {
      "cell_type": "code",
      "source": [
        "type(-6)"
      ],
      "metadata": {
        "colab": {
          "base_uri": "https://localhost:8080/"
        },
        "id": "m0mwhRs3OKB2",
        "outputId": "c03d6e39-7703-4ea8-f3a4-5a74d8449a60"
      },
      "execution_count": null,
      "outputs": [
        {
          "output_type": "execute_result",
          "data": {
            "text/plain": [
              "int"
            ]
          },
          "metadata": {},
          "execution_count": 30
        }
      ]
    },
    {
      "cell_type": "code",
      "source": [
        "type(4)"
      ],
      "metadata": {
        "colab": {
          "base_uri": "https://localhost:8080/"
        },
        "id": "e5mZdsLZPWAR",
        "outputId": "8f38b160-c883-4bc4-9ed6-83f33056b00c"
      },
      "execution_count": null,
      "outputs": [
        {
          "output_type": "execute_result",
          "data": {
            "text/plain": [
              "int"
            ]
          },
          "metadata": {},
          "execution_count": 32
        }
      ]
    },
    {
      "cell_type": "code",
      "source": [
        "type(0)"
      ],
      "metadata": {
        "colab": {
          "base_uri": "https://localhost:8080/"
        },
        "id": "1dlnFT39Pc8Q",
        "outputId": "575261b2-438a-4533-a4bc-6fd3d97782e3"
      },
      "execution_count": null,
      "outputs": [
        {
          "output_type": "execute_result",
          "data": {
            "text/plain": [
              "int"
            ]
          },
          "metadata": {},
          "execution_count": 33
        }
      ]
    },
    {
      "cell_type": "markdown",
      "source": [
        "# Floats"
      ],
      "metadata": {
        "id": "3-rcGMh4PpIT"
      }
    },
    {
      "cell_type": "code",
      "source": [
        "type(1.0)"
      ],
      "metadata": {
        "colab": {
          "base_uri": "https://localhost:8080/"
        },
        "id": "w7vLz030Pm50",
        "outputId": "fa1c9936-9aeb-48e8-eff0-d526b7d931f3"
      },
      "execution_count": null,
      "outputs": [
        {
          "output_type": "execute_result",
          "data": {
            "text/plain": [
              "float"
            ]
          },
          "metadata": {},
          "execution_count": 34
        }
      ]
    },
    {
      "cell_type": "code",
      "source": [
        "type(0.5)"
      ],
      "metadata": {
        "colab": {
          "base_uri": "https://localhost:8080/"
        },
        "id": "I_4biCs5P8-E",
        "outputId": "626149ef-b1fc-469f-9480-a8a22e018e9d"
      },
      "execution_count": null,
      "outputs": [
        {
          "output_type": "execute_result",
          "data": {
            "text/plain": [
              "float"
            ]
          },
          "metadata": {},
          "execution_count": 35
        }
      ]
    },
    {
      "cell_type": "code",
      "source": [
        "type(0.56)"
      ],
      "metadata": {
        "colab": {
          "base_uri": "https://localhost:8080/"
        },
        "id": "tgT_tg_lQA7M",
        "outputId": "7596415a-9835-47f7-b34d-d7b7e7862bd5"
      },
      "execution_count": null,
      "outputs": [
        {
          "output_type": "execute_result",
          "data": {
            "text/plain": [
              "float"
            ]
          },
          "metadata": {},
          "execution_count": 36
        }
      ]
    },
    {
      "cell_type": "code",
      "source": [
        "import sys\n",
        "sys.float_info"
      ],
      "metadata": {
        "colab": {
          "base_uri": "https://localhost:8080/"
        },
        "id": "0eSvUxBxQEJM",
        "outputId": "deaaa163-f846-41aa-dda9-8897a1b374b6"
      },
      "execution_count": null,
      "outputs": [
        {
          "output_type": "execute_result",
          "data": {
            "text/plain": [
              "sys.float_info(max=1.7976931348623157e+308, max_exp=1024, max_10_exp=308, min=2.2250738585072014e-308, min_exp=-1021, min_10_exp=-307, dig=15, mant_dig=53, epsilon=2.220446049250313e-16, radix=2, rounds=1)"
            ]
          },
          "metadata": {},
          "execution_count": 37
        }
      ]
    },
    {
      "cell_type": "markdown",
      "source": [
        "# Convert dari tipe objek satu ke tipe objek yang lain"
      ],
      "metadata": {
        "id": "TfPGM6C_QMWZ"
      }
    },
    {
      "cell_type": "markdown",
      "source": [
        "convert integers to floats"
      ],
      "metadata": {
        "id": "ccpzrzL0QoBx"
      }
    },
    {
      "cell_type": "code",
      "source": [
        "float(2)"
      ],
      "metadata": {
        "colab": {
          "base_uri": "https://localhost:8080/"
        },
        "id": "dnjZmqxpQfWi",
        "outputId": "8c292ac2-cb04-4af4-ae9b-c418086cda55"
      },
      "execution_count": null,
      "outputs": [
        {
          "output_type": "execute_result",
          "data": {
            "text/plain": [
              "2.0"
            ]
          },
          "metadata": {},
          "execution_count": 38
        }
      ]
    },
    {
      "cell_type": "code",
      "source": [
        "type(float(2))"
      ],
      "metadata": {
        "colab": {
          "base_uri": "https://localhost:8080/"
        },
        "id": "bBULeESqQ07c",
        "outputId": "6d3e506a-7403-4479-854a-1f603c5c9efe"
      },
      "execution_count": null,
      "outputs": [
        {
          "output_type": "execute_result",
          "data": {
            "text/plain": [
              "float"
            ]
          },
          "metadata": {},
          "execution_count": 39
        }
      ]
    },
    {
      "cell_type": "markdown",
      "source": [
        "Conver strings ke float atau integer"
      ],
      "metadata": {
        "id": "y36ODt2BRECB"
      }
    },
    {
      "cell_type": "code",
      "source": [
        "int('1')"
      ],
      "metadata": {
        "colab": {
          "base_uri": "https://localhost:8080/"
        },
        "id": "RDQeX-XQQ4uh",
        "outputId": "521f5751-521d-4120-c831-7e021af2881b"
      },
      "execution_count": null,
      "outputs": [
        {
          "output_type": "execute_result",
          "data": {
            "text/plain": [
              "1"
            ]
          },
          "metadata": {},
          "execution_count": 40
        }
      ]
    },
    {
      "cell_type": "markdown",
      "source": [
        "Tetapi jika kamu mencoba string selain berisi angka, akan terjadi error"
      ],
      "metadata": {
        "id": "Qse6VV08Re6a"
      }
    },
    {
      "cell_type": "code",
      "source": [
        "int('1 atau 2')"
      ],
      "metadata": {
        "colab": {
          "base_uri": "https://localhost:8080/",
          "height": 141
        },
        "id": "yULp3jtrRZuJ",
        "outputId": "fb75ddb4-c667-4023-bafb-be575625c353"
      },
      "execution_count": null,
      "outputs": [
        {
          "output_type": "error",
          "ename": "ValueError",
          "evalue": "invalid literal for int() with base 10: '1 atau 2'",
          "traceback": [
            "\u001b[0;31m---------------------------------------------------------------------------\u001b[0m",
            "\u001b[0;31mValueError\u001b[0m                                Traceback (most recent call last)",
            "\u001b[0;32m<ipython-input-41-71f1af192c92>\u001b[0m in \u001b[0;36m<cell line: 1>\u001b[0;34m()\u001b[0m\n\u001b[0;32m----> 1\u001b[0;31m \u001b[0mint\u001b[0m\u001b[0;34m(\u001b[0m\u001b[0;34m'1 atau 2'\u001b[0m\u001b[0;34m)\u001b[0m\u001b[0;34m\u001b[0m\u001b[0;34m\u001b[0m\u001b[0m\n\u001b[0m",
            "\u001b[0;31mValueError\u001b[0m: invalid literal for int() with base 10: '1 atau 2'"
          ]
        }
      ]
    },
    {
      "cell_type": "code",
      "source": [
        "float('1.2')"
      ],
      "metadata": {
        "colab": {
          "base_uri": "https://localhost:8080/"
        },
        "id": "WwcNzm_NRdtR",
        "outputId": "c2ba069b-e0c2-489c-875f-2da112da3266"
      },
      "execution_count": null,
      "outputs": [
        {
          "output_type": "execute_result",
          "data": {
            "text/plain": [
              "1.2"
            ]
          },
          "metadata": {},
          "execution_count": 42
        }
      ]
    },
    {
      "cell_type": "markdown",
      "source": [
        "# Converting integer atau float ke string"
      ],
      "metadata": {
        "id": "vUeEgpkjR8yZ"
      }
    },
    {
      "cell_type": "code",
      "source": [
        "str(1)"
      ],
      "metadata": {
        "colab": {
          "base_uri": "https://localhost:8080/",
          "height": 35
        },
        "id": "HAt7DYHRR5mA",
        "outputId": "d7d9b433-fd55-4956-e440-35fe95d0362f"
      },
      "execution_count": null,
      "outputs": [
        {
          "output_type": "execute_result",
          "data": {
            "text/plain": [
              "'1'"
            ],
            "application/vnd.google.colaboratory.intrinsic+json": {
              "type": "string"
            }
          },
          "metadata": {},
          "execution_count": 43
        }
      ]
    },
    {
      "cell_type": "code",
      "source": [
        "str(1.2)"
      ],
      "metadata": {
        "colab": {
          "base_uri": "https://localhost:8080/",
          "height": 35
        },
        "id": "OgYJnsIJSInA",
        "outputId": "8680d8cb-342e-4074-a912-e3a570475378"
      },
      "execution_count": null,
      "outputs": [
        {
          "output_type": "execute_result",
          "data": {
            "text/plain": [
              "'1.2'"
            ],
            "application/vnd.google.colaboratory.intrinsic+json": {
              "type": "string"
            }
          },
          "metadata": {},
          "execution_count": 44
        }
      ]
    },
    {
      "cell_type": "markdown",
      "source": [
        "# Tipe data boolean\n",
        "boolean hanya dapat berisi True atau False"
      ],
      "metadata": {
        "id": "FERFg5VuSMa_"
      }
    },
    {
      "cell_type": "code",
      "source": [
        "True"
      ],
      "metadata": {
        "colab": {
          "base_uri": "https://localhost:8080/"
        },
        "id": "5hbjHEKUSK_I",
        "outputId": "c4072503-f0d7-4d46-f2db-0ebe9206dd84"
      },
      "execution_count": null,
      "outputs": [
        {
          "output_type": "execute_result",
          "data": {
            "text/plain": [
              "True"
            ]
          },
          "metadata": {},
          "execution_count": 45
        }
      ]
    },
    {
      "cell_type": "code",
      "source": [
        "False"
      ],
      "metadata": {
        "colab": {
          "base_uri": "https://localhost:8080/"
        },
        "id": "uOAMtq5ZSjaB",
        "outputId": "2ccbc96a-4617-4d5e-dd2b-b690ee42ff26"
      },
      "execution_count": null,
      "outputs": [
        {
          "output_type": "execute_result",
          "data": {
            "text/plain": [
              "False"
            ]
          },
          "metadata": {},
          "execution_count": 46
        }
      ]
    },
    {
      "cell_type": "code",
      "source": [
        "type(True)"
      ],
      "metadata": {
        "colab": {
          "base_uri": "https://localhost:8080/"
        },
        "id": "LgM8M1LmSkrg",
        "outputId": "23abab8d-8774-4719-9495-7351c1ee9688"
      },
      "execution_count": null,
      "outputs": [
        {
          "output_type": "execute_result",
          "data": {
            "text/plain": [
              "bool"
            ]
          },
          "metadata": {},
          "execution_count": 47
        }
      ]
    },
    {
      "cell_type": "code",
      "source": [
        "type(False)"
      ],
      "metadata": {
        "colab": {
          "base_uri": "https://localhost:8080/"
        },
        "id": "zgx99yTcSoXv",
        "outputId": "5404e31a-bee0-4c9b-d1a5-9c231a32a3c6"
      },
      "execution_count": null,
      "outputs": [
        {
          "output_type": "execute_result",
          "data": {
            "text/plain": [
              "bool"
            ]
          },
          "metadata": {},
          "execution_count": 48
        }
      ]
    },
    {
      "cell_type": "code",
      "source": [
        "int(True)"
      ],
      "metadata": {
        "colab": {
          "base_uri": "https://localhost:8080/"
        },
        "id": "KyMoKzJmSrQ3",
        "outputId": "ef447d9e-ec06-4ba5-c662-9ad724e2627c"
      },
      "execution_count": null,
      "outputs": [
        {
          "output_type": "execute_result",
          "data": {
            "text/plain": [
              "1"
            ]
          },
          "metadata": {},
          "execution_count": 49
        }
      ]
    },
    {
      "cell_type": "code",
      "source": [
        "bool(1)"
      ],
      "metadata": {
        "colab": {
          "base_uri": "https://localhost:8080/"
        },
        "id": "tvFSGQC2S01w",
        "outputId": "08d67d77-1189-47b2-9deb-be600b020173"
      },
      "execution_count": null,
      "outputs": [
        {
          "output_type": "execute_result",
          "data": {
            "text/plain": [
              "True"
            ]
          },
          "metadata": {},
          "execution_count": 50
        }
      ]
    },
    {
      "cell_type": "code",
      "source": [
        "bool(0)"
      ],
      "metadata": {
        "colab": {
          "base_uri": "https://localhost:8080/"
        },
        "id": "4vc3ef-sS3NX",
        "outputId": "b4801b05-4fbb-416c-89eb-0034a19fd908"
      },
      "execution_count": null,
      "outputs": [
        {
          "output_type": "execute_result",
          "data": {
            "text/plain": [
              "False"
            ]
          },
          "metadata": {},
          "execution_count": 51
        }
      ]
    },
    {
      "cell_type": "code",
      "source": [
        "float(True)"
      ],
      "metadata": {
        "colab": {
          "base_uri": "https://localhost:8080/"
        },
        "id": "pelMO5loS6Y_",
        "outputId": "88d52cf9-9fa7-4abe-b8a3-61af75f3185c"
      },
      "execution_count": null,
      "outputs": [
        {
          "output_type": "execute_result",
          "data": {
            "text/plain": [
              "1.0"
            ]
          },
          "metadata": {},
          "execution_count": 52
        }
      ]
    },
    {
      "cell_type": "markdown",
      "source": [
        "# Latihan: tipe data"
      ],
      "metadata": {
        "id": "twSvmQL-TARY"
      }
    },
    {
      "cell_type": "code",
      "source": [
        "type(6/2)"
      ],
      "metadata": {
        "colab": {
          "base_uri": "https://localhost:8080/"
        },
        "id": "Lte-9RhHS9ng",
        "outputId": "a46eb10a-42f5-4c26-fdda-ea41b3972f4f"
      },
      "execution_count": null,
      "outputs": [
        {
          "output_type": "execute_result",
          "data": {
            "text/plain": [
              "float"
            ]
          },
          "metadata": {},
          "execution_count": 53
        }
      ]
    },
    {
      "cell_type": "code",
      "source": [
        "type(6//2)"
      ],
      "metadata": {
        "colab": {
          "base_uri": "https://localhost:8080/"
        },
        "id": "LQs0IX-0TS8h",
        "outputId": "fa1d2473-e7b3-44ab-8bf5-00509e8be966"
      },
      "execution_count": null,
      "outputs": [
        {
          "output_type": "execute_result",
          "data": {
            "text/plain": [
              "int"
            ]
          },
          "metadata": {},
          "execution_count": 56
        }
      ]
    },
    {
      "cell_type": "markdown",
      "source": [
        "# Expression dan Variabel"
      ],
      "metadata": {
        "id": "M_orjwgVTb8v"
      }
    },
    {
      "cell_type": "code",
      "source": [
        "type(10.55+10.5-5)"
      ],
      "metadata": {
        "colab": {
          "base_uri": "https://localhost:8080/"
        },
        "id": "km49s6XyTXPH",
        "outputId": "50117052-76c2-4b42-ce20-e3b8ce93ca31"
      },
      "execution_count": null,
      "outputs": [
        {
          "output_type": "execute_result",
          "data": {
            "text/plain": [
              "float"
            ]
          },
          "metadata": {},
          "execution_count": 57
        }
      ]
    },
    {
      "cell_type": "code",
      "source": [
        "type(50 - 60)"
      ],
      "metadata": {
        "colab": {
          "base_uri": "https://localhost:8080/"
        },
        "id": "7nUaQFZ5TmnQ",
        "outputId": "c4072321-87b9-4ae2-cffc-8e1362da45fa"
      },
      "execution_count": null,
      "outputs": [
        {
          "output_type": "execute_result",
          "data": {
            "text/plain": [
              "int"
            ]
          },
          "metadata": {},
          "execution_count": 58
        }
      ]
    },
    {
      "cell_type": "code",
      "source": [
        "# perkalian\n",
        "5 * 5"
      ],
      "metadata": {
        "colab": {
          "base_uri": "https://localhost:8080/"
        },
        "id": "1oTxLsLeTqpw",
        "outputId": "04d4d53d-f9cf-45c2-8615-fb9086f9656b"
      },
      "execution_count": null,
      "outputs": [
        {
          "output_type": "execute_result",
          "data": {
            "text/plain": [
              "25"
            ]
          },
          "metadata": {},
          "execution_count": 59
        }
      ]
    },
    {
      "cell_type": "code",
      "source": [
        "# pembagian\n",
        "25/5"
      ],
      "metadata": {
        "colab": {
          "base_uri": "https://localhost:8080/"
        },
        "id": "-xaBCFBJTxJA",
        "outputId": "140dfe8e-dc1c-4e64-841f-509c51b9dfcb"
      },
      "execution_count": null,
      "outputs": [
        {
          "output_type": "execute_result",
          "data": {
            "text/plain": [
              "5.0"
            ]
          },
          "metadata": {},
          "execution_count": 60
        }
      ]
    },
    {
      "cell_type": "code",
      "source": [
        "25/6"
      ],
      "metadata": {
        "colab": {
          "base_uri": "https://localhost:8080/"
        },
        "id": "ET4TWZmAT6wg",
        "outputId": "234c01a5-c388-44e8-c372-b98d717bcab6"
      },
      "execution_count": null,
      "outputs": [
        {
          "output_type": "execute_result",
          "data": {
            "text/plain": [
              "4.166666666666667"
            ]
          },
          "metadata": {},
          "execution_count": 61
        }
      ]
    },
    {
      "cell_type": "code",
      "source": [
        "25//5"
      ],
      "metadata": {
        "colab": {
          "base_uri": "https://localhost:8080/"
        },
        "id": "iJZLX1gdT9SY",
        "outputId": "38edd0a2-924f-4f2c-a9bf-92dd103b24fa"
      },
      "execution_count": null,
      "outputs": [
        {
          "output_type": "execute_result",
          "data": {
            "text/plain": [
              "5"
            ]
          },
          "metadata": {},
          "execution_count": 62
        }
      ]
    },
    {
      "cell_type": "code",
      "source": [
        "25 // 6"
      ],
      "metadata": {
        "colab": {
          "base_uri": "https://localhost:8080/"
        },
        "id": "JkgMRzfOUDNP",
        "outputId": "728df436-2f1d-42a5-d3f6-bd25f6898a24"
      },
      "execution_count": null,
      "outputs": [
        {
          "output_type": "execute_result",
          "data": {
            "text/plain": [
              "4"
            ]
          },
          "metadata": {},
          "execution_count": 63
        }
      ]
    },
    {
      "cell_type": "markdown",
      "source": [
        "# Latihan: Expression"
      ],
      "metadata": {
        "id": "cm7AG61kUMuo"
      }
    },
    {
      "cell_type": "code",
      "source": [
        "160/60"
      ],
      "metadata": {
        "colab": {
          "base_uri": "https://localhost:8080/"
        },
        "id": "XztfiTlNUI9n",
        "outputId": "56b81594-ae49-4522-e80c-525a70324257"
      },
      "execution_count": null,
      "outputs": [
        {
          "output_type": "execute_result",
          "data": {
            "text/plain": [
              "2.6666666666666665"
            ]
          },
          "metadata": {},
          "execution_count": 64
        }
      ]
    },
    {
      "cell_type": "code",
      "source": [
        "30 + 2 * 60 // 10"
      ],
      "metadata": {
        "colab": {
          "base_uri": "https://localhost:8080/"
        },
        "id": "U8Av6_vEUU6_",
        "outputId": "5754d64d-3337-4e9a-ae68-0d725ef443c8"
      },
      "execution_count": null,
      "outputs": [
        {
          "output_type": "execute_result",
          "data": {
            "text/plain": [
              "42"
            ]
          },
          "metadata": {},
          "execution_count": 65
        }
      ]
    },
    {
      "cell_type": "code",
      "source": [
        "( 30 + 2 ) * 60"
      ],
      "metadata": {
        "colab": {
          "base_uri": "https://localhost:8080/"
        },
        "id": "PCPxtSjhUadv",
        "outputId": "e2028938-b024-439b-964b-9c1cffd60581"
      },
      "execution_count": null,
      "outputs": [
        {
          "output_type": "execute_result",
          "data": {
            "text/plain": [
              "1920"
            ]
          },
          "metadata": {},
          "execution_count": 66
        }
      ]
    },
    {
      "cell_type": "markdown",
      "source": [
        "# Variabels"
      ],
      "metadata": {
        "id": "4WzqimYpUpcX"
      }
    },
    {
      "cell_type": "code",
      "source": [
        "x = 43 + 60 + 16 + 41\n",
        "x"
      ],
      "metadata": {
        "colab": {
          "base_uri": "https://localhost:8080/"
        },
        "id": "8SW78BH-Ul_n",
        "outputId": "dd759c9c-091b-4914-99ab-7bb591a1e2e0"
      },
      "execution_count": null,
      "outputs": [
        {
          "output_type": "execute_result",
          "data": {
            "text/plain": [
              "160"
            ]
          },
          "metadata": {},
          "execution_count": 68
        }
      ]
    },
    {
      "cell_type": "code",
      "source": [
        "y = x / 60\n",
        "y"
      ],
      "metadata": {
        "colab": {
          "base_uri": "https://localhost:8080/"
        },
        "id": "LLLFmQvLU1iX",
        "outputId": "429185ca-9982-45c4-bea4-73b1d5ebeb69"
      },
      "execution_count": null,
      "outputs": [
        {
          "output_type": "execute_result",
          "data": {
            "text/plain": [
              "2.6666666666666665"
            ]
          },
          "metadata": {},
          "execution_count": 70
        }
      ]
    },
    {
      "cell_type": "code",
      "source": [
        "x = x / 60\n",
        "print(x)"
      ],
      "metadata": {
        "colab": {
          "base_uri": "https://localhost:8080/"
        },
        "id": "Tz3x175aU7yX",
        "outputId": "d175d067-c490-4a44-c8d3-a1a924819bcc"
      },
      "execution_count": null,
      "outputs": [
        {
          "output_type": "stream",
          "name": "stdout",
          "text": [
            "2.6666666666666665\n"
          ]
        }
      ]
    },
    {
      "cell_type": "code",
      "source": [
        "x"
      ],
      "metadata": {
        "colab": {
          "base_uri": "https://localhost:8080/"
        },
        "id": "HQunkTWBVD4u",
        "outputId": "4cc8091f-5bfa-4f49-8cf9-46d5b939c484"
      },
      "execution_count": null,
      "outputs": [
        {
          "output_type": "execute_result",
          "data": {
            "text/plain": [
              "2.6666666666666665"
            ]
          },
          "metadata": {},
          "execution_count": 72
        }
      ]
    },
    {
      "cell_type": "code",
      "source": [
        "#  beri nama variabel secara jelas\n",
        "total_min = 43 + 42 + 57\n",
        "total_min"
      ],
      "metadata": {
        "colab": {
          "base_uri": "https://localhost:8080/"
        },
        "id": "G-ujncVrVIEX",
        "outputId": "29ee5681-70df-4834-c689-5339dd8b555c"
      },
      "execution_count": null,
      "outputs": [
        {
          "output_type": "execute_result",
          "data": {
            "text/plain": [
              "142"
            ]
          },
          "metadata": {},
          "execution_count": 73
        }
      ]
    },
    {
      "cell_type": "code",
      "source": [
        "float(total_min)"
      ],
      "metadata": {
        "colab": {
          "base_uri": "https://localhost:8080/"
        },
        "id": "EyKLvwckVZQH",
        "outputId": "04e777b3-00b7-4054-aa7c-bc1301f36d4a"
      },
      "execution_count": null,
      "outputs": [
        {
          "output_type": "execute_result",
          "data": {
            "text/plain": [
              "142.0"
            ]
          },
          "metadata": {},
          "execution_count": 74
        }
      ]
    },
    {
      "cell_type": "code",
      "source": [
        "a = 2\n",
        "a"
      ],
      "metadata": {
        "colab": {
          "base_uri": "https://localhost:8080/"
        },
        "id": "mWkdN3U9VceH",
        "outputId": "31b59266-fa37-42c7-e122-6b198c6a1ca8"
      },
      "execution_count": null,
      "outputs": [
        {
          "output_type": "execute_result",
          "data": {
            "text/plain": [
              "2"
            ]
          },
          "metadata": {},
          "execution_count": 75
        }
      ]
    },
    {
      "cell_type": "code",
      "source": [
        "print(float(a))"
      ],
      "metadata": {
        "colab": {
          "base_uri": "https://localhost:8080/"
        },
        "id": "rtEYh6lqVfZO",
        "outputId": "4d936faa-e9f4-448e-a42a-2678b36a9a1b"
      },
      "execution_count": null,
      "outputs": [
        {
          "output_type": "stream",
          "name": "stdout",
          "text": [
            "2.0\n"
          ]
        }
      ]
    },
    {
      "cell_type": "code",
      "source": [
        "total_hours = total_min / 60\n",
        "total_hours"
      ],
      "metadata": {
        "colab": {
          "base_uri": "https://localhost:8080/"
        },
        "id": "0UK_YfgaViw_",
        "outputId": "3b34b09c-1465-4989-8ef1-0551b472db1f"
      },
      "execution_count": null,
      "outputs": [
        {
          "output_type": "execute_result",
          "data": {
            "text/plain": [
              "2.3666666666666667"
            ]
          },
          "metadata": {},
          "execution_count": 77
        }
      ]
    },
    {
      "cell_type": "code",
      "source": [
        "total_hours = (43 + 42 + 57) / 60\n",
        "total_hours"
      ],
      "metadata": {
        "colab": {
          "base_uri": "https://localhost:8080/"
        },
        "id": "47XhrXzAVw1H",
        "outputId": "af669ede-7d88-45fc-c1c4-67c9fcf165b4"
      },
      "execution_count": null,
      "outputs": [
        {
          "output_type": "execute_result",
          "data": {
            "text/plain": [
              "2.3666666666666667"
            ]
          },
          "metadata": {},
          "execution_count": 79
        }
      ]
    },
    {
      "cell_type": "markdown",
      "source": [
        "# Latihan: Expression dan Variabel di Python"
      ],
      "metadata": {
        "id": "SdGV7sWIWLbX"
      }
    },
    {
      "cell_type": "code",
      "source": [
        "x = 3 + 2 * 2\n",
        "x"
      ],
      "metadata": {
        "colab": {
          "base_uri": "https://localhost:8080/"
        },
        "id": "hNzZ7n9GWFbX",
        "outputId": "f39d80bd-7ae1-4078-a893-7c08679ca5e7"
      },
      "execution_count": null,
      "outputs": [
        {
          "output_type": "execute_result",
          "data": {
            "text/plain": [
              "7"
            ]
          },
          "metadata": {},
          "execution_count": 80
        }
      ]
    },
    {
      "cell_type": "code",
      "source": [
        "y = (3 + 2) * 2\n",
        "y"
      ],
      "metadata": {
        "colab": {
          "base_uri": "https://localhost:8080/"
        },
        "id": "zN5EuvQhWdsP",
        "outputId": "c841d8ab-f2cd-46ac-a47b-d4a0c4c8a481"
      },
      "execution_count": null,
      "outputs": [
        {
          "output_type": "execute_result",
          "data": {
            "text/plain": [
              "10"
            ]
          },
          "metadata": {},
          "execution_count": 81
        }
      ]
    },
    {
      "cell_type": "code",
      "source": [
        "z = x + y\n",
        "z"
      ],
      "metadata": {
        "colab": {
          "base_uri": "https://localhost:8080/"
        },
        "id": "2TbnXXH0WkqX",
        "outputId": "7a778838-3e3b-436a-c940-d23912c11066"
      },
      "execution_count": null,
      "outputs": [
        {
          "output_type": "execute_result",
          "data": {
            "text/plain": [
              "17"
            ]
          },
          "metadata": {},
          "execution_count": 82
        }
      ]
    },
    {
      "cell_type": "markdown",
      "source": [
        "# Latihan mingguan 1"
      ],
      "metadata": {
        "id": "xCsK18zcWuLd"
      }
    },
    {
      "cell_type": "code",
      "source": [
        "panjang = 20.5\n",
        "lebar = 25\n",
        "tinggi = 10\n",
        "\n",
        "keliling = 2*(panjang + lebar)\n",
        "luas = panjang * lebar\n",
        "volume = luas*tinggi\n",
        "\n",
        "print(\"Panjang = \", panjang)\n",
        "print(\"lebar = \", lebar)\n",
        "print(\"Tinggi = \", tinggi)\n",
        "print(\"keliling = \", keliling)\n",
        "print(\"volume = \", volume)"
      ],
      "metadata": {
        "colab": {
          "base_uri": "https://localhost:8080/"
        },
        "id": "gZMR72iaWoSf",
        "outputId": "3ea808f4-ec45-4bf3-b17d-031a6dd9dcb7"
      },
      "execution_count": null,
      "outputs": [
        {
          "output_type": "stream",
          "name": "stdout",
          "text": [
            "Panjang =  20.5\n",
            "lebar =  25\n",
            "Tinggi =  10\n",
            "keliling =  91.0\n",
            "volume =  5125.0\n"
          ]
        }
      ]
    },
    {
      "cell_type": "markdown",
      "source": [
        "## Latihan mingguan 2"
      ],
      "metadata": {
        "id": "jxO3FyTSZARV"
      }
    },
    {
      "cell_type": "code",
      "source": [
        "nilai = {\n",
        "  'kalkulus': {\n",
        "    'shafira': 85,\n",
        "    'amanda': 80,\n",
        "    'aditya': 75,\n",
        "    'nedia': 95,\n",
        "    'widya': 85,\n",
        "    'hanif': 75,\n",
        "    'andi': 70,\n",
        "    'dhanar': 80,\n",
        "    'hikma': 85\n",
        "  },\n",
        "  'statistika': {\n",
        "    'shafira': 75,\n",
        "    'amanda': 90,\n",
        "    'aditya': 80,\n",
        "    'nedia': 80,\n",
        "    'widya': 85,\n",
        "    'hanif': 90,\n",
        "    'andi': 75,\n",
        "    'dhanar': 85,\n",
        "    'hikma': 75\n",
        "  }\n",
        "}\n",
        "\n",
        "# Rata-rata nilai Shafira\n",
        "rata_rata_shafira = (nilai['kalkulus']['shafira'] + nilai['statistika']['shafira']) / 2\n",
        "\n",
        "# Jumlah nilai Hanif dan Andi\n",
        "jumlah_nilai_hanif_andi = nilai['kalkulus']['hanif'] + nilai['statistika']['hanif'] + nilai['kalkulus']['andi'] + nilai['statistika']['andi']\n",
        "\n",
        "# Rata-rata nilai Widya, Dhanar, Hikma, dan Nedia\n",
        "rata_rata_kalkulus_wdhn = (nilai['kalkulus']['widya'] + nilai['kalkulus']['dhanar'] + nilai['kalkulus']['hikma'] + nilai['kalkulus']['nedia']) / 4\n",
        "rata_rata_statistika_wdhn = (nilai['statistika']['widya'] + nilai['statistika']['dhanar'] + nilai['statistika']['hikma'] + nilai['statistika']['nedia']) / 4\n",
        "\n",
        "# Rata-rata nilai Kalkulus 1\n",
        "rata_rata_kalkulus_all = sum(nilai['kalkulus'].values()) / len(nilai['kalkulus'])\n",
        "\n",
        "# Rata-rata nilai Metode Statistika\n",
        "rata_rata_statistika_all = sum(nilai['statistika'].values()) / len(nilai['statistika'])\n",
        "\n",
        "print(\"Rata-rata nilai Shafira:\", rata_rata_shafira)\n",
        "print(\"Jumlah nilai Hanif dan Andi:\", jumlah_nilai_hanif_andi)\n",
        "print(\"Rata-rata nilai kalkulus Widya, Dhanar, Hikma, dan Nedia:\", rata_rata_kalkulus_wdhn)\n",
        "print(\"Rata-rata nilai metode statistika Widya, Dhanar, Hikma, dan Nedia:\", rata_rata_statistika_wdhn)\n",
        "print(\"Rata-rata nilai Kalkulus 1:\", rata_rata_kalkulus_all)\n",
        "print(\"Rata-rata nilai Metode Statistika:\", rata_rata_statistika_all)"
      ],
      "metadata": {
        "colab": {
          "base_uri": "https://localhost:8080/"
        },
        "id": "tTIDJxBK1Hpy",
        "outputId": "a7aeeb8f-81b3-4f30-9030-a49eca888903"
      },
      "execution_count": 5,
      "outputs": [
        {
          "output_type": "stream",
          "name": "stdout",
          "text": [
            "Rata-rata nilai Shafira: 80.0\n",
            "Jumlah nilai Hanif dan Andi: 310\n",
            "Rata-rata nilai kalkulus Widya, Dhanar, Hikma, dan Nedia: 86.25\n",
            "Rata-rata nilai statistika Widya, Dhanar, Hikma, dan Nedia: 81.25\n",
            "Rata-rata nilai Kalkulus 1: 81.11111111111111\n",
            "Rata-rata nilai Metode Statistika: 81.66666666666667\n"
          ]
        }
      ]
    },
    {
      "cell_type": "markdown",
      "source": [
        "Diketahui Dwi adalah seorang karyawan pabrik swasta yang telah bekerja selama 10 tahun. Setiap hari Dwi bekerja selama 8 jam. Prosedur penerimaan honor dari perusahaan ditentukan dengan cara jumlah jam masuk dikali dengan Rp 30.000,-.\n",
        "\n",
        "Buatlah sebuah program untuk menampilkan data berikut:\n",
        "\n",
        "Gaji pada bulan Agustus jika Dwi tidak masuk kerja selama 3 hari, berapa gaji yang diterima oleh Dwi.\n",
        "\n",
        "Apabila terdapat tunjangan bagi karyawan yang bekerja lebih dari 5 tahun sebesar 10% dari total gaji yang diterima setiap bulan, tentukan jumlah tunjangan yang diterima oleh Dwi pada bulan Agustus.\n",
        "\n",
        "Apabila pada bulan Agustus Dwi mendapatkan tugas lembur selama 5 jam, tentukan gaji total yang diterima oleh Dwi pada bulan Agustus. (upah lembur : Rp 10.000,- per jam)"
      ],
      "metadata": {
        "id": "1kgXA8glglkp"
      }
    },
    {
      "cell_type": "code",
      "source": [
        "gaji_dewi = 30 * 8 * 30000 # gaji dewi 1 bulan\n",
        "\n",
        "bolos_tiga_hari = 3 * 8 * 30000\n",
        "tunjangan = gaji_dewi * 10 // 100\n",
        "lembur_lima_jam = 5 * 10000\n",
        "\n",
        "print(\"Gaji pada bulan Agustus jika Dwi tidak masuk kerja selama 3 hari: \", gaji_dewi - bolos_tiga_hari)\n",
        "print(\"Jumlah tunjangan yang diterima oleh Dwi pada bulan Agustus:\", tunjangan)\n",
        "print(\"Pada bulan Agustus Dwi mendapatkan tugas lembur selama 5 jam, tentukan gaji total yang diterima oleh Dwi pada bulan Agustus:\", gaji_dewi + lembur_lima_jam + tunjangan)"
      ],
      "metadata": {
        "colab": {
          "base_uri": "https://localhost:8080/"
        },
        "id": "YZM-2HvIgSm1",
        "outputId": "4db7a05d-86e7-4122-ce8f-0c66f1f77d69"
      },
      "execution_count": null,
      "outputs": [
        {
          "output_type": "stream",
          "name": "stdout",
          "text": [
            "Gaji pada bulan Agustus jika Dwi tidak masuk kerja selama 3 hari:  6480000\n",
            "Jumlah tunjangan yang diterima oleh Dwi pada bulan Agustus: 720000\n",
            "Pada bulan Agustus Dwi mendapatkan tugas lembur selama 5 jam, tentukan gaji total yang diterima oleh Dwi pada bulan Agustus: 7970000\n"
          ]
        }
      ]
    }
  ]
}