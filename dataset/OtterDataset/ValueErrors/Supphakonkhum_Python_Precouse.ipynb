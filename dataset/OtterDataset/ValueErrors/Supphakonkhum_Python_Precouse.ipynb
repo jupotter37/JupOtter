{
  "nbformat": 4,
  "nbformat_minor": 0,
  "metadata": {
    "colab": {
      "provenance": [],
      "include_colab_link": true
    },
    "kernelspec": {
      "name": "python3",
      "display_name": "Python 3"
    },
    "language_info": {
      "name": "python"
    }
  },
  "cells": [
    {
      "cell_type": "markdown",
      "metadata": {
        "id": "view-in-github",
        "colab_type": "text"
      },
      "source": [
        "<a href=\"https://colab.research.google.com/github/Supphakonkhum/Python/blob/main/Precouse.ipynb\" target=\"_parent\"><img src=\"https://colab.research.google.com/assets/colab-badge.svg\" alt=\"Open In Colab\"/></a>"
      ]
    },
    {
      "cell_type": "code",
      "execution_count": 38,
      "metadata": {
        "id": "sh2MIO2fULdZ",
        "colab": {
          "base_uri": "https://localhost:8080/"
        },
        "outputId": "81ab1422-7f41-4e40-a4e0-6a56f630f5fe"
      },
      "outputs": [
        {
          "output_type": "stream",
          "name": "stdout",
          "text": [
            "5\n",
            "John\n"
          ]
        }
      ],
      "source": [
        "x = 5\n",
        "y = \"John\"\n",
        "print(x)\n",
        "print(y)"
      ]
    },
    {
      "cell_type": "code",
      "source": [],
      "metadata": {
        "id": "fvZaqi2Xbbqy"
      },
      "execution_count": 38,
      "outputs": []
    },
    {
      "cell_type": "code",
      "source": [
        "x = str(3)    # x will be '3'\n",
        "y = int(3)    # y will be 3\n",
        "z = float(3)  # z will be 3.0"
      ],
      "metadata": {
        "id": "zPlaABAUaqBI"
      },
      "execution_count": 39,
      "outputs": []
    },
    {
      "cell_type": "code",
      "source": [
        "z"
      ],
      "metadata": {
        "colab": {
          "base_uri": "https://localhost:8080/"
        },
        "id": "sbqeSZk5ay7w",
        "outputId": "3b9b7881-a89c-4c5d-a1ee-f438a62585aa"
      },
      "execution_count": 40,
      "outputs": [
        {
          "output_type": "execute_result",
          "data": {
            "text/plain": [
              "3.0"
            ]
          },
          "metadata": {},
          "execution_count": 40
        }
      ]
    },
    {
      "cell_type": "code",
      "source": [
        "x = 5.5\n",
        "print(type(x))"
      ],
      "metadata": {
        "colab": {
          "base_uri": "https://localhost:8080/"
        },
        "id": "gsYTvez1bePQ",
        "outputId": "c2a97809-9129-4b3f-ce71-2a4ddcf13dcb"
      },
      "execution_count": 41,
      "outputs": [
        {
          "output_type": "stream",
          "name": "stdout",
          "text": [
            "<class 'float'>\n"
          ]
        }
      ]
    },
    {
      "cell_type": "code",
      "source": [
        "c = 1.1\n",
        "type(c)"
      ],
      "metadata": {
        "colab": {
          "base_uri": "https://localhost:8080/"
        },
        "id": "IJ7VQcluzkRG",
        "outputId": "f56bc79a-88b9-4080-bc1c-f7c68cc43132"
      },
      "execution_count": 42,
      "outputs": [
        {
          "output_type": "execute_result",
          "data": {
            "text/plain": [
              "float"
            ]
          },
          "metadata": {},
          "execution_count": 42
        }
      ]
    },
    {
      "cell_type": "code",
      "source": [
        "print(\"Hello World!\")"
      ],
      "metadata": {
        "colab": {
          "base_uri": "https://localhost:8080/"
        },
        "id": "h7-jq4sOcEwA",
        "outputId": "30f5a330-9e6b-40ab-d700-9bc618b4f0c4"
      },
      "execution_count": 43,
      "outputs": [
        {
          "output_type": "stream",
          "name": "stdout",
          "text": [
            "Hello World!\n"
          ]
        }
      ]
    },
    {
      "cell_type": "code",
      "source": [
        "print('single quote')"
      ],
      "metadata": {
        "colab": {
          "base_uri": "https://localhost:8080/"
        },
        "id": "1BqsjS0ucM_A",
        "outputId": "5defdf63-a9bb-4d1f-cfb9-5865e8451489"
      },
      "execution_count": 44,
      "outputs": [
        {
          "output_type": "stream",
          "name": "stdout",
          "text": [
            "single quote\n"
          ]
        }
      ]
    },
    {
      "cell_type": "code",
      "source": [
        "print('hello'+'world')\n",
        "print('hello'+' '+'world')\n",
        "print('hello','world','!','R2DE')"
      ],
      "metadata": {
        "colab": {
          "base_uri": "https://localhost:8080/"
        },
        "id": "Z6CuP_y7ci3H",
        "outputId": "d33debcd-0d68-4d17-aff8-7cbddab10f9a"
      },
      "execution_count": 45,
      "outputs": [
        {
          "output_type": "stream",
          "name": "stdout",
          "text": [
            "helloworld\n",
            "hello world\n",
            "hello world ! R2DE\n"
          ]
        }
      ]
    },
    {
      "cell_type": "code",
      "source": [
        "'Colab is easyy'"
      ],
      "metadata": {
        "colab": {
          "base_uri": "https://localhost:8080/",
          "height": 34
        },
        "id": "f_wKp-7jdCDS",
        "outputId": "ac4bde62-3304-4000-8105-469129e2a829"
      },
      "execution_count": 46,
      "outputs": [
        {
          "output_type": "execute_result",
          "data": {
            "text/plain": [
              "'Colab is easyy'"
            ],
            "application/vnd.google.colaboratory.intrinsic+json": {
              "type": "string"
            }
          },
          "metadata": {},
          "execution_count": 46
        }
      ]
    },
    {
      "cell_type": "code",
      "source": [
        "#int\n",
        "a = 1\n",
        "a"
      ],
      "metadata": {
        "colab": {
          "base_uri": "https://localhost:8080/"
        },
        "id": "xD_3gWUPdcsH",
        "outputId": "c56acea5-d5c9-4a18-8726-1a3d77c1bd17"
      },
      "execution_count": 47,
      "outputs": [
        {
          "output_type": "execute_result",
          "data": {
            "text/plain": [
              "1"
            ]
          },
          "metadata": {},
          "execution_count": 47
        }
      ]
    },
    {
      "cell_type": "code",
      "source": [
        "\n"
      ],
      "metadata": {
        "id": "E16bivULegAC"
      },
      "execution_count": 47,
      "outputs": []
    },
    {
      "cell_type": "code",
      "source": [
        "float(a)"
      ],
      "metadata": {
        "colab": {
          "base_uri": "https://localhost:8080/"
        },
        "id": "dyKF9gajfAcy",
        "outputId": "4c9f28f9-590a-4e49-dd06-a4724aa46d3b"
      },
      "execution_count": 48,
      "outputs": [
        {
          "output_type": "execute_result",
          "data": {
            "text/plain": [
              "1.0"
            ]
          },
          "metadata": {},
          "execution_count": 48
        }
      ]
    },
    {
      "cell_type": "code",
      "source": [
        "##clean code จะได้เป็นระเบียบ คนอื่นจะได้มาสานต่อได้ เพราะเราทำงานเป็นทีม!##"
      ],
      "metadata": {
        "id": "1rgws0E7docY"
      },
      "execution_count": 49,
      "outputs": []
    },
    {
      "cell_type": "code",
      "source": [
        "# String\n",
        "str(a)"
      ],
      "metadata": {
        "colab": {
          "base_uri": "https://localhost:8080/",
          "height": 34
        },
        "id": "ys58CC5qeA9Q",
        "outputId": "b4b0b0af-77bc-43f4-fb0b-1d1f2fb2f9a0"
      },
      "execution_count": 50,
      "outputs": [
        {
          "output_type": "execute_result",
          "data": {
            "text/plain": [
              "'1'"
            ],
            "application/vnd.google.colaboratory.intrinsic+json": {
              "type": "string"
            }
          },
          "metadata": {},
          "execution_count": 50
        }
      ]
    },
    {
      "cell_type": "code",
      "source": [
        "str(a)+\"1\""
      ],
      "metadata": {
        "colab": {
          "base_uri": "https://localhost:8080/",
          "height": 34
        },
        "id": "Ff1qYXB4fEWw",
        "outputId": "742aa19a-9c47-45c9-d064-71d94eaa9920"
      },
      "execution_count": 51,
      "outputs": [
        {
          "output_type": "execute_result",
          "data": {
            "text/plain": [
              "'11'"
            ],
            "application/vnd.google.colaboratory.intrinsic+json": {
              "type": "string"
            }
          },
          "metadata": {},
          "execution_count": 51
        }
      ]
    },
    {
      "cell_type": "code",
      "source": [
        "print(1+2+3+4)"
      ],
      "metadata": {
        "colab": {
          "base_uri": "https://localhost:8080/"
        },
        "id": "wXZiH92NfTXS",
        "outputId": "fc6d9738-f0bb-43f0-99cb-4fd7987b5199"
      },
      "execution_count": 52,
      "outputs": [
        {
          "output_type": "stream",
          "name": "stdout",
          "text": [
            "10\n"
          ]
        }
      ]
    },
    {
      "cell_type": "markdown",
      "source": [
        "# Boolen True/False"
      ],
      "metadata": {
        "id": "UyvQQfUYfzRa"
      }
    },
    {
      "cell_type": "code",
      "source": [
        "a"
      ],
      "metadata": {
        "colab": {
          "base_uri": "https://localhost:8080/"
        },
        "id": "nKYJ6vVKfrIC",
        "outputId": "5cd931e3-84f6-441b-c781-0e2852dda720"
      },
      "execution_count": 53,
      "outputs": [
        {
          "output_type": "execute_result",
          "data": {
            "text/plain": [
              "1"
            ]
          },
          "metadata": {},
          "execution_count": 53
        }
      ]
    },
    {
      "cell_type": "code",
      "source": [
        "bool(a)"
      ],
      "metadata": {
        "colab": {
          "base_uri": "https://localhost:8080/"
        },
        "id": "3yz4ovQefvbx",
        "outputId": "c387efb6-b13c-4c86-9f6f-296350e38055"
      },
      "execution_count": 54,
      "outputs": [
        {
          "output_type": "execute_result",
          "data": {
            "text/plain": [
              "True"
            ]
          },
          "metadata": {},
          "execution_count": 54
        }
      ]
    },
    {
      "cell_type": "markdown",
      "source": [],
      "metadata": {
        "id": "C8GVwD4VdAl4"
      }
    },
    {
      "cell_type": "code",
      "source": [
        "bool(None)"
      ],
      "metadata": {
        "colab": {
          "base_uri": "https://localhost:8080/"
        },
        "id": "ZUxa0Wwgf4CY",
        "outputId": "65f26026-f5d7-43d9-8e00-296c044b3db6"
      },
      "execution_count": 55,
      "outputs": [
        {
          "output_type": "execute_result",
          "data": {
            "text/plain": [
              "False"
            ]
          },
          "metadata": {},
          "execution_count": 55
        }
      ]
    },
    {
      "cell_type": "code",
      "source": [
        "bool(0)"
      ],
      "metadata": {
        "colab": {
          "base_uri": "https://localhost:8080/"
        },
        "id": "s7mGoNYnf-Jx",
        "outputId": "f4cc7b78-4589-45bc-8dd4-755fb6164c50"
      },
      "execution_count": 56,
      "outputs": [
        {
          "output_type": "execute_result",
          "data": {
            "text/plain": [
              "False"
            ]
          },
          "metadata": {},
          "execution_count": 56
        }
      ]
    },
    {
      "cell_type": "markdown",
      "source": [
        "### คำสั่ง type() ไว้ตรวจสอบประเภทตัวแปร ว่าเป็นประเภทอะไร"
      ],
      "metadata": {
        "id": "atFhgIskgRDh"
      }
    },
    {
      "cell_type": "code",
      "source": [
        "type(a)"
      ],
      "metadata": {
        "colab": {
          "base_uri": "https://localhost:8080/"
        },
        "id": "ylX0FhbfgE4B",
        "outputId": "de56b7ca-d6fd-4055-a172-9d2e356a682e"
      },
      "execution_count": 57,
      "outputs": [
        {
          "output_type": "execute_result",
          "data": {
            "text/plain": [
              "int"
            ]
          },
          "metadata": {},
          "execution_count": 57
        }
      ]
    },
    {
      "cell_type": "code",
      "source": [
        "b = \"Python!\"\n",
        "b"
      ],
      "metadata": {
        "colab": {
          "base_uri": "https://localhost:8080/",
          "height": 34
        },
        "id": "RIDSO_YmgWjh",
        "outputId": "08c86ae7-5274-4495-9081-01ab815b5b90"
      },
      "execution_count": 58,
      "outputs": [
        {
          "output_type": "execute_result",
          "data": {
            "text/plain": [
              "'Python!'"
            ],
            "application/vnd.google.colaboratory.intrinsic+json": {
              "type": "string"
            }
          },
          "metadata": {},
          "execution_count": 58
        }
      ]
    },
    {
      "cell_type": "code",
      "source": [
        "int(b)"
      ],
      "metadata": {
        "colab": {
          "base_uri": "https://localhost:8080/",
          "height": 141
        },
        "id": "fEWJ9rj4gnQZ",
        "outputId": "39a42b86-edfd-419f-d036-b20a60eb333c"
      },
      "execution_count": 59,
      "outputs": [
        {
          "output_type": "error",
          "ename": "ValueError",
          "evalue": "invalid literal for int() with base 10: 'Python!'",
          "traceback": [
            "\u001b[0;31m---------------------------------------------------------------------------\u001b[0m",
            "\u001b[0;31mValueError\u001b[0m                                Traceback (most recent call last)",
            "\u001b[0;32m<ipython-input-59-07ae29993d50>\u001b[0m in \u001b[0;36m<cell line: 0>\u001b[0;34m()\u001b[0m\n\u001b[0;32m----> 1\u001b[0;31m \u001b[0mint\u001b[0m\u001b[0;34m(\u001b[0m\u001b[0mb\u001b[0m\u001b[0;34m)\u001b[0m\u001b[0;34m\u001b[0m\u001b[0;34m\u001b[0m\u001b[0m\n\u001b[0m",
            "\u001b[0;31mValueError\u001b[0m: invalid literal for int() with base 10: 'Python!'"
          ]
        }
      ]
    },
    {
      "cell_type": "markdown",
      "source": [
        "Python Data Structures - โครงสร้างข้อมูลที่ควรรู้"
      ],
      "metadata": {
        "id": "8EFXnChTgvBw"
      }
    },
    {
      "cell_type": "markdown",
      "source": [
        "## List"
      ],
      "metadata": {
        "id": "pbOAm1Pbg0cJ"
      }
    },
    {
      "cell_type": "code",
      "source": [
        "#ทบทวนตัวแปร\n",
        "print(a,type(a))\n",
        "print(b,type(b))"
      ],
      "metadata": {
        "id": "ueza6xuTgtg5",
        "outputId": "d44ff77c-a586-4d12-bcaf-3f63802dcdcb",
        "colab": {
          "base_uri": "https://localhost:8080/"
        }
      },
      "execution_count": 60,
      "outputs": [
        {
          "output_type": "stream",
          "name": "stdout",
          "text": [
            "1 <class 'int'>\n",
            "Python! <class 'str'>\n"
          ]
        }
      ]
    },
    {
      "cell_type": "markdown",
      "source": [
        "การสร้าง List โดยใช้เครื่องหมาย [ ]"
      ],
      "metadata": {
        "id": "Ji7sjnbxhQ_w"
      }
    },
    {
      "cell_type": "code",
      "source": [
        "empty_list = []\n",
        "print(empty_list)"
      ],
      "metadata": {
        "id": "QGYNEBBGhHfp",
        "outputId": "ef514054-bb4d-4e5d-ed99-508e77b0772a",
        "colab": {
          "base_uri": "https://localhost:8080/"
        }
      },
      "execution_count": 61,
      "outputs": [
        {
          "output_type": "stream",
          "name": "stdout",
          "text": [
            "[]\n"
          ]
        }
      ]
    },
    {
      "cell_type": "markdown",
      "source": [
        "สร้าง list จากตัวแปรที่สร้างขึ้น"
      ],
      "metadata": {
        "id": "cC09D58yhY5B"
      }
    },
    {
      "cell_type": "code",
      "source": [
        "# a = 1\n",
        "# b = Python!\n",
        "l = [b,a,a+1,a+2]\n",
        "l"
      ],
      "metadata": {
        "id": "v7R9AdbhhdOB",
        "outputId": "edba57a8-1de7-4c1e-e89c-141497dda26b",
        "colab": {
          "base_uri": "https://localhost:8080/"
        }
      },
      "execution_count": 62,
      "outputs": [
        {
          "output_type": "execute_result",
          "data": {
            "text/plain": [
              "['Python!', 1, 2, 3]"
            ]
          },
          "metadata": {},
          "execution_count": 62
        }
      ]
    },
    {
      "cell_type": "markdown",
      "source": [
        "ดูจำนวนสมาชิก (length) ของ list"
      ],
      "metadata": {
        "id": "WfBilFcZhsKA"
      }
    },
    {
      "cell_type": "code",
      "source": [
        "#ดูจำนวนสมาชิก\n",
        "len(l)"
      ],
      "metadata": {
        "id": "Q60cRD-BhtV5",
        "outputId": "8d2cb66b-9bb4-4aed-9df3-a4311b6b3b91",
        "colab": {
          "base_uri": "https://localhost:8080/"
        }
      },
      "execution_count": 63,
      "outputs": [
        {
          "output_type": "execute_result",
          "data": {
            "text/plain": [
              "4"
            ]
          },
          "metadata": {},
          "execution_count": 63
        }
      ]
    },
    {
      "cell_type": "markdown",
      "source": [
        "การเรียกดูค่า list เฉพาะบางช่อง"
      ],
      "metadata": {
        "id": "-oEkuu7Fh8Wu"
      }
    },
    {
      "cell_type": "code",
      "source": [
        "l[3]"
      ],
      "metadata": {
        "id": "q03MpGk4h8rh",
        "outputId": "b758d408-aa99-4c0b-ef7b-ecff0018f6ff",
        "colab": {
          "base_uri": "https://localhost:8080/"
        }
      },
      "execution_count": 64,
      "outputs": [
        {
          "output_type": "execute_result",
          "data": {
            "text/plain": [
              "3"
            ]
          },
          "metadata": {},
          "execution_count": 64
        }
      ]
    },
    {
      "cell_type": "code",
      "source": [
        "l[2]"
      ],
      "metadata": {
        "id": "vEsvi8dpi9TZ",
        "outputId": "48b1eb93-b96b-4bbb-e1eb-75d88c5ac6fc",
        "colab": {
          "base_uri": "https://localhost:8080/"
        }
      },
      "execution_count": 65,
      "outputs": [
        {
          "output_type": "execute_result",
          "data": {
            "text/plain": [
              "2"
            ]
          },
          "metadata": {},
          "execution_count": 65
        }
      ]
    },
    {
      "cell_type": "code",
      "source": [
        "l[1]"
      ],
      "metadata": {
        "id": "DITuWoeCi-3n",
        "outputId": "d3b64843-dcaa-4806-ac49-594a794fc86f",
        "colab": {
          "base_uri": "https://localhost:8080/"
        }
      },
      "execution_count": 66,
      "outputs": [
        {
          "output_type": "execute_result",
          "data": {
            "text/plain": [
              "1"
            ]
          },
          "metadata": {},
          "execution_count": 66
        }
      ]
    },
    {
      "cell_type": "code",
      "source": [
        "l[0] #ถ้าลิสต์ 0 จาก l จะคือ Python!"
      ],
      "metadata": {
        "id": "OiyrPQ8kityH",
        "outputId": "937e5153-b217-4c3a-cc98-c64499854464",
        "colab": {
          "base_uri": "https://localhost:8080/",
          "height": 34
        }
      },
      "execution_count": 67,
      "outputs": [
        {
          "output_type": "execute_result",
          "data": {
            "text/plain": [
              "'Python!'"
            ],
            "application/vnd.google.colaboratory.intrinsic+json": {
              "type": "string"
            }
          },
          "metadata": {},
          "execution_count": 67
        }
      ]
    },
    {
      "cell_type": "markdown",
      "source": [
        "การเปลี่ยนแปลง (assign) ค่าในสมาชิกของ list"
      ],
      "metadata": {
        "id": "3fzUXxMEh9FJ"
      }
    },
    {
      "cell_type": "code",
      "source": [
        "l[3] = 5\n",
        "l"
      ],
      "metadata": {
        "id": "W8GsP-2gh9N4",
        "outputId": "12f9ce92-442a-4416-8274-a4c23b5bb820",
        "colab": {
          "base_uri": "https://localhost:8080/"
        }
      },
      "execution_count": 68,
      "outputs": [
        {
          "output_type": "execute_result",
          "data": {
            "text/plain": [
              "['Python!', 1, 2, 5]"
            ]
          },
          "metadata": {},
          "execution_count": 68
        }
      ]
    },
    {
      "cell_type": "markdown",
      "source": [
        "ถ้าพยายามเปลี่ยนแปลงข้อมูล โดยที่ index (เลขใช้อ้างอิงลำดับ: เริ่มจาก 0 เสมอ) มีค่ามากกว่า"
      ],
      "metadata": {
        "id": "3K5J_AxBjIfJ"
      }
    },
    {
      "cell_type": "code",
      "source": [
        "# IndexError\n",
        "l[4] = \":)\" #ใส่ไม่ได้เพราะ l ไม่มี index ที่ 4"
      ],
      "metadata": {
        "id": "s_9-atHrjVmR",
        "outputId": "a2c07630-f3ff-43c1-cd26-3733cc74acf1",
        "colab": {
          "base_uri": "https://localhost:8080/",
          "height": 159
        }
      },
      "execution_count": 69,
      "outputs": [
        {
          "output_type": "error",
          "ename": "IndexError",
          "evalue": "list assignment index out of range",
          "traceback": [
            "\u001b[0;31m---------------------------------------------------------------------------\u001b[0m",
            "\u001b[0;31mIndexError\u001b[0m                                Traceback (most recent call last)",
            "\u001b[0;32m<ipython-input-69-bb651e61182c>\u001b[0m in \u001b[0;36m<cell line: 0>\u001b[0;34m()\u001b[0m\n\u001b[1;32m      1\u001b[0m \u001b[0;31m# IndexError\u001b[0m\u001b[0;34m\u001b[0m\u001b[0;34m\u001b[0m\u001b[0m\n\u001b[0;32m----> 2\u001b[0;31m \u001b[0ml\u001b[0m\u001b[0;34m[\u001b[0m\u001b[0;36m4\u001b[0m\u001b[0;34m]\u001b[0m \u001b[0;34m=\u001b[0m \u001b[0;34m\":)\"\u001b[0m \u001b[0;31m#ใส่ไม่ได้เพราะ l ไม่มี index ที่ 4\u001b[0m\u001b[0;34m\u001b[0m\u001b[0;34m\u001b[0m\u001b[0m\n\u001b[0m",
            "\u001b[0;31mIndexError\u001b[0m: list assignment index out of range"
          ]
        }
      ]
    },
    {
      "cell_type": "markdown",
      "source": [
        "ดูการเปลี่ยนแปลง list"
      ],
      "metadata": {
        "id": "UmYhNxtqjeih"
      }
    },
    {
      "cell_type": "code",
      "source": [
        "l"
      ],
      "metadata": {
        "id": "OiRmt_6Ojesi",
        "outputId": "0eac5d8e-8f14-45e9-ce3e-e57877066e26",
        "colab": {
          "base_uri": "https://localhost:8080/"
        }
      },
      "execution_count": 72,
      "outputs": [
        {
          "output_type": "execute_result",
          "data": {
            "text/plain": [
              "['Python!', 1, 2, 5]"
            ]
          },
          "metadata": {},
          "execution_count": 72
        }
      ]
    },
    {
      "cell_type": "markdown",
      "source": [
        "เพิ่มสมาชิกของ list ต่อท้าย ใช้คำสั่ง append"
      ],
      "metadata": {
        "id": "4ph6CDRmjfE4"
      }
    },
    {
      "cell_type": "code",
      "source": [
        "l.append(':)')\n",
        "l"
      ],
      "metadata": {
        "id": "jDmFjvKhjp4_",
        "outputId": "afce63e5-2095-46e4-8b34-8e14c723d560",
        "colab": {
          "base_uri": "https://localhost:8080/"
        }
      },
      "execution_count": 73,
      "outputs": [
        {
          "output_type": "execute_result",
          "data": {
            "text/plain": [
              "['Python!', 1, 2, 5, ':)']"
            ]
          },
          "metadata": {},
          "execution_count": 73
        }
      ]
    },
    {
      "cell_type": "code",
      "source": [
        "len(l)"
      ],
      "metadata": {
        "id": "IYwG2eTgjfOx",
        "outputId": "cad86c45-faf7-44af-838e-e7c1750049ca",
        "colab": {
          "base_uri": "https://localhost:8080/"
        }
      },
      "execution_count": 74,
      "outputs": [
        {
          "output_type": "execute_result",
          "data": {
            "text/plain": [
              "5"
            ]
          },
          "metadata": {},
          "execution_count": 74
        }
      ]
    },
    {
      "cell_type": "markdown",
      "source": [
        "pop() คือ การ remove สมาชิกตัวสุดท้ายของ list"
      ],
      "metadata": {
        "id": "hJH6b7pQkFM5"
      }
    },
    {
      "cell_type": "code",
      "source": [
        "l.pop()\n",
        "l"
      ],
      "metadata": {
        "id": "MGUk2uPFkFdx",
        "outputId": "9e713267-06ba-4e87-df0e-d91def8b2e33",
        "colab": {
          "base_uri": "https://localhost:8080/"
        }
      },
      "execution_count": 75,
      "outputs": [
        {
          "output_type": "execute_result",
          "data": {
            "text/plain": [
              "['Python!', 1, 2, 5]"
            ]
          },
          "metadata": {},
          "execution_count": 75
        }
      ]
    },
    {
      "cell_type": "markdown",
      "source": [
        "# Tuple"
      ],
      "metadata": {
        "id": "dpceA-6SkUqY"
      }
    },
    {
      "cell_type": "markdown",
      "source": [
        "Tuple เป็น data stucture ที่เก็บข้อมูลเป็นลำดับ (คล้ายlist) *แต่ไม่สามารถแก้ไข เปลี่ยนแปลงข้อมูลได้* ใช้สัญลักษณ์ () แทน Tuple ในการสร้าง"
      ],
      "metadata": {
        "id": "RumIvDQgk3Wi"
      }
    },
    {
      "cell_type": "markdown",
      "source": [
        "[ ] t = (0,1,2,3,4)"
      ],
      "metadata": {
        "id": "xnWbVUY6lOyy"
      }
    },
    {
      "cell_type": "code",
      "source": [
        "t = (0,1,2,3,4)"
      ],
      "metadata": {
        "id": "Bq4wFuVfkUyB"
      },
      "execution_count": 76,
      "outputs": []
    },
    {
      "cell_type": "code",
      "source": [
        "len(t)"
      ],
      "metadata": {
        "id": "x4w2o2iUlYzI",
        "outputId": "fe19c1b2-fd3c-4afa-b4c2-0a46e93c1987",
        "colab": {
          "base_uri": "https://localhost:8080/"
        }
      },
      "execution_count": 77,
      "outputs": [
        {
          "output_type": "execute_result",
          "data": {
            "text/plain": [
              "5"
            ]
          },
          "metadata": {},
          "execution_count": 77
        }
      ]
    },
    {
      "cell_type": "code",
      "source": [
        "t[0:3]"
      ],
      "metadata": {
        "id": "oPtw6MnVlcuC",
        "outputId": "4fa789c6-82aa-4a8f-8fc2-e339ddc431f1",
        "colab": {
          "base_uri": "https://localhost:8080/"
        }
      },
      "execution_count": 78,
      "outputs": [
        {
          "output_type": "execute_result",
          "data": {
            "text/plain": [
              "(0, 1, 2)"
            ]
          },
          "metadata": {},
          "execution_count": 78
        }
      ]
    },
    {
      "cell_type": "markdown",
      "source": [
        "### การใช้เลข index (สำหรับ list ,tuple และ string)"
      ],
      "metadata": {
        "id": "lCSSVjvMlmxR"
      }
    },
    {
      "cell_type": "markdown",
      "source": [
        "การเข้าถึง ข้อมูลตัวสุดท้ายของ tuple"
      ],
      "metadata": {
        "id": "D1LprdgKl3Qo"
      }
    },
    {
      "cell_type": "code",
      "source": [
        "t[-1]"
      ],
      "metadata": {
        "id": "pngU_yCNlgrS",
        "outputId": "e81e269f-1b6c-4dac-dbf6-fb396bdd3ab0",
        "colab": {
          "base_uri": "https://localhost:8080/"
        }
      },
      "execution_count": 79,
      "outputs": [
        {
          "output_type": "execute_result",
          "data": {
            "text/plain": [
              "4"
            ]
          },
          "metadata": {},
          "execution_count": 79
        }
      ]
    },
    {
      "cell_type": "markdown",
      "source": [
        "การเข้าถึงข้อมูล ตัวที่สาม จากท้ายสุด จนถึงตัวสุดท้าย"
      ],
      "metadata": {
        "id": "16EfW78QmC7B"
      }
    },
    {
      "cell_type": "code",
      "source": [
        "t[-3:] # เอาตำแหน่ง -3 -2 -1"
      ],
      "metadata": {
        "id": "E_f_g8eNmMmR",
        "outputId": "41ed92c6-7846-4015-ccee-ccdfb229b0df",
        "colab": {
          "base_uri": "https://localhost:8080/"
        }
      },
      "execution_count": 80,
      "outputs": [
        {
          "output_type": "execute_result",
          "data": {
            "text/plain": [
              "(2, 3, 4)"
            ]
          },
          "metadata": {},
          "execution_count": 80
        }
      ]
    },
    {
      "cell_type": "code",
      "source": [
        "t[:-3] # เอาตำแหน่ง -5 -4"
      ],
      "metadata": {
        "id": "0mCRs9dbmSSC",
        "outputId": "f3113727-a736-4cfc-813e-80be7ccc7938",
        "colab": {
          "base_uri": "https://localhost:8080/"
        }
      },
      "execution_count": 81,
      "outputs": [
        {
          "output_type": "execute_result",
          "data": {
            "text/plain": [
              "(0, 1)"
            ]
          },
          "metadata": {},
          "execution_count": 81
        }
      ]
    },
    {
      "cell_type": "markdown",
      "source": [
        "Tuple เป็น data structure แบบ immutable ถ้าพยายามแก้ไข จะได้ TypeError"
      ],
      "metadata": {
        "id": "Qen9Kc3jmmU6"
      }
    },
    {
      "cell_type": "code",
      "source": [
        "# TypeError ไม่สามารถแก้ไข tuple ได้ :]\n",
        "t[4] = 5"
      ],
      "metadata": {
        "id": "RlfCNdh2mw06",
        "outputId": "c75277b2-192b-48af-c78b-afb873ed4fdf",
        "colab": {
          "base_uri": "https://localhost:8080/",
          "height": 159
        }
      },
      "execution_count": 82,
      "outputs": [
        {
          "output_type": "error",
          "ename": "TypeError",
          "evalue": "'tuple' object does not support item assignment",
          "traceback": [
            "\u001b[0;31m---------------------------------------------------------------------------\u001b[0m",
            "\u001b[0;31mTypeError\u001b[0m                                 Traceback (most recent call last)",
            "\u001b[0;32m<ipython-input-82-6968b0f50d42>\u001b[0m in \u001b[0;36m<cell line: 0>\u001b[0;34m()\u001b[0m\n\u001b[1;32m      1\u001b[0m \u001b[0;31m# TypeError ไม่สามารถแก้ไข tuple ได้ :]\u001b[0m\u001b[0;34m\u001b[0m\u001b[0;34m\u001b[0m\u001b[0m\n\u001b[0;32m----> 2\u001b[0;31m \u001b[0mt\u001b[0m\u001b[0;34m[\u001b[0m\u001b[0;36m4\u001b[0m\u001b[0;34m]\u001b[0m \u001b[0;34m=\u001b[0m \u001b[0;36m5\u001b[0m\u001b[0;34m\u001b[0m\u001b[0;34m\u001b[0m\u001b[0m\n\u001b[0m",
            "\u001b[0;31mTypeError\u001b[0m: 'tuple' object does not support item assignment"
          ]
        }
      ]
    },
    {
      "cell_type": "markdown",
      "source": [
        "## Dictionary"
      ],
      "metadata": {
        "id": "qfmF_bJ2m-W4"
      }
    },
    {
      "cell_type": "markdown",
      "source": [
        "Dictionary เป็น data structure เก็บลักษณะ key - value ใช้สัญลักษณ์ {} แทน dictionary ในการสร้าง\n",
        "เช่น  dict = {\"key\" : \"value\"}\n",
        "หรือ dict = {} เพื่อสร้าง dict เปล่า"
      ],
      "metadata": {
        "id": "nLfUKAABnQmL"
      }
    },
    {
      "cell_type": "markdown",
      "source": [
        "สร้าง grade dictionary สำหรับการตัดเกรด"
      ],
      "metadata": {
        "id": "HNK7WvGYnr7o"
      }
    },
    {
      "cell_type": "code",
      "source": [
        "grade = {\n",
        "    \"A\" : 80,\n",
        "    \"B\" : 70,\n",
        "    \"C\" : 60,\n",
        "    \"D\" : 50\n",
        "}\n",
        "grade"
      ],
      "metadata": {
        "id": "OURw2WT_nwk3",
        "outputId": "af254b19-f9f8-464a-a915-caf635cbeb57",
        "colab": {
          "base_uri": "https://localhost:8080/"
        }
      },
      "execution_count": 84,
      "outputs": [
        {
          "output_type": "execute_result",
          "data": {
            "text/plain": [
              "{'A': 80, 'B': 70, 'C': 60, 'D': 50}"
            ]
          },
          "metadata": {},
          "execution_count": 84
        }
      ]
    },
    {
      "cell_type": "code",
      "source": [
        "grade[\"A\"]"
      ],
      "metadata": {
        "id": "ZqW5e77koJAq",
        "outputId": "fec8e7ad-15c3-4726-c27e-e3ab42278f96",
        "colab": {
          "base_uri": "https://localhost:8080/"
        }
      },
      "execution_count": 85,
      "outputs": [
        {
          "output_type": "execute_result",
          "data": {
            "text/plain": [
              "80"
            ]
          },
          "metadata": {},
          "execution_count": 85
        }
      ]
    },
    {
      "cell_type": "code",
      "source": [
        "# เพิ่มเกรดลงไป\n",
        "grade[\"B+\"] = 75\n",
        "grade"
      ],
      "metadata": {
        "id": "ctyCXKMnoOwS",
        "outputId": "3d98335c-f410-440e-8638-90b8dfc77745",
        "colab": {
          "base_uri": "https://localhost:8080/"
        }
      },
      "execution_count": 86,
      "outputs": [
        {
          "output_type": "execute_result",
          "data": {
            "text/plain": [
              "{'A': 80, 'B': 70, 'C': 60, 'D': 50, 'B+': 75}"
            ]
          },
          "metadata": {},
          "execution_count": 86
        }
      ]
    },
    {
      "cell_type": "markdown",
      "source": [
        "สร้าง dictionary ว่าง และเพิ่มหรืออัปเดทค่า key-value"
      ],
      "metadata": {
        "id": "dSE4LFKioeyj"
      }
    },
    {
      "cell_type": "code",
      "source": [
        "#สร้างก่อน\n",
        "d = {}\n",
        "\n",
        "#add เข้าไป\n",
        "d[\"s001\"] = \"Perth\"\n",
        "d[\"s002\"] = \"Fon\""
      ],
      "metadata": {
        "id": "PwkeFUO-omOi"
      },
      "execution_count": 87,
      "outputs": []
    },
    {
      "cell_type": "code",
      "source": [
        "d[\"s001\"]"
      ],
      "metadata": {
        "id": "8uDmsh7gowE7",
        "outputId": "4c703ec4-5941-4182-ca8e-51ae5e8c6817",
        "colab": {
          "base_uri": "https://localhost:8080/",
          "height": 34
        }
      },
      "execution_count": 111,
      "outputs": [
        {
          "output_type": "execute_result",
          "data": {
            "text/plain": [
              "'Perth'"
            ],
            "application/vnd.google.colaboratory.intrinsic+json": {
              "type": "string"
            }
          },
          "metadata": {},
          "execution_count": 111
        }
      ]
    },
    {
      "cell_type": "markdown",
      "source": [
        "## Python String"
      ],
      "metadata": {
        "id": "LILdvc1TpFHz"
      }
    },
    {
      "cell_type": "markdown",
      "source": [
        "String สำหรับเก็บตัวแปรประเภทข้อความ สามารถเข้าถึงด้วย index ได้เหมือนกับ list สามารถต่อเชื่อม string หลายๆ string ด้วยเครื่องหมาย + หรือ join() ในกรณีที่เป็น list และมีฟังก์ชันอื่นๆ ที่เกี่ยวกับ string อีกมากมาย เช่น\n",
        "- split() แยก string ด้วย symbol ผลลัพธ์ของการรันจะออกมาเป็น list\n",
        "- strip() การลบช่องว่างที่อยู่หน้าหรือหลังสุด"
      ],
      "metadata": {
        "id": "k9svatz6pKuz"
      }
    },
    {
      "cell_type": "code",
      "source": [
        "sentence = \" Hello Python. I am Ready. \""
      ],
      "metadata": {
        "id": "xOVFh4u0p76M"
      },
      "execution_count": 89,
      "outputs": []
    },
    {
      "cell_type": "markdown",
      "source": [
        "String จะคล้ายคลึงกับ list ตรงที่สามารถดูค่าตาม index ที่ระบุตำแหน่งนั้นได้"
      ],
      "metadata": {
        "id": "jndTRCnsqFVK"
      }
    },
    {
      "cell_type": "code",
      "source": [
        "sentence[1]"
      ],
      "metadata": {
        "id": "VdL1h3bmqOE7",
        "outputId": "39209a11-a48c-4d11-ddba-4d0b6ec97b4d",
        "colab": {
          "base_uri": "https://localhost:8080/",
          "height": 34
        }
      },
      "execution_count": 90,
      "outputs": [
        {
          "output_type": "execute_result",
          "data": {
            "text/plain": [
              "'H'"
            ],
            "application/vnd.google.colaboratory.intrinsic+json": {
              "type": "string"
            }
          },
          "metadata": {},
          "execution_count": 90
        }
      ]
    },
    {
      "cell_type": "markdown",
      "source": [
        "การตัดบางช่วงของ string โดยใช้เครื่องหมาย : ควบคู่กับ index ดังนี้ เริ่มต้น:ตัวสุดท้าย+1"
      ],
      "metadata": {
        "id": "0kY9vtKBqU5C"
      }
    },
    {
      "cell_type": "code",
      "source": [
        "sentence[0:13]"
      ],
      "metadata": {
        "id": "36mlWUzGqitL",
        "outputId": "8530614f-f784-4284-a620-0caf4ecf58f0",
        "colab": {
          "base_uri": "https://localhost:8080/",
          "height": 34
        }
      },
      "execution_count": 91,
      "outputs": [
        {
          "output_type": "execute_result",
          "data": {
            "text/plain": [
              "' Hello Python'"
            ],
            "application/vnd.google.colaboratory.intrinsic+json": {
              "type": "string"
            }
          },
          "metadata": {},
          "execution_count": 91
        }
      ]
    },
    {
      "cell_type": "markdown",
      "source": [
        "strip คือ การลบช่องว่าง หัวท้าย"
      ],
      "metadata": {
        "id": "EWLmNVMXq-Uq"
      }
    },
    {
      "cell_type": "code",
      "source": [
        "sentence.strip()"
      ],
      "metadata": {
        "id": "AqCxMXw_rH4S",
        "outputId": "c0611a97-6738-4353-d904-61c4d37a9ade",
        "colab": {
          "base_uri": "https://localhost:8080/",
          "height": 34
        }
      },
      "execution_count": 92,
      "outputs": [
        {
          "output_type": "execute_result",
          "data": {
            "text/plain": [
              "'Hello Python. I am Ready.'"
            ],
            "application/vnd.google.colaboratory.intrinsic+json": {
              "type": "string"
            }
          },
          "metadata": {},
          "execution_count": 92
        }
      ]
    },
    {
      "cell_type": "code",
      "source": [
        "list_of_words = sentence.strip().split(' ')\n"
      ],
      "metadata": {
        "id": "5yf5GA4crPRU"
      },
      "execution_count": 93,
      "outputs": []
    },
    {
      "cell_type": "code",
      "source": [
        "corgi = ' '.join(list_of_words)\n",
        "corgi"
      ],
      "metadata": {
        "id": "NWvlyCm1rhdK",
        "outputId": "e553a957-204c-407c-accb-b10fbb6ace93",
        "colab": {
          "base_uri": "https://localhost:8080/",
          "height": 34
        }
      },
      "execution_count": 94,
      "outputs": [
        {
          "output_type": "execute_result",
          "data": {
            "text/plain": [
              "'Hello Python. I am Ready.'"
            ],
            "application/vnd.google.colaboratory.intrinsic+json": {
              "type": "string"
            }
          },
          "metadata": {},
          "execution_count": 94
        }
      ]
    },
    {
      "cell_type": "markdown",
      "source": [
        "# #Loop and Condition"
      ],
      "metadata": {
        "id": "DBt-yxl3rHDa"
      }
    },
    {
      "cell_type": "markdown",
      "source": [
        "### For **loop**\n",
        "ในภาษา Python สามารถ for loop ตามสมาชิกแต่ละตัวใน object ที่มีลักษณะเป็น list ได้ โดยการวน loop มีการใช้งานดังนี้"
      ],
      "metadata": {
        "id": "oBZrjEYJrx7b"
      }
    },
    {
      "cell_type": "markdown",
      "source": [
        "for temp_var in list_or_range:\n",
        "    do_something1()\n",
        "    do_something2()"
      ],
      "metadata": {
        "id": "jLUe9mJ9sL-8"
      }
    },
    {
      "cell_type": "markdown",
      "source": [
        "สังเกตว่าบรรทัดหลังจาก for จะมีการ tab (เว้น4วรรค) อยู่ด้านหน้า เพื่อเป็นการจัด scope ของ for loop นั้น"
      ],
      "metadata": {
        "id": "XJkKVhQHsZUr"
      }
    },
    {
      "cell_type": "code",
      "source": [
        "# ทบทวนตัวแปร l ตัวเดิม\n",
        "l"
      ],
      "metadata": {
        "id": "t_z4oQ6oryRT",
        "outputId": "fc0a4680-457f-4000-b183-abb5991a3262",
        "colab": {
          "base_uri": "https://localhost:8080/"
        }
      },
      "execution_count": 95,
      "outputs": [
        {
          "output_type": "execute_result",
          "data": {
            "text/plain": [
              "['Python!', 1, 2, 5]"
            ]
          },
          "metadata": {},
          "execution_count": 95
        }
      ]
    },
    {
      "cell_type": "code",
      "source": [
        "for item in l:\n",
        "  print(item)"
      ],
      "metadata": {
        "id": "18Wrd5UXsrFE",
        "outputId": "613e2be2-d124-4c49-a675-31e125a86934",
        "colab": {
          "base_uri": "https://localhost:8080/"
        }
      },
      "execution_count": 96,
      "outputs": [
        {
          "output_type": "stream",
          "name": "stdout",
          "text": [
            "Python!\n",
            "1\n",
            "2\n",
            "5\n"
          ]
        }
      ]
    },
    {
      "cell_type": "code",
      "source": [
        "for i in range(10):\n",
        "  print(i)"
      ],
      "metadata": {
        "id": "xCYG0sUts2Bk",
        "outputId": "6309d35f-c2c1-410c-b960-548b0219b131",
        "colab": {
          "base_uri": "https://localhost:8080/"
        }
      },
      "execution_count": 97,
      "outputs": [
        {
          "output_type": "stream",
          "name": "stdout",
          "text": [
            "0\n",
            "1\n",
            "2\n",
            "3\n",
            "4\n",
            "5\n",
            "6\n",
            "7\n",
            "8\n",
            "9\n"
          ]
        }
      ]
    },
    {
      "cell_type": "code",
      "source": [
        "t"
      ],
      "metadata": {
        "id": "rVW-9D2itaRM",
        "outputId": "ce3beb8b-e762-46a0-b8ad-7d9aef87474e",
        "colab": {
          "base_uri": "https://localhost:8080/"
        }
      },
      "execution_count": 98,
      "outputs": [
        {
          "output_type": "execute_result",
          "data": {
            "text/plain": [
              "(0, 1, 2, 3, 4)"
            ]
          },
          "metadata": {},
          "execution_count": 98
        }
      ]
    },
    {
      "cell_type": "markdown",
      "source": [
        "## List Comprehension\n",
        "\n",
        "การวน for loop เพื่อที่จะได้ output เป็น list สามารถวนไปในสมาชิกแต่ละตัว ได้ภายใน 1 บรรทัด (แบบย่อ) เทคนี้เรียกว่า list comprehension"
      ],
      "metadata": {
        "id": "sU4H5B2wtcts"
      }
    },
    {
      "cell_type": "code",
      "source": [
        "# List Comprehension\n",
        "list_t = [i for i in t]"
      ],
      "metadata": {
        "id": "9saNjWfptxeU"
      },
      "execution_count": 99,
      "outputs": []
    },
    {
      "cell_type": "markdown",
      "source": [],
      "metadata": {
        "id": "lZRD277ct4mU"
      }
    },
    {
      "cell_type": "code",
      "source": [
        "[i + 1 for i in range(100)]"
      ],
      "metadata": {
        "id": "OPvXndPPt7fb",
        "outputId": "f33a27e4-6e80-48d5-88b7-c442a2fad718",
        "colab": {
          "base_uri": "https://localhost:8080/"
        }
      },
      "execution_count": 100,
      "outputs": [
        {
          "output_type": "execute_result",
          "data": {
            "text/plain": [
              "[1,\n",
              " 2,\n",
              " 3,\n",
              " 4,\n",
              " 5,\n",
              " 6,\n",
              " 7,\n",
              " 8,\n",
              " 9,\n",
              " 10,\n",
              " 11,\n",
              " 12,\n",
              " 13,\n",
              " 14,\n",
              " 15,\n",
              " 16,\n",
              " 17,\n",
              " 18,\n",
              " 19,\n",
              " 20,\n",
              " 21,\n",
              " 22,\n",
              " 23,\n",
              " 24,\n",
              " 25,\n",
              " 26,\n",
              " 27,\n",
              " 28,\n",
              " 29,\n",
              " 30,\n",
              " 31,\n",
              " 32,\n",
              " 33,\n",
              " 34,\n",
              " 35,\n",
              " 36,\n",
              " 37,\n",
              " 38,\n",
              " 39,\n",
              " 40,\n",
              " 41,\n",
              " 42,\n",
              " 43,\n",
              " 44,\n",
              " 45,\n",
              " 46,\n",
              " 47,\n",
              " 48,\n",
              " 49,\n",
              " 50,\n",
              " 51,\n",
              " 52,\n",
              " 53,\n",
              " 54,\n",
              " 55,\n",
              " 56,\n",
              " 57,\n",
              " 58,\n",
              " 59,\n",
              " 60,\n",
              " 61,\n",
              " 62,\n",
              " 63,\n",
              " 64,\n",
              " 65,\n",
              " 66,\n",
              " 67,\n",
              " 68,\n",
              " 69,\n",
              " 70,\n",
              " 71,\n",
              " 72,\n",
              " 73,\n",
              " 74,\n",
              " 75,\n",
              " 76,\n",
              " 77,\n",
              " 78,\n",
              " 79,\n",
              " 80,\n",
              " 81,\n",
              " 82,\n",
              " 83,\n",
              " 84,\n",
              " 85,\n",
              " 86,\n",
              " 87,\n",
              " 88,\n",
              " 89,\n",
              " 90,\n",
              " 91,\n",
              " 92,\n",
              " 93,\n",
              " 94,\n",
              " 95,\n",
              " 96,\n",
              " 97,\n",
              " 98,\n",
              " 99,\n",
              " 100]"
            ]
          },
          "metadata": {},
          "execution_count": 100
        }
      ]
    },
    {
      "cell_type": "markdown",
      "source": [
        "##If condition"
      ],
      "metadata": {
        "id": "C-Y7uPwjuQec"
      }
    },
    {
      "cell_type": "markdown",
      "source": [
        "if condition จะทำตามเงื่อนไขต่อเมื่อเป็นจริงเท่านั้น\n",
        "\n",
        "elif (else if) คือ เงื่อนไขรอง หาก if แรกไม่เป็นจริง มีกี่อันก็ได้\n",
        "\n",
        "ถ้าไม่ตรงกรณีไหนเลยจะทำ else (else if และ else สามารถไม่มีก็ได้)"
      ],
      "metadata": {
        "id": "G6VGoCoqu928"
      }
    },
    {
      "cell_type": "code",
      "source": [
        "if len(t) == 5:\n",
        "  print('length is 5') # ถ้าจริง\n",
        "else:\n",
        "  print('length not equals 5') # ถ้าไม่จริง"
      ],
      "metadata": {
        "id": "CL6yvODPuPbi",
        "outputId": "2aee455b-0aba-4987-faf2-a97a3a0de07d",
        "colab": {
          "base_uri": "https://localhost:8080/"
        }
      },
      "execution_count": 101,
      "outputs": [
        {
          "output_type": "stream",
          "name": "stdout",
          "text": [
            "length is 5\n"
          ]
        }
      ]
    },
    {
      "cell_type": "markdown",
      "source": [
        "'ตัวอย่างโค้ดการตัดเกรด จากตัวแปร score'"
      ],
      "metadata": {
        "id": "ii2XSI-fvodU"
      }
    },
    {
      "cell_type": "code",
      "source": [
        "# ทบทวนตัวแปร grade ตัวเดิม\n",
        "grade"
      ],
      "metadata": {
        "id": "xGqQCM5wv4uk",
        "outputId": "72b33ba4-c8bf-4b57-b72f-74018a09a980",
        "colab": {
          "base_uri": "https://localhost:8080/"
        }
      },
      "execution_count": 102,
      "outputs": [
        {
          "output_type": "execute_result",
          "data": {
            "text/plain": [
              "{'A': 80, 'B': 70, 'C': 60, 'D': 50, 'B+': 75}"
            ]
          },
          "metadata": {},
          "execution_count": 102
        }
      ]
    },
    {
      "cell_type": "markdown",
      "source": [],
      "metadata": {
        "id": "aN1U499IwSwT"
      }
    },
    {
      "cell_type": "code",
      "source": [
        "score = 75\n",
        "if score >= grade[\"A\"] :\n",
        "  print(\"A\")\n",
        "  print(\"Good Job!\")\n",
        "elif score >= grade[\"B+\"]:\n",
        "  print(\"B+\")\n",
        "elif score >= grade[\"B\"] :\n",
        "  print(\"B\")\n",
        "elif score >= grade[\"C\"] :\n",
        "  print(\"C\")\n",
        "elif score >= grade[\"D\"] :\n",
        "  print(\"D\")\n",
        "else:\n",
        "  print(\"F\")"
      ],
      "metadata": {
        "id": "ptT5XltWwjDO",
        "outputId": "f9321c20-a737-44c3-d636-41b824d33b7c",
        "colab": {
          "base_uri": "https://localhost:8080/"
        }
      },
      "execution_count": 103,
      "outputs": [
        {
          "output_type": "stream",
          "name": "stdout",
          "text": [
            "B+\n"
          ]
        }
      ]
    },
    {
      "cell_type": "markdown",
      "source": [
        "## Math\n",
        "เรียนครั้งที่2 (7 ม.ค. 68)"
      ],
      "metadata": {
        "id": "8W4nPXjOb4RS"
      }
    },
    {
      "cell_type": "code",
      "source": [
        "import math\n",
        "\n",
        "math.pi"
      ],
      "metadata": {
        "id": "2QvJM-G9cI55",
        "outputId": "64f6bb2f-9660-4e20-c981-e1c56f9c869a",
        "colab": {
          "base_uri": "https://localhost:8080/"
        }
      },
      "execution_count": 104,
      "outputs": [
        {
          "output_type": "execute_result",
          "data": {
            "text/plain": [
              "3.141592653589793"
            ]
          },
          "metadata": {},
          "execution_count": 104
        }
      ]
    },
    {
      "cell_type": "markdown",
      "source": [
        "## Datetime"
      ],
      "metadata": {
        "id": "gXViv_hluVzY"
      }
    },
    {
      "cell_type": "code",
      "source": [
        "?datetime"
      ],
      "metadata": {
        "id": "Yvtnd3rfc4CR"
      },
      "execution_count": 112,
      "outputs": []
    },
    {
      "cell_type": "code",
      "source": [
        "import datetime\n",
        "\n",
        "now = datetime.datetime.now()\n",
        "now"
      ],
      "metadata": {
        "id": "z8mPO8ULcUfC",
        "outputId": "471e98bb-2c01-4c0a-8ee1-4b6c1114d2ff",
        "colab": {
          "base_uri": "https://localhost:8080/"
        }
      },
      "execution_count": 113,
      "outputs": [
        {
          "output_type": "execute_result",
          "data": {
            "text/plain": [
              "datetime.datetime(2025, 1, 18, 16, 21, 22, 14558)"
            ]
          },
          "metadata": {},
          "execution_count": 113
        }
      ]
    },
    {
      "cell_type": "markdown",
      "source": [
        "isoformat คือ format มาตรฐานที่นิยมใช้ใน timestamp ที่เก็บไว้บน database / data warehouse"
      ],
      "metadata": {
        "id": "E1GNpzLXdARY"
      }
    },
    {
      "cell_type": "code",
      "source": [
        "now.isoformat()"
      ],
      "metadata": {
        "id": "_MYiwX57cb-y",
        "outputId": "b89d9c3a-8d2a-43d1-973a-127fb271639b",
        "colab": {
          "base_uri": "https://localhost:8080/",
          "height": 34
        }
      },
      "execution_count": 114,
      "outputs": [
        {
          "output_type": "execute_result",
          "data": {
            "text/plain": [
              "'2025-01-18T16:21:22.014558'"
            ],
            "application/vnd.google.colaboratory.intrinsic+json": {
              "type": "string"
            }
          },
          "metadata": {},
          "execution_count": 114
        }
      ]
    },
    {
      "cell_type": "markdown",
      "source": [
        "การเรียกดูวันที่ปัจจุบัน"
      ],
      "metadata": {
        "id": "wcBHd0LAdP_3"
      }
    },
    {
      "cell_type": "code",
      "source": [
        "today = datetime.date.today()\n",
        "today"
      ],
      "metadata": {
        "id": "0vgxhnL0cqaS",
        "outputId": "45590f69-13eb-4b80-e879-eb6ac55fb4b3",
        "colab": {
          "base_uri": "https://localhost:8080/"
        }
      },
      "execution_count": 115,
      "outputs": [
        {
          "output_type": "execute_result",
          "data": {
            "text/plain": [
              "datetime.date(2025, 1, 18)"
            ]
          },
          "metadata": {},
          "execution_count": 115
        }
      ]
    },
    {
      "cell_type": "markdown",
      "source": [
        "รูปแบบมาตรฐานของ date ตือ YYYY-mm-dd"
      ],
      "metadata": {
        "id": "e3JqlSEjdrz_"
      }
    },
    {
      "cell_type": "code",
      "source": [
        "today.isoformat()"
      ],
      "metadata": {
        "id": "F9Y7U00CctLn",
        "outputId": "a089448a-dd75-41f1-b90a-359608abc172",
        "colab": {
          "base_uri": "https://localhost:8080/",
          "height": 34
        }
      },
      "execution_count": 116,
      "outputs": [
        {
          "output_type": "execute_result",
          "data": {
            "text/plain": [
              "'2025-01-18'"
            ],
            "application/vnd.google.colaboratory.intrinsic+json": {
              "type": "string"
            }
          },
          "metadata": {},
          "execution_count": 116
        }
      ]
    },
    {
      "cell_type": "markdown",
      "source": [
        "## Simple functions"
      ],
      "metadata": {
        "id": "aUvH0bnCeH_4"
      }
    },
    {
      "cell_type": "code",
      "source": [
        "def circle_area(r):\n",
        "  return pi * r * r\n",
        "\n",
        "circle_area(2)"
      ],
      "metadata": {
        "id": "tF0OzoPccyfJ",
        "outputId": "792ffc1a-1f4b-4388-9a5e-64f2e0286d6b",
        "colab": {
          "base_uri": "https://localhost:8080/",
          "height": 280
        }
      },
      "execution_count": 110,
      "outputs": [
        {
          "output_type": "error",
          "ename": "NameError",
          "evalue": "name 'pi' is not defined",
          "traceback": [
            "\u001b[0;31m---------------------------------------------------------------------------\u001b[0m",
            "\u001b[0;31mNameError\u001b[0m                                 Traceback (most recent call last)",
            "\u001b[0;32m<ipython-input-110-0d8780e31c3b>\u001b[0m in \u001b[0;36m<cell line: 0>\u001b[0;34m()\u001b[0m\n\u001b[1;32m      2\u001b[0m   \u001b[0;32mreturn\u001b[0m \u001b[0mpi\u001b[0m \u001b[0;34m*\u001b[0m \u001b[0mr\u001b[0m \u001b[0;34m*\u001b[0m \u001b[0mr\u001b[0m\u001b[0;34m\u001b[0m\u001b[0;34m\u001b[0m\u001b[0m\n\u001b[1;32m      3\u001b[0m \u001b[0;34m\u001b[0m\u001b[0m\n\u001b[0;32m----> 4\u001b[0;31m \u001b[0mcircle_area\u001b[0m\u001b[0;34m(\u001b[0m\u001b[0;36m2\u001b[0m\u001b[0;34m)\u001b[0m\u001b[0;34m\u001b[0m\u001b[0;34m\u001b[0m\u001b[0m\n\u001b[0m",
            "\u001b[0;32m<ipython-input-110-0d8780e31c3b>\u001b[0m in \u001b[0;36mcircle_area\u001b[0;34m(r)\u001b[0m\n\u001b[1;32m      1\u001b[0m \u001b[0;32mdef\u001b[0m \u001b[0mcircle_area\u001b[0m\u001b[0;34m(\u001b[0m\u001b[0mr\u001b[0m\u001b[0;34m)\u001b[0m\u001b[0;34m:\u001b[0m\u001b[0;34m\u001b[0m\u001b[0;34m\u001b[0m\u001b[0m\n\u001b[0;32m----> 2\u001b[0;31m   \u001b[0;32mreturn\u001b[0m \u001b[0mpi\u001b[0m \u001b[0;34m*\u001b[0m \u001b[0mr\u001b[0m \u001b[0;34m*\u001b[0m \u001b[0mr\u001b[0m\u001b[0;34m\u001b[0m\u001b[0;34m\u001b[0m\u001b[0m\n\u001b[0m\u001b[1;32m      3\u001b[0m \u001b[0;34m\u001b[0m\u001b[0m\n\u001b[1;32m      4\u001b[0m \u001b[0mcircle_area\u001b[0m\u001b[0;34m(\u001b[0m\u001b[0;36m2\u001b[0m\u001b[0;34m)\u001b[0m\u001b[0;34m\u001b[0m\u001b[0;34m\u001b[0m\u001b[0m\n",
            "\u001b[0;31mNameError\u001b[0m: name 'pi' is not defined"
          ]
        }
      ]
    },
    {
      "cell_type": "code",
      "source": [
        "def rectangle_area(h ,w):\n",
        "  return h * w\n",
        "\n",
        "rectangle_area(4,5)"
      ],
      "metadata": {
        "id": "Ou6OLToWfKa4",
        "outputId": "36c45918-69a6-4c83-d506-f345b70dda2f",
        "colab": {
          "base_uri": "https://localhost:8080/"
        }
      },
      "execution_count": 117,
      "outputs": [
        {
          "output_type": "execute_result",
          "data": {
            "text/plain": [
              "20"
            ]
          },
          "metadata": {},
          "execution_count": 117
        }
      ]
    },
    {
      "cell_type": "markdown",
      "source": [
        "สร้างฟังก์ชันเพื่อแปลงค่าเงิน โดย rate  จะมี default parameter อยูที่ 31.33"
      ],
      "metadata": {
        "id": "Dhl1IPMpfgIG"
      }
    },
    {
      "cell_type": "code",
      "source": [
        "def conversion(amount,rate = 31.33):\n",
        "  return amount * rate\n",
        "\n",
        "conversion(30)"
      ],
      "metadata": {
        "id": "WuteeQ8afupP",
        "outputId": "4d137a55-18d8-45a2-bfd2-44e3f9474969",
        "colab": {
          "base_uri": "https://localhost:8080/"
        }
      },
      "execution_count": 118,
      "outputs": [
        {
          "output_type": "execute_result",
          "data": {
            "text/plain": [
              "939.9"
            ]
          },
          "metadata": {},
          "execution_count": 118
        }
      ]
    },
    {
      "cell_type": "markdown",
      "source": [
        "แต่สามารถปรับเปลี่ยนค่า rate ได้เหมือนฟังก์ชันปกติ ถ้าเกิดมีการใส่ rate มา"
      ],
      "metadata": {
        "id": "GAQ0R3XAf71A"
      }
    },
    {
      "cell_type": "code",
      "source": [
        "conversion(30,33.3333)"
      ],
      "metadata": {
        "id": "_H7MXCrcgOSo",
        "outputId": "1cb54de4-b50c-48e0-bcff-9f474bb900e4",
        "colab": {
          "base_uri": "https://localhost:8080/"
        }
      },
      "execution_count": 119,
      "outputs": [
        {
          "output_type": "execute_result",
          "data": {
            "text/plain": [
              "999.999"
            ]
          },
          "metadata": {},
          "execution_count": 119
        }
      ]
    },
    {
      "cell_type": "code",
      "source": [
        "conversion(30)"
      ],
      "metadata": {
        "id": "wuxHq1go80mu",
        "outputId": "518b3d12-435e-465a-9f01-37288ea2e688",
        "colab": {
          "base_uri": "https://localhost:8080/"
        }
      },
      "execution_count": 120,
      "outputs": [
        {
          "output_type": "execute_result",
          "data": {
            "text/plain": [
              "939.9"
            ]
          },
          "metadata": {},
          "execution_count": 120
        }
      ]
    },
    {
      "cell_type": "markdown",
      "source": [
        "### Working with files การทำงานร่วมกับไฟล์"
      ],
      "metadata": {
        "id": "txlAbAdJgeqe"
      }
    },
    {
      "cell_type": "markdown",
      "source": [
        "## Write file การเขียนไฟล์\n",
        "\n",
        "การเขียนไฟล์ จะใช้คำสั่ง open เพื่อเปิดไฟล์ และเขียนไฟล์ลงไป\n",
        "\n",
        "\"w\" ข้างหลัง (write) คือ โหมดของการเปิดไฟล์แบบเขียน ซึ่งจะสร้างไฟล์ใหม่ขึ้นมาเพื่อเขียน"
      ],
      "metadata": {
        "id": "LPeyIdwrgkJv"
      }
    },
    {
      "cell_type": "code",
      "source": [
        "file = open(\"output.csv\",\"w\")\n",
        "file.write(\"date,item,price\\n\")\n",
        "file.write(\"2020-02-07,Milk,26.5\\n\")\n",
        "file.write(\"2020-02-08,Water,7\\n\")\n",
        "file.close()"
      ],
      "metadata": {
        "id": "DoAqaAQIg6dW"
      },
      "execution_count": 121,
      "outputs": []
    },
    {
      "cell_type": "markdown",
      "source": [
        "การวนลูปเขียนไฟล์ จาก list ของ tuple"
      ],
      "metadata": {
        "id": "F2SfIvTbhY7A"
      }
    },
    {
      "cell_type": "code",
      "source": [
        "header = (\"date\" , \"item\" , \"price\")\n",
        "\",\".join(header) + \"\\n\""
      ],
      "metadata": {
        "id": "9LKMbsZGhe9v",
        "outputId": "48db3b57-cf69-4d21-d135-69bb7118012c",
        "colab": {
          "base_uri": "https://localhost:8080/",
          "height": 34
        }
      },
      "execution_count": 122,
      "outputs": [
        {
          "output_type": "execute_result",
          "data": {
            "text/plain": [
              "'date,item,price\\n'"
            ],
            "application/vnd.google.colaboratory.intrinsic+json": {
              "type": "string"
            }
          },
          "metadata": {},
          "execution_count": 122
        }
      ]
    },
    {
      "cell_type": "code",
      "source": [
        "header = (\"date\" , \"item\" , \"price\")\n",
        "content = [\n",
        "    (\"2020-02-07\",\"Milk\",\"26.5\"),\n",
        "    (\"2020-02-08\",\"Water\",\"7\"),\n",
        "    (\"2020-02-08\",\"Mask\",\"20\"),\n",
        "    (\"2020-02-08\",\"Lays\",\"10\"),\n",
        "    (\"2020-02-08\",\"Rice\",\"6\")\n",
        "]\n",
        "\n",
        "file = open('products.csv', 'w')\n",
        "file.write(\",\".join(header) + \"\\n\")\n",
        "\n",
        "for row in content:\n",
        "  file.write(\",\".join(row) + \"\\n\")\n",
        "\n",
        "file.close()"
      ],
      "metadata": {
        "id": "rAM0KVf_hvUP"
      },
      "execution_count": 123,
      "outputs": []
    },
    {
      "cell_type": "markdown",
      "source": [
        "## Read file อ่านไฟล์\n",
        "\n",
        "จะคล้ายคลึงกับการเขียนไฟล์ที่ต้อง open file เช่นกัน แตกต่างกันที่ mode จะ"
      ],
      "metadata": {
        "id": "8Y1PQj6ZlDqX"
      }
    },
    {
      "cell_type": "code",
      "source": [
        "with open('products.csv', 'r') as file:\n",
        "  product = file.readlines()\n",
        "\n",
        "product"
      ],
      "metadata": {
        "id": "5Mar-cculXYv",
        "outputId": "fc4f93bb-af67-4a85-ca42-c621ac365df3",
        "colab": {
          "base_uri": "https://localhost:8080/"
        }
      },
      "execution_count": 124,
      "outputs": [
        {
          "output_type": "execute_result",
          "data": {
            "text/plain": [
              "['date,item,price\\n',\n",
              " '2020-02-07,Milk,26.5\\n',\n",
              " '2020-02-08,Water,7\\n',\n",
              " '2020-02-08,Mask,20\\n',\n",
              " '2020-02-08,Lays,10\\n',\n",
              " '2020-02-08,Rice,6\\n']"
            ]
          },
          "metadata": {},
          "execution_count": 124
        }
      ]
    },
    {
      "cell_type": "code",
      "source": [
        "#เช็คจำนวนแถวของ product\n",
        "len(product)"
      ],
      "metadata": {
        "id": "l9Z4668rlky3",
        "outputId": "4fe51a83-ca76-42ac-e28e-c53ff3f06273",
        "colab": {
          "base_uri": "https://localhost:8080/"
        }
      },
      "execution_count": 126,
      "outputs": [
        {
          "output_type": "execute_result",
          "data": {
            "text/plain": [
              "6"
            ]
          },
          "metadata": {},
          "execution_count": 126
        }
      ]
    },
    {
      "cell_type": "markdown",
      "source": [],
      "metadata": {
        "id": "JwHJQslPmquw"
      }
    },
    {
      "cell_type": "markdown",
      "source": [
        "##Use Pandas to Read/Write file\n",
        "\n",
        "\n",
        "\n",
        "\n"
      ],
      "metadata": {
        "id": "dJvtG6zymg4H"
      }
    },
    {
      "cell_type": "markdown",
      "source": [
        "การอ่านไฟล์ CSV ด้วย Pandas (3rd party package) สำหรับการอ่านและประมวลผลไฟล์\n",
        "\n",
        "ตาราง DataFrame\n",
        "\n",
        "Pandas เป็นที่นิยมใช้ในสาย data มาก เพราะสามารถช่วยให้วิเคราะห์และใช้งาน data ที่เป็น table ใน Python ได้ง่ายขึ้น\n",
        "\n",
        "เนื่องจากเป็น package ที่ python ไม่มี จึงต่อ import ก่อนด้วย\n",
        "\n",
        "  import pandas pd\n",
        "\n",
        "(Google Colab ได้ install pandas ไว้อัตโนมัติอยู่แล้ว เพราะเป็น package ยอดนิยม)"
      ],
      "metadata": {
        "id": "WlC9wiEzmrpf"
      }
    },
    {
      "cell_type": "code",
      "source": [
        "import pandas as pd\n",
        "\n",
        "df = pd.read_csv(\"sample_data/california_housing_test.csv\") #ดู path ไฟล์ #df คือตัวแปร\n",
        "df"
      ],
      "metadata": {
        "id": "BGbTdWU2mXMB",
        "outputId": "5e5ec642-1520-465b-c74a-eeec2433ef7d",
        "colab": {
          "base_uri": "https://localhost:8080/",
          "height": 444
        }
      },
      "execution_count": 127,
      "outputs": [
        {
          "output_type": "execute_result",
          "data": {
            "text/plain": [
              "      longitude  latitude  housing_median_age  total_rooms  total_bedrooms  \\\n",
              "0       -122.05     37.37                27.0       3885.0           661.0   \n",
              "1       -118.30     34.26                43.0       1510.0           310.0   \n",
              "2       -117.81     33.78                27.0       3589.0           507.0   \n",
              "3       -118.36     33.82                28.0         67.0            15.0   \n",
              "4       -119.67     36.33                19.0       1241.0           244.0   \n",
              "...         ...       ...                 ...          ...             ...   \n",
              "2995    -119.86     34.42                23.0       1450.0           642.0   \n",
              "2996    -118.14     34.06                27.0       5257.0          1082.0   \n",
              "2997    -119.70     36.30                10.0        956.0           201.0   \n",
              "2998    -117.12     34.10                40.0         96.0            14.0   \n",
              "2999    -119.63     34.42                42.0       1765.0           263.0   \n",
              "\n",
              "      population  households  median_income  median_house_value  \n",
              "0         1537.0       606.0         6.6085            344700.0  \n",
              "1          809.0       277.0         3.5990            176500.0  \n",
              "2         1484.0       495.0         5.7934            270500.0  \n",
              "3           49.0        11.0         6.1359            330000.0  \n",
              "4          850.0       237.0         2.9375             81700.0  \n",
              "...          ...         ...            ...                 ...  \n",
              "2995      1258.0       607.0         1.1790            225000.0  \n",
              "2996      3496.0      1036.0         3.3906            237200.0  \n",
              "2997       693.0       220.0         2.2895             62000.0  \n",
              "2998        46.0        14.0         3.2708            162500.0  \n",
              "2999       753.0       260.0         8.5608            500001.0  \n",
              "\n",
              "[3000 rows x 9 columns]"
            ],
            "text/html": [
              "\n",
              "  <div id=\"df-5dd7294a-8992-477d-a61c-e2bc548d6d7b\" class=\"colab-df-container\">\n",
              "    <div>\n",
              "<style scoped>\n",
              "    .dataframe tbody tr th:only-of-type {\n",
              "        vertical-align: middle;\n",
              "    }\n",
              "\n",
              "    .dataframe tbody tr th {\n",
              "        vertical-align: top;\n",
              "    }\n",
              "\n",
              "    .dataframe thead th {\n",
              "        text-align: right;\n",
              "    }\n",
              "</style>\n",
              "<table border=\"1\" class=\"dataframe\">\n",
              "  <thead>\n",
              "    <tr style=\"text-align: right;\">\n",
              "      <th></th>\n",
              "      <th>longitude</th>\n",
              "      <th>latitude</th>\n",
              "      <th>housing_median_age</th>\n",
              "      <th>total_rooms</th>\n",
              "      <th>total_bedrooms</th>\n",
              "      <th>population</th>\n",
              "      <th>households</th>\n",
              "      <th>median_income</th>\n",
              "      <th>median_house_value</th>\n",
              "    </tr>\n",
              "  </thead>\n",
              "  <tbody>\n",
              "    <tr>\n",
              "      <th>0</th>\n",
              "      <td>-122.05</td>\n",
              "      <td>37.37</td>\n",
              "      <td>27.0</td>\n",
              "      <td>3885.0</td>\n",
              "      <td>661.0</td>\n",
              "      <td>1537.0</td>\n",
              "      <td>606.0</td>\n",
              "      <td>6.6085</td>\n",
              "      <td>344700.0</td>\n",
              "    </tr>\n",
              "    <tr>\n",
              "      <th>1</th>\n",
              "      <td>-118.30</td>\n",
              "      <td>34.26</td>\n",
              "      <td>43.0</td>\n",
              "      <td>1510.0</td>\n",
              "      <td>310.0</td>\n",
              "      <td>809.0</td>\n",
              "      <td>277.0</td>\n",
              "      <td>3.5990</td>\n",
              "      <td>176500.0</td>\n",
              "    </tr>\n",
              "    <tr>\n",
              "      <th>2</th>\n",
              "      <td>-117.81</td>\n",
              "      <td>33.78</td>\n",
              "      <td>27.0</td>\n",
              "      <td>3589.0</td>\n",
              "      <td>507.0</td>\n",
              "      <td>1484.0</td>\n",
              "      <td>495.0</td>\n",
              "      <td>5.7934</td>\n",
              "      <td>270500.0</td>\n",
              "    </tr>\n",
              "    <tr>\n",
              "      <th>3</th>\n",
              "      <td>-118.36</td>\n",
              "      <td>33.82</td>\n",
              "      <td>28.0</td>\n",
              "      <td>67.0</td>\n",
              "      <td>15.0</td>\n",
              "      <td>49.0</td>\n",
              "      <td>11.0</td>\n",
              "      <td>6.1359</td>\n",
              "      <td>330000.0</td>\n",
              "    </tr>\n",
              "    <tr>\n",
              "      <th>4</th>\n",
              "      <td>-119.67</td>\n",
              "      <td>36.33</td>\n",
              "      <td>19.0</td>\n",
              "      <td>1241.0</td>\n",
              "      <td>244.0</td>\n",
              "      <td>850.0</td>\n",
              "      <td>237.0</td>\n",
              "      <td>2.9375</td>\n",
              "      <td>81700.0</td>\n",
              "    </tr>\n",
              "    <tr>\n",
              "      <th>...</th>\n",
              "      <td>...</td>\n",
              "      <td>...</td>\n",
              "      <td>...</td>\n",
              "      <td>...</td>\n",
              "      <td>...</td>\n",
              "      <td>...</td>\n",
              "      <td>...</td>\n",
              "      <td>...</td>\n",
              "      <td>...</td>\n",
              "    </tr>\n",
              "    <tr>\n",
              "      <th>2995</th>\n",
              "      <td>-119.86</td>\n",
              "      <td>34.42</td>\n",
              "      <td>23.0</td>\n",
              "      <td>1450.0</td>\n",
              "      <td>642.0</td>\n",
              "      <td>1258.0</td>\n",
              "      <td>607.0</td>\n",
              "      <td>1.1790</td>\n",
              "      <td>225000.0</td>\n",
              "    </tr>\n",
              "    <tr>\n",
              "      <th>2996</th>\n",
              "      <td>-118.14</td>\n",
              "      <td>34.06</td>\n",
              "      <td>27.0</td>\n",
              "      <td>5257.0</td>\n",
              "      <td>1082.0</td>\n",
              "      <td>3496.0</td>\n",
              "      <td>1036.0</td>\n",
              "      <td>3.3906</td>\n",
              "      <td>237200.0</td>\n",
              "    </tr>\n",
              "    <tr>\n",
              "      <th>2997</th>\n",
              "      <td>-119.70</td>\n",
              "      <td>36.30</td>\n",
              "      <td>10.0</td>\n",
              "      <td>956.0</td>\n",
              "      <td>201.0</td>\n",
              "      <td>693.0</td>\n",
              "      <td>220.0</td>\n",
              "      <td>2.2895</td>\n",
              "      <td>62000.0</td>\n",
              "    </tr>\n",
              "    <tr>\n",
              "      <th>2998</th>\n",
              "      <td>-117.12</td>\n",
              "      <td>34.10</td>\n",
              "      <td>40.0</td>\n",
              "      <td>96.0</td>\n",
              "      <td>14.0</td>\n",
              "      <td>46.0</td>\n",
              "      <td>14.0</td>\n",
              "      <td>3.2708</td>\n",
              "      <td>162500.0</td>\n",
              "    </tr>\n",
              "    <tr>\n",
              "      <th>2999</th>\n",
              "      <td>-119.63</td>\n",
              "      <td>34.42</td>\n",
              "      <td>42.0</td>\n",
              "      <td>1765.0</td>\n",
              "      <td>263.0</td>\n",
              "      <td>753.0</td>\n",
              "      <td>260.0</td>\n",
              "      <td>8.5608</td>\n",
              "      <td>500001.0</td>\n",
              "    </tr>\n",
              "  </tbody>\n",
              "</table>\n",
              "<p>3000 rows × 9 columns</p>\n",
              "</div>\n",
              "    <div class=\"colab-df-buttons\">\n",
              "\n",
              "  <div class=\"colab-df-container\">\n",
              "    <button class=\"colab-df-convert\" onclick=\"convertToInteractive('df-5dd7294a-8992-477d-a61c-e2bc548d6d7b')\"\n",
              "            title=\"Convert this dataframe to an interactive table.\"\n",
              "            style=\"display:none;\">\n",
              "\n",
              "  <svg xmlns=\"http://www.w3.org/2000/svg\" height=\"24px\" viewBox=\"0 -960 960 960\">\n",
              "    <path d=\"M120-120v-720h720v720H120Zm60-500h600v-160H180v160Zm220 220h160v-160H400v160Zm0 220h160v-160H400v160ZM180-400h160v-160H180v160Zm440 0h160v-160H620v160ZM180-180h160v-160H180v160Zm440 0h160v-160H620v160Z\"/>\n",
              "  </svg>\n",
              "    </button>\n",
              "\n",
              "  <style>\n",
              "    .colab-df-container {\n",
              "      display:flex;\n",
              "      gap: 12px;\n",
              "    }\n",
              "\n",
              "    .colab-df-convert {\n",
              "      background-color: #E8F0FE;\n",
              "      border: none;\n",
              "      border-radius: 50%;\n",
              "      cursor: pointer;\n",
              "      display: none;\n",
              "      fill: #1967D2;\n",
              "      height: 32px;\n",
              "      padding: 0 0 0 0;\n",
              "      width: 32px;\n",
              "    }\n",
              "\n",
              "    .colab-df-convert:hover {\n",
              "      background-color: #E2EBFA;\n",
              "      box-shadow: 0px 1px 2px rgba(60, 64, 67, 0.3), 0px 1px 3px 1px rgba(60, 64, 67, 0.15);\n",
              "      fill: #174EA6;\n",
              "    }\n",
              "\n",
              "    .colab-df-buttons div {\n",
              "      margin-bottom: 4px;\n",
              "    }\n",
              "\n",
              "    [theme=dark] .colab-df-convert {\n",
              "      background-color: #3B4455;\n",
              "      fill: #D2E3FC;\n",
              "    }\n",
              "\n",
              "    [theme=dark] .colab-df-convert:hover {\n",
              "      background-color: #434B5C;\n",
              "      box-shadow: 0px 1px 3px 1px rgba(0, 0, 0, 0.15);\n",
              "      filter: drop-shadow(0px 1px 2px rgba(0, 0, 0, 0.3));\n",
              "      fill: #FFFFFF;\n",
              "    }\n",
              "  </style>\n",
              "\n",
              "    <script>\n",
              "      const buttonEl =\n",
              "        document.querySelector('#df-5dd7294a-8992-477d-a61c-e2bc548d6d7b button.colab-df-convert');\n",
              "      buttonEl.style.display =\n",
              "        google.colab.kernel.accessAllowed ? 'block' : 'none';\n",
              "\n",
              "      async function convertToInteractive(key) {\n",
              "        const element = document.querySelector('#df-5dd7294a-8992-477d-a61c-e2bc548d6d7b');\n",
              "        const dataTable =\n",
              "          await google.colab.kernel.invokeFunction('convertToInteractive',\n",
              "                                                    [key], {});\n",
              "        if (!dataTable) return;\n",
              "\n",
              "        const docLinkHtml = 'Like what you see? Visit the ' +\n",
              "          '<a target=\"_blank\" href=https://colab.research.google.com/notebooks/data_table.ipynb>data table notebook</a>'\n",
              "          + ' to learn more about interactive tables.';\n",
              "        element.innerHTML = '';\n",
              "        dataTable['output_type'] = 'display_data';\n",
              "        await google.colab.output.renderOutput(dataTable, element);\n",
              "        const docLink = document.createElement('div');\n",
              "        docLink.innerHTML = docLinkHtml;\n",
              "        element.appendChild(docLink);\n",
              "      }\n",
              "    </script>\n",
              "  </div>\n",
              "\n",
              "\n",
              "<div id=\"df-8dcd459c-c637-4051-891d-5cd855a686c5\">\n",
              "  <button class=\"colab-df-quickchart\" onclick=\"quickchart('df-8dcd459c-c637-4051-891d-5cd855a686c5')\"\n",
              "            title=\"Suggest charts\"\n",
              "            style=\"display:none;\">\n",
              "\n",
              "<svg xmlns=\"http://www.w3.org/2000/svg\" height=\"24px\"viewBox=\"0 0 24 24\"\n",
              "     width=\"24px\">\n",
              "    <g>\n",
              "        <path d=\"M19 3H5c-1.1 0-2 .9-2 2v14c0 1.1.9 2 2 2h14c1.1 0 2-.9 2-2V5c0-1.1-.9-2-2-2zM9 17H7v-7h2v7zm4 0h-2V7h2v10zm4 0h-2v-4h2v4z\"/>\n",
              "    </g>\n",
              "</svg>\n",
              "  </button>\n",
              "\n",
              "<style>\n",
              "  .colab-df-quickchart {\n",
              "      --bg-color: #E8F0FE;\n",
              "      --fill-color: #1967D2;\n",
              "      --hover-bg-color: #E2EBFA;\n",
              "      --hover-fill-color: #174EA6;\n",
              "      --disabled-fill-color: #AAA;\n",
              "      --disabled-bg-color: #DDD;\n",
              "  }\n",
              "\n",
              "  [theme=dark] .colab-df-quickchart {\n",
              "      --bg-color: #3B4455;\n",
              "      --fill-color: #D2E3FC;\n",
              "      --hover-bg-color: #434B5C;\n",
              "      --hover-fill-color: #FFFFFF;\n",
              "      --disabled-bg-color: #3B4455;\n",
              "      --disabled-fill-color: #666;\n",
              "  }\n",
              "\n",
              "  .colab-df-quickchart {\n",
              "    background-color: var(--bg-color);\n",
              "    border: none;\n",
              "    border-radius: 50%;\n",
              "    cursor: pointer;\n",
              "    display: none;\n",
              "    fill: var(--fill-color);\n",
              "    height: 32px;\n",
              "    padding: 0;\n",
              "    width: 32px;\n",
              "  }\n",
              "\n",
              "  .colab-df-quickchart:hover {\n",
              "    background-color: var(--hover-bg-color);\n",
              "    box-shadow: 0 1px 2px rgba(60, 64, 67, 0.3), 0 1px 3px 1px rgba(60, 64, 67, 0.15);\n",
              "    fill: var(--button-hover-fill-color);\n",
              "  }\n",
              "\n",
              "  .colab-df-quickchart-complete:disabled,\n",
              "  .colab-df-quickchart-complete:disabled:hover {\n",
              "    background-color: var(--disabled-bg-color);\n",
              "    fill: var(--disabled-fill-color);\n",
              "    box-shadow: none;\n",
              "  }\n",
              "\n",
              "  .colab-df-spinner {\n",
              "    border: 2px solid var(--fill-color);\n",
              "    border-color: transparent;\n",
              "    border-bottom-color: var(--fill-color);\n",
              "    animation:\n",
              "      spin 1s steps(1) infinite;\n",
              "  }\n",
              "\n",
              "  @keyframes spin {\n",
              "    0% {\n",
              "      border-color: transparent;\n",
              "      border-bottom-color: var(--fill-color);\n",
              "      border-left-color: var(--fill-color);\n",
              "    }\n",
              "    20% {\n",
              "      border-color: transparent;\n",
              "      border-left-color: var(--fill-color);\n",
              "      border-top-color: var(--fill-color);\n",
              "    }\n",
              "    30% {\n",
              "      border-color: transparent;\n",
              "      border-left-color: var(--fill-color);\n",
              "      border-top-color: var(--fill-color);\n",
              "      border-right-color: var(--fill-color);\n",
              "    }\n",
              "    40% {\n",
              "      border-color: transparent;\n",
              "      border-right-color: var(--fill-color);\n",
              "      border-top-color: var(--fill-color);\n",
              "    }\n",
              "    60% {\n",
              "      border-color: transparent;\n",
              "      border-right-color: var(--fill-color);\n",
              "    }\n",
              "    80% {\n",
              "      border-color: transparent;\n",
              "      border-right-color: var(--fill-color);\n",
              "      border-bottom-color: var(--fill-color);\n",
              "    }\n",
              "    90% {\n",
              "      border-color: transparent;\n",
              "      border-bottom-color: var(--fill-color);\n",
              "    }\n",
              "  }\n",
              "</style>\n",
              "\n",
              "  <script>\n",
              "    async function quickchart(key) {\n",
              "      const quickchartButtonEl =\n",
              "        document.querySelector('#' + key + ' button');\n",
              "      quickchartButtonEl.disabled = true;  // To prevent multiple clicks.\n",
              "      quickchartButtonEl.classList.add('colab-df-spinner');\n",
              "      try {\n",
              "        const charts = await google.colab.kernel.invokeFunction(\n",
              "            'suggestCharts', [key], {});\n",
              "      } catch (error) {\n",
              "        console.error('Error during call to suggestCharts:', error);\n",
              "      }\n",
              "      quickchartButtonEl.classList.remove('colab-df-spinner');\n",
              "      quickchartButtonEl.classList.add('colab-df-quickchart-complete');\n",
              "    }\n",
              "    (() => {\n",
              "      let quickchartButtonEl =\n",
              "        document.querySelector('#df-8dcd459c-c637-4051-891d-5cd855a686c5 button');\n",
              "      quickchartButtonEl.style.display =\n",
              "        google.colab.kernel.accessAllowed ? 'block' : 'none';\n",
              "    })();\n",
              "  </script>\n",
              "</div>\n",
              "\n",
              "  <div id=\"id_747d6572-608c-4b82-94fc-bb414443b2ff\">\n",
              "    <style>\n",
              "      .colab-df-generate {\n",
              "        background-color: #E8F0FE;\n",
              "        border: none;\n",
              "        border-radius: 50%;\n",
              "        cursor: pointer;\n",
              "        display: none;\n",
              "        fill: #1967D2;\n",
              "        height: 32px;\n",
              "        padding: 0 0 0 0;\n",
              "        width: 32px;\n",
              "      }\n",
              "\n",
              "      .colab-df-generate:hover {\n",
              "        background-color: #E2EBFA;\n",
              "        box-shadow: 0px 1px 2px rgba(60, 64, 67, 0.3), 0px 1px 3px 1px rgba(60, 64, 67, 0.15);\n",
              "        fill: #174EA6;\n",
              "      }\n",
              "\n",
              "      [theme=dark] .colab-df-generate {\n",
              "        background-color: #3B4455;\n",
              "        fill: #D2E3FC;\n",
              "      }\n",
              "\n",
              "      [theme=dark] .colab-df-generate:hover {\n",
              "        background-color: #434B5C;\n",
              "        box-shadow: 0px 1px 3px 1px rgba(0, 0, 0, 0.15);\n",
              "        filter: drop-shadow(0px 1px 2px rgba(0, 0, 0, 0.3));\n",
              "        fill: #FFFFFF;\n",
              "      }\n",
              "    </style>\n",
              "    <button class=\"colab-df-generate\" onclick=\"generateWithVariable('df')\"\n",
              "            title=\"Generate code using this dataframe.\"\n",
              "            style=\"display:none;\">\n",
              "\n",
              "  <svg xmlns=\"http://www.w3.org/2000/svg\" height=\"24px\"viewBox=\"0 0 24 24\"\n",
              "       width=\"24px\">\n",
              "    <path d=\"M7,19H8.4L18.45,9,17,7.55,7,17.6ZM5,21V16.75L18.45,3.32a2,2,0,0,1,2.83,0l1.4,1.43a1.91,1.91,0,0,1,.58,1.4,1.91,1.91,0,0,1-.58,1.4L9.25,21ZM18.45,9,17,7.55Zm-12,3A5.31,5.31,0,0,0,4.9,8.1,5.31,5.31,0,0,0,1,6.5,5.31,5.31,0,0,0,4.9,4.9,5.31,5.31,0,0,0,6.5,1,5.31,5.31,0,0,0,8.1,4.9,5.31,5.31,0,0,0,12,6.5,5.46,5.46,0,0,0,6.5,12Z\"/>\n",
              "  </svg>\n",
              "    </button>\n",
              "    <script>\n",
              "      (() => {\n",
              "      const buttonEl =\n",
              "        document.querySelector('#id_747d6572-608c-4b82-94fc-bb414443b2ff button.colab-df-generate');\n",
              "      buttonEl.style.display =\n",
              "        google.colab.kernel.accessAllowed ? 'block' : 'none';\n",
              "\n",
              "      buttonEl.onclick = () => {\n",
              "        google.colab.notebook.generateWithVariable('df');\n",
              "      }\n",
              "      })();\n",
              "    </script>\n",
              "  </div>\n",
              "\n",
              "    </div>\n",
              "  </div>\n"
            ],
            "application/vnd.google.colaboratory.intrinsic+json": {
              "type": "dataframe",
              "variable_name": "df",
              "summary": "{\n  \"name\": \"df\",\n  \"rows\": 3000,\n  \"fields\": [\n    {\n      \"column\": \"longitude\",\n      \"properties\": {\n        \"dtype\": \"number\",\n        \"std\": 1.9949362939550161,\n        \"min\": -124.18,\n        \"max\": -114.49,\n        \"num_unique_values\": 607,\n        \"samples\": [\n          -121.15,\n          -121.46,\n          -121.02\n        ],\n        \"semantic_type\": \"\",\n        \"description\": \"\"\n      }\n    },\n    {\n      \"column\": \"latitude\",\n      \"properties\": {\n        \"dtype\": \"number\",\n        \"std\": 2.1296695233438325,\n        \"min\": 32.56,\n        \"max\": 41.92,\n        \"num_unique_values\": 587,\n        \"samples\": [\n          40.17,\n          33.69,\n          39.61\n        ],\n        \"semantic_type\": \"\",\n        \"description\": \"\"\n      }\n    },\n    {\n      \"column\": \"housing_median_age\",\n      \"properties\": {\n        \"dtype\": \"number\",\n        \"std\": 12.555395554955755,\n        \"min\": 1.0,\n        \"max\": 52.0,\n        \"num_unique_values\": 52,\n        \"samples\": [\n          14.0,\n          49.0,\n          7.0\n        ],\n        \"semantic_type\": \"\",\n        \"description\": \"\"\n      }\n    },\n    {\n      \"column\": \"total_rooms\",\n      \"properties\": {\n        \"dtype\": \"number\",\n        \"std\": 2155.59333162558,\n        \"min\": 6.0,\n        \"max\": 30450.0,\n        \"num_unique_values\": 2215,\n        \"samples\": [\n          1961.0,\n          1807.0,\n          680.0\n        ],\n        \"semantic_type\": \"\",\n        \"description\": \"\"\n      }\n    },\n    {\n      \"column\": \"total_bedrooms\",\n      \"properties\": {\n        \"dtype\": \"number\",\n        \"std\": 415.6543681363232,\n        \"min\": 2.0,\n        \"max\": 5419.0,\n        \"num_unique_values\": 1055,\n        \"samples\": [\n          532.0,\n          764.0,\n          2162.0\n        ],\n        \"semantic_type\": \"\",\n        \"description\": \"\"\n      }\n    },\n    {\n      \"column\": \"population\",\n      \"properties\": {\n        \"dtype\": \"number\",\n        \"std\": 1030.5430124122422,\n        \"min\": 5.0,\n        \"max\": 11935.0,\n        \"num_unique_values\": 1802,\n        \"samples\": [\n          947.0,\n          1140.0,\n          2019.0\n        ],\n        \"semantic_type\": \"\",\n        \"description\": \"\"\n      }\n    },\n    {\n      \"column\": \"households\",\n      \"properties\": {\n        \"dtype\": \"number\",\n        \"std\": 365.42270980552604,\n        \"min\": 2.0,\n        \"max\": 4930.0,\n        \"num_unique_values\": 1026,\n        \"samples\": [\n          646.0,\n          629.0,\n          504.0\n        ],\n        \"semantic_type\": \"\",\n        \"description\": \"\"\n      }\n    },\n    {\n      \"column\": \"median_income\",\n      \"properties\": {\n        \"dtype\": \"number\",\n        \"std\": 1.854511729691481,\n        \"min\": 0.4999,\n        \"max\": 15.0001,\n        \"num_unique_values\": 2578,\n        \"samples\": [\n          1.725,\n          0.7403,\n          2.6964\n        ],\n        \"semantic_type\": \"\",\n        \"description\": \"\"\n      }\n    },\n    {\n      \"column\": \"median_house_value\",\n      \"properties\": {\n        \"dtype\": \"number\",\n        \"std\": 113119.68746964433,\n        \"min\": 22500.0,\n        \"max\": 500001.0,\n        \"num_unique_values\": 1784,\n        \"samples\": [\n          71900.0,\n          63000.0,\n          115800.0\n        ],\n        \"semantic_type\": \"\",\n        \"description\": \"\"\n      }\n    }\n  ]\n}"
            }
          },
          "metadata": {},
          "execution_count": 127
        }
      ]
    },
    {
      "cell_type": "code",
      "source": [
        "#เช็ค type ของ df\n",
        "#df คือตัวแปร\n",
        "type(df)"
      ],
      "metadata": {
        "id": "FPz7QtV6oHO6",
        "outputId": "156346c1-1bc5-4e5f-b920-8b1def840bfd",
        "colab": {
          "base_uri": "https://localhost:8080/",
          "height": 204
        }
      },
      "execution_count": 128,
      "outputs": [
        {
          "output_type": "execute_result",
          "data": {
            "text/plain": [
              "pandas.core.frame.DataFrame"
            ],
            "text/html": [
              "<div style=\"max-width:800px; border: 1px solid var(--colab-border-color);\"><style>\n",
              "      pre.function-repr-contents {\n",
              "        overflow-x: auto;\n",
              "        padding: 8px 12px;\n",
              "        max-height: 500px;\n",
              "      }\n",
              "\n",
              "      pre.function-repr-contents.function-repr-contents-collapsed {\n",
              "        cursor: pointer;\n",
              "        max-height: 100px;\n",
              "      }\n",
              "    </style>\n",
              "    <pre style=\"white-space: initial; background:\n",
              "         var(--colab-secondary-surface-color); padding: 8px 12px;\n",
              "         border-bottom: 1px solid var(--colab-border-color);\"><b>pandas.core.frame.DataFrame</b><br/>def __init__(data=None, index: Axes | None=None, columns: Axes | None=None, dtype: Dtype | None=None, copy: bool | None=None) -&gt; None</pre><pre class=\"function-repr-contents function-repr-contents-collapsed\" style=\"\"><a class=\"filepath\" style=\"display:none\" href=\"#\">/usr/local/lib/python3.11/dist-packages/pandas/core/frame.py</a>Two-dimensional, size-mutable, potentially heterogeneous tabular data.\n",
              "\n",
              "Data structure also contains labeled axes (rows and columns).\n",
              "Arithmetic operations align on both row and column labels. Can be\n",
              "thought of as a dict-like container for Series objects. The primary\n",
              "pandas data structure.\n",
              "\n",
              "Parameters\n",
              "----------\n",
              "data : ndarray (structured or homogeneous), Iterable, dict, or DataFrame\n",
              "    Dict can contain Series, arrays, constants, dataclass or list-like objects. If\n",
              "    data is a dict, column order follows insertion-order. If a dict contains Series\n",
              "    which have an index defined, it is aligned by its index. This alignment also\n",
              "    occurs if data is a Series or a DataFrame itself. Alignment is done on\n",
              "    Series/DataFrame inputs.\n",
              "\n",
              "    If data is a list of dicts, column order follows insertion-order.\n",
              "\n",
              "index : Index or array-like\n",
              "    Index to use for resulting frame. Will default to RangeIndex if\n",
              "    no indexing information part of input data and no index provided.\n",
              "columns : Index or array-like\n",
              "    Column labels to use for resulting frame when data does not have them,\n",
              "    defaulting to RangeIndex(0, 1, 2, ..., n). If data contains column labels,\n",
              "    will perform column selection instead.\n",
              "dtype : dtype, default None\n",
              "    Data type to force. Only a single dtype is allowed. If None, infer.\n",
              "copy : bool or None, default None\n",
              "    Copy data from inputs.\n",
              "    For dict data, the default of None behaves like ``copy=True``.  For DataFrame\n",
              "    or 2d ndarray input, the default of None behaves like ``copy=False``.\n",
              "    If data is a dict containing one or more Series (possibly of different dtypes),\n",
              "    ``copy=False`` will ensure that these inputs are not copied.\n",
              "\n",
              "    .. versionchanged:: 1.3.0\n",
              "\n",
              "See Also\n",
              "--------\n",
              "DataFrame.from_records : Constructor from tuples, also record arrays.\n",
              "DataFrame.from_dict : From dicts of Series, arrays, or dicts.\n",
              "read_csv : Read a comma-separated values (csv) file into DataFrame.\n",
              "read_table : Read general delimited file into DataFrame.\n",
              "read_clipboard : Read text from clipboard into DataFrame.\n",
              "\n",
              "Notes\n",
              "-----\n",
              "Please reference the :ref:`User Guide &lt;basics.dataframe&gt;` for more information.\n",
              "\n",
              "Examples\n",
              "--------\n",
              "Constructing DataFrame from a dictionary.\n",
              "\n",
              "&gt;&gt;&gt; d = {&#x27;col1&#x27;: [1, 2], &#x27;col2&#x27;: [3, 4]}\n",
              "&gt;&gt;&gt; df = pd.DataFrame(data=d)\n",
              "&gt;&gt;&gt; df\n",
              "   col1  col2\n",
              "0     1     3\n",
              "1     2     4\n",
              "\n",
              "Notice that the inferred dtype is int64.\n",
              "\n",
              "&gt;&gt;&gt; df.dtypes\n",
              "col1    int64\n",
              "col2    int64\n",
              "dtype: object\n",
              "\n",
              "To enforce a single dtype:\n",
              "\n",
              "&gt;&gt;&gt; df = pd.DataFrame(data=d, dtype=np.int8)\n",
              "&gt;&gt;&gt; df.dtypes\n",
              "col1    int8\n",
              "col2    int8\n",
              "dtype: object\n",
              "\n",
              "Constructing DataFrame from a dictionary including Series:\n",
              "\n",
              "&gt;&gt;&gt; d = {&#x27;col1&#x27;: [0, 1, 2, 3], &#x27;col2&#x27;: pd.Series([2, 3], index=[2, 3])}\n",
              "&gt;&gt;&gt; pd.DataFrame(data=d, index=[0, 1, 2, 3])\n",
              "   col1  col2\n",
              "0     0   NaN\n",
              "1     1   NaN\n",
              "2     2   2.0\n",
              "3     3   3.0\n",
              "\n",
              "Constructing DataFrame from numpy ndarray:\n",
              "\n",
              "&gt;&gt;&gt; df2 = pd.DataFrame(np.array([[1, 2, 3], [4, 5, 6], [7, 8, 9]]),\n",
              "...                    columns=[&#x27;a&#x27;, &#x27;b&#x27;, &#x27;c&#x27;])\n",
              "&gt;&gt;&gt; df2\n",
              "   a  b  c\n",
              "0  1  2  3\n",
              "1  4  5  6\n",
              "2  7  8  9\n",
              "\n",
              "Constructing DataFrame from a numpy ndarray that has labeled columns:\n",
              "\n",
              "&gt;&gt;&gt; data = np.array([(1, 2, 3), (4, 5, 6), (7, 8, 9)],\n",
              "...                 dtype=[(&quot;a&quot;, &quot;i4&quot;), (&quot;b&quot;, &quot;i4&quot;), (&quot;c&quot;, &quot;i4&quot;)])\n",
              "&gt;&gt;&gt; df3 = pd.DataFrame(data, columns=[&#x27;c&#x27;, &#x27;a&#x27;])\n",
              "...\n",
              "&gt;&gt;&gt; df3\n",
              "   c  a\n",
              "0  3  1\n",
              "1  6  4\n",
              "2  9  7\n",
              "\n",
              "Constructing DataFrame from dataclass:\n",
              "\n",
              "&gt;&gt;&gt; from dataclasses import make_dataclass\n",
              "&gt;&gt;&gt; Point = make_dataclass(&quot;Point&quot;, [(&quot;x&quot;, int), (&quot;y&quot;, int)])\n",
              "&gt;&gt;&gt; pd.DataFrame([Point(0, 0), Point(0, 3), Point(2, 3)])\n",
              "   x  y\n",
              "0  0  0\n",
              "1  0  3\n",
              "2  2  3\n",
              "\n",
              "Constructing DataFrame from Series/DataFrame:\n",
              "\n",
              "&gt;&gt;&gt; ser = pd.Series([1, 2, 3], index=[&quot;a&quot;, &quot;b&quot;, &quot;c&quot;])\n",
              "&gt;&gt;&gt; df = pd.DataFrame(data=ser, index=[&quot;a&quot;, &quot;c&quot;])\n",
              "&gt;&gt;&gt; df\n",
              "   0\n",
              "a  1\n",
              "c  3\n",
              "\n",
              "&gt;&gt;&gt; df1 = pd.DataFrame([1, 2, 3], index=[&quot;a&quot;, &quot;b&quot;, &quot;c&quot;], columns=[&quot;x&quot;])\n",
              "&gt;&gt;&gt; df2 = pd.DataFrame(data=df1, index=[&quot;a&quot;, &quot;c&quot;])\n",
              "&gt;&gt;&gt; df2\n",
              "   x\n",
              "a  1\n",
              "c  3</pre>\n",
              "      <script>\n",
              "      if (google.colab.kernel.accessAllowed && google.colab.files && google.colab.files.view) {\n",
              "        for (const element of document.querySelectorAll('.filepath')) {\n",
              "          element.style.display = 'block'\n",
              "          element.onclick = (event) => {\n",
              "            event.preventDefault();\n",
              "            event.stopPropagation();\n",
              "            google.colab.files.view(element.textContent, 509);\n",
              "          };\n",
              "        }\n",
              "      }\n",
              "      for (const element of document.querySelectorAll('.function-repr-contents')) {\n",
              "        element.onclick = (event) => {\n",
              "          event.preventDefault();\n",
              "          event.stopPropagation();\n",
              "          element.classList.toggle('function-repr-contents-collapsed');\n",
              "        };\n",
              "      }\n",
              "      </script>\n",
              "      </div>"
            ]
          },
          "metadata": {},
          "execution_count": 128
        }
      ]
    },
    {
      "cell_type": "markdown",
      "source": [
        "เซฟไฟล์ CSV จาก DataFrame"
      ],
      "metadata": {
        "id": "vt0LPWrcoSnm"
      }
    },
    {
      "cell_type": "code",
      "source": [
        "df.to_csv(\"new_data.csv\")"
      ],
      "metadata": {
        "id": "kGgTjSmfoZ62"
      },
      "execution_count": 129,
      "outputs": []
    },
    {
      "cell_type": "markdown",
      "source": [
        "## JSON"
      ],
      "metadata": {
        "id": "nWHSjkVoolBv"
      }
    },
    {
      "cell_type": "markdown",
      "source": [
        "JSON dump = export JSON"
      ],
      "metadata": {
        "id": "w0ylRm8aoxqP"
      }
    },
    {
      "cell_type": "code",
      "source": [
        "grade"
      ],
      "metadata": {
        "id": "c5dUiYJQo6TQ",
        "outputId": "b585454c-38ec-4712-8a02-1bcbc15a51e5",
        "colab": {
          "base_uri": "https://localhost:8080/"
        }
      },
      "execution_count": 130,
      "outputs": [
        {
          "output_type": "execute_result",
          "data": {
            "text/plain": [
              "{'A': 80, 'B': 70, 'C': 60, 'D': 50, 'B+': 75}"
            ]
          },
          "metadata": {},
          "execution_count": 130
        }
      ]
    },
    {
      "cell_type": "code",
      "source": [
        "import json\n",
        "json.dumps(grade)"
      ],
      "metadata": {
        "id": "pZR3wWo-pjRQ",
        "outputId": "839e5831-564f-4457-9c1a-7c7b30081739",
        "colab": {
          "base_uri": "https://localhost:8080/",
          "height": 34
        }
      },
      "execution_count": 131,
      "outputs": [
        {
          "output_type": "execute_result",
          "data": {
            "text/plain": [
              "'{\"A\": 80, \"B\": 70, \"C\": 60, \"D\": 50, \"B+\": 75}'"
            ],
            "application/vnd.google.colaboratory.intrinsic+json": {
              "type": "string"
            }
          },
          "metadata": {},
          "execution_count": 131
        }
      ]
    },
    {
      "cell_type": "code",
      "source": [
        "type(json.dumps(grade))"
      ],
      "metadata": {
        "id": "zECUQAOjpqK3",
        "outputId": "5c6d86f8-1265-4ad1-9c3f-47f991d11d1e",
        "colab": {
          "base_uri": "https://localhost:8080/"
        }
      },
      "execution_count": 132,
      "outputs": [
        {
          "output_type": "execute_result",
          "data": {
            "text/plain": [
              "str"
            ]
          },
          "metadata": {},
          "execution_count": 132
        }
      ]
    },
    {
      "cell_type": "code",
      "source": [
        "# Save to output file grade.json\n",
        "json.dump(grade, open(\"grade.json\",\"w\"))\n"
      ],
      "metadata": {
        "id": "1-rgRrN6pv4v"
      },
      "execution_count": 133,
      "outputs": []
    },
    {
      "cell_type": "markdown",
      "source": [
        "### JSON load = import JSON"
      ],
      "metadata": {
        "id": "hYZHb5ejqh9o"
      }
    },
    {
      "cell_type": "code",
      "source": [
        "students = json.loads('{\"student1\": \"Perth\", \"student2\": \"Fon\"}')\n",
        "students"
      ],
      "metadata": {
        "id": "tc-tMC4OqnUA",
        "outputId": "274dbd6f-080d-4f5e-847a-5e4360298b86",
        "colab": {
          "base_uri": "https://localhost:8080/"
        }
      },
      "execution_count": 134,
      "outputs": [
        {
          "output_type": "execute_result",
          "data": {
            "text/plain": [
              "{'student1': 'Perth', 'student2': 'Fon'}"
            ]
          },
          "metadata": {},
          "execution_count": 134
        }
      ]
    },
    {
      "cell_type": "code",
      "source": [
        "type(students)"
      ],
      "metadata": {
        "id": "E8kBGpkqrRSe",
        "outputId": "6026f7f2-10ce-4318-af00-300891297784",
        "colab": {
          "base_uri": "https://localhost:8080/"
        }
      },
      "execution_count": 135,
      "outputs": [
        {
          "output_type": "execute_result",
          "data": {
            "text/plain": [
              "dict"
            ]
          },
          "metadata": {},
          "execution_count": 135
        }
      ]
    },
    {
      "cell_type": "markdown",
      "source": [
        "## Tips"
      ],
      "metadata": {
        "id": "NFSquEUrsRa3"
      }
    },
    {
      "cell_type": "markdown",
      "source": [
        "ข้อควรระหว่างสำหรับการแปลงค่าความจริง ด้วย bool() เพราะ bool จะแปลงค่าตัวแปรทุกตัวที่มีค่า เป็น True ทั้งหมด\n",
        "\n",
        "string \"False\" จริงมีค่าเป็น True เพราะ ไม่ใช่ String ว่าง"
      ],
      "metadata": {
        "id": "7Td-hrVqsT-n"
      }
    },
    {
      "cell_type": "code",
      "source": [
        "bool(\"False\")"
      ],
      "metadata": {
        "id": "HyWVfBqhsqG_",
        "outputId": "bd6bcff9-68be-4756-d621-b23eaf9113c6",
        "colab": {
          "base_uri": "https://localhost:8080/"
        }
      },
      "execution_count": 136,
      "outputs": [
        {
          "output_type": "execute_result",
          "data": {
            "text/plain": [
              "True"
            ]
          },
          "metadata": {},
          "execution_count": 136
        }
      ]
    },
    {
      "cell_type": "markdown",
      "source": [
        "การแปลงค่า Boolean ที่ถูกต้อง จึงแนะนำ built-in function `literal_eval `ใน package `ast` เพื่อแปลงค่าที่ถูกต้อง"
      ],
      "metadata": {
        "id": "msa3bMTQsswP"
      }
    },
    {
      "cell_type": "code",
      "source": [
        "import ast\n",
        "ast.literal_eval(\"False\")"
      ],
      "metadata": {
        "id": "IGPT2pO5s_Je",
        "outputId": "dceab66f-5ab7-487a-95a0-7bde88452768",
        "colab": {
          "base_uri": "https://localhost:8080/"
        }
      },
      "execution_count": 137,
      "outputs": [
        {
          "output_type": "execute_result",
          "data": {
            "text/plain": [
              "False"
            ]
          },
          "metadata": {},
          "execution_count": 137
        }
      ]
    },
    {
      "cell_type": "markdown",
      "source": [
        "Bonus: แนวคิดการออกแบบ ภาษา Python สามารถดูได้โดยการ `import this`"
      ],
      "metadata": {
        "id": "uGyBat8WtGDI"
      }
    },
    {
      "cell_type": "code",
      "source": [
        "import this"
      ],
      "metadata": {
        "id": "ApLq0m47tRMv",
        "outputId": "dfd41d16-d8d2-4e88-911d-f1c6c2b7c73a",
        "colab": {
          "base_uri": "https://localhost:8080/"
        }
      },
      "execution_count": 138,
      "outputs": [
        {
          "output_type": "stream",
          "name": "stdout",
          "text": [
            "The Zen of Python, by Tim Peters\n",
            "\n",
            "Beautiful is better than ugly.\n",
            "Explicit is better than implicit.\n",
            "Simple is better than complex.\n",
            "Complex is better than complicated.\n",
            "Flat is better than nested.\n",
            "Sparse is better than dense.\n",
            "Readability counts.\n",
            "Special cases aren't special enough to break the rules.\n",
            "Although practicality beats purity.\n",
            "Errors should never pass silently.\n",
            "Unless explicitly silenced.\n",
            "In the face of ambiguity, refuse the temptation to guess.\n",
            "There should be one-- and preferably only one --obvious way to do it.\n",
            "Although that way may not be obvious at first unless you're Dutch.\n",
            "Now is better than never.\n",
            "Although never is often better than *right* now.\n",
            "If the implementation is hard to explain, it's a bad idea.\n",
            "If the implementation is easy to explain, it may be a good idea.\n",
            "Namespaces are one honking great idea -- let's do more of those!\n"
          ]
        }
      ]
    },
    {
      "cell_type": "markdown",
      "source": [
        "# END"
      ],
      "metadata": {
        "id": "w9AXdKBZtz0h"
      }
    }
  ]
}