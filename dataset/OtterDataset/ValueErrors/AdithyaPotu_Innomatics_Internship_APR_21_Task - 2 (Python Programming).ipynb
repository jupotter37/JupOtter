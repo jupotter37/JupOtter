{
 "cells": [
  {
   "cell_type": "code",
   "execution_count": 1,
   "metadata": {},
   "outputs": [
    {
     "name": "stdout",
     "output_type": "stream",
     "text": [
      "0\n",
      "1\n",
      "2\n",
      "3\n",
      "[[0, 0, 0], [0, 0, 1], [0, 0, 2], [0, 1, 0], [0, 1, 1]]\n"
     ]
    }
   ],
   "source": [
    "#question 8\n",
    "if __name__ == '__main__':\n",
    "    x = int(input())\n",
    "    y = int(input())\n",
    "    z = int(input())\n",
    "    n = int(input())   \n",
    "print([[i,j,k] for i in range(x+1) for j in range (y+1) for k in range(z+1) if (i+j+k) != n])"
   ]
  },
  {
   "cell_type": "code",
   "execution_count": 17,
   "metadata": {},
   "outputs": [
    {
     "name": "stdout",
     "output_type": "stream",
     "text": [
      "5\n",
      "2 3 6 6 5\n",
      "5\n"
     ]
    }
   ],
   "source": [
    "#question num 9 \n",
    "#find the runner up score :\n",
    "if __name__ == '__main__':\n",
    "    n = int(input())\n",
    "    arr = list(map(int, input().split()))\n",
    "    result = max(arr)\n",
    "    i=0\n",
    "    while(i<n):\n",
    "        if result ==max(arr):\n",
    "            arr.remove(max(arr))\n",
    "        i+=1\n",
    "    print(max(arr))"
   ]
  },
  {
   "cell_type": "code",
   "execution_count": 1,
   "metadata": {},
   "outputs": [
    {
     "name": "stdout",
     "output_type": "stream",
     "text": [
      "5\n",
      "harry\n",
      "37.21\n",
      "berry\n",
      "37.21\n",
      "tina\n",
      "37.2\n",
      "akrti\n",
      "41\n",
      "harish\n",
      "39\n",
      "berry\n",
      "harry\n"
     ]
    }
   ],
   "source": [
    "# question 10 \n",
    "#nested lists\n",
    "if __name__ == '__main__':\n",
    "\n",
    "    grade_lst = []\n",
    "\n",
    "    marksheet = []\n",
    "\n",
    "    for _ in range(int(input())):\n",
    "\n",
    "        name = input()\n",
    "\n",
    "        grade = float(input())\n",
    "\n",
    "        marksheet.append([name,grade])\n",
    "\n",
    "        grade_lst.append(grade)\n",
    "\n",
    "    second_lowest = sorted(list(set(grade_lst)))[1]\n",
    "\n",
    "    names = [name for name,marks in sorted(marksheet) if marks == second_lowest]\n",
    "\n",
    "    print('\\n'.join(names))"
   ]
  },
  {
   "cell_type": "code",
   "execution_count": 7,
   "metadata": {},
   "outputs": [
    {
     "name": "stdout",
     "output_type": "stream",
     "text": [
      "2\n",
      "harry 34 56 78\n",
      "hari 56 78 98\n",
      "hari\n",
      "77.33\n"
     ]
    }
   ],
   "source": [
    "#question11\n",
    "#find the percentage\n",
    "if __name__ == '__main__':\n",
    "        n = int(input())\n",
    "        student_marks = {}\n",
    "        for _ in range(n):\n",
    "            name, *line = input().split()\n",
    "            scores = list(map(float, line))\n",
    "            student_marks[name] = scores\n",
    "query_name = input()\n",
    "mark = student_marks[query_name]\n",
    "print(\"{0:.2f}\".format(sum (mark) /(len(scores)))) \n"
   ]
  },
  {
   "cell_type": "code",
   "execution_count": 1,
   "metadata": {},
   "outputs": [
    {
     "name": "stdout",
     "output_type": "stream",
     "text": [
      "12\n",
      "insert 0 5\n",
      "insert 0 1\n",
      "insert 0 4\n",
      "insert 0 3\n",
      "print\n",
      "[3, 4, 1, 5]\n",
      "remove 3\n",
      "append 6\n",
      "append 9\n",
      "sort\n",
      "print\n",
      "[1, 4, 5, 6, 9]\n",
      "pop\n",
      "print\n",
      "[1, 4, 5, 6]\n"
     ]
    }
   ],
   "source": [
    "#question12\n",
    "#Lists\n",
    "if __name__ == '__main__':\n",
    "        N = int(input())\n",
    "        arr = []\n",
    "        for t in range(N):\n",
    "            args = input().strip().split(\" \")\n",
    "            if args[0] == \"append\":\n",
    "                arr.append(int(args[1]))\n",
    "            elif args[0] == \"insert\":\n",
    "                arr.insert(int(args[1]), int(args[2]))\n",
    "            elif args[0] == \"remove\":\n",
    "                arr.remove(int(args[1]))\n",
    "            elif args[0] == \"pop\":\n",
    "                arr.pop()\n",
    "            elif args[0] == \"sort\":\n",
    "                arr.sort()\n",
    "            elif args[0] == \"reverse\":\n",
    "                arr.reverse()\n",
    "            elif args[0] == \"print\":\n",
    "                print (arr)"
   ]
  },
  {
   "cell_type": "code",
   "execution_count": 2,
   "metadata": {},
   "outputs": [
    {
     "name": "stdout",
     "output_type": "stream",
     "text": [
      "2\n",
      "1 2\n",
      "3713081631934410656\n"
     ]
    }
   ],
   "source": [
    "#question 13\n",
    "# tuples\n",
    "if __name__ == '__main__':\n",
    "    n = int(input())\n",
    "    integer_list = map(int, input().split())\n",
    "    K = tuple(integer_list)\n",
    "    print (hash(K));\n"
   ]
  },
  {
   "cell_type": "code",
   "execution_count": 3,
   "metadata": {},
   "outputs": [
    {
     "name": "stdout",
     "output_type": "stream",
     "text": [
      "5\n",
      "161 160 181 151 171\n",
      "164.8\n"
     ]
    }
   ],
   "source": [
    "#question14\n",
    "#sets\n",
    "def average(array):\n",
    "    s = set(array)\n",
    "    avg = sum(s) / len(s)\n",
    "    return avg\n",
    "if __name__ == '__main__':\n",
    "    n = int(input())\n",
    "    arr = list(map(int, input().split()))\n",
    "    result = average(arr)\n",
    "    print(result)"
   ]
  },
  {
   "cell_type": "code",
   "execution_count": 1,
   "metadata": {},
   "outputs": [
    {
     "name": "stdout",
     "output_type": "stream",
     "text": [
      "3 2\n",
      "4 5\n",
      "5 4\n",
      "1 2\n",
      "2\n"
     ]
    }
   ],
   "source": [
    "#question15\n",
    "#NO IDEA\n",
    "n,m = input().split()\n",
    "\n",
    "arr = input().split()\n",
    "\n",
    "A = set(input().split()) \n",
    "B = set(input().split())\n",
    "print (sum([(i in A) - (i in B) for i in arr]) )\n"
   ]
  },
  {
   "cell_type": "code",
   "execution_count": 13,
   "metadata": {},
   "outputs": [
    {
     "name": "stdout",
     "output_type": "stream",
     "text": [
      "4\n",
      "1 2 5 9\n",
      "4\n",
      "2 7 8 9\n",
      "1\n",
      "5\n",
      "7\n",
      "8\n"
     ]
    }
   ],
   "source": [
    "#question16\n",
    "#symmetric set\n",
    "# Enter your code here. Read input from STDIN. Print output to STDOUT\n",
    "if __name__ == '__main__': \n",
    "    N=int(input())\n",
    "    a=set(map(int,input().split()))\n",
    "    M=int(input())\n",
    "    b=set(map(int,input().split()))\n",
    "for i in sorted(a.union(b)):\n",
    "    if i not in a.intersection(b):\n",
    "        print (i)  "
   ]
  },
  {
   "cell_type": "code",
   "execution_count": 1,
   "metadata": {},
   "outputs": [
    {
     "name": "stdout",
     "output_type": "stream",
     "text": [
      "7\n",
      "us\n",
      "uk\n",
      "new zealand\n",
      "australia\n",
      "india\n",
      "germany\n",
      "hungary\n",
      "7\n"
     ]
    }
   ],
   "source": [
    "#question 17\n",
    "# set.add()\n",
    "# Enter your code here. Read input from STDIN. Print output to STDOUT\n",
    "n=int(input())\n",
    "stamp = set()\n",
    "for i in range(n) :\n",
    "      stamp.add(input())\n",
    "print (len(stamp))"
   ]
  },
  {
   "cell_type": "code",
   "execution_count": 2,
   "metadata": {},
   "outputs": [
    {
     "name": "stdout",
     "output_type": "stream",
     "text": [
      "4\n",
      "1 2 3 4\n",
      "remove 4\n"
     ]
    },
    {
     "ename": "ValueError",
     "evalue": "invalid literal for int() with base 10: 'remove 4'",
     "output_type": "error",
     "traceback": [
      "\u001b[1;31m---------------------------------------------------------------------------\u001b[0m",
      "\u001b[1;31mValueError\u001b[0m                                Traceback (most recent call last)",
      "\u001b[1;32m<ipython-input-2-fb537f7dad72>\u001b[0m in \u001b[0;36m<module>\u001b[1;34m\u001b[0m\n\u001b[0;32m      3\u001b[0m \u001b[0mn\u001b[0m \u001b[1;33m=\u001b[0m \u001b[0mint\u001b[0m\u001b[1;33m(\u001b[0m\u001b[0minput\u001b[0m\u001b[1;33m(\u001b[0m\u001b[1;33m)\u001b[0m\u001b[1;33m)\u001b[0m\u001b[1;33m\u001b[0m\u001b[1;33m\u001b[0m\u001b[0m\n\u001b[0;32m      4\u001b[0m \u001b[0ms\u001b[0m \u001b[1;33m=\u001b[0m \u001b[0mset\u001b[0m\u001b[1;33m(\u001b[0m\u001b[0mmap\u001b[0m\u001b[1;33m(\u001b[0m\u001b[0mint\u001b[0m\u001b[1;33m,\u001b[0m \u001b[0minput\u001b[0m\u001b[1;33m(\u001b[0m\u001b[1;33m)\u001b[0m\u001b[1;33m.\u001b[0m\u001b[0msplit\u001b[0m\u001b[1;33m(\u001b[0m\u001b[1;33m)\u001b[0m\u001b[1;33m)\u001b[0m\u001b[1;33m)\u001b[0m\u001b[1;33m\u001b[0m\u001b[1;33m\u001b[0m\u001b[0m\n\u001b[1;32m----> 5\u001b[1;33m \u001b[0ma\u001b[0m \u001b[1;33m=\u001b[0m \u001b[0mint\u001b[0m\u001b[1;33m(\u001b[0m\u001b[0minput\u001b[0m\u001b[1;33m(\u001b[0m\u001b[1;33m)\u001b[0m\u001b[1;33m)\u001b[0m\u001b[1;33m\u001b[0m\u001b[1;33m\u001b[0m\u001b[0m\n\u001b[0m\u001b[0;32m      6\u001b[0m \u001b[1;32mfor\u001b[0m \u001b[0mi\u001b[0m \u001b[1;32min\u001b[0m \u001b[0mrange\u001b[0m\u001b[1;33m(\u001b[0m\u001b[0ma\u001b[0m\u001b[1;33m)\u001b[0m\u001b[1;33m:\u001b[0m\u001b[1;33m\u001b[0m\u001b[1;33m\u001b[0m\u001b[0m\n\u001b[0;32m      7\u001b[0m     \u001b[0ms1\u001b[0m\u001b[1;33m=\u001b[0m\u001b[0mlist\u001b[0m\u001b[1;33m(\u001b[0m\u001b[0minput\u001b[0m\u001b[1;33m(\u001b[0m\u001b[1;33m)\u001b[0m\u001b[1;33m.\u001b[0m\u001b[0msplit\u001b[0m\u001b[1;33m(\u001b[0m\u001b[1;33m)\u001b[0m\u001b[1;33m)\u001b[0m\u001b[1;33m\u001b[0m\u001b[1;33m\u001b[0m\u001b[0m\n",
      "\u001b[1;31mValueError\u001b[0m: invalid literal for int() with base 10: 'remove 4'"
     ]
    }
   ],
   "source": [
    "#question 18\n",
    "#set.remove(),pop(),discard()\n",
    "n = int(input())\n",
    "s = set(map(int, input().split()))\n",
    "a = int(input())\n",
    "for i in range(a):\n",
    "    s1=list(input().split())\n",
    "    if s1[0]==\"pop\":\n",
    "        s.pop()\n",
    "    elif s1[0]==\"remove\":\n",
    "        s.remove(int(s1[1]))\n",
    "    elif s1[0]==\"discard\":\n",
    "        s.discard(int(s1[1]))\n",
    "sum=0\n",
    "for i in s:\n",
    "    sum = sum+i\n",
    "print(sum)"
   ]
  },
  {
   "cell_type": "code",
   "execution_count": 3,
   "metadata": {},
   "outputs": [
    {
     "name": "stdout",
     "output_type": "stream",
     "text": [
      "9\n",
      "1 2 3 4 5 6 7 8 9\n",
      "4\n",
      "5 4 3 2\n",
      "9\n"
     ]
    }
   ],
   "source": [
    "#question 19\n",
    "#Calculate the Union in between two given sets and find number of students in Class\n",
    "# Enter your code here. Read input from STDIN. Print output to STDOUT\n",
    "n = int(input())\n",
    "a = set(map(int,input().split()))\n",
    "m = int(input())\n",
    "b = set(map(int,input().split()))\n",
    "ans = a.union(b)\n",
    "count = 0\n",
    "for i in ans:\n",
    "    count += 1\n",
    "print(count)"
   ]
  },
  {
   "cell_type": "code",
   "execution_count": null,
   "metadata": {},
   "outputs": [],
   "source": [
    "#question 20\n",
    "#Find the Intersection in between the two sets\n",
    "# Enter your code here. Read input from STDIN. Print output to STDOUT\n",
    "n = int(input())\n",
    "a = set(map(int,input().split()))\n",
    "m = int(input())\n",
    "b= set(map(int,input().split()))\n",
    "ans = a.intersection(b)\n",
    "count = 0\n",
    "for i in ans:\n",
    "    count += 1\n",
    "print(count)\n"
   ]
  },
  {
   "cell_type": "code",
   "execution_count": null,
   "metadata": {},
   "outputs": [],
   "source": [
    "#question21\n",
    "#Set .difference() Operation\n",
    "\n",
    "\n",
    "## Enter your code here. Read input from STDIN. Print output to STDOUT\n",
    "n = int(input())\n",
    "a = set(map(int,input().split()))\n",
    "m = int(input())\n",
    "b = set(map(int,input().split()))\n",
    "ans = a.difference(b)\n",
    "count = 0\n",
    "for i in ans:\n",
    "    count += 1\n",
    "print(count)"
   ]
  },
  {
   "cell_type": "code",
   "execution_count": null,
   "metadata": {},
   "outputs": [],
   "source": [
    "#question22\n",
    "#Find the Symmentric Difference Between two sets\n",
    "# Enter your code here. Read input from STDIN. Print output to STDOUT\n",
    "\n",
    "n = int(input())\n",
    "a = set(map(int,input().split()))\n",
    "m = int(input())\n",
    "b = set(map(int,input().split()))\n",
    "ans = a.symmetric_difference(b)\n",
    "count = 0\n",
    "for i in ans:\n",
    "    count += 1\n",
    "print(count)"
   ]
  },
  {
   "cell_type": "code",
   "execution_count": null,
   "metadata": {},
   "outputs": [],
   "source": [
    "#questiom23\n",
    "#Find the Set Mutations on the given input data\n",
    "# Enter your code here. Read input from STDIN. Print output to STDOUT\n",
    "n = int(input())\n",
    "m = set(map(int,input().split()))\n",
    "for i in range (int(input())):\n",
    "    c=input().split()\n",
    "    s=set(map(int,input().split()))\n",
    "    if c[0]=='intersection_update':\n",
    "        m&=s\n",
    "    elif c[0]=='update':\n",
    "        m|=s\n",
    "    elif c[0]=='difference_update':\n",
    "        m-=s\n",
    "    elif c[0]=='symmetric_difference_update':\n",
    "        m^=s\n",
    "print(sum(m))"
   ]
  },
  {
   "cell_type": "code",
   "execution_count": null,
   "metadata": {},
   "outputs": [],
   "source": [
    "#question24\n",
    "#Finding captian room in given list of input data\n",
    "# Enter your code here. Read input from STDIN. Print output to STDOUT\n",
    "n=int(input())\n",
    "a=map(int,input().split(\" \"))\n",
    "a=sorted(a)\n",
    "for i in range(1,len(a)):\n",
    "    if i!=len(a)-1:\n",
    "        if a[i]!=a[i-1] and a[i]!=a[i+1]:\n",
    "            print (a[i])\n",
    "            break\n",
    "    else:\n",
    "        print (a[i])\n"
   ]
  },
  {
   "cell_type": "code",
   "execution_count": null,
   "metadata": {},
   "outputs": [],
   "source": [
    "#question25\n",
    "#check subsets\n",
    "# Enter your code here. Read input from STDIN. Print output to STDOUT\n",
    "def checker():\n",
    "    x =int(input())\n",
    "    a = set(map(int,input().split()))\n",
    "    y = int(input())\n",
    "    b = set(map(int,input().split()))\n",
    " \n",
    "    l = []\n",
    "    for i in a:\n",
    "        if i in b:\n",
    "            l.append(i)\n",
    "    l = set(l)\n",
    "    if l == a:\n",
    "        print(True)\n",
    "    else:\n",
    "        print(False)\n",
    "        \n",
    "t = int(input())\n",
    "for i in range(t):\n",
    "    checker()"
   ]
  },
  {
   "cell_type": "code",
   "execution_count": null,
   "metadata": {},
   "outputs": [],
   "source": [
    "#question 26\n",
    "#Finding the Strict Superset in a given sets\n",
    "A = set(map(int, input().split()))\n",
    "for i in range(int(input())):\n",
    "    N = set(map(int, input().split()))\n",
    "    if A.issuperset(N) != True or len(A) == len(N): \n",
    "        print(False)\n",
    "        break \n",
    "else: print(True)"
   ]
  },
  {
   "cell_type": "code",
   "execution_count": null,
   "metadata": {},
   "outputs": [],
   "source": []
  }
 ],
 "metadata": {
  "kernelspec": {
   "display_name": "Python 3",
   "language": "python",
   "name": "python3"
  },
  "language_info": {
   "codemirror_mode": {
    "name": "ipython",
    "version": 3
   },
   "file_extension": ".py",
   "mimetype": "text/x-python",
   "name": "python",
   "nbconvert_exporter": "python",
   "pygments_lexer": "ipython3",
   "version": "3.7.6"
  }
 },
 "nbformat": 4,
 "nbformat_minor": 4
}
