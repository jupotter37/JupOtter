{
 "cells": [
  {
   "cell_type": "markdown",
   "id": "de316a40-4fd2-49c8-aa9d-fa951a05ea39",
   "metadata": {},
   "source": [
    "**TYPE CASTING**"
   ]
  },
  {
   "cell_type": "markdown",
   "id": "b853521c-d835-4e5d-a6e2-0b3037181b3a",
   "metadata": {},
   "source": [
    "- converting one data type into another data type   \n",
    "   - integer\n",
    "   - float\n",
    "   - string\n",
    "   - boolean"
   ]
  },
  {
   "cell_type": "markdown",
   "id": "0b7c8cb2-954d-4bd9-9537-78d9c9af9017",
   "metadata": {},
   "source": [
    "** integer     to    all  other   data types  **"
   ]
  },
  {
   "cell_type": "markdown",
   "id": "0a664696-43f5-418f-9d75-0213d2a197ab",
   "metadata": {},
   "source": [
    "- int to float\n",
    "- int to string \n",
    "- int to boolean"
   ]
  },
  {
   "cell_type": "code",
   "execution_count": 38,
   "id": "e57688e3-8693-47e0-a5da-fd8ffaeee620",
   "metadata": {},
   "outputs": [
    {
     "data": {
      "text/plain": [
       "100"
      ]
     },
     "execution_count": 38,
     "metadata": {},
     "output_type": "execute_result"
    }
   ],
   "source": [
    "number=100\n",
    "number"
   ]
  },
  {
   "cell_type": "code",
   "execution_count": 45,
   "id": "c4d0a5ce-3770-4214-9df7-7d409a4c61f9",
   "metadata": {},
   "outputs": [
    {
     "data": {
      "text/plain": [
       "100.0"
      ]
     },
     "execution_count": 45,
     "metadata": {},
     "output_type": "execute_result"
    }
   ],
   "source": [
    "number3=float(number)\n",
    "number3"
   ]
  },
  {
   "cell_type": "code",
   "execution_count": 44,
   "id": "619fb2b1-6bd0-4085-8886-87ab6bf2bf17",
   "metadata": {},
   "outputs": [
    {
     "data": {
      "text/plain": [
       "'100'"
      ]
     },
     "execution_count": 44,
     "metadata": {},
     "output_type": "execute_result"
    }
   ],
   "source": [
    "number1=str(number)\n",
    "number1"
   ]
  },
  {
   "cell_type": "code",
   "execution_count": 43,
   "id": "64f3235f-ecd5-40e4-ac7a-3661671b8535",
   "metadata": {},
   "outputs": [
    {
     "data": {
      "text/plain": [
       "True"
      ]
     },
     "execution_count": 43,
     "metadata": {},
     "output_type": "execute_result"
    }
   ],
   "source": [
    "number2=bool(number)\n",
    "number2"
   ]
  },
  {
   "cell_type": "code",
   "execution_count": 46,
   "id": "6edf1f97-8c45-4b41-9dc4-973b27943b3e",
   "metadata": {},
   "outputs": [
    {
     "data": {
      "text/plain": [
       "(int, str, bool, float)"
      ]
     },
     "execution_count": 46,
     "metadata": {},
     "output_type": "execute_result"
    }
   ],
   "source": [
    "type(number),type(number1),type(number2),type(number3)"
   ]
  },
  {
   "cell_type": "markdown",
   "id": "25bf68fa-930d-4ab2-ae73-111e6445ea44",
   "metadata": {},
   "source": [
    "**float conversion**"
   ]
  },
  {
   "cell_type": "code",
   "execution_count": 47,
   "id": "a9f38592-c337-4e32-b124-884b4c05047d",
   "metadata": {},
   "outputs": [
    {
     "data": {
      "text/plain": [
       "100.78"
      ]
     },
     "execution_count": 47,
     "metadata": {},
     "output_type": "execute_result"
    }
   ],
   "source": [
    "number=100.78\n",
    "number"
   ]
  },
  {
   "cell_type": "code",
   "execution_count": 48,
   "id": "350311fd-71fb-49c7-b8c1-33445d87d83f",
   "metadata": {},
   "outputs": [
    {
     "data": {
      "text/plain": [
       "float"
      ]
     },
     "execution_count": 48,
     "metadata": {},
     "output_type": "execute_result"
    }
   ],
   "source": [
    "type(number)"
   ]
  },
  {
   "cell_type": "code",
   "execution_count": 49,
   "id": "c451d950-bf0b-411b-9846-f8d1ca2ea380",
   "metadata": {},
   "outputs": [
    {
     "data": {
      "text/plain": [
       "100"
      ]
     },
     "execution_count": 49,
     "metadata": {},
     "output_type": "execute_result"
    }
   ],
   "source": [
    "number_integer=int(number)\n",
    "number_integer"
   ]
  },
  {
   "cell_type": "code",
   "execution_count": 50,
   "id": "ed476dc1-a617-4f63-9eb9-0b0429edc478",
   "metadata": {},
   "outputs": [
    {
     "data": {
      "text/plain": [
       "'100.78'"
      ]
     },
     "execution_count": 50,
     "metadata": {},
     "output_type": "execute_result"
    }
   ],
   "source": [
    "number_string=str(number)\n",
    "number_string"
   ]
  },
  {
   "cell_type": "code",
   "execution_count": 51,
   "id": "38b2c36c-c499-4450-ac9f-b86b227cb4d2",
   "metadata": {},
   "outputs": [
    {
     "data": {
      "text/plain": [
       "str"
      ]
     },
     "execution_count": 51,
     "metadata": {},
     "output_type": "execute_result"
    }
   ],
   "source": [
    "type(number_string)"
   ]
  },
  {
   "cell_type": "code",
   "execution_count": 54,
   "id": "9c2ed917-bf7b-41ce-aa5f-373def1c8981",
   "metadata": {},
   "outputs": [
    {
     "data": {
      "text/plain": [
       "(True, bool)"
      ]
     },
     "execution_count": 54,
     "metadata": {},
     "output_type": "execute_result"
    }
   ],
   "source": [
    "number_boolean=bool(number)\n",
    "number_boolean,type(number_boolean)"
   ]
  },
  {
   "cell_type": "markdown",
   "id": "9cbb8bdd-72d3-4eb3-9577-e09e601335a2",
   "metadata": {},
   "source": [
    "**int to string**"
   ]
  },
  {
   "cell_type": "code",
   "execution_count": 58,
   "id": "7ae55687-c4e2-404a-abeb-e22dd95e295a",
   "metadata": {},
   "outputs": [],
   "source": [
    " number_string=str(number)"
   ]
  },
  {
   "cell_type": "code",
   "execution_count": 59,
   "id": "275143f2-0729-446c-8ed3-22e628745607",
   "metadata": {},
   "outputs": [
    {
     "data": {
      "text/plain": [
       "(str, '100.78')"
      ]
     },
     "execution_count": 59,
     "metadata": {},
     "output_type": "execute_result"
    }
   ],
   "source": [
    "type(number_string),number_string"
   ]
  },
  {
   "cell_type": "markdown",
   "id": "4658cb00-d80a-443e-bf50-6519a17904be",
   "metadata": {},
   "source": [
    "**float to int**"
   ]
  },
  {
   "cell_type": "markdown",
   "id": "a3222da0-a56d-4a73-82cc-38af4596f8af",
   "metadata": {},
   "source": [
    "- float to int\n",
    "- float to string\n",
    "- float to boolean"
   ]
  },
  {
   "cell_type": "code",
   "execution_count": 61,
   "id": "68214ccb-cb57-4e33-94cd-48b94b5e96f4",
   "metadata": {},
   "outputs": [
    {
     "data": {
      "text/plain": [
       "(23.8, float)"
      ]
     },
     "execution_count": 61,
     "metadata": {},
     "output_type": "execute_result"
    }
   ],
   "source": [
    "number=23.8\n",
    "number,type(number)"
   ]
  },
  {
   "cell_type": "code",
   "execution_count": 62,
   "id": "1941cf24-b869-4eb5-bf05-e6203f95a7df",
   "metadata": {},
   "outputs": [
    {
     "data": {
      "text/plain": [
       "(23, int)"
      ]
     },
     "execution_count": 62,
     "metadata": {},
     "output_type": "execute_result"
    }
   ],
   "source": [
    "number_integer=int(23.8)\n",
    "number_integer,type(number_integer)"
   ]
  },
  {
   "cell_type": "code",
   "execution_count": 63,
   "id": "d0cf1506-bbc2-4f68-a2ec-5a372e617417",
   "metadata": {},
   "outputs": [
    {
     "data": {
      "text/plain": [
       "('23.5', str)"
      ]
     },
     "execution_count": 63,
     "metadata": {},
     "output_type": "execute_result"
    }
   ],
   "source": [
    "number_string=str(23.5)\n",
    "number_string,type(number_string)"
   ]
  },
  {
   "cell_type": "code",
   "execution_count": 66,
   "id": "0a86ef7c-b04a-4be3-bf71-f616ce65fa3e",
   "metadata": {},
   "outputs": [
    {
     "data": {
      "text/plain": [
       "(True, bool)"
      ]
     },
     "execution_count": 66,
     "metadata": {},
     "output_type": "execute_result"
    }
   ],
   "source": [
    "number_boolean=bool(457)\n",
    "number_boolean,type(number_boolean)"
   ]
  },
  {
   "cell_type": "markdown",
   "id": "5b9e417e-8553-4b00-aff2-9f700605b39f",
   "metadata": {},
   "source": [
    "**string to all other**"
   ]
  },
  {
   "cell_type": "markdown",
   "id": "2440d7e5-43d0-4a81-857c-6babb413a9ff",
   "metadata": {},
   "source": [
    "- string to int\n",
    "- string to float\n",
    "- string to boolean"
   ]
  },
  {
   "cell_type": "code",
   "execution_count": 68,
   "id": "f968a72b-3839-4b1a-a2c8-fced2d8c63b6",
   "metadata": {},
   "outputs": [
    {
     "data": {
      "text/plain": [
       "('234', str)"
      ]
     },
     "execution_count": 68,
     "metadata": {},
     "output_type": "execute_result"
    }
   ],
   "source": [
    "number='234'\n",
    "number,type(number)"
   ]
  },
  {
   "cell_type": "code",
   "execution_count": 69,
   "id": "73ce62e3-c9a8-411c-8a61-8d4ba75e6582",
   "metadata": {},
   "outputs": [
    {
     "data": {
      "text/plain": [
       "(234, int)"
      ]
     },
     "execution_count": 69,
     "metadata": {},
     "output_type": "execute_result"
    }
   ],
   "source": [
    "number_integer=int('234')\n",
    "number_integer,type(number_integer)"
   ]
  },
  {
   "cell_type": "code",
   "execution_count": 70,
   "id": "340dbfb4-f938-4e84-9d62-1333487a5c03",
   "metadata": {},
   "outputs": [
    {
     "data": {
      "text/plain": [
       "(234.0, float)"
      ]
     },
     "execution_count": 70,
     "metadata": {},
     "output_type": "execute_result"
    }
   ],
   "source": [
    "number_float=float('234')\n",
    "number_float,type(number_float)"
   ]
  },
  {
   "cell_type": "code",
   "execution_count": 71,
   "id": "2f04351b-ec69-4c80-b848-83c854486609",
   "metadata": {},
   "outputs": [
    {
     "data": {
      "text/plain": [
       "(True, bool)"
      ]
     },
     "execution_count": 71,
     "metadata": {},
     "output_type": "execute_result"
    }
   ],
   "source": [
    "number_boolean=bool('234')\n",
    "number_boolean,type(number_boolean)"
   ]
  },
  {
   "cell_type": "code",
   "execution_count": 73,
   "id": "770a0fec-ca6e-4cc0-9d18-67da972ed9db",
   "metadata": {},
   "outputs": [
    {
     "data": {
      "text/plain": [
       "100"
      ]
     },
     "execution_count": 73,
     "metadata": {},
     "output_type": "execute_result"
    }
   ],
   "source": [
    "int(\"100\")\n"
   ]
  },
  {
   "cell_type": "code",
   "execution_count": 74,
   "id": "02c6e5c1-045b-4f4e-96e6-3b2ba4b0d823",
   "metadata": {},
   "outputs": [
    {
     "ename": "SyntaxError",
     "evalue": "unterminated string literal (detected at line 1) (3012325205.py, line 1)",
     "output_type": "error",
     "traceback": [
      "\u001b[1;36m  Cell \u001b[1;32mIn[74], line 1\u001b[1;36m\u001b[0m\n\u001b[1;33m    int(\"23.5')\u001b[0m\n\u001b[1;37m        ^\u001b[0m\n\u001b[1;31mSyntaxError\u001b[0m\u001b[1;31m:\u001b[0m unterminated string literal (detected at line 1)\n"
     ]
    }
   ],
   "source": [
    "int(\"23.5')"
   ]
  },
  {
   "cell_type": "code",
   "execution_count": 75,
   "id": "b0e55982-9213-4281-a6a8-bd7a73239d06",
   "metadata": {},
   "outputs": [
    {
     "data": {
      "text/plain": [
       "False"
      ]
     },
     "execution_count": 75,
     "metadata": {},
     "output_type": "execute_result"
    }
   ],
   "source": [
    "bool(\"\")"
   ]
  },
  {
   "cell_type": "code",
   "execution_count": 81,
   "id": "b6c5375f-cd9a-40f8-9e38-50b224c1271a",
   "metadata": {},
   "outputs": [
    {
     "data": {
      "text/plain": [
       "True"
      ]
     },
     "execution_count": 81,
     "metadata": {},
     "output_type": "execute_result"
    }
   ],
   "source": [
    "number1=True\n",
    "number1  "
   ]
  },
  {
   "cell_type": "code",
   "execution_count": 82,
   "id": "40aaa521-fd1c-42fe-8ff5-76d50707919e",
   "metadata": {},
   "outputs": [
    {
     "data": {
      "text/plain": [
       "bool"
      ]
     },
     "execution_count": 82,
     "metadata": {},
     "output_type": "execute_result"
    }
   ],
   "source": [
    "type(number1)"
   ]
  },
  {
   "cell_type": "code",
   "execution_count": 93,
   "id": "38995549-cef1-4055-8efc-e951bafa97d4",
   "metadata": {},
   "outputs": [
    {
     "data": {
      "text/plain": [
       "(1, 1.0, 0, 0.0)"
      ]
     },
     "execution_count": 93,
     "metadata": {},
     "output_type": "execute_result"
    }
   ],
   "source": [
    "int(True),float(True),int(False),float(False)"
   ]
  },
  {
   "cell_type": "code",
   "execution_count": 94,
   "id": "6d25d8f1-427a-42e7-b600-c8ef87802e3c",
   "metadata": {},
   "outputs": [
    {
     "data": {
      "text/plain": [
       "('False', 'True')"
      ]
     },
     "execution_count": 94,
     "metadata": {},
     "output_type": "execute_result"
    }
   ],
   "source": [
    "str(False),str(True)"
   ]
  },
  {
   "cell_type": "markdown",
   "id": "60fcd0b3-a555-49e0-a83a-8b3edbd407fd",
   "metadata": {},
   "source": [
    "**integer will accept the float value ex:number=int(100.0)\n",
    "but integer will not accept the float value in string fromat ex:number=int('100.0') "
   ]
  },
  {
   "cell_type": "code",
   "execution_count": 95,
   "id": "4091655a-4f7f-4f96-bf69-0cdca0d5e4d0",
   "metadata": {},
   "outputs": [
    {
     "data": {
      "text/plain": [
       "100"
      ]
     },
     "execution_count": 95,
     "metadata": {},
     "output_type": "execute_result"
    }
   ],
   "source": [
    "number=int(100.8)\n",
    "number"
   ]
  },
  {
   "cell_type": "code",
   "execution_count": 96,
   "id": "13762b0c-e6bf-42e2-8466-4210fa835411",
   "metadata": {},
   "outputs": [
    {
     "ename": "ValueError",
     "evalue": "invalid literal for int() with base 10: '100.8'",
     "output_type": "error",
     "traceback": [
      "\u001b[1;31m---------------------------------------------------------------------------\u001b[0m",
      "\u001b[1;31mValueError\u001b[0m                                Traceback (most recent call last)",
      "Cell \u001b[1;32mIn[96], line 1\u001b[0m\n\u001b[1;32m----> 1\u001b[0m number\u001b[38;5;241m=\u001b[39m\u001b[38;5;28mint\u001b[39m(\u001b[38;5;124m'\u001b[39m\u001b[38;5;124m100.8\u001b[39m\u001b[38;5;124m'\u001b[39m)\n\u001b[0;32m      2\u001b[0m number\n",
      "\u001b[1;31mValueError\u001b[0m: invalid literal for int() with base 10: '100.8'"
     ]
    }
   ],
   "source": [
    "number=int('100.8')\n",
    "number"
   ]
  },
  {
   "cell_type": "code",
   "execution_count": null,
   "id": "5847dbf1-80e9-4666-9088-93081eb9b3b7",
   "metadata": {},
   "outputs": [],
   "source": [
    "it gives error\n"
   ]
  },
  {
   "cell_type": "code",
   "execution_count": null,
   "id": "efa9c1ce-c730-4d06-97d6-079de844a475",
   "metadata": {},
   "outputs": [],
   "source": []
  },
  {
   "cell_type": "code",
   "execution_count": 4,
   "id": "f7468175-b9fd-4fb8-836b-f088f7d223dd",
   "metadata": {},
   "outputs": [
    {
     "data": {
      "text/plain": [
       "100.0"
      ]
     },
     "execution_count": 4,
     "metadata": {},
     "output_type": "execute_result"
    }
   ],
   "source": [
    "number_float=float(number)"
   ]
  },
  {
   "cell_type": "code",
   "execution_count": 9,
   "id": "c547789c-1525-4517-ba0b-3c0cf4e6ae93",
   "metadata": {},
   "outputs": [
    {
     "data": {
      "text/plain": [
       "False"
      ]
     },
     "execution_count": 9,
     "metadata": {},
     "output_type": "execute_result"
    }
   ],
   "source": [
    "bool(0.0)"
   ]
  },
  {
   "cell_type": "code",
   "execution_count": 10,
   "id": "70954b5b-3eef-4339-acc9-f19a2e4c150e",
   "metadata": {},
   "outputs": [
    {
     "data": {
      "text/plain": [
       "True"
      ]
     },
     "execution_count": 10,
     "metadata": {},
     "output_type": "execute_result"
    }
   ],
   "source": [
    "bool(number)"
   ]
  },
  {
   "cell_type": "code",
   "execution_count": 11,
   "id": "fc9c8fe5-721f-40d1-8681-212fa4907ad5",
   "metadata": {},
   "outputs": [
    {
     "data": {
      "text/plain": [
       "False"
      ]
     },
     "execution_count": 11,
     "metadata": {},
     "output_type": "execute_result"
    }
   ],
   "source": [
    "int(100.25)\n",
    "str(100.25)\n",
    "bool(100.25)"
   ]
  },
  {
   "cell_type": "code",
   "execution_count": 12,
   "id": "d0260492-e06d-4073-a0f9-10fe92cb29cd",
   "metadata": {},
   "outputs": [
    {
     "name": "stdout",
     "output_type": "stream",
     "text": [
      "python\n"
     ]
    }
   ],
   "source": [
    "print('python')"
   ]
  },
  {
   "cell_type": "code",
   "execution_count": 13,
   "id": "abf4e880-fcd0-4233-b006-de247015d3f2",
   "metadata": {},
   "outputs": [
    {
     "data": {
      "text/plain": [
       "(100, '100.25', True, False)"
      ]
     },
     "execution_count": 13,
     "metadata": {},
     "output_type": "execute_result"
    }
   ],
   "source": [
    "int(100.25),str(100.25),bool(100.25),bool(0.0)"
   ]
  },
  {
   "cell_type": "markdown",
   "id": "b360b12d-a2de-4282-8faa-7149b03de54b",
   "metadata": {},
   "source": [
    "$float to integer$"
   ]
  },
  {
   "cell_type": "code",
   "execution_count": 14,
   "id": "a333681e-0722-4b67-b37d-8a35c66dbd52",
   "metadata": {},
   "outputs": [
    {
     "data": {
      "text/plain": [
       "(100, 100.0, True)"
      ]
     },
     "execution_count": 14,
     "metadata": {},
     "output_type": "execute_result"
    }
   ],
   "source": [
    "int('100'),float('100'),bool('100')\n"
   ]
  },
  {
   "cell_type": "code",
   "execution_count": 15,
   "id": "6ebda0ca-3a1c-45e9-8858-55848ca1bb4e",
   "metadata": {},
   "outputs": [
    {
     "data": {
      "text/plain": [
       "100.34"
      ]
     },
     "execution_count": 15,
     "metadata": {},
     "output_type": "execute_result"
    }
   ],
   "source": [
    "float('100.34')"
   ]
  },
  {
   "cell_type": "code",
   "execution_count": 16,
   "id": "01452ee4-c8d8-41bc-8e6b-eb396d16651b",
   "metadata": {},
   "outputs": [
    {
     "data": {
      "text/plain": [
       "True"
      ]
     },
     "execution_count": 16,
     "metadata": {},
     "output_type": "execute_result"
    }
   ],
   "source": [
    "bool('100.34')"
   ]
  },
  {
   "cell_type": "code",
   "execution_count": 17,
   "id": "529fcf07-248f-4696-9051-f493360f46d0",
   "metadata": {},
   "outputs": [
    {
     "ename": "ValueError",
     "evalue": "invalid literal for int() with base 10: '100.34'",
     "output_type": "error",
     "traceback": [
      "\u001b[1;31m---------------------------------------------------------------------------\u001b[0m",
      "\u001b[1;31mValueError\u001b[0m                                Traceback (most recent call last)",
      "Cell \u001b[1;32mIn[17], line 1\u001b[0m\n\u001b[1;32m----> 1\u001b[0m \u001b[38;5;28mint\u001b[39m(\u001b[38;5;124m'\u001b[39m\u001b[38;5;124m100.34\u001b[39m\u001b[38;5;124m'\u001b[39m)\n",
      "\u001b[1;31mValueError\u001b[0m: invalid literal for int() with base 10: '100.34'"
     ]
    }
   ],
   "source": [
    "int('100.34')"
   ]
  },
  {
   "cell_type": "code",
   "execution_count": 19,
   "id": "1a4070d0-448a-4f61-bc6b-6e07d98083eb",
   "metadata": {},
   "outputs": [
    {
     "data": {
      "text/plain": [
       "(100, 100, 100)"
      ]
     },
     "execution_count": 19,
     "metadata": {},
     "output_type": "execute_result"
    }
   ],
   "source": [
    "int(100.25),int(100),int('100')"
   ]
  },
  {
   "cell_type": "code",
   "execution_count": 20,
   "id": "eaf0c761-03c7-4f9f-99b5-7d7092881635",
   "metadata": {},
   "outputs": [
    {
     "ename": "ValueError",
     "evalue": "invalid literal for int() with base 10: '100.35'",
     "output_type": "error",
     "traceback": [
      "\u001b[1;31m---------------------------------------------------------------------------\u001b[0m",
      "\u001b[1;31mValueError\u001b[0m                                Traceback (most recent call last)",
      "Cell \u001b[1;32mIn[20], line 1\u001b[0m\n\u001b[1;32m----> 1\u001b[0m \u001b[38;5;28mint\u001b[39m(\u001b[38;5;124m'\u001b[39m\u001b[38;5;124m100.35\u001b[39m\u001b[38;5;124m'\u001b[39m)\n",
      "\u001b[1;31mValueError\u001b[0m: invalid literal for int() with base 10: '100.35'"
     ]
    }
   ],
   "source": [
    "int('100.35')"
   ]
  },
  {
   "cell_type": "code",
   "execution_count": 21,
   "id": "528c5b63-0e35-4b45-a366-57a1726782f6",
   "metadata": {},
   "outputs": [
    {
     "data": {
      "text/plain": [
       "12"
      ]
     },
     "execution_count": 21,
     "metadata": {},
     "output_type": "execute_result"
    }
   ],
   "source": [
    "int(12.4)"
   ]
  },
  {
   "cell_type": "code",
   "execution_count": 22,
   "id": "6a8326d0-7f1e-4b87-89eb-f39f64ed7c9b",
   "metadata": {},
   "outputs": [
    {
     "ename": "ValueError",
     "evalue": "invalid literal for int() with base 10: 'python'",
     "output_type": "error",
     "traceback": [
      "\u001b[1;31m---------------------------------------------------------------------------\u001b[0m",
      "\u001b[1;31mValueError\u001b[0m                                Traceback (most recent call last)",
      "Cell \u001b[1;32mIn[22], line 1\u001b[0m\n\u001b[1;32m----> 1\u001b[0m \u001b[38;5;28mint\u001b[39m(\u001b[38;5;124m'\u001b[39m\u001b[38;5;124mpython\u001b[39m\u001b[38;5;124m'\u001b[39m)\n",
      "\u001b[1;31mValueError\u001b[0m: invalid literal for int() with base 10: 'python'"
     ]
    }
   ],
   "source": [
    "int('python')"
   ]
  },
  {
   "cell_type": "code",
   "execution_count": 23,
   "id": "47831016-f413-494d-9ffd-54ad4f5f4e96",
   "metadata": {},
   "outputs": [
    {
     "ename": "ValueError",
     "evalue": "could not convert string to float: 'python'",
     "output_type": "error",
     "traceback": [
      "\u001b[1;31m---------------------------------------------------------------------------\u001b[0m",
      "\u001b[1;31mValueError\u001b[0m                                Traceback (most recent call last)",
      "Cell \u001b[1;32mIn[23], line 1\u001b[0m\n\u001b[1;32m----> 1\u001b[0m \u001b[38;5;28mfloat\u001b[39m(\u001b[38;5;124m'\u001b[39m\u001b[38;5;124mpython\u001b[39m\u001b[38;5;124m'\u001b[39m)\n",
      "\u001b[1;31mValueError\u001b[0m: could not convert string to float: 'python'"
     ]
    }
   ],
   "source": [
    "float('python')"
   ]
  },
  {
   "cell_type": "code",
   "execution_count": 24,
   "id": "41a33d94-453a-4cde-9a16-376d96ac5113",
   "metadata": {},
   "outputs": [
    {
     "data": {
      "text/plain": [
       "True"
      ]
     },
     "execution_count": 24,
     "metadata": {},
     "output_type": "execute_result"
    }
   ],
   "source": [
    "bool('python')"
   ]
  },
  {
   "cell_type": "code",
   "execution_count": 26,
   "id": "c38733d0-37c8-4751-9267-9e666743e581",
   "metadata": {},
   "outputs": [
    {
     "data": {
      "text/plain": [
       "True"
      ]
     },
     "execution_count": 26,
     "metadata": {},
     "output_type": "execute_result"
    }
   ],
   "source": [
    "bool('0')"
   ]
  },
  {
   "cell_type": "code",
   "execution_count": 27,
   "id": "11493692-bac9-4840-989b-d6bb3c489a08",
   "metadata": {},
   "outputs": [
    {
     "data": {
      "text/plain": [
       "False"
      ]
     },
     "execution_count": 27,
     "metadata": {},
     "output_type": "execute_result"
    }
   ],
   "source": [
    "bool('')"
   ]
  },
  {
   "cell_type": "code",
   "execution_count": 28,
   "id": "d6b31eb5-1d21-49bf-9a25-1377eb889015",
   "metadata": {},
   "outputs": [
    {
     "data": {
      "text/plain": [
       "True"
      ]
     },
     "execution_count": 28,
     "metadata": {},
     "output_type": "execute_result"
    }
   ],
   "source": [
    "bool('100')"
   ]
  },
  {
   "cell_type": "code",
   "execution_count": 29,
   "id": "b6a044c4-66a2-4c87-9a9c-80f85a0bfc5f",
   "metadata": {},
   "outputs": [
    {
     "data": {
      "text/plain": [
       "100.0"
      ]
     },
     "execution_count": 29,
     "metadata": {},
     "output_type": "execute_result"
    }
   ],
   "source": [
    "float(100)"
   ]
  },
  {
   "cell_type": "code",
   "execution_count": 31,
   "id": "c96c411a-39d7-4013-951e-fda337684abe",
   "metadata": {},
   "outputs": [
    {
     "data": {
      "text/plain": [
       "0"
      ]
     },
     "execution_count": 31,
     "metadata": {},
     "output_type": "execute_result"
    }
   ],
   "source": [
    "int(False)"
   ]
  },
  {
   "cell_type": "code",
   "execution_count": 32,
   "id": "afc5cad0-0653-4154-bd2c-8fe2d9bbbf62",
   "metadata": {},
   "outputs": [
    {
     "data": {
      "text/plain": [
       "1"
      ]
     },
     "execution_count": 32,
     "metadata": {},
     "output_type": "execute_result"
    }
   ],
   "source": [
    "int(True)"
   ]
  },
  {
   "cell_type": "code",
   "execution_count": 33,
   "id": "6553e840-574e-42b2-9a37-cd973a6a388c",
   "metadata": {},
   "outputs": [
    {
     "data": {
      "text/plain": [
       "1.0"
      ]
     },
     "execution_count": 33,
     "metadata": {},
     "output_type": "execute_result"
    }
   ],
   "source": [
    "float(True)"
   ]
  },
  {
   "cell_type": "code",
   "execution_count": 34,
   "id": "342240fb-cff8-4f9b-b320-3d76a073a31e",
   "metadata": {},
   "outputs": [
    {
     "data": {
      "text/plain": [
       "0.0"
      ]
     },
     "execution_count": 34,
     "metadata": {},
     "output_type": "execute_result"
    }
   ],
   "source": [
    "float(False)"
   ]
  },
  {
   "cell_type": "code",
   "execution_count": 35,
   "id": "b435f387-3138-489c-b1cc-5519ae7bd07a",
   "metadata": {},
   "outputs": [
    {
     "data": {
      "text/plain": [
       "128.7"
      ]
     },
     "execution_count": 35,
     "metadata": {},
     "output_type": "execute_result"
    }
   ],
   "source": [
    "float('128.7')"
   ]
  },
  {
   "cell_type": "code",
   "execution_count": 36,
   "id": "97a13cf7-8d1f-4fc2-9851-aa5257b3e768",
   "metadata": {},
   "outputs": [
    {
     "data": {
      "text/plain": [
       "'True'"
      ]
     },
     "execution_count": 36,
     "metadata": {},
     "output_type": "execute_result"
    }
   ],
   "source": [
    "str(True)"
   ]
  },
  {
   "cell_type": "code",
   "execution_count": 37,
   "id": "ba0c5d2f-fc83-4277-8949-31d9a48177da",
   "metadata": {},
   "outputs": [
    {
     "data": {
      "text/plain": [
       "'False'"
      ]
     },
     "execution_count": 37,
     "metadata": {},
     "output_type": "execute_result"
    }
   ],
   "source": [
    "str(False)"
   ]
  },
  {
   "cell_type": "code",
   "execution_count": null,
   "id": "7ff3803f-68af-4506-a5a7-fc6fcee26c1b",
   "metadata": {},
   "outputs": [],
   "source": []
  }
 ],
 "metadata": {
  "kernelspec": {
   "display_name": "Python 3 (ipykernel)",
   "language": "python",
   "name": "python3"
  },
  "language_info": {
   "codemirror_mode": {
    "name": "ipython",
    "version": 3
   },
   "file_extension": ".py",
   "mimetype": "text/x-python",
   "name": "python",
   "nbconvert_exporter": "python",
   "pygments_lexer": "ipython3",
   "version": "3.11.7"
  }
 },
 "nbformat": 4,
 "nbformat_minor": 5
}
