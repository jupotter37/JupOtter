{
 "cells": [
  {
   "attachments": {},
   "cell_type": "markdown",
   "id": "123456",
   "metadata": {},
   "source": [
    "<div style=\"text-align:left;font-size:2em\"><span style=\"font-weight:bolder;font-size:1.25em\">SP2273 | Learning Portfolio</span><br><br><span style=\"font-weight:bold;color:darkred\">Functions (Good)</span></div>"
   ]
  },
  {
   "attachments": {},
   "cell_type": "markdown",
   "id": "be81b0bf",
   "metadata": {},
   "source": [
    "# What to expect in this chapter"
   ]
  },
  {
   "attachments": {},
   "cell_type": "markdown",
   "id": "539168b8",
   "metadata": {},
   "source": [
    "# 1 Checks, balances, and contingencies"
   ]
  },
  {
   "attachments": {},
   "cell_type": "markdown",
   "id": "465b1ae2",
   "metadata": {},
   "source": [
    "## 1.1 assert"
   ]
  },
  {
   "cell_type": "code",
   "execution_count": 2,
   "id": "169acb60-d6e8-441c-ad88-0f5057b1ddc9",
   "metadata": {},
   "outputs": [],
   "source": [
    "x = 10"
   ]
  },
  {
   "cell_type": "code",
   "execution_count": 3,
   "id": "3f9990f4-7632-45e6-9b62-06d2d0e792df",
   "metadata": {},
   "outputs": [
    {
     "ename": "AssertionError",
     "evalue": "too high!!",
     "output_type": "error",
     "traceback": [
      "\u001b[0;31m---------------------------------------------------------------------------\u001b[0m",
      "\u001b[0;31mAssertionError\u001b[0m                            Traceback (most recent call last)",
      "Cell \u001b[0;32mIn[3], line 1\u001b[0m\n\u001b[0;32m----> 1\u001b[0m \u001b[38;5;28;01massert\u001b[39;00m x \u001b[38;5;241m<\u001b[39m \u001b[38;5;241m10\u001b[39m, \u001b[38;5;124m\"\u001b[39m\u001b[38;5;124mtoo high!!\u001b[39m\u001b[38;5;124m\"\u001b[39m\n",
      "\u001b[0;31mAssertionError\u001b[0m: too high!!"
     ]
    }
   ],
   "source": [
    "assert x < 10, \"too high!!\""
   ]
  },
  {
   "cell_type": "code",
   "execution_count": 7,
   "id": "106b1469-b36c-4f50-832f-347f7bd44a79",
   "metadata": {},
   "outputs": [],
   "source": [
    "y = 2"
   ]
  },
  {
   "cell_type": "code",
   "execution_count": 9,
   "id": "b8715176-2b4c-40fd-9417-a1a00d4dca52",
   "metadata": {},
   "outputs": [],
   "source": [
    "assert y > 0, \"x is negative!\"  "
   ]
  },
  {
   "cell_type": "code",
   "execution_count": 10,
   "id": "14f1fc58-0fcc-416c-ab66-384d36f5b745",
   "metadata": {},
   "outputs": [
    {
     "name": "stdin",
     "output_type": "stream",
     "text": [
      "what is your favourite number? 8\n"
     ]
    },
    {
     "name": "stdout",
     "output_type": "stream",
     "text": [
      "the cube of your favourite number is 512!\n"
     ]
    }
   ],
   "source": [
    "number = input (\"what is your favourite number?\")\n",
    "square = int(number)**3 \n",
    "\n",
    "print(f\"the cube of your favourite number is {square}!\")"
   ]
  },
  {
   "cell_type": "code",
   "execution_count": 11,
   "id": "ce5fb34d-8669-44bd-98d7-84a7b71db33b",
   "metadata": {},
   "outputs": [
    {
     "name": "stdin",
     "output_type": "stream",
     "text": [
      "what is your favourite number? eight \n"
     ]
    },
    {
     "ename": "ValueError",
     "evalue": "invalid literal for int() with base 10: 'eight '",
     "output_type": "error",
     "traceback": [
      "\u001b[0;31m---------------------------------------------------------------------------\u001b[0m",
      "\u001b[0;31mValueError\u001b[0m                                Traceback (most recent call last)",
      "Cell \u001b[0;32mIn[11], line 2\u001b[0m\n\u001b[1;32m      1\u001b[0m number \u001b[38;5;241m=\u001b[39m \u001b[38;5;28minput\u001b[39m (\u001b[38;5;124m\"\u001b[39m\u001b[38;5;124mwhat is your favourite number?\u001b[39m\u001b[38;5;124m\"\u001b[39m)\n\u001b[0;32m----> 2\u001b[0m square \u001b[38;5;241m=\u001b[39m \u001b[38;5;28;43mint\u001b[39;49m\u001b[43m(\u001b[49m\u001b[43mnumber\u001b[49m\u001b[43m)\u001b[49m\u001b[38;5;241m*\u001b[39m\u001b[38;5;241m*\u001b[39m\u001b[38;5;241m3\u001b[39m \n\u001b[1;32m      4\u001b[0m \u001b[38;5;28mprint\u001b[39m(\u001b[38;5;124mf\u001b[39m\u001b[38;5;124m\"\u001b[39m\u001b[38;5;124mthe cube of your favourite number is \u001b[39m\u001b[38;5;132;01m{\u001b[39;00msquare\u001b[38;5;132;01m}\u001b[39;00m\u001b[38;5;124m!\u001b[39m\u001b[38;5;124m\"\u001b[39m)\n",
      "\u001b[0;31mValueError\u001b[0m: invalid literal for int() with base 10: 'eight '"
     ]
    }
   ],
   "source": [
    "number = input (\"what is your favourite number?\")\n",
    "square = int(number)**3 \n",
    "\n",
    "print(f\"the cube of your favourite number is {square}!\")"
   ]
  },
  {
   "attachments": {},
   "cell_type": "markdown",
   "id": "f9fd8968",
   "metadata": {},
   "source": [
    "## 1.2 try-except"
   ]
  },
  {
   "cell_type": "code",
   "execution_count": 13,
   "id": "b0149263-bad7-466b-bd89-524fda087164",
   "metadata": {},
   "outputs": [
    {
     "name": "stdin",
     "output_type": "stream",
     "text": [
      "what is your favourite number? five\n"
     ]
    },
    {
     "name": "stdout",
     "output_type": "stream",
     "text": [
      "oi.. can type in a number pls >:(\n"
     ]
    }
   ],
   "source": [
    "try:     # we can have an except i.e a response for each type of error. \n",
    "    number = input (\"what is your favourite number?\")\n",
    "    square = int(number)**3 \n",
    "    print(f\"the cube of your favourite number is {square}!\")\n",
    "\n",
    "except: \n",
    "    print(f\"oi.. can type in a number pls >:(\")  #fixing value errors"
   ]
  },
  {
   "attachments": {},
   "cell_type": "markdown",
   "id": "5de3ac05",
   "metadata": {},
   "source": [
    "## 1.3 A simple suggestion"
   ]
  },
  {
   "cell_type": "code",
   "execution_count": 14,
   "id": "e44efd12-40f8-4266-829f-d4755f040074",
   "metadata": {},
   "outputs": [],
   "source": [
    "#take things slow first, then speed up later \n",
    "#make a code such that python is speaking to us and telling us what it is doing (use print) \n",
    "#this enables us to know whether our code is working rather than just waiting and not being sure if its running "
   ]
  },
  {
   "cell_type": "code",
   "execution_count": null,
   "id": "595bda71-1ad7-41f5-a048-411b6115ac17",
   "metadata": {},
   "outputs": [],
   "source": [
    "numbers =[]\n",
    "for i in range(15): \n",
    "    append.\n"
   ]
  },
  {
   "attachments": {},
   "cell_type": "markdown",
   "id": "d45d0f0f",
   "metadata": {},
   "source": [
    "# 2 Some loose ends"
   ]
  },
  {
   "attachments": {},
   "cell_type": "markdown",
   "id": "b9ca68ca",
   "metadata": {},
   "source": [
    "## 2.1 Positional, keyword and default arguments"
   ]
  },
  {
   "cell_type": "code",
   "execution_count": 20,
   "id": "2c4276e2-16ff-4b20-a03f-47acd807e703",
   "metadata": {},
   "outputs": [
    {
     "name": "stdout",
     "output_type": "stream",
     "text": [
      " 1| 2| 42\n"
     ]
    }
   ],
   "source": [
    "def side_by_side (a, b, c = 42):     #defining c again later will overwrite c = 42 \n",
    "    return f'{a: 2d}|{b: 2d}|{c: 2d}'\n"
   ]
  },
  {
   "cell_type": "code",
   "execution_count": 22,
   "id": "e87ec60d-f3eb-4a62-ae90-4560b7e40550",
   "metadata": {},
   "outputs": [
    {
     "data": {
      "text/plain": [
       "' 1| 2| 42'"
      ]
     },
     "execution_count": 22,
     "metadata": {},
     "output_type": "execute_result"
    }
   ],
   "source": [
    "side_by_side(1,2)   #2 positional arguments, 1 default "
   ]
  },
  {
   "cell_type": "code",
   "execution_count": 29,
   "id": "4cf2bd48-a00f-4933-9d0a-a8035d065788",
   "metadata": {},
   "outputs": [
    {
     "data": {
      "text/plain": [
       "' 3| 6| 9'"
      ]
     },
     "execution_count": 29,
     "metadata": {},
     "output_type": "execute_result"
    }
   ],
   "source": [
    "side_by_side(3,6,9)   #3 positional arguments, value of c is overwritten"
   ]
  },
  {
   "cell_type": "code",
   "execution_count": null,
   "id": "b5bea046-6285-44d6-9ba0-7d04b3ca80ff",
   "metadata": {},
   "outputs": [],
   "source": [
    "side_by_side(a = 1, b = 2)   # 2 keyword arguments, 1 default "
   ]
  },
  {
   "cell_type": "code",
   "execution_count": 23,
   "id": "53ad0b75-a66d-478b-8194-689a75db1842",
   "metadata": {},
   "outputs": [
    {
     "data": {
      "text/plain": [
       "' 1| 2| 5'"
      ]
     },
     "execution_count": 23,
     "metadata": {},
     "output_type": "execute_result"
    }
   ],
   "source": [
    "side_by_side(a = 1, b = 2, c = 5)   # 3 keyword arguments, default value of c is overwritten"
   ]
  },
  {
   "cell_type": "code",
   "execution_count": 24,
   "id": "527ae745-948e-4181-96a0-242027abcaf1",
   "metadata": {},
   "outputs": [
    {
     "ename": "SyntaxError",
     "evalue": "positional argument follows keyword argument (794444605.py, line 1)",
     "output_type": "error",
     "traceback": [
      "\u001b[0;36m  Cell \u001b[0;32mIn[24], line 1\u001b[0;36m\u001b[0m\n\u001b[0;31m    side_by_side(1, b = 1, 5)   #cannot have positional argument after keyword argument because it MAY result in errors\u001b[0m\n\u001b[0m                            ^\u001b[0m\n\u001b[0;31mSyntaxError\u001b[0m\u001b[0;31m:\u001b[0m positional argument follows keyword argument\n"
     ]
    }
   ],
   "source": [
    "side_by_side(1, b = 1, 5)   #cannot have positional argument after keyword argument because it MAY result in errors "
   ]
  },
  {
   "cell_type": "code",
   "execution_count": 25,
   "id": "578bac01-3568-42a4-ae94-1eece06a132e",
   "metadata": {},
   "outputs": [
    {
     "data": {
      "text/plain": [
       "' 1| 2| 5'"
      ]
     },
     "execution_count": 25,
     "metadata": {},
     "output_type": "execute_result"
    }
   ],
   "source": [
    "side_by_side(1, b = 2, c = 5)   #sometimes having a combination of both keyword and positional arguments "
   ]
  },
  {
   "cell_type": "code",
   "execution_count": 26,
   "id": "4fbe83cb-1ba6-46a6-8589-fdd8314d3b99",
   "metadata": {},
   "outputs": [
    {
     "ename": "TypeError",
     "evalue": "side_by_side() got multiple values for argument 'a'",
     "output_type": "error",
     "traceback": [
      "\u001b[0;31m---------------------------------------------------------------------------\u001b[0m",
      "\u001b[0;31mTypeError\u001b[0m                                 Traceback (most recent call last)",
      "Cell \u001b[0;32mIn[26], line 1\u001b[0m\n\u001b[0;32m----> 1\u001b[0m \u001b[43mside_by_side\u001b[49m\u001b[43m(\u001b[49m\u001b[38;5;241;43m2\u001b[39;49m\u001b[43m,\u001b[49m\u001b[43m \u001b[49m\u001b[43mb\u001b[49m\u001b[43m \u001b[49m\u001b[38;5;241;43m=\u001b[39;49m\u001b[43m \u001b[49m\u001b[38;5;241;43m4\u001b[39;49m\u001b[43m,\u001b[49m\u001b[43m \u001b[49m\u001b[43mc\u001b[49m\u001b[43m \u001b[49m\u001b[38;5;241;43m=\u001b[39;49m\u001b[43m \u001b[49m\u001b[38;5;241;43m7\u001b[39;49m\u001b[43m,\u001b[49m\u001b[43m \u001b[49m\u001b[43ma\u001b[49m\u001b[43m \u001b[49m\u001b[38;5;241;43m=\u001b[39;49m\u001b[43m \u001b[49m\u001b[38;5;241;43m4\u001b[39;49m\u001b[43m)\u001b[49m\n",
      "\u001b[0;31mTypeError\u001b[0m: side_by_side() got multiple values for argument 'a'"
     ]
    }
   ],
   "source": [
    "side_by_side(2, b = 4, c = 7, a = 4)   #avoid giving the same variable 2 values "
   ]
  },
  {
   "cell_type": "code",
   "execution_count": null,
   "id": "6c620074-efc7-4b0f-a96d-1a53ce0f6f39",
   "metadata": {},
   "outputs": [],
   "source": []
  },
  {
   "attachments": {},
   "cell_type": "markdown",
   "id": "a0af5aae",
   "metadata": {},
   "source": [
    "## 2.2 Docstrings"
   ]
  },
  {
   "cell_type": "code",
   "execution_count": 27,
   "id": "78318683-22de-4600-ac9b-b8b138036005",
   "metadata": {},
   "outputs": [
    {
     "name": "stdout",
     "output_type": "stream",
     "text": [
      "Help on function side_by_side in module __main__:\n",
      "\n",
      "side_by_side(a, b, c=42)\n",
      "\n"
     ]
    }
   ],
   "source": [
    "help(side_by_side)   #python function 'help'"
   ]
  },
  {
   "cell_type": "code",
   "execution_count": 28,
   "id": "c2e00766-8626-4608-a4ca-0a6db0e3bda7",
   "metadata": {},
   "outputs": [
    {
     "data": {
      "text/plain": [
       "\u001b[0;31mSignature:\u001b[0m \u001b[0mside_by_side\u001b[0m\u001b[0;34m(\u001b[0m\u001b[0ma\u001b[0m\u001b[0;34m,\u001b[0m \u001b[0mb\u001b[0m\u001b[0;34m,\u001b[0m \u001b[0mc\u001b[0m\u001b[0;34m=\u001b[0m\u001b[0;36m42\u001b[0m\u001b[0;34m)\u001b[0m\u001b[0;34m\u001b[0m\u001b[0;34m\u001b[0m\u001b[0m\n",
       "\u001b[0;31mDocstring:\u001b[0m <no docstring>\n",
       "\u001b[0;31mFile:\u001b[0m      /var/folders/7f/5zgdxx7d5h3_x8817dkfznc80000gn/T/ipykernel_20426/3435698927.py\n",
       "\u001b[0;31mType:\u001b[0m      function"
      ]
     },
     "metadata": {},
     "output_type": "display_data"
    }
   ],
   "source": [
    "?side_by_side   #jupyter notebook generated info through '?' "
   ]
  },
  {
   "attachments": {},
   "cell_type": "markdown",
   "id": "c51ca319",
   "metadata": {},
   "source": [
    "## 2.3 Function are first-class citizens"
   ]
  },
  {
   "cell_type": "code",
   "execution_count": 33,
   "id": "69fb4322-c4f7-489d-9527-37ad73da1ddb",
   "metadata": {},
   "outputs": [],
   "source": [
    "def my_function(angle, input_function):\n",
    "    return input_function(angle)\n",
    "    "
   ]
  },
  {
   "cell_type": "code",
   "execution_count": 37,
   "id": "e6c798ab-a65d-4a66-bb1c-893e6771a46b",
   "metadata": {},
   "outputs": [
    {
     "data": {
      "text/plain": [
       "1.2246467991473532e-16"
      ]
     },
     "execution_count": 37,
     "metadata": {},
     "output_type": "execute_result"
    }
   ],
   "source": [
    "import numpy as np\n",
    "my_function(np.pi, np.sin)"
   ]
  },
  {
   "cell_type": "code",
   "execution_count": 39,
   "id": "c0ad33c2-8d4a-4dda-b397-2530f51076d9",
   "metadata": {},
   "outputs": [
    {
     "data": {
      "text/plain": [
       "1.2246467991473532e-16"
      ]
     },
     "execution_count": 39,
     "metadata": {},
     "output_type": "execute_result"
    }
   ],
   "source": [
    "my_function(angle = np.pi, input_function = np.sin)"
   ]
  },
  {
   "cell_type": "code",
   "execution_count": 40,
   "id": "b393f284-47c0-4284-a083-cf447bb9611a",
   "metadata": {},
   "outputs": [
    {
     "data": {
      "text/plain": [
       "-1.0"
      ]
     },
     "execution_count": 40,
     "metadata": {},
     "output_type": "execute_result"
    }
   ],
   "source": [
    "my_function(angle = np.pi, input_function = np.cos)"
   ]
  },
  {
   "cell_type": "code",
   "execution_count": 42,
   "id": "c42b3819-0da2-4104-adc0-d428fcbf7b0d",
   "metadata": {},
   "outputs": [
    {
     "ename": "TypeError",
     "evalue": "'numpy.float64' object is not callable",
     "output_type": "error",
     "traceback": [
      "\u001b[0;31m---------------------------------------------------------------------------\u001b[0m",
      "\u001b[0;31mTypeError\u001b[0m                                 Traceback (most recent call last)",
      "Cell \u001b[0;32mIn[42], line 1\u001b[0m\n\u001b[0;32m----> 1\u001b[0m \u001b[43mmy_function\u001b[49m\u001b[43m(\u001b[49m\u001b[43mangle\u001b[49m\u001b[43m \u001b[49m\u001b[38;5;241;43m=\u001b[39;49m\u001b[43m \u001b[49m\u001b[43mnp\u001b[49m\u001b[38;5;241;43m.\u001b[39;49m\u001b[43mpi\u001b[49m\u001b[43m,\u001b[49m\u001b[43m \u001b[49m\u001b[43minput_function\u001b[49m\u001b[43m \u001b[49m\u001b[38;5;241;43m=\u001b[39;49m\u001b[43m \u001b[49m\u001b[43mnp\u001b[49m\u001b[38;5;241;43m.\u001b[39;49m\u001b[43mcos\u001b[49m\u001b[43m(\u001b[49m\u001b[38;5;241;43m1\u001b[39;49m\u001b[43m)\u001b[49m\u001b[43m)\u001b[49m   \u001b[38;5;66;03m#DO NOT use brackets e.g cos() because fixed values like cos(1) is not callable since its a fixed vcalue \u001b[39;00m\n",
      "Cell \u001b[0;32mIn[33], line 2\u001b[0m, in \u001b[0;36mmy_function\u001b[0;34m(angle, input_function)\u001b[0m\n\u001b[1;32m      1\u001b[0m \u001b[38;5;28;01mdef\u001b[39;00m \u001b[38;5;21mmy_function\u001b[39m(angle, input_function):\n\u001b[0;32m----> 2\u001b[0m     \u001b[38;5;28;01mreturn\u001b[39;00m \u001b[43minput_function\u001b[49m\u001b[43m(\u001b[49m\u001b[43mangle\u001b[49m\u001b[43m)\u001b[49m\n",
      "\u001b[0;31mTypeError\u001b[0m: 'numpy.float64' object is not callable"
     ]
    }
   ],
   "source": [
    "my_function(angle = np.pi, input_function = np.cos(1))   #DO NOT use brackets e.g cos() because fixed values like cos(1) is not callable since its a fixed vcalue "
   ]
  },
  {
   "cell_type": "code",
   "execution_count": 43,
   "id": "a88640cc-3177-4ee3-9f7e-306b4229f466",
   "metadata": {},
   "outputs": [
    {
     "data": {
      "text/plain": [
       "-1.0"
      ]
     },
     "execution_count": 43,
     "metadata": {},
     "output_type": "execute_result"
    }
   ],
   "source": [
    "my_function(np.pi/2, lambda x: np.cos(2*x))  #clarify "
   ]
  },
  {
   "attachments": {},
   "cell_type": "markdown",
   "id": "d78d12aa",
   "metadata": {},
   "source": [
    "## 2.4 More about unpacking"
   ]
  },
  {
   "cell_type": "code",
   "execution_count": null,
   "id": "f7d183d8-f8bc-40c5-86c2-fed821360dad",
   "metadata": {},
   "outputs": [],
   "source": []
  }
 ],
 "metadata": {
  "kernelspec": {
   "display_name": "Python 3 (ipykernel)",
   "language": "python",
   "name": "python3"
  },
  "language_info": {
   "codemirror_mode": {
    "name": "ipython",
    "version": 3
   },
   "file_extension": ".py",
   "mimetype": "text/x-python",
   "name": "python",
   "nbconvert_exporter": "python",
   "pygments_lexer": "ipython3",
   "version": "3.11.7"
  },
  "toc": {
   "base_numbering": 1,
   "nav_menu": {},
   "number_sections": true,
   "sideBar": true,
   "skip_h1_title": false,
   "title_cell": "Table of Contents",
   "title_sidebar": "Contents",
   "toc_cell": false,
   "toc_position": {},
   "toc_section_display": true,
   "toc_window_display": false
  },
  "vscode": {
   "interpreter": {
    "hash": "31f2aee4e71d21fbe5cf8b01ff0e069b9275f58929596ceb00d14d90e3e16cd6"
   }
  }
 },
 "nbformat": 4,
 "nbformat_minor": 5
}
