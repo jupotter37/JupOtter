{
 "cells": [
  {
   "cell_type": "code",
   "execution_count": 16,
   "id": "90f7ca35-6b83-4c66-bc21-f54345a4e729",
   "metadata": {},
   "outputs": [
    {
     "name": "stdin",
     "output_type": "stream",
     "text": [
      " A1 A2 5\n",
      " B\n",
      " L\n",
      " LB\n",
      " RB\n",
      " LT\n"
     ]
    },
    {
     "name": "stdout",
     "output_type": "stream",
     "text": [
      "A1\n",
      "A2\n"
     ]
    }
   ],
   "source": [
    "# function to check if a position is valid\n",
    "def is_valid_pos(pos):\n",
    "    return pos[0] in range(8) and pos[1] in range(8)\n",
    "\n",
    "# function to move the king and the stone\n",
    "def move(king_pos, stone_pos, move_type):\n",
    "    # king's new position\n",
    "    new_king_pos = [king_pos[0], king_pos[1]]\n",
    "    # stone's new position\n",
    "    new_stone_pos = [stone_pos[0], stone_pos[1]]\n",
    "    # move the king and the stone according to the move_type\n",
    "    if move_type == 'R':\n",
    "        new_king_pos[0] += 1\n",
    "    elif move_type == 'L':\n",
    "        new_king_pos[0] -= 1\n",
    "    elif move_type == 'B':\n",
    "        new_king_pos[1] -= 1\n",
    "    elif move_type == 'T':\n",
    "        new_king_pos[1] += 1\n",
    "    elif move_type == 'RT':\n",
    "        new_king_pos[1] += 1\n",
    "        new_king_pos[0] += 1\n",
    "    elif move_type == 'LT':\n",
    "        new_king_pos[0] -= 1\n",
    "        new_king_pos[1] += 1\n",
    "    elif move_type == 'RB':\n",
    "        new_king_pos[0] += 1\n",
    "        new_king_pos[1] -= 1\n",
    "    elif move_type == 'LB':\n",
    "        new_king_pos[0] -= 1\n",
    "        new_king_pos[1] -= 1\n",
    "    # check if the new king's position is valid\n",
    "    if not is_valid_pos(new_king_pos):\n",
    "        return king_pos, stone_pos\n",
    "    # move the stone if the king moves to the same position as the stone\n",
    "    if new_king_pos == stone_pos:\n",
    "        # calculate the new position of the stone\n",
    "        new_stone_pos[0] += new_king_pos[0] - king_pos[0]\n",
    "        new_stone_pos[1] += new_king_pos[1] - king_pos[1]\n",
    "        # check if the new position of the stone is valid\n",
    "        if not is_valid_pos(new_stone_pos):\n",
    "            return king_pos, stone_pos\n",
    "    # return the new positions of the king and the stone\n",
    "    return new_king_pos, new_stone_pos\n",
    "\n",
    "# read the initial positions and the number of moves\n",
    "king_pos, stone_pos, n_moves = input().split()\n",
    "king_pos = [ord(king_pos[0])-ord('A'), int(king_pos[1])-1]\n",
    "stone_pos = [ord(stone_pos[0])-ord('A'), int(stone_pos[1])-1]\n",
    "n_moves = int(n_moves)\n",
    "\n",
    "# move the king and the stone according to the input moves\n",
    "for _ in range(n_moves):\n",
    "    move_type = input().strip()\n",
    "    king_pos, stone_pos = move(king_pos, stone_pos, move_type)\n",
    "\n",
    "# print the final positions of the king and the stone\n",
    "print(chr(king_pos[0]+ord('A')) + str(king_pos[1]+1))\n",
    "print(chr(stone_pos[0]+ord('A')) + str(stone_pos[1]+1))\n"
   ]
  },
  {
   "cell_type": "code",
   "execution_count": null,
   "id": "876019c0-c9b8-4a8c-afdd-9663ffcb4455",
   "metadata": {},
   "outputs": [],
   "source": []
  },
  {
   "cell_type": "code",
   "execution_count": null,
   "id": "8ec97d9d-4eaf-43ae-b4bc-b398a9801c17",
   "metadata": {},
   "outputs": [],
   "source": []
  },
  {
   "cell_type": "code",
   "execution_count": 11,
   "id": "e082afc8-133e-49ef-9617-486a21bb64b6",
   "metadata": {},
   "outputs": [
    {
     "ename": "ValueError",
     "evalue": "invalid literal for int() with base 10: 'A'",
     "output_type": "error",
     "traceback": [
      "\u001b[1;31m---------------------------------------------------------------------------\u001b[0m",
      "\u001b[1;31mValueError\u001b[0m                                Traceback (most recent call last)",
      "\u001b[1;32m~\\AppData\\Local\\Temp\\ipykernel_18940\\2042716584.py\u001b[0m in \u001b[0;36m<module>\u001b[1;34m\u001b[0m\n\u001b[1;32m----> 1\u001b[1;33m \u001b[0mint\u001b[0m\u001b[1;33m(\u001b[0m\u001b[1;34m\"A\"\u001b[0m\u001b[1;33m)\u001b[0m\u001b[1;33m+\u001b[0m\u001b[1;36m1\u001b[0m\u001b[1;33m\u001b[0m\u001b[1;33m\u001b[0m\u001b[0m\n\u001b[0m",
      "\u001b[1;31mValueError\u001b[0m: invalid literal for int() with base 10: 'A'"
     ]
    }
   ],
   "source": []
  }
 ],
 "metadata": {
  "kernelspec": {
   "display_name": "Python 3 (ipykernel)",
   "language": "python",
   "name": "python3"
  },
  "language_info": {
   "codemirror_mode": {
    "name": "ipython",
    "version": 3
   },
   "file_extension": ".py",
   "mimetype": "text/x-python",
   "name": "python",
   "nbconvert_exporter": "python",
   "pygments_lexer": "ipython3",
   "version": "3.9.13"
  }
 },
 "nbformat": 4,
 "nbformat_minor": 5
}
