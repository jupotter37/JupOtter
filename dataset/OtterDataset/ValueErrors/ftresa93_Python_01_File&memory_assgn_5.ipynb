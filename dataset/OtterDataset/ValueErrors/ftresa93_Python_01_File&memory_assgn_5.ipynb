{
  "nbformat": 4,
  "nbformat_minor": 0,
  "metadata": {
    "colab": {
      "provenance": []
    },
    "kernelspec": {
      "name": "python3",
      "display_name": "Python 3"
    },
    "language_info": {
      "name": "python"
    }
  },
  "cells": [
    {
      "cell_type": "markdown",
      "source": [
        "FILE AND MEMORY MANAGEMENT QUESTION- ASSIGNMENT-6"
      ],
      "metadata": {
        "id": "NQmpYP3p0x_y"
      }
    },
    {
      "cell_type": "markdown",
      "source": [
        "Q1. What is the difference between interpreted and compiled languages?\n",
        "\n",
        "A1. Interpreted languages, code is executed line by line by an interpreter.Slower than compiled languages during execution because the code is translated on the spot. While, Compiled language is converted into machine code (binary) by a compiler before execution. Generally faster during execution because the machine code is already translated.\n",
        "\n",
        "\n",
        "---\n",
        "\n",
        "\n",
        "Q2.\tWhat is exception handling in Python?\n",
        "\n",
        "A2. An exception is an event that occurs during program execution that disrupts the flow of execution. So when an exception occurs, Python stops the program and generates an exception message.Exception handling in Python is a mechanism to manage these exceptions that occur and maintain the program's normal flow.\n",
        "\n",
        "\n",
        "---\n",
        "\n",
        "\n",
        "Q3.\tWhat is the purpose of the finally block in exception handling?\n",
        "\n",
        "A3. Finally block in exception handling, executes code regardless of whether an exception occurs or not. Typically used for cleanup tasks.\n",
        "\n",
        "---\n",
        "\n",
        "\n",
        "Q4.\tWhat is logging in Python?\n",
        "\n",
        "A4. Logging in Python provides a framework for recording and tracking events, errors, or other information during the execution of a program. Logging is essential for debugging, monitoring, and troubleshooting software.\n",
        "\n",
        "---\n",
        "\n",
        "Q5.\tWhat is the significance of the _ _ del _ _ method in Python?\n",
        "\n",
        "A5. The significance of the _ _ del _ _ method in python, it is called when an object is to be destroyed. It allows you to define clean-up actions, such as releasing resources, closing files, or other finalization tasks before the object is removed from memory.I is discouraged from using as it would lead to issues in reference counting.\n",
        "\n",
        "---\n",
        "\n"
      ],
      "metadata": {
        "id": "xS2s5Mr90cm3"
      }
    },
    {
      "cell_type": "markdown",
      "source": [
        "Q6.\tWhat is the difference between import and from ... import in Python?\n",
        "\n",
        "A6. In Python, import statement imports the whole module and have to use the module name as a prefix to access its attributes, functions, or classes.     \n",
        "Example-      \n",
        "import math      \n",
        "print(math.sqrt(16))      \n",
        "While from ... import - imports specific attributes, functions, or classes from a module. So can use the imported items directly without the module name prefix.    \n",
        "Example:-     \n",
        "from math import sqrt   \n",
        "print(sqrt(16))\n",
        "\n",
        "\n",
        "---\n",
        "\n",
        "\n",
        "Q7.\tHow can you handle multiple exceptions in Python?\n",
        "\n",
        "A7. To handle multiple exceptions in python efficiently, use a single except block which include errors as except (ValueError, ZeroDivisionError) as e: , or use an catch all exception as- except Exception as e:      \n",
        "\n",
        "Example- Specific exception  \n",
        "try:      \n",
        "    x = int(input(\"Enter a number: \"))      \n",
        "    result = 10 / x     \n",
        "except (ValueError, ZeroDivisionError) as e:\n",
        "    print(f\"An error occurred: {e}\")      \n",
        "else:   \n",
        "    print(f\"Result is: {result}\")   \n",
        "finally:      \n",
        "    print(\"Execution completed.\")\n",
        "  \n",
        "OR\n",
        "Example- Catch all exception\n",
        "\n",
        "try:      \n",
        "    x = int(input(\"Enter a number: \"))      \n",
        "    result = 10 / x     \n",
        "except Exception as e:\n",
        "    print(f\"An error occurred: {e}\")      \n",
        "else:   \n",
        "    print(f\"Result is: {result}\")   \n",
        "finally:      \n",
        "    print(\"Execution completed.\")\n",
        "\n",
        "Also, we can use Multiple except Blocks- where we specify different except blocks for each type of exception. This is useful when you want to handle each exception type differently.\n",
        "\n",
        "---\n",
        "\n",
        "\n",
        "Q8.\tWhat is the purpose of the with statement when handling files in Python?\n",
        "\n",
        "A8. The with statement in Python ensures that resources, such as files, are properly opened and closed, even if an exception occurs during the execution of the block. This eliminates the need for explicitly closing the file with file.close().\n",
        "\n",
        "\n",
        "---\n",
        "\n",
        "\n",
        "Q9.\tWhat is the difference between multithreading and multiprocessing?\n",
        "\n",
        "A9. Differences between multiprocessing and multithreading are-\n",
        "A process is an instance of a computer program. A process that runs parallely on multiple processor is called multiprocessing. A process that runs concurrently on multiple thread in a processor is called multithreading.\n",
        "\n",
        "1. Independence- In multiprocessing, each process has it own memory space and resources while in multithreading-multiple threads share the same memeory space and resources within a single process.\n",
        "2. Communication- Multiprocessing- communication is achieved through IPC mechanism like message sharing. Multithreading- threads communicate directly as memory shared.\n",
        "3. Fault Isolation- Multiprocessing- processes are isolated hence if one crashes doesnt affect the other. Multithreading as they share same memory space, it gets affected by data corruption or unintended interactions.\n",
        "4. Resource Utilization- Multi processing can take advantge of multiple CPU cores, while multithreading- suitable for I/O tasks or tasks where single process is present.\n",
        "5. Concurrency-  Multithreading involves concurrent execution of multiple threads in same process. Unlike multithreading, multiprocessing is not affected by the GIL, making it suitable for tasks that require true parallelism, especially in Python.\n",
        "\n",
        "\n",
        "---\n",
        "\n",
        "\n",
        "Q10.\tWhat are the advantages of using logging in a program?\n",
        "\n",
        "A10. Logging helps in debugging and troubleshooting- logs can be classified into different levels (e.g., DEBUG, INFO, WARNING, ERROR), providing more granularity in debugging.Secondly,they serve as documentation for how and why certain operations occur. Thirdly,helps in monitoring and analytics- provide real-time insights into application performance and user behaviour. Fourthly, improve code maintenance- Logs help developers understand the application's behavior without diving deep into the code, especially for large or complex systems.\n",
        "\n",
        "\n",
        "---\n"
      ],
      "metadata": {
        "id": "K29afVwv08aO"
      }
    },
    {
      "cell_type": "markdown",
      "source": [
        "Q11.\tWhat is memory management in Python?\n",
        "\n",
        "A11. Memory management in Python refers to the process by which Python handles the allocation, management, and deallocation of memory for objects in the program. Python handles memory allocation and deallocation automatically. Python uses reference counting as one of the techniques to keep track of memory usage. Python uses a garbage collector to detect and clean up circular references (where objects refer to each other in a cycle, preventing the reference count from ever reaching zero). The garbage collector identifies objects that are no longer in use and deallocates their memory.\n",
        "\n",
        "---\n",
        "\n",
        "\n",
        "Q12.\tWhat are the basic steps involved in exception handling in Python?\n",
        "\n",
        "A12. The basic steps in exception handling in python are first is the try block- which checks the suspicious code.Then Catch Exceptions with an except Block. Optionally, can use an else Block- which you want to execute code only if no exceptions are raised, use the else block. Use a finally block for cleanup- The finally block is optional and contains code that will run regardless of whether an exception was raised or not. It is often used for cleanup tasks like closing files or releasing resources.\n",
        "\n",
        "Example-\n",
        "\n",
        "try:    \n",
        "    num = int(input(\"Enter a number: \"))    \n",
        "    result = 10 / num       \n",
        "except Exception as e:      \n",
        "    print(\"Cannot divide by zero!\")     \n",
        "else:     \n",
        "    print(f\"The result is {result}.\")   \n",
        "finally:      \n",
        "    print(\"Execution completed.\")\n",
        "\n",
        "\n",
        "\n",
        "\n",
        "---\n",
        "\n",
        "\n",
        "Q13.\tWhy is memory management important in Python?\n",
        "\n",
        "A13. Memory management is important for effective memory management which ensures that memory is allocated efficiently and that unused memory is properly deallocated. To optimise performance and manage large data sets. In programs that use concurrency like multithreading or in multiprocessing, managing memory becomes even more critical. Threads or processes may share memory or require separate memory spaces, and improper management could lead to race conditions, data corruption, or inefficient memory usage.\n",
        "\n",
        "---\n",
        "\n",
        "\n",
        "\n",
        "Q14.\tWhat is the role of try and except in exception handling?\n",
        "\n",
        "A14. In exception handling, try block- is used to wrap the code that might raise an exception during execution. It tells Python to attempt to execute the code within it.If no error occurs in the try block, the program continues to execute normally. The except block is used to catch and handle exceptions that occur in the try block. It specifies the type of exception it can handle and executes the code inside it if that exception is raised.\n",
        "\n",
        "---\n",
        "\n",
        "\n",
        "\n",
        "Q15.\tHow does Python's garbage collection system work?\n",
        "\n",
        "A15. Python uses a garbage collector to detect and clean up circular references (where objects refer to each other in a cycle, preventing the reference count from ever reaching zero). The garbage collector identifies objects that are no longer in use and deallocates their memory.The system is built around two main concepts: reference counting and cyclic garbage collection.\n",
        "1. Refernce Counting- Python uses reference counting to keep track of the number of references to an object. Each object in memory has a reference count, which is incremented whenever a new reference to the object is created, and decremented when a reference is removed.\n",
        "2. Cyclic Garbage Collection where divides objects into three generations based on their age:\n",
        "Generation 0: New objects.\n",
        "Generation 1: Objects that survived one garbage collection cycle.\n",
        "Generation 2: Older objects that survived multiple collections.\n",
        "Younger generations are collected more frequently than older generations, under the assumption that objects that have been in use for longer are less likely to be garbage.\n",
        "\n",
        "\n",
        "---\n",
        "\n"
      ],
      "metadata": {
        "id": "qgLunB5a0_g4"
      }
    },
    {
      "cell_type": "markdown",
      "source": [
        "Q16.\tWhat is the purpose of the else block in exception handling?\n",
        "\n",
        "A16. The else block runs only if the code in the try block completes without raising any exceptions. It provides a clean way to execute code that is part of the \"normal\" execution flow, separate from exception handling. So basically keeps the normal flow of the program code.The else block is optional and is placed after all except blocks.\n",
        "\n",
        "---\n",
        "\n",
        "\n",
        "Q17.\tWhat are the common logging levels in Python?\n",
        "\n",
        "A17. In Python, the common logging levels from lowest to highest critical level are-\n",
        "1. DEBUG- Used for detailed, diagnostic information, typically useful for debugging the application.\n",
        "2. INFO-  Confirmation that things are working as expected\n",
        "3. WARNING- Used to indicate potential problems or unexpected situations that aren't necessarily errors but should be monitored. Thes software is still working.\n",
        "4. ERROR- Used for logging errors that occur during execution, typically indicating a failure in the program's operation.\n",
        "5. CRITICAL- Used for logging very serious errors that may cause the program to stop or have significant consequences.\n",
        "\n",
        "\n",
        "---\n",
        "\n",
        "\n",
        "Q18.\tWhat is the difference between os.fork() and multiprocessing in Python?\n",
        "\n",
        "A18. Level of Abstraction- os.fork(): This is a low-level system call that directly creates a child process by duplicating the calling (parent) process. In Multilprocessing- simplifies creating and managing multiple processes, offering tools for process communication, synchronization, and even managing process pools.\n",
        "Process of Creation- When os.fork() is called, the entire memory of the parent process is copied to the child process, which can be inefficient if the parent process has a large memory footprint.Each process in multiprocessing starts with a clean slate, and you can explicitly define what data or functions are shared between processes.\n",
        "os.fork() is used when you need low-level control over process creation, typically on Unix-based systems, and you don't require cross-platform support or high-level abstractions.Multiprocessing is used when you need a higher-level, easier-to-use solution for creating parallel processes that works on both Unix and Windows, with built-in tools for process communication and management.\n",
        "\n",
        "---\n",
        "\n",
        "\n",
        "Q19.\tWhat is the importance of closing a file in Python?\n",
        "\n",
        "A19. Closing a file in Python is an really importanat oressential step in file handling. When a file is opened, the operating system allocates resources (e.g., memory and file handles) to manage the file. If a file is not closed properly, these resources might not be released, leading to resource leakage, which can eventually exhaust system resources and affect performance. Also, regarding saving of changes to the file- without closing the file, changes may not be saved, or they may be lost if the program crashes or the file is not closed before the program ends.\n",
        "\n",
        "---\n",
        "\n",
        "\n",
        "Q20.\tWhat is the difference between file.read() and file.readline() in Python?\n",
        "\n",
        "A20. The difference in file.read() and file.readline() in Python is that file.read() reads the whole content of the file as a single string. While, file.readline() reads and returns one line at a time, including the newline character (\\n)\n",
        "\n",
        "\n",
        "---\n",
        "\n"
      ],
      "metadata": {
        "id": "w23h_BeJ1BzX"
      }
    },
    {
      "cell_type": "markdown",
      "source": [
        "Q21.\tWhat is the logging module in Python used for?\n",
        "\n",
        "A21. The logging module is used to keep track of all the happens when we run the code.  It is a flexible framework for emitting log messages from Python programs and is particularly useful for tracking events, debugging issues, monitoring applications, and keeping records of important actions.\n",
        "Actions like DEBUG, INFO, WARNING, ERROR and CRITICAL.\n",
        "\n",
        "---\n",
        "\n",
        "Q22.\tWhat is the os module in Python used for in file handling?\n",
        "\n",
        "A22. The os module in Python provides functionality to interact with operating system, allowing you to perform various operations on files and directories. It is used to manipulating file and directory Paths, check if file or directory exists, creating and removing directories, etc.\n",
        "\n",
        "---\n",
        "\n",
        "\n",
        "Q23.\tWhat are the challenges associated with memory management in Python?\n",
        "\n",
        "A23.The challenges associated with memory management in Python are:-\n",
        "Python uses reference counting and cyclic garbage collection to manage memory. While this simplifies memory management, it can sometimes lead to issues such as memory leaks or circular references that are not immediately collected by the garbage collector.As objects are created and destroyed in Python, memory fragmentation may occur. When working with large datasets or complex data structures, memory consumption can grow rapidly.\n",
        "The GIL in Python allows only one thread to execute Python bytecode at a time, which can affect performance in multi-threaded programs. While the GIL helps manage memory safely in multi-threaded environments, it may cause bottlenecks when trying to utilize multi-core processors fully.\n",
        "\n",
        "---\n",
        "\n",
        "Q24.\tHow do you raise an exception manually in Python?\n",
        "\n",
        "A24. In Python, you can manually raise an exception using the raise keyword. It is used to indicate an error or unexpected condition has occurred in your program, and you want to interrupt the normal flow of execution and transfer control to an exception handler.   \n",
        "Example-      \n",
        "raise Exception(\"Error message\")\n",
        "\n",
        "\n",
        "---\n",
        "\n",
        "\n",
        "Q25.\tWhy is it important to use multithreading in certain applications?\n",
        "\n",
        "A25. It is important to use multithreading in certain applications because multithreading facilitates concurrent execution of tasks, allowing different parts of a program to progress independently. In applications that perform I/O operations, multithreading allows threads to be suspended while waiting for I/O operations to complete, and other threads can continue executing. Multithreading can improve the scalability of applications.\n",
        "\n",
        "---\n",
        "\n"
      ],
      "metadata": {
        "id": "tWIlSN1b1EAd"
      }
    },
    {
      "cell_type": "markdown",
      "source": [
        "PRACTICAL QUESTIONS"
      ],
      "metadata": {
        "id": "N5s4-Kpu4foQ"
      }
    },
    {
      "cell_type": "code",
      "source": [
        "#Q1.\tHow can you open a file for writing in Python and write a string to it?\n",
        "\n",
        "f1= open(\"example.txt\",'w')\n",
        "f1.write(\"helllo ,world!\\n\")\n",
        "f1.write('studying DS\\n')\n",
        "f1.close() #to see the string written in the file"
      ],
      "metadata": {
        "id": "74crxvBL4MlP"
      },
      "execution_count": 25,
      "outputs": []
    },
    {
      "cell_type": "code",
      "source": [
        "#or second method\n",
        "with open(\"example_content.txt\",'w') as file:\n",
        "  file.write(\"helllo ,world!\\n\")\n",
        "  file.write('studying DS\\n')"
      ],
      "metadata": {
        "id": "7NX-VyF0lBYd"
      },
      "execution_count": 26,
      "outputs": []
    },
    {
      "cell_type": "code",
      "source": [
        "#Q2.\tWrite a Python program to read the contents of a file and print each line.\n",
        "\n",
        "f2= open(\"example.txt\",'r')\n",
        "print(f2.readlines())\n",
        "f2.close()"
      ],
      "metadata": {
        "id": "-sCLzwYx4MsO",
        "colab": {
          "base_uri": "https://localhost:8080/"
        },
        "outputId": "4813af7f-aa70-4736-84c7-ae779f46ba3b"
      },
      "execution_count": 27,
      "outputs": [
        {
          "output_type": "stream",
          "name": "stdout",
          "text": [
            "['helllo ,world!\\n', 'studying DS\\n']\n"
          ]
        }
      ]
    },
    {
      "cell_type": "code",
      "source": [
        "#or second method\n",
        "with open(\"example_content.txt\",'r') as file:\n",
        "  data = file.read()\n",
        "  print(data)"
      ],
      "metadata": {
        "colab": {
          "base_uri": "https://localhost:8080/"
        },
        "id": "aFXWN8F0la2-",
        "outputId": "a2377f68-04d0-4963-aa3f-6e8d834bda5f"
      },
      "execution_count": 28,
      "outputs": [
        {
          "output_type": "stream",
          "name": "stdout",
          "text": [
            "helllo ,world!\n",
            "studying DS\n",
            "\n"
          ]
        }
      ]
    },
    {
      "cell_type": "code",
      "source": [
        "#Q3.\tHow would you handle a case where the file doesn't exist while trying to open it for reading?\n",
        "\n",
        "try:\n",
        "  f3= open(\"example_1.txt\",'r')\n",
        "except FileNotFoundError as e:\n",
        "    print(f\"Error: {e}\")\n",
        "except Exception as e:\n",
        "    print(f\"An unexpected error occurred: {e}\")"
      ],
      "metadata": {
        "id": "njED60iZ4MvP",
        "colab": {
          "base_uri": "https://localhost:8080/"
        },
        "outputId": "b78cf98a-e31f-4a31-f721-189423d9c29e"
      },
      "execution_count": 29,
      "outputs": [
        {
          "output_type": "stream",
          "name": "stdout",
          "text": [
            "Error: [Errno 2] No such file or directory: 'example_1.txt'\n"
          ]
        }
      ]
    },
    {
      "cell_type": "code",
      "source": [
        "#Q4.\tWrite a Python script that reads from one file and writes its content to another file.\n",
        "\n",
        "with open(\"example_content.txt\",'r') as file:\n",
        "  data = file.read()\n",
        "\n",
        "with open(\"example_2.txt\",'w') as file:\n",
        "  file.write(data)\n",
        "  print(data)"
      ],
      "metadata": {
        "id": "rNsg9Wy84MyW",
        "colab": {
          "base_uri": "https://localhost:8080/"
        },
        "outputId": "c9839871-1197-4937-d404-2b1253019e2e"
      },
      "execution_count": 30,
      "outputs": [
        {
          "output_type": "stream",
          "name": "stdout",
          "text": [
            "helllo ,world!\n",
            "studying DS\n",
            "\n"
          ]
        }
      ]
    },
    {
      "cell_type": "code",
      "source": [
        "#Q5.\tHow would you catch and handle division by zero error in Python?\n",
        "\n",
        "try:\n",
        "    result = 10/0\n",
        "except ZeroDivisionError as e:\n",
        "    print(f\"Error: Division by zero is not allowed. Details: {e}\")\n",
        "except Exception as e:\n",
        "    print(f\"An unexpected error occurred: {e}\")\n"
      ],
      "metadata": {
        "id": "SfnEnw344M1W",
        "colab": {
          "base_uri": "https://localhost:8080/"
        },
        "outputId": "57af7ff7-44f5-44fb-c42f-00a5bd6e23a3"
      },
      "execution_count": 31,
      "outputs": [
        {
          "output_type": "stream",
          "name": "stdout",
          "text": [
            "Error: Division by zero is not allowed. Details: division by zero\n"
          ]
        }
      ]
    },
    {
      "cell_type": "code",
      "source": [
        "#Q6.\tWrite a Python program that logs an error message to a log file when a division by zero exception occurs\n",
        "\n",
        "import logging\n",
        "logging.basicConfig(filename='log_error.log',level=logging.DEBUG)\n",
        "\n",
        "try:\n",
        "    result = 10 / 0\n",
        "except ZeroDivisionError as e:\n",
        "    logging.error(f\"Error: Division by zero is not allowed. Details: {e}\")\n",
        "except Exception as e:\n",
        "    logging.error(f\"An unexpected error occurred: {e}\")\n"
      ],
      "metadata": {
        "id": "BXonKMOX4M4e",
        "colab": {
          "base_uri": "https://localhost:8080/"
        },
        "outputId": "0d9f06d2-d69e-4903-acb9-4c4dc5ef3101"
      },
      "execution_count": 32,
      "outputs": [
        {
          "output_type": "stream",
          "name": "stderr",
          "text": [
            "ERROR:root:Error: Division by zero is not allowed. Details: division by zero\n"
          ]
        }
      ]
    },
    {
      "cell_type": "code",
      "source": [
        "#Q7.\tHow do you log information at different levels (INFO, ERROR, WARNING) in Python using the logging module?\n",
        "\n",
        "import logging\n",
        "\n",
        "logging.basicConfig(filename='log_error_1.log',level=logging.DEBUG)\n",
        "\n",
        "logging.debug('this is debugging step')\n",
        "logging.info('this is info step')\n",
        "logging.warning('this is warning step')\n",
        "logging.error(\"Some error has happened\")\n",
        "logging.critical(\"The software has stopped running\")\n",
        "\n",
        "# Ensure that all logs are written to the file before the program ends\n",
        "logging.shutdown()\n"
      ],
      "metadata": {
        "id": "hhc4DMf4CGIO",
        "colab": {
          "base_uri": "https://localhost:8080/"
        },
        "outputId": "7e47436d-1a7f-4ca6-f180-b9195c017357"
      },
      "execution_count": 33,
      "outputs": [
        {
          "output_type": "stream",
          "name": "stderr",
          "text": [
            "WARNING:root:this is warning step\n",
            "ERROR:root:Some error has happened\n",
            "CRITICAL:root:The software has stopped running\n"
          ]
        }
      ]
    },
    {
      "cell_type": "code",
      "source": [
        "#Q8.\tWrite a program to handle a file opening error using exception handling.\n",
        "\n",
        "try:\n",
        "  f3= open(\"example_1.txt\",'r')\n",
        "except FileNotFoundError as e:\n",
        "    print(f\"Error: {e}\")\n",
        "except Exception as e:\n",
        "    print(f\"An unexpected error occurred: {e}\")"
      ],
      "metadata": {
        "id": "zF7kyzd4CGL_",
        "colab": {
          "base_uri": "https://localhost:8080/"
        },
        "outputId": "59514fe7-1504-4d39-be2e-7a386fe6c745"
      },
      "execution_count": 34,
      "outputs": [
        {
          "output_type": "stream",
          "name": "stdout",
          "text": [
            "Error: [Errno 2] No such file or directory: 'example_1.txt'\n"
          ]
        }
      ]
    },
    {
      "cell_type": "code",
      "source": [
        "#Q9.\tHow can you read a file line by line and store its content in a list in Python?\n",
        "\n",
        "list_1=[]\n",
        "\n",
        "\n",
        "with open('example.txt', 'r') as file:\n",
        "    for line in file:\n",
        "        list_1.append(line.strip())\n",
        "\n",
        "\n",
        "print(list_1)\n",
        "\n",
        ""
      ],
      "metadata": {
        "id": "uwy1nDipCGPh",
        "colab": {
          "base_uri": "https://localhost:8080/"
        },
        "outputId": "4ff8bb84-3685-4b38-a137-995dc2944406"
      },
      "execution_count": 59,
      "outputs": [
        {
          "output_type": "stream",
          "name": "stdout",
          "text": [
            "['helllo ,world!', 'studying DS', 'hi! again', 'nice to meet you']\n"
          ]
        }
      ]
    },
    {
      "cell_type": "code",
      "source": [
        "#Q10.\tHow can you append data to an existing file in Python?\n",
        "\n",
        "f1= open(\"example.txt\",'a')\n",
        "f1.write(\"hi! again\\n\")\n",
        "f1.write('nice to meet you')\n",
        "f1.close()"
      ],
      "metadata": {
        "id": "RF8ztPgBCGS4"
      },
      "execution_count": 36,
      "outputs": []
    },
    {
      "cell_type": "code",
      "source": [
        "#Q11.\tWrite a Python program that uses a try-except block to handle an error when attempting to access a dictionary key that doesn't exist.\n",
        "\n",
        "dict={'name':'rahul','place':'mumbai'}\n",
        "\n",
        "try:\n",
        "  dict['age']\n",
        "except KeyError as e:\n",
        "  print('error: ',e)\n"
      ],
      "metadata": {
        "id": "goeWXgtcCIkd",
        "colab": {
          "base_uri": "https://localhost:8080/"
        },
        "outputId": "e07503e9-1a75-4fd1-b8b0-f6fe8fbde26c"
      },
      "execution_count": 63,
      "outputs": [
        {
          "output_type": "stream",
          "name": "stdout",
          "text": [
            "error:  'age'\n"
          ]
        }
      ]
    },
    {
      "cell_type": "code",
      "source": [
        "#Q12.\tWrite a program that demonstrates using multiple except blocks to handle different types of exceptions.\n",
        "\n",
        "try:\n",
        "    num = int(input(\"Please enter a number: \"))\n",
        "    print(5 / num)\n",
        "except ZeroDivisionError as e:\n",
        "    print(\"Denominator cannot be zero.\", e)\n",
        "except ValueError as e:\n",
        "    print(\"Invalid input. Please enter an integer.\", e)\n",
        "except Exception as e:\n",
        "    print(\"There is an error:\", e)\n"
      ],
      "metadata": {
        "id": "cWVtXEZXCIsc",
        "colab": {
          "base_uri": "https://localhost:8080/"
        },
        "outputId": "bc8837dd-e7ba-4283-8ecb-5d692b6d7f19"
      },
      "execution_count": 101,
      "outputs": [
        {
          "output_type": "stream",
          "name": "stdout",
          "text": [
            "Please enter a number: abc\n",
            "Invalid input. Please enter an integer. invalid literal for int() with base 10: 'abc'\n"
          ]
        }
      ]
    },
    {
      "cell_type": "code",
      "source": [
        "#Q13.\tHow would you check if a file exists before attempting to read it in Python?\n",
        "\n",
        "import os\n",
        "\n",
        "file_path = 'example.txt'\n",
        "\n",
        "if os.path.exists(file_path):\n",
        "    with open(file_path, 'r') as file:\n",
        "        content = file.read()\n",
        "        print(\"The file exists\")\n",
        "else:\n",
        "    print(f\"The file {file_path} does not exist.\")\n"
      ],
      "metadata": {
        "id": "_r9ekG1zCIyX",
        "colab": {
          "base_uri": "https://localhost:8080/"
        },
        "outputId": "11f5abd4-004c-408a-f33e-2946e2a5f7f8"
      },
      "execution_count": 66,
      "outputs": [
        {
          "output_type": "stream",
          "name": "stdout",
          "text": [
            "The file exists\n"
          ]
        }
      ]
    },
    {
      "cell_type": "code",
      "source": [
        "#Q14.\tWrite a program that uses the logging module to log both informational and error messages.\n",
        "\n",
        "import logging\n",
        "\n",
        "logging.basicConfig(filename='log_error_2.log', level=logging.INFO,format='%(asctime)s - %(levelname)s - %(message)s')\n",
        "\n",
        "logging.info('This is an info step.')\n",
        "logging.warning('This is a warning step.')\n",
        "logging.error('Some error has happened.')\n",
        "logging.critical('A critical error occurred.')\n",
        "\n",
        "\n"
      ],
      "metadata": {
        "id": "4A2MvHKuCI01",
        "colab": {
          "base_uri": "https://localhost:8080/"
        },
        "outputId": "a29d8c5a-f2dc-4dde-e443-b82a52030885"
      },
      "execution_count": 97,
      "outputs": [
        {
          "output_type": "stream",
          "name": "stderr",
          "text": [
            "WARNING:root:This is a warning step.\n",
            "ERROR:root:Some error has happened.\n",
            "CRITICAL:root:A critical error occurred.\n"
          ]
        }
      ]
    },
    {
      "cell_type": "code",
      "source": [
        "#Q15.\tWrite a Python program that prints the content of a file and handles the case when the file is empty\n",
        "\n",
        "def read_file(filename):\n",
        "  with open(filename, 'w') as file:\n",
        "           file.write(\"\")\n",
        "\n",
        "\n",
        "  try:\n",
        "        with open(filename, 'r') as file:\n",
        "            content = file.read()\n",
        "            if content:\n",
        "                print(content)\n",
        "            else:\n",
        "                print(\"The file is empty.\")\n",
        "  except Exception as e:\n",
        "        print(f\"An error occurred: {e}\")\n",
        "\n",
        "\n"
      ],
      "metadata": {
        "id": "bwcI8wUdCI2j"
      },
      "execution_count": 126,
      "outputs": []
    },
    {
      "cell_type": "code",
      "source": [
        "read_file('example_5.txt')"
      ],
      "metadata": {
        "colab": {
          "base_uri": "https://localhost:8080/"
        },
        "id": "Lbp6F8kJ_6zg",
        "outputId": "46775676-e9d1-4c23-dbd1-dfe53d6156fb"
      },
      "execution_count": 128,
      "outputs": [
        {
          "output_type": "stream",
          "name": "stdout",
          "text": [
            "The file is empty.\n"
          ]
        }
      ]
    },
    {
      "cell_type": "code",
      "source": [
        "#Q16.\tDemonstrate how to use memory profiling to check the memory usage of a small program.\n",
        "!pip install memory_profiler\n",
        "\n",
        "import time\n",
        "from memory_profiler import memory_usage\n",
        "\n",
        "def factorial(n):\n",
        "    result = 1\n",
        "    for i in range(1, n + 1):\n",
        "        result *= i\n",
        "    return result\n",
        "\n",
        "# Use memory_usage to profile the memory usage of the function\n",
        "mem_usage = memory_usage((factorial, (10,)))\n",
        "print(f\"Memory usage: {mem_usage}\")\n",
        "\n",
        "\n"
      ],
      "metadata": {
        "id": "vL-50C--Cxei",
        "colab": {
          "base_uri": "https://localhost:8080/"
        },
        "outputId": "4b26dde7-4f12-47ec-9a6a-f23618130cb4"
      },
      "execution_count": 179,
      "outputs": [
        {
          "output_type": "stream",
          "name": "stdout",
          "text": [
            "Requirement already satisfied: memory_profiler in /usr/local/lib/python3.10/dist-packages (0.61.0)\n",
            "Requirement already satisfied: psutil in /usr/local/lib/python3.10/dist-packages (from memory_profiler) (5.9.5)\n",
            "Memory usage: [276.234375, 276.234375, 276.234375]\n"
          ]
        }
      ]
    },
    {
      "cell_type": "code",
      "source": [
        "#Q17.\tWrite a Python program to create and write a list of numbers to a file, one number per line.\n",
        "\n",
        "list_2=[1,2,5,100,0,-1,780]\n",
        "\n",
        "try:\n",
        "    with open(\"numbers_file\", \"w\") as file:\n",
        "        for i in list_2:\n",
        "            file.write(f\"{i}\\n\")\n",
        "except Exception as e:\n",
        "    print(\"An error occurred:\", e)\n",
        "else:\n",
        "    with open(\"numbers_file\", \"r\") as file:\n",
        "            data= file.read()\n",
        "            print(data)\n"
      ],
      "metadata": {
        "id": "JdeBUkRkCxhw",
        "colab": {
          "base_uri": "https://localhost:8080/"
        },
        "outputId": "7ef3c40e-8c22-4723-aea5-d6007d9f6a08"
      },
      "execution_count": 149,
      "outputs": [
        {
          "output_type": "stream",
          "name": "stdout",
          "text": [
            "1\n",
            "2\n",
            "5\n",
            "100\n",
            "0\n",
            "-1\n",
            "780\n",
            "\n"
          ]
        }
      ]
    },
    {
      "cell_type": "code",
      "source": [
        "#Q18.\tHow would you implement a basic logging setup that logs to a file with rotation after lMB?\n",
        "\n",
        "\n",
        "import logging\n",
        "from logging.handlers import RotatingFileHandler\n",
        "\n",
        "\n",
        "logger = logging.getLogger('my_logger')\n",
        "logger.setLevel(logging.INFO)\n",
        "\n",
        "\n",
        "log_file = 'my_log_file.log'\n",
        "max_log_size = 1 * 1024 * 1024  # 1 MB in bytes\n",
        "backup_count = 3\n",
        "\n",
        "rotating_handler = RotatingFileHandler(log_file, maxBytes=max_log_size, backupCount=backup_count)\n",
        "rotating_handler.setLevel(logging.DEBUG)\n",
        "\n",
        "formatter = logging.Formatter('%(asctime)s - %(name)s - %(levelname)s - %(message)s')\n",
        "rotating_handler.setFormatter(formatter)\n",
        "\n",
        "# Add the handler to the logger\n",
        "logger.addHandler(rotating_handler)\n",
        "\n",
        "# Example logging messages\n",
        "logger.debug(\"This is a debug message\")\n",
        "logger.info(\"This is an info message\")\n",
        "logger.warning(\"This is a warning message\")\n",
        "logger.error(\"This is an error message\")\n",
        "logger.critical(\"This is a critical message\")\n"
      ],
      "metadata": {
        "id": "X21t-MAMCxld",
        "colab": {
          "base_uri": "https://localhost:8080/"
        },
        "outputId": "4dbb8249-bd7d-485f-952a-ebc5675ad10f"
      },
      "execution_count": 172,
      "outputs": [
        {
          "output_type": "stream",
          "name": "stderr",
          "text": [
            "INFO:my_logger:This is an info message\n",
            "WARNING:my_logger:This is a warning message\n",
            "ERROR:my_logger:This is an error message\n",
            "CRITICAL:my_logger:This is a critical message\n"
          ]
        }
      ]
    },
    {
      "cell_type": "code",
      "source": [
        "#Q19.\tWrite a program that handles both lndexError and KeyError using a try-except block.\n",
        "\n",
        "#Key error\n",
        "dict={'name':'rahul','place':'mumbai'}\n",
        "\n",
        "try:\n",
        "  dict['age']\n",
        "except (IndexError,KeyError) as e:\n",
        "  print('error: ',e)\n"
      ],
      "metadata": {
        "id": "3gYg34lLCxoJ",
        "colab": {
          "base_uri": "https://localhost:8080/"
        },
        "outputId": "83fff054-5944-4233-aa89-2ec8934e5538"
      },
      "execution_count": 125,
      "outputs": [
        {
          "output_type": "stream",
          "name": "stdout",
          "text": [
            "error:  'age'\n"
          ]
        }
      ]
    },
    {
      "cell_type": "code",
      "source": [
        "#index error\n",
        "dict={'name':'rahul','place':'mumbai'}\n",
        "\n",
        "try:\n",
        "  dict[5]\n",
        "except (IndexError,KeyError) as e:\n",
        "  print('error: ',e)"
      ],
      "metadata": {
        "colab": {
          "base_uri": "https://localhost:8080/"
        },
        "id": "BAcO2dfD-v7W",
        "outputId": "20fe1adf-5b10-420b-ffd7-778301bb0996"
      },
      "execution_count": 124,
      "outputs": [
        {
          "output_type": "stream",
          "name": "stdout",
          "text": [
            "error:  5\n"
          ]
        }
      ]
    },
    {
      "cell_type": "code",
      "source": [
        "#Q20.\tHow would you open a file and read its contents using a context manager in Python?\n",
        "\n",
        "with open('example.txt', 'r') as file:\n",
        "    content = file.read()\n",
        "    print(content)\n"
      ],
      "metadata": {
        "id": "d_uM0Cs1CxpN",
        "colab": {
          "base_uri": "https://localhost:8080/"
        },
        "outputId": "3ead656f-4efa-4130-a09f-76ec3e922617"
      },
      "execution_count": 166,
      "outputs": [
        {
          "output_type": "stream",
          "name": "stdout",
          "text": [
            "helllo ,world!\n",
            "studying DS\n",
            "hi! again\n",
            "nice to meet you\n"
          ]
        }
      ]
    },
    {
      "cell_type": "code",
      "source": [
        "#Q21.\tWrite a Python program that reads a file and prints the number of occurrences of a specific word.\n",
        "\n",
        "with open('text_1.txt','w') as file:\n",
        "  file.write(\"The sun was just beginning to set, casting golden rays across the horizon. The children played in the park, their laughter echoing through the air. The swings swayed gently as the cool breeze rustled through the trees. A couple sat on the bench, watching the scene unfold, lost in the simplicity of the moment. \")\n"
      ],
      "metadata": {
        "id": "NdgqMMOfCxsO"
      },
      "execution_count": 160,
      "outputs": []
    },
    {
      "cell_type": "code",
      "source": [
        "file_path = 'text_1.txt'\n",
        "\n",
        "word_to_count = 'the'\n",
        "\n",
        "def count_word(file_path, word_to_count):\n",
        "    with open(file_path, 'r') as file:\n",
        "        content = file.read().lower()\n",
        "        word_count = content.split().count(word_to_count.lower())\n",
        "    return word_count\n",
        "\n",
        "\n",
        "# Count occurrences\n",
        "occurrences = count_word(file_path, word_to_count)\n",
        "print(f\"The word '{word_to_count}' appears {occurrences} times in the file.\")\n"
      ],
      "metadata": {
        "colab": {
          "base_uri": "https://localhost:8080/"
        },
        "id": "TADBbdFIXACM",
        "outputId": "ebe02dbd-44dc-4d9b-e667-b63827a796aa"
      },
      "execution_count": 161,
      "outputs": [
        {
          "output_type": "stream",
          "name": "stdout",
          "text": [
            "The word 'the' appears 12 times in the file.\n"
          ]
        }
      ]
    },
    {
      "cell_type": "code",
      "source": [
        "#Q22.\tHow can you check if a file is empty before attempting to read its contents?\n",
        "\n",
        "import os\n",
        "\n",
        "file_path = \"example_5.txt\"\n",
        "\n",
        "if os.path.getsize(file_path) == 0:\n",
        "    print(\"The file is empty.\")\n",
        "else:\n",
        "    print(\"The file is not empty.\")"
      ],
      "metadata": {
        "id": "QyDx596qCxun",
        "colab": {
          "base_uri": "https://localhost:8080/"
        },
        "outputId": "1abfe8df-74af-4af1-fe3b-7da7070317ee"
      },
      "execution_count": 156,
      "outputs": [
        {
          "output_type": "stream",
          "name": "stdout",
          "text": [
            "The file is empty.\n"
          ]
        }
      ]
    },
    {
      "cell_type": "code",
      "source": [
        "#Q23.\tWrite a Python program that writes to a log file when an error occurs during file handling.\n",
        "\n",
        "import logging\n",
        "\n",
        "logging.basicConfig(filename='file_error_log.log', level=logging.INFO,format='%(asctime)s - %(levelname)s - %(message)s')\n",
        "\n",
        "\n",
        "try:\n",
        "    with open('no_file.txt', 'r') as file:\n",
        "        content = file.read()\n",
        "except FileNotFoundError as e:\n",
        "    logging.error(\"FileNotFoundError: %s\", e)\n",
        "except Exception as e:\n",
        "    logging.error(\"An unexpected error occurred: %s\", e)\n",
        "\n",
        "print(\"Execution completed. Check the log file for details.\")\n",
        "\n"
      ],
      "metadata": {
        "id": "ZfhUveuZDC0Q",
        "colab": {
          "base_uri": "https://localhost:8080/"
        },
        "outputId": "efe193f3-9f2c-4f30-9818-5832a54db3ee"
      },
      "execution_count": 154,
      "outputs": [
        {
          "output_type": "stream",
          "name": "stderr",
          "text": [
            "ERROR:root:FileNotFoundError: [Errno 2] No such file or directory: 'no_file.txt'\n"
          ]
        },
        {
          "output_type": "stream",
          "name": "stdout",
          "text": [
            "Execution completed. Check the log file for details.\n"
          ]
        }
      ]
    },
    {
      "cell_type": "code",
      "source": [],
      "metadata": {
        "id": "7ub6VorZXzyo"
      },
      "execution_count": null,
      "outputs": []
    }
  ]
}