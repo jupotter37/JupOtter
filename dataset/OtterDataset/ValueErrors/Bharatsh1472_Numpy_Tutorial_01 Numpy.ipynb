{
 "cells": [
  {
   "cell_type": "markdown",
   "id": "9690c319-d2c5-4c08-8128-cedce3ff6f16",
   "metadata": {},
   "source": [
    "# NUMPY TUTORIAL"
   ]
  },
  {
   "cell_type": "code",
   "execution_count": 1,
   "id": "5be63ef4-68b6-408c-a590-b44596fb73f1",
   "metadata": {},
   "outputs": [
    {
     "name": "stdout",
     "output_type": "stream",
     "text": [
      "Hello\n"
     ]
    }
   ],
   "source": [
    "print(\"Hello\")"
   ]
  },
  {
   "cell_type": "code",
   "execution_count": 2,
   "id": "8dfb57f1-605e-4c9e-b12a-50b902c135d6",
   "metadata": {},
   "outputs": [
    {
     "name": "stdout",
     "output_type": "stream",
     "text": [
      "Bharat\n"
     ]
    }
   ],
   "source": [
    "print(\"Bharat\")"
   ]
  },
  {
   "cell_type": "markdown",
   "id": "66a54fd4-b17f-4eb0-95ee-dc3beb817795",
   "metadata": {},
   "source": [
    "** ARRAY CREATION **"
   ]
  },
  {
   "cell_type": "code",
   "execution_count": 1,
   "id": "c2027733-d0cb-45d5-a826-642943ac5b18",
   "metadata": {},
   "outputs": [
    {
     "name": "stdout",
     "output_type": "stream",
     "text": [
      "[10 20 30 40 50]\n",
      "[10 20]\n",
      "[40 50]\n",
      "10\n",
      "[10]\n"
     ]
    }
   ],
   "source": [
    "import numpy as np\n",
    "\n",
    "# Create a NumPy array\n",
    "arr = np.array([10, 20, 30, 40, 50])\n",
    "\n",
    "# Print the entire array\n",
    "print(arr)\n",
    "\n",
    "# Print elements from index 0 to 1\n",
    "print(arr[0:2])\n",
    "\n",
    "# Print elements from index 3 to the end of the array\n",
    "print(arr[3:])\n",
    "\n",
    "# Print the element at index 0\n",
    "print(arr[0])\n",
    "\n",
    "# Print the element at index 0 with a step of 4 (effectively printing only the element at index 0)\n",
    "print(arr[0:1:4])"
   ]
  },
  {
   "cell_type": "code",
   "execution_count": 4,
   "id": "1c984da5-2390-494f-ae10-8b2564f1cf2c",
   "metadata": {},
   "outputs": [
    {
     "data": {
      "text/plain": [
       "numpy.ndarray"
      ]
     },
     "execution_count": 4,
     "metadata": {},
     "output_type": "execute_result"
    }
   ],
   "source": [
    "type(arr)"
   ]
  },
  {
   "cell_type": "code",
   "execution_count": 4,
   "id": "8e5638c5-3fa5-4abc-8e0e-23d2f6ad39e3",
   "metadata": {},
   "outputs": [
    {
     "name": "stdout",
     "output_type": "stream",
     "text": [
      "[[10 20 30 50]\n",
      " [40 50 60 90]]\n",
      "[[40 50 60 90]]\n",
      "[[10 20]\n",
      " [40 50]]\n",
      "[20 30]\n",
      "[40 50 60]\n"
     ]
    }
   ],
   "source": [
    "arr1 = np.array([[10,20,30,50],[40,50,60,90]])\n",
    "print(arr1)\n",
    "print(arr1[1:])\n",
    "print(arr1[0:2,0:2])\n",
    "print(arr1[0,1:3])\n",
    "print(arr1[1,0:3])"
   ]
  },
  {
   "cell_type": "code",
   "execution_count": 3,
   "id": "719115d8-f3dc-4410-ab29-ea17ecf76f72",
   "metadata": {},
   "outputs": [
    {
     "ename": "ValueError",
     "evalue": "setting an array element with a sequence. The requested array has an inhomogeneous shape after 1 dimensions. The detected shape was (3,) + inhomogeneous part.",
     "output_type": "error",
     "traceback": [
      "\u001b[1;31m---------------------------------------------------------------------------\u001b[0m",
      "\u001b[1;31mValueError\u001b[0m                                Traceback (most recent call last)",
      "Cell \u001b[1;32mIn[3], line 1\u001b[0m\n\u001b[1;32m----> 1\u001b[0m arr2 \u001b[38;5;241m=\u001b[39m np\u001b[38;5;241m.\u001b[39marray([[\u001b[38;5;241m10\u001b[39m,\u001b[38;5;241m20\u001b[39m,\u001b[38;5;241m30\u001b[39m],[\u001b[38;5;241m40\u001b[39m,\u001b[38;5;241m50\u001b[39m,\u001b[38;5;241m60\u001b[39m],[\u001b[38;5;241m10\u001b[39m,\u001b[38;5;241m40\u001b[39m,\u001b[38;5;241m70\u001b[39m,\u001b[38;5;241m80\u001b[39m]])\n\u001b[0;32m      2\u001b[0m \u001b[38;5;28mprint\u001b[39m(arr2)\n",
      "\u001b[1;31mValueError\u001b[0m: setting an array element with a sequence. The requested array has an inhomogeneous shape after 1 dimensions. The detected shape was (3,) + inhomogeneous part."
     ]
    }
   ],
   "source": [
    "arr2 = np.array([[10,20,30],[40,50,60],[10,40,70,80]])\n",
    "print(arr2)\n",
    "# Since these lists have different lengths, NumPy cannot create a proper 2D array, which leads to an error "
   ]
  },
  {
   "cell_type": "markdown",
   "id": "638b5004-e589-4d23-b7c5-3f91ace29cba",
   "metadata": {},
   "source": [
    "** ATTRIBUTES **"
   ]
  },
  {
   "cell_type": "code",
   "execution_count": 5,
   "id": "6295830a-07c1-4dcb-8b5c-b22621288eec",
   "metadata": {},
   "outputs": [
    {
     "name": "stdout",
     "output_type": "stream",
     "text": [
      "(3, 4)\n",
      "12\n",
      "2\n",
      "int32\n",
      "3\n",
      "[['10' '20' '70' '30']\n",
      " ['40' '50' '80' '60']\n",
      " ['10' '40' '70' '90']]\n",
      "[[10 20 70 30]\n",
      " [40 50 80 60]\n",
      " [10 40 70 90]]\n"
     ]
    },
    {
     "ename": "ValueError",
     "evalue": "invalid literal for int() with base 10: '50.5'",
     "output_type": "error",
     "traceback": [
      "\u001b[1;31m---------------------------------------------------------------------------\u001b[0m",
      "\u001b[1;31mValueError\u001b[0m                                Traceback (most recent call last)",
      "Cell \u001b[1;32mIn[5], line 12\u001b[0m\n\u001b[0;32m     10\u001b[0m \u001b[38;5;28mprint\u001b[39m(c)\n\u001b[0;32m     11\u001b[0m d \u001b[38;5;241m=\u001b[39m np\u001b[38;5;241m.\u001b[39marray([[\u001b[38;5;241m10\u001b[39m,\u001b[38;5;241m20\u001b[39m,\u001b[38;5;241m70\u001b[39m,\u001b[38;5;241m30\u001b[39m],[\u001b[38;5;241m40\u001b[39m,\u001b[38;5;241m50.5\u001b[39m,\u001b[38;5;241m80\u001b[39m,\u001b[38;5;124m\"\u001b[39m\u001b[38;5;124m60\u001b[39m\u001b[38;5;124m\"\u001b[39m]])\n\u001b[1;32m---> 12\u001b[0m \u001b[38;5;28mprint\u001b[39m(d\u001b[38;5;241m.\u001b[39mastype(\u001b[38;5;28mint\u001b[39m))\n",
      "\u001b[1;31mValueError\u001b[0m: invalid literal for int() with base 10: '50.5'"
     ]
    }
   ],
   "source": [
    "a = np.array([[10,20,70,30],[40,50,80,60],[10,40,70,90]])\n",
    "print(np.shape(a))\n",
    "print(np.size(a))\n",
    "print(np.ndim(a))\n",
    "print(a.dtype)\n",
    "print(len(a))\n",
    "b = a.astype(str)\n",
    "print(b)\n",
    "c = np.array(a)\n",
    "print(c)\n",
    "d = np.array([[10,20,70,30],[40,50.5,80,\"60\"]])\n",
    "print(d.astype(int))\n",
    "# NumPy cannot directly convert a string to an integer, \n",
    "# especially when the array contains mixed data types like floats and strings."
   ]
  },
  {
   "cell_type": "code",
   "execution_count": 75,
   "id": "6f215cfe-10b7-4d7d-b1e8-5b7866925662",
   "metadata": {
    "scrolled": true
   },
   "outputs": [
    {
     "name": "stdout",
     "output_type": "stream",
     "text": [
      "[100  90  50 100  90]\n",
      "[100  90  50 100  90]\n",
      "[-80 -50  10 -20  10]\n",
      "[ 80  50 -10  20 -10]\n",
      "[ 900 1400  600 2400 2000]\n",
      "[ 900 1400  600 2400 2000]\n",
      "[0.11111111 0.28571429 1.5        0.66666667 1.25      ]\n",
      "[0.11111111 0.28571429 1.5        0.66666667 1.25      ]\n",
      "[[100  90]\n",
      " [ 60 110]]\n",
      "[[-80 -50]\n",
      " [ 20 -10]]\n",
      "[[ 900 1400]\n",
      " [ 800 3000]]\n",
      "[[0.11111111 0.28571429]\n",
      " [2.         0.83333333]]\n",
      "[[ 100  400]\n",
      " [1600 2500]]\n",
      "[2. 8. 9. 4. 5.]\n"
     ]
    }
   ],
   "source": [
    "# MATHEMATICAL_FUNCTIONS\n",
    "\n",
    "a1 = np.array([10,20,30,40,50])\n",
    "a2 = np.array([90,70,20,60,40])\n",
    "print(a1+a2)\n",
    "print(np.add(a1,a2))\n",
    "print(a1-a2)\n",
    "print(np.subtract(a2,a1))\n",
    "print(a1*a2)\n",
    "print(np.multiply(a1,a2))\n",
    "print(a1/a2)\n",
    "print(np.divide(a1,a2))\n",
    "\n",
    "a3 = np.array([[10,20],[40,50]])\n",
    "a4 = np.array([[90,70],[20,60]])\n",
    "print(a3+a4)\n",
    "print(a3-a4)\n",
    "print(a3*a4)\n",
    "print(a3/a4)\n",
    "\n",
    "a5 = np.array([[10,20],[40,50]])\n",
    "a6 = np.array([2])\n",
    "print(np.power(a5,a6))\n",
    "\n",
    "a7 = np.array([4,64,81,16,25])\n",
    "print(np.sqrt(a7))"
   ]
  },
  {
   "cell_type": "code",
   "execution_count": 19,
   "id": "3d50f2e9-8e02-4211-ac43-25775f7863b9",
   "metadata": {},
   "outputs": [
    {
     "name": "stdout",
     "output_type": "stream",
     "text": [
      "[0 1 2 3 4 5 6 7 8 9]\n"
     ]
    }
   ],
   "source": [
    "import numpy as np\n",
    "rng = np.arange(10)\n",
    "print(rng)"
   ]
  },
  {
   "cell_type": "code",
   "execution_count": 32,
   "id": "6fbe2151-8fd8-44f1-af88-b959b8abbed4",
   "metadata": {},
   "outputs": [
    {
     "name": "stdout",
     "output_type": "stream",
     "text": [
      "2\n",
      "2\n",
      "0\n",
      "[0 5 3 1 4 2]\n"
     ]
    }
   ],
   "source": [
    "import numpy as np\n",
    "x = np.array([1,32,654,25,78,2])\n",
    "print(x.argmax())\n",
    "print(x.argmin())\n",
    "print(x.argsort())"
   ]
  },
  {
   "cell_type": "code",
   "execution_count": 58,
   "id": "ecdaedf2-0936-435a-a781-4b719dc5470c",
   "metadata": {},
   "outputs": [
    {
     "name": "stdout",
     "output_type": "stream",
     "text": [
      "[[1 2 3]\n",
      " [4 5 6]\n",
      " [7 1 0]]\n",
      "\n",
      "8\n",
      "6\n",
      "\n",
      "[2 1 1]\n",
      "\n",
      "[2 2 0]\n",
      "\n",
      "[[0 2 2]\n",
      " [1 0 0]\n",
      " [2 1 1]]\n",
      "\n",
      "[[0 1 2]\n",
      " [0 1 2]\n",
      " [2 1 0]]\n"
     ]
    }
   ],
   "source": [
    "y = np.array([[1,2,3],[4,5,6],[7,1,0]])\n",
    "print(y)\n",
    "print()\n",
    "print(y.argmin())\n",
    "print(y.argmax())\n",
    "print()\n",
    "print(y.argmax(axis=0))\n",
    "print()\n",
    "print(y.argmax(axis=1))\n",
    "print()\n",
    "print(y.argsort(axis = 0))\n",
    "print()\n",
    "print(y.argsort(axis = 1))"
   ]
  }
 ],
 "metadata": {
  "kernelspec": {
   "display_name": "Python 3 (ipykernel)",
   "language": "python",
   "name": "python3"
  },
  "language_info": {
   "codemirror_mode": {
    "name": "ipython",
    "version": 3
   },
   "file_extension": ".py",
   "mimetype": "text/x-python",
   "name": "python",
   "nbconvert_exporter": "python",
   "pygments_lexer": "ipython3",
   "version": "3.11.7"
  }
 },
 "nbformat": 4,
 "nbformat_minor": 5
}
