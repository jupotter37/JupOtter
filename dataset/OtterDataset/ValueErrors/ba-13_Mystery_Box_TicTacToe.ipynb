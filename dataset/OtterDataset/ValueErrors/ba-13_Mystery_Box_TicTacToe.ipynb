{
 "cells": [
  {
   "cell_type": "code",
   "execution_count": 1,
   "metadata": {},
   "outputs": [],
   "source": [
    "def display(r0,r1,r2):\n",
    "    print(r0)\n",
    "    print(r1)\n",
    "    print(r2)"
   ]
  },
  {
   "cell_type": "code",
   "execution_count": 2,
   "metadata": {},
   "outputs": [],
   "source": [
    "row0 = [' ',' ',' ']\n",
    "row1 = [' ',' ',' ']\n",
    "row2 = [' ',' ',' ']"
   ]
  },
  {
   "cell_type": "code",
   "execution_count": 3,
   "metadata": {},
   "outputs": [
    {
     "name": "stdout",
     "output_type": "stream",
     "text": [
      "[' ', ' ', ' ']\n",
      "[' ', ' ', ' ']\n",
      "[' ', ' ', ' ']\n"
     ]
    }
   ],
   "source": [
    "display(row0,row1,row2)"
   ]
  },
  {
   "cell_type": "code",
   "execution_count": 4,
   "metadata": {},
   "outputs": [
    {
     "name": "stdout",
     "output_type": "stream",
     "text": [
      "Enter the next place: 1\n"
     ]
    }
   ],
   "source": [
    "user_input = input(\"Enter the next place: \")"
   ]
  },
  {
   "cell_type": "code",
   "execution_count": 5,
   "metadata": {},
   "outputs": [
    {
     "data": {
      "text/plain": [
       "'1'"
      ]
     },
     "execution_count": 5,
     "metadata": {},
     "output_type": "execute_result"
    }
   ],
   "source": [
    "user_input"
   ]
  },
  {
   "cell_type": "code",
   "execution_count": 8,
   "metadata": {},
   "outputs": [
    {
     "name": "stdout",
     "output_type": "stream",
     "text": [
      "Enter the next place: two\n"
     ]
    },
    {
     "ename": "ValueError",
     "evalue": "invalid literal for int() with base 10: 'two'",
     "output_type": "error",
     "traceback": [
      "\u001b[1;31m---------------------------------------------------------------------------\u001b[0m",
      "\u001b[1;31mValueError\u001b[0m                                Traceback (most recent call last)",
      "\u001b[1;32m<ipython-input-8-b2a84025c7b6>\u001b[0m in \u001b[0;36m<module>\u001b[1;34m\u001b[0m\n\u001b[0;32m      1\u001b[0m \u001b[1;31m#this gives an error\u001b[0m\u001b[1;33m\u001b[0m\u001b[1;33m\u001b[0m\u001b[1;33m\u001b[0m\u001b[0m\n\u001b[1;32m----> 2\u001b[1;33m \u001b[0muser_input\u001b[0m \u001b[1;33m=\u001b[0m \u001b[0mint\u001b[0m\u001b[1;33m(\u001b[0m\u001b[0minput\u001b[0m\u001b[1;33m(\u001b[0m\u001b[1;34m\"Enter the next place: \"\u001b[0m\u001b[1;33m)\u001b[0m\u001b[1;33m)\u001b[0m\u001b[1;33m\u001b[0m\u001b[1;33m\u001b[0m\u001b[0m\n\u001b[0m",
      "\u001b[1;31mValueError\u001b[0m: invalid literal for int() with base 10: 'two'"
     ]
    }
   ],
   "source": [
    "#this gives an error\n",
    "user_input = int(input(\"Enter the next place: \")) "
   ]
  },
  {
   "cell_type": "code",
   "execution_count": 1,
   "metadata": {},
   "outputs": [],
   "source": [
    "#now to avoid user input that yields error\n",
    "\n",
    "def inputOfNumber():\n",
    "    num = input(\"Please enter a number between 0-10 :\");\n",
    "    return int(num)"
   ]
  },
  {
   "cell_type": "code",
   "execution_count": 27,
   "metadata": {},
   "outputs": [],
   "source": [
    "def inputOfNumber():\n",
    "    rightRange = False;\n",
    "    listAcceptable = list(range(0,11))\n",
    "    choice = 'Wrong'\n",
    "    while (not choice.isdigit()) or rightRange==False:\n",
    "        choice = input(\"Please enter a number between 0-10 :\");\n",
    "        if not choice.isdigit(): #using .isdigit()\n",
    "            print(\"Sorry, please try again.\")\n",
    "        if choice.isdigit():\n",
    "            if int(choice) in listAcceptable:\n",
    "                rightRange = True\n",
    "            else:\n",
    "                rightRange = False\n",
    "                print(\"Sorry, please try again.\")\n",
    "                \n",
    "    return int(choice);"
   ]
  },
  {
   "cell_type": "code",
   "execution_count": 28,
   "metadata": {},
   "outputs": [
    {
     "name": "stdout",
     "output_type": "stream",
     "text": [
      "Please enter a number between 0-10 :11\n",
      "Sorry, please try again.\n",
      "Please enter a number between 0-10 :h\n",
      "Sorry, please try again.\n",
      "Please enter a number between 0-10 :jo\n",
      "Sorry, please try again.\n",
      "Please enter a number between 0-10 :8\n"
     ]
    },
    {
     "data": {
      "text/plain": [
       "8"
      ]
     },
     "execution_count": 28,
     "metadata": {},
     "output_type": "execute_result"
    }
   ],
   "source": [
    "inputOfNumber()"
   ]
  },
  {
   "cell_type": "code",
   "execution_count": 29,
   "metadata": {},
   "outputs": [],
   "source": [
    "# list(range(0,11))"
   ]
  },
  {
   "cell_type": "code",
   "execution_count": 56,
   "metadata": {},
   "outputs": [],
   "source": [
    "list_base = [' ',' ',' ']"
   ]
  },
  {
   "cell_type": "code",
   "execution_count": 57,
   "metadata": {},
   "outputs": [],
   "source": [
    "def inputOfIndex():\n",
    "    gindex = 'String'\n",
    "    inrange = False\n",
    "    allowed = list(range(0,3))\n",
    "    while (not gindex.isdigit()) or (not inrange):\n",
    "        gindex = input(\"Please enter an index (0-2): \");\n",
    "        if gindex.isdigit():\n",
    "            if int(gindex) in allowed:\n",
    "                inrange = True\n",
    "    return int(gindex)"
   ]
  },
  {
   "cell_type": "code",
   "execution_count": 58,
   "metadata": {},
   "outputs": [],
   "source": [
    "def replacing():\n",
    "    list_base1 = list_base\n",
    "    print(list_base)\n",
    "    user_index = inputOfIndex();\n",
    "    list_base1[user_index] = '*';\n",
    "    print(\"The changed list is:\\n\")\n",
    "    print(list_base1)"
   ]
  },
  {
   "cell_type": "code",
   "execution_count": 60,
   "metadata": {},
   "outputs": [
    {
     "name": "stdout",
     "output_type": "stream",
     "text": [
      "[' ', '*', ' ']\n",
      "Please enter an index (0-2): 0\n",
      "The changed list is:\n",
      "\n",
      "['*', '*', ' ']\n"
     ]
    }
   ],
   "source": [
    "replacing()"
   ]
  },
  {
   "cell_type": "code",
   "execution_count": null,
   "metadata": {},
   "outputs": [],
   "source": []
  },
  {
   "cell_type": "code",
   "execution_count": null,
   "metadata": {},
   "outputs": [],
   "source": []
  },
  {
   "cell_type": "code",
   "execution_count": null,
   "metadata": {},
   "outputs": [],
   "source": []
  },
  {
   "cell_type": "code",
   "execution_count": null,
   "metadata": {},
   "outputs": [],
   "source": []
  },
  {
   "cell_type": "code",
   "execution_count": null,
   "metadata": {},
   "outputs": [],
   "source": []
  },
  {
   "cell_type": "code",
   "execution_count": null,
   "metadata": {},
   "outputs": [],
   "source": []
  },
  {
   "cell_type": "code",
   "execution_count": null,
   "metadata": {},
   "outputs": [],
   "source": []
  },
  {
   "cell_type": "code",
   "execution_count": null,
   "metadata": {},
   "outputs": [],
   "source": []
  },
  {
   "cell_type": "markdown",
   "metadata": {},
   "source": [
    "# Let's start now :"
   ]
  },
  {
   "cell_type": "code",
   "execution_count": 1,
   "metadata": {},
   "outputs": [],
   "source": [
    "def display_board(grid):\n",
    "    print(\" \", grid[0][0], \" \", \"|\", \" \", grid[0][1], \" \", \"|\", \" \", grid[0][2], \" \")\n",
    "    print(\"- - - |- - - -| - - -\")\n",
    "    print(\" \", grid[1][0], \" \", \"|\", \" \", grid[1][1], \" \", \"|\", \" \", grid[1][2], \" \")\n",
    "    print(\"- - - |- - - -| - - -\")\n",
    "    print(\" \", grid[2][0], \" \", \"|\", \" \", grid[2][1], \" \", \"|\", \" \", grid[2][2], \" \")\n",
    "#     return 0"
   ]
  },
  {
   "cell_type": "code",
   "execution_count": 2,
   "metadata": {},
   "outputs": [],
   "source": [
    "keypad = {'1':(2,0), '2':(2,1), '3':(2,2), '4':(1,0), '5':(1,1), '6':(1,2), '7':(0,0), '8':(0,1), '9':(0,2)}\n",
    "characters = ['X','O','x','o']#1st member is for player1"
   ]
  },
  {
   "cell_type": "code",
   "execution_count": 3,
   "metadata": {},
   "outputs": [],
   "source": [
    "def inputIndex(grid):\n",
    "    index = 'null';\n",
    "    valid = False;\n",
    "    possibleList = ['1','2','3','4','5','6','7','8','9']\n",
    "    while (not index in possibleList) or (not valid):\n",
    "        index = input('Please enter the next location (1-9): ');\n",
    "        if index not in possibleList:\n",
    "            print(\"Please enter a value between 1 and 9.\")\n",
    "            continue \n",
    "        #now checking if the grid has that index blank or not:\n",
    "        (a,b) = keypad[index]\n",
    "        if grid[a][b] == ' ':\n",
    "                valid = True\n",
    "\n",
    "    return index"
   ]
  },
  {
   "cell_type": "code",
   "execution_count": 4,
   "metadata": {},
   "outputs": [],
   "source": [
    "def tupleReturnAsList(index):\n",
    "    (a,b) = keypad[index];\n",
    "    return [a,b]"
   ]
  },
  {
   "cell_type": "code",
   "execution_count": 5,
   "metadata": {},
   "outputs": [],
   "source": [
    "def replace_on_board(grid, character, index):\n",
    "    #character is X or O.\n",
    "    grid[tupleReturnAsList(index)[0]][tupleReturnAsList(index)[1]] = character;\n",
    "    return grid"
   ]
  },
  {
   "cell_type": "code",
   "execution_count": 6,
   "metadata": {},
   "outputs": [],
   "source": [
    "def readyPlayer():\n",
    "    readiness = 'Hello'\n",
    "    while not readiness in ['y','Y','n','N']:\n",
    "        readiness = input(\"Are you ready? :\")\n",
    "    if readiness == 'y' or readiness == 'Y':\n",
    "        return True\n",
    "    else:\n",
    "        return False"
   ]
  },
  {
   "cell_type": "code",
   "execution_count": 7,
   "metadata": {},
   "outputs": [],
   "source": [
    "# def winning_draw(grid)\n",
    "def continueTheGame(grid):\n",
    "    continueThis = True\n",
    "    for i in range(0,3):\n",
    "        if grid[i]==[characters[0],characters[0],characters[0]]:\n",
    "            return (False, 1)\n",
    "        elif grid[i]==[characters[1],characters[1],characters[1]]:\n",
    "            return (False, 2)\n",
    "        elif [row[i] for row in grid]==[characters[0],characters[0],characters[0]]:\n",
    "            return (False, 1)\n",
    "        elif [row[i] for row in grid]==[characters[1],characters[1],characters[1]]:\n",
    "            return (False, 2)\n",
    "        elif [grid[0][0],grid[1][1],grid[2][2]]==[characters[0],characters[0],characters[0]]:\n",
    "            return (False, 1)\n",
    "        elif [grid[0][0],grid[1][1],grid[2][2]]==[characters[1],characters[1],characters[1]]:\n",
    "            return (False, 2)\n",
    "        elif [grid[0][2],grid[1][1],grid[2][0]]==[characters[0],characters[0],characters[0]]:\n",
    "            return (False, 1)\n",
    "        elif [grid[0][2],grid[1][1],grid[2][0]]==[characters[1],characters[1],characters[1]]:\n",
    "            return (False, 2)\n",
    "    #Draw part    \n",
    "    for i in range(0,3):\n",
    "        for j in range(0,3):\n",
    "            if not grid[i][j] == ' ':\n",
    "                continueThis = False\n",
    "            else:\n",
    "                continueThis = True\n",
    "                break\n",
    "        if continueThis == True:\n",
    "            break\n",
    "    if continueThis:\n",
    "        return (True,' ')\n",
    "    else:\n",
    "        return (False, '1,2')\n"
   ]
  },
  {
   "cell_type": "code",
   "execution_count": 8,
   "metadata": {},
   "outputs": [],
   "source": [
    "gridTrial = [['X',' ',' '],['X','O',' '],['X','O',' ']]"
   ]
  },
  {
   "cell_type": "code",
   "execution_count": 9,
   "metadata": {},
   "outputs": [
    {
     "data": {
      "text/plain": [
       "(False, 1)"
      ]
     },
     "execution_count": 9,
     "metadata": {},
     "output_type": "execute_result"
    }
   ],
   "source": [
    "continueTheGame(gridTrial)"
   ]
  },
  {
   "cell_type": "code",
   "execution_count": 15,
   "metadata": {},
   "outputs": [],
   "source": [
    "def main(grid):\n",
    "    #first we ask player 1 his character\n",
    "    oe_counter = -1 #when first player has the chance to play\n",
    "    print(\"Welcome to Tic-Tac-Toe :\")\n",
    "    display_board(grid)\n",
    "    character = 'not allowed now'\n",
    "    \n",
    "    while not character in characters:\n",
    "        character = input(\"Player 1, please enter your token (X or O):\")\n",
    "        if character not in characters:\n",
    "            print(\"Please note that this is case-sensititve.\")\n",
    "    \n",
    "    if character.upper() == characters[0]: #changing the symbol for players\n",
    "        pass\n",
    "    else:\n",
    "        characters[0] = 'O'\n",
    "        characters[1] = 'X'\n",
    "        \n",
    "    continueThis = True\n",
    "    while continueThis:\n",
    "        (continueThis, winner) = continueTheGame(grid)\n",
    "        oe_counter+=1\n",
    "#         Ready = readyPlayer()\n",
    "#         if not Ready:\n",
    "#             return 0;\n",
    "        index = inputIndex(grid);\n",
    "        grid = replace_on_board(grid, characters[oe_counter%2], index)\n",
    "        display_board(grid)\n",
    "        (continueThis, winner) = continueTheGame(grid)\n",
    "    print(\"--------------------------------------\")\n",
    "    print(\"Game ended. Final board :\")\n",
    "    display_board(grid)\n",
    "    \n",
    "    if winner == 1 or winner == 2:\n",
    "        print(\"Player {} won\".format(winner))\n",
    "    else:\n",
    "        print(\"Pity, A Draw. Try again.\")"
   ]
  },
  {
   "cell_type": "code",
   "execution_count": 16,
   "metadata": {},
   "outputs": [
    {
     "name": "stdout",
     "output_type": "stream",
     "text": [
      "      |       |      \n",
      "- - - |- - - -| - - -\n",
      "      |       |      \n",
      "- - - |- - - -| - - -\n",
      "      |       |      \n"
     ]
    }
   ],
   "source": [
    "grid = [[' ',' ',' '],[' ',' ',' '],[' ',' ',' ']]\n",
    "display_board(grid)\n",
    "characters = ['X','O','x','o']#1st member is for player1\n",
    "# main(grid)"
   ]
  },
  {
   "cell_type": "code",
   "execution_count": 17,
   "metadata": {},
   "outputs": [],
   "source": [
    "def ticTacToe():\n",
    "    grid = [[' ',' ',' '],[' ',' ',' '],[' ',' ',' ']]\n",
    "#     display_board(grid)\n",
    "    characters = ['X','O']#1st member is for player1\n",
    "    main(grid)    "
   ]
  },
  {
   "cell_type": "code",
   "execution_count": 13,
   "metadata": {},
   "outputs": [
    {
     "name": "stdout",
     "output_type": "stream",
     "text": [
      "Welcome to Tic-Tac-Toe :\n",
      "      |       |      \n",
      "- - - |- - - -| - - -\n",
      "      |       |      \n",
      "- - - |- - - -| - - -\n",
      "      |       |      \n",
      "Player 1, please enter your token (X or O):x\n",
      "Please enter the next location (1-9): 1\n",
      "      |       |      \n",
      "- - - |- - - -| - - -\n",
      "      |       |      \n",
      "- - - |- - - -| - - -\n",
      "  X   |       |      \n",
      "Please enter the next location (1-9): 2\n",
      "      |       |      \n",
      "- - - |- - - -| - - -\n",
      "      |       |      \n",
      "- - - |- - - -| - - -\n",
      "  X   |   O   |      \n",
      "Please enter the next location (1-9): 3\n",
      "      |       |      \n",
      "- - - |- - - -| - - -\n",
      "      |       |      \n",
      "- - - |- - - -| - - -\n",
      "  X   |   O   |   X  \n",
      "Please enter the next location (1-9): 6\n",
      "      |       |      \n",
      "- - - |- - - -| - - -\n",
      "      |       |   O  \n",
      "- - - |- - - -| - - -\n",
      "  X   |   O   |   X  \n",
      "Please enter the next location (1-9): 5\n",
      "      |       |      \n",
      "- - - |- - - -| - - -\n",
      "      |   X   |   O  \n",
      "- - - |- - - -| - - -\n",
      "  X   |   O   |   X  \n",
      "Please enter the next location (1-9): 4\n",
      "      |       |      \n",
      "- - - |- - - -| - - -\n",
      "  O   |   X   |   O  \n",
      "- - - |- - - -| - - -\n",
      "  X   |   O   |   X  \n",
      "Please enter the next location (1-9): 7\n",
      "  X   |       |      \n",
      "- - - |- - - -| - - -\n",
      "  O   |   X   |   O  \n",
      "- - - |- - - -| - - -\n",
      "  X   |   O   |   X  \n",
      "--------------------------------------\n",
      "Game ended. Final board :\n",
      "  X   |       |      \n",
      "- - - |- - - -| - - -\n",
      "  O   |   X   |   O  \n",
      "- - - |- - - -| - - -\n",
      "  X   |   O   |   X  \n",
      "Player 1 won\n"
     ]
    }
   ],
   "source": [
    "ticTacToe()"
   ]
  },
  {
   "cell_type": "code",
   "execution_count": 22,
   "metadata": {},
   "outputs": [
    {
     "name": "stdout",
     "output_type": "stream",
     "text": [
      "Welcome to Tic-Tac-Toe :\n",
      "      |       |      \n",
      "- - - |- - - -| - - -\n",
      "      |       |      \n",
      "- - - |- - - -| - - -\n",
      "      |       |      \n",
      "Player 1, please enter your token (X or O):o\n",
      "Please enter the next location (1-9): 1\n",
      "      |       |      \n",
      "- - - |- - - -| - - -\n",
      "      |       |      \n",
      "- - - |- - - -| - - -\n",
      "  O   |       |      \n",
      "Please enter the next location (1-9): 7\n",
      "  X   |       |      \n",
      "- - - |- - - -| - - -\n",
      "      |       |      \n",
      "- - - |- - - -| - - -\n",
      "  O   |       |      \n",
      "Please enter the next location (1-9): 2\n",
      "  X   |       |      \n",
      "- - - |- - - -| - - -\n",
      "      |       |      \n",
      "- - - |- - - -| - - -\n",
      "  O   |   O   |      \n",
      "Please enter the next location (1-9): 7\n",
      "Please enter the next location (1-9): 3\n",
      "  X   |       |      \n",
      "- - - |- - - -| - - -\n",
      "      |       |      \n",
      "- - - |- - - -| - - -\n",
      "  O   |   O   |   X  \n",
      "Please enter the next location (1-9): 9\n",
      "  X   |       |   O  \n",
      "- - - |- - - -| - - -\n",
      "      |       |      \n",
      "- - - |- - - -| - - -\n",
      "  O   |   O   |   X  \n",
      "Please enter the next location (1-9): 5\n",
      "  X   |       |   O  \n",
      "- - - |- - - -| - - -\n",
      "      |   X   |      \n",
      "- - - |- - - -| - - -\n",
      "  O   |   O   |   X  \n",
      "Game ended. Final board :\n",
      "  X   |       |   O  \n",
      "- - - |- - - -| - - -\n",
      "      |   X   |      \n",
      "- - - |- - - -| - - -\n",
      "  O   |   O   |   X  \n",
      "Player 2 won\n"
     ]
    }
   ],
   "source": [
    "ticTacToe()"
   ]
  },
  {
   "cell_type": "code",
   "execution_count": 18,
   "metadata": {},
   "outputs": [
    {
     "name": "stdout",
     "output_type": "stream",
     "text": [
      "Welcome to Tic-Tac-Toe :\n",
      "      |       |      \n",
      "- - - |- - - -| - - -\n",
      "      |       |      \n",
      "- - - |- - - -| - - -\n",
      "      |       |      \n",
      "Player 1, please enter your token (X or O):x\n",
      "Please enter the next location (1-9): 1\n",
      "      |       |      \n",
      "- - - |- - - -| - - -\n",
      "      |       |      \n",
      "- - - |- - - -| - - -\n",
      "  X   |       |      \n",
      "Please enter the next location (1-9): 2\n",
      "      |       |      \n",
      "- - - |- - - -| - - -\n",
      "      |       |      \n",
      "- - - |- - - -| - - -\n",
      "  X   |   O   |      \n",
      "Please enter the next location (1-9): 4\n",
      "      |       |      \n",
      "- - - |- - - -| - - -\n",
      "  X   |       |      \n",
      "- - - |- - - -| - - -\n",
      "  X   |   O   |      \n",
      "Please enter the next location (1-9): 7\n",
      "  O   |       |      \n",
      "- - - |- - - -| - - -\n",
      "  X   |       |      \n",
      "- - - |- - - -| - - -\n",
      "  X   |   O   |      \n",
      "Please enter the next location (1-9): 3\n",
      "  O   |       |      \n",
      "- - - |- - - -| - - -\n",
      "  X   |       |      \n",
      "- - - |- - - -| - - -\n",
      "  X   |   O   |   X  \n",
      "Please enter the next location (1-9): 6\n",
      "  O   |       |      \n",
      "- - - |- - - -| - - -\n",
      "  X   |       |   O  \n",
      "- - - |- - - -| - - -\n",
      "  X   |   O   |   X  \n",
      "Please enter the next location (1-9): 5\n",
      "  O   |       |      \n",
      "- - - |- - - -| - - -\n",
      "  X   |   X   |   O  \n",
      "- - - |- - - -| - - -\n",
      "  X   |   O   |   X  \n",
      "Please enter the next location (1-9): 8\n",
      "  O   |   O   |      \n",
      "- - - |- - - -| - - -\n",
      "  X   |   X   |   O  \n",
      "- - - |- - - -| - - -\n",
      "  X   |   O   |   X  \n",
      "Please enter the next location (1-9): 9\n",
      "  O   |   O   |   X  \n",
      "- - - |- - - -| - - -\n",
      "  X   |   X   |   O  \n",
      "- - - |- - - -| - - -\n",
      "  X   |   O   |   X  \n",
      "--------------------------------------\n",
      "Game ended. Final board :\n",
      "  O   |   O   |   X  \n",
      "- - - |- - - -| - - -\n",
      "  X   |   X   |   O  \n",
      "- - - |- - - -| - - -\n",
      "  X   |   O   |   X  \n",
      "Player 1 won\n"
     ]
    }
   ],
   "source": [
    "ticTacToe()"
   ]
  },
  {
   "cell_type": "code",
   "execution_count": 19,
   "metadata": {},
   "outputs": [
    {
     "name": "stdout",
     "output_type": "stream",
     "text": [
      "Welcome to Tic-Tac-Toe :\n",
      "      |       |      \n",
      "- - - |- - - -| - - -\n",
      "      |       |      \n",
      "- - - |- - - -| - - -\n",
      "      |       |      \n",
      "Player 1, please enter your token (X or O):x\n",
      "Please enter the next location (1-9): 1\n",
      "      |       |      \n",
      "- - - |- - - -| - - -\n",
      "      |       |      \n",
      "- - - |- - - -| - - -\n",
      "  X   |       |      \n",
      "Please enter the next location (1-9): 2\n",
      "      |       |      \n",
      "- - - |- - - -| - - -\n",
      "      |       |      \n",
      "- - - |- - - -| - - -\n",
      "  X   |   O   |      \n",
      "Please enter the next location (1-9): 3\n",
      "      |       |      \n",
      "- - - |- - - -| - - -\n",
      "      |       |      \n",
      "- - - |- - - -| - - -\n",
      "  X   |   O   |   X  \n",
      "Please enter the next location (1-9): 5\n",
      "      |       |      \n",
      "- - - |- - - -| - - -\n",
      "      |   O   |      \n",
      "- - - |- - - -| - - -\n",
      "  X   |   O   |   X  \n",
      "Please enter the next location (1-9): 8\n",
      "      |   X   |      \n",
      "- - - |- - - -| - - -\n",
      "      |   O   |      \n",
      "- - - |- - - -| - - -\n",
      "  X   |   O   |   X  \n",
      "Please enter the next location (1-9): 4\n",
      "      |   X   |      \n",
      "- - - |- - - -| - - -\n",
      "  O   |   O   |      \n",
      "- - - |- - - -| - - -\n",
      "  X   |   O   |   X  \n",
      "Please enter the next location (1-9): 6\n",
      "      |   X   |      \n",
      "- - - |- - - -| - - -\n",
      "  O   |   O   |   X  \n",
      "- - - |- - - -| - - -\n",
      "  X   |   O   |   X  \n",
      "Please enter the next location (1-9): 9\n",
      "      |   X   |   O  \n",
      "- - - |- - - -| - - -\n",
      "  O   |   O   |   X  \n",
      "- - - |- - - -| - - -\n",
      "  X   |   O   |   X  \n",
      "Please enter the next location (1-9): 7\n",
      "  X   |   X   |   O  \n",
      "- - - |- - - -| - - -\n",
      "  O   |   O   |   X  \n",
      "- - - |- - - -| - - -\n",
      "  X   |   O   |   X  \n",
      "--------------------------------------\n",
      "Game ended. Final board :\n",
      "  X   |   X   |   O  \n",
      "- - - |- - - -| - - -\n",
      "  O   |   O   |   X  \n",
      "- - - |- - - -| - - -\n",
      "  X   |   O   |   X  \n",
      "Pity, A Draw. Try again.\n"
     ]
    }
   ],
   "source": [
    "ticTacToe()"
   ]
  },
  {
   "cell_type": "code",
   "execution_count": null,
   "metadata": {},
   "outputs": [],
   "source": []
  }
 ],
 "metadata": {
  "kernelspec": {
   "display_name": "Python 3",
   "language": "python",
   "name": "python3"
  },
  "language_info": {
   "codemirror_mode": {
    "name": "ipython",
    "version": 3
   },
   "file_extension": ".py",
   "mimetype": "text/x-python",
   "name": "python",
   "nbconvert_exporter": "python",
   "pygments_lexer": "ipython3",
   "version": "3.8.3"
  }
 },
 "nbformat": 4,
 "nbformat_minor": 4
}
