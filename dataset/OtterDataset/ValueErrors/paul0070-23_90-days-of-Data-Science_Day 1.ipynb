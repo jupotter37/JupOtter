{
 "cells": [
  {
   "cell_type": "markdown",
   "id": "a4147010-9190-4c9a-baca-b5256a1aec7e",
   "metadata": {},
   "source": [
    "<font color=\"blue\" size=5><b>Python Basics- 1</b></font>"
   ]
  },
  {
   "cell_type": "markdown",
   "id": "5d90fc61-4852-4c02-b685-8b1ec57189ea",
   "metadata": {},
   "source": [
    "<font color=\"red\" size=3><b>Arithmetic Operators</b></font>"
   ]
  },
  {
   "cell_type": "markdown",
   "id": "190bafd6-376f-4d72-a03e-353ae1775ec4",
   "metadata": {},
   "source": [
    "\n",
    "| Operator | Description |\n",
    "|----|---|\n",
    "| +  | Addition |\n",
    "| -  | Subtraction |\n",
    "| /  | division |\n",
    "| %  | mod (remainder) |\n",
    "| *  | multiplication |\n",
    "| //  | floor division |\n",
    "| **  | to the power of |"
   ]
  },
  {
   "cell_type": "code",
   "execution_count": 2,
   "id": "d0b5b80a-56b4-4e89-8cfb-5869ee1038fd",
   "metadata": {},
   "outputs": [
    {
     "data": {
      "text/plain": [
       "5"
      ]
     },
     "execution_count": 2,
     "metadata": {},
     "output_type": "execute_result"
    }
   ],
   "source": [
    "2+3"
   ]
  },
  {
   "cell_type": "code",
   "execution_count": 3,
   "id": "6debdd9f-bd6b-4112-aa51-80b3e5a9c9b5",
   "metadata": {},
   "outputs": [
    {
     "data": {
      "text/plain": [
       "3"
      ]
     },
     "execution_count": 3,
     "metadata": {},
     "output_type": "execute_result"
    }
   ],
   "source": [
    "5-2"
   ]
  },
  {
   "cell_type": "code",
   "execution_count": 4,
   "id": "19aedc3d-7fa8-4026-b105-6a39bddda6bb",
   "metadata": {},
   "outputs": [
    {
     "data": {
      "text/plain": [
       "2.5"
      ]
     },
     "execution_count": 4,
     "metadata": {},
     "output_type": "execute_result"
    }
   ],
   "source": [
    "5/2 #float division"
   ]
  },
  {
   "cell_type": "code",
   "execution_count": 5,
   "id": "6c1805a6-b5fc-46bf-970e-c00130ed7f5d",
   "metadata": {},
   "outputs": [
    {
     "data": {
      "text/plain": [
       "2"
      ]
     },
     "execution_count": 5,
     "metadata": {},
     "output_type": "execute_result"
    }
   ],
   "source": [
    "5//2 #integer division"
   ]
  },
  {
   "cell_type": "code",
   "execution_count": 6,
   "id": "9ea74ddd-9cad-4b50-9a7c-7232b35827d7",
   "metadata": {},
   "outputs": [
    {
     "data": {
      "text/plain": [
       "1"
      ]
     },
     "execution_count": 6,
     "metadata": {},
     "output_type": "execute_result"
    }
   ],
   "source": [
    "3%2"
   ]
  },
  {
   "cell_type": "code",
   "execution_count": 8,
   "id": "2e8faaef-b9f2-48e5-8401-2169b865d29f",
   "metadata": {},
   "outputs": [
    {
     "data": {
      "text/plain": [
       "6"
      ]
     },
     "execution_count": 8,
     "metadata": {},
     "output_type": "execute_result"
    }
   ],
   "source": [
    "2*3"
   ]
  },
  {
   "cell_type": "code",
   "execution_count": 9,
   "id": "8748ec1e-8f29-4088-bb77-40677a60a672",
   "metadata": {},
   "outputs": [
    {
     "data": {
      "text/plain": [
       "6.0"
      ]
     },
     "execution_count": 9,
     "metadata": {},
     "output_type": "execute_result"
    }
   ],
   "source": [
    "2*3.0 "
   ]
  },
  {
   "cell_type": "code",
   "execution_count": 10,
   "id": "b10ac702-44f6-412d-a131-a3a5b19844cd",
   "metadata": {},
   "outputs": [
    {
     "data": {
      "text/plain": [
       "8"
      ]
     },
     "execution_count": 10,
     "metadata": {},
     "output_type": "execute_result"
    }
   ],
   "source": [
    "2**3"
   ]
  },
  {
   "cell_type": "markdown",
   "id": "8a1734fc-c51b-4fa8-b211-4e4901b67426",
   "metadata": {},
   "source": [
    "<font color=\"red\" size=3><b>Comparison Operators</b></font>"
   ]
  },
  {
   "cell_type": "markdown",
   "id": "03c930cc-6c10-4cbb-b011-75b1d5ac7cfc",
   "metadata": {},
   "source": [
    "| Operator | Description |\n",
    "|----|---|\n",
    "| ==  | If the values of two operands are equal, then the condition becomes true |\n",
    "| !=  | If values of two operands are not equal, then condition becomes true. |\n",
    "| >  | If the value of left operand is greater than the value of right operand, then condition becomes true |\n",
    "| <  | If the value of left operand is lesser than the value of right operand, then condition becomes true. |\n",
    "| <=  | If the value of left operand is less than or equal to the value of right operand, then condition becomes true. |\n",
    "| >=  | If the value of left operand is greater than or equal to the value of right operand, then condition becomes true. |\n"
   ]
  },
  {
   "cell_type": "code",
   "execution_count": 22,
   "id": "713f9246-def0-4fdb-8024-49763d6baf81",
   "metadata": {},
   "outputs": [
    {
     "data": {
      "text/plain": [
       "False"
      ]
     },
     "execution_count": 22,
     "metadata": {},
     "output_type": "execute_result"
    }
   ],
   "source": [
    "2==3 #compares if the values are equal"
   ]
  },
  {
   "cell_type": "code",
   "execution_count": 23,
   "id": "2678b23c-6365-4170-9367-e59c84c30b6c",
   "metadata": {},
   "outputs": [
    {
     "data": {
      "text/plain": [
       "False"
      ]
     },
     "execution_count": 23,
     "metadata": {},
     "output_type": "execute_result"
    }
   ],
   "source": [
    "'hello'=='Hello'"
   ]
  },
  {
   "cell_type": "code",
   "execution_count": 24,
   "id": "4da7893e-6ebe-48b9-bb4f-66cd11f3ac60",
   "metadata": {},
   "outputs": [
    {
     "data": {
      "text/plain": [
       "True"
      ]
     },
     "execution_count": 24,
     "metadata": {},
     "output_type": "execute_result"
    }
   ],
   "source": [
    "1!=2"
   ]
  },
  {
   "cell_type": "code",
   "execution_count": 25,
   "id": "b263ab57-de61-4f4c-b499-c759f9fd818e",
   "metadata": {},
   "outputs": [
    {
     "data": {
      "text/plain": [
       "True"
      ]
     },
     "execution_count": 25,
     "metadata": {},
     "output_type": "execute_result"
    }
   ],
   "source": [
    "1<2"
   ]
  },
  {
   "cell_type": "code",
   "execution_count": 26,
   "id": "e3d2605e-2531-4728-8e31-50b20a53969c",
   "metadata": {},
   "outputs": [
    {
     "data": {
      "text/plain": [
       "False"
      ]
     },
     "execution_count": 26,
     "metadata": {},
     "output_type": "execute_result"
    }
   ],
   "source": [
    "3>7"
   ]
  },
  {
   "cell_type": "code",
   "execution_count": 27,
   "id": "9215f9f9-28bc-4112-8458-4de9712290d4",
   "metadata": {},
   "outputs": [
    {
     "data": {
      "text/plain": [
       "True"
      ]
     },
     "execution_count": 27,
     "metadata": {},
     "output_type": "execute_result"
    }
   ],
   "source": [
    "1<=4"
   ]
  },
  {
   "cell_type": "code",
   "execution_count": 28,
   "id": "34fac16c-566e-4d6b-9e19-5e0ccf4ac196",
   "metadata": {},
   "outputs": [
    {
     "data": {
      "text/plain": [
       "False"
      ]
     },
     "execution_count": 28,
     "metadata": {},
     "output_type": "execute_result"
    }
   ],
   "source": [
    "5>=8"
   ]
  },
  {
   "cell_type": "markdown",
   "id": "6dd00c91-4ec5-4d9a-8038-711522696355",
   "metadata": {},
   "source": [
    "<font color=\"red\" size=3><b>Logical Operators</b></font>"
   ]
  },
  {
   "cell_type": "markdown",
   "id": "728efd01-6ecf-403f-a9c1-0b9af90fe9c0",
   "metadata": {},
   "source": [
    "| Operator | Description | Example\n",
    "|----|---|---|\n",
    "| and  | Returns True if both statements are true | x < 5 and  x < 10\t\n",
    "| or  | Returns True if one of the statements is true | x < 5 or  x < 10\t\n",
    "| not  | Reverse the result, returns False if the result is true and vice versa | not(x < 5 or  x < 10)"
   ]
  },
  {
   "cell_type": "code",
   "execution_count": 29,
   "id": "300fc512-3f7b-4952-a3b9-3e3070be847a",
   "metadata": {},
   "outputs": [
    {
     "data": {
      "text/plain": [
       "False"
      ]
     },
     "execution_count": 29,
     "metadata": {},
     "output_type": "execute_result"
    }
   ],
   "source": [
    "5<2 and 4<9"
   ]
  },
  {
   "cell_type": "code",
   "execution_count": 30,
   "id": "e2183e62-9ee6-4082-8051-cbe63a76bf6a",
   "metadata": {},
   "outputs": [
    {
     "data": {
      "text/plain": [
       "True"
      ]
     },
     "execution_count": 30,
     "metadata": {},
     "output_type": "execute_result"
    }
   ],
   "source": [
    "5<2 or 4<9"
   ]
  },
  {
   "cell_type": "code",
   "execution_count": 31,
   "id": "9c908d88-b0fd-45ec-9cab-16ce6ff0e7d7",
   "metadata": {},
   "outputs": [
    {
     "data": {
      "text/plain": [
       "False"
      ]
     },
     "execution_count": 31,
     "metadata": {},
     "output_type": "execute_result"
    }
   ],
   "source": [
    "not(5<2 or 4<9)"
   ]
  },
  {
   "cell_type": "markdown",
   "id": "93b0456b-c11a-4dd4-932a-f5fb8740b50b",
   "metadata": {},
   "source": [
    "<font color=\"red\" size=3><b>Bitwise Operators</b></font>"
   ]
  },
  {
   "cell_type": "markdown",
   "id": "9b95bb26-82ce-4224-b184-d3d65fc1c941",
   "metadata": {},
   "source": [
    "| Symbol | Task Performed |\n",
    "|----|---|\n",
    "| &  | Logical And |\n",
    "| l  | Logical OR |\n",
    "| ^  | XOR |\n",
    "| ~  | Negate |\n",
    "| >>  | Right shift |\n",
    "| <<  | Left shift |"
   ]
  },
  {
   "cell_type": "code",
   "execution_count": 33,
   "id": "553cbc23-6aab-4b7e-9ab4-8e95efd767bd",
   "metadata": {},
   "outputs": [
    {
     "data": {
      "text/plain": [
       "0"
      ]
     },
     "execution_count": 33,
     "metadata": {},
     "output_type": "execute_result"
    }
   ],
   "source": [
    "5 & 2 # 5=101, 2=010"
   ]
  },
  {
   "cell_type": "code",
   "execution_count": 34,
   "id": "26e3b596-afa9-45c0-b5d2-dd929a7106c4",
   "metadata": {},
   "outputs": [
    {
     "data": {
      "text/plain": [
       "7"
      ]
     },
     "execution_count": 34,
     "metadata": {},
     "output_type": "execute_result"
    }
   ],
   "source": [
    "5 | 2 "
   ]
  },
  {
   "cell_type": "code",
   "execution_count": 35,
   "id": "8e536e36-3e3c-4198-b2a7-be235a947491",
   "metadata": {},
   "outputs": [
    {
     "data": {
      "text/plain": [
       "7"
      ]
     },
     "execution_count": 35,
     "metadata": {},
     "output_type": "execute_result"
    }
   ],
   "source": [
    "5 ^ 2 "
   ]
  },
  {
   "cell_type": "code",
   "execution_count": 36,
   "id": "6c6c69c0-8e42-40ed-9064-d0142c4b3fa4",
   "metadata": {},
   "outputs": [
    {
     "data": {
      "text/plain": [
       "-3"
      ]
     },
     "execution_count": 36,
     "metadata": {},
     "output_type": "execute_result"
    }
   ],
   "source": [
    "~2"
   ]
  },
  {
   "cell_type": "code",
   "execution_count": 37,
   "id": "2fdf87cb-353f-44fa-a6fc-6c1f617bd9f3",
   "metadata": {},
   "outputs": [
    {
     "data": {
      "text/plain": [
       "2"
      ]
     },
     "execution_count": 37,
     "metadata": {},
     "output_type": "execute_result"
    }
   ],
   "source": [
    "5 >> 1"
   ]
  },
  {
   "cell_type": "markdown",
   "id": "e5cbed37-e40e-4057-abdc-aa0c77a3005f",
   "metadata": {},
   "source": [
    "0000 0101 -> 5 \n",
    "\n",
    "Shifting the digits by 1 to the right and zero padding\n",
    "\n",
    "0000 0010 -> 2"
   ]
  },
  {
   "cell_type": "code",
   "execution_count": 41,
   "id": "136d5370-d6d4-4718-ae49-5226949fd1e3",
   "metadata": {},
   "outputs": [
    {
     "data": {
      "text/plain": [
       "20"
      ]
     },
     "execution_count": 41,
     "metadata": {},
     "output_type": "execute_result"
    }
   ],
   "source": [
    "5 << 2"
   ]
  },
  {
   "cell_type": "markdown",
   "id": "c5e112b9-ca29-4f30-9237-4f89f3d4f4e7",
   "metadata": {},
   "source": [
    "<font color=\"red\" size=3><b>Identity Operators</b></font>"
   ]
  },
  {
   "cell_type": "markdown",
   "id": "0ec4da79-b1ea-42c8-a014-08fad934bc5e",
   "metadata": {},
   "source": [
    "| Operator | Description | Example\n",
    "|----|---|---|\n",
    "| is  | Returns True if both variables are the same object| x is y\n",
    "| is not  | Returns True if both variables are not the same object| x is not y\t"
   ]
  },
  {
   "cell_type": "code",
   "execution_count": 43,
   "id": "e3fe87a1-79be-4aa9-8f5b-8f3d4af4df6b",
   "metadata": {},
   "outputs": [],
   "source": [
    "x,y=10,20"
   ]
  },
  {
   "cell_type": "code",
   "execution_count": 44,
   "id": "60a6db79-3581-4939-95d5-43315a7ca0fd",
   "metadata": {},
   "outputs": [
    {
     "data": {
      "text/plain": [
       "False"
      ]
     },
     "execution_count": 44,
     "metadata": {},
     "output_type": "execute_result"
    }
   ],
   "source": [
    "x is y"
   ]
  },
  {
   "cell_type": "code",
   "execution_count": 45,
   "id": "1787294b-2c42-4837-a63e-a227efaec385",
   "metadata": {},
   "outputs": [
    {
     "data": {
      "text/plain": [
       "True"
      ]
     },
     "execution_count": 45,
     "metadata": {},
     "output_type": "execute_result"
    }
   ],
   "source": [
    "x is not y"
   ]
  },
  {
   "cell_type": "code",
   "execution_count": 54,
   "id": "757a6819-fbb1-4367-9aa5-7077e39d585a",
   "metadata": {},
   "outputs": [],
   "source": [
    "p,q=10000000,10000000"
   ]
  },
  {
   "cell_type": "code",
   "execution_count": 55,
   "id": "001c31fb-0add-41ae-af2a-87a84731de1d",
   "metadata": {},
   "outputs": [
    {
     "data": {
      "text/plain": [
       "True"
      ]
     },
     "execution_count": 55,
     "metadata": {},
     "output_type": "execute_result"
    }
   ],
   "source": [
    "p is q"
   ]
  },
  {
   "cell_type": "code",
   "execution_count": 46,
   "id": "38a53ab3-6def-477b-91fe-3d4f25f52671",
   "metadata": {},
   "outputs": [],
   "source": [
    "a,b=5,5"
   ]
  },
  {
   "cell_type": "code",
   "execution_count": 47,
   "id": "c9c2543a-4d11-40d3-8104-e5f03aa99cb8",
   "metadata": {},
   "outputs": [
    {
     "data": {
      "text/plain": [
       "True"
      ]
     },
     "execution_count": 47,
     "metadata": {},
     "output_type": "execute_result"
    }
   ],
   "source": [
    "a is b"
   ]
  },
  {
   "cell_type": "markdown",
   "id": "3d2e1d21-a90d-47b7-8d01-e890274d3512",
   "metadata": {},
   "source": [
    "<font color=\"red\" size=3><b>Membership Operators</b></font>"
   ]
  },
  {
   "cell_type": "markdown",
   "id": "fce9545b-ee1f-40d2-ab36-b81b13a1b69e",
   "metadata": {},
   "source": [
    "| Operator | Description | Example\n",
    "|----|---|---|\n",
    "| in  | Returns True if a sequence with the specified value is present in the object| x in y\n",
    "| not in  | Returns True if a sequence with the specified value is not present in the object| x not in y\t"
   ]
  },
  {
   "cell_type": "code",
   "execution_count": 56,
   "id": "4c0377f3-6d58-4b86-bf7b-23c5311f6fb5",
   "metadata": {},
   "outputs": [],
   "source": [
    "x='Paul'\n",
    "y='She talked to Paul'"
   ]
  },
  {
   "cell_type": "code",
   "execution_count": 57,
   "id": "b3dce996-1c44-4aa7-99f8-a42e0887ab32",
   "metadata": {},
   "outputs": [
    {
     "data": {
      "text/plain": [
       "True"
      ]
     },
     "execution_count": 57,
     "metadata": {},
     "output_type": "execute_result"
    }
   ],
   "source": [
    "x in y"
   ]
  },
  {
   "cell_type": "markdown",
   "id": "d2fa9c66-6ed8-45ff-a73d-3fadf1cdd08e",
   "metadata": {},
   "source": [
    "<font color=\"red\" size=3><b>In-built functions</b></font>"
   ]
  },
  {
   "cell_type": "markdown",
   "id": "6157a064-86a7-4b63-89ef-78a2330ec52b",
   "metadata": {},
   "source": [
    "**round( )** function rounds the input value to a specified number of places or to the nearest integer. "
   ]
  },
  {
   "cell_type": "code",
   "execution_count": 12,
   "id": "ae435745-de24-4b91-bee8-ee7701b47da7",
   "metadata": {},
   "outputs": [
    {
     "data": {
      "text/plain": [
       "3"
      ]
     },
     "execution_count": 12,
     "metadata": {},
     "output_type": "execute_result"
    }
   ],
   "source": [
    "round(2.768)"
   ]
  },
  {
   "cell_type": "code",
   "execution_count": 13,
   "id": "e2dedae4-7d0f-49a4-889b-c87a48241365",
   "metadata": {},
   "outputs": [
    {
     "data": {
      "text/plain": [
       "2.77"
      ]
     },
     "execution_count": 13,
     "metadata": {},
     "output_type": "execute_result"
    }
   ],
   "source": [
    "round(2.765,2) #round up to the specific no of digits"
   ]
  },
  {
   "cell_type": "markdown",
   "id": "125aeda0-7f3e-414f-89cb-a2f023461268",
   "metadata": {},
   "source": [
    "**complex( )** is used to define a complex number and **abs( )** outputs the absolute value of the same."
   ]
  },
  {
   "cell_type": "code",
   "execution_count": 15,
   "id": "15d7b824-b62d-4a98-b46c-ef0be881bdfe",
   "metadata": {},
   "outputs": [
    {
     "name": "stdout",
     "output_type": "stream",
     "text": [
      "(5+1j)\n"
     ]
    }
   ],
   "source": [
    "c=complex('5+1j')\n",
    "print(c)"
   ]
  },
  {
   "cell_type": "code",
   "execution_count": 16,
   "id": "ba8aad6d-648a-4fac-8ba8-c70811790210",
   "metadata": {},
   "outputs": [
    {
     "name": "stdout",
     "output_type": "stream",
     "text": [
      "5.0990195135927845\n"
     ]
    }
   ],
   "source": [
    "print(abs(c)) #calculated using sqrt(a^2+b^2), where a+bj is a complex number "
   ]
  },
  {
   "cell_type": "markdown",
   "id": "3eef03b0-a2db-4eae-8de4-832dc89c440e",
   "metadata": {},
   "source": [
    "**divmod(x,y)** outputs the quotient and the remainder in a tuple(it is a data type) in the format (quotient, remainder). "
   ]
  },
  {
   "cell_type": "code",
   "execution_count": 18,
   "id": "bca110f2-507b-456e-9c7a-50b7ffe2e5e7",
   "metadata": {},
   "outputs": [
    {
     "data": {
      "text/plain": [
       "(1, 2)"
      ]
     },
     "execution_count": 18,
     "metadata": {},
     "output_type": "execute_result"
    }
   ],
   "source": [
    "divmod(8,6)"
   ]
  },
  {
   "cell_type": "markdown",
   "id": "5a0604c5-f855-4bf7-884e-4c4468fb1911",
   "metadata": {},
   "source": [
    "**pow(x,y,z)** can be used to find the power $x^y$ also the mod of the resulting value with the third specified number can be found i.e. : ($x^y$ % z)."
   ]
  },
  {
   "cell_type": "code",
   "execution_count": 19,
   "id": "f98e0c7f-05b7-41ba-8b9d-d35df86bfe52",
   "metadata": {},
   "outputs": [
    {
     "data": {
      "text/plain": [
       "8"
      ]
     },
     "execution_count": 19,
     "metadata": {},
     "output_type": "execute_result"
    }
   ],
   "source": [
    "pow(2,3)"
   ]
  },
  {
   "cell_type": "code",
   "execution_count": 20,
   "id": "93f4511b-b66a-4d68-9b47-2a3e8087914d",
   "metadata": {},
   "outputs": [
    {
     "data": {
      "text/plain": [
       "2"
      ]
     },
     "execution_count": 20,
     "metadata": {},
     "output_type": "execute_result"
    }
   ],
   "source": [
    "pow(2,3,6)"
   ]
  },
  {
   "cell_type": "markdown",
   "id": "33e148d5-6792-4d6e-af01-691d34fef67b",
   "metadata": {},
   "source": [
    "<font color=\"red\" size=3><b>Taking Input</b></font>"
   ]
  },
  {
   "cell_type": "code",
   "execution_count": 59,
   "id": "be4922de-61eb-4cd0-bf42-fbf226f8f92f",
   "metadata": {},
   "outputs": [
    {
     "name": "stdin",
     "output_type": "stream",
     "text": [
      "The entered ele is  123\n"
     ]
    }
   ],
   "source": [
    "a = input(\"The entered ele is \") #input takes string as input by default"
   ]
  },
  {
   "cell_type": "code",
   "execution_count": 60,
   "id": "95c9aae7-b8cb-48fa-9fbc-799ec5630f0a",
   "metadata": {},
   "outputs": [
    {
     "name": "stdout",
     "output_type": "stream",
     "text": [
      "<class 'str'>\n"
     ]
    }
   ],
   "source": [
    "print(type(a))"
   ]
  },
  {
   "cell_type": "code",
   "execution_count": 61,
   "id": "b17e0107-02fc-4b3e-9584-1b50e722f3e4",
   "metadata": {},
   "outputs": [
    {
     "name": "stdin",
     "output_type": "stream",
     "text": [
      "The entered ele is  123\n"
     ]
    }
   ],
   "source": [
    "b= int(input(\"The entered ele is \")) #type casting"
   ]
  },
  {
   "cell_type": "code",
   "execution_count": 62,
   "id": "ba15052e-d6d9-4f71-838c-7f66c34819bf",
   "metadata": {},
   "outputs": [
    {
     "name": "stdout",
     "output_type": "stream",
     "text": [
      "<class 'int'>\n"
     ]
    }
   ],
   "source": [
    "print(type(b))"
   ]
  },
  {
   "cell_type": "markdown",
   "id": "94b2fa2b-853f-46e1-8edc-2cabf771c017",
   "metadata": {},
   "source": [
    "<font color=\"red\" size=3><b>Printing Output</b></font>"
   ]
  },
  {
   "cell_type": "code",
   "execution_count": 66,
   "id": "248a20ae-d284-448b-b309-a286d16b9a59",
   "metadata": {},
   "outputs": [
    {
     "name": "stdout",
     "output_type": "stream",
     "text": [
      "The first num is 10 and second number is 20\n"
     ]
    }
   ],
   "source": [
    "first,second='10','20'\n",
    "print(\"The first num is \"+first+ \" and second number is \"+second)"
   ]
  },
  {
   "cell_type": "code",
   "execution_count": 67,
   "id": "e3585b2d-0370-4cde-aef9-098d9ee09306",
   "metadata": {},
   "outputs": [
    {
     "name": "stdout",
     "output_type": "stream",
     "text": [
      "1.3 2 3\n"
     ]
    }
   ],
   "source": [
    "x, y, z = 1.3,2,3\n",
    "print (x, y, z)"
   ]
  },
  {
   "cell_type": "code",
   "execution_count": 68,
   "id": "a4f1c34f-91e4-4102-916b-9a6ed7862057",
   "metadata": {},
   "outputs": [
    {
     "name": "stdout",
     "output_type": "stream",
     "text": [
      "1.3\n",
      "2\n",
      "3\n"
     ]
    }
   ],
   "source": [
    "print(x)\n",
    "print(y)\n",
    "print(z)"
   ]
  },
  {
   "cell_type": "code",
   "execution_count": 69,
   "id": "fafe484f-f970-4e18-ba11-f531c8f56117",
   "metadata": {},
   "outputs": [
    {
     "name": "stdout",
     "output_type": "stream",
     "text": [
      "My name is Paul, My rollno is 42\n"
     ]
    }
   ],
   "source": [
    "#format strings\n",
    "txt1 = \"My name is {name}, My rollno is {a}\".format(name = \"Paul\", a = 42)\n",
    "print(txt1)\n"
   ]
  },
  {
   "cell_type": "code",
   "execution_count": 73,
   "id": "141399dd-476a-45eb-97f4-6f610be318b9",
   "metadata": {},
   "outputs": [
    {
     "name": "stdout",
     "output_type": "stream",
     "text": [
      "My name is Paul, I'm 42\n"
     ]
    }
   ],
   "source": [
    "txt2 = \"My name is {0}, I'm {1}\".format(\"Paul\",42)\n",
    "print(txt2)"
   ]
  },
  {
   "cell_type": "code",
   "execution_count": 72,
   "id": "e421ebd7-4f16-42a1-8dda-e60fc748e60f",
   "metadata": {},
   "outputs": [
    {
     "name": "stdout",
     "output_type": "stream",
     "text": [
      "My name is Paul, My rollno is 42\n"
     ]
    }
   ],
   "source": [
    "txt3 = \"My name is {}, My rollno is {}\".format(\"Paul\",42)\n",
    "print(txt3)"
   ]
  },
  {
   "cell_type": "code",
   "execution_count": 74,
   "id": "a1eef533-47d5-4047-a140-075c790c9d89",
   "metadata": {},
   "outputs": [
    {
     "name": "stdout",
     "output_type": "stream",
     "text": [
      "This is a format string  2\n"
     ]
    }
   ],
   "source": [
    "mod = 2\n",
    "s= f\"This is a format string  {mod}\"\n",
    "print(s)"
   ]
  },
  {
   "cell_type": "code",
   "execution_count": 75,
   "id": "c2fc8862-31f2-47e2-af8f-22297672181c",
   "metadata": {},
   "outputs": [
    {
     "name": "stdout",
     "output_type": "stream",
     "text": [
      "The num is too high\n"
     ]
    }
   ],
   "source": [
    "num = 200\n",
    "txt = f\"The num is too {'high' if num>100 else 'low'}\"\n",
    "print(txt)"
   ]
  },
  {
   "cell_type": "markdown",
   "id": "b5bcedaa-d8e9-4cee-890b-df5d07f22c38",
   "metadata": {},
   "source": [
    "<font color=\"red\" size=3><b>Handling Exceptions</b></font>"
   ]
  },
  {
   "cell_type": "code",
   "execution_count": 77,
   "id": "3446070c-9e52-4f83-80c4-304bdaee4f08",
   "metadata": {},
   "outputs": [
    {
     "name": "stdin",
     "output_type": "stream",
     "text": [
      "Enter an integer dfg\n"
     ]
    },
    {
     "ename": "ValueError",
     "evalue": "invalid literal for int() with base 10: 'dfg'",
     "output_type": "error",
     "traceback": [
      "\u001b[1;31m---------------------------------------------------------------------------\u001b[0m",
      "\u001b[1;31mValueError\u001b[0m                                Traceback (most recent call last)",
      "Cell \u001b[1;32mIn[77], line 1\u001b[0m\n\u001b[1;32m----> 1\u001b[0m x \u001b[38;5;241m=\u001b[39m \u001b[38;5;28mint\u001b[39m(\u001b[38;5;28minput\u001b[39m(\u001b[38;5;124m\"\u001b[39m\u001b[38;5;124mEnter an integer\u001b[39m\u001b[38;5;124m\"\u001b[39m))\n",
      "\u001b[1;31mValueError\u001b[0m: invalid literal for int() with base 10: 'dfg'"
     ]
    }
   ],
   "source": [
    "x = int(input(\"Enter an integer\"))"
   ]
  },
  {
   "cell_type": "code",
   "execution_count": 76,
   "id": "94bd60df-fe31-41b4-9e0e-21aff5a7acdb",
   "metadata": {},
   "outputs": [
    {
     "name": "stdin",
     "output_type": "stream",
     "text": [
      "Enter an integer dfg\n"
     ]
    },
    {
     "name": "stdout",
     "output_type": "stream",
     "text": [
      "Enter again\n"
     ]
    }
   ],
   "source": [
    "try:\n",
    "    x = int(input(\"Enter an integer\"))\n",
    "except:\n",
    "    print(\"Enter again\")\n",
    "    "
   ]
  },
  {
   "cell_type": "code",
   "execution_count": 78,
   "id": "d39f22ba-7db5-4f13-bfe3-7efe74919532",
   "metadata": {},
   "outputs": [
    {
     "name": "stdin",
     "output_type": "stream",
     "text": [
      "Enter an integer dfg\n"
     ]
    },
    {
     "name": "stdout",
     "output_type": "stream",
     "text": [
      "Enter a number\n"
     ]
    }
   ],
   "source": [
    "try: \n",
    "    x = int(input(\"Enter an integer\"))\n",
    "except ValueError:\n",
    "    print(\"Enter a number\")\n",
    "    \n",
    "    "
   ]
  },
  {
   "cell_type": "markdown",
   "id": "8507fbad-ea82-4385-afb6-e36f91b76f8f",
   "metadata": {},
   "source": [
    "**Handling multiple excepptions** "
   ]
  },
  {
   "cell_type": "code",
   "execution_count": 81,
   "id": "870b9352-7ec5-44d7-8ab6-884eeaf8514f",
   "metadata": {},
   "outputs": [
    {
     "name": "stdin",
     "output_type": "stream",
     "text": [
      "Enter an integer fgh\n"
     ]
    },
    {
     "name": "stdout",
     "output_type": "stream",
     "text": [
      "Enter again\n"
     ]
    }
   ],
   "source": [
    "try: \n",
    "    x = int(input(\"Enter an integer\"))\n",
    "    y = int(input(\"Enter an integer\"))\n",
    "    print(x/y)\n",
    "except (ValueError,ZeroDivisionError):\n",
    "    print(\"Enter again\")"
   ]
  },
  {
   "cell_type": "code",
   "execution_count": 83,
   "id": "d5dbe2d6-d9c5-4a9e-b87a-c28e4cfb438a",
   "metadata": {},
   "outputs": [
    {
     "name": "stdin",
     "output_type": "stream",
     "text": [
      "Enter an integer 10\n",
      "Enter an integer 0\n"
     ]
    },
    {
     "name": "stdout",
     "output_type": "stream",
     "text": [
      "The error is division by zero\n"
     ]
    }
   ],
   "source": [
    "try: \n",
    "    x = int(input(\"Enter an integer\"))\n",
    "    y = int(input(\"Enter an integer\"))\n",
    "    print(x/y)\n",
    "except Exception as ex:\n",
    "    print(f\"The error is {ex}\")"
   ]
  },
  {
   "cell_type": "code",
   "execution_count": 84,
   "id": "fd6f0a99-8cef-4be1-84fc-2eb4f2ecbfc8",
   "metadata": {},
   "outputs": [
    {
     "name": "stdin",
     "output_type": "stream",
     "text": [
      "Enter one number 24\n",
      "Enter another number 9\n"
     ]
    },
    {
     "name": "stdout",
     "output_type": "stream",
     "text": [
      "2.6666666666666665\n",
      "Hope you had a good time\n"
     ]
    }
   ],
   "source": [
    "try:\n",
    "    inp = int(input(\"Enter one number\"))\n",
    "    inp2 = int (input(\"Enter another number\"))\n",
    "    print (inp/inp2)\n",
    "except ValueError: \n",
    "    print (\"Please enter a number\")\n",
    "except ZeroDivisionError:\n",
    "    print(\"division by 0 is not permitted\")\n",
    "else:\n",
    "    print (\"Hope you had a good time\")"
   ]
  },
  {
   "cell_type": "markdown",
   "id": "8415a335-850e-4329-9e60-42df6b810657",
   "metadata": {},
   "source": [
    "**try**:<br> \n",
    "    Some Code<br>\n",
    "**except**:<br>\n",
    "    Executed if error in the<br>\n",
    "    try block<br>\n",
    "**else**:<br>\n",
    "    execute if no exception<br>"
   ]
  },
  {
   "cell_type": "code",
   "execution_count": null,
   "id": "31678c12-e0e5-486e-8b18-fc490b9360e4",
   "metadata": {},
   "outputs": [],
   "source": []
  }
 ],
 "metadata": {
  "kernelspec": {
   "display_name": "Python 3 (ipykernel)",
   "language": "python",
   "name": "python3"
  },
  "language_info": {
   "codemirror_mode": {
    "name": "ipython",
    "version": 3
   },
   "file_extension": ".py",
   "mimetype": "text/x-python",
   "name": "python",
   "nbconvert_exporter": "python",
   "pygments_lexer": "ipython3",
   "version": "3.11.7"
  }
 },
 "nbformat": 4,
 "nbformat_minor": 5
}
