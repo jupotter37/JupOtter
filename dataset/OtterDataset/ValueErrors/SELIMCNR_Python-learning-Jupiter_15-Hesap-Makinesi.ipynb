{
 "cells": [
  {
   "cell_type": "code",
   "execution_count": 3,
   "metadata": {},
   "outputs": [
    {
     "ename": "ValueError",
     "evalue": "invalid literal for int() with base 10: 'atl'",
     "output_type": "error",
     "traceback": [
      "\u001b[1;31m---------------------------------------------------------------------------\u001b[0m",
      "\u001b[1;31mValueError\u001b[0m                                Traceback (most recent call last)",
      "Cell \u001b[1;32mIn[3], line 18\u001b[0m\n\u001b[0;32m     13\u001b[0m         \u001b[39mreturn\u001b[39;00m (\u001b[39mstr\u001b[39m(a) \u001b[39m+\u001b[39m \u001b[39m\"\u001b[39m\u001b[39m / \u001b[39m\u001b[39m\"\u001b[39m\u001b[39m+\u001b[39m\u001b[39mstr\u001b[39m(b) \u001b[39m+\u001b[39m \u001b[39m\"\u001b[39m\u001b[39m = \u001b[39m\u001b[39m\"\u001b[39m\u001b[39m+\u001b[39m \u001b[39mstr\u001b[39m(a\u001b[39m/\u001b[39mb))\n\u001b[0;32m     17\u001b[0m \u001b[39mwhile\u001b[39;00m \u001b[39mTrue\u001b[39;00m:\n\u001b[1;32m---> 18\u001b[0m     a \u001b[39m=\u001b[39m \u001b[39mint\u001b[39;49m(\u001b[39minput\u001b[39;49m(\u001b[39m\"\u001b[39;49m\u001b[39milk sayıyı giriniz: \u001b[39;49m\u001b[39m\"\u001b[39;49m))\n\u001b[0;32m     19\u001b[0m     b \u001b[39m=\u001b[39m \u001b[39mint\u001b[39m( \u001b[39minput\u001b[39m(\u001b[39m\"\u001b[39m\u001b[39mikinci sayıyı giriniz: \u001b[39m\u001b[39m\"\u001b[39m))\n\u001b[0;32m     20\u001b[0m     islem \u001b[39m=\u001b[39m  \u001b[39minput\u001b[39m(\u001b[39m\"\u001b[39m\u001b[39mİşleminizi seçiniz  +-*/ \u001b[39m\u001b[39m\"\u001b[39m)\n",
      "\u001b[1;31mValueError\u001b[0m: invalid literal for int() with base 10: 'atl'"
     ]
    }
   ],
   "source": [
    "def hesapla(a,b,islem): \n",
    "\n",
    "    if islem not in \"+-*/\":\n",
    "        return \"Lütfen şu işlemlerden birini seçiniz\"\n",
    "\n",
    "    if islem == \"+\":\n",
    "        return (str(a) + \" + \"+str(b) + \" = \"+ str(a+b))\n",
    "    if islem == \"-\":\n",
    "        return (str(a) + \" - \"+str(b) + \" = \"+ str(a-b))\n",
    "    if islem == \"*\":\n",
    "        return (str(a) + \" * \"+str(b) + \" = \"+ str(a*b))\n",
    "    if islem == \"/\":\n",
    "        return (str(a) + \" / \"+str(b) + \" = \"+ str(a/b))\n",
    "         \n",
    "\n",
    "\n",
    "while True:\n",
    "    try:    # dene  doğruysa işlemi yap\n",
    "        a = int(input(\"ilk sayıyı giriniz: \"))\n",
    "        b = int( input(\"ikinci sayıyı giriniz: \"))\n",
    "        islem =  input(\"İşleminizi seçiniz  +-*/ \")\n",
    "        print(hesapla(a,b,islem))\n",
    "    except: # yanlışsa bunu yaz\n",
    "        print(\"Lütfen sayıları düzgün giriniz\")    \n",
    "    "
   ]
  }
 ],
 "metadata": {
  "kernelspec": {
   "display_name": "Python 3",
   "language": "python",
   "name": "python3"
  },
  "language_info": {
   "codemirror_mode": {
    "name": "ipython",
    "version": 3
   },
   "file_extension": ".py",
   "mimetype": "text/x-python",
   "name": "python",
   "nbconvert_exporter": "python",
   "pygments_lexer": "ipython3",
   "version": "3.11.1"
  },
  "orig_nbformat": 4,
  "vscode": {
   "interpreter": {
    "hash": "6dc46ff3906e4414bf7f24b1863e933eef6514a11cd45315589219b1126c5b25" 
   }
  }
 },
 "nbformat": 4,
 "nbformat_minor": 2
}
