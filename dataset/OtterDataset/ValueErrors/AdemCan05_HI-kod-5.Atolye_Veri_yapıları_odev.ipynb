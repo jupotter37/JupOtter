{
 "cells": [
  {
   "cell_type": "markdown",
   "id": "032d81b2",
   "metadata": {},
   "source": [
    "# 1\n",
    "x = 3 ----> floata çevirelim. Çevirdikten sonra beri tipinide yazdıralım.\n",
    "\n",
    "y = 4.5 -----> integere çevirelim. Çevirdikten sonra beri tipinide yazdıralım.\n",
    "\n",
    "z = \"8\" -----> integera çevirelim. Çevirdikten sonra beri tipinide yazdıralım.\n",
    "\n",
    "a = \"12\" -----> floata çevirelim. Çevirdikten sonra beri tipinide yazdıralım.\n",
    "\n",
    "b = \"46.8\" ------> integera çevirelim. Çevirdikten sonra beri tipinide yazdıralım."
   ]
  },
  {
   "cell_type": "code",
   "execution_count": null,
   "id": "f1b735c0",
   "metadata": {},
   "outputs": [
    {
     "name": "stdout",
     "output_type": "stream",
     "text": [
      "x'in floata çevirilmiş hali 3.0 \n",
      "y'nin integera çevirilmiş hali 4 \n",
      "z'nin integera çevirilmiş hali 8 \n",
      "a'nın floata çevirilmiş hali 12.0 \n"
     ]
    },
    {
     "ename": "ValueError",
     "evalue": "invalid literal for int() with base 10: '46.8'",
     "output_type": "error",
     "traceback": [
      "\u001b[1;31m---------------------------------------------------------------------------\u001b[0m",
      "\u001b[1;31mValueError\u001b[0m                                Traceback (most recent call last)",
      "Cell \u001b[1;32mIn[12], line 11\u001b[0m\n\u001b[0;32m      9\u001b[0m \u001b[38;5;28mprint\u001b[39m(\u001b[38;5;124mf\u001b[39m\u001b[38;5;124m\"\u001b[39m\u001b[38;5;124mz\u001b[39m\u001b[38;5;124m'\u001b[39m\u001b[38;5;124mnin integera çevirilmiş hali \u001b[39m\u001b[38;5;132;01m{\u001b[39;00m\u001b[38;5;28mint\u001b[39m(z)\u001b[38;5;132;01m}\u001b[39;00m\u001b[38;5;124m \u001b[39m\u001b[38;5;124m\"\u001b[39m)\n\u001b[0;32m     10\u001b[0m \u001b[38;5;28mprint\u001b[39m(\u001b[38;5;124mf\u001b[39m\u001b[38;5;124m\"\u001b[39m\u001b[38;5;124ma\u001b[39m\u001b[38;5;124m'\u001b[39m\u001b[38;5;124mnın floata çevirilmiş hali \u001b[39m\u001b[38;5;132;01m{\u001b[39;00m\u001b[38;5;28mfloat\u001b[39m(a)\u001b[38;5;132;01m}\u001b[39;00m\u001b[38;5;124m \u001b[39m\u001b[38;5;124m\"\u001b[39m)\n\u001b[1;32m---> 11\u001b[0m \u001b[38;5;28mprint\u001b[39m(\u001b[38;5;124mf\u001b[39m\u001b[38;5;124m\"\u001b[39m\u001b[38;5;124mb\u001b[39m\u001b[38;5;124m'\u001b[39m\u001b[38;5;124mnin integera çevirilmiş hali \u001b[39m\u001b[38;5;132;01m{\u001b[39;00m\u001b[38;5;28;43mint\u001b[39;49m\u001b[43m(\u001b[49m\u001b[43mb\u001b[49m\u001b[43m)\u001b[49m\u001b[38;5;132;01m}\u001b[39;00m\u001b[38;5;124m \u001b[39m\u001b[38;5;124m\"\u001b[39m)\n",
      "\u001b[1;31mValueError\u001b[0m: invalid literal for int() with base 10: '46.8'"
     ]
    }
   ],
   "source": [
    "x = 3\n",
    "y = 4.5\n",
    "z = \"8\"\n",
    "a = \"12\"\n",
    "b = \"46.8\"\n",
    "\n",
    "print(f\"x'in floata çevirilmiş hali {float(x)} \")\n",
    "print(f\"y'nin integera çevirilmiş hali {int(y)} \")\n",
    "print(f\"z'nin integera çevirilmiş hali {int(z)} \")\n",
    "print(f\"a'nın floata çevirilmiş hali {float(a)} \")\n",
    "print(f\"b'nin integera çevirilmiş hali {int(b)} \") # b sayısının integera çevirilirken hata verecektir"
   ]
  },
  {
   "cell_type": "markdown",
   "id": "95509718",
   "metadata": {},
   "source": [
    "# 2 \n",
    "İsimlerden oluşan üç değişkene yaş değerleri atanır. Belirlenen üç değişken birbiriyle karşılaştırma operatörleri ile karşılaştırılır. Bu karşılaştırmalara mantıksal operatörler de eklenir."
   ]
  },
  {
   "cell_type": "code",
   "execution_count": null,
   "id": "50f77b4f",
   "metadata": {},
   "outputs": [
    {
     "data": {
      "text/plain": [
       "True"
      ]
     },
     "execution_count": 10,
     "metadata": {},
     "output_type": "execute_result"
    }
   ],
   "source": [
    "Adem = 19\n",
    "Demir = 23\n",
    "Cihan = 33\n",
    "\n",
    "Adem < Demir and Demir < Cihan"
   ]
  },
  {
   "cell_type": "markdown",
   "id": "a1a0eb92",
   "metadata": {},
   "source": [
    "# 3\n",
    "Kullanıcıdan iki değer girmesini istenir. Girilen değerlerin toplama, çıkarma, çarpma, bölme sonuçlarını yazdırılır."
   ]
  },
  {
   "cell_type": "code",
   "execution_count": 8,
   "id": "c361e45a",
   "metadata": {},
   "outputs": [
    {
     "name": "stdout",
     "output_type": "stream",
     "text": [
      "x + y =  10\n",
      "x - y =  0\n",
      "x * y =  25\n",
      "x // y =  1\n"
     ]
    }
   ],
   "source": [
    "x = int(input(\"x'i giriniz: \"))\n",
    "y = int(input(\"y'yi giriniz: \"))\n",
    "\n",
    "print(\"x + y = \", x + y)\n",
    "print(\"x - y = \", x - y)\n",
    "print(\"x * y = \", x * y)\n",
    "print(\"x // y = \", x // y)"
   ]
  },
  {
   "cell_type": "markdown",
   "id": "060b0bea",
   "metadata": {},
   "source": [
    "# 4\n",
    "Kullanıcıdan isim, yaş, şehir ve meslek bilgilerini istenir ve cevaplarını yazdırılır."
   ]
  },
  {
   "cell_type": "code",
   "execution_count": null,
   "id": "6f5dea59",
   "metadata": {},
   "outputs": [
    {
     "name": "stdout",
     "output_type": "stream",
     "text": [
      "İsim: Adem Can, Yaş: 19, Şehir: Adıyaman, meslek: Bilgisayar Mühendisi\n"
     ]
    }
   ],
   "source": [
    "isim = input(\"İsim giriniz: \")\n",
    "yas = int(input(\"Yaş giriniz: \"))\n",
    "sehir = input(\"Şehir giriniz: \")\n",
    "meslek = input(\"Meslek giriniz: \") \n",
    "\n",
    "print(f\"İsim: {isim}, Yaş: {yas}, Şehir: {sehir}, Meslek: {meslek}\")"
   ]
  },
  {
   "cell_type": "markdown",
   "id": "55e1a34e",
   "metadata": {},
   "source": [
    "# 5\n",
    "\"Hi-Kod Veri Bilimi Atölyesi\" ifadesini bir değişkene tanımlanır.\n",
    "\n",
    "\n",
    " 1. İfadedeki her bir kelimeyi (\"Hi-Kod\", \"Veri\", \"Bilimi\", \"Atölyesi\") değişken içinden seçilir. \n",
    " 2. İfadeyi hepsini büyük harf olacak hale çevrilir. (\"HI-KOD VERİ BİLİMİ ATÖLYESİ\") \n",
    " 3. İfadeyi hepsini büyük harf olacak hale çevrilir.(\"hi-kod veri bilimi atölyesi\") \n",
    "\n",
    "\"0123456789\" ifadesindeki yalnızca çift sayıları ve yalnızca tek sayıları seçilir. (\"02468\", \"13579\")"
   ]
  },
  {
   "cell_type": "code",
   "execution_count": 34,
   "id": "0fc1bc40",
   "metadata": {},
   "outputs": [
    {
     "name": "stdout",
     "output_type": "stream",
     "text": [
      "İlk kelime: Hi-Kod, İkinci Kelime: Veri, Üçüncü Kelime: Bilimi, Dördüncü Kelime: Atölyesi\n",
      "atölye ifadesinin büyük harf hali HI-KOD VERI BILIMI ATÖLYESI\n",
      "atölye ifadesinin küçük harf hali hi-kod veri bilimi atölyesi\n",
      "Sayı değişkeninin çift sayıları: 02468\n",
      "Sayı değişkeninin çift sayıları: 13579\n"
     ]
    }
   ],
   "source": [
    "atölye = \" Hi-Kod Veri Bilimi Atölyesi\"\n",
    "atölye_değişken = atölye.split()\n",
    "print(f\"İlk kelime: {atölye_değişken[0]}, İkinci Kelime: {atölye_değişken[1]}, Üçüncü Kelime: {atölye_değişken[2]}, Dördüncü Kelime: {atölye_değişken[3]}\")\n",
    "print(f\"atölye ifadesinin büyük harf hali{atölye.upper()}\")\n",
    "print(f\"atölye ifadesinin küçük harf hali{atölye.capitalize()}\")\n",
    "\n",
    "sayi = \"0123456789\"\n",
    "print(f\"Sayı değişkeninin çift sayıları: {sayi[::2]}\")\n",
    "print(f\"Sayı değişkeninin çift sayıları: {sayi[1::2]}\")"
   ]
  }
 ],
 "metadata": {
  "kernelspec": {
   "display_name": "Python 3",
   "language": "python",
   "name": "python3"
  },
  "language_info": {
   "codemirror_mode": {
    "name": "ipython",
    "version": 3
   },
   "file_extension": ".py",
   "mimetype": "text/x-python",
   "name": "python",
   "nbconvert_exporter": "python",
   "pygments_lexer": "ipython3",
   "version": "3.13.0"
  }
 },
 "nbformat": 4,
 "nbformat_minor": 5
}
