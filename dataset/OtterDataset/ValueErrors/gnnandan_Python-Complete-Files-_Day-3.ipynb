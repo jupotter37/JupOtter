{
 "cells": [
  {
   "cell_type": "markdown",
   "id": "4854dedd",
   "metadata": {},
   "source": [
    "## Day 3 \n",
    "- conditional statement \n",
    "- logical operators\n",
    "- code blocks \n",
    "- scope(Global, Local)"
   ]
  },
  {
   "cell_type": "markdown",
   "id": "124ac2b6",
   "metadata": {},
   "source": [
    "### control flow with if / else statement and conditional Operators "
   ]
  },
  {
   "cell_type": "markdown",
   "id": "b6aff668",
   "metadata": {},
   "source": [
    "- if statement\n",
    "\n",
    "<code>if condition:\n",
    "    <span class=\"mark\">do this</span>\n",
    "else:\n",
    "    <span class=\"burk\">do this</span>\n",
    "</code>"
   ]
  },
  {
   "cell_type": "markdown",
   "id": "8d227e1f",
   "metadata": {},
   "source": [
    "#### logical operator"
   ]
  },
  {
   "cell_type": "raw",
   "id": "e1c56e90",
   "metadata": {},
   "source": [
    "- < greaterthan\n",
    "- > lesserthan \n",
    "- == equalsto\n",
    "- >= lesserthan or equalsto \n",
    "- <= greaterthan or equalsto\n",
    "- != not equals to \n",
    "- = assignment operator "
   ]
  },
  {
   "cell_type": "code",
   "execution_count": 1,
   "id": "928a4db1",
   "metadata": {
    "ExecuteTime": {
     "end_time": "2021-08-05T05:03:28.440866Z",
     "start_time": "2021-08-05T05:03:27.353147Z"
    }
   },
   "outputs": [
    {
     "name": "stdout",
     "output_type": "stream",
     "text": [
      "Welcome to rollercoster\n",
      "Enter the your height in cm:\n"
     ]
    },
    {
     "ename": "ValueError",
     "evalue": "invalid literal for int() with base 10: ''",
     "output_type": "error",
     "traceback": [
      "\u001b[1;31m---------------------------------------------------------------------------\u001b[0m",
      "\u001b[1;31mValueError\u001b[0m                                Traceback (most recent call last)",
      "\u001b[1;32m<ipython-input-1-c18afc8df3ea>\u001b[0m in \u001b[0;36m<module>\u001b[1;34m\u001b[0m\n\u001b[0;32m      1\u001b[0m \u001b[0mprint\u001b[0m\u001b[1;33m(\u001b[0m\u001b[1;34m\"Welcome to rollercoster\"\u001b[0m\u001b[1;33m)\u001b[0m\u001b[1;33m\u001b[0m\u001b[1;33m\u001b[0m\u001b[0m\n\u001b[1;32m----> 2\u001b[1;33m \u001b[0mheight\u001b[0m\u001b[1;33m=\u001b[0m\u001b[0mint\u001b[0m\u001b[1;33m(\u001b[0m\u001b[0minput\u001b[0m\u001b[1;33m(\u001b[0m\u001b[1;34m\"Enter the your height in cm:\"\u001b[0m\u001b[1;33m)\u001b[0m\u001b[1;33m)\u001b[0m\u001b[1;33m\u001b[0m\u001b[1;33m\u001b[0m\u001b[0m\n\u001b[0m\u001b[0;32m      3\u001b[0m \u001b[1;33m\u001b[0m\u001b[0m\n\u001b[0;32m      4\u001b[0m \u001b[1;32mif\u001b[0m \u001b[0mheight\u001b[0m \u001b[1;33m>=\u001b[0m \u001b[1;36m120\u001b[0m\u001b[1;33m:\u001b[0m\u001b[1;33m\u001b[0m\u001b[1;33m\u001b[0m\u001b[0m\n\u001b[0;32m      5\u001b[0m     \u001b[0mprint\u001b[0m\u001b[1;33m(\u001b[0m\u001b[1;34m\"Enjoy.....! your ride\"\u001b[0m\u001b[1;33m)\u001b[0m\u001b[1;33m\u001b[0m\u001b[1;33m\u001b[0m\u001b[0m\n",
      "\u001b[1;31mValueError\u001b[0m: invalid literal for int() with base 10: ''"
     ]
    }
   ],
   "source": [
    "print(\"Welcome to rollercoster\")\n",
    "height=int(input(\"Enter the your height in cm:\"))\n",
    "\n",
    "if height >= 120:\n",
    "    print(\"Enjoy.....! your ride\") \n",
    "else:\n",
    "    print(\"Sorry you are not permitted due to height constraint\")\n",
    "    \n",
    "# note indentation error if not indented properly  "
   ]
  },
  {
   "cell_type": "markdown",
   "id": "2cd4b927",
   "metadata": {},
   "source": [
    "#### <div class=\"mark\">odd or even program</div>"
   ]
  },
  {
   "cell_type": "code",
   "execution_count": 2,
   "id": "3a303628",
   "metadata": {
    "ExecuteTime": {
     "end_time": "2021-08-05T05:03:34.324533Z",
     "start_time": "2021-08-05T05:03:31.159894Z"
    }
   },
   "outputs": [
    {
     "name": "stdout",
     "output_type": "stream",
     "text": [
      "Enter the number:2\n",
      "The 2 is even number\n"
     ]
    }
   ],
   "source": [
    "num = int(input(\"Enter the number:\"))\n",
    "if num % 2 == 0:\n",
    "    print(f\"The {num} is even number\")\n",
    "else:\n",
    "    print(f\"The {num} is odd number\")"
   ]
  },
  {
   "cell_type": "markdown",
   "id": "f7c55c10",
   "metadata": {},
   "source": [
    "### Nested if and elif statement"
   ]
  },
  {
   "cell_type": "markdown",
   "id": "30ec849b",
   "metadata": {},
   "source": [
    "- elif statement\n",
    "\n",
    "<code>if condition:\n",
    "    <span class=\"mark\">do this</span>\n",
    "elif:\n",
    "    <span class=\"girk\">do this</span>\n",
    "else:\n",
    "    <span class=\"burk\">do this</span>\n",
    "</code>"
   ]
  },
  {
   "cell_type": "code",
   "execution_count": 3,
   "id": "f5059aff",
   "metadata": {
    "ExecuteTime": {
     "end_time": "2021-08-05T05:03:41.620184Z",
     "start_time": "2021-08-05T05:03:36.851092Z"
    }
   },
   "outputs": [
    {
     "name": "stdout",
     "output_type": "stream",
     "text": [
      "What is your height?1.7\n"
     ]
    },
    {
     "ename": "ValueError",
     "evalue": "invalid literal for int() with base 10: '1.7'",
     "output_type": "error",
     "traceback": [
      "\u001b[1;31m---------------------------------------------------------------------------\u001b[0m",
      "\u001b[1;31mValueError\u001b[0m                                Traceback (most recent call last)",
      "\u001b[1;32m<ipython-input-3-b61d805435d2>\u001b[0m in \u001b[0;36m<module>\u001b[1;34m\u001b[0m\n\u001b[1;32m----> 1\u001b[1;33m \u001b[0mheight\u001b[0m \u001b[1;33m=\u001b[0m \u001b[0mint\u001b[0m\u001b[1;33m(\u001b[0m\u001b[0minput\u001b[0m\u001b[1;33m(\u001b[0m\u001b[1;34m\"What is your height?\"\u001b[0m\u001b[1;33m)\u001b[0m\u001b[1;33m)\u001b[0m\u001b[1;33m\u001b[0m\u001b[1;33m\u001b[0m\u001b[0m\n\u001b[0m\u001b[0;32m      2\u001b[0m \u001b[1;33m\u001b[0m\u001b[0m\n\u001b[0;32m      3\u001b[0m \u001b[1;32mif\u001b[0m \u001b[0mheight\u001b[0m \u001b[1;33m>=\u001b[0m \u001b[1;36m120\u001b[0m\u001b[1;33m:\u001b[0m\u001b[1;33m\u001b[0m\u001b[1;33m\u001b[0m\u001b[0m\n\u001b[0;32m      4\u001b[0m     \u001b[0mage\u001b[0m \u001b[1;33m=\u001b[0m \u001b[0mint\u001b[0m\u001b[1;33m(\u001b[0m\u001b[0minput\u001b[0m\u001b[1;33m(\u001b[0m\u001b[1;34m\"Enter the your age:\"\u001b[0m\u001b[1;33m)\u001b[0m\u001b[1;33m)\u001b[0m\u001b[1;33m\u001b[0m\u001b[1;33m\u001b[0m\u001b[0m\n\u001b[0;32m      5\u001b[0m     \u001b[1;32mif\u001b[0m \u001b[0mage\u001b[0m \u001b[1;33m<=\u001b[0m \u001b[1;36m18\u001b[0m\u001b[1;33m:\u001b[0m\u001b[1;33m\u001b[0m\u001b[1;33m\u001b[0m\u001b[0m\n",
      "\u001b[1;31mValueError\u001b[0m: invalid literal for int() with base 10: '1.7'"
     ]
    }
   ],
   "source": [
    "height = int(input(\"What is your height?\"))\n",
    "\n",
    "if height >= 120:\n",
    "    age = int(input(\"Enter the your age:\"))\n",
    "    if age <= 18:\n",
    "        print(f\"for age {age} please pay 80\")\n",
    "        print(\"Thank You Enjoy...... your ride\")\n",
    "    else:\n",
    "        print(f\"For age {age} please pay 50\")\n",
    "        print(\"Thank You Enjoy...... your ride\")\n",
    "else:\n",
    "    print(\"Sorry you can't able to ride \")"
   ]
  },
  {
   "cell_type": "code",
   "execution_count": 5,
   "id": "04893f59",
   "metadata": {
    "ExecuteTime": {
     "end_time": "2021-08-05T05:03:55.041318Z",
     "start_time": "2021-08-05T05:03:53.682496Z"
    }
   },
   "outputs": [
    {
     "name": "stdout",
     "output_type": "stream",
     "text": [
      "What is your height?\n"
     ]
    },
    {
     "ename": "ValueError",
     "evalue": "invalid literal for int() with base 10: ''",
     "output_type": "error",
     "traceback": [
      "\u001b[1;31m---------------------------------------------------------------------------\u001b[0m",
      "\u001b[1;31mValueError\u001b[0m                                Traceback (most recent call last)",
      "\u001b[1;32m<ipython-input-5-34ff0ad6ccbf>\u001b[0m in \u001b[0;36m<module>\u001b[1;34m\u001b[0m\n\u001b[1;32m----> 1\u001b[1;33m \u001b[0mheight\u001b[0m \u001b[1;33m=\u001b[0m \u001b[0mint\u001b[0m\u001b[1;33m(\u001b[0m\u001b[0minput\u001b[0m\u001b[1;33m(\u001b[0m\u001b[1;34m\"What is your height?\"\u001b[0m\u001b[1;33m)\u001b[0m\u001b[1;33m)\u001b[0m\u001b[1;33m\u001b[0m\u001b[1;33m\u001b[0m\u001b[0m\n\u001b[0m\u001b[0;32m      2\u001b[0m \u001b[1;32mif\u001b[0m \u001b[0mheight\u001b[0m \u001b[1;33m>=\u001b[0m \u001b[1;36m120\u001b[0m\u001b[1;33m:\u001b[0m\u001b[1;33m\u001b[0m\u001b[1;33m\u001b[0m\u001b[0m\n\u001b[0;32m      3\u001b[0m     \u001b[0mage\u001b[0m \u001b[1;33m=\u001b[0m \u001b[0mint\u001b[0m\u001b[1;33m(\u001b[0m\u001b[0minput\u001b[0m\u001b[1;33m(\u001b[0m\u001b[1;34m\"Enter the your age:\"\u001b[0m\u001b[1;33m)\u001b[0m\u001b[1;33m)\u001b[0m\u001b[1;33m\u001b[0m\u001b[1;33m\u001b[0m\u001b[0m\n\u001b[0;32m      4\u001b[0m     \u001b[1;32mif\u001b[0m \u001b[0mage\u001b[0m \u001b[1;33m<=\u001b[0m \u001b[1;36m10\u001b[0m\u001b[1;33m:\u001b[0m\u001b[1;33m\u001b[0m\u001b[1;33m\u001b[0m\u001b[0m\n\u001b[0;32m      5\u001b[0m         \u001b[0mprint\u001b[0m\u001b[1;33m(\u001b[0m\u001b[1;34mf\"for age {age} please pay 30 rs\"\u001b[0m\u001b[1;33m)\u001b[0m\u001b[1;33m\u001b[0m\u001b[1;33m\u001b[0m\u001b[0m\n",
      "\u001b[1;31mValueError\u001b[0m: invalid literal for int() with base 10: ''"
     ]
    }
   ],
   "source": [
    "height = int(input(\"What is your height?\"))\n",
    "if height >= 120:\n",
    "    age = int(input(\"Enter the your age:\"))\n",
    "    if age <= 10:\n",
    "        print(f\"for age {age} please pay 30 rs\")\n",
    "        print(\"Thank You Enjoy...... your ride\")   \n",
    "    elif age <=18:\n",
    "        print(f\"for age {age} please pay 50 rs\")\n",
    "        print(\"Thank You Enjoy...... your ride\")          \n",
    "    else:\n",
    "        print(f\"For age {age} please pay 80 rs\")\n",
    "        print(\"Thank You Enjoy...... your ride\")\n",
    "else:\n",
    "    print(\"Sorry you can't able to ride \")"
   ]
  },
  {
   "cell_type": "markdown",
   "id": "df67d60f",
   "metadata": {},
   "source": [
    "#### <div class=\"mark\">BMI 2.0</div>\n",
    "\n",
    "- Under 18.5 they are underweight\n",
    "- Over 18.5 but below 25 they have a normal weight\n",
    "- Over 25 but below 30 they are slightly overweight\n",
    "- Over 30 but below 35 they are obese\n",
    "- Above 35 they are clinically obese.\n",
    "\n",
    "__output__\n",
    "- weight = 85\n",
    "- height = 1.75\n",
    "- Your BMI is 28, you are slightly overweight."
   ]
  },
  {
   "cell_type": "code",
   "execution_count": 6,
   "id": "be8d2191",
   "metadata": {
    "ExecuteTime": {
     "end_time": "2021-08-05T05:04:07.584226Z",
     "start_time": "2021-08-05T05:03:56.507044Z"
    }
   },
   "outputs": [
    {
     "name": "stdout",
     "output_type": "stream",
     "text": [
      "enter your height in m: 120\n",
      "enter your weight in kg: 22\n",
      "Your BMI is 0, you are underweight.\n"
     ]
    }
   ],
   "source": [
    "height = float(input(\"enter your height in m: \"))\n",
    "weight = float(input(\"enter your weight in kg: \"))\n",
    "\n",
    "bmi= round(weight / (height * height))\n",
    "\n",
    "if bmi <= 18:\n",
    "    print(f\"Your BMI is {bmi}, you are underweight.\")\n",
    "elif bmi <= 25:\n",
    "    print(f\"Your BMI is {bmi}, you have a normal weight.\")\n",
    "elif bmi <= 30:\n",
    "    print(f\"Your BMI is {bmi}, you are slightly overweight.\")\n",
    "elif bmi <= 35:\n",
    "    print(f\"Your BMI is {bmi}, you are obese.\")\n",
    "else:\n",
    "    print(f\"Your BMI is {bmi}, you are clinically obese.\")"
   ]
  },
  {
   "cell_type": "markdown",
   "id": "0dc91873",
   "metadata": {},
   "source": [
    "#### <div class=\"mark\"> Leap Year\n",
    "</div>\n",
    "\n",
    "__Hint__\n",
    "- Try to visualise the rules by creating a flow chart on www.draw.io\n",
    "- If you really get stuck, you can see the flow chart I created:\n",
    "- visit to check your flow chart https://bit.ly/36BjS2D\n",
    "\n",
    "__actual working__\n",
    "- __input__ | __output__\n",
    "- 2400    | Leap year.\n",
    "- 1989    | Not leap year.\n",
    "\n",
    "\n"
   ]
  },
  {
   "cell_type": "code",
   "execution_count": 14,
   "id": "580d47af",
   "metadata": {
    "ExecuteTime": {
     "end_time": "2021-08-05T05:24:57.916594Z",
     "start_time": "2021-08-05T05:24:56.398229Z"
    }
   },
   "outputs": [
    {
     "name": "stdout",
     "output_type": "stream",
     "text": [
      "Enter the year: 2020\n",
      "The year 2020 is a leap year\n"
     ]
    }
   ],
   "source": [
    "year = int(input(\"Enter the year: \"))\n",
    "if year % 4 == 0:\n",
    "    if year % 100 == 0:\n",
    "        if year % 400 == 0:\n",
    "            print(f\"The year {year} is a leap year\")\n",
    "        else:\n",
    "            print(f\"The year {year} is not a leap year\")\n",
    "    else:\n",
    "        print(f\"The year {year} is a leap year\")\n",
    "else:\n",
    "    print(f\"The year {year} is not a leap year\")"
   ]
  },
  {
   "cell_type": "markdown",
   "id": "0ffa9c3b",
   "metadata": {},
   "source": [
    "### Multiple if statements succession\n",
    "- if / elif / else "
   ]
  },
  {
   "cell_type": "code",
   "execution_count": 34,
   "id": "c2ad358f",
   "metadata": {
    "ExecuteTime": {
     "end_time": "2021-08-05T06:15:40.898289Z",
     "start_time": "2021-08-05T06:15:38.435800Z"
    },
    "collapsed": true
   },
   "outputs": [
    {
     "name": "stdout",
     "output_type": "stream",
     "text": [
      "Enter your height:\n"
     ]
    },
    {
     "ename": "ValueError",
     "evalue": "invalid literal for int() with base 10: ''",
     "output_type": "error",
     "traceback": [
      "\u001b[1;31m---------------------------------------------------------------------------\u001b[0m",
      "\u001b[1;31mValueError\u001b[0m                                Traceback (most recent call last)",
      "\u001b[1;32m<ipython-input-34-726684b6387c>\u001b[0m in \u001b[0;36m<module>\u001b[1;34m\u001b[0m\n\u001b[0;32m      1\u001b[0m \u001b[1;31m# rollercoaster updated\u001b[0m\u001b[1;33m\u001b[0m\u001b[1;33m\u001b[0m\u001b[1;33m\u001b[0m\u001b[0m\n\u001b[1;32m----> 2\u001b[1;33m \u001b[0mheight\u001b[0m \u001b[1;33m=\u001b[0m \u001b[0mint\u001b[0m\u001b[1;33m(\u001b[0m\u001b[0minput\u001b[0m\u001b[1;33m(\u001b[0m\u001b[1;34m\"Enter your height:\"\u001b[0m\u001b[1;33m)\u001b[0m\u001b[1;33m)\u001b[0m\u001b[1;33m\u001b[0m\u001b[1;33m\u001b[0m\u001b[0m\n\u001b[0m\u001b[0;32m      3\u001b[0m \u001b[0mbill\u001b[0m \u001b[1;33m=\u001b[0m \u001b[1;36m0\u001b[0m\u001b[1;33m\u001b[0m\u001b[1;33m\u001b[0m\u001b[0m\n\u001b[0;32m      4\u001b[0m \u001b[1;33m\u001b[0m\u001b[0m\n\u001b[0;32m      5\u001b[0m \u001b[1;32mif\u001b[0m \u001b[0mheight\u001b[0m \u001b[1;33m>=\u001b[0m \u001b[1;36m120\u001b[0m\u001b[1;33m:\u001b[0m\u001b[1;33m\u001b[0m\u001b[1;33m\u001b[0m\u001b[0m\n",
      "\u001b[1;31mValueError\u001b[0m: invalid literal for int() with base 10: ''"
     ]
    }
   ],
   "source": [
    "# rollercoaster updated\n",
    "height = int(input(\"Enter your height:\"))\n",
    "bill = 0\n",
    "\n",
    "if height >= 120:\n",
    "    age = int(input(\"What is your age?\"))\n",
    "    if age <= 12:\n",
    "        bill = 30\n",
    "        print(\"Child tickets are 30rs\")\n",
    "    elif age <= 18:\n",
    "        bill = 50\n",
    "        print(\"Youth tickets are 50rs\")\n",
    "    else:\n",
    "        bill = 80\n",
    "        print(\"Adult tickets are 80rs\")\n",
    "        \n",
    "    photo = input(\"Do you want to take photo say ('Yes' or 'No'):\")\n",
    "    if photo == 'yes':\n",
    "        bill=bill+10\n",
    "#         bill+=10\n",
    "    print(f\"The bill amount is {bill}rs\")\n",
    "    \n",
    "else:\n",
    "    print(\"Sorry, you can't able to ride\")"
   ]
  },
  {
   "cell_type": "markdown",
   "id": "d286ede5",
   "metadata": {},
   "source": [
    "#### <span class=\"mark\">Pizza Ordering Challenge</span>\n",
    "\n",
    "__input__\n",
    "- size = \"L\"\n",
    "- add_pepperoni = \"Y\"\n",
    "- extra_cheese = \"N\"\n",
    "\n",
    "__output__\n",
    "- Your final bill is: $28.\n",
    "\n",
    "\n"
   ]
  },
  {
   "cell_type": "code",
   "execution_count": 48,
   "id": "4414e6bb",
   "metadata": {
    "ExecuteTime": {
     "end_time": "2021-08-05T07:02:34.090473Z",
     "start_time": "2021-08-05T07:02:29.131080Z"
    },
    "code_folding": [],
    "scrolled": false
   },
   "outputs": [
    {
     "name": "stdout",
     "output_type": "stream",
     "text": [
      "Welcome to Python Pizza Deliveries!\n",
      "--------------------------------------\n",
      "What size pizza do you want? S, M, or L S\n",
      "\n",
      ">>> Small Pizza price 150rs\n",
      "\n",
      "Do you want pepperoni? Y or N >> N\n",
      "\n",
      "Do you want extra cheese? Y or N >> N\n",
      "------------------------------\n",
      "Your final bill is: 150rs\n"
     ]
    }
   ],
   "source": [
    "print(\"Welcome to Python Pizza Deliveries!\")\n",
    "print(\"--------------------------------------\")\n",
    "size = input(\"What size pizza do you want? S, M, or L \")\n",
    "print()\n",
    "bill = 0\n",
    "add_pepperoni = 0\n",
    "extra_cheese = 0\n",
    "\n",
    "# taking size as input \n",
    "if size == 'S':\n",
    "    print(f\">>> Small Pizza price 150rs\")\n",
    "    bill = 150\n",
    "    \n",
    "\n",
    "elif size == 'M':\n",
    "    print(f\">>> Medium Pizza price 200rs\")\n",
    "    bill = 200\n",
    "    \n",
    "\n",
    "else:\n",
    "    print(\">>> Large Pizza price 250rs\")\n",
    "    bill = 250\n",
    "    \n",
    "print()\n",
    "\n",
    "# taking extra toppings as input \n",
    "add_pepperoni = input(\"Do you want pepperoni? Y or N >> \")\n",
    "if add_pepperoni == 'Y' :\n",
    "    if size == 'S':\n",
    "        print(\">>> Pepperoni for Small Pizza: +15rs\")\n",
    "        bill = bill + 15\n",
    "    else:\n",
    "        print(\">>> Pepperoni for Medium or Large Pizza: +20rs\")\n",
    "        bill = bill + 20\n",
    "        \n",
    "print()\n",
    "extra_cheese = input(\"Do you want extra cheese? Y or N >> \")   \n",
    "if extra_cheese == 'Y':\n",
    "    print(\">>> Extra cheese for any size pizza: +10rs\")\n",
    "    bill =bill + 10\n",
    "\n",
    "# final bill\n",
    "print(\"------------------------------\")\n",
    "print(f\"Your final bill is: {bill}rs\")"
   ]
  },
  {
   "cell_type": "markdown",
   "id": "ebba6cee",
   "metadata": {},
   "source": [
    "### Logical Operator \n",
    "- __and__ : can be used when two a and b needs to satisfy condition\n",
    "- __or__ : can be used when we one a or b needs to satisfy condition\n",
    "- __not__ : can be used when we need an inverse value "
   ]
  },
  {
   "cell_type": "code",
   "execution_count": 19,
   "id": "a3c71e01",
   "metadata": {
    "ExecuteTime": {
     "end_time": "2021-08-05T12:26:30.835682Z",
     "start_time": "2021-08-05T12:26:30.793700Z"
    }
   },
   "outputs": [
    {
     "name": "stdout",
     "output_type": "stream",
     "text": [
      "<<< and >>>\n",
      "True\n",
      "False\n",
      "False\n",
      "False\n",
      "\n",
      "<<< or >>>\n",
      "True\n",
      "True\n",
      "True\n",
      "False\n",
      "\n",
      "<<< or >>>\n",
      "False\n",
      "True\n"
     ]
    }
   ],
   "source": [
    "a=True\n",
    "b=False\n",
    "# a,b=True, False you can use like this also\n",
    "\n",
    "# and\n",
    "\n",
    "print(\"<<< and >>>\")\n",
    "print(a and a)\n",
    "print(a and b)\n",
    "print(b and a)\n",
    "print(b and b)\n",
    "\n",
    "print()\n",
    "print(\"<<< or >>>\")\n",
    "print(a or a)\n",
    "print(a or b)\n",
    "print(b or a)\n",
    "print(b or b)\n",
    "\n",
    "print()\n",
    "print(\"<<< or >>>\")\n",
    "print(not a)\n",
    "print(not b)"
   ]
  },
  {
   "cell_type": "markdown",
   "id": "7c5e1df4",
   "metadata": {},
   "source": [
    "#### <span class=\"mark\">Rollercoaster using logical operators</span>"
   ]
  },
  {
   "cell_type": "code",
   "execution_count": 24,
   "id": "2593654d",
   "metadata": {
    "ExecuteTime": {
     "end_time": "2021-08-05T12:36:33.506395Z",
     "start_time": "2021-08-05T12:36:25.094609Z"
    }
   },
   "outputs": [
    {
     "name": "stdout",
     "output_type": "stream",
     "text": [
      "Enter your height:122\n",
      "What is your age?52\n",
      "our company won't take money for elders. Enjoy... your ride \n",
      "Do you want to take photo say ('yes' or 'no'):yes\n",
      ">>> bill is 0rs Enjoy... your ride\n"
     ]
    }
   ],
   "source": [
    "# rollercoaster updated\n",
    "height = int(input(\"Enter your height:\"))\n",
    "bill = 0\n",
    "\n",
    "if height >= 120:\n",
    "    age = int(input(\"What is your age?\"))\n",
    "    if age <= 12:\n",
    "        bill = 30\n",
    "        print(\">>> Child tickets are 30rs\")\n",
    "    elif age <= 18:\n",
    "        bill = 50\n",
    "        print(\">>> Youth tickets are 50rs\")\n",
    "    elif age > 18 and age < 50:\n",
    "        bill = 80\n",
    "        print(\">>> Adult tickets are 80rs\")\n",
    "    elif age >= 50:\n",
    "        bill = 0\n",
    "        print(\"our company won't take money for elders. Enjoy... your ride \")\n",
    "\n",
    "    photo = input(\"Do you want to take photo say ('yes' or 'no'):\")\n",
    "    if photo == 'yes':\n",
    "        if age >= 50:\n",
    "            print(f\">>> bill is {bill}rs Enjoy... your ride\")\n",
    "        else:\n",
    "            bill = bill + 10 # or bill+=10\n",
    "            print(f\">>> The bill amount is {bill}rs\")\n",
    "else:\n",
    "    print(\"Sorry, you can't able to ride\")"
   ]
  },
  {
   "cell_type": "markdown",
   "id": "dd548971",
   "metadata": {},
   "source": [
    "#### Love Calculator"
   ]
  },
  {
   "cell_type": "raw",
   "id": "450ab8d6",
   "metadata": {},
   "source": [
    "Take both people's names and check for the number of times the letters in the word TRUE occurs. Then check for the number of times the letters in the word LOVE occurs. Then combine these numbers to make a 2 digit number."
   ]
  },
  {
   "cell_type": "code",
   "execution_count": 48,
   "id": "3f416d1a",
   "metadata": {
    "ExecuteTime": {
     "end_time": "2021-08-05T13:05:34.714558Z",
     "start_time": "2021-08-05T13:05:30.624356Z"
    }
   },
   "outputs": [
    {
     "name": "stdout",
     "output_type": "stream",
     "text": [
      "Welcome to the Love Calculator!\n",
      "What is your name? \n",
      "Nandan\n",
      "What is their name? \n",
      "Nandan\n",
      "Love Scor: 0%\n",
      "Your love score is 0, you go like coke and mentos\n"
     ]
    }
   ],
   "source": [
    "print(\"Welcome to the Love Calculator!\")\n",
    "name1 =  input(\"What is your name? \\n\")\n",
    "name2 =  input(\"What is their name? \\n\")\n",
    "\n",
    "\n",
    "combined_string=name1+name2\n",
    "combined_string=combined_string.lower()\n",
    "t=combined_string.count('t')\n",
    "r=combined_string.count('r')\n",
    "u=combined_string.count('u')\n",
    "e=combined_string.count('e')\n",
    "\n",
    "true=t+r+u+e\n",
    "\n",
    "l=combined_string.count('l')\n",
    "o=combined_string.count('o')\n",
    "v=combined_string.count('v')\n",
    "e=combined_string.count('e')\n",
    "\n",
    "love=l+o+v+e\n",
    "\n",
    "love_score=str(true+love)\n",
    "\n",
    "print(\"Love Scor:\",love_score+\"%\")\n",
    "\n",
    "love_score =int(love_score)\n",
    "# or\n",
    "love_score=int(str(true+love))\n",
    "\n",
    "if love_score < 10 or love_score > 90:\n",
    "    print(f\"Your love score is {love_score}, you go like coke and mentos\")\n",
    "elif love_score >= 40 and love_score <= 50:\n",
    "    print(f\"Your score is {love_score}, you are allright together\")\n",
    "else:\n",
    "    print(f\"Your score is {love_score}\")"
   ]
  }
 ],
 "metadata": {
  "kernelspec": {
   "display_name": "Python 3",
   "language": "python",
   "name": "python3"
  },
  "language_info": {
   "codemirror_mode": {
    "name": "ipython",
    "version": 3
   },
   "file_extension": ".py",
   "mimetype": "text/x-python",
   "name": "python",
   "nbconvert_exporter": "python",
   "pygments_lexer": "ipython3",
   "version": "3.8.10"
  },
  "toc": {
   "base_numbering": 1,
   "nav_menu": {},
   "number_sections": true,
   "sideBar": true,
   "skip_h1_title": false,
   "title_cell": "Table of Contents",
   "title_sidebar": "Contents",
   "toc_cell": false,
   "toc_position": {
    "height": "calc(100% - 180px)",
    "left": "10px",
    "top": "150px",
    "width": "256px"
   },
   "toc_section_display": true,
   "toc_window_display": false
  },
  "varInspector": {
   "cols": {
    "lenName": 16,
    "lenType": 16,
    "lenVar": 40
   },
   "kernels_config": {
    "python": {
     "delete_cmd_postfix": "",
     "delete_cmd_prefix": "del ",
     "library": "var_list.py",
     "varRefreshCmd": "print(var_dic_list())"
    },
    "r": {
     "delete_cmd_postfix": ") ",
     "delete_cmd_prefix": "rm(",
     "library": "var_list.r",
     "varRefreshCmd": "cat(var_dic_list()) "
    }
   },
   "oldHeight": 353.667,
   "position": {
    "height": "375.667px",
    "left": "843px",
    "right": "20px",
    "top": "153px",
    "width": "318px"
   },
   "types_to_exclude": [
    "module",
    "function",
    "builtin_function_or_method",
    "instance",
    "_Feature"
   ],
   "varInspector_section_display": "block",
   "window_display": false
  }
 },
 "nbformat": 4,
 "nbformat_minor": 5
}
