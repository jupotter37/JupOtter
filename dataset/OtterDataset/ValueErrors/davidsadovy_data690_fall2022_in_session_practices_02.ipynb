{
  "nbformat": 4,
  "nbformat_minor": 0,
  "metadata": {
    "colab": {
      "provenance": [],
      "authorship_tag": "ABX9TyO5qtuT+pHpDXAau/M704m/",
      "include_colab_link": true
    },
    "kernelspec": {
      "name": "python3",
      "display_name": "Python 3"
    },
    "language_info": {
      "name": "python"
    }
  },
  "cells": [
    {
      "cell_type": "markdown",
      "metadata": {
        "id": "view-in-github",
        "colab_type": "text"
      },
      "source": [
        "<a href=\"https://colab.research.google.com/github/davidsadovy/data690_fall2022/blob/main/assignment_02/in_session_practices_02.ipynb\" target=\"_parent\"><img src=\"https://colab.research.google.com/assets/colab-badge.svg\" alt=\"Open In Colab\"/></a>"
      ]
    },
    {
      "cell_type": "markdown",
      "source": [
        "# In-session Hands-on Practices\n",
        "Dave Sadovy\n",
        "\n",
        "## 1. Simple Types\n",
        "- int\n",
        "- float\n",
        "- str\n",
        "- boolean (True/False, First letter UPPER CASE)\n",
        "- NaN (Not a Number, null value)"
      ],
      "metadata": {
        "id": "KotN9m7rRk5S"
      }
    },
    {
      "cell_type": "code",
      "execution_count": 1,
      "metadata": {
        "colab": {
          "base_uri": "https://localhost:8080/"
        },
        "id": "-BnYppJTReNv",
        "outputId": "791a236d-9f84-4fbb-81c8-787410e6fd65"
      },
      "outputs": [
        {
          "output_type": "stream",
          "name": "stdout",
          "text": [
            "5 0.5 Hello\n"
          ]
        }
      ],
      "source": [
        "x = 5           # integer\n",
        "y = 0.5         # float\n",
        "s = \"Hello\"     # string, a collection of characters\n",
        "print(x, y, s)"
      ]
    },
    {
      "cell_type": "code",
      "source": [
        "type(x)"
      ],
      "metadata": {
        "colab": {
          "base_uri": "https://localhost:8080/"
        },
        "id": "_HJZH-sESeJg",
        "outputId": "1d823777-b9b4-4403-9337-22435589a284"
      },
      "execution_count": 2,
      "outputs": [
        {
          "output_type": "execute_result",
          "data": {
            "text/plain": [
              "int"
            ]
          },
          "metadata": {},
          "execution_count": 2
        }
      ]
    },
    {
      "cell_type": "code",
      "source": [
        "type(s)"
      ],
      "metadata": {
        "colab": {
          "base_uri": "https://localhost:8080/"
        },
        "id": "Kwvq0H37Sgt1",
        "outputId": "c562aa80-4158-4360-b8ce-8294aa4ac07d"
      },
      "execution_count": 3,
      "outputs": [
        {
          "output_type": "execute_result",
          "data": {
            "text/plain": [
              "str"
            ]
          },
          "metadata": {},
          "execution_count": 3
        }
      ]
    },
    {
      "cell_type": "markdown",
      "source": [
        "## 2. Collection Type"
      ],
      "metadata": {
        "id": "e9nCq6iBSjvb"
      }
    },
    {
      "cell_type": "code",
      "source": [
        "a_list = [1, 4, 7, 10]\n",
        "print(a_list)"
      ],
      "metadata": {
        "colab": {
          "base_uri": "https://localhost:8080/"
        },
        "id": "8h9yX94CSmdK",
        "outputId": "cf2b341e-e9e8-487b-a4e9-99b90ce8e75b"
      },
      "execution_count": 4,
      "outputs": [
        {
          "output_type": "stream",
          "name": "stdout",
          "text": [
            "[1, 4, 7, 10]\n"
          ]
        }
      ]
    },
    {
      "cell_type": "code",
      "source": [
        "type(a_list)"
      ],
      "metadata": {
        "colab": {
          "base_uri": "https://localhost:8080/"
        },
        "id": "DnOIn96kSt6y",
        "outputId": "e04916d4-56f5-42f1-bc28-0f921980cd52"
      },
      "execution_count": 5,
      "outputs": [
        {
          "output_type": "execute_result",
          "data": {
            "text/plain": [
              "list"
            ]
          },
          "metadata": {},
          "execution_count": 5
        }
      ]
    },
    {
      "cell_type": "markdown",
      "source": [
        "## 3. Loop"
      ],
      "metadata": {
        "id": "dTwysrTiSynC"
      }
    },
    {
      "cell_type": "code",
      "source": [
        "for i in a_list:\n",
        "    print(\"integer\", i)"
      ],
      "metadata": {
        "colab": {
          "base_uri": "https://localhost:8080/"
        },
        "id": "0MBnDizCS05c",
        "outputId": "4a16fb49-f346-46c2-fd44-89612781ce35"
      },
      "execution_count": 6,
      "outputs": [
        {
          "output_type": "stream",
          "name": "stdout",
          "text": [
            "integer 1\n",
            "integer 4\n",
            "integer 7\n",
            "integer 10\n"
          ]
        }
      ]
    },
    {
      "cell_type": "markdown",
      "source": [
        "## 4. Conditions"
      ],
      "metadata": {
        "id": "YJqF4pE4S8kz"
      }
    },
    {
      "cell_type": "code",
      "source": [
        "print(10 % 2)   # modulo"
      ],
      "metadata": {
        "colab": {
          "base_uri": "https://localhost:8080/"
        },
        "id": "OF_QSGZBS_n4",
        "outputId": "6a4bfaf8-e589-47ec-fa9c-95fe7d8ecfb6"
      },
      "execution_count": 7,
      "outputs": [
        {
          "output_type": "stream",
          "name": "stdout",
          "text": [
            "0\n"
          ]
        }
      ]
    },
    {
      "cell_type": "code",
      "source": [
        "print(23 % 2)   # modulo"
      ],
      "metadata": {
        "colab": {
          "base_uri": "https://localhost:8080/"
        },
        "id": "IbivdIa7TGMm",
        "outputId": "5e0af113-9281-4dbc-82cc-00a3a4e4b2e4"
      },
      "execution_count": 8,
      "outputs": [
        {
          "output_type": "stream",
          "name": "stdout",
          "text": [
            "1\n"
          ]
        }
      ]
    },
    {
      "cell_type": "code",
      "source": [
        "for i in a_list:\n",
        "    if i % 2 == 1:\n",
        "        print(\"Odd number\", i)"
      ],
      "metadata": {
        "colab": {
          "base_uri": "https://localhost:8080/"
        },
        "id": "PKEtAOinTN7p",
        "outputId": "b3c75f3f-f9c7-4ac8-b44c-e78390a642cd"
      },
      "execution_count": 9,
      "outputs": [
        {
          "output_type": "stream",
          "name": "stdout",
          "text": [
            "Odd number 1\n",
            "Odd number 7\n"
          ]
        }
      ]
    },
    {
      "cell_type": "markdown",
      "source": [
        "## 5. Python Built-In Functions\n",
        "- range()\n",
        "- list()\n",
        "- int()\n",
        "- str()\n",
        "- len() the num of items in a collection"
      ],
      "metadata": {
        "id": "7uAjcS5pTXQO"
      }
    },
    {
      "cell_type": "code",
      "source": [
        "for i in range(10, 21, 2):      # start = 10, stop = 21 (up to 20, not including 21), step = 2\n",
        "    print(i)"
      ],
      "metadata": {
        "colab": {
          "base_uri": "https://localhost:8080/"
        },
        "id": "ZxYxX2twThSC",
        "outputId": "95854834-d303-4d32-e17b-d8c4b9495f9f"
      },
      "execution_count": 10,
      "outputs": [
        {
          "output_type": "stream",
          "name": "stdout",
          "text": [
            "10\n",
            "12\n",
            "14\n",
            "16\n",
            "18\n",
            "20\n"
          ]
        }
      ]
    },
    {
      "cell_type": "code",
      "source": [
        "for j in range(0,5):\n",
        "    print(j)"
      ],
      "metadata": {
        "colab": {
          "base_uri": "https://localhost:8080/"
        },
        "id": "utYp8r4yUCWY",
        "outputId": "034390b4-63ff-485f-f52e-3e87528e6484"
      },
      "execution_count": 11,
      "outputs": [
        {
          "output_type": "stream",
          "name": "stdout",
          "text": [
            "0\n",
            "1\n",
            "2\n",
            "3\n",
            "4\n"
          ]
        }
      ]
    },
    {
      "cell_type": "code",
      "source": [
        "print(list(range(0,5)))"
      ],
      "metadata": {
        "colab": {
          "base_uri": "https://localhost:8080/"
        },
        "id": "w83239adUIMI",
        "outputId": "f14ca180-7c59-4763-bdd9-8a0691350547"
      },
      "execution_count": 12,
      "outputs": [
        {
          "output_type": "stream",
          "name": "stdout",
          "text": [
            "[0, 1, 2, 3, 4]\n"
          ]
        }
      ]
    },
    {
      "cell_type": "code",
      "source": [
        "x = \"50\"\n",
        "type(x)"
      ],
      "metadata": {
        "colab": {
          "base_uri": "https://localhost:8080/"
        },
        "id": "tHuL4jSuUO7I",
        "outputId": "f8a2cb03-d6d3-42e7-ce2c-3f9d25254c88"
      },
      "execution_count": 13,
      "outputs": [
        {
          "output_type": "execute_result",
          "data": {
            "text/plain": [
              "str"
            ]
          },
          "metadata": {},
          "execution_count": 13
        }
      ]
    },
    {
      "cell_type": "code",
      "source": [
        "y = int(x)\n",
        "type(y)"
      ],
      "metadata": {
        "colab": {
          "base_uri": "https://localhost:8080/"
        },
        "id": "eLskZvpjUXDT",
        "outputId": "7859dd52-0264-4d8b-9628-af10d4870dfb"
      },
      "execution_count": 14,
      "outputs": [
        {
          "output_type": "execute_result",
          "data": {
            "text/plain": [
              "int"
            ]
          },
          "metadata": {},
          "execution_count": 14
        }
      ]
    },
    {
      "cell_type": "code",
      "source": [
        "print(x,y)"
      ],
      "metadata": {
        "colab": {
          "base_uri": "https://localhost:8080/"
        },
        "id": "6NAkLKZzUbki",
        "outputId": "1a585993-c626-42f3-f4c8-0edb0440a04a"
      },
      "execution_count": 15,
      "outputs": [
        {
          "output_type": "stream",
          "name": "stdout",
          "text": [
            "50 50\n"
          ]
        }
      ]
    },
    {
      "cell_type": "markdown",
      "source": [
        "## 6. Accepting User Inputs"
      ],
      "metadata": {
        "id": "UJS_1IgkUgOT"
      }
    },
    {
      "cell_type": "code",
      "source": [
        "x = input(\"Enter an integer:\")"
      ],
      "metadata": {
        "colab": {
          "base_uri": "https://localhost:8080/"
        },
        "id": "fTKJkwmaUjpV",
        "outputId": "0063e8fc-3a6f-4e92-f69d-63ccbb868678"
      },
      "execution_count": 16,
      "outputs": [
        {
          "name": "stdout",
          "output_type": "stream",
          "text": [
            "Enter an integer:10\n"
          ]
        }
      ]
    },
    {
      "cell_type": "code",
      "source": [
        "print(x)"
      ],
      "metadata": {
        "colab": {
          "base_uri": "https://localhost:8080/"
        },
        "id": "fefolKTIUql4",
        "outputId": "50fff1ee-c08c-42cd-ee84-b5c2688f320c"
      },
      "execution_count": 17,
      "outputs": [
        {
          "output_type": "stream",
          "name": "stdout",
          "text": [
            "10\n"
          ]
        }
      ]
    },
    {
      "cell_type": "code",
      "source": [
        "type(x)"
      ],
      "metadata": {
        "colab": {
          "base_uri": "https://localhost:8080/"
        },
        "id": "szinkc8hUug9",
        "outputId": "9de0493a-3781-484a-8f98-e0334cf7374a"
      },
      "execution_count": 18,
      "outputs": [
        {
          "output_type": "execute_result",
          "data": {
            "text/plain": [
              "str"
            ]
          },
          "metadata": {},
          "execution_count": 18
        }
      ]
    },
    {
      "cell_type": "code",
      "source": [
        "x = input(\"Enter an integer:\")"
      ],
      "metadata": {
        "colab": {
          "base_uri": "https://localhost:8080/"
        },
        "id": "jHMfRpWcUw8T",
        "outputId": "4ddd71da-df46-4046-8967-ce630c0ff419"
      },
      "execution_count": 19,
      "outputs": [
        {
          "name": "stdout",
          "output_type": "stream",
          "text": [
            "Enter an integer:wang\n"
          ]
        }
      ]
    },
    {
      "cell_type": "code",
      "source": [
        "print(x)"
      ],
      "metadata": {
        "colab": {
          "base_uri": "https://localhost:8080/"
        },
        "id": "aaNOI9LvU38r",
        "outputId": "5e8bd23c-7524-4729-df2d-21eed5b3cbef"
      },
      "execution_count": 20,
      "outputs": [
        {
          "output_type": "stream",
          "name": "stdout",
          "text": [
            "wang\n"
          ]
        }
      ]
    },
    {
      "cell_type": "markdown",
      "source": [
        "## 7. Exception Handling"
      ],
      "metadata": {
        "id": "GbpFl9ZlU8O3"
      }
    },
    {
      "cell_type": "code",
      "source": [
        "y = int(x)\n",
        "print(y)"
      ],
      "metadata": {
        "colab": {
          "base_uri": "https://localhost:8080/",
          "height": 183
        },
        "id": "0U-8WNMyU_Nr",
        "outputId": "6cbd90c4-6b20-4dd0-8463-cf37adc39318"
      },
      "execution_count": 21,
      "outputs": [
        {
          "output_type": "error",
          "ename": "ValueError",
          "evalue": "ignored",
          "traceback": [
            "\u001b[0;31m---------------------------------------------------------------------------\u001b[0m",
            "\u001b[0;31mValueError\u001b[0m                                Traceback (most recent call last)",
            "\u001b[0;32m<ipython-input-21-049714fa7447>\u001b[0m in \u001b[0;36m<module>\u001b[0;34m\u001b[0m\n\u001b[0;32m----> 1\u001b[0;31m \u001b[0my\u001b[0m \u001b[0;34m=\u001b[0m \u001b[0mint\u001b[0m\u001b[0;34m(\u001b[0m\u001b[0mx\u001b[0m\u001b[0;34m)\u001b[0m\u001b[0;34m\u001b[0m\u001b[0;34m\u001b[0m\u001b[0m\n\u001b[0m\u001b[1;32m      2\u001b[0m \u001b[0mprint\u001b[0m\u001b[0;34m(\u001b[0m\u001b[0my\u001b[0m\u001b[0;34m)\u001b[0m\u001b[0;34m\u001b[0m\u001b[0;34m\u001b[0m\u001b[0m\n",
            "\u001b[0;31mValueError\u001b[0m: invalid literal for int() with base 10: 'wang'"
          ]
        }
      ]
    },
    {
      "cell_type": "code",
      "source": [
        "y = int(\"50\")\n",
        "print(y)"
      ],
      "metadata": {
        "colab": {
          "base_uri": "https://localhost:8080/"
        },
        "id": "PfEFrNmeVFQF",
        "outputId": "4894b723-5d23-493d-fa82-52efb42221c6"
      },
      "execution_count": 22,
      "outputs": [
        {
          "output_type": "stream",
          "name": "stdout",
          "text": [
            "50\n"
          ]
        }
      ]
    },
    {
      "cell_type": "code",
      "source": [
        "x = input(\"Please enter an ineger:\")\n",
        "try:\n",
        "    y = int(x)\n",
        "    print(\"got integer:\", y)\n",
        "except:\n",
        "    print(\"Unable to convert the user input to an integer\")"
      ],
      "metadata": {
        "colab": {
          "base_uri": "https://localhost:8080/"
        },
        "id": "G0aY0GGtVKSR",
        "outputId": "b154fa01-14c1-4cd3-91a8-3ae71708f22e"
      },
      "execution_count": 23,
      "outputs": [
        {
          "output_type": "stream",
          "name": "stdout",
          "text": [
            "Please enter an ineger:jay\n",
            "Unable to convert the user input to an integer\n"
          ]
        }
      ]
    },
    {
      "cell_type": "markdown",
      "source": [
        "## 8. Infinite Loop"
      ],
      "metadata": {
        "id": "toffaUKTVmkp"
      }
    },
    {
      "cell_type": "code",
      "source": [
        "while True:\n",
        "    x = input(\"Please enter an integer:\")\n",
        "    try:\n",
        "        y = int(x)\n",
        "        print(\"got integer:\", y)\n",
        "        break\n",
        "    except:\n",
        "        print(\"You must enter an integer. Please try again.\")"
      ],
      "metadata": {
        "colab": {
          "base_uri": "https://localhost:8080/"
        },
        "id": "YgX_GuRyVrVs",
        "outputId": "704607bf-7eba-4074-d01c-6a95763c09b6"
      },
      "execution_count": 24,
      "outputs": [
        {
          "output_type": "stream",
          "name": "stdout",
          "text": [
            "Please enter an integer:jay\n",
            "You must enter an integer. Please try again.\n",
            "Please enter an integer:class\n",
            "You must enter an integer. Please try again.\n",
            "Please enter an integer:45You\n",
            "You must enter an integer. Please try again.\n",
            "Please enter an integer:-12\n",
            "got integer: -12\n"
          ]
        }
      ]
    },
    {
      "cell_type": "code",
      "source": [
        "the_list = []\n",
        "\n",
        "for i in range(0,3):\n",
        "    while True:\n",
        "        x = input(\"Please enter an integer:\")\n",
        "        try:\n",
        "            y = int(x)\n",
        "            the_list.append(y)\n",
        "            print(\"got integer:\", y)\n",
        "            break\n",
        "        except:\n",
        "            print(\"You must enter an integer. Please try again.\")\n",
        "\n",
        "print(\"You have entered:\", the_list)"
      ],
      "metadata": {
        "colab": {
          "base_uri": "https://localhost:8080/"
        },
        "id": "VYNA4X6iWEbj",
        "outputId": "09a3efac-62cf-4a46-bcbb-99c16f70e22d"
      },
      "execution_count": 25,
      "outputs": [
        {
          "output_type": "stream",
          "name": "stdout",
          "text": [
            "Please enter an integer:10\n",
            "got integer: 10\n",
            "Please enter an integer:45\n",
            "got integer: 45\n",
            "Please enter an integer:90\n",
            "got integer: 90\n",
            "You have entered: [10, 45, 90]\n"
          ]
        }
      ]
    },
    {
      "cell_type": "code",
      "source": [
        "total = 0\n",
        "\n",
        "for i in the_list:\n",
        "    total += i      # total = total + i\n",
        "\n",
        "print(\"total = \", total)"
      ],
      "metadata": {
        "colab": {
          "base_uri": "https://localhost:8080/"
        },
        "id": "uLkWD3yOWtcu",
        "outputId": "4b866530-a596-4276-c1e6-9170668ffe6e"
      },
      "execution_count": 26,
      "outputs": [
        {
          "output_type": "stream",
          "name": "stdout",
          "text": [
            "total =  145\n"
          ]
        }
      ]
    },
    {
      "cell_type": "code",
      "source": [
        "mean = total / len(the_list)\n",
        "print(mean)"
      ],
      "metadata": {
        "colab": {
          "base_uri": "https://localhost:8080/"
        },
        "id": "7XYn6mcMW-tS",
        "outputId": "2a48cc17-c927-405d-9e3e-d53a74ea85e0"
      },
      "execution_count": 27,
      "outputs": [
        {
          "output_type": "stream",
          "name": "stdout",
          "text": [
            "48.333333333333336\n"
          ]
        }
      ]
    }
  ]
}