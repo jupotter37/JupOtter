{
  "nbformat": 4,
  "nbformat_minor": 0,
  "metadata": {
    "colab": {
      "provenance": [],
      "authorship_tag": "ABX9TyOOCCQwRw19nXYQbvO2yuHm",
      "include_colab_link": true
    },
    "kernelspec": {
      "name": "python3",
      "display_name": "Python 3"
    },
    "language_info": {
      "name": "python"
    }
  },
  "cells": [
    {
      "cell_type": "markdown",
      "metadata": {
        "id": "view-in-github",
        "colab_type": "text"
      },
      "source": [
        "<a href=\"https://colab.research.google.com/github/Bharath9819/Python00/blob/main/control_statement1.ipynb\" target=\"_parent\"><img src=\"https://colab.research.google.com/assets/colab-badge.svg\" alt=\"Open In Colab\"/></a>"
      ]
    },
    {
      "cell_type": "code",
      "execution_count": null,
      "metadata": {
        "colab": {
          "base_uri": "https://localhost:8080/"
        },
        "id": "e9OpkH9bPlZW",
        "outputId": "38296a63-7b10-48be-f104-f28ec28e5060"
      },
      "outputs": [
        {
          "output_type": "stream",
          "name": "stdout",
          "text": [
            "hello man\n"
          ]
        }
      ],
      "source": [
        "print(\"hello man\")"
      ]
    },
    {
      "cell_type": "code",
      "source": [
        "#cnrl + enter to run code  # shift + enter to run and create new line for coding\n",
        "#alt + enter create new line with excutuion previous line"
      ],
      "metadata": {
        "id": "NAbrW3IhQlgn"
      },
      "execution_count": null,
      "outputs": []
    },
    {
      "cell_type": "code",
      "source": [
        "print(\"hello\" + \" python\")  #concatenation"
      ],
      "metadata": {
        "colab": {
          "base_uri": "https://localhost:8080/"
        },
        "id": "0W1iFglLRHqn",
        "outputId": "47611ee9-2a41-47f1-c0ea-26693bd30e72"
      },
      "execution_count": null,
      "outputs": [
        {
          "output_type": "stream",
          "name": "stdout",
          "text": [
            "hello python\n"
          ]
        }
      ]
    },
    {
      "cell_type": "code",
      "source": [
        "print(9+1)   #addttion"
      ],
      "metadata": {
        "colab": {
          "base_uri": "https://localhost:8080/"
        },
        "id": "nzzATULUXGS2",
        "outputId": "6d75166a-b7cb-48aa-94f0-89b17ca7d5b1"
      },
      "execution_count": null,
      "outputs": [
        {
          "output_type": "stream",
          "name": "stdout",
          "text": [
            "10\n"
          ]
        }
      ]
    },
    {
      "cell_type": "code",
      "source": [
        "print(\"9+1\") #string"
      ],
      "metadata": {
        "colab": {
          "base_uri": "https://localhost:8080/"
        },
        "id": "ea5Q4vr0XLHY",
        "outputId": "d3486ca6-df7a-4f95-ec4b-453a94bdd6e5"
      },
      "execution_count": null,
      "outputs": [
        {
          "output_type": "stream",
          "name": "stdout",
          "text": [
            "9+1\n"
          ]
        }
      ]
    },
    {
      "cell_type": "code",
      "source": [
        "print(\"9\"+\"10\")"
      ],
      "metadata": {
        "colab": {
          "base_uri": "https://localhost:8080/"
        },
        "id": "xe1ilRwLYAZn",
        "outputId": "fcd08cc6-85be-4ce7-c8a2-242b01ec55b2"
      },
      "execution_count": null,
      "outputs": [
        {
          "output_type": "stream",
          "name": "stdout",
          "text": [
            "910\n"
          ]
        }
      ]
    },
    {
      "cell_type": "code",
      "source": [
        "print(9, \"10\" + \"rupress\" , \"world\" ,3*8)"
      ],
      "metadata": {
        "colab": {
          "base_uri": "https://localhost:8080/"
        },
        "id": "Ws97ntscYiyZ",
        "outputId": "a524beb0-473f-43bb-df98-30e9cb607465"
      },
      "execution_count": null,
      "outputs": [
        {
          "output_type": "stream",
          "name": "stdout",
          "text": [
            "9 10rupress world 24\n"
          ]
        }
      ]
    },
    {
      "cell_type": "code",
      "source": [
        "print(\"A\"*5)"
      ],
      "metadata": {
        "colab": {
          "base_uri": "https://localhost:8080/"
        },
        "id": "_gQCDTqWZUap",
        "outputId": "b1ffcc00-cef3-45ef-b1e8-61e7e9077759"
      },
      "execution_count": null,
      "outputs": [
        {
          "output_type": "stream",
          "name": "stdout",
          "text": [
            "AAAAA\n"
          ]
        }
      ]
    },
    {
      "cell_type": "code",
      "source": [
        "print(5 + \"A\")    #can't able to excute diff datatypes"
      ],
      "metadata": {
        "colab": {
          "base_uri": "https://localhost:8080/",
          "height": 141
        },
        "id": "zDqRHZ1rZa7x",
        "outputId": "433ee7a4-ec9b-407c-f951-bf69917b1b19"
      },
      "execution_count": null,
      "outputs": [
        {
          "output_type": "error",
          "ename": "TypeError",
          "evalue": "unsupported operand type(s) for +: 'int' and 'str'",
          "traceback": [
            "\u001b[0;31m---------------------------------------------------------------------------\u001b[0m",
            "\u001b[0;31mTypeError\u001b[0m                                 Traceback (most recent call last)",
            "\u001b[0;32m<ipython-input-1-30abfd97caf3>\u001b[0m in \u001b[0;36m<cell line: 1>\u001b[0;34m()\u001b[0m\n\u001b[0;32m----> 1\u001b[0;31m \u001b[0mprint\u001b[0m\u001b[0;34m(\u001b[0m\u001b[0;36m5\u001b[0m \u001b[0;34m+\u001b[0m \u001b[0;34m\"A\"\u001b[0m\u001b[0;34m)\u001b[0m    \u001b[0;31m#can't able to excute diff datatypes\u001b[0m\u001b[0;34m\u001b[0m\u001b[0;34m\u001b[0m\u001b[0m\n\u001b[0m",
            "\u001b[0;31mTypeError\u001b[0m: unsupported operand type(s) for +: 'int' and 'str'"
          ]
        }
      ]
    },
    {
      "cell_type": "code",
      "source": [
        "print(5 *\"B\")"
      ],
      "metadata": {
        "id": "4SnR95KMZoWp",
        "outputId": "0a1afea0-84c7-40f2-a1b7-6a3644c28df4",
        "colab": {
          "base_uri": "https://localhost:8080/"
        }
      },
      "execution_count": null,
      "outputs": [
        {
          "output_type": "stream",
          "name": "stdout",
          "text": [
            "BBBBB\n"
          ]
        }
      ]
    },
    {
      "cell_type": "code",
      "source": [
        "   str1= \"Hello\"\n",
        "   str2= \"World\"\n",
        "   print(str1 + str2);"
      ],
      "metadata": {
        "colab": {
          "base_uri": "https://localhost:8080/"
        },
        "id": "bl7c4Yop_yYh",
        "outputId": "dfb0e9f2-46a0-47bb-8836-10ce7c0aa23f"
      },
      "execution_count": null,
      "outputs": [
        {
          "output_type": "stream",
          "name": "stdout",
          "text": [
            "HelloWorld\n"
          ]
        }
      ]
    },
    {
      "cell_type": "code",
      "source": [
        "var1=100\n",
        "print(var1)"
      ],
      "metadata": {
        "colab": {
          "base_uri": "https://localhost:8080/"
        },
        "id": "DB_si0ZvKQ-D",
        "outputId": "d927c5a2-58d1-40f9-c1eb-7433462ceb67"
      },
      "execution_count": null,
      "outputs": [
        {
          "output_type": "stream",
          "name": "stdout",
          "text": [
            "100\n"
          ]
        }
      ]
    },
    {
      "cell_type": "code",
      "source": [
        "_var1=\"n0thing\"\n",
        "print(_var1)"
      ],
      "metadata": {
        "colab": {
          "base_uri": "https://localhost:8080/"
        },
        "id": "_pjHfdRXKbFT",
        "outputId": "a87bfb81-d684-44ef-f53a-c5479dad882f"
      },
      "execution_count": null,
      "outputs": [
        {
          "output_type": "stream",
          "name": "stdout",
          "text": [
            "n0thing\n"
          ]
        }
      ]
    },
    {
      "cell_type": "markdown",
      "source": [
        "when assigning variable its shld start with _ or aplhabet"
      ],
      "metadata": {
        "id": "au76POuJK14L"
      }
    },
    {
      "cell_type": "code",
      "source": [
        "*ajhvai=\"no\"\n",
        "print(*ajhvai)"
      ],
      "metadata": {
        "colab": {
          "base_uri": "https://localhost:8080/",
          "height": 106
        },
        "id": "lN3w61joKkSq",
        "outputId": "e61c2ca7-83ed-43e6-992e-c9e0894cead7"
      },
      "execution_count": null,
      "outputs": [
        {
          "output_type": "error",
          "ename": "SyntaxError",
          "evalue": "starred assignment target must be in a list or tuple (<ipython-input-6-94bc8824c404>, line 1)",
          "traceback": [
            "\u001b[0;36m  File \u001b[0;32m\"<ipython-input-6-94bc8824c404>\"\u001b[0;36m, line \u001b[0;32m1\u001b[0m\n\u001b[0;31m    *ajhvai=\"no\"\u001b[0m\n\u001b[0m    ^\u001b[0m\n\u001b[0;31mSyntaxError\u001b[0m\u001b[0;31m:\u001b[0m starred assignment target must be in a list or tuple\n"
          ]
        }
      ]
    },
    {
      "cell_type": "code",
      "source": [
        "2were=100\n",
        "print(2were)"
      ],
      "metadata": {
        "colab": {
          "base_uri": "https://localhost:8080/",
          "height": 106
        },
        "id": "rzgZaQi7Kr_r",
        "outputId": "6c10db21-aa75-4634-f25f-0857a05476ed"
      },
      "execution_count": null,
      "outputs": [
        {
          "output_type": "error",
          "ename": "SyntaxError",
          "evalue": "invalid decimal literal (<ipython-input-7-559f3fc7a874>, line 1)",
          "traceback": [
            "\u001b[0;36m  File \u001b[0;32m\"<ipython-input-7-559f3fc7a874>\"\u001b[0;36m, line \u001b[0;32m1\u001b[0m\n\u001b[0;31m    2were=100\u001b[0m\n\u001b[0m    ^\u001b[0m\n\u001b[0;31mSyntaxError\u001b[0m\u001b[0;31m:\u001b[0m invalid decimal literal\n"
          ]
        }
      ]
    },
    {
      "cell_type": "code",
      "source": [
        "#type and converation:\n",
        "va1=\"1234\"\n",
        "print(type(va1))"
      ],
      "metadata": {
        "colab": {
          "base_uri": "https://localhost:8080/"
        },
        "id": "vuVIcE1HKz6i",
        "outputId": "6beae199-ae46-476a-882e-27bcc2e293a7"
      },
      "execution_count": null,
      "outputs": [
        {
          "output_type": "stream",
          "name": "stdout",
          "text": [
            "<class 'str'>\n"
          ]
        }
      ]
    },
    {
      "cell_type": "code",
      "source": [
        "#type and converation:\n",
        "va1=\"1234\"\n",
        "print(type(int(va1)))"
      ],
      "metadata": {
        "colab": {
          "base_uri": "https://localhost:8080/"
        },
        "id": "dgqv2bF9LQ96",
        "outputId": "07568af9-f974-4b54-8518-6e9c8b1367c5"
      },
      "execution_count": null,
      "outputs": [
        {
          "output_type": "stream",
          "name": "stdout",
          "text": [
            "<class 'int'>\n"
          ]
        }
      ]
    },
    {
      "cell_type": "markdown",
      "source": [
        "we can't able to change stg to int , if its not in th value."
      ],
      "metadata": {
        "id": "rK3WiXCMLd3i"
      }
    },
    {
      "cell_type": "code",
      "source": [
        "#type and converation:\n",
        "va1=\"nothing\"\n",
        "print(type(int(va1)))\n"
      ],
      "metadata": {
        "colab": {
          "base_uri": "https://localhost:8080/",
          "height": 176
        },
        "id": "qMsQ4dMjLXH6",
        "outputId": "37b78127-2749-4c2e-d1ec-262973b6d1c5"
      },
      "execution_count": null,
      "outputs": [
        {
          "output_type": "error",
          "ename": "ValueError",
          "evalue": "invalid literal for int() with base 10: 'nothing'",
          "traceback": [
            "\u001b[0;31m---------------------------------------------------------------------------\u001b[0m",
            "\u001b[0;31mValueError\u001b[0m                                Traceback (most recent call last)",
            "\u001b[0;32m<ipython-input-11-20d347a168d5>\u001b[0m in \u001b[0;36m<cell line: 3>\u001b[0;34m()\u001b[0m\n\u001b[1;32m      1\u001b[0m \u001b[0;31m#type and converation:\u001b[0m\u001b[0;34m\u001b[0m\u001b[0;34m\u001b[0m\u001b[0m\n\u001b[1;32m      2\u001b[0m \u001b[0mva1\u001b[0m\u001b[0;34m=\u001b[0m\u001b[0;34m\"nothing\"\u001b[0m\u001b[0;34m\u001b[0m\u001b[0;34m\u001b[0m\u001b[0m\n\u001b[0;32m----> 3\u001b[0;31m \u001b[0mprint\u001b[0m\u001b[0;34m(\u001b[0m\u001b[0mtype\u001b[0m\u001b[0;34m(\u001b[0m\u001b[0mint\u001b[0m\u001b[0;34m(\u001b[0m\u001b[0mva1\u001b[0m\u001b[0;34m)\u001b[0m\u001b[0;34m)\u001b[0m\u001b[0;34m)\u001b[0m\u001b[0;34m\u001b[0m\u001b[0;34m\u001b[0m\u001b[0m\n\u001b[0m",
            "\u001b[0;31mValueError\u001b[0m: invalid literal for int() with base 10: 'nothing'"
          ]
        }
      ]
    },
    {
      "cell_type": "code",
      "source": [
        "#type and converation:\n",
        "va1=\"1234N\"\n",
        "print(type(int(va1)))"
      ],
      "metadata": {
        "colab": {
          "base_uri": "https://localhost:8080/",
          "height": 176
        },
        "id": "RQ26qLG4Lc7S",
        "outputId": "599d3fac-6b66-4eac-cbca-3984847f8d10"
      },
      "execution_count": null,
      "outputs": [
        {
          "output_type": "error",
          "ename": "ValueError",
          "evalue": "invalid literal for int() with base 10: '1234N'",
          "traceback": [
            "\u001b[0;31m---------------------------------------------------------------------------\u001b[0m",
            "\u001b[0;31mValueError\u001b[0m                                Traceback (most recent call last)",
            "\u001b[0;32m<ipython-input-13-fc61a65c705e>\u001b[0m in \u001b[0;36m<cell line: 3>\u001b[0;34m()\u001b[0m\n\u001b[1;32m      1\u001b[0m \u001b[0;31m#type and converation:\u001b[0m\u001b[0;34m\u001b[0m\u001b[0;34m\u001b[0m\u001b[0m\n\u001b[1;32m      2\u001b[0m \u001b[0mva1\u001b[0m\u001b[0;34m=\u001b[0m\u001b[0;34m\"1234N\"\u001b[0m\u001b[0;34m\u001b[0m\u001b[0;34m\u001b[0m\u001b[0m\n\u001b[0;32m----> 3\u001b[0;31m \u001b[0mprint\u001b[0m\u001b[0;34m(\u001b[0m\u001b[0mtype\u001b[0m\u001b[0;34m(\u001b[0m\u001b[0mint\u001b[0m\u001b[0;34m(\u001b[0m\u001b[0mva1\u001b[0m\u001b[0;34m)\u001b[0m\u001b[0;34m)\u001b[0m\u001b[0;34m)\u001b[0m\u001b[0;34m\u001b[0m\u001b[0;34m\u001b[0m\u001b[0m\n\u001b[0m",
            "\u001b[0;31mValueError\u001b[0m: invalid literal for int() with base 10: '1234N'"
          ]
        }
      ]
    },
    {
      "cell_type": "markdown",
      "source": [
        "except 0,\"\" and none , if any value passed in bool it becomes true"
      ],
      "metadata": {
        "id": "8_7izMdfL2ny"
      }
    },
    {
      "cell_type": "code",
      "source": [
        "#type and converation & bool:\n",
        "va1=\"1234\"\n",
        "print(bool(va1))"
      ],
      "metadata": {
        "colab": {
          "base_uri": "https://localhost:8080/"
        },
        "id": "YdA91ngZLvbR",
        "outputId": "707ac737-e3b0-4426-83e4-de6b1ab1013b"
      },
      "execution_count": null,
      "outputs": [
        {
          "output_type": "stream",
          "name": "stdout",
          "text": [
            "True\n"
          ]
        }
      ]
    },
    {
      "cell_type": "code",
      "source": [
        "#type and converation & bool:\n",
        "va1=\"nope\"\n",
        "print(bool(va1))"
      ],
      "metadata": {
        "colab": {
          "base_uri": "https://localhost:8080/"
        },
        "id": "6QKKekouMCxC",
        "outputId": "cbd862d9-1c0e-4209-91b4-804fd5e49770"
      },
      "execution_count": null,
      "outputs": [
        {
          "output_type": "stream",
          "name": "stdout",
          "text": [
            "True\n"
          ]
        }
      ]
    },
    {
      "cell_type": "code",
      "source": [
        "#type and converation & bool:\n",
        "va1=None\n",
        "print(bool(va1))"
      ],
      "metadata": {
        "colab": {
          "base_uri": "https://localhost:8080/"
        },
        "id": "ixmWVhcIMO34",
        "outputId": "eed58a25-150e-4610-aea3-b70d9bac7282"
      },
      "execution_count": null,
      "outputs": [
        {
          "output_type": "stream",
          "name": "stdout",
          "text": [
            "False\n"
          ]
        }
      ]
    },
    {
      "cell_type": "code",
      "source": [
        "#type and converation & bool:\n",
        "va1=None\n",
        "print(type(bool(va1)))"
      ],
      "metadata": {
        "colab": {
          "base_uri": "https://localhost:8080/"
        },
        "id": "ctE1JlLMMYi5",
        "outputId": "da05fe00-8a09-4903-e9a4-408bce1e8d3a"
      },
      "execution_count": null,
      "outputs": [
        {
          "output_type": "stream",
          "name": "stdout",
          "text": [
            "<class 'bool'>\n"
          ]
        }
      ]
    },
    {
      "cell_type": "code",
      "source": [
        "\n",
        "#type and converation & bool:va1=None\n",
        "print(bool(None))"
      ],
      "metadata": {
        "colab": {
          "base_uri": "https://localhost:8080/"
        },
        "id": "Ry3MMwzVMgXT",
        "outputId": "4c6d835d-80fe-4fba-c988-069ce3de7e9c"
      },
      "execution_count": null,
      "outputs": [
        {
          "output_type": "stream",
          "name": "stdout",
          "text": [
            "False\n"
          ]
        }
      ]
    },
    {
      "cell_type": "code",
      "source": [
        "var10=12\n",
        "var11=13\n",
        "print(id(var10))\n",
        "print(id(var11))"
      ],
      "metadata": {
        "colab": {
          "base_uri": "https://localhost:8080/"
        },
        "id": "k7q_OXCnMn2a",
        "outputId": "71213371-440f-4941-a5e6-f2dcef0dd7be"
      },
      "execution_count": null,
      "outputs": [
        {
          "output_type": "stream",
          "name": "stdout",
          "text": [
            "133384565359184\n",
            "133384565359216\n"
          ]
        }
      ]
    },
    {
      "cell_type": "code",
      "source": [
        "var10=12\n",
        "var11=12\n",
        "print(id(var10))\n",
        "print(id(var11))"
      ],
      "metadata": {
        "colab": {
          "base_uri": "https://localhost:8080/"
        },
        "id": "ofMKQwFmNA5i",
        "outputId": "858f096c-b7c9-4dac-fb68-ed34b7d4f33f"
      },
      "execution_count": null,
      "outputs": [
        {
          "output_type": "stream",
          "name": "stdout",
          "text": [
            "133384565359184\n",
            "133384565359184\n"
          ]
        }
      ]
    },
    {
      "cell_type": "code",
      "source": [
        "var10=1200\n",
        "var11=1200\n",
        "print(id(var10))\n",
        "print(id(var11))"
      ],
      "metadata": {
        "colab": {
          "base_uri": "https://localhost:8080/"
        },
        "id": "13565WeuNIVj",
        "outputId": "2a68d9ff-87e0-4c34-abb7-d34f6a025c92"
      },
      "execution_count": null,
      "outputs": [
        {
          "output_type": "stream",
          "name": "stdout",
          "text": [
            "133383283551952\n",
            "133383283553680\n"
          ]
        }
      ]
    },
    {
      "cell_type": "code",
      "source": [
        "var10=255\n",
        "var11=257\n",
        "print(id(var10))\n",
        "print(id(var11))"
      ],
      "metadata": {
        "colab": {
          "base_uri": "https://localhost:8080/"
        },
        "id": "TCmdeM2vNLVy",
        "outputId": "2231fc94-7b22-4819-af59-1581662bfbee"
      },
      "execution_count": null,
      "outputs": [
        {
          "output_type": "stream",
          "name": "stdout",
          "text": [
            "133384565366960\n",
            "133383283551824\n"
          ]
        }
      ]
    },
    {
      "cell_type": "markdown",
      "source": [
        "input taking value from users:"
      ],
      "metadata": {
        "id": "VT-4pEUbOOqS"
      }
    },
    {
      "cell_type": "code",
      "source": [
        "name=input()"
      ],
      "metadata": {
        "colab": {
          "base_uri": "https://localhost:8080/"
        },
        "id": "ES4c70fPNSwC",
        "outputId": "4edc99a2-cf52-40c1-bc9b-83fd51477380"
      },
      "execution_count": null,
      "outputs": [
        {
          "name": "stdout",
          "output_type": "stream",
          "text": [
            "bharath\n"
          ]
        }
      ]
    },
    {
      "cell_type": "code",
      "source": [
        "print(name)"
      ],
      "metadata": {
        "colab": {
          "base_uri": "https://localhost:8080/"
        },
        "id": "QukT8rLxOX87",
        "outputId": "61b64b65-385d-4aa1-d279-31f01c0a1b14"
      },
      "execution_count": null,
      "outputs": [
        {
          "output_type": "stream",
          "name": "stdout",
          "text": [
            "bharath\n"
          ]
        }
      ]
    },
    {
      "cell_type": "code",
      "source": [
        "input(please enter age)"
      ],
      "metadata": {
        "colab": {
          "base_uri": "https://localhost:8080/",
          "height": 106
        },
        "id": "kSjDp12TObHD",
        "outputId": "ab7c844a-7638-4852-892d-2c404a98ce11"
      },
      "execution_count": null,
      "outputs": [
        {
          "output_type": "error",
          "ename": "SyntaxError",
          "evalue": "invalid syntax. Perhaps you forgot a comma? (<ipython-input-30-c88934381c07>, line 1)",
          "traceback": [
            "\u001b[0;36m  File \u001b[0;32m\"<ipython-input-30-c88934381c07>\"\u001b[0;36m, line \u001b[0;32m1\u001b[0m\n\u001b[0;31m    input(please enter age)\u001b[0m\n\u001b[0m          ^\u001b[0m\n\u001b[0;31mSyntaxError\u001b[0m\u001b[0;31m:\u001b[0m invalid syntax. Perhaps you forgot a comma?\n"
          ]
        }
      ]
    },
    {
      "cell_type": "code",
      "source": [
        "age=input(please enter age)\n",
        "print(age)"
      ],
      "metadata": {
        "colab": {
          "base_uri": "https://localhost:8080/",
          "height": 106
        },
        "id": "AEbxum7KOj5T",
        "outputId": "d68f499b-2630-4a5a-c348-75c56ceb7f7c"
      },
      "execution_count": null,
      "outputs": [
        {
          "output_type": "error",
          "ename": "SyntaxError",
          "evalue": "invalid syntax. Perhaps you forgot a comma? (<ipython-input-31-325988b7770f>, line 1)",
          "traceback": [
            "\u001b[0;36m  File \u001b[0;32m\"<ipython-input-31-325988b7770f>\"\u001b[0;36m, line \u001b[0;32m1\u001b[0m\n\u001b[0;31m    age=input(please enter age)\u001b[0m\n\u001b[0m              ^\u001b[0m\n\u001b[0;31mSyntaxError\u001b[0m\u001b[0;31m:\u001b[0m invalid syntax. Perhaps you forgot a comma?\n"
          ]
        }
      ]
    },
    {
      "cell_type": "code",
      "source": [
        "age=input(please enter age)"
      ],
      "metadata": {
        "colab": {
          "base_uri": "https://localhost:8080/",
          "height": 106
        },
        "id": "vS4NZ59FOprq",
        "outputId": "f6e5cc79-728f-4ecb-8a0f-672c002232a8"
      },
      "execution_count": null,
      "outputs": [
        {
          "output_type": "error",
          "ename": "SyntaxError",
          "evalue": "invalid syntax. Perhaps you forgot a comma? (<ipython-input-32-e4881aae746b>, line 1)",
          "traceback": [
            "\u001b[0;36m  File \u001b[0;32m\"<ipython-input-32-e4881aae746b>\"\u001b[0;36m, line \u001b[0;32m1\u001b[0m\n\u001b[0;31m    age=input(please enter age)\u001b[0m\n\u001b[0m              ^\u001b[0m\n\u001b[0;31mSyntaxError\u001b[0m\u001b[0;31m:\u001b[0m invalid syntax. Perhaps you forgot a comma?\n"
          ]
        }
      ]
    },
    {
      "cell_type": "code",
      "source": [
        "age=input(\"please enter age\")"
      ],
      "metadata": {
        "colab": {
          "base_uri": "https://localhost:8080/"
        },
        "id": "w3NN01BjOt-z",
        "outputId": "f7997904-feb6-46e5-8648-928628c5e380"
      },
      "execution_count": null,
      "outputs": [
        {
          "name": "stdout",
          "output_type": "stream",
          "text": [
            "please enter age25\n"
          ]
        }
      ]
    },
    {
      "cell_type": "code",
      "source": [
        "print(age)"
      ],
      "metadata": {
        "colab": {
          "base_uri": "https://localhost:8080/"
        },
        "id": "aMNVgeFQOzUC",
        "outputId": "0c1d985e-3f74-47f7-ab86-7b6d83e89976"
      },
      "execution_count": null,
      "outputs": [
        {
          "output_type": "stream",
          "name": "stdout",
          "text": [
            "25\n"
          ]
        }
      ]
    },
    {
      "cell_type": "code",
      "source": [
        "age=input(\"please enter age\")\n",
        "print(\"my age is \"age)"
      ],
      "metadata": {
        "colab": {
          "base_uri": "https://localhost:8080/",
          "height": 106
        },
        "id": "ZmBx7LiwO3fr",
        "outputId": "c2b96123-8f33-47a3-b973-0764320d1245"
      },
      "execution_count": null,
      "outputs": [
        {
          "output_type": "error",
          "ename": "SyntaxError",
          "evalue": "invalid syntax. Perhaps you forgot a comma? (<ipython-input-35-11957b9d31e1>, line 2)",
          "traceback": [
            "\u001b[0;36m  File \u001b[0;32m\"<ipython-input-35-11957b9d31e1>\"\u001b[0;36m, line \u001b[0;32m2\u001b[0m\n\u001b[0;31m    print(\"my age is \"age)\u001b[0m\n\u001b[0m          ^\u001b[0m\n\u001b[0;31mSyntaxError\u001b[0m\u001b[0;31m:\u001b[0m invalid syntax. Perhaps you forgot a comma?\n"
          ]
        }
      ]
    },
    {
      "cell_type": "code",
      "source": [
        "age=input(\"please enter age\")\n",
        "print(age)"
      ],
      "metadata": {
        "colab": {
          "base_uri": "https://localhost:8080/"
        },
        "id": "G1wuQJe6O-F7",
        "outputId": "7f8bd1fa-e363-4cc4-c171-cd4ec5bf4594"
      },
      "execution_count": null,
      "outputs": [
        {
          "output_type": "stream",
          "name": "stdout",
          "text": [
            "please enter age25\n",
            "25\n"
          ]
        }
      ]
    },
    {
      "cell_type": "code",
      "source": [
        "age=input(\"please enter age \")\n",
        "print(age)"
      ],
      "metadata": {
        "colab": {
          "base_uri": "https://localhost:8080/"
        },
        "id": "li8VilVfPCKD",
        "outputId": "08dd2e74-45e8-49bb-dc05-008db2dce13a"
      },
      "execution_count": null,
      "outputs": [
        {
          "output_type": "stream",
          "name": "stdout",
          "text": [
            "please enter age 27\n",
            "27\n"
          ]
        }
      ]
    },
    {
      "cell_type": "markdown",
      "source": [
        "concatenation is main to join to strings or print the statement"
      ],
      "metadata": {
        "id": "KQIMWhIgPUXT"
      }
    },
    {
      "cell_type": "code",
      "source": [
        "age=input(\"please enter age \")\n",
        "print(\"my age is \"+ age)"
      ],
      "metadata": {
        "colab": {
          "base_uri": "https://localhost:8080/"
        },
        "id": "aArAsGhHPJqC",
        "outputId": "d5db7c23-5b99-4d44-bcbf-a4756f6703a3"
      },
      "execution_count": null,
      "outputs": [
        {
          "output_type": "stream",
          "name": "stdout",
          "text": [
            "please enter age 25\n",
            "my age is 25\n"
          ]
        }
      ]
    },
    {
      "cell_type": "code",
      "source": [
        "name=input()\n",
        "print(\"Hello \"+ name)\n",
        "del(name)\n",
        "print(name)"
      ],
      "metadata": {
        "id": "j3phJAVoPR6a",
        "colab": {
          "base_uri": "https://localhost:8080/"
        },
        "outputId": "2ddb2e3b-ef6d-4648-97e8-8148a370cc46"
      },
      "execution_count": null,
      "outputs": [
        {
          "output_type": "stream",
          "name": "stdout",
          "text": [
            "25\n",
            "Hello 25\n",
            "25\n"
          ]
        }
      ]
    },
    {
      "cell_type": "markdown",
      "source": [
        "# Arithamtic operators:\n",
        "+ add\n",
        "- sub\n",
        "* mul\n",
        "/  div\n",
        "// floor division\n",
        "% modules\n",
        "** Exponentation\n",
        "\n",
        "\n",
        "\n",
        "\n",
        "Modulus Operator:\n",
        "\n",
        "x % y --> remainder of x//y\n",
        "    - if x is +ve-->remainder of x//y\n",
        "    - if x is '-ve'--> y - (x%y)"
      ],
      "metadata": {
        "id": "ZLysFNsTFRJE"
      }
    },
    {
      "cell_type": "code",
      "source": [
        "\n",
        "-10%3   # y-(x%y) (3-1)   its has 1 if its positive (10)"
      ],
      "metadata": {
        "colab": {
          "base_uri": "https://localhost:8080/"
        },
        "id": "MO2AdjcsC61O",
        "outputId": "a3d1779f-8c03-4094-d255-d93bca4c0e6e"
      },
      "execution_count": null,
      "outputs": [
        {
          "output_type": "execute_result",
          "data": {
            "text/plain": [
              "2"
            ]
          },
          "metadata": {},
          "execution_count": 11
        }
      ]
    },
    {
      "cell_type": "code",
      "source": [
        "10%3"
      ],
      "metadata": {
        "colab": {
          "base_uri": "https://localhost:8080/"
        },
        "id": "Uql7GYoHGu_j",
        "outputId": "b41e95b4-235c-4c53-b994-d607989784a0"
      },
      "execution_count": null,
      "outputs": [
        {
          "output_type": "execute_result",
          "data": {
            "text/plain": [
              "1"
            ]
          },
          "metadata": {},
          "execution_count": 12
        }
      ]
    },
    {
      "cell_type": "markdown",
      "source": [
        "power of 5*5"
      ],
      "metadata": {
        "id": "J-EMA8RtHMMM"
      }
    },
    {
      "cell_type": "code",
      "source": [
        "5**2"
      ],
      "metadata": {
        "colab": {
          "base_uri": "https://localhost:8080/"
        },
        "id": "awynnW86HJ-L",
        "outputId": "acddf5b6-25d7-44fe-c7b4-4fc97ef52b5d"
      },
      "execution_count": null,
      "outputs": [
        {
          "output_type": "execute_result",
          "data": {
            "text/plain": [
              "25"
            ]
          },
          "metadata": {},
          "execution_count": 13
        }
      ]
    },
    {
      "cell_type": "code",
      "source": [
        "12**2"
      ],
      "metadata": {
        "colab": {
          "base_uri": "https://localhost:8080/"
        },
        "id": "kqgIZLI7HQG6",
        "outputId": "9fb12f94-628c-4df6-f5f5-68e7e7f58263"
      },
      "execution_count": null,
      "outputs": [
        {
          "output_type": "execute_result",
          "data": {
            "text/plain": [
              "144"
            ]
          },
          "metadata": {},
          "execution_count": 14
        }
      ]
    },
    {
      "cell_type": "markdown",
      "source": [
        "for root we can achieve by expontial by 1/2 or cube 1/3"
      ],
      "metadata": {
        "id": "kSl0cMH8HhnK"
      }
    },
    {
      "cell_type": "markdown",
      "source": [],
      "metadata": {
        "id": "zubOdPSyFQM8"
      }
    },
    {
      "cell_type": "code",
      "source": [
        "3**(1/2)"
      ],
      "metadata": {
        "colab": {
          "base_uri": "https://localhost:8080/"
        },
        "id": "Hde0vQs-HpKh",
        "outputId": "4d6a2357-c676-465b-e2d8-c2844f09ce5c"
      },
      "execution_count": null,
      "outputs": [
        {
          "output_type": "execute_result",
          "data": {
            "text/plain": [
              "1.7320508075688772"
            ]
          },
          "metadata": {},
          "execution_count": 16
        }
      ]
    },
    {
      "cell_type": "code",
      "source": [
        "1**(1/2)"
      ],
      "metadata": {
        "colab": {
          "base_uri": "https://localhost:8080/"
        },
        "id": "Tkym0KJIHrrk",
        "outputId": "5a1cdad7-b99f-4f46-f02b-41dab5d65d14"
      },
      "execution_count": null,
      "outputs": [
        {
          "output_type": "execute_result",
          "data": {
            "text/plain": [
              "1.0"
            ]
          },
          "metadata": {},
          "execution_count": 18
        }
      ]
    },
    {
      "cell_type": "code",
      "source": [
        "144**(1/2)"
      ],
      "metadata": {
        "colab": {
          "base_uri": "https://localhost:8080/"
        },
        "id": "QL7_wKQ3HwEF",
        "outputId": "e218419a-1c84-4447-b4ea-e97a723e7bf8"
      },
      "execution_count": null,
      "outputs": [
        {
          "output_type": "execute_result",
          "data": {
            "text/plain": [
              "12.0"
            ]
          },
          "metadata": {},
          "execution_count": 19
        }
      ]
    },
    {
      "cell_type": "markdown",
      "source": [
        "**BODMAS   LIKE on Python it has PEMDAS**\n"
      ],
      "metadata": {
        "id": "reHOsM0qJvqz"
      }
    },
    {
      "cell_type": "markdown",
      "source": [
        "**Assignment Operators:**\n",
        "\n"
      ],
      "metadata": {
        "id": "DPsPTGQRJ9Nk"
      }
    },
    {
      "cell_type": "code",
      "source": [
        "\n",
        "a = 10\n",
        "a = a+5\n",
        "print(a)"
      ],
      "metadata": {
        "colab": {
          "base_uri": "https://localhost:8080/"
        },
        "id": "FvAaccofH1y0",
        "outputId": "a7de42c9-cdbf-4ad6-9aa9-2e1f969806c5"
      },
      "execution_count": null,
      "outputs": [
        {
          "output_type": "stream",
          "name": "stdout",
          "text": [
            "15\n"
          ]
        }
      ]
    },
    {
      "cell_type": "code",
      "source": [
        "c = 13 # assignment here\n",
        "c%2 #\n",
        "print(c)"
      ],
      "metadata": {
        "colab": {
          "base_uri": "https://localhost:8080/"
        },
        "id": "Ab9sZ0LaKekq",
        "outputId": "6ab99c75-7af4-4295-89b6-b15e70945802"
      },
      "execution_count": null,
      "outputs": [
        {
          "output_type": "stream",
          "name": "stdout",
          "text": [
            "13\n"
          ]
        }
      ]
    },
    {
      "cell_type": "code",
      "source": [
        "\n",
        "c = 13 # assignment here\n",
        "c= c%2 # assigned again\n",
        "print(c)"
      ],
      "metadata": {
        "colab": {
          "base_uri": "https://localhost:8080/"
        },
        "id": "Jt-3NeYnKfhS",
        "outputId": "4a1f5c76-0322-417d-9f04-2d9d8921f216"
      },
      "execution_count": null,
      "outputs": [
        {
          "output_type": "stream",
          "name": "stdout",
          "text": [
            "1\n"
          ]
        }
      ]
    },
    {
      "cell_type": "code",
      "source": [
        "\n",
        "a = 10\n",
        "a+=5 #a = a+5\n",
        "print(a)\n"
      ],
      "metadata": {
        "colab": {
          "base_uri": "https://localhost:8080/"
        },
        "id": "Y5WzOKcrKiab",
        "outputId": "1797cbe2-4995-47ea-ae06-d3b1cc9175ab"
      },
      "execution_count": null,
      "outputs": [
        {
          "output_type": "stream",
          "name": "stdout",
          "text": [
            "15\n"
          ]
        }
      ]
    },
    {
      "cell_type": "code",
      "source": [
        "\n",
        "c = 13 # assignment here\n",
        "c%=2 #c = c%2\n",
        "print(c)"
      ],
      "metadata": {
        "colab": {
          "base_uri": "https://localhost:8080/"
        },
        "id": "VxunsD2pOeUZ",
        "outputId": "512a8078-b408-48b6-bc42-f260b2a5d4f5"
      },
      "execution_count": null,
      "outputs": [
        {
          "output_type": "stream",
          "name": "stdout",
          "text": [
            "1\n"
          ]
        }
      ]
    },
    {
      "cell_type": "code",
      "source": [
        "\n",
        "c = 10\n",
        "c+=1 # increment\n",
        "print(c)"
      ],
      "metadata": {
        "colab": {
          "base_uri": "https://localhost:8080/"
        },
        "id": "ndL0IdWKOhM5",
        "outputId": "447c923d-d42a-4539-f5d2-e6f7b6a446ae"
      },
      "execution_count": null,
      "outputs": [
        {
          "output_type": "stream",
          "name": "stdout",
          "text": [
            "11\n"
          ]
        }
      ]
    },
    {
      "cell_type": "code",
      "source": [
        "int1=int(input())\n",
        "int2=int(input())\n",
        "print(int1==int2)\n",
        "print(type(int1))\n",
        "print(type(int2))"
      ],
      "metadata": {
        "colab": {
          "base_uri": "https://localhost:8080/"
        },
        "id": "WKQJsxH9Okbh",
        "outputId": "98999b0e-0447-4c4c-d690-882dde3a8b61"
      },
      "execution_count": null,
      "outputs": [
        {
          "output_type": "stream",
          "name": "stdout",
          "text": [
            "10\n",
            "10\n",
            "True\n",
            "<class 'int'>\n",
            "<class 'int'>\n"
          ]
        }
      ]
    },
    {
      "cell_type": "code",
      "source": [
        "int1=input()\n",
        "int2=input()\n",
        "print(int1==int2)\n",
        "print(type(int1))\n",
        "print(type(int2))"
      ],
      "metadata": {
        "colab": {
          "base_uri": "https://localhost:8080/"
        },
        "id": "7TZOhIh6QTHx",
        "outputId": "411b2ed4-58e6-4657-9b75-ef0ea37ee621"
      },
      "execution_count": null,
      "outputs": [
        {
          "output_type": "stream",
          "name": "stdout",
          "text": [
            "12\n",
            "12\n",
            "True\n",
            "<class 'str'>\n",
            "<class 'str'>\n"
          ]
        }
      ]
    },
    {
      "cell_type": "code",
      "source": [
        "a=(3%4)\n",
        "b=(2%6)\n",
        "c=a//b\n",
        "print(c)"
      ],
      "metadata": {
        "colab": {
          "base_uri": "https://localhost:8080/"
        },
        "id": "Dq-BXLpNRR0f",
        "outputId": "6cb8c113-331d-4570-a660-9e769222ce5c"
      },
      "execution_count": null,
      "outputs": [
        {
          "output_type": "stream",
          "name": "stdout",
          "text": [
            "1\n"
          ]
        }
      ]
    },
    {
      "cell_type": "markdown",
      "source": [
        "IF else condition"
      ],
      "metadata": {
        "id": "UHWSsfXOh0Jy"
      }
    },
    {
      "cell_type": "code",
      "source": [
        "age=int(input(\"enter age \"))\n",
        "if(age>18):\n",
        "  print(\"i'm major \",age)\n",
        "else:\n",
        "  print(\"still minor \", age)\n"
      ],
      "metadata": {
        "colab": {
          "base_uri": "https://localhost:8080/"
        },
        "id": "pBgnPgNSUOdg",
        "outputId": "7f08109b-4e42-4d08-8f6c-15f7bb2813db"
      },
      "execution_count": null,
      "outputs": [
        {
          "output_type": "stream",
          "name": "stdout",
          "text": [
            "enter age 19\n",
            "i'm major  19\n"
          ]
        }
      ]
    },
    {
      "cell_type": "code",
      "source": [
        "temp=int(input(\"enter temp \"))\n",
        "weather=input(\"condition \")\n",
        "\n",
        "if(temp<32 and weather == 'rainy'):\n",
        "  print(\"wear Tshirt\" )\n",
        "  print(\"umberlla\")\n",
        "else:\n",
        "  print(\"shirt\")\n"
      ],
      "metadata": {
        "colab": {
          "base_uri": "https://localhost:8080/"
        },
        "id": "KVLruM4EV8gl",
        "outputId": "9dd9a75e-24ff-4c31-a103-9fb473478615"
      },
      "execution_count": null,
      "outputs": [
        {
          "output_type": "stream",
          "name": "stdout",
          "text": [
            "enter temp 33\n",
            "condition opiaj\n",
            "shirt\n"
          ]
        }
      ]
    },
    {
      "cell_type": "code",
      "source": [
        "name = (\"Sachin\")\n",
        "pwd = (\"1234\")\n",
        "\n",
        "# take input from user and validate username and password\n",
        "# Approach1: nested if block\n",
        "# Approach2: if elif\n",
        "# if all condtions print(\"{USERNAME} logged in Succesfully\")\n",
        "# else print(\"Incorrect Username or PWD\")\n",
        "\n",
        "name1,pwd1= input(\"enter username \").split(\",\")\n",
        "print(pwd)\n",
        "print(pwd1)\n",
        "if(name==name1) and (pwd==pwd1):\n",
        " #pwd1 = input(\"Type password \")\n",
        " #if(pwd==pwd1):\n",
        "  print(\"your Login is successful \" +name)\n",
        "else:\n",
        "    print(\"Incorrect username or password \")"
      ],
      "metadata": {
        "id": "Mgu8qtY3hwcI",
        "colab": {
          "base_uri": "https://localhost:8080/"
        },
        "outputId": "9af3e447-8469-4048-f2dc-61628e34bbae"
      },
      "execution_count": null,
      "outputs": [
        {
          "output_type": "stream",
          "name": "stdout",
          "text": [
            "enter username Sachin,1234\n",
            "1234\n",
            "1234\n",
            "your Login is successful Sachin\n"
          ]
        }
      ]
    },
    {
      "cell_type": "markdown",
      "source": [
        "Its a try"
      ],
      "metadata": {
        "id": "ah9tb5YdkkiB"
      }
    },
    {
      "cell_type": "code",
      "source": [
        "name = (\"Sachin\")\n",
        "pwd = (\"1234\")\n",
        "\n",
        "# take input from user and validate username and password\n",
        "# Approach1: nested if block\n",
        "# Approach2: if elif\n",
        "# if all condtions print(\"{USERNAME} logged in Succesfully\")\n",
        "# else print(\"Incorrect Username or PWD\")\n",
        "\n",
        "name1= input(\"enter username \")\n",
        "if(name==name1):\n",
        " print(name)\n",
        " pwd1 = input(\"Type password \")\n",
        " if(pwd==pwd1):\n",
        "  print(pwd)\n",
        "  print(\"your Login is successful \" +name)\n",
        "else:\n",
        "    print(\"Incorrect username or password \")\n"
      ],
      "metadata": {
        "colab": {
          "base_uri": "https://localhost:8080/"
        },
        "id": "LWV8NX7wfy9M",
        "outputId": "3393dda3-e3e5-4d57-dd23-a753444bec86"
      },
      "execution_count": null,
      "outputs": [
        {
          "output_type": "stream",
          "name": "stdout",
          "text": [
            "enter username vamsi\n",
            "Incorrect username or password \n"
          ]
        }
      ]
    },
    {
      "cell_type": "code",
      "source": [
        "name = (\"Sachin\",\"Jatin\")\n",
        "pwd = (\"1234\",\"9990\")\n",
        "\n",
        "sn1=\"bharath\"\n",
        "sn2=\"sarvin\"\n",
        "p1=\"1234\"\n",
        "p2=\"9990\"\n",
        "\n",
        "sn3= input(\"enter username \")\n",
        "if(sn1==sn3):\n",
        " print(sn3)\n",
        " p3 = input(\"Type password \")\n",
        "if(p1==p3):\n",
        "  print(\"your Login is successful \"+sn1)\n",
        "if(sn2==sn3):\n",
        "  print(\"elif\" +name)\n",
        "\n",
        "elif(p2==p3):\n",
        " print(\"elif\" +pwd)\n",
        " print(\"your Login is successful \" +name)\n"
      ],
      "metadata": {
        "colab": {
          "base_uri": "https://localhost:8080/",
          "height": 106
        },
        "id": "9zvKRTDaiqbx",
        "outputId": "53a0d783-c42a-45d0-e27b-ac6c534f2d1c"
      },
      "execution_count": null,
      "outputs": [
        {
          "output_type": "error",
          "ename": "SyntaxError",
          "evalue": "invalid syntax (<ipython-input-38-9638c351c90a>, line 10)",
          "traceback": [
            "\u001b[0;36m  File \u001b[0;32m\"<ipython-input-38-9638c351c90a>\"\u001b[0;36m, line \u001b[0;32m10\u001b[0m\n\u001b[0;31m    (if(sn1==sn3):\u001b[0m\n\u001b[0m     ^\u001b[0m\n\u001b[0;31mSyntaxError\u001b[0m\u001b[0;31m:\u001b[0m invalid syntax\n"
          ]
        }
      ]
    },
    {
      "cell_type": "code",
      "source": [
        "uname=\"bharath\"\n",
        "uname1= \"sarvin\"\n",
        "upass=\"1234\"\n",
        "upass1=\"12345\"\n",
        "\n",
        "un=input(\"enter username \")\n",
        "up=input(\"Enter password \")\n",
        "if(uname==un) and (up==upass):\n",
        " print(un +\" has logged in successfully\")\n",
        "elif(uname1==un) and (upass1==up):\n",
        "  print(uname1 +\" has loggedin successfully\")\n",
        "else:\n",
        "  print(\"not logged in\")"
      ],
      "metadata": {
        "id": "SGwoG1MLvott"
      },
      "execution_count": null,
      "outputs": []
    },
    {
      "cell_type": "code",
      "source": [],
      "metadata": {
        "id": "J42idFHXbenn"
      },
      "execution_count": null,
      "outputs": []
    }
  ]
}