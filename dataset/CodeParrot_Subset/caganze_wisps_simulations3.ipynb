{
 "cells": [
  {
   "cell_type": "code",
   "execution_count": 1,
   "metadata": {},
   "outputs": [
    {
     "name": "stdout",
     "output_type": "stream",
     "text": [
      "Adding 2404 sources from /Users/caganze/research/splat//resources/Spectra/Public/SPEX-PRISM/ to spectral database\n",
      "Adding 145 sources from /Users/caganze/research/splat//resources/Spectra/Public/LRIS-RED/ to spectral database\n",
      "Adding 89 sources from /Users/caganze/research/splat//resources/Spectra/Public/MAGE/ to spectral database\n"
     ]
    }
   ],
   "source": [
    "#imports\n",
    "import splat\n",
    "import wisps\n",
    "import astropy.units as u\n",
    "import numpy as np\n",
    "import matplotlib.pyplot as plt\n",
    "import pandas as pd\n",
    "import glob\n",
    "import seaborn as sns\n",
    "\n",
    "import splat.photometry as sphot\n",
    "import splat.core as spl1\n",
    "import splat.empirical as spe\n",
    "import splat.simulate as spsim\n",
    "import matplotlib as mpl\n",
    "from tqdm import tqdm\n",
    "\n",
    "\n",
    "from astropy import stats as astrostats\n",
    "\n",
    "%matplotlib inline"
   ]
  },
  {
   "cell_type": "code",
   "execution_count": 2,
   "metadata": {},
   "outputs": [],
   "source": [
    "#constants \n",
    "grid=np.sort(np.random.uniform(1000, 4000,1000))\n",
    "\n",
    "#best_dict={'2MASS J': {\\\n",
    "#            'spt': [16,17,18,19,20,21,22,23,24,25,26,27,28,29,30,31,32,33,34,35,36,37,38,39], \\\n",
    "#            'values': [10.36,10.77,11.15,11.46,11.76,12.03,12.32,12.77,13.51,13.69,14.18,14.94,14.90,14.46,14.56,15.25,14.54,14.26,13.89,14.94,15.53,16.78,17.18,17.75],\\\n",
    "#            'rms': [0.30,0.30,0.42,0.34,0.18,0.15,0.21,0.24,0.28,0.25,0.60,0.20,0.13,0.71,0.5,0.12,0.06,0.16,0.36,0.12,0.27,0.76,0.51,0.5]},\n",
    "#        '2MASS H': {\\\n",
    "#            'spt': [16,17,18,19,20,21,22,23,24,25,26,27,28,29,30,31,32,33,34,35,36,37,38,39], \\\n",
    "#            'values': [9.76,10.14,10.47,10.74,11.00,11.23,11.41,11.82,12.45,12.63,13.19,13.82,13.77,13.39,13.62,14.39,13.73,13.67,13.57,14.76,15.48,16.70,17.09,17.51],\\\n",
    "#            'rms': [0.30,0.31,0.43,0.35,0.23,0.21,0.25,0.29,0.3,0.30,0.62,0.31,0.20,0.73,0.5,0.18,0.15,0.24,0.40,0.24,0.37,0.78,0.5,0.5]}}"
   ]
  },
  {
   "cell_type": "code",
   "execution_count": 3,
   "metadata": {},
   "outputs": [],
   "source": [
    "#functions\n",
    "def flux_calibrate_spectrum(row):\n",
    "    try:\n",
    "        #calibrate using absolute magnidtude\n",
    "        sp=splat.getSpectrum(filename=row.DATA_FILE)[0]\n",
    "        spt=splat.typeToNum(row.SPEX_TYPE)\n",
    "        #use optical types for early dwarffs\n",
    "        if (np.isnan(spt) | (spt <=15)):\n",
    "            spt=splat.typeToNum(row.OPT_TYPE)\n",
    "        #no need to flux calibrate, reject high uncertainty in classification types\n",
    "        #absmag=row.J_2MASS-5*(np.log10(row.DISTANCE)-1)\n",
    "        #sp.fluxCalibrate('2MASS J', absmag)\n",
    "        return [spt, sp]\n",
    "    except :\n",
    "        return []\n",
    "    \n",
    "\n",
    "def make_mamajek_fit(spt):\n",
    "    \n",
    "    js=mamjk.M_J.apply(float).values\n",
    "    jminush=mamjk['J-H'].apply(float).values\n",
    "    hs=js-jminush\n",
    "    \n",
    "    spts=mamjk.SpT.apply(wisps.make_spt_number).apply(float).values\n",
    "    \n",
    "    hsortedindex=np.argsort(hs)\n",
    "    jsortedindex=np.argsort(js)\n",
    "    \n",
    "    hval=np.interp(spt,  spts[hsortedindex], hs[hsortedindex])\n",
    "    jval=np.interp(spt,  spts[jsortedindex], js[jsortedindex])\n",
    "    \n",
    "    return ((jval, 0.4), (hval, 0.4))\n",
    "\n",
    "\n",
    "def absolute_mag_best(spt, flt):\n",
    "    #\n",
    "    mags=wisps.best_dict[flt]\n",
    "    spts=np.array(mags['spt'])\n",
    "    if (spt < spts.min()) | (spt> spts.max()):\n",
    "        return np.nan\n",
    "    else:\n",
    "        vals=np.array(mags['values'])\n",
    "        rms=np.array(mags['rms'])\n",
    "\n",
    "        sortedindex=np.argsort(vals)\n",
    "\n",
    "\n",
    "        val=np.interp(spt,  spts[sortedindex], vals[sortedindex])\n",
    "        rmsv=np.interp(spt, spts[sortedindex], rms[sortedindex])\n",
    "        \n",
    "        vals=np.random.normal(val, rmsv, 1000)\n",
    "        return vals.mean(), vals.std()\n",
    "    \n",
    "\n",
    "def get_abs_mag(spt):\n",
    "    \n",
    "    spt=wisps.make_spt_number(spt)\n",
    "    \n",
    "    if spt < 37:\n",
    "        (j, junc), (h, hunc)=  make_mamajek_fit(spt)\n",
    "        \n",
    "    if (spt >= 37):\n",
    "        h=wisps.absolute_mag_kirkpatrick(spt, '2MASS H')\n",
    "        (j, junc), (_, _)= make_mamajek_fit(spt)\n",
    "        hunc=0.7\n",
    "    corr0=splat.photometry.vegaToAB('2MASS J')\n",
    "    corr1=splat.photometry.vegaToAB('2MASS H')\n",
    "    return [[j+corr0, junc], [h+corr1, hunc]]\n",
    "    \n",
    "def schn_flux_calibrate(row):\n",
    "    sp=row.spectra.splat_spectrum\n",
    "    spt=splat.typeToNum(row.Spec)\n",
    "    sp.fluxCalibrate('MKO J',float(row.J_MKO))\n",
    "    return [spt, sp]\n",
    "\n",
    "def get_colors(sp, flt):\n",
    "    #measuring filtermags in for two filters and comparing that to target filters\n",
    "    #remember to include euclid filters\n",
    "    #using splat filtermag\n",
    "    mag, mag_unc = splat.filterMag(sp, flt, ab=True)\n",
    "    #calculate the mag of the standard in J and H\n",
    "    \n",
    "    magj, mag_uncj = splat.filterMag(sp,'2MASS J', ab=True)\n",
    "    magh, mag_unch = splat.filterMag(sp,'2MASS H', ab=True)\n",
    "    #calculate the offset between HST filters and 2mass filters but add the uncertainty\n",
    "    \n",
    "    offsetj=magj-mag\n",
    "    offseth=magh-mag\n",
    "    \n",
    "    unc1=(mag_unc**2+mag_uncj**2)**0.5\n",
    "    unc2=(mag_unc**2+mag_unch**2)**0.5\n",
    "    \n",
    "    #offsetj=np.random.normal(offsetj, unc1)\n",
    "    #offseth=np.random.normal(offseth, unc2)\n",
    "    return [[offsetj, offseth], [unc1, unc2]]\n",
    "\n",
    "\n",
    "def get_abs_hst_mag(color, mag0):\n",
    "    return mag0-color\n",
    "\n",
    "\n",
    "def k_clip_fit(x, y, sigma_y, sigma = 5, n=6):\n",
    "    \n",
    "    '''Fit a polynomial to y vs. x, and k-sigma clip until convergence'''\n",
    "    \n",
    "    not_clipped = np.ones_like(y).astype(bool)\n",
    "    n_remove = 1\n",
    "    \n",
    "    #use median sigma\n",
    "    #median_sigma= np.nanmedian(sigma_y)\n",
    "    \n",
    "    while n_remove > 0:\n",
    "\n",
    "        best_fit = np.poly1d(np.polyfit(x[not_clipped], y[not_clipped], n))\n",
    "        \n",
    "        norm_res = (np.abs(y - best_fit(x)))/(sigma_y)\n",
    "        remove = np.logical_and(norm_res >= sigma, not_clipped == 1)\n",
    "        n_remove = sum(remove)\n",
    "        not_clipped[remove] = 0   \n",
    "        \n",
    "    return  not_clipped\n",
    "\n",
    "def fit_with_nsigma_clipping(x, y, y_unc, n, sigma=3.):\n",
    "    not_clipped = k_clip_fit(x, y, y_unc, sigma = sigma)\n",
    "    return not_clipped, np.poly1d(np.polyfit(x[not_clipped], y[not_clipped], n))"
   ]
  },
  {
   "cell_type": "code",
   "execution_count": 4,
   "metadata": {},
   "outputs": [],
   "source": [
    "\n",
    "#load spectra, ignore binaries, objects with high uncertainty in mag and objects without parallaxes\n",
    "splat_db=splat.searchLibrary(vlm=True, giant=False, young=False, binary=False)\n",
    "splat_db['SHORTNAME']=splat_db.DESIGNATION.apply(lambda x: splat.designationToShortName)\n",
    "#sml=splat_db[~ ((splat_db.H_2MASS_E > 0.1) | (splat_db.J_2MASS_E > 0.1) | (splat_db.MEDIAN_SNR <20)  )]\n",
    "sml=splat_db[~ ((splat_db.H_2MASS_E > 0.3) | (splat_db.J_2MASS_E > 0.3)  |\n",
    "                (splat_db.SPEX_TYPE.apply(splat.typeToNum) <15))]\n",
    "\n",
    "#sds=sml[(sml.METALLICITY_CLASS=='sd') | (sml.METALLICITY_CLASS=='esd')  ]\n",
    "sml=sml[~((sml.METALLICITY_CLASS=='sd') | (sml.METALLICITY_CLASS=='esd') \\\n",
    "          | (sml.MEDIAN_SNR <20))]"
   ]
  },
  {
   "cell_type": "code",
   "execution_count": 5,
   "metadata": {},
   "outputs": [],
   "source": [
    "mdwarfs=sml[ (sml.SPEX_TYPE.apply(splat.typeToNum) <20)]\n",
    "ldwarfs=sml[ (sml.SPEX_TYPE.apply(splat.typeToNum).between(20, 30))]\n",
    "tdwarfs=sml[ (sml.SPEX_TYPE.apply(splat.typeToNum).between(30, 40))]\n",
    "\n",
    "#tighter_constraints on m dwarfs \n",
    "mdwarfs=mdwarfs[(~mdwarfs.PARALLAX.isna()) & (mdwarfs.MEDIAN_SNR >100)]\n",
    "ldwarfs=ldwarfs[ (ldwarfs.MEDIAN_SNR >70)]\n",
    "\n",
    "def choose_ten(df):\n",
    "    if len(df) >10:\n",
    "        return df.sort_values('MEDIAN_SNR', ascending=False)[:10]\n",
    "    else:\n",
    "        return df\n",
    "ls=ldwarfs.groupby('SPEX_TYPE').apply(choose_ten).reset_index(drop=True)#.groupby('SPEX_TYPE').count()"
   ]
  },
  {
   "cell_type": "code",
   "execution_count": 6,
   "metadata": {},
   "outputs": [],
   "source": [
    "#get y dwarfs\n",
    "def get_shortname(n):\n",
    "    return splat.designationToShortName(n).replace('J', 'WISE')\n",
    "schn='/Users/caganze/research/wisps/data/schneider/*.txt'\n",
    "schntb=pd.read_csv('/Users/caganze/research/wisps/data/schneider2015.txt', \n",
    "                   delimiter=' ').drop(columns='Unnamed: 14')\n",
    "schntb['shortname']=schntb.Name.apply(get_shortname)\n",
    "spectra_schn=[]\n",
    "from astropy.io import ascii\n",
    "for f in glob.glob(schn):\n",
    "    d=ascii.read(f).to_pandas()\n",
    "    shortname=(f.split('/')[-1]).split('.txt')[0]\n",
    "    s=splat.Spectrum(wave=d.col1, \n",
    "                     flux=d.col2,\n",
    "                     noise=d.col3, \n",
    "                     name=shortname)\n",
    "    #measure snr \n",
    "    mask= np.logical_and(d.col1>1.0, d.col1<2.4)\n",
    "    snr= (np.nanmedian(d.col2[mask]/d.col3[mask]))\n",
    "    spectra_schn.append([s, snr])"
   ]
  },
  {
   "cell_type": "code",
   "execution_count": 7,
   "metadata": {},
   "outputs": [],
   "source": [
    "#schn_merged=(schn_merged[schn_merged.snr1>10]).reset_index(drop=True)\n",
    "smlf=pd.concat([mdwarfs, ls, tdwarfs]).reset_index(drop=True)"
   ]
  },
  {
   "cell_type": "code",
   "execution_count": 8,
   "metadata": {},
   "outputs": [],
   "source": [
    "def make_spt_number(spt):\n",
    "    ##make a spt a number\n",
    "    if isinstance(spt, str):\n",
    "        return splat.typeToNum(spt)\n",
    "    else:\n",
    "        return spt"
   ]
  },
  {
   "cell_type": "code",
   "execution_count": 9,
   "metadata": {},
   "outputs": [],
   "source": [
    "def get_file(x):\n",
    "    try:\n",
    "        return splat.getSpectrum(filename=x)[0]\n",
    "    except:\n",
    "        return "
   ]
  },
  {
   "cell_type": "code",
   "execution_count": 10,
   "metadata": {
    "jupyter": {
     "outputs_hidden": true
    },
    "scrolled": true
   },
   "outputs": [],
   "source": [
    "%%capture\n",
    "templs=smlf.DATA_FILE.apply(lambda x: get_file(x))"
   ]
  },
  {
   "cell_type": "code",
   "execution_count": 11,
   "metadata": {},
   "outputs": [],
   "source": [
    "schntb['spectra']=[x[0] for x in  spectra_schn]\n",
    "\n",
    "schntb['snr']=[x[1] for x in  spectra_schn]\n",
    "\n",
    "schntb=schntb[schntb.snr>=2.].reset_index(drop=True)\n",
    "\n",
    "all_spectra=np.concatenate([templs,schntb.spectra.values ])"
   ]
  },
  {
   "cell_type": "code",
   "execution_count": 12,
   "metadata": {},
   "outputs": [],
   "source": [
    "spts=np.concatenate([smlf.SPEX_TYPE.apply(make_spt_number).values,\n",
    "                     schntb.Spec.apply(make_spt_number).values,\n",
    "                    ])\n",
    "\n",
    "#remove nones\n",
    "nones= np.array(all_spectra)==None\n",
    "all_spectra=all_spectra[~nones]\n",
    "spts=spts[~nones]\n",
    "assert len(spts) == len(all_spectra)\n",
    "#assert len(spts) == len(all_spectra)"
   ]
  },
  {
   "cell_type": "code",
   "execution_count": 13,
   "metadata": {},
   "outputs": [],
   "source": [
    "from astropy.io import ascii\n",
    "mamjk=ascii.read('/users/caganze/research/wisps/data/mamajek_relations.txt').to_pandas().replace('None', np.nan)"
   ]
  },
  {
   "cell_type": "code",
   "execution_count": 14,
   "metadata": {},
   "outputs": [],
   "source": [
    "#combined calibrated spctra\n",
    "#combcal=np.append(calbr, calbrschn)\n",
    "#specs=np.array([x for x in pd.DataFrame(combcal).values if x])\n",
    "specs= list(zip(spts, all_spectra))"
   ]
  },
  {
   "cell_type": "code",
   "execution_count": 15,
   "metadata": {},
   "outputs": [
    {
     "data": {
      "text/plain": [
       "[[-0.5709339437262742, -0.4242192636729918],\n",
       " [0.11667832715031544, 0.17366490501192167]]"
      ]
     },
     "execution_count": 15,
     "metadata": {},
     "output_type": "execute_result"
    }
   ],
   "source": [
    "get_colors(all_spectra[-1], 'WFC3_F110W')"
   ]
  },
  {
   "cell_type": "code",
   "execution_count": 16,
   "metadata": {},
   "outputs": [],
   "source": [
    "import pickle\n",
    "output = open(wisps.OUTPUT_FILES+'/validated_spectra.pkl', 'wb')\n",
    "pickle.dump(specs, output)\n",
    "output.close()\n"
   ]
  },
  {
   "cell_type": "code",
   "execution_count": 17,
   "metadata": {},
   "outputs": [
    {
     "name": "stderr",
     "output_type": "stream",
     "text": [
      "\r",
      "  0%|          | 0/336 [00:00<?, ?it/s]"
     ]
    },
    {
     "name": "stdout",
     "output_type": "stream",
     "text": [
      "['WFC3_F110W' 'WFC3_F140W' 'WFC3_F160W' 'EUCLID_J' 'EUCLID_H']\n"
     ]
    },
    {
     "name": "stderr",
     "output_type": "stream",
     "text": [
      "100%|██████████| 336/336 [08:09<00:00,  1.46s/it]\n"
     ]
    }
   ],
   "source": [
    "#specs\n",
    "\n",
    "#compute colors for different filters\n",
    "colors=[]\n",
    "uncolors=[]\n",
    "fltrswfc3= ['WFC3_{}'.format(k) for k in ['F110W', 'F140W', 'F160W']]\n",
    "fltrseucl=['EUCLID_J', 'EUCLID_H']\n",
    "\n",
    "fltrs=np.append(fltrswfc3, fltrseucl)\n",
    "print (fltrs)\n",
    "for pair in tqdm(specs):\n",
    "    c={}\n",
    "    uncclrs={}\n",
    "    for flt in fltrs:\n",
    "        x=pair[1]\n",
    "        sptx=pair[0]\n",
    "        color, uncc=get_colors(x, flt)\n",
    "        c.update({flt: color})\n",
    "        uncclrs.update({flt:uncc})\n",
    "    uncolors.append(uncclrs)\n",
    "    colors.append(c)"
   ]
  },
  {
   "cell_type": "code",
   "execution_count": 18,
   "metadata": {},
   "outputs": [],
   "source": [
    "assert len(spts) ==len(colors)"
   ]
  },
  {
   "cell_type": "code",
   "execution_count": 19,
   "metadata": {},
   "outputs": [],
   "source": [
    "sp_grid= spts\n",
    "#sp_grid=sp_grid0[~nans]"
   ]
  },
  {
   "cell_type": "code",
   "execution_count": 20,
   "metadata": {},
   "outputs": [],
   "source": [
    "colors_df=pd.DataFrame(colors)#[~nans]\n",
    "uncolors_df=pd.DataFrame(uncolors)#[~nans]"
   ]
  },
  {
   "cell_type": "code",
   "execution_count": 21,
   "metadata": {},
   "outputs": [],
   "source": [
    "colors_df['spt']=sp_grid\n",
    "uncolors_df['spt']=sp_grid"
   ]
  },
  {
   "cell_type": "code",
   "execution_count": 22,
   "metadata": {},
   "outputs": [],
   "source": [
    "colors_polynomials={}\n",
    "for k in colors_df.columns:\n",
    "    if k != 'spt':\n",
    "        clrs=np.vstack(colors_df[k]).astype(float)\n",
    "        uncs=np.vstack(uncolors_df[k]).astype(float)\n",
    "    \n",
    "        mask0, pc0=fit_with_nsigma_clipping( sp_grid,clrs[:,0], uncs[:,0],6, sigma=5.)\n",
    "        mask1, pc1=fit_with_nsigma_clipping( sp_grid,clrs[:,1], uncs[:,1],6, sigma=5.)\n",
    "        \n",
    "        x0, y0, yunc0= sp_grid[mask0], clrs[:,0][mask0], uncs[:,0][mask0]\n",
    "        x1, y1, yunc1= sp_grid[mask1], clrs[:,1][mask1], uncs[:,1][mask1]\n",
    "        \n",
    "\n",
    "\n",
    "        colors_polynomials.update({k+'_J': {'pol': pc0, 'mask':mask0, \n",
    "                                     'color':clrs[:,0], 'unc': uncs[:,0], \n",
    "                                    'scatter': 5.*np.abs(pc0(x0)- y0).mean() }, \n",
    "                            k+'_H': {'pol': pc1, 'mask':mask1, 'color': clrs[:,1] , 'unc': uncs[:,1] ,\n",
    "                                     'scatter':  5.*np.abs(pc1(x1)- y1).mean() }})"
   ]
  },
  {
   "cell_type": "code",
   "execution_count": null,
   "metadata": {},
   "outputs": [],
   "source": []
  },
  {
   "cell_type": "code",
   "execution_count": 23,
   "metadata": {},
   "outputs": [],
   "source": [
    "two_mass_values=np.array([  get_abs_mag(x) for x in sp_grid])"
   ]
  },
  {
   "cell_type": "code",
   "execution_count": 24,
   "metadata": {},
   "outputs": [
    {
     "data": {
      "text/plain": [
       "[<matplotlib.lines.Line2D at 0x7fc53433d370>]"
      ]
     },
     "execution_count": 24,
     "metadata": {},
     "output_type": "execute_result"
    },
    {
     "name": "stderr",
     "output_type": "stream",
     "text": [
      "findfont: Font family ['serif'] not found. Falling back to DejaVu Sans.\n"
     ]
    },
    {
     "data": {
      "image/png": "[encoded data removed]",
      "text/plain": [
       "<Figure size 432x288 with 1 Axes>"
      ]
     },
     "metadata": {
      "needs_background": "light"
     },
     "output_type": "display_data"
    }
   ],
   "source": [
    "plt.plot(sp_grid, two_mass_values[:, 0][:, 0], '.')\n",
    "plt.plot(sp_grid, two_mass_values[:, 1][:, 0], '.')"
   ]
  },
  {
   "cell_type": "code",
   "execution_count": 25,
   "metadata": {},
   "outputs": [],
   "source": [
    "polynomial_relations={}\n",
    "\n",
    "for k in colors_polynomials.keys():\n",
    "    \n",
    "    if k.endswith('J'): #use j-offset for j offset for h\n",
    "        #take the median centered around the uncertainty \n",
    "        two_mass_to_use=two_mass_values[:, 0][:,0]\n",
    "        two_mass_uncer= two_mass_values[:,0][:,1]\n",
    "        \n",
    "    else:\n",
    "        two_mass_to_use=two_mass_values[:, 1][:,0]\n",
    "        two_mass_uncer= two_mass_values[:,1][:,1]\n",
    "        \n",
    "    mask= np.logical_and.reduce([(colors_polynomials[k])['mask'], \n",
    "                                 ~np.isnan((colors_polynomials[k])['color']),\n",
    "                                 ~np.isnan((colors_polynomials[k])['unc']), \n",
    "                                 ~np.isnan(two_mass_to_use)])\n",
    "    \n",
    "    #add values and propagate total uncertainty\n",
    "    total_uncer=(two_mass_uncer**2+  (colors_polynomials[k])['unc']**2)**0.5\n",
    "    \n",
    "    vals0= np.random.normal(two_mass_to_use+ (colors_polynomials[k])['color'], total_uncer , \n",
    "                           size=( 1000, len(mask)))\n",
    "    \n",
    "    vals=vals0.mean(axis=0)\n",
    "    uncs=vals0.std(axis=0)\n",
    "  \n",
    "    #only fit masked area \n",
    "    x=sp_grid[mask]\n",
    "    y=vals[mask]\n",
    "    yunc=total_uncer[mask]\n",
    "\n",
    "\n",
    "    maskn, p=fit_with_nsigma_clipping(x,y,yunc,6, sigma=5.)\n",
    "\n",
    "\n",
    "    polynomial_relations.update({k:{'x': x, 'y': y, 'pol': p, 'yunc': yunc, 'mask':maskn,\n",
    "                                    'scatter': 5*(abs(p(x[maskn])-y[maskn])).mean()}})"
   ]
  },
  {
   "cell_type": "code",
   "execution_count": 26,
   "metadata": {},
   "outputs": [
    {
     "data": {
      "text/plain": [
       "0.67"
      ]
     },
     "execution_count": 26,
     "metadata": {},
     "output_type": "execute_result"
    }
   ],
   "source": [
    "wisps.kirkpa2019pol['scatter']"
   ]
  },
  {
   "cell_type": "code",
   "execution_count": 27,
   "metadata": {},
   "outputs": [],
   "source": [
    "RMS_BEST={'J', np.array((wisps.best_dict['2MASS J']['rms'])).mean()**2 + 0.4**2, \n",
    "        'H', np.array((wisps.best_dict['2MASS H']['rms'])).mean()**2 + 0.4**2}"
   ]
  },
  {
   "cell_type": "code",
   "execution_count": 28,
   "metadata": {},
   "outputs": [],
   "source": [
    "RMS_DAVY=wisps.kirkpa2019pol['scatter']"
   ]
  },
  {
   "cell_type": "code",
   "execution_count": 29,
   "metadata": {},
   "outputs": [
    {
     "data": {
      "text/plain": [
       "dict_keys(['WFC3_F110W_J', 'WFC3_F110W_H', 'WFC3_F140W_J', 'WFC3_F140W_H', 'WFC3_F160W_J', 'WFC3_F160W_H', 'EUCLID_J_J', 'EUCLID_J_H', 'EUCLID_H_J', 'EUCLID_H_H'])"
      ]
     },
     "execution_count": 29,
     "metadata": {},
     "output_type": "execute_result"
    }
   ],
   "source": [
    "polynomial_relations.keys()"
   ]
  },
  {
   "cell_type": "code",
   "execution_count": 30,
   "metadata": {},
   "outputs": [],
   "source": [
    "final_pol_keys=['WFC3_F110W_J', 'WFC3_F140W_J', 'WFC3_F160W_H']"
   ]
  },
  {
   "cell_type": "code",
   "execution_count": 31,
   "metadata": {},
   "outputs": [
    {
     "data": {
      "text/plain": [
       "dict_keys(['pol', 'mask', 'color', 'unc', 'scatter'])"
      ]
     },
     "execution_count": 31,
     "metadata": {},
     "output_type": "execute_result"
    }
   ],
   "source": [
    "colors_polynomials[k].keys()"
   ]
  },
  {
   "cell_type": "code",
   "execution_count": 46,
   "metadata": {
    "scrolled": true
   },
   "outputs": [
    {
     "name": "stdout",
     "output_type": "stream",
     "text": [
      "0.3222664721637294\n",
      "0.3685143906206988\n",
      "0.3965506236229219\n"
     ]
    },
    {
     "data": {
      "image/png": "[encoded data removed]",
      "text/plain": [
       "<Figure size 864x576 with 6 Axes>"
      ]
     },
     "metadata": {
      "needs_background": "light"
     },
     "output_type": "display_data"
    }
   ],
   "source": [
    "#visualize \n",
    "fig, (ax, ax1)=plt.subplots(ncols=3, figsize=(12, 8), nrows=2, sharey=False)\n",
    "\n",
    "for  idx, k in zip(range(0, 10), final_pol_keys):\n",
    "    \n",
    "    pc=colors_polynomials[k]['pol']\n",
    "    p=polynomial_relations[k]['pol']\n",
    "    \n",
    "    masked=colors_polynomials[k]['mask']\n",
    "    maskedpol=polynomial_relations[k]['mask']\n",
    "    scpol=polynomial_relations[k]['scatter']\n",
    "    scolor=colors_polynomials[k]['scatter']\n",
    "    \n",
    "    print (scpol)\n",
    "    ax[idx].plot(np.linspace(15, 42), pc(np.linspace(15, 42)), c='#001f3f', linewidth=3)\n",
    "    ax1[idx].plot(np.linspace(15, 42), p(np.linspace(15, 42)), c='#001f3f', linewidth=3)\n",
    "    \n",
    "    ax[idx].fill_between(np.linspace(15, 42),  pc(np.linspace(15, 42))+scolor, pc(np.linspace(15, 42))-scolor, alpha=0.5 )\n",
    "    \n",
    "    ax1[idx].fill_between(np.linspace(15, 42),  p(np.linspace(15, 42))+scpol, p(np.linspace(15, 42))-scpol, alpha=0.5 )\n",
    "    \n",
    "    ax[idx].errorbar(sp_grid[mask], (colors_polynomials[k]['color'])[mask], yerr=(colors_polynomials[k]['unc'])[mask],   fmt='o', mec='#111111')\n",
    "    \n",
    "    ax[idx].errorbar(sp_grid[~mask], (colors_polynomials[k]['color'])[~mask], yerr= (colors_polynomials[k]['unc'])[~mask], fmt='x', mec='#111111')\n",
    "    \n",
    "    \n",
    "    ax1[idx].errorbar(polynomial_relations[k]['x'][~maskedpol], polynomial_relations[k]['y'][~maskedpol],yerr=polynomial_relations[k]['yunc'][~maskedpol],  fmt='x', mec='#111111')\n",
    "    ax1[idx].errorbar(polynomial_relations[k]['x'][maskedpol], polynomial_relations[k]['y'][maskedpol], yerr= polynomial_relations[k]['yunc'][maskedpol],  fmt='o', mec='#111111')\n",
    "    \n",
    "    \n",
    "    #ax[idx].set_xlim([15, 42])\n",
    "    #ax1[idx].set_xlim([15, 42])\n",
    "    \n",
    "    ax[idx].minorticks_on()\n",
    "    ax1[idx].minorticks_on()\n",
    "    \n",
    "    \n",
    "    ax[idx].set_xticks([15, 20, 25, 30, 35, 40])\n",
    "    ax[idx].set_xticklabels(['M5', 'L0', 'L5', 'T0', 'T5', 'Y0'])\n",
    "    \n",
    "    ax1[idx].set_xticks([15, 20, 25, 30, 35, 40])\n",
    "    ax1[idx].set_xticklabels(['M5', 'L0', 'L5', 'T0', 'T5', 'Y0'])\n",
    "    \n",
    "    ax[idx].set_xlabel('Spectral Type')\n",
    "    ax1[idx].set_xlabel('Spectral Type')\n",
    "\n",
    "    \n",
    "    \n",
    "\n",
    "    \n",
    "#ax[0].set_ylim([-0.75, 0.0])\n",
    "#ax[1].set_ylim([-.25, 0.5])\n",
    "#ax[2].set_ylim([-.75, 0.25])\n",
    "\n",
    "#ax1[0].set_ylim([8, 27])\n",
    "#ax1[1].set_ylim([8, 27])\n",
    "#ax1[2].set_ylim([7, 27])\n",
    "\n",
    "#ax1[0].set_ylim([8, 27])\n",
    "\n",
    "for a in ax1:\n",
    "    a.invert_yaxis()\n",
    "\n",
    "ax[0].set_ylabel('2MASS J - WFC3 F110W')\n",
    "ax[1].set_ylabel('2MASS J - WFC3 F140W')\n",
    "ax[2].set_ylabel('2MASS H - WFC3 F160W')\n",
    "\n",
    "ax1[0].set_ylabel(r'$M_\\mathrm{F110W} $ (AB)')\n",
    "ax1[1].set_ylabel(r'$M_\\mathrm{F140W} $ (AB)')\n",
    "ax1[2].set_ylabel(r'$M_\\mathrm{F160W} $ (AB)')\n",
    "\n",
    "\n",
    "plt.tight_layout()\n",
    "plt.savefig(wisps.OUTPUT_FIGURES+'/abs_mag_relations.pdf', bbox_inches='tight')"
   ]
  },
  {
   "cell_type": "code",
   "execution_count": 33,
   "metadata": {},
   "outputs": [
    {
     "data": {
      "text/plain": [
       "dict_keys(['WFC3_F110W_J', 'WFC3_F110W_H', 'WFC3_F140W_J', 'WFC3_F140W_H', 'WFC3_F160W_J', 'WFC3_F160W_H', 'EUCLID_J_J', 'EUCLID_J_H', 'EUCLID_H_J', 'EUCLID_H_H'])"
      ]
     },
     "execution_count": 33,
     "metadata": {},
     "output_type": "execute_result"
    }
   ],
   "source": [
    "polynomial_relations.keys()"
   ]
  },
  {
   "cell_type": "code",
   "execution_count": 34,
   "metadata": {},
   "outputs": [
    {
     "data": {
      "text/plain": [
       "291"
      ]
     },
     "execution_count": 34,
     "metadata": {},
     "output_type": "execute_result"
    }
   ],
   "source": [
    "len(maskedpol)"
   ]
  },
  {
   "cell_type": "code",
   "execution_count": 35,
   "metadata": {},
   "outputs": [],
   "source": [
    "rels={'abs_mags':{'F110W': (polynomial_relations['WFC3_F110W_J']['pol'], polynomial_relations['WFC3_F110W_J']['scatter'] ),\n",
    "                  'F140W':  (polynomial_relations['WFC3_F140W_J']['pol'], polynomial_relations['WFC3_F140W_J']['scatter'] ),\n",
    "                  'F160W': (polynomial_relations['WFC3_F160W_H']['pol'], polynomial_relations['WFC3_F160W_H']['scatter'] ),\n",
    "                  'EUCLID_J': (polynomial_relations['EUCLID_J_J']['pol'], polynomial_relations['EUCLID_J_J']['scatter'] ),\n",
    "                  'EUCLID_H': (polynomial_relations['EUCLID_H_H']['pol'], polynomial_relations['EUCLID_H_H']['scatter'] )},\n",
    "      \n",
    "      'colors':{'j_f110': (colors_polynomials['WFC3_F110W_J']['pol'], colors_polynomials['WFC3_F110W_J']['scatter'] ),\n",
    "                'j_f140': (colors_polynomials['WFC3_F140W_J']['pol'], colors_polynomials['WFC3_F140W_J']['scatter'] ),\n",
    "                'j_f160': (colors_polynomials['WFC3_F160W_J']['pol'], colors_polynomials['WFC3_F160W_J']['scatter'] ),\n",
    "                'h_f110': (colors_polynomials['WFC3_F110W_H']['pol'], colors_polynomials['WFC3_F110W_H']['scatter'] ),\n",
    "                'h_f140': (colors_polynomials['WFC3_F140W_H']['pol'], colors_polynomials['WFC3_F140W_H']['scatter'] ),\n",
    "                'h_f160': (colors_polynomials['WFC3_F160W_H']['pol'], colors_polynomials['WFC3_F160W_H']['scatter'] )\n",
    "               },\n",
    "      \n",
    "      'snr':wisps.POLYNOMIAL_RELATIONS['snr']}\n"
   ]
  },
  {
   "cell_type": "code",
   "execution_count": 36,
   "metadata": {},
   "outputs": [],
   "source": [
    "rels0=wisps.POLYNOMIAL_RELATIONS\n",
    "rels0.update({'abs_mags': rels['abs_mags'], \n",
    "             'colors': rels['colors']})"
   ]
  },
  {
   "cell_type": "code",
   "execution_count": 37,
   "metadata": {},
   "outputs": [],
   "source": [
    "import pickle\n",
    "output = open(wisps.OUTPUT_FILES+'/polynomial_relations.pkl', 'wb')\n",
    "pickle.dump(rels0, output)\n",
    "output.close()\n",
    "\n",
    "def interpolated_templates(s):\n",
    "    try:\n",
    "        s.normalize()\n",
    "        #s.toInstrument('WFC3-G141')\n",
    "        wv= s.wave.value\n",
    "        fl= s.flux.value\n",
    "        fl[fl < 0.0]=np.nan\n",
    "        #s.toInstrument('WFC3-G141')\n",
    "        return interpolate.interp1d(wv, fl,\n",
    "                                    bounds_error=False,fill_value=0.)\n",
    "    except:\n",
    "        return "
   ]
  },
  {
   "cell_type": "code",
   "execution_count": 38,
   "metadata": {},
   "outputs": [],
   "source": [
    "from scipy import interpolate\n",
    "df= pd.DataFrame()\n",
    "df['spt']=spts\n",
    "df['name']=[x.name for x in all_spectra]\n",
    "df['spectra']=all_spectra\n",
    "df['interp']=df.spectra.apply(interpolated_templates)"
   ]
  },
  {
   "cell_type": "code",
   "execution_count": 39,
   "metadata": {},
   "outputs": [],
   "source": [
    "df=df[~df.interp.isna()]"
   ]
  },
  {
   "cell_type": "code",
   "execution_count": 40,
   "metadata": {},
   "outputs": [
    {
     "data": {
      "text/plain": [
       "[<matplotlib.lines.Line2D at 0x7fc53667e1f0>]"
      ]
     },
     "execution_count": 40,
     "metadata": {},
     "output_type": "execute_result"
    },
    {
     "data": {
      "image/png": "[encoded data removed]",
      "text/plain": [
       "<Figure size 432x288 with 1 Axes>"
      ]
     },
     "metadata": {
      "needs_background": "light"
     },
     "output_type": "display_data"
    }
   ],
   "source": [
    "plt.plot(df.spt, '.')"
   ]
  },
  {
   "cell_type": "code",
   "execution_count": 41,
   "metadata": {},
   "outputs": [],
   "source": [
    "#d"
   ]
  },
  {
   "cell_type": "code",
   "execution_count": 42,
   "metadata": {},
   "outputs": [],
   "source": [
    "import pickle\n",
    "output = open(wisps.OUTPUT_FILES+'/validated_templates.pkl', 'wb')\n",
    "pickle.dump(df, output)\n",
    "output.close()\n"
   ]
  },
  {
   "cell_type": "code",
   "execution_count": 43,
   "metadata": {},
   "outputs": [],
   "source": [
    "\n",
    "#splat.filterMag?"
   ]
  },
  {
   "cell_type": "code",
   "execution_count": null,
   "metadata": {},
   "outputs": [],
   "source": []
  },
  {
   "cell_type": "code",
   "execution_count": 44,
   "metadata": {},
   "outputs": [],
   "source": [
    "#"
   ]
  },
  {
   "cell_type": "code",
   "execution_count": 45,
   "metadata": {},
   "outputs": [],
   "source": [
    "#"
   ]
  },
  {
   "cell_type": "markdown",
   "metadata": {},
   "source": [
    "## "
   ]
  }
 ],
 "metadata": {
  "kernelspec": {
   "display_name": "Python 3",
   "language": "python",
   "name": "python3"
  },
  "language_info": {
   "codemirror_mode": {
    "name": "ipython",
    "version": 3
   },
   "file_extension": ".py",
   "mimetype": "text/x-python",
   "name": "python",
   "nbconvert_exporter": "python",
   "pygments_lexer": "ipython3",
   "version": "3.8.5"
  }
 },
 "nbformat": 4,
 "nbformat_minor": 4
}
