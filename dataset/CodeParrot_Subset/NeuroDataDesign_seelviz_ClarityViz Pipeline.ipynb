{
 "cells": [
  {
   "cell_type": "markdown",
   "metadata": {},
   "source": [
    "# ClarityViz\n",
    "\n",
    "## Pipeline: .img -> histogram .nii -> graph represented as csv -> graph as graphml -> plotly\n",
    "\n",
    "### To run:\n",
    "\n",
    "### Step 1:\n",
    "\n",
    "First, run the following.  This takes the .img, generates the localeq histogram as an nii file, gets the nodes and edges as a csv and converts the csv into a graphml\n",
    "\n"
   ]
  },
  {
   "cell_type": "code",
   "execution_count": null,
   "metadata": {
    "collapsed": true
   },
   "outputs": [],
   "source": [
    "python runclarityviz.py --token Fear199Coronal --file-type img --source-directory /cis/project/clarity/data/clarity/isoCoronal"
   ]
  },
  {
   "cell_type": "markdown",
   "metadata": {},
   "source": [
    "### Step 2: \n",
    "Then run this.  This just converts the graphml into a plotly"
   ]
  },
  {
   "cell_type": "code",
   "execution_count": null,
   "metadata": {
    "collapsed": true
   },
   "outputs": [],
   "source": [
    "python runclarityviz.py --token Fear199Coronal --plotly yes"
   ]
  },
  {
   "cell_type": "markdown",
   "metadata": {},
   "source": [
    "## Results"
   ]
  },
  {
   "cell_type": "code",
   "execution_count": null,
   "metadata": {
    "collapsed": true
   },
   "outputs": [],
   "source": [
    "Starting pipeline for Fear199.img\n",
    "Generating Histogram...\n",
    "FINISHED GENERATING HISTOGRAM\n",
    "Loading: Fear199/Fear199localeq.nii\n",
    "Image Loaded: Fear199/Fear199localeq.nii\n",
    "FINISHED LOADING NII\n",
    "Coverting to points...\n",
    "token=Fear199\n",
    "total=600735744\n",
    "max=255.000000\n",
    "threshold=0.300000\n",
    "sample=0.500000\n",
    "(This will take couple minutes)\n",
    "Above threshold=461409948\n",
    "Samples=230718301\n",
    "Finished\n",
    "FINISHED GETTING POINTS"
   ]
  },
  {
   "cell_type": "code",
   "execution_count": null,
   "metadata": {
    "collapsed": true
   },
   "outputs": [],
   "source": [
    "~/clarityviztesting/Fear199Coronal$ ls\n",
    "Fear199Coronal.csv\t  Fear199Coronal.graphml     Fear199Coronal.nodes.csv\n",
    "Fear199Coronal.edges.csv  Fear199Coronallocaleq.nii  Fear199Coronalplotly.html"
   ]
  },
  {
   "cell_type": "markdown",
   "metadata": {},
   "source": [
    "# Code"
   ]
  },
  {
   "cell_type": "markdown",
   "metadata": {},
   "source": [
    "## runclarityviz.py:"
   ]
  },
  {
   "cell_type": "code",
   "execution_count": 3,
   "metadata": {
    "collapsed": false
   },
   "outputs": [
    {
     "ename": "SyntaxError",
     "evalue": "invalid syntax (<ipython-input-3-e4f212d51a9a>, line 2)",
     "output_type": "error",
     "traceback": [
      "\u001b[0;36m  File \u001b[0;32m\"<ipython-input-3-e4f212d51a9a>\"\u001b[0;36m, line \u001b[0;32m2\u001b[0m\n\u001b[0;31m    import ...\u001b[0m\n\u001b[0m             ^\u001b[0m\n\u001b[0;31mSyntaxError\u001b[0m\u001b[0;31m:\u001b[0m invalid syntax\n"
     ]
    }
   ],
   "source": [
    "from clarityviz import clarityviz\n",
    "import ...\n",
    "\n",
    "def get_args():\n",
    "    parser = argparse.ArgumentParser(description=\"Description\")\n",
    "\n",
    "    parser.add_argument(\"--token\", type=str, required=True, help=\"The token.\")\n",
    "    parser.add_argument(\"--file-type\", type=str, required=False, help=\"The file type.\")\n",
    "    parser.add_argument(\"--source-directory\", type=str, required=False,\n",
    "                        help=\"Optional setting of the source directory.\")\n",
    "    parser.add_argument(\"--plotly\", type=str, required=False, help=\"Optional method to generate the plotly graphs.\")\n",
    "    parser.add_argument(\"--generate-nii-from-csv\", type=str, required=False, help=\"script to generate nii\")\n",
    "\n",
    "    args = parser.parse_args()\n",
    "\n",
    "    return args\n",
    "\n",
    "\n",
    "def main():\n",
    "    print('ayyooooo')\n",
    "    args = get_args()\n",
    "\n",
    "    if args.plotly == 'yes':\n",
    "        ## Type in the path to your csv file here\n",
    "        thedata = np.genfromtxt(args.token + '/' + args.token + '.csv',\n",
    "            delimiter=',', dtype='int', usecols = (0,1,2), names=['a','b','c'])\n",
    "\n",
    "        trace1 = go.Scatter3d(\n",
    "            x = thedata['a'],\n",
    "            y = thedata['b'],\n",
    "            z = thedata['c'],\n",
    "            mode='markers',\n",
    "            marker=dict(\n",
    "                size=1.2,\n",
    "                color='purple',                # set color to an array/list of desired values\n",
    "                colorscale='Viridis',   # choose a colorscale\n",
    "                opacity=0.15\n",
    "            )\n",
    "        )\n",
    "\n",
    "        data = [trace1]\n",
    "        layout = go.Layout(\n",
    "            margin=dict(\n",
    "                l=0,\n",
    "                r=0,\n",
    "                b=0,\n",
    "                t=0\n",
    "            )\n",
    "        )\n",
    "\n",
    "        fig = go.Figure(data=data, layout=layout)\n",
    "        print args.token + \"plotly\"\n",
    "        plotly.offline.plot(fig, filename= args.token + \"/\" + args.token + \"plotly.html\")\n",
    "    else:\n",
    "        print('Starting pipeline for %s' % (args.token + '.' + args.file_type))\n",
    "        if args.source_directory == None:\n",
    "            c = clarityviz(args.token)\n",
    "        else:\n",
    "            c = clarityviz(args.token, args.source_directory)\n",
    "\n",
    "        if args.file_type == 'img':\n",
    "            #c.loadEqImg()\n",
    "            c.generateHistogram()\n",
    "            print('FINISHED GENERATING HISTOGRAM')\n",
    "            c.loadNiiImg()\n",
    "            print('FINISHED LOADING NII')\n",
    "        elif args.file_type == 'nii':\n",
    "            c.loadNiiImg()\n",
    "            print('FINISHED LOADING NII')\n",
    "\n",
    "        c.imgToPoints(0.3, 0.5)\n",
    "        print(\"FINISHED GETTING POINTS\")\n",
    "\n",
    "        c.savePoints()\n",
    "\n",
    "        c.plot3d()\n",
    "        print(\"FINISHED PLOT3D\")\n",
    "\n",
    "        c.graphmlconvert()\n",
    "        print(\"FINISHED GRAPHMLCONVERT\")\n",
    "\n",
    "if __name__ == \"__main__\":\n",
    "    main()"
   ]
  },
  {
   "cell_type": "markdown",
   "metadata": {},
   "source": [
    "## clarityviz.py"
   ]
  },
  {
   "cell_type": "code",
   "execution_count": null,
   "metadata": {
    "collapsed": true
   },
   "outputs": [],
   "source": [
    "def generateHistogram(self):\n",
    "        print('Generating Histogram...')\n",
    "        if self._source_directory == None:\n",
    "            path = self._token + '.img'\n",
    "        else:\n",
    "            path = self._source_directory + \"/\" + self._token + \".img\"\n",
    "\n",
    "        im = nib.load(path)\n",
    "\n",
    "        im = im.get_data()\n",
    "        img = im[:,:,:]\n",
    "\n",
    "        shape = im.shape\n",
    "        #affine = im.get_affine()\n",
    "\n",
    "        x_value = shape[0]\n",
    "        y_value = shape[1]\n",
    "        z_value = shape[2]\n",
    "\n",
    "        #####################################################\n",
    "\n",
    "        imgflat = img.reshape(-1)\n",
    "\n",
    "        #img_grey = np.array(imgflat * 255, dtype = np.uint8)\n",
    "\n",
    "        #img_eq = exposure.equalize_hist(img_grey)\n",
    "\n",
    "        #new_img = img_eq.reshape(x_value, y_value, z_value)\n",
    "        #globaleq = nib.Nifti1Image(new_img, np.eye(4))\n",
    "\n",
    "        ######################################################\n",
    "\n",
    "        #clahe = cv2.createCLAHE(clipLimit=2.0, tileGridSize=(8,8))\n",
    "        clahe = cv2.createCLAHE(clipLimit=2.0, tileGridSize=(8,8))\n",
    "\n",
    "        img_grey = np.array(imgflat * 255, dtype = np.uint8)\n",
    "        #threshed = cv2.adaptiveThreshold(img_grey, 255, cv2.ADAPTIVE_THRESH_MEAN_C, cv2.THRESH_BINARY, 3, 0)\n",
    "\n",
    "        cl1 = clahe.apply(img_grey)\n",
    "\n",
    "        #cv2.imwrite('clahe_2.jpg',cl1)\n",
    "        #cv2.startWindowThread()\n",
    "        #cv2.namedWindow(\"adaptive\")\n",
    "        #cv2.imshow(\"adaptive\", cl1)\n",
    "        #cv2.imshow(\"adaptive\", threshed)\n",
    "        #plt.imshow(threshed)\n",
    "\n",
    "        localimgflat = cl1 #cl1.reshape(-1)\n",
    "\n",
    "        newer_img = localimgflat.reshape(x_value, y_value, z_value)\n",
    "        localeq = nib.Nifti1Image(newer_img, np.eye(4))\n",
    "        nib.save(localeq, self._token + '/' + self._token + 'localeq.nii')"
   ]
  },
  {
   "cell_type": "code",
   "execution_count": null,
   "metadata": {
    "collapsed": true
   },
   "outputs": [],
   "source": [
    "def loadGeneratedNii(self, path=None, info=False):\n",
    "        path = self._token + '/' + self._token + 'localeq.nii'\n",
    "        print(\"Loading: %s\"%(path))\n",
    "\n",
    "        #pathname = path+self._token+\".nii\"\n",
    "        img = nib.load(path)\n",
    "        if info:\n",
    "            print(img)\n",
    "        #self._img = img.get_data()[:,:,:,0]\n",
    "        self._img = img.get_data()\n",
    "        self._shape = self._img.shape\n",
    "        self._max = np.max(self._img)\n",
    "        print(\"Image Loaded: %s\"%(path))\n",
    "        return self"
   ]
  },
  {
   "cell_type": "code",
   "execution_count": null,
   "metadata": {
    "collapsed": true
   },
   "outputs": [],
   "source": [
    "def imgToPoints(self, threshold=0.1, sample=0.5, optimize=True):\n",
    "        \"\"\"Method to extract points data from the img file.\"\"\"\n",
    "        if not 0 <= threshold < 1:\n",
    "            raise ValueError(\"Threshold should be within [0,1).\")\n",
    "        if not 0 < sample <= 1:\n",
    "            raise ValueError(\"Sample rate should be within (0,1].\")\n",
    "        if self._img is None:\n",
    "            raise ValueError(\"Img haven't loaded, please call loadImg() first.\")\n",
    "\n",
    "        total = self._shape[0]*self._shape[1]*self._shape[2]\n",
    "        print(\"Coverting to points...\\ntoken=%s\\ntotal=%d\\nmax=%f\\nthreshold=%f\\nsample=%f\"\\\n",
    "               %(self._token,total,self._max,threshold,sample))\n",
    "        print(\"(This will take couple minutes)\")\n",
    "        # threshold\n",
    "        filt = self._img > threshold * self._max\n",
    "        x, y, z = np.where(filt)\n",
    "        v = self._img[filt]\n",
    "        if optimize:\n",
    "            self.discardImg()\n",
    "        v = np.int16(255*(np.float32(v)/np.float32(self._max)))\n",
    "        l = v.shape\n",
    "        print(\"Above threshold=%d\"%(l))\n",
    "        # sample\n",
    "        if sample < 1.0:\n",
    "            filt = np.random.random(size=l) < sample\n",
    "            x = x[filt]\n",
    "            y = y[filt]\n",
    "            z = z[filt]\n",
    "            v = v[filt]\n",
    "        self._points = np.vstack([x,y,z,v])\n",
    "        self._points = np.transpose(self._points)\n",
    "        print(\"Samples=%d\"%(self._points.shape[0]))\n",
    "        print(\"Finished\")\n",
    "        return self"
   ]
  },
  {
   "cell_type": "code",
   "execution_count": null,
   "metadata": {
    "collapsed": true
   },
   "outputs": [],
   "source": [
    "def plot3d(self, infile = None):\n",
    "        \"\"\"Method for plotting the Nodes and Edges\"\"\"\n",
    "        filename = \"\"\n",
    "        points_file = None\n",
    "        if infile == None:\n",
    "            points_file = self._points\n",
    "            filename = self._token\n",
    "        else:\n",
    "            self.loadInitCsv(infile)\n",
    "            infile = self._infile\n",
    "            filename = self._filename\n",
    "\n",
    "        # points is an array of arrays\n",
    "        points = self._points\n",
    "        outpath = self._token + '/'\n",
    "        nodename = outpath + filename + '.nodes.csv'\n",
    "        edgename = outpath + filename + '.edges.csv'\n",
    "\n",
    "        with open(nodename, 'w') as nodefile:\n",
    "            with open(edgename, 'w') as edgefile:\n",
    "                for ind in range(len(points)):\n",
    "                    #temp = points[ind].strip().split(',')\n",
    "                    temp = points[ind]\n",
    "                    x = temp[0]\n",
    "                    y = temp[1]\n",
    "                    z = temp[2]\n",
    "                    v = temp[3]\n",
    "                    radius = 18\n",
    "                    nodefile.write(\"s\" + str(ind + 1) + \",\" + str(x) + \",\" + str(y) + \",\" + str(z) + \"\\n\")\n",
    "                    for index in range(ind + 1, len(points)):\n",
    "                        tmp = points[index]\n",
    "                        distance = math.sqrt(math.pow(int(x) - int(tmp[0]), 2) + math.pow(int(y) - int(tmp[1]), 2) + math.pow(int(z) - int(tmp[2]), 2))\n",
    "                        if distance < radius:\n",
    "                                edgefile.write(\"s\" + str(ind + 1) + \",\" + \"s\" + str(index + 1) + \"\\n\")\n",
    "                self._nodefile = nodefile\n",
    "                self._edgefile = edgefile"
   ]
  },
  {
   "cell_type": "code",
   "execution_count": null,
   "metadata": {
    "collapsed": true
   },
   "outputs": [],
   "source": [
    " def graphmlconvert(self, nodefilename = None, edgefilename = None):\n",
    "        \"\"\"Method for extracting the data to a graphml file, based on the node and edge files\"\"\"\n",
    "        nodefile = None\n",
    "        edgefile = None\n",
    "\n",
    "        # If no nodefilename was entered, used the Clarity object's nodefile\n",
    "        if nodefilename == None:\n",
    "            #nodefile = self._nodefile\n",
    "            #nodefile = open(self._nodefile, 'r')\n",
    "\n",
    "            self.loadNodeCsv(self._token + \"/\" + self._token + \".nodes.csv\")\n",
    "            nodefile = self._nodefile\n",
    "        else:\n",
    "            self.loadNodeCsv(nodefilename)\n",
    "            nodefile = self._nodefile\n",
    "\n",
    "        # If no edgefilename was entered, used the Clarity object's edgefile\n",
    "        if edgefilename == None:\n",
    "            #edgefile = self._edgefile\n",
    "            #edgefile = open(self._edgefile, 'r')\n",
    "\n",
    "            self.loadEdgeCsv(self._token + \"/\" + self._token + \".edges.csv\")\n",
    "            edgefile = self._edgefile\n",
    "        else:\n",
    "            self.loadEdgeCsv(edgefilename)\n",
    "            edgefile = self._edgefile\n",
    "\n",
    "        # Start writing to the output graphml file\n",
    "        path = self._token + \"/\" + self._token + \".graphml\"\n",
    "        with open(path, 'w') as outfile:\n",
    "            outfile.write(\"<?xml version=\\\"1.0\\\" encoding=\\\"UTF-8\\\"?>\\n\")\n",
    "            outfile.write(\"<graphml xmlns=\\\"http://graphml.graphdrawing.org/xmlns\\\"\\n\")\n",
    "            outfile.write(\"         xmlns:xsi=\\\"http://www.w3.org/2001/XMLSchema-instance\\\"\\n\")\n",
    "            outfile.write(\"         xsi:schemaLocation=\\\"http://graphml.graphdrawing.org/xmlns\\n\")\n",
    "            outfile.write(\"         http://graphml.graphdrawing.org/xmlns/1.0/graphml.xsd\\\">\\n\")\n",
    "\n",
    "            outfile.write(\"  <key id=\\\"d0\\\" for=\\\"node\\\" attr.name=\\\"attr\\\" attr.type=\\\"string\\\"/>\\n\")\n",
    "            outfile.write(\"  <key id=\\\"e_weight\\\" for=\\\"edge\\\" attr.name=\\\"weight\\\" attr.type=\\\"double\\\"/>\\n\")\n",
    "            outfile.write(\"  <graph id=\\\"G\\\" edgedefault=\\\"undirected\\\">\\n\")\n",
    "\n",
    "            for line in nodefile:\n",
    "                 if len(line) == 0:\n",
    "                     continue\n",
    "                 line = line.strip().split(',')\n",
    "                 outfile.write(\"    <node id=\\\"\" + line[0] + \"\\\">\\n\")\n",
    "                 outfile.write(\"      <data key=\\\"d0\\\">[\" + line[1] + \", \" + line[2] + \", \" + line[3] +\"]</data>\\n\")\n",
    "                 outfile.write(\"    </node>\\n\")\n",
    "            \n",
    "            for line in edgefile:\n",
    "                 if len(line) == 0:\n",
    "                     continue\n",
    "                 line = line.strip().split(',')\n",
    "                 outfile.write(\"    <edge source=\\\"\" + line[0] + \"\\\" target=\\\"\" + line[1] + \"\\\">\\n\")\n",
    "                 outfile.write(\"      <data key=\\\"e_weight\\\">1</data>\\n\")\n",
    "                 outfile.write(\"    </edge>\\n\")\n",
    "\n",
    "            outfile.write(\"  </graph>\\n</graphml>\")"
   ]
  },
  {
   "cell_type": "code",
   "execution_count": null,
   "metadata": {
    "collapsed": true
   },
   "outputs": [],
   "source": [
    "def graphmlToPlotly(self, path):\n",
    "        ## Type in the path to your csv file here\n",
    "        thedata = np.genfromtxt('../data/points/localeq.csv', delimiter=',', dtype='int', usecols = (0,1,2), names=['a','b','c'])\n",
    "\n",
    "        trace1 = go.Scatter3d(\n",
    "            x = thedata['a'],\n",
    "            y = thedata['b'],\n",
    "            z = thedata['c'],\n",
    "            mode='markers',\n",
    "            marker=dict(\n",
    "                size=1.2,\n",
    "                color='purple',                # set color to an array/list of desired values\n",
    "                colorscale='Viridis',   # choose a colorscale\n",
    "                opacity=0.15\n",
    "            )\n",
    "        )\n",
    "\n",
    "        data = [trace1]\n",
    "        layout = go.Layout(\n",
    "            margin=dict(\n",
    "                l=0,\n",
    "                r=0,\n",
    "                b=0,\n",
    "                t=0\n",
    "            )\n",
    "        )\n",
    "\n",
    "        fig = go.Figure(data=data, layout=layout)\n",
    "        print \"localeq\"\n",
    "        plotly.offline.plot(fig, filename= \"localeq\")"
   ]
  }
 ],
 "metadata": {
  "kernelspec": {
   "display_name": "Python 3",
   "language": "python",
   "name": "python3"
  },
  "language_info": {
   "codemirror_mode": {
    "name": "ipython",
    "version": 3
   },
   "file_extension": ".py",
   "mimetype": "text/x-python",
   "name": "python",
   "nbconvert_exporter": "python",
   "pygments_lexer": "ipython3",
   "version": "3.5.2"
  }
 },
 "nbformat": 4,
 "nbformat_minor": 0
}
