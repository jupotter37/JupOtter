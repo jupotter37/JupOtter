{
 "cells": [
  {
   "cell_type": "code",
   "execution_count": 1,
   "metadata": {
    "collapsed": true
   },
   "outputs": [],
   "source": [
    "import pandas as pd\n",
    "from pandas.io.json import json_normalize #package for flattening json in pandas df\n",
    "import numpy as np\n",
    "import matplotlib.pyplot as plt\n",
    "import matplotlib\n",
    "import json\n",
    "import os\n",
    "%matplotlib inline"
   ]
  },
  {
   "cell_type": "code",
   "execution_count": 2,
   "metadata": {
    "collapsed": true
   },
   "outputs": [],
   "source": [
    "os.chdir(\"./runs/approx/main/\")\n",
    "origin_path = os.getcwd() \n",
    "runs_id = os.listdir(\"./\")\n",
    "runs_id = [int(item) for item in runs_id]\n",
    "runs_id = sorted(runs_id)"
   ]
  },
  {
   "cell_type": "code",
   "execution_count": 3,
   "metadata": {},
   "outputs": [],
   "source": [
    "df_list = []\n",
    "for run_id in runs_id:\n",
    "    os.chdir(\"./\"+str(run_id))\n",
    "    f_in = open('out.json', 'r')\n",
    "    run_info = json.load(f_in)\n",
    "    f_in.close()\n",
    "    a = json_normalize(run_info)\n",
    "    df_list.append(a)\n",
    "    os.chdir(origin_path)\n",
    "res1 = pd.concat(df_list,ignore_index=True)"
   ]
  },
  {
   "cell_type": "code",
   "execution_count": 4,
   "metadata": {
    "collapsed": true
   },
   "outputs": [],
   "source": [
    "res_correct = res1"
   ]
  },
  {
   "cell_type": "code",
   "execution_count": 26,
   "metadata": {},
   "outputs": [
    {
     "data": {
      "text/html": [
       "<div>\n",
       "<style scoped>\n",
       "    .dataframe tbody tr th:only-of-type {\n",
       "        vertical-align: middle;\n",
       "    }\n",
       "\n",
       "    .dataframe tbody tr th {\n",
       "        vertical-align: top;\n",
       "    }\n",
       "\n",
       "    .dataframe thead th {\n",
       "        text-align: right;\n",
       "    }\n",
       "</style>\n",
       "<table border=\"1\" class=\"dataframe\">\n",
       "  <thead>\n",
       "    <tr style=\"text-align: right;\">\n",
       "      <th></th>\n",
       "      <th>Model info.a</th>\n",
       "      <th>Model info.b</th>\n",
       "      <th>Model info.dim</th>\n",
       "      <th>Model info.eps</th>\n",
       "      <th>Model info.iters</th>\n",
       "      <th>Model info.k</th>\n",
       "      <th>Model info.m</th>\n",
       "      <th>Model info.max_t</th>\n",
       "      <th>Model info.n_sig</th>\n",
       "      <th>Out info.J_fin</th>\n",
       "      <th>Out info.MSE</th>\n",
       "      <th>Out info.Std</th>\n",
       "      <th>Out info.Time</th>\n",
       "    </tr>\n",
       "  </thead>\n",
       "  <tbody>\n",
       "    <tr>\n",
       "      <th>50</th>\n",
       "      <td>0</td>\n",
       "      <td>6.283185</td>\n",
       "      <td>1</td>\n",
       "      <td>1.000000e-09</td>\n",
       "      <td>100000</td>\n",
       "      <td>1</td>\n",
       "      <td>10</td>\n",
       "      <td>200</td>\n",
       "      <td>13</td>\n",
       "      <td>8.481635e-10</td>\n",
       "      <td>8.481635e-10</td>\n",
       "      <td>0.000031</td>\n",
       "      <td>87.193648</td>\n",
       "    </tr>\n",
       "    <tr>\n",
       "      <th>77</th>\n",
       "      <td>0</td>\n",
       "      <td>6.283185</td>\n",
       "      <td>1</td>\n",
       "      <td>1.000000e-09</td>\n",
       "      <td>100000</td>\n",
       "      <td>1</td>\n",
       "      <td>10</td>\n",
       "      <td>200</td>\n",
       "      <td>20</td>\n",
       "      <td>7.158401e-10</td>\n",
       "      <td>7.158401e-10</td>\n",
       "      <td>0.000028</td>\n",
       "      <td>135.381111</td>\n",
       "    </tr>\n",
       "    <tr>\n",
       "      <th>92</th>\n",
       "      <td>0</td>\n",
       "      <td>6.283185</td>\n",
       "      <td>1</td>\n",
       "      <td>1.000000e-09</td>\n",
       "      <td>100000</td>\n",
       "      <td>1</td>\n",
       "      <td>10</td>\n",
       "      <td>200</td>\n",
       "      <td>24</td>\n",
       "      <td>8.366615e-10</td>\n",
       "      <td>8.366615e-10</td>\n",
       "      <td>0.000030</td>\n",
       "      <td>88.851291</td>\n",
       "    </tr>\n",
       "    <tr>\n",
       "      <th>108</th>\n",
       "      <td>0</td>\n",
       "      <td>6.283185</td>\n",
       "      <td>1</td>\n",
       "      <td>1.000000e-09</td>\n",
       "      <td>100000</td>\n",
       "      <td>1</td>\n",
       "      <td>10</td>\n",
       "      <td>200</td>\n",
       "      <td>28</td>\n",
       "      <td>7.022259e-10</td>\n",
       "      <td>7.022259e-10</td>\n",
       "      <td>0.000028</td>\n",
       "      <td>116.871864</td>\n",
       "    </tr>\n",
       "    <tr>\n",
       "      <th>110</th>\n",
       "      <td>0</td>\n",
       "      <td>6.283185</td>\n",
       "      <td>1</td>\n",
       "      <td>1.000000e-09</td>\n",
       "      <td>100000</td>\n",
       "      <td>1</td>\n",
       "      <td>10</td>\n",
       "      <td>200</td>\n",
       "      <td>28</td>\n",
       "      <td>8.470088e-10</td>\n",
       "      <td>8.470088e-10</td>\n",
       "      <td>0.000031</td>\n",
       "      <td>85.176691</td>\n",
       "    </tr>\n",
       "    <tr>\n",
       "      <th>137</th>\n",
       "      <td>0</td>\n",
       "      <td>6.283185</td>\n",
       "      <td>1</td>\n",
       "      <td>1.000000e-09</td>\n",
       "      <td>100000</td>\n",
       "      <td>1</td>\n",
       "      <td>10</td>\n",
       "      <td>200</td>\n",
       "      <td>35</td>\n",
       "      <td>7.683114e-10</td>\n",
       "      <td>7.683114e-10</td>\n",
       "      <td>0.000029</td>\n",
       "      <td>125.560257</td>\n",
       "    </tr>\n",
       "    <tr>\n",
       "      <th>147</th>\n",
       "      <td>0</td>\n",
       "      <td>6.283185</td>\n",
       "      <td>1</td>\n",
       "      <td>1.000000e-09</td>\n",
       "      <td>100000</td>\n",
       "      <td>1</td>\n",
       "      <td>10</td>\n",
       "      <td>200</td>\n",
       "      <td>37</td>\n",
       "      <td>8.767481e-10</td>\n",
       "      <td>8.767481e-10</td>\n",
       "      <td>0.000031</td>\n",
       "      <td>159.793518</td>\n",
       "    </tr>\n",
       "    <tr>\n",
       "      <th>181</th>\n",
       "      <td>0</td>\n",
       "      <td>6.283185</td>\n",
       "      <td>1</td>\n",
       "      <td>1.000000e-09</td>\n",
       "      <td>100000</td>\n",
       "      <td>1</td>\n",
       "      <td>10</td>\n",
       "      <td>200</td>\n",
       "      <td>46</td>\n",
       "      <td>8.874150e-10</td>\n",
       "      <td>8.874150e-10</td>\n",
       "      <td>0.000031</td>\n",
       "      <td>118.845316</td>\n",
       "    </tr>\n",
       "  </tbody>\n",
       "</table>\n",
       "</div>"
      ],
      "text/plain": [
       "     Model info.a  Model info.b  Model info.dim  Model info.eps  \\\n",
       "50              0      6.283185               1    1.000000e-09   \n",
       "77              0      6.283185               1    1.000000e-09   \n",
       "92              0      6.283185               1    1.000000e-09   \n",
       "108             0      6.283185               1    1.000000e-09   \n",
       "110             0      6.283185               1    1.000000e-09   \n",
       "137             0      6.283185               1    1.000000e-09   \n",
       "147             0      6.283185               1    1.000000e-09   \n",
       "181             0      6.283185               1    1.000000e-09   \n",
       "\n",
       "     Model info.iters  Model info.k  Model info.m  Model info.max_t  \\\n",
       "50             100000             1            10               200   \n",
       "77             100000             1            10               200   \n",
       "92             100000             1            10               200   \n",
       "108            100000             1            10               200   \n",
       "110            100000             1            10               200   \n",
       "137            100000             1            10               200   \n",
       "147            100000             1            10               200   \n",
       "181            100000             1            10               200   \n",
       "\n",
       "     Model info.n_sig  Out info.J_fin  Out info.MSE  Out info.Std  \\\n",
       "50                 13    8.481635e-10  8.481635e-10      0.000031   \n",
       "77                 20    7.158401e-10  7.158401e-10      0.000028   \n",
       "92                 24    8.366615e-10  8.366615e-10      0.000030   \n",
       "108                28    7.022259e-10  7.022259e-10      0.000028   \n",
       "110                28    8.470088e-10  8.470088e-10      0.000031   \n",
       "137                35    7.683114e-10  7.683114e-10      0.000029   \n",
       "147                37    8.767481e-10  8.767481e-10      0.000031   \n",
       "181                46    8.874150e-10  8.874150e-10      0.000031   \n",
       "\n",
       "     Out info.Time  \n",
       "50       87.193648  \n",
       "77      135.381111  \n",
       "92       88.851291  \n",
       "108     116.871864  \n",
       "110      85.176691  \n",
       "137     125.560257  \n",
       "147     159.793518  \n",
       "181     118.845316  "
      ]
     },
     "execution_count": 26,
     "metadata": {},
     "output_type": "execute_result"
    }
   ],
   "source": [
    "res_correct[res_correct['Out info.MSE'] < 0.9e-9]"
   ]
  },
  {
   "cell_type": "code",
   "execution_count": 9,
   "metadata": {
    "collapsed": true
   },
   "outputs": [],
   "source": [
    "matplotlib.rcParams['text.usetex'] = True\n",
    "matplotlib.rcParams['text.latex.unicode'] = True\n",
    "matplotlib.rcParams['text.latex.preamble'] = [r'\\usepackage{amsmath}']"
   ]
  },
  {
   "cell_type": "code",
   "execution_count": 18,
   "metadata": {},
   "outputs": [
    {
     "data": {
      "text/plain": [
       "<matplotlib.legend.Legend at 0x7ff61e9a90b8>"
      ]
     },
     "execution_count": 18,
     "metadata": {},
     "output_type": "execute_result"
    },
    {
     "data": {
      "image/png": "[encoded data removed]",
      "text/plain": [
       "<Figure size 864x576 with 1 Axes>"
      ]
     },
     "metadata": {},
     "output_type": "display_data"
    }
   ],
   "source": [
    "m_sig_all = np.array(res_correct['Model info.n_sig'].tolist())\n",
    "mse_all = np.array(res_correct['Out info.MSE'].tolist())\n",
    "mse_means = []\n",
    "std_errs = []\n",
    "h = 4\n",
    "for i in range(50):\n",
    "    ds = res_correct[0+h*i:h+h*i]\n",
    "    mse_l = np.array(ds['Out info.MSE'].tolist())\n",
    "    mse_means.append(np.mean(mse_l))\n",
    "    std_errs.append(np.std(mse_l))\n",
    "\n",
    "my_set = set(m_sig_all)\n",
    "m_sig = sorted( list(my_set) ) \n",
    "\n",
    "figure = plt.figure(figsize=(12,8))\n",
    "axes = figure.add_subplot (1, 1, 1)\n",
    "plt.grid(True)\n",
    "plt.title(r'$\\sigma_{\\text{sol}}^2$ vs number of neurons. One-dimensional task', fontsize=25)\n",
    "plt.xlabel('Number of neurons', fontsize=25)\n",
    "plt.ylabel(r'$\\sigma_{\\text{sol}}^2$', fontsize=25)\n",
    "plt.scatter(m_sig_all, mse_all, label = r'$\\sigma_{\\text{sol}}^2$ for all points', marker = \"D\",s=40)\n",
    "plt.plot(m_sig, mse_means, color='black', marker='x', linestyle='dashed', linewidth=3, markersize=16, label = r'Mean $\\sigma_{\\text{sol}}^2$')\n",
    "plt.errorbar(m_sig, mse_means, yerr=std_errs, ecolor='r', lw=2, capsize=15, mew = 3, zorder=3, label = r'Std.error of $\\sigma_{\\text{sol}}^2$', linestyle='None')\n",
    "\n",
    "axes.set_yscale ('log')\n",
    "plt.legend(loc=1, prop={'size': 20})"
   ]
  },
  {
   "cell_type": "code",
   "execution_count": null,
   "metadata": {
    "collapsed": true
   },
   "outputs": [],
   "source": []
  },
  {
   "cell_type": "code",
   "execution_count": null,
   "metadata": {
    "collapsed": true
   },
   "outputs": [],
   "source": []
  },
  {
   "cell_type": "code",
   "execution_count": null,
   "metadata": {},
   "outputs": [],
   "source": [
    "m_sig_all = np.array(res_correct['Model info.n_sig'].tolist())\n",
    "J_all = np.array(res_correct['Out info.J_fin'].tolist())\n",
    "J_means = []\n",
    "std_errs = []\n",
    "h = 4\n",
    "for i in range(15):\n",
    "    ds = res_correct[0+h*i:h+h*i]\n",
    "    J_l = np.array(ds['Out info.J_fin'].tolist())\n",
    "    J_means.append(np.mean(J_l))\n",
    "    std_errs.append(np.std(mse_l))\n",
    "\n",
    "my_set = set(m_sig_all)\n",
    "m_sig = sorted( list(my_set) ) \n",
    "\n",
    "\n",
    "\n",
    "figure = plt.figure(figsize=(12,8))\n",
    "axes = figure.add_subplot (1, 1, 1)\n",
    "plt.grid(True)\n",
    "plt.title('J_fin vs number of neurons', fontsize=15)\n",
    "plt.xlabel('Number of neurons', fontsize=15)\n",
    "plt.ylabel('J_fin', fontsize=15)\n",
    "plt.scatter(m_sig_all, mse_all, label = 'J_fin for all points', marker = \"D\",s=40)\n",
    "plt.plot(m_sig, mse_means, color='black', marker='x', linestyle='dashed', linewidth=3, markersize=16, label = 'Mean J_fin')\n",
    "plt.errorbar(m_sig, mse_means, yerr=std_errs, ecolor='r', lw=2, capsize=15, mew = 3, zorder=3, label = 'Std.error of J_fin', linestyle='None')\n",
    "\n",
    "axes.set_yscale ('log')\n",
    "plt.legend(loc=1, prop={'size': 14})"
   ]
  },
  {
   "cell_type": "code",
   "execution_count": null,
   "metadata": {
    "collapsed": true
   },
   "outputs": [],
   "source": []
  }
 ],
 "metadata": {
  "kernelspec": {
   "display_name": "Python 3",
   "language": "python",
   "name": "python3"
  },
  "language_info": {
   "codemirror_mode": {
    "name": "ipython",
    "version": 3
   },
   "file_extension": ".py",
   "mimetype": "text/x-python",
   "name": "python",
   "nbconvert_exporter": "python",
   "pygments_lexer": "ipython3",
   "version": "3.6.8"
  },
  "varInspector": {
   "cols": {
    "lenName": 16,
    "lenType": 16,
    "lenVar": "20"
   },
   "kernels_config": {
    "python": {
     "delete_cmd_postfix": "",
     "delete_cmd_prefix": "del ",
     "library": "var_list.py",
     "varRefreshCmd": "print(var_dic_list())"
    },
    "r": {
     "delete_cmd_postfix": ") ",
     "delete_cmd_prefix": "rm(",
     "library": "var_list.r",
     "varRefreshCmd": "cat(var_dic_list()) "
    }
   },
   "types_to_exclude": [
    "module",
    "function",
    "builtin_function_or_method",
    "instance",
    "_Feature"
   ],
   "window_display": true
  }
 },
 "nbformat": 4,
 "nbformat_minor": 2
}
