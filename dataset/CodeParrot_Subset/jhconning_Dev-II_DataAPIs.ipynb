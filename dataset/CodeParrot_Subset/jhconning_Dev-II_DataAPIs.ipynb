{
 "cells": [
  {
   "cell_type": "markdown",
   "metadata": {},
   "source": [
    "# Data APIs and pandas operations\n",
    "\n",
    "\n",
    "Several of the notebooks we've already explored loaded datasets into a python pandas dataframe for analysis. Local copies of some of these datasets had been previously saved to disk in a few cases we read in the data directly from an online sources via a data API. This section explains how that is done in a bit more depth.  Some of the possible advantages of reading in the data this way is that it allows would-be users to modify and extend the analysis, perhaps focusing on different time-periods or adding in other variables of interest.  \n",
    "\n",
    "Easy to use python wrappers for data APIs have been written for the World Bank and several other online data providers (including FRED, Eurostat, and many many others). The [pandas-datareader](http://pandas-datareader.readthedocs.org/) library allows access to several databases from the [World Bank's datasets](http://data.worldbank.org/) and other sources.  \n"
   ]
  },
  {
   "cell_type": "markdown",
   "metadata": {},
   "source": [
    "If you haven't already installed the pandas-datareader library you can do so directly from a jupyter notebook code cell:\n",
    "\n",
    "```!pip install pandas-datareader```\n",
    "\n",
    "Once the library is in installed we can load it as:"
   ]
  },
  {
   "cell_type": "code",
   "execution_count": 1,
   "metadata": {
    "collapsed": true
   },
   "outputs": [],
   "source": [
    "%matplotlib inline\n",
    "import seaborn as sns\n",
    "import warnings\n",
    "import numpy as np\n",
    "import statsmodels.formula.api as smf\n",
    "import datetime as dt"
   ]
  },
  {
   "cell_type": "code",
   "execution_count": 2,
   "metadata": {
    "collapsed": true
   },
   "outputs": [],
   "source": [
    "from pandas_datareader import wb"
   ]
  },
  {
   "cell_type": "markdown",
   "metadata": {},
   "source": [
    "### Data on urban bias"
   ]
  },
  {
   "cell_type": "markdown",
   "metadata": {},
   "source": [
    "Our earlier analysis of the Harris_Todaro migration model suggested that policies designed to favor certain sectors or labor groups \n",
    "\n",
    "Let's search for indicators (and their identification codes) relating to GDP per capita and urban population share.  We could look these up in a book or from the website http://data.worldbank.org/ but we can also search for keywords directly.\n",
    "\n",
    "First lets search for series having to do with gdp per capita"
   ]
  },
  {
   "cell_type": "code",
   "execution_count": 3,
   "metadata": {},
   "outputs": [
    {
     "data": {
      "text/html": [
       "<div>\n",
       "<table border=\"1\" class=\"dataframe\">\n",
       "  <thead>\n",
       "    <tr style=\"text-align: right;\">\n",
       "      <th></th>\n",
       "      <th>id</th>\n",
       "      <th>name</th>\n",
       "    </tr>\n",
       "  </thead>\n",
       "  <tbody>\n",
       "    <tr>\n",
       "      <th>685</th>\n",
       "      <td>6.0.GDPpc_constant</td>\n",
       "      <td>GDP per capita, PPP (constant 2011 internation...</td>\n",
       "    </tr>\n",
       "    <tr>\n",
       "      <th>7588</th>\n",
       "      <td>NY.GDP.PCAP.KD</td>\n",
       "      <td>GDP per capita (constant 2010 US$)</td>\n",
       "    </tr>\n",
       "    <tr>\n",
       "      <th>7590</th>\n",
       "      <td>NY.GDP.PCAP.KN</td>\n",
       "      <td>GDP per capita (constant LCU)</td>\n",
       "    </tr>\n",
       "    <tr>\n",
       "      <th>7592</th>\n",
       "      <td>NY.GDP.PCAP.PP.KD</td>\n",
       "      <td>GDP per capita, PPP (constant 2011 internation...</td>\n",
       "    </tr>\n",
       "  </tbody>\n",
       "</table>\n",
       "</div>"
      ],
      "text/plain": [
       "                      id                                               name\n",
       "685   6.0.GDPpc_constant  GDP per capita, PPP (constant 2011 internation...\n",
       "7588      NY.GDP.PCAP.KD                 GDP per capita (constant 2010 US$)\n",
       "7590      NY.GDP.PCAP.KN                      GDP per capita (constant LCU)\n",
       "7592   NY.GDP.PCAP.PP.KD  GDP per capita, PPP (constant 2011 internation..."
      ]
     },
     "execution_count": 3,
     "metadata": {},
     "output_type": "execute_result"
    }
   ],
   "source": [
    "wb.search('gdp.*capita.*const')[['id','name']]"
   ]
  },
  {
   "cell_type": "markdown",
   "metadata": {},
   "source": [
    "We will use NY.GDP.PCAP.KD for GDP per capita (constant 2010 US$)."
   ]
  },
  {
   "cell_type": "markdown",
   "metadata": {},
   "source": [
    "You can also first browse and search for data series from the World Bank's DataBank page at http://databank.worldbank.org/data/.  Then find the 'id' for the series that you are interested in in the 'metadata' section from the webpage"
   ]
  },
  {
   "cell_type": "markdown",
   "metadata": {},
   "source": [
    "Now let's look for data on urban population share:"
   ]
  },
  {
   "cell_type": "code",
   "execution_count": 4,
   "metadata": {},
   "outputs": [
    {
     "data": {
      "text/html": [
       "<div>\n",
       "<table border=\"1\" class=\"dataframe\">\n",
       "  <thead>\n",
       "    <tr style=\"text-align: right;\">\n",
       "      <th></th>\n",
       "      <th>id</th>\n",
       "      <th>name</th>\n",
       "    </tr>\n",
       "  </thead>\n",
       "  <tbody>\n",
       "    <tr>\n",
       "      <th>9999</th>\n",
       "      <td>SP.URB.GROW</td>\n",
       "      <td>Urban population growth (annual %)</td>\n",
       "    </tr>\n",
       "    <tr>\n",
       "      <th>10000</th>\n",
       "      <td>SP.URB.TOTL</td>\n",
       "      <td>Urban population</td>\n",
       "    </tr>\n",
       "    <tr>\n",
       "      <th>10001</th>\n",
       "      <td>SP.URB.TOTL.FE.ZS</td>\n",
       "      <td>Urban population, female (% of total)</td>\n",
       "    </tr>\n",
       "    <tr>\n",
       "      <th>10002</th>\n",
       "      <td>SP.URB.TOTL.IN.ZS</td>\n",
       "      <td>Urban population (% of total)</td>\n",
       "    </tr>\n",
       "    <tr>\n",
       "      <th>10003</th>\n",
       "      <td>SP.URB.TOTL.MA.ZS</td>\n",
       "      <td>Urban population, male (% of total)</td>\n",
       "    </tr>\n",
       "  </tbody>\n",
       "</table>\n",
       "</div>"
      ],
      "text/plain": [
       "                      id                                   name\n",
       "9999         SP.URB.GROW     Urban population growth (annual %)\n",
       "10000        SP.URB.TOTL                       Urban population\n",
       "10001  SP.URB.TOTL.FE.ZS  Urban population, female (% of total)\n",
       "10002  SP.URB.TOTL.IN.ZS          Urban population (% of total)\n",
       "10003  SP.URB.TOTL.MA.ZS    Urban population, male (% of total)"
      ]
     },
     "execution_count": 4,
     "metadata": {},
     "output_type": "execute_result"
    }
   ],
   "source": [
    "wb.search('Urban Population')[['id','name']].tail()"
   ]
  },
  {
   "cell_type": "markdown",
   "metadata": {},
   "source": [
    "Let's use the ones we like but use a python dictionary to rename these to shorter variable names when we load the data into a python dataframe:"
   ]
  },
  {
   "cell_type": "code",
   "execution_count": 5,
   "metadata": {
    "collapsed": true
   },
   "outputs": [],
   "source": [
    "indicators = ['NY.GDP.PCAP.KD', 'SP.URB.TOTL.IN.ZS']"
   ]
  },
  {
   "cell_type": "markdown",
   "metadata": {},
   "source": [
    "Since we are interested in exploring the extent of 'urban bias' in some countries, let's load data from 1980 which was toward the end of the era of import-substituting industrialization when urban-biased policies were claimed to be most pronounced."
   ]
  },
  {
   "cell_type": "code",
   "execution_count": 6,
   "metadata": {
    "collapsed": true
   },
   "outputs": [],
   "source": [
    "dat = wb.download(indicator=indicators, country = 'all', start=1980, end=1980)"
   ]
  },
  {
   "cell_type": "code",
   "execution_count": 7,
   "metadata": {},
   "outputs": [
    {
     "data": {
      "text/plain": [
       "Index(['NY.GDP.PCAP.KD', 'SP.URB.TOTL.IN.ZS'], dtype='object')"
      ]
     },
     "execution_count": 7,
     "metadata": {},
     "output_type": "execute_result"
    }
   ],
   "source": [
    "dat.columns"
   ]
  },
  {
   "cell_type": "markdown",
   "metadata": {},
   "source": [
    "Let's rename the columns to something shorter and then plot and regress log gdp per capita against urban extent we get a pretty tight fit:"
   ]
  },
  {
   "cell_type": "code",
   "execution_count": 8,
   "metadata": {
    "collapsed": true
   },
   "outputs": [],
   "source": [
    "dat.columns = [['gdppc', 'urbpct']]\n",
    "dat['lngpc']  = np.log(dat.gdppc)"
   ]
  },
  {
   "cell_type": "code",
   "execution_count": 9,
   "metadata": {},
   "outputs": [
    {
     "data": {
      "image/png": "[encoded data removed]",
      "text/plain": [
       "<matplotlib.figure.Figure at 0x24da2bbba58>"
      ]
     },
     "metadata": {},
     "output_type": "display_data"
    }
   ],
   "source": [
    "g = sns.jointplot(\"lngpc\", \"urbpct\", data=dat, kind=\"reg\",\n",
    "                  color =\"b\", size=7)"
   ]
  },
  {
   "cell_type": "markdown",
   "metadata": {},
   "source": [
    "That is a pretty tight fit: urbanization rises with income per-capita, but there are several middle income country outliersthat have considerably higher urbanization than would be predicted.  Let's look at the regression line."
   ]
  },
  {
   "cell_type": "code",
   "execution_count": 10,
   "metadata": {
    "collapsed": true
   },
   "outputs": [],
   "source": [
    "mod = smf.ols(\"urbpct ~ lngpc\", dat).fit()"
   ]
  },
  {
   "cell_type": "code",
   "execution_count": 11,
   "metadata": {},
   "outputs": [
    {
     "name": "stdout",
     "output_type": "stream",
     "text": [
      "                            OLS Regression Results                            \n",
      "==============================================================================\n",
      "Dep. Variable:                 urbpct   R-squared:                       0.744\n",
      "Model:                            OLS   Adj. R-squared:                  0.743\n",
      "Method:                 Least Squares   F-statistic:                     494.3\n",
      "Date:                Wed, 03 May 2017   Prob (F-statistic):           3.43e-52\n",
      "Time:                        15:26:52   Log-Likelihood:                -670.94\n",
      "No. Observations:                 172   AIC:                             1346.\n",
      "Df Residuals:                     170   BIC:                             1352.\n",
      "Df Model:                           1                                         \n",
      "Covariance Type:            nonrobust                                         \n",
      "==============================================================================\n",
      "                 coef    std err          t      P>|t|      [0.025      0.975]\n",
      "------------------------------------------------------------------------------\n",
      "Intercept    -68.0209      5.185    -13.120      0.000     -78.255     -57.787\n",
      "lngpc         13.9583      0.628     22.233      0.000      12.719      15.198\n",
      "==============================================================================\n",
      "Omnibus:                        8.555   Durbin-Watson:                   2.204\n",
      "Prob(Omnibus):                  0.014   Jarque-Bera (JB):               17.062\n",
      "Skew:                          -0.027   Prob(JB):                     0.000197\n",
      "Kurtosis:                       4.542   Cond. No.                         47.3\n",
      "==============================================================================\n",
      "\n",
      "Warnings:\n",
      "[1] Standard Errors assume that the covariance matrix of the errors is correctly specified.\n"
     ]
    }
   ],
   "source": [
    "print(mod.summary())"
   ]
  },
  {
   "cell_type": "markdown",
   "metadata": {},
   "source": [
    "Now let's just look at a list of countries sorted by the size of their residuals in this regression line.  Countries with the largest residuals had urbanization in excess of what the model predicts from their 1980 level of income per capita.\n",
    "\n",
    "Here is the sorted list of top 15 outliers. "
   ]
  },
  {
   "cell_type": "code",
   "execution_count": 12,
   "metadata": {},
   "outputs": [
    {
     "data": {
      "text/plain": [
       "country               year\n",
       "Singapore             1980    35.469714\n",
       "Chile                 1980    30.563014\n",
       "Malta                 1980    30.448467\n",
       "Hong Kong SAR, China  1980    29.957702\n",
       "Uruguay               1980    29.143223\n",
       "Argentina             1980    25.369855\n",
       "Cuba                  1980    24.148529\n",
       "Belgium               1980    20.731859\n",
       "Israel                1980    20.456625\n",
       "Iraq                  1980    20.262678\n",
       "Peru                  1980    17.810693\n",
       "Myanmar               1980    17.719561\n",
       "Bulgaria              1980    17.360914\n",
       "Jordan                1980    15.706878\n",
       "Colombia              1980    15.258744\n",
       "dtype: float64"
      ]
     },
     "execution_count": 12,
     "metadata": {},
     "output_type": "execute_result"
    }
   ],
   "source": [
    "mod.resid.sort_values(ascending=False).head(15)"
   ]
  },
  {
   "cell_type": "markdown",
   "metadata": {},
   "source": [
    "This is of course only suggestive but (leaving aside the island states like Singapore and Hong-Kong) the list is dominated by southern cone countries such as Chile, Argentina and Peru which in addition to having legacies of heavy political centralization also pursued ISI policies in the 60s and 70s that many would associate with urban biased policies. "
   ]
  },
  {
   "cell_type": "markdown",
   "metadata": {},
   "source": [
    "## Panel data\n",
    "\n",
    "Very often we want data on several indicators and a whole group of countries over a number of years.  we could also have used datetime format dates: "
   ]
  },
  {
   "cell_type": "code",
   "execution_count": 13,
   "metadata": {},
   "outputs": [],
   "source": [
    "countries = ['CHL', 'USA', 'ARG']\n",
    "start, end = dt.datetime(1950, 1, 1), dt.datetime(2016, 1, 1)\n",
    "dat = wb.download(\n",
    "    indicator=indicators, \n",
    "    country = countries, \n",
    "    start=start, \n",
    "    end=end).dropna()"
   ]
  },
  {
   "cell_type": "markdown",
   "metadata": {},
   "source": [
    "Lets use shorter column names"
   ]
  },
  {
   "cell_type": "code",
   "execution_count": 14,
   "metadata": {},
   "outputs": [
    {
     "data": {
      "text/plain": [
       "Index(['NY.GDP.PCAP.KD', 'SP.URB.TOTL.IN.ZS'], dtype='object')"
      ]
     },
     "execution_count": 14,
     "metadata": {},
     "output_type": "execute_result"
    }
   ],
   "source": [
    "dat.columns"
   ]
  },
  {
   "cell_type": "code",
   "execution_count": 15,
   "metadata": {},
   "outputs": [],
   "source": [
    "dat.columns = [['gdppc', 'urb']]"
   ]
  },
  {
   "cell_type": "code",
   "execution_count": 16,
   "metadata": {},
   "outputs": [
    {
     "data": {
      "text/html": [
       "<div>\n",
       "<table border=\"1\" class=\"dataframe\">\n",
       "  <thead>\n",
       "    <tr style=\"text-align: right;\">\n",
       "      <th></th>\n",
       "      <th></th>\n",
       "      <th>gdppc</th>\n",
       "      <th>urb</th>\n",
       "    </tr>\n",
       "    <tr>\n",
       "      <th>country</th>\n",
       "      <th>year</th>\n",
       "      <th></th>\n",
       "      <th></th>\n",
       "    </tr>\n",
       "  </thead>\n",
       "  <tbody>\n",
       "    <tr>\n",
       "      <th rowspan=\"5\" valign=\"top\">Argentina</th>\n",
       "      <th>2015</th>\n",
       "      <td>10501.660269</td>\n",
       "      <td>91.751</td>\n",
       "    </tr>\n",
       "    <tr>\n",
       "      <th>2014</th>\n",
       "      <td>10334.780146</td>\n",
       "      <td>91.604</td>\n",
       "    </tr>\n",
       "    <tr>\n",
       "      <th>2013</th>\n",
       "      <td>10711.229530</td>\n",
       "      <td>91.452</td>\n",
       "    </tr>\n",
       "    <tr>\n",
       "      <th>2012</th>\n",
       "      <td>10558.265365</td>\n",
       "      <td>91.295</td>\n",
       "    </tr>\n",
       "    <tr>\n",
       "      <th>2011</th>\n",
       "      <td>10780.342508</td>\n",
       "      <td>91.133</td>\n",
       "    </tr>\n",
       "  </tbody>\n",
       "</table>\n",
       "</div>"
      ],
      "text/plain": [
       "                       gdppc     urb\n",
       "country   year                      \n",
       "Argentina 2015  10501.660269  91.751\n",
       "          2014  10334.780146  91.604\n",
       "          2013  10711.229530  91.452\n",
       "          2012  10558.265365  91.295\n",
       "          2011  10780.342508  91.133"
      ]
     },
     "execution_count": 16,
     "metadata": {},
     "output_type": "execute_result"
    }
   ],
   "source": [
    "dat.head()"
   ]
  },
  {
   "cell_type": "markdown",
   "metadata": {},
   "source": [
    "Notice this has a two-level multi-index.  The outer level is named 'country' and the inner level is 'year'"
   ]
  },
  {
   "cell_type": "markdown",
   "metadata": {},
   "source": [
    "We can pull out group data for a single country like this using the `.xs` or cross section method."
   ]
  },
  {
   "cell_type": "code",
   "execution_count": 17,
   "metadata": {},
   "outputs": [
    {
     "data": {
      "text/html": [
       "<div>\n",
       "<table border=\"1\" class=\"dataframe\">\n",
       "  <thead>\n",
       "    <tr style=\"text-align: right;\">\n",
       "      <th></th>\n",
       "      <th>gdppc</th>\n",
       "      <th>urb</th>\n",
       "    </tr>\n",
       "    <tr>\n",
       "      <th>year</th>\n",
       "      <th></th>\n",
       "      <th></th>\n",
       "    </tr>\n",
       "  </thead>\n",
       "  <tbody>\n",
       "    <tr>\n",
       "      <th>2015</th>\n",
       "      <td>14660.505335</td>\n",
       "      <td>89.530</td>\n",
       "    </tr>\n",
       "    <tr>\n",
       "      <th>2014</th>\n",
       "      <td>14479.763258</td>\n",
       "      <td>89.356</td>\n",
       "    </tr>\n",
       "    <tr>\n",
       "      <th>2013</th>\n",
       "      <td>14364.140970</td>\n",
       "      <td>89.175</td>\n",
       "    </tr>\n",
       "  </tbody>\n",
       "</table>\n",
       "</div>"
      ],
      "text/plain": [
       "             gdppc     urb\n",
       "year                      \n",
       "2015  14660.505335  89.530\n",
       "2014  14479.763258  89.356\n",
       "2013  14364.140970  89.175"
      ]
     },
     "execution_count": 17,
     "metadata": {},
     "output_type": "execute_result"
    }
   ],
   "source": [
    "dat.xs('Chile',level='country').head(3)"
   ]
  },
  {
   "cell_type": "markdown",
   "metadata": {},
   "source": [
    "(Note we could have also used `dat.loc['Chile'].head()`)"
   ]
  },
  {
   "cell_type": "markdown",
   "metadata": {},
   "source": [
    "And we can pull a 'year' level cross section like this: "
   ]
  },
  {
   "cell_type": "code",
   "execution_count": 18,
   "metadata": {},
   "outputs": [
    {
     "data": {
      "text/html": [
       "<div>\n",
       "<table border=\"1\" class=\"dataframe\">\n",
       "  <thead>\n",
       "    <tr style=\"text-align: right;\">\n",
       "      <th></th>\n",
       "      <th>gdppc</th>\n",
       "      <th>urb</th>\n",
       "    </tr>\n",
       "    <tr>\n",
       "      <th>country</th>\n",
       "      <th></th>\n",
       "      <th></th>\n",
       "    </tr>\n",
       "  </thead>\n",
       "  <tbody>\n",
       "    <tr>\n",
       "      <th>Argentina</th>\n",
       "      <td>9830.759871</td>\n",
       "      <td>90.445</td>\n",
       "    </tr>\n",
       "    <tr>\n",
       "      <th>Chile</th>\n",
       "      <td>12223.484611</td>\n",
       "      <td>87.926</td>\n",
       "    </tr>\n",
       "    <tr>\n",
       "      <th>United States</th>\n",
       "      <td>49979.533843</td>\n",
       "      <td>80.269</td>\n",
       "    </tr>\n",
       "  </tbody>\n",
       "</table>\n",
       "</div>"
      ],
      "text/plain": [
       "                      gdppc     urb\n",
       "country                            \n",
       "Argentina       9830.759871  90.445\n",
       "Chile          12223.484611  87.926\n",
       "United States  49979.533843  80.269"
      ]
     },
     "execution_count": 18,
     "metadata": {},
     "output_type": "execute_result"
    }
   ],
   "source": [
    "dat.xs('2007', level='year').head()"
   ]
  },
  {
   "cell_type": "markdown",
   "metadata": {},
   "source": [
    "Note that what was returned was a dataframe with the data just for our selected country.  We can in turn further specify what column(s) from this we want:"
   ]
  },
  {
   "cell_type": "code",
   "execution_count": 19,
   "metadata": {},
   "outputs": [
    {
     "data": {
      "text/plain": [
       "year\n",
       "2015    14660.505335\n",
       "2014    14479.763258\n",
       "2013    14364.140970\n",
       "2012    13963.665402\n",
       "2011    13385.131216\n",
       "Name: gdppc, dtype: float64"
      ]
     },
     "execution_count": 19,
     "metadata": {},
     "output_type": "execute_result"
    }
   ],
   "source": [
    "dat.loc['Chile']['gdppc'].head()"
   ]
  },
  {
   "cell_type": "markdown",
   "metadata": {},
   "source": [
    "## Unstack data\n",
    "\n",
    "The unstack method turns index values into column names while stack method converts column names to index values. Here we apply unstack."
   ]
  },
  {
   "cell_type": "code",
   "execution_count": 20,
   "metadata": {},
   "outputs": [
    {
     "data": {
      "text/html": [
       "<div>\n",
       "<table border=\"1\" class=\"dataframe\">\n",
       "  <thead>\n",
       "    <tr>\n",
       "      <th></th>\n",
       "      <th colspan=\"3\" halign=\"left\">gdppc</th>\n",
       "      <th colspan=\"3\" halign=\"left\">urb</th>\n",
       "    </tr>\n",
       "    <tr>\n",
       "      <th>country</th>\n",
       "      <th>Argentina</th>\n",
       "      <th>Chile</th>\n",
       "      <th>United States</th>\n",
       "      <th>Argentina</th>\n",
       "      <th>Chile</th>\n",
       "      <th>United States</th>\n",
       "    </tr>\n",
       "    <tr>\n",
       "      <th>year</th>\n",
       "      <th></th>\n",
       "      <th></th>\n",
       "      <th></th>\n",
       "      <th></th>\n",
       "      <th></th>\n",
       "      <th></th>\n",
       "    </tr>\n",
       "  </thead>\n",
       "  <tbody>\n",
       "    <tr>\n",
       "      <th>1960</th>\n",
       "      <td>5605.191722</td>\n",
       "      <td>3630.391789</td>\n",
       "      <td>17036.885170</td>\n",
       "      <td>73.611</td>\n",
       "      <td>67.836</td>\n",
       "      <td>69.996</td>\n",
       "    </tr>\n",
       "    <tr>\n",
       "      <th>1961</th>\n",
       "      <td>5815.233002</td>\n",
       "      <td>3692.112435</td>\n",
       "      <td>17142.193767</td>\n",
       "      <td>74.217</td>\n",
       "      <td>68.660</td>\n",
       "      <td>70.377</td>\n",
       "    </tr>\n",
       "    <tr>\n",
       "      <th>1962</th>\n",
       "      <td>5675.060043</td>\n",
       "      <td>3796.728684</td>\n",
       "      <td>17910.278790</td>\n",
       "      <td>74.767</td>\n",
       "      <td>69.435</td>\n",
       "      <td>70.757</td>\n",
       "    </tr>\n",
       "    <tr>\n",
       "      <th>1963</th>\n",
       "      <td>5290.764999</td>\n",
       "      <td>3939.263166</td>\n",
       "      <td>18431.158404</td>\n",
       "      <td>75.309</td>\n",
       "      <td>70.200</td>\n",
       "      <td>71.134</td>\n",
       "    </tr>\n",
       "    <tr>\n",
       "      <th>1964</th>\n",
       "      <td>5738.598474</td>\n",
       "      <td>3955.026738</td>\n",
       "      <td>19231.171859</td>\n",
       "      <td>75.844</td>\n",
       "      <td>70.955</td>\n",
       "      <td>71.508</td>\n",
       "    </tr>\n",
       "  </tbody>\n",
       "</table>\n",
       "</div>"
      ],
      "text/plain": [
       "               gdppc                                  urb          \\\n",
       "country    Argentina        Chile United States Argentina   Chile   \n",
       "year                                                                \n",
       "1960     5605.191722  3630.391789  17036.885170    73.611  67.836   \n",
       "1961     5815.233002  3692.112435  17142.193767    74.217  68.660   \n",
       "1962     5675.060043  3796.728684  17910.278790    74.767  69.435   \n",
       "1963     5290.764999  3939.263166  18431.158404    75.309  70.200   \n",
       "1964     5738.598474  3955.026738  19231.171859    75.844  70.955   \n",
       "\n",
       "                       \n",
       "country United States  \n",
       "year                   \n",
       "1960           69.996  \n",
       "1961           70.377  \n",
       "1962           70.757  \n",
       "1963           71.134  \n",
       "1964           71.508  "
      ]
     },
     "execution_count": 20,
     "metadata": {},
     "output_type": "execute_result"
    }
   ],
   "source": [
    "datyr = dat.unstack(level='country')\n",
    "datyr.head()"
   ]
  },
  {
   "cell_type": "markdown",
   "metadata": {},
   "source": [
    "We can now easily index a 2015 cross-section of GDP per capita like so:"
   ]
  },
  {
   "cell_type": "code",
   "execution_count": 21,
   "metadata": {},
   "outputs": [
    {
     "data": {
      "text/plain": [
       "country\n",
       "Argentina         5675.060043\n",
       "Chile             3796.728684\n",
       "United States    17910.278790\n",
       "Name: 1962, dtype: float64"
      ]
     },
     "execution_count": 21,
     "metadata": {},
     "output_type": "execute_result"
    }
   ],
   "source": [
    "datyr.xs('1962')['gdppc']"
   ]
  },
  {
   "cell_type": "markdown",
   "metadata": {},
   "source": [
    "We'd get same result from `datyr.loc['2015']['gdppc']`"
   ]
  },
  {
   "cell_type": "markdown",
   "metadata": {},
   "source": [
    "We can also easily plot all countries:"
   ]
  },
  {
   "cell_type": "code",
   "execution_count": 22,
   "metadata": {},
   "outputs": [
    {
     "data": {
      "image/png": "[encoded data removed]",
      "text/plain": [
       "<matplotlib.figure.Figure at 0x24da11e45c0>"
      ]
     },
     "metadata": {},
     "output_type": "display_data"
    }
   ],
   "source": [
    "datyr['urb'].plot(kind='line');"
   ]
  }
 ],
 "metadata": {
  "kernelspec": {
   "display_name": "Python 3",
   "language": "python",
   "name": "python3"
  },
  "language_info": {
   "codemirror_mode": {
    "name": "ipython",
    "version": 3
   },
   "file_extension": ".py",
   "mimetype": "text/x-python",
   "name": "python",
   "nbconvert_exporter": "python",
   "pygments_lexer": "ipython3",
   "version": "3.6.1"
  }
 },
 "nbformat": 4,
 "nbformat_minor": 1
}
