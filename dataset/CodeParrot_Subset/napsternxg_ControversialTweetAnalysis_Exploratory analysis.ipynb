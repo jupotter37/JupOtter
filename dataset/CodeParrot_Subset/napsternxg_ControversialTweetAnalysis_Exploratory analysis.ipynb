{
 "cells": [
  {
   "cell_type": "code",
   "execution_count": 1,
   "metadata": {
    "collapsed": false
   },
   "outputs": [
    {
     "name": "stderr",
     "output_type": "stream",
     "text": [
      "/home/entity/anaconda2/lib/python2.7/site-packages/matplotlib/font_manager.py:279: UserWarning: Matplotlib is building the font cache using fc-list. This may take a moment.\n",
      "  warnings.warn('Matplotlib is building the font cache using fc-list. This may take a moment.')\n"
     ]
    }
   ],
   "source": [
    "%matplotlib inline\n",
    "\n",
    "import gzip\n",
    "import json\n",
    "import pandas as pd\n",
    "\n",
    "import matplotlib.pyplot as plt\n",
    "import seaborn as sns\n",
    "\n",
    "from collections import defaultdict, Counter"
   ]
  },
  {
   "cell_type": "code",
   "execution_count": 2,
   "metadata": {
    "collapsed": false
   },
   "outputs": [
    {
     "name": "stdout",
     "output_type": "stream",
     "text": [
      "defaultdict(<type 'int'>, {'url': 166670, u'photo': 27682})\n",
      "(8750, 119558)\n",
      "CPU times: user 1min 14s, sys: 8.02 s, total: 1min 22s\n",
      "Wall time: 1min 22s\n"
     ]
    }
   ],
   "source": [
    "%%time\n",
    "data = []\n",
    "media_types = defaultdict(int)\n",
    "url_types = defaultdict(int)\n",
    "unique_urls = set()\n",
    "with gzip.open(\"all_ids.txt.json.gz\") as fp:\n",
    "    for line in fp:\n",
    "        d = json.loads(line.strip())\n",
    "        data.append(d)\n",
    "        if 'entities' not in d:\n",
    "            continue\n",
    "        if 'media' in d['entities']:\n",
    "            m_entities = d['entities']['media']\n",
    "            for m in m_entities:\n",
    "                m_type = m['type']\n",
    "                media_types[m_type] += 1\n",
    "        if 'urls' in d['entities']:\n",
    "            m_entities = d['entities']['urls']\n",
    "            for m in m_entities:\n",
    "                media_types['url'] += 1\n",
    "                m = m['expanded_url']\n",
    "                m_type = m.split(\"/\", 3)[2]\n",
    "                unique_urls.add((m, m_type))\n",
    "                url_types[m_type] += 1\n",
    "                \n",
    "print(media_types)\n",
    "url_types = Counter(url_types)\n",
    "print(len(url_types), len(unique_urls))                "
   ]
  },
  {
   "cell_type": "code",
   "execution_count": 3,
   "metadata": {
    "collapsed": false
   },
   "outputs": [
    {
     "data": {
      "text/plain": [
       "[(u'twitter.com', 24978),\n",
       " (u'bit.ly', 15148),\n",
       " (u'fb.me', 15069),\n",
       " (u'ow.ly', 6866),\n",
       " (u'dlvr.it', 5398),\n",
       " (u'ift.tt', 4693),\n",
       " (u'goo.gl', 4039),\n",
       " (u'ln.is', 3795),\n",
       " (u'youtu.be', 3784),\n",
       " (u'gvwy.io', 3120),\n",
       " (u'www.instagram.com', 2761),\n",
       " (u'buff.ly', 2331),\n",
       " (u'www.newsweek.com', 1949),\n",
       " (u'www.youtube.com', 1170),\n",
       " (u'nyti.ms', 1119),\n",
       " (u'tinyurl.com', 1083),\n",
       " (u'wp.me', 1048),\n",
       " (u'm.tbnn.it', 960),\n",
       " (u'shar.es', 845),\n",
       " (u'www.naturalnews.com', 798),\n",
       " (u'warontherocks.com', 739),\n",
       " (u'truthinmedia.com', 677),\n",
       " (u'cnn.it', 670),\n",
       " (u'rover.ebay.com', 604),\n",
       " (u'dld.bz', 524),\n",
       " (u'www.periscope.tv', 515),\n",
       " (u'lnkd.in', 504),\n",
       " (u'www.huffingtonpost.com', 486),\n",
       " (u'b.autovist.com', 473),\n",
       " (u'fxn.ws', 468),\n",
       " (u'www.breitbart.com', 461),\n",
       " (u'www.facebook.com', 421),\n",
       " (u'www.nytimes.com', 416),\n",
       " (u'n.pr', 405),\n",
       " (u'www.infowars.com', 404),\n",
       " (u'a.msn.com', 397),\n",
       " (u'thefederalist.com', 385),\n",
       " (u'apple.news', 379),\n",
       " (u'go.shr.lc', 378),\n",
       " (u'NaturalNews.com', 373),\n",
       " (u'www.foxnews.com', 362),\n",
       " (u'wpo.st', 350),\n",
       " (u'pinterest.com', 346),\n",
       " (u'www.cnn.com', 325),\n",
       " (u'www.yahoo.com', 319),\n",
       " (u'amzn.to', 317),\n",
       " (u'on.mash.to', 316),\n",
       " (u'wapo.st', 314),\n",
       " (u'brev.is', 310),\n",
       " (u'j.mp', 305)]"
      ]
     },
     "execution_count": 3,
     "metadata": {},
     "output_type": "execute_result"
    }
   ],
   "source": [
    "url_types.most_common(50)"
   ]
  },
  {
   "cell_type": "code",
   "execution_count": 4,
   "metadata": {
    "collapsed": false
   },
   "outputs": [
    {
     "data": {
      "text/plain": [
       "[(u'https://twitter.com/i/web/status/787248028335808513', u'twitter.com'),\n",
       " (u'https://twitter.com/mr_dsantos/status/792410135582875648', u'twitter.com'),\n",
       " (u'https://twitter.com/i/web/status/789400744810024960', u'twitter.com'),\n",
       " (u'https://twitter.com/candy_lass/status/692590229069254656', u'twitter.com'),\n",
       " (u'https://twitter.com/i/web/status/791387309992280064', u'twitter.com'),\n",
       " (u'https://twitter.com/_ijmtybx/status/743864533089947648', u'twitter.com'),\n",
       " (u'https://twitter.com/i/web/status/784460833912975360', u'twitter.com'),\n",
       " (u'https://twitter.com/i/web/status/792218124707729408', u'twitter.com'),\n",
       " (u'https://twitter.com/CaptainCreole/status/798946586730659840',\n",
       "  u'twitter.com'),\n",
       " (u'https://twitter.com/tazerblack/status/786997527560224769', u'twitter.com')]"
      ]
     },
     "execution_count": 4,
     "metadata": {},
     "output_type": "execute_result"
    }
   ],
   "source": [
    "sorted(unique_urls,\n",
    "                      key=lambda x: url_types[x[1]],\n",
    "                     reverse=True)[:10]"
   ]
  },
  {
   "cell_type": "markdown",
   "metadata": {
    "collapsed": false
   },
   "source": [
    "## Run code to get all URLs\n",
    "```python\n",
    "with open(\"all_urls.txt\", \"wb+\") as fp:\n",
    "    for url in sorted(filter(lambda x: x[1] != 'twitter.com',\n",
    "            unique_urls),\n",
    "                      key=lambda x: url_types[x[1]],\n",
    "                     reverse=True):\n",
    "        print >> fp, \"%s\\t%s\\t%s\" % (url[0], url[1], url_types[url[1]])\n",
    "    \n",
    "! head all_urls.txt\n",
    "\n",
    "# python download_expanded.py --jobs 20 --batches 200 # Run this to expand URLs\n",
    "```"
   ]
  },
  {
   "cell_type": "code",
   "execution_count": 6,
   "metadata": {
    "collapsed": false
   },
   "outputs": [
    {
     "name": "stdout",
     "output_type": "stream",
     "text": [
      "http://fb.me/6Ry198BOC\thttp://fb.me/6Ry198BOC\r\n",
      "http://fb.me/8Z6wy6V1o\thttp://worldtruth.tv/body-of-doctor-who-linked-vaccines-to-autism-found-floating-in-river/\r\n",
      "http://fb.me/2xq5ADQaW\thttp://www.trueactivist.com/courts-quietly-confirm-mmr-vaccine-causes-autism/\r\n",
      "http://fb.me/1erJaFNs1\thttp://www.theblaze.com/stories/2016/05/31/12-year-old-science-whiz-gathers-and-shares-all-the-evidence-that-vaccines-cause-autism/?utm_source=facebook&utm_medium=story&utm_campaign=ShareButtons\r\n",
      "http://fb.me/7QrKP6H94\thttp://fb.me/7QrKP6H94\r\n",
      "http://fb.me/3Vqc5yhbx\thttp://www.lifenews.com/2014/09/09/study-links-autism-to-vaccines-made-with-cells-from-aborted-babies/#.V9rBbPGPpHM.facebook\r\n",
      "http://fb.me/5hVmXkvZT\thttp://tylervigen.com/spurious-correlations\r\n",
      "http://fb.me/4oBG06FuV\thttps://www.facebook.com/photo.php?fbid=1066132846768368\r\n",
      "http://fb.me/7IkGrAXn9\thttp://www.dailymail.co.uk/news/article-3141287/Authorities-Anti-vaccine-doctor-dead-apparent-suicide.html\r\n",
      "http://fb.me/1qV1jUl3P\thttp://www.npr.org/sections/health-shots/2016/11/28/503592933/flu-vaccine-during-pregnancy-not-linked-to-autism?utm_source=facebook.com&utm_medium=social&utm_campaign=npr&utm_term=nprnews&utm_content=2055\r\n"
     ]
    }
   ],
   "source": [
    "! head exp_urls.txt"
   ]
  },
  {
   "cell_type": "code",
   "execution_count": 7,
   "metadata": {
    "collapsed": false
   },
   "outputs": [
    {
     "data": {
      "text/plain": [
       "[u'contributors',\n",
       " u'truncated',\n",
       " u'text',\n",
       " u'is_quote_status',\n",
       " u'in_reply_to_status_id',\n",
       " u'id',\n",
       " u'favorite_count',\n",
       " u'source',\n",
       " u'quoted_status_id',\n",
       " u'retweeted',\n",
       " u'coordinates',\n",
       " u'quoted_status',\n",
       " u'entities',\n",
       " u'in_reply_to_screen_name',\n",
       " u'id_str',\n",
       " u'retweet_count',\n",
       " u'in_reply_to_user_id',\n",
       " u'favorited',\n",
       " u'user',\n",
       " u'geo',\n",
       " u'in_reply_to_user_id_str',\n",
       " u'possibly_sensitive',\n",
       " u'lang',\n",
       " u'created_at',\n",
       " u'quoted_status_id_str',\n",
       " u'in_reply_to_status_id_str',\n",
       " u'place']"
      ]
     },
     "execution_count": 7,
     "metadata": {},
     "output_type": "execute_result"
    }
   ],
   "source": [
    "data[0].keys()"
   ]
  },
  {
   "cell_type": "code",
   "execution_count": 8,
   "metadata": {
    "collapsed": false
   },
   "outputs": [
    {
     "data": {
      "text/plain": [
       "u'<a href=\"http://twitter.com\" rel=\"nofollow\">Twitter Web Client</a>'"
      ]
     },
     "execution_count": 8,
     "metadata": {},
     "output_type": "execute_result"
    }
   ],
   "source": [
    "data[0][u'source']"
   ]
  },
  {
   "cell_type": "code",
   "execution_count": 9,
   "metadata": {
    "collapsed": false
   },
   "outputs": [
    {
     "data": {
      "text/plain": [
       "True"
      ]
     },
     "execution_count": 9,
     "metadata": {},
     "output_type": "execute_result"
    }
   ],
   "source": [
    "data[0][u'is_quote_status']"
   ]
  },
  {
   "cell_type": "code",
   "execution_count": 10,
   "metadata": {
    "collapsed": false
   },
   "outputs": [
    {
     "data": {
      "text/plain": [
       "u'Overnight apartment fire in Tampa #10News https://t.co/gDBsG8udFg'"
      ]
     },
     "execution_count": 10,
     "metadata": {},
     "output_type": "execute_result"
    }
   ],
   "source": [
    "data[0][u'quoted_status']['text']"
   ]
  },
  {
   "cell_type": "code",
   "execution_count": 11,
   "metadata": {
    "collapsed": false
   },
   "outputs": [
    {
     "data": {
      "text/plain": [
       "u'Getting a better look at the damage now that the sun is up.  Very sad https://t.co/DZrhrubgf9'"
      ]
     },
     "execution_count": 11,
     "metadata": {},
     "output_type": "execute_result"
    }
   ],
   "source": [
    "data[0]['text']"
   ]
  },
  {
   "cell_type": "code",
   "execution_count": 12,
   "metadata": {
    "collapsed": false
   },
   "outputs": [
    {
     "name": "stdout",
     "output_type": "stream",
     "text": [
      "21382 646 53296 281811 11366\n"
     ]
    }
   ],
   "source": [
    "count_quoted = 0\n",
    "has_coordinates = 0\n",
    "count_replies = 0\n",
    "language_ids = defaultdict(int)\n",
    "count_user_locs = 0\n",
    "user_locs = Counter()\n",
    "count_verified = 0\n",
    "for d in data:\n",
    "    count_quoted += d.get('is_quote_status', 0)\n",
    "    coords = d.get(u'coordinates', None)\n",
    "    repl_id = d.get(u'in_reply_to_status_id', None)\n",
    "    has_coordinates += (coords is not None)\n",
    "    count_replies += (repl_id is not None)\n",
    "    loc = d['user'].get('location', u'')\n",
    "    count_verified += d['user']['verified']\n",
    "    if loc != u'':\n",
    "        count_user_locs += 1\n",
    "        user_locs.update([loc])\n",
    "    language_ids[d['lang']] += 1\n",
    "    \n",
    "print count_quoted, has_coordinates, count_replies, count_user_locs, count_verified\n",
    "    "
   ]
  },
  {
   "cell_type": "code",
   "execution_count": 13,
   "metadata": {
    "collapsed": false
   },
   "outputs": [
    {
     "data": {
      "text/plain": [
       "11366"
      ]
     },
     "execution_count": 13,
     "metadata": {},
     "output_type": "execute_result"
    }
   ],
   "source": [
    "count_verified"
   ]
  },
  {
   "cell_type": "code",
   "execution_count": 14,
   "metadata": {
    "collapsed": false
   },
   "outputs": [
    {
     "data": {
      "text/plain": [
       "[(u'United States', 10420),\n",
       " (u'USA', 7880),\n",
       " (u'Washington, DC', 4310),\n",
       " (u'New York, NY', 3082),\n",
       " (u'California, USA', 3018),\n",
       " (u'Los Angeles, CA', 2719),\n",
       " (u'New York', 2312),\n",
       " (u'Chicago, IL', 2179),\n",
       " (u'New York, USA', 2021),\n",
       " (u'Texas', 1773)]"
      ]
     },
     "execution_count": 14,
     "metadata": {},
     "output_type": "execute_result"
    }
   ],
   "source": [
    "user_locs.most_common(10)"
   ]
  },
  {
   "cell_type": "code",
   "execution_count": 15,
   "metadata": {
    "collapsed": false
   },
   "outputs": [
    {
     "data": {
      "text/plain": [
       "328318"
      ]
     },
     "execution_count": 15,
     "metadata": {},
     "output_type": "execute_result"
    }
   ],
   "source": [
    "len(data)"
   ]
  },
  {
   "cell_type": "code",
   "execution_count": 16,
   "metadata": {
    "collapsed": false
   },
   "outputs": [
    {
     "data": {
      "text/plain": [
       "{u'contributors_enabled': False,\n",
       " u'created_at': u'Tue Jul 14 00:13:13 +0000 2009',\n",
       " u'default_profile': False,\n",
       " u'default_profile_image': False,\n",
       " u'description': u'Executive Producer at 10News WTSP in Tampa/St. Petersburg. Indiana University graduate.',\n",
       " u'entities': {u'description': {u'urls': []}},\n",
       " u'favourites_count': 345,\n",
       " u'follow_request_sent': False,\n",
       " u'followers_count': 573,\n",
       " u'following': False,\n",
       " u'friends_count': 503,\n",
       " u'geo_enabled': True,\n",
       " u'has_extended_profile': False,\n",
       " u'id': 56544119,\n",
       " u'id_str': u'56544119',\n",
       " u'is_translation_enabled': False,\n",
       " u'is_translator': False,\n",
       " u'lang': u'en',\n",
       " u'listed_count': 68,\n",
       " u'location': u'St. Petersburg',\n",
       " u'name': u'Melissa Ramsey',\n",
       " u'notifications': False,\n",
       " u'profile_background_color': u'0099B9',\n",
       " u'profile_background_image_url': u'http://abs.twimg.com/images/themes/theme4/bg.gif',\n",
       " u'profile_background_image_url_https': u'https://abs.twimg.com/images/themes/theme4/bg.gif',\n",
       " u'profile_background_tile': False,\n",
       " u'profile_banner_url': u'https://pbs.twimg.com/profile_banners/56544119/1443718335',\n",
       " u'profile_image_url': u'http://pbs.twimg.com/profile_images/743866585635491840/Pa-vBAru_normal.jpg',\n",
       " u'profile_image_url_https': u'https://pbs.twimg.com/profile_images/743866585635491840/Pa-vBAru_normal.jpg',\n",
       " u'profile_link_color': u'0099B9',\n",
       " u'profile_sidebar_border_color': u'5ED4DC',\n",
       " u'profile_sidebar_fill_color': u'95E8EC',\n",
       " u'profile_text_color': u'3C3940',\n",
       " u'profile_use_background_image': True,\n",
       " u'protected': False,\n",
       " u'screen_name': u'mramsey8',\n",
       " u'statuses_count': 1010,\n",
       " u'time_zone': u'Central Time (US & Canada)',\n",
       " u'translator_type': u'none',\n",
       " u'url': None,\n",
       " u'utc_offset': -21600,\n",
       " u'verified': False}"
      ]
     },
     "execution_count": 16,
     "metadata": {},
     "output_type": "execute_result"
    }
   ],
   "source": [
    "data[0]['user']"
   ]
  },
  {
   "cell_type": "code",
   "execution_count": null,
   "metadata": {
    "collapsed": true
   },
   "outputs": [],
   "source": []
  }
 ],
 "metadata": {
  "anaconda-cloud": {},
  "kernelspec": {
   "display_name": "Python [default]",
   "language": "python",
   "name": "python2"
  },
  "language_info": {
   "codemirror_mode": {
    "name": "ipython",
    "version": 2
   },
   "file_extension": ".py",
   "mimetype": "text/x-python",
   "name": "python",
   "nbconvert_exporter": "python",
   "pygments_lexer": "ipython2",
   "version": "2.7.12"
  }
 },
 "nbformat": 4,
 "nbformat_minor": 1
}
