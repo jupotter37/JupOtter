{
 "cells": [
  {
   "cell_type": "markdown",
   "metadata": {},
   "source": [
    "<div align=\"right\">Python [conda env:PY27_Test]<br/>Python [conda env:PY36]</div>\n",
    "\n",
    "# Printing, Creating & Formatting Strings And Some List Behaviors\n",
    "\n",
    "All content in this Notebook is Python 2.7 and 3.6 compliant (except where noted).  All code without comments indicating otherwise was cross-tested in Python 2.7 and Python 3.6"
   ]
  },
  {
   "cell_type": "code",
   "execution_count": 3,
   "metadata": {
    "collapsed": false
   },
   "outputs": [
    {
     "name": "stdout",
     "output_type": "stream",
     "text": [
      "13) Here is some text\n"
     ]
    }
   ],
   "source": [
    "myNumber = 13\n",
    "myStr = \"Here is some text\"\n",
    "print(\"%d) %s\" %(myNumber, myStr))"
   ]
  },
  {
   "cell_type": "code",
   "execution_count": 4,
   "metadata": {
    "collapsed": false
   },
   "outputs": [
    {
     "name": "stdout",
     "output_type": "stream",
     "text": [
      "13) Here is some text\n"
     ]
    }
   ],
   "source": [
    "# note how the same syntax we use to format content for printing\n",
    "# also works to format strings\n",
    "myNumber = 13\n",
    "myStr = \"Here is some text\"\n",
    "myStr = \"%d) %s\" %(myNumber, myStr)\n",
    "print(myStr)"
   ]
  },
  {
   "cell_type": "code",
   "execution_count": 18,
   "metadata": {
    "collapsed": false
   },
   "outputs": [
    {
     "name": "stdout",
     "output_type": "stream",
     "text": [
      "something to say. More things to say about the number 13\n"
     ]
    }
   ],
   "source": [
    "# note how you can build a % formatter in pieces like this:\n",
    "frag = \"to say\"\n",
    "num = 13\n",
    "print((\"something %s.\" + \" More things to say about the number %d\") %(frag, num))"
   ]
  },
  {
   "cell_type": "code",
   "execution_count": 20,
   "metadata": {
    "collapsed": false
   },
   "outputs": [
    {
     "name": "stdout",
     "output_type": "stream",
     "text": [
      "\n"
     ]
    }
   ],
   "source": [
    "print(\"_\"*0) # if you use 0 nothing is output"
   ]
  },
  {
   "cell_type": "code",
   "execution_count": 27,
   "metadata": {
    "collapsed": false
   },
   "outputs": [
    {
     "name": "stdout",
     "output_type": "stream",
     "text": [
      "  0\n",
      " 80\n",
      "160\n"
     ]
    }
   ],
   "source": [
    "# implications of this (note how we align the numbers by ending on 0 spaces)\n",
    "N = 3\n",
    "for i in range(N):\n",
    "    # print(N-i-1)  # uncomment to see values: 2, 1, 0\n",
    "    print(\" \"*(N-i-1) + str(8*10*i))"
   ]
  },
  {
   "cell_type": "code",
   "execution_count": 2,
   "metadata": {
    "collapsed": false
   },
   "outputs": [
    {
     "name": "stdout",
     "output_type": "stream",
     "text": [
      "[1, 2, 3]\n",
      "--------------\n",
      "1\n",
      "2\n",
      "3\n",
      "--------------\n",
      "123\n",
      "--------------\n",
      "123"
     ]
    }
   ],
   "source": [
    "# version:  Python 3.x, or add in appropriate \"from_future\" lines for Python 2.7 before using it\n",
    "LL = [1,2,3]\n",
    "print(LL)\n",
    "\n",
    "print(\"-\"*14)\n",
    "for i in LL:\n",
    "    print(i)\n",
    "print(\"-\"*14)\n",
    "\n",
    "for i in LL:\n",
    "    print(i, sep=\" \", end=\"\")\n",
    "print(\"\\n\" + \"-\"*14)\n",
    "\n",
    "print(*LL, sep=\"\", end=\"\")  # unpacking a list only valid in Python 3.x (*LL part of this example)"
   ]
  },
  {
   "cell_type": "code",
   "execution_count": 3,
   "metadata": {
    "collapsed": false
   },
   "outputs": [
    {
     "data": {
      "text/plain": [
       "'a, b, c'"
      ]
     },
     "execution_count": 3,
     "metadata": {},
     "output_type": "execute_result"
    }
   ],
   "source": [
    "LL2 = ['a', 'b', 'c']  # only works if elements are strings\n",
    "\", \".join(LL2)"
   ]
  },
  {
   "cell_type": "code",
   "execution_count": 4,
   "metadata": {
    "collapsed": false
   },
   "outputs": [
    {
     "data": {
      "text/plain": [
       "'1, 2, 3'"
      ]
     },
     "execution_count": 4,
     "metadata": {},
     "output_type": "execute_result"
    }
   ],
   "source": [
    "\", \".join([str(elem) for elem in LL]) # this is how to convert the numeric one to a string"
   ]
  },
  {
   "cell_type": "code",
   "execution_count": 6,
   "metadata": {
    "collapsed": false
   },
   "outputs": [
    {
     "name": "stdout",
     "output_type": "stream",
     "text": [
      "Tests of .join():\n",
      "now is the time for all good men to come to the aid of their country\n"
     ]
    }
   ],
   "source": [
    "print(\"Tests of .join():\")\n",
    "seq = (\"now is the time for all good men\", \"to come to the aid of their country\")  # this works w/ lists and tuples\n",
    "print(\" \".join(seq))"
   ]
  },
  {
   "cell_type": "code",
   "execution_count": 3,
   "metadata": {
    "collapsed": false
   },
   "outputs": [
    {
     "data": {
      "text/plain": [
       "['c', 'a', 't']"
      ]
     },
     "execution_count": 3,
     "metadata": {},
     "output_type": "execute_result"
    }
   ],
   "source": [
    "LL3 = list(\"cat\")\n",
    "LL3"
   ]
  },
  {
   "cell_type": "code",
   "execution_count": 5,
   "metadata": {
    "collapsed": false
   },
   "outputs": [
    {
     "data": {
      "text/plain": [
       "[12, 123, 124, 125]"
      ]
     },
     "execution_count": 5,
     "metadata": {},
     "output_type": "execute_result"
    }
   ],
   "source": [
    "lstTst2 = [12, [123, 124, 125]]\n",
    "[lstTst2[0]] + lstTst2[1]"
   ]
  },
  {
   "cell_type": "code",
   "execution_count": 6,
   "metadata": {
    "collapsed": false
   },
   "outputs": [
    {
     "name": "stdout",
     "output_type": "stream",
     "text": [
      "True\n",
      "False\n"
     ]
    }
   ],
   "source": [
    "lst = [1,2,3,4]\n",
    "print(3 in lst)\n",
    "print(3 not in lst)"
   ]
  },
  {
   "cell_type": "code",
   "execution_count": 35,
   "metadata": {
    "collapsed": false
   },
   "outputs": [
    {
     "name": "stdout",
     "output_type": "stream",
     "text": [
      "DO NOT GO GENTLE INTO THAT GOOD NIGHT.  RAGE, RAGE AGAINST THE DYING OF THE LIGHT\n",
      "do not go gentle into that good night.  rage, rage against the dying of the light\n",
      "dO NOT GO GENTLE INTO THAT GOOD NIGHT.  rAGE, RAGE AGAINST THE DYING OF THE LIGHT\n",
      "Do Not Go Gentle Into That Good Night.  Rage, Rage Against The Dying Of The Light\n"
     ]
    }
   ],
   "source": [
    "# built-in functions for manipulating the case of a string\n",
    "\n",
    "testString = \"Do not go gentle into that good night.  Rage, rage against the dying of the light\"  # from Dyllan Thomas Poem\n",
    "print(testString.upper())\n",
    "print(testString.lower())\n",
    "print(testString.swapcase())\n",
    "print(testString.title())"
   ]
  },
  {
   "cell_type": "code",
   "execution_count": 1,
   "metadata": {
    "collapsed": false
   },
   "outputs": [
    {
     "name": "stdout",
     "output_type": "stream",
     "text": [
      "This Is A Test 4all You Do. .a .b .c -d\n",
      "This Is A Test 4All You Do. .A .B .C -D\n"
     ]
    }
   ],
   "source": [
    "# canned functions for manipulating a string from libraries\n",
    "import string\n",
    "print(string.capwords(\"This is a test 4all you do. .a .b .c -d\"))\n",
    "print(\"This is a test 4all you do. .a .b .c -d\".title())          # note the difference"
   ]
  },
  {
   "cell_type": "code",
   "execution_count": 36,
   "metadata": {
    "collapsed": false
   },
   "outputs": [
    {
     "name": "stdout",
     "output_type": "stream",
     "text": [
      "The slowest run took 6.39 times longer than the fastest. This could mean that an intermediate result is being cached.\n",
      "100000 loops, best of 3: 2.3 µs per loop\n"
     ]
    }
   ],
   "source": [
    "timeit(testString.swapcase())"
   ]
  },
  {
   "cell_type": "code",
   "execution_count": 38,
   "metadata": {
    "collapsed": false
   },
   "outputs": [],
   "source": [
    "def swap_case(s):\n",
    "    return \"\".join([c.upper() if c.islower() else c.lower() for c in s])"
   ]
  },
  {
   "cell_type": "code",
   "execution_count": 39,
   "metadata": {
    "collapsed": false
   },
   "outputs": [
    {
     "name": "stdout",
     "output_type": "stream",
     "text": [
      "10000 loops, best of 3: 61 µs per loop\n"
     ]
    }
   ],
   "source": [
    "timeit(swap_case(testString))  # home grown version not nearly as fast as builtin"
   ]
  },
  {
   "cell_type": "code",
   "execution_count": 41,
   "metadata": {
    "collapsed": false
   },
   "outputs": [
    {
     "name": "stdout",
     "output_type": "stream",
     "text": [
      "Do-not-go-gentle-into-that-good-night.--Rage,-rage-against-the-dying-of-the-light\n",
      "Do-not-go-gentle-into-that-good-night.--Rage,-rage-against-the-dying-of-the-light\n"
     ]
    }
   ],
   "source": [
    "def split_and_join(line):\n",
    "    return \"-\".join(line.split(\" \"))\n",
    "\n",
    "print(split_and_join(testString))\n",
    "print(testString.replace(\" \", \"-\"))"
   ]
  },
  {
   "cell_type": "code",
   "execution_count": 43,
   "metadata": {
    "collapsed": false
   },
   "outputs": [
    {
     "name": "stdout",
     "output_type": "stream",
     "text": [
      "Alphanumerics: 70\n",
      "       Alphas: 64\n",
      "     Numerics: 6\n",
      "Lower Letters: 56\n",
      "Upper Letters: 8\n"
     ]
    }
   ],
   "source": [
    "def test_str_chars(s):\n",
    "    alphanums = 0\n",
    "    alphas    = 0\n",
    "    digits    = 0\n",
    "    lowcase   = 0\n",
    "    uppcase   = 0\n",
    "    \n",
    "    for i in range(len(s)):\n",
    "        if s[i].isalnum() == True:\n",
    "            alphanums += 1\n",
    "\n",
    "    for i in range(len(s)):\n",
    "        if s[i].isalpha() == True:\n",
    "            alphas +=1\n",
    "            \n",
    "    for i in range(len(s)):\n",
    "        if s[i].isdigit() == True:\n",
    "            digits += 1\n",
    "            \n",
    "    for i in range(len(s)):\n",
    "        if s[i].islower() == True:\n",
    "            lowcase += 1\n",
    "            \n",
    "    for i in range(len(s)):\n",
    "        if s[i].isupper() == True:\n",
    "            uppcase += 1\n",
    "\n",
    "    print(\"Alphanumerics: %d\" %alphanums)\n",
    "    print(\"       Alphas: %d\" %alphas)\n",
    "    print(\"     Numerics: %d\" %digits)\n",
    "    print(\"Lower Letters: %d\" %lowcase)\n",
    "    print(\"Upper Letters: %d\" %uppcase)\n",
    "\n",
    "test_str_chars(\"Do not go gentle into that good night said 143 times ... then: Rage, Rage against x109ABCDZ\")"
   ]
  },
  {
   "cell_type": "code",
   "execution_count": 8,
   "metadata": {
    "collapsed": false
   },
   "outputs": [
    {
     "name": "stdout",
     "output_type": "stream",
     "text": [
      "HackerRank----------\n",
      "----------HackerRank\n",
      "-----HackerRank-----\n"
     ]
    }
   ],
   "source": [
    "# string lessons:  Courtesy of Hacker Rank\n",
    "# code works in Python 2.7 and Python 3.x\n",
    "\n",
    "width = 20\n",
    "print('HackerRank'.ljust(width,'-'))  # num needs to equal length of text string + number of dashes to add to it \n",
    "print('HackerRank'.rjust(width,'-'))\n",
    "print('HackerRank'.center(width,'-'))"
   ]
  },
  {
   "cell_type": "code",
   "execution_count": 10,
   "metadata": {
    "collapsed": false
   },
   "outputs": [
    {
     "name": "stdout",
     "output_type": "stream",
     "text": [
      "This is\n",
      "a very\n",
      "very\n",
      "very\n",
      "very\n",
      "very\n",
      "long\n",
      "string.\n",
      "['This is', 'a very', 'very', 'very', 'very', 'very', 'long', 'string.']\n"
     ]
    }
   ],
   "source": [
    "# from Hacker Rank\n",
    "# code works in Python 2.7 and Python 3.x\n",
    "\n",
    "import textwrap\n",
    "string = \"This is a very very very very very long string.\"\n",
    "print(textwrap.fill(string,8))\n",
    "print(textwrap.wrap(string,8))"
   ]
  },
  {
   "cell_type": "code",
   "execution_count": 39,
   "metadata": {
    "collapsed": false
   },
   "outputs": [
    {
     "name": "stdout",
     "output_type": "stream",
     "text": [
      "---------------------.|.---------------------\n",
      "------------------.|..|..|.------------------\n",
      "---------------.|..|..|..|..|.---------------\n",
      "------------.|..|..|..|..|..|..|.------------\n",
      "---------.|..|..|..|..|..|..|..|..|.---------\n",
      "------.|..|..|..|..|..|..|..|..|..|..|.------\n",
      "---.|..|..|..|..|..|..|..|..|..|..|..|..|.---\n",
      "-------------------WELCOME-------------------\n",
      "---.|..|..|..|..|..|..|..|..|..|..|..|..|.---\n",
      "------.|..|..|..|..|..|..|..|..|..|..|.------\n",
      "---------.|..|..|..|..|..|..|..|..|.---------\n",
      "------------.|..|..|..|..|..|..|.------------\n",
      "---------------.|..|..|..|..|.---------------\n",
      "------------------.|..|..|.------------------\n",
      "---------------------.|.---------------------\n",
      "\n",
      "****************+:+*****************\n",
      "*************+:++:++:+**************\n",
      "**********+:++:++:++:++:+***********\n",
      "*******+:++:++:++:++:++:++:+********\n",
      "****+:++:++:++:++:++:++:++:++:+*****\n",
      "*+:++:++:++:++:++:++:++:++:++:++:+**\n",
      "***********EAT MY SHORTS!***********\n",
      "***+:++:++:++:++:++:++:++:++:++:+***\n",
      "******+:++:++:++:++:++:++:++:+******\n",
      "*********+:++:++:++:++:++:+*********\n",
      "************+:++:++:++:+************\n",
      "***************+:++:+***************\n",
      "************************************\n",
      "\n",
      "++++++++++++.|.++++++++++++\n",
      "+++++++++.|..|..|.+++++++++\n",
      "++++++.|..|..|..|..|.++++++\n",
      "+++.|..|..|..|..|..|..|.+++\n",
      "++++++++++WELCOME++++++++++\n",
      "+++.|..|..|..|..|..|..|.+++\n",
      "++++++.|..|..|..|..|.++++++\n",
      "+++++++++.|..|..|.+++++++++\n",
      "++++++++++++.|.++++++++++++\n",
      "\n",
      "---------+:+---------\n",
      "------+:++:++:+------\n",
      "---+:++:++:++:++:+---\n",
      "-------WELCOME-------\n",
      "---+:++:++:++:++:+---\n",
      "------+:++:++:+------\n",
      "---------+:+---------\n",
      "\n",
      "------.|.------\n",
      "---.|..|..|.---\n",
      "-----B'BYE!----\n",
      "---.|..|..|.---\n",
      "------.|.------\n",
      "\n"
     ]
    },
    {
     "ename": "ValueError",
     "evalue": "dRows for number of rows in the doorMat must be at least 5.",
     "output_type": "error",
     "traceback": [
      "\u001b[0;31m---------------------------------------------------------------------------\u001b[0m",
      "\u001b[0;31mValueError\u001b[0m                                Traceback (most recent call last)",
      "\u001b[0;32m<ipython-input-39-14ab64c727b9>\u001b[0m in \u001b[0;36m<module>\u001b[0;34m()\u001b[0m\n\u001b[1;32m     24\u001b[0m \u001b[0mcreate_doorMat\u001b[0m\u001b[1;33m(\u001b[0m\u001b[1;36m5\u001b[0m\u001b[1;33m,\u001b[0m \u001b[0mcenterText\u001b[0m\u001b[1;33m=\u001b[0m\u001b[1;34m\"B'BYE!\"\u001b[0m\u001b[1;33m)\u001b[0m\u001b[1;33m\u001b[0m\u001b[0m\n\u001b[1;32m     25\u001b[0m \u001b[0mprint\u001b[0m\u001b[1;33m(\u001b[0m\u001b[1;33m)\u001b[0m\u001b[1;33m\u001b[0m\u001b[0m\n\u001b[0;32m---> 26\u001b[0;31m \u001b[0mcreate_doorMat\u001b[0m\u001b[1;33m(\u001b[0m\u001b[1;36m3\u001b[0m\u001b[1;33m)\u001b[0m\u001b[1;33m\u001b[0m\u001b[0m\n\u001b[0m",
      "\u001b[0;32m<ipython-input-39-14ab64c727b9>\u001b[0m in \u001b[0;36mcreate_doorMat\u001b[0;34m(dRows, centerText, dTxt, fillChar)\u001b[0m\n\u001b[1;32m      6\u001b[0m \u001b[1;32mdef\u001b[0m \u001b[0mcreate_doorMat\u001b[0m\u001b[1;33m(\u001b[0m\u001b[0mdRows\u001b[0m\u001b[1;33m=\u001b[0m\u001b[1;36m9\u001b[0m\u001b[1;33m,\u001b[0m \u001b[0mcenterText\u001b[0m \u001b[1;33m=\u001b[0m \u001b[1;34m\"WELCOME\"\u001b[0m\u001b[1;33m,\u001b[0m \u001b[0mdTxt\u001b[0m\u001b[1;33m=\u001b[0m\u001b[1;34m\".|.\"\u001b[0m\u001b[1;33m,\u001b[0m \u001b[0mfillChar\u001b[0m\u001b[1;33m=\u001b[0m\u001b[1;34m\"-\"\u001b[0m\u001b[1;33m)\u001b[0m\u001b[1;33m:\u001b[0m\u001b[1;33m\u001b[0m\u001b[0m\n\u001b[1;32m      7\u001b[0m     \u001b[1;32mif\u001b[0m \u001b[0mdRows\u001b[0m \u001b[1;33m<\u001b[0m \u001b[1;36m5\u001b[0m\u001b[1;33m:\u001b[0m\u001b[1;33m\u001b[0m\u001b[0m\n\u001b[0;32m----> 8\u001b[0;31m         \u001b[1;32mraise\u001b[0m \u001b[0mValueError\u001b[0m\u001b[1;33m(\u001b[0m\u001b[1;34m\"dRows for number of rows in the doorMat must be at least 5.\"\u001b[0m\u001b[1;33m)\u001b[0m\u001b[1;33m\u001b[0m\u001b[0m\n\u001b[0m\u001b[1;32m      9\u001b[0m     \u001b[0mdRowLngth\u001b[0m \u001b[1;33m=\u001b[0m \u001b[0mdRows\u001b[0m\u001b[1;33m*\u001b[0m\u001b[1;36m3\u001b[0m\u001b[1;33m\u001b[0m\u001b[0m\n\u001b[1;32m     10\u001b[0m     \u001b[1;32mfor\u001b[0m \u001b[0mi\u001b[0m \u001b[1;32min\u001b[0m \u001b[0mrange\u001b[0m\u001b[1;33m(\u001b[0m\u001b[1;36m1\u001b[0m\u001b[1;33m,\u001b[0m\u001b[0mdRows\u001b[0m\u001b[1;33m,\u001b[0m\u001b[1;36m2\u001b[0m\u001b[1;33m)\u001b[0m\u001b[1;33m:\u001b[0m\u001b[1;33m\u001b[0m\u001b[0m\n",
      "\u001b[0;31mValueError\u001b[0m: dRows for number of rows in the doorMat must be at least 5."
     ]
    }
   ],
   "source": [
    "# idea for this came from Hacker rank:\n",
    "# the hacker rank doormat code was 6 lines of code that only accepted \"WELCOME\" \n",
    "# and \".|.\" and got dimensions from stdin\n",
    "# this modification makes it more flexible\n",
    "\n",
    "def create_doorMat(dRows=9, centerText = \"WELCOME\", dTxt=\".|.\", fillChar=\"-\"):\n",
    "    if dRows < 5:\n",
    "        raise ValueError(\"dRows for number of rows in the doorMat must be at least 5.\")\n",
    "    dRowLngth = dRows*3\n",
    "    for i in range(1,dRows,2): \n",
    "        print((dTxt*i).center(dRowLngth, fillChar))\n",
    "    print(centerText.center(dRowLngth, fillChar))\n",
    "    for i in range(dRows-2,-1,-2): \n",
    "        print((dTxt*i).center(dRowLngth, fillChar))\n",
    "\n",
    "create_doorMat(15)\n",
    "print()\n",
    "create_doorMat(12, centerText=\"EAT MY SHORTS!\", dTxt=\"+:+\", fillChar=\"*\")\n",
    "print()\n",
    "create_doorMat(9, fillChar=\"+\")\n",
    "print()\n",
    "create_doorMat(7, dTxt=\"+:+\")\n",
    "print()\n",
    "create_doorMat(5, centerText=\"B'BYE!\")\n",
    "print()\n",
    "create_doorMat(3)  # this should throw the predefined error for invalid size\n"
   ]
  },
  {
   "cell_type": "code",
   "execution_count": null,
   "metadata": {
    "collapsed": true
   },
   "outputs": [],
   "source": []
  }
 ],
 "metadata": {
  "anaconda-cloud": {},
  "kernelspec": {
   "display_name": "Python [conda env:PY36]",
   "language": "python",
   "name": "conda-env-PY36-py"
  },
  "language_info": {
   "codemirror_mode": {
    "name": "ipython",
    "version": 3
   },
   "file_extension": ".py",
   "mimetype": "text/x-python",
   "name": "python",
   "nbconvert_exporter": "python",
   "pygments_lexer": "ipython3",
   "version": "3.6.0"
  }
 },
 "nbformat": 4,
 "nbformat_minor": 2
}
