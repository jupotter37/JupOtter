{
 "cells": [
  {
   "cell_type": "code",
   "execution_count": 2,
   "metadata": {
    "collapsed": false
   },
   "outputs": [],
   "source": [
    "# 假设产生一个行为序列\n",
    "import numpy as np\n",
    "x = np.random.choice([0,1],size=20)"
   ]
  },
  {
   "cell_type": "code",
   "execution_count": 10,
   "metadata": {
    "collapsed": false
   },
   "outputs": [
    {
     "name": "stdout",
     "output_type": "stream",
     "text": [
      "[1 1 0 1 0 1 0 0 1 1 1 1 1 1 1 0 0 0 0]\n",
      "[1 0 1 0 1 0 0 1 1 1 1 1 1 1 0 0 0 0 0]\n",
      "[1 1 0 1 0 1 0 0 1 1 1 1 1 1 1 0 0 0 0 0] <type 'numpy.ndarray'>\n"
     ]
    }
   ],
   "source": [
    "# 如果我们想根据序列中前一个值来预测后一个值， 当然在更复杂的版本里可以用前2个值来预测后一个值\n",
    "x_t = x[:-1]\n",
    "x_t1 = x[1:]\n",
    "print x_t\n",
    "print x_t1\n",
    "print x, type(x)"
   ]
  },
  {
   "cell_type": "code",
   "execution_count": 4,
   "metadata": {
    "collapsed": false
   },
   "outputs": [],
   "source": [
    "# 写成一个预测函数，预测当前一个取xt时，后一个取1的概率\n",
    "from __future__ import division\n",
    "def predict_func(x, xt):\n",
    "    x_t = x[:-1]\n",
    "    x_t1 = x[1:]\n",
    "    # p_11：表示前一个取1时，后一个取1的概率\n",
    "    # p_01：表示前一个取0时，后一个取1的概率\n",
    "    p_11 = np.sum((x_t==1) & (x_t1==1))/np.sum(x_t==1) \n",
    "    p_01 = np.sum((x_t==0) & (x_t1==1))/np.sum(x_t==0) \n",
    "    res = [p_01,p_11]\n",
    "    return res[xt]"
   ]
  },
  {
   "cell_type": "code",
   "execution_count": 46,
   "metadata": {
    "collapsed": false
   },
   "outputs": [
    {
     "data": {
      "text/plain": [
       "0.090909090909090912"
      ]
     },
     "execution_count": 46,
     "metadata": {},
     "output_type": "execute_result"
    }
   ],
   "source": [
    "x= np.array([1,0,0,0,0,0,0,0,0,0,0,1,0,0])\n",
    "predict_func(x,0)"
   ]
  },
  {
   "cell_type": "code",
   "execution_count": 6,
   "metadata": {
    "collapsed": false
   },
   "outputs": [
    {
     "data": {
      "text/plain": [
       "0.375"
      ]
     },
     "execution_count": 6,
     "metadata": {},
     "output_type": "execute_result"
    }
   ],
   "source": [
    "predict_func(x,0)  # 前一个值为0的条件下，后一个值为1的概率"
   ]
  },
  {
   "cell_type": "code",
   "execution_count": 73,
   "metadata": {
    "collapsed": true
   },
   "outputs": [],
   "source": [
    "# 有时候单个样本的数量比较少，此时可以加上全局的概率做加权修正\n",
    "def predict_func2(x, xt, prior):\n",
    "    x_t = x[:-1]\n",
    "    x_t1 = x[1:]\n",
    "    n = len(x)\n",
    "    # p_11：表示前一个取1时，后一个取1的概率\n",
    "    # p_01：表示前一个取0时，后一个取1的概率\n",
    "    p_11 = np.sum((x_t==1) & (x_t1==1))/np.sum(x_t==1) \n",
    "    p_01 = np.sum((x_t==0) & (x_t1==1))/np.sum(x_t==0) \n",
    "    p_11 = n/(n+1) *p_11 + 1/(n+1) * prior[1]\n",
    "    p_01 = n/(n+1) *p_01 + 1/(n+1) * prior[0]\n",
    "    res = [p_01,p_11]\n",
    "    return res[xt]"
   ]
  },
  {
   "cell_type": "code",
   "execution_count": 74,
   "metadata": {
    "collapsed": false
   },
   "outputs": [
    {
     "data": {
      "text/plain": [
       "0.88333333333333341"
      ]
     },
     "execution_count": 74,
     "metadata": {},
     "output_type": "execute_result"
    }
   ],
   "source": [
    "# 如果根据所有人的数据，算出p11=0.6, p01= 0.3\n",
    "prior = [0.3, 0.6]\n",
    "predict_func2(x,0,prior)"
   ]
  },
  {
   "cell_type": "code",
   "execution_count": 79,
   "metadata": {
    "collapsed": false
   },
   "outputs": [
    {
     "name": "stdout",
     "output_type": "stream",
     "text": [
      "[1 0 0 1 1]\n"
     ]
    },
    {
     "data": {
      "text/plain": [
       "0.46666666666666667"
      ]
     },
     "execution_count": 79,
     "metadata": {},
     "output_type": "execute_result"
    }
   ],
   "source": [
    "x = np.random.choice([0,1],size=5)\n",
    "print x\n",
    "predict_func2(x,0,prior)"
   ]
  },
  {
   "cell_type": "code",
   "execution_count": 66,
   "metadata": {
    "collapsed": false
   },
   "outputs": [
    {
     "name": "stdout",
     "output_type": "stream",
     "text": [
      "[1 0 1 1 0 0 0 1 0 0 0 0 1 0 1 1 0 0 1 1 0 1 0 1 0 0 0 1 0 0]\n"
     ]
    }
   ],
   "source": [
    "# 更复杂的版本，根据前两个值来预测后一个值\n",
    "x = np.random.choice([0,1],size=30)\n",
    "print x"
   ]
  },
  {
   "cell_type": "code",
   "execution_count": 67,
   "metadata": {
    "collapsed": false
   },
   "outputs": [
    {
     "name": "stdout",
     "output_type": "stream",
     "text": [
      "[(1, 0), (0, 1), (1, 1), (1, 0), (0, 0), (0, 0), (0, 1), (1, 0), (0, 0), (0, 0), (0, 0), (0, 1), (1, 0), (0, 1), (1, 1), (1, 0), (0, 0), (0, 1), (1, 1), (1, 0), (0, 1), (1, 0), (0, 1), (1, 0), (0, 0), (0, 0), (0, 1), (1, 0)]\n",
      "[1 1 0 0 0 1 0 0 0 0 1 0 1 1 0 0 1 1 0 1 0 1 0 0 0 1 0 0]\n"
     ]
    }
   ],
   "source": [
    "x_t = [tuple(x[i:i+2]) for i in range(len(x)-2)]\n",
    "x_t1 = x[2:]\n",
    "print x_t\n",
    "print x_t1"
   ]
  },
  {
   "cell_type": "code",
   "execution_count": 71,
   "metadata": {
    "collapsed": false
   },
   "outputs": [],
   "source": [
    "def predict_func_dpre(x, xt):\n",
    "    x_t = [tuple(x[i:i+2]) for i in range(len(x)-2)]\n",
    "    x_t1 = x[2:]\n",
    "    xt_11 = np.sum(np.array(x_t) == (1,1),axis=1) == 2\n",
    "    p_111 = np.sum(xt_11 & (x_t1==1))/np.sum(xt_11) \n",
    "    xt_10 = np.sum(np.array(x_t) == (1,0),axis=1) == 2\n",
    "    p_101 = np.sum(xt_10 & (x_t1==1))/np.sum(xt_10) \n",
    "    xt_01 = np.sum(np.array(x_t) == (0,1),axis=1) == 2\n",
    "    p_011 = np.sum(xt_01 & (x_t1==1))/np.sum(xt_01) \n",
    "    xt_00 = np.sum(np.array(x_t) == (0,0),axis=1) == 2\n",
    "    print xt_00\n",
    "    p_001 = np.sum(xt_00 & (x_t1==1))/np.sum(xt_00) \n",
    "    res = np.array([p_001,p_011,p_101, p_111]).reshape(2,2)\n",
    "    return res[xt]"
   ]
  },
  {
   "cell_type": "code",
   "execution_count": 72,
   "metadata": {
    "collapsed": false
   },
   "outputs": [
    {
     "name": "stdout",
     "output_type": "stream",
     "text": [
      "[False  True  True  True  True  True  True  True  True  True  True  True\n",
      "  True  True  True]\n"
     ]
    },
    {
     "name": "stderr",
     "output_type": "stream",
     "text": [
      "/opt/data/.pyenv/versions/279iPy/lib/python2.7/site-packages/IPython/kernel/__main__.py:5: RuntimeWarning: invalid value encountered in long_scalars\n",
      "/opt/data/.pyenv/versions/279iPy/lib/python2.7/site-packages/IPython/kernel/__main__.py:9: RuntimeWarning: invalid value encountered in long_scalars\n"
     ]
    },
    {
     "data": {
      "text/plain": [
       "nan"
      ]
     },
     "execution_count": 72,
     "metadata": {},
     "output_type": "execute_result"
    }
   ],
   "source": [
    "predict_func_dpre(x,(0,1)) # 当前两个值是(0,1)条件时，后面取值为1的概率"
   ]
  },
  {
   "cell_type": "code",
   "execution_count": 70,
   "metadata": {
    "collapsed": false
   },
   "outputs": [
    {
     "name": "stderr",
     "output_type": "stream",
     "text": [
      "/opt/data/.pyenv/versions/279iPy/lib/python2.7/site-packages/IPython/kernel/__main__.py:5: RuntimeWarning: invalid value encountered in long_scalars\n",
      "/opt/data/.pyenv/versions/279iPy/lib/python2.7/site-packages/IPython/kernel/__main__.py:9: RuntimeWarning: invalid value encountered in long_scalars\n"
     ]
    },
    {
     "data": {
      "text/plain": [
       "nan"
      ]
     },
     "execution_count": 70,
     "metadata": {},
     "output_type": "execute_result"
    }
   ],
   "source": [
    "x= np.array([1,0,0,0,0,0,0,0,0,0,0,0,0,0,0,0,0])\n",
    "predict_func_dpre(x,(0,1))"
   ]
  },
  {
   "cell_type": "code",
   "execution_count": null,
   "metadata": {
    "collapsed": true
   },
   "outputs": [],
   "source": [
    "# 上述方法是讲顺序的，也可以不讲顺序，即认为 (0,1) = (1,0)"
   ]
  }
 ],
 "metadata": {
  "kernelspec": {
   "display_name": "Python 2",
   "language": "python",
   "name": "python2"
  },
  "language_info": {
   "codemirror_mode": {
    "name": "ipython",
    "version": 2
   },
   "file_extension": ".py",
   "mimetype": "text/x-python",
   "name": "python",
   "nbconvert_exporter": "python",
   "pygments_lexer": "ipython2",
   "version": "2.7.9"
  }
 },
 "nbformat": 4,
 "nbformat_minor": 0
}
