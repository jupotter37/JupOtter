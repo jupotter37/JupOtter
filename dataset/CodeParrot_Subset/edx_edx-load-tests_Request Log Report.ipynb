{
 "cells": [
  {
   "cell_type": "code",
   "execution_count": null,
   "metadata": {
    "collapsed": false
   },
   "outputs": [],
   "source": [
    "# Set up imports\n",
    "\n",
    "import os\n",
    "import glob\n",
    "import itertools\n",
    "\n",
    "import pandas as pd\n",
    "import seaborn"
   ]
  },
  {
   "cell_type": "code",
   "execution_count": null,
   "metadata": {
    "collapsed": false
   },
   "outputs": [],
   "source": [
    "# Set up plotting\n",
    "\n",
    "%matplotlib inline\n",
    "\n",
    "import matplotlib\n",
    "import matplotlib.pyplot as plt"
   ]
  },
  {
   "cell_type": "code",
   "execution_count": null,
   "metadata": {
    "collapsed": false
   },
   "outputs": [],
   "source": [
    "# Custom overrides when running the notebook manually - uncomment and edit\n",
    "os.environ['REQUEST_SAMPLE'] = '1000'\n",
    "os.environ['REQUESTS_PATTERN'] = '/home/cpennington/work/loadtests/csm/2015-09-16-soak-with-gets-and-sets/requests-*'\n",
    "#os.environ['REQUESTS_PATTERN'] = '/home/cpennington/work/edx-load-tests/requests-*'"
   ]
  },
  {
   "cell_type": "code",
   "execution_count": null,
   "metadata": {
    "collapsed": false
   },
   "outputs": [],
   "source": [
    "# Use globbing to find the list of request logs\n",
    "request_log_pattern = os.environ.get('REQUESTS_PATTERN', './requests-*')\n",
    "request_logs = glob.glob(request_log_pattern)"
   ]
  },
  {
   "cell_type": "code",
   "execution_count": null,
   "metadata": {
    "collapsed": false,
    "scrolled": false
   },
   "outputs": [],
   "source": [
    "sample_rate = int(os.environ.get('REQUEST_SAMPLE', 1))\n",
    "\n",
    "# Read the raw request logs\n",
    "raw_requests = pd.DataFrame()\n",
    "\n",
    "chunk_size = 10000\n",
    "\n",
    "if request_logs:\n",
    "    for log in request_logs:\n",
    "        for chunk_ix, chunk in enumerate(pd.read_csv(log, chunksize=chunk_size)):\n",
    "            starting_row = (chunk_ix * chunk_size) % sample_rate \n",
    "            raw_requests = raw_requests.append(chunk.iloc[starting_row::sample_rate])\n",
    "            \n",
    "\n",
    "raw_requests.loc[:,\"bucket\"] = pd.cut(raw_requests['start_time'], 50)\n",
    "raw_requests"
   ]
  },
  {
   "cell_type": "code",
   "execution_count": null,
   "metadata": {
    "collapsed": false,
    "scrolled": false
   },
   "outputs": [],
   "source": [
    "requests = raw_requests[[\"request_type\", \"name\", \"result\", \"response_time\", \"bucket\", \"start_time\"]]\n",
    "\n",
    "grid = seaborn.FacetGrid(\n",
    "    data=requests,\n",
    "    row=\"name\",\n",
    "    col=\"result\",\n",
    "    margin_titles=True,\n",
    "    sharey=False,\n",
    "    size=10,\n",
    "    aspect=2,\n",
    ")\n",
    "grid = grid.map(seaborn.boxplot, \"bucket\", \"response_time\", whis=[5, 95])\n",
    "grid.set_xticklabels(\n",
    "        [pd.to_datetime(min(requests['start_time']), unit=\"s\")] +\n",
    "        48*[''] +\n",
    "        [pd.to_datetime(max(requests['start_time']), unit=\"s\")],\n",
    "        rotation=90\n",
    "    )\n",
    "\n",
    "grid = seaborn.FacetGrid(\n",
    "    data=requests,\n",
    "    row=\"name\",\n",
    "    col=\"result\",\n",
    "    margin_titles=True,\n",
    "    sharey=False,\n",
    "    size=10,\n",
    "    aspect=2,\n",
    ")\n",
    "grid = grid.map(seaborn.boxplot, \"bucket\", \"response_time\", showfliers=False, whis=[5, 95])\n",
    "grid.set_xticklabels(\n",
    "        [pd.to_datetime(min(requests['start_time']), unit=\"s\")] +\n",
    "        48*[''] +\n",
    "        [pd.to_datetime(max(requests['start_time']), unit=\"s\")],\n",
    "        rotation=90\n",
    "    )"
   ]
  },
  {
   "cell_type": "code",
   "execution_count": null,
   "metadata": {
    "collapsed": true
   },
   "outputs": [],
   "source": []
  }
 ],
 "metadata": {
  "kernelspec": {
   "display_name": "Python 2",
   "language": "python",
   "name": "python2"
  },
  "language_info": {
   "codemirror_mode": {
    "name": "ipython",
    "version": 2
   },
   "file_extension": ".py",
   "mimetype": "text/x-python",
   "name": "python",
   "nbconvert_exporter": "python",
   "pygments_lexer": "ipython2",
   "version": "2.7.9"
  }
 },
 "nbformat": 4,
 "nbformat_minor": 0
}
