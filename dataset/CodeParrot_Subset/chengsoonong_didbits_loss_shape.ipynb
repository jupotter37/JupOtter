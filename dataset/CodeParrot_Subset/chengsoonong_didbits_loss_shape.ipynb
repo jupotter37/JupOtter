{
 "cells": [
  {
   "cell_type": "markdown",
   "metadata": {},
   "source": [
    "# Shape of loss functions"
   ]
  },
  {
   "cell_type": "code",
   "execution_count": 1,
   "metadata": {},
   "outputs": [],
   "source": [
    "import matplotlib.pyplot as plt\n",
    "import numpy as np\n",
    "\n",
    "%matplotlib inline"
   ]
  },
  {
   "cell_type": "code",
   "execution_count": 2,
   "metadata": {
    "collapsed": true
   },
   "outputs": [],
   "source": [
    "t = np.arange(-3,3,0.01)"
   ]
  },
  {
   "cell_type": "code",
   "execution_count": 3,
   "metadata": {
    "collapsed": true
   },
   "outputs": [],
   "source": [
    "def hinge_loss(t):\n",
    "    \"\"\"Hinge loss is used by the Support Vector Machine\"\"\"\n",
    "    return np.maximum(0, 1-t)"
   ]
  },
  {
   "cell_type": "code",
   "execution_count": 4,
   "metadata": {},
   "outputs": [
    {
     "data": {
      "image/png": "[encoded data removed]",
      "text/plain": [
       "<matplotlib.figure.Figure at 0x10bdefe48>"
      ]
     },
     "metadata": {},
     "output_type": "display_data"
    }
   ],
   "source": [
    "loss = hinge_loss(t)\n",
    "fig = plt.figure(figsize=(6,6))\n",
    "ax = fig.add_subplot(111)\n",
    "ax.plot(t, loss)\n",
    "ax.set_xlabel('$t$')\n",
    "ax.set_ylabel('max{0, 1-$t$}')\n",
    "plt.savefig('hinge_loss.pdf')"
   ]
  },
  {
   "cell_type": "markdown",
   "metadata": {
    "collapsed": true
   },
   "source": [
    "# Smoothing\n",
    "\n",
    "If we are interested in applying gradient methods such as L-BFGS, and do not want to resort to subgradient methods, we need to smooth the kink in the hinge loss. The approach we take here is to compute the conjugate of the hinge loss, then add a proximal term ($\\ell_2$ penalty), and then compute the conjugate of that to obtain the smooth primal hinge loss."
   ]
  },
  {
   "cell_type": "markdown",
   "metadata": {},
   "source": [
    "Recall that the hinge loss is given by\n",
    "$$\n",
    "L(\\alpha) = \\max\\{0, 1-\\alpha\\}\n",
    "$$\n",
    "The convex conjugate of $L(\\alpha)$ is\n",
    "\\begin{align}\n",
    "L^*(\\beta) &= \\sup_{\\alpha\\in\\mathbb{R}} \\left\\{ \\alpha\\beta - \\max\\{0, 1-\\alpha\\} \\right\\}\\\\\n",
    "&=\n",
    "    \\begin{cases}\n",
    "       \\beta & \\mathrm{if}\\quad -1\\leqslant \\beta \\leqslant 0,\\\\\n",
    "       \\infty & \\mathrm{otherwise}\n",
    "    \\end{cases}\n",
    "\\end{align}\n",
    "The smoothed conjugate is\n",
    "$$\n",
    "L_\\gamma^*(\\beta) = L^*(\\beta) + \\frac{\\gamma}{2} \\beta^2.\n",
    "$$\n",
    "The corresponding primal smooth hinge loss is given by\n",
    "\\begin{align}\n",
    "L_\\gamma(\\alpha) &=\\sup_{-1\\leqslant \\beta\\leqslant 0} \\left\\{ \\alpha\\beta- \\beta - \\frac{\\gamma}{2}\\beta^2 \\right\\}\\\\\n",
    "&=\n",
    "    \\begin{cases}\n",
    "        1-\\alpha-\\frac{\\gamma}{2}&\\mathrm{if}\\quad \\alpha < 1-\\gamma,\\\\\n",
    "        \\frac{(\\alpha-1)^2}{2\\gamma}&\\mathrm{if}\\quad 1-\\gamma \\leqslant \\alpha \\leqslant 1,\\\\\n",
    "        0&\\mathrm{if}\\quad \\alpha > 1.\n",
    "    \\end{cases}\n",
    "\\end{align}\n",
    "$L_\\gamma(\\alpha)$ is convex and differentiable with the derivative\n",
    "$$\n",
    "L_\\gamma'(\\alpha) =\n",
    "\\begin{cases}\n",
    "    -1&\\mathrm{if}\\quad \\alpha < 1-\\gamma,\\\\\n",
    "    \\frac{\\alpha-1}{\\gamma}&\\mathrm{if}\\quad 1-\\gamma\\leqslant \\alpha\\leqslant 1,\\\\\n",
    "    0&\\mathrm{if}\\quad \\alpha > 1.\n",
    "\\end{cases}\n",
    "$$"
   ]
  },
  {
   "cell_type": "code",
   "execution_count": null,
   "metadata": {},
   "outputs": [],
   "source": []
  }
 ],
 "metadata": {
  "kernelspec": {
   "display_name": "Python [conda root]",
   "language": "python",
   "name": "conda-root-py"
  },
  "language_info": {
   "codemirror_mode": {
    "name": "ipython",
    "version": 3
   },
   "file_extension": ".py",
   "mimetype": "text/x-python",
   "name": "python",
   "nbconvert_exporter": "python",
   "pygments_lexer": "ipython3",
   "version": "3.5.4"
  }
 },
 "nbformat": 4,
 "nbformat_minor": 2
}
