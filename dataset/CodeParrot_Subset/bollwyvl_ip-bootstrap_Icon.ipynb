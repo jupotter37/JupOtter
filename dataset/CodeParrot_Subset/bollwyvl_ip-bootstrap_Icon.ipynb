{
 "metadata": {
  "kernelspec": {
   "codemirror_mode": {
    "name": "ipython",
    "version": 2
   },
   "display_name": "IPython (Python 2)",
   "language": "python",
   "name": "python2"
  },
  "name": "",
  "signature": "sha256:3750f8241a7bc893fc23e1a26548ac719f94f5560854baf00fe101a1aaabd751"
 },
 "nbformat": 3,
 "nbformat_minor": 0,
 "worksheets": [
  {
   "cells": [
    {
     "cell_type": "markdown",
     "metadata": {},
     "source": [
      "# [Icon](http://fortawesome.github.io/Font-Awesome/examples/)"
     ]
    },
    {
     "cell_type": "code",
     "collapsed": false,
     "input": [
      "from IPython.html import widgets\n",
      "from ipbs.widgets import Icon\n",
      "import ipbs.bootstrap as bs\n",
      "from ipbs.icons import FontAwesome, Size"
     ],
     "language": "python",
     "metadata": {},
     "outputs": [],
     "prompt_number": 1
    },
    {
     "cell_type": "markdown",
     "metadata": {},
     "source": [
      "First, grab a `FontAwesome` instance which knows about all of the icons."
     ]
    },
    {
     "cell_type": "code",
     "collapsed": false,
     "input": [
      "fa = FontAwesome()"
     ],
     "language": "python",
     "metadata": {},
     "outputs": [],
     "prompt_number": 2
    },
    {
     "cell_type": "markdown",
     "metadata": {},
     "source": [
      "`fa` exposes Python-friendly, autocompletable names for all of the FontAwesome icons, and you can preview them immediately."
     ]
    },
    {
     "cell_type": "code",
     "collapsed": false,
     "input": [
      "fa.space_shuttle"
     ],
     "language": "python",
     "metadata": {},
     "outputs": [
      {
       "html": [
        "<i class=\"fa fa-space-shuttle\">"
       ],
       "metadata": {},
       "output_type": "pyout",
       "prompt_number": 3,
       "text": [
        "fa fa-space-shuttle"
       ]
      }
     ],
     "prompt_number": 3
    },
    {
     "cell_type": "markdown",
     "metadata": {},
     "source": [
      "You can apply effects like rotation and scaling."
     ]
    },
    {
     "cell_type": "code",
     "collapsed": false,
     "input": [
      "fa.space_shuttle.rotate_270 * 3"
     ],
     "language": "python",
     "metadata": {},
     "outputs": [
      {
       "html": [
        "<i class=\"fa fa-space-shuttle fa-rotate-270 fa-3x\">"
       ],
       "metadata": {},
       "output_type": "pyout",
       "prompt_number": 4,
       "text": [
        "fa fa-space-shuttle fa-rotate-270 fa-3x"
       ]
      }
     ],
     "prompt_number": 4
    },
    {
     "cell_type": "markdown",
     "metadata": {},
     "source": [
      "The actual widget supports the stack case, such that you can display a single icon..."
     ]
    },
    {
     "cell_type": "code",
     "collapsed": false,
     "input": [
      "icon = Icon(fa.space_shuttle)\n",
      "icon"
     ],
     "language": "python",
     "metadata": {},
     "outputs": [
      {
       "javascript": [
        "IPython.load_extensions(\"ipbs/js/IconView\");"
       ],
       "metadata": {},
       "output_type": "display_data",
       "text": [
        "<IPython.core.display.Javascript object>"
       ]
      }
     ],
     "prompt_number": 5
    },
    {
     "cell_type": "markdown",
     "metadata": {},
     "source": [
      "Or several icons stacked together..."
     ]
    },
    {
     "cell_type": "code",
     "collapsed": false,
     "input": [
      "icon = Icon(fa.square * 2, fa.empire.context_inverse, size=Size.x3)\n",
      "icon"
     ],
     "language": "python",
     "metadata": {},
     "outputs": [
      {
       "javascript": [
        "IPython.load_extensions(\"ipbs/js/IconView\");"
       ],
       "metadata": {},
       "output_type": "display_data",
       "text": [
        "<IPython.core.display.Javascript object>"
       ]
      }
     ],
     "prompt_number": 7
    }
   ],
   "metadata": {}
  }
 ]
}