{
 "cells": [
  {
   "cell_type": "markdown",
   "metadata": {
    "deletable": true,
    "editable": true
   },
   "source": [
    "# How to move data to/from your Nimbix Cloud machine.\n",
    "\n",
    "This tutorial shows you how to use the `pysftp` client to move data to/from your Nimbix cloud machine. \n",
    "\n",
    "This will be especially useful for moving data between your IBM Apache Spark service and your IBM PowerAI system available during the Hackathon. \n",
    "\n",
    "https://pysftp.readthedocs.io/en/release_0.2.9/#\n",
    "\n",
    "**Important for hackathon participants using the PowerAI systems. When those machines are shut down, all data in your local user space will be lost. So, be sure to save your work!**\n",
    "\n",
    "**BUG: It was recently found that installing `pysftp` breaks the `python-swiftclient`, which is used to transfer data to Object Storage. If you install `pysftp` and then wish to resume using `python-swiftclient` you'll need to:**\n",
    "\n",
    "  * !pip uninstall -y pysftp\n",
    "  * !pip uninstall -y paramiko\n",
    "  * !pip uninstall -y pyasn1\n",
    "  * !pip uninstall -y cryptography"
   ]
  },
  {
   "cell_type": "code",
   "execution_count": null,
   "metadata": {
    "collapsed": true,
    "deletable": true,
    "editable": true
   },
   "outputs": [],
   "source": [
    "#!pip install --user pysftp\n",
    "#restart your kernel"
   ]
  },
  {
   "cell_type": "code",
   "execution_count": null,
   "metadata": {
    "collapsed": true,
    "deletable": true,
    "editable": true
   },
   "outputs": [],
   "source": [
    "import pysftp "
   ]
  },
  {
   "cell_type": "markdown",
   "metadata": {
    "deletable": true,
    "editable": true
   },
   "source": [
    "## Create Local File Space"
   ]
  },
  {
   "cell_type": "code",
   "execution_count": null,
   "metadata": {
    "collapsed": true,
    "deletable": true,
    "editable": true
   },
   "outputs": [],
   "source": [
    "mydatafolder = os.environ['PWD'] + '/' + 'my_team_name_data_folder'"
   ]
  },
  {
   "cell_type": "code",
   "execution_count": null,
   "metadata": {
    "collapsed": true,
    "deletable": true,
    "editable": true
   },
   "outputs": [],
   "source": [
    "# THIS DISABLES HOST KEY CHECKING!  Should be okay for our temporary running machines though.\n",
    "cnopts = pysftp.CnOpts()\n",
    "cnopts.hostkeys = None"
   ]
  },
  {
   "cell_type": "code",
   "execution_count": null,
   "metadata": {
    "collapsed": true,
    "deletable": true,
    "editable": true
   },
   "outputs": [],
   "source": [
    "#Get this from your Nimbix machine (or other cloud service provider!)\n",
    "hostname='NAE-xxxx.jarvice.com'\n",
    "username='nimbix'\n",
    "password='xx'"
   ]
  },
  {
   "cell_type": "markdown",
   "metadata": {
    "deletable": true,
    "editable": true
   },
   "source": [
    "## PUT a file\n",
    "\n",
    "If you follow the Step 3 tutorial, you will have created some zip files containing the PNGs. These will be located in your `my_team_name_data_folder/zipfiles/` directory. "
   ]
  },
  {
   "cell_type": "code",
   "execution_count": null,
   "metadata": {
    "collapsed": true,
    "deletable": true,
    "editable": true
   },
   "outputs": [],
   "source": [
    "with pysftp.Connection(hostname, username=username, password=password, cnopts=cnopts) as sftp:\n",
    "        sftp.put(mydatafolder + '/zipfiles/classification_6_noise.zip')  # upload file to remote"
   ]
  },
  {
   "cell_type": "markdown",
   "metadata": {
    "deletable": true,
    "editable": true
   },
   "source": [
    "## GET a file \n",
    "\n",
    "First, I define a separate location to hold files I get from remote. "
   ]
  },
  {
   "cell_type": "code",
   "execution_count": null,
   "metadata": {
    "collapsed": true,
    "deletable": true,
    "editable": true
   },
   "outputs": [],
   "source": [
    "fromnimbixfolder = mydatafolder + '/fromnimbix'\n",
    "if os.path.exists(fromnimbixfolder) is False:\n",
    "    os.makedirs(fromnimbixfolder)"
   ]
  },
  {
   "cell_type": "code",
   "execution_count": null,
   "metadata": {
    "collapsed": true,
    "deletable": true,
    "editable": true
   },
   "outputs": [],
   "source": [
    "with pysftp.Connection(hostname, username=username, password=password, cnopts=cnopts) as sftp:\n",
    "    with pysftp.cd(fromnimbixfolder):\n",
    "        sftp.get('test.csv')  #data in local HOME space\n",
    "        sftp.get('/data/my_team_name_data_folder/our_results.csv') #data in persistent Nimbix Cloud storage"
   ]
  }
 ],
 "metadata": {
  "kernelspec": {
   "display_name": "Python 2",
   "language": "python",
   "name": "python2"
  },
  "language_info": {
   "codemirror_mode": {
    "name": "ipython",
    "version": 2
   },
   "file_extension": ".py",
   "mimetype": "text/x-python",
   "name": "python",
   "nbconvert_exporter": "python",
   "pygments_lexer": "ipython2",
   "version": "2.7.13"
  }
 },
 "nbformat": 4,
 "nbformat_minor": 2
}
