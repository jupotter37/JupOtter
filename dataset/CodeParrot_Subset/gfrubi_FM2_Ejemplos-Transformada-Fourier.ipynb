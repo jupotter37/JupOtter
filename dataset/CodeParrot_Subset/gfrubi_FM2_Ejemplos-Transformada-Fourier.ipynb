{
 "cells": [
  {
   "cell_type": "markdown",
   "metadata": {},
   "source": [
    "# Ejemplos de transformadas de Fourier:\n",
    "\n",
    "En el presente notebook se han definido y graficado diversas funciones y sus correspondientes transformadas de Fourier."
   ]
  },
  {
   "cell_type": "code",
   "execution_count": 2,
   "metadata": {},
   "outputs": [],
   "source": [
    "%matplotlib inline\n",
    "import numpy as np\n",
    "import matplotlib.pyplot as plt\n",
    "from ipywidgets import interact"
   ]
  },
  {
   "cell_type": "code",
   "execution_count": 3,
   "metadata": {},
   "outputs": [],
   "source": [
    "plt.style.use('classic')"
   ]
  },
  {
   "cell_type": "markdown",
   "metadata": {},
   "source": [
    "# Pulso cuadrado:\n",
    "Sea \n",
    "$$\n",
    "f(x):=\\left\\{\n",
    "\\begin{matrix}\n",
    "1, &\\rm{si}\\quad |x|<a \\\\\n",
    "0, &\\rm{si}\\quad|x|>a \\\\\n",
    "\\end{matrix}\\right. ,\n",
    "$$\n",
    "\n",
    "con transformada de Fourier\n",
    "$$\n",
    "{\\cal F}[f](k)=2\\frac{\\sin(k a)}{k}.\n",
    "$$"
   ]
  },
  {
   "cell_type": "code",
   "execution_count": 4,
   "metadata": {},
   "outputs": [],
   "source": [
    "def p(x,a):\n",
    "    if abs(x)<a:\n",
    "        return 1.\n",
    "    else:\n",
    "        return 0.\n",
    "pulso = np.vectorize(p) #vectorizando la función pulso"
   ]
  },
  {
   "cell_type": "markdown",
   "metadata": {},
   "source": [
    "Definimos 1000 puntos en el intervalo $[-\\pi,\\pi]$:"
   ]
  },
  {
   "cell_type": "code",
   "execution_count": 5,
   "metadata": {},
   "outputs": [],
   "source": [
    "x = np.linspace(-10,10,1000)\n",
    "k = np.linspace(-10,10,1000)"
   ]
  },
  {
   "cell_type": "code",
   "execution_count": 6,
   "metadata": {},
   "outputs": [],
   "source": [
    "def p(a=1):\n",
    "    plt.figure(figsize=(12,5))\n",
    "    plt.subplot(1,2,1)\n",
    "    #fig,ej=subplots(1,2,figsize=(14,5))\n",
    "    plt.plot(x,pulso(x,a), lw = 2)\n",
    "    plt.xlim(-10,10)\n",
    "    plt.ylim(-.1,1.1)\n",
    "    plt.grid(True)\n",
    "    plt.xlabel(r'$x$',fontsize=15)\n",
    "    plt.ylabel(r'$f(x)$',fontsize=15)\n",
    "    plt.subplot(1,2,2)\n",
    "    plt.plot(k,2*(np.sin(k*a)/k), lw = 2)\n",
    "    plt.xlim(-10,10)\n",
    "    plt.grid(True)\n",
    "    plt.xlabel('$k$',fontsize=15)\n",
    "    plt.ylabel('$\\\\tilde{f}(k)$',fontsize=15)"
   ]
  },
  {
   "cell_type": "code",
   "execution_count": 7,
   "metadata": {},
   "outputs": [],
   "source": [
    "#p(5)\n",
    "#plt.savefig('fig-transformada-Fourier-pulso-cuadrado.pdf')"
   ]
  },
  {
   "cell_type": "code",
   "execution_count": 8,
   "metadata": {},
   "outputs": [
    {
     "data": {
      "application/vnd.jupyter.widget-view+json": {
       "model_id": "cf8f50501bf847a9933663ed4f64a63e",
       "version_major": 2,
       "version_minor": 0
      },
      "text/plain": [
       "interactive(children=(IntSlider(value=1, description='a', max=10, min=1), Output()), _dom_classes=('widget-int…"
      ]
     },
     "metadata": {},
     "output_type": "display_data"
    },
    {
     "data": {
      "text/plain": [
       "<function __main__.p(a=1)>"
      ]
     },
     "execution_count": 8,
     "metadata": {},
     "output_type": "execute_result"
    }
   ],
   "source": [
    "interact(p, a=(1,10))"
   ]
  },
  {
   "cell_type": "markdown",
   "metadata": {},
   "source": [
    "# Función Guassiana"
   ]
  },
  {
   "cell_type": "markdown",
   "metadata": {},
   "source": [
    "Sea \n",
    "$$\n",
    "f(x):=e^{-\\alpha x^2}, \\qquad \\alpha>0,\n",
    "$$\n",
    "con transformada de Fourier\n",
    "$$\n",
    "{\\cal F}[f](k)=\\sqrt{\\frac{\\pi}{\\alpha}}e^{-k^2/(4\\alpha)}.\n",
    "$$"
   ]
  },
  {
   "cell_type": "code",
   "execution_count": 9,
   "metadata": {},
   "outputs": [],
   "source": [
    "def gaussina(alpha=1):\n",
    "    plt.figure(figsize=(12,5))\n",
    "    plt.subplot(1,2,1)\n",
    "    plt.plot(x,np.exp(-alpha*x**2), lw=2)\n",
    "    plt.xlim(-3,3)\n",
    "    plt.grid(True)\n",
    "    plt.xlabel('$x$',fontsize=15)\n",
    "    plt.ylabel('$f(x)$',fontsize=15)\n",
    "    plt.subplot(1,2,2)\n",
    "    plt.plot(k,np.sqrt(np.pi/alpha)*np.exp(-k**2/(4.*alpha)), lw=2)\n",
    "    plt.xlim(-10,10)\n",
    "    plt.ylim(0,2)\n",
    "    plt.grid(True)\n",
    "    plt.xlabel('$k$',fontsize=15)\n",
    "    plt.ylabel('$\\\\tilde{f}(k)$',fontsize=15)"
   ]
  },
  {
   "cell_type": "code",
   "execution_count": 10,
   "metadata": {},
   "outputs": [
    {
     "data": {
      "application/vnd.jupyter.widget-view+json": {
       "model_id": "4c573098bfe648d1baf7f39010f33142",
       "version_major": 2,
       "version_minor": 0
      },
      "text/plain": [
       "interactive(children=(IntSlider(value=1, description='alpha', max=50, min=1), Output()), _dom_classes=('widget…"
      ]
     },
     "metadata": {},
     "output_type": "display_data"
    },
    {
     "data": {
      "text/plain": [
       "<function __main__.gaussina(alpha=1)>"
      ]
     },
     "execution_count": 10,
     "metadata": {},
     "output_type": "execute_result"
    }
   ],
   "source": [
    "interact(gaussina, alpha=(1,50))"
   ]
  },
  {
   "cell_type": "code",
   "execution_count": 11,
   "metadata": {},
   "outputs": [],
   "source": [
    "#gaussina(5)\n",
    "#plt.savefig('fig-transformada-Fourier-gaussiana.pdf')"
   ]
  }
 ],
 "metadata": {
  "kernelspec": {
   "display_name": "Python 3",
   "language": "python",
   "name": "python3"
  },
  "language_info": {
   "codemirror_mode": {
    "name": "ipython",
    "version": 3
   },
   "file_extension": ".py",
   "mimetype": "text/x-python",
   "name": "python",
   "nbconvert_exporter": "python",
   "pygments_lexer": "ipython3",
   "version": "3.6.7"
  },
  "widgets": {
   "state": {
    "144e4a5649d948dda3eb4a3e01528ab6": {
     "views": [
      {
       "cell_index": 12
      }
     ]
    },
    "434a9a3732054616a7bfebb1b18f4b86": {
     "views": [
      {
       "cell_index": 8
      }
     ]
    }
   },
   "version": "1.2.0"
  }
 },
 "nbformat": 4,
 "nbformat_minor": 1
}
