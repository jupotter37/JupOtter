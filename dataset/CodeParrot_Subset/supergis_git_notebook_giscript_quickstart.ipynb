{
 "cells": [
  {
   "cell_type": "markdown",
   "metadata": {},
   "source": [
    "# GIScript－开放地理空间信息处理与分析Python库\n",
    "**GIScript**是一个开放的地理空间心处理与分析Python框架，GIS内核采用SuperMap UGC封装，集成多种开源软件，也可以使用其它的商业软件引擎。  \n",
    "_ by wangerqi@supermap.com, 2016-05-03。_\n",
    "\n",
    "#### 本文档介绍GIScript的安装和配置，并进行简单的运行测试，以确认安装的软件正常运行。\n",
    "* 本教程基于Anaconda3+python3.5.1科学计算环境，请参考：http://www.anaconda.org 。\n",
    "* 本Notebook在Ubuntu 14.04/15.10/16.04运行通过，在本地服务器和阿里云服务器都可以运行。\n",
    "* 可以在[NBViewer上直接访问和下载本文档](http://nbviewer.jupyter.org/github/supergis/git_notebook/blob/master/geospatial/giscript/giscript_quickstart.ipynb\n",
    ")。"
   ]
  },
  {
   "cell_type": "markdown",
   "metadata": {},
   "source": [
    "## （一）安装与配置\n",
    "GIScript的安装包括<font color=\"blue\">**系统库的设置**、**UGC Runtime设置**和**Python库**</font>的设置，通过编写一个启动脚本，可以在给定环境下载入相应的运行库的路径。\n",
    "#### 1、下载GIScript支持库：\n",
    "```\n",
    "cd /home/supermap/GISpark\n",
    "git clone https://github.com/supergis/GIScriptLib.git\n",
    "```\n",
    "\n",
    "#### 2、UGC系统库的版本适配。\n",
    "由于GIScript的几个编译库版本较新，在默认使用系统老版本库时部分函数找不到会引起调用失败，因此需要将这几个的系统调用指向到GIScript编译使用的的新版本。在Ubuntu上，具体操作包括：\n",
    "```\n",
    "cd ~/anaconda3/envs/GISpark/lib\n",
    "mv libstdc++.so libstdc++.so.x\n",
    "mv libstdc++.so.6 libstdc++.so.6.x\n",
    "mv libsqlite3.so.0 libsqlite3.so.0.x\n",
    "mv libsqlite3.so libsqlite3.so.x\n",
    "mv libgomp.so.1.0.0 libgomp.so.1.0.0.x\n",
    "mv libgomp.so.1 libgomp.so.1.x\n",
    "mv libgomp.so libgomp.so.x\n",
    "```\n",
    "* _可以运行GIScriptLib/lib-giscript-x86-linux64/下的setup-giscript.sh来自动处理(请根据自己的目录布局修改路径)。_\n",
    "* _由于不同系统安装的软件和版本不同，如果还有其它的动态库冲突，可以使用ldd \\*.so来查看库的依赖关系，按照上述办法解决。_\n",
    "\n",
    "#### 3、安装Python的支持库。\n",
    "GIScript的Python封装库，默认存放在系统目录：/usr/lib/python3/dist-packages/PyUGC  \n",
    "使用Anaconda时，存在相应的env的目录下，如：[/home/supermap/Anaconda3]/envs/GISpark/lib/python3.5/site-packages    \n",
    "* **安装方法一：链接。**在[...]/python3.5/site-packages下建立PyUGC的软连接。注意，原文件不可删除，否则就找不到了。\n",
    "```\n",
    "ln -s -f /home/supermap/GISpark/GIScriptLib/lib-giscript-x86-linux64/lib ~/anaconda3/envs/GISpark/lib/python3.5/site-packages/PyUGC\n",
    "```\n",
    "* **安装方法二：复制。**将lib-giscript-x86-linux64/lib（Python的UGC封装库）复制为Python下的site-packages/PyUGC目录，如下： \n",
    "```\n",
    "cd /home/supermap/GISpark/GIScriptLib\n",
    "cp -r lib-giscript-x86-linux64/lib ~/anaconda3/envs/GISpark/lib/python3.5/site-packages/PyUGC\n",
    "```\n",
    "\n",
    "#### 4、Jupyter启动之前，设置GIScript运行时 library 载入的路径:\n",
    "*  **编写脚本，启动前设置GIScript的运行时动态库路径，内容如下：**  \n",
    "\n",
    "```\n",
    "echo \"Config GIScript2016...\"\n",
    "\n",
    "# 使用GIScript2015的开发工程目录，配置示例：\n",
    "# export SUPERMAP_HOME=/home/supermap/GIScript/GIScript2015/Linux64-gcc4.9\n",
    "\n",
    "# 使用GIScriptLib运行时动态库，配置如下：\n",
    "export SUPERMAP_HOME=/home/supermap/GISpark/GIScriptLib/lib-giscript-x86-linux64\n",
    "export LD_LIBRARY_PATH=$SUPERMAP_HOME/Bin:$LD_LIBRARY_PATH\n",
    "echo \"Config: LD_LIBRARY_PATH＝\"$LD_LIBRARY_PATH\n",
    "```\n",
    "\n",
    "* **将上面的内容与Jupyter启动命令放到start.sh脚本中，如下:**\n",
    "\n",
    "```\n",
    "echo \"Activate conda enviroment GISpark ...\"\n",
    "source activate GISpark\n",
    "\n",
    "echo \"Config GIScript 2016 for Jupyter ...\"\n",
    "export SUPERMAP_HOME=/home/supermap/GISpark/GIScriptLib/lib-giscript-x86-linux64\n",
    "export LD_LIBRARY_PATH=$SUPERMAP_HOME/bin:/usr/lib/x86_64-linux-gnu/:$LD_LIBRARY_PATH\n",
    "echo \"Config: LD_LIBRARY_PATH=\"$LD_LIBRARY_PATH\n",
    "\n",
    "echo \"Start Jupyter notebook\"\n",
    "jupyter notebook\n",
    "```\n",
    "\n",
    "* **修改start.sh执行权限，运行Jupyter Notebook。**\n",
    "```\n",
    "sudo chmod +x start.sh\n",
    "./start.sh\n",
    "```\n",
    "\n",
    "默认配置下，将会自动打开浏览器，就可以开始使用Jupyter Notebook并调用GIScript的库了。   \n",
    "如果通过服务器使用，需要使用｀jupyter notebook --generate-config｀创建配置文件，然后进去修改参数，这里不再详述。"
   ]
  },
  {
   "cell_type": "markdown",
   "metadata": {
    "collapsed": false
   },
   "source": [
    "## （二）运行测试，导入一些数据。\n",
    "#### 1、导入GIScript的Python库。"
   ]
  },
  {
   "cell_type": "code",
   "execution_count": 1,
   "metadata": {
    "collapsed": false
   },
   "outputs": [],
   "source": [
    "from PyUGC import *  \n",
    "from PyUGC.Stream import UGC  \n",
    "from PyUGC.Base import OGDC  \n",
    "from PyUGC import Engine  \n",
    "from PyUGC import FileParser  \n",
    "from PyUGC import DataExchange  \n",
    "\n",
    "import datasource"
   ]
  },
  {
   "cell_type": "markdown",
   "metadata": {},
   "source": [
    "##### 2、使用Python的help(...)查看库的元数据信息获得帮助。"
   ]
  },
  {
   "cell_type": "code",
   "execution_count": 9,
   "metadata": {
    "collapsed": false
   },
   "outputs": [],
   "source": [
    "#help(UGC)\n",
    "#help(OGDC)\n",
    "#help(datasource)"
   ]
  },
  {
   "cell_type": "markdown",
   "metadata": {},
   "source": [
    "#### 3、设置测试数据目录。"
   ]
  },
  {
   "cell_type": "code",
   "execution_count": 2,
   "metadata": {
    "collapsed": false
   },
   "outputs": [
    {
     "name": "stdout",
     "output_type": "stream",
     "text": [
      "Data path:  /home/supermap/GISpark/git_notebook/geospatial/giscript/../data\n",
      "Data file:  /home/supermap/GISpark/git_notebook/geospatial/giscript/../data/Shape/countries.shp\n",
      "Data file:  /home/supermap/GISpark/git_notebook/geospatial/giscript/../data/Raster/astronaut(CMYK)_32.tif\n",
      "Data file:  /home/supermap/GISpark/git_notebook/geospatial/giscript/../data/Grid/grid_Int32.grd\n",
      "Output UDB:  /home/supermap/GISpark/git_notebook/geospatial/giscript/../data/GIScript_Test.udb\n"
     ]
    }
   ],
   "source": [
    "import os\n",
    "\n",
    "basepath = os.path.join(os.getcwd(),\"../data\")\n",
    "print(\"Data path: \", basepath)\n",
    "\n",
    "file1 = basepath + u\"/Shape/countries.shp\"\n",
    "print(\"Data file: \", file1)\n",
    "\n",
    "file2 = basepath + u\"/Raster/astronaut(CMYK)_32.tif\"\n",
    "print(\"Data file: \", file2)\n",
    "\n",
    "file3 = basepath + u\"/Grid/grid_Int32.grd\"\n",
    "print(\"Data file: \", file3)\n",
    "\n",
    "datapath_out = basepath + u\"/GIScript_Test.udb\"\n",
    "print(\"Output UDB: \",datapath_out)"
   ]
  },
  {
   "cell_type": "markdown",
   "metadata": {},
   "source": [
    "#### 4、导入数据的测试函数。"
   ]
  },
  {
   "cell_type": "code",
   "execution_count": 3,
   "metadata": {
    "collapsed": false
   },
   "outputs": [],
   "source": [
    "def Import_Test():\n",
    "    print(\"Export to UDB: \",datapath_out)\n",
    "    ds = datasource.CreateDatasource(UGC.UDB,datapath_out)\n",
    "    datasource.ImportVector(file1,ds)\n",
    "    datasource.ImportRaster(file2,ds)\n",
    "    datasource.ImportGrid(file3,ds)\n",
    "    ds.Close()\n",
    "    del ds\n",
    "    print(\"Finished.\")"
   ]
  },
  {
   "cell_type": "markdown",
   "metadata": {},
   "source": [
    "#### 5、运行这个测试。"
   ]
  },
  {
   "cell_type": "code",
   "execution_count": 4,
   "metadata": {
    "collapsed": false
   },
   "outputs": [
    {
     "name": "stdout",
     "output_type": "stream",
     "text": [
      "Export to UDB:  /home/supermap/GISpark/git_notebook/geospatial/giscript/../data/GIScript_Test.udb\n",
      "创建数据源成功！！\n",
      "Import Vector:  /home/supermap/GISpark/git_notebook/geospatial/giscript/../data/Shape/countries.shp\n",
      "数据导入成功:Import Vector /home/supermap/GISpark/git_notebook/geospatial/giscript/../data/Shape/countries.shp\n",
      "Import Raster:  /home/supermap/GISpark/git_notebook/geospatial/giscript/../data/Raster/astronaut(CMYK)_32.tif\n",
      "数据导入成功:Import Image /home/supermap/GISpark/git_notebook/geospatial/giscript/../data/Raster/astronaut(CMYK)_32.tif\n",
      "Import Grid:  /home/supermap/GISpark/git_notebook/geospatial/giscript/../data/Grid/grid_Int32.grd\n",
      "数据导入成功:Import Grid /home/supermap/GISpark/git_notebook/geospatial/giscript/../data/Grid/grid_Int32.grd\n",
      "Finished.\n"
     ]
    }
   ],
   "source": [
    "try:\n",
    "    Import_Test()\n",
    "except Exception as ex:\n",
    "    print(ex)\n",
    "    "
   ]
  },
  {
   "cell_type": "markdown",
   "metadata": {},
   "source": [
    "## （三）查看生成的数据源文件UDB。\n",
    "### 下面使用了<font color=\"green\">IPython的Magic操作符 !</font>，可以直接运行操作系统的Shell命令行。"
   ]
  },
  {
   "cell_type": "code",
   "execution_count": 49,
   "metadata": {
    "collapsed": false
   },
   "outputs": [
    {
     "name": "stdout",
     "output_type": "stream",
     "text": [
      "-rw-rw-r-- 1 supermap supermap 5.6M 5月   4 09:46 ../data/GIScript_Test.udb\r\n",
      "-rw-r--r-- 1 supermap supermap  74K 5月   4 09:46 ../data/GIScript_Test.udd\r\n"
     ]
    }
   ],
   "source": [
    "!ls -l -h ../data/GIScript_Test.*"
   ]
  },
  {
   "cell_type": "markdown",
   "metadata": {},
   "source": [
    "### <font color=\"red\">删除生成的测试文件。注意，不要误删其它文件！</font>\n",
    "如果重复运行上面的Import_Test()将会发现GIScript_Test.udb和GIScript_Test.udd文件会不断增大。  \n",
    "但是打开UDB文件却只有一份数据，为什么呢？\n",
    "* **因为UDB文件是增量存储的，不用的存储块需要使用SQLlite的存储空间紧缩处理才能回收。**"
   ]
  },
  {
   "cell_type": "code",
   "execution_count": 46,
   "metadata": {
    "collapsed": true
   },
   "outputs": [],
   "source": [
    "!rm ../data/GIScript_Test.*"
   ]
  },
  {
   "cell_type": "markdown",
   "metadata": {},
   "source": [
    "#### 再次查看目录，文件是否存在。"
   ]
  },
  {
   "cell_type": "code",
   "execution_count": 41,
   "metadata": {
    "collapsed": false
   },
   "outputs": [
    {
     "name": "stdout",
     "output_type": "stream",
     "text": [
      "-rw-rw-r-- 1 supermap supermap  12M 5月   4 09:44 ../data/GIScript_Test.udb\r\n",
      "-rw-r--r-- 1 supermap supermap 122K 5月   4 09:44 ../data/GIScript_Test.udd\r\n"
     ]
    }
   ],
   "source": [
    "!ls -l -h ../data/GIScript_Test.*"
   ]
  },
  {
   "cell_type": "code",
   "execution_count": null,
   "metadata": {
    "collapsed": true
   },
   "outputs": [],
   "source": []
  }
 ],
 "metadata": {
  "kernelspec": {
   "display_name": "Python 3",
   "language": "python",
   "name": "python3"
  },
  "language_info": {
   "codemirror_mode": {
    "name": "ipython",
    "version": 3
   },
   "file_extension": ".py",
   "mimetype": "text/x-python",
   "name": "python",
   "nbconvert_exporter": "python",
   "pygments_lexer": "ipython3",
   "version": "3.5.1"
  }
 },
 "nbformat": 4,
 "nbformat_minor": 0
}
