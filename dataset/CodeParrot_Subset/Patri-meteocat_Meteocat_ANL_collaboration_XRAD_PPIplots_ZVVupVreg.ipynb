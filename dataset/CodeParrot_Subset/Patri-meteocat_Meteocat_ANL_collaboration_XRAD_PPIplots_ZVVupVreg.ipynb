{
 "cells": [
  {
   "cell_type": "markdown",
   "metadata": {},
   "source": [
    "# N-panel plots of IRIS data and velocity dealiasing\n",
    "_______________________________________________________________________________________________\n",
    "\n",
    "This script takes an IRIS raw volume PPI scan file as input and generates a N-panel plot for each sweep in the volume  file. Each of the output plots consists of a row of panels with a panel for each selected data type. The script also uses PyArt dealiasing algorithms (phase unwrap and region based) to correct the Doppler velocity data and add corresponding corrected velocity data fields to the radar object.\n",
    "\n",
    "Here an example with a failure of the unwrap phase algorithm. Region based works nicely though!\n",
    "\n",
    "![description](files/figs/CDV130618145623_el6_Vdealias.png)\n"
   ]
  },
  {
   "cell_type": "code",
   "execution_count": null,
   "metadata": {
    "collapsed": true
   },
   "outputs": [],
   "source": [
    "#! /usr/bin/env python\n",
    "\n",
    "import matplotlib.pyplot as plt\n",
    "import pylab as plb\n",
    "import matplotlib as mpl\n",
    "import pyart\n"
   ]
  },
  {
   "cell_type": "code",
   "execution_count": null,
   "metadata": {
    "collapsed": true
   },
   "outputs": [],
   "source": [
    "## SETTINGS #####################################################################\n",
    "\n",
    "in_path = './data/'\n",
    "out_path = './output/'\n",
    "filename = 'CDV130618145623.RAWCBRF'\n",
    "radar_abbr = filename[:3]\n",
    "\n",
    "lims = [150, 125, 100, 50, 50, 40, 30, 20]\n",
    "\n",
    "sel_data = ['reflectivity', 'velocity', 'corrected_velocity_uwp', 'corrected_velocity_reg']"
   ]
  },
  {
   "cell_type": "code",
   "execution_count": null,
   "metadata": {
    "collapsed": false
   },
   "outputs": [],
   "source": [
    "Ndata = len(sel_data)"
   ]
  },
  {
   "cell_type": "code",
   "execution_count": null,
   "metadata": {
    "collapsed": true
   },
   "outputs": [],
   "source": [
    "## COLORMAP #####################################################################\n",
    "\n",
    "cdict = {'red': ((0.0, 0.0, 0.0),\n",
    "                     (0.25, 0.0, 0.0),\n",
    "                     (0.5, 0.9, 0.9),\n",
    "                     (0.75, 1.0, 1.0),\n",
    "                     (1.0, 1.0, 1.0)),\n",
    "         'green': ((0.0, 0.5, 0.5),\n",
    "                   (0.25, 0., 0.),\n",
    "                   (0.5, 0.9, 0.9),\n",
    "                   (0.75, 0., 0.),\n",
    "                   (1.0, 0.5, 0.5)),\n",
    "         'blue': ((0.0, 1.0, 1.0),\n",
    "                  (0.25, 1., 1.),\n",
    "                  (0.5, 0.9, 0.9),\n",
    "                  (0.75, 0.0, 0.0), \n",
    "                  (1.0, 0.0, 0.0))}\n",
    "\n",
    "                  \n",
    "my_cmap=mpl.colors.LinearSegmentedColormap('my_colormap', cdict, N=33)"
   ]
  },
  {
   "cell_type": "code",
   "execution_count": null,
   "metadata": {
    "collapsed": false
   },
   "outputs": [],
   "source": [
    "## DATA ##########################################################################\n",
    "\n",
    "in_file = in_path + filename\n",
    "\n",
    "radar = pyart.io.read_rsl(in_file)\n",
    "radar.metadata['instrument_name'] = radar_abbr\n",
    "\n",
    "nyq_vel = radar.instrument_parameters['nyquist_velocity']['data'][0]\n",
    "sw_num = radar.nsweeps\n",
    "sw_elevs = [radar.fixed_angle['data'][sw] for sw in range(0, sw_num-1)]\n",
    "\n",
    "dealias_data_uwp = pyart.correct.dealias_unwrap_phase(radar, rays_wrap_around=True, keep_original=False)\n",
    "radar.add_field('corrected_velocity_uwp', dealias_data_uwp)\n",
    "\n",
    "dealias_data_reg = pyart.correct.dealias_region_based(radar, interval_splits=20, rays_wrap_around=True, keep_original=False)\n",
    "radar.add_field('corrected_velocity_reg', dealias_data_reg)"
   ]
  },
  {
   "cell_type": "code",
   "execution_count": 21,
   "metadata": {
    "collapsed": false
   },
   "outputs": [],
   "source": [
    "## PLOTS ########################################################################\n",
    "\n",
    "display = pyart.graph.RadarDisplay(radar)\n",
    "time_text = ' ' + display.time_begin.isoformat() + 'Z '\n",
    "\n",
    "st_range = -150\n",
    "end_range = 150\n",
    "i_range = -150\n",
    "f_range = 150\n",
    "\n",
    "for sw in range(0, sw_num-1):\n",
    "\n",
    "    if f_range>50:\n",
    "        i_range = st_range + sw*25\n",
    "        f_range = end_range - sw*25\n",
    "    else:\n",
    "        i_range = -30\n",
    "        f_range = 30\n",
    "\n",
    "    out_file = out_path + filename.split('.', 1)[0]+ '_el%.0f' % (sw_elevs[sw]) + '_Vdealias.png'\n",
    "    fig = plt.figure(figsize=(36,6.5))\n",
    "    \n",
    "    pl_count = 1\n",
    "    for dd in sel_data:\n",
    "        \n",
    "        data_name = radar.fields[dd]['long_name']\n",
    "        data_units = radar.fields[dd]['units']\n",
    "        \n",
    "        cb_lab = data_name + '\\n' + data_units\n",
    "        title = radar_abbr + time_text + 'elev %.1f' % (sw_elevs[sw]) + 'deg' + '\\n' + dd \n",
    "        \n",
    "        ax = fig.add_subplot(100+Ndata*10+pl_count)\n",
    "        \n",
    "        display.plot(dd, sw, vmin=-2*nyq_vel, vmax=2*nyq_vel, \n",
    "        colorbar_label=cb_lab, \n",
    "        cmap=my_cmap, title=title, ax=ax, mask_outside=False)\n",
    "        \n",
    "        display.plot_range_rings(range(25, 150, 25))\n",
    "        display.plot_cross_hair(0.5)\n",
    "        plt.xlim((-lims[sw], lims[sw]))\n",
    "        plt.ylim((-lims[sw], lims[sw]))\n",
    "\n",
    "        plt.savefig(out_file)\n",
    "        \n",
    "        pl_count += 1\n",
    "    \n",
    "    plt.close()\n"
   ]
  }
 ],
 "metadata": {
  "kernelspec": {
   "display_name": "Python 2",
   "language": "python",
   "name": "python2"
  },
  "language_info": {
   "codemirror_mode": {
    "name": "ipython",
    "version": 2
   },
   "file_extension": ".py",
   "mimetype": "text/x-python",
   "name": "python",
   "nbconvert_exporter": "python",
   "pygments_lexer": "ipython2",
   "version": "2.7.10"
  }
 },
 "nbformat": 4,
 "nbformat_minor": 0
}
