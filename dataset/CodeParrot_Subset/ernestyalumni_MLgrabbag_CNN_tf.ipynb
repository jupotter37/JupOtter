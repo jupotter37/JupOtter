{
 "cells": [
  {
   "cell_type": "markdown",
   "metadata": {},
   "source": [
    "# Convolution Neural Networks with TensorFlow"
   ]
  },
  {
   "cell_type": "code",
   "execution_count": 1,
   "metadata": {
    "collapsed": true
   },
   "outputs": [],
   "source": [
    "%matplotlib inline"
   ]
  },
  {
   "cell_type": "code",
   "execution_count": 2,
   "metadata": {
    "collapsed": true
   },
   "outputs": [],
   "source": [
    "import os,sys"
   ]
  },
  {
   "cell_type": "code",
   "execution_count": 3,
   "metadata": {
    "collapsed": true
   },
   "outputs": [],
   "source": [
    "sys.path.append( os.getcwd() + '/ML' )"
   ]
  },
  {
   "cell_type": "code",
   "execution_count": 4,
   "metadata": {
    "collapsed": true
   },
   "outputs": [],
   "source": [
    "import numpy\n",
    "import numpy as np"
   ]
  },
  {
   "cell_type": "code",
   "execution_count": 5,
   "metadata": {
    "collapsed": true
   },
   "outputs": [],
   "source": [
    "import tensorflow\n",
    "import tensorflow as tf"
   ]
  },
  {
   "cell_type": "markdown",
   "metadata": {},
   "source": [
    "## MNIST Data  \n",
    "\n",
    "cf. Found here http://www.iro.umontreal.ca/~lisa/deep/data/mnist/mnist.pkl.gz or https://www-labs.iro.umontreal.ca/~lisa/deep/data/mnist/?C=M;O=A"
   ]
  },
  {
   "cell_type": "code",
   "execution_count": 6,
   "metadata": {
    "collapsed": true
   },
   "outputs": [],
   "source": [
    "import gzip\n",
    "import six.moves.cPickle as pickle "
   ]
  },
  {
   "cell_type": "code",
   "execution_count": 7,
   "metadata": {
    "collapsed": false
   },
   "outputs": [],
   "source": [
    "# find where `mnist.pkl.gz` is on your own computer \n",
    "f=gzip.open(\"../Data/mnist.pkl.gz\",'rb')\n",
    "try:\n",
    "    train_set,valid_set,test_set = pickle.load(f,encoding='latin1')\n",
    "except:\n",
    "    train_set,valid_set,test_set = pickle.load(f)\n",
    "f.close()"
   ]
  },
  {
   "cell_type": "code",
   "execution_count": 8,
   "metadata": {
    "collapsed": false
   },
   "outputs": [
    {
     "name": "stdout",
     "output_type": "stream",
     "text": [
      "((50000, 784), (50000,))\n",
      "((10000, 784), (10000,))\n",
      "((10000, 784), (10000,))\n"
     ]
    }
   ],
   "source": [
    "train_set_x,train_set_y=train_set\n",
    "valid_set_x,valid_set_y=valid_set\n",
    "test_set_x,test_set_y=test_set\n",
    "train_set_x = train_set_x.astype(np.float32)\n",
    "train_set_y = train_set_y.astype(np.float32)\n",
    "valid_set_x = valid_set_x.astype(np.float32)\n",
    "valid_set_y = valid_set_y.astype(np.float32)\n",
    "test_set_x = test_set_x.astype(np.float32)\n",
    "test_set_y = test_set_y.astype(np.float32)\n",
    "print(train_set_x.shape,train_set_y.shape) # observe the value for (m,d), number of training examples x number of features\n",
    "print(valid_set_x.shape,valid_set_y.shape)\n",
    "print(test_set_x.shape,test_set_y.shape)"
   ]
  },
  {
   "cell_type": "code",
   "execution_count": 23,
   "metadata": {
    "collapsed": false
   },
   "outputs": [
    {
     "name": "stdout",
     "output_type": "stream",
     "text": [
      "(50000, 28, 28, 1)\n",
      "(10000, 28, 28, 1)\n",
      "(10000, 28, 28, 1)\n"
     ]
    }
   ],
   "source": [
    "# this is for reshaping the MNIST data into something for convolution neural networks\n",
    "train_set_x = train_set_x.reshape((train_set_x.shape[0],28,28,1))\n",
    "valid_set_x = valid_set_x.reshape((valid_set_x.shape[0],28,28,1))\n",
    "test_set_x = test_set_x.reshape((test_set_x.shape[0],28,28,1))\n",
    "print(train_set_x.shape)\n",
    "print(valid_set_x.shape)\n",
    "print(test_set_x.shape)"
   ]
  },
  {
   "cell_type": "code",
   "execution_count": 10,
   "metadata": {
    "collapsed": false
   },
   "outputs": [
    {
     "name": "stdout",
     "output_type": "stream",
     "text": [
      "0.0\n",
      "9.0\n",
      "0.0\n",
      "9.0\n",
      "0.0\n",
      "9.0\n"
     ]
    }
   ],
   "source": [
    "print(train_set_y.min())\n",
    "print(train_set_y.max())\n",
    "print(valid_set_y.min())\n",
    "print(valid_set_y.max())\n",
    "print(test_set_y.min())\n",
    "print(test_set_y.max())"
   ]
  },
  {
   "cell_type": "markdown",
   "metadata": {},
   "source": [
    "Turn this into a so-called \"one-hot vector representation.\"  \n",
    "\n",
    "Recall that whereas the original labels (in the variable y) were 0,1, ..., 9 for 10 different (single) digits, for the purpose of training a neural network, we need to recode these labels as vectors containing only values 0 or 1.  "
   ]
  },
  {
   "cell_type": "code",
   "execution_count": 11,
   "metadata": {
    "collapsed": false
   },
   "outputs": [
    {
     "name": "stdout",
     "output_type": "stream",
     "text": [
      "(50000, 10)\n",
      "(10000, 10)\n",
      "(10000, 10)\n"
     ]
    }
   ],
   "source": [
    "K=10  \n",
    "m_train = train_set_y.shape[0]\n",
    "m_valid = valid_set_y.shape[0]\n",
    "m_test  = test_set_y.shape[0]\n",
    "y_train = [np.zeros(K) for row in train_set_y] # list of m_train numpy arrays of size dims. (10,)\n",
    "y_valid = [np.zeros(K) for row in valid_set_y] # list of m_valid numpy arrays of size dims. (10,)\n",
    "y_test = [np.zeros(K) for row in test_set_y] # list of m_test numpy arrays of size dims. (10,)\n",
    "for i in range(m_train):\n",
    "    y_train[i][ int(train_set_y[i]) ] = 1.\n",
    "for i in range(m_valid):\n",
    "    y_valid[i][ int(valid_set_y[i]) ] = 1.\n",
    "for i in range(m_test):\n",
    "    y_test[i][ int(test_set_y[i]) ] = 1.\n",
    "y_train = np.array(y_train).astype(np.float32)\n",
    "y_valid = np.array(y_valid).astype(np.float32)\n",
    "y_test = np.array(y_test).astype(np.float32)   \n",
    "print(y_train.shape)\n",
    "print(y_valid.shape)\n",
    "print(y_test.shape)"
   ]
  },
  {
   "cell_type": "code",
   "execution_count": 12,
   "metadata": {
    "collapsed": false
   },
   "outputs": [
    {
     "name": "stdout",
     "output_type": "stream",
     "text": [
      "0.0\n",
      "1.0\n",
      "0.0\n",
      "1.0\n",
      "0.0\n",
      "1.0\n"
     ]
    }
   ],
   "source": [
    "print(y_train.min())\n",
    "print(y_train.max())\n",
    "print(y_valid.min())\n",
    "print(y_valid.max())\n",
    "print(y_test.min())\n",
    "print(y_test.max())"
   ]
  },
  {
   "cell_type": "markdown",
   "metadata": {},
   "source": [
    "# Convolution operator $*$ and related filter (stencil) $c$ example"
   ]
  },
  {
   "cell_type": "code",
   "execution_count": 13,
   "metadata": {
    "collapsed": true
   },
   "outputs": [],
   "source": [
    "X = tf.placeholder(tf.float32, shape=[None,None,None,3],name=\"X\")\n",
    "\n",
    "filter_size = (9,9,3,2)  # (W_1,W_2,C_lm1,C_l)\n",
    "c_bound = np.sqrt(3*9*9)\n",
    "c = tf.Variable( tf.random_uniform(filter_size,\n",
    "                                    minval=-1.0/c_bound,\n",
    "                                      maxval=1.0/c_bound))\n",
    "\n",
    "b=tf.Variable(tf.random_uniform([2,],minval=-.5,maxval=.5), dtype=tf.float32)"
   ]
  },
  {
   "cell_type": "code",
   "execution_count": 50,
   "metadata": {
    "collapsed": false
   },
   "outputs": [
    {
     "name": "stdout",
     "output_type": "stream",
     "text": [
      "(9, 9, 3, 2)\n",
      "(2,)\n"
     ]
    }
   ],
   "source": [
    "print(c.shape)\n",
    "print(b.shape)"
   ]
  },
  {
   "cell_type": "code",
   "execution_count": 71,
   "metadata": {
    "collapsed": false
   },
   "outputs": [],
   "source": [
    "conv_out=tf.nn.conv2d(X,\n",
    "                     c,\n",
    "                     strides=[1,1,1,1],\n",
    "                     padding=\"VALID\",\n",
    "                     use_cudnn_on_gpu=True,name=None)"
   ]
  },
  {
   "cell_type": "code",
   "execution_count": 54,
   "metadata": {
    "collapsed": true
   },
   "outputs": [],
   "source": [
    "zl = tf.nn.sigmoid( conv_out + b )"
   ]
  },
  {
   "cell_type": "markdown",
   "metadata": {},
   "source": [
    "Let's have a little bit of fun with this:"
   ]
  },
  {
   "cell_type": "code",
   "execution_count": 55,
   "metadata": {
    "collapsed": true
   },
   "outputs": [],
   "source": [
    "import pylab\n",
    "from PIL import Image"
   ]
  },
  {
   "cell_type": "code",
   "execution_count": 56,
   "metadata": {
    "collapsed": false
   },
   "outputs": [
    {
     "name": "stdout",
     "output_type": "stream",
     "text": [
      "(516, 639)\n",
      "255\n",
      "0\n"
     ]
    }
   ],
   "source": [
    "# open example image of dimensions 639x516, HxW  \n",
    "img = Image.open(open('../Data/3wolfmoon.jpg'))\n",
    "print(img.size)  # WxH\n",
    "print(np.asarray(img).max())\n",
    "print(np.asarray(img).min())"
   ]
  },
  {
   "cell_type": "code",
   "execution_count": 58,
   "metadata": {
    "collapsed": false
   },
   "outputs": [
    {
     "name": "stdout",
     "output_type": "stream",
     "text": [
      "(639, 516, 3)\n",
      "0.996094\n",
      "0.0\n"
     ]
    }
   ],
   "source": [
    "# dimensions are (height,width,channel)\n",
    "img_np=np.asarray(img,dtype=np.float32)/256.\n",
    "print(img_np.shape)\n",
    "print(img_np.max())\n",
    "print(img_np.min())"
   ]
  },
  {
   "cell_type": "code",
   "execution_count": 59,
   "metadata": {
    "collapsed": false
   },
   "outputs": [
    {
     "name": "stdout",
     "output_type": "stream",
     "text": [
      "(1, 639, 516, 3)\n",
      "0.996094\n",
      "0.0\n"
     ]
    }
   ],
   "source": [
    "# put image in 4D tensor of shape (1,height,width,3)\n",
    "img_ = img_np.reshape(1,639,516,3)\n",
    "print(img_.shape)\n",
    "print(img_.max())\n",
    "print(img_.min())"
   ]
  },
  {
   "cell_type": "code",
   "execution_count": 62,
   "metadata": {
    "collapsed": false
   },
   "outputs": [],
   "source": [
    "sess = tf.Session()\n",
    "init_op=tf.global_variables_initializer()\n",
    "sess.run(init_op)            "
   ]
  },
  {
   "cell_type": "code",
   "execution_count": 63,
   "metadata": {
    "collapsed": false
   },
   "outputs": [],
   "source": [
    "filtered_img = sess.run(zl,feed_dict={X:img_})"
   ]
  },
  {
   "cell_type": "code",
   "execution_count": 65,
   "metadata": {
    "collapsed": false
   },
   "outputs": [
    {
     "name": "stdout",
     "output_type": "stream",
     "text": [
      "<type 'numpy.ndarray'>\n",
      "(1, 631, 508, 2)\n"
     ]
    }
   ],
   "source": [
    "print(type(filtered_img))\n",
    "print(filtered_img.shape)"
   ]
  },
  {
   "cell_type": "code",
   "execution_count": 68,
   "metadata": {
    "collapsed": false
   },
   "outputs": [
    {
     "data": {
      "image/png": "[encoded data removed]",
      "text/plain": [
       "<matplotlib.figure.Figure at 0x7fad5bbba350>"
      ]
     },
     "metadata": {},
     "output_type": "display_data"
    }
   ],
   "source": [
    "# plot original image and first and second components of output\n",
    "pylab.subplot(1, 3, 1); pylab.axis('off'); pylab.imshow(img)\n",
    "pylab.gray();\n",
    "# recall that the convOp output (filtered image) is actually a \"minibatch\",\n",
    "# of size 1 here, so we take index 0 in the first dimension:\n",
    "pylab.subplot(1, 3, 2); pylab.axis('off'); pylab.imshow(filtered_img[0, :, :,0])\n",
    "pylab.subplot(1, 3, 3); pylab.axis('off'); pylab.imshow(filtered_img[0, :, :,1])\n",
    "pylab.show()"
   ]
  },
  {
   "cell_type": "code",
   "execution_count": 72,
   "metadata": {
    "collapsed": false
   },
   "outputs": [
    {
     "name": "stdout",
     "output_type": "stream",
     "text": [
      "<type 'numpy.ndarray'>\n",
      "(1, 639, 516, 3)\n",
      "0.996094\n",
      "0.0\n",
      "<type 'numpy.ndarray'>\n",
      "(1, 631, 508, 2)\n",
      "0.792409\n",
      "0.417905\n"
     ]
    }
   ],
   "source": [
    "print(type(img_))\n",
    "print(img_.shape)\n",
    "print(img_.max())\n",
    "print(img_.min())\n",
    "print(type(filtered_img))\n",
    "print(filtered_img.shape)\n",
    "print(filtered_img.max())\n",
    "print(filtered_img.min())"
   ]
  },
  {
   "cell_type": "markdown",
   "metadata": {},
   "source": [
    "Empirically, we seen that the image \"shrank\" in size dimensions.  We can infer that this convolution operation doesn't assume anything about the boundary conditions, and so the filter (stencil), requiring a, in this case, 9x9 \"block\" or 9x9 values, will only, near the boundaries, output values for the \"inside\" cells/grid points.  "
   ]
  },
  {
   "cell_type": "markdown",
   "metadata": {},
   "source": [
    "# MaxPooling"
   ]
  },
  {
   "cell_type": "code",
   "execution_count": 76,
   "metadata": {
    "collapsed": true
   },
   "outputs": [],
   "source": [
    "input = tf.placeholder(tf.float32, shape=[None,None,None,None],name=\"input\")\n",
    "maxpool_shape=(2,2)\n",
    "window_size = (1,) + maxpool_shape + (1,)\n",
    "pool_out = tf.nn.max_pool(input,\n",
    "                            ksize=window_size,\n",
    "                              strides=window_size,padding=\"VALID\")"
   ]
  },
  {
   "cell_type": "code",
   "execution_count": 84,
   "metadata": {
    "collapsed": true
   },
   "outputs": [],
   "source": [
    "tf.reset_default_graph() "
   ]
  },
  {
   "cell_type": "code",
   "execution_count": 77,
   "metadata": {
    "collapsed": true
   },
   "outputs": [],
   "source": [
    "sess = tf.Session()\n",
    "init_op=tf.global_variables_initializer()\n",
    "sess.run(init_op)  "
   ]
  },
  {
   "cell_type": "code",
   "execution_count": 79,
   "metadata": {
    "collapsed": false
   },
   "outputs": [
    {
     "name": "stdout",
     "output_type": "stream",
     "text": [
      "(3, 5, 5, 2)\n",
      "(3, 2, 2, 2)\n"
     ]
    }
   ],
   "source": [
    "invals=np.random.RandomState(1).rand(3,5,5,2)\n",
    "print(invals.shape)\n",
    "invals_max = sess.run(pool_out,feed_dict={input:invals})\n",
    "print(invals_max.shape)"
   ]
  },
  {
   "cell_type": "code",
   "execution_count": 80,
   "metadata": {
    "collapsed": false
   },
   "outputs": [
    {
     "name": "stdout",
     "output_type": "stream",
     "text": [
      "(3, 256, 64, 2)\n",
      "(3, 128, 32, 2)\n",
      "(3, 257, 65, 2)\n",
      "(3, 128, 32, 2)\n"
     ]
    }
   ],
   "source": [
    "invals2 = np.random.RandomState(1).rand(3,256,64,2)\n",
    "print(invals2.shape)\n",
    "invals2_max = sess.run(pool_out,feed_dict={input:invals2})\n",
    "print(invals2_max.shape)\n",
    "invals3 = np.random.RandomState(1).rand(3,257,65,2)\n",
    "print(invals3.shape)\n",
    "invals3_max = sess.run(pool_out,feed_dict={input:invals3})\n",
    "print(invals3_max.shape)\n"
   ]
  },
  {
   "cell_type": "code",
   "execution_count": 88,
   "metadata": {
    "collapsed": true
   },
   "outputs": [],
   "source": [
    "tf.reset_default_graph() "
   ]
  },
  {
   "cell_type": "code",
   "execution_count": 89,
   "metadata": {
    "collapsed": true
   },
   "outputs": [],
   "source": [
    "input = tf.placeholder(tf.float32, shape=[None,None,None,None],name=\"input\")\n",
    "maxpool_shape2=(4,4)\n",
    "window_size2 = (1,) + maxpool_shape2 + (1,)\n",
    "pool_out2 = tf.nn.max_pool(input,\n",
    "                            ksize=window_size2,\n",
    "                              strides=window_size2,padding=\"VALID\")"
   ]
  },
  {
   "cell_type": "code",
   "execution_count": 90,
   "metadata": {
    "collapsed": true
   },
   "outputs": [],
   "source": [
    "sess = tf.Session()\n",
    "init_op=tf.global_variables_initializer()\n",
    "sess.run(init_op)  "
   ]
  },
  {
   "cell_type": "code",
   "execution_count": 91,
   "metadata": {
    "collapsed": false
   },
   "outputs": [
    {
     "name": "stdout",
     "output_type": "stream",
     "text": [
      "(3, 64, 16, 2)\n"
     ]
    }
   ],
   "source": [
    "invals2_max = sess.run(pool_out2,feed_dict={input:invals2})\n",
    "print(invals2_max.shape)"
   ]
  },
  {
   "cell_type": "markdown",
   "metadata": {},
   "source": [
    "# Convolution axon test"
   ]
  },
  {
   "cell_type": "code",
   "execution_count": 12,
   "metadata": {
    "collapsed": true
   },
   "outputs": [],
   "source": [
    "sys.path.append( \"../ML/\")"
   ]
  },
  {
   "cell_type": "code",
   "execution_count": 13,
   "metadata": {
    "collapsed": false
   },
   "outputs": [],
   "source": [
    "import CNN_tf\n",
    "from CNN_tf import Axon_CNN"
   ]
  },
  {
   "cell_type": "code",
   "execution_count": 116,
   "metadata": {
    "collapsed": true
   },
   "outputs": [],
   "source": [
    "tf.reset_default_graph() "
   ]
  },
  {
   "cell_type": "code",
   "execution_count": 117,
   "metadata": {
    "collapsed": true
   },
   "outputs": [],
   "source": [
    "filter_size = (9,9,3,2)  # (W_1,W_2,C_lm1,C_l)\n",
    "c_bound = np.sqrt(3*9*9)\n",
    "c = tf.Variable( tf.random_uniform(filter_size,\n",
    "                                    minval=-1.0/c_bound,\n",
    "                                      maxval=1.0/c_bound))\n",
    "\n",
    "b=tf.Variable(tf.random_uniform([2,],minval=-.5,maxval=.5), dtype=tf.float32)"
   ]
  },
  {
   "cell_type": "code",
   "execution_count": 118,
   "metadata": {
    "collapsed": false
   },
   "outputs": [],
   "source": [
    "Conv_axon_test=Axon_CNN(1,(3,2),(9,9),Pl=None,c=c,b=b,activation=None)"
   ]
  },
  {
   "cell_type": "code",
   "execution_count": 119,
   "metadata": {
    "collapsed": false
   },
   "outputs": [
    {
     "data": {
      "text/plain": [
       "<tf.Tensor 'add_1:0' shape=(?, ?, ?, 2) dtype=float32>"
      ]
     },
     "execution_count": 119,
     "metadata": {},
     "output_type": "execute_result"
    }
   ],
   "source": [
    "Conv_axon_test.connect_through()"
   ]
  },
  {
   "cell_type": "code",
   "execution_count": 120,
   "metadata": {
    "collapsed": true
   },
   "outputs": [],
   "source": [
    "sess = tf.Session()\n",
    "init_op=tf.global_variables_initializer()\n",
    "sess.run(init_op)  "
   ]
  },
  {
   "cell_type": "code",
   "execution_count": 121,
   "metadata": {
    "collapsed": false
   },
   "outputs": [],
   "source": [
    "filtered_img_Conv_axon_test = sess.run(Conv_axon_test.al,feed_dict={Conv_axon_test.alm1:img_})"
   ]
  },
  {
   "cell_type": "code",
   "execution_count": 122,
   "metadata": {
    "collapsed": false
   },
   "outputs": [
    {
     "data": {
      "image/png": "[encoded data removed]",
      "text/plain": [
       "<matplotlib.figure.Figure at 0x7fad56e96510>"
      ]
     },
     "metadata": {},
     "output_type": "display_data"
    }
   ],
   "source": [
    "# plot original image and first and second components of output\n",
    "pylab.subplot(1, 3, 1); pylab.axis('off'); pylab.imshow(img)\n",
    "pylab.gray();\n",
    "# recall that the convOp output (filtered image) is actually a \"minibatch\",\n",
    "# of size 1 here, so we take index 0 in the first dimension:\n",
    "pylab.subplot(1, 3, 2); pylab.axis('off'); pylab.imshow(filtered_img_Conv_axon_test[0, :, :,0])\n",
    "pylab.subplot(1, 3, 3); pylab.axis('off'); pylab.imshow(filtered_img_Conv_axon_test[0, :, :,1])\n",
    "pylab.show()"
   ]
  },
  {
   "cell_type": "code",
   "execution_count": 123,
   "metadata": {
    "collapsed": false
   },
   "outputs": [
    {
     "name": "stdout",
     "output_type": "stream",
     "text": [
      "<type 'numpy.ndarray'>\n",
      "(1, 639, 516, 3)\n",
      "0.996094\n",
      "0.0\n",
      "<type 'numpy.ndarray'>\n",
      "(1, 631, 508, 2)\n",
      "0.766957\n",
      "-1.11119\n"
     ]
    }
   ],
   "source": [
    "print(type(img_))\n",
    "print(img_.shape)\n",
    "print(img_.max())\n",
    "print(img_.min())\n",
    "print(type(filtered_img_Conv_axon_test))\n",
    "print(filtered_img_Conv_axon_test.shape)\n",
    "print(filtered_img_Conv_axon_test.max())\n",
    "print(filtered_img_Conv_axon_test.min())"
   ]
  },
  {
   "cell_type": "code",
   "execution_count": 8,
   "metadata": {
    "collapsed": false
   },
   "outputs": [],
   "source": [
    "rand_unif_init_vals *= np.float32(4)"
   ]
  },
  {
   "cell_type": "code",
   "execution_count": 10,
   "metadata": {
    "collapsed": false
   },
   "outputs": [
    {
     "data": {
      "text/plain": [
       "(1, 2, 2, 1)"
      ]
     },
     "execution_count": 10,
     "metadata": {},
     "output_type": "execute_result"
    }
   ],
   "source": [
    "(1,) + (2,2) + (1,)"
   ]
  },
  {
   "cell_type": "code",
   "execution_count": 11,
   "metadata": {
    "collapsed": false
   },
   "outputs": [
    {
     "data": {
      "text/plain": [
       "[1, 2, 2, 1]"
      ]
     },
     "execution_count": 11,
     "metadata": {},
     "output_type": "execute_result"
    }
   ],
   "source": [
    "[1,] + [2,2] + [1,]"
   ]
  },
  {
   "cell_type": "code",
   "execution_count": 12,
   "metadata": {
    "collapsed": false
   },
   "outputs": [
    {
     "ename": "TypeError",
     "evalue": "can only concatenate list (not \"tuple\") to list",
     "output_type": "error",
     "traceback": [
      "\u001b[1;31m---------------------------------------------------------------------------\u001b[0m",
      "\u001b[1;31mTypeError\u001b[0m                                 Traceback (most recent call last)",
      "\u001b[1;32m<ipython-input-12-d55fcf6fe2b7>\u001b[0m in \u001b[0;36m<module>\u001b[1;34m()\u001b[0m\n\u001b[1;32m----> 1\u001b[1;33m \u001b[1;33m[\u001b[0m\u001b[1;36m1\u001b[0m\u001b[1;33m,\u001b[0m\u001b[1;33m]\u001b[0m \u001b[1;33m+\u001b[0m \u001b[1;33m(\u001b[0m\u001b[1;36m2\u001b[0m\u001b[1;33m,\u001b[0m\u001b[1;36m2\u001b[0m\u001b[1;33m)\u001b[0m \u001b[1;33m+\u001b[0m \u001b[1;33m[\u001b[0m\u001b[1;36m1\u001b[0m\u001b[1;33m,\u001b[0m\u001b[1;33m]\u001b[0m\u001b[1;33m\u001b[0m\u001b[0m\n\u001b[0m",
      "\u001b[1;31mTypeError\u001b[0m: can only concatenate list (not \"tuple\") to list"
     ]
    }
   ],
   "source": [
    "[1,] + (2,2) + [1,]"
   ]
  },
  {
   "cell_type": "code",
   "execution_count": 13,
   "metadata": {
    "collapsed": false
   },
   "outputs": [
    {
     "data": {
      "text/plain": [
       "[1, 2, 3]"
      ]
     },
     "execution_count": 13,
     "metadata": {},
     "output_type": "execute_result"
    }
   ],
   "source": [
    "list( [1,2,3])"
   ]
  },
  {
   "cell_type": "code",
   "execution_count": 14,
   "metadata": {
    "collapsed": true
   },
   "outputs": [],
   "source": [
    "testplacehold = tf.placeholder(tf.float32, shape=[None, 100,100,2])"
   ]
  },
  {
   "cell_type": "code",
   "execution_count": 16,
   "metadata": {
    "collapsed": false
   },
   "outputs": [
    {
     "data": {
      "text/plain": [
       "TensorShape([Dimension(None), Dimension(100), Dimension(100), Dimension(2)])"
      ]
     },
     "execution_count": 16,
     "metadata": {},
     "output_type": "execute_result"
    }
   ],
   "source": [
    "testplacehold.shape"
   ]
  },
  {
   "cell_type": "code",
   "execution_count": 27,
   "metadata": {
    "collapsed": false
   },
   "outputs": [
    {
     "data": {
      "text/plain": [
       "TensorShape([Dimension(None), Dimension(20000)])"
      ]
     },
     "execution_count": 27,
     "metadata": {},
     "output_type": "execute_result"
    }
   ],
   "source": [
    "tf.reshape( testplacehold, shape=[-1,int( testplacehold.shape[1]*testplacehold.shape[2]*testplacehold.shape[3])]).shape"
   ]
  },
  {
   "cell_type": "code",
   "execution_count": 28,
   "metadata": {
    "collapsed": false
   },
   "outputs": [
    {
     "data": {
      "text/plain": [
       "4"
      ]
     },
     "execution_count": 28,
     "metadata": {},
     "output_type": "execute_result"
    }
   ],
   "source": [
    "len(testplacehold.shape)"
   ]
  },
  {
   "cell_type": "markdown",
   "metadata": {},
   "source": [
    "# CNN Feedforward test for Convolution Neural Networks"
   ]
  },
  {
   "cell_type": "code",
   "execution_count": 34,
   "metadata": {
    "collapsed": true
   },
   "outputs": [],
   "source": [
    "# sanity check\n",
    "CNNFF_test = CNN_tf.Feedforward(2,('C','C'),\n",
    "                             [{\"C_ls\":(1,20) ,\"Wl\":(5,5),\"Pl\":(2,2),\"Ll\":(28,28)},\n",
    "                             {\"C_ls\":(20,50),\"Wl\":(5,5),\"Pl\":(2,2),\"Ll\":(12,12)}],\n",
    "                             psi_L=tf.tanh )"
   ]
  },
  {
   "cell_type": "code",
   "execution_count": 35,
   "metadata": {
    "collapsed": false
   },
   "outputs": [
    {
     "data": {
      "text/plain": [
       "TensorShape([Dimension(None), Dimension(800)])"
      ]
     },
     "execution_count": 35,
     "metadata": {},
     "output_type": "execute_result"
    }
   ],
   "source": [
    "s_l = (50*4*4,500)\n",
    "tf.reshape( CNNFF_test.Axons[-1].al, shape=[-1,s_l[0] ]).shape"
   ]
  },
  {
   "cell_type": "code",
   "execution_count": 17,
   "metadata": {
    "collapsed": false
   },
   "outputs": [],
   "source": [
    "# sanity check\n",
    "CNNFF_test = CNN_tf.Feedforward(3,('C','C','D'),\n",
    "                             [{\"C_ls\":(1,20) ,\"Wl\":(5,5),\"Pl\":(2,2),\"Ll\":(28,28)},\n",
    "                             {\"C_ls\":(20,50),\"Wl\":(5,5),\"Pl\":(2,2),\"Ll\":(12,12)},\n",
    "                             (50*4*4,500)],\n",
    "                             psi_L=tf.tanh )"
   ]
  },
  {
   "cell_type": "markdown",
   "metadata": {
    "collapsed": true
   },
   "source": [
    "## CNN class test as a Deep Neural Network (i.e. Artificial neural network, i.e. no convolution)"
   ]
  },
  {
   "cell_type": "code",
   "execution_count": 14,
   "metadata": {
    "collapsed": true
   },
   "outputs": [],
   "source": [
    "L=4\n",
    "CorD=('D','D','D','D')\n",
    "dims_data_test=[(784,392), (392,196),(196,98),(98,10)]"
   ]
  },
  {
   "cell_type": "code",
   "execution_count": 15,
   "metadata": {
    "collapsed": false
   },
   "outputs": [],
   "source": [
    "CNNFF_test=CNN_tf.Feedforward(L,CorD,dims_data_test,psi_L=tf.nn.softmax)"
   ]
  },
  {
   "cell_type": "code",
   "execution_count": 16,
   "metadata": {
    "collapsed": false
   },
   "outputs": [],
   "source": [
    "CNN_test=CNN_tf.CNN(CNNFF_test)"
   ]
  },
  {
   "cell_type": "code",
   "execution_count": 17,
   "metadata": {
    "collapsed": false
   },
   "outputs": [
    {
     "data": {
      "text/plain": [
       "<tf.Tensor 'Softmax_1:0' shape=(?, 10) dtype=float32>"
      ]
     },
     "execution_count": 17,
     "metadata": {},
     "output_type": "execute_result"
    }
   ],
   "source": [
    "CNN_test.connect_through()"
   ]
  },
  {
   "cell_type": "code",
   "execution_count": 18,
   "metadata": {
    "collapsed": false
   },
   "outputs": [
    {
     "data": {
      "text/plain": [
       "<tf.Tensor 'add:0' shape=() dtype=float32>"
      ]
     },
     "execution_count": 18,
     "metadata": {},
     "output_type": "execute_result"
    }
   ],
   "source": [
    "CNN_test.build_J_L2norm_w_reg(lambda_val=0.01)"
   ]
  },
  {
   "cell_type": "code",
   "execution_count": 19,
   "metadata": {
    "collapsed": false
   },
   "outputs": [
    {
     "data": {
      "text/plain": [
       "<tf.Operation 'GradientDescent' type=NoOp>"
      ]
     },
     "execution_count": 19,
     "metadata": {},
     "output_type": "execute_result"
    }
   ],
   "source": [
    "CNN_test.build_optimizer()"
   ]
  },
  {
   "cell_type": "code",
   "execution_count": 22,
   "metadata": {
    "collapsed": false
   },
   "outputs": [
    {
     "name": "stdout",
     "output_type": "stream",
     "text": [
      "Found self._sess: \n",
      "\n",
      "Found self._saver: \n",
      "\n",
      "Found self._init_op, executing sess.run(init_op) now: \n",
      "\n",
      "Iter :   0, J,cost,i.e. error-train: 5.2155 \n",
      "Iter :   1, J,cost,i.e. error-train: 5.1928 \n",
      "Iter :   2, J,cost,i.e. error-train: 5.1761 \n",
      "Iter :   3, J,cost,i.e. error-train: 5.1641 \n",
      "Iter :   4, J,cost,i.e. error-train: 5.1556 \n",
      "Iter :   5, J,cost,i.e. error-train: 5.1494 \n",
      "Iter :   6, J,cost,i.e. error-train: 5.1448 \n",
      "Iter :   7, J,cost,i.e. error-train: 5.1413 \n",
      "Iter :   8, J,cost,i.e. error-train: 5.1386 \n",
      "Iter :   9, J,cost,i.e. error-train: 5.1364 \n",
      "Iter : 1000, J,cost,i.e. error-train: 4.9854 \n",
      "Iter : 2000, J,cost,i.e. error-train: 4.8989 \n",
      "Iter : 3000, J,cost,i.e. error-train: 4.8675 \n",
      "Iter : 4000, J,cost,i.e. error-train: 4.8630 \n",
      "Iter : 5000, J,cost,i.e. error-train: 4.8670 \n",
      "Iter : 6000, J,cost,i.e. error-train: 4.8728 \n",
      "Iter : 7000, J,cost,i.e. error-train: 4.8788 \n",
      "Iter : 8000, J,cost,i.e. error-train: 4.8848 \n",
      "Iter : 9000, J,cost,i.e. error-train: 4.8906 \n",
      "Final error: 4.8962068557739257812\n"
     ]
    },
    {
     "data": {
      "text/plain": [
       "array([ 5.21552753,  5.19278383,  5.17607212, ...,  4.89619493,\n",
       "        4.89620113,  4.89620686])"
      ]
     },
     "execution_count": 22,
     "metadata": {},
     "output_type": "execute_result"
    }
   ],
   "source": [
    "CNN_test.train_model(max_iters=10000, X_data=train_set_x[:20000],y_data=y_train[:20000])"
   ]
  },
  {
   "cell_type": "code",
   "execution_count": 24,
   "metadata": {
    "collapsed": false
   },
   "outputs": [
    {
     "name": "stdout",
     "output_type": "stream",
     "text": [
      "Found self._sess: \n",
      "\n"
     ]
    }
   ],
   "source": [
    "yhat_test = CNN_test.predict()"
   ]
  },
  {
   "cell_type": "code",
   "execution_count": 30,
   "metadata": {
    "collapsed": false
   },
   "outputs": [
    {
     "name": "stdout",
     "output_type": "stream",
     "text": [
      "<type 'numpy.ndarray'>\n",
      "(20000, 10)\n",
      "(20000,)\n"
     ]
    },
    {
     "data": {
      "text/plain": [
       "0.92225000000000001"
      ]
     },
     "execution_count": 30,
     "metadata": {},
     "output_type": "execute_result"
    }
   ],
   "source": [
    "print(type(yhat_test))\n",
    "print(yhat_test.shape)\n",
    "print(np.argmax(yhat_test,axis=1).shape)\n",
    "np.mean( train_set_y[:20000]==np.argmax(yhat_test,axis=1) )"
   ]
  },
  {
   "cell_type": "markdown",
   "metadata": {},
   "source": [
    "# CNN class test for Convolution Neural Networks "
   ]
  },
  {
   "cell_type": "code",
   "execution_count": 13,
   "metadata": {
    "collapsed": false
   },
   "outputs": [],
   "source": [
    "sys.path.append( \"../ML/\")"
   ]
  },
  {
   "cell_type": "code",
   "execution_count": 14,
   "metadata": {
    "collapsed": false
   },
   "outputs": [],
   "source": [
    "import CNN_tf\n",
    "from CNN_tf import Axon_CNN"
   ]
  },
  {
   "cell_type": "code",
   "execution_count": 15,
   "metadata": {
    "collapsed": false
   },
   "outputs": [],
   "source": [
    "L=4\n",
    "CorD=('C','C','D','D')\n",
    "dims_data_test=[{\"C_ls\":(1,20) ,\"Wl\":(5,5),\"Pl\":(2,2),\"Ll\":(28,28)},\n",
    "               {\"C_ls\":(20,50) ,\"Wl\":(5,5),\"Pl\":(2,2),\"Ll\":(12,12)},\n",
    "               (50*4*4,500),(500,10)] \n",
    "CNNFF_test = CNN_tf.Feedforward(L,CorD,dims_data_test,psi_L=tf.nn.softmax)"
   ]
  },
  {
   "cell_type": "code",
   "execution_count": 16,
   "metadata": {
    "collapsed": true
   },
   "outputs": [],
   "source": [
    "CNN_test = CNN_tf.CNN(CNNFF_test)"
   ]
  },
  {
   "cell_type": "code",
   "execution_count": 17,
   "metadata": {
    "collapsed": false
   },
   "outputs": [
    {
     "data": {
      "text/plain": [
       "<tf.Tensor 'Softmax_1:0' shape=(?, 10) dtype=float32>"
      ]
     },
     "execution_count": 17,
     "metadata": {},
     "output_type": "execute_result"
    }
   ],
   "source": [
    "CNN_test.connect_through()"
   ]
  },
  {
   "cell_type": "code",
   "execution_count": 18,
   "metadata": {
    "collapsed": false
   },
   "outputs": [
    {
     "data": {
      "text/plain": [
       "<tf.Tensor 'add_6:0' shape=() dtype=float32>"
      ]
     },
     "execution_count": 18,
     "metadata": {},
     "output_type": "execute_result"
    }
   ],
   "source": [
    "CNN_test.build_J_logistic_w_reg(lambda_val=0.01)"
   ]
  },
  {
   "cell_type": "code",
   "execution_count": 19,
   "metadata": {
    "collapsed": false
   },
   "outputs": [
    {
     "data": {
      "text/plain": [
       "<tf.Operation 'GradientDescent' type=NoOp>"
      ]
     },
     "execution_count": 19,
     "metadata": {},
     "output_type": "execute_result"
    }
   ],
   "source": [
    "CNN_test.build_optimizer(alpha=0.005)"
   ]
  },
  {
   "cell_type": "code",
   "execution_count": 24,
   "metadata": {
    "collapsed": false
   },
   "outputs": [
    {
     "name": "stdout",
     "output_type": "stream",
     "text": [
      "Found self._sess: \n",
      "\n",
      "Found self._saver: \n",
      "\n",
      "Found self._init_op, executing sess.run(init_op) now: \n",
      "\n",
      "Iter :   0, J,cost,i.e. error-train: 7.6116 \n",
      "Iter :   1, J,cost,i.e. error-train: 7.0324 \n",
      "Iter :   2, J,cost,i.e. error-train: 6.8482 \n",
      "Iter :   3, J,cost,i.e. error-train: 6.7898 \n",
      "Iter :   4, J,cost,i.e. error-train: 6.7644 \n",
      "Iter :   5, J,cost,i.e. error-train: 6.7518 \n",
      "Iter :   6, J,cost,i.e. error-train: 6.7447 \n",
      "Iter :   7, J,cost,i.e. error-train: 6.7395 \n",
      "Iter :   8, J,cost,i.e. error-train: 6.7350 \n",
      "Iter :   9, J,cost,i.e. error-train: 6.7305 \n",
      "Final error: 6.7304854393005371094\n"
     ]
    },
    {
     "data": {
      "text/plain": [
       "array([ 7.61161232,  7.03240919,  6.84823608,  6.7897892 ,  6.76444244,\n",
       "        6.75178337,  6.74467087,  6.73954916,  6.73495483,  6.73048544])"
      ]
     },
     "execution_count": 24,
     "metadata": {},
     "output_type": "execute_result"
    }
   ],
   "source": [
    "CNN_test.train_model(max_iters=10, X_data=train_set_x[:30000],y_data=y_train[:30000])"
   ]
  },
  {
   "cell_type": "code",
   "execution_count": 22,
   "metadata": {
    "collapsed": false
   },
   "outputs": [
    {
     "data": {
      "text/plain": [
       "<tf.Tensor 'X:0' shape=(?, 28, 28, 1) dtype=float32>"
      ]
     },
     "execution_count": 22,
     "metadata": {},
     "output_type": "execute_result"
    }
   ],
   "source": [
    "CNN_test._CNN_model.Axons[0].alm1\n"
   ]
  },
  {
   "cell_type": "code",
   "execution_count": null,
   "metadata": {
    "collapsed": true
   },
   "outputs": [],
   "source": []
  }
 ],
 "metadata": {
  "kernelspec": {
   "display_name": "Python 2",
   "language": "python",
   "name": "python2"
  },
  "language_info": {
   "codemirror_mode": {
    "name": "ipython",
    "version": 2
   },
   "file_extension": ".py",
   "mimetype": "text/x-python",
   "name": "python",
   "nbconvert_exporter": "python",
   "pygments_lexer": "ipython2",
   "version": "2.7.11"
  }
 },
 "nbformat": 4,
 "nbformat_minor": 0
}
