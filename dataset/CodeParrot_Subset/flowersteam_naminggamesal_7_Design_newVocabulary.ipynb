{
 "cells": [
  {
   "cell_type": "code",
   "execution_count": 1,
   "metadata": {
    "collapsed": true
   },
   "outputs": [],
   "source": [
    "import sys\n",
    "sys.path.append('..')"
   ]
  },
  {
   "cell_type": "markdown",
   "metadata": {},
   "source": [
    "#Types of vocabularies: Existing ones, designing new ones"
   ]
  },
  {
   "cell_type": "markdown",
   "metadata": {},
   "source": [
    "Vocabularies are found in the submodule ngvoc.\n",
    "\n",
    "For the moment, \"matrix\" and \"sparse_matrix\" are available. they both have fixed size (M,W), only difference is how the information is stored (numpy matrix and scipy sparse.lil_sparse).\n",
    "\n",
    "To define a vocabulary type, the following things are needed:\n",
    "\n",
    "* def get_known_words\n",
    "* def get_known_meanings\n",
    "* def exists\n",
    "* def get_content\n",
    "* def add\n",
    "* def rm\n",
    "* def get_unknown_words\n",
    "* def get_unknown_meanings\n",
    "* def get_new_unknown_m\n",
    "* def get_new_unknown_w\n",
    "* def get_random_known_m\n",
    "* def get_random_known_w\n",
    "\n",
    "you can add a *visual* method to visualize some aspects of your vocabulary.\n",
    "All those methods are inheritable from sparse_matrix.VocSparseMatrix and matrix.VocMatrix.\n",
    "\n",
    "If you want to design a new Vocabulary class, just add it in the ngvoc folder, in a \\*.py file. Example is given in TEST.py.\n",
    "\n",
    "To call it in your experiments, simply give as *voc_cfg* a configuration dict containing the key/value: 'voc\\_type':'\\$pyfile.\\$classname'. You can use any other keys you need, it will be fed directly to the \\_\\_init__ of your class.\n",
    "\n",
    "You should use the \\_\\_init__ of the parent class, via super(), so do not forget to give the appropriate arguments.\n",
    "\n",
    "###Example:\n",
    "\n",
    "Let's test the vocabulary class VocTest, in TEST.py.\n",
    "The class is a child of VocMatrix, uses its \\_\\_init__ with M = number/2 and W = 15 (constant). The *test* method prints the 'testkey' key-value pair in the *voc_cfg* object. Feel free to test other modifications. "
   ]
  },
  {
   "cell_type": "code",
   "execution_count": 2,
   "metadata": {
    "collapsed": true
   },
   "outputs": [],
   "source": [
    "from lib import ngvoc"
   ]
  },
  {
   "cell_type": "code",
   "execution_count": 3,
   "metadata": {
    "collapsed": true
   },
   "outputs": [],
   "source": [
    "voc_cfg = {\n",
    "    'voc_type':'TEST.VocTest',\n",
    "    'testkey':'Test',\n",
    "    'number':12\n",
    "    }"
   ]
  },
  {
   "cell_type": "code",
   "execution_count": 4,
   "metadata": {
    "collapsed": false
   },
   "outputs": [],
   "source": [
    "voc_test = ngvoc.Vocabulary(**voc_cfg)"
   ]
  },
  {
   "cell_type": "code",
   "execution_count": 5,
   "metadata": {
    "collapsed": false
   },
   "outputs": [
    {
     "data": {
      "text/plain": [
       "<lib.ngvoc.TEST.VocTest at 0x7ff67aab4290>"
      ]
     },
     "execution_count": 5,
     "metadata": {},
     "output_type": "execute_result"
    }
   ],
   "source": [
    "voc_test"
   ]
  },
  {
   "cell_type": "code",
   "execution_count": 6,
   "metadata": {
    "collapsed": false
   },
   "outputs": [
    {
     "name": "stdout",
     "output_type": "stream",
     "text": [
      "testkey:TeSt\n"
     ]
    }
   ],
   "source": [
    "voc_test.test()"
   ]
  },
  {
   "cell_type": "code",
   "execution_count": 7,
   "metadata": {
    "collapsed": false
   },
   "outputs": [
    {
     "name": "stdout",
     "output_type": "stream",
     "text": [
      "                                    Words\n",
      "        [[ 0.  0.  0.  0.  0.  0.  0.  0.  0.  0.  0.  0.  0.  0.  0.]\n",
      "         [ 0.  0.  0.  0.  0.  0.  0.  0.  0.  0.  0.  0.  0.  0.  0.]\n",
      "         [ 0.  0.  0.  0.  0.  0.  0.  0.  0.  0.  0.  0.  0.  0.  0.]\n",
      "Meanings [ 0.  0.  0.  0.  0.  0.  0.  0.  0.  0.  0.  0.  0.  0.  0.]\n",
      "         [ 0.  0.  0.  0.  0.  0.  0.  0.  0.  0.  0.  0.  0.  0.  0.]\n",
      "         [ 0.  0.  0.  0.  0.  0.  0.  0.  0.  0.  0.  0.  0.  0.  0.]]\n",
      "\n"
     ]
    }
   ],
   "source": [
    "print(voc_test)"
   ]
  },
  {
   "cell_type": "markdown",
   "metadata": {},
   "source": [
    "##Designing a Vocabulary with adaptable matrix size"
   ]
  },
  {
   "cell_type": "markdown",
   "metadata": {
    "collapsed": true
   },
   "source": [
    "We need to define different things for this: \n",
    " * Label the meanings and words globally, outside the vocabulary, being \n",
    " * Refer to these global labels "
   ]
  }
 ],
 "metadata": {
  "kernelspec": {
   "display_name": "Python 2",
   "language": "python",
   "name": "python2"
  },
  "language_info": {
   "codemirror_mode": {
    "name": "ipython",
    "version": 2
   },
   "file_extension": ".py",
   "mimetype": "text/x-python",
   "name": "python",
   "nbconvert_exporter": "python",
   "pygments_lexer": "ipython2",
   "version": "2.7.6"
  }
 },
 "nbformat": 4,
 "nbformat_minor": 0
}
