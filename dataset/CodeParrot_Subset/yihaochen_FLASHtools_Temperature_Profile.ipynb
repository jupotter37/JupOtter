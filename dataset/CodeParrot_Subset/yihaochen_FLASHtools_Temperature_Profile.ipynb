{
 "cells": [
  {
   "cell_type": "code",
   "execution_count": null,
   "metadata": {},
   "outputs": [],
   "source": [
    "import matplotlib.pyplot as plt\n",
    "import numpy as np"
   ]
  },
  {
   "cell_type": "code",
   "execution_count": null,
   "metadata": {},
   "outputs": [],
   "source": [
    "r_temp = 60\n",
    "rr = np.logspace(np.log10(8), np.log10(400), 17)\n",
    "Ts4 = 6.4*(1+(rr/r_temp)**4)/(2.1+(rr/r_temp)**4)\n",
    "Ts3 = 6.4*(1+(rr/r_temp)**3)/(2.1+(rr/r_temp)**3)\n",
    "Ts2 = 6.4*(1.0+(rr/r_temp)**2)/(2.1+(rr/r_temp)**2)\n",
    "Ts = 6.4*(1+(rr/100)**3)/(2.1+(rr/100)**3)"
   ]
  },
  {
   "cell_type": "code",
   "execution_count": null,
   "metadata": {},
   "outputs": [],
   "source": [
    "fig=plt.figure(figsize=(6,5))\n",
    "plt.plot(rr, Ts, ls='-',  label='r^3 100')\n",
    "plt.plot(rr, Ts4, ls='-',  label='r^4')\n",
    "plt.plot(rr, Ts3, ls='--', label='r^3')\n",
    "plt.plot(rr, Ts2, ls=':',  label='r^2')\n",
    "plt.semilogx()\n",
    "plt.xlim(8,400)\n",
    "plt.legend(loc=2)\n",
    "plt.axvline(40)\n",
    "plt.axvline(100)"
   ]
  },
  {
   "cell_type": "code",
   "execution_count": null,
   "metadata": {},
   "outputs": [],
   "source": [
    "gasConst=8.31447E+07\n",
    "sim_mu = 0.61\n",
    "sim_densityBeta = 0.53\n",
    "sim_rCore = 8.1E23\n",
    "sim_rCoreT = 1.85E23\n",
    "sim_Tcore = 3.48E7\n",
    "sim_Tout = 7.42E7\n",
    "\n",
    "rr = np.linspace(0,100,100)*3.086E21\n",
    "\n",
    "grav = gasConst/sim_mu*rr\\\n",
    "           *(-3.*sim_densityBeta/(1.+rr*rr/sim_rCore**2)/sim_rCore**2\\\n",
    "           *sim_Tout*(1.0+(rr/sim_rCoreT)**3)\\\n",
    "           /(sim_Tout/sim_Tcore+(rr/sim_rCoreT)**3)\\\n",
    "           +3.0*rr*sim_Tout*(sim_Tout/sim_Tcore-1.0)*(sim_rCoreT)**3\\\n",
    "           /(sim_Tout/sim_Tcore*(sim_rCoreT)**3+rr**3)**2)\n",
    "plt.plot(rr/3.086E21, grav)"
   ]
  },
  {
   "cell_type": "code",
   "execution_count": null,
   "metadata": {},
   "outputs": [],
   "source": []
  }
 ],
 "metadata": {
  "kernelspec": {
   "display_name": "Python 3",
   "language": "python",
   "name": "python3"
  },
  "language_info": {
   "codemirror_mode": {
    "name": "ipython",
    "version": 3
   },
   "file_extension": ".py",
   "mimetype": "text/x-python",
   "name": "python",
   "nbconvert_exporter": "python",
   "pygments_lexer": "ipython3",
   "version": "3.6.1"
  }
 },
 "nbformat": 4,
 "nbformat_minor": 1
}
