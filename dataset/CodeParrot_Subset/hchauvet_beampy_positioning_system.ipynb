{
  "nbformat_minor": 0, 
  "nbformat": 4, 
  "cells": [
    {
      "execution_count": null, 
      "cell_type": "code", 
      "source": [
        "%matplotlib inline"
      ], 
      "outputs": [], 
      "metadata": {
        "collapsed": false
      }
    }, 
    {
      "source": [
        "\nBeampy Positioning system\n=========================\n\nBeampy has a positioning system that allows to make automatic, fixed or\nrelative positioning. The default behavior is set by the theme used in the\npresentation.\n\nThe default theme sets the coordinates to:\n\n* `x='center'` which means that element is centered in the horizontal direction\n* x element anchor is set to left, which means that the horizontal distance is\n  computed between to left side of the slide and the left border of the element\n  bounding-box.\n* `y='auto'` which means that elements are equally spaced on the vertical\n  direction.\n* y element anchor is set to top, which means that the vertical distance is\n  computed between the top of the slide and the top border of the element\n  bounding-box.\n* The reference for computing coordinates as percent is the page or group width\n  for both `x` and `y`.\n\nSlide coordinate system\n-----------------------\n\nThe origin of the coordinate coordinate system is the upper-left corner of the\nslide or the current group. And is positive when moving toward the bottom-right\ncorner.\n\n\n"
      ], 
      "cell_type": "markdown", 
      "metadata": {}
    }, 
    {
      "execution_count": null, 
      "cell_type": "code", 
      "source": [
        "from beampy import *\nfrom beampy.utils import bounding_box, draw_axes\n\ndoc = document(quiet=True)\n\nwith slide():\n    draw_axes(show_ticks=True)\n    t1 = text('This is the default theme behaviour')\n    t2 = text('x are centered and y equally spaced')\n\n    for t in [t1, t2]:\n        t.add_border()\n\ndisplay_matplotlib(gcs())"
      ], 
      "outputs": [], 
      "metadata": {
        "collapsed": false
      }
    }, 
    {
      "source": [
        "Automatic positioning\n---------------------\n\nBeampy as some simple automatic positioning, which are 'centering' the Beampy\nmodule with `center`, and equally spaced distribution of Beampy modules that\nhave `auto` as coordinates\n\nCentering\n+++++++++\n\n"
      ], 
      "cell_type": "markdown", 
      "metadata": {}
    }, 
    {
      "execution_count": null, 
      "cell_type": "code", 
      "source": [
        "with slide():\n    draw_axes()\n    rectangle(x='center', y='center', width=400, height=200,\n              color='lightgreen', edgecolor=None)\n    text('x and y are centered for the text and the rectangle modules',\n         x='center', y='center', width=350)\n\ndisplay_matplotlib(gcs())"
      ], 
      "outputs": [], 
      "metadata": {
        "collapsed": false
      }
    }, 
    {
      "source": [
        "Auto\n++++\n\nEqually spaced vertically\n~~~~~~~~~~~~~~~~~~~~~~~~~\n\n\n"
      ], 
      "cell_type": "markdown", 
      "metadata": {}
    }, 
    {
      "execution_count": null, 
      "cell_type": "code", 
      "source": [
        "with slide():\n    draw_axes()\n    for c in ['gold', 'crimson', 'orangered']:\n        rectangle(x='center', y='auto', width=100, height=100,\n                  color=c, edgecolor=None)\n\ndisplay_matplotlib(gcs())"
      ], 
      "outputs": [], 
      "metadata": {
        "collapsed": false
      }
    }, 
    {
      "source": [
        "Equally spaced horizontally\n~~~~~~~~~~~~~~~~~~~~~~~~~~~\n\n\n"
      ], 
      "cell_type": "markdown", 
      "metadata": {}
    }, 
    {
      "execution_count": null, 
      "cell_type": "code", 
      "source": [
        "with slide():\n    draw_axes()\n    for c in ['gold', 'crimson', 'orangered']:\n        rectangle(x='auto', y='center', width=100, height=100,\n                  color=c, edgecolor=None)\n\ndisplay_matplotlib(gcs())"
      ], 
      "outputs": [], 
      "metadata": {
        "collapsed": false
      }
    }, 
    {
      "source": [
        "Equally spaced in xy directions\n~~~~~~~~~~~~~~~~~~~~~~~~~~~~~~~\n\n\n"
      ], 
      "cell_type": "markdown", 
      "metadata": {}
    }, 
    {
      "execution_count": null, 
      "cell_type": "code", 
      "source": [
        "with slide():\n    draw_axes()\n    for c in ['gold', 'crimson', 'orangered']:\n        rectangle(x='auto', y='auto', width=100, height=100,\n                  color=c, edgecolor=None)\n\ndisplay_matplotlib(gcs())"
      ], 
      "outputs": [], 
      "metadata": {
        "collapsed": false
      }
    }, 
    {
      "source": [
        "Absolute positioning\n--------------------\n\nunits\n+++++\n\nAbsolute coordinates could be given as follow:\n\n* (int or float) <= 1.0, the position is a percent of the slide or group width\n  for `x` and `y` (by default, but could be changed).\n* (int or float) > 1.0, the position is in pixels.\n* Given as a string, the position is in pixels or in the unit given just after,\n  like '2cm'.\n\n<div class=\"alert alert-info\"><h4>Note</h4><p>For `y` < 1.0, the default will be changed in future version to be percent\n   of the height. To already change this in your slide you could add just\n   after importing Beampy:\n\n   >>> DEFAULT_Y['unit'] = 'height'</p></div>\n\n\n"
      ], 
      "cell_type": "markdown", 
      "metadata": {}
    }, 
    {
      "execution_count": null, 
      "cell_type": "code", 
      "source": [
        "with slide():\n    draw_axes()\n    text('x and y relative to width', x=0.5, y=0.5)\n    text('x and y relative to width, with aspect ratio for y', x=0.5,\n         y=0.5*(3/4.), width=300)\n    text('x and y given in pixels', x=100, y=100)\n    text('x and y given in centimetres', x='2cm', y='5cm')\n\ndisplay_matplotlib(gcs())"
      ], 
      "outputs": [], 
      "metadata": {
        "collapsed": false
      }
    }, 
    {
      "source": [
        "Anchors\n+++++++\n\nWe could also change the anchor of the Beampy module using the `center`,\n`right`, `bottom` function in the coordinate.\n\n\n"
      ], 
      "cell_type": "markdown", 
      "metadata": {}
    }, 
    {
      "execution_count": null, 
      "cell_type": "code", 
      "source": [
        "with slide():\n    draw_axes()\n\n    t1 = text('Top-left absolute positioning $$x=x^2$$', x=400, y=100)\n\n    t2 = text('Top-right absolute positioning $$x=x^2$$', x=right(400), y=200)\n\n    t3 = text('Middle-middle absolute positioning $$x=x^2$$', x=center(400), y=center(300))\n\n    t4 = text('Bottom-right absolute positioning $$x=x^2$$', x=right(0.5), y=bottom(0.6))\n\n    for t in [t1, t2, t3, t4]:\n        bounding_box(t)\n\ndisplay_matplotlib(gcs())"
      ], 
      "outputs": [], 
      "metadata": {
        "collapsed": false
      }
    }, 
    {
      "source": [
        "Relative positioning\n--------------------\n\nWhen a Beampy module as been placed on a slide, we could position an other\nelement relative to this first one. To do so Beampy module have methods to\nrefer to their anchors (module.left, module.right, module.top, module.bottom,\nmodule.center).\n\n\n"
      ], 
      "cell_type": "markdown", 
      "metadata": {}
    }, 
    {
      "execution_count": null, 
      "cell_type": "code", 
      "source": [
        "with slide():\n    draw_axes()\n    texts_width = 200\n\n    r = rectangle(x='center', y='center', width=100, height=100,\n                  color='crimson', edgecolor=None)\n\n    t1 = text('Centered 10 px below the rectangle', x=r.center+center(0),\n              y=r.bottom+10, width=texts_width, align='center')\n\n    t2 = text('Centered 10 px above the rectangle', x=r.center+center(0),\n              y=r.top-bottom(10), width=texts_width, align='center')\n\n    t3 = text('10 px left of the rectangle', x=r.left-right(10),\n              y=r.center+center(10), width=texts_width, align='center')\n\n    t4 = text('10 px right of the rectangle', x=r.right+10,\n              y=r.center+center(10), width=texts_width, align='center')\n\n    for t in [t1, t2, t3, t4]:\n        bounding_box(t)\n\ndisplay_matplotlib(gcs())"
      ], 
      "outputs": [], 
      "metadata": {
        "collapsed": false
      }
    }, 
    {
      "source": [
        "An other way to do relative positioning is to use string as coordinate with\n'+' ot '-' before the shift and the unit. This will place the new Beampy\nModule relative to previous one.\n\n\n"
      ], 
      "cell_type": "markdown", 
      "metadata": {}
    }, 
    {
      "execution_count": null, 
      "cell_type": "code", 
      "source": [
        "with slide():\n    draw_axes()\n\n    text('text x=20, y=0.5cm', x='20', y='0.5cm')\n    for i in range(2):\n        text('text x=-0, y=+0.5cm', x='-0', y='+0.5cm')\n\n    text('text x=25, y=0.3', x='25', y=0.3)\n    for i in range(2):\n        text('text x=+0, y=+0.5cm', x='+0', y='+0.5cm')\n\n    text('text x=25, y=0.5', x='25', y=0.5)\n    text('text x=+10, y=+0', x='+10', y='+0')\n    text('text x=+10, y=-0', x='+10', y='-0')\n\ndisplay_matplotlib(gcs())"
      ], 
      "outputs": [], 
      "metadata": {
        "collapsed": false
      }
    }, 
    {
      "source": [
        "Coordinate as dictionary\n------------------------\n\nCoordinate could also be given as dictionary. The dictionary keys are the\nfollowing:\n\n* unit: ('px', 'pt', 'cm', 'width', 'height'), the width of the shift value.\n* shift: float value, the amount of shifting.\n* reference: ('slide' or 'relative') 'relative' is used to make relative\n  positioning.\n* anchor: (top, bottom, left, right, middle) define the anchor position on the\n  module bounding-box.\n* align: (left, right or center for x) and (top, bottom or center for y) is used\n  to set the origin of slide axes.\n\n"
      ], 
      "cell_type": "markdown", 
      "metadata": {}
    }, 
    {
      "execution_count": null, 
      "cell_type": "code", 
      "source": [
        "with slide():\n    draw_axes()\n\n    t = text('centered text',\n             x={'anchor':'middle', 'shift':0.5},\n             y={'anchor':'middle', 'shift':0.5, 'unit':'height'})\n    bounding_box(t)\n\n    t = text('bottom right shift',\n             x={'anchor':'right', 'shift':30, 'align':'right'},\n             y={'anchor':'bottom', 'shift':30, 'align':'bottom'})\n    bounding_box(t)\n\ndisplay_matplotlib(gcs())"
      ], 
      "outputs": [], 
      "metadata": {
        "collapsed": false
      }
    }
  ], 
  "metadata": {
    "kernelspec": {
      "display_name": "Python 2", 
      "name": "python2", 
      "language": "python"
    }, 
    "language_info": {
      "mimetype": "text/x-python", 
      "nbconvert_exporter": "python", 
      "name": "python", 
      "file_extension": ".py", 
      "version": "2.7.16", 
      "pygments_lexer": "ipython2", 
      "codemirror_mode": {
        "version": 2, 
        "name": "ipython"
      }
    }
  }
}