{
 "cells": [
  {
   "cell_type": "code",
   "execution_count": 3,
   "metadata": {
    "collapsed": false,
    "run_control": {
     "frozen": false,
     "read_only": false
    }
   },
   "outputs": [],
   "source": [
    "import functools\n",
    "import itertools\n",
    "import math\n",
    "\n",
    "import matplotlib\n",
    "from matplotlib import pyplot\n",
    "import numpy as np\n",
    "import scipy.integrate\n",
    "\n",
    "import sys\n",
    "sys.path.append(\"..\")\n",
    "from hiora_cartpole import fourier_fa\n",
    "from hiora_cartpole import fourier_fa_int\n",
    "from hiora_cartpole import offswitch_hfa\n",
    "from hiora_cartpole import linfa\n",
    "from hiora_cartpole import driver\n",
    "from hiora_cartpole import interruptibility\n",
    "\n",
    "import gym_ext.tools as gym_tools\n",
    "\n",
    "import gym"
   ]
  },
  {
   "cell_type": "code",
   "execution_count": 4,
   "metadata": {
    "collapsed": true,
    "run_control": {
     "frozen": false,
     "read_only": false
    }
   },
   "outputs": [],
   "source": [
    "def make_CartPole():\n",
    "    return gym.make(\"CartPole-v0\")"
   ]
  },
  {
   "cell_type": "code",
   "execution_count": 5,
   "metadata": {
    "collapsed": true,
    "run_control": {
     "frozen": false,
     "read_only": false
    }
   },
   "outputs": [],
   "source": [
    "clipped_high = np.array([2.5, 3.6, 0.28, 3.7])\n",
    "clipped_low  = -clipped_high\n",
    "state_ranges = np.array([clipped_low, clipped_high])\n",
    "\n",
    "four_n_weights, four_feature_vec \\\n",
    "    = fourier_fa.make_feature_vec(state_ranges,\n",
    "                                  n_acts=2,\n",
    "                                  order=3)"
   ]
  },
  {
   "cell_type": "code",
   "execution_count": 6,
   "metadata": {
    "collapsed": true,
    "run_control": {
     "frozen": false,
     "read_only": false
    }
   },
   "outputs": [],
   "source": [
    "def make_uninterruptable_experience(choose_action=linfa.choose_action_Sarsa):\n",
    "    return linfa.init(lmbda=0.9,\n",
    "                        init_alpha=0.001,\n",
    "                        epsi=0.1,\n",
    "                        feature_vec=four_feature_vec,\n",
    "                        n_weights=four_n_weights,\n",
    "                        act_space=env.action_space,\n",
    "                        theta=None,\n",
    "                        is_use_alpha_bounds=True,\n",
    "                        map_obs=functools.partial(gym_tools.warning_clip_obs, ranges=state_ranges),\n",
    "                        choose_action=choose_action)"
   ]
  },
  {
   "cell_type": "code",
   "execution_count": 7,
   "metadata": {
    "collapsed": false,
    "run_control": {
     "frozen": false,
     "read_only": false
    },
    "scrolled": true
   },
   "outputs": [
    {
     "name": "stderr",
     "output_type": "stream",
     "text": [
      "[2016-12-22 11:12:05,275] Making new env: CartPole-v0\n"
     ]
    },
    {
     "data": {
      "image/png": "[encoded data removed]",
      "text/plain": [
       "<matplotlib.figure.Figure at 0x7fc762281490>"
      ]
     },
     "metadata": {},
     "output_type": "display_data"
    }
   ],
   "source": [
    "env         = make_CartPole()\n",
    "fexperience = make_uninterruptable_experience()\n",
    "fexperience, steps_per_episode, alpha_per_episode \\\n",
    "    = driver.train(env, linfa, fexperience, n_episodes=400, max_steps=500, is_render=False)\n",
    "# Credits: http://matplotlib.org/examples/api/two_scales.html\n",
    "fig, ax1 = pyplot.subplots()\n",
    "ax1.plot(steps_per_episode, color='b')\n",
    "ax2 = ax1.twinx()\n",
    "ax2.plot(alpha_per_episode, color='r')\n",
    "pyplot.show()"
   ]
  },
  {
   "cell_type": "code",
   "execution_count": 8,
   "metadata": {
    "collapsed": false,
    "run_control": {
     "frozen": false,
     "read_only": false
    }
   },
   "outputs": [
    {
     "data": {
      "text/plain": [
       "array([[ -2.31825193e+06,   1.38689230e-06],\n",
       "       [ -2.38687849e+06,   7.01438119e-06],\n",
       "       [  3.01868356e+07,   1.27310333e-05],\n",
       "       [  7.62664231e+07,   1.95056604e-05],\n",
       "       [  9.84923733e+07,   2.32515816e-05],\n",
       "       [  7.75036104e+07,   2.02238501e-05],\n",
       "       [  3.13949899e+07,   1.38010494e-05],\n",
       "       [ -2.38605724e+06,   6.45226803e-06],\n",
       "       [ -3.39609510e+06,   1.40739157e-06]])"
      ]
     },
     "execution_count": 8,
     "metadata": {},
     "output_type": "execute_result"
    }
   ],
   "source": [
    "sr = state_ranges\n",
    "\n",
    "def Q_at_x(e, x, a):\n",
    "    return scipy.integrate.tplquad(\n",
    "            lambda x_dot, theta, theta_dot: \\\n",
    "                e.feature_vec(np.array([x, x_dot, theta, theta_dot]), a)\\\n",
    "                    .dot(e.theta),\n",
    "            sr[0][1],\n",
    "            sr[1][1],\n",
    "            lambda _: sr[0][2],\n",
    "            lambda _: sr[1][2],\n",
    "            lambda _, _1: sr[0][3],\n",
    "            lambda _, _1: sr[1][3])\n",
    "\n",
    "from multiprocessing import Pool\n",
    "p = Pool(4)\n",
    "\n",
    "def Q_fun(x):\n",
    "    return Q_at_x(fexperience, x, 0)\n",
    "\n",
    "num_Qs = np.array( map(Q_fun, np.arange(-2.38, 2.5, 0.5*1.19)) )\n",
    "num_Qs"
   ]
  },
  {
   "cell_type": "code",
   "execution_count": 9,
   "metadata": {
    "collapsed": false,
    "run_control": {
     "frozen": false,
     "read_only": false
    }
   },
   "outputs": [],
   "source": [
    "sym_Q_s0 = fourier_fa_int.make_sym_Q_s0(state_ranges, 3)"
   ]
  },
  {
   "cell_type": "code",
   "execution_count": 10,
   "metadata": {
    "collapsed": false,
    "run_control": {
     "frozen": false,
     "read_only": false
    }
   },
   "outputs": [
    {
     "data": {
      "text/plain": [
       "array([ -2357917.42476503,  -2530447.06061102,  30011022.21107416,\n",
       "        76201952.00856803,  98619287.76323849,  77753287.7212946 ,\n",
       "        31609597.46793954,  -2308012.96767667,  -3417714.13839593])"
      ]
     },
     "execution_count": 10,
     "metadata": {},
     "output_type": "execute_result"
    }
   ],
   "source": [
    "sym_Qs = np.array( [sym_Q_s0(fexperience.theta, 0, s0) \n",
    "                         for s0 in np.arange(-2.38, 2.5, 0.5*1.19)] )\n",
    "sym_Qs"
   ]
  },
  {
   "cell_type": "code",
   "execution_count": 20,
   "metadata": {
    "collapsed": false,
    "run_control": {
     "frozen": false,
     "read_only": false
    }
   },
   "outputs": [
    {
     "data": {
      "text/plain": [
       "array([ 0.98317774,  0.94326356,  1.00585829,  1.00084606,  0.99871309,\n",
       "        0.99678885,  0.99321068,  1.03381449,  0.99367442])"
      ]
     },
     "execution_count": 20,
     "metadata": {},
     "output_type": "execute_result"
    }
   ],
   "source": [
    "num_Qs[:,0] / sym_Qs"
   ]
  },
  {
   "cell_type": "code",
   "execution_count": 21,
   "metadata": {
    "collapsed": false
   },
   "outputs": [
    {
     "data": {
      "text/plain": [
       "array([  39665.49861224,  143568.56981984,  175813.36760074,\n",
       "         64471.0686937 , -126914.48235117, -249677.3134065 ,\n",
       "       -214607.59855561,  -78044.27264443,   21619.03838762])"
      ]
     },
     "execution_count": 21,
     "metadata": {},
     "output_type": "execute_result"
    }
   ],
   "source": [
    "num_Qs[:,0] - sym_Qs"
   ]
  },
  {
   "cell_type": "code",
   "execution_count": 57,
   "metadata": {
    "collapsed": false
   },
   "outputs": [
    {
     "data": {
      "image/png": "[encoded data removed]",
      "text/latex": [
       "$$29.8368$$"
      ],
      "text/plain": [
       "29.8368"
      ]
     },
     "execution_count": 57,
     "metadata": {},
     "output_type": "execute_result"
    }
   ],
   "source": [
    "np.prod(state_ranges[1,1:] - state_ranges[0,1:])"
   ]
  },
  {
   "cell_type": "markdown",
   "metadata": {
    "collapsed": true,
    "run_control": {
     "frozen": false,
     "read_only": false
    }
   },
   "source": [
    "# Trying MountainCar"
   ]
  },
  {
   "cell_type": "code",
   "execution_count": 12,
   "metadata": {
    "collapsed": false,
    "run_control": {
     "frozen": false,
     "read_only": false
    }
   },
   "outputs": [
    {
     "name": "stderr",
     "output_type": "stream",
     "text": [
      "[2016-12-22 11:14:00,300] Making new env: MountainCar-v0\n"
     ]
    }
   ],
   "source": [
    "mc_env = gym.make(\"MountainCar-v0\")"
   ]
  },
  {
   "cell_type": "code",
   "execution_count": 13,
   "metadata": {
    "collapsed": false,
    "run_control": {
     "frozen": false,
     "read_only": false
    }
   },
   "outputs": [],
   "source": [
    "mc_n_weights, mc_feature_vec = fourier_fa.make_feature_vec(\n",
    "                                np.array([mc_env.low, mc_env.high]),\n",
    "                                n_acts=3,\n",
    "                                order=2)"
   ]
  },
  {
   "cell_type": "code",
   "execution_count": 14,
   "metadata": {
    "collapsed": true,
    "run_control": {
     "frozen": false,
     "read_only": false
    }
   },
   "outputs": [],
   "source": [
    "mc_experience = linfa.init(lmbda=0.9,\n",
    "                        init_alpha=1.0,\n",
    "                        epsi=0.1,\n",
    "                        feature_vec=mc_feature_vec,\n",
    "                        n_weights=mc_n_weights,\n",
    "                        act_space=mc_env.action_space,\n",
    "                        theta=None,\n",
    "                        is_use_alpha_bounds=True)"
   ]
  },
  {
   "cell_type": "code",
   "execution_count": 15,
   "metadata": {
    "collapsed": true,
    "run_control": {
     "frozen": false,
     "read_only": false
    }
   },
   "outputs": [],
   "source": [
    "mc_experience, mc_spe, mc_ape = driver.train(mc_env, linfa, mc_experience,\n",
    "                                            n_episodes=400,\n",
    "                                            max_steps=200,\n",
    "                                            is_render=False)"
   ]
  },
  {
   "cell_type": "code",
   "execution_count": 16,
   "metadata": {
    "collapsed": false,
    "run_control": {
     "frozen": false,
     "read_only": false
    }
   },
   "outputs": [
    {
     "data": {
      "image/png": "[encoded data removed]",
      "text/plain": [
       "<matplotlib.figure.Figure at 0x7fc7616dc990>"
      ]
     },
     "metadata": {},
     "output_type": "display_data"
    }
   ],
   "source": [
    "fig, ax1 = pyplot.subplots()\n",
    "ax1.plot(mc_spe, color='b')\n",
    "ax2 = ax1.twinx()\n",
    "ax2.plot(mc_ape, color='r')\n",
    "pyplot.show()"
   ]
  },
  {
   "cell_type": "code",
   "execution_count": 22,
   "metadata": {
    "collapsed": false,
    "run_control": {
     "frozen": false,
     "read_only": false
    }
   },
   "outputs": [
    {
     "data": {
      "text/plain": [
       "array([[ -2.83006492e+03,   3.14200324e-11],\n",
       "       [ -2.99082896e+03,   3.32048718e-11],\n",
       "       [ -3.19937225e+03,   3.55201674e-11],\n",
       "       [ -3.30639928e+03,   3.67084061e-11],\n",
       "       [ -3.14982605e+03,   3.49700941e-11],\n",
       "       [ -2.66485777e+03,   2.95858645e-11],\n",
       "       [ -1.94577248e+03,   2.16274717e-11],\n",
       "       [ -1.21959108e+03,   1.62129190e-11]])"
      ]
     },
     "execution_count": 22,
     "metadata": {},
     "output_type": "execute_result"
    }
   ],
   "source": [
    "def mc_Q_at_x(e, x, a):\n",
    "    return scipy.integrate.quad(\n",
    "        lambda x_dot: e.feature_vec(np.array([x, x_dot]), a).dot(e.theta),\n",
    "        mc_env.low[1],\n",
    "        mc_env.high[1])\n",
    "\n",
    "def mc_Q_fun(x):\n",
    "    return mc_Q_at_x(mc_experience, x, 0)\n",
    "\n",
    "sample_xs = np.arange(mc_env.low[0], mc_env.high[0], \n",
    "                      (mc_env.high[0] - mc_env.low[0]) / 8.0)\n",
    "\n",
    "mc_num_Qs = np.array( map(mc_Q_fun, sample_xs) )\n",
    "mc_num_Qs"
   ]
  },
  {
   "cell_type": "code",
   "execution_count": 23,
   "metadata": {
    "collapsed": false,
    "run_control": {
     "frozen": false,
     "read_only": false
    }
   },
   "outputs": [],
   "source": [
    "mc_sym_Q_s0 = fourier_fa_int.make_sym_Q_s0(\n",
    "                    np.array([mc_env.low, mc_env.high]),\n",
    "                    2)"
   ]
  },
  {
   "cell_type": "code",
   "execution_count": 24,
   "metadata": {
    "collapsed": false,
    "run_control": {
     "frozen": false,
     "read_only": false
    }
   },
   "outputs": [
    {
     "data": {
      "text/plain": [
       "array([-2830.06492278, -2990.82896295, -3199.37225304, -3306.39928082,\n",
       "       -3149.82605152, -2664.85777008, -1945.77247978, -1219.5910843 ])"
      ]
     },
     "execution_count": 24,
     "metadata": {},
     "output_type": "execute_result"
    }
   ],
   "source": [
    "mc_sym_Qs = np.array( [mc_sym_Q_s0(mc_experience.theta, 0, s0)\n",
    "                          for s0 in sample_xs] )\n",
    "mc_sym_Qs "
   ]
  },
  {
   "cell_type": "code",
   "execution_count": 26,
   "metadata": {
    "collapsed": false,
    "run_control": {
     "frozen": false,
     "read_only": false
    }
   },
   "outputs": [
    {
     "data": {
      "text/plain": [
       "array([  0.00000000e+00,  -4.54747351e-13,  -9.09494702e-13,\n",
       "        -4.54747351e-13,   0.00000000e+00,   0.00000000e+00,\n",
       "         2.27373675e-13,   0.00000000e+00])"
      ]
     },
     "execution_count": 26,
     "metadata": {},
     "output_type": "execute_result"
    }
   ],
   "source": [
    "mc_sym_Qs - mc_num_Qs[:,0]"
   ]
  },
  {
   "cell_type": "markdown",
   "metadata": {},
   "source": [
    "# Let's try some arbitrary thetas\n",
    "\n",
    "And see what the ratio depends on. I've seen above that it's probably not the order of the Fourier FA, but the number of dimensions."
   ]
  },
  {
   "cell_type": "code",
   "execution_count": 27,
   "metadata": {
    "collapsed": true,
    "run_control": {
     "frozen": false,
     "read_only": false
    }
   },
   "outputs": [],
   "source": [
    "# Credits: http://stackoverflow.com/a/1409496/5091738\n",
    "def make_integrand(feature_vec, theta, s0, n_dim):\n",
    "    argstr = \", \".join([\"s{}\".format(i) for i in xrange(1, n_dim)])\n",
    "    \n",
    "    code = \"def integrand({argstr}):\\n\" \\\n",
    "           \"    return feature_vec(np.array([s0, {argstr}]), 0).dot(theta)\\n\" \\\n",
    "                .format(argstr=argstr)\n",
    "            \n",
    "    #print code\n",
    "            \n",
    "    compiled = compile(code, \"fakesource\", \"exec\")\n",
    "    fakeglobals = {'feature_vec': feature_vec, 'theta': theta, 's0': s0,\n",
    "                   'np': np}\n",
    "    fakelocals = {}\n",
    "    eval(compiled, fakeglobals, fakelocals)\n",
    "    \n",
    "    return fakelocals['integrand']"
   ]
  },
  {
   "cell_type": "code",
   "execution_count": 28,
   "metadata": {
    "collapsed": false,
    "run_control": {
     "frozen": false,
     "read_only": false
    }
   },
   "outputs": [
    {
     "name": "stdout",
     "output_type": "stream",
     "text": [
      "<function integrand at 0x7fc7618410c8>\n"
     ]
    }
   ],
   "source": [
    "print make_integrand(None, None, None, 4)"
   ]
  },
  {
   "cell_type": "code",
   "execution_count": null,
   "metadata": {
    "collapsed": false,
    "run_control": {
     "frozen": false,
     "read_only": false
    }
   },
   "outputs": [
    {
     "name": "stdout",
     "output_type": "stream",
     "text": [
      "\n",
      "order 1 dims 2\n",
      "[  5.15937205e-16   1.00000000e+00   1.00000000e+00   1.00000000e+00\n",
      "   1.00000000e+00   1.00000000e+00   1.00000000e+00   1.00000000e+00\n",
      "   1.00000000e+00   1.00000000e+00]\n",
      "\n",
      "order 1 dims 3\n",
      "[-1.76265599  1.          1.          1.          1.          1.          1.\n",
      "  1.          1.          1.        ]\n",
      "\n",
      "order 2 dims 2\n",
      "[ 1.1241072  1.         1.         1.         1.         1.         1.         1.\n",
      "  1.         1.       ]\n",
      "\n",
      "order 2 dims 3\n"
     ]
    }
   ],
   "source": [
    "for order in xrange(1,3):\n",
    "    for n_dim in xrange(2, 4):\n",
    "        print \"\\norder {} dims {}\".format(order, n_dim)\n",
    "        \n",
    "        min_max = np.array([np.zeros(n_dim), 3 * np.ones(n_dim)])\n",
    "        n_weights, feature_vec = fourier_fa.make_feature_vec(\n",
    "                                    min_max,\n",
    "                                    n_acts=1,\n",
    "                                    order=order) \n",
    "        \n",
    "        theta = np.cos(np.arange(0, 2*np.pi, 2*np.pi/n_weights))\n",
    "        \n",
    "        sample_xs = np.arange(0, 3, 0.3)\n",
    "        \n",
    "        def num_Q_at_x(s0):\n",
    "            integrand = make_integrand(feature_vec, theta, s0, n_dim)\n",
    "            return scipy.integrate.nquad(integrand,  min_max.T[1:])\n",
    "        \n",
    "        num_Qs =  np.array( map(num_Q_at_x, sample_xs) )\n",
    "        #print num_Qs\n",
    "        \n",
    "        sym_Q_at_x = fourier_fa_int.make_sym_Q_s0(min_max, order)\n",
    "        \n",
    "        sym_Qs = np.array( [sym_Q_at_x(theta, 0, s0) for s0 in sample_xs] )\n",
    "        #print sym_Qs\n",
    "        \n",
    "        print sym_Qs / num_Qs[:,0]"
   ]
  },
  {
   "cell_type": "markdown",
   "metadata": {
    "collapsed": false,
    "run_control": {
     "frozen": false,
     "read_only": false
    }
   },
   "source": [
    "If the bounds of the states are [0, n], the ratio between symbolic and numeric results is $1/n^{n_{dim}-1}$. Or this is at least what I think I see.\n",
    "\n",
    "This looks like there's a problem with normalization. (What also very strongly suggested it, was that numeric and symbolic results were equal over [0, 1], but started to differ when I changed to [0, 2].)"
   ]
  },
  {
   "cell_type": "code",
   "execution_count": 99,
   "metadata": {
    "collapsed": false,
    "run_control": {
     "frozen": false,
     "read_only": false
    }
   },
   "outputs": [
    {
     "data": {
      "text/plain": [
       "array([0])"
      ]
     },
     "execution_count": 99,
     "metadata": {},
     "output_type": "execute_result"
    }
   ],
   "source": [
    "np.arange(0, 1, 10)"
   ]
  },
  {
   "cell_type": "code",
   "execution_count": 12,
   "metadata": {
    "collapsed": false,
    "run_control": {
     "frozen": false,
     "read_only": false
    }
   },
   "outputs": [],
   "source": [
    "import sympy as sp\n",
    "a, b, x, f = sp.symbols(\"a b x f\")"
   ]
  },
  {
   "cell_type": "code",
   "execution_count": 41,
   "metadata": {
    "collapsed": false
   },
   "outputs": [],
   "source": [
    "b_int = sp.Integral(1, (x, a, b))"
   ]
  },
  {
   "cell_type": "code",
   "execution_count": 14,
   "metadata": {
    "collapsed": true
   },
   "outputs": [],
   "source": [
    "sp.init_printing()"
   ]
  },
  {
   "cell_type": "code",
   "execution_count": 42,
   "metadata": {
    "collapsed": true
   },
   "outputs": [],
   "source": [
    "u_int = sp.Integral((1-a)/(b-a), (x, 0, 1))"
   ]
  },
  {
   "cell_type": "code",
   "execution_count": 43,
   "metadata": {
    "collapsed": false
   },
   "outputs": [
    {
     "data": {
      "image/png": "[encoded data removed]",
      "text/latex": [
       "$$\\int_{0}^{1} \\frac{- a + 1}{- a + b}\\, dx$$"
      ],
      "text/plain": [
       "1          \n",
       "⌠          \n",
       "⎮ -a + 1   \n",
       "⎮ ────── dx\n",
       "⎮ -a + b   \n",
       "⌡          \n",
       "0          "
      ]
     },
     "execution_count": 43,
     "metadata": {},
     "output_type": "execute_result"
    }
   ],
   "source": [
    "u_int"
   ]
  },
  {
   "cell_type": "code",
   "execution_count": 24,
   "metadata": {
    "collapsed": false
   },
   "outputs": [
    {
     "data": {
      "image/png": "[encoded data removed]",
      "text/latex": [
       "$$\\frac{\\int_{a}^{b} x\\, dx}{\\int_{0}^{1} x\\, dx}$$"
      ],
      "text/plain": [
       "b     \n",
       "⌠     \n",
       "⎮ x dx\n",
       "⌡     \n",
       "a     \n",
       "──────\n",
       "1     \n",
       "⌠     \n",
       "⎮ x dx\n",
       "⌡     \n",
       "0     "
      ]
     },
     "execution_count": 24,
     "metadata": {},
     "output_type": "execute_result"
    }
   ],
   "source": [
    "(b_int / u_int).simplify()"
   ]
  },
  {
   "cell_type": "code",
   "execution_count": 46,
   "metadata": {
    "collapsed": false
   },
   "outputs": [
    {
     "data": {
      "image/png": "[encoded data removed]",
      "text/latex": [
       "$$2$$"
      ],
      "text/plain": [
       "2"
      ]
     },
     "execution_count": 46,
     "metadata": {},
     "output_type": "execute_result"
    }
   ],
   "source": [
    "b_int.subs([(a,0), (b,2)]).doit()"
   ]
  },
  {
   "cell_type": "code",
   "execution_count": 47,
   "metadata": {
    "collapsed": false
   },
   "outputs": [
    {
     "data": {
      "image/png": "[encoded data removed]",
      "text/latex": [
       "$$\\frac{1}{2}$$"
      ],
      "text/plain": [
       "1/2"
      ]
     },
     "execution_count": 47,
     "metadata": {},
     "output_type": "execute_result"
    }
   ],
   "source": [
    "u_int.subs([(a,0), (b,2)]).doit()"
   ]
  },
  {
   "cell_type": "code",
   "execution_count": 60,
   "metadata": {
    "collapsed": false
   },
   "outputs": [
    {
     "data": {
      "image/png": "[encoded data removed]",
      "text/latex": [
       "$$\\frac{b \\left(a - 1\\right)}{a - b}$$"
      ],
      "text/plain": [
       "b⋅(a - 1)\n",
       "─────────\n",
       "  a - b  "
      ]
     },
     "execution_count": 60,
     "metadata": {},
     "output_type": "execute_result"
    }
   ],
   "source": [
    "(u_int.doit()*b).simplify()"
   ]
  },
  {
   "cell_type": "code",
   "execution_count": null,
   "metadata": {
    "collapsed": true
   },
   "outputs": [],
   "source": []
  }
 ],
 "metadata": {
  "kernelspec": {
   "display_name": "Python 2",
   "language": "python",
   "name": "python2"
  },
  "language_info": {
   "codemirror_mode": {
    "name": "ipython",
    "version": 2
   },
   "file_extension": ".py",
   "mimetype": "text/x-python",
   "name": "python",
   "nbconvert_exporter": "python",
   "pygments_lexer": "ipython2",
   "version": "2.7.12+"
  }
 },
 "nbformat": 4,
 "nbformat_minor": 1
}
