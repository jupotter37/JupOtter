{
 "cells": [
  {
   "cell_type": "markdown",
   "metadata": {},
   "source": [
    "This notebook contains some HDF5-manipulation code to write a new dataset `leftright` to a set of training samples. The `leftright` dataset should contain the joint coordinates for the left *or* right arm present in the sample; this means that both left arms and right arms will have a nonzero `leftright` entry.\n",
    "\n",
    "The aim here is to get a regressor which regresses any arms in an image, regardless of whether they're left or right. Presumably I'll still need the left/right classifier to do its thing as well if I'm to have any hope of integrating this into a real pipeline."
   ]
  },
  {
   "cell_type": "code",
   "execution_count": null,
   "metadata": {
    "collapsed": true
   },
   "outputs": [],
   "source": [
    "import h5py\n",
    "import numpy as np"
   ]
  },
  {
   "cell_type": "code",
   "execution_count": null,
   "metadata": {
    "collapsed": false
   },
   "outputs": [],
   "source": [
    "h5_paths = [\n",
    "    '../cache/train-patches-mpii/samples-000001.h5',\n",
    "    '../cache/train-patches-mpii/negatives.h5',\n",
    "    '../cache/val-patches-mpii/samples-000001.h5',\n",
    "    '../cache/val-patches-mpii/negatives.h5'\n",
    "]\n",
    "\n",
    "def add_leftright(path, overwrite=False):\n",
    "    with h5py.File(path, 'r+') as fp:\n",
    "        # Overwrite check\n",
    "        if 'leftright' in fp.keys():\n",
    "            print('Warning: \"{}\" already has a leftright dataset'.format(path))\n",
    "            if not overwrite:\n",
    "                print('Skipping')\n",
    "                return\n",
    "            print('Overwriting it')\n",
    "            del fp['leftright']\n",
    "            \n",
    "        # We'll save these old values for some assertions later\n",
    "        old_l = fp['left'][:]\n",
    "        old_r = fp['right'][:]\n",
    "        \n",
    "        # Now we can write the dataset\n",
    "        leftright = np.array(fp['left'][:])\n",
    "        class_nums = np.argmax(fp['class'], axis=1)\n",
    "        left_mask = class_nums == 1\n",
    "        right_mask = class_nums == 2\n",
    "        # Make sure we don't have any real annotations in there already\n",
    "        assert (leftright[right_mask] == 0).all()\n",
    "        # I'm doing [:] because there's a bug in h5py's selections.py;\n",
    "        # specifically, FancySelection.__getitem__ relies on a count\n",
    "        # variable which is zero when the selection vector is empty\n",
    "        # (or something). I should probably report this to the devs.\n",
    "        leftright[right_mask] = fp['right'][:][right_mask, :]\n",
    "        fp['leftright'] = leftright\n",
    "        \n",
    "        # Make sure that our new leftright dataset corresponds to the\n",
    "        # old left dataset and old right dataset\n",
    "        new_lr = fp['leftright'][:]\n",
    "        assert np.all(new_lr[right_mask] == old_r[right_mask])\n",
    "        assert np.all(new_lr[left_mask] == old_l[left_mask])\n",
    "\n",
    "for path in h5_paths:\n",
    "    print('Adding leftright to {}'.format(path))\n",
    "    add_leftright(path)"
   ]
  }
 ],
 "metadata": {
  "kernelspec": {
   "display_name": "Python 2",
   "language": "python",
   "name": "python2"
  },
  "language_info": {
   "codemirror_mode": {
    "name": "ipython",
    "version": 2
   },
   "file_extension": ".py",
   "mimetype": "text/x-python",
   "name": "python",
   "nbconvert_exporter": "python",
   "pygments_lexer": "ipython2",
   "version": "2.7.6"
  }
 },
 "nbformat": 4,
 "nbformat_minor": 0
}
