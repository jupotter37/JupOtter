{
 "cells": [
  {
   "cell_type": "markdown",
   "metadata": {},
   "source": [
    "# Exercici de navegació\n",
    "\n",
    "[<span title=\"Roomba navigating around furniture\"><img src=\"img/roomba.jpg\" align=\"right\" width=200></span>](https://www.youtube.com/watch?v=g3Qk2y38LZQ)\n",
    "Un robot mòbil com el Roomba de la imatge ha d'evitar xocar amb els obstacles del seu entorn, i si arriba a col·lisionar, ha de reaccionar per a no fer, ni fer-se mal.\n",
    "\n",
    "Amb el sensor de tacte no podem evitar el xoc, però si detectar-lo un cop es produeix, i reaccionar.\n",
    "\n",
    "L'objectiu d'aquest exercici és programar el següent comportament en el robot:\n",
    "\n",
    "* mentre no detecte res, el robot va cap avant\n",
    "* si el sensor detecta un xoc, el robot anirà cap enrere i girarà\n",
    "\n",
    "Connecteu el robot:"
   ]
  },
  {
   "cell_type": "code",
   "execution_count": null,
   "metadata": {
    "collapsed": false
   },
   "outputs": [],
   "source": [
    "from functions import connect, touch, forward, backward, left, right, stop, disconnect\n",
    "from time import sleep\n",
    "connect()"
   ]
  },
  {
   "cell_type": "markdown",
   "metadata": {},
   "source": [
    "## Versió 1.0\n",
    "\n",
    "Utilitzeu el codi de l'exemple anterior del bucle `while`: només heu d'afegir que, quan xoque, el robot vaja cap enrere, gire una mica (cap al vostre costat preferit), i pare."
   ]
  },
  {
   "cell_type": "code",
   "execution_count": null,
   "metadata": {
    "collapsed": false
   },
   "outputs": [],
   "source": [
    "while not touch():\n",
    "    forward()\n",
    "backward()\n",
    "sleep(1)\n",
    "left()\n",
    "sleep(1)\n",
    "stop()"
   ]
  },
  {
   "cell_type": "markdown",
   "metadata": {},
   "source": [
    "## Versió 2.0\n",
    "\n",
    "Se suposa que la maniobra del robot li permet evitar l'obstacle, i per tant tornar a anar cap avant. Com ho podem programar?\n",
    "\n",
    "Cal **repetir** tot el bloc d'instruccions del comportament, incloent el bucle. Cap problema, els llenguatges de programació permeten posar un bucle dins d'un altre, el que s'anomena **bucles anidats**.\n",
    "\n",
    "Utilitzeu un bucle `for` per a repetir 5 vegades el codi anterior."
   ]
  },
  {
   "cell_type": "code",
   "execution_count": null,
   "metadata": {
    "collapsed": false
   },
   "outputs": [],
   "source": [
    "for ...:\n",
    "    while ...:\n",
    "        ...\n",
    "    ..."
   ]
  },
  {
   "cell_type": "code",
   "execution_count": null,
   "metadata": {
    "collapsed": false
   },
   "outputs": [],
   "source": [
    "for i in range(5):\n",
    "    while not touch():\n",
    "        forward()\n",
    "    backward()\n",
    "    sleep(1)\n",
    "    left()\n",
    "    sleep(1)\n",
    "    stop()"
   ]
  },
  {
   "cell_type": "markdown",
   "metadata": {},
   "source": [
    "## Versió 3.0\n",
    "\n",
    "<img src=\"img/interrupt.png\" align=\"right\">\n",
    "I si en lloc de repetir 10 o 20 vegades, volem que el robot continue fins que el parem nosaltres? Ho podem fer amb un **bucle infinit**, i indicarem al programa que pare amb el botó `interrupt kernel`.\n",
    "\n",
    "En Python, un bucle infinit s'escriu així:\n",
    "```python\n",
    "while True:\n",
    "    statement\n",
    "```\n",
    "\n",
    "Quan s'interromp el programa, s'abandona la instrucció que s'estava executant en eixe moment, i cal parar el robot. En Python, aquest procés s'anomena **excepció** i es gestiona d'aquesta manera:\n",
    "```python\n",
    "try:\n",
    "    while True:\n",
    "        statement    # ací anirà el comportament\n",
    "except KeyboardInterrupt:\n",
    "    statement        # ací pararem el robot\n",
    "```\n",
    "Utilitzeu un bucle infinit per a repetir el comportament del robot fins que el pareu."
   ]
  },
  {
   "cell_type": "code",
   "execution_count": null,
   "metadata": {
    "collapsed": false
   },
   "outputs": [],
   "source": [
    "try:\n",
    "    while True:\n",
    "        while not touch():\n",
    "            forward()\n",
    "        backward()\n",
    "        sleep(1)\n",
    "        left()\n",
    "        sleep(1)\n",
    "except KeyboardInterrupt:\n",
    "    stop()"
   ]
  },
  {
   "cell_type": "markdown",
   "metadata": {},
   "source": [
    "## Versió 4.0\n",
    "\n",
    "El comportament del robot, girant sempre cap al mateix costat, és una mica previsible, no vos sembla?\n",
    "\n",
    "Anem a introduir un component d'atzar: en els llenguatges de programació, existeixen els [**generadors de números aleatoris**](https://en.wikipedia.org/wiki/Random_number_generation), que són com els *daus* dels ordinadors.\n",
    "\n",
    "Executeu el següent codi vàries vegades amb `Ctrl+Enter` i comproveu els resultats."
   ]
  },
  {
   "cell_type": "code",
   "execution_count": null,
   "metadata": {
    "collapsed": false
   },
   "outputs": [],
   "source": [
    "from random import random\n",
    "random()"
   ]
  },
  {
   "cell_type": "markdown",
   "metadata": {},
   "source": [
    "La funció `random` és com llançar un dau, però en compte de donar una valor d'1 a 6, dóna un número real entre 0 i 1.\n",
    "\n",
    "Aleshores, el robot pot utilitzar eixe valor per a decidir si gira a esquerra o dreta. Com? Doncs si el valor és major que 0.5, gira a un costat, i si no, cap a l'altre. Aleshores, girarà a l'atzar, amb una probabilitat del 50% per a cada costat.\n",
    "\n",
    "Incorporeu la decisió a l'atzar per a girar al codi de la versió anterior: "
   ]
  },
  {
   "cell_type": "code",
   "execution_count": null,
   "metadata": {
    "collapsed": false
   },
   "outputs": [],
   "source": [
    "try:\n",
    "    while True:\n",
    "        while not touch():\n",
    "            forward()\n",
    "        backward()\n",
    "        sleep(1)\n",
    "        if random() > 0.5:\n",
    "            left()\n",
    "        else:\n",
    "            right()\n",
    "        sleep(1)\n",
    "except KeyboardInterrupt:\n",
    "    stop()"
   ]
  },
  {
   "cell_type": "markdown",
   "metadata": {
    "collapsed": false
   },
   "source": [
    "## Recapitulem\n",
    "\n",
    "Abans de continuar, desconnecteu el robot:"
   ]
  },
  {
   "cell_type": "code",
   "execution_count": null,
   "metadata": {
    "collapsed": false
   },
   "outputs": [],
   "source": [
    "disconnect()"
   ]
  },
  {
   "cell_type": "markdown",
   "metadata": {
    "collapsed": true
   },
   "source": [
    "Tot el que hem vist en aquest exercici:\n",
    "\n",
    "* bucles anidats\n",
    "* excepcions\n",
    "* números aleatoris\n",
    "\n",
    "No està malament, quasi hem vist el temari d'un primer curs de programació, i això només amb un sensor!\n",
    "\n",
    "Passem a vore doncs el següent sensor.\n",
    "\n",
    "### [>>> Sensor de so](./sound.ipynb)"
   ]
  }
 ],
 "metadata": {
  "anaconda-cloud": {},
  "kernelspec": {
   "display_name": "Python [conda env:py34]",
   "language": "python",
   "name": "conda-env-py34-py"
  },
  "language_info": {
   "codemirror_mode": {
    "name": "ipython",
    "version": 3
   },
   "file_extension": ".py",
   "mimetype": "text/x-python",
   "name": "python",
   "nbconvert_exporter": "python",
   "pygments_lexer": "ipython3",
   "version": "3.4.2"
  }
 },
 "nbformat": 4,
 "nbformat_minor": 2
}
