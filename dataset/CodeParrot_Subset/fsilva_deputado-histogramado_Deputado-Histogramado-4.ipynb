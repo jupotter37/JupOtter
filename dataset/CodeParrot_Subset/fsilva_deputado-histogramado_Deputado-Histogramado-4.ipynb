{
 "cells": [
  {
   "cell_type": "markdown",
   "metadata": {},
   "source": [
    "Deputado Histogramado\n",
    "============\n",
    "\n",
    "[expressao.xyz/deputado/](http://expressao.xyz/deputado/)\n",
    "\n",
    "Como processar as sessões do parlamento Português"
   ]
  },
  {
   "cell_type": "markdown",
   "metadata": {},
   "source": [
    "Índice\n",
    "-----\n",
    "\n",
    "1. [Reunír o dataset](Deputado-Histogramado-1.ipynb)\n",
    "2. [Contando as palavras mais comuns](Deputado-Histogramado-2.ipynb)\n",
    "3. [Fazendo histogramas](Deputado-Histogramado-3.ipynb)\n",
    "4. [Representações geograficas](Deputado-Histogramado-4.ipynb)\n",
    "5. [Simplificar o dataset e exportar para o expressa.xyz/deputado/](Deputado-Histogramado-5.ipynb)"
   ]
  },
  {
   "cell_type": "markdown",
   "metadata": {},
   "source": [
    "\n"
   ]
  },
  {
   "cell_type": "markdown",
   "metadata": {},
   "source": [
    "O que se passou nas mais de 4000 sessões de discussão do parlamento Português que ocorreram desde 1976? \n",
    "Neste notebook vamos tentar visualizar o que se passou da maneira mais simples - contando palavras, e fazendo gráficos.\n",
    "\n",
    "Para obter os textos de todas as sessões usaremos o [demo.cratica.org](demo.cratica.org), onde podemos aceder facilmente a todas as sessões do parlamento de 1976 a 2015. Depois com um pouco de python, pandas e matplotlib vamos analisar o que se passou.\n",
    "\n",
    "Para executar estes notebook será necessário descarregar e abrir com o Jupiter Notebooks (a distribuição Anaconda faz com que instalar todas as ferramentas necessárias seja fácil - https://www.continuum.io/downloads)"
   ]
  },
  {
   "cell_type": "markdown",
   "metadata": {},
   "source": [
    "## Parte 4 - Regionalização\n",
    "\n",
    "Vamos tentar representar que distritos de Portugal são mais referenciados no Parlamento.\n",
    "\n",
    "Para isso vamos usar dois pacotes de python muito úteis e faceis de usar: geopy para obter as localizações das cidades, e Basemap para a representação.\n",
    "\n",
    "Começemos por localizar todas os distritos/cidades. \n",
    "De notar que a função geocode aceita moradas e retorna as coordenadas de GPS. (!!) \n",
    "\n"
   ]
  },
  {
   "cell_type": "code",
   "execution_count": 1,
   "metadata": {
    "collapsed": false
   },
   "outputs": [
    {
     "name": "stdout",
     "output_type": "stream",
     "text": [
      "Açores:Açores, Portugal (águas territoriais) (-25.4730851864796,37.80852735)\n",
      "Madeira:Madeira, Portugal (águas territoriais) (-16.9817465612925,32.75175465)\n",
      "Aveiro:Aveiro, Baixo Vouga, Centro, Portugal (-8.653784,40.640496)\n",
      "Beja:Beja, Baixo Alentejo, Alentejo, Portugal (-7.865254,38.0156043)\n",
      "Braga:Braga, Cávado, Norte, Portugal (-8.4280044,41.5510583)\n",
      "Bragança:Bragança, Trás-os-Montes, Norte, Portugal (-6.7589838,41.8071182)\n",
      "Castelo Branco:Castelo Branco, Beira Interior Sul, Centro, Portugal (-7.4992061,39.8204214)\n",
      "Coimbra:Coimbra, Baixo Mondego, Centro, Portugal (-8.4292056,40.2109801)\n",
      "Évora:Évora, Alentejo Central, Alentejo, Portugal (-7.9092807,38.5707742)\n",
      "Faro:Faro, Algarve, Portugal (-7.93193651699148,37.0537571)\n",
      "Guarda:Guarda, Beira Interior Norte, Centro, Portugal (-7.2689162,40.5388855)\n",
      "Leiria:Leiria, Pinhal Litoral, Centro, Portugal (-8.8080364,39.7445357)\n",
      "Lisboa:Lisboa, Grande Lisboa, Área Metropolitana de Lisboa, Portugal (-9.136506,38.7077926)\n",
      "Portalegre:Portalegre, Alto Alentejo, Alentejo, Portugal (-7.4333419,39.2911275)\n",
      "Porto:Porto, Área Metropolitana do Porto, Norte, Portugal (-8.6107883,41.1494512)\n",
      "Santarém:Santarém, Lezíria do Tejo, Alentejo, Portugal (-8.69153984869676,39.3260467)\n",
      "Setúbal:Setúbal, Península de Setúbal, Área Metropolitana de Lisboa, Portugal (-8.89634062930799,38.51736365)\n",
      "Viana do Castelo:Viana do Castelo, Alto Minho, Norte, Portugal (-8.8299056,41.6951435)\n",
      "Vila Real:Vila Real, Douro, Norte, Portugal (-7.76422806310637,41.3006242)\n",
      "Viseu:Viseu, Viseu Dão-Lafões, Centro, Portugal (-7.9138663,40.6574713)\n"
     ]
    }
   ],
   "source": [
    "# capitais de distrito, encontra latitude e longitude\n",
    "\n",
    "import geopy\n",
    "from geopy.geocoders import Nominatim\n",
    "geolocator = Nominatim()\n",
    "\n",
    "long = []\n",
    "lat = []\n",
    "cities = ['Açores','Madeira','Aveiro','Beja','Braga','Bragança','Castelo Branco','Coimbra','Évora','Faro','Guarda','Leiria','Lisboa','Portalegre','Porto','Santarém','Setúbal','Viana do Castelo','Vila Real','Viseu']\n",
    "#cities = ['Aveiro','Braga','Porto','Lisboa']\n",
    "\n",
    "for city in cities:\n",
    "    location = geolocator.geocode(city+',Portugal')\n",
    "    print(city + ':' + location.address + ' ('+str(location.longitude)+','+str(location.latitude)+')')\n",
    "    long.append(location.longitude)\n",
    "    lat.append(location.latitude)"
   ]
  },
  {
   "cell_type": "markdown",
   "metadata": {},
   "source": [
    "De um modo similar ao que fizemos antes, vamos contar todas as ocorrencias em todas as sessões do nome de cada cidade"
   ]
  },
  {
   "cell_type": "code",
   "execution_count": 7,
   "metadata": {
    "collapsed": false
   },
   "outputs": [
    {
     "name": "stdout",
     "output_type": "stream",
     "text": [
      "A contar...\n",
      "Açores 13047\n",
      "Madeira 27571\n",
      "Aveiro 4819\n",
      "Beja 3786\n",
      "Braga 14284\n",
      "Bragança 2177\n",
      "Castelo Branco 1769\n",
      "Coimbra 8677\n",
      "Évora 2354\n",
      "Faro 2062\n",
      "Guarda 4792\n",
      "Leiria 2644\n",
      "Lisboa 31234\n",
      "Portalegre 1077\n",
      "Porto 32680\n",
      "Santarém 2073\n",
      "Setúbal 4380\n",
      "Viana do Castelo 2743\n",
      "Vila Real 2099\n",
      "Viseu 3117\n"
     ]
    }
   ],
   "source": [
    "%matplotlib inline\n",
    "import pylab\n",
    "import matplotlib\n",
    "import pandas\n",
    "import numpy\n",
    "\n",
    "\n",
    "dateparse = lambda x: pandas.datetime.strptime(x, '%Y-%m-%d')\n",
    "sessoes = pandas.read_csv('sessoes_democratica_org.csv',index_col=0,parse_dates=['data'], date_parser=dateparse)\n",
    "\n",
    "from functools import reduce\n",
    "\n",
    "# retira falsas ocorrencias de 'guarda' e 'porto'\n",
    "def conta_palavras(texto,palavra):\n",
    "    return texto.replace('aeroporto','').replace('lopes porto','').replace('guardar','').replace('guardas','').replace('guardado','').replace('aguarda','').replace('vanguarda','').replace('salvaguarda','').replace('guarda nacional','').replace('guarda civil','').count(palavra.lower())\n",
    "\n",
    "def conta_ocorrencias(palavra):\n",
    "    return numpy.sum(sessoes['sessao'].map(lambda texto: conta_palavras(texto,palavra)))\n",
    "    \n",
    "print('A contar...')\n",
    "contagens = []\n",
    "for cidade in cities:\n",
    "    contagem = conta_ocorrencias(cidade)\n",
    "    print(cidade +' '+str(contagem))\n",
    "    contagens.append(contagem)\n",
    "\n"
   ]
  },
  {
   "cell_type": "markdown",
   "metadata": {},
   "source": [
    "Agora representamos o mapa, e depois desenhamos circulos para cada cidade, de cor e tamanho variável consoante o número de menções.\n",
    "\n",
    "Para representar os distritos Portugueses necessitamos de um dataset com os 'shapefiles' destes: obtem-o em http://www.gadm.org/country\n",
    "Alternativamente o script tambem executa sem a linha 'shp_info = ...'.\n"
   ]
  },
  {
   "cell_type": "code",
   "execution_count": 8,
   "metadata": {
    "collapsed": false
   },
   "outputs": [
    {
     "name": "stderr",
     "output_type": "stream",
     "text": [
      "/Users/fsilva/anaconda/lib/python3.6/site-packages/mpl_toolkits/basemap/__init__.py:1767: MatplotlibDeprecationWarning: The get_axis_bgcolor function was deprecated in version 2.0. Use get_facecolor instead.\n",
      "  axisbgc = ax.get_axis_bgcolor()\n",
      "/Users/fsilva/anaconda/lib/python3.6/site-packages/mpl_toolkits/basemap/__init__.py:3222: MatplotlibDeprecationWarning: The ishold function was deprecated in version 2.0.\n",
      "  b = ax.ishold()\n",
      "/Users/fsilva/anaconda/lib/python3.6/site-packages/mpl_toolkits/basemap/__init__.py:3231: MatplotlibDeprecationWarning: axes.hold is deprecated.\n",
      "    See the API Changes document (http://matplotlib.org/api/api_changes.html)\n",
      "    for more details.\n",
      "  ax.hold(b)\n"
     ]
    },
    {
     "data": {
      "image/png": "[encoded data removed]",
      "text/plain": [
       "<matplotlib.figure.Figure at 0x120839198>"
      ]
     },
     "metadata": {},
     "output_type": "display_data"
    }
   ],
   "source": [
    "from mpl_toolkits.basemap import Basemap\n",
    "pylab.figure(figsize=(20,10))\n",
    "#map = Basemap(projection='merc',lat_0=40,lon_0=0,resolution='l',llcrnrlon=-10.5, llcrnrlat=36,urcrnrlon=-5.5, urcrnrlat=43) # PT continental\n",
    "map = Basemap(projection='merc',lat_0=40,lon_0=0,resolution='l',llcrnrlon=-32, llcrnrlat=31,urcrnrlon=-5.5, urcrnrlat=43)\n",
    "#shp_info = map.readshapefile('PRT_adm0','',drawbounds=True)#país\n",
    "shp_info = map.readshapefile('PRT_adm1','',drawbounds=True)#distritos\n",
    "#shp_info = map.readshapefile('PRT_adm2','',drawbounds=True)#concelhos\n",
    "#shp_info = map.readshapefile('PRT_adm3','',drawbounds=True)#freguesias\n",
    "map.drawcoastlines(linewidth=0.25)\n",
    "map.fillcontinents(color='#00ff00',lake_color='aqua')\n",
    "map.drawmapboundary(fill_color='aqua')\n",
    "\n",
    "contagens = numpy.array(contagens)\n",
    "size = 10+1000*contagens/max(contagens)\n",
    "color = contagens/max(contagens)\n",
    "\n",
    "x,y = map(long, lat)\n",
    "map.scatter(x, y,s=size, c=-color, zorder=10, cmap=pylab.autumn())\n",
    "\n",
    "pylab.show()"
   ]
  },
  {
   "cell_type": "markdown",
   "metadata": {
    "collapsed": false
   },
   "source": [
    "Vamos claramente que a Madeira, Lisboa e Porto são as regiões mais discutidas. De seguida Açores, Braga e Coimbra. Já tinhamos estes dados na tabela acima, mas agora é visual.  De notar que as contagens de 'Porto' podem estar inflacionadas, pois a palavra é usada em vários contextos diferentes dificeis de isolar/rejeitar.\n",
    "\n",
    "\n",
    "\n",
    "Fica como exercício contar e representar os concelhos de cada distrito!"
   ]
  },
  {
   "cell_type": "code",
   "execution_count": null,
   "metadata": {
    "collapsed": false
   },
   "outputs": [],
   "source": []
  },
  {
   "cell_type": "code",
   "execution_count": null,
   "metadata": {
    "collapsed": true
   },
   "outputs": [],
   "source": []
  }
 ],
 "metadata": {
  "kernelspec": {
   "display_name": "Python 3",
   "language": "python",
   "name": "python3"
  },
  "language_info": {
   "codemirror_mode": {
    "name": "ipython",
    "version": 3
   },
   "file_extension": ".py",
   "mimetype": "text/x-python",
   "name": "python",
   "nbconvert_exporter": "python",
   "pygments_lexer": "ipython3",
   "version": "3.6.0"
  }
 },
 "nbformat": 4,
 "nbformat_minor": 2
}
