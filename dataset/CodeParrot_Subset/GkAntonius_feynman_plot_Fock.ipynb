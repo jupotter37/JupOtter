{
  "nbformat_minor": 0, 
  "nbformat": 4, 
  "cells": [
    {
      "execution_count": null, 
      "cell_type": "code", 
      "source": [
        "%matplotlib inline"
      ], 
      "outputs": [], 
      "metadata": {
        "collapsed": false
      }
    }, 
    {
      "source": [
        "\nFock exchange\n=============\n\nA simple diagram composed of vertices and lines.\n\n"
      ], 
      "cell_type": "markdown", 
      "metadata": {}
    }, 
    {
      "execution_count": null, 
      "cell_type": "code", 
      "source": [
        "import matplotlib.pyplot as plt\nfrom feynman import Diagram\n\n# If no Axes is given, a new one is initialized.\ndiagram = Diagram()\n\n# Create four vertices.\nv1 = diagram.vertex(xy=(.1,.5), marker='')\nv2 = diagram.vertex(v1.xy, dx=.2)\nv3 = diagram.vertex(v2.xy, dx=.4)\nv4 = diagram.vertex(v3.xy, dx=.2, marker='')\n\n# Create four lines.\n# By default, 'simple' lines have arrows\n# and others flavours such as 'wiggly' or 'loopy' don't.\nl12 = diagram.line(v1, v2)\nl23 = diagram.line(v2, v3)\nl34 = diagram.line(v3, v4, arrow=True)\nw23 = diagram.line(v2, v3, style='wiggly elliptic')\n\n# Add labels.\nl12.text(\"p\")\nw23.text(\"q\")\nl23.text(\"p - q\")\nl34.text(\"p\")\n\ndiagram.plot()\nplt.show()"
      ], 
      "outputs": [], 
      "metadata": {
        "collapsed": false
      }
    }
  ], 
  "metadata": {
    "kernelspec": {
      "display_name": "Python 2", 
      "name": "python2", 
      "language": "python"
    }, 
    "language_info": {
      "mimetype": "text/x-python", 
      "nbconvert_exporter": "python", 
      "name": "python", 
      "file_extension": ".py", 
      "version": "2.7.10", 
      "pygments_lexer": "ipython2", 
      "codemirror_mode": {
        "version": 2, 
        "name": "ipython"
      }
    }
  }
}