{
 "cells": [
  {
   "cell_type": "markdown",
   "metadata": {},
   "source": [
    "# Sparse Linear Inverse Demo\n",
    "\n",
    "In this demo, we illustrate how to use the `vampyre` package for a simple sparse linear inverse problem.   The problem is to estimate a sparse vector $z$ from linear measurements of the form $y=Az+w$ where $w$ is Gaussian noise and $A$ is a known linear transform -- a basic problem in compressed sensing.  By *sparse*, we mean that the vector $z$ has few non-zero values.  Knowing that the vector is sparse can be used for improved reconstruction if an appropriate sparse reconstruction algorithm is used.\n",
    "\n",
    "There are a large number of algorithms for sparse linear inverse problems.  This demo uses the Vector Approximate Message Passing (VAMP) method, one of several methods that will be included in the `vampyre` package.  In going through this demo, you will learn to:\n",
    "* Load the `vampyre` package\n",
    "* Create synthetic data for a sparse linear inverse problem\n",
    "* Set up the VAMP method in the `vampyre` package to perform the estimation for the linear inverse problem\n",
    "* Measure the mean squared error (MSE) and compare the value to the predicted value from the VAMP method.\n",
    "* Using the `hist_list` feature to track variables per iteration of the algorithm."
   ]
  },
  {
   "cell_type": "markdown",
   "metadata": {},
   "source": [
    "## Importing the Package \n",
    "\n",
    "\n",
    "First we need to import the `vampyre` package.  Since `python` does not have relative imports, you need to add the path location for the `vampyre` package to the system path.  In this case, we have specified the path use a relative path location, but you can change this depending on where `vampyre` is located."
   ]
  },
  {
   "cell_type": "code",
   "execution_count": 1,
   "metadata": {},
   "outputs": [
    {
     "name": "stderr",
     "output_type": "stream",
     "text": [
      "/home/naxos2-raid9/hbraun/lib/vampyre/vampyre/trans/tflintrans.py:11: UserWarning: Tensorflow not installed.  Some functionality may not be available\n",
      "  'Some functionality may not be available')\n"
     ]
    }
   ],
   "source": [
    "import os\n",
    "import sys\n",
    "vp_path = os.path.abspath('../../')\n",
    "if not vp_path in sys.path:\n",
    "    sys.path.append(vp_path)\n",
    "import vampyre as vp"
   ]
  },
  {
   "cell_type": "markdown",
   "metadata": {},
   "source": [
    "We will also load the other packages we will use in this demo.  This could be done before the above import."
   ]
  },
  {
   "cell_type": "code",
   "execution_count": 2,
   "metadata": {},
   "outputs": [],
   "source": [
    "import numpy as np\n",
    "import matplotlib\n",
    "import matplotlib.pyplot as plt\n",
    "%matplotlib inline"
   ]
  },
  {
   "cell_type": "markdown",
   "metadata": {},
   "source": [
    "## Generating Synthetic Data\n",
    "\n",
    "We begin by generating synthetic data $z$ and measurements $y$ that we will use to test the algorithms. First, we set the dimensions and the shapes of the vectors we will use."
   ]
  },
  {
   "cell_type": "code",
   "execution_count": 3,
   "metadata": {},
   "outputs": [],
   "source": [
    "# Parameters\n",
    "nz = 1000   # number of components of z\n",
    "ny = 500    # number of measurements y \n",
    "\n",
    "# Compute the shapes\n",
    "zshape = (nz,)   # Shape of z matrix\n",
    "yshape = (ny,)   # Shape of y matrix\n",
    "Ashape = (ny,nz)   # Shape of A matrix"
   ]
  },
  {
   "cell_type": "markdown",
   "metadata": {},
   "source": [
    "To generate the synthetic data for this demo, we use the following simple probabilistic model.  For the input $z$, we will use Bernouli-Gaussian (BG) distribution, a simple  model in sparse signal processing.  In the BG model, the components $z_i$ are i.i.d. where each component $z_i=0$ with probability $1-\\rho$ and $z_i \\sim {\\mathcal N}(0,1)$ with probability $\\rho$.  The parameter $\\rho$ is called the *sparsity ratio* and represents the average number of non-zero components.  When $\\rho$ is small, the vector $z$ is sparse.  The components on which $z_i$ are non-zero are called the *active* components.  We set the parameters below.  We also set the SNR for the measurements."
   ]
  },
  {
   "cell_type": "code",
   "execution_count": 4,
   "metadata": {},
   "outputs": [],
   "source": [
    "sparse_rat = 0.1   # sparsity ratio\n",
    "zmean1 = 0         # mean for the active components\n",
    "zvar1 = 1          # variance for the active components\n",
    "snr = 30           # SNR in dB"
   ]
  },
  {
   "cell_type": "markdown",
   "metadata": {},
   "source": [
    "Using these parameters, we can generate random sparse `z` following this distribution with the following simple code."
   ]
  },
  {
   "cell_type": "code",
   "execution_count": 5,
   "metadata": {},
   "outputs": [],
   "source": [
    "# Generate the random input\n",
    "z1 = np.random.normal(zmean1, np.sqrt(zvar1), zshape)\n",
    "u = np.random.uniform(0, 1, zshape) < sparse_rat\n",
    "z = z1*u"
   ]
  },
  {
   "cell_type": "markdown",
   "metadata": {},
   "source": [
    "To illustrate the sparsity, we plot the vector `z`.  We can see from this plot that the majority of the components of `z` are zero."
   ]
  },
  {
   "cell_type": "code",
   "execution_count": 6,
   "metadata": {},
   "outputs": [
    {
     "data": {
      "text/plain": [
       "[<matplotlib.lines.Line2D at 0x214cdb72898>]"
      ]
     },
     "execution_count": 6,
     "metadata": {},
     "output_type": "execute_result"
    },
    {
     "data": {
      "image/png": "[encoded data removed]",
      "text/plain": [
       "<Figure size 432x288 with 1 Axes>"
      ]
     },
     "metadata": {},
     "output_type": "display_data"
    }
   ],
   "source": [
    "ind = np.array(range(nz))\n",
    "plt.plot(ind,z)"
   ]
  },
  {
   "cell_type": "markdown",
   "metadata": {},
   "source": [
    "Now, we create a random transform $A$ and output $y_0 = Az$."
   ]
  },
  {
   "cell_type": "code",
   "execution_count": 7,
   "metadata": {},
   "outputs": [],
   "source": [
    "A = np.random.normal(0, 1/np.sqrt(nz), Ashape)\n",
    "y0 = A.dot(z)"
   ]
  },
  {
   "cell_type": "markdown",
   "metadata": {},
   "source": [
    "Finally, we add noise at the desired SNR"
   ]
  },
  {
   "cell_type": "code",
   "execution_count": 8,
   "metadata": {},
   "outputs": [],
   "source": [
    "yvar = np.mean(np.abs(y0)**2)\n",
    "wvar = yvar*np.power(10, -0.1*snr)\n",
    "y = y0 + np.random.normal(0,np.sqrt(wvar), yshape)"
   ]
  },
  {
   "cell_type": "markdown",
   "metadata": {},
   "source": [
    "## Creating the Vampyre estimators\n",
    "\n",
    "Now that we have created the sparse data, we will use the `vampyre` package to recover `z` from `y`.  In `vampyre` the methods to perform this estimation are called *solvers*.  For this demo, we will use a simple solver called VAMP described in the paper:\n",
    "\n",
    "* Rangan, Sundeep, Philip Schniter, and Alyson Fletcher. \"Vector approximate message passing.\" arXiv preprint arXiv:1610.03082 (2016).\n",
    "\n",
    "\n",
    "Similar to most of the solvers in the `vampyre` package, the VAMP solver needs precise specifications of the probability distributions of `z` and `y`.  The simplest way to use VAMP is to specify two densities:\n",
    "* The prior $p(z)$; and\n",
    "* The likelihood $p(y|z)$.\n",
    "\n",
    "Each of the densities are described by *estimators*.  \n",
    "\n",
    "We first describe the estimator for the prior $p(z)$.  The `vampyre` package will eventually have a large number of estimators to describe various densities.  In this simple demo, $p(z)$ is what is called a *mixture* distribution since $z$ is one distribution with probability $1-\\rho$ and a second distribution with probability $\\rho$.  To describe this mixture distribution in the `vampyre` package, we need to first create estimator classes for each component distribution.  The following code creates an estimator, `est0`, for a discrete distribution with a probability of 1 at a 0 and a second estimator, `est1`, for the Gaussian distribution with the active components."
   ]
  },
  {
   "cell_type": "code",
   "execution_count": 9,
   "metadata": {},
   "outputs": [],
   "source": [
    "est0 = vp.estim.DiscreteEst(0,1,zshape)\n",
    "est1 = vp.estim.GaussEst(zmean1,zvar1,zshape)"
   ]
  },
  {
   "cell_type": "markdown",
   "metadata": {},
   "source": [
    "We next use the `vampyre` class, `MixEst`, to describe a mixture of the two distributions.  This is done by creating a list, `est_list`, of the estimators and an array `pz` with the probability of each component.  The resulting estimator, `est_in`, is the estimator for the prior $z$, which is also the input to the transform $A$.  We give this a name `Input` since it corresponds to the input.  But, any naming is fine.  Or, you can let `vampyre` give it a generic name."
   ]
  },
  {
   "cell_type": "code",
   "execution_count": 10,
   "metadata": {},
   "outputs": [],
   "source": [
    "est_list = [est0, est1]\n",
    "pz = np.array([1-sparse_rat, sparse_rat])\n",
    "est_in = vp.estim.MixEst(est_list, w=pz, name='Input')"
   ]
  },
  {
   "cell_type": "markdown",
   "metadata": {},
   "source": [
    "Next, we describe the likelihood function, $p(y|z)$.  Since $y=Az+w$, we can first use the `MatrixLT` class to define a linear transform operator `Aop` corresponding to the matrix `A`.  Then, we use the `LinEstim` class to describe the likelihood $y=Az+w$."
   ]
  },
  {
   "cell_type": "code",
   "execution_count": 11,
   "metadata": {},
   "outputs": [],
   "source": [
    "Aop = vp.trans.MatrixLT(A,zshape)\n",
    "est_out = vp.estim.LinEst(Aop,y,wvar,map_est=False, name='Output')"
   ]
  },
  {
   "cell_type": "markdown",
   "metadata": {},
   "source": [
    "Finally, the VAMP method needs a message handler to describe how to perform the Gaussian message passing.  This is a more advanced feature.  For most applications, you can just use the simple message handler as follows."
   ]
  },
  {
   "cell_type": "code",
   "execution_count": 12,
   "metadata": {},
   "outputs": [],
   "source": [
    "msg_hdl = vp.estim.MsgHdlSimp(map_est=False, shape=zshape)"
   ]
  },
  {
   "cell_type": "markdown",
   "metadata": {},
   "source": [
    "## Running the VAMP Solver\n",
    "\n",
    "Having described the input and output estimators and the variance handler, we can now construct a VAMP solver.   The construtor takes the input and output estimators, the variance handler and other parameters. The paramter `nit` is the number of iterations.  This is fixed for now.  Later, we will add auto-termination.  The other parameter, `hist_list` is optional, and will be described momentarily.  "
   ]
  },
  {
   "cell_type": "code",
   "execution_count": 13,
   "metadata": {
    "scrolled": true
   },
   "outputs": [],
   "source": [
    "nit = 20  # number of iterations\n",
    "solver = vp.solver.Vamp(est_in,est_out,msg_hdl,\\\n",
    "                        hist_list=['zhat', 'zhatvar'],nit=nit)"
   ]
  },
  {
   "cell_type": "markdown",
   "metadata": {},
   "source": [
    "We can print a summary of the model which indicates the dimensions and the estimators."
   ]
  },
  {
   "cell_type": "code",
   "execution_count": 14,
   "metadata": {},
   "outputs": [
    {
     "name": "stdout",
     "output_type": "stream",
     "text": [
      "Variable:  shape: (1000,), var_axes: (0,)\n",
      "est0: Input (Mixture)\n",
      "est1: Output (LinEstim)\n"
     ]
    }
   ],
   "source": [
    "solver.summary()"
   ]
  },
  {
   "cell_type": "markdown",
   "metadata": {},
   "source": [
    "We now run the solver by calling the `solve()` method.  For a small problem like this, this should be close to instantaneous.  "
   ]
  },
  {
   "cell_type": "code",
   "execution_count": 15,
   "metadata": {},
   "outputs": [],
   "source": [
    "solver.solve()"
   ]
  },
  {
   "cell_type": "markdown",
   "metadata": {},
   "source": [
    "The VAMP solver estimate is the field `zhat`.  We plot one column of this (`icol=0`) and compare it to the corresponding column of the true matrix `z`.  You should see a very good match."
   ]
  },
  {
   "cell_type": "code",
   "execution_count": 16,
   "metadata": {},
   "outputs": [
    {
     "data": {
      "text/plain": [
       "<matplotlib.legend.Legend at 0x214cda8a978>"
      ]
     },
     "execution_count": 16,
     "metadata": {},
     "output_type": "execute_result"
    },
    {
     "data": {
      "image/png": "[encoded data removed]",
      "text/plain": [
       "<Figure size 432x288 with 1 Axes>"
      ]
     },
     "metadata": {},
     "output_type": "display_data"
    }
   ],
   "source": [
    "zhat = solver.zhat\n",
    "ind = np.array(range(nz))\n",
    "plt.plot(ind,z)\n",
    "plt.plot(ind,zhat)\n",
    "plt.legend(['True', 'Estimate'])"
   ]
  },
  {
   "cell_type": "markdown",
   "metadata": {},
   "source": [
    "We can measure the normalized mean squared error as follows.  The VAMP solver also produces an estimate of the MSE in the variable `zhatvar`.  We can extract this variable to compute the predicted MSE.  We see that the normalized MSE is indeed low and closely matches the predicted value from VAMP."
   ]
  },
  {
   "cell_type": "code",
   "execution_count": 17,
   "metadata": {},
   "outputs": [
    {
     "name": "stdout",
     "output_type": "stream",
     "text": [
      "Normalized MSE (dB): actual -36.299375 pred -36.400120\n"
     ]
    }
   ],
   "source": [
    "zerr = np.mean(np.abs(zhat-z)**2)\n",
    "zhatvar = solver.zhatvar\n",
    "zpow = np.mean(np.abs(z)**2)\n",
    "mse_act = 10*np.log10(zerr/zpow)\n",
    "mse_pred = 10*np.log10(zhatvar/zpow)\n",
    "print(\"Normalized MSE (dB): actual {0:f} pred {1:f}\".format(mse_act, mse_pred))"
   ]
  },
  {
   "cell_type": "markdown",
   "metadata": {},
   "source": [
    "Finally, we can plot the actual and predicted MSE as a function of the iteration number.  When `solver` was contructed, we passed an argument `hist_list=['zhat', 'zhatvar']`.  This indicated to store the value of the estimate `zhat` and predicted error variance `zhatvar` with each iteration.  We can recover these values from `solver.hist_dict`, the history dictionary.  Using the values we can compute and plot the normalized MSE on each iteartion.  We see that VAMP gets a low MSE in very few iterations, about 10."
   ]
  },
  {
   "cell_type": "code",
   "execution_count": 18,
   "metadata": {},
   "outputs": [
    {
     "data": {
      "image/png": "[encoded data removed]",
      "text/plain": [
       "<Figure size 432x288 with 1 Axes>"
      ]
     },
     "metadata": {},
     "output_type": "display_data"
    }
   ],
   "source": [
    "# Compute the MSE as a function of the iteration\n",
    "zhat_hist = solver.hist_dict['zhat']\n",
    "zhatvar_hist = solver.hist_dict['zhatvar']\n",
    "nit = len(zhat_hist)\n",
    "mse_act = np.zeros(nit)\n",
    "mse_pred = np.zeros(nit)\n",
    "for it in range(nit):\n",
    "    zerr = np.mean(np.abs(zhat_hist[it]-z)**2)\n",
    "    mse_act[it] = 10*np.log10(zerr/zpow)\n",
    "    mse_pred[it] = 10*np.log10(zhatvar_hist[it]/zpow)\n",
    "    \n",
    "plt.plot(range(nit), mse_act, 'o-', linewidth=2)\n",
    "plt.plot(range(nit), mse_pred, 's', linewidth=1)\n",
    "plt.xlabel('Iteration')\n",
    "plt.ylabel('Normalized MSE (dB)')\n",
    "plt.legend(['Actual', 'Predicted'])\n",
    "plt.grid()"
   ]
  },
  {
   "cell_type": "code",
   "execution_count": null,
   "metadata": {
    "collapsed": true
   },
   "outputs": [],
   "source": []
  },
  {
   "cell_type": "code",
   "execution_count": null,
   "metadata": {},
   "outputs": [],
   "source": []
  },
  {
   "cell_type": "code",
   "execution_count": null,
   "metadata": {},
   "outputs": [],
   "source": []
  },
  {
   "cell_type": "code",
   "execution_count": null,
   "metadata": {},
   "outputs": [],
   "source": []
  },
  {
   "cell_type": "code",
   "execution_count": null,
   "metadata": {
    "collapsed": true
   },
   "outputs": [],
   "source": []
  }
 ],
 "metadata": {
  "anaconda-cloud": {},
  "kernelspec": {
   "display_name": "Python 3",
   "language": "python",
   "name": "python3"
  },
  "language_info": {
   "codemirror_mode": {
    "name": "ipython",
    "version": 3
   },
   "file_extension": ".py",
   "mimetype": "text/x-python",
   "name": "python",
   "nbconvert_exporter": "python",
   "pygments_lexer": "ipython3",
   "version": "3.6.4"
  }
 },
 "nbformat": 4,
 "nbformat_minor": 1
}
