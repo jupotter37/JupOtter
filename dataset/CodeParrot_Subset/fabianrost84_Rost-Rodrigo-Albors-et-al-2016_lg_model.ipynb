{
 "cells": [
  {
   "cell_type": "markdown",
   "metadata": {},
   "source": [
    "# A model for spinal cord outgrowth and growth fraction"
   ]
  },
  {
   "cell_type": "code",
   "execution_count": 1,
   "metadata": {
    "collapsed": false
   },
   "outputs": [
    {
     "name": "stderr",
     "output_type": "stream",
     "text": [
      "/home/fabian/anaconda2/lib/python2.7/site-packages/IPython/config.py:13: ShimWarning: The `IPython.config` package has been deprecated. You should import from traitlets.config instead.\n",
      "  \"You should import from traitlets.config instead.\", ShimWarning)\n",
      "/home/fabian/anaconda2/lib/python2.7/site-packages/IPython/utils/traitlets.py:5: UserWarning: IPython.utils.traitlets has moved to a top-level traitlets package.\n",
      "  warn(\"IPython.utils.traitlets has moved to a top-level traitlets package.\")\n"
     ]
    }
   ],
   "source": [
    "import scipy as sp\n",
    "import scipy.integrate\n",
    "import scipy.optimize\n",
    "import scipy.stats\n",
    "import gc\n",
    "\n",
    "\n",
    "import pandas as pd\n",
    "import matplotlib.pyplot as plt\n",
    "%matplotlib inline\n",
    "%config InlineBackend.figure_format = 'svg'\n",
    "import random\n",
    "import multiprocessing\n",
    "pool = multiprocessing.Pool()\n",
    "%load_ext ipycache\n",
    "import probfit\n",
    "import collections\n",
    "import functools\n",
    "import iminuit\n",
    "\n",
    "def memoize(obj):\n",
    "    cache = obj.cache = {}\n",
    "\n",
    "    @functools.wraps(obj)\n",
    "    def memoizer(*args, **kwargs):\n",
    "        key = str(args) + str(kwargs)\n",
    "        if key not in cache:\n",
    "            cache[key] = obj(*args, **kwargs)\n",
    "        return cache[key]\n",
    "    return memoizer"
   ]
  },
  {
   "cell_type": "markdown",
   "metadata": {},
   "source": [
    "## Model definition"
   ]
  },
  {
   "cell_type": "code",
   "execution_count": 2,
   "metadata": {
    "collapsed": true
   },
   "outputs": [],
   "source": [
    "def lg_model(model_input, time):\n",
    "    \"\"\" integrates the model ODEs\n",
    "        \n",
    "        model_input is expected to be a dict containting the entries\n",
    "        L0, G0, Tct, k and v. \n",
    "        L0  ... float, initial regeneration zone length\n",
    "        G0  ... float, intitial growth fraction\n",
    "        Tct ... function of t, returning a float\n",
    "        k   ... float, activation rate\n",
    "        v   ... float, clone displacement speed at L0\n",
    "    \n",
    "        time ... array of timepoints for which to solve the ODE. First\n",
    "                 entry is expected to be the time when Nc0 was measured.\n",
    "    \"\"\"\n",
    "    L0 = model_input['L0']\n",
    "    G0 = model_input['G0']\n",
    "    Tct = model_input['Tct']\n",
    "    k = model_input['k']\n",
    "    v = model_input['v']\n",
    "    \n",
    "    def ode_rhs((Lout, G), t0):\n",
    "        dLout_dt = sp.log(2) / Tct(t0) * (Lout + L0) * G + v\n",
    "        dG_dt = (1 - G) * (k + sp.log(2) / Tct(t0) * G)\n",
    "        return [dLout_dt, dG_dt]\n",
    "    \n",
    "    LG = sp.integrate.odeint(ode_rhs, (0.0, G0), time)\n",
    "    \n",
    "    L = LG[:,0]\n",
    "    G = LG[:,1]\n",
    "    \n",
    "    return L, G"
   ]
  },
  {
   "cell_type": "code",
   "execution_count": 3,
   "metadata": {
    "collapsed": true
   },
   "outputs": [],
   "source": [
    "def modelint(model_input, time):\n",
    "    \"\"\" integrates the model ODEs and returns the solution as linear\n",
    "        interpolation functions.\n",
    "        \n",
    "        model_input is expected to be a dict containting the entries\n",
    "        L0, G0, Tct, k and v. \n",
    "        L0  ... float, initial regeneration zone length\n",
    "        G0  ... float, intitial growth fraction\n",
    "        Tct ... function of t, returning a float\n",
    "        k   ... float, activation rate\n",
    "        v   ... float, clone displacement speed at L0\n",
    "    \n",
    "        time ... array of timepoints for which to solve the ODE. First\n",
    "                 entry is expected to be the time when Nc0 was measured.\n",
    "    \"\"\"\n",
    "    Lp, Gp = lg_model(model_input, time)\n",
    "    \n",
    "    L = lambda t: sp.interp(t, time, Lp)\n",
    "    G = lambda t: sp.interp(t, time, Gp)\n",
    "    \n",
    "    return pd.Series({'L': L, 'G': G})"
   ]
  },
  {
   "cell_type": "code",
   "execution_count": 4,
   "metadata": {
    "collapsed": true
   },
   "outputs": [],
   "source": [
    "def plot_solution(time, solution):\n",
    "    fig, ax = plt.subplots(ncols = 2, sharex = True)\n",
    "    ax[0].plot(time, solution['L'](time))\n",
    "    ax[0].set_ylabel('L')\n",
    "    ax[1].plot(time, solution['G'](time))\n",
    "    ax[1].set_xlabel('time')\n",
    "    ax[1].set_ylabel('G')\n",
    "    ax[1].set_ylim(-0.05, 1.05)\n",
    "    \n",
    "    return fig, ax"
   ]
  },
  {
   "cell_type": "markdown",
   "metadata": {},
   "source": [
    "## Data"
   ]
  },
  {
   "cell_type": "markdown",
   "metadata": {},
   "source": [
    "Source zone length"
   ]
  },
  {
   "cell_type": "code",
   "execution_count": 5,
   "metadata": {
    "collapsed": true
   },
   "outputs": [],
   "source": [
    "L0 = pd.read_csv('../../data/source_zone_length.csv').iloc[0,0]"
   ]
  },
  {
   "cell_type": "markdown",
   "metadata": {},
   "source": [
    "outgrowth"
   ]
  },
  {
   "cell_type": "code",
   "execution_count": 6,
   "metadata": {
    "collapsed": false
   },
   "outputs": [],
   "source": [
    "outgrowth = pd.read_csv('../../data/outgrowth.csv')\n",
    "outgrowth_pop = outgrowth.groupby('time').agg(['mean', 'sem'])['length'].reset_index()"
   ]
  },
  {
   "cell_type": "markdown",
   "metadata": {},
   "source": [
    "Cell number data"
   ]
  },
  {
   "cell_type": "code",
   "execution_count": 7,
   "metadata": {
    "collapsed": true
   },
   "outputs": [],
   "source": [
    "cell_number_data = pd.read_csv('../../data/cell_number_data.csv')"
   ]
  },
  {
   "cell_type": "markdown",
   "metadata": {},
   "source": [
    "BrdU data (bootstrap result)"
   ]
  },
  {
   "cell_type": "code",
   "execution_count": 8,
   "metadata": {
    "collapsed": false
   },
   "outputs": [],
   "source": [
    "TC6dlist = pd.read_csv('../../data/TC6d.csv', squeeze = True)"
   ]
  },
  {
   "cell_type": "markdown",
   "metadata": {},
   "source": [
    "Velocity"
   ]
  },
  {
   "cell_type": "code",
   "execution_count": 9,
   "metadata": {
    "collapsed": false
   },
   "outputs": [],
   "source": [
    "clone_velocities = pd.read_csv('clone_velocities.csv')"
   ]
  },
  {
   "cell_type": "markdown",
   "metadata": {},
   "source": [
    "Class that handels the data:"
   ]
  },
  {
   "cell_type": "code",
   "execution_count": 10,
   "metadata": {
    "collapsed": false
   },
   "outputs": [],
   "source": [
    "class Data:\n",
    "    \"\"\" This class handles the raw data and produces partial model inputs\n",
    "        from these.\n",
    "    \"\"\"\n",
    "    def __init__(self, raw_data):\n",
    "        L0 = raw_data['L0']\n",
    "        cell_number_data = raw_data['cell_number_data']\n",
    "        cell_number_data = cell_number_data.query('pos >= - @L0').copy()\n",
    "        cell_number_data['G'] = cell_number_data['PCNA'] / cell_number_data['SOX2']\n",
    "        cell_number_data['mi'] = cell_number_data['m'] / cell_number_data['PCNA']\n",
    "\n",
    "        IDtime = {}\n",
    "        sametimeIDs = {}\n",
    "        for i, ID in enumerate(cell_number_data['ID'].unique()):\n",
    "            IDtime[ID] = float(cell_number_data.query('ID == @ID')['time'].unique())\n",
    "            sametimeIDs[ID] = list(cell_number_data[['time', 'ID']].drop_duplicates().query('time == @IDtime[@ID]')['ID'])\n",
    "        \n",
    "\n",
    "        data = raw_data.copy()\n",
    "        data['cell_number_data'] = cell_number_data\n",
    "        data['sametimeIDs'] = sametimeIDs\n",
    "        data['IDtime'] = IDtime\n",
    "        data['G_data'] = cell_number_data[['ID', 'G']].dropna().reset_index(drop=True).set_index('ID')\n",
    "        data['G_data']['time'] = [IDtime[ID] for ID in data['G_data'].index]\n",
    "        data['mi_data'] = cell_number_data[['ID', 'mi']].dropna().reset_index(drop=True).set_index('ID')\n",
    "        data['mi_data']['time'] = [IDtime[ID] for ID in data['mi_data'].index]\n",
    "        \n",
    "        data['G_data_mean'] = data['G_data'].groupby(level = 'ID').agg('mean').groupby('time').agg(['mean', 'std'])\n",
    "        data['mi_data_mean'] = data['mi_data'].groupby(level = 'ID').agg('mean').groupby('time').agg(['mean', 'std'])\n",
    "        \n",
    "        # displacement velocities (= influx at L0)\n",
    "        clone_velocities = raw_data['clone_velocities']\n",
    "        data['influx'] = clone_velocities.query('pos == -@L0')['v'].copy()\n",
    "    \n",
    "        \n",
    "        self.data = data\n",
    "        \n",
    "    def sample_v(self):\n",
    "        \n",
    "        v = self.data['influx'].sample(frac=1.0, replace = True).mean()\n",
    "        return v\n",
    "    \n",
    "    def resample_raw_data(self):\n",
    "        \"\"\" generate case resampled data from the raw data for bootstrapping\n",
    "        \"\"\"\n",
    "        sampled_data = {}\n",
    "        \n",
    "        # Source IDs for resampling\n",
    "        sourceIDs = {}\n",
    "        sametimeIDs = self.data['sametimeIDs']\n",
    "        for i, (ID, sametimeID) in enumerate(sametimeIDs.iteritems()):\n",
    "            sourceIDs[ID] = random.choice(sametimeID)\n",
    "\n",
    "        \n",
    "        # L0\n",
    "        sampled_data['L0'] = self.data['L0']\n",
    "        \n",
    "        # mi and G\n",
    "        sampled_data['mi_data'] = self.create_sampled_data(self.data['mi_data'], 'mi', sourceIDs, )\n",
    "        sampled_data['G_data'] = self.create_sampled_data(self.data['G_data'], 'G', sourceIDs)\n",
    "        \n",
    "        # v\n",
    "        sampled_data['v'] = self.sample_v()\n",
    "        \n",
    "        # Tc6d\n",
    "        sampled_data['Tc6d'] = self.data['Tc6d'].sample().iloc[0]\n",
    "        \n",
    "        return sampled_data\n",
    "        \n",
    "    def create_sampled_data(self, data, obs, sourceIDs):\n",
    "        sampled_data = []\n",
    "        IDtime = self.data['IDtime']\n",
    "        for i, sourceID in enumerate(sourceIDs.itervalues()):\n",
    "            for j in range(len(data.loc[sourceID])):\n",
    "                line = [i, IDtime[sourceID], data.loc[sourceID][obs].sample()[sourceID]]\n",
    "                sampled_data.append(line)\n",
    "        return pd.DataFrame(sampled_data, columns = ['ID', 'time', obs]).sort_values(by = ['time', 'ID']).set_index('ID')\n",
    "    \n",
    "    def para_and_G(self, sampled_data, basal_div):\n",
    "        para_and_G = {}\n",
    "        \n",
    "        # regeneration zone\n",
    "        L0 = sampled_data['L0']\n",
    "        para_and_G['L0'] = L0\n",
    "        \n",
    "        \n",
    "        # growth fraction\n",
    "        G_data = sampled_data['G_data']\n",
    "        \n",
    "        \n",
    "        # intitial growth fraction\n",
    "        initial_cnd = G_data.query('time == 0').copy()\n",
    "        G0 = float(initial_cnd['G'].groupby(level = 'ID').mean().mean())\n",
    "        para_and_G['G0'] = G0\n",
    "        \n",
    "        # growth fraction timecourse\n",
    "        later_cnd = G_data.query('0 < time < 8').copy()\n",
    "        para_and_G['Gexp'] = later_cnd.groupby(level = 'ID').mean().groupby('time').mean()\n",
    "         \n",
    "        \n",
    "        # displacement velocity\n",
    "        para_and_G['v'] = sampled_data['v']\n",
    "        \n",
    "        # cell cycle length timecourse\n",
    "        Tc6d = sampled_data['Tc6d']\n",
    "        \n",
    "        mi_data = sampled_data['mi_data']\n",
    "        \n",
    "        Tc_data = mi_data.query('time <= 6').copy()\n",
    "        Tc_data = Tc_data.groupby(level = 'ID').mean().groupby('time').mean()\n",
    "        mi6d = Tc_data.loc[6, 'mi']\n",
    "        Tc_data['Tc'] = Tc6d * mi6d / Tc_data['mi'] \n",
    "        Tc_data = Tc_data['Tc'].reset_index()\n",
    "        \n",
    "        if basal_div:\n",
    "            time = [0.0]\n",
    "            Tc = [Tc_data.query('time <= 3')['Tc'].mean()]\n",
    "            \n",
    "            Tct = lambda t, tp = time, Tcp = Tc: sp.interp(t, tp, Tcp)\n",
    "        else:\n",
    "            switchtime = sp.random.uniform(3.0, 4.0)\n",
    "            time = [switchtime,switchtime + 1e-20]\n",
    "            Tc = [Tc_data.query('time <= 3')['Tc'].mean(), Tc_data.query('time > 3')['Tc'].mean()]\n",
    "\n",
    "            Tct = lambda t, tp = time, Tcp = Tc: sp.interp(t, tp, Tcp)\n",
    "        \n",
    "        para_and_G['Tct'] =  Tct\n",
    "       \n",
    "        return para_and_G\n",
    "    \n",
    "    \n",
    "    def fit_activation(self, para_and_G):\n",
    "        \"\"\" fits the activation rate and returns the full model input.\n",
    "        \"\"\"\n",
    "\n",
    "        def f(time, k):\n",
    "            model_input = para_and_G.copy()\n",
    "            model_input['k'] = k\n",
    "            return modelint(model_input, sp.linspace(0, 8, 100))['G'](time)\n",
    "\n",
    "        xdata = sp.array(para_and_G['Gexp'].reset_index()['time'])\n",
    "        ydata = sp.array(para_and_G['Gexp']['G'])\n",
    "        \n",
    "        def SSE(k):\n",
    "            return sp.sum((f(xdata, k) - ydata)**2)\n",
    "        k = sp.optimize.brute(SSE, (slice(0, 1, 0.1), ))[0]\n",
    "        \n",
    "        model_input = para_and_G\n",
    "        model_input['k'] = k\n",
    "\n",
    "        return model_input\n",
    "    \n",
    "    def create_model_input(self, basal_div):\n",
    "        sampled_data = self.resample_raw_data()\n",
    "        para_and_G = self.para_and_G(sampled_data, basal_div)\n",
    "        model_input = self.fit_activation(para_and_G)\n",
    "        return model_input\n",
    "        \n",
    "    \n",
    "    def sample_inputs(self, N, basal_div = False):\n",
    "        model_inputs = [self.create_model_input(basal_div) for i in range(N)]\n",
    "        return pd.DataFrame(model_inputs)"
   ]
  },
  {
   "cell_type": "markdown",
   "metadata": {},
   "source": [
    "## Model ensemble"
   ]
  },
  {
   "cell_type": "code",
   "execution_count": 11,
   "metadata": {
    "collapsed": false
   },
   "outputs": [],
   "source": [
    "def memoize(obj):\n",
    "    cache = obj.cache = {}\n",
    "\n",
    "    @functools.wraps(obj)\n",
    "    def memoizer(*args, **kwargs):\n",
    "        key = str(args) + str(kwargs)\n",
    "        if key not in cache:\n",
    "            cache[key] = obj(*args, **kwargs)\n",
    "        return cache[key]\n",
    "    return memoizer\n",
    "\n",
    "class Model_ensemble:\n",
    "    \"\"\" can handle a list of model inputs, solves the model for all of them\n",
    "        and can describe the ensemble output (e.g. ensemble mean, std, ...)\n",
    "    \"\"\"\n",
    "\n",
    "    def __init__(self, model_inputs):\n",
    "        time = sp.linspace(0, 8, 100)\n",
    "        self.model_outputs = pd.concat( (pd.DataFrame(model_inputs),\\\n",
    "                                         pd.DataFrame(model_inputs).apply(modelint, axis =1, args = (time, )) ), axis = 1)\n",
    "    \n",
    "    @memoize    \n",
    "    def describe(self, time,fig, ax):\n",
    "        ax[0].set_xlim(0, 9)\n",
    "        for i, obs in enumerate(['L', 'G']):\n",
    "            sol = self.describe_function_series(time, self.model_outputs[obs])\n",
    "            ax[i].set_xlabel('time')\n",
    "            ax[i].plot(time, sol['mean'], 'b')\n",
    "#             ax[i].plot(time, sol['16.0'], 'b--')\n",
    "#             ax[i].plot(time, sol['84.0'], 'b--')\n",
    "#             ax[i].plot(time, sol['2.5'], 'b-.')\n",
    "#             ax[i].plot(time, sol['97.5'], 'b-.')\n",
    "            ax[i].plot(time, sol['0.1'], 'b:')\n",
    "            ax[i].plot(time, sol['99.8'], 'b:')\n",
    "#             ax[i].plot(time, sol['max'], 'k-.')\n",
    "#             ax[i].plot(time, sol['min'], 'k-.')\n",
    "            ax[i].set_ylabel(obs)\n",
    "        \n",
    "\n",
    "    def describe_initials(self):\n",
    "        print 'L0: {0}'.format(self.model_outputs['L0'].iloc[0])\n",
    "        ax = {}\n",
    "        ax['G0'] = plt.subplot2grid((2, 3), (0, 0))\n",
    "        ax['k']  = plt.subplot2grid((2, 3), (0, 1))\n",
    "        ax['v']  = plt.subplot2grid((2, 3), (0, 2))\n",
    "        ax['Tc'] = plt.subplot2grid((2, 3), (1, 0), colspan = 3)\n",
    "        \n",
    "        for parameter in ['G0', 'k', 'v']:\n",
    "            self.model_outputs[parameter].hist(ax = ax[parameter])\n",
    "            ax[parameter].set_xlabel(parameter)\n",
    "        \n",
    "        time = sp.linspace(0, 8, 100)\n",
    "        Tc_desc = self.describe_function_series(time, self.model_outputs['Tct'])\n",
    "        ax['Tc'].plot(time, Tc_desc['mean'], 'b')\n",
    "        ax['Tc'].plot(time, Tc_desc['2.5'], 'b--')\n",
    "        ax['Tc'].plot(time, Tc_desc['97.5'], 'b--')\n",
    "#         ax['Tc'].plot(time, Tc_desc['mean'] + Tc_desc['std'], 'b--')\n",
    "#         ax['Tc'].plot(time, Tc_desc['mean'] - Tc_desc['std'], 'b--')\n",
    "        ax['Tc'].set_xlabel('time')\n",
    "        ax['Tc'].set_ylabel('Tc')\n",
    "        plt.gcf().set_size_inches(12, 6)\n",
    "    \n",
    "    @memoize\n",
    "    def evaluate_function_series(self, time, function_series):\n",
    "        df = function_series.apply(lambda f: pd.Series(f(time))).transpose()\n",
    "        df.index = time\n",
    "        df.index.name = 'time'\n",
    "        return df\n",
    "    \n",
    "    @memoize  \n",
    "    def describe_function_series(self, time, function_series):\n",
    "        eval_ = self.evaluate_function_series(time, function_series)\n",
    "        desc = pd.DataFrame(eval_.mean(axis=1), columns = ['mean'])\n",
    "        desc['std'] = eval_.std(axis = 1)\n",
    "        desc['sem'] = eval_.sem(axis = 1)\n",
    "        desc['max'] = eval_.max(axis = 1)\n",
    "        desc['min'] = eval_.min(axis = 1)\n",
    "        for alpha in [68.0, 95.0, 99.7]:\n",
    "            q1 = 0.5 * (100.0 - alpha)\n",
    "            q2 = 100.0 - q1\n",
    "            for q in [q1, q2]:\n",
    "                desc['{0:.1f}'.format(q)] = eval_.apply(lambda x: sp.percentile(x, q), axis = 1)\n",
    "        return desc\n",
    "    "
   ]
  },
  {
   "cell_type": "code",
   "execution_count": 12,
   "metadata": {
    "collapsed": true
   },
   "outputs": [],
   "source": [
    "def best_fit(model_ensemble, outgrowth_data, cell_number_data):\n",
    "    mod_out = model_ensemble.model_outputs\n",
    "    outgrowth_data = outgrowth_data.query('mean != 0')\n",
    "    \n",
    "    cell_number_data['G'] = cell_number_data['PCNA'] / cell_number_data['SOX2']\n",
    "    Gdata = cell_number_data[['ID', 'time', 'G']].groupby('ID').mean().groupby('time').agg(['mean', 'sem'])\n",
    "    Gdata.columns = Gdata.columns.droplevel()\n",
    "    Gdata = Gdata.reset_index()\n",
    "    Gdata = Gdata.query('time < 8')\n",
    "\n",
    "    def chi2L(L, outgrowth_data):\n",
    "        return probfit.Chi2Regression(L, sp.array(outgrowth_data['time']), sp.array(outgrowth_data['mean']), error=sp.array(outgrowth_data['sem']))()\n",
    "    \n",
    "    def chi2G(model_output):\n",
    "        return probfit.Chi2Regression(model_output['G'],\\\n",
    "                                   sp.array(Gdata['time']),\\\n",
    "                                   sp.array(Gdata['mean']),\\\n",
    "                                   sp.array(Gdata['sem']))()\n",
    "        \n",
    "\n",
    "    chi2Ls = mod_out['L'].apply(chi2L, args = (outgrowth_data, ))\n",
    "    chi2Gs = mod_out.apply(chi2G, axis = 1)\n",
    "    chi2s = chi2Ls + chi2Gs\n",
    "    bf = mod_out.loc[chi2s.idxmin()]\n",
    "    return bf"
   ]
  },
  {
   "cell_type": "markdown",
   "metadata": {},
   "source": [
    "### Full model"
   ]
  },
  {
   "cell_type": "code",
   "execution_count": null,
   "metadata": {
    "collapsed": false
   },
   "outputs": [],
   "source": [
    "raw_data = {'L0': L0,\n",
    "            'cell_number_data': cell_number_data,\n",
    "            'Tc6d': TC6dlist,\n",
    "            'clone_velocities': clone_velocities}\n",
    "\n",
    "data = Data(raw_data)"
   ]
  },
  {
   "cell_type": "code",
   "execution_count": null,
   "metadata": {
    "collapsed": false
   },
   "outputs": [],
   "source": [
    "%%cache model_inputs.pkl model_inputs --cachedir ../cache/lg_model/\n",
    "%%time\n",
    "model_inputs = data.sample_inputs(100000)"
   ]
  },
  {
   "cell_type": "code",
   "execution_count": null,
   "metadata": {
    "collapsed": false
   },
   "outputs": [],
   "source": [
    "%%cache model_ensemble.pkl model_ensemble --cachedir ../cache/lg_model/\n",
    "%%time\n",
    "model_ensemble = Model_ensemble(model_inputs)"
   ]
  },
  {
   "cell_type": "code",
   "execution_count": null,
   "metadata": {
    "collapsed": false
   },
   "outputs": [],
   "source": [
    "model_ensemble.describe_initials()"
   ]
  },
  {
   "cell_type": "code",
   "execution_count": null,
   "metadata": {
    "collapsed": false
   },
   "outputs": [],
   "source": [
    "bfcase = best_fit(model_ensemble, outgrowth_pop, cell_number_data)\n",
    "\n",
    "\n",
    "time = sp.linspace(0, 8, 100)\n",
    "fig, ax = plt.subplots(ncols = 2, sharex = True)\n",
    "fig.patch.set_alpha(1.0)\n",
    "model_ensemble.describe(time, fig, ax)\n",
    "\n",
    "cell_number_plot_data = data.data['cell_number_data']\n",
    "cell_number_plot_data['G'] = cell_number_plot_data['PCNA'] / cell_number_plot_data['SOX2']\n",
    "gexpdata = cell_number_plot_data[['ID', 'time', 'G']].groupby('ID').mean().groupby('time').agg(['mean', 'sem']).reset_index()\n",
    "# ax[0].errorbar(outgrowth['time'], outgrowth['L'], outgrowth['sem'], fmt = 's', color = 'black')\n",
    "ax[1].errorbar(gexpdata['time'], gexpdata['G', 'mean'], gexpdata['G', 'sem'], fmt='s', color = 'black')\n",
    "ax[0].set_xlim(0, 9)\n",
    "\n",
    "# for observer, data in mean_outgrowth.groupby('observer'):\n",
    "#     ax[0].errorbar(data['time'], data['Length', 'mean'], data['Length', 'sem'], label = observer, fmt = 's')\n",
    "\n",
    "ax[0].errorbar(outgrowth_pop['time'], outgrowth_pop['mean'], outgrowth_pop['sem'],\n",
    "               label = 'exp (fab)', fmt = 's', color = 'black')\n",
    "\n",
    "# plot bestfits\n",
    "ax[0].plot(time, bfcase['L'](time), color = 'green', label = 'bestfit')\n",
    "ax[1].plot(time, bfcase['G'](time), color = 'green')\n",
    "\n",
    "ax[0].set_xlim(-0.2, 8.2)\n",
    "fig.set_size_inches(5, 4)\n",
    "fig.patch.set_alpha(1.0)\n",
    "plt.tight_layout()\n",
    "plt.show()"
   ]
  },
  {
   "cell_type": "code",
   "execution_count": null,
   "metadata": {
    "collapsed": false
   },
   "outputs": [],
   "source": [
    "bfcase"
   ]
  },
  {
   "cell_type": "code",
   "execution_count": null,
   "metadata": {
    "collapsed": false
   },
   "outputs": [],
   "source": [
    "gc.collect()"
   ]
  },
  {
   "cell_type": "markdown",
   "metadata": {},
   "source": [
    "## Basal level of divisions"
   ]
  },
  {
   "cell_type": "code",
   "execution_count": null,
   "metadata": {
    "collapsed": false
   },
   "outputs": [],
   "source": [
    "%%cache model_inputs_basal_div.pkl model_inputs_basal_div --cachedir ../cache/lg_model/\n",
    "%%time\n",
    "model_inputs_basal_div = data.sample_inputs(100000, basal_div = True)"
   ]
  },
  {
   "cell_type": "code",
   "execution_count": null,
   "metadata": {
    "collapsed": false
   },
   "outputs": [],
   "source": [
    "%%cache model_ensemble_basal_div.pkl model_ensemble_basal_div --cachedir ../cache/lg_model/\n",
    "%%time\n",
    "model_ensemble_basal_div = Model_ensemble(model_inputs_basal_div)"
   ]
  },
  {
   "cell_type": "code",
   "execution_count": null,
   "metadata": {
    "collapsed": false
   },
   "outputs": [],
   "source": [
    "model_ensemble_basal_div.describe_initials()"
   ]
  },
  {
   "cell_type": "code",
   "execution_count": null,
   "metadata": {
    "collapsed": false
   },
   "outputs": [],
   "source": [
    "bfcase = best_fit(model_ensemble_basal_div, outgrowth_pop, cell_number_data)\n",
    "\n",
    "\n",
    "time = sp.linspace(0, 8, 100)\n",
    "fig, ax = plt.subplots(ncols = 2, sharex = True)\n",
    "fig.patch.set_alpha(1.0)\n",
    "model_ensemble_basal_div.describe(time, fig, ax)\n",
    "\n",
    "cell_number_plot_data = data.data['cell_number_data']\n",
    "cell_number_plot_data['G'] = cell_number_plot_data['PCNA'] / cell_number_plot_data['SOX2']\n",
    "gexpdata = cell_number_plot_data[['ID', 'time', 'G']].groupby('ID').mean().groupby('time').agg(['mean', 'sem']).reset_index()\n",
    "# ax[0].errorbar(outgrowth['time'], outgrowth['L'], outgrowth['sem'], fmt = 's', color = 'black')\n",
    "ax[1].errorbar(gexpdata['time'], gexpdata['G', 'mean'], gexpdata['G', 'sem'], fmt='s', color = 'black')\n",
    "ax[0].set_xlim(0, 9)\n",
    "\n",
    "# for observer, data in mean_outgrowth.groupby('observer'):\n",
    "#     ax[0].errorbar(data['time'], data['Length', 'mean'], data['Length', 'sem'], label = observer, fmt = 's')\n",
    "\n",
    "ax[0].errorbar(outgrowth_pop['time'], outgrowth_pop['mean'], outgrowth_pop['sem'],\n",
    "               label = 'exp (fab)', fmt = 's', color = 'black')\n",
    "\n",
    "# plot bestfits\n",
    "ax[0].plot(time, bfcase['L'](time), color = 'green', label = 'bestfit')\n",
    "ax[1].plot(time, bfcase['G'](time), color = 'green')\n",
    "\n",
    "ax[0].set_xlim(-0.2, 8.2)\n",
    "fig.set_size_inches(5, 4)\n",
    "fig.patch.set_alpha(1.0)\n",
    "plt.tight_layout()\n",
    "plt.show()"
   ]
  },
  {
   "cell_type": "code",
   "execution_count": null,
   "metadata": {
    "collapsed": false
   },
   "outputs": [],
   "source": [
    "gc.collect()"
   ]
  },
  {
   "cell_type": "markdown",
   "metadata": {},
   "source": [
    "## No divisions"
   ]
  },
  {
   "cell_type": "code",
   "execution_count": null,
   "metadata": {
    "collapsed": true
   },
   "outputs": [],
   "source": [
    "raw_data_nodiv = {'L0': L0,\n",
    "            'cell_number_data': cell_number_data,\n",
    "            'Tc6d': pd.Series([sp.inf]),\n",
    "            'clone_velocities': clone_velocities}\n",
    "\n",
    "data_nodiv = Data(raw_data_nodiv)"
   ]
  },
  {
   "cell_type": "code",
   "execution_count": null,
   "metadata": {
    "collapsed": false
   },
   "outputs": [],
   "source": [
    "%%cache model_inputs_nodiv.pkl model_inputs_nodiv --cachedir ../cache/lg_model/\n",
    "%%time\n",
    "model_inputs_nodiv = data_nodiv.sample_inputs(100000)"
   ]
  },
  {
   "cell_type": "code",
   "execution_count": null,
   "metadata": {
    "collapsed": false
   },
   "outputs": [],
   "source": [
    "%%cache model_ensemble_nodiv.pkl model_ensemble_nodiv --cachedir ../cache/lg_model/\n",
    "%%time\n",
    "model_ensemble_nodiv = Model_ensemble(model_inputs_nodiv)"
   ]
  },
  {
   "cell_type": "code",
   "execution_count": null,
   "metadata": {
    "collapsed": false
   },
   "outputs": [],
   "source": [
    "model_ensemble_nodiv.describe_initials()"
   ]
  },
  {
   "cell_type": "code",
   "execution_count": null,
   "metadata": {
    "collapsed": true
   },
   "outputs": [],
   "source": [
    "bfcase = best_fit(model_ensemble_nodiv, outgrowth_pop, cell_number_data)"
   ]
  },
  {
   "cell_type": "code",
   "execution_count": null,
   "metadata": {
    "collapsed": false
   },
   "outputs": [],
   "source": [
    "time = sp.linspace(0, 8, 100)\n",
    "fig, ax = plt.subplots(ncols = 2, sharex = True)\n",
    "model_ensemble_nodiv.describe(time, fig, ax)\n",
    "\n",
    "cell_number_plot_data = data.data['cell_number_data']\n",
    "cell_number_plot_data['G'] = cell_number_plot_data['PCNA'] / cell_number_plot_data['SOX2']\n",
    "gexpdata = cell_number_plot_data[['ID', 'time', 'G']].groupby('ID').mean().groupby('time').agg(['mean', 'sem']).reset_index()\n",
    "# ax[0].errorbar(outgrowth['time'], outgrowth['L'], outgrowth['sem'], fmt = 's', color = 'black')\n",
    "ax[1].errorbar(gexpdata['time'], gexpdata['G', 'mean'], gexpdata['G', 'sem'], fmt='s', color = 'black')\n",
    "ax[0].set_xlim(0, 9)\n",
    "\n",
    "# for observer, data in mean_outgrowth.groupby('observer'):\n",
    "#     ax[0].errorbar(data['time'], data['Length', 'mean'], data['Length', 'sem'], label = observer, fmt = 's')\n",
    "\n",
    "ax[0].errorbar(outgrowth_pop['time'], outgrowth_pop['mean'], outgrowth_pop['sem'], label = 'exp (fab)',\n",
    "               fmt = 's', color = 'black')\n",
    "\n",
    "# plot bestfits\n",
    "ax[0].plot(time, bfcase['L'](time), color = 'green', label = 'bestfit')\n",
    "ax[1].plot(time, bfcase['G'](time), color = 'green')\n",
    "\n",
    "ax[0].set_xlim(-0.2, 8.2)\n",
    "fig.set_size_inches(5, 4)\n",
    "fig.patch.set_alpha(1.0)\n",
    "plt.tight_layout()\n",
    "plt.show()"
   ]
  },
  {
   "cell_type": "code",
   "execution_count": null,
   "metadata": {
    "collapsed": false
   },
   "outputs": [],
   "source": [
    "gc.collect()"
   ]
  },
  {
   "cell_type": "markdown",
   "metadata": {},
   "source": [
    "## No activation "
   ]
  },
  {
   "cell_type": "code",
   "execution_count": null,
   "metadata": {
    "collapsed": false
   },
   "outputs": [],
   "source": [
    "model_inputs_noact = model_inputs.copy()"
   ]
  },
  {
   "cell_type": "code",
   "execution_count": null,
   "metadata": {
    "collapsed": false
   },
   "outputs": [],
   "source": [
    "model_inputs_noact['k'] = 0.0"
   ]
  },
  {
   "cell_type": "code",
   "execution_count": null,
   "metadata": {
    "collapsed": false
   },
   "outputs": [],
   "source": [
    "%%cache model_ensemble_noact.pkl model_ensemble_noact --cachedir ../cache/lg_model/\n",
    "%%time\n",
    "model_ensemble_noact = Model_ensemble(model_inputs_noact)"
   ]
  },
  {
   "cell_type": "code",
   "execution_count": null,
   "metadata": {
    "collapsed": false
   },
   "outputs": [],
   "source": [
    "model_ensemble_noact.describe_initials()"
   ]
  },
  {
   "cell_type": "code",
   "execution_count": null,
   "metadata": {
    "collapsed": false
   },
   "outputs": [],
   "source": [
    "bfcase = best_fit(model_ensemble_noact, outgrowth_pop, cell_number_data)\n",
    "\n",
    "time = sp.linspace(0, 8, 100)\n",
    "fig, ax = plt.subplots(ncols = 2, sharex = True)\n",
    "model_ensemble_noact.describe(time, fig, ax)\n",
    "\n",
    "cell_number_plot_data = data.data['cell_number_data']\n",
    "cell_number_plot_data['G'] = cell_number_plot_data['PCNA'] / cell_number_plot_data['SOX2']\n",
    "gexpdata = cell_number_plot_data[['ID', 'time', 'G']].groupby('ID').mean().groupby('time').agg(['mean', 'sem']).reset_index()\n",
    "# ax[0].errorbar(outgrowth['time'], outgrowth['L'], outgrowth['sem'], fmt = 's', color = 'black')\n",
    "ax[1].errorbar(gexpdata['time'], gexpdata['G', 'mean'], gexpdata['G', 'sem'], fmt='s', color = 'black')\n",
    "ax[0].set_xlim(0, 9)\n",
    "\n",
    "# for observer, data in mean_outgrowth.groupby('observer'):\n",
    "#     ax[0].errorbar(data['time'], data['Length', 'mean'], data['Length', 'sem'], label = observer, fmt = 's')\n",
    "\n",
    "ax[0].errorbar(outgrowth_pop['time'], outgrowth_pop['mean'], outgrowth_pop['sem'],\n",
    "               label = 'exp (fab)', fmt = 's', color = 'black')\n",
    "\n",
    "# plot bestfits\n",
    "ax[0].plot(time, bfcase['L'](time), color = 'green', label = 'bestfit')\n",
    "ax[1].plot(time, bfcase['G'](time), color = 'green')\n",
    "\n",
    "ax[0].set_xlim(-0.2, 8.2)\n",
    "fig.set_size_inches(5, 4)\n",
    "fig.patch.set_alpha(1.0)\n",
    "plt.tight_layout()\n",
    "plt.show()"
   ]
  },
  {
   "cell_type": "code",
   "execution_count": null,
   "metadata": {
    "collapsed": false
   },
   "outputs": [],
   "source": [
    "gc.collect()"
   ]
  },
  {
   "cell_type": "markdown",
   "metadata": {},
   "source": [
    "## No influx"
   ]
  },
  {
   "cell_type": "code",
   "execution_count": null,
   "metadata": {
    "collapsed": true
   },
   "outputs": [],
   "source": [
    "model_inputs_noflux = model_inputs.copy()"
   ]
  },
  {
   "cell_type": "code",
   "execution_count": null,
   "metadata": {
    "collapsed": true
   },
   "outputs": [],
   "source": [
    "model_inputs_noflux['v'] = 0.0"
   ]
  },
  {
   "cell_type": "code",
   "execution_count": null,
   "metadata": {
    "collapsed": false
   },
   "outputs": [],
   "source": [
    "%%cache model_ensemble_noflux.pkl model_ensemble_noflux --cachedir ../cache/lg_model/\n",
    "%%time\n",
    "model_ensemble_noflux = Model_ensemble(model_inputs_noflux)"
   ]
  },
  {
   "cell_type": "code",
   "execution_count": null,
   "metadata": {
    "collapsed": false
   },
   "outputs": [],
   "source": [
    "model_ensemble_noflux.describe_initials()"
   ]
  },
  {
   "cell_type": "code",
   "execution_count": null,
   "metadata": {
    "collapsed": false
   },
   "outputs": [],
   "source": [
    "bfcase = best_fit(model_ensemble_noflux, outgrowth_pop, cell_number_data)\n",
    "\n",
    "\n",
    "time = sp.linspace(0, 8, 100)\n",
    "fig, ax = plt.subplots(ncols = 2, sharex = True)\n",
    "model_ensemble_noflux.describe(time, fig, ax)\n",
    "\n",
    "cell_number_plot_data = data.data['cell_number_data']\n",
    "cell_number_plot_data['G'] = cell_number_plot_data['PCNA'] / cell_number_plot_data['SOX2']\n",
    "gexpdata = cell_number_plot_data[['ID', 'time', 'G']].groupby('ID').mean().groupby('time').agg(['mean', 'sem']).reset_index()\n",
    "# ax[0].errorbar(outgrowth['time'], outgrowth['L'], outgrowth['sem'], fmt = 's', color = 'black')\n",
    "ax[1].errorbar(gexpdata['time'], gexpdata['G', 'mean'], gexpdata['G', 'sem'], fmt='s', color = 'black')\n",
    "ax[0].set_xlim(0, 9)\n",
    "\n",
    "# for observer, data in mean_outgrowth.groupby('observer'):\n",
    "#     ax[0].errorbar(data['time'], data['Length', 'mean'], data['Length', 'sem'], label = observer, fmt = 's')\n",
    "\n",
    "ax[0].errorbar(outgrowth_pop['time'], outgrowth_pop['mean'], outgrowth_pop['sem'],\n",
    "               label = 'exp (fab)', fmt = 's', color = 'black')\n",
    "\n",
    "# plot bestfits\n",
    "ax[0].plot(time, bfcase['L'](time), color = 'green', label = 'bestfit')\n",
    "ax[1].plot(time, bfcase['G'](time), color = 'green')\n",
    "\n",
    "ax[0].set_xlim(-0.2, 8.2)\n",
    "fig.set_size_inches(5, 4)\n",
    "fig.patch.set_alpha(1.0)\n",
    "plt.tight_layout()\n",
    "plt.show()"
   ]
  },
  {
   "cell_type": "code",
   "execution_count": null,
   "metadata": {
    "collapsed": false
   },
   "outputs": [],
   "source": [
    "gc.collect()"
   ]
  },
  {
   "cell_type": "markdown",
   "metadata": {},
   "source": [
    "## No flux, no act"
   ]
  },
  {
   "cell_type": "code",
   "execution_count": null,
   "metadata": {
    "collapsed": true
   },
   "outputs": [],
   "source": [
    "model_inputs_noflux_noact = model_inputs.copy()"
   ]
  },
  {
   "cell_type": "code",
   "execution_count": null,
   "metadata": {
    "collapsed": true
   },
   "outputs": [],
   "source": [
    "model_inputs_noflux_noact['v'] = 0.0\n",
    "model_inputs_noflux_noact['k'] = 0.0"
   ]
  },
  {
   "cell_type": "code",
   "execution_count": null,
   "metadata": {
    "collapsed": false
   },
   "outputs": [],
   "source": [
    "%%cache model_ensemble_noflux_noact.pkl model_ensemble_noflux_noact --cachedir ../cache/lg_model/\n",
    "%%time\n",
    "model_ensemble_noflux_noact = Model_ensemble(model_inputs_noflux_noact)"
   ]
  },
  {
   "cell_type": "code",
   "execution_count": null,
   "metadata": {
    "collapsed": false
   },
   "outputs": [],
   "source": [
    "model_ensemble_noflux_noact.describe_initials()"
   ]
  },
  {
   "cell_type": "code",
   "execution_count": null,
   "metadata": {
    "collapsed": false
   },
   "outputs": [],
   "source": [
    "bfcase = best_fit(model_ensemble_noflux_noact, outgrowth_pop, cell_number_data)\n",
    "\n",
    "\n",
    "time = sp.linspace(0, 8, 100)\n",
    "fig, ax = plt.subplots(ncols = 2, sharex = True)\n",
    "model_ensemble_noflux_noact.describe(time, fig, ax)\n",
    "\n",
    "cell_number_plot_data = data.data['cell_number_data']\n",
    "cell_number_plot_data['G'] = cell_number_plot_data['PCNA'] / cell_number_plot_data['SOX2']\n",
    "gexpdata = cell_number_plot_data[['ID', 'time', 'G']].groupby('ID').mean().groupby('time').agg(['mean', 'sem']).reset_index()\n",
    "# ax[0].errorbar(outgrowth['time'], outgrowth['L'], outgrowth['sem'], fmt = 's', color = 'black')\n",
    "ax[1].errorbar(gexpdata['time'], gexpdata['G', 'mean'], gexpdata['G', 'sem'], fmt='s', color = 'black')\n",
    "ax[0].set_xlim(0, 9)\n",
    "\n",
    "# for observer, data in mean_outgrowth.groupby('observer'):\n",
    "#     ax[0].errorbar(data['time'], data['Length', 'mean'], data['Length', 'sem'], label = observer, fmt = 's')\n",
    "\n",
    "ax[0].errorbar(outgrowth_pop['time'], outgrowth_pop['mean'], outgrowth_pop['sem'],\n",
    "               label = 'exp (fab)', fmt = 's', color = 'black')\n",
    "\n",
    "# plot bestfits\n",
    "ax[0].plot(time, bfcase['L'](time), color = 'green', label = 'bestfit')\n",
    "ax[1].plot(time, bfcase['G'](time), color = 'green')\n",
    "\n",
    "ax[0].set_xlim(-0.2, 8.2)\n",
    "fig.set_size_inches(5, 4)\n",
    "fig.patch.set_alpha(1.0)\n",
    "plt.tight_layout()\n",
    "plt.show()"
   ]
  },
  {
   "cell_type": "code",
   "execution_count": null,
   "metadata": {
    "collapsed": false
   },
   "outputs": [],
   "source": [
    "gc.collect()"
   ]
  },
  {
   "cell_type": "markdown",
   "metadata": {
    "collapsed": true
   },
   "source": [
    "## Fit the models"
   ]
  },
  {
   "cell_type": "code",
   "execution_count": null,
   "metadata": {
    "collapsed": false
   },
   "outputs": [],
   "source": [
    "Gdata = cell_number_data[['ID', 'time', 'G']].groupby('ID').mean().groupby('time').agg(['mean', 'sem'])\n",
    "Gdata.columns = Gdata.columns.droplevel()\n",
    "Gdata = Gdata.reset_index()"
   ]
  },
  {
   "cell_type": "code",
   "execution_count": null,
   "metadata": {
    "collapsed": false
   },
   "outputs": [],
   "source": [
    "def chi2(G0, TC1, TC2, switchtime, k, v):\n",
    "    Tct = lambda t: sp.interp(t, [switchtime, switchtime], [TC1, TC2])\n",
    "    model_input = {'L0': L0,\n",
    "                  'G0': G0,\n",
    "                  'Tct': Tct,\n",
    "                  'k': k,\n",
    "                  'v': v}\n",
    "    L, G = lg_model(model_input, outgrowth_pop['time'])\n",
    "    L = L[1:]\n",
    "    G = G[sp.array(outgrowth_pop['time'].apply(lambda x: x in Gdata['time']))]\n",
    "\n",
    "    outgrowth_fit = outgrowth_pop.query('mean > 0')\n",
    "    Gdata_fit = Gdata.query('time < 8')\n",
    "    chi2L = ((L - sp.array(outgrowth_fit['mean']))**2 / sp.array(outgrowth_fit['sem'])**2).sum()\n",
    "    chi2G = ((G - sp.array(Gdata_fit['mean']))**2 / sp.array(Gdata_fit['sem'])**2).sum()\n",
    "    return chi2L + chi2G\n",
    "    "
   ]
  },
  {
   "cell_type": "markdown",
   "metadata": {},
   "source": [
    "### Find parameter ranges"
   ]
  },
  {
   "cell_type": "code",
   "execution_count": null,
   "metadata": {
    "collapsed": true
   },
   "outputs": [],
   "source": [
    "fitarg = {}"
   ]
  },
  {
   "cell_type": "code",
   "execution_count": null,
   "metadata": {
    "collapsed": false
   },
   "outputs": [],
   "source": [
    "def set_fitarg(paramer_name, series):\n",
    "    description = series.describe(percentiles = [0.0015, 0.9985])\n",
    "    fitarg[paramer_name] = description['mean']\n",
    "    fitarg['error_{}'.format(paramer_name)] = fitarg[paramer_name] / 100.0\n",
    "    fitarg['limit_{}'.format(paramer_name)] = (description['0.1%'], description['99.9%'])\n",
    "    "
   ]
  },
  {
   "cell_type": "markdown",
   "metadata": {},
   "source": [
    "#### G0"
   ]
  },
  {
   "cell_type": "code",
   "execution_count": null,
   "metadata": {
    "collapsed": false
   },
   "outputs": [],
   "source": [
    "set_fitarg('G0', model_ensemble.model_outputs['G0'])\n"
   ]
  },
  {
   "cell_type": "markdown",
   "metadata": {},
   "source": [
    "#### TC"
   ]
  },
  {
   "cell_type": "code",
   "execution_count": null,
   "metadata": {
    "collapsed": false
   },
   "outputs": [],
   "source": [
    "set_fitarg('TC1', model_ensemble.model_outputs['Tct'].apply(lambda f: f(0)))\n",
    "set_fitarg('TC2', model_ensemble.model_outputs['Tct'].apply(lambda f: f(8)))\n",
    "fitarg['switchtime'] = 3.5\n",
    "fitarg['error_switchtime'] = 0.01\n",
    "fitarg['limit_switchtime'] = [3.0,4.0]\n",
    "\n"
   ]
  },
  {
   "cell_type": "markdown",
   "metadata": {},
   "source": [
    "#### k"
   ]
  },
  {
   "cell_type": "code",
   "execution_count": null,
   "metadata": {
    "collapsed": false
   },
   "outputs": [],
   "source": [
    "set_fitarg('k', model_ensemble.model_outputs['k'])"
   ]
  },
  {
   "cell_type": "markdown",
   "metadata": {},
   "source": [
    "#### v"
   ]
  },
  {
   "cell_type": "code",
   "execution_count": null,
   "metadata": {
    "collapsed": true
   },
   "outputs": [],
   "source": [
    "set_fitarg('v', model_ensemble.model_outputs['v'])"
   ]
  },
  {
   "cell_type": "markdown",
   "metadata": {},
   "source": [
    "### Do the minimization"
   ]
  },
  {
   "cell_type": "markdown",
   "metadata": {},
   "source": [
    "### Full model"
   ]
  },
  {
   "cell_type": "code",
   "execution_count": null,
   "metadata": {
    "collapsed": false
   },
   "outputs": [],
   "source": [
    "M = iminuit.Minuit(chi2, errordef = 0.5,\n",
    "                   fix_switchtime = False, fix_v = False, fix_k = False, fix_G0 = False, fix_TC1 = False, fix_TC2 = False,\n",
    "                   **fitarg)\n",
    "M.migrad(ncall = 1000);"
   ]
  },
  {
   "cell_type": "markdown",
   "metadata": {},
   "source": [
    "### Basal division"
   ]
  },
  {
   "cell_type": "code",
   "execution_count": null,
   "metadata": {
    "collapsed": false
   },
   "outputs": [],
   "source": [
    "fitarg_basal_div = fitarg.copy()\n",
    "fitarg_basal_div['TC2'] = 1e99\n",
    "\n",
    "fitarg_basal_div['switchtime'] = 9.0\n",
    "fitarg_basal_div['error_switchtime'] = 0.01\n",
    "fitarg_basal_div['limit_switchtime'] = [8.5,9.5]\n",
    "\n",
    "M_basal_div = iminuit.Minuit(chi2, errordef = 0.5,\n",
    "                   fix_switchtime = True, fix_v = False, fix_k = False, fix_G0 = False, fix_TC1 = False, fix_TC2 = True,\n",
    "                   **fitarg_basal_div)\n",
    "M_basal_div.migrad(ncall = 1000);"
   ]
  },
  {
   "cell_type": "markdown",
   "metadata": {},
   "source": [
    "### No division"
   ]
  },
  {
   "cell_type": "code",
   "execution_count": null,
   "metadata": {
    "collapsed": false
   },
   "outputs": [],
   "source": [
    "fitarg_nodiv = fitarg.copy()\n",
    "fitarg_nodiv['TC1'] = 1e99\n",
    "fitarg_nodiv['TC2'] = 1e99\n",
    "M_nodiv = iminuit.Minuit(chi2, errordef = 0.5,\n",
    "                   fix_switchtime = True, fix_v = False, fix_k = False, fix_G0 = False, fix_TC1 = True, fix_TC2 = True,\n",
    "                   **fitarg_nodiv)\n",
    "M_nodiv.migrad(ncall = 1000);"
   ]
  },
  {
   "cell_type": "markdown",
   "metadata": {},
   "source": [
    "### No activation"
   ]
  },
  {
   "cell_type": "code",
   "execution_count": null,
   "metadata": {
    "collapsed": false
   },
   "outputs": [],
   "source": [
    "fitarg_noact = fitarg.copy()\n",
    "fitarg_noact['k'] = 0.0\n",
    "M_noact = iminuit.Minuit(chi2, errordef = 0.5,\n",
    "                   fix_switchtime = False, fix_v = False, fix_k = True, fix_G0 = False, fix_TC1 = False, fix_TC2 = False,\n",
    "                   **fitarg_noact)\n",
    "M_noact.migrad(ncall = 1000);"
   ]
  },
  {
   "cell_type": "markdown",
   "metadata": {},
   "source": [
    "### No influx"
   ]
  },
  {
   "cell_type": "code",
   "execution_count": null,
   "metadata": {
    "collapsed": false
   },
   "outputs": [],
   "source": [
    "fitarg_noflux = fitarg.copy()\n",
    "fitarg_noflux['v'] = 0.0\n",
    "M_noflux = iminuit.Minuit(chi2, errordef = 0.5,\n",
    "                   fix_switchtime = False, fix_v = True, fix_k = False, fix_G0 = False, fix_TC1 = False, fix_TC2 = False,\n",
    "                   **fitarg_noflux)\n",
    "M_noflux.migrad(ncall = 1000);"
   ]
  },
  {
   "cell_type": "markdown",
   "metadata": {},
   "source": [
    "### No influx, no activation"
   ]
  },
  {
   "cell_type": "code",
   "execution_count": null,
   "metadata": {
    "collapsed": false
   },
   "outputs": [],
   "source": [
    "fitarg_noflux_noact = fitarg.copy()\n",
    "fitarg_noflux_noact['v'] = 0.0\n",
    "fitarg_noflux_noact['k'] = 0.0\n",
    "M_noflux_noact = iminuit.Minuit(chi2, errordef = 0.5,\n",
    "                   fix_switchtime = False, fix_v = True, fix_k = True, fix_G0 = False, fix_TC1 = False, fix_TC2 = False,\n",
    "                   **fitarg_noflux_noact)\n",
    "M_noflux_noact.migrad(ncall = 1000);"
   ]
  },
  {
   "cell_type": "markdown",
   "metadata": {},
   "source": [
    "### Plot Fit results"
   ]
  },
  {
   "cell_type": "code",
   "execution_count": null,
   "metadata": {
    "collapsed": false
   },
   "outputs": [],
   "source": [
    "fitlabels = {M: 'full',\n",
    "             M_basal_div: 'basal_div',\n",
    "          M_nodiv: 'nodiv',\n",
    "         M_noact: 'noact',\n",
    "         M_noflux: 'noflux',\n",
    "         M_noflux_noact: 'noflux noact'}"
   ]
  },
  {
   "cell_type": "code",
   "execution_count": null,
   "metadata": {
    "collapsed": false
   },
   "outputs": [],
   "source": [
    "time = sp.linspace(0, 8, 100)\n",
    "fig, ax = plt.subplots(ncols = 2, sharex = True)\n",
    "fig.patch.set_alpha(1.0)\n",
    "\n",
    "cell_number_plot_data = data.data['cell_number_data']\n",
    "cell_number_plot_data['G'] = cell_number_plot_data['PCNA'] / cell_number_plot_data['SOX2']\n",
    "gexpdata = cell_number_plot_data[['ID', 'time', 'G']].groupby('ID').mean().groupby('time').agg(['mean', 'sem']).reset_index()\n",
    "# ax[0].errorbar(outgrowth['time'], outgrowth['L'], outgrowth['sem'], fmt = 's', color = 'black')\n",
    "ax[1].errorbar(gexpdata['time'], gexpdata['G', 'mean'], gexpdata['G', 'sem'], fmt='s', color = 'black')\n",
    "ax[0].set_xlim(0, 9)\n",
    "\n",
    "# for observer, data in mean_outgrowth.groupby('observer'):\n",
    "#     ax[0].errorbar(data['time'], data['Length', 'mean'], data['Length', 'sem'], label = observer, fmt = 's')\n",
    "\n",
    "ax[0].errorbar(outgrowth_pop['time'], outgrowth_pop['mean'], outgrowth_pop['sem'],\n",
    "               label = 'exp (fab)', fmt = 's', color = 'black')\n",
    "\n",
    "# best fit\n",
    "for minuit in [M, M_basal_div, M_nodiv, M_noact, M_noflux, M_noflux_noact]:\n",
    "    migrad_input = minuit.values\n",
    "    migrad_input['Tct'] = Tct = lambda t: sp.interp(t,\n",
    "                                                    [migrad_input['switchtime'], migrad_input['switchtime']],\n",
    "                                                    [migrad_input['TC1'], migrad_input['TC2']])\n",
    "    migrad_input['L0'] = L0\n",
    "    L, G = lg_model(minuit.values, time)\n",
    "    ax[0].plot(time, L, label = fitlabels[minuit])\n",
    "    ax[1].plot(time, G)\n",
    "\n",
    "ax[0].legend(loc = 0)\n",
    "plt.show()"
   ]
  },
  {
   "cell_type": "markdown",
   "metadata": {},
   "source": [
    "## Plots"
   ]
  },
  {
   "cell_type": "code",
   "execution_count": null,
   "metadata": {
    "collapsed": true
   },
   "outputs": [],
   "source": [
    "conditions = ['full', 'basal_div', 'nodiv', 'noact', 'noflux', 'noflux_noact']\n",
    "ensembles = {'full': model_ensemble,\n",
    "             'basal_div': model_ensemble_basal_div,\n",
    "            'nodiv': model_ensemble_nodiv,\n",
    "            'noact': model_ensemble_noact,\n",
    "            'noflux': model_ensemble_noflux,\n",
    "            'noflux_noact': model_ensemble_noflux_noact}"
   ]
  },
  {
   "cell_type": "code",
   "execution_count": null,
   "metadata": {
    "collapsed": false
   },
   "outputs": [],
   "source": [
    "minuits = {'full': M,\n",
    "           'basal_div': M_basal_div,\n",
    "            'nodiv': M_nodiv,\n",
    "            'noact': M_noact,\n",
    "            'noflux': M_noflux,\n",
    "            'noflux_noact': M_noflux_noact}"
   ]
  },
  {
   "cell_type": "markdown",
   "metadata": {},
   "source": [
    "also save the data needed for plotting"
   ]
  },
  {
   "cell_type": "code",
   "execution_count": null,
   "metadata": {
    "collapsed": true
   },
   "outputs": [],
   "source": [
    "time = sp.linspace(0, 8, 100)"
   ]
  },
  {
   "cell_type": "code",
   "execution_count": null,
   "metadata": {
    "collapsed": false
   },
   "outputs": [],
   "source": [
    "pd.Series(time).to_hdf('./lg_model_plot_data.hdf', 'time')\n",
    "gexpdata = cell_number_plot_data[['ID', 'time', 'G']].groupby('ID').mean().groupby('time').agg(['mean', 'sem']).reset_index()\n",
    "gexpdata.to_hdf('./lg_model_plot_data.hdf', 'gexpdata')\n",
    "outgrowth_pop.to_hdf('./lg_model_plot_data.hdf', 'outgrowth_pop')\n",
    "pd.Series(conditions).to_hdf('./lg_model_plot_data.hdf', 'conditions')\n",
    "for condition in conditions:\n",
    "    ensemble = ensembles[condition]\n",
    "    minuit = minuits[condition]\n",
    "  \n",
    "    fig, ax = plt.subplots(2, sharex = True, figsize = (3, 6))\n",
    "    \n",
    "\n",
    "    cell_number_plot_data = data.data['cell_number_data']\n",
    "    cell_number_plot_data['G'] = cell_number_plot_data['PCNA'] / cell_number_plot_data['SOX2']\n",
    "    \n",
    "    \n",
    "    \n",
    "    # experimental data\n",
    "    ax[0].errorbar(sp.array(outgrowth_pop['time']), sp.array(outgrowth_pop['mean']),\n",
    "                   sp.array(outgrowth_pop['sem']),\n",
    "                   label = 'exp', fmt = 's', color = 'black')\n",
    "    \n",
    "    ax[1].errorbar(gexpdata['time'], gexpdata['G', 'mean'], gexpdata['G', 'sem'], fmt='s', color = 'black')\n",
    "    \n",
    "    # best fit\n",
    "    migrad_input = minuit.values\n",
    "    migrad_input['Tct'] = Tct = lambda t: sp.interp(t,\n",
    "                                                    [migrad_input['switchtime'], migrad_input['switchtime']],\n",
    "                                                    [migrad_input['TC1'], migrad_input['TC2']])\n",
    "    migrad_input['L0'] = L0\n",
    "    L, G = lg_model(minuit.values, time)\n",
    "    ax[0].plot(time, L, label = 'model', lw = 2, color = 'black')\n",
    "    ax[1].plot(time, G,                  lw = 2, color = 'black')\n",
    "    \n",
    "    pd.Series(L).to_hdf('./lg_model_plot_data.hdf', 'L_{0}'.format(condition))\n",
    "    pd.Series(G).to_hdf('./lg_model_plot_data.hdf', 'G_{0}'.format(condition))\n",
    "    \n",
    "    # confidence interval\n",
    "    L_3sigma_max = ensemble.describe_function_series(time, ensemble.model_outputs['L'])['99.8']\n",
    "    L_3sigma_min = ensemble.describe_function_series(time, ensemble.model_outputs['L'])['0.1']\n",
    "    ax[0].fill_between(time, L_3sigma_min, L_3sigma_max, alpha = 0.2, color = 'black')\n",
    "    pd.Series(L_3sigma_max).to_hdf('./lg_model_plot_data.hdf', 'L_3sigma_max_{0}'.format(condition))\n",
    "    pd.Series(L_3sigma_min).to_hdf('./lg_model_plot_data.hdf', 'L_3sigma_min_{0}'.format(condition))\n",
    "    \n",
    "    G_3sigma_max = ensemble.describe_function_series(time, ensemble.model_outputs['G'])['99.8']\n",
    "    G_3sigma_min = ensemble.describe_function_series(time, ensemble.model_outputs['G'])['0.1']\n",
    "    ax[1].fill_between(time, G_3sigma_min, G_3sigma_max, alpha = 0.2, color = 'black')\n",
    "    pd.Series(G_3sigma_max).to_hdf('./lg_model_plot_data.hdf', 'G_3sigma_max_{0}'.format(condition))\n",
    "    pd.Series(G_3sigma_min).to_hdf('./lg_model_plot_data.hdf', 'G_3sigma_min_{0}'.format(condition))    \n",
    "    \n",
    "    # formatting\n",
    "    fig.patch.set_alpha(1.0)\n",
    "    ax[0].legend(loc = 2)\n",
    "    ax[0].set_xlim(-0.2, 8.2)\n",
    "    \n",
    "    ax[0].tick_params(axis='both', which='major', labelsize='x-large')\n",
    "    ax[1].tick_params(axis='both', which='major', labelsize='x-large')\n",
    "    \n",
    "    ax[1].set_xlabel('time (days)', fontsize = 'xx-large')\n",
    "    ax[0].set_ylabel('outgrowth ($\\mu m$)', fontsize = 'xx-large')\n",
    "    ax[1].set_ylabel('growth fraction', fontsize = 'xx-large')\n",
    "    \n",
    "    ax[0].set_title(condition, fontsize='xx-large')\n",
    "    \n",
    "    plt.show()\n",
    "\n",
    "    "
   ]
  },
  {
   "cell_type": "markdown",
   "metadata": {},
   "source": [
    "Save some more results data:"
   ]
  },
  {
   "cell_type": "code",
   "execution_count": null,
   "metadata": {
    "collapsed": false
   },
   "outputs": [],
   "source": [
    "for condition in conditions:\n",
    "    print condition\n",
    "    ensemble = ensembles[condition]\n",
    "    \n",
    "    # confidence interval\n",
    "    L_2sigma_max = ensemble.describe_function_series(time, ensemble.model_outputs['L'])['97.5']\n",
    "    L_2sigma_min = ensemble.describe_function_series(time, ensemble.model_outputs['L'])['2.5']\n",
    "    pd.Series(L_2sigma_max).to_hdf('./lg_model_plot_data.hdf', 'L_2sigma_max_{0}'.format(condition))\n",
    "    pd.Series(L_2sigma_min).to_hdf('./lg_model_plot_data.hdf', 'L_2sigma_min_{0}'.format(condition))\n",
    "\n",
    "    G_2sigma_max = ensemble.describe_function_series(time, ensemble.model_outputs['G'])['97.5']\n",
    "    G_2sigma_min = ensemble.describe_function_series(time, ensemble.model_outputs['G'])['2.5']\n",
    "    pd.Series(G_2sigma_max).to_hdf('./lg_model_plot_data.hdf', 'G_2sigma_max_{0}'.format(condition))\n",
    "    pd.Series(G_2sigma_min).to_hdf('./lg_model_plot_data.hdf', 'G_2sigma_min_{0}'.format(condition))\n",
    "    \n",
    "    L_1sigma_max = ensemble.describe_function_series(time, ensemble.model_outputs['L'])['84.0']\n",
    "    L_1sigma_min = ensemble.describe_function_series(time, ensemble.model_outputs['L'])['16.0']\n",
    "    pd.Series(L_1sigma_max).to_hdf('./lg_model_plot_data.hdf', 'L_1sigma_max_{0}'.format(condition))\n",
    "    pd.Series(L_1sigma_min).to_hdf('./lg_model_plot_data.hdf', 'L_1sigma_min_{0}'.format(condition))\n",
    "\n",
    "    G_1sigma_max = ensemble.describe_function_series(time, ensemble.model_outputs['G'])['84.0']\n",
    "    G_1sigma_min = ensemble.describe_function_series(time, ensemble.model_outputs['G'])['16.0']\n",
    "    pd.Series(G_1sigma_max).to_hdf('./lg_model_plot_data.hdf', 'G_1sigma_max_{0}'.format(condition))\n",
    "    pd.Series(G_1sigma_min).to_hdf('./lg_model_plot_data.hdf', 'G_1sigma_min_{0}'.format(condition))\n",
    "    \n",
    "    bf = best_fit(ensemble, outgrowth_pop, cell_number_data)\n",
    "    bf = bf[['G', 'L']]\n",
    "    best_fit_data = pd.DataFrame()\n",
    "    best_fit_data['L'] = bf['L'](time)\n",
    "    best_fit_data['G'] = bf['G'](time)\n",
    "    best_fit_data.to_hdf('./lg_model_plot_data.hdf', 'best_fit_{0}'.format(condition))\n",
    "    \n",
    "    "
   ]
  },
  {
   "cell_type": "markdown",
   "metadata": {},
   "source": [
    "Plot for presentation at SBMC (musste schnell gehen, code ist hässlich)"
   ]
  },
  {
   "cell_type": "code",
   "execution_count": null,
   "metadata": {
    "collapsed": true
   },
   "outputs": [],
   "source": [
    "fitlabels = {M: 'full',\n",
    "          M_nodiv: 'nodiv',\n",
    "         M_noact: 'noact',\n",
    "         M_noflux: 'noflux'}"
   ]
  },
  {
   "cell_type": "code",
   "execution_count": null,
   "metadata": {
    "collapsed": false
   },
   "outputs": [],
   "source": [
    "conditions = ['full', 'nodiv', 'noact', 'noflux', 'noflux_noact']\n",
    "ensembles = {'full': model_ensemble,\n",
    "            'nodiv': model_ensemble_nodiv,\n",
    "            'noact': model_ensemble_noact,\n",
    "            'noflux': model_ensemble_noflux}\n",
    "minuits = {'full': M,\n",
    "            'nodiv': M_nodiv,\n",
    "            'noact': M_noact,\n",
    "            'noflux': M_noflux}"
   ]
  },
  {
   "cell_type": "code",
   "execution_count": null,
   "metadata": {
    "collapsed": false
   },
   "outputs": [],
   "source": [
    "time = sp.linspace(0, 8, 100)\n",
    "# gexpdata = cell_number_plot_data[['ID', 'time', 'G']].groupby('ID').mean().groupby('time').agg(['mean', 'sem']).reset_index()\n",
    "for condition in ['full']:\n",
    "    ensemble = ensembles[condition]\n",
    "    minuit = minuits[condition]\n",
    "  \n",
    "    fig, ax = plt.subplots(2, sharex = True, figsize = (3, 6))\n",
    "    \n",
    "\n",
    "    cell_number_plot_data = data.data['cell_number_data']\n",
    "    cell_number_plot_data['G'] = cell_number_plot_data['PCNA'] / cell_number_plot_data['SOX2']\n",
    "    \n",
    "    \n",
    "    \n",
    "    # experimental data\n",
    "    ax[0].errorbar(sp.array(outgrowth_pop['time']), sp.array(outgrowth_pop['mean']),\n",
    "                   sp.array(outgrowth_pop['sem']),\n",
    "                   label = 'exp', fmt = 's', color = 'black')\n",
    "    \n",
    "#     ax[1].errorbar(gexpdata['time'], gexpdata['G', 'mean'], gexpdata['G', 'sem'], fmt='s', color = 'black')\n",
    "    \n",
    "    # best fit\n",
    "    migrad_input = minuit.values\n",
    "    migrad_input['Tct'] = Tct = lambda t: sp.interp(t,\n",
    "                                                    [migrad_input['switchtime'], migrad_input['switchtime']],\n",
    "                                                    [migrad_input['TC1'], migrad_input['TC2']])\n",
    "    migrad_input['L0'] = L0\n",
    "    L, G = lg_model(minuit.values, time)\n",
    "    ax[0].plot(time, L, label = 'model', lw = 2, color = 'black')\n",
    "    ax[1].plot(time, G,                  lw = 2, color = 'black')\n",
    "    \n",
    "    # confidence interval\n",
    "    L_3sigma_max = ensemble.describe_function_series(time, ensemble.model_outputs['L'])['99.8']\n",
    "    L_3sigma_min = ensemble.describe_function_series(time, ensemble.model_outputs['L'])['0.1']\n",
    "    ax[0].fill_between(time, L_3sigma_min, L_3sigma_max, alpha = 0.2, color = 'black')\n",
    "    \n",
    "    G_3sigma_max = ensemble.describe_function_series(time, ensemble.model_outputs['G'])['99.8']\n",
    "    G_3sigma_min = ensemble.describe_function_series(time, ensemble.model_outputs['G'])['0.1']\n",
    "    ax[1].fill_between(time, G_3sigma_min, G_3sigma_max, alpha = 0.2, color = 'black')\n",
    "    \n",
    "    \n",
    "    # formatting\n",
    "    fig.patch.set_alpha(1.0)\n",
    "#     ax[0].legend(loc = 2)\n",
    "    ax[0].set_xlim(-0.2, 8.2)\n",
    "    ax[0].set_ylim(0, 4000)\n",
    "    \n",
    "    ax[0].tick_params(axis='both', which='major', labelsize='x-large')\n",
    "    ax[1].tick_params(axis='both', which='major', labelsize='x-large')\n",
    "    \n",
    "    ax[1].set_xlabel('time (days)', fontsize = 'xx-large')\n",
    "    ax[0].set_ylabel('outgrowth ($\\mu m$)', fontsize = 'xx-large')\n",
    "    ax[1].set_ylabel('growth fraction', fontsize = 'xx-large')\n",
    "    \n",
    "    ax[0].set_title(condition, fontsize='xx-large')\n",
    "    \n",
    "    plt.show()\n",
    "\n",
    "    "
   ]
  },
  {
   "cell_type": "code",
   "execution_count": null,
   "metadata": {
    "collapsed": false
   },
   "outputs": [],
   "source": [
    "time = sp.linspace(0, 8, 100)\n",
    "# gexpdata = cell_number_plot_data[['ID', 'time', 'G']].groupby('ID').mean().groupby('time').agg(['mean', 'sem']).reset_index()\n",
    "for condition in ['full']:\n",
    "    ensemble = ensembles[condition]\n",
    "    minuit = minuits[condition]\n",
    "  \n",
    "    fig, ax = plt.subplots(2, sharex = True, figsize = (3, 6))\n",
    "    \n",
    "\n",
    "    cell_number_plot_data = data.data['cell_number_data']\n",
    "    cell_number_plot_data['G'] = cell_number_plot_data['PCNA'] / cell_number_plot_data['SOX2']\n",
    "    \n",
    "    \n",
    "    \n",
    "    # experimental data\n",
    "#     ax[0].errorbar(sp.array(outgrowth_pop['time']), sp.array(outgrowth_pop['mean']),\n",
    "#                    sp.array(outgrowth_pop['sem']),\n",
    "#                    label = 'exp', fmt = 's', color = 'black')\n",
    "    \n",
    "#     ax[1].errorbar(gexpdata['time'], gexpdata['G', 'mean'], gexpdata['G', 'sem'], fmt='s', color = 'black')\n",
    "    \n",
    "    # best fit\n",
    "    migrad_input = minuit.values\n",
    "    migrad_input['Tct'] = Tct = lambda t: sp.interp(t,\n",
    "                                                    [migrad_input['switchtime'], migrad_input['switchtime']],\n",
    "                                                    [migrad_input['TC1'], migrad_input['TC2']])\n",
    "    migrad_input['L0'] = L0\n",
    "    L, G = lg_model(minuit.values, time)\n",
    "    ax[0].plot(time, L, label = 'model', lw = 2, color = 'black')\n",
    "    ax[1].plot(time, G,                  lw = 2, color = 'black')\n",
    "    \n",
    "    # confidence interval\n",
    "    L_3sigma_max = ensemble.describe_function_series(time, ensemble.model_outputs['L'])['99.8']\n",
    "    L_3sigma_min = ensemble.describe_function_series(time, ensemble.model_outputs['L'])['0.1']\n",
    "    ax[0].fill_between(time, L_3sigma_min, L_3sigma_max, alpha = 0.2, color = 'black')\n",
    "    \n",
    "    G_3sigma_max = ensemble.describe_function_series(time, ensemble.model_outputs['G'])['99.8']\n",
    "    G_3sigma_min = ensemble.describe_function_series(time, ensemble.model_outputs['G'])['0.1']\n",
    "    ax[1].fill_between(time, G_3sigma_min, G_3sigma_max, alpha = 0.2, color = 'black')\n",
    "    \n",
    "    \n",
    "    # formatting\n",
    "    fig.patch.set_alpha(1.0)\n",
    "#     ax[0].legend(loc = 2)\n",
    "    ax[0].set_xlim(-0.2, 8.2)\n",
    "    ax[0].set_ylim(0, 4000)\n",
    "    \n",
    "    ax[0].tick_params(axis='both', which='major', labelsize='x-large')\n",
    "    ax[1].tick_params(axis='both', which='major', labelsize='x-large')\n",
    "    \n",
    "    ax[1].set_xlabel('time (days)', fontsize = 'xx-large')\n",
    "    ax[0].set_ylabel('outgrowth ($\\mu m$)', fontsize = 'xx-large')\n",
    "    ax[1].set_ylabel('growth fraction', fontsize = 'xx-large')\n",
    "    \n",
    "    ax[0].set_title(condition, fontsize='xx-large')\n",
    "    \n",
    "    plt.show()\n",
    "\n",
    "    "
   ]
  },
  {
   "cell_type": "code",
   "execution_count": null,
   "metadata": {
    "collapsed": false
   },
   "outputs": [],
   "source": [
    "time = sp.linspace(0, 8, 100)\n",
    "# gexpdata = cell_number_plot_data[['ID', 'time', 'G']].groupby('ID').mean().groupby('time').agg(['mean', 'sem']).reset_index()\n",
    "for condition in ['full']:\n",
    "    ensemble = ensembles[condition]\n",
    "    minuit = minuits[condition]\n",
    "  \n",
    "    fig, ax = plt.subplots(2, sharex = True, figsize = (3, 6))\n",
    "    \n",
    "\n",
    "    cell_number_plot_data = data.data['cell_number_data']\n",
    "    cell_number_plot_data['G'] = cell_number_plot_data['PCNA'] / cell_number_plot_data['SOX2']\n",
    "    \n",
    "    \n",
    "    \n",
    "    # experimental data\n",
    "    ax[0].errorbar(sp.array(outgrowth_pop['time']), sp.array(outgrowth_pop['mean']),\n",
    "                   sp.array(outgrowth_pop['sem']),\n",
    "                   label = 'exp', fmt = 's--', color = 'black')\n",
    "    \n",
    "#     ax[1].errorbar(gexpdata['time'], gexpdata['G', 'mean'], gexpdata['G', 'sem'], fmt='s', color = 'black')\n",
    "    \n",
    "#     # best fit\n",
    "#     migrad_input = minuit.values\n",
    "#     migrad_input['Tct'] = Tct = lambda t: sp.interp(t,\n",
    "#                                                     [migrad_input['switchtime'], migrad_input['switchtime']],\n",
    "#                                                     [migrad_input['TC1'], migrad_input['TC2']])\n",
    "#     migrad_input['L0'] = L0\n",
    "#     L, G = lg_model(minuit.values, time)\n",
    "#     ax[0].plot(time, L, label = 'model', lw = 2, color = 'black')\n",
    "#     ax[1].plot(time, G,                  lw = 2, color = 'black')\n",
    "    \n",
    "#     # confidence interval\n",
    "#     L_3sigma_max = ensemble.describe_function_series(time, ensemble.model_outputs['L'])['99.8']\n",
    "#     L_3sigma_min = ensemble.describe_function_series(time, ensemble.model_outputs['L'])['0.1']\n",
    "#     ax[0].fill_between(time, L_3sigma_min, L_3sigma_max, alpha = 0.2, color = 'black')\n",
    "    \n",
    "#     G_3sigma_max = ensemble.describe_function_series(time, ensemble.model_outputs['G'])['99.8']\n",
    "#     G_3sigma_min = ensemble.describe_function_series(time, ensemble.model_outputs['G'])['0.1']\n",
    "#     ax[1].fill_between(time, G_3sigma_min, G_3sigma_max, alpha = 0.2, color = 'black')\n",
    "    \n",
    "    \n",
    "    # formatting\n",
    "    fig.patch.set_alpha(1.0)\n",
    "#     ax[0].legend(loc = 2)\n",
    "    ax[0].set_xlim(-0.2, 8.2)\n",
    "    ax[0].set_ylim(0, 4000)\n",
    "    \n",
    "    ax[0].tick_params(axis='both', which='major', labelsize='x-large')\n",
    "    ax[1].tick_params(axis='both', which='major', labelsize='x-large')\n",
    "    \n",
    "    ax[1].set_xlabel('time (days)', fontsize = 'xx-large')\n",
    "    ax[0].set_ylabel('outgrowth ($\\mu m$)', fontsize = 'xx-large')\n",
    "    ax[1].set_ylabel('growth fraction', fontsize = 'xx-large')\n",
    "    \n",
    "    ax[0].set_title(condition, fontsize='xx-large')\n",
    "    \n",
    "    plt.show()\n",
    "\n",
    "    "
   ]
  },
  {
   "cell_type": "code",
   "execution_count": null,
   "metadata": {
    "collapsed": true
   },
   "outputs": [],
   "source": []
  }
 ],
 "metadata": {
  "kernelspec": {
   "display_name": "Python 2",
   "language": "python",
   "name": "python2"
  },
  "language_info": {
   "codemirror_mode": {
    "name": "ipython",
    "version": 2
   },
   "file_extension": ".py",
   "mimetype": "text/x-python",
   "name": "python",
   "nbconvert_exporter": "python",
   "pygments_lexer": "ipython2",
   "version": "2.7.11"
  }
 },
 "nbformat": 4,
 "nbformat_minor": 0
}
