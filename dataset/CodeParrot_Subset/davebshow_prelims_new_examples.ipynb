{
 "cells": [
  {
   "cell_type": "code",
   "execution_count": 1,
   "metadata": {
    "collapsed": false
   },
   "outputs": [
    {
     "name": "stdout",
     "output_type": "stream",
     "text": [
      "Populating the interactive namespace from numpy and matplotlib\n"
     ]
    }
   ],
   "source": [
    "%pylab inline"
   ]
  },
  {
   "cell_type": "code",
   "execution_count": 2,
   "metadata": {
    "collapsed": true
   },
   "outputs": [],
   "source": [
    "import json\n",
    "import networkx as nx\n",
    "import pandas as pd\n",
    "import matplotlib.pyplot as plt"
   ]
  },
  {
   "cell_type": "code",
   "execution_count": 3,
   "metadata": {
    "collapsed": false
   },
   "outputs": [],
   "source": [
    "plt.rcParams[\"figure.figsize\"] = 17, 10"
   ]
  },
  {
   "cell_type": "code",
   "execution_count": 4,
   "metadata": {
    "collapsed": false
   },
   "outputs": [],
   "source": [
    "b = nx.read_gexf(\"projections/bipartite.gexf\") \n",
    "g = nx.read_gexf(\"projections/onemode.gexf\")"
   ]
  },
  {
   "cell_type": "markdown",
   "metadata": {},
   "source": [
    "### A bit of bipartite exploration"
   ]
  },
  {
   "cell_type": "markdown",
   "metadata": {},
   "source": [
    "Bgraph key nodes:\n",
    "\n",
    "* Lope = \"1598\"\n",
    "* Lemos = \"686\"\n",
    "* Cerv = \"759\"\n",
    "* Cuesta = \"793\""
   ]
  },
  {
   "cell_type": "code",
   "execution_count": 5,
   "metadata": {
    "collapsed": false
   },
   "outputs": [
    {
     "data": {
      "text/plain": [
       "{'1598': 40, '686': 20, '759': 26, '793': 15}"
      ]
     },
     "execution_count": 5,
     "metadata": {},
     "output_type": "execute_result"
    }
   ],
   "source": [
    "# Key node bigraph degree\n",
    "nx.degree(b, nbunch=[\"793\", \"759\", \"686\", \"1598\"])"
   ]
  },
  {
   "cell_type": "markdown",
   "metadata": {},
   "source": [
    "#### Cervantes"
   ]
  },
  {
   "cell_type": "code",
   "execution_count": 6,
   "metadata": {
    "collapsed": false
   },
   "outputs": [
    {
     "data": {
      "text/plain": [
       "7"
      ]
     },
     "execution_count": 6,
     "metadata": {},
     "output_type": "execute_result"
    }
   ],
   "source": [
    "# Cervantes and Cuesta overlap\n",
    "len(set(b[\"759\"]) & set(b[\"793\"]))"
   ]
  },
  {
   "cell_type": "code",
   "execution_count": 6,
   "metadata": {
    "collapsed": false
   },
   "outputs": [],
   "source": [
    "cerv_books = set(b[\"759\"])\n",
    "cerv_cuesta_books = set(b[\"793\"])"
   ]
  },
  {
   "cell_type": "code",
   "execution_count": 7,
   "metadata": {
    "collapsed": false
   },
   "outputs": [],
   "source": [
    "cerv_book_data = [b.node[n]['lugar'] for n in cerv_books]\n",
    "# 8 books in Madrid, Cuesta published 7 of them\n",
    "cerv_cuesta_book_data = [b.node[n]['fecha'] for n in cerv_cuesta_books]\n",
    "# 1605 -> 1618 Basically worked together throughout the whole period"
   ]
  },
  {
   "cell_type": "code",
   "execution_count": 8,
   "metadata": {
    "collapsed": false
   },
   "outputs": [
    {
     "data": {
      "text/plain": [
       "16"
      ]
     },
     "execution_count": 8,
     "metadata": {},
     "output_type": "execute_result"
    }
   ],
   "source": [
    "# Cervantes and Lemos overlap\n",
    "len(set(b[\"759\"]) & set(b[\"686\"]))"
   ]
  },
  {
   "cell_type": "code",
   "execution_count": 10,
   "metadata": {
    "collapsed": false
   },
   "outputs": [
    {
     "data": {
      "text/plain": [
       "0"
      ]
     },
     "execution_count": 10,
     "metadata": {},
     "output_type": "execute_result"
    }
   ],
   "source": [
    "# Lope and lemos overlap\n",
    "len(set(b[\"1598\"]) & set(b[\"686\"]))"
   ]
  },
  {
   "cell_type": "code",
   "execution_count": 11,
   "metadata": {
    "collapsed": false
   },
   "outputs": [
    {
     "data": {
      "text/plain": [
       "5"
      ]
     },
     "execution_count": 11,
     "metadata": {},
     "output_type": "execute_result"
    }
   ],
   "source": [
    "# Lope and cuesta overlap\n",
    "len(set(b[\"1598\"]) & set(b[\"793\"]))"
   ]
  },
  {
   "cell_type": "code",
   "execution_count": 23,
   "metadata": {
    "collapsed": true
   },
   "outputs": [],
   "source": [
    "# authors = pd.Series([n for (n, a) in g.nodes(data=True) if a.get(\"role\") == \"author\"])\n",
    "# patrons = pd.Series([n for (n, a) in g.nodes(data=True) if a.get(\"role\") == \"patron\"])\n",
    "# printers = pd.Series([n for (n, a) in g.nodes(data=True) if a.get(\"role\") == \"printer/editor\"])\n",
    "# signatories = pd.Series([n for (n, a) in g.nodes(data=True) if a.get(\"role\") == \"signatory\"])"
   ]
  },
  {
   "cell_type": "code",
   "execution_count": 57,
   "metadata": {
    "collapsed": false
   },
   "outputs": [],
   "source": [
    "authors = pd.Series(nx.degree(b, nbunch=[n for (n, a) in b.nodes(data=True) if a.get(\"role\") == \"author\"]))\n",
    "author_labels = pd.Series({n: a[\"label\"] for (n, a) in b.nodes(data=True) if a.get(\"role\") == \"author\"})"
   ]
  },
  {
   "cell_type": "code",
   "execution_count": 58,
   "metadata": {
    "collapsed": false
   },
   "outputs": [],
   "source": [
    "auth_df = pd.concat([authors, author_labels], axis=1)\n",
    "auth_df.columns = [\"num_editions\", \"label\"]"
   ]
  },
  {
   "cell_type": "markdown",
   "metadata": {
    "collapsed": true
   },
   "source": [
    "### One mode"
   ]
  },
  {
   "cell_type": "code",
   "execution_count": 59,
   "metadata": {
    "collapsed": true
   },
   "outputs": [],
   "source": [
    "authors = [n for (n, a) in g.nodes(data=True) if a.get(\"role\") == \"author\"]\n",
    "patrons = [n for (n, a) in g.nodes(data=True) if a.get(\"role\") == \"patron\"]"
   ]
  },
  {
   "cell_type": "markdown",
   "metadata": {},
   "source": [
    "#### Author/noble edges"
   ]
  },
  {
   "cell_type": "code",
   "execution_count": 60,
   "metadata": {
    "collapsed": true
   },
   "outputs": [],
   "source": [
    "import collections\n",
    "def get_edges(g, bunch1, bunch2):\n",
    "    edges = collections.defaultdict(list)\n",
    "    for n in bunch1:\n",
    "        nbrs = set(g[n])\n",
    "        for nbr in nbrs:\n",
    "            if nbr in bunch2:\n",
    "                edges[n].append(g.edge[n][nbr][\"weight\"])\n",
    "    return edges"
   ]
  },
  {
   "cell_type": "code",
   "execution_count": 61,
   "metadata": {
    "collapsed": false
   },
   "outputs": [],
   "source": [
    "edge_dict = get_edges(g, authors, patrons)"
   ]
  },
  {
   "cell_type": "code",
   "execution_count": 72,
   "metadata": {
    "collapsed": false
   },
   "outputs": [],
   "source": [
    "def aggr_edge_dict(g, edge_dict):\n",
    "    aggr_dict = {}\n",
    "    for k, v in edge_dict.items():\n",
    "        v = list(v)\n",
    "        length = len(v)\n",
    "        aggr_dict[k] = [g.node[k][\"label\"], length, sum(v), sum(v) / length]\n",
    "    return aggr_dict"
   ]
  },
  {
   "cell_type": "code",
   "execution_count": 78,
   "metadata": {
    "collapsed": false
   },
   "outputs": [],
   "source": [
    "auth_noble_aggr_df = pd.DataFrame(aggr_edge_dict(g, edge_dict)).transpose()\n",
    "auth_noble_aggr_df.columns = [\"label\", \"num_patrons\", \"total_patron_edge_weight\", \"avg_patron_edge_weight\"]"
   ]
  },
  {
   "cell_type": "code",
   "execution_count": 95,
   "metadata": {
    "collapsed": false
   },
   "outputs": [],
   "source": [
    "auth_noble_df = auth_noble_aggr_df.merge(auth_df, on=\"label\")\n",
    "auth_noble_df = auth_noble_df.sort(columns=[\"num_editions\", \"total_patron_edge_weight\"], ascending=False)"
   ]
  },
  {
   "cell_type": "code",
   "execution_count": 99,
   "metadata": {
    "collapsed": false
   },
   "outputs": [
    {
     "data": {
      "text/html": [
       "<div style=\"max-height:1000px;max-width:1500px;overflow:auto;\">\n",
       "<table border=\"1\" class=\"dataframe\">\n",
       "  <thead>\n",
       "    <tr style=\"text-align: right;\">\n",
       "      <th></th>\n",
       "      <th>label</th>\n",
       "      <th>num_patrons</th>\n",
       "      <th>total_patron_edge_weight</th>\n",
       "      <th>avg_patron_edge_weight</th>\n",
       "      <th>num_editions</th>\n",
       "    </tr>\n",
       "  </thead>\n",
       "  <tbody>\n",
       "    <tr>\n",
       "      <th>22</th>\n",
       "      <td>           Felix Lope de Vega Carpio</td>\n",
       "      <td> 17</td>\n",
       "      <td>  5.850794</td>\n",
       "      <td> 0.3441643</td>\n",
       "      <td> 40</td>\n",
       "    </tr>\n",
       "    <tr>\n",
       "      <th>7 </th>\n",
       "      <td>        Miguel de Cervantes Saavedra</td>\n",
       "      <td>  3</td>\n",
       "      <td>  4.460714</td>\n",
       "      <td>  1.486905</td>\n",
       "      <td> 26</td>\n",
       "    </tr>\n",
       "    <tr>\n",
       "      <th>13</th>\n",
       "      <td>                 Jose de Valdivielso</td>\n",
       "      <td>  3</td>\n",
       "      <td>   2.22619</td>\n",
       "      <td> 0.7420635</td>\n",
       "      <td> 15</td>\n",
       "    </tr>\n",
       "    <tr>\n",
       "      <th>24</th>\n",
       "      <td>                        Mateo Aleman</td>\n",
       "      <td>  4</td>\n",
       "      <td>  2.088095</td>\n",
       "      <td> 0.5220238</td>\n",
       "      <td> 12</td>\n",
       "    </tr>\n",
       "    <tr>\n",
       "      <th>15</th>\n",
       "      <td>                   Alonso de Ledesma</td>\n",
       "      <td>  2</td>\n",
       "      <td>  1.066667</td>\n",
       "      <td> 0.5333333</td>\n",
       "      <td>  6</td>\n",
       "    </tr>\n",
       "    <tr>\n",
       "      <th>20</th>\n",
       "      <td>                     Vicente Espinel</td>\n",
       "      <td>  2</td>\n",
       "      <td> 0.5833333</td>\n",
       "      <td> 0.2916667</td>\n",
       "      <td>  6</td>\n",
       "    </tr>\n",
       "    <tr>\n",
       "      <th>19</th>\n",
       "      <td> Alonso Geronimo de Salas Barbadillo</td>\n",
       "      <td>  3</td>\n",
       "      <td>       0.7</td>\n",
       "      <td> 0.2333333</td>\n",
       "      <td>  5</td>\n",
       "    </tr>\n",
       "    <tr>\n",
       "      <th>12</th>\n",
       "      <td>                          Juan Marti</td>\n",
       "      <td>  2</td>\n",
       "      <td> 0.7095238</td>\n",
       "      <td> 0.3547619</td>\n",
       "      <td>  4</td>\n",
       "    </tr>\n",
       "    <tr>\n",
       "      <th>10</th>\n",
       "      <td>       Agustin de Rojas Villaldrando</td>\n",
       "      <td>  1</td>\n",
       "      <td> 0.2833333</td>\n",
       "      <td> 0.2833333</td>\n",
       "      <td>  4</td>\n",
       "    </tr>\n",
       "    <tr>\n",
       "      <th>21</th>\n",
       "      <td>                Bernardo de Balbuena</td>\n",
       "      <td>  3</td>\n",
       "      <td> 0.9285714</td>\n",
       "      <td> 0.3095238</td>\n",
       "      <td>  3</td>\n",
       "    </tr>\n",
       "    <tr>\n",
       "      <th>14</th>\n",
       "      <td>        El Inca Garcilaso de la Vega</td>\n",
       "      <td>  2</td>\n",
       "      <td> 0.2678571</td>\n",
       "      <td> 0.1339286</td>\n",
       "      <td>  3</td>\n",
       "    </tr>\n",
       "    <tr>\n",
       "      <th>23</th>\n",
       "      <td>        Cristobal Suarez de Figueroa</td>\n",
       "      <td>  1</td>\n",
       "      <td> 0.1666667</td>\n",
       "      <td> 0.1666667</td>\n",
       "      <td>  3</td>\n",
       "    </tr>\n",
       "    <tr>\n",
       "      <th>17</th>\n",
       "      <td>                     Pedro Rodriguez</td>\n",
       "      <td>  2</td>\n",
       "      <td>     0.325</td>\n",
       "      <td>    0.1625</td>\n",
       "      <td>  2</td>\n",
       "    </tr>\n",
       "    <tr>\n",
       "      <th>0 </th>\n",
       "      <td>       Gonzalo de Cespedes y Meneses</td>\n",
       "      <td>  1</td>\n",
       "      <td> 0.2666667</td>\n",
       "      <td> 0.2666667</td>\n",
       "      <td>  2</td>\n",
       "    </tr>\n",
       "    <tr>\n",
       "      <th>11</th>\n",
       "      <td>                    Diego de Pantoja</td>\n",
       "      <td>  2</td>\n",
       "      <td>       0.5</td>\n",
       "      <td>      0.25</td>\n",
       "      <td>  1</td>\n",
       "    </tr>\n",
       "    <tr>\n",
       "      <th>9 </th>\n",
       "      <td>              Juan Bermudez y Alfaro</td>\n",
       "      <td>  1</td>\n",
       "      <td>      0.25</td>\n",
       "      <td>      0.25</td>\n",
       "      <td>  1</td>\n",
       "    </tr>\n",
       "    <tr>\n",
       "      <th>2 </th>\n",
       "      <td>            Francisco Lopez de Úbeda</td>\n",
       "      <td>  1</td>\n",
       "      <td>       0.2</td>\n",
       "      <td>       0.2</td>\n",
       "      <td>  1</td>\n",
       "    </tr>\n",
       "    <tr>\n",
       "      <th>16</th>\n",
       "      <td>          Antonio de Saavedra Guzman</td>\n",
       "      <td>  1</td>\n",
       "      <td>       0.2</td>\n",
       "      <td>       0.2</td>\n",
       "      <td>  1</td>\n",
       "    </tr>\n",
       "    <tr>\n",
       "      <th>1 </th>\n",
       "      <td>                       Pedro Morejon</td>\n",
       "      <td>  1</td>\n",
       "      <td> 0.1428571</td>\n",
       "      <td> 0.1428571</td>\n",
       "      <td>  1</td>\n",
       "    </tr>\n",
       "    <tr>\n",
       "      <th>3 </th>\n",
       "      <td>            Diego Davalos y Figueroa</td>\n",
       "      <td>  1</td>\n",
       "      <td> 0.1428571</td>\n",
       "      <td> 0.1428571</td>\n",
       "      <td>  1</td>\n",
       "    </tr>\n",
       "    <tr>\n",
       "      <th>4 </th>\n",
       "      <td>                 Juan Arce Solorzano</td>\n",
       "      <td>  1</td>\n",
       "      <td> 0.1428571</td>\n",
       "      <td> 0.1428571</td>\n",
       "      <td>  1</td>\n",
       "    </tr>\n",
       "    <tr>\n",
       "      <th>8 </th>\n",
       "      <td>                 Andres de Claramont</td>\n",
       "      <td>  1</td>\n",
       "      <td> 0.1428571</td>\n",
       "      <td> 0.1428571</td>\n",
       "      <td>  1</td>\n",
       "    </tr>\n",
       "    <tr>\n",
       "      <th>5 </th>\n",
       "      <td>               Diego Ágreda y Vargas</td>\n",
       "      <td>  1</td>\n",
       "      <td>     0.125</td>\n",
       "      <td>     0.125</td>\n",
       "      <td>  1</td>\n",
       "    </tr>\n",
       "    <tr>\n",
       "      <th>6 </th>\n",
       "      <td>          Esteban Manuel de Villegas</td>\n",
       "      <td>  1</td>\n",
       "      <td>     0.125</td>\n",
       "      <td>     0.125</td>\n",
       "      <td>  1</td>\n",
       "    </tr>\n",
       "    <tr>\n",
       "      <th>18</th>\n",
       "      <td>                    Juan de Jauregui</td>\n",
       "      <td>  1</td>\n",
       "      <td>       0.1</td>\n",
       "      <td>       0.1</td>\n",
       "      <td>  1</td>\n",
       "    </tr>\n",
       "  </tbody>\n",
       "</table>\n",
       "</div>"
      ],
      "text/plain": [
       "                                  label num_patrons total_patron_edge_weight  \\\n",
       "22            Felix Lope de Vega Carpio          17                 5.850794   \n",
       "7          Miguel de Cervantes Saavedra           3                 4.460714   \n",
       "13                  Jose de Valdivielso           3                  2.22619   \n",
       "24                         Mateo Aleman           4                 2.088095   \n",
       "15                    Alonso de Ledesma           2                 1.066667   \n",
       "20                      Vicente Espinel           2                0.5833333   \n",
       "19  Alonso Geronimo de Salas Barbadillo           3                      0.7   \n",
       "12                           Juan Marti           2                0.7095238   \n",
       "10        Agustin de Rojas Villaldrando           1                0.2833333   \n",
       "21                 Bernardo de Balbuena           3                0.9285714   \n",
       "14         El Inca Garcilaso de la Vega           2                0.2678571   \n",
       "23         Cristobal Suarez de Figueroa           1                0.1666667   \n",
       "17                      Pedro Rodriguez           2                    0.325   \n",
       "0         Gonzalo de Cespedes y Meneses           1                0.2666667   \n",
       "11                     Diego de Pantoja           2                      0.5   \n",
       "9                Juan Bermudez y Alfaro           1                     0.25   \n",
       "2              Francisco Lopez de Úbeda           1                      0.2   \n",
       "16           Antonio de Saavedra Guzman           1                      0.2   \n",
       "1                         Pedro Morejon           1                0.1428571   \n",
       "3              Diego Davalos y Figueroa           1                0.1428571   \n",
       "4                   Juan Arce Solorzano           1                0.1428571   \n",
       "8                   Andres de Claramont           1                0.1428571   \n",
       "5                 Diego Ágreda y Vargas           1                    0.125   \n",
       "6            Esteban Manuel de Villegas           1                    0.125   \n",
       "18                     Juan de Jauregui           1                      0.1   \n",
       "\n",
       "   avg_patron_edge_weight  num_editions  \n",
       "22              0.3441643            40  \n",
       "7                1.486905            26  \n",
       "13              0.7420635            15  \n",
       "24              0.5220238            12  \n",
       "15              0.5333333             6  \n",
       "20              0.2916667             6  \n",
       "19              0.2333333             5  \n",
       "12              0.3547619             4  \n",
       "10              0.2833333             4  \n",
       "21              0.3095238             3  \n",
       "14              0.1339286             3  \n",
       "23              0.1666667             3  \n",
       "17                 0.1625             2  \n",
       "0               0.2666667             2  \n",
       "11                   0.25             1  \n",
       "9                    0.25             1  \n",
       "2                     0.2             1  \n",
       "16                    0.2             1  \n",
       "1               0.1428571             1  \n",
       "3               0.1428571             1  \n",
       "4               0.1428571             1  \n",
       "8               0.1428571             1  \n",
       "5                   0.125             1  \n",
       "6                   0.125             1  \n",
       "18                    0.1             1  "
      ]
     },
     "execution_count": 99,
     "metadata": {},
     "output_type": "execute_result"
    }
   ],
   "source": [
    "auth_noble_df"
   ]
  },
  {
   "cell_type": "code",
   "execution_count": 100,
   "metadata": {
    "collapsed": false
   },
   "outputs": [
    {
     "data": {
      "text/plain": [
       "<matplotlib.axes._subplots.AxesSubplot at 0x7fab58d84198>"
      ]
     },
     "execution_count": 100,
     "metadata": {},
     "output_type": "execute_result"
    },
    {
     "data": {
      "image/png": "[encoded data removed]",
      "text/plain": [
       "<matplotlib.figure.Figure at 0x7fab58dcf2b0>"
      ]
     },
     "metadata": {},
     "output_type": "display_data"
    }
   ],
   "source": [
    "auth_noble_df[:10].plot(kind=\"bar\")"
   ]
  },
  {
   "cell_type": "code",
   "execution_count": null,
   "metadata": {
    "collapsed": true
   },
   "outputs": [],
   "source": []
  }
 ],
 "metadata": {
  "kernelspec": {
   "display_name": "Python 2",
   "language": "python",
   "name": "python2"
  },
  "language_info": {
   "codemirror_mode": {
    "name": "ipython",
    "version": 2
   },
   "file_extension": ".py",
   "mimetype": "text/x-python",
   "name": "python",
   "nbconvert_exporter": "python",
   "pygments_lexer": "ipython2",
   "version": "2.7.6"
  }
 },
 "nbformat": 4,
 "nbformat_minor": 0
}
