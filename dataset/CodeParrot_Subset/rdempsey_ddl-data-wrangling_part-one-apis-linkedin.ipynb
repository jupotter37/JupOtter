{
 "cells": [
  {
   "cell_type": "markdown",
   "metadata": {},
   "source": [
    "# Part One - APIs - Retrieve Data From LinkedIn\n",
    "\n",
    "* Tested with Python 2.7.9\n",
    "* This code assumes that you've created an application on LinkedIn at: https://www.linkedin.com/secure/developer"
   ]
  },
  {
   "cell_type": "markdown",
   "metadata": {},
   "source": [
    "Install the following libraries:\n",
    "* python-linkedin: pip install python-linkedin\n",
    "* prettytable: pip install prettytable\n",
    "\n",
    "For more on:\n",
    "* python-linkedin library: https://github.com/ozgur/python-linkedin\n",
    "* prettytable: https://code.google.com/p/prettytable/"
   ]
  },
  {
   "cell_type": "code",
   "execution_count": null,
   "metadata": {
    "collapsed": false
   },
   "outputs": [],
   "source": [
    "# Import everything we're going to need\n",
    "\n",
    "import json\n",
    "import csv\n",
    "from linkedin import linkedin\n",
    "from prettytable import PrettyTable"
   ]
  },
  {
   "cell_type": "code",
   "execution_count": null,
   "metadata": {
    "collapsed": false
   },
   "outputs": [],
   "source": [
    "# Use the LinkedIn OAuth credentials from the app you created to receive an access token to access your own data\n",
    "\n",
    "# Access credentials\n",
    "CONSUMER_KEY = ''\n",
    "CONSUMER_SECRET = ''\n",
    "USER_TOKEN = ''\n",
    "USER_SECRET = ''\n",
    "\n",
    "# Return url: not needed for development but we'll keep it here as a placeholder\n",
    "RETURN_URL = ''\n",
    "\n",
    "# Create the authorization\n",
    "authentication = linkedin.LinkedInDeveloperAuthentication(CONSUMER_KEY, \n",
    "                                                          CONSUMER_SECRET, \n",
    "                                                          USER_TOKEN, \n",
    "                                                          USER_SECRET, \n",
    "                                                          RETURN_URL,\n",
    "                                                          permissions=linkedin.PERMISSIONS.enums.values())\n",
    "# Create a LinkedIn app to use\n",
    "li_app = linkedin.LinkedInApplication(authentication)\n",
    "\n",
    "# Retrieve your profile\n",
    "li_app.get_profile()"
   ]
  },
  {
   "cell_type": "code",
   "execution_count": null,
   "metadata": {
    "collapsed": false
   },
   "outputs": [],
   "source": [
    "# Show a single part of your profile\n",
    "profile = li_app.get_profile()\n",
    "profile['firstName']"
   ]
  },
  {
   "cell_type": "code",
   "execution_count": null,
   "metadata": {
    "collapsed": false
   },
   "outputs": [],
   "source": [
    "# Retrieve and save your LinkedIn connections\n",
    "# The data retrieved is limited in scope\n",
    "# json is built-in to Python so no need to install anything new\n",
    "\n",
    "my_connections = li_app.get_connections()\n",
    "\n",
    "# By default, this file will be stored in the same folder that your code runs in\n",
    "# If using iPython Notebook as we are now, then it will be in the same folder that your notebook is in\n",
    "my_connections_file = 'my_linkedin_connections.json'\n",
    "\n",
    "f = open(my_connections_file, 'w')\n",
    "f.write(json.dumps(my_connections, indent=1))\n",
    "f.close()\n",
    "\n",
    "print(\"JSON file creation complete\")"
   ]
  },
  {
   "cell_type": "code",
   "execution_count": null,
   "metadata": {
    "collapsed": false
   },
   "outputs": [],
   "source": [
    "# You can load the connection data using the following so you don't \n",
    "# have to retrieve them until you get more connections\n",
    "connections = json.loads(open(my_connections_file).read())\n",
    "\n",
    "print(connections)"
   ]
  },
  {
   "cell_type": "code",
   "execution_count": null,
   "metadata": {
    "collapsed": false
   },
   "outputs": [],
   "source": [
    "# Use prettytable to nicely print your LinkedIn connections' data\n",
    "\n",
    "# For this example we'll look at only name and location. You can easily \n",
    "# add more fields if you like\n",
    "pt = PrettyTable(field_names=['Name', 'Location'])\n",
    "# Left justify everything \n",
    "pt.align = 'l'\n",
    "\n",
    "# If the person has a location, add a row for them\n",
    "# If the person is keeping their information private, their name \n",
    "# will show up as \"private private\" with no location\n",
    "# The code below will exclude those entries\n",
    "for c in connections['values']:\n",
    "    if c.has_key('location'):\n",
    "        pt.add_row([c['firstName'] + ' ' + c['lastName'], c['location']['name']])\n",
    "        \n",
    "print(pt)"
   ]
  },
  {
   "cell_type": "code",
   "execution_count": null,
   "metadata": {
    "collapsed": false
   },
   "outputs": [],
   "source": [
    "# See http://developer.linkedin.com/documents/profile-fields#fullprofile\n",
    "# for details on additional field selectors that can be passed in for retrieving additional profile information.\n",
    "\n",
    "# Display the positions of a person in your network.\n",
    "\n",
    "# Use an id for a connection; we'll pull the first one\n",
    "connection_id = my_connections['values'][0]['id']\n",
    "connection_positions = li_app.get_profile(member_id=connection_id, \n",
    "                                       selectors=['positions'])\n",
    "\n",
    "# Dump the response to a json object. However, we can do better than that!\n",
    "# print json.dumps(connection_positions, indent=1)\n",
    "\n",
    "# Show some of the data\n",
    "print(\"Connection: {}\".format(my_connections['values'][0]['firstName'] + \" \" + my_connections['values'][0]['lastName']))\n",
    "print(\"Total Positions: {} \\n\".format(connection_positions['positions']['_total']))\n",
    "\n",
    "ct = PrettyTable(field_names=['Company', 'Title', 'Start Date'])\n",
    "ct.align = 'l'\n",
    "\n",
    "for c in connection_positions['positions']['values']:\n",
    "    ct.add_row([c['company']['name'], c['title'], str(c['startDate']['month']) + '/' + str(c['startDate']['year'])])\n",
    "\n",
    "print(ct)"
   ]
  },
  {
   "cell_type": "code",
   "execution_count": null,
   "metadata": {
    "collapsed": false
   },
   "outputs": [],
   "source": [
    "# By default the positions are sorted by the start date.\n",
    "# Let's see a prettytable sorted by company name instead\n",
    "\n",
    "print ct.get_string(sortby=\"Company\")\n",
    "\n"
   ]
  },
  {
   "cell_type": "code",
   "execution_count": null,
   "metadata": {
    "collapsed": false
   },
   "outputs": [],
   "source": [
    "# Another way to get the positions of a single contact - using field selectors\n",
    "\n",
    "connection_positions = li_app.get_profile(member_id=connection_id,selectors=['positions:(company:(name,industry,id))'])\n",
    "\n",
    "conn_pos = PrettyTable(field_names=['Company'])\n",
    "conn_pos.align = 'l'\n",
    "\n",
    "for c in connection_positions['positions']['values']:\n",
    "    conn_pos.add_row([c['company']['name']])\n",
    "\n",
    "print(conn_pos)"
   ]
  },
  {
   "cell_type": "code",
   "execution_count": null,
   "metadata": {
    "collapsed": false
   },
   "outputs": [],
   "source": [
    "# Convert the json file to a csv and save the file\n",
    "# Each row of the table is stored in _rows\n",
    "# A CSV is more easily imported into a database than JSON, depending on the database\n",
    "\n",
    "# Create a new prettytable with all of the available data\n",
    "pt = PrettyTable(field_names=['first_name', 'last_name', 'headline', 'industry', 'picture_url', 'location', 'country', 'profile_request_url'])\n",
    "pt.align = 'l'\n",
    "\n",
    "\n",
    "for c in connections['values']:\n",
    "    if c.has_key('location'):\n",
    "        first_name = c['firstName'] if c.has_key('firstName') else ''\n",
    "        last_name = c['lastName'] if c.has_key('lastName') else ''\n",
    "        headline = c['headline'] if c.has_key('headline') else ''\n",
    "        industry = c['industry'] if c.has_key('industry') else ''\n",
    "        picture_url = c['pictureUrl'] if c.has_key('pictureUrl') else ''\n",
    "        location = c['location']['name'] if c.has_key('location') else ''\n",
    "        country = c['location']['country']['code'] if c.has_key('location') else ''\n",
    "        profile_request_url = c['apiStandardProfileRequest']['url'] if c.has_key('apiStandardProfileRequest') else ''\n",
    "        \n",
    "        pt.add_row([first_name,\n",
    "                    last_name, \n",
    "                    headline,\n",
    "                    industry,\n",
    "                    picture_url,\n",
    "                    location,\n",
    "                    country,\n",
    "                    profile_request_url\n",
    "                    ])\n",
    "        \n",
    "with open('linkedin_connection_data.csv', 'wb') as csvfile:\n",
    "    writer = csv.writer(csvfile, delimiter=',',quotechar='\"', quoting=csv.QUOTE_ALL)\n",
    "    writer.writerow(['first_name', 'last_name', 'headline', 'industry', 'picture_url', 'location', 'country', 'profile_request_url'])\n",
    "    for r in pt._rows:\n",
    "        writer.writerow([unicode(s).encode(\"utf-8\") for s in r])\n",
    "\n",
    "# So we know that the CSV file was indeed created\n",
    "print(\"CSV creation complete\")"
   ]
  },
  {
   "cell_type": "code",
   "execution_count": null,
   "metadata": {
    "collapsed": false
   },
   "outputs": [],
   "source": []
  }
 ],
 "metadata": {
  "kernelspec": {
   "display_name": "Python 2",
   "language": "python",
   "name": "python2"
  },
  "language_info": {
   "codemirror_mode": {
    "name": "ipython",
    "version": 2
   },
   "file_extension": ".py",
   "mimetype": "text/x-python",
   "name": "python",
   "nbconvert_exporter": "python",
   "pygments_lexer": "ipython2",
   "version": "2.7.9"
  }
 },
 "nbformat": 4,
 "nbformat_minor": 0
}
