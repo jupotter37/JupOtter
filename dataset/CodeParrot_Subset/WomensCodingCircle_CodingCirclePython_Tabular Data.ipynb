{
 "cells": [
  {
   "cell_type": "markdown",
   "metadata": {},
   "source": [
    "# Using Tabular Data in Python\n",
    "\n",
    "## csv module\n",
    "\n",
    "Python has a csv reader/writer as part of its built in library. It is called `csv`. This is the simplest way to read tabular data (data in table format). The type of data you used to use excel to process (hopefully you will try out python now). It must be in text format to use the `csv` module, so .csv (comma separated) or .tsv (tab separated)\n",
    "Here is the documentation: https://docs.python.org/2/library/csv.html\n",
    "\n",
    "To use it, first you must import it\n",
    "\n",
    "    import csv"
   ]
  },
  {
   "cell_type": "code",
   "execution_count": null,
   "metadata": {
    "collapsed": true
   },
   "outputs": [],
   "source": [
    "import csv"
   ]
  },
  {
   "cell_type": "markdown",
   "metadata": {},
   "source": [
    "Next we create a csv reader. You give it a file handle and optionally the dialect, the separator (usually commas or tabs), and the quote character.\n",
    "\n",
    "    with open(filename, 'r') as fh:\n",
    "        reader = csv.reader(fh, delimiter='\\t', quotechar='\"')"
   ]
  },
  {
   "cell_type": "code",
   "execution_count": null,
   "metadata": {},
   "outputs": [],
   "source": [
    "with open('walks.csv', 'r') as fh:\n",
    "    reader = csv.reader(fh, delimiter=',')"
   ]
  },
  {
   "cell_type": "markdown",
   "metadata": {
    "collapsed": true
   },
   "source": [
    "The reader doesn't do anything yet. It is a generator that allows you to loop through the data (it is very similar to a file handle).\n",
    "\n",
    "To loop through the data you just write a simple for loop\n",
    "\n",
    "    for row in reader:\n",
    "        #process row\n",
    "\n",
    "The each row will be a list with each element corresponding to a single column."
   ]
  },
  {
   "cell_type": "code",
   "execution_count": null,
   "metadata": {},
   "outputs": [],
   "source": [
    "with open('walks.csv', 'r') as fh:\n",
    "    reader = csv.reader(fh, delimiter=',')\n",
    "    for row in reader:\n",
    "        print(row)        "
   ]
  },
  {
   "cell_type": "markdown",
   "metadata": {},
   "source": [
    "### TRY IT\n",
    "Open up the file `workout.txt` (tab delimited, tab='\\t') with the csv reader and print out each row."
   ]
  },
  {
   "cell_type": "code",
   "execution_count": null,
   "metadata": {
    "collapsed": true
   },
   "outputs": [],
   "source": []
  },
  {
   "cell_type": "markdown",
   "metadata": {},
   "source": [
    "Doesn't that look nice?\n",
    "\n",
    "Well there are a few problems that I can see. First the header, how do we deal with that?\n",
    "\n",
    "\n",
    "### Headers\n",
    "The easiest way I have found is to use the next method (that is available with any generator) before the for loop and to store that in a header variable. That reads the first line and stores it (so that you can use it later) and then advances the pointer to the next line so when you run the for loop it is only on the data.\n",
    "\n",
    "    header = reader.next()\n",
    "    for row in reader:\n",
    "        #process data\n",
    "\n"
   ]
  },
  {
   "cell_type": "code",
   "execution_count": null,
   "metadata": {},
   "outputs": [],
   "source": [
    "with open('walks.csv', 'r') as fh:\n",
    "    reader = csv.reader(fh, delimiter=',')\n",
    "    header = next(reader)\n",
    "    for row in reader:\n",
    "        print(row)  \n",
    "    print(\"Header\", header)"
   ]
  },
  {
   "cell_type": "markdown",
   "metadata": {},
   "source": [
    "### Values are Strings\n",
    "\n",
    "Notice that each item is a string. You'll need to remember that and convert things that actually should be numbers using the `float()` or `int()` functions."
   ]
  },
  {
   "cell_type": "code",
   "execution_count": null,
   "metadata": {},
   "outputs": [],
   "source": [
    "with open('walks.csv', 'r') as fh:\n",
    "    reader = csv.reader(fh, delimiter=',')\n",
    "    header = next(reader)\n",
    "    for row in reader:\n",
    "        float_row = [float(row[0]), float(row[1])]\n",
    "        print(float_row)  "
   ]
  },
  {
   "cell_type": "markdown",
   "metadata": {},
   "source": [
    "### TRY IT\n",
    "Open workouts with a csv reader. Save the header line to a variable called header. Convert each value in the data rows to ints and print them out."
   ]
  },
  {
   "cell_type": "code",
   "execution_count": null,
   "metadata": {
    "collapsed": true
   },
   "outputs": [],
   "source": []
  },
  {
   "cell_type": "markdown",
   "metadata": {},
   "source": [
    "### Analyzing our data\n",
    "\n",
    "You can use just about everything we have learned up until this point to analyze your data: if statements, regexs, math, data structures. Let's look at some examples."
   ]
  },
  {
   "cell_type": "code",
   "execution_count": null,
   "metadata": {},
   "outputs": [],
   "source": [
    "# Let's find the average distance for all walks. \n",
    "\n",
    "with open('walks.csv', 'r') as fh:\n",
    "    reader = csv.reader(fh, delimiter=',')\n",
    "    header = next(reader)\n",
    "    # Empty list for storing all distances\n",
    "    walks = []\n",
    "    for row in reader:\n",
    "        #distance is in the first column\n",
    "        dist = row[0]\n",
    "        # Convert to float so we can do math\n",
    "        dist = float(dist)\n",
    "        # Append to our list\n",
    "        walks.append(dist)\n",
    "    \n",
    "    # Use list aggregation methods to get average distance\n",
    "    ave_dist = sum(walks) / len(walks)\n",
    "    print(\"Average distance walked: {0:.1f}\".format(ave_dist))"
   ]
  },
  {
   "cell_type": "code",
   "execution_count": null,
   "metadata": {},
   "outputs": [],
   "source": [
    "# Let's see our pace for each walk\n",
    "with open('walks.csv', 'r') as fh:\n",
    "    reader = csv.reader(fh, delimiter=',')\n",
    "    header = next(reader)\n",
    "    for row in reader:\n",
    "        #distance is in the first column\n",
    "        dist = row[0]\n",
    "        # Convert to float so we can do math\n",
    "        dist = float(dist)\n",
    "        #time in minutes is in the second column\n",
    "        time_minutes = row[1]\n",
    "        # Convert to float so we can do math\n",
    "        time_minutes = float(time_minutes)\n",
    "        # calculate pace as minutes / kilometer\n",
    "        pace = time_minutes /dist\n",
    "        print(\"Pace: {0:.1f} min/km\".format(pace))\n",
    "        \n",
    "# If you want a challenge, try to make this seconds/mile"
   ]
  },
  {
   "cell_type": "code",
   "execution_count": null,
   "metadata": {},
   "outputs": [],
   "source": [
    "# We can filter data. Let's get the ave pace only for walks longer than\n",
    "# 3 km\n",
    "\n",
    "# Let's see our pace for each walk\n",
    "with open('walks.csv', 'r') as fh:\n",
    "    reader = csv.reader(fh, delimiter=',')\n",
    "    header = next(reader)\n",
    "    paces = []\n",
    "    for row in reader:\n",
    "        #distance is in the first column\n",
    "        dist = row[0]\n",
    "        # Convert to float so we can do math\n",
    "        dist = float(dist)\n",
    "        # Don't count short walks\n",
    "        if dist >= 3.0:\n",
    "            #time in minutes is in the second column\n",
    "            time_minutes = row[1]\n",
    "            # Convert to float so we can do math\n",
    "            time_minutes = float(time_minutes)\n",
    "            pace = time_minutes /dist\n",
    "            paces.append(pace)\n",
    "            \n",
    "ave_pace = sum(paces) / len(paces)\n",
    "print(\"Average walking pace: {0:.1f} min/km\".format(ave_pace))"
   ]
  },
  {
   "cell_type": "markdown",
   "metadata": {},
   "source": [
    "Here is something I do all the time. It is a little more complicated than the above examples, so take your time trying to understand it. What I like to do is to read the csv data and transform it to a dictionary of lists. This allows me to use it in many different ways later in the code. It is most useful with larger dataset that I will be analyzing and using many different times. (You can even print it out as JSON!)\n"
   ]
  },
  {
   "cell_type": "code",
   "execution_count": null,
   "metadata": {},
   "outputs": [],
   "source": [
    "# Lets see our pace for each walk\n",
    "with open('walks.csv', 'r') as fh:\n",
    "    reader = csv.reader(fh, delimiter=',')\n",
    "    header = next(reader)\n",
    "    # This is the dictionary we will put our data from the csv into\n",
    "    # The key's are the column headers and the values is a list of\n",
    "    # all the data in that column (transformed into floats)\n",
    "    data = {}\n",
    "    # Initialize our dictionary with keys from header and values\n",
    "    # as empty lists\n",
    "    for column in header:\n",
    "        data[column] = []\n",
    "    for row in reader:\n",
    "        # Enumerate give us the index and the value so \n",
    "        # we don't have to use a count variable\n",
    "        for index, column in enumerate(header):\n",
    "            # convert data point to float\n",
    "            data_point = float(row[index])\n",
    "            # append data to dictionary's list for that column\n",
    "            data[column].append(data_point)\n",
    "    # look at that beautiful data. You can do anything with that!\n",
    "    print(data)\n",
    "        "
   ]
  },
  {
   "cell_type": "markdown",
   "metadata": {},
   "source": [
    "### TRY IT\n",
    "Find the average number of squats done from the `workouts.txt` file. Feel free to copy the code for opening from the previous TRY IT."
   ]
  },
  {
   "cell_type": "code",
   "execution_count": null,
   "metadata": {
    "collapsed": true
   },
   "outputs": [],
   "source": []
  },
  {
   "cell_type": "markdown",
   "metadata": {},
   "source": [
    "## Writing CSVs\n",
    "\n",
    "The `csv` module also contains code for writing csvs.\n",
    "\n",
    "To write, you create a writer using the `writer` method and give it a filehandle and optionally delimiter and quotechar.\n",
    "    \n",
    "    with open('my_file.csv', 'w') as fh:\n",
    "        writer = csv.writer(fh, delimiter=',', quotechar='\"')\n",
    "\n",
    "Then use the writerow method with a list to write as it's argument.\n",
    "\n",
    "    writer.writerow([item1, item2])"
   ]
  },
  {
   "cell_type": "code",
   "execution_count": null,
   "metadata": {},
   "outputs": [],
   "source": [
    "import random\n",
    "with open('sleep.csv', 'w') as fh:\n",
    "    writer = csv.writer(fh, delimiter='\\t', quotechar='\"')\n",
    "    header = ['day', 'sleep (hr)']\n",
    "    writer.writerow(header)\n",
    "    for i in range(1,11):\n",
    "        hr_sleep = random.randint(4,10)\n",
    "        writer.writerow([i, hr_sleep])\n",
    "        \n",
    "#open the file to prove you wrote it. (Open in excel for best results)"
   ]
  },
  {
   "cell_type": "markdown",
   "metadata": {},
   "source": [
    "### TRY IT\n",
    "Write the following data to a file called age_walking_pace.csv:\n",
    "\n",
    "    age | pace\n",
    "    ----------\n",
    "    5   | 12.5\n",
    "    15  | 9.4\n",
    "    18  | 7.8\n",
    "    25  | 8.1\n",
    "    48  | 9.2\n",
    "    91  | 105.1\n",
    "    \n",
    "Separator is comma, quote char is \""
   ]
  },
  {
   "cell_type": "code",
   "execution_count": null,
   "metadata": {
    "collapsed": true
   },
   "outputs": [],
   "source": []
  },
  {
   "cell_type": "markdown",
   "metadata": {},
   "source": [
    "# Project\n",
    "\n",
    "The file `fiveK.csv` contains data from the top 100 female finishers for the Firecracer 5k held in Reston on the 4th of July 2016 http://www.prraces.com/firecracker/\n",
    "\n",
    "1. Look at the data. \n",
    "2. Then use your csv reading skills to read in the data using the csv reader.\n",
    "3. Parse out the header and store in a variable called header.\n",
    "4. Choose one of the following to calculate\n",
    "    - Easy: Calculate the pace for each runner and print it out.\n",
    "    - Medium Easy: Calculate the average time of all runners\n",
    "    - Medium: Calculate the average pace for those under 40 and those over 40\n",
    "    - Medium Hard: Calculate the average time for those from VA vs. those who traveled to attend the race\n",
    "    - Hard: Did people who registered early have faster times than those who registered late? Calculate the average time for the registration number in 500 increment chunks. i.e. Ave pace for registration number 1-500, 501-1000, etc.\n",
    "    - Hardest: Do people who put their city in all caps do better or worse than those who put their city in mixed case or lower case. (HINT: use regexs)\n",
    "5. If you picked medium or above. Print out the category and the result into a csv called `results.csv`\n"
   ]
  },
  {
   "cell_type": "code",
   "execution_count": null,
   "metadata": {
    "collapsed": true
   },
   "outputs": [],
   "source": []
  }
 ],
 "metadata": {
  "kernelspec": {
   "display_name": "Python 3",
   "language": "python",
   "name": "python3"
  },
  "language_info": {
   "codemirror_mode": {
    "name": "ipython",
    "version": 3
   },
   "file_extension": ".py",
   "mimetype": "text/x-python",
   "name": "python",
   "nbconvert_exporter": "python",
   "pygments_lexer": "ipython3",
   "version": "3.6.1"
  }
 },
 "nbformat": 4,
 "nbformat_minor": 1
}
