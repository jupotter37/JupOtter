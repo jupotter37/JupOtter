{
 "cells": [
  {
   "cell_type": "markdown",
   "metadata": {},
   "source": [
    "# Homework 1"
   ]
  },
  {
   "cell_type": "markdown",
   "metadata": {},
   "source": [
    "The goal of this homework is to ensure you have a __decent understanding of Python__ AND __know how to read and interpret documentation__. Please make heavy use of Google, [StackOverflow](http://stackoverflow.com/questions/tagged/python), the [Python 3 Documentation](https://docs.python.org/3.5/), and of course the `help` function.\n",
    "\n",
    "Each problem has an associated test via the `assert` statement that will tell you if you implemented it properly.\n",
    "\n",
    "Feel free to use any previously functions for future problems (i.e. feel free to use a `square` function when implementing `square_and_add_one`)"
   ]
  },
  {
   "cell_type": "markdown",
   "metadata": {},
   "source": [
    "## Run this First"
   ]
  },
  {
   "cell_type": "markdown",
   "metadata": {},
   "source": [
    "This line import several useful modules into memory for later use."
   ]
  },
  {
   "cell_type": "code",
   "execution_count": 1,
   "metadata": {
    "collapsed": true
   },
   "outputs": [],
   "source": [
    "import os, sys, csv, json, math, random, collections, time, itertools, functools"
   ]
  },
  {
   "cell_type": "markdown",
   "metadata": {},
   "source": [
    "This line create a CSV (comma seperated file) called `hw1data.csv` in the current working directory."
   ]
  },
  {
   "cell_type": "code",
   "execution_count": 2,
   "metadata": {
    "collapsed": false
   },
   "outputs": [
    {
     "name": "stdout",
     "output_type": "stream",
     "text": [
      "Overwriting hw1data.csv\n"
     ]
    }
   ],
   "source": [
    "%%file hw1data.csv\n",
    "id,sex,weight\n",
    "1,M,190\n",
    "2,F,120\n",
    "3,F,110\n",
    "4,M,150\n",
    "5,O,120\n",
    "6,M,120\n",
    "7,F,140"
   ]
  },
  {
   "cell_type": "markdown",
   "metadata": {},
   "source": [
    "## Basic"
   ]
  },
  {
   "cell_type": "code",
   "execution_count": 16,
   "metadata": {
    "collapsed": true
   },
   "outputs": [],
   "source": [
    "def double(x):\n",
    "    \"\"\"\n",
    "    double the value x\n",
    "    \"\"\"\n",
    "\n",
    "assert double(10) == 20"
   ]
  },
  {
   "cell_type": "code",
   "execution_count": 18,
   "metadata": {
    "collapsed": true
   },
   "outputs": [],
   "source": [
    "def apply_to_100(f):\n",
    "    \"\"\"\n",
    "    runs some abitrary function f on the value 100 and returns the output\n",
    "    \"\"\"\n",
    "\n",
    "assert(apply_to_100(double) == 200)"
   ]
  },
  {
   "cell_type": "code",
   "execution_count": 19,
   "metadata": {
    "collapsed": true
   },
   "outputs": [],
   "source": [
    "\"\"\"\n",
    "create a an anonymous function using lambda that takes some value x and adds 1 to x\n",
    "\"\"\"\n",
    "add_one = lambda x: x\n",
    "\n",
    "assert apply_to_100(add_one) == 101"
   ]
  },
  {
   "cell_type": "code",
   "execution_count": 29,
   "metadata": {
    "collapsed": false
   },
   "outputs": [],
   "source": [
    "def get_up_to_first_three_elements(l):\n",
    "    \"\"\"\n",
    "    get up to the first three elements in list l\n",
    "    \"\"\"\n",
    "    return \n",
    "\n",
    "assert get_up_to_first_three_elements([1,2,3,4]) == [1,2,3]\n",
    "assert get_up_to_first_three_elements([1,2]) == [1,2]\n",
    "assert get_up_to_first_three_elements([1]) == [1]\n",
    "assert get_up_to_first_three_elements([]) == []"
   ]
  },
  {
   "cell_type": "code",
   "execution_count": 60,
   "metadata": {
    "collapsed": false
   },
   "outputs": [],
   "source": [
    "def caesar_cipher(s, key):\n",
    "    \"\"\"\n",
    "    https://www.hackerrank.com/challenges/caesar-cipher-1\n",
    "    Given an unencrypted string s and an encryption key (an integer), compute the caesar cipher.\n",
    "    \n",
    "    Basically just shift each letter by the value of key. A becomes C if key = 2. This is case sensitive.\n",
    "    \n",
    "    What is a Caesar Cipher? https://en.wikipedia.org/wiki/Caesar_cipher\n",
    "    \n",
    "    Hint: ord function https://docs.python.org/2/library/functions.html#ord\n",
    "    Hint: chr function https://docs.python.org/2/library/functions.html#chr\n",
    "\n",
    "    print(ord('A'), ord('Z'), ord('a'), ord('z'))\n",
    "    print(chr(65), chr(90), chr(97), chr(122))\n",
    "    \"\"\"\n",
    "\n",
    "    new_s = []\n",
    "\n",
    "    for c in s:\n",
    "        if ord('A') <= ord(c) <= ord('Z'):\n",
    "            new_c = chr(ord('A') + (ord(c) - ord('A') + 2) % 26)\n",
    "            new_s.append(new_c)\n",
    "        elif ord('a') <= ord(c) <= ord('z'):\n",
    "            new_c = chr(ord('a') + (ord(c) - ord('a') + 2) % 26)\n",
    "            new_s.append(new_c)\n",
    "        else:\n",
    "            new_s.append(c)\n",
    "    \n",
    "    return \"\".join(new_s)\n",
    "\n",
    "assert caesar_cipher(\"middle-Outz\", 2) == \"okffng-Qwvb\""
   ]
  },
  {
   "cell_type": "markdown",
   "metadata": {},
   "source": [
    "## Working with Files"
   ]
  },
  {
   "cell_type": "code",
   "execution_count": 8,
   "metadata": {
    "collapsed": false
   },
   "outputs": [],
   "source": [
    "def create_list_of_lines_in_hw1data():\n",
    "    \"\"\"\n",
    "    Read each line of hw1data.csv into a list and return the list of lines.\n",
    "    Remove the newline character (\"\\n\") at the end of each line.\n",
    "    \n",
    "    What is a newline character? https://en.wikipedia.org/wiki/Newline\n",
    "    \n",
    "    Hint: Reading a File (https://docs.python.org/3/tutorial/inputoutput.html#methods-of-file-objects)\n",
    "    \"\"\"\n",
    "    with open(\"hw1data.csv\", \"r\") as f:\n",
    "        return [line.strip() for line in f]\n",
    "        # lines = f.read().splitlines() # alternative 1\n",
    "        # lines = [line.strip() for line in f.readlines()] # altenative 2\n",
    "\n",
    "assert create_list_of_lines_in_hw1data() == [\n",
    "        \"id,sex,weight\", \"1,M,190\", \"2,F,120\", \"3,F,110\",\n",
    "        \"4,M,150\", \"5,O,120\", \"6,M,120\", \"7,F,140\",\n",
    "    ]"
   ]
  },
  {
   "cell_type": "code",
   "execution_count": 9,
   "metadata": {
    "collapsed": true
   },
   "outputs": [],
   "source": [
    "def filter_to_lines_with_just_M():\n",
    "    \"\"\"\n",
    "    Read each line in like last time except filter down to only the rows with \"M\" in them.\n",
    "    \n",
    "    Hint: Filter using List Comprehensions (http://www.diveintopython.net/power_of_introspection/filtering_lists.html)\n",
    "    \"\"\"\n",
    "    lines = create_list_of_lines_in_hw1data()\n",
    "    return [line for line in lines ]\n",
    "\n",
    "assert filter_to_lines_with_just_M() == [\"1,M,190\", \"4,M,150\", \"6,M,120\"]"
   ]
  },
  {
   "cell_type": "code",
   "execution_count": null,
   "metadata": {
    "collapsed": true
   },
   "outputs": [],
   "source": [
    "def filter_to_lines_with_just_F():\n",
    "    \"\"\"\n",
    "    Read each line in like last time except filter down to only the rows with \"F\" in them.\n",
    "    \"\"\"\n",
    "    lines = create_list_of_lines_in_hw1data()\n",
    "    return [line for line in lines ]\n",
    "\n",
    "assert filter_to_lines_with_just_F() == [\"2,F,120\", \"3,F,110\", \"7,F,140\"]"
   ]
  },
  {
   "cell_type": "code",
   "execution_count": 10,
   "metadata": {
    "collapsed": true
   },
   "outputs": [],
   "source": [
    "def filter_to_lines_with_any_sex(sex):\n",
    "    \"\"\"\n",
    "    Read each line in like last time except filter down to only the rows with \"M\" in them.\n",
    "    \"\"\"\n",
    "    lines = create_list_of_lines_in_hw1data()\n",
    "    return [line for line in lines ]\n",
    "\n",
    "assert filter_to_lines_with_any_sex(\"O\") == [\"5,O,120\"]"
   ]
  },
  {
   "cell_type": "code",
   "execution_count": 11,
   "metadata": {
    "collapsed": true
   },
   "outputs": [],
   "source": [
    "def get_average_weight():\n",
    "    \"\"\"\n",
    "    This time instead of just reading the file, parse the csv using csv.reader.\n",
    "    \n",
    "    get the average weight of all people rounded to the hundredth place\n",
    "    \n",
    "    Hint: https://docs.python.org/3/library/csv.html#csv.reader\n",
    "    \"\"\"\n",
    "    weights = []\n",
    "    with open(\"hw1data.csv\", \"r\") as f:\n",
    "        reader = csv.reader(f)\n",
    "        next(reader)\n",
    "        for row in reader:\n",
    "            print(int(row[2]))\n",
    "        return round(avg_weight, 2)\n",
    "\n",
    "assert get_average_weight() == 135.71"
   ]
  },
  {
   "cell_type": "code",
   "execution_count": 15,
   "metadata": {
    "collapsed": false
   },
   "outputs": [],
   "source": [
    "def create_list_of_dicts_in_hw1data():\n",
    "    \"\"\"\n",
    "    create list of dicts for each line in the hw1data (except the header)\n",
    "    \"\"\"\n",
    "    with open(\"hw1data.csv\", \"r\") as f:\n",
    "        return []\n",
    "\n",
    "assert create_list_of_dicts_in_hw1data() == [\n",
    "        {\"id\": \"1\", \"sex\": \"M\", \"weight\": \"190\"},\n",
    "        {\"id\": \"2\", \"sex\": \"F\", \"weight\": \"120\"},\n",
    "        {\"id\": \"3\", \"sex\": \"F\", \"weight\": \"110\"},\n",
    "        {\"id\": \"4\", \"sex\": \"M\", \"weight\": \"150\"},\n",
    "        {\"id\": \"5\", \"sex\": \"O\", \"weight\": \"120\"},\n",
    "        {\"id\": \"6\", \"sex\": \"M\", \"weight\": \"120\"},\n",
    "        {\"id\": \"7\", \"sex\": \"F\", \"weight\": \"140\"}\n",
    "    ]"
   ]
  },
  {
   "cell_type": "markdown",
   "metadata": {},
   "source": [
    "## Project Euler"
   ]
  },
  {
   "cell_type": "code",
   "execution_count": 4,
   "metadata": {
    "collapsed": false
   },
   "outputs": [],
   "source": [
    "def sum_of_multiples_of_three_and_five_below_1000():\n",
    "    \"\"\"\n",
    "    https://projecteuler.net/problem=1\n",
    "    If we list all the natural numbers below 10 that are multiples of 3 or 5, we get 3, 5, 6 and 9.\n",
    "    The sum of these multiples is 23.\n",
    "    Find the sum of all the multiples of 3 or 5 below 1000.\n",
    "\n",
    "    Hint: Modulo Operator (https://docs.python.org/3/reference/expressions.html#binary-arithmetic-operations)\n",
    "    Hint: List Comprehension (https://docs.python.org/3/tutorial/datastructures.html#list-comprehensions)\n",
    "    Hint: Range Function (https://docs.python.org/3/library/functions.html#func-range)\n",
    "    \"\"\"\n",
    "    return \n",
    "\n",
    "\n",
    "def sum_of_even_fibonacci_under_4million():\n",
    "    \"\"\"\n",
    "    https://projecteuler.net/problem=2\n",
    "    Each new term in the Fibonacci sequence is generated by adding the previous two terms.\n",
    "    By starting with 1 and 2, the first 10 terms will be:\n",
    "    1, 2, 3, 5, 8, 13, 21, 34, 55, 89, ...\n",
    "    By considering the terms in the Fibonacci sequence whose values do not exceed four million,\n",
    "    find the sum of the even-valued terms.\n",
    "    \n",
    "    Hint: While Loops (http://learnpythonthehardway.org/book/ex33.html)\n",
    "    \"\"\"\n",
    "    the_sum = 0\n",
    "    a, b = 1, 2\n",
    "    while b < 4000000:\n",
    "        \n",
    "    return the_sum\n",
    "\n",
    "def test_all():\n",
    "    assert sum_of_multiples_of_three_and_five_below_1000() == 233168\n",
    "    assert sum_of_even_fibonacci_under_4million() == 4613732\n",
    "    \n",
    "test_all()"
   ]
  },
  {
   "cell_type": "markdown",
   "metadata": {},
   "source": [
    "## Strings"
   ]
  },
  {
   "cell_type": "code",
   "execution_count": 5,
   "metadata": {
    "collapsed": false
   },
   "outputs": [],
   "source": [
    "from collections import Counter\n",
    "\n",
    "def remove_punctuation(s):\n",
    "    \"\"\"remove periods, commas, and semicolons\n",
    "    \"\"\"\n",
    "    return s.replace()\n",
    "\n",
    "def tokenize(s):\n",
    "    \"\"\"return a list of lowercased tokens (words) in a string without punctuation\n",
    "    \"\"\"\n",
    "    return remove_punctuation(s.lower())\n",
    "\n",
    "def word_count(s):\n",
    "    \"\"\"count the number of times each word (lowercased) appears and return a dictionary\n",
    "    \"\"\"\n",
    "    return Counter(words)\n",
    "\n",
    "def test_all():\n",
    "    test_string1 = \"A quick brown Al, jumps over the lazy dog; sometimes...\"\n",
    "    test_string2 = \"This this is a sentence sentence with words multiple multiple times.\"\n",
    "    \n",
    "    # ---------------------------------------------------------------------------------- #\n",
    "    \n",
    "    test_punctuation1 = \"A quick brown Al jumps over the lazy dog sometimes\"\n",
    "    test_punctuation2 = \"This this is a sentence sentence with words multiple multiple times\"\n",
    "    \n",
    "    assert remove_punctuation(test_string1) == test_punctuation1\n",
    "    assert remove_punctuation(test_string2) == test_punctuation2\n",
    "   \n",
    "    # ---------------------------------------------------------------------------------- #\n",
    "    \n",
    "    test_tokens1 = [\"a\", \"quick\", \"brown\", \"al\", \"jumps\", \"over\", \"the\", \"lazy\", \"dog\", \"sometimes\"]\n",
    "    test_tokens2 = [\n",
    "        \"this\", \"this\", \"is\", \"a\", \"sentence\", \"sentence\", \"with\", \"words\", \"multiple\", \"multiple\", \"times\"\n",
    "    ]\n",
    "\n",
    "    assert tokenize(test_string1) == test_tokens1\n",
    "    assert tokenize(test_string2) == test_tokens2\n",
    "\n",
    "    # ---------------------------------------------------------------------------------- #\n",
    "\n",
    "    test_wordcount1 = {\n",
    "        \"a\": 1, \"quick\": 1, \"brown\": 1, \"al\": 1, \"jumps\": 1, \"over\": 1, \"the\": 1, \"lazy\": 1, \"dog\": 1, \"sometimes\": 1\n",
    "    }\n",
    "    test_wordcount2 = {\"this\": 2, \"is\": 1, \"a\": 1, \"sentence\": 2, \"with\": 1, \"words\": 1, \"multiple\": 2, \"times\": 1}\n",
    "    \n",
    "    assert word_count(test_string1) == test_wordcount1\n",
    "    assert word_count(test_string2) == test_wordcount2\n",
    "\n",
    "test_all()"
   ]
  },
  {
   "cell_type": "markdown",
   "metadata": {},
   "source": [
    "## Linear Algebra"
   ]
  },
  {
   "cell_type": "markdown",
   "metadata": {},
   "source": [
    "Please find the following empty functions and write the code to complete the logic.\n",
    "These functions are focused around implementing vector algebra operations. The vectors can be of any length. If a function accepts two vectors, assume they are the same length.\n",
    "Khan Academy has a decent introduction:\n",
    "[https://www.khanacademy.org/math/linear-algebra/vectors_and_spaces/vectors/v/vector-introduction-linear-algebra]"
   ]
  },
  {
   "cell_type": "code",
   "execution_count": 69,
   "metadata": {
    "collapsed": false
   },
   "outputs": [
    {
     "name": "stdout",
     "output_type": "stream",
     "text": [
      "Vector Add [4, 5, 1] [9, 8, 1] [13, 13, 2]\n",
      "Vector Subtract [4, 5, 1] [9, 8, 1] [-5, -3, 0]\n",
      "Vector Sum [[1, 2], [4, 5], [8, 3]] [13, 10]\n",
      "Scalar Multiply 3 [9, 8, 1] [27, 24, 3]\n",
      "Dot [4, 5, 1] [9, 8, 1] 77\n",
      "Sum of Squares [4, 5, 1] 42\n",
      "Magnitude [4, 5, 1] 6.48074069840786\n",
      "Distance [4, 5, 1] [9, 8, 1] 5.830951894845301\n",
      "Cross Product [[36, 32, 4], [45, 40, 5], [9, 8, 1]]\n"
     ]
    }
   ],
   "source": [
    "def vector_add(v, w):\n",
    "    \"\"\"adds two vectors componentwise and returns the result\n",
    "        hint: use zip()\n",
    "        v + w = [4, 5, 1] + [9, 8, 1] = [13, 13, 2]\n",
    "    \"\"\"\n",
    "    return []\n",
    "\n",
    "def vector_subtract(v, w):\n",
    "    \"\"\"subtracts two vectors componentwise and returns the result\n",
    "        hint use zip()\n",
    "        v + w = [4, 5, 1] - [9, 8, 1] = [-5, -3, 0]\n",
    "    \"\"\"\n",
    "    return []\n",
    "\n",
    "def vector_sum(vectors):\n",
    "    \"\"\"sums a list of vectors or arbitrary length and returns the resulting vector\n",
    "    [[1,2], [4,5], [8,3]] = [13,10]\n",
    "    \"\"\"\n",
    "    v_copy = list(vectors)\n",
    "    result = v_copy.pop()\n",
    "    for v in v_copy:\n",
    "        result = \n",
    "    return result\n",
    "\n",
    "def scalar_multiply(c, v):\n",
    "    \"\"\"returns a vector where components are multplied by c\"\"\"\n",
    "    return []\n",
    "\n",
    "def dot(v, w):\n",
    "    \"\"\"dot product v.w\n",
    "    v_1 * w_1 + ... + v_n * w_n\"\"\"\n",
    "    return sum()\n",
    "\n",
    "def sum_of_squares(v):\n",
    "    \"\"\" v.v square each component and sum them\n",
    "    v_1 * v_1 + ... + v_n * v_n\"\"\"\n",
    "    return \n",
    "\n",
    "def magnitude(v):\n",
    "    \"\"\"the Norm of a vector, the sqrt of the sum of the squares of the components\"\"\"\n",
    "    return math.sqrt()\n",
    "\n",
    "def distance(v, w):\n",
    "    \"\"\" the distance of v to w\"\"\"\n",
    "    return \n",
    "\n",
    "def cross_product(v, w): # or outer_product(v, w)\n",
    "    \"\"\"Bonus:\n",
    "    The outer/cross product of v and w\"\"\"\n",
    "    for i in v:\n",
    "        yield scalar_multiply(i, w)\n",
    "\n",
    "def test_all():\n",
    "    test_v = [4, 5, 1] \n",
    "    test_w = [9, 8, 1] \n",
    "    list_v = [[1,2], [4,5], [8,3]]\n",
    "    \n",
    "    print(\"Vector Add\", test_v, test_w, vector_add(test_v, test_w))\n",
    "    print(\"Vector Subtract\", test_v, test_w, vector_subtract(test_v, test_w))\n",
    "    print(\"Vector Sum\", list_v, vector_sum(list_v))\n",
    "    print(\"Scalar Multiply\", 3, test_w, scalar_multiply(3, test_w))\n",
    "    print(\"Dot\", test_v, test_w, dot(test_v, test_w))\n",
    "    print(\"Sum of Squares\", test_v, sum_of_squares(test_v))\n",
    "    print(\"Magnitude\", test_v, magnitude(test_v))\n",
    "    print(\"Distance\", test_v, test_w, distance(test_v, test_w))\n",
    "    print(\"Cross Product\", list(cross_product(test_v, test_w)))\n",
    "\n",
    "    assert vector_add(test_v, test_w) == [13, 13, 2]\n",
    "    assert vector_subtract(test_v, test_w) == [-5, -3, 0]\n",
    "    assert vector_sum(list_v) == [13,10] \n",
    "    assert scalar_multiply(3, test_w) == [27, 24, 3]\n",
    "    assert dot(test_v, test_w) == 77\n",
    "    assert sum_of_squares(test_v) == 42\n",
    "    assert magnitude(test_v) == 6.48074069840786\n",
    "    assert distance(test_v, test_w) == 5.830951894845301\n",
    "    assert list(cross_product(test_v, test_w)) == [[36, 32, 4], [45, 40, 5], [9, 8, 1]]\n",
    "\n",
    "test_all()"
   ]
  }
 ],
 "metadata": {
  "kernelspec": {
   "display_name": "Python 3",
   "language": "python",
   "name": "python3"
  },
  "language_info": {
   "codemirror_mode": {
    "name": "ipython",
    "version": 3
   },
   "file_extension": ".py",
   "mimetype": "text/x-python",
   "name": "python",
   "nbconvert_exporter": "python",
   "pygments_lexer": "ipython3",
   "version": "3.5.0"
  }
 },
 "nbformat": 4,
 "nbformat_minor": 0
}
