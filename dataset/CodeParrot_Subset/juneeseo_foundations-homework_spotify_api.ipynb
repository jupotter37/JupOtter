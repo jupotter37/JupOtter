{
 "cells": [
  {
   "cell_type": "code",
   "execution_count": 1,
   "metadata": {
    "collapsed": false
   },
   "outputs": [],
   "source": [
    "import requests\n",
    "response = requests.get('https://api.spotify.com/v1/search?query=lil&type=artist&country=US&limit=50')\n",
    "data = response.json()\n",
    "# data['artists'].keys()\n",
    "# data['artists']['items'][0]"
   ]
  },
  {
   "cell_type": "code",
   "execution_count": 2,
   "metadata": {
    "collapsed": false
   },
   "outputs": [
    {
     "data": {
      "text/plain": [
       "{'external_urls': {'spotify': 'https://open.spotify.com/artist/55Aa2cqylxrFIXC767Z865'},\n",
       " 'followers': {'href': None, 'total': 2623924},\n",
       " 'genres': ['dirty south rap', 'pop rap', 'southern hip hop', 'trap music'],\n",
       " 'href': 'https://api.spotify.com/v1/artists/55Aa2cqylxrFIXC767Z865',\n",
       " 'id': '55Aa2cqylxrFIXC767Z865',\n",
       " 'images': [{'height': 1239,\n",
       "   'url': 'https://i.scdn.co/image/cf012139c3b8681b46a66bae70558a8a336ab231',\n",
       "   'width': 1000},\n",
       "  {'height': 793,\n",
       "   'url': 'https://i.scdn.co/image/fffd48d60e27901f6e9ce99423f045cb2b893944',\n",
       "   'width': 640},\n",
       "  {'height': 248,\n",
       "   'url': 'https://i.scdn.co/image/bf03141629c202e94b206f1374a39326a9d8c6ca',\n",
       "   'width': 200},\n",
       "  {'height': 79,\n",
       "   'url': 'https://i.scdn.co/image/521f99f2469883b8806a69a3a2487fdd983bd621',\n",
       "   'width': 64}],\n",
       " 'name': 'Lil Wayne',\n",
       " 'popularity': 86,\n",
       " 'type': 'artist',\n",
       " 'uri': 'spotify:artist:55Aa2cqylxrFIXC767Z865'}"
      ]
     },
     "execution_count": 2,
     "metadata": {},
     "output_type": "execute_result"
    }
   ],
   "source": [
    "data['artists']['items'][0]"
   ]
  },
  {
   "cell_type": "code",
   "execution_count": 3,
   "metadata": {
    "collapsed": false
   },
   "outputs": [
    {
     "name": "stdout",
     "output_type": "stream",
     "text": [
      "Lil Wayne 86\n",
      "Lil Yachty 72\n",
      "Lil Uzi Vert 72\n",
      "Lil Dicky 68\n",
      "Boosie Badazz 67\n",
      "Lil Jon 72\n",
      "King Lil G 61\n",
      "Lil Durk 60\n",
      "Lil Jon & The East Side Boyz 60\n",
      "Lil Bibby 54\n",
      "G Herbo 53\n",
      "Lil Rob 50\n",
      "Lil Reese 50\n",
      "Lil Keke 48\n",
      "Bow Wow 57\n",
      "Lil Scrappy 48\n",
      "Lil Wyte 50\n",
      "Lil Blood 45\n",
      "Lil Snupe 45\n",
      "Lil Mama 45\n",
      "Lil B 44\n",
      "Lil' Kim 62\n",
      "Lil Cuete 40\n",
      "Lil Phat 39\n",
      "Lil Debbie 43\n",
      "Lil Twist 39\n",
      "Lil Trill 37\n",
      "Lil Twon 38\n",
      "Lil AJ 37\n",
      "Lil Lonnie 37\n",
      "Lil Boom 35\n",
      "Lil Goofy 35\n",
      "Mr. Lil One 36\n",
      "Lil Haiti 36\n",
      "Lil Flash 38\n",
      "Lil Kesh 39\n",
      "Lil Cray 35\n",
      "Lil Silva 43\n",
      "Lil Rue 34\n",
      "Lil Eddie 41\n",
      "Lil Yase 33\n",
      "Lil Wayne, DJ Drama 35\n",
      "Lil Suzy 34\n",
      "Lil Mouse 34\n",
      "Lil C 33\n",
      "Lil Rick 39\n",
      "Lil June 32\n",
      "Lil E 34\n",
      "Lil Fate 34\n",
      "Lil' Flip 49\n"
     ]
    }
   ],
   "source": [
    "#1 50 Lils and their popularity\n",
    "\n",
    "items = data['artists']['items']\n",
    "for item in items:\n",
    "    print (item['name'], item['popularity'])"
   ]
  },
  {
   "cell_type": "markdown",
   "metadata": {},
   "source": [
    "2) What genres are most represented in the search results? Edit your previous printout to also display a list of their genres in the format \"GENRE_1, GENRE_2, GENRE_3\". If there are no genres, print \"No genres listed\".\n",
    "Tip: \"how to join a list Python\" might be a helpful search"
   ]
  },
  {
   "cell_type": "code",
   "execution_count": 5,
   "metadata": {
    "collapsed": false
   },
   "outputs": [
    {
     "name": "stdout",
     "output_type": "stream",
     "text": [
      "dirty south rap,pop rap,southern hip hop,trap music\n",
      "No genres listed\n",
      "No genres listed\n",
      "No genres listed\n",
      "No genres listed\n",
      "crunk,dirty south rap,southern hip hop\n",
      "No genres listed\n",
      "No genres listed\n",
      "No genres listed\n",
      "No genres listed\n",
      "No genres listed\n",
      "chicano rap,latin hip hop\n",
      "No genres listed\n",
      "No genres listed\n",
      "hip pop,pop rap\n",
      "crunk,dirty south rap,southern hip hop,trap music\n",
      "juggalo\n",
      "No genres listed\n",
      "No genres listed\n",
      "hip pop\n",
      "No genres listed\n",
      "hip pop\n",
      "chicano rap\n",
      "No genres listed\n",
      "No genres listed\n",
      "jerk\n",
      "deep trap\n",
      "No genres listed\n",
      "No genres listed\n",
      "No genres listed\n",
      "No genres listed\n",
      "No genres listed\n",
      "chicano rap\n",
      "No genres listed\n",
      "No genres listed\n",
      "No genres listed\n",
      "No genres listed\n",
      "No genres listed\n",
      "No genres listed\n",
      "No genres listed\n",
      "No genres listed\n",
      "No genres listed\n",
      "freestyle\n",
      "No genres listed\n",
      "No genres listed\n",
      "soca\n",
      "No genres listed\n",
      "No genres listed\n",
      "No genres listed\n",
      "crunk,dirty south rap\n"
     ]
    }
   ],
   "source": [
    "\n",
    "items = data['artists']['items']\n",
    "for item in items:\n",
    "    if len(item['genres'])==0:\n",
    "        print(\"No genres listed\")\n",
    "    else:\n",
    "        print(','.join(item['genres']))\n"
   ]
  },
  {
   "cell_type": "code",
   "execution_count": 8,
   "metadata": {
    "collapsed": false
   },
   "outputs": [
    {
     "name": "stdout",
     "output_type": "stream",
     "text": [
      "All genres so far:  []\n",
      "Current artist has:  ['dirty south rap', 'pop rap', 'southern hip hop', 'trap music']\n",
      "All genres so far:  ['dirty south rap', 'pop rap', 'southern hip hop', 'trap music']\n",
      "Current artist has:  []\n",
      "All genres so far:  ['dirty south rap', 'pop rap', 'southern hip hop', 'trap music']\n",
      "Current artist has:  []\n",
      "All genres so far:  ['dirty south rap', 'pop rap', 'southern hip hop', 'trap music']\n",
      "Current artist has:  []\n",
      "All genres so far:  ['dirty south rap', 'pop rap', 'southern hip hop', 'trap music']\n",
      "Current artist has:  []\n",
      "All genres so far:  ['dirty south rap', 'pop rap', 'southern hip hop', 'trap music']\n",
      "Current artist has:  ['crunk', 'dirty south rap', 'southern hip hop']\n",
      "All genres so far:  ['dirty south rap', 'pop rap', 'southern hip hop', 'trap music', 'crunk', 'dirty south rap', 'southern hip hop']\n",
      "Current artist has:  []\n",
      "All genres so far:  ['dirty south rap', 'pop rap', 'southern hip hop', 'trap music', 'crunk', 'dirty south rap', 'southern hip hop']\n",
      "Current artist has:  []\n",
      "All genres so far:  ['dirty south rap', 'pop rap', 'southern hip hop', 'trap music', 'crunk', 'dirty south rap', 'southern hip hop']\n",
      "Current artist has:  []\n",
      "All genres so far:  ['dirty south rap', 'pop rap', 'southern hip hop', 'trap music', 'crunk', 'dirty south rap', 'southern hip hop']\n",
      "Current artist has:  []\n",
      "All genres so far:  ['dirty south rap', 'pop rap', 'southern hip hop', 'trap music', 'crunk', 'dirty south rap', 'southern hip hop']\n",
      "Current artist has:  []\n",
      "All genres so far:  ['dirty south rap', 'pop rap', 'southern hip hop', 'trap music', 'crunk', 'dirty south rap', 'southern hip hop']\n",
      "Current artist has:  ['chicano rap', 'latin hip hop']\n",
      "All genres so far:  ['dirty south rap', 'pop rap', 'southern hip hop', 'trap music', 'crunk', 'dirty south rap', 'southern hip hop', 'chicano rap', 'latin hip hop']\n",
      "Current artist has:  []\n",
      "All genres so far:  ['dirty south rap', 'pop rap', 'southern hip hop', 'trap music', 'crunk', 'dirty south rap', 'southern hip hop', 'chicano rap', 'latin hip hop']\n",
      "Current artist has:  []\n",
      "All genres so far:  ['dirty south rap', 'pop rap', 'southern hip hop', 'trap music', 'crunk', 'dirty south rap', 'southern hip hop', 'chicano rap', 'latin hip hop']\n",
      "Current artist has:  ['hip pop', 'pop rap']\n",
      "All genres so far:  ['dirty south rap', 'pop rap', 'southern hip hop', 'trap music', 'crunk', 'dirty south rap', 'southern hip hop', 'chicano rap', 'latin hip hop', 'hip pop', 'pop rap']\n",
      "Current artist has:  ['crunk', 'dirty south rap', 'southern hip hop', 'trap music']\n",
      "All genres so far:  ['dirty south rap', 'pop rap', 'southern hip hop', 'trap music', 'crunk', 'dirty south rap', 'southern hip hop', 'chicano rap', 'latin hip hop', 'hip pop', 'pop rap', 'crunk', 'dirty south rap', 'southern hip hop', 'trap music']\n",
      "Current artist has:  ['juggalo']\n",
      "All genres so far:  ['dirty south rap', 'pop rap', 'southern hip hop', 'trap music', 'crunk', 'dirty south rap', 'southern hip hop', 'chicano rap', 'latin hip hop', 'hip pop', 'pop rap', 'crunk', 'dirty south rap', 'southern hip hop', 'trap music', 'juggalo']\n",
      "Current artist has:  []\n",
      "All genres so far:  ['dirty south rap', 'pop rap', 'southern hip hop', 'trap music', 'crunk', 'dirty south rap', 'southern hip hop', 'chicano rap', 'latin hip hop', 'hip pop', 'pop rap', 'crunk', 'dirty south rap', 'southern hip hop', 'trap music', 'juggalo']\n",
      "Current artist has:  []\n",
      "All genres so far:  ['dirty south rap', 'pop rap', 'southern hip hop', 'trap music', 'crunk', 'dirty south rap', 'southern hip hop', 'chicano rap', 'latin hip hop', 'hip pop', 'pop rap', 'crunk', 'dirty south rap', 'southern hip hop', 'trap music', 'juggalo']\n",
      "Current artist has:  ['hip pop']\n",
      "All genres so far:  ['dirty south rap', 'pop rap', 'southern hip hop', 'trap music', 'crunk', 'dirty south rap', 'southern hip hop', 'chicano rap', 'latin hip hop', 'hip pop', 'pop rap', 'crunk', 'dirty south rap', 'southern hip hop', 'trap music', 'juggalo', 'hip pop']\n",
      "Current artist has:  []\n",
      "All genres so far:  ['dirty south rap', 'pop rap', 'southern hip hop', 'trap music', 'crunk', 'dirty south rap', 'southern hip hop', 'chicano rap', 'latin hip hop', 'hip pop', 'pop rap', 'crunk', 'dirty south rap', 'southern hip hop', 'trap music', 'juggalo', 'hip pop']\n",
      "Current artist has:  ['hip pop']\n",
      "All genres so far:  ['dirty south rap', 'pop rap', 'southern hip hop', 'trap music', 'crunk', 'dirty south rap', 'southern hip hop', 'chicano rap', 'latin hip hop', 'hip pop', 'pop rap', 'crunk', 'dirty south rap', 'southern hip hop', 'trap music', 'juggalo', 'hip pop', 'hip pop']\n",
      "Current artist has:  ['chicano rap']\n",
      "All genres so far:  ['dirty south rap', 'pop rap', 'southern hip hop', 'trap music', 'crunk', 'dirty south rap', 'southern hip hop', 'chicano rap', 'latin hip hop', 'hip pop', 'pop rap', 'crunk', 'dirty south rap', 'southern hip hop', 'trap music', 'juggalo', 'hip pop', 'hip pop', 'chicano rap']\n",
      "Current artist has:  []\n",
      "All genres so far:  ['dirty south rap', 'pop rap', 'southern hip hop', 'trap music', 'crunk', 'dirty south rap', 'southern hip hop', 'chicano rap', 'latin hip hop', 'hip pop', 'pop rap', 'crunk', 'dirty south rap', 'southern hip hop', 'trap music', 'juggalo', 'hip pop', 'hip pop', 'chicano rap']\n",
      "Current artist has:  []\n",
      "All genres so far:  ['dirty south rap', 'pop rap', 'southern hip hop', 'trap music', 'crunk', 'dirty south rap', 'southern hip hop', 'chicano rap', 'latin hip hop', 'hip pop', 'pop rap', 'crunk', 'dirty south rap', 'southern hip hop', 'trap music', 'juggalo', 'hip pop', 'hip pop', 'chicano rap']\n",
      "Current artist has:  ['jerk']\n",
      "All genres so far:  ['dirty south rap', 'pop rap', 'southern hip hop', 'trap music', 'crunk', 'dirty south rap', 'southern hip hop', 'chicano rap', 'latin hip hop', 'hip pop', 'pop rap', 'crunk', 'dirty south rap', 'southern hip hop', 'trap music', 'juggalo', 'hip pop', 'hip pop', 'chicano rap', 'jerk']\n",
      "Current artist has:  ['deep trap']\n",
      "All genres so far:  ['dirty south rap', 'pop rap', 'southern hip hop', 'trap music', 'crunk', 'dirty south rap', 'southern hip hop', 'chicano rap', 'latin hip hop', 'hip pop', 'pop rap', 'crunk', 'dirty south rap', 'southern hip hop', 'trap music', 'juggalo', 'hip pop', 'hip pop', 'chicano rap', 'jerk', 'deep trap']\n",
      "Current artist has:  []\n",
      "All genres so far:  ['dirty south rap', 'pop rap', 'southern hip hop', 'trap music', 'crunk', 'dirty south rap', 'southern hip hop', 'chicano rap', 'latin hip hop', 'hip pop', 'pop rap', 'crunk', 'dirty south rap', 'southern hip hop', 'trap music', 'juggalo', 'hip pop', 'hip pop', 'chicano rap', 'jerk', 'deep trap']\n",
      "Current artist has:  []\n",
      "All genres so far:  ['dirty south rap', 'pop rap', 'southern hip hop', 'trap music', 'crunk', 'dirty south rap', 'southern hip hop', 'chicano rap', 'latin hip hop', 'hip pop', 'pop rap', 'crunk', 'dirty south rap', 'southern hip hop', 'trap music', 'juggalo', 'hip pop', 'hip pop', 'chicano rap', 'jerk', 'deep trap']\n",
      "Current artist has:  []\n",
      "All genres so far:  ['dirty south rap', 'pop rap', 'southern hip hop', 'trap music', 'crunk', 'dirty south rap', 'southern hip hop', 'chicano rap', 'latin hip hop', 'hip pop', 'pop rap', 'crunk', 'dirty south rap', 'southern hip hop', 'trap music', 'juggalo', 'hip pop', 'hip pop', 'chicano rap', 'jerk', 'deep trap']\n",
      "Current artist has:  []\n",
      "All genres so far:  ['dirty south rap', 'pop rap', 'southern hip hop', 'trap music', 'crunk', 'dirty south rap', 'southern hip hop', 'chicano rap', 'latin hip hop', 'hip pop', 'pop rap', 'crunk', 'dirty south rap', 'southern hip hop', 'trap music', 'juggalo', 'hip pop', 'hip pop', 'chicano rap', 'jerk', 'deep trap']\n",
      "Current artist has:  []\n",
      "All genres so far:  ['dirty south rap', 'pop rap', 'southern hip hop', 'trap music', 'crunk', 'dirty south rap', 'southern hip hop', 'chicano rap', 'latin hip hop', 'hip pop', 'pop rap', 'crunk', 'dirty south rap', 'southern hip hop', 'trap music', 'juggalo', 'hip pop', 'hip pop', 'chicano rap', 'jerk', 'deep trap']\n",
      "Current artist has:  ['chicano rap']\n",
      "All genres so far:  ['dirty south rap', 'pop rap', 'southern hip hop', 'trap music', 'crunk', 'dirty south rap', 'southern hip hop', 'chicano rap', 'latin hip hop', 'hip pop', 'pop rap', 'crunk', 'dirty south rap', 'southern hip hop', 'trap music', 'juggalo', 'hip pop', 'hip pop', 'chicano rap', 'jerk', 'deep trap', 'chicano rap']\n",
      "Current artist has:  []\n",
      "All genres so far:  ['dirty south rap', 'pop rap', 'southern hip hop', 'trap music', 'crunk', 'dirty south rap', 'southern hip hop', 'chicano rap', 'latin hip hop', 'hip pop', 'pop rap', 'crunk', 'dirty south rap', 'southern hip hop', 'trap music', 'juggalo', 'hip pop', 'hip pop', 'chicano rap', 'jerk', 'deep trap', 'chicano rap']\n",
      "Current artist has:  []\n",
      "All genres so far:  ['dirty south rap', 'pop rap', 'southern hip hop', 'trap music', 'crunk', 'dirty south rap', 'southern hip hop', 'chicano rap', 'latin hip hop', 'hip pop', 'pop rap', 'crunk', 'dirty south rap', 'southern hip hop', 'trap music', 'juggalo', 'hip pop', 'hip pop', 'chicano rap', 'jerk', 'deep trap', 'chicano rap']\n",
      "Current artist has:  []\n",
      "All genres so far:  ['dirty south rap', 'pop rap', 'southern hip hop', 'trap music', 'crunk', 'dirty south rap', 'southern hip hop', 'chicano rap', 'latin hip hop', 'hip pop', 'pop rap', 'crunk', 'dirty south rap', 'southern hip hop', 'trap music', 'juggalo', 'hip pop', 'hip pop', 'chicano rap', 'jerk', 'deep trap', 'chicano rap']\n",
      "Current artist has:  []\n",
      "All genres so far:  ['dirty south rap', 'pop rap', 'southern hip hop', 'trap music', 'crunk', 'dirty south rap', 'southern hip hop', 'chicano rap', 'latin hip hop', 'hip pop', 'pop rap', 'crunk', 'dirty south rap', 'southern hip hop', 'trap music', 'juggalo', 'hip pop', 'hip pop', 'chicano rap', 'jerk', 'deep trap', 'chicano rap']\n",
      "Current artist has:  []\n",
      "All genres so far:  ['dirty south rap', 'pop rap', 'southern hip hop', 'trap music', 'crunk', 'dirty south rap', 'southern hip hop', 'chicano rap', 'latin hip hop', 'hip pop', 'pop rap', 'crunk', 'dirty south rap', 'southern hip hop', 'trap music', 'juggalo', 'hip pop', 'hip pop', 'chicano rap', 'jerk', 'deep trap', 'chicano rap']\n",
      "Current artist has:  []\n",
      "All genres so far:  ['dirty south rap', 'pop rap', 'southern hip hop', 'trap music', 'crunk', 'dirty south rap', 'southern hip hop', 'chicano rap', 'latin hip hop', 'hip pop', 'pop rap', 'crunk', 'dirty south rap', 'southern hip hop', 'trap music', 'juggalo', 'hip pop', 'hip pop', 'chicano rap', 'jerk', 'deep trap', 'chicano rap']\n",
      "Current artist has:  []\n",
      "All genres so far:  ['dirty south rap', 'pop rap', 'southern hip hop', 'trap music', 'crunk', 'dirty south rap', 'southern hip hop', 'chicano rap', 'latin hip hop', 'hip pop', 'pop rap', 'crunk', 'dirty south rap', 'southern hip hop', 'trap music', 'juggalo', 'hip pop', 'hip pop', 'chicano rap', 'jerk', 'deep trap', 'chicano rap']\n",
      "Current artist has:  []\n",
      "All genres so far:  ['dirty south rap', 'pop rap', 'southern hip hop', 'trap music', 'crunk', 'dirty south rap', 'southern hip hop', 'chicano rap', 'latin hip hop', 'hip pop', 'pop rap', 'crunk', 'dirty south rap', 'southern hip hop', 'trap music', 'juggalo', 'hip pop', 'hip pop', 'chicano rap', 'jerk', 'deep trap', 'chicano rap']\n",
      "Current artist has:  []\n",
      "All genres so far:  ['dirty south rap', 'pop rap', 'southern hip hop', 'trap music', 'crunk', 'dirty south rap', 'southern hip hop', 'chicano rap', 'latin hip hop', 'hip pop', 'pop rap', 'crunk', 'dirty south rap', 'southern hip hop', 'trap music', 'juggalo', 'hip pop', 'hip pop', 'chicano rap', 'jerk', 'deep trap', 'chicano rap']\n",
      "Current artist has:  ['freestyle']\n",
      "All genres so far:  ['dirty south rap', 'pop rap', 'southern hip hop', 'trap music', 'crunk', 'dirty south rap', 'southern hip hop', 'chicano rap', 'latin hip hop', 'hip pop', 'pop rap', 'crunk', 'dirty south rap', 'southern hip hop', 'trap music', 'juggalo', 'hip pop', 'hip pop', 'chicano rap', 'jerk', 'deep trap', 'chicano rap', 'freestyle']\n",
      "Current artist has:  []\n",
      "All genres so far:  ['dirty south rap', 'pop rap', 'southern hip hop', 'trap music', 'crunk', 'dirty south rap', 'southern hip hop', 'chicano rap', 'latin hip hop', 'hip pop', 'pop rap', 'crunk', 'dirty south rap', 'southern hip hop', 'trap music', 'juggalo', 'hip pop', 'hip pop', 'chicano rap', 'jerk', 'deep trap', 'chicano rap', 'freestyle']\n",
      "Current artist has:  []\n",
      "All genres so far:  ['dirty south rap', 'pop rap', 'southern hip hop', 'trap music', 'crunk', 'dirty south rap', 'southern hip hop', 'chicano rap', 'latin hip hop', 'hip pop', 'pop rap', 'crunk', 'dirty south rap', 'southern hip hop', 'trap music', 'juggalo', 'hip pop', 'hip pop', 'chicano rap', 'jerk', 'deep trap', 'chicano rap', 'freestyle']\n",
      "Current artist has:  ['soca']\n",
      "All genres so far:  ['dirty south rap', 'pop rap', 'southern hip hop', 'trap music', 'crunk', 'dirty south rap', 'southern hip hop', 'chicano rap', 'latin hip hop', 'hip pop', 'pop rap', 'crunk', 'dirty south rap', 'southern hip hop', 'trap music', 'juggalo', 'hip pop', 'hip pop', 'chicano rap', 'jerk', 'deep trap', 'chicano rap', 'freestyle', 'soca']\n",
      "Current artist has:  []\n",
      "All genres so far:  ['dirty south rap', 'pop rap', 'southern hip hop', 'trap music', 'crunk', 'dirty south rap', 'southern hip hop', 'chicano rap', 'latin hip hop', 'hip pop', 'pop rap', 'crunk', 'dirty south rap', 'southern hip hop', 'trap music', 'juggalo', 'hip pop', 'hip pop', 'chicano rap', 'jerk', 'deep trap', 'chicano rap', 'freestyle', 'soca']\n",
      "Current artist has:  []\n",
      "All genres so far:  ['dirty south rap', 'pop rap', 'southern hip hop', 'trap music', 'crunk', 'dirty south rap', 'southern hip hop', 'chicano rap', 'latin hip hop', 'hip pop', 'pop rap', 'crunk', 'dirty south rap', 'southern hip hop', 'trap music', 'juggalo', 'hip pop', 'hip pop', 'chicano rap', 'jerk', 'deep trap', 'chicano rap', 'freestyle', 'soca']\n",
      "Current artist has:  []\n",
      "All genres so far:  ['dirty south rap', 'pop rap', 'southern hip hop', 'trap music', 'crunk', 'dirty south rap', 'southern hip hop', 'chicano rap', 'latin hip hop', 'hip pop', 'pop rap', 'crunk', 'dirty south rap', 'southern hip hop', 'trap music', 'juggalo', 'hip pop', 'hip pop', 'chicano rap', 'jerk', 'deep trap', 'chicano rap', 'freestyle', 'soca']\n",
      "Current artist has:  ['crunk', 'dirty south rap']\n",
      "++++++++++++++++++++++++++++++++\n",
      "All final genres:  ['dirty south rap', 'pop rap', 'southern hip hop', 'trap music', 'crunk', 'dirty south rap', 'southern hip hop', 'chicano rap', 'latin hip hop', 'hip pop', 'pop rap', 'crunk', 'dirty south rap', 'southern hip hop', 'trap music', 'juggalo', 'hip pop', 'hip pop', 'chicano rap', 'jerk', 'deep trap', 'chicano rap', 'freestyle', 'soca', 'crunk', 'dirty south rap']\n"
     ]
    }
   ],
   "source": [
    "# AGGREGATION PROBLEM\n",
    "all_genres = []\n",
    "\n",
    "# THE LOOP\n",
    "for item in items:\n",
    "    print (\"All genres so far: \", all_genres)\n",
    "    # THE CONDITIONAL\n",
    "    print (\"Current artist has: \", item['genres'])\n",
    "    all_genres = all_genres + item['genres']\n",
    "print ('++++++++++++++++++++++++++++++++')\n",
    "print (\"All final genres: \", all_genres)"
   ]
  },
  {
   "cell_type": "code",
   "execution_count": 12,
   "metadata": {
    "collapsed": false
   },
   "outputs": [
    {
     "name": "stdout",
     "output_type": "stream",
     "text": [
      "dirty south rap 4\n",
      "pop rap 2\n",
      "southern hip hop 3\n",
      "trap music 2\n",
      "crunk 3\n",
      "dirty south rap 4\n",
      "southern hip hop 3\n",
      "chicano rap 3\n",
      "latin hip hop 1\n",
      "hip pop 3\n",
      "pop rap 2\n",
      "crunk 3\n",
      "dirty south rap 4\n",
      "southern hip hop 3\n",
      "trap music 2\n",
      "juggalo 1\n",
      "hip pop 3\n",
      "hip pop 3\n",
      "chicano rap 3\n",
      "jerk 1\n",
      "deep trap 1\n",
      "chicano rap 3\n",
      "freestyle 1\n",
      "soca 1\n",
      "crunk 3\n",
      "dirty south rap 4\n",
      "+++++++++++++++++++++++\n",
      "deep trap 1\n",
      "freestyle 1\n",
      "hip pop 3\n",
      "crunk 3\n",
      "pop rap 2\n",
      "trap music 2\n",
      "jerk 1\n",
      "dirty south rap 4\n",
      "juggalo 1\n",
      "southern hip hop 3\n",
      "latin hip hop 1\n",
      "chicano rap 3\n",
      "soca 1\n",
      "dirty south rap is the most represented genre\n"
     ]
    }
   ],
   "source": [
    "for genre in all_genres:\n",
    "    genre_count = all_genres.count(genre)\n",
    "    print (genre, genre_count)\n",
    "unique_genres = set(all_genres)\n",
    "print ('+++++++++++++++++++++++')\n",
    "for genre in unique_genres:\n",
    "    genre_count = all_genres.count(genre)\n",
    "    print(genre, genre_count)\n",
    "print (\"dirty south rap is the most represented genre\")"
   ]
  },
  {
   "cell_type": "markdown",
   "metadata": {},
   "source": [
    "3) Use a for loop to determine who BESIDES Lil Wayne has the highest popularity rating. Is it the same artist who has the largest number of followers?"
   ]
  },
  {
   "cell_type": "code",
   "execution_count": 22,
   "metadata": {
    "collapsed": false
   },
   "outputs": [
    {
     "name": "stdout",
     "output_type": "stream",
     "text": [
      "Looking at Lil Wayne who has popularity of 86\n",
      "Comapring 86 to 0\n",
      "Looking at Lil Yachty who has popularity of 72\n",
      "Comapring 72 to 0\n",
      "Looking at Lil Uzi Vert who has popularity of 72\n",
      "Comapring 72 to 72\n",
      "Looking at Lil Dicky who has popularity of 68\n",
      "Comapring 68 to 72\n",
      "Looking at Boosie Badazz who has popularity of 67\n",
      "Comapring 67 to 72\n",
      "Looking at Lil Jon who has popularity of 72\n",
      "Comapring 72 to 72\n",
      "Looking at King Lil G who has popularity of 61\n",
      "Comapring 61 to 72\n",
      "Looking at Lil Durk who has popularity of 60\n",
      "Comapring 60 to 72\n",
      "Looking at Lil Jon & The East Side Boyz who has popularity of 60\n",
      "Comapring 60 to 72\n",
      "Looking at Lil Bibby who has popularity of 54\n",
      "Comapring 54 to 72\n",
      "Looking at G Herbo who has popularity of 53\n",
      "Comapring 53 to 72\n",
      "Looking at Lil Rob who has popularity of 50\n",
      "Comapring 50 to 72\n",
      "Looking at Lil Reese who has popularity of 50\n",
      "Comapring 50 to 72\n",
      "Looking at Lil Keke who has popularity of 48\n",
      "Comapring 48 to 72\n",
      "Looking at Bow Wow who has popularity of 57\n",
      "Comapring 57 to 72\n",
      "Looking at Lil Scrappy who has popularity of 48\n",
      "Comapring 48 to 72\n",
      "Looking at Lil Wyte who has popularity of 50\n",
      "Comapring 50 to 72\n",
      "Looking at Lil Blood who has popularity of 45\n",
      "Comapring 45 to 72\n",
      "Looking at Lil Snupe who has popularity of 45\n",
      "Comapring 45 to 72\n",
      "Looking at Lil Mama who has popularity of 45\n",
      "Comapring 45 to 72\n",
      "Looking at Lil B who has popularity of 44\n",
      "Comapring 44 to 72\n",
      "Looking at Lil' Kim who has popularity of 62\n",
      "Comapring 62 to 72\n",
      "Looking at Lil Cuete who has popularity of 40\n",
      "Comapring 40 to 72\n",
      "Looking at Lil Phat who has popularity of 39\n",
      "Comapring 39 to 72\n",
      "Looking at Lil Debbie who has popularity of 43\n",
      "Comapring 43 to 72\n",
      "Looking at Lil Twist who has popularity of 39\n",
      "Comapring 39 to 72\n",
      "Looking at Lil Trill who has popularity of 37\n",
      "Comapring 37 to 72\n",
      "Looking at Lil Twon who has popularity of 38\n",
      "Comapring 38 to 72\n",
      "Looking at Lil AJ who has popularity of 37\n",
      "Comapring 37 to 72\n",
      "Looking at Lil Lonnie who has popularity of 37\n",
      "Comapring 37 to 72\n",
      "Looking at Lil Boom who has popularity of 35\n",
      "Comapring 35 to 72\n",
      "Looking at Lil Goofy who has popularity of 35\n",
      "Comapring 35 to 72\n",
      "Looking at Mr. Lil One who has popularity of 36\n",
      "Comapring 36 to 72\n",
      "Looking at Lil Haiti who has popularity of 36\n",
      "Comapring 36 to 72\n",
      "Looking at Lil Flash who has popularity of 38\n",
      "Comapring 38 to 72\n",
      "Looking at Lil Kesh who has popularity of 39\n",
      "Comapring 39 to 72\n",
      "Looking at Lil Cray who has popularity of 35\n",
      "Comapring 35 to 72\n",
      "Looking at Lil Silva who has popularity of 43\n",
      "Comapring 43 to 72\n",
      "Looking at Lil Rue who has popularity of 34\n",
      "Comapring 34 to 72\n",
      "Looking at Lil Eddie who has popularity of 41\n",
      "Comapring 41 to 72\n",
      "Looking at Lil Yase who has popularity of 33\n",
      "Comapring 33 to 72\n",
      "Looking at Lil Wayne, DJ Drama who has popularity of 35\n",
      "Comapring 35 to 72\n",
      "Looking at Lil Suzy who has popularity of 34\n",
      "Comapring 34 to 72\n",
      "Looking at Lil Mouse who has popularity of 34\n",
      "Comapring 34 to 72\n",
      "Looking at Lil C who has popularity of 33\n",
      "Comapring 33 to 72\n",
      "Looking at Lil Rick who has popularity of 39\n",
      "Comapring 39 to 72\n",
      "Looking at Lil June who has popularity of 32\n",
      "Comapring 32 to 72\n",
      "Looking at Lil E who has popularity of 34\n",
      "Comapring 34 to 72\n",
      "Looking at Lil Fate who has popularity of 34\n",
      "Comapring 34 to 72\n",
      "Looking at Lil' Flip who has popularity of 49\n",
      "Comapring 49 to 72\n",
      "++++++++++++++++++++\n",
      "Lil Yachty 72\n"
     ]
    }
   ],
   "source": [
    "# popularity\n",
    "items = data['artists']['items']\n",
    "# AGGREGATION PROBLEM\n",
    "most_popular_name = \"\"\n",
    "most_popular_score = 0\n",
    "for item in items:\n",
    "    print (\"Looking at\", item['name'], \"who has popularity of\", item['popularity'])\n",
    "    print (\"Comapring\", item['popularity'], \"to\", most_popular_score)\n",
    "    # THE CONDITIONAL\n",
    "    if item['popularity'] > most_popular_score:\n",
    "        if item['name'] == 'Lil Wayne':\n",
    "            pass\n",
    "        else:\n",
    "            most_popular_name = item['name']\n",
    "            most_popular_score = item['popularity']\n",
    "    else:\n",
    "        pass\n",
    "print ('++++++++++++++++++++')\n",
    "print (most_popular_name, most_popular_score)"
   ]
  },
  {
   "cell_type": "code",
   "execution_count": 27,
   "metadata": {
    "collapsed": false
   },
   "outputs": [
    {
     "data": {
      "text/plain": [
       "2623924"
      ]
     },
     "execution_count": 27,
     "metadata": {},
     "output_type": "execute_result"
    }
   ],
   "source": [
    "data['artists']['items'][0]['followers']['total']"
   ]
  },
  {
   "cell_type": "code",
   "execution_count": 28,
   "metadata": {
    "collapsed": false
   },
   "outputs": [
    {
     "name": "stdout",
     "output_type": "stream",
     "text": [
      "Looking at Lil Wayne who has 2623924 followers\n",
      "Comapring 2623924 to 0\n",
      "Looking at Lil Yachty who has 37974 followers\n",
      "Comapring 37974 to 0\n",
      "Looking at Lil Uzi Vert who has 55211 followers\n",
      "Comapring 55211 to 37974\n",
      "Looking at Lil Dicky who has 224765 followers\n",
      "Comapring 224765 to 55211\n",
      "Looking at Boosie Badazz who has 220156 followers\n",
      "Comapring 220156 to 224765\n",
      "Looking at Lil Jon who has 256052 followers\n",
      "Comapring 256052 to 224765\n",
      "Looking at King Lil G who has 64210 followers\n",
      "Comapring 64210 to 256052\n",
      "Looking at Lil Durk who has 134097 followers\n",
      "Comapring 134097 to 256052\n",
      "Looking at Lil Jon & The East Side Boyz who has 17045 followers\n",
      "Comapring 17045 to 256052\n",
      "Looking at Lil Bibby who has 44109 followers\n",
      "Comapring 44109 to 256052\n",
      "Looking at G Herbo who has 51481 followers\n",
      "Comapring 51481 to 256052\n",
      "Looking at Lil Rob who has 35828 followers\n",
      "Comapring 35828 to 256052\n",
      "Looking at Lil Reese who has 23839 followers\n",
      "Comapring 23839 to 256052\n",
      "Looking at Lil Keke who has 18746 followers\n",
      "Comapring 18746 to 256052\n",
      "Looking at Bow Wow who has 118546 followers\n",
      "Comapring 118546 to 256052\n",
      "Looking at Lil Scrappy who has 27080 followers\n",
      "Comapring 27080 to 256052\n",
      "Looking at Lil Wyte who has 31106 followers\n",
      "Comapring 31106 to 256052\n",
      "Looking at Lil Blood who has 5524 followers\n",
      "Comapring 5524 to 256052\n",
      "Looking at Lil Snupe who has 33987 followers\n",
      "Comapring 33987 to 256052\n",
      "Looking at Lil Mama who has 21110 followers\n",
      "Comapring 21110 to 256052\n",
      "Looking at Lil B who has 224 followers\n",
      "Comapring 224 to 256052\n",
      "Looking at Lil' Kim who has 70228 followers\n",
      "Comapring 70228 to 256052\n",
      "Looking at Lil Cuete who has 15580 followers\n",
      "Comapring 15580 to 256052\n",
      "Looking at Lil Phat who has 5331 followers\n",
      "Comapring 5331 to 256052\n",
      "Looking at Lil Debbie who has 14522 followers\n",
      "Comapring 14522 to 256052\n",
      "Looking at Lil Twist who has 14832 followers\n",
      "Comapring 14832 to 256052\n",
      "Looking at Lil Trill who has 2123 followers\n",
      "Comapring 2123 to 256052\n",
      "Looking at Lil Twon who has 318 followers\n",
      "Comapring 318 to 256052\n",
      "Looking at Lil AJ who has 897 followers\n",
      "Comapring 897 to 256052\n",
      "Looking at Lil Lonnie who has 1332 followers\n",
      "Comapring 1332 to 256052\n",
      "Looking at Lil Boom who has 172 followers\n",
      "Comapring 172 to 256052\n",
      "Looking at Lil Goofy who has 1340 followers\n",
      "Comapring 1340 to 256052\n",
      "Looking at Mr. Lil One who has 4744 followers\n",
      "Comapring 4744 to 256052\n",
      "Looking at Lil Haiti who has 679 followers\n",
      "Comapring 679 to 256052\n",
      "Looking at Lil Flash who has 1763 followers\n",
      "Comapring 1763 to 256052\n",
      "Looking at Lil Kesh who has 1660 followers\n",
      "Comapring 1660 to 256052\n",
      "Looking at Lil Cray who has 985 followers\n",
      "Comapring 985 to 256052\n",
      "Looking at Lil Silva who has 9431 followers\n",
      "Comapring 9431 to 256052\n",
      "Looking at Lil Rue who has 3286 followers\n",
      "Comapring 3286 to 256052\n",
      "Looking at Lil Eddie who has 1623 followers\n",
      "Comapring 1623 to 256052\n",
      "Looking at Lil Yase who has 1129 followers\n",
      "Comapring 1129 to 256052\n",
      "Looking at Lil Wayne, DJ Drama who has 12850 followers\n",
      "Comapring 12850 to 256052\n",
      "Looking at Lil Suzy who has 5889 followers\n",
      "Comapring 5889 to 256052\n",
      "Looking at Lil Mouse who has 16305 followers\n",
      "Comapring 16305 to 256052\n",
      "Looking at Lil C who has 1705 followers\n",
      "Comapring 1705 to 256052\n",
      "Looking at Lil Rick who has 1829 followers\n",
      "Comapring 1829 to 256052\n",
      "Looking at Lil June who has 1396 followers\n",
      "Comapring 1396 to 256052\n",
      "Looking at Lil E who has 130 followers\n",
      "Comapring 130 to 256052\n",
      "Looking at Lil Fate who has 110 followers\n",
      "Comapring 110 to 256052\n",
      "Looking at Lil' Flip who has 19889 followers\n",
      "Comapring 19889 to 256052\n",
      "++++++++++++++++++++\n",
      "Lil Jon 256052\n"
     ]
    }
   ],
   "source": [
    "# Followers\n",
    "# popularity\n",
    "items = data['artists']['items']\n",
    "# AGGREGATION PROBLEM\n",
    "artist_most_followers = \"\"\n",
    "most_followers = 0\n",
    "for item in items:\n",
    "    print (\"Looking at\", item['name'], \"who has\", item['followers']['total'], \"followers\")\n",
    "    print (\"Comapring\", item['followers']['total'], \"to\", most_followers)\n",
    "    # THE CONDITIONAL\n",
    "    if item['followers']['total'] > most_followers:\n",
    "        if item['name'] == 'Lil Wayne':\n",
    "            pass\n",
    "        else:\n",
    "            artist_most_followers = item['name']\n",
    "            most_followers = item['followers']['total']\n",
    "    else:\n",
    "        pass\n",
    "print ('++++++++++++++++++++')\n",
    "print (artist_most_followers, most_followers)"
   ]
  },
  {
   "cell_type": "markdown",
   "metadata": {},
   "source": [
    "4) print a list of Lil's that are more popular than Lil' Kim."
   ]
  },
  {
   "cell_type": "code",
   "execution_count": 29,
   "metadata": {
    "collapsed": false
   },
   "outputs": [
    {
     "name": "stdout",
     "output_type": "stream",
     "text": [
      "Lil' Kim 62\n"
     ]
    }
   ],
   "source": [
    "items = data['artists']['items']\n",
    "for item in items:\n",
    "    if item['name'] == \"Lil' Kim\":\n",
    "        print (item['name'], item['popularity'])\n",
    "    else: pass\n"
   ]
  },
  {
   "cell_type": "code",
   "execution_count": 34,
   "metadata": {
    "collapsed": false
   },
   "outputs": [
    {
     "name": "stdout",
     "output_type": "stream",
     "text": [
      "Lil Wayne\n",
      "Lil Yachty\n",
      "Lil Uzi Vert\n",
      "Lil Dicky\n",
      "Boosie Badazz\n",
      "Lil Jon\n",
      "Lil Wayne, Lil Yachty, Lil Uzi Vert, Lil Dicky, Boosie Badazz, Lil Jon\n"
     ]
    }
   ],
   "source": [
    "lil_kim_popularity = 62\n",
    "\n",
    "# AGGREGATION PROBLEM\n",
    "more_popular_than_lil_kim = []\n",
    "\n",
    "# THE LOOP\n",
    "for item in items:\n",
    "    if item['popularity'] > lil_kim_popularity:\n",
    "        more_popular_than_lil_kim.append(item['name'])\n",
    "    else:\n",
    "        pass\n",
    "\n",
    "for item in more_popular_than_lil_kim:\n",
    "    print(item)\n",
    "more_popular_string = \", \".join(more_popular_than_lil_kim)\n",
    "print(more_popular_string)"
   ]
  },
  {
   "cell_type": "markdown",
   "metadata": {},
   "source": [
    "5) Pick two of your favorite Lils to fight it out, and use their IDs to print out their top tracks."
   ]
  },
  {
   "cell_type": "code",
   "execution_count": 35,
   "metadata": {
    "collapsed": false
   },
   "outputs": [
    {
     "name": "stdout",
     "output_type": "stream",
     "text": [
      "Lil Wayne 55Aa2cqylxrFIXC767Z865\n",
      "Lil Yachty 6icQOAFXDZKsumw3YXyusw\n",
      "Lil Uzi Vert 4O15NlyKLIASxsJ0PrXPfz\n",
      "Lil Dicky 1tqhsYv8yBBdwANFNzHtcr\n",
      "Boosie Badazz 6z7xFFHxYkE9t8bwIF0Bvg\n",
      "Lil Jon 7sfl4Xt5KmfyDs2T3SVSMK\n",
      "King Lil G 6L3x3if9RVimruryD9LoFb\n",
      "Lil Durk 3hcs9uc56yIGFCSy9leWe7\n",
      "Lil Jon & The East Side Boyz 3ciRvbBIVz9fBoPbtSYq4x\n",
      "Lil Bibby 4uSN8Y3kgFNVULUWsZEAVW\n",
      "G Herbo 5QdEbQJ3ylBnc3gsIASAT5\n",
      "Lil Rob 7B7TGqQe7QTVm2U6q8jzk1\n",
      "Lil Reese 1bPxKZtCdjB1aj1csBJpdS\n",
      "Lil Keke 1grI9x4Uzos1Asx8JmRW6T\n",
      "Bow Wow 7352aRY2mqSxBZwzUb6LmA\n",
      "Lil Scrappy 5einkgXXrjhfYCyac1FANB\n",
      "Lil Wyte 21O7WwRkik43ErKppxDKJq\n",
      "Lil Blood 74nSA5FdDOuuLw7Rn5JnuP\n",
      "Lil Snupe 42FaEHFfyxTdZQ5W28dXnj\n",
      "Lil Mama 5qK5bOC6wLtuLhG5KvU17c\n",
      "Lil B 4dqh62yIzDBmrMeBOLiP5F\n",
      "Lil' Kim 5tth2a3v0sWwV1C7bApBdX\n",
      "Lil Cuete 1I5u5Umau1AgHl0ZbPL1oR\n",
      "Lil Phat 3QnIBUOS4mUzs67rZ8r4c9\n",
      "Lil Debbie 3FNZcjyqT7F5upP99JV0oN\n",
      "Lil Twist 564gvOqSRcQoYAhaBpTiK2\n",
      "Lil Trill 5EQERGi7ffHvHsv3bnqzBn\n",
      "Lil Twon 5YZZbPdI7P7te3lW3dTpzK\n",
      "Lil AJ 2jXwYLNnCxNavms4mc1DYM\n",
      "Lil Lonnie 6zSBkdKFLKKggDtE3amfCk\n",
      "Lil Boom 1mmlWsyPJvvxMdabcGJjRn\n",
      "Lil Goofy 3rWaFjgOi5mjQfllMfN3VI\n",
      "Mr. Lil One 6tslWi0BXiDdtChermDzkU\n",
      "Lil Haiti 4E9dumwOMLlTyXUp1i2WdI\n",
      "Lil Flash 069qBEK34YGoX7nSIT74Eg\n",
      "Lil Kesh 38XiDu0kK3Z5jdHUDqBzNT\n",
      "Lil Cray 43BqexhEx5NKF7VfeOYP9m\n",
      "Lil Silva 2Kv0ApBohrL213X9avMrEn\n",
      "Lil Rue 4IFVaKBbEO8Qkurg6nmoc4\n",
      "Lil Eddie 5CY0QKsbUBpQJIE2yycsYi\n",
      "Lil Yase 4vIlHBnzWKbmWe8ZOkT1ZT\n",
      "Lil Wayne, DJ Drama 65npPa1U4cgobX9wU7Jgpb\n",
      "Lil Suzy 5HPsVk1MblCoa44WLJsQwN\n",
      "Lil Mouse 1cEHxCgGlEgqBc91YOcAEQ\n",
      "Lil C 69swdLSkKxCQBMYJ55O2mA\n",
      "Lil Rick 1qKzKUnuQsjB83hBZffoq0\n",
      "Lil June 3GH3KD2078kLPpEkN1UN26\n",
      "Lil E 0zn6yzsbWj3EPMgOTqfG5k\n",
      "Lil Fate 6JUnsP7jmvYmdhbg7lTMQj\n",
      "Lil' Flip 4Q5sPmM8j4SpMqL4UA1DtS\n"
     ]
    }
   ],
   "source": [
    "#5\n",
    "# Lil Wayne and Lil June\n",
    "\n",
    "items = data['artists']['items']\n",
    "for item in items:\n",
    "    print (item['name'], item['id'])"
   ]
  },
  {
   "cell_type": "code",
   "execution_count": 38,
   "metadata": {
    "collapsed": false
   },
   "outputs": [
    {
     "ename": "SyntaxError",
     "evalue": "invalid syntax (<ipython-input-38-ef648cb54837>, line 5)",
     "output_type": "error",
     "traceback": [
      "\u001b[0;36m  File \u001b[0;32m\"<ipython-input-38-ef648cb54837>\"\u001b[0;36m, line \u001b[0;32m5\u001b[0m\n\u001b[0;31m    lil_wayne_response = requests.get(https://api.spotify.com/v1/artists/lil_wayne_id/top-tracks?country='US')\u001b[0m\n\u001b[0m                                           ^\u001b[0m\n\u001b[0;31mSyntaxError\u001b[0m\u001b[0;31m:\u001b[0m invalid syntax\n"
     ]
    }
   ],
   "source": [
    "import requests\n",
    "lil_wayne_id = '55Aa2cqylxrFIXC767Z865'\n",
    "lil_june_id = '3GH3KD2078kLPpEkN1UN26'\n",
    "\n",
    "lil_wayne_response = requests.get(https://api.spotify.com/v1/artists/lil_wayne_id/top-tracks?country='US')\n",
    "lil_wayne_data = lil_wayne_response.json()\n",
    "lil_june_response = requests.get(https://api.spotify.com/v1/artists/lil_june_id/top-tracks?country='US')\n",
    "lil_june_data = lil_june_response.json()\n",
    "\n",
    "lil_wayne_data"
   ]
  },
  {
   "cell_type": "code",
   "execution_count": 85,
   "metadata": {
    "collapsed": true
   },
   "outputs": [],
   "source": [
    "# Lil Wayne Top Tracks\n",
    "wayne_response = requests.get('https://api.spotify.com/v1/artists/55Aa2cqylxrFIXC767Z865/top-tracks')\n",
    "wayne_data = wayne_response.json()"
   ]
  },
  {
   "cell_type": "code",
   "execution_count": 86,
   "metadata": {
    "collapsed": false
   },
   "outputs": [
    {
     "data": {
      "text/plain": [
       "dict"
      ]
     },
     "execution_count": 86,
     "metadata": {},
     "output_type": "execute_result"
    }
   ],
   "source": [
    "wayne_data"
   ]
  },
  {
   "cell_type": "code",
   "execution_count": 87,
   "metadata": {
    "collapsed": false
   },
   "outputs": [
    {
     "data": {
      "text/plain": [
       "dict_keys(['error'])"
      ]
     },
     "execution_count": 87,
     "metadata": {},
     "output_type": "execute_result"
    }
   ],
   "source": [
    "wayne_data.keys()"
   ]
  },
  {
   "cell_type": "code",
   "execution_count": null,
   "metadata": {
    "collapsed": true
   },
   "outputs": [],
   "source": []
  }
 ],
 "metadata": {
  "kernelspec": {
   "display_name": "Python 3",
   "language": "python",
   "name": "python3"
  },
  "language_info": {
   "codemirror_mode": {
    "name": "ipython",
    "version": 3
   },
   "file_extension": ".py",
   "mimetype": "text/x-python",
   "name": "python",
   "nbconvert_exporter": "python",
   "pygments_lexer": "ipython3",
   "version": "3.5.1"
  }
 },
 "nbformat": 4,
 "nbformat_minor": 0
}
