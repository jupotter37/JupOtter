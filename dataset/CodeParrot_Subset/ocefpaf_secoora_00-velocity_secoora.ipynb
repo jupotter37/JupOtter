{
 "metadata": {
  "kernelspec": {
   "codemirror_mode": {
    "name": "ipython",
    "version": 3
   },
   "display_name": "Iris (Python 2)",
   "language": "python",
   "name": "iris_python2"
  },
  "name": "",
  "signature": "sha256:8958e88f73c0aaf001a82e539ac46040ab581cc5b06d4bc954f2deb08c593345"
 },
 "nbformat": 3,
 "nbformat_minor": 0,
 "worksheets": [
  {
   "cells": [
    {
     "cell_type": "markdown",
     "metadata": {},
     "source": [
      "### SECOORA sea surface temperature time-series notebook\n",
      " \n",
      "Produce weekly maps and tables for the SECOORA.  Based on IOOS system-test [notebook](http://nbviewer.ipython.org/github/ioos/system-test/blob/master/Theme_2_Extreme_Events/Scenario_2B/ModelDataCompare_Currents/Model_Obs_Compare_Currents.ipynb)."
     ]
    },
    {
     "cell_type": "code",
     "collapsed": false,
     "input": [
      "import time\n",
      "start_time = time.time()"
     ],
     "language": "python",
     "metadata": {},
     "outputs": [],
     "prompt_number": 1
    },
    {
     "cell_type": "code",
     "collapsed": false,
     "input": [
      "import os\n",
      "\n",
      "%load_ext watermark\n",
      "%watermark --githash --machine --python --packages iris,pyoos,owslib\n",
      "\n",
      "style = os.path.join(os.pardir, os.pardir, 'style.css')"
     ],
     "language": "python",
     "metadata": {},
     "outputs": [
      {
       "output_type": "stream",
       "stream": "stdout",
       "text": [
        "CPython 2.7.9\n",
        "IPython 2.3.1\n",
        "\n",
        "iris 1.7.2-DEV\n",
        "pyoos 0.6.2\n",
        "owslib 0.8-dev\n",
        "\n",
        "compiler   : GCC 4.4.7 20120313 (Red Hat 4.4.7-1)\n",
        "system     : Linux\n",
        "release    : 3.16.7-7-desktop\n",
        "machine    : x86_64\n",
        "processor  : x86_64\n",
        "CPU cores  : 4\n",
        "interpreter: 64bit\n",
        "Git hash   : 8a73c1ba44587ef755d52f9375876c8eec17620c\n"
       ]
      }
     ],
     "prompt_number": 2
    },
    {
     "cell_type": "code",
     "collapsed": false,
     "input": [
      "import pytz\n",
      "from datetime import datetime, timedelta\n",
      "\n",
      "from utilities import CF_names\n",
      "\n",
      "\n",
      "# Choose the date range (e.g: stop = datetime(2014, 7, 7, 12)).\n",
      "stop = datetime(2015, 2, 6, 12)\n",
      "\n",
      "stop = stop.replace(tzinfo=pytz.utc)\n",
      "start = stop - timedelta(days=7)\n",
      "\n",
      "# SECOORA region (NC, SC GA, FL).\n",
      "bbox = [-87.40, 24.25, -74.70, 36.70]\n",
      "\n",
      "# CF-names to look for:\n",
      "currents = CF_names['currents']\n",
      "name_list = currents['u'] + currents['v'] + currents['speed_direction']"
     ],
     "language": "python",
     "metadata": {},
     "outputs": [],
     "prompt_number": 3
    },
    {
     "cell_type": "code",
     "collapsed": false,
     "input": [
      "run_name = '{:%Y-%m-%d}'.format(stop)\n",
      "\n",
      "if not os.path.exists(run_name):\n",
      "    os.makedirs(run_name)"
     ],
     "language": "python",
     "metadata": {},
     "outputs": [],
     "prompt_number": 4
    },
    {
     "cell_type": "code",
     "collapsed": false,
     "input": [
      "import iris\n",
      "import pyoos\n",
      "import owslib\n",
      "\n",
      "import logging as log\n",
      "reload(log)\n",
      "\n",
      "fmt = '{:*^64}'.format\n",
      "log.captureWarnings(True)\n",
      "LOG_FILENAME = 'log.txt'\n",
      "LOG_FILENAME = os.path.join(run_name, LOG_FILENAME)\n",
      "log.basicConfig(filename=LOG_FILENAME,\n",
      "                filemode='w',\n",
      "                format='%(asctime)s %(levelname)s: %(message)s',\n",
      "                datefmt='%I:%M:%S',\n",
      "                level=log.INFO,\n",
      "                stream=None)\n",
      "\n",
      "log.info(fmt(' Run information '))\n",
      "log.info('Run date: {:%Y-%m-%d %H:%M:%S}'.format(datetime.utcnow()))\n",
      "log.info('Download start: {:%Y-%m-%d %H:%M:%S}'.format(start))\n",
      "log.info('Download stop: {:%Y-%m-%d %H:%M:%S}'.format(stop))\n",
      "log.info('Bounding box: {0:3.2f}, {1:3.2f},'\n",
      "         '{2:3.2f}, {3:3.2f}'.format(*bbox))\n",
      "log.info(fmt(' Software version '))\n",
      "log.info('Iris version: {}'.format(iris.__version__))\n",
      "log.info('owslib version: {}'.format(owslib.__version__))\n",
      "log.info('pyoos version: {}'.format(pyoos.__version__))"
     ],
     "language": "python",
     "metadata": {},
     "outputs": [],
     "prompt_number": 5
    },
    {
     "cell_type": "code",
     "collapsed": false,
     "input": [
      "from owslib import fes\n",
      "from utilities import fes_date_filter\n",
      "\n",
      "kw = dict(wildCard='*',\n",
      "          escapeChar='\\\\',\n",
      "          singleChar='?',\n",
      "          propertyname='apiso:AnyText')\n",
      "\n",
      "or_filt = fes.Or([fes.PropertyIsLike(literal=('*%s*' % val), **kw)\n",
      "                  for val in name_list])\n",
      "\n",
      "# Exclude ROMS Averages and History files.\n",
      "not_filt = fes.Not([fes.PropertyIsLike(literal='*Averages*', **kw)])\n",
      "\n",
      "begin, end = fes_date_filter(start, stop)\n",
      "filter_list = [fes.And([fes.BBox(bbox), begin, end, or_filt, not_filt])]"
     ],
     "language": "python",
     "metadata": {},
     "outputs": [],
     "prompt_number": 6
    },
    {
     "cell_type": "code",
     "collapsed": false,
     "input": [
      "from owslib.csw import CatalogueServiceWeb\n",
      "\n",
      "endpoint = 'http://www.ngdc.noaa.gov/geoportal/csw'\n",
      "csw = CatalogueServiceWeb(endpoint, timeout=60)\n",
      "csw.getrecords2(constraints=filter_list, maxrecords=1000, esn='full')\n",
      "\n",
      "log.info(fmt(' Catalog information '))\n",
      "log.info(\"URL: {}\".format(endpoint))\n",
      "log.info(\"CSW version: {}\".format(csw.version))\n",
      "log.info(\"Number of datasets available: {}\".format(len(csw.records.keys())))"
     ],
     "language": "python",
     "metadata": {},
     "outputs": [],
     "prompt_number": 7
    },
    {
     "cell_type": "code",
     "collapsed": false,
     "input": [
      "from utilities import service_urls\n",
      "\n",
      "dap_urls = service_urls(csw.records, service='odp:url')\n",
      "sos_urls = service_urls(csw.records, service='sos:url')\n",
      "\n",
      "log.info(fmt(' CSW '))\n",
      "for rec, item in csw.records.items():\n",
      "    log.info('{}'.format(item.title))\n",
      "\n",
      "log.info(fmt(' DAP '))\n",
      "for url in dap_urls:\n",
      "    log.info('{}.html'.format(url))\n",
      "\n",
      "log.info(fmt(' SOS '))\n",
      "for url in sos_urls:\n",
      "    log.info('{}'.format(url))"
     ],
     "language": "python",
     "metadata": {},
     "outputs": [],
     "prompt_number": 8
    },
    {
     "cell_type": "markdown",
     "metadata": {},
     "source": [
      "### Add SECOORA models and observations."
     ]
    },
    {
     "cell_type": "code",
     "collapsed": false,
     "input": [
      "from utilities import titles, fix_url\n",
      "\n",
      "secoora_models = ['SABGOM', 'USEAST', 'USF_ROMS',\n",
      "                  'USF_SWAN', 'USF_FVCOM']\n",
      "\n",
      "for secoora_model in secoora_models:\n",
      "    if titles[secoora_model] not in dap_urls:\n",
      "        log.warning('{} not in the NGDC csw'.format(secoora_model))\n",
      "        dap_urls.append(titles[secoora_model])\n",
      "\n",
      "# NOTE: USEAST is not archived at the moment!\n",
      "dap_urls = [fix_url(start, url) if 'SABGOM' in url else url for url in dap_urls]"
     ],
     "language": "python",
     "metadata": {},
     "outputs": [],
     "prompt_number": 9
    },
    {
     "cell_type": "markdown",
     "metadata": {},
     "source": [
      "# FIXME: deal with ($u$, $v$) and speed, direction."
     ]
    },
    {
     "cell_type": "code",
     "collapsed": false,
     "input": [
      "from iris.exceptions import CoordinateNotFoundError, ConstraintMismatchError\n",
      "\n",
      "from utilities import TimeoutException, secoora_buoys, get_cubes\n",
      "\n",
      "urls = list(secoora_buoys())\n",
      "\n",
      "buoys = dict()\n",
      "for url in urls:\n",
      "    try:\n",
      "        cubes = get_cubes(url, name_list=name_list,\n",
      "                          bbox=bbox, time=(start, stop))\n",
      "        buoy = url.split('/')[-1].split('.nc')[0]\n",
      "        buoys.update({buoy: cubes[0]})\n",
      "    except (RuntimeError, ValueError, TimeoutException,\n",
      "            ConstraintMismatchError, CoordinateNotFoundError) as e:\n",
      "        log.warning('Cannot get cube for: {}\\n{}'.format(url, e))"
     ],
     "language": "python",
     "metadata": {},
     "outputs": [],
     "prompt_number": 11
    },
    {
     "cell_type": "code",
     "collapsed": false,
     "input": [
      "name_list"
     ],
     "language": "python",
     "metadata": {},
     "outputs": [
      {
       "metadata": {},
       "output_type": "pyout",
       "prompt_number": 13,
       "text": [
        "['surface_eastward_sea_water_velocity',\n",
        " 'eastward_sea_water_velocity',\n",
        " 'sea_water_x_velocity',\n",
        " 'x_sea_water_velocity',\n",
        " 'eastward_transformed_eulerian_mean_velocity',\n",
        " 'northward_sea_water_velocity',\n",
        " 'surface_northward_sea_water_velocity',\n",
        " 'sea_water_y_velocity',\n",
        " 'y_sea_water_velocity',\n",
        " 'northward_transformed_eulerian_mean_velocity',\n",
        " 'sea_water_speed',\n",
        " 'direction_of_sea_water_velocity']"
       ]
      }
     ],
     "prompt_number": 13
    },
    {
     "cell_type": "code",
     "collapsed": false,
     "input": [
      "buoys"
     ],
     "language": "python",
     "metadata": {},
     "outputs": [
      {
       "metadata": {},
       "output_type": "pyout",
       "prompt_number": 12,
       "text": [
        "{}"
       ]
      }
     ],
     "prompt_number": 12
    },
    {
     "cell_type": "code",
     "collapsed": false,
     "input": [
      "units=iris.unit.Unit('m s-1')"
     ],
     "language": "python",
     "metadata": {},
     "outputs": []
    }
   ],
   "metadata": {}
  }
 ]
}