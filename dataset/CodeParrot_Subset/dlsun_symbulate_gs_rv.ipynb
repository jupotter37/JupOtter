{
 "cells": [
  {
   "cell_type": "markdown",
   "metadata": {},
   "source": [
    "# Getting Started with Symbulate\n",
    "\n",
    "## Section 2. Random Variables"
   ]
  },
  {
   "cell_type": "markdown",
   "metadata": {},
   "source": [
    "<a id='contents'></a>"
   ]
  },
  {
   "cell_type": "markdown",
   "metadata": {},
   "source": [
    "<[Probability Spaces](gs_probspace.ipynb) | [Contents](index.ipynb) | [Multiple random variables and joint distributions](gs_joint.ipynb)>"
   ]
  },
  {
   "cell_type": "markdown",
   "metadata": {},
   "source": [
    "**Every time you start Symbulate**, you must first run (SHIFT-ENTER) the following commands."
   ]
  },
  {
   "cell_type": "code",
   "execution_count": null,
   "metadata": {
    "collapsed": true
   },
   "outputs": [],
   "source": [
    "from symbulate import *\n",
    "%matplotlib inline"
   ]
  },
  {
   "cell_type": "markdown",
   "metadata": {},
   "source": [
    "This section provides an introduction to the Symbulate commands for simulating and summarizing values of a random variable."
   ]
  },
  {
   "cell_type": "markdown",
   "metadata": {},
   "source": [
    "<a id='counting_numb_heads'></a>\n",
    "### Example 2.1: Counting the number of Heads in a sequence of coin flips"
   ]
  },
  {
   "cell_type": "markdown",
   "metadata": {},
   "source": [
    "In [Example 1.7](gs_probspace.ipynb#e2.6) we simulated the value of the number of Heads in a sequence of five coin flips.  In that example, we simulated the individual coin flips (with 1 representing Heads and 0 Tails) and then used [`.apply()`](https://dlsun.github.io/symbulate/sim.html#apply) with the `sum` function to count the number of Heads.   The following Symbulate commands achieve the same goal by defining an  [`RV`](https://dlsun.github.io/symbulate/rv.html#Defining-a-random-variable-with-RV), `X`, which measures the number of Heads for each outcome."
   ]
  },
  {
   "cell_type": "code",
   "execution_count": null,
   "metadata": {
    "collapsed": true
   },
   "outputs": [],
   "source": [
    "P = BoxModel([1, 0], size=5)\n",
    "X = RV(P, sum)\n",
    "X.sim(10000)"
   ]
  },
  {
   "cell_type": "markdown",
   "metadata": {},
   "source": [
    "The number of Heads in five coin flips is a [**random variable**](https://dlsun.github.io/symbulate/rv.html): a function that takes as an input an outcome of a probability space and returns a real number. The first argument of [`RV`](https://dlsun.github.io/symbulate/rv.html#Defining-a-random-variable-with-RV) is the [probability space](https://dlsun.github.io/symbulate/probspace.html#Probability-Spaces) on which the [`RV`](https://dlsun.github.io/symbulate/rv.html#Defining-a-random-variable-with-RV) is defined, e.g., sequences of five 1/0s. The second argument is the function which maps outcomes in the probability space to real numbers, e.g., the `sum` of the 1/0 values.  Values of an [`RV`](https://dlsun.github.io/symbulate/rv.html#Defining-a-random-variable-with-RV) can be simulated with [`.sim()`](https://dlsun.github.io/symbulate/sim.html#sim)."
   ]
  },
  {
   "cell_type": "markdown",
   "metadata": {},
   "source": [
    "<a id='sum_of_two_dice'></a>\n",
    "### Exercise 2.2: Sum of two dice"
   ]
  },
  {
   "cell_type": "markdown",
   "metadata": {},
   "source": [
    "After defining an appropriate [`BoxModel`](https://dlsun.github.io/symbulate/probspace.html#boxmodel) probability space, define an [`RV`](https://dlsun.github.io/symbulate/rv.html#Defining-a-random-variable-with-RV) `X` representing the sum of two six-sided fair dice, and simulate 10000 values of `X`."
   ]
  },
  {
   "cell_type": "code",
   "execution_count": null,
   "metadata": {
    "collapsed": true
   },
   "outputs": [],
   "source": [
    "### Type your commands in this cell and then run using SHIFT-ENTER."
   ]
  },
  {
   "cell_type": "markdown",
   "metadata": {},
   "source": [
    "[Solution](#sol_sum_of_two_dice)"
   ]
  },
  {
   "cell_type": "markdown",
   "metadata": {},
   "source": [
    "<a id='dist_of_five_flips'></a>\n",
    "### Example 2.3: Summarizing simulation results with tables and plots"
   ]
  },
  {
   "cell_type": "markdown",
   "metadata": {},
   "source": [
    "In [Example 2.1](#counting_numb_heads) we defined a [`RV`](https://dlsun.github.io/symbulate/rv.html#Defining-a-random-variable-with-RV), X, the number of Heads in a sequence of five coin flips. Simulated values of a random variable can be summarized using [`.tabulate()`](https://dlsun.github.io/symbulate/sim.html#tabulate) (with `normalize=False` (default) for frequencies (counts) or `True` for relative frequencies (proportions))."
   ]
  },
  {
   "cell_type": "code",
   "execution_count": null,
   "metadata": {
    "collapsed": true
   },
   "outputs": [],
   "source": [
    "P = BoxModel([1, 0], size=5)\n",
    "X = RV(P, sum)\n",
    "sims = X.sim(10000)\n",
    "sims.tabulate()"
   ]
  },
  {
   "cell_type": "markdown",
   "metadata": {},
   "source": [
    "The table above can be used to approximate the distribution of the number of Heads in five coin flips.  The [*distribution*](https://dlsun.github.io/symbulate/rv.html#distribution) of a random variable specifies the possible values that the random variable can take and their relative likelihoods. The distribution of a random variable can be visualized using [`.plot()`](https://dlsun.github.io/symbulate/rv.html#Plot)."
   ]
  },
  {
   "cell_type": "code",
   "execution_count": null,
   "metadata": {
    "collapsed": true
   },
   "outputs": [],
   "source": [
    "sims.plot()"
   ]
  },
  {
   "cell_type": "markdown",
   "metadata": {},
   "source": [
    "By default, [`.plot()`](https://dlsun.github.io/symbulate/rv.html#Plot) displays relative frequencies (proportions). Use [`.plot(normalize=False)`](https://dlsun.github.io/symbulate/rv.html#Plot) to display frequencies (counts)."
   ]
  },
  {
   "cell_type": "markdown",
   "metadata": {},
   "source": [
    "<a id='dist_of_sum_of_two_dice'></a>\n",
    "### Exercise 2.4: The distribution of the  sum of two dice rolls"
   ]
  },
  {
   "cell_type": "markdown",
   "metadata": {},
   "source": [
    "Continuing [Exercise 2.2](#sum_of_two_dice) summarize with a table and a plot the distribution of the sum of two rolls of a fair six-sided die."
   ]
  },
  {
   "cell_type": "code",
   "execution_count": null,
   "metadata": {
    "collapsed": true
   },
   "outputs": [],
   "source": [
    "### Type your commands in this cell and then run using SHIFT-ENTER."
   ]
  },
  {
   "cell_type": "markdown",
   "metadata": {},
   "source": [
    "[Solution](#sol_dist_of_sum_of_two_dice)"
   ]
  },
  {
   "cell_type": "markdown",
   "metadata": {},
   "source": [
    "<a id='prob_of_three_heads'></a>\n",
    "### Example 2.5: Estimating probabilities from simulations"
   ]
  },
  {
   "cell_type": "markdown",
   "metadata": {},
   "source": [
    "There are several other [tools](https://dlsun.github.io/symbulate/sim.html) for summarizing simulations, like the [`count`](https://dlsun.github.io/symbulate/sim.html#count) functions.  For example, the following commands approximate `P(X <= 3)` for [Example 2.1](#counting_numb_heads), the probability that in five coin flips at most three of the flips land on Heads."
   ]
  },
  {
   "cell_type": "code",
   "execution_count": null,
   "metadata": {
    "collapsed": true
   },
   "outputs": [],
   "source": [
    "P = BoxModel([1, 0], size=5)\n",
    "X = RV(P, sum)\n",
    "sims = X.sim(10000)\n",
    "sims.count_leq(3)/10000"
   ]
  },
  {
   "cell_type": "markdown",
   "metadata": {},
   "source": [
    "<a id='prob_of_10_two_dice'></a>\n",
    "### Exercise 2.6: Estimating probabilities for the sum of two dice rolls"
   ]
  },
  {
   "cell_type": "markdown",
   "metadata": {},
   "source": [
    "Continuing [Exercise 2.2](#sum_of_two_dice), estimate `P(X >= 10)`, the probability that the sum of two fair six-sided dice is at least 10."
   ]
  },
  {
   "cell_type": "code",
   "execution_count": null,
   "metadata": {
    "collapsed": true
   },
   "outputs": [],
   "source": [
    "### Type your commands in this cell and then run using SHIFT-ENTER."
   ]
  },
  {
   "cell_type": "markdown",
   "metadata": {},
   "source": [
    "[Solution](#sol_prob_of_10_two_dice)"
   ]
  },
  {
   "cell_type": "markdown",
   "metadata": {},
   "source": [
    "<a id='sim_from_binom'></a>\n",
    "### Example 2.7: Specifying a RV by its distribution"
   ]
  },
  {
   "cell_type": "markdown",
   "metadata": {},
   "source": [
    "The plot in [Example 2.3](#dist_of_five_flips) displays the approximate distribution of the random variable `X`, the number of Heads in five flips of a fair coin. This distribution is called the [`Binomial`](https://dlsun.github.io/symbulate/common_discrete.html#Discrete-distributions) distribution with `n=5` trials (flips) and a probability that each trial (flip) results in success (1 i.e. Heads) equal to `p=0.5`.\n",
    "\n",
    "In the above examples the [`RV`](https://dlsun.github.io/symbulate/rv.html#Defining-a-random-variable-with-RV) `X` was explicitly defined on the probability space `P` - i.e. the [`BoxModel`](https://dlsun.github.io/symbulate/probspace.html#boxmodel) for the outcomes (1 or 0) of the five individual flips - via the `sum` function. This setup implied a Binomial(5, 0.5) distribution for `X`.\n",
    "\n",
    "In many situations the distribution of an [`RV`](https://dlsun.github.io/symbulate/rv.html#Defining-a-random-variable-with-RV) is assumed or specified directly, without mention of the underlying probabilty space or the function defining the random variable.  For example, a problem might state \"let `Y` have a Binomial distribution with `n=5` and `p=0.5`\".  The [`RV`](https://dlsun.github.io/symbulate/rv.html#Defining-a-random-variable-with-RV) command can also be used to define a random variable by specifying its distribution, as in the following."
   ]
  },
  {
   "cell_type": "code",
   "execution_count": null,
   "metadata": {
    "collapsed": true
   },
   "outputs": [],
   "source": [
    "Y = RV(Binomial(5, 0.5))\n",
    "Y.sim(10000).plot()"
   ]
  },
  {
   "cell_type": "markdown",
   "metadata": {},
   "source": [
    "By definition, a random variable must always be a function defined on a probability space.  Specifying a random variable by specifying its distribution, as in `Y = RV(Binomial(5, 0.5))`, has the effect of defining the probability space to be the distribution of the random variable and the function defined on this space to be the identity (`f(x) = x`). However, it is more appropriate to think of such a specification as defining a random variable with the given distribution on an *unspecified probability space* through an *unspecified function*.\n",
    "\n",
    "\n",
    "For example, the random variable $X$ in each of the following situations has a Binomial(5, 0.5) distribution.\n",
    "- $X$ is the number of Heads in five flips of a fair coin\n",
    "- $X$ is the number of Tails in five flips of a fair coin\n",
    "- $X$ is the number of even numbers rolled in five rolls of a fair six-sided die\n",
    "- $X$ is the number of boys in a random sample of five births\n",
    "\n",
    "Each of these situations involves a different probability space (coins, dice, births) with a random variable which counts according to different criteria (Heads, Tails, evens, boys).  These examples illustrate that knowledge that a random variable has a specific distribution (e.g. Binomial(5, 0.5)) does not necessarily convey any information about the underlying observational units or variable being measured.  This is why we say a specification like `X = RV(Binomial(5, 0.5))` defines a random variable `X` on an unspecified probability space via an unspecified function.\n",
    "\n",
    "\n",
    "The following code compares the two methods for definiting of a random variable with a Binomial(5, 0.5) distribution.  (The `jitter=True` option offsets the vertical lines so they do not coincide.)"
   ]
  },
  {
   "cell_type": "code",
   "execution_count": null,
   "metadata": {
    "collapsed": true
   },
   "outputs": [],
   "source": [
    "P = BoxModel([1, 0], size=5)\n",
    "X = RV(P, sum)\n",
    "X.sim(10000).plot(jitter=True)\n",
    "\n",
    "Y = RV(Binomial(5, 0.5))\n",
    "Y.sim(10000).plot(jitter=True)"
   ]
  },
  {
   "cell_type": "markdown",
   "metadata": {},
   "source": [
    "In addition to [`Binomial`](https://dlsun.github.io/symbulate/common_discrete.html#binomial), many other [commonly used distributions](https://dlsun.github.io/symbulate/common_discrete.html) are built in to Symbulate."
   ]
  },
  {
   "cell_type": "markdown",
   "metadata": {},
   "source": [
    "<a id='discrete_unif_dice'></a>\n",
    "### Exercise 2.8:  Simulating from a discrete Uniform model"
   ]
  },
  {
   "cell_type": "markdown",
   "metadata": {},
   "source": [
    "A random variable has a [`DiscreteUniform`](https://dlsun.github.io/symbulate/common_discrete.html#discrete) distribution with parameters `a` and `b` if it is equally likely to to be any of the integers between `a` and `b` (inclusive).  Let `X` be the roll of a fair six-sided die.  Define an `RV` `X` by specifying an appropriate `DiscreteUniform` distribution, then simulate 10000 values of `X` and summarize its approximate distribution in a plot. "
   ]
  },
  {
   "cell_type": "code",
   "execution_count": null,
   "metadata": {
    "collapsed": true
   },
   "outputs": [],
   "source": [
    "### Type your commands in this cell and then run using SHIFT-ENTER."
   ]
  },
  {
   "cell_type": "markdown",
   "metadata": {},
   "source": [
    "[Solution](#sol_expected_discrete_unif_dice)"
   ]
  },
  {
   "cell_type": "markdown",
   "metadata": {},
   "source": [
    "<a id='numb_tails'></a>\n",
    "### Example 2.9: Random variables versus distributions"
   ]
  },
  {
   "cell_type": "markdown",
   "metadata": {},
   "source": [
    "Continuing [Example 2.1](#counting_numb_heads), if `X` is the random variable representing number of Heads in five coin flips then `Y = 5 - X` is random variable representing the number of Tails."
   ]
  },
  {
   "cell_type": "code",
   "execution_count": null,
   "metadata": {
    "collapsed": true
   },
   "outputs": [],
   "source": [
    "P = BoxModel([1, 0], size=5)\n",
    "X = RV(P, sum)\n",
    "Y = 5 - X\n",
    "Y.sim(10000).tabulate()"
   ]
  },
  {
   "cell_type": "markdown",
   "metadata": {},
   "source": [
    "It is important not to confuse a random variable with its distribution.  Note that `X` and `Y` are two different random variables; they measure different things.  For example, if the outcome of the flips is `(1, 0, 0, 1, 0)` then `X = 2` but `Y = 3`.  The following code illustrates how an [`RV`](https://dlsun.github.io/symbulate/rv.html#Random-variables) can be called as a function to return its value for a particular outcome in the probability space."
   ]
  },
  {
   "cell_type": "code",
   "execution_count": null,
   "metadata": {
    "collapsed": true
   },
   "outputs": [],
   "source": [
    "outcome = (1, 0, 0, 1, 0)\n",
    "X(outcome)"
   ]
  },
  {
   "cell_type": "code",
   "execution_count": null,
   "metadata": {
    "collapsed": true
   },
   "outputs": [],
   "source": [
    "Y(outcome)"
   ]
  },
  {
   "cell_type": "markdown",
   "metadata": {},
   "source": [
    "In fact, in this example the values of `X` and `Y` are unequal for every outcome in the probability space .  However, while `X` and `Y` are two different random variables, they do have the same distribution over many outcomes."
   ]
  },
  {
   "cell_type": "code",
   "execution_count": null,
   "metadata": {
    "collapsed": true
   },
   "outputs": [],
   "source": [
    "X.sim(10000).plot(jitter=True)\n",
    "Y.sim(10000).plot(jitter=True)"
   ]
  },
  {
   "cell_type": "markdown",
   "metadata": {},
   "source": [
    "See [Example 2.7](#sim_from_binom) for further comments about the difference between random variables and distributions."
   ]
  },
  {
   "cell_type": "markdown",
   "metadata": {},
   "source": [
    "<a id='expected_value_numb_of_heads'></a>\n",
    "### Example 2.10: Expected value of the number of heads in five coin flips"
   ]
  },
  {
   "cell_type": "markdown",
   "metadata": {},
   "source": [
    "The expected value, or probability-weighted average value, of an [`RV`](https://dlsun.github.io/symbulate/rv.html#Defining-a-random-variable-with-RV) can be approximated by simulating many values of the random variable and finding the sample mean (i.e. average) using [`.mean()`](https://dlsun.github.io/symbulate/rv.html#Mean).  Continuing [Example 2.1](#counting_numb_heads), the following code estimates the expected value of the number of Heads in five coin flips."
   ]
  },
  {
   "cell_type": "code",
   "execution_count": null,
   "metadata": {
    "collapsed": true
   },
   "outputs": [],
   "source": [
    "P = BoxModel([1, 0], size=5)\n",
    "X = RV(P, sum)\n",
    "X.sim(10000).mean()"
   ]
  },
  {
   "cell_type": "markdown",
   "metadata": {},
   "source": [
    "Over many sets of five coin flips, we expect that there will be on average about 2.5 Heads per set. Note that 2.5 is *not* the number of Heads we would expect in a single set of five coin flips."
   ]
  },
  {
   "cell_type": "markdown",
   "metadata": {},
   "source": [
    "<a id='expected_value_sum_of_dice'></a>\n",
    "### Exercise 2.11: Expected value of the sum of two dice rolls"
   ]
  },
  {
   "cell_type": "markdown",
   "metadata": {},
   "source": [
    "Continuing [Exercise 2.2](#sum_of_two_dice), approximate the expected value of the sum of two six-sided dice rolls.  (Bonus: interpret the value as an appropriate long run average.)"
   ]
  },
  {
   "cell_type": "code",
   "execution_count": null,
   "metadata": {
    "collapsed": true
   },
   "outputs": [],
   "source": [
    "### Type your commands in this cell and then run using SHIFT-ENTER."
   ]
  },
  {
   "cell_type": "markdown",
   "metadata": {},
   "source": [
    "[Solution](#sol_expected_value_sum_of_dice)"
   ]
  },
  {
   "cell_type": "markdown",
   "metadata": {},
   "source": [
    "<a id='sd_numb_of_heads'></a>\n",
    "### Example 2.12: Standard deviation of the number of Heads in five coin flips"
   ]
  },
  {
   "cell_type": "markdown",
   "metadata": {},
   "source": [
    "The [expected value](https://dlsun.github.io/symbulate/rv.html#Mean) of an [`RV`](https://dlsun.github.io/symbulate/rv.html#RV) is its long run average, while the [standard deviation](https://dlsun.github.io/symbulate/rv.html#Variance) of an [`RV`](https://dlsun.github.io/symbulate/rv.html#RV) measures the average degree to which individual values of the [`RV`](https://dlsun.github.io/symbulate/rv.html#RV) vary from the expected value.  The [standard deviation](https://dlsun.github.io/symbulate/rv.html#Variance) of an [`RV`](https://dlsun.github.io/symbulate/rv.html#RV) can be approximated from simulated values with [`.sd()`](https://dlsun.github.io/symbulate/rv.html#Variance).  Continuing [Example 2.1](#counting_numb_heads), the following code estimates the standard deviation of the number of Heads in five coin flips."
   ]
  },
  {
   "cell_type": "code",
   "execution_count": null,
   "metadata": {
    "collapsed": true
   },
   "outputs": [],
   "source": [
    "P = BoxModel([1, 0], size=5)\n",
    "X = RV(P, sum)\n",
    "sims = X.sim(10000)\n",
    "sims.sd()"
   ]
  },
  {
   "cell_type": "markdown",
   "metadata": {},
   "source": [
    "Inspecting the plot in [Example 2.3](#dist_of_five_flips) we see there are many simulated values of 2 and 3, which are 0.5 units away from the expected value of 2.5.  There are relatively fewer values of 0 and 5 which are 2.5 units away from the expected value of 2.5.  Roughly, the simulated values are on average 1.1 units away from the expected value."
   ]
  },
  {
   "cell_type": "markdown",
   "metadata": {},
   "source": [
    "*Variance* is the square of the standard deviation and can be approximated with [`.var()`](https://dlsun.github.io/symbulate/rv.html#Variance)."
   ]
  },
  {
   "cell_type": "code",
   "execution_count": null,
   "metadata": {
    "collapsed": true,
    "scrolled": true
   },
   "outputs": [],
   "source": [
    "sims.var()"
   ]
  },
  {
   "cell_type": "markdown",
   "metadata": {},
   "source": [
    "<a id='sd_sum_of_dice'></a>\n",
    "### Exercise 2.13: Standard deviation of  the sum of two dice rolls"
   ]
  },
  {
   "cell_type": "markdown",
   "metadata": {},
   "source": [
    "Continuing [Exercise 2.2](#sum_of_two_dice), approximate the standard deviation of the sum of two six-sided dice rolls.  (Bonus: interpret the value.)"
   ]
  },
  {
   "cell_type": "code",
   "execution_count": null,
   "metadata": {
    "collapsed": true
   },
   "outputs": [],
   "source": [
    "### Type your commands in this cell and then run using SHIFT-ENTER."
   ]
  },
  {
   "cell_type": "markdown",
   "metadata": {},
   "source": [
    "[Solution](#sol_sd_sum_of_dice)"
   ]
  },
  {
   "cell_type": "markdown",
   "metadata": {},
   "source": [
    "<a id='dist_of_normal'></a>\n",
    "### Example 2.14: Continuous random variables"
   ]
  },
  {
   "cell_type": "markdown",
   "metadata": {},
   "source": [
    "The [`RV`](https://dlsun.github.io/symbulate/rv.html#RV)s we have seen so far have been [discrete](https://dlsun.github.io/symbulate/common_discrete.html). A discrete random variable can take at most countably many distinct values. For example, the number of Heads in five coin flips can only take values 0, 1, 2, 3, 4, 5.\n",
    "\n",
    "A [continuous](https://dlsun.github.io/symbulate/common_continuous.html) random variable can take any value in some interval of real numbers.  For example, if `X` represents the height of a randomly selected U.S. adult male then `X` is a continuous random variable.  Many continuous random variables are assumed to have a [Normal](https://dlsun.github.io/symbulate/common_continuous.html#normal) distribution.  The following simulates values of the [`RV`](https://dlsun.github.io/symbulate/rv.html#RV) `X` assuming it has a [Normal](https://dlsun.github.io/symbulate/common_continuous.html#normal)  distribution with mean 69.1 inches and standard deviation 2.9 inches."
   ]
  },
  {
   "cell_type": "code",
   "execution_count": null,
   "metadata": {
    "collapsed": true
   },
   "outputs": [],
   "source": [
    "X = RV(Normal(mean=69.1, sd=2.9))\n",
    "sims = X.sim(10000)"
   ]
  },
  {
   "cell_type": "markdown",
   "metadata": {},
   "source": [
    "The same simulation tools are available for both discrete and continuous [`RV`](https://dlsun.github.io/symbulate/rv.html#RV)s. Calling [`.plot()`](https://dlsun.github.io/symbulate/rv.html#plot) for a continuous RV produces a histogram which displays  frequencies of simulated values falling in interval \"bins\"."
   ]
  },
  {
   "cell_type": "code",
   "execution_count": null,
   "metadata": {
    "collapsed": true
   },
   "outputs": [],
   "source": [
    "sims.plot()"
   ]
  },
  {
   "cell_type": "markdown",
   "metadata": {},
   "source": [
    "The number of bins can be set using the [`bins= `](https://dlsun.github.io/symbulate/rv.html#Plot) option in [`.plot()`](https://dlsun.github.io/symbulate/rv.html#Plot)"
   ]
  },
  {
   "cell_type": "code",
   "execution_count": null,
   "metadata": {
    "collapsed": true,
    "scrolled": true
   },
   "outputs": [],
   "source": [
    "X.sim(10000).plot(bins=60)"
   ]
  },
  {
   "cell_type": "markdown",
   "metadata": {},
   "source": [
    "It is not recommended to use [`.tabulate()`](https://dlsun.github.io/symbulate/sim.html#tabulate) with continuous [`RV`](https://dlsun.github.io/symbulate/rv.html#RV)s as almost all simulated values will only occur once."
   ]
  },
  {
   "cell_type": "markdown",
   "metadata": {},
   "source": [
    "<a id='sim_unif'></a>\n",
    "### Exercise 2.15:  Simulating from a (continuous) uniform distribution"
   ]
  },
  {
   "cell_type": "markdown",
   "metadata": {},
   "source": [
    "The continuous analog of a [`BoxModel`](https://dlsun.github.io/symbulate/probspace.html#boxmodel) is a [`Uniform`](https://dlsun.github.io/symbulate/common_continuous.html#uniform) distribution which produces \"equally likely\" values in an interval with endpoints `a` and `b`. (What would you expect the plot of such a distribution to look like?)\n",
    "\n",
    "Let `X` be a random variable which has a [`Uniform`](https://dlsun.github.io/symbulate/common_continuous.html#uniform)  distribution on the interval [0, 1].  Define an appropriate [`RV`](https://dlsun.github.io/symbulate/rv.html#Defining-a-random-variable-with-RV) and use simulation to display its approximate distribution.  (Note that the underlying probability space is unspecified.)"
   ]
  },
  {
   "cell_type": "code",
   "execution_count": null,
   "metadata": {
    "collapsed": true
   },
   "outputs": [],
   "source": [
    "### Type your commands in this cell and then run using SHIFT-ENTER."
   ]
  },
  {
   "cell_type": "markdown",
   "metadata": {},
   "source": [
    "[Solution](#sol_sim_unif)"
   ]
  },
  {
   "cell_type": "markdown",
   "metadata": {},
   "source": [
    "<a id='sqrt_ex'></a>\n",
    "### Example 2.16: Transformations of random variables"
   ]
  },
  {
   "cell_type": "markdown",
   "metadata": {},
   "source": [
    "In [Example 2.9](#numb_tails) we defined a new random variable `Y = 5 - X` (the number of Tails) by transforming the `RV` `X` (the number of Heads).  A [transformation of an RV](https://dlsun.github.io/symbulate/rv.html#transform) is also an [`RV`](https://dlsun.github.io/symbulate/rv.html#Random-variables).  If `X` is an [`RV`](https://dlsun.github.io/symbulate/rv.html#Random-variables), define a new random variable  `Y = g(X)`  using `X.apply(g)`. The resulting `Y`  behaves like any other [`RV`](https://dlsun.github.io/symbulate/rv.html#Random-variables).\n",
    "Note that for arithmetic operations and many common math functions (such as `exp`, `log`, `sin`) you can simply call `g(X)` rather than `X.apply(g)`.\n",
    "\n",
    "Continuing [Example 2.1](#counting_numb_heads), let $X$ represent the number of Heads in five coin flips and define the random variable $Y = \\sqrt{X}$.  The plot below approximates the distribution of $Y$; note that the possible values of $Y$ are 0, 1, $\\sqrt{2}$, $\\sqrt{3}$, 2, and $\\sqrt{5}$."
   ]
  },
  {
   "cell_type": "code",
   "execution_count": null,
   "metadata": {
    "collapsed": true,
    "scrolled": true
   },
   "outputs": [],
   "source": [
    "P = BoxModel([1, 0], size=5)\n",
    "X = RV(P, sum)\n",
    "Y = X.apply(sqrt)\n",
    "Y.sim(10000).plot()"
   ]
  },
  {
   "cell_type": "markdown",
   "metadata": {},
   "source": [
    "The following code uses a `g(X)` definition rather than `X.apply(g)`."
   ]
  },
  {
   "cell_type": "code",
   "execution_count": null,
   "metadata": {
    "collapsed": true
   },
   "outputs": [],
   "source": [
    "P = BoxModel([1, 0], size=5)\n",
    "X = RV(P, sum)\n",
    "Y = sqrt(X)\n",
    "Y.sim(10000).plot()"
   ]
  },
  {
   "cell_type": "markdown",
   "metadata": {},
   "source": [
    "<a id='dif_normal'></a>\n",
    "### Exercise 2.17 Function of a RV that has a Uniform distribution"
   ]
  },
  {
   "cell_type": "markdown",
   "metadata": {},
   "source": [
    "In [Example 2.15](#sim_unif) we encountered uniform distributions.  Let $U$ be a random variable which has a Uniform distribution on the interval [0, 1].  Use simulation to display the approximate distribution of the random variable $Y = -\\log(U)$."
   ]
  },
  {
   "cell_type": "code",
   "execution_count": null,
   "metadata": {
    "collapsed": true
   },
   "outputs": [],
   "source": [
    "### Type your commands in this cell and then run using SHIFT-ENTER."
   ]
  },
  {
   "cell_type": "markdown",
   "metadata": {},
   "source": [
    "[Solution](#sol_dif_normal)"
   ]
  },
  {
   "cell_type": "markdown",
   "metadata": {},
   "source": [
    "<a id='Numb_distinct'></a>\n",
    "### Example 2.18: Number of switches between Heads and Tails in coin flips"
   ]
  },
  {
   "cell_type": "markdown",
   "metadata": {},
   "source": [
    "[`RV`](https://dlsun.github.io/symbulate/rv.html#Defining-a-random-variable-with-RV)s can be defined or transformed through [user defined functions](https://dlsun.github.io/symbulate/rv.html#Defining-a-random-variable-with-RV). As an example, let `Y` be the number of times a sequence of five coin flips switches between Heads and Tails (not counting the first toss). For example, for the outcome (0, 1, 0, 0, 1), a switch occurs on the second third, and fifth flip so `Y = 3`.  We define the random variable `Y` by first defining a function that takes as an input a list of values and returns as an output the number of times a switch from the previous value occurs in the sequence. ([Defining functions](https://docs.python.org/3/reference/compound_stmts.html#function-definitions) is one area where some familiarity with Python is helpful.)"
   ]
  },
  {
   "cell_type": "code",
   "execution_count": null,
   "metadata": {
    "collapsed": true
   },
   "outputs": [],
   "source": [
    "def number_switches(x):\n",
    "    count = 0\n",
    "    for i in list(range(1, len(x))):\n",
    "        if x[i] != x[i-1]:\n",
    "            count += 1\n",
    "    return count\n",
    "\n",
    "number_switches((1, 1, 1, 0, 0, 1, 0, 1, 1, 1))"
   ]
  },
  {
   "cell_type": "markdown",
   "metadata": {},
   "source": [
    "Now we can use the `number_switches` function to define the `RV` `Y` on the probability space corresponding to five flips of a fair coin."
   ]
  },
  {
   "cell_type": "code",
   "execution_count": null,
   "metadata": {
    "collapsed": true
   },
   "outputs": [],
   "source": [
    "P = BoxModel([1, 0], size=5)\n",
    "Y = RV(P, number_switches)\n",
    "\n",
    "outcome = (0, 1, 0, 0, 1)\n",
    "Y(outcome)"
   ]
  },
  {
   "cell_type": "markdown",
   "metadata": {},
   "source": [
    "An [`RV`](https://dlsun.github.io/symbulate/rv.html#Defining-a-random-variable-with-RV) defined or transformed through a user-defined function behaves like any other [`RV`](https://dlsun.github.io/symbulate/rv.html#Defining-a-random-variable-with-RV)."
   ]
  },
  {
   "cell_type": "code",
   "execution_count": null,
   "metadata": {
    "collapsed": true
   },
   "outputs": [],
   "source": [
    "Y.sim(10000).plot()"
   ]
  },
  {
   "cell_type": "markdown",
   "metadata": {},
   "source": [
    "<a id='Numb_alterations'></a>\n",
    "### Exercise 2.19: Number of distinct faces rolled in 6 rolls"
   ]
  },
  {
   "cell_type": "markdown",
   "metadata": {},
   "source": [
    "Let `X` count the number of distinct faces rolled in 6 rolls of a fair six-sided die.  For example, if the result of the rolls is (3, 3, 3, 3, 3, 3) then `X = 1`; if (6, 4, 5, 4, 6, 6) then `X=3`; etc.  Use the `number_distinct_values` function defined below to define the `RV` `X` on an appropriate probability space.  Then simulate values of `X` and plot its approximate distribution.  (The `number_distinct_values` function takes as an input a list of values and returns as an output the number of distinct values in the list. We have used the Python functions [`set`](https://docs.python.org/3/tutorial/datastructures.html#sets) and [`len`](https://docs.python.org/3/library/functions.html#len).)"
   ]
  },
  {
   "cell_type": "code",
   "execution_count": null,
   "metadata": {
    "collapsed": true
   },
   "outputs": [],
   "source": [
    "def number_distinct_values(x):\n",
    "    return len(set(x))\n",
    "\n",
    "number_distinct_values((1, 1, 4))"
   ]
  },
  {
   "cell_type": "code",
   "execution_count": null,
   "metadata": {
    "collapsed": true
   },
   "outputs": [],
   "source": [
    "### Type your commands in this cell and then run using SHIFT-ENTER."
   ]
  },
  {
   "cell_type": "markdown",
   "metadata": {},
   "source": [
    "[Solution](#sol_Numb_alterations)"
   ]
  },
  {
   "cell_type": "markdown",
   "metadata": {},
   "source": [
    "## Additional Exercises"
   ]
  },
  {
   "cell_type": "markdown",
   "metadata": {},
   "source": [
    "<a id='ev_max_of_dice'></a>\n",
    "### Exercise 2.20: Max of two dice rolls"
   ]
  },
  {
   "cell_type": "markdown",
   "metadata": {},
   "source": [
    "1) Approximate the distribution of the max of two six-sided dice rolls."
   ]
  },
  {
   "cell_type": "code",
   "execution_count": null,
   "metadata": {
    "collapsed": true
   },
   "outputs": [],
   "source": [
    "### Type your commands in this cell and then run using SHIFT-ENTER."
   ]
  },
  {
   "cell_type": "markdown",
   "metadata": {},
   "source": [
    "2) Approximate the probability that the max of two six-sided dice rolls is greater than or equal to 5."
   ]
  },
  {
   "cell_type": "code",
   "execution_count": null,
   "metadata": {
    "collapsed": true
   },
   "outputs": [],
   "source": [
    "### Type your commands in this cell and then run using SHIFT-ENTER."
   ]
  },
  {
   "cell_type": "markdown",
   "metadata": {},
   "source": [
    "3) Approximate the mean and standard deviation of the max of two six-sided dice rolls."
   ]
  },
  {
   "cell_type": "code",
   "execution_count": null,
   "metadata": {
    "collapsed": true
   },
   "outputs": [],
   "source": [
    "### Type your commands in this cell and then run using SHIFT-ENTER."
   ]
  },
  {
   "cell_type": "code",
   "execution_count": null,
   "metadata": {
    "collapsed": true
   },
   "outputs": [],
   "source": [
    "### Type your commands in this cell and then run using SHIFT-ENTER."
   ]
  },
  {
   "cell_type": "markdown",
   "metadata": {},
   "source": [
    "[Hint](#hint_ev_max_of_dice)"
   ]
  },
  {
   "cell_type": "markdown",
   "metadata": {},
   "source": [
    "[Solution](#sol_ev_max_of_dice) "
   ]
  },
  {
   "cell_type": "markdown",
   "metadata": {},
   "source": [
    "<a id='var_transformed_unif'></a>\n",
    "### Exercise 2.21: Transforming a random variable"
   ]
  },
  {
   "cell_type": "markdown",
   "metadata": {},
   "source": [
    "Let $X$ have a [`Uniform`](https://dlsun.github.io/symbulate/common_continuous.html#uniform) distribution on the interval [0, 3] and let $Y = 2\\cos(X)$.\n",
    "\n",
    "1) Approximate the distribution of $Y$."
   ]
  },
  {
   "cell_type": "code",
   "execution_count": null,
   "metadata": {
    "collapsed": true
   },
   "outputs": [],
   "source": [
    "### Type your commands in this cell and then run using SHIFT-ENTER."
   ]
  },
  {
   "cell_type": "markdown",
   "metadata": {},
   "source": [
    "2) Approximate the probability that the $Y$ is less than 1."
   ]
  },
  {
   "cell_type": "code",
   "execution_count": null,
   "metadata": {
    "collapsed": true
   },
   "outputs": [],
   "source": [
    "### Type your commands in this cell and then run using SHIFT-ENTER."
   ]
  },
  {
   "cell_type": "markdown",
   "metadata": {},
   "source": [
    "3) Approximate the mean and standard deviation of $Y$."
   ]
  },
  {
   "cell_type": "code",
   "execution_count": null,
   "metadata": {
    "collapsed": true
   },
   "outputs": [],
   "source": [
    "### Type your commands in this cell and then run using SHIFT-ENTER."
   ]
  },
  {
   "cell_type": "code",
   "execution_count": null,
   "metadata": {
    "collapsed": true
   },
   "outputs": [],
   "source": [
    "### Type your commands in this cell and then run using SHIFT-ENTER."
   ]
  },
  {
   "cell_type": "markdown",
   "metadata": {},
   "source": [
    "[Hint](#hint_var_transformed_unif)"
   ]
  },
  {
   "cell_type": "markdown",
   "metadata": {},
   "source": [
    "[Solution](#sol_var_transformed_unif) "
   ]
  },
  {
   "cell_type": "markdown",
   "metadata": {},
   "source": [
    "<a id='log_normal'></a>\n",
    "### Exercise 2.22: Function of a random variable."
   ]
  },
  {
   "cell_type": "markdown",
   "metadata": {},
   "source": [
    "Let $X$ be a random variable which has a Normal(0,1) distribution.  Let $Y = e^X$. "
   ]
  },
  {
   "cell_type": "markdown",
   "metadata": {},
   "source": [
    "1) Use simulation to display the approximate distribution of $Y$."
   ]
  },
  {
   "cell_type": "code",
   "execution_count": null,
   "metadata": {
    "collapsed": true
   },
   "outputs": [],
   "source": [
    "### Type your commands in this cell and then run using SHIFT-ENTER."
   ]
  },
  {
   "cell_type": "markdown",
   "metadata": {},
   "source": [
    "2) Approximate the probability that the $Y$ is greater than 2."
   ]
  },
  {
   "cell_type": "code",
   "execution_count": null,
   "metadata": {
    "collapsed": true
   },
   "outputs": [],
   "source": [
    "### Type your commands in this cell and then run using SHIFT-ENTER."
   ]
  },
  {
   "cell_type": "markdown",
   "metadata": {},
   "source": [
    "3) Approximate the mean and standard deviation of $Y$."
   ]
  },
  {
   "cell_type": "code",
   "execution_count": null,
   "metadata": {
    "collapsed": true
   },
   "outputs": [],
   "source": [
    "### Type your commands in this cell and then run using SHIFT-ENTER."
   ]
  },
  {
   "cell_type": "code",
   "execution_count": null,
   "metadata": {
    "collapsed": true
   },
   "outputs": [],
   "source": [
    "### Type your commands in this cell and then run using SHIFT-ENTER."
   ]
  },
  {
   "cell_type": "markdown",
   "metadata": {},
   "source": [
    "[Hint](#hint_log_normal)"
   ]
  },
  {
   "cell_type": "markdown",
   "metadata": {},
   "source": [
    "[Solution](#sol_log_normal) "
   ]
  },
  {
   "cell_type": "markdown",
   "metadata": {},
   "source": [
    "<a id='hints'></a>\n",
    "## Hints for Additional Exercises"
   ]
  },
  {
   "cell_type": "markdown",
   "metadata": {
    "collapsed": true
   },
   "source": [
    "<a id='hint_ev_max_of_dice'></a>\n",
    "### Exercise 2.20: Hint"
   ]
  },
  {
   "cell_type": "markdown",
   "metadata": {},
   "source": [
    "In [Exercise 2.2](#sum_of_two_dice) we simulated the sum of two six-sided dice rolls.  Define an [`RV`](https://dlsun.github.io/symbulate/rv.html#RV) using the `max` function to return the larger of the two rolls.  In [Example 2.5](#prob_of_three_heads) we estimated the probability of a random variable taking a value. In [Example 2.10](#expected_value_numb_of_heads) we applied the [`.mean()`](https://dlsun.github.io/symbulate/rv.html#mean) funtion to return the long run expected average. In [Example 2.12](#sd_numb_of_heads) we estimated the standard deviation."
   ]
  },
  {
   "cell_type": "markdown",
   "metadata": {},
   "source": [
    "[Back](#ev_max_of_dice)"
   ]
  },
  {
   "cell_type": "markdown",
   "metadata": {
    "collapsed": true
   },
   "source": [
    "<a id='hint_var_transformed_unif'></a>\n",
    "### Exercise 2.21: Hint"
   ]
  },
  {
   "cell_type": "markdown",
   "metadata": {},
   "source": [
    "[Example 2.9](#numb_tails) introduces transformations. In [Exercise 2.15](#sim_unif) we simulated an RV that had a Uniform distribution. In [Example 2.5](#prob_of_three_heads) we estimated the probabilities for a RV. In [Example 2.10](#expected_value_numb_of_heads) we applied the [`.mean()`](https://dlsun.github.io/symbulate/rv.html#mean) funtion to return the long run expected average. In [Example 2.12](#sd_numb_of_heads) we estimated the standard deviation."
   ]
  },
  {
   "cell_type": "markdown",
   "metadata": {
    "collapsed": true
   },
   "source": [
    "[Back](#var_transformed_unif)"
   ]
  },
  {
   "cell_type": "markdown",
   "metadata": {
    "collapsed": true
   },
   "source": [
    "<a id='hint_log_normal'></a>\n",
    "### Exercise 2.22: Hint"
   ]
  },
  {
   "cell_type": "markdown",
   "metadata": {},
   "source": [
    "In [Example 2.14](#dist_of_norm) we simulated an RV with a Normal distribution. In [Example 2.9](#numb_tails) we defined a random variable as a function of another random variable. In [Example 2.5](#prob_of_three_heads) we estimated the probability of a random variable taking a value. In [Example 2.10](#expected_value_numb_of_heads) we applied the [.mean()](https://dlsun.github.io/symbulate/rv.html#mean) funtion to return the long run expected average. In [Example 2.12](#sd_numb_of_heads) we estimated the standard deviation."
   ]
  },
  {
   "cell_type": "markdown",
   "metadata": {
    "collapsed": true
   },
   "source": [
    "[Back](#log_normal)"
   ]
  },
  {
   "cell_type": "markdown",
   "metadata": {},
   "source": [
    "## Solutions to Exercises"
   ]
  },
  {
   "cell_type": "markdown",
   "metadata": {},
   "source": [
    "<a id='sol_sum_of_two_dice'></a>\n",
    "## Exercise 2.2: Solution"
   ]
  },
  {
   "cell_type": "code",
   "execution_count": null,
   "metadata": {
    "collapsed": true
   },
   "outputs": [],
   "source": [
    "P = BoxModel([1, 2, 3, 4, 5, 6], size=2)\n",
    "X = RV(P, sum)\n",
    "X.sim(10000)"
   ]
  },
  {
   "cell_type": "markdown",
   "metadata": {},
   "source": [
    "[Back](#dist_of_five_flips)\n",
    "<a id='sol_dist_of_sum_of_two_dice'></a>\n",
    "## Exercise 2.4: Solution"
   ]
  },
  {
   "cell_type": "code",
   "execution_count": null,
   "metadata": {
    "collapsed": true
   },
   "outputs": [],
   "source": [
    "P = BoxModel([1, 2, 3, 4, 5, 6], size=2)\n",
    "X = RV(P, sum)\n",
    "sims = X.sim(10000)\n",
    "sims.tabulate(normalize=True)"
   ]
  },
  {
   "cell_type": "code",
   "execution_count": null,
   "metadata": {
    "collapsed": true
   },
   "outputs": [],
   "source": [
    "sims.plot()"
   ]
  },
  {
   "cell_type": "markdown",
   "metadata": {},
   "source": [
    "[Back](#prob_of_three_heads)\n",
    "<a id='sol_prob_of_10_two_dice'></a>\n",
    "## Exercise 2.6: Solution"
   ]
  },
  {
   "cell_type": "code",
   "execution_count": null,
   "metadata": {
    "collapsed": true
   },
   "outputs": [],
   "source": [
    "P = BoxModel([1, 2, 3, 4, 5, 6], size=2)\n",
    "X = RV(P, sum)\n",
    "sims = X.sim(10000)\n",
    "sims.count_geq(10) / 10000"
   ]
  },
  {
   "cell_type": "markdown",
   "metadata": {},
   "source": [
    "[Back](#sim_from_binom)\n",
    "<a id='sol_expected_discrete_unif_dice'></a>\n",
    "## Exercise 2.8: Solution"
   ]
  },
  {
   "cell_type": "code",
   "execution_count": null,
   "metadata": {
    "collapsed": true
   },
   "outputs": [],
   "source": [
    "X = RV(DiscreteUniform(a=1, b=6))\n",
    "X.sim(10000).plot(normalize=True)"
   ]
  },
  {
   "cell_type": "markdown",
   "metadata": {},
   "source": [
    "[Back](#numb_tails)\n",
    "<a id='sol_expected_value_sum_of_dice'></a>\n",
    "## Exercise 2.11: Solution"
   ]
  },
  {
   "cell_type": "code",
   "execution_count": null,
   "metadata": {
    "collapsed": true
   },
   "outputs": [],
   "source": [
    "P = BoxModel([1, 2, 3, 4, 5, 6], size=2)\n",
    "X = RV(P, sum)\n",
    "X.sim(10000).mean()"
   ]
  },
  {
   "cell_type": "markdown",
   "metadata": {},
   "source": [
    "Over many pairs of rolls of fair six-sided dice, we expect that on average the sum of the two rolls will be about 7."
   ]
  },
  {
   "cell_type": "markdown",
   "metadata": {},
   "source": [
    "[Back](#sd_numb_of_heads)\n",
    "<a id='sol_sd_sum_of_dice'></a>\n",
    "## Exercise 2.13: Solution"
   ]
  },
  {
   "cell_type": "code",
   "execution_count": null,
   "metadata": {
    "collapsed": true
   },
   "outputs": [],
   "source": [
    "P = BoxModel([1, 2, 3, 4, 5, 6], size=2)\n",
    "X = RV(P, sum)\n",
    "X.sim(10000).sd()"
   ]
  },
  {
   "cell_type": "markdown",
   "metadata": {},
   "source": [
    "Over many pairs of rolls of fair six-sided dice, the values of the sum are on average roughly 2.4 units away from the expected value of 7."
   ]
  },
  {
   "cell_type": "markdown",
   "metadata": {},
   "source": [
    "[Back](#dist_of_normal)\n",
    "<a id='sol_sim_unif'></a>\n",
    "## Exercise 2.15: Solution"
   ]
  },
  {
   "cell_type": "code",
   "execution_count": null,
   "metadata": {
    "collapsed": true,
    "scrolled": false
   },
   "outputs": [],
   "source": [
    "X = RV(Uniform(a=0, b=1))\n",
    "X.sim(10000).plot()"
   ]
  },
  {
   "cell_type": "markdown",
   "metadata": {},
   "source": [
    "[Back](#sqrt_ex)\n",
    "<a id='sol_dif_normal'></a>\n",
    "## Exercise 2.17: Solution"
   ]
  },
  {
   "cell_type": "code",
   "execution_count": null,
   "metadata": {
    "collapsed": true,
    "scrolled": true
   },
   "outputs": [],
   "source": [
    "U = RV(Uniform(a=0, b=1))\n",
    "Y = -log(U)\n",
    "Y.sim(10000).plot()"
   ]
  },
  {
   "cell_type": "markdown",
   "metadata": {},
   "source": [
    "Note that the [`RV`](https://dlsun.github.io/symbulate/rv.html#Random-variables) has an [Exponential(1)](https://dlsun.github.io/symbulate/common_discrete.html#exponential) distribution."
   ]
  },
  {
   "cell_type": "markdown",
   "metadata": {},
   "source": [
    "[Back](#Numb_distinct)\n",
    "<a id='sol_Numb_alterations'></a>\n",
    "## Exercise 2.19: Solution"
   ]
  },
  {
   "cell_type": "code",
   "execution_count": null,
   "metadata": {
    "collapsed": true
   },
   "outputs": [],
   "source": [
    "def number_distinct_values(x):\n",
    "    return len(set(x))\n",
    "\n",
    "P = BoxModel([1,2,3,4,5,6], size=6)\n",
    "X = RV(P, number_distinct_values)\n",
    "X.sim(10000).plot()"
   ]
  },
  {
   "cell_type": "markdown",
   "metadata": {},
   "source": [
    "[Back](#ev_max_of_dice)"
   ]
  },
  {
   "cell_type": "markdown",
   "metadata": {},
   "source": [
    "<a id='sol_ev_max_of_dice'></a>\n",
    "## Exercise 2.20: Solution"
   ]
  },
  {
   "cell_type": "markdown",
   "metadata": {},
   "source": [
    "1) Approximate the distribution of the max of two six-sided dice rolls."
   ]
  },
  {
   "cell_type": "code",
   "execution_count": null,
   "metadata": {
    "collapsed": true
   },
   "outputs": [],
   "source": [
    "P = BoxModel([1, 2, 3, 4, 5, 6], size=2)\n",
    "X = RV(P, max)\n",
    "sims = X.sim(10000)\n",
    "sims.plot()"
   ]
  },
  {
   "cell_type": "markdown",
   "metadata": {},
   "source": [
    "2) Approximate the probability that the max of two six-sided dice rolls is greater than or equal to 5."
   ]
  },
  {
   "cell_type": "code",
   "execution_count": null,
   "metadata": {
    "collapsed": true
   },
   "outputs": [],
   "source": [
    "sims.count_geq(5)/10000"
   ]
  },
  {
   "cell_type": "markdown",
   "metadata": {},
   "source": [
    "3) Approximate the mean and standard deviation of the max of two six-sided dice rolls."
   ]
  },
  {
   "cell_type": "code",
   "execution_count": null,
   "metadata": {
    "collapsed": true
   },
   "outputs": [],
   "source": [
    "sims.mean()"
   ]
  },
  {
   "cell_type": "code",
   "execution_count": null,
   "metadata": {
    "collapsed": true
   },
   "outputs": [],
   "source": [
    "sims.sd()"
   ]
  },
  {
   "cell_type": "markdown",
   "metadata": {},
   "source": [
    "[Back](#var_transformed_unif)"
   ]
  },
  {
   "cell_type": "markdown",
   "metadata": {},
   "source": [
    "<a id='sol_var_transformed_unif'></a>\n",
    "## Exercise 2.21: Solution"
   ]
  },
  {
   "cell_type": "markdown",
   "metadata": {},
   "source": [
    "1) Approximate the distribution of $Y$."
   ]
  },
  {
   "cell_type": "code",
   "execution_count": null,
   "metadata": {
    "collapsed": true,
    "scrolled": true
   },
   "outputs": [],
   "source": [
    "X = RV(Uniform(0, 3))\n",
    "Y = 2 * cos(X)\n",
    "sims = Y.sim(10000)\n",
    "sims.plot()"
   ]
  },
  {
   "cell_type": "markdown",
   "metadata": {},
   "source": [
    "Alternatively,"
   ]
  },
  {
   "cell_type": "code",
   "execution_count": null,
   "metadata": {
    "collapsed": true
   },
   "outputs": [],
   "source": [
    "X = RV(Uniform(0, 3))\n",
    "Y = 2 * X.apply(cos)\n",
    "sims = Y.sim(10000)\n",
    "sims.plot()"
   ]
  },
  {
   "cell_type": "markdown",
   "metadata": {},
   "source": [
    "2) Approximate the probability that the Y is less than 2."
   ]
  },
  {
   "cell_type": "code",
   "execution_count": null,
   "metadata": {
    "collapsed": true
   },
   "outputs": [],
   "source": [
    "sims.count_lt(1)/10000"
   ]
  },
  {
   "cell_type": "markdown",
   "metadata": {},
   "source": [
    "3) Approximate the mean and standard deviation of Y."
   ]
  },
  {
   "cell_type": "code",
   "execution_count": null,
   "metadata": {
    "collapsed": true
   },
   "outputs": [],
   "source": [
    "sims.mean()"
   ]
  },
  {
   "cell_type": "code",
   "execution_count": null,
   "metadata": {
    "collapsed": true
   },
   "outputs": [],
   "source": [
    "sims.sd()"
   ]
  },
  {
   "cell_type": "markdown",
   "metadata": {},
   "source": [
    "[Back](#log_normal)"
   ]
  },
  {
   "cell_type": "markdown",
   "metadata": {},
   "source": [
    "<a id='sol_log_normal'></a>\n",
    "## Exercise 2.22: Solution"
   ]
  },
  {
   "cell_type": "markdown",
   "metadata": {},
   "source": [
    "1) Use simulation to display the approximate distribution of Y."
   ]
  },
  {
   "cell_type": "code",
   "execution_count": null,
   "metadata": {
    "collapsed": true
   },
   "outputs": [],
   "source": [
    "X = RV(Normal(0, 1))\n",
    "Y = exp(X)\n",
    "sims = Y.sim(10000)\n",
    "sims.plot()"
   ]
  },
  {
   "cell_type": "markdown",
   "metadata": {},
   "source": [
    "2) Approximate the probability that the Y is greater than 2."
   ]
  },
  {
   "cell_type": "code",
   "execution_count": null,
   "metadata": {
    "collapsed": true
   },
   "outputs": [],
   "source": [
    "sims.count_gt(2)/10000"
   ]
  },
  {
   "cell_type": "markdown",
   "metadata": {},
   "source": [
    "3) Approximate the mean and standard deviation of Y."
   ]
  },
  {
   "cell_type": "code",
   "execution_count": null,
   "metadata": {
    "collapsed": true
   },
   "outputs": [],
   "source": [
    "sims.mean()"
   ]
  },
  {
   "cell_type": "code",
   "execution_count": null,
   "metadata": {
    "collapsed": true
   },
   "outputs": [],
   "source": [
    "sims.sd()"
   ]
  },
  {
   "cell_type": "markdown",
   "metadata": {},
   "source": [
    "[Back](#hints)"
   ]
  },
  {
   "cell_type": "markdown",
   "metadata": {},
   "source": [
    "<[Probability Spaces](gs_probspace.ipynb) | [Contents](index.ipynb) | [Multiple random variables and joint distributions](gs_joint.ipynb)>"
   ]
  }
 ],
 "metadata": {
  "kernelspec": {
   "display_name": "Python 3",
   "language": "python",
   "name": "python3"
  },
  "language_info": {
   "codemirror_mode": {
    "name": "ipython",
    "version": 3
   },
   "file_extension": ".py",
   "mimetype": "text/x-python",
   "name": "python",
   "nbconvert_exporter": "python",
   "pygments_lexer": "ipython3",
   "version": "3.6.1"
  }
 },
 "nbformat": 4,
 "nbformat_minor": 2
}
