{
 "cells": [
  {
   "cell_type": "markdown",
   "metadata": {},
   "source": [
    "#CSW access with OWSLib using ISO queryables \n",
    "\n",
    "Demonstration of how to use the OGC Catalog Services for the Web (CSW) to search for find all datasets containing a specified variable that fall withing a specified date range and geospatial bounding box, and then use the data access service contained in the returned metadata to retrieve and visualize the data.  <P> Here we are accessing a Geoportal Server CSW, but in the future we should be able to point it toward any another CSW service, such as the one provided by catalog.data.gov."
   ]
  },
  {
   "cell_type": "code",
   "execution_count": 28,
   "metadata": {
    "collapsed": false
   },
   "outputs": [],
   "source": [
    "from pylab import *\n",
    "from owslib.csw import CatalogueServiceWeb\n",
    "from owslib.sos import SensorObservationService\n",
    "from owslib import fes\n",
    "import netCDF4\n",
    "import pandas as pd\n",
    "import datetime as dt\n",
    "from IPython.core.display import HTML"
   ]
  },
  {
   "cell_type": "code",
   "execution_count": 29,
   "metadata": {
    "collapsed": false
   },
   "outputs": [
    {
     "data": {
      "text/html": [
       "<iframe src=http://www.nodc.noaa.gov/geoportal/ width=950 height=400></iframe>"
      ],
      "text/plain": [
       "<IPython.core.display.HTML at 0x3baf610>"
      ]
     },
     "execution_count": 29,
     "metadata": {},
     "output_type": "execute_result"
    }
   ],
   "source": [
    "HTML('<iframe src=http://www.nodc.noaa.gov/geoportal/ width=950 height=400></iframe>')"
   ]
  },
  {
   "cell_type": "code",
   "execution_count": 3,
   "metadata": {
    "collapsed": false
   },
   "outputs": [
    {
     "data": {
      "text/plain": [
       "'2.0.2'"
      ]
     },
     "execution_count": 3,
     "metadata": {},
     "output_type": "execute_result"
    }
   ],
   "source": [
    "# connect to CSW, explore it's properties\n",
    "\n",
    "endpoint = 'http://www.ngdc.noaa.gov/geoportal/csw' # NGDC Geoportal\n",
    "\n",
    "#endpoint = 'http://www.nodc.noaa.gov/geoportal/csw'   # NODC Geoportal: granule level\n",
    "#endpoint = 'http://data.nodc.noaa.gov/geoportal/csw'  # NODC Geoportal: collection level   \n",
    "#endpoint = 'http://geodiscover.cgdi.ca/wes/serviceManagerCSW/csw'  # NRCAN CUSTOM\n",
    "#endpoint = 'http://geoport.whoi.edu/gi-cat/services/cswiso' # USGS Woods Hole GI_CAT\n",
    "#endpoint = 'http://cida.usgs.gov/gdp/geonetwork/srv/en/csw' # USGS CIDA Geonetwork\n",
    "#endpoint = 'http://cmgds.marine.usgs.gov/geonetwork/srv/en/csw' # USGS Coastal and Marine Program\n",
    "#endpoint = 'http://geoport.whoi.edu/geoportal/csw' # USGS Woods Hole Geoportal \n",
    "#endpoint = 'http://geo.gov.ckan.org/csw'  # CKAN testing site for new Data.gov\n",
    "#endpoint = 'https://edg.epa.gov/metadata/csw'  # EPA\n",
    "#endpoint = 'http://cwic.csiss.gmu.edu/cwicv1/discovery'  # CWIC\n",
    "\n",
    "csw = CatalogueServiceWeb(endpoint,timeout=60)\n",
    "csw.version"
   ]
  },
  {
   "cell_type": "code",
   "execution_count": 30,
   "metadata": {
    "collapsed": false
   },
   "outputs": [
    {
     "data": {
      "text/plain": [
       "<owslib.fes.FilterCapabilities at 0x3babdd0>"
      ]
     },
     "execution_count": 30,
     "metadata": {},
     "output_type": "execute_result"
    }
   ],
   "source": []
  },
  {
   "cell_type": "markdown",
   "metadata": {},
   "source": [
    "On the GeoIDE Wiki they give some example CSW examples to illustrate the range possibilities.  Here's one where to search for PACIOOS WMS services:"
   ]
  },
  {
   "cell_type": "code",
   "execution_count": 31,
   "metadata": {
    "collapsed": false
   },
   "outputs": [
    {
     "data": {
      "text/html": [
       "<iframe src=https://geo-ide.noaa.gov/wiki/index.php?title=ESRI_Geoportal#PacIOOS_WAF width=950 height=350></iframe>"
      ],
      "text/plain": [
       "<IPython.core.display.HTML at 0x3baf790>"
      ]
     },
     "execution_count": 31,
     "metadata": {},
     "output_type": "execute_result"
    }
   ],
   "source": [
    "HTML('<iframe src=https://geo-ide.noaa.gov/wiki/index.php?title=ESRI_Geoportal#PacIOOS_WAF width=950 height=350></iframe>')\n"
   ]
  },
  {
   "cell_type": "markdown",
   "metadata": {},
   "source": [
    "Also on the GEO-IDE Wiki we find the list of UUIDs for each region/provider, which we turn into a dictionary here:"
   ]
  },
  {
   "cell_type": "code",
   "execution_count": 33,
   "metadata": {
    "collapsed": false
   },
   "outputs": [],
   "source": [
    "regionids = {'AOOS':\t'{1E96581F-6B73-45AD-9F9F-2CC3FED76EE6}',\n",
    "'CENCOOS':\t'{BE483F24-52E7-4DDE-909F-EE8D4FF118EA}',\n",
    "'CARICOOS':\t'{0C4CA8A6-5967-4590-BFE0-B8A21CD8BB01}',\n",
    "'GCOOS':\t'{E77E250D-2D65-463C-B201-535775D222C9}',\n",
    "'GLOS':\t'{E4A9E4F4-78A4-4BA0-B653-F548D74F68FA}',\n",
    "'MARACOOS':\t'{A26F8553-798B-4B1C-8755-1031D752F7C2}',\n",
    "'NANOOS':\t'{C6F4754B-30DC-459E-883A-2AC79DA977AB}',\n",
    "'NAVY':\t'{FB160233-7C3B-4841-AD4B-EB5AD843E743}',\n",
    "'NDBC':\t'{B3F50F38-3DE4-4EC9-ABF8-955887829FCC}',\n",
    "'NERACOOS':\t'{E13C88D9-3FF3-4232-A379-84B6A1D7083E}',\n",
    "'NOS/CO-OPS':\t'{2F58127E-A139-4A45-83F2-9695FB704306}',\n",
    "'PacIOOS':\t'{78C0463E-2FCE-4AB2-A9C9-6A34BF261F52}',\n",
    "'SCCOOS':\t'{20A3408F-9EC4-4B36-8E10-BBCDB1E81BDF}',\n",
    "'SECOORA':\t'{E796C954-B248-4118-896C-42E6FAA6EDE9}',\n",
    "'USACE':\t'{4C080A33-F3C3-4F27-AF16-F85BF3095C41}',\n",
    "'USGS/CMGP': '{275DFB94-E58A-4157-8C31-C72F372E72E}'}"
   ]
  },
  {
   "cell_type": "code",
   "execution_count": 34,
   "metadata": {
    "collapsed": false
   },
   "outputs": [
    {
     "data": {
      "text/plain": [
       "['GetCapabilities',\n",
       " 'DescribeRecord',\n",
       " 'GetRecords',\n",
       " 'GetRecordById',\n",
       " 'Transaction']"
      ]
     },
     "execution_count": 34,
     "metadata": {},
     "output_type": "execute_result"
    }
   ],
   "source": [
    "[op.name for op in csw.operations]"
   ]
  },
  {
   "cell_type": "code",
   "execution_count": 35,
   "metadata": {
    "collapsed": false
   },
   "outputs": [],
   "source": [
    "def dateRange(start_date='1900-01-01',stop_date='2100-01-01',constraint='overlaps'):\n",
    "    if constraint == 'overlaps':\n",
    "        start = fes.PropertyIsLessThanOrEqualTo(propertyname='startDate', literal=stop_date)\n",
    "        stop = fes.PropertyIsGreaterThanOrEqualTo(propertyname='endDate', literal=start_date)\n",
    "    elif constraint == 'within':\n",
    "        start = fes.PropertyIsGreaterThanOrEqualTo(propertyname='startDate', literal=start_date)\n",
    "        stop = fes.PropertyIsLessThanOrEqualTo(propertyname='endDate', literal=stop_date)\n",
    "    return start,stop"
   ]
  },
  {
   "cell_type": "code",
   "execution_count": 80,
   "metadata": {
    "collapsed": false
   },
   "outputs": [],
   "source": [
    "# get specific ServiceType URL from records\n",
    "def service_urls(records,service_string='urn:x-esri:specification:ServiceType:odp:url'):\n",
    "    urls=[]\n",
    "    for key,rec in records.iteritems():\n",
    "        #create a generator object, and iterate through it until the match is found\n",
    "        #if not found, gets the default value (here \"none\")\n",
    "        url = next((d['url'] for d in rec.references if d['scheme'] == service_string), None)\n",
    "        if url is not None:\n",
    "            urls.append(url)\n",
    "    return urls"
   ]
  },
  {
   "cell_type": "code",
   "execution_count": 74,
   "metadata": {
    "collapsed": false
   },
   "outputs": [],
   "source": [
    "# Perform the CSW query, using Kyle's cool new filters on ISO queryables\n",
    "# find all datasets in a bounding box and temporal extent that have \n",
    "# specific keywords and also can be accessed via OPeNDAP  \n",
    "\n",
    "box=[-89.0, 30.0, -87.0, 31.0]\n",
    "start_date='2013-08-21'\n",
    "stop_date='2013-08-30'\n",
    "std_name = 'temperature'\n",
    "service_type='SOS'\n",
    "region_id = regionids['GCOOS']\n",
    "\n",
    "# convert User Input into FES filters\n",
    "start,stop = dateRange(start_date,stop_date,constraint='overlaps')\n",
    "bbox = fes.BBox(box)\n",
    "keywords = fes.PropertyIsLike(propertyname='anyText', literal=std_name)\n",
    "serviceType = fes.PropertyIsLike(propertyname='apiso:ServiceType', literal=('*%s*' % service_type))\n",
    "siteid = fes.PropertyIsEqualTo(propertyname='sys.siteuuid', literal=region_id)"
   ]
  },
  {
   "cell_type": "code",
   "execution_count": 75,
   "metadata": {
    "collapsed": false
   },
   "outputs": [
    {
     "name": "stdout",
     "output_type": "stream",
     "text": [
      "carocoops:cap2:buoy\n",
      "Weatherflow, Inc. SOS\n",
      "Central & Northern California Ocean Observing System -- SOS\n",
      "carocoops:cap2:buoy\n",
      "carocoops:cap2:buoy\n",
      "Louisiana Universities Marine Consortium (LUMCON) SOS\n",
      "NOAA.NOS.CO-OPS SOS\n",
      "carocoops:cap2:buoy\n",
      "NERRS SOS\n",
      "carocoops:cap2:buoy\n",
      "carocoops:cap2:buoy\n",
      "carocoops:cap2:buoy\n",
      "Central and Northern California Ocean Observing System SOS\n",
      "Central Gulf of Mexico Ocean Observing System SOS\n",
      "carocoops:cap2:buoy\n"
     ]
    }
   ],
   "source": [
    "# try simple query with serviceType and keyword first\n",
    "csw.getrecords2(constraints=[[serviceType,keywords]],maxrecords=15,esn='full')\n",
    "for rec,item in csw.records.iteritems():\n",
    "    print item.title"
   ]
  },
  {
   "cell_type": "markdown",
   "metadata": {},
   "source": [
    "The filters can be passed as a list to getrecords2, with AND or OR implied by syntax: \n",
    "<pre>\n",
    "[a,b,c]  -->  a || b || c\n",
    "\n",
    "[[a,b,c]]  -->   a && b && c\n",
    "\n",
    "[[a,b],[c],[d],[e]] or [[a,b],c,d,e]   -->   (a && b) || c || d || e\n",
    "</pre>"
   ]
  },
  {
   "cell_type": "code",
   "execution_count": 76,
   "metadata": {
    "collapsed": false
   },
   "outputs": [
    {
     "name": "stdout",
     "output_type": "stream",
     "text": [
      "carocoops:cap2:buoy\n",
      "Weatherflow, Inc. SOS\n",
      "Central & Northern California Ocean Observing System -- SOS\n",
      "carocoops:cap2:buoy\n",
      "carocoops:cap2:buoy\n",
      "Louisiana Universities Marine Consortium (LUMCON) SOS\n",
      "NOAA.NOS.CO-OPS SOS\n",
      "carocoops:cap2:buoy\n",
      "NERRS SOS\n",
      "carocoops:cap2:buoy\n",
      "carocoops:cap2:buoy\n",
      "carocoops:cap2:buoy\n",
      "Central and Northern California Ocean Observing System SOS\n",
      "Central Gulf of Mexico Ocean Observing System SOS\n",
      "carocoops:cap2:buoy\n"
     ]
    }
   ],
   "source": [
    "# try simple query with serviceType and keyword first\n",
    "csw.getrecords2(constraints=[[serviceType,keywords]],maxrecords=15,esn='full')\n",
    "for rec,item in csw.records.iteritems():\n",
    "    print item.title"
   ]
  },
  {
   "cell_type": "code",
   "execution_count": 77,
   "metadata": {
    "collapsed": false
   },
   "outputs": [
    {
     "data": {
      "text/plain": [
       "[{'scheme': 'urn:x-esri:specification:ServiceType:ArcIMS:Metadata:Onlink',\n",
       "  'url': 'http://opendap.co-ops.nos.noaa.gov/ioos-dif-sos/SOS?service=SOS&request=GetCapabilities'},\n",
       " {'scheme': 'urn:x-esri:specification:ServiceType:ArcIMS:Metadata:Document',\n",
       "  'url': 'http://www.ngdc.noaa.gov/geoportal/csw?getxml=%7BA0CDFAA4-1667-4538-A26C-225E2AAE119A%7D'},\n",
       " {'scheme': 'urn:x-esri:specification:ServiceType:sos:url',\n",
       "  'url': 'http://opendap.co-ops.nos.noaa.gov/ioos-dif-sos/SOS?service=SOS&request=GetCapabilities'},\n",
       " {'scheme': 'urn:x-esri:specification:ServiceType:sos:url',\n",
       "  'url': 'http://opendap.co-ops.nos.noaa.gov/ioos-dif-sos/SOS?service=SOS&request=GetCapabilities'},\n",
       " {'scheme': 'urn:x-esri:specification:ServiceType:download:url',\n",
       "  'url': 'http://opendap.co-ops.nos.noaa.gov/ioos-dif-sos/SOS?service=SOS&request=GetCapabilities'}]"
      ]
     },
     "execution_count": 77,
     "metadata": {},
     "output_type": "execute_result"
    }
   ],
   "source": [
    "# check out references for one of the returned records\n",
    "csw.records['NOAA.NOS.CO-OPS SOS'].references"
   ]
  },
  {
   "cell_type": "code",
   "execution_count": 79,
   "metadata": {
    "collapsed": false
   },
   "outputs": [
    {
     "name": "stdout",
     "output_type": "stream",
     "text": [
      "Dauphin Island Sea Lab SOS\n",
      "Louisiana Universities Marine Consortium (LUMCON) SOS\n",
      "Conrad Blucher Institute for Surveying and Science at Texas A&M University-Corpus Christi SOS\n",
      "WAVCIS SOS DATA SERVICE\n",
      "Central Gulf of Mexico Ocean Observing System SOS\n",
      "University of South Florida COMPS SOS\n"
     ]
    }
   ],
   "source": [
    "# filter for GCOOS SOS data\n",
    "csw.getrecords2(constraints=[[keywords,serviceType,siteid]],maxrecords=15,esn='full')\n",
    "for rec,item in csw.records.iteritems():\n",
    "    print item.title"
   ]
  },
  {
   "cell_type": "code",
   "execution_count": 78,
   "metadata": {
    "collapsed": false
   },
   "outputs": [
    {
     "name": "stdout",
     "output_type": "stream",
     "text": [
      "National Data Buoy Center SOS\n",
      "Weatherflow, Inc. SOS\n",
      "Central Gulf of Mexico Ocean Observing System SOS\n",
      "NOAA.NOS.CO-OPS SOS\n",
      "Dauphin Island Sea Lab SOS\n"
     ]
    }
   ],
   "source": [
    "# filter for SOS data in BBOX\n",
    "csw.getrecords2(constraints=[[keywords,serviceType,bbox]],maxrecords=15,esn='full')\n",
    "for rec,item in csw.records.iteritems():\n",
    "    print item.title"
   ]
  },
  {
   "cell_type": "code",
   "execution_count": 89,
   "metadata": {
    "collapsed": false
   },
   "outputs": [
    {
     "name": "stdout",
     "output_type": "stream",
     "text": [
      "http://gcoos.disl.org/cgi-bin/oostethys_sos.cgi?service=SOS&request=GetCapabilities\n",
      "http://weather.lumcon.edu/sos/oostethys_server.asp?service=SOS&request=GetCapabilities\n",
      "http://lighthouse.tamucc.edu/sos?service=SOS&request=GetCapabilities\n",
      "http://www.wavcis.lsu.edu/gcoos/oostethys_server.asp?service=SOS&request=GetCapabilities\n",
      "http://www.cengoos.org/cgi-bin/oostethys_sos.cgi?service=SOS&request=GetCapabilities\n",
      "http://comps.marine.usf.edu/cgi-bin/sos/v1.0/oostethys_sos.cgi?service=SOS&request=GetCapabilities\n"
     ]
    }
   ],
   "source": [
    "urls = service_urls(csw.records,service_string='urn:x-esri:specification:ServiceType:sos:url')\n",
    "print \"\\n\".join(urls)"
   ]
  },
  {
   "cell_type": "code",
   "execution_count": 90,
   "metadata": {
    "collapsed": false
   },
   "outputs": [
    {
     "name": "stdout",
     "output_type": "stream",
     "text": [
      "http://lighthouse.tamucc.edu/sos?service=SOS&request=GetCapabilities\n"
     ]
    }
   ],
   "source": [
    "urls = [url for url in urls if 'oostethys' not in url]\n",
    "print \"\\n\".join(urls)"
   ]
  },
  {
   "cell_type": "code",
   "execution_count": 100,
   "metadata": {
    "collapsed": false
   },
   "outputs": [],
   "source": [
    "sos = SensorObservationService(urls[0])"
   ]
  },
  {
   "cell_type": "code",
   "execution_count": 101,
   "metadata": {
    "collapsed": false
   },
   "outputs": [],
   "source": [
    "getob = sos.get_operation_by_name('getobservation')"
   ]
  },
  {
   "cell_type": "code",
   "execution_count": 102,
   "metadata": {
    "collapsed": false
   },
   "outputs": [
    {
     "name": "stdout",
     "output_type": "stream",
     "text": [
      "{'eventTime': {'values': []}, 'observedProperty': {'values': ['air_pressure', 'air_temperature', 'chl_concentration', 'conductivity', 'current_speed', 'depth', 'eastward_current', 'northward_current', 'oxygen_concentration', 'oxygen_saturation', 'photosynthetically_available_radiation', 'relative_humidity', 'salinity', 'sea_surface_elevation', 'signifcant_wave_height', 'signifcant_wave_to_direction', 'significant_wave_period', 'specific_conductance', 'turbidity', 'vertical_current', 'voltage', 'water_pressure', 'water_temperature', 'wind_from_direction', 'wind_gust', 'wind_speed']}, 'offering': {'values': ['001', '002', '003', '004', '005', '006', '007', '008', '009', '010', '011', '012', '013', '017', '023', '024', '025', '026', '028', '029', '030', '031', '032', '033', '034', '035', '036', '037', '038', '039', '041', '042', '043', '046', '047', '048', '049', '050', '051', '054', '057', '058', '059', '060', '061', '064', '065', '068', '069', '072', '074', '075', '076', '077', '078', '079', '080', '082', '083', '084', '085', '086', '087', '088', '089', '090', '094', '095', '096', '098', '100', '106', '108', '109', '110', '111', '113', '114', '115', '116', '117', '118', '119', '121', '122', '123', '124', '125', '126', '127', '128', '129', '130', '131', '132', '133', '134', '135', '136', '137', '138', '139', '140', '141', '146', '147', '148', '149', '150', '151', '153', '168', '170', '171', '181', '185', '198', '200', '201', '202', '205', '206', '207', '208', '209', '210', '211', '212', '213', '214', '215', '216', '217', '218', '219', '220', '248', '255', '501', '502', '503', '504', '505', '506', '507', '508', '509', '513', '514', '515', '517', '518', '519', '520', '521', '522', '523', '524', '525', '526', '527', '528', '529', '532', '533', '920']}}\n"
     ]
    }
   ],
   "source": [
    "print getob.parameters"
   ]
  },
  {
   "cell_type": "code",
   "execution_count": 103,
   "metadata": {
    "collapsed": false
   },
   "outputs": [],
   "source": [
    "off = sos.offerings[1]\n",
    "offerings = [off.name]\n",
    "responseFormat = off.response_formats[0]\n",
    "observedProperties = [off.observed_properties[0]]"
   ]
  },
  {
   "cell_type": "code",
   "execution_count": 105,
   "metadata": {
    "collapsed": false
   },
   "outputs": [
    {
     "name": "stdout",
     "output_type": "stream",
     "text": [
      "Offering id: 001, name: 001\n"
     ]
    }
   ],
   "source": [
    "print sos.offerings[0]"
   ]
  },
  {
   "cell_type": "code",
   "execution_count": null,
   "metadata": {
    "collapsed": false
   },
   "outputs": [],
   "source": []
  }
 ],
 "metadata": {
  "kernelspec": {
   "display_name": "Python 2",
   "language": "python",
   "name": "python2"
  },
  "language_info": {
   "codemirror_mode": {
    "name": "ipython",
    "version": 2
   },
   "file_extension": ".py",
   "mimetype": "text/x-python",
   "name": "python",
   "nbconvert_exporter": "python",
   "pygments_lexer": "ipython2",
   "version": "2.7.12"
  }
 },
 "nbformat": 4,
 "nbformat_minor": 0
}
