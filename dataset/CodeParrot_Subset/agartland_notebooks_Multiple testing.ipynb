{
 "cells": [
  {
   "cell_type": "code",
   "execution_count": 52,
   "metadata": {
    "collapsed": false
   },
   "outputs": [
    {
     "name": "stdout",
     "output_type": "stream",
     "text": [
      "Populating the interactive namespace from numpy and matplotlib\n"
     ]
    }
   ],
   "source": [
    "%pylab inline\n",
    "from myfisher import fisherTestVec\n",
    "import statsmodels.api as sm"
   ]
  },
  {
   "cell_type": "code",
   "execution_count": 64,
   "metadata": {
    "collapsed": false,
    "scrolled": true
   },
   "outputs": [
    {
     "name": "stdout",
     "output_type": "stream",
     "text": [
      "160\n"
     ]
    }
   ],
   "source": [
    "df = pd.read_csv(DATA_PATH + 'adevent.csv')\n",
    "eCols = ['E%d' % i for i in range(1,29)]\n",
    "df.loc[:,eCols] = df.loc[:,eCols].applymap(lambda s: 1. if s=='event' else 0.).astype(float)\n",
    "N = df.shape[0]\n",
    "print N"
   ]
  },
  {
   "cell_type": "code",
   "execution_count": 65,
   "metadata": {
    "collapsed": false
   },
   "outputs": [
    {
     "data": {
      "text/plain": [
       "80"
      ]
     },
     "execution_count": 65,
     "metadata": {},
     "output_type": "execute_result"
    }
   ],
   "source": [
    "aInd = df.group == 'A'\n",
    "bInd = df.group == 'B'\n",
    "\n",
    "a = array([df[col].loc[bInd].sum() for col in eCols])\n",
    "b = array([df[col].loc[aInd].sum() for col in eCols])\n",
    "c = N - a\n",
    "d = N - b\n",
    "\n",
    "OR, p = fisherTestVec(a, b, c, d, alternative='greater')\n",
    "resDf = pd.DataFrame(dict(OR=OR,p=p),index=eCols)"
   ]
  },
  {
   "cell_type": "code",
   "execution_count": 62,
   "metadata": {
    "collapsed": false
   },
   "outputs": [],
   "source": [
    "h, resDf['bonferroni'], _, _ = sm.stats.multipletests(resDf['p'], method='bonferroni')\n",
    "h, resDf['holm'], _, _ = sm.stats.multipletests(resDf['p'], method='holm')\n",
    "h, resDf['fdr_bh'], _, _ = sm.stats.multipletests(resDf['p'], method='fdr_bh')"
   ]
  },
  {
   "cell_type": "code",
   "execution_count": 63,
   "metadata": {
    "collapsed": false
   },
   "outputs": [
    {
     "data": {
      "text/html": [
       "<div>\n",
       "<table border=\"1\" class=\"dataframe\">\n",
       "  <thead>\n",
       "    <tr style=\"text-align: right;\">\n",
       "      <th></th>\n",
       "      <th>OR</th>\n",
       "      <th>p</th>\n",
       "      <th>bonferroni</th>\n",
       "      <th>holm</th>\n",
       "      <th>fdr_bh</th>\n",
       "    </tr>\n",
       "  </thead>\n",
       "  <tbody>\n",
       "    <tr>\n",
       "      <th>E1</th>\n",
       "      <td>3.518519</td>\n",
       "      <td>0.001390</td>\n",
       "      <td>0.038927</td>\n",
       "      <td>0.038927</td>\n",
       "      <td>0.038927</td>\n",
       "    </tr>\n",
       "    <tr>\n",
       "      <th>E8</th>\n",
       "      <td>inf</td>\n",
       "      <td>0.030275</td>\n",
       "      <td>0.847700</td>\n",
       "      <td>0.817425</td>\n",
       "      <td>0.423850</td>\n",
       "    </tr>\n",
       "    <tr>\n",
       "      <th>E6</th>\n",
       "      <td>inf</td>\n",
       "      <td>0.061326</td>\n",
       "      <td>1.000000</td>\n",
       "      <td>1.000000</td>\n",
       "      <td>0.572379</td>\n",
       "    </tr>\n",
       "    <tr>\n",
       "      <th>E5</th>\n",
       "      <td>2.548387</td>\n",
       "      <td>0.223967</td>\n",
       "      <td>1.000000</td>\n",
       "      <td>1.000000</td>\n",
       "      <td>1.000000</td>\n",
       "    </tr>\n",
       "    <tr>\n",
       "      <th>E15</th>\n",
       "      <td>inf</td>\n",
       "      <td>0.249216</td>\n",
       "      <td>1.000000</td>\n",
       "      <td>1.000000</td>\n",
       "      <td>1.000000</td>\n",
       "    </tr>\n",
       "  </tbody>\n",
       "</table>\n",
       "</div>"
      ],
      "text/plain": [
       "           OR         p  bonferroni      holm    fdr_bh\n",
       "E1   3.518519  0.001390    0.038927  0.038927  0.038927\n",
       "E8        inf  0.030275    0.847700  0.817425  0.423850\n",
       "E6        inf  0.061326    1.000000  1.000000  0.572379\n",
       "E5   2.548387  0.223967    1.000000  1.000000  1.000000\n",
       "E15       inf  0.249216    1.000000  1.000000  1.000000"
      ]
     },
     "execution_count": 63,
     "metadata": {},
     "output_type": "execute_result"
    }
   ],
   "source": [
    "resDf = resDf.sort('p')\n",
    "resDf.head()"
   ]
  }
 ],
 "metadata": {
  "kernelspec": {
   "display_name": "Python 2",
   "language": "python",
   "name": "python2"
  },
  "language_info": {
   "codemirror_mode": {
    "name": "ipython",
    "version": 2
   },
   "file_extension": ".py",
   "mimetype": "text/x-python",
   "name": "python",
   "nbconvert_exporter": "python",
   "pygments_lexer": "ipython2",
   "version": "2.7.6"
  }
 },
 "nbformat": 4,
 "nbformat_minor": 0
}
