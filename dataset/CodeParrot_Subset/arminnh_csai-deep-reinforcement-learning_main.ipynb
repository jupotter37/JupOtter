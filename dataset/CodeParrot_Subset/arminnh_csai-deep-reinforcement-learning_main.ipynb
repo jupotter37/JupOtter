{
 "cells": [
  {
   "cell_type": "markdown",
   "metadata": {
    "collapsed": true
   },
   "source": [
    "# Deep Reinforcement learning"
   ]
  },
  {
   "cell_type": "markdown",
   "metadata": {},
   "source": [
    "## Experience replay memory"
   ]
  },
  {
   "cell_type": "code",
   "execution_count": null,
   "metadata": {
    "collapsed": true
   },
   "outputs": [],
   "source": [
    "import random\n",
    "import numpy as np\n",
    "from collections import deque\n",
    "\n",
    "# Experience replay memory\n",
    "class ExperienceMemory:\n",
    "    def __init__(self, n):\n",
    "        self.memory = deque(maxlen=n)\n",
    "\n",
    "    def add_transition(self, s, a, r, next_s, done):\n",
    "        self.memory.append((s, a, r, next_s, done))\n",
    "\n",
    "    def __len__(self):\n",
    "        return len(self.memory)\n",
    "\n",
    "    def sample(self, batch_size):\n",
    "        # https://stackoverflow.com/questions/40181284/how-to-get-random-sample-from-deque-in-python-3\n",
    "        # Since python3.5 you can just do a random sample on a deque with a size\n",
    "        sample_batch = random.sample(self.memory, batch_size)\n",
    "        state_batch = []\n",
    "        action_batch = []\n",
    "        reward_batch = []\n",
    "        next_state_batch = []\n",
    "        done_batch = []\n",
    "\n",
    "        for s in sample_batch:\n",
    "            state_batch.append(s[0])\n",
    "            action_batch.append(s[1])\n",
    "            reward_batch.append(s[2])\n",
    "            next_state_batch.append(s[3])\n",
    "            done_batch.append(s[4])\n",
    "\n",
    "        return np.asarray(state_batch), np.asarray(action_batch), np.asarray(reward_batch), \\\n",
    "               np.asarray(next_state_batch), np.asarray(done_batch)"
   ]
  },
  {
   "cell_type": "markdown",
   "metadata": {},
   "source": [
    "## Game wrapper"
   ]
  },
  {
   "cell_type": "code",
   "execution_count": null,
   "metadata": {
    "collapsed": true
   },
   "outputs": [],
   "source": [
    "from atari_wrappers import WarpFrame, FrameStack, ClipRewardEnv, LazyFrames\n",
    "import gym\n",
    "\n",
    "# Environment according to deepmind's paper \"Human Level Control Through Deep Reinforcement Learning\"\n",
    "def deepmind_env(env_id, m=4):\n",
    "    env = gym.make(env_id)\n",
    "\n",
    "    # Wrap the frames to 84x84 and grayscale\n",
    "    env = WarpFrame(env)\n",
    "\n",
    "    # Stack the 4 most recent frames\n",
    "    env = FrameStack(env, m)\n",
    "\n",
    "    # Clip rewards to -1 and 1\n",
    "    env = ClipRewardEnv(env)\n",
    "\n",
    "    return env"
   ]
  },
  {
   "cell_type": "markdown",
   "metadata": {},
   "source": [
    "# Model"
   ]
  },
  {
   "cell_type": "code",
   "execution_count": null,
   "metadata": {
    "collapsed": true
   },
   "outputs": [],
   "source": [
    "import torch.nn as nn\n",
    "import torch.nn.functional as F\n",
    "\n",
    "# The neural network\n",
    "class Model(nn.Module):\n",
    "\n",
    "    def __init__(self, possible_actions):\n",
    "        super().__init__()\n",
    "        self.conv1 = nn.Conv2d(4, 32, kernel_size=8, stride=4)\n",
    "        self.conv2 = nn.Conv2d(32, 64, kernel_size=4, stride=2)\n",
    "        self.conv3 = nn.Conv2d(64, 64, kernel_size=3, stride=1)\n",
    "        self.fc1 = nn.Linear(64*7*7, 512)\n",
    "        self.fc2 = nn.Linear(512, possible_actions)\n",
    "\n",
    "    def forward(self, x):\n",
    "        x = F.relu(self.conv1(x))\n",
    "        x = F.relu(self.conv2(x))\n",
    "        x = F.relu(self.conv3(x))\n",
    "        x = F.relu(self.fc1(x.view(x.size(0), -1)))\n",
    "        return self.fc2(x)"
   ]
  },
  {
   "cell_type": "markdown",
   "metadata": {},
   "source": [
    "# CUDA stuff"
   ]
  },
  {
   "cell_type": "code",
   "execution_count": null,
   "metadata": {
    "collapsed": true
   },
   "outputs": [],
   "source": [
    "import torch\n",
    "\n",
    "use_cuda = torch.cuda.is_available()\n",
    "if use_cuda:\n",
    "    torch.cuda.set_device(1)\n",
    "FloatTensor = torch.cuda.FloatTensor if use_cuda else torch.FloatTensor\n",
    "LongTensor = torch.cuda.LongTensor if use_cuda else torch.LongTensor\n",
    "ByteTensor = torch.cuda.ByteTensor if use_cuda else torch.ByteTensor\n",
    "Tensor = FloatTensor"
   ]
  },
  {
   "cell_type": "markdown",
   "metadata": {},
   "source": [
    "# Create the Agent"
   ]
  },
  {
   "cell_type": "code",
   "execution_count": null,
   "metadata": {
    "collapsed": true
   },
   "outputs": [],
   "source": [
    "from itertools import count\n",
    "import random\n",
    "from torch.autograd import Variable\n",
    "import torch\n",
    "import numpy as np\n",
    "import torch.optim as optim\n",
    "\n",
    "class Agent:\n",
    "    def __init__(self, game_id):\n",
    "        # initialize the game environment\n",
    "        self.env = deepmind_env(game_id)\n",
    "\n",
    "        # Init Q\n",
    "        self.Q = Model(self.env.action_space.n)\n",
    "\n",
    "        # Init target Q with the same weights as self.Q\n",
    "        self.target_Q = Model(self.env.action_space.n)\n",
    "        self.sync_target_q()\n",
    "\n",
    "        if use_cuda:\n",
    "            self.Q.cuda()\n",
    "            self.target_Q.cuda()\n",
    "\n",
    "        self.memory = ExperienceMemory(1000000)\n",
    "        self.gamma = 0.99\n",
    "\n",
    "        self.loss = torch.nn.MSELoss()\n",
    "        self.optimizer = optim.RMSprop(self.Q.parameters(), lr=0.0001)\n",
    "\n",
    "    def sync_target_q(self):\n",
    "        # Syncs the Q target with the target Q function\n",
    "        # https://discuss.pytorch.org/t/are-there-any-recommended-methods-to-clone-a-model/483/5\n",
    "        copy_from = list(self.Q.parameters())\n",
    "        copy_to = list(self.target_Q.parameters())\n",
    "        n = len(copy_from)\n",
    "        for i in range(0, n):\n",
    "            copy_to[i].data[:] = copy_from[i].data[:]\n",
    "\n",
    "    def get_eps(self, current_steps, max_exploration, start_eps, end_eps):\n",
    "        # Gets the current epsilon value\n",
    "        # linearly decline\n",
    "        return max(end_eps, start_eps - current_steps / max_exploration)\n",
    "\n",
    "    def get_action(self, current_eps, states):\n",
    "        # Get an action based on the current eps and the state\n",
    "        if random.random() > current_eps:\n",
    "\n",
    "            # Our states are 84 x 84 x 4 but pytorch expects a 4D tensor\n",
    "            # so we add an extra dimension\n",
    "            states = np.expand_dims(states, 0)\n",
    "            actions = self.Q(Variable(torch.from_numpy(states)).type(FloatTensor))\n",
    "            return np.argmax(actions.data.cpu().numpy())\n",
    "        else:\n",
    "            return LongTensor([[random.randrange(self.env.action_space.n)]])\n",
    "\n",
    "    def get_yi(self, next_states, rewards, done):\n",
    "        q_target_vals = self.target_Q(Variable(torch.from_numpy(next_states)).type(FloatTensor))\n",
    "\n",
    "        # We get a batch size x 1 tensor back\n",
    "        # We want the values from the last dimension\n",
    "        q_target_vals = np.max(q_target_vals.data.cpu().numpy(), axis=1)\n",
    "\n",
    "        # For every state that is done, set Q to zero\n",
    "        mask = (done == 1)\n",
    "        q_target_vals[mask] = 0\n",
    "\n",
    "        yi = rewards + self.gamma * q_target_vals\n",
    "        return Variable(torch.from_numpy(yi)).type(FloatTensor)\n",
    "\n",
    "    def update_weights(self, batch_size):\n",
    "        if len(self.memory) < batch_size:\n",
    "            return\n",
    "\n",
    "        # get a random minibatch of transitions\n",
    "        state_batch, action_batch, reward_batch, next_state_batch, done_batch = self.memory.sample(batch_size)\n",
    "\n",
    "        # Get our yi's\n",
    "        yi = self.get_yi(next_state_batch, reward_batch, done_batch)\n",
    "\n",
    "        # Now we need to get our normal q values\n",
    "        q_values = self.Q(Variable(torch.from_numpy(state_batch).type(FloatTensor)))\n",
    "\n",
    "        # Now select the actions we took\n",
    "        actions_taken = torch.gather(q_values, 1,\n",
    "                                     Variable(torch.from_numpy(action_batch)).type(LongTensor).view(-1, 1))\n",
    "\n",
    "        loss = self.loss(actions_taken, yi)\n",
    "\n",
    "        self.optimizer.zero_grad()\n",
    "        loss.backward()\n",
    "        self.optimizer.step()\n",
    "\n",
    "    def load_agent(self, file):\n",
    "        self.Q.load_state_dict(torch.load(file))\n",
    "        self.sync_target_q()\n",
    "\n",
    "    def save_agent(self, episode):\n",
    "        if not os.path.exists(\"saved_model/\"):\n",
    "            os.makedirs(\"saved_model/\")\n",
    "\n",
    "        torch.save(self.Q.state_dict(), \"saved_model/agent_episode_{}.pth\".format(episode))\n",
    "\n",
    "    def play(self, episodes):\n",
    "        for episode in range(1, episodes+1):\n",
    "            state = self.env.reset()\n",
    "            for _ in count(start=1):\n",
    "                action = self.get_action(0, state)\n",
    "                state, reward, done, _ = self.env.step(action)\n",
    "                self.env.render()\n",
    "                if done:\n",
    "                    break\n",
    "\n",
    "    def train(self, episodes, sync_target=10000, max_eploration=10**5, end_eps=0.1, start_eps=1, batch_size=32):\n",
    "        steps = 0\n",
    "        self.save_agent(0)\n",
    "        for episode in range(1, episodes + 1):\n",
    "            state = self.env.reset()\n",
    "\n",
    "            current_reward = 0\n",
    "            for t in count(start=1):\n",
    "                # select action with prob eps\n",
    "                current_eps = self.get_eps(steps, max_eploration, start_eps, end_eps)\n",
    "                action = self.get_action(current_eps, state)\n",
    "                # execute action in emulator\n",
    "                next_state, reward, done, _ = self.env.step(action)\n",
    "                # Add this to our memory\n",
    "                self.memory.add_transition(state, action, reward, next_state, done)\n",
    "\n",
    "                # Update our weights now\n",
    "                self.update_weights(batch_size)\n",
    "\n",
    "                steps += 1\n",
    "                current_reward += reward\n",
    "                state = next_state\n",
    "                # every C steps we reset target Q\n",
    "                if (steps % sync_target) == 0:\n",
    "                    print(\"Sync target network\")\n",
    "                    self.sync_target_q()\n",
    "\n",
    "                if done:\n",
    "                    break\n",
    "\n",
    "            print(\"Episode: {} finished\".format(episode))\n",
    "            # information stuff\n",
    "            if (episode % 10) == 0:\n",
    "                print(\"--- Saving episode {} ---\".format(episode))\n",
    "                self.save_agent(episode)\n",
    "                print(\"Episode reward: {}\".format(current_reward))\n",
    "                print(\"Eps: {}\".format(current_eps))"
   ]
  },
  {
   "cell_type": "code",
   "execution_count": null,
   "metadata": {
    "collapsed": false
   },
   "outputs": [],
   "source": [
    "agent = Agent(\"PongDeterministic-v4\")"
   ]
  },
  {
   "cell_type": "code",
   "execution_count": null,
   "metadata": {
    "collapsed": false
   },
   "outputs": [],
   "source": [
    "agent.train(1000)"
   ]
  },
  {
   "cell_type": "markdown",
   "metadata": {},
   "source": [
    "# DEMO"
   ]
  },
  {
   "cell_type": "markdown",
   "metadata": {},
   "source": [
    "## PONG\n"
   ]
  },
  {
   "cell_type": "markdown",
   "metadata": {},
   "source": [
    "## Not trained"
   ]
  },
  {
   "cell_type": "code",
   "execution_count": null,
   "metadata": {
    "collapsed": false
   },
   "outputs": [],
   "source": [
    "loaded_agent = Agent(\"PongDeterministic-v4\")\n",
    "loaded_agent.load_agent(\"demo_pong/agent_episode_0.pth\")\n",
    "\n",
    "loaded_agent.play(1)"
   ]
  },
  {
   "cell_type": "code",
   "execution_count": null,
   "metadata": {
    "collapsed": true
   },
   "outputs": [],
   "source": [
    "loaded_agent.env.close()"
   ]
  },
  {
   "cell_type": "markdown",
   "metadata": {},
   "source": [
    "## Trained"
   ]
  },
  {
   "cell_type": "code",
   "execution_count": null,
   "metadata": {
    "collapsed": true
   },
   "outputs": [],
   "source": [
    "loaded_agent = Agent(\"PongDeterministic-v4\")\n",
    "loaded_agent.load_agent(\"demo_pong/agent_episode_380.pth\")\n",
    "\n",
    "loaded_agent.play(1)"
   ]
  },
  {
   "cell_type": "code",
   "execution_count": null,
   "metadata": {
    "collapsed": true
   },
   "outputs": [],
   "source": [
    "loaded_agent.env.close()"
   ]
  },
  {
   "cell_type": "code",
   "execution_count": null,
   "metadata": {
    "collapsed": true
   },
   "outputs": [],
   "source": []
  }
 ],
 "metadata": {
  "kernelspec": {
   "display_name": "Python 3",
   "language": "python",
   "name": "python3"
  },
  "language_info": {
   "codemirror_mode": {
    "name": "ipython",
    "version": 3
   },
   "file_extension": ".py",
   "mimetype": "text/x-python",
   "name": "python",
   "nbconvert_exporter": "python",
   "pygments_lexer": "ipython3",
   "version": "3.5.3"
  }
 },
 "nbformat": 4,
 "nbformat_minor": 1
}
