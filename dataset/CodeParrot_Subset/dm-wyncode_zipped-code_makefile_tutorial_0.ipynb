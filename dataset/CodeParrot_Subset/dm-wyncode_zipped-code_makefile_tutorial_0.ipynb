{
 "cells": [
  {
   "cell_type": "markdown",
   "metadata": {},
   "source": [
    "## Learning how to make a Makefile\n",
    "\n",
    "Adapted from [swcarpentry/make-novice repository](https://github.com/swcarpentry/make-novice).\n",
    "\n",
    "### Make’s fundamental concepts are common across build tools.\n",
    "\n",
    "> [GNU Make](http://www.gnu.org/software/make/) is a free, fast, well-documented, and very popular Make implementation. From now on, we will focus on it, and when we say Make, we mean GNU Make.\n",
    "\n",
    "### A tutorial named Introduction.\n",
    "\n",
    "Cells that follow are the result of following this [introduction](http://swcarpentry.github.io/make-novice/01-intro/).\n",
    "\n",
    "I have adapted the tutorial so that the steps take place in this Jupyter notebook so that the notebook can be transpiled into a Pelican blog post using a [danielfrg/pelican-ipynb Pelican plugin](https://github.com/danielfrg/pelican-ipynb)."
   ]
  },
  {
   "cell_type": "markdown",
   "metadata": {},
   "source": [
    " *Some Jupyter notebook housekeeping to set up some variables with path references.*"
   ]
  },
  {
   "cell_type": "code",
   "execution_count": 168,
   "metadata": {
    "collapsed": true
   },
   "outputs": [],
   "source": [
    "import os"
   ]
  },
  {
   "cell_type": "code",
   "execution_count": 169,
   "metadata": {
    "collapsed": true
   },
   "outputs": [],
   "source": [
    "(\n",
    "    TAB_CHAR,\n",
    ") = (\n",
    "    '\\t',\n",
    ")"
   ]
  },
  {
   "cell_type": "code",
   "execution_count": 170,
   "metadata": {
    "collapsed": true
   },
   "outputs": [],
   "source": [
    "home = os.path.expanduser('~')"
   ]
  },
  {
   "cell_type": "markdown",
   "metadata": {},
   "source": [
    "*`repo_path` is the path to a clone of [swcarpentry/make-novice](https://github.com/swcarpentry/make-novice)*"
   ]
  },
  {
   "cell_type": "code",
   "execution_count": 171,
   "metadata": {
    "collapsed": false
   },
   "outputs": [],
   "source": [
    "repo_path = os.path.join(\n",
    "    home, \n",
    "    'Dropbox/spikes/make-novice',\n",
    ")"
   ]
  },
  {
   "cell_type": "code",
   "execution_count": 172,
   "metadata": {
    "collapsed": false
   },
   "outputs": [],
   "source": [
    "assert os.path.exists(repo_path)"
   ]
  },
  {
   "cell_type": "markdown",
   "metadata": {},
   "source": [
    "*`paths` are the paths to child directories in a clone of [swcarpentry/make-novice](https://github.com/swcarpentry/make-novice)*"
   ]
  },
  {
   "cell_type": "code",
   "execution_count": 173,
   "metadata": {
    "collapsed": true
   },
   "outputs": [],
   "source": [
    "paths = (\n",
    "    'code',\n",
    "    'data',\n",
    ")\n",
    "paths = (\n",
    "    code,\n",
    "    data,\n",
    ") = [os.path.join(repo_path, path) for path in paths]\n",
    "assert all(os.path.exists(path) for path in paths)"
   ]
  },
  {
   "cell_type": "markdown",
   "metadata": {},
   "source": [
    "#### Begin tutorial."
   ]
  },
  {
   "cell_type": "markdown",
   "metadata": {},
   "source": [
    "*Use the magic `run` to execute the Python script `wordcount.py`.*\n",
    "\n",
    "*The variables with '$' in front of them are the values of the Python variables in this\n",
    "notebook.*"
   ]
  },
  {
   "cell_type": "code",
   "execution_count": 174,
   "metadata": {
    "collapsed": false
   },
   "outputs": [],
   "source": [
    "run $code/wordcount.py $data/books/isles.txt $repo_path/isles.dat"
   ]
  },
  {
   "cell_type": "markdown",
   "metadata": {},
   "source": [
    "*Use shell to examine the first 5 lines of the output file from running `wordcount.py`*"
   ]
  },
  {
   "cell_type": "code",
   "execution_count": 175,
   "metadata": {
    "collapsed": false
   },
   "outputs": [
    {
     "name": "stdout",
     "output_type": "stream",
     "text": [
      "the 3822 6.7371760973\r\n",
      "of 2460 4.33632998414\r\n",
      "and 1723 3.03719372466\r\n",
      "to 1479 2.60708619778\r\n",
      "a 1308 2.30565838181\r\n"
     ]
    }
   ],
   "source": [
    "!head -5 $repo_path/isles.dat"
   ]
  },
  {
   "cell_type": "markdown",
   "metadata": {
    "collapsed": true
   },
   "source": [
    "> We can see that the file consists of one row per word. Each row shows the word itself, the number of occurrences of that word, and the number of occurrences as a percentage of the total number of words in the text file."
   ]
  },
  {
   "cell_type": "code",
   "execution_count": 176,
   "metadata": {
    "collapsed": true
   },
   "outputs": [],
   "source": [
    "run $code/wordcount.py $data/books/abyss.txt $repo_path/abyss.dat"
   ]
  },
  {
   "cell_type": "code",
   "execution_count": 177,
   "metadata": {
    "collapsed": false
   },
   "outputs": [
    {
     "name": "stdout",
     "output_type": "stream",
     "text": [
      "the 4044 6.35449402891\r\n",
      "and 2807 4.41074795726\r\n",
      "of 1907 2.99654305468\r\n",
      "a 1594 2.50471401634\r\n",
      "to 1515 2.38057825267\r\n"
     ]
    }
   ],
   "source": [
    "!head -5 $repo_path/abyss.dat"
   ]
  },
  {
   "cell_type": "markdown",
   "metadata": {},
   "source": [
    "> Let’s visualize the results. The script plotcount.py reads in a data file and plots the 10 most frequently occurring words as a text-based bar plot:\n"
   ]
  },
  {
   "cell_type": "code",
   "execution_count": 178,
   "metadata": {
    "collapsed": false
   },
   "outputs": [
    {
     "name": "stdout",
     "output_type": "stream",
     "text": [
      "the   ########################################################################\n",
      "of    ##############################################\n",
      "and   ################################\n",
      "to    ############################\n",
      "a     #########################\n",
      "in    ###################\n",
      "is    #################\n",
      "that  ############\n",
      "by    ###########\n",
      "it    ###########\n"
     ]
    }
   ],
   "source": [
    "run $code/plotcount.py $repo_path/isles.dat ascii"
   ]
  },
  {
   "cell_type": "markdown",
   "metadata": {},
   "source": [
    "> plotcount.py can also show the plot graphically"
   ]
  },
  {
   "cell_type": "code",
   "execution_count": 179,
   "metadata": {
    "collapsed": false
   },
   "outputs": [
    {
     "data": {
      "image/png": "[encoded data removed]",
      "text/plain": [
       "<matplotlib.figure.Figure at 0x7fb2fd010ad0>"
      ]
     },
     "metadata": {},
     "output_type": "display_data"
    }
   ],
   "source": [
    "run $code/plotcount.py $repo_path/isles.dat show"
   ]
  },
  {
   "cell_type": "markdown",
   "metadata": {},
   "source": [
    "> plotcount.py can also create the plot as an image file (e.g. a PNG file)"
   ]
  },
  {
   "cell_type": "code",
   "execution_count": 180,
   "metadata": {
    "collapsed": false
   },
   "outputs": [],
   "source": [
    "run $code/plotcount.py $repo_path/isles.dat $repo_path/isles.png"
   ]
  },
  {
   "cell_type": "markdown",
   "metadata": {},
   "source": [
    "*Import the objects necessary to display the generated png file in this notebook.*"
   ]
  },
  {
   "cell_type": "code",
   "execution_count": 181,
   "metadata": {
    "collapsed": false
   },
   "outputs": [
    {
     "data": {
      "image/png": "[encoded data removed]",
      "text/plain": [
       "<IPython.core.display.Image object>"
      ]
     },
     "execution_count": 181,
     "metadata": {},
     "output_type": "execute_result"
    }
   ],
   "source": [
    "from IPython.display import Image\n",
    "Image(filename=os.path.join(repo_path, 'isles.png'))"
   ]
  },
  {
   "cell_type": "markdown",
   "metadata": {},
   "source": [
    "> Finally, let’s test Zipf’s law for these books\n",
    "\n",
    "> The most frequently-occurring word occurs approximately twice as often as the second most frequent word. This is [Zipf’s Law](http://en.wikipedia.org/wiki/Zipf%27s_law)."
   ]
  },
  {
   "cell_type": "code",
   "execution_count": 182,
   "metadata": {
    "collapsed": false
   },
   "outputs": [
    {
     "name": "stdout",
     "output_type": "stream",
     "text": [
      "Book\tFirst\tSecond\tRatio\n",
      "/home/dmmmd/Dropbox/spikes/make-novice/abyss\t4044\t2807\t1.44\n",
      "/home/dmmmd/Dropbox/spikes/make-novice/isles\t3822\t2460\t1.55\n"
     ]
    }
   ],
   "source": [
    "run $code/zipf_test.py $repo_path/abyss.dat $repo_path/isles.dat"
   ]
  },
  {
   "cell_type": "markdown",
   "metadata": {},
   "source": [
    " > What we really want is an executable description of our pipeline that allows software to do the tricky part for us: figuring out what steps need to be rerun."
   ]
  },
  {
   "cell_type": "markdown",
   "metadata": {},
   "source": [
    "*Create a file, called Makefile, with the following contents.*\n",
    "\n",
    "*Python's built-in `format` is used to create the contents of the Makefile.*"
   ]
  },
  {
   "cell_type": "code",
   "execution_count": 183,
   "metadata": {
    "collapsed": true
   },
   "outputs": [],
   "source": [
    "makefile_contents = \"\"\"\n",
    "# Count words.\n",
    "{repo_path}/isles.dat : {data}/books/isles.txt\n",
    "{tab_char}python {code}/wordcount.py {data}/books/isles.txt {repo_path}/isles.dat\n",
    "\"\"\".format(code=code, data=data, repo_path=repo_path, tab_char=TAB_CHAR)"
   ]
  },
  {
   "cell_type": "markdown",
   "metadata": {},
   "source": [
    "*Write the contents to a file named Makefile.*"
   ]
  },
  {
   "cell_type": "code",
   "execution_count": 184,
   "metadata": {
    "collapsed": true
   },
   "outputs": [],
   "source": [
    "with open('Makefile', 'w') as fh:\n",
    "    fh.write(makefile_contents)"
   ]
  },
  {
   "cell_type": "markdown",
   "metadata": {},
   "source": [
    "> Let’s first sure we start from scratch and delete the .dat and .png files we created earlier:"
   ]
  },
  {
   "cell_type": "markdown",
   "metadata": {},
   "source": [
    "*Run `rm` in shell.*"
   ]
  },
  {
   "cell_type": "code",
   "execution_count": 185,
   "metadata": {
    "collapsed": false
   },
   "outputs": [],
   "source": [
    "!rm $repo_path/*.dat $repo_path/*.png"
   ]
  },
  {
   "cell_type": "markdown",
   "metadata": {},
   "source": [
    "*Run `make` in shell.*"
   ]
  },
  {
   "cell_type": "markdown",
   "metadata": {},
   "source": [
    "> By default, Make prints out the actions it executes:"
   ]
  },
  {
   "cell_type": "code",
   "execution_count": 186,
   "metadata": {
    "collapsed": false
   },
   "outputs": [
    {
     "name": "stdout",
     "output_type": "stream",
     "text": [
      "python /home/dmmmd/Dropbox/spikes/make-novice/code/wordcount.py /home/dmmmd/Dropbox/spikes/make-novice/data/books/isles.txt /home/dmmmd/Dropbox/spikes/make-novice/isles.dat\r\n"
     ]
    }
   ],
   "source": [
    "!make"
   ]
  },
  {
   "cell_type": "markdown",
   "metadata": {},
   "source": [
    "> Let’s see if we got what we expected."
   ]
  },
  {
   "cell_type": "markdown",
   "metadata": {},
   "source": [
    "*Run `head` in shell.*"
   ]
  },
  {
   "cell_type": "code",
   "execution_count": 188,
   "metadata": {
    "collapsed": false
   },
   "outputs": [
    {
     "name": "stdout",
     "output_type": "stream",
     "text": [
      "the 3822 6.7371760973\r\n",
      "of 2460 4.33632998414\r\n",
      "and 1723 3.03719372466\r\n",
      "to 1479 2.60708619778\r\n",
      "a 1308 2.30565838181\r\n"
     ]
    }
   ],
   "source": [
    "!head -5 $repo_path/isles.dat"
   ]
  },
  {
   "cell_type": "markdown",
   "metadata": {},
   "source": [
    "A simple Makefile was created. If the dependencies exist, the commands are not run.\n",
    "\n",
    "> Unlike shell scripts it explicitly records the dependencies between files - what files are needed to create what other files - and so can determine when to recreate our data files or image files, if our text files change. Make can be used for any commands that follow the general pattern of processing files to create new files…\n",
    "\n",
    "[tutorial continues: Makefiles]({filename}./makefile_tutorial_1.ipynb)"
   ]
  }
 ],
 "metadata": {
  "kernelspec": {
   "display_name": "Python 3",
   "language": "python",
   "name": "python3"
  },
  "language_info": {
   "codemirror_mode": {
    "name": "ipython",
    "version": 3
   },
   "file_extension": ".py",
   "mimetype": "text/x-python",
   "name": "python",
   "nbconvert_exporter": "python",
   "pygments_lexer": "ipython3",
   "version": "3.4.3"
  }
 },
 "nbformat": 4,
 "nbformat_minor": 0
}
