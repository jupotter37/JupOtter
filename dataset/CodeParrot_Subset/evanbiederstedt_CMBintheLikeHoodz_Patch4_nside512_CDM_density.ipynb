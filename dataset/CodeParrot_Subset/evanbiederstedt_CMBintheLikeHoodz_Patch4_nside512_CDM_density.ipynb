{
 "cells": [
  {
   "cell_type": "code",
   "execution_count": 1,
   "metadata": {
    "collapsed": true
   },
   "outputs": [],
   "source": [
    "from __future__ import (division, print_function, absolute_import)"
   ]
  },
  {
   "cell_type": "code",
   "execution_count": 2,
   "metadata": {
    "collapsed": true
   },
   "outputs": [],
   "source": [
    "%matplotlib inline\n",
    "import math\n",
    "import matplotlib.pyplot as plt \n",
    "import numpy as np\n",
    "import healpy as hp\n",
    "import pyfits as pf\n",
    "import astropy as ap\n",
    "import os\n",
    "from scipy.special import eval_legendre  ##special scipy function"
   ]
  },
  {
   "cell_type": "code",
   "execution_count": 3,
   "metadata": {
    "collapsed": true
   },
   "outputs": [],
   "source": [
    "# Pixel 42 : [ 0.612372, 0.612372, 0.500000 ]\n",
    "# Pixel 57 : [ 0.783917, 0.523797, 0.333333 ]\n",
    "# Pixel 58 : [ 0.523797, 0.783917, 0.333333 ]\n",
    "# Pixel 74 : [ 0.697217, 0.697217, 0.166667 ]"
   ]
  },
  {
   "cell_type": "code",
   "execution_count": 4,
   "metadata": {
    "collapsed": true
   },
   "outputs": [],
   "source": [
    "#\n",
    "# We define this pixel patch\n",
    "#\n",
    "# Note: We have to put into IDL format for 3D vectors, i.e. \n",
    "# HDIL> query_polygon, 512L, [[0.612372, 0.783917, 0.523797, 0.697217], \n",
    "#       [0.612372, 0.523797, 0.783917, 0.697217], [0.500000, 0.333333, 0.333333, 0.166667]], listpix3, nlist3\n",
    "#"
   ]
  },
  {
   "cell_type": "code",
   "execution_count": 5,
   "metadata": {
    "collapsed": true
   },
   "outputs": [],
   "source": [
    "#\n",
    "# Now, save IDL .sav file of listpix3\n",
    "# Import into Python and run\n",
    "#"
   ]
  },
  {
   "cell_type": "code",
   "execution_count": 6,
   "metadata": {
    "collapsed": true
   },
   "outputs": [],
   "source": [
    "# http://docs.scipy.org/doc/scipy-0.16.0/reference/generated/scipy.io.readsav.html\n",
    "# http://www.astrobetter.com/blog/2009/11/24/read-idl-save-files-into-python/"
   ]
  },
  {
   "cell_type": "code",
   "execution_count": 7,
   "metadata": {
    "collapsed": false
   },
   "outputs": [],
   "source": [
    "import scipy"
   ]
  },
  {
   "cell_type": "code",
   "execution_count": 8,
   "metadata": {
    "collapsed": true
   },
   "outputs": [],
   "source": [
    "#\n",
    "# scipy.io.readsav\n",
    "#\n",
    "# scipy.io.readsav(file_name, idict=None, python_dict=False, uncompressed_file_name=None, verbose=False)[source]\n",
    "#\n",
    "# Read an IDL .sav file\n",
    "#\n",
    "#"
   ]
  },
  {
   "cell_type": "code",
   "execution_count": 9,
   "metadata": {
    "collapsed": false
   },
   "outputs": [
    {
     "name": "stdout",
     "output_type": "stream",
     "text": [
      "/Users/evanbiederstedt/Downloads\n"
     ]
    }
   ],
   "source": [
    "cd ~/Downloads"
   ]
  },
  {
   "cell_type": "code",
   "execution_count": 10,
   "metadata": {
    "collapsed": false
   },
   "outputs": [],
   "source": [
    "import scipy.io"
   ]
  },
  {
   "cell_type": "code",
   "execution_count": 11,
   "metadata": {
    "collapsed": false
   },
   "outputs": [],
   "source": [
    "patch_file = scipy.io.readsav('listpix_patch4.sav')"
   ]
  },
  {
   "cell_type": "code",
   "execution_count": 12,
   "metadata": {
    "collapsed": false
   },
   "outputs": [
    {
     "data": {
      "text/plain": [
       "scipy.io.idl.AttrDict"
      ]
     },
     "execution_count": 12,
     "metadata": {},
     "output_type": "execute_result"
    }
   ],
   "source": [
    "type(patch_file)"
   ]
  },
  {
   "cell_type": "code",
   "execution_count": 13,
   "metadata": {
    "collapsed": false
   },
   "outputs": [],
   "source": [
    "arr3 = patch_file['listpix_patch4']\n",
    "#print(arr3)"
   ]
  },
  {
   "cell_type": "code",
   "execution_count": 14,
   "metadata": {
    "collapsed": false
   },
   "outputs": [
    {
     "data": {
      "text/plain": [
       "numpy.ndarray"
      ]
     },
     "execution_count": 14,
     "metadata": {},
     "output_type": "execute_result"
    }
   ],
   "source": [
    "type(arr3)"
   ]
  },
  {
   "cell_type": "code",
   "execution_count": 15,
   "metadata": {
    "collapsed": false
   },
   "outputs": [
    {
     "name": "stdout",
     "output_type": "stream",
     "text": [
      "784\n"
     ]
    }
   ],
   "source": [
    "print(len(arr3)) # pixels total 12476"
   ]
  },
  {
   "cell_type": "code",
   "execution_count": 16,
   "metadata": {
    "collapsed": true
   },
   "outputs": [],
   "source": [
    "camb_map512 = \"camb_map_nside512.fits\""
   ]
  },
  {
   "cell_type": "code",
   "execution_count": 17,
   "metadata": {
    "collapsed": false
   },
   "outputs": [
    {
     "data": {
      "text/plain": [
       "'camb_map_nside512.fits'"
      ]
     },
     "execution_count": 17,
     "metadata": {},
     "output_type": "execute_result"
    }
   ],
   "source": [
    "camb_map512"
   ]
  },
  {
   "cell_type": "code",
   "execution_count": 18,
   "metadata": {
    "collapsed": false
   },
   "outputs": [
    {
     "name": "stdout",
     "output_type": "stream",
     "text": [
      "The total number of pixels is 3145728\n",
      "The maximum ell of the power spectrum C_l set to lmax = 2*nside 1024\n",
      "Healpix tells me total number of pixels npix is equal to 3145728\n"
     ]
    }
   ],
   "source": [
    "nside=512\n",
    "npix = 12*(nside**2) #total number of pixels, npix\n",
    "LMAX = ((2*nside)) #maximum l of the power spectrum C_l\n",
    "heal_npix = hp.nside2npix(nside) # Healpix calculated npix\n",
    "\n",
    "print(\"The total number of pixels is \" + str(npix))\n",
    "print(\"The maximum ell of the power spectrum C_l set to lmax = 2*nside \" +str(LMAX))\n",
    "print(\"Healpix tells me total number of pixels npix is equal to \" + str(heal_npix))"
   ]
  },
  {
   "cell_type": "code",
   "execution_count": 19,
   "metadata": {
    "collapsed": false
   },
   "outputs": [
    {
     "name": "stdout",
     "output_type": "stream",
     "text": [
      "NSIDE = 512\n",
      "ORDERING = RING in fits file\n"
     ]
    }
   ],
   "source": [
    "mapread_camb512 = hp.read_map(camb_map512)\n",
    "#hp.mollview(mapread_camb512)"
   ]
  },
  {
   "cell_type": "code",
   "execution_count": 20,
   "metadata": {
    "collapsed": true
   },
   "outputs": [],
   "source": [
    "# rename array for convenience\n",
    "tempval = mapread_camb512\n",
    "#print tempval\n",
    "\n",
    "# Data:\n",
    "#     tempval      # the array of pixel values, (3145728,)"
   ]
  },
  {
   "cell_type": "code",
   "execution_count": 21,
   "metadata": {
    "collapsed": false
   },
   "outputs": [
    {
     "name": "stdout",
     "output_type": "stream",
     "text": [
      "3145728\n",
      "(3145728,)\n"
     ]
    }
   ],
   "source": [
    "print(len(tempval))\n",
    "print(tempval.shape)"
   ]
  },
  {
   "cell_type": "code",
   "execution_count": 22,
   "metadata": {
    "collapsed": false
   },
   "outputs": [],
   "source": [
    "#\n",
    "# We only wish to use the pixels defined in our patch\n",
    "# These pixel indices are listed in arr3 such that total number pixels total 12476\n",
    "#\n",
    "# arr3: this defines pixel indices within patch\n",
    "# \n",
    "# To access pixel indices within array of CMB pixels, just use tempval[arr3]\n",
    "#\n",
    "patch=tempval[arr3]"
   ]
  },
  {
   "cell_type": "code",
   "execution_count": 23,
   "metadata": {
    "collapsed": false
   },
   "outputs": [
    {
     "name": "stdout",
     "output_type": "stream",
     "text": [
      "784\n"
     ]
    }
   ],
   "source": [
    "print(len(patch))"
   ]
  },
  {
   "cell_type": "code",
   "execution_count": 24,
   "metadata": {
    "collapsed": true
   },
   "outputs": [],
   "source": [
    "# The log-likelihood\n",
    "#\n",
    "# -2lnL \\propto m^T C^-1 m + ln det C + N ln (2pi)\n",
    "#\n",
    "# First term, m^T C^-1 m is the \"model fit term\"\n",
    "# Second term, lndetC is the \"complexity penalty\"\n",
    "# Third term, N ln 2pi, a constant\n",
    "#\n",
    "# m = tempval\n",
    "# C = Sij"
   ]
  },
  {
   "cell_type": "code",
   "execution_count": 25,
   "metadata": {
    "collapsed": false
   },
   "outputs": [],
   "source": [
    "m = patch\n"
   ]
  },
  {
   "cell_type": "code",
   "execution_count": 26,
   "metadata": {
    "collapsed": false
   },
   "outputs": [],
   "source": [
    "# Next, create the matrix, n_i /cdot n_j\n",
    "# solely using Healpy routines, i.e. taking the dot product of the vectors\n",
    "# The result is \"dotproductmatrix\""
   ]
  },
  {
   "cell_type": "code",
   "execution_count": 27,
   "metadata": {
    "collapsed": false
   },
   "outputs": [
    {
     "data": {
      "text/plain": [
       "3145728"
      ]
     },
     "execution_count": 27,
     "metadata": {},
     "output_type": "execute_result"
    }
   ],
   "source": [
    "npix"
   ]
  },
  {
   "cell_type": "code",
   "execution_count": 28,
   "metadata": {
    "collapsed": false
   },
   "outputs": [
    {
     "data": {
      "text/plain": [
       "512"
      ]
     },
     "execution_count": 28,
     "metadata": {},
     "output_type": "execute_result"
    }
   ],
   "source": [
    "nside"
   ]
  },
  {
   "cell_type": "code",
   "execution_count": 29,
   "metadata": {
    "collapsed": true
   },
   "outputs": [],
   "source": [
    "## healpy.pixelfunc.pix2vec(nside, ipix, nest=False)\n",
    "## \n",
    "## will give three arrays\n",
    "## arrays of all x values, all y values, all z values\n",
    "## RING scheme default\n",
    "# len()=3\n",
    "# type()=tuple"
   ]
  },
  {
   "cell_type": "code",
   "execution_count": 30,
   "metadata": {
    "collapsed": false
   },
   "outputs": [],
   "source": [
    "vecval = hp.pix2vec(nside, arr3) #Nside = 512, type()=tuple"
   ]
  },
  {
   "cell_type": "code",
   "execution_count": 31,
   "metadata": {
    "collapsed": false
   },
   "outputs": [
    {
     "data": {
      "text/plain": [
       "3"
      ]
     },
     "execution_count": 31,
     "metadata": {},
     "output_type": "execute_result"
    }
   ],
   "source": [
    "len(vecval)"
   ]
  },
  {
   "cell_type": "code",
   "execution_count": 32,
   "metadata": {
    "collapsed": true
   },
   "outputs": [],
   "source": [
    "vecvalx = vecval[0] #len() = 12476\n",
    "vecvaly = vecval[1]\n",
    "vecvalz = vecval[2]"
   ]
  },
  {
   "cell_type": "code",
   "execution_count": 33,
   "metadata": {
    "collapsed": false
   },
   "outputs": [],
   "source": [
    "# First arrange arrays vertically\n",
    "# numpy.vstack = Stack arrays in sequence vertically (row wise), input sequence of arrays\n",
    "totalvecval = np.vstack((vecvalx, vecvaly, vecvalz)) #type()=numpy.ndarray"
   ]
  },
  {
   "cell_type": "code",
   "execution_count": 34,
   "metadata": {
    "collapsed": true
   },
   "outputs": [],
   "source": [
    "trans = totalvecval.T #transpose\n"
   ]
  },
  {
   "cell_type": "code",
   "execution_count": 35,
   "metadata": {
    "collapsed": false
   },
   "outputs": [
    {
     "name": "stdout",
     "output_type": "stream",
     "text": [
      "(784, 784)\n"
     ]
    }
   ],
   "source": [
    "dotproductmatrix = trans.dot(totalvecval) #take the dot product\n",
    "print(dotproductmatrix.shape) # = (npix, npix) = (12476, 12476)\n",
    "# type(dotproductmatrix) = np.ndarray"
   ]
  },
  {
   "cell_type": "code",
   "execution_count": 36,
   "metadata": {
    "collapsed": false
   },
   "outputs": [],
   "source": [
    "#\n",
    "# The following procedure is for the angular power spectrum, C^th_ell\n",
    "# However, we are using some cosmological parameter, /alpha\n",
    "#\n",
    "#\n",
    "# =========================================================\n",
    "# =========================================================\n",
    "#\n",
    "# \\Sum_l (2*l + 1)/4pi C^th_l P_l (dotproductmatrix)\n",
    "# sum from l=2 to l=lmax\n",
    "#\n",
    "# arrays l = [2 3 4 .... lmax]\n",
    "#        C_l = [C_2 C_3 .... C_lmax]\n",
    "#\n",
    "# The correct way to do the summation:\n",
    "# \n",
    "# Step 1: calculate the matrix\n",
    "#            M = dotproductmatrix\n",
    "#\n",
    "# Step 2: evaluate the function P_l(x) for each entry of the matrix\n",
    "#         OUTPUT: [P_2(M) P_3(M) P_4(M) .... P_lmax(M) ]\n",
    "#\n",
    "# Step 3: (2*l +1)/4pi from l=2 to l=lmax\n",
    "#          [5/4pi 7/4pi 9/4pi 11/4pi .... 65/4pi ]\n",
    "#\n",
    "# Step 4: multiply \n",
    "#         [5/4pi*P_2(M) + 7/4pi*P_3(M) +...... + 65/4pi*P_32(M)]\n",
    "#\n",
    "#\n",
    "# Step 5: multiply by theoretical CAMB values, [C_2 C_3    C_31 C_32]\n",
    "#         [5/4pi**C_2* P_2(M) + 7/4pi*C_3* P_3(M) +...... + 65/4pi*C_32* P_32(M)]\n",
    "#\n",
    "# Step 6: This is an array of S_ij for each theory C_l, l=2 to l=32\n",
    "#         \n",
    "#\n",
    "#\n",
    "# =========================================================\n",
    "# ========================================================="
   ]
  },
  {
   "cell_type": "code",
   "execution_count": 37,
   "metadata": {
    "collapsed": false
   },
   "outputs": [],
   "source": [
    "#print(dotproductmatrix)"
   ]
  },
  {
   "cell_type": "code",
   "execution_count": 38,
   "metadata": {
    "collapsed": false
   },
   "outputs": [],
   "source": [
    "#\n",
    "# Let's first just take l_max = nside\n",
    "# so, that's lmax = 512\n",
    "#"
   ]
  },
  {
   "cell_type": "code",
   "execution_count": 39,
   "metadata": {
    "collapsed": false
   },
   "outputs": [],
   "source": [
    "# For lmax = 512, we must create an array of ell values, i.e. [0 1 2 3....31 32]\n",
    "ell = np.arange(513)\n",
    "#print(ell)\n",
    "# \n",
    "# Subtract the monopole and dipole, l=0, l=1\n",
    "ellval = ell[2:]\n",
    "#print(ellval)\n"
   ]
  },
  {
   "cell_type": "code",
   "execution_count": 40,
   "metadata": {
    "collapsed": true
   },
   "outputs": [],
   "source": [
    "# The correct way to do the summation:\n",
    "# \n",
    "# Step 1: calculate the matrix\n",
    "#            M = dotproductmatrix\n",
    "#\n",
    "# Step 2: evaluate the function P_l(x) for each entry of the matrix\n",
    "#         OUTPUT: [P_2(M) P_3(M) P_4(M) .... P_lmax(M) ]\n",
    "#\n",
    "# Step 3: (2*l +1)/4pi from l=2 to l=lmax\n",
    "#          [5/4pi 7/4pi 9/4pi 11/4pi .... 65/4pi ]\n",
    "#\n",
    "# Step 4: multiply \n",
    "#         [5/4pi*P_2(M) + 7/4pi*P_3(M) +...... + 65/4pi*P_32(M)]\n",
    "#\n",
    "#\n",
    "# Step 5: multiply by theoretical CAMB values, [C_2 C_3    C_31 C_32]\n",
    "#         [5/4pi**C_2* P_2(M) + 7/4pi*C_3* P_3(M) +...... + 65/4pi*C_32* P_32(M)]\n",
    "#\n",
    "# Step 6: This is an array of S_ij for each theory C_l, l=2 to l=32\n",
    "#         "
   ]
  },
  {
   "cell_type": "code",
   "execution_count": 41,
   "metadata": {
    "collapsed": false
   },
   "outputs": [
    {
     "data": {
      "text/plain": [
       "(784, 784)"
      ]
     },
     "execution_count": 41,
     "metadata": {},
     "output_type": "execute_result"
    }
   ],
   "source": [
    "dotproductmatrix.shape"
   ]
  },
  {
   "cell_type": "code",
   "execution_count": 42,
   "metadata": {
    "collapsed": true
   },
   "outputs": [],
   "source": [
    "# Step 1: calculate the matrix\n",
    "M = dotproductmatrix"
   ]
  },
  {
   "cell_type": "code",
   "execution_count": 43,
   "metadata": {
    "collapsed": true
   },
   "outputs": [],
   "source": [
    "# Step 2: evaluate the function P_l(x) for each entry of the matrix\n",
    "#         OUTPUT: [P_2(M) P_3(M) P_4(M) .... P_lmax(M) ]\n"
   ]
  },
  {
   "cell_type": "code",
   "execution_count": 44,
   "metadata": {
    "collapsed": false
   },
   "outputs": [],
   "source": [
    "# CODE BOTTLENECK!\n",
    "# \n",
    "# Evaluate Legendre from l=2 to l=lmax for each matrix entry\n",
    "# [P_2(M) P_3(M) P_4(M) .... P_lmax(M) ]\n",
    "# \n",
    "# WITHOUT BROADCASTING, one would do something like \n",
    "# PlMat = []\n",
    "# for i in ellval:\n",
    "#    PlMat.append( eval_legendre(i, dotproductmatrix) )\n",
    "#\n",
    "#\n",
    "# With broadcasting, we use\n",
    "# PlMat = eval_legendre(ellval[:, None, None], dotproductmatrix)\n",
    "# PlMat = [P_2(M) P_3(M) P_4(M) .... P_lmax(M) ]\n",
    "# PlMat is an array, len()=31 of 31 3072 by 3072 matrices\n",
    "# PlMat.shape = (31, 3072, 3072)"
   ]
  },
  {
   "cell_type": "code",
   "execution_count": 45,
   "metadata": {
    "collapsed": false
   },
   "outputs": [
    {
     "data": {
      "text/plain": [
       "array([2, 3, 4, 5])"
      ]
     },
     "execution_count": 45,
     "metadata": {},
     "output_type": "execute_result"
    }
   ],
   "source": [
    "#This doesn't run for lmax=512\n",
    "#So, split 'ellval' into ten arrays and then sum afterwards\n",
    "\n",
    "splitell = np.array_split(ellval, 150)\n",
    "splitell[0]"
   ]
  },
  {
   "cell_type": "code",
   "execution_count": 46,
   "metadata": {
    "collapsed": true
   },
   "outputs": [],
   "source": [
    "PlMat1 = eval_legendre(splitell[0][:, None, None], dotproductmatrix)"
   ]
  },
  {
   "cell_type": "code",
   "execution_count": 47,
   "metadata": {
    "collapsed": true
   },
   "outputs": [],
   "source": [
    "PlMat2 = eval_legendre(splitell[1][:, None, None], dotproductmatrix)"
   ]
  },
  {
   "cell_type": "code",
   "execution_count": 48,
   "metadata": {
    "collapsed": true
   },
   "outputs": [],
   "source": [
    "PlMat3 = eval_legendre(splitell[2][:, None, None], dotproductmatrix)"
   ]
  },
  {
   "cell_type": "code",
   "execution_count": 49,
   "metadata": {
    "collapsed": true
   },
   "outputs": [],
   "source": [
    "PlMat4 = eval_legendre(splitell[3][:, None, None], dotproductmatrix)"
   ]
  },
  {
   "cell_type": "code",
   "execution_count": 50,
   "metadata": {
    "collapsed": true
   },
   "outputs": [],
   "source": [
    "PlMat5 = eval_legendre(splitell[4][:, None, None], dotproductmatrix)"
   ]
  },
  {
   "cell_type": "code",
   "execution_count": 51,
   "metadata": {
    "collapsed": false
   },
   "outputs": [],
   "source": [
    "PlMat6 = eval_legendre(splitell[5][:, None, None], dotproductmatrix)"
   ]
  },
  {
   "cell_type": "code",
   "execution_count": 52,
   "metadata": {
    "collapsed": true
   },
   "outputs": [],
   "source": [
    "PlMat7 = eval_legendre(splitell[6][:, None, None], dotproductmatrix)"
   ]
  },
  {
   "cell_type": "code",
   "execution_count": 53,
   "metadata": {
    "collapsed": true
   },
   "outputs": [],
   "source": [
    "PlMat8 = eval_legendre(splitell[7][:, None, None], dotproductmatrix)"
   ]
  },
  {
   "cell_type": "code",
   "execution_count": 54,
   "metadata": {
    "collapsed": true
   },
   "outputs": [],
   "source": [
    "PlMat9 = eval_legendre(splitell[8][:, None, None], dotproductmatrix)"
   ]
  },
  {
   "cell_type": "code",
   "execution_count": null,
   "metadata": {
    "collapsed": false
   },
   "outputs": [],
   "source": []
  },
  {
   "cell_type": "code",
   "execution_count": 55,
   "metadata": {
    "collapsed": true
   },
   "outputs": [],
   "source": [
    "PlMat10 = eval_legendre(splitell[9][:, None, None], dotproductmatrix)"
   ]
  },
  {
   "cell_type": "code",
   "execution_count": 56,
   "metadata": {
    "collapsed": true
   },
   "outputs": [],
   "source": [
    "PlMat11 = eval_legendre(splitell[10][:, None, None], dotproductmatrix)"
   ]
  },
  {
   "cell_type": "code",
   "execution_count": 57,
   "metadata": {
    "collapsed": true
   },
   "outputs": [],
   "source": [
    "PlMat12 = eval_legendre(splitell[11][:, None, None], dotproductmatrix)"
   ]
  },
  {
   "cell_type": "code",
   "execution_count": 58,
   "metadata": {
    "collapsed": true
   },
   "outputs": [],
   "source": [
    "PlMat13 = eval_legendre(splitell[12][:, None, None], dotproductmatrix)"
   ]
  },
  {
   "cell_type": "code",
   "execution_count": 59,
   "metadata": {
    "collapsed": true
   },
   "outputs": [],
   "source": [
    "PlMat14 = eval_legendre(splitell[13][:, None, None], dotproductmatrix)"
   ]
  },
  {
   "cell_type": "code",
   "execution_count": 60,
   "metadata": {
    "collapsed": true
   },
   "outputs": [],
   "source": [
    "PlMat15 = eval_legendre(splitell[14][:, None, None], dotproductmatrix)"
   ]
  },
  {
   "cell_type": "code",
   "execution_count": 61,
   "metadata": {
    "collapsed": true
   },
   "outputs": [],
   "source": [
    "PlMat16 = eval_legendre(splitell[15][:, None, None], dotproductmatrix)"
   ]
  },
  {
   "cell_type": "code",
   "execution_count": 62,
   "metadata": {
    "collapsed": true
   },
   "outputs": [],
   "source": [
    "PlMat17 = eval_legendre(splitell[16][:, None, None], dotproductmatrix)"
   ]
  },
  {
   "cell_type": "code",
   "execution_count": 63,
   "metadata": {
    "collapsed": true
   },
   "outputs": [],
   "source": [
    "PlMat18 = eval_legendre(splitell[17][:, None, None], dotproductmatrix)"
   ]
  },
  {
   "cell_type": "code",
   "execution_count": 64,
   "metadata": {
    "collapsed": true
   },
   "outputs": [],
   "source": [
    "PlMat19 = eval_legendre(splitell[18][:, None, None], dotproductmatrix)"
   ]
  },
  {
   "cell_type": "code",
   "execution_count": 65,
   "metadata": {
    "collapsed": true
   },
   "outputs": [],
   "source": [
    "PlMat20 = eval_legendre(splitell[19][:, None, None], dotproductmatrix)"
   ]
  },
  {
   "cell_type": "code",
   "execution_count": 66,
   "metadata": {
    "collapsed": true
   },
   "outputs": [],
   "source": [
    "PlMat21 = eval_legendre(splitell[20][:, None, None], dotproductmatrix)"
   ]
  },
  {
   "cell_type": "code",
   "execution_count": 67,
   "metadata": {
    "collapsed": true
   },
   "outputs": [],
   "source": [
    "PlMat22 = eval_legendre(splitell[21][:, None, None], dotproductmatrix)"
   ]
  },
  {
   "cell_type": "code",
   "execution_count": 68,
   "metadata": {
    "collapsed": true
   },
   "outputs": [],
   "source": [
    "PlMat23 = eval_legendre(splitell[22][:, None, None], dotproductmatrix)"
   ]
  },
  {
   "cell_type": "code",
   "execution_count": 69,
   "metadata": {
    "collapsed": true
   },
   "outputs": [],
   "source": [
    "PlMat24 = eval_legendre(splitell[23][:, None, None], dotproductmatrix)"
   ]
  },
  {
   "cell_type": "code",
   "execution_count": 70,
   "metadata": {
    "collapsed": true
   },
   "outputs": [],
   "source": [
    "PlMat25 = eval_legendre(splitell[24][:, None, None], dotproductmatrix)"
   ]
  },
  {
   "cell_type": "code",
   "execution_count": 71,
   "metadata": {
    "collapsed": true
   },
   "outputs": [],
   "source": [
    "PlMat26 = eval_legendre(splitell[25][:, None, None], dotproductmatrix)"
   ]
  },
  {
   "cell_type": "code",
   "execution_count": 72,
   "metadata": {
    "collapsed": true
   },
   "outputs": [],
   "source": [
    "PlMat27 = eval_legendre(splitell[26][:, None, None], dotproductmatrix)"
   ]
  },
  {
   "cell_type": "code",
   "execution_count": 73,
   "metadata": {
    "collapsed": true
   },
   "outputs": [],
   "source": [
    "PlMat28 = eval_legendre(splitell[27][:, None, None], dotproductmatrix)"
   ]
  },
  {
   "cell_type": "code",
   "execution_count": 74,
   "metadata": {
    "collapsed": true
   },
   "outputs": [],
   "source": [
    "PlMat29 = eval_legendre(splitell[28][:, None, None], dotproductmatrix)"
   ]
  },
  {
   "cell_type": "code",
   "execution_count": 75,
   "metadata": {
    "collapsed": true
   },
   "outputs": [],
   "source": [
    "PlMat30 = eval_legendre(splitell[29][:, None, None], dotproductmatrix)"
   ]
  },
  {
   "cell_type": "code",
   "execution_count": 76,
   "metadata": {
    "collapsed": true
   },
   "outputs": [],
   "source": [
    "PlMat31 = eval_legendre(splitell[30][:, None, None], dotproductmatrix)"
   ]
  },
  {
   "cell_type": "code",
   "execution_count": 77,
   "metadata": {
    "collapsed": true
   },
   "outputs": [],
   "source": [
    "PlMat32 = eval_legendre(splitell[31][:, None, None], dotproductmatrix)"
   ]
  },
  {
   "cell_type": "code",
   "execution_count": 78,
   "metadata": {
    "collapsed": true
   },
   "outputs": [],
   "source": [
    "PlMat33 = eval_legendre(splitell[32][:, None, None], dotproductmatrix)"
   ]
  },
  {
   "cell_type": "code",
   "execution_count": 79,
   "metadata": {
    "collapsed": true
   },
   "outputs": [],
   "source": [
    "PlMat34 = eval_legendre(splitell[33][:, None, None], dotproductmatrix)"
   ]
  },
  {
   "cell_type": "code",
   "execution_count": 80,
   "metadata": {
    "collapsed": true
   },
   "outputs": [],
   "source": [
    "PlMat35 = eval_legendre(splitell[34][:, None, None], dotproductmatrix)"
   ]
  },
  {
   "cell_type": "code",
   "execution_count": 81,
   "metadata": {
    "collapsed": true
   },
   "outputs": [],
   "source": [
    "PlMat36 = eval_legendre(splitell[35][:, None, None], dotproductmatrix)"
   ]
  },
  {
   "cell_type": "code",
   "execution_count": 82,
   "metadata": {
    "collapsed": true
   },
   "outputs": [],
   "source": [
    "PlMat37 = eval_legendre(splitell[36][:, None, None], dotproductmatrix)"
   ]
  },
  {
   "cell_type": "code",
   "execution_count": 83,
   "metadata": {
    "collapsed": true
   },
   "outputs": [],
   "source": [
    "PlMat38 = eval_legendre(splitell[37][:, None, None], dotproductmatrix)"
   ]
  },
  {
   "cell_type": "code",
   "execution_count": 84,
   "metadata": {
    "collapsed": true
   },
   "outputs": [],
   "source": [
    "PlMat39 = eval_legendre(splitell[38][:, None, None], dotproductmatrix)"
   ]
  },
  {
   "cell_type": "code",
   "execution_count": 85,
   "metadata": {
    "collapsed": true
   },
   "outputs": [],
   "source": [
    "PlMat40 = eval_legendre(splitell[39][:, None, None], dotproductmatrix)"
   ]
  },
  {
   "cell_type": "code",
   "execution_count": 86,
   "metadata": {
    "collapsed": true
   },
   "outputs": [],
   "source": [
    "PlMat41 = eval_legendre(splitell[40][:, None, None], dotproductmatrix)"
   ]
  },
  {
   "cell_type": "code",
   "execution_count": 87,
   "metadata": {
    "collapsed": true
   },
   "outputs": [],
   "source": [
    "PlMat42 = eval_legendre(splitell[41][:, None, None], dotproductmatrix)"
   ]
  },
  {
   "cell_type": "code",
   "execution_count": 88,
   "metadata": {
    "collapsed": true
   },
   "outputs": [],
   "source": [
    "PlMat43 = eval_legendre(splitell[42][:, None, None], dotproductmatrix)"
   ]
  },
  {
   "cell_type": "code",
   "execution_count": 89,
   "metadata": {
    "collapsed": true
   },
   "outputs": [],
   "source": [
    "PlMat44 = eval_legendre(splitell[43][:, None, None], dotproductmatrix)"
   ]
  },
  {
   "cell_type": "code",
   "execution_count": 90,
   "metadata": {
    "collapsed": true
   },
   "outputs": [],
   "source": [
    "PlMat45 = eval_legendre(splitell[44][:, None, None], dotproductmatrix)"
   ]
  },
  {
   "cell_type": "code",
   "execution_count": 91,
   "metadata": {
    "collapsed": true
   },
   "outputs": [],
   "source": [
    "PlMat46 = eval_legendre(splitell[45][:, None, None], dotproductmatrix)"
   ]
  },
  {
   "cell_type": "code",
   "execution_count": 92,
   "metadata": {
    "collapsed": true
   },
   "outputs": [],
   "source": [
    "PlMat47 = eval_legendre(splitell[46][:, None, None], dotproductmatrix)"
   ]
  },
  {
   "cell_type": "code",
   "execution_count": 93,
   "metadata": {
    "collapsed": true
   },
   "outputs": [],
   "source": [
    "PlMat48 = eval_legendre(splitell[47][:, None, None], dotproductmatrix)"
   ]
  },
  {
   "cell_type": "code",
   "execution_count": 94,
   "metadata": {
    "collapsed": true
   },
   "outputs": [],
   "source": [
    "PlMat49 = eval_legendre(splitell[48][:, None, None], dotproductmatrix)"
   ]
  },
  {
   "cell_type": "code",
   "execution_count": 95,
   "metadata": {
    "collapsed": true
   },
   "outputs": [],
   "source": [
    "PlMat50 = eval_legendre(splitell[49][:, None, None], dotproductmatrix)"
   ]
  },
  {
   "cell_type": "code",
   "execution_count": 96,
   "metadata": {
    "collapsed": true
   },
   "outputs": [],
   "source": [
    "PlMat51 = eval_legendre(splitell[50][:, None, None], dotproductmatrix)"
   ]
  },
  {
   "cell_type": "code",
   "execution_count": 97,
   "metadata": {
    "collapsed": true
   },
   "outputs": [],
   "source": [
    "PlMat52 = eval_legendre(splitell[51][:, None, None], dotproductmatrix)"
   ]
  },
  {
   "cell_type": "code",
   "execution_count": 98,
   "metadata": {
    "collapsed": true
   },
   "outputs": [],
   "source": [
    "PlMat53 = eval_legendre(splitell[52][:, None, None], dotproductmatrix)"
   ]
  },
  {
   "cell_type": "code",
   "execution_count": 99,
   "metadata": {
    "collapsed": true
   },
   "outputs": [],
   "source": [
    "PlMat54 = eval_legendre(splitell[53][:, None, None], dotproductmatrix)"
   ]
  },
  {
   "cell_type": "code",
   "execution_count": 100,
   "metadata": {
    "collapsed": true
   },
   "outputs": [],
   "source": [
    "PlMat55 = eval_legendre(splitell[54][:, None, None], dotproductmatrix)"
   ]
  },
  {
   "cell_type": "code",
   "execution_count": 101,
   "metadata": {
    "collapsed": true
   },
   "outputs": [],
   "source": [
    "PlMat56 = eval_legendre(splitell[55][:, None, None], dotproductmatrix)"
   ]
  },
  {
   "cell_type": "code",
   "execution_count": 102,
   "metadata": {
    "collapsed": true
   },
   "outputs": [],
   "source": [
    "PlMat57 = eval_legendre(splitell[56][:, None, None], dotproductmatrix)"
   ]
  },
  {
   "cell_type": "code",
   "execution_count": 103,
   "metadata": {
    "collapsed": true
   },
   "outputs": [],
   "source": [
    "PlMat58 = eval_legendre(splitell[57][:, None, None], dotproductmatrix)"
   ]
  },
  {
   "cell_type": "code",
   "execution_count": 104,
   "metadata": {
    "collapsed": true
   },
   "outputs": [],
   "source": [
    "PlMat59 = eval_legendre(splitell[58][:, None, None], dotproductmatrix)"
   ]
  },
  {
   "cell_type": "code",
   "execution_count": 105,
   "metadata": {
    "collapsed": true
   },
   "outputs": [],
   "source": [
    "PlMat60 = eval_legendre(splitell[59][:, None, None], dotproductmatrix)"
   ]
  },
  {
   "cell_type": "code",
   "execution_count": 106,
   "metadata": {
    "collapsed": true
   },
   "outputs": [],
   "source": [
    "PlMat61 = eval_legendre(splitell[60][:, None, None], dotproductmatrix)"
   ]
  },
  {
   "cell_type": "code",
   "execution_count": 107,
   "metadata": {
    "collapsed": true
   },
   "outputs": [],
   "source": [
    "PlMat62 = eval_legendre(splitell[61][:, None, None], dotproductmatrix)"
   ]
  },
  {
   "cell_type": "code",
   "execution_count": 108,
   "metadata": {
    "collapsed": true
   },
   "outputs": [],
   "source": [
    "PlMat63 = eval_legendre(splitell[62][:, None, None], dotproductmatrix)"
   ]
  },
  {
   "cell_type": "code",
   "execution_count": 109,
   "metadata": {
    "collapsed": true
   },
   "outputs": [],
   "source": [
    "PlMat64 = eval_legendre(splitell[63][:, None, None], dotproductmatrix)"
   ]
  },
  {
   "cell_type": "code",
   "execution_count": 110,
   "metadata": {
    "collapsed": true
   },
   "outputs": [],
   "source": [
    "PlMat65 = eval_legendre(splitell[64][:, None, None], dotproductmatrix)"
   ]
  },
  {
   "cell_type": "code",
   "execution_count": 111,
   "metadata": {
    "collapsed": true
   },
   "outputs": [],
   "source": [
    "PlMat66 = eval_legendre(splitell[65][:, None, None], dotproductmatrix)"
   ]
  },
  {
   "cell_type": "code",
   "execution_count": 112,
   "metadata": {
    "collapsed": true
   },
   "outputs": [],
   "source": [
    "PlMat67 = eval_legendre(splitell[66][:, None, None], dotproductmatrix)"
   ]
  },
  {
   "cell_type": "code",
   "execution_count": 113,
   "metadata": {
    "collapsed": true
   },
   "outputs": [],
   "source": [
    "PlMat68 = eval_legendre(splitell[67][:, None, None], dotproductmatrix)"
   ]
  },
  {
   "cell_type": "code",
   "execution_count": 114,
   "metadata": {
    "collapsed": true
   },
   "outputs": [],
   "source": [
    "PlMat69 = eval_legendre(splitell[68][:, None, None], dotproductmatrix)"
   ]
  },
  {
   "cell_type": "code",
   "execution_count": 115,
   "metadata": {
    "collapsed": true
   },
   "outputs": [],
   "source": [
    "PlMat70 = eval_legendre(splitell[69][:, None, None], dotproductmatrix)"
   ]
  },
  {
   "cell_type": "code",
   "execution_count": 116,
   "metadata": {
    "collapsed": true
   },
   "outputs": [],
   "source": [
    "PlMat71 = eval_legendre(splitell[70][:, None, None], dotproductmatrix)"
   ]
  },
  {
   "cell_type": "code",
   "execution_count": 117,
   "metadata": {
    "collapsed": true
   },
   "outputs": [],
   "source": [
    "PlMat72 = eval_legendre(splitell[71][:, None, None], dotproductmatrix)"
   ]
  },
  {
   "cell_type": "code",
   "execution_count": 118,
   "metadata": {
    "collapsed": true
   },
   "outputs": [],
   "source": [
    "PlMat73 = eval_legendre(splitell[72][:, None, None], dotproductmatrix)"
   ]
  },
  {
   "cell_type": "code",
   "execution_count": 119,
   "metadata": {
    "collapsed": true
   },
   "outputs": [],
   "source": [
    "PlMat74 = eval_legendre(splitell[73][:, None, None], dotproductmatrix)"
   ]
  },
  {
   "cell_type": "code",
   "execution_count": 120,
   "metadata": {
    "collapsed": true
   },
   "outputs": [],
   "source": [
    "PlMat75 = eval_legendre(splitell[74][:, None, None], dotproductmatrix)"
   ]
  },
  {
   "cell_type": "code",
   "execution_count": 121,
   "metadata": {
    "collapsed": true
   },
   "outputs": [],
   "source": [
    "PlMat76 = eval_legendre(splitell[75][:, None, None], dotproductmatrix)"
   ]
  },
  {
   "cell_type": "code",
   "execution_count": 122,
   "metadata": {
    "collapsed": true
   },
   "outputs": [],
   "source": [
    "PlMat77 = eval_legendre(splitell[76][:, None, None], dotproductmatrix)"
   ]
  },
  {
   "cell_type": "code",
   "execution_count": 123,
   "metadata": {
    "collapsed": true
   },
   "outputs": [],
   "source": [
    "PlMat78 = eval_legendre(splitell[77][:, None, None], dotproductmatrix)"
   ]
  },
  {
   "cell_type": "code",
   "execution_count": 124,
   "metadata": {
    "collapsed": true
   },
   "outputs": [],
   "source": [
    "PlMat79 = eval_legendre(splitell[78][:, None, None], dotproductmatrix)"
   ]
  },
  {
   "cell_type": "code",
   "execution_count": 125,
   "metadata": {
    "collapsed": true
   },
   "outputs": [],
   "source": [
    "PlMat80 = eval_legendre(splitell[79][:, None, None], dotproductmatrix)"
   ]
  },
  {
   "cell_type": "code",
   "execution_count": 126,
   "metadata": {
    "collapsed": true
   },
   "outputs": [],
   "source": [
    "PlMat81 = eval_legendre(splitell[80][:, None, None], dotproductmatrix)"
   ]
  },
  {
   "cell_type": "code",
   "execution_count": 127,
   "metadata": {
    "collapsed": true
   },
   "outputs": [],
   "source": [
    "PlMat82 = eval_legendre(splitell[81][:, None, None], dotproductmatrix)"
   ]
  },
  {
   "cell_type": "code",
   "execution_count": 128,
   "metadata": {
    "collapsed": true
   },
   "outputs": [],
   "source": [
    "PlMat83 = eval_legendre(splitell[82][:, None, None], dotproductmatrix)"
   ]
  },
  {
   "cell_type": "code",
   "execution_count": 129,
   "metadata": {
    "collapsed": true
   },
   "outputs": [],
   "source": [
    "PlMat84 = eval_legendre(splitell[83][:, None, None], dotproductmatrix)"
   ]
  },
  {
   "cell_type": "code",
   "execution_count": 130,
   "metadata": {
    "collapsed": true
   },
   "outputs": [],
   "source": [
    "PlMat85 = eval_legendre(splitell[84][:, None, None], dotproductmatrix)"
   ]
  },
  {
   "cell_type": "code",
   "execution_count": 131,
   "metadata": {
    "collapsed": true
   },
   "outputs": [],
   "source": [
    "PlMat86 = eval_legendre(splitell[85][:, None, None], dotproductmatrix)"
   ]
  },
  {
   "cell_type": "code",
   "execution_count": 132,
   "metadata": {
    "collapsed": true
   },
   "outputs": [],
   "source": [
    "PlMat87 = eval_legendre(splitell[86][:, None, None], dotproductmatrix)"
   ]
  },
  {
   "cell_type": "code",
   "execution_count": 133,
   "metadata": {
    "collapsed": true
   },
   "outputs": [],
   "source": [
    "PlMat88 = eval_legendre(splitell[87][:, None, None], dotproductmatrix)"
   ]
  },
  {
   "cell_type": "code",
   "execution_count": 134,
   "metadata": {
    "collapsed": true
   },
   "outputs": [],
   "source": [
    "PlMat89 = eval_legendre(splitell[88][:, None, None], dotproductmatrix)"
   ]
  },
  {
   "cell_type": "code",
   "execution_count": 135,
   "metadata": {
    "collapsed": true
   },
   "outputs": [],
   "source": [
    "PlMat90 = eval_legendre(splitell[89][:, None, None], dotproductmatrix)"
   ]
  },
  {
   "cell_type": "code",
   "execution_count": 136,
   "metadata": {
    "collapsed": true
   },
   "outputs": [],
   "source": [
    "PlMat91 = eval_legendre(splitell[90][:, None, None], dotproductmatrix)"
   ]
  },
  {
   "cell_type": "code",
   "execution_count": 137,
   "metadata": {
    "collapsed": true
   },
   "outputs": [],
   "source": [
    "PlMat92 = eval_legendre(splitell[91][:, None, None], dotproductmatrix)"
   ]
  },
  {
   "cell_type": "code",
   "execution_count": 138,
   "metadata": {
    "collapsed": true
   },
   "outputs": [],
   "source": [
    "PlMat93 = eval_legendre(splitell[92][:, None, None], dotproductmatrix)"
   ]
  },
  {
   "cell_type": "code",
   "execution_count": 139,
   "metadata": {
    "collapsed": true
   },
   "outputs": [],
   "source": [
    "PlMat94 = eval_legendre(splitell[93][:, None, None], dotproductmatrix)"
   ]
  },
  {
   "cell_type": "code",
   "execution_count": 140,
   "metadata": {
    "collapsed": true
   },
   "outputs": [],
   "source": [
    "PlMat95 = eval_legendre(splitell[94][:, None, None], dotproductmatrix)"
   ]
  },
  {
   "cell_type": "code",
   "execution_count": 141,
   "metadata": {
    "collapsed": true
   },
   "outputs": [],
   "source": [
    "PlMat96 = eval_legendre(splitell[95][:, None, None], dotproductmatrix)"
   ]
  },
  {
   "cell_type": "code",
   "execution_count": 142,
   "metadata": {
    "collapsed": true
   },
   "outputs": [],
   "source": [
    "PlMat97 = eval_legendre(splitell[96][:, None, None], dotproductmatrix)"
   ]
  },
  {
   "cell_type": "code",
   "execution_count": 143,
   "metadata": {
    "collapsed": true
   },
   "outputs": [],
   "source": [
    "PlMat98 = eval_legendre(splitell[97][:, None, None], dotproductmatrix)"
   ]
  },
  {
   "cell_type": "code",
   "execution_count": 144,
   "metadata": {
    "collapsed": true
   },
   "outputs": [],
   "source": [
    "PlMat99 = eval_legendre(splitell[98][:, None, None], dotproductmatrix)"
   ]
  },
  {
   "cell_type": "code",
   "execution_count": 145,
   "metadata": {
    "collapsed": true
   },
   "outputs": [],
   "source": [
    "PlMat100 = eval_legendre(splitell[99][:, None, None], dotproductmatrix)"
   ]
  },
  {
   "cell_type": "code",
   "execution_count": 146,
   "metadata": {
    "collapsed": true
   },
   "outputs": [],
   "source": [
    "PlMat101 = eval_legendre(splitell[100][:, None, None], dotproductmatrix)"
   ]
  },
  {
   "cell_type": "code",
   "execution_count": 147,
   "metadata": {
    "collapsed": true
   },
   "outputs": [],
   "source": [
    "PlMat102 = eval_legendre(splitell[101][:, None, None], dotproductmatrix)"
   ]
  },
  {
   "cell_type": "code",
   "execution_count": 148,
   "metadata": {
    "collapsed": true
   },
   "outputs": [],
   "source": [
    "PlMat103 = eval_legendre(splitell[102][:, None, None], dotproductmatrix)"
   ]
  },
  {
   "cell_type": "code",
   "execution_count": 149,
   "metadata": {
    "collapsed": true
   },
   "outputs": [],
   "source": [
    "PlMat104 = eval_legendre(splitell[103][:, None, None], dotproductmatrix)"
   ]
  },
  {
   "cell_type": "code",
   "execution_count": 150,
   "metadata": {
    "collapsed": true
   },
   "outputs": [],
   "source": [
    "PlMat105 = eval_legendre(splitell[104][:, None, None], dotproductmatrix)"
   ]
  },
  {
   "cell_type": "code",
   "execution_count": 151,
   "metadata": {
    "collapsed": true
   },
   "outputs": [],
   "source": [
    "PlMat106 = eval_legendre(splitell[105][:, None, None], dotproductmatrix)"
   ]
  },
  {
   "cell_type": "code",
   "execution_count": 152,
   "metadata": {
    "collapsed": true
   },
   "outputs": [],
   "source": [
    "PlMat107 = eval_legendre(splitell[106][:, None, None], dotproductmatrix)"
   ]
  },
  {
   "cell_type": "code",
   "execution_count": 153,
   "metadata": {
    "collapsed": true
   },
   "outputs": [],
   "source": [
    "PlMat108 = eval_legendre(splitell[107][:, None, None], dotproductmatrix)"
   ]
  },
  {
   "cell_type": "code",
   "execution_count": 154,
   "metadata": {
    "collapsed": true
   },
   "outputs": [],
   "source": [
    "PlMat109 = eval_legendre(splitell[108][:, None, None], dotproductmatrix)"
   ]
  },
  {
   "cell_type": "code",
   "execution_count": 155,
   "metadata": {
    "collapsed": true
   },
   "outputs": [],
   "source": [
    "PlMat110 = eval_legendre(splitell[109][:, None, None], dotproductmatrix)"
   ]
  },
  {
   "cell_type": "code",
   "execution_count": 156,
   "metadata": {
    "collapsed": true
   },
   "outputs": [],
   "source": [
    "PlMat111 = eval_legendre(splitell[110][:, None, None], dotproductmatrix)"
   ]
  },
  {
   "cell_type": "code",
   "execution_count": 157,
   "metadata": {
    "collapsed": true
   },
   "outputs": [],
   "source": [
    "PlMat112 = eval_legendre(splitell[111][:, None, None], dotproductmatrix)"
   ]
  },
  {
   "cell_type": "code",
   "execution_count": 158,
   "metadata": {
    "collapsed": true
   },
   "outputs": [],
   "source": [
    "PlMat113 = eval_legendre(splitell[112][:, None, None], dotproductmatrix)"
   ]
  },
  {
   "cell_type": "code",
   "execution_count": 159,
   "metadata": {
    "collapsed": true
   },
   "outputs": [],
   "source": [
    "PlMat114 = eval_legendre(splitell[113][:, None, None], dotproductmatrix)"
   ]
  },
  {
   "cell_type": "code",
   "execution_count": 160,
   "metadata": {
    "collapsed": true
   },
   "outputs": [],
   "source": [
    "PlMat115 = eval_legendre(splitell[114][:, None, None], dotproductmatrix)"
   ]
  },
  {
   "cell_type": "code",
   "execution_count": 161,
   "metadata": {
    "collapsed": true
   },
   "outputs": [],
   "source": [
    "PlMat116 = eval_legendre(splitell[115][:, None, None], dotproductmatrix)"
   ]
  },
  {
   "cell_type": "code",
   "execution_count": 162,
   "metadata": {
    "collapsed": true
   },
   "outputs": [],
   "source": [
    "PlMat117 = eval_legendre(splitell[116][:, None, None], dotproductmatrix)"
   ]
  },
  {
   "cell_type": "code",
   "execution_count": 163,
   "metadata": {
    "collapsed": true
   },
   "outputs": [],
   "source": [
    "PlMat118 = eval_legendre(splitell[117][:, None, None], dotproductmatrix)"
   ]
  },
  {
   "cell_type": "code",
   "execution_count": 164,
   "metadata": {
    "collapsed": true
   },
   "outputs": [],
   "source": [
    "PlMat119 = eval_legendre(splitell[118][:, None, None], dotproductmatrix)"
   ]
  },
  {
   "cell_type": "code",
   "execution_count": 165,
   "metadata": {
    "collapsed": true
   },
   "outputs": [],
   "source": [
    "PlMat120 = eval_legendre(splitell[119][:, None, None], dotproductmatrix)"
   ]
  },
  {
   "cell_type": "code",
   "execution_count": 166,
   "metadata": {
    "collapsed": true
   },
   "outputs": [],
   "source": [
    "PlMat121 = eval_legendre(splitell[120][:, None, None], dotproductmatrix)"
   ]
  },
  {
   "cell_type": "code",
   "execution_count": 167,
   "metadata": {
    "collapsed": true
   },
   "outputs": [],
   "source": [
    "PlMat122 = eval_legendre(splitell[121][:, None, None], dotproductmatrix)"
   ]
  },
  {
   "cell_type": "code",
   "execution_count": 168,
   "metadata": {
    "collapsed": true
   },
   "outputs": [],
   "source": [
    "PlMat123 = eval_legendre(splitell[122][:, None, None], dotproductmatrix)"
   ]
  },
  {
   "cell_type": "code",
   "execution_count": 169,
   "metadata": {
    "collapsed": true
   },
   "outputs": [],
   "source": [
    "PlMat124 = eval_legendre(splitell[123][:, None, None], dotproductmatrix)"
   ]
  },
  {
   "cell_type": "code",
   "execution_count": 170,
   "metadata": {
    "collapsed": true
   },
   "outputs": [],
   "source": [
    "PlMat125 = eval_legendre(splitell[124][:, None, None], dotproductmatrix)"
   ]
  },
  {
   "cell_type": "code",
   "execution_count": 171,
   "metadata": {
    "collapsed": true
   },
   "outputs": [],
   "source": [
    "PlMat126 = eval_legendre(splitell[125][:, None, None], dotproductmatrix)"
   ]
  },
  {
   "cell_type": "code",
   "execution_count": 172,
   "metadata": {
    "collapsed": true
   },
   "outputs": [],
   "source": [
    "PlMat127 = eval_legendre(splitell[126][:, None, None], dotproductmatrix)"
   ]
  },
  {
   "cell_type": "code",
   "execution_count": 173,
   "metadata": {
    "collapsed": true
   },
   "outputs": [],
   "source": [
    "PlMat128 = eval_legendre(splitell[127][:, None, None], dotproductmatrix)"
   ]
  },
  {
   "cell_type": "code",
   "execution_count": 174,
   "metadata": {
    "collapsed": true
   },
   "outputs": [],
   "source": [
    "PlMat129 = eval_legendre(splitell[128][:, None, None], dotproductmatrix)"
   ]
  },
  {
   "cell_type": "code",
   "execution_count": 175,
   "metadata": {
    "collapsed": true
   },
   "outputs": [],
   "source": [
    "PlMat130 = eval_legendre(splitell[129][:, None, None], dotproductmatrix)"
   ]
  },
  {
   "cell_type": "code",
   "execution_count": 176,
   "metadata": {
    "collapsed": true
   },
   "outputs": [],
   "source": [
    "PlMat131 = eval_legendre(splitell[130][:, None, None], dotproductmatrix)"
   ]
  },
  {
   "cell_type": "code",
   "execution_count": 177,
   "metadata": {
    "collapsed": true
   },
   "outputs": [],
   "source": [
    "PlMat132 = eval_legendre(splitell[131][:, None, None], dotproductmatrix)"
   ]
  },
  {
   "cell_type": "code",
   "execution_count": 178,
   "metadata": {
    "collapsed": true
   },
   "outputs": [],
   "source": [
    "PlMat133 = eval_legendre(splitell[132][:, None, None], dotproductmatrix)"
   ]
  },
  {
   "cell_type": "code",
   "execution_count": 179,
   "metadata": {
    "collapsed": true
   },
   "outputs": [],
   "source": [
    "PlMat134 = eval_legendre(splitell[133][:, None, None], dotproductmatrix)"
   ]
  },
  {
   "cell_type": "code",
   "execution_count": 180,
   "metadata": {
    "collapsed": true
   },
   "outputs": [],
   "source": [
    "PlMat135 = eval_legendre(splitell[134][:, None, None], dotproductmatrix)"
   ]
  },
  {
   "cell_type": "code",
   "execution_count": 181,
   "metadata": {
    "collapsed": true
   },
   "outputs": [],
   "source": [
    "PlMat136 = eval_legendre(splitell[135][:, None, None], dotproductmatrix)"
   ]
  },
  {
   "cell_type": "code",
   "execution_count": 182,
   "metadata": {
    "collapsed": true
   },
   "outputs": [],
   "source": [
    "PlMat137 = eval_legendre(splitell[136][:, None, None], dotproductmatrix)"
   ]
  },
  {
   "cell_type": "code",
   "execution_count": 183,
   "metadata": {
    "collapsed": true
   },
   "outputs": [],
   "source": [
    "PlMat138 = eval_legendre(splitell[137][:, None, None], dotproductmatrix)"
   ]
  },
  {
   "cell_type": "code",
   "execution_count": 184,
   "metadata": {
    "collapsed": true
   },
   "outputs": [],
   "source": [
    "PlMat139 = eval_legendre(splitell[138][:, None, None], dotproductmatrix)"
   ]
  },
  {
   "cell_type": "code",
   "execution_count": 185,
   "metadata": {
    "collapsed": true
   },
   "outputs": [],
   "source": [
    "PlMat140 = eval_legendre(splitell[139][:, None, None], dotproductmatrix)"
   ]
  },
  {
   "cell_type": "code",
   "execution_count": 186,
   "metadata": {
    "collapsed": true
   },
   "outputs": [],
   "source": [
    "PlMat141 = eval_legendre(splitell[140][:, None, None], dotproductmatrix)"
   ]
  },
  {
   "cell_type": "code",
   "execution_count": 187,
   "metadata": {
    "collapsed": true
   },
   "outputs": [],
   "source": [
    "PlMat142 = eval_legendre(splitell[141][:, None, None], dotproductmatrix)"
   ]
  },
  {
   "cell_type": "code",
   "execution_count": 188,
   "metadata": {
    "collapsed": true
   },
   "outputs": [],
   "source": [
    "PlMat143 = eval_legendre(splitell[142][:, None, None], dotproductmatrix)"
   ]
  },
  {
   "cell_type": "code",
   "execution_count": 189,
   "metadata": {
    "collapsed": true
   },
   "outputs": [],
   "source": [
    "PlMat144 = eval_legendre(splitell[143][:, None, None], dotproductmatrix)"
   ]
  },
  {
   "cell_type": "code",
   "execution_count": 190,
   "metadata": {
    "collapsed": true
   },
   "outputs": [],
   "source": [
    "PlMat145 = eval_legendre(splitell[144][:, None, None], dotproductmatrix)"
   ]
  },
  {
   "cell_type": "code",
   "execution_count": 191,
   "metadata": {
    "collapsed": true
   },
   "outputs": [],
   "source": [
    "PlMat146 = eval_legendre(splitell[145][:, None, None], dotproductmatrix)"
   ]
  },
  {
   "cell_type": "code",
   "execution_count": 192,
   "metadata": {
    "collapsed": true
   },
   "outputs": [],
   "source": [
    "PlMat147 = eval_legendre(splitell[146][:, None, None], dotproductmatrix)"
   ]
  },
  {
   "cell_type": "code",
   "execution_count": 193,
   "metadata": {
    "collapsed": true
   },
   "outputs": [],
   "source": [
    "PlMat148 = eval_legendre(splitell[147][:, None, None], dotproductmatrix)"
   ]
  },
  {
   "cell_type": "code",
   "execution_count": 194,
   "metadata": {
    "collapsed": true
   },
   "outputs": [],
   "source": [
    "PlMat149 = eval_legendre(splitell[148][:, None, None], dotproductmatrix)"
   ]
  },
  {
   "cell_type": "code",
   "execution_count": 195,
   "metadata": {
    "collapsed": true
   },
   "outputs": [],
   "source": [
    "PlMat150 = eval_legendre(splitell[149][:, None, None], dotproductmatrix)"
   ]
  },
  {
   "cell_type": "code",
   "execution_count": 196,
   "metadata": {
    "collapsed": false
   },
   "outputs": [
    {
     "data": {
      "text/plain": [
       "array([198, 199, 200, 201])"
      ]
     },
     "execution_count": 196,
     "metadata": {},
     "output_type": "execute_result"
    }
   ],
   "source": [
    "splitell[49]"
   ]
  },
  {
   "cell_type": "code",
   "execution_count": 197,
   "metadata": {
    "collapsed": true
   },
   "outputs": [],
   "source": [
    "\n",
    "PlMat_total = np.concatenate((PlMat1, PlMat2, PlMat3, PlMat4, PlMat5, PlMat6, PlMat7, \n",
    "                                 PlMat8, PlMat9, PlMat10, PlMat11, PlMat12, PlMat13, PlMat14, PlMat15, \n",
    "                                PlMat16, PlMat17, PlMat18, PlMat19, PlMat20, PlMat21, PlMat22, PlMat23, \n",
    "                                PlMat24, PlMat25, PlMat26, PlMat27, PlMat28, PlMat29, PlMat30, PlMat31, \n",
    "                                PlMat32, PlMat33, PlMat34, PlMat35, PlMat36, PlMat37, PlMat38, PlMat39, \n",
    "                                 PlMat40, PlMat41, PlMat42, PlMat43, PlMat44, PlMat45, PlMat46, PlMat47,\n",
    "                                 PlMat48, PlMat49, PlMat50, PlMat51, PlMat52, PlMat53, PlMat54, PlMat55,\n",
    "                                 PlMat56, PlMat57, PlMat58, PlMat59, PlMat60, PlMat61, PlMat62, PlMat63,\n",
    "                                 PlMat64, PlMat65, PlMat66, PlMat67, PlMat68, PlMat69, PlMat70, PlMat71,\n",
    "                                 PlMat72, PlMat73, PlMat74, PlMat75, PlMat76, PlMat77, PlMat78, PlMat79,\n",
    "                                 PlMat80, PlMat81, PlMat82, PlMat83, PlMat84, PlMat85, PlMat86, PlMat87,\n",
    "                                 PlMat88, PlMat89, PlMat90, PlMat91, PlMat92, PlMat93, PlMat94, PlMat95,\n",
    "                                PlMat96, PlMat97, PlMat98, PlMat99, PlMat100, PlMat101, PlMat102, PlMat103,\n",
    "                                 PlMat104, PlMat105, PlMat106, PlMat107, PlMat108, PlMat109, PlMat110, PlMat111,\n",
    "                                 PlMat112, PlMat113, PlMat114, PlMat115, PlMat116, PlMat117, PlMat118, PlMat119,\n",
    "                                 PlMat120, PlMat121, PlMat122, PlMat123, PlMat124, PlMat125, PlMat126, PlMat127,\n",
    "                                 PlMat128, PlMat129, PlMat130, PlMat131, PlMat132, PlMat133, PlMat134, PlMat135,\n",
    "                                  PlMat136, PlMat137, PlMat138, PlMat139, PlMat140, PlMat141, PlMat142, PlMat143,\n",
    "                                 PlMat144, PlMat145, PlMat146, PlMat147, PlMat148, PlMat149, PlMat150))\n"
   ]
  },
  {
   "cell_type": "code",
   "execution_count": 198,
   "metadata": {
    "collapsed": false
   },
   "outputs": [
    {
     "data": {
      "text/plain": [
       "(511, 784, 784)"
      ]
     },
     "execution_count": 198,
     "metadata": {},
     "output_type": "execute_result"
    }
   ],
   "source": [
    "PlMat_total.shape"
   ]
  },
  {
   "cell_type": "code",
   "execution_count": null,
   "metadata": {
    "collapsed": false
   },
   "outputs": [],
   "source": []
  },
  {
   "cell_type": "code",
   "execution_count": 199,
   "metadata": {
    "collapsed": true
   },
   "outputs": [],
   "source": [
    "PlMat = PlMat_total"
   ]
  },
  {
   "cell_type": "code",
   "execution_count": 200,
   "metadata": {
    "collapsed": false
   },
   "outputs": [],
   "source": [
    "#import cPickle as pickle\n",
    "\n",
    "#file_Name = \"testfileNov18\"\n",
    "# open the file for writing\n",
    "#fileObject = open(file_Name,'wb') \n",
    "\n",
    "# this writes the object a to the\n",
    "# file named 'testfile'\n",
    "#pickle.dump(PlMat_total, fileObject) \n",
    "\n",
    "# here we close the fileObject\n",
    "#fileObject.close()"
   ]
  },
  {
   "cell_type": "code",
   "execution_count": 201,
   "metadata": {
    "collapsed": false
   },
   "outputs": [
    {
     "name": "stdout",
     "output_type": "stream",
     "text": [
      "511\n"
     ]
    }
   ],
   "source": [
    "# Step 3: (2*l +1)/4pi from l=2 to l=lmax\n",
    "#          [5/4pi 7/4pi 9/4pi 11/4pi .... 65/4pi ]\n",
    "norm = ((2*ellval + 1))/(4*math.pi)\n",
    "print(len(ellval))"
   ]
  },
  {
   "cell_type": "code",
   "execution_count": 202,
   "metadata": {
    "collapsed": false
   },
   "outputs": [],
   "source": [
    "\n",
    "# Step 4: multiply \n",
    "#         [5/4pi*P_2(M) + 7/4pi*P_3(M) +...... + 65/4pi*P_32(M)]\n",
    "#\n",
    "# multiply PlMat by (2*l+1)/4pi, i.e. norm\n",
    "norm_matrix = norm[:, None, None] * PlMat\n",
    "# [5/4pi * P_2(M)  7/4pi * P_3(M) ....   65/4pi * P_32(M)]\n"
   ]
  },
  {
   "cell_type": "code",
   "execution_count": 203,
   "metadata": {
    "collapsed": false
   },
   "outputs": [
    {
     "data": {
      "text/plain": [
       "(511, 784, 784)"
      ]
     },
     "execution_count": 203,
     "metadata": {},
     "output_type": "execute_result"
    }
   ],
   "source": [
    "norm_matrix.shape"
   ]
  },
  {
   "cell_type": "code",
   "execution_count": 204,
   "metadata": {
    "collapsed": false
   },
   "outputs": [
    {
     "data": {
      "text/plain": [
       "(511, 784, 784)"
      ]
     },
     "execution_count": 204,
     "metadata": {},
     "output_type": "execute_result"
    }
   ],
   "source": [
    "PlMat.shape"
   ]
  },
  {
   "cell_type": "code",
   "execution_count": null,
   "metadata": {
    "collapsed": true
   },
   "outputs": [],
   "source": []
  },
  {
   "cell_type": "code",
   "execution_count": 205,
   "metadata": {
    "collapsed": true
   },
   "outputs": [],
   "source": [
    "# Step 5: multiply by theoretical CAMB values, [C_2 C_3    C_31 C_32]\n",
    "#         [5/4pi**C_2* P_2(M) + 7/4pi*C_3* P_3(M) +...... + 65/4pi*C_32* P_32(M)]\n",
    "\n",
    "#\n",
    "# In our case, we use CAMB cosmological parameters\n",
    "# \n",
    "# H_0,  Hubble Constant, 70\n",
    "#\n",
    "# Tcmb, 2.7255\n",
    "#\n",
    "# Ωbh2, 0.0226\n",
    "#\n",
    "# Ωch2, 0.112\n",
    "#\n",
    "# Ωνh2, 0.00064, neutrino density\n",
    "#\n",
    "# Ωk, 0\n",
    "#\n",
    "#The six parameters of the basic ΛCDM model are: the physical baryon density, Ωbh\n",
    "#2\n",
    "#; the physical cold dark matter\n",
    "#density, Ωch\n",
    "#2\n",
    "#; the dark energy density, in units of the critical density, ΩΛ; the amplitude of primordial scalar curvature\n",
    "#perturbations, ∆2\n",
    "#R at k = 0.002 Mpc−1\n",
    "#; the power-law spectral index of primordial density (scalar) perturbations,\n",
    "#ns; and the reionization optical depth, τ . In this model, the Hubble constant, H0 = 100h km/s/Mpc, is implicitly\n",
    "#determined by the flatness constraint, Ωb + Ωc + ΩΛ = 1. A handful of parameters in this model take assumed values\n",
    "#that we further test in §4; other parameters may be derived from the fit, as in Table 2. Throughout this paper we\n",
    "#assume the initial fluctuations are adiabatic and Gaussian distributed (see Bennett et al. (2012) for limits on nonGaussian\n",
    "#fluctuations from the nine"
   ]
  },
  {
   "cell_type": "code",
   "execution_count": 206,
   "metadata": {
    "collapsed": true
   },
   "outputs": [],
   "source": [
    "ones_arr = np.ones(511)"
   ]
  },
  {
   "cell_type": "code",
   "execution_count": 207,
   "metadata": {
    "collapsed": false
   },
   "outputs": [
    {
     "data": {
      "text/plain": [
       "511"
      ]
     },
     "execution_count": 207,
     "metadata": {},
     "output_type": "execute_result"
    }
   ],
   "source": [
    "len(ones_arr)"
   ]
  },
  {
   "cell_type": "code",
   "execution_count": 208,
   "metadata": {
    "collapsed": true
   },
   "outputs": [],
   "source": [
    "Hubble_constant = 70*ones_arr\n",
    "Baryon_density = (0.0226)*ones_arr\n",
    "CDM_density = (0.112)*ones_arr"
   ]
  },
  {
   "cell_type": "code",
   "execution_count": 209,
   "metadata": {
    "collapsed": false
   },
   "outputs": [],
   "source": [
    "#\n",
    "# TEST LogLF vs Cosmological parameters\n",
    "#\n",
    "# The covariance matrix is a function of variable \"Param\", an unknown parameter. \n",
    "# \n",
    "# Our covariance matrix is therefore S_ij  = (2*l +1)/4pi * Param * P_ell(matrix)   \n",
    "# \n",
    "# \n",
    "# The LF is then a function of param, LF(param). This is the only parameter we vary. \n",
    "#\n",
    "# LF = -2loglikelihood /propto T^T inv(S_ij) T + log det (Sij) + N log (2pi)\n",
    "# \n",
    "# We then plot LF(x) vs. parameters x. \n",
    "#"
   ]
  },
  {
   "cell_type": "code",
   "execution_count": 210,
   "metadata": {
    "collapsed": true
   },
   "outputs": [],
   "source": [
    "# define pixel-value arrays\n",
    "mT = np.matrix(patch)     # mT.shape = (1, 3072)\n",
    "m = np.matrix(patch).T    # m.shape = (3072, 1)\n",
    "Npix2pi = (len(patch))*2*math.pi  # LF constant"
   ]
  },
  {
   "cell_type": "code",
   "execution_count": 211,
   "metadata": {
    "collapsed": false
   },
   "outputs": [],
   "source": [
    "# baryon density is 0.0226"
   ]
  },
  {
   "cell_type": "code",
   "execution_count": 212,
   "metadata": {
    "collapsed": true
   },
   "outputs": [],
   "source": [
    "vary_CDM = np.linspace(0.0050, 0.30, num=20 ) #set default num = 20"
   ]
  },
  {
   "cell_type": "code",
   "execution_count": 213,
   "metadata": {
    "collapsed": false
   },
   "outputs": [
    {
     "data": {
      "text/plain": [
       "array([ 0.005     ,  0.02052632,  0.03605263,  0.05157895,  0.06710526,\n",
       "        0.08263158,  0.09815789,  0.11368421,  0.12921053,  0.14473684,\n",
       "        0.16026316,  0.17578947,  0.19131579,  0.20684211,  0.22236842,\n",
       "        0.23789474,  0.25342105,  0.26894737,  0.28447368,  0.3       ])"
      ]
     },
     "execution_count": 213,
     "metadata": {},
     "output_type": "execute_result"
    }
   ],
   "source": [
    "vary_CDM"
   ]
  },
  {
   "cell_type": "code",
   "execution_count": 214,
   "metadata": {
    "collapsed": false
   },
   "outputs": [
    {
     "data": {
      "text/plain": [
       "array([ 0.005     ,  0.02052632,  0.03605263,  0.05157895,  0.06710526,\n",
       "        0.08263158,  0.09815789,  0.11368421,  0.12921053,  0.14473684,\n",
       "        0.16026316,  0.17578947,  0.19131579,  0.20684211,  0.22236842,\n",
       "        0.23789474,  0.25342105,  0.26894737,  0.28447368,  0.3       ])"
      ]
     },
     "execution_count": 214,
     "metadata": {},
     "output_type": "execute_result"
    }
   ],
   "source": [
    "vary_CDM"
   ]
  },
  {
   "cell_type": "code",
   "execution_count": 215,
   "metadata": {
    "collapsed": false
   },
   "outputs": [],
   "source": [
    "sigma2 = np.logspace(-12, -14, num=20) #set default num = 30\n"
   ]
  },
  {
   "cell_type": "code",
   "execution_count": 216,
   "metadata": {
    "collapsed": false
   },
   "outputs": [
    {
     "name": "stdout",
     "output_type": "stream",
     "text": [
      "[  1.00000000e-12   7.84759970e-13   6.15848211e-13   4.83293024e-13\n",
      "   3.79269019e-13   2.97635144e-13   2.33572147e-13   1.83298071e-13\n",
      "   1.43844989e-13   1.12883789e-13   8.85866790e-14   6.95192796e-14\n",
      "   5.45559478e-14   4.28133240e-14   3.35981829e-14   2.63665090e-14\n",
      "   2.06913808e-14   1.62377674e-14   1.27427499e-14   1.00000000e-14]\n"
     ]
    }
   ],
   "source": [
    "print(sigma2)"
   ]
  },
  {
   "cell_type": "code",
   "execution_count": 224,
   "metadata": {
    "collapsed": true
   },
   "outputs": [],
   "source": [
    "# For N matrix, set the identity\n",
    "id_mat = np.identity(784)"
   ]
  },
  {
   "cell_type": "code",
   "execution_count": 225,
   "metadata": {
    "collapsed": true
   },
   "outputs": [],
   "source": [
    "noiseresult = sigma2[:, None, None] * id_mat[None, :, :]"
   ]
  },
  {
   "cell_type": "code",
   "execution_count": 226,
   "metadata": {
    "collapsed": false
   },
   "outputs": [
    {
     "data": {
      "text/plain": [
       "(20, 784, 784)"
      ]
     },
     "execution_count": 226,
     "metadata": {},
     "output_type": "execute_result"
    }
   ],
   "source": [
    "noiseresult.shape"
   ]
  },
  {
   "cell_type": "code",
   "execution_count": 227,
   "metadata": {
    "collapsed": false
   },
   "outputs": [
    {
     "name": "stdout",
     "output_type": "stream",
     "text": [
      "(511, 784, 784)\n",
      "(784, 784)\n"
     ]
    }
   ],
   "source": [
    "correctmatrix = np.sum(norm_matrix, axis=0)\n",
    "print(norm_matrix.shape)\n",
    "print(correctmatrix.shape)"
   ]
  },
  {
   "cell_type": "code",
   "execution_count": 228,
   "metadata": {
    "collapsed": true
   },
   "outputs": [],
   "source": [
    "tempp = (1e6)*patch # multiply CMB maps by 1e6\n",
    "\n",
    "def LogLikehood_wNoise_1e12(param, sig):\n",
    "    # param is our parameter, C_3\n",
    "    Sij = param[:, None, None] * correctmatrix[None, :, :]\n",
    "    newSij = (1e12)*Sij   # multiply S_ij by 1e12\n",
    "    Nij = sig[:, None, None] * id_mat[None, :, :]\n",
    "    newNij = (1e12)*Nij\n",
    "    # Format 7/4pi * param * P_3(M) where param is the parameter we vary, C_l\n",
    "    # Sij.shape = (20, 3072, 3072)\n",
    "    Cij = newSij + newNij\n",
    "    #invCij = np.linalg.inv(Cij)\n",
    "    logdetC = np.linalg.slogdet(Cij)  # returns sign and determinant; use logdetC[1]\n",
    "    # model_fit_terms = m^T C^-1 m\n",
    "    #\n",
    "    # model_fit_terms = np.array([np.dot(tempval.T , np.dot(invCij[i] , tempval) ) \n",
    "    # for i in range(invCij.shape[0])])\n",
    "    #\n",
    "    model_fit_terms = np.array([np.dot(tempp.T , np.linalg.solve(Cij[i], tempp) ) for i in range(Cij.shape[0]) ]) \n",
    "    return model_fit_terms + logdetC[1] + Npix2pi"
   ]
  },
  {
   "cell_type": "code",
   "execution_count": 229,
   "metadata": {
    "collapsed": true
   },
   "outputs": [],
   "source": [
    "tempp = (1e6)*patch # multiply CMB maps by 1e6\n",
    "\n",
    "def LogLikehood_wNoise_1e12_Contour(param, sig):\n",
    "    # param is our parameter, C_3\n",
    "    Sij = param * correctmatrix[None, :, :]\n",
    "    newSij = (1e12)*Sij   # multiply S_ij by 1e12\n",
    "    Nij = sig * id_mat[None, :, :]\n",
    "    newNij = (1e12)*Nij\n",
    "    # Format 7/4pi * param * P_3(M) where param is the parameter we vary, C_l\n",
    "    # Sij.shape = (20, 3072, 3072)\n",
    "    Cij = newSij + newNij\n",
    "    #invCij = np.linalg.inv(Cij)\n",
    "    logdetC = np.linalg.slogdet(Cij)  # returns sign and determinant; use logdetC[1]\n",
    "    # model_fit_terms = m^T C^-1 m\n",
    "    #\n",
    "    # model_fit_terms = np.array([np.dot(tempval.T , np.dot(invCij[i] , tempval) ) \n",
    "    # for i in range(invCij.shape[0])])\n",
    "    #\n",
    "    model_fit_terms = np.array([np.dot(tempp.T , np.linalg.solve(Cij[i], tempp) ) for i in range(Cij.shape[0]) ]) \n",
    "    return model_fit_terms + logdetC[1] + Npix2pi"
   ]
  },
  {
   "cell_type": "code",
   "execution_count": 230,
   "metadata": {
    "collapsed": false
   },
   "outputs": [
    {
     "data": {
      "image/png": "[encoded data removed]",
      "text/plain": [
       "<matplotlib.figure.Figure at 0x10f263810>"
      ]
     },
     "metadata": {},
     "output_type": "display_data"
    }
   ],
   "source": [
    "import pylab as pb    \n",
    "import matplotlib.pyplot as plt \n",
    "\n",
    "vary_CDM = np.linspace(0.0050, 0.30, num=20) #set default num = 20\n",
    "sigma2 = np.logspace(-12, -14, num=20) #set default num = 30\n",
    "\n",
    "xxx = vary_CDM\n",
    "yyy = sigma2\n",
    "\n",
    "zzz = np.array([[LogLikehood_wNoise_1e12_Contour(np.asarray(i), np.asarray(j)) for i in xxx] for j in yyy])\n",
    "\n",
    "zzzreshaped = zzz.reshape(20,20)\n",
    "\n",
    "plt.figure()\n",
    "CS = plt.contour(xxx, yyy, zzzreshaped)\n",
    "plt.clabel(CS, inline=1, fontsize=10)\n",
    "plt.xlabel(\"vary_CDM = np.linspace(0.0050, 0.30, num=20) \")\n",
    "plt.ylabel(\"sigma2 = np.logspace(-12, -14, num=20)\")\n",
    "pb.show()"
   ]
  },
  {
   "cell_type": "code",
   "execution_count": 231,
   "metadata": {
    "collapsed": false
   },
   "outputs": [
    {
     "data": {
      "text/plain": [
       "array([ -3.59430014e-05,  -3.54483527e-05,  -3.55767370e-05,\n",
       "        -3.49421207e-05,  -3.50624505e-05,  -3.51645394e-05,\n",
       "        -3.44257023e-05,  -3.45371263e-05,  -3.46311317e-05,\n",
       "        -3.47062742e-05,  -3.39005128e-05,  -3.40021979e-05,\n",
       "        -3.40872430e-05,  -3.41543055e-05,  -3.42019230e-05])"
      ]
     },
     "execution_count": 231,
     "metadata": {},
     "output_type": "execute_result"
    }
   ],
   "source": [
    "patch[:15]"
   ]
  },
  {
   "cell_type": "code",
   "execution_count": 232,
   "metadata": {
    "collapsed": false
   },
   "outputs": [
    {
     "data": {
      "image/png": "[encoded data removed]",
      "text/plain": [
       "<matplotlib.figure.Figure at 0x10f263390>"
      ]
     },
     "metadata": {},
     "output_type": "display_data"
    }
   ],
   "source": [
    "vary_CDM = np.linspace(0.0050, 0.30, num=20) #set default num = 20\n",
    "sigma2 = np.logspace(-5, -7, num=20) #set default num = 30\n",
    "\n",
    "xxx = vary_CDM\n",
    "yyy = sigma2\n",
    "\n",
    "zzz = np.array([[LogLikehood_wNoise_1e12_Contour(np.asarray(i), np.asarray(j)) for i in xxx] for j in yyy])\n",
    "\n",
    "zzzreshaped = zzz.reshape(20,20)\n",
    "\n",
    "plt.figure()\n",
    "CS = plt.contour(xxx, yyy, zzzreshaped)\n",
    "plt.clabel(CS, inline=1, fontsize=10)\n",
    "plt.xlabel(\"vary_CDM = np.linspace(0.0050, 0.30, num=20) \")\n",
    "plt.ylabel(\"sigma2 = np.logspace(-5, -7, num=20)\")\n",
    "pb.show()"
   ]
  },
  {
   "cell_type": "code",
   "execution_count": 233,
   "metadata": {
    "collapsed": false
   },
   "outputs": [
    {
     "data": {
      "image/png": "[encoded data removed]",
      "text/plain": [
       "<matplotlib.figure.Figure at 0x116d40290>"
      ]
     },
     "metadata": {},
     "output_type": "display_data"
    }
   ],
   "source": [
    "vary_CDM = np.linspace(0.0050, 0.30, num=20 ) #set default num = 20\n",
    "sigma2 = np.logspace(-6, -8, num=20) #set default num = 30\n",
    "\n",
    "xxx = vary_CDM\n",
    "yyy = sigma2\n",
    "\n",
    "zzz = np.array([[LogLikehood_wNoise_1e12_Contour(np.asarray(i), np.asarray(j)) for i in xxx] for j in yyy])\n",
    "\n",
    "zzzreshaped = zzz.reshape(20,20)\n",
    "\n",
    "plt.figure()\n",
    "CS = plt.contour(xxx, yyy, zzzreshaped)\n",
    "plt.clabel(CS, inline=1, fontsize=10)\n",
    "plt.xlabel(\"vary_CDM = np.linspace(0.0050, 0.30, num=20) \")\n",
    "plt.ylabel(\"sigma2 = np.logspace(-6, -8, num=20)\")\n",
    "pb.show()"
   ]
  },
  {
   "cell_type": "code",
   "execution_count": 234,
   "metadata": {
    "collapsed": false
   },
   "outputs": [
    {
     "data": {
      "image/png": "[encoded data removed]",
      "text/plain": [
       "<matplotlib.figure.Figure at 0x10e066090>"
      ]
     },
     "metadata": {},
     "output_type": "display_data"
    }
   ],
   "source": [
    "vary_CDM = np.linspace(0.0050, 0.30, num=20 ) #set default num = 20\n",
    "sigma2 = np.logspace(-7, -9, num=20) #set default num = 30\n",
    "\n",
    "xxx = vary_CDM\n",
    "yyy = sigma2\n",
    "\n",
    "zzz = np.array([[LogLikehood_wNoise_1e12_Contour(np.asarray(i), np.asarray(j)) for i in xxx] for j in yyy])\n",
    "\n",
    "zzzreshaped = zzz.reshape(20,20)\n",
    "\n",
    "plt.figure()\n",
    "CS = plt.contour(xxx, yyy, zzzreshaped)\n",
    "plt.clabel(CS, inline=1, fontsize=10)\n",
    "plt.xlabel(\"vary_CDM = np.linspace(0.0050, 0.30, num=20) \")\n",
    "plt.ylabel(\"sigma2 = np.logspace(-7, -9, num=20)\")\n",
    "pb.show()"
   ]
  },
  {
   "cell_type": "code",
   "execution_count": 235,
   "metadata": {
    "collapsed": false
   },
   "outputs": [
    {
     "data": {
      "image/png": "[encoded data removed]",
      "text/plain": [
       "<matplotlib.figure.Figure at 0x10e05e3d0>"
      ]
     },
     "metadata": {},
     "output_type": "display_data"
    }
   ],
   "source": [
    "vary_CDM = np.linspace(0.0050, 0.30, num=20 ) #set default num = 20\n",
    "sigma2 = np.logspace(-8, -10, num=20) #set default num = 30\n",
    "\n",
    "xxx = vary_CDM\n",
    "yyy = sigma2\n",
    "\n",
    "zzz = np.array([[LogLikehood_wNoise_1e12_Contour(np.asarray(i), np.asarray(j)) for i in xxx] for j in yyy])\n",
    "\n",
    "zzzreshaped = zzz.reshape(20,20)\n",
    "\n",
    "plt.figure()\n",
    "CS = plt.contour(xxx, yyy, zzzreshaped)\n",
    "plt.clabel(CS, inline=1, fontsize=10)\n",
    "plt.xlabel(\"vary_CDM = np.linspace(0.0050, 0.30, num=20) \")\n",
    "plt.ylabel(\"sigma2 = np.logspace(-8, -10, num=20)\")\n",
    "pb.show()"
   ]
  },
  {
   "cell_type": "code",
   "execution_count": 236,
   "metadata": {
    "collapsed": false
   },
   "outputs": [
    {
     "data": {
      "image/png": "[encoded data removed]",
      "text/plain": [
       "<matplotlib.figure.Figure at 0x10e0502d0>"
      ]
     },
     "metadata": {},
     "output_type": "display_data"
    }
   ],
   "source": [
    "vary_CDM = np.linspace(0.0050, 0.30, num=20 ) #set default num = 20\n",
    "sigma2 = np.logspace(-9, -11, num=20) #set default num = 30\n",
    "\n",
    "xxx = vary_CDM\n",
    "yyy = sigma2\n",
    "\n",
    "zzz = np.array([[LogLikehood_wNoise_1e12_Contour(np.asarray(i), np.asarray(j)) for i in xxx] for j in yyy])\n",
    "\n",
    "zzzreshaped = zzz.reshape(20,20)\n",
    "\n",
    "plt.figure()\n",
    "CS = plt.contour(xxx, yyy, zzzreshaped)\n",
    "plt.clabel(CS, inline=1, fontsize=10)\n",
    "plt.xlabel(\"vary_CDM = np.linspace(0.0050, 0.30, num=20) \")\n",
    "plt.ylabel(\"sigma2 = np.logspace(-9, -11, num=20)\")\n",
    "pb.show()"
   ]
  },
  {
   "cell_type": "code",
   "execution_count": 237,
   "metadata": {
    "collapsed": false
   },
   "outputs": [
    {
     "data": {
      "image/png": "[encoded data removed]",
      "text/plain": [
       "<matplotlib.figure.Figure at 0x1111a0510>"
      ]
     },
     "metadata": {},
     "output_type": "display_data"
    }
   ],
   "source": [
    "vary_CDM = np.linspace(0.0050, 0.30, num=20 ) #set default num = 20\n",
    "sigma2 = np.logspace(-10, -12, num=20) #set default num = 30\n",
    "\n",
    "xxx = vary_CDM\n",
    "yyy = sigma2\n",
    "\n",
    "zzz = np.array([[LogLikehood_wNoise_1e12_Contour(np.asarray(i), np.asarray(j)) for i in xxx] for j in yyy])\n",
    "\n",
    "zzzreshaped = zzz.reshape(20,20)\n",
    "\n",
    "plt.figure()\n",
    "CS = plt.contour(xxx, yyy, zzzreshaped)\n",
    "plt.clabel(CS, inline=1, fontsize=10)\n",
    "plt.xlabel(\"vary_CDM = np.linspace(0.0050, 0.30, num=20) \")\n",
    "plt.ylabel(\"sigma2 = np.logspace(-10, -12, num=20)\")\n",
    "pb.show()"
   ]
  },
  {
   "cell_type": "code",
   "execution_count": 238,
   "metadata": {
    "collapsed": false
   },
   "outputs": [
    {
     "data": {
      "image/png": "[encoded data removed]",
      "text/plain": [
       "<matplotlib.figure.Figure at 0x116d1a690>"
      ]
     },
     "metadata": {},
     "output_type": "display_data"
    }
   ],
   "source": [
    "vary_CDM = np.linspace(0.0050, 0.30, num=20 ) #set default num = 20\n",
    "sigma2 = np.logspace(-11, -13, num=20) #set default num = 30\n",
    "\n",
    "xxx = vary_CDM\n",
    "yyy = sigma2\n",
    "\n",
    "zzz = np.array([[LogLikehood_wNoise_1e12_Contour(np.asarray(i), np.asarray(j)) for i in xxx] for j in yyy])\n",
    "\n",
    "zzzreshaped = zzz.reshape(20,20)\n",
    "\n",
    "plt.figure()\n",
    "CS = plt.contour(xxx, yyy, zzzreshaped)\n",
    "plt.clabel(CS, inline=1, fontsize=10)\n",
    "plt.xlabel(\"vary_CDM = np.linspace(0.0050, 0.30, num=20) \")\n",
    "plt.ylabel(\"sigma2 = np.logspace(-11, -13, num=20)\")\n",
    "pb.show()"
   ]
  },
  {
   "cell_type": "code",
   "execution_count": 239,
   "metadata": {
    "collapsed": false
   },
   "outputs": [
    {
     "data": {
      "image/png": "[encoded data removed]",
      "text/plain": [
       "<matplotlib.figure.Figure at 0x116d74b50>"
      ]
     },
     "metadata": {},
     "output_type": "display_data"
    }
   ],
   "source": [
    "vary_CDM = np.linspace(0.0050, 0.30, num=20 ) #set default num = 20\n",
    "sigma2 = np.logspace(-12, -14, num=20) #set default num = 30\n",
    "\n",
    "xxx = vary_CDM\n",
    "yyy = sigma2\n",
    "\n",
    "zzz = np.array([[LogLikehood_wNoise_1e12_Contour(np.asarray(i), np.asarray(j)) for i in xxx] for j in yyy])\n",
    "\n",
    "zzzreshaped = zzz.reshape(20,20)\n",
    "\n",
    "plt.figure()\n",
    "CS = plt.contour(xxx, yyy, zzzreshaped)\n",
    "plt.clabel(CS, inline=1, fontsize=10)\n",
    "plt.xlabel(\"vary_CDM = np.linspace(0.0050, 0.30, num=20) \")\n",
    "plt.ylabel(\"sigma2 = np.logspace(-12, -14, num=20)\")\n",
    "pb.show()"
   ]
  },
  {
   "cell_type": "code",
   "execution_count": 240,
   "metadata": {
    "collapsed": false
   },
   "outputs": [
    {
     "data": {
      "image/png": "[encoded data removed]",
      "text/plain": [
       "<matplotlib.figure.Figure at 0x10e046bd0>"
      ]
     },
     "metadata": {},
     "output_type": "display_data"
    }
   ],
   "source": [
    "vary_CDM = np.linspace(0.0050, 0.30, num=20 ) #set default num = 20\n",
    "sigma2 = np.logspace(-13, -15, num=20) #set default num = 30\n",
    "\n",
    "xxx = vary_CDM\n",
    "yyy = sigma2\n",
    "\n",
    "zzz = np.array([[LogLikehood_wNoise_1e12_Contour(np.asarray(i), np.asarray(j)) for i in xxx] for j in yyy])\n",
    "\n",
    "zzzreshaped = zzz.reshape(20,20)\n",
    "\n",
    "plt.figure()\n",
    "CS = plt.contour(xxx, yyy, zzzreshaped)\n",
    "plt.clabel(CS, inline=1, fontsize=10)\n",
    "plt.xlabel(\"vary_CDM = np.linspace(0.0050, 0.30, num=20)\")\n",
    "plt.ylabel(\"sigma2 = np.logspace(-13, -15, num=20)\")\n",
    "pb.show()"
   ]
  },
  {
   "cell_type": "code",
   "execution_count": 241,
   "metadata": {
    "collapsed": false
   },
   "outputs": [
    {
     "data": {
      "image/png": "[encoded data removed]",
      "text/plain": [
       "<matplotlib.figure.Figure at 0x1114f02d0>"
      ]
     },
     "metadata": {},
     "output_type": "display_data"
    }
   ],
   "source": [
    "vary_CDM = np.linspace(0.0050, 0.30, num=20 ) #set default num = 20\n",
    "sigma2 = np.logspace(-14, -16, num=20) #set default num = 30\n",
    "\n",
    "xxx = vary_CDM\n",
    "yyy = sigma2\n",
    "\n",
    "zzz = np.array([[LogLikehood_wNoise_1e12_Contour(np.asarray(i), np.asarray(j)) for i in xxx] for j in yyy])\n",
    "\n",
    "zzzreshaped = zzz.reshape(20,20)\n",
    "\n",
    "plt.figure()\n",
    "CS = plt.contour(xxx, yyy, zzzreshaped)\n",
    "plt.clabel(CS, inline=1, fontsize=10)\n",
    "plt.xlabel(\"vary_CDM = np.linspace(0.0050, 0.30, num=20)\")\n",
    "plt.ylabel(\"sigma2 = np.logspace(-14, -16, num=20)\")\n",
    "pb.show()"
   ]
  },
  {
   "cell_type": "code",
   "execution_count": 242,
   "metadata": {
    "collapsed": false
   },
   "outputs": [
    {
     "data": {
      "image/png": "[encoded data removed]",
      "text/plain": [
       "<matplotlib.figure.Figure at 0x111647f10>"
      ]
     },
     "metadata": {},
     "output_type": "display_data"
    }
   ],
   "source": [
    "vary_CDM = np.linspace(0.0050, 0.30, num=20 ) #set default num = 20\n",
    "sigma2 = np.logspace(-15, -17, num=20) #set default num = 30\n",
    "\n",
    "xxx = vary_CDM\n",
    "yyy = sigma2\n",
    "\n",
    "zzz = np.array([[LogLikehood_wNoise_1e12_Contour(np.asarray(i), np.asarray(j)) for i in xxx] for j in yyy])\n",
    "\n",
    "zzzreshaped = zzz.reshape(20,20)\n",
    "\n",
    "plt.figure()\n",
    "CS = plt.contour(xxx, yyy, zzzreshaped)\n",
    "plt.clabel(CS, inline=1, fontsize=10)\n",
    "plt.xlabel(\"vary_CDM = np.linspace(0.0050, 0.30, num=20)\")\n",
    "plt.ylabel(\"sigma2 = np.logspace(-15, -17, num=20)\")\n",
    "pb.show()"
   ]
  },
  {
   "cell_type": "code",
   "execution_count": 243,
   "metadata": {
    "collapsed": false
   },
   "outputs": [
    {
     "data": {
      "image/png": "[encoded data removed]",
      "text/plain": [
       "<matplotlib.figure.Figure at 0x111771750>"
      ]
     },
     "metadata": {},
     "output_type": "display_data"
    }
   ],
   "source": [
    "vary_CDM = np.linspace(0.0050, 0.30, num=20 ) #set default num = 20\n",
    "sigma2 = np.logspace(-16, -18, num=20) #set default num = 30\n",
    "\n",
    "xxx = vary_CDM\n",
    "yyy = sigma2\n",
    "\n",
    "zzz = np.array([[LogLikehood_wNoise_1e12_Contour(np.asarray(i), np.asarray(j)) for i in xxx] for j in yyy])\n",
    "\n",
    "zzzreshaped = zzz.reshape(20,20)\n",
    "\n",
    "plt.figure()\n",
    "CS = plt.contour(xxx, yyy, zzzreshaped)\n",
    "plt.clabel(CS, inline=1, fontsize=10)\n",
    "plt.xlabel(\"vary_baryon = np.linspace(0.0050, 0.050, num=20 ) \")\n",
    "plt.ylabel(\"sigma2 = np.logspace(-16, -18, num=20)\")\n",
    "pb.show()"
   ]
  },
  {
   "cell_type": "code",
   "execution_count": 244,
   "metadata": {
    "collapsed": false
   },
   "outputs": [
    {
     "data": {
      "image/png": "[encoded data removed]",
      "text/plain": [
       "<matplotlib.figure.Figure at 0x111768d90>"
      ]
     },
     "metadata": {},
     "output_type": "display_data"
    }
   ],
   "source": [
    "vary_CDM = np.linspace(0.0050, 0.30, num=30 ) #set default num = 20\n",
    "sigma2 = np.logspace(-8, -10, num=30) #set default num = 30\n",
    "\n",
    "xxx = vary_CDM\n",
    "yyy = sigma2\n",
    "\n",
    "zzz = np.array([[LogLikehood_wNoise_1e12_Contour(np.asarray(i), np.asarray(j)) for i in xxx] for j in yyy])\n",
    "\n",
    "zzzreshaped = zzz.reshape(30,30)\n",
    "\n",
    "plt.figure()\n",
    "CS = plt.contour(xxx, yyy, zzzreshaped)\n",
    "plt.clabel(CS, inline=1, fontsize=10)\n",
    "plt.xlabel(\"vvary_CDM = np.linspace(0.0050, 0.30, num=30)\")\n",
    "plt.ylabel(\"sigma2 = np.logspace(-8, -10, num=30)\")\n",
    "pb.show()"
   ]
  },
  {
   "cell_type": "code",
   "execution_count": 245,
   "metadata": {
    "collapsed": false
   },
   "outputs": [
    {
     "name": "stdout",
     "output_type": "stream",
     "text": [
      "[ 0.005       0.01517241  0.02534483  0.03551724  0.04568966  0.05586207\n",
      "  0.06603448  0.0762069   0.08637931  0.09655172  0.10672414  0.11689655\n",
      "  0.12706897  0.13724138  0.14741379  0.15758621  0.16775862  0.17793103\n",
      "  0.18810345  0.19827586  0.20844828  0.21862069  0.2287931   0.23896552\n",
      "  0.24913793  0.25931034  0.26948276  0.27965517  0.28982759  0.3       ]\n"
     ]
    }
   ],
   "source": [
    "#\n",
    "# Hold sigma^2 constant, vary C3\n",
    "#\n",
    "# Begin at sigma^2 = 1e-5\n",
    "#\n",
    "print(vary_CDM)"
   ]
  },
  {
   "cell_type": "code",
   "execution_count": 246,
   "metadata": {
    "collapsed": false
   },
   "outputs": [
    {
     "name": "stdout",
     "output_type": "stream",
     "text": [
      "[ 0.005       0.01102041  0.01704082  0.02306122  0.02908163  0.03510204\n",
      "  0.04112245  0.04714286  0.05316327  0.05918367  0.06520408  0.07122449\n",
      "  0.0772449   0.08326531  0.08928571  0.09530612  0.10132653  0.10734694\n",
      "  0.11336735  0.11938776  0.12540816  0.13142857  0.13744898  0.14346939\n",
      "  0.1494898   0.1555102   0.16153061  0.16755102  0.17357143  0.17959184\n",
      "  0.18561224  0.19163265  0.19765306  0.20367347  0.20969388  0.21571429\n",
      "  0.22173469  0.2277551   0.23377551  0.23979592  0.24581633  0.25183673\n",
      "  0.25785714  0.26387755  0.26989796  0.27591837  0.28193878  0.28795918\n",
      "  0.29397959  0.3       ]\n"
     ]
    },
    {
     "data": {
      "image/png": "[encoded data removed]",
      "text/plain": [
       "<matplotlib.figure.Figure at 0x1119f3f10>"
      ]
     },
     "metadata": {},
     "output_type": "display_data"
    }
   ],
   "source": [
    "tempp = (1e6)*patch # multiply CMB maps by 1e6\n",
    "\n",
    "def LogLikehood_wNoise_constant(param, sig):\n",
    "    # param is our parameter, C_3\n",
    "    Sij = param[:, None, None] * correctmatrix[None, :, :]\n",
    "    newSij = (1e12)*Sij   # multiply S_ij by 1e12\n",
    "    Nij = sig * id_mat[None, :, :]\n",
    "    newNij = (1e12)*Nij\n",
    "    # Format 7/4pi * param * P_3(M) where param is the parameter we vary, C_l\n",
    "    # Sij.shape = (20, 3072, 3072)\n",
    "    Cij = newSij + newNij\n",
    "    #invCij = np.linalg.inv(Cij)\n",
    "    logdetC = np.linalg.slogdet(Cij)  # returns sign and determinant; use logdetC[1]\n",
    "    # model_fit_terms = m^T C^-1 m\n",
    "    #\n",
    "    # model_fit_terms = np.array([np.dot(tempval.T , np.dot(invCij[i] , tempval) ) \n",
    "    # for i in range(invCij.shape[0])])\n",
    "    #\n",
    "    model_fit_terms = np.array([np.dot(tempp.T , np.linalg.solve(Cij[i], tempp) ) for i in range(Cij.shape[0]) ]) \n",
    "    return model_fit_terms + logdetC[1] + Npix2pi\n",
    "\n",
    "\n",
    "vary_CDM = np.linspace(0.0050, 0.30, num=50 ) #set default num = 20\n",
    "sigmatwo = 1e-8\n",
    "print(vary_CDM)\n",
    "\n",
    "xx = vary_CDM\n",
    "yy = LogLikehood_wNoise_constant(vary_CDM, sigmatwo)\n",
    "\n",
    "plt.figure()\n",
    "CS = plt.plot(xx, yy)\n",
    "plt.xlabel(\"vary_CDM = np.linspace(0.0050, 0.30, num=50), sigmatwo = 1e-8\")\n",
    "plt.ylabel(\"LogLF\")\n",
    "pb.show()\n"
   ]
  },
  {
   "cell_type": "code",
   "execution_count": 247,
   "metadata": {
    "collapsed": false
   },
   "outputs": [
    {
     "name": "stdout",
     "output_type": "stream",
     "text": [
      "[ 0.005       0.01102041  0.01704082  0.02306122  0.02908163  0.03510204\n",
      "  0.04112245  0.04714286  0.05316327  0.05918367  0.06520408  0.07122449\n",
      "  0.0772449   0.08326531  0.08928571  0.09530612  0.10132653  0.10734694\n",
      "  0.11336735  0.11938776  0.12540816  0.13142857  0.13744898  0.14346939\n",
      "  0.1494898   0.1555102   0.16153061  0.16755102  0.17357143  0.17959184\n",
      "  0.18561224  0.19163265  0.19765306  0.20367347  0.20969388  0.21571429\n",
      "  0.22173469  0.2277551   0.23377551  0.23979592  0.24581633  0.25183673\n",
      "  0.25785714  0.26387755  0.26989796  0.27591837  0.28193878  0.28795918\n",
      "  0.29397959  0.3       ]\n"
     ]
    },
    {
     "data": {
      "image/png": "[encoded data removed]",
      "text/plain": [
       "<matplotlib.figure.Figure at 0x111c88d10>"
      ]
     },
     "metadata": {},
     "output_type": "display_data"
    }
   ],
   "source": [
    "tempp = (1e6)*patch # multiply CMB maps by 1e6\n",
    "\n",
    "def LogLikehood_wNoise_constant(param, sig):\n",
    "    # param is our parameter, C_3\n",
    "    Sij = param[:, None, None] * correctmatrix[None, :, :]\n",
    "    newSij = (1e12)*Sij   # multiply S_ij by 1e12\n",
    "    Nij = sig[:, None, None] * id_mat[None, :, :]\n",
    "    newNij = (1e12)*Nij\n",
    "    # Format 7/4pi * param * P_3(M) where param is the parameter we vary, C_l\n",
    "    # Sij.shape = (20, 3072, 3072)\n",
    "    Cij = newSij + newNij\n",
    "    #invCij = np.linalg.inv(Cij)\n",
    "    logdetC = np.linalg.slogdet(Cij)  # returns sign and determinant; use logdetC[1]\n",
    "    # model_fit_terms = m^T C^-1 m\n",
    "    #\n",
    "    # model_fit_terms = np.array([np.dot(tempval.T , np.dot(invCij[i] , tempval) ) \n",
    "    # for i in range(invCij.shape[0])])\n",
    "    #\n",
    "    model_fit_terms = np.array([np.dot(tempp.T , np.linalg.solve(Cij[i], tempp) ) for i in range(Cij.shape[0]) ]) \n",
    "    return model_fit_terms + logdetC[1] + Npix2pi\n",
    "\n",
    "vary_CDM = np.linspace(0.0050, 0.30, num=50 ) #set default num = 20\n",
    "sigmatwo = np.logspace(-8, -10, num=50)\n",
    "print(vary_CDM)\n",
    "\n",
    "xx = vary_CDM\n",
    "yy = LogLikehood_wNoise_constant(vary_CDM, sigmatwo)\n",
    "\n",
    "plt.figure()\n",
    "CS = plt.plot(xx, yy)\n",
    "plt.xlabel(\"vary_CDM = np.linspace(0.0050, 0.30, num=50), hold sigma2 = np.logspace(-8, -10, num=50)\")\n",
    "plt.ylabel(\"LogLF\")\n",
    "pb.show()"
   ]
  },
  {
   "cell_type": "code",
   "execution_count": 248,
   "metadata": {
    "collapsed": false
   },
   "outputs": [
    {
     "name": "stdout",
     "output_type": "stream",
     "text": [
      "[ 0.005       0.01102041  0.01704082  0.02306122  0.02908163  0.03510204\n",
      "  0.04112245  0.04714286  0.05316327  0.05918367  0.06520408  0.07122449\n",
      "  0.0772449   0.08326531  0.08928571  0.09530612  0.10132653  0.10734694\n",
      "  0.11336735  0.11938776  0.12540816  0.13142857  0.13744898  0.14346939\n",
      "  0.1494898   0.1555102   0.16153061  0.16755102  0.17357143  0.17959184\n",
      "  0.18561224  0.19163265  0.19765306  0.20367347  0.20969388  0.21571429\n",
      "  0.22173469  0.2277551   0.23377551  0.23979592  0.24581633  0.25183673\n",
      "  0.25785714  0.26387755  0.26989796  0.27591837  0.28193878  0.28795918\n",
      "  0.29397959  0.3       ]\n"
     ]
    },
    {
     "data": {
      "image/png": "[encoded data removed]",
      "text/plain": [
       "<matplotlib.figure.Figure at 0x111c69ed0>"
      ]
     },
     "metadata": {},
     "output_type": "display_data"
    }
   ],
   "source": [
    "tempp = (1e6)*patch # multiply CMB maps by 1e6\n",
    "\n",
    "def LogLikehood_wNoise_constant(param, sig):\n",
    "    # param is our parameter, C_3\n",
    "    Sij = param[:, None, None] * correctmatrix[None, :, :]\n",
    "    newSij = (1e12)*Sij   # multiply S_ij by 1e12\n",
    "    Nij = sig[:, None, None] * id_mat[None, :, :]\n",
    "    newNij = (1e12)*Nij\n",
    "    # Format 7/4pi * param * P_3(M) where param is the parameter we vary, C_l\n",
    "    # Sij.shape = (20, 3072, 3072)\n",
    "    Cij = newSij + newNij\n",
    "    #invCij = np.linalg.inv(Cij)\n",
    "    logdetC = np.linalg.slogdet(Cij)  # returns sign and determinant; use logdetC[1]\n",
    "    # model_fit_terms = m^T C^-1 m\n",
    "    #\n",
    "    # model_fit_terms = np.array([np.dot(tempval.T , np.dot(invCij[i] , tempval) ) \n",
    "    # for i in range(invCij.shape[0])])\n",
    "    #\n",
    "    model_fit_terms = np.array([np.dot(tempp.T , np.linalg.solve(Cij[i], tempp) ) for i in range(Cij.shape[0]) ]) \n",
    "    return model_fit_terms + logdetC[1] + Npix2pi\n",
    "\n",
    "\n",
    "vary_CDM = np.linspace(0.0050, 0.30, num=50 ) #set default num = 20\n",
    "sigmatwo = np.logspace(-7, -10, num=50)\n",
    "print(vary_CDM)\n",
    "\n",
    "xx = vary_CDM\n",
    "yy = LogLikehood_wNoise_constant(vary_CDM, sigmatwo)\n",
    "\n",
    "plt.figure()\n",
    "CS = plt.plot(xx, yy)\n",
    "plt.xlabel(\"vary_CDM = np.linspace(0.0050, 0.30, num=50), sigmatwo = np.logspace(-7, -10, num=50)\")\n",
    "plt.ylabel(\"LogLF\")\n",
    "pb.show()"
   ]
  },
  {
   "cell_type": "code",
   "execution_count": 249,
   "metadata": {
    "collapsed": false
   },
   "outputs": [
    {
     "name": "stdout",
     "output_type": "stream",
     "text": [
      "[ 0.005       0.01102041  0.01704082  0.02306122  0.02908163  0.03510204\n",
      "  0.04112245  0.04714286  0.05316327  0.05918367  0.06520408  0.07122449\n",
      "  0.0772449   0.08326531  0.08928571  0.09530612  0.10132653  0.10734694\n",
      "  0.11336735  0.11938776  0.12540816  0.13142857  0.13744898  0.14346939\n",
      "  0.1494898   0.1555102   0.16153061  0.16755102  0.17357143  0.17959184\n",
      "  0.18561224  0.19163265  0.19765306  0.20367347  0.20969388  0.21571429\n",
      "  0.22173469  0.2277551   0.23377551  0.23979592  0.24581633  0.25183673\n",
      "  0.25785714  0.26387755  0.26989796  0.27591837  0.28193878  0.28795918\n",
      "  0.29397959  0.3       ]\n"
     ]
    },
    {
     "data": {
      "image/png": "[encoded data removed]",
      "text/plain": [
       "<matplotlib.figure.Figure at 0x111a31350>"
      ]
     },
     "metadata": {},
     "output_type": "display_data"
    }
   ],
   "source": [
    "tempp = (1e6)*patch # multiply CMB maps by 1e6\n",
    "\n",
    "def LogLikehood_wNoise_constant(param, sig):\n",
    "    # param is our parameter, C_3\n",
    "    Sij = param[:, None, None] * correctmatrix[None, :, :]\n",
    "    newSij = (1e12)*Sij   # multiply S_ij by 1e12\n",
    "    Nij = sig[:, None, None] * id_mat[None, :, :]\n",
    "    newNij = (1e12)*Nij\n",
    "    # Format 7/4pi * param * P_3(M) where param is the parameter we vary, C_l\n",
    "    # Sij.shape = (20, 3072, 3072)\n",
    "    Cij = newSij + newNij\n",
    "    #invCij = np.linalg.inv(Cij)\n",
    "    logdetC = np.linalg.slogdet(Cij)  # returns sign and determinant; use logdetC[1]\n",
    "    # model_fit_terms = m^T C^-1 m\n",
    "    #\n",
    "    # model_fit_terms = np.array([np.dot(tempval.T , np.dot(invCij[i] , tempval) ) \n",
    "    # for i in range(invCij.shape[0])])\n",
    "    #\n",
    "    model_fit_terms = np.array([np.dot(tempp.T , np.linalg.solve(Cij[i], tempp) ) for i in range(Cij.shape[0]) ]) \n",
    "    return model_fit_terms + logdetC[1] + Npix2pi\n",
    "\n",
    "\n",
    "vary_CDM = np.linspace(0.0050, 0.30, num=50) #set default num = 20\n",
    "sigmatwo = np.logspace(-7, -9, num=50)\n",
    "print(vary_CDM)\n",
    "\n",
    "xx = vary_CDM\n",
    "yy = LogLikehood_wNoise_constant(vary_CDM, sigmatwo)\n",
    "\n",
    "plt.figure()\n",
    "CS = plt.plot(xx, yy)\n",
    "plt.xlabel(\"vary_CDM = np.linspace(0.0050, 0.30, num=50), sigmatwo = np.logspace(-7, -9, num=50)\")\n",
    "plt.ylabel(\"LogLF\")\n",
    "pb.show()"
   ]
  },
  {
   "cell_type": "code",
   "execution_count": 250,
   "metadata": {
    "collapsed": false
   },
   "outputs": [
    {
     "data": {
      "image/png": "[encoded data removed]",
      "text/plain": [
       "<matplotlib.figure.Figure at 0x111b25290>"
      ]
     },
     "metadata": {},
     "output_type": "display_data"
    }
   ],
   "source": [
    "vary_CDM = np.linspace(0.0050, 0.30, num=30) #set default num = 20\n",
    "sigma2 = np.logspace(-8, -10, num=30) #set default num = 30\n",
    "\n",
    "xxx = vary_CDM\n",
    "yyy = sigma2\n",
    "\n",
    "zzz = np.array([[LogLikehood_wNoise_1e12_Contour(np.asarray(i), np.asarray(j)) for i in xxx] for j in yyy])\n",
    "\n",
    "zzzreshaped = zzz.reshape(30,30)\n",
    "\n",
    "plt.figure()\n",
    "CS = plt.contour(xxx, yyy, zzzreshaped)\n",
    "plt.clabel(CS, inline=1, fontsize=10)\n",
    "plt.xlabel(\"vary_CDM = np.linspace(0.0050, 0.30, num=30)\")\n",
    "plt.ylabel(\"sigma2 = np.logspace(-8, -10, num=30)\")\n",
    "pb.show()"
   ]
  },
  {
   "cell_type": "code",
   "execution_count": null,
   "metadata": {
    "collapsed": true
   },
   "outputs": [],
   "source": []
  },
  {
   "cell_type": "code",
   "execution_count": null,
   "metadata": {
    "collapsed": true
   },
   "outputs": [],
   "source": []
  },
  {
   "cell_type": "code",
   "execution_count": null,
   "metadata": {
    "collapsed": true
   },
   "outputs": [],
   "source": []
  },
  {
   "cell_type": "code",
   "execution_count": null,
   "metadata": {
    "collapsed": true
   },
   "outputs": [],
   "source": []
  },
  {
   "cell_type": "code",
   "execution_count": null,
   "metadata": {
    "collapsed": true
   },
   "outputs": [],
   "source": []
  }
 ],
 "metadata": {
  "kernelspec": {
   "display_name": "Python 2",
   "language": "python",
   "name": "python2"
  },
  "language_info": {
   "codemirror_mode": {
    "name": "ipython",
    "version": 2
   },
   "file_extension": ".py",
   "mimetype": "text/x-python",
   "name": "python",
   "nbconvert_exporter": "python",
   "pygments_lexer": "ipython2",
   "version": "2.7.10"
  }
 },
 "nbformat": 4,
 "nbformat_minor": 0
}
