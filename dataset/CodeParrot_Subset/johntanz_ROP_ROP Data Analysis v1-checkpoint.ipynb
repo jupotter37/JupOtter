{
 "cells": [
  {
   "cell_type": "markdown",
   "metadata": {},
   "source": [
    "# ROP Data Analysis 0.1\n"
   ]
  },
  {
   "cell_type": "markdown",
   "metadata": {},
   "source": [
    "###Call ROPtimes dict, and clean data up"
   ]
  },
  {
   "cell_type": "code",
   "execution_count": 90,
   "metadata": {
    "collapsed": false,
    "scrolled": true
   },
   "outputs": [],
   "source": [
    "# Import Modules and Identify Low Signals\n",
    "import numpy as np\n",
    "import matplotlib.pyplot as plt\n",
    "from pylab import *\n",
    "import pandas as pd\n",
    "from datetime import datetime, timedelta\n",
    "from pandas import Series, DataFrame, concat\n",
    "import scipy\n",
    "import scipy.stats\n",
    "import scipy.fftpack\n",
    "\n",
    "#Define any string with 'C' as NaN. 'C' is an indicator for the Masimo as a low signal reading\n",
    "def readD(val):\n",
    "    if 'C' in val:\n",
    "        return np.nan\n",
    "    return val\n",
    "\n",
    "%matplotlib inline"
   ]
  },
  {
   "cell_type": "code",
   "execution_count": 91,
   "metadata": {
    "collapsed": false,
    "scrolled": true
   },
   "outputs": [],
   "source": [
    "import ROPtimes as rt\n",
    "\n",
    "Baby = 'ROP015' #change depending on which baby you're doing!\n",
    "BabyDict = getattr(rt, Baby) "
   ]
  },
  {
   "cell_type": "code",
   "execution_count": 92,
   "metadata": {
    "collapsed": false,
    "scrolled": true
   },
   "outputs": [
    {
     "data": {
      "text/plain": [
       "\"\\nParse_dates tells the read_csv function to combine the date and time column\\nInto one timestamp column and parse it as a timestamp.\\nPandas is smart enough to know how to parse a date in various formats\\n\\nIndex_col sets the timestamp column to be the index.\\n\\nUsecols tells the read_csv function to select only the subset of the columns.\\nNa_values is used to turn 0 into NaN\\n\\nConverters: readD is the dict that means any string with 'C' with be NaN (for PI)\\n\""
      ]
     },
     "execution_count": 92,
     "metadata": {},
     "output_type": "execute_result"
    }
   ],
   "source": [
    "dfNIRSpre0 = pd.read_csv('/Users/John/Dropbox/LLU/Projects/Retinopathy of Prematurity/NIRS/Clean/' + Baby + 'NIRS.csv',\n",
    "                         parse_dates={'timestamp': ['Date',' Time']},\n",
    "                         index_col='timestamp',\n",
    "                         usecols=['Date', ' Time', ' Ch2 %StO2'],\n",
    "                         na_values=['0'])\n",
    "\n",
    "dfPOpre0 = pd.read_csv('/Users/John/Dropbox/LLU/Projects/Retinopathy of Prematurity/Pulse Ox/' + Baby + 'PO.csv',\n",
    "                       parse_dates={'timestamp': ['Date','Time']},\n",
    "                       index_col='timestamp',\n",
    "                       usecols=['Date', 'Time', 'SpO2', 'PR'],\n",
    "                       na_values=['0'])\n",
    "\n",
    "dfPIpre0 = pd.read_csv('/Users/John/Dropbox/LLU/Projects/Retinopathy of Prematurity/Pulse Ox/' + Baby + 'PO.csv',\n",
    "                       parse_dates={'timestamp': ['Date','Time']},\n",
    "                       index_col='timestamp',\n",
    "                       usecols=['Date', 'Time', 'PI', 'Exceptions'],\n",
    "                       na_values=['0'],\n",
    "                       converters={'Exceptions':  readD}\n",
    "                       ) #make a PI df as well to clean it better\n",
    "\n",
    "dfNIRSpre = dfNIRSpre0.rename(columns={' Ch2 %StO2': 'StO2'}) #rename NIRS column\n",
    "\n",
    "#Clean the PI dataframe to get rid of rows that have NaN\n",
    "dfPIpre = dfPIpre0[dfPIpre0.loc[:, ['PI', 'Exceptions']].apply(pd.notnull).all(1)]\n",
    "\n",
    "dfPOpre = dfPIpre.combine_first(dfPOpre0)\n",
    "#combine PI dataframe with the rest of the Pulse Ox dataframe after cleaning\n",
    "\n",
    "'''\n",
    "Parse_dates tells the read_csv function to combine the date and time column\n",
    "Into one timestamp column and parse it as a timestamp.\n",
    "Pandas is smart enough to know how to parse a date in various formats\n",
    "\n",
    "Index_col sets the timestamp column to be the index.\n",
    "\n",
    "Usecols tells the read_csv function to select only the subset of the columns.\n",
    "Na_values is used to turn 0 into NaN\n",
    "\n",
    "Converters: readD is the dict that means any string with 'C' with be NaN (for PI)\n",
    "'''"
   ]
  },
  {
   "cell_type": "code",
   "execution_count": 93,
   "metadata": {
    "collapsed": false,
    "scrolled": true
   },
   "outputs": [
    {
     "name": "stdout",
     "output_type": "stream",
     "text": [
      "\n",
      "Both NIRS and PO indices are even.\n"
     ]
    }
   ],
   "source": [
    "# Phone almost always equals Philips monitor\n",
    "\n",
    "# NIRS date/time is 2 mins and 10 seconds slower than phone. Have to correct for it.\n",
    "# Pulse ox date/time is 1 mins and 32 seconds faster than phone. Have to correct for it.\n",
    "\n",
    "#This code is to make the combined dataframe come in even seconds.\n",
    "#The corrected is 1 second, + for NIRS and - for PO.\n",
    "\n",
    "TCcorrect = timedelta(seconds=1)\n",
    "\n",
    "ncorr = dfNIRSpre.index+TCcorrect\n",
    "pcorr = dfPOpre.index-TCcorrect\n",
    "\n",
    "\n",
    "if dfNIRSpre.index[:1].second % 2 == 0:\n",
    "    if dfPOpre.index[:1].second % 2 == 0:\n",
    "        print '\\nBoth NIRS and PO indices are even.'\n",
    "    elif dfPOpre.index[:1].second % 2 != 0:\n",
    "        print '\\nNIRS even, PO odd. PO index corrected.'\n",
    "        dfPOpre = dfPOpre.set_index(pcorr)\n",
    "    else:\n",
    "        raise NameError('Indices are messed up')\n",
    "elif dfNIRSpre.index[:1].second % 2 != 0:\n",
    "    if dfPOpre.index[:1].second % 2 == 0:\n",
    "        print '\\nNIRS odd, PO even. NIRS index corrected.'\n",
    "        dfNIRSpre = dfNIRSpre.set_index(ncorr)\n",
    "    elif dfPOpre.index[:1].second % 2 != 0:\n",
    "        print '\\nBoth NIRS and PO indices are odd. Both corrected'\n",
    "        dfNIRSpre = dfNIRSpre.set_index(ncorr)\n",
    "        dfPOpre = dfPOpre.set_index(pcorr)\n",
    "else:\n",
    "    raise NameError('Indices are messed up')\n",
    "\n",
    "TCnirs = timedelta(minutes=2, seconds=10)\n",
    "TCpo = timedelta(minutes=1, seconds=32)\n",
    "# NIRS is slower than correct time, need to add TCnirs to catch it up\n",
    "# PO is faster than correct time, need to subtract TCpo to slow it down\n",
    "\n",
    "dfNIRS = dfNIRSpre.set_index([dfNIRSpre.index+TCnirs]) #NIRS Time Correction\n",
    "dfPO = dfPOpre.set_index([dfPOpre.index-TCpo]) #PO Time Correction"
   ]
  },
  {
   "cell_type": "code",
   "execution_count": 94,
   "metadata": {
    "collapsed": false,
    "scrolled": true
   },
   "outputs": [
    {
     "name": "stdout",
     "output_type": "stream",
     "text": [
      "Both machines on\n"
     ]
    }
   ],
   "source": [
    "#for babies that only had one machine\n",
    "\n",
    "dffakePO = pd.DataFrame({'SpO2':0, 'PR':0, 'PI':0}, index=dfNIRS.index)\n",
    "dffakeNIRS = pd.DataFrame({'StO2':0}, index=dfPO.index)\n",
    "\n",
    "if len(dfNIRS) > 5:\n",
    "    if len(dfPO) > 5:\n",
    "        df = dfNIRS.combine_first(dfPO) #Combine two DataFrame objects and default to non-null values in frame\n",
    "        print 'Both machines on'\n",
    "    elif len(dfPO) < 5:\n",
    "        df = dfNIRS.combine_first(dffakePO)\n",
    "        print 'Only NIRS on'\n",
    "elif len(dfNIRS) < 5:\n",
    "    df = dffakeNIRS.combine_first(dfPO)\n",
    "    print 'Only Masimo on'\n",
    "else:\n",
    "    raise NameError('Check your files')"
   ]
  },
  {
   "cell_type": "code",
   "execution_count": 95,
   "metadata": {
    "collapsed": false
   },
   "outputs": [
    {
     "name": "stdout",
     "output_type": "stream",
     "text": [
      "Total (h) Baseline recording = 15.748345932\n",
      "Total (h) After Exam recording = 25.46390926\n"
     ]
    }
   ],
   "source": [
    "a = -(df.index[0]-BabyDict['ExamStart']).total_seconds()*0.000277778\n",
    "print 'Total (h) Baseline recording = %s' % a\n",
    "b = ((df.index[-1])-BabyDict['ExamEnd']).total_seconds()*0.000277778\n",
    "print 'Total (h) After Exam recording = %s' % b"
   ]
  },
  {
   "cell_type": "code",
   "execution_count": 96,
   "metadata": {
    "collapsed": false,
    "scrolled": true
   },
   "outputs": [],
   "source": [
    "#Convert to Relative Time and Time Windows\n",
    "def reltimecalc(ROPNumber, df):\n",
    "    ROPreltime = {\n",
    "        'BaselineStart' : (df.index[0].to_datetime()-ROPNumber['ExamStart']).total_seconds(), #should be negative\n",
    "        'BaselineEnd': (ROPNumber['EyeDrop1'] - ROPNumber['ExamStart']).total_seconds(), #redundant, just for labeling sake\n",
    "        'EyeDrop1' : (ROPNumber['EyeDrop1'] - ROPNumber['ExamStart']).total_seconds(), #neg\n",
    "        'EyeDrop2' : (ROPNumber['EyeDrop2'] - ROPNumber['ExamStart']).total_seconds(), #neg\n",
    "        'EyeDrop3' : (ROPNumber['EyeDrop3'] - ROPNumber['ExamStart']).total_seconds(), #neg\n",
    "        'ExamStart' : (ROPNumber['ExamStart'] - ROPNumber['ExamStart']).total_seconds(), \n",
    "        'ExamEnd' :  (ROPNumber['ExamEnd'] - ROPNumber['ExamStart']).total_seconds(), #positive number\n",
    "        'DataEnd' : (df.index[-1].to_datetime()-ROPNumber['ExamStart']).total_seconds()\n",
    "    }\n",
    "    \n",
    "    TimeWindows = {\n",
    "        'tw0' : -10800.0, # three hours before 0\n",
    "        'tw1' : 10800.0, # three hours after 0\n",
    "        'tw2' : 21600.0, # six hoours\n",
    "        'tw3' : 32400.0, # nine hours\n",
    "        'tw4' : 43200.0, # 12 hours\n",
    "        'tw5' : 54000.0, # 15 hours\n",
    "        'tw6' : 64800.0, # 18 hours\n",
    "        'tw7' : 75600.0, # 21 hours\n",
    "        'tw8' : 86400.0 #24 hours\n",
    "    }\n",
    "    \n",
    "    return ROPreltime, TimeWindows\n"
   ]
  },
  {
   "cell_type": "code",
   "execution_count": 97,
   "metadata": {
    "collapsed": false,
    "scrolled": true
   },
   "outputs": [],
   "source": [
    "tw = timedelta(hours=3)\n",
    "twend = timedelta(hours=24)\n",
    "df = df[(BabyDict['ExamStart']-tw):(BabyDict['ExamStart']+twend)]"
   ]
  },
  {
   "cell_type": "code",
   "execution_count": 98,
   "metadata": {
    "collapsed": false,
    "scrolled": true
   },
   "outputs": [],
   "source": [
    "Data, tw = reltimecalc(BabyDict, df)"
   ]
  },
  {
   "cell_type": "code",
   "execution_count": 99,
   "metadata": {
    "collapsed": false,
    "scrolled": true
   },
   "outputs": [],
   "source": [
    "df = df.set_index(np.linspace(tw['tw0'],tw['tw8'],len(df)))"
   ]
  },
  {
   "cell_type": "code",
   "execution_count": 100,
   "metadata": {
    "collapsed": false,
    "scrolled": true
   },
   "outputs": [],
   "source": [
    "df = df[df.PI.between(0.02, 20)]\n",
    "df = df.drop('Exceptions', 1) # Drop exceptions now that you don't need it anymore\n",
    "#filter PI values to only allow  =< 0.02 and >= 20\n",
    "\n",
    "dfen = df.dropna(how='any') #df for no NaN"
   ]
  },
  {
   "cell_type": "code",
   "execution_count": 101,
   "metadata": {
    "collapsed": false
   },
   "outputs": [],
   "source": [
    "psa = dfen['SpO2'].values\n",
    "prs = dfen['StO2'].values\n",
    "\n",
    "FTOE = pd.Series(((psa-prs)/psa)*100)\n",
    "\n",
    "dfen = dfen.assign(FTOE=FTOE.values)"
   ]
  },
  {
   "cell_type": "markdown",
   "metadata": {},
   "source": [
    "#Analyis Start"
   ]
  },
  {
   "cell_type": "markdown",
   "metadata": {},
   "source": [
    "###Linear Measures:\n",
    "\n",
    "Avgs, Std Dev, and Coefficient of Variation\n",
    "    - Avg, std dev, and CoV for every time window\n",
    "    - Avg every 10 sec for 4 mins of ROP exam, std dev, CoV.\n",
    "    - O2 DeSat Counts"
   ]
  },
  {
   "cell_type": "code",
   "execution_count": 102,
   "metadata": {
    "collapsed": true
   },
   "outputs": [],
   "source": [
    "a = df[tw['tw0']:0]\n",
    "b = df[0:tw['tw1']]\n",
    "c = df[tw['tw1']:tw['tw2']]\n",
    "d = df[tw['tw2']:tw['tw3']]\n",
    "e = df[tw['tw3']:tw['tw4']]\n",
    "f = df[tw['tw4']:tw['tw5']]\n",
    "g = df[tw['tw5']:tw['tw6']]\n",
    "h = df[tw['tw6']:tw['tw7']]\n",
    "i = df[tw['tw7']:tw['tw8']]\n",
    "\n",
    "dflst = [a, b, c, d, e, f, g, h, i]\n",
    "\n",
    "tlst = [tw['tw0'], 0, tw['tw1'], tw['tw2'], tw['tw3'], tw['tw4'], tw['tw5'], \n",
    "        tw['tw6'], tw['tw7'], tw['tw8']]\n",
    "\n",
    "#dfen for no na values\n",
    "\n",
    "ea = dfen[tw['tw0']:0]\n",
    "eb = dfen[0:tw['tw1']]\n",
    "ec = dfen[tw['tw1']:tw['tw2']]\n",
    "ed = dfen[tw['tw2']:tw['tw3']]\n",
    "ee = dfen[tw['tw3']:tw['tw4']]\n",
    "ef = dfen[tw['tw4']:tw['tw5']]\n",
    "eg = dfen[tw['tw5']:tw['tw6']]\n",
    "eh = dfen[tw['tw6']:tw['tw7']]\n",
    "ei = dfen[tw['tw7']:tw['tw8']]\n",
    "\n",
    "dfenlst = [ea, eb, ec, ed, ee, ef, eg, eh, ei] #basically same dataframe but all NaNs dropped\n",
    "#some functions will return NaN if there's even one NaN present so this is why this is necessary\n",
    "\n",
    "#entropy functions replace original data, so need to make a copy\n",
    "dfenlstcopy1 = [] #use this for entropy measures\n",
    "dfenlstcopy2 = [] #use this for cross entropy meaures\n",
    "dfenlstcopy3 = [] #use this for baseline cross entropy measures\n",
    "for i in dfenlst:\n",
    "    cpy = i.copy(deep=True)\n",
    "    dfenlstcopy1.append(cpy)\n",
    "    dfenlstcopy2.append(cpy)\n",
    "    dfenlstcopy3.append(cpy)"
   ]
  },
  {
   "cell_type": "code",
   "execution_count": 103,
   "metadata": {
    "collapsed": false
   },
   "outputs": [],
   "source": [
    "#AVERAGE DURING ROP EXAM FOR FIRST FOUR MINUTES\n",
    "\n",
    "\n",
    "#tensec needs df['y']\n",
    "\n",
    "def tensec(a, b): #a = baseline values, b = next time epoch\n",
    "\n",
    "    blavg = np.nanmean(a.values)\n",
    "    blstd = np.nanstd(a.values)\n",
    "    blcv = scipy.stats.variation(a.values, nan_policy='omit')\n",
    "    \n",
    "    r =  np.arange(0, 250, 10)\n",
    "    \n",
    "    avg = [blavg]\n",
    "    stdev = [blstd]\n",
    "    cv = [blcv]\n",
    "    \n",
    "    ind = list(np.arange(0, 250, 10))\n",
    "    ind.insert(0, 'Baseline')\n",
    "    \n",
    "    for i in r:\n",
    "        x = b[i:(i+10)].mean()\n",
    "        y = b[i:(i+10)].std()\n",
    "        z = scipy.stats.variation((b[i:(i+10)]).values, nan_policy='omit')\n",
    "        \n",
    "        avg.append(x)\n",
    "        stdev.append(y)\n",
    "        cv.append(z)\n",
    "    \n",
    "    dftensec = pd.DataFrame({\n",
    "    'a_mean': avg,\n",
    "    'b_std dev' : stdev,\n",
    "    'c_CoV' : cv,\n",
    "    }, index = ind)\n",
    "    \n",
    "    return dftensec"
   ]
  },
  {
   "cell_type": "code",
   "execution_count": 104,
   "metadata": {
    "collapsed": false
   },
   "outputs": [],
   "source": [
    "PIten = tensec(a['PI'], b['PI'])\n",
    "PIten.columns = ['PI mean', 'PI std dev', 'PI CV']\n",
    "\n",
    "PRten = tensec(a['PR'], b['PR'])\n",
    "PRten.columns = ['PR mean', 'PR std dev', 'PR CV']\n",
    "\n",
    "SpO2ten = tensec(a['SpO2'], b['SpO2'])\n",
    "SpO2ten.columns = ['SpO2 mean', 'SpO2 std dev', 'PR CV']\n",
    "\n",
    "StO2ten = tensec(a['StO2'], b['StO2'])\n",
    "StO2ten.columns = [\"StO2 mean\", \"StO2 std dev\", \"StO2 CV\"]\n",
    "\n",
    "FTOEten = tensec(ea['FTOE'], eb['FTOE']) #e means dropped nan\n",
    "FTOEten.columns = ['FTOE mean', 'FTOE std dev', 'FTOE CV']"
   ]
  },
  {
   "cell_type": "code",
   "execution_count": 105,
   "metadata": {
    "collapsed": false
   },
   "outputs": [],
   "source": [
    "def linearmeasures(avglst): \n",
    "    \n",
    "    #mean\n",
    "    \n",
    "    PImean = []\n",
    "    PRmean = []\n",
    "    SpO2mean = []\n",
    "    StO2mean = []\n",
    "    FTOEmean = []\n",
    "    \n",
    "    #std dev\n",
    "    \n",
    "    PIstd = []\n",
    "    PRstd = []\n",
    "    SpO2std = []\n",
    "    StO2std = []\n",
    "    FTOEstd = []\n",
    "\n",
    "\n",
    "    #coefficient of varience\n",
    "    \n",
    "    PIcv = []\n",
    "    PRcv = []\n",
    "    SpO2cv = []\n",
    "    StO2cv = []\n",
    "    FTOEcv = []\n",
    "   \n",
    "    \n",
    "    for i in avglst:\n",
    "\n",
    "        ax = np.nanmean(i['PI'].values) #mean\n",
    "        PImean.append(ax)\n",
    "        az = np.nanstd(i['PI'].values) #std dev\n",
    "        PIstd.append(az)\n",
    "        av = scipy.stats.variation(i['PI'].values, nan_policy='omit') #CoV\n",
    "        PIcv.append(av)\n",
    "        \n",
    "        bx = np.nanmean(i['PR'].values) #mean\n",
    "        PRmean.append(bx)\n",
    "        bz = np.nanstd(i['PR'].values) #std dev\n",
    "        PRstd.append(bz)\n",
    "        bv = scipy.stats.variation(i['PR'].values, nan_policy='omit') #CoV\n",
    "        PRcv.append(bv)\n",
    "            \n",
    "        cx = np.nanmean(i['SpO2'].values) #mean\n",
    "        SpO2mean.append(cx)\n",
    "        cz = np.nanstd(i['SpO2'].values) #std dev\n",
    "        SpO2std.append(cz)\n",
    "        cv = scipy.stats.variation(i['SpO2'].values, nan_policy='omit') #CoV\n",
    "        SpO2cv.append(cv)\n",
    "            \n",
    "        dx = np.nanmean(i['StO2'].values) #mean\n",
    "        StO2mean.append(dx)\n",
    "        dz = np.nanstd(i['StO2'].values) #std dev\n",
    "        StO2std.append(dz)\n",
    "        dv = scipy.stats.variation(i['StO2'].values, nan_policy='omit') #CoV\n",
    "        StO2cv.append(dv)\n",
    "        \n",
    "        ex = np.nanmean(i['FTOE'].values) #mean\n",
    "        FTOEmean.append(ex)\n",
    "        ez = np.nanstd(i['FTOE'].values) #std dev\n",
    "        FTOEstd.append(ez)\n",
    "        ev = scipy.stats.variation(i['FTOE'].values, nan_policy='omit') #CoV\n",
    "        FTOEcv.append(ev)\n",
    "            \n",
    "    \n",
    "    PIlin = pd.DataFrame({\n",
    "    'a_PI mean': PImean,\n",
    "    'b_PI std dev' : PIstd,\n",
    "    'c_PI CoV' : PIcv,\n",
    "    }, index = ['-3:0','0:3','3:6','6:9','9:12','12:15','15:18','18:21','21:24'])\n",
    "    \n",
    "    PRlin = pd.DataFrame({\n",
    "    'a_PR mean': PRmean,\n",
    "    'b_PR std dev' : PRstd,\n",
    "    'c_PR CoV' : PRcv,\n",
    "    }, index = ['-3:0','0:3','3:6','6:9','9:12','12:15','15:18','18:21','21:24'])\n",
    "    \n",
    "    SpO2lin = pd.DataFrame({\n",
    "    'a_SpO2 mean': SpO2mean,\n",
    "    'b_SpO2 std dev' : SpO2std,\n",
    "    'c_SpO2 CoV' : SpO2cv,\n",
    "    }, index = ['-3:0','0:3','3:6','6:9','9:12','12:15','15:18','18:21','21:24'])\n",
    "    \n",
    "    StO2lin = pd.DataFrame({\n",
    "    'a_StO2 mean': StO2mean,\n",
    "    'b_StO2 std dev' : StO2std,\n",
    "    'c_StO2 CoV' : StO2cv,\n",
    "    }, index = ['-3:0','0:3','3:6','6:9','9:12','12:15','15:18','18:21','21:24'])\n",
    "    \n",
    "    FTOElin = pd.DataFrame({\n",
    "    'a_FTOE mean': FTOEmean,\n",
    "    'b_FTOE std dev' : FTOEstd,\n",
    "    'c_FTOE CoV' : FTOEcv,\n",
    "    }, index = ['-3:0','0:3','3:6','6:9','9:12','12:15','15:18','18:21','21:24'])\n",
    "    \n",
    "    dfCoV = pd.DataFrame({\n",
    "    'PI CoV' : PIcv,\n",
    "    'PR CoV' : PRcv,\n",
    "    'SpO2 CoV' : SpO2cv,\n",
    "    'StO2 CoV' : StO2cv,\n",
    "    'FTOE CoV' : FTOEcv\n",
    "    }, index = ['-3:0','0:3','3:6','6:9','9:12','12:15','15:18','18:21','21:24'])\n",
    "    \n",
    "    \n",
    "    return PIlin, PRlin, SpO2lin, StO2lin, FTOElin, dfCoV"
   ]
  },
  {
   "cell_type": "code",
   "execution_count": 106,
   "metadata": {
    "collapsed": false
   },
   "outputs": [],
   "source": [
    "PIlin, PRlin, SpO2lin, StO2lin, FTOElin, dfCoV = linearmeasures(dfenlst) #USE dfenlst"
   ]
  },
  {
   "cell_type": "code",
   "execution_count": 107,
   "metadata": {
    "collapsed": false
   },
   "outputs": [
    {
     "data": {
      "text/html": [
       "<div>\n",
       "<table border=\"1\" class=\"dataframe\">\n",
       "  <thead>\n",
       "    <tr style=\"text-align: right;\">\n",
       "      <th></th>\n",
       "      <th>a_PI mean</th>\n",
       "      <th>b_PI std dev</th>\n",
       "      <th>c_PI CoV</th>\n",
       "    </tr>\n",
       "  </thead>\n",
       "  <tbody>\n",
       "    <tr>\n",
       "      <th>-3:0</th>\n",
       "      <td>1.400518</td>\n",
       "      <td>0.607776</td>\n",
       "      <td>0.433965</td>\n",
       "    </tr>\n",
       "    <tr>\n",
       "      <th>0:3</th>\n",
       "      <td>1.470180</td>\n",
       "      <td>0.408768</td>\n",
       "      <td>0.278039</td>\n",
       "    </tr>\n",
       "    <tr>\n",
       "      <th>3:6</th>\n",
       "      <td>1.328343</td>\n",
       "      <td>0.666908</td>\n",
       "      <td>0.502060</td>\n",
       "    </tr>\n",
       "    <tr>\n",
       "      <th>6:9</th>\n",
       "      <td>1.516548</td>\n",
       "      <td>0.507242</td>\n",
       "      <td>0.334471</td>\n",
       "    </tr>\n",
       "    <tr>\n",
       "      <th>9:12</th>\n",
       "      <td>1.880443</td>\n",
       "      <td>0.617186</td>\n",
       "      <td>0.328213</td>\n",
       "    </tr>\n",
       "    <tr>\n",
       "      <th>12:15</th>\n",
       "      <td>2.044417</td>\n",
       "      <td>0.810196</td>\n",
       "      <td>0.396297</td>\n",
       "    </tr>\n",
       "    <tr>\n",
       "      <th>15:18</th>\n",
       "      <td>1.722643</td>\n",
       "      <td>0.592473</td>\n",
       "      <td>0.343933</td>\n",
       "    </tr>\n",
       "    <tr>\n",
       "      <th>18:21</th>\n",
       "      <td>1.780041</td>\n",
       "      <td>0.529919</td>\n",
       "      <td>0.297700</td>\n",
       "    </tr>\n",
       "    <tr>\n",
       "      <th>21:24</th>\n",
       "      <td>1.238639</td>\n",
       "      <td>0.605162</td>\n",
       "      <td>0.488570</td>\n",
       "    </tr>\n",
       "  </tbody>\n",
       "</table>\n",
       "</div>"
      ],
      "text/plain": [
       "       a_PI mean  b_PI std dev  c_PI CoV\n",
       "-3:0    1.400518      0.607776  0.433965\n",
       "0:3     1.470180      0.408768  0.278039\n",
       "3:6     1.328343      0.666908  0.502060\n",
       "6:9     1.516548      0.507242  0.334471\n",
       "9:12    1.880443      0.617186  0.328213\n",
       "12:15   2.044417      0.810196  0.396297\n",
       "15:18   1.722643      0.592473  0.343933\n",
       "18:21   1.780041      0.529919  0.297700\n",
       "21:24   1.238639      0.605162  0.488570"
      ]
     },
     "metadata": {},
     "output_type": "display_data"
    },
    {
     "data": {
      "text/html": [
       "<div>\n",
       "<table border=\"1\" class=\"dataframe\">\n",
       "  <thead>\n",
       "    <tr style=\"text-align: right;\">\n",
       "      <th></th>\n",
       "      <th>a_PR mean</th>\n",
       "      <th>b_PR std dev</th>\n",
       "      <th>c_PR CoV</th>\n",
       "    </tr>\n",
       "  </thead>\n",
       "  <tbody>\n",
       "    <tr>\n",
       "      <th>-3:0</th>\n",
       "      <td>147.459532</td>\n",
       "      <td>15.811006</td>\n",
       "      <td>0.107223</td>\n",
       "    </tr>\n",
       "    <tr>\n",
       "      <th>0:3</th>\n",
       "      <td>148.137215</td>\n",
       "      <td>17.468538</td>\n",
       "      <td>0.117921</td>\n",
       "    </tr>\n",
       "    <tr>\n",
       "      <th>3:6</th>\n",
       "      <td>146.487619</td>\n",
       "      <td>15.656282</td>\n",
       "      <td>0.106878</td>\n",
       "    </tr>\n",
       "    <tr>\n",
       "      <th>6:9</th>\n",
       "      <td>154.990661</td>\n",
       "      <td>15.570040</td>\n",
       "      <td>0.100458</td>\n",
       "    </tr>\n",
       "    <tr>\n",
       "      <th>9:12</th>\n",
       "      <td>150.472088</td>\n",
       "      <td>14.765096</td>\n",
       "      <td>0.098125</td>\n",
       "    </tr>\n",
       "    <tr>\n",
       "      <th>12:15</th>\n",
       "      <td>164.673462</td>\n",
       "      <td>16.413125</td>\n",
       "      <td>0.099671</td>\n",
       "    </tr>\n",
       "    <tr>\n",
       "      <th>15:18</th>\n",
       "      <td>151.246552</td>\n",
       "      <td>14.890699</td>\n",
       "      <td>0.098453</td>\n",
       "    </tr>\n",
       "    <tr>\n",
       "      <th>18:21</th>\n",
       "      <td>156.654985</td>\n",
       "      <td>14.957723</td>\n",
       "      <td>0.095482</td>\n",
       "    </tr>\n",
       "    <tr>\n",
       "      <th>21:24</th>\n",
       "      <td>153.593688</td>\n",
       "      <td>17.143984</td>\n",
       "      <td>0.111619</td>\n",
       "    </tr>\n",
       "  </tbody>\n",
       "</table>\n",
       "</div>"
      ],
      "text/plain": [
       "        a_PR mean  b_PR std dev  c_PR CoV\n",
       "-3:0   147.459532     15.811006  0.107223\n",
       "0:3    148.137215     17.468538  0.117921\n",
       "3:6    146.487619     15.656282  0.106878\n",
       "6:9    154.990661     15.570040  0.100458\n",
       "9:12   150.472088     14.765096  0.098125\n",
       "12:15  164.673462     16.413125  0.099671\n",
       "15:18  151.246552     14.890699  0.098453\n",
       "18:21  156.654985     14.957723  0.095482\n",
       "21:24  153.593688     17.143984  0.111619"
      ]
     },
     "metadata": {},
     "output_type": "display_data"
    },
    {
     "data": {
      "text/html": [
       "<div>\n",
       "<table border=\"1\" class=\"dataframe\">\n",
       "  <thead>\n",
       "    <tr style=\"text-align: right;\">\n",
       "      <th></th>\n",
       "      <th>a_SpO2 mean</th>\n",
       "      <th>b_SpO2 std dev</th>\n",
       "      <th>c_SpO2 CoV</th>\n",
       "    </tr>\n",
       "  </thead>\n",
       "  <tbody>\n",
       "    <tr>\n",
       "      <th>-3:0</th>\n",
       "      <td>98.768316</td>\n",
       "      <td>1.969275</td>\n",
       "      <td>0.019938</td>\n",
       "    </tr>\n",
       "    <tr>\n",
       "      <th>0:3</th>\n",
       "      <td>97.741483</td>\n",
       "      <td>2.303449</td>\n",
       "      <td>0.023567</td>\n",
       "    </tr>\n",
       "    <tr>\n",
       "      <th>3:6</th>\n",
       "      <td>98.665524</td>\n",
       "      <td>1.748614</td>\n",
       "      <td>0.017723</td>\n",
       "    </tr>\n",
       "    <tr>\n",
       "      <th>6:9</th>\n",
       "      <td>98.020172</td>\n",
       "      <td>1.972344</td>\n",
       "      <td>0.020122</td>\n",
       "    </tr>\n",
       "    <tr>\n",
       "      <th>9:12</th>\n",
       "      <td>98.063082</td>\n",
       "      <td>1.734714</td>\n",
       "      <td>0.017690</td>\n",
       "    </tr>\n",
       "    <tr>\n",
       "      <th>12:15</th>\n",
       "      <td>98.151674</td>\n",
       "      <td>2.144752</td>\n",
       "      <td>0.021851</td>\n",
       "    </tr>\n",
       "    <tr>\n",
       "      <th>15:18</th>\n",
       "      <td>97.956578</td>\n",
       "      <td>2.278130</td>\n",
       "      <td>0.023257</td>\n",
       "    </tr>\n",
       "    <tr>\n",
       "      <th>18:21</th>\n",
       "      <td>97.970015</td>\n",
       "      <td>1.944758</td>\n",
       "      <td>0.019851</td>\n",
       "    </tr>\n",
       "    <tr>\n",
       "      <th>21:24</th>\n",
       "      <td>98.817949</td>\n",
       "      <td>1.833986</td>\n",
       "      <td>0.018559</td>\n",
       "    </tr>\n",
       "  </tbody>\n",
       "</table>\n",
       "</div>"
      ],
      "text/plain": [
       "       a_SpO2 mean  b_SpO2 std dev  c_SpO2 CoV\n",
       "-3:0     98.768316        1.969275    0.019938\n",
       "0:3      97.741483        2.303449    0.023567\n",
       "3:6      98.665524        1.748614    0.017723\n",
       "6:9      98.020172        1.972344    0.020122\n",
       "9:12     98.063082        1.734714    0.017690\n",
       "12:15    98.151674        2.144752    0.021851\n",
       "15:18    97.956578        2.278130    0.023257\n",
       "18:21    97.970015        1.944758    0.019851\n",
       "21:24    98.817949        1.833986    0.018559"
      ]
     },
     "metadata": {},
     "output_type": "display_data"
    },
    {
     "data": {
      "text/html": [
       "<div>\n",
       "<table border=\"1\" class=\"dataframe\">\n",
       "  <thead>\n",
       "    <tr style=\"text-align: right;\">\n",
       "      <th></th>\n",
       "      <th>a_StO2 mean</th>\n",
       "      <th>b_StO2 std dev</th>\n",
       "      <th>c_StO2 CoV</th>\n",
       "    </tr>\n",
       "  </thead>\n",
       "  <tbody>\n",
       "    <tr>\n",
       "      <th>-3:0</th>\n",
       "      <td>78.951285</td>\n",
       "      <td>4.364783</td>\n",
       "      <td>0.055285</td>\n",
       "    </tr>\n",
       "    <tr>\n",
       "      <th>0:3</th>\n",
       "      <td>79.807937</td>\n",
       "      <td>4.488576</td>\n",
       "      <td>0.056242</td>\n",
       "    </tr>\n",
       "    <tr>\n",
       "      <th>3:6</th>\n",
       "      <td>78.421524</td>\n",
       "      <td>3.891876</td>\n",
       "      <td>0.049628</td>\n",
       "    </tr>\n",
       "    <tr>\n",
       "      <th>6:9</th>\n",
       "      <td>78.064625</td>\n",
       "      <td>3.017061</td>\n",
       "      <td>0.038648</td>\n",
       "    </tr>\n",
       "    <tr>\n",
       "      <th>9:12</th>\n",
       "      <td>79.340901</td>\n",
       "      <td>3.176529</td>\n",
       "      <td>0.040036</td>\n",
       "    </tr>\n",
       "    <tr>\n",
       "      <th>12:15</th>\n",
       "      <td>78.302226</td>\n",
       "      <td>3.366731</td>\n",
       "      <td>0.042997</td>\n",
       "    </tr>\n",
       "    <tr>\n",
       "      <th>15:18</th>\n",
       "      <td>81.875885</td>\n",
       "      <td>3.955571</td>\n",
       "      <td>0.048312</td>\n",
       "    </tr>\n",
       "    <tr>\n",
       "      <th>18:21</th>\n",
       "      <td>77.831709</td>\n",
       "      <td>3.228982</td>\n",
       "      <td>0.041487</td>\n",
       "    </tr>\n",
       "    <tr>\n",
       "      <th>21:24</th>\n",
       "      <td>81.162525</td>\n",
       "      <td>5.011192</td>\n",
       "      <td>0.061743</td>\n",
       "    </tr>\n",
       "  </tbody>\n",
       "</table>\n",
       "</div>"
      ],
      "text/plain": [
       "       a_StO2 mean  b_StO2 std dev  c_StO2 CoV\n",
       "-3:0     78.951285        4.364783    0.055285\n",
       "0:3      79.807937        4.488576    0.056242\n",
       "3:6      78.421524        3.891876    0.049628\n",
       "6:9      78.064625        3.017061    0.038648\n",
       "9:12     79.340901        3.176529    0.040036\n",
       "12:15    78.302226        3.366731    0.042997\n",
       "15:18    81.875885        3.955571    0.048312\n",
       "18:21    77.831709        3.228982    0.041487\n",
       "21:24    81.162525        5.011192    0.061743"
      ]
     },
     "metadata": {},
     "output_type": "display_data"
    },
    {
     "data": {
      "text/html": [
       "<div>\n",
       "<table border=\"1\" class=\"dataframe\">\n",
       "  <thead>\n",
       "    <tr style=\"text-align: right;\">\n",
       "      <th></th>\n",
       "      <th>a_FTOE mean</th>\n",
       "      <th>b_FTOE std dev</th>\n",
       "      <th>c_FTOE CoV</th>\n",
       "    </tr>\n",
       "  </thead>\n",
       "  <tbody>\n",
       "    <tr>\n",
       "      <th>-3:0</th>\n",
       "      <td>20.027616</td>\n",
       "      <td>4.778722</td>\n",
       "      <td>0.238607</td>\n",
       "    </tr>\n",
       "    <tr>\n",
       "      <th>0:3</th>\n",
       "      <td>18.295492</td>\n",
       "      <td>5.087889</td>\n",
       "      <td>0.278095</td>\n",
       "    </tr>\n",
       "    <tr>\n",
       "      <th>3:6</th>\n",
       "      <td>20.489832</td>\n",
       "      <td>4.247597</td>\n",
       "      <td>0.207303</td>\n",
       "    </tr>\n",
       "    <tr>\n",
       "      <th>6:9</th>\n",
       "      <td>20.323137</td>\n",
       "      <td>3.546801</td>\n",
       "      <td>0.174520</td>\n",
       "    </tr>\n",
       "    <tr>\n",
       "      <th>9:12</th>\n",
       "      <td>19.063551</td>\n",
       "      <td>3.603959</td>\n",
       "      <td>0.189050</td>\n",
       "    </tr>\n",
       "    <tr>\n",
       "      <th>12:15</th>\n",
       "      <td>20.174427</td>\n",
       "      <td>4.068943</td>\n",
       "      <td>0.201688</td>\n",
       "    </tr>\n",
       "    <tr>\n",
       "      <th>15:18</th>\n",
       "      <td>16.356134</td>\n",
       "      <td>4.786585</td>\n",
       "      <td>0.292648</td>\n",
       "    </tr>\n",
       "    <tr>\n",
       "      <th>18:21</th>\n",
       "      <td>20.521799</td>\n",
       "      <td>3.698035</td>\n",
       "      <td>0.180200</td>\n",
       "    </tr>\n",
       "    <tr>\n",
       "      <th>21:24</th>\n",
       "      <td>17.821530</td>\n",
       "      <td>5.556991</td>\n",
       "      <td>0.311813</td>\n",
       "    </tr>\n",
       "  </tbody>\n",
       "</table>\n",
       "</div>"
      ],
      "text/plain": [
       "       a_FTOE mean  b_FTOE std dev  c_FTOE CoV\n",
       "-3:0     20.027616        4.778722    0.238607\n",
       "0:3      18.295492        5.087889    0.278095\n",
       "3:6      20.489832        4.247597    0.207303\n",
       "6:9      20.323137        3.546801    0.174520\n",
       "9:12     19.063551        3.603959    0.189050\n",
       "12:15    20.174427        4.068943    0.201688\n",
       "15:18    16.356134        4.786585    0.292648\n",
       "18:21    20.521799        3.698035    0.180200\n",
       "21:24    17.821530        5.556991    0.311813"
      ]
     },
     "metadata": {},
     "output_type": "display_data"
    }
   ],
   "source": [
    "from IPython.display import display\n",
    "display(PIlin)\n",
    "display(PRlin)\n",
    "display(SpO2lin)\n",
    "display(StO2lin)\n",
    "display(FTOElin)"
   ]
  },
  {
   "cell_type": "code",
   "execution_count": 108,
   "metadata": {
    "collapsed": false
   },
   "outputs": [
    {
     "data": {
      "image/png": "[encoded data removed]",
      "text/plain": [
       "<matplotlib.figure.Figure at 0x103c09c90>"
      ]
     },
     "metadata": {},
     "output_type": "display_data"
    }
   ],
   "source": [
    "dfCoV.plot() #CV graph\n",
    "plt.legend(loc='center left', bbox_to_anchor=(1.0, 0.5))\n",
    "plt.show()"
   ]
  },
  {
   "cell_type": "markdown",
   "metadata": {},
   "source": [
    "##Pearson Correlation Coefficients of 3 Hour Epochs with graph to see trend"
   ]
  },
  {
   "cell_type": "code",
   "execution_count": 109,
   "metadata": {
    "collapsed": false,
    "scrolled": true
   },
   "outputs": [],
   "source": [
    "ar = dfen[tw['tw0']:0].corr()\n",
    "#excludes NaN values\n",
    "#pearson correlation coefficeint\n",
    "\n",
    "#pearson, kendall or spearman?\n",
    "br = dfen[0:tw['tw1']].corr()\n",
    "cr = dfen[tw['tw1']:tw['tw2']].corr()\n",
    "dr = dfen[tw['tw2']:tw['tw3']].corr()\n",
    "er = dfen[tw['tw3']:tw['tw4']].corr()\n",
    "fr = dfen[tw['tw4']:tw['tw5']].corr()\n",
    "gr = dfen[tw['tw5']:tw['tw6']].corr()\n",
    "hr = dfen[tw['tw6']:tw['tw7']].corr()\n",
    "ir = dfen[tw['tw7']:tw['tw8']].corr()\n",
    "\n",
    "dfcorrlst = [ar, br, cr, dr, er, fr, gr, hr, ir]"
   ]
  },
  {
   "cell_type": "code",
   "execution_count": 110,
   "metadata": {
    "collapsed": false
   },
   "outputs": [],
   "source": [
    "#      0    1    2     3   4\n",
    "#      PI, PR, SpO2, StO2, FTOE\n",
    "# PI   aa  ab    ac    ad  ae\n",
    "# PR   ba  bb    bc    bd  be\n",
    "# SpO2 ca  cb    cc    cd  ce\n",
    "# StO2 da  db    dc    dd  de\n",
    "# FTOE ea  eb    ec    ed  ee\n",
    "\n",
    "def corrlst(dflst):\n",
    "    \n",
    "    a = [] #ab\n",
    "    b = [] #ac\n",
    "    c = [] #ad\n",
    "    d = [] #ae\n",
    "    e = [] #bc\n",
    "    f = [] #bd\n",
    "    g = [] #be\n",
    "    h = [] #cd\n",
    "    i = [] #ce\n",
    "    j = [] #de\n",
    "    \n",
    "    for x in dflst:\n",
    "\n",
    "        ab = x['PI'][1] #ab\n",
    "        a.append(ab)\n",
    "        ac = x['PI'][2] #ac \n",
    "        b.append(ac)\n",
    "        ad = x['PI'][3] #ad\n",
    "        c.append(ad)\n",
    "        ae = x['PI'][4] #ae\n",
    "        d.append(ae)\n",
    "        bc = x['PR'][2] #bc\n",
    "        e.append(bc)\n",
    "        bd = x['PR'][3] #bd\n",
    "        f.append(bd)\n",
    "        be = x['PR'][4] #be\n",
    "        g.append(be)\n",
    "        cd = x['SpO2'][3] #cd\n",
    "        h.append(cd)\n",
    "        ce = x['SpO2'][4] #ce\n",
    "        i.append(ce)\n",
    "        de = x['StO2'][4] #de\n",
    "        j.append(de)\n",
    "    \n",
    "    rgraph = pd.DataFrame({\n",
    "    'PI:PR': a,\n",
    "    'PI:SpO2' : b,\n",
    "    'PI:StO2' : c,\n",
    "    'PI:FTOE' : d,\n",
    "    'PR:SpO2' : e,\n",
    "    'PR:StO2' : f,\n",
    "    'PR:FTOE' : g,\n",
    "    'SpO2:StO2' : h,\n",
    "    'SpO2:FTOE' : i,\n",
    "    'StO2:FTOE': j,\n",
    "    }, index = ['-3:0','0:3','3:6','6:9','9:12','12:15','15:18','18:21','21:24'])\n",
    "    \n",
    "    return rgraph"
   ]
  },
  {
   "cell_type": "code",
   "execution_count": 111,
   "metadata": {
    "collapsed": false
   },
   "outputs": [],
   "source": [
    "rgraph = corrlst(dfcorrlst)"
   ]
  },
  {
   "cell_type": "code",
   "execution_count": 112,
   "metadata": {
    "collapsed": false
   },
   "outputs": [],
   "source": [
    "PIg = rgraph.ix[:,0:4]\n",
    "PRg = rgraph[['PI:PR', 'PR:FTOE', 'PR:SpO2', 'PR:StO2']]\n",
    "SpO2g = rgraph[['PI:SpO2', 'PR:SpO2',  'SpO2:StO2', 'SpO2:FTOE']]\n",
    "StO2g = rgraph[['PI:StO2', 'PR:StO2', 'SpO2:StO2', 'StO2:FTOE']]\n",
    "FTOEg = rgraph[['PI:FTOE', 'PR:FTOE', 'SpO2:FTOE', 'StO2:FTOE']]"
   ]
  },
  {
   "cell_type": "code",
   "execution_count": 113,
   "metadata": {
    "collapsed": false
   },
   "outputs": [
    {
     "data": {
      "text/html": [
       "<div>\n",
       "<table border=\"1\" class=\"dataframe\">\n",
       "  <thead>\n",
       "    <tr style=\"text-align: right;\">\n",
       "      <th></th>\n",
       "      <th>PI:FTOE</th>\n",
       "      <th>PI:PR</th>\n",
       "      <th>PI:SpO2</th>\n",
       "      <th>PI:StO2</th>\n",
       "    </tr>\n",
       "  </thead>\n",
       "  <tbody>\n",
       "    <tr>\n",
       "      <th>-3:0</th>\n",
       "      <td>0.233640</td>\n",
       "      <td>0.013749</td>\n",
       "      <td>-0.118383</td>\n",
       "      <td>-0.298969</td>\n",
       "    </tr>\n",
       "    <tr>\n",
       "      <th>0:3</th>\n",
       "      <td>0.183815</td>\n",
       "      <td>-0.195262</td>\n",
       "      <td>-0.153697</td>\n",
       "      <td>-0.275949</td>\n",
       "    </tr>\n",
       "    <tr>\n",
       "      <th>3:6</th>\n",
       "      <td>0.095198</td>\n",
       "      <td>0.022819</td>\n",
       "      <td>-0.130706</td>\n",
       "      <td>-0.147530</td>\n",
       "    </tr>\n",
       "    <tr>\n",
       "      <th>6:9</th>\n",
       "      <td>0.135511</td>\n",
       "      <td>-0.095433</td>\n",
       "      <td>0.099453</td>\n",
       "      <td>-0.104914</td>\n",
       "    </tr>\n",
       "    <tr>\n",
       "      <th>9:12</th>\n",
       "      <td>0.124760</td>\n",
       "      <td>0.292634</td>\n",
       "      <td>-0.182124</td>\n",
       "      <td>-0.218045</td>\n",
       "    </tr>\n",
       "    <tr>\n",
       "      <th>12:15</th>\n",
       "      <td>-0.011576</td>\n",
       "      <td>-0.031112</td>\n",
       "      <td>-0.095576</td>\n",
       "      <td>-0.035857</td>\n",
       "    </tr>\n",
       "    <tr>\n",
       "      <th>15:18</th>\n",
       "      <td>-0.047382</td>\n",
       "      <td>-0.167565</td>\n",
       "      <td>-0.091544</td>\n",
       "      <td>0.007187</td>\n",
       "    </tr>\n",
       "    <tr>\n",
       "      <th>18:21</th>\n",
       "      <td>0.163204</td>\n",
       "      <td>0.013000</td>\n",
       "      <td>-0.089759</td>\n",
       "      <td>-0.228809</td>\n",
       "    </tr>\n",
       "    <tr>\n",
       "      <th>21:24</th>\n",
       "      <td>0.009394</td>\n",
       "      <td>-0.074790</td>\n",
       "      <td>0.037989</td>\n",
       "      <td>0.001988</td>\n",
       "    </tr>\n",
       "  </tbody>\n",
       "</table>\n",
       "</div>"
      ],
      "text/plain": [
       "        PI:FTOE     PI:PR   PI:SpO2   PI:StO2\n",
       "-3:0   0.233640  0.013749 -0.118383 -0.298969\n",
       "0:3    0.183815 -0.195262 -0.153697 -0.275949\n",
       "3:6    0.095198  0.022819 -0.130706 -0.147530\n",
       "6:9    0.135511 -0.095433  0.099453 -0.104914\n",
       "9:12   0.124760  0.292634 -0.182124 -0.218045\n",
       "12:15 -0.011576 -0.031112 -0.095576 -0.035857\n",
       "15:18 -0.047382 -0.167565 -0.091544  0.007187\n",
       "18:21  0.163204  0.013000 -0.089759 -0.228809\n",
       "21:24  0.009394 -0.074790  0.037989  0.001988"
      ]
     },
     "metadata": {},
     "output_type": "display_data"
    },
    {
     "data": {
      "text/html": [
       "<div>\n",
       "<table border=\"1\" class=\"dataframe\">\n",
       "  <thead>\n",
       "    <tr style=\"text-align: right;\">\n",
       "      <th></th>\n",
       "      <th>PI:PR</th>\n",
       "      <th>PR:FTOE</th>\n",
       "      <th>PR:SpO2</th>\n",
       "      <th>PR:StO2</th>\n",
       "    </tr>\n",
       "  </thead>\n",
       "  <tbody>\n",
       "    <tr>\n",
       "      <th>-3:0</th>\n",
       "      <td>0.013749</td>\n",
       "      <td>0.077095</td>\n",
       "      <td>-0.130241</td>\n",
       "      <td>-0.125067</td>\n",
       "    </tr>\n",
       "    <tr>\n",
       "      <th>0:3</th>\n",
       "      <td>-0.195262</td>\n",
       "      <td>0.357436</td>\n",
       "      <td>0.024431</td>\n",
       "      <td>-0.383907</td>\n",
       "    </tr>\n",
       "    <tr>\n",
       "      <th>3:6</th>\n",
       "      <td>0.022819</td>\n",
       "      <td>0.088692</td>\n",
       "      <td>-0.110004</td>\n",
       "      <td>-0.134817</td>\n",
       "    </tr>\n",
       "    <tr>\n",
       "      <th>6:9</th>\n",
       "      <td>-0.095433</td>\n",
       "      <td>0.081715</td>\n",
       "      <td>-0.040494</td>\n",
       "      <td>-0.114552</td>\n",
       "    </tr>\n",
       "    <tr>\n",
       "      <th>9:12</th>\n",
       "      <td>0.292634</td>\n",
       "      <td>0.205445</td>\n",
       "      <td>-0.225870</td>\n",
       "      <td>-0.330577</td>\n",
       "    </tr>\n",
       "    <tr>\n",
       "      <th>12:15</th>\n",
       "      <td>-0.031112</td>\n",
       "      <td>0.207018</td>\n",
       "      <td>-0.062346</td>\n",
       "      <td>-0.280120</td>\n",
       "    </tr>\n",
       "    <tr>\n",
       "      <th>15:18</th>\n",
       "      <td>-0.167565</td>\n",
       "      <td>0.181063</td>\n",
       "      <td>-0.059224</td>\n",
       "      <td>-0.246554</td>\n",
       "    </tr>\n",
       "    <tr>\n",
       "      <th>18:21</th>\n",
       "      <td>0.013000</td>\n",
       "      <td>0.159951</td>\n",
       "      <td>-0.162107</td>\n",
       "      <td>-0.260643</td>\n",
       "    </tr>\n",
       "    <tr>\n",
       "      <th>21:24</th>\n",
       "      <td>-0.074790</td>\n",
       "      <td>-0.080035</td>\n",
       "      <td>-0.206098</td>\n",
       "      <td>0.024120</td>\n",
       "    </tr>\n",
       "  </tbody>\n",
       "</table>\n",
       "</div>"
      ],
      "text/plain": [
       "          PI:PR   PR:FTOE   PR:SpO2   PR:StO2\n",
       "-3:0   0.013749  0.077095 -0.130241 -0.125067\n",
       "0:3   -0.195262  0.357436  0.024431 -0.383907\n",
       "3:6    0.022819  0.088692 -0.110004 -0.134817\n",
       "6:9   -0.095433  0.081715 -0.040494 -0.114552\n",
       "9:12   0.292634  0.205445 -0.225870 -0.330577\n",
       "12:15 -0.031112  0.207018 -0.062346 -0.280120\n",
       "15:18 -0.167565  0.181063 -0.059224 -0.246554\n",
       "18:21  0.013000  0.159951 -0.162107 -0.260643\n",
       "21:24 -0.074790 -0.080035 -0.206098  0.024120"
      ]
     },
     "metadata": {},
     "output_type": "display_data"
    },
    {
     "data": {
      "text/html": [
       "<div>\n",
       "<table border=\"1\" class=\"dataframe\">\n",
       "  <thead>\n",
       "    <tr style=\"text-align: right;\">\n",
       "      <th></th>\n",
       "      <th>PI:SpO2</th>\n",
       "      <th>PR:SpO2</th>\n",
       "      <th>SpO2:StO2</th>\n",
       "      <th>SpO2:FTOE</th>\n",
       "    </tr>\n",
       "  </thead>\n",
       "  <tbody>\n",
       "    <tr>\n",
       "      <th>-3:0</th>\n",
       "      <td>-0.118383</td>\n",
       "      <td>-0.130241</td>\n",
       "      <td>-0.005173</td>\n",
       "      <td>0.383524</td>\n",
       "    </tr>\n",
       "    <tr>\n",
       "      <th>0:3</th>\n",
       "      <td>-0.153697</td>\n",
       "      <td>0.024431</td>\n",
       "      <td>-0.025551</td>\n",
       "      <td>0.437388</td>\n",
       "    </tr>\n",
       "    <tr>\n",
       "      <th>3:6</th>\n",
       "      <td>-0.130706</td>\n",
       "      <td>-0.110004</td>\n",
       "      <td>-0.022274</td>\n",
       "      <td>0.371598</td>\n",
       "    </tr>\n",
       "    <tr>\n",
       "      <th>6:9</th>\n",
       "      <td>0.099453</td>\n",
       "      <td>-0.040494</td>\n",
       "      <td>-0.024701</td>\n",
       "      <td>0.497076</td>\n",
       "    </tr>\n",
       "    <tr>\n",
       "      <th>9:12</th>\n",
       "      <td>-0.182124</td>\n",
       "      <td>-0.225870</td>\n",
       "      <td>-0.035578</td>\n",
       "      <td>0.445869</td>\n",
       "    </tr>\n",
       "    <tr>\n",
       "      <th>12:15</th>\n",
       "      <td>-0.095576</td>\n",
       "      <td>-0.062346</td>\n",
       "      <td>-0.105365</td>\n",
       "      <td>0.548999</td>\n",
       "    </tr>\n",
       "    <tr>\n",
       "      <th>15:18</th>\n",
       "      <td>-0.091544</td>\n",
       "      <td>-0.059224</td>\n",
       "      <td>-0.107909</td>\n",
       "      <td>0.539084</td>\n",
       "    </tr>\n",
       "    <tr>\n",
       "      <th>18:21</th>\n",
       "      <td>-0.089759</td>\n",
       "      <td>-0.162107</td>\n",
       "      <td>-0.014472</td>\n",
       "      <td>0.460192</td>\n",
       "    </tr>\n",
       "    <tr>\n",
       "      <th>21:24</th>\n",
       "      <td>0.037989</td>\n",
       "      <td>-0.206098</td>\n",
       "      <td>-0.153297</td>\n",
       "      <td>0.437165</td>\n",
       "    </tr>\n",
       "  </tbody>\n",
       "</table>\n",
       "</div>"
      ],
      "text/plain": [
       "        PI:SpO2   PR:SpO2  SpO2:StO2  SpO2:FTOE\n",
       "-3:0  -0.118383 -0.130241  -0.005173   0.383524\n",
       "0:3   -0.153697  0.024431  -0.025551   0.437388\n",
       "3:6   -0.130706 -0.110004  -0.022274   0.371598\n",
       "6:9    0.099453 -0.040494  -0.024701   0.497076\n",
       "9:12  -0.182124 -0.225870  -0.035578   0.445869\n",
       "12:15 -0.095576 -0.062346  -0.105365   0.548999\n",
       "15:18 -0.091544 -0.059224  -0.107909   0.539084\n",
       "18:21 -0.089759 -0.162107  -0.014472   0.460192\n",
       "21:24  0.037989 -0.206098  -0.153297   0.437165"
      ]
     },
     "metadata": {},
     "output_type": "display_data"
    },
    {
     "data": {
      "text/html": [
       "<div>\n",
       "<table border=\"1\" class=\"dataframe\">\n",
       "  <thead>\n",
       "    <tr style=\"text-align: right;\">\n",
       "      <th></th>\n",
       "      <th>PI:StO2</th>\n",
       "      <th>PR:StO2</th>\n",
       "      <th>SpO2:StO2</th>\n",
       "      <th>StO2:FTOE</th>\n",
       "    </tr>\n",
       "  </thead>\n",
       "  <tbody>\n",
       "    <tr>\n",
       "      <th>-3:0</th>\n",
       "      <td>-0.298969</td>\n",
       "      <td>-0.125067</td>\n",
       "      <td>-0.005173</td>\n",
       "      <td>-0.924194</td>\n",
       "    </tr>\n",
       "    <tr>\n",
       "      <th>0:3</th>\n",
       "      <td>-0.275949</td>\n",
       "      <td>-0.383907</td>\n",
       "      <td>-0.025551</td>\n",
       "      <td>-0.909062</td>\n",
       "    </tr>\n",
       "    <tr>\n",
       "      <th>3:6</th>\n",
       "      <td>-0.147530</td>\n",
       "      <td>-0.134817</td>\n",
       "      <td>-0.022274</td>\n",
       "      <td>-0.936017</td>\n",
       "    </tr>\n",
       "    <tr>\n",
       "      <th>6:9</th>\n",
       "      <td>-0.104914</td>\n",
       "      <td>-0.114552</td>\n",
       "      <td>-0.024701</td>\n",
       "      <td>-0.879214</td>\n",
       "    </tr>\n",
       "    <tr>\n",
       "      <th>9:12</th>\n",
       "      <td>-0.218045</td>\n",
       "      <td>-0.330577</td>\n",
       "      <td>-0.035578</td>\n",
       "      <td>-0.910117</td>\n",
       "    </tr>\n",
       "    <tr>\n",
       "      <th>12:15</th>\n",
       "      <td>-0.035857</td>\n",
       "      <td>-0.280120</td>\n",
       "      <td>-0.105365</td>\n",
       "      <td>-0.888480</td>\n",
       "    </tr>\n",
       "    <tr>\n",
       "      <th>15:18</th>\n",
       "      <td>0.007187</td>\n",
       "      <td>-0.246554</td>\n",
       "      <td>-0.107909</td>\n",
       "      <td>-0.894428</td>\n",
       "    </tr>\n",
       "    <tr>\n",
       "      <th>18:21</th>\n",
       "      <td>-0.228809</td>\n",
       "      <td>-0.260643</td>\n",
       "      <td>-0.014472</td>\n",
       "      <td>-0.893971</td>\n",
       "    </tr>\n",
       "    <tr>\n",
       "      <th>21:24</th>\n",
       "      <td>0.001988</td>\n",
       "      <td>0.024120</td>\n",
       "      <td>-0.153297</td>\n",
       "      <td>-0.955420</td>\n",
       "    </tr>\n",
       "  </tbody>\n",
       "</table>\n",
       "</div>"
      ],
      "text/plain": [
       "        PI:StO2   PR:StO2  SpO2:StO2  StO2:FTOE\n",
       "-3:0  -0.298969 -0.125067  -0.005173  -0.924194\n",
       "0:3   -0.275949 -0.383907  -0.025551  -0.909062\n",
       "3:6   -0.147530 -0.134817  -0.022274  -0.936017\n",
       "6:9   -0.104914 -0.114552  -0.024701  -0.879214\n",
       "9:12  -0.218045 -0.330577  -0.035578  -0.910117\n",
       "12:15 -0.035857 -0.280120  -0.105365  -0.888480\n",
       "15:18  0.007187 -0.246554  -0.107909  -0.894428\n",
       "18:21 -0.228809 -0.260643  -0.014472  -0.893971\n",
       "21:24  0.001988  0.024120  -0.153297  -0.955420"
      ]
     },
     "metadata": {},
     "output_type": "display_data"
    },
    {
     "data": {
      "text/html": [
       "<div>\n",
       "<table border=\"1\" class=\"dataframe\">\n",
       "  <thead>\n",
       "    <tr style=\"text-align: right;\">\n",
       "      <th></th>\n",
       "      <th>PI:FTOE</th>\n",
       "      <th>PR:FTOE</th>\n",
       "      <th>SpO2:FTOE</th>\n",
       "      <th>StO2:FTOE</th>\n",
       "    </tr>\n",
       "  </thead>\n",
       "  <tbody>\n",
       "    <tr>\n",
       "      <th>-3:0</th>\n",
       "      <td>0.233640</td>\n",
       "      <td>0.077095</td>\n",
       "      <td>0.383524</td>\n",
       "      <td>-0.924194</td>\n",
       "    </tr>\n",
       "    <tr>\n",
       "      <th>0:3</th>\n",
       "      <td>0.183815</td>\n",
       "      <td>0.357436</td>\n",
       "      <td>0.437388</td>\n",
       "      <td>-0.909062</td>\n",
       "    </tr>\n",
       "    <tr>\n",
       "      <th>3:6</th>\n",
       "      <td>0.095198</td>\n",
       "      <td>0.088692</td>\n",
       "      <td>0.371598</td>\n",
       "      <td>-0.936017</td>\n",
       "    </tr>\n",
       "    <tr>\n",
       "      <th>6:9</th>\n",
       "      <td>0.135511</td>\n",
       "      <td>0.081715</td>\n",
       "      <td>0.497076</td>\n",
       "      <td>-0.879214</td>\n",
       "    </tr>\n",
       "    <tr>\n",
       "      <th>9:12</th>\n",
       "      <td>0.124760</td>\n",
       "      <td>0.205445</td>\n",
       "      <td>0.445869</td>\n",
       "      <td>-0.910117</td>\n",
       "    </tr>\n",
       "    <tr>\n",
       "      <th>12:15</th>\n",
       "      <td>-0.011576</td>\n",
       "      <td>0.207018</td>\n",
       "      <td>0.548999</td>\n",
       "      <td>-0.888480</td>\n",
       "    </tr>\n",
       "    <tr>\n",
       "      <th>15:18</th>\n",
       "      <td>-0.047382</td>\n",
       "      <td>0.181063</td>\n",
       "      <td>0.539084</td>\n",
       "      <td>-0.894428</td>\n",
       "    </tr>\n",
       "    <tr>\n",
       "      <th>18:21</th>\n",
       "      <td>0.163204</td>\n",
       "      <td>0.159951</td>\n",
       "      <td>0.460192</td>\n",
       "      <td>-0.893971</td>\n",
       "    </tr>\n",
       "    <tr>\n",
       "      <th>21:24</th>\n",
       "      <td>0.009394</td>\n",
       "      <td>-0.080035</td>\n",
       "      <td>0.437165</td>\n",
       "      <td>-0.955420</td>\n",
       "    </tr>\n",
       "  </tbody>\n",
       "</table>\n",
       "</div>"
      ],
      "text/plain": [
       "        PI:FTOE   PR:FTOE  SpO2:FTOE  StO2:FTOE\n",
       "-3:0   0.233640  0.077095   0.383524  -0.924194\n",
       "0:3    0.183815  0.357436   0.437388  -0.909062\n",
       "3:6    0.095198  0.088692   0.371598  -0.936017\n",
       "6:9    0.135511  0.081715   0.497076  -0.879214\n",
       "9:12   0.124760  0.205445   0.445869  -0.910117\n",
       "12:15 -0.011576  0.207018   0.548999  -0.888480\n",
       "15:18 -0.047382  0.181063   0.539084  -0.894428\n",
       "18:21  0.163204  0.159951   0.460192  -0.893971\n",
       "21:24  0.009394 -0.080035   0.437165  -0.955420"
      ]
     },
     "metadata": {},
     "output_type": "display_data"
    }
   ],
   "source": [
    "display(PIg, PRg, SpO2g, StO2g, FTOEg)"
   ]
  },
  {
   "cell_type": "code",
   "execution_count": 114,
   "metadata": {
    "collapsed": false
   },
   "outputs": [
    {
     "data": {
      "image/png": "[encoded data removed]",
      "text/plain": [
       "<matplotlib.figure.Figure at 0x1186cdf10>"
      ]
     },
     "metadata": {},
     "output_type": "display_data"
    }
   ],
   "source": [
    "PIg.plot(grid=True)\n",
    "plt.hlines(0,0,8,colors='k', lw=5)\n",
    "plt.legend(loc='center left', bbox_to_anchor=(1.0, 0.5))\n",
    "plt.show()"
   ]
  },
  {
   "cell_type": "code",
   "execution_count": 115,
   "metadata": {
    "collapsed": false
   },
   "outputs": [
    {
     "data": {
      "image/png": "[encoded data removed]",
      "text/plain": [
       "<matplotlib.figure.Figure at 0x113ef4610>"
      ]
     },
     "metadata": {},
     "output_type": "display_data"
    }
   ],
   "source": [
    "PRg.plot(grid=True)\n",
    "plt.hlines(0,0,8,colors='k', lw=5)\n",
    "plt.legend(loc='center left', bbox_to_anchor=(1.0, 0.5))\n",
    "plt.show()"
   ]
  },
  {
   "cell_type": "code",
   "execution_count": 116,
   "metadata": {
    "collapsed": false
   },
   "outputs": [
    {
     "data": {
      "image/png": "[encoded data removed]",
      "text/plain": [
       "<matplotlib.figure.Figure at 0x103b39610>"
      ]
     },
     "metadata": {},
     "output_type": "display_data"
    }
   ],
   "source": [
    "SpO2g.plot(grid=True)\n",
    "plt.hlines(0,0,8,colors='k', lw=5)\n",
    "plt.legend(loc='center left', bbox_to_anchor=(1.0, 0.5))\n",
    "plt.show()"
   ]
  },
  {
   "cell_type": "code",
   "execution_count": 117,
   "metadata": {
    "collapsed": false
   },
   "outputs": [
    {
     "data": {
      "image/png": "[encoded data removed]",
      "text/plain": [
       "<matplotlib.figure.Figure at 0x118692250>"
      ]
     },
     "metadata": {},
     "output_type": "display_data"
    }
   ],
   "source": [
    "StO2g.plot(grid=True)\n",
    "plt.hlines(0,0,8,colors='k', lw=5)\n",
    "plt.legend(loc='center left', bbox_to_anchor=(1.0, 0.5))\n",
    "plt.show()"
   ]
  },
  {
   "cell_type": "code",
   "execution_count": 118,
   "metadata": {
    "collapsed": false
   },
   "outputs": [
    {
     "data": {
      "image/png": "[encoded data removed]",
      "text/plain": [
       "<matplotlib.figure.Figure at 0x11342a510>"
      ]
     },
     "metadata": {},
     "output_type": "display_data"
    }
   ],
   "source": [
    "FTOEg.plot(grid=True)\n",
    "plt.hlines(0,0,8,colors='k', lw=5)\n",
    "plt.legend(loc='center left', bbox_to_anchor=(1.0, 0.5))\n",
    "plt.show()"
   ]
  },
  {
   "cell_type": "markdown",
   "metadata": {},
   "source": [
    "Plots comparing baseline and 3H after ROP Exam"
   ]
  },
  {
   "cell_type": "code",
   "execution_count": 119,
   "metadata": {
    "collapsed": true,
    "scrolled": true
   },
   "outputs": [],
   "source": [
    "def savitzky_golay(y, window_size, order, deriv=0, rate=1):\n",
    "    r\"\"\"Smooth (and optionally differentiate) data with a Savitzky-Golay filter.\n",
    "    The Savitzky-Golay filter removes high frequency noise from data.\n",
    "    It has the advantage of preserving the original shape and\n",
    "    features of the signal better than other types of filtering\n",
    "    approaches, such as moving averages techniques.\n",
    "    \n",
    "    Parameters\n",
    "    ----------\n",
    "    y : array_like, shape (N,)\n",
    "        the values of the time history of the signal.\n",
    "    window_size : int\n",
    "        the length of the window. Must be an odd integer number.\n",
    "    order : int\n",
    "        the order of the polynomial used in the filtering.\n",
    "        Must be less then `window_size` - 1.\n",
    "    deriv: int\n",
    "        the order of the derivative to compute (default = 0 means only smoothing)\n",
    "    \n",
    "    Returns\n",
    "    -------\n",
    "    ys : ndarray, shape (N)\n",
    "        the smoothed signal (or it's n-th derivative).\n",
    "    \n",
    "    Notes\n",
    "    -----\n",
    "    The Savitzky-Golay is a type of low-pass filter, particularly\n",
    "    suited for smoothing noisy data. The main idea behind this\n",
    "    approach is to make for each point a least-square fit with a\n",
    "    polynomial of high order over a odd-sized window centered at\n",
    "    the point.\n",
    "    \n",
    "    Examples\n",
    "    --------\n",
    "    t = np.linspace(-4, 4, 500)\n",
    "    y = np.exp( -t**2 ) + np.random.normal(0, 0.05, t.shape)\n",
    "    ysg = savitzky_golay(y, window_size=31, order=4)\n",
    "    import matplotlib.pyplot as plt\n",
    "    plt.plot(t, y, label='Noisy signal')\n",
    "    plt.plot(t, np.exp(-t**2), 'k', lw=1.5, label='Original signal')\n",
    "    plt.plot(t, ysg, 'r', label='Filtered signal')\n",
    "    plt.legend()\n",
    "    plt.show()\n",
    "    \n",
    "    References\n",
    "    ----------\n",
    "    .. [1] A. Savitzky, M. J. E. Golay, Smoothing and Differentiation of\n",
    "       Data by Simplified Least Squares Procedures. Analytical\n",
    "       Chemistry, 1964, 36 (8), pp 1627-1639.\n",
    "    .. [2] Numerical Recipes 3rd Edition: The Art of Scientific Computing\n",
    "       W.H. Press, S.A. Teukolsky, W.T. Vetterling, B.P. Flannery\n",
    "       Cambridge University Press ISBN-13: 9780521880688\n",
    "    \"\"\"\n",
    "    import numpy as np\n",
    "    from math import factorial\n",
    "\n",
    "    try:\n",
    "        window_size = np.abs(np.int(window_size))\n",
    "        order = np.abs(np.int(order))\n",
    "    except ValueError, msg:\n",
    "        raise ValueError(\"window_size and order have to be of type int\")\n",
    "    if window_size % 2 != 1 or window_size < 1:\n",
    "        raise TypeError(\"window_size size must be a positive odd number\")\n",
    "    if window_size < order + 2:\n",
    "        raise TypeError(\"window_size is too small for the polynomials order\")\n",
    "    order_range = range(order+1)\n",
    "    half_window = (window_size -1) // 2\n",
    "    # precompute coefficients\n",
    "    b = np.mat([[k**i for i in order_range] for k in range(-half_window, half_window+1)])\n",
    "    m = np.linalg.pinv(b).A[deriv] * rate**deriv * factorial(deriv)\n",
    "    # pad the signal at the extremes with\n",
    "    # values taken from the signal itself\n",
    "    firstvals = y[0] - np.abs( y[1:half_window+1][::-1] - y[0] )\n",
    "    lastvals = y[-1] + np.abs(y[-half_window-1:-1][::-1] - y[-1])\n",
    "    y = np.concatenate((firstvals, y, lastvals))\n",
    "    return np.convolve( m[::-1], y, mode='valid')"
   ]
  },
  {
   "cell_type": "code",
   "execution_count": 120,
   "metadata": {
    "collapsed": false,
    "scrolled": true
   },
   "outputs": [],
   "source": [
    "ypsg = savitzky_golay(dfen['SpO2'].values, 31, order=4, deriv=0, rate=1)\n",
    "yrsg = savitzky_golay(dfen['PR'].values, 31, order=4, deriv=0, rate=1)\n",
    "ytsg = savitzky_golay(dfen['StO2'].values, 31, order=4, deriv=0, rate=1)\n",
    "yi = dfen['PI'].values #don't filter PI values\n",
    "yf = dfen['FTOE'].values #don't filter FTOE\n",
    "\n",
    "dfgraph = pd.DataFrame({'SpO2':ypsg, 'PR':yrsg, 'StO2':ytsg, 'PI':yi, 'FTOE':yf}, index=dfen.index)"
   ]
  },
  {
   "cell_type": "code",
   "execution_count": 121,
   "metadata": {
    "collapsed": false,
    "scrolled": true
   },
   "outputs": [
    {
     "data": {
      "image/png": "[encoded data removed]",
      "text/plain": [
       "<matplotlib.figure.Figure at 0x11ac6d990>"
      ]
     },
     "metadata": {},
     "output_type": "display_data"
    }
   ],
   "source": [
    "fig, axes = plt.subplots(nrows=2, ncols=1)\n",
    "\n",
    "dfgraph['StO2'][-10800:0].plot(ax=axes[0]); axes[0].set_title('3h Baseline StO2');\n",
    "dfgraph['StO2'][0:10800].plot(ax=axes[1], color = 'r'); axes[1].set_title('3h After Exam StO2');\n",
    "\n",
    "plt.tight_layout()\n",
    "plt.show()"
   ]
  },
  {
   "cell_type": "code",
   "execution_count": 122,
   "metadata": {
    "collapsed": false
   },
   "outputs": [
    {
     "data": {
      "image/png": "[encoded data removed]",
      "text/plain": [
       "<matplotlib.figure.Figure at 0x11204bf90>"
      ]
     },
     "metadata": {},
     "output_type": "display_data"
    }
   ],
   "source": [
    "fig, axes = plt.subplots(nrows=2, ncols=1)\n",
    "\n",
    "dfgraph['SpO2'][-10800:0].plot(ax=axes[0]); axes[0].set_title('3h Baseline SpO2')\n",
    "dfgraph['SpO2'][0:10800].plot(ax=axes[1], color = 'r'); axes[1].set_title('3h After Exam SpO2');\n",
    "\n",
    "\n",
    "plt.tight_layout()\n",
    "plt.show()"
   ]
  },
  {
   "cell_type": "code",
   "execution_count": 123,
   "metadata": {
    "collapsed": false
   },
   "outputs": [
    {
     "data": {
      "image/png": "[encoded data removed]",
      "text/plain": [
       "<matplotlib.figure.Figure at 0x102320d10>"
      ]
     },
     "metadata": {},
     "output_type": "display_data"
    }
   ],
   "source": [
    "fig, axes = plt.subplots(nrows=2, ncols=1)\n",
    "\n",
    "dfgraph['PR'][-10800:0].plot(ax=axes[0]); axes[0].set_title('3h Baseline PR');\n",
    "dfgraph['PR'][0:10800].plot(ax=axes[1], color = 'r'); axes[1].set_title('3h After Exam PR');\n",
    "\n",
    "plt.tight_layout()\n",
    "plt.show()"
   ]
  },
  {
   "cell_type": "code",
   "execution_count": 124,
   "metadata": {
    "collapsed": false
   },
   "outputs": [
    {
     "data": {
      "image/png": "[encoded data removed]",
      "text/plain": [
       "<matplotlib.figure.Figure at 0x118477d90>"
      ]
     },
     "metadata": {},
     "output_type": "display_data"
    }
   ],
   "source": [
    "fig, axes = plt.subplots(nrows=2, ncols=1)\n",
    "\n",
    "dfgraph['PI'][-10800:0].plot(ax=axes[0]); axes[0].set_title('3h Baseline PI');\n",
    "dfgraph['PI'][0:10800].plot(ax=axes[1], color = 'r'); axes[1].set_title('After Exam PI');\n",
    "\n",
    "plt.tight_layout()\n",
    "plt.show()"
   ]
  },
  {
   "cell_type": "code",
   "execution_count": 125,
   "metadata": {
    "collapsed": false
   },
   "outputs": [
    {
     "data": {
      "image/png": "[encoded data removed]",
      "text/plain": [
       "<matplotlib.figure.Figure at 0x11af6a0d0>"
      ]
     },
     "metadata": {},
     "output_type": "display_data"
    }
   ],
   "source": [
    "fig, axes = plt.subplots(nrows=2, ncols=1)\n",
    "\n",
    "dfgraph['FTOE'][-10800:0].plot(ax=axes[0]); axes[0].set_title('3h Baseline PI');\n",
    "dfgraph['FTOE'][0:10800].plot(ax=axes[1], color = 'r'); axes[1].set_title('After Exam PI');\n",
    "\n",
    "plt.tight_layout()\n",
    "plt.show()"
   ]
  },
  {
   "cell_type": "markdown",
   "metadata": {},
   "source": [
    "## Information Theory\n",
    "    - Fuzzy Entropy\n",
    "    - Cross Fuzzy Entropy"
   ]
  },
  {
   "cell_type": "code",
   "execution_count": 126,
   "metadata": {
    "collapsed": false
   },
   "outputs": [],
   "source": [
    "from entropy import *\n",
    "\n",
    "#def fuzzyen(x, dim, r, n, scale=True):\n",
    "#    return entropy(x, dim, r, n=n, scale=scale, remove_baseline=True)\n",
    "\n",
    "def FuzzyEnLst(dfenlstcopy1):\n",
    "    \n",
    "    PI_FE = []\n",
    "    PR_FE = []\n",
    "    SpO2_FE = []\n",
    "    StO2_FE = []\n",
    "    FTOE_FE = []\n",
    "    \n",
    "    for i in dfenlstcopy1:\n",
    "        a = fuzzyen(i['PI'].values, 2, .2*np.nanstd(i['PI'].values), n=1)\n",
    "        b = fuzzyen(i['PR'].values, 2, .2*np.nanstd(i['PR'].values), n=1)\n",
    "        c = fuzzyen(i['SpO2'].values, 2, .2*np.nanstd(i['SpO2'].values), n=1)\n",
    "        d = fuzzyen(i['StO2'].values, 2, .2*np.nanstd(i['StO2'].values), n=1)\n",
    "        e = fuzzyen(i['FTOE'].values, 2, .2*np.nanstd(i['FTOE'].values), n=1)\n",
    "\n",
    "        PI_FE.append(a)\n",
    "        PR_FE.append(b)\n",
    "        SpO2_FE.append(c)\n",
    "        StO2_FE.append(d)\n",
    "        FTOE_FE.append(e)\n",
    "    \n",
    "    FuzzyEnDf = pd.DataFrame({\n",
    "    'PI FuzzyEn': PI_FE,\n",
    "    'PR FuzzyEn' : PR_FE,\n",
    "    'SpO2 FuzzyEn' : SpO2_FE,\n",
    "    'StO2 FuzzyEn' : StO2_FE,\n",
    "    'FTOE FuzzyEn' : FTOE_FE\n",
    "    }, index = ['-3:0','0:3','3:6','6:9','9:12','12:15','15:18','18:21','21:24'])\n",
    "    \n",
    "    return FuzzyEnDf"
   ]
  },
  {
   "cell_type": "code",
   "execution_count": 127,
   "metadata": {
    "collapsed": false
   },
   "outputs": [],
   "source": [
    "FuzzyEnDf = FuzzyEnLst(dfenlstcopy1)"
   ]
  },
  {
   "cell_type": "code",
   "execution_count": null,
   "metadata": {
    "collapsed": false
   },
   "outputs": [],
   "source": [
    "FuzzyEnDf['PI FuzzyEn'].plot(grid=True)"
   ]
  },
  {
   "cell_type": "code",
   "execution_count": null,
   "metadata": {
    "collapsed": false
   },
   "outputs": [],
   "source": [
    "FuzzyEnDf['PR FuzzyEn'].plot(grid=True)"
   ]
  },
  {
   "cell_type": "code",
   "execution_count": null,
   "metadata": {
    "collapsed": false
   },
   "outputs": [],
   "source": [
    "FuzzyEnDf['SpO2 FuzzyEn'].plot(grid=True)"
   ]
  },
  {
   "cell_type": "code",
   "execution_count": null,
   "metadata": {
    "collapsed": false
   },
   "outputs": [],
   "source": [
    "FuzzyEnDf['StO2 FuzzyEn'].plot(grid=True)"
   ]
  },
  {
   "cell_type": "code",
   "execution_count": null,
   "metadata": {
    "collapsed": false
   },
   "outputs": [],
   "source": [
    "FuzzyEnDf['FTOE FuzzyEn'].plot(grid=True)"
   ]
  },
  {
   "cell_type": "code",
   "execution_count": null,
   "metadata": {
    "collapsed": false
   },
   "outputs": [],
   "source": [
    "FuzzyEnDf.plot(grid=True)\n",
    "plt.legend(loc='center left', bbox_to_anchor=(1.0, 0.5))"
   ]
  },
  {
   "cell_type": "code",
   "execution_count": null,
   "metadata": {
    "collapsed": true
   },
   "outputs": [],
   "source": [
    "#def cross_fuzzyen(x1, x2, m, r, n, scale=True):\n",
    "#    return entropy([x1, x2], dim, r, n, scale=scale, remove_baseline=True)\n",
    "\n",
    "def CrossFuzzyLst(dfenlstcopy2):\n",
    "    \n",
    "#Cross Fuzzy Entropy between variables\n",
    "\n",
    "    a = [] #ab\n",
    "    b = [] #ac\n",
    "    c = [] #ad\n",
    "    d = [] #ae\n",
    "    e = [] #bc\n",
    "    f = [] #bd\n",
    "    g = [] #be\n",
    "    h = [] #cd\n",
    "    i = [] #ce\n",
    "    j = [] #de\n",
    "    \n",
    "    rlst = [a, b, c, d, e, f, g, h, i, j]\n",
    "    \n",
    "    #      0    1    2     3   4\n",
    "    #      PI, PR, SpO2, StO2, FTOE\n",
    "    # PI   aa  ab    ac    ad  ae\n",
    "    # PR   ba  bb    bc    bd  be\n",
    "    # SpO2 ca  cb    cc    cd  ce\n",
    "    # StO2 da  db    dc    dd  de\n",
    "    # FTOE ea  eb    ec    ed  ee\n",
    "    \n",
    "    for x in dfenlstcopy2:\n",
    "\n",
    "        ab = cross_fuzzyen(x['PI'].values, x['PR'].values, 2, .2, n=1) #ab\n",
    "        a.append(ab)\n",
    "        ac = cross_fuzzyen(x['PI'].values, x['SpO2'].values, 2, .2, n=1) #ac\n",
    "        b.append(ac)\n",
    "        ad = cross_fuzzyen(x['PI'].values, x['StO2'].values, 2, .2, n=1) #ad\n",
    "        c.append(ad)\n",
    "        ae = cross_fuzzyen(x['PI'].values, x['FTOE'].values, 2, .2, n=1) #ae\n",
    "        d.append(ae)\n",
    "        bc = cross_fuzzyen(x['PR'].values, x['SpO2'].values, 2, .2, n=1) #bc\n",
    "        e.append(bc)\n",
    "        bd = cross_fuzzyen(x['PR'].values, x['StO2'].values, 2, .2, n=1) #bd\n",
    "        f.append(bd)\n",
    "        be = cross_fuzzyen(x['PR'].values, x['FTOE'].values, 2, .2, n=1) #be\n",
    "        g.append(be)\n",
    "        cd = cross_fuzzyen(x['SpO2'].values, x['StO2'].values, 2, .2, n=1) #cd\n",
    "        h.append(cd)\n",
    "        ce = cross_fuzzyen(x['SpO2'].values, x['FTOE'].values, 2, .2, n=1) #ce\n",
    "        i.append(ce)\n",
    "        de = cross_fuzzyen(x['StO2'].values, x['FTOE'].values, 2, .2, n=1) #de\n",
    "        j.append(de)\n",
    "    \n",
    "    XFuzzyEnDf = pd.DataFrame({\n",
    "    'xf PI:PR': a,\n",
    "    'xf PI:SpO2' : b,\n",
    "    'xf PI:StO2' : c,\n",
    "    'xf PI:FTOE' : d,\n",
    "    'xf PR:SpO2' : e,\n",
    "    'xf PR:StO2' : f,\n",
    "    'xf PR:FTOE' : g,\n",
    "    'xf SpO2:StO2' : h,\n",
    "    'xf SpO2:FTOE' : i,\n",
    "    'xf StO2:FTOE': j,\n",
    "    }, index = ['-3:0','0:3','3:6','6:9','9:12','12:15','15:18','18:21','21:24'])\n",
    "    \n",
    "    return XFuzzyEnDf"
   ]
  },
  {
   "cell_type": "code",
   "execution_count": null,
   "metadata": {
    "collapsed": false
   },
   "outputs": [],
   "source": [
    "xengraph = CrossFuzzyLst(dfenlstcopy2) #error up to 4 decimal places"
   ]
  },
  {
   "cell_type": "code",
   "execution_count": null,
   "metadata": {
    "collapsed": false
   },
   "outputs": [],
   "source": [
    "PIxg = xengraph.ix[:,0:4]\n",
    "PRxg = xengraph[['xf PI:PR', 'xf PR:FTOE', 'xf PR:SpO2', 'xf PR:StO2']]\n",
    "SpO2xg = xengraph[['xf PI:SpO2', 'xf PR:SpO2',  'xf SpO2:StO2', 'xf SpO2:FTOE']]\n",
    "StO2xg = xengraph[['xf PI:StO2', 'xf PR:StO2', 'xf SpO2:StO2', 'xf StO2:FTOE']]\n",
    "FTOExg = xengraph[['xf PI:FTOE', 'xf PR:FTOE', 'xf SpO2:FTOE', 'xf StO2:FTOE']]"
   ]
  },
  {
   "cell_type": "code",
   "execution_count": null,
   "metadata": {
    "collapsed": false
   },
   "outputs": [],
   "source": [
    "display(PIxg, PRxg, SpO2xg, StO2xg, FTOExg)"
   ]
  },
  {
   "cell_type": "code",
   "execution_count": null,
   "metadata": {
    "collapsed": false
   },
   "outputs": [],
   "source": [
    "PIxg.plot(grid=True)\n",
    "plt.legend(loc='center left', bbox_to_anchor=(1.0, 0.5))\n",
    "plt.show()"
   ]
  },
  {
   "cell_type": "code",
   "execution_count": null,
   "metadata": {
    "collapsed": false
   },
   "outputs": [],
   "source": [
    "PRxg.plot(grid=True)\n",
    "plt.legend(loc='center left', bbox_to_anchor=(1.0, 0.5))\n",
    "plt.show()"
   ]
  },
  {
   "cell_type": "code",
   "execution_count": null,
   "metadata": {
    "collapsed": false
   },
   "outputs": [],
   "source": [
    "SpO2xg.plot(grid=True)\n",
    "plt.legend(loc='center left', bbox_to_anchor=(1.0, 0.5))\n",
    "plt.show()"
   ]
  },
  {
   "cell_type": "code",
   "execution_count": null,
   "metadata": {
    "collapsed": false
   },
   "outputs": [],
   "source": [
    "StO2xg.plot(grid=True)\n",
    "plt.legend(loc='center left', bbox_to_anchor=(1.0, 0.5))\n",
    "plt.show()"
   ]
  },
  {
   "cell_type": "code",
   "execution_count": null,
   "metadata": {
    "collapsed": false
   },
   "outputs": [],
   "source": [
    "FTOExg.plot(grid=True)\n",
    "plt.legend(loc='center left', bbox_to_anchor=(1.0, 0.5))\n",
    "plt.show()"
   ]
  },
  {
   "cell_type": "code",
   "execution_count": null,
   "metadata": {
    "collapsed": true
   },
   "outputs": [],
   "source": [
    "def OrderDetn(x1, x2):\n",
    "    \n",
    "    x1\n",
    "    \n",
    "    #Takes the length of two arrays and\n",
    "    #arranges them from least to greatest\n",
    "    #return (smaller x, bigger x)\n",
    "    if len(x1) <= len(x2):\n",
    "        return x1, x2\n",
    "    else:\n",
    "        return x2, x1"
   ]
  },
  {
   "cell_type": "code",
   "execution_count": null,
   "metadata": {
    "collapsed": true
   },
   "outputs": [],
   "source": [
    "#def cross_fuzzyen(x1, x2, m, r, n, scale=True):\n",
    "#    return entropy([x1, x2], dim, r, n, scale=scale, remove_baseline=True)\n",
    "\n",
    "def CrossFuzzyLst(dfenlstcopy3):\n",
    "    \n",
    "    #cross entropy of baseline across different time epochs\n",
    "    #comparison across the same variable\n",
    "    \n",
    "    #len(x1) <= len(x2) for it to work\n",
    "\n",
    "    PIxbl = []\n",
    "    PRxbl = []\n",
    "    SpO2xbl = []\n",
    "    StO2xbl = []\n",
    "    FTOExbl = []\n",
    "    \n",
    "    for i in np.arange(0, 9): #9 time epochs\n",
    "    \n",
    "        a1, a2 = OrderDetn(dfenlstcopy3[0]['PI'].values, dfenlstcopy3[i]['PI'].values)\n",
    "        b1, b2 = OrderDetn(dfenlstcopy3[0]['PR'].values, dfenlstcopy3[i]['PR'].values)\n",
    "        c1, c2 = OrderDetn(dfenlstcopy3[0]['SpO2'].values, dfenlstcopy3[i]['SpO2'].values)\n",
    "        d1, d2 = OrderDetn(dfenlstcopy3[0]['StO2'].values, dfenlstcopy3[i]['StO2'].values)\n",
    "        e1, e2 = OrderDetn(dfenlstcopy3[0]['FTOE'].values, dfenlstcopy3[i]['FTOE'].values)\n",
    "    \n",
    "        a = cross_fuzzyen(a1, a2, 2, .2, n=1)\n",
    "        b = cross_fuzzyen(b1, b2, 2, .2, n=1)\n",
    "        c = cross_fuzzyen(c1, c2, 2, .2, n=1) \n",
    "        d = cross_fuzzyen(d1, d2, 2, .2, n=1)\n",
    "        e = cross_fuzzyen(e1, e2, 2, .2, n=1)\n",
    "    \n",
    "        PIxbl.append(a)\n",
    "        PRxbl.append(b)\n",
    "        SpO2xbl.append(c)\n",
    "        StO2xbl.append(d)\n",
    "        FTOExbl.append(e)\n",
    "\n",
    "    XblFuzzyEnDf = pd.DataFrame({\n",
    "    'BL X FuzzyEn PI': PIxbl,\n",
    "    'BL X FuzzyEn PR' : PRxbl,\n",
    "    'BL X FuzzyEn SpO2' : SpO2xbl,\n",
    "    'BL X FuzzyEn StO2' : StO2xbl,\n",
    "    'BL X FuzzyEn FTOE' : FTOExbl,\n",
    "    }, index = ['-3:0','0:3','3:6','6:9','9:12','12:15','15:18','18:21','21:24'])\n",
    "    \n",
    "    return XblFuzzyEnDf"
   ]
  },
  {
   "cell_type": "code",
   "execution_count": null,
   "metadata": {
    "collapsed": false
   },
   "outputs": [],
   "source": [
    "xblengraph = CrossFuzzyLst(dfenlstcopy3)"
   ]
  },
  {
   "cell_type": "code",
   "execution_count": null,
   "metadata": {
    "collapsed": false
   },
   "outputs": [],
   "source": [
    "xblengraph"
   ]
  },
  {
   "cell_type": "code",
   "execution_count": null,
   "metadata": {
    "collapsed": false
   },
   "outputs": [],
   "source": [
    "xblengraph.plot(grid=True)\n",
    "plt.title('Cross Fuzzy Entropy', color='black')\n",
    "plt.tight_layout()\n",
    "plt.axvline(1, color='y', linestyle=':', lw='4') #vertical line at ROP Exam time\n",
    "plt.legend(loc='center left', bbox_to_anchor=(1.0, 0.5))\n",
    "plt.show()"
   ]
  },
  {
   "cell_type": "markdown",
   "metadata": {},
   "source": [
    "## Chaos Theory\n",
    "    -Lempel-Ziv complexity\n",
    "    -Lyapunov largest exponent\n",
    "    -Hurst exponent"
   ]
  },
  {
   "cell_type": "code",
   "execution_count": null,
   "metadata": {
    "collapsed": false
   },
   "outputs": [],
   "source": [
    "# Scripts for Chaos Theory based variables\n",
    "# Import from other scientists\n",
    "#\n",
    "\n",
    "# #1\n",
    "from analysis import *\n",
    "    #Source: https://github.com/thelahunginjeet/pydynet/blob/master/analysis.py\n",
    "    #def lz_complexity(s):\n",
    "    #Aboy 2006: turn into two bit data based off threshold (threshold = median)\n",
    "    #turn data into a string of 0's and 1's\n",
    "\n",
    "# #2\n",
    "def LLEcal(data):\n",
    "    #Source: http://systems-sciences.uni-graz.at/etextbook/sw2/lyapunov.html\n",
    "    result = []\n",
    "    lambdas = []\n",
    "    \n",
    "    # loop through data\n",
    "    for x in data:\n",
    "        #take the log of the absolute of the data\n",
    "        result.append(np.log(abs(x))) #np.log = ln\n",
    "        # take average\n",
    "        lambdas.append(mean(result))\n",
    "    \n",
    "    return max(lambdas)\n",
    "\n",
    "\n",
    "# #4\n",
    "def hurst_mod(data):\n",
    "    #Source:  http://pyeeg.sourceforge.net/index.html?highlight=hurst#pyeeg.hurst\n",
    "    #modified lstsq line to to start from third iterable\n",
    "    X = data\n",
    "    N = len(X)\n",
    "\n",
    "    T = array([float(i) for i in xrange(1,N+1)])\n",
    "    Y = cumsum(X)\n",
    "    Ave_T = Y/T\n",
    "\n",
    "    S_T = zeros((N))\n",
    "    R_T = zeros((N))\n",
    "    for i in xrange(N):\n",
    "        S_T[i] = std(X[:i+1])\n",
    "        X_T = Y - T * Ave_T[i]\n",
    "        R_T[i] = max(X_T[:i + 1]) - min(X_T[:i + 1])\n",
    "\n",
    "    R_S = R_T / S_T\n",
    "    R_S = log(R_S)\n",
    "    n = log(T).reshape(N, 1)\n",
    "    \n",
    "    #remove NaNs from both R_S and n\n",
    "    rrr = np.ndarray.flatten(n)\n",
    "\n",
    "    dfxxx = pd.DataFrame({\n",
    "    'n': rrr,\n",
    "    'R_S' : R_S,\n",
    "    })\n",
    "    \n",
    "    dfxxx = dfxxx.dropna(how='any')\n",
    "    \n",
    "    N = len(dfxxx)\n",
    "    \n",
    "    n = dfxxx['n'].values.reshape(N, 1)\n",
    "    R_S = dfxxx['R_S'].values\n",
    "\n",
    "    H = lstsq(n[1:], R_S[1:])[0]\n",
    "    return H[0]"
   ]
  },
  {
   "cell_type": "code",
   "execution_count": null,
   "metadata": {
    "collapsed": false
   },
   "outputs": [],
   "source": [
    "def ChaosVars(dflst, col): #or dfenlst if it doesn't work. \n",
    "    #make sure you put in a['PI'] etc.\n",
    "    #tau =  1 + n #embedding lag\n",
    "    # n = m from fnn function, embedding dimension\n",
    "    fs = 0.5 #sampling frequency, 1/2\n",
    "            \n",
    "    \n",
    "    LZlst = []\n",
    "    LLElst = []\n",
    "    Hlst = []\n",
    "        \n",
    "    for i in dflst:\n",
    "        \n",
    "        data = i[col].values\n",
    "        \n",
    "        datalz = []\n",
    "        \n",
    "        thresh = np.nanmedian(data)\n",
    "        for i in data:\n",
    "            if i < thresh:\n",
    "                datalz.append(0)\n",
    "            else:\n",
    "                datalz.append(1)\n",
    "        \n",
    "        strlz = ''.join(str(x) for x in datalz)\n",
    "        \n",
    "        a = ((1.0*lz_complexity(strlz))/random_lz_complexity(len(strlz),p=0.5)) #normalize\n",
    "        LZlst.append(a)\n",
    "        \n",
    "        b = LLEcal(data)\n",
    "        LLElst.append(b)\n",
    "     \n",
    "        try:\n",
    "            d = hurst_mod(data)\n",
    "            Hlst.append(d)\n",
    "        except ValueError:\n",
    "            Hlst.append(np.nan)\n",
    "    \n",
    "    dfchaos = pd.DataFrame({\n",
    "    col + ' LZ': LZlst,\n",
    "    col + ' LLE' : LLElst,\n",
    "    col + ' H' : Hlst,\n",
    "    }, index = ['-3:0','0:3','3:6','6:9','9:12','12:15','15:18','18:21','21:24'])\n",
    "    \n",
    "    return dfchaos"
   ]
  },
  {
   "cell_type": "code",
   "execution_count": null,
   "metadata": {
    "collapsed": false
   },
   "outputs": [],
   "source": [
    "dfcPI = ChaosVars(dfenlst, 'PI')\n",
    "dfcPR = ChaosVars(dfenlst, 'PR')\n",
    "dfcSpO2 = ChaosVars(dfenlst, 'SpO2')\n",
    "dfcStO2 = ChaosVars(dfenlst, 'StO2')\n",
    "dfcFTOE = ChaosVars(dfenlst, 'FTOE')"
   ]
  },
  {
   "cell_type": "code",
   "execution_count": null,
   "metadata": {
    "collapsed": false
   },
   "outputs": [],
   "source": [
    "display(dfcPI, dfcPR, dfcSpO2, dfcStO2, dfcFTOE)"
   ]
  }
 ],
 "metadata": {
  "kernelspec": {
   "display_name": "Python 2",
   "language": "python",
   "name": "python2"
  },
  "language_info": {
   "codemirror_mode": {
    "name": "ipython",
    "version": 2
   },
   "file_extension": ".py",
   "mimetype": "text/x-python",
   "name": "python",
   "nbconvert_exporter": "python",
   "pygments_lexer": "ipython2",
   "version": "2.7.6"
  }
 },
 "nbformat": 4,
 "nbformat_minor": 0
}
