{
 "cells": [
  {
   "cell_type": "code",
   "execution_count": 1,
   "metadata": {
    "collapsed": true
   },
   "outputs": [],
   "source": [
    "import numpy as np\n",
    "import pandas as pd\n",
    "import matplotlib.pyplot as plt\n",
    "\n",
    "plt.style.use('ggplot')\n",
    "%matplotlib inline"
   ]
  },
  {
   "cell_type": "code",
   "execution_count": 2,
   "metadata": {
    "collapsed": false
   },
   "outputs": [],
   "source": [
    "products = pd.read_csv('../data/amazon_baby.csv')"
   ]
  },
  {
   "cell_type": "markdown",
   "metadata": {},
   "source": [
    "## Let's explore the data"
   ]
  },
  {
   "cell_type": "code",
   "execution_count": 3,
   "metadata": {
    "collapsed": false,
    "scrolled": true
   },
   "outputs": [
    {
     "data": {
      "text/html": [
       "<div>\n",
       "<table border=\"1\" class=\"dataframe\">\n",
       "  <thead>\n",
       "    <tr style=\"text-align: right;\">\n",
       "      <th></th>\n",
       "      <th>name</th>\n",
       "      <th>review</th>\n",
       "      <th>rating</th>\n",
       "    </tr>\n",
       "  </thead>\n",
       "  <tbody>\n",
       "    <tr>\n",
       "      <th>0</th>\n",
       "      <td>Planetwise Flannel Wipes</td>\n",
       "      <td>These flannel wipes are OK, but in my opinion ...</td>\n",
       "      <td>3</td>\n",
       "    </tr>\n",
       "    <tr>\n",
       "      <th>1</th>\n",
       "      <td>Planetwise Wipe Pouch</td>\n",
       "      <td>it came early and was not disappointed. i love...</td>\n",
       "      <td>5</td>\n",
       "    </tr>\n",
       "    <tr>\n",
       "      <th>2</th>\n",
       "      <td>Annas Dream Full Quilt with 2 Shams</td>\n",
       "      <td>Very soft and comfortable and warmer than it l...</td>\n",
       "      <td>5</td>\n",
       "    </tr>\n",
       "    <tr>\n",
       "      <th>3</th>\n",
       "      <td>Stop Pacifier Sucking without tears with Thumb...</td>\n",
       "      <td>This is a product well worth the purchase.  I ...</td>\n",
       "      <td>5</td>\n",
       "    </tr>\n",
       "    <tr>\n",
       "      <th>4</th>\n",
       "      <td>Stop Pacifier Sucking without tears with Thumb...</td>\n",
       "      <td>All of my kids have cried non-stop when I trie...</td>\n",
       "      <td>5</td>\n",
       "    </tr>\n",
       "  </tbody>\n",
       "</table>\n",
       "</div>"
      ],
      "text/plain": [
       "                                                name  \\\n",
       "0                           Planetwise Flannel Wipes   \n",
       "1                              Planetwise Wipe Pouch   \n",
       "2                Annas Dream Full Quilt with 2 Shams   \n",
       "3  Stop Pacifier Sucking without tears with Thumb...   \n",
       "4  Stop Pacifier Sucking without tears with Thumb...   \n",
       "\n",
       "                                              review  rating  \n",
       "0  These flannel wipes are OK, but in my opinion ...       3  \n",
       "1  it came early and was not disappointed. i love...       5  \n",
       "2  Very soft and comfortable and warmer than it l...       5  \n",
       "3  This is a product well worth the purchase.  I ...       5  \n",
       "4  All of my kids have cried non-stop when I trie...       5  "
      ]
     },
     "execution_count": 3,
     "metadata": {},
     "output_type": "execute_result"
    }
   ],
   "source": [
    "products.head()"
   ]
  },
  {
   "cell_type": "code",
   "execution_count": 4,
   "metadata": {
    "collapsed": false,
    "scrolled": true
   },
   "outputs": [
    {
     "data": {
      "text/plain": [
       "183531"
      ]
     },
     "execution_count": 4,
     "metadata": {},
     "output_type": "execute_result"
    }
   ],
   "source": [
    "len(products)"
   ]
  },
  {
   "cell_type": "code",
   "execution_count": 5,
   "metadata": {
    "collapsed": false
   },
   "outputs": [
    {
     "data": {
      "text/plain": [
       "182384"
      ]
     },
     "execution_count": 5,
     "metadata": {},
     "output_type": "execute_result"
    }
   ],
   "source": [
    "# Sklearn does not work well with empty fields, so we're dropping all rows that have empty fields\n",
    "products = products.dropna()\n",
    "len(products)"
   ]
  },
  {
   "cell_type": "markdown",
   "metadata": {},
   "source": [
    "## Build the word count vector for each review\n",
    "Here Sklearn works different from the Graphlab.\n",
    "Word counts are recorded in a sparse matrix, where every column is a unique word and every row is a review. For demonstration purposes and to stay in line with the lecture, the word_counts column is added here, but this is not actually used in the model later on. Instead, the word count vector cv will be used."
   ]
  },
  {
   "cell_type": "code",
   "execution_count": 6,
   "metadata": {
    "collapsed": false
   },
   "outputs": [],
   "source": [
    "from sklearn.feature_extraction.text import CountVectorizer\n",
    "cv = CountVectorizer()"
   ]
  },
  {
   "cell_type": "code",
   "execution_count": 7,
   "metadata": {
    "collapsed": false
   },
   "outputs": [],
   "source": [
    "cv.fit(products['review']) # Create the word count vector\n",
    "products['word_counts'] = cv.transform(products['review'])"
   ]
  },
  {
   "cell_type": "code",
   "execution_count": 8,
   "metadata": {
    "collapsed": false
   },
   "outputs": [
    {
     "data": {
      "text/html": [
       "<div>\n",
       "<table border=\"1\" class=\"dataframe\">\n",
       "  <thead>\n",
       "    <tr style=\"text-align: right;\">\n",
       "      <th></th>\n",
       "      <th>name</th>\n",
       "      <th>review</th>\n",
       "      <th>rating</th>\n",
       "      <th>word_counts</th>\n",
       "    </tr>\n",
       "  </thead>\n",
       "  <tbody>\n",
       "    <tr>\n",
       "      <th>0</th>\n",
       "      <td>Planetwise Flannel Wipes</td>\n",
       "      <td>These flannel wipes are OK, but in my opinion ...</td>\n",
       "      <td>3</td>\n",
       "      <td>(0, 303)\\t1\\n  (0, 3288)\\t1\\n  (0, 4889)\\t1\\...</td>\n",
       "    </tr>\n",
       "    <tr>\n",
       "      <th>1</th>\n",
       "      <td>Planetwise Wipe Pouch</td>\n",
       "      <td>it came early and was not disappointed. i love...</td>\n",
       "      <td>5</td>\n",
       "      <td>(0, 303)\\t1\\n  (0, 3288)\\t1\\n  (0, 4889)\\t1\\...</td>\n",
       "    </tr>\n",
       "    <tr>\n",
       "      <th>2</th>\n",
       "      <td>Annas Dream Full Quilt with 2 Shams</td>\n",
       "      <td>Very soft and comfortable and warmer than it l...</td>\n",
       "      <td>5</td>\n",
       "      <td>(0, 303)\\t1\\n  (0, 3288)\\t1\\n  (0, 4889)\\t1\\...</td>\n",
       "    </tr>\n",
       "    <tr>\n",
       "      <th>3</th>\n",
       "      <td>Stop Pacifier Sucking without tears with Thumb...</td>\n",
       "      <td>This is a product well worth the purchase.  I ...</td>\n",
       "      <td>5</td>\n",
       "      <td>(0, 303)\\t1\\n  (0, 3288)\\t1\\n  (0, 4889)\\t1\\...</td>\n",
       "    </tr>\n",
       "    <tr>\n",
       "      <th>4</th>\n",
       "      <td>Stop Pacifier Sucking without tears with Thumb...</td>\n",
       "      <td>All of my kids have cried non-stop when I trie...</td>\n",
       "      <td>5</td>\n",
       "      <td>(0, 303)\\t1\\n  (0, 3288)\\t1\\n  (0, 4889)\\t1\\...</td>\n",
       "    </tr>\n",
       "  </tbody>\n",
       "</table>\n",
       "</div>"
      ],
      "text/plain": [
       "                                                name  \\\n",
       "0                           Planetwise Flannel Wipes   \n",
       "1                              Planetwise Wipe Pouch   \n",
       "2                Annas Dream Full Quilt with 2 Shams   \n",
       "3  Stop Pacifier Sucking without tears with Thumb...   \n",
       "4  Stop Pacifier Sucking without tears with Thumb...   \n",
       "\n",
       "                                              review  rating  \\\n",
       "0  These flannel wipes are OK, but in my opinion ...       3   \n",
       "1  it came early and was not disappointed. i love...       5   \n",
       "2  Very soft and comfortable and warmer than it l...       5   \n",
       "3  This is a product well worth the purchase.  I ...       5   \n",
       "4  All of my kids have cried non-stop when I trie...       5   \n",
       "\n",
       "                                         word_counts  \n",
       "0    (0, 303)\\t1\\n  (0, 3288)\\t1\\n  (0, 4889)\\t1\\...  \n",
       "1    (0, 303)\\t1\\n  (0, 3288)\\t1\\n  (0, 4889)\\t1\\...  \n",
       "2    (0, 303)\\t1\\n  (0, 3288)\\t1\\n  (0, 4889)\\t1\\...  \n",
       "3    (0, 303)\\t1\\n  (0, 3288)\\t1\\n  (0, 4889)\\t1\\...  \n",
       "4    (0, 303)\\t1\\n  (0, 3288)\\t1\\n  (0, 4889)\\t1\\...  "
      ]
     },
     "execution_count": 8,
     "metadata": {},
     "output_type": "execute_result"
    }
   ],
   "source": [
    "products.head()"
   ]
  },
  {
   "cell_type": "code",
   "execution_count": 9,
   "metadata": {
    "collapsed": false
   },
   "outputs": [
    {
     "data": {
      "text/plain": [
       "count                               182384\n",
       "unique                               32315\n",
       "top       Vulli Sophie the Giraffe Teether\n",
       "freq                                   779\n",
       "Name: name, dtype: object"
      ]
     },
     "execution_count": 9,
     "metadata": {},
     "output_type": "execute_result"
    }
   ],
   "source": [
    "products['name'].describe()"
   ]
  },
  {
   "cell_type": "markdown",
   "metadata": {
    "collapsed": true
   },
   "source": [
    "The total number of reviews is lower than in the lecture video. Likely due to dropping the reviews with NA's."
   ]
  },
  {
   "cell_type": "markdown",
   "metadata": {},
   "source": [
    "## Explore Vulli Sophie"
   ]
  },
  {
   "cell_type": "code",
   "execution_count": 10,
   "metadata": {
    "collapsed": false
   },
   "outputs": [],
   "source": [
    "giraffe_reviews = products[products['name'] == 'Vulli Sophie the Giraffe Teether']"
   ]
  },
  {
   "cell_type": "code",
   "execution_count": 11,
   "metadata": {
    "collapsed": false
   },
   "outputs": [
    {
     "data": {
      "text/plain": [
       "779"
      ]
     },
     "execution_count": 11,
     "metadata": {},
     "output_type": "execute_result"
    }
   ],
   "source": [
    "len(giraffe_reviews)"
   ]
  },
  {
   "cell_type": "code",
   "execution_count": 12,
   "metadata": {
    "collapsed": false
   },
   "outputs": [
    {
     "data": {
      "text/plain": [
       "<matplotlib.axes._subplots.AxesSubplot at 0x1169cd908>"
      ]
     },
     "execution_count": 12,
     "metadata": {},
     "output_type": "execute_result"
    },
    {
     "data": {
      "image/png": "[encoded data removed]",
      "text/plain": [
       "<matplotlib.figure.Figure at 0x1183edd68>"
      ]
     },
     "metadata": {},
     "output_type": "display_data"
    }
   ],
   "source": [
    "giraffe_reviews['rating'].hist()"
   ]
  },
  {
   "cell_type": "code",
   "execution_count": 13,
   "metadata": {
    "collapsed": false
   },
   "outputs": [
    {
     "data": {
      "text/plain": [
       "5    531\n",
       "4     93\n",
       "3     62\n",
       "1     56\n",
       "2     37\n",
       "Name: rating, dtype: int64"
      ]
     },
     "execution_count": 13,
     "metadata": {},
     "output_type": "execute_result"
    }
   ],
   "source": [
    "giraffe_reviews['rating'].value_counts()"
   ]
  },
  {
   "cell_type": "markdown",
   "metadata": {},
   "source": [
    "# Build a sentiment classifier"
   ]
  },
  {
   "cell_type": "markdown",
   "metadata": {},
   "source": [
    "## Define what's a positive and negative review"
   ]
  },
  {
   "cell_type": "code",
   "execution_count": 14,
   "metadata": {
    "collapsed": false
   },
   "outputs": [],
   "source": [
    "# Ignore all 3* review\n",
    "products = products[products['rating'] != 3]"
   ]
  },
  {
   "cell_type": "code",
   "execution_count": 15,
   "metadata": {
    "collapsed": true
   },
   "outputs": [],
   "source": [
    "products['sentiment'] = products['rating'] >= 4"
   ]
  },
  {
   "cell_type": "code",
   "execution_count": 16,
   "metadata": {
    "collapsed": false
   },
   "outputs": [
    {
     "data": {
      "text/html": [
       "<div>\n",
       "<table border=\"1\" class=\"dataframe\">\n",
       "  <thead>\n",
       "    <tr style=\"text-align: right;\">\n",
       "      <th></th>\n",
       "      <th>name</th>\n",
       "      <th>review</th>\n",
       "      <th>rating</th>\n",
       "      <th>word_counts</th>\n",
       "      <th>sentiment</th>\n",
       "    </tr>\n",
       "  </thead>\n",
       "  <tbody>\n",
       "    <tr>\n",
       "      <th>1</th>\n",
       "      <td>Planetwise Wipe Pouch</td>\n",
       "      <td>it came early and was not disappointed. i love...</td>\n",
       "      <td>5</td>\n",
       "      <td>(0, 303)\\t1\\n  (0, 3288)\\t1\\n  (0, 4889)\\t1\\...</td>\n",
       "      <td>True</td>\n",
       "    </tr>\n",
       "    <tr>\n",
       "      <th>2</th>\n",
       "      <td>Annas Dream Full Quilt with 2 Shams</td>\n",
       "      <td>Very soft and comfortable and warmer than it l...</td>\n",
       "      <td>5</td>\n",
       "      <td>(0, 303)\\t1\\n  (0, 3288)\\t1\\n  (0, 4889)\\t1\\...</td>\n",
       "      <td>True</td>\n",
       "    </tr>\n",
       "    <tr>\n",
       "      <th>3</th>\n",
       "      <td>Stop Pacifier Sucking without tears with Thumb...</td>\n",
       "      <td>This is a product well worth the purchase.  I ...</td>\n",
       "      <td>5</td>\n",
       "      <td>(0, 303)\\t1\\n  (0, 3288)\\t1\\n  (0, 4889)\\t1\\...</td>\n",
       "      <td>True</td>\n",
       "    </tr>\n",
       "    <tr>\n",
       "      <th>4</th>\n",
       "      <td>Stop Pacifier Sucking without tears with Thumb...</td>\n",
       "      <td>All of my kids have cried non-stop when I trie...</td>\n",
       "      <td>5</td>\n",
       "      <td>(0, 303)\\t1\\n  (0, 3288)\\t1\\n  (0, 4889)\\t1\\...</td>\n",
       "      <td>True</td>\n",
       "    </tr>\n",
       "    <tr>\n",
       "      <th>5</th>\n",
       "      <td>Stop Pacifier Sucking without tears with Thumb...</td>\n",
       "      <td>When the Binky Fairy came to our house, we did...</td>\n",
       "      <td>5</td>\n",
       "      <td>(0, 303)\\t1\\n  (0, 3288)\\t1\\n  (0, 4889)\\t1\\...</td>\n",
       "      <td>True</td>\n",
       "    </tr>\n",
       "  </tbody>\n",
       "</table>\n",
       "</div>"
      ],
      "text/plain": [
       "                                                name  \\\n",
       "1                              Planetwise Wipe Pouch   \n",
       "2                Annas Dream Full Quilt with 2 Shams   \n",
       "3  Stop Pacifier Sucking without tears with Thumb...   \n",
       "4  Stop Pacifier Sucking without tears with Thumb...   \n",
       "5  Stop Pacifier Sucking without tears with Thumb...   \n",
       "\n",
       "                                              review  rating  \\\n",
       "1  it came early and was not disappointed. i love...       5   \n",
       "2  Very soft and comfortable and warmer than it l...       5   \n",
       "3  This is a product well worth the purchase.  I ...       5   \n",
       "4  All of my kids have cried non-stop when I trie...       5   \n",
       "5  When the Binky Fairy came to our house, we did...       5   \n",
       "\n",
       "                                         word_counts sentiment  \n",
       "1    (0, 303)\\t1\\n  (0, 3288)\\t1\\n  (0, 4889)\\t1\\...      True  \n",
       "2    (0, 303)\\t1\\n  (0, 3288)\\t1\\n  (0, 4889)\\t1\\...      True  \n",
       "3    (0, 303)\\t1\\n  (0, 3288)\\t1\\n  (0, 4889)\\t1\\...      True  \n",
       "4    (0, 303)\\t1\\n  (0, 3288)\\t1\\n  (0, 4889)\\t1\\...      True  \n",
       "5    (0, 303)\\t1\\n  (0, 3288)\\t1\\n  (0, 4889)\\t1\\...      True  "
      ]
     },
     "execution_count": 16,
     "metadata": {},
     "output_type": "execute_result"
    }
   ],
   "source": [
    "products.head()"
   ]
  },
  {
   "cell_type": "markdown",
   "metadata": {},
   "source": [
    "## Let's train the sentiment classifier"
   ]
  },
  {
   "cell_type": "code",
   "execution_count": 17,
   "metadata": {
    "collapsed": true
   },
   "outputs": [],
   "source": [
    "from sklearn.cross_validation import train_test_split\n",
    "\n",
    "# Due to the random divide between the train and test data, the model will be \n",
    "# slightly different from the lectures from here on out.\n",
    "train_data, test_data = train_test_split(products, test_size=0.2, random_state=42)"
   ]
  },
  {
   "cell_type": "code",
   "execution_count": 18,
   "metadata": {
    "collapsed": false
   },
   "outputs": [],
   "source": [
    "from sklearn.linear_model import LogisticRegression\n",
    "\n",
    "cv.fit(train_data['review']) # Use the count vector, but fit only the train data\n",
    "\n",
    "sentiment_model = LogisticRegression().fit(cv.transform(train_data['review']), train_data['sentiment'])"
   ]
  },
  {
   "cell_type": "code",
   "execution_count": 19,
   "metadata": {
    "collapsed": false
   },
   "outputs": [],
   "source": [
    "# Predict sentiment for the test data, based on the sentiment model\n",
    "# The cv.transform is necessary to get the test_data review data in the right format for the model\n",
    "predicted = sentiment_model.predict(cv.transform(test_data['review']))"
   ]
  },
  {
   "cell_type": "markdown",
   "metadata": {},
   "source": [
    "## Evaluate the sentiment model"
   ]
  },
  {
   "cell_type": "code",
   "execution_count": 20,
   "metadata": {
    "collapsed": false
   },
   "outputs": [
    {
     "name": "stdout",
     "output_type": "stream",
     "text": [
      "Accuracy: 0.936232496379\n",
      "ROC AUC Score: 0.860505266666\n",
      "Confusion matrix:\n",
      "[[ 3997  1341]\n",
      " [  772 27026]]\n",
      "             precision    recall  f1-score   support\n",
      "\n",
      "      False       0.84      0.75      0.79      5338\n",
      "       True       0.95      0.97      0.96     27798\n",
      "\n",
      "avg / total       0.93      0.94      0.93     33136\n",
      "\n"
     ]
    }
   ],
   "source": [
    "from sklearn import metrics\n",
    "\n",
    "# These metrics will be slightly different then in the lecture, due to the different\n",
    "# train/test data split and differences in how the model is fitted\n",
    "\n",
    "print (\"Accuracy:\", metrics.accuracy_score(test_data['sentiment'], predicted))\n",
    "print (\"ROC AUC Score:\", metrics.roc_auc_score(test_data['sentiment'], predicted))\n",
    "print (\"Confusion matrix:\")\n",
    "print (metrics.confusion_matrix(test_data['sentiment'], predicted))\n",
    "print (metrics.classification_report(test_data['sentiment'], predicted))"
   ]
  },
  {
   "cell_type": "code",
   "execution_count": 21,
   "metadata": {
    "collapsed": true
   },
   "outputs": [],
   "source": [
    "# for the ROC curve, we need the prediction probabilities rather than the True/False values\n",
    "# which are obtained by using the .predict_proba function instead of .predict\n",
    "predicted_probs = sentiment_model.predict_proba(cv.transform(test_data['review']))"
   ]
  },
  {
   "cell_type": "code",
   "execution_count": 22,
   "metadata": {
    "collapsed": false
   },
   "outputs": [],
   "source": [
    "false_positive_rate, true_positive_rate, _ = metrics.roc_curve(test_data['sentiment'], predicted_probs[:,1])"
   ]
  },
  {
   "cell_type": "code",
   "execution_count": 23,
   "metadata": {
    "collapsed": false
   },
   "outputs": [
    {
     "data": {
      "image/png": "[encoded data removed]",
      "text/plain": [
       "<matplotlib.figure.Figure at 0x11842fe80>"
      ]
     },
     "metadata": {},
     "output_type": "display_data"
    }
   ],
   "source": [
    "plt.plot(false_positive_rate, true_positive_rate)\n",
    "plt.xlabel('False Positive Rate')\n",
    "plt.ylabel('True Positive Rate')\n",
    "plt.title('ROC Sentiment Analysis')\n",
    "plt.show()"
   ]
  },
  {
   "cell_type": "markdown",
   "metadata": {},
   "source": [
    "## Applying the learned model to understand sentiment for Giraffe"
   ]
  },
  {
   "cell_type": "code",
   "execution_count": 24,
   "metadata": {
    "collapsed": false
   },
   "outputs": [],
   "source": [
    "giraffe_reviews['predicted_sentiment'] = sentiment_model.predict_proba(cv.transform(giraffe_reviews['review']))[:,1]"
   ]
  },
  {
   "cell_type": "code",
   "execution_count": 25,
   "metadata": {
    "collapsed": false
   },
   "outputs": [
    {
     "data": {
      "text/html": [
       "<div>\n",
       "<table border=\"1\" class=\"dataframe\">\n",
       "  <thead>\n",
       "    <tr style=\"text-align: right;\">\n",
       "      <th></th>\n",
       "      <th>name</th>\n",
       "      <th>review</th>\n",
       "      <th>rating</th>\n",
       "      <th>word_counts</th>\n",
       "      <th>predicted_sentiment</th>\n",
       "    </tr>\n",
       "  </thead>\n",
       "  <tbody>\n",
       "    <tr>\n",
       "      <th>34313</th>\n",
       "      <td>Vulli Sophie the Giraffe Teether</td>\n",
       "      <td>He likes chewing on all the parts especially t...</td>\n",
       "      <td>5</td>\n",
       "      <td>(0, 303)\\t1\\n  (0, 3288)\\t1\\n  (0, 4889)\\t1\\...</td>\n",
       "      <td>0.998540</td>\n",
       "    </tr>\n",
       "    <tr>\n",
       "      <th>34314</th>\n",
       "      <td>Vulli Sophie the Giraffe Teether</td>\n",
       "      <td>My son loves this toy and fits great in the di...</td>\n",
       "      <td>5</td>\n",
       "      <td>(0, 303)\\t1\\n  (0, 3288)\\t1\\n  (0, 4889)\\t1\\...</td>\n",
       "      <td>0.999326</td>\n",
       "    </tr>\n",
       "    <tr>\n",
       "      <th>34315</th>\n",
       "      <td>Vulli Sophie the Giraffe Teether</td>\n",
       "      <td>There really should be a large warning on the ...</td>\n",
       "      <td>1</td>\n",
       "      <td>(0, 303)\\t1\\n  (0, 3288)\\t1\\n  (0, 4889)\\t1\\...</td>\n",
       "      <td>0.340178</td>\n",
       "    </tr>\n",
       "    <tr>\n",
       "      <th>34316</th>\n",
       "      <td>Vulli Sophie the Giraffe Teether</td>\n",
       "      <td>All the moms in my moms\\' group got Sophie for...</td>\n",
       "      <td>5</td>\n",
       "      <td>(0, 303)\\t1\\n  (0, 3288)\\t1\\n  (0, 4889)\\t1\\...</td>\n",
       "      <td>0.973703</td>\n",
       "    </tr>\n",
       "    <tr>\n",
       "      <th>34317</th>\n",
       "      <td>Vulli Sophie the Giraffe Teether</td>\n",
       "      <td>I was a little skeptical on whether Sophie was...</td>\n",
       "      <td>5</td>\n",
       "      <td>(0, 303)\\t1\\n  (0, 3288)\\t1\\n  (0, 4889)\\t1\\...</td>\n",
       "      <td>0.335945</td>\n",
       "    </tr>\n",
       "  </tbody>\n",
       "</table>\n",
       "</div>"
      ],
      "text/plain": [
       "                                   name  \\\n",
       "34313  Vulli Sophie the Giraffe Teether   \n",
       "34314  Vulli Sophie the Giraffe Teether   \n",
       "34315  Vulli Sophie the Giraffe Teether   \n",
       "34316  Vulli Sophie the Giraffe Teether   \n",
       "34317  Vulli Sophie the Giraffe Teether   \n",
       "\n",
       "                                                  review  rating  \\\n",
       "34313  He likes chewing on all the parts especially t...       5   \n",
       "34314  My son loves this toy and fits great in the di...       5   \n",
       "34315  There really should be a large warning on the ...       1   \n",
       "34316  All the moms in my moms\\' group got Sophie for...       5   \n",
       "34317  I was a little skeptical on whether Sophie was...       5   \n",
       "\n",
       "                                             word_counts  predicted_sentiment  \n",
       "34313    (0, 303)\\t1\\n  (0, 3288)\\t1\\n  (0, 4889)\\t1\\...             0.998540  \n",
       "34314    (0, 303)\\t1\\n  (0, 3288)\\t1\\n  (0, 4889)\\t1\\...             0.999326  \n",
       "34315    (0, 303)\\t1\\n  (0, 3288)\\t1\\n  (0, 4889)\\t1\\...             0.340178  \n",
       "34316    (0, 303)\\t1\\n  (0, 3288)\\t1\\n  (0, 4889)\\t1\\...             0.973703  \n",
       "34317    (0, 303)\\t1\\n  (0, 3288)\\t1\\n  (0, 4889)\\t1\\...             0.335945  "
      ]
     },
     "execution_count": 25,
     "metadata": {},
     "output_type": "execute_result"
    }
   ],
   "source": [
    "giraffe_reviews.head()"
   ]
  },
  {
   "cell_type": "markdown",
   "metadata": {},
   "source": [
    "## Sort the reviews based on the predicted sentiment and explore"
   ]
  },
  {
   "cell_type": "code",
   "execution_count": 26,
   "metadata": {
    "collapsed": false
   },
   "outputs": [],
   "source": [
    "giraffe_reviews.sort_values(by='predicted_sentiment', inplace=True, ascending=False)"
   ]
  },
  {
   "cell_type": "code",
   "execution_count": 27,
   "metadata": {
    "collapsed": false
   },
   "outputs": [
    {
     "data": {
      "text/html": [
       "<div>\n",
       "<table border=\"1\" class=\"dataframe\">\n",
       "  <thead>\n",
       "    <tr style=\"text-align: right;\">\n",
       "      <th></th>\n",
       "      <th>name</th>\n",
       "      <th>review</th>\n",
       "      <th>rating</th>\n",
       "      <th>word_counts</th>\n",
       "      <th>predicted_sentiment</th>\n",
       "    </tr>\n",
       "  </thead>\n",
       "  <tbody>\n",
       "    <tr>\n",
       "      <th>34892</th>\n",
       "      <td>Vulli Sophie the Giraffe Teether</td>\n",
       "      <td>Sophie, oh Sophie, your time has come. My gran...</td>\n",
       "      <td>5</td>\n",
       "      <td>(0, 303)\\t1\\n  (0, 3288)\\t1\\n  (0, 4889)\\t1\\...</td>\n",
       "      <td>1.0</td>\n",
       "    </tr>\n",
       "    <tr>\n",
       "      <th>34434</th>\n",
       "      <td>Vulli Sophie the Giraffe Teether</td>\n",
       "      <td>My Mom-in-Law bought Sophie for my son when he...</td>\n",
       "      <td>5</td>\n",
       "      <td>(0, 303)\\t1\\n  (0, 3288)\\t1\\n  (0, 4889)\\t1\\...</td>\n",
       "      <td>1.0</td>\n",
       "    </tr>\n",
       "    <tr>\n",
       "      <th>34515</th>\n",
       "      <td>Vulli Sophie the Giraffe Teether</td>\n",
       "      <td>As every mom knows, you always want to give yo...</td>\n",
       "      <td>5</td>\n",
       "      <td>(0, 303)\\t1\\n  (0, 3288)\\t1\\n  (0, 4889)\\t1\\...</td>\n",
       "      <td>1.0</td>\n",
       "    </tr>\n",
       "    <tr>\n",
       "      <th>34442</th>\n",
       "      <td>Vulli Sophie the Giraffe Teether</td>\n",
       "      <td>Yes, it\\'s imported. Yes, it\\'s expensive. And...</td>\n",
       "      <td>5</td>\n",
       "      <td>(0, 303)\\t1\\n  (0, 3288)\\t1\\n  (0, 4889)\\t1\\...</td>\n",
       "      <td>1.0</td>\n",
       "    </tr>\n",
       "    <tr>\n",
       "      <th>34341</th>\n",
       "      <td>Vulli Sophie the Giraffe Teether</td>\n",
       "      <td>I\\'ll be honest...I bought this toy because al...</td>\n",
       "      <td>4</td>\n",
       "      <td>(0, 303)\\t1\\n  (0, 3288)\\t1\\n  (0, 4889)\\t1\\...</td>\n",
       "      <td>1.0</td>\n",
       "    </tr>\n",
       "    <tr>\n",
       "      <th>34429</th>\n",
       "      <td>Vulli Sophie the Giraffe Teether</td>\n",
       "      <td>Let me just start off by addressing the chokin...</td>\n",
       "      <td>5</td>\n",
       "      <td>(0, 303)\\t1\\n  (0, 3288)\\t1\\n  (0, 4889)\\t1\\...</td>\n",
       "      <td>1.0</td>\n",
       "    </tr>\n",
       "    <tr>\n",
       "      <th>34746</th>\n",
       "      <td>Vulli Sophie the Giraffe Teether</td>\n",
       "      <td>Sophie the Giraffe is the perfect teething toy...</td>\n",
       "      <td>5</td>\n",
       "      <td>(0, 303)\\t1\\n  (0, 3288)\\t1\\n  (0, 4889)\\t1\\...</td>\n",
       "      <td>1.0</td>\n",
       "    </tr>\n",
       "    <tr>\n",
       "      <th>34975</th>\n",
       "      <td>Vulli Sophie the Giraffe Teether</td>\n",
       "      <td>My 8 week old LOVES Sophie. The rubber feels s...</td>\n",
       "      <td>5</td>\n",
       "      <td>(0, 303)\\t1\\n  (0, 3288)\\t1\\n  (0, 4889)\\t1\\...</td>\n",
       "      <td>1.0</td>\n",
       "    </tr>\n",
       "    <tr>\n",
       "      <th>34410</th>\n",
       "      <td>Vulli Sophie the Giraffe Teether</td>\n",
       "      <td>Our son really likes Sopie...the problem is th...</td>\n",
       "      <td>5</td>\n",
       "      <td>(0, 303)\\t1\\n  (0, 3288)\\t1\\n  (0, 4889)\\t1\\...</td>\n",
       "      <td>1.0</td>\n",
       "    </tr>\n",
       "    <tr>\n",
       "      <th>35035</th>\n",
       "      <td>Vulli Sophie the Giraffe Teether</td>\n",
       "      <td>My 4 month old son is teething, and I\\'ve trie...</td>\n",
       "      <td>4</td>\n",
       "      <td>(0, 303)\\t1\\n  (0, 3288)\\t1\\n  (0, 4889)\\t1\\...</td>\n",
       "      <td>1.0</td>\n",
       "    </tr>\n",
       "  </tbody>\n",
       "</table>\n",
       "</div>"
      ],
      "text/plain": [
       "                                   name  \\\n",
       "34892  Vulli Sophie the Giraffe Teether   \n",
       "34434  Vulli Sophie the Giraffe Teether   \n",
       "34515  Vulli Sophie the Giraffe Teether   \n",
       "34442  Vulli Sophie the Giraffe Teether   \n",
       "34341  Vulli Sophie the Giraffe Teether   \n",
       "34429  Vulli Sophie the Giraffe Teether   \n",
       "34746  Vulli Sophie the Giraffe Teether   \n",
       "34975  Vulli Sophie the Giraffe Teether   \n",
       "34410  Vulli Sophie the Giraffe Teether   \n",
       "35035  Vulli Sophie the Giraffe Teether   \n",
       "\n",
       "                                                  review  rating  \\\n",
       "34892  Sophie, oh Sophie, your time has come. My gran...       5   \n",
       "34434  My Mom-in-Law bought Sophie for my son when he...       5   \n",
       "34515  As every mom knows, you always want to give yo...       5   \n",
       "34442  Yes, it\\'s imported. Yes, it\\'s expensive. And...       5   \n",
       "34341  I\\'ll be honest...I bought this toy because al...       4   \n",
       "34429  Let me just start off by addressing the chokin...       5   \n",
       "34746  Sophie the Giraffe is the perfect teething toy...       5   \n",
       "34975  My 8 week old LOVES Sophie. The rubber feels s...       5   \n",
       "34410  Our son really likes Sopie...the problem is th...       5   \n",
       "35035  My 4 month old son is teething, and I\\'ve trie...       4   \n",
       "\n",
       "                                             word_counts  predicted_sentiment  \n",
       "34892    (0, 303)\\t1\\n  (0, 3288)\\t1\\n  (0, 4889)\\t1\\...                  1.0  \n",
       "34434    (0, 303)\\t1\\n  (0, 3288)\\t1\\n  (0, 4889)\\t1\\...                  1.0  \n",
       "34515    (0, 303)\\t1\\n  (0, 3288)\\t1\\n  (0, 4889)\\t1\\...                  1.0  \n",
       "34442    (0, 303)\\t1\\n  (0, 3288)\\t1\\n  (0, 4889)\\t1\\...                  1.0  \n",
       "34341    (0, 303)\\t1\\n  (0, 3288)\\t1\\n  (0, 4889)\\t1\\...                  1.0  \n",
       "34429    (0, 303)\\t1\\n  (0, 3288)\\t1\\n  (0, 4889)\\t1\\...                  1.0  \n",
       "34746    (0, 303)\\t1\\n  (0, 3288)\\t1\\n  (0, 4889)\\t1\\...                  1.0  \n",
       "34975    (0, 303)\\t1\\n  (0, 3288)\\t1\\n  (0, 4889)\\t1\\...                  1.0  \n",
       "34410    (0, 303)\\t1\\n  (0, 3288)\\t1\\n  (0, 4889)\\t1\\...                  1.0  \n",
       "35035    (0, 303)\\t1\\n  (0, 3288)\\t1\\n  (0, 4889)\\t1\\...                  1.0  "
      ]
     },
     "execution_count": 27,
     "metadata": {},
     "output_type": "execute_result"
    }
   ],
   "source": [
    "# Despite the slightly different model, the same review is ranked highest in predicted sentiment\n",
    "giraffe_reviews.head(10)"
   ]
  },
  {
   "cell_type": "code",
   "execution_count": 28,
   "metadata": {
    "collapsed": false
   },
   "outputs": [
    {
     "data": {
      "text/plain": [
       "\"Sophie, oh Sophie, your time has come. My granddaughter, Violet is 5 months old and starting to teeth. What joy little Sophie brings to Violet. Sophie is made of a very pliable rubber that is sturdy but not tough. It is quite easy for Violet to twist Sophie into unheard of positions to get Sophie into her mouth. The little nose and hooves fit perfectly into small mouths, and the drooling has purpose. The paint on Sophie is food quality.Sophie was born in 1961 in France. The maker had wondered why there was nothing available for babies and made Sophie from the finest rubber, phthalate-free on St Sophie\\\\'s Day, thus the name was born. Since that time millions of Sophie\\\\'s populate the world. She is soft and for babies little hands easy to grasp. Violet especially loves the bumpy head and horns of Sophie. Sophie has a long neck that easy to grasp and twist. She has lovely, sizable spots that attract Violet\\\\'s attention. Sophie has happy little squeaks that bring squeals of delight from Violet. She is able to make Sophie squeak and that brings much joy. Sophie\\\\'s smooth skin is soothing to Violet\\\\'s little gums. Sophie is 7 inches tall and is the exact correct size for babies to hold and love.As you well know the first thing babies grasp, goes into their mouths- how wonderful to have a toy that stimulates all of the senses and helps with the issue of teething. Sophie is small enough to fit into any size pocket or bag. Sophie is the perfect find for babies from a few months to a year old. How wonderful to hear the giggles and laughs that emanate from babies who find Sophie irresistible. Viva La Sophie!Highly Recommended.  prisrob 12-11-09\""
      ]
     },
     "execution_count": 28,
     "metadata": {},
     "output_type": "execute_result"
    }
   ],
   "source": [
    "giraffe_reviews.iloc[0]['review']"
   ]
  },
  {
   "cell_type": "markdown",
   "metadata": {},
   "source": [
    "## Let's look at the negative reviews"
   ]
  },
  {
   "cell_type": "code",
   "execution_count": 29,
   "metadata": {
    "collapsed": false
   },
   "outputs": [
    {
     "data": {
      "text/html": [
       "<div>\n",
       "<table border=\"1\" class=\"dataframe\">\n",
       "  <thead>\n",
       "    <tr style=\"text-align: right;\">\n",
       "      <th></th>\n",
       "      <th>name</th>\n",
       "      <th>review</th>\n",
       "      <th>rating</th>\n",
       "      <th>word_counts</th>\n",
       "      <th>predicted_sentiment</th>\n",
       "    </tr>\n",
       "  </thead>\n",
       "  <tbody>\n",
       "    <tr>\n",
       "      <th>35018</th>\n",
       "      <td>Vulli Sophie the Giraffe Teether</td>\n",
       "      <td>My son (now 2.5) LOVED his Sophie, and I bough...</td>\n",
       "      <td>1</td>\n",
       "      <td>(0, 303)\\t1\\n  (0, 3288)\\t1\\n  (0, 4889)\\t1\\...</td>\n",
       "      <td>4.980937e-04</td>\n",
       "    </tr>\n",
       "    <tr>\n",
       "      <th>34706</th>\n",
       "      <td>Vulli Sophie the Giraffe Teether</td>\n",
       "      <td>Totally overpriced for what it is.  Go to Pets...</td>\n",
       "      <td>1</td>\n",
       "      <td>(0, 303)\\t1\\n  (0, 3288)\\t1\\n  (0, 4889)\\t1\\...</td>\n",
       "      <td>3.623238e-04</td>\n",
       "    </tr>\n",
       "    <tr>\n",
       "      <th>34556</th>\n",
       "      <td>Vulli Sophie the Giraffe Teether</td>\n",
       "      <td>Alright, first off didn\\'t realize this was a ...</td>\n",
       "      <td>2</td>\n",
       "      <td>(0, 303)\\t1\\n  (0, 3288)\\t1\\n  (0, 4889)\\t1\\...</td>\n",
       "      <td>3.557328e-04</td>\n",
       "    </tr>\n",
       "    <tr>\n",
       "      <th>34709</th>\n",
       "      <td>Vulli Sophie the Giraffe Teether</td>\n",
       "      <td>i looked at this teether forever before i fina...</td>\n",
       "      <td>4</td>\n",
       "      <td>(0, 303)\\t1\\n  (0, 3288)\\t1\\n  (0, 4889)\\t1\\...</td>\n",
       "      <td>2.725130e-04</td>\n",
       "    </tr>\n",
       "    <tr>\n",
       "      <th>34860</th>\n",
       "      <td>Vulli Sophie the Giraffe Teether</td>\n",
       "      <td>This children\\'s toy is nostalgic and very cut...</td>\n",
       "      <td>1</td>\n",
       "      <td>(0, 303)\\t1\\n  (0, 3288)\\t1\\n  (0, 4889)\\t1\\...</td>\n",
       "      <td>1.553006e-04</td>\n",
       "    </tr>\n",
       "    <tr>\n",
       "      <th>34824</th>\n",
       "      <td>Vulli Sophie the Giraffe Teether</td>\n",
       "      <td>I got one of these as a showe gift that my bab...</td>\n",
       "      <td>1</td>\n",
       "      <td>(0, 303)\\t1\\n  (0, 3288)\\t1\\n  (0, 4889)\\t1\\...</td>\n",
       "      <td>1.473995e-04</td>\n",
       "    </tr>\n",
       "    <tr>\n",
       "      <th>34994</th>\n",
       "      <td>Vulli Sophie the Giraffe Teether</td>\n",
       "      <td>When I received this the paint was peeling off...</td>\n",
       "      <td>1</td>\n",
       "      <td>(0, 303)\\t1\\n  (0, 3288)\\t1\\n  (0, 4889)\\t1\\...</td>\n",
       "      <td>1.093208e-04</td>\n",
       "    </tr>\n",
       "    <tr>\n",
       "      <th>34411</th>\n",
       "      <td>Vulli Sophie the Giraffe Teether</td>\n",
       "      <td>I was so looking forward to getting this for m...</td>\n",
       "      <td>1</td>\n",
       "      <td>(0, 303)\\t1\\n  (0, 3288)\\t1\\n  (0, 4889)\\t1\\...</td>\n",
       "      <td>1.074097e-04</td>\n",
       "    </tr>\n",
       "    <tr>\n",
       "      <th>34732</th>\n",
       "      <td>Vulli Sophie the Giraffe Teether</td>\n",
       "      <td>Received the product and smells like cheap rub...</td>\n",
       "      <td>1</td>\n",
       "      <td>(0, 303)\\t1\\n  (0, 3288)\\t1\\n  (0, 4889)\\t1\\...</td>\n",
       "      <td>5.586384e-05</td>\n",
       "    </tr>\n",
       "    <tr>\n",
       "      <th>34687</th>\n",
       "      <td>Vulli Sophie the Giraffe Teether</td>\n",
       "      <td>I wanted to love this product and was excited ...</td>\n",
       "      <td>1</td>\n",
       "      <td>(0, 303)\\t1\\n  (0, 3288)\\t1\\n  (0, 4889)\\t1\\...</td>\n",
       "      <td>1.802705e-09</td>\n",
       "    </tr>\n",
       "  </tbody>\n",
       "</table>\n",
       "</div>"
      ],
      "text/plain": [
       "                                   name  \\\n",
       "35018  Vulli Sophie the Giraffe Teether   \n",
       "34706  Vulli Sophie the Giraffe Teether   \n",
       "34556  Vulli Sophie the Giraffe Teether   \n",
       "34709  Vulli Sophie the Giraffe Teether   \n",
       "34860  Vulli Sophie the Giraffe Teether   \n",
       "34824  Vulli Sophie the Giraffe Teether   \n",
       "34994  Vulli Sophie the Giraffe Teether   \n",
       "34411  Vulli Sophie the Giraffe Teether   \n",
       "34732  Vulli Sophie the Giraffe Teether   \n",
       "34687  Vulli Sophie the Giraffe Teether   \n",
       "\n",
       "                                                  review  rating  \\\n",
       "35018  My son (now 2.5) LOVED his Sophie, and I bough...       1   \n",
       "34706  Totally overpriced for what it is.  Go to Pets...       1   \n",
       "34556  Alright, first off didn\\'t realize this was a ...       2   \n",
       "34709  i looked at this teether forever before i fina...       4   \n",
       "34860  This children\\'s toy is nostalgic and very cut...       1   \n",
       "34824  I got one of these as a showe gift that my bab...       1   \n",
       "34994  When I received this the paint was peeling off...       1   \n",
       "34411  I was so looking forward to getting this for m...       1   \n",
       "34732  Received the product and smells like cheap rub...       1   \n",
       "34687  I wanted to love this product and was excited ...       1   \n",
       "\n",
       "                                             word_counts  predicted_sentiment  \n",
       "35018    (0, 303)\\t1\\n  (0, 3288)\\t1\\n  (0, 4889)\\t1\\...         4.980937e-04  \n",
       "34706    (0, 303)\\t1\\n  (0, 3288)\\t1\\n  (0, 4889)\\t1\\...         3.623238e-04  \n",
       "34556    (0, 303)\\t1\\n  (0, 3288)\\t1\\n  (0, 4889)\\t1\\...         3.557328e-04  \n",
       "34709    (0, 303)\\t1\\n  (0, 3288)\\t1\\n  (0, 4889)\\t1\\...         2.725130e-04  \n",
       "34860    (0, 303)\\t1\\n  (0, 3288)\\t1\\n  (0, 4889)\\t1\\...         1.553006e-04  \n",
       "34824    (0, 303)\\t1\\n  (0, 3288)\\t1\\n  (0, 4889)\\t1\\...         1.473995e-04  \n",
       "34994    (0, 303)\\t1\\n  (0, 3288)\\t1\\n  (0, 4889)\\t1\\...         1.093208e-04  \n",
       "34411    (0, 303)\\t1\\n  (0, 3288)\\t1\\n  (0, 4889)\\t1\\...         1.074097e-04  \n",
       "34732    (0, 303)\\t1\\n  (0, 3288)\\t1\\n  (0, 4889)\\t1\\...         5.586384e-05  \n",
       "34687    (0, 303)\\t1\\n  (0, 3288)\\t1\\n  (0, 4889)\\t1\\...         1.802705e-09  "
      ]
     },
     "execution_count": 29,
     "metadata": {},
     "output_type": "execute_result"
    }
   ],
   "source": [
    "giraffe_reviews.tail(10)\n",
    "## We can see the lowest scoring review in the lecture is ranked 10th lowest in this analysis"
   ]
  },
  {
   "cell_type": "code",
   "execution_count": 30,
   "metadata": {
    "collapsed": false
   },
   "outputs": [
    {
     "data": {
      "text/plain": [
       "'I wanted to love this product and was excited to buy it when I became pregnant but am now hesitant to let my baby use it after reading about the recall in Europe. Apparently, as I understand it, their toxin standards of measurement are lower than ours so they have not been recalled here (apparently we are OK with low levels of nitrates in the toys our children put in their mouths, but Europeans are not...hmmm)...Be that as it may, toxins registering even CLOSE to a dangerous level made me nervous about using. After digging around online I did discover that the company claims to have changed the product after a certain date and lists manufacturing codes so you can check yours (those listed were made after a certain date and are said to be safer). Sadly mine was not made after the &#34;improved&#34; date but I could not return it because there was no formal recall in our country. I considered returning it and hunting for one with an approved manufacturing date but man that was just too much work. Bummed but not ready to take a risk with my baby.'"
      ]
     },
     "execution_count": 30,
     "metadata": {},
     "output_type": "execute_result"
    }
   ],
   "source": [
    "giraffe_reviews.iloc[-1]['review']"
   ]
  }
 ],
 "metadata": {
  "anaconda-cloud": {},
  "kernelspec": {
   "display_name": "Python [conda root]",
   "language": "python",
   "name": "conda-root-py"
  },
  "language_info": {
   "codemirror_mode": {
    "name": "ipython",
    "version": 3
   },
   "file_extension": ".py",
   "mimetype": "text/x-python",
   "name": "python",
   "nbconvert_exporter": "python",
   "pygments_lexer": "ipython3",
   "version": "3.5.2"
  }
 },
 "nbformat": 4,
 "nbformat_minor": 1
}
