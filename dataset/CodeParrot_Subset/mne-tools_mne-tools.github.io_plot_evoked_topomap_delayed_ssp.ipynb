{
  "nbformat_minor": 0, 
  "nbformat": 4, 
  "cells": [
    {
      "execution_count": null, 
      "cell_type": "code", 
      "source": [
        "%matplotlib inline"
      ], 
      "outputs": [], 
      "metadata": {
        "collapsed": false
      }
    }, 
    {
      "source": [
        "\n# Create topographic ERF maps in delayed SSP mode\n\n\nThis script shows how to apply SSP projectors delayed, that is,\nat the evoked stage. This is particularly useful to support decisions\nrelated to the trade-off between denoising and preserving signal.\nIn this example we demonstrate how to use topographic maps for delayed\nSSP application.\n"
      ], 
      "cell_type": "markdown", 
      "metadata": {}
    }, 
    {
      "execution_count": null, 
      "cell_type": "code", 
      "source": [
        "# Authors: Denis Engemann <denis.engemann@gmail.com>\n#          Christian Brodbeck <christianbrodbeck@nyu.edu>\n#          Alexandre Gramfort <alexandre.gramfort@telecom-paristech.fr>\n#\n# License: BSD (3-clause)\n\nimport numpy as np\nimport mne\nfrom mne import io\nfrom mne.datasets import sample\n\nprint(__doc__)\n\ndata_path = sample.data_path()"
      ], 
      "outputs": [], 
      "metadata": {
        "collapsed": false
      }
    }, 
    {
      "source": [
        "Set parameters\n"
      ], 
      "cell_type": "markdown", 
      "metadata": {}
    }, 
    {
      "execution_count": null, 
      "cell_type": "code", 
      "source": [
        "raw_fname = data_path + '/MEG/sample/sample_audvis_filt-0-40_raw.fif'\nevent_fname = data_path + '/MEG/sample/sample_audvis_filt-0-40_raw-eve.fif'\necg_fname = data_path + '/MEG/sample/sample_audvis_ecg_proj.fif'\nevent_id, tmin, tmax = 1, -0.2, 0.5\n\n# Setup for reading the raw data\nraw = io.Raw(raw_fname)\nevents = mne.read_events(event_fname)\n\n# delete EEG projections (we know it's the last one)\nraw.del_proj(-1)\n# add ECG projs for magnetometers\n[raw.add_proj(p) for p in mne.read_proj(ecg_fname) if 'axial' in p['desc']]\n\n# pick magnetometer channels\npicks = mne.pick_types(raw.info, meg='mag', stim=False, eog=True,\n                       include=[], exclude='bads')\n\n# We will make of the proj `delayed` option to\n# interactively select projections at the evoked stage.\n# more information can be found in the example/plot_evoked_delayed_ssp.py\nepochs = mne.Epochs(raw, events, event_id, tmin, tmax, picks=picks,\n                    baseline=(None, 0), reject=dict(mag=4e-12), proj='delayed')\n\nevoked = epochs.average()  # average epochs and get an Evoked dataset."
      ], 
      "outputs": [], 
      "metadata": {
        "collapsed": false
      }
    }, 
    {
      "source": [
        "Interactively select / deselect the SSP projection vectors\n"
      ], 
      "cell_type": "markdown", 
      "metadata": {}
    }, 
    {
      "execution_count": null, 
      "cell_type": "code", 
      "source": [
        "# set time instants in seconds (from 50 to 150ms in a step of 10ms)\ntimes = np.arange(0.05, 0.15, 0.01)\n\nevoked.plot_topomap(times, proj='interactive')\n# Hint: the same works for evoked.plot and evoked.plot_topo"
      ], 
      "outputs": [], 
      "metadata": {
        "collapsed": false
      }
    }
  ], 
  "metadata": {
    "kernelspec": {
      "display_name": "Python 2", 
      "name": "python2", 
      "language": "python"
    }, 
    "language_info": {
      "mimetype": "text/x-python", 
      "nbconvert_exporter": "python", 
      "name": "python", 
      "file_extension": ".py", 
      "version": "2.7.11", 
      "pygments_lexer": "ipython2", 
      "codemirror_mode": {
        "version": 2, 
        "name": "ipython"
      }
    }
  }
}