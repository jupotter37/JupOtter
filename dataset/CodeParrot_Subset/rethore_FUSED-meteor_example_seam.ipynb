{
 "cells": [
  {
   "cell_type": "code",
   "execution_count": 2,
   "metadata": {},
   "outputs": [],
   "source": [
    "import yaml"
   ]
  },
  {
   "cell_type": "code",
   "execution_count": 3,
   "metadata": {},
   "outputs": [],
   "source": [
    "def readyml(filename):\n",
    "    with open(filename, 'r') as f:\n",
    "        return yaml.load(f.read())"
   ]
  },
  {
   "cell_type": "code",
   "execution_count": 4,
   "metadata": {},
   "outputs": [],
   "source": [
    "pb = readyml('seam_problem.yml')"
   ]
  },
  {
   "cell_type": "code",
   "execution_count": 5,
   "metadata": {},
   "outputs": [
    {
     "data": {
      "text/plain": [
       "{'driver': {'class': 'RunOnce'},\n",
       " 'root': {'class': 'Group',\n",
       "  'components': [{'class': 'seamtower.SEAMTower.SEAMTower',\n",
       "    'name': 'tower',\n",
       "    'parameters': {'n_sections': 21},\n",
       "    'promotes': ['*']},\n",
       "   {'class': 'seamloads.SEAMLoads.SEAMLoads',\n",
       "    'name': 'loads',\n",
       "    'parameters': {'n_wsp': 26},\n",
       "    'promotes': ['*']},\n",
       "   {'class': 'seamrotor.seamrotor.SEAMBladeStructure',\n",
       "    'name': 'blade',\n",
       "    'promotes': ['*']},\n",
       "   {'class': 'seamaero.seam_aep.SEAM_PowerCurve',\n",
       "    'name': 'power_curve',\n",
       "    'parameters': {'n_wsp': 26},\n",
       "    'promotes': ['*']}]}}"
      ]
     },
     "execution_count": 5,
     "output_type": "execute_result",
     "metadata": {}
    }
   ],
   "source": [
    "pb"
   ]
  },
  {
   "cell_type": "code",
   "execution_count": 6,
   "metadata": {},
   "outputs": [],
   "source": [
    "from openmdao.api import Problem, Group"
   ]
  },
  {
   "cell_type": "code",
   "execution_count": 7,
   "metadata": {},
   "outputs": [],
   "source": [
    "import importlib\n",
    "\n",
    "def load_class(full_class_string):\n",
    "    \"\"\"\n",
    "    dynamically load a class from a string\n",
    "    \"\"\"\n",
    "\n",
    "    class_data = full_class_string.split(\".\")\n",
    "    module_path = \".\".join(class_data[:-1])\n",
    "    class_str = class_data[-1]\n",
    "\n",
    "    module = importlib.import_module(module_path)\n",
    "    # Finally, we retrieve the Class\n",
    "    return getattr(module, class_str)"
   ]
  },
  {
   "cell_type": "code",
   "execution_count": 8,
   "metadata": {},
   "outputs": [],
   "source": [
    "class FUSEDProblem(Problem):\n",
    "    def __init__(self, filename):\n",
    "        super(FUSEDProblem, self).__init__()\n",
    "        pb = readyml(filename)\n",
    "        if 'root' in pb:\n",
    "            if pb['root']['class'] == 'Group':\n",
    "                self.root = Group()\n",
    "            if 'components' in pb['root']:\n",
    "                for c in pb['root']['components']:\n",
    "                    if 'parameters' not in c:\n",
    "                        c['parameters'] = {}\n",
    "                    self.root.add(c['name'], load_class(c['class'])(**c['parameters']), promotes=c['promotes'])\n",
    "\n",
    "    def load_inputs(self, filename):\n",
    "        inputs = readyml(filename)\n",
    "        for k,v in inputs.items():\n",
    "            pb[k] = v"
   ]
  },
  {
   "cell_type": "code",
   "execution_count": 15,
   "metadata": {},
   "outputs": [
    {
     "name": "stdout",
     "output_type": "stream",
     "text": [
      "##############################################\n",
      "Setup: Checking for potential issues...\n",
      "\n",
      "The following parameters have no associated unknowns:\n",
      "AddWeightFactorBlade\n",
      "EdgeExtDynFact\n",
      "EdgeFatDynFact\n",
      "F\n",
      "Iref\n",
      "MaxChordrR\n",
      "Nsections\n",
      "PMtarget\n",
      "SF_blade\n",
      "Slim_ext_blade\n",
      "Slim_fat_blade\n",
      "TIF_EDext\n",
      "TIF_FLext\n",
      "TIF_FLfat\n",
      "WeiA_input\n",
      "WeiC_input\n",
      "WeibullInput\n",
      "air_density\n",
      "blade_density\n",
      "convloss\n",
      "dLoad_dU_factor_flap\n",
      "dLoad_dU_factor_tower\n",
      "gearloss_const\n",
      "gearloss_var\n",
      "genloss\n",
      "hub_height\n",
      "lifetime_cycles\n",
      "max_Cp\n",
      "max_tipspeed\n",
      "max_wsp\n",
      "mean_wsp\n",
      "min_wsp\n",
      "nSigma4fatFlap\n",
      "nSigma4fatTower\n",
      "n_wsp\n",
      "project_lifetime\n",
      "rated_power\n",
      "rho_steel\n",
      "rotor_diameter\n",
      "safety_factor_tower\n",
      "sc_frac_edge\n",
      "sc_frac_flap\n",
      "stress_limit_extreme_tower\n",
      "stress_limit_fatigue_tower\n",
      "tower_bottom_diameter\n",
      "tower_top_diameter\n",
      "tsr\n",
      "turbulence_int\n",
      "wohler_exponent_blade_flap\n",
      "wohler_exponent_tower\n",
      "\n",
      "The following components have no connections:\n",
      "power_curve\n",
      "\n",
      "No recorders have been specified, so no data will be saved.\n",
      "\n",
      "Setup: Check complete.\n",
      "##############################################\n",
      "\n"
     ]
    }
   ],
   "source": [
    "pb = FUSEDProblem('seam_problem.yml')\n",
    "out = pb.setup()\n",
    "#pb.load_inputs('seam_turbime_inputs.yaml')\n",
    "#pb.run()"
   ]
  },
  {
   "cell_type": "code",
   "execution_count": 17,
   "metadata": {},
   "outputs": [
    {
     "data": {
      "text/plain": [
       "['AddWeightFactorBlade',\n",
       " 'EdgeExtDynFact',\n",
       " 'EdgeFatDynFact',\n",
       " 'F',\n",
       " 'Iref',\n",
       " 'MaxChordrR',\n",
       " 'Nsections',\n",
       " 'PMtarget',\n",
       " 'SF_blade',\n",
       " 'Slim_ext_blade',\n",
       " 'Slim_fat_blade',\n",
       " 'TIF_EDext',\n",
       " 'TIF_FLext',\n",
       " 'TIF_FLfat',\n",
       " 'WeiA_input',\n",
       " 'WeiC_input',\n",
       " 'WeibullInput',\n",
       " 'air_density',\n",
       " 'blade_density',\n",
       " 'convloss',\n",
       " 'dLoad_dU_factor_flap',\n",
       " 'dLoad_dU_factor_tower',\n",
       " 'gearloss_const',\n",
       " 'gearloss_var',\n",
       " 'genloss',\n",
       " 'hub_height',\n",
       " 'lifetime_cycles',\n",
       " 'max_Cp',\n",
       " 'max_tipspeed',\n",
       " 'max_wsp',\n",
       " 'mean_wsp',\n",
       " 'min_wsp',\n",
       " 'nSigma4fatFlap',\n",
       " 'nSigma4fatTower',\n",
       " 'n_wsp',\n",
       " 'project_lifetime',\n",
       " 'rated_power',\n",
       " 'rho_steel',\n",
       " 'rotor_diameter',\n",
       " 'safety_factor_tower',\n",
       " 'sc_frac_edge',\n",
       " 'sc_frac_flap',\n",
       " 'stress_limit_extreme_tower',\n",
       " 'stress_limit_fatigue_tower',\n",
       " 'tower_bottom_diameter',\n",
       " 'tower_top_diameter',\n",
       " 'tsr',\n",
       " 'turbulence_int',\n",
       " 'wohler_exponent_blade_flap',\n",
       " 'wohler_exponent_tower']"
      ]
     },
     "execution_count": 17,
     "output_type": "execute_result",
     "metadata": {}
    }
   ],
   "source": [
    "out['dangling_params']"
   ]
  },
  {
   "cell_type": "code",
   "execution_count": null,
   "metadata": {},
   "outputs": [],
   "source": [
    ""
   ]
  }
 ],
 "metadata": {
  "kernelspec": {
   "display_name": "Python 3",
   "language": "python",
   "name": "python3"
  },
  "language_info": {
   "codemirror_mode": {
    "name": "ipython",
    "version": 3.0
   },
   "file_extension": ".py",
   "mimetype": "text/x-python",
   "name": "python",
   "nbconvert_exporter": "python",
   "pygments_lexer": "ipython3",
   "version": "3.5.0"
  }
 },
 "nbformat": 4,
 "nbformat_minor": 0
}