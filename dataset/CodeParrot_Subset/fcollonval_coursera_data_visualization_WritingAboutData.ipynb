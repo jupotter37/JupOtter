{
 "cells": [
  {
   "cell_type": "markdown",
   "metadata": {},
   "source": [
    "# Regression Modeling in Practice\n",
    "# Assignment: Writing about your data\n",
    "\n",
    "Here is my first assignment of the [Regression Modeling in Practice online course](https://www.coursera.org/learn/regression-modeling-practice).\n",
    "\n",
    "I decided to use [Jupyter Notebook](http://nbviewer.jupyter.org/github/ipython/ipython/blob/3.x/examples/Notebook/Index.ipynb) as it is a pretty way to write code and present results.\n",
    "\n",
    "## Research question\n",
    "\n",
    "Using the [Gapminder database](http://www.gapminder.org/), I would like to see if an increasing Internet usage results in an increasing suicide rate. A study shows that other factors like unemployment could have a great impact.\n",
    "\n",
    "So for this assignment, the three following variables will be analyzed:\n",
    "\n",
    "- Internet Usage Rate (per 100 people)\n",
    "- Suicide Rate (per 100 000 people)\n",
    "- Employment Rate (% of the population of age 15+)\n",
    "\n",
    "As the Gapminder database is an aggregation of data from different sources, I will described the data separately for the different variables."
   ]
  },
  {
   "cell_type": "markdown",
   "metadata": {},
   "source": [
    "## About my data\n",
    "\n",
    "### Sample\n",
    "\n",
    "The sample comes from the [Gapminder database](http://www.gapminder.org/) (http://www.gapminder.org/). This is a non-profit organization founded in Stockholm to promote sustainable global development in order to achieve the United Nations Millenium Development Goals.\n",
    "\n",
    "The data are gathered for 215 areas (192 UN members, Serbia and Montenegro being aggregated + 24 areas). But not all indicators are available for all countries.\n",
    "\n",
    "Although the database provides time series for all indicators on an yearly base, the sample used for this class uses data of a certain year depending on the indicator :\n",
    "\n",
    "- Internet Usage Rate (per 100 people): data used are for 2010\n",
    "- Suicide per 100 000 people: data used are for 2008\n",
    "- Employment rate for people of age 15+: data used are for 2007\n",
    "\n",
    "### Procedure\n",
    "\n",
    "The three indicators are collected by different organizations :\n",
    "\n",
    "- Internet Usage Rate (per 100 people):\n",
    "    - Data from the World Bank (http://databank.worldbank.org/data/home.aspx)\n",
    "    - The data are computed as the weighted average of different sources: International Telecommunication Union, World Telecommunication/ICT Development Report and database, and World Bank estimates.\n",
    "- Suicide per 100 000 people: data used are for 2008\n",
    "    - Data from the World Health Organization (WHO) (http://www.who.int/violence_injury_prevention/surveillance/databases/mortality/en/)\n",
    "    - The database is built on annual report by the 120 Member States from their civil registration systems. \n",
    "- Employment rate for people of age 15+: data used are for 2007\n",
    "    - Data from the International Labour Organization (ILO) (http://www.ilo.org/emppolicy/lang--en/index.htm)\n",
    "    - ILO publishes every two years since 1999, 18 key indicators of the labour market including the employment rate.\n",
    "    - The data were collected by different methods depending on the countries. The precise list is available there http://www.ilo.org/ilostat. Those methods are Population census, Official estimate, Administrative records, Population register, Household surveys, Labour force survey, Household income/expenditure survey or Other household survey.\n",
    "    \n",
    "### Measures\n",
    "\n",
    "All three indicators are constructed mainly on report from the member states.\n",
    "\n",
    "- The explanatory variable Internet Usage Rate (per 100 people):\n",
    "     - Definition : Internet users are defined as individuals who used the Internet int he last 12 months.\n",
    "     - Scale : 0 to 100\n",
    "     - Management : Suppression of countries with no-data provided\n",
    "- The response variable Suicide, age adjusted, per 100 000 people:\n",
    "    - Definition : Mortality due to self-inflicted injury, per 100 000 standard population, age adjusted. Combination of data from WHO Violence and Injury Prevention (VIP) and from WHO Global Burden of Disease.\n",
    "    - Scale : 0 to 100 000\n",
    "    - Management : Suppression of countries with no-data provided\n",
    "- Another explanatory variable Employment rate for people of age 15+:\n",
    "    - Definiton : Percentage of total population, age above 15, that has been employed during the given year.\n",
    "    - Scale : 0% to 100%\n",
    "    - Management : Suppression of countries with no-data provided\n"
   ]
  }
 ],
 "metadata": {
  "anaconda-cloud": {},
  "kernelspec": {
   "display_name": "Python [Root]",
   "language": "python",
   "name": "Python [Root]"
  },
  "language_info": {
   "codemirror_mode": {
    "name": "ipython",
    "version": 3
   },
   "file_extension": ".py",
   "mimetype": "text/x-python",
   "name": "python",
   "nbconvert_exporter": "python",
   "pygments_lexer": "ipython3",
   "version": "3.5.1"
  }
 },
 "nbformat": 4,
 "nbformat_minor": 0
}
