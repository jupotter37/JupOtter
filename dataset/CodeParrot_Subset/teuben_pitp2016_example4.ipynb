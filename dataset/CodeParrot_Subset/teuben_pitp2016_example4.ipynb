{
 "cells": [
  {
   "cell_type": "markdown",
   "metadata": {},
   "source": [
    "Even if your data is not strictly related to fields commonly used in\n",
    "astrophysical codes or your code is not supported yet, you can still feed it to\n",
    "yt to use its advanced visualization and analysis facilities. The only\n",
    "requirement is that your data can be represented as three-dimensional NumPy arrays with a consistent grid structure. What follows are some common examples of loading in generic array data that you may find useful. "
   ]
  },
  {
   "cell_type": "markdown",
   "metadata": {},
   "source": [
    "## Generic Unigrid Data"
   ]
  },
  {
   "cell_type": "markdown",
   "metadata": {},
   "source": [
    "The simplest case is that of a single grid of data spanning the domain, with one or more fields. The data could be generated from a variety of sources; we'll just give three common examples:"
   ]
  },
  {
   "cell_type": "markdown",
   "metadata": {},
   "source": [
    "### Data generated \"on-the-fly\""
   ]
  },
  {
   "cell_type": "markdown",
   "metadata": {},
   "source": [
    "The most common example is that of data that is generated in memory from the currently running script or notebook. "
   ]
  },
  {
   "cell_type": "code",
   "execution_count": null,
   "metadata": {
    "collapsed": true
   },
   "outputs": [],
   "source": [
    "import yt\n",
    "import numpy as np"
   ]
  },
  {
   "cell_type": "markdown",
   "metadata": {},
   "source": [
    "In this example, we'll just create a 3-D array of random floating-point data using NumPy:"
   ]
  },
  {
   "cell_type": "code",
   "execution_count": null,
   "metadata": {
    "collapsed": true
   },
   "outputs": [],
   "source": [
    "arr = np.random.random(size=(64,64,64))"
   ]
  },
  {
   "cell_type": "markdown",
   "metadata": {},
   "source": [
    "To load this data into yt, we need associate it with a field. The `data` dictionary consists of one or more fields, each consisting of a tuple of a NumPy array and a unit string. Then, we can call `load_uniform_grid`:"
   ]
  },
  {
   "cell_type": "code",
   "execution_count": null,
   "metadata": {
    "collapsed": false
   },
   "outputs": [],
   "source": [
    "data = dict(density = (arr, \"g/cm**3\"))\n",
    "bbox = np.array([[-1.5, 1.5], [-1.5, 1.5], [-1.5, 1.5]])\n",
    "ds = yt.load_uniform_grid(data, arr.shape, length_unit=\"Mpc\", bbox=bbox, nprocs=64)"
   ]
  },
  {
   "cell_type": "markdown",
   "metadata": {},
   "source": [
    "`load_uniform_grid` takes the following arguments and optional keywords:\n",
    "\n",
    "* `data` : This is a dict of numpy arrays, where the keys are the field names\n",
    "* `domain_dimensions` : The domain dimensions of the unigrid\n",
    "* `length_unit` : The unit that corresponds to `code_length`, can be a string, tuple, or floating-point number\n",
    "* `bbox` : Size of computational domain in units of `code_length`\n",
    "* `nprocs` : If greater than 1, will create this number of subarrays out of data\n",
    "* `sim_time` : The simulation time in seconds\n",
    "* `mass_unit` : The unit that corresponds to `code_mass`, can be a string, tuple, or floating-point number\n",
    "* `time_unit` : The unit that corresponds to `code_time`, can be a string, tuple, or floating-point number\n",
    "* `velocity_unit` : The unit that corresponds to `code_velocity`\n",
    "* `magnetic_unit` : The unit that corresponds to `code_magnetic`, i.e. the internal units used to represent magnetic field strengths.\n",
    "* `periodicity` : A tuple of booleans that determines whether the data will be treated as periodic along each axis\n",
    "\n",
    "This example creates a yt-native dataset `ds` that will treat your array as a\n",
    "density field in cubic domain of 3 Mpc edge size and simultaneously divide the \n",
    "domain into `nprocs` = 64 chunks, so that you can take advantage\n",
    "of the underlying parallelism. \n",
    "\n",
    "The optional unit keyword arguments allow for the default units of the dataset to be set. They can be:\n",
    "* A string, e.g. `length_unit=\"Mpc\"`\n",
    "* A tuple, e.g. `mass_unit=(1.0e14, \"Msun\")`\n",
    "* A floating-point value, e.g. `time_unit=3.1557e13`\n",
    "\n",
    "In the latter case, the unit is assumed to be cgs. \n",
    "\n",
    "The resulting `ds` functions exactly like a dataset like any other yt can handle--it can be sliced, and we can show the grid boundaries:"
   ]
  },
  {
   "cell_type": "code",
   "execution_count": null,
   "metadata": {
    "collapsed": false
   },
   "outputs": [],
   "source": [
    "slc = yt.SlicePlot(ds, \"z\", [\"density\"])\n",
    "slc.set_cmap(\"density\", \"Blues\")\n",
    "slc.annotate_grids(cmap=None)\n",
    "slc.show()"
   ]
  },
  {
   "cell_type": "markdown",
   "metadata": {},
   "source": [
    "Particle fields are detected as one-dimensional fields. The number of\n",
    "particles is set by the `number_of_particles` key in\n",
    "`data`. Particle fields are then added as one-dimensional arrays in\n",
    "a similar manner as the three-dimensional grid fields:"
   ]
  },
  {
   "cell_type": "code",
   "execution_count": null,
   "metadata": {
    "collapsed": false
   },
   "outputs": [],
   "source": [
    "posx_arr = np.random.uniform(low=-1.5, high=1.5, size=10000)\n",
    "posy_arr = np.random.uniform(low=-1.5, high=1.5, size=10000)\n",
    "posz_arr = np.random.uniform(low=-1.5, high=1.5, size=10000)\n",
    "data = dict(density = (np.random.random(size=(64,64,64)), \"Msun/kpc**3\"), \n",
    "            number_of_particles = 10000,\n",
    "            particle_position_x = (posx_arr, 'code_length'), \n",
    "            particle_position_y = (posy_arr, 'code_length'),\n",
    "            particle_position_z = (posz_arr, 'code_length'))\n",
    "bbox = np.array([[-1.5, 1.5], [-1.5, 1.5], [-1.5, 1.5]])\n",
    "ds = yt.load_uniform_grid(data, data[\"density\"][0].shape, length_unit=(1.0, \"Mpc\"), mass_unit=(1.0,\"Msun\"), \n",
    "                       bbox=bbox, nprocs=4)"
   ]
  },
  {
   "cell_type": "markdown",
   "metadata": {},
   "source": [
    "In this example only the particle position fields have been assigned. `number_of_particles` must be the same size as the particle\n",
    "arrays. If no particle arrays are supplied then `number_of_particles` is assumed to be zero. Take a slice, and overlay particle positions:"
   ]
  },
  {
   "cell_type": "code",
   "execution_count": null,
   "metadata": {
    "collapsed": false
   },
   "outputs": [],
   "source": [
    "slc = yt.SlicePlot(ds, \"z\", [\"density\"])\n",
    "slc.set_cmap(\"density\", \"Blues\")\n",
    "slc.annotate_particles(0.25, p_size=12.0, col=\"Red\")\n",
    "slc.show()"
   ]
  },
  {
   "cell_type": "markdown",
   "metadata": {},
   "source": [
    "## Generic AMR Data"
   ]
  },
  {
   "cell_type": "markdown",
   "metadata": {},
   "source": [
    "In a similar fashion to unigrid data, data gridded into rectangular patches at varying levels of resolution may also be loaded into yt. In this case, a list of grid dictionaries should be provided, with the requisite information about each grid's properties. This example sets up two grids: a top-level grid (`level == 0`) covering the entire domain and a subgrid at `level == 1`. "
   ]
  },
  {
   "cell_type": "code",
   "execution_count": null,
   "metadata": {
    "collapsed": true
   },
   "outputs": [],
   "source": [
    "grid_data = [\n",
    "    dict(left_edge = [0.0, 0.0, 0.0],\n",
    "         right_edge = [1.0, 1.0, 1.0],\n",
    "         level = 0,\n",
    "         dimensions = [32, 32, 32]), \n",
    "    dict(left_edge = [0.25, 0.25, 0.25],\n",
    "         right_edge = [0.75, 0.75, 0.75],\n",
    "         level = 1,\n",
    "         dimensions = [32, 32, 32])\n",
    "   ]"
   ]
  },
  {
   "cell_type": "markdown",
   "metadata": {},
   "source": [
    "We'll just fill each grid with random density data, with a scaling with the grid refinement level."
   ]
  },
  {
   "cell_type": "code",
   "execution_count": null,
   "metadata": {
    "collapsed": true
   },
   "outputs": [],
   "source": [
    "for g in grid_data: \n",
    "    g[\"density\"] = (np.random.random(g[\"dimensions\"]) * 2**g[\"level\"], \"g/cm**3\")"
   ]
  },
  {
   "cell_type": "markdown",
   "metadata": {},
   "source": [
    "Particle fields are supported by adding 1-dimensional arrays to each `grid` and\n",
    "setting the `number_of_particles` key in each `grid`'s dict. If a grid has no particles, set `number_of_particles = 0`, but the particle fields still have to be defined since they are defined elsewhere; set them to empty NumPy arrays:"
   ]
  },
  {
   "cell_type": "code",
   "execution_count": null,
   "metadata": {
    "collapsed": true
   },
   "outputs": [],
   "source": [
    "grid_data[0][\"number_of_particles\"] = 0 # Set no particles in the top-level grid\n",
    "grid_data[0][\"particle_position_x\"] = (np.array([]), \"code_length\") # No particles, so set empty arrays\n",
    "grid_data[0][\"particle_position_y\"] = (np.array([]), \"code_length\")\n",
    "grid_data[0][\"particle_position_z\"] = (np.array([]), \"code_length\")\n",
    "grid_data[1][\"number_of_particles\"] = 1000\n",
    "grid_data[1][\"particle_position_x\"] = (np.random.uniform(low=0.25, high=0.75, size=1000), \"code_length\")\n",
    "grid_data[1][\"particle_position_y\"] = (np.random.uniform(low=0.25, high=0.75, size=1000), \"code_length\")\n",
    "grid_data[1][\"particle_position_z\"] = (np.random.uniform(low=0.25, high=0.75, size=1000), \"code_length\")"
   ]
  },
  {
   "cell_type": "markdown",
   "metadata": {},
   "source": [
    "Then, call `load_amr_grids`:"
   ]
  },
  {
   "cell_type": "code",
   "execution_count": null,
   "metadata": {
    "collapsed": false
   },
   "outputs": [],
   "source": [
    "ds = yt.load_amr_grids(grid_data, [32, 32, 32])"
   ]
  },
  {
   "cell_type": "markdown",
   "metadata": {},
   "source": [
    "`load_amr_grids` also takes the same keywords `bbox` and `sim_time` as `load_uniform_grid`. We could have also specified the length, time, velocity, and mass units in the same manner as before. Let's take a slice:"
   ]
  },
  {
   "cell_type": "code",
   "execution_count": null,
   "metadata": {
    "collapsed": false
   },
   "outputs": [],
   "source": [
    "slc = yt.SlicePlot(ds, \"z\", [\"density\"])\n",
    "slc.annotate_particles(0.25, p_size=15.0, col=\"Pink\")\n",
    "slc.show()"
   ]
  },
  {
   "cell_type": "markdown",
   "metadata": {},
   "source": [
    "## Caveats for Loading Generic Array Data"
   ]
  },
  {
   "cell_type": "markdown",
   "metadata": {},
   "source": [
    "* Particles may be difficult to integrate.\n",
    "* Data must already reside in memory before loading it in to yt, whether it is generated at runtime or loaded from disk. \n",
    "* Some functions may behave oddly, and parallelism will be disappointing or non-existent in most cases.\n",
    "* No consistency checks are performed on the hierarchy\n",
    "* Consistency between particle positions and grids is not checked; `load_amr_grids` assumes that particle positions associated with one grid are not bounded within another grid at a higher level, so this must be ensured by the user prior to loading the grid data. "
   ]
  }
 ],
 "metadata": {
  "kernelspec": {
   "display_name": "Python 3",
   "language": "python",
   "name": "python3"
  },
  "language_info": {
   "codemirror_mode": {
    "name": "ipython",
    "version": 3
   },
   "file_extension": ".py",
   "mimetype": "text/x-python",
   "name": "python",
   "nbconvert_exporter": "python",
   "pygments_lexer": "ipython3",
   "version": "3.5.2"
  }
 },
 "nbformat": 4,
 "nbformat_minor": 0
}
