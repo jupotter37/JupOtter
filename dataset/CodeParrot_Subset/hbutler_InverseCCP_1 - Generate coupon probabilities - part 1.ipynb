{
 "cells": [
  {
   "cell_type": "code",
   "execution_count": 1,
   "metadata": {
    "collapsed": true
   },
   "outputs": [],
   "source": [
    "%matplotlib inline\n",
    "import numpy as np\n",
    "import scipy.stats as stat\n",
    "from matplotlib import pyplot as plt"
   ]
  },
  {
   "cell_type": "markdown",
   "metadata": {},
   "source": [
    "##Calculating a Distribution for the Inverse Coupon Collector's Problem With Non-Uniform Coupon Probabilities\n",
    "To find results for the InverseCCP via simulation, we actually need to simulate the regular CCP with non-uniform probabilities and logging the results.  By \"transposing\" the results into a lookup table, we will see the results for the InverseCCP.  We can't simulate an InverseCCP directly because we don't know how.\n",
    "\n",
    "###Generating Uniform Probabilities\n",
    "The probability of collecting a coupon from a collection of $n$ coupons where all coupons have the same uniform probabilitiy is just $\\frac{1}{n}$.  There is little ambiguity about what that means and it is easily interpreted and understood how this probability is generated.  But how does this translate to a non-uniform probability distribution such as a normal distribution?\n",
    "\n",
    "###Generating Normal Probabilities\n",
    "To create a simulation of the coupon collector's problem with non-uniform probabilities, we must first agree on how to generate non-uniform probabilities. If I say that I have a coupon collector's problem where the probabilities obey a normal distribution, what does that really mean?  Intuitively, I think that means that most coupons have a similar probability of collection, while a few have a much lower than normal probability of collection, and a few others have a much higher probability of collection.  But I struggle with what that actually means with an inherently finite problem.  Normal distributions have non-zero probabilities on the open interval ($-\\infty$ to $+\\infty$), but we only have a finite number of coupons.  Also, normal distributions are continuous, and we only allow integers as inputs to our probability function.  How do we deal with this?  I really think that normal distributions are the most applicable to the coupon collector's problem aside from the uniform distribution, but I can't move forward until we formalize what is intuitively understood.  Also, the answers we come up with for normal distributions will likely translate to other distributions that are popular but not discrete such as exponential distributions.\n",
    "\n",
    "##Option 1: Binomial Approximation\n",
    "One way is to generate a binomial approximation (with $p=0.5$) of the normal distribution.  This has the advantage of already being computed, and there is an $n$ embedded in the calculations so the total coupon probabilties will sum to 1 (a requirement since we assume that there is no option to collect something outside of the set of $n$ coupons).  The downside is that this doesn't actually translate well to other distributions and there is no way to adjust the standard deviation like you can with a true normal distribution (changing $p$ shifts the centrality of the distribution along with the standard deviation).  It also doesn't make as much sense because the binomial distribution already has a well defined definition (the number of successes in a sequence of $n$ independent yes/no experiments, each of which yields success with probability p) that doesn't really mesh with how we are thinking of this problem.  Anyway, an example application of this option would look like this with $n=20$ coupons.  This is actually generated with a percent point function (quantile function), and then scaled to make everything sum to 1 (this contradicts one of my earlier statements about the \"advantage\" of this method, but it works).  This makes something that fits with my intuition of \"normal.\"  Most coupons have a probability between 0.04 and 0.06, with a few above or below that range."
   ]
  },
  {
   "cell_type": "code",
   "execution_count": 2,
   "metadata": {
    "collapsed": false
   },
   "outputs": [
    {
     "name": "stdout",
     "output_type": "stream",
     "text": [
      "mean prob = 0.0500000000000000 , sum of all probs = 1.0000000000000000\n"
     ]
    },
    {
     "data": {
      "text/plain": [
       "[0, 20, 0, 0.1]"
      ]
     },
     "execution_count": 2,
     "metadata": {},
     "output_type": "execute_result"
    },
    {
     "data": {
      "image/png": "[encoded data removed]",
      "text/plain": [
       "<matplotlib.figure.Figure at 0x70e74e0>"
      ]
     },
     "metadata": {},
     "output_type": "display_data"
    }
   ],
   "source": [
    "n = 20 #number of coupons\n",
    "p = 0.5 #this is to make the distribution central, where most coupons are middle of the road probabilities\n",
    "x = np.arange(n)+0.5 #arange goes from 0 to n-1, and I want it to go from 1 to n\n",
    "p_x = stat.binom.ppf(x/n, n, p) # ouptputs whole numbers because it's a discrete distribution\n",
    "p_x = p_x/np.sum(p_x) # change whole numbers into \n",
    "print('mean prob = %1.16f' % np.mean(p_x), ', sum of all probs = %1.16f' % np.sum(p_x) )\n",
    "plt.bar(x, p_x, align='center')\n",
    "plt.axis([0,n,0,2/n])"
   ]
  },
  {
   "cell_type": "markdown",
   "metadata": {},
   "source": [
    "##Option 2: Normal Distribution\n",
    "After playing with the ppf of the last example, I think I know how to find a consistent way to create coupon probabilites that intuitively fits a normal distribution.  Look at the notebook for GenerateProbsPart2 for this option."
   ]
  }
 ],
 "metadata": {
  "kernelspec": {
   "display_name": "Python 3",
   "language": "python",
   "name": "python3"
  },
  "language_info": {
   "codemirror_mode": {
    "name": "ipython",
    "version": 3
   },
   "file_extension": ".py",
   "mimetype": "text/x-python",
   "name": "python",
   "nbconvert_exporter": "python",
   "pygments_lexer": "ipython3",
   "version": "3.4.3"
  }
 },
 "nbformat": 4,
 "nbformat_minor": 0
}
