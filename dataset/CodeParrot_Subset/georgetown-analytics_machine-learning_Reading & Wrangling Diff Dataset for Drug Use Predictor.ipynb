{
 "cells": [
  {
   "cell_type": "markdown",
   "metadata": {},
   "source": [
    "### Reading in and wrangling a completely different dataset to use for the Drug Use Predictor\n",
    "\n",
    "Notebook Author: Melissa Burn\\\n",
    "Georgetown University School of Continuing Studies, Certificate in Data Science, Cohort 11 (Spring 2018)\n",
    "\n",
    "Data Source: \n",
    "- Johnson's IPIP-NEO data repository\n",
    "- Contributors: John Anthony Johnson\n",
    "- Date created: 2015-09-22 04:21 PM | Last Updated: 2015-11-04 06:25 PM\n",
    "- Description: This project makes available information about International Personality Item Pool (IPIP) versions of the NEO Personality Inventory.\n",
    "- URL: https://osf.io/sxeq5/ \n",
    "\n",
    "Specific dataset used: Data from the Johnson (2005) JRP study and documentation for those files. File ipip20993.dat contains 20,993 cases of item responses to the IPIP-NEO-300 in ASCII format. The file also contains facet and domain scale scores and two measures of intra-individual reliability described in the publication. Variables are listed at the top of the file. ipip20993.doc is a Word.doc description of the dataset\n",
    "\n",
    "Note that, prior to reading into this Notebook, I opened the ASCII file in Excel, took the top 3K some instances and discarded the rest. I deleted 300+ columns I didn't need, added an ID column, and adopted the IMMODERA and EXCITE columns as stand-ins for \"Impulsiveness\" and \"Sensation Seeking\". The columns will be renamed below."
   ]
  },
  {
   "cell_type": "code",
   "execution_count": 10,
   "metadata": {},
   "outputs": [],
   "source": [
    "import numpy as np\n",
    "import pandas as pd\n",
    "from numpy import random\n",
    "from random import randint\n",
    "\n",
    "pd.options.mode.chained_assignment = None  # get rid of this pesky warning; default='warn'"
   ]
  },
  {
   "cell_type": "markdown",
   "metadata": {},
   "source": [
    "### Project Workflow\n",
    "\n",
    "This Notebook moves through the following steps to ingest, sort, and wrangle the dataset so it fits into the Drug Use Predictor model:\n",
    "1. Ingest the required xlsx data into a dataframe\n",
    "2. Wrangle the data to provide the right format and column structure, keeping the age, gender and personality test scores\n",
    "3. Use a random number generator to any features needed for the Drug Use Predictor that don't exist in the Johnson dataset\n",
    "\n",
    "### Data Ingestion\n",
    "\n",
    "Grab the dataset from the data subdirectory"
   ]
  },
  {
   "cell_type": "code",
   "execution_count": 25,
   "metadata": {},
   "outputs": [
    {
     "data": {
      "text/html": [
       "<div>\n",
       "<style scoped>\n",
       "    .dataframe tbody tr th:only-of-type {\n",
       "        vertical-align: middle;\n",
       "    }\n",
       "\n",
       "    .dataframe tbody tr th {\n",
       "        vertical-align: top;\n",
       "    }\n",
       "\n",
       "    .dataframe thead th {\n",
       "        text-align: right;\n",
       "    }\n",
       "</style>\n",
       "<table border=\"1\" class=\"dataframe\">\n",
       "  <thead>\n",
       "    <tr style=\"text-align: right;\">\n",
       "      <th></th>\n",
       "      <th>ID</th>\n",
       "      <th>AGE</th>\n",
       "      <th>GENDER</th>\n",
       "      <th>NS</th>\n",
       "      <th>ES</th>\n",
       "      <th>OS</th>\n",
       "      <th>AS</th>\n",
       "      <th>CS</th>\n",
       "      <th>IMMODERA</th>\n",
       "      <th>EXCITE</th>\n",
       "    </tr>\n",
       "  </thead>\n",
       "  <tbody>\n",
       "    <tr>\n",
       "      <th>0</th>\n",
       "      <td>1</td>\n",
       "      <td>37</td>\n",
       "      <td>2</td>\n",
       "      <td>122</td>\n",
       "      <td>158</td>\n",
       "      <td>251</td>\n",
       "      <td>204</td>\n",
       "      <td>266</td>\n",
       "      <td>33</td>\n",
       "      <td>15</td>\n",
       "    </tr>\n",
       "    <tr>\n",
       "      <th>1</th>\n",
       "      <td>2</td>\n",
       "      <td>31</td>\n",
       "      <td>2</td>\n",
       "      <td>130</td>\n",
       "      <td>162</td>\n",
       "      <td>256</td>\n",
       "      <td>241</td>\n",
       "      <td>218</td>\n",
       "      <td>13</td>\n",
       "      <td>28</td>\n",
       "    </tr>\n",
       "    <tr>\n",
       "      <th>2</th>\n",
       "      <td>3</td>\n",
       "      <td>24</td>\n",
       "      <td>2</td>\n",
       "      <td>127</td>\n",
       "      <td>161</td>\n",
       "      <td>229</td>\n",
       "      <td>221</td>\n",
       "      <td>244</td>\n",
       "      <td>26</td>\n",
       "      <td>16</td>\n",
       "    </tr>\n",
       "    <tr>\n",
       "      <th>3</th>\n",
       "      <td>4</td>\n",
       "      <td>23</td>\n",
       "      <td>2</td>\n",
       "      <td>158</td>\n",
       "      <td>241</td>\n",
       "      <td>225</td>\n",
       "      <td>244</td>\n",
       "      <td>168</td>\n",
       "      <td>39</td>\n",
       "      <td>40</td>\n",
       "    </tr>\n",
       "    <tr>\n",
       "      <th>4</th>\n",
       "      <td>5</td>\n",
       "      <td>33</td>\n",
       "      <td>2</td>\n",
       "      <td>186</td>\n",
       "      <td>189</td>\n",
       "      <td>232</td>\n",
       "      <td>227</td>\n",
       "      <td>230</td>\n",
       "      <td>30</td>\n",
       "      <td>24</td>\n",
       "    </tr>\n",
       "  </tbody>\n",
       "</table>\n",
       "</div>"
      ],
      "text/plain": [
       "   ID  AGE  GENDER   NS   ES   OS   AS   CS  IMMODERA  EXCITE\n",
       "0   1   37       2  122  158  251  204  266        33      15\n",
       "1   2   31       2  130  162  256  241  218        13      28\n",
       "2   3   24       2  127  161  229  221  244        26      16\n",
       "3   4   23       2  158  241  225  244  168        39      40\n",
       "4   5   33       2  186  189  232  227  230        30      24"
      ]
     },
     "execution_count": 25,
     "metadata": {},
     "output_type": "execute_result"
    }
   ],
   "source": [
    "data = pd.read_excel('data/Johnson_ipip3K_partial.xlsx') \n",
    "data.head()"
   ]
  },
  {
   "cell_type": "code",
   "execution_count": 26,
   "metadata": {},
   "outputs": [],
   "source": [
    "# There's an order of magnitude difference in the scale of the numbers and df needs normalizing\n",
    "import sklearn\n",
    "from sklearn import preprocessing"
   ]
  },
  {
   "cell_type": "code",
   "execution_count": 37,
   "metadata": {},
   "outputs": [
    {
     "name": "stdout",
     "output_type": "stream",
     "text": [
      "                 ID          AGE       GENDER           NS           ES  \\\n",
      "count  3.167000e+03  3167.000000  3167.000000  3167.000000  3167.000000   \n",
      "mean   1.158250e-16    -1.754436     0.707610    -0.070051     0.396142   \n",
      "std    1.732871e+00     0.800656     2.915814     1.024715     0.946197   \n",
      "min   -3.000000e+00    -3.000000    -3.000000    -3.000000    -3.000000   \n",
      "25%   -1.500000e+00    -2.400000    -3.000000    -0.773756    -0.270142   \n",
      "50%    0.000000e+00    -2.025000     3.000000    -0.149321     0.440758   \n",
      "75%    1.500000e+00    -1.350000     3.000000     0.610860     1.094787   \n",
      "max    3.000000e+00     3.000000     3.000000     3.000000     3.000000   \n",
      "\n",
      "                OS           AS           CS     IMMODERA       EXCITE  \n",
      "count  3167.000000  3167.000000  3167.000000  3167.000000  3167.000000  \n",
      "mean      0.497913     0.904180     0.388287     0.317141     0.318330  \n",
      "std       0.964612     0.884711     0.965160     1.088756     1.215007  \n",
      "min      -3.000000    -3.000000    -3.000000    -3.000000    -3.000000  \n",
      "25%      -0.127273     0.350254    -0.264249    -0.384615    -0.600000  \n",
      "50%       0.527273     0.959391     0.419689     0.230769     0.300000  \n",
      "75%       1.181818     1.507614     1.072539     1.153846     1.200000  \n",
      "max       3.000000     3.000000     3.000000     3.000000     3.000000  \n"
     ]
    }
   ],
   "source": [
    "# I have learned that preprocessing strips the column headings, so create a working array\n",
    "X = np.array(data)\n",
    "X = X.astype(np.float64)\n",
    "\n",
    "# Scale the data in the range of the UCI dataset\n",
    "X = preprocessing.minmax_scale(X, feature_range=(-3,3)) \n",
    "\n",
    "# Make a df again and restore the headings\n",
    "df = pd.DataFrame(X, columns = data.columns)\n",
    "print(df.describe())"
   ]
  },
  {
   "cell_type": "code",
   "execution_count": 38,
   "metadata": {},
   "outputs": [
    {
     "name": "stdout",
     "output_type": "stream",
     "text": [
      "3167 instances with 10 features\n",
      "\n"
     ]
    }
   ],
   "source": [
    "# Aaack! How do I avoid scaling the index? I couldn't find the answer through much googling\n",
    "\n",
    "# Below is the features list I need. So, I'll have to invent data for the missing columns\n",
    "# Note, this isn't the same order as in the UCI database but that shouldn't matter\n",
    "\n",
    "FEATURES  = [\n",
    "    \"ID\", # May not be used to identify respondents\n",
    "    \"Age\", # 18-24, 25-34, 35-44, 45-54, 55-64, 65+\n",
    "    \"Gender\", # Female, Male\n",
    "    \"NS\",  # Neuroticism Score\n",
    "    \"ES\",  # Extroversion Score\n",
    "    \"OS\",  # Openness to experience Score\n",
    "    \"AS\",  # Agreeableness Score\n",
    "    \"CS\",  # Conscientiousness Score\n",
    "    \"Imp\", # Impulsivity, Lickert scale with -3 = least impulsive, +3 = most impulsive\n",
    "    \"SS\",  # Sensation seeking, part of the Impulsiveness assessment, -3 < score > +3\n",
    "    \"Cntry\", # Country: AUS, CAN, NZ, Other, IRE, UK, USA\n",
    "    \"Educ\", # Left before age 16, left @ 16, @ 17, @ 18, some college, prof cert, univ degree, masters, doctorate\n",
    "    \"Ethn\", # Ethnicity: Asian, Black, Mixed Bla/As, Mixed Whi/As, Mixed Whi/Bla, Other\n",
    "    \"Alcohol\", # Class of alcohol consumption\n",
    "    \"Caffeine\", # Class of caffeine consumption\n",
    "    \"Choco\", # Class of chocolate consumption\n",
    "    \"Nicotine\", # Class of nicotine consumption\n",
    "]\n",
    "\n",
    "print(\"{} instances with {} features\\n\".format(*df.shape))"
   ]
  },
  {
   "cell_type": "code",
   "execution_count": 39,
   "metadata": {},
   "outputs": [
    {
     "name": "stdout",
     "output_type": "stream",
     "text": [
      "                 ID          Age       Gender           NS           ES  \\\n",
      "count  3.167000e+03  3167.000000  3167.000000  3167.000000  3167.000000   \n",
      "mean   1.158250e-16    -1.754436     0.707610    -0.070051     0.396142   \n",
      "std    1.732871e+00     0.800656     2.915814     1.024715     0.946197   \n",
      "min   -3.000000e+00    -3.000000    -3.000000    -3.000000    -3.000000   \n",
      "25%   -1.500000e+00    -2.400000    -3.000000    -0.773756    -0.270142   \n",
      "50%    0.000000e+00    -2.025000     3.000000    -0.149321     0.440758   \n",
      "75%    1.500000e+00    -1.350000     3.000000     0.610860     1.094787   \n",
      "max    3.000000e+00     3.000000     3.000000     3.000000     3.000000   \n",
      "\n",
      "                OS           AS           CS          Imp           SS  \n",
      "count  3167.000000  3167.000000  3167.000000  3167.000000  3167.000000  \n",
      "mean      0.497913     0.904180     0.388287     0.317141     0.318330  \n",
      "std       0.964612     0.884711     0.965160     1.088756     1.215007  \n",
      "min      -3.000000    -3.000000    -3.000000    -3.000000    -3.000000  \n",
      "25%      -0.127273     0.350254    -0.264249    -0.384615    -0.600000  \n",
      "50%       0.527273     0.959391     0.419689     0.230769     0.300000  \n",
      "75%       1.181818     1.507614     1.072539     1.153846     1.200000  \n",
      "max       3.000000     3.000000     3.000000     3.000000     3.000000  \n"
     ]
    }
   ],
   "source": [
    "# Rename the two columns I'm adopting to match the Drug Use Predictor format, and correct upper/lower of others\n",
    "df.rename(columns={'IMMODERA': 'Imp', 'EXCITE': 'SS', 'AGE':'Age', 'GENDER':'Gender'}, inplace=True)\n",
    "\n",
    "# Take a look at the data again\n",
    "print(df.describe())"
   ]
  },
  {
   "cell_type": "code",
   "execution_count": 40,
   "metadata": {},
   "outputs": [
    {
     "name": "stdout",
     "output_type": "stream",
     "text": [
      "                 ID          Age       Gender           NS           ES  \\\n",
      "count  3.167000e+03  3167.000000  3167.000000  3167.000000  3167.000000   \n",
      "mean   1.158250e-16    -1.754436     0.707610    -0.070051     0.396142   \n",
      "std    1.732871e+00     0.800656     2.915814     1.024715     0.946197   \n",
      "min   -3.000000e+00    -3.000000    -3.000000    -3.000000    -3.000000   \n",
      "25%   -1.500000e+00    -2.400000    -3.000000    -0.773756    -0.270142   \n",
      "50%    0.000000e+00    -2.025000     3.000000    -0.149321     0.440758   \n",
      "75%    1.500000e+00    -1.350000     3.000000     0.610860     1.094787   \n",
      "max    3.000000e+00     3.000000     3.000000     3.000000     3.000000   \n",
      "\n",
      "                OS           AS           CS          Imp           SS  \\\n",
      "count  3167.000000  3167.000000  3167.000000  3167.000000  3167.000000   \n",
      "mean      0.497913     0.904180     0.388287     0.317141     0.318330   \n",
      "std       0.964612     0.884711     0.965160     1.088756     1.215007   \n",
      "min      -3.000000    -3.000000    -3.000000    -3.000000    -3.000000   \n",
      "25%      -0.127273     0.350254    -0.264249    -0.384615    -0.600000   \n",
      "50%       0.527273     0.959391     0.419689     0.230769     0.300000   \n",
      "75%       1.181818     1.507614     1.072539     1.153846     1.200000   \n",
      "max       3.000000     3.000000     3.000000     3.000000     3.000000   \n",
      "\n",
      "        Cntry         Educ         Ethn      Alcohol     Caffeine  \\\n",
      "count  3167.0  3167.000000  3167.000000  3167.000000  3167.000000   \n",
      "mean      3.0    -3.053803    -2.924421    -3.033622    -2.971994   \n",
      "std       0.0     2.983656     2.990705     2.931054     2.983613   \n",
      "min       3.0   -12.396163   -13.860629   -12.442075   -11.750012   \n",
      "25%       3.0    -5.097133    -4.971756    -5.036436    -5.084885   \n",
      "50%       3.0    -3.098763    -2.904049    -3.066110    -2.887685   \n",
      "75%       3.0    -1.010245    -0.928653    -1.061128    -0.970281   \n",
      "max       3.0     6.315914     8.225119     6.344689     6.682071   \n",
      "\n",
      "             Choco     Nicotine  \n",
      "count  3167.000000  3167.000000  \n",
      "mean     -2.990313    -2.941755  \n",
      "std       3.004880     3.022518  \n",
      "min     -14.382956   -13.050001  \n",
      "25%      -4.981528    -4.993154  \n",
      "50%      -3.072716    -2.957549  \n",
      "75%      -0.972593    -0.845246  \n",
      "max       8.767262     6.877888  \n"
     ]
    }
   ],
   "source": [
    "# I'll make all these people Americans for Cntry = 3\n",
    "df['Cntry'] = 3\n",
    "\n",
    "# Perhaps because I'm using .loc, it needs me to establish the other feature columns in advance\n",
    "df['Educ'] = 0\n",
    "df['Ethn'] = 0\n",
    "df['Alcohol'] = 0\n",
    "df['Caffeine'] = 0\n",
    "df['Choco'] = 0\n",
    "df['Nicotine'] = 0\n",
    "\n",
    "# Now I need to generate data for the Educ, Ethn, Alcohol, Caffeine, Choco, and Nicotine features\n",
    "# HOWEVER, it will help to ensure they're the same scale as the other data in the df\n",
    "for i in df.index.values:\n",
    "    df.loc[[i],['Educ']] = np.random.normal(-3, 3)\n",
    "    df.loc[[i],['Ethn']] = np.random.normal(-3, 3)\n",
    "    df.loc[[i],['Alcohol']] = np.random.normal(-3, 3)\n",
    "    df.loc[[i],['Caffeine']] = np.random.normal(-3, 3)\n",
    "    df.loc[[i],['Choco']] = np.random.normal(-3, 3)\n",
    "    df.loc[[i],['Nicotine']] = np.random.normal(-3, 3)\n",
    "\n",
    "print(df.describe())"
   ]
  },
  {
   "cell_type": "code",
   "execution_count": 41,
   "metadata": {},
   "outputs": [],
   "source": [
    "# Now, save this df in a file that can be read by the Drug Use Predictor\n",
    "df.to_csv('data/Johnny_data_out.csv', index=False)"
   ]
  },
  {
   "cell_type": "code",
   "execution_count": null,
   "metadata": {},
   "outputs": [],
   "source": []
  }
 ],
 "metadata": {
  "kernelspec": {
   "display_name": "Python 3",
   "language": "python",
   "name": "python3"
  },
  "language_info": {
   "codemirror_mode": {
    "name": "ipython",
    "version": 3
   },
   "file_extension": ".py",
   "mimetype": "text/x-python",
   "name": "python",
   "nbconvert_exporter": "python",
   "pygments_lexer": "ipython3",
   "version": "3.6.4"
  }
 },
 "nbformat": 4,
 "nbformat_minor": 2
}
