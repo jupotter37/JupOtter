{
 "cells": [
  {
   "cell_type": "markdown",
   "metadata": {},
   "source": [
    "## Resources.\n",
    "\n",
    "* [primer on geojson data in MongoDB](http://blog.mlab.com/2014/08/a-primer-on-geospatial-data-and-mongodb/)\n",
    "* > Many languages have native libraries that make working with GeoJSON data easier. For example, Python has the [“geojson”](https://pypi.python.org/pypi/geojson/) library that contains classes for all GeoJSON objects and functions for easily creating, encoding, and decoding GeoJSON objects."
   ]
  }
 ],
 "metadata": {
  "kernelspec": {
   "display_name": "Python 3",
   "language": "python",
   "name": "python3"
  },
  "language_info": {
   "codemirror_mode": {
    "name": "ipython",
    "version": 3
   },
   "file_extension": ".py",
   "mimetype": "text/x-python",
   "name": "python",
   "nbconvert_exporter": "python",
   "pygments_lexer": "ipython3",
   "version": "3.4.3"
  }
 },
 "nbformat": 4,
 "nbformat_minor": 0
}
