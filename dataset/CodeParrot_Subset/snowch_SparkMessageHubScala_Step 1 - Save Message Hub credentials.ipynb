{
 "cells": [
  {
   "cell_type": "markdown",
   "metadata": {},
   "source": [
    "This Message Hub example project relies on Message Hub credentials being stored in a file called **vcap.json** locally.\n",
    "\n",
    "Edit the cell below to set the following variables:\n",
    "    \n",
    " - kafka_brokers_sasl\n",
    " - user\n",
    " - password\n",
    "\n",
    "The above values can be found by:\n",
    "    \n",
    " 1. Login to the Bluemix console\n",
    " 2. Navigating to your Message Hub service instance\n",
    " 3. Click on service credentials\n",
    " 4. Click on view credentials\n",
    " \n",
    "Finally create a Message Hub topic, and set the following variable:\n",
    " \n",
    " - topic\n",
    " \n",
    "After setting up the variables below, Run the cell to save your credentials."
   ]
  },
  {
   "cell_type": "code",
   "execution_count": null,
   "metadata": {
    "collapsed": false
   },
   "outputs": [],
   "source": [
    "%%bash\n",
    "\n",
    "# save our credential details for kafka\n",
    "cat << EOF > vcap.json\n",
    "{\n",
    "  \"kafka_brokers_sasl\": [\n",
    "    \"kafka05-prod01.messagehub.services.us-south.bluemix.net:9093\",\n",
    "    \"kafka03-prod01.messagehub.services.us-south.bluemix.net:9093\",\n",
    "    \"kafka04-prod01.messagehub.services.us-south.bluemix.net:9093\",\n",
    "    \"kafka01-prod01.messagehub.services.us-south.bluemix.net:9093\",\n",
    "    \"kafka02-prod01.messagehub.services.us-south.bluemix.net:9093\"\n",
    "  ],\n",
    "  \"user\": \"changeme\",\n",
    "  \"password\": \"changeme\",\n",
    "  \"topic\": \"changeme\"\n",
    "}\n",
    "EOF"
   ]
  }
 ],
 "metadata": {
  "kernelspec": {
   "display_name": "Python 2 with Spark 1.6",
   "language": "python",
   "name": "python2"
  },
  "language_info": {
   "codemirror_mode": {
    "name": "ipython",
    "version": 2
   },
   "file_extension": ".py",
   "mimetype": "text/x-python",
   "name": "python",
   "nbconvert_exporter": "python",
   "pygments_lexer": "ipython2",
   "version": "2.7.11"
  }
 },
 "nbformat": 4,
 "nbformat_minor": 0
}