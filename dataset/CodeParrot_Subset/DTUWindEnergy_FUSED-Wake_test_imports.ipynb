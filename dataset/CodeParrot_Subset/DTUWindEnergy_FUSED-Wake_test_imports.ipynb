{
 "cells": [
  {
   "cell_type": "code",
   "execution_count": 1,
   "metadata": {
    "collapsed": false
   },
   "outputs": [],
   "source": [
    "import fusedwake.gcl as gcl"
   ]
  },
  {
   "cell_type": "code",
   "execution_count": 2,
   "metadata": {
    "collapsed": true
   },
   "outputs": [],
   "source": [
    "import fusedwake"
   ]
  },
  {
   "cell_type": "code",
   "execution_count": 3,
   "metadata": {
    "collapsed": true
   },
   "outputs": [],
   "source": [
    "fusedwake?"
   ]
  },
  {
   "cell_type": "code",
   "execution_count": 4,
   "metadata": {
    "collapsed": false
   },
   "outputs": [],
   "source": [
    "from fusedwake.gcl.python import *"
   ]
  },
  {
   "cell_type": "code",
   "execution_count": 5,
   "metadata": {
    "collapsed": false
   },
   "outputs": [
    {
     "name": "stdout",
     "output_type": "stream",
     "text": [
      "r96 = get_r96(d,ct,ti,[a1,a2,a3,a4,b1,b2])\n",
      "\n",
      "Wrapper for ``get_r96``.\n",
      "\n",
      "Parameters\n",
      "----------\n",
      "d : input float\n",
      "ct : input float\n",
      "ti : input float\n",
      "\n",
      "Other Parameters\n",
      "----------------\n",
      "a1 : input float, optional\n",
      "    Default: 0.435449861\n",
      "a2 : input float, optional\n",
      "    Default: 0.797853685\n",
      "a3 : input float, optional\n",
      "    Default: -0.124807893\n",
      "a4 : input float, optional\n",
      "    Default: 0.136821858\n",
      "b1 : input float, optional\n",
      "    Default: 15.6298\n",
      "b2 : input float, optional\n",
      "    Default: 1.0\n",
      "\n",
      "Returns\n",
      "-------\n",
      "r96 : float\n",
      "\n"
     ]
    }
   ],
   "source": [
    "from fusedwake.gcl.fortran import get_r96\n",
    "print(get_r96.__doc__)"
   ]
  },
  {
   "cell_type": "code",
   "execution_count": 6,
   "metadata": {
    "collapsed": false
   },
   "outputs": [],
   "source": [
    "from fusedwake.noj.fortran import *"
   ]
  },
  {
   "cell_type": "code",
   "execution_count": 7,
   "metadata": {
    "collapsed": true
   },
   "outputs": [],
   "source": [
    "import fusedwake.noj as noj"
   ]
  },
  {
   "cell_type": "code",
   "execution_count": 8,
   "metadata": {
    "collapsed": false
   },
   "outputs": [],
   "source": [
    "noj.fnoj?"
   ]
  },
  {
   "cell_type": "code",
   "execution_count": 9,
   "metadata": {
    "collapsed": false
   },
   "outputs": [
    {
     "name": "stdout",
     "output_type": "stream",
     "text": [
      "rw = get_rw(x,d,ct,[kj])\n",
      "\n",
      "Wrapper for ``get_rw``.\n",
      "\n",
      "Parameters\n",
      "----------\n",
      "x : input rank-1 array('d') with bounds (n)\n",
      "d : input float\n",
      "ct : input float\n",
      "\n",
      "Other Parameters\n",
      "----------------\n",
      "kj : input float, optional\n",
      "    Default: 0.05\n",
      "\n",
      "Returns\n",
      "-------\n",
      "rw : rank-1 array('d') with bounds (n)\n",
      "\n"
     ]
    }
   ],
   "source": [
    "from fusedwake.noj.fortran_mod import get_rw\n",
    "print(get_rw.__doc__)"
   ]
  },
  {
   "cell_type": "code",
   "execution_count": null,
   "metadata": {
    "collapsed": true
   },
   "outputs": [],
   "source": []
  }
 ],
 "metadata": {
  "anaconda-cloud": {},
  "kernelspec": {
   "display_name": "Python [Root]",
   "language": "python",
   "name": "Python [Root]"
  },
  "language_info": {
   "codemirror_mode": {
    "name": "ipython",
    "version": 3
   },
   "file_extension": ".py",
   "mimetype": "text/x-python",
   "name": "python",
   "nbconvert_exporter": "python",
   "pygments_lexer": "ipython3",
   "version": "3.5.2"
  }
 },
 "nbformat": 4,
 "nbformat_minor": 0
}
