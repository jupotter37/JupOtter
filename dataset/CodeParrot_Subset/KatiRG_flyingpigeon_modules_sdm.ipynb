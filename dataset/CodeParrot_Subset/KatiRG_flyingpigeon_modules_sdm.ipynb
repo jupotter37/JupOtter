{
 "cells": [
  {
   "cell_type": "code",
   "execution_count": 15,
   "metadata": {
    "collapsed": false
   },
   "outputs": [
    {
     "name": "stdout",
     "output_type": "stream",
     "text": [
      "/home/nils\n",
      "['/home/nils/data/sdm/FD_EUR-44_MPI-M-MPI-ESM-LR_historical_r1i1p1_CLMcom-CCLM4-8-17_v1_May_20010101-20051231.nc', '/home/nils/data/sdm/TG_EUR-44_MPI-M-MPI-ESM-LR_historical_r1i1p1_CLMcom-CCLM4-8-17_v1_AMJJAS_20010101-20051231.nc', '/home/nils/data/sdm/TG_EUR-44_MPI-M-MPI-ESM-LR_historical_r1i1p1_MPI-CSC-REMO2009_v1_AMJJAS_20010101-20051231.nc', '/home/nils/data/sdm/FD_EUR-44_CNRM-CERFACS-CNRM-CM5_historical_r1i1p1_HMS-ALADIN52_v1_May_20010101-20051231.nc', '/home/nils/data/sdm/TG_EUR-44_ICHEC-EC-EARTH_historical_r1i1p1_KNMI-RACMO22E_v1_AMJJAS_20010101-20051231.nc', '/home/nils/data/sdm/ID_EUR-44_MPI-M-MPI-ESM-LR_historical_r1i1p1_MPI-CSC-REMO2009_v1_yr_20010101-20051231.nc', '/home/nils/data/sdm/FD_EUR-44_MPI-M-MPI-ESM-LR_historical_r1i1p1_MPI-CSC-REMO2009_v1_May_20010101-20051231.nc', '/home/nils/data/sdm/ID_EUR-44_MPI-M-MPI-ESM-LR_historical_r1i1p1_CLMcom-CCLM4-8-17_v1_yr_20010101-20051231.nc', '/home/nils/data/sdm/ID_EUR-44_ICHEC-EC-EARTH_historical_r1i1p1_KNMI-RACMO22E_v1_yr_20010101-20051231.nc', '/home/nils/data/sdm/ID_EUR-44_CNRM-CERFACS-CNRM-CM5_historical_r1i1p1_HMS-ALADIN52_v1_yr_20010101-20051231.nc', '/home/nils/data/sdm/TG_EUR-44_CNRM-CERFACS-CNRM-CM5_historical_r1i1p1_HMS-ALADIN52_v1_AMJJAS_20010101-20051231.nc', '/home/nils/data/sdm/FD_EUR-44_ICHEC-EC-EARTH_historical_r1i1p1_KNMI-RACMO22E_v1_May_20010101-20051231.nc']\n"
     ]
    }
   ],
   "source": [
    "from flyingpigeon import sdm \n",
    "reload(sdm)\n",
    "from datetime import datetime as dt\n",
    "from os.path import join\n",
    "from os import getenv\n",
    "\n",
    "tic = dt.now()\n",
    "\n",
    "names = ['FD_EUR-44_MPI-M-MPI-ESM-LR_historical_r1i1p1_CLMcom-CCLM4-8-17_v1_May_20010101-20051231.nc',\n",
    "'TG_EUR-44_MPI-M-MPI-ESM-LR_historical_r1i1p1_CLMcom-CCLM4-8-17_v1_AMJJAS_20010101-20051231.nc',\n",
    "'TG_EUR-44_MPI-M-MPI-ESM-LR_historical_r1i1p1_MPI-CSC-REMO2009_v1_AMJJAS_20010101-20051231.nc',\n",
    "'FD_EUR-44_CNRM-CERFACS-CNRM-CM5_historical_r1i1p1_HMS-ALADIN52_v1_May_20010101-20051231.nc',\n",
    "'TG_EUR-44_ICHEC-EC-EARTH_historical_r1i1p1_KNMI-RACMO22E_v1_AMJJAS_20010101-20051231.nc',\n",
    "'ID_EUR-44_MPI-M-MPI-ESM-LR_historical_r1i1p1_MPI-CSC-REMO2009_v1_yr_20010101-20051231.nc',\n",
    "'FD_EUR-44_MPI-M-MPI-ESM-LR_historical_r1i1p1_MPI-CSC-REMO2009_v1_May_20010101-20051231.nc',\n",
    "'ID_EUR-44_MPI-M-MPI-ESM-LR_historical_r1i1p1_CLMcom-CCLM4-8-17_v1_yr_20010101-20051231.nc',\n",
    "'ID_EUR-44_ICHEC-EC-EARTH_historical_r1i1p1_KNMI-RACMO22E_v1_yr_20010101-20051231.nc',\n",
    "'ID_EUR-44_CNRM-CERFACS-CNRM-CM5_historical_r1i1p1_HMS-ALADIN52_v1_yr_20010101-20051231.nc',\n",
    "'TG_EUR-44_CNRM-CERFACS-CNRM-CM5_historical_r1i1p1_HMS-ALADIN52_v1_AMJJAS_20010101-20051231.nc',\n",
    "'FD_EUR-44_ICHEC-EC-EARTH_historical_r1i1p1_KNMI-RACMO22E_v1_May_20010101-20051231.nc']\n",
    "HOME = getenv('HOME')\n",
    "\n",
    "ncs = [join(HOME+'/data/sdm/', nc )for nc in names]\n",
    "\n",
    "print HOME\n",
    "print ncs\n"
   ]
  },
  {
   "cell_type": "code",
   "execution_count": 7,
   "metadata": {
    "collapsed": false
   },
   "outputs": [
    {
     "name": "stdout",
     "output_type": "stream",
     "text": [
      "length of decimalLongitude: 244289\n"
     ]
    }
   ],
   "source": [
    "reload(sdm)\n",
    "csv = join(HOME+'/data/sdm/','output_csv-246e16ee-ba7f-11e6-8713-142d277ef1f3.csv')\n",
    "latlon = sdm.latlon_gbifcsv(csv)\n",
    "\n",
    "PApoints = sdm.get_PAmask(coordinates=latlon, domain='EUR-44')"
   ]
  },
  {
   "cell_type": "code",
   "execution_count": 18,
   "metadata": {
    "collapsed": false
   },
   "outputs": [
    {
     "name": "stdout",
     "output_type": "stream",
     "text": [
      "['EUR-44_ICHEC-EC-EARTH_historical_r1i1p1_KNMI-RACMO22E_v1', 'EUR-44_MPI-M-MPI-ESM-LR_historical_r1i1p1_MPI-CSC-REMO2009_v1', 'EUR-44_MPI-M-MPI-ESM-LR_historical_r1i1p1_CLMcom-CCLM4-8-17_v1', 'EUR-44_CNRM-CERFACS-CNRM-CM5_historical_r1i1p1_HMS-ALADIN52_v1']\n"
     ]
    }
   ],
   "source": [
    "PApoints.shape\n",
    "\n",
    "ncs_dic = sdm.sort_indices(ncs)\n",
    "print ncs_dic.keys()"
   ]
  },
  {
   "cell_type": "code",
   "execution_count": 23,
   "metadata": {
    "collapsed": false
   },
   "outputs": [
    {
     "name": "stdout",
     "output_type": "stream",
     "text": [
      "failed for EUR-44_ICHEC-EC-EARTH_historical_r1i1p1_KNMI-RACMO22E_v1 : cannot import name constants\n",
      "failed for EUR-44_MPI-M-MPI-ESM-LR_historical_r1i1p1_MPI-CSC-REMO2009_v1 : cannot import name constants\n",
      "failed for EUR-44_MPI-M-MPI-ESM-LR_historical_r1i1p1_CLMcom-CCLM4-8-17_v1 : cannot import name constants\n",
      "failed for EUR-44_CNRM-CERFACS-CNRM-CM5_historical_r1i1p1_HMS-ALADIN52_v1 : cannot import name constants\n"
     ]
    }
   ],
   "source": [
    "#dataf.sample\n",
    "reload(sdm)\n",
    "for key in ncs_dic.keys():\n",
    "    try:\n",
    "        gam_model, predict_ref, gam_info = sdm.get_gam(ncs_dic[key], PApoints)\n",
    "        print gam_model.names\n",
    "        from IPython.display import Image\n",
    "        Image(filename=gam_info)\n",
    "    except Exception as e: \n",
    "        print 'failed for %s : %s' % (key, e)"
   ]
  },
  {
   "cell_type": "code",
   "execution_count": null,
   "metadata": {
    "collapsed": true
   },
   "outputs": [],
   "source": [
    "prediction = sdm.get_prediction(gam_model, ncs_indices)\n",
    "\n",
    "from numpy import invert, isnan, nan, broadcast_arrays, array, zeros, linspace, meshgrid\n",
    "mask = invert(isnan(PApoints))\n",
    "mask = broadcast_arrays(prediction, mask)[1]\n",
    "prediction[mask==False] = nan\n",
    "\n",
    "species_file = sdm.write_to_file(ncs_indices[0], prediction)\n",
    "\n",
    "tac = dt.now()\n",
    "\n",
    "print 'prediction finished in %s minutes' % (tac - tic)"
   ]
  }
 ],
 "metadata": {
  "kernelspec": {
   "display_name": "Python 2",
   "language": "python",
   "name": "python2"
  },
  "language_info": {
   "codemirror_mode": {
    "name": "ipython",
    "version": 2
   },
   "file_extension": ".py",
   "mimetype": "text/x-python",
   "name": "python",
   "nbconvert_exporter": "python",
   "pygments_lexer": "ipython2",
   "version": "2.7.12"
  }
 },
 "nbformat": 4,
 "nbformat_minor": 0
}
