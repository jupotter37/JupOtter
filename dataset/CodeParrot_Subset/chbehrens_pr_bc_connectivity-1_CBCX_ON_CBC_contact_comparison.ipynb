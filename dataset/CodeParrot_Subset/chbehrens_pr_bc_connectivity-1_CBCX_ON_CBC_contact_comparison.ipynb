{
 "cells": [
  {
   "cell_type": "markdown",
   "metadata": {},
   "source": [
    "## Comparision between the size of basal contacts of CBCX and OFF-CBCs"
   ]
  },
  {
   "cell_type": "code",
   "execution_count": 1,
   "metadata": {
    "collapsed": false
   },
   "outputs": [],
   "source": [
    "import numpy as np\n",
    "import pandas as pd\n",
    "import matplotlib\n",
    "import matplotlib.pyplot as plt\n",
    "import seaborn as sns\n",
    "from scipy.io import loadmat\n",
    "import rpy2\n",
    "%matplotlib inline\n",
    "matplotlib.rc('font',**{'family':'sans-serif','sans-serif':['Arial']})\n",
    "matplotlib.rcParams.update({'mathtext.default': 'regular'})\n",
    "matplotlib.rcParams.update({'font.size': 14})\n",
    "sns.set_style(\"whitegrid\")"
   ]
  },
  {
   "cell_type": "code",
   "execution_count": 2,
   "metadata": {
    "collapsed": false
   },
   "outputs": [],
   "source": [
    "from rpy2.robjects.packages import importr\n",
    "import rpy2.robjects as ro\n",
    "from rpy2.robjects import pandas2ri\n",
    "pandas2ri.activate()"
   ]
  },
  {
   "cell_type": "code",
   "execution_count": 3,
   "metadata": {
    "collapsed": false
   },
   "outputs": [],
   "source": [
    "#import r package\n",
    "r_stats = importr('stats')\n",
    "r_base = importr('base')\n",
    "r_lme4 = importr('lme4')"
   ]
  },
  {
   "cell_type": "code",
   "execution_count": 4,
   "metadata": {
    "collapsed": false
   },
   "outputs": [],
   "source": [
    "xbc_contacts=np.loadtxt('data/CBCX_contact_classification.csv',delimiter=',',usecols=range(4))\n",
    "xbc_contacts=pd.DataFrame(xbc_contacts,columns=['cell','cone','type','class'])"
   ]
  },
  {
   "cell_type": "code",
   "execution_count": 5,
   "metadata": {
    "collapsed": false
   },
   "outputs": [],
   "source": [
    "on_contacts_xbc_comp=np.loadtxt('data/CBCX_ON_CBC_contact_comparison.csv',delimiter=',',usecols=range(4))\n",
    "on_contacts_xbc_comp=pd.DataFrame(on_contacts_xbc_comp,columns=['cell','cone','type','class'])"
   ]
  },
  {
   "cell_type": "code",
   "execution_count": 6,
   "metadata": {
    "collapsed": false
   },
   "outputs": [],
   "source": [
    "stat_xbc_contacts=pd.DataFrame(np.concatenate((np.tile(np.unique(xbc_contacts['cell']),3).reshape(-1,1),\\\n",
    "                                               np.repeat(np.arange(3),np.unique(xbc_contacts['cell']).shape[0]).reshape(-1,1)),axis=1),columns=['cell','class'])\n",
    "for i in range(stat_xbc_contacts.shape[0]):\n",
    "    stat_xbc_contacts.loc[i,'count']=np.sum((xbc_contacts['cell']==stat_xbc_contacts.ix[i,'cell'])&\\\n",
    "                                                   (xbc_contacts['class']==stat_xbc_contacts.ix[i,'class']))    "
   ]
  },
  {
   "cell_type": "code",
   "execution_count": 7,
   "metadata": {
    "collapsed": false
   },
   "outputs": [],
   "source": [
    "stat_on_contacts=pd.DataFrame(np.concatenate((np.tile(np.unique(on_contacts_xbc_comp['cell']),3).reshape(-1,1),\\\n",
    "                                               np.repeat(np.arange(3),np.unique(on_contacts_xbc_comp['cell']).shape[0]).reshape(-1,1)),axis=1),columns=['cell','class'])\n",
    "for i in range(stat_on_contacts.shape[0]):\n",
    "    stat_on_contacts.loc[i,'count']=np.sum((on_contacts_xbc_comp['cell']==stat_on_contacts.ix[i,'cell'])&\\\n",
    "                                                   (on_contacts_xbc_comp['class']==stat_on_contacts.ix[i,'class']))   "
   ]
  },
  {
   "cell_type": "code",
   "execution_count": 8,
   "metadata": {
    "collapsed": false
   },
   "outputs": [],
   "source": [
    "tip_invag_joined=pd.concat({'CBCX': stat_xbc_contacts, 'ON-CBC': stat_on_contacts})\n",
    "tip_invag_joined=tip_invag_joined.reset_index().drop('level_1',axis=1).rename(columns={'level_0':'BC_type'})\n",
    "tip_invag_joined=tip_invag_joined[tip_invag_joined['class']>0].reset_index().drop('index',axis=1)\n",
    "tip_invag_joined['contact']='invag.'\n",
    "tip_invag_joined.loc[tip_invag_joined['class']==2,'contact']='tip'\n",
    "tip_invag_joined=tip_invag_joined.drop('class',axis=1)\n",
    "tip_invag_joined['cell']=tip_invag_joined['cell'].astype(int).astype(str)"
   ]
  },
  {
   "cell_type": "code",
   "execution_count": 9,
   "metadata": {
    "collapsed": false
   },
   "outputs": [
    {
     "data": {
      "image/png": "[encoded data removed]",
      "text/plain": [
       "<matplotlib.figure.Figure at 0x7f899e79e7b8>"
      ]
     },
     "metadata": {},
     "output_type": "display_data"
    }
   ],
   "source": [
    "sns.set(font='Arial',style='white',context='paper',rc={\"xtick.major.size\": 0, \"ytick.major.size\": 4})\n",
    "with matplotlib.rc_context({\"lines.linewidth\": 0.7}):\n",
    "    plt.figure(figsize=(3/2.54,3/2.54))\n",
    "    ax=sns.pointplot(x='BC_type',y='count',data=tip_invag_joined,hue='contact',order=['CBCX','ON-CBC']\\\n",
    "                   ,ci=95,palette=[np.array([0.8,0.8,0.8,1.]),np.array([0.4,0.4,0.4,1.])],linestyles='',markers='s',dodge=-0.2)\n",
    "    ax.set_xticklabels(['CBCX','ON-CBCs'])\n",
    "    ax.set(ylabel='# contact points',xlabel='',ylim=(0,8.5),yticks=[0,2,4,6,8])\n",
    "    legend=plt.legend(bbox_to_anchor=(.8, 1))\n",
    "    ax.spines['left'].set_position(('outward',3))\n",
    "    ax.spines['bottom'].set_position(('outward',3))\n",
    "    sns.despine()\n",
    "#     plt.savefig('figures/xbc_on_comparison5.svg',bbox_inches='tight',dpi=300)\n",
    "    plt.show()"
   ]
  },
  {
   "cell_type": "code",
   "execution_count": 10,
   "metadata": {
    "collapsed": false
   },
   "outputs": [],
   "source": [
    "#get r object\n",
    "r_tip_invag=pandas2ri.py2ri_pandasdataframe(tip_invag_joined)"
   ]
  },
  {
   "cell_type": "code",
   "execution_count": 11,
   "metadata": {
    "collapsed": false
   },
   "outputs": [],
   "source": [
    "#fit model\n",
    "r_model=r_lme4.glmer('count ~ BC_type*contact+(1|cell)',data=r_tip_invag,family=\"poisson\")\n",
    "r_pred=pandas2ri.py2ri_pandasdataframe(tip_invag_joined[['cell','BC_type','contact']])\n",
    "r_count=r_stats.predict(r_model,r_pred,type='response')"
   ]
  },
  {
   "cell_type": "code",
   "execution_count": 12,
   "metadata": {
    "collapsed": false
   },
   "outputs": [],
   "source": [
    "pred=tip_invag_joined.copy()\n",
    "pred['count']=pandas2ri.ri2py(r_count)\n",
    "merged = pd.concat(dict(data=tip_invag_joined,mixed=pred),names=['type']).reset_index()"
   ]
  },
  {
   "cell_type": "code",
   "execution_count": 13,
   "metadata": {
    "collapsed": false
   },
   "outputs": [
    {
     "data": {
      "image/png": "[encoded data removed]",
      "text/plain": [
       "<matplotlib.figure.Figure at 0x7f899e6d4c88>"
      ]
     },
     "metadata": {},
     "output_type": "display_data"
    }
   ],
   "source": [
    "sns.set(font='Arial',style='white',context='notebook',font_scale=1.25)\n",
    "g = sns.factorplot('contact', 'count', 'BC_type', \n",
    "                   data=merged, \n",
    "                   col='type',\n",
    "                   kind='point',\n",
    "                   size=3.5)\n",
    "g.fig.subplots_adjust(wspace=0.3)\n",
    "sns.despine(offset=10);\n",
    "# plt.savefig('figures/XBC_contact_model.png',bbox_inches='tight',dpi=300)"
   ]
  },
  {
   "cell_type": "code",
   "execution_count": 14,
   "metadata": {
    "collapsed": false
   },
   "outputs": [
    {
     "name": "stdout",
     "output_type": "stream",
     "text": [
      "Generalized linear mixed model fit by maximum likelihood (Laplace\n",
      "  Approximation) [glmerMod]\n",
      " Family: poisson  ( log )\n",
      "Formula: count ~ BC_type * contact + (1 | cell)\n",
      "   Data: structure(list(BC_type = structure(c(1L, 1L, 1L, 1L, 1L, 1L,  \n",
      "1L, 1L, 1L, 1L, 1L, 1L, 1L, 1L, 2L, 2L, 2L, 2L, 2L, 2L, 2L, 2L,  \n",
      "2L, 2L, 2L, 2L, 2L, 2L, 2L, 2L, 2L, 2L, 2L, 2L, 2L, 2L, 2L, 2L \n",
      "), .Label = c(\"CBCX\", \"ON-CBC\"), class = \"factor\"), cell = structure(c(7L,  \n",
      "8L, 9L, 10L, 11L, 12L, 13L, 7L, 8L, 9L, 10L, 11L, 12L, 13L, 1L,  \n",
      "2L, 3L, 4L, 5L, 6L, 14L, 15L, 16L, 17L, 18L, 19L, 1L, 2L, 3L,  \n",
      "4L, 5L, 6L, 14L, 15L, 16L, 17L, 18L, 19L), .Label = c(\"543\",  \n",
      "\"550\", \"566\", \"574\", \"590\", \"596\", \"603\", \"604\", \"605\", \"606\",  \n",
      "\"607\", \"608\", \"609\", \"624\", \"640\", \"658\", \"671\", \"687\", \"689\" \n",
      "), class = \"factor\"), count = c(0, 0, 3, 0, 0, 0, 0, 4, 4, 2,  \n",
      "3, 1, 1, 1, 10, 10, 2, 1, 7, 2, 2, 3, 7, 4, 8, 15, 2, 0, 2, 0,  \n",
      "3, 1, 1, 0, 0, 0, 0, 1), contact = structure(c(1L, 1L, 1L, 1L,  \n",
      "1L, 1L, 1L, 2L, 2L, 2L, 2L, 2L, 2L, 2L, 1L, 1L, 1L, 1L, 1L, 1L,  \n",
      "1L, 1L, 1L, 1L, 1L, 1L, 2L, 2L, 2L, 2L, 2L, 2L, 2L, 2L, 2L, 2L,  \n",
      "2L, 2L), .Label = c(\"invag.\", \"tip\"), class = \"factor\")), .Names = c(\"BC_type\",  \n",
      "\"cell\", \"count\", \"contact\"), row.names = c(\"0\", \"1\", \"2\", \"3\",  \n",
      "\"4\", \"5\", \"6\", \"7\", \"8\", \"9\", \"10\", \"11\", \"12\", \"13\", \"14\", \"15\",  \n",
      "\"16\", \"17\", \"18\", \"19\", \"20\", \"21\", \"22\", \"23\", \"24\", \"25\", \"26\",  \n",
      "\"27\", \"28\", \"29\", \"30\", \"31\", \"32\", \"33\", \"34\", \"35\", \"36\", \"37\" \n",
      "), class = \"data.frame\")\n",
      "\n",
      "     AIC      BIC   logLik deviance df.resid \n",
      "   144.9    153.1    -67.5    134.9       33 \n",
      "\n",
      "Scaled residuals: \n",
      "    Min      1Q  Median      3Q     Max \n",
      "-1.1743 -0.6939 -0.5226  0.6181  3.3152 \n",
      "\n",
      "Random effects:\n",
      " Groups Name        Variance Std.Dev.\n",
      " cell   (Intercept) 0.2196   0.4686  \n",
      "Number of obs: 38, groups:  cell, 19\n",
      "\n",
      "Fixed effects:\n",
      "                         Estimate Std. Error z value Pr(>|z|)    \n",
      "(Intercept)               -0.9395     0.6075  -1.546   0.1220    \n",
      "BC_typeON-CBC              2.6000     0.6330   4.107  4.0e-05 ***\n",
      "contacttip                 1.6740     0.6291   2.661   0.0078 ** \n",
      "BC_typeON-CBC:contacttip  -3.6341     0.7141  -5.089  3.6e-07 ***\n",
      "---\n",
      "Signif. codes:  0 ‘***’ 0.001 ‘**’ 0.01 ‘*’ 0.05 ‘.’ 0.1 ‘ ’ 1\n",
      "\n",
      "Correlation of Fixed Effects:\n",
      "            (Intr) BC_tON-CBC cntctt\n",
      "BC_tyON-CBC -0.954                  \n",
      "contacttip  -0.872  0.837           \n",
      "BC_tON-CBC:  0.768 -0.769     -0.881\n",
      "\n"
     ]
    }
   ],
   "source": [
    "print(r_base.summary(r_model))"
   ]
  },
  {
   "cell_type": "code",
   "execution_count": null,
   "metadata": {
    "collapsed": true
   },
   "outputs": [],
   "source": []
  }
 ],
 "metadata": {
  "kernelspec": {
   "display_name": "Python 3",
   "language": "python",
   "name": "python3"
  },
  "language_info": {
   "codemirror_mode": {
    "name": "ipython",
    "version": 3
   },
   "file_extension": ".py",
   "mimetype": "text/x-python",
   "name": "python",
   "nbconvert_exporter": "python",
   "pygments_lexer": "ipython3",
   "version": "3.4.3"
  }
 },
 "nbformat": 4,
 "nbformat_minor": 0
}
