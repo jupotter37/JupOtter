{
 "cells": [
  {
   "cell_type": "code",
   "execution_count": 2,
   "metadata": {
    "collapsed": false
   },
   "outputs": [
    {
     "name": "stdout",
     "output_type": "stream",
     "text": [
      "3.6.0 |Anaconda custom (x86_64)| (default, Dec 23 2016, 13:19:00) \n",
      "[GCC 4.2.1 Compatible Apple LLVM 6.0 (clang-600.0.57)]\n"
     ]
    }
   ],
   "source": [
    "import sys\n",
    "\n",
    "print(sys.version)"
   ]
  },
  {
   "cell_type": "code",
   "execution_count": 6,
   "metadata": {
    "collapsed": false
   },
   "outputs": [
    {
     "data": {
      "text/plain": [
       "2"
      ]
     },
     "execution_count": 6,
     "metadata": {},
     "output_type": "execute_result"
    }
   ],
   "source": [
    "import random\n",
    "\n",
    "random.randint(1, 10)"
   ]
  },
  {
   "cell_type": "markdown",
   "metadata": {
    "nbpresent": {
     "id": "f708d8dd-9a00-4abb-a203-fed2a84e1709"
    },
    "slideshow": {
     "slide_type": "skip"
    }
   },
   "source": [
    "# Пример программы на Python"
   ]
  },
  {
   "cell_type": "code",
   "execution_count": 8,
   "metadata": {
    "collapsed": false,
    "nbpresent": {
     "id": "246518c1-b106-4b50-92fd-e38824e1ea35"
    },
    "slideshow": {
     "slide_type": "fragment"
    }
   },
   "outputs": [
    {
     "name": "stdout",
     "output_type": "stream",
     "text": [
      "awesome-python\n",
      "httpie\n",
      "thefuck\n",
      "flask\n",
      "youtube-dl\n",
      "django\n",
      "requests\n",
      "awesome-machine-learning\n",
      "ansible\n",
      "scrapy\n"
     ]
    }
   ],
   "source": [
    "# Задача: найти 10 самых популярных Python-репозиториев на GitHub\n",
    "\n",
    "# Можно посмотреть стандартный модуль urllib — https://docs.python.org/3/library/urllib.html\n",
    "import requests\n",
    "\n",
    "\n",
    "API_URL = 'https://api.github.com/search/repositories?q=language:python&sort=stars&order=desc'\n",
    "\n",
    "\n",
    "def get_most_starred_github_repositories():\n",
    "    response = requests.get(API_URL)\n",
    "                            \n",
    "    if response.status_code == 200:\n",
    "        return response.json()['items'][:10]\n",
    "\n",
    "    return\n",
    "\n",
    "\n",
    "for repo in get_most_starred_github_repositories():\n",
    "    print(repo['name'])\n"
   ]
  },
  {
   "cell_type": "markdown",
   "metadata": {
    "nbpresent": {
     "id": "de8d1393-f57b-4a4a-966b-1937e1d84d23"
    },
    "slideshow": {
     "slide_type": "slide"
    }
   },
   "source": [
    "# Переменные и базовые типы данных"
   ]
  },
  {
   "cell_type": "markdown",
   "metadata": {
    "nbpresent": {
     "id": "cc08a68a-fa27-4ca9-b2a6-5d852e3efd6d"
    }
   },
   "source": [
    "### Что такое переменная? Garbage Collector\n",
    "\n",
    "variable = 1\n",
    "\n",
    "variable = '2'"
   ]
  },
  {
   "cell_type": "code",
   "execution_count": 10,
   "metadata": {
    "collapsed": false,
    "nbpresent": {
     "id": "21bf0b58-b294-45df-a969-f992c9aa8078"
    }
   },
   "outputs": [
    {
     "data": {
      "text/html": [
       "<style>\n",
       "table {float:left}\n",
       "</style>"
      ],
      "text/plain": [
       "<IPython.core.display.HTML object>"
      ]
     },
     "metadata": {},
     "output_type": "display_data"
    }
   ],
   "source": [
    "%%html\n",
    "<style>\n",
    "table {float:left}\n",
    "</style>"
   ]
  },
  {
   "cell_type": "code",
   "execution_count": 15,
   "metadata": {
    "collapsed": true
   },
   "outputs": [],
   "source": [
    "variable = 1\n",
    "variable = '1'"
   ]
  },
  {
   "cell_type": "markdown",
   "metadata": {},
   "source": [
    "### Именование переменных\n",
    "\n",
    "my_variable = 'value'"
   ]
  },
  {
   "cell_type": "code",
   "execution_count": 16,
   "metadata": {
    "collapsed": false
   },
   "outputs": [
    {
     "name": "stdout",
     "output_type": "stream",
     "text": [
      "0 1\n"
     ]
    }
   ],
   "source": [
    "a, b = 0, 1\n",
    "print(a, b)"
   ]
  },
  {
   "cell_type": "code",
   "execution_count": 17,
   "metadata": {
    "collapsed": false
   },
   "outputs": [
    {
     "name": "stdout",
     "output_type": "stream",
     "text": [
      "1 0\n"
     ]
    }
   ],
   "source": [
    "a, b = b, a\n",
    "print(a, b)"
   ]
  },
  {
   "cell_type": "markdown",
   "metadata": {
    "nbpresent": {
     "id": "5067edfe-e6ca-47e3-a1bc-4b8ceba70c16"
    }
   },
   "source": [
    "###  Числа\n",
    "\n",
    "\n",
    "| Тип              | Пример    |\n",
    "| ---------------- | ---------|\n",
    "| Integer          | 42       |\n",
    "| Integer (Hex)    | 0xA      |\n",
    "| Integer (Binary) | 0b110101 |\n",
    "| Float            | 2.7182   |\n",
    "| Float            | 1.4e3    |\n",
    "| Complex          | 14+0j    |\n",
    "| Underscore       | 100_000  |\n"
   ]
  },
  {
   "cell_type": "markdown",
   "metadata": {
    "nbpresent": {
     "id": "8344a81e-0d03-48d7-98f4-d8c7ee59ce9f"
    }
   },
   "source": [
    "\n"
   ]
  },
  {
   "cell_type": "code",
   "execution_count": 18,
   "metadata": {
    "collapsed": false,
    "nbpresent": {
     "id": "0325e102-8e66-47f8-8afc-e57a80300bf0"
    }
   },
   "outputs": [
    {
     "name": "stdout",
     "output_type": "stream",
     "text": [
      "2017\n",
      "2018\n"
     ]
    }
   ],
   "source": [
    "year = 2017\n",
    "pi = 3.1415\n",
    "\n",
    "print(year)\n",
    "print(year + 1)"
   ]
  },
  {
   "cell_type": "code",
   "execution_count": null,
   "metadata": {
    "collapsed": false
   },
   "outputs": [],
   "source": [
    "amount = 100_000_000"
   ]
  },
  {
   "cell_type": "code",
   "execution_count": null,
   "metadata": {
    "collapsed": true
   },
   "outputs": [],
   "source": []
  },
  {
   "cell_type": "code",
   "execution_count": 20,
   "metadata": {
    "collapsed": false
   },
   "outputs": [
    {
     "data": {
      "text/plain": [
       "float"
      ]
     },
     "execution_count": 20,
     "metadata": {},
     "output_type": "execute_result"
    }
   ],
   "source": [
    "type(pi)"
   ]
  },
  {
   "cell_type": "code",
   "execution_count": 22,
   "metadata": {
    "collapsed": false
   },
   "outputs": [
    {
     "ename": "ValueError",
     "evalue": "invalid literal for int() with base 10: 'wat?'",
     "output_type": "error",
     "traceback": [
      "\u001b[0;31m---------------------------------------------------------------------------\u001b[0m",
      "\u001b[0;31mValueError\u001b[0m                                Traceback (most recent call last)",
      "\u001b[0;32m<ipython-input-22-b903d6c382bb>\u001b[0m in \u001b[0;36m<module>\u001b[0;34m()\u001b[0m\n\u001b[0;32m----> 1\u001b[0;31m \u001b[0mint\u001b[0m\u001b[0;34m(\u001b[0m\u001b[0;34m'wat?'\u001b[0m\u001b[0;34m)\u001b[0m\u001b[0;34m\u001b[0m\u001b[0m\n\u001b[0m",
      "\u001b[0;31mValueError\u001b[0m: invalid literal for int() with base 10: 'wat?'"
     ]
    }
   ],
   "source": [
    "int('wat?')"
   ]
  },
  {
   "cell_type": "code",
   "execution_count": 23,
   "metadata": {
    "collapsed": false
   },
   "outputs": [
    {
     "data": {
      "text/plain": [
       "(10, 11)"
      ]
     },
     "execution_count": 23,
     "metadata": {},
     "output_type": "execute_result"
    }
   ],
   "source": [
    "round(10.2), round(10.6)"
   ]
  },
  {
   "cell_type": "code",
   "execution_count": 25,
   "metadata": {
    "collapsed": false
   },
   "outputs": [
    {
     "data": {
      "text/plain": [
       "float"
      ]
     },
     "execution_count": 25,
     "metadata": {},
     "output_type": "execute_result"
    }
   ],
   "source": [
    "type(10.)"
   ]
  },
  {
   "cell_type": "markdown",
   "metadata": {
    "nbpresent": {
     "id": "c386aa9d-f8b1-4477-8ede-d0e2214a10ff"
    }
   },
   "source": [
    "| Операция     | Результат          |\n",
    "| ----------- | ---------------- |  \n",
    "| num + num2  | Сложение          |\n",
    "| num - num2  | Вычитание         |\n",
    "| num == num2 | Равенство          |\n",
    "| num != num2 | Неравенство        |\n",
    "| num >= num2 | Больше-равно       |\n",
    "| num > num2  | Больше            |\n",
    "| num * num2  | Умножение         |\n",
    "| num / num2  | Деление            |\n",
    "| num // num2 | Целочисленное деление |\n",
    "| num % num2  | Модуль             |\n",
    "| num ** num2 | Степень            |\n"
   ]
  },
  {
   "cell_type": "code",
   "execution_count": 26,
   "metadata": {
    "collapsed": false,
    "nbpresent": {
     "id": "c8881ad4-c6db-4ce6-b6f6-c293d2e928d8"
    }
   },
   "outputs": [
    {
     "data": {
      "text/plain": [
       "2.0"
      ]
     },
     "execution_count": 26,
     "metadata": {},
     "output_type": "execute_result"
    }
   ],
   "source": [
    "6 / 3"
   ]
  },
  {
   "cell_type": "code",
   "execution_count": 28,
   "metadata": {
    "collapsed": false
   },
   "outputs": [
    {
     "data": {
      "text/plain": [
       "1"
      ]
     },
     "execution_count": 28,
     "metadata": {},
     "output_type": "execute_result"
    }
   ],
   "source": [
    "6 // 4"
   ]
  },
  {
   "cell_type": "code",
   "execution_count": 29,
   "metadata": {
    "collapsed": false
   },
   "outputs": [
    {
     "ename": "ZeroDivisionError",
     "evalue": "division by zero",
     "output_type": "error",
     "traceback": [
      "\u001b[0;31m---------------------------------------------------------------------------\u001b[0m",
      "\u001b[0;31mZeroDivisionError\u001b[0m                         Traceback (most recent call last)",
      "\u001b[0;32m<ipython-input-29-6823326f452a>\u001b[0m in \u001b[0;36m<module>\u001b[0;34m()\u001b[0m\n\u001b[0;32m----> 1\u001b[0;31m \u001b[0;36m6\u001b[0m \u001b[0;34m/\u001b[0m \u001b[0;36m0\u001b[0m\u001b[0;34m\u001b[0m\u001b[0m\n\u001b[0m",
      "\u001b[0;31mZeroDivisionError\u001b[0m: division by zero"
     ]
    }
   ],
   "source": [
    "6 / 0"
   ]
  },
  {
   "cell_type": "code",
   "execution_count": 31,
   "metadata": {
    "collapsed": false
   },
   "outputs": [
    {
     "data": {
      "text/plain": [
       "8"
      ]
     },
     "execution_count": 31,
     "metadata": {},
     "output_type": "execute_result"
    }
   ],
   "source": [
    "(2 + 2) * 2"
   ]
  },
  {
   "cell_type": "markdown",
   "metadata": {
    "nbpresent": {
     "id": "5e3c8a8f-29c0-4dd7-834e-4b740d132940"
    }
   },
   "source": [
    "### Строки\n",
    "\n",
    "| Тип         | Пример       |\n",
    "| ----------- | ----------- |\n",
    "| Строка       | 'hello'     |\n",
    "| Строка       | \"hello\"     |\n",
    "| Строка       | '''hello''' |\n",
    "| Raw string  | r'hello'    |\n",
    "| Byte string | b'hello'    |"
   ]
  },
  {
   "cell_type": "code",
   "execution_count": 32,
   "metadata": {
    "collapsed": false
   },
   "outputs": [
    {
     "name": "stdout",
     "output_type": "stream",
     "text": [
      "\"Python\" is the capital of Great Britain\n"
     ]
    }
   ],
   "source": [
    "s = '\"Python\" is the capital of Great Britain'\n",
    "print(s)"
   ]
  },
  {
   "cell_type": "code",
   "execution_count": 33,
   "metadata": {
    "collapsed": false
   },
   "outputs": [
    {
     "data": {
      "text/plain": [
       "str"
      ]
     },
     "execution_count": 33,
     "metadata": {},
     "output_type": "execute_result"
    }
   ],
   "source": [
    "type(s)"
   ]
  },
  {
   "cell_type": "code",
   "execution_count": 34,
   "metadata": {
    "collapsed": false
   },
   "outputs": [
    {
     "name": "stdout",
     "output_type": "stream",
     "text": [
      "\"Python\" is the capital of Great Britain\n"
     ]
    }
   ],
   "source": [
    "print(\"\\\"Python\\\" is the capital of Great Britain\")"
   ]
  },
  {
   "cell_type": "code",
   "execution_count": 35,
   "metadata": {
    "collapsed": false
   },
   "outputs": [
    {
     "name": "stdout",
     "output_type": "stream",
     "text": [
      "hi \n",
      " there\n",
      "hi \\n there\n"
     ]
    }
   ],
   "source": [
    "print('hi \\n there')\n",
    "print(r'hi \\n there')"
   ]
  },
  {
   "cell_type": "code",
   "execution_count": 36,
   "metadata": {
    "collapsed": false,
    "nbpresent": {
     "id": "eeea9590-0b4a-4768-88c9-4a8bf2dc9c01"
    }
   },
   "outputs": [
    {
     "name": "stdout",
     "output_type": "stream",
     "text": [
      "Курс Python Programming\n"
     ]
    }
   ],
   "source": [
    "course_name = 'Курс Python Programming'  # строки в Python 3 — Unicode\n",
    "course_name = \"Курс Python Programming\"\n",
    "\n",
    "print(course_name)"
   ]
  },
  {
   "cell_type": "code",
   "execution_count": null,
   "metadata": {
    "collapsed": false
   },
   "outputs": [],
   "source": [
    "long_string = \"Perl — это тот язык, который одинаково \" \\\n",
    "              \"выглядит как до, так и после RSA шифрования.\" \\\n",
    "              \"(Keith Bostic)\"\n",
    "        \n",
    "long_string = \"\"\"\n",
    "    Обычно в таких кавычках\n",
    "    пишут докстринги к функциям\n",
    "\"\"\""
   ]
  },
  {
   "cell_type": "markdown",
   "metadata": {
    "collapsed": false
   },
   "source": [
    "| Операция     | Результат        |\n",
    "| ------------| -------------- |  \n",
    "| s + s2      | Сложение        |\n",
    "| 'foo' in s2 | Вхождение       |\n",
    "| s == s2     | Равенство        |\n",
    "| s != s2     | Неравенство      |\n",
    "| s >= s2     | Больше-равно     |\n",
    "| s > s2      | Больше          |\n",
    "| s * num     | Умножение       |\n",
    "| s[0]        | Доступ по индексу |\n",
    "| len(s)      | Длина           |\n",
    "\n"
   ]
  },
  {
   "cell_type": "code",
   "execution_count": 37,
   "metadata": {
    "collapsed": false
   },
   "outputs": [
    {
     "data": {
      "text/plain": [
       "'onetwo'"
      ]
     },
     "execution_count": 37,
     "metadata": {},
     "output_type": "execute_result"
    }
   ],
   "source": [
    "'one' + 'two'"
   ]
  },
  {
   "cell_type": "code",
   "execution_count": 38,
   "metadata": {
    "collapsed": false
   },
   "outputs": [
    {
     "data": {
      "text/plain": [
       "'oneoneoneoneoneoneoneoneoneone'"
      ]
     },
     "execution_count": 38,
     "metadata": {},
     "output_type": "execute_result"
    }
   ],
   "source": [
    "'one' * 10"
   ]
  },
  {
   "cell_type": "code",
   "execution_count": 40,
   "metadata": {
    "collapsed": false
   },
   "outputs": [
    {
     "name": "stdout",
     "output_type": "stream",
     "text": [
      "4494092080\n",
      "4533714200\n"
     ]
    }
   ],
   "source": [
    "s1 = 'first'\n",
    "print(id(s1))\n",
    "\n",
    "s1 += '\\n'\n",
    "print(id(s1))"
   ]
  },
  {
   "cell_type": "code",
   "execution_count": 43,
   "metadata": {
    "collapsed": false,
    "nbpresent": {
     "id": "3210b3d4-e72a-4559-81e9-9d4857489ddc"
    }
   },
   "outputs": [
    {
     "ename": "IndexError",
     "evalue": "string index out of range",
     "output_type": "error",
     "traceback": [
      "\u001b[0;31m---------------------------------------------------------------------------\u001b[0m",
      "\u001b[0;31mIndexError\u001b[0m                                Traceback (most recent call last)",
      "\u001b[0;32m<ipython-input-43-ba6fc6278ce3>\u001b[0m in \u001b[0;36m<module>\u001b[0;34m()\u001b[0m\n\u001b[0;32m----> 1\u001b[0;31m \u001b[0mprint\u001b[0m\u001b[0;34m(\u001b[0m\u001b[0;34m'python'\u001b[0m\u001b[0;34m[\u001b[0m\u001b[0;36m10\u001b[0m\u001b[0;34m]\u001b[0m\u001b[0;34m)\u001b[0m\u001b[0;34m\u001b[0m\u001b[0m\n\u001b[0m",
      "\u001b[0;31mIndexError\u001b[0m: string index out of range"
     ]
    }
   ],
   "source": [
    "print('python'[10])"
   ]
  },
  {
   "cell_type": "code",
   "execution_count": 44,
   "metadata": {
    "collapsed": false,
    "nbpresent": {
     "id": "fd68431d-d6ed-4527-b4c2-a4b69da9c02e"
    }
   },
   "outputs": [
    {
     "data": {
      "text/plain": [
       "6"
      ]
     },
     "execution_count": 44,
     "metadata": {},
     "output_type": "execute_result"
    }
   ],
   "source": [
    "len('python')  # O(1)"
   ]
  },
  {
   "cell_type": "code",
   "execution_count": 47,
   "metadata": {
    "collapsed": false
   },
   "outputs": [
    {
     "data": {
      "text/plain": [
       "'pyt'"
      ]
     },
     "execution_count": 47,
     "metadata": {},
     "output_type": "execute_result"
    }
   ],
   "source": [
    "'python'[:3]"
   ]
  },
  {
   "cell_type": "code",
   "execution_count": 48,
   "metadata": {
    "collapsed": false
   },
   "outputs": [
    {
     "data": {
      "text/plain": [
       "'nohtyp'"
      ]
     },
     "execution_count": 48,
     "metadata": {},
     "output_type": "execute_result"
    }
   ],
   "source": [
    "'python'[::-1]"
   ]
  },
  {
   "cell_type": "code",
   "execution_count": 49,
   "metadata": {
    "collapsed": false
   },
   "outputs": [
    {
     "data": {
      "text/plain": [
       "True"
      ]
     },
     "execution_count": 49,
     "metadata": {},
     "output_type": "execute_result"
    }
   ],
   "source": [
    "'p' in 'python'"
   ]
  },
  {
   "cell_type": "code",
   "execution_count": 51,
   "metadata": {
    "collapsed": false
   },
   "outputs": [
    {
     "data": {
      "text/plain": [
       "'Python'"
      ]
     },
     "execution_count": 51,
     "metadata": {},
     "output_type": "execute_result"
    }
   ],
   "source": [
    "'python'.capitalize()"
   ]
  },
  {
   "cell_type": "code",
   "execution_count": 52,
   "metadata": {
    "collapsed": false
   },
   "outputs": [
    {
     "name": "stdout",
     "output_type": "stream",
     "text": [
      "112\n"
     ]
    }
   ],
   "source": [
    "byte_string = b'python'\n",
    "print(byte_string[0])"
   ]
  },
  {
   "cell_type": "markdown",
   "metadata": {},
   "source": [
    "#### Форматирование строк"
   ]
  },
  {
   "cell_type": "code",
   "execution_count": 56,
   "metadata": {
    "collapsed": false
   },
   "outputs": [
    {
     "name": "stdout",
     "output_type": "stream",
     "text": [
      "Hello, World!\n"
     ]
    }
   ],
   "source": [
    "name = 'World'\n",
    "\n",
    "print('Hello, {}{}'.format(name, '!'))"
   ]
  },
  {
   "cell_type": "code",
   "execution_count": 58,
   "metadata": {
    "collapsed": false
   },
   "outputs": [
    {
     "name": "stdout",
     "output_type": "stream",
     "text": [
      "Hello, World\n"
     ]
    }
   ],
   "source": [
    "print('Hello, %s' % (name,))"
   ]
  },
  {
   "cell_type": "code",
   "execution_count": 60,
   "metadata": {
    "collapsed": false
   },
   "outputs": [
    {
     "name": "stdout",
     "output_type": "stream",
     "text": [
      "Hello, World!\n"
     ]
    }
   ],
   "source": [
    "print(f'Hello, {name}!')"
   ]
  },
  {
   "cell_type": "code",
   "execution_count": null,
   "metadata": {
    "collapsed": true
   },
   "outputs": [],
   "source": []
  },
  {
   "cell_type": "code",
   "execution_count": 61,
   "metadata": {
    "collapsed": false,
    "nbpresent": {
     "id": "d7ca882b-19d0-4633-b83c-c0bc7e405958"
    }
   },
   "outputs": [
    {
     "name": "stdout",
     "output_type": "stream",
     "text": [
      "['park', 'mstu', '21.09']\n"
     ]
    }
   ],
   "source": [
    "tag_list = 'park, mstu, 21.09'\n",
    "splitted = tag_list.split(', ')\n",
    "\n",
    "print(splitted)"
   ]
  },
  {
   "cell_type": "code",
   "execution_count": 62,
   "metadata": {
    "collapsed": false
   },
   "outputs": [
    {
     "data": {
      "text/plain": [
       "'park:mstu:21.09'"
      ]
     },
     "execution_count": 62,
     "metadata": {},
     "output_type": "execute_result"
    }
   ],
   "source": [
    "':'.join(splitted)"
   ]
  },
  {
   "cell_type": "code",
   "execution_count": 64,
   "metadata": {
    "collapsed": false
   },
   "outputs": [
    {
     "data": {
      "text/plain": [
       "'926123456'"
      ]
     },
     "execution_count": 64,
     "metadata": {},
     "output_type": "execute_result"
    }
   ],
   "source": [
    "input_string = ' 79261234567  '\n",
    "input_string.strip(' 7')"
   ]
  },
  {
   "cell_type": "code",
   "execution_count": null,
   "metadata": {
    "collapsed": true
   },
   "outputs": [],
   "source": []
  },
  {
   "cell_type": "code",
   "execution_count": 65,
   "metadata": {
    "collapsed": false,
    "nbpresent": {
     "id": "76d8b06b-31e4-4fd6-8f0c-f420960edee4"
    }
   },
   "outputs": [
    {
     "data": {
      "text/plain": [
       "['__add__',\n",
       " '__class__',\n",
       " '__contains__',\n",
       " '__delattr__',\n",
       " '__dir__',\n",
       " '__doc__',\n",
       " '__eq__',\n",
       " '__format__',\n",
       " '__ge__',\n",
       " '__getattribute__',\n",
       " '__getitem__',\n",
       " '__getnewargs__',\n",
       " '__gt__',\n",
       " '__hash__',\n",
       " '__init__',\n",
       " '__init_subclass__',\n",
       " '__iter__',\n",
       " '__le__',\n",
       " '__len__',\n",
       " '__lt__',\n",
       " '__mod__',\n",
       " '__mul__',\n",
       " '__ne__',\n",
       " '__new__',\n",
       " '__reduce__',\n",
       " '__reduce_ex__',\n",
       " '__repr__',\n",
       " '__rmod__',\n",
       " '__rmul__',\n",
       " '__setattr__',\n",
       " '__sizeof__',\n",
       " '__str__',\n",
       " '__subclasshook__',\n",
       " 'capitalize',\n",
       " 'casefold',\n",
       " 'center',\n",
       " 'count',\n",
       " 'encode',\n",
       " 'endswith',\n",
       " 'expandtabs',\n",
       " 'find',\n",
       " 'format',\n",
       " 'format_map',\n",
       " 'index',\n",
       " 'isalnum',\n",
       " 'isalpha',\n",
       " 'isdecimal',\n",
       " 'isdigit',\n",
       " 'isidentifier',\n",
       " 'islower',\n",
       " 'isnumeric',\n",
       " 'isprintable',\n",
       " 'isspace',\n",
       " 'istitle',\n",
       " 'isupper',\n",
       " 'join',\n",
       " 'ljust',\n",
       " 'lower',\n",
       " 'lstrip',\n",
       " 'maketrans',\n",
       " 'partition',\n",
       " 'replace',\n",
       " 'rfind',\n",
       " 'rindex',\n",
       " 'rjust',\n",
       " 'rpartition',\n",
       " 'rsplit',\n",
       " 'rstrip',\n",
       " 'split',\n",
       " 'splitlines',\n",
       " 'startswith',\n",
       " 'strip',\n",
       " 'swapcase',\n",
       " 'title',\n",
       " 'translate',\n",
       " 'upper',\n",
       " 'zfill']"
      ]
     },
     "execution_count": 65,
     "metadata": {},
     "output_type": "execute_result"
    }
   ],
   "source": [
    "dir(str)"
   ]
  },
  {
   "cell_type": "code",
   "execution_count": 66,
   "metadata": {
    "collapsed": false,
    "nbpresent": {
     "id": "22fd04a1-bd5e-4a22-9736-876df73bf337"
    }
   },
   "outputs": [
    {
     "name": "stdout",
     "output_type": "stream",
     "text": [
      "Help on class int in module builtins:\n",
      "\n",
      "class int(object)\n",
      " |  int(x=0) -> integer\n",
      " |  int(x, base=10) -> integer\n",
      " |  \n",
      " |  Convert a number or string to an integer, or return 0 if no arguments\n",
      " |  are given.  If x is a number, return x.__int__().  For floating point\n",
      " |  numbers, this truncates towards zero.\n",
      " |  \n",
      " |  If x is not a number or if base is given, then x must be a string,\n",
      " |  bytes, or bytearray instance representing an integer literal in the\n",
      " |  given base.  The literal can be preceded by '+' or '-' and be surrounded\n",
      " |  by whitespace.  The base defaults to 10.  Valid bases are 0 and 2-36.\n",
      " |  Base 0 means to interpret the base from the string as an integer literal.\n",
      " |  >>> int('0b100', base=0)\n",
      " |  4\n",
      " |  \n",
      " |  Methods defined here:\n",
      " |  \n",
      " |  __abs__(self, /)\n",
      " |      abs(self)\n",
      " |  \n",
      " |  __add__(self, value, /)\n",
      " |      Return self+value.\n",
      " |  \n",
      " |  __and__(self, value, /)\n",
      " |      Return self&value.\n",
      " |  \n",
      " |  __bool__(self, /)\n",
      " |      self != 0\n",
      " |  \n",
      " |  __ceil__(...)\n",
      " |      Ceiling of an Integral returns itself.\n",
      " |  \n",
      " |  __divmod__(self, value, /)\n",
      " |      Return divmod(self, value).\n",
      " |  \n",
      " |  __eq__(self, value, /)\n",
      " |      Return self==value.\n",
      " |  \n",
      " |  __float__(self, /)\n",
      " |      float(self)\n",
      " |  \n",
      " |  __floor__(...)\n",
      " |      Flooring an Integral returns itself.\n",
      " |  \n",
      " |  __floordiv__(self, value, /)\n",
      " |      Return self//value.\n",
      " |  \n",
      " |  __format__(...)\n",
      " |      default object formatter\n",
      " |  \n",
      " |  __ge__(self, value, /)\n",
      " |      Return self>=value.\n",
      " |  \n",
      " |  __getattribute__(self, name, /)\n",
      " |      Return getattr(self, name).\n",
      " |  \n",
      " |  __getnewargs__(...)\n",
      " |  \n",
      " |  __gt__(self, value, /)\n",
      " |      Return self>value.\n",
      " |  \n",
      " |  __hash__(self, /)\n",
      " |      Return hash(self).\n",
      " |  \n",
      " |  __index__(self, /)\n",
      " |      Return self converted to an integer, if self is suitable for use as an index into a list.\n",
      " |  \n",
      " |  __int__(self, /)\n",
      " |      int(self)\n",
      " |  \n",
      " |  __invert__(self, /)\n",
      " |      ~self\n",
      " |  \n",
      " |  __le__(self, value, /)\n",
      " |      Return self<=value.\n",
      " |  \n",
      " |  __lshift__(self, value, /)\n",
      " |      Return self<<value.\n",
      " |  \n",
      " |  __lt__(self, value, /)\n",
      " |      Return self<value.\n",
      " |  \n",
      " |  __mod__(self, value, /)\n",
      " |      Return self%value.\n",
      " |  \n",
      " |  __mul__(self, value, /)\n",
      " |      Return self*value.\n",
      " |  \n",
      " |  __ne__(self, value, /)\n",
      " |      Return self!=value.\n",
      " |  \n",
      " |  __neg__(self, /)\n",
      " |      -self\n",
      " |  \n",
      " |  __new__(*args, **kwargs) from builtins.type\n",
      " |      Create and return a new object.  See help(type) for accurate signature.\n",
      " |  \n",
      " |  __or__(self, value, /)\n",
      " |      Return self|value.\n",
      " |  \n",
      " |  __pos__(self, /)\n",
      " |      +self\n",
      " |  \n",
      " |  __pow__(self, value, mod=None, /)\n",
      " |      Return pow(self, value, mod).\n",
      " |  \n",
      " |  __radd__(self, value, /)\n",
      " |      Return value+self.\n",
      " |  \n",
      " |  __rand__(self, value, /)\n",
      " |      Return value&self.\n",
      " |  \n",
      " |  __rdivmod__(self, value, /)\n",
      " |      Return divmod(value, self).\n",
      " |  \n",
      " |  __repr__(self, /)\n",
      " |      Return repr(self).\n",
      " |  \n",
      " |  __rfloordiv__(self, value, /)\n",
      " |      Return value//self.\n",
      " |  \n",
      " |  __rlshift__(self, value, /)\n",
      " |      Return value<<self.\n",
      " |  \n",
      " |  __rmod__(self, value, /)\n",
      " |      Return value%self.\n",
      " |  \n",
      " |  __rmul__(self, value, /)\n",
      " |      Return value*self.\n",
      " |  \n",
      " |  __ror__(self, value, /)\n",
      " |      Return value|self.\n",
      " |  \n",
      " |  __round__(...)\n",
      " |      Rounding an Integral returns itself.\n",
      " |      Rounding with an ndigits argument also returns an integer.\n",
      " |  \n",
      " |  __rpow__(self, value, mod=None, /)\n",
      " |      Return pow(value, self, mod).\n",
      " |  \n",
      " |  __rrshift__(self, value, /)\n",
      " |      Return value>>self.\n",
      " |  \n",
      " |  __rshift__(self, value, /)\n",
      " |      Return self>>value.\n",
      " |  \n",
      " |  __rsub__(self, value, /)\n",
      " |      Return value-self.\n",
      " |  \n",
      " |  __rtruediv__(self, value, /)\n",
      " |      Return value/self.\n",
      " |  \n",
      " |  __rxor__(self, value, /)\n",
      " |      Return value^self.\n",
      " |  \n",
      " |  __sizeof__(...)\n",
      " |      Returns size in memory, in bytes\n",
      " |  \n",
      " |  __str__(self, /)\n",
      " |      Return str(self).\n",
      " |  \n",
      " |  __sub__(self, value, /)\n",
      " |      Return self-value.\n",
      " |  \n",
      " |  __truediv__(self, value, /)\n",
      " |      Return self/value.\n",
      " |  \n",
      " |  __trunc__(...)\n",
      " |      Truncating an Integral returns itself.\n",
      " |  \n",
      " |  __xor__(self, value, /)\n",
      " |      Return self^value.\n",
      " |  \n",
      " |  bit_length(...)\n",
      " |      int.bit_length() -> int\n",
      " |      \n",
      " |      Number of bits necessary to represent self in binary.\n",
      " |      >>> bin(37)\n",
      " |      '0b100101'\n",
      " |      >>> (37).bit_length()\n",
      " |      6\n",
      " |  \n",
      " |  conjugate(...)\n",
      " |      Returns self, the complex conjugate of any int.\n",
      " |  \n",
      " |  from_bytes(...) from builtins.type\n",
      " |      int.from_bytes(bytes, byteorder, *, signed=False) -> int\n",
      " |      \n",
      " |      Return the integer represented by the given array of bytes.\n",
      " |      \n",
      " |      The bytes argument must be a bytes-like object (e.g. bytes or bytearray).\n",
      " |      \n",
      " |      The byteorder argument determines the byte order used to represent the\n",
      " |      integer.  If byteorder is 'big', the most significant byte is at the\n",
      " |      beginning of the byte array.  If byteorder is 'little', the most\n",
      " |      significant byte is at the end of the byte array.  To request the native\n",
      " |      byte order of the host system, use `sys.byteorder' as the byte order value.\n",
      " |      \n",
      " |      The signed keyword-only argument indicates whether two's complement is\n",
      " |      used to represent the integer.\n",
      " |  \n",
      " |  to_bytes(...)\n",
      " |      int.to_bytes(length, byteorder, *, signed=False) -> bytes\n",
      " |      \n",
      " |      Return an array of bytes representing an integer.\n",
      " |      \n",
      " |      The integer is represented using length bytes.  An OverflowError is\n",
      " |      raised if the integer is not representable with the given number of\n",
      " |      bytes.\n",
      " |      \n",
      " |      The byteorder argument determines the byte order used to represent the\n",
      " |      integer.  If byteorder is 'big', the most significant byte is at the\n",
      " |      beginning of the byte array.  If byteorder is 'little', the most\n",
      " |      significant byte is at the end of the byte array.  To request the native\n",
      " |      byte order of the host system, use `sys.byteorder' as the byte order value.\n",
      " |      \n",
      " |      The signed keyword-only argument determines whether two's complement is\n",
      " |      used to represent the integer.  If signed is False and a negative integer\n",
      " |      is given, an OverflowError is raised.\n",
      " |  \n",
      " |  ----------------------------------------------------------------------\n",
      " |  Data descriptors defined here:\n",
      " |  \n",
      " |  denominator\n",
      " |      the denominator of a rational number in lowest terms\n",
      " |  \n",
      " |  imag\n",
      " |      the imaginary part of a complex number\n",
      " |  \n",
      " |  numerator\n",
      " |      the numerator of a rational number in lowest terms\n",
      " |  \n",
      " |  real\n",
      " |      the real part of a complex number\n",
      "\n"
     ]
    }
   ],
   "source": [
    "help(int)"
   ]
  },
  {
   "cell_type": "code",
   "execution_count": null,
   "metadata": {
    "collapsed": true
   },
   "outputs": [],
   "source": []
  },
  {
   "cell_type": "code",
   "execution_count": 67,
   "metadata": {
    "collapsed": false,
    "nbpresent": {
     "id": "cba82f9f-dcdc-4081-8bec-76f94e75340e"
    }
   },
   "outputs": [
    {
     "name": "stdout",
     "output_type": "stream",
     "text": [
      "The Zen of Python, by Tim Peters\n",
      "\n",
      "Beautiful is better than ugly.\n",
      "Explicit is better than implicit.\n",
      "Simple is better than complex.\n",
      "Complex is better than complicated.\n",
      "Flat is better than nested.\n",
      "Sparse is better than dense.\n",
      "Readability counts.\n",
      "Special cases aren't special enough to break the rules.\n",
      "Although practicality beats purity.\n",
      "Errors should never pass silently.\n",
      "Unless explicitly silenced.\n",
      "In the face of ambiguity, refuse the temptation to guess.\n",
      "There should be one-- and preferably only one --obvious way to do it.\n",
      "Although that way may not be obvious at first unless you're Dutch.\n",
      "Now is better than never.\n",
      "Although never is often better than *right* now.\n",
      "If the implementation is hard to explain, it's a bad idea.\n",
      "If the implementation is easy to explain, it may be a good idea.\n",
      "Namespaces are one honking great idea -- let's do more of those!\n"
     ]
    }
   ],
   "source": [
    "import this  # знать хотя бы первые 3 пункта"
   ]
  },
  {
   "cell_type": "markdown",
   "metadata": {
    "nbpresent": {
     "id": "23fa908d-a2b5-4527-9473-c571f847ebd5"
    }
   },
   "source": [
    "# Базовые конструкции"
   ]
  },
  {
   "cell_type": "markdown",
   "metadata": {
    "nbpresent": {
     "id": "1221e3f0-50eb-4bfe-ae90-2a91d4611439"
    }
   },
   "source": [
    "### Условный оператор"
   ]
  },
  {
   "cell_type": "code",
   "execution_count": 70,
   "metadata": {
    "collapsed": false
   },
   "outputs": [
    {
     "data": {
      "text/plain": [
       "bool"
      ]
     },
     "execution_count": 70,
     "metadata": {},
     "output_type": "execute_result"
    }
   ],
   "source": [
    "type(10 > 9)"
   ]
  },
  {
   "cell_type": "code",
   "execution_count": 69,
   "metadata": {
    "collapsed": false
   },
   "outputs": [
    {
     "data": {
      "text/plain": [
       "False"
      ]
     },
     "execution_count": 69,
     "metadata": {},
     "output_type": "execute_result"
    }
   ],
   "source": [
    "10 < 9"
   ]
  },
  {
   "cell_type": "code",
   "execution_count": 71,
   "metadata": {
    "collapsed": false
   },
   "outputs": [
    {
     "data": {
      "text/plain": [
       "bool"
      ]
     },
     "execution_count": 71,
     "metadata": {},
     "output_type": "execute_result"
    }
   ],
   "source": [
    "type(False)"
   ]
  },
  {
   "cell_type": "markdown",
   "metadata": {},
   "source": [
    "### Boolean\n",
    "\n",
    "True / False (\\_\\_bool\\_\\_)\n",
    "\n",
    "| True              | False |\n",
    "| ----------------- | ----- |\n",
    "| True              | False |\n",
    "| Большинство объектов | None  |\n",
    "| 1                 | 0     |\n",
    "| 3.2               | 0.0   |\n",
    "| 'string'\t        | \"\"    |"
   ]
  },
  {
   "cell_type": "code",
   "execution_count": 77,
   "metadata": {
    "collapsed": false
   },
   "outputs": [
    {
     "name": "stdout",
     "output_type": "stream",
     "text": [
      "True\n",
      "True\n"
     ]
    }
   ],
   "source": [
    "a = 10\n",
    "b = 10\n",
    "\n",
    "print(a == b)\n",
    "print(a is b)  # magic"
   ]
  },
  {
   "cell_type": "code",
   "execution_count": 73,
   "metadata": {
    "collapsed": false
   },
   "outputs": [
    {
     "data": {
      "text/plain": [
       "False"
      ]
     },
     "execution_count": 73,
     "metadata": {},
     "output_type": "execute_result"
    }
   ],
   "source": [
    "bool(0.0)"
   ]
  },
  {
   "cell_type": "code",
   "execution_count": 74,
   "metadata": {
    "collapsed": false
   },
   "outputs": [
    {
     "data": {
      "text/plain": [
       "False"
      ]
     },
     "execution_count": 74,
     "metadata": {},
     "output_type": "execute_result"
    }
   ],
   "source": [
    "bool('')"
   ]
  },
  {
   "cell_type": "code",
   "execution_count": 81,
   "metadata": {
    "collapsed": false
   },
   "outputs": [
    {
     "data": {
      "text/plain": [
       "False"
      ]
     },
     "execution_count": 81,
     "metadata": {},
     "output_type": "execute_result"
    }
   ],
   "source": [
    "13 < 12 < foo_call()"
   ]
  },
  {
   "cell_type": "code",
   "execution_count": null,
   "metadata": {
    "collapsed": true
   },
   "outputs": [],
   "source": []
  },
  {
   "cell_type": "code",
   "execution_count": 82,
   "metadata": {
    "collapsed": false
   },
   "outputs": [
    {
     "name": "stdout",
     "output_type": "stream",
     "text": [
      "Срочно на пляж!\n"
     ]
    }
   ],
   "source": [
    "import random\n",
    "\n",
    "\n",
    "temperature_tomorrow = random.randint(18, 27)\n",
    "if temperature_tomorrow >= 23:\n",
    "    print('Срочно на пляж!')\n",
    "\n",
    "else:\n",
    "    print(':(')"
   ]
  },
  {
   "cell_type": "code",
   "execution_count": null,
   "metadata": {
    "collapsed": false
   },
   "outputs": [],
   "source": [
    "temperature_tomorrow = random.randint(18, 27)\n",
    "\n",
    "decision = 'пляж' if temperature_tomorrow >= 23 else 'дома посижу'\n",
    "print(decision)"
   ]
  },
  {
   "cell_type": "code",
   "execution_count": 85,
   "metadata": {
    "collapsed": false
   },
   "outputs": [
    {
     "name": "stdout",
     "output_type": "stream",
     "text": [
      "The answer to life the universe and everything is: 42\n",
      "Точно!\n"
     ]
    }
   ],
   "source": [
    "answer = input('The answer to life the universe and everything is: ')\n",
    "answer = answer.strip().lower()\n",
    "\n",
    "\n",
    "if answer == '42':\n",
    "    print('Точно!')\n",
    "\n",
    "elif (answer == 'сорок два') or (answer == 'forty two'):\n",
    "    print('Тоже вариант!')\n",
    "\n",
    "else:\n",
    "    print('Нет')"
   ]
  },
  {
   "cell_type": "code",
   "execution_count": 86,
   "metadata": {
    "collapsed": false
   },
   "outputs": [
    {
     "data": {
      "text/plain": [
       "False"
      ]
     },
     "execution_count": 86,
     "metadata": {},
     "output_type": "execute_result"
    }
   ],
   "source": [
    "bool(None)"
   ]
  },
  {
   "cell_type": "code",
   "execution_count": null,
   "metadata": {
    "collapsed": false
   },
   "outputs": [],
   "source": [
    "type(None)"
   ]
  },
  {
   "cell_type": "code",
   "execution_count": null,
   "metadata": {
    "collapsed": false
   },
   "outputs": [],
   "source": [
    "a = None\n",
    "print(a is None)"
   ]
  },
  {
   "cell_type": "markdown",
   "metadata": {},
   "source": [
    "### Задача\n",
    "\n",
    "Определить, является ли введеный год високосным. Год является високосным, если его номер кратен 4, но не кратен 100, а также если он кратен 400"
   ]
  },
  {
   "cell_type": "code",
   "execution_count": 88,
   "metadata": {
    "collapsed": false
   },
   "outputs": [
    {
     "data": {
      "text/plain": [
       "True"
      ]
     },
     "execution_count": 88,
     "metadata": {},
     "output_type": "execute_result"
    }
   ],
   "source": [
    "import calendar\n",
    "\n",
    "\n",
    "calendar.isleap(1980)"
   ]
  },
  {
   "cell_type": "code",
   "execution_count": 90,
   "metadata": {
    "collapsed": false
   },
   "outputs": [
    {
     "name": "stdout",
     "output_type": "stream",
     "text": [
      "Year: 1980\n",
      "Високосный\n"
     ]
    }
   ],
   "source": [
    "raw_year = input('Year: ')\n",
    "year = int(raw_year)\n",
    "\n",
    "if year % 400 == 0:\n",
    "    print('Високосный')\n",
    "    \n",
    "elif year % 4 == 0 and not year % 100 == 0:\n",
    "    print('Високосный')\n",
    "\n",
    "else:\n",
    "    print('Нет :(')"
   ]
  },
  {
   "cell_type": "markdown",
   "metadata": {},
   "source": [
    "### Циклы"
   ]
  },
  {
   "cell_type": "code",
   "execution_count": 91,
   "metadata": {
    "collapsed": false
   },
   "outputs": [
    {
     "name": "stdout",
     "output_type": "stream",
     "text": [
      "p\n",
      "y\n",
      "t\n",
      "h\n",
      "o\n",
      "n\n"
     ]
    }
   ],
   "source": [
    "for letter in 'python':\n",
    "    print(letter)"
   ]
  },
  {
   "cell_type": "code",
   "execution_count": 94,
   "metadata": {
    "collapsed": false
   },
   "outputs": [
    {
     "name": "stdout",
     "output_type": "stream",
     "text": [
      "0\n",
      "1\n",
      "2\n",
      "3\n",
      "4\n",
      "5\n",
      "6\n",
      "7\n",
      "8\n",
      "9\n"
     ]
    }
   ],
   "source": [
    "s = 'python'\n",
    "for idx in range(10):\n",
    "    print(idx)"
   ]
  },
  {
   "cell_type": "code",
   "execution_count": 96,
   "metadata": {
    "collapsed": false,
    "nbpresent": {
     "id": "2b4e3dc2-650e-494d-96b9-de3b6f8f1a3a"
    }
   },
   "outputs": [
    {
     "name": "stdout",
     "output_type": "stream",
     "text": [
      "0 p\n",
      "1 y\n",
      "2 t\n",
      "3 h\n",
      "4 o\n",
      "5 n\n"
     ]
    }
   ],
   "source": [
    "for idx, letter in enumerate('python'):\n",
    "    print(idx, letter)\n"
   ]
  },
  {
   "cell_type": "code",
   "execution_count": 98,
   "metadata": {
    "collapsed": false
   },
   "outputs": [
    {
     "name": "stdout",
     "output_type": "stream",
     "text": [
      "P\n",
      "y\n",
      "t\n",
      "h\n",
      "o\n",
      "n\n",
      " \n",
      "R\n",
      "u\n",
      "b\n",
      "y\n"
     ]
    }
   ],
   "source": [
    "for letter in 'Python, Ruby. Perl, PHP.':\n",
    "    if letter == ',':\n",
    "        continue\n",
    "\n",
    "    elif letter == '.':\n",
    "        break\n",
    "\n",
    "    print(letter)\n"
   ]
  },
  {
   "cell_type": "markdown",
   "metadata": {
    "collapsed": true,
    "nbpresent": {
     "id": "8de34689-f7ca-4ab0-8397-6ff1e60bffee"
    }
   },
   "source": [
    "for/while-else — знать можно, использовать лучше не стоит"
   ]
  },
  {
   "cell_type": "code",
   "execution_count": 99,
   "metadata": {
    "collapsed": false,
    "nbpresent": {
     "id": "fb8b2f67-64f6-4606-9886-5a4c32e1d90d"
    }
   },
   "outputs": [
    {
     "name": "stdout",
     "output_type": "stream",
     "text": [
      "4\n",
      "3\n",
      "2\n",
      "1\n",
      "0\n"
     ]
    }
   ],
   "source": [
    "patience = 5\n",
    "\n",
    "while patience != 0:\n",
    "    patience -= 1\n",
    "    \n",
    "    print(patience)"
   ]
  },
  {
   "cell_type": "code",
   "execution_count": null,
   "metadata": {
    "collapsed": true
   },
   "outputs": [],
   "source": []
  },
  {
   "cell_type": "markdown",
   "metadata": {
    "nbpresent": {
     "id": "cf36d9a5-29d6-42a2-ac46-f747eeee313a"
    }
   },
   "source": [
    "# Ошибки"
   ]
  },
  {
   "cell_type": "code",
   "execution_count": 100,
   "metadata": {
    "collapsed": false
   },
   "outputs": [
    {
     "name": "stdout",
     "output_type": "stream",
     "text": [
      "Введите максимальное число диапазона: dfghj\n"
     ]
    },
    {
     "ename": "ValueError",
     "evalue": "invalid literal for int() with base 10: 'dfghj'",
     "output_type": "error",
     "traceback": [
      "\u001b[0;31m---------------------------------------------------------------------------\u001b[0m",
      "\u001b[0;31mValueError\u001b[0m                                Traceback (most recent call last)",
      "\u001b[0;32m<ipython-input-100-26050a7027b5>\u001b[0m in \u001b[0;36m<module>\u001b[0;34m()\u001b[0m\n\u001b[0;32m----> 1\u001b[0;31m \u001b[0muser_range\u001b[0m \u001b[0;34m=\u001b[0m \u001b[0mint\u001b[0m\u001b[0;34m(\u001b[0m\u001b[0minput\u001b[0m\u001b[0;34m(\u001b[0m\u001b[0;34m'Введите максимальное число диапазона: '\u001b[0m\u001b[0;34m)\u001b[0m\u001b[0;34m)\u001b[0m\u001b[0;34m\u001b[0m\u001b[0m\n\u001b[0m\u001b[1;32m      2\u001b[0m \u001b[0;32mfor\u001b[0m \u001b[0mnum\u001b[0m \u001b[0;32min\u001b[0m \u001b[0mrange\u001b[0m\u001b[0;34m(\u001b[0m\u001b[0muser_range\u001b[0m\u001b[0;34m)\u001b[0m\u001b[0;34m:\u001b[0m\u001b[0;34m\u001b[0m\u001b[0m\n\u001b[1;32m      3\u001b[0m     \u001b[0mprint\u001b[0m\u001b[0;34m(\u001b[0m\u001b[0mnum\u001b[0m\u001b[0;34m)\u001b[0m\u001b[0;34m\u001b[0m\u001b[0m\n",
      "\u001b[0;31mValueError\u001b[0m: invalid literal for int() with base 10: 'dfghj'"
     ]
    }
   ],
   "source": [
    "user_range = int(input('Введите максимальное число диапазона: '))\n",
    "for num in range(user_range):\n",
    "    print(num)"
   ]
  },
  {
   "cell_type": "code",
   "execution_count": null,
   "metadata": {
    "collapsed": true
   },
   "outputs": [],
   "source": []
  },
  {
   "cell_type": "markdown",
   "metadata": {
    "collapsed": true,
    "nbpresent": {
     "id": "f6212319-c163-4eb1-9a7b-5fb55c1736c2"
    }
   },
   "source": [
    "# FizzBuzz"
   ]
  },
  {
   "cell_type": "markdown",
   "metadata": {
    "collapsed": false,
    "nbpresent": {
     "id": "a49b089f-381f-4acb-b1ca-7d7296c15245"
    }
   },
   "source": [
    "Напишите программу, которая выводит на экран числа от 1 до 100. При этом вместо чисел, кратных трем, программа должна выводить слово Fizz, а вместо чисел, кратных пяти — слово Buzz. Если число кратно пятнадцати, то программа должна выводить слово FizzBuzz."
   ]
  },
  {
   "cell_type": "code",
   "execution_count": 101,
   "metadata": {
    "collapsed": false
   },
   "outputs": [
    {
     "name": "stdout",
     "output_type": "stream",
     "text": [
      "1\n",
      "2\n",
      "Fizz\n",
      "4\n",
      "Buzz\n",
      "Fizz\n",
      "7\n",
      "8\n",
      "Fizz\n",
      "Buzz\n",
      "11\n",
      "Fizz\n",
      "13\n",
      "14\n",
      "FizzBuzz\n",
      "16\n",
      "17\n",
      "Fizz\n",
      "19\n",
      "Buzz\n",
      "Fizz\n",
      "22\n",
      "23\n",
      "Fizz\n",
      "Buzz\n",
      "26\n",
      "Fizz\n",
      "28\n",
      "29\n",
      "FizzBuzz\n",
      "31\n",
      "32\n",
      "Fizz\n",
      "34\n",
      "Buzz\n",
      "Fizz\n",
      "37\n",
      "38\n",
      "Fizz\n",
      "Buzz\n",
      "41\n",
      "Fizz\n",
      "43\n",
      "44\n",
      "FizzBuzz\n",
      "46\n",
      "47\n",
      "Fizz\n",
      "49\n",
      "Buzz\n",
      "Fizz\n",
      "52\n",
      "53\n",
      "Fizz\n",
      "Buzz\n",
      "56\n",
      "Fizz\n",
      "58\n",
      "59\n",
      "FizzBuzz\n",
      "61\n",
      "62\n",
      "Fizz\n",
      "64\n",
      "Buzz\n",
      "Fizz\n",
      "67\n",
      "68\n",
      "Fizz\n",
      "Buzz\n",
      "71\n",
      "Fizz\n",
      "73\n",
      "74\n",
      "FizzBuzz\n",
      "76\n",
      "77\n",
      "Fizz\n",
      "79\n",
      "Buzz\n",
      "Fizz\n",
      "82\n",
      "83\n",
      "Fizz\n",
      "Buzz\n",
      "86\n",
      "Fizz\n",
      "88\n",
      "89\n",
      "FizzBuzz\n",
      "91\n",
      "92\n",
      "Fizz\n",
      "94\n",
      "Buzz\n",
      "Fizz\n",
      "97\n",
      "98\n",
      "Fizz\n",
      "Buzz\n"
     ]
    }
   ],
   "source": [
    "for number in range(1, 101):\n",
    "    result = ''\n",
    "    \n",
    "    if number % 3 == 0:\n",
    "        result += 'Fizz'\n",
    "    \n",
    "    if number % 5 == 0:\n",
    "        result += 'Buzz'\n",
    "    \n",
    "    print(result or number)"
   ]
  },
  {
   "cell_type": "markdown",
   "metadata": {
    "collapsed": true
   },
   "source": [
    "# ProjectEuler"
   ]
  },
  {
   "cell_type": "markdown",
   "metadata": {},
   "source": [
    "### 1\n",
    "\n",
    "If we list all the natural numbers below 10 that are multiples of 3 or 5, we get 3, 5, 6 and 9. The sum of these multiples is 23.\n",
    "\n",
    "Find the sum of all the multiples of 3 or 5 below 1000."
   ]
  },
  {
   "cell_type": "code",
   "execution_count": 105,
   "metadata": {
    "collapsed": false
   },
   "outputs": [
    {
     "data": {
      "text/plain": [
       "233168"
      ]
     },
     "execution_count": 105,
     "metadata": {},
     "output_type": "execute_result"
    }
   ],
   "source": [
    "# multiples_sum = 0\n",
    "# for number in range(1000):\n",
    "#     if number % 3 == 0 or number % 5 == 0:\n",
    "#         multiples_sum += number\n",
    "        \n",
    "# print(multiples_sum)\n",
    "\n",
    "sum(\n",
    "    num for num in range(1000)\n",
    "    if num % 3 == 0 or num % 5 == 0\n",
    ")"
   ]
  },
  {
   "cell_type": "markdown",
   "metadata": {},
   "source": [
    "### 2\n",
    "\n",
    "Each new term in the Fibonacci sequence is generated by adding the previous two terms. By starting with 1 and 2, the first 10 terms will be:\n",
    "\n",
    "1, 2, 3, 5, 8, 13, 21, 34, 55, 89, ...\n",
    "\n",
    "By considering the terms in the Fibonacci sequence whose values do not exceed four million, find the sum of the even-valued terms."
   ]
  },
  {
   "cell_type": "code",
   "execution_count": 109,
   "metadata": {
    "collapsed": false
   },
   "outputs": [
    {
     "name": "stdout",
     "output_type": "stream",
     "text": [
      "4613732\n"
     ]
    }
   ],
   "source": [
    "a, b = 1, 1\n",
    "fib_sum = 0\n",
    "while b < 4_000_000:\n",
    "    if b % 2 == 0:\n",
    "        fib_sum += b\n",
    "    \n",
    "    a, b = b, a + b\n",
    "\n",
    "print(fib_sum)"
   ]
  },
  {
   "cell_type": "code",
   "execution_count": null,
   "metadata": {
    "collapsed": true
   },
   "outputs": [],
   "source": []
  },
  {
   "cell_type": "markdown",
   "metadata": {},
   "source": [
    "### 4\n",
    "\n",
    "A palindromic number reads the same both ways. The largest palindrome made from the product of two 2-digit numbers is 9009 = 91 × 99.\n",
    "\n",
    "Find the largest palindrome made from the product of two distinct 3-digit numbers."
   ]
  },
  {
   "cell_type": "code",
   "execution_count": 113,
   "metadata": {
    "collapsed": false
   },
   "outputs": [],
   "source": [
    "def is_palindrome(number):\n",
    "    str_number = str(number)\n",
    "    return str_number == str_number[::-1]"
   ]
  },
  {
   "cell_type": "code",
   "execution_count": 111,
   "metadata": {
    "collapsed": false
   },
   "outputs": [
    {
     "data": {
      "text/plain": [
       "True"
      ]
     },
     "execution_count": 111,
     "metadata": {},
     "output_type": "execute_result"
    }
   ],
   "source": [
    "is_palindrome(9009)"
   ]
  },
  {
   "cell_type": "code",
   "execution_count": 115,
   "metadata": {
    "collapsed": false
   },
   "outputs": [
    {
     "name": "stdout",
     "output_type": "stream",
     "text": [
      "906609\n"
     ]
    }
   ],
   "source": [
    "max_palindrome = 0\n",
    "for a in range(999, 100, -1):\n",
    "    for b in range(999, 100, -1):\n",
    "        multiple = a * b\n",
    "        if multiple > max_palindrome and is_palindrome(multiple):\n",
    "            max_palindrome = multiple\n",
    "            break\n",
    "\n",
    "print(max_palindrome)"
   ]
  },
  {
   "cell_type": "markdown",
   "metadata": {
    "nbpresent": {
     "id": "fe2f1e0e-27c4-497d-988e-c438b6ce1cba"
    }
   },
   "source": [
    "# Функции"
   ]
  },
  {
   "cell_type": "code",
   "execution_count": null,
   "metadata": {
    "collapsed": false,
    "nbpresent": {
     "id": "2301b946-912c-4c4c-9378-d1c3e97d354d"
    }
   },
   "outputs": [],
   "source": [
    "def add_numbers(x, y):\n",
    "    return x + y\n",
    "\n",
    "\n",
    "add_numbers(10, 5)"
   ]
  }
 ],
 "metadata": {
  "anaconda-cloud": {},
  "kernelspec": {
   "display_name": "Python 3",
   "language": "python",
   "name": "python3"
  },
  "language_info": {
   "codemirror_mode": {
    "name": "ipython",
    "version": 3
   },
   "file_extension": ".py",
   "mimetype": "text/x-python",
   "name": "python",
   "nbconvert_exporter": "python",
   "pygments_lexer": "ipython3",
   "version": "3.6.0"
  },
  "nbpresent": {
   "slides": {
    "0880ee67-89bf-4856-81ed-733affa8b6bd": {
     "id": "0880ee67-89bf-4856-81ed-733affa8b6bd",
     "prev": "b801d2ff-65f8-447d-87a2-d4c6330f3739",
     "regions": {
      "9bb63994-874f-4332-a830-a0772b4603d0": {
       "attrs": {
        "height": 0.8,
        "width": 0.8,
        "x": 0.1,
        "y": 0.1
       },
       "content": {
        "cell": "2b4e3dc2-650e-494d-96b9-de3b6f8f1a3a",
        "part": "whole"
       },
       "id": "9bb63994-874f-4332-a830-a0772b4603d0"
      }
     }
    },
    "0f5376bb-908b-47b3-bf59-3945b3deb739": {
     "id": "0f5376bb-908b-47b3-bf59-3945b3deb739",
     "prev": "67cd5eff-0553-4787-a0a7-e8cea37fe67a",
     "regions": {
      "c36b385e-d46b-4739-a69f-a8237f75dc21": {
       "attrs": {
        "height": 0.8,
        "width": 0.8,
        "x": 0.1,
        "y": 0.1
       },
       "content": {
        "cell": "23fa908d-a2b5-4527-9473-c571f847ebd5",
        "part": "whole"
       },
       "id": "c36b385e-d46b-4739-a69f-a8237f75dc21"
      }
     }
    },
    "109f17f8-a5b6-457a-bc4b-64cbd4b14855": {
     "id": "109f17f8-a5b6-457a-bc4b-64cbd4b14855",
     "prev": "b8954974-4062-4d2a-842b-405f27f82a92",
     "regions": {
      "7ea38b9d-97a3-4982-a283-2d8a17c6c292": {
       "attrs": {
        "height": 0.8,
        "width": 0.8,
        "x": 0.1,
        "y": 0.1
       },
       "content": {
        "cell": "de8d1393-f57b-4a4a-966b-1937e1d84d23",
        "part": "whole"
       },
       "id": "7ea38b9d-97a3-4982-a283-2d8a17c6c292"
      }
     }
    },
    "1a01e59e-b116-49b6-9f68-9e22b89c6b95": {
     "id": "1a01e59e-b116-49b6-9f68-9e22b89c6b95",
     "prev": "f7bc1f38-cf5c-4d93-b3d0-c474f4f32c66",
     "regions": {
      "ad454609-230c-424d-a0da-ae2a4ef10645": {
       "attrs": {
        "height": 0.8,
        "width": 0.8,
        "x": 0.1,
        "y": 0.1
       },
       "content": {
        "cell": "21bf0b58-b294-45df-a969-f992c9aa8078",
        "part": "whole"
       },
       "id": "ad454609-230c-424d-a0da-ae2a4ef10645"
      }
     }
    },
    "1d00ee45-3396-40c6-9fe4-bd5dacd91e58": {
     "id": "1d00ee45-3396-40c6-9fe4-bd5dacd91e58",
     "prev": "4a4c7351-d761-432a-a7b7-c209093827cf",
     "regions": {
      "d4b5dfe6-a718-496e-bfb2-422822c14817": {
       "attrs": {
        "height": 0.8,
        "width": 0.8,
        "x": 0.1,
        "y": 0.1
       },
       "content": {
        "cell": "ac36d202-99f5-402d-95fe-eba984b7b6f5",
        "part": "whole"
       },
       "id": "d4b5dfe6-a718-496e-bfb2-422822c14817"
      }
     }
    },
    "2281cb68-6ea4-4391-8dd7-82bf53f055c0": {
     "id": "2281cb68-6ea4-4391-8dd7-82bf53f055c0",
     "prev": "23be1a06-11c3-48d8-9005-6b9ad4194375",
     "regions": {
      "30018f3a-c060-401c-8f25-7ba48f51ad18": {
       "attrs": {
        "height": 0.8,
        "width": 0.8,
        "x": 0.1,
        "y": 0.1
       },
       "content": {
        "cell": "fb8b2f67-64f6-4606-9886-5a4c32e1d90d",
        "part": "whole"
       },
       "id": "30018f3a-c060-401c-8f25-7ba48f51ad18"
      }
     }
    },
    "23be1a06-11c3-48d8-9005-6b9ad4194375": {
     "id": "23be1a06-11c3-48d8-9005-6b9ad4194375",
     "prev": "563ca0df-f0eb-4deb-9207-8332dd9ae7f3",
     "regions": {
      "d1f3e5e6-b42d-48ae-9207-2e306ad1af77": {
       "attrs": {
        "height": 0.8,
        "width": 0.8,
        "x": 0.1,
        "y": 0.1
       },
       "content": {
        "cell": "45ccc9c3-4993-4865-a978-d2436e5aa953",
        "part": "whole"
       },
       "id": "d1f3e5e6-b42d-48ae-9207-2e306ad1af77"
      }
     }
    },
    "2408593b-c69b-4153-8e4d-dbcf8286dc31": {
     "id": "2408593b-c69b-4153-8e4d-dbcf8286dc31",
     "prev": "54c8a04d-4afa-46af-8b9c-c6a77b1201a6",
     "regions": {
      "9c9146be-ef02-44cb-9ae6-b2ebbeb96336": {
       "attrs": {
        "height": 0.8,
        "width": 0.8,
        "x": 0.1,
        "y": 0.1
       },
       "content": {
        "cell": "5e3c8a8f-29c0-4dd7-834e-4b740d132940",
        "part": "whole"
       },
       "id": "9c9146be-ef02-44cb-9ae6-b2ebbeb96336"
      }
     }
    },
    "2895d4e0-41f4-42e1-8777-53ab07f2b43a": {
     "id": "2895d4e0-41f4-42e1-8777-53ab07f2b43a",
     "prev": "750654d5-3b35-4195-9cee-46254777c713",
     "regions": {
      "7ad58a77-9f9a-4511-849f-34b2c6f2dbe0": {
       "attrs": {
        "height": 0.8,
        "width": 0.8,
        "x": 0.1,
        "y": 0.1
       },
       "content": {
        "cell": "76d8b06b-31e4-4fd6-8f0c-f420960edee4",
        "part": "whole"
       },
       "id": "7ad58a77-9f9a-4511-849f-34b2c6f2dbe0"
      }
     }
    },
    "36b25990-2c81-404b-9501-1d380bc66307": {
     "id": "36b25990-2c81-404b-9501-1d380bc66307",
     "prev": "2895d4e0-41f4-42e1-8777-53ab07f2b43a",
     "regions": {
      "039073c8-344a-4184-9dfb-190989d36d5b": {
       "attrs": {
        "height": 0.8,
        "width": 0.8,
        "x": 0.1,
        "y": 0.1
       },
       "content": {
        "cell": "22fd04a1-bd5e-4a22-9736-876df73bf337",
        "part": "whole"
       },
       "id": "039073c8-344a-4184-9dfb-190989d36d5b"
      }
     }
    },
    "3ceebaa2-0ddd-4857-98f0-e4334f69930b": {
     "id": "3ceebaa2-0ddd-4857-98f0-e4334f69930b",
     "prev": "9966b0b2-e1cb-4f7c-8e44-27ed82f94cbc",
     "regions": {
      "f8ca8ed1-23bf-40bf-b6be-64edf97ac039": {
       "attrs": {
        "height": 0.8,
        "width": 0.8,
        "x": 0.1,
        "y": 0.1
       },
       "content": {
        "cell": "9db48ae0-7876-4596-ad92-b27de8a99501",
        "part": "whole"
       },
       "id": "f8ca8ed1-23bf-40bf-b6be-64edf97ac039"
      }
     }
    },
    "3f3264fb-cbaf-4430-95c6-371ee5b7ad60": {
     "id": "3f3264fb-cbaf-4430-95c6-371ee5b7ad60",
     "prev": "c31e4a73-4b97-42b8-a889-8015b6ccbe72",
     "regions": {
      "e88aa647-da5c-46d9-8486-462eabb818bf": {
       "attrs": {
        "height": 0.8,
        "width": 0.8,
        "x": 0.1,
        "y": 0.1
       },
       "content": {
        "cell": "8344a81e-0d03-48d7-98f4-d8c7ee59ce9f",
        "part": "whole"
       },
       "id": "e88aa647-da5c-46d9-8486-462eabb818bf"
      }
     }
    },
    "46ba1741-36ee-45bd-ad40-ff3030a5960f": {
     "id": "46ba1741-36ee-45bd-ad40-ff3030a5960f",
     "prev": null,
     "regions": {
      "56870e5d-88e4-4ff2-ac28-012ec41b5285": {
       "attrs": {
        "height": 0.8,
        "width": 0.8,
        "x": 0.1,
        "y": 0.1
       },
       "content": {
        "cell": "f708d8dd-9a00-4abb-a203-fed2a84e1709",
        "part": "whole"
       },
       "id": "56870e5d-88e4-4ff2-ac28-012ec41b5285"
      }
     }
    },
    "47d8bd74-c773-47f9-9f1a-80bc740cb541": {
     "id": "47d8bd74-c773-47f9-9f1a-80bc740cb541",
     "prev": "af61fbea-3364-4107-b435-a5e25eb4a366",
     "regions": {
      "ced36a5d-7877-4ea2-8e92-7c4405cae221": {
       "attrs": {
        "height": 0.8,
        "width": 0.8,
        "x": 0.1,
        "y": 0.1
       },
       "content": {
        "cell": "2301b946-912c-4c4c-9378-d1c3e97d354d",
        "part": "whole"
       },
       "id": "ced36a5d-7877-4ea2-8e92-7c4405cae221"
      }
     }
    },
    "4a4c7351-d761-432a-a7b7-c209093827cf": {
     "id": "4a4c7351-d761-432a-a7b7-c209093827cf",
     "prev": "2408593b-c69b-4153-8e4d-dbcf8286dc31",
     "regions": {
      "567e17f2-f1ae-4632-9ee1-ddc4b9f00cc0": {
       "attrs": {
        "height": 0.8,
        "width": 0.8,
        "x": 0.1,
        "y": 0.1
       },
       "content": {
        "cell": "eeea9590-0b4a-4768-88c9-4a8bf2dc9c01",
        "part": "whole"
       },
       "id": "567e17f2-f1ae-4632-9ee1-ddc4b9f00cc0"
      }
     }
    },
    "5194a08c-7be3-4073-b4b5-d20f135c9166": {
     "id": "5194a08c-7be3-4073-b4b5-d20f135c9166",
     "prev": "1d00ee45-3396-40c6-9fe4-bd5dacd91e58",
     "regions": {
      "aef03eca-5c85-4f8f-a4ef-3715c32d9920": {
       "attrs": {
        "height": 0.8,
        "width": 0.8,
        "x": 0.1,
        "y": 0.1
       },
       "content": {
        "cell": "d5176cbe-b385-4fee-9f85-30b7e2e9005c",
        "part": "whole"
       },
       "id": "aef03eca-5c85-4f8f-a4ef-3715c32d9920"
      }
     }
    },
    "54c8a04d-4afa-46af-8b9c-c6a77b1201a6": {
     "id": "54c8a04d-4afa-46af-8b9c-c6a77b1201a6",
     "prev": "ae9b1bf7-17e7-43bb-9369-6be527fe385b",
     "regions": {
      "d08958fc-d45c-404b-955b-194bd32e65f7": {
       "attrs": {
        "height": 0.8,
        "width": 0.8,
        "x": 0.1,
        "y": 0.1
       },
       "content": {
        "cell": "e39f08bc-6e87-4b97-b998-130bac977395",
        "part": "whole"
       },
       "id": "d08958fc-d45c-404b-955b-194bd32e65f7"
      }
     }
    },
    "5604eeaa-df07-4e56-876e-7f68156926a5": {
     "id": "5604eeaa-df07-4e56-876e-7f68156926a5",
     "prev": "2281cb68-6ea4-4391-8dd7-82bf53f055c0",
     "regions": {
      "c27ae683-d6f3-42b4-a776-5e01983c8b73": {
       "attrs": {
        "height": 0.8,
        "width": 0.8,
        "x": 0.1,
        "y": 0.1
       },
       "content": {
        "cell": "cb6221b2-5e64-4ce8-b561-b25a769c057e",
        "part": "whole"
       },
       "id": "c27ae683-d6f3-42b4-a776-5e01983c8b73"
      }
     }
    },
    "563ca0df-f0eb-4deb-9207-8332dd9ae7f3": {
     "id": "563ca0df-f0eb-4deb-9207-8332dd9ae7f3",
     "prev": "713e4ec3-ee59-4c57-b4ff-0fc1ad591bcf",
     "regions": {
      "c04214ac-72b8-48b5-852d-2a910b2b1fe4": {
       "attrs": {
        "height": 0.8,
        "width": 0.8,
        "x": 0.1,
        "y": 0.1
       },
       "content": {
        "cell": "b409f761-48cd-46b6-96ef-1c4f39fbe7dc",
        "part": "whole"
       },
       "id": "c04214ac-72b8-48b5-852d-2a910b2b1fe4"
      }
     }
    },
    "67cd5eff-0553-4787-a0a7-e8cea37fe67a": {
     "id": "67cd5eff-0553-4787-a0a7-e8cea37fe67a",
     "prev": "36b25990-2c81-404b-9501-1d380bc66307",
     "regions": {
      "4c1533ef-48ad-4baf-9906-4ff83bc65289": {
       "attrs": {
        "height": 0.8,
        "width": 0.8,
        "x": 0.1,
        "y": 0.1
       },
       "content": {
        "cell": "cba82f9f-dcdc-4081-8bec-76f94e75340e",
        "part": "whole"
       },
       "id": "4c1533ef-48ad-4baf-9906-4ff83bc65289"
      }
     }
    },
    "713e4ec3-ee59-4c57-b4ff-0fc1ad591bcf": {
     "id": "713e4ec3-ee59-4c57-b4ff-0fc1ad591bcf",
     "prev": "7c59efc3-2e3d-432d-b1ea-7861f1dea424",
     "regions": {
      "e3724af8-26cc-43c4-89fb-24d06884af50": {
       "attrs": {
        "height": 0.8,
        "width": 0.8,
        "x": 0.1,
        "y": 0.1
       },
       "content": {
        "cell": "8de34689-f7ca-4ab0-8397-6ff1e60bffee",
        "part": "whole"
       },
       "id": "e3724af8-26cc-43c4-89fb-24d06884af50"
      }
     }
    },
    "750654d5-3b35-4195-9cee-46254777c713": {
     "id": "750654d5-3b35-4195-9cee-46254777c713",
     "prev": "f24b26ec-7938-42cc-a426-589203ceb4b1",
     "regions": {
      "df3e5657-df5a-4401-b7ae-de92545baca6": {
       "attrs": {
        "height": 0.8,
        "width": 0.8,
        "x": 0.1,
        "y": 0.1
       },
       "content": {
        "cell": "d7ca882b-19d0-4633-b83c-c0bc7e405958",
        "part": "whole"
       },
       "id": "df3e5657-df5a-4401-b7ae-de92545baca6"
      }
     }
    },
    "78702d2f-f4cc-4b34-bd7d-5fc5633c6d6e": {
     "id": "78702d2f-f4cc-4b34-bd7d-5fc5633c6d6e",
     "prev": "5194a08c-7be3-4073-b4b5-d20f135c9166",
     "regions": {
      "289a69af-450c-4609-8176-fb78474ad639": {
       "attrs": {
        "height": 0.8,
        "width": 0.8,
        "x": 0.1,
        "y": 0.1
       },
       "content": {
        "cell": "3210b3d4-e72a-4559-81e9-9d4857489ddc",
        "part": "whole"
       },
       "id": "289a69af-450c-4609-8176-fb78474ad639"
      }
     }
    },
    "7c59efc3-2e3d-432d-b1ea-7861f1dea424": {
     "id": "7c59efc3-2e3d-432d-b1ea-7861f1dea424",
     "prev": "ca3d5af4-6a83-4197-957e-76e06eb520bf",
     "regions": {
      "cbf5db27-6af9-4fd4-b422-9da6c9a44acb": {
       "attrs": {
        "height": 0.8,
        "width": 0.8,
        "x": 0.1,
        "y": 0.1
       },
       "content": {
        "cell": "89233b63-20d9-46cc-ac4e-90b39e78e00b",
        "part": "whole"
       },
       "id": "cbf5db27-6af9-4fd4-b422-9da6c9a44acb"
      }
     }
    },
    "87cd326f-c841-4dfc-9477-499a74a9ba78": {
     "id": "87cd326f-c841-4dfc-9477-499a74a9ba78",
     "prev": "5604eeaa-df07-4e56-876e-7f68156926a5",
     "regions": {
      "ae807eeb-6a0f-42dd-8940-122ef9f2c645": {
       "attrs": {
        "height": 0.8,
        "width": 0.8,
        "x": 0.1,
        "y": 0.1
       },
       "content": {
        "cell": "834ba0ec-8bd0-4dc6-afda-3b600eaf6795",
        "part": "whole"
       },
       "id": "ae807eeb-6a0f-42dd-8940-122ef9f2c645"
      }
     }
    },
    "8a8682f7-39a2-4f42-8c7b-d5c8a5149fdb": {
     "id": "8a8682f7-39a2-4f42-8c7b-d5c8a5149fdb",
     "prev": "3f3264fb-cbaf-4430-95c6-371ee5b7ad60",
     "regions": {
      "b92d3d7f-5395-4c28-ae60-f3771393d62f": {
       "attrs": {
        "height": 0.8,
        "width": 0.8,
        "x": 0.1,
        "y": 0.1
       },
       "content": {
        "cell": "0325e102-8e66-47f8-8afc-e57a80300bf0",
        "part": "whole"
       },
       "id": "b92d3d7f-5395-4c28-ae60-f3771393d62f"
      }
     }
    },
    "955fdfdc-8205-487c-98c4-8e2a2a9c417a": {
     "id": "955fdfdc-8205-487c-98c4-8e2a2a9c417a",
     "prev": "3ceebaa2-0ddd-4857-98f0-e4334f69930b",
     "regions": {
      "0798b8cb-b19d-4c5d-aff8-d332fade7e55": {
       "attrs": {
        "height": 0.8,
        "width": 0.8,
        "x": 0.1,
        "y": 0.1
       },
       "content": {
        "cell": "f6212319-c163-4eb1-9a7b-5fb55c1736c2",
        "part": "whole"
       },
       "id": "0798b8cb-b19d-4c5d-aff8-d332fade7e55"
      }
     }
    },
    "9966b0b2-e1cb-4f7c-8e44-27ed82f94cbc": {
     "id": "9966b0b2-e1cb-4f7c-8e44-27ed82f94cbc",
     "prev": "87cd326f-c841-4dfc-9477-499a74a9ba78",
     "regions": {
      "0e7eaa30-278d-4f65-8919-eedf69d6816f": {
       "attrs": {
        "height": 0.8,
        "width": 0.8,
        "x": 0.1,
        "y": 0.1
       },
       "content": {
        "cell": "cf36d9a5-29d6-42a2-ac46-f747eeee313a",
        "part": "whole"
       },
       "id": "0e7eaa30-278d-4f65-8919-eedf69d6816f"
      }
     }
    },
    "9e67f9e6-72b0-433c-a897-a613830b8c78": {
     "id": "9e67f9e6-72b0-433c-a897-a613830b8c78",
     "prev": "955fdfdc-8205-487c-98c4-8e2a2a9c417a",
     "regions": {
      "b0f303b6-4019-416f-9e57-b989f2c2e64e": {
       "attrs": {
        "height": 0.8,
        "width": 0.8,
        "x": 0.1,
        "y": 0.1
       },
       "content": {
        "cell": "a49b089f-381f-4acb-b1ca-7d7296c15245",
        "part": "whole"
       },
       "id": "b0f303b6-4019-416f-9e57-b989f2c2e64e"
      }
     }
    },
    "a7f6dedf-4252-4566-a405-9d638e5c9d50": {
     "id": "a7f6dedf-4252-4566-a405-9d638e5c9d50",
     "prev": "0880ee67-89bf-4856-81ed-733affa8b6bd",
     "regions": {
      "b4158f84-68a2-421c-82c6-e69cfa96bad8": {
       "attrs": {
        "height": 0.8,
        "width": 0.8,
        "x": 0.1,
        "y": 0.1
       },
       "content": {
        "cell": "ed2d4ec8-ac61-4f69-8e93-1dd0ca8e7e0e",
        "part": "whole"
       },
       "id": "b4158f84-68a2-421c-82c6-e69cfa96bad8"
      }
     }
    },
    "ae9b1bf7-17e7-43bb-9369-6be527fe385b": {
     "id": "ae9b1bf7-17e7-43bb-9369-6be527fe385b",
     "prev": "b363e08a-0dab-4e95-9377-8e5cf9b4ee74",
     "regions": {
      "7c46799b-0c55-4f48-8e2b-6f909bc68178": {
       "attrs": {
        "height": 0.8,
        "width": 0.8,
        "x": 0.1,
        "y": 0.1
       },
       "content": {
        "cell": "c8881ad4-c6db-4ce6-b6f6-c293d2e928d8",
        "part": "whole"
       },
       "id": "7c46799b-0c55-4f48-8e2b-6f909bc68178"
      }
     }
    },
    "af61fbea-3364-4107-b435-a5e25eb4a366": {
     "id": "af61fbea-3364-4107-b435-a5e25eb4a366",
     "prev": "9e67f9e6-72b0-433c-a897-a613830b8c78",
     "regions": {
      "2189c69e-6788-4d00-b6cc-e2f10f741749": {
       "attrs": {
        "height": 0.8,
        "width": 0.8,
        "x": 0.1,
        "y": 0.1
       },
       "content": {
        "cell": "fe2f1e0e-27c4-497d-988e-c438b6ce1cba",
        "part": "whole"
       },
       "id": "2189c69e-6788-4d00-b6cc-e2f10f741749"
      }
     }
    },
    "b363e08a-0dab-4e95-9377-8e5cf9b4ee74": {
     "id": "b363e08a-0dab-4e95-9377-8e5cf9b4ee74",
     "prev": "8a8682f7-39a2-4f42-8c7b-d5c8a5149fdb",
     "regions": {
      "12258ec8-d358-4b56-bf7c-06360e7f337b": {
       "attrs": {
        "height": 0.8,
        "width": 0.8,
        "x": 0.1,
        "y": 0.1
       },
       "content": {
        "cell": "c386aa9d-f8b1-4477-8ede-d0e2214a10ff",
        "part": "whole"
       },
       "id": "12258ec8-d358-4b56-bf7c-06360e7f337b"
      }
     }
    },
    "b801d2ff-65f8-447d-87a2-d4c6330f3739": {
     "id": "b801d2ff-65f8-447d-87a2-d4c6330f3739",
     "prev": "0f5376bb-908b-47b3-bf59-3945b3deb739",
     "regions": {
      "61b292b5-fc93-4609-9ee3-1b4ae41e4f7f": {
       "attrs": {
        "height": 0.8,
        "width": 0.8,
        "x": 0.1,
        "y": 0.1
       },
       "content": {
        "cell": "1221e3f0-50eb-4bfe-ae90-2a91d4611439",
        "part": "whole"
       },
       "id": "61b292b5-fc93-4609-9ee3-1b4ae41e4f7f"
      }
     }
    },
    "b8954974-4062-4d2a-842b-405f27f82a92": {
     "id": "b8954974-4062-4d2a-842b-405f27f82a92",
     "prev": "46ba1741-36ee-45bd-ad40-ff3030a5960f",
     "regions": {
      "a165f756-99b2-402c-83fa-9b4f3ad21287": {
       "attrs": {
        "height": 0.8,
        "width": 0.8,
        "x": 0.1,
        "y": 0.1
       },
       "content": {
        "cell": "246518c1-b106-4b50-92fd-e38824e1ea35",
        "part": "whole"
       },
       "id": "a165f756-99b2-402c-83fa-9b4f3ad21287"
      }
     }
    },
    "c31e4a73-4b97-42b8-a889-8015b6ccbe72": {
     "id": "c31e4a73-4b97-42b8-a889-8015b6ccbe72",
     "prev": "1a01e59e-b116-49b6-9f68-9e22b89c6b95",
     "regions": {
      "c2721dbb-60c8-46e3-8d30-6fbc418e3228": {
       "attrs": {
        "height": 0.8,
        "width": 0.8,
        "x": 0.1,
        "y": 0.1
       },
       "content": {
        "cell": "5067edfe-e6ca-47e3-a1bc-4b8ceba70c16",
        "part": "whole"
       },
       "id": "c2721dbb-60c8-46e3-8d30-6fbc418e3228"
      }
     }
    },
    "ca3d5af4-6a83-4197-957e-76e06eb520bf": {
     "id": "ca3d5af4-6a83-4197-957e-76e06eb520bf",
     "prev": "a7f6dedf-4252-4566-a405-9d638e5c9d50",
     "regions": {
      "602fae7c-1731-4657-8a24-02b03b36e5f7": {
       "attrs": {
        "height": 0.8,
        "width": 0.8,
        "x": 0.1,
        "y": 0.1
       },
       "content": {
        "cell": "fd77e07c-a83d-41da-b9b4-5d7c4316d844",
        "part": "whole"
       },
       "id": "602fae7c-1731-4657-8a24-02b03b36e5f7"
      }
     }
    },
    "f24b26ec-7938-42cc-a426-589203ceb4b1": {
     "id": "f24b26ec-7938-42cc-a426-589203ceb4b1",
     "prev": "78702d2f-f4cc-4b34-bd7d-5fc5633c6d6e",
     "regions": {
      "57051255-14f1-4afa-b7be-0ad73b64c4f7": {
       "attrs": {
        "height": 0.8,
        "width": 0.8,
        "x": 0.1,
        "y": 0.1
       },
       "content": {
        "cell": "fd68431d-d6ed-4527-b4c2-a4b69da9c02e",
        "part": "whole"
       },
       "id": "57051255-14f1-4afa-b7be-0ad73b64c4f7"
      }
     }
    },
    "f7bc1f38-cf5c-4d93-b3d0-c474f4f32c66": {
     "id": "f7bc1f38-cf5c-4d93-b3d0-c474f4f32c66",
     "prev": "109f17f8-a5b6-457a-bc4b-64cbd4b14855",
     "regions": {
      "eb121fd7-829a-4cd2-86a1-c853b89c633e": {
       "attrs": {
        "height": 0.8,
        "width": 0.8,
        "x": 0.1,
        "y": 0.1
       },
       "content": {
        "cell": "cc08a68a-fa27-4ca9-b2a6-5d852e3efd6d",
        "part": "whole"
       },
       "id": "eb121fd7-829a-4cd2-86a1-c853b89c633e"
      }
     }
    }
   },
   "themes": {}
  }
 },
 "nbformat": 4,
 "nbformat_minor": 0
}
