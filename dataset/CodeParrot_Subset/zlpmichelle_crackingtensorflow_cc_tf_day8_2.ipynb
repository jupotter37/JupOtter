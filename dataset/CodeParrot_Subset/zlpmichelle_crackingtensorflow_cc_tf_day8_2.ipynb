{
 "cells": [
  {
   "cell_type": "code",
   "execution_count": null,
   "metadata": {
    "collapsed": true
   },
   "outputs": [],
   "source": [
    "#How to Use TensorFlow Debugger (tfdbg) with tf.contrib.learn\n",
    "\n",
    "# First, let your BUILD target depend on \"//tensorflow/python/debug:debug_py\"\n",
    "# (You don't need to worry about the BUILD dependency if you are using a pip\n",
    "#  install of open-source TensorFlow.)\n",
    "\n",
    "from tensorflow.python import debug as tf_debug\n",
    "\n",
    "hooks = [tf_debug.LocalCLIDebugHook()]\n",
    "\n",
    "#  Create a local CLI debug hook and use it as a monitor when calling fit().\n",
    "classifier.fit(x=training_set.data,\n",
    "               y=training_set.target,\n",
    "               steps=1000,\n",
    "               monitors=hooks)\n"
   ]
  },
  {
   "cell_type": "code",
   "execution_count": null,
   "metadata": {
    "collapsed": true
   },
   "outputs": [],
   "source": [
    "accuracy_score = classifier.evaluate(x=test_set.data,\n",
    "                                     y=test_set.target.\n",
    "                                     hooks=hooks)[\"accuracy\"]"
   ]
  },
  {
   "cell_type": "code",
   "execution_count": null,
   "metadata": {
    "collapsed": true
   },
   "outputs": [],
   "source": [
    "#python -m tensorflow.python.debug.examples.debug_tflearn_iris --debug"
   ]
  },
  {
   "cell_type": "code",
   "execution_count": 1,
   "metadata": {},
   "outputs": [
    {
     "ename": "NameError",
     "evalue": "name 'experiment' is not defined",
     "output_type": "error",
     "traceback": [
      "\u001b[0;31m---------------------------------------------------------------------------\u001b[0m",
      "\u001b[0;31mNameError\u001b[0m                                 Traceback (most recent call last)",
      "\u001b[0;32m<ipython-input-1-0d1b5fa1eaae>\u001b[0m in \u001b[0;36m<module>\u001b[0;34m()\u001b[0m\n\u001b[1;32m      7\u001b[0m \u001b[0mhooks\u001b[0m \u001b[0;34m=\u001b[0m \u001b[0;34m[\u001b[0m\u001b[0mtf_debug\u001b[0m\u001b[0;34m.\u001b[0m\u001b[0mLocalCLIDebugHook\u001b[0m\u001b[0;34m(\u001b[0m\u001b[0;34m)\u001b[0m\u001b[0;34m]\u001b[0m\u001b[0;34m\u001b[0m\u001b[0m\n\u001b[1;32m      8\u001b[0m \u001b[0;34m\u001b[0m\u001b[0m\n\u001b[0;32m----> 9\u001b[0;31m ex = experiment.Experiment(classifier,\n\u001b[0m\u001b[1;32m     10\u001b[0m                            \u001b[0mtrain_input_fn\u001b[0m\u001b[0;34m=\u001b[0m\u001b[0miris_input_fn\u001b[0m\u001b[0;34m,\u001b[0m\u001b[0;34m\u001b[0m\u001b[0m\n\u001b[1;32m     11\u001b[0m                            \u001b[0meval_input_fn\u001b[0m\u001b[0;34m=\u001b[0m\u001b[0miris_input_fn\u001b[0m\u001b[0;34m,\u001b[0m\u001b[0;34m\u001b[0m\u001b[0m\n",
      "\u001b[0;31mNameError\u001b[0m: name 'experiment' is not defined"
     ]
    }
   ],
   "source": [
    "# First, let your BUILD target depend on \"//tensorflow/python/debug:debug_py\"\n",
    "# (You don't need to worry about the BUILD dependency if you are using a pip\n",
    "#  install of open-source TensorFlow.)\n",
    "\n",
    "from tensorflow.python import debug as tf_debug\n",
    "\n",
    "hooks = [tf_debug.LocalCLIDebugHook()]\n",
    "\n",
    "ex = experiment.Experiment(classifier,\n",
    "                           train_input_fn=iris_input_fn,\n",
    "                           eval_input_fn=iris_input_fn,\n",
    "                           train_steps=FLAGS.train_steps,\n",
    "                           eval_delay_secs=0,\n",
    "                           eval_steps=1,\n",
    "                           train_monitors=hooks,\n",
    "                           eval_hooks=hooks)\n",
    "\n",
    "ex.train()\n",
    "accuracy_score = ex.evaluate()[\"accuracy\"]"
   ]
  },
  {
   "cell_type": "code",
   "execution_count": null,
   "metadata": {
    "collapsed": true
   },
   "outputs": [],
   "source": [
    "#python -m tensorflow.python.debug.examples.debug_tflearn_iris  --use_experiment --debug"
   ]
  },
  {
   "cell_type": "code",
   "execution_count": null,
   "metadata": {
    "collapsed": true
   },
   "outputs": [],
   "source": [
    "# Let your BUILD target depend on \"//tensorflow/python/debug:debug_py\n",
    "# (You don't need to worry about the BUILD dependency if you are using a pip\n",
    "#  install of open-source TensorFlow.)\n",
    "from tensorflow.python import debug as tf_debug\n",
    "\n",
    "hooks = [tf_debug.DumpingDebugHook(\"/shared/storage/location/tfdbg_dumps_1\")]"
   ]
  },
  {
   "cell_type": "code",
   "execution_count": null,
   "metadata": {
    "collapsed": true
   },
   "outputs": [],
   "source": [
    "#python -m tensorflow.python.debug.cli.offline_analyzer \\\n",
    "#    --dump_dir=\"/shared/storage/location/tfdbg_dumps_1/run_<epoch_timestamp_microsec>_<uuid>\""
   ]
  }
 ],
 "metadata": {
  "kernelspec": {
   "display_name": "Python 2",
   "language": "python",
   "name": "python2"
  },
  "language_info": {
   "codemirror_mode": {
    "name": "ipython",
    "version": 2
   },
   "file_extension": ".py",
   "mimetype": "text/x-python",
   "name": "python",
   "nbconvert_exporter": "python",
   "pygments_lexer": "ipython2",
   "version": "2.7.13"
  }
 },
 "nbformat": 4,
 "nbformat_minor": 2
}
