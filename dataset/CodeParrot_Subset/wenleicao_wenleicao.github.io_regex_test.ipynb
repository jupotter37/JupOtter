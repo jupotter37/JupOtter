{
 "cells": [
  {
   "cell_type": "code",
   "execution_count": 1,
   "metadata": {},
   "outputs": [],
   "source": [
    "query =  '''\n",
    "\"proc sql;\n",
    "\tcreate table Wenlei.DW_Example_latest AS\n",
    "\tSELECT DISTINCT \n",
    "\t\t\tT2.POLICY_ID,\n",
    "\t\t\tT2.POLICY,\n",
    "\t\t\tstrip(left(T2.ROLE)),\n",
    "            strip(left(T2.type)),\t\t\t\n",
    "\t\t\tT2.SEQ_ID, \n",
    "\t\t\tINTCK('day', T1.LastPayDate, today()) as DayPaid,\n",
    "\t\t\t(today()-T1.date_created) as DaysBtw\t\t\t\n",
    "\tFROM \tWORK.DW_Table1 t1 \n",
    "\t\t\tINNER JOIN\n",
    "\t\t\tWORK.DW_Table2 t2 ON (t1.ID = t2.ID  AND T1.POLICY_ID=T2.POLICY_ID \n",
    "\t\t\t\t\t\t\t\t\t\t   AND t1.MAX_PROCESS_Time=t2.PROCESS_Time)\n",
    "\tWHERE t2.ID<>-1 \n",
    "\t;\n",
    "quit;\"\n",
    "'''"
   ]
  },
  {
   "cell_type": "code",
   "execution_count": 2,
   "metadata": {},
   "outputs": [
    {
     "data": {
      "text/plain": [
       "'strip(left(b.type_rw))'"
      ]
     },
     "execution_count": 2,
     "metadata": {},
     "output_type": "execute_result"
    }
   ],
   "source": [
    "#goal strip(left(b.type_rw)) -> trim(b.type_rw) \n",
    "import re\n",
    "text = '''strip(left(b.type_rw)) abc'''\n",
    "pattern = re.compile(\"(strip\\(left\\().+\\)\\)\", re.IGNORECASE)\n",
    "match = pattern.search(text)\n",
    "match.group(0)\n",
    "# for match in pattern.finditer(text):\n",
    "#     print (match.group(1), match.group(2))\n"
   ]
  },
  {
   "cell_type": "code",
   "execution_count": 3,
   "metadata": {},
   "outputs": [],
   "source": [
    "#replace prefix\n",
    "def remove_prefix(text, prefix):\n",
    "    return text[len(prefix):] if text.startswith(prefix) else text\n",
    "#remove appendix\n",
    "def remove_appendix(text, appendix):\n",
    "    return text[:len(text)-len(appendix)] if text.endswith(appendix) else text"
   ]
  },
  {
   "cell_type": "code",
   "execution_count": 4,
   "metadata": {},
   "outputs": [
    {
     "data": {
      "text/plain": [
       "'trim(b.type_rw) abc'"
      ]
     },
     "execution_count": 4,
     "metadata": {},
     "output_type": "execute_result"
    }
   ],
   "source": [
    "stringX  = match.group(0)\n",
    "string_kept = remove_appendix (stringX, '))')\n",
    "#print(string_kept)\n",
    "string_kept = remove_prefix (string_kept, 'strip(left(')\n",
    "#print(string_kept)\n",
    "string_kept = 'trim(' + string_kept + ')'\n",
    "text1 = text.replace(stringX, string_kept )\n",
    "text1\n"
   ]
  },
  {
   "cell_type": "code",
   "execution_count": 5,
   "metadata": {},
   "outputs": [],
   "source": [
    "'''\n",
    "https://stackoverflow.com/questions/6930982/how-to-use-a-variable-inside-a-regular-expression\n",
    "https://docs.python.org/3/howto/regex.html#the-backslash-plague\n",
    "'''\n",
    "#define function to replace both side of string\n",
    "def replace_both_sides (text, prefix, appendix, new_prefix, new_appendix):\n",
    "    import re\n",
    "    pattern = re.compile((re.escape(prefix)) + r'.+' + re.escape(appendix) , re.IGNORECASE)    #left side, keep group, use escape to remove all \\\n",
    "    if pattern.search(text) != None:\n",
    "        match = pattern.search(text)  #use search for any place in a row\n",
    "       # return match.group(0)\n",
    "        stringX  = match.group(0)  # get matched\n",
    "        string_kept = remove_appendix (stringX, appendix) #remove appendix\n",
    "        #print(string_kept) \n",
    "        string_kept = remove_prefix (string_kept, prefix) #remove prefix\n",
    "        #print(string_kept)\n",
    "        string_kept = new_prefix + string_kept + new_appendix  #form replacement str\n",
    "        text1 = text.replace(stringX, string_kept )  #replace string\n",
    "        return text1\n",
    "    else:\n",
    "        return text\n",
    "\n"
   ]
  },
  {
   "cell_type": "code",
   "execution_count": 7,
   "metadata": {},
   "outputs": [
    {
     "name": "stdout",
     "output_type": "stream",
     "text": [
      "trim(b.type_rw) abc\n",
      "trim(c.type_rw) abc\n"
     ]
    }
   ],
   "source": [
    "#test run\n",
    "print(replace_both_sides (r'strip(left(b.type_rw)) abc', r\"strip(left(\", r\"))\", r'trim(', r')'))\n",
    "print(replace_both_sides (r'strip(left(c.type_rw)) abc', r\"strip(left(\", r\"))\", r'trim(', r')'))\n"
   ]
  },
  {
   "cell_type": "code",
   "execution_count": 11,
   "metadata": {},
   "outputs": [
    {
     "name": "stdout",
     "output_type": "stream",
     "text": [
      "\n",
      "\"proc sql;\n",
      "\tcreate table Wenlei.DW_Example_latest AS\n",
      "\tSELECT DISTINCT \n",
      "\t\t\tT2.POLICY_ID,\n",
      "\t\t\tT2.POLICY,\n",
      "\t\t\ttrim(T2.ROLE),\n",
      "            strip(left(T2.type)),\t\t\t\n",
      "\t\t\tT2.SEQ_ID, \n",
      "\t\t\tINTCK('day', T1.LastPayDate, today()) as DayPaid,\n",
      "\t\t\t(today()-T1.date_created) as DaysBtw\t\t\t\n",
      "\tFROM \tWORK.DW_Table1 t1 \n",
      "\t\t\tINNER JOIN\n",
      "\t\t\tWORK.DW_Table2 t2 ON (t1.ID = t2.ID  AND T1.POLICY_ID=T2.POLICY_ID \n",
      "\t\t\t\t\t\t\t\t\t\t   AND t1.MAX_PROCESS_Time=t2.PROCESS_Time)\n",
      "\tWHERE t2.ID<>-1 \n",
      "\t;\n",
      "quit;\"\n",
      "\n"
     ]
    }
   ],
   "source": [
    "query_m= replace_both_sides (query, r\"strip(left(\", r\"))\", r'trim(', r')')\n",
    "print(query_m)"
   ]
  },
  {
   "cell_type": "code",
   "execution_count": 12,
   "metadata": {},
   "outputs": [
    {
     "name": "stdout",
     "output_type": "stream",
     "text": [
      "strip(left(T2.ROLE))\n",
      "strip(left(T2.type))\n"
     ]
    }
   ],
   "source": [
    "#https://stackoverflow.com/questions/12870178/looping-through-python-regex-matches\n",
    "import re\n",
    "text =  query\n",
    "prefix = r\"strip(left(\"\n",
    "appendix = r\"))\"\n",
    "new_prefix =  r'trim('\n",
    "new_appendix =r')'\n",
    "pattern = re.compile((re.escape(prefix)) + r'.+' + re.escape(appendix) , re.IGNORECASE)    #left side, keep group, use escape to remove all \\\n",
    "matches = re.findall(pattern, text)  #use findall instead of search use loop to get the value\n",
    "for g1 in matches:\n",
    "    print (g1)\n"
   ]
  },
  {
   "cell_type": "code",
   "execution_count": 13,
   "metadata": {},
   "outputs": [],
   "source": [
    "def replace_both_sides_All (text, prefix, appendix, new_prefix, new_appendix):\n",
    "    import re\n",
    "    pattern = re.compile((re.escape(prefix)) + r'.+' + re.escape(appendix) , re.IGNORECASE)    #left side, keep group, use escape to remove all \\\n",
    "    if pattern.search(text) != None:\n",
    "        matches = re.findall(pattern, text)  #use search for any place in a row\n",
    "        for match in matches:  #loop through all match\n",
    "           # return match.group(0)\n",
    "            stringX  = match  # get matched\n",
    "            string_kept = remove_appendix (stringX, appendix) #remove appendix\n",
    "            #print(string_kept) \n",
    "            string_kept = remove_prefix (string_kept, prefix) #remove prefix\n",
    "            #print(string_kept)\n",
    "            string_kept = new_prefix + string_kept + new_appendix  #form replacement str\n",
    "            text = text.replace(stringX, string_kept )  #replace string\n",
    "        return text      \n",
    "    else:\n",
    "        return text"
   ]
  },
  {
   "cell_type": "code",
   "execution_count": 14,
   "metadata": {},
   "outputs": [
    {
     "name": "stdout",
     "output_type": "stream",
     "text": [
      "\n",
      "\"proc sql;\n",
      "\tcreate table Wenlei.DW_Example_latest AS\n",
      "\tSELECT DISTINCT \n",
      "\t\t\tT2.POLICY_ID,\n",
      "\t\t\tT2.POLICY,\n",
      "\t\t\ttrim(T2.ROLE),\n",
      "            trim(T2.type),\t\t\t\n",
      "\t\t\tT2.SEQ_ID, \n",
      "\t\t\tINTCK('day', T1.LastPayDate, today()) as DayPaid,\n",
      "\t\t\t(today()-T1.date_created) as DaysBtw\t\t\t\n",
      "\tFROM \tWORK.DW_Table1 t1 \n",
      "\t\t\tINNER JOIN\n",
      "\t\t\tWORK.DW_Table2 t2 ON (t1.ID = t2.ID  AND T1.POLICY_ID=T2.POLICY_ID \n",
      "\t\t\t\t\t\t\t\t\t\t   AND t1.MAX_PROCESS_Time=t2.PROCESS_Time)\n",
      "\tWHERE t2.ID<>-1 \n",
      "\t;\n",
      "quit;\"\n",
      "\n"
     ]
    }
   ],
   "source": [
    "print(replace_both_sides_All (query, r\"strip(left(\", r\"))\", r'trim(', r')'))"
   ]
  },
  {
   "cell_type": "code",
   "execution_count": 24,
   "metadata": {},
   "outputs": [
    {
     "name": "stdout",
     "output_type": "stream",
     "text": [
      "\n",
      "\"proc sql;\n",
      "\tcreate table Wenlei.DW_Example_latest AS\n",
      "\tSELECT DISTINCT \n",
      "\t\t\tT2.POLICY_ID,\n",
      "\t\t\tT2.POLICY,\n",
      "\t\t\ttrim(T2.ROLE),\n",
      "            trim(T2.type),\t\t\t\n",
      "\t\t\tT2.SEQ_ID, \n",
      "\t\t\tINTCK('day', T1.LastPayDate, today()) as DayPaid,\n",
      "\t\t\t(today()-T1.date_created) as DaysBtw\t\t\t\n",
      "\tFROM \tWORK.DW_Table1 t1 \n",
      "\t\t\tINNER JOIN\n",
      "\t\t\tWORK.DW_Table2 t2 ON (t1.ID = t2.ID  AND T1.POLICY_ID=T2.POLICY_ID \n",
      "\t\t\t\t\t\t\t\t\t\t   AND t1.MAX_PROCESS_Time=t2.PROCESS_Time)\n",
      "\tWHERE t2.ID<>-1 \n",
      "\t;\n",
      "quit;\"\n",
      "\n"
     ]
    }
   ],
   "source": [
    "#use Re to solve this issue more elegantly\n",
    "prefix=  r\"strip(left(\"\n",
    "appendix =r\"))\"\n",
    "pattern = re.compile((re.escape(prefix)) + r'(.+)' + re.escape(appendix) , re.IGNORECASE) \n",
    "print(re.sub(pattern, r'trim(\\1)', query))"
   ]
  },
  {
   "cell_type": "code",
   "execution_count": 25,
   "metadata": {},
   "outputs": [
    {
     "name": "stdout",
     "output_type": "stream",
     "text": [
      "trim(T2.type)\n"
     ]
    }
   ],
   "source": [
    "print(re.sub(pattern, r'trim(\\1)', 'strip(left(T2.type))'))"
   ]
  },
  {
   "cell_type": "code",
   "execution_count": 22,
   "metadata": {},
   "outputs": [
    {
     "name": "stdout",
     "output_type": "stream",
     "text": [
      "\n",
      "\"proc sql;\n",
      "\tcreate table Wenlei.DW_Example_latest AS\n",
      "\tSELECT DISTINCT \n",
      "\t\t\tT2.POLICY_ID,\n",
      "\t\t\tT2.POLICY,\n",
      "\t\t\ttrim(T2.ROLE),\n",
      "            trim(T2.type),\t\t\t\n",
      "\t\t\tT2.SEQ_ID, \n",
      "\t\t\tINTCK('day', T1.LastPayDate, today()) as DayPaid,\n",
      "\t\t\t(today()-T1.date_created) as DaysBtw\t\t\t\n",
      "\tFROM \tWORK.DW_Table1 t1 \n",
      "\t\t\tINNER JOIN\n",
      "\t\t\tWORK.DW_Table2 t2 ON (t1.ID = t2.ID  AND T1.POLICY_ID=T2.POLICY_ID \n",
      "\t\t\t\t\t\t\t\t\t\t   AND t1.MAX_PROCESS_Time=t2.PROCESS_Time)\n",
      "\tWHERE t2.ID<>-1 \n",
      "\t;\n",
      "quit;\"\n",
      "\n"
     ]
    }
   ],
   "source": [
    "#trouble shooting in regex101\n",
    "# https://stackoverflow.com/questions/47966350/regex-to-include-all-characters-with-at-least-one-letter-and-at-least-6-characte\n",
    "# https://stackoverflow.com/questions/3028642/regular-expression-for-letters-numbers-and\n",
    "#test another pattern\n",
    "prefix=  r\"strip(left(\"\n",
    "appendix =r\"))\"\n",
    "pattern = re.compile((re.escape(prefix)) + r'([a-zA-Z0-9_.-]*)' + re.escape(appendix) , re.IGNORECASE) \n",
    "print(re.sub(pattern, r'trim(\\1)', query))"
   ]
  },
  {
   "cell_type": "code",
   "execution_count": null,
   "metadata": {},
   "outputs": [],
   "source": []
  }
 ],
 "metadata": {
  "kernelspec": {
   "display_name": "Python 3",
   "language": "python",
   "name": "python3"
  },
  "language_info": {
   "codemirror_mode": {
    "name": "ipython",
    "version": 3
   },
   "file_extension": ".py",
   "mimetype": "text/x-python",
   "name": "python",
   "nbconvert_exporter": "python",
   "pygments_lexer": "ipython3",
   "version": "3.7.3"
  }
 },
 "nbformat": 4,
 "nbformat_minor": 4
}
