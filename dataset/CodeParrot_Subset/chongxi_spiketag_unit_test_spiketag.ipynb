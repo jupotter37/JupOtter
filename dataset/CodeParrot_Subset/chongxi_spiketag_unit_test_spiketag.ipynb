{
 "cells": [
  {
   "cell_type": "code",
   "execution_count": 1,
   "metadata": {
    "ExecuteTime": {
     "end_time": "2019-03-13T19:32:24.519803Z",
     "start_time": "2019-03-13T19:32:24.489777Z"
    }
   },
   "outputs": [],
   "source": [
    "%load_ext autoreload"
   ]
  },
  {
   "cell_type": "code",
   "execution_count": 2,
   "metadata": {
    "ExecuteTime": {
     "end_time": "2019-03-13T19:32:24.905212Z",
     "start_time": "2019-03-13T19:32:24.901857Z"
    }
   },
   "outputs": [],
   "source": [
    "%autoreload 2"
   ]
  },
  {
   "cell_type": "code",
   "execution_count": 3,
   "metadata": {
    "ExecuteTime": {
     "end_time": "2019-03-13T19:32:25.758527Z",
     "start_time": "2019-03-13T19:32:25.320488Z"
    },
    "scrolled": false
   },
   "outputs": [
    {
     "name": "stdout",
     "output_type": "stream",
     "text": [
      "Populating the interactive namespace from numpy and matplotlib\n"
     ]
    }
   ],
   "source": [
    "%pylab inline"
   ]
  },
  {
   "cell_type": "code",
   "execution_count": 4,
   "metadata": {
    "ExecuteTime": {
     "end_time": "2019-03-13T19:32:26.059450Z",
     "start_time": "2019-03-13T19:32:26.033924Z"
    }
   },
   "outputs": [],
   "source": [
    "%gui qt"
   ]
  },
  {
   "cell_type": "code",
   "execution_count": 5,
   "metadata": {
    "ExecuteTime": {
     "end_time": "2019-03-13T19:32:29.388814Z",
     "start_time": "2019-03-13T19:32:26.915664Z"
    }
   },
   "outputs": [],
   "source": [
    "from spiketag.base import *"
   ]
  },
  {
   "cell_type": "code",
   "execution_count": 6,
   "metadata": {
    "ExecuteTime": {
     "end_time": "2019-03-13T19:32:29.433417Z",
     "start_time": "2019-03-13T19:32:29.391398Z"
    }
   },
   "outputs": [],
   "source": [
    "from spiketag.view import *"
   ]
  },
  {
   "cell_type": "code",
   "execution_count": 7,
   "metadata": {
    "ExecuteTime": {
     "end_time": "2019-03-13T19:32:29.479477Z",
     "start_time": "2019-03-13T19:32:29.435760Z"
    }
   },
   "outputs": [],
   "source": [
    "prb = probe(shank_no=1)\n",
    "prb[0] = np.array([0,1,2])"
   ]
  },
  {
   "cell_type": "code",
   "execution_count": 8,
   "metadata": {
    "ExecuteTime": {
     "end_time": "2019-03-13T19:32:29.804169Z",
     "start_time": "2019-03-13T19:32:29.754059Z"
    }
   },
   "outputs": [],
   "source": [
    "prb.mapping[0] = np.array([-10,0])\n",
    "prb.mapping[1] = np.array([10,0])\n",
    "prb.mapping[2] = np.array([0,10])"
   ]
  },
  {
   "cell_type": "code",
   "execution_count": 9,
   "metadata": {
    "ExecuteTime": {
     "end_time": "2019-03-13T19:32:32.930904Z",
     "start_time": "2019-03-13T19:32:32.883283Z"
    }
   },
   "outputs": [],
   "source": [
    "prb.fs = 20000.\n",
    "prb.n_ch = 3\n",
    "prb.reorder_by_chip=False"
   ]
  },
  {
   "cell_type": "code",
   "execution_count": 11,
   "metadata": {
    "ExecuteTime": {
     "end_time": "2019-03-13T19:20:37.258382Z",
     "start_time": "2019-03-13T19:20:37.132239Z"
    },
    "scrolled": false
   },
   "outputs": [
    {
     "name": "stderr",
     "output_type": "stream",
     "text": [
      "2019-03-13 15:20:37,243 - spiketag - INFO - #############  load data  ###################\n",
      "2019-03-13 15:20:37,244 - spiketag - INFO - ./cell_0109.bin loaded, it contains: \n",
      "2019-03-13 15:20:37,245 - spiketag - INFO - 9280040.0 * 3 points (111360480 bytes) \n",
      "2019-03-13 15:20:37,245 - spiketag - INFO - 3 channels with sampling rate of 20000.0000 \n",
      "2019-03-13 15:20:37,246 - spiketag - INFO - 464.002 secs (7.733 mins) of data\n",
      "2019-03-13 15:20:37,247 - spiketag - INFO - #############################################\n",
      "2019-03-13 15:20:37,247 - spiketag - INFO - processing folder: ./\n",
      "2019-03-13 15:20:37,254 - spiketag - INFO - raw data have 9309 spks\n",
      "2019-03-13 15:20:37,255 - spiketag - INFO - ----------------success------------------\n",
      "2019-03-13 15:20:37,255 - spiketag - INFO -  \n"
     ]
    }
   ],
   "source": [
    "mua = MUA(mua_filename='./cell_0109.bin', spk_filename='./cell_0109.spk.bin',probe=prb, binary_radix=11, scale=False,\n",
    "          cutoff=[-100,100], time_segs=np.array([[0, 40], [100., 200.]]) )"
   ]
  },
  {
   "cell_type": "code",
   "execution_count": 12,
   "metadata": {
    "ExecuteTime": {
     "end_time": "2019-03-13T19:20:40.433217Z",
     "start_time": "2019-03-13T19:20:40.378694Z"
    }
   },
   "outputs": [
    {
     "data": {
      "text/plain": [
       "array([[   4131,    4458,    6466, ..., 9278006, 9278135, 9279424],\n",
       "       [      1,       1,       1, ...,       1,       1,       1]],\n",
       "      dtype=int32)"
      ]
     },
     "execution_count": 12,
     "metadata": {},
     "output_type": "execute_result"
    }
   ],
   "source": [
    "mua.pivotal_pos"
   ]
  },
  {
   "cell_type": "code",
   "execution_count": 13,
   "metadata": {
    "ExecuteTime": {
     "end_time": "2019-03-13T19:20:42.130052Z",
     "start_time": "2019-03-13T19:20:42.080031Z"
    },
    "scrolled": true
   },
   "outputs": [
    {
     "data": {
      "text/plain": [
       "array([   4131,    4458,    6466, ..., 9278006, 9278135, 9279424],\n",
       "      dtype=int32)"
      ]
     },
     "execution_count": 13,
     "metadata": {},
     "output_type": "execute_result"
    }
   ],
   "source": [
    "mua.pivotal_pos[0]"
   ]
  },
  {
   "cell_type": "code",
   "execution_count": 14,
   "metadata": {
    "ExecuteTime": {
     "end_time": "2019-03-13T19:20:54.296522Z",
     "start_time": "2019-03-13T19:20:44.239316Z"
    }
   },
   "outputs": [],
   "source": [
    "spks = np.fromfile('./cell_0109.spk.bin', dtype=np.int32)"
   ]
  },
  {
   "cell_type": "code",
   "execution_count": 15,
   "metadata": {
    "ExecuteTime": {
     "end_time": "2019-03-13T19:20:55.228700Z",
     "start_time": "2019-03-13T19:20:54.299159Z"
    },
    "scrolled": true
   },
   "outputs": [
    {
     "data": {
      "text/plain": [
       "array([   4131,    4458,    6466, ..., 9278006, 9278135, 9279424],\n",
       "      dtype=int32)"
      ]
     },
     "execution_count": 15,
     "metadata": {},
     "output_type": "execute_result"
    }
   ],
   "source": [
    "spks[::2]"
   ]
  },
  {
   "cell_type": "code",
   "execution_count": 16,
   "metadata": {
    "ExecuteTime": {
     "end_time": "2019-03-13T19:21:05.302189Z",
     "start_time": "2019-03-13T19:20:55.233175Z"
    }
   },
   "outputs": [
    {
     "data": {
      "text/plain": [
       "True"
      ]
     },
     "execution_count": 16,
     "metadata": {},
     "output_type": "execute_result"
    }
   ],
   "source": [
    "np.allclose(mua.pivotal_pos[0], spks[::2])"
   ]
  },
  {
   "cell_type": "markdown",
   "metadata": {},
   "source": [
    "## Unit test for individual views"
   ]
  },
  {
   "cell_type": "code",
   "execution_count": 17,
   "metadata": {
    "ExecuteTime": {
     "end_time": "2019-03-13T19:21:12.616597Z",
     "start_time": "2019-03-13T19:21:09.358625Z"
    }
   },
   "outputs": [],
   "source": [
    "wview = wave_view(mua.data, spks=spks)\n",
    "wview.show()"
   ]
  },
  {
   "cell_type": "code",
   "execution_count": 18,
   "metadata": {
    "ExecuteTime": {
     "end_time": "2019-03-13T19:21:23.493674Z",
     "start_time": "2019-03-13T19:21:23.297235Z"
    },
    "scrolled": false
   },
   "outputs": [
    {
     "name": "stderr",
     "output_type": "stream",
     "text": [
      "2019-03-13 15:21:23,346 - spiketag - INFO - mua.tospk() with time_cutoff=True, amp_cutoff=True, speed_cutoff=False\n",
      "2019-03-13 15:21:23,486 - spiketag - INFO - group 0 delete 100.0%(2884.0/2884.0) spks via cutoff\n",
      "2019-03-13 15:21:23,488 - spiketag - INFO - ----------------success------------------\n",
      "2019-03-13 15:21:23,488 - spiketag - INFO -  \n"
     ]
    }
   ],
   "source": [
    "spk = mua.tospk()"
   ]
  },
  {
   "cell_type": "code",
   "execution_count": 19,
   "metadata": {
    "ExecuteTime": {
     "end_time": "2019-03-13T19:21:28.854022Z",
     "start_time": "2019-03-13T19:21:28.800765Z"
    }
   },
   "outputs": [
    {
     "data": {
      "text/plain": [
       "array([], dtype=float64)"
      ]
     },
     "execution_count": 19,
     "metadata": {},
     "output_type": "execute_result"
    }
   ],
   "source": [
    "mua.spk_times[0]/mua.fs"
   ]
  },
  {
   "cell_type": "code",
   "execution_count": 20,
   "metadata": {
    "ExecuteTime": {
     "end_time": "2019-03-13T19:21:29.490215Z",
     "start_time": "2019-03-13T19:21:29.438123Z"
    }
   },
   "outputs": [
    {
     "data": {
      "text/plain": [
       "array([0.0000000e+00, 5.0000000e-05, 1.0000000e-04, ..., 4.6400185e+02,\n",
       "       4.6400190e+02, 4.6400195e+02])"
      ]
     },
     "execution_count": 20,
     "metadata": {},
     "output_type": "execute_result"
    }
   ],
   "source": [
    "mua.t"
   ]
  },
  {
   "cell_type": "code",
   "execution_count": 21,
   "metadata": {
    "ExecuteTime": {
     "end_time": "2019-03-13T19:21:32.105289Z",
     "start_time": "2019-03-13T19:21:32.053884Z"
    }
   },
   "outputs": [],
   "source": [
    "time_segs = np.array([[0, 40], [100., 200.]])"
   ]
  },
  {
   "cell_type": "code",
   "execution_count": 22,
   "metadata": {
    "ExecuteTime": {
     "end_time": "2019-03-13T19:21:34.958722Z",
     "start_time": "2019-03-13T19:21:34.906026Z"
    }
   },
   "outputs": [
    {
     "data": {
      "text/plain": [
       "(0,)"
      ]
     },
     "execution_count": 22,
     "metadata": {},
     "output_type": "execute_result"
    }
   ],
   "source": [
    "mua.spk_times[0][np.logical_and(mua.spk_times[0]/mua.fs<time_segs[1][1], mua.spk_times[0]/mua.fs>time_segs[1][0])].shape"
   ]
  },
  {
   "cell_type": "code",
   "execution_count": 23,
   "metadata": {
    "ExecuteTime": {
     "end_time": "2019-03-13T19:21:35.617365Z",
     "start_time": "2019-03-13T19:21:35.565187Z"
    }
   },
   "outputs": [
    {
     "data": {
      "text/plain": [
       "(0,)"
      ]
     },
     "execution_count": 23,
     "metadata": {},
     "output_type": "execute_result"
    }
   ],
   "source": [
    "mua.spk_times[0].shape"
   ]
  },
  {
   "cell_type": "code",
   "execution_count": 22,
   "metadata": {
    "ExecuteTime": {
     "end_time": "2018-07-27T03:23:49.243260Z",
     "start_time": "2018-07-27T03:23:49.165075Z"
    }
   },
   "outputs": [],
   "source": [
    "def find_spk_in_time_seg(spk_times, time_segs):\n",
    "    spk_times_in_range = []\n",
    "    for time_seg in time_segs:\n",
    "        spk_in_time_seg = spk_times[logical_and(spk_times<time_seg[1], spk_times>time_seg[0])]\n",
    "        spk_times_in_range.append(spk_in_time_seg)\n",
    "    return np.hstack(np.array(spk_times_in_range))"
   ]
  },
  {
   "cell_type": "code",
   "execution_count": 24,
   "metadata": {
    "ExecuteTime": {
     "end_time": "2018-07-27T03:24:37.740381Z",
     "start_time": "2018-07-27T03:24:35.432606Z"
    },
    "scrolled": true
   },
   "outputs": [
    {
     "name": "stdout",
     "output_type": "stream",
     "text": [
      "31.7 µs ± 1.86 µs per loop (mean ± std. dev. of 7 runs, 10000 loops each)\n"
     ]
    }
   ],
   "source": [
    "%%timeit \n",
    "spk_times = find_spk_in_time_seg(mua.spk_times[0]/mua.fs, time_segs)"
   ]
  },
  {
   "cell_type": "code",
   "execution_count": null,
   "metadata": {},
   "outputs": [],
   "source": []
  },
  {
   "cell_type": "code",
   "execution_count": null,
   "metadata": {},
   "outputs": [],
   "source": []
  },
  {
   "cell_type": "code",
   "execution_count": null,
   "metadata": {},
   "outputs": [],
   "source": []
  },
  {
   "cell_type": "code",
   "execution_count": null,
   "metadata": {},
   "outputs": [],
   "source": []
  },
  {
   "cell_type": "code",
   "execution_count": 23,
   "metadata": {
    "ExecuteTime": {
     "end_time": "2018-07-24T21:13:09.184441Z",
     "start_time": "2018-07-24T21:13:09.116625Z"
    }
   },
   "outputs": [
    {
     "data": {
      "text/plain": [
       "(2838, 19, 3)"
      ]
     },
     "execution_count": 23,
     "metadata": {},
     "output_type": "execute_result"
    }
   ],
   "source": [
    "spk.spk[0].shape"
   ]
  },
  {
   "cell_type": "code",
   "execution_count": 24,
   "metadata": {
    "ExecuteTime": {
     "end_time": "2018-07-24T21:07:45.418248Z",
     "start_time": "2018-07-24T21:07:45.353060Z"
    }
   },
   "outputs": [],
   "source": [
    "s = np.delete(spk.spk[0], [0,1,2], axis=0)"
   ]
  },
  {
   "cell_type": "code",
   "execution_count": 25,
   "metadata": {
    "ExecuteTime": {
     "end_time": "2018-07-24T21:07:49.357199Z",
     "start_time": "2018-07-24T21:07:49.285277Z"
    },
    "scrolled": true
   },
   "outputs": [
    {
     "data": {
      "text/plain": [
       "(2835, 19, 3)"
      ]
     },
     "execution_count": 25,
     "metadata": {},
     "output_type": "execute_result"
    }
   ],
   "source": [
    "s.shape"
   ]
  },
  {
   "cell_type": "code",
   "execution_count": 24,
   "metadata": {
    "ExecuteTime": {
     "end_time": "2019-03-13T19:21:43.366443Z",
     "start_time": "2019-03-13T19:21:43.312669Z"
    }
   },
   "outputs": [
    {
     "name": "stderr",
     "output_type": "stream",
     "text": [
      "2019-03-13 15:21:43,361 - spiketag - INFO - spk._tofet(group_id=0, method=pca, ncomp=6, whiten=False)\n",
      "2019-03-13 15:21:43,362 - spiketag - INFO - ----------------success------------------\n",
      "2019-03-13 15:21:43,363 - spiketag - INFO -  \n"
     ]
    }
   ],
   "source": [
    "fet = spk.tofet()"
   ]
  },
  {
   "cell_type": "code",
   "execution_count": 30,
   "metadata": {
    "ExecuteTime": {
     "end_time": "2019-03-13T19:23:28.742876Z",
     "start_time": "2019-03-13T19:23:28.435755Z"
    },
    "scrolled": true
   },
   "outputs": [
    {
     "ename": "KeyError",
     "evalue": "0",
     "output_type": "error",
     "traceback": [
      "\u001b[0;31m---------------------------------------------------------------------------\u001b[0m",
      "\u001b[0;31mKeyError\u001b[0m                                  Traceback (most recent call last)",
      "\u001b[0;32m<ipython-input-30-a4daa586633d>\u001b[0m in \u001b[0;36m<module>\u001b[0;34m\u001b[0m\n\u001b[0;32m----> 1\u001b[0;31m \u001b[0mclu\u001b[0m \u001b[0;34m=\u001b[0m \u001b[0mfet\u001b[0m\u001b[0;34m.\u001b[0m\u001b[0mtoclu\u001b[0m\u001b[0;34m(\u001b[0m\u001b[0mmethod\u001b[0m\u001b[0;34m=\u001b[0m\u001b[0;34m'dpgmm'\u001b[0m\u001b[0;34m,\u001b[0m \u001b[0mgroup_id\u001b[0m\u001b[0;34m=\u001b[0m\u001b[0;36m0\u001b[0m\u001b[0;34m,\u001b[0m \u001b[0mn_comp\u001b[0m\u001b[0;34m=\u001b[0m\u001b[0;36m8\u001b[0m\u001b[0;34m,\u001b[0m \u001b[0mmax_iter\u001b[0m\u001b[0;34m=\u001b[0m\u001b[0;36m400\u001b[0m\u001b[0;34m)\u001b[0m\u001b[0;34m\u001b[0m\u001b[0;34m\u001b[0m\u001b[0m\n\u001b[0m",
      "\u001b[0;32m~/Work/pydev/spiketag/spiketag/base/FET.py\u001b[0m in \u001b[0;36mtoclu\u001b[0;34m(self, method, group_id, **kwargs)\u001b[0m\n\u001b[1;32m    130\u001b[0m         \u001b[0;32melse\u001b[0m\u001b[0;34m:\u001b[0m\u001b[0;34m\u001b[0m\u001b[0;34m\u001b[0m\u001b[0m\n\u001b[1;32m    131\u001b[0m             \u001b[0mself\u001b[0m\u001b[0;34m.\u001b[0m\u001b[0mbackend\u001b[0m\u001b[0;34m.\u001b[0m\u001b[0mappend\u001b[0m\u001b[0;34m(\u001b[0m\u001b[0mcluster\u001b[0m\u001b[0;34m(\u001b[0m\u001b[0mself\u001b[0m\u001b[0;34m.\u001b[0m\u001b[0mclu_status\u001b[0m\u001b[0;34m)\u001b[0m\u001b[0;34m)\u001b[0m\u001b[0;34m\u001b[0m\u001b[0;34m\u001b[0m\u001b[0m\n\u001b[0;32m--> 132\u001b[0;31m             \u001b[0mself\u001b[0m\u001b[0;34m.\u001b[0m\u001b[0mbackend\u001b[0m\u001b[0;34m[\u001b[0m\u001b[0;34m-\u001b[0m\u001b[0;36m1\u001b[0m\u001b[0;34m]\u001b[0m\u001b[0;34m.\u001b[0m\u001b[0mfit\u001b[0m\u001b[0;34m(\u001b[0m\u001b[0mmethod\u001b[0m\u001b[0;34m,\u001b[0m \u001b[0mself\u001b[0m\u001b[0;34m.\u001b[0m\u001b[0mfet\u001b[0m\u001b[0;34m[\u001b[0m\u001b[0mgroup_id\u001b[0m\u001b[0;34m]\u001b[0m\u001b[0;34m,\u001b[0m \u001b[0mself\u001b[0m\u001b[0;34m.\u001b[0m\u001b[0mclu\u001b[0m\u001b[0;34m[\u001b[0m\u001b[0mgroup_id\u001b[0m\u001b[0;34m]\u001b[0m\u001b[0;34m,\u001b[0m \u001b[0;34m**\u001b[0m\u001b[0mkwargs\u001b[0m\u001b[0;34m)\u001b[0m\u001b[0;34m\u001b[0m\u001b[0;34m\u001b[0m\u001b[0m\n\u001b[0m\u001b[1;32m    133\u001b[0m \u001b[0;34m\u001b[0m\u001b[0m\n\u001b[1;32m    134\u001b[0m \u001b[0;34m\u001b[0m\u001b[0m\n",
      "\u001b[0;31mKeyError\u001b[0m: 0"
     ]
    }
   ],
   "source": [
    "clu = fet.toclu(method='dpgmm', group_id=0, n_comp=8, max_iter=400)"
   ]
  },
  {
   "cell_type": "code",
   "execution_count": 26,
   "metadata": {
    "ExecuteTime": {
     "end_time": "2019-03-13T19:22:08.407061Z",
     "start_time": "2019-03-13T19:22:08.250143Z"
    }
   },
   "outputs": [],
   "source": [
    "spkview = spike_view()"
   ]
  },
  {
   "cell_type": "code",
   "execution_count": 27,
   "metadata": {
    "ExecuteTime": {
     "end_time": "2019-03-13T19:22:12.099543Z",
     "start_time": "2019-03-13T19:22:09.910103Z"
    }
   },
   "outputs": [
    {
     "ename": "NameError",
     "evalue": "name 'clu' is not defined",
     "output_type": "error",
     "traceback": [
      "\u001b[0;31m---------------------------------------------------------------------------\u001b[0m",
      "\u001b[0;31mNameError\u001b[0m                                 Traceback (most recent call last)",
      "\u001b[0;32m<ipython-input-27-189e5433e664>\u001b[0m in \u001b[0;36m<module>\u001b[0;34m\u001b[0m\n\u001b[0;32m----> 1\u001b[0;31m \u001b[0mspkview\u001b[0m\u001b[0;34m.\u001b[0m\u001b[0mset_data\u001b[0m\u001b[0;34m(\u001b[0m\u001b[0mspk\u001b[0m\u001b[0;34m.\u001b[0m\u001b[0mspk\u001b[0m\u001b[0;34m[\u001b[0m\u001b[0;36m0\u001b[0m\u001b[0;34m]\u001b[0m\u001b[0;34m,\u001b[0m \u001b[0mclu\u001b[0m\u001b[0;34m[\u001b[0m\u001b[0;36m0\u001b[0m\u001b[0;34m]\u001b[0m\u001b[0;34m)\u001b[0m\u001b[0;34m\u001b[0m\u001b[0;34m\u001b[0m\u001b[0m\n\u001b[0m",
      "\u001b[0;31mNameError\u001b[0m: name 'clu' is not defined"
     ]
    }
   ],
   "source": [
    "spkview.set_data(spk.spk[0], clu[0])"
   ]
  },
  {
   "cell_type": "code",
   "execution_count": 35,
   "metadata": {
    "ExecuteTime": {
     "end_time": "2018-06-06T22:54:30.451189Z",
     "start_time": "2018-06-06T22:54:30.327824Z"
    }
   },
   "outputs": [
    {
     "name": "stderr",
     "output_type": "stream",
     "text": [
      "ERROR: Invoking <bound method BaseCanvas.on_draw of <spike_view (PyQt5) at 0x150027780>> repeat 2\n"
     ]
    }
   ],
   "source": [
    "spkview.show()"
   ]
  },
  {
   "cell_type": "code",
   "execution_count": 31,
   "metadata": {
    "ExecuteTime": {
     "end_time": "2018-06-06T22:55:05.970177Z",
     "start_time": "2018-06-06T22:55:05.701687Z"
    }
   },
   "outputs": [],
   "source": [
    "fetview = scatter_3d_view()"
   ]
  },
  {
   "cell_type": "code",
   "execution_count": 32,
   "metadata": {
    "ExecuteTime": {
     "end_time": "2018-06-06T22:55:11.123362Z",
     "start_time": "2018-06-06T22:55:11.052868Z"
    }
   },
   "outputs": [],
   "source": [
    "fetview.set_data(fet.fet[0], clu[0])"
   ]
  },
  {
   "cell_type": "code",
   "execution_count": 33,
   "metadata": {
    "ExecuteTime": {
     "end_time": "2018-06-06T22:55:11.902626Z",
     "start_time": "2018-06-06T22:55:11.765860Z"
    }
   },
   "outputs": [],
   "source": [
    "fetview.show()"
   ]
  },
  {
   "cell_type": "code",
   "execution_count": 36,
   "metadata": {
    "ExecuteTime": {
     "end_time": "2018-06-06T22:55:38.601431Z",
     "start_time": "2018-06-06T22:55:38.394865Z"
    }
   },
   "outputs": [],
   "source": [
    "ampview = amplitude_view(fs=prb.fs, scale=1)"
   ]
  },
  {
   "cell_type": "code",
   "execution_count": 37,
   "metadata": {
    "ExecuteTime": {
     "end_time": "2018-06-06T22:57:17.938053Z",
     "start_time": "2018-06-06T22:57:17.863540Z"
    }
   },
   "outputs": [],
   "source": [
    "ampview.set_data(spk.spk[0], clu[0], mua.pivotal_pos[0])"
   ]
  },
  {
   "cell_type": "code",
   "execution_count": 38,
   "metadata": {
    "ExecuteTime": {
     "end_time": "2018-06-06T22:57:18.777267Z",
     "start_time": "2018-06-06T22:57:18.466670Z"
    }
   },
   "outputs": [],
   "source": [
    "ampview.show()"
   ]
  },
  {
   "cell_type": "code",
   "execution_count": null,
   "metadata": {},
   "outputs": [],
   "source": []
  },
  {
   "cell_type": "code",
   "execution_count": 36,
   "metadata": {
    "ExecuteTime": {
     "end_time": "2018-06-06T23:00:50.924707Z",
     "start_time": "2018-06-06T23:00:50.757003Z"
    }
   },
   "outputs": [],
   "source": [
    "treeview = ctree_view()"
   ]
  },
  {
   "cell_type": "code",
   "execution_count": 37,
   "metadata": {
    "ExecuteTime": {
     "end_time": "2018-06-06T23:00:54.203004Z",
     "start_time": "2018-06-06T23:00:54.041638Z"
    },
    "scrolled": false
   },
   "outputs": [],
   "source": [
    "treeview.set_data(clu[0])"
   ]
  },
  {
   "cell_type": "code",
   "execution_count": 38,
   "metadata": {
    "ExecuteTime": {
     "end_time": "2018-06-06T23:00:54.715240Z",
     "start_time": "2018-06-06T23:00:54.577475Z"
    },
    "scrolled": true
   },
   "outputs": [
    {
     "name": "stderr",
     "output_type": "stream",
     "text": [
      "WARNING: Traceback (most recent call last):\n",
      "  File \"/anaconda2/envs/py37/lib/python3.6/runpy.py\", line 193, in _run_module_as_main\n",
      "    \"__main__\", mod_spec)\n",
      "  File \"/anaconda2/envs/py37/lib/python3.6/runpy.py\", line 85, in _run_code\n",
      "    exec(code, run_globals)\n",
      "  File \"/anaconda2/envs/py37/lib/python3.6/site-packages/ipykernel_launcher.py\", line 16, in <module>\n",
      "    app.launch_new_instance()\n",
      "  File \"/anaconda2/envs/py37/lib/python3.6/site-packages/traitlets/config/application.py\", line 658, in launch_instance\n",
      "    app.start()\n",
      "  File \"/anaconda2/envs/py37/lib/python3.6/site-packages/ipykernel/kernelapp.py\", line 505, in start\n",
      "    self.io_loop.start()\n",
      "  File \"/anaconda2/envs/py37/lib/python3.6/site-packages/tornado/platform/asyncio.py\", line 132, in start\n",
      "    self.asyncio_loop.run_forever()\n",
      "  File \"/anaconda2/envs/py37/lib/python3.6/asyncio/base_events.py\", line 427, in run_forever\n",
      "    self._run_once()\n",
      "  File \"/anaconda2/envs/py37/lib/python3.6/asyncio/base_events.py\", line 1440, in _run_once\n",
      "    handle._run()\n",
      "  File \"/anaconda2/envs/py37/lib/python3.6/asyncio/events.py\", line 145, in _run\n",
      "    self._callback(*self._args)\n",
      "  File \"/anaconda2/envs/py37/lib/python3.6/site-packages/tornado/ioloop.py\", line 758, in _run_callback\n",
      "    ret = callback()\n",
      "  File \"/anaconda2/envs/py37/lib/python3.6/site-packages/tornado/stack_context.py\", line 300, in null_wrapper\n",
      "    return fn(*args, **kwargs)\n",
      "  File \"/anaconda2/envs/py37/lib/python3.6/site-packages/tornado/gen.py\", line 1233, in inner\n",
      "    self.run()\n",
      "  File \"/anaconda2/envs/py37/lib/python3.6/site-packages/tornado/gen.py\", line 1147, in run\n",
      "    yielded = self.gen.send(value)\n",
      "  File \"/anaconda2/envs/py37/lib/python3.6/site-packages/ipykernel/kernelbase.py\", line 357, in process_one\n",
      "    yield gen.maybe_future(dispatch(*args))\n",
      "  File \"/anaconda2/envs/py37/lib/python3.6/site-packages/tornado/gen.py\", line 326, in wrapper\n",
      "    yielded = next(result)\n",
      "  File \"/anaconda2/envs/py37/lib/python3.6/site-packages/ipykernel/kernelbase.py\", line 267, in dispatch_shell\n",
      "    yield gen.maybe_future(handler(stream, idents, msg))\n",
      "  File \"/anaconda2/envs/py37/lib/python3.6/site-packages/tornado/gen.py\", line 326, in wrapper\n",
      "    yielded = next(result)\n",
      "  File \"/anaconda2/envs/py37/lib/python3.6/site-packages/ipykernel/kernelbase.py\", line 534, in execute_request\n",
      "    user_expressions, allow_stdin,\n",
      "  File \"/anaconda2/envs/py37/lib/python3.6/site-packages/tornado/gen.py\", line 326, in wrapper\n",
      "    yielded = next(result)\n",
      "  File \"/anaconda2/envs/py37/lib/python3.6/site-packages/ipykernel/ipkernel.py\", line 294, in do_execute\n",
      "    res = shell.run_cell(code, store_history=store_history, silent=silent)\n",
      "  File \"/anaconda2/envs/py37/lib/python3.6/site-packages/ipykernel/zmqshell.py\", line 536, in run_cell\n",
      "    return super(ZMQInteractiveShell, self).run_cell(*args, **kwargs)\n",
      "  File \"/anaconda2/envs/py37/lib/python3.6/site-packages/IPython/core/interactiveshell.py\", line 2819, in run_cell\n",
      "    raw_cell, store_history, silent, shell_futures)\n",
      "  File \"/anaconda2/envs/py37/lib/python3.6/site-packages/IPython/core/interactiveshell.py\", line 2845, in _run_cell\n",
      "    return runner(coro)\n",
      "  File \"/anaconda2/envs/py37/lib/python3.6/site-packages/IPython/core/async_helpers.py\", line 67, in _pseudo_sync_runner\n",
      "    coro.send(None)\n",
      "  File \"/anaconda2/envs/py37/lib/python3.6/site-packages/IPython/core/interactiveshell.py\", line 3020, in run_cell_async\n",
      "    interactivity=interactivity, compiler=compiler, result=result)\n",
      "  File \"/anaconda2/envs/py37/lib/python3.6/site-packages/IPython/core/interactiveshell.py\", line 3191, in run_ast_nodes\n",
      "    if (yield from self.run_code(code, result)):\n",
      "  File \"/anaconda2/envs/py37/lib/python3.6/site-packages/IPython/core/interactiveshell.py\", line 3267, in run_code\n",
      "    exec(code_obj, self.user_global_ns, self.user_ns)\n",
      "  File \"<ipython-input-38-d18c418556e8>\", line 1, in <module>\n",
      "    treeview.show()\n",
      "  File \"/Users/laic/Work/pydev/vispy_cus/vispy/vispy/app/canvas.py\", line 429, in show\n",
      "    self._backend._vispy_set_visible(visible)\n",
      "  File \"/Users/laic/Work/pydev/vispy_cus/vispy/vispy/app/backends/_qt.py\", line 323, in _vispy_set_visible\n",
      "    self.showNormal()\n",
      "  File \"/Users/laic/Work/pydev/vispy_cus/vispy/vispy/app/backends/_qt.py\", line 657, in paintGL\n",
      "    self._vispy_canvas.events.draw(region=None)\n",
      "  File \"/Users/laic/Work/pydev/vispy_cus/vispy/vispy/util/event.py\", line 455, in __call__\n",
      "    self._invoke_callback(cb, event)\n",
      "  File \"/Users/laic/Work/pydev/vispy_cus/vispy/vispy/util/event.py\", line 475, in _invoke_callback\n",
      "    self, cb_event=(cb, event))\n",
      "  << caught exception here: >>\n",
      "  File \"/Users/laic/Work/pydev/vispy_cus/vispy/vispy/util/event.py\", line 471, in _invoke_callback\n",
      "    cb(event)\n",
      "  File \"/Users/laic/Work/pydev/vispy_cus/vispy/vispy/scene/canvas.py\", line 207, in on_draw\n",
      "    self._draw_scene()\n",
      "  File \"/Users/laic/Work/pydev/vispy_cus/vispy/vispy/scene/canvas.py\", line 253, in _draw_scene\n",
      "    self.draw_visual(self.scene)\n",
      "  File \"/Users/laic/Work/pydev/vispy_cus/vispy/vispy/scene/canvas.py\", line 291, in draw_visual\n",
      "    node.draw()\n",
      "  File \"/Users/laic/Work/pydev/vispy_cus/vispy/vispy/scene/visuals.py\", line 98, in draw\n",
      "    self._visual_superclass.draw(self)\n",
      "  File \"/Users/laic/Work/pydev/vispy_cus/vispy/vispy/visuals/mesh.py\", line 385, in draw\n",
      "    Visual.draw(self, *args, **kwds)\n",
      "  File \"/Users/laic/Work/pydev/vispy_cus/vispy/vispy/visuals/visual.py\", line 432, in draw\n",
      "    if self._prepare_draw(view=self) is False:\n",
      "  File \"/Users/laic/Work/pydev/vispy_cus/vispy/vispy/visuals/mesh.py\", line 380, in _prepare_draw\n",
      "    if self._update_data() is False:\n",
      "  File \"/Users/laic/Work/pydev/vispy_cus/vispy/vispy/visuals/mesh.py\", line 306, in _update_data\n",
      "    v = md.get_vertices(indexed='faces')\n",
      "  File \"/Users/laic/Work/pydev/vispy_cus/vispy/vispy/geometry/meshdata.py\", line 195, in get_vertices\n",
      "    self._vertices[self.get_faces()]\n",
      "IndexError: arrays used as indices must be of integer (or boolean) type\n",
      "ERROR: Invoking <bound method SceneCanvas.on_draw of <ctree_view (PyQt5) at 0x154438c18>> for DrawEvent\n",
      "ERROR: Invoking <bound method SceneCanvas.on_draw of <ctree_view (PyQt5) at 0x154438c18>> repeat 2\n"
     ]
    }
   ],
   "source": [
    "treeview.show()"
   ]
  },
  {
   "cell_type": "code",
   "execution_count": 39,
   "metadata": {
    "ExecuteTime": {
     "end_time": "2018-06-06T23:01:05.907536Z",
     "start_time": "2018-06-06T23:01:05.832103Z"
    }
   },
   "outputs": [],
   "source": [
    "corview = correlogram_view(fs=prb.fs)"
   ]
  },
  {
   "cell_type": "code",
   "execution_count": 40,
   "metadata": {
    "ExecuteTime": {
     "end_time": "2018-06-06T23:01:10.112927Z",
     "start_time": "2018-06-06T23:01:10.038276Z"
    }
   },
   "outputs": [
    {
     "ename": "AssertionError",
     "evalue": "",
     "output_type": "error",
     "traceback": [
      "\u001b[0;31m---------------------------------------------------------------------------\u001b[0m",
      "\u001b[0;31mAssertionError\u001b[0m                            Traceback (most recent call last)",
      "\u001b[0;32m<ipython-input-40-14462d2bbbcd>\u001b[0m in \u001b[0;36m<module>\u001b[0;34m\u001b[0m\n\u001b[0;32m----> 1\u001b[0;31m \u001b[0mcorview\u001b[0m\u001b[0;34m.\u001b[0m\u001b[0mset_data\u001b[0m\u001b[0;34m(\u001b[0m\u001b[0mclu\u001b[0m\u001b[0;34m[\u001b[0m\u001b[0;36m0\u001b[0m\u001b[0;34m]\u001b[0m\u001b[0;34m,\u001b[0m \u001b[0mmua\u001b[0m\u001b[0;34m.\u001b[0m\u001b[0mpivotal_pos\u001b[0m\u001b[0;34m[\u001b[0m\u001b[0;36m0\u001b[0m\u001b[0;34m]\u001b[0m\u001b[0;34m)\u001b[0m\u001b[0;34m\u001b[0m\u001b[0;34m\u001b[0m\u001b[0m\n\u001b[0m",
      "\u001b[0;32m~/Work/pydev/spiketag/spiketag/view/correlogram_view.py\u001b[0m in \u001b[0;36mset_data\u001b[0;34m(self, clu, spk_times)\u001b[0m\n\u001b[1;32m     53\u001b[0m \u001b[0;34m\u001b[0m\u001b[0m\n\u001b[1;32m     54\u001b[0m         \u001b[0;31m# Not rendering immedially now, waiting for shortcut\u001b[0m\u001b[0;34m\u001b[0m\u001b[0;34m\u001b[0m\u001b[0;34m\u001b[0m\u001b[0m\n\u001b[0;32m---> 55\u001b[0;31m         \u001b[0mself\u001b[0m\u001b[0;34m.\u001b[0m\u001b[0m_render\u001b[0m\u001b[0;34m(\u001b[0m\u001b[0;34m)\u001b[0m\u001b[0;34m\u001b[0m\u001b[0;34m\u001b[0m\u001b[0m\n\u001b[0m\u001b[1;32m     56\u001b[0m \u001b[0;34m\u001b[0m\u001b[0m\n\u001b[1;32m     57\u001b[0m         \u001b[0;34m@\u001b[0m\u001b[0mself\u001b[0m\u001b[0;34m.\u001b[0m\u001b[0m_clu\u001b[0m\u001b[0;34m.\u001b[0m\u001b[0mconnect\u001b[0m\u001b[0;34m\u001b[0m\u001b[0;34m\u001b[0m\u001b[0m\n",
      "\u001b[0;32m~/Work/pydev/spiketag/spiketag/view/correlogram_view.py\u001b[0m in \u001b[0;36m_render\u001b[0;34m(self)\u001b[0m\n\u001b[1;32m     94\u001b[0m         \u001b[0mself\u001b[0m\u001b[0;34m.\u001b[0m\u001b[0mgrid\u001b[0m\u001b[0;34m.\u001b[0m\u001b[0mshape\u001b[0m \u001b[0;34m=\u001b[0m \u001b[0;34m(\u001b[0m\u001b[0mself\u001b[0m\u001b[0;34m.\u001b[0m\u001b[0m_clu\u001b[0m\u001b[0;34m.\u001b[0m\u001b[0mnclu\u001b[0m\u001b[0;34m,\u001b[0m\u001b[0mself\u001b[0m\u001b[0;34m.\u001b[0m\u001b[0m_clu\u001b[0m\u001b[0;34m.\u001b[0m\u001b[0mnclu\u001b[0m\u001b[0;34m)\u001b[0m\u001b[0;34m\u001b[0m\u001b[0;34m\u001b[0m\u001b[0m\n\u001b[1;32m     95\u001b[0m \u001b[0;34m\u001b[0m\u001b[0m\n\u001b[0;32m---> 96\u001b[0;31m         \u001b[0mhists\u001b[0m \u001b[0;34m=\u001b[0m \u001b[0mself\u001b[0m\u001b[0;34m.\u001b[0m\u001b[0m_correlogram\u001b[0m\u001b[0;34m(\u001b[0m\u001b[0;34m)\u001b[0m\u001b[0;34m\u001b[0m\u001b[0;34m\u001b[0m\u001b[0m\n\u001b[0m\u001b[1;32m     97\u001b[0m \u001b[0;34m\u001b[0m\u001b[0m\n\u001b[1;32m     98\u001b[0m         \u001b[0;31m# begin draw\u001b[0m\u001b[0;34m\u001b[0m\u001b[0;34m\u001b[0m\u001b[0;34m\u001b[0m\u001b[0m\n",
      "\u001b[0;32m~/Work/pydev/spiketag/spiketag/view/correlogram_view.py\u001b[0m in \u001b[0;36m_correlogram\u001b[0;34m(self)\u001b[0m\n\u001b[1;32m     71\u001b[0m \u001b[0;34m\u001b[0m\u001b[0m\n\u001b[1;32m     72\u001b[0m     \u001b[0;32mdef\u001b[0m \u001b[0m_correlogram\u001b[0m\u001b[0;34m(\u001b[0m\u001b[0mself\u001b[0m\u001b[0;34m)\u001b[0m\u001b[0;34m:\u001b[0m\u001b[0;34m\u001b[0m\u001b[0;34m\u001b[0m\u001b[0m\n\u001b[0;32m---> 73\u001b[0;31m         \u001b[0;32mreturn\u001b[0m \u001b[0mself\u001b[0m\u001b[0;34m.\u001b[0m\u001b[0m_correlate\u001b[0m\u001b[0;34m(\u001b[0m\u001b[0mself\u001b[0m\u001b[0;34m.\u001b[0m\u001b[0m_spike_time\u001b[0m\u001b[0;34m,\u001b[0m \u001b[0mself\u001b[0m\u001b[0;34m.\u001b[0m\u001b[0m_clu\u001b[0m\u001b[0;34m.\u001b[0m\u001b[0mmembership\u001b[0m\u001b[0;34m,\u001b[0m \u001b[0mself\u001b[0m\u001b[0;34m.\u001b[0m\u001b[0m_clu\u001b[0m\u001b[0;34m.\u001b[0m\u001b[0mindex_id\u001b[0m\u001b[0;34m,\u001b[0m \u001b[0mwindow_bins\u001b[0m\u001b[0;34m=\u001b[0m\u001b[0mself\u001b[0m\u001b[0;34m.\u001b[0m\u001b[0m_window_bins\u001b[0m\u001b[0;34m,\u001b[0m \u001b[0mbin_size\u001b[0m\u001b[0;34m=\u001b[0m\u001b[0mself\u001b[0m\u001b[0;34m.\u001b[0m\u001b[0m_bin_size\u001b[0m\u001b[0;34m)\u001b[0m\u001b[0;34m\u001b[0m\u001b[0;34m\u001b[0m\u001b[0m\n\u001b[0m\u001b[1;32m     74\u001b[0m \u001b[0;34m\u001b[0m\u001b[0m\n\u001b[1;32m     75\u001b[0m     \u001b[0;32mdef\u001b[0m \u001b[0m_pair_clusters\u001b[0m\u001b[0;34m(\u001b[0m\u001b[0mself\u001b[0m\u001b[0;34m)\u001b[0m\u001b[0;34m:\u001b[0m\u001b[0;34m\u001b[0m\u001b[0;34m\u001b[0m\u001b[0m\n",
      "\u001b[0;32m~/Work/pydev/spiketag/spiketag/core/correlate.py\u001b[0m in \u001b[0;36mcorrelate\u001b[0;34m(spike_time, membership, cluster_ids, fs, window_bins, bin_size)\u001b[0m\n\u001b[1;32m     27\u001b[0m     \u001b[0;32massert\u001b[0m \u001b[0mwindow_bins\u001b[0m \u001b[0;34m%\u001b[0m \u001b[0;36m2\u001b[0m \u001b[0;34m==\u001b[0m \u001b[0;36m0\u001b[0m\u001b[0;34m\u001b[0m\u001b[0;34m\u001b[0m\u001b[0m\n\u001b[1;32m     28\u001b[0m     \u001b[0;32massert\u001b[0m \u001b[0mfs\u001b[0m \u001b[0;34m>\u001b[0m \u001b[0;36m0\u001b[0m\u001b[0;34m\u001b[0m\u001b[0;34m\u001b[0m\u001b[0m\n\u001b[0;32m---> 29\u001b[0;31m     \u001b[0;32massert\u001b[0m \u001b[0mspike_time\u001b[0m\u001b[0;34m.\u001b[0m\u001b[0msize\u001b[0m \u001b[0;34m==\u001b[0m \u001b[0mmembership\u001b[0m\u001b[0;34m.\u001b[0m\u001b[0msize\u001b[0m\u001b[0;34m\u001b[0m\u001b[0;34m\u001b[0m\u001b[0m\n\u001b[0m\u001b[1;32m     30\u001b[0m \u001b[0;34m\u001b[0m\u001b[0m\n\u001b[1;32m     31\u001b[0m     \u001b[0;31m# the offset within the array\u001b[0m\u001b[0;34m\u001b[0m\u001b[0;34m\u001b[0m\u001b[0;34m\u001b[0m\u001b[0m\n",
      "\u001b[0;31mAssertionError\u001b[0m: "
     ]
    }
   ],
   "source": [
    "corview.set_data(clu[0], mua.pivotal_pos[0])"
   ]
  },
  {
   "cell_type": "code",
   "execution_count": 44,
   "metadata": {
    "ExecuteTime": {
     "end_time": "2018-06-06T23:01:10.908531Z",
     "start_time": "2018-06-06T23:01:10.795976Z"
    }
   },
   "outputs": [],
   "source": [
    "corview.show()"
   ]
  },
  {
   "cell_type": "code",
   "execution_count": null,
   "metadata": {},
   "outputs": [],
   "source": []
  },
  {
   "cell_type": "code",
   "execution_count": 45,
   "metadata": {
    "ExecuteTime": {
     "end_time": "2018-06-06T23:01:23.624837Z",
     "start_time": "2018-06-06T23:01:23.171489Z"
    }
   },
   "outputs": [],
   "source": [
    "traceview = trace_view(fs=prb.fs, spklen=19)"
   ]
  },
  {
   "cell_type": "code",
   "execution_count": 46,
   "metadata": {
    "ExecuteTime": {
     "end_time": "2018-06-06T23:01:27.938103Z",
     "start_time": "2018-06-06T23:01:27.839190Z"
    }
   },
   "outputs": [],
   "source": [
    "traceview.set_data(mua.data, clu[0], mua.pivotal_pos[0])"
   ]
  },
  {
   "cell_type": "code",
   "execution_count": 47,
   "metadata": {
    "ExecuteTime": {
     "end_time": "2018-06-06T23:01:29.298225Z",
     "start_time": "2018-06-06T23:01:28.576548Z"
    }
   },
   "outputs": [],
   "source": [
    "traceview.show()"
   ]
  },
  {
   "cell_type": "code",
   "execution_count": null,
   "metadata": {},
   "outputs": [],
   "source": []
  },
  {
   "cell_type": "code",
   "execution_count": null,
   "metadata": {},
   "outputs": [],
   "source": []
  },
  {
   "cell_type": "code",
   "execution_count": null,
   "metadata": {},
   "outputs": [],
   "source": []
  },
  {
   "cell_type": "markdown",
   "metadata": {},
   "source": [
    "## Unit test for QT5 Wrapper"
   ]
  },
  {
   "cell_type": "code",
   "execution_count": 10,
   "metadata": {
    "ExecuteTime": {
     "end_time": "2019-03-13T19:32:39.970805Z",
     "start_time": "2019-03-13T19:32:39.816324Z"
    }
   },
   "outputs": [
    {
     "name": "stderr",
     "output_type": "stream",
     "text": [
      "/anaconda2/envs/py37/lib/python3.6/site-packages/numba/decorators.py:146: RuntimeWarning: Caching is not available when the 'parallel' target is in use. Caching is now being disabled to allow execution to continue.\n",
      "  warnings.warn(msg, RuntimeWarning)\n"
     ]
    }
   ],
   "source": [
    "from spiketag.mvc import MainModel, MainView"
   ]
  },
  {
   "cell_type": "code",
   "execution_count": 11,
   "metadata": {
    "ExecuteTime": {
     "end_time": "2019-03-13T19:32:43.501969Z",
     "start_time": "2019-03-13T19:32:42.436088Z"
    },
    "scrolled": false
   },
   "outputs": [
    {
     "name": "stderr",
     "output_type": "stream",
     "text": [
      "2019-03-13 15:32:42,482 - spiketag - INFO - load mua data\n",
      "2019-03-13 15:32:42,553 - spiketag - INFO - #############  load data  ###################\n",
      "2019-03-13 15:32:42,554 - spiketag - INFO - ./cell_0109.bin loaded, it contains: \n",
      "2019-03-13 15:32:42,555 - spiketag - INFO - 9280040.0 * 3 points (111360480 bytes) \n",
      "2019-03-13 15:32:42,556 - spiketag - INFO - 3 channels with sampling rate of 20000.0000 \n",
      "2019-03-13 15:32:42,557 - spiketag - INFO - 464.002 secs (7.733 mins) of data\n",
      "2019-03-13 15:32:42,558 - spiketag - INFO - #############################################\n",
      "2019-03-13 15:32:42,560 - spiketag - INFO - processing folder: ./\n",
      "2019-03-13 15:32:42,565 - spiketag - INFO - raw data have 9309 spks\n",
      "2019-03-13 15:32:42,566 - spiketag - INFO - ----------------success------------------\n",
      "2019-03-13 15:32:42,567 - spiketag - INFO -  \n",
      "2019-03-13 15:32:42,568 - spiketag - INFO - extract spikes from pivital meta data\n",
      "2019-03-13 15:32:42,569 - spiketag - INFO - mua.tospk() with time_cutoff=True, amp_cutoff=True, speed_cutoff=True\n",
      "2019-03-13 15:32:43,470 - spiketag - INFO - group 0 delete 0.0%(0.0/9309.0) spks via cutoff\n",
      "2019-03-13 15:32:43,471 - spiketag - INFO - ----------------success------------------\n",
      "2019-03-13 15:32:43,472 - spiketag - INFO -  \n",
      "2019-03-13 15:32:43,472 - spiketag - INFO - grouping spike time\n",
      "2019-03-13 15:32:43,473 - spiketag - INFO - extract features with pca\n",
      "2019-03-13 15:32:43,493 - spiketag - INFO - spk._tofet(group_id=0, method=pca, ncomp=6, whiten=False)\n",
      "2019-03-13 15:32:43,494 - spiketag - INFO - ----------------success------------------\n",
      "2019-03-13 15:32:43,495 - spiketag - INFO -  \n"
     ]
    }
   ],
   "source": [
    "model = MainModel(mua_filename='./cell_0109.bin', spk_filename='./cell_0109.spk.bin', probe=prb, \n",
    "                  binary_radix=11, scale=False)"
   ]
  },
  {
   "cell_type": "code",
   "execution_count": 13,
   "metadata": {
    "ExecuteTime": {
     "end_time": "2019-03-13T19:32:56.815121Z",
     "start_time": "2019-03-13T19:32:56.590975Z"
    }
   },
   "outputs": [
    {
     "name": "stderr",
     "output_type": "stream",
     "text": [
      "2019-03-13 15:32:56,637 - spiketag - INFO - clustering with dpgmm\n",
      "2019-03-13 15:32:56,809 - spiketag - INFO - Model.spktag is generated, nspk:9309\n"
     ]
    },
    {
     "name": "stdout",
     "output_type": "stream",
     "text": [
      "<function cluster._dpgmm at 0x12ef85620>\n",
      "{'n_comp': 8, 'max_iter': 400}\n",
      "0 [2 4 1 ... 4 4 6]\n",
      "0 cluster finished\n"
     ]
    }
   ],
   "source": [
    "model.sort(clu_method='dpgmm', group_id=0, n_comp=8, max_iter=400)"
   ]
  },
  {
   "cell_type": "code",
   "execution_count": 14,
   "metadata": {
    "ExecuteTime": {
     "end_time": "2019-03-13T19:33:04.205896Z",
     "start_time": "2019-03-13T19:33:01.230701Z"
    },
    "scrolled": false
   },
   "outputs": [
    {
     "ename": "AttributeError",
     "evalue": "'MainView' object has no attribute '_model'",
     "output_type": "error",
     "traceback": [
      "\u001b[0;31m---------------------------------------------------------------------------\u001b[0m",
      "\u001b[0;31mAttributeError\u001b[0m                            Traceback (most recent call last)",
      "\u001b[0;32m<ipython-input-14-9029b4f3268e>\u001b[0m in \u001b[0;36m<module>\u001b[0;34m\u001b[0m\n\u001b[0;32m----> 1\u001b[0;31m \u001b[0mview\u001b[0m \u001b[0;34m=\u001b[0m \u001b[0mMainView\u001b[0m\u001b[0;34m(\u001b[0m\u001b[0mprb\u001b[0m\u001b[0;34m)\u001b[0m\u001b[0;34m\u001b[0m\u001b[0;34m\u001b[0m\u001b[0m\n\u001b[0m",
      "\u001b[0;32m~/Work/pydev/spiketag/spiketag/mvc/View.py\u001b[0m in \u001b[0;36m__init__\u001b[0;34m(self, prb, model)\u001b[0m\n\u001b[1;32m     14\u001b[0m         \u001b[0;32mif\u001b[0m \u001b[0mmodel\u001b[0m \u001b[0;32mis\u001b[0m \u001b[0;32mnot\u001b[0m \u001b[0;32mNone\u001b[0m\u001b[0;34m:\u001b[0m\u001b[0;34m\u001b[0m\u001b[0;34m\u001b[0m\u001b[0m\n\u001b[1;32m     15\u001b[0m             \u001b[0mself\u001b[0m\u001b[0;34m.\u001b[0m\u001b[0m_model\u001b[0m \u001b[0;34m=\u001b[0m \u001b[0mmodel\u001b[0m\u001b[0;34m\u001b[0m\u001b[0;34m\u001b[0m\u001b[0m\n\u001b[0;32m---> 16\u001b[0;31m         \u001b[0mself\u001b[0m\u001b[0;34m.\u001b[0m\u001b[0minitUI\u001b[0m\u001b[0;34m(\u001b[0m\u001b[0;34m)\u001b[0m\u001b[0;34m\u001b[0m\u001b[0;34m\u001b[0m\u001b[0m\n\u001b[0m\u001b[1;32m     17\u001b[0m \u001b[0;34m\u001b[0m\u001b[0m\n\u001b[1;32m     18\u001b[0m \u001b[0;34m\u001b[0m\u001b[0m\n",
      "\u001b[0;32m~/Work/pydev/spiketag/spiketag/mvc/View.py\u001b[0m in \u001b[0;36minitUI\u001b[0;34m(self)\u001b[0m\n\u001b[1;32m     43\u001b[0m         \u001b[0mself\u001b[0m\u001b[0;34m.\u001b[0m\u001b[0mclu_view\u001b[0m \u001b[0;34m=\u001b[0m \u001b[0mcluster_view\u001b[0m\u001b[0;34m(\u001b[0m\u001b[0;34m)\u001b[0m\u001b[0;34m\u001b[0m\u001b[0;34m\u001b[0m\u001b[0m\n\u001b[1;32m     44\u001b[0m         \u001b[0mself\u001b[0m\u001b[0;34m.\u001b[0m\u001b[0mprb_view\u001b[0m\u001b[0;34m.\u001b[0m\u001b[0mset_data\u001b[0m\u001b[0;34m(\u001b[0m\u001b[0mself\u001b[0m\u001b[0;34m.\u001b[0m\u001b[0mprb\u001b[0m\u001b[0;34m,\u001b[0m \u001b[0mfont_size\u001b[0m\u001b[0;34m=\u001b[0m\u001b[0;36m35\u001b[0m\u001b[0;34m)\u001b[0m\u001b[0;34m\u001b[0m\u001b[0;34m\u001b[0m\u001b[0m\n\u001b[0;32m---> 45\u001b[0;31m         \u001b[0mself\u001b[0m\u001b[0;34m.\u001b[0m\u001b[0mclu_view\u001b[0m\u001b[0;34m.\u001b[0m\u001b[0mset_data\u001b[0m\u001b[0;34m(\u001b[0m\u001b[0mself\u001b[0m\u001b[0;34m.\u001b[0m\u001b[0m_model\u001b[0m\u001b[0;34m.\u001b[0m\u001b[0mclu_manager\u001b[0m\u001b[0;34m)\u001b[0m\u001b[0;34m\u001b[0m\u001b[0;34m\u001b[0m\u001b[0m\n\u001b[0m\u001b[1;32m     46\u001b[0m         \u001b[0mself\u001b[0m\u001b[0;34m.\u001b[0m\u001b[0msplitter_prb_cpu\u001b[0m\u001b[0;34m.\u001b[0m\u001b[0maddWidget\u001b[0m\u001b[0;34m(\u001b[0m\u001b[0mself\u001b[0m\u001b[0;34m.\u001b[0m\u001b[0mprb_view\u001b[0m\u001b[0;34m.\u001b[0m\u001b[0mnative\u001b[0m\u001b[0;34m)\u001b[0m\u001b[0;34m\u001b[0m\u001b[0;34m\u001b[0m\u001b[0m\n\u001b[1;32m     47\u001b[0m         \u001b[0mself\u001b[0m\u001b[0;34m.\u001b[0m\u001b[0msplitter_prb_cpu\u001b[0m\u001b[0;34m.\u001b[0m\u001b[0maddWidget\u001b[0m\u001b[0;34m(\u001b[0m\u001b[0mself\u001b[0m\u001b[0;34m.\u001b[0m\u001b[0mclu_view\u001b[0m\u001b[0;34m.\u001b[0m\u001b[0mnative\u001b[0m\u001b[0;34m)\u001b[0m\u001b[0;34m\u001b[0m\u001b[0;34m\u001b[0m\u001b[0m\n",
      "\u001b[0;31mAttributeError\u001b[0m: 'MainView' object has no attribute '_model'"
     ]
    }
   ],
   "source": [
    "view = MainView(prb)"
   ]
  },
  {
   "cell_type": "code",
   "execution_count": 48,
   "metadata": {
    "ExecuteTime": {
     "end_time": "2018-06-08T01:45:50.536364Z",
     "start_time": "2018-06-08T01:45:49.515255Z"
    }
   },
   "outputs": [
    {
     "name": "stderr",
     "output_type": "stream",
     "text": [
      "ERROR: Invoking <bound method SceneCanvas.on_draw of <ctree_view (PyQt5) at 0x183217908>> repeat 4\n",
      "ERROR: Invoking <bound method SceneCanvas.on_draw of <ctree_view (PyQt5) at 0x183217908>> repeat 8\n"
     ]
    }
   ],
   "source": [
    "view.show()"
   ]
  },
  {
   "cell_type": "code",
   "execution_count": 46,
   "metadata": {
    "ExecuteTime": {
     "end_time": "2018-06-08T01:45:53.391057Z",
     "start_time": "2018-06-08T01:45:53.033387Z"
    },
    "scrolled": true
   },
   "outputs": [
    {
     "name": "stderr",
     "output_type": "stream",
     "text": [
      "WARNING: Traceback (most recent call last):\n",
      "  File \"/anaconda2/envs/py37/lib/python3.6/runpy.py\", line 193, in _run_module_as_main\n",
      "    \"__main__\", mod_spec)\n",
      "  File \"/anaconda2/envs/py37/lib/python3.6/runpy.py\", line 85, in _run_code\n",
      "    exec(code, run_globals)\n",
      "  File \"/anaconda2/envs/py37/lib/python3.6/site-packages/ipykernel_launcher.py\", line 16, in <module>\n",
      "    app.launch_new_instance()\n",
      "  File \"/anaconda2/envs/py37/lib/python3.6/site-packages/traitlets/config/application.py\", line 658, in launch_instance\n",
      "    app.start()\n",
      "  File \"/anaconda2/envs/py37/lib/python3.6/site-packages/ipykernel/kernelapp.py\", line 505, in start\n",
      "    self.io_loop.start()\n",
      "  File \"/anaconda2/envs/py37/lib/python3.6/site-packages/tornado/platform/asyncio.py\", line 132, in start\n",
      "    self.asyncio_loop.run_forever()\n",
      "  File \"/anaconda2/envs/py37/lib/python3.6/asyncio/base_events.py\", line 427, in run_forever\n",
      "    self._run_once()\n",
      "  File \"/anaconda2/envs/py37/lib/python3.6/asyncio/base_events.py\", line 1440, in _run_once\n",
      "    handle._run()\n",
      "  File \"/anaconda2/envs/py37/lib/python3.6/asyncio/events.py\", line 145, in _run\n",
      "    self._callback(*self._args)\n",
      "  File \"/anaconda2/envs/py37/lib/python3.6/site-packages/tornado/ioloop.py\", line 758, in _run_callback\n",
      "    ret = callback()\n",
      "  File \"/anaconda2/envs/py37/lib/python3.6/site-packages/tornado/stack_context.py\", line 300, in null_wrapper\n",
      "    return fn(*args, **kwargs)\n",
      "  File \"/anaconda2/envs/py37/lib/python3.6/site-packages/ipykernel/kernelbase.py\", line 306, in advance_eventloop\n",
      "    eventloop(self)\n",
      "  File \"/anaconda2/envs/py37/lib/python3.6/site-packages/ipykernel/eventloops.py\", line 129, in loop_qt5\n",
      "    return loop_qt4(kernel)\n",
      "  File \"/anaconda2/envs/py37/lib/python3.6/site-packages/ipykernel/eventloops.py\", line 122, in loop_qt4\n",
      "    _loop_qt(kernel.app)\n",
      "  File \"/anaconda2/envs/py37/lib/python3.6/site-packages/ipykernel/eventloops.py\", line 106, in _loop_qt\n",
      "    app.exec_()\n",
      "  File \"/Users/laic/Work/pydev/vispy_cus/vispy/vispy/app/backends/_qt.py\", line 657, in paintGL\n",
      "    self._vispy_canvas.events.draw(region=None)\n",
      "  File \"/Users/laic/Work/pydev/vispy_cus/vispy/vispy/util/event.py\", line 455, in __call__\n",
      "    self._invoke_callback(cb, event)\n",
      "  File \"/Users/laic/Work/pydev/vispy_cus/vispy/vispy/util/event.py\", line 475, in _invoke_callback\n",
      "    self, cb_event=(cb, event))\n",
      "  << caught exception here: >>\n",
      "  File \"/Users/laic/Work/pydev/vispy_cus/vispy/vispy/util/event.py\", line 471, in _invoke_callback\n",
      "    cb(event)\n",
      "  File \"/Users/laic/Work/pydev/vispy_cus/vispy/vispy/scene/canvas.py\", line 207, in on_draw\n",
      "    self._draw_scene()\n",
      "  File \"/Users/laic/Work/pydev/vispy_cus/vispy/vispy/scene/canvas.py\", line 253, in _draw_scene\n",
      "    self.draw_visual(self.scene)\n",
      "  File \"/Users/laic/Work/pydev/vispy_cus/vispy/vispy/scene/canvas.py\", line 291, in draw_visual\n",
      "    node.draw()\n",
      "  File \"/Users/laic/Work/pydev/vispy_cus/vispy/vispy/scene/visuals.py\", line 98, in draw\n",
      "    self._visual_superclass.draw(self)\n",
      "  File \"/Users/laic/Work/pydev/vispy_cus/vispy/vispy/visuals/mesh.py\", line 385, in draw\n",
      "    Visual.draw(self, *args, **kwds)\n",
      "  File \"/Users/laic/Work/pydev/vispy_cus/vispy/vispy/visuals/visual.py\", line 432, in draw\n",
      "    if self._prepare_draw(view=self) is False:\n",
      "  File \"/Users/laic/Work/pydev/vispy_cus/vispy/vispy/visuals/mesh.py\", line 380, in _prepare_draw\n",
      "    if self._update_data() is False:\n",
      "  File \"/Users/laic/Work/pydev/vispy_cus/vispy/vispy/visuals/mesh.py\", line 306, in _update_data\n",
      "    v = md.get_vertices(indexed='faces')\n",
      "  File \"/Users/laic/Work/pydev/vispy_cus/vispy/vispy/geometry/meshdata.py\", line 195, in get_vertices\n",
      "    self._vertices[self.get_faces()]\n",
      "IndexError: arrays used as indices must be of integer (or boolean) type\n",
      "ERROR: Invoking <bound method SceneCanvas.on_draw of <ctree_view (PyQt5) at 0x183217908>> for DrawEvent\n",
      "ERROR: Invoking <bound method SceneCanvas.on_draw of <ctree_view (PyQt5) at 0x183217908>> repeat 2\n"
     ]
    }
   ],
   "source": [
    "view.set_data(0, model.mua, model.spk[0], model.fet[0], model.clu[0])"
   ]
  },
  {
   "cell_type": "code",
   "execution_count": 2,
   "metadata": {
    "ExecuteTime": {
     "end_time": "2019-01-21T22:46:11.686489Z",
     "start_time": "2019-01-21T22:46:11.671835Z"
    },
    "scrolled": true
   },
   "outputs": [
    {
     "ename": "NameError",
     "evalue": "name 'model' is not defined",
     "output_type": "error",
     "traceback": [
      "\u001b[0;31m---------------------------------------------------------------------------\u001b[0m",
      "\u001b[0;31mNameError\u001b[0m                                 Traceback (most recent call last)",
      "\u001b[0;32m<ipython-input-2-f3a598cf406c>\u001b[0m in \u001b[0;36m<module>\u001b[0;34m()\u001b[0m\n\u001b[0;32m----> 1\u001b[0;31m \u001b[0mmodel\u001b[0m\u001b[0;34m.\u001b[0m\u001b[0mclu\u001b[0m\u001b[0;34m[\u001b[0m\u001b[0;36m0\u001b[0m\u001b[0;34m]\u001b[0m\u001b[0;34m.\u001b[0m\u001b[0mindex_count\u001b[0m\u001b[0;34m\u001b[0m\u001b[0m\n\u001b[0m",
      "\u001b[0;31mNameError\u001b[0m: name 'model' is not defined"
     ]
    }
   ],
   "source": [
    "model.clu[0].index_count"
   ]
  },
  {
   "cell_type": "code",
   "execution_count": null,
   "metadata": {},
   "outputs": [],
   "source": [
    "model.clu[0].select(np.arange(600))"
   ]
  },
  {
   "cell_type": "code",
   "execution_count": null,
   "metadata": {},
   "outputs": [],
   "source": []
  },
  {
   "cell_type": "code",
   "execution_count": null,
   "metadata": {},
   "outputs": [],
   "source": []
  },
  {
   "cell_type": "code",
   "execution_count": null,
   "metadata": {},
   "outputs": [],
   "source": []
  },
  {
   "cell_type": "code",
   "execution_count": null,
   "metadata": {},
   "outputs": [],
   "source": []
  },
  {
   "cell_type": "code",
   "execution_count": 15,
   "metadata": {
    "ExecuteTime": {
     "end_time": "2018-06-07T20:14:13.375102Z",
     "start_time": "2018-06-07T20:14:13.314317Z"
    }
   },
   "outputs": [],
   "source": [
    "thr = -31.00"
   ]
  },
  {
   "cell_type": "code",
   "execution_count": 16,
   "metadata": {
    "ExecuteTime": {
     "end_time": "2018-06-07T20:14:13.982828Z",
     "start_time": "2018-06-07T20:14:13.914878Z"
    }
   },
   "outputs": [],
   "source": [
    "idx = np.where(model.spk[0].min(axis=1).min(axis=1)>thr)[0]"
   ]
  },
  {
   "cell_type": "code",
   "execution_count": 17,
   "metadata": {
    "ExecuteTime": {
     "end_time": "2018-06-07T20:14:15.541818Z",
     "start_time": "2018-06-07T20:14:15.471294Z"
    },
    "scrolled": true
   },
   "outputs": [
    {
     "data": {
      "text/plain": [
       "(5032,)"
      ]
     },
     "execution_count": 17,
     "metadata": {},
     "output_type": "execute_result"
    }
   ],
   "source": [
    "idx.shape"
   ]
  },
  {
   "cell_type": "code",
   "execution_count": 17,
   "metadata": {
    "ExecuteTime": {
     "end_time": "2018-06-07T20:26:42.618393Z",
     "start_time": "2018-06-07T20:26:42.556956Z"
    }
   },
   "outputs": [
    {
     "name": "stdout",
     "output_type": "stream",
     "text": [
      "(4067,)\n",
      "(2589,)\n",
      "(2104,)\n"
     ]
    },
    {
     "name": "stderr",
     "output_type": "stream",
     "text": [
      "2018-06-07 16:28:50,182 - spiketag - DEBUG - no more undo\n",
      "2018-06-07 16:28:50,532 - spiketag - DEBUG - no more undo\n",
      "2018-06-07 16:28:50,760 - spiketag - DEBUG - no more undo\n",
      "2018-06-07 16:28:50,946 - spiketag - DEBUG - no more undo\n",
      "2018-06-07 16:28:51,118 - spiketag - DEBUG - no more undo\n",
      "2018-06-07 16:28:51,289 - spiketag - DEBUG - no more undo\n",
      "2018-06-07 16:28:51,453 - spiketag - DEBUG - no more undo\n",
      "2018-06-07 16:28:51,632 - spiketag - DEBUG - no more undo\n",
      "2018-06-07 16:28:51,843 - spiketag - DEBUG - no more undo\n",
      "2018-06-07 16:28:52,147 - spiketag - DEBUG - no more undo\n",
      "2018-06-07 16:28:52,437 - spiketag - DEBUG - no more undo\n",
      "2018-06-07 16:28:52,671 - spiketag - DEBUG - no more undo\n",
      "2018-06-07 16:28:52,932 - spiketag - DEBUG - no more undo\n",
      "2018-06-07 16:28:53,445 - spiketag - DEBUG - no more undo\n",
      "2018-06-07 16:28:53,680 - spiketag - DEBUG - no more undo\n",
      "2018-06-07 16:28:53,938 - spiketag - DEBUG - no more undo\n",
      "2018-06-07 16:28:54,136 - spiketag - DEBUG - no more undo\n"
     ]
    }
   ],
   "source": [
    "def delete_spk(model, spk_idx):\n",
    "    model.mua.spk_times[0] = np.delete(model.mua.spk_times[0], spk_idx, axis=0)\n",
    "    model.spk[0] = np.delete(model.spk[0], spk_idx, axis=0)\n",
    "    model.fet[0] = model.spk._tofet(0, method='pca')\n",
    "    model.cluster(group_id=0, method='hdbscan', fall_off_size=30) #, \n",
    "    view.set_data(0, model.mua, model.spk[0], model.fet[0], model.clu[0])"
   ]
  },
  {
   "cell_type": "code",
   "execution_count": 19,
   "metadata": {
    "ExecuteTime": {
     "end_time": "2018-06-07T20:14:19.831997Z",
     "start_time": "2018-06-07T20:14:19.355815Z"
    }
   },
   "outputs": [
    {
     "name": "stderr",
     "output_type": "stream",
     "text": [
      "2018-06-07 16:16:50,296 - spiketag - DEBUG - ctree view expand clustier 4279 here\n"
     ]
    }
   ],
   "source": [
    "delete_spk(model, idx)"
   ]
  },
  {
   "cell_type": "code",
   "execution_count": 16,
   "metadata": {
    "ExecuteTime": {
     "end_time": "2018-06-07T20:26:01.053840Z",
     "start_time": "2018-06-07T20:26:00.988589Z"
    }
   },
   "outputs": [
    {
     "name": "stderr",
     "output_type": "stream",
     "text": [
      "WARNING: Traceback (most recent call last):\n",
      "  File \"/anaconda2/lib/python2.7/runpy.py\", line 174, in _run_module_as_main\n",
      "    \"__main__\", fname, loader, pkg_name)\n",
      "  File \"/anaconda2/lib/python2.7/runpy.py\", line 72, in _run_code\n",
      "    exec code in run_globals\n",
      "  File \"/anaconda2/lib/python2.7/site-packages/ipykernel_launcher.py\", line 16, in <module>\n",
      "    app.launch_new_instance()\n",
      "  File \"/anaconda2/lib/python2.7/site-packages/traitlets/config/application.py\", line 658, in launch_instance\n",
      "    app.start()\n",
      "  File \"/anaconda2/lib/python2.7/site-packages/ipykernel/kernelapp.py\", line 478, in start\n",
      "    self.io_loop.start()\n",
      "  File \"/anaconda2/lib/python2.7/site-packages/zmq/eventloop/ioloop.py\", line 177, in start\n",
      "    super(ZMQIOLoop, self).start()\n",
      "  File \"/anaconda2/lib/python2.7/site-packages/tornado/ioloop.py\", line 832, in start\n",
      "    self._run_callback(self._callbacks.popleft())\n",
      "  File \"/anaconda2/lib/python2.7/site-packages/tornado/ioloop.py\", line 605, in _run_callback\n",
      "    ret = callback()\n",
      "  File \"/anaconda2/lib/python2.7/site-packages/tornado/stack_context.py\", line 277, in null_wrapper\n",
      "    return fn(*args, **kwargs)\n",
      "  File \"/anaconda2/lib/python2.7/site-packages/ipykernel/kernelbase.py\", line 263, in enter_eventloop\n",
      "    self.eventloop(self)\n",
      "  File \"/anaconda2/lib/python2.7/site-packages/ipykernel/eventloops.py\", line 123, in loop_qt5\n",
      "    return loop_qt4(kernel)\n",
      "  File \"/anaconda2/lib/python2.7/site-packages/ipykernel/eventloops.py\", line 111, in loop_qt4\n",
      "    _loop_qt(kernel.app)\n",
      "  File \"/anaconda2/lib/python2.7/site-packages/ipykernel/eventloops.py\", line 95, in _loop_qt\n",
      "    app.exec_()\n",
      "  File \"/Users/laic/Work/pydev/vispy_cus/vispy/vispy/app/backends/_qt.py\", line 413, in keyPressEvent\n",
      "    self._keyEvent(self._vispy_canvas.events.key_press, ev)\n",
      "  File \"/Users/laic/Work/pydev/vispy_cus/vispy/vispy/app/backends/_qt.py\", line 428, in _keyEvent\n",
      "    func(native=ev, key=key, text=text_type(ev.text()), modifiers=mod)\n",
      "  File \"/Users/laic/Work/pydev/vispy_cus/vispy/vispy/util/event.py\", line 455, in __call__\n",
      "    self._invoke_callback(cb, event)\n",
      "  File \"/Users/laic/Work/pydev/vispy_cus/vispy/vispy/util/event.py\", line 475, in _invoke_callback\n",
      "    self, cb_event=(cb, event))\n",
      "  << caught exception here: >>\n",
      "  File \"/Users/laic/Work/pydev/vispy_cus/vispy/vispy/util/event.py\", line 471, in _invoke_callback\n",
      "    cb(event)\n",
      "  File \"/Users/laic/Work/pydev/spiketag/spiketag/view/scatter_2d_view.py\", line 136, in on_key_press\n",
      "    self.clip.emit('clip', thres=self.amp)\n",
      "  File \"/Users/laic/Work/pydev/spiketag/spiketag/utils/utils.py\", line 160, in emit\n",
      "    res.append(callback(*args, **kwargs))\n",
      "  File \"<ipython-input-16-cbf95aa6a25a>\", line 5, in on_clip\n",
      "    delete_spk(model=model, spk_idx=idx)\n",
      "  File \"<ipython-input-15-6615856d65ba>\", line 2, in delete_spk\n",
      "    model.mua.spk_times[0] = np.delete(model.mua.spk_times[0], idx, axis=0)\n",
      "NameError: global name 'idx' is not defined\n",
      "ERROR: Invoking <bound method amplitude_view.on_key_press of <amplitude_view (PyQt5) at 0x1c3e6a3dd0>> for KeyEvent\n"
     ]
    },
    {
     "name": "stdout",
     "output_type": "stream",
     "text": [
      "(4817,)\n"
     ]
    }
   ],
   "source": [
    "@view.ampview.clip.connect\n",
    "def on_clip(thres):\n",
    "    idx = np.where(model.spk[0].min(axis=1).min(axis=1)>thres)[0]\n",
    "    print(idx.shape)\n",
    "    delete_spk(model=model, spk_idx=idx)"
   ]
  },
  {
   "cell_type": "code",
   "execution_count": 42,
   "metadata": {
    "ExecuteTime": {
     "end_time": "2018-06-07T15:34:05.667494Z",
     "start_time": "2018-06-07T15:34:05.606767Z"
    }
   },
   "outputs": [
    {
     "data": {
      "text/plain": [
       "(1678, 19, 3)"
      ]
     },
     "execution_count": 42,
     "metadata": {},
     "output_type": "execute_result"
    }
   ],
   "source": [
    "model.spk[0].shape"
   ]
  },
  {
   "cell_type": "code",
   "execution_count": 39,
   "metadata": {
    "ExecuteTime": {
     "end_time": "2018-06-07T15:33:46.753331Z",
     "start_time": "2018-06-07T15:33:46.681524Z"
    }
   },
   "outputs": [
    {
     "name": "stderr",
     "output_type": "stream",
     "text": [
      "2018-06-07 11:33:46,742 - spiketag - INFO - spk._tofet(group_id=0, method=weighted-pca, ncomp=6, whiten=False)\n",
      "2018-06-07 11:33:46,746 - spiketag - INFO - ----------------success------------------\n",
      "2018-06-07 11:33:46,747 - spiketag - INFO -  \n"
     ]
    }
   ],
   "source": [
    "model.fet = model.spk.tofet()"
   ]
  },
  {
   "cell_type": "code",
   "execution_count": 40,
   "metadata": {
    "ExecuteTime": {
     "end_time": "2018-06-07T15:33:48.057949Z",
     "start_time": "2018-06-07T15:33:47.998725Z"
    }
   },
   "outputs": [
    {
     "data": {
      "text/plain": [
       "(1678, 6)"
      ]
     },
     "execution_count": 40,
     "metadata": {},
     "output_type": "execute_result"
    }
   ],
   "source": [
    "model.fet[0].shape"
   ]
  },
  {
   "cell_type": "code",
   "execution_count": 41,
   "metadata": {
    "ExecuteTime": {
     "end_time": "2018-06-07T15:33:49.759503Z",
     "start_time": "2018-06-07T15:33:49.633825Z"
    }
   },
   "outputs": [
    {
     "name": "stderr",
     "output_type": "stream",
     "text": [
      "2018-06-07 11:33:49,754 - spiketag - INFO - clustering finished, used 0.066253900528 sec\n"
     ]
    }
   ],
   "source": [
    "model.clu = model.fet.toclu()"
   ]
  },
  {
   "cell_type": "code",
   "execution_count": null,
   "metadata": {},
   "outputs": [],
   "source": []
  },
  {
   "cell_type": "code",
   "execution_count": 19,
   "metadata": {
    "ExecuteTime": {
     "end_time": "2018-06-07T15:29:29.853518Z",
     "start_time": "2018-06-07T15:29:29.781272Z"
    }
   },
   "outputs": [
    {
     "data": {
      "text/plain": [
       "(4740,)"
      ]
     },
     "execution_count": 19,
     "metadata": {},
     "output_type": "execute_result"
    }
   ],
   "source": [
    "model.mua.spk_times[0].shape"
   ]
  },
  {
   "cell_type": "code",
   "execution_count": null,
   "metadata": {},
   "outputs": [],
   "source": []
  },
  {
   "cell_type": "code",
   "execution_count": 16,
   "metadata": {
    "ExecuteTime": {
     "end_time": "2018-06-07T15:14:41.979657Z",
     "start_time": "2018-06-07T15:14:41.920523Z"
    }
   },
   "outputs": [
    {
     "data": {
      "text/plain": [
       "-146.53759765625"
      ]
     },
     "execution_count": 16,
     "metadata": {},
     "output_type": "execute_result"
    }
   ],
   "source": [
    "view.ampview.poses[:, 1].min()"
   ]
  },
  {
   "cell_type": "code",
   "execution_count": null,
   "metadata": {},
   "outputs": [],
   "source": []
  },
  {
   "cell_type": "code",
   "execution_count": null,
   "metadata": {},
   "outputs": [],
   "source": []
  },
  {
   "cell_type": "code",
   "execution_count": 53,
   "metadata": {
    "ExecuteTime": {
     "end_time": "2018-06-08T02:30:39.627217Z",
     "start_time": "2018-06-08T02:30:39.523733Z"
    }
   },
   "outputs": [],
   "source": [
    "from spiketag.mvc.Control import controller"
   ]
  },
  {
   "cell_type": "code",
   "execution_count": 54,
   "metadata": {
    "ExecuteTime": {
     "end_time": "2018-06-08T02:30:45.245388Z",
     "start_time": "2018-06-08T02:30:40.257465Z"
    },
    "scrolled": false
   },
   "outputs": [
    {
     "name": "stderr",
     "output_type": "stream",
     "text": [
      "2018-12-28 20:20:37,338 - spiketag - INFO - load mua data\n",
      "2018-12-28 20:20:37,401 - spiketag - INFO - #############  load data  ###################\n",
      "2018-12-28 20:20:37,402 - spiketag - INFO - ./cell_0109.bin loaded, it contains: \n",
      "2018-12-28 20:20:37,403 - spiketag - INFO - 9280040.0 * 3 points (111360480 bytes) \n",
      "2018-12-28 20:20:37,404 - spiketag - INFO - 3 channels with sampling rate of 20000.0000 \n",
      "2018-12-28 20:20:37,404 - spiketag - INFO - 464.002 secs (7.733 mins) of data\n",
      "2018-12-28 20:20:37,405 - spiketag - INFO - #############################################\n",
      "2018-12-28 20:20:37,470 - spiketag - INFO - processing folder: ./\n",
      "2018-12-28 20:20:37,473 - spiketag - INFO - raw data have 9309 spks\n",
      "2018-12-28 20:20:37,474 - spiketag - INFO - ----------------success------------------\n",
      "2018-12-28 20:20:37,475 - spiketag - INFO -  \n",
      "WARNING: QLayout: Attempting to add QLayout \"\" to MainView \"\", which already has a layout\n"
     ]
    }
   ],
   "source": [
    "ctrl = controller(probe=prb, mua_filename='./cell_0109.bin', spk_filename='./cell_0109.spk.bin')"
   ]
  },
  {
   "cell_type": "code",
   "execution_count": 55,
   "metadata": {},
   "outputs": [
    {
     "name": "stderr",
     "output_type": "stream",
     "text": [
      "2018-12-28 20:20:46,070 - spiketag - INFO - extract spikes from pivital meta data\n",
      "2018-12-28 20:20:46,071 - spiketag - INFO - mua.tospk()\n",
      "2018-12-28 20:20:46,378 - spiketag - INFO - group 0 delete 0.0%(0.0/9309.0) spks via cutoff\n",
      "2018-12-28 20:20:46,381 - spiketag - INFO - ----------------success------------------\n",
      "2018-12-28 20:20:46,381 - spiketag - INFO -  \n",
      "2018-12-28 20:20:46,382 - spiketag - INFO - grouping spike time\n",
      "2018-12-28 20:20:46,382 - spiketag - INFO - extrat features with weighted-pca\n",
      "2018-12-28 20:20:46,404 - spiketag - INFO - spk._tofet(group_id=0, method=weighted-pca, ncomp=6, whiten=False)\n",
      "2018-12-28 20:20:46,404 - spiketag - INFO - ----------------success------------------\n",
      "2018-12-28 20:20:46,405 - spiketag - INFO -  \n",
      "2018-12-28 20:20:46,406 - spiketag - INFO - clustering with hdbscan\n",
      "2018-12-28 20:20:46,406 - spiketag - INFO - clustering start with 24 cpus\n",
      "2018-12-28 20:20:50,116 - spiketag - INFO - clustering finished, used 3.7082719802856445 sec\n",
      "2018-12-28 20:20:50,123 - spiketag - INFO - Model.spktag is generated, nspk:9309\n"
     ]
    }
   ],
   "source": [
    "ctrl.sort()"
   ]
  },
  {
   "cell_type": "code",
   "execution_count": 56,
   "metadata": {
    "ExecuteTime": {
     "end_time": "2018-06-08T02:30:51.514407Z",
     "start_time": "2018-06-08T02:30:49.845881Z"
    },
    "scrolled": false
   },
   "outputs": [
    {
     "name": "stderr",
     "output_type": "stream",
     "text": [
      "WARNING: Traceback (most recent call last):\n",
      "  File \"/anaconda2/envs/py37/lib/python3.6/runpy.py\", line 193, in _run_module_as_main\n",
      "    \"__main__\", mod_spec)\n",
      "  File \"/anaconda2/envs/py37/lib/python3.6/runpy.py\", line 85, in _run_code\n",
      "    exec(code, run_globals)\n",
      "  File \"/anaconda2/envs/py37/lib/python3.6/site-packages/ipykernel_launcher.py\", line 16, in <module>\n",
      "    app.launch_new_instance()\n",
      "  File \"/anaconda2/envs/py37/lib/python3.6/site-packages/traitlets/config/application.py\", line 658, in launch_instance\n",
      "    app.start()\n",
      "  File \"/anaconda2/envs/py37/lib/python3.6/site-packages/ipykernel/kernelapp.py\", line 505, in start\n",
      "    self.io_loop.start()\n",
      "  File \"/anaconda2/envs/py37/lib/python3.6/site-packages/tornado/platform/asyncio.py\", line 132, in start\n",
      "    self.asyncio_loop.run_forever()\n",
      "  File \"/anaconda2/envs/py37/lib/python3.6/asyncio/base_events.py\", line 427, in run_forever\n",
      "    self._run_once()\n",
      "  File \"/anaconda2/envs/py37/lib/python3.6/asyncio/base_events.py\", line 1440, in _run_once\n",
      "    handle._run()\n",
      "  File \"/anaconda2/envs/py37/lib/python3.6/asyncio/events.py\", line 145, in _run\n",
      "    self._callback(*self._args)\n",
      "  File \"/anaconda2/envs/py37/lib/python3.6/site-packages/tornado/ioloop.py\", line 758, in _run_callback\n",
      "    ret = callback()\n",
      "  File \"/anaconda2/envs/py37/lib/python3.6/site-packages/tornado/stack_context.py\", line 300, in null_wrapper\n",
      "    return fn(*args, **kwargs)\n",
      "  File \"/anaconda2/envs/py37/lib/python3.6/site-packages/tornado/gen.py\", line 1233, in inner\n",
      "    self.run()\n",
      "  File \"/anaconda2/envs/py37/lib/python3.6/site-packages/tornado/gen.py\", line 1147, in run\n",
      "    yielded = self.gen.send(value)\n",
      "  File \"/anaconda2/envs/py37/lib/python3.6/site-packages/ipykernel/kernelbase.py\", line 357, in process_one\n",
      "    yield gen.maybe_future(dispatch(*args))\n",
      "  File \"/anaconda2/envs/py37/lib/python3.6/site-packages/tornado/gen.py\", line 326, in wrapper\n",
      "    yielded = next(result)\n",
      "  File \"/anaconda2/envs/py37/lib/python3.6/site-packages/ipykernel/kernelbase.py\", line 267, in dispatch_shell\n",
      "    yield gen.maybe_future(handler(stream, idents, msg))\n",
      "  File \"/anaconda2/envs/py37/lib/python3.6/site-packages/tornado/gen.py\", line 326, in wrapper\n",
      "    yielded = next(result)\n",
      "  File \"/anaconda2/envs/py37/lib/python3.6/site-packages/ipykernel/kernelbase.py\", line 534, in execute_request\n",
      "    user_expressions, allow_stdin,\n",
      "  File \"/anaconda2/envs/py37/lib/python3.6/site-packages/tornado/gen.py\", line 326, in wrapper\n",
      "    yielded = next(result)\n",
      "  File \"/anaconda2/envs/py37/lib/python3.6/site-packages/ipykernel/ipkernel.py\", line 294, in do_execute\n",
      "    res = shell.run_cell(code, store_history=store_history, silent=silent)\n",
      "  File \"/anaconda2/envs/py37/lib/python3.6/site-packages/ipykernel/zmqshell.py\", line 536, in run_cell\n",
      "    return super(ZMQInteractiveShell, self).run_cell(*args, **kwargs)\n",
      "  File \"/anaconda2/envs/py37/lib/python3.6/site-packages/IPython/core/interactiveshell.py\", line 2819, in run_cell\n",
      "    raw_cell, store_history, silent, shell_futures)\n",
      "  File \"/anaconda2/envs/py37/lib/python3.6/site-packages/IPython/core/interactiveshell.py\", line 2845, in _run_cell\n",
      "    return runner(coro)\n",
      "  File \"/anaconda2/envs/py37/lib/python3.6/site-packages/IPython/core/async_helpers.py\", line 67, in _pseudo_sync_runner\n",
      "    coro.send(None)\n",
      "  File \"/anaconda2/envs/py37/lib/python3.6/site-packages/IPython/core/interactiveshell.py\", line 3020, in run_cell_async\n",
      "    interactivity=interactivity, compiler=compiler, result=result)\n",
      "  File \"/anaconda2/envs/py37/lib/python3.6/site-packages/IPython/core/interactiveshell.py\", line 3191, in run_ast_nodes\n",
      "    if (yield from self.run_code(code, result)):\n",
      "  File \"/anaconda2/envs/py37/lib/python3.6/site-packages/IPython/core/interactiveshell.py\", line 3267, in run_code\n",
      "    exec(code_obj, self.user_global_ns, self.user_ns)\n",
      "  File \"<ipython-input-56-9a9adb335bc5>\", line 1, in <module>\n",
      "    ctrl.show()\n",
      "  File \"/Users/laic/Work/pydev/spiketag/spiketag/mvc/Control.py\", line 264, in show\n",
      "    self.view.show()\n",
      "  File \"/Users/laic/Work/pydev/vispy_cus/vispy/vispy/app/backends/_qt.py\", line 657, in paintGL\n",
      "    self._vispy_canvas.events.draw(region=None)\n",
      "  File \"/Users/laic/Work/pydev/vispy_cus/vispy/vispy/util/event.py\", line 455, in __call__\n",
      "    self._invoke_callback(cb, event)\n",
      "  File \"/Users/laic/Work/pydev/vispy_cus/vispy/vispy/util/event.py\", line 475, in _invoke_callback\n",
      "    self, cb_event=(cb, event))\n",
      "  << caught exception here: >>\n",
      "  File \"/Users/laic/Work/pydev/vispy_cus/vispy/vispy/util/event.py\", line 471, in _invoke_callback\n",
      "    cb(event)\n",
      "  File \"/Users/laic/Work/pydev/vispy_cus/vispy/vispy/scene/canvas.py\", line 207, in on_draw\n",
      "    self._draw_scene()\n",
      "  File \"/Users/laic/Work/pydev/vispy_cus/vispy/vispy/scene/canvas.py\", line 253, in _draw_scene\n",
      "    self.draw_visual(self.scene)\n",
      "  File \"/Users/laic/Work/pydev/vispy_cus/vispy/vispy/scene/canvas.py\", line 291, in draw_visual\n",
      "    node.draw()\n",
      "  File \"/Users/laic/Work/pydev/vispy_cus/vispy/vispy/scene/visuals.py\", line 98, in draw\n",
      "    self._visual_superclass.draw(self)\n",
      "  File \"/Users/laic/Work/pydev/vispy_cus/vispy/vispy/visuals/mesh.py\", line 385, in draw\n",
      "    Visual.draw(self, *args, **kwds)\n",
      "  File \"/Users/laic/Work/pydev/vispy_cus/vispy/vispy/visuals/visual.py\", line 432, in draw\n",
      "    if self._prepare_draw(view=self) is False:\n",
      "  File \"/Users/laic/Work/pydev/vispy_cus/vispy/vispy/visuals/mesh.py\", line 380, in _prepare_draw\n",
      "    if self._update_data() is False:\n",
      "  File \"/Users/laic/Work/pydev/vispy_cus/vispy/vispy/visuals/mesh.py\", line 306, in _update_data\n",
      "    v = md.get_vertices(indexed='faces')\n",
      "  File \"/Users/laic/Work/pydev/vispy_cus/vispy/vispy/geometry/meshdata.py\", line 195, in get_vertices\n",
      "    self._vertices[self.get_faces()]\n",
      "IndexError: arrays used as indices must be of integer (or boolean) type\n",
      "ERROR: Invoking <bound method SceneCanvas.on_draw of <ctree_view (PyQt5) at 0x199482cc0>> for DrawEvent\n",
      "ERROR: Invoking <bound method SceneCanvas.on_draw of <ctree_view (PyQt5) at 0x199482cc0>> repeat 2\n"
     ]
    }
   ],
   "source": [
    "ctrl.show()"
   ]
  },
  {
   "cell_type": "code",
   "execution_count": null,
   "metadata": {},
   "outputs": [],
   "source": []
  },
  {
   "cell_type": "code",
   "execution_count": null,
   "metadata": {},
   "outputs": [],
   "source": []
  },
  {
   "cell_type": "code",
   "execution_count": null,
   "metadata": {},
   "outputs": [],
   "source": []
  },
  {
   "cell_type": "code",
   "execution_count": null,
   "metadata": {},
   "outputs": [],
   "source": []
  },
  {
   "cell_type": "code",
   "execution_count": null,
   "metadata": {},
   "outputs": [],
   "source": []
  },
  {
   "cell_type": "code",
   "execution_count": 17,
   "metadata": {
    "ExecuteTime": {
     "end_time": "2018-06-07T15:01:42.102331Z",
     "start_time": "2018-06-07T15:01:42.042265Z"
    }
   },
   "outputs": [
    {
     "data": {
      "text/plain": [
       "array([-19.429688, -18.166504, -17.284668, ..., -17.5     , -19.528809,\n",
       "       -28.05664 ], dtype=float32)"
      ]
     },
     "execution_count": 17,
     "metadata": {},
     "output_type": "execute_result"
    }
   ],
   "source": []
  },
  {
   "cell_type": "code",
   "execution_count": 14,
   "metadata": {
    "ExecuteTime": {
     "end_time": "2018-06-07T15:01:30.791411Z",
     "start_time": "2018-06-07T15:01:30.727739Z"
    }
   },
   "outputs": [
    {
     "data": {
      "text/plain": [
       "(9309,)"
      ]
     },
     "execution_count": 14,
     "metadata": {},
     "output_type": "execute_result"
    }
   ],
   "source": [
    "model.mua.spk_times[0].shape"
   ]
  },
  {
   "cell_type": "code",
   "execution_count": 15,
   "metadata": {
    "ExecuteTime": {
     "end_time": "2018-06-07T15:01:31.285766Z",
     "start_time": "2018-06-07T15:01:31.221275Z"
    }
   },
   "outputs": [
    {
     "data": {
      "text/plain": [
       "(9309, 19, 3)"
      ]
     },
     "execution_count": 15,
     "metadata": {},
     "output_type": "execute_result"
    }
   ],
   "source": [
    "model.spk[0].shape"
   ]
  },
  {
   "cell_type": "code",
   "execution_count": 16,
   "metadata": {
    "ExecuteTime": {
     "end_time": "2018-06-07T15:01:31.610442Z",
     "start_time": "2018-06-07T15:01:31.546623Z"
    }
   },
   "outputs": [
    {
     "data": {
      "text/plain": [
       "(9309, 6)"
      ]
     },
     "execution_count": 16,
     "metadata": {},
     "output_type": "execute_result"
    }
   ],
   "source": [
    "model.fet[0].shape"
   ]
  },
  {
   "cell_type": "code",
   "execution_count": null,
   "metadata": {},
   "outputs": [],
   "source": []
  },
  {
   "cell_type": "code",
   "execution_count": null,
   "metadata": {},
   "outputs": [],
   "source": []
  },
  {
   "cell_type": "code",
   "execution_count": null,
   "metadata": {},
   "outputs": [],
   "source": []
  },
  {
   "cell_type": "code",
   "execution_count": null,
   "metadata": {},
   "outputs": [],
   "source": []
  },
  {
   "cell_type": "code",
   "execution_count": null,
   "metadata": {},
   "outputs": [],
   "source": []
  },
  {
   "cell_type": "code",
   "execution_count": null,
   "metadata": {},
   "outputs": [],
   "source": []
  },
  {
   "cell_type": "code",
   "execution_count": null,
   "metadata": {},
   "outputs": [],
   "source": []
  },
  {
   "cell_type": "code",
   "execution_count": null,
   "metadata": {},
   "outputs": [],
   "source": []
  },
  {
   "cell_type": "code",
   "execution_count": null,
   "metadata": {},
   "outputs": [],
   "source": []
  },
  {
   "cell_type": "code",
   "execution_count": null,
   "metadata": {},
   "outputs": [],
   "source": []
  },
  {
   "cell_type": "code",
   "execution_count": null,
   "metadata": {},
   "outputs": [],
   "source": []
  },
  {
   "cell_type": "code",
   "execution_count": null,
   "metadata": {},
   "outputs": [],
   "source": []
  },
  {
   "cell_type": "code",
   "execution_count": null,
   "metadata": {},
   "outputs": [],
   "source": []
  },
  {
   "cell_type": "code",
   "execution_count": null,
   "metadata": {},
   "outputs": [],
   "source": []
  },
  {
   "cell_type": "code",
   "execution_count": null,
   "metadata": {},
   "outputs": [],
   "source": []
  },
  {
   "cell_type": "code",
   "execution_count": null,
   "metadata": {},
   "outputs": [],
   "source": []
  },
  {
   "cell_type": "code",
   "execution_count": null,
   "metadata": {},
   "outputs": [],
   "source": []
  },
  {
   "cell_type": "code",
   "execution_count": null,
   "metadata": {},
   "outputs": [],
   "source": []
  },
  {
   "cell_type": "code",
   "execution_count": null,
   "metadata": {},
   "outputs": [],
   "source": []
  },
  {
   "cell_type": "code",
   "execution_count": null,
   "metadata": {},
   "outputs": [],
   "source": []
  },
  {
   "cell_type": "code",
   "execution_count": null,
   "metadata": {},
   "outputs": [],
   "source": []
  },
  {
   "cell_type": "code",
   "execution_count": null,
   "metadata": {},
   "outputs": [],
   "source": []
  },
  {
   "cell_type": "code",
   "execution_count": 28,
   "metadata": {
    "ExecuteTime": {
     "end_time": "2018-06-06T22:53:52.572743Z",
     "start_time": "2018-06-06T22:53:52.462496Z"
    }
   },
   "outputs": [],
   "source": [
    "import sys\n",
    "from PyQt5.QtGui import *\n",
    "from PyQt5.QtCore import *\n",
    "from PyQt5.QtWidgets import *\n",
    "\n",
    "class sorter(QWidget):\n",
    "\n",
    "    def __init__(self):\n",
    "        super(sorter, self).__init__()\n",
    "        self.initUI()\n",
    "\n",
    "    def initUI(self):\n",
    "\n",
    "        hbox = QHBoxLayout(self)\n",
    "        self.splitter1 = QSplitter(Qt.Horizontal)\n",
    "#         textedit = QTextEdit()\n",
    "#         self.splitter1.addWidget(self.topleft)\n",
    "#         self.splitter1.addWidget(textedit)\n",
    "#         self.splitter1.setSizes([100,200])\n",
    "        self.splitter2 = QSplitter(Qt.Horizontal)\n",
    "        self.splitter_fet = QSplitter(Qt.Vertical)\n",
    "\n",
    "        self.splitter3 = QSplitter(Qt.Vertical)\n",
    "        self.splitter3.addWidget(self.splitter1)\n",
    "        self.splitter3.addWidget(self.splitter2)\n",
    "#         self.splitter2.addWidget(self.bottom)\n",
    "\n",
    "        hbox.addWidget(self.splitter3)\n",
    "\n",
    "        self.setLayout(hbox)\n",
    "        QApplication.setStyle(QStyleFactory.create('Cleanlooks'))\n",
    "\n",
    "        self.setGeometry(300, 300, 300, 200)\n",
    "        self.setWindowTitle('spiketag')\n",
    "#         self.show()\n",
    "\n",
    "    def set_data(self, mua, spk, fet, clu):\n",
    "        ### init view and set_data\n",
    "        self.spkview = spike_view()\n",
    "        self.spkview.set_data(spk, clu)\n",
    "        self.fetview0 = scatter_3d_view()\n",
    "        self.fetview0.set_data(fet[:,[0,1,2]].copy(), clu)\n",
    "        self.fetview1 = scatter_3d_view()\n",
    "        self.fetview1.set_data(fet[:,[1,3,4]].copy(), clu)\n",
    "        self.ampview = amplitude_view(fs=fs, scale=1)\n",
    "        self.ampview.set_data(spk, clu, mua.pivotal_pos[0])\n",
    "        self.treeview = ctree_view()\n",
    "        self.treeview.set_data(clu)\n",
    "        self.corview = correlogram_view(fs=fs)\n",
    "        self.corview.set_data(clu, mua.pivotal_pos[0])\n",
    "        self.traceview = trace_view(fs=mua.fs, spklen=spk.shape[1])\n",
    "        self.traceview.set_data(mua.data, clu, mua.pivotal_pos[0])\n",
    "#         self.traceview.locate_buffer = 2000\n",
    "        \n",
    "        ### put views into splitter\n",
    "        self.splitter1.addWidget(self.traceview.native)\n",
    "        self.splitter1.addWidget(self.splitter_fet)\n",
    "        self.splitter_fet.addWidget(self.fetview0.native)\n",
    "        self.splitter_fet.addWidget(self.fetview1.native)\n",
    "        self.splitter1.addWidget(self.spkview.native)\n",
    "        \n",
    "        self.splitter2.addWidget(self.corview.native)\n",
    "        self.splitter2.addWidget(self.treeview.native)\n",
    "        self.splitter2.addWidget(self.ampview.native)\n"
   ]
  },
  {
   "cell_type": "code",
   "execution_count": 29,
   "metadata": {
    "ExecuteTime": {
     "end_time": "2018-06-06T22:53:53.590297Z",
     "start_time": "2018-06-06T22:53:53.528248Z"
    }
   },
   "outputs": [],
   "source": [
    "%gui qt"
   ]
  },
  {
   "cell_type": "code",
   "execution_count": 30,
   "metadata": {
    "ExecuteTime": {
     "end_time": "2018-06-06T22:53:54.106316Z",
     "start_time": "2018-06-06T22:53:54.034948Z"
    },
    "scrolled": true
   },
   "outputs": [],
   "source": [
    "ex = sorter()"
   ]
  },
  {
   "cell_type": "code",
   "execution_count": 31,
   "metadata": {
    "ExecuteTime": {
     "end_time": "2018-06-06T22:53:55.860314Z",
     "start_time": "2018-06-06T22:53:54.844399Z"
    },
    "scrolled": true
   },
   "outputs": [
    {
     "name": "stderr",
     "output_type": "stream",
     "text": [
      "2018-06-06 18:53:54,900 - spiketag - INFO - mua.tospk()\n",
      "2018-06-06 18:53:54,909 - spiketag - INFO - ----------------success------------------\n",
      "2018-06-06 18:53:54,910 - spiketag - INFO -  \n",
      "2018-06-06 18:53:54,943 - spiketag - INFO - spk._tofet(groupNo=0, method=pca, ncomp=9, whiten=False)\n",
      "2018-06-06 18:53:54,945 - spiketag - INFO - ----------------success------------------\n",
      "2018-06-06 18:53:54,946 - spiketag - INFO -  \n",
      "2018-06-06 18:53:55,855 - spiketag - INFO - clustering finished, used 0.906870126724 sec\n"
     ]
    }
   ],
   "source": [
    "spk = mua.tospk()\n",
    "fet = spk.tofet(method='pca', ncomp=9, whiten=False)\n",
    "clu = fet.toclu(method='hdbscan')"
   ]
  },
  {
   "cell_type": "code",
   "execution_count": 32,
   "metadata": {
    "ExecuteTime": {
     "end_time": "2018-06-06T22:53:57.807949Z",
     "start_time": "2018-06-06T22:53:57.724631Z"
    },
    "scrolled": true
   },
   "outputs": [
    {
     "ename": "KeyError",
     "evalue": "1",
     "output_type": "error",
     "traceback": [
      "\u001b[0;31m---------------------------------------------------------------------------\u001b[0m",
      "\u001b[0;31mKeyError\u001b[0m                                  Traceback (most recent call last)",
      "\u001b[0;32m<ipython-input-32-c8b5c2bc0fae>\u001b[0m in \u001b[0;36m<module>\u001b[0;34m()\u001b[0m\n\u001b[0;32m----> 1\u001b[0;31m \u001b[0mex\u001b[0m\u001b[0;34m.\u001b[0m\u001b[0mset_data\u001b[0m\u001b[0;34m(\u001b[0m\u001b[0mmua\u001b[0m\u001b[0;34m,\u001b[0m \u001b[0mspk\u001b[0m\u001b[0;34m.\u001b[0m\u001b[0mspk\u001b[0m\u001b[0;34m[\u001b[0m\u001b[0;36m1\u001b[0m\u001b[0;34m]\u001b[0m\u001b[0;34m,\u001b[0m \u001b[0mfet\u001b[0m\u001b[0;34m.\u001b[0m\u001b[0mfet\u001b[0m\u001b[0;34m[\u001b[0m\u001b[0;36m1\u001b[0m\u001b[0;34m]\u001b[0m\u001b[0;34m,\u001b[0m \u001b[0mclu\u001b[0m\u001b[0;34m[\u001b[0m\u001b[0;36m1\u001b[0m\u001b[0;34m]\u001b[0m\u001b[0;34m)\u001b[0m\u001b[0;34m\u001b[0m\u001b[0m\n\u001b[0m",
      "\u001b[0;31mKeyError\u001b[0m: 1"
     ]
    }
   ],
   "source": [
    "ex.set_data(mua, spk.spk[1], fet.fet[1], clu[1])"
   ]
  },
  {
   "cell_type": "code",
   "execution_count": 66,
   "metadata": {
    "ExecuteTime": {
     "end_time": "2018-05-02T01:18:57.015770Z",
     "start_time": "2018-05-02T01:18:56.850123Z"
    },
    "scrolled": false
   },
   "outputs": [],
   "source": [
    "ex.show()"
   ]
  },
  {
   "cell_type": "code",
   "execution_count": 70,
   "metadata": {
    "ExecuteTime": {
     "end_time": "2018-05-02T01:19:23.597561Z",
     "start_time": "2018-05-02T01:19:23.542644Z"
    },
    "scrolled": true
   },
   "outputs": [],
   "source": [
    "ex.traceview.locate_buffer = 300"
   ]
  },
  {
   "cell_type": "code",
   "execution_count": 97,
   "metadata": {
    "scrolled": true
   },
   "outputs": [
    {
     "name": "stderr",
     "output_type": "stream",
     "text": [
      "ERROR: Invoking <bound method trace_view.update_cursor of <trace_view (PyQt5) at 0x1c4774b690>> repeat 8192\n",
      "ERROR: Invoking <bound method trace_view.update_cursor of <trace_view (PyQt5) at 0x1c4a0aa110>> repeat 8192\n"
     ]
    }
   ],
   "source": [
    "ex.fetview0.set_data(fet.fet[1][:,[1,3,4]], clu[1])\n",
    "ex.update()"
   ]
  },
  {
   "cell_type": "code",
   "execution_count": 20,
   "metadata": {},
   "outputs": [],
   "source": [
    "gclu = clu[1]"
   ]
  },
  {
   "cell_type": "code",
   "execution_count": 21,
   "metadata": {
    "scrolled": true
   },
   "outputs": [
    {
     "data": {
      "text/plain": [
       "array([ 848, 2681, 2795, 2899, 2951, 3162, 3521, 4018, 4031, 4074, 4169,\n",
       "       4224, 4237, 4486, 4489, 4648, 5064, 5078, 5823, 5966, 5967, 6047,\n",
       "       6049, 6070, 6610, 7207, 7319, 7919, 8057, 8167, 8378, 8602, 8679,\n",
       "       9240])"
      ]
     },
     "execution_count": 21,
     "metadata": {},
     "output_type": "execute_result"
    },
    {
     "name": "stderr",
     "output_type": "stream",
     "text": [
      "2018-03-11 15:08:33,804 - spiketag - DEBUG - ctree view expand clustier 9311 here\n",
      "2018-03-11 15:08:51,809 - spiketag - DEBUG - ctree view expand clustier 9313 here\n"
     ]
    }
   ],
   "source": [
    "gclu.selectlist"
   ]
  },
  {
   "cell_type": "code",
   "execution_count": 21,
   "metadata": {},
   "outputs": [
    {
     "data": {
      "text/plain": [
       "['spiketag.view.spike_view.on_select_id121320795744',\n",
       " 'spiketag.view.scatter_3d_view.on_select_id121444857928',\n",
       " 'spiketag.view.scatter_3d_view.on_select_id121449105600',\n",
       " 'spiketag.view.amplitude_view.on_select_id121452650320',\n",
       " 'spiketag.view.trace_view.on_select_id121529220464']"
      ]
     },
     "execution_count": 21,
     "metadata": {},
     "output_type": "execute_result"
    },
    {
     "name": "stderr",
     "output_type": "stream",
     "text": [
      "2018-03-11 14:14:28,666 - spiketag - DEBUG - ctree view collapse cluster 9309 here\n",
      "2018-03-11 14:14:29,401 - spiketag - DEBUG - ctree view collapse cluster 9309 here\n",
      "2018-03-11 14:14:31,183 - spiketag - DEBUG - ctree view collapse cluster 9309 here\n",
      "2018-03-11 14:14:32,756 - spiketag - DEBUG - ctree view collapse cluster 9311 here\n",
      "2018-03-11 14:14:34,080 - spiketag - DEBUG - ctree view collapse cluster 9311 here\n",
      "2018-03-11 14:14:34,932 - spiketag - DEBUG - ctree view collapse cluster 9309 here\n",
      "2018-03-11 14:14:35,486 - spiketag - DEBUG - ctree view collapse cluster 9311 here\n",
      "2018-03-11 14:14:36,014 - spiketag - DEBUG - ctree view collapse cluster 9311 here\n",
      "2018-03-11 14:14:36,999 - spiketag - DEBUG - ctree view collapse cluster 9309 here\n",
      "2018-03-11 14:14:37,535 - spiketag - DEBUG - ctree view collapse cluster 9311 here\n",
      "2018-03-11 14:14:39,278 - spiketag - DEBUG - ctree view expand clustier 9312 here\n",
      "2018-03-11 14:14:43,798 - spiketag - DEBUG - ctree view collapse cluster 9311 here\n",
      "2018-03-11 14:14:44,643 - spiketag - DEBUG - ctree view collapse cluster 9309 here\n"
     ]
    }
   ],
   "source": [
    "gclu._registered_func_name('select')"
   ]
  },
  {
   "cell_type": "code",
   "execution_count": null,
   "metadata": {},
   "outputs": [],
   "source": []
  }
 ],
 "metadata": {
  "kernelspec": {
   "display_name": "Python 3",
   "language": "python",
   "name": "python3"
  },
  "language_info": {
   "codemirror_mode": {
    "name": "ipython",
    "version": 3
   },
   "file_extension": ".py",
   "mimetype": "text/x-python",
   "name": "python",
   "nbconvert_exporter": "python",
   "pygments_lexer": "ipython3",
   "version": "3.6.7"
  },
  "toc": {
   "nav_menu": {},
   "number_sections": true,
   "sideBar": true,
   "skip_h1_title": false,
   "title_cell": "Table of Contents",
   "title_sidebar": "Contents",
   "toc_cell": false,
   "toc_position": {},
   "toc_section_display": true,
   "toc_window_display": false
  },
  "varInspector": {
   "cols": {
    "lenName": 16,
    "lenType": 16,
    "lenVar": 40
   },
   "kernels_config": {
    "python": {
     "delete_cmd_postfix": "",
     "delete_cmd_prefix": "del ",
     "library": "var_list.py",
     "varRefreshCmd": "print(var_dic_list())"
    },
    "r": {
     "delete_cmd_postfix": ") ",
     "delete_cmd_prefix": "rm(",
     "library": "var_list.r",
     "varRefreshCmd": "cat(var_dic_list()) "
    }
   },
   "types_to_exclude": [
    "module",
    "function",
    "builtin_function_or_method",
    "instance",
    "_Feature"
   ],
   "window_display": false
  }
 },
 "nbformat": 4,
 "nbformat_minor": 2
}
