{
 "cells": [
  {
   "cell_type": "code",
   "execution_count": 2,
   "metadata": {
    "collapsed": false
   },
   "outputs": [
    {
     "name": "stderr",
     "output_type": "stream",
     "text": [
      "[INFO              ] [Logger      ] Record log in C:\\Users\\xiaoy\\.kivy\\logs\\kivy_16-04-08_61.txt\n",
      "[INFO              ] [Kivy        ] v1.9.1\n",
      "[INFO              ] [Python      ] v2.7.11 |Continuum Analytics, Inc.| (default, Feb 16 2016, 09:58:36) [MSC v.1500 64 bit (AMD64)]\n",
      "[INFO              ] [Image       ] Providers: img_tex, img_dds, img_gif, img_sdl2 (img_pil, img_ffpyplayer ignored)\n"
     ]
    }
   ],
   "source": [
    "import algorithm as al\n",
    "import numpy as np\n",
    "import cv2 as cv\n",
    "import Queue\n",
    "from patchdb import *\n",
    "from psi import *\n",
    "from copyutils import *\n",
    "from debug import *\n",
    "import inspect"
   ]
  },
  {
   "cell_type": "code",
   "execution_count": 3,
   "metadata": {
    "collapsed": false
   },
   "outputs": [],
   "source": [
    "def imshow(img):\n",
    "    cv.imshow('image', img)\n",
    "    cv.waitKey(0)\n",
    "    cv.destroyAllWindows()"
   ]
  },
  {
   "cell_type": "code",
   "execution_count": 92,
   "metadata": {
    "collapsed": false
   },
   "outputs": [
    {
     "data": {
      "text/plain": [
       "(True, 'Success')"
      ]
     },
     "execution_count": 92,
     "metadata": {},
     "output_type": "execute_result"
    }
   ],
   "source": [
    "_p.readImage('../../test_images/Kanizsa-triangle-tiny.png', 'source')\n",
    "\n",
    "_p.readImage('../../test_images/Kanizsa-triangle-mask-tiny.png', 'alpha')"
   ]
  },
  {
   "cell_type": "code",
   "execution_count": 93,
   "metadata": {
    "collapsed": true
   },
   "outputs": [],
   "source": [
    "_p._images['filled'] = np.uint8(_p._images['alpha'] > 0)*255\n",
    "_p._images['inpainted'] = _p._images['source'].copy()"
   ]
  },
  {
   "cell_type": "code",
   "execution_count": 94,
   "metadata": {
    "collapsed": false
   },
   "outputs": [
    {
     "data": {
      "text/plain": [
       "(341L, 320L, 3L)"
      ]
     },
     "execution_count": 94,
     "metadata": {},
     "output_type": "execute_result"
    }
   ],
   "source": [
    "_p._images['source'].shape"
   ]
  },
  {
   "cell_type": "code",
   "execution_count": 95,
   "metadata": {
    "collapsed": false
   },
   "outputs": [],
   "source": [
    "for i in range(0,3):\n",
    "    _p._images['inpainted'][:,:,i] *= (_p._images['filled']>0)\n",
    "\n",
    "#\n",
    "# Step 1a,b: Identify the fill front deltaOmega and compute\n",
    "#            initial patch priorities"
   ]
  },
  {
   "cell_type": "code",
   "execution_count": 96,
   "metadata": {
    "collapsed": true
   },
   "outputs": [],
   "source": [
    "_p.computeBoundaries()\n",
    "_p.confidenceInitialize()"
   ]
  },
  {
   "cell_type": "code",
   "execution_count": 97,
   "metadata": {
    "collapsed": true
   },
   "outputs": [],
   "source": [
    "_p._w = 5"
   ]
  },
  {
   "cell_type": "code",
   "execution_count": 98,
   "metadata": {
    "collapsed": false
   },
   "outputs": [],
   "source": [
    "_p._patchDB = PatchDB(_p._images['inpainted'], _p._w, filled=_p._images['filled'])"
   ]
  },
  {
   "cell_type": "code",
   "execution_count": 99,
   "metadata": {
    "collapsed": true
   },
   "outputs": [],
   "source": [
    "_p.iterationsInit()\n",
    "done = False"
   ]
  },
  {
   "cell_type": "code",
   "execution_count": 100,
   "metadata": {
    "collapsed": false
   },
   "outputs": [],
   "source": [
    "boundary = _p._boundaryIterator.next()\n",
    "_p.fillFrontInitialize(boundary, imviewer=None)"
   ]
  },
  {
   "cell_type": "code",
   "execution_count": 101,
   "metadata": {
    "collapsed": false
   },
   "outputs": [],
   "source": [
    "boundaryPixels = boundary\n",
    "# initialize the pixels on the fill front\n",
    "_p._images['fillFront'] = \\\n",
    "    np.zeros_like(_p._images['filled'], dtype=np.uint8)\n",
    "_p._images['fillFront'] = \\\n",
    "    cv.drawContours(_p._images['fillFront'],boundaryPixels,-1,255)\n",
    "\n",
    "# initialize the priority queue with all points on the fill front\n",
    "_p._deltaOmega = Queue.PriorityQueue()"
   ]
  },
  {
   "cell_type": "code",
   "execution_count": 135,
   "metadata": {
    "collapsed": false
   },
   "outputs": [],
   "source": [
    "# col, row = boundaryPixels[10][0]\n",
    "col, row = boundary[150:200][0][0]\n",
    "p = PSI((row, col), _p._w, \n",
    "          image=_p._images['inpainted'], \n",
    "          filled=_p._images['filled'],\n",
    "          confidence=_p._images['confidence'],\n",
    "          fillFront=_p._images['fillFront'])\n",
    "inpaintedImage=_p._images['inpainted'] \n",
    "filledImage=_p._images['filled']\n",
    "confidence=_p._images['confidence']\n",
    "fillFront=_p._images['fillFront']"
   ]
  },
  {
   "cell_type": "code",
   "execution_count": 151,
   "metadata": {
    "collapsed": false
   },
   "outputs": [],
   "source": [
    "front, _ = copyutils.getWindow(fillFront, p._coords, p._w)\n",
    "# filled, _ = copyutils.getWindow(filledImage, psiHatP._coords, psiHatP._w)\n",
    "# Sobel filter\n",
    "kw = 1\n",
    "size = 2 * kw + 1\n",
    "Gx = cv.Sobel(src=front, ddepth=cv.CV_32F, dx=1, dy=0, ksize=size)[p._w][p._w]\n",
    "Gy = cv.Sobel(src=front, ddepth=cv.CV_32F, dx=0, dy=1, ksize=size)[p._w][p._w]\n",
    "d = np.sqrt(Gy**2 + Gx**2)\n",
    "if d != 0:\n",
    "    Gx /= d\n",
    "    Gy /= d\n",
    "Ny = Gy\n",
    "Nx = -Gx"
   ]
  },
  {
   "cell_type": "code",
   "execution_count": 152,
   "metadata": {
    "collapsed": false
   },
   "outputs": [
    {
     "data": {
      "text/plain": [
       "array([[  0,   0, 255,   0,   0,   0,   0,   0,   0,   0,   0],\n",
       "       [  0,   0,   0, 255,   0,   0,   0,   0,   0,   0,   0],\n",
       "       [  0,   0,   0,   0, 255,   0,   0,   0,   0,   0,   0],\n",
       "       [  0,   0,   0,   0, 255,   0,   0,   0,   0,   0,   0],\n",
       "       [  0,   0,   0,   0,   0, 255,   0,   0,   0,   0,   0],\n",
       "       [  0,   0,   0,   0,   0, 255,   0,   0,   0,   0,   0],\n",
       "       [  0,   0,   0,   0,   0,   0, 255,   0,   0,   0,   0],\n",
       "       [  0,   0,   0,   0,   0,   0, 255,   0,   0,   0,   0],\n",
       "       [  0,   0,   0,   0,   0,   0,   0, 255,   0,   0,   0],\n",
       "       [  0,   0,   0,   0,   0,   0,   0, 255,   0,   0,   0],\n",
       "       [  0,   0,   0,   0,   0,   0,   0,   0, 255,   0,   0]], dtype=uint8)"
      ]
     },
     "execution_count": 152,
     "metadata": {},
     "output_type": "execute_result"
    }
   ],
   "source": [
    "front"
   ]
  },
  {
   "cell_type": "code",
   "execution_count": 155,
   "metadata": {
    "collapsed": false
   },
   "outputs": [
    {
     "data": {
      "text/plain": [
       "0.70710678118654746"
      ]
     },
     "execution_count": 155,
     "metadata": {},
     "output_type": "execute_result"
    }
   ],
   "source": [
    "Gx"
   ]
  },
  {
   "cell_type": "code",
   "execution_count": 106,
   "metadata": {
    "collapsed": false
   },
   "outputs": [
    {
     "data": {
      "text/plain": [
       "array([[1, 1, 1],\n",
       "       [1, 1, 1],\n",
       "       [1, 1, 1]], dtype=uint8)"
      ]
     },
     "execution_count": 106,
     "metadata": {},
     "output_type": "execute_result"
    }
   ],
   "source": [
    "erode_kernel = np.ones((3,3),np.uint8);kernel"
   ]
  },
  {
   "cell_type": "code",
   "execution_count": 107,
   "metadata": {
    "collapsed": false
   },
   "outputs": [
    {
     "data": {
      "text/plain": [
       "array([[  0,   0,   0,   0,   0,   0,   0,   0,   0,   0,   0],\n",
       "       [  0,   0,   0,   0,   0,   0,   0,   0,   0,   0,   0],\n",
       "       [  0,   0,   0,   0,   0,   0,   0,   0,   0,   0,   0],\n",
       "       [  0,   0,   0,   0,   0,   0,   0,   0,   0,   0,   0],\n",
       "       [255,   0,   0,   0,   0,   0,   0,   0,   0,   0,   0],\n",
       "       [255,   0,   0,   0,   0,   0,   0,   0,   0,   0,   0],\n",
       "       [255, 255,   0,   0,   0,   0,   0,   0,   0,   0,   0],\n",
       "       [255, 255,   0,   0,   0,   0,   0,   0,   0,   0,   0],\n",
       "       [255, 255, 255,   0,   0,   0,   0,   0,   0,   0,   0],\n",
       "       [255, 255, 255,   0,   0,   0,   0,   0,   0,   0,   0],\n",
       "       [255, 255, 255, 255,   0,   0,   0,   0,   0,   0,   0]], dtype=uint8)"
      ]
     },
     "execution_count": 107,
     "metadata": {},
     "output_type": "execute_result"
    }
   ],
   "source": [
    "filled_eroded = cv.erode(inpainted, erode_kernel, borderType=cv.BORDER_REPLICATE,iterations=1);filled_eroded"
   ]
  },
  {
   "cell_type": "code",
   "execution_count": 108,
   "metadata": {
    "collapsed": false
   },
   "outputs": [
    {
     "data": {
      "text/plain": [
       "array([[    0.,     0.,     0.,     0.,     0.,     0.,     0.,     0.,\n",
       "            0.,     0.,     0.],\n",
       "       [ -255.,  -255.,     0.,     0.,     0.,     0.,     0.,     0.,\n",
       "            0.,     0.,     0.],\n",
       "       [ -510.,  -765.,  -255.,     0.,     0.,     0.,     0.,     0.,\n",
       "            0.,     0.,     0.],\n",
       "       [ -255., -1020.,  -765.,     0.,     0.,     0.,     0.,     0.,\n",
       "            0.,     0.,     0.],\n",
       "       [    0.,  -765., -1020.,  -255.,     0.,     0.,     0.,     0.,\n",
       "            0.,     0.,     0.],\n",
       "       [    0.,  -255., -1020.,  -765.,     0.,     0.,     0.,     0.,\n",
       "            0.,     0.,     0.],\n",
       "       [    0.,     0.,  -765., -1020.,  -255.,     0.,     0.,     0.,\n",
       "            0.,     0.,     0.],\n",
       "       [    0.,     0.,  -255., -1020.,  -765.,     0.,     0.,     0.,\n",
       "            0.,     0.,     0.],\n",
       "       [    0.,     0.,     0.,  -765., -1020.,  -255.,     0.,     0.,\n",
       "            0.,     0.,     0.],\n",
       "       [    0.,     0.,     0.,  -255., -1020.,  -765.,     0.,     0.,\n",
       "            0.,     0.,     0.],\n",
       "       [    0.,     0.,     0.,     0., -1020., -1020.,     0.,     0.,\n",
       "            0.,     0.,     0.]], dtype=float32)"
      ]
     },
     "execution_count": 108,
     "metadata": {},
     "output_type": "execute_result"
    }
   ],
   "source": [
    "dx = cv.Sobel(src=inpainted, ddepth=cv.CV_32F, dx=1, dy=0, ksize=3, borderType=cv.BORDER_REPLICATE);dx"
   ]
  },
  {
   "cell_type": "code",
   "execution_count": 109,
   "metadata": {
    "collapsed": false
   },
   "outputs": [],
   "source": [
    "dx *= filled_eroded > 0"
   ]
  },
  {
   "cell_type": "code",
   "execution_count": 110,
   "metadata": {
    "collapsed": false
   },
   "outputs": [
    {
     "data": {
      "text/plain": [
       "array([[ 0.,  0.,  0.,  0.,  0.,  0.,  0.,  0.,  0.,  0.,  0.],\n",
       "       [-0., -0.,  0.,  0.,  0.,  0.,  0.,  0.,  0.,  0.,  0.],\n",
       "       [-0., -0., -0.,  0.,  0.,  0.,  0.,  0.,  0.,  0.,  0.],\n",
       "       [-0., -0., -0.,  0.,  0.,  0.,  0.,  0.,  0.,  0.,  0.],\n",
       "       [ 0., -0., -0., -0.,  0.,  0.,  0.,  0.,  0.,  0.,  0.],\n",
       "       [ 0., -0., -0., -0.,  0.,  0.,  0.,  0.,  0.,  0.,  0.],\n",
       "       [ 0.,  0., -0., -0., -0.,  0.,  0.,  0.,  0.,  0.,  0.],\n",
       "       [ 0.,  0., -0., -0., -0.,  0.,  0.,  0.,  0.,  0.,  0.],\n",
       "       [ 0.,  0.,  0., -0., -0., -0.,  0.,  0.,  0.,  0.,  0.],\n",
       "       [ 0.,  0.,  0., -0., -0., -0.,  0.,  0.,  0.,  0.,  0.],\n",
       "       [ 0.,  0.,  0.,  0., -0., -0.,  0.,  0.,  0.,  0.,  0.]], dtype=float32)"
      ]
     },
     "execution_count": 110,
     "metadata": {},
     "output_type": "execute_result"
    }
   ],
   "source": [
    "dx"
   ]
  },
  {
   "cell_type": "code",
   "execution_count": 111,
   "metadata": {
    "collapsed": false
   },
   "outputs": [
    {
     "data": {
      "text/plain": [
       "array([[    0.,     0.,     0.,     0.,     0.,     0.,     0.,     0.,\n",
       "            0.,     0.,     0.],\n",
       "       [    0.,     0.,     0.,     0.,     0.,     0.,     0.,     0.,\n",
       "            0.,     0.,     0.],\n",
       "       [ 1020.,     0.,     0.,     0.,     0.,     0.,     0.,     0.,\n",
       "            0.,     0.,     0.],\n",
       "       [  510.,   510.,     0.,     0.,     0.,     0.,     0.,     0.,\n",
       "            0.,     0.,     0.],\n",
       "       [    0.,   255.,     0.,     0.,     0.,     0.,     0.,     0.,\n",
       "            0.,     0.,     0.],\n",
       "       [    0.,   255.,   510.,     0.,     0.,     0.,     0.,     0.,\n",
       "            0.,     0.,     0.],\n",
       "       [    0.,     0.,   255.,     0.,     0.,     0.,     0.,     0.,\n",
       "            0.,     0.,     0.],\n",
       "       [    0.,     0.,   255.,   510.,     0.,     0.,     0.,     0.,\n",
       "            0.,     0.,     0.],\n",
       "       [    0.,     0.,     0.,   255.,     0.,     0.,     0.,     0.,\n",
       "            0.,     0.,     0.],\n",
       "       [    0.,     0.,     0.,   255.,   510.,     0.,     0.,     0.,\n",
       "            0.,     0.,     0.],\n",
       "       [    0.,     0.,     0.,     0.,     0.,     0.,     0.,     0.,\n",
       "            0.,     0.,     0.]], dtype=float32)"
      ]
     },
     "execution_count": 111,
     "metadata": {},
     "output_type": "execute_result"
    }
   ],
   "source": [
    "Dx * (filled>0)"
   ]
  },
  {
   "cell_type": "code",
   "execution_count": 112,
   "metadata": {
    "collapsed": false
   },
   "outputs": [
    {
     "data": {
      "text/plain": [
       "array([[    0.        ,     0.        ,     0.        ,     0.        ,\n",
       "            0.        ,     0.        ,     0.        ,     0.        ,\n",
       "            0.        ,     0.        ,     0.        ],\n",
       "       [  510.        ,   360.62445068,     0.        ,     0.        ,\n",
       "            0.        ,     0.        ,     0.        ,     0.        ,\n",
       "            0.        ,     0.        ,     0.        ],\n",
       "       [ 1020.        ,  1081.87341309,   360.62445068,     0.        ,\n",
       "            0.        ,     0.        ,     0.        ,     0.        ,\n",
       "            0.        ,     0.        ,     0.        ],\n",
       "       [  510.        ,  1140.39465332,   806.38079834,     0.        ,\n",
       "            0.        ,     0.        ,     0.        ,     0.        ,\n",
       "            0.        ,     0.        ,     0.        ],\n",
       "       [    0.        ,   806.38079834,  1140.39465332,   360.62445068,\n",
       "            0.        ,     0.        ,     0.        ,     0.        ,\n",
       "            0.        ,     0.        ,     0.        ],\n",
       "       [    0.        ,   360.62445068,  1140.39465332,   806.38079834,\n",
       "            0.        ,     0.        ,     0.        ,     0.        ,\n",
       "            0.        ,     0.        ,     0.        ],\n",
       "       [    0.        ,     0.        ,   806.38079834,  1140.39465332,\n",
       "          360.62445068,     0.        ,     0.        ,     0.        ,\n",
       "            0.        ,     0.        ,     0.        ],\n",
       "       [    0.        ,     0.        ,   360.62445068,  1140.39465332,\n",
       "          806.38079834,     0.        ,     0.        ,     0.        ,\n",
       "            0.        ,     0.        ,     0.        ],\n",
       "       [    0.        ,     0.        ,     0.        ,   806.38079834,\n",
       "         1140.39465332,   360.62445068,     0.        ,     0.        ,\n",
       "            0.        ,     0.        ,     0.        ],\n",
       "       [    0.        ,     0.        ,     0.        ,   360.62445068,\n",
       "         1140.39465332,   806.38079834,     0.        ,     0.        ,\n",
       "            0.        ,     0.        ,     0.        ],\n",
       "       [    0.        ,     0.        ,     0.        ,     0.        ,\n",
       "         1020.        ,  1020.        ,     0.        ,     0.        ,\n",
       "            0.        ,     0.        ,     0.        ]], dtype=float32)"
      ]
     },
     "execution_count": 112,
     "metadata": {},
     "output_type": "execute_result"
    }
   ],
   "source": [
    "d"
   ]
  },
  {
   "cell_type": "code",
   "execution_count": 113,
   "metadata": {
    "collapsed": false
   },
   "outputs": [
    {
     "data": {
      "text/plain": [
       "510.0"
      ]
     },
     "execution_count": 113,
     "metadata": {},
     "output_type": "execute_result"
    }
   ],
   "source": [
    "Dx[dmax][0]"
   ]
  },
  {
   "cell_type": "code",
   "execution_count": 114,
   "metadata": {
    "collapsed": false
   },
   "outputs": [
    {
     "data": {
      "text/plain": [
       "1020.0"
      ]
     },
     "execution_count": 114,
     "metadata": {},
     "output_type": "execute_result"
    }
   ],
   "source": [
    "Dy[dmax][0]"
   ]
  },
  {
   "cell_type": "code",
   "execution_count": null,
   "metadata": {
    "collapsed": true
   },
   "outputs": [],
   "source": []
  }
 ],
 "metadata": {
  "kernelspec": {
   "display_name": "Python 2",
   "language": "python",
   "name": "python2"
  },
  "language_info": {
   "codemirror_mode": {
    "name": "ipython",
    "version": 2
   },
   "file_extension": ".py",
   "mimetype": "text/x-python",
   "name": "python",
   "nbconvert_exporter": "python",
   "pygments_lexer": "ipython2",
   "version": "2.7.11"
  }
 },
 "nbformat": 4,
 "nbformat_minor": 0
}
