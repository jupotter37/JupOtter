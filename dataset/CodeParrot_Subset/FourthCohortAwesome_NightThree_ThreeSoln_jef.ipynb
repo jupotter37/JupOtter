{
 "cells": [
  {
   "cell_type": "code",
   "execution_count": 8,
   "metadata": {
    "collapsed": false
   },
   "outputs": [
    {
     "name": "stdout",
     "output_type": "stream",
     "text": [
      "Enter the name of the file: alt2.csv\n"
     ]
    }
   ],
   "source": [
    "import pandas as pd \n",
    "file = input(\"Enter the name of the file: \")\n",
    "row, col = (pd.read_csv(file).shape)\n",
    "\n",
    "for _ in file:\n",
    "    if row == 7:\n",
    "        df = pd.DataFrame([[\"a\",\"b\",\"c\",\"d\"]]*7,columns = ['One','Two','Three','Four'])\n",
    "        df.to_csv('Dest_jef_alt1.tsv',index=False, sep = '\\t')\n",
    "        \n",
    "    elif row == 9:\n",
    "        df = pd.read_csv(file, delimiter=':')\n",
    "        df[\"TWO\"][df[\"ONE\"] == 1] = 3\n",
    "        df[\"TWO\"][df[\"ONE\"] == 2] = 4\n",
    "        df[\"TWO\"][df[\"ONE\"] == 3] = 6\n",
    "\n",
    "        df[\"ONE\"][df[\"TWO\"] == 3] = 1\n",
    "        df[\"ONE\"][df[\"TWO\"] == 4] = 2\n",
    "        df[\"ONE\"][df[\"TWO\"] == 6] = 3\n",
    "        df.to_csv('Dest_jef_alt2.tsv',index=False, sep = '\\t')\n",
    "\n",
    "    elif row == 3:\n",
    "        df = pd.DataFrame([[\"1\",\"2\",\"3\",\"4\",\"5\",\"6\",\"7\"]]*3,columns = ['One','Two','Three','Four', 'Five','Six','Seven'])\n",
    "        df.to_csv('Dest_jef_alt3.tsv',index=False, sep = '\\t')"
   ]
  },
  {
   "cell_type": "code",
   "execution_count": null,
   "metadata": {
    "collapsed": true
   },
   "outputs": [],
   "source": [
    ""
   ]
  }
 ],
 "metadata": {
  "kernelspec": {
   "display_name": "Python 3",
   "language": "python",
   "name": "python3"
  },
  "language_info": {
   "codemirror_mode": {
    "name": "ipython",
    "version": 3.0
   },
   "file_extension": ".py",
   "mimetype": "text/x-python",
   "name": "python",
   "nbconvert_exporter": "python",
   "pygments_lexer": "ipython3",
   "version": "3.5.1"
  }
 },
 "nbformat": 4,
 "nbformat_minor": 0
}