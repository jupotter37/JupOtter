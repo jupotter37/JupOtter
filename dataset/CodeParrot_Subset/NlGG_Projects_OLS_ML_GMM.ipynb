{
 "cells": [
  {
   "cell_type": "code",
   "execution_count": 63,
   "metadata": {
    "collapsed": true
   },
   "outputs": [],
   "source": [
    "%matplotlib inline"
   ]
  },
  {
   "cell_type": "code",
   "execution_count": 129,
   "metadata": {
    "collapsed": false
   },
   "outputs": [],
   "source": [
    "import numpy as np\n",
    "import pandas as pd\n",
    "\n",
    "#　統計用ツール\n",
    "import statsmodels.api as sm\n",
    "import statsmodels.tsa.api as tsa\n",
    "from patsy import dmatrices\n",
    "\n",
    "#　自作の空間統計用ツール\n",
    "from spatialstat import *\n",
    "\n",
    "#描画\n",
    "import matplotlib.pyplot as plt\n",
    "from pandas.tools.plotting import autocorrelation_plot"
   ]
  },
  {
   "cell_type": "markdown",
   "metadata": {},
   "source": [
    "# 空間計量モデルとOLS・最尤推定・GMM"
   ]
  },
  {
   "cell_type": "markdown",
   "metadata": {
    "collapsed": true
   },
   "source": [
    "### 1 CSVをpandasで取り込む。"
   ]
  },
  {
   "cell_type": "code",
   "execution_count": 67,
   "metadata": {
    "collapsed": false
   },
   "outputs": [],
   "source": [
    "df = pd.read_csv('bukken_data.csv')"
   ]
  },
  {
   "cell_type": "code",
   "execution_count": 68,
   "metadata": {
    "collapsed": false
   },
   "outputs": [
    {
     "data": {
      "text/plain": [
       "Index(['apart_dummy', 'building_year', 'dk', 'fX', 'fY', 'floor', 'k', 'lk',\n",
       "       'mansyon_dumy', 'new_dummy', 'pay', 'published_date', 'r', 'rc_dummy',\n",
       "       'room_nums', 'sdk', 'sk', 'sldk', 'slk', 'south_direction_dummy',\n",
       "       'square', 'teiki_syakuya_dummy', 'walk_minute_dummy'],\n",
       "      dtype='object')"
      ]
     },
     "execution_count": 68,
     "metadata": {},
     "output_type": "execute_result"
    }
   ],
   "source": [
    "df.columns"
   ]
  },
  {
   "cell_type": "markdown",
   "metadata": {},
   "source": [
    "### 2 空間隣接行列を作成する。"
   ]
  },
  {
   "cell_type": "code",
   "execution_count": 118,
   "metadata": {
    "collapsed": false
   },
   "outputs": [],
   "source": [
    "S = np.matrix(S_matrix(df, 10, 0.5))"
   ]
  },
  {
   "cell_type": "markdown",
   "metadata": {},
   "source": [
    "### 3 OLS推定"
   ]
  },
  {
   "cell_type": "code",
   "execution_count": 159,
   "metadata": {
    "collapsed": false
   },
   "outputs": [
    {
     "name": "stdout",
     "output_type": "stream",
     "text": [
      "                            OLS Regression Results                            \n",
      "==============================================================================\n",
      "Dep. Variable:                    pay   R-squared:                       0.800\n",
      "Model:                            OLS   Adj. R-squared:                  0.798\n",
      "Method:                 Least Squares   F-statistic:                     454.3\n",
      "Date:                Sun, 20 Nov 2016   Prob (F-statistic):               0.00\n",
      "Time:                        03:19:31   Log-Likelihood:                 397.34\n",
      "No. Observations:                1489   AIC:                            -766.7\n",
      "Df Residuals:                    1475   BIC:                            -692.4\n",
      "Df Model:                          13                                         \n",
      "Covariance Type:            nonrobust                                         \n",
      "=========================================================================================\n",
      "                            coef    std err          t      P>|t|      [95.0% Conf. Int.]\n",
      "-----------------------------------------------------------------------------------------\n",
      "Intercept                 5.7449      0.018    316.295      0.000         5.709     5.780\n",
      "square                    0.0199      0.000     43.492      0.000         0.019     0.021\n",
      "k                        -0.1522      0.016     -9.276      0.000        -0.184    -0.120\n",
      "lk                    -2.984e-15   4.25e-17    -70.152      0.000     -3.07e-15  -2.9e-15\n",
      "dk                       -0.0410      0.019     -2.190      0.029        -0.078    -0.004\n",
      "sdk                       0.0329      0.132      0.249      0.803        -0.227     0.293\n",
      "sldk                     -0.2925      0.085     -3.436      0.001        -0.459    -0.126\n",
      "south_direction_dummy    -0.0055      0.014     -0.407      0.684        -0.032     0.021\n",
      "building_year            -0.0097      0.000    -21.794      0.000        -0.011    -0.009\n",
      "new_dummy                -0.0140      0.010     -1.329      0.184        -0.035     0.007\n",
      "mansyon_dumy              5.7449      0.018    316.295      0.000         5.709     5.780\n",
      "teiki_syakuya_dummy       0.0334      0.031      1.076      0.282        -0.027     0.094\n",
      "walk_minute_dummy        -0.0012      0.004     -0.293      0.769        -0.009     0.007\n",
      "r                        -0.1390      0.017     -8.350      0.000        -0.172    -0.106\n",
      "rc_dummy                  0.0153      0.022      0.689      0.491        -0.028     0.059\n",
      "room_nums                -0.0304      0.015     -2.035      0.042        -0.060    -0.001\n",
      "==============================================================================\n",
      "Omnibus:                      873.427   Durbin-Watson:                   1.487\n",
      "Prob(Omnibus):                  0.000   Jarque-Bera (JB):           984703.367\n",
      "Skew:                           1.211   Prob(JB):                         0.00\n",
      "Kurtosis:                     128.959   Cond. No.                     3.33e+18\n",
      "==============================================================================\n",
      "\n",
      "Warnings:\n",
      "[1] Standard Errors assume that the covariance matrix of the errors is correctly specified.\n",
      "[2] The smallest eigenvalue is 2.5e-31. This might indicate that there are\n",
      "strong multicollinearity problems or that the design matrix is singular.\n"
     ]
    }
   ],
   "source": [
    "vars = ['pay', 'square', 'k', 'lk', 'dk', 'sdk', 'sldk', 'south_direction_dummy', 'building_year', \n",
    "        'new_dummy', 'mansyon_dumy', 'teiki_syakuya_dummy', 'walk_minute_dummy', 'r', 'rc_dummy', 'room_nums']\n",
    "eq = fml_build(vars)\n",
    "\n",
    "y, X = dmatrices(eq, data=df, return_type='dataframe')\n",
    "\n",
    "logy = np.log(y)\n",
    "\n",
    "model = sm.OLS(logy, X, intercept=True)\n",
    "results = model.fit()\n",
    "print(results.summary())"
   ]
  },
  {
   "cell_type": "markdown",
   "metadata": {},
   "source": [
    "なお空間統計でSEMを考えても、OLSやGLSは空間相関の有無に関わらず不偏であり、したがって汎化にはあまり関係ない。"
   ]
  }
 ],
 "metadata": {
  "kernelspec": {
   "display_name": "Python 3",
   "language": "python",
   "name": "python3"
  },
  "language_info": {
   "codemirror_mode": {
    "name": "ipython",
    "version": 3
   },
   "file_extension": ".py",
   "mimetype": "text/x-python",
   "name": "python",
   "nbconvert_exporter": "python",
   "pygments_lexer": "ipython3",
   "version": "3.5.1"
  }
 },
 "nbformat": 4,
 "nbformat_minor": 0
}
