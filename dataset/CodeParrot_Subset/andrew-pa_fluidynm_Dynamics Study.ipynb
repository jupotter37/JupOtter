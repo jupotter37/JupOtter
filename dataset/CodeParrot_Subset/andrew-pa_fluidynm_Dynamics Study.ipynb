{
 "cells": [
  {
   "cell_type": "code",
   "execution_count": 9,
   "metadata": {
    "collapsed": false
   },
   "outputs": [],
   "source": [
    "'''\n",
    "http://blog.wolfram.com/2013/07/09/using-mathematica-to-simulate-and-visualize-fluid-flow-in-a-box/\n",
    "\n",
    "dudt + u * dudx + v * dudy + w * dudz = - dpdx / rho + nu * (d2udx2 + d2udy2 + d2udz2) + fx\n",
    "dvdt + u * dvdx + v * dvdy + w * dvdz = - dpdy / rho + nu * (d2vdx2 + d2vdy2 + d2vdz2) + fy\n",
    "dwdt + u * dwdx + v * dwdy + w * dwdz = - dpdz / rho + nu * (d2wdx2 + d2wdy2 + d2wdz2) + fz\n",
    "dudx + dvdy + dwdz = 0\n",
    "'''"
   ]
  },
  {
   "cell_type": "code",
   "execution_count": 8,
   "metadata": {
    "collapsed": false
   },
   "outputs": [
    {
     "name": "stdout",
     "output_type": "stream",
     "text": [
      "12\n"
     ]
    }
   ],
   "source": []
  },
  {
   "cell_type": "code",
   "execution_count": null,
   "metadata": {
    "collapsed": true
   },
   "outputs": [],
   "source": [
    "'''\n",
    "\n",
    "\n",
    "\n",
    "\n",
    "'''"
   ]
  }
 ],
 "metadata": {
  "kernelspec": {
   "display_name": "Python 3",
   "language": "python",
   "name": "python3"
  },
  "language_info": {
   "codemirror_mode": {
    "name": "ipython",
    "version": 3
   },
   "file_extension": ".py",
   "mimetype": "text/x-python",
   "name": "python",
   "nbconvert_exporter": "python",
   "pygments_lexer": "ipython3",
   "version": "3.6.0"
  }
 },
 "nbformat": 4,
 "nbformat_minor": 2
}
