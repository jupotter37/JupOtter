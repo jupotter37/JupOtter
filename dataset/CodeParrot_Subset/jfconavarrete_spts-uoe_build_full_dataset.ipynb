{
 "cells": [
  {
   "cell_type": "markdown",
   "metadata": {},
   "source": [
    "# Merge Datasets"
   ]
  },
  {
   "cell_type": "markdown",
   "metadata": {},
   "source": [
    "## Set Up"
   ]
  },
  {
   "cell_type": "code",
   "execution_count": 1,
   "metadata": {
    "collapsed": true
   },
   "outputs": [],
   "source": [
    "%matplotlib inline\n",
    "\n",
    "import logging\n",
    "import pickle\n",
    "import pandas as pd\n",
    "import numpy as np\n",
    "import math\n",
    "\n",
    "logger = logging.getLogger()\n",
    "logger.setLevel(logging.INFO)"
   ]
  },
  {
   "cell_type": "code",
   "execution_count": 2,
   "metadata": {
    "collapsed": false
   },
   "outputs": [],
   "source": [
    "stations = pickle.load(open('data/parsed/stations_dataset_final.p', 'rb'))\n",
    "readings = pickle.load(open('data/parsed/readings_dataset_utc.p', 'rb'))\n",
    "weather = pickle.load(open('data/parsed/weather_dataset_utc.p', 'rb'))\n",
    "readings_dataset = pickle.load(open('data/parsed/readings_dataset_final.p', 'rb'))"
   ]
  },
  {
   "cell_type": "code",
   "execution_count": 3,
   "metadata": {
    "collapsed": false,
    "scrolled": true
   },
   "outputs": [
    {
     "name": "stdout",
     "output_type": "stream",
     "text": [
      "(1483149, 6)\n",
      "(779, 13)\n",
      "(3008, 16)\n"
     ]
    }
   ],
   "source": [
    "print readings.shape\n",
    "print stations.shape\n",
    "print weather.shape"
   ]
  },
  {
   "cell_type": "markdown",
   "metadata": {},
   "source": [
    "## Fill Gaps"
   ]
  },
  {
   "cell_type": "code",
   "execution_count": 4,
   "metadata": {
    "collapsed": true
   },
   "outputs": [],
   "source": [
    "fill_gaps = True"
   ]
  },
  {
   "cell_type": "code",
   "execution_count": 48,
   "metadata": {
    "collapsed": false
   },
   "outputs": [],
   "source": [
    "def find_next(df, start_loc):\n",
    "    if start_loc + 1 == len(df):\n",
    "        return None\n",
    "    else:    \n",
    "        return df.loc[start_loc + 1]\n",
    "\n",
    "def get_fillings(df):\n",
    "    fillings=[]\n",
    "    for idx, start in df.iterrows():\n",
    "        end = find_next(df, idx)\n",
    "        if end is None:\n",
    "            break\n",
    "            \n",
    "        big_gap = (end.Timestamp - start.Timestamp).seconds > (60 * 5)\n",
    "        if big_gap:\n",
    "            gap_fillings = pd.date_range(start=start.Timestamp, end=end.Timestamp, freq='5min', tz='UTC')[1:]\n",
    "            if (end.Timestamp - gap_fillings[-1]).seconds < (60 * 2 + 30):\n",
    "                gap_fillings = gap_fillings[:-1]\n",
    "                \n",
    "            for timestamp in gap_fillings:                \n",
    "                fillings.append({'Id': start.Id, 'Timestamp': timestamp, 'Source': 'ARTIFICIAL'})\n",
    "                \n",
    "    return fillings"
   ]
  },
  {
   "cell_type": "code",
   "execution_count": 6,
   "metadata": {
    "collapsed": false
   },
   "outputs": [],
   "source": [
    "if fill_gaps:\n",
    "    # prepare to find gaps\n",
    "    readings['Source'] = 'REAL'\n",
    "    readings.sort_values(by=['Timestamp'], inplace=True)\n",
    "    \n",
    "    stations_ids = stations.Id.unique()\n",
    "    \n",
    "    # find the gaps for each station\n",
    "    fillings = []\n",
    "    for station_id in stations_ids:\n",
    "        station_df = readings[readings.Id == station_id].reset_index(drop=True)\n",
    "        station_fillings = get_fillings(station_df)\n",
    "        fillings.append(station_fillings)\n",
    "        \n",
    "    # add the gaps to the original dataset\n",
    "    readings = pd.concat([readings, pd.DataFrame(sum(fillings, []))])\n",
    "    \n",
    "    # fill the missing values using a fill forward strategy\n",
    "    readings.sort_values(by=['Id', 'Timestamp'], inplace=True)\n",
    "    readings.fillna(method='ffill', inplace=True)\n",
    "    readings.reset_index(drop=True, inplace=True)"
   ]
  },
  {
   "cell_type": "markdown",
   "metadata": {},
   "source": [
    "## Merge Readings and Weather"
   ]
  },
  {
   "cell_type": "markdown",
   "metadata": {},
   "source": [
    "Use binary search to look for the closest date to the given reading."
   ]
  },
  {
   "cell_type": "code",
   "execution_count": 9,
   "metadata": {
    "collapsed": false
   },
   "outputs": [],
   "source": [
    "def binarySearch(data, val):\n",
    "    \"\"\"Find the closest val in data\"\"\"\n",
    "    \n",
    "    lo, hi = 0, len(data) - 1\n",
    "    best_ind = lo\n",
    "    while lo <= hi:\n",
    "        mid = lo + (hi - lo) / 2\n",
    "        if data.iat[mid] < val:\n",
    "            lo = mid + 1\n",
    "        elif data.iat[mid] > val:\n",
    "            hi = mid - 1\n",
    "        else:\n",
    "            best_ind = mid\n",
    "            break\n",
    "        # check if data[mid] is closer to val than data[best_ind] \n",
    "        if abs(data.iat[mid] - val) < abs(data.iat[best_ind] - val):\n",
    "            best_ind = mid\n",
    "    return best_ind"
   ]
  },
  {
   "cell_type": "code",
   "execution_count": 30,
   "metadata": {
    "collapsed": false
   },
   "outputs": [
    {
     "data": {
      "text/html": [
       "<div>\n",
       "<table border=\"1\" class=\"dataframe\">\n",
       "  <thead>\n",
       "    <tr style=\"text-align: right;\">\n",
       "      <th></th>\n",
       "      <th>Id</th>\n",
       "      <th>NbBikes</th>\n",
       "      <th>NbDocks</th>\n",
       "      <th>NbEmptyDocks</th>\n",
       "      <th>NbUnusableDocks</th>\n",
       "      <th>Source</th>\n",
       "      <th>Timestamp</th>\n",
       "    </tr>\n",
       "  </thead>\n",
       "  <tbody>\n",
       "    <tr>\n",
       "      <th>0</th>\n",
       "      <td>BikePoints_1</td>\n",
       "      <td>12.0</td>\n",
       "      <td>19.0</td>\n",
       "      <td>6.0</td>\n",
       "      <td>1.0</td>\n",
       "      <td>REAL</td>\n",
       "      <td>2016-05-16 05:41:16.870000128+00:00</td>\n",
       "    </tr>\n",
       "    <tr>\n",
       "      <th>1</th>\n",
       "      <td>BikePoints_1</td>\n",
       "      <td>12.0</td>\n",
       "      <td>19.0</td>\n",
       "      <td>6.0</td>\n",
       "      <td>1.0</td>\n",
       "      <td>ARTIFICIAL</td>\n",
       "      <td>2016-05-16 05:46:16.870000128+00:00</td>\n",
       "    </tr>\n",
       "    <tr>\n",
       "      <th>2</th>\n",
       "      <td>BikePoints_1</td>\n",
       "      <td>12.0</td>\n",
       "      <td>19.0</td>\n",
       "      <td>6.0</td>\n",
       "      <td>1.0</td>\n",
       "      <td>ARTIFICIAL</td>\n",
       "      <td>2016-05-16 05:51:16.870000128+00:00</td>\n",
       "    </tr>\n",
       "    <tr>\n",
       "      <th>3</th>\n",
       "      <td>BikePoints_1</td>\n",
       "      <td>12.0</td>\n",
       "      <td>19.0</td>\n",
       "      <td>6.0</td>\n",
       "      <td>1.0</td>\n",
       "      <td>ARTIFICIAL</td>\n",
       "      <td>2016-05-16 05:56:16.870000128+00:00</td>\n",
       "    </tr>\n",
       "    <tr>\n",
       "      <th>4</th>\n",
       "      <td>BikePoints_1</td>\n",
       "      <td>12.0</td>\n",
       "      <td>19.0</td>\n",
       "      <td>6.0</td>\n",
       "      <td>1.0</td>\n",
       "      <td>ARTIFICIAL</td>\n",
       "      <td>2016-05-16 06:01:16.870000128+00:00</td>\n",
       "    </tr>\n",
       "  </tbody>\n",
       "</table>\n",
       "</div>"
      ],
      "text/plain": [
       "             Id  NbBikes  NbDocks  NbEmptyDocks  NbUnusableDocks      Source  \\\n",
       "0  BikePoints_1     12.0     19.0           6.0              1.0        REAL   \n",
       "1  BikePoints_1     12.0     19.0           6.0              1.0  ARTIFICIAL   \n",
       "2  BikePoints_1     12.0     19.0           6.0              1.0  ARTIFICIAL   \n",
       "3  BikePoints_1     12.0     19.0           6.0              1.0  ARTIFICIAL   \n",
       "4  BikePoints_1     12.0     19.0           6.0              1.0  ARTIFICIAL   \n",
       "\n",
       "                            Timestamp  \n",
       "0 2016-05-16 05:41:16.870000128+00:00  \n",
       "1 2016-05-16 05:46:16.870000128+00:00  \n",
       "2 2016-05-16 05:51:16.870000128+00:00  \n",
       "3 2016-05-16 05:56:16.870000128+00:00  \n",
       "4 2016-05-16 06:01:16.870000128+00:00  "
      ]
     },
     "execution_count": 30,
     "metadata": {},
     "output_type": "execute_result"
    }
   ],
   "source": [
    "readings.head()"
   ]
  },
  {
   "cell_type": "code",
   "execution_count": 44,
   "metadata": {
    "collapsed": false
   },
   "outputs": [
    {
     "data": {
      "text/html": [
       "<div>\n",
       "<table border=\"1\" class=\"dataframe\">\n",
       "  <thead>\n",
       "    <tr style=\"text-align: right;\">\n",
       "      <th></th>\n",
       "      <th>Condition</th>\n",
       "      <th>DewPt</th>\n",
       "      <th>Fog</th>\n",
       "      <th>Hail</th>\n",
       "      <th>Humidity</th>\n",
       "      <th>Pressure</th>\n",
       "      <th>Rain</th>\n",
       "      <th>Snow</th>\n",
       "      <th>Temp</th>\n",
       "      <th>Thunder</th>\n",
       "      <th>Timestamp</th>\n",
       "      <th>Tornado</th>\n",
       "      <th>Visibility</th>\n",
       "      <th>WindDirD</th>\n",
       "      <th>WindDirE</th>\n",
       "      <th>WindSpeed</th>\n",
       "    </tr>\n",
       "  </thead>\n",
       "  <tbody>\n",
       "    <tr>\n",
       "      <th>15</th>\n",
       "      <td>NaN</td>\n",
       "      <td>8.0</td>\n",
       "      <td>True</td>\n",
       "      <td>True</td>\n",
       "      <td>92.0</td>\n",
       "      <td>1021.0</td>\n",
       "      <td>True</td>\n",
       "      <td>True</td>\n",
       "      <td>9.0</td>\n",
       "      <td>True</td>\n",
       "      <td>2016-05-16 04:00:00+00:00</td>\n",
       "      <td>True</td>\n",
       "      <td>10.0</td>\n",
       "      <td>30.0</td>\n",
       "      <td>NNE</td>\n",
       "      <td>3.7</td>\n",
       "    </tr>\n",
       "    <tr>\n",
       "      <th>16</th>\n",
       "      <td>Unknown</td>\n",
       "      <td>7.0</td>\n",
       "      <td>True</td>\n",
       "      <td>True</td>\n",
       "      <td>93.0</td>\n",
       "      <td>1021.0</td>\n",
       "      <td>True</td>\n",
       "      <td>True</td>\n",
       "      <td>8.0</td>\n",
       "      <td>True</td>\n",
       "      <td>2016-05-16 04:20:00+00:00</td>\n",
       "      <td>True</td>\n",
       "      <td>10.0</td>\n",
       "      <td>350.0</td>\n",
       "      <td>North</td>\n",
       "      <td>7.4</td>\n",
       "    </tr>\n",
       "    <tr>\n",
       "      <th>17</th>\n",
       "      <td>Unknown</td>\n",
       "      <td>7.0</td>\n",
       "      <td>True</td>\n",
       "      <td>True</td>\n",
       "      <td>93.0</td>\n",
       "      <td>1021.0</td>\n",
       "      <td>True</td>\n",
       "      <td>True</td>\n",
       "      <td>8.0</td>\n",
       "      <td>True</td>\n",
       "      <td>2016-05-16 04:50:00+00:00</td>\n",
       "      <td>True</td>\n",
       "      <td>9.0</td>\n",
       "      <td>360.0</td>\n",
       "      <td>North</td>\n",
       "      <td>7.4</td>\n",
       "    </tr>\n",
       "    <tr>\n",
       "      <th>18</th>\n",
       "      <td>NaN</td>\n",
       "      <td>7.0</td>\n",
       "      <td>True</td>\n",
       "      <td>True</td>\n",
       "      <td>92.0</td>\n",
       "      <td>1021.0</td>\n",
       "      <td>True</td>\n",
       "      <td>True</td>\n",
       "      <td>9.0</td>\n",
       "      <td>True</td>\n",
       "      <td>2016-05-16 05:00:00+00:00</td>\n",
       "      <td>True</td>\n",
       "      <td>11.0</td>\n",
       "      <td>10.0</td>\n",
       "      <td>North</td>\n",
       "      <td>9.3</td>\n",
       "    </tr>\n",
       "    <tr>\n",
       "      <th>19</th>\n",
       "      <td>Partly Cloudy</td>\n",
       "      <td>7.0</td>\n",
       "      <td>True</td>\n",
       "      <td>True</td>\n",
       "      <td>93.0</td>\n",
       "      <td>1021.0</td>\n",
       "      <td>True</td>\n",
       "      <td>True</td>\n",
       "      <td>8.0</td>\n",
       "      <td>True</td>\n",
       "      <td>2016-05-16 05:20:00+00:00</td>\n",
       "      <td>True</td>\n",
       "      <td>10.0</td>\n",
       "      <td>360.0</td>\n",
       "      <td>North</td>\n",
       "      <td>7.4</td>\n",
       "    </tr>\n",
       "    <tr>\n",
       "      <th>20</th>\n",
       "      <td>Unknown</td>\n",
       "      <td>7.0</td>\n",
       "      <td>True</td>\n",
       "      <td>True</td>\n",
       "      <td>87.0</td>\n",
       "      <td>1021.0</td>\n",
       "      <td>True</td>\n",
       "      <td>True</td>\n",
       "      <td>9.0</td>\n",
       "      <td>True</td>\n",
       "      <td>2016-05-16 05:50:00+00:00</td>\n",
       "      <td>True</td>\n",
       "      <td>10.0</td>\n",
       "      <td>350.0</td>\n",
       "      <td>North</td>\n",
       "      <td>9.3</td>\n",
       "    </tr>\n",
       "    <tr>\n",
       "      <th>21</th>\n",
       "      <td>NaN</td>\n",
       "      <td>8.0</td>\n",
       "      <td>True</td>\n",
       "      <td>True</td>\n",
       "      <td>83.0</td>\n",
       "      <td>1022.0</td>\n",
       "      <td>True</td>\n",
       "      <td>True</td>\n",
       "      <td>10.0</td>\n",
       "      <td>True</td>\n",
       "      <td>2016-05-16 06:00:00+00:00</td>\n",
       "      <td>True</td>\n",
       "      <td>11.0</td>\n",
       "      <td>10.0</td>\n",
       "      <td>North</td>\n",
       "      <td>9.3</td>\n",
       "    </tr>\n",
       "    <tr>\n",
       "      <th>22</th>\n",
       "      <td>Partly Cloudy</td>\n",
       "      <td>7.0</td>\n",
       "      <td>True</td>\n",
       "      <td>True</td>\n",
       "      <td>82.0</td>\n",
       "      <td>1021.0</td>\n",
       "      <td>True</td>\n",
       "      <td>True</td>\n",
       "      <td>10.0</td>\n",
       "      <td>True</td>\n",
       "      <td>2016-05-16 06:20:00+00:00</td>\n",
       "      <td>True</td>\n",
       "      <td>10.0</td>\n",
       "      <td>360.0</td>\n",
       "      <td>North</td>\n",
       "      <td>13.0</td>\n",
       "    </tr>\n",
       "    <tr>\n",
       "      <th>23</th>\n",
       "      <td>Partly Cloudy</td>\n",
       "      <td>7.0</td>\n",
       "      <td>True</td>\n",
       "      <td>True</td>\n",
       "      <td>82.0</td>\n",
       "      <td>1021.0</td>\n",
       "      <td>True</td>\n",
       "      <td>True</td>\n",
       "      <td>10.0</td>\n",
       "      <td>True</td>\n",
       "      <td>2016-05-16 06:50:00+00:00</td>\n",
       "      <td>True</td>\n",
       "      <td>10.0</td>\n",
       "      <td>20.0</td>\n",
       "      <td>NNE</td>\n",
       "      <td>11.1</td>\n",
       "    </tr>\n",
       "    <tr>\n",
       "      <th>24</th>\n",
       "      <td>Scattered Clouds</td>\n",
       "      <td>8.0</td>\n",
       "      <td>True</td>\n",
       "      <td>True</td>\n",
       "      <td>77.0</td>\n",
       "      <td>1022.0</td>\n",
       "      <td>True</td>\n",
       "      <td>True</td>\n",
       "      <td>11.0</td>\n",
       "      <td>True</td>\n",
       "      <td>2016-05-16 07:00:00+00:00</td>\n",
       "      <td>True</td>\n",
       "      <td>13.0</td>\n",
       "      <td>20.0</td>\n",
       "      <td>NNE</td>\n",
       "      <td>9.3</td>\n",
       "    </tr>\n",
       "  </tbody>\n",
       "</table>\n",
       "</div>"
      ],
      "text/plain": [
       "           Condition  DewPt   Fog  Hail  Humidity  Pressure  Rain  Snow  Temp  \\\n",
       "15               NaN    8.0  True  True      92.0    1021.0  True  True   9.0   \n",
       "16           Unknown    7.0  True  True      93.0    1021.0  True  True   8.0   \n",
       "17           Unknown    7.0  True  True      93.0    1021.0  True  True   8.0   \n",
       "18               NaN    7.0  True  True      92.0    1021.0  True  True   9.0   \n",
       "19     Partly Cloudy    7.0  True  True      93.0    1021.0  True  True   8.0   \n",
       "20           Unknown    7.0  True  True      87.0    1021.0  True  True   9.0   \n",
       "21               NaN    8.0  True  True      83.0    1022.0  True  True  10.0   \n",
       "22     Partly Cloudy    7.0  True  True      82.0    1021.0  True  True  10.0   \n",
       "23     Partly Cloudy    7.0  True  True      82.0    1021.0  True  True  10.0   \n",
       "24  Scattered Clouds    8.0  True  True      77.0    1022.0  True  True  11.0   \n",
       "\n",
       "   Thunder                 Timestamp Tornado  Visibility  WindDirD WindDirE  \\\n",
       "15    True 2016-05-16 04:00:00+00:00    True        10.0      30.0      NNE   \n",
       "16    True 2016-05-16 04:20:00+00:00    True        10.0     350.0    North   \n",
       "17    True 2016-05-16 04:50:00+00:00    True         9.0     360.0    North   \n",
       "18    True 2016-05-16 05:00:00+00:00    True        11.0      10.0    North   \n",
       "19    True 2016-05-16 05:20:00+00:00    True        10.0     360.0    North   \n",
       "20    True 2016-05-16 05:50:00+00:00    True        10.0     350.0    North   \n",
       "21    True 2016-05-16 06:00:00+00:00    True        11.0      10.0    North   \n",
       "22    True 2016-05-16 06:20:00+00:00    True        10.0     360.0    North   \n",
       "23    True 2016-05-16 06:50:00+00:00    True        10.0      20.0      NNE   \n",
       "24    True 2016-05-16 07:00:00+00:00    True        13.0      20.0      NNE   \n",
       "\n",
       "    WindSpeed  \n",
       "15        3.7  \n",
       "16        7.4  \n",
       "17        7.4  \n",
       "18        9.3  \n",
       "19        7.4  \n",
       "20        9.3  \n",
       "21        9.3  \n",
       "22       13.0  \n",
       "23       11.1  \n",
       "24        9.3  "
      ]
     },
     "execution_count": 44,
     "metadata": {},
     "output_type": "execute_result"
    }
   ],
   "source": [
    "weather[15:25]"
   ]
  },
  {
   "cell_type": "code",
   "execution_count": 57,
   "metadata": {
    "collapsed": false
   },
   "outputs": [
    {
     "data": {
      "text/html": [
       "<div>\n",
       "<table border=\"1\" class=\"dataframe\">\n",
       "  <thead>\n",
       "    <tr style=\"text-align: right;\">\n",
       "      <th></th>\n",
       "      <th>Id</th>\n",
       "      <th>NbBikes</th>\n",
       "      <th>NbDocks</th>\n",
       "      <th>NbEmptyDocks</th>\n",
       "      <th>NbUnusableDocks</th>\n",
       "      <th>Source</th>\n",
       "      <th>Timestamp</th>\n",
       "      <th>WeatherIdx</th>\n",
       "    </tr>\n",
       "  </thead>\n",
       "  <tbody>\n",
       "    <tr>\n",
       "      <th>0</th>\n",
       "      <td>BikePoints_1</td>\n",
       "      <td>12.0</td>\n",
       "      <td>19.0</td>\n",
       "      <td>6.0</td>\n",
       "      <td>1.0</td>\n",
       "      <td>REAL</td>\n",
       "      <td>2016-05-16 05:41:16.870000128+00:00</td>\n",
       "      <td>20</td>\n",
       "    </tr>\n",
       "    <tr>\n",
       "      <th>1</th>\n",
       "      <td>BikePoints_1</td>\n",
       "      <td>12.0</td>\n",
       "      <td>19.0</td>\n",
       "      <td>6.0</td>\n",
       "      <td>1.0</td>\n",
       "      <td>ARTIFICIAL</td>\n",
       "      <td>2016-05-16 05:46:16.870000128+00:00</td>\n",
       "      <td>20</td>\n",
       "    </tr>\n",
       "    <tr>\n",
       "      <th>2</th>\n",
       "      <td>BikePoints_1</td>\n",
       "      <td>12.0</td>\n",
       "      <td>19.0</td>\n",
       "      <td>6.0</td>\n",
       "      <td>1.0</td>\n",
       "      <td>ARTIFICIAL</td>\n",
       "      <td>2016-05-16 05:51:16.870000128+00:00</td>\n",
       "      <td>20</td>\n",
       "    </tr>\n",
       "    <tr>\n",
       "      <th>3</th>\n",
       "      <td>BikePoints_1</td>\n",
       "      <td>12.0</td>\n",
       "      <td>19.0</td>\n",
       "      <td>6.0</td>\n",
       "      <td>1.0</td>\n",
       "      <td>ARTIFICIAL</td>\n",
       "      <td>2016-05-16 05:56:16.870000128+00:00</td>\n",
       "      <td>21</td>\n",
       "    </tr>\n",
       "    <tr>\n",
       "      <th>4</th>\n",
       "      <td>BikePoints_1</td>\n",
       "      <td>12.0</td>\n",
       "      <td>19.0</td>\n",
       "      <td>6.0</td>\n",
       "      <td>1.0</td>\n",
       "      <td>ARTIFICIAL</td>\n",
       "      <td>2016-05-16 06:01:16.870000128+00:00</td>\n",
       "      <td>21</td>\n",
       "    </tr>\n",
       "  </tbody>\n",
       "</table>\n",
       "</div>"
      ],
      "text/plain": [
       "             Id  NbBikes  NbDocks  NbEmptyDocks  NbUnusableDocks      Source  \\\n",
       "0  BikePoints_1     12.0     19.0           6.0              1.0        REAL   \n",
       "1  BikePoints_1     12.0     19.0           6.0              1.0  ARTIFICIAL   \n",
       "2  BikePoints_1     12.0     19.0           6.0              1.0  ARTIFICIAL   \n",
       "3  BikePoints_1     12.0     19.0           6.0              1.0  ARTIFICIAL   \n",
       "4  BikePoints_1     12.0     19.0           6.0              1.0  ARTIFICIAL   \n",
       "\n",
       "                            Timestamp  WeatherIdx  \n",
       "0 2016-05-16 05:41:16.870000128+00:00          20  \n",
       "1 2016-05-16 05:46:16.870000128+00:00          20  \n",
       "2 2016-05-16 05:51:16.870000128+00:00          20  \n",
       "3 2016-05-16 05:56:16.870000128+00:00          21  \n",
       "4 2016-05-16 06:01:16.870000128+00:00          21  "
      ]
     },
     "execution_count": 57,
     "metadata": {},
     "output_type": "execute_result"
    }
   ],
   "source": [
    "readings.head()"
   ]
  },
  {
   "cell_type": "code",
   "execution_count": 45,
   "metadata": {
    "collapsed": false
   },
   "outputs": [
    {
     "data": {
      "text/plain": [
       "0    20\n",
       "1    20\n",
       "2    20\n",
       "3    21\n",
       "4    21\n",
       "Name: Timestamp, dtype: int64"
      ]
     },
     "execution_count": 45,
     "metadata": {},
     "output_type": "execute_result"
    }
   ],
   "source": [
    "readings['Timestamp'][0:5].apply(lambda val: weather['Timestamp'].index[binarySearch(weather['Timestamp'], val.tz_localize('UTC'))])"
   ]
  },
  {
   "cell_type": "code",
   "execution_count": 46,
   "metadata": {
    "collapsed": false
   },
   "outputs": [],
   "source": [
    "readings['WeatherIdx'] = readings['Timestamp'].apply(lambda val: weather['Timestamp'].index[binarySearch(weather['Timestamp'], val.tz_localize('UTC'))])"
   ]
  },
  {
   "cell_type": "code",
   "execution_count": 49,
   "metadata": {
    "collapsed": false
   },
   "outputs": [],
   "source": [
    "readings_weather = pd.merge(readings, weather, right_index=True, left_on='WeatherIdx')\n",
    "readings_weather['DifferenceS'] = (readings_weather['Timestamp_x'] - readings_weather['Timestamp_y']) / pd.np.timedelta64(1, 's')\n",
    "readings_weather['DifferenceS'] = readings_weather['DifferenceS'].apply(math.fabs)"
   ]
  },
  {
   "cell_type": "code",
   "execution_count": 50,
   "metadata": {
    "collapsed": true
   },
   "outputs": [],
   "source": [
    "readings_weather_view = readings_weather[['Timestamp_x', 'Timestamp_y', 'DifferenceS']]"
   ]
  },
  {
   "cell_type": "code",
   "execution_count": 51,
   "metadata": {
    "collapsed": false,
    "scrolled": true
   },
   "outputs": [
    {
     "data": {
      "text/html": [
       "<div>\n",
       "<table border=\"1\" class=\"dataframe\">\n",
       "  <thead>\n",
       "    <tr style=\"text-align: right;\">\n",
       "      <th></th>\n",
       "      <th>Timestamp_x</th>\n",
       "      <th>Timestamp_y</th>\n",
       "      <th>DifferenceS</th>\n",
       "    </tr>\n",
       "  </thead>\n",
       "  <tbody>\n",
       "    <tr>\n",
       "      <th>7076497</th>\n",
       "      <td>2016-06-26 23:56:49.023000064+00:00</td>\n",
       "      <td>2016-06-26 22:50:00+00:00</td>\n",
       "      <td>4009.023</td>\n",
       "    </tr>\n",
       "    <tr>\n",
       "      <th>4700828</th>\n",
       "      <td>2016-06-26 23:56:49.023000064+00:00</td>\n",
       "      <td>2016-06-26 22:50:00+00:00</td>\n",
       "      <td>4009.023</td>\n",
       "    </tr>\n",
       "    <tr>\n",
       "      <th>5160747</th>\n",
       "      <td>2016-06-26 23:56:49.023000064+00:00</td>\n",
       "      <td>2016-06-26 22:50:00+00:00</td>\n",
       "      <td>4009.023</td>\n",
       "    </tr>\n",
       "    <tr>\n",
       "      <th>3048556</th>\n",
       "      <td>2016-06-26 23:56:49.023000064+00:00</td>\n",
       "      <td>2016-06-26 22:50:00+00:00</td>\n",
       "      <td>4009.023</td>\n",
       "    </tr>\n",
       "    <tr>\n",
       "      <th>1016565</th>\n",
       "      <td>2016-06-26 23:56:49.023000064+00:00</td>\n",
       "      <td>2016-06-26 22:50:00+00:00</td>\n",
       "      <td>4009.023</td>\n",
       "    </tr>\n",
       "  </tbody>\n",
       "</table>\n",
       "</div>"
      ],
      "text/plain": [
       "                                Timestamp_x               Timestamp_y  \\\n",
       "7076497 2016-06-26 23:56:49.023000064+00:00 2016-06-26 22:50:00+00:00   \n",
       "4700828 2016-06-26 23:56:49.023000064+00:00 2016-06-26 22:50:00+00:00   \n",
       "5160747 2016-06-26 23:56:49.023000064+00:00 2016-06-26 22:50:00+00:00   \n",
       "3048556 2016-06-26 23:56:49.023000064+00:00 2016-06-26 22:50:00+00:00   \n",
       "1016565 2016-06-26 23:56:49.023000064+00:00 2016-06-26 22:50:00+00:00   \n",
       "\n",
       "         DifferenceS  \n",
       "7076497     4009.023  \n",
       "4700828     4009.023  \n",
       "5160747     4009.023  \n",
       "3048556     4009.023  \n",
       "1016565     4009.023  "
      ]
     },
     "execution_count": 51,
     "metadata": {},
     "output_type": "execute_result"
    }
   ],
   "source": [
    "readings_weather_view.sort_values(by=['DifferenceS'], ascending=False).head()"
   ]
  },
  {
   "cell_type": "code",
   "execution_count": 52,
   "metadata": {
    "collapsed": false
   },
   "outputs": [
    {
     "data": {
      "text/html": [
       "<div>\n",
       "<table border=\"1\" class=\"dataframe\">\n",
       "  <thead>\n",
       "    <tr style=\"text-align: right;\">\n",
       "      <th></th>\n",
       "      <th>DifferenceS</th>\n",
       "    </tr>\n",
       "  </thead>\n",
       "  <tbody>\n",
       "    <tr>\n",
       "      <th>count</th>\n",
       "      <td>9.221613e+06</td>\n",
       "    </tr>\n",
       "    <tr>\n",
       "      <th>mean</th>\n",
       "      <td>3.518722e+02</td>\n",
       "    </tr>\n",
       "    <tr>\n",
       "      <th>std</th>\n",
       "      <td>2.386331e+02</td>\n",
       "    </tr>\n",
       "    <tr>\n",
       "      <th>min</th>\n",
       "      <td>9.999872e-03</td>\n",
       "    </tr>\n",
       "    <tr>\n",
       "      <th>25%</th>\n",
       "      <td>1.507070e+02</td>\n",
       "    </tr>\n",
       "    <tr>\n",
       "      <th>50%</th>\n",
       "      <td>3.048800e+02</td>\n",
       "    </tr>\n",
       "    <tr>\n",
       "      <th>75%</th>\n",
       "      <td>5.156200e+02</td>\n",
       "    </tr>\n",
       "    <tr>\n",
       "      <th>max</th>\n",
       "      <td>4.009023e+03</td>\n",
       "    </tr>\n",
       "  </tbody>\n",
       "</table>\n",
       "</div>"
      ],
      "text/plain": [
       "        DifferenceS\n",
       "count  9.221613e+06\n",
       "mean   3.518722e+02\n",
       "std    2.386331e+02\n",
       "min    9.999872e-03\n",
       "25%    1.507070e+02\n",
       "50%    3.048800e+02\n",
       "75%    5.156200e+02\n",
       "max    4.009023e+03"
      ]
     },
     "execution_count": 52,
     "metadata": {},
     "output_type": "execute_result"
    }
   ],
   "source": [
    "readings_weather_view.describe()"
   ]
  },
  {
   "cell_type": "code",
   "execution_count": 53,
   "metadata": {
    "collapsed": false
   },
   "outputs": [],
   "source": [
    "readings_weather.rename(columns={'Timestamp_x': 'Timestamp'}, inplace=True)\n",
    "readings_weather.drop(['Timestamp_y', 'WeatherIdx', 'DifferenceS'], axis=1, inplace=True)"
   ]
  },
  {
   "cell_type": "code",
   "execution_count": 54,
   "metadata": {
    "collapsed": false
   },
   "outputs": [
    {
     "name": "stdout",
     "output_type": "stream",
     "text": [
      "<class 'pandas.core.frame.DataFrame'>\n",
      "Int64Index: 9221613 entries, 0 to 8696776\n",
      "Data columns (total 22 columns):\n",
      "Id                 object\n",
      "NbBikes            float64\n",
      "NbDocks            float64\n",
      "NbEmptyDocks       float64\n",
      "NbUnusableDocks    float64\n",
      "Source             object\n",
      "Timestamp          datetime64[ns, UTC]\n",
      "Condition          object\n",
      "DewPt              float32\n",
      "Fog                bool\n",
      "Hail               bool\n",
      "Humidity           float32\n",
      "Pressure           float32\n",
      "Rain               bool\n",
      "Snow               bool\n",
      "Temp               float32\n",
      "Thunder            bool\n",
      "Tornado            bool\n",
      "Visibility         float32\n",
      "WindDirD           float32\n",
      "WindDirE           object\n",
      "WindSpeed          float32\n",
      "dtypes: bool(6), datetime64[ns, UTC](1), float32(7), float64(4), object(4)\n",
      "memory usage: 1002.6+ MB\n"
     ]
    }
   ],
   "source": [
    "readings_weather.info()"
   ]
  },
  {
   "cell_type": "code",
   "execution_count": 56,
   "metadata": {
    "collapsed": true
   },
   "outputs": [],
   "source": [
    "pickle.dump(readings_weather, open(\"data/parsed/readings_weather_filled_dataset.p\", \"wb\"))"
   ]
  }
 ],
 "metadata": {
  "kernelspec": {
   "display_name": "Python 2",
   "language": "python",
   "name": "python2"
  },
  "language_info": {
   "codemirror_mode": {
    "name": "ipython",
    "version": 2
   },
   "file_extension": ".py",
   "mimetype": "text/x-python",
   "name": "python",
   "nbconvert_exporter": "python",
   "pygments_lexer": "ipython2",
   "version": "2.7.11"
  }
 },
 "nbformat": 4,
 "nbformat_minor": 0
}
