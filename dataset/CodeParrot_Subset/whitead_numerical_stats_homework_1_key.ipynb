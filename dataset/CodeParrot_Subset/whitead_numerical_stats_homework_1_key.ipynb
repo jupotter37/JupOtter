{
 "cells": [
  {
   "cell_type": "markdown",
   "metadata": {},
   "source": [
    "Homework 1\n",
    "====\n",
    "#### CHE 116: Numerical Methods and Statistics\n",
    "\n",
    "Version 1.0 (1/18/2018)\n",
    "\n",
    "----"
   ]
  },
  {
   "cell_type": "markdown",
   "metadata": {},
   "source": [
    "1. Probability (4 Points)\n",
    "====\n",
    "\n",
    "The probability of an event or element in a sample space is written as $P(A)$, where $A$ is the event or element in the sample space. **Answer the following problems symbolically and simplified.** Each problem is worth 1 point.\n",
    "\n",
    "1. [2 points] Our sample space contains three elements: $Q = \\{A, B, C\\}$. What is the probability of observing $P(A \\,\\textrm{OR} \\,\\textrm{B}\\, \\textrm{OR}\\, C)$\n",
    "\n",
    "2. [1 points] If we observe two sequential independent samples with the same sample space as above, what is the probability of observing $A$ and then $B$?\n",
    "\n",
    "3. [2 points] You have a sample space with the numbers 1-10, where each element in the sample space has the same probability. If event $E$ is elements $\\{2, 5, 7\\}$, then what is the probability of the event $E$, $P(E)$?\n",
    "\n",
    "4. [2 points] What is the probability of not event $E$ from the previous question?\n",
    "\n",
    "5. [4 points] State the number of observations/samples for the probabilities specified in questions 1.1-1.4. "
   ]
  },
  {
   "cell_type": "markdown",
   "metadata": {
    "collapsed": true
   },
   "source": [
    "### 1.1\n",
    "\n",
    "$$\n",
    "P(A \\,\\textrm{OR} \\,\\textrm{B}\\, \\textrm{OR}\\, C) = P(A) + P(B) + P(C) = 1\n",
    "$$"
   ]
  },
  {
   "cell_type": "markdown",
   "metadata": {},
   "source": [
    "### 1.2\n",
    "$$\n",
    "P(A) \\times P(B)\n",
    "$$"
   ]
  },
  {
   "cell_type": "markdown",
   "metadata": {},
   "source": [
    "### 1.3\n",
    "$$\n",
    "P(E) = P(2) + P(5) + P(7) = \\frac{1}{10} + \\frac{1}{10} + \\frac{1}{10} = \\frac{3}{10}\n",
    "$$"
   ]
  },
  {
   "cell_type": "markdown",
   "metadata": {},
   "source": [
    "### 1.4\n",
    "\n",
    "$$\n",
    "P(~E) = 1 - P(E) = \\frac{7}{10}\n",
    "$$"
   ]
  },
  {
   "cell_type": "markdown",
   "metadata": {},
   "source": [
    "### 1.5\n",
    "\n",
    "1. 1\n",
    "2. 2\n",
    "3. 1\n",
    "4. 1"
   ]
  },
  {
   "cell_type": "markdown",
   "metadata": {},
   "source": [
    "2. Die Probability\n",
    "====\n",
    " \n",
    " You are rolling a die with 6 sides. Event $A$ is that you roll a number less than 5. Event $B$ is that you roll a $6$. Event $C$ rolling a number less than 2. **Answer these problems using python code**. Each problem is worth 1 point.\n",
    " \n",
    "1. [1 point] What is the probability of event $A$?\n",
    "2. [1 point] If you roll once, what is the probability of rolling event $A$ or $C$?\n",
    "3. [1 point] If you roll event $A$, on your next roll what is the probability of event $B$?\n",
    "4. [2 points] What is the probability of rolling event $A$ and event $B$ in the course of two rolls?\n",
    "5. [2 points] What is the probability of rolling event $A$ followed by event $B$?\n",
    "6. [4 points] Why are your answers different for questions 2.4 and 2.5? Answer this in words using Markdown."
   ]
  },
  {
   "cell_type": "markdown",
   "metadata": {},
   "source": [
    "### 2.1\n",
    "\n",
    "*The markdown answers are only for clarity and not required for credit*\n",
    "\n",
    "$$\n",
    "A = \\{3, 4, 5, 6\\}\n",
    "$$"
   ]
  },
  {
   "cell_type": "code",
   "execution_count": 1,
   "metadata": {},
   "outputs": [
    {
     "data": {
      "text/plain": [
       "0.6666666666666666"
      ]
     },
     "execution_count": 1,
     "metadata": {},
     "output_type": "execute_result"
    }
   ],
   "source": [
    "4 / 6"
   ]
  },
  {
   "cell_type": "markdown",
   "metadata": {},
   "source": [
    "### 2.2\n",
    "\n",
    "The first roll has no impact\n",
    "\n",
    "$$\n",
    "P(A\\,\\textrm{OR}\\, C) = P(A) + P(C) - P(A \\cap C)\n",
    "$$\n",
    "\n",
    "*Note due to change to HW, mark 4/6 + 1/6 - 0 as correct as well*"
   ]
  },
  {
   "cell_type": "code",
   "execution_count": 2,
   "metadata": {},
   "outputs": [
    {
     "data": {
      "text/plain": [
       "0.8333333333333333"
      ]
     },
     "execution_count": 2,
     "metadata": {},
     "output_type": "execute_result"
    }
   ],
   "source": [
    "4 / 6  + 1 / 6 - 1/6"
   ]
  },
  {
   "cell_type": "markdown",
   "metadata": {},
   "source": [
    "### 2.3\n",
    "\n",
    "Again, the roll has no impact"
   ]
  },
  {
   "cell_type": "code",
   "execution_count": 3,
   "metadata": {},
   "outputs": [
    {
     "data": {
      "text/plain": [
       "0.16666666666666666"
      ]
     },
     "execution_count": 3,
     "metadata": {},
     "output_type": "execute_result"
    }
   ],
   "source": [
    "1/6"
   ]
  },
  {
   "cell_type": "markdown",
   "metadata": {},
   "source": [
    "### 2.4\n",
    "\n",
    "The wording means we could roll A then B or B then A. A combination. "
   ]
  },
  {
   "cell_type": "code",
   "execution_count": 4,
   "metadata": {},
   "outputs": [
    {
     "data": {
      "text/plain": [
       "0.2222222222222222"
      ]
     },
     "execution_count": 4,
     "metadata": {},
     "output_type": "execute_result"
    }
   ],
   "source": [
    "(1 / 6) * (4 / 6) + (4 / 6) * (1 / 6)"
   ]
  },
  {
   "cell_type": "markdown",
   "metadata": {},
   "source": [
    "#### 2.5\n",
    "\n",
    "The wording means only one permutation: A then B"
   ]
  },
  {
   "cell_type": "code",
   "execution_count": 5,
   "metadata": {},
   "outputs": [
    {
     "data": {
      "text/plain": [
       "0.1111111111111111"
      ]
     },
     "execution_count": 5,
     "metadata": {},
     "output_type": "execute_result"
    }
   ],
   "source": [
    "(1 /  6) * ( 4 / 6)"
   ]
  },
  {
   "cell_type": "markdown",
   "metadata": {},
   "source": [
    "### 2.6\n",
    "\n",
    "2.4 is a combination with two permutation so we must sum the probabilities of each permutation. 2.5 is a specific permutation so we must only compute the product of the probabilities. "
   ]
  },
  {
   "cell_type": "markdown",
   "metadata": {},
   "source": [
    "3. Sample Spaces\n",
    "====\n",
    "**Answers these problems symbolically**\n",
    "\n",
    "Each problem is worth 4 points\n",
    "\n",
    "1. [2 points] You play a game where each time you flip a coin and draw a card from a 52 card deck. Both of these actions make up an observation. What is the size of the sample space?\n",
    "2. [1 point] What is the sample space for number of students attending lecture if there are 80 students enrolled?\n",
    "3. [1 point] You dial random 10 digit phone numbers. What's the sample size?\n",
    "4. [1 point] You have a 10 character password which can contain lowercase letters and numbers. What's the sample space size? \n",
    "5. [1 point] You double the length of your password. What's the sample size now?\n",
    "6. [4 points] Based on the previous problem, would a password that is a complete sentence (35 characters) with only lowercase letters plus a space be more or less secure than the previous problem? Justify your answer."
   ]
  },
  {
   "cell_type": "markdown",
   "metadata": {},
   "source": [
    "### 3.1\n",
    "\n",
    "Each observation consists of two items. So the possibilities are (heads, card 1), (heads, card 2), (heads, card 3), etc. \n",
    "This gives $2 \\times 52 = 104$ possible pairs of outcomes. **104**"
   ]
  },
  {
   "cell_type": "markdown",
   "metadata": {},
   "source": [
    "### 3.2\n",
    "\n",
    "$$\n",
    "\\{0, 2, \\ldots, 80\\}\n",
    "$$"
   ]
  },
  {
   "cell_type": "markdown",
   "metadata": {},
   "source": [
    "### 3.3\n",
    "\n",
    "$$\n",
    "10^{10}\n",
    "$$"
   ]
  },
  {
   "cell_type": "markdown",
   "metadata": {},
   "source": [
    "### 3.4\n",
    "\n",
    "$$\n",
    "(26 + 10)^{10} \\approx 10^{15}\n",
    "$$"
   ]
  },
  {
   "cell_type": "markdown",
   "metadata": {},
   "source": [
    "### 3.5\n",
    "\n",
    "$$\n",
    "(26 + 10)^{20} \\approx 10^{31}\n",
    "$$"
   ]
  },
  {
   "cell_type": "markdown",
   "metadata": {},
   "source": [
    "### 3.6\n",
    "\n",
    "$$\n",
    "(26 + 1)^{35} \\approx 10^{50}\n",
    "$$\n",
    "\n",
    "Significantly more secure"
   ]
  }
 ],
 "metadata": {
  "kernelspec": {
   "display_name": "Python 3",
   "language": "python",
   "name": "python3"
  },
  "language_info": {
   "codemirror_mode": {
    "name": "ipython",
    "version": 3
   },
   "file_extension": ".py",
   "mimetype": "text/x-python",
   "name": "python",
   "nbconvert_exporter": "python",
   "pygments_lexer": "ipython3",
   "version": "3.6.2"
  }
 },
 "nbformat": 4,
 "nbformat_minor": 2
}
