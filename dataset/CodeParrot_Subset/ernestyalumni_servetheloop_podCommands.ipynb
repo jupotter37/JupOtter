{
 "cells": [
  {
   "cell_type": "markdown",
   "metadata": {},
   "source": [
    "# `server/udp/podCommands.js` - from node.js /JavaScript to Python (object)"
   ]
  },
  {
   "cell_type": "code",
   "execution_count": 1,
   "metadata": {
    "collapsed": true
   },
   "outputs": [],
   "source": [
    "# find out where we are on the file directory\n",
    "import os, sys"
   ]
  },
  {
   "cell_type": "code",
   "execution_count": 2,
   "metadata": {
    "collapsed": false
   },
   "outputs": [
    {
     "name": "stdout",
     "output_type": "stream",
     "text": [
      "/home/topolo/PropD/servetheloop/packetDef\n",
      "['.ipynb_checkpoints', 'reactGS', 'podCommands.ipynb', 'podCommandparams.pkl', 'react-GS_node_to_py_to_YAML.ipynb']\n"
     ]
    }
   ],
   "source": [
    "print( os.getcwd())\n",
    "print( os.listdir(os.getcwd()))"
   ]
  },
  {
   "cell_type": "markdown",
   "metadata": {},
   "source": [
    "The `reactGS` folder \"mimics\" the actual `react-groundstation` github repository, only copying the file directory structure, but the source code itself (which is a lot) isn't completely copied over.  I wanted to keep these scripts/notebooks/files built on top of that github repository to be separate from the actual working code.  "
   ]
  },
  {
   "cell_type": "code",
   "execution_count": 3,
   "metadata": {
    "collapsed": false
   },
   "outputs": [
    {
     "name": "stdout",
     "output_type": "stream",
     "text": [
      "/home/topolo/PropD/servetheloop/packetDef/reactGS/server/udp/\n"
     ]
    }
   ],
   "source": [
    "wherepodCommandsis = os.getcwd()+'/reactGS/server/udp/' \n",
    "print(wherepodCommandsis)"
   ]
  },
  {
   "cell_type": "markdown",
   "metadata": {},
   "source": [
    "## `node.js`/(JavaScript) to `json`; i.e. \n",
    "\n",
    "## `node.js`/(JavaScript) $\\to$ `json`    \n",
    "\n",
    "Make a copy of `server/udp/podCommands.js`.  \n",
    "\n",
    "In this copy, comment out `var chalk = require('chalk')` (this is the only thing you have to do manually).  \n",
    "\n",
    "Run this in the directory containing your copy of `podCommands.js`:\n",
    "\n",
    "```  \n",
    "node traverse_podCommands.js  \n",
    "```  \n",
    "\n",
    "This should generate a `json` file `podCmds_lst.json`"
   ]
  },
  {
   "cell_type": "markdown",
   "metadata": {},
   "source": [
    "# Available `podCommands` as a Python list; `json` to Python list, i.e. `json` $\\to$ Python list"
   ]
  },
  {
   "cell_type": "code",
   "execution_count": 4,
   "metadata": {
    "collapsed": true
   },
   "outputs": [],
   "source": [
    "import json"
   ]
  },
  {
   "cell_type": "code",
   "execution_count": 5,
   "metadata": {
    "collapsed": false
   },
   "outputs": [],
   "source": [
    "f_podCmds_json = open(wherepodCommandsis+'podCmds_lst.json','rb')\n",
    "rawjson_podCmds = f_podCmds_json.read()\n",
    "f_podCmds_json.close()"
   ]
  },
  {
   "cell_type": "code",
   "execution_count": 6,
   "metadata": {
    "collapsed": false
   },
   "outputs": [
    {
     "name": "stdout",
     "output_type": "stream",
     "text": [
      "<type 'str'>\n",
      "<type 'list'>\n",
      "104\n"
     ]
    }
   ],
   "source": [
    "print(type(rawjson_podCmds))\n",
    "podCmds_lst=json.loads(rawjson_podCmds)\n",
    "print(type(podCmds_lst))\n",
    "print(len(podCmds_lst)) # there are 104 available commands for the pod!"
   ]
  },
  {
   "cell_type": "code",
   "execution_count": 7,
   "metadata": {
    "collapsed": false
   },
   "outputs": [
    {
     "name": "stdout",
     "output_type": "stream",
     "text": [
      "GS_Heartbeat\n",
      "LGU_PositionChange\n",
      "LGU_SpeedChange\n",
      "FCUPod_Off\n",
      "FCUPod_Stop\n",
      "FCUPod_PowerLatch\n",
      "setBrakeDevelopmentMode\n",
      "FCUBrake_DisableDevelopmentMode\n",
      "FCUBrake_EnableDevelopmentMode\n",
      "FCUBrake_MoveMotorRAW\n",
      "FCUBrake_MoveMotorIBeam\n",
      "FCUBrake_BeginInit\n",
      "FCUBrake_MLPSetZeroLeftBrake\n",
      "FCUBrake_MLPSetZeroRightBrake\n",
      "FCUBrake_MLPSetSpanLeftBrake\n",
      "FCUBrake_MLPSetSpanRightBrake\n",
      "FCUStepper_SetMaxAngularAccel\n",
      "FCUStepper_SetPicoMetersPerRev\n",
      "FCUStepper_SetMaxRPM\n",
      "FCUStepper_SetMicroStepResolution\n",
      "FCUBrake_RequestDevelopmentMode\n",
      "FCUStreamingControlStart_AccelCalData\n",
      "FCUStreamingControlStart_AccelFullData\n",
      "FCUStreamingControlStop_Accel\n",
      "FCUStreamingControlStart_Brakes\n",
      "FCUStreamingControlStart_MotorsRaw\n",
      "FCUStreamingControlStart_Lasers\n",
      "FCUStreamingControlStart_ForwardLaser\n",
      "FCUAccel_FineZero\n",
      "FCUAccel_AutoZero\n",
      "FCUContrast_StartStream\n",
      "FCUContrast_StopStream\n",
      "PowerAStopAllManualDischarging\n",
      "PowerBStopAllManualDischarging\n",
      "PowerAPowerLatch\n",
      "PowerBPowerLatch\n",
      "PowerAChargeRelayOff\n",
      "PowerAChargeRelayOn\n",
      "PowerAStreamingOff\n",
      "PowerBStreamingOff\n",
      "PowerAStreamCurrentTemps\n",
      "PowerBStreamCurrentTemps\n",
      "PowerAStreamTempLocations\n",
      "PowerBStreamTempLocations\n",
      "PowerARequestRomID\n",
      "PowerBRequestRomID\n",
      "PowerAStartCharging\n",
      "PowerAStopCharging\n",
      "PowerBStartCharging\n",
      "PowerBStopCharging\n",
      "PowerAStartDischarging\n",
      "PowerAStopDischarging\n",
      "PowerBStartDischarging\n",
      "PowerBStopDischarging\n",
      "PowerARequestBMS\n",
      "PowerBRequestBMS\n",
      "PowerARequestCooling\n",
      "PowerAStartCooling\n",
      "PowerBRequestCooling\n",
      "PowerBStartCooling\n",
      "PowerAStartRepressurizing\n",
      "PowerBStartRepressurizing\n",
      "PowerATestSolenoidPin4\n",
      "PowerATestSolenoidPin8\n",
      "PowerATestSolenoidPin16\n",
      "PowerATestSolenoidPin22\n",
      "PowerATestSolenoidPin23\n",
      "PowerBTestSolenoidPin4\n",
      "PowerBTestSolenoidPin8\n",
      "PowerBTestSolenoidPin16\n",
      "PowerBTestSolenoidPin22\n",
      "PowerBTestSolenoidPin23\n",
      "PowerAToPowerB\n",
      "PowerBToPowerA\n",
      "PodSafePowerNodeA\n",
      "PodSafePowerNodeB\n",
      "ForcePreRunPhase\n",
      "FCUHover_Enable\n",
      "FCUHover_Disable\n",
      "FCUHover_EnableStaticHovering\n",
      "FCUHover_ReleaseStaticHovering\n",
      "FCUHover_EnableHEX\n",
      "FCUHover_DisableHEX\n",
      "FCUHover_SetHEXSpeed\n",
      "FCUHover_StartCooling\n",
      "FCUHover_StopCooling\n",
      "FCUHover_OpenSolenoid\n",
      "FCUAuxProp_Enable\n",
      "FCUAuxProp_Disable\n",
      "FCUAuxProp_SetSpeed\n",
      "FCUGimbal_Static\n",
      "FCUGimbal_FullBackwards\n",
      "XilinxSim_Start\n",
      "XilinxSim_Stop\n",
      "XilinxSim_Laser0On\n",
      "XilinxSim_Laser0Off\n",
      "XilinxSim_Laser1On\n",
      "XilinxSim_Laser1Off\n",
      "XilinxSim_Laser2On\n",
      "XilinxSim_Laser2Off\n",
      "AutoSequenceTest_Start\n",
      "AutoSequenceTest_Skip\n",
      "AutoSequenceTest_Kill\n",
      "AutoSequenceTest_Restart\n"
     ]
    }
   ],
   "source": [
    "for cmd in podCmds_lst: \n",
    "    print cmd"
   ]
  },
  {
   "cell_type": "markdown",
   "metadata": {
    "collapsed": true
   },
   "source": [
    "## Dirty parsing of `podCommands.js` and the flight control parameters "
   ]
  },
  {
   "cell_type": "code",
   "execution_count": 8,
   "metadata": {
    "collapsed": false
   },
   "outputs": [
    {
     "name": "stdout",
     "output_type": "stream",
     "text": [
      "<type 'str'>\n",
      "19296\n"
     ]
    }
   ],
   "source": [
    "f_podCmds = open(wherepodCommandsis+'podCommands.js','rb')\n",
    "raw_podCmds = f_podCmds.read()\n",
    "f_podCmds.close()\n",
    "print(type(raw_podCmds))\n",
    "print(len(raw_podCmds))"
   ]
  },
  {
   "cell_type": "code",
   "execution_count": 13,
   "metadata": {
    "collapsed": true
   },
   "outputs": [],
   "source": [
    "# get the name of the functions\n",
    "cmdnameslst = [func[:func.find(\"(\")].strip() for func in raw_podCmds.split(\"function \")]"
   ]
  },
  {
   "cell_type": "code",
   "execution_count": 23,
   "metadata": {
    "collapsed": false
   },
   "outputs": [],
   "source": [
    "funcparamslst = [func[func.find(\"(\")+1:func.find(\")\")] \n",
    "                     if func[func.find(\"(\")+1:func.find(\")\")] is not '' else None for func in raw_podCmds.split(\"function \")]\n",
    "#raw_podCmds.split(\"function \")[3][ raw_podCmds.split(\"function \")[3].find(\"(\")+1:raw_podCmds.split(\"function \")[3].find(\")\")] "
   ]
  },
  {
   "cell_type": "code",
   "execution_count": 46,
   "metadata": {
    "collapsed": false
   },
   "outputs": [],
   "source": [
    "# more parsing of this list of strings  \n",
    "funcparamslst_cleaned = []\n",
    "for param in funcparamslst:\n",
    "    if param is None:\n",
    "        funcparamslst_cleaned.append(None)\n",
    "    else:\n",
    "        funcparamslst_cleaned.append( param.strip().split(',') )"
   ]
  },
  {
   "cell_type": "code",
   "execution_count": 38,
   "metadata": {
    "collapsed": false
   },
   "outputs": [
    {
     "name": "stdout",
     "output_type": "stream",
     "text": [
      "106\n"
     ]
    }
   ],
   "source": [
    "print(len(raw_podCmds.split(\"function \")) ) # 106 commands\n",
    "\n",
    "# get the index value (e.g. starts at position 22) of where \"udp.tx.transmitPodCommand\" starts, treating it as a string\n",
    "#whereisudptransmit = [func.find(\"udp.tx.transmitPodCommand(\") for func in raw_podCmds.split(\"function \")]\n",
    "\n",
    "whereisudptransmit = []\n",
    "for func in raw_podCmds.split(\"function \"):\n",
    "    val = func.find(\"udp.tx.transmitPodCommand(\")\n",
    "    if val is not -1:\n",
    "        if func.find(\"// \",val-4) is not -1 or func.find(\"// udp\",val-4) is not -1:\n",
    "            whereisudptransmit.append(None)\n",
    "        else:\n",
    "            whereisudptransmit.append(val)\n",
    "    else: \n",
    "        whereisudptransmit.append(None)\n",
    "\n",
    "#whereisudptransmit = [func.find(\"udp.tx.transmitPodCommand(\") for func in raw_podCmds.split(\"function \")]\n",
    "\n",
    "\n",
    "# remove -1 values\n",
    "#whereisudptransmit = filter(lambda x : x != -1, whereisudptransmit)\n",
    "\n",
    "rawParams=[funcstr[ funcstr.find(\"(\",val)+1:funcstr.find(\")\",val)]  if val is not None else None for funcstr, val in zip(raw_podCmds.split(\"function \"), whereisudptransmit)]"
   ]
  },
  {
   "cell_type": "code",
   "execution_count": 47,
   "metadata": {
    "collapsed": false
   },
   "outputs": [
    {
     "data": {
      "text/plain": [
       "[[\"'./binary'\"],\n",
       " ['udp'],\n",
       " None,\n",
       " ['liftName', ' liftDirection'],\n",
       " ['liftName', ' liftSpeed'],\n",
       " ['value'],\n",
       " None,\n",
       " None,\n",
       " ['data'],\n",
       " None]"
      ]
     },
     "execution_count": 47,
     "metadata": {},
     "output_type": "execute_result"
    }
   ],
   "source": [
    "funcparamslst_cleaned[:10]"
   ]
  },
  {
   "cell_type": "code",
   "execution_count": 32,
   "metadata": {
    "collapsed": false
   },
   "outputs": [
    {
     "data": {
      "text/plain": [
       "113"
      ]
     },
     "execution_count": 32,
     "metadata": {},
     "output_type": "execute_result"
    }
   ],
   "source": [
    "raw_podCmds.split(\"function \")[4].find(\"// \",116-4);"
   ]
  },
  {
   "cell_type": "code",
   "execution_count": 42,
   "metadata": {
    "collapsed": false
   },
   "outputs": [],
   "source": [
    "# more parsing of this list of strings\n",
    "cleaningParams = []\n",
    "for rawparam in rawParams: \n",
    "    if rawparam is None:\n",
    "        cleaningParams.append(None)\n",
    "    else:\n",
    "        cleanParam = []\n",
    "        cleanParam.append( rawparam.split(',')[0].strip(\"'\") )\n",
    "        for strval in rawparam.split(',')[1:]:\n",
    "            strval2 = strval.strip()\n",
    "            try: \n",
    "                strval2 = int(strval2,16)\n",
    "                strval2 = hex(strval2)\n",
    "            except ValueError:\n",
    "                strval2\n",
    "            cleanParam.append(strval2)\n",
    "        cleaningParams.append(cleanParam)\n"
   ]
  },
  {
   "cell_type": "code",
   "execution_count": 43,
   "metadata": {
    "collapsed": false
   },
   "outputs": [
    {
     "data": {
      "text/plain": [
       "[None,\n",
       " None,\n",
       " ['Flight Control', '0x400', '0x0', '0x0', '0x0', '0x0'],\n",
       " None,\n",
       " None,\n",
       " None,\n",
       " ['Flight Control', '0x3000', '0x76543210', '0x0', '0x0', '0x0'],\n",
       " ['Flight Control', '0x1', '0x1234abcd', '0x0', '0x0', '0x0'],\n",
       " ['Flight Control', '0x3030', '0xabcd1245', 'data.powerNode', '0x0', '0x0'],\n",
       " ['Flight Control', '0x1400', '0x0', '0x0', '0x0', '0x0']]"
      ]
     },
     "execution_count": 43,
     "metadata": {},
     "output_type": "execute_result"
    }
   ],
   "source": [
    "cleaningParams[:10]"
   ]
  },
  {
   "cell_type": "code",
   "execution_count": 12,
   "metadata": {
    "collapsed": false
   },
   "outputs": [],
   "source": [
    "# get the name of the functions\n",
    "\n",
    "#[func[:func.find(\"(\")]  \n",
    "#    if func.find(\"()\") is not -1 else None for func in raw_podCmds.split(\"function \")];\n",
    "cmdnameslst = [func[:func.find(\"(\")].strip() for func in raw_podCmds.split(\"function \")]"
   ]
  },
  {
   "cell_type": "code",
   "execution_count": 48,
   "metadata": {
    "collapsed": false
   },
   "outputs": [
    {
     "name": "stdout",
     "output_type": "stream",
     "text": [
      "106\n"
     ]
    }
   ],
   "source": [
    "# each node js function has its arguments; do that first\n",
    "podfunclst = zip(cmdnameslst, funcparamslst_cleaned)\n",
    "print(len(podfunclst))"
   ]
  },
  {
   "cell_type": "code",
   "execution_count": 50,
   "metadata": {
    "collapsed": false
   },
   "outputs": [],
   "source": [
    "podfunclst[:10];"
   ]
  },
  {
   "cell_type": "code",
   "execution_count": 51,
   "metadata": {
    "collapsed": false
   },
   "outputs": [
    {
     "name": "stdout",
     "output_type": "stream",
     "text": [
      "106\n"
     ]
    }
   ],
   "source": [
    "# each node js function has its arguments; do that first\n",
    "podCommandparams = zip(podfunclst, cleaningParams)\n",
    "print(len(podCommandparams))"
   ]
  },
  {
   "cell_type": "code",
   "execution_count": 52,
   "metadata": {
    "collapsed": false
   },
   "outputs": [
    {
     "data": {
      "text/plain": [
       "(('PodSafePowerNodeB', None),\n",
       " ['Power Node B', '0x3000', '0x76543210', '0x0', '0x0', '0x0'])"
      ]
     },
     "execution_count": 52,
     "metadata": {},
     "output_type": "execute_result"
    }
   ],
   "source": [
    "podCommandparams[-2]"
   ]
  },
  {
   "cell_type": "markdown",
   "metadata": {},
   "source": [
    "So the structure of our result is as follows:\n",
    "\n",
    "Python tuples (each of size 2 for each of the tuples)  \n",
    "\"\"\"   \n",
    "    ( (Name of pod command as a string, None if there are no function parameters or Python list of function arguments),  \n",
    "        Python list [ Subsystem name as a string, paramter1 as a hex value, paramter2 as a hex value, paramter3 as a hex value, paramter4 as a hex value] )  \n",
    "\"\"\"  \n",
    "\n",
    "Notice that in the original code, there's some TO DO's still left (eek!) so that those `udp.tx.transmitPodCommand` is commented out or left as TODO, and some are dependent upon arguments in the function (and thus will change, the parameter is a variable).  "
   ]
  },
  {
   "cell_type": "code",
   "execution_count": 53,
   "metadata": {
    "collapsed": false
   },
   "outputs": [
    {
     "data": {
      "text/plain": [
       "[(('const bin = require', [\"'./binary'\"]), None),\n",
       " (('', ['udp']), None),\n",
       " (('GS_Heartbeat', None),\n",
       "  ['Flight Control', '0x400', '0x0', '0x0', '0x0', '0x0']),\n",
       " (('LGU_PositionChange', ['liftName', ' liftDirection']), None),\n",
       " (('LGU_SpeedChange', ['liftName', ' liftSpeed']), None),\n",
       " (('setBrakeDevelopmentMode', ['value']), None),\n",
       " (('FCUPod_Off', None),\n",
       "  ['Flight Control', '0x3000', '0x76543210', '0x0', '0x0', '0x0']),\n",
       " (('FCUPod_Stop', None),\n",
       "  ['Flight Control', '0x1', '0x1234abcd', '0x0', '0x0', '0x0']),\n",
       " (('FCUPod_PowerLatch', ['data']),\n",
       "  ['Flight Control', '0x3030', '0xabcd1245', 'data.powerNode', '0x0', '0x0']),\n",
       " (('FCUBrake_DisableDevelopmentMode', None),\n",
       "  ['Flight Control', '0x1400', '0x0', '0x0', '0x0', '0x0'])]"
      ]
     },
     "execution_count": 53,
     "metadata": {},
     "output_type": "execute_result"
    }
   ],
   "source": [
    "podCommandparams[:10]"
   ]
  },
  {
   "cell_type": "code",
   "execution_count": 54,
   "metadata": {
    "collapsed": true
   },
   "outputs": [],
   "source": [
    "try:\n",
    "    import CPickle as pickle\n",
    "except ImportError:\n",
    "    import pickle"
   ]
  },
  {
   "cell_type": "code",
   "execution_count": 55,
   "metadata": {
    "collapsed": true
   },
   "outputs": [],
   "source": [
    "podCommandparamsfile = open(\"podCommandparams.pkl\",'wb')\n",
    "pickle.dump( podCommandparams , podCommandparamsfile )\n",
    "podCommandparamsfile.close()"
   ]
  },
  {
   "cell_type": "code",
   "execution_count": 56,
   "metadata": {
    "collapsed": true
   },
   "outputs": [],
   "source": [
    "# open up a pickle file like so:\n",
    "podCommandparamsfile_recover = open(\"podCommandparams.pkl\",'rb')\n",
    "podCommandparams_recover = pickle.load(podCommandparamsfile_recover)\n",
    "podCommandparamsfile_recover.close()"
   ]
  },
  {
   "cell_type": "code",
   "execution_count": 57,
   "metadata": {
    "collapsed": false
   },
   "outputs": [
    {
     "data": {
      "text/plain": [
       "[(('const bin = require', [\"'./binary'\"]), None),\n",
       " (('', ['udp']), None),\n",
       " (('GS_Heartbeat', None),\n",
       "  ['Flight Control', '0x400', '0x0', '0x0', '0x0', '0x0']),\n",
       " (('LGU_PositionChange', ['liftName', ' liftDirection']), None),\n",
       " (('LGU_SpeedChange', ['liftName', ' liftSpeed']), None),\n",
       " (('setBrakeDevelopmentMode', ['value']), None),\n",
       " (('FCUPod_Off', None),\n",
       "  ['Flight Control', '0x3000', '0x76543210', '0x0', '0x0', '0x0']),\n",
       " (('FCUPod_Stop', None),\n",
       "  ['Flight Control', '0x1', '0x1234abcd', '0x0', '0x0', '0x0']),\n",
       " (('FCUPod_PowerLatch', ['data']),\n",
       "  ['Flight Control', '0x3030', '0xabcd1245', 'data.powerNode', '0x0', '0x0']),\n",
       " (('FCUBrake_DisableDevelopmentMode', None),\n",
       "  ['Flight Control', '0x1400', '0x0', '0x0', '0x0', '0x0'])]"
      ]
     },
     "execution_count": 57,
     "metadata": {},
     "output_type": "execute_result"
    }
   ],
   "source": [
    "podCommandparams_recover[:10]"
   ]
  },
  {
   "cell_type": "markdown",
   "metadata": {
    "collapsed": true
   },
   "source": [
    "## Going to .csv  \n",
    "\n",
    "`@nuttwerx` and `@ernestyalumni` decided upon separating the multiple entries in a field by the semicolon \"`;`\":"
   ]
  },
  {
   "cell_type": "code",
   "execution_count": 79,
   "metadata": {
    "collapsed": false
   },
   "outputs": [],
   "source": [
    "tocsv = []\n",
    "for cmd in podCommandparams_recover:\n",
    "    name = cmd[0][0]\n",
    "    funcparam = cmd[0][1]\n",
    "    if funcparam is None:\n",
    "        fparam = None\n",
    "    else:\n",
    "        fparam = \";\".join(funcparam)\n",
    "    udpparam = cmd[1]\n",
    "    if udpparam is None:\n",
    "        uname  = None\n",
    "        uparam = None\n",
    "    else:\n",
    "        uname = udpparam[0]\n",
    "        uparam = \";\".join( udpparam[1:] )\n",
    "    tocsv.append([name,fparam,uname,uparam])"
   ]
  },
  {
   "cell_type": "markdown",
   "metadata": {},
   "source": [
    "Add the headers in manually:  \n",
    "    \n",
    "1 = Command name; 2 = Function args; 3 = Pod Node; 4 = Command Args  "
   ]
  },
  {
   "cell_type": "code",
   "execution_count": 80,
   "metadata": {
    "collapsed": true
   },
   "outputs": [],
   "source": [
    "header = [\"Command name\",\"Function args\", \"Pod Node\", \"Command Args\"]\n",
    "tocsv.insert(0,header)"
   ]
  },
  {
   "cell_type": "markdown",
   "metadata": {},
   "source": [
    "The csv fields format is as follows:  \n",
    "\n",
    "(function name) , (function arguments (None is there are none)) , (UDP transmit name (None is there are no udp transmit command)), (UDP transmit parameters, 4 of them, separated by semicolon, or None if there are no udp transmit command )"
   ]
  },
  {
   "cell_type": "code",
   "execution_count": 69,
   "metadata": {
    "collapsed": false
   },
   "outputs": [],
   "source": [
    "import csv"
   ]
  },
  {
   "cell_type": "code",
   "execution_count": 82,
   "metadata": {
    "collapsed": false
   },
   "outputs": [],
   "source": [
    "f_podCommands_tocsv = open(\"podCommands.csv\",'w')\n",
    "tocsv_writer = csv.writer( f_podCommands_tocsv )\n",
    "tocsv_writer.writerows(tocsv)\n",
    "f_podCommands_tocsv.close()"
   ]
  },
  {
   "cell_type": "code",
   "execution_count": 77,
   "metadata": {
    "collapsed": false
   },
   "outputs": [],
   "source": [
    "#tocsv.insert(0,header) no need"
   ]
  },
  {
   "cell_type": "code",
   "execution_count": 83,
   "metadata": {
    "collapsed": false
   },
   "outputs": [],
   "source": [
    "#tocsv[:10] no need"
   ]
  },
  {
   "cell_type": "code",
   "execution_count": null,
   "metadata": {
    "collapsed": true
   },
   "outputs": [],
   "source": []
  }
 ],
 "metadata": {
  "kernelspec": {
   "display_name": "Python 2",
   "language": "python",
   "name": "python2"
  },
  "language_info": {
   "codemirror_mode": {
    "name": "ipython",
    "version": 2
   },
   "file_extension": ".py",
   "mimetype": "text/x-python",
   "name": "python",
   "nbconvert_exporter": "python",
   "pygments_lexer": "ipython2",
   "version": "2.7.11"
  }
 },
 "nbformat": 4,
 "nbformat_minor": 0
}
