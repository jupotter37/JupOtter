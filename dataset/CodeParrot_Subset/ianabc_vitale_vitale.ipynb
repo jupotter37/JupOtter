{
 "cells": [
  {
   "cell_type": "markdown",
   "metadata": {},
   "source": [
    "The Vitale Property\n",
    "===================\n",
    "\n",
    "This program calculates the Polydivisible numbers. It is inspired by a\n",
    "[blog post](http://www.blog.republicofmath.com/the-number-3608528850368400786036725/) on (republicofmath.com) which highlighted a result of Ben Vitale\n",
    "for a 25 digit polydivisible number. More information on polydivisible number can be found on the [wikipedia page](https://en.wikipedia.org/wiki/Polydivisible_number), or the [Online Encyclopedia of Integer Sequences](http://oeis.org/A144688).\n",
    "\n",
    "Polydivisible Numbers\n",
    "---------------------\n",
    "3608528850368400786036725 is the only 25 digit number which satisfies\n",
    "the polydivisibilty (or Vitale) property. It is divisible by 25, it's\n",
    "first 24 digits are divisible by 24, it's first 23 digits are divisible\n",
    "by 23 etc. all the way down to 2. There are NO 26 digit numbers which\n",
    "extend this property."
   ]
  },
  {
   "cell_type": "code",
   "execution_count": 1,
   "metadata": {
    "collapsed": false
   },
   "outputs": [],
   "source": [
    "import math"
   ]
  },
  {
   "cell_type": "code",
   "execution_count": 2,
   "metadata": {
    "collapsed": false
   },
   "outputs": [],
   "source": [
    "def vitaleProperty(n):\n",
    "    if n == 2:\n",
    "        return range(10, 99, 2)\n",
    "    else:\n",
    "        vnums = []\n",
    "        for vnum in vitaleProperty(n-1):\n",
    "            vnum = vnum * 10\n",
    "            for j in range(10):\n",
    "                if ((vnum + j) % n == 0):\n",
    "                    vnums.append(vnum + j)\n",
    "\n",
    "        return vnums"
   ]
  },
  {
   "cell_type": "code",
   "execution_count": 3,
   "metadata": {
    "collapsed": false
   },
   "outputs": [],
   "source": [
    "n = 2\n",
    "nvnums = []"
   ]
  },
  {
   "cell_type": "code",
   "execution_count": 4,
   "metadata": {
    "collapsed": false
   },
   "outputs": [],
   "source": [
    "while True:\n",
    "    vitale_n = vitaleProperty(n)\n",
    "    if (len(vitale_n) > 0):\n",
    "        nvnums.append(len(vitale_n))\n",
    "        n = n + 1\n",
    "    else:\n",
    "        break"
   ]
  },
  {
   "cell_type": "code",
   "execution_count": 5,
   "metadata": {
    "collapsed": false
   },
   "outputs": [
    {
     "data": {
      "image/png": "[encoded data removed]",
      "text/plain": [
       "<matplotlib.figure.Figure at 0x7faf7e2fd110>"
      ]
     },
     "metadata": {},
     "output_type": "display_data"
    }
   ],
   "source": [
    "try:\n",
    "    import matplotlib.pyplot as plt\n",
    "    %matplotlib inline\n",
    "    plt.plot(nvnums, 'ro', markersize=5)\n",
    "    plt.ylim([0, max(nvnums) * 1.1])\n",
    "    plt.show()\n",
    "except ImportError:\n",
    "    print('\\n'.join('{:3}: {}'.format(*k) for k in enumerate(nvnums)))"
   ]
  },
  {
   "cell_type": "markdown",
   "metadata": {},
   "source": [
    "As discussed in the wikipedia article, a polydivisible number with n-1 digits can be extended to a polydivisible number with n digits in 10/n different ways. So we can estimate the number of n-digit polydivisible numbers\n",
    "$$ F(n) \\approx \\frac{9\\times 10^{n-1}}{n!} $$\n",
    "The value tends to zero as $n\\to \\infty$ and we can sum this over the values of n to get an estimate of the total number of polydivisible numbers\n",
    "$$\\frac{9(e^{10}-1)}{10}$$"
   ]
  },
  {
   "cell_type": "code",
   "execution_count": 6,
   "metadata": {
    "collapsed": false
   },
   "outputs": [
    {
     "data": {
      "text/plain": [
       "19823"
      ]
     },
     "execution_count": 6,
     "metadata": {},
     "output_type": "execute_result"
    }
   ],
   "source": [
    "S_f = (9 * math.e**(10))/10\n",
    "\n",
    "int(S_f)\n"
   ]
  },
  {
   "cell_type": "code",
   "execution_count": 7,
   "metadata": {
    "collapsed": false
   },
   "outputs": [
    {
     "data": {
      "text/plain": [
       "20447"
      ]
     },
     "execution_count": 7,
     "metadata": {},
     "output_type": "execute_result"
    }
   ],
   "source": [
    "sum(nvnums)"
   ]
  },
  {
   "cell_type": "markdown",
   "metadata": {},
   "source": [
    "So the estimate is off by only"
   ]
  },
  {
   "cell_type": "code",
   "execution_count": 8,
   "metadata": {
    "collapsed": false
   },
   "outputs": [
    {
     "data": {
      "text/plain": [
       "0.030477859083188966"
      ]
     },
     "execution_count": 8,
     "metadata": {},
     "output_type": "execute_result"
    }
   ],
   "source": [
    "(sum(nvnums) - S_f) / sum(nvnums)"
   ]
  },
  {
   "cell_type": "markdown",
   "metadata": {},
   "source": [
    "i.e. $3\\%$"
   ]
  }
 ],
 "metadata": {
  "kernelspec": {
   "display_name": "Python 2",
   "language": "python",
   "name": "python2"
  },
  "language_info": {
   "codemirror_mode": {
    "name": "ipython",
    "version": 2
   },
   "file_extension": ".py",
   "mimetype": "text/x-python",
   "name": "python",
   "nbconvert_exporter": "python",
   "pygments_lexer": "ipython2",
   "version": "2.7.9"
  }
 },
 "nbformat": 4,
 "nbformat_minor": 0
}
