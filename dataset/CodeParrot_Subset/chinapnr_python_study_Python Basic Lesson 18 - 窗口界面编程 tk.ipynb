{
 "cells": [
  {
   "cell_type": "markdown",
   "metadata": {},
   "source": [
    "# Lesson 18\n",
    "\n",
    "* v1.1, 2020.5,6 edit by David Yi\n",
    "\n",
    "\n",
    "## 本次内容\n",
    "\n",
    "* 简单窗口编程"
   ]
  },
  {
   "cell_type": "code",
   "execution_count": 1,
   "metadata": {},
   "outputs": [],
   "source": [
    "import tkinter\n",
    "\n",
    "top = tkinter.Tk()\n",
    "top.mainloop()"
   ]
  },
  {
   "cell_type": "code",
   "execution_count": 2,
   "metadata": {},
   "outputs": [],
   "source": [
    "import tkinter\n",
    "\n",
    "label = tkinter.Label(text='Hello World!')\n",
    "label.pack()\n",
    "tkinter.mainloop()"
   ]
  },
  {
   "cell_type": "code",
   "execution_count": 3,
   "metadata": {},
   "outputs": [],
   "source": [
    "import tkinter\n",
    "\n",
    "btnHello = tkinter.Button(text='Hello World!')\n",
    "btnHello.pack()\n",
    "tkinter.mainloop()"
   ]
  },
  {
   "cell_type": "code",
   "execution_count": 4,
   "metadata": {},
   "outputs": [],
   "source": [
    "from tkinter import *           \n",
    "root = Tk()                     \n",
    "                                \n",
    "list1     = ['java','python','php','js']\n",
    "list2  = ['mobile','desktop','web']\n",
    "\n",
    "#  创建两个列表组件\n",
    "listProgram  = Listbox(root)          \n",
    "listPlatform = Listbox(root)\n",
    "\n",
    "# 第一个小部件插入数据\n",
    "for item in list1:                 \n",
    "    listProgram.insert(0,item)\n",
    "\n",
    "# 第二个小部件插入数据\n",
    "for item in list2:              \n",
    "    listPlatform.insert(0,item)\n",
    "\n",
    "# 将小部件放置到主窗口中\n",
    "listProgram.pack()                    \n",
    "listPlatform.pack()\n",
    "\n",
    "# 进入消息循环\n",
    "root.mainloop()                 "
   ]
  },
  {
   "cell_type": "code",
   "execution_count": 5,
   "metadata": {},
   "outputs": [
    {
     "name": "stdout",
     "output_type": "stream",
     "text": [
      "Hello, I am computer\n"
     ]
    }
   ],
   "source": [
    "from tkinter import *\n",
    "\n",
    "root = Tk() \n",
    "\n",
    "def say():\n",
    "    print('Hello, I am computer')\n",
    "\n",
    "btnHello = Button(None, text='Hello', command=say)\n",
    "btnHello.pack()\n",
    "root.mainloop()"
   ]
  },
  {
   "cell_type": "code",
   "execution_count": null,
   "metadata": {
    "collapsed": true
   },
   "outputs": [],
   "source": []
  }
 ],
 "metadata": {
  "anaconda-cloud": {},
  "kernelspec": {
   "display_name": "Python 3",
   "language": "python",
   "name": "python3"
  },
  "language_info": {
   "codemirror_mode": {
    "name": "ipython",
    "version": 3
   },
   "file_extension": ".py",
   "mimetype": "text/x-python",
   "name": "python",
   "nbconvert_exporter": "python",
   "pygments_lexer": "ipython3",
   "version": "3.7.6"
  }
 },
 "nbformat": 4,
 "nbformat_minor": 1
}
