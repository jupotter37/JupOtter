{
 "cells": [
  {
   "cell_type": "code",
   "execution_count": 1,
   "metadata": {
    "collapsed": true
   },
   "outputs": [],
   "source": [
    "import pandas as pd"
   ]
  },
  {
   "cell_type": "code",
   "execution_count": 21,
   "metadata": {
    "collapsed": true
   },
   "outputs": [],
   "source": [
    "path = \"data/compo_misc_capital_recipts.csv\"\n",
    "df=pd.read_csv(path)"
   ]
  },
  {
   "cell_type": "code",
   "execution_count": 22,
   "metadata": {
    "collapsed": false
   },
   "outputs": [
    {
     "data": {
      "text/html": [
       "<div>\n",
       "<table border=\"1\" class=\"dataframe\">\n",
       "  <thead>\n",
       "    <tr style=\"text-align: right;\">\n",
       "      <th></th>\n",
       "      <th>slug_name</th>\n",
       "      <th>index_name</th>\n",
       "      <th>2015-2016</th>\n",
       "      <th>2016-2017 (BE)</th>\n",
       "      <th>2016-2017 (RE)</th>\n",
       "      <th>2017-2018 (BE)</th>\n",
       "      <th>color</th>\n",
       "      <th>unit</th>\n",
       "    </tr>\n",
       "  </thead>\n",
       "  <tbody>\n",
       "    <tr>\n",
       "      <th>0</th>\n",
       "      <td>disinvestment_receipts</td>\n",
       "      <td>Disinvestment Receipts</td>\n",
       "      <td>42131.69</td>\n",
       "      <td>36,000</td>\n",
       "      <td>40,000</td>\n",
       "      <td>46,500</td>\n",
       "      <td>#D64700</td>\n",
       "      <td>Rs. Crore</td>\n",
       "    </tr>\n",
       "    <tr>\n",
       "      <th>1</th>\n",
       "      <td>strategic_disinvestment</td>\n",
       "      <td>Strategic Disinvestment</td>\n",
       "      <td>...</td>\n",
       "      <td>20,500</td>\n",
       "      <td>5,500</td>\n",
       "      <td>15,000</td>\n",
       "      <td>#40627C</td>\n",
       "      <td>Rs. Crore</td>\n",
       "    </tr>\n",
       "    <tr>\n",
       "      <th>2</th>\n",
       "      <td>others_(listing_of_insurance_companies)</td>\n",
       "      <td>Others (Listing of Insurance Companies)</td>\n",
       "      <td>...</td>\n",
       "      <td>...</td>\n",
       "      <td>...</td>\n",
       "      <td>11,000</td>\n",
       "      <td>#D0A825</td>\n",
       "      <td>Rs. Crore</td>\n",
       "    </tr>\n",
       "    <tr>\n",
       "      <th>3</th>\n",
       "      <td>total</td>\n",
       "      <td>Total</td>\n",
       "      <td>42131.69</td>\n",
       "      <td>56500</td>\n",
       "      <td>45500</td>\n",
       "      <td>72500</td>\n",
       "      <td>#26393D</td>\n",
       "      <td>Rs. Crore</td>\n",
       "    </tr>\n",
       "  </tbody>\n",
       "</table>\n",
       "</div>"
      ],
      "text/plain": [
       "                                 slug_name  \\\n",
       "0                   disinvestment_receipts   \n",
       "1                  strategic_disinvestment   \n",
       "2  others_(listing_of_insurance_companies)   \n",
       "3                                    total   \n",
       "\n",
       "                                index_name 2015-2016 2016-2017 (BE)  \\\n",
       "0                   Disinvestment Receipts  42131.69         36,000   \n",
       "1                  Strategic Disinvestment       ...         20,500   \n",
       "2  Others (Listing of Insurance Companies)       ...            ...   \n",
       "3                                    Total  42131.69          56500   \n",
       "\n",
       "  2016-2017 (RE) 2017-2018 (BE)    color       unit  \n",
       "0         40,000         46,500  #D64700  Rs. Crore  \n",
       "1          5,500         15,000  #40627C  Rs. Crore  \n",
       "2            ...         11,000  #D0A825  Rs. Crore  \n",
       "3          45500          72500  #26393D  Rs. Crore  "
      ]
     },
     "execution_count": 22,
     "metadata": {},
     "output_type": "execute_result"
    }
   ],
   "source": [
    "df"
   ]
  },
  {
   "cell_type": "code",
   "execution_count": 23,
   "metadata": {
    "collapsed": false
   },
   "outputs": [
    {
     "name": "stdout",
     "output_type": "stream",
     "text": [
      "    <iframe src=\"../viz/visualization.html#barchart/compo_misc_capital_recipts.csv/disinvestment_receipts\" width=\"100%\", height=\"500\",  frameBorder=\"0\"></iframe>\n",
      "\n",
      "    <iframe src=\"../viz/visualization.html#barchart/compo_misc_capital_recipts.csv/strategic_disinvestment\" width=\"100%\", height=\"500\",  frameBorder=\"0\"></iframe>\n",
      "\n",
      "    <iframe src=\"../viz/visualization.html#barchart/compo_misc_capital_recipts.csv/others_(listing_of_insurance_companies)\" width=\"100%\", height=\"500\",  frameBorder=\"0\"></iframe>\n",
      "\n",
      "    <iframe src=\"../viz/visualization.html#barchart/compo_misc_capital_recipts.csv/total\" width=\"100%\", height=\"500\",  frameBorder=\"0\"></iframe>\n",
      "\n"
     ]
    }
   ],
   "source": [
    "file_name= \"compo_misc_capital_recipts.csv\"\n",
    "for index, row in enumerate(df.iterrows()):\n",
    "    #rint \" .. raw:: html\\n\"\n",
    "    print '    <iframe src=\"../viz/visualization.html#barchart/'+file_name+'/'+row[1][0] +'\" width=\"100%\", height=\"500\",  frameBorder=\"0\"></iframe>\\n'"
   ]
  },
  {
   "cell_type": "code",
   "execution_count": null,
   "metadata": {
    "collapsed": true
   },
   "outputs": [],
   "source": []
  }
 ],
 "metadata": {
  "kernelspec": {
   "display_name": "Python 2",
   "language": "python",
   "name": "python2"
  },
  "language_info": {
   "codemirror_mode": {
    "name": "ipython",
    "version": 2
   },
   "file_extension": ".py",
   "mimetype": "text/x-python",
   "name": "python",
   "nbconvert_exporter": "python",
   "pygments_lexer": "ipython2",
   "version": "2.7.11"
  }
 },
 "nbformat": 4,
 "nbformat_minor": 0
}
