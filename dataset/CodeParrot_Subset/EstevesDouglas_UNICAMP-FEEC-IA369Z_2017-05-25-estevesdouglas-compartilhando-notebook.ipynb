{
 "cells": [
  {
   "cell_type": "markdown",
   "metadata": {},
   "source": [
    "## IA369Z - Reprodutibilidade em Pesquisa Computacional.\n",
    "\n"
   ]
  },
  {
   "cell_type": "markdown",
   "metadata": {},
   "source": [
    "Douglas Vinicius Esteves"
   ]
  },
  {
   "cell_type": "markdown",
   "metadata": {
    "collapsed": true
   },
   "source": [
    "# Objetivo"
   ]
  },
  {
   "cell_type": "markdown",
   "metadata": {},
   "source": [
    "## Descrição de códigos para devices e coletas"
   ]
  },
  {
   "cell_type": "markdown",
   "metadata": {},
   "source": [
    "* Code Client Device\n",
    "* ESP8266 Runing program language LUA."
   ]
  },
  {
   "cell_type": "code",
   "execution_count": 1,
   "metadata": {
    "collapsed": false
   },
   "outputs": [
    {
     "ename": "SyntaxError",
     "evalue": "invalid syntax (<ipython-input-1-644a7032c383>, line 1)",
     "output_type": "error",
     "traceback": [
      "\u001b[0;36m  File \u001b[0;32m\"<ipython-input-1-644a7032c383>\"\u001b[0;36m, line \u001b[0;32m1\u001b[0m\n\u001b[0;31m    -- Campainha IoT - LHC - v1.1\u001b[0m\n\u001b[0m                   ^\u001b[0m\n\u001b[0;31mSyntaxError\u001b[0m\u001b[0;31m:\u001b[0m invalid syntax\n"
     ]
    }
   ],
   "source": [
    "-- Campainha IoT - LHC - v1.1\n",
    "-- ESP Inicializa pinos, Configura e Conecta no Wifi, Cria conexão TCP\n",
    "-- e na resposta de um \"Tocou\" coloca o ESP em modo DeepSleep para economizar bateria.\n",
    "-- Se nenhuma resposta for recebida em 15 segundos coloca o ESP em DeepSleep.\n",
    "led_pin = 3\n",
    "status_led = gpio.LOW\n",
    "ip_servidor = \"192.168.1.10\"\n",
    "ip_campainha = \"192.168.1.20\"\n",
    "voltagem=3333\n",
    " \n",
    "function desliga_circuito()\n",
    "    print(\"Colocando ESP em Deep Sleep\")\n",
    "    node.dsleep(0)\n",
    "end\n",
    " \n",
    "function read_voltage()\n",
    "    -- Desconecta do wifi para poder ler a voltagem de alimentação do ESP.\n",
    "    wifi.sta.disconnect()\n",
    " \n",
    "    voltagem = adc.readvdd33()            \n",
    "    print(\"Voltagem: \"..voltagem)\n",
    " \n",
    "    -- Inicializa o Wifi e conecta no servidor\n",
    "    print(\"Inicializando WiFi\")\n",
    "    init_wifi()\n",
    "end\n",
    " \n",
    "function pisca_led()\n",
    "    gpio.write(led_pin, status_led)\n",
    " \n",
    "    if status_led == gpio.LOW then\n",
    "        status_led = gpio.HIGH\n",
    "    else\n",
    "        status_led = gpio.LOW\n",
    "    end\n",
    "end\n",
    " \n",
    "function init_pins()\n",
    "    gpio.mode(led_pin, gpio.OUTPUT)\n",
    "    gpio.write(led_pin, status_led)\n",
    "end\n",
    " \n",
    "function init_wifi()\n",
    "    wifi.setmode(wifi.STATION)\n",
    "    wifi.sta.config(\"SSID\", \"password\")\n",
    "    wifi.sta.connect()\n",
    "    wifi.sta.setip({ip=ip_campainha,netmask=\"255.255.255.0\",gateway=\"192.168.1.1\"})\n",
    " \n",
    "    -- Aguarda conexão com Wifi antes de enviar o request.\n",
    "    function try_connect()        \n",
    "        if (wifi.sta.status() == 5) then\n",
    "            tmr.stop(0)\n",
    "            print(\"Conectado, mandando request\")\n",
    "            manda_request()\n",
    "            -- Se nenhuma confirmação for recebida em 15 segundos, desliga o ESP.\n",
    "            tmr.alarm(2,15000,0, desliga_circuito)\n",
    "        else\n",
    "            print(\"Conectando...\")\n",
    "        end\n",
    "    end\n",
    " \n",
    "    tmr.alarm(0,1000,1, function() try_connect() end )\n",
    "end\n",
    " \n",
    "function manda_request()\n",
    "    tmr.alarm(1, 200, 1, pisca_led)\n",
    "    print(\"Request enviado\")\n",
    "    -- Cria a conexão TCP \n",
    "    conn=net.createConnection(net.TCP,false)\n",
    "    -- Envia o toque da campainha e voltagem para o servidor\n",
    "    conn:on(\"connection\", function(conn)\n",
    "    conn:send(\"GET /?bateria=\"  ..voltagem.. \" HTTP/1.0\\r\\n\\r\\n\")\n",
    "    end)\n",
    " \n",
    "    -- Se receber \"Tocou\" do servidor, desliga o ESP.\n",
    "    conn:on(\"receive\", function(conn, data)\n",
    "        if data:find(\"Tocou\") ~= nil then\n",
    "            desliga_circuito()\n",
    "        end\n",
    "    end)\n",
    " \n",
    "    -- Conectar no servidor\n",
    "    conn:connect(9999,ip_servidor)\n",
    " \n",
    "end\n",
    " \n",
    "print(\"Inicializando pinos\")\n",
    "init_pins()\n",
    " \n",
    "print (\"Lendo voltagem\")\n",
    "read_voltage()"
   ]
  },
  {
   "cell_type": "markdown",
   "metadata": {
    "collapsed": true
   },
   "source": [
    "* Server Local : Runing soun local area.\n",
    "* Program Python"
   ]
  },
  {
   "cell_type": "code",
   "execution_count": null,
   "metadata": {
    "collapsed": true
   },
   "outputs": [],
   "source": [
    "# !/usr/bin/python2\n",
    " \n",
    "import time\n",
    "import BaseHTTPServer\n",
    "import os\n",
    "import random\n",
    "import string\n",
    "import requests\n",
    "from urlparse import parse_qs, urlparse\n",
    " \n",
    "HOST_NAME = '0.0.0.0'\n",
    "PORT_NUMBER = 9999\n",
    "# A variável MP3_DIR será construida tendo como base o diretório HOME do usuário + Music/Campainha\n",
    "# (e.g: /home/usuario/Music/Campainha)\n",
    "MP3_DIR = os.path.join(os.getenv('HOME'), 'Music', 'Campainha')\n",
    "VALID_CHARS = set(string.ascii_letters + string.digits + '_.')\n",
    "CHAVE_THINGSPEAK = 'XYZ11ZYX99XYZ1XX'\n",
    "# Salva o arquivo de log no diretório do usuário (e.g: /home/usuário/campainha.log)\n",
    "ARQUIVO_LOG = os.path.join(os.getenv('HOME'), 'campainha.log')\n",
    " \n",
    " \n",
    "def filtra(mp3):\n",
    "    if not mp3.endswith('.mp3'):\n",
    "        return False\n",
    "    for c in mp3:\n",
    "        if not c in VALID_CHARS:\n",
    "            return False\n",
    "    return True\n",
    " \n",
    " \n",
    "def log(msg, output_file=None):\n",
    "    if output_file is None:\n",
    "        output_file = open(ARQUIVO_LOG, 'a')\n",
    " \n",
    "    output_file.write('%s: %s\\n' % (time.asctime(), msg))\n",
    "    output_file.flush()\n",
    " \n",
    " \n",
    "class MyHandler(BaseHTTPServer.BaseHTTPRequestHandler):\n",
    "    def do_GET(s):\n",
    "        s.send_header(\"Content-type\", \"text/plain\")\n",
    " \n",
    "        query = urlparse(s.path).query\n",
    "        if not query:\n",
    "            s.send_response(404)\n",
    "            s.end_headers()\n",
    "            s.wfile.write('Not found')\n",
    "            return\n",
    " \n",
    "        components = dict(qc.split('=') for qc in query.split('&'))\n",
    "        if not 'bateria' in components:\n",
    "            s.send_response(404)\n",
    "            s.end_headers()\n",
    "            s.wfile.write('Not found')\n",
    "            return\n",
    " \n",
    "        s.send_response(200)\n",
    "        s.end_headers()\n",
    " \n",
    "        s.wfile.write('Tocou')\n",
    "        s.wfile.flush()\n",
    " \n",
    "        log(\"Atualizando thingspeak\")\n",
    "        r = requests.post('https://api.thingspeak.com/update',\n",
    "            data={'api_key': CHAVE_THINGSPEAK, 'field1': components['bateria']})\n",
    "        log(\"Thingspeak retornou: %d\" % r.status_code)\n",
    " \n",
    "        log(\"Tocando MP3\")\n",
    "        mp3s = [f for f in os.listdir(MP3_DIR) if filtra(f)]\n",
    "        mp3 = random.choice(mp3s)\n",
    "        os.system(\"mpv \" + os.path.join(MP3_DIR, mp3))\n",
    " \n",
    "if __name__ == '__main__':\n",
    "    server_class = BaseHTTPServer.HTTPServer\n",
    "    httpd = server_class((HOST_NAME, PORT_NUMBER), MyHandler)\n",
    "    log(\"Server Starts - %s:%s\" % (HOST_NAME, PORT_NUMBER))\n",
    "    try:\n",
    "        httpd.serve_forever()\n",
    "    except KeyboardInterrupt:\n",
    "        pass\n",
    "    httpd.server_close()\n",
    "    log(\"Server Stops - %s:%s\" % (HOST_NAME, PORT_NUMBER))"
   ]
  },
  {
   "cell_type": "markdown",
   "metadata": {
    "collapsed": true
   },
   "source": [
    "## Export database from dashaboard about device IoT\n",
    "* Arquivo csv"
   ]
  },
  {
   "cell_type": "code",
   "execution_count": null,
   "metadata": {
    "collapsed": true
   },
   "outputs": [],
   "source": [
    "import numpy as np"
   ]
  },
  {
   "cell_type": "code",
   "execution_count": 2,
   "metadata": {
    "collapsed": true
   },
   "outputs": [],
   "source": [
    "import csv"
   ]
  },
  {
   "cell_type": "code",
   "execution_count": 3,
   "metadata": {
    "collapsed": false
   },
   "outputs": [
    {
     "name": "stdout",
     "output_type": "stream",
     "text": [
      "created_at,entry_id,field1,x,amp\n",
      "2017-01-06, 22:49:19, UTC, 380, 3238\n",
      "2017-01-07, 14:31:19, UTC, 381, 3238\n",
      "2017-01-07, 15:32:59, UTC, 382, 3234\n",
      "2017-01-07, 17:33:27, UTC, 383, 3238\n",
      "2017-01-07, 20:02:41, UTC, 384, 3230\n",
      "2017-01-08, 16:04:56, UTC, 385, 3222\n",
      "2017-01-08, 20:07:52, UTC, 386, 3211\n",
      "2017-01-08, 21:49:05, UTC, 387, 3237\n",
      "2017-01-08, 22:49:15, UTC, 388, 3238\n",
      "2017-01-10, 20:37:57, UTC, 389, 3238\n",
      "2017-01-10, 21:02:21, UTC, 390, 3238\n",
      "2017-01-10, 21:08:35, UTC, 391, 3238\n",
      "2017-01-10, 21:27:09, UTC, 392, 3237\n",
      "2017-01-10, 21:30:44, UTC, 393, 3238\n",
      "2017-01-10, 21:35:02, UTC, 394, 3236\n",
      "2017-01-10, 21:51:12, UTC, 395, 3235\n",
      "2017-01-11, 21:06:39, UTC, 396, 3236\n",
      "2017-01-11, 21:25:03, UTC, 397, 3235\n",
      "2017-01-12, 13:07:17, UTC, 398, 3231\n",
      "2017-01-12, 13:07:51, UTC, 399, 3230\n",
      "2017-01-12, 18:47:26, UTC, 400, 3230\n",
      "2017-01-12, 18:48:13, UTC, 401, 3230\n",
      "2017-01-12, 18:49:18, UTC, 402, 3230\n",
      "2017-01-12, 20:56:32, UTC, 403, 3230\n",
      "2017-01-14, 11:15:14, UTC, 404, 3226\n",
      "2017-01-14, 11:15:42, UTC, 405, 3226\n",
      "2017-01-22, 22:19:29, UTC, 406, 3206\n",
      "2017-01-23, 21:13:22, UTC, 407, 3204\n",
      "2017-01-23, 21:18:54, UTC, 408, 3207\n",
      "2017-01-23, 21:28:57, UTC, 409, 3205\n",
      "2017-01-24, 21:20:48, UTC, 410, 3204\n",
      "2017-01-24, 21:32:20, UTC, 411, 3203\n",
      "2017-01-24, 21:40:18, UTC, 412, 3204\n",
      "2017-01-25, 18:41:05, UTC, 413, 3204\n",
      "2017-01-26, 16:29:37, UTC, 414, 3197\n",
      "2017-01-26, 21:59:48, UTC, 415, 3203\n",
      "2017-01-27, 00:49:57, UTC, 416, 3202\n",
      "2017-01-29, 18:10:08, UTC, 417, 3191\n",
      "2017-01-31, 22:47:38, UTC, 418, 3192\n",
      "2017-02-01, 23:25:51, UTC, 419, 3196\n",
      "2017-02-01, 23:26:15, UTC, 420, 3190\n",
      "2017-02-02, 21:42:21, UTC, 421, 3190\n",
      "2017-02-04, 12:00:49, UTC, 422, 3189\n",
      "2017-02-04, 14:04:45, UTC, 423, 3187\n",
      "2017-02-04, 15:29:49, UTC, 424, 3196\n",
      "2017-02-04, 15:45:48, UTC, 425, 3196\n"
     ]
    }
   ],
   "source": [
    "with open('database.csv', 'rb') as csvfile:\n",
    "    spamreader = csv.reader(csvfile, delimiter=' ', quotechar='|')\n",
    "    for row in spamreader:\n",
    "        print ', '.join(row)"
   ]
  },
  {
   "cell_type": "code",
   "execution_count": null,
   "metadata": {
    "collapsed": true
   },
   "outputs": [],
   "source": []
  },
  {
   "cell_type": "markdown",
   "metadata": {
    "collapsed": true
   },
   "source": [
    "Method"
   ]
  },
  {
   "cell_type": "markdown",
   "metadata": {
    "collapsed": true
   },
   "source": [
    "Conclusion"
   ]
  },
  {
   "cell_type": "code",
   "execution_count": null,
   "metadata": {
    "collapsed": true
   },
   "outputs": [],
   "source": [
    "References"
   ]
  }
 ],
 "metadata": {
  "kernelspec": {
   "display_name": "Python 2",
   "language": "python",
   "name": "python2"
  },
  "language_info": {
   "codemirror_mode": {
    "name": "ipython",
    "version": 2
   },
   "file_extension": ".py",
   "mimetype": "text/x-python",
   "name": "python",
   "nbconvert_exporter": "python",
   "pygments_lexer": "ipython2",
   "version": "2.7.13"
  }
 },
 "nbformat": 4,
 "nbformat_minor": 2
}
