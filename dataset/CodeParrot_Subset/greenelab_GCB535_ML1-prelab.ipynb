{
 "cells": [
  {
   "cell_type": "markdown",
   "metadata": {
    "collapsed": false
   },
   "source": [
    "# Welcome to Machine Learning!\n",
    "\n",
    "This is the section of the class where we learn how to make a computer look at our data and identify aspects of the data that we didn't know to look for. The first section of this module begins with videos that give a brief background and introduction. In the following units, we'll start putting this vocabulary to use!"
   ]
  },
  {
   "cell_type": "markdown",
   "metadata": {
    "collapsed": false
   },
   "source": [
    "## Video 1: Introduction\n",
    "\n",
    "You can find Casey's introduction to machine learning for GCB 535 here: https://youtu.be/Cj_giNsKZYc"
   ]
  },
  {
   "cell_type": "markdown",
   "metadata": {
    "collapsed": false
   },
   "source": [
    "## Video 2: Types of Machine Learning Methods\n",
    "\n",
    "You can find Casey's discussion of different classes of machine learning methods here: https://youtu.be/4n2m3bLY2ps"
   ]
  },
  {
   "cell_type": "markdown",
   "metadata": {
    "collapsed": false
   },
   "source": [
    "### Prelab Questions:"
   ]
  },
  {
   "cell_type": "markdown",
   "metadata": {
    "collapsed": false
   },
   "source": [
    "_Q1: What type of question would you address with an unsupervised algorithm?_"
   ]
  },
  {
   "cell_type": "markdown",
   "metadata": {
    "collapsed": false
   },
   "source": [
   ]
  },
  {
   "cell_type": "markdown",
   "metadata": {
    "collapsed": false
   },
   "source": [
    "_Q2: Would you use a supervised or unsupervised algorithm to find genes involved in mitochondrial biogenesis if you have already identified a few genes that play a role in the process?_"
   ]
  },
  {
   "cell_type": "markdown",
   "metadata": {
    "collapsed": false
   },
   "source": [
   ]
  },
  {
   "cell_type": "markdown",
   "metadata": {
    "collapsed": false
   },
   "source": [
    "_Q3: Why?_"
   ]
  },
  {
   "cell_type": "markdown",
   "metadata": {
    "collapsed": false
   },
   "source": [
   ]
  },
  {
   "cell_type": "markdown",
   "metadata": {
    "collapsed": false
   },
   "source": [
    "_Q4: For the situation described in Q2, what are the Features, Examples, Labels, and Predictions?_"
   ]
  },
  {
   "cell_type": "markdown",
   "metadata": {
    "collapsed": false
   },
   "source": [
   ]
  },
  {
   "cell_type": "markdown",
   "metadata": {
    "collapsed": false
   },
   "source": [
    "## Video 3: Example of Supervised Machine Learning\n",
    "\n",
    "You can find Casey's discussion how you might structure an analysis to use a supervised algorithm to predict the effective therapeutic dose of a drug here: https://youtu.be/9N19ogr9mZc"
   ]
  },
  {
   "cell_type": "markdown",
   "metadata": {
    "collapsed": false
   },
   "source": [
    "_Q5: Why are the samples in Video 2 features, while the samples here are examples?_"
   ]
  },
  {
   "cell_type": "markdown",
   "metadata": {
    "collapsed": false
   },
   "source": [
   ]
  },
  {
   "cell_type": "markdown",
   "metadata": {
    "collapsed": false
   },
   "source": [
    "## Video 4: Example of Unupervised Machine Learning\n",
    "\n",
    "You can find Casey's discussion how you might look for disease subtypes with unsupervised algorithms here: https://youtu.be/y400v_AAJSE"
   ]
  },
  {
   "cell_type": "markdown",
   "metadata": {
    "collapsed": false
   },
   "source": [
    "_Q6: What are the Features, Examples and Labels for the question discussed in Video 4?_"
   ]
  },
  {
   "cell_type": "markdown",
   "metadata": {
    "collapsed": false
   },
   "source": [
   ]
  },
  {
   "cell_type": "markdown",
   "metadata": {
    "collapsed": false
   },
   "source": [
    "# _k_-Means Clustering\n",
    "\n",
    "Let's meet our first machine learning algorithm: k-means clustering. K-means has been used to identify subtypes of disease. For example, we discuss [this paper by Tothill et al.](http://www.ncbi.nlm.nih.gov/pubmed/18698038) in our k-means introduction video. Before you dive into the nuts and bolts of an implementation of k-means clustering, let's try to get an intuitive understanding of how this method works: https://youtu.be/qL7TBaMtooM\n",
    "\n",
    "\n",
    "\n"
   ]
  },
  {
   "cell_type": "markdown",
   "metadata": {
    "collapsed": false
   },
   "source": [
    "_Q7: Is k-means clustering a supervised or unsupervised algorithm?_"
   ]
  },
  {
   "cell_type": "markdown",
   "metadata": {
    "collapsed": false
   },
   "source": [
   ]
  },
  {
   "cell_type": "markdown",
   "metadata": {
    "collapsed": false
   },
   "source": [
    "### k-Means Demo Code:\n",
    "\n",
    "Now we're actually going to use some code that will perform k-means clustering. First we need to get some python packages that we're going to use out of the way."
   ]
  },
  {
   "cell_type": "code",
   "execution_count": 0,
   "metadata": {
    "collapsed": false
   },
   "outputs": [
   ],
   "source": [
    "%matplotlib inline\n",
    "# this crazy line lets us make figures in an ipython notebook\n",
    "\n",
    "import random\n",
    "import sys\n",
    "from math import sqrt\n",
    "\n",
    "import matplotlib.pyplot as plt\n",
    "import numpy as np"
   ]
  },
  {
   "cell_type": "markdown",
   "metadata": {
    "collapsed": false
   },
   "source": [
    "The next function is used to assign an observation to the centroid that is nearest to it."
   ]
  },
  {
   "cell_type": "code",
   "execution_count": 0,
   "metadata": {
    "collapsed": true
   },
   "outputs": [
   ],
   "source": [
    "def assign_nearest(centroids, point):\n",
    "    \"\"\"\n",
    "    assigns the point to its nearest centroid\n",
    "    \n",
    "    params:\n",
    "    centroids - a list of centroids, each of which has 2 dimensions\n",
    "    point - a point, which has two dimensions\n",
    "    \n",
    "    returns:\n",
    "    the index of the centroid the point is closest to.\n",
    "    \"\"\"\n",
    "    nearest_idx = 0\n",
    "    nearest_dist = sys.float_info.max  # largest float on your computer\n",
    "    for i in range(len(centroids)):\n",
    "        # sqrt((x1-x2)^2 + (y1-y2)^2)\n",
    "        dist = sqrt((centroids[i][0]-point[0])**2 + (centroids[i][1]-point[1])**2)\n",
    "        if dist < nearest_dist:  # smallest distance thus far\n",
    "            nearest_idx = i\n",
    "            nearest_dist = dist\n",
    "    \n",
    "    return nearest_idx"
   ]
  },
  {
   "cell_type": "markdown",
   "metadata": {
    "collapsed": false
   },
   "source": [
    "The next function actually performs k-means clustering. You need to understand how the algorithm works at the level of the video lecture. You don't need to understand every line of this, but you should feel free to dive in if you're interested!"
   ]
  },
  {
   "cell_type": "code",
   "execution_count": 0,
   "metadata": {
    "collapsed": true
   },
   "outputs": [
   ],
   "source": [
    "def kmeans(data, k):\n",
    "    \"\"\"\n",
    "    performs k-means clustering for two-dimensional data.\n",
    "    \n",
    "    params:\n",
    "    data - A numpy array of shape N, 2\n",
    "    k - The number of clusters.\n",
    "    \n",
    "    returns:\n",
    "    a dictionary with three elements\n",
    "        - ['centroids']: a list of the final centroid positions.\n",
    "        - ['members']: a list [one per centroid] of the points assigned to\n",
    "          that centroid at the conclusion of clustering.\n",
    "        - ['paths']: a list [one per centroid] of lists [one per iteration]\n",
    "          containing the points occupied by each centroid.\n",
    "    \"\"\"\n",
    "    \n",
    "    # http://docs.scipy.org/doc/numpy-1.10.0/reference/generated/numpy.ndarray.shape.html#numpy.ndarray.shape\n",
    "    # .shape returns the size of the input numpy array in each dimension\n",
    "    # if there are not 2 dimensions, we can't handle it here.\n",
    "    if data.shape[1] != 2:\n",
    "        return 'This implementation only supports two dimensional data.'\n",
    "    if data.shape[0] < k:\n",
    "        return 'This implementation requires at least as many points as clusters.'\n",
    "    \n",
    "    # pick random points as initial centroids\n",
    "    centroids = []\n",
    "    for x in random.sample(data, k):\n",
    "        # note the use of tuples here\n",
    "        centroids.append(tuple(x.tolist()))\n",
    "        \n",
    "    paths = []\n",
    "    for i in range(k):\n",
    "        paths.append([centroids[i],])\n",
    "    \n",
    "    # we'll store all previous states\n",
    "    # so if we ever hit the same point again we know to stop\n",
    "    previous_states = set()\n",
    "    \n",
    "    # continue until we repeat the same centroid positions\n",
    "    assignments = None\n",
    "    while not tuple(centroids) in previous_states:\n",
    "        previous_states.add(tuple(centroids))\n",
    "        assignments = []\n",
    "        for point in data:\n",
    "            assignments.append(assign_nearest(centroids, point))\n",
    "        \n",
    "        centroids_sum = [] # Make a list for each centroid to store position sum\n",
    "        centroids_n = [] # Make a list for each centroid to store counts\n",
    "        for i in range(k):\n",
    "            centroids_sum.append((0,0))\n",
    "            centroids_n.append(0)\n",
    "            \n",
    "        for i in range(len(assignments)):\n",
    "            centroid = assignments[i]\n",
    "            centroids_n[centroid] += 1  # found a new member of this centroid\n",
    "            # add the point\n",
    "            centroids_sum[centroid] = (centroids_sum[centroid][0] + data[i][0],\n",
    "                                       centroids_sum[centroid][1] + data[i][1])\n",
    "        \n",
    "        for i in range(k):\n",
    "            new_centroid = (centroids_sum[i][0]/centroids_n[i], centroids_sum[i][1]/centroids_n[i])\n",
    "            centroids[i] = new_centroid\n",
    "            paths[i].append(new_centroid)\n",
    "        \n",
    "    r_dict = {}\n",
    "    r_dict['centroids'] = centroids\n",
    "    r_dict['paths'] = paths\n",
    "    r_dict['members'] = assignments\n",
    "    return r_dict\n",
    "    "
   ]
  },
  {
   "cell_type": "markdown",
   "metadata": {
    "collapsed": false
   },
   "source": [
    "This next cell is full of plotting code. It uses something called [matplotlib](http://matplotlib.org/)\n",
    "to show kmeans clustering. Specifically it shows the path centroids took,\n",
    "where they ended up, and which points were assigned to them. Feel free\n",
    "to take a look at this, but understanding it goes beyond the scope of the\n",
    "class."
   ]
  },
  {
   "cell_type": "code",
   "execution_count": 0,
   "metadata": {
    "collapsed": true
   },
   "outputs": [
   ],
   "source": [
    "def plot_km(km, points):\n",
    "    \"\"\"\n",
    "    Plots the results of a kmeans run.\n",
    "    \n",
    "    params:\n",
    "    km - a kmeans result object that contains centroids, paths, and members\n",
    "    \n",
    "    returns:\n",
    "    a matplotlib figure object\n",
    "    \"\"\"\n",
    "    \n",
    "    (xmin, ymin) = np.amin(points, axis=0)\n",
    "    (xmax, ymax) = np.amax(points, axis=0)\n",
    "    \n",
    "\n",
    "    plt.figure(1)\n",
    "    plt.clf()\n",
    "    plt.plot(points[:, 0], points[:, 1], 'k.', markersize=2)\n",
    "    \n",
    "    for path in km['paths']:\n",
    "        nppath = np.asarray(path)\n",
    "        plt.plot(nppath[:, 0], nppath[:, 1])\n",
    "\n",
    "    # Plot the calculated centroids as a red X\n",
    "    centroids = np.asarray(km['centroids'])\n",
    "    plt.scatter(centroids[:, 0], centroids[:, 1],\n",
    "                marker='x', s=169, linewidths=3,\n",
    "                color='r', zorder=10)\n",
    "\n",
    "    plt.title('K-means clustering of simulated data.\\n'\n",
    "              'estimated (red), path (lines)')\n",
    "    plt.xlim(xmin, xmax)\n",
    "    plt.ylim(ymin, ymax)\n",
    "    plt.xticks(())\n",
    "    plt.yticks(())\n",
    "    plt.yticks(())\n",
    "    plt.show()"
   ]
  },
  {
   "cell_type": "markdown",
   "metadata": {
    "collapsed": false
   },
   "source": [
    "The next line will load a file of data using the [numpy](http://www.numpy.org/) function [loadtxt](https://docs.scipy.org/doc/numpy/reference/generated/numpy.loadtxt.html). We've created a population of points."
   ]
  },
  {
   "cell_type": "code",
   "execution_count": 0,
   "metadata": {
    "collapsed": false
   },
   "outputs": [
   ],
   "source": [
    "pop = np.loadtxt('kmeans-population.csv', delimiter=',')"
   ]
  },
  {
   "cell_type": "markdown",
   "metadata": {
    "collapsed": false
   },
   "source": [
    "Now we can use the k-means function to cluster! In this case, we're saying we want to find three clusters."
   ]
  },
  {
   "cell_type": "code",
   "execution_count": 0,
   "metadata": {
    "collapsed": false
   },
   "outputs": [
   ],
   "source": [
    "km_result = kmeans(pop, 3)"
   ]
  },
  {
   "cell_type": "markdown",
   "metadata": {
    "collapsed": false
   },
   "source": [
    "Now we can plot the results!"
   ]
  },
  {
   "cell_type": "code",
   "execution_count": 0,
   "metadata": {
    "collapsed": false
   },
   "outputs": [
   ],
   "source": [
    "plot_km(km_result, pop)"
   ]
  },
  {
   "cell_type": "markdown",
   "metadata": {
    "collapsed": false
   },
   "source": [
    "Woo! You're done with this prelab! Feel free to run the kmeans clustering and plotting lines a few times to see how the algorithm works. For our in class exercise, we're going to perform k-means clustering in an exercise we call _The Duck Strikes Back_."
   ]
  },
  {
   "cell_type": "markdown",
   "metadata": {
    "collapsed": false
   },
   "source": [
    "## Extra Information\n",
    "\n",
    "The k-means implementation above is functional and could be used in practice. However, much more optimized implementation is available in the scikit learn package that we're going to use for the supervised machine learning applications in this course. For more information on using that implementation, check out the documentation: http://scikit-learn.org/stable/modules/generated/sklearn.cluster.KMeans.html"
   ]
  },
  {
   "cell_type": "code",
   "execution_count": 0,
   "metadata": {
    "collapsed": true
   },
   "outputs": [
   ],
   "source": [
   ]
  }
 ],
 "metadata": {
  "kernelspec": {
   "display_name": "Python 2 (SageMath)",
   "language": "python",
   "name": "python2"
  },
  "language_info": {
   "codemirror_mode": {
    "name": "ipython",
    "version": 2
   },
   "file_extension": ".py",
   "mimetype": "text/x-python",
   "name": "python",
   "nbconvert_exporter": "python",
   "pygments_lexer": "ipython2",
   "version": "2.7.14"
  },
  "name": "ML1-prelab.ipynb"
 },
 "nbformat": 4,
 "nbformat_minor": 0
}