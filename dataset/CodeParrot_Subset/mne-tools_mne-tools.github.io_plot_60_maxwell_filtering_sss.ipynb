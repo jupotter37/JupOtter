{
  "cells": [
    {
      "cell_type": "code",
      "execution_count": null,
      "metadata": {
        "collapsed": false
      },
      "outputs": [],
      "source": [
        "%matplotlib inline"
      ]
    },
    {
      "cell_type": "markdown",
      "metadata": {},
      "source": [
        "\n\nSignal-space separation (SSS) and Maxwell filtering\n===================================================\n\nThis tutorial covers reducing environmental noise and compensating for head\nmovement with SSS and Maxwell filtering.\n   :depth: 2\n\nAs usual we'll start by importing the modules we need, loading some\n`example data <sample-dataset>`, and cropping it to save on memory:\n"
      ]
    },
    {
      "cell_type": "code",
      "execution_count": null,
      "metadata": {
        "collapsed": false
      },
      "outputs": [],
      "source": [
        "import os\nimport mne\n\nsample_data_folder = mne.datasets.sample.data_path()\nsample_data_raw_file = os.path.join(sample_data_folder, 'MEG', 'sample',\n                                    'sample_audvis_raw.fif')\nraw = mne.io.read_raw_fif(sample_data_raw_file, verbose=False)\nraw.crop(tmax=60).load_data()"
      ]
    },
    {
      "cell_type": "markdown",
      "metadata": {},
      "source": [
        "Background on SSS and Maxwell filtering\n^^^^^^^^^^^^^^^^^^^^^^^^^^^^^^^^^^^^^^^\n\nSignal-space separation (SSS) [1]_ [2]_ is a technique based on the physics\nof electromagnetic fields. SSS separates the measured signal into components\nattributable to sources *inside* the measurement volume of the sensor array\n(the *internal components*), and components attributable to sources *outside*\nthe measurement volume (the *external components*). The internal and external\ncomponents are linearly independent, so it is possible to simply discard the\nexternal components to reduce environmental noise. *Maxwell filtering* is a\nrelated procedure that omits the higher-order components of the internal\nsubspace, which are dominated by sensor noise. Typically, Maxwell filtering\nand SSS are performed together (in MNE-Python they are implemented together\nin a single function).\n\nLike `SSP <tut-artifact-ssp>`, SSS is a form of projection. Whereas SSP\nempirically determines a noise subspace based on data (empty-room recordings,\nEOG or ECG activity, etc) and projects the measurements onto a subspace\northogonal to the noise, SSS mathematically constructs the external and\ninternal subspaces from `spherical harmonics`_ and reconstructs the sensor\nsignals using only the internal subspace (i.e., does an oblique projection).\n\n<div class=\"alert alert-danger\"><h4>Warning</h4><p>Maxwell filtering was originally developed for Elekta Neuromag\u00ae systems,\n    and should be considered *experimental* for non-Neuromag data. See the\n    Notes section of the :func:`~mne.preprocessing.maxwell_filter` docstring\n    for details.</p></div>\n\nThe MNE-Python implementation of SSS / Maxwell filtering currently provides\nthe following features:\n\n- Bad channel reconstruction\n- Cross-talk cancellation\n- Fine calibration correction\n- tSSS\n- Coordinate frame translation\n- Regularization of internal components using information theory\n- Raw movement compensation (using head positions estimated by MaxFilter)\n- cHPI subtraction (see :func:`mne.chpi.filter_chpi`)\n- Handling of 3D (in addition to 1D) fine calibration files\n- Epoch-based movement compensation as described in [1]_ through\n  :func:`mne.epochs.average_movements`\n- **Experimental** processing of data from (un-compensated) non-Elekta\n  systems\n\n\nUsing SSS and Maxwell filtering in MNE-Python\n^^^^^^^^^^^^^^^^^^^^^^^^^^^^^^^^^^^^^^^^^^^^^\n\nFor optimal use of SSS with data from Elekta Neuromag\u00ae systems, you should\nprovide the path to the fine calibration file (which encodes site-specific\ninformation about sensor orientation and calibration) as well as a crosstalk\ncompensation file (which reduces interference between Elekta's co-located\nmagnetometer and paired gradiometer sensor units).\n\n"
      ]
    },
    {
      "cell_type": "code",
      "execution_count": null,
      "metadata": {
        "collapsed": false
      },
      "outputs": [],
      "source": [
        "fine_cal_file = os.path.join(sample_data_folder, 'SSS', 'sss_cal_mgh.dat')\ncrosstalk_file = os.path.join(sample_data_folder, 'SSS', 'ct_sparse_mgh.fif')"
      ]
    },
    {
      "cell_type": "markdown",
      "metadata": {},
      "source": [
        "Before we perform SSS we'll set a couple additional bad channels \u2014 ``MEG\n2313`` has some DC jumps and ``MEG 1032`` has some large-ish low-frequency\ndrifts. After that, performing SSS and Maxwell filtering is done with a\nsingle call to :func:`~mne.preprocessing.maxwell_filter`, with the crosstalk\nand fine calibration filenames provided (if available):\n\n"
      ]
    },
    {
      "cell_type": "code",
      "execution_count": null,
      "metadata": {
        "collapsed": false
      },
      "outputs": [],
      "source": [
        "raw.info['bads'].extend(['MEG 1032', 'MEG 2313'])\nraw_sss = mne.preprocessing.maxwell_filter(raw, cross_talk=crosstalk_file,\n                                           calibration=fine_cal_file)"
      ]
    },
    {
      "cell_type": "markdown",
      "metadata": {},
      "source": [
        "<div class=\"alert alert-danger\"><h4>Warning</h4><p>Automatic bad channel detection is not currently implemented. It is\n     critical to mark bad channels in ``raw.info['bads']`` *before* calling\n     :func:`~mne.preprocessing.maxwell_filter` in order to prevent bad\n     channel noise from spreading.</p></div>\n\nTo see the effect, we can plot the data before and after SSS / Maxwell\nfiltering.\n\n"
      ]
    },
    {
      "cell_type": "code",
      "execution_count": null,
      "metadata": {
        "collapsed": false
      },
      "outputs": [],
      "source": [
        "raw.pick(['meg']).plot(duration=2, butterfly=True)\nraw_sss.pick(['meg']).plot(duration=2, butterfly=True)"
      ]
    },
    {
      "cell_type": "markdown",
      "metadata": {},
      "source": [
        "Notice that channels marked as \"bad\" have been effectively repaired by SSS,\neliminating the need to perform `interpolation <tut-bad-channels>`.\nThe heartbeat artifact has also been substantially reduced.\n\nThe :func:`~mne.preprocessing.maxwell_filter` function has parameters\n``int_order`` and ``ext_order`` for setting the order of the spherical\nharmonic expansion of the interior and exterior components; the default\nvalues are appropriate for most use cases. Additional parameters include\n``coord_frame`` and ``origin`` for controlling the coordinate frame (\"head\"\nor \"meg\") and the origin of the sphere; the defaults are appropriate for most\nstudies that include digitization of the scalp surface / electrodes. See the\ndocumentation of :func:`~mne.preprocessing.maxwell_filter` for details.\n\n\nSpatiotemporal SSS (tSSS)\n^^^^^^^^^^^^^^^^^^^^^^^^^\n\nAn assumption of SSS is that the measurement volume (the spherical shell\nwhere the sensors are physically located) is free of electromagnetic sources.\nThe thickness of this source-free measurement shell should be 4-8 cm for SSS\nto perform optimally. In practice, there may be sources falling within that\nmeasurement volume; these can often be mitigated by using Spatiotemporal\nSignal Space Separation (tSSS) [2]_. tSSS works by looking for temporal\ncorrelation between components of the internal and external subspaces, and\nprojecting out any components that are common to the internal and external\nsubspaces. The projection is done in an analogous way to\n`SSP <tut-artifact-ssp>`, except that the noise vector is computed\nacross time points instead of across sensors.\n\nTo use tSSS in MNE-Python, pass a time (in seconds) to the parameter\n``st_duration`` of :func:`~mne.preprocessing.maxwell_filter`. This will\ndetermine the \"chunk duration\" over which to compute the temporal projection.\nThe chunk duration effectively acts as a high-pass filter with a cutoff\nfrequency of $\\frac{1}{\\mathtt{st\\_duration}}~\\mathrm{Hz}$; this\neffective high-pass has an important consequence:\n\n- In general, larger values of ``st_duration`` are better (provided that your\n  computer has sufficient memory) because larger values of ``st_duration``\n  will have a smaller effect on the signal.\n\nIf the chunk duration does not evenly divide your data length, the final\n(shorter) chunk will be added to the prior chunk before filtering, leading\nto slightly different effective filtering for the combined chunk (the\neffective cutoff frequency differing at most by a factor of 2). If you need\nto ensure identical processing of all analyzed chunks, either:\n\n- choose a chunk duration that evenly divides your data length (only\n  recommended if analyzing a single subject or run), or\n\n- include at least ``2 * st_duration`` of post-experiment recording time at\n  the end of the :class:`~mne.io.Raw` object, so that the data you intend to\n  further analyze is guaranteed not to be in the final or penultimate chunks.\n\nAdditional parameters affecting tSSS include ``st_correlation`` (to set the\ncorrelation value above which correlated internal and external components\nwill be projected out) and ``st_only`` (to apply only the temporal projection\nwithout also performing SSS and Maxwell filtering). See the docstring of\n:func:`~mne.preprocessing.maxwell_filter` for details.\n\n\nMovement compensation\n^^^^^^^^^^^^^^^^^^^^^\n\nIf you have information about subject head position relative to the sensors\n(i.e., continuous head position indicator coils, or :term:`cHPI <hpi>`), SSS\ncan take that into account when projecting sensor data onto the internal\nsubspace. Head position data is loaded with the\n:func:`~mne.chpi.read_head_pos` function. The `example data\n<sample-dataset>` doesn't include cHPI, so here we'll load a :file:`.pos`\nfile used for testing, just to demonstrate:\n\n"
      ]
    },
    {
      "cell_type": "code",
      "execution_count": null,
      "metadata": {
        "collapsed": false
      },
      "outputs": [],
      "source": [
        "head_pos_file = os.path.join(mne.datasets.testing.data_path(), 'SSS',\n                             'test_move_anon_raw.pos')\nhead_pos = mne.chpi.read_head_pos(head_pos_file)\nmne.viz.plot_head_positions(head_pos, mode='traces')"
      ]
    },
    {
      "cell_type": "markdown",
      "metadata": {},
      "source": [
        "The cHPI data file could also be passed as the ``head_pos`` parameter of\n:func:`~mne.preprocessing.maxwell_filter`. Not only would this account for\nmovement within a given recording session, but also would effectively\nnormalize head position across different measurement sessions and subjects.\nSee `here <example-movement-comp>` for an extended example of applying\nmovement compensation during Maxwell filtering / SSS. Another option is to\napply movement compensation when averaging epochs into an\n:class:`~mne.Evoked` instance, using the :func:`mne.epochs.average_movements`\nfunction.\n\nEach of these approaches requires time-varying estimates of head position,\nwhich is obtained from MaxFilter using the ``-headpos`` and ``-hp``\narguments (see the MaxFilter manual for details).\n\n\nCaveats to using SSS / Maxwell filtering\n^^^^^^^^^^^^^^^^^^^^^^^^^^^^^^^^^^^^^^^^\n\n1. There are patents related to the Maxwell filtering algorithm, which may\n   legally preclude using it in commercial applications. More details are\n   provided in the documentation of\n   :func:`~mne.preprocessing.maxwell_filter`.\n\n2. SSS works best when both magnetometers and gradiometers are present, and\n   is most effective when gradiometers are planar (due to the need for very\n   accurate sensor geometry and fine calibration information). Thus its\n   performance is dependent on the MEG system used to collect the data.\n\n\nReferences\n^^^^^^^^^^\n\n.. [1] Taulu S and Kajola M. (2005). Presentation of electromagnetic\n       multichannel data: The signal space separation method. *J Appl Phys*\n       97, 124905 1-10. https://doi.org/10.1063/1.1935742\n\n.. [2] Taulu S and Simola J. (2006). Spatiotemporal signal space separation\n       method for rejecting nearby interference in MEG measurements. *Phys\n       Med Biol* 51, 1759-1768. https://doi.org/10.1088/0031-9155/51/7/008\n\n\n.. LINKS\n\n\n"
      ]
    }
  ],
  "metadata": {
    "kernelspec": {
      "display_name": "Python 3",
      "language": "python",
      "name": "python3"
    },
    "language_info": {
      "codemirror_mode": {
        "name": "ipython",
        "version": 3
      },
      "file_extension": ".py",
      "mimetype": "text/x-python",
      "name": "python",
      "nbconvert_exporter": "python",
      "pygments_lexer": "ipython3",
      "version": "3.7.4"
    }
  },
  "nbformat": 4,
  "nbformat_minor": 0
}