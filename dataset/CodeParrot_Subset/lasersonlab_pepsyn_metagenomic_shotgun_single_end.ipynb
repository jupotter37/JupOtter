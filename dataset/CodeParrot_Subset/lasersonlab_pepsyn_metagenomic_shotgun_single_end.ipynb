{
 "cells": [
  {
   "cell_type": "markdown",
   "metadata": {},
   "source": [
    "# Shotgun metagenomic single end library"
   ]
  },
  {
   "cell_type": "code",
   "execution_count": 33,
   "metadata": {
    "collapsed": true
   },
   "outputs": [],
   "source": [
    "from os.path import join as pjoin\n",
    "import matplotlib.pyplot as plt\n",
    "import numpy as np\n",
    "import scipy as sp\n",
    "import pandas as pd\n",
    "import skbio\n",
    "import skbio.diversity\n",
    "import seaborn as sns\n",
    "import random"
   ]
  },
  {
   "cell_type": "code",
   "execution_count": 34,
   "metadata": {
    "collapsed": true
   },
   "outputs": [],
   "source": [
    "plt.style.use('seaborn')\n",
    "%matplotlib inline"
   ]
  },
  {
   "cell_type": "markdown",
   "metadata": {},
   "source": [
    "### Dataset"
   ]
  },
  {
   "cell_type": "markdown",
   "metadata": {},
   "source": [
    "CONFIGURATION (edit the following cell)"
   ]
  },
  {
   "cell_type": "code",
   "execution_count": 35,
   "metadata": {
    "collapsed": true
   },
   "outputs": [],
   "source": [
    "raw_reads_path = '/Users/laserson/Downloads/BaseSpace/Metagenomiclibraries-39688650/2-48080086/mms500_S2_L001_R1_001.fastq.gz'\n",
    "analysis_dir_path = '/Users/laserson/tmp/phip_analysis/phip-7/phip-7-meta'\n",
    "sample_prefix = 'mms500_S2_L001_R1_001'"
   ]
  },
  {
   "cell_type": "code",
   "execution_count": 36,
   "metadata": {
    "collapsed": true
   },
   "outputs": [],
   "source": [
    "vector_depleted_reads_path = pjoin(analysis_dir_path, 'vector_depleted', sample_prefix + '.fastq')\n",
    "centrifuge_aln_path = pjoin(analysis_dir_path, 'centrifuge', sample_prefix + '.centrifuge_aln.tsv')\n",
    "kraken_report_path = pjoin(analysis_dir_path, 'centrifuge', sample_prefix + '.centrifuge_kreport.tsv')\n",
    "clustered_read_counts_path = pjoin(analysis_dir_path, 'clustered_reads', sample_prefix + '.clustered.counts.tsv')\n",
    "aligned_clustered_read_counts_path = pjoin(analysis_dir_path, 'clustered_reads', sample_prefix + '.aligned_clustered.counts.tsv')"
   ]
  },
  {
   "cell_type": "markdown",
   "metadata": {
    "collapsed": true
   },
   "source": [
    "## Statistics"
   ]
  },
  {
   "cell_type": "markdown",
   "metadata": {},
   "source": [
    "Number of raw reads"
   ]
  },
  {
   "cell_type": "code",
   "execution_count": 37,
   "metadata": {},
   "outputs": [
    {
     "data": {
      "text/plain": [
       "2784264"
      ]
     },
     "execution_count": 37,
     "metadata": {},
     "output_type": "execute_result"
    }
   ],
   "source": [
    "_ = !cat {raw_reads_path} | gunzip | wc -l\n",
    "raw_read_count = int(_[0]) // 4\n",
    "raw_read_count"
   ]
  },
  {
   "cell_type": "markdown",
   "metadata": {},
   "source": [
    "Number of non-vector reads"
   ]
  },
  {
   "cell_type": "code",
   "execution_count": 38,
   "metadata": {},
   "outputs": [
    {
     "data": {
      "text/plain": [
       "2774446"
      ]
     },
     "execution_count": 38,
     "metadata": {},
     "output_type": "execute_result"
    }
   ],
   "source": [
    "_ = !cat {vector_depleted_reads_path} | wc -l\n",
    "non_vector_read_count = int(_[0]) // 4\n",
    "non_vector_read_count"
   ]
  },
  {
   "cell_type": "markdown",
   "metadata": {},
   "source": [
    "Fraction non-vector reads"
   ]
  },
  {
   "cell_type": "code",
   "execution_count": 39,
   "metadata": {},
   "outputs": [
    {
     "data": {
      "text/plain": [
       "0.9964737539256335"
      ]
     },
     "execution_count": 39,
     "metadata": {},
     "output_type": "execute_result"
    }
   ],
   "source": [
    "non_vector_read_count / raw_read_count"
   ]
  },
  {
   "cell_type": "markdown",
   "metadata": {},
   "source": [
    "Number non-vector reads successfully aligned by centrifuge"
   ]
  },
  {
   "cell_type": "code",
   "execution_count": 40,
   "metadata": {},
   "outputs": [
    {
     "data": {
      "text/plain": [
       "1464878"
      ]
     },
     "execution_count": 40,
     "metadata": {},
     "output_type": "execute_result"
    }
   ],
   "source": [
    "_ = !cat {centrifuge_aln_path} | wc -l\n",
    "aligned_read_count = int(_[0]) // 2\n",
    "aligned_read_count"
   ]
  },
  {
   "cell_type": "markdown",
   "metadata": {},
   "source": [
    "Fraction non-vector reads aligned by centrifuge"
   ]
  },
  {
   "cell_type": "code",
   "execution_count": 41,
   "metadata": {},
   "outputs": [
    {
     "data": {
      "text/plain": [
       "0.5279893715718381"
      ]
     },
     "execution_count": 41,
     "metadata": {},
     "output_type": "execute_result"
    }
   ],
   "source": [
    "aligned_read_count / non_vector_read_count"
   ]
  },
  {
   "cell_type": "markdown",
   "metadata": {},
   "source": [
    "## Diversity"
   ]
  },
  {
   "cell_type": "code",
   "execution_count": 42,
   "metadata": {},
   "outputs": [],
   "source": [
    "clustered_read_counts = pd.read_csv(clustered_read_counts_path, sep='\\t', header=None, usecols=[0]).values.ravel()\n",
    "aligned_clustered_read_counts = pd.read_csv(aligned_clustered_read_counts_path, sep='\\t', header=None, usecols=[0]).values.ravel()"
   ]
  },
  {
   "cell_type": "markdown",
   "metadata": {},
   "source": [
    "**Observed**"
   ]
  },
  {
   "cell_type": "code",
   "execution_count": 43,
   "metadata": {},
   "outputs": [
    {
     "data": {
      "text/plain": [
       "14853"
      ]
     },
     "execution_count": 43,
     "metadata": {},
     "output_type": "execute_result"
    }
   ],
   "source": [
    "len(clustered_read_counts)"
   ]
  },
  {
   "cell_type": "code",
   "execution_count": 44,
   "metadata": {},
   "outputs": [
    {
     "data": {
      "text/plain": [
       "7907"
      ]
     },
     "execution_count": 44,
     "metadata": {},
     "output_type": "execute_result"
    }
   ],
   "source": [
    "len(aligned_clustered_read_counts)"
   ]
  },
  {
   "cell_type": "markdown",
   "metadata": {},
   "source": [
    "**Chao1**"
   ]
  },
  {
   "cell_type": "code",
   "execution_count": 45,
   "metadata": {},
   "outputs": [
    {
     "data": {
      "text/plain": [
       "68222.442748091606"
      ]
     },
     "execution_count": 45,
     "metadata": {},
     "output_type": "execute_result"
    }
   ],
   "source": [
    "skbio.diversity.alpha_diversity('chao1', clustered_read_counts)[0]"
   ]
  },
  {
   "cell_type": "code",
   "execution_count": 46,
   "metadata": {},
   "outputs": [
    {
     "data": {
      "text/plain": [
       "29560.926174496642"
      ]
     },
     "execution_count": 46,
     "metadata": {},
     "output_type": "execute_result"
    }
   ],
   "source": [
    "skbio.diversity.alpha_diversity('chao1', aligned_clustered_read_counts)[0]"
   ]
  },
  {
   "cell_type": "markdown",
   "metadata": {},
   "source": [
    "**Shannon entropy effective population size**"
   ]
  },
  {
   "cell_type": "code",
   "execution_count": 47,
   "metadata": {},
   "outputs": [
    {
     "data": {
      "text/plain": [
       "416.16611571375267"
      ]
     },
     "execution_count": 47,
     "metadata": {},
     "output_type": "execute_result"
    }
   ],
   "source": [
    "2 ** skbio.diversity.alpha_diversity('shannon', clustered_read_counts)[0]"
   ]
  },
  {
   "cell_type": "code",
   "execution_count": 48,
   "metadata": {},
   "outputs": [
    {
     "data": {
      "text/plain": [
       "329.18536381797173"
      ]
     },
     "execution_count": 48,
     "metadata": {},
     "output_type": "execute_result"
    }
   ],
   "source": [
    "2 ** skbio.diversity.alpha_diversity('shannon', aligned_clustered_read_counts)[0]"
   ]
  },
  {
   "cell_type": "markdown",
   "metadata": {},
   "source": [
    "**Distribution of \"clone\" counts**"
   ]
  },
  {
   "cell_type": "code",
   "execution_count": 49,
   "metadata": {},
   "outputs": [
    {
     "data": {
      "image/png": "[encoded data removed]",
      "text/plain": [
       "<matplotlib.figure.Figure at 0x11da347f0>"
      ]
     },
     "metadata": {},
     "output_type": "display_data"
    }
   ],
   "source": [
    "fig, ax = plt.subplots()\n",
    "_ = ax.hist(clustered_read_counts, bins=50)"
   ]
  },
  {
   "cell_type": "code",
   "execution_count": 50,
   "metadata": {},
   "outputs": [
    {
     "data": {
      "image/png": "[encoded data removed]",
      "text/plain": [
       "<matplotlib.figure.Figure at 0x11dc85c18>"
      ]
     },
     "metadata": {},
     "output_type": "display_data"
    }
   ],
   "source": [
    "fig, ax = plt.subplots()\n",
    "_ = ax.hist(clustered_read_counts, bins=50, log=True)"
   ]
  },
  {
   "cell_type": "code",
   "execution_count": 51,
   "metadata": {},
   "outputs": [
    {
     "data": {
      "text/plain": [
       "[(0, 1),\n",
       " None,\n",
       " (1.0, 154701.99999999991),\n",
       " <matplotlib.text.Text at 0x11d93b9b0>,\n",
       " <matplotlib.text.Text at 0x11da5e4a8>]"
      ]
     },
     "execution_count": 51,
     "metadata": {},
     "output_type": "execute_result"
    },
    {
     "data": {
      "image/png": "[encoded data removed]",
      "text/plain": [
       "<matplotlib.figure.Figure at 0x11d8f37f0>"
      ]
     },
     "metadata": {},
     "output_type": "display_data"
    }
   ],
   "source": [
    "hist, bin_edges = np.histogram(clustered_read_counts, bins=np.logspace(0, np.log10(clustered_read_counts.max()), 100))\n",
    "cdf = np.cumsum(hist) / hist.sum()\n",
    "fig, ax = plt.subplots()\n",
    "ax.hlines(cdf, bin_edges[:-1], bin_edges[1:])\n",
    "ax.set(title='clustered read count distrib', xlabel='count', xlim=[bin_edges[0], bin_edges[-1]], ylim=[0, 1], xscale='log')"
   ]
  },
  {
   "cell_type": "code",
   "execution_count": 52,
   "metadata": {},
   "outputs": [
    {
     "data": {
      "image/png": "[encoded data removed]",
      "text/plain": [
       "<matplotlib.figure.Figure at 0x11dcab978>"
      ]
     },
     "metadata": {},
     "output_type": "display_data"
    }
   ],
   "source": [
    "fig, ax = plt.subplots()\n",
    "_ = ax.hist(aligned_clustered_read_counts, bins=50)"
   ]
  },
  {
   "cell_type": "code",
   "execution_count": 53,
   "metadata": {},
   "outputs": [
    {
     "data": {
      "image/png": "[encoded data removed]",
      "text/plain": [
       "<matplotlib.figure.Figure at 0x11d5e2cf8>"
      ]
     },
     "metadata": {},
     "output_type": "display_data"
    }
   ],
   "source": [
    "fig, ax = plt.subplots()\n",
    "_ = ax.hist(aligned_clustered_read_counts, bins=50, log=True)"
   ]
  },
  {
   "cell_type": "code",
   "execution_count": 54,
   "metadata": {},
   "outputs": [
    {
     "data": {
      "text/plain": [
       "[(0, 1),\n",
       " None,\n",
       " (1.0, 154701.99999999991),\n",
       " <matplotlib.text.Text at 0x118c98eb8>,\n",
       " <matplotlib.text.Text at 0x118cb6d30>]"
      ]
     },
     "execution_count": 54,
     "metadata": {},
     "output_type": "execute_result"
    },
    {
     "data": {
      "image/png": "[encoded data removed]",
      "text/plain": [
       "<matplotlib.figure.Figure at 0x118c5b438>"
      ]
     },
     "metadata": {},
     "output_type": "display_data"
    }
   ],
   "source": [
    "hist, bin_edges = np.histogram(aligned_clustered_read_counts, bins=np.logspace(0, np.log10(clustered_read_counts.max()), 100))\n",
    "cdf = np.cumsum(hist) / hist.sum()\n",
    "fig, ax = plt.subplots()\n",
    "ax.hlines(cdf, bin_edges[:-1], bin_edges[1:])\n",
    "ax.set(title='clustered ALIGNED read count distrib', xlabel='count', xlim=[bin_edges[0], bin_edges[-1]], ylim=[0, 1], xscale='log')"
   ]
  },
  {
   "cell_type": "markdown",
   "metadata": {},
   "source": [
    "## Taxonomic distribution"
   ]
  },
  {
   "cell_type": "code",
   "execution_count": 55,
   "metadata": {
    "collapsed": true
   },
   "outputs": [],
   "source": [
    "names = ['pct_reads_clade', 'num_reads_clade', 'num_reads_taxon', 'rank', 'tax_id', 'tax_name']\n",
    "converters = {'tax_name': lambda x: x.strip()}\n",
    "td = pd.read_csv(kraken_report_path, sep='\\t', header=None, names=names, converters=converters)"
   ]
  },
  {
   "cell_type": "code",
   "execution_count": 56,
   "metadata": {},
   "outputs": [],
   "source": [
    "all_colors = sns.husl_palette(1000)\n",
    "state = random.getstate()\n",
    "random.seed(0)\n",
    "random.shuffle(all_colors)\n",
    "random.setstate(state)\n",
    "\n",
    "def top_hits(df):\n",
    "    return df.sort_values('pct_reads_clade', ascending=False, inplace=False)[:20]\n",
    "\n",
    "def plot_distribution(df):\n",
    "    fig, ax = plt.subplots()\n",
    "    left = 0.2\n",
    "    heights = df['pct_reads_clade'].values\n",
    "    bottoms = [0] + list(np.cumsum(heights))[:-1]\n",
    "    colors = all_colors[:len(heights)]\n",
    "    labels = df['tax_name'].values\n",
    "    for h, b, c, l in zip(heights, bottoms, colors, labels):\n",
    "        if h > 0:\n",
    "            ax.bar(left, h, width=0.4, bottom=b, color=c, label=l)\n",
    "    ax.set(xlim=(0, 1))\n",
    "    ax.legend()"
   ]
  },
  {
   "cell_type": "markdown",
   "metadata": {},
   "source": [
    "Species"
   ]
  },
  {
   "cell_type": "code",
   "execution_count": 57,
   "metadata": {},
   "outputs": [
    {
     "data": {
      "text/html": [
       "<div>\n",
       "<style>\n",
       "    .dataframe thead tr:only-child th {\n",
       "        text-align: right;\n",
       "    }\n",
       "\n",
       "    .dataframe thead th {\n",
       "        text-align: left;\n",
       "    }\n",
       "\n",
       "    .dataframe tbody tr th {\n",
       "        vertical-align: top;\n",
       "    }\n",
       "</style>\n",
       "<table border=\"1\" class=\"dataframe\">\n",
       "  <thead>\n",
       "    <tr style=\"text-align: right;\">\n",
       "      <th></th>\n",
       "      <th>pct_reads_clade</th>\n",
       "      <th>num_reads_clade</th>\n",
       "      <th>num_reads_taxon</th>\n",
       "      <th>rank</th>\n",
       "      <th>tax_id</th>\n",
       "      <th>tax_name</th>\n",
       "    </tr>\n",
       "  </thead>\n",
       "  <tbody>\n",
       "    <tr>\n",
       "      <th>11</th>\n",
       "      <td>49.81</td>\n",
       "      <td>1459206</td>\n",
       "      <td>1459206</td>\n",
       "      <td>S</td>\n",
       "      <td>28116</td>\n",
       "      <td>Bacteroides ovatus</td>\n",
       "    </tr>\n",
       "    <tr>\n",
       "      <th>12</th>\n",
       "      <td>4.94</td>\n",
       "      <td>144700</td>\n",
       "      <td>144700</td>\n",
       "      <td>S</td>\n",
       "      <td>818</td>\n",
       "      <td>Bacteroides thetaiotaomicron</td>\n",
       "    </tr>\n",
       "    <tr>\n",
       "      <th>13</th>\n",
       "      <td>4.27</td>\n",
       "      <td>124995</td>\n",
       "      <td>124995</td>\n",
       "      <td>S</td>\n",
       "      <td>821</td>\n",
       "      <td>Bacteroides vulgatus</td>\n",
       "    </tr>\n",
       "    <tr>\n",
       "      <th>14</th>\n",
       "      <td>2.47</td>\n",
       "      <td>72277</td>\n",
       "      <td>72277</td>\n",
       "      <td>S</td>\n",
       "      <td>1796613</td>\n",
       "      <td>Bacteroides sp. I48</td>\n",
       "    </tr>\n",
       "    <tr>\n",
       "      <th>15</th>\n",
       "      <td>1.56</td>\n",
       "      <td>45653</td>\n",
       "      <td>45653</td>\n",
       "      <td>S</td>\n",
       "      <td>246787</td>\n",
       "      <td>Bacteroides cellulosilyticus</td>\n",
       "    </tr>\n",
       "    <tr>\n",
       "      <th>22</th>\n",
       "      <td>1.31</td>\n",
       "      <td>38427</td>\n",
       "      <td>38427</td>\n",
       "      <td>S</td>\n",
       "      <td>823</td>\n",
       "      <td>Parabacteroides distasonis</td>\n",
       "    </tr>\n",
       "    <tr>\n",
       "      <th>16</th>\n",
       "      <td>1.12</td>\n",
       "      <td>32889</td>\n",
       "      <td>32889</td>\n",
       "      <td>S</td>\n",
       "      <td>357276</td>\n",
       "      <td>Bacteroides dorei</td>\n",
       "    </tr>\n",
       "    <tr>\n",
       "      <th>17</th>\n",
       "      <td>0.81</td>\n",
       "      <td>23662</td>\n",
       "      <td>23662</td>\n",
       "      <td>S</td>\n",
       "      <td>817</td>\n",
       "      <td>Bacteroides fragilis</td>\n",
       "    </tr>\n",
       "    <tr>\n",
       "      <th>32</th>\n",
       "      <td>0.53</td>\n",
       "      <td>15634</td>\n",
       "      <td>15634</td>\n",
       "      <td>S</td>\n",
       "      <td>28118</td>\n",
       "      <td>Odoribacter splanchnicus</td>\n",
       "    </tr>\n",
       "    <tr>\n",
       "      <th>98</th>\n",
       "      <td>0.29</td>\n",
       "      <td>8537</td>\n",
       "      <td>8537</td>\n",
       "      <td>S</td>\n",
       "      <td>1834196</td>\n",
       "      <td>Lachnoclostridium sp. YL32</td>\n",
       "    </tr>\n",
       "    <tr>\n",
       "      <th>101</th>\n",
       "      <td>0.26</td>\n",
       "      <td>7751</td>\n",
       "      <td>7751</td>\n",
       "      <td>S</td>\n",
       "      <td>301301</td>\n",
       "      <td>Roseburia hominis</td>\n",
       "    </tr>\n",
       "    <tr>\n",
       "      <th>103</th>\n",
       "      <td>0.20</td>\n",
       "      <td>5786</td>\n",
       "      <td>5786</td>\n",
       "      <td>S</td>\n",
       "      <td>39491</td>\n",
       "      <td>[Eubacterium] rectale</td>\n",
       "    </tr>\n",
       "    <tr>\n",
       "      <th>108</th>\n",
       "      <td>0.10</td>\n",
       "      <td>3057</td>\n",
       "      <td>3057</td>\n",
       "      <td>S</td>\n",
       "      <td>292800</td>\n",
       "      <td>Flavonifractor plautii</td>\n",
       "    </tr>\n",
       "    <tr>\n",
       "      <th>141</th>\n",
       "      <td>0.10</td>\n",
       "      <td>2814</td>\n",
       "      <td>2814</td>\n",
       "      <td>S</td>\n",
       "      <td>97478</td>\n",
       "      <td>Lactobacillus mucosae</td>\n",
       "    </tr>\n",
       "    <tr>\n",
       "      <th>18</th>\n",
       "      <td>0.08</td>\n",
       "      <td>2204</td>\n",
       "      <td>2204</td>\n",
       "      <td>S</td>\n",
       "      <td>376805</td>\n",
       "      <td>Bacteroides salanitronis</td>\n",
       "    </tr>\n",
       "    <tr>\n",
       "      <th>303</th>\n",
       "      <td>0.08</td>\n",
       "      <td>2457</td>\n",
       "      <td>2457</td>\n",
       "      <td>S</td>\n",
       "      <td>1834205</td>\n",
       "      <td>Burkholderiales bacterium YL45</td>\n",
       "    </tr>\n",
       "    <tr>\n",
       "      <th>589</th>\n",
       "      <td>0.03</td>\n",
       "      <td>959</td>\n",
       "      <td>959</td>\n",
       "      <td>S</td>\n",
       "      <td>10710</td>\n",
       "      <td>Escherichia virus Lambda</td>\n",
       "    </tr>\n",
       "    <tr>\n",
       "      <th>583</th>\n",
       "      <td>0.03</td>\n",
       "      <td>977</td>\n",
       "      <td>977</td>\n",
       "      <td>S</td>\n",
       "      <td>32630</td>\n",
       "      <td>synthetic construct</td>\n",
       "    </tr>\n",
       "    <tr>\n",
       "      <th>35</th>\n",
       "      <td>0.02</td>\n",
       "      <td>658</td>\n",
       "      <td>658</td>\n",
       "      <td>S</td>\n",
       "      <td>214856</td>\n",
       "      <td>Alistipes finegoldii</td>\n",
       "    </tr>\n",
       "    <tr>\n",
       "      <th>25</th>\n",
       "      <td>0.01</td>\n",
       "      <td>310</td>\n",
       "      <td>310</td>\n",
       "      <td>S</td>\n",
       "      <td>397865</td>\n",
       "      <td>Barnesiella viscericola</td>\n",
       "    </tr>\n",
       "  </tbody>\n",
       "</table>\n",
       "</div>"
      ],
      "text/plain": [
       "     pct_reads_clade  num_reads_clade  num_reads_taxon rank   tax_id  \\\n",
       "11             49.81          1459206          1459206    S    28116   \n",
       "12              4.94           144700           144700    S      818   \n",
       "13              4.27           124995           124995    S      821   \n",
       "14              2.47            72277            72277    S  1796613   \n",
       "15              1.56            45653            45653    S   246787   \n",
       "22              1.31            38427            38427    S      823   \n",
       "16              1.12            32889            32889    S   357276   \n",
       "17              0.81            23662            23662    S      817   \n",
       "32              0.53            15634            15634    S    28118   \n",
       "98              0.29             8537             8537    S  1834196   \n",
       "101             0.26             7751             7751    S   301301   \n",
       "103             0.20             5786             5786    S    39491   \n",
       "108             0.10             3057             3057    S   292800   \n",
       "141             0.10             2814             2814    S    97478   \n",
       "18              0.08             2204             2204    S   376805   \n",
       "303             0.08             2457             2457    S  1834205   \n",
       "589             0.03              959              959    S    10710   \n",
       "583             0.03              977              977    S    32630   \n",
       "35              0.02              658              658    S   214856   \n",
       "25              0.01              310              310    S   397865   \n",
       "\n",
       "                           tax_name  \n",
       "11               Bacteroides ovatus  \n",
       "12     Bacteroides thetaiotaomicron  \n",
       "13             Bacteroides vulgatus  \n",
       "14              Bacteroides sp. I48  \n",
       "15     Bacteroides cellulosilyticus  \n",
       "22       Parabacteroides distasonis  \n",
       "16                Bacteroides dorei  \n",
       "17             Bacteroides fragilis  \n",
       "32         Odoribacter splanchnicus  \n",
       "98       Lachnoclostridium sp. YL32  \n",
       "101               Roseburia hominis  \n",
       "103           [Eubacterium] rectale  \n",
       "108          Flavonifractor plautii  \n",
       "141           Lactobacillus mucosae  \n",
       "18         Bacteroides salanitronis  \n",
       "303  Burkholderiales bacterium YL45  \n",
       "589        Escherichia virus Lambda  \n",
       "583             synthetic construct  \n",
       "35             Alistipes finegoldii  \n",
       "25          Barnesiella viscericola  "
      ]
     },
     "execution_count": 57,
     "metadata": {},
     "output_type": "execute_result"
    }
   ],
   "source": [
    "species = td[td['rank'] == 'S']\n",
    "top_hits(species)"
   ]
  },
  {
   "cell_type": "code",
   "execution_count": 58,
   "metadata": {},
   "outputs": [
    {
     "data": {
      "image/png": "[encoded data removed]",
      "text/plain": [
       "<matplotlib.figure.Figure at 0x11dcc37b8>"
      ]
     },
     "metadata": {},
     "output_type": "display_data"
    }
   ],
   "source": [
    "plot_distribution(species)"
   ]
  },
  {
   "cell_type": "markdown",
   "metadata": {},
   "source": [
    "Genus"
   ]
  },
  {
   "cell_type": "code",
   "execution_count": 59,
   "metadata": {},
   "outputs": [
    {
     "data": {
      "text/html": [
       "<div>\n",
       "<style>\n",
       "    .dataframe thead tr:only-child th {\n",
       "        text-align: right;\n",
       "    }\n",
       "\n",
       "    .dataframe thead th {\n",
       "        text-align: left;\n",
       "    }\n",
       "\n",
       "    .dataframe tbody tr th {\n",
       "        vertical-align: top;\n",
       "    }\n",
       "</style>\n",
       "<table border=\"1\" class=\"dataframe\">\n",
       "  <thead>\n",
       "    <tr style=\"text-align: right;\">\n",
       "      <th></th>\n",
       "      <th>pct_reads_clade</th>\n",
       "      <th>num_reads_clade</th>\n",
       "      <th>num_reads_taxon</th>\n",
       "      <th>rank</th>\n",
       "      <th>tax_id</th>\n",
       "      <th>tax_name</th>\n",
       "    </tr>\n",
       "  </thead>\n",
       "  <tbody>\n",
       "    <tr>\n",
       "      <th>10</th>\n",
       "      <td>65.06</td>\n",
       "      <td>1906011</td>\n",
       "      <td>271</td>\n",
       "      <td>G</td>\n",
       "      <td>816</td>\n",
       "      <td>Bacteroides</td>\n",
       "    </tr>\n",
       "    <tr>\n",
       "      <th>21</th>\n",
       "      <td>1.31</td>\n",
       "      <td>38427</td>\n",
       "      <td>0</td>\n",
       "      <td>G</td>\n",
       "      <td>375288</td>\n",
       "      <td>Parabacteroides</td>\n",
       "    </tr>\n",
       "    <tr>\n",
       "      <th>31</th>\n",
       "      <td>0.53</td>\n",
       "      <td>15634</td>\n",
       "      <td>0</td>\n",
       "      <td>G</td>\n",
       "      <td>283168</td>\n",
       "      <td>Odoribacter</td>\n",
       "    </tr>\n",
       "    <tr>\n",
       "      <th>97</th>\n",
       "      <td>0.29</td>\n",
       "      <td>8541</td>\n",
       "      <td>0</td>\n",
       "      <td>G</td>\n",
       "      <td>1506553</td>\n",
       "      <td>Lachnoclostridium</td>\n",
       "    </tr>\n",
       "    <tr>\n",
       "      <th>100</th>\n",
       "      <td>0.26</td>\n",
       "      <td>7751</td>\n",
       "      <td>0</td>\n",
       "      <td>G</td>\n",
       "      <td>841</td>\n",
       "      <td>Roseburia</td>\n",
       "    </tr>\n",
       "    <tr>\n",
       "      <th>107</th>\n",
       "      <td>0.10</td>\n",
       "      <td>3057</td>\n",
       "      <td>0</td>\n",
       "      <td>G</td>\n",
       "      <td>946234</td>\n",
       "      <td>Flavonifractor</td>\n",
       "    </tr>\n",
       "    <tr>\n",
       "      <th>140</th>\n",
       "      <td>0.10</td>\n",
       "      <td>2827</td>\n",
       "      <td>0</td>\n",
       "      <td>G</td>\n",
       "      <td>1578</td>\n",
       "      <td>Lactobacillus</td>\n",
       "    </tr>\n",
       "    <tr>\n",
       "      <th>588</th>\n",
       "      <td>0.03</td>\n",
       "      <td>966</td>\n",
       "      <td>6</td>\n",
       "      <td>G</td>\n",
       "      <td>186765</td>\n",
       "      <td>Lambdavirus</td>\n",
       "    </tr>\n",
       "    <tr>\n",
       "      <th>34</th>\n",
       "      <td>0.02</td>\n",
       "      <td>658</td>\n",
       "      <td>0</td>\n",
       "      <td>G</td>\n",
       "      <td>239759</td>\n",
       "      <td>Alistipes</td>\n",
       "    </tr>\n",
       "    <tr>\n",
       "      <th>197</th>\n",
       "      <td>0.01</td>\n",
       "      <td>256</td>\n",
       "      <td>0</td>\n",
       "      <td>G</td>\n",
       "      <td>1716</td>\n",
       "      <td>Corynebacterium</td>\n",
       "    </tr>\n",
       "    <tr>\n",
       "      <th>109</th>\n",
       "      <td>0.01</td>\n",
       "      <td>252</td>\n",
       "      <td>0</td>\n",
       "      <td>G</td>\n",
       "      <td>1392389</td>\n",
       "      <td>Intestinimonas</td>\n",
       "    </tr>\n",
       "    <tr>\n",
       "      <th>47</th>\n",
       "      <td>0.01</td>\n",
       "      <td>415</td>\n",
       "      <td>0</td>\n",
       "      <td>G</td>\n",
       "      <td>28250</td>\n",
       "      <td>Ornithobacterium</td>\n",
       "    </tr>\n",
       "    <tr>\n",
       "      <th>26</th>\n",
       "      <td>0.01</td>\n",
       "      <td>186</td>\n",
       "      <td>0</td>\n",
       "      <td>G</td>\n",
       "      <td>346096</td>\n",
       "      <td>Paludibacter</td>\n",
       "    </tr>\n",
       "    <tr>\n",
       "      <th>24</th>\n",
       "      <td>0.01</td>\n",
       "      <td>310</td>\n",
       "      <td>0</td>\n",
       "      <td>G</td>\n",
       "      <td>397864</td>\n",
       "      <td>Barnesiella</td>\n",
       "    </tr>\n",
       "    <tr>\n",
       "      <th>413</th>\n",
       "      <td>0.00</td>\n",
       "      <td>3</td>\n",
       "      <td>0</td>\n",
       "      <td>G</td>\n",
       "      <td>497</td>\n",
       "      <td>Psychrobacter</td>\n",
       "    </tr>\n",
       "    <tr>\n",
       "      <th>416</th>\n",
       "      <td>0.00</td>\n",
       "      <td>2</td>\n",
       "      <td>0</td>\n",
       "      <td>G</td>\n",
       "      <td>286</td>\n",
       "      <td>Pseudomonas</td>\n",
       "    </tr>\n",
       "    <tr>\n",
       "      <th>376</th>\n",
       "      <td>0.00</td>\n",
       "      <td>3</td>\n",
       "      <td>0</td>\n",
       "      <td>G</td>\n",
       "      <td>629</td>\n",
       "      <td>Yersinia</td>\n",
       "    </tr>\n",
       "    <tr>\n",
       "      <th>406</th>\n",
       "      <td>0.00</td>\n",
       "      <td>0</td>\n",
       "      <td>0</td>\n",
       "      <td>G</td>\n",
       "      <td>338</td>\n",
       "      <td>Xanthomonas</td>\n",
       "    </tr>\n",
       "    <tr>\n",
       "      <th>402</th>\n",
       "      <td>0.00</td>\n",
       "      <td>12</td>\n",
       "      <td>0</td>\n",
       "      <td>G</td>\n",
       "      <td>231454</td>\n",
       "      <td>Dyella</td>\n",
       "    </tr>\n",
       "    <tr>\n",
       "      <th>397</th>\n",
       "      <td>0.00</td>\n",
       "      <td>22</td>\n",
       "      <td>0</td>\n",
       "      <td>G</td>\n",
       "      <td>662</td>\n",
       "      <td>Vibrio</td>\n",
       "    </tr>\n",
       "  </tbody>\n",
       "</table>\n",
       "</div>"
      ],
      "text/plain": [
       "     pct_reads_clade  num_reads_clade  num_reads_taxon rank   tax_id  \\\n",
       "10             65.06          1906011              271    G      816   \n",
       "21              1.31            38427                0    G   375288   \n",
       "31              0.53            15634                0    G   283168   \n",
       "97              0.29             8541                0    G  1506553   \n",
       "100             0.26             7751                0    G      841   \n",
       "107             0.10             3057                0    G   946234   \n",
       "140             0.10             2827                0    G     1578   \n",
       "588             0.03              966                6    G   186765   \n",
       "34              0.02              658                0    G   239759   \n",
       "197             0.01              256                0    G     1716   \n",
       "109             0.01              252                0    G  1392389   \n",
       "47              0.01              415                0    G    28250   \n",
       "26              0.01              186                0    G   346096   \n",
       "24              0.01              310                0    G   397864   \n",
       "413             0.00                3                0    G      497   \n",
       "416             0.00                2                0    G      286   \n",
       "376             0.00                3                0    G      629   \n",
       "406             0.00                0                0    G      338   \n",
       "402             0.00               12                0    G   231454   \n",
       "397             0.00               22                0    G      662   \n",
       "\n",
       "              tax_name  \n",
       "10         Bacteroides  \n",
       "21     Parabacteroides  \n",
       "31         Odoribacter  \n",
       "97   Lachnoclostridium  \n",
       "100          Roseburia  \n",
       "107     Flavonifractor  \n",
       "140      Lactobacillus  \n",
       "588        Lambdavirus  \n",
       "34           Alistipes  \n",
       "197    Corynebacterium  \n",
       "109     Intestinimonas  \n",
       "47    Ornithobacterium  \n",
       "26        Paludibacter  \n",
       "24         Barnesiella  \n",
       "413      Psychrobacter  \n",
       "416        Pseudomonas  \n",
       "376           Yersinia  \n",
       "406        Xanthomonas  \n",
       "402             Dyella  \n",
       "397             Vibrio  "
      ]
     },
     "execution_count": 59,
     "metadata": {},
     "output_type": "execute_result"
    }
   ],
   "source": [
    "genuses = td[td['rank'] == 'G']\n",
    "top_hits(genuses)"
   ]
  },
  {
   "cell_type": "code",
   "execution_count": 60,
   "metadata": {},
   "outputs": [
    {
     "data": {
      "image/png": "[encoded data removed]",
      "text/plain": [
       "<matplotlib.figure.Figure at 0x11dc04470>"
      ]
     },
     "metadata": {},
     "output_type": "display_data"
    }
   ],
   "source": [
    "plot_distribution(genuses)"
   ]
  },
  {
   "cell_type": "markdown",
   "metadata": {},
   "source": [
    "Family"
   ]
  },
  {
   "cell_type": "code",
   "execution_count": 61,
   "metadata": {},
   "outputs": [
    {
     "data": {
      "text/html": [
       "<div>\n",
       "<style>\n",
       "    .dataframe thead tr:only-child th {\n",
       "        text-align: right;\n",
       "    }\n",
       "\n",
       "    .dataframe thead th {\n",
       "        text-align: left;\n",
       "    }\n",
       "\n",
       "    .dataframe tbody tr th {\n",
       "        vertical-align: top;\n",
       "    }\n",
       "</style>\n",
       "<table border=\"1\" class=\"dataframe\">\n",
       "  <thead>\n",
       "    <tr style=\"text-align: right;\">\n",
       "      <th></th>\n",
       "      <th>pct_reads_clade</th>\n",
       "      <th>num_reads_clade</th>\n",
       "      <th>num_reads_taxon</th>\n",
       "      <th>rank</th>\n",
       "      <th>tax_id</th>\n",
       "      <th>tax_name</th>\n",
       "    </tr>\n",
       "  </thead>\n",
       "  <tbody>\n",
       "    <tr>\n",
       "      <th>9</th>\n",
       "      <td>65.06</td>\n",
       "      <td>1906011</td>\n",
       "      <td>0</td>\n",
       "      <td>F</td>\n",
       "      <td>815</td>\n",
       "      <td>Bacteroidaceae</td>\n",
       "    </tr>\n",
       "    <tr>\n",
       "      <th>20</th>\n",
       "      <td>1.33</td>\n",
       "      <td>38948</td>\n",
       "      <td>0</td>\n",
       "      <td>F</td>\n",
       "      <td>171551</td>\n",
       "      <td>Porphyromonadaceae</td>\n",
       "    </tr>\n",
       "    <tr>\n",
       "      <th>96</th>\n",
       "      <td>0.75</td>\n",
       "      <td>22080</td>\n",
       "      <td>0</td>\n",
       "      <td>F</td>\n",
       "      <td>186803</td>\n",
       "      <td>Lachnospiraceae</td>\n",
       "    </tr>\n",
       "    <tr>\n",
       "      <th>30</th>\n",
       "      <td>0.53</td>\n",
       "      <td>15634</td>\n",
       "      <td>0</td>\n",
       "      <td>F</td>\n",
       "      <td>1853231</td>\n",
       "      <td>Odoribacteraceae</td>\n",
       "    </tr>\n",
       "    <tr>\n",
       "      <th>139</th>\n",
       "      <td>0.10</td>\n",
       "      <td>2827</td>\n",
       "      <td>0</td>\n",
       "      <td>F</td>\n",
       "      <td>33958</td>\n",
       "      <td>Lactobacillaceae</td>\n",
       "    </tr>\n",
       "    <tr>\n",
       "      <th>587</th>\n",
       "      <td>0.03</td>\n",
       "      <td>966</td>\n",
       "      <td>0</td>\n",
       "      <td>F</td>\n",
       "      <td>10699</td>\n",
       "      <td>Siphoviridae</td>\n",
       "    </tr>\n",
       "    <tr>\n",
       "      <th>33</th>\n",
       "      <td>0.02</td>\n",
       "      <td>658</td>\n",
       "      <td>0</td>\n",
       "      <td>F</td>\n",
       "      <td>171550</td>\n",
       "      <td>Rikenellaceae</td>\n",
       "    </tr>\n",
       "    <tr>\n",
       "      <th>46</th>\n",
       "      <td>0.01</td>\n",
       "      <td>423</td>\n",
       "      <td>0</td>\n",
       "      <td>F</td>\n",
       "      <td>49546</td>\n",
       "      <td>Flavobacteriaceae</td>\n",
       "    </tr>\n",
       "    <tr>\n",
       "      <th>196</th>\n",
       "      <td>0.01</td>\n",
       "      <td>256</td>\n",
       "      <td>0</td>\n",
       "      <td>F</td>\n",
       "      <td>1653</td>\n",
       "      <td>Corynebacteriaceae</td>\n",
       "    </tr>\n",
       "    <tr>\n",
       "      <th>396</th>\n",
       "      <td>0.00</td>\n",
       "      <td>22</td>\n",
       "      <td>0</td>\n",
       "      <td>F</td>\n",
       "      <td>641</td>\n",
       "      <td>Vibrionaceae</td>\n",
       "    </tr>\n",
       "    <tr>\n",
       "      <th>432</th>\n",
       "      <td>0.00</td>\n",
       "      <td>1</td>\n",
       "      <td>0</td>\n",
       "      <td>F</td>\n",
       "      <td>444</td>\n",
       "      <td>Legionellaceae</td>\n",
       "    </tr>\n",
       "    <tr>\n",
       "      <th>424</th>\n",
       "      <td>0.00</td>\n",
       "      <td>3</td>\n",
       "      <td>0</td>\n",
       "      <td>F</td>\n",
       "      <td>72275</td>\n",
       "      <td>Alteromonadaceae</td>\n",
       "    </tr>\n",
       "    <tr>\n",
       "      <th>415</th>\n",
       "      <td>0.00</td>\n",
       "      <td>2</td>\n",
       "      <td>0</td>\n",
       "      <td>F</td>\n",
       "      <td>135621</td>\n",
       "      <td>Pseudomonadaceae</td>\n",
       "    </tr>\n",
       "    <tr>\n",
       "      <th>412</th>\n",
       "      <td>0.00</td>\n",
       "      <td>3</td>\n",
       "      <td>0</td>\n",
       "      <td>F</td>\n",
       "      <td>468</td>\n",
       "      <td>Moraxellaceae</td>\n",
       "    </tr>\n",
       "    <tr>\n",
       "      <th>405</th>\n",
       "      <td>0.00</td>\n",
       "      <td>0</td>\n",
       "      <td>0</td>\n",
       "      <td>F</td>\n",
       "      <td>32033</td>\n",
       "      <td>Xanthomonadaceae</td>\n",
       "    </tr>\n",
       "    <tr>\n",
       "      <th>401</th>\n",
       "      <td>0.00</td>\n",
       "      <td>12</td>\n",
       "      <td>0</td>\n",
       "      <td>F</td>\n",
       "      <td>1775411</td>\n",
       "      <td>Rhodanobacteraceae</td>\n",
       "    </tr>\n",
       "    <tr>\n",
       "      <th>436</th>\n",
       "      <td>0.00</td>\n",
       "      <td>0</td>\n",
       "      <td>0</td>\n",
       "      <td>F</td>\n",
       "      <td>72276</td>\n",
       "      <td>Ectothiorhodospiraceae</td>\n",
       "    </tr>\n",
       "    <tr>\n",
       "      <th>375</th>\n",
       "      <td>0.00</td>\n",
       "      <td>5</td>\n",
       "      <td>0</td>\n",
       "      <td>F</td>\n",
       "      <td>1903411</td>\n",
       "      <td>Yersiniaceae</td>\n",
       "    </tr>\n",
       "    <tr>\n",
       "      <th>392</th>\n",
       "      <td>0.00</td>\n",
       "      <td>0</td>\n",
       "      <td>0</td>\n",
       "      <td>F</td>\n",
       "      <td>1903412</td>\n",
       "      <td>Hafniaceae</td>\n",
       "    </tr>\n",
       "    <tr>\n",
       "      <th>388</th>\n",
       "      <td>0.00</td>\n",
       "      <td>3</td>\n",
       "      <td>0</td>\n",
       "      <td>F</td>\n",
       "      <td>1903414</td>\n",
       "      <td>Morganellaceae</td>\n",
       "    </tr>\n",
       "  </tbody>\n",
       "</table>\n",
       "</div>"
      ],
      "text/plain": [
       "     pct_reads_clade  num_reads_clade  num_reads_taxon rank   tax_id  \\\n",
       "9              65.06          1906011                0    F      815   \n",
       "20              1.33            38948                0    F   171551   \n",
       "96              0.75            22080                0    F   186803   \n",
       "30              0.53            15634                0    F  1853231   \n",
       "139             0.10             2827                0    F    33958   \n",
       "587             0.03              966                0    F    10699   \n",
       "33              0.02              658                0    F   171550   \n",
       "46              0.01              423                0    F    49546   \n",
       "196             0.01              256                0    F     1653   \n",
       "396             0.00               22                0    F      641   \n",
       "432             0.00                1                0    F      444   \n",
       "424             0.00                3                0    F    72275   \n",
       "415             0.00                2                0    F   135621   \n",
       "412             0.00                3                0    F      468   \n",
       "405             0.00                0                0    F    32033   \n",
       "401             0.00               12                0    F  1775411   \n",
       "436             0.00                0                0    F    72276   \n",
       "375             0.00                5                0    F  1903411   \n",
       "392             0.00                0                0    F  1903412   \n",
       "388             0.00                3                0    F  1903414   \n",
       "\n",
       "                   tax_name  \n",
       "9            Bacteroidaceae  \n",
       "20       Porphyromonadaceae  \n",
       "96          Lachnospiraceae  \n",
       "30         Odoribacteraceae  \n",
       "139        Lactobacillaceae  \n",
       "587            Siphoviridae  \n",
       "33            Rikenellaceae  \n",
       "46        Flavobacteriaceae  \n",
       "196      Corynebacteriaceae  \n",
       "396            Vibrionaceae  \n",
       "432          Legionellaceae  \n",
       "424        Alteromonadaceae  \n",
       "415        Pseudomonadaceae  \n",
       "412           Moraxellaceae  \n",
       "405        Xanthomonadaceae  \n",
       "401      Rhodanobacteraceae  \n",
       "436  Ectothiorhodospiraceae  \n",
       "375            Yersiniaceae  \n",
       "392              Hafniaceae  \n",
       "388          Morganellaceae  "
      ]
     },
     "execution_count": 61,
     "metadata": {},
     "output_type": "execute_result"
    }
   ],
   "source": [
    "families = td[td['rank'] == 'F']\n",
    "top_hits(families)"
   ]
  },
  {
   "cell_type": "code",
   "execution_count": 62,
   "metadata": {},
   "outputs": [
    {
     "data": {
      "image/png": "[encoded data removed]",
      "text/plain": [
       "<matplotlib.figure.Figure at 0x11c60b2e8>"
      ]
     },
     "metadata": {},
     "output_type": "display_data"
    }
   ],
   "source": [
    "plot_distribution(families)"
   ]
  },
  {
   "cell_type": "markdown",
   "metadata": {},
   "source": [
    "Order"
   ]
  },
  {
   "cell_type": "code",
   "execution_count": 63,
   "metadata": {},
   "outputs": [
    {
     "data": {
      "text/html": [
       "<div>\n",
       "<style>\n",
       "    .dataframe thead tr:only-child th {\n",
       "        text-align: right;\n",
       "    }\n",
       "\n",
       "    .dataframe thead th {\n",
       "        text-align: left;\n",
       "    }\n",
       "\n",
       "    .dataframe tbody tr th {\n",
       "        vertical-align: top;\n",
       "    }\n",
       "</style>\n",
       "<table border=\"1\" class=\"dataframe\">\n",
       "  <thead>\n",
       "    <tr style=\"text-align: right;\">\n",
       "      <th></th>\n",
       "      <th>pct_reads_clade</th>\n",
       "      <th>num_reads_clade</th>\n",
       "      <th>num_reads_taxon</th>\n",
       "      <th>rank</th>\n",
       "      <th>tax_id</th>\n",
       "      <th>tax_name</th>\n",
       "    </tr>\n",
       "  </thead>\n",
       "  <tbody>\n",
       "    <tr>\n",
       "      <th>8</th>\n",
       "      <td>66.94</td>\n",
       "      <td>1961272</td>\n",
       "      <td>0</td>\n",
       "      <td>O</td>\n",
       "      <td>171549</td>\n",
       "      <td>Bacteroidales</td>\n",
       "    </tr>\n",
       "    <tr>\n",
       "      <th>95</th>\n",
       "      <td>0.87</td>\n",
       "      <td>25405</td>\n",
       "      <td>0</td>\n",
       "      <td>O</td>\n",
       "      <td>186802</td>\n",
       "      <td>Clostridiales</td>\n",
       "    </tr>\n",
       "    <tr>\n",
       "      <th>138</th>\n",
       "      <td>0.10</td>\n",
       "      <td>2858</td>\n",
       "      <td>0</td>\n",
       "      <td>O</td>\n",
       "      <td>186826</td>\n",
       "      <td>Lactobacillales</td>\n",
       "    </tr>\n",
       "    <tr>\n",
       "      <th>300</th>\n",
       "      <td>0.09</td>\n",
       "      <td>2600</td>\n",
       "      <td>0</td>\n",
       "      <td>O</td>\n",
       "      <td>80840</td>\n",
       "      <td>Burkholderiales</td>\n",
       "    </tr>\n",
       "    <tr>\n",
       "      <th>586</th>\n",
       "      <td>0.03</td>\n",
       "      <td>969</td>\n",
       "      <td>0</td>\n",
       "      <td>O</td>\n",
       "      <td>28883</td>\n",
       "      <td>Caudovirales</td>\n",
       "    </tr>\n",
       "    <tr>\n",
       "      <th>45</th>\n",
       "      <td>0.01</td>\n",
       "      <td>423</td>\n",
       "      <td>0</td>\n",
       "      <td>O</td>\n",
       "      <td>200644</td>\n",
       "      <td>Flavobacteriales</td>\n",
       "    </tr>\n",
       "    <tr>\n",
       "      <th>195</th>\n",
       "      <td>0.01</td>\n",
       "      <td>260</td>\n",
       "      <td>0</td>\n",
       "      <td>O</td>\n",
       "      <td>85007</td>\n",
       "      <td>Corynebacteriales</td>\n",
       "    </tr>\n",
       "    <tr>\n",
       "      <th>88</th>\n",
       "      <td>0.00</td>\n",
       "      <td>13</td>\n",
       "      <td>0</td>\n",
       "      <td>O</td>\n",
       "      <td>191411</td>\n",
       "      <td>Chlorobiales</td>\n",
       "    </tr>\n",
       "    <tr>\n",
       "      <th>477</th>\n",
       "      <td>0.00</td>\n",
       "      <td>1</td>\n",
       "      <td>0</td>\n",
       "      <td>O</td>\n",
       "      <td>204441</td>\n",
       "      <td>Rhodospirillales</td>\n",
       "    </tr>\n",
       "    <tr>\n",
       "      <th>357</th>\n",
       "      <td>0.00</td>\n",
       "      <td>55</td>\n",
       "      <td>0</td>\n",
       "      <td>O</td>\n",
       "      <td>91347</td>\n",
       "      <td>Enterobacterales</td>\n",
       "    </tr>\n",
       "    <tr>\n",
       "      <th>395</th>\n",
       "      <td>0.00</td>\n",
       "      <td>22</td>\n",
       "      <td>0</td>\n",
       "      <td>O</td>\n",
       "      <td>135623</td>\n",
       "      <td>Vibrionales</td>\n",
       "    </tr>\n",
       "    <tr>\n",
       "      <th>400</th>\n",
       "      <td>0.00</td>\n",
       "      <td>12</td>\n",
       "      <td>0</td>\n",
       "      <td>O</td>\n",
       "      <td>135614</td>\n",
       "      <td>Xanthomonadales</td>\n",
       "    </tr>\n",
       "    <tr>\n",
       "      <th>411</th>\n",
       "      <td>0.00</td>\n",
       "      <td>5</td>\n",
       "      <td>0</td>\n",
       "      <td>O</td>\n",
       "      <td>72274</td>\n",
       "      <td>Pseudomonadales</td>\n",
       "    </tr>\n",
       "    <tr>\n",
       "      <th>423</th>\n",
       "      <td>0.00</td>\n",
       "      <td>3</td>\n",
       "      <td>0</td>\n",
       "      <td>O</td>\n",
       "      <td>135622</td>\n",
       "      <td>Alteromonadales</td>\n",
       "    </tr>\n",
       "    <tr>\n",
       "      <th>431</th>\n",
       "      <td>0.00</td>\n",
       "      <td>1</td>\n",
       "      <td>0</td>\n",
       "      <td>O</td>\n",
       "      <td>118969</td>\n",
       "      <td>Legionellales</td>\n",
       "    </tr>\n",
       "    <tr>\n",
       "      <th>435</th>\n",
       "      <td>0.00</td>\n",
       "      <td>0</td>\n",
       "      <td>0</td>\n",
       "      <td>O</td>\n",
       "      <td>135613</td>\n",
       "      <td>Chromatiales</td>\n",
       "    </tr>\n",
       "    <tr>\n",
       "      <th>440</th>\n",
       "      <td>0.00</td>\n",
       "      <td>26</td>\n",
       "      <td>0</td>\n",
       "      <td>O</td>\n",
       "      <td>356</td>\n",
       "      <td>Rhizobiales</td>\n",
       "    </tr>\n",
       "    <tr>\n",
       "      <th>470</th>\n",
       "      <td>0.00</td>\n",
       "      <td>11</td>\n",
       "      <td>0</td>\n",
       "      <td>O</td>\n",
       "      <td>204455</td>\n",
       "      <td>Rhodobacterales</td>\n",
       "    </tr>\n",
       "    <tr>\n",
       "      <th>481</th>\n",
       "      <td>0.00</td>\n",
       "      <td>1</td>\n",
       "      <td>0</td>\n",
       "      <td>O</td>\n",
       "      <td>204458</td>\n",
       "      <td>Caulobacterales</td>\n",
       "    </tr>\n",
       "    <tr>\n",
       "      <th>338</th>\n",
       "      <td>0.00</td>\n",
       "      <td>2</td>\n",
       "      <td>0</td>\n",
       "      <td>O</td>\n",
       "      <td>206351</td>\n",
       "      <td>Neisseriales</td>\n",
       "    </tr>\n",
       "  </tbody>\n",
       "</table>\n",
       "</div>"
      ],
      "text/plain": [
       "     pct_reads_clade  num_reads_clade  num_reads_taxon rank  tax_id  \\\n",
       "8              66.94          1961272                0    O  171549   \n",
       "95              0.87            25405                0    O  186802   \n",
       "138             0.10             2858                0    O  186826   \n",
       "300             0.09             2600                0    O   80840   \n",
       "586             0.03              969                0    O   28883   \n",
       "45              0.01              423                0    O  200644   \n",
       "195             0.01              260                0    O   85007   \n",
       "88              0.00               13                0    O  191411   \n",
       "477             0.00                1                0    O  204441   \n",
       "357             0.00               55                0    O   91347   \n",
       "395             0.00               22                0    O  135623   \n",
       "400             0.00               12                0    O  135614   \n",
       "411             0.00                5                0    O   72274   \n",
       "423             0.00                3                0    O  135622   \n",
       "431             0.00                1                0    O  118969   \n",
       "435             0.00                0                0    O  135613   \n",
       "440             0.00               26                0    O     356   \n",
       "470             0.00               11                0    O  204455   \n",
       "481             0.00                1                0    O  204458   \n",
       "338             0.00                2                0    O  206351   \n",
       "\n",
       "              tax_name  \n",
       "8        Bacteroidales  \n",
       "95       Clostridiales  \n",
       "138    Lactobacillales  \n",
       "300    Burkholderiales  \n",
       "586       Caudovirales  \n",
       "45    Flavobacteriales  \n",
       "195  Corynebacteriales  \n",
       "88        Chlorobiales  \n",
       "477   Rhodospirillales  \n",
       "357   Enterobacterales  \n",
       "395        Vibrionales  \n",
       "400    Xanthomonadales  \n",
       "411    Pseudomonadales  \n",
       "423    Alteromonadales  \n",
       "431      Legionellales  \n",
       "435       Chromatiales  \n",
       "440        Rhizobiales  \n",
       "470    Rhodobacterales  \n",
       "481    Caulobacterales  \n",
       "338       Neisseriales  "
      ]
     },
     "execution_count": 63,
     "metadata": {},
     "output_type": "execute_result"
    }
   ],
   "source": [
    "orders = td[td['rank'] == 'O']\n",
    "top_hits(orders)"
   ]
  },
  {
   "cell_type": "code",
   "execution_count": 64,
   "metadata": {},
   "outputs": [
    {
     "data": {
      "image/png": "[encoded data removed]",
      "text/plain": [
       "<matplotlib.figure.Figure at 0x11daddc88>"
      ]
     },
     "metadata": {},
     "output_type": "display_data"
    }
   ],
   "source": [
    "plot_distribution(orders)"
   ]
  },
  {
   "cell_type": "markdown",
   "metadata": {},
   "source": [
    "Class"
   ]
  },
  {
   "cell_type": "code",
   "execution_count": 65,
   "metadata": {},
   "outputs": [
    {
     "data": {
      "text/html": [
       "<div>\n",
       "<style>\n",
       "    .dataframe thead tr:only-child th {\n",
       "        text-align: right;\n",
       "    }\n",
       "\n",
       "    .dataframe thead th {\n",
       "        text-align: left;\n",
       "    }\n",
       "\n",
       "    .dataframe tbody tr th {\n",
       "        vertical-align: top;\n",
       "    }\n",
       "</style>\n",
       "<table border=\"1\" class=\"dataframe\">\n",
       "  <thead>\n",
       "    <tr style=\"text-align: right;\">\n",
       "      <th></th>\n",
       "      <th>pct_reads_clade</th>\n",
       "      <th>num_reads_clade</th>\n",
       "      <th>num_reads_taxon</th>\n",
       "      <th>rank</th>\n",
       "      <th>tax_id</th>\n",
       "      <th>tax_name</th>\n",
       "    </tr>\n",
       "  </thead>\n",
       "  <tbody>\n",
       "    <tr>\n",
       "      <th>7</th>\n",
       "      <td>66.94</td>\n",
       "      <td>1961272</td>\n",
       "      <td>0</td>\n",
       "      <td>C</td>\n",
       "      <td>200643</td>\n",
       "      <td>Bacteroidia</td>\n",
       "    </tr>\n",
       "    <tr>\n",
       "      <th>94</th>\n",
       "      <td>0.87</td>\n",
       "      <td>25406</td>\n",
       "      <td>0</td>\n",
       "      <td>C</td>\n",
       "      <td>186801</td>\n",
       "      <td>Clostridia</td>\n",
       "    </tr>\n",
       "    <tr>\n",
       "      <th>137</th>\n",
       "      <td>0.10</td>\n",
       "      <td>2896</td>\n",
       "      <td>0</td>\n",
       "      <td>C</td>\n",
       "      <td>91061</td>\n",
       "      <td>Bacilli</td>\n",
       "    </tr>\n",
       "    <tr>\n",
       "      <th>299</th>\n",
       "      <td>0.09</td>\n",
       "      <td>2604</td>\n",
       "      <td>0</td>\n",
       "      <td>C</td>\n",
       "      <td>28216</td>\n",
       "      <td>Betaproteobacteria</td>\n",
       "    </tr>\n",
       "    <tr>\n",
       "      <th>194</th>\n",
       "      <td>0.01</td>\n",
       "      <td>266</td>\n",
       "      <td>0</td>\n",
       "      <td>C</td>\n",
       "      <td>1760</td>\n",
       "      <td>Actinobacteria</td>\n",
       "    </tr>\n",
       "    <tr>\n",
       "      <th>347</th>\n",
       "      <td>0.01</td>\n",
       "      <td>227</td>\n",
       "      <td>0</td>\n",
       "      <td>C</td>\n",
       "      <td>1236</td>\n",
       "      <td>Gammaproteobacteria</td>\n",
       "    </tr>\n",
       "    <tr>\n",
       "      <th>44</th>\n",
       "      <td>0.01</td>\n",
       "      <td>423</td>\n",
       "      <td>0</td>\n",
       "      <td>C</td>\n",
       "      <td>117743</td>\n",
       "      <td>Flavobacteriia</td>\n",
       "    </tr>\n",
       "    <tr>\n",
       "      <th>293</th>\n",
       "      <td>0.00</td>\n",
       "      <td>3</td>\n",
       "      <td>0</td>\n",
       "      <td>C</td>\n",
       "      <td>475962</td>\n",
       "      <td>Caldilineae</td>\n",
       "    </tr>\n",
       "    <tr>\n",
       "      <th>546</th>\n",
       "      <td>0.00</td>\n",
       "      <td>1</td>\n",
       "      <td>0</td>\n",
       "      <td>C</td>\n",
       "      <td>204429</td>\n",
       "      <td>Chlamydiia</td>\n",
       "    </tr>\n",
       "    <tr>\n",
       "      <th>540</th>\n",
       "      <td>0.00</td>\n",
       "      <td>1</td>\n",
       "      <td>0</td>\n",
       "      <td>C</td>\n",
       "      <td>203683</td>\n",
       "      <td>Planctomycetia</td>\n",
       "    </tr>\n",
       "    <tr>\n",
       "      <th>534</th>\n",
       "      <td>0.00</td>\n",
       "      <td>2</td>\n",
       "      <td>0</td>\n",
       "      <td>C</td>\n",
       "      <td>414999</td>\n",
       "      <td>Opitutae</td>\n",
       "    </tr>\n",
       "    <tr>\n",
       "      <th>524</th>\n",
       "      <td>0.00</td>\n",
       "      <td>13</td>\n",
       "      <td>0</td>\n",
       "      <td>C</td>\n",
       "      <td>203692</td>\n",
       "      <td>Spirochaetia</td>\n",
       "    </tr>\n",
       "    <tr>\n",
       "      <th>502</th>\n",
       "      <td>0.00</td>\n",
       "      <td>8</td>\n",
       "      <td>0</td>\n",
       "      <td>C</td>\n",
       "      <td>28221</td>\n",
       "      <td>Deltaproteobacteria</td>\n",
       "    </tr>\n",
       "    <tr>\n",
       "      <th>486</th>\n",
       "      <td>0.00</td>\n",
       "      <td>28</td>\n",
       "      <td>0</td>\n",
       "      <td>C</td>\n",
       "      <td>29547</td>\n",
       "      <td>Epsilonproteobacteria</td>\n",
       "    </tr>\n",
       "    <tr>\n",
       "      <th>439</th>\n",
       "      <td>0.00</td>\n",
       "      <td>39</td>\n",
       "      <td>0</td>\n",
       "      <td>C</td>\n",
       "      <td>28211</td>\n",
       "      <td>Alphaproteobacteria</td>\n",
       "    </tr>\n",
       "    <tr>\n",
       "      <th>257</th>\n",
       "      <td>0.00</td>\n",
       "      <td>10</td>\n",
       "      <td>0</td>\n",
       "      <td>C</td>\n",
       "      <td>31969</td>\n",
       "      <td>Mollicutes</td>\n",
       "    </tr>\n",
       "    <tr>\n",
       "      <th>263</th>\n",
       "      <td>0.00</td>\n",
       "      <td>3</td>\n",
       "      <td>0</td>\n",
       "      <td>C</td>\n",
       "      <td>188787</td>\n",
       "      <td>Deinococci</td>\n",
       "    </tr>\n",
       "    <tr>\n",
       "      <th>251</th>\n",
       "      <td>0.00</td>\n",
       "      <td>1</td>\n",
       "      <td>0</td>\n",
       "      <td>C</td>\n",
       "      <td>1497346</td>\n",
       "      <td>Thermoleophilia</td>\n",
       "    </tr>\n",
       "    <tr>\n",
       "      <th>246</th>\n",
       "      <td>0.00</td>\n",
       "      <td>3</td>\n",
       "      <td>0</td>\n",
       "      <td>C</td>\n",
       "      <td>84995</td>\n",
       "      <td>Rubrobacteria</td>\n",
       "    </tr>\n",
       "    <tr>\n",
       "      <th>237</th>\n",
       "      <td>0.00</td>\n",
       "      <td>14</td>\n",
       "      <td>0</td>\n",
       "      <td>C</td>\n",
       "      <td>84998</td>\n",
       "      <td>Coriobacteriia</td>\n",
       "    </tr>\n",
       "  </tbody>\n",
       "</table>\n",
       "</div>"
      ],
      "text/plain": [
       "     pct_reads_clade  num_reads_clade  num_reads_taxon rank   tax_id  \\\n",
       "7              66.94          1961272                0    C   200643   \n",
       "94              0.87            25406                0    C   186801   \n",
       "137             0.10             2896                0    C    91061   \n",
       "299             0.09             2604                0    C    28216   \n",
       "194             0.01              266                0    C     1760   \n",
       "347             0.01              227                0    C     1236   \n",
       "44              0.01              423                0    C   117743   \n",
       "293             0.00                3                0    C   475962   \n",
       "546             0.00                1                0    C   204429   \n",
       "540             0.00                1                0    C   203683   \n",
       "534             0.00                2                0    C   414999   \n",
       "524             0.00               13                0    C   203692   \n",
       "502             0.00                8                0    C    28221   \n",
       "486             0.00               28                0    C    29547   \n",
       "439             0.00               39                0    C    28211   \n",
       "257             0.00               10                0    C    31969   \n",
       "263             0.00                3                0    C   188787   \n",
       "251             0.00                1                0    C  1497346   \n",
       "246             0.00                3                0    C    84995   \n",
       "237             0.00               14                0    C    84998   \n",
       "\n",
       "                  tax_name  \n",
       "7              Bacteroidia  \n",
       "94              Clostridia  \n",
       "137                Bacilli  \n",
       "299     Betaproteobacteria  \n",
       "194         Actinobacteria  \n",
       "347    Gammaproteobacteria  \n",
       "44          Flavobacteriia  \n",
       "293            Caldilineae  \n",
       "546             Chlamydiia  \n",
       "540         Planctomycetia  \n",
       "534               Opitutae  \n",
       "524           Spirochaetia  \n",
       "502    Deltaproteobacteria  \n",
       "486  Epsilonproteobacteria  \n",
       "439    Alphaproteobacteria  \n",
       "257             Mollicutes  \n",
       "263             Deinococci  \n",
       "251        Thermoleophilia  \n",
       "246          Rubrobacteria  \n",
       "237         Coriobacteriia  "
      ]
     },
     "execution_count": 65,
     "metadata": {},
     "output_type": "execute_result"
    }
   ],
   "source": [
    "classes = td[td['rank'] == 'C']\n",
    "top_hits(classes)"
   ]
  },
  {
   "cell_type": "code",
   "execution_count": 66,
   "metadata": {},
   "outputs": [
    {
     "data": {
      "image/png": "[encoded data removed]",
      "text/plain": [
       "<matplotlib.figure.Figure at 0x118f69208>"
      ]
     },
     "metadata": {},
     "output_type": "display_data"
    }
   ],
   "source": [
    "plot_distribution(classes)"
   ]
  },
  {
   "cell_type": "markdown",
   "metadata": {},
   "source": [
    "Phylum"
   ]
  },
  {
   "cell_type": "code",
   "execution_count": 67,
   "metadata": {},
   "outputs": [
    {
     "data": {
      "text/html": [
       "<div>\n",
       "<style>\n",
       "    .dataframe thead tr:only-child th {\n",
       "        text-align: right;\n",
       "    }\n",
       "\n",
       "    .dataframe thead th {\n",
       "        text-align: left;\n",
       "    }\n",
       "\n",
       "    .dataframe tbody tr th {\n",
       "        vertical-align: top;\n",
       "    }\n",
       "</style>\n",
       "<table border=\"1\" class=\"dataframe\">\n",
       "  <thead>\n",
       "    <tr style=\"text-align: right;\">\n",
       "      <th></th>\n",
       "      <th>pct_reads_clade</th>\n",
       "      <th>num_reads_clade</th>\n",
       "      <th>num_reads_taxon</th>\n",
       "      <th>rank</th>\n",
       "      <th>tax_id</th>\n",
       "      <th>tax_name</th>\n",
       "    </tr>\n",
       "  </thead>\n",
       "  <tbody>\n",
       "    <tr>\n",
       "      <th>6</th>\n",
       "      <td>66.96</td>\n",
       "      <td>1961757</td>\n",
       "      <td>0</td>\n",
       "      <td>P</td>\n",
       "      <td>976</td>\n",
       "      <td>Bacteroidetes</td>\n",
       "    </tr>\n",
       "    <tr>\n",
       "      <th>93</th>\n",
       "      <td>0.97</td>\n",
       "      <td>28375</td>\n",
       "      <td>0</td>\n",
       "      <td>P</td>\n",
       "      <td>1239</td>\n",
       "      <td>Firmicutes</td>\n",
       "    </tr>\n",
       "    <tr>\n",
       "      <th>298</th>\n",
       "      <td>0.10</td>\n",
       "      <td>2907</td>\n",
       "      <td>0</td>\n",
       "      <td>P</td>\n",
       "      <td>1224</td>\n",
       "      <td>Proteobacteria</td>\n",
       "    </tr>\n",
       "    <tr>\n",
       "      <th>193</th>\n",
       "      <td>0.01</td>\n",
       "      <td>285</td>\n",
       "      <td>0</td>\n",
       "      <td>P</td>\n",
       "      <td>201174</td>\n",
       "      <td>Actinobacteria</td>\n",
       "    </tr>\n",
       "    <tr>\n",
       "      <th>86</th>\n",
       "      <td>0.00</td>\n",
       "      <td>13</td>\n",
       "      <td>0</td>\n",
       "      <td>P</td>\n",
       "      <td>1090</td>\n",
       "      <td>Chlorobi</td>\n",
       "    </tr>\n",
       "    <tr>\n",
       "      <th>256</th>\n",
       "      <td>0.00</td>\n",
       "      <td>10</td>\n",
       "      <td>0</td>\n",
       "      <td>P</td>\n",
       "      <td>544448</td>\n",
       "      <td>Tenericutes</td>\n",
       "    </tr>\n",
       "    <tr>\n",
       "      <th>262</th>\n",
       "      <td>0.00</td>\n",
       "      <td>3</td>\n",
       "      <td>0</td>\n",
       "      <td>P</td>\n",
       "      <td>1297</td>\n",
       "      <td>Deinococcus-Thermus</td>\n",
       "    </tr>\n",
       "    <tr>\n",
       "      <th>275</th>\n",
       "      <td>0.00</td>\n",
       "      <td>3</td>\n",
       "      <td>0</td>\n",
       "      <td>P</td>\n",
       "      <td>1117</td>\n",
       "      <td>Cyanobacteria</td>\n",
       "    </tr>\n",
       "    <tr>\n",
       "      <th>292</th>\n",
       "      <td>0.00</td>\n",
       "      <td>3</td>\n",
       "      <td>0</td>\n",
       "      <td>P</td>\n",
       "      <td>200795</td>\n",
       "      <td>Chloroflexi</td>\n",
       "    </tr>\n",
       "    <tr>\n",
       "      <th>523</th>\n",
       "      <td>0.00</td>\n",
       "      <td>13</td>\n",
       "      <td>0</td>\n",
       "      <td>P</td>\n",
       "      <td>203691</td>\n",
       "      <td>Spirochaetes</td>\n",
       "    </tr>\n",
       "    <tr>\n",
       "      <th>533</th>\n",
       "      <td>0.00</td>\n",
       "      <td>2</td>\n",
       "      <td>0</td>\n",
       "      <td>P</td>\n",
       "      <td>74201</td>\n",
       "      <td>Verrucomicrobia</td>\n",
       "    </tr>\n",
       "    <tr>\n",
       "      <th>539</th>\n",
       "      <td>0.00</td>\n",
       "      <td>1</td>\n",
       "      <td>0</td>\n",
       "      <td>P</td>\n",
       "      <td>203682</td>\n",
       "      <td>Planctomycetes</td>\n",
       "    </tr>\n",
       "    <tr>\n",
       "      <th>545</th>\n",
       "      <td>0.00</td>\n",
       "      <td>1</td>\n",
       "      <td>0</td>\n",
       "      <td>P</td>\n",
       "      <td>204428</td>\n",
       "      <td>Chlamydiae</td>\n",
       "    </tr>\n",
       "    <tr>\n",
       "      <th>557</th>\n",
       "      <td>0.00</td>\n",
       "      <td>90</td>\n",
       "      <td>0</td>\n",
       "      <td>P</td>\n",
       "      <td>7711</td>\n",
       "      <td>Chordata</td>\n",
       "    </tr>\n",
       "  </tbody>\n",
       "</table>\n",
       "</div>"
      ],
      "text/plain": [
       "     pct_reads_clade  num_reads_clade  num_reads_taxon rank  tax_id  \\\n",
       "6              66.96          1961757                0    P     976   \n",
       "93              0.97            28375                0    P    1239   \n",
       "298             0.10             2907                0    P    1224   \n",
       "193             0.01              285                0    P  201174   \n",
       "86              0.00               13                0    P    1090   \n",
       "256             0.00               10                0    P  544448   \n",
       "262             0.00                3                0    P    1297   \n",
       "275             0.00                3                0    P    1117   \n",
       "292             0.00                3                0    P  200795   \n",
       "523             0.00               13                0    P  203691   \n",
       "533             0.00                2                0    P   74201   \n",
       "539             0.00                1                0    P  203682   \n",
       "545             0.00                1                0    P  204428   \n",
       "557             0.00               90                0    P    7711   \n",
       "\n",
       "                tax_name  \n",
       "6          Bacteroidetes  \n",
       "93            Firmicutes  \n",
       "298       Proteobacteria  \n",
       "193       Actinobacteria  \n",
       "86              Chlorobi  \n",
       "256          Tenericutes  \n",
       "262  Deinococcus-Thermus  \n",
       "275        Cyanobacteria  \n",
       "292          Chloroflexi  \n",
       "523         Spirochaetes  \n",
       "533      Verrucomicrobia  \n",
       "539       Planctomycetes  \n",
       "545           Chlamydiae  \n",
       "557             Chordata  "
      ]
     },
     "execution_count": 67,
     "metadata": {},
     "output_type": "execute_result"
    }
   ],
   "source": [
    "phyla = td[td['rank'] == 'P']\n",
    "top_hits(phyla)"
   ]
  },
  {
   "cell_type": "code",
   "execution_count": 68,
   "metadata": {},
   "outputs": [
    {
     "data": {
      "image/png": "[encoded data removed]",
      "text/plain": [
       "<matplotlib.figure.Figure at 0x11923d4a8>"
      ]
     },
     "metadata": {},
     "output_type": "display_data"
    }
   ],
   "source": [
    "plot_distribution(phyla)"
   ]
  }
 ],
 "metadata": {
  "kernelspec": {
   "display_name": "Python 3",
   "language": "python",
   "name": "python3"
  },
  "language_info": {
   "codemirror_mode": {
    "name": "ipython",
    "version": 3
   },
   "file_extension": ".py",
   "mimetype": "text/x-python",
   "name": "python",
   "nbconvert_exporter": "python",
   "pygments_lexer": "ipython3",
   "version": "3.6.1"
  }
 },
 "nbformat": 4,
 "nbformat_minor": 2
}
