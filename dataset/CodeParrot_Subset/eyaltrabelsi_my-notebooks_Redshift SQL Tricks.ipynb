{
 "cells": [
  {
   "cell_type": "markdown",
   "metadata": {},
   "source": [
    "# Redshift SQL Tricks"
   ]
  },
  {
   "cell_type": "markdown",
   "metadata": {
    "run_control": {
     "frozen": false,
     "read_only": false
    }
   },
   "source": [
    "## 1) adding column indicating if row is first row \n"
   ]
  },
  {
   "cell_type": "markdown",
   "metadata": {
    "run_control": {
     "frozen": false,
     "read_only": false
    }
   },
   "source": [
    "```sql\n",
    "select c1,\n",
    "       floor(1 / (row_number() over (partition BY c1 order by c2))) as is_first_row\n",
    "from t       \n",
    "```"
   ]
  },
  {
   "cell_type": "markdown",
   "metadata": {
    "run_control": {
     "frozen": false,
     "read_only": false
    }
   },
   "source": [
    "## 2) Pivot row into column\n"
   ]
  },
  {
   "cell_type": "markdown",
   "metadata": {
    "ExecuteTime": {
     "end_time": "2016-11-28T23:01:09.448521",
     "start_time": "2016-11-28T23:01:09.439540"
    },
    "run_control": {
     "frozen": false,
     "read_only": false
    }
   },
   "source": [
    "```sql\n",
    "select pk,\n",
    "       max(case  when c1 = 1 then c2 \n",
    "                 else '#N/A'\n",
    "           end) as c3,\n",
    "       max(case  when c1 = 2 then c2 \n",
    "                 else '#N/A'\n",
    "           end) as c4,\n",
    "from t\n",
    "group by pk\n",
    "```"
   ]
  },
  {
   "cell_type": "markdown",
   "metadata": {
    "run_control": {
     "frozen": false,
     "read_only": false
    }
   },
   "source": [
    "## 3) pivoting column into row\n"
   ]
  },
  {
   "cell_type": "markdown",
   "metadata": {
    "ExecuteTime": {
     "end_time": "2016-11-28T23:02:37.975766",
     "start_time": "2016-11-28T23:02:37.970064"
    },
    "run_control": {
     "frozen": false,
     "read_only": false
    }
   },
   "source": [
    "```sql\n",
    "select c2\n",
    "from t\n",
    "union\n",
    "select c1\n",
    "from t\n",
    "```"
   ]
  },
  {
   "cell_type": "markdown",
   "metadata": {
    "collapsed": true,
    "run_control": {
     "frozen": false,
     "read_only": false
    }
   },
   "source": [
    "## 4) adding column indicating if row is first row \n",
    "join ON table with multiple primary_key (if one didnt create gk) and they are the same you dont lead to connect o account so you create prefix"
   ]
  },
  {
   "cell_type": "markdown",
   "metadata": {
    "collapsed": true,
    "run_control": {
     "frozen": false,
     "read_only": false
    }
   },
   "source": [
    "```sql\n",
    "coalesce('u' + t1.pk1::varchar(255),'s' + t1.pk2::varchar(255),'a' + t1.pk3::varchar(255)) =\n",
    "coalesce('u' + t2.pk1::varchar(255),'s' + t2.pk2::varchar(255),'a' + t2.pk3::varchar(255)) \n",
    "```"
   ]
  },
  {
   "cell_type": "markdown",
   "metadata": {
    "collapsed": true,
    "run_control": {
     "frozen": false,
     "read_only": false
    }
   },
   "source": [
    "## 5) check duplication on tables\n"
   ]
  },
  {
   "cell_type": "markdown",
   "metadata": {
    "collapsed": true,
    "run_control": {
     "frozen": false,
     "read_only": false
    }
   },
   "source": [
    "```sql\n",
    "select pk, \n",
    "       count(1)\n",
    "from t \n",
    "group by pk \n",
    "having count(1)>1\n",
    "```"
   ]
  },
  {
   "cell_type": "markdown",
   "metadata": {
    "collapsed": true,
    "run_control": {
     "frozen": false,
     "read_only": false
    }
   },
   "source": [
    "## 6) convert timestamp to int"
   ]
  },
  {
   "cell_type": "markdown",
   "metadata": {
    "ExecuteTime": {
     "end_time": "2016-11-28T23:10:45.336418",
     "start_time": "2016-11-28T23:10:45.331735"
    },
    "collapsed": true,
    "run_control": {
     "frozen": false,
     "read_only": false
    }
   },
   "source": [
    "```sql\n",
    "select EXTRACT('EPOCH' FROM c1)\n",
    "from t\n",
    "```"
   ]
  },
  {
   "cell_type": "markdown",
   "metadata": {
    "collapsed": true,
    "run_control": {
     "frozen": false,
     "read_only": false
    }
   },
   "source": [
    "## 7) get rows which are not connected in left join "
   ]
  },
  {
   "cell_type": "markdown",
   "metadata": {
    "collapsed": true,
    "run_control": {
     "frozen": false,
     "read_only": false
    }
   },
   "source": [
    "```sql\n",
    "select *\n",
    "   from t1\n",
    "   left join t2 \n",
    "        on t2.pk = t1.pk\n",
    "   whenere t2.pk is null\n",
    "```"
   ]
  },
  {
   "cell_type": "markdown",
   "metadata": {
    "collapsed": true,
    "run_control": {
     "frozen": false,
     "read_only": false
    }
   },
   "source": [
    "## 7) profile over facts using sparsed matrix\n",
    "when one construct profile table t1 from t2,t3,t4 facts the cleanest way to so is to insert into t1_temp the aggrigations over facts but then the granularity will stop be the pk of t1 because of sparisity so one need to group it all together"
   ]
  },
  {
   "cell_type": "markdown",
   "metadata": {
    "collapsed": true,
    "run_control": {
     "frozen": false,
     "read_only": false
    }
   },
   "source": [
    "```sql\n",
    "insert into t1_temp \n",
    "from <query over t2>;\n",
    "\n",
    "insert into t1 \n",
    "from <query over t3>;\n",
    "\n",
    "insert into t1 \n",
    "from <query over t4>;\n",
    "\n",
    "insert into t1\n",
    "from t1_temp\n",
    "group by pk1;\n",
    "```"
   ]
  },
  {
   "cell_type": "markdown",
   "metadata": {
    "ExecuteTime": {
     "end_time": "2016-11-28T23:08:00.375756",
     "start_time": "2016-11-28T23:08:00.371941"
    },
    "collapsed": true,
    "run_control": {
     "frozen": false,
     "marked": false,
     "read_only": false
    }
   },
   "source": [
    "## 8) exact duplication row_number\n"
   ]
  },
  {
   "cell_type": "markdown",
   "metadata": {
    "collapsed": true,
    "run_control": {
     "frozen": false,
     "read_only": false
    }
   },
   "source": [
    "http://stackoverflow.com/questions/18932/how-can-i-remove-duplicate-rows"
   ]
  },
  {
   "cell_type": "markdown",
   "metadata": {
    "ExecuteTime": {
     "end_time": "2016-11-28T23:08:38.261746",
     "start_time": "2016-11-28T23:08:38.259209"
    },
    "collapsed": true,
    "run_control": {
     "frozen": false,
     "read_only": false
    }
   },
   "source": [
    "## 10) ri \n",
    "good when pk is in the fact before in the dimention\n"
   ]
  },
  {
   "cell_type": "code",
   "execution_count": null,
   "metadata": {
    "collapsed": true,
    "run_control": {
     "frozen": false,
     "read_only": false
    }
   },
   "outputs": [],
   "source": [
    "```sql\n",
    "create table t3_que as\n",
    "select c1\n",
    "from t1_fact\n",
    "left join t2_dim\n",
    "     on t1_fact.pk = t2_dim.pk\n",
    "where t2_dim is null\n",
    "```\n"
   ]
  },
  {
   "cell_type": "markdown",
   "metadata": {
    "collapsed": true,
    "run_control": {
     "frozen": false,
     "read_only": false
    }
   },
   "source": [
    "## 11) get value exactly after the last character _\n"
   ]
  },
  {
   "cell_type": "markdown",
   "metadata": {
    "collapsed": true,
    "run_control": {
     "frozen": false,
     "read_only": false
    }
   },
   "source": [
    "```sql\n",
    "select REVERSE(SPLIT_PART(REVERSE(c1),'_',1)) \n",
    "from t\n",
    "```"
   ]
  },
  {
   "cell_type": "markdown",
   "metadata": {
    "collapsed": true,
    "run_control": {
     "frozen": false,
     "read_only": false
    }
   },
   "source": [
    "## 12) checking wheter someone had 72 hour to of buisness hours\n",
    "* sunday/saturday he gets until end of monday\n",
    "* friday he gets 72 hours\n",
    "* otherwise he gets 24 hours"
   ]
  },
  {
   "cell_type": "markdown",
   "metadata": {
    "ExecuteTime": {
     "end_time": "2016-11-29T08:32:31.490616",
     "start_time": "2016-11-29T08:32:31.482017"
    },
    "collapsed": true,
    "run_control": {
     "frozen": false,
     "read_only": false
    }
   },
   "source": [
    "```sql\n",
    "select c1,\n",
    "       c2\n",
    "from t1\n",
    "where ((date_part(dow, c1)=6 AND datediff(day, c1, c2)<=2) OR\n",
    "       (date_part(dow, c1)=0 AND datediff(day, c1, c2)<=1) OR\n",
    "       (date_part(dow, c1)=5 AND datediff(hour, c1, c2) <= 72) OR\n",
    "       (date_part(dow, c1) in (1,2,3,4) AND datediff(hour,c1, c2)<=24\n",
    "```"
   ]
  },
  {
   "cell_type": "markdown",
   "metadata": {
    "run_control": {
     "frozen": false,
     "read_only": false
    }
   },
   "source": [
    "## 13) constructing table over time from event history table\n"
   ]
  },
  {
   "cell_type": "markdown",
   "metadata": {
    "collapsed": true,
    "run_control": {
     "frozen": false,
     "read_only": false
    }
   },
   "source": [
    "```sql\n",
    "select  c1\n",
    "        c2 AS from_time,\n",
    "        isnull(LEAD(c2) OVER (PARTITION BY c1 ORDER BY c2 ), '2999-01-01')  AS to_time\n",
    "from  t1\n",
    "where event_name = 'x' \n",
    "```        \n",
    "* which allow you to allow you to do:\n",
    "   - where  t2.c1 BETWEEN t1.from_time AND t1.to_time"
   ]
  },
  {
   "cell_type": "markdown",
   "metadata": {
    "run_control": {
     "frozen": false,
     "read_only": false
    }
   },
   "source": [
    "## 14) interval to window function using cross join(one can do changing interval using 2 cross join intervals)\n",
    "\n"
   ]
  },
  {
   "cell_type": "markdown",
   "metadata": {
    "run_control": {
     "frozen": false,
     "read_only": false
    }
   },
   "source": [
    "```sql\n",
    "create temp table exploded as\n",
    "select row_number() over (order by true) as day\n",
    "from t1 limit 10;\n",
    "\n",
    "\n",
    "select exploded.day as day, \n",
    "       count(distinct c1) \n",
    "from t2\n",
    "cross join exploded\n",
    "where getdate() > t2.c2\n",
    "      and getdate()< DATEADD('day',t2.c2)\n",
    "group by day\n",
    "```"
   ]
  },
  {
   "cell_type": "markdown",
   "metadata": {
    "ExecuteTime": {
     "end_time": "2016-11-30T08:33:45.719675",
     "start_time": "2016-11-30T08:33:45.714587"
    },
    "run_control": {
     "frozen": false,
     "read_only": false
    }
   },
   "source": [
    "## 14) generate unique gks\n"
   ]
  },
  {
   "cell_type": "markdown",
   "metadata": {
    "ExecuteTime": {
     "end_time": "2016-11-30T08:34:51.043477",
     "start_time": "2016-11-30T08:34:51.038308"
    },
    "run_control": {
     "frozen": false,
     "read_only": false
    }
   },
   "source": [
    "```sql\n",
    "(select isnull(max(gk),0) from t) + row_number() over (order by 1)  as gk \n",
    "```"
   ]
  },
  {
   "cell_type": "markdown",
   "metadata": {
    "collapsed": true,
    "run_control": {
     "frozen": false,
     "read_only": false
    }
   },
   "source": [
    "## 15) flip flop"
   ]
  },
  {
   "cell_type": "markdown",
   "metadata": {
    "ExecuteTime": {
     "end_time": "2016-11-30T18:05:17.128009",
     "start_time": "2016-11-30T18:05:17.118953"
    },
    "collapsed": true,
    "run_control": {
     "frozen": false,
     "read_only": false
    }
   },
   "source": [
    "http://mysql.rjweb.org/doc.php/staging_table#flip_flop_staging"
   ]
  },
  {
   "cell_type": "markdown",
   "metadata": {
    "ExecuteTime": {
     "end_time": "2016-12-12T12:35:56.601904",
     "start_time": "2016-12-12T12:35:56.593551"
    },
    "collapsed": false,
    "run_control": {
     "frozen": false,
     "read_only": false
    }
   },
   "source": [
    "## 16) # of random rows"
   ]
  },
  {
   "cell_type": "markdown",
   "metadata": {
    "run_control": {
     "frozen": false,
     "read_only": false
    }
   },
   "source": [
    "```sql\n",
    "select * from table order by random() limit 1000;\n",
    "\n",
    "```"
   ]
  },
  {
   "cell_type": "markdown",
   "metadata": {
    "collapsed": true,
    "run_control": {
     "frozen": false,
     "marked": true,
     "read_only": false
    }
   },
   "source": [
    "## 17) % of random rows\n"
   ]
  },
  {
   "cell_type": "markdown",
   "metadata": {
    "run_control": {
     "frozen": false,
     "read_only": false
    }
   },
   "source": [
    "```sql\n",
    "select * from table where random() < 0.01;\n",
    "```"
   ]
  },
  {
   "cell_type": "markdown",
   "metadata": {},
   "source": [
    "<br/><br/><img src='resources/sql.jpg' width=500 align=\"left\"></img><br/><br/>"
   ]
  }
 ],
 "metadata": {
  "kernelspec": {
   "display_name": "Python 2",
   "language": "python",
   "name": "python2"
  },
  "language_info": {
   "codemirror_mode": {
    "name": "ipython",
    "version": 2
   },
   "file_extension": ".py",
   "mimetype": "text/x-python",
   "name": "python",
   "nbconvert_exporter": "python",
   "pygments_lexer": "ipython2",
   "version": "2.7.11"
  }
 },
 "nbformat": 4,
 "nbformat_minor": 1
}
