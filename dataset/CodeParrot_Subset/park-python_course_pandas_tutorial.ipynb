{
 "cells": [
  {
   "cell_type": "code",
   "execution_count": 1,
   "metadata": {
    "collapsed": true
   },
   "outputs": [],
   "source": [
    "import pandas as pd"
   ]
  },
  {
   "cell_type": "markdown",
   "metadata": {},
   "source": [
    "### Скачаем датасет матчей Испанской Ла Лиги за последние 90 лет\n",
    "\n",
    "Большое количество датасетов можно найти в репозитории [awesome public datasets](https://github.com/caesar0301/awesome-public-datasets)"
   ]
  },
  {
   "cell_type": "code",
   "execution_count": 2,
   "metadata": {
    "collapsed": false
   },
   "outputs": [],
   "source": [
    "import requests\n",
    "\n",
    "\n",
    "r = requests.get('https://github.com/jalapic/engsoccerdata/raw/master/data-raw/spain.csv')\n",
    "with open('spain.csv', 'w') as f:\n",
    "    f.write(r.text)"
   ]
  },
  {
   "cell_type": "code",
   "execution_count": 3,
   "metadata": {
    "collapsed": false
   },
   "outputs": [
    {
     "data": {
      "text/html": [
       "<div>\n",
       "<table border=\"1\" class=\"dataframe\">\n",
       "  <thead>\n",
       "    <tr style=\"text-align: right;\">\n",
       "      <th></th>\n",
       "      <th>Date</th>\n",
       "      <th>Season</th>\n",
       "      <th>home</th>\n",
       "      <th>visitor</th>\n",
       "      <th>HT</th>\n",
       "      <th>FT</th>\n",
       "      <th>hgoal</th>\n",
       "      <th>vgoal</th>\n",
       "      <th>tier</th>\n",
       "      <th>round</th>\n",
       "      <th>group</th>\n",
       "      <th>notes</th>\n",
       "    </tr>\n",
       "  </thead>\n",
       "  <tbody>\n",
       "    <tr>\n",
       "      <th>0</th>\n",
       "      <td>1929-02-10</td>\n",
       "      <td>1928</td>\n",
       "      <td>Arenas de Getxo</td>\n",
       "      <td>Atletico Madrid</td>\n",
       "      <td>0-2</td>\n",
       "      <td>2-3</td>\n",
       "      <td>2</td>\n",
       "      <td>3</td>\n",
       "      <td>1</td>\n",
       "      <td>league</td>\n",
       "      <td>NaN</td>\n",
       "      <td>NaN</td>\n",
       "    </tr>\n",
       "    <tr>\n",
       "      <th>1</th>\n",
       "      <td>1929-02-10</td>\n",
       "      <td>1928</td>\n",
       "      <td>Espanyol Barcelona</td>\n",
       "      <td>Real Union</td>\n",
       "      <td>1-0</td>\n",
       "      <td>3-2</td>\n",
       "      <td>3</td>\n",
       "      <td>2</td>\n",
       "      <td>1</td>\n",
       "      <td>league</td>\n",
       "      <td>NaN</td>\n",
       "      <td>NaN</td>\n",
       "    </tr>\n",
       "    <tr>\n",
       "      <th>2</th>\n",
       "      <td>1929-02-10</td>\n",
       "      <td>1928</td>\n",
       "      <td>Real Madrid</td>\n",
       "      <td>CE Europa</td>\n",
       "      <td>0-0</td>\n",
       "      <td>5-0</td>\n",
       "      <td>5</td>\n",
       "      <td>0</td>\n",
       "      <td>1</td>\n",
       "      <td>league</td>\n",
       "      <td>NaN</td>\n",
       "      <td>NaN</td>\n",
       "    </tr>\n",
       "    <tr>\n",
       "      <th>3</th>\n",
       "      <td>1929-02-10</td>\n",
       "      <td>1928</td>\n",
       "      <td>Real Sociedad</td>\n",
       "      <td>Athletic Bilbao</td>\n",
       "      <td>1-1</td>\n",
       "      <td>1-1</td>\n",
       "      <td>1</td>\n",
       "      <td>1</td>\n",
       "      <td>1</td>\n",
       "      <td>league</td>\n",
       "      <td>NaN</td>\n",
       "      <td>NaN</td>\n",
       "    </tr>\n",
       "    <tr>\n",
       "      <th>4</th>\n",
       "      <td>1929-02-12</td>\n",
       "      <td>1928</td>\n",
       "      <td>Racing Santander</td>\n",
       "      <td>FC Barcelona</td>\n",
       "      <td>0-0</td>\n",
       "      <td>0-2</td>\n",
       "      <td>0</td>\n",
       "      <td>2</td>\n",
       "      <td>1</td>\n",
       "      <td>league</td>\n",
       "      <td>NaN</td>\n",
       "      <td>NaN</td>\n",
       "    </tr>\n",
       "  </tbody>\n",
       "</table>\n",
       "</div>"
      ],
      "text/plain": [
       "         Date  Season                home          visitor   HT   FT  hgoal  \\\n",
       "0  1929-02-10    1928     Arenas de Getxo  Atletico Madrid  0-2  2-3      2   \n",
       "1  1929-02-10    1928  Espanyol Barcelona       Real Union  1-0  3-2      3   \n",
       "2  1929-02-10    1928         Real Madrid        CE Europa  0-0  5-0      5   \n",
       "3  1929-02-10    1928       Real Sociedad  Athletic Bilbao  1-1  1-1      1   \n",
       "4  1929-02-12    1928    Racing Santander     FC Barcelona  0-0  0-2      0   \n",
       "\n",
       "   vgoal  tier   round group notes  \n",
       "0      3     1  league   NaN   NaN  \n",
       "1      2     1  league   NaN   NaN  \n",
       "2      0     1  league   NaN   NaN  \n",
       "3      1     1  league   NaN   NaN  \n",
       "4      2     1  league   NaN   NaN  "
      ]
     },
     "execution_count": 3,
     "metadata": {},
     "output_type": "execute_result"
    }
   ],
   "source": [
    "matches = pd.read_csv('spain.csv')\n",
    "matches.head()"
   ]
  },
  {
   "cell_type": "code",
   "execution_count": 4,
   "metadata": {
    "collapsed": false
   },
   "outputs": [
    {
     "data": {
      "text/html": [
       "<div>\n",
       "<table border=\"1\" class=\"dataframe\">\n",
       "  <thead>\n",
       "    <tr style=\"text-align: right;\">\n",
       "      <th></th>\n",
       "      <th>Date</th>\n",
       "      <th>Season</th>\n",
       "      <th>home</th>\n",
       "      <th>visitor</th>\n",
       "      <th>HT</th>\n",
       "      <th>FT</th>\n",
       "      <th>hgoal</th>\n",
       "      <th>vgoal</th>\n",
       "      <th>tier</th>\n",
       "      <th>round</th>\n",
       "      <th>group</th>\n",
       "      <th>notes</th>\n",
       "    </tr>\n",
       "  </thead>\n",
       "  <tbody>\n",
       "    <tr>\n",
       "      <th>23910</th>\n",
       "      <td>2016-05-15</td>\n",
       "      <td>2015</td>\n",
       "      <td>Malaga CF</td>\n",
       "      <td>UD Las Palmas</td>\n",
       "      <td>NaN</td>\n",
       "      <td>4-1</td>\n",
       "      <td>4</td>\n",
       "      <td>1</td>\n",
       "      <td>1</td>\n",
       "      <td>league</td>\n",
       "      <td>NaN</td>\n",
       "      <td>NaN</td>\n",
       "    </tr>\n",
       "    <tr>\n",
       "      <th>23911</th>\n",
       "      <td>2016-05-15</td>\n",
       "      <td>2015</td>\n",
       "      <td>Espanyol Barcelona</td>\n",
       "      <td>SD Eibar</td>\n",
       "      <td>NaN</td>\n",
       "      <td>4-2</td>\n",
       "      <td>4</td>\n",
       "      <td>2</td>\n",
       "      <td>1</td>\n",
       "      <td>league</td>\n",
       "      <td>NaN</td>\n",
       "      <td>NaN</td>\n",
       "    </tr>\n",
       "    <tr>\n",
       "      <th>23912</th>\n",
       "      <td>2016-05-15</td>\n",
       "      <td>2015</td>\n",
       "      <td>Sporting Gijon</td>\n",
       "      <td>Villarreal CF</td>\n",
       "      <td>NaN</td>\n",
       "      <td>2-0</td>\n",
       "      <td>2</td>\n",
       "      <td>0</td>\n",
       "      <td>1</td>\n",
       "      <td>league</td>\n",
       "      <td>NaN</td>\n",
       "      <td>NaN</td>\n",
       "    </tr>\n",
       "    <tr>\n",
       "      <th>23913</th>\n",
       "      <td>2016-05-15</td>\n",
       "      <td>2015</td>\n",
       "      <td>Real Betis</td>\n",
       "      <td>Getafe CF</td>\n",
       "      <td>NaN</td>\n",
       "      <td>2-1</td>\n",
       "      <td>2</td>\n",
       "      <td>1</td>\n",
       "      <td>1</td>\n",
       "      <td>league</td>\n",
       "      <td>NaN</td>\n",
       "      <td>NaN</td>\n",
       "    </tr>\n",
       "    <tr>\n",
       "      <th>23914</th>\n",
       "      <td>2016-05-15</td>\n",
       "      <td>2015</td>\n",
       "      <td>Rayo Vallecano</td>\n",
       "      <td>Levante UD</td>\n",
       "      <td>NaN</td>\n",
       "      <td>3-1</td>\n",
       "      <td>3</td>\n",
       "      <td>1</td>\n",
       "      <td>1</td>\n",
       "      <td>league</td>\n",
       "      <td>NaN</td>\n",
       "      <td>NaN</td>\n",
       "    </tr>\n",
       "  </tbody>\n",
       "</table>\n",
       "</div>"
      ],
      "text/plain": [
       "             Date  Season                home        visitor   HT   FT  hgoal  \\\n",
       "23910  2016-05-15    2015           Malaga CF  UD Las Palmas  NaN  4-1      4   \n",
       "23911  2016-05-15    2015  Espanyol Barcelona       SD Eibar  NaN  4-2      4   \n",
       "23912  2016-05-15    2015      Sporting Gijon  Villarreal CF  NaN  2-0      2   \n",
       "23913  2016-05-15    2015          Real Betis      Getafe CF  NaN  2-1      2   \n",
       "23914  2016-05-15    2015      Rayo Vallecano     Levante UD  NaN  3-1      3   \n",
       "\n",
       "       vgoal  tier   round group notes  \n",
       "23910      1     1  league   NaN   NaN  \n",
       "23911      2     1  league   NaN   NaN  \n",
       "23912      0     1  league   NaN   NaN  \n",
       "23913      1     1  league   NaN   NaN  \n",
       "23914      1     1  league   NaN   NaN  "
      ]
     },
     "execution_count": 4,
     "metadata": {},
     "output_type": "execute_result"
    }
   ],
   "source": [
    "matches.tail()"
   ]
  },
  {
   "cell_type": "code",
   "execution_count": 5,
   "metadata": {
    "collapsed": false
   },
   "outputs": [
    {
     "data": {
      "text/plain": [
       "(23915, 12)"
      ]
     },
     "execution_count": 5,
     "metadata": {},
     "output_type": "execute_result"
    }
   ],
   "source": [
    "matches.shape  # 24000 матчей!"
   ]
  },
  {
   "cell_type": "code",
   "execution_count": null,
   "metadata": {
    "collapsed": true
   },
   "outputs": [],
   "source": []
  },
  {
   "cell_type": "markdown",
   "metadata": {},
   "source": [
    "### Фильтрация"
   ]
  },
  {
   "cell_type": "code",
   "execution_count": 6,
   "metadata": {
    "collapsed": false,
    "scrolled": true
   },
   "outputs": [
    {
     "data": {
      "text/html": [
       "<div>\n",
       "<table border=\"1\" class=\"dataframe\">\n",
       "  <thead>\n",
       "    <tr style=\"text-align: right;\">\n",
       "      <th></th>\n",
       "      <th>Season</th>\n",
       "      <th>home</th>\n",
       "      <th>visitor</th>\n",
       "    </tr>\n",
       "  </thead>\n",
       "  <tbody>\n",
       "    <tr>\n",
       "      <th>23905</th>\n",
       "      <td>2015</td>\n",
       "      <td>Valencia CF</td>\n",
       "      <td>Real Sociedad</td>\n",
       "    </tr>\n",
       "    <tr>\n",
       "      <th>23906</th>\n",
       "      <td>2015</td>\n",
       "      <td>Deportivo La Coruna</td>\n",
       "      <td>Real Madrid</td>\n",
       "    </tr>\n",
       "    <tr>\n",
       "      <th>23907</th>\n",
       "      <td>2015</td>\n",
       "      <td>Granada CF</td>\n",
       "      <td>FC Barcelona</td>\n",
       "    </tr>\n",
       "    <tr>\n",
       "      <th>23908</th>\n",
       "      <td>2015</td>\n",
       "      <td>Athletic Bilbao</td>\n",
       "      <td>Sevilla FC</td>\n",
       "    </tr>\n",
       "    <tr>\n",
       "      <th>23909</th>\n",
       "      <td>2015</td>\n",
       "      <td>Atletico Madrid</td>\n",
       "      <td>Celta Vigo</td>\n",
       "    </tr>\n",
       "    <tr>\n",
       "      <th>23910</th>\n",
       "      <td>2015</td>\n",
       "      <td>Malaga CF</td>\n",
       "      <td>UD Las Palmas</td>\n",
       "    </tr>\n",
       "    <tr>\n",
       "      <th>23911</th>\n",
       "      <td>2015</td>\n",
       "      <td>Espanyol Barcelona</td>\n",
       "      <td>SD Eibar</td>\n",
       "    </tr>\n",
       "    <tr>\n",
       "      <th>23912</th>\n",
       "      <td>2015</td>\n",
       "      <td>Sporting Gijon</td>\n",
       "      <td>Villarreal CF</td>\n",
       "    </tr>\n",
       "    <tr>\n",
       "      <th>23913</th>\n",
       "      <td>2015</td>\n",
       "      <td>Real Betis</td>\n",
       "      <td>Getafe CF</td>\n",
       "    </tr>\n",
       "    <tr>\n",
       "      <th>23914</th>\n",
       "      <td>2015</td>\n",
       "      <td>Rayo Vallecano</td>\n",
       "      <td>Levante UD</td>\n",
       "    </tr>\n",
       "  </tbody>\n",
       "</table>\n",
       "</div>"
      ],
      "text/plain": [
       "       Season                 home        visitor\n",
       "23905    2015          Valencia CF  Real Sociedad\n",
       "23906    2015  Deportivo La Coruna    Real Madrid\n",
       "23907    2015           Granada CF   FC Barcelona\n",
       "23908    2015      Athletic Bilbao     Sevilla FC\n",
       "23909    2015      Atletico Madrid     Celta Vigo\n",
       "23910    2015            Malaga CF  UD Las Palmas\n",
       "23911    2015   Espanyol Barcelona       SD Eibar\n",
       "23912    2015       Sporting Gijon  Villarreal CF\n",
       "23913    2015           Real Betis      Getafe CF\n",
       "23914    2015       Rayo Vallecano     Levante UD"
      ]
     },
     "execution_count": 6,
     "metadata": {},
     "output_type": "execute_result"
    }
   ],
   "source": [
    "matches.iloc[-10:,1:4]"
   ]
  },
  {
   "cell_type": "code",
   "execution_count": 8,
   "metadata": {
    "collapsed": false
   },
   "outputs": [
    {
     "data": {
      "text/html": [
       "<div>\n",
       "<table border=\"1\" class=\"dataframe\">\n",
       "  <thead>\n",
       "    <tr style=\"text-align: right;\">\n",
       "      <th></th>\n",
       "      <th>Date</th>\n",
       "      <th>home</th>\n",
       "      <th>visitor</th>\n",
       "      <th>FT</th>\n",
       "    </tr>\n",
       "  </thead>\n",
       "  <tbody>\n",
       "    <tr>\n",
       "      <th>23905</th>\n",
       "      <td>2016-05-13</td>\n",
       "      <td>Valencia CF</td>\n",
       "      <td>Real Sociedad</td>\n",
       "      <td>0-1</td>\n",
       "    </tr>\n",
       "    <tr>\n",
       "      <th>23906</th>\n",
       "      <td>2016-05-14</td>\n",
       "      <td>Deportivo La Coruna</td>\n",
       "      <td>Real Madrid</td>\n",
       "      <td>0-2</td>\n",
       "    </tr>\n",
       "    <tr>\n",
       "      <th>23907</th>\n",
       "      <td>2016-05-14</td>\n",
       "      <td>Granada CF</td>\n",
       "      <td>FC Barcelona</td>\n",
       "      <td>0-3</td>\n",
       "    </tr>\n",
       "    <tr>\n",
       "      <th>23908</th>\n",
       "      <td>2016-05-14</td>\n",
       "      <td>Athletic Bilbao</td>\n",
       "      <td>Sevilla FC</td>\n",
       "      <td>3-1</td>\n",
       "    </tr>\n",
       "    <tr>\n",
       "      <th>23909</th>\n",
       "      <td>2016-05-14</td>\n",
       "      <td>Atletico Madrid</td>\n",
       "      <td>Celta Vigo</td>\n",
       "      <td>2-0</td>\n",
       "    </tr>\n",
       "    <tr>\n",
       "      <th>23910</th>\n",
       "      <td>2016-05-15</td>\n",
       "      <td>Malaga CF</td>\n",
       "      <td>UD Las Palmas</td>\n",
       "      <td>4-1</td>\n",
       "    </tr>\n",
       "    <tr>\n",
       "      <th>23911</th>\n",
       "      <td>2016-05-15</td>\n",
       "      <td>Espanyol Barcelona</td>\n",
       "      <td>SD Eibar</td>\n",
       "      <td>4-2</td>\n",
       "    </tr>\n",
       "    <tr>\n",
       "      <th>23912</th>\n",
       "      <td>2016-05-15</td>\n",
       "      <td>Sporting Gijon</td>\n",
       "      <td>Villarreal CF</td>\n",
       "      <td>2-0</td>\n",
       "    </tr>\n",
       "    <tr>\n",
       "      <th>23913</th>\n",
       "      <td>2016-05-15</td>\n",
       "      <td>Real Betis</td>\n",
       "      <td>Getafe CF</td>\n",
       "      <td>2-1</td>\n",
       "    </tr>\n",
       "    <tr>\n",
       "      <th>23914</th>\n",
       "      <td>2016-05-15</td>\n",
       "      <td>Rayo Vallecano</td>\n",
       "      <td>Levante UD</td>\n",
       "      <td>3-1</td>\n",
       "    </tr>\n",
       "  </tbody>\n",
       "</table>\n",
       "</div>"
      ],
      "text/plain": [
       "             Date                 home        visitor   FT\n",
       "23905  2016-05-13          Valencia CF  Real Sociedad  0-1\n",
       "23906  2016-05-14  Deportivo La Coruna    Real Madrid  0-2\n",
       "23907  2016-05-14           Granada CF   FC Barcelona  0-3\n",
       "23908  2016-05-14      Athletic Bilbao     Sevilla FC  3-1\n",
       "23909  2016-05-14      Atletico Madrid     Celta Vigo  2-0\n",
       "23910  2016-05-15            Malaga CF  UD Las Palmas  4-1\n",
       "23911  2016-05-15   Espanyol Barcelona       SD Eibar  4-2\n",
       "23912  2016-05-15       Sporting Gijon  Villarreal CF  2-0\n",
       "23913  2016-05-15           Real Betis      Getafe CF  2-1\n",
       "23914  2016-05-15       Rayo Vallecano     Levante UD  3-1"
      ]
     },
     "execution_count": 8,
     "metadata": {},
     "output_type": "execute_result"
    }
   ],
   "source": [
    "matches.loc[matches.shape[0] - 10:,[\"Date\", \"home\", \"visitor\", \"FT\"]]"
   ]
  },
  {
   "cell_type": "code",
   "execution_count": 40,
   "metadata": {
    "collapsed": false
   },
   "outputs": [
    {
     "data": {
      "text/plain": [
       "23910    2016-05-15\n",
       "23911    2016-05-15\n",
       "23912    2016-05-15\n",
       "23913    2016-05-15\n",
       "23914    2016-05-15\n",
       "Name: Date, dtype: object"
      ]
     },
     "execution_count": 40,
     "metadata": {},
     "output_type": "execute_result"
    }
   ],
   "source": [
    "matches[\"Date\"][-5:]  # Series object"
   ]
  },
  {
   "cell_type": "code",
   "execution_count": 38,
   "metadata": {
    "collapsed": false
   },
   "outputs": [
    {
     "data": {
      "text/html": [
       "<div>\n",
       "<table border=\"1\" class=\"dataframe\">\n",
       "  <thead>\n",
       "    <tr style=\"text-align: right;\">\n",
       "      <th></th>\n",
       "      <th>Date</th>\n",
       "      <th>FT</th>\n",
       "    </tr>\n",
       "  </thead>\n",
       "  <tbody>\n",
       "    <tr>\n",
       "      <th>23910</th>\n",
       "      <td>2016-05-15</td>\n",
       "      <td>4-1</td>\n",
       "    </tr>\n",
       "    <tr>\n",
       "      <th>23911</th>\n",
       "      <td>2016-05-15</td>\n",
       "      <td>4-2</td>\n",
       "    </tr>\n",
       "    <tr>\n",
       "      <th>23912</th>\n",
       "      <td>2016-05-15</td>\n",
       "      <td>2-0</td>\n",
       "    </tr>\n",
       "    <tr>\n",
       "      <th>23913</th>\n",
       "      <td>2016-05-15</td>\n",
       "      <td>2-1</td>\n",
       "    </tr>\n",
       "    <tr>\n",
       "      <th>23914</th>\n",
       "      <td>2016-05-15</td>\n",
       "      <td>3-1</td>\n",
       "    </tr>\n",
       "  </tbody>\n",
       "</table>\n",
       "</div>"
      ],
      "text/plain": [
       "             Date   FT\n",
       "23910  2016-05-15  4-1\n",
       "23911  2016-05-15  4-2\n",
       "23912  2016-05-15  2-0\n",
       "23913  2016-05-15  2-1\n",
       "23914  2016-05-15  3-1"
      ]
     },
     "execution_count": 38,
     "metadata": {},
     "output_type": "execute_result"
    }
   ],
   "source": [
    "matches[[\"Date\", \"FT\"]][-5:]"
   ]
  },
  {
   "cell_type": "code",
   "execution_count": null,
   "metadata": {
    "collapsed": true
   },
   "outputs": [],
   "source": []
  },
  {
   "cell_type": "markdown",
   "metadata": {},
   "source": [
    "### Агрегация"
   ]
  },
  {
   "cell_type": "code",
   "execution_count": 49,
   "metadata": {
    "collapsed": false
   },
   "outputs": [
    {
     "data": {
      "text/plain": [
       "(1.8334936232490069, 1.0283085929333056)"
      ]
     },
     "execution_count": 49,
     "metadata": {},
     "output_type": "execute_result"
    }
   ],
   "source": [
    "matches[\"hgoal\"].mean(), matches[\"vgoal\"].mean()"
   ]
  },
  {
   "cell_type": "code",
   "execution_count": 52,
   "metadata": {
    "collapsed": false
   },
   "outputs": [
    {
     "data": {
      "text/plain": [
       "(12, 8)"
      ]
     },
     "execution_count": 52,
     "metadata": {},
     "output_type": "execute_result"
    }
   ],
   "source": [
    "matches[\"hgoal\"].max(), matches[\"vgoal\"].max()"
   ]
  },
  {
   "cell_type": "code",
   "execution_count": 54,
   "metadata": {
    "collapsed": false
   },
   "outputs": [
    {
     "data": {
      "text/plain": [
       "(2.0, 1.0)"
      ]
     },
     "execution_count": 54,
     "metadata": {},
     "output_type": "execute_result"
    }
   ],
   "source": [
    "matches[\"hgoal\"].median(), matches[\"vgoal\"].median()"
   ]
  },
  {
   "cell_type": "code",
   "execution_count": null,
   "metadata": {
    "collapsed": true
   },
   "outputs": [],
   "source": []
  },
  {
   "cell_type": "code",
   "execution_count": 9,
   "metadata": {
    "collapsed": false
   },
   "outputs": [
    {
     "data": {
      "text/html": [
       "<div>\n",
       "<table border=\"1\" class=\"dataframe\">\n",
       "  <thead>\n",
       "    <tr style=\"text-align: right;\">\n",
       "      <th></th>\n",
       "      <th>Date</th>\n",
       "      <th>Season</th>\n",
       "      <th>home</th>\n",
       "      <th>visitor</th>\n",
       "      <th>HT</th>\n",
       "      <th>FT</th>\n",
       "      <th>hgoal</th>\n",
       "      <th>vgoal</th>\n",
       "      <th>tier</th>\n",
       "      <th>round</th>\n",
       "      <th>group</th>\n",
       "      <th>notes</th>\n",
       "    </tr>\n",
       "  </thead>\n",
       "  <tbody>\n",
       "    <tr>\n",
       "      <th>225</th>\n",
       "      <td>1931-02-08</td>\n",
       "      <td>1930</td>\n",
       "      <td>Athletic Bilbao</td>\n",
       "      <td>FC Barcelona</td>\n",
       "      <td>6-1</td>\n",
       "      <td>12-1</td>\n",
       "      <td>12</td>\n",
       "      <td>1</td>\n",
       "      <td>1</td>\n",
       "      <td>league</td>\n",
       "      <td>NaN</td>\n",
       "      <td>NaN</td>\n",
       "    </tr>\n",
       "    <tr>\n",
       "      <th>936</th>\n",
       "      <td>1940-09-29</td>\n",
       "      <td>1940</td>\n",
       "      <td>Sevilla FC</td>\n",
       "      <td>FC Barcelona</td>\n",
       "      <td>4-1</td>\n",
       "      <td>11-1</td>\n",
       "      <td>11</td>\n",
       "      <td>1</td>\n",
       "      <td>1</td>\n",
       "      <td>league</td>\n",
       "      <td>NaN</td>\n",
       "      <td>NaN</td>\n",
       "    </tr>\n",
       "    <tr>\n",
       "      <th>5027</th>\n",
       "      <td>1960-02-07</td>\n",
       "      <td>1959</td>\n",
       "      <td>Real Madrid</td>\n",
       "      <td>Elche CF</td>\n",
       "      <td>5-1</td>\n",
       "      <td>11-2</td>\n",
       "      <td>11</td>\n",
       "      <td>2</td>\n",
       "      <td>1</td>\n",
       "      <td>league</td>\n",
       "      <td>NaN</td>\n",
       "      <td>NaN</td>\n",
       "    </tr>\n",
       "  </tbody>\n",
       "</table>\n",
       "</div>"
      ],
      "text/plain": [
       "            Date  Season             home       visitor   HT    FT  hgoal  \\\n",
       "225   1931-02-08    1930  Athletic Bilbao  FC Barcelona  6-1  12-1     12   \n",
       "936   1940-09-29    1940       Sevilla FC  FC Barcelona  4-1  11-1     11   \n",
       "5027  1960-02-07    1959      Real Madrid      Elche CF  5-1  11-2     11   \n",
       "\n",
       "      vgoal  tier   round group notes  \n",
       "225       1     1  league   NaN   NaN  \n",
       "936       1     1  league   NaN   NaN  \n",
       "5027      2     1  league   NaN   NaN  "
      ]
     },
     "execution_count": 9,
     "metadata": {},
     "output_type": "execute_result"
    }
   ],
   "source": [
    "matches[matches[\"hgoal\"] > 10]"
   ]
  },
  {
   "cell_type": "code",
   "execution_count": 10,
   "metadata": {
    "collapsed": false
   },
   "outputs": [
    {
     "data": {
      "text/html": [
       "<div>\n",
       "<table border=\"1\" class=\"dataframe\">\n",
       "  <thead>\n",
       "    <tr style=\"text-align: right;\">\n",
       "      <th></th>\n",
       "      <th>Date</th>\n",
       "      <th>Season</th>\n",
       "      <th>home</th>\n",
       "      <th>visitor</th>\n",
       "      <th>HT</th>\n",
       "      <th>FT</th>\n",
       "      <th>hgoal</th>\n",
       "      <th>vgoal</th>\n",
       "      <th>tier</th>\n",
       "      <th>round</th>\n",
       "      <th>group</th>\n",
       "      <th>notes</th>\n",
       "    </tr>\n",
       "  </thead>\n",
       "  <tbody>\n",
       "    <tr>\n",
       "      <th>8554</th>\n",
       "      <td>1974-02-17</td>\n",
       "      <td>1973</td>\n",
       "      <td>Real Madrid</td>\n",
       "      <td>FC Barcelona</td>\n",
       "      <td>0-2</td>\n",
       "      <td>0-5</td>\n",
       "      <td>0</td>\n",
       "      <td>5</td>\n",
       "      <td>1</td>\n",
       "      <td>league</td>\n",
       "      <td>NaN</td>\n",
       "      <td>NaN</td>\n",
       "    </tr>\n",
       "    <tr>\n",
       "      <th>21205</th>\n",
       "      <td>2009-05-02</td>\n",
       "      <td>2008</td>\n",
       "      <td>Real Madrid</td>\n",
       "      <td>FC Barcelona</td>\n",
       "      <td>1-3</td>\n",
       "      <td>2-6</td>\n",
       "      <td>2</td>\n",
       "      <td>6</td>\n",
       "      <td>1</td>\n",
       "      <td>league</td>\n",
       "      <td>NaN</td>\n",
       "      <td>NaN</td>\n",
       "    </tr>\n",
       "    <tr>\n",
       "      <th>23063</th>\n",
       "      <td>2014-03-23</td>\n",
       "      <td>2013</td>\n",
       "      <td>Real Madrid</td>\n",
       "      <td>FC Barcelona</td>\n",
       "      <td>2-2</td>\n",
       "      <td>3-4</td>\n",
       "      <td>3</td>\n",
       "      <td>4</td>\n",
       "      <td>1</td>\n",
       "      <td>league</td>\n",
       "      <td>NaN</td>\n",
       "      <td>NaN</td>\n",
       "    </tr>\n",
       "    <tr>\n",
       "      <th>23646</th>\n",
       "      <td>2015-11-21</td>\n",
       "      <td>2015</td>\n",
       "      <td>Real Madrid</td>\n",
       "      <td>FC Barcelona</td>\n",
       "      <td>NaN</td>\n",
       "      <td>0-4</td>\n",
       "      <td>0</td>\n",
       "      <td>4</td>\n",
       "      <td>1</td>\n",
       "      <td>league</td>\n",
       "      <td>NaN</td>\n",
       "      <td>NaN</td>\n",
       "    </tr>\n",
       "  </tbody>\n",
       "</table>\n",
       "</div>"
      ],
      "text/plain": [
       "             Date  Season         home       visitor   HT   FT  hgoal  vgoal  \\\n",
       "8554   1974-02-17    1973  Real Madrid  FC Barcelona  0-2  0-5      0      5   \n",
       "21205  2009-05-02    2008  Real Madrid  FC Barcelona  1-3  2-6      2      6   \n",
       "23063  2014-03-23    2013  Real Madrid  FC Barcelona  2-2  3-4      3      4   \n",
       "23646  2015-11-21    2015  Real Madrid  FC Barcelona  NaN  0-4      0      4   \n",
       "\n",
       "       tier   round group notes  \n",
       "8554      1  league   NaN   NaN  \n",
       "21205     1  league   NaN   NaN  \n",
       "23063     1  league   NaN   NaN  \n",
       "23646     1  league   NaN   NaN  "
      ]
     },
     "execution_count": 10,
     "metadata": {},
     "output_type": "execute_result"
    }
   ],
   "source": [
    "matches[(matches[\"home\"] == \"Real Madrid\") & (matches[\"visitor\"] == \"FC Barcelona\") & (matches[\"vgoal\"] > 3)]"
   ]
  },
  {
   "cell_type": "code",
   "execution_count": null,
   "metadata": {
    "collapsed": true
   },
   "outputs": [],
   "source": []
  },
  {
   "cell_type": "markdown",
   "metadata": {},
   "source": [
    "### Картинки"
   ]
  },
  {
   "cell_type": "code",
   "execution_count": 11,
   "metadata": {
    "collapsed": true
   },
   "outputs": [],
   "source": [
    "%matplotlib inline"
   ]
  },
  {
   "cell_type": "code",
   "execution_count": 12,
   "metadata": {
    "collapsed": false
   },
   "outputs": [
    {
     "data": {
      "text/plain": [
       "<matplotlib.axes._subplots.AxesSubplot at 0x11a6760f0>"
      ]
     },
     "execution_count": 12,
     "metadata": {},
     "output_type": "execute_result"
    },
    {
     "data": {
      "image/png": "[encoded data removed]",
      "text/plain": [
       "<matplotlib.figure.Figure at 0x10ed63208>"
      ]
     },
     "metadata": {},
     "output_type": "display_data"
    }
   ],
   "source": [
    "matches[matches[\"home\"] == \"FC Barcelona\"][\"hgoal\"].hist()"
   ]
  },
  {
   "cell_type": "code",
   "execution_count": 13,
   "metadata": {
    "collapsed": false
   },
   "outputs": [
    {
     "data": {
      "text/plain": [
       "<matplotlib.axes._subplots.AxesSubplot at 0x11a800ac8>"
      ]
     },
     "execution_count": 13,
     "metadata": {},
     "output_type": "execute_result"
    },
    {
     "data": {
      "image/png": "[encoded data removed]",
      "text/plain": [
       "<matplotlib.figure.Figure at 0x11a71e908>"
      ]
     },
     "metadata": {},
     "output_type": "display_data"
    }
   ],
   "source": [
    "matches[matches[\"home\"] == \"Real Madrid\"][\"hgoal\"].hist()"
   ]
  }
 ],
 "metadata": {
  "anaconda-cloud": {},
  "kernelspec": {
   "display_name": "Python 3",
   "language": "python",
   "name": "python3"
  },
  "language_info": {
   "codemirror_mode": {
    "name": "ipython",
    "version": 3
   },
   "file_extension": ".py",
   "mimetype": "text/x-python",
   "name": "python",
   "nbconvert_exporter": "python",
   "pygments_lexer": "ipython3",
   "version": "3.6.0"
  }
 },
 "nbformat": 4,
 "nbformat_minor": 1
}
