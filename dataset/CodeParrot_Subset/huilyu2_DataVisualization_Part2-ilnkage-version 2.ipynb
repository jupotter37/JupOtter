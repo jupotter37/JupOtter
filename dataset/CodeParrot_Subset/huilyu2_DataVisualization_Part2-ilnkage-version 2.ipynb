{
 "cells": [
  {
   "cell_type": "code",
   "execution_count": 212,
   "metadata": {
    "collapsed": true
   },
   "outputs": [],
   "source": [
    "import plotly \n",
    "plotly.tools.set_credentials_file(username='yuxiangling0809', api_key='vJxzgz9EZWkJZdHur9A8')"
   ]
  },
  {
   "cell_type": "code",
   "execution_count": 213,
   "metadata": {
    "collapsed": true
   },
   "outputs": [],
   "source": [
    "import plotly \n",
    "plotly.tools.set_config_file(world_readable=True,\n",
    "                             sharing='public')"
   ]
  },
  {
   "cell_type": "code",
   "execution_count": 214,
   "metadata": {
    "collapsed": false
   },
   "outputs": [],
   "source": [
    "import plotly.plotly as py"
   ]
  },
  {
   "cell_type": "code",
   "execution_count": 215,
   "metadata": {
    "collapsed": true
   },
   "outputs": [],
   "source": [
    "import pandas as pd"
   ]
  },
  {
   "cell_type": "code",
   "execution_count": 27,
   "metadata": {
    "collapsed": false
   },
   "outputs": [],
   "source": [
    "df = pd.read_csv('/Users/qiqi/DV590/Administrative_Discretionary_Grants_Dataset.csv')"
   ]
  },
  {
   "cell_type": "code",
   "execution_count": 80,
   "metadata": {
    "collapsed": false
   },
   "outputs": [],
   "source": [
    "df1 = pd.read_csv('/Users/qiqi/DV590/Part2-Q3-data.csv')"
   ]
  },
  {
   "cell_type": "code",
   "execution_count": 81,
   "metadata": {
    "collapsed": false
   },
   "outputs": [
    {
     "data": {
      "text/html": [
       "<div>\n",
       "<table border=\"1\" class=\"dataframe\">\n",
       "  <thead>\n",
       "    <tr style=\"text-align: right;\">\n",
       "      <th></th>\n",
       "      <th>Log Number</th>\n",
       "      <th>Institution</th>\n",
       "      <th>Program</th>\n",
       "      <th>Program Type</th>\n",
       "      <th>Project Title</th>\n",
       "      <th>Project Type</th>\n",
       "      <th>Award Date</th>\n",
       "      <th>Address</th>\n",
       "      <th>Address 2</th>\n",
       "      <th>Address 3</th>\n",
       "      <th>...</th>\n",
       "      <th>Census Tract</th>\n",
       "      <th>Census Block</th>\n",
       "      <th>MCD Code</th>\n",
       "      <th>Place Code</th>\n",
       "      <th>CBSA Code</th>\n",
       "      <th>MSAD Code</th>\n",
       "      <th>Description</th>\n",
       "      <th>Location</th>\n",
       "      <th>Organizational Unit Location</th>\n",
       "      <th>text</th>\n",
       "    </tr>\n",
       "  </thead>\n",
       "  <tbody>\n",
       "    <tr>\n",
       "      <th>0</th>\n",
       "      <td>IM-01-02-0010-02</td>\n",
       "      <td>Fire Museum of Maryland</td>\n",
       "      <td>Museum Assessment Program</td>\n",
       "      <td>IM</td>\n",
       "      <td>NaN</td>\n",
       "      <td>Institutional</td>\n",
       "      <td>3/27/02 0:00</td>\n",
       "      <td>1301 York Road</td>\n",
       "      <td>NaN</td>\n",
       "      <td>NaN</td>\n",
       "      <td>...</td>\n",
       "      <td>408703.0</td>\n",
       "      <td>2001.0</td>\n",
       "      <td>90656.0</td>\n",
       "      <td>51587.0</td>\n",
       "      <td>12580.0</td>\n",
       "      <td>NaN</td>\n",
       "      <td>NaN</td>\n",
       "      <td>1301 York Road\\rLutherville, MD 21093\\r(39.417...</td>\n",
       "      <td>NaN</td>\n",
       "      <td>Museum Assessment Program&lt;br&gt;Total Amount Awar...</td>\n",
       "    </tr>\n",
       "    <tr>\n",
       "      <th>1</th>\n",
       "      <td>IM-01-03-0032-03</td>\n",
       "      <td>Loxahatchee River Historical Museum</td>\n",
       "      <td>Museum Assessment Program</td>\n",
       "      <td>IM</td>\n",
       "      <td>NaN</td>\n",
       "      <td>Institutional</td>\n",
       "      <td>38020</td>\n",
       "      <td>805 North U.S. Highway 1</td>\n",
       "      <td>NaN</td>\n",
       "      <td>NaN</td>\n",
       "      <td>...</td>\n",
       "      <td>408.0</td>\n",
       "      <td>2003.0</td>\n",
       "      <td>91690.0</td>\n",
       "      <td>35875.0</td>\n",
       "      <td>33100.0</td>\n",
       "      <td>48424.0</td>\n",
       "      <td>NaN</td>\n",
       "      <td>805 North U.S. Highway 1\\rJupiter, FL 33477\\r(...</td>\n",
       "      <td>NaN</td>\n",
       "      <td>Museum Assessment Program&lt;br&gt;Total Amount Awar...</td>\n",
       "    </tr>\n",
       "    <tr>\n",
       "      <th>2</th>\n",
       "      <td>LL-30-99-0194-99</td>\n",
       "      <td>Museum of Science and Industry, Chicago</td>\n",
       "      <td>National Leadership Grants (LL)</td>\n",
       "      <td>LL</td>\n",
       "      <td>NaN</td>\n",
       "      <td>NLG LMC</td>\n",
       "      <td>7/12/99 0:00</td>\n",
       "      <td>57th Street and Lake Shore Drive</td>\n",
       "      <td>NaN</td>\n",
       "      <td>NaN</td>\n",
       "      <td>...</td>\n",
       "      <td>411000.0</td>\n",
       "      <td>1008.0</td>\n",
       "      <td>14000.0</td>\n",
       "      <td>14000.0</td>\n",
       "      <td>16980.0</td>\n",
       "      <td>16974.0</td>\n",
       "      <td>NaN</td>\n",
       "      <td>57th Street and Lake Shore Drive\\rChicago, IL ...</td>\n",
       "      <td>NaN</td>\n",
       "      <td>National Leadership Grants (LL)&lt;br&gt;Total Amoun...</td>\n",
       "    </tr>\n",
       "    <tr>\n",
       "      <th>3</th>\n",
       "      <td>IC-22-10-0036-10</td>\n",
       "      <td>County of Delaware</td>\n",
       "      <td>Conservation Program</td>\n",
       "      <td>IC</td>\n",
       "      <td>Collection Storage Improvement</td>\n",
       "      <td>AHPG-Library</td>\n",
       "      <td>2/22/10 0:00</td>\n",
       "      <td>44 Burrer Drive</td>\n",
       "      <td>NaN</td>\n",
       "      <td>NaN</td>\n",
       "      <td>...</td>\n",
       "      <td>11604.0</td>\n",
       "      <td>2023.0</td>\n",
       "      <td>75620.0</td>\n",
       "      <td>75602.0</td>\n",
       "      <td>18140.0</td>\n",
       "      <td>NaN</td>\n",
       "      <td>The County of Delaware Community Library in Su...</td>\n",
       "      <td>44 Burrer Drive\\rSunbury, OH 43074-9319\\r(40.2...</td>\n",
       "      <td>NaN</td>\n",
       "      <td>Conservation Program&lt;br&gt;Total Amount Awarded a...</td>\n",
       "    </tr>\n",
       "    <tr>\n",
       "      <th>4</th>\n",
       "      <td>IC-21-11-0142-11</td>\n",
       "      <td>Plimoth Plantation</td>\n",
       "      <td>Conservation Program</td>\n",
       "      <td>IC</td>\n",
       "      <td>Rare Book Rehousing Project</td>\n",
       "      <td>AHPG-Museum</td>\n",
       "      <td>37875</td>\n",
       "      <td>P.O. Box 1620</td>\n",
       "      <td>NaN</td>\n",
       "      <td>NaN</td>\n",
       "      <td>...</td>\n",
       "      <td>530600.0</td>\n",
       "      <td>1040.0</td>\n",
       "      <td>54310.0</td>\n",
       "      <td>NaN</td>\n",
       "      <td>14460.0</td>\n",
       "      <td>14454.0</td>\n",
       "      <td>Plimoth Plantation will re-house the museum's ...</td>\n",
       "      <td>P.O. Box 1620\\rPlymouth, MA 02362-1620\\r</td>\n",
       "      <td>NaN</td>\n",
       "      <td>Conservation Program&lt;br&gt;Total Amount Awarded a...</td>\n",
       "    </tr>\n",
       "  </tbody>\n",
       "</table>\n",
       "<p>5 rows × 40 columns</p>\n",
       "</div>"
      ],
      "text/plain": [
       "         Log Number                              Institution  \\\n",
       "0  IM-01-02-0010-02                  Fire Museum of Maryland   \n",
       "1  IM-01-03-0032-03      Loxahatchee River Historical Museum   \n",
       "2  LL-30-99-0194-99  Museum of Science and Industry, Chicago   \n",
       "3  IC-22-10-0036-10                       County of Delaware   \n",
       "4  IC-21-11-0142-11                       Plimoth Plantation   \n",
       "\n",
       "                           Program Program Type  \\\n",
       "0        Museum Assessment Program           IM   \n",
       "1        Museum Assessment Program           IM   \n",
       "2  National Leadership Grants (LL)           LL   \n",
       "3             Conservation Program           IC   \n",
       "4             Conservation Program           IC   \n",
       "\n",
       "                    Project Title   Project Type    Award Date  \\\n",
       "0                             NaN  Institutional  3/27/02 0:00   \n",
       "1                             NaN  Institutional         38020   \n",
       "2                             NaN        NLG LMC  7/12/99 0:00   \n",
       "3  Collection Storage Improvement   AHPG-Library  2/22/10 0:00   \n",
       "4     Rare Book Rehousing Project    AHPG-Museum         37875   \n",
       "\n",
       "                            Address Address 2 Address 3  \\\n",
       "0                    1301 York Road       NaN       NaN   \n",
       "1          805 North U.S. Highway 1       NaN       NaN   \n",
       "2  57th Street and Lake Shore Drive       NaN       NaN   \n",
       "3                   44 Burrer Drive       NaN       NaN   \n",
       "4                     P.O. Box 1620       NaN       NaN   \n",
       "\n",
       "                         ...                         Census Tract  \\\n",
       "0                        ...                             408703.0   \n",
       "1                        ...                                408.0   \n",
       "2                        ...                             411000.0   \n",
       "3                        ...                              11604.0   \n",
       "4                        ...                             530600.0   \n",
       "\n",
       "  Census Block MCD Code  Place Code  CBSA Code  MSAD Code  \\\n",
       "0       2001.0  90656.0     51587.0    12580.0        NaN   \n",
       "1       2003.0  91690.0     35875.0    33100.0    48424.0   \n",
       "2       1008.0  14000.0     14000.0    16980.0    16974.0   \n",
       "3       2023.0  75620.0     75602.0    18140.0        NaN   \n",
       "4       1040.0  54310.0         NaN    14460.0    14454.0   \n",
       "\n",
       "                                         Description  \\\n",
       "0                                                NaN   \n",
       "1                                                NaN   \n",
       "2                                                NaN   \n",
       "3  The County of Delaware Community Library in Su...   \n",
       "4  Plimoth Plantation will re-house the museum's ...   \n",
       "\n",
       "                                            Location  \\\n",
       "0  1301 York Road\\rLutherville, MD 21093\\r(39.417...   \n",
       "1  805 North U.S. Highway 1\\rJupiter, FL 33477\\r(...   \n",
       "2  57th Street and Lake Shore Drive\\rChicago, IL ...   \n",
       "3  44 Burrer Drive\\rSunbury, OH 43074-9319\\r(40.2...   \n",
       "4           P.O. Box 1620\\rPlymouth, MA 02362-1620\\r   \n",
       "\n",
       "  Organizational Unit Location  \\\n",
       "0                          NaN   \n",
       "1                          NaN   \n",
       "2                          NaN   \n",
       "3                          NaN   \n",
       "4                          NaN   \n",
       "\n",
       "                                                text  \n",
       "0  Museum Assessment Program<br>Total Amount Awar...  \n",
       "1  Museum Assessment Program<br>Total Amount Awar...  \n",
       "2  National Leadership Grants (LL)<br>Total Amoun...  \n",
       "3  Conservation Program<br>Total Amount Awarded a...  \n",
       "4  Conservation Program<br>Total Amount Awarded a...  \n",
       "\n",
       "[5 rows x 40 columns]"
      ]
     },
     "execution_count": 81,
     "metadata": {},
     "output_type": "execute_result"
    }
   ],
   "source": [
    "df.head()"
   ]
  },
  {
   "cell_type": "code",
   "execution_count": 82,
   "metadata": {
    "collapsed": false
   },
   "outputs": [
    {
     "data": {
      "text/html": [
       "<div>\n",
       "<table border=\"1\" class=\"dataframe\">\n",
       "  <thead>\n",
       "    <tr style=\"text-align: right;\">\n",
       "      <th></th>\n",
       "      <th>z</th>\n",
       "      <th>locations</th>\n",
       "      <th>text</th>\n",
       "      <th>Unnamed: 3</th>\n",
       "      <th>Unnamed: 4</th>\n",
       "      <th>Unnamed: 5</th>\n",
       "      <th>Unnamed: 6</th>\n",
       "      <th>Unnamed: 7</th>\n",
       "      <th>GDP</th>\n",
       "    </tr>\n",
       "  </thead>\n",
       "  <tbody>\n",
       "    <tr>\n",
       "      <th>0</th>\n",
       "      <td>156750.0</td>\n",
       "      <td>AL</td>\n",
       "      <td>State: AL&lt;br&gt;Total Awarded Amount: 5743215&lt;br&gt;...</td>\n",
       "      <td>NaN</td>\n",
       "      <td>NaN</td>\n",
       "      <td>NaN</td>\n",
       "      <td>NaN</td>\n",
       "      <td>NaN</td>\n",
       "      <td>156750.0</td>\n",
       "    </tr>\n",
       "    <tr>\n",
       "      <th>1</th>\n",
       "      <td>40063.0</td>\n",
       "      <td>AK</td>\n",
       "      <td>State: AK&lt;br&gt;Total Awarded Amount: 16189749&lt;br...</td>\n",
       "      <td>NaN</td>\n",
       "      <td>NaN</td>\n",
       "      <td>NaN</td>\n",
       "      <td>NaN</td>\n",
       "      <td>NaN</td>\n",
       "      <td>40063.0</td>\n",
       "    </tr>\n",
       "    <tr>\n",
       "      <th>2</th>\n",
       "      <td>227358.0</td>\n",
       "      <td>AZ</td>\n",
       "      <td>State: AZ&lt;br&gt;Total Awarded Amount: 19037687&lt;br...</td>\n",
       "      <td>NaN</td>\n",
       "      <td>NaN</td>\n",
       "      <td>NaN</td>\n",
       "      <td>NaN</td>\n",
       "      <td>NaN</td>\n",
       "      <td>227358.0</td>\n",
       "    </tr>\n",
       "    <tr>\n",
       "      <th>3</th>\n",
       "      <td>90319.0</td>\n",
       "      <td>AR</td>\n",
       "      <td>State: AR&lt;br&gt;Total Awarded Amount: 1965330&lt;br&gt;...</td>\n",
       "      <td>NaN</td>\n",
       "      <td>NaN</td>\n",
       "      <td>NaN</td>\n",
       "      <td>NaN</td>\n",
       "      <td>NaN</td>\n",
       "      <td>90319.0</td>\n",
       "    </tr>\n",
       "    <tr>\n",
       "      <th>4</th>\n",
       "      <td>1766693.0</td>\n",
       "      <td>CA</td>\n",
       "      <td>State: CA&lt;br&gt;Total Awarded Amount: 74663752&lt;br...</td>\n",
       "      <td>NaN</td>\n",
       "      <td>NaN</td>\n",
       "      <td>NaN</td>\n",
       "      <td>NaN</td>\n",
       "      <td>NaN</td>\n",
       "      <td>1766693.0</td>\n",
       "    </tr>\n",
       "  </tbody>\n",
       "</table>\n",
       "</div>"
      ],
      "text/plain": [
       "           z locations                                               text  \\\n",
       "0   156750.0        AL  State: AL<br>Total Awarded Amount: 5743215<br>...   \n",
       "1    40063.0        AK  State: AK<br>Total Awarded Amount: 16189749<br...   \n",
       "2   227358.0        AZ  State: AZ<br>Total Awarded Amount: 19037687<br...   \n",
       "3    90319.0        AR  State: AR<br>Total Awarded Amount: 1965330<br>...   \n",
       "4  1766693.0        CA  State: CA<br>Total Awarded Amount: 74663752<br...   \n",
       "\n",
       "   Unnamed: 3  Unnamed: 4  Unnamed: 5  Unnamed: 6  Unnamed: 7        GDP  \n",
       "0         NaN         NaN         NaN         NaN         NaN   156750.0  \n",
       "1         NaN         NaN         NaN         NaN         NaN    40063.0  \n",
       "2         NaN         NaN         NaN         NaN         NaN   227358.0  \n",
       "3         NaN         NaN         NaN         NaN         NaN    90319.0  \n",
       "4         NaN         NaN         NaN         NaN         NaN  1766693.0  "
      ]
     },
     "execution_count": 82,
     "metadata": {},
     "output_type": "execute_result"
    }
   ],
   "source": [
    "df1.head()"
   ]
  },
  {
   "cell_type": "code",
   "execution_count": 83,
   "metadata": {
    "collapsed": false,
    "scrolled": true
   },
   "outputs": [],
   "source": [
    "df['text'] = df['Program'] +'<br>'+ 'Total Amount Awarded and Disbursed ' + (df['Total Amount Awarded and Disbursed']/1e3).astype(str)+'thousand'+'<br>'\n",
    "limits = [(0,10),(10,100),(100,200),(200,500),(500,1000),(1000,3000)]\n",
    "colors = [\"lightgrey\",\"rgb(255,65,54)\",\"rgb(133,20,75)\",\"rgb(255,133,27)\",\"#ffb266\",\"rgb(0,116,217)\"]\n",
    "Programs = []\n",
    "scale = 6000\n"
   ]
  },
  {
   "cell_type": "code",
   "execution_count": 84,
   "metadata": {
    "collapsed": false
   },
   "outputs": [],
   "source": [
    "for i in range(len(limits)):\n",
    "    lim = limits[i]\n",
    "    df_sub = df[((df['Total Amount Awarded and Disbursed']/1e3)<limits[i][1])&((df['Total Amount Awarded and Disbursed']/1e3)>limits[i][0])]\n",
    "    program = dict(\n",
    "        type = 'scattergeo',\n",
    "        locationmode = 'USA-states',\n",
    "        lon = df_sub['LNG'],\n",
    "        lat = df_sub['LAT'],\n",
    "        text = df_sub['text'],\n",
    "        marker = dict(\n",
    "            size = df_sub['Total Amount Awarded and Disbursed']/scale,\n",
    "            color = colors[i],\n",
    "            line = dict(width=0.5, color='rgb(40,40,40)'),\n",
    "            sizemode = 'area'\n",
    "        ),\n",
    "        name = '{0} - {1}'.format(limits[i][0],limits[i][1]) )\n",
    "    Programs.append(program)\n"
   ]
  },
  {
   "cell_type": "code",
   "execution_count": 85,
   "metadata": {
    "collapsed": true
   },
   "outputs": [],
   "source": [
    "trace1=Programs"
   ]
  },
  {
   "cell_type": "code",
   "execution_count": 86,
   "metadata": {
    "collapsed": true
   },
   "outputs": [],
   "source": [
    "scl = [[0.0, 'rgb(242,240,247)'],[0.2, 'rgb(218,218,235)'],[0.4, 'rgb(188,189,220)'],\n",
    "            [0.6, 'rgb(158,154,200)'],[0.8, 'rgb(117,107,177)'],[1.0, 'rgb(84,39,143)']]"
   ]
  },
  {
   "cell_type": "code",
   "execution_count": 132,
   "metadata": {
    "collapsed": false
   },
   "outputs": [],
   "source": [
    "trace2 = [ dict(\n",
    "        type='choropleth',\n",
    "        colorscale = scl,\n",
    "        autocolorscale = False,\n",
    "        locations = df1['locations'],\n",
    "        z = [156750,40063,227358,90319,1766693,220454,210170,53247,83586,700267,388342,58573,47176,586442,245197,123353,104884,143875,199683,46277,263809,345059,395166,243933,81678,224091,30637,73455,118785,57282,443148,74403,1023433,357168,24622,467392,125243,147535,506505,45663,143585,31380,227505,990054,94475,23539,359273,296403,53453,226325,27454], \n",
    "        locationmode = 'USA-states',\n",
    "       text = [\"State: AL<br>Total Awarded Amount: 5743215<br>GDP(million):   156750\",\n",
    "\"State: AK<br>Total Awarded Amount: 16189749<br>GDP(million): 40063\",\n",
    "\"State: AZ<br>Total Awarded Amount: 19037687<br>GDP(million): 227358\",\n",
    "\"State: AR<br>Total Awarded Amount: 1965330<br>GDP(million): 90319\",\n",
    "\"State: CA<br>Total Awarded Amount: 74663752<br>GDP(million): 1766693\",\n",
    "\"State: CO<br>Total Awarded Amount: 22235728<br>GDP(million): 220454\",\n",
    "\"State: CT<br>Total Awarded Amount: 16501999<br>GDP(million): 210170\",\n",
    "\"State: DE<br>Total Awarded Amount: 3857523<br>GDP(million): 53247\",\n",
    "\"State: DC<br>Total Awarded Amount: 25424106<br>GDP(million): 83586\",\n",
    "\"State: FL<br>Total Awarded Amount: 26600593<br>GDP(million): 700267\",\n",
    "\"State: GA<br>Total Awarded Amount: 11216327<br>GDP(million): 388342\",\n",
    "\"State: HI<br>Total Awarded Amount: 14427899<br>GDP(million): 58573\",\n",
    "\"State: ID<br>Total Awarded Amount: 1961349<br>GDP(million): 47176\",\n",
    "\"State: IL<br>Total Awarded Amount: 68112505<br>GDP(million): 586442\",\n",
    "\"State: IN<br>Total Awarded Amount: 16377153<br>GDP(million): 245197\",\n",
    "\"State: IA<br>Total Awarded Amount: 8493716<br>GDP(million): 123353\",\n",
    "\"State: KS<br>Total Awarded Amount: 5764416<br>GDP(million): 104884\",\n",
    "\"State: KY<br>Total Awarded Amount: 8022942<br>GDP(million): 143875\",\n",
    "\"State: LA<br>Total Awarded Amount: 7978539<br>GDP(million): 199683\",\n",
    "\"State: ME<br>Total Awarded Amount: 11177079<br>GDP(million): 46277\",\n",
    "\"State: MD<br>Total Awarded Amount: 21671260<br>GDP(million): 263809\",\n",
    "\"State: MA<br>Total Awarded Amount: 45976945<br>GDP(million): 345059\",\n",
    "\"State: MI<br>Total Awarded Amount: 28799226<br>GDP(million): 395166\",\n",
    "\"State: MN<br>Total Awarded Amount: 15325162<br>GDP(million): 243933\",\n",
    "\"State: MS<br>Total Awarded Amount: 2787779<br>GDP(million): 81678\",\n",
    "\"State: MO<br>Total Awarded Amount: 14911587<br>GDP(million): 224091\",\n",
    "\"State: MT<br>Total Awarded Amount: 10424194<br>GDP(million): 30637\",\n",
    "\"State: NE<br>Total Awarded Amount: 6600356<br>GDP(million): 73455\",\n",
    "\"State: NV<br>Total Awarded Amount: 3677624<br>GDP(million): 118785\",\n",
    "\"State: NH<br>Total Awarded Amount: 4797223<br>GDP(million): 57282\",\n",
    "\"State: NJ<br>Total Awarded Amount: 11475362<br>GDP(million): 443148\",\n",
    "\"State: NM<br>Total Awarded Amount: 10640574<br>GDP(million): 74403\",\n",
    "\"State: NY<br>Total Awarded Amount: 105860170<br>GDP(million): 1023433\",\n",
    "\"State: NC<br>Total Awarded Amount: 29992038<br>GDP(million): 357168\",\n",
    "\"State: ND<br>Total Awarded Amount: 3071608<br>GDP(million): 24622\",\n",
    "\"State: OH<br>Total Awarded Amount: 22015009<br>GDP(million): 467392\",\n",
    "\"State: OK<br>Total Awarded Amount: 12405823<br>GDP(million): 125243\",\n",
    "\"State: OR<br>Total Awarded Amount: 9556529<br>GDP(million): 147535\",\n",
    "\"State: PA<br>Total Awarded Amount: 59575053<br>GDP(million): 506505\",\n",
    "\"State: RI<br>Total Awarded Amount: 4751919<br>GDP(million): 45663\",\n",
    "\"State: SC<br>Total Awarded Amount: 9063478<br>GDP(million): 143585\",\n",
    "\"State: SD<br>Total Awarded Amount: 3596551<br>GDP(million): 31380\",\n",
    "\"State: TN<br>Total Awarded Amount: 18083590<br>GDP(million): 227505\",\n",
    "\"State: TX<br>Total Awarded Amount: 48252344<br>GDP(million): 990054\",\n",
    "\"State: UT<br>Total Awarded Amount: 6884351<br>GDP(million): 94475\",\n",
    "\"State: VT<br>Total Awarded Amount: 6381133<br>GDP(million): 23539\",\n",
    "\"State: VA<br>Total Awarded Amount: 18068081<br>GDP(million): 359273\",\n",
    "\"State: WA<br>Total Awarded Amount: 23476750<br>GDP(million): 296403\",\n",
    "\"State: WV<br>Total Awarded Amount: 927680<br>GDP(million): 53453\",\n",
    "\"State: WI<br>Total Awarded Amount: 17075827<br>GDP(million): 226325\",\n",
    "\"State: WY<br>Total Awarded Amount: 2210361<br>GDP(million): 27454\"],\n",
    "        marker = dict(\n",
    "            line = dict (\n",
    "                color = 'rgb(255,255,255)',\n",
    "                width = 2\n",
    "            ) ),\n",
    "        colorbar = dict(\n",
    "            title = \"Millions USD\")\n",
    "        ) ]"
   ]
  },
  {
   "cell_type": "code",
   "execution_count": 133,
   "metadata": {
    "collapsed": false
   },
   "outputs": [],
   "source": [
    "layout2 = dict(\n",
    "        title = '2005 US GDP Distribution<br>(Compared with total awarded amount)',\n",
    "        geo = dict(\n",
    "            scope='usa',\n",
    "            projection=dict( type='albers usa' ),\n",
    "            showlakes = True,\n",
    "            lakecolor = 'rgb(255, 255, 255)'),\n",
    "             )"
   ]
  },
  {
   "cell_type": "code",
   "execution_count": 134,
   "metadata": {
    "collapsed": true
   },
   "outputs": [],
   "source": [
    "layout1=dict(\n",
    "        title = 'Administrative Discretionary Grants<br>(Click legend to toggle traces)',\n",
    "        showlegend = True,\n",
    "        geo = dict(\n",
    "            scope='usa',\n",
    "            projection=dict( type='albers usa' ),\n",
    "            showland = True,\n",
    "            landcolor = 'rgb(217, 217, 217)',\n",
    "            subunitwidth=1,\n",
    "            countrywidth=1,\n",
    "            subunitcolor=\"rgb(255, 255, 255)\",\n",
    "            countrycolor=\"rgb(255, 255, 255)\"\n",
    "        ),\n",
    "    )"
   ]
  },
  {
   "cell_type": "code",
   "execution_count": 131,
   "metadata": {
    "collapsed": false
   },
   "outputs": [
    {
     "data": {
      "text/plain": [
       "list"
      ]
     },
     "execution_count": 131,
     "metadata": {},
     "output_type": "execute_result"
    }
   ],
   "source": [
    "type(trace2)"
   ]
  },
  {
   "cell_type": "code",
   "execution_count": 138,
   "metadata": {
    "collapsed": false
   },
   "outputs": [
    {
     "data": {
      "text/html": [
       "\n",
       "    <div class=\"bk-root\">\n",
       "        <a href=\"http://bokeh.pydata.org\" target=\"_blank\" class=\"bk-logo bk-logo-small bk-logo-notebook\"></a>\n",
       "        <span id=\"63ec5002-d507-471a-86da-6212c5aba955\">Loading BokehJS ...</span>\n",
       "    </div>"
      ]
     },
     "metadata": {},
     "output_type": "display_data"
    },
    {
     "data": {
      "application/javascript": [
       "\n",
       "(function(global) {\n",
       "  function now() {\n",
       "    return new Date();\n",
       "  }\n",
       "\n",
       "  var force = true;\n",
       "\n",
       "  if (typeof (window._bokeh_onload_callbacks) === \"undefined\" || force === true) {\n",
       "    window._bokeh_onload_callbacks = [];\n",
       "    window._bokeh_is_loading = undefined;\n",
       "  }\n",
       "\n",
       "\n",
       "  \n",
       "  if (typeof (window._bokeh_timeout) === \"undefined\" || force === true) {\n",
       "    window._bokeh_timeout = Date.now() + 5000;\n",
       "    window._bokeh_failed_load = false;\n",
       "  }\n",
       "\n",
       "  var NB_LOAD_WARNING = {'data': {'text/html':\n",
       "     \"<div style='background-color: #fdd'>\\n\"+\n",
       "     \"<p>\\n\"+\n",
       "     \"BokehJS does not appear to have successfully loaded. If loading BokehJS from CDN, this \\n\"+\n",
       "     \"may be due to a slow or bad network connection. Possible fixes:\\n\"+\n",
       "     \"</p>\\n\"+\n",
       "     \"<ul>\\n\"+\n",
       "     \"<li>re-rerun `output_notebook()` to attempt to load from CDN again, or</li>\\n\"+\n",
       "     \"<li>use INLINE resources instead, as so:</li>\\n\"+\n",
       "     \"</ul>\\n\"+\n",
       "     \"<code>\\n\"+\n",
       "     \"from bokeh.resources import INLINE\\n\"+\n",
       "     \"output_notebook(resources=INLINE)\\n\"+\n",
       "     \"</code>\\n\"+\n",
       "     \"</div>\"}};\n",
       "\n",
       "  function display_loaded() {\n",
       "    if (window.Bokeh !== undefined) {\n",
       "      var el = document.getElementById(\"63ec5002-d507-471a-86da-6212c5aba955\");\n",
       "      el.textContent = \"BokehJS \" + Bokeh.version + \" successfully loaded.\";\n",
       "    } else if (Date.now() < window._bokeh_timeout) {\n",
       "      setTimeout(display_loaded, 100)\n",
       "    }\n",
       "  }\n",
       "\n",
       "  function run_callbacks() {\n",
       "    window._bokeh_onload_callbacks.forEach(function(callback) { callback() });\n",
       "    delete window._bokeh_onload_callbacks\n",
       "    console.info(\"Bokeh: all callbacks have finished\");\n",
       "  }\n",
       "\n",
       "  function load_libs(js_urls, callback) {\n",
       "    window._bokeh_onload_callbacks.push(callback);\n",
       "    if (window._bokeh_is_loading > 0) {\n",
       "      console.log(\"Bokeh: BokehJS is being loaded, scheduling callback at\", now());\n",
       "      return null;\n",
       "    }\n",
       "    if (js_urls == null || js_urls.length === 0) {\n",
       "      run_callbacks();\n",
       "      return null;\n",
       "    }\n",
       "    console.log(\"Bokeh: BokehJS not loaded, scheduling load and callback at\", now());\n",
       "    window._bokeh_is_loading = js_urls.length;\n",
       "    for (var i = 0; i < js_urls.length; i++) {\n",
       "      var url = js_urls[i];\n",
       "      var s = document.createElement('script');\n",
       "      s.src = url;\n",
       "      s.async = false;\n",
       "      s.onreadystatechange = s.onload = function() {\n",
       "        window._bokeh_is_loading--;\n",
       "        if (window._bokeh_is_loading === 0) {\n",
       "          console.log(\"Bokeh: all BokehJS libraries loaded\");\n",
       "          run_callbacks()\n",
       "        }\n",
       "      };\n",
       "      s.onerror = function() {\n",
       "        console.warn(\"failed to load library \" + url);\n",
       "      };\n",
       "      console.log(\"Bokeh: injecting script tag for BokehJS library: \", url);\n",
       "      document.getElementsByTagName(\"head\")[0].appendChild(s);\n",
       "    }\n",
       "  };var element = document.getElementById(\"63ec5002-d507-471a-86da-6212c5aba955\");\n",
       "  if (element == null) {\n",
       "    console.log(\"Bokeh: ERROR: autoload.js configured with elementid '63ec5002-d507-471a-86da-6212c5aba955' but no matching script tag was found. \")\n",
       "    return false;\n",
       "  }\n",
       "\n",
       "  var js_urls = [\"https://cdn.pydata.org/bokeh/release/bokeh-0.12.5.min.js\", \"https://cdn.pydata.org/bokeh/release/bokeh-widgets-0.12.5.min.js\"];\n",
       "\n",
       "  var inline_js = [\n",
       "    function(Bokeh) {\n",
       "      Bokeh.set_log_level(\"info\");\n",
       "    },\n",
       "    \n",
       "    function(Bokeh) {\n",
       "      \n",
       "    },\n",
       "    \n",
       "    function(Bokeh) {\n",
       "      \n",
       "      document.getElementById(\"63ec5002-d507-471a-86da-6212c5aba955\").textContent = \"BokehJS is loading...\";\n",
       "    },\n",
       "    function(Bokeh) {\n",
       "      console.log(\"Bokeh: injecting CSS: https://cdn.pydata.org/bokeh/release/bokeh-0.12.5.min.css\");\n",
       "      Bokeh.embed.inject_css(\"https://cdn.pydata.org/bokeh/release/bokeh-0.12.5.min.css\");\n",
       "      console.log(\"Bokeh: injecting CSS: https://cdn.pydata.org/bokeh/release/bokeh-widgets-0.12.5.min.css\");\n",
       "      Bokeh.embed.inject_css(\"https://cdn.pydata.org/bokeh/release/bokeh-widgets-0.12.5.min.css\");\n",
       "    }\n",
       "  ];\n",
       "\n",
       "  function run_inline_js() {\n",
       "    \n",
       "    if ((window.Bokeh !== undefined) || (force === true)) {\n",
       "      for (var i = 0; i < inline_js.length; i++) {\n",
       "        inline_js[i](window.Bokeh);\n",
       "      }if (force === true) {\n",
       "        display_loaded();\n",
       "      }} else if (Date.now() < window._bokeh_timeout) {\n",
       "      setTimeout(run_inline_js, 100);\n",
       "    } else if (!window._bokeh_failed_load) {\n",
       "      console.log(\"Bokeh: BokehJS failed to load within specified timeout.\");\n",
       "      window._bokeh_failed_load = true;\n",
       "    } else if (force !== true) {\n",
       "      var cell = $(document.getElementById(\"63ec5002-d507-471a-86da-6212c5aba955\")).parents('.cell').data().cell;\n",
       "      cell.output_area.append_execute_result(NB_LOAD_WARNING)\n",
       "    }\n",
       "\n",
       "  }\n",
       "\n",
       "  if (window._bokeh_is_loading === 0) {\n",
       "    console.log(\"Bokeh: BokehJS loaded, going straight to plotting\");\n",
       "    run_inline_js();\n",
       "  } else {\n",
       "    load_libs(js_urls, function() {\n",
       "      console.log(\"Bokeh: BokehJS plotting callback run at\", now());\n",
       "      run_inline_js();\n",
       "    });\n",
       "  }\n",
       "}(this));"
      ]
     },
     "metadata": {},
     "output_type": "display_data"
    }
   ],
   "source": [
    "from bokeh.io import output_notebook, show\n",
    "from bokeh.layouts import gridplot\n",
    "from bokeh.models import ColumnDataSource\n",
    "from bokeh.plotting import figure\n",
    "\n",
    "output_notebook()"
   ]
  },
  {
   "cell_type": "code",
   "execution_count": 237,
   "metadata": {
    "collapsed": true
   },
   "outputs": [],
   "source": [
    "import numpy as np\n",
    "import matplotlib.pyplot as plt\n",
    "import csv\n",
    "from bokeh.io import output_file, show\n",
    "from bokeh.layouts import widgetbox\n",
    "from bokeh.models.widgets import Select"
   ]
  },
  {
   "cell_type": "code",
   "execution_count": 173,
   "metadata": {
    "collapsed": true
   },
   "outputs": [],
   "source": [
    "x = [\"AL\",\"AK\",\"AZ\",\"AR\",\"CA\",\"CO\",\"CT\",\"DE\",\"DC\",\"FL\",\"GA\",\"HI\",\"ID\",\"IL\",\"IN\",\"IA\",\"KS\",\"KY\",\"LA\",\"ME\",\"MD\",\"MA\",\"MI\",\n",
    "\"MN\",\"MS\",\"MO\",\"MT\",\"NE\",\"NV\",\"NH\",\"NJ\",\"NM\",\"NY\",\"NC\",\"ND\",\"OH\",\"OK\",\"OR\",\"PA\",\"RI\",\"SC\",\"SD\",\"TN\",\"TX\",\"UT\",\"VT\",\"VA\",\n",
    "\"WA\",\"WV\",\"WI\",\"WY\"]\n",
    "y0 = [156750,40063,227358,90319,1766693,220454,210170,53247,83586,700267,388342,58573,47176,586442,245197,123353,104884,143875,199683,46277,263809,345059,395166,243933,81678,224091,30637,73455,118785,57282,443148,74403,1023433,357168,24622,467392,125243,147535,506505,45663,143585,31380,227505,990054,94475,23539,359273,296403,53453,226325,27454] \n",
    "y1 = [5743215,16189749,19037687,1965330,74663752,22235728,16501999,3857523,25424106,26600593,11216327,14427899,1961349,68112505,16377153,8493716,5764416,8022942,7978539,11177079,21671260,45976945,28799226,15325162,2787779,14911587,10424194,6600356,3677624,4797223,11475362,640574,105860170,29992038,3071608,22015009,12405823,9556529,59575053,4751919,9063478,3596551,18083590,48252344,6884351,6381133,18068081,23476750,927680,17075827,2210361]"
   ]
  },
  {
   "cell_type": "code",
   "execution_count": 217,
   "metadata": {
    "collapsed": true
   },
   "outputs": [],
   "source": [
    "x = list(range(1, 52))\n",
    "y0 = [156750,40063,227358,90319,1766693,220454,210170,53247,83586,700267,388342,58573,47176,586442,245197,123353,104884,143875,199683,46277,263809,345059,395166,243933,81678,224091,30637,73455,118785,57282,443148,74403,1023433,357168,24622,467392,125243,147535,506505,45663,143585,31380,227505,990054,94475,23539,359273,296403,53453,226325,27454] \n",
    "y1 = [5743215,16189749,19037687,1965330,74663752,22235728,16501999,3857523,25424106,26600593,11216327,14427899,1961349,68112505,16377153,8493716,5764416,8022942,7978539,11177079,21671260,45976945,28799226,15325162,2787779,14911587,10424194,6600356,3677624,4797223,11475362,640574,105860170,29992038,3071608,22015009,12405823,9556529,59575053,4751919,9063478,3596551,18083590,48252344,6884351,6381133,18068081,23476750,927680,17075827,2210361]"
   ]
  },
  {
   "cell_type": "code",
   "execution_count": 163,
   "metadata": {
    "collapsed": false
   },
   "outputs": [
    {
     "data": {
      "text/plain": [
       "list"
      ]
     },
     "execution_count": 163,
     "metadata": {},
     "output_type": "execute_result"
    }
   ],
   "source": [
    "type(y0)"
   ]
  },
  {
   "cell_type": "code",
   "execution_count": 176,
   "metadata": {
    "collapsed": false
   },
   "outputs": [
    {
     "data": {
      "text/plain": [
       "51"
      ]
     },
     "execution_count": 176,
     "metadata": {},
     "output_type": "execute_result"
    }
   ],
   "source": [
    "len(x)"
   ]
  },
  {
   "cell_type": "code",
   "execution_count": 232,
   "metadata": {
    "collapsed": true
   },
   "outputs": [],
   "source": [
    "x_label=[\"IA\",\"IC\",\"IG\",\"IL\",\"IM\",\"IS\",\"LE\",\"LG\",\"LI\",\"LL\",\"LT\",\"MA\",\n",
    "         \"MG\",\"MH\",\"ML\",\"MN\",\"MP\",\"NC\",\"ND\",\"NE\",\"NG\",\"NL\",\"NO\",\"NP\",\"NR\",\"RE\",\"SP\",\"ST\"]"
   ]
  },
  {
   "cell_type": "code",
   "execution_count": 200,
   "metadata": {
    "collapsed": true
   },
   "outputs": [],
   "source": [
    "source = ColumnDataSource(data=dict(x=x, y0=y0, y1=y1))"
   ]
  },
  {
   "cell_type": "code",
   "execution_count": 219,
   "metadata": {
    "collapsed": false
   },
   "outputs": [],
   "source": [
    "TOOLS=\"pan,wheel_zoom,box_zoom,reset,box_select,lasso_select\""
   ]
  },
  {
   "cell_type": "code",
   "execution_count": 233,
   "metadata": {
    "collapsed": false
   },
   "outputs": [
    {
     "data": {
      "text/plain": [
       "([<matplotlib.axis.XTick at 0x13c42bc10>,\n",
       "  <matplotlib.axis.XTick at 0x13f6c7fd0>,\n",
       "  <matplotlib.axis.XTick at 0x16056d350>,\n",
       "  <matplotlib.axis.XTick at 0x11b8d9750>,\n",
       "  <matplotlib.axis.XTick at 0x11b8d9e50>,\n",
       "  <matplotlib.axis.XTick at 0x11b8d6590>,\n",
       "  <matplotlib.axis.XTick at 0x11b8d6c90>,\n",
       "  <matplotlib.axis.XTick at 0x11b8f03d0>,\n",
       "  <matplotlib.axis.XTick at 0x11b8f0ad0>,\n",
       "  <matplotlib.axis.XTick at 0x11b8f8210>,\n",
       "  <matplotlib.axis.XTick at 0x11b8f8910>,\n",
       "  <matplotlib.axis.XTick at 0x11b8c3050>,\n",
       "  <matplotlib.axis.XTick at 0x11b8c3750>,\n",
       "  <matplotlib.axis.XTick at 0x11b8c3e50>,\n",
       "  <matplotlib.axis.XTick at 0x11b8d0590>,\n",
       "  <matplotlib.axis.XTick at 0x11b8d0c90>,\n",
       "  <matplotlib.axis.XTick at 0x13c44e3d0>,\n",
       "  <matplotlib.axis.XTick at 0x13c44ead0>,\n",
       "  <matplotlib.axis.XTick at 0x13c474210>,\n",
       "  <matplotlib.axis.XTick at 0x13c474910>,\n",
       "  <matplotlib.axis.XTick at 0x13c46b050>,\n",
       "  <matplotlib.axis.XTick at 0x13c46b750>,\n",
       "  <matplotlib.axis.XTick at 0x13c46be50>,\n",
       "  <matplotlib.axis.XTick at 0x13c461590>,\n",
       "  <matplotlib.axis.XTick at 0x13c461c90>,\n",
       "  <matplotlib.axis.XTick at 0x13c4543d0>,\n",
       "  <matplotlib.axis.XTick at 0x13c454ad0>,\n",
       "  <matplotlib.axis.XTick at 0x15fe27210>,\n",
       "  <matplotlib.axis.XTick at 0x15fe27910>,\n",
       "  <matplotlib.axis.XTick at 0x15fdfb050>,\n",
       "  <matplotlib.axis.XTick at 0x15fdfb750>,\n",
       "  <matplotlib.axis.XTick at 0x15fdfbe50>,\n",
       "  <matplotlib.axis.XTick at 0x15fdfe590>,\n",
       "  <matplotlib.axis.XTick at 0x15fdfec90>,\n",
       "  <matplotlib.axis.XTick at 0x15fe093d0>,\n",
       "  <matplotlib.axis.XTick at 0x15fe09ad0>,\n",
       "  <matplotlib.axis.XTick at 0x15fe17210>,\n",
       "  <matplotlib.axis.XTick at 0x15fe17910>,\n",
       "  <matplotlib.axis.XTick at 0x15fe23050>,\n",
       "  <matplotlib.axis.XTick at 0x15fe23750>,\n",
       "  <matplotlib.axis.XTick at 0x15fe23e50>,\n",
       "  <matplotlib.axis.XTick at 0x160c73590>,\n",
       "  <matplotlib.axis.XTick at 0x160c73c90>,\n",
       "  <matplotlib.axis.XTick at 0x160c8f3d0>,\n",
       "  <matplotlib.axis.XTick at 0x160c8fad0>,\n",
       "  <matplotlib.axis.XTick at 0x160c5b210>,\n",
       "  <matplotlib.axis.XTick at 0x160c5b910>,\n",
       "  <matplotlib.axis.XTick at 0x160c67050>,\n",
       "  <matplotlib.axis.XTick at 0x160c67750>,\n",
       "  <matplotlib.axis.XTick at 0x160c67e50>,\n",
       "  <matplotlib.axis.XTick at 0x160c7b590>],\n",
       " <a list of 28 Text xticklabel objects>)"
      ]
     },
     "execution_count": 233,
     "metadata": {},
     "output_type": "execute_result"
    }
   ],
   "source": [
    "left=plt.bar(x,y0,align=\"center\",width=0.8,alpha=0.5)\n",
    "plt.xticks(x,x_label)"
   ]
  },
  {
   "cell_type": "code",
   "execution_count": 224,
   "metadata": {
    "collapsed": false
   },
   "outputs": [
    {
     "data": {
      "text/html": [
       "<div style=\"display: table;\"><div style=\"display: table-row;\"><div style=\"display: table-cell;\"><b title=\"bokeh.models.renderers.GlyphRenderer\">GlyphRenderer</b>(</div><div style=\"display: table-cell;\">id&nbsp;=&nbsp;'77df47f1-6da3-4d32-a154-e4c7b60f1e01', <span id=\"6f5f116d-5f2b-4634-b5da-637944b6003c\" style=\"cursor: pointer;\">&hellip;)</span></div></div><div class=\"88e7a4b6-0598-480c-b5c2-cdd78138c5dc\" style=\"display: none;\"><div style=\"display: table-cell;\"></div><div style=\"display: table-cell;\">data_source&nbsp;=&nbsp;ColumnDataSource(id='33d14d8c-4780-4037-8470-00ff0c805459', ...),</div></div><div class=\"88e7a4b6-0598-480c-b5c2-cdd78138c5dc\" style=\"display: none;\"><div style=\"display: table-cell;\"></div><div style=\"display: table-cell;\">glyph&nbsp;=&nbsp;Circle(id='c2060b69-fb45-4dbb-884f-cb1afdb43198', ...),</div></div><div class=\"88e7a4b6-0598-480c-b5c2-cdd78138c5dc\" style=\"display: none;\"><div style=\"display: table-cell;\"></div><div style=\"display: table-cell;\">hover_glyph&nbsp;=&nbsp;None,</div></div><div class=\"88e7a4b6-0598-480c-b5c2-cdd78138c5dc\" style=\"display: none;\"><div style=\"display: table-cell;\"></div><div style=\"display: table-cell;\">js_event_callbacks&nbsp;=&nbsp;{},</div></div><div class=\"88e7a4b6-0598-480c-b5c2-cdd78138c5dc\" style=\"display: none;\"><div style=\"display: table-cell;\"></div><div style=\"display: table-cell;\">js_property_callbacks&nbsp;=&nbsp;{},</div></div><div class=\"88e7a4b6-0598-480c-b5c2-cdd78138c5dc\" style=\"display: none;\"><div style=\"display: table-cell;\"></div><div style=\"display: table-cell;\">level&nbsp;=&nbsp;'glyph',</div></div><div class=\"88e7a4b6-0598-480c-b5c2-cdd78138c5dc\" style=\"display: none;\"><div style=\"display: table-cell;\"></div><div style=\"display: table-cell;\">muted&nbsp;=&nbsp;False,</div></div><div class=\"88e7a4b6-0598-480c-b5c2-cdd78138c5dc\" style=\"display: none;\"><div style=\"display: table-cell;\"></div><div style=\"display: table-cell;\">muted_glyph&nbsp;=&nbsp;None,</div></div><div class=\"88e7a4b6-0598-480c-b5c2-cdd78138c5dc\" style=\"display: none;\"><div style=\"display: table-cell;\"></div><div style=\"display: table-cell;\">name&nbsp;=&nbsp;None,</div></div><div class=\"88e7a4b6-0598-480c-b5c2-cdd78138c5dc\" style=\"display: none;\"><div style=\"display: table-cell;\"></div><div style=\"display: table-cell;\">nonselection_glyph&nbsp;=&nbsp;Circle(id='d6fb527f-e602-4c49-8398-13f0b8021192', ...),</div></div><div class=\"88e7a4b6-0598-480c-b5c2-cdd78138c5dc\" style=\"display: none;\"><div style=\"display: table-cell;\"></div><div style=\"display: table-cell;\">selection_glyph&nbsp;=&nbsp;None,</div></div><div class=\"88e7a4b6-0598-480c-b5c2-cdd78138c5dc\" style=\"display: none;\"><div style=\"display: table-cell;\"></div><div style=\"display: table-cell;\">subscribed_events&nbsp;=&nbsp;[],</div></div><div class=\"88e7a4b6-0598-480c-b5c2-cdd78138c5dc\" style=\"display: none;\"><div style=\"display: table-cell;\"></div><div style=\"display: table-cell;\">tags&nbsp;=&nbsp;[],</div></div><div class=\"88e7a4b6-0598-480c-b5c2-cdd78138c5dc\" style=\"display: none;\"><div style=\"display: table-cell;\"></div><div style=\"display: table-cell;\">visible&nbsp;=&nbsp;True,</div></div><div class=\"88e7a4b6-0598-480c-b5c2-cdd78138c5dc\" style=\"display: none;\"><div style=\"display: table-cell;\"></div><div style=\"display: table-cell;\">x_range_name&nbsp;=&nbsp;'default',</div></div><div class=\"88e7a4b6-0598-480c-b5c2-cdd78138c5dc\" style=\"display: none;\"><div style=\"display: table-cell;\"></div><div style=\"display: table-cell;\">y_range_name&nbsp;=&nbsp;'default')</div></div></div>\n",
       "<script>\n",
       "(function() {\n",
       "  var expanded = false;\n",
       "  var ellipsis = document.getElementById(\"6f5f116d-5f2b-4634-b5da-637944b6003c\");\n",
       "  ellipsis.addEventListener(\"click\", function() {\n",
       "    var rows = document.getElementsByClassName(\"88e7a4b6-0598-480c-b5c2-cdd78138c5dc\");\n",
       "    for (var i = 0; i < rows.length; i++) {\n",
       "      var el = rows[i];\n",
       "      el.style.display = expanded ? \"none\" : \"table-row\";\n",
       "    }\n",
       "    ellipsis.innerHTML = expanded ? \"&hellip;)\" : \"&lsaquo;&lsaquo;&lsaquo;\";\n",
       "    expanded = !expanded;\n",
       "  });\n",
       "})();\n",
       "</script>\n"
      ],
      "text/plain": [
       "GlyphRenderer(id='77df47f1-6da3-4d32-a154-e4c7b60f1e01', ...)"
      ]
     },
     "execution_count": 224,
     "metadata": {},
     "output_type": "execute_result"
    }
   ],
   "source": [
    "left = figure(tools=TOOLS, width=500, height=500, title=\"GDP/Million\",x_axis_label='number represent states,sequence：1～51 means AL~WY')\n",
    "left.circle('x', 'y0', source=source)"
   ]
  },
  {
   "cell_type": "code",
   "execution_count": 225,
   "metadata": {
    "collapsed": false
   },
   "outputs": [
    {
     "data": {
      "text/html": [
       "<div style=\"display: table;\"><div style=\"display: table-row;\"><div style=\"display: table-cell;\"><b title=\"bokeh.models.renderers.GlyphRenderer\">GlyphRenderer</b>(</div><div style=\"display: table-cell;\">id&nbsp;=&nbsp;'6604c85e-1184-4d57-969e-b24877c4d070', <span id=\"4f980487-8eb7-45ba-bbc7-c50c87c795c7\" style=\"cursor: pointer;\">&hellip;)</span></div></div><div class=\"3a9059e6-4b51-43b9-aa66-c6a278c05ea9\" style=\"display: none;\"><div style=\"display: table-cell;\"></div><div style=\"display: table-cell;\">data_source&nbsp;=&nbsp;ColumnDataSource(id='33d14d8c-4780-4037-8470-00ff0c805459', ...),</div></div><div class=\"3a9059e6-4b51-43b9-aa66-c6a278c05ea9\" style=\"display: none;\"><div style=\"display: table-cell;\"></div><div style=\"display: table-cell;\">glyph&nbsp;=&nbsp;Circle(id='5cae6c4f-3664-4ad8-8723-d0f2f740e1cf', ...),</div></div><div class=\"3a9059e6-4b51-43b9-aa66-c6a278c05ea9\" style=\"display: none;\"><div style=\"display: table-cell;\"></div><div style=\"display: table-cell;\">hover_glyph&nbsp;=&nbsp;None,</div></div><div class=\"3a9059e6-4b51-43b9-aa66-c6a278c05ea9\" style=\"display: none;\"><div style=\"display: table-cell;\"></div><div style=\"display: table-cell;\">js_event_callbacks&nbsp;=&nbsp;{},</div></div><div class=\"3a9059e6-4b51-43b9-aa66-c6a278c05ea9\" style=\"display: none;\"><div style=\"display: table-cell;\"></div><div style=\"display: table-cell;\">js_property_callbacks&nbsp;=&nbsp;{},</div></div><div class=\"3a9059e6-4b51-43b9-aa66-c6a278c05ea9\" style=\"display: none;\"><div style=\"display: table-cell;\"></div><div style=\"display: table-cell;\">level&nbsp;=&nbsp;'glyph',</div></div><div class=\"3a9059e6-4b51-43b9-aa66-c6a278c05ea9\" style=\"display: none;\"><div style=\"display: table-cell;\"></div><div style=\"display: table-cell;\">muted&nbsp;=&nbsp;False,</div></div><div class=\"3a9059e6-4b51-43b9-aa66-c6a278c05ea9\" style=\"display: none;\"><div style=\"display: table-cell;\"></div><div style=\"display: table-cell;\">muted_glyph&nbsp;=&nbsp;None,</div></div><div class=\"3a9059e6-4b51-43b9-aa66-c6a278c05ea9\" style=\"display: none;\"><div style=\"display: table-cell;\"></div><div style=\"display: table-cell;\">name&nbsp;=&nbsp;None,</div></div><div class=\"3a9059e6-4b51-43b9-aa66-c6a278c05ea9\" style=\"display: none;\"><div style=\"display: table-cell;\"></div><div style=\"display: table-cell;\">nonselection_glyph&nbsp;=&nbsp;Circle(id='71d85e0a-d8d9-463f-8a04-06e4bc5695e1', ...),</div></div><div class=\"3a9059e6-4b51-43b9-aa66-c6a278c05ea9\" style=\"display: none;\"><div style=\"display: table-cell;\"></div><div style=\"display: table-cell;\">selection_glyph&nbsp;=&nbsp;None,</div></div><div class=\"3a9059e6-4b51-43b9-aa66-c6a278c05ea9\" style=\"display: none;\"><div style=\"display: table-cell;\"></div><div style=\"display: table-cell;\">subscribed_events&nbsp;=&nbsp;[],</div></div><div class=\"3a9059e6-4b51-43b9-aa66-c6a278c05ea9\" style=\"display: none;\"><div style=\"display: table-cell;\"></div><div style=\"display: table-cell;\">tags&nbsp;=&nbsp;[],</div></div><div class=\"3a9059e6-4b51-43b9-aa66-c6a278c05ea9\" style=\"display: none;\"><div style=\"display: table-cell;\"></div><div style=\"display: table-cell;\">visible&nbsp;=&nbsp;True,</div></div><div class=\"3a9059e6-4b51-43b9-aa66-c6a278c05ea9\" style=\"display: none;\"><div style=\"display: table-cell;\"></div><div style=\"display: table-cell;\">x_range_name&nbsp;=&nbsp;'default',</div></div><div class=\"3a9059e6-4b51-43b9-aa66-c6a278c05ea9\" style=\"display: none;\"><div style=\"display: table-cell;\"></div><div style=\"display: table-cell;\">y_range_name&nbsp;=&nbsp;'default')</div></div></div>\n",
       "<script>\n",
       "(function() {\n",
       "  var expanded = false;\n",
       "  var ellipsis = document.getElementById(\"4f980487-8eb7-45ba-bbc7-c50c87c795c7\");\n",
       "  ellipsis.addEventListener(\"click\", function() {\n",
       "    var rows = document.getElementsByClassName(\"3a9059e6-4b51-43b9-aa66-c6a278c05ea9\");\n",
       "    for (var i = 0; i < rows.length; i++) {\n",
       "      var el = rows[i];\n",
       "      el.style.display = expanded ? \"none\" : \"table-row\";\n",
       "    }\n",
       "    ellipsis.innerHTML = expanded ? \"&hellip;)\" : \"&lsaquo;&lsaquo;&lsaquo;\";\n",
       "    expanded = !expanded;\n",
       "  });\n",
       "})();\n",
       "</script>\n"
      ],
      "text/plain": [
       "GlyphRenderer(id='6604c85e-1184-4d57-969e-b24877c4d070', ...)"
      ]
     },
     "execution_count": 225,
     "metadata": {},
     "output_type": "execute_result"
    }
   ],
   "source": [
    "right = figure(tools=TOOLS, width=500, height=500, title=\"Total Amount Awarded and Disbursed\",x_axis_label='number represent states,sequence：1～51 means AL~WY')\n",
    "right.circle('x', 'y1', source=source)"
   ]
  },
  {
   "cell_type": "code",
   "execution_count": 234,
   "metadata": {
    "collapsed": false
   },
   "outputs": [
    {
     "data": {
      "text/plain": [
       "([<matplotlib.axis.XTick at 0x13c42bc10>,\n",
       "  <matplotlib.axis.XTick at 0x13f6c7fd0>,\n",
       "  <matplotlib.axis.XTick at 0x16056d350>,\n",
       "  <matplotlib.axis.XTick at 0x11b8d9750>,\n",
       "  <matplotlib.axis.XTick at 0x11b8d9e50>,\n",
       "  <matplotlib.axis.XTick at 0x11b8d6590>,\n",
       "  <matplotlib.axis.XTick at 0x11b8d6c90>,\n",
       "  <matplotlib.axis.XTick at 0x11b8f03d0>,\n",
       "  <matplotlib.axis.XTick at 0x11b8f0ad0>,\n",
       "  <matplotlib.axis.XTick at 0x11b8f8210>,\n",
       "  <matplotlib.axis.XTick at 0x11b8f8910>,\n",
       "  <matplotlib.axis.XTick at 0x11b8c3050>,\n",
       "  <matplotlib.axis.XTick at 0x11b8c3750>,\n",
       "  <matplotlib.axis.XTick at 0x11b8c3e50>,\n",
       "  <matplotlib.axis.XTick at 0x11b8d0590>,\n",
       "  <matplotlib.axis.XTick at 0x11b8d0c90>,\n",
       "  <matplotlib.axis.XTick at 0x13c44e3d0>,\n",
       "  <matplotlib.axis.XTick at 0x13c44ead0>,\n",
       "  <matplotlib.axis.XTick at 0x13c474210>,\n",
       "  <matplotlib.axis.XTick at 0x13c474910>,\n",
       "  <matplotlib.axis.XTick at 0x13c46b050>,\n",
       "  <matplotlib.axis.XTick at 0x13c46b750>,\n",
       "  <matplotlib.axis.XTick at 0x13c46be50>,\n",
       "  <matplotlib.axis.XTick at 0x13c461590>,\n",
       "  <matplotlib.axis.XTick at 0x13c461c90>,\n",
       "  <matplotlib.axis.XTick at 0x13c4543d0>,\n",
       "  <matplotlib.axis.XTick at 0x13c454ad0>,\n",
       "  <matplotlib.axis.XTick at 0x15fe27210>,\n",
       "  <matplotlib.axis.XTick at 0x15fe27910>,\n",
       "  <matplotlib.axis.XTick at 0x15fdfb050>,\n",
       "  <matplotlib.axis.XTick at 0x15fdfb750>,\n",
       "  <matplotlib.axis.XTick at 0x15fdfbe50>,\n",
       "  <matplotlib.axis.XTick at 0x15fdfe590>,\n",
       "  <matplotlib.axis.XTick at 0x15fdfec90>,\n",
       "  <matplotlib.axis.XTick at 0x15fe093d0>,\n",
       "  <matplotlib.axis.XTick at 0x15fe09ad0>,\n",
       "  <matplotlib.axis.XTick at 0x15fe17210>,\n",
       "  <matplotlib.axis.XTick at 0x15fe17910>,\n",
       "  <matplotlib.axis.XTick at 0x15fe23050>,\n",
       "  <matplotlib.axis.XTick at 0x15fe23750>,\n",
       "  <matplotlib.axis.XTick at 0x15fe23e50>,\n",
       "  <matplotlib.axis.XTick at 0x160c73590>,\n",
       "  <matplotlib.axis.XTick at 0x160c73c90>,\n",
       "  <matplotlib.axis.XTick at 0x160c8f3d0>,\n",
       "  <matplotlib.axis.XTick at 0x160c8fad0>,\n",
       "  <matplotlib.axis.XTick at 0x160c5b210>,\n",
       "  <matplotlib.axis.XTick at 0x160c5b910>,\n",
       "  <matplotlib.axis.XTick at 0x160c67050>,\n",
       "  <matplotlib.axis.XTick at 0x160c67750>,\n",
       "  <matplotlib.axis.XTick at 0x160c67e50>,\n",
       "  <matplotlib.axis.XTick at 0x160c7b590>],\n",
       " <a list of 28 Text xticklabel objects>)"
      ]
     },
     "execution_count": 234,
     "metadata": {},
     "output_type": "execute_result"
    }
   ],
   "source": [
    "right=plt.bar(x,y1,align=\"center\",width=0.8,alpha=0.5)\n",
    "plt.xticks(x,x_label)"
   ]
  },
  {
   "cell_type": "code",
   "execution_count": null,
   "metadata": {
    "collapsed": false
   },
   "outputs": [],
   "source": [
    "p=plt([[left, right]])"
   ]
  },
  {
   "cell_type": "code",
   "execution_count": 240,
   "metadata": {
    "collapsed": false
   },
   "outputs": [
    {
     "data": {
      "text/html": [
       "\n",
       "\n",
       "    <div class=\"bk-root\">\n",
       "        <div class=\"bk-plotdiv\" id=\"24f11f16-5071-4b0f-a453-6564ab150206\"></div>\n",
       "    </div>\n",
       "<script type=\"text/javascript\">\n",
       "  \n",
       "  (function(global) {\n",
       "    function now() {\n",
       "      return new Date();\n",
       "    }\n",
       "  \n",
       "    var force = false;\n",
       "  \n",
       "    if (typeof (window._bokeh_onload_callbacks) === \"undefined\" || force === true) {\n",
       "      window._bokeh_onload_callbacks = [];\n",
       "      window._bokeh_is_loading = undefined;\n",
       "    }\n",
       "  \n",
       "  \n",
       "    \n",
       "    if (typeof (window._bokeh_timeout) === \"undefined\" || force === true) {\n",
       "      window._bokeh_timeout = Date.now() + 0;\n",
       "      window._bokeh_failed_load = false;\n",
       "    }\n",
       "  \n",
       "    var NB_LOAD_WARNING = {'data': {'text/html':\n",
       "       \"<div style='background-color: #fdd'>\\n\"+\n",
       "       \"<p>\\n\"+\n",
       "       \"BokehJS does not appear to have successfully loaded. If loading BokehJS from CDN, this \\n\"+\n",
       "       \"may be due to a slow or bad network connection. Possible fixes:\\n\"+\n",
       "       \"</p>\\n\"+\n",
       "       \"<ul>\\n\"+\n",
       "       \"<li>re-rerun `output_notebook()` to attempt to load from CDN again, or</li>\\n\"+\n",
       "       \"<li>use INLINE resources instead, as so:</li>\\n\"+\n",
       "       \"</ul>\\n\"+\n",
       "       \"<code>\\n\"+\n",
       "       \"from bokeh.resources import INLINE\\n\"+\n",
       "       \"output_notebook(resources=INLINE)\\n\"+\n",
       "       \"</code>\\n\"+\n",
       "       \"</div>\"}};\n",
       "  \n",
       "    function display_loaded() {\n",
       "      if (window.Bokeh !== undefined) {\n",
       "        var el = document.getElementById(\"24f11f16-5071-4b0f-a453-6564ab150206\");\n",
       "        el.textContent = \"BokehJS \" + Bokeh.version + \" successfully loaded.\";\n",
       "      } else if (Date.now() < window._bokeh_timeout) {\n",
       "        setTimeout(display_loaded, 100)\n",
       "      }\n",
       "    }\n",
       "  \n",
       "    function run_callbacks() {\n",
       "      window._bokeh_onload_callbacks.forEach(function(callback) { callback() });\n",
       "      delete window._bokeh_onload_callbacks\n",
       "      console.info(\"Bokeh: all callbacks have finished\");\n",
       "    }\n",
       "  \n",
       "    function load_libs(js_urls, callback) {\n",
       "      window._bokeh_onload_callbacks.push(callback);\n",
       "      if (window._bokeh_is_loading > 0) {\n",
       "        console.log(\"Bokeh: BokehJS is being loaded, scheduling callback at\", now());\n",
       "        return null;\n",
       "      }\n",
       "      if (js_urls == null || js_urls.length === 0) {\n",
       "        run_callbacks();\n",
       "        return null;\n",
       "      }\n",
       "      console.log(\"Bokeh: BokehJS not loaded, scheduling load and callback at\", now());\n",
       "      window._bokeh_is_loading = js_urls.length;\n",
       "      for (var i = 0; i < js_urls.length; i++) {\n",
       "        var url = js_urls[i];\n",
       "        var s = document.createElement('script');\n",
       "        s.src = url;\n",
       "        s.async = false;\n",
       "        s.onreadystatechange = s.onload = function() {\n",
       "          window._bokeh_is_loading--;\n",
       "          if (window._bokeh_is_loading === 0) {\n",
       "            console.log(\"Bokeh: all BokehJS libraries loaded\");\n",
       "            run_callbacks()\n",
       "          }\n",
       "        };\n",
       "        s.onerror = function() {\n",
       "          console.warn(\"failed to load library \" + url);\n",
       "        };\n",
       "        console.log(\"Bokeh: injecting script tag for BokehJS library: \", url);\n",
       "        document.getElementsByTagName(\"head\")[0].appendChild(s);\n",
       "      }\n",
       "    };var element = document.getElementById(\"24f11f16-5071-4b0f-a453-6564ab150206\");\n",
       "    if (element == null) {\n",
       "      console.log(\"Bokeh: ERROR: autoload.js configured with elementid '24f11f16-5071-4b0f-a453-6564ab150206' but no matching script tag was found. \")\n",
       "      return false;\n",
       "    }\n",
       "  \n",
       "    var js_urls = [];\n",
       "  \n",
       "    var inline_js = [\n",
       "      function(Bokeh) {\n",
       "        (function() {\n",
       "          var fn = function() {\n",
       "            var docs_json = {\"6977ebc9-f2ae-49e9-ae1d-6771d84b840d\":{\"roots\":{\"references\":[{\"attributes\":{\"children\":[{\"id\":\"f0e5a5ce-b1f3-4a2b-915c-2260e1d3bb69\",\"type\":\"Select\"}]},\"id\":\"ebd5c83b-2fd0-428d-9701-f22988ed42ba\",\"type\":\"WidgetBox\"},{\"attributes\":{\"callback\":null,\"options\":[\"2000\",\"2001\",\"2002\",\"2003\",\"2004\",\"2005\"],\"title\":\"year:\",\"value\":\"foo\"},\"id\":\"f0e5a5ce-b1f3-4a2b-915c-2260e1d3bb69\",\"type\":\"Select\"}],\"root_ids\":[\"ebd5c83b-2fd0-428d-9701-f22988ed42ba\"]},\"title\":\"Bokeh Application\",\"version\":\"0.12.5\"}};\n",
       "            var render_items = [{\"docid\":\"6977ebc9-f2ae-49e9-ae1d-6771d84b840d\",\"elementid\":\"24f11f16-5071-4b0f-a453-6564ab150206\",\"modelid\":\"ebd5c83b-2fd0-428d-9701-f22988ed42ba\"}];\n",
       "            \n",
       "            Bokeh.embed.embed_items(docs_json, render_items);\n",
       "          };\n",
       "          if (document.readyState != \"loading\") fn();\n",
       "          else document.addEventListener(\"DOMContentLoaded\", fn);\n",
       "        })();\n",
       "      },\n",
       "      function(Bokeh) {\n",
       "      }\n",
       "    ];\n",
       "  \n",
       "    function run_inline_js() {\n",
       "      \n",
       "      if ((window.Bokeh !== undefined) || (force === true)) {\n",
       "        for (var i = 0; i < inline_js.length; i++) {\n",
       "          inline_js[i](window.Bokeh);\n",
       "        }if (force === true) {\n",
       "          display_loaded();\n",
       "        }} else if (Date.now() < window._bokeh_timeout) {\n",
       "        setTimeout(run_inline_js, 100);\n",
       "      } else if (!window._bokeh_failed_load) {\n",
       "        console.log(\"Bokeh: BokehJS failed to load within specified timeout.\");\n",
       "        window._bokeh_failed_load = true;\n",
       "      } else if (force !== true) {\n",
       "        var cell = $(document.getElementById(\"24f11f16-5071-4b0f-a453-6564ab150206\")).parents('.cell').data().cell;\n",
       "        cell.output_area.append_execute_result(NB_LOAD_WARNING)\n",
       "      }\n",
       "  \n",
       "    }\n",
       "  \n",
       "    if (window._bokeh_is_loading === 0) {\n",
       "      console.log(\"Bokeh: BokehJS loaded, going straight to plotting\");\n",
       "      run_inline_js();\n",
       "    } else {\n",
       "      load_libs(js_urls, function() {\n",
       "        console.log(\"Bokeh: BokehJS plotting callback run at\", now());\n",
       "        run_inline_js();\n",
       "      });\n",
       "    }\n",
       "  }(this));\n",
       "</script>"
      ]
     },
     "metadata": {},
     "output_type": "display_data"
    },
    {
     "data": {
      "text/html": [
       "\n",
       "\n",
       "    <div class=\"bk-root\">\n",
       "        <div class=\"bk-plotdiv\" id=\"050c8dd2-f64a-442d-a34f-bbd157e769fa\"></div>\n",
       "    </div>\n",
       "<script type=\"text/javascript\">\n",
       "  \n",
       "  (function(global) {\n",
       "    function now() {\n",
       "      return new Date();\n",
       "    }\n",
       "  \n",
       "    var force = false;\n",
       "  \n",
       "    if (typeof (window._bokeh_onload_callbacks) === \"undefined\" || force === true) {\n",
       "      window._bokeh_onload_callbacks = [];\n",
       "      window._bokeh_is_loading = undefined;\n",
       "    }\n",
       "  \n",
       "  \n",
       "    \n",
       "    if (typeof (window._bokeh_timeout) === \"undefined\" || force === true) {\n",
       "      window._bokeh_timeout = Date.now() + 0;\n",
       "      window._bokeh_failed_load = false;\n",
       "    }\n",
       "  \n",
       "    var NB_LOAD_WARNING = {'data': {'text/html':\n",
       "       \"<div style='background-color: #fdd'>\\n\"+\n",
       "       \"<p>\\n\"+\n",
       "       \"BokehJS does not appear to have successfully loaded. If loading BokehJS from CDN, this \\n\"+\n",
       "       \"may be due to a slow or bad network connection. Possible fixes:\\n\"+\n",
       "       \"</p>\\n\"+\n",
       "       \"<ul>\\n\"+\n",
       "       \"<li>re-rerun `output_notebook()` to attempt to load from CDN again, or</li>\\n\"+\n",
       "       \"<li>use INLINE resources instead, as so:</li>\\n\"+\n",
       "       \"</ul>\\n\"+\n",
       "       \"<code>\\n\"+\n",
       "       \"from bokeh.resources import INLINE\\n\"+\n",
       "       \"output_notebook(resources=INLINE)\\n\"+\n",
       "       \"</code>\\n\"+\n",
       "       \"</div>\"}};\n",
       "  \n",
       "    function display_loaded() {\n",
       "      if (window.Bokeh !== undefined) {\n",
       "        var el = document.getElementById(\"050c8dd2-f64a-442d-a34f-bbd157e769fa\");\n",
       "        el.textContent = \"BokehJS \" + Bokeh.version + \" successfully loaded.\";\n",
       "      } else if (Date.now() < window._bokeh_timeout) {\n",
       "        setTimeout(display_loaded, 100)\n",
       "      }\n",
       "    }\n",
       "  \n",
       "    function run_callbacks() {\n",
       "      window._bokeh_onload_callbacks.forEach(function(callback) { callback() });\n",
       "      delete window._bokeh_onload_callbacks\n",
       "      console.info(\"Bokeh: all callbacks have finished\");\n",
       "    }\n",
       "  \n",
       "    function load_libs(js_urls, callback) {\n",
       "      window._bokeh_onload_callbacks.push(callback);\n",
       "      if (window._bokeh_is_loading > 0) {\n",
       "        console.log(\"Bokeh: BokehJS is being loaded, scheduling callback at\", now());\n",
       "        return null;\n",
       "      }\n",
       "      if (js_urls == null || js_urls.length === 0) {\n",
       "        run_callbacks();\n",
       "        return null;\n",
       "      }\n",
       "      console.log(\"Bokeh: BokehJS not loaded, scheduling load and callback at\", now());\n",
       "      window._bokeh_is_loading = js_urls.length;\n",
       "      for (var i = 0; i < js_urls.length; i++) {\n",
       "        var url = js_urls[i];\n",
       "        var s = document.createElement('script');\n",
       "        s.src = url;\n",
       "        s.async = false;\n",
       "        s.onreadystatechange = s.onload = function() {\n",
       "          window._bokeh_is_loading--;\n",
       "          if (window._bokeh_is_loading === 0) {\n",
       "            console.log(\"Bokeh: all BokehJS libraries loaded\");\n",
       "            run_callbacks()\n",
       "          }\n",
       "        };\n",
       "        s.onerror = function() {\n",
       "          console.warn(\"failed to load library \" + url);\n",
       "        };\n",
       "        console.log(\"Bokeh: injecting script tag for BokehJS library: \", url);\n",
       "        document.getElementsByTagName(\"head\")[0].appendChild(s);\n",
       "      }\n",
       "    };var element = document.getElementById(\"050c8dd2-f64a-442d-a34f-bbd157e769fa\");\n",
       "    if (element == null) {\n",
       "      console.log(\"Bokeh: ERROR: autoload.js configured with elementid '050c8dd2-f64a-442d-a34f-bbd157e769fa' but no matching script tag was found. \")\n",
       "      return false;\n",
       "    }\n",
       "  \n",
       "    var js_urls = [];\n",
       "  \n",
       "    var inline_js = [\n",
       "      function(Bokeh) {\n",
       "        (function() {\n",
       "          var fn = function() {\n",
       "            var docs_json = {\"d1d03132-8b48-4df8-8635-c739baf32742\":{\"roots\":{\"references\":[{\"attributes\":{},\"id\":\"6233fc35-8ef1-4019-a946-8aaf79900dc8\",\"type\":\"BasicTicker\"},{\"attributes\":{\"fill_alpha\":{\"value\":0.1},\"fill_color\":{\"value\":\"#1f77b4\"},\"line_alpha\":{\"value\":0.1},\"line_color\":{\"value\":\"#1f77b4\"},\"x\":{\"field\":\"x\"},\"y\":{\"field\":\"y0\"}},\"id\":\"d6fb527f-e602-4c49-8398-13f0b8021192\",\"type\":\"Circle\"},{\"attributes\":{\"sizing_mode\":\"scale_width\",\"toolbar_location\":\"above\",\"tools\":[{\"id\":\"89ec6b84-f5e3-4be2-a93d-d2006583cc85\",\"type\":\"PanTool\"},{\"id\":\"ed34dcef-4846-4a11-80c8-5fc9399278c2\",\"type\":\"WheelZoomTool\"},{\"id\":\"af5ba478-75f1-4b11-97df-0f765d1783c0\",\"type\":\"BoxZoomTool\"},{\"id\":\"a6edb8a4-0013-4dfd-85d9-29c2fce07384\",\"type\":\"ResetTool\"},{\"id\":\"4b705b75-f4db-4d4f-b118-222fc5bb1040\",\"type\":\"BoxSelectTool\"},{\"id\":\"daeebcb0-2acf-477b-b0eb-5462eff424ff\",\"type\":\"LassoSelectTool\"},{\"id\":\"f7a1acda-3afb-4c0b-9ae4-5072cc8a4657\",\"type\":\"PanTool\"},{\"id\":\"0b73f6b9-76a3-45c1-ba57-425ce255347e\",\"type\":\"WheelZoomTool\"},{\"id\":\"bce56f75-4bee-49ff-a8e7-b912a6f0683e\",\"type\":\"BoxZoomTool\"},{\"id\":\"f83ef796-e7fe-4901-8ea1-bd654baaa7ce\",\"type\":\"ResetTool\"},{\"id\":\"fbb4b6f0-3e67-4c69-97c6-25976093460f\",\"type\":\"BoxSelectTool\"},{\"id\":\"3ae51e3a-1962-436b-b871-3e1773255411\",\"type\":\"LassoSelectTool\"}]},\"id\":\"6fa4e921-d492-4e18-a774-c315904f67ec\",\"type\":\"ToolbarBox\"},{\"attributes\":{\"callback\":null,\"overlay\":{\"id\":\"bd5dab95-9e83-4565-8a04-601636669c9d\",\"type\":\"PolyAnnotation\"},\"plot\":{\"id\":\"c7d181ee-e5a8-493f-b859-2df5b9ed335a\",\"subtype\":\"Figure\",\"type\":\"Plot\"}},\"id\":\"daeebcb0-2acf-477b-b0eb-5462eff424ff\",\"type\":\"LassoSelectTool\"},{\"attributes\":{},\"id\":\"1a50ffe8-e344-47b7-855b-0e9bacda3d8b\",\"type\":\"BasicTickFormatter\"},{\"attributes\":{\"fill_color\":{\"value\":\"#1f77b4\"},\"line_color\":{\"value\":\"#1f77b4\"},\"x\":{\"field\":\"x\"},\"y\":{\"field\":\"y0\"}},\"id\":\"c2060b69-fb45-4dbb-884f-cb1afdb43198\",\"type\":\"Circle\"},{\"attributes\":{\"below\":[{\"id\":\"efdd9f8c-2b9f-422f-a914-db4012db4d73\",\"type\":\"LinearAxis\"}],\"left\":[{\"id\":\"8ba09461-406c-4467-8246-80c16d419d80\",\"type\":\"LinearAxis\"}],\"plot_height\":500,\"plot_width\":500,\"renderers\":[{\"id\":\"efdd9f8c-2b9f-422f-a914-db4012db4d73\",\"type\":\"LinearAxis\"},{\"id\":\"26b2f708-c119-42a1-a74d-8468b724bad4\",\"type\":\"Grid\"},{\"id\":\"8ba09461-406c-4467-8246-80c16d419d80\",\"type\":\"LinearAxis\"},{\"id\":\"5a25cbc5-6342-435b-a8e2-72e938a7e99e\",\"type\":\"Grid\"},{\"id\":\"638b165e-e6a1-42ed-9af7-a43ea0b3efea\",\"type\":\"BoxAnnotation\"},{\"id\":\"12553df3-502c-47a6-8416-f5e04d2503b6\",\"type\":\"BoxAnnotation\"},{\"id\":\"bd5dab95-9e83-4565-8a04-601636669c9d\",\"type\":\"PolyAnnotation\"},{\"id\":\"77df47f1-6da3-4d32-a154-e4c7b60f1e01\",\"type\":\"GlyphRenderer\"}],\"title\":{\"id\":\"361243d3-f178-42e8-a3d4-258ef97c661e\",\"type\":\"Title\"},\"tool_events\":{\"id\":\"f068753e-bc62-45f1-8485-b3e0c155bb68\",\"type\":\"ToolEvents\"},\"toolbar\":{\"id\":\"9b8b94fd-cbd4-4d60-af21-d6a48aac7a1b\",\"type\":\"Toolbar\"},\"toolbar_location\":null,\"x_range\":{\"id\":\"83de68ec-f61e-4848-b3aa-c0c0aa4c78d6\",\"type\":\"DataRange1d\"},\"y_range\":{\"id\":\"a10ee720-e835-4fad-b52e-2639ac01813e\",\"type\":\"DataRange1d\"}},\"id\":\"c7d181ee-e5a8-493f-b859-2df5b9ed335a\",\"subtype\":\"Figure\",\"type\":\"Plot\"},{\"attributes\":{\"fill_alpha\":{\"value\":0.5},\"fill_color\":{\"value\":\"lightgrey\"},\"level\":\"overlay\",\"line_alpha\":{\"value\":1.0},\"line_color\":{\"value\":\"black\"},\"line_dash\":[4,4],\"line_width\":{\"value\":2},\"plot\":null,\"xs_units\":\"screen\",\"ys_units\":\"screen\"},\"id\":\"c79c4b11-569b-44f2-be57-fccf4d7d3562\",\"type\":\"PolyAnnotation\"},{\"attributes\":{\"plot\":{\"id\":\"c7d181ee-e5a8-493f-b859-2df5b9ed335a\",\"subtype\":\"Figure\",\"type\":\"Plot\"}},\"id\":\"a6edb8a4-0013-4dfd-85d9-29c2fce07384\",\"type\":\"ResetTool\"},{\"attributes\":{\"fill_color\":{\"value\":\"#1f77b4\"},\"line_color\":{\"value\":\"#1f77b4\"},\"x\":{\"field\":\"x\"},\"y\":{\"field\":\"y1\"}},\"id\":\"5cae6c4f-3664-4ad8-8723-d0f2f740e1cf\",\"type\":\"Circle\"},{\"attributes\":{\"callback\":null},\"id\":\"f92676ad-e607-44c3-ab0c-33580b641657\",\"type\":\"DataRange1d\"},{\"attributes\":{\"data_source\":{\"id\":\"33d14d8c-4780-4037-8470-00ff0c805459\",\"type\":\"ColumnDataSource\"},\"glyph\":{\"id\":\"5cae6c4f-3664-4ad8-8723-d0f2f740e1cf\",\"type\":\"Circle\"},\"hover_glyph\":null,\"muted_glyph\":null,\"nonselection_glyph\":{\"id\":\"71d85e0a-d8d9-463f-8a04-06e4bc5695e1\",\"type\":\"Circle\"},\"selection_glyph\":null},\"id\":\"6604c85e-1184-4d57-969e-b24877c4d070\",\"type\":\"GlyphRenderer\"},{\"attributes\":{\"callback\":null},\"id\":\"69850a7d-d122-4544-81f4-d83f8f01dba2\",\"type\":\"DataRange1d\"},{\"attributes\":{\"fill_alpha\":{\"value\":0.5},\"fill_color\":{\"value\":\"lightgrey\"},\"level\":\"overlay\",\"line_alpha\":{\"value\":1.0},\"line_color\":{\"value\":\"black\"},\"line_dash\":[4,4],\"line_width\":{\"value\":2},\"plot\":null,\"xs_units\":\"screen\",\"ys_units\":\"screen\"},\"id\":\"bd5dab95-9e83-4565-8a04-601636669c9d\",\"type\":\"PolyAnnotation\"},{\"attributes\":{},\"id\":\"0c28eacb-c590-4627-80a0-87c89c886263\",\"type\":\"ToolEvents\"},{\"attributes\":{\"plot\":null,\"text\":\"GDP/Million\"},\"id\":\"361243d3-f178-42e8-a3d4-258ef97c661e\",\"type\":\"Title\"},{\"attributes\":{\"plot\":null,\"text\":\"Total Amount Awarded and Disbursed\"},\"id\":\"95f579b4-2dc4-480d-a090-13b2d9ac00f9\",\"type\":\"Title\"},{\"attributes\":{},\"id\":\"9e3f48eb-744d-495f-b392-a72a2ee461d6\",\"type\":\"BasicTickFormatter\"},{\"attributes\":{\"callback\":null,\"overlay\":{\"id\":\"88645fa3-f996-46c7-85fb-1c225a7f316c\",\"type\":\"BoxAnnotation\"},\"plot\":{\"id\":\"733ec5b1-be3f-45de-bfde-69d658070a8d\",\"subtype\":\"Figure\",\"type\":\"Plot\"},\"renderers\":[{\"id\":\"6604c85e-1184-4d57-969e-b24877c4d070\",\"type\":\"GlyphRenderer\"}]},\"id\":\"fbb4b6f0-3e67-4c69-97c6-25976093460f\",\"type\":\"BoxSelectTool\"},{\"attributes\":{\"callback\":null},\"id\":\"83de68ec-f61e-4848-b3aa-c0c0aa4c78d6\",\"type\":\"DataRange1d\"},{\"attributes\":{\"plot\":{\"id\":\"733ec5b1-be3f-45de-bfde-69d658070a8d\",\"subtype\":\"Figure\",\"type\":\"Plot\"}},\"id\":\"f83ef796-e7fe-4901-8ea1-bd654baaa7ce\",\"type\":\"ResetTool\"},{\"attributes\":{\"formatter\":{\"id\":\"51760137-a2b3-4796-afec-a2919784f63b\",\"type\":\"BasicTickFormatter\"},\"plot\":{\"id\":\"733ec5b1-be3f-45de-bfde-69d658070a8d\",\"subtype\":\"Figure\",\"type\":\"Plot\"},\"ticker\":{\"id\":\"d67378f4-4ad7-45e2-9016-95a4ac720490\",\"type\":\"BasicTicker\"}},\"id\":\"6a7d09b2-ba20-4cd6-9ec4-8bbf2d8d9f09\",\"type\":\"LinearAxis\"},{\"attributes\":{\"bottom_units\":\"screen\",\"fill_alpha\":{\"value\":0.5},\"fill_color\":{\"value\":\"lightgrey\"},\"left_units\":\"screen\",\"level\":\"overlay\",\"line_alpha\":{\"value\":1.0},\"line_color\":{\"value\":\"black\"},\"line_dash\":[4,4],\"line_width\":{\"value\":2},\"plot\":null,\"render_mode\":\"css\",\"right_units\":\"screen\",\"top_units\":\"screen\"},\"id\":\"638b165e-e6a1-42ed-9af7-a43ea0b3efea\",\"type\":\"BoxAnnotation\"},{\"attributes\":{\"overlay\":{\"id\":\"46375260-e73c-4880-b002-1c65e5b49209\",\"type\":\"BoxAnnotation\"},\"plot\":{\"id\":\"733ec5b1-be3f-45de-bfde-69d658070a8d\",\"subtype\":\"Figure\",\"type\":\"Plot\"}},\"id\":\"bce56f75-4bee-49ff-a8e7-b912a6f0683e\",\"type\":\"BoxZoomTool\"},{\"attributes\":{\"plot\":{\"id\":\"c7d181ee-e5a8-493f-b859-2df5b9ed335a\",\"subtype\":\"Figure\",\"type\":\"Plot\"},\"ticker\":{\"id\":\"09d20cb8-7d95-4c3e-9557-b4478c8b940e\",\"type\":\"BasicTicker\"}},\"id\":\"26b2f708-c119-42a1-a74d-8468b724bad4\",\"type\":\"Grid\"},{\"attributes\":{\"callback\":null,\"column_names\":[\"y1\",\"y0\",\"x\"],\"data\":{\"x\":[1,2,3,4,5,6,7,8,9,10,11,12,13,14,15,16,17,18,19,20,21,22,23,24,25,26,27,28,29,30,31,32,33,34,35,36,37,38,39,40,41,42,43,44,45,46,47,48,49,50,51],\"y0\":[156750,40063,227358,90319,1766693,220454,210170,53247,83586,700267,388342,58573,47176,586442,245197,123353,104884,143875,199683,46277,263809,345059,395166,243933,81678,224091,30637,73455,118785,57282,443148,74403,1023433,357168,24622,467392,125243,147535,506505,45663,143585,31380,227505,990054,94475,23539,359273,296403,53453,226325,27454],\"y1\":[5743215,16189749,19037687,1965330,74663752,22235728,16501999,3857523,25424106,26600593,11216327,14427899,1961349,68112505,16377153,8493716,5764416,8022942,7978539,11177079,21671260,45976945,28799226,15325162,2787779,14911587,10424194,6600356,3677624,4797223,11475362,640574,105860170,29992038,3071608,22015009,12405823,9556529,59575053,4751919,9063478,3596551,18083590,48252344,6884351,6381133,18068081,23476750,927680,17075827,2210361]}},\"id\":\"33d14d8c-4780-4037-8470-00ff0c805459\",\"type\":\"ColumnDataSource\"},{\"attributes\":{\"bottom_units\":\"screen\",\"fill_alpha\":{\"value\":0.5},\"fill_color\":{\"value\":\"lightgrey\"},\"left_units\":\"screen\",\"level\":\"overlay\",\"line_alpha\":{\"value\":1.0},\"line_color\":{\"value\":\"black\"},\"line_dash\":[4,4],\"line_width\":{\"value\":2},\"plot\":null,\"render_mode\":\"css\",\"right_units\":\"screen\",\"top_units\":\"screen\"},\"id\":\"12553df3-502c-47a6-8416-f5e04d2503b6\",\"type\":\"BoxAnnotation\"},{\"attributes\":{\"callback\":null},\"id\":\"a10ee720-e835-4fad-b52e-2639ac01813e\",\"type\":\"DataRange1d\"},{\"attributes\":{\"plot\":{\"id\":\"733ec5b1-be3f-45de-bfde-69d658070a8d\",\"subtype\":\"Figure\",\"type\":\"Plot\"},\"ticker\":{\"id\":\"6233fc35-8ef1-4019-a946-8aaf79900dc8\",\"type\":\"BasicTicker\"}},\"id\":\"09c0b55f-2983-453c-bb51-16499d877169\",\"type\":\"Grid\"},{\"attributes\":{\"plot\":{\"id\":\"733ec5b1-be3f-45de-bfde-69d658070a8d\",\"subtype\":\"Figure\",\"type\":\"Plot\"}},\"id\":\"0b73f6b9-76a3-45c1-ba57-425ce255347e\",\"type\":\"WheelZoomTool\"},{\"attributes\":{\"bottom_units\":\"screen\",\"fill_alpha\":{\"value\":0.5},\"fill_color\":{\"value\":\"lightgrey\"},\"left_units\":\"screen\",\"level\":\"overlay\",\"line_alpha\":{\"value\":1.0},\"line_color\":{\"value\":\"black\"},\"line_dash\":[4,4],\"line_width\":{\"value\":2},\"plot\":null,\"render_mode\":\"css\",\"right_units\":\"screen\",\"top_units\":\"screen\"},\"id\":\"46375260-e73c-4880-b002-1c65e5b49209\",\"type\":\"BoxAnnotation\"},{\"attributes\":{\"plot\":{\"id\":\"c7d181ee-e5a8-493f-b859-2df5b9ed335a\",\"subtype\":\"Figure\",\"type\":\"Plot\"}},\"id\":\"89ec6b84-f5e3-4be2-a93d-d2006583cc85\",\"type\":\"PanTool\"},{\"attributes\":{\"bottom_units\":\"screen\",\"fill_alpha\":{\"value\":0.5},\"fill_color\":{\"value\":\"lightgrey\"},\"left_units\":\"screen\",\"level\":\"overlay\",\"line_alpha\":{\"value\":1.0},\"line_color\":{\"value\":\"black\"},\"line_dash\":[4,4],\"line_width\":{\"value\":2},\"plot\":null,\"render_mode\":\"css\",\"right_units\":\"screen\",\"top_units\":\"screen\"},\"id\":\"88645fa3-f996-46c7-85fb-1c225a7f316c\",\"type\":\"BoxAnnotation\"},{\"attributes\":{\"fill_alpha\":{\"value\":0.1},\"fill_color\":{\"value\":\"#1f77b4\"},\"line_alpha\":{\"value\":0.1},\"line_color\":{\"value\":\"#1f77b4\"},\"x\":{\"field\":\"x\"},\"y\":{\"field\":\"y1\"}},\"id\":\"71d85e0a-d8d9-463f-8a04-06e4bc5695e1\",\"type\":\"Circle\"},{\"attributes\":{\"children\":[{\"id\":\"c7d181ee-e5a8-493f-b859-2df5b9ed335a\",\"subtype\":\"Figure\",\"type\":\"Plot\"},{\"id\":\"733ec5b1-be3f-45de-bfde-69d658070a8d\",\"subtype\":\"Figure\",\"type\":\"Plot\"}]},\"id\":\"54c24606-228b-4b64-b3b8-8214bbe72f14\",\"type\":\"Row\"},{\"attributes\":{\"below\":[{\"id\":\"ba6b7452-9015-4ead-8cec-72491a95a495\",\"type\":\"LinearAxis\"}],\"left\":[{\"id\":\"6a7d09b2-ba20-4cd6-9ec4-8bbf2d8d9f09\",\"type\":\"LinearAxis\"}],\"plot_height\":500,\"plot_width\":500,\"renderers\":[{\"id\":\"ba6b7452-9015-4ead-8cec-72491a95a495\",\"type\":\"LinearAxis\"},{\"id\":\"09c0b55f-2983-453c-bb51-16499d877169\",\"type\":\"Grid\"},{\"id\":\"6a7d09b2-ba20-4cd6-9ec4-8bbf2d8d9f09\",\"type\":\"LinearAxis\"},{\"id\":\"195116a6-57ab-476a-9ae2-d7bbc61c090d\",\"type\":\"Grid\"},{\"id\":\"46375260-e73c-4880-b002-1c65e5b49209\",\"type\":\"BoxAnnotation\"},{\"id\":\"88645fa3-f996-46c7-85fb-1c225a7f316c\",\"type\":\"BoxAnnotation\"},{\"id\":\"c79c4b11-569b-44f2-be57-fccf4d7d3562\",\"type\":\"PolyAnnotation\"},{\"id\":\"6604c85e-1184-4d57-969e-b24877c4d070\",\"type\":\"GlyphRenderer\"}],\"title\":{\"id\":\"95f579b4-2dc4-480d-a090-13b2d9ac00f9\",\"type\":\"Title\"},\"tool_events\":{\"id\":\"0c28eacb-c590-4627-80a0-87c89c886263\",\"type\":\"ToolEvents\"},\"toolbar\":{\"id\":\"b66ca5e4-7832-4b38-8899-e5bad6c9f949\",\"type\":\"Toolbar\"},\"toolbar_location\":null,\"x_range\":{\"id\":\"69850a7d-d122-4544-81f4-d83f8f01dba2\",\"type\":\"DataRange1d\"},\"y_range\":{\"id\":\"f92676ad-e607-44c3-ab0c-33580b641657\",\"type\":\"DataRange1d\"}},\"id\":\"733ec5b1-be3f-45de-bfde-69d658070a8d\",\"subtype\":\"Figure\",\"type\":\"Plot\"},{\"attributes\":{\"dimension\":1,\"plot\":{\"id\":\"c7d181ee-e5a8-493f-b859-2df5b9ed335a\",\"subtype\":\"Figure\",\"type\":\"Plot\"},\"ticker\":{\"id\":\"c98b7109-e24c-4535-89e2-0ff946bf7087\",\"type\":\"BasicTicker\"}},\"id\":\"5a25cbc5-6342-435b-a8e2-72e938a7e99e\",\"type\":\"Grid\"},{\"attributes\":{\"children\":[{\"id\":\"6fa4e921-d492-4e18-a774-c315904f67ec\",\"type\":\"ToolbarBox\"},{\"id\":\"cf08469b-3c69-43bb-8f2a-6e04006c787a\",\"type\":\"Column\"}]},\"id\":\"2e216e50-cf04-4f74-9e1b-000efe430234\",\"type\":\"Column\"},{\"attributes\":{\"overlay\":{\"id\":\"638b165e-e6a1-42ed-9af7-a43ea0b3efea\",\"type\":\"BoxAnnotation\"},\"plot\":{\"id\":\"c7d181ee-e5a8-493f-b859-2df5b9ed335a\",\"subtype\":\"Figure\",\"type\":\"Plot\"}},\"id\":\"af5ba478-75f1-4b11-97df-0f765d1783c0\",\"type\":\"BoxZoomTool\"},{\"attributes\":{\"active_drag\":\"auto\",\"active_scroll\":\"auto\",\"active_tap\":\"auto\",\"tools\":[{\"id\":\"f7a1acda-3afb-4c0b-9ae4-5072cc8a4657\",\"type\":\"PanTool\"},{\"id\":\"0b73f6b9-76a3-45c1-ba57-425ce255347e\",\"type\":\"WheelZoomTool\"},{\"id\":\"bce56f75-4bee-49ff-a8e7-b912a6f0683e\",\"type\":\"BoxZoomTool\"},{\"id\":\"f83ef796-e7fe-4901-8ea1-bd654baaa7ce\",\"type\":\"ResetTool\"},{\"id\":\"fbb4b6f0-3e67-4c69-97c6-25976093460f\",\"type\":\"BoxSelectTool\"},{\"id\":\"3ae51e3a-1962-436b-b871-3e1773255411\",\"type\":\"LassoSelectTool\"}]},\"id\":\"b66ca5e4-7832-4b38-8899-e5bad6c9f949\",\"type\":\"Toolbar\"},{\"attributes\":{},\"id\":\"f068753e-bc62-45f1-8485-b3e0c155bb68\",\"type\":\"ToolEvents\"},{\"attributes\":{\"callback\":null,\"overlay\":{\"id\":\"12553df3-502c-47a6-8416-f5e04d2503b6\",\"type\":\"BoxAnnotation\"},\"plot\":{\"id\":\"c7d181ee-e5a8-493f-b859-2df5b9ed335a\",\"subtype\":\"Figure\",\"type\":\"Plot\"},\"renderers\":[{\"id\":\"77df47f1-6da3-4d32-a154-e4c7b60f1e01\",\"type\":\"GlyphRenderer\"}]},\"id\":\"4b705b75-f4db-4d4f-b118-222fc5bb1040\",\"type\":\"BoxSelectTool\"},{\"attributes\":{\"plot\":{\"id\":\"c7d181ee-e5a8-493f-b859-2df5b9ed335a\",\"subtype\":\"Figure\",\"type\":\"Plot\"}},\"id\":\"ed34dcef-4846-4a11-80c8-5fc9399278c2\",\"type\":\"WheelZoomTool\"},{\"attributes\":{\"plot\":{\"id\":\"733ec5b1-be3f-45de-bfde-69d658070a8d\",\"subtype\":\"Figure\",\"type\":\"Plot\"}},\"id\":\"f7a1acda-3afb-4c0b-9ae4-5072cc8a4657\",\"type\":\"PanTool\"},{\"attributes\":{\"axis_label\":\"number represent states,sequence\\uff1a1\\uff5e51 means AL~WY\",\"formatter\":{\"id\":\"1a50ffe8-e344-47b7-855b-0e9bacda3d8b\",\"type\":\"BasicTickFormatter\"},\"plot\":{\"id\":\"c7d181ee-e5a8-493f-b859-2df5b9ed335a\",\"subtype\":\"Figure\",\"type\":\"Plot\"},\"ticker\":{\"id\":\"09d20cb8-7d95-4c3e-9557-b4478c8b940e\",\"type\":\"BasicTicker\"}},\"id\":\"efdd9f8c-2b9f-422f-a914-db4012db4d73\",\"type\":\"LinearAxis\"},{\"attributes\":{\"dimension\":1,\"plot\":{\"id\":\"733ec5b1-be3f-45de-bfde-69d658070a8d\",\"subtype\":\"Figure\",\"type\":\"Plot\"},\"ticker\":{\"id\":\"d67378f4-4ad7-45e2-9016-95a4ac720490\",\"type\":\"BasicTicker\"}},\"id\":\"195116a6-57ab-476a-9ae2-d7bbc61c090d\",\"type\":\"Grid\"},{\"attributes\":{},\"id\":\"09d20cb8-7d95-4c3e-9557-b4478c8b940e\",\"type\":\"BasicTicker\"},{\"attributes\":{\"active_drag\":\"auto\",\"active_scroll\":\"auto\",\"active_tap\":\"auto\",\"tools\":[{\"id\":\"89ec6b84-f5e3-4be2-a93d-d2006583cc85\",\"type\":\"PanTool\"},{\"id\":\"ed34dcef-4846-4a11-80c8-5fc9399278c2\",\"type\":\"WheelZoomTool\"},{\"id\":\"af5ba478-75f1-4b11-97df-0f765d1783c0\",\"type\":\"BoxZoomTool\"},{\"id\":\"a6edb8a4-0013-4dfd-85d9-29c2fce07384\",\"type\":\"ResetTool\"},{\"id\":\"4b705b75-f4db-4d4f-b118-222fc5bb1040\",\"type\":\"BoxSelectTool\"},{\"id\":\"daeebcb0-2acf-477b-b0eb-5462eff424ff\",\"type\":\"LassoSelectTool\"}]},\"id\":\"9b8b94fd-cbd4-4d60-af21-d6a48aac7a1b\",\"type\":\"Toolbar\"},{\"attributes\":{},\"id\":\"51760137-a2b3-4796-afec-a2919784f63b\",\"type\":\"BasicTickFormatter\"},{\"attributes\":{},\"id\":\"e851c28c-d2c5-4534-bcd0-cf23914516e1\",\"type\":\"BasicTickFormatter\"},{\"attributes\":{},\"id\":\"c98b7109-e24c-4535-89e2-0ff946bf7087\",\"type\":\"BasicTicker\"},{\"attributes\":{\"axis_label\":\"number represent states,sequence\\uff1a1\\uff5e51 means AL~WY\",\"formatter\":{\"id\":\"9e3f48eb-744d-495f-b392-a72a2ee461d6\",\"type\":\"BasicTickFormatter\"},\"plot\":{\"id\":\"733ec5b1-be3f-45de-bfde-69d658070a8d\",\"subtype\":\"Figure\",\"type\":\"Plot\"},\"ticker\":{\"id\":\"6233fc35-8ef1-4019-a946-8aaf79900dc8\",\"type\":\"BasicTicker\"}},\"id\":\"ba6b7452-9015-4ead-8cec-72491a95a495\",\"type\":\"LinearAxis\"},{\"attributes\":{},\"id\":\"d67378f4-4ad7-45e2-9016-95a4ac720490\",\"type\":\"BasicTicker\"},{\"attributes\":{\"formatter\":{\"id\":\"e851c28c-d2c5-4534-bcd0-cf23914516e1\",\"type\":\"BasicTickFormatter\"},\"plot\":{\"id\":\"c7d181ee-e5a8-493f-b859-2df5b9ed335a\",\"subtype\":\"Figure\",\"type\":\"Plot\"},\"ticker\":{\"id\":\"c98b7109-e24c-4535-89e2-0ff946bf7087\",\"type\":\"BasicTicker\"}},\"id\":\"8ba09461-406c-4467-8246-80c16d419d80\",\"type\":\"LinearAxis\"},{\"attributes\":{\"children\":[{\"id\":\"54c24606-228b-4b64-b3b8-8214bbe72f14\",\"type\":\"Row\"}]},\"id\":\"cf08469b-3c69-43bb-8f2a-6e04006c787a\",\"type\":\"Column\"},{\"attributes\":{\"data_source\":{\"id\":\"33d14d8c-4780-4037-8470-00ff0c805459\",\"type\":\"ColumnDataSource\"},\"glyph\":{\"id\":\"c2060b69-fb45-4dbb-884f-cb1afdb43198\",\"type\":\"Circle\"},\"hover_glyph\":null,\"muted_glyph\":null,\"nonselection_glyph\":{\"id\":\"d6fb527f-e602-4c49-8398-13f0b8021192\",\"type\":\"Circle\"},\"selection_glyph\":null},\"id\":\"77df47f1-6da3-4d32-a154-e4c7b60f1e01\",\"type\":\"GlyphRenderer\"},{\"attributes\":{\"callback\":null,\"overlay\":{\"id\":\"c79c4b11-569b-44f2-be57-fccf4d7d3562\",\"type\":\"PolyAnnotation\"},\"plot\":{\"id\":\"733ec5b1-be3f-45de-bfde-69d658070a8d\",\"subtype\":\"Figure\",\"type\":\"Plot\"}},\"id\":\"3ae51e3a-1962-436b-b871-3e1773255411\",\"type\":\"LassoSelectTool\"}],\"root_ids\":[\"2e216e50-cf04-4f74-9e1b-000efe430234\"]},\"title\":\"Bokeh Application\",\"version\":\"0.12.5\"}};\n",
       "            var render_items = [{\"docid\":\"d1d03132-8b48-4df8-8635-c739baf32742\",\"elementid\":\"050c8dd2-f64a-442d-a34f-bbd157e769fa\",\"modelid\":\"2e216e50-cf04-4f74-9e1b-000efe430234\"}];\n",
       "            \n",
       "            Bokeh.embed.embed_items(docs_json, render_items);\n",
       "          };\n",
       "          if (document.readyState != \"loading\") fn();\n",
       "          else document.addEventListener(\"DOMContentLoaded\", fn);\n",
       "        })();\n",
       "      },\n",
       "      function(Bokeh) {\n",
       "      }\n",
       "    ];\n",
       "  \n",
       "    function run_inline_js() {\n",
       "      \n",
       "      if ((window.Bokeh !== undefined) || (force === true)) {\n",
       "        for (var i = 0; i < inline_js.length; i++) {\n",
       "          inline_js[i](window.Bokeh);\n",
       "        }if (force === true) {\n",
       "          display_loaded();\n",
       "        }} else if (Date.now() < window._bokeh_timeout) {\n",
       "        setTimeout(run_inline_js, 100);\n",
       "      } else if (!window._bokeh_failed_load) {\n",
       "        console.log(\"Bokeh: BokehJS failed to load within specified timeout.\");\n",
       "        window._bokeh_failed_load = true;\n",
       "      } else if (force !== true) {\n",
       "        var cell = $(document.getElementById(\"050c8dd2-f64a-442d-a34f-bbd157e769fa\")).parents('.cell').data().cell;\n",
       "        cell.output_area.append_execute_result(NB_LOAD_WARNING)\n",
       "      }\n",
       "  \n",
       "    }\n",
       "  \n",
       "    if (window._bokeh_is_loading === 0) {\n",
       "      console.log(\"Bokeh: BokehJS loaded, going straight to plotting\");\n",
       "      run_inline_js();\n",
       "    } else {\n",
       "      load_libs(js_urls, function() {\n",
       "        console.log(\"Bokeh: BokehJS plotting callback run at\", now());\n",
       "        run_inline_js();\n",
       "      });\n",
       "    }\n",
       "  }(this));\n",
       "</script>"
      ]
     },
     "metadata": {},
     "output_type": "display_data"
    }
   ],
   "source": [
    "select = Select(title=\"year:\", value=\"foo\", options=[\"2000\", \"2001\", \"2002\", \"2003\",\"2004\",\"2005\"])\n",
    "show(widgetbox(select))\n",
    "show(p)"
   ]
  },
  {
   "cell_type": "code",
   "execution_count": null,
   "metadata": {
    "collapsed": true
   },
   "outputs": [],
   "source": []
  }
 ],
 "metadata": {
  "anaconda-cloud": {},
  "kernelspec": {
   "display_name": "Python 2",
   "language": "python",
   "name": "python2"
  },
  "language_info": {
   "codemirror_mode": {
    "name": "ipython",
    "version": 2
   },
   "file_extension": ".py",
   "mimetype": "text/x-python",
   "name": "python",
   "nbconvert_exporter": "python",
   "pygments_lexer": "ipython2",
   "version": "2.7.13"
  }
 },
 "nbformat": 4,
 "nbformat_minor": 1
}
