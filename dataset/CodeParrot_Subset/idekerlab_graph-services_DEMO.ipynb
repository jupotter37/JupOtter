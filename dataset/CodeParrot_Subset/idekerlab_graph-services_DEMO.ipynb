{
 "cells": [
  {
   "cell_type": "markdown",
   "metadata": {},
   "source": [
    "# cxMate Service DEMO\n",
    "By Ayato Shimada, Mitsuhiro Eto\n",
    "\n",
    "This DEMO shows\n",
    "1. detect communities using an __igraph's community detection algorithm__\n",
    "2. __paint communities (nodes and edges)__ in different colors\n",
    "3. perform layout using __graph-tool's sfdp algorithm__\n",
    "\n",
    "---"
   ]
  },
  {
   "cell_type": "code",
   "execution_count": 6,
   "metadata": {},
   "outputs": [
    {
     "name": "stdout",
     "output_type": "stream",
     "text": [
      "Python 3.5.4 :: Continuum Analytics, Inc.\r\n"
     ]
    }
   ],
   "source": [
    "# Tested on:\n",
    "!python --version"
   ]
  },
  {
   "cell_type": "markdown",
   "metadata": {},
   "source": [
    "# Send CX to service using requests module\n",
    "\n",
    "### Services are built on __a server__\n",
    "You don't have to construct graph libraries in your local environment.  \n",
    "It is very easy to use __python-igraph__ and __graph-tools__.\n",
    "\n",
    "### In order to send CX\n",
    "- requests : to send CX file to service in Python. (curl also can be used.)\n",
    "- json : to convert *object* to a CX formatted string.\n"
   ]
  },
  {
   "cell_type": "code",
   "execution_count": 16,
   "metadata": {
    "collapsed": true
   },
   "outputs": [],
   "source": [
    "import requests\n",
    "import json"
   ]
  },
  {
   "cell_type": "code",
   "execution_count": 17,
   "metadata": {
    "collapsed": true
   },
   "outputs": [],
   "source": [
    "url_community = 'http://localhost:80' # igraph's community detection service URL\n",
    "url_layout = 'http://localhost:3000' # graph-tool's layout service URL\n",
    "headers = {'Content-type': 'application/json'}"
   ]
  },
  {
   "cell_type": "markdown",
   "metadata": {},
   "source": [
    "# Network used for DEMO"
   ]
  },
  {
   "cell_type": "markdown",
   "metadata": {},
   "source": [
    "This DEMO uses `yeastHQSubnet.cx` as original network.\n",
    "- 2924 nodes\n",
    "- 6827 edges\n",
    "<img src=\"example1.png\" alt=\"Drawing\" style=\"width: 500px;\"/>"
   ]
  },
  {
   "cell_type": "markdown",
   "metadata": {},
   "source": [
    "---"
   ]
  },
  {
   "attachments": {},
   "cell_type": "markdown",
   "metadata": {},
   "source": [
    "# 1. igraph community detection and color generator service\n",
    "In order to detect communities, __igraph's community detection service__ can be used.  \n",
    "\n",
    "### How to use the service on Jupyter Notebook\n",
    "1. open the CX file using __*`open()`*__\n",
    "2. set parameters in dictionary format. (About parameters, see the document of service.)\n",
    "3. post the CX data to URL of service using __*`requests.post()`*__"
   ]
  },
  {
   "cell_type": "code",
   "execution_count": 20,
   "metadata": {
    "collapsed": true
   },
   "outputs": [],
   "source": [
    "data = open('./yeastHQSubnet.cx') # 1.\n",
    "parameter = {'type': 'leading_eigenvector', 'clusters': 5, 'palette': 'husl'} # 2.\n",
    "r = requests.post(url=url_community, headers=headers, data=data, params=parameter) # 3."
   ]
  },
  {
   "cell_type": "markdown",
   "metadata": {},
   "source": [
    "## What happened?\n",
    "\n",
    "### Output contains\n",
    "__graph with community membership__  + __color assignment for each group__.\n",
    "- node1 : group 1, red\n",
    "- node2 : group 1, red\n",
    "- node3 : group 2, green\n",
    "...\n",
    "\n",
    "## You don't have to create your own color palette manually.\n",
    "\n",
    "To save and look the output data, you can use __*`r.json()['data']`*__\n",
    "\n",
    "__Note__  \n",
    "- When you use this output as input of next service, you must use __*`json.dumps(r.json()['data'])`*__\n",
    "- You must replace single quotation to double quotation in output file."
   ]
  },
  {
   "cell_type": "code",
   "execution_count": 21,
   "metadata": {
    "collapsed": true
   },
   "outputs": [],
   "source": [
    "import re\n",
    "with open('output1.cx', 'w') as f:\n",
    "    # single quotation -> double quotation\n",
    "    output = re.sub(string=str(r.json()['data']), pattern=\"'\", repl='\"')\n",
    "    f.write(output)"
   ]
  },
  {
   "cell_type": "markdown",
   "metadata": {},
   "source": [
    "# 3. graph-tool layout service\n",
    "In order to perform layout algorithm, __graph-tool's layout algorithm service__ can be used.  \n",
    "\n",
    "## C++ optimized parallel, community-structure-aware layout algorithms\n",
    "\n",
    "You can use the community structure as a parameter for layout, and __result reflects its structure.__\n",
    "\n",
    "\n",
    "You can use graph-tool's service __in the same way as igraph's service__.  \n",
    "Both input and output of cxMate service are __CX__, NOT __igraph's object__, __graph-tool's object__ and so on.  \n",
    "So, you __don't have to convert__ igraph object to graph-tools object.\n",
    "\n",
    "<img src=\"service.png\" alt=\"Drawing\" style=\"width: 750px;\"/>\n",
    "\n",
    "\n",
    "### How to use the service on Jupyter Notebook\n",
    "1. open the CX file using __*`json.dumps(r.json()['data'])`*__\n",
    "2. set parameters in dictionary format. (About parameters, see the document of service.)\n",
    "3. post the CX data to URL of service using __*`requests.post()`*__"
   ]
  },
  {
   "cell_type": "code",
   "execution_count": 22,
   "metadata": {},
   "outputs": [],
   "source": [
    "data2 = json.dumps(r.json()['data']) # 1.\n",
    "parameter = {'only-layout': False, 'groups': 'community'} # 2. \n",
    "r2 = requests.post(url=url_layout, headers=headers, data=data2, params=parameter) # 3."
   ]
  },
  {
   "cell_type": "markdown",
   "metadata": {},
   "source": [
    "## Save .cx file\n",
    "To save and look the output data, you can use __*`r.json()['data']`*__\n"
   ]
  },
  {
   "cell_type": "code",
   "execution_count": 23,
   "metadata": {
    "collapsed": true
   },
   "outputs": [],
   "source": [
    "import re\n",
    "with open('output2.cx', 'w') as f:\n",
    "    # single quotation -> double quotation\n",
    "    output = re.sub(string=str(r2.json()['data']), pattern=\"'\", repl='\"')\n",
    "    f.write(output)"
   ]
  },
  {
   "cell_type": "markdown",
   "metadata": {},
   "source": [
    "---"
   ]
  },
  {
   "cell_type": "markdown",
   "metadata": {},
   "source": [
    "# Color Palette\n",
    "If you want to change color of communities, you can do it __easily__.  \n",
    "__Many color palettes of seaborn__ can be used.  (See http://seaborn.pydata.org/tutorial/color_palettes.html)"
   ]
  },
  {
   "cell_type": "code",
   "execution_count": 11,
   "metadata": {
    "collapsed": true
   },
   "outputs": [],
   "source": [
    "%matplotlib inline\n",
    "import seaborn as sns, numpy as np\n",
    "from ipywidgets import interact, FloatSlider"
   ]
  },
  {
   "cell_type": "markdown",
   "metadata": {},
   "source": [
    "## Default Palette\n",
    "Without setting parameter 'palette', 'husl' is used as color palette."
   ]
  },
  {
   "cell_type": "code",
   "execution_count": 2,
   "metadata": {},
   "outputs": [
    {
     "name": "stdout",
     "output_type": "stream",
     "text": [
      "palette: husl\n"
     ]
    },
    {
     "data": {
      "application/vnd.jupyter.widget-view+json": {
       "model_id": "b55ad65924cc4fe3a8d3a9b2618593ec",
       "version_major": 2,
       "version_minor": 0
      },
      "text/plain": [
       "A Jupyter Widget"
      ]
     },
     "metadata": {},
     "output_type": "display_data"
    }
   ],
   "source": [
    "def show_husl(n):\n",
    "    sns.palplot(sns.color_palette('husl', n))\n",
    "print('palette: husl')\n",
    "interact(show_husl, n=10);"
   ]
  },
  {
   "cell_type": "markdown",
   "metadata": {},
   "source": [
    "## Other palettes"
   ]
  },
  {
   "cell_type": "code",
   "execution_count": 3,
   "metadata": {
    "scrolled": true
   },
   "outputs": [
    {
     "data": {
      "application/vnd.jupyter.widget-view+json": {
       "model_id": "ef95c35844e84cd2811995072fcfc2eb",
       "version_major": 2,
       "version_minor": 0
      },
      "text/plain": [
       "A Jupyter Widget"
      ]
     },
     "metadata": {},
     "output_type": "display_data"
    }
   ],
   "source": [
    "def show_pal0(palette):\n",
    "    sns.palplot(sns.color_palette(palette, 24))\n",
    "interact(show_pal0, palette='deep muted pastel bright dark colorblind'.split());"
   ]
  },
  {
   "cell_type": "code",
   "execution_count": 4,
   "metadata": {},
   "outputs": [
    {
     "data": {
      "application/vnd.jupyter.widget-view+json": {
       "model_id": "ac6bbc3e20cd4dc5adb6f83db25b0d88",
       "version_major": 2,
       "version_minor": 0
      },
      "text/plain": [
       "A Jupyter Widget"
      ]
     },
     "metadata": {},
     "output_type": "display_data"
    }
   ],
   "source": [
    "sns.choose_colorbrewer_palette('qualitative');"
   ]
  },
  {
   "cell_type": "code",
   "execution_count": 5,
   "metadata": {},
   "outputs": [
    {
     "data": {
      "application/vnd.jupyter.widget-view+json": {
       "model_id": "421dbb1e626c4084aef8b2c7d87cb4ef",
       "version_major": 2,
       "version_minor": 0
      },
      "text/plain": [
       "A Jupyter Widget"
      ]
     },
     "metadata": {},
     "output_type": "display_data"
    }
   ],
   "source": [
    "sns.choose_colorbrewer_palette('sequential');"
   ]
  },
  {
   "cell_type": "code",
   "execution_count": null,
   "metadata": {
    "collapsed": true
   },
   "outputs": [],
   "source": []
  }
 ],
 "metadata": {
  "celltoolbar": "Raw Cell Format",
  "kernelspec": {
   "display_name": "Python 3",
   "language": "python",
   "name": "python3"
  },
  "language_info": {
   "codemirror_mode": {
    "name": "ipython",
    "version": 3
   },
   "file_extension": ".py",
   "mimetype": "text/x-python",
   "name": "python",
   "nbconvert_exporter": "python",
   "pygments_lexer": "ipython3",
   "version": "3.5.4"
  }
 },
 "nbformat": 4,
 "nbformat_minor": 2
}
