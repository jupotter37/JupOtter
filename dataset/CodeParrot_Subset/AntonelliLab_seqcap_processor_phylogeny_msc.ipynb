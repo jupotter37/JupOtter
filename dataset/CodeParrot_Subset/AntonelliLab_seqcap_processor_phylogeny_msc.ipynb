{
 "cells": [
  {
   "cell_type": "markdown",
   "metadata": {},
   "source": [
    "# Estimating phylogenies from sequence capture data\n",
    "Here we show one example of how the phased multiple sequence alignments (MSAs) assembled with the SECAPR pipeline can be used for phylogeny estimation. In the example below we use the **Multi Species Coalescent (MSC)** program BEAST2.\n",
    "\n",
    "1. Locus selection:\n",
    "We used the `secapr locus_selection` function in order to choose the 50 exon loci with the highest read coverage across all samples (see [locus selection workflow here](locus_selection.ipynb)).\n",
    "2. Phasing:\n",
    "We generated phased allele sequence MSAs fo the selected 50 loci (see [phasing workflow here](phasing.ipynb)).\n",
    "3. Generating BEAST xml file with BEAUTI:\n",
    "We loaded the 50 phased allele sequence MSAs into BEAUTI v2.4.4. We chose the **STACEY**-specific **BirthDeathCollapse** species tree model with a collapse height of 1e-5. This tree-model allows taxon-assignment free analyses under the MSC model, which allows to observe every sequence as an individual tip in the species tree (rather than having to assign sequences to expected clusters (= species) prior to analysis. Further priors were: bdcGrowthRate = log normal(M=4.6, S=1.5); collapseWeight = beta (alpha=2, beta=2); popPriorScale = log normal(M=-7, S=2); relativeDeathRate = beta (alpha=1.0, beta=1.0).\n",
    "4. Run BEAST v2.4.4:\n",
    "We set the MCMC for 1 billion generations, logging every 100,000 generations. After approximately 500 million generations all parameters had reached convergence (assessed with Tracer v.1.6, Rambaut et al. 2013) and the MCMC was stopped (approximately 80 hours on a Mac Pro, Late 2013, 3.5 GHz 6-Core Intel Xeon E5 processor).\n",
    "5. Summarizing posterior species tree distribution:\n",
    "The resulting distribution of species trees was summarized with TreeAnnotator (v2.4.4), using mean heights and excluding 10% burn-in. **Command:** `treeannotator -burnin 10 -heights mean species.trees summary_tree_mean_heights.tre`\n",
    "6. Generating similarity matrix from the posterior:\n",
    "We then used the SpeciesDelimitationAnalyser (part of the STACEY distribution) to calculate the posterior probability for each pair of species of belonging to the same cluster. This probability was calculated from the complete posterior tree distribution (excl. 10% burn-in), using a user-defined collapse-height value of 1e-5. **Command:** `java -jar speciesDA.jar -burnin 557 -collapseheight 1e-5 species.trees species_da_results_1e-5.txt`\n",
    "7. Plot the similarity matrix:\n",
    "We applied our custom-made R-script for plotting the similarity matrix. The [plotting-script can be found here](https://github.com/AntonelliLab/seqcap_processor/src/simmatrix_geonoma_allele_data.R). A nice and userfriendly R-script to plot simmatrices can be found here: https://github.com/scrameri/smtools/tree/master/SpeciesDelimitation\n",
    "\n",
    "![alt text](https://github.com/AntonelliLab/seqcap_processor/images/stacey_phylogeny.jpg \"Stacey species tree\")"
   ]
  },
  {
   "cell_type": "markdown",
   "metadata": {
    "collapsed": true
   },
   "source": [
    "[Previous page](phasing.ipynb)"
   ]
  }
 ],
 "metadata": {
  "kernelspec": {
   "display_name": "Python 3",
   "language": "python",
   "name": "python3"
  },
  "language_info": {
   "codemirror_mode": {
    "name": "ipython",
    "version": 3
   },
   "file_extension": ".py",
   "mimetype": "text/x-python",
   "name": "python",
   "nbconvert_exporter": "python",
   "pygments_lexer": "ipython3",
   "version": "3.6.4"
  }
 },
 "nbformat": 4,
 "nbformat_minor": 2
}