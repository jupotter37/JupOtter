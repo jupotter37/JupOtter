{
 "cells": [
  {
   "cell_type": "markdown",
   "metadata": {},
   "source": [
    "#Hm, zullen we maar beginnen?\n",
    "Deze applicatie heet IPython en je kan er Python code mee uitvoeren (Python is een soort programmeertaal; een manier om aan een computer uit te leggen wat die computer voor jou moet doen).\n",
    "\n",
    "Selecteer de cel met de som hieronder door erin te klikken (er komt dan een groene kader omheen staan) en druk op Shift+Enter of op de Play (<i class=\"fa-play fa\"></i>) knop hierboven om de code in de cel uit te voeren:"
   ]
  },
  {
   "cell_type": "code",
   "execution_count": null,
   "metadata": {
    "collapsed": false
   },
   "outputs": [],
   "source": [
    "5+11"
   ]
  },
  {
   "cell_type": "markdown",
   "metadata": {},
   "source": [
    "De code is georganiseerd in cellen en als je wil kan je kan de code in de cellen aanpassen en opnieuw uitvoeren. Pas hierboven de som aan en voer ze opnieuw uit.\n",
    "\n",
    "... doe maar, ik wacht hier even ...\n",
    "\n",
    "\"Pffff, dat kan ik ook met eender welke rekenmachine\"  \n",
    "Klopt, maar dit is nog maar het begin; laat ons eens iets anders proberen: "
   ]
  },
  {
   "cell_type": "code",
   "execution_count": null,
   "metadata": {
    "collapsed": false
   },
   "outputs": [],
   "source": [
    "print(\"Hallo allemaal!\")"
   ]
  },
  {
   "cell_type": "markdown",
   "metadata": {},
   "source": [
    "IPython zal, als het commando een resultaat geeft, deze \"output\" onder de cell uitprinten.  \n",
    "En als je iets vergeet of fout typt, wordt-ie boos:"
   ]
  },
  {
   "cell_type": "code",
   "execution_count": null,
   "metadata": {
    "collapsed": false
   },
   "outputs": [],
   "source": [
    "print(\"Dit lukt dus niet\""
   ]
  },
  {
   "cell_type": "markdown",
   "metadata": {},
   "source": [
    "Er wordt dan door Python geprobeerd om uit te leggen wat er mis gaat, maar dat is niet altijd 100% duidelijk. Kan je uitvissen wat er hierboven misloopt?\n",
    "\n",
    "-Tip: het \"Hallo allemaal\" commando kan misschien helpen, het is maar een kleine vergetelheid, maar een computer kan van iets dergelijks helemaal in de war raken-"
   ]
  },
  {
   "cell_type": "markdown",
   "metadata": {},
   "source": [
    "#OK, wat kan Python nog?\n",
    "###Dingen onthouden\n",
    "daar zijn computers goed in (zolang je de stekker niet uittrekt...)\n",
    "Een variabele noemen we dat. Die moet je wel een naam geven, anders vind je ze niet meer terug: "
   ]
  },
  {
   "cell_type": "code",
   "execution_count": null,
   "metadata": {
    "collapsed": true
   },
   "outputs": [],
   "source": [
    "a = 'Dit is een tekst'  # tekst moet je tussen aanhalingstekens '...' zetten\n",
    "a = \"Dit is een tekst\"  # maar het mogen ook dubbele aanhalingstekens \"...\" zijn (als je ze maar niet door mekaar haalt)\n",
    "# oh, ja en alles wat achter een # staat is commentaar, dat slaat Python gewoon over\n",
    "\n",
    "b = 13\n",
    "c = 273.15              # voor decimale cijfers, geen komma's, maar punten!"
   ]
  },
  {
   "cell_type": "markdown",
   "metadata": {},
   "source": [
    "Zie, je geen resultaat, dus IPython print niets uit, maar de variabelen zitten wel in het geheugen, kijk maar:"
   ]
  },
  {
   "cell_type": "code",
   "execution_count": null,
   "metadata": {
    "collapsed": false
   },
   "outputs": [],
   "source": [
    "print(a, b, c)"
   ]
  },
  {
   "cell_type": "markdown",
   "metadata": {},
   "source": [
    "### Methodes en \"dot notation\" (punt notatie)\n",
    "sommige \"dingen\" of objecten die je in Python gebruikt krijgen een soort superpowers mee in de vorm van methodes die je kan aanroepen.  \n",
    "Dit doe je door een punt achter het object te zetten en dan de methode te typen (opgelet, voor het aanroepen van een functie moet je altijd haakjes achter de functienaam zetten, desnoods zonder iets tussen):"
   ]
  },
  {
   "cell_type": "code",
   "execution_count": null,
   "metadata": {
    "collapsed": false
   },
   "outputs": [],
   "source": [
    "# bvb een tekst in hoofdletters omzetten:\n",
    "a.upper()"
   ]
  },
  {
   "cell_type": "markdown",
   "metadata": {},
   "source": [
    "Door na het punt op de <TAB> toets te drukken, zal IPython een lijst van beschikbare methodes laten zien; zet je cursor achter het punt en type <TAB> om het uit te proberen:"
   ]
  },
  {
   "cell_type": "code",
   "execution_count": null,
   "metadata": {
    "collapsed": false
   },
   "outputs": [],
   "source": [
    "a."
   ]
  },
  {
   "cell_type": "markdown",
   "metadata": {},
   "source": [
    "###Lijstjes onthouden\n",
    "Als je een lijst van objecten wil opslaan, kan dat met vierkante haakjes: "
   ]
  },
  {
   "cell_type": "code",
   "execution_count": null,
   "metadata": {
    "collapsed": false
   },
   "outputs": [],
   "source": [
    "minions = ['Dave','Stuart','Jerry','Jorge']\n",
    "print(minions[2])\n",
    "#opgelet, elementnummers beginnen te tellen bij 0, daarom wordt de derde minion in de lijst geprint!"
   ]
  },
  {
   "cell_type": "markdown",
   "metadata": {},
   "source": [
    "Maar als je eigenlijk de favoriete ijsjes van de minions wil opslaan, gebruik je best een dictionary (Engels voor \"woordenboek\", omdat het je toelaat om dingen op te zoeken op basis van een index / sleutel):"
   ]
  },
  {
   "cell_type": "code",
   "execution_count": null,
   "metadata": {
    "collapsed": false
   },
   "outputs": [],
   "source": [
    "minion_ijsjes = {\n",
    "    'Dave':'aardbei',              # 'Dave' is hier de sleutel, 'aardbei' is de ermee gekoppelde waarde \n",
    "    'Stuart':'vanille',\n",
    "    'Jerry':['mokka', 'vanille'],  # Inderdaad, we kunnen dit nog veel ingewikkelder maken :-)\n",
    "    'Jorge':'chocolade'\n",
    "}\n",
    "print(minion_ijsjes['Jerry'])"
   ]
  },
  {
   "cell_type": "code",
   "execution_count": null,
   "metadata": {
    "collapsed": false
   },
   "outputs": [],
   "source": [
    "# en begrijp je deze?\n",
    "print(minion_ijsjes[minions[2]])"
   ]
  },
  {
   "cell_type": "markdown",
   "metadata": {},
   "source": [
    "#Loopen\n",
    "-ja, dat moet echt met dubbele 'oo' en je spreekt het uit als 'loepen'-\n",
    "\n",
    "Kan ik in plaats van maar één ook de ijsjes van alle minions printen?  \n",
    "nota tussendoor: range() is een functie om lijstjes van nummers te maken."
   ]
  },
  {
   "cell_type": "code",
   "execution_count": null,
   "metadata": {
    "collapsed": false
   },
   "outputs": [],
   "source": [
    "print(range(4))"
   ]
  },
  {
   "cell_type": "markdown",
   "metadata": {},
   "source": [
    "Dit kunnen we gebruiken om 4 keer dezelfde print te herhalen, maar telkens met één nummer hoger"
   ]
  },
  {
   "cell_type": "code",
   "execution_count": null,
   "metadata": {
    "collapsed": false
   },
   "outputs": [],
   "source": [
    "for nummer in range(4):\n",
    "    print(minions[nummer])"
   ]
  },
  {
   "cell_type": "markdown",
   "metadata": {},
   "source": [
    "Opgelet! de \"whitespace\" (witruimte) vóór het print commando is van belang! Zonder deze spaties zou Python niet weten wat er binnen en wat er buiten de loop valt:"
   ]
  },
  {
   "cell_type": "code",
   "execution_count": null,
   "metadata": {
    "collapsed": false
   },
   "outputs": [],
   "source": [
    "for nummer in range(4):\n",
    "    print(nummer)\n",
    "    print(minions[nummer])"
   ]
  },
  {
   "cell_type": "markdown",
   "metadata": {},
   "source": [
    "Is niet hetzelfde als:"
   ]
  },
  {
   "cell_type": "code",
   "execution_count": null,
   "metadata": {
    "collapsed": false
   },
   "outputs": [],
   "source": [
    "for nummer in range(4):\n",
    "    print(nummer)\n",
    "print(minions[nummer])"
   ]
  },
  {
   "cell_type": "markdown",
   "metadata": {},
   "source": [
    "We kunnen ook iets één keer herhalen voor elke minion in ons minions lijstje."
   ]
  },
  {
   "cell_type": "code",
   "execution_count": null,
   "metadata": {
    "collapsed": false
   },
   "outputs": [],
   "source": [
    "for minion in minions:\n",
    "    print(minion)"
   ]
  },
  {
   "cell_type": "markdown",
   "metadata": {},
   "source": [
    "Of voor elke minion in ons minions lijstje de minion printen plus zijn ijsje(s) uit de minion_ijsjes dictionary"
   ]
  },
  {
   "cell_type": "code",
   "execution_count": null,
   "metadata": {
    "collapsed": false
   },
   "outputs": [],
   "source": [
    "for minion in minions:\n",
    "    print(minion, minion_ijsjes[minion])"
   ]
  },
  {
   "cell_type": "markdown",
   "metadata": {},
   "source": [
    "While is een gelijkaardig soort loop. \"while\" is Engels voor \"terwijl\" en het betekent dat de instructies in de loop uitgevoerd zullen worden terwijl aan een bepaalde voorwaarde voldaan is.  \n",
    "Bijvoorbeeld met een dobbelsteen gooien tot er 6 gegooid wordt:"
   ]
  },
  {
   "cell_type": "code",
   "execution_count": null,
   "metadata": {
    "collapsed": false
   },
   "outputs": [],
   "source": [
    "import random                   # om de random module te kunnen gebruiken; import wordt verder nog uitgelegd\n",
    "\n",
    "worp = 0                        # een worp van 0 kan niet, maar we moeten ergens beginnen...\n",
    "while worp < 6:\n",
    "    worp = random.randint(1,6)  # een willekeurig getal van 1 tot 6\n",
    "    print(worp)"
   ]
  },
  {
   "cell_type": "markdown",
   "metadata": {},
   "source": [
    "Als je het een paar keer probeert kan je zien dat het echt willekeurig is (met Ctrl+Enter wordt de cel uitgevoerd terwijl de cursor blijft staan)\n",
    "\n",
    "Een speciaal geval is de \"while True:\" constructie; aangezien aan True (Engels voor \"Waar\") altijd voldaan wordt, blijft dit voor eeuwig loopen, tenzij je de executie manueel onderbreekt door op de Stop knop (<i class=\"fa-stop fa\"></i>) in de menubalk te drukken of Kernel > Interrupt te kiezen uit het dropdown menu."
   ]
  },
  {
   "cell_type": "code",
   "execution_count": null,
   "metadata": {
    "collapsed": false
   },
   "outputs": [],
   "source": [
    "import time                     # om de time module te kunnen gebruiken; import wordt verder nog uitgelegd\n",
    "\n",
    "while True:\n",
    "    print('.'),                 # met de komma voorkom je dat er na elk punt een nieuwe lijn gestart wordt\n",
    "    time.sleep(0.2)             # 0.2 seconden pauzeren"
   ]
  },
  {
   "cell_type": "markdown",
   "metadata": {},
   "source": [
    "Druk op de Stop knop (<i class=\"fa-stop fa\"></i>) om de executie te beëindigen.  \n",
    "Deze methode wordt soms gebruikt om een programma te starten dat moet blijven lopen.\n",
    "\n",
    "####Voor gevorderden: Je kan foutmeldingen neutralizeren en een dergelijke Kernel Interrupt dus op een elegante manier opvangen zonder dat IPython lelijke KeyboardInterrupts op het scherm toont.\n",
    "\n",
    "Dat gebeurt met een \"try except\" constructie en wel op de volgende manier:"
   ]
  },
  {
   "cell_type": "code",
   "execution_count": null,
   "metadata": {
    "collapsed": false
   },
   "outputs": [],
   "source": [
    "import time\n",
    "\n",
    "while True:\n",
    "    try:                                # probeer de code uit te voeren...\n",
    "        print('.'),\n",
    "        time.sleep(0.2)\n",
    "    except KeyboardInterrupt:           # ... en als een KeyboardInterrupt fout optreedt, toon ze dan niet, maar:\n",
    "        print('\\nEinde')                # print 'Einde' (op een nieuwe lijn)\n",
    "        break                           # verlaat de while lus"
   ]
  },
  {
   "cell_type": "markdown",
   "metadata": {},
   "source": [
    "#Voorwaarden\n",
    "Met een \"if\" uitdrukking kunnen we beïnvloeden hoe de uitvoering van de code verloopt.  \n",
    "\"if\" betekent \"als\" in het Engels en het laat ons toe om de computer iets wel of niet te laten doen, afhankelijk wat we erachter zetten."
   ]
  },
  {
   "cell_type": "code",
   "execution_count": null,
   "metadata": {
    "collapsed": false
   },
   "outputs": [],
   "source": [
    "punten = 85\n",
    "if punten > 90:\n",
    "    print('Schitterend')\n",
    "elif punten > 80:\n",
    "    print('Zeer goed')\n",
    "elif punten > 60:\n",
    "    print('Goed')\n",
    "else:\n",
    "    print('Hm')"
   ]
  },
  {
   "cell_type": "markdown",
   "metadata": {},
   "source": [
    "Bijvoorbeeld: die Jerry is me toch wat gulzig, dus:"
   ]
  },
  {
   "cell_type": "code",
   "execution_count": null,
   "metadata": {
    "collapsed": false
   },
   "outputs": [],
   "source": [
    "for minion in minions:\n",
    "    if minion == 'Jerry':\n",
    "        print('--Gulzigaard--')\n",
    "    else:\n",
    "        print(minion, minion_ijsjes[minion])"
   ]
  },
  {
   "cell_type": "markdown",
   "metadata": {},
   "source": [
    "#Echt programmeren\n",
    "We kunnen in Python ook zelf functies maken en die vervolgens gebruiken; dat helpt om de code ordelijk te houden en bepaalde stukjes code maar één maal te moeten schrijven / corrigeren / onderhouden."
   ]
  },
  {
   "cell_type": "code",
   "execution_count": null,
   "metadata": {
    "collapsed": true
   },
   "outputs": [],
   "source": [
    "def begroet(naam):\n",
    "    print('Dag ' + naam)"
   ]
  },
  {
   "cell_type": "markdown",
   "metadata": {},
   "source": [
    "Zullen we onze nieuwe functie eens uitproberen?"
   ]
  },
  {
   "cell_type": "code",
   "execution_count": null,
   "metadata": {
    "collapsed": false
   },
   "outputs": [],
   "source": [
    "begroet('Mariette')"
   ]
  },
  {
   "cell_type": "markdown",
   "metadata": {},
   "source": [
    "###En nog een extraatje\n",
    "we kunnen strings (tekst variabelen) gebruiken als template om teksten samen te stellen zoals de Samenvoegen functonaliteit in tekstverwerkers zoals Microsoft Word.\n",
    "\n",
    "Dat gebeurt met de format() functie:  \n",
    "'Dag {}'.format(naam)  \n",
    "maakt dat de accolades in de tekst vervangen worden door de waarde van de variabele"
   ]
  },
  {
   "cell_type": "code",
   "execution_count": null,
   "metadata": {
    "collapsed": false
   },
   "outputs": [],
   "source": [
    "def begroet(naam):\n",
    "    print('Dag {}'.format(naam))\n",
    "\n",
    "begroet('Willy')"
   ]
  },
  {
   "cell_type": "markdown",
   "metadata": {},
   "source": [
    "#Python libraries (Bibliotheken)\n",
    "Natuurlijk zijn er al heel wat mensen die Python code geschreven hebben en veel van die code is beschikbaar in de vorm van libraries die je kant en klaar kan installeren.  \n",
    "Als zo'n library geïnstalleerd hebt, kan je ze importeren en de functies ervan beginnen gebruiken:"
   ]
  },
  {
   "cell_type": "code",
   "execution_count": null,
   "metadata": {
    "collapsed": false
   },
   "outputs": [],
   "source": [
    "import math\n",
    "print(\"PI: {}\".format(math.pi))\n",
    "print(\"sin(PI/2): {}\".format(math.cos(math.pi)))"
   ]
  },
  {
   "cell_type": "markdown",
   "metadata": {},
   "source": [
    "requests is een bibliotheek om webpagina's in te laden; hier bezoeken we een openweathermap en drukken een deel van de weersvoorspelling voor Mechelen af."
   ]
  },
  {
   "cell_type": "code",
   "execution_count": null,
   "metadata": {
    "collapsed": false
   },
   "outputs": [],
   "source": [
    "import requests\n",
    "r = requests.get('http://api.openweathermap.org/data/2.5/weather?q=Mechelen').json()\n",
    "print(r['weather'][0]['description'])"
   ]
  },
  {
   "cell_type": "markdown",
   "metadata": {},
   "source": [
    "Of een quote uit de online database van iheartquotes.com"
   ]
  },
  {
   "cell_type": "code",
   "execution_count": null,
   "metadata": {
    "collapsed": false
   },
   "outputs": [],
   "source": [
    "import requests\n",
    "r = requests.get('http://www.iheartquotes.com/api/v1/random')\n",
    "print(r.text)"
   ]
  },
  {
   "cell_type": "markdown",
   "metadata": {},
   "source": [
    "Er is natuurlijk nog veel meer te leren, maar dit geeft je al een goede basis om Python code te begrijpen en zelf één en ander in mekaar te knutselen. Laat het weten als je suggesties of opmerkingen hebt!\n",
    "\n",
    "veel plezier met Python!"
   ]
  }
 ],
 "metadata": {
  "kernelspec": {
   "display_name": "Python 2",
   "language": "python",
   "name": "python2"
  },
  "language_info": {
   "codemirror_mode": {
    "name": "ipython",
    "version": 2
   },
   "file_extension": ".py",
   "mimetype": "text/x-python",
   "name": "python",
   "nbconvert_exporter": "python",
   "pygments_lexer": "ipython2",
   "version": "2.7.8"
  }
 },
 "nbformat": 4,
 "nbformat_minor": 0
}
