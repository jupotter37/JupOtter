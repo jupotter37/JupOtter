{
 "cells": [
  {
   "cell_type": "markdown",
   "metadata": {
    "nbgrader": {}
   },
   "source": [
    "# Optimization Exercise 1"
   ]
  },
  {
   "cell_type": "markdown",
   "metadata": {
    "nbgrader": {}
   },
   "source": [
    "## Imports"
   ]
  },
  {
   "cell_type": "code",
   "execution_count": 1,
   "metadata": {
    "collapsed": true,
    "nbgrader": {}
   },
   "outputs": [],
   "source": [
    "%matplotlib inline\n",
    "import matplotlib.pyplot as plt\n",
    "import numpy as np\n",
    "import scipy.optimize as opt"
   ]
  },
  {
   "cell_type": "markdown",
   "metadata": {
    "nbgrader": {}
   },
   "source": [
    "## Hat potential"
   ]
  },
  {
   "cell_type": "markdown",
   "metadata": {
    "nbgrader": {}
   },
   "source": [
    "The following potential is often used in Physics and other fields to describe symmetry breaking and is often known as the \"hat potential\":\n",
    "\n",
    "$$ V(x) = -a x^2 + b x^4 $$\n",
    "\n",
    "Write a function `hat(x,a,b)` that returns the value of this function:"
   ]
  },
  {
   "cell_type": "code",
   "execution_count": 2,
   "metadata": {
    "collapsed": true,
    "deletable": false,
    "nbgrader": {
     "checksum": "6cff4e8e53b15273846c3aecaea84a3d",
     "solution": true
    }
   },
   "outputs": [],
   "source": [
    "def hat(x,a,b):\n",
    "    v = -a*x**2 + b*x**4\n",
    "    return v\n",
    "    "
   ]
  },
  {
   "cell_type": "code",
   "execution_count": 3,
   "metadata": {
    "collapsed": true,
    "deletable": false,
    "nbgrader": {
     "checksum": "7204bd97cd003430289f171b6ba70d63",
     "grade": true,
     "grade_id": "optimizationex01a",
     "points": 2
    }
   },
   "outputs": [],
   "source": [
    "assert hat(0.0, 1.0, 1.0)==0.0\n",
    "assert hat(0.0, 1.0, 1.0)==0.0\n",
    "assert hat(1.0, 10.0, 1.0)==-9.0"
   ]
  },
  {
   "cell_type": "markdown",
   "metadata": {
    "nbgrader": {}
   },
   "source": [
    "Plot this function over the range $x\\in\\left[-3,3\\right]$ with $b=1.0$ and $a=5.0$:"
   ]
  },
  {
   "cell_type": "code",
   "execution_count": 4,
   "metadata": {
    "collapsed": true,
    "nbgrader": {}
   },
   "outputs": [],
   "source": [
    "a = 5.0\n",
    "b = 1.0"
   ]
  },
  {
   "cell_type": "code",
   "execution_count": 5,
   "metadata": {
    "collapsed": false,
    "deletable": false,
    "nbgrader": {
     "checksum": "6cff4e8e53b15273846c3aecaea84a3d",
     "solution": true
    }
   },
   "outputs": [
    {
     "data": {
      "text/plain": [
       "[<matplotlib.lines.Line2D at 0x7f20ec0a04e0>]"
      ]
     },
     "execution_count": 5,
     "metadata": {},
     "output_type": "execute_result"
    },
    {
     "data": {
      "image/png": "[encoded data removed]",
      "text/plain": [
       "<matplotlib.figure.Figure at 0x7f20ec13c240>"
      ]
     },
     "metadata": {},
     "output_type": "display_data"
    }
   ],
   "source": [
    "x1 = np.arange(-3,3,0.1)\n",
    "plt.plot(x1, hat(x1, 5,1))"
   ]
  },
  {
   "cell_type": "code",
   "execution_count": 6,
   "metadata": {
    "collapsed": true,
    "deletable": false,
    "nbgrader": {
     "checksum": "bd49ce2f030e3366ee640213f26fdaa6",
     "grade": true,
     "grade_id": "optimizationex01b",
     "points": 2
    }
   },
   "outputs": [],
   "source": [
    "assert True # leave this to grade the plot"
   ]
  },
  {
   "cell_type": "markdown",
   "metadata": {
    "nbgrader": {}
   },
   "source": [
    "Write code that finds the two local minima of this function for $b=1.0$ and $a=5.0$.\n",
    "\n",
    "* Use `scipy.optimize.minimize` to find the minima. You will have to think carefully about how to get this function to find both minima.\n",
    "* Print the x values of the minima.\n",
    "* Plot the function as a blue line.\n",
    "* On the same axes, show the minima as red circles.\n",
    "* Customize your visualization to make it beatiful and effective."
   ]
  },
  {
   "cell_type": "code",
   "execution_count": 10,
   "metadata": {
    "collapsed": false,
    "deletable": false,
    "nbgrader": {
     "checksum": "6cff4e8e53b15273846c3aecaea84a3d",
     "solution": true
    }
   },
   "outputs": [
    {
     "name": "stdout",
     "output_type": "stream",
     "text": [
      "-1.5811388245\n",
      "1.58113880951\n"
     ]
    },
    {
     "data": {
      "text/plain": [
       "<matplotlib.text.Text at 0x7f20e58c3ef0>"
      ]
     },
     "execution_count": 10,
     "metadata": {},
     "output_type": "execute_result"
    },
    {
     "data": {
      "image/png": "[encoded data removed]",
      "text/plain": [
       "<matplotlib.figure.Figure at 0x7f20e5871438>"
      ]
     },
     "metadata": {},
     "output_type": "display_data"
    }
   ],
   "source": [
    "def hat(x):\n",
    "    b = 1\n",
    "    a = 5\n",
    "    v = -a*x**2 + b*x**4\n",
    "    return v\n",
    "\n",
    "xmin1 = opt.minimize(hat,-1.5)['x'][0]\n",
    "xmin2 = opt.minimize(hat,1.5)['x'][0]\n",
    "xmins = np.array([xmin1,xmin2])\n",
    "\n",
    "print(xmin1)\n",
    "print(xmin2)\n",
    "\n",
    "x1 = np.arange(-3,3,0.1)\n",
    "plt.plot(x1, hat(x1))\n",
    "plt.scatter(xmins,hat(xmins), c = 'r',marker = 'o')\n",
    "plt.grid(True)\n",
    "plt.title('Hat Potential')\n",
    "plt.xlabel('Range')\n",
    "plt.ylabel('Potential')"
   ]
  },
  {
   "cell_type": "code",
   "execution_count": null,
   "metadata": {
    "collapsed": true,
    "deletable": false,
    "nbgrader": {
     "checksum": "235361d4c954cf9fd6a8ecef309b3a44",
     "grade": true,
     "grade_id": "optimizationex01c",
     "points": 4
    }
   },
   "outputs": [],
   "source": [
    "assert True # leave this for grading the plot"
   ]
  },
  {
   "cell_type": "markdown",
   "metadata": {
    "nbgrader": {}
   },
   "source": [
    "To check your numerical results, find the locations of the minima analytically. Show and describe the steps in your derivation using LaTeX equations. Evaluate the location of the minima using the above parameters."
   ]
  },
  {
   "cell_type": "markdown",
   "metadata": {
    "deletable": false,
    "nbgrader": {
     "checksum": "d7d37614ffa0d469a42ff3fd121335f2",
     "grade": true,
     "grade_id": "optimizationex01d",
     "points": 2,
     "solution": true
    }
   },
   "source": [
    "$$\n",
    "V(x) = -a x^2 + b x^4 \\\\\n",
    "V'(x) = -2ax + 4bx^3 \\\\\n",
    "V'(x) = x (-2a + 4bx^2)\\\\\n",
    "4x^2 - 10 = 2(2x^2 - 5) \\\\ \n",
    "2(2x^2 - 5) = - \\sqrt{10}-2x , \\sqrt{10}+2 x \\\\\n",
    "$$\n",
    "The minimums or maximums are at $$ x = \\frac{\\sqrt{10}}{2}, x = \\frac{-\\sqrt{10}}{2}, x = 0\\\\$$\n",
    "Checking to see if they are a minimum or a maximum:\\\\\n",
    "$$\n",
    "V''(x) = -10 + 12x^2\\\\\n",
    "V''(0) = -10 + 12(0)^2 = -10\\\\\n",
    "$$\n",
    "x = 0 is a maxima.\n",
    "$$\n",
    "V''(\\frac{\\sqrt{10}}{2}) = -10 + 12(\\frac{\\sqrt{10}}{2})^2 = 350 \\\\\n",
    "$$\n",
    "The x above is a minima.\n",
    "$$\n",
    "V''(\\frac{-\\sqrt{10}}{2}) = -10 + 12(\\frac{-\\sqrt{10}}{2})^2 = 350\\\\\n",
    "$$\n",
    "The x above is a minima."
   ]
  },
  {
   "cell_type": "code",
   "execution_count": null,
   "metadata": {
    "collapsed": true
   },
   "outputs": [],
   "source": []
  }
 ],
 "metadata": {
  "kernelspec": {
   "display_name": "Python 3",
   "language": "python",
   "name": "python3"
  },
  "language_info": {
   "codemirror_mode": {
    "name": "ipython",
    "version": 3
   },
   "file_extension": ".py",
   "mimetype": "text/x-python",
   "name": "python",
   "nbconvert_exporter": "python",
   "pygments_lexer": "ipython3",
   "version": "3.4.0"
  }
 },
 "nbformat": 4,
 "nbformat_minor": 0
}
