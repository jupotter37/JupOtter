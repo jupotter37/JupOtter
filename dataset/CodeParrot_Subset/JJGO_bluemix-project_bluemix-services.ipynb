{
 "cells": [
  {
   "cell_type": "code",
   "execution_count": 1,
   "metadata": {
    "collapsed": true
   },
   "outputs": [],
   "source": [
    "%load_ext autoreload\n",
    "\n",
    "%autoreload 2"
   ]
  },
  {
   "cell_type": "code",
   "execution_count": 2,
   "metadata": {
    "collapsed": true
   },
   "outputs": [],
   "source": [
    "from IPython.display import Audio\n"
   ]
  },
  {
   "cell_type": "markdown",
   "metadata": {},
   "source": [
    "# Import Modules"
   ]
  },
  {
   "cell_type": "code",
   "execution_count": 96,
   "metadata": {
    "collapsed": true
   },
   "outputs": [],
   "source": [
    "from services import load_credentials, get_database, get_watson_service, reset_services"
   ]
  },
  {
   "cell_type": "code",
   "execution_count": 97,
   "metadata": {
    "collapsed": true
   },
   "outputs": [],
   "source": [
    "vcap = load_credentials()"
   ]
  },
  {
   "cell_type": "code",
   "execution_count": 98,
   "metadata": {
    "collapsed": true
   },
   "outputs": [],
   "source": [
    "reset_services()"
   ]
  },
  {
   "cell_type": "code",
   "execution_count": 99,
   "metadata": {
    "collapsed": true
   },
   "outputs": [],
   "source": [
    "from watson_developer_cloud import LanguageTranslationV2, TextToSpeechV1, NaturalLanguageUnderstandingV1"
   ]
  },
  {
   "cell_type": "markdown",
   "metadata": {},
   "source": [
    "# Database"
   ]
  },
  {
   "cell_type": "code",
   "execution_count": 104,
   "metadata": {},
   "outputs": [],
   "source": [
    "db, client = get_database('test')\n"
   ]
  },
  {
   "cell_type": "code",
   "execution_count": 106,
   "metadata": {},
   "outputs": [
    {
     "data": {
      "text/plain": [
       "['mydb', 'test']"
      ]
     },
     "execution_count": 106,
     "metadata": {},
     "output_type": "execute_result"
    }
   ],
   "source": [
    "client.all_dbs()"
   ]
  },
  {
   "cell_type": "code",
   "execution_count": 107,
   "metadata": {},
   "outputs": [
    {
     "data": {
      "text/plain": [
       "[]"
      ]
     },
     "execution_count": 107,
     "metadata": {},
     "output_type": "execute_result"
    }
   ],
   "source": [
    "[doc for doc in db]"
   ]
  },
  {
   "cell_type": "code",
   "execution_count": 108,
   "metadata": {},
   "outputs": [
    {
     "data": {
      "text/plain": [
       "{'offset': 0, 'rows': [], 'total_rows': 0}"
      ]
     },
     "execution_count": 108,
     "metadata": {},
     "output_type": "execute_result"
    }
   ],
   "source": [
    "db.all_docs(include_docs=True)"
   ]
  },
  {
   "cell_type": "code",
   "execution_count": 7,
   "metadata": {},
   "outputs": [
    {
     "data": {
      "text/plain": [
       "{'_id': 'c0cdf6be7e6aa5c805dc86c7f33ff736',\n",
       " '_rev': '1-3ff6cb90ca13159d9caa69e42917573c',\n",
       " 'name': 'Pedro'}"
      ]
     },
     "execution_count": 7,
     "metadata": {},
     "output_type": "execute_result"
    }
   ],
   "source": [
    "db.create_document({'name' : 'Manolo'})\n",
    "db.create_document({'name' : 'Pedro'})"
   ]
  },
  {
   "cell_type": "code",
   "execution_count": 8,
   "metadata": {},
   "outputs": [
    {
     "data": {
      "text/plain": [
       "['Manolo', 'Pedro']"
      ]
     },
     "execution_count": 8,
     "metadata": {},
     "output_type": "execute_result"
    }
   ],
   "source": [
    "list(map(lambda doc: doc['name'], db))"
   ]
  },
  {
   "cell_type": "code",
   "execution_count": 83,
   "metadata": {},
   "outputs": [],
   "source": [
    "db.delete()"
   ]
  },
  {
   "cell_type": "markdown",
   "metadata": {},
   "source": [
    "# Translator"
   ]
  },
  {
   "cell_type": "code",
   "execution_count": 10,
   "metadata": {
    "collapsed": true
   },
   "outputs": [],
   "source": [
    "translator = get_watson_service('language_translator')"
   ]
  },
  {
   "cell_type": "code",
   "execution_count": 11,
   "metadata": {},
   "outputs": [
    {
     "data": {
      "text/plain": [
       "{'languages': [{'language': 'af', 'name': 'Afrikaans'},\n",
       "  {'language': 'ar', 'name': 'Arabic'},\n",
       "  {'language': 'az', 'name': 'Azerbaijani'},\n",
       "  {'language': 'ba', 'name': 'Bashkir'},\n",
       "  {'language': 'be', 'name': 'Belarusian'},\n",
       "  {'language': 'bg', 'name': 'Bulgarian'},\n",
       "  {'language': 'bn', 'name': 'Bengali'},\n",
       "  {'language': 'bs', 'name': 'Bosnian'},\n",
       "  {'language': 'cs', 'name': 'Czech'},\n",
       "  {'language': 'cv', 'name': 'Chuvash'},\n",
       "  {'language': 'da', 'name': 'Danish'},\n",
       "  {'language': 'de', 'name': 'German'},\n",
       "  {'language': 'el', 'name': 'Greek'},\n",
       "  {'language': 'en', 'name': 'English'},\n",
       "  {'language': 'eo', 'name': 'Esperanto'},\n",
       "  {'language': 'es', 'name': 'Spanish'},\n",
       "  {'language': 'et', 'name': 'Estonian'},\n",
       "  {'language': 'eu', 'name': 'Basque'},\n",
       "  {'language': 'fa', 'name': 'Persian'},\n",
       "  {'language': 'fi', 'name': 'Finnish'},\n",
       "  {'language': 'fr', 'name': 'French'},\n",
       "  {'language': 'gu', 'name': 'Gujarati'},\n",
       "  {'language': 'he', 'name': 'Hebrew'},\n",
       "  {'language': 'hi', 'name': 'Hindi'},\n",
       "  {'language': 'ht', 'name': 'Haitian'},\n",
       "  {'language': 'hu', 'name': 'Hungarian'},\n",
       "  {'language': 'hy', 'name': 'Armenian'},\n",
       "  {'language': 'id', 'name': 'Indonesian'},\n",
       "  {'language': 'is', 'name': 'Icelandic'},\n",
       "  {'language': 'it', 'name': 'Italian'},\n",
       "  {'language': 'ja', 'name': 'Japanese'},\n",
       "  {'language': 'ka', 'name': 'Georgian'},\n",
       "  {'language': 'kk', 'name': 'Kazakh'},\n",
       "  {'language': 'km', 'name': 'Central Khmer'},\n",
       "  {'language': 'ko', 'name': 'Korean'},\n",
       "  {'language': 'ku', 'name': 'Kurdish'},\n",
       "  {'language': 'ky', 'name': 'Kirghiz'},\n",
       "  {'language': 'lt', 'name': 'Lithuanian'},\n",
       "  {'language': 'lv', 'name': 'Latvian'},\n",
       "  {'language': 'ml', 'name': 'Malayalam'},\n",
       "  {'language': 'mn', 'name': 'Mongolian'},\n",
       "  {'language': 'nb', 'name': 'Norwegian Bokmal'},\n",
       "  {'language': 'nl', 'name': 'Dutch'},\n",
       "  {'language': 'nn', 'name': 'Norwegian Nynorsk'},\n",
       "  {'language': 'pa', 'name': 'Panjabi'},\n",
       "  {'language': 'pl', 'name': 'Polish'},\n",
       "  {'language': 'ps', 'name': 'Pushto'},\n",
       "  {'language': 'pt', 'name': 'Portuguese'},\n",
       "  {'language': 'ro', 'name': 'Romanian'},\n",
       "  {'language': 'ru', 'name': 'Russian'},\n",
       "  {'language': 'sk', 'name': 'Slovakian'},\n",
       "  {'language': 'so', 'name': 'Somali'},\n",
       "  {'language': 'sq', 'name': 'Albanian'},\n",
       "  {'language': 'sv', 'name': 'Swedish'},\n",
       "  {'language': 'ta', 'name': 'Tamil'},\n",
       "  {'language': 'te', 'name': 'Telugu'},\n",
       "  {'language': 'tr', 'name': 'Turkish'},\n",
       "  {'language': 'uk', 'name': 'Ukrainian'},\n",
       "  {'language': 'ur', 'name': 'Urdu'},\n",
       "  {'language': 'vi', 'name': 'Vietnamese'},\n",
       "  {'language': 'zh', 'name': 'Chinese'},\n",
       "  {'language': 'zh-TW', 'name': 'Traditional Chinese'}]}"
      ]
     },
     "execution_count": 11,
     "metadata": {},
     "output_type": "execute_result"
    }
   ],
   "source": [
    "translator.get_identifiable_languages()"
   ]
  },
  {
   "cell_type": "code",
   "execution_count": 12,
   "metadata": {},
   "outputs": [
    {
     "data": {
      "text/plain": [
       "{'confidence': 0.997267, 'language': 'fr'}"
      ]
     },
     "execution_count": 12,
     "metadata": {},
     "output_type": "execute_result"
    }
   ],
   "source": [
    "translator.identify('Je ne sais pas francais')['languages'][0]"
   ]
  },
  {
   "cell_type": "code",
   "execution_count": 13,
   "metadata": {},
   "outputs": [
    {
     "data": {
      "text/plain": [
       "'とても幸せ '"
      ]
     },
     "execution_count": 13,
     "metadata": {},
     "output_type": "execute_result"
    }
   ],
   "source": [
    "s = translator.translate('I am very happy', source='en', target='ja')\n",
    "s"
   ]
  },
  {
   "cell_type": "code",
   "execution_count": 14,
   "metadata": {},
   "outputs": [
    {
     "data": {
      "text/plain": [
       "'I am very happy '"
      ]
     },
     "execution_count": 14,
     "metadata": {},
     "output_type": "execute_result"
    }
   ],
   "source": [
    "translator.translate(s, source='ja', target='en')"
   ]
  },
  {
   "cell_type": "code",
   "execution_count": 15,
   "metadata": {},
   "outputs": [
    {
     "data": {
      "text/plain": [
       "'Estoy en la cima del mundo '"
      ]
     },
     "execution_count": 15,
     "metadata": {},
     "output_type": "execute_result"
    }
   ],
   "source": [
    "s = translator.translate('I am on top of the world', model_id='en-es-conversational')\n",
    "s"
   ]
  },
  {
   "cell_type": "code",
   "execution_count": 16,
   "metadata": {},
   "outputs": [
    {
     "data": {
      "text/plain": [
       "\"I'm on top of the world \""
      ]
     },
     "execution_count": 16,
     "metadata": {},
     "output_type": "execute_result"
    }
   ],
   "source": [
    "translator.translate(s, model_id='es-en-conversational')"
   ]
  },
  {
   "cell_type": "markdown",
   "metadata": {},
   "source": [
    "# Text to Speech"
   ]
  },
  {
   "cell_type": "code",
   "execution_count": 17,
   "metadata": {
    "collapsed": true
   },
   "outputs": [],
   "source": [
    "text_to_speech = get_watson_service('text_to_speech')"
   ]
  },
  {
   "cell_type": "code",
   "execution_count": 18,
   "metadata": {
    "collapsed": true
   },
   "outputs": [],
   "source": [
    "audioEN = text_to_speech.synthesize('Hello world!', accept='audio/ogg',\n",
    "voice=\"en-GB_KateVoice\")"
   ]
  },
  {
   "cell_type": "code",
   "execution_count": 19,
   "metadata": {},
   "outputs": [
    {
     "data": {
      "text/html": [
       "\n",
       "                <audio controls=\"controls\" >\n",
       "                    <source src=\"data:audio/wav;base64,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\" type=\"audio/wav\" />\n",
       "                    Your browser does not support the audio element.\n",
       "                </audio>\n",
       "              "
      ],
      "text/plain": [
       "<IPython.lib.display.Audio object>"
      ]
     },
     "execution_count": 19,
     "metadata": {},
     "output_type": "execute_result"
    }
   ],
   "source": [
    "Audio(audioEN)"
   ]
  },
  {
   "cell_type": "code",
   "execution_count": 20,
   "metadata": {},
   "outputs": [
    {
     "data": {
      "text/plain": [
       "['es-LA_SofiaVoice',\n",
       " 'pt-BR_IsabelaVoice',\n",
       " 'ja-JP_EmiVoice',\n",
       " 'en-US_AllisonVoice',\n",
       " 'fr-FR_ReneeVoice',\n",
       " 'it-IT_FrancescaVoice',\n",
       " 'es-ES_LauraVoice',\n",
       " 'de-DE_BirgitVoice',\n",
       " 'es-ES_EnriqueVoice',\n",
       " 'de-DE_DieterVoice',\n",
       " 'en-US_LisaVoice',\n",
       " 'en-GB_KateVoice',\n",
       " 'en-US_MichaelVoice',\n",
       " 'es-US_SofiaVoice']"
      ]
     },
     "execution_count": 20,
     "metadata": {},
     "output_type": "execute_result"
    }
   ],
   "source": [
    "[x['name'] for x in text_to_speech.voices()['voices']]"
   ]
  },
  {
   "cell_type": "code",
   "execution_count": 21,
   "metadata": {
    "collapsed": true
   },
   "outputs": [],
   "source": [
    "audioES = text_to_speech.synthesize('Hola Mundo', accept='audio/ogg',\n",
    "voice=\"es-ES_LauraVoice\")"
   ]
  },
  {
   "cell_type": "code",
   "execution_count": 22,
   "metadata": {},
   "outputs": [
    {
     "data": {
      "text/html": [
       "\n",
       "                <audio controls=\"controls\" >\n",
       "                    <source src=\"data:audio/wav;base64,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\" type=\"audio/wav\" />\n",
       "                    Your browser does not support the audio element.\n",
       "                </audio>\n",
       "              "
      ],
      "text/plain": [
       "<IPython.lib.display.Audio object>"
      ]
     },
     "execution_count": 22,
     "metadata": {},
     "output_type": "execute_result"
    }
   ],
   "source": [
    "Audio(audioES)"
   ]
  },
  {
   "cell_type": "markdown",
   "metadata": {},
   "source": [
    "# Speech to Text"
   ]
  },
  {
   "cell_type": "code",
   "execution_count": 23,
   "metadata": {
    "collapsed": true
   },
   "outputs": [],
   "source": [
    "speech_to_text = get_watson_service('speech_to_text')"
   ]
  },
  {
   "cell_type": "code",
   "execution_count": 24,
   "metadata": {},
   "outputs": [
    {
     "data": {
      "text/plain": [
       "{'result_index': 0,\n",
       " 'results': [{'alternatives': [{'confidence': 0.996,\n",
       "     'transcript': 'hello world '}],\n",
       "   'final': True}]}"
      ]
     },
     "execution_count": 24,
     "metadata": {},
     "output_type": "execute_result"
    }
   ],
   "source": [
    "speech_to_text.recognize(\n",
    "        audioEN, content_type='audio/ogg')"
   ]
  },
  {
   "cell_type": "code",
   "execution_count": 25,
   "metadata": {},
   "outputs": [
    {
     "data": {
      "text/plain": [
       "{'result_index': 0,\n",
       " 'results': [{'alternatives': [{'confidence': 0.996,\n",
       "     'timestamps': [['hello', 0.04, 0.31], ['world', 0.31, 0.85]],\n",
       "     'transcript': 'hello world ',\n",
       "     'word_confidence': [['hello', 1.0], ['world', 0.994]]}],\n",
       "   'final': True}]}"
      ]
     },
     "execution_count": 25,
     "metadata": {},
     "output_type": "execute_result"
    }
   ],
   "source": [
    "speech_to_text.recognize(\n",
    "        audioEN, content_type='audio/ogg', timestamps=True,\n",
    "        word_confidence=True)"
   ]
  },
  {
   "cell_type": "code",
   "execution_count": 26,
   "metadata": {},
   "outputs": [
    {
     "data": {
      "text/plain": [
       "[('fr-FR', 'fr-FR_BroadbandModel'),\n",
       " ('en-US', 'en-US_NarrowbandModel'),\n",
       " ('pt-BR', 'pt-BR_BroadbandModel'),\n",
       " ('en-UK', 'en-UK_BroadbandModel'),\n",
       " ('zh-CN', 'zh-CN_BroadbandModel'),\n",
       " ('ja-JP', 'ja-JP_BroadbandModel'),\n",
       " ('pt-BR', 'pt-BR_NarrowbandModel'),\n",
       " ('es-ES', 'es-ES_BroadbandModel'),\n",
       " ('ar-AR', 'ar-AR_BroadbandModel'),\n",
       " ('zh-CN', 'zh-CN_NarrowbandModel'),\n",
       " ('ja-JP', 'ja-JP_NarrowbandModel'),\n",
       " ('es-ES', 'es-ES_NarrowbandModel'),\n",
       " ('en-UK', 'en-UK_NarrowbandModel'),\n",
       " ('en-US', 'en-US_BroadbandModel')]"
      ]
     },
     "execution_count": 26,
     "metadata": {},
     "output_type": "execute_result"
    }
   ],
   "source": [
    "[(x['language'], x['name']) for x in speech_to_text.models()['models'] ]"
   ]
  },
  {
   "cell_type": "code",
   "execution_count": 27,
   "metadata": {},
   "outputs": [
    {
     "data": {
      "text/plain": [
       "{'result_index': 0,\n",
       " 'results': [{'alternatives': [{'confidence': 0.998,\n",
       "     'timestamps': [['hola', 0.03, 0.33], ['mundo', 0.33, 0.8]],\n",
       "     'transcript': 'hola mundo ',\n",
       "     'word_confidence': [['hola', 1.0], ['mundo', 0.996]]}],\n",
       "   'final': True}]}"
      ]
     },
     "execution_count": 27,
     "metadata": {},
     "output_type": "execute_result"
    }
   ],
   "source": [
    "speech_to_text.recognize(\n",
    "        audioES, content_type='audio/ogg', model='es-ES_BroadbandModel', timestamps=True,\n",
    "        word_confidence=True, )"
   ]
  },
  {
   "cell_type": "markdown",
   "metadata": {},
   "source": [
    "# Natural Language Understanding"
   ]
  },
  {
   "cell_type": "code",
   "execution_count": 28,
   "metadata": {
    "collapsed": true
   },
   "outputs": [],
   "source": [
    "import watson_developer_cloud.natural_language_understanding.features.v1 as features\n"
   ]
  },
  {
   "cell_type": "code",
   "execution_count": 29,
   "metadata": {
    "collapsed": true
   },
   "outputs": [],
   "source": [
    "nlu = get_watson_service('natural-language-understanding')"
   ]
  },
  {
   "cell_type": "code",
   "execution_count": 30,
   "metadata": {},
   "outputs": [
    {
     "data": {
      "text/plain": [
       "{'entities': [{'count': 3,\n",
       "   'relevance': 0.915411,\n",
       "   'text': 'Bruce Banner',\n",
       "   'type': 'Person'},\n",
       "  {'count': 1, 'relevance': 0.296395, 'text': 'Wayne', 'type': 'Person'}],\n",
       " 'keywords': [{'relevance': 0.984789, 'text': 'Bruce Banner'},\n",
       "  {'relevance': 0.958833, 'text': 'Bruce Wayne'},\n",
       "  {'relevance': 0.853322, 'text': 'experimental text'},\n",
       "  {'relevance': 0.627454, 'text': 'Hulk'},\n",
       "  {'relevance': 0.619956, 'text': 'Superman'},\n",
       "  {'relevance': 0.583188, 'text': 'BATMAN'}],\n",
       " 'language': 'en'}"
      ]
     },
     "execution_count": 30,
     "metadata": {},
     "output_type": "execute_result"
    }
   ],
   "source": [
    "nlu.analyze(text='this is my experimental text.  Bruce Banner is the Hulk and Bruce Wayne is BATMAN! Superman fears not Banner, but Wayne.',\n",
    "            features=[features.Entities(), features.Keywords()])"
   ]
  },
  {
   "cell_type": "code",
   "execution_count": 31,
   "metadata": {},
   "outputs": [
    {
     "data": {
      "text/plain": [
       "{'emotion': {'document': {'emotion': {'anger': 0.0,\n",
       "    'disgust': 0.0,\n",
       "    'fear': 0.0,\n",
       "    'joy': 0.9,\n",
       "    'sadness': 0.0}}},\n",
       " 'language': 'en',\n",
       " 'sentiment': {'document': {'label': 'positive', 'score': 0.839255}}}"
      ]
     },
     "execution_count": 31,
     "metadata": {},
     "output_type": "execute_result"
    }
   ],
   "source": [
    "nlu.analyze(text='I love you', features=[features.Emotion(), features.Sentiment()], language='en')"
   ]
  },
  {
   "cell_type": "code",
   "execution_count": 32,
   "metadata": {},
   "outputs": [
    {
     "data": {
      "text/plain": [
       "{'entities': [{'count': 1,\n",
       "   'relevance': 0.963296,\n",
       "   'text': 'Lucia',\n",
       "   'type': 'Person'},\n",
       "  {'count': 1, 'relevance': 0.247607, 'text': 'Margarita', 'type': 'Person'}],\n",
       " 'language': 'es',\n",
       " 'sentiment': {'document': {'label': 'negative', 'score': -0.924307}}}"
      ]
     },
     "execution_count": 32,
     "metadata": {},
     "output_type": "execute_result"
    }
   ],
   "source": [
    "nlu.analyze(text='Lucia odia a Margarita', features=[features.Entities(), features.Sentiment()], language='es')"
   ]
  },
  {
   "cell_type": "code",
   "execution_count": 33,
   "metadata": {},
   "outputs": [
    {
     "data": {
      "text/plain": [
       "{'concepts': [{'dbpedia_resource': 'http://dbpedia.org/resource/Medicine',\n",
       "   'relevance': 0.943962,\n",
       "   'text': 'Medicine'},\n",
       "  {'dbpedia_resource': 'http://dbpedia.org/resource/Ferret',\n",
       "   'relevance': 0.90459,\n",
       "   'text': 'Ferret'},\n",
       "  {'dbpedia_resource': 'http://dbpedia.org/resource/Mustelidae',\n",
       "   'relevance': 0.833048,\n",
       "   'text': 'Mustelidae'},\n",
       "  {'dbpedia_resource': 'http://dbpedia.org/resource/Health_care',\n",
       "   'relevance': 0.750068,\n",
       "   'text': 'Health care'},\n",
       "  {'dbpedia_resource': 'http://dbpedia.org/resource/Illness',\n",
       "   'relevance': 0.678776,\n",
       "   'text': 'Illness'},\n",
       "  {'dbpedia_resource': 'http://dbpedia.org/resource/Carnivora',\n",
       "   'relevance': 0.669715,\n",
       "   'text': 'Carnivora'},\n",
       "  {'dbpedia_resource': 'http://dbpedia.org/resource/Bird',\n",
       "   'relevance': 0.611337,\n",
       "   'text': 'Bird'},\n",
       "  {'dbpedia_resource': 'http://dbpedia.org/resource/Pharmaceutical_drug',\n",
       "   'relevance': 0.610033,\n",
       "   'text': 'Pharmaceutical drug'}],\n",
       " 'emotion': {'document': {'emotion': {'anger': 0.12589,\n",
       "    'disgust': 0.120863,\n",
       "    'fear': 0.136424,\n",
       "    'joy': 0.613796,\n",
       "    'sadness': 0.589325}}},\n",
       " 'entities': [{'count': 2,\n",
       "   'disambiguation': {'dbpedia_resource': 'http://dbpedia.org/resource/Skin_infection',\n",
       "    'name': 'Skin infection',\n",
       "    'subtype': []},\n",
       "   'relevance': 0.912955,\n",
       "   'text': 'skin infection',\n",
       "   'type': 'HealthCondition'},\n",
       "  {'count': 1, 'relevance': 0.583707, 'text': 'Mink', 'type': 'Person'},\n",
       "  {'count': 1,\n",
       "   'relevance': 0.576345,\n",
       "   'text': 'General Manager',\n",
       "   'type': 'JobTitle'},\n",
       "  {'count': 1, 'relevance': 0.576345, 'text': 'One day', 'type': 'Quantity'}],\n",
       " 'keywords': [{'relevance': 0.938985, 'text': 'Wellness Room'},\n",
       "  {'relevance': 0.785899, 'text': 'little female ferret'},\n",
       "  {'relevance': 0.759898, 'text': 'sales floor'},\n",
       "  {'relevance': 0.665783, 'text': 'Gizmo home'},\n",
       "  {'relevance': 0.644266, 'text': 'special attention'},\n",
       "  {'relevance': 0.643426, 'text': 'medical care'},\n",
       "  {'relevance': 0.636675, 'text': 'Cats meow'},\n",
       "  {'relevance': 0.629607, 'text': 'chicken clucking'},\n",
       "  {'relevance': 0.621038, 'text': 'daily visits'},\n",
       "  {'relevance': 0.618607, 'text': 'General Manager'},\n",
       "  {'relevance': 0.616606, 'text': 'oral medications'},\n",
       "  {'relevance': 0.616594, 'text': 'skin infection'},\n",
       "  {'relevance': 0.589167, 'text': 'ferrets'},\n",
       "  {'relevance': 0.580846, 'text': 'ladies room'},\n",
       "  {'relevance': 0.467606, 'text': 'Petco'},\n",
       "  {'relevance': 0.45231, 'text': 'multiples'},\n",
       "  {'relevance': 0.452062, 'text': 'Gremlin'},\n",
       "  {'relevance': 0.451798, 'text': 'behold'},\n",
       "  {'relevance': 0.449356, 'text': 'Mink'},\n",
       "  {'relevance': 0.447822, 'text': 'animals'},\n",
       "  {'relevance': 0.447711, 'text': 'type'},\n",
       "  {'relevance': 0.447679, 'text': 'issue'},\n",
       "  {'relevance': 0.447345, 'text': 'enthusiasm'},\n",
       "  {'relevance': 0.447268, 'text': 'Dogs'},\n",
       "  {'relevance': 0.446953, 'text': 'Birds'},\n",
       "  {'relevance': 0.446447, 'text': 'pairs'},\n",
       "  {'relevance': 0.444282, 'text': 'talk.'},\n",
       "  {'relevance': 0.442427, 'text': 'point'},\n",
       "  {'relevance': 0.440964, 'text': 'family'}],\n",
       " 'language': 'en',\n",
       " 'relations': [{'arguments': [{'entities': [{'text': 'General Manager',\n",
       "       'type': 'Person'}],\n",
       "     'text': 'General Manager'},\n",
       "    {'entities': [{'text': 'talking', 'type': 'EventMeeting'}],\n",
       "     'text': 'talking'}],\n",
       "   'score': 0.735591,\n",
       "   'sentence': 'In talking with the General Manager, we decided that the ferret was lonely, so I made it a point to go visit him in the Wellness Room whenever possible.',\n",
       "   'type': 'participantIn'},\n",
       "  {'arguments': [{'entities': [{'text': 'herself', 'type': 'Person'}],\n",
       "     'text': 'me'},\n",
       "    {'entities': [{'text': 'Gizmo', 'type': 'GeopoliticalEntity'}],\n",
       "     'text': 'Gizmo'}],\n",
       "   'score': 0.802773,\n",
       "   'sentence': 'So, I bought him and named him Gizmo since his dooking reminded me of Gizmo the Gremlin.',\n",
       "   'type': 'residesIn'},\n",
       "  {'arguments': [{'entities': [{'text': 'Gizmo',\n",
       "       'type': 'GeopoliticalEntity'}],\n",
       "     'text': 'Gizmo'},\n",
       "    {'entities': [{'text': 'Gremlin', 'type': 'GeopoliticalEntity'}],\n",
       "     'text': 'Gremlin'}],\n",
       "   'score': 0.79441,\n",
       "   'sentence': 'So, I bought him and named him Gizmo since his dooking reminded me of Gizmo the Gremlin.',\n",
       "   'type': 'locatedAt'},\n",
       "  {'arguments': [{'entities': [{'text': 'herself', 'type': 'Person'}],\n",
       "     'text': 'I'},\n",
       "    {'entities': [{'text': 'home', 'type': 'Facility'}], 'text': 'home'}],\n",
       "   'score': 0.362787,\n",
       "   'sentence': \"As I was getting ready to take Gizmo home, I happened to walk past the habitat on the sales floor (I'm sure I was just heading to the ladies room, yeah, that's it).\",\n",
       "   'type': 'locatedAt'},\n",
       "  {'arguments': [{'entities': [{'text': 'home', 'type': 'Facility'}],\n",
       "     'text': 'home'},\n",
       "    {'entities': [{'text': 'Gizmo', 'type': 'GeopoliticalEntity'}],\n",
       "     'text': 'Gizmo'}],\n",
       "   'score': 0.951987,\n",
       "   'sentence': \"As I was getting ready to take Gizmo home, I happened to walk past the habitat on the sales floor (I'm sure I was just heading to the ladies room, yeah, that's it).\",\n",
       "   'type': 'locatedAt'}],\n",
       " 'sentiment': {'document': {'label': 'positive', 'score': 0.321502}}}"
      ]
     },
     "execution_count": 33,
     "metadata": {},
     "output_type": "execute_result"
    }
   ],
   "source": [
    "text='One day, there was a ferret in the Wellness Room (at Petco, the Wellness Room is where animals who are ill or having any type of issue are kept in order to receive special attention and any medical care needed.) He was by himself and he dooked, a lot. “Dooking” is how ferrets “talk.” Cats meow. Dogs bark. Birds chirp. Ferrets dook. It almost sounds like a chicken clucking. In talking with the General Manager, we decided that the ferret was lonely, so I made it a point to go visit him in the Wellness Room whenever possible. This ferret had a skin infection and was receiving oral medications to help clear up the infection. Well, the day finally came when he finished all of his medication and was ready to join the others on the sales floor. However, I couldn’t give him up; we had bonded during our daily visits. I’d grown accustomed to him being there in the Wellness Room, waiting for me each morning; greeting me with enthusiasm that grew each day he got better. So, I bought him and named him Gizmo since his dooking reminded me of Gizmo the Gremlin. As I was getting ready to take Gizmo home, I happened to walk past the habitat on the sales floor (I’m sure I was just heading to the ladies room, yeah, that’s it). Well, low and behold, there was a single, little female ferret all by her lonesome. How could I pack up Gizmo and just walk past her and leave her by herself? Especially knowing that ferrets do better in pairs or multiples, especially when raised together or introduced correctly. Welcome Mink to the family.'\n",
    "\n",
    "nlu.analyze(text=text, features=[features.Entities(), features.Keywords(), features.Sentiment(), \n",
    "                                 features.Emotion(), features.Relations(), features.Concepts()])"
   ]
  },
  {
   "cell_type": "markdown",
   "metadata": {},
   "source": [
    "# Visual Recognition"
   ]
  },
  {
   "cell_type": "code",
   "execution_count": 34,
   "metadata": {
    "collapsed": true
   },
   "outputs": [],
   "source": [
    "visual_recognition = get_watson_service('watson_vision_combined')"
   ]
  },
  {
   "cell_type": "code",
   "execution_count": 35,
   "metadata": {},
   "outputs": [
    {
     "data": {
      "text/plain": [
       "{'custom_classes': 0,\n",
       " 'images': [{'classifiers': [{'classes': [{'class': 'volcano',\n",
       "       'score': 1.0,\n",
       "       'type_hierarchy': '/nature/volcano'},\n",
       "      {'class': 'nature', 'score': 1.0},\n",
       "      {'class': 'reddish orange color', 'score': 0.893},\n",
       "      {'class': 'orange color', 'score': 0.711}],\n",
       "     'classifier_id': 'default',\n",
       "     'name': 'default'}],\n",
       "   'resolved_url': 'http://weknowyourdreams.com/images/volcano/volcano-05.jpg',\n",
       "   'source_url': 'http://weknowyourdreams.com/images/volcano/volcano-05.jpg'}],\n",
       " 'images_processed': 1}"
      ]
     },
     "execution_count": 35,
     "metadata": {},
     "output_type": "execute_result"
    }
   ],
   "source": [
    "url = \"http://weknowyourdreams.com/images/volcano/volcano-05.jpg\"\n",
    "visual_recognition.classify(images_url=url)"
   ]
  },
  {
   "cell_type": "code",
   "execution_count": 36,
   "metadata": {},
   "outputs": [
    {
     "data": {
      "text/plain": [
       "{'images': [{'resolved_url': 'http://creator.keepcalmandcarryon.com/kcp-preview/NQOxtJXW',\n",
       "   'source_url': 'http://creator.keepcalmandcarryon.com/kcp-preview/NQOxtJXW',\n",
       "   'text': 'keep\\ncalm\\nand\\ncarry\\non',\n",
       "   'words': [{'line_number': 0,\n",
       "     'location': {'height': 41, 'left': 69, 'top': 109, 'width': 132},\n",
       "     'score': 0.9887,\n",
       "     'word': 'keep'},\n",
       "    {'line_number': 1,\n",
       "     'location': {'height': 42, 'left': 54, 'top': 164, 'width': 160},\n",
       "     'score': 0.9679,\n",
       "     'word': 'calm'},\n",
       "    {'line_number': 2,\n",
       "     'location': {'height': 17, 'left': 110, 'top': 220, 'width': 50},\n",
       "     'score': 0.9712,\n",
       "     'word': 'and'},\n",
       "    {'line_number': 3,\n",
       "     'location': {'height': 82, 'left': 34, 'top': 231, 'width': 201},\n",
       "     'score': 0.5648,\n",
       "     'word': 'carry'},\n",
       "    {'line_number': 4,\n",
       "     'location': {'height': 49, 'left': 90, 'top': 305, 'width': 89},\n",
       "     'score': 0.6411,\n",
       "     'word': 'on'}]}],\n",
       " 'images_processed': 1}"
      ]
     },
     "execution_count": 36,
     "metadata": {},
     "output_type": "execute_result"
    }
   ],
   "source": [
    "url=\"http://creator.keepcalmandcarryon.com/kcp-preview/NQOxtJXW\"\n",
    "visual_recognition.recognize_text(images_url=url)"
   ]
  },
  {
   "cell_type": "code",
   "execution_count": 37,
   "metadata": {},
   "outputs": [
    {
     "data": {
      "text/plain": [
       "{'images': [{'faces': [{'age': {'max': 24, 'min': 18, 'score': 0.502411},\n",
       "     'face_location': {'height': 203, 'left': 130, 'top': 104, 'width': 165},\n",
       "     'gender': {'gender': 'FEMALE', 'score': 0.989013}}],\n",
       "   'resolved_url': 'https://fthmb.tqn.com/TbYcG1ZT3HMQNs2APucg94XyunE=/400x0/filters:no_upscale()/about/overlyattached-5900fa4a3df78c54563e3d8b.jpg',\n",
       "   'source_url': 'https://fthmb.tqn.com/TbYcG1ZT3HMQNs2APucg94XyunE=/400x0/filters:no_upscale()/about/overlyattached-5900fa4a3df78c54563e3d8b.jpg'}],\n",
       " 'images_processed': 1}"
      ]
     },
     "execution_count": 37,
     "metadata": {},
     "output_type": "execute_result"
    }
   ],
   "source": [
    "url = \"https://fthmb.tqn.com/TbYcG1ZT3HMQNs2APucg94XyunE=/400x0/filters:no_upscale()/about/overlyattached-5900fa4a3df78c54563e3d8b.jpg\"\n",
    "visual_recognition.detect_faces(images_url=url)"
   ]
  },
  {
   "cell_type": "code",
   "execution_count": null,
   "metadata": {
    "collapsed": true
   },
   "outputs": [],
   "source": []
  }
 ],
 "metadata": {
  "kernelspec": {
   "display_name": "Python 3",
   "language": "python",
   "name": "python3"
  },
  "language_info": {
   "codemirror_mode": {
    "name": "ipython",
    "version": 3
   },
   "file_extension": ".py",
   "mimetype": "text/x-python",
   "name": "python",
   "nbconvert_exporter": "python",
   "pygments_lexer": "ipython3",
   "version": "3.5.0"
  }
 },
 "nbformat": 4,
 "nbformat_minor": 2
}
