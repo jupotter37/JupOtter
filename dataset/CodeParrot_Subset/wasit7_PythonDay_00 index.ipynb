{
 "cells": [
  {
   "cell_type": "markdown",
   "metadata": {},
   "source": [
    "Welcome to PythonDay Tutorial\n",
    "====\n",
    "\n",
    "This tutorial will give you fundametal concepts in PYthon programming and also bring you to the Python world, where coding is fun :)\n",
    "\n",
    "Wasit\n",
    "\n",
    "<img src=\"files/python.png\" alt=\"python.png\" width=\"400\"><a href=\"https://xkcd.com/353/\">source</a>"
   ]
  },
  {
   "cell_type": "markdown",
   "metadata": {},
   "source": [
    "10:00-10:30 Web App Ideas\n",
    "--\n",
    "10:30-12:00 Intro Python\n",
    "--\n",
    "Installation, Package management, Using Modules\n",
    "Datatype, Control flow\n",
    "Functions and Class\n",
    "\n",
    "13:00-15:00 Workshop on Flask and Django\n",
    "--\n",
    "15:00-16:00 Google App engine and APIs\n",
    "--\n",
    "16:00-18:00 Making a simple web chat\n",
    "--"
   ]
  },
  {
   "cell_type": "markdown",
   "metadata": {
    "collapsed": true
   },
   "source": []
  },
  {
   "cell_type": "code",
   "execution_count": null,
   "metadata": {
    "collapsed": true
   },
   "outputs": [],
   "source": []
  }
 ],
 "metadata": {
  "kernelspec": {
   "display_name": "Python 2",
   "language": "python",
   "name": "python2"
  },
  "language_info": {
   "codemirror_mode": {
    "name": "ipython",
    "version": 2
   },
   "file_extension": ".py",
   "mimetype": "text/x-python",
   "name": "python",
   "nbconvert_exporter": "python",
   "pygments_lexer": "ipython2",
   "version": "2.7.11"
  }
 },
 "nbformat": 4,
 "nbformat_minor": 0
}
