{
 "cells": [
  {
   "cell_type": "markdown",
   "metadata": {},
   "source": [
    "# Deep Learning"
   ]
  },
  {
   "cell_type": "markdown",
   "metadata": {},
   "source": [
    "<img src=\"images/pic01.png\">\n",
    "\n",
    "*Screenshot taken from [Coursera](https://www.coursera.org/learn/ml-foundations/exam/iPHzm/deep-learning)*\n",
    "\n",
    "<!--TEASER_END-->"
   ]
  },
  {
   "cell_type": "markdown",
   "metadata": {},
   "source": [
    "**Discussion**\n",
    "\n",
    "- https://www.coursera.org/learn/ml-foundations/discussions/eaBhp4ENEeWe6Qot63L7mQ\n",
    "- https://www.coursera.org/learn/ml-foundations/module/nqC1t/discussions/AAIUurrtEeWGphLhfbPAyQ\n",
    "\n",
    "**Question 2**:\n",
    "- Case 1: **x1 OR x2 OR NOT x3**"
   ]
  },
  {
   "cell_type": "markdown",
   "metadata": {},
   "source": [
    "| x1  | x2  | x3 | x1 OR x2 OR (NOT x3)  |\n",
    "|:---:|:---:|:---:|:---:|\n",
    "| 0  | 0  | 0  | 0  |\n",
    "| 0  | 0  | 1  | 0  |\n",
    "| 0  | 1  | 0  | 0  |\n",
    "| 0  | 1  | 1  | 0  |\n",
    "| 1  | 0  | 0  | 1  |\n",
    "| 1  | 0  | 1  | 1  |\n",
    "| 1  | 1  | 0  | 1  |\n",
    "| 1  | 1  | 1  | 1  |"
   ]
  },
  {
   "cell_type": "markdown",
   "metadata": {},
   "source": [
    "| (x1,x2,x3)  | label |\n",
    "|:---:|:---:|\n",
    "| (0,0,0)  | -  |\n",
    "| (0,0,1)  | -  |\n",
    "| (0,1,0)  | -  |\n",
    "| (0,1,1)  | -  |\n",
    "| (1,0,0)  | +  |\n",
    "| (1,0,1)  | +  |\n",
    "| (1,1,0)) | +  |\n",
    "| (1,1,1)  | +  |"
   ]
  },
  {
   "cell_type": "markdown",
   "metadata": {},
   "source": [
    "- Case 2: **x1 AND x2 AND NOT x3**"
   ]
  },
  {
   "cell_type": "markdown",
   "metadata": {},
   "source": [
    "| x1  | x2  | x3 | x1 AND x2 AND (NOT x3)  |\n",
    "|:---:|:---:|:---:|:---:|\n",
    "| 0  | 0  | 0  | 0  |\n",
    "| 0  | 0  | 1  | 0  |\n",
    "| 0  | 1  | 0  | 0  |\n",
    "| 0  | 1  | 1  | 0  |\n",
    "| 1  | 0  | 0  | 0  |\n",
    "| 1  | 0  | 1  | 0  |\n",
    "| 1  | 1  | 0  | 1  |\n",
    "| 1  | 1  | 1  | 0  |"
   ]
  },
  {
   "cell_type": "markdown",
   "metadata": {},
   "source": [
    "| (x1,x2,x3)  | label |\n",
    "|:---:|:---:|\n",
    "| (0,0,0)  | -  |\n",
    "| (0,0,1)  | -  |\n",
    "| (0,1,0)  | -  |\n",
    "| (0,1,1)  | -  |\n",
    "| (1,0,0)  | -  |\n",
    "| (1,0,1)  | -  |\n",
    "| (1,1,0)) | +  |\n",
    "| (1,1,1)  | -  |"
   ]
  },
  {
   "cell_type": "markdown",
   "metadata": {},
   "source": [
    "- Case 3: **x1 OR (x2 AND NOT x3)**"
   ]
  },
  {
   "cell_type": "markdown",
   "metadata": {},
   "source": [
    "| x1  | x2  | x3 | x1 OR (x2 AND NOT x3)  |\n",
    "|:---:|:---:|:---:|:---:|\n",
    "| 0  | 0  | 0  | 0  |\n",
    "| 0  | 0  | 1  | 0  |\n",
    "| 0  | 1  | 0  | 1  |\n",
    "| 0  | 1  | 1  | 0  |\n",
    "| 1  | 0  | 0  | 0  |\n",
    "| 1  | 0  | 1  | 0  |\n",
    "| 1  | 1  | 0  | 1  |\n",
    "| 1  | 1  | 1  | 0  |"
   ]
  },
  {
   "cell_type": "markdown",
   "metadata": {},
   "source": [
    "| (x1,x2,x3)  | label |\n",
    "|:---:|:---:|\n",
    "| (0,0,0)  | -  |\n",
    "| (0,0,1)  | -  |\n",
    "| (0,1,0)  | +  |\n",
    "| (0,1,1)  | -  |\n",
    "| (1,0,0)  | -  |\n",
    "| (1,0,1)  | -  |\n",
    "| (1,1,0)) | +  |\n",
    "| (1,1,1)  | -  |"
   ]
  },
  {
   "cell_type": "markdown",
   "metadata": {},
   "source": [
    "<img src=\"images/pic02.png\">\n",
    "<img src=\"images/pic03.png\">\n",
    "<img src=\"images/pic04.png\">\n",
    "*Screenshot taken from [Coursera](https://www.coursera.org/learn/ml-foundations/exam/iPHzm/deep-learning)*\n",
    "\n",
    "<!--TEASER_END-->"
   ]
  },
  {
   "cell_type": "markdown",
   "metadata": {},
   "source": [
    "<img src=\"images/pic05.png\">\n",
    "\n",
    "*Screenshot taken from [Coursera](https://www.coursera.org/learn/ml-foundations/exam/iPHzm/deep-learning)*\n",
    "\n",
    "<!--TEASER_END-->"
   ]
  }
 ],
 "metadata": {
  "kernelspec": {
   "display_name": "Python 2",
   "language": "python",
   "name": "python2"
  },
  "language_info": {
   "codemirror_mode": {
    "name": "ipython",
    "version": 2
   },
   "file_extension": ".py",
   "mimetype": "text/x-python",
   "name": "python",
   "nbconvert_exporter": "python",
   "pygments_lexer": "ipython2",
   "version": "2.7.10"
  }
 },
 "nbformat": 4,
 "nbformat_minor": 0
}
