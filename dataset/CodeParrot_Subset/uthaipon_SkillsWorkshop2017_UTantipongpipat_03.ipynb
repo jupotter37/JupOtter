{
 "cells": [
  {
   "cell_type": "code",
   "execution_count": 8,
   "metadata": {},
   "outputs": [
    {
     "name": "stdout",
     "output_type": "stream",
     "text": [
      "       record_id  month  day  year  plot_id species_id  sex  hindfoot_length  \\\n",
      "0              1      7   16  1977        2         NL    M             32.0   \n",
      "1              2      7   16  1977        3         NL    M             33.0   \n",
      "2              3      7   16  1977        2         DM    F             37.0   \n",
      "3              4      7   16  1977        7         DM    M             36.0   \n",
      "4              5      7   16  1977        3         DM    M             35.0   \n",
      "5              6      7   16  1977        1         PF    M             14.0   \n",
      "6              7      7   16  1977        2         PE    F              NaN   \n",
      "7              8      7   16  1977        1         DM    M             37.0   \n",
      "8              9      7   16  1977        1         DM    F             34.0   \n",
      "9             10      7   16  1977        6         PF    F             20.0   \n",
      "10            11      7   16  1977        5         DS    F             53.0   \n",
      "11            12      7   16  1977        7         DM    M             38.0   \n",
      "12            13      7   16  1977        3         DM    M             35.0   \n",
      "13            14      7   16  1977        8         DM  NaN              NaN   \n",
      "14            15      7   16  1977        6         DM    F             36.0   \n",
      "15            16      7   16  1977        4         DM    F             36.0   \n",
      "16            17      7   16  1977        3         DS    F             48.0   \n",
      "17            18      7   16  1977        2         PP    M             22.0   \n",
      "18            19      7   16  1977        4         PF  NaN              NaN   \n",
      "19            20      7   17  1977       11         DS    F             48.0   \n",
      "20            21      7   17  1977       14         DM    F             34.0   \n",
      "21            22      7   17  1977       15         NL    F             31.0   \n",
      "22            23      7   17  1977       13         DM    M             36.0   \n",
      "23            24      7   17  1977       13         SH    M             21.0   \n",
      "24            25      7   17  1977        9         DM    M             35.0   \n",
      "25            26      7   17  1977       15         DM    M             31.0   \n",
      "26            27      7   17  1977       15         DM    M             36.0   \n",
      "27            28      7   17  1977       11         DM    M             38.0   \n",
      "28            29      7   17  1977       11         PP    M              NaN   \n",
      "29            30      7   17  1977       10         DS    F             52.0   \n",
      "...          ...    ...  ...   ...      ...        ...  ...              ...   \n",
      "35519      35520     12   31  2002        9         SF  NaN             24.0   \n",
      "35520      35521     12   31  2002        9         DM    M             37.0   \n",
      "35521      35522     12   31  2002        9         DM    F             35.0   \n",
      "35522      35523     12   31  2002        9         DM    F             36.0   \n",
      "35523      35524     12   31  2002        9         PB    F             25.0   \n",
      "35524      35525     12   31  2002        9         OL    M             21.0   \n",
      "35525      35526     12   31  2002        8         OT    F             20.0   \n",
      "35526      35527     12   31  2002       13         DO    F             33.0   \n",
      "35527      35528     12   31  2002       13         US  NaN              NaN   \n",
      "35528      35529     12   31  2002       13         PB    F             25.0   \n",
      "35529      35530     12   31  2002       13         OT    F             20.0   \n",
      "35530      35531     12   31  2002       13         PB    F             27.0   \n",
      "35531      35532     12   31  2002       14         DM    F             34.0   \n",
      "35532      35533     12   31  2002       14         DM    F             36.0   \n",
      "35533      35534     12   31  2002       14         DM    M             37.0   \n",
      "35534      35535     12   31  2002       14         DM    M             37.0   \n",
      "35535      35536     12   31  2002       14         DM    F             35.0   \n",
      "35536      35537     12   31  2002       14         DM    F             36.0   \n",
      "35537      35538     12   31  2002       15         PB    F             26.0   \n",
      "35538      35539     12   31  2002       15         SF    M             26.0   \n",
      "35539      35540     12   31  2002       15         PB    F             26.0   \n",
      "35540      35541     12   31  2002       15         PB    F             24.0   \n",
      "35541      35542     12   31  2002       15         PB    F             26.0   \n",
      "35542      35543     12   31  2002       15         PB    F             27.0   \n",
      "35543      35544     12   31  2002       15         US  NaN              NaN   \n",
      "35544      35545     12   31  2002       15         AH  NaN              NaN   \n",
      "35545      35546     12   31  2002       15         AH  NaN              NaN   \n",
      "35546      35547     12   31  2002       10         RM    F             15.0   \n",
      "35547      35548     12   31  2002        7         DO    M             36.0   \n",
      "35548      35549     12   31  2002        5        NaN  NaN              NaN   \n",
      "\n",
      "       weight  \n",
      "0         NaN  \n",
      "1         NaN  \n",
      "2         NaN  \n",
      "3         NaN  \n",
      "4         NaN  \n",
      "5         NaN  \n",
      "6         NaN  \n",
      "7         NaN  \n",
      "8         NaN  \n",
      "9         NaN  \n",
      "10        NaN  \n",
      "11        NaN  \n",
      "12        NaN  \n",
      "13        NaN  \n",
      "14        NaN  \n",
      "15        NaN  \n",
      "16        NaN  \n",
      "17        NaN  \n",
      "18        NaN  \n",
      "19        NaN  \n",
      "20        NaN  \n",
      "21        NaN  \n",
      "22        NaN  \n",
      "23        NaN  \n",
      "24        NaN  \n",
      "25        NaN  \n",
      "26        NaN  \n",
      "27        NaN  \n",
      "28        NaN  \n",
      "29        NaN  \n",
      "...       ...  \n",
      "35519    36.0  \n",
      "35520    48.0  \n",
      "35521    45.0  \n",
      "35522    44.0  \n",
      "35523    27.0  \n",
      "35524    26.0  \n",
      "35525    24.0  \n",
      "35526    43.0  \n",
      "35527     NaN  \n",
      "35528    25.0  \n",
      "35529     NaN  \n",
      "35530     NaN  \n",
      "35531    43.0  \n",
      "35532    48.0  \n",
      "35533    56.0  \n",
      "35534    53.0  \n",
      "35535    42.0  \n",
      "35536    46.0  \n",
      "35537    31.0  \n",
      "35538    68.0  \n",
      "35539    23.0  \n",
      "35540    31.0  \n",
      "35541    29.0  \n",
      "35542    34.0  \n",
      "35543     NaN  \n",
      "35544     NaN  \n",
      "35545     NaN  \n",
      "35546    14.0  \n",
      "35547    51.0  \n",
      "35548     NaN  \n",
      "\n",
      "[35549 rows x 9 columns]\n"
     ]
    },
    {
     "data": {
      "text/plain": [
       "pandas.core.frame.DataFrame"
      ]
     },
     "execution_count": 8,
     "metadata": {},
     "output_type": "execute_result"
    }
   ],
   "source": [
    "import pandas as pd\n",
    "# note that pd.read_csv is used because we imported pandas as pd\n",
    "surveys_df = pd.read_csv(\"data/surveys.csv\")\n",
    "print(surveys_df)\n",
    "type(surveys_df)"
   ]
  },
  {
   "cell_type": "code",
   "execution_count": 6,
   "metadata": {},
   "outputs": [
    {
     "data": {
      "text/plain": [
       "dtype('O')"
      ]
     },
     "execution_count": 6,
     "metadata": {},
     "output_type": "execute_result"
    }
   ],
   "source": [
    "surveys_df['sex'].dtype"
   ]
  },
  {
   "cell_type": "code",
   "execution_count": 9,
   "metadata": {},
   "outputs": [
    {
     "data": {
      "text/plain": [
       "record_id            int64\n",
       "month                int64\n",
       "day                  int64\n",
       "year                 int64\n",
       "plot_id              int64\n",
       "species_id          object\n",
       "sex                 object\n",
       "hindfoot_length    float64\n",
       "weight             float64\n",
       "dtype: object"
      ]
     },
     "execution_count": 9,
     "metadata": {},
     "output_type": "execute_result"
    }
   ],
   "source": [
    "surveys_df.dtypes"
   ]
  },
  {
   "cell_type": "code",
   "execution_count": 10,
   "metadata": {},
   "outputs": [
    {
     "name": "stdout",
     "output_type": "stream",
     "text": [
      "0.5555555555555556\n",
      "3.3333333333333335\n"
     ]
    },
    {
     "data": {
      "text/plain": [
       "7"
      ]
     },
     "execution_count": 10,
     "metadata": {},
     "output_type": "execute_result"
    }
   ],
   "source": [
    "print(5/9)\n",
    "print(10/3)\n",
    "# convert a to integer\n",
    "a = 7.83\n",
    "int(a)"
   ]
  },
  {
   "cell_type": "code",
   "execution_count": 11,
   "metadata": {},
   "outputs": [
    {
     "data": {
      "text/plain": [
       "7.0"
      ]
     },
     "execution_count": 11,
     "metadata": {},
     "output_type": "execute_result"
    }
   ],
   "source": [
    "# convert to float\n",
    "b = 7\n",
    "float(b)"
   ]
  },
  {
   "cell_type": "code",
   "execution_count": 12,
   "metadata": {},
   "outputs": [
    {
     "data": {
      "text/plain": [
       "dtype('float64')"
      ]
     },
     "execution_count": 12,
     "metadata": {},
     "output_type": "execute_result"
    }
   ],
   "source": [
    "# convert the record_id field from an integer to a float\n",
    "surveys_df['record_id'] = surveys_df['record_id'].astype('float64')\n",
    "surveys_df['record_id'].dtype"
   ]
  },
  {
   "cell_type": "code",
   "execution_count": 13,
   "metadata": {},
   "outputs": [
    {
     "data": {
      "text/plain": [
       "42.672428212991356"
      ]
     },
     "execution_count": 13,
     "metadata": {},
     "output_type": "execute_result"
    }
   ],
   "source": [
    "surveys_df['weight'].mean()"
   ]
  },
  {
   "cell_type": "code",
   "execution_count": 15,
   "metadata": {},
   "outputs": [
    {
     "name": "stdout",
     "output_type": "stream",
     "text": [
      "3266\n"
     ]
    },
    {
     "data": {
      "text/plain": [
       "32283"
      ]
     },
     "execution_count": 15,
     "metadata": {},
     "output_type": "execute_result"
    }
   ],
   "source": [
    "print(len(surveys_df[pd.isnull(surveys_df.weight)]))\n",
    "# how many rows have weight values?\n",
    "len(surveys_df[surveys_df.weight> 0])"
   ]
  },
  {
   "cell_type": "code",
   "execution_count": 16,
   "metadata": {
    "collapsed": true
   },
   "outputs": [],
   "source": [
    "df1 = surveys_df.copy()\n",
    "# fill all NaN values with 0\n",
    "df1['weight'] = df1['weight'].fillna(0)"
   ]
  },
  {
   "cell_type": "code",
   "execution_count": 17,
   "metadata": {},
   "outputs": [
    {
     "data": {
      "text/plain": [
       "38.751976145601844"
      ]
     },
     "execution_count": 17,
     "metadata": {},
     "output_type": "execute_result"
    }
   ],
   "source": [
    "df1['weight'].mean()"
   ]
  },
  {
   "cell_type": "code",
   "execution_count": 18,
   "metadata": {
    "collapsed": true
   },
   "outputs": [],
   "source": [
    "df1['weight'] = surveys_df['weight'].fillna(surveys_df['weight'].mean())"
   ]
  },
  {
   "cell_type": "code",
   "execution_count": null,
   "metadata": {
    "collapsed": true
   },
   "outputs": [],
   "source": []
  }
 ],
 "metadata": {
  "kernelspec": {
   "display_name": "Python 3",
   "language": "python",
   "name": "python3"
  },
  "language_info": {
   "codemirror_mode": {
    "name": "ipython",
    "version": 3
   },
   "file_extension": ".py",
   "mimetype": "text/x-python",
   "name": "python",
   "nbconvert_exporter": "python",
   "pygments_lexer": "ipython3",
   "version": "3.6.1"
  }
 },
 "nbformat": 4,
 "nbformat_minor": 2
}
