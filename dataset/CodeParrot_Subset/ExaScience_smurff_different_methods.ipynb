{
 "cells": [
  {
   "cell_type": "markdown",
   "metadata": {},
   "source": [
    "## Trying different Matrix Factorzation Methods\n",
    "\n",
    "In this notebook we will try out several MF methods supported by SMURFF.\n",
    "\n",
    "### Downloading the files\n",
    "\n",
    "As in the previous example we download the ChemBL dataset. The resulting IC50 matrix is a compound x protein matrix, split into train and test. The ECFP matrix has features as side information on the compounds."
   ]
  },
  {
   "cell_type": "code",
   "execution_count": null,
   "metadata": {},
   "outputs": [],
   "source": [
    "import smurff\n",
    "import logging\n",
    "\n",
    "logging.basicConfig(level = logging.INFO)\n",
    "\n",
    "ic50_train, ic50_test, ecfp = smurff.load_chembl()"
   ]
  },
  {
   "cell_type": "markdown",
   "metadata": {},
   "source": [
    "### Matrix Factorization without Side Information (BPMF)\n",
    "\n",
    "As a first example we can run SMURFF without side information. The method used here is BPMF.\n",
    "\n",
    "Input matrix for `Y` is a sparse scipy matrix (either coo_matrix, csr_matrix or csc_matrix). The test matrix\n",
    "`Ytest` also needs to ne sparse matrix of the same size as `Y`. Here we have used burn-in of 20 samples for the Gibbs sampler and then collected 80 samples from the model. We use 16 latent dimensions in the model.\n",
    "\n",
    "For good results you will need to run more sampling and burnin iterations (>= 1000) and maybe more latent dimensions.\n",
    "\n",
    "We create a trainSession, and the `run` method returns the predictions of the `Ytest` matrix. `predictions` is a list of of type `Prediction`."
   ]
  },
  {
   "cell_type": "code",
   "execution_count": null,
   "metadata": {},
   "outputs": [],
   "source": [
    "\n",
    "trainSession = smurff.BPMFSession(\n",
    "                       Ytrain     = ic50_train,\n",
    "                       Ytest      = ic50_test,\n",
    "                       num_latent = 16,\n",
    "                       burnin     = 20,\n",
    "                       nsamples   = 80,\n",
    "                       verbose    = 0,)\n",
    "\n",
    "predictions = trainSession.run()\n",
    "print(\"First prediction element: \", predictions[0])\n",
    "\n",
    "rmse = smurff.calc_rmse(predictions)\n",
    "print(\"RMSE =\", rmse)"
   ]
  },
  {
   "cell_type": "markdown",
   "metadata": {},
   "source": [
    "### Matrix Factorization with Side Information (Macau)\n",
    "\n",
    "If we want to use the compound features we can use the Macau algorithm.\n",
    "\n",
    "The parameter `side_info = [ecfp, None]` sets the side information for rows and columns, respectively. In this example we only use side information for the compounds (rows of the matrix).\n",
    "\n",
    "Since the `ecfp` sideinfo is sparse and large, we use the CG solver from Macau to reduce the memory footprint and speedup the computation.\n"
   ]
  },
  {
   "cell_type": "code",
   "execution_count": null,
   "metadata": {},
   "outputs": [],
   "source": [
    "predictions = smurff.MacauSession(\n",
    "                       Ytrain     = ic50_train,\n",
    "                       Ytest      = ic50_test,\n",
    "                       side_info  = [ecfp, None],\n",
    "                       direct     = False, # use CG solver instead of Cholesky decomposition\n",
    "                       num_latent = 16,\n",
    "                       burnin     = 40,\n",
    "                       nsamples   = 100).run()\n",
    "\n",
    "smurff.calc_rmse(predictions)"
   ]
  },
  {
   "cell_type": "markdown",
   "metadata": {},
   "source": [
    "#### Macau univariate sampler\n",
    "\n",
    "SMURFF also includes an option to use a *very fast* univariate sampler, i.e., instead of sampling blocks of variables jointly it samples each individually. An example:"
   ]
  },
  {
   "cell_type": "code",
   "execution_count": null,
   "metadata": {},
   "outputs": [],
   "source": [
    "predictions = smurff.MacauSession(\n",
    "                       Ytrain     = ic50_train,\n",
    "                       Ytest      = ic50_test,\n",
    "                       side_info  = [ecfp, None],\n",
    "                       direct     = True,\n",
    "                       univariate = True,\n",
    "                       num_latent = 32,\n",
    "                       burnin     = 500,\n",
    "                       nsamples   = 3500,\n",
    "                       verbose    = 0,).run()\n",
    "smurff.calc_rmse(predictions)"
   ]
  },
  {
   "cell_type": "markdown",
   "metadata": {},
   "source": [
    "When using it we recommend using larger values for `burnin` and `nsamples`, because the univariate sampler mixes slower than the blocked sampler."
   ]
  },
  {
   "cell_type": "code",
   "execution_count": null,
   "metadata": {},
   "outputs": [],
   "source": []
  }
 ],
 "metadata": {
  "kernelspec": {
   "display_name": "Python 3",
   "language": "python",
   "name": "python3"
  },
  "language_info": {
   "codemirror_mode": {
    "name": "ipython",
    "version": 3
   },
   "file_extension": ".py",
   "mimetype": "text/x-python",
   "name": "python",
   "nbconvert_exporter": "python",
   "pygments_lexer": "ipython3",
   "version": "3.8.8"
  }
 },
 "nbformat": 4,
 "nbformat_minor": 2
}
