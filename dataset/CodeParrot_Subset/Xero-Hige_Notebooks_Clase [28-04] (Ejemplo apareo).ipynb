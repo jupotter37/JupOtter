{
 "cells": [
  {
   "cell_type": "markdown",
   "metadata": {},
   "source": [
    "# Ejemplo de apareo\n",
    "## Stock total de celulares"
   ]
  },
  {
   "cell_type": "code",
   "execution_count": 1,
   "metadata": {
    "collapsed": false
   },
   "outputs": [
    {
     "name": "stdout",
     "output_type": "stream",
     "text": [
      "inventarioA.csv  inventarioB.csv\r\n"
     ]
    }
   ],
   "source": [
    "ls *.csv"
   ]
  },
  {
   "cell_type": "code",
   "execution_count": 2,
   "metadata": {
    "collapsed": false
   },
   "outputs": [
    {
     "name": "stdout",
     "output_type": "stream",
     "text": [
      "MODELO,STOCK\r\n",
      "ifoun5SE,2\r\n",
      "ifoun6,10\r\n",
      "MotorolaMG5,7\r\n",
      "MotorolaMG5Plus,5\r\n",
      "ZamzungGalaxyA5,4"
     ]
    }
   ],
   "source": [
    "cat inventarioA.csv"
   ]
  },
  {
   "cell_type": "code",
   "execution_count": 3,
   "metadata": {
    "collapsed": false
   },
   "outputs": [
    {
     "name": "stdout",
     "output_type": "stream",
     "text": [
      "MODELO,STOCK\r\n",
      "ifoun5SE,3\r\n",
      "ifoun6,5\r\n",
      "LGSpiritLTE,4\r\n",
      "NokiaLumia630,20\r\n",
      "ZamzungGalaxyA5,13\r\n",
      "ZamzungGalaxyA7,11\r\n",
      "ZamzungGalaxyNote,9"
     ]
    }
   ],
   "source": [
    "cat inventarioB.csv"
   ]
  },
  {
   "cell_type": "code",
   "execution_count": 4,
   "metadata": {
    "collapsed": true
   },
   "outputs": [],
   "source": [
    "import csv\n",
    "import functools\n",
    "\n",
    "IN_FILE_A = \"inventarioA.csv\"\n",
    "IN_FILE_B = \"inventarioB.csv\"\n",
    "OUT_FILE = \"inventarioTotal.csv\"\n",
    "\n",
    "BRAND = \"MODELO\"\n",
    "STOCK = \"STOCK\""
   ]
  },
  {
   "cell_type": "code",
   "execution_count": 5,
   "metadata": {
    "collapsed": true
   },
   "outputs": [],
   "source": [
    "def get_stock_value(stockA, stockB = \"0\"):\n",
    "    \"\"\"\n",
    "    Receives two stock values 'stockA' and 'stockB'. If no 'stockB' \n",
    "    is provided, it is set to '0' by default. \n",
    "    Validates that both 'stockA' and 'stockB' can be converted to\n",
    "    numeric values. Raises ValueError if one of the stock values\n",
    "    is not numeric or if it is an invalid amount.\n",
    "    Returns the addition of both stock values.\n",
    "    \"\"\"\n",
    "    if ((not stockA.isdigit()) or (int(stockA) < 0)):\n",
    "        raise ValueError(\"{} is not a valid stock value!\".format(stockA))\n",
    "    if ((not stockB.isdigit()) or (int(stockB) < 0)):\n",
    "        raise ValueError(\"{} is not a valid stock value!\".format(stockB))\n",
    "    return int(stockA) + int(stockB)"
   ]
  },
  {
   "cell_type": "code",
   "execution_count": 6,
   "metadata": {
    "collapsed": true
   },
   "outputs": [],
   "source": [
    "def count(row):\n",
    "    \"\"\"\n",
    "    Receives a dictionary representing an inventory row.\n",
    "    Returns a new dictionary with the BRAND value as\n",
    "    key and the STOCK value as the associated value.\n",
    "    \"\"\"\n",
    "    return {row[BRAND]: get_stock_value(row[STOCK])}"
   ]
  },
  {
   "cell_type": "code",
   "execution_count": 7,
   "metadata": {
    "collapsed": true
   },
   "outputs": [],
   "source": [
    "def read_next_row(reader):\n",
    "    \"\"\"\n",
    "    Receives a csv reader and tries to read a new csv row. \n",
    "    Returns the read row. If there are no more rows to read, \n",
    "    returns None.\n",
    "    \"\"\"\n",
    "    try:\n",
    "        return next(reader)\n",
    "    except StopIteration:\n",
    "        return None"
   ]
  },
  {
   "cell_type": "code",
   "execution_count": 8,
   "metadata": {
    "collapsed": true
   },
   "outputs": [],
   "source": [
    "def _merge(readerA, readerB, writerOut):\n",
    "    \"\"\"\n",
    "    Receives two csv readers 'readerA' and 'readerB'. Each reader corresponds \n",
    "    to an inventory file with the format: BRAND, STOCK. Products listed in\n",
    "    both input files MUST be ordered by BRAND.\n",
    "    Receives csv writer writerOut, which corresponds to the desired output\n",
    "    file.\n",
    "    Merges inventory files and creates one unified inventory list with the\n",
    "    format: BRAND, STOCK; which is written to the provided output file.\n",
    "    \"\"\"\n",
    "    rowA = read_next_row(readerA)\n",
    "    rowB = read_next_row(readerB)\n",
    "    writerOut.writeheader()\n",
    "\n",
    "    while(rowA and rowB):\n",
    "        if(rowA[BRAND] == rowB[BRAND]):\n",
    "            writerOut.writerow({BRAND: rowA[BRAND], STOCK: get_stock_value(rowA[STOCK],rowB[STOCK])})\n",
    "            rowA = read_next_row(readerA)\n",
    "            rowB = read_next_row(readerB)\n",
    "        elif (rowA[BRAND] < rowB[BRAND]):\n",
    "            writerOut.writerow({BRAND: rowA[BRAND], STOCK: get_stock_value(rowA[STOCK])})\n",
    "            rowA = read_next_row(readerA)\n",
    "        else:\n",
    "            writerOut.writerow({BRAND: rowB[BRAND], STOCK: get_stock_value(rowB[STOCK])})\n",
    "            rowB = read_next_row(readerB)\n",
    "    \n",
    "    row = rowA if(rowA) else rowB\n",
    "    reader = readerA if(rowA) else readerB\n",
    "    \n",
    "    while(row):\n",
    "        writerOut.writerow({BRAND: row[BRAND], STOCK: get_stock_value(row[STOCK])})\n",
    "        row = read_next_row(reader)"
   ]
  },
  {
   "cell_type": "code",
   "execution_count": 9,
   "metadata": {
    "collapsed": true
   },
   "outputs": [],
   "source": [
    "def merge_inventories(inputA, inputB, output, merge_function):\n",
    "    \"\"\"\n",
    "    Receives two csv inventory files 'inputA' and 'inputB',\n",
    "    with the format: BRAND, STOCK. Products listed in both \n",
    "    input files MUST be ordered by BRAND. Receives the output\n",
    "    file where the unified inventory list with the format: \n",
    "    BRAND, STOCK will be saved.\n",
    "    \"\"\"\n",
    "    with open(inputA) as csvA:\n",
    "        readerA = csv.DictReader(csvA)\n",
    "        with open(inputB) as csvB:\n",
    "            readerB = csv.DictReader(csvB)\n",
    "            with open(output, \"w\") as csvC:\n",
    "                writerOut = csv.DictWriter(csvC, [BRAND, STOCK])\n",
    "                merge_function(readerA, readerB, writerOut)"
   ]
  },
  {
   "cell_type": "code",
   "execution_count": 10,
   "metadata": {
    "collapsed": false
   },
   "outputs": [],
   "source": [
    "def main():\n",
    "    merge_inventories(IN_FILE_A, IN_FILE_B, OUT_FILE, _merge)\n",
    "\n",
    "main()"
   ]
  },
  {
   "cell_type": "code",
   "execution_count": 11,
   "metadata": {
    "collapsed": false
   },
   "outputs": [
    {
     "name": "stdout",
     "output_type": "stream",
     "text": [
      "inventarioA.csv  inventarioB.csv  inventarioTotal.csv\r\n"
     ]
    }
   ],
   "source": [
    "ls *.csv"
   ]
  },
  {
   "cell_type": "code",
   "execution_count": 12,
   "metadata": {
    "collapsed": false
   },
   "outputs": [
    {
     "name": "stdout",
     "output_type": "stream",
     "text": [
      "MODELO,STOCK\r\n",
      "ifoun5SE,2\r\n",
      "ifoun6,10\r\n",
      "MotorolaMG5,7\r\n",
      "MotorolaMG5Plus,5\r\n",
      "ZamzungGalaxyA5,4"
     ]
    }
   ],
   "source": [
    "cat inventarioA.csv"
   ]
  },
  {
   "cell_type": "code",
   "execution_count": 13,
   "metadata": {
    "collapsed": false
   },
   "outputs": [
    {
     "name": "stdout",
     "output_type": "stream",
     "text": [
      "MODELO,STOCK\r\n",
      "ifoun5SE,3\r\n",
      "ifoun6,5\r\n",
      "LGSpiritLTE,4\r\n",
      "NokiaLumia630,20\r\n",
      "ZamzungGalaxyA5,13\r\n",
      "ZamzungGalaxyA7,11\r\n",
      "ZamzungGalaxyNote,9"
     ]
    }
   ],
   "source": [
    "cat inventarioB.csv"
   ]
  },
  {
   "cell_type": "code",
   "execution_count": 14,
   "metadata": {
    "collapsed": false
   },
   "outputs": [
    {
     "name": "stdout",
     "output_type": "stream",
     "text": [
      "MODELO,STOCK\r\n",
      "ifoun5SE,5\r\n",
      "ifoun6,15\r\n",
      "LGSpiritLTE,4\r\n",
      "MotorolaMG5,7\r\n",
      "MotorolaMG5Plus,5\r\n",
      "NokiaLumia630,20\r\n",
      "ZamzungGalaxyA5,17\r\n",
      "ZamzungGalaxyA7,11\r\n",
      "ZamzungGalaxyNote,9\r\n"
     ]
    }
   ],
   "source": [
    "cat inventarioTotal.csv"
   ]
  }
 ],
 "metadata": {
  "kernelspec": {
   "display_name": "Python 3",
   "language": "python",
   "name": "python3"
  },
  "language_info": {
   "codemirror_mode": {
    "name": "ipython",
    "version": 3
   },
   "file_extension": ".py",
   "mimetype": "text/x-python",
   "name": "python",
   "nbconvert_exporter": "python",
   "pygments_lexer": "ipython3",
   "version": "3.5.2+"
  }
 },
 "nbformat": 4,
 "nbformat_minor": 1
}
