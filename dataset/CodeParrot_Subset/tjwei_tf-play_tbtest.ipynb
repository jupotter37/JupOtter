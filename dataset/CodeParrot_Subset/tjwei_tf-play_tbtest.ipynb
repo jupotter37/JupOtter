{
 "cells": [
  {
   "cell_type": "code",
   "execution_count": null,
   "metadata": {
    "collapsed": true
   },
   "outputs": [],
   "source": [
    "import tensorflow as tf\n",
    "import numpy as np"
   ]
  },
  {
   "cell_type": "code",
   "execution_count": null,
   "metadata": {
    "collapsed": false
   },
   "outputs": [],
   "source": [
    "sess = tf.InteractiveSession()\n",
    "accuracy = tf.Variable(0.2, name=\"xxx\")\n",
    "accuracy_ = tf.placeholder(\"float\")\n",
    "img_ = tf.placeholder(\"float\", shape=[None, 64, 64, 3])\n",
    "img = tf.Variable(tf.zeros([5, 64,64,3]))\n",
    "tf.scalar_summary(\"acc\", accuracy)\n",
    "tf.image_summary(\"img\",img)\n",
    "summary_op = tf.merge_all_summaries()\n",
    "summary_writer = tf.train.SummaryWriter(\"log2\", graph_def=sess.graph_def)\n",
    "update = tf.assign(accuracy, accuracy_)\n",
    "update_img = tf.assign(img, img_)"
   ]
  },
  {
   "cell_type": "code",
   "execution_count": null,
   "metadata": {
    "collapsed": false
   },
   "outputs": [],
   "source": [
    "tf.initialize_all_variables().run()"
   ]
  },
  {
   "cell_type": "code",
   "execution_count": null,
   "metadata": {
    "collapsed": false
   },
   "outputs": [],
   "source": [
    "img_input = np.zeros([5,64,64,3])\n",
    "for i in range(1000):\n",
    "    update.eval(feed_dict={accuracy_: i/100.0})\n",
    "    for b in range(5):\n",
    "        for x in range(64):\n",
    "            for y in range(64):\n",
    "                for c in range(3):\n",
    "                    img_input[b][x][y][c] = ((x*(c+2)*i**2+y*i*(c+16)+b**3)%1000)/1000.0\n",
    "    update_img.eval(feed_dict={img_: img_input})\n",
    "    summary_writer.add_summary(summary_op.eval(), i)"
   ]
  },
  {
   "cell_type": "code",
   "execution_count": null,
   "metadata": {
    "collapsed": true
   },
   "outputs": [],
   "source": [
    "np.zeros?"
   ]
  }
 ],
 "metadata": {
  "kernelspec": {
   "display_name": "Python 2",
   "language": "python",
   "name": "python2"
  },
  "language_info": {
   "codemirror_mode": {
    "name": "ipython",
    "version": 2
   },
   "file_extension": ".py",
   "mimetype": "text/x-python",
   "name": "python",
   "nbconvert_exporter": "python",
   "pygments_lexer": "ipython2",
   "version": "2.7.9"
  }
 },
 "nbformat": 4,
 "nbformat_minor": 0
}
