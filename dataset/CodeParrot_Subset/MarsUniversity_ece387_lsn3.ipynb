{
 "cells": [
  {
   "cell_type": "markdown",
   "metadata": {},
   "source": [
    "# Python\n",
    "\n",
    "Kevin J. Walchko\n",
    "\n",
    "created 16 Nov 2017\n",
    "\n",
    "----\n",
    "\n",
    "Here we will use python as our programming language. Python, like any other language, is really vast and complex. We will just cover the basics we need.\n",
    "\n",
    "## Objectives\n",
    "\n",
    "- Understand\n",
    "  - general syntax\n",
    "  - for/while loops\n",
    "  - if/elif/else\n",
    "  - functions\n",
    "  - data types: tuples, list, strings, etc\n",
    "  - intro to classes\n",
    "\n",
    "## References\n",
    "\n",
    "- [Python tutorialspoint](https://www.tutorialspoint.com/python/)\n",
    "- [Python classes/objects](https://www.tutorialspoint.com/python/python_classes_objects.htm)\n",
    "\n",
    "## Setup"
   ]
  },
  {
   "cell_type": "code",
   "execution_count": 1,
   "metadata": {},
   "outputs": [],
   "source": [
    "from __future__ import print_function\n",
    "from __future__ import division\n",
    "import numpy as np"
   ]
  },
  {
   "cell_type": "markdown",
   "metadata": {},
   "source": [
    "# Python\n",
    "\n",
    "Python is a widely used high-level programming language for general-purpose programming, created by Guido van Rossum and first released in 1991. An interpreted language, Python has a design philosophy which emphasizes code readability (notably using whitespace indentation to delimit code blocks rather than curly brackets or keywords), and a syntax which allows programmers to express concepts in fewer lines of code than might be used in languages such as C++ or Java. The language provides constructs intended to enable writing clear programs on both a small and large scale.\n",
    "\n",
    "<img src=\"rossum.png\" width=\"300px\">\n",
    "\n",
    "### Python’s Benevolent Dictator For Life!\n",
    "\n",
    "    “Python is an experiment in how  much freedom program-mers need.  Too much freedom and nobody can read another's code; too little and expressive-ness is endangered.”\n",
    "                                           - Guido van Rossum \n",
    "\n",
    "## Why Use It?\n",
    "\n",
    "- Simple and easy to use and very efficient\n",
    "  - What you can do in a 100 lines of python could take you a 1000 in C++ … this is the reason many startups (e.g., Instagram) use python and keep using it\n",
    "\n",
    "- 90% of robotics uses either C++ or python\n",
    "  - Although C++ is faster in run-time, development (write, compile, link, etc) is much slower due to complex syntax, memory management, pointers (they can be fun!) and difficulty in debugging any sort of real program\n",
    " - Java is dying (or dead)\n",
    " - Microsoft is still struggling to get people outside of the Windows OS to embrace C#\n",
    " - Apple's swift is too new and constantly making major changes ... maybe some day\n",
    "\n",
    "## Who Uses It?\n",
    "\n",
    "- Industrial Light & Magic (Stars Wars people): used in post production scripting to tie together outputs from other C++ programs\n",
    "- Eve-Online (big MMORGP game): used for both client and server aspects of the game\n",
    "- Instagram, Spotify, SurveyMonkey, The Onion, Bitbucket, Pinterest, and more use Django (python website template framework) to create/serve millions of users\n",
    "- Dropbox, Paypal, Walmart and Google (YouTube)\n",
    "  - Note: Guido van Rossum worked for Google and now works for Dropbox\n",
    "\n",
    "## Running Programs on UNIX (or your robot)\n",
    "\n",
    "- Call python program via the python interpreter: `python my_program.py`\n",
    "  - This is kind of the stupid way\n",
    "- Make a python file directly executable \n",
    "  - Add a shebang (it’s a Unix thing) to the top of your program: `#!/usr/bin/env python`\n",
    "  - Make the file executable: `chmod a+x my_program.py`\n",
    "  - Invoke file from Unix command line: `./my_program.py`\n",
    "\n",
    "## Enough to Understand Code (Short Version)\n",
    "\n",
    "- Indentation matters for functions, loops, classes, etc\n",
    "- First assignment to a variable creates it\n",
    "- Variable types (int, float, etc) don’t need to be declared. \n",
    "- Assignment is = and comparison is ==\n",
    "- For numbers + - * % are as expected\n",
    "    - modulas (%) returns the remainder: 5%3 => 2\n",
    "- Logical operators are words (and, or, not) not symbols\n",
    "- We are using `__future__` for python 2 / 3 compatibility\n",
    "  - The basic printing command is print(‘hello’)\n",
    "  - Division works like expected:\n",
    "    - Float division: 5/2 = 2.5\n",
    "    - Integer division: 5//2 = 2\n",
    "- Start comments with #, rest of line is ignored\n",
    "- Can include a “documentation string” as the first line of a new function or class you define\n",
    "\n",
    "```python\n",
    "def my_function(n):\n",
    "  \"\"\"\n",
    "  my_function(n) takes a positive integer and returns n + 5\n",
    "  \"\"\"\n",
    "    # assert ... remember this from ECE281?\n",
    "    assert n>0, \"crap, n is 0 or negative!\"\n",
    "    \n",
    "\treturn n+5\n",
    "```"
   ]
  },
  {
   "cell_type": "markdown",
   "metadata": {},
   "source": [
    "# Printing\n",
    "\n",
    "Again, to have Python 3 compatability and help you in the future, we are going to print things using the print function. Python 2 by default uses a print statement. Also, it is good form to use the newer `format()` function on strings rather than the old C style `%s` for a string or `%d` for an integer. There are lots of cool things you can do with `format()` but we won't dive too far into it ... just the basics.\n",
    "\n",
    "**WARNING:** Your homework with Code Academy uses the old way to `print`, just do it for that and get through it. For this class we are doing it this way!"
   ]
  },
  {
   "cell_type": "code",
   "execution_count": null,
   "metadata": {},
   "outputs": [],
   "source": [
    "from __future__ import division        # fix division\n",
    "from __future__ import print_function  # use print function\n",
    "\n",
    "print('hello world')  # single quotes\n",
    "print(\"hello world\")  # double quotes\n",
    "print('3/4 is', 3/4)  # this prints 0.75\n",
    "print('I am {} ... for {} yrs I have been training Jedhi'.format(\"Yoda\", 853))\n",
    "print('float: {:5.1f}'.format(3.1424567))  # prints float:   3.1"
   ]
  },
  {
   "cell_type": "markdown",
   "metadata": {},
   "source": [
    "## Unicode\n",
    "\n",
    "Unicode sucks in python 2.7, but if you want to use it:\n",
    "\n",
    "- [alphabets](https://en.wikipedia.org/wiki/List_of_Unicode_characters)\n",
    "- [arrows](https://en.wikipedia.org/wiki/List_of_Unicode_characters#Arrows)\n",
    "- [emoji](https://en.wikipedia.org/wiki/Emoji#Unicode_blocks)"
   ]
  },
  {
   "cell_type": "code",
   "execution_count": 2,
   "metadata": {},
   "outputs": [
    {
     "name": "stdout",
     "output_type": "stream",
     "text": [
      "⇦ ⇧ ⇨ ⇩\n",
      "☠\n",
      "\n",
      "You must go ⇧\n"
     ]
    }
   ],
   "source": [
    "print(u'\\u21e6 \\u21e7 \\u21e8 \\u21e9')\n",
    "print(u'\\u2620')\n",
    "\n",
    "# this is a dictionary, we will talk about it next ... sorry for the out of order\n",
    "uni = {\n",
    "    'left': u'\\u21e6',\n",
    "    'up': u'\\u21e7',\n",
    "    'right': u'\\u21e8',\n",
    "    'down': u'\\u21e9',\n",
    "}\n",
    "print(u'\\nYou must go {}'.format(uni['up']))  # notice all strings have u on the front"
   ]
  },
  {
   "cell_type": "markdown",
   "metadata": {},
   "source": [
    "# Data Types\n",
    "\n",
    "Python isn't typed, so you don't really need to keep track of variables and delare them as ints, floats, doubles, unsigned, etc. There are a few places where this isn't true, but we will deal with those as we encounter them."
   ]
  },
  {
   "cell_type": "code",
   "execution_count": 3,
   "metadata": {},
   "outputs": [
    {
     "name": "stdout",
     "output_type": "stream",
     "text": [
      "z = 2.5\n"
     ]
    }
   ],
   "source": [
    "# bool\n",
    "z = True  # or False\n",
    "\n",
    "# integers (default)\n",
    "z = 3\n",
    "\n",
    "# floats\n",
    "z = 3.124\n",
    "z = 5/2\n",
    "print('z =', z)"
   ]
  },
  {
   "cell_type": "code",
   "execution_count": 4,
   "metadata": {},
   "outputs": [
    {
     "name": "stdout",
     "output_type": "stream",
     "text": [
      "bob[\"a\"]: 5\n",
      "{'a': 5, 'c': 'this is a string!!', 'b': 6}\n",
      "len(bob) = 3\n",
      "bob.keys() = ['a', 'c', 'b']\n"
     ]
    }
   ],
   "source": [
    "# dictionary or hash tables\n",
    "bob = {'a': 5, 'b': 6}\n",
    "print('bob[\"a\"]:', bob['a'])\n",
    "\n",
    "# you can assign a new key/values pair\n",
    "bob['c'] = 'this is a string!!'\n",
    "print(bob)\n",
    "print('len(bob) =', len(bob))\n",
    "\n",
    "# you can also access what keys are in a dict\n",
    "print('bob.keys() =', bob.keys())"
   ]
  },
  {
   "cell_type": "code",
   "execution_count": 5,
   "metadata": {},
   "outputs": [
    {
     "name": "stdout",
     "output_type": "stream",
     "text": [
      "bob =  {'a': True, 11: [1, 2, 3]}\n",
      "bob[11] =  [1, 2, 3]\n"
     ]
    }
   ],
   "source": [
    "# let's get crazy and do different types and have a key that is an int\n",
    "bob = {'a': True, 11: [1,2,3]}\n",
    "print('bob = ', bob)\n",
    "print('bob[11] = ', bob[11])  # don't do this, it is confusing!!"
   ]
  },
  {
   "cell_type": "code",
   "execution_count": 6,
   "metadata": {},
   "outputs": [
    {
     "name": "stdout",
     "output_type": "stream",
     "text": [
      "bob list [1, 2, 'tom', 4, 5]\n",
      "bob list[3]: 4\n",
      "bob one-liner version 2: [1, 1, 1, 1, 1]\n",
      "len(bob) = 5\n"
     ]
    }
   ],
   "source": [
    "# arrays or lists are mutable (changable)\n",
    "# the first element is 0 like all good programming languages\n",
    "bob = [1,2,3,4,5]\n",
    "bob[2] = 'tom'\n",
    "print('bob list', bob)\n",
    "print('bob list[3]:', bob[3])  # remember it is zero indexed\n",
    "\n",
    "# or ... tuple will do this too\n",
    "bob = [1]*5\n",
    "print('bob one-liner version 2:', bob)\n",
    "print('len(bob) =', len(bob))"
   ]
  },
  {
   "cell_type": "code",
   "execution_count": 7,
   "metadata": {},
   "outputs": [
    {
     "name": "stdout",
     "output_type": "stream",
     "text": [
      "my crazy string: hello world\n",
      "formatting: 3.1234 6.67\n",
      "len(z) = 11\n"
     ]
    }
   ],
   "source": [
    "# strings\n",
    "z = 'hello world!!'\n",
    "z = 'hello' + ' world'  # concatinate\n",
    "z = 'hhhello world!@#$'[2:13]  # strings are just an array of letters\n",
    "print('my crazy string:', z)\n",
    "print('{}: {} {:.2f}'.format('formatting', 3.1234, 6.6666))\n",
    "print('len(z) =', len(z))"
   ]
  },
  {
   "cell_type": "code",
   "execution_count": 8,
   "metadata": {},
   "outputs": [
    {
     "name": "stdout",
     "output_type": "stream",
     "text": [
      "bob tuple (1, 2, 3, 4)\n",
      "bob tuple*3 (1, 2, 3, 4, 1, 2, 3, 4, 1, 2, 3, 4)\n",
      "len(bob) = 4\n"
     ]
    }
   ],
   "source": [
    "# tuples are immutable (not changable which makes them faster/smaller)\n",
    "bob = (1,2,3,4)\n",
    "print('bob tuple', bob)\n",
    "print('bob tuple*3', bob*3)  # repeats tuple 3x\n",
    "print('len(bob) =', len(bob))"
   ]
  },
  {
   "cell_type": "code",
   "execution_count": 9,
   "metadata": {},
   "outputs": [
    {
     "ename": "TypeError",
     "evalue": "'tuple' object does not support item assignment",
     "output_type": "error",
     "traceback": [
      "\u001b[1;31m\u001b[0m",
      "\u001b[1;31mTypeError\u001b[0mTraceback (most recent call last)",
      "\u001b[1;32m<ipython-input-9-dd7609bcd3d2>\u001b[0m in \u001b[0;36m<module>\u001b[1;34m()\u001b[0m\n\u001b[0;32m      1\u001b[0m \u001b[1;31m# since tuples are immutable, this will throw an error\u001b[0m\u001b[1;33m\u001b[0m\u001b[1;33m\u001b[0m\u001b[0m\n\u001b[1;32m----> 2\u001b[1;33m \u001b[0mbob\u001b[0m\u001b[1;33m[\u001b[0m\u001b[1;36m1\u001b[0m\u001b[1;33m]\u001b[0m \u001b[1;33m=\u001b[0m \u001b[1;34m'tom'\u001b[0m\u001b[1;33m\u001b[0m\u001b[0m\n\u001b[0m",
      "\u001b[1;31mTypeError\u001b[0m: 'tuple' object does not support item assignment"
     ]
    }
   ],
   "source": [
    "# since tuples are immutable, this will throw an error\n",
    "bob[1] = 'tom'"
   ]
  },
  {
   "cell_type": "code",
   "execution_count": 10,
   "metadata": {},
   "outputs": [
    {
     "name": "stdout",
     "output_type": "stream",
     "text": [
      "4 5\n",
      "5 4\n"
     ]
    }
   ],
   "source": [
    "# assign multiple variables at once\n",
    "bob = (4,5,)\n",
    "x,y = bob\n",
    "print(x,y)\n",
    "\n",
    "# wait, I changed by mind ... easy to swap\n",
    "x,y = y,x\n",
    "print(x,y)"
   ]
  },
  {
   "cell_type": "markdown",
   "metadata": {},
   "source": [
    "# Flow Control\n",
    "\n",
    "## Logic Operators\n",
    "\n",
    "Flow control is generally done via some math operator or boolean logic operator.\n",
    "\n",
    "![](logic.png)\n",
    "\n",
    "![](logic2.png)\n",
    "\n",
    "## For Loop"
   ]
  },
  {
   "cell_type": "code",
   "execution_count": 11,
   "metadata": {},
   "outputs": [
    {
     "data": {
      "text/plain": [
       "[3, 4, 5, 6, 7, 8, 9]"
      ]
     },
     "execution_count": 11,
     "metadata": {},
     "output_type": "execute_result"
    }
   ],
   "source": [
    "# range(start, stop, step)  # this only works for integer values\n",
    "range(3,10)  # jupyter cell will always print the last thing"
   ]
  },
  {
   "cell_type": "code",
   "execution_count": 12,
   "metadata": {},
   "outputs": [
    {
     "name": "stdout",
     "output_type": "stream",
     "text": [
      "0\n",
      "1\n",
      "2\n",
      "3\n",
      "4\n"
     ]
    }
   ],
   "source": [
    "# iterates from start (default 0) to less than the highest number\n",
    "for i in range(5):\n",
    "    print(i)"
   ]
  },
  {
   "cell_type": "code",
   "execution_count": 13,
   "metadata": {},
   "outputs": [
    {
     "name": "stdout",
     "output_type": "stream",
     "text": [
      "bob one-liner: [3, 5, 7, 9]\n"
     ]
    }
   ],
   "source": [
    "# you can also create simple arrays like this:\n",
    "bob = [2*x+3 for x in range(4)]\n",
    "print('bob one-liner:', bob)"
   ]
  },
  {
   "cell_type": "code",
   "execution_count": 14,
   "metadata": {},
   "outputs": [
    {
     "name": "stdout",
     "output_type": "stream",
     "text": [
      "2\n",
      "4\n",
      "6\n"
     ]
    }
   ],
   "source": [
    "for i in range(2,8,2):  # start=2, stop<8, step=2, so notice the last value is 6 NOT 8\n",
    "    print(i)"
   ]
  },
  {
   "cell_type": "code",
   "execution_count": 15,
   "metadata": {},
   "outputs": [
    {
     "name": "stdout",
     "output_type": "stream",
     "text": [
      "d\n",
      "e\n",
      "f\n",
      "c\n"
     ]
    }
   ],
   "source": [
    "# I have a list of things ... maybe images or something else.\n",
    "# A for loop can iterate through the list. Here, each time \n",
    "# through, i is set to the next letter in my array 'dfec'\n",
    "things = ['d', 'e', 'f', 'c']\n",
    "for ltr in things:\n",
    "    print(ltr)"
   ]
  },
  {
   "cell_type": "code",
   "execution_count": 16,
   "metadata": {},
   "outputs": [
    {
     "name": "stdout",
     "output_type": "stream",
     "text": [
      "things[0]: d\n",
      "things[1]: e\n",
      "things[2]: f\n",
      "things[3]: 3.14\n"
     ]
    }
   ],
   "source": [
    "# enumerate()\n",
    "# sometimes you need a counter in your for loop, use enumerate\n",
    "things = ['d', 'e', 'f', 3.14]  # LOOK! the last element is a float not a letter ... that's OK\n",
    "for i, ltr in enumerate(things):\n",
    "    print('things[{}]: {}'.format(i, ltr))"
   ]
  },
  {
   "cell_type": "code",
   "execution_count": 17,
   "metadata": {},
   "outputs": [
    {
     "name": "stdout",
     "output_type": "stream",
     "text": [
      "Bob is 10 yrs old and totally GOOD\n",
      "Tom is 20 yrs old and totally EVIL\n",
      "Sally is 15 yrs old and totally NICE\n"
     ]
    }
   ],
   "source": [
    "# zip()\n",
    "# somethimes you have a couple arrays that you want to work on at the same time, use zip\n",
    "# to combine them together\n",
    "# NOTE: all arrays have to have the SAME LENGTH\n",
    "a = ['bob', 'tom', 'sally']\n",
    "b = ['good', 'evil', 'nice']\n",
    "c = [10, 20, 15]\n",
    "\n",
    "for name, age, status in zip(a, c, b):  # notice I mixed up a, b, c\n",
    "    status = status.upper()\n",
    "    name = name[0].upper() + name[1:]  # strings are immutable\n",
    "    print('{} is {} yrs old and totally {}'.format(name, age, status))"
   ]
  },
  {
   "cell_type": "markdown",
   "metadata": {},
   "source": [
    "## if / elif / else "
   ]
  },
  {
   "cell_type": "code",
   "execution_count": 18,
   "metadata": {},
   "outputs": [
    {
     "name": "stdout",
     "output_type": "stream",
     "text": [
      "this should print\n"
     ]
    }
   ],
   "source": [
    "# classic if/then statements work the same as other languages.\n",
    "# if the statement is True, then do something, if it is False, then skip over it.\n",
    "if False:\n",
    "    print('should not get here')\n",
    "elif True:\n",
    "    print('this should print')\n",
    "else:\n",
    "    print('this is the default if all else fails')"
   ]
  },
  {
   "cell_type": "code",
   "execution_count": 19,
   "metadata": {},
   "outputs": [
    {
     "name": "stdout",
     "output_type": "stream",
     "text": [
      "4\n"
     ]
    }
   ],
   "source": [
    "n = 5\n",
    "n = 3 if n==1 else n-1 # one line if/then statement\n",
    "print(n)"
   ]
  },
  {
   "cell_type": "markdown",
   "metadata": {},
   "source": [
    "## While"
   ]
  },
  {
   "cell_type": "code",
   "execution_count": 20,
   "metadata": {},
   "outputs": [
    {
     "name": "stdout",
     "output_type": "stream",
     "text": [
      "3\n",
      "2\n",
      "1\n"
     ]
    }
   ],
   "source": [
    "x = 3\n",
    "while True:  # while loop runs while value is True\n",
    "    if not x:  # I will enter this if statement when x = False or 0\n",
    "        break  # breaks me out of a loop\n",
    "    else:\n",
    "        print(x)\n",
    "        x -= 1\n",
    "    "
   ]
  },
  {
   "cell_type": "markdown",
   "metadata": {},
   "source": [
    "# Exception Handling\n",
    "\n",
    "When you write code you should think about how you could break it, then design it so you can't. Now, you don't necessary need to write bullet proof code ... that takes a lot of time (and time is money), but you should make an effort to reduce your debug time.\n",
    "\n",
    "A list of Python 2.7 exceptions is [here](https://docs.python.org/2/library/exceptions.html). **KeyboardInterrupt:** is a common one when a user pressed ctl-C to quit the program. Some others:\n",
    "\n",
    "```\n",
    "BaseException\n",
    " +-- SystemExit\n",
    " +-- KeyboardInterrupt\n",
    " +-- GeneratorExit\n",
    " +-- Exception\n",
    "      +-- StopIteration\n",
    "      +-- StandardError\n",
    "      |    +-- BufferError\n",
    "      |    +-- ArithmeticError\n",
    "      |    |    +-- FloatingPointError\n",
    "      |    |    +-- OverflowError\n",
    "      |    |    +-- ZeroDivisionError\n",
    "      |    +-- AssertionError\n",
    "      |    +-- AttributeError\n",
    "      |    +-- EnvironmentError\n",
    "      |    |    +-- IOError\n",
    "      |    |    +-- OSError\n",
    "      |    |         +-- WindowsError (Windows)\n",
    "      |    |         +-- VMSError (VMS)\n",
    "      |    +-- EOFError\n",
    "      |    +-- ImportError\n",
    "      |    +-- LookupError\n",
    "      |    |    +-- IndexError\n",
    "      |    |    +-- KeyError\n",
    "      |    +-- MemoryError\n",
    "      |    +-- NameError\n",
    "      |    |    +-- UnboundLocalError\n",
    "      |    +-- ReferenceError\n",
    "      |    +-- RuntimeError\n",
    "      |    |    +-- NotImplementedError\n",
    "      |    +-- SyntaxError\n",
    "      |    |    +-- IndentationError\n",
    "      |    |         +-- TabError\n",
    "      |    +-- SystemError\n",
    "      |    +-- TypeError\n",
    "      |    +-- ValueError\n",
    "      |         +-- UnicodeError\n",
    "      |              +-- UnicodeDecodeError\n",
    "      |              +-- UnicodeEncodeError\n",
    "      |              +-- UnicodeTranslateError\n",
    "      +-- Warning\n",
    "           +-- DeprecationWarning\n",
    "           +-- PendingDeprecationWarning\n",
    "           +-- RuntimeWarning\n",
    "           +-- SyntaxWarning\n",
    "           +-- UserWarning\n",
    "           +-- FutureWarning\n",
    "\t   +-- ImportWarning\n",
    "\t   +-- UnicodeWarning\n",
    "\t   +-- BytesWarning\n",
    "```"
   ]
  },
  {
   "cell_type": "code",
   "execution_count": 21,
   "metadata": {},
   "outputs": [
    {
     "name": "stdout",
     "output_type": "stream",
     "text": [
      "you idiot ... you cannot modify a tuple!!\n"
     ]
    }
   ],
   "source": [
    "# exception handling ... use in your code in smart places\n",
    "try:\n",
    "    a = (1,2,)  # tupple ... notice the extra comma after the 2\n",
    "    a[0] = 1    # this won't work!\n",
    "except:  # this catches any exception thrown\n",
    "    print('you idiot ... you cannot modify a tuple!!')"
   ]
  },
  {
   "cell_type": "code",
   "execution_count": 22,
   "metadata": {},
   "outputs": [
    {
     "ename": "ZeroDivisionError",
     "evalue": "division by zero",
     "output_type": "error",
     "traceback": [
      "\u001b[1;31m\u001b[0m",
      "\u001b[1;31mZeroDivisionError\u001b[0mTraceback (most recent call last)",
      "\u001b[1;32m<ipython-input-22-e5cc2d71dba7>\u001b[0m in \u001b[0;36m<module>\u001b[1;34m()\u001b[0m\n\u001b[0;32m      1\u001b[0m \u001b[1;31m# error\u001b[0m\u001b[1;33m\u001b[0m\u001b[1;33m\u001b[0m\u001b[0m\n\u001b[1;32m----> 2\u001b[1;33m \u001b[1;36m5\u001b[0m\u001b[1;33m/\u001b[0m\u001b[1;36m0\u001b[0m\u001b[1;33m\u001b[0m\u001b[0m\n\u001b[0m",
      "\u001b[1;31mZeroDivisionError\u001b[0m: division by zero"
     ]
    }
   ],
   "source": [
    "# error\n",
    "5/0"
   ]
  },
  {
   "cell_type": "code",
   "execution_count": 23,
   "metadata": {},
   "outputs": [
    {
     "name": "stdout",
     "output_type": "stream",
     "text": [
      "division by zero\n"
     ]
    }
   ],
   "source": [
    "try:\n",
    "    5/0\n",
    "except ZeroDivisionError as e:\n",
    "    print(e)\n",
    "#     raise  # this rasies the error to the next \n",
    "           # level so i don't have to handle it here"
   ]
  },
  {
   "cell_type": "code",
   "execution_count": 24,
   "metadata": {},
   "outputs": [
    {
     "name": "stdout",
     "output_type": "stream",
     "text": [
      "division by zero\n"
     ]
    },
    {
     "ename": "ZeroDivisionError",
     "evalue": "division by zero",
     "output_type": "error",
     "traceback": [
      "\u001b[1;31m\u001b[0m",
      "\u001b[1;31mZeroDivisionError\u001b[0mTraceback (most recent call last)",
      "\u001b[1;32m<ipython-input-24-0a673480edef>\u001b[0m in \u001b[0;36m<module>\u001b[1;34m()\u001b[0m\n\u001b[0;32m      1\u001b[0m \u001b[1;32mtry\u001b[0m\u001b[1;33m:\u001b[0m\u001b[1;33m\u001b[0m\u001b[0m\n\u001b[1;32m----> 2\u001b[1;33m     \u001b[1;36m5\u001b[0m\u001b[1;33m/\u001b[0m\u001b[1;36m0\u001b[0m\u001b[1;33m\u001b[0m\u001b[0m\n\u001b[0m\u001b[0;32m      3\u001b[0m \u001b[1;32mexcept\u001b[0m \u001b[0mZeroDivisionError\u001b[0m \u001b[1;32mas\u001b[0m \u001b[0me\u001b[0m\u001b[1;33m:\u001b[0m\u001b[1;33m\u001b[0m\u001b[0m\n\u001b[0;32m      4\u001b[0m     \u001b[1;32mprint\u001b[0m\u001b[1;33m(\u001b[0m\u001b[0me\u001b[0m\u001b[1;33m)\u001b[0m\u001b[1;33m\u001b[0m\u001b[0m\n\u001b[0;32m      5\u001b[0m     \u001b[1;32mraise\u001b[0m  \u001b[1;31m# this rasies the error to the next (in this case, the Jupyter GUI handles it)\u001b[0m\u001b[1;33m\u001b[0m\u001b[0m\n",
      "\u001b[1;31mZeroDivisionError\u001b[0m: division by zero"
     ]
    }
   ],
   "source": [
    "try:\n",
    "    5/0\n",
    "except ZeroDivisionError as e:\n",
    "    print(e)\n",
    "    raise  # this rasies the error to the next (in this case, the Jupyter GUI handles it)\n",
    "           # level so i don't have to handle it here"
   ]
  },
  {
   "cell_type": "markdown",
   "metadata": {},
   "source": [
    "- When would you want to use `raise`?\n",
    "- Why not *always* handle the error here?\n",
    "- What is different when the `raise` command is used?"
   ]
  },
  {
   "cell_type": "code",
   "execution_count": 25,
   "metadata": {},
   "outputs": [
    {
     "name": "stdout",
     "output_type": "stream",
     "text": [
      "division by zero\n"
     ]
    }
   ],
   "source": [
    "# Honestly, I generally just use Exception from which most other exceptions\n",
    "# are derived from, but I am lazy and it works fine for what I do\n",
    "try:\n",
    "    5/0\n",
    "except Exception as e:\n",
    "    print(e)"
   ]
  },
  {
   "cell_type": "code",
   "execution_count": null,
   "metadata": {},
   "outputs": [],
   "source": [
    "# all is right with the world ... these will work, nothing will print\n",
    "assert True\n",
    "assert 3 > 1"
   ]
  },
  {
   "cell_type": "code",
   "execution_count": null,
   "metadata": {},
   "outputs": [],
   "source": [
    "# this will fail ... and we can add a message if we want to\n",
    "assert 3 < 1, 'hello ... this should fail'"
   ]
  },
  {
   "cell_type": "markdown",
   "metadata": {},
   "source": [
    "# Libraries\n",
    "\n",
    "We will need to import `math` to have access to trig and other functions. There will be other libraries like `numpy`, `cv2`, etc you will need to."
   ]
  },
  {
   "cell_type": "code",
   "execution_count": 26,
   "metadata": {},
   "outputs": [
    {
     "name": "stdout",
     "output_type": "stream",
     "text": [
      "messy 0.707106781187\n"
     ]
    }
   ],
   "source": [
    "import math\n",
    "\n",
    "print('messy', math.cos(math.pi/4))"
   ]
  },
  {
   "cell_type": "code",
   "execution_count": 27,
   "metadata": {},
   "outputs": [
    {
     "name": "stdout",
     "output_type": "stream",
     "text": [
      "simpler math: 0.707106781187\n"
     ]
    }
   ],
   "source": [
    "# that looks clumbsy ... let's do this instead\n",
    "from math import cos, pi\n",
    "print('simpler math:', cos(pi/4))\n",
    "\n",
    "# or we just want to shorten the name to reduce typing ... good programmers are lazy!\n",
    "import numpy as np"
   ]
  },
  {
   "cell_type": "code",
   "execution_count": 28,
   "metadata": {},
   "outputs": [
    {
     "data": {
      "text/plain": [
       "['__doc__',\n",
       " '__name__',\n",
       " '__package__',\n",
       " 'acos',\n",
       " 'acosh',\n",
       " 'asin',\n",
       " 'asinh',\n",
       " 'atan',\n",
       " 'atan2',\n",
       " 'atanh',\n",
       " 'ceil',\n",
       " 'copysign',\n",
       " 'cos',\n",
       " 'cosh',\n",
       " 'degrees',\n",
       " 'e',\n",
       " 'erf',\n",
       " 'erfc',\n",
       " 'exp',\n",
       " 'expm1',\n",
       " 'fabs',\n",
       " 'factorial',\n",
       " 'floor',\n",
       " 'fmod',\n",
       " 'frexp',\n",
       " 'fsum',\n",
       " 'gamma',\n",
       " 'hypot',\n",
       " 'isinf',\n",
       " 'isnan',\n",
       " 'ldexp',\n",
       " 'lgamma',\n",
       " 'log',\n",
       " 'log10',\n",
       " 'log1p',\n",
       " 'modf',\n",
       " 'pi',\n",
       " 'pow',\n",
       " 'radians',\n",
       " 'sin',\n",
       " 'sinh',\n",
       " 'sqrt',\n",
       " 'tan',\n",
       " 'tanh',\n",
       " 'trunc']"
      ]
     },
     "execution_count": 28,
     "metadata": {},
     "output_type": "execute_result"
    }
   ],
   "source": [
    "# well what is in the math library I might want to use????\n",
    "dir(math)"
   ]
  },
  {
   "cell_type": "code",
   "execution_count": 29,
   "metadata": {},
   "outputs": [
    {
     "name": "stdout",
     "output_type": "stream",
     "text": [
      "Help on built-in function tanh in module math:\n",
      "\n",
      "tanh(...)\n",
      "    tanh(x)\n",
      "    \n",
      "    Return the hyperbolic tangent of x.\n",
      "\n"
     ]
    }
   ],
   "source": [
    "# what is tanh???\n",
    "help(math.tanh)"
   ]
  },
  {
   "cell_type": "code",
   "execution_count": 30,
   "metadata": {},
   "outputs": [
    {
     "name": "stdout",
     "output_type": "stream",
     "text": [
      "This module is always available.  It provides access to the\n",
      "mathematical functions defined by the C standard.\n"
     ]
    }
   ],
   "source": [
    "print(math.__doc__)  # print the doc string for the library ... what does it do?"
   ]
  },
  {
   "cell_type": "markdown",
   "metadata": {},
   "source": [
    "# Functions\n",
    "\n",
    "There isn't too much that is special about python functions, just the format."
   ]
  },
  {
   "cell_type": "code",
   "execution_count": 31,
   "metadata": {},
   "outputs": [
    {
     "data": {
      "text/plain": [
       "4.0"
      ]
     },
     "execution_count": 31,
     "metadata": {},
     "output_type": "execute_result"
    }
   ],
   "source": [
    "def my_cool_function(x):\n",
    "    \"\"\"\n",
    "    This is my cool function which takes an argument x\n",
    "    and returns a value\n",
    "    \"\"\"\n",
    "    return 2*x/3\n",
    "\n",
    "my_cool_function(6)  # 2*6/3 = 4"
   ]
  },
  {
   "cell_type": "markdown",
   "metadata": {},
   "source": [
    "# Classes and Object Oriented Programming (OOP)\n",
    "\n",
    "Ok, we don't have time to really teach you how to do this. It would be better if your real programming classes did this. So we are just going to [kludge](https://www.merriam-webster.com/dictionary/kludge) this together here, because these could be useful in this class. In fact I generally (and 99% of the world) does OOP.\n",
    "\n",
    "Classes are awesome because of a few reasons. First, they help you reuse code instead of duplicating the code in other places all over your program. Classes will save your life when you realize you want to change a function and you will only change it in one spot instead of 10 different spots with slightly different code. You can also put a bunch of related functions together because they make sense. Another important part of Classes is that they allow you to create more flexible functions.\n",
    "\n",
    "We are going to keep it simple and basically show you how to do OOP in python very simply. This will be a little familar from ECE382 with structs (sort of)"
   ]
  },
  {
   "cell_type": "code",
   "execution_count": null,
   "metadata": {},
   "outputs": [],
   "source": [
    "class ClassName(object):\n",
    "    \"\"\"\n",
    "    So this is my cool class\n",
    "    \"\"\"\n",
    "    def __init__(self, x):\n",
    "        \"\"\"\n",
    "        This is called a constructor in OOP. When I make an object\n",
    "        this function is called.\n",
    "        self = contains all of the objects values\n",
    "        x = an argument to pass something into the constructor\n",
    "        \"\"\"\n",
    "        self.x = x\n",
    "        print('> Constructor called', x)\n",
    "        \n",
    "    def my_cool_function(self, y):\n",
    "        \"\"\"\n",
    "        This is called a method (function) that works on\n",
    "        the class. It always needs self to access class\n",
    "        values, but can also have as many arguments as you want.\n",
    "        I only have 1 arg called y\"\"\"\n",
    "        self.x = y\n",
    "        print('> called function: {}'.format(self.x))\n",
    "        \n",
    "    def __del__(self):\n",
    "        \"\"\"\n",
    "        Destructor. This is called when the object goes out of scope\n",
    "        and is destoryed. It take NO arguments other than self.\n",
    "        \n",
    "        Note, this is hard to call in jupyter, because it will probably\n",
    "        get called with the program (notebook) ends (shutsdown)\n",
    "        \"\"\"\n",
    "        pass\n",
    "\n",
    "a = ClassName('bob')\n",
    "a.my_cool_function(3.14)\n",
    "\n",
    "b = ClassName(28)\n",
    "b.my_cool_function('tom')\n",
    "\n",
    "for i in range(3):\n",
    "    a = ClassName('bob')"
   ]
  },
  {
   "cell_type": "markdown",
   "metadata": {},
   "source": [
    "There are tons of things you can do with objects. Here is one example. Say we have a ball class and for some reason we want to be able to add balls together."
   ]
  },
  {
   "cell_type": "code",
   "execution_count": null,
   "metadata": {},
   "outputs": [],
   "source": [
    "class Ball(object):\n",
    "    def __init__(self, color, radius):\n",
    "        # this ball always has this color and raduis below\n",
    "        self.radius = radius\n",
    "        self.color = color\n",
    "        \n",
    "    def __str__(self):\n",
    "        \"\"\"\n",
    "        When something tries to turn this object into a string,\n",
    "        this function gets called\n",
    "        \"\"\"\n",
    "        s = 'Ball {}, radius: {:.1f}'.format(self.color, self.radius)\n",
    "        return s\n",
    "    \n",
    "    def __add__(self, a):\n",
    "        c = Ball('gray', a.radius + self.radius)\n",
    "        return c\n",
    "\n",
    "r = Ball('red', 3)\n",
    "g = Ball('green', radius=4)\n",
    "b = Ball(radius=5, color='blue')\n",
    "\n",
    "print(r)\n",
    "print(g)\n",
    "print(b)\n",
    "print('total size:', r.radius+b.radius+g.radius)\n",
    "print('Add method:', r+b+g)"
   ]
  },
  {
   "cell_type": "code",
   "execution_count": null,
   "metadata": {},
   "outputs": [],
   "source": [
    "# the base class of all objects in Python should be \n",
    "# object. It comes with these methods already defined.\n",
    "dir(object)"
   ]
  },
  {
   "cell_type": "markdown",
   "metadata": {},
   "source": [
    "Now you can have classes with functions that make intuitive sense! If I want to calculate the area of a shape, call function `area()`. I don't need a function `areaCircle()` and `areaSquare()`. Or no, maybe the author named the function `area_circle()` or `AreaCircle()` or `areacircle()` or ...\n",
    "\n",
    "```python\n",
    "from math import pi\n",
    "\n",
    "class Circle(object):\n",
    "    def __init__(self, radius):\n",
    "        self.radius = radius\n",
    "    def area(self):\n",
    "        return pi*self.radius**2\n",
    "        \n",
    "class Square(object):\n",
    "    def __init__(self, length, width):\n",
    "        self.length = length\n",
    "        self.width = width\n",
    "    def area(self):\n",
    "        return length*width\n",
    "```"
   ]
  },
  {
   "cell_type": "markdown",
   "metadata": {},
   "source": [
    "# Exercises\n",
    "\n",
    "- Please run this notebook and change numbers/variables/etc so you understand how they work ... your grade depends on your understanding!\n",
    "\n",
    "# Questions\n",
    "\n",
    "1. What is the difference between `/` and `//`?\n",
    "1. How do you use the `.format()` command on a string?\n",
    "1. What does mutable/immutable mean for datatypes?\n",
    "1. What is a hash table and how do you add new values and retrieve (or access) values in it?\n",
    "1. On one line, how would I do a for loop that returns a new array of : [2,4,8,16]?\n",
    "1. Write a function that takes a value between [5,-5] and returns the value divided by 2. Make sure to check the input meets the bounds and throws an error if it is wrong\n",
    "1. Write a class for a `Circle`. Have the constructor take a radius value and if it is not given, have  a default radius of 1.0. Also include 2 methods: area(), circumference(). Make sure it inherits from `object` (the base class)."
   ]
  },
  {
   "cell_type": "markdown",
   "metadata": {},
   "source": [
    "\n",
    "-----------\n",
    "\n",
    "<a rel=\"license\" href=\"http://creativecommons.org/licenses/by-sa/4.0/\"><img alt=\"Creative Commons License\" style=\"border-width:0\" src=\"https://i.creativecommons.org/l/by-sa/4.0/88x31.png\" /></a><br />This work is licensed under a <a rel=\"license\" href=\"http://creativecommons.org/licenses/by-sa/4.0/\">Creative Commons Attribution-ShareAlike 4.0 International License</a>."
   ]
  },
  {
   "cell_type": "code",
   "execution_count": null,
   "metadata": {},
   "outputs": [],
   "source": []
  }
 ],
 "metadata": {
  "kernelspec": {
   "display_name": "Python 2",
   "language": "python",
   "name": "python2"
  },
  "language_info": {
   "codemirror_mode": {
    "name": "ipython",
    "version": 2
   },
   "file_extension": ".py",
   "mimetype": "text/x-python",
   "name": "python",
   "nbconvert_exporter": "python",
   "pygments_lexer": "ipython2",
   "version": "2.7.14"
  }
 },
 "nbformat": 4,
 "nbformat_minor": 2
}
