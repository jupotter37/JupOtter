{
 "cells": [
  {
   "cell_type": "markdown",
   "metadata": {},
   "source": [
    "# Mustererkennung in Funkmessdaten"
   ]
  },
  {
   "cell_type": "markdown",
   "metadata": {},
   "source": [
    "## Aufgabe 1: Laden der Datenbank in Jupyter Notebook"
   ]
  },
  {
   "cell_type": "code",
   "execution_count": 3,
   "metadata": {
    "collapsed": true,
    "scrolled": true
   },
   "outputs": [],
   "source": [
    "# imports\n",
    "import re\n",
    "import numpy as np\n",
    "import pandas as pd\n",
    "import seaborn as sns\n",
    "import matplotlib.pyplot as plt\n",
    "import pprint as pp"
   ]
  },
  {
   "cell_type": "markdown",
   "metadata": {},
   "source": [
    "Wir öffnen die Datenbank und lassen uns die Keys der einzelnen Tabellen ausgeben. \n",
    " "
   ]
  },
  {
   "cell_type": "code",
   "execution_count": null,
   "metadata": {
    "collapsed": true,
    "scrolled": false
   },
   "outputs": [],
   "source": [
    "hdf = pd.HDFStore('../../data/raw/TestMessungen_NEU.hdf')\n",
    "print(hdf.keys)"
   ]
  },
  {
   "cell_type": "markdown",
   "metadata": {},
   "source": [
    "## Aufgabe 2: Inspektion eines einzelnen Dataframes"
   ]
  },
  {
   "cell_type": "markdown",
   "metadata": {},
   "source": [
    "Wir laden den Frame x1_t1_trx_1_4 und betrachten seine Dimension. "
   ]
  },
  {
   "cell_type": "code",
   "execution_count": null,
   "metadata": {
    "collapsed": true,
    "scrolled": true
   },
   "outputs": [],
   "source": [
    "df_x1_t1_trx_1_4 = hdf.get('/x1/t1/trx_1_4')\n",
    "print(\"Rows:\", df_x1_t1_trx_1_4.shape[0])\n",
    "print(\"Columns:\", df_x1_t1_trx_1_4.shape[1])"
   ]
  },
  {
   "cell_type": "markdown",
   "metadata": {},
   "source": [
    "Als nächstes Untersuchen wir exemplarisch für zwei Empfänger-Sender-Gruppen die Attributzusammensetzung."
   ]
  },
  {
   "cell_type": "code",
   "execution_count": null,
   "metadata": {
    "collapsed": true,
    "scrolled": true
   },
   "outputs": [],
   "source": [
    "# first inspection of columns from df_x1_t1_trx_1_4\n",
    "df_x1_t1_trx_1_4.head(5)"
   ]
  },
  {
   "cell_type": "markdown",
   "metadata": {},
   "source": [
    "Für die Analyse der Frames definieren wir einige Hilfsfunktionen."
   ]
  },
  {
   "cell_type": "code",
   "execution_count": null,
   "metadata": {
    "collapsed": true,
    "scrolled": false
   },
   "outputs": [],
   "source": [
    "# Little function to retrieve sender-receiver tuples from df columns\n",
    "def extract_snd_rcv(df):\n",
    "    regex = r\"trx_[1-4]_[1-4]\"\n",
    "    # creates a set containing the different pairs\n",
    "    snd_rcv = {x[4:7] for x in df.columns if re.search(regex, x)}\n",
    "    return [(x[0],x[-1]) for x in snd_rcv]"
   ]
  },
  {
   "cell_type": "code",
   "execution_count": null,
   "metadata": {
    "collapsed": true,
    "scrolled": true
   },
   "outputs": [],
   "source": [
    "# Sums the number of columns for each sender-receiver tuple\n",
    "def get_column_counts(snd_rcv, df):\n",
    "    col_counts = {}\n",
    "    for snd,rcv in snd_rcv:\n",
    "        col_counts['Columns for pair {} {}:'.format(snd, rcv)] = len([i for i, word in enumerate(list(df.columns)) if word.startswith('trx_{}_{}'.format(snd, rcv))])\n",
    "    return col_counts"
   ]
  },
  {
   "cell_type": "code",
   "execution_count": null,
   "metadata": {
    "collapsed": true,
    "scrolled": true
   },
   "outputs": [],
   "source": [
    "# Analyze the column composition of a given measurement.\n",
    "def analyse_columns(df):\n",
    "    df_snd_rcv = extract_snd_rcv(df)\n",
    "    cc = get_column_counts(df_snd_rcv, df)\n",
    "\n",
    "    for x in cc:\n",
    "        print(x, cc[x])\n",
    "    print(\"Sum of pair related columns: %i\" % sum(cc.values()))\n",
    "    print()\n",
    "    print(\"Other columns are:\")\n",
    "    for att in [col for col in df.columns if 'ifft' not in col and 'ts' not in col]:\n",
    "        print(att)"
   ]
  },
  {
   "cell_type": "code",
   "execution_count": null,
   "metadata": {
    "collapsed": true,
    "scrolled": true
   },
   "outputs": [],
   "source": [
    "# Analyze the values of the target column.\n",
    "def analyze_target(df):\n",
    "    print(df['target'].unique())\n",
    "    print(\"# Unique values in target: %i\" % len(df['target'].unique()))"
   ]
  },
  {
   "cell_type": "markdown",
   "metadata": {},
   "source": [
    "Bestimme nun die Spaltezusammensetzung von df_x1_t1_trx_1_4."
   ]
  },
  {
   "cell_type": "code",
   "execution_count": null,
   "metadata": {
    "collapsed": true,
    "scrolled": true
   },
   "outputs": [],
   "source": [
    "analyse_columns(df_x1_t1_trx_1_4)"
   ]
  },
  {
   "cell_type": "markdown",
   "metadata": {},
   "source": [
    "Betrachte den Inhalt der \"target\"-Spalte von df_x1_t1_trx_1_4."
   ]
  },
  {
   "cell_type": "code",
   "execution_count": null,
   "metadata": {
    "collapsed": true,
    "scrolled": true
   },
   "outputs": [],
   "source": [
    "analyze_target(df_x1_t1_trx_1_4)"
   ]
  },
  {
   "cell_type": "markdown",
   "metadata": {},
   "source": [
    "Als nächstes laden wir den Frame x3_t2_trx_3_1 und betrachten seine Dimension. "
   ]
  },
  {
   "cell_type": "code",
   "execution_count": null,
   "metadata": {
    "collapsed": true,
    "scrolled": true
   },
   "outputs": [],
   "source": [
    "df_x3_t2_trx_3_1 = hdf.get('/x3/t2/trx_3_1')\n",
    "print(\"Rows:\", df_x3_t2_trx_3_1.shape[0])\n",
    "print(\"Columns:\", df_x3_t2_trx_3_1.shape[1])"
   ]
  },
  {
   "cell_type": "markdown",
   "metadata": {},
   "source": [
    "Gefolgt von einer Analyse seiner Spaltenzusammensetzung und seiner \"target\"-Werte."
   ]
  },
  {
   "cell_type": "code",
   "execution_count": null,
   "metadata": {
    "collapsed": true,
    "scrolled": true
   },
   "outputs": [],
   "source": [
    "analyse_columns(df_x3_t2_trx_3_1)"
   ]
  },
  {
   "cell_type": "code",
   "execution_count": null,
   "metadata": {
    "collapsed": true,
    "scrolled": true
   },
   "outputs": [],
   "source": [
    "analyze_target(df_x3_t2_trx_3_1)"
   ]
  },
  {
   "cell_type": "markdown",
   "metadata": {},
   "source": [
    "Frage: Was stellen Sie bzgl. der „Empfänger-Nummer_Sender-Nummer“-Kombinationen fest? Sind diese gleich? Welche Ausprägungen finden Sie in der Spalte „target“? \n",
    "\n",
    "Antwort: Wir sehen, wenn jeweils ein Paar sendet, hören die anderen beiden Sender zu und messen ihre Verbindung zu den gerade sendenden Knoten (d.h. 6 Paare in jedem Dataframe). Sendet z.B. das Paar 3 1, so misst Knoten 1 die Verbindung 1-3, Knoten 3 die Verbindung 3-1 und Knoten 2 und 4 Verbindung 2-1 und 2-3 bzw. 4-1 und 4-3. Die 10 verschiedenen Ausprägungen der Spalte \"target\" sind oben zu sehen."
   ]
  },
  {
   "cell_type": "markdown",
   "metadata": {},
   "source": [
    "## Aufgabe 3: Visualisierung der Messreihe des Datensatz"
   ]
  },
  {
   "cell_type": "markdown",
   "metadata": {},
   "source": [
    "Wir visualisieren die Rohdaten mit verschiedenen Heatmaps, um so die Integrität der Daten optisch zu validieren und Ideen für mögliche Features zu entwickeln. Hier stellen wir exemplarisch die Daten von Frame df_x1_t1_trx_1_4 dar."
   ]
  },
  {
   "cell_type": "code",
   "execution_count": null,
   "metadata": {
    "collapsed": true,
    "scrolled": true
   },
   "outputs": [],
   "source": [
    "vals = df_x1_t1_trx_1_4.loc[:,'trx_2_4_ifft_0':'trx_2_4_ifft_1999'].values"
   ]
  },
  {
   "cell_type": "code",
   "execution_count": null,
   "metadata": {
    "collapsed": true,
    "scrolled": true
   },
   "outputs": [],
   "source": [
    "# one big heatmap\n",
    "plt.figure(figsize=(14, 12))\n",
    "plt.title('trx_2_4_ifft')\n",
    "plt.xlabel(\"ifft of frequency\")\n",
    "plt.ylabel(\"measurement\")\n",
    "ax = sns.heatmap(vals, xticklabels=200, yticklabels=20, vmin=0, vmax=1, cmap='nipy_spectral_r')\n",
    "plt.show()"
   ]
  },
  {
   "cell_type": "markdown",
   "metadata": {},
   "source": [
    "Wir betrachten wie verschiedene Farbschemata unterschiedliche Merkmale unserer Rohdaten hervorheben."
   ]
  },
  {
   "cell_type": "code",
   "execution_count": null,
   "metadata": {
    "collapsed": true,
    "scrolled": true
   },
   "outputs": [],
   "source": [
    "# compare different heatmaps\n",
    "plt.figure(1, figsize=(12,10))\n",
    "\n",
    "# nipy_spectral_r scheme\n",
    "plt.subplot(221)\n",
    "plt.title('trx_2_4_ifft')\n",
    "plt.xlabel(\"ifft of frequency\")\n",
    "plt.ylabel(\"measurement\")\n",
    "ax = sns.heatmap(vals, xticklabels=200, yticklabels=20, vmin=0, vmax=1, cmap='nipy_spectral_r')\n",
    "\n",
    "# terrain scheme\n",
    "plt.subplot(222)\n",
    "plt.title('trx_2_4_ifft')\n",
    "plt.xlabel(\"ifft of frequency\")\n",
    "plt.ylabel(\"measurement\")\n",
    "ax = sns.heatmap(vals, xticklabels=200, yticklabels=20, vmin=0, vmax=1, cmap='terrain')\n",
    "\n",
    "# Vega10 scheme\n",
    "plt.subplot(223)\n",
    "plt.title('trx_2_4_ifft')\n",
    "plt.xlabel(\"ifft of frequency\")\n",
    "plt.ylabel(\"measurement\")\n",
    "ax = sns.heatmap(vals, xticklabels=200, yticklabels=20, vmin=0, vmax=1, cmap='Vega10')\n",
    "\n",
    "# Wistia scheme\n",
    "plt.subplot(224)\n",
    "plt.title('trx_2_4_ifft')\n",
    "plt.xlabel(\"ifft of frequency\")\n",
    "plt.ylabel(\"measurement\")\n",
    "ax = sns.heatmap(vals, xticklabels=200, yticklabels=20, vmin=0, vmax=1, cmap='Wistia')\n",
    "\n",
    "# Adjust the subplot layout, because the logit one may take more space\n",
    "# than usual, due to y-tick labels like \"1 - 10^{-3}\"\n",
    "plt.subplots_adjust(top=0.92, bottom=0.08, left=0.10, right=0.95, hspace=0.25,\n",
    "                    wspace=0.2)\n",
    "\n",
    "\n",
    "plt.show()"
   ]
  },
  {
   "cell_type": "markdown",
   "metadata": {},
   "source": [
    "## Aufgabe 3: Groundtruth-Label anpassen"
   ]
  },
  {
   "cell_type": "code",
   "execution_count": null,
   "metadata": {
    "collapsed": true,
    "scrolled": true
   },
   "outputs": [],
   "source": [
    "# Iterating over hdf data and creating interim data presentation stored in data/interim/testmessungen_interim.hdf\n",
    "# Interim data representation contains aditional binary class (binary_target - encoding 0=empty and 1=not empty)\n",
    "# and multi class target (multi_target - encoding 0-9 for each possible class)\n",
    "from sklearn.preprocessing import LabelEncoder\n",
    "le = LabelEncoder()\n",
    "\n",
    "interim_path = '../../data/interim/01_testmessungen.hdf'\n",
    "\n",
    "def binary_mapper(df):\n",
    "    \n",
    "    def map_binary(target):\n",
    "        if target.startswith('Empty'):\n",
    "            return 0\n",
    "        else:\n",
    "            return 1\n",
    "    \n",
    "    df['binary_target'] = pd.Series(map(map_binary, df['target']))\n",
    "    \n",
    "    \n",
    "def multiclass_mapper(df):\n",
    "    le.fit(df['target'])\n",
    "    df['multi_target'] = le.transform(df['target'])\n",
    "    \n",
    "for key in hdf.keys():\n",
    "    df = hdf.get(key)\n",
    "    binary_mapper(df)\n",
    "    multiclass_mapper(df)\n",
    "    df.to_hdf(interim_path, key)\n",
    "\n",
    "hdf.close()"
   ]
  },
  {
   "cell_type": "markdown",
   "metadata": {},
   "source": [
    "Überprüfe neu beschrifteten Dataframe „/x1/t1/trx_3_1“ verwenden. Wir erwarten als Ergebnisse für 5 zu Beginn des Experiments „Empty“ (bzw. 0) und für 120 mitten im Experiment „Not Empty“ (bzw. 1). "
   ]
  },
  {
   "cell_type": "code",
   "execution_count": null,
   "metadata": {
    "collapsed": true,
    "scrolled": false
   },
   "outputs": [],
   "source": [
    "hdf = pd.HDFStore('../../data/interim/01_testmessungen.hdf')\n",
    "df_x1_t1_trx_3_1 = hdf.get('/x1/t1/trx_3_1')\n",
    "print(\"binary_target for measurement 5:\", df_x1_t1_trx_3_1['binary_target'][5])\n",
    "print(\"binary_target for measurement 120:\", df_x1_t1_trx_3_1['binary_target'][120])\n",
    "hdf.close()"
   ]
  },
  {
   "cell_type": "markdown",
   "metadata": {},
   "source": [
    "## Aufgabe 4: Einfacher Erkenner mit Hold-Out-Validierung"
   ]
  },
  {
   "cell_type": "markdown",
   "metadata": {},
   "source": [
    "Wir folgen den Schritten in Aufgabe 4 und testen einen einfachen Erkenner."
   ]
  },
  {
   "cell_type": "code",
   "execution_count": null,
   "metadata": {
    "collapsed": true,
    "scrolled": true
   },
   "outputs": [],
   "source": [
    "from evaluation import *\n",
    "from filters import *\n",
    "from utility import *\n",
    "from features import *"
   ]
  },
  {
   "cell_type": "markdown",
   "metadata": {
    "collapsed": true
   },
   "source": [
    "### Öffnen von Hdf mittels pandas"
   ]
  },
  {
   "cell_type": "code",
   "execution_count": null,
   "metadata": {
    "collapsed": true,
    "scrolled": true
   },
   "outputs": [],
   "source": [
    "# raw data to achieve target values\n",
    "hdf = pd.HDFStore('../../data/raw/TestMessungen_NEU.hdf')"
   ]
  },
  {
   "cell_type": "markdown",
   "metadata": {},
   "source": [
    "### Beispiel Erkenner"
   ]
  },
  {
   "cell_type": "markdown",
   "metadata": {},
   "source": [
    "#### Datensätze vorbereiten"
   ]
  },
  {
   "cell_type": "code",
   "execution_count": null,
   "metadata": {
    "collapsed": true,
    "scrolled": true
   },
   "outputs": [],
   "source": [
    "# generate datasets\n",
    "tst = ['1','2','3']\n",
    "tst_ds = []\n",
    "\n",
    "for t in tst:\n",
    "\n",
    "    df_tst = hdf.get('/x1/t'+t+'/trx_3_1')\n",
    "    lst = df_tst.columns[df_tst.columns.str.contains('_ifft_')]\n",
    "    \n",
    "    #df_tst_cl,_ = distortion_filter(df_tst_cl)\n",
    "    \n",
    "    groups = get_trx_groups(df_tst)\n",
    "    df_std = rf_grouped(df_tst, groups=groups, fn=rf_std_single, label='target')\n",
    "    df_mean = rf_grouped(df_tst, groups=groups, fn=rf_mean_single)\n",
    "    df_p2p = rf_grouped(df_tst, groups=groups, fn=rf_ptp_single) # added p2p feature\n",
    "    \n",
    "    df_all = pd.concat( [df_std, df_mean, df_p2p], axis=1 ) # added p2p feature\n",
    "    \n",
    "    df_all = cf_std_window(df_all, window=4, label='target')\n",
    "    \n",
    "    df_tst_sum = generate_class_label_presence(df_all, state_variable='target')\n",
    "    \n",
    "    # remove index column\n",
    "    df_tst_sum = df_tst_sum[df_tst_sum.columns.values[~df_tst_sum.columns.str.contains('index')].tolist()]\n",
    "    print('Columns in Dataset:',t)\n",
    "    print(df_tst_sum.columns)\n",
    "    \n",
    "    tst_ds.append(df_tst_sum.copy())"
   ]
  },
  {
   "cell_type": "code",
   "execution_count": null,
   "metadata": {
    "collapsed": true,
    "scrolled": true
   },
   "outputs": [],
   "source": [
    "# holdout validation\n",
    "print(hold_out_val(tst_ds, target='target', include_self=False, cl='rf', verbose=False, random_state=1))"
   ]
  },
  {
   "cell_type": "markdown",
   "metadata": {},
   "source": [
    "### Schließen von HDF Store"
   ]
  },
  {
   "cell_type": "code",
   "execution_count": null,
   "metadata": {
    "collapsed": true,
    "scrolled": true
   },
   "outputs": [],
   "source": [
    "hdf.close()"
   ]
  },
  {
   "cell_type": "markdown",
   "metadata": {
    "collapsed": true
   },
   "source": [
    "## Aufgabe 5: Eigener Erkenner"
   ]
  },
  {
   "cell_type": "markdown",
   "metadata": {},
   "source": [
    "Für die Konstruktion eines eigenen Erkenners führen wir die entsprechenden Preprocessing und Mapping Schritte ausgehend von den Roddaten erneut durch und passen diese unseren Bedürfnissen an.# Load hdfs data\n",
    "hdfs = pd.HDFStore(\"../../data/raw/henrik/TestMessungen_NEU.hdf\")"
   ]
  },
  {
   "cell_type": "code",
   "execution_count": 3,
   "metadata": {
    "collapsed": true,
    "scrolled": true
   },
   "outputs": [],
   "source": [
    "# Load raw data\n",
    "hdf = pd.HDFStore(\"../../data/raw/TestMessungen_NEU.hdf\")"
   ]
  },
  {
   "cell_type": "code",
   "execution_count": null,
   "metadata": {
    "collapsed": true,
    "scrolled": false
   },
   "outputs": [],
   "source": [
    "# Check available keys in hdf store\n",
    "print(hdf.keys)"
   ]
  },
  {
   "cell_type": "markdown",
   "metadata": {},
   "source": [
    "### Vorverarbeitung"
   ]
  },
  {
   "cell_type": "markdown",
   "metadata": {},
   "source": [
    "Zuerst passen wir die Groundtruth-Label an, entfernen Zeitstempel sowie Zeilenindices und speichern die resultierenden Frames ab."
   ]
  },
  {
   "cell_type": "code",
   "execution_count": 4,
   "metadata": {
    "collapsed": true,
    "scrolled": true
   },
   "outputs": [],
   "source": [
    "hdf_path = \"../../data/interim/02_tesmessungen.hdf\""
   ]
  },
  {
   "cell_type": "code",
   "execution_count": 10,
   "metadata": {
    "collapsed": true,
    "scrolled": true
   },
   "outputs": [],
   "source": [
    "# Mapping groundtruth to 0-empty and 1-not empty and prepare for further preprocessing by\n",
    "# removing additional timestamp columns and index column\n",
    "# Storing cleaned dataframes (no index, removed _ts columns, mapped multi classes to 0-empty, 1-not empty)\n",
    "# to new hdfstore to `data/interim/02_testmessungen.hdf`\n",
    "\n",
    "\n",
    "dfs = []\n",
    "for key in hdf.keys():\n",
    "    df = hdf.get(key)\n",
    "    #df['target'] = df['target'].map(lambda x: 0 if x.startswith(\"Empty\") else 1)  \n",
    "    # drop all time stamp columns who endswith _ts\n",
    "    cols = [c for c in df.columns if not c.lower().endswith(\"ts\")]\n",
    "    df = df[cols]\n",
    "    df = df.drop('Timestamp', axis=1)\n",
    "    df = df.drop('index', axis=1)\n",
    "    df.to_hdf(hdf_path, key)\n",
    "hdf.close()"
   ]
  },
  {
   "cell_type": "markdown",
   "metadata": {},
   "source": [
    "Wir sehen, dass nur noch die 6 x 2000 Messungen für die jeweiligen Paare sowie die 'target'-Werte in den resultierenden Frames enthalten sind."
   ]
  },
  {
   "cell_type": "code",
   "execution_count": 5,
   "metadata": {
    "collapsed": false,
    "scrolled": true
   },
   "outputs": [
    {
     "data": {
      "text/html": [
       "<div>\n",
       "<table border=\"1\" class=\"dataframe\">\n",
       "  <thead>\n",
       "    <tr style=\"text-align: right;\">\n",
       "      <th></th>\n",
       "      <th>trx_1_2_ifft_0</th>\n",
       "      <th>trx_1_2_ifft_1</th>\n",
       "      <th>trx_1_2_ifft_2</th>\n",
       "      <th>trx_1_2_ifft_3</th>\n",
       "      <th>trx_1_2_ifft_4</th>\n",
       "      <th>trx_1_2_ifft_5</th>\n",
       "      <th>trx_1_2_ifft_6</th>\n",
       "      <th>trx_1_2_ifft_7</th>\n",
       "      <th>trx_1_2_ifft_8</th>\n",
       "      <th>trx_1_2_ifft_9</th>\n",
       "      <th>...</th>\n",
       "      <th>trx_4_2_ifft_1991</th>\n",
       "      <th>trx_4_2_ifft_1992</th>\n",
       "      <th>trx_4_2_ifft_1993</th>\n",
       "      <th>trx_4_2_ifft_1994</th>\n",
       "      <th>trx_4_2_ifft_1995</th>\n",
       "      <th>trx_4_2_ifft_1996</th>\n",
       "      <th>trx_4_2_ifft_1997</th>\n",
       "      <th>trx_4_2_ifft_1998</th>\n",
       "      <th>trx_4_2_ifft_1999</th>\n",
       "      <th>target</th>\n",
       "    </tr>\n",
       "  </thead>\n",
       "  <tbody>\n",
       "    <tr>\n",
       "      <th>0</th>\n",
       "      <td>0.057569</td>\n",
       "      <td>0.057136</td>\n",
       "      <td>0.056675</td>\n",
       "      <td>0.056187</td>\n",
       "      <td>0.055674</td>\n",
       "      <td>0.055137</td>\n",
       "      <td>0.054577</td>\n",
       "      <td>0.053996</td>\n",
       "      <td>0.053397</td>\n",
       "      <td>0.052780</td>\n",
       "      <td>...</td>\n",
       "      <td>0.030560</td>\n",
       "      <td>0.030439</td>\n",
       "      <td>0.030293</td>\n",
       "      <td>0.030121</td>\n",
       "      <td>0.029925</td>\n",
       "      <td>0.029705</td>\n",
       "      <td>0.029460</td>\n",
       "      <td>0.029193</td>\n",
       "      <td>0.028902</td>\n",
       "      <td>Empty_0.0,0.0_0.0,0.0</td>\n",
       "    </tr>\n",
       "    <tr>\n",
       "      <th>1</th>\n",
       "      <td>0.047302</td>\n",
       "      <td>0.046338</td>\n",
       "      <td>0.045374</td>\n",
       "      <td>0.044412</td>\n",
       "      <td>0.043456</td>\n",
       "      <td>0.042508</td>\n",
       "      <td>0.041572</td>\n",
       "      <td>0.040651</td>\n",
       "      <td>0.039749</td>\n",
       "      <td>0.038869</td>\n",
       "      <td>...</td>\n",
       "      <td>0.036571</td>\n",
       "      <td>0.036359</td>\n",
       "      <td>0.036123</td>\n",
       "      <td>0.035864</td>\n",
       "      <td>0.035581</td>\n",
       "      <td>0.035275</td>\n",
       "      <td>0.034946</td>\n",
       "      <td>0.034596</td>\n",
       "      <td>0.034225</td>\n",
       "      <td>Empty_0.0,0.0_0.0,0.0</td>\n",
       "    </tr>\n",
       "    <tr>\n",
       "      <th>2</th>\n",
       "      <td>0.034838</td>\n",
       "      <td>0.033317</td>\n",
       "      <td>0.031765</td>\n",
       "      <td>0.030187</td>\n",
       "      <td>0.028583</td>\n",
       "      <td>0.026958</td>\n",
       "      <td>0.025314</td>\n",
       "      <td>0.023656</td>\n",
       "      <td>0.021989</td>\n",
       "      <td>0.020319</td>\n",
       "      <td>...</td>\n",
       "      <td>0.031501</td>\n",
       "      <td>0.031202</td>\n",
       "      <td>0.030878</td>\n",
       "      <td>0.030531</td>\n",
       "      <td>0.030161</td>\n",
       "      <td>0.029768</td>\n",
       "      <td>0.029353</td>\n",
       "      <td>0.028916</td>\n",
       "      <td>0.028459</td>\n",
       "      <td>Empty_0.0,0.0_0.0,0.0</td>\n",
       "    </tr>\n",
       "    <tr>\n",
       "      <th>3</th>\n",
       "      <td>0.053769</td>\n",
       "      <td>0.053513</td>\n",
       "      <td>0.053260</td>\n",
       "      <td>0.053011</td>\n",
       "      <td>0.052767</td>\n",
       "      <td>0.052529</td>\n",
       "      <td>0.052299</td>\n",
       "      <td>0.052078</td>\n",
       "      <td>0.051868</td>\n",
       "      <td>0.051670</td>\n",
       "      <td>...</td>\n",
       "      <td>0.035597</td>\n",
       "      <td>0.035503</td>\n",
       "      <td>0.035381</td>\n",
       "      <td>0.035234</td>\n",
       "      <td>0.035061</td>\n",
       "      <td>0.034861</td>\n",
       "      <td>0.034637</td>\n",
       "      <td>0.034387</td>\n",
       "      <td>0.034113</td>\n",
       "      <td>Empty_0.0,0.0_0.0,0.0</td>\n",
       "    </tr>\n",
       "    <tr>\n",
       "      <th>4</th>\n",
       "      <td>0.042299</td>\n",
       "      <td>0.041589</td>\n",
       "      <td>0.040935</td>\n",
       "      <td>0.040344</td>\n",
       "      <td>0.039823</td>\n",
       "      <td>0.039379</td>\n",
       "      <td>0.039017</td>\n",
       "      <td>0.038745</td>\n",
       "      <td>0.038566</td>\n",
       "      <td>0.038485</td>\n",
       "      <td>...</td>\n",
       "      <td>0.035293</td>\n",
       "      <td>0.034995</td>\n",
       "      <td>0.034670</td>\n",
       "      <td>0.034319</td>\n",
       "      <td>0.033942</td>\n",
       "      <td>0.033540</td>\n",
       "      <td>0.033112</td>\n",
       "      <td>0.032661</td>\n",
       "      <td>0.032187</td>\n",
       "      <td>Empty_0.0,0.0_0.0,0.0</td>\n",
       "    </tr>\n",
       "  </tbody>\n",
       "</table>\n",
       "<p>5 rows × 12001 columns</p>\n",
       "</div>"
      ],
      "text/plain": [
       "   trx_1_2_ifft_0  trx_1_2_ifft_1  trx_1_2_ifft_2  trx_1_2_ifft_3  \\\n",
       "0        0.057569        0.057136        0.056675        0.056187   \n",
       "1        0.047302        0.046338        0.045374        0.044412   \n",
       "2        0.034838        0.033317        0.031765        0.030187   \n",
       "3        0.053769        0.053513        0.053260        0.053011   \n",
       "4        0.042299        0.041589        0.040935        0.040344   \n",
       "\n",
       "   trx_1_2_ifft_4  trx_1_2_ifft_5  trx_1_2_ifft_6  trx_1_2_ifft_7  \\\n",
       "0        0.055674        0.055137        0.054577        0.053996   \n",
       "1        0.043456        0.042508        0.041572        0.040651   \n",
       "2        0.028583        0.026958        0.025314        0.023656   \n",
       "3        0.052767        0.052529        0.052299        0.052078   \n",
       "4        0.039823        0.039379        0.039017        0.038745   \n",
       "\n",
       "   trx_1_2_ifft_8  trx_1_2_ifft_9          ...            trx_4_2_ifft_1991  \\\n",
       "0        0.053397        0.052780          ...                     0.030560   \n",
       "1        0.039749        0.038869          ...                     0.036571   \n",
       "2        0.021989        0.020319          ...                     0.031501   \n",
       "3        0.051868        0.051670          ...                     0.035597   \n",
       "4        0.038566        0.038485          ...                     0.035293   \n",
       "\n",
       "   trx_4_2_ifft_1992  trx_4_2_ifft_1993  trx_4_2_ifft_1994  trx_4_2_ifft_1995  \\\n",
       "0           0.030439           0.030293           0.030121           0.029925   \n",
       "1           0.036359           0.036123           0.035864           0.035581   \n",
       "2           0.031202           0.030878           0.030531           0.030161   \n",
       "3           0.035503           0.035381           0.035234           0.035061   \n",
       "4           0.034995           0.034670           0.034319           0.033942   \n",
       "\n",
       "   trx_4_2_ifft_1996  trx_4_2_ifft_1997  trx_4_2_ifft_1998  trx_4_2_ifft_1999  \\\n",
       "0           0.029705           0.029460           0.029193           0.028902   \n",
       "1           0.035275           0.034946           0.034596           0.034225   \n",
       "2           0.029768           0.029353           0.028916           0.028459   \n",
       "3           0.034861           0.034637           0.034387           0.034113   \n",
       "4           0.033540           0.033112           0.032661           0.032187   \n",
       "\n",
       "                  target  \n",
       "0  Empty_0.0,0.0_0.0,0.0  \n",
       "1  Empty_0.0,0.0_0.0,0.0  \n",
       "2  Empty_0.0,0.0_0.0,0.0  \n",
       "3  Empty_0.0,0.0_0.0,0.0  \n",
       "4  Empty_0.0,0.0_0.0,0.0  \n",
       "\n",
       "[5 rows x 12001 columns]"
      ]
     },
     "execution_count": 5,
     "metadata": {},
     "output_type": "execute_result"
    }
   ],
   "source": [
    "hdf = pd.HDFStore(hdf_path)\n",
    "df = hdf.get(\"/x1/t1/trx_1_2\")\n",
    "df.head()"
   ]
  },
  {
   "cell_type": "code",
   "execution_count": 6,
   "metadata": {
    "collapsed": true,
    "scrolled": true
   },
   "outputs": [],
   "source": [
    "# Step-1 repeating the previous taks 4 to get a comparable base result with the now dropped _ts and index column to improve from\n",
    "# generate datasets\n",
    "from evaluation import *\n",
    "from filters import *\n",
    "from utility import *\n",
    "from features import *\n",
    "    \n",
    "def prepare_features(c, p):\n",
    "    tst = ['1','2','3']\n",
    "    tst_ds = []\n",
    "\n",
    "    for t in tst:\n",
    "\n",
    "        df_tst = hdf.get('/x'+c+'/t'+t+'/trx_'+p)\n",
    "        lst = df_tst.columns[df_tst.columns.str.contains('_ifft_')]\n",
    "\n",
    "        #df_tst_cl,_ = distortion_filter(df_tst_cl)\n",
    "\n",
    "        df_tst,_ = distortion_filter(df_tst)\n",
    "\n",
    "        groups = get_trx_groups(df_tst)\n",
    "        df_std = rf_grouped(df_tst, groups=groups, fn=rf_std_single, label='target')\n",
    "        df_mean = rf_grouped(df_tst, groups=groups, fn=rf_mean_single)\n",
    "\n",
    "        df_p2p = rf_grouped(df_tst, groups=groups, fn=rf_ptp_single) # added p2p feature\n",
    "\n",
    "        df_kurt = rf_grouped(df_tst, groups=groups, fn=rf_kurtosis_single)\n",
    "\n",
    "        df_all = pd.concat( [df_std, df_mean, df_p2p, df_kurt], axis=1 ) # added p2p feature\n",
    "\n",
    "        df_all = cf_std_window(df_all, window=4, label='target')\n",
    "\n",
    "        df_all = cf_diff(df_all, label='target')\n",
    "\n",
    "        df_tst_sum = generate_class_label_presence(df_all, state_variable='target')\n",
    "\n",
    "        # remove index column\n",
    "        df_tst_sum = df_tst_sum[df_tst_sum.columns.values[~df_tst_sum.columns.str.contains('index')].tolist()]\n",
    "        # print('Columns in Dataset:',t)\n",
    "        # print(df_tst_sum.columns)\n",
    "\n",
    "        tst_ds.append(df_tst_sum.copy())\n",
    "        \n",
    "    return tst_ds\n",
    "\n",
    "tst_ds = prepare_features(c='1', p='3_1')"
   ]
  },
  {
   "cell_type": "code",
   "execution_count": 7,
   "metadata": {
    "collapsed": false,
    "scrolled": true
   },
   "outputs": [
    {
     "name": "stdout",
     "output_type": "stream",
     "text": [
      "rf : (0.68489723318058549, 0.028092668703997854)\n",
      "dt : (0.6743654559826574, 0.044775120354300674)\n",
      "nb : (0.72718418207281033, 0.024153318974162501)\n"
     ]
    },
    {
     "name": "stderr",
     "output_type": "stream",
     "text": [
      "/gpfs/software/x86_64/anaconda/envs/anaconda431-py35/lib/python3.5/site-packages/sklearn/metrics/classification.py:1113: UndefinedMetricWarning: F-score is ill-defined and being set to 0.0 in labels with no predicted samples.\n",
      "  'precision', 'predicted', average, warn_for)\n"
     ]
    },
    {
     "name": "stdout",
     "output_type": "stream",
     "text": [
      "nn : (0.61148611111757967, 0.15601883361092209)\n",
      "knn : (0.64177424126303684, 0.021400793616231959)\n"
     ]
    }
   ],
   "source": [
    "# Evaluating different supervised learning methods provided in eval.py\n",
    "# added a NN evaluator but there are some problems regarding usage and hidden layers\n",
    "# For the moment only kurtosis and cf_diff are added to the dataset as well as the distortion filter\n",
    "# Feature selection is needed right now!\n",
    "for elem in ['rf', 'dt', 'nb' ,'nn','knn']:\n",
    "    print(elem, \":\", hold_out_val(tst_ds, target='target', include_self=False, cl=elem, verbose=False, random_state=1))"
   ]
  },
  {
   "cell_type": "code",
   "execution_count": 8,
   "metadata": {
    "collapsed": true,
    "scrolled": true
   },
   "outputs": [],
   "source": [
    "# extra column features generated and reduced with PCA\n",
    "\n",
    "from evaluation import *\n",
    "from filters import *\n",
    "from utility import *\n",
    "from features import *\n",
    "from new_features import *\n",
    "\n",
    "def prepare_features_PCA_cf(c, p):\n",
    "    tst = ['1','2','3']\n",
    "    tst_ds = []\n",
    "\n",
    "    for t in tst:\n",
    "\n",
    "        df_tst = hdf.get('/x'+c+'/t'+t+'/trx_'+p)\n",
    "\n",
    "        lst = df_tst.columns[df_tst.columns.str.contains('_ifft_')]\n",
    "\n",
    "        df_tst,_ = distortion_filter(df_tst)\n",
    "\n",
    "        groups = get_trx_groups(df_tst)\n",
    "\n",
    "        df_cf_mean = reduce_dim_PCA(cf_mean_window(df_tst, window=3, column_key=\"ifft\", label=None ).fillna(0), n_comps=10)\n",
    "        #df_cf_std = reduce_dim_PCA(cf_std_window(df_tst, window=3, column_key=\"ifft\", label=None ).fillna(0), n_comps=10)\n",
    "        df_cf_ptp = reduce_dim_PCA(cf_ptp(df_tst, window=3, column_key=\"ifft\", label=None ).fillna(0), n_comps=10)\n",
    "        #df_cf_kurt = reduce_dim_PCA(cf_kurt(df_tst, window=3, column_key=\"ifft\", label=None ).fillna(0), n_comps=10)\n",
    "\n",
    "\n",
    "        #df_std = rf_grouped(df_tst, groups=groups, fn=rf_std_single)\n",
    "        df_mean = rf_grouped(df_tst, groups=groups, fn=rf_mean_single, label='target')\n",
    "        df_p2p = rf_grouped(df_tst, groups=groups, fn=rf_ptp_single) # added p2p feature\n",
    "        df_kurt = rf_grouped(df_tst, groups=groups, fn=rf_kurtosis_single)\n",
    "        df_skew = rf_grouped(df_tst, groups=groups, fn=rf_skew_single)\n",
    "\n",
    "\n",
    "        df_all = pd.concat( [df_mean, df_p2p, df_kurt, df_skew], axis=1 ) \n",
    "\n",
    "        df_all = cf_std_window(df_all, window=4, label='target')\n",
    "\n",
    "        df_all = cf_diff(df_all, label='target')\n",
    "\n",
    "        df_all = reduce_dim_PCA(df_all.fillna(0), n_comps=10, label='target')\n",
    "\n",
    "        df_all = pd.concat( [df_all, df_cf_mean, df_cf_ptp], axis=1)\n",
    "\n",
    "        df_tst_sum = generate_class_label_presence(df_all, state_variable='target')\n",
    "\n",
    "        # remove index column\n",
    "        df_tst_sum = df_tst_sum[df_tst_sum.columns.values[~df_tst_sum.columns.str.contains('index')].tolist()]\n",
    "\n",
    "        #print('Columns in Dataset:',t)\n",
    "        #print(df_tst_sum.columns)\n",
    "\n",
    "\n",
    "        tst_ds.append(df_tst_sum.copy())\n",
    "        \n",
    "    return tst_ds\n",
    "\n",
    "tst_ds_PCA = prepare_features_PCA_cf(c='1', p='3_1')"
   ]
  },
  {
   "cell_type": "code",
   "execution_count": 9,
   "metadata": {
    "collapsed": false,
    "scrolled": true
   },
   "outputs": [
    {
     "name": "stdout",
     "output_type": "stream",
     "text": [
      "rf : (0.70167962430145014, 0.21734257933619272)\n",
      "dt : (0.66738417727820487, 0.2124111642523161)\n",
      "nb : (0.88138734100310501, 0.049978003065224964)\n",
      "nn : (0.8255193837470074, 0.099580758321414775)\n",
      "knn : (0.70460302131741093, 0.11468773000515596)\n"
     ]
    }
   ],
   "source": [
    "# Evaluating different supervised learning methods provided in eval.py\n",
    "# We can see that the column features have increased F1 score of the classifiers\n",
    "# Best score for Naive Bayes\n",
    "for elem in ['rf', 'dt', 'nb' ,'nn','knn']:\n",
    "    print(elem, \":\", hold_out_val(tst_ds_PCA, target='target', include_self=False, cl=elem, verbose=False, random_state=1))"
   ]
  },
  {
   "cell_type": "code",
   "execution_count": 10,
   "metadata": {
    "collapsed": true,
    "scrolled": true
   },
   "outputs": [],
   "source": [
    "def evaluate_models(ds):\n",
    "    res = {}\n",
    "    for elem in ['rf', 'dt', 'nb' ,'nn','knn']: \n",
    "        res[elem] = hold_out_val(ds, target='target', include_self=False, cl=elem, verbose=False, random_state=1)\n",
    "    return res\n",
    "\n",
    "    \n",
    "def evaluate_performance(c, p):\n",
    "    # include a prepare data function?\n",
    "    ds = prepare_features(c, p)\n",
    "    return evaluate_models(ds)  \n",
    "\n",
    "\n",
    "def evaluate_performance_PCA_cf(c, p):\n",
    "    # include a prepare data function?\n",
    "    ds = prepare_features_PCA_cf(c, p)\n",
    "    return evaluate_models(ds)  "
   ]
  },
  {
   "cell_type": "code",
   "execution_count": 12,
   "metadata": {
    "collapsed": false,
    "scrolled": true
   },
   "outputs": [
    {
     "name": "stdout",
     "output_type": "stream",
     "text": [
      "Testing for configuration 1\n",
      "Analyse performance for pairing 1_2\n"
     ]
    },
    {
     "name": "stderr",
     "output_type": "stream",
     "text": [
      "/gpfs/software/x86_64/anaconda/envs/anaconda431-py35/lib/python3.5/site-packages/sklearn/metrics/classification.py:1113: UndefinedMetricWarning: F-score is ill-defined and being set to 0.0 in labels with no predicted samples.\n",
      "  'precision', 'predicted', average, warn_for)\n"
     ]
    },
    {
     "name": "stdout",
     "output_type": "stream",
     "text": [
      "rf (0.64893729198075112, 0.072661981809761314)\n",
      "nb (0.72001398839361885, 0.051908004978292642)\n",
      "knn (0.58415479903993783, 0.078241559930959215)\n",
      "nn (0.5764874861084508, 0.13044510214826935)\n",
      "dt (0.67238579801544851, 0.058266923007914605)\n",
      "Analyse performance for pairing 1_4\n"
     ]
    },
    {
     "name": "stderr",
     "output_type": "stream",
     "text": [
      "/gpfs/software/x86_64/anaconda/envs/anaconda431-py35/lib/python3.5/site-packages/sklearn/metrics/classification.py:1113: UndefinedMetricWarning: F-score is ill-defined and being set to 0.0 in labels with no predicted samples.\n",
      "  'precision', 'predicted', average, warn_for)\n"
     ]
    },
    {
     "name": "stdout",
     "output_type": "stream",
     "text": [
      "rf (0.60208332925071295, 0.089743059261808922)\n",
      "nb (0.63325283931138598, 0.045517579942638837)\n",
      "knn (0.54081338730857842, 0.094464769939978793)\n",
      "nn (0.5720688899326668, 0.13024727627113331)\n",
      "dt (0.6237008209378716, 0.039594890188088296)\n",
      "Analyse performance for pairing 2_3\n"
     ]
    },
    {
     "name": "stderr",
     "output_type": "stream",
     "text": [
      "/gpfs/software/x86_64/anaconda/envs/anaconda431-py35/lib/python3.5/site-packages/sklearn/metrics/classification.py:1113: UndefinedMetricWarning: F-score is ill-defined and being set to 0.0 in labels with no predicted samples.\n",
      "  'precision', 'predicted', average, warn_for)\n"
     ]
    },
    {
     "name": "stdout",
     "output_type": "stream",
     "text": [
      "rf (0.65950201978498224, 0.040878702228930135)\n",
      "nb (0.7347479770616373, 0.032813494167403374)\n",
      "knn (0.63317174090436978, 0.05907384834612537)\n",
      "nn (0.59843208849340335, 0.14742209856725838)\n",
      "dt (0.67235370214094203, 0.05702418925566622)\n",
      "Analyse performance for pairing 3_1\n",
      "rf (0.68489723318058549, 0.028092668703997854)\n",
      "nb (0.72718418207281033, 0.024153318974162501)\n",
      "knn (0.64177424126303684, 0.021400793616231959)\n",
      "nn (0.72049690639566855, 0.030516874442580503)\n",
      "dt (0.6743654559826574, 0.044775120354300674)\n",
      "Analyse performance for pairing 3_4\n"
     ]
    },
    {
     "name": "stderr",
     "output_type": "stream",
     "text": [
      "/gpfs/software/x86_64/anaconda/envs/anaconda431-py35/lib/python3.5/site-packages/sklearn/metrics/classification.py:1113: UndefinedMetricWarning: F-score is ill-defined and being set to 0.0 in labels with no predicted samples.\n",
      "  'precision', 'predicted', average, warn_for)\n"
     ]
    },
    {
     "name": "stdout",
     "output_type": "stream",
     "text": [
      "rf (0.56486069201140954, 0.063306736645509259)\n",
      "nb (0.67345243914053288, 0.013519730982944319)\n",
      "knn (0.55308383289593566, 0.083319229618759066)\n",
      "nn (0.5741801539412017, 0.1253251875321377)\n",
      "dt (0.58103911315844081, 0.029162344196159536)\n",
      "Analyse performance for pairing 4_2\n",
      "rf (0.66213833214654938, 0.061598740625741527)\n",
      "nb (0.68220149768184679, 0.029661299587378984)\n",
      "knn (0.64031552172173845, 0.024533838072926407)\n",
      "nn (0.57028352912688196, 0.11679103810049543)\n",
      "dt (0.71237839890421772, 0.035492509800216746)\n",
      "Testing for configuration 2\n",
      "Analyse performance for pairing 1_2\n"
     ]
    },
    {
     "name": "stderr",
     "output_type": "stream",
     "text": [
      "/gpfs/software/x86_64/anaconda/envs/anaconda431-py35/lib/python3.5/site-packages/sklearn/neural_network/multilayer_perceptron.py:563: ConvergenceWarning: Stochastic Optimizer: Maximum iterations reached and the optimization hasn't converged yet.\n",
      "  % (), ConvergenceWarning)\n",
      "/gpfs/software/x86_64/anaconda/envs/anaconda431-py35/lib/python3.5/site-packages/sklearn/metrics/classification.py:1113: UndefinedMetricWarning: F-score is ill-defined and being set to 0.0 in labels with no predicted samples.\n",
      "  'precision', 'predicted', average, warn_for)\n"
     ]
    },
    {
     "name": "stdout",
     "output_type": "stream",
     "text": [
      "rf (0.63854688404259596, 0.056503098006305569)\n",
      "nb (0.64448802314315612, 0.035427873961986184)\n",
      "knn (0.57044135604339929, 0.097257731828721994)\n",
      "nn (0.63611165994766872, 0.067499150382638845)\n",
      "dt (0.6142121615085262, 0.057294656049356907)\n",
      "Analyse performance for pairing 1_4\n"
     ]
    },
    {
     "name": "stderr",
     "output_type": "stream",
     "text": [
      "/gpfs/software/x86_64/anaconda/envs/anaconda431-py35/lib/python3.5/site-packages/sklearn/metrics/classification.py:1113: UndefinedMetricWarning: F-score is ill-defined and being set to 0.0 in labels with no predicted samples.\n",
      "  'precision', 'predicted', average, warn_for)\n"
     ]
    },
    {
     "name": "stdout",
     "output_type": "stream",
     "text": [
      "rf (0.56049761556842026, 0.057029995715084346)\n",
      "nb (0.49173314964296727, 0.053711839479143542)\n",
      "knn (0.45938360865854883, 0.032809589442993843)\n",
      "nn (0.57856120592429705, 0.03179866699883923)\n",
      "dt (0.62535128223916725, 0.042700661941880776)\n",
      "Analyse performance for pairing 2_3\n"
     ]
    },
    {
     "name": "stderr",
     "output_type": "stream",
     "text": [
      "/gpfs/software/x86_64/anaconda/envs/anaconda431-py35/lib/python3.5/site-packages/sklearn/neural_network/multilayer_perceptron.py:563: ConvergenceWarning: Stochastic Optimizer: Maximum iterations reached and the optimization hasn't converged yet.\n",
      "  % (), ConvergenceWarning)\n",
      "/gpfs/software/x86_64/anaconda/envs/anaconda431-py35/lib/python3.5/site-packages/sklearn/metrics/classification.py:1113: UndefinedMetricWarning: F-score is ill-defined and being set to 0.0 in labels with no predicted samples.\n",
      "  'precision', 'predicted', average, warn_for)\n"
     ]
    },
    {
     "name": "stdout",
     "output_type": "stream",
     "text": [
      "rf (0.64930817563299581, 0.036905919298317699)\n",
      "nb (0.6277778123836707, 0.040373212848166022)\n",
      "knn (0.53085792858413849, 0.079177287043646224)\n",
      "nn (0.60865412627365745, 0.030947151010306682)\n",
      "dt (0.66754383538972795, 0.025146019290252817)\n",
      "Analyse performance for pairing 3_1\n"
     ]
    },
    {
     "name": "stderr",
     "output_type": "stream",
     "text": [
      "/gpfs/software/x86_64/anaconda/envs/anaconda431-py35/lib/python3.5/site-packages/sklearn/neural_network/multilayer_perceptron.py:563: ConvergenceWarning: Stochastic Optimizer: Maximum iterations reached and the optimization hasn't converged yet.\n",
      "  % (), ConvergenceWarning)\n",
      "/gpfs/software/x86_64/anaconda/envs/anaconda431-py35/lib/python3.5/site-packages/sklearn/metrics/classification.py:1113: UndefinedMetricWarning: F-score is ill-defined and being set to 0.0 in labels with no predicted samples.\n",
      "  'precision', 'predicted', average, warn_for)\n"
     ]
    },
    {
     "name": "stdout",
     "output_type": "stream",
     "text": [
      "rf (0.60701435095269396, 0.041805090349182547)\n",
      "nb (0.62104140208680148, 0.03707365287505042)\n",
      "knn (0.50231149402687392, 0.095847625277715093)\n",
      "nn (0.62590321887755229, 0.044607655446593349)\n",
      "dt (0.63102121915184373, 0.044958188588420732)\n",
      "Analyse performance for pairing 3_4\n"
     ]
    },
    {
     "name": "stderr",
     "output_type": "stream",
     "text": [
      "/gpfs/software/x86_64/anaconda/envs/anaconda431-py35/lib/python3.5/site-packages/sklearn/neural_network/multilayer_perceptron.py:563: ConvergenceWarning: Stochastic Optimizer: Maximum iterations reached and the optimization hasn't converged yet.\n",
      "  % (), ConvergenceWarning)\n",
      "/gpfs/software/x86_64/anaconda/envs/anaconda431-py35/lib/python3.5/site-packages/sklearn/metrics/classification.py:1113: UndefinedMetricWarning: F-score is ill-defined and being set to 0.0 in labels with no predicted samples.\n",
      "  'precision', 'predicted', average, warn_for)\n"
     ]
    },
    {
     "name": "stdout",
     "output_type": "stream",
     "text": [
      "rf (0.49327467306284983, 0.029494058673058512)\n",
      "nb (0.47903245065346028, 0.10633930811543636)\n",
      "knn (0.44074388595726544, 0.0086155369825226934)\n",
      "nn (0.57417434370736153, 0.032575561222153465)\n",
      "dt (0.54034500987930822, 0.031620817991557512)\n",
      "Analyse performance for pairing 4_2\n"
     ]
    },
    {
     "name": "stderr",
     "output_type": "stream",
     "text": [
      "/gpfs/software/x86_64/anaconda/envs/anaconda431-py35/lib/python3.5/site-packages/sklearn/neural_network/multilayer_perceptron.py:563: ConvergenceWarning: Stochastic Optimizer: Maximum iterations reached and the optimization hasn't converged yet.\n",
      "  % (), ConvergenceWarning)\n",
      "/gpfs/software/x86_64/anaconda/envs/anaconda431-py35/lib/python3.5/site-packages/sklearn/metrics/classification.py:1113: UndefinedMetricWarning: F-score is ill-defined and being set to 0.0 in labels with no predicted samples.\n",
      "  'precision', 'predicted', average, warn_for)\n"
     ]
    },
    {
     "name": "stdout",
     "output_type": "stream",
     "text": [
      "rf (0.5710768178190514, 0.031240986335302357)\n",
      "nb (0.59957066977099971, 0.038711977395090427)\n",
      "knn (0.46508101603610624, 0.040513062578850331)\n",
      "nn (0.57591227476086937, 0.032664973515756764)\n",
      "dt (0.57296146413703986, 0.048430485568019835)\n",
      "Testing for configuration 3\n",
      "Analyse performance for pairing 1_2\n"
     ]
    },
    {
     "name": "stderr",
     "output_type": "stream",
     "text": [
      "/gpfs/software/x86_64/anaconda/envs/anaconda431-py35/lib/python3.5/site-packages/sklearn/metrics/classification.py:1113: UndefinedMetricWarning: F-score is ill-defined and being set to 0.0 in labels with no predicted samples.\n",
      "  'precision', 'predicted', average, warn_for)\n"
     ]
    },
    {
     "name": "stdout",
     "output_type": "stream",
     "text": [
      "rf (0.75158543772671582, 0.073965223276165684)\n",
      "nb (0.77646816732430046, 0.045768064389889777)\n",
      "knn (0.64010947527701745, 0.05890930009195796)\n",
      "nn (0.62642938618521982, 0.19729649253086237)\n",
      "dt (0.70853807069237851, 0.040361648606761016)\n",
      "Analyse performance for pairing 1_4\n"
     ]
    },
    {
     "name": "stderr",
     "output_type": "stream",
     "text": [
      "/gpfs/software/x86_64/anaconda/envs/anaconda431-py35/lib/python3.5/site-packages/sklearn/metrics/classification.py:1113: UndefinedMetricWarning: F-score is ill-defined and being set to 0.0 in labels with no predicted samples.\n",
      "  'precision', 'predicted', average, warn_for)\n"
     ]
    },
    {
     "name": "stdout",
     "output_type": "stream",
     "text": [
      "rf (0.72512237237802646, 0.024318483405491819)\n",
      "nb (0.68375383264876566, 0.04853563058381366)\n",
      "knn (0.60443044526780143, 0.09132051401076538)\n",
      "nn (0.59877705879757948, 0.17503792833025361)\n",
      "dt (0.70894865631990134, 0.064409640967971721)\n",
      "Analyse performance for pairing 2_3\n"
     ]
    },
    {
     "name": "stderr",
     "output_type": "stream",
     "text": [
      "/gpfs/software/x86_64/anaconda/envs/anaconda431-py35/lib/python3.5/site-packages/sklearn/metrics/classification.py:1113: UndefinedMetricWarning: F-score is ill-defined and being set to 0.0 in labels with no predicted samples.\n",
      "  'precision', 'predicted', average, warn_for)\n"
     ]
    },
    {
     "name": "stdout",
     "output_type": "stream",
     "text": [
      "rf (0.75876390034536645, 0.057600202565464748)\n",
      "nb (0.78160789407928011, 0.040493604003054511)\n",
      "knn (0.62694171049160452, 0.087413584718939646)\n",
      "nn (0.6170485256870788, 0.18646960699734197)\n",
      "dt (0.70094038829830663, 0.059650205410153173)\n",
      "Analyse performance for pairing 3_1\n"
     ]
    },
    {
     "name": "stderr",
     "output_type": "stream",
     "text": [
      "/gpfs/software/x86_64/anaconda/envs/anaconda431-py35/lib/python3.5/site-packages/sklearn/metrics/classification.py:1113: UndefinedMetricWarning: F-score is ill-defined and being set to 0.0 in labels with no predicted samples.\n",
      "  'precision', 'predicted', average, warn_for)\n"
     ]
    },
    {
     "name": "stdout",
     "output_type": "stream",
     "text": [
      "rf (0.75915751586446045, 0.05610026554651254)\n",
      "nb (0.76742092680845098, 0.041581317172870814)\n",
      "knn (0.64411532556154383, 0.064365835824339801)\n",
      "nn (0.63807172558269298, 0.20216025976572663)\n",
      "dt (0.72472391210146292, 0.034547975598893971)\n",
      "Analyse performance for pairing 3_4\n",
      "rf (0.71332297046055249, 0.044333636956391503)\n",
      "nb (0.71871196755419786, 0.038616874899377873)\n",
      "knn (0.59327581331619805, 0.097660219931706607)\n",
      "nn (0.71549380268215679, 0.040892552965644861)\n",
      "dt (0.65556373497239595, 0.033090857658668101)\n",
      "Analyse performance for pairing 4_2\n"
     ]
    },
    {
     "name": "stderr",
     "output_type": "stream",
     "text": [
      "/gpfs/software/x86_64/anaconda/envs/anaconda431-py35/lib/python3.5/site-packages/sklearn/metrics/classification.py:1113: UndefinedMetricWarning: F-score is ill-defined and being set to 0.0 in labels with no predicted samples.\n",
      "  'precision', 'predicted', average, warn_for)\n"
     ]
    },
    {
     "name": "stdout",
     "output_type": "stream",
     "text": [
      "rf (0.74841947816986465, 0.083088162506049612)\n",
      "nb (0.76567935162696532, 0.051994429373920285)\n",
      "knn (0.58509800248335397, 0.12111013670725401)\n",
      "nn (0.60603437010033867, 0.18626924489088151)\n",
      "dt (0.70591821262119347, 0.050551112114035582)\n",
      "Testing for configuration 4\n",
      "Analyse performance for pairing 1_2\n"
     ]
    },
    {
     "name": "stderr",
     "output_type": "stream",
     "text": [
      "/gpfs/software/x86_64/anaconda/envs/anaconda431-py35/lib/python3.5/site-packages/sklearn/neural_network/multilayer_perceptron.py:563: ConvergenceWarning: Stochastic Optimizer: Maximum iterations reached and the optimization hasn't converged yet.\n",
      "  % (), ConvergenceWarning)\n",
      "/gpfs/software/x86_64/anaconda/envs/anaconda431-py35/lib/python3.5/site-packages/sklearn/metrics/classification.py:1113: UndefinedMetricWarning: F-score is ill-defined and being set to 0.0 in labels with no predicted samples.\n",
      "  'precision', 'predicted', average, warn_for)\n"
     ]
    },
    {
     "name": "stdout",
     "output_type": "stream",
     "text": [
      "rf (0.5635533994216374, 0.070177050377872724)\n",
      "nb (0.63853996062758289, 0.064174060439551595)\n",
      "knn (0.43650880826508343, 0.0422967290730401)\n",
      "nn (0.60424920647170566, 0.038468231553244366)\n",
      "dt (0.53486246098599155, 0.029754292552424722)\n",
      "Analyse performance for pairing 1_4\n"
     ]
    },
    {
     "name": "stderr",
     "output_type": "stream",
     "text": [
      "/gpfs/software/x86_64/anaconda/envs/anaconda431-py35/lib/python3.5/site-packages/sklearn/metrics/classification.py:1113: UndefinedMetricWarning: F-score is ill-defined and being set to 0.0 in labels with no predicted samples.\n",
      "  'precision', 'predicted', average, warn_for)\n"
     ]
    },
    {
     "name": "stdout",
     "output_type": "stream",
     "text": [
      "rf (0.56309468724601541, 0.047827069823693905)\n",
      "nb (0.5576543944309994, 0.070444480893562159)\n",
      "knn (0.45580976619561758, 0.045421405015039037)\n",
      "nn (0.60787673306881751, 0.036169891671238269)\n",
      "dt (0.55485339932521471, 0.041689998491644557)\n",
      "Analyse performance for pairing 2_3\n"
     ]
    },
    {
     "name": "stderr",
     "output_type": "stream",
     "text": [
      "/gpfs/software/x86_64/anaconda/envs/anaconda431-py35/lib/python3.5/site-packages/sklearn/metrics/classification.py:1113: UndefinedMetricWarning: F-score is ill-defined and being set to 0.0 in labels with no predicted samples.\n",
      "  'precision', 'predicted', average, warn_for)\n"
     ]
    },
    {
     "name": "stdout",
     "output_type": "stream",
     "text": [
      "rf (0.5446223732063924, 0.058180768603699515)\n",
      "nb (0.645745435006982, 0.060747060047824625)\n",
      "knn (0.46362273923893654, 0.05425011815041874)\n",
      "nn (0.55941878363306663, 0.044442075698695682)\n",
      "dt (0.53962754483292952, 0.038528632622201624)\n",
      "Analyse performance for pairing 3_1\n"
     ]
    },
    {
     "name": "stderr",
     "output_type": "stream",
     "text": [
      "/gpfs/software/x86_64/anaconda/envs/anaconda431-py35/lib/python3.5/site-packages/sklearn/metrics/classification.py:1113: UndefinedMetricWarning: F-score is ill-defined and being set to 0.0 in labels with no predicted samples.\n",
      "  'precision', 'predicted', average, warn_for)\n"
     ]
    },
    {
     "name": "stdout",
     "output_type": "stream",
     "text": [
      "rf (0.56183254166979291, 0.068736610510270288)\n",
      "nb (0.54602149997504024, 0.053397114686506188)\n",
      "knn (0.51375346783373532, 0.081594277497857193)\n",
      "nn (0.55249466766346622, 0.010435389869660231)\n",
      "dt (0.54140879732826608, 0.033013325039030705)\n",
      "Analyse performance for pairing 3_4\n",
      "rf (0.58615728191004679, 0.070742301199853627)\n",
      "nb (0.61619435933989886, 0.037831221165105573)\n",
      "knn (0.55687319183243777, 0.088555356653199496)\n",
      "nn (0.61967849399534358, 0.017252168762122277)\n",
      "dt (0.55393454236034068, 0.036459474466513167)\n",
      "Analyse performance for pairing 4_2\n"
     ]
    },
    {
     "name": "stderr",
     "output_type": "stream",
     "text": [
      "/gpfs/software/x86_64/anaconda/envs/anaconda431-py35/lib/python3.5/site-packages/sklearn/neural_network/multilayer_perceptron.py:563: ConvergenceWarning: Stochastic Optimizer: Maximum iterations reached and the optimization hasn't converged yet.\n",
      "  % (), ConvergenceWarning)\n"
     ]
    },
    {
     "name": "stdout",
     "output_type": "stream",
     "text": [
      "rf (0.57352049732876009, 0.076094004960706438)\n",
      "nb (0.64047927288178208, 0.097237388406319195)\n",
      "knn (0.49949518613057869, 0.092785611026083681)\n",
      "nn (0.61122087274372217, 0.050765134556721797)\n",
      "dt (0.55823065133694805, 0.029090367329828379)\n"
     ]
    },
    {
     "name": "stderr",
     "output_type": "stream",
     "text": [
      "/gpfs/software/x86_64/anaconda/envs/anaconda431-py35/lib/python3.5/site-packages/sklearn/metrics/classification.py:1113: UndefinedMetricWarning: F-score is ill-defined and being set to 0.0 in labels with no predicted samples.\n",
      "  'precision', 'predicted', average, warn_for)\n"
     ]
    }
   ],
   "source": [
    "config = ['1','2','3','4']\n",
    "pairing = ['1_2','1_4','2_3','3_1','3_4','4_2']\n",
    "tst_ds = []\n",
    "\n",
    "res_all = []\n",
    "for c in config:\n",
    "    print(\"Testing for configuration\", c)\n",
    "    for p in pairing:\n",
    "        print(\"Analyse performance for pairing\", p)\n",
    "        res = evaluate_performance(c, p)\n",
    "        res_all.append(res)\n",
    "        # TODO draw graph\n",
    "        for model in res:\n",
    "            print(model, res[model])"
   ]
  },
  {
   "cell_type": "code",
   "execution_count": 13,
   "metadata": {
    "collapsed": false,
    "scrolled": true
   },
   "outputs": [
    {
     "name": "stdout",
     "output_type": "stream",
     "text": [
      "{'rf', 'knn', 'nb', 'dt', 'nn'}\n",
      "results for prepare_features() function\n",
      "mean F1 for rf:  0.6329704112983846\n",
      "mean F1 for knn:  0.5492569476805765\n",
      "mean F1 for nb:  0.6571988955686305\n",
      "mean F1 for dt:  0.6281336930258552\n",
      "mean F1 for nn:  0.6070024795875362\n"
     ]
    }
   ],
   "source": [
    "all_keys = set().union(*(d.keys() for d in res_all))\n",
    "print(all_keys)\n",
    "print(\"results for prepare_features() function\")\n",
    "for key in all_keys:\n",
    "    print(\"mean F1 for {}:  {}\".format(key, sum(item[key][0] for item in res_all)/len(res_all)))"
   ]
  },
  {
   "cell_type": "code",
   "execution_count": 16,
   "metadata": {
    "collapsed": false,
    "scrolled": true
   },
   "outputs": [
    {
     "name": "stdout",
     "output_type": "stream",
     "text": [
      "Testing for configuration 1\n",
      "Analyse performance for pairing 1_2\n",
      "rf (0.57361498741327344, 0.19511283254070527)\n",
      "nb (0.83613340824479765, 0.07377266612408459)\n",
      "knn (0.67622660088237607, 0.14440065816769604)\n",
      "nn (0.66061500026802145, 0.12365896217987189)\n",
      "dt (0.53796608241999555, 0.17031318987416932)\n",
      "Analyse performance for pairing 1_4\n",
      "rf (0.5780539701030456, 0.1427826825837937)\n",
      "nb (0.78778249984587723, 0.053338977313739704)\n",
      "knn (0.73447431223254256, 0.045076899710088027)\n",
      "nn (0.71960041418721865, 0.05953889883646752)\n",
      "dt (0.55023323892743448, 0.12933580518967475)\n",
      "Analyse performance for pairing 2_3\n",
      "rf (0.5536507205482547, 0.16537074209745611)\n",
      "nb (0.65320688892574819, 0.16826698090686992)\n",
      "knn (0.75859979487318141, 0.07146612334721171)\n",
      "nn (0.67078458200278746, 0.080909793740883959)\n",
      "dt (0.60737565285759043, 0.17491834916148105)\n",
      "Analyse performance for pairing 3_1\n",
      "rf (0.70167962430145014, 0.21734257933619272)\n",
      "nb (0.88138734100310501, 0.049978003065224964)\n",
      "knn (0.70460302131741093, 0.11468773000515596)\n",
      "nn (0.83340748446553892, 0.093443508585220103)\n",
      "dt (0.66738417727820487, 0.2124111642523161)\n",
      "Analyse performance for pairing 3_4\n",
      "rf (0.57400741244278797, 0.097434352556518777)\n",
      "nb (0.72505337804624703, 0.080430841362718289)\n",
      "knn (0.65091123981490129, 0.069593202851592512)\n",
      "nn (0.62659283023906631, 0.044966668913380851)\n",
      "dt (0.5874125157460105, 0.095948453741027118)\n",
      "Analyse performance for pairing 4_2\n",
      "rf (0.63744422109226129, 0.16223160239770515)\n",
      "nb (0.66610914767698037, 0.17622205962972384)\n",
      "knn (0.7158230721164246, 0.081668949572051425)\n",
      "nn (0.75942400535037458, 0.080271236880366151)\n",
      "dt (0.60856972274601207, 0.15820725117530568)\n",
      "Testing for configuration 2\n",
      "Analyse performance for pairing 1_2\n",
      "rf (0.55744237690199827, 0.13936237154618805)\n",
      "nb (0.68428991481650314, 0.14150843671739166)\n",
      "knn (0.62163115450431272, 0.051466264535029518)\n",
      "nn (0.61293231901847534, 0.19133671290414905)\n",
      "dt (0.56337523724221283, 0.16432443956985301)\n",
      "Analyse performance for pairing 1_4\n"
     ]
    },
    {
     "name": "stderr",
     "output_type": "stream",
     "text": [
      "/gpfs/software/x86_64/anaconda/envs/anaconda431-py35/lib/python3.5/site-packages/sklearn/metrics/classification.py:1113: UndefinedMetricWarning: F-score is ill-defined and being set to 0.0 in labels with no predicted samples.\n",
      "  'precision', 'predicted', average, warn_for)\n",
      "/gpfs/software/x86_64/anaconda/envs/anaconda431-py35/lib/python3.5/site-packages/sklearn/metrics/classification.py:1113: UndefinedMetricWarning: F-score is ill-defined and being set to 0.0 in labels with no predicted samples.\n",
      "  'precision', 'predicted', average, warn_for)\n"
     ]
    },
    {
     "name": "stdout",
     "output_type": "stream",
     "text": [
      "rf (0.4354839341333836, 0.018628614018703474)\n",
      "nb (0.68626772297818484, 0.1535935061523967)\n",
      "knn (0.57736145322231802, 0.092120212735163895)\n",
      "nn (0.44989587567503991, 0.076439837040941025)\n",
      "dt (0.58492892021650544, 0.12376198837821167)\n",
      "Analyse performance for pairing 2_3\n"
     ]
    },
    {
     "name": "stderr",
     "output_type": "stream",
     "text": [
      "/gpfs/software/x86_64/anaconda/envs/anaconda431-py35/lib/python3.5/site-packages/sklearn/metrics/classification.py:1113: UndefinedMetricWarning: F-score is ill-defined and being set to 0.0 in labels with no predicted samples.\n",
      "  'precision', 'predicted', average, warn_for)\n",
      "/gpfs/software/x86_64/anaconda/envs/anaconda431-py35/lib/python3.5/site-packages/sklearn/metrics/classification.py:1113: UndefinedMetricWarning: F-score is ill-defined and being set to 0.0 in labels with no predicted samples.\n",
      "  'precision', 'predicted', average, warn_for)\n",
      "/gpfs/software/x86_64/anaconda/envs/anaconda431-py35/lib/python3.5/site-packages/sklearn/metrics/classification.py:1113: UndefinedMetricWarning: F-score is ill-defined and being set to 0.0 in labels with no predicted samples.\n",
      "  'precision', 'predicted', average, warn_for)\n"
     ]
    },
    {
     "name": "stdout",
     "output_type": "stream",
     "text": [
      "rf (0.50799587032264026, 0.13244864826613725)\n",
      "nb (0.64769080119858546, 0.20824561004973363)\n",
      "knn (0.54278857447899276, 0.10557415117505173)\n",
      "nn (0.51128689233014701, 0.13148626074566644)\n",
      "dt (0.50082131128161089, 0.14770875912227532)\n",
      "Analyse performance for pairing 3_1\n"
     ]
    },
    {
     "name": "stderr",
     "output_type": "stream",
     "text": [
      "/gpfs/software/x86_64/anaconda/envs/anaconda431-py35/lib/python3.5/site-packages/sklearn/metrics/classification.py:1113: UndefinedMetricWarning: F-score is ill-defined and being set to 0.0 in labels with no predicted samples.\n",
      "  'precision', 'predicted', average, warn_for)\n"
     ]
    },
    {
     "name": "stdout",
     "output_type": "stream",
     "text": [
      "rf (0.47311048863553379, 0.10316878866387334)\n",
      "nb (0.84035805193235913, 0.087971386228800921)\n",
      "knn (0.70428068800005539, 0.04867682446689757)\n",
      "nn (0.7602718024326216, 0.13904429596388046)\n",
      "dt (0.48183511497607795, 0.11625230463619031)\n",
      "Analyse performance for pairing 3_4\n"
     ]
    },
    {
     "name": "stderr",
     "output_type": "stream",
     "text": [
      "/gpfs/software/x86_64/anaconda/envs/anaconda431-py35/lib/python3.5/site-packages/sklearn/metrics/classification.py:1113: UndefinedMetricWarning: F-score is ill-defined and being set to 0.0 in labels with no predicted samples.\n",
      "  'precision', 'predicted', average, warn_for)\n",
      "/gpfs/software/x86_64/anaconda/envs/anaconda431-py35/lib/python3.5/site-packages/sklearn/metrics/classification.py:1113: UndefinedMetricWarning: F-score is ill-defined and being set to 0.0 in labels with no predicted samples.\n",
      "  'precision', 'predicted', average, warn_for)\n"
     ]
    },
    {
     "name": "stdout",
     "output_type": "stream",
     "text": [
      "rf (0.47222660989006687, 0.061731258845562624)\n",
      "nb (0.54765501168541653, 0.027563680704073203)\n",
      "knn (0.45655957197736302, 0.036712597083316)\n",
      "nn (0.55746612110284854, 0.11620508051514315)\n",
      "dt (0.51731959021425267, 0.075006398721573581)\n",
      "Analyse performance for pairing 4_2\n",
      "rf (0.48046232809299888, 0.059859709412347667)\n",
      "nb (0.64689178061844677, 0.11371031125377304)\n",
      "knn (0.48113167589052885, 0.076752180375769571)\n",
      "nn (0.52979346915973358, 0.042534765000695383)\n",
      "dt (0.46913558373448866, 0.080179839638372385)\n",
      "Testing for configuration 3\n",
      "Analyse performance for pairing 1_2\n",
      "rf (0.52144474508140515, 0.1173512877778284)\n",
      "nb (0.80900589265669909, 0.13278346373581032)\n",
      "knn (0.63275613458875279, 0.09930908999454742)\n",
      "nn (0.71692677532956328, 0.076646626381633776)\n",
      "dt (0.49820151324488232, 0.12334958770259231)\n",
      "Analyse performance for pairing 1_4\n",
      "rf (0.76876492758301829, 0.17636423259247064)\n",
      "nb (0.89458224161238686, 0.068163464308074087)\n",
      "knn (0.71298937001561014, 0.10330467447240442)\n",
      "nn (0.78563861047406258, 0.078793276737657097)\n",
      "dt (0.63736146982574404, 0.13330101314710674)\n",
      "Analyse performance for pairing 2_3\n",
      "rf (0.65516675821674297, 0.21050039687242927)\n",
      "nb (0.84670826712336478, 0.17908363874607505)\n",
      "knn (0.70980816106435007, 0.046858099309772881)\n",
      "nn (0.80222583086070942, 0.064861181355937228)\n",
      "dt (0.68661556724867012, 0.16240311210794975)\n",
      "Analyse performance for pairing 3_1\n"
     ]
    },
    {
     "name": "stderr",
     "output_type": "stream",
     "text": [
      "/gpfs/software/x86_64/anaconda/envs/anaconda431-py35/lib/python3.5/site-packages/sklearn/metrics/classification.py:1113: UndefinedMetricWarning: F-score is ill-defined and being set to 0.0 in labels with no predicted samples.\n",
      "  'precision', 'predicted', average, warn_for)\n"
     ]
    },
    {
     "name": "stdout",
     "output_type": "stream",
     "text": [
      "rf (0.57171602090544849, 0.16292967446571466)\n",
      "nb (0.87213787475749305, 0.048693820548973067)\n",
      "knn (0.70652013330486041, 0.047063157026160957)\n",
      "nn (0.79499094729718489, 0.05616707094027746)\n",
      "dt (0.53350720746897606, 0.11958506928321476)\n",
      "Analyse performance for pairing 3_4\n",
      "rf (0.43303941634736809, 0.17698336450107743)\n",
      "nb (0.71851371459019886, 0.20623952834642695)\n",
      "knn (0.66454977687726358, 0.089575447967040311)\n",
      "nn (0.72607227623329795, 0.17145935027956388)\n",
      "dt (0.4003409078721934, 0.13837169224260534)\n",
      "Analyse performance for pairing 4_2\n",
      "rf (0.61312706257222105, 0.17304741243525254)\n",
      "nb (0.84148355001418162, 0.073946855079354973)\n",
      "knn (0.6226648012212106, 0.074957050390310573)\n",
      "nn (0.67662215371931611, 0.12660482236446507)\n",
      "dt (0.53113390964388785, 0.1291617375247229)\n",
      "Testing for configuration 4\n",
      "Analyse performance for pairing 1_2\n",
      "rf (0.53025255428552942, 0.088895391244193586)\n",
      "nb (0.71039303912681373, 0.06043678441515702)\n",
      "knn (0.6121117431861034, 0.082770141330221092)\n",
      "nn (0.60170268742495681, 0.093258303662042671)\n",
      "dt (0.56459167368661045, 0.089578249555093262)\n",
      "Analyse performance for pairing 1_4\n"
     ]
    },
    {
     "name": "stderr",
     "output_type": "stream",
     "text": [
      "/gpfs/software/x86_64/anaconda/envs/anaconda431-py35/lib/python3.5/site-packages/sklearn/metrics/classification.py:1113: UndefinedMetricWarning: F-score is ill-defined and being set to 0.0 in labels with no predicted samples.\n",
      "  'precision', 'predicted', average, warn_for)\n"
     ]
    },
    {
     "name": "stdout",
     "output_type": "stream",
     "text": [
      "rf (0.57812478149837099, 0.11055280777313591)\n",
      "nb (0.74737471099846509, 0.064384000823855453)\n",
      "knn (0.60401249851996852, 0.098583836780840414)\n",
      "nn (0.64034547216746585, 0.084730261494552414)\n",
      "dt (0.60104490418125522, 0.17591095864145129)\n",
      "Analyse performance for pairing 2_3\n",
      "rf (0.62498154668144068, 0.13832697309077641)\n",
      "nb (0.73462114231513309, 0.060205675232210931)\n",
      "knn (0.59603393022694018, 0.11787066656552406)\n",
      "nn (0.70609582679597593, 0.068671942654534246)\n",
      "dt (0.56788827108538531, 0.096451713595125402)\n",
      "Analyse performance for pairing 3_1\n",
      "rf (0.59350535879772359, 0.074401891119328184)\n",
      "nb (0.73991131141209154, 0.037159076489392144)\n",
      "knn (0.52571692950882865, 0.060733682730789204)\n",
      "nn (0.51950191445313354, 0.094220999973059646)\n",
      "dt (0.60960123411195821, 0.077066006733656406)\n",
      "Analyse performance for pairing 3_4\n",
      "rf (0.55453507918409939, 0.15642399359376505)\n",
      "nb (0.83682481635961536, 0.044367645522255125)\n",
      "knn (0.63586000599705805, 0.11126329174437624)\n",
      "nn (0.6654976250404081, 0.061421095148139371)\n",
      "dt (0.54151672681312679, 0.11765407193461634)\n",
      "Analyse performance for pairing 4_2\n",
      "rf (0.59173151107347799, 0.12773243596766234)\n",
      "nb (0.73935568019374431, 0.1376114076126396)\n",
      "knn (0.57113511186475974, 0.097872609740890196)\n",
      "nn (0.5944058616960235, 0.057958368525753451)\n",
      "dt (0.55416310539106761, 0.11852454603367289)\n"
     ]
    }
   ],
   "source": [
    "config = ['1','2','3','4']\n",
    "pairing = ['1_2','1_4','2_3','3_1','3_4','4_2']\n",
    "tst_ds = []\n",
    "\n",
    "res_all_PCA = []\n",
    "for c in config:\n",
    "    print(\"Testing for configuration\", c)\n",
    "    for p in pairing:\n",
    "        print(\"Analyse performance for pairing\", p)\n",
    "        res = evaluate_performance_PCA_cf(c, p)\n",
    "        res_all_PCA.append(res)\n",
    "        # TODO draw graph\n",
    "        for model in res:\n",
    "            print(model, res[model])"
   ]
  },
  {
   "cell_type": "code",
   "execution_count": 18,
   "metadata": {
    "collapsed": false,
    "scrolled": true
   },
   "outputs": [
    {
     "name": "stdout",
     "output_type": "stream",
     "text": [
      "{'rf', 'knn', 'nb', 'dt', 'nn'}\n",
      "results for prepare_features_PCA_cf() function\n",
      "mean F1 for rf:  0.5658984294210225\n",
      "mean F1 for knn:  0.6341062398202546\n",
      "mean F1 for nb:  0.7539057578388516\n",
      "mean F1 for dt:  0.5584301515922564\n",
      "mean F1 for nn:  0.6634206990718322\n"
     ]
    }
   ],
   "source": [
    "all_keys = set().union(*(d.keys() for d in res_all_PCA))\n",
    "print(all_keys)\n",
    "print(\"results for prepare_features_PCA_cf() function\")\n",
    "for key in all_keys:\n",
    "    print(\"mean F1 for {}:  {}\".format(key, sum(item[key][0] for item in res_all_PCA)/len(res_all_PCA)))"
   ]
  },
  {
   "cell_type": "markdown",
   "metadata": {},
   "source": [
    "## Aufgabe 6: Online Erkenner"
   ]
  },
  {
   "cell_type": "markdown",
   "metadata": {
    "collapsed": true
   },
   "source": [
    "### Serialisierung des Models für den Online Predictor\n",
    "Das zuvor gewählte Model wird serialisiert und in 'models/solution_ueb02' gespeichert damit es beim starten der REST-API geladen werden kann."
   ]
  },
  {
   "cell_type": "code",
   "execution_count": null,
   "metadata": {
    "collapsed": true,
    "scrolled": true
   },
   "outputs": [],
   "source": [
    "from sklearn.externals import joblib\n",
    "joblib.dump(res['dt'], '../../models/solution_ueb02/model.plk')"
   ]
  },
  {
   "cell_type": "markdown",
   "metadata": {},
   "source": [
    "### Starten des online servers\n",
    "#### Hierzu müssen die Abhängigkeiten Flask, flask_restful, flask_cors installiert sein\n",
    "The following command starts a flask_restful server on localhost port:5444 which answers json post requests. The server is implemented in the file online.py within the ipynb folder and makes use of the final chosen model.\n",
    "Requests can be made as post request to http://localhost:5444/predict with a json file of the following format:\n",
    "{ \"row\": \"features\" }\n",
    "be careful that the sent file is valid json. The answer contains the predicted class.\n",
    "{ \"p_class\": \"predicted class\" }\n",
    "For now the online predictor only predicts the class of single lines sent to it"
   ]
  },
  {
   "cell_type": "code",
   "execution_count": 5,
   "metadata": {
    "collapsed": true,
    "scrolled": true
   },
   "outputs": [],
   "source": [
    "# Navigate to notebooks/solution_ueb02 and start the server\n",
    "# with 'python -m online'"
   ]
  },
  {
   "cell_type": "code",
   "execution_count": null,
   "metadata": {
    "collapsed": true,
    "scrolled": true
   },
   "outputs": [],
   "source": [
    "# Nun werden zeilenweise Anfragen an die REST-API simuliert, jeder valider json request wird mit einer\n",
    "# json prediction response beantwortet"
   ]
  },
  {
   "cell_type": "code",
   "execution_count": null,
   "metadata": {
    "collapsed": true,
    "scrolled": true
   },
   "outputs": [],
   "source": []
  },
  {
   "cell_type": "code",
   "execution_count": null,
   "metadata": {
    "collapsed": true,
    "scrolled": true
   },
   "outputs": [],
   "source": []
  }
 ],
 "metadata": {
  "anaconda-cloud": {},
  "kernelspec": {
   "display_name": "Python 3",
   "language": "python",
   "name": "python3"
  },
  "language_info": {
   "codemirror_mode": {
    "name": "ipython",
    "version": 3
   },
   "file_extension": ".py",
   "mimetype": "text/x-python",
   "name": "python",
   "nbconvert_exporter": "python",
   "pygments_lexer": "ipython3",
   "version": "3.6.0"
  }
 },
 "nbformat": 4,
 "nbformat_minor": 1
}
