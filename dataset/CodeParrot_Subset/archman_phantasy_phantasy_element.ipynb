{
 "cells": [
  {
   "cell_type": "markdown",
   "metadata": {
    "deletable": true,
    "editable": true
   },
   "source": [
    "## Element"
   ]
  },
  {
   "cell_type": "markdown",
   "metadata": {
    "deletable": true,
    "editable": true
   },
   "source": [
    "### Import modules/packages"
   ]
  },
  {
   "cell_type": "code",
   "execution_count": 1,
   "metadata": {
    "collapsed": true,
    "deletable": true,
    "editable": true
   },
   "outputs": [],
   "source": [
    "import phantasy"
   ]
  },
  {
   "cell_type": "markdown",
   "metadata": {
    "deletable": true,
    "editable": true
   },
   "source": [
    "### Model Machine"
   ]
  },
  {
   "cell_type": "code",
   "execution_count": 2,
   "metadata": {
    "collapsed": false,
    "deletable": true,
    "editable": true
   },
   "outputs": [
    {
     "name": "stderr",
     "output_type": "stream",
     "text": [
      "WARNING: 2017-05-31 13:27:04,751: phantasy.library.operation.core: Load new machine: FRIB_FE segment: LEBT\n"
     ]
    }
   ],
   "source": [
    "mp = phantasy.MachinePortal(machine='FRIB_FE', segment='LEBT')"
   ]
  },
  {
   "cell_type": "markdown",
   "metadata": {
    "collapsed": true,
    "deletable": true,
    "editable": true
   },
   "source": [
    "### Get Element by *type*"
   ]
  },
  {
   "cell_type": "code",
   "execution_count": 3,
   "metadata": {
    "collapsed": false
   },
   "outputs": [
    {
     "data": {
      "text/plain": [
       "[u'EQUAD', u'HCOR', u'SOL', u'VCOR', u'BEND', u'EBEND', u'PM']"
      ]
     },
     "execution_count": 3,
     "metadata": {},
     "output_type": "execute_result"
    }
   ],
   "source": [
    "mp.get_all_types()"
   ]
  },
  {
   "cell_type": "markdown",
   "metadata": {},
   "source": [
    "#### Example: Electric static Quadrupole"
   ]
  },
  {
   "cell_type": "markdown",
   "metadata": {},
   "source": [
    "##### Get the first equad"
   ]
  },
  {
   "cell_type": "code",
   "execution_count": 4,
   "metadata": {
    "collapsed": true
   },
   "outputs": [],
   "source": [
    "equads = mp.get_elements(type='EQUAD')"
   ]
  },
  {
   "cell_type": "code",
   "execution_count": 5,
   "metadata": {
    "collapsed": false
   },
   "outputs": [
    {
     "data": {
      "text/plain": [
       "[FE_SCS1:QHE_D0726 [EQUAD] @ sb=1.800000,\n",
       " FE_SCS1:QVE_D0730 [EQUAD] @ sb=2.135000,\n",
       " FE_SCS1:QHE_D0733 [EQUAD] @ sb=2.470000,\n",
       " FE_SCS1:QHE_D0743 [EQUAD] @ sb=3.430000,\n",
       " FE_SCS1:QVE_D0746 [EQUAD] @ sb=3.765000,\n",
       " FE_SCS1:QHE_D0749 [EQUAD] @ sb=4.100000,\n",
       " FE_LEBT:QVE_D0767 [EQUAD] @ sb=5.875000,\n",
       " FE_LEBT:QHE_D0770 [EQUAD] @ sb=6.210000,\n",
       " FE_LEBT:QHE_D0776 [EQUAD] @ sb=6.805000,\n",
       " FE_LEBT:QVE_D0780 [EQUAD] @ sb=7.140000,\n",
       " FE_LEBT:QHE_D0844 [EQUAD] @ sb=13.615300,\n",
       " FE_LEBT:QVE_D0848 [EQUAD] @ sb=13.950300,\n",
       " FE_LEBT:QHE_D0851 [EQUAD] @ sb=14.285300,\n",
       " FE_LEBT:QVE_D0871 [EQUAD] @ sb=16.264050,\n",
       " FE_LEBT:QHE_D0874 [EQUAD] @ sb=16.599050,\n",
       " FE_LEBT:QVE_D0878 [EQUAD] @ sb=16.934050,\n",
       " FE_LEBT:QVE_D0891 [EQUAD] @ sb=18.294050,\n",
       " FE_LEBT:QHE_D0895 [EQUAD] @ sb=18.629050,\n",
       " FE_LEBT:QVE_D0898 [EQUAD] @ sb=18.964050,\n",
       " FE_LEBT:QHE_D0918 [EQUAD] @ sb=20.942800,\n",
       " FE_LEBT:QVE_D0921 [EQUAD] @ sb=21.277800,\n",
       " FE_LEBT:QHE_D0924 [EQUAD] @ sb=21.612800]"
      ]
     },
     "execution_count": 5,
     "metadata": {},
     "output_type": "execute_result"
    }
   ],
   "source": [
    "equads"
   ]
  },
  {
   "cell_type": "code",
   "execution_count": 6,
   "metadata": {
    "collapsed": false
   },
   "outputs": [
    {
     "data": {
      "text/plain": [
       "FE_SCS1:QHE_D0726 [EQUAD] @ sb=1.800000"
      ]
     },
     "execution_count": 6,
     "metadata": {},
     "output_type": "execute_result"
    }
   ],
   "source": [
    "# first equad\n",
    "equad0 = equads[0]\n",
    "equad0"
   ]
  },
  {
   "cell_type": "markdown",
   "metadata": {},
   "source": [
    "##### Investigate the equad"
   ]
  },
  {
   "cell_type": "code",
   "execution_count": 7,
   "metadata": {
    "collapsed": false
   },
   "outputs": [
    {
     "name": "stdout",
     "output_type": "stream",
     "text": [
      "Index    : 10\n",
      "Name     : FE_SCS1:QHE_D0726\n",
      "Family   : EQUAD\n",
      "Location : (begin) 1.800000 (end) 2.000000\n",
      "Length   : 0.200000\n",
      "Groups   : set([u'EQUAD'])\n",
      "PVs      : [u'VA:FE_SCS1:QHE_D726:V_CSET', u'VA:FE_SCS1:QHE_D726:V_RSET', u'VA:FE_SCS1:QHE_D726:V_RD']\n",
      "Tags     : {u'VA:FE_SCS1:QHE_D726:V_CSET': set([u'phyutil.sys.LEBT', u'phyutil.sub.SCS1', u'phyutil.sys.FE']), u'VA:FE_SCS1:QHE_D726:V_RSET': set([u'phyutil.sys.LEBT', u'phyutil.sub.SCS1', u'phyutil.sys.FE']), u'VA:FE_SCS1:QHE_D726:V_RD': set([u'phyutil.sys.LEBT', u'phyutil.sub.SCS1', u'phyutil.sys.FE'])}\n",
      "Fields   : [u'V']\n"
     ]
    }
   ],
   "source": [
    "print(\"Index    : %d\" % equad0.index)\n",
    "print(\"Name     : %s\" % equad0.name)\n",
    "print(\"Family   : %s\" % equad0.family)\n",
    "print(\"Location : (begin) %f (end) %f\" % (equad0.sb, equad0.se))\n",
    "print(\"Length   : %f\" % equad0.length)\n",
    "print(\"Groups   : %s\" % equad0.group)\n",
    "print(\"PVs      : %s\" % equad0.pv())\n",
    "print(\"Tags     : %s\" % equad0.tags)\n",
    "print(\"Fields   : %s\" % equad0.fields)"
   ]
  },
  {
   "cell_type": "markdown",
   "metadata": {},
   "source": [
    "##### Dynamic field: V\n",
    "All available dynamic fields could be retrieved by ``equad0.fields`` (for ``equad0`` here, there is only one field, i.e. ``V``)."
   ]
  },
  {
   "cell_type": "code",
   "execution_count": 8,
   "metadata": {
    "collapsed": false
   },
   "outputs": [
    {
     "data": {
      "text/plain": [
       "1500.9503378615887"
      ]
     },
     "execution_count": 8,
     "metadata": {},
     "output_type": "execute_result"
    }
   ],
   "source": [
    "equad0.V"
   ]
  },
  {
   "cell_type": "markdown",
   "metadata": {},
   "source": [
    "**Get values**\n",
    "\n",
    "If only *readback* value is of interest, **Approach 1** is recommanded and most natural."
   ]
  },
  {
   "cell_type": "code",
   "execution_count": 9,
   "metadata": {
    "collapsed": false
   },
   "outputs": [
    {
     "name": "stdout",
     "output_type": "stream",
     "text": [
      "Readback: 1500.950338\n"
     ]
    }
   ],
   "source": [
    "# Approach 1: dynamic field feature (readback PV)\n",
    "print(\"Readback: %f\" % equad0.V)"
   ]
  },
  {
   "cell_type": "code",
   "execution_count": 10,
   "metadata": {
    "collapsed": false
   },
   "outputs": [
    {
     "name": "stdout",
     "output_type": "stream",
     "text": [
      "Readback: [1500.9503378615887]\n"
     ]
    }
   ],
   "source": [
    "# Approach 2: caget(pv_name)\n",
    "pv_rdbk = equad0.pv(field='V', handle='readback')\n",
    "print(\"Readback: %s\" % phantasy.caget(pv_rdbk))"
   ]
  },
  {
   "cell_type": "code",
   "execution_count": 11,
   "metadata": {
    "collapsed": false
   },
   "outputs": [
    {
     "name": "stdout",
     "output_type": "stream",
     "text": [
      "Readback: 1500.950338\n",
      "Setpoint: 1500.000000\n",
      "Readset : 1500.000000\n"
     ]
    }
   ],
   "source": [
    "# Approach 3: CaField\n",
    "v_field = equad0.get_field('V')\n",
    "print(\"Readback: %f\" % v_field.get(handle='readback'))\n",
    "print(\"Setpoint: %f\" % v_field.get(handle='setpoint'))\n",
    "print(\"Readset : %f\" % v_field.get(handle='readset'))"
   ]
  },
  {
   "cell_type": "markdown",
   "metadata": {},
   "source": [
    "**Set values**\n",
    "\n",
    "Always **Approach 1** is recommanded."
   ]
  },
  {
   "cell_type": "code",
   "execution_count": 12,
   "metadata": {
    "collapsed": true
   },
   "outputs": [],
   "source": [
    "# Save orignal set value for 'V' field\n",
    "v0 = equad0.get_field('V').get(handle='setpoint')"
   ]
  },
  {
   "cell_type": "code",
   "execution_count": 13,
   "metadata": {
    "collapsed": false
   },
   "outputs": [],
   "source": [
    "# Approach 1: dynamic field feature (setpoint PV)\n",
    "equad0.V = 2000"
   ]
  },
  {
   "cell_type": "code",
   "execution_count": 14,
   "metadata": {
    "collapsed": false
   },
   "outputs": [
    {
     "data": {
      "text/plain": [
       "[cothread.catools.ca_nothing()]"
      ]
     },
     "execution_count": 14,
     "metadata": {},
     "output_type": "execute_result"
    }
   ],
   "source": [
    "# Approach 2: caput(pv_name)\n",
    "pv_cset = equad0.pv(field='V', handle='setpoint')\n",
    "phantasy.caput(pv_cset, 1000)"
   ]
  },
  {
   "cell_type": "code",
   "execution_count": 15,
   "metadata": {
    "collapsed": true
   },
   "outputs": [],
   "source": [
    "# Approach 3: CaField\n",
    "v_field = equad0.get_field('V')\n",
    "v_field.set(handle='setpoint', value=1500)"
   ]
  }
 ],
 "metadata": {
  "kernelspec": {
   "display_name": "Python 2",
   "language": "python",
   "name": "python2"
  },
  "language_info": {
   "codemirror_mode": {
    "name": "ipython",
    "version": 2
   },
   "file_extension": ".py",
   "mimetype": "text/x-python",
   "name": "python",
   "nbconvert_exporter": "python",
   "pygments_lexer": "ipython2",
   "version": "2.7.12"
  }
 },
 "nbformat": 4,
 "nbformat_minor": 2
}
