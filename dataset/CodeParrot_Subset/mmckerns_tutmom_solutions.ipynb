{
 "cells": [
  {
   "cell_type": "markdown",
   "metadata": {},
   "source": [
    "# Solutions to exercises"
   ]
  },
  {
   "cell_type": "markdown",
   "metadata": {
    "collapsed": true
   },
   "source": [
    "**EXERCISE:** Solve the constrained programming problem by any of the means above.\n",
    "\n",
    "Minimize: f = -1*x[0] + 4*x[1]\n",
    "\n",
    "Subject to: <br>\n",
    "-3*x[0] + 1*x[1] <= 6 <br>\n",
    "1*x[0] + 2*x[1] <= 4 <br>\n",
    "x[1] >= -3 <br>\n",
    "\n",
    "where:  -inf <= x[0] <= inf"
   ]
  },
  {
   "cell_type": "code",
   "execution_count": 1,
   "metadata": {},
   "outputs": [
    {
     "name": "stdout",
     "output_type": "stream",
     "text": [
      "     pcost       dcost       gap    pres   dres\n",
      " 0:  5.0678e+00 -9.4861e+00  1e+01  5e-17  3e+00\n",
      " 1: -2.0709e+00 -5.9266e+00  4e+00  3e-16  1e+00\n",
      " 2:  9.5642e+00  4.5499e-01  9e+00  4e-16  1e+00\n",
      " 3: -9.7286e+00 -1.7466e+01  8e+00  1e-16  1e+00\n",
      " 4: -1.0434e+01 -1.2174e+01  2e+00  1e-16  3e-01\n",
      " 5: -2.1723e+01 -2.3939e+01  2e+00  5e-16  3e-01\n",
      " 6: -2.0193e+01 -2.2545e+01  2e+00  3e-16  5e-16\n",
      " 7: -2.1980e+01 -2.2014e+01  3e-02  1e-16  1e-15\n",
      " 8: -2.2000e+01 -2.2000e+01  3e-04  6e-16  1e-16\n",
      " 9: -2.2000e+01 -2.2000e+01  3e-06  5e-16  2e-16\n",
      "Optimal solution found.\n",
      "[ 1.00e+01]\n",
      "[-3.00e+00]\n",
      "\n"
     ]
    }
   ],
   "source": [
    "import cvxopt as cvx\n",
    "from cvxopt import solvers as cvx_solvers\n",
    "Q = cvx.matrix([[0.,0.],[0.,0.]])\n",
    "p = cvx.matrix([-1., 4.])\n",
    "G = cvx.matrix([[-3., 1., 0.],[1., 2., -1.]])\n",
    "h = cvx.matrix([6., 4., 3.])\n",
    "sol = cvx_solvers.qp(Q, p, G, h)\n",
    "print(sol['x'])"
   ]
  },
  {
   "cell_type": "markdown",
   "metadata": {},
   "source": [
    "**EXERCISE:** Use any of the solvers we've seen thus far to find the minimum of the `zimmermann` function (i.e. use `mystic.models.zimmermann` as the objective).  Use the bounds suggested below, if your choice of solver allows it."
   ]
  },
  {
   "cell_type": "code",
   "execution_count": 2,
   "metadata": {},
   "outputs": [
    {
     "name": "stdout",
     "output_type": "stream",
     "text": [
      "[ 7.  2.]\n"
     ]
    }
   ],
   "source": [
    "import scipy.optimize as opt\n",
    "import mystic.models\n",
    "result = opt.minimize(mystic.models.zimmermann, [10., 1.], method='powell')\n",
    "print(result.x)"
   ]
  },
  {
   "cell_type": "markdown",
   "metadata": {},
   "source": [
    "**EXERCISE:** Do the same for the `fosc3d` function found at `mystic.models.fosc3d`, using the bounds suggested by the documentation, if your chosen solver accepts bounds or constraints."
   ]
  },
  {
   "cell_type": "code",
   "execution_count": 3,
   "metadata": {},
   "outputs": [
    {
     "name": "stdout",
     "output_type": "stream",
     "text": [
      "[-0.21501755  0.24035588]\n"
     ]
    }
   ],
   "source": [
    "import scipy.optimize as opt\n",
    "import mystic.models\n",
    "result = opt.minimize(mystic.models.fosc3d, [-5., 0.5], method='powell')\n",
    "print(result.x)"
   ]
  },
  {
   "cell_type": "markdown",
   "metadata": {},
   "source": [
    "**EXERCISE:** Use `mystic` to find the minimum for the `peaks` test function, with the bound specified by the `mystic.models.peaks` documentation."
   ]
  },
  {
   "cell_type": "code",
   "execution_count": 4,
   "metadata": {},
   "outputs": [
    {
     "name": "stdout",
     "output_type": "stream",
     "text": [
      "Optimization terminated successfully.\n",
      "         Current function value: -6.551133\n",
      "         Iterations: 3\n",
      "         Function evaluations: 77\n",
      "[ 0.22827892 -1.62553492]\n"
     ]
    }
   ],
   "source": [
    "import mystic\n",
    "import mystic.models\n",
    "result = mystic.solvers.fmin_powell(mystic.models.peaks, [0., -2.], bounds=[(-5.,5.)]*2)\n",
    "print(result)"
   ]
  },
  {
   "cell_type": "markdown",
   "metadata": {},
   "source": [
    "**EXERCISE:** Use `mystic` to do a fit to the noisy data in the `scipy.optimize.curve_fit` example (the least squares fit)."
   ]
  },
  {
   "cell_type": "code",
   "execution_count": 5,
   "metadata": {},
   "outputs": [
    {
     "name": "stdout",
     "output_type": "stream",
     "text": [
      "target parameters: [3, 2, 1, 0.7853981633974483]\n",
      "Optimization terminated successfully.\n",
      "         Current function value: 4.698514\n",
      "         Iterations: 9\n",
      "         Function evaluations: 908\n",
      "solved parameters: [ 3.34271079  1.89338122  1.02510143  0.69305712]\n"
     ]
    }
   ],
   "source": [
    "import numpy as np\n",
    "import scipy.stats as stats\n",
    "from mystic.solvers import fmin_powell\n",
    "from mystic import reduced\n",
    "\n",
    "# Define the function to fit.\n",
    "def function(coeffs, x):\n",
    "    a,b,f,phi = coeffs\n",
    "    return a * np.exp(-b * np.sin(f * x + phi))\n",
    "\n",
    "# Create a noisy data set around the actual parameters\n",
    "true_params = [3, 2, 1, np.pi/4]\n",
    "print(\"target parameters: {}\".format(true_params))\n",
    "x = np.linspace(0, 2*np.pi, 25)\n",
    "exact = function(true_params, x)\n",
    "noisy = exact + 0.3*stats.norm.rvs(size=len(x))\n",
    "\n",
    "# Define an objective that fits against the noisy data\n",
    "@reduced(lambda x,y: abs(x)+abs(y))\n",
    "def objective(coeffs, x, y):\n",
    "    return function(coeffs, x) - y\n",
    "\n",
    "# Use curve_fit to estimate the function parameters from the noisy data.\n",
    "initial_guess = [1,1,1,1]\n",
    "args = (x, noisy)\n",
    "estimated_params = fmin_powell(objective, initial_guess, args=args)\n",
    "print(\"solved parameters: {}\".format(estimated_params))"
   ]
  },
  {
   "cell_type": "markdown",
   "metadata": {},
   "source": [
    "**EXERCISE:** Solve the `chebyshev8.cost` example exactly, by applying the knowledge that the last term in the chebyshev polynomial will always be be one. Use `numpy.round` or `mystic.constraints.integers` or to constrain solutions to the set of integers.  Does using `mystic.suppressed` to supress small numbers accelerate the solution?"
   ]
  },
  {
   "cell_type": "code",
   "execution_count": 6,
   "metadata": {},
   "outputs": [
    {
     "name": "stdout",
     "output_type": "stream",
     "text": [
      "Differential Evolution\n",
      "======================\n",
      "Generation 0 has Chi-Squared: 18689.689184\n",
      "Generation 0 has fit parameters:\n",
      " [5.0, -54.0, 25.0, 5.0, -33.0, 88.0, 26.0, -17.0, 1.0]\n",
      "Generation 50 has Chi-Squared: 264.494065\n",
      "Generation 50 has fit parameters:\n",
      " [247.0, -9.0, -419.0, 28.0, 203.0, -23.0, -23.0, 6.0, 1.0]\n",
      "STOP(\"CollapseAt with {'tolerance': 0.0001, 'mask': None, 'generations': 2, 'target': 0.0} at {5}\")\n",
      "Generation 100 has Chi-Squared: 37.659874\n",
      "Generation 100 has fit parameters:\n",
      " [150.0, 15.0, -296.0, -15.0, 179.0, -0.0, -32.0, 1.0, 1.0]\n",
      "STOP(\"CollapseAt with {'tolerance': 0.0001, 'mask': {5}, 'generations': 2, 'target': 0.0} at {7}\")\n",
      "STOP(\"CollapseAt with {'tolerance': 0.0001, 'mask': {5, 7}, 'generations': 2, 'target': 0.0} at {1, 3}\")\n",
      "STOP(\"VTR with {'tolerance': 0.0001, 'target': 0.0}\")\n",
      "Generation 143 has best Chi-Squared: 0.000000\n",
      "     8       6       4      2\n",
      "128 x - 256 x + 160 x - 32 x + 1\n",
      "\n",
      "Actual Coefficients:\n",
      "      8       6       4      2\n",
      "128 x - 256 x + 160 x - 32 x + 1\n",
      "\n"
     ]
    }
   ],
   "source": [
    "# Differential Evolution solver\n",
    "from mystic.solvers import DifferentialEvolutionSolver2\n",
    "\n",
    "# Chebyshev polynomial and cost function\n",
    "from mystic.models.poly import chebyshev8, chebyshev8cost\n",
    "from mystic.models.poly import chebyshev8coeffs\n",
    "\n",
    "# tools\n",
    "from mystic.termination import VTR, CollapseAt, Or\n",
    "from mystic.strategy import Best1Exp\n",
    "from mystic.monitors import VerboseMonitor\n",
    "from mystic.tools import random_seed\n",
    "from mystic.math import poly1d\n",
    "import numpy as np\n",
    "\n",
    "\n",
    "if __name__ == '__main__':\n",
    "\n",
    "    print(\"Differential Evolution\")\n",
    "    print(\"======================\")\n",
    "    ndim = 9\n",
    "    random_seed(123)\n",
    "\n",
    "    # configure monitor\n",
    "    stepmon = VerboseMonitor(50,50)\n",
    "\n",
    "    # build a constraints function\n",
    "    def constraints(x):\n",
    "        x[-1] = 1.\n",
    "        return np.round(x)\n",
    "\n",
    "    stop = Or(VTR(0.0001), CollapseAt(0.0, generations=2))\n",
    "\n",
    "    # use DE to solve 8th-order Chebyshev coefficients\n",
    "    npop = 10*ndim\n",
    "    solver = DifferentialEvolutionSolver2(ndim,npop)\n",
    "    solver.SetRandomInitialPoints(min=[-100]*ndim, max=[100]*ndim)\n",
    "    solver.SetGenerationMonitor(stepmon)\n",
    "    solver.SetConstraints(constraints)\n",
    "    solver.enable_signal_handler()\n",
    "    solver.Solve(chebyshev8cost, termination=stop, strategy=Best1Exp, \\\n",
    "                 CrossProbability=1.0, ScalingFactor=0.9)\n",
    "    solution = solver.Solution()\n",
    "\n",
    "    # use monitor to retrieve results information\n",
    "    iterations = len(stepmon)\n",
    "    cost = stepmon.y[-1]\n",
    "    print(\"Generation %d has best Chi-Squared: %f\" % (iterations, cost))\n",
    "\n",
    "    # use pretty print for polynomials\n",
    "    print(poly1d(solution))\n",
    "\n",
    "    # compare solution with actual 8th-order Chebyshev coefficients\n",
    "    print(\"\\nActual Coefficients:\\n %s\\n\" % poly1d(chebyshev8coeffs))"
   ]
  },
  {
   "cell_type": "markdown",
   "metadata": {},
   "source": [
    "**EXERCISE:** Replace the symbolic constraints in the following \"Pressure Vessel Design\" code with explicit penalty functions (i.e. use a compound penalty built with `mystic.penalty.quadratic_inequality`)."
   ]
  },
  {
   "cell_type": "code",
   "execution_count": 7,
   "metadata": {},
   "outputs": [
    {
     "name": "stdout",
     "output_type": "stream",
     "text": [
      "Optimization terminated successfully.\n",
      "         Current function value: 5804.376208\n",
      "         Iterations: 839\n",
      "         Function evaluations: 33600\n",
      "[   0.72759093    0.35964857   37.69901188  240.        ]\n"
     ]
    }
   ],
   "source": [
    "\"Pressure Vessel Design\"\n",
    "\n",
    "def objective(x):\n",
    "    x0,x1,x2,x3 = x\n",
    "    return 0.6224*x0*x2*x3 + 1.7781*x1*x2**2 + 3.1661*x0**2*x3 + 19.84*x0**2*x2\n",
    "\n",
    "bounds = [(0,1e6)]*4\n",
    "# with penalty='penalty' applied, solution is:\n",
    "xs = [0.72759093, 0.35964857, 37.69901188, 240.0]\n",
    "ys = 5804.3762083\n",
    "\n",
    "from mystic.constraints import as_constraint\n",
    "from mystic.penalty import quadratic_inequality\n",
    "\n",
    "def penalty1(x): # <= 0.0\n",
    "    return -x[0] + 0.0193*x[2]\n",
    "\n",
    "def penalty2(x): # <= 0.0\n",
    "    return -x[1] + 0.00954*x[2]\n",
    "\n",
    "def penalty3(x): # <= 0.0\n",
    "    from math import pi\n",
    "    return -pi*x[2]**2*x[3] - (4/3.)*pi*x[2]**3 + 1296000.0\n",
    "\n",
    "def penalty4(x): # <= 0.0\n",
    "    return x[3] - 240.0\n",
    "\n",
    "@quadratic_inequality(penalty1, k=1e12)\n",
    "@quadratic_inequality(penalty2, k=1e12)\n",
    "@quadratic_inequality(penalty3, k=1e12)\n",
    "@quadratic_inequality(penalty4, k=1e12)\n",
    "def penalty(x):\n",
    "    return 0.0\n",
    "\n",
    "\n",
    "if __name__ == '__main__':\n",
    "\n",
    "    from mystic.solvers import diffev2\n",
    "    from mystic.math import almostEqual\n",
    "\n",
    "    result = diffev2(objective, x0=bounds, bounds=bounds, penalty=penalty,\n",
    "                     npop=40, gtol=500, disp=True, full_output=True)\n",
    "    print(result[0])"
   ]
  },
  {
   "cell_type": "markdown",
   "metadata": {},
   "source": [
    "**EXERCISE:** Solve the `cvxopt` \"qp\" example with `mystic`.  Use symbolic constaints, penalty functions, or constraints operators.  If you get it quickly, do all three methods."
   ]
  },
  {
   "cell_type": "code",
   "execution_count": 8,
   "metadata": {},
   "outputs": [
    {
     "name": "stdout",
     "output_type": "stream",
     "text": [
      "[ 0.25000001  0.74999999]\n"
     ]
    }
   ],
   "source": [
    "def objective(x):\n",
    "    x0,x1 = x\n",
    "    return 2*x0**2 + x1**2 + x0*x1 + x0 + x1\n",
    "\n",
    "bounds = [(0.0, None),(0.0, None)]\n",
    "\n",
    "# with penalty='penalty' applied, solution is:\n",
    "xs = [0.25, 0.75]\n",
    "ys = 1.875\n",
    "\n",
    "from mystic.math.measures import normalize\n",
    "\n",
    "def constraint(x): # impose exactly\n",
    "    return normalize(x, 1.0)\n",
    "\n",
    "\n",
    "if __name__ == '__main__':\n",
    "\n",
    "    from mystic.solvers import diffev2, fmin_powell\n",
    "\n",
    "    result = diffev2(objective, x0=bounds, bounds=bounds, npop=40,\n",
    "                     constraints=constraint, disp=False, full_output=True)\n",
    "    print(result[0])"
   ]
  },
  {
   "cell_type": "markdown",
   "metadata": {},
   "source": [
    "**EXERCISE:** Convert one of our previous `mystic` examples to use parallel computing.  Note that if the solver has a `SetMapper` method, it can take a parallel map."
   ]
  },
  {
   "cell_type": "code",
   "execution_count": 9,
   "metadata": {},
   "outputs": [
    {
     "name": "stdout",
     "output_type": "stream",
     "text": [
      "Generation 0 has Chi-Squared: 1613.748959\n",
      "Generation 10 has Chi-Squared: 9.454376\n",
      "Generation 20 has Chi-Squared: 0.303547\n",
      "Generation 30 has Chi-Squared: 0.008984\n",
      "Generation 40 has Chi-Squared: 0.002842\n",
      "Generation 50 has Chi-Squared: 0.000096\n",
      "Generation 60 has Chi-Squared: 0.000083\n",
      "Generation 70 has Chi-Squared: 0.000002\n",
      "Generation 80 has Chi-Squared: 0.000000\n",
      "Generation 90 has Chi-Squared: 0.000000\n",
      "Generation 100 has Chi-Squared: 0.000000\n",
      "STOP(\"ChangeOverGeneration with {'tolerance': 1e-06, 'generations': 30}; VTR with {'tolerance': 0.005, 'target': 0.0}\")\n",
      "[ 0.99994559  0.99988963  0.99978792]\n"
     ]
    }
   ],
   "source": [
    "from mystic.termination import VTR, ChangeOverGeneration, And, Or\n",
    "stop = Or(And(VTR(), ChangeOverGeneration()), VTR(1e-8))\n",
    "\n",
    "from mystic.models import rosen\n",
    "from mystic.monitors import VerboseMonitor\n",
    "from mystic.solvers import DifferentialEvolutionSolver2\n",
    "\n",
    "from pathos.pools import ThreadPool\n",
    "\n",
    "\n",
    "if __name__ == '__main__':\n",
    "\n",
    "    solver = DifferentialEvolutionSolver2(3,40)\n",
    "    solver.SetRandomInitialPoints([-10,-10,-10],[10,10,10])\n",
    "    solver.SetGenerationMonitor(VerboseMonitor(10))\n",
    "    solver.SetMapper(ThreadPool().map) #NOTE: evaluation of objective in parallel\n",
    "    solver.SetTermination(stop)\n",
    "    solver.SetObjective(rosen)\n",
    "    solver.SetStrictRanges([-10,-10,-10],[10,10,10])\n",
    "    solver.SetEvaluationLimits(generations=600)\n",
    "    solver.Solve()\n",
    "\n",
    "    print(solver.bestSolution)"
   ]
  },
  {
   "cell_type": "code",
   "execution_count": null,
   "metadata": {
    "collapsed": true
   },
   "outputs": [],
   "source": []
  }
 ],
 "metadata": {
  "kernelspec": {
   "display_name": "Python 3",
   "language": "python",
   "name": "python3"
  },
  "language_info": {
   "codemirror_mode": {
    "name": "ipython",
    "version": 3
   },
   "file_extension": ".py",
   "mimetype": "text/x-python",
   "name": "python",
   "nbconvert_exporter": "python",
   "pygments_lexer": "ipython3",
   "version": "3.5.3"
  }
 },
 "nbformat": 4,
 "nbformat_minor": 1
}
