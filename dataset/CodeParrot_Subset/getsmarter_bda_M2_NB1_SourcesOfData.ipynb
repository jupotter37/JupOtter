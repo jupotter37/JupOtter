{
 "cells": [
  {
   "cell_type": "markdown",
   "metadata": {},
   "source": [
    "<div align=\"right\">Python 3.6 Jupyter Notebook</div>"
   ]
  },
  {
   "cell_type": "markdown",
   "metadata": {},
   "source": [
    "# Sources of data"
   ]
  },
  {
   "cell_type": "markdown",
   "metadata": {},
   "source": [
    "### Your completion of the notebook exercises will be graded based on your ability to do the following: \n",
    "\n",
    "> **Apply**: Are you able to execute code (using the supplied examples) that performs the required functionality on supplied or generated data sets? \n",
    "\n",
    "> **Evaluate**: Are you able to interpret the results and justify your interpretation based on the observed data?\n",
    "\n",
    "> **Create**: Are you able to produce notebooks that serve as computational records of a session and can be used to share your insights with others? "
   ]
  },
  {
   "cell_type": "markdown",
   "metadata": {},
   "source": [
    "#### Notebook objectives\n",
    "By the end of this notebook you will be expected to:\n",
    "> \n",
    "  - Use \"trusted\" and \"untrusted\" data sources to enrich your analysis;\n",
    "  and\n",
    "  - Understand the implications of the five Rs on data quality from external sources.\n",
    "    \n",
    "####  List of exercises\n",
    ">   - **Exercise 1**: Enriching analysis with data from \"trusted\" sources.\n",
    "  - **Exercise 2**: Pros and cons of using data from \"untrusted\" sources."
   ]
  },
  {
   "cell_type": "markdown",
   "metadata": {},
   "source": [
    "# Notebook introduction\n",
    "\n",
    "Data collection is expensive and time consuming, as Arek Stopczynski alluded to in this module's video content.\n",
    "In some cases, you will be lucky enough to have existing datasets available to support your analysis. You may have datasets from previous analyses, access to data providers, or curated datasets from your organization. In many cases, however, you will not have access to the data that you require to support your analysis, and you will have to find alternate mechanisms. \n",
    "The data quality requirements will differ based on the problem you are trying to solve. Taking the hypothetical case of geocoding a location, which was introduced in Module 1, the accuracy of the geocoded location does not need to be exact when you are simply trying to plot the locations of students on a map. Geocoding a location for an automated vehicle to turn off the highway, on the other hand, has an entirely different accuracy requirement.\n",
    "\n",
    "> **Note**:\n",
    "\n",
    "> Those of you who work in large organizations may be privileged enough to have company data governance and data quality initiatives. These efforts and teams can often add significant value both in terms of supplying company-standard curated data, and making you aware of the internal policies that need to be adhered to.\n",
    "\n",
    "As a data analyst or data scientist, it is important to be aware of the implications of your decisions. You need to choose the appropriate set of tools and methods to deal with sourcing and supplying data.\n",
    "\n",
    "Technology has matured in recent years, and allowed access to a host of sources of data that can be used in your analyses. In many cases you can access free resources, or obtain (at a cost) data that has been curated, is at a lower latency, or comes with a service-level agreement. Some governments have even made datasets publicly available.\n",
    "\n",
    "You have been introduced to [OpenPDS](http://openpds.media.mit.edu/), in the video content, where the focus shifts from supplying raw data -- where the provider needs to apply security principles before sharing datasets -- to supplying answers rather than data. OpenPDS allows users to collect, store, and control access to their data, while also allowing them to protect their privacy. In this way, users still have ownership of their data, as defined by the new deal on data. \n",
    "\n",
    "This notebook demonstrates another example of how to source external data to enrich your analyses. The Python ecosystem contains a rich set of tools and libraries that can help you to exploit the available resources.\n",
    "\n",
    "This course will not go into detail regarding the various options to source and interact with social data from sources such as Twitter, LinkedIn, Facebook, and Google Plus. However, you should be able to find libraries that will assist you in sourcing and manipulating these sources of data.\n",
    "\n",
    "Twitter data is a good example because, depending on the options selected by the Twitter user, every tweet contains not just the message or content that most users are aware of. It also contains a view of the network of the person, home location, location from which the message was sent, and a number of other features that can be very useful when studying networks around a topic of interest. Professor Alex Pentland pointed out the difference in what you share with the world (how you want to be seen) compared to what you actually do and believe (what you commit to).  Be sure to keep these concepts in mind when you start exploring the additional sources of data. Those who are interested in the topic can start to explore the options by visiting the [Twitter library on PyPI](https://pypi.python.org/pypi/twitter). \n",
    "\n",
    "Start with the **five Rs** introduced in Module 1, and consider the following questions:\n",
    "- How accurate does my dataset need to be?\n",
    "- How often should the dataset be updated?\n",
    "- What happens if the data provider is no longer available?\n",
    "- Do I need to adhere to any organizational standards to ensure consistent reporting or integration with other applications?\n",
    "- Are there any implications to getting the values wrong?\n",
    "\n",
    "You may need to start with “untrusted” data sources as a means of validating that your analysis can be executed. Once this is done, you can replace the untrusted components with trusted and curated datasets, as your analysis matures."
   ]
  },
  {
   "cell_type": "markdown",
   "metadata": {},
   "source": [
    "<div class=\"alert alert-warning\">\n",
    "<b>Note</b>:<br>\n",
    "It is strongly recommended that you save and checkpoint after applying significant changes or completing exercises. This allows you to return the notebook to a previous state should you wish to do so. On the Jupyter menu, select \"File\", then \"Save and Checkpoint\" from the dropdown menu that appears.\n",
    "</div>"
   ]
  },
  {
   "cell_type": "markdown",
   "metadata": {},
   "source": [
    "#### Load libraries and set options"
   ]
  },
  {
   "cell_type": "code",
   "execution_count": null,
   "metadata": {
    "collapsed": true
   },
   "outputs": [],
   "source": [
    "import pandas as pd\n",
    "from pandas_datareader import data, wb\n",
    "import numpy as np\n",
    "import matplotlib.pylab as plt\n",
    "import matplotlib\n",
    "import folium\n",
    "import geocoder\n",
    "import wikipedia\n",
    "\n",
    "#set plot options\n",
    "%matplotlib inline\n",
    "matplotlib.rcParams['figure.figsize'] = (10, 8)"
   ]
  },
  {
   "cell_type": "markdown",
   "metadata": {},
   "source": [
    "# 1. Source additional data from public sources \n",
    "This section will provide short examples to demonstrate the use of public data sources in your notebooks.\n",
    "\n",
    "## 1.1 World Bank\n",
    "\n",
    "This example demonstrates how to source data from an external source to enrich your existing analyses. You will need to combine the data sources and add additional features to the example of student locations plotted on the world map in Module 1's Notebook 3.\n",
    "\n",
    "The specific indicator chosen has little relevance other than to demonstrate the process that you will typically follow in completing your projects. Population counts, from an untrusted source, will be added to your map, and you will use scaling factors combined with the number of students, and population size of the country to demonstrate adding external data with minimal effort.\n",
    "\n",
    "This example makes use of the [pandas-datareader](https://pandas-datareader.readthedocs.io/en/latest/) module, which supports remote data access. This library has support for extracting data from various internet sources into a Pandas DataFrame. Currently, the supported sources are:\n",
    "\n",
    "- Google Finance\n",
    "- Enigma\n",
    "- Quandl\n",
    "- St.Louis FED (FRED)\n",
    "- Kenneth French’s data library\n",
    "- World Bank\n",
    "- OECD\n",
    "- Eurostat\n",
    "- Thrift Savings Plan\n",
    "- Nasdaq Trader symbol definitions.\n",
    "\n",
    "This example focuses on enriching your student dataset from Module 1, using the [World Bank's Development Indicators](https://pandas-datareader.readthedocs.io/en/latest/remote_data.html#world-bank). In the following sections, you will use the data you saved in a previous exercise, add corresponding indicators for each country in the data, and find the mean location for all observed coordinates per country."
   ]
  },
  {
   "cell_type": "markdown",
   "metadata": {},
   "source": [
    "#### Prepare the student data\n",
    "In the next code cell, you will load the data from disk, apply the `groupby` method to group the data by country and, for each group, find the total student count and the average of their GPS coordinates. The final dataset containing the country, student count, and averaged GPS coordinates is saved as a separate DataFrame variable. "
   ]
  },
  {
   "cell_type": "code",
   "execution_count": null,
   "metadata": {
    "collapsed": true
   },
   "outputs": [],
   "source": [
    "# Load the grouped_geocoded dataset from Module 1.\n",
    "df1 = pd.read_csv('data/grouped_geocoded.csv',index_col=[0])\n",
    "\n",
    "# Prepare the student location dataset for use in this example.\n",
    "# We use the geometrical center by obtaining the mean location for all observed coordinates per country.\n",
    "df2 = df1.groupby('country').agg({'student_count': [np.sum], 'lat': [np.mean], \n",
    "                                  'long': [np.mean]}).reset_index()\n",
    "# Reset the index.\n",
    "df3 = df2.reset_index(level=1, drop=True)"
   ]
  },
  {
   "cell_type": "code",
   "execution_count": null,
   "metadata": {},
   "outputs": [],
   "source": [
    "# Review the data\n",
    "df3.head()"
   ]
  },
  {
   "cell_type": "markdown",
   "metadata": {},
   "source": [
    "The column label index has multiple levels. Although this is useful metadata, it would be better to drop multilevel labeling and, instead, rename the columns to capture this information."
   ]
  },
  {
   "cell_type": "code",
   "execution_count": null,
   "metadata": {},
   "outputs": [],
   "source": [
    "df3.columns = df3.columns.droplevel(1)\n",
    "df3.rename(columns={'lat': \"lat_mean\", \n",
    "                    'long': \"long_mean\"}, inplace=True)\n",
    "df3.head()"
   ]
  },
  {
   "cell_type": "markdown",
   "metadata": {},
   "source": [
    "#### Get and prepare the external dataset from the World Bank\n",
    "> Remember you can use \"``wb.download?``\" (without the quotation marks) in a separate code cell to get help on the pandas-datareader method for remote data access of the World Bank Indicators. Refer to the pandas-datareader [remote data access documentation](https://pandas-datareader.readthedocs.io/en/latest/remote_data.html#world-bank) for more detailed help. "
   ]
  },
  {
   "cell_type": "code",
   "execution_count": null,
   "metadata": {
    "collapsed": true
   },
   "outputs": [],
   "source": [
    "# After running this cell you can close the help by clicking on close (`X`) button in the upper right corner\n",
    "wb.download?"
   ]
  },
  {
   "cell_type": "code",
   "execution_count": null,
   "metadata": {
    "collapsed": true
   },
   "outputs": [],
   "source": [
    "#  The selected indicator is the world population, \"SP.POP.TOTL\", for the years from 2008 to 2016 \n",
    "wb_indicator = 'SP.POP.TOTL'\n",
    "start_year = 2008\n",
    "end_year = 2016\n",
    "\n",
    "df4 = wb.download(indicator = wb_indicator,\n",
    "                  country = ['all'],\n",
    "                  start = start_year,\n",
    "                  end = end_year)"
   ]
  },
  {
   "cell_type": "code",
   "execution_count": null,
   "metadata": {},
   "outputs": [],
   "source": [
    "# Review the data\n",
    "df4.head()"
   ]
  },
  {
   "cell_type": "markdown",
   "metadata": {},
   "source": [
    "The data set contains entries for multiple years. The focus of this example is the entry corresponding to the latest year of data available for each country."
   ]
  },
  {
   "cell_type": "code",
   "execution_count": null,
   "metadata": {
    "collapsed": true
   },
   "outputs": [],
   "source": [
    "df5 = df4.reset_index()\n",
    "idx = df5.groupby(['country'])['year'].transform(max) == df5['year']"
   ]
  },
  {
   "cell_type": "markdown",
   "metadata": {},
   "source": [
    "You can now extract only the values that correspond to the most recent year available for each country."
   ]
  },
  {
   "cell_type": "code",
   "execution_count": null,
   "metadata": {},
   "outputs": [],
   "source": [
    "# Create a new dataframe where entries corresponds to maximum year indexes in previous list.\n",
    "df6 = df5.loc[idx,:]\n",
    "\n",
    "# Review the data\n",
    "df6.head()"
   ]
  },
  {
   "cell_type": "markdown",
   "metadata": {},
   "source": [
    "Now merge your dataset with the World Bank data."
   ]
  },
  {
   "cell_type": "code",
   "execution_count": null,
   "metadata": {
    "collapsed": true
   },
   "outputs": [],
   "source": [
    "# Combine the student and population datasets.\n",
    "df7 = pd.merge(df3, df6, on='country', how='left')\n",
    "\n",
    "# Rename the columns of our merged dataset and assign to a new variable.\n",
    "df8 = df7.rename(index=str, columns={('SP.POP.TOTL'): \"PopulationTotal_Latest_WB\"})\n",
    "\n",
    "# Drop NAN values.\n",
    "df8 = df8[~df8.PopulationTotal_Latest_WB.isnull()]\n",
    "\n",
    "# Reset index.\n",
    "df8.reset_index(inplace = True)"
   ]
  },
  {
   "cell_type": "code",
   "execution_count": null,
   "metadata": {},
   "outputs": [],
   "source": [
    "df8.head()"
   ]
  },
  {
   "cell_type": "markdown",
   "metadata": {},
   "source": [
    "Let's plot the data.\n",
    "> **Note**:\n",
    "The visualization below does not have any meaning. The scaling factors selected are used to demonstrate the difference in population sizes, and number of students on this course, per country."
   ]
  },
  {
   "cell_type": "code",
   "execution_count": null,
   "metadata": {},
   "outputs": [],
   "source": [
    "# Plot the combined dataset\n",
    "\n",
    "# Set map center and zoom level\n",
    "mapc = [0, 30]\n",
    "zoom = 2\n",
    "\n",
    "# Create map object.\n",
    "map_osm = folium.Map(location=mapc,\n",
    "                   tiles='Stamen Toner',\n",
    "                    zoom_start=zoom)\n",
    "\n",
    "# Plot each of the locations that we geocoded.\n",
    "for j in range(len(df8)):\n",
    "    # Plot a blue circle marker for country population.\n",
    "    folium.CircleMarker([df8.lat_mean[j], df8.long_mean[j]],\n",
    "                    radius=df8.PopulationTotal_Latest_WB[j]/20000000,\n",
    "                    popup='Population',\n",
    "                    color='#3186cc',\n",
    "                    fill_color='#3186cc',\n",
    "                   ).add_to(map_osm)\n",
    "    # Plot a red circle marker for students per country.\n",
    "    folium.CircleMarker([df8.lat_mean[j], df8.long_mean[j]],\n",
    "                    radius=df8.student_count[j]/50,\n",
    "                    popup='Students',\n",
    "                    color='red',\n",
    "                    fill_color='red',\n",
    "                   ).add_to(map_osm)\n",
    "# Show the map.\n",
    "map_osm"
   ]
  },
  {
   "cell_type": "markdown",
   "metadata": {},
   "source": [
    "<br>\n",
    "<div class=\"alert alert-info\">\n",
    "<b>Exercise 1 Start.</b>\n",
    "</div>\n",
    "\n",
    "### Instructions\n",
    "\n",
    "> 1. Review the available indicators in the [World Bank](http://data.worldbank.org/indicator) dataset, and select an indicator of your choice (other than the population indicator).  \n",
    "2. Using a **copy** of the code (from above) in the cells below, replace the population indicator with your selected indicator. Instead of returning the most recent value for your selected indicator, compute the mean and standard deviation for the years from 2006 to 2016. You will need to use the Pandas ``groupby().agg()`` chained methods, together with the following functions from NumPy: \n",
    "  - ``np.mean``\n",
    "  - ``np.std``.\n",
    "  \n",
    "> You can review the data preparation section for the student data above for an example. \n",
    "\n",
    ">Add comments (lines starting with a \"#\") giving a brief description of your view on the observed results. Make sure to include, in one or two sentences in each case, the following:\n",
    "   1. A clear description why you selected the indicator.\n",
    "   - What your expectation was before including the data.\n",
    "   - What you think the results may indicate.\n",
    "\n",
    "> **Important**:\n",
    "- Only the external data needs to be prepared. You do not need to prepare the student dataset again. Just use the student data that you prepared above and join this to the new dataset you sourced. \n",
    "- Only plot the mean values for your selected indicator (**not** the standard deviation values).\n"
   ]
  },
  {
   "cell_type": "code",
   "execution_count": null,
   "metadata": {
    "collapsed": true
   },
   "outputs": [],
   "source": [
    "# Your solution here\n",
    "# Note: Break your logic using separate cells to break code into units that can be executed \n",
    "# should you need to review individual steps.\n"
   ]
  },
  {
   "cell_type": "markdown",
   "metadata": {},
   "source": [
    "<br>\n",
    "<div class=\"alert alert-info\">\n",
    "<b>Exercise 1 End.</b>\n",
    "</div>"
   ]
  },
  {
   "cell_type": "markdown",
   "metadata": {},
   "source": [
    "> **Exercise complete**:\n",
    "    \n",
    "> This is a good time to \"Save and Checkpoint\"."
   ]
  },
  {
   "cell_type": "markdown",
   "metadata": {},
   "source": [
    "## 1.2 Using Wikipedia as a data source\n",
    "\n",
    "To demonstrate how quickly data can be sourced from public, \"untrusted\" data sources, you have been supplied with a number of sample scripts below. While these sources contain distinctly rich datasets, which you can acquire with minimal effort, they can be amended by anyone, and may not be 100% accurate. In some cases, you will have to manually transform the datasets, while in others, you might be able to use pre-built libraries.\n",
    "\n",
    "Execute the code cells below before completing Exercise 2."
   ]
  },
  {
   "cell_type": "code",
   "execution_count": null,
   "metadata": {},
   "outputs": [],
   "source": [
    "# Display MIT page summary from Wikipedia \n",
    "print(wikipedia.summary(\"MIT\"))"
   ]
  },
  {
   "cell_type": "code",
   "execution_count": null,
   "metadata": {},
   "outputs": [],
   "source": [
    "# Display a single sentence summary.\n",
    "wikipedia.summary(\"MIT\", sentences=1)"
   ]
  },
  {
   "cell_type": "code",
   "execution_count": null,
   "metadata": {},
   "outputs": [],
   "source": [
    "# Create variable page that contains the wikipedia information.\n",
    "page = wikipedia.page(\"List of countries and dependencies by population\")\n",
    "\n",
    "# Display the page title.\n",
    "page.title"
   ]
  },
  {
   "cell_type": "code",
   "execution_count": null,
   "metadata": {},
   "outputs": [],
   "source": [
    "# Display the page URL. This can be utilised to create links back to descriptions.\n",
    "page.url"
   ]
  },
  {
   "cell_type": "markdown",
   "metadata": {},
   "source": [
    "<br>\n",
    "<div class=\"alert alert-info\">\n",
    "<b>Exercise 2 Start.</b>\n",
    "</div>\n",
    "\n",
    "### Instructions\n",
    "\n",
    "> After executing the cells for the Wikipedia example in Section 1.2, think about the potential implications of using this \"public\" and, in many cases, \"untrusted\" data source when doing analysis or creating data products.\n",
    "\n",
    "> **Please compile and submit for evaluation a list of *three pros* and *three cons*.**\n",
    "\n",
    ">> **Note**: Your submission can be a simple markdown list using the syntax provided below."
   ]
  },
  {
   "cell_type": "markdown",
   "metadata": {},
   "source": [
    "Add your answer in this markdown cell. The contents of this cell should be replaced with your answer.\n",
    "\n",
    "**Submit as a list:**\n",
    "- Pros: \n",
    "    - Description 1\n",
    "    - Description 2\n",
    "    - Description 3\n",
    "- Cons:\n",
    "    - Description 1\n",
    "    - Description 2\n",
    "    - Description 3"
   ]
  },
  {
   "cell_type": "markdown",
   "metadata": {},
   "source": [
    "<br>\n",
    "<div class=\"alert alert-info\">\n",
    "<b>Exercise 2 End.</b>\n",
    "</div>"
   ]
  },
  {
   "cell_type": "markdown",
   "metadata": {},
   "source": [
    "> **Exercise complete**:\n",
    "    \n",
    "> This is a good time to \"Save and Checkpoint\"."
   ]
  },
  {
   "cell_type": "markdown",
   "metadata": {},
   "source": [
    "## 2. Submit your notebook\n",
    "\n",
    "Please make sure that you:\n",
    "- Perform a final \"Save and Checkpoint\";\n",
    "- Download a copy of the notebook in \".ipynb\" format to your local machine using \"File\", \"Download as\", and \"IPython Notebook (.ipynb)\"; and\n",
    "- Submit a copy of this file to the Online Campus."
   ]
  }
 ],
 "metadata": {
  "kernelspec": {
   "display_name": "Python 3",
   "language": "python",
   "name": "python3"
  },
  "language_info": {
   "codemirror_mode": {
    "name": "ipython",
    "version": 3
   },
   "file_extension": ".py",
   "mimetype": "text/x-python",
   "name": "python",
   "nbconvert_exporter": "python",
   "pygments_lexer": "ipython3",
   "version": "3.6.6"
  }
 },
 "nbformat": 4,
 "nbformat_minor": 2
}
