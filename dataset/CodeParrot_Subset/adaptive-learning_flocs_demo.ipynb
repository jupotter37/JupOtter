{
 "cells": [
  {
   "cell_type": "markdown",
   "metadata": {},
   "source": [
    "# Flocs Data Demo"
   ]
  },
  {
   "cell_type": "markdown",
   "metadata": {},
   "source": [
    "## How to Export Data\n",
    "\n",
    "Both static and collected data can be exported by command `make export-data-to-csv`.\n",
    "This command creates CSV tables for all models registered in `flocs/management/commands/export_data_to_csv.py`\n",
    "into directory `exported-data/<datestamp>/`. If there is a need to change what data for a model are exported, modify its `export_class` attribute (namedtuple) and `to_export_tuple` method."
   ]
  },
  {
   "cell_type": "markdown",
   "metadata": {},
   "source": [
    "## Tables\n",
    "\n",
    "There are following CSV tables:\n",
    "- static data: `concepts.csv`, `blocks.csv`, `instructions.csv`, `tasks.csv`\n",
    "- collected data: `students.csv`, `task-instances.csv`, `attempts.csv`"
   ]
  },
  {
   "cell_type": "code",
   "execution_count": 97,
   "metadata": {
    "collapsed": true
   },
   "outputs": [],
   "source": [
    "%matplotlib inline\n",
    "import matplotlib.pyplot as plt\n",
    "import numpy as np\n",
    "import pandas as pd"
   ]
  },
  {
   "cell_type": "markdown",
   "metadata": {},
   "source": [
    "### Concepts"
   ]
  },
  {
   "cell_type": "code",
   "execution_count": 98,
   "metadata": {
    "collapsed": false
   },
   "outputs": [
    {
     "data": {
      "text/html": [
       "<div>\n",
       "<table border=\"1\" class=\"dataframe\">\n",
       "  <thead>\n",
       "    <tr style=\"text-align: right;\">\n",
       "      <th></th>\n",
       "      <th>concept_id</th>\n",
       "      <th>name</th>\n",
       "      <th>type</th>\n",
       "    </tr>\n",
       "  </thead>\n",
       "  <tbody>\n",
       "    <tr>\n",
       "      <th>0</th>\n",
       "      <td>1</td>\n",
       "      <td>BLOCK_MOVE</td>\n",
       "      <td>block</td>\n",
       "    </tr>\n",
       "    <tr>\n",
       "      <th>1</th>\n",
       "      <td>2</td>\n",
       "      <td>BLOCK_TURN</td>\n",
       "      <td>block</td>\n",
       "    </tr>\n",
       "    <tr>\n",
       "      <th>2</th>\n",
       "      <td>3</td>\n",
       "      <td>BLOCK_REPEAT</td>\n",
       "      <td>block</td>\n",
       "    </tr>\n",
       "    <tr>\n",
       "      <th>3</th>\n",
       "      <td>4</td>\n",
       "      <td>BLOCK_WHILE</td>\n",
       "      <td>block</td>\n",
       "    </tr>\n",
       "    <tr>\n",
       "      <th>4</th>\n",
       "      <td>5</td>\n",
       "      <td>BLOCK_CHECK_GOAL</td>\n",
       "      <td>block</td>\n",
       "    </tr>\n",
       "  </tbody>\n",
       "</table>\n",
       "</div>"
      ],
      "text/plain": [
       "   concept_id              name   type\n",
       "0           1        BLOCK_MOVE  block\n",
       "1           2        BLOCK_TURN  block\n",
       "2           3      BLOCK_REPEAT  block\n",
       "3           4       BLOCK_WHILE  block\n",
       "4           5  BLOCK_CHECK_GOAL  block"
      ]
     },
     "execution_count": 98,
     "metadata": {},
     "output_type": "execute_result"
    }
   ],
   "source": [
    "concepts = pd.read_csv('data/concepts.csv')\n",
    "concepts.head()"
   ]
  },
  {
   "cell_type": "markdown",
   "metadata": {},
   "source": [
    "### Blocks"
   ]
  },
  {
   "cell_type": "code",
   "execution_count": 99,
   "metadata": {
    "collapsed": false
   },
   "outputs": [
    {
     "data": {
      "text/html": [
       "<div>\n",
       "<table border=\"1\" class=\"dataframe\">\n",
       "  <thead>\n",
       "    <tr style=\"text-align: right;\">\n",
       "      <th></th>\n",
       "      <th>block_id</th>\n",
       "      <th>identifier</th>\n",
       "      <th>name</th>\n",
       "    </tr>\n",
       "  </thead>\n",
       "  <tbody>\n",
       "    <tr>\n",
       "      <th>0</th>\n",
       "      <td>1</td>\n",
       "      <td>maze_move_forward</td>\n",
       "      <td>Step forward</td>\n",
       "    </tr>\n",
       "    <tr>\n",
       "      <th>1</th>\n",
       "      <td>2</td>\n",
       "      <td>maze_turn</td>\n",
       "      <td>Turn</td>\n",
       "    </tr>\n",
       "    <tr>\n",
       "      <th>2</th>\n",
       "      <td>3</td>\n",
       "      <td>controls_repeat_ext</td>\n",
       "      <td>Repeat N-times</td>\n",
       "    </tr>\n",
       "    <tr>\n",
       "      <th>3</th>\n",
       "      <td>4</td>\n",
       "      <td>controls_while</td>\n",
       "      <td>Loop while</td>\n",
       "    </tr>\n",
       "    <tr>\n",
       "      <th>4</th>\n",
       "      <td>5</td>\n",
       "      <td>maze_check_goal</td>\n",
       "      <td>Check goal</td>\n",
       "    </tr>\n",
       "  </tbody>\n",
       "</table>\n",
       "</div>"
      ],
      "text/plain": [
       "   block_id           identifier            name\n",
       "0         1    maze_move_forward    Step forward\n",
       "1         2            maze_turn            Turn\n",
       "2         3  controls_repeat_ext  Repeat N-times\n",
       "3         4       controls_while      Loop while\n",
       "4         5      maze_check_goal      Check goal"
      ]
     },
     "execution_count": 99,
     "metadata": {},
     "output_type": "execute_result"
    }
   ],
   "source": [
    "blocks = pd.read_csv('data/blocks.csv')\n",
    "blocks.head()"
   ]
  },
  {
   "cell_type": "markdown",
   "metadata": {},
   "source": [
    "### Instructions"
   ]
  },
  {
   "cell_type": "code",
   "execution_count": 100,
   "metadata": {
    "collapsed": false
   },
   "outputs": [
    {
     "data": {
      "text/html": [
       "<div>\n",
       "<table border=\"1\" class=\"dataframe\">\n",
       "  <thead>\n",
       "    <tr style=\"text-align: right;\">\n",
       "      <th></th>\n",
       "      <th>instruction_id</th>\n",
       "      <th>concept_id</th>\n",
       "      <th>order</th>\n",
       "      <th>text</th>\n",
       "    </tr>\n",
       "  </thead>\n",
       "  <tbody>\n",
       "    <tr>\n",
       "      <th>0</th>\n",
       "      <td>11</td>\n",
       "      <td>11</td>\n",
       "      <td>110</td>\n",
       "      <td>Your task is to get the robot to the treasure ...</td>\n",
       "    </tr>\n",
       "    <tr>\n",
       "      <th>1</th>\n",
       "      <td>12</td>\n",
       "      <td>12</td>\n",
       "      <td>120</td>\n",
       "      <td>Here is a toolbox for your blocks. If you do w...</td>\n",
       "    </tr>\n",
       "    <tr>\n",
       "      <th>2</th>\n",
       "      <td>13</td>\n",
       "      <td>13</td>\n",
       "      <td>130</td>\n",
       "      <td>Create your programs in this window. Connect y...</td>\n",
       "    </tr>\n",
       "    <tr>\n",
       "      <th>3</th>\n",
       "      <td>14</td>\n",
       "      <td>14</td>\n",
       "      <td>140</td>\n",
       "      <td>Drag the blocks from your toolbox with the mou...</td>\n",
       "    </tr>\n",
       "    <tr>\n",
       "      <th>4</th>\n",
       "      <td>15</td>\n",
       "      <td>15</td>\n",
       "      <td>150</td>\n",
       "      <td>As soon as you are satisfied with your program...</td>\n",
       "    </tr>\n",
       "  </tbody>\n",
       "</table>\n",
       "</div>"
      ],
      "text/plain": [
       "   instruction_id  concept_id  order  \\\n",
       "0              11          11    110   \n",
       "1              12          12    120   \n",
       "2              13          13    130   \n",
       "3              14          14    140   \n",
       "4              15          15    150   \n",
       "\n",
       "                                                text  \n",
       "0  Your task is to get the robot to the treasure ...  \n",
       "1  Here is a toolbox for your blocks. If you do w...  \n",
       "2  Create your programs in this window. Connect y...  \n",
       "3  Drag the blocks from your toolbox with the mou...  \n",
       "4  As soon as you are satisfied with your program...  "
      ]
     },
     "execution_count": 100,
     "metadata": {},
     "output_type": "execute_result"
    }
   ],
   "source": [
    "instructions = pd.read_csv('data/instructions.csv')\n",
    "instructions.head()"
   ]
  },
  {
   "cell_type": "markdown",
   "metadata": {},
   "source": [
    "### Tasks"
   ]
  },
  {
   "cell_type": "code",
   "execution_count": 101,
   "metadata": {
    "collapsed": false
   },
   "outputs": [
    {
     "data": {
      "text/html": [
       "<div>\n",
       "<table border=\"1\" class=\"dataframe\">\n",
       "  <thead>\n",
       "    <tr style=\"text-align: right;\">\n",
       "      <th></th>\n",
       "      <th>task_id</th>\n",
       "      <th>title</th>\n",
       "      <th>level</th>\n",
       "      <th>concepts_ids</th>\n",
       "      <th>blocks_ids</th>\n",
       "      <th>maze_settings</th>\n",
       "      <th>solution</th>\n",
       "    </tr>\n",
       "  </thead>\n",
       "  <tbody>\n",
       "    <tr>\n",
       "      <th>0</th>\n",
       "      <td>1</td>\n",
       "      <td>Three steps forward</td>\n",
       "      <td>1</td>\n",
       "      <td>[1, 11, 12, 13, 14, 15, 20]</td>\n",
       "      <td>[1]</td>\n",
       "      <td>{     \"grid\": [       [1, 1, 1, 1, 1, 1, 1, 1]...</td>\n",
       "      <td>&lt;xml xmlns=\"http://www.w3.org/1999/xhtml\"&gt;&lt;blo...</td>\n",
       "    </tr>\n",
       "    <tr>\n",
       "      <th>1</th>\n",
       "      <td>2</td>\n",
       "      <td>Zig-zag</td>\n",
       "      <td>2</td>\n",
       "      <td>[1, 2, 11, 12, 13, 14, 15, 20]</td>\n",
       "      <td>[1, 2]</td>\n",
       "      <td>{     \"grid\": [       [1, 1, 1, 1, 1, 1, 1, 1]...</td>\n",
       "      <td>&lt;xml xmlns=\"http://www.w3.org/1999/xhtml\"&gt;&lt;blo...</td>\n",
       "    </tr>\n",
       "    <tr>\n",
       "      <th>2</th>\n",
       "      <td>3</td>\n",
       "      <td>Right turn</td>\n",
       "      <td>2</td>\n",
       "      <td>[1, 2, 11, 12, 13, 14, 15, 20]</td>\n",
       "      <td>[1, 2]</td>\n",
       "      <td>{     \"grid\": [       [1, 1, 1, 1, 1, 1, 1, 1]...</td>\n",
       "      <td>&lt;xml xmlns=\"http://www.w3.org/1999/xhtml\"&gt;&lt;blo...</td>\n",
       "    </tr>\n",
       "  </tbody>\n",
       "</table>\n",
       "</div>"
      ],
      "text/plain": [
       "   task_id                title  level                    concepts_ids  \\\n",
       "0        1  Three steps forward      1     [1, 11, 12, 13, 14, 15, 20]   \n",
       "1        2              Zig-zag      2  [1, 2, 11, 12, 13, 14, 15, 20]   \n",
       "2        3           Right turn      2  [1, 2, 11, 12, 13, 14, 15, 20]   \n",
       "\n",
       "  blocks_ids                                      maze_settings  \\\n",
       "0        [1]  {     \"grid\": [       [1, 1, 1, 1, 1, 1, 1, 1]...   \n",
       "1     [1, 2]  {     \"grid\": [       [1, 1, 1, 1, 1, 1, 1, 1]...   \n",
       "2     [1, 2]  {     \"grid\": [       [1, 1, 1, 1, 1, 1, 1, 1]...   \n",
       "\n",
       "                                            solution  \n",
       "0  <xml xmlns=\"http://www.w3.org/1999/xhtml\"><blo...  \n",
       "1  <xml xmlns=\"http://www.w3.org/1999/xhtml\"><blo...  \n",
       "2  <xml xmlns=\"http://www.w3.org/1999/xhtml\"><blo...  "
      ]
     },
     "execution_count": 101,
     "metadata": {},
     "output_type": "execute_result"
    }
   ],
   "source": [
    "tasks = pd.read_csv('data/tasks.csv')\n",
    "tasks.head(3)"
   ]
  },
  {
   "cell_type": "markdown",
   "metadata": {},
   "source": [
    "### Students"
   ]
  },
  {
   "cell_type": "code",
   "execution_count": 102,
   "metadata": {
    "collapsed": false
   },
   "outputs": [
    {
     "data": {
      "text/html": [
       "<div>\n",
       "<table border=\"1\" class=\"dataframe\">\n",
       "  <thead>\n",
       "    <tr style=\"text-align: right;\">\n",
       "      <th></th>\n",
       "      <th>student_id</th>\n",
       "      <th>credits</th>\n",
       "      <th>blocks_ids</th>\n",
       "      <th>level</th>\n",
       "      <th>seen_concepts_ids</th>\n",
       "    </tr>\n",
       "  </thead>\n",
       "  <tbody>\n",
       "    <tr>\n",
       "      <th>0</th>\n",
       "      <td>139</td>\n",
       "      <td>153</td>\n",
       "      <td>[1, 2, 3, 4, 5, 6, 7, 8, 9, 10]</td>\n",
       "      <td>9</td>\n",
       "      <td>[1, 2, 3, 4, 5, 6, 7, 8, 9, 10, 11, 12, 13, 14...</td>\n",
       "    </tr>\n",
       "  </tbody>\n",
       "</table>\n",
       "</div>"
      ],
      "text/plain": [
       "   student_id  credits                       blocks_ids  level  \\\n",
       "0         139      153  [1, 2, 3, 4, 5, 6, 7, 8, 9, 10]      9   \n",
       "\n",
       "                                   seen_concepts_ids  \n",
       "0  [1, 2, 3, 4, 5, 6, 7, 8, 9, 10, 11, 12, 13, 14...  "
      ]
     },
     "execution_count": 102,
     "metadata": {},
     "output_type": "execute_result"
    }
   ],
   "source": [
    "students = pd.read_csv('data/students.csv')\n",
    "students.head()"
   ]
  },
  {
   "cell_type": "markdown",
   "metadata": {
    "collapsed": true
   },
   "source": [
    "### Task Instances"
   ]
  },
  {
   "cell_type": "code",
   "execution_count": 163,
   "metadata": {
    "collapsed": false
   },
   "outputs": [
    {
     "data": {
      "text/html": [
       "<div>\n",
       "<table border=\"1\" class=\"dataframe\">\n",
       "  <thead>\n",
       "    <tr style=\"text-align: right;\">\n",
       "      <th></th>\n",
       "      <th>task_instance_id</th>\n",
       "      <th>student_id</th>\n",
       "      <th>task_id</th>\n",
       "      <th>time_start</th>\n",
       "      <th>time_end</th>\n",
       "      <th>time_spent</th>\n",
       "      <th>solved</th>\n",
       "      <th>given_up</th>\n",
       "      <th>attempts</th>\n",
       "      <th>reported_flow</th>\n",
       "      <th>instructions_ids</th>\n",
       "      <th>blocks_ids</th>\n",
       "      <th>session_order</th>\n",
       "    </tr>\n",
       "  </thead>\n",
       "  <tbody>\n",
       "    <tr>\n",
       "      <th>0</th>\n",
       "      <td>81</td>\n",
       "      <td>139</td>\n",
       "      <td>1</td>\n",
       "      <td>2016-06-06 03:50:07.529535</td>\n",
       "      <td>2016-06-06 03:50:16.257236</td>\n",
       "      <td>9</td>\n",
       "      <td>True</td>\n",
       "      <td>False</td>\n",
       "      <td>1</td>\n",
       "      <td>RIGHT</td>\n",
       "      <td>[11, 12, 13, 14, 15, 1]</td>\n",
       "      <td>[1]</td>\n",
       "      <td>1</td>\n",
       "    </tr>\n",
       "    <tr>\n",
       "      <th>1</th>\n",
       "      <td>82</td>\n",
       "      <td>139</td>\n",
       "      <td>2</td>\n",
       "      <td>2016-06-06 03:50:22.507381</td>\n",
       "      <td>2016-06-06 03:50:43.922838</td>\n",
       "      <td>21</td>\n",
       "      <td>True</td>\n",
       "      <td>False</td>\n",
       "      <td>2</td>\n",
       "      <td>EASY</td>\n",
       "      <td>[2]</td>\n",
       "      <td>[1, 2]</td>\n",
       "      <td>2</td>\n",
       "    </tr>\n",
       "    <tr>\n",
       "      <th>2</th>\n",
       "      <td>83</td>\n",
       "      <td>139</td>\n",
       "      <td>11</td>\n",
       "      <td>2016-06-06 03:50:49.864074</td>\n",
       "      <td>NaN</td>\n",
       "      <td>0</td>\n",
       "      <td>False</td>\n",
       "      <td>False</td>\n",
       "      <td>0</td>\n",
       "      <td>UNKNOWN</td>\n",
       "      <td>[16, 3]</td>\n",
       "      <td>[1, 2, 3]</td>\n",
       "      <td>3</td>\n",
       "    </tr>\n",
       "    <tr>\n",
       "      <th>3</th>\n",
       "      <td>84</td>\n",
       "      <td>139</td>\n",
       "      <td>16</td>\n",
       "      <td>2016-06-08 13:34:49.402501</td>\n",
       "      <td>2016-06-08 13:38:22.049144</td>\n",
       "      <td>22</td>\n",
       "      <td>True</td>\n",
       "      <td>False</td>\n",
       "      <td>1</td>\n",
       "      <td>RIGHT</td>\n",
       "      <td>[16, 3]</td>\n",
       "      <td>[1, 2, 3]</td>\n",
       "      <td>1</td>\n",
       "    </tr>\n",
       "    <tr>\n",
       "      <th>4</th>\n",
       "      <td>85</td>\n",
       "      <td>139</td>\n",
       "      <td>20</td>\n",
       "      <td>2016-06-08 13:38:26.200680</td>\n",
       "      <td>2016-06-08 13:39:04.174768</td>\n",
       "      <td>38</td>\n",
       "      <td>True</td>\n",
       "      <td>False</td>\n",
       "      <td>3</td>\n",
       "      <td>RIGHT</td>\n",
       "      <td>[]</td>\n",
       "      <td>[1, 2, 3, 4, 5]</td>\n",
       "      <td>2</td>\n",
       "    </tr>\n",
       "  </tbody>\n",
       "</table>\n",
       "</div>"
      ],
      "text/plain": [
       "   task_instance_id  student_id  task_id                  time_start  \\\n",
       "0                81         139        1  2016-06-06 03:50:07.529535   \n",
       "1                82         139        2  2016-06-06 03:50:22.507381   \n",
       "2                83         139       11  2016-06-06 03:50:49.864074   \n",
       "3                84         139       16  2016-06-08 13:34:49.402501   \n",
       "4                85         139       20  2016-06-08 13:38:26.200680   \n",
       "\n",
       "                     time_end  time_spent solved given_up  attempts  \\\n",
       "0  2016-06-06 03:50:16.257236           9   True    False         1   \n",
       "1  2016-06-06 03:50:43.922838          21   True    False         2   \n",
       "2                         NaN           0  False    False         0   \n",
       "3  2016-06-08 13:38:22.049144          22   True    False         1   \n",
       "4  2016-06-08 13:39:04.174768          38   True    False         3   \n",
       "\n",
       "  reported_flow         instructions_ids       blocks_ids  session_order  \n",
       "0         RIGHT  [11, 12, 13, 14, 15, 1]              [1]              1  \n",
       "1          EASY                      [2]           [1, 2]              2  \n",
       "2       UNKNOWN                  [16, 3]        [1, 2, 3]              3  \n",
       "3         RIGHT                  [16, 3]        [1, 2, 3]              1  \n",
       "4         RIGHT                       []  [1, 2, 3, 4, 5]              2  "
      ]
     },
     "execution_count": 163,
     "metadata": {},
     "output_type": "execute_result"
    }
   ],
   "source": [
    "task_instances = pd.read_csv('data/task-instances.csv')\n",
    "task_instances.head()"
   ]
  },
  {
   "cell_type": "markdown",
   "metadata": {},
   "source": [
    "### Attempts"
   ]
  },
  {
   "cell_type": "code",
   "execution_count": 104,
   "metadata": {
    "collapsed": false
   },
   "outputs": [
    {
     "data": {
      "text/html": [
       "<div>\n",
       "<table border=\"1\" class=\"dataframe\">\n",
       "  <thead>\n",
       "    <tr style=\"text-align: right;\">\n",
       "      <th></th>\n",
       "      <th>attempt_id</th>\n",
       "      <th>task_instance_id</th>\n",
       "      <th>order</th>\n",
       "      <th>time</th>\n",
       "      <th>success</th>\n",
       "      <th>code</th>\n",
       "    </tr>\n",
       "  </thead>\n",
       "  <tbody>\n",
       "    <tr>\n",
       "      <th>0</th>\n",
       "      <td>1</td>\n",
       "      <td>81</td>\n",
       "      <td>1</td>\n",
       "      <td>2016-06-06 03:50:17.175332</td>\n",
       "      <td>True</td>\n",
       "      <td>&lt;xml xmlns=\"http://www.w3.org/1999/xhtml\"&gt;&lt;blo...</td>\n",
       "    </tr>\n",
       "    <tr>\n",
       "      <th>1</th>\n",
       "      <td>2</td>\n",
       "      <td>82</td>\n",
       "      <td>1</td>\n",
       "      <td>2016-06-06 03:50:32.833278</td>\n",
       "      <td>False</td>\n",
       "      <td>&lt;xml xmlns=\"http://www.w3.org/1999/xhtml\"&gt;&lt;blo...</td>\n",
       "    </tr>\n",
       "    <tr>\n",
       "      <th>2</th>\n",
       "      <td>3</td>\n",
       "      <td>82</td>\n",
       "      <td>2</td>\n",
       "      <td>2016-06-06 03:50:44.425691</td>\n",
       "      <td>True</td>\n",
       "      <td>&lt;xml xmlns=\"http://www.w3.org/1999/xhtml\"&gt;&lt;blo...</td>\n",
       "    </tr>\n",
       "    <tr>\n",
       "      <th>3</th>\n",
       "      <td>4</td>\n",
       "      <td>84</td>\n",
       "      <td>1</td>\n",
       "      <td>2016-06-08 13:38:22.709923</td>\n",
       "      <td>True</td>\n",
       "      <td>&lt;xml xmlns=\"http://www.w3.org/1999/xhtml\"&gt;&lt;blo...</td>\n",
       "    </tr>\n",
       "    <tr>\n",
       "      <th>4</th>\n",
       "      <td>5</td>\n",
       "      <td>85</td>\n",
       "      <td>1</td>\n",
       "      <td>2016-06-08 13:38:49.718076</td>\n",
       "      <td>False</td>\n",
       "      <td>&lt;xml xmlns=\"http://www.w3.org/1999/xhtml\"&gt;&lt;blo...</td>\n",
       "    </tr>\n",
       "  </tbody>\n",
       "</table>\n",
       "</div>"
      ],
      "text/plain": [
       "   attempt_id  task_instance_id  order                        time success  \\\n",
       "0           1                81      1  2016-06-06 03:50:17.175332    True   \n",
       "1           2                82      1  2016-06-06 03:50:32.833278   False   \n",
       "2           3                82      2  2016-06-06 03:50:44.425691    True   \n",
       "3           4                84      1  2016-06-08 13:38:22.709923    True   \n",
       "4           5                85      1  2016-06-08 13:38:49.718076   False   \n",
       "\n",
       "                                                code  \n",
       "0  <xml xmlns=\"http://www.w3.org/1999/xhtml\"><blo...  \n",
       "1  <xml xmlns=\"http://www.w3.org/1999/xhtml\"><blo...  \n",
       "2  <xml xmlns=\"http://www.w3.org/1999/xhtml\"><blo...  \n",
       "3  <xml xmlns=\"http://www.w3.org/1999/xhtml\"><blo...  \n",
       "4  <xml xmlns=\"http://www.w3.org/1999/xhtml\"><blo...  "
      ]
     },
     "execution_count": 104,
     "metadata": {},
     "output_type": "execute_result"
    }
   ],
   "source": [
    "attempts = pd.read_csv('data/attempts.csv')\n",
    "attempts.head()"
   ]
  },
  {
   "cell_type": "markdown",
   "metadata": {},
   "source": [
    "## Analysis Example\n",
    "\n",
    "Problem: Find median of a task solving time for each programming concept."
   ]
  },
  {
   "cell_type": "code",
   "execution_count": 105,
   "metadata": {
    "collapsed": false
   },
   "outputs": [
    {
     "data": {
      "text/html": [
       "<div>\n",
       "<table border=\"1\" class=\"dataframe\">\n",
       "  <thead>\n",
       "    <tr style=\"text-align: right;\">\n",
       "      <th></th>\n",
       "      <th>concept_id</th>\n",
       "      <th>name</th>\n",
       "      <th>type</th>\n",
       "    </tr>\n",
       "  </thead>\n",
       "  <tbody>\n",
       "    <tr>\n",
       "      <th>19</th>\n",
       "      <td>20</td>\n",
       "      <td>PROGRAMMING_SEQUENCE</td>\n",
       "      <td>programming</td>\n",
       "    </tr>\n",
       "    <tr>\n",
       "      <th>20</th>\n",
       "      <td>21</td>\n",
       "      <td>PROGRAMMING_REPEAT</td>\n",
       "      <td>programming</td>\n",
       "    </tr>\n",
       "    <tr>\n",
       "      <th>21</th>\n",
       "      <td>22</td>\n",
       "      <td>PROGRAMMING_WHILE</td>\n",
       "      <td>programming</td>\n",
       "    </tr>\n",
       "    <tr>\n",
       "      <th>22</th>\n",
       "      <td>23</td>\n",
       "      <td>PROGRAMMING_IF</td>\n",
       "      <td>programming</td>\n",
       "    </tr>\n",
       "    <tr>\n",
       "      <th>23</th>\n",
       "      <td>24</td>\n",
       "      <td>PROGRAMMING_LOGIC</td>\n",
       "      <td>programming</td>\n",
       "    </tr>\n",
       "  </tbody>\n",
       "</table>\n",
       "</div>"
      ],
      "text/plain": [
       "    concept_id                  name         type\n",
       "19          20  PROGRAMMING_SEQUENCE  programming\n",
       "20          21    PROGRAMMING_REPEAT  programming\n",
       "21          22     PROGRAMMING_WHILE  programming\n",
       "22          23        PROGRAMMING_IF  programming\n",
       "23          24     PROGRAMMING_LOGIC  programming"
      ]
     },
     "execution_count": 105,
     "metadata": {},
     "output_type": "execute_result"
    }
   ],
   "source": [
    "programming_concepts = concepts[concepts.type == 'programming']\n",
    "programming_concepts"
   ]
  },
  {
   "cell_type": "code",
   "execution_count": 168,
   "metadata": {
    "collapsed": false
   },
   "outputs": [
    {
     "data": {
      "text/html": [
       "<div>\n",
       "<table border=\"1\" class=\"dataframe\">\n",
       "  <thead>\n",
       "    <tr style=\"text-align: right;\">\n",
       "      <th></th>\n",
       "      <th>time_spent</th>\n",
       "      <th>concepts_ids</th>\n",
       "    </tr>\n",
       "  </thead>\n",
       "  <tbody>\n",
       "    <tr>\n",
       "      <th>0</th>\n",
       "      <td>9</td>\n",
       "      <td>[1, 11, 12, 13, 14, 15, 20]</td>\n",
       "    </tr>\n",
       "    <tr>\n",
       "      <th>1</th>\n",
       "      <td>21</td>\n",
       "      <td>[1, 2, 11, 12, 13, 14, 15, 20]</td>\n",
       "    </tr>\n",
       "    <tr>\n",
       "      <th>2</th>\n",
       "      <td>22</td>\n",
       "      <td>[1, 2, 3, 11, 12, 13, 14, 15, 16, 20, 21]</td>\n",
       "    </tr>\n",
       "    <tr>\n",
       "      <th>3</th>\n",
       "      <td>38</td>\n",
       "      <td>[1, 2, 3, 11, 12, 13, 14, 15, 16, 20, 21]</td>\n",
       "    </tr>\n",
       "    <tr>\n",
       "      <th>4</th>\n",
       "      <td>43</td>\n",
       "      <td>[1, 2, 3, 11, 12, 13, 14, 15, 16, 20, 21]</td>\n",
       "    </tr>\n",
       "  </tbody>\n",
       "</table>\n",
       "</div>"
      ],
      "text/plain": [
       "   time_spent                               concepts_ids\n",
       "0           9                [1, 11, 12, 13, 14, 15, 20]\n",
       "1          21             [1, 2, 11, 12, 13, 14, 15, 20]\n",
       "2          22  [1, 2, 3, 11, 12, 13, 14, 15, 16, 20, 21]\n",
       "3          38  [1, 2, 3, 11, 12, 13, 14, 15, 16, 20, 21]\n",
       "4          43  [1, 2, 3, 11, 12, 13, 14, 15, 16, 20, 21]"
      ]
     },
     "execution_count": 168,
     "metadata": {},
     "output_type": "execute_result"
    }
   ],
   "source": [
    "solved_instances = task_instances[task_instances.solved]\n",
    "instances_concepts = pd.merge(solved_instances, tasks, on='task_id')[['time_spent', 'concepts_ids']]\n",
    "instances_concepts.head()"
   ]
  },
  {
   "cell_type": "code",
   "execution_count": 169,
   "metadata": {
    "collapsed": false
   },
   "outputs": [
    {
     "data": {
      "text/html": [
       "<div>\n",
       "<table border=\"1\" class=\"dataframe\">\n",
       "  <thead>\n",
       "    <tr style=\"text-align: right;\">\n",
       "      <th></th>\n",
       "      <th>time</th>\n",
       "      <th>concept_id</th>\n",
       "    </tr>\n",
       "  </thead>\n",
       "  <tbody>\n",
       "    <tr>\n",
       "      <th>0</th>\n",
       "      <td>9</td>\n",
       "      <td>1</td>\n",
       "    </tr>\n",
       "    <tr>\n",
       "      <th>1</th>\n",
       "      <td>9</td>\n",
       "      <td>11</td>\n",
       "    </tr>\n",
       "    <tr>\n",
       "      <th>2</th>\n",
       "      <td>9</td>\n",
       "      <td>12</td>\n",
       "    </tr>\n",
       "    <tr>\n",
       "      <th>3</th>\n",
       "      <td>9</td>\n",
       "      <td>13</td>\n",
       "    </tr>\n",
       "    <tr>\n",
       "      <th>4</th>\n",
       "      <td>9</td>\n",
       "      <td>14</td>\n",
       "    </tr>\n",
       "  </tbody>\n",
       "</table>\n",
       "</div>"
      ],
      "text/plain": [
       "   time  concept_id\n",
       "0     9           1\n",
       "1     9          11\n",
       "2     9          12\n",
       "3     9          13\n",
       "4     9          14"
      ]
     },
     "execution_count": 169,
     "metadata": {},
     "output_type": "execute_result"
    }
   ],
   "source": [
    "# unpack concepts IDs\n",
    "from ast import literal_eval\n",
    "concepts_lists = [literal_eval(c) for c in instances_concepts.concepts_ids]\n",
    "times = instances_concepts.time_spent\n",
    "concepts_times = pd.DataFrame([(times[i], concept_id)\n",
    "                              for i, concepts_list in enumerate(concepts_lists)\n",
    "                              for concept_id in concepts_list],\n",
    "                              columns=['time', 'concept_id'])\n",
    "concepts_times.head()\n",
    "# (If you know how to do this better (ideally function to unpack any column), let mi know.)"
   ]
  },
  {
   "cell_type": "code",
   "execution_count": 170,
   "metadata": {
    "collapsed": false
   },
   "outputs": [
    {
     "data": {
      "text/html": [
       "<div>\n",
       "<table border=\"1\" class=\"dataframe\">\n",
       "  <thead>\n",
       "    <tr style=\"text-align: right;\">\n",
       "      <th></th>\n",
       "      <th>time</th>\n",
       "      <th>concept_id</th>\n",
       "      <th>name</th>\n",
       "      <th>type</th>\n",
       "    </tr>\n",
       "  </thead>\n",
       "  <tbody>\n",
       "    <tr>\n",
       "      <th>0</th>\n",
       "      <td>9</td>\n",
       "      <td>20</td>\n",
       "      <td>PROGRAMMING_SEQUENCE</td>\n",
       "      <td>programming</td>\n",
       "    </tr>\n",
       "    <tr>\n",
       "      <th>1</th>\n",
       "      <td>21</td>\n",
       "      <td>20</td>\n",
       "      <td>PROGRAMMING_SEQUENCE</td>\n",
       "      <td>programming</td>\n",
       "    </tr>\n",
       "    <tr>\n",
       "      <th>2</th>\n",
       "      <td>22</td>\n",
       "      <td>20</td>\n",
       "      <td>PROGRAMMING_SEQUENCE</td>\n",
       "      <td>programming</td>\n",
       "    </tr>\n",
       "    <tr>\n",
       "      <th>3</th>\n",
       "      <td>38</td>\n",
       "      <td>20</td>\n",
       "      <td>PROGRAMMING_SEQUENCE</td>\n",
       "      <td>programming</td>\n",
       "    </tr>\n",
       "    <tr>\n",
       "      <th>4</th>\n",
       "      <td>43</td>\n",
       "      <td>20</td>\n",
       "      <td>PROGRAMMING_SEQUENCE</td>\n",
       "      <td>programming</td>\n",
       "    </tr>\n",
       "  </tbody>\n",
       "</table>\n",
       "</div>"
      ],
      "text/plain": [
       "   time  concept_id                  name         type\n",
       "0     9          20  PROGRAMMING_SEQUENCE  programming\n",
       "1    21          20  PROGRAMMING_SEQUENCE  programming\n",
       "2    22          20  PROGRAMMING_SEQUENCE  programming\n",
       "3    38          20  PROGRAMMING_SEQUENCE  programming\n",
       "4    43          20  PROGRAMMING_SEQUENCE  programming"
      ]
     },
     "execution_count": 170,
     "metadata": {},
     "output_type": "execute_result"
    }
   ],
   "source": [
    "# filter programming concepts\n",
    "programming_concepts_times = pd.merge(concepts_times, programming_concepts)\n",
    "programming_concepts_times.head()"
   ]
  },
  {
   "cell_type": "code",
   "execution_count": 171,
   "metadata": {
    "collapsed": false
   },
   "outputs": [
    {
     "data": {
      "text/html": [
       "<div>\n",
       "<table border=\"1\" class=\"dataframe\">\n",
       "  <thead>\n",
       "    <tr style=\"text-align: right;\">\n",
       "      <th></th>\n",
       "      <th></th>\n",
       "      <th>time</th>\n",
       "    </tr>\n",
       "    <tr>\n",
       "      <th>concept_id</th>\n",
       "      <th>name</th>\n",
       "      <th></th>\n",
       "    </tr>\n",
       "  </thead>\n",
       "  <tbody>\n",
       "    <tr>\n",
       "      <th>20</th>\n",
       "      <th>PROGRAMMING_SEQUENCE</th>\n",
       "      <td>38.5</td>\n",
       "    </tr>\n",
       "    <tr>\n",
       "      <th>21</th>\n",
       "      <th>PROGRAMMING_REPEAT</th>\n",
       "      <td>24.0</td>\n",
       "    </tr>\n",
       "    <tr>\n",
       "      <th>22</th>\n",
       "      <th>PROGRAMMING_WHILE</th>\n",
       "      <td>63.0</td>\n",
       "    </tr>\n",
       "    <tr>\n",
       "      <th>23</th>\n",
       "      <th>PROGRAMMING_IF</th>\n",
       "      <td>78.0</td>\n",
       "    </tr>\n",
       "    <tr>\n",
       "      <th>24</th>\n",
       "      <th>PROGRAMMING_LOGIC</th>\n",
       "      <td>83.0</td>\n",
       "    </tr>\n",
       "  </tbody>\n",
       "</table>\n",
       "</div>"
      ],
      "text/plain": [
       "                                 time\n",
       "concept_id name                      \n",
       "20         PROGRAMMING_SEQUENCE  38.5\n",
       "21         PROGRAMMING_REPEAT    24.0\n",
       "22         PROGRAMMING_WHILE     63.0\n",
       "23         PROGRAMMING_IF        78.0\n",
       "24         PROGRAMMING_LOGIC     83.0"
      ]
     },
     "execution_count": 171,
     "metadata": {},
     "output_type": "execute_result"
    }
   ],
   "source": [
    "# calculate median for each programming concept\n",
    "medians = programming_concepts_times.groupby(['concept_id', 'name']).median()\n",
    "medians"
   ]
  },
  {
   "cell_type": "code",
   "execution_count": 186,
   "metadata": {
    "collapsed": false
   },
   "outputs": [
    {
     "data": {
      "text/plain": [
       "<matplotlib.axes._subplots.AxesSubplot at 0x7f1658246588>"
      ]
     },
     "execution_count": 186,
     "metadata": {},
     "output_type": "execute_result"
    },
    {
     "data": {
      "image/png": "[encoded data removed]",
      "text/plain": [
       "<matplotlib.figure.Figure at 0x7f1657f7eeb8>"
      ]
     },
     "metadata": {},
     "output_type": "display_data"
    }
   ],
   "source": [
    "# plot\n",
    "programming_concepts_times['concept'] = programming_concepts_times['name'].apply(lambda x: x.split('_')[-1].lower())\n",
    "programming_concepts_times[['concept', 'time']].boxplot(by='concept')"
   ]
  },
  {
   "cell_type": "code",
   "execution_count": null,
   "metadata": {
    "collapsed": true
   },
   "outputs": [],
   "source": []
  },
  {
   "cell_type": "code",
   "execution_count": null,
   "metadata": {
    "collapsed": true
   },
   "outputs": [],
   "source": []
  }
 ],
 "metadata": {
  "kernelspec": {
   "display_name": "Python 3",
   "language": "python",
   "name": "python3"
  },
  "language_info": {
   "codemirror_mode": {
    "name": "ipython",
    "version": 3
   },
   "file_extension": ".py",
   "mimetype": "text/x-python",
   "name": "python",
   "nbconvert_exporter": "python",
   "pygments_lexer": "ipython3",
   "version": "3.5.1"
  }
 },
 "nbformat": 4,
 "nbformat_minor": 0
}
