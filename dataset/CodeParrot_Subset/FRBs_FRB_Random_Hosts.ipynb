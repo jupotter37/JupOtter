{
 "cells": [
  {
   "cell_type": "markdown",
   "metadata": {},
   "source": [
    "# Calculations related to associating FRBs to host galaxies"
   ]
  },
  {
   "cell_type": "code",
   "execution_count": 100,
   "metadata": {},
   "outputs": [],
   "source": [
    "# imports\n",
    "import numpy as np\n",
    "from importlib import reload\n",
    "from matplotlib import pyplot as plt\n",
    "\n",
    "from astropy.io import fits\n",
    "from astropy import stats\n",
    "from astropy import wcs\n",
    "from astropy import units\n",
    "from astropy.table import Table\n",
    "\n",
    "from frb import hosts\n",
    "\n",
    "# For image viewing (comment out as desired)\n",
    "from pypeit import ginga"
   ]
  },
  {
   "cell_type": "markdown",
   "metadata": {},
   "source": [
    "## Pixel based (use SExtractor eventually)"
   ]
  },
  {
   "cell_type": "markdown",
   "metadata": {},
   "source": [
    "### Load a DES r-band image"
   ]
  },
  {
   "cell_type": "code",
   "execution_count": 4,
   "metadata": {},
   "outputs": [
    {
     "name": "stdout",
     "output_type": "stream",
     "text": [
      "Filename: example_5arcmin.fits\n",
      "No.    Name      Ver    Type      Cards   Dimensions   Format\n",
      "  0  SCI           1 PrimaryHDU     108   (1140, 1140)   float32   \n",
      "  1  MSK           1 ImageHDU        74   (1140, 1140)   int32   \n",
      "  2  WGT           1 ImageHDU        72   (1140, 1140)   float32   \n"
     ]
    }
   ],
   "source": [
    "des_hdu = fits.open('example_5arcmin.fits')\n",
    "des_hdu.info()"
   ]
  },
  {
   "cell_type": "code",
   "execution_count": 9,
   "metadata": {},
   "outputs": [],
   "source": [
    "img = des_hdu[0].data\n",
    "head0 = des_hdu[0].header\n",
    "msk = des_hdu[1].data"
   ]
  },
  {
   "cell_type": "markdown",
   "metadata": {},
   "source": [
    "### Simple eyeball"
   ]
  },
  {
   "cell_type": "code",
   "execution_count": 14,
   "metadata": {},
   "outputs": [
    {
     "data": {
      "text/plain": [
       "(<ginga.util.grc.RemoteClient at 0x7f88133812e8>,\n",
       " <ginga.util.grc._channel_proxy at 0x7f883c51fd30>)"
      ]
     },
     "execution_count": 14,
     "metadata": {},
     "output_type": "execute_result"
    }
   ],
   "source": [
    "ginga.show_image(img)"
   ]
  },
  {
   "cell_type": "code",
   "execution_count": 16,
   "metadata": {},
   "outputs": [],
   "source": [
    "det_lvl = 20.  # DES counts"
   ]
  },
  {
   "cell_type": "markdown",
   "metadata": {},
   "source": [
    "### Do it"
   ]
  },
  {
   "cell_type": "code",
   "execution_count": 18,
   "metadata": {},
   "outputs": [],
   "source": [
    "gal_pix = (img > det_lvl) & (msk == 0)"
   ]
  },
  {
   "cell_type": "code",
   "execution_count": 19,
   "metadata": {},
   "outputs": [],
   "source": [
    "Nall_pix = np.sum(msk==0)"
   ]
  },
  {
   "cell_type": "code",
   "execution_count": 20,
   "metadata": {},
   "outputs": [
    {
     "data": {
      "text/plain": [
       "0.022715604852395557"
      ]
     },
     "execution_count": 20,
     "metadata": {},
     "output_type": "execute_result"
    }
   ],
   "source": [
    "frac = np.sum(gal_pix) / Nall_pix\n",
    "frac"
   ]
  },
  {
   "cell_type": "markdown",
   "metadata": {},
   "source": [
    "### Assume 3%"
   ]
  },
  {
   "cell_type": "code",
   "execution_count": 29,
   "metadata": {},
   "outputs": [],
   "source": [
    "P_1 = 0.03"
   ]
  },
  {
   "cell_type": "code",
   "execution_count": 30,
   "metadata": {},
   "outputs": [
    {
     "data": {
      "text/plain": [
       "2.6999999999999996e-05"
      ]
     },
     "execution_count": 30,
     "metadata": {},
     "output_type": "execute_result"
    }
   ],
   "source": [
    "P_3 = P_1**3\n",
    "P_3"
   ]
  },
  {
   "cell_type": "markdown",
   "metadata": {},
   "source": [
    "### Check"
   ]
  },
  {
   "cell_type": "code",
   "execution_count": 28,
   "metadata": {},
   "outputs": [
    {
     "data": {
      "text/plain": [
       "(<ginga.util.grc.RemoteClient at 0x7f8808ec27b8>,\n",
       " <ginga.util.grc._channel_proxy at 0x7f88093f4160>)"
      ]
     },
     "execution_count": 28,
     "metadata": {},
     "output_type": "execute_result"
    }
   ],
   "source": [
    "timg = img.copy()\n",
    "timg[gal_pix] = -999\n",
    "ginga.show_image(timg)"
   ]
  },
  {
   "cell_type": "code",
   "execution_count": 25,
   "metadata": {},
   "outputs": [
    {
     "data": {
      "text/plain": [
       "29247"
      ]
     },
     "execution_count": 25,
     "metadata": {},
     "output_type": "execute_result"
    }
   ],
   "source": [
    "np.sum(gal_pix)"
   ]
  },
  {
   "cell_type": "code",
   "execution_count": 26,
   "metadata": {},
   "outputs": [
    {
     "data": {
      "text/plain": [
       "(<ginga.util.grc.RemoteClient at 0x7f8808ee8d30>,\n",
       " <ginga.util.grc._channel_proxy at 0x7f8808ec2470>)"
      ]
     },
     "execution_count": 26,
     "metadata": {},
     "output_type": "execute_result"
    }
   ],
   "source": [
    "ginga.show_image(msk)"
   ]
  },
  {
   "cell_type": "markdown",
   "metadata": {},
   "source": [
    "----"
   ]
  },
  {
   "cell_type": "markdown",
   "metadata": {},
   "source": [
    "## Separation game"
   ]
  },
  {
   "cell_type": "markdown",
   "metadata": {},
   "source": [
    "### WCS"
   ]
  },
  {
   "cell_type": "code",
   "execution_count": 32,
   "metadata": {},
   "outputs": [],
   "source": [
    "des_wcs = wcs.WCS(head0)"
   ]
  },
  {
   "cell_type": "code",
   "execution_count": 33,
   "metadata": {},
   "outputs": [
    {
     "data": {
      "text/plain": [
       "WCS Keywords\n",
       "\n",
       "Number of WCS axes: 2\n",
       "CTYPE : 'RA---TAN'  'DEC--TAN'  \n",
       "CRVAL : 326.105233583851  -40.9002293606808  \n",
       "CRPIX : 570.0  570.0  \n",
       "CD1_1 CD1_2  : -7.305555555556e-05  0.0  \n",
       "CD2_1 CD2_2  : 0.0  7.305555555556e-05  \n",
       "NAXIS : 1140  1140"
      ]
     },
     "execution_count": 33,
     "metadata": {},
     "output_type": "execute_result"
    }
   ],
   "source": [
    "des_wcs"
   ]
  },
  {
   "cell_type": "code",
   "execution_count": 39,
   "metadata": {},
   "outputs": [
    {
     "data": {
      "text/latex": [
       "$[-0.263,~0] \\; \\mathrm{{}^{\\prime\\prime}}$"
      ],
      "text/plain": [
       "<Quantity [-0.263,  0.   ] arcsec>"
      ]
     },
     "execution_count": 39,
     "metadata": {},
     "output_type": "execute_result"
    }
   ],
   "source": [
    "(des_wcs.pixel_scale_matrix[0] * units.deg).to('arcsec')"
   ]
  },
  {
   "cell_type": "markdown",
   "metadata": {},
   "source": [
    "### Random catalog (for testing)"
   ]
  },
  {
   "cell_type": "code",
   "execution_count": 44,
   "metadata": {},
   "outputs": [
    {
     "data": {
      "text/plain": [
       "1300"
      ]
     },
     "execution_count": 44,
     "metadata": {},
     "output_type": "execute_result"
    }
   ],
   "source": [
    "nsource = 13 * 4 * 25\n",
    "nsource"
   ]
  },
  {
   "cell_type": "code",
   "execution_count": 40,
   "metadata": {},
   "outputs": [],
   "source": [
    "npix = 1140"
   ]
  },
  {
   "cell_type": "code",
   "execution_count": 45,
   "metadata": {},
   "outputs": [
    {
     "data": {
      "text/plain": [
       "array([515.82658139,  59.33256371, 241.59355671, ..., 504.63690401,\n",
       "       238.98632469, 298.95175749])"
      ]
     },
     "execution_count": 45,
     "metadata": {},
     "output_type": "execute_result"
    }
   ],
   "source": [
    "rand_x = npix*np.random.rand(nsource)\n",
    "rand_y = npix*np.random.rand(nsource)\n",
    "rand_x"
   ]
  },
  {
   "cell_type": "code",
   "execution_count": 50,
   "metadata": {},
   "outputs": [],
   "source": [
    "coord = des_wcs.pixel_to_world(rand_x, rand_y)"
   ]
  },
  {
   "cell_type": "code",
   "execution_count": 53,
   "metadata": {},
   "outputs": [],
   "source": [
    "cat = Table()\n",
    "cat['ra'] = coord.ra.value\n",
    "cat['dec'] = coord.dec.value\n",
    "cat['r' ] =21."
   ]
  },
  {
   "cell_type": "markdown",
   "metadata": {},
   "source": [
    "### Try me"
   ]
  },
  {
   "cell_type": "code",
   "execution_count": 99,
   "metadata": {},
   "outputs": [],
   "source": [
    "reload(hosts)\n",
    "d2d = hosts.random_separation(cat, des_wcs, 1140)"
   ]
  },
  {
   "cell_type": "markdown",
   "metadata": {},
   "source": [
    "### A few plots"
   ]
  },
  {
   "cell_type": "code",
   "execution_count": 103,
   "metadata": {},
   "outputs": [
    {
     "data": {
      "image/png": "[encoded data removed]",
      "text/plain": [
       "<matplotlib.figure.Figure at 0x7f87fbdf99b0>"
      ]
     },
     "metadata": {},
     "output_type": "display_data"
    }
   ],
   "source": [
    "plt.clf()\n",
    "ax=plt.gca()\n",
    "ax.hist(d2d.to('arcsec').value, bins=np.arange(0.,10,0.25))\n",
    "plt.show()"
   ]
  },
  {
   "cell_type": "code",
   "execution_count": 104,
   "metadata": {},
   "outputs": [],
   "source": [
    "d2d_val = d2d.to('arcsec').value"
   ]
  },
  {
   "cell_type": "code",
   "execution_count": 107,
   "metadata": {},
   "outputs": [],
   "source": [
    "xvals = np.arange(0., 10., 0.25)\n",
    "yvals = np.zeros_like(xvals)\n",
    "for kk,xval in enumerate(xvals):\n",
    "    yvals[kk] = np.sum(d2d_val < xval)"
   ]
  },
  {
   "cell_type": "code",
   "execution_count": 108,
   "metadata": {},
   "outputs": [
    {
     "data": {
      "image/png": "[encoded data removed]",
      "text/plain": [
       "<matplotlib.figure.Figure at 0x7f8800ebd8d0>"
      ]
     },
     "metadata": {},
     "output_type": "display_data"
    }
   ],
   "source": [
    "plt.clf()\n",
    "ax = plt.gca()\n",
    "ax.plot(xvals, yvals/d2d_val.size)\n",
    "plt.show()"
   ]
  },
  {
   "cell_type": "markdown",
   "metadata": {},
   "source": [
    "----"
   ]
  },
  {
   "cell_type": "markdown",
   "metadata": {},
   "source": [
    "# Testing"
   ]
  },
  {
   "cell_type": "code",
   "execution_count": 70,
   "metadata": {},
   "outputs": [
    {
     "data": {
      "text/plain": [
       "<SkyCoord (ICRS): (ra, dec) in deg\n",
       "    (326.10523358, -40.90022936)>"
      ]
     },
     "execution_count": 70,
     "metadata": {},
     "output_type": "execute_result"
    }
   ],
   "source": [
    "des_wcs.pixel_to_world(des_wcs.wcs.crpix[0]-1, des_wcs.wcs.crpix[1]-1)"
   ]
  },
  {
   "cell_type": "code",
   "execution_count": 93,
   "metadata": {},
   "outputs": [
    {
     "data": {
      "text/plain": [
       "       flag: 137\n",
       "      naxis: 2\n",
       "      crpix: 0x55599d238860\n",
       "               570.00       570.00    \n",
       "         pc: 0x55599d83d190\n",
       "    pc[0][]:  -7.3056e-05   0.0000    \n",
       "    pc[1][]:   0.0000       7.3056e-05\n",
       "      cdelt: 0x55599d5e39a0\n",
       "               1.0000       1.0000    \n",
       "      crval: 0x55599d5e3f60\n",
       "               326.11      -40.900    \n",
       "      cunit: 0x55599e2f1470\n",
       "             \"deg\"\n",
       "             \"deg\"\n",
       "      ctype: 0x55599e31c890\n",
       "             \"RA---TAN\"\n",
       "             \"DEC--TAN\"\n",
       "    lonpole: 180.000000\n",
       "    latpole: -40.900229\n",
       "    restfrq: 0.000000\n",
       "    restwav: 0.000000\n",
       "        npv: 0\n",
       "     npvmax: 0\n",
       "         pv: 0x0\n",
       "        nps: 0\n",
       "     npsmax: 0\n",
       "         ps: 0x0\n",
       "         cd: 0x55599d18fb90\n",
       "    cd[0][]:  -7.3056e-05   0.0000    \n",
       "    cd[1][]:   0.0000       7.3056e-05\n",
       "      crota: 0x55599d5e0ae0\n",
       "               0.0000       0.0000    \n",
       "     altlin: 2\n",
       "     velref: 0\n",
       "        alt: ' '\n",
       "     colnum: 0\n",
       "      colax: 0x55599d329540\n",
       "                 0      0\n",
       "    wcsname: UNDEFINED\n",
       "      cname: 0x55599e343060\n",
       "             UNDEFINED\n",
       "             UNDEFINED\n",
       "      crder: 0x55599d30fa10\n",
       "             UNDEFINED     UNDEFINED   \n",
       "      csyer: 0x55599d312700\n",
       "             UNDEFINED     UNDEFINED   \n",
       "    radesys: \"ICRS\"\n",
       "    equinox: UNDEFINED\n",
       "    specsys: UNDEFINED\n",
       "    ssysobs: UNDEFINED\n",
       "    velosys: UNDEFINED\n",
       "    ssyssrc: UNDEFINED\n",
       "    zsource: UNDEFINED\n",
       "     obsgeo: UNDEFINED     UNDEFINED     UNDEFINED     \n",
       "    dateobs: \"2014-10-21T03:12:45.272\"\n",
       "    dateavg: UNDEFINED\n",
       "     mjdobs: 56951.133857\n",
       "     mjdavg: UNDEFINED\n",
       "       ntab: 0\n",
       "        tab: 0x0\n",
       "       nwtb: 0\n",
       "        wtb: 0x0\n",
       "      types: 0x55599e0dd4a0\n",
       "            2200 2201\n",
       "     lngtyp: \"RA\"\n",
       "     lattyp: \"DEC\"\n",
       "        lng: 0\n",
       "        lat: 1\n",
       "       spec: -1\n",
       "   cubeface: -1\n",
       "        err: 0x0\n",
       "        lin: (see below)\n",
       "        cel: (see below)\n",
       "        spc: (see below)\n",
       "     m_flag: 137\n",
       "    m_naxis: 2\n",
       "    m_crpix: 0x55599d238860  (= crpix)\n",
       "       m_pc: 0x55599d83d190  (= pc)\n",
       "    m_cdelt: 0x55599d5e39a0  (= cdelt)\n",
       "    m_crval: 0x55599d5e3f60  (= crval)\n",
       "    m_cunit: 0x55599e2f1470  (= cunit)\n",
       "    m_ctype: 0x55599e31c890  (= ctype)\n",
       "       m_pv: 0x0  (= pv)\n",
       "       m_ps: 0x0  (= ps)\n",
       "       m_cd: 0x55599d18fb90  (= cd)\n",
       "    m_crota: 0x55599d5e0ae0  (= crota)\n",
       "\n",
       "    m_colax: 0x55599d329540  (= colax)\n",
       "    m_cname: 0x55599e343060  (= cname)\n",
       "    m_crder: 0x55599d30fa10  (= crder)\n",
       "    m_csyer: 0x55599d312700  (= csyer)\n",
       "      m_tab: 0x0  (= tab)\n",
       "      m_wtb: 0x0  (= wtb)\n",
       "\n",
       "   lin.*\n",
       "       flag: 137\n",
       "      naxis: 2\n",
       "      crpix: 0x55599d238860\n",
       "               570.00       570.00    \n",
       "         pc: 0x55599d83d190\n",
       "    pc[0][]:  -7.3056e-05   0.0000    \n",
       "    pc[1][]:   0.0000       7.3056e-05\n",
       "      cdelt: 0x55599d5e39a0\n",
       "               1.0000       1.0000    \n",
       "     dispre: 0x0\n",
       "     disseq: 0x0\n",
       "piximg[0][]:  -7.3056e-05   0.0000    \n",
       "piximg[1][]:   0.0000       7.3056e-05\n",
       "imgpix[0][]:  -13688.      -0.0000    \n",
       "imgpix[1][]:   0.0000       13688.    \n",
       "    i_naxis: 2\n",
       "      unity: 0\n",
       "     affine: 1\n",
       "     simple: 0\n",
       "        err: 0x0\n",
       "     tmpcrd: 0x55599d635430\n",
       "     m_flag: 0\n",
       "    m_naxis: 0\n",
       "    m_crpix: 0x0\n",
       "       m_pc: 0x0\n",
       "    m_cdelt: 0x0\n",
       "   m_dispre: 0x0\n",
       "   m_disseq: 0x0\n",
       "\n",
       "   cel.*\n",
       "      flag: 137\n",
       "     offset: 0\n",
       "       phi0:  0.000000\n",
       "     theta0: 90.000000\n",
       "        ref:   326.11      -40.900       180.00      -40.900    \n",
       "        prj: (see below)\n",
       "      euler:   326.11       130.90       180.00      -0.65474      0.75585   \n",
       "    latpreq: 0 (not required)\n",
       "     isolat: 0\n",
       "        err: 0x0\n",
       "\n",
       "   prj.*\n",
       "       flag: 103\n",
       "       code: \"TAN\"\n",
       "         r0: 57.295780\n",
       "         pv: (not used)\n",
       "       phi0:  0.000000\n",
       "     theta0: 90.000000\n",
       "     bounds: 7\n",
       "\n",
       "       name: \"gnomonic\"\n",
       "   category: 1 (zenithal)\n",
       "    pvrange: 0\n",
       "  simplezen: 1\n",
       "  equiareal: 0\n",
       "  conformal: 0\n",
       "     global: 0\n",
       "  divergent: 1\n",
       "         x0: 0.000000\n",
       "         y0: 0.000000\n",
       "        err: 0x0\n",
       "        w[]:   0.0000       0.0000       0.0000       0.0000       0.0000    \n",
       "               0.0000       0.0000       0.0000       0.0000       0.0000    \n",
       "          m: 0\n",
       "          n: 0\n",
       "     prjx2s: 0x7f8809a5d690\n",
       "     prjs2x: 0x7f8809a5da90\n",
       "\n",
       "   spc.*\n",
       "       flag: 0\n",
       "       type: \"    \"\n",
       "       code: \"   \"\n",
       "      crval: UNDEFINED\n",
       "    restfrq: 0.000000\n",
       "    restwav: 0.000000\n",
       "         pv: (not used)\n",
       "          w:   0.0000       0.0000       0.0000      (remainder unused)\n",
       "    isGrism: 0\n",
       "        err: 0x0\n",
       "     spxX2P: 0x0\n",
       "     spxP2S: 0x0\n",
       "     spxS2P: 0x0\n",
       "     spxP2X: 0x0"
      ]
     },
     "execution_count": 93,
     "metadata": {},
     "output_type": "execute_result"
    }
   ],
   "source": [
    "des_wcs.wcs"
   ]
  },
  {
   "cell_type": "code",
   "execution_count": 75,
   "metadata": {},
   "outputs": [
    {
     "data": {
      "text/plain": [
       "<SkyCoord (ICRS): (ra, dec) in deg\n",
       "    (326.16026394, -40.94178488)>"
      ]
     },
     "execution_count": 75,
     "metadata": {},
     "output_type": "execute_result"
    }
   ],
   "source": [
    "bottom_corner = des_wcs.pixel_to_world(0,0)\n",
    "bottom_corner"
   ]
  },
  {
   "cell_type": "code",
   "execution_count": 76,
   "metadata": {},
   "outputs": [
    {
     "data": {
      "text/plain": [
       "<SkyCoord (ICRS): (ra, dec) in deg\n",
       "    (326.13820543, -40.92511611)>"
      ]
     },
     "execution_count": 76,
     "metadata": {},
     "output_type": "execute_result"
    }
   ],
   "source": [
    "offset1 = bottom_corner.directional_offset_by(-45.*units.deg, np.sqrt(2)*units.arcmin)\n",
    "offset1"
   ]
  },
  {
   "cell_type": "code",
   "execution_count": 90,
   "metadata": {},
   "outputs": [
    {
     "data": {
      "text/plain": [
       "[227.99346843748145, 228.28051901134387]"
      ]
     },
     "execution_count": 90,
     "metadata": {},
     "output_type": "execute_result"
    }
   ],
   "source": [
    "[float(i) for i in des_wcs.world_to_pixel(offset1)]"
   ]
  },
  {
   "cell_type": "code",
   "execution_count": null,
   "metadata": {},
   "outputs": [],
   "source": []
  }
 ],
 "metadata": {
  "kernelspec": {
   "display_name": "Python 3",
   "language": "python",
   "name": "python3"
  },
  "language_info": {
   "codemirror_mode": {
    "name": "ipython",
    "version": 3
   },
   "file_extension": ".py",
   "mimetype": "text/x-python",
   "name": "python",
   "nbconvert_exporter": "python",
   "pygments_lexer": "ipython3",
   "version": "3.6.3"
  }
 },
 "nbformat": 4,
 "nbformat_minor": 2
}
