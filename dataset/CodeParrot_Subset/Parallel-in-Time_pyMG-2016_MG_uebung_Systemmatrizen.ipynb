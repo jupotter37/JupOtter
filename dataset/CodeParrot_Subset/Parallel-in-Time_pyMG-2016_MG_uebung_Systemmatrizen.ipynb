{
 "nbformat_minor": 0, 
 "nbformat": 4, 
 "cells": [
  {
   "source": [
    "<center> \n", 
    "<h1> Mehrgittermethoden </h1> \n", 
    "<h2> Übungsaufgaben </h2>\n", 
    "<h3> Robert Speck & Dieter Moser, Sommersemester 2016 </h3>\n", 
    "</center>\n", 
    "___\n"
   ], 
   "cell_type": "markdown", 
   "metadata": {}
  }, 
  {
   "source": [
    "### Über Systemmatrizen\n", 
    "\n", 
    "In der Vorlesung haben wir das Gleichungssytem $Au = f$ für das Possion-Problem in 1D mit Dirichlet-Rändern durch eine Diskretisierung mit Hilfe von zentrierten Finiten Differenzen aufgestellt.\n", 
    "1. Wie sieht das System für periodische Randbedingungen $u(0) = u(1)$ und $u'(0) = u'(1)$ aus? Nutzen Sie die Gitterpunkte $x_0$, $x_1$, ..., $x_{N-1}$. Wie viele Unbekannte hat das Gleichungsssystem?\n", 
    "1. Wie sieht das System mit Dirichlet-Rändern in zwei Dimensionen aus? Nutzen Sie Blockmatrizen zur Darstellung von $A$. Wie viele Unbekannte hat das System nun und wie viele Einträge ungleich Null hat die Systemmatrix?\n", 
    "___"
   ], 
   "cell_type": "markdown", 
   "metadata": {}
  }, 
  {
   "source": [
    "### Über den Rayleigh-quotienten\n", 
    "Sei $H$ eine hermitsche Matrix, so definiert sich der zugehörige Rayleigh quotient als\n", 
    "$$R_H(x) = \\frac{x^*Hx}{x^*\\cdot x}.$$\n", 
    "\n", 
    "1. Zeigen Sie, dass für den größten bzw. kleinsten Eigenwert $\\lambda_M,\\lambda_m$ von $H$ \n", 
    "$$ \\lambda_m = \\min_x R_H(x) \\; \\mbox{und} \\; \\lambda_M = \\max_x R_H(x) $$\n", 
    "gilt.\n", 
    "2. Sei $H = A^*A$. Zeigen sie, dass $\\max_x R_H(x)^{1/2}$ eine Norm von $A$ ist."
   ], 
   "cell_type": "markdown", 
   "metadata": {}
  }, 
  {
   "source": [
    "### Über persymmetrische Matrizen\n", 
    "\n", 
    "Sei $\\mathcal{P}_1 = \\{ A \\in K^{N \\times N} |   a_{i,j} = a_{n-j+1,n-i+1} \\}$ und $\\mathcal{P}_2 = \\{ A \\in K^{N \\times N} |   JA = A^TJ \\}$, mit \n", 
    "$    J = (\\delta_{i,n-j+1})_{ij} = \\begin{pmatrix} 0 & & 1 \\\\ & \\scriptstyle\\cdot^{\\,\\scriptstyle\\cdot^{\\,\\scriptstyle\\cdot}} & \\\\ 1 & & 0 \\end{pmatrix}$. \n", 
    "\n", 
    "Zeigen Sie\n", 
    "1. $\\mathcal{P}_1 = \\mathcal{P}_2$\n", 
    "2. $\\mathcal{P}_1$ is ein Untervektorraum des $K^{N \\times N}$.\n", 
    "\n", 
    "Wie muss $\\mathcal{P}_1$ eingeschränkt werden, damit\n", 
    "1. $(\\mathcal{P}_1,+,0,-)$ eine abelsche Gruppe ist\n", 
    "2. $(\\mathcal{P}_1,\\cdot)$ eine Gruppe ist\n", 
    "3. $(\\mathcal{P}_1,+,0,-,\\cdot)$ ein Ring ist\n"
   ], 
   "cell_type": "markdown", 
   "metadata": {}
  }, 
  {
   "source": [
    "### Über zyklische Matrizen\n", 
    "Sei $A$ von der Gestalt\n", 
    "$$A:=\\begin{pmatrix} a_0&a_{n-1}&a_{n-2}&\\ldots&a_1\\\\ a_1&a_0&a_{n-1}&\\ldots&a_2\\\\ a_2&a_1&a_0&\\ldots&a_3\\\\ &\\ddots&\\ddots&\\ddots\\\\ a_{n-1}&a_{n-2}&a_{n-3}&\\ldots&a_0\\end{pmatrix}. $$\n", 
    "\n", 
    "1. Zeigen Sie, dass A persymmetrisch ist.\n", 
    "2. Berechnen Sie das charakteristische Polynom, die Eigenwerte, Eigenvektoren und die Determinante von $A$.\n", 
    "3. Wenden Sie eine diskrete Fouriertransformation auf die Matrix A an.\n"
   ], 
   "cell_type": "markdown", 
   "metadata": {}
  }, 
  {
   "source": [
    "### Über Toeplitz-Matrizen\n", 
    "Eine Matrix nennt man eine Toeplitz-Matrix falls die Werte auf der Hauptdiagonale und allen Nebendiagonalen konstant sind."
   ], 
   "cell_type": "markdown", 
   "metadata": {}
  }, 
  {
   "execution_count": null, 
   "cell_type": "code", 
   "source": [], 
   "outputs": [], 
   "metadata": {
    "collapsed": true
   }
  }
 ], 
 "metadata": {
  "kernelspec": {
   "display_name": "Python 2", 
   "name": "python2", 
   "language": "python"
  }, 
  "language_info": {
   "mimetype": "text/x-python", 
   "nbconvert_exporter": "python", 
   "name": "python", 
   "file_extension": ".py", 
   "version": "2.7.11", 
   "pygments_lexer": "ipython2", 
   "codemirror_mode": {
    "version": 2, 
    "name": "ipython"
   }
  }
 }
}