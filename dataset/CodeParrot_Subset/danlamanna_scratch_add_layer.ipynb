{
 "cells": [
  {
   "cell_type": "code",
   "execution_count": null,
   "metadata": {
    "collapsed": true
   },
   "outputs": [],
   "source": [
    "%matplotlib inline\n",
    "from matplotlib import pylab as plt\n",
    "from matplotlib.colors import LinearSegmentedColormap\n",
    "from geonotebook.wrappers import RasterData\n",
    "from IPython.display import display, Image"
   ]
  },
  {
   "cell_type": "markdown",
   "metadata": {},
   "source": [
    "### Unstyled RGB Layer"
   ]
  },
  {
   "cell_type": "code",
   "execution_count": null,
   "metadata": {
    "collapsed": false
   },
   "outputs": [],
   "source": [
    "EXPECTED=\"https://data.kitware.com/api/v1/file/586a8f688d777f1e3428d849/download\"\n",
    "# Set the center of the map to the location the data\n",
    "M.set_center(-120.32, 47.84, 8)\n",
    "\n",
    "# Clean up any layers that might already exist\n",
    "for l in M.layers:\n",
    "    M.remove_layer(l)\n",
    "\n",
    "rd = RasterData('data/WELD.tif')\n",
    "\n",
    "M.add_layer(rd[1, 2, 3])\n",
    "\n",
    "display(Image(EXPECTED, format=\"png\"))"
   ]
  },
  {
   "cell_type": "markdown",
   "metadata": {},
   "source": [
    "### Unstyled NDVI Layer"
   ]
  },
  {
   "cell_type": "code",
   "execution_count": null,
   "metadata": {
    "collapsed": false
   },
   "outputs": [],
   "source": [
    "EXPECTED=\"https://data.kitware.com/api/v1/item/586a8fc98d777f1e3428d84b/download\"\n",
    "\n",
    "M.set_center(-120.32, 47.84, 8)\n",
    "M.layers.annotation.clear_annotations()\n",
    "for l in M.layers:\n",
    "    M.remove_layer(l)\n",
    "\n",
    "rd = RasterData('data/WELD.tif')\n",
    "M.add_layer(rd[4])\n",
    "\n",
    "display(Image(EXPECTED, format=\"png\"))\n",
    "# TODO: Add image for comparison"
   ]
  },
  {
   "cell_type": "markdown",
   "metadata": {},
   "source": [
    "### Winter Colormap w/ NDVI Layer"
   ]
  },
  {
   "cell_type": "code",
   "execution_count": null,
   "metadata": {
    "collapsed": false
   },
   "outputs": [],
   "source": [
    "EXPECTED=\"https://data.kitware.com/api/v1/item/586a902c8d777f1e3428d84e/download\"\n",
    "\n",
    "M.set_center(-120.32, 47.84, 8)\n",
    "for l in M.layers:\n",
    "    M.remove_layer(l)\n",
    "\n",
    "rd = RasterData('data/WELD.tif')\n",
    "\n",
    "# Create Colormap\n",
    "cmap = plt.get_cmap('winter', 10)\n",
    "\n",
    "M.add_layer(rd[4], colormap=cmap)\n",
    "\n",
    "display(Image(EXPECTED, format=\"png\"))"
   ]
  },
  {
   "cell_type": "markdown",
   "metadata": {},
   "source": [
    "### Custom Colormap w/ NDVI Layer"
   ]
  },
  {
   "cell_type": "code",
   "execution_count": null,
   "metadata": {
    "collapsed": false
   },
   "outputs": [],
   "source": [
    "EXPECTED=\"https://data.kitware.com/api/v1/item/586a90a08d777f1e3428d851/download\"\n",
    "\n",
    "M.set_center(-120.32, 47.84, 8)\n",
    "for l in M.layers:\n",
    "    M.remove_layer(l)\n",
    "\n",
    "rd = RasterData('data/WELD.tif')\n",
    "\n",
    "cmap =LinearSegmentedColormap.from_list(\n",
    "  'ndvi', ['blue', 'beige', 'green'], 20)\n",
    "\n",
    "M.add_layer(rd[4], colormap=cmap)\n",
    "\n",
    "display(Image(EXPECTED, format=\"png\"))"
   ]
  }
 ],
 "metadata": {
  "kernelspec": {
   "display_name": "Geonotebook (Python 2)",
   "language": "python",
   "name": "geonotebook2"
  },
  "language_info": {
   "codemirror_mode": {
    "name": "ipython",
    "version": 2
   },
   "file_extension": ".py",
   "mimetype": "text/x-python",
   "name": "python",
   "nbconvert_exporter": "python",
   "pygments_lexer": "ipython2",
   "version": "2.7.12"
  }
 },
 "nbformat": 4,
 "nbformat_minor": 2
}
