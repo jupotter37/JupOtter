{
 "cells": [
  {
   "cell_type": "markdown",
   "metadata": {},
   "source": [
    "## Keras Tutorial\n",
    "\n",
    "http://keras.io\n",
    "\n",
    "Esse tutorial é uma versão simplificada do tutorial disponível em: https://github.com/MLIME/Frameworks/tree/master/Keras\n",
    "\n",
    "#### O que é Keras?\n",
    "\n",
    "> Keras is a high-level neural networks API, written in Python and capable of running on top of either TensorFlow or Theano. It was developed with a focus on enabling fast experimentation. Being able to go from idea to result with the least possible delay is key to doing good research.\n",
    "\n",
    "Esse tutorial é dividido em três partes\n",
    "\n",
    "1. Funcionamento Básico do Keras\n",
    "2. Exemplo de Deep Feedforward Network\n",
    "3. Exemplo de Convolutional Neural Network\n"
   ]
  },
  {
   "cell_type": "markdown",
   "metadata": {},
   "source": [
    "### 1. Funcionamento básico do Keras\n",
    "\n",
    "#### Backends\n",
    "- Theano ou TensorFlow (CPU ou GPU)\n",
    "\n",
    "#### Tipos de Layers\n",
    "- Core layers: Dense, Activation, Dropout, Flatten\n",
    "- Convolutional layers: ConvXD, CroppingXD, UpSamplingXD\n",
    "- Pooling Layers: MaxPoolingXD, AveragePoolingXD\n",
    "- Custom layers can be created\n",
    "\n",
    "#### Funções de perda\n",
    "- categorical_crossentropy\n",
    "- sparse_categorical_crossentropy\n",
    "- binary_crossentropy\n",
    "- mean_squared_error\n",
    "- mean_absolute_error\n",
    "\n",
    "#### Otimizadores\n",
    "- SGD\n",
    "- RMSprop\n",
    "- Adagrad\n",
    "- Adadelta\n",
    "- Adam\n",
    "- Adamax\n",
    "\n",
    "\n",
    "#### Ativações\n",
    "- softmax\n",
    "- elu\n",
    "- relu\n",
    "- tanh\n",
    "- sigmoid\n",
    "- hard_sigmoid\n",
    "- linear\n",
    "\n",
    "#### Inicializadores\n",
    "- Zeros\n",
    "- RandomNormal\n",
    "- RandomUniform\n",
    "- TruncatedNormal\n",
    "- VarianceScaling\n",
    "- Orthogonal\n",
    "- Identity\n",
    "- lecun_uniform\n",
    "- glorot_normal\n",
    "- glorot_uniform\n",
    "- he_normal\n",
    "- he_uniform\n"
   ]
  },
  {
   "cell_type": "markdown",
   "metadata": {},
   "source": [
    "## Inicialização\n",
    "Importamos bibliotecas e carregamos os dados"
   ]
  },
  {
   "cell_type": "code",
   "execution_count": null,
   "metadata": {},
   "outputs": [],
   "source": [
    "import util\n",
    "import numpy as np\n",
    "import keras\n",
    "from keras.utils import np_utils\n",
    "\n",
    "X_train, y_train, X_test, y_test = util.load_mnist_dataset()\n",
    "y_train_labels = np.array(util.get_label_names(y_train))\n",
    "\n",
    "# Converte em one-hot para treino\n",
    "y_train = np_utils.to_categorical(y_train, 10)\n",
    "y_test = np_utils.to_categorical(y_test, 10)\n",
    "\n",
    "#Mostra algumas imagens\n",
    "examples = np.random.randint(0, X_train.shape[0] - 9, 9)\n",
    "image_shape = (X_train.shape[2], X_train.shape[3])\n",
    "util.plot9images(X_train[examples], y_train_labels[examples], image_shape)"
   ]
  },
  {
   "cell_type": "markdown",
   "metadata": {},
   "source": [
    "### 2. Construindo DFNs com Keras\n",
    "\n",
    "#### Reshaping MNIST data"
   ]
  },
  {
   "cell_type": "code",
   "execution_count": null,
   "metadata": {
    "collapsed": true
   },
   "outputs": [],
   "source": [
    "#Achatamos imagem em um vetor\n",
    "X_train = X_train.reshape(X_train.shape[0], np.prod(X_train.shape[1:]))\n",
    "X_test = X_test.reshape(X_test.shape[0], np.prod(X_test.shape[1:]))"
   ]
  },
  {
   "cell_type": "code",
   "execution_count": null,
   "metadata": {},
   "outputs": [],
   "source": [
    "#Sequential é a API que permite construirmos um modelo ao adicionar incrementalmente layers\n",
    "from keras.models import Sequential\n",
    "from keras.layers import Dense, Flatten\n",
    "from keras.optimizers import SGD\n",
    "\n",
    "DFN = Sequential()\n",
    "DFN.add(Dense(128, input_shape=(28*28,), activation='relu'))\n",
    "DFN.add(Dense(128, activation='relu'))\n",
    "DFN.add(Dense(128, activation='relu'))\n",
    "DFN.add(Dense(10, activation='softmax'))\n",
    "\n",
    "#optim = SGD(lr=0.01 ) - pode construir o otimizador por fora para definir parametros\n",
    "\n",
    "DFN.compile(loss='categorical_crossentropy', \n",
    "              optimizer='sgd', #ou usar os parâmetros padrão\n",
    "              metrics=['accuracy'])\n",
    "\n",
    "DFN.fit(X_train, y_train, batch_size=32, epochs=2,\n",
    "          validation_split=0.2, \n",
    "          verbose=1)\n",
    "\n",
    "print('\\nAccuracy: %.2f' % DFN.evaluate(X_test, y_test, verbose=1)[1])"
   ]
  },
  {
   "cell_type": "markdown",
   "metadata": {},
   "source": [
    "### 3. Construindo CNNs com Keras\n",
    "\n",
    "#### Reshaping MNIST data"
   ]
  },
  {
   "cell_type": "code",
   "execution_count": null,
   "metadata": {
    "collapsed": true
   },
   "outputs": [],
   "source": [
    "X_train = X_train.reshape(X_train.shape[0], 28, 28, 1)\n",
    "X_test = X_test.reshape(X_test.shape[0], 28, 28, 1)"
   ]
  },
  {
   "cell_type": "markdown",
   "metadata": {},
   "source": [
    "#### Compilando e ajustando CNN"
   ]
  },
  {
   "cell_type": "code",
   "execution_count": null,
   "metadata": {},
   "outputs": [],
   "source": [
    "from keras.models import Sequential\n",
    "from keras.layers import Dense, Dropout, Flatten\n",
    "from keras.layers import MaxPooling2D\n",
    "from keras.layers.convolutional import Conv2D\n",
    "\n",
    "CNN = Sequential()\n",
    "CNN.add(Conv2D(32, (3, 3), padding='same', activation='relu',\n",
    "                 input_shape=(28, 28, 1),))\n",
    "CNN.add(MaxPooling2D(pool_size=(2, 2)))\n",
    "CNN.add(Conv2D(32, (3, 3), padding='same', activation='relu'))\n",
    "CNN.add(MaxPooling2D(pool_size=(2, 2)))\n",
    "CNN.add(Dropout(0.25))\n",
    "CNN.add(Flatten())\n",
    "CNN.add(Dense(256, activation='relu'))\n",
    "CNN.add(Dropout(0.5))\n",
    "CNN.add(Dense(10, activation='softmax'))\n",
    "\n",
    "CNN.compile(loss='categorical_crossentropy',\n",
    "              optimizer='sgd', \n",
    "              metrics=['accuracy'])\n",
    "\n",
    "CNN.fit(X_train, y_train, batch_size=32, epochs=2,\n",
    "          validation_split=0.2, \n",
    "          verbose=1)\n",
    "\n",
    "print('\\nAccuracy: %.2f' % CNN.evaluate(X_test, y_test, verbose=1)[1])"
   ]
  },
  {
   "cell_type": "markdown",
   "metadata": {
    "collapsed": true
   },
   "source": [
    "#### Comparamos resultados:"
   ]
  },
  {
   "cell_type": "code",
   "execution_count": null,
   "metadata": {},
   "outputs": [],
   "source": [
    "cnn_pred = CNN.predict(X_test, verbose=1)\n",
    "dfn_pred = DFN.predict(X_test.reshape((X_test.shape[0], np.prod(X_test.shape[1:]))), verbose=1)\n",
    "\n",
    "cnn_pred = np.array(list(map(np.argmax, cnn_pred)))\n",
    "dfn_pred = np.array(list(map(np.argmax, dfn_pred)))\n",
    "y_pred   = np.array(list(map(np.argmax, y_test)))\n"
   ]
  },
  {
   "cell_type": "code",
   "execution_count": null,
   "metadata": {},
   "outputs": [],
   "source": [
    "util.plotconfusion(util.get_label_names(y_pred), util.get_label_names(dfn_pred))"
   ]
  },
  {
   "cell_type": "code",
   "execution_count": null,
   "metadata": {},
   "outputs": [],
   "source": [
    "util.plotconfusion(util.get_label_names(y_pred), util.get_label_names(cnn_pred))"
   ]
  },
  {
   "cell_type": "markdown",
   "metadata": {},
   "source": [
    "Vamos observar alguns exemplos mal classificados:"
   ]
  },
  {
   "cell_type": "code",
   "execution_count": null,
   "metadata": {
    "collapsed": true
   },
   "outputs": [],
   "source": [
    "cnn_missed = cnn_pred != y_pred\n",
    "dfn_missed = dfn_pred != y_pred\n",
    "cnn_and_dfn_missed = np.logical_and(dfn_missed, cnn_missed)"
   ]
  },
  {
   "cell_type": "code",
   "execution_count": null,
   "metadata": {},
   "outputs": [],
   "source": [
    "util.plot_missed_examples(X_test, y_pred, dfn_missed, dfn_pred)"
   ]
  },
  {
   "cell_type": "code",
   "execution_count": null,
   "metadata": {},
   "outputs": [],
   "source": [
    "util.plot_missed_examples(X_test, y_pred, cnn_missed, cnn_pred)"
   ]
  },
  {
   "cell_type": "code",
   "execution_count": null,
   "metadata": {},
   "outputs": [],
   "source": [
    "util.plot_missed_examples(X_test, y_pred, cnn_and_dfn_missed)"
   ]
  },
  {
   "cell_type": "code",
   "execution_count": null,
   "metadata": {
    "collapsed": true
   },
   "outputs": [],
   "source": []
  }
 ],
 "metadata": {
  "kernelspec": {
   "display_name": "Python 3",
   "language": "python",
   "name": "python3"
  },
  "language_info": {
   "codemirror_mode": {
    "name": "ipython",
    "version": 3
   },
   "file_extension": ".py",
   "mimetype": "text/x-python",
   "name": "python",
   "nbconvert_exporter": "python",
   "pygments_lexer": "ipython3",
   "version": "3.6.1"
  }
 },
 "nbformat": 4,
 "nbformat_minor": 2
}
