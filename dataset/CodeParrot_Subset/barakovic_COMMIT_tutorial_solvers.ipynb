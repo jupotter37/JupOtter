{
 "cells": [
  {
   "cell_type": "markdown",
   "metadata": {},
   "source": [
    "You can find the text version of this tutorial [at this link](README.md)."
   ]
  },
  {
   "cell_type": "markdown",
   "metadata": {},
   "source": [
    "# Advanced solvers\n",
    "\n",
    "This tutorial shows how to exploit the advanced features of the COMMIT framework from the side of the **optimisation problem**. The general formulation is the following:\n",
    "\\begin{equation}\n",
    "x^* = \\arg\\min_{x\\in R^n_+} \\frac12 \\|Ax-y\\|_2^2 + \\lambda_{IC}\\Omega_{IC}(x) + \\lambda_{EC}\\Omega_{EC}(x) + \\lambda_{ISO}\\Omega_{ISO}(x),\n",
    "\\end{equation}\n",
    "where $A$ is the COMMIT dictionary, $n$ is defined in such a way that the product $Ax$ makes sense and $y$ is the datum that we want to fit. The three regularisation terms allow us to exploit ***distinct penalties for each compartment***.\n",
    "\n",
    "*Note*: before exploring this tutorial, you should follow the [Getting Started](https://github.com/daducci/COMMIT/tree/master/doc/tutorials/GettingStarted) tutorial.\n",
    "\n",
    "\n",
    "### Download and unpack the data\n",
    "\n",
    "Download and extract the **example dataset** from the following [ZIP archive](http://hardi.epfl.ch/static/data/COMMIT_demos/LausanneTwoShell.zip), which contains the following files:\n",
    "\n",
    "- `DWI.nii`: a diffusion MRI dataset with 100 measurements distributed on 2 shells, respectively at b=700 s/mm^2 and b=2000 s/mm^2;\n",
    "- `DWI.scheme`: its corresponding acquisition scheme;\n",
    "- `peaks.nii.gz`: main diffusion orientations estimated with CSD;\n",
    "- `fibers.trk`: tractogram with about 280K fibers estimated using a streamline-based algorithm;\n",
    "- `WM.nii.gz`: white-matter mask extracted from an anatomical T1w image.\n",
    "\n",
    "\n",
    "<span style=\"color:crimson\">**Make sure that your working directory is the folder where you unzipped the downloaded archive.**</span>"
   ]
  },
  {
   "cell_type": "code",
   "execution_count": null,
   "metadata": {},
   "outputs": [],
   "source": [
    "path_to_the_directory_with_the_unzipped_archive = '.' # edit this\n",
    "cd path_to_the_directory_with_the_unzipped_archive"
   ]
  },
  {
   "cell_type": "markdown",
   "metadata": {},
   "source": [
    "### Load the usual COMMIT structure"
   ]
  },
  {
   "cell_type": "code",
   "execution_count": null,
   "metadata": {},
   "outputs": [],
   "source": [
    "from commit import trk2dictionary\n",
    "\n",
    "trk2dictionary.run(\n",
    "    filename_trk   = 'LausanneTwoShell/fibers.trk',\n",
    "    path_out       = 'LausanneTwoShell/CommitOutput',\n",
    "    filename_peaks = 'LausanneTwoShell/peaks.nii.gz',\n",
    "    filename_mask  = 'LausanneTwoShell/WM.nii.gz',\n",
    "    fiber_shift    = 0.5,\n",
    "    peaks_use_affine = True\n",
    ")\n",
    "\n",
    "import commit\n",
    "mit = commit.Evaluation( '.', 'LausanneTwoShell' )\n",
    "mit.load_data( 'DWI.nii', 'DWI.scheme' )\n",
    "\n",
    "mit.set_model( 'StickZeppelinBall' )\n",
    "\n",
    "d_par = 1.7E-3              # Parallel diffusivity [mm^2/s]\n",
    "ICVFs = [ 0.7 ]             # Intra-cellular volume fraction(s) [0..1]\n",
    "d_ISOs = [ 1.7E-3, 3.0E-3 ] # Isotropic diffusivitie(s) [mm^2/s]\n",
    "\n",
    "mit.model.set( d_par, ICVFs, d_ISOs )\n",
    "mit.generate_kernels( regenerate=True )\n",
    "mit.load_kernels()\n",
    "\n",
    "mit.load_dictionary( 'CommitOutput' )\n",
    "mit.set_threads()\n",
    "mit.build_operator()"
   ]
  },
  {
   "cell_type": "markdown",
   "metadata": {},
   "source": [
    "### Perform clustering of the streamlines\n",
    "\n",
    "You will need `dipy`, which is among the requirements of COMMIT, hence there should be no problem.\n",
    "\n",
    "The `threshold` parameter has to be tuned for each brain. Do not consider our choice as a standard one."
   ]
  },
  {
   "cell_type": "code",
   "execution_count": null,
   "metadata": {},
   "outputs": [],
   "source": [
    "from nibabel import trackvis as tv\n",
    "fname='LausanneTwoShell/fibers.trk'\n",
    "streams, hdr = tv.read(fname)\n",
    "streamlines = [i[0] for i in streams]\n",
    "\n",
    "from dipy.segment.clustering import QuickBundles\n",
    "threshold = 15.0\n",
    "qb = QuickBundles(threshold=threshold)\n",
    "clusters = qb.cluster(streamlines)\n",
    "\n",
    "import numpy as np\n",
    "structureIC = np.array([c.indices for c in clusters])\n",
    "weightsIC   = np.array([1.0/np.sqrt(len(c)) for c in structureIC])"
   ]
  },
  {
   "cell_type": "markdown",
   "metadata": {},
   "source": [
    "Notice that we defined `structure_IC` as a `numpy.array` that contains a list of lists containing the indices associated to each group. We know it sounds a little bit bizarre but it computationally convenient."
   ]
  },
  {
   "cell_type": "markdown",
   "metadata": {},
   "source": [
    "### Define the regularisation term\n",
    "Each compartment must be regularised separately. The user can choose among the following penalties:\n",
    "\n",
    "- $\\sum_{g\\in G}w_g\\|x_g\\|_k$ : `commit.solvers.group_sparsity` with $k\\in \\{2, \\infty\\}$ (only for IC compartment)\n",
    "\n",
    "- $\\|x\\|_1$ : `commit.solvers.norm1`\n",
    "\n",
    "- $\\|x\\|_2$ : `commit.solvers.norm2`\n",
    "\n",
    "- $\\iota_{\\ge 0}(x)$ : `commit.solvers.non_negative` (Default for all compartments)\n",
    "\n",
    "If the chosen regularisation for the IC compartment is $\\sum_{g\\in G}\\|x_g\\|_k$, we can define $k$ via the `group_norm` field, which must be one between\n",
    "\n",
    "- $\\|x\\|_2$ : `commit.solvers.norm2` (Default)\n",
    "\n",
    "- $\\|x\\|_\\infty$ : `commit.solvers.norminf`\n",
    "\n",
    "In this example we consider the following penalties:\n",
    "\n",
    "- Intracellular: group sparsity with 2-norm of each group\n",
    "\n",
    "- Extracellular: 2-norm\n",
    "\n",
    "- Isotropic: 1-norm"
   ]
  },
  {
   "cell_type": "code",
   "execution_count": null,
   "metadata": {},
   "outputs": [],
   "source": [
    "regnorms = [commit.solvers.group_sparsity, commit.solvers.norm2, commit.solvers.norm1]\n",
    "\n",
    "group_norm = 2 # each group is penalised with its 2-norm"
   ]
  },
  {
   "cell_type": "markdown",
   "metadata": {},
   "source": [
    "The regularisation parameters are specified within the lambdas field. Again, do not consider our choice as a standard one."
   ]
  },
  {
   "cell_type": "code",
   "execution_count": 1,
   "metadata": {},
   "outputs": [],
   "source": [
    "lambdas = [10.,10.,10.]"
   ]
  },
  {
   "cell_type": "markdown",
   "metadata": {},
   "source": [
    "### Call the constructor of the data structure"
   ]
  },
  {
   "cell_type": "code",
   "execution_count": null,
   "metadata": {},
   "outputs": [],
   "source": [
    "regterm = commit.solvers.init_regularisation(mit,\n",
    "                                             regnorms    = regnorms,\n",
    "                                             structureIC = structureIC,\n",
    "                                             weightsIC   = weightsIC,\n",
    "                                             group_norm  = group_norm,\n",
    "                                             lambdas     = lambdas)"
   ]
  },
  {
   "cell_type": "markdown",
   "metadata": {},
   "source": [
    "### Call the fit function to perform the optimisation"
   ]
  },
  {
   "cell_type": "code",
   "execution_count": null,
   "metadata": {},
   "outputs": [],
   "source": [
    "mit.fit(regularisation=regterm, max_iter=1000)"
   ]
  },
  {
   "cell_type": "markdown",
   "metadata": {},
   "source": [
    "### Save the results"
   ]
  },
  {
   "cell_type": "code",
   "execution_count": null,
   "metadata": {},
   "outputs": [],
   "source": [
    "suffix = 'IC'+str(regterm[0])+'EC'+str(regterm[1])+'ISO'+str(regterm[2])\n",
    "mit.save_results(path_suffix=suffix)"
   ]
  }
 ],
 "metadata": {
  "kernelspec": {
   "display_name": "Python 2",
   "language": "python",
   "name": "python2"
  },
  "language_info": {
   "codemirror_mode": {
    "name": "ipython",
    "version": 2
   },
   "file_extension": ".py",
   "mimetype": "text/x-python",
   "name": "python",
   "nbconvert_exporter": "python",
   "pygments_lexer": "ipython2",
   "version": "2.7.14"
  }
 },
 "nbformat": 4,
 "nbformat_minor": 2
}
