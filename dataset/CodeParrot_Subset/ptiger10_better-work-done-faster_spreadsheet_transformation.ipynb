{
 "cells": [
  {
   "cell_type": "code",
   "execution_count": 183,
   "metadata": {
    "collapsed": true
   },
   "outputs": [],
   "source": [
    "# Import a library called Pandas and assign it to the alias \"pd.\"  This is a standard convention.\n",
    "# Import a library called Numpy and assign it to the alias \"np.\"\n",
    "import pandas as pd\n",
    "import numpy as np"
   ]
  },
  {
   "cell_type": "code",
   "execution_count": 221,
   "metadata": {
    "collapsed": false
   },
   "outputs": [],
   "source": [
    "# Call a built-in Pandas function called .read_csv() to create a new spreadsheet-like object (i.e., a dataframe).\n",
    "df = pd.read_csv('resources/sample_data.csv')"
   ]
  },
  {
   "cell_type": "code",
   "execution_count": 222,
   "metadata": {
    "collapsed": false
   },
   "outputs": [
    {
     "data": {
      "text/html": [
       "<div>\n",
       "<table border=\"1\" class=\"dataframe\">\n",
       "  <thead>\n",
       "    <tr style=\"text-align: right;\">\n",
       "      <th></th>\n",
       "      <th>Name</th>\n",
       "      <th>Date</th>\n",
       "      <th>Item</th>\n",
       "      <th>Product Category</th>\n",
       "      <th>Time (hrs)</th>\n",
       "      <th>Amt Picked (lbs)</th>\n",
       "      <th>Sale Value ($/lb)</th>\n",
       "    </tr>\n",
       "  </thead>\n",
       "  <tbody>\n",
       "    <tr>\n",
       "      <th>0</th>\n",
       "      <td>Lucas</td>\n",
       "      <td>1/5/17</td>\n",
       "      <td>Green Apple</td>\n",
       "      <td>Apples</td>\n",
       "      <td>2</td>\n",
       "      <td>5</td>\n",
       "      <td>2.5</td>\n",
       "    </tr>\n",
       "    <tr>\n",
       "      <th>1</th>\n",
       "      <td>Valter</td>\n",
       "      <td>1/5/17</td>\n",
       "      <td>European Pear</td>\n",
       "      <td>Pears</td>\n",
       "      <td>4</td>\n",
       "      <td>10</td>\n",
       "      <td>2.0</td>\n",
       "    </tr>\n",
       "    <tr>\n",
       "      <th>2</th>\n",
       "      <td>Erik</td>\n",
       "      <td>1/5/17</td>\n",
       "      <td>Red Apple</td>\n",
       "      <td>Apples</td>\n",
       "      <td>2</td>\n",
       "      <td>3</td>\n",
       "      <td>2.1</td>\n",
       "    </tr>\n",
       "    <tr>\n",
       "      <th>3</th>\n",
       "      <td>Georg</td>\n",
       "      <td>1/5/17</td>\n",
       "      <td>Asian Pear</td>\n",
       "      <td>Pears</td>\n",
       "      <td>8</td>\n",
       "      <td>15</td>\n",
       "      <td>3.8</td>\n",
       "    </tr>\n",
       "    <tr>\n",
       "      <th>4</th>\n",
       "      <td>Lucas</td>\n",
       "      <td>1/5/17</td>\n",
       "      <td>Red Apple</td>\n",
       "      <td>Apples</td>\n",
       "      <td>6</td>\n",
       "      <td>6</td>\n",
       "      <td>3.6</td>\n",
       "    </tr>\n",
       "  </tbody>\n",
       "</table>\n",
       "</div>"
      ],
      "text/plain": [
       "     Name    Date           Item Product Category  Time (hrs)  \\\n",
       "0   Lucas  1/5/17    Green Apple           Apples           2   \n",
       "1  Valter  1/5/17  European Pear            Pears           4   \n",
       "2    Erik  1/5/17      Red Apple           Apples           2   \n",
       "3   Georg  1/5/17     Asian Pear            Pears           8   \n",
       "4   Lucas  1/5/17      Red Apple           Apples           6   \n",
       "\n",
       "   Amt Picked (lbs)  Sale Value ($/lb)  \n",
       "0                 5                2.5  \n",
       "1                10                2.0  \n",
       "2                 3                2.1  \n",
       "3                15                3.8  \n",
       "4                 6                3.6  "
      ]
     },
     "execution_count": 222,
     "metadata": {},
     "output_type": "execute_result"
    }
   ],
   "source": [
    "# Print the spreadsheet for easy viewing.\n",
    "df"
   ]
  },
  {
   "cell_type": "code",
   "execution_count": 223,
   "metadata": {
    "collapsed": true
   },
   "outputs": [],
   "source": [
    "# Create a dictionary called item_name_changes and populate it with key/value pairs.\n",
    "item_name_changes = {'European Pear':'Continental Fruit', 'Red Apple':'Pomme Rouge'}"
   ]
  },
  {
   "cell_type": "code",
   "execution_count": 224,
   "metadata": {
    "collapsed": false
   },
   "outputs": [],
   "source": [
    "# Call the dataframe's built-in .replace() function on the Item column to change the item names\n",
    "df['Item'].replace(item_name_changes, inplace=True)"
   ]
  },
  {
   "cell_type": "code",
   "execution_count": 225,
   "metadata": {
    "collapsed": false
   },
   "outputs": [],
   "source": [
    "# Create a function in which an input (lbs, expressed here as x) is converted to grams.\n",
    "# Format the results as a floating point object to two decimal points.\n",
    "def convert_lb_to_kg(x):\n",
    "    return x*0.453"
   ]
  },
  {
   "cell_type": "code",
   "execution_count": 226,
   "metadata": {
    "collapsed": false
   },
   "outputs": [],
   "source": [
    "# Create a new column applying the conversion function to every row in the Amt Picked (lbs) column.\n",
    "df['Amt Picked (kg)'] = [convert_lb_to_kg(row) for row in df['Amt Picked (lbs)']]"
   ]
  },
  {
   "cell_type": "code",
   "execution_count": 227,
   "metadata": {
    "collapsed": false
   },
   "outputs": [],
   "source": [
    "def convert_dollars_per_lb_to_euro_per_kg(x):\n",
    "    return (x*0.95) / 0.453"
   ]
  },
  {
   "cell_type": "code",
   "execution_count": 228,
   "metadata": {
    "collapsed": true
   },
   "outputs": [],
   "source": [
    "df['Sale Value (€/kg)'] = [convert_dollars_per_lb_to_euro_per_kg(row) for row in df['Sale Value ($/lb)']]"
   ]
  },
  {
   "cell_type": "code",
   "execution_count": 229,
   "metadata": {
    "collapsed": true
   },
   "outputs": [],
   "source": [
    "# Create a new column calculating the total amount earned from selling that particular item.\n",
    "df['Amt Earned (€)'] = df['Amt Picked (kg)'] * df['Sale Value (€/kg)']"
   ]
  },
  {
   "cell_type": "code",
   "execution_count": 230,
   "metadata": {
    "collapsed": true
   },
   "outputs": [],
   "source": [
    "# Create a new column calculating the cumulative amount earned that day by each person.\n",
    "# Note that Lucas' cumulative total increases after factoring in the Pomme Rouge sale.\n",
    "df['Cumulative Amt Earned Per Person (€)'] = df.groupby('Name')['Amt Earned (€)'].transform(np.cumsum)"
   ]
  },
  {
   "cell_type": "code",
   "execution_count": 231,
   "metadata": {
    "collapsed": false
   },
   "outputs": [],
   "source": [
    "# Create a new column totaling the time spent harvesting this product category on this day, across all harvesters.\n",
    "df['Collective Time Harvesting This Category (hrs)'] = df.groupby('Product Category')['Time (hrs)'].transform(np.sum)"
   ]
  },
  {
   "cell_type": "code",
   "execution_count": 232,
   "metadata": {
    "collapsed": false
   },
   "outputs": [],
   "source": [
    "# Format the results of the numeric columns as floating point objects to one decimal place.\n",
    "numeric_columns = ['Amt Picked (kg)', 'Sale Value (€/kg)', 'Amt Earned (€)', 'Cumulative Amt Earned Per Person (€)']\n",
    "df[numeric_columns] = df[numeric_columns].applymap('{:,.1f}'.format)"
   ]
  },
  {
   "cell_type": "code",
   "execution_count": 233,
   "metadata": {
    "collapsed": false
   },
   "outputs": [],
   "source": [
    "# Drop the unnecessary legacy columns.\n",
    "df.drop(['Amt Picked (lbs)', 'Sale Value ($/lb)'], axis=1, inplace=True)"
   ]
  },
  {
   "cell_type": "code",
   "execution_count": 234,
   "metadata": {
    "collapsed": false
   },
   "outputs": [
    {
     "data": {
      "text/html": [
       "<div>\n",
       "<table border=\"1\" class=\"dataframe\">\n",
       "  <thead>\n",
       "    <tr style=\"text-align: right;\">\n",
       "      <th></th>\n",
       "      <th>Name</th>\n",
       "      <th>Date</th>\n",
       "      <th>Item</th>\n",
       "      <th>Product Category</th>\n",
       "      <th>Time (hrs)</th>\n",
       "      <th>Amt Picked (kg)</th>\n",
       "      <th>Sale Value (€/kg)</th>\n",
       "      <th>Amt Earned (€)</th>\n",
       "      <th>Cumulative Amt Earned Per Person (€)</th>\n",
       "      <th>Collective Time Harvesting This Category (hrs)</th>\n",
       "    </tr>\n",
       "  </thead>\n",
       "  <tbody>\n",
       "    <tr>\n",
       "      <th>0</th>\n",
       "      <td>Lucas</td>\n",
       "      <td>1/5/17</td>\n",
       "      <td>Green Apple</td>\n",
       "      <td>Apples</td>\n",
       "      <td>2</td>\n",
       "      <td>2.3</td>\n",
       "      <td>5.2</td>\n",
       "      <td>11.9</td>\n",
       "      <td>11.9</td>\n",
       "      <td>10</td>\n",
       "    </tr>\n",
       "    <tr>\n",
       "      <th>1</th>\n",
       "      <td>Valter</td>\n",
       "      <td>1/5/17</td>\n",
       "      <td>Continental Fruit</td>\n",
       "      <td>Pears</td>\n",
       "      <td>4</td>\n",
       "      <td>4.5</td>\n",
       "      <td>4.2</td>\n",
       "      <td>19.0</td>\n",
       "      <td>19.0</td>\n",
       "      <td>12</td>\n",
       "    </tr>\n",
       "    <tr>\n",
       "      <th>2</th>\n",
       "      <td>Erik</td>\n",
       "      <td>1/5/17</td>\n",
       "      <td>Pomme Rouge</td>\n",
       "      <td>Apples</td>\n",
       "      <td>2</td>\n",
       "      <td>1.4</td>\n",
       "      <td>4.4</td>\n",
       "      <td>6.0</td>\n",
       "      <td>6.0</td>\n",
       "      <td>10</td>\n",
       "    </tr>\n",
       "    <tr>\n",
       "      <th>3</th>\n",
       "      <td>Georg</td>\n",
       "      <td>1/5/17</td>\n",
       "      <td>Asian Pear</td>\n",
       "      <td>Pears</td>\n",
       "      <td>8</td>\n",
       "      <td>6.8</td>\n",
       "      <td>8.0</td>\n",
       "      <td>54.1</td>\n",
       "      <td>54.1</td>\n",
       "      <td>12</td>\n",
       "    </tr>\n",
       "    <tr>\n",
       "      <th>4</th>\n",
       "      <td>Lucas</td>\n",
       "      <td>1/5/17</td>\n",
       "      <td>Pomme Rouge</td>\n",
       "      <td>Apples</td>\n",
       "      <td>6</td>\n",
       "      <td>2.7</td>\n",
       "      <td>7.5</td>\n",
       "      <td>20.5</td>\n",
       "      <td>32.4</td>\n",
       "      <td>10</td>\n",
       "    </tr>\n",
       "  </tbody>\n",
       "</table>\n",
       "</div>"
      ],
      "text/plain": [
       "     Name    Date               Item Product Category  Time (hrs)  \\\n",
       "0   Lucas  1/5/17        Green Apple           Apples           2   \n",
       "1  Valter  1/5/17  Continental Fruit            Pears           4   \n",
       "2    Erik  1/5/17        Pomme Rouge           Apples           2   \n",
       "3   Georg  1/5/17         Asian Pear            Pears           8   \n",
       "4   Lucas  1/5/17        Pomme Rouge           Apples           6   \n",
       "\n",
       "  Amt Picked (kg) Sale Value (€/kg) Amt Earned (€)  \\\n",
       "0             2.3               5.2           11.9   \n",
       "1             4.5               4.2           19.0   \n",
       "2             1.4               4.4            6.0   \n",
       "3             6.8               8.0           54.1   \n",
       "4             2.7               7.5           20.5   \n",
       "\n",
       "  Cumulative Amt Earned Per Person (€)  \\\n",
       "0                                 11.9   \n",
       "1                                 19.0   \n",
       "2                                  6.0   \n",
       "3                                 54.1   \n",
       "4                                 32.4   \n",
       "\n",
       "   Collective Time Harvesting This Category (hrs)  \n",
       "0                                              10  \n",
       "1                                              12  \n",
       "2                                              10  \n",
       "3                                              12  \n",
       "4                                              10  "
      ]
     },
     "execution_count": 234,
     "metadata": {},
     "output_type": "execute_result"
    }
   ],
   "source": [
    "# Print the final result.\n",
    "df"
   ]
  },
  {
   "cell_type": "code",
   "execution_count": null,
   "metadata": {
    "collapsed": true
   },
   "outputs": [],
   "source": []
  }
 ],
 "metadata": {
  "anaconda-cloud": {},
  "kernelspec": {
   "display_name": "Python [conda env:better-work-done-faster]",
   "language": "python",
   "name": "conda-env-better-work-done-faster-py"
  },
  "language_info": {
   "codemirror_mode": {
    "name": "ipython",
    "version": 3
   },
   "file_extension": ".py",
   "mimetype": "text/x-python",
   "name": "python",
   "nbconvert_exporter": "python",
   "pygments_lexer": "ipython3",
   "version": "3.5.2"
  }
 },
 "nbformat": 4,
 "nbformat_minor": 2
}
