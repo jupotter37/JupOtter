{
 "cells": [
  {
   "cell_type": "code",
   "execution_count": 1,
   "metadata": {
    "collapsed": false
   },
   "outputs": [],
   "source": [
    "%matplotlib inline\n",
    "import tensorflow as tf\n",
    "import matplotlib.pyplot as plt\n",
    "import numpy as np\n",
    "import pandas as pd\n",
    "import seaborn as sns"
   ]
  },
  {
   "cell_type": "code",
   "execution_count": 2,
   "metadata": {
    "collapsed": true
   },
   "outputs": [],
   "source": [
    "from __future__ import absolute_import\n",
    "from __future__ import division\n",
    "from __future__ import print_function\n",
    "\n",
    "import collections\n",
    "import math\n",
    "import os\n",
    "import random\n",
    "import zipfile\n",
    "\n",
    "from six.moves import urllib\n",
    "from six.moves import xrange  # pylint: disable=redefined-builtin"
   ]
  },
  {
   "cell_type": "code",
   "execution_count": 3,
   "metadata": {
    "collapsed": false
   },
   "outputs": [
    {
     "name": "stdout",
     "output_type": "stream",
     "text": [
      "Found and verified text8.zip\n"
     ]
    }
   ],
   "source": [
    "# Step 1: Download the data.\n",
    "url = 'http://mattmahoney.net/dc/'\n",
    "\n",
    "\n",
    "def maybe_download(filename, expected_bytes):\n",
    "  \"\"\"Download a file if not present, and make sure it's the right size.\"\"\"\n",
    "  if not os.path.exists(filename):\n",
    "    filename, _ = urllib.request.urlretrieve(url + filename, filename)\n",
    "  statinfo = os.stat(filename)\n",
    "  if statinfo.st_size == expected_bytes:\n",
    "    print('Found and verified', filename)\n",
    "  else:\n",
    "    print(statinfo.st_size)\n",
    "    print('Failed to verify ' + filename + '. Can you get to it with a browser?')\n",
    "  return filename\n",
    "filename = maybe_download('text8.zip', 31344016)"
   ]
  },
  {
   "cell_type": "code",
   "execution_count": 4,
   "metadata": {
    "collapsed": false
   },
   "outputs": [
    {
     "name": "stdout",
     "output_type": "stream",
     "text": [
      "Data size 17005207\n"
     ]
    }
   ],
   "source": [
    "# Read the data into a list of strings.\n",
    "def read_data(filename):\n",
    "  \"\"\"Extract the first file enclosed in a zip file as a list of words\"\"\"\n",
    "  with zipfile.ZipFile(filename) as f:\n",
    "    data = tf.compat.as_str(f.read(f.namelist()[0])).split()\n",
    "  return data\n",
    "\n",
    "words = read_data('/Users/najeebkhan/Downloads/text8 (1).zip')\n",
    "print('Data size', len(words))"
   ]
  },
  {
   "cell_type": "code",
   "execution_count": 5,
   "metadata": {
    "collapsed": false
   },
   "outputs": [
    {
     "name": "stdout",
     "output_type": "stream",
     "text": [
      "Most common words (+UNK) [['UNK', 418391], ('the', 1061396), ('of', 593677), ('and', 416629), ('one', 411764)]\n",
      "Sample data [5239, 3084, 12, 6, 195, 2, 3137, 46, 59, 156] ['anarchism', 'originated', 'as', 'a', 'term', 'of', 'abuse', 'first', 'used', 'against']\n"
     ]
    }
   ],
   "source": [
    "# Step 2: Build the dictionary and replace rare words with UNK token.\n",
    "vocabulary_size = 50000\n",
    "\n",
    "\n",
    "def build_dataset(words, vocabulary_size):\n",
    "  count = [['UNK', -1]]\n",
    "  count.extend(collections.Counter(words).most_common(vocabulary_size - 1))\n",
    "  dictionary = dict()\n",
    "  for word, _ in count:\n",
    "    dictionary[word] = len(dictionary)\n",
    "  data = list()\n",
    "  unk_count = 0\n",
    "  for word in words:\n",
    "    if word in dictionary:\n",
    "      index = dictionary[word]\n",
    "    else:\n",
    "      index = 0  # dictionary['UNK']\n",
    "      unk_count += 1\n",
    "    data.append(index)\n",
    "  count[0][1] = unk_count\n",
    "  reverse_dictionary = dict(zip(dictionary.values(), dictionary.keys()))\n",
    "  return data, count, dictionary, reverse_dictionary\n",
    "\n",
    "data, count, dictionary, reverse_dictionary = build_dataset(words, vocabulary_size)\n",
    "del words  # Hint to reduce memory.\n",
    "print('Most common words (+UNK)', count[:5])\n",
    "print('Sample data', data[:10], [reverse_dictionary[i] for i in data[:10]])"
   ]
  },
  {
   "cell_type": "code",
   "execution_count": 6,
   "metadata": {
    "collapsed": true
   },
   "outputs": [],
   "source": [
    "data_index = 0\n",
    "# Step 3: Function to generate a training batch for the skip-gram model.\n",
    "def generate_batch(batch_size, num_skips, skip_window):\n",
    "  global data_index\n",
    "  assert batch_size % num_skips == 0\n",
    "  assert num_skips <= 2 * skip_window\n",
    "  batch = np.ndarray(shape=(batch_size), dtype=np.int32)\n",
    "  labels = np.ndarray(shape=(batch_size, 1), dtype=np.int32)\n",
    "  span = 2 * skip_window + 1  # [ skip_window target skip_window ]\n",
    "  buffer = collections.deque(maxlen=span)\n",
    "  for _ in range(span):\n",
    "    buffer.append(data[data_index])\n",
    "    data_index = (data_index + 1) % len(data)\n",
    "  for i in range(batch_size // num_skips):\n",
    "    target = skip_window  # target label at the center of the buffer\n",
    "    targets_to_avoid = [skip_window]\n",
    "    for j in range(num_skips):\n",
    "      while target in targets_to_avoid:\n",
    "        target = random.randint(0, span - 1)\n",
    "      targets_to_avoid.append(target)\n",
    "      batch[i * num_skips + j] = buffer[skip_window]\n",
    "      labels[i * num_skips + j, 0] = buffer[target]\n",
    "    buffer.append(data[data_index])\n",
    "    data_index = (data_index + 1) % len(data)\n",
    "  # Backtrack a little bit to avoid skipping words in the end of a batch\n",
    "  data_index = (data_index + len(data) - span) % len(data)\n",
    "  return batch, labels\n"
   ]
  },
  {
   "cell_type": "code",
   "execution_count": 7,
   "metadata": {
    "collapsed": false
   },
   "outputs": [
    {
     "name": "stdout",
     "output_type": "stream",
     "text": [
      "3084 originated -> 5239 anarchism\n",
      "3084 originated -> 12 as\n",
      "12 as -> 3084 originated\n",
      "12 as -> 6 a\n",
      "6 a -> 195 term\n",
      "6 a -> 12 as\n",
      "195 term -> 6 a\n",
      "195 term -> 2 of\n"
     ]
    }
   ],
   "source": [
    "batch, labels = generate_batch(batch_size=8, num_skips=2, skip_window=1)\n",
    "for i in range(8):\n",
    "  print(batch[i], reverse_dictionary[batch[i]],\n",
    "        '->', labels[i, 0], reverse_dictionary[labels[i, 0]])"
   ]
  },
  {
   "cell_type": "code",
   "execution_count": 8,
   "metadata": {
    "collapsed": false
   },
   "outputs": [
    {
     "name": "stdout",
     "output_type": "stream",
     "text": [
      "[3084 3084   12   12    6    6  195  195]\n"
     ]
    }
   ],
   "source": [
    "print(batch)"
   ]
  },
  {
   "cell_type": "markdown",
   "metadata": {
    "collapsed": true
   },
   "source": [
    "### Creating the model"
   ]
  },
  {
   "cell_type": "code",
   "execution_count": 9,
   "metadata": {
    "collapsed": true
   },
   "outputs": [],
   "source": [
    "from tensorflow.contrib.tensorboard.plugins import projector\n",
    "tf.reset_default_graph()"
   ]
  },
  {
   "cell_type": "code",
   "execution_count": 10,
   "metadata": {
    "collapsed": false
   },
   "outputs": [],
   "source": [
    "class SkipGram(object):\n",
    "    \n",
    "    def __init__(self,params):\n",
    "        self.BATCH_SIZE = params['BATCH_SIZE']\n",
    "        self.VOCAB_SIZE = params['VOCAB_SIZE']\n",
    "        self.EMBED_SIZE = params['EMBED_SIZE']\n",
    "        self.NUM_SAMPLED = params['NUM_SAMPLED']\n",
    "        self.LEARNING_RATE =params['LEARNING_RATE']\n",
    "        self.NUM_EPOCHS = params['NUM_EPOCHS']\n",
    "        self.epoch_loss = []\n",
    "        self._summary_writer,self._writer = None,None\n",
    "        ## The following variables check for whether the elements \n",
    "        ## of the graph are not being added again and again into\n",
    "        ## the graph definition. Lazy Loading!\n",
    "        self._placeholder = None\n",
    "        self._embeddings = None\n",
    "        self._loss = None\n",
    "        self._optimizer = None\n",
    "        ## Model variable to save the number of steps\n",
    "        self.global_step = tf.Variable(0,dtype=tf.int32,name=\"global_step\",trainable=False)\n",
    "        ## Model variable for summary op\n",
    "        self.summary_op = None\n",
    "    \n",
    "    def _create_placeholders(self):\n",
    "        if not self._placeholder:\n",
    "            center_words = tf.placeholder(tf.int32,shape=[self.BATCH_SIZE],name='center_words')\n",
    "            target_words = tf.placeholder(tf.int32,shape=[self.BATCH_SIZE,1],name='target_words')\n",
    "            self._placeholder = (center_words,target_words)\n",
    "        else:\n",
    "            pass\n",
    "        \n",
    "    def _create_embeddings(self):\n",
    "        if not self._embeddings:\n",
    "            center_words,target_words = self._placeholder\n",
    "            embeddings = tf.get_variable(name=\"embeddings\",shape=[self.VOCAB_SIZE,self.EMBED_SIZE],\n",
    "                                             initializer=tf.contrib.layers.xavier_initializer())\n",
    "            embed = tf.nn.embedding_lookup(params=embeddings,ids=center_words)\n",
    "            self._embeddings = embeddings,embed\n",
    "    \n",
    "    def _create_loss(self):\n",
    "        if not self._loss:\n",
    "            center_words,target_words = self._placeholder\n",
    "            embeddings,embed = self._embeddings\n",
    "            nce_weight = tf.get_variable(name=\"nce_weight\",shape=[self.VOCAB_SIZE,self.EMBED_SIZE],\n",
    "                                             initializer=tf.contrib.layers.xavier_initializer())\n",
    "            nce_bias = tf.Variable(tf.zeros([self.VOCAB_SIZE]),name=\"nce_bias\")\n",
    "            self._loss = tf.reduce_mean(tf.nn.nce_loss(weights=nce_weight,biases=nce_bias,\n",
    "                                                      labels=target_words,inputs=embed,\n",
    "                                                      num_sampled=self.NUM_SAMPLED,num_classes=self.VOCAB_SIZE))\n",
    "        \n",
    "    def _create_optimizer(self):\n",
    "        if not self._optimizer:\n",
    "            self._optimizer = tf.train.GradientDescentOptimizer(self.LEARNING_RATE).minimize(self._loss,global_step=\n",
    "                                                                                            self.global_step)\n",
    "\n",
    "    def train_model(self):\n",
    "        center_words,target_words = self._placeholder\n",
    "        embeddings,embed = self._embeddings\n",
    "        init = tf.global_variables_initializer()\n",
    "        ## Saving the model parameters with every 1000 epochs\n",
    "        saver = tf.train.Saver()\n",
    "        with tf.Session() as sess:\n",
    "            sess.run(init)\n",
    "            ### TSNE for the word embeddings\n",
    "            final_embed_matrix = sess.run(embeddings)\n",
    "            embedding_var = tf.Variable(final_embed_matrix[:500], name='embedding')\n",
    "            sess.run(embedding_var.initializer)\n",
    "            config = projector.ProjectorConfig()\n",
    "            self._summary_writer = tf.summary.FileWriter('graphs/tsne/')\n",
    "            embedding = config.embeddings.add()\n",
    "            embedding.tensor_name = embedding_var.name\n",
    "            projector.visualize_embeddings(self._summary_writer, config)\n",
    "            saver_embed = tf.train.Saver([embedding_var])\n",
    "            saver_embed.save(sess,'graphs/tsne/skip-gram.ckpt', 1)\n",
    "            ### Tensorboard graph\n",
    "            self._writer = tf.summary.FileWriter('graphs/summary/',sess.graph)\n",
    "            self.epoch_loss = []\n",
    "            for epoch in range(1,self.NUM_EPOCHS+1):\n",
    "                batch,labels = generate_batch(batch_size=self.BATCH_SIZE,num_skips=2,skip_window=1)\n",
    "                _,l,summary = sess.run([self._optimizer,self._loss,self.summary_op],feed_dict=\n",
    "                                       {center_words:batch,target_words:labels})\n",
    "                ## Summary writer operation\n",
    "                self._writer.add_summary(summary,global_step=epoch)\n",
    "                if epoch%1000 == 0:\n",
    "                    ## Saving the model\n",
    "                    print('Saving Checkpoint...')\n",
    "                    saver.save(sess,'checkpoints/skip_gram',global_step=self.global_step)\n",
    "                    print('Epoch: {}\\tLoss: {}'.format(epoch,l))\n",
    "                self.epoch_loss.append(l)\n",
    "    \n",
    "    def _plot_loss(self):\n",
    "        plt.plot(self.epoch_loss)\n",
    "        plt.xlabel('Number of Epochs')\n",
    "        plt.ylabel('Loss')\n",
    "        plt.title('Loss of SkipGram Model')\n",
    "        plt.plot()\n",
    "        \n",
    "    def _create_summaries(self):\n",
    "        with tf.name_scope(\"summaries\"):\n",
    "            tf.summary.scalar(\"loss\",self._loss)\n",
    "            tf.summary.histogram(\"Histogram_Loss\",self._loss)\n",
    "            ## Merging the summaries to create a single op\n",
    "            self.summary_op = tf.summary.merge_all()\n",
    "        \n",
    "    def _close_visulisations(self):\n",
    "        self._writer.close()\n",
    "        self._summary_writer.close()\n",
    "    \n",
    "        "
   ]
  },
  {
   "cell_type": "code",
   "execution_count": 11,
   "metadata": {
    "collapsed": false
   },
   "outputs": [],
   "source": [
    "params = {'BATCH_SIZE':128,\n",
    "          'VOCAB_SIZE':50000,\n",
    "          'EMBED_SIZE':128,\n",
    "          'NUM_SAMPLED':64,\n",
    "          'LEARNING_RATE':1.0,\n",
    "          'NUM_EPOCHS':10000}"
   ]
  },
  {
   "cell_type": "code",
   "execution_count": 12,
   "metadata": {
    "collapsed": false
   },
   "outputs": [],
   "source": [
    "skipgram = SkipGram(params=params)"
   ]
  },
  {
   "cell_type": "code",
   "execution_count": 13,
   "metadata": {
    "collapsed": true
   },
   "outputs": [],
   "source": [
    "with tf.name_scope(\"Data\"):\n",
    "    skipgram._create_placeholders()"
   ]
  },
  {
   "cell_type": "code",
   "execution_count": 14,
   "metadata": {
    "collapsed": false
   },
   "outputs": [],
   "source": [
    "with tf.name_scope(\"Embeddings\"):\n",
    "    skipgram._create_embeddings()"
   ]
  },
  {
   "cell_type": "code",
   "execution_count": 15,
   "metadata": {
    "collapsed": true
   },
   "outputs": [],
   "source": [
    "with tf.name_scope(\"Loss\"):\n",
    "    skipgram._create_loss()"
   ]
  },
  {
   "cell_type": "code",
   "execution_count": 16,
   "metadata": {
    "collapsed": false
   },
   "outputs": [],
   "source": [
    "skipgram._create_optimizer()"
   ]
  },
  {
   "cell_type": "code",
   "execution_count": 17,
   "metadata": {
    "collapsed": false
   },
   "outputs": [],
   "source": [
    "skipgram._create_summaries()"
   ]
  },
  {
   "cell_type": "code",
   "execution_count": 18,
   "metadata": {
    "collapsed": false
   },
   "outputs": [
    {
     "name": "stdout",
     "output_type": "stream",
     "text": [
      "Saving Checkpoint...\n",
      "Epoch: 1000\tLoss: 125.59274292\n",
      "Saving Checkpoint...\n",
      "Epoch: 2000\tLoss: 32.9993362427\n",
      "Saving Checkpoint...\n",
      "Epoch: 3000\tLoss: 53.9481925964\n",
      "Saving Checkpoint...\n",
      "Epoch: 4000\tLoss: 45.4811019897\n",
      "Saving Checkpoint...\n",
      "Epoch: 5000\tLoss: 16.2387599945\n",
      "Saving Checkpoint...\n",
      "Epoch: 6000\tLoss: 17.8184661865\n",
      "Saving Checkpoint...\n",
      "Epoch: 7000\tLoss: 13.8811798096\n",
      "Saving Checkpoint...\n",
      "Epoch: 8000\tLoss: 6.84304475784\n",
      "Saving Checkpoint...\n",
      "Epoch: 9000\tLoss: 18.7553730011\n",
      "Saving Checkpoint...\n",
      "Epoch: 10000\tLoss: 14.5810089111\n"
     ]
    }
   ],
   "source": [
    "skipgram.train_model()"
   ]
  },
  {
   "cell_type": "code",
   "execution_count": 19,
   "metadata": {
    "collapsed": false
   },
   "outputs": [
    {
     "data": {
      "image/png": "[encoded data removed]",
      "text/plain": [
       "<matplotlib.figure.Figure at 0x1288829d0>"
      ]
     },
     "metadata": {},
     "output_type": "display_data"
    }
   ],
   "source": [
    "skipgram._plot_loss()"
   ]
  },
  {
   "cell_type": "code",
   "execution_count": 20,
   "metadata": {
    "collapsed": false
   },
   "outputs": [
    {
     "name": "stdout",
     "output_type": "stream",
     "text": [
      "Starting TensorBoard 41 on port 6006\n",
      "(You can navigate to http://192.168.0.102:6006)\n",
      "WARNING:tensorflow:Found more than one graph event per run, or there was a metagraph containing a graph_def, as well as one or more graph events.  Overwriting the graph with the newest event.\n",
      "WARNING:tensorflow:Found more than one metagraph event per run. Overwriting the metagraph with the newest event.\n",
      "^CTraceback (most recent call last):\n",
      "  File \"/Users/najeebkhan/anaconda/bin/tensorboard\", line 11, in <module>\n",
      "    sys.exit(main())\n",
      "  File \"/Users/najeebkhan/anaconda/lib/python2.7/site-packages/tensorflow/tensorboard/tensorboard.py\", line 151, in main\n",
      "    tb_server.serve_forever()\n",
      "  File \"/Users/najeebkhan/anaconda/lib/python2.7/SocketServer.py\", line 231, in serve_forever\n",
      "    poll_interval)\n",
      "  File \"/Users/najeebkhan/anaconda/lib/python2.7/SocketServer.py\", line 150, in _eintr_retry\n",
      "    return func(*args)\n",
      "KeyboardInterrupt\n",
      "\n"
     ]
    }
   ],
   "source": [
    "!tensorboard --logdir='graphs/summary/' --port 6006"
   ]
  },
  {
   "cell_type": "code",
   "execution_count": 80,
   "metadata": {
    "collapsed": false
   },
   "outputs": [],
   "source": [
    "skipgram._close_visulisations()"
   ]
  },
  {
   "cell_type": "code",
   "execution_count": null,
   "metadata": {
    "collapsed": true
   },
   "outputs": [],
   "source": []
  }
 ],
 "metadata": {
  "anaconda-cloud": {},
  "kernelspec": {
   "display_name": "Python [default]",
   "language": "python",
   "name": "python2"
  },
  "language_info": {
   "codemirror_mode": {
    "name": "ipython",
    "version": 2
   },
   "file_extension": ".py",
   "mimetype": "text/x-python",
   "name": "python",
   "nbconvert_exporter": "python",
   "pygments_lexer": "ipython2",
   "version": "2.7.12"
  }
 },
 "nbformat": 4,
 "nbformat_minor": 1
}
