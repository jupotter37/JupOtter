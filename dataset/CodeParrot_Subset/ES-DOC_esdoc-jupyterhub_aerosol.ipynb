{
    "nbformat_minor": 0, 
    "nbformat": 4, 
    "cells": [
        {
            "source": [
                "# ES-DOC CMIP6 Model Properties - Aerosol \n", 
                "**MIP Era**: CMIP6  \n", 
                "**Institute**: NCC  \n", 
                "**Source ID**: SANDBOX-1  \n", 
                "**Topic**: Aerosol  \n", 
                "**Sub-Topics**: Transport, Emissions, Concentrations, Optical Radiative Properties, Model.   \n", 
                "**Properties**: 69 (37 required)  \n", 
                "**Model descriptions**: [Model description details](https://specializations.es-doc.org/cmip6/aerosol?client=jupyter-notebook)  \n", 
                "**Initialized From**: --  \n", 
                "\n", 
                "**Notebook Help**: [Goto notebook help page](https://es-doc.org/cmip6-models-documenting-with-ipython)  \n", 
                "**Notebook Initialised**: 2018-02-15 16:54:24"
            ], 
            "cell_type": "markdown", 
            "metadata": {}
        }, 
        {
            "source": [
                "### Document Setup  \n", 
                "**IMPORTANT: to be executed each time you run the notebook**  "
            ], 
            "cell_type": "markdown", 
            "metadata": {}
        }, 
        {
            "execution_count": null, 
            "cell_type": "code", 
            "source": [
                "# DO NOT EDIT !  \n", 
                "from pyesdoc.ipython.model_topic import NotebookOutput  \n", 
                "\n", 
                "# DO NOT EDIT !  \n", 
                "DOC = NotebookOutput('cmip6', 'ncc', 'sandbox-1', 'aerosol')"
            ], 
            "outputs": [], 
            "metadata": {}
        }, 
        {
            "source": [
                "### Document Authors  \n", 
                "*Set document authors*"
            ], 
            "cell_type": "markdown", 
            "metadata": {}
        }, 
        {
            "execution_count": null, 
            "cell_type": "code", 
            "source": [
                "# Set as follows: DOC.set_author(\"name\", \"email\")  \n", 
                "# TODO - please enter value(s)"
            ], 
            "outputs": [], 
            "metadata": {}
        }, 
        {
            "source": [
                "### Document Contributors  \n", 
                "*Specify document contributors*  "
            ], 
            "cell_type": "markdown", 
            "metadata": {}
        }, 
        {
            "execution_count": null, 
            "cell_type": "code", 
            "source": [
                "# Set as follows: DOC.set_contributor(\"name\", \"email\")  \n", 
                "# TODO - please enter value(s)"
            ], 
            "outputs": [], 
            "metadata": {}
        }, 
        {
            "source": [
                "### Document Publication  \n", 
                "*Specify document publication status*  "
            ], 
            "cell_type": "markdown", 
            "metadata": {}
        }, 
        {
            "execution_count": null, 
            "cell_type": "code", 
            "source": [
                "# Set publication status:  \n", 
                "# 0=do not publish, 1=publish.   \n", 
                "DOC.set_publication_status(0)"
            ], 
            "outputs": [], 
            "metadata": {}
        }, 
        {
            "source": [
                "### Document Table of Contents  \n", 
                "[1. Key Properties](#1.-Key-Properties)  \n", 
                "[2. Key Properties --&gt; Software Properties](#2.-Key-Properties---&gt;-Software-Properties)  \n", 
                "[3. Key Properties --&gt; Timestep Framework](#3.-Key-Properties---&gt;-Timestep-Framework)  \n", 
                "[4. Key Properties --&gt; Meteorological Forcings](#4.-Key-Properties---&gt;-Meteorological-Forcings)  \n", 
                "[5. Key Properties --&gt; Resolution](#5.-Key-Properties---&gt;-Resolution)  \n", 
                "[6. Key Properties --&gt; Tuning Applied](#6.-Key-Properties---&gt;-Tuning-Applied)  \n", 
                "[7. Transport](#7.-Transport)  \n", 
                "[8. Emissions](#8.-Emissions)  \n", 
                "[9. Concentrations](#9.-Concentrations)  \n", 
                "[10. Optical Radiative Properties](#10.-Optical-Radiative-Properties)  \n", 
                "[11. Optical Radiative Properties --&gt; Absorption](#11.-Optical-Radiative-Properties---&gt;-Absorption)  \n", 
                "[12. Optical Radiative Properties --&gt; Mixtures](#12.-Optical-Radiative-Properties---&gt;-Mixtures)  \n", 
                "[13. Optical Radiative Properties --&gt; Impact Of H2o](#13.-Optical-Radiative-Properties---&gt;-Impact-Of-H2o)  \n", 
                "[14. Optical Radiative Properties --&gt; Radiative Scheme](#14.-Optical-Radiative-Properties---&gt;-Radiative-Scheme)  \n", 
                "[15. Optical Radiative Properties --&gt; Cloud Interactions](#15.-Optical-Radiative-Properties---&gt;-Cloud-Interactions)  \n", 
                "[16. Model](#16.-Model)  \n", 
                "\n"
            ], 
            "cell_type": "markdown", 
            "metadata": {}
        }, 
        {
            "source": [
                "# 1. Key Properties  \n", 
                "*Key properties of the aerosol model*"
            ], 
            "cell_type": "markdown", 
            "metadata": {}
        }, 
        {
            "source": [
                "### 1.1. Model Overview\n", 
                "**Is Required:** TRUE&nbsp;&nbsp;&nbsp;&nbsp;**Type:** STRING&nbsp;&nbsp;&nbsp;&nbsp;**Cardinality:** 1.1\n", 
                "### *Overview of aerosol model.*"
            ], 
            "cell_type": "markdown", 
            "metadata": {}
        }, 
        {
            "execution_count": null, 
            "cell_type": "code", 
            "source": [
                "# PROPERTY ID - DO NOT EDIT !  \n", 
                "DOC.set_id('cmip6.aerosol.key_properties.model_overview')  \n", 
                "\n", 
                "# PROPERTY VALUE: \n", 
                "# Set as follows: DOC.set_value(\"value\")  \n", 
                "# TODO - please enter value(s)", 
                "\n"
            ], 
            "outputs": [], 
            "metadata": {
                "collapsed": true
            }
        }, 
        {
            "source": [
                "### 1.2. Model Name\n", 
                "**Is Required:** TRUE&nbsp;&nbsp;&nbsp;&nbsp;**Type:** STRING&nbsp;&nbsp;&nbsp;&nbsp;**Cardinality:** 1.1\n", 
                "### *Name of aerosol model code*"
            ], 
            "cell_type": "markdown", 
            "metadata": {}
        }, 
        {
            "execution_count": null, 
            "cell_type": "code", 
            "source": [
                "# PROPERTY ID - DO NOT EDIT !  \n", 
                "DOC.set_id('cmip6.aerosol.key_properties.model_name')  \n", 
                "\n", 
                "# PROPERTY VALUE: \n", 
                "# Set as follows: DOC.set_value(\"value\")  \n", 
                "# TODO - please enter value(s)", 
                "\n"
            ], 
            "outputs": [], 
            "metadata": {
                "collapsed": true
            }
        }, 
        {
            "source": [
                "### 1.3. Scheme Scope\n", 
                "**Is Required:** TRUE&nbsp;&nbsp;&nbsp;&nbsp;**Type:** ENUM&nbsp;&nbsp;&nbsp;&nbsp;**Cardinality:** 1.N\n", 
                "### *Atmospheric domains covered by the aerosol model*"
            ], 
            "cell_type": "markdown", 
            "metadata": {}
        }, 
        {
            "execution_count": null, 
            "cell_type": "code", 
            "source": [
                "# PROPERTY ID - DO NOT EDIT !  \n", 
                "DOC.set_id('cmip6.aerosol.key_properties.scheme_scope')  \n", 
                "\n", 
                "# PROPERTY VALUE(S): \n", 
                "# Set as follows: DOC.set_value(\"value\")  \n", 
                "# Valid Choices: \n", 
                "#      \"troposhere\"  \n", 
                "#      \"stratosphere\"  \n", 
                "#      \"mesosphere\"  \n", 
                "#      \"mesosphere\"  \n", 
                "#      \"whole atmosphere\"  \n", 
                "#      \"Other: [Please specify]\"  \n", 
                "# TODO - please enter value(s)", 
                "\n"
            ], 
            "outputs": [], 
            "metadata": {
                "collapsed": true
            }
        }, 
        {
            "source": [
                "### 1.4. Basic Approximations\n", 
                "**Is Required:** TRUE&nbsp;&nbsp;&nbsp;&nbsp;**Type:** STRING&nbsp;&nbsp;&nbsp;&nbsp;**Cardinality:** 1.1\n", 
                "### *Basic approximations made in the aerosol model*"
            ], 
            "cell_type": "markdown", 
            "metadata": {}
        }, 
        {
            "execution_count": null, 
            "cell_type": "code", 
            "source": [
                "# PROPERTY ID - DO NOT EDIT !  \n", 
                "DOC.set_id('cmip6.aerosol.key_properties.basic_approximations')  \n", 
                "\n", 
                "# PROPERTY VALUE: \n", 
                "# Set as follows: DOC.set_value(\"value\")  \n", 
                "# TODO - please enter value(s)", 
                "\n"
            ], 
            "outputs": [], 
            "metadata": {
                "collapsed": true
            }
        }, 
        {
            "source": [
                "### 1.5. Prognostic Variables Form\n", 
                "**Is Required:** TRUE&nbsp;&nbsp;&nbsp;&nbsp;**Type:** ENUM&nbsp;&nbsp;&nbsp;&nbsp;**Cardinality:** 1.N\n", 
                "### *Prognostic variables in the aerosol model*"
            ], 
            "cell_type": "markdown", 
            "metadata": {}
        }, 
        {
            "execution_count": null, 
            "cell_type": "code", 
            "source": [
                "# PROPERTY ID - DO NOT EDIT !  \n", 
                "DOC.set_id('cmip6.aerosol.key_properties.prognostic_variables_form')  \n", 
                "\n", 
                "# PROPERTY VALUE(S): \n", 
                "# Set as follows: DOC.set_value(\"value\")  \n", 
                "# Valid Choices: \n", 
                "#      \"3D mass/volume ratio for aerosols\"  \n", 
                "#      \"3D number concenttration for aerosols\"  \n", 
                "#      \"Other: [Please specify]\"  \n", 
                "# TODO - please enter value(s)", 
                "\n"
            ], 
            "outputs": [], 
            "metadata": {
                "collapsed": true
            }
        }, 
        {
            "source": [
                "### 1.6. Number Of Tracers\n", 
                "**Is Required:** TRUE&nbsp;&nbsp;&nbsp;&nbsp;**Type:** INTEGER&nbsp;&nbsp;&nbsp;&nbsp;**Cardinality:** 1.1\n", 
                "### *Number of tracers in the aerosol model*"
            ], 
            "cell_type": "markdown", 
            "metadata": {}
        }, 
        {
            "execution_count": null, 
            "cell_type": "code", 
            "source": [
                "# PROPERTY ID - DO NOT EDIT !  \n", 
                "DOC.set_id('cmip6.aerosol.key_properties.number_of_tracers')  \n", 
                "\n", 
                "# PROPERTY VALUE: \n", 
                "# Set as follows: DOC.set_value(value)  \n", 
                "# TODO - please enter value(s)", 
                "\n"
            ], 
            "outputs": [], 
            "metadata": {
                "collapsed": true
            }
        }, 
        {
            "source": [
                "### 1.7. Family Approach\n", 
                "**Is Required:** TRUE&nbsp;&nbsp;&nbsp;&nbsp;**Type:** BOOLEAN&nbsp;&nbsp;&nbsp;&nbsp;**Cardinality:** 1.1\n", 
                "### *Are aerosol calculations generalized into families of species?*"
            ], 
            "cell_type": "markdown", 
            "metadata": {}
        }, 
        {
            "execution_count": null, 
            "cell_type": "code", 
            "source": [
                "# PROPERTY ID - DO NOT EDIT !  \n", 
                "DOC.set_id('cmip6.aerosol.key_properties.family_approach')  \n", 
                "\n", 
                "# PROPERTY VALUE: \n", 
                "# Set as follows: DOC.set_value(value)  \n", 
                "# Valid Choices: \n", 
                "#     True  \n", 
                "#     False  \n", 
                "# TODO - please enter value(s)", 
                "\n"
            ], 
            "outputs": [], 
            "metadata": {
                "collapsed": true
            }
        }, 
        {
            "source": [
                "# 2. Key Properties --&gt; Software Properties  \n", 
                "*Software properties of aerosol code*"
            ], 
            "cell_type": "markdown", 
            "metadata": {}
        }, 
        {
            "source": [
                "### 2.1. Repository\n", 
                "**Is Required:** FALSE&nbsp;&nbsp;&nbsp;&nbsp;**Type:** STRING&nbsp;&nbsp;&nbsp;&nbsp;**Cardinality:** 0.1\n", 
                "### *Location of code for this component.*"
            ], 
            "cell_type": "markdown", 
            "metadata": {}
        }, 
        {
            "execution_count": null, 
            "cell_type": "code", 
            "source": [
                "# PROPERTY ID - DO NOT EDIT !  \n", 
                "DOC.set_id('cmip6.aerosol.key_properties.software_properties.repository')  \n", 
                "\n", 
                "# PROPERTY VALUE: \n", 
                "# Set as follows: DOC.set_value(\"value\")  \n", 
                "# TODO - please enter value(s)", 
                "\n"
            ], 
            "outputs": [], 
            "metadata": {
                "collapsed": true
            }
        }, 
        {
            "source": [
                "### 2.2. Code Version\n", 
                "**Is Required:** FALSE&nbsp;&nbsp;&nbsp;&nbsp;**Type:** STRING&nbsp;&nbsp;&nbsp;&nbsp;**Cardinality:** 0.1\n", 
                "### *Code version identifier.*"
            ], 
            "cell_type": "markdown", 
            "metadata": {}
        }, 
        {
            "execution_count": null, 
            "cell_type": "code", 
            "source": [
                "# PROPERTY ID - DO NOT EDIT !  \n", 
                "DOC.set_id('cmip6.aerosol.key_properties.software_properties.code_version')  \n", 
                "\n", 
                "# PROPERTY VALUE: \n", 
                "# Set as follows: DOC.set_value(\"value\")  \n", 
                "# TODO - please enter value(s)", 
                "\n"
            ], 
            "outputs": [], 
            "metadata": {
                "collapsed": true
            }
        }, 
        {
            "source": [
                "### 2.3. Code Languages\n", 
                "**Is Required:** FALSE&nbsp;&nbsp;&nbsp;&nbsp;**Type:** STRING&nbsp;&nbsp;&nbsp;&nbsp;**Cardinality:** 0.N\n", 
                "### *Code language(s).*"
            ], 
            "cell_type": "markdown", 
            "metadata": {}
        }, 
        {
            "execution_count": null, 
            "cell_type": "code", 
            "source": [
                "# PROPERTY ID - DO NOT EDIT !  \n", 
                "DOC.set_id('cmip6.aerosol.key_properties.software_properties.code_languages')  \n", 
                "\n", 
                "# PROPERTY VALUE(S): \n", 
                "# Set as follows: DOC.set_value(\"value\")  \n", 
                "# TODO - please enter value(s)", 
                "\n"
            ], 
            "outputs": [], 
            "metadata": {
                "collapsed": true
            }
        }, 
        {
            "source": [
                "# 3. Key Properties --&gt; Timestep Framework  \n", 
                "*Physical properties of seawater in ocean*"
            ], 
            "cell_type": "markdown", 
            "metadata": {}
        }, 
        {
            "source": [
                "### 3.1. Method\n", 
                "**Is Required:** TRUE&nbsp;&nbsp;&nbsp;&nbsp;**Type:** ENUM&nbsp;&nbsp;&nbsp;&nbsp;**Cardinality:** 1.1\n", 
                "### *Mathematical method deployed to solve the time evolution of the prognostic variables*"
            ], 
            "cell_type": "markdown", 
            "metadata": {}
        }, 
        {
            "execution_count": null, 
            "cell_type": "code", 
            "source": [
                "# PROPERTY ID - DO NOT EDIT !  \n", 
                "DOC.set_id('cmip6.aerosol.key_properties.timestep_framework.method')  \n", 
                "\n", 
                "# PROPERTY VALUE: \n", 
                "# Set as follows: DOC.set_value(\"value\")  \n", 
                "# Valid Choices: \n", 
                "#      \"Uses atmospheric chemistry time stepping\"  \n", 
                "#      \"Specific timestepping (operator splitting)\"  \n", 
                "#      \"Specific timestepping (integrated)\"  \n", 
                "#      \"Other: [Please specify]\"  \n", 
                "# TODO - please enter value(s)", 
                "\n"
            ], 
            "outputs": [], 
            "metadata": {
                "collapsed": true
            }
        }, 
        {
            "source": [
                "### 3.2. Split Operator Advection Timestep\n", 
                "**Is Required:** FALSE&nbsp;&nbsp;&nbsp;&nbsp;**Type:** INTEGER&nbsp;&nbsp;&nbsp;&nbsp;**Cardinality:** 0.1\n", 
                "### *Timestep for aerosol advection (in seconds)*"
            ], 
            "cell_type": "markdown", 
            "metadata": {}
        }, 
        {
            "execution_count": null, 
            "cell_type": "code", 
            "source": [
                "# PROPERTY ID - DO NOT EDIT !  \n", 
                "DOC.set_id('cmip6.aerosol.key_properties.timestep_framework.split_operator_advection_timestep')  \n", 
                "\n", 
                "# PROPERTY VALUE: \n", 
                "# Set as follows: DOC.set_value(value)  \n", 
                "# TODO - please enter value(s)", 
                "\n"
            ], 
            "outputs": [], 
            "metadata": {
                "collapsed": true
            }
        }, 
        {
            "source": [
                "### 3.3. Split Operator Physical Timestep\n", 
                "**Is Required:** FALSE&nbsp;&nbsp;&nbsp;&nbsp;**Type:** INTEGER&nbsp;&nbsp;&nbsp;&nbsp;**Cardinality:** 0.1\n", 
                "### *Timestep for aerosol physics (in seconds).*"
            ], 
            "cell_type": "markdown", 
            "metadata": {}
        }, 
        {
            "execution_count": null, 
            "cell_type": "code", 
            "source": [
                "# PROPERTY ID - DO NOT EDIT !  \n", 
                "DOC.set_id('cmip6.aerosol.key_properties.timestep_framework.split_operator_physical_timestep')  \n", 
                "\n", 
                "# PROPERTY VALUE: \n", 
                "# Set as follows: DOC.set_value(value)  \n", 
                "# TODO - please enter value(s)", 
                "\n"
            ], 
            "outputs": [], 
            "metadata": {
                "collapsed": true
            }
        }, 
        {
            "source": [
                "### 3.4. Integrated Timestep\n", 
                "**Is Required:** TRUE&nbsp;&nbsp;&nbsp;&nbsp;**Type:** INTEGER&nbsp;&nbsp;&nbsp;&nbsp;**Cardinality:** 1.1\n", 
                "### *Timestep for the aerosol model (in seconds)*"
            ], 
            "cell_type": "markdown", 
            "metadata": {}
        }, 
        {
            "execution_count": null, 
            "cell_type": "code", 
            "source": [
                "# PROPERTY ID - DO NOT EDIT !  \n", 
                "DOC.set_id('cmip6.aerosol.key_properties.timestep_framework.integrated_timestep')  \n", 
                "\n", 
                "# PROPERTY VALUE: \n", 
                "# Set as follows: DOC.set_value(value)  \n", 
                "# TODO - please enter value(s)", 
                "\n"
            ], 
            "outputs": [], 
            "metadata": {
                "collapsed": true
            }
        }, 
        {
            "source": [
                "### 3.5. Integrated Scheme Type\n", 
                "**Is Required:** TRUE&nbsp;&nbsp;&nbsp;&nbsp;**Type:** ENUM&nbsp;&nbsp;&nbsp;&nbsp;**Cardinality:** 1.1\n", 
                "### *Specify the type of timestep scheme*"
            ], 
            "cell_type": "markdown", 
            "metadata": {}
        }, 
        {
            "execution_count": null, 
            "cell_type": "code", 
            "source": [
                "# PROPERTY ID - DO NOT EDIT !  \n", 
                "DOC.set_id('cmip6.aerosol.key_properties.timestep_framework.integrated_scheme_type')  \n", 
                "\n", 
                "# PROPERTY VALUE: \n", 
                "# Set as follows: DOC.set_value(\"value\")  \n", 
                "# Valid Choices: \n", 
                "#      \"Explicit\"  \n", 
                "#      \"Implicit\"  \n", 
                "#      \"Semi-implicit\"  \n", 
                "#      \"Semi-analytic\"  \n", 
                "#      \"Impact solver\"  \n", 
                "#      \"Back Euler\"  \n", 
                "#      \"Newton Raphson\"  \n", 
                "#      \"Rosenbrock\"  \n", 
                "#      \"Other: [Please specify]\"  \n", 
                "# TODO - please enter value(s)", 
                "\n"
            ], 
            "outputs": [], 
            "metadata": {
                "collapsed": true
            }
        }, 
        {
            "source": [
                "# 4. Key Properties --&gt; Meteorological Forcings  \n", 
                "**"
            ], 
            "cell_type": "markdown", 
            "metadata": {}
        }, 
        {
            "source": [
                "### 4.1. Variables 3D\n", 
                "**Is Required:** FALSE&nbsp;&nbsp;&nbsp;&nbsp;**Type:** STRING&nbsp;&nbsp;&nbsp;&nbsp;**Cardinality:** 0.1\n", 
                "### *Three dimensionsal forcing variables, e.g. U, V, W, T, Q, P, conventive mass flux*"
            ], 
            "cell_type": "markdown", 
            "metadata": {}
        }, 
        {
            "execution_count": null, 
            "cell_type": "code", 
            "source": [
                "# PROPERTY ID - DO NOT EDIT !  \n", 
                "DOC.set_id('cmip6.aerosol.key_properties.meteorological_forcings.variables_3D')  \n", 
                "\n", 
                "# PROPERTY VALUE: \n", 
                "# Set as follows: DOC.set_value(\"value\")  \n", 
                "# TODO - please enter value(s)", 
                "\n"
            ], 
            "outputs": [], 
            "metadata": {
                "collapsed": true
            }
        }, 
        {
            "source": [
                "### 4.2. Variables 2D\n", 
                "**Is Required:** FALSE&nbsp;&nbsp;&nbsp;&nbsp;**Type:** STRING&nbsp;&nbsp;&nbsp;&nbsp;**Cardinality:** 0.1\n", 
                "### *Two dimensionsal forcing variables, e.g. land-sea mask definition*"
            ], 
            "cell_type": "markdown", 
            "metadata": {}
        }, 
        {
            "execution_count": null, 
            "cell_type": "code", 
            "source": [
                "# PROPERTY ID - DO NOT EDIT !  \n", 
                "DOC.set_id('cmip6.aerosol.key_properties.meteorological_forcings.variables_2D')  \n", 
                "\n", 
                "# PROPERTY VALUE: \n", 
                "# Set as follows: DOC.set_value(\"value\")  \n", 
                "# TODO - please enter value(s)", 
                "\n"
            ], 
            "outputs": [], 
            "metadata": {
                "collapsed": true
            }
        }, 
        {
            "source": [
                "### 4.3. Frequency\n", 
                "**Is Required:** FALSE&nbsp;&nbsp;&nbsp;&nbsp;**Type:** INTEGER&nbsp;&nbsp;&nbsp;&nbsp;**Cardinality:** 0.1\n", 
                "### *Frequency with which meteological forcings are applied (in seconds).*"
            ], 
            "cell_type": "markdown", 
            "metadata": {}
        }, 
        {
            "execution_count": null, 
            "cell_type": "code", 
            "source": [
                "# PROPERTY ID - DO NOT EDIT !  \n", 
                "DOC.set_id('cmip6.aerosol.key_properties.meteorological_forcings.frequency')  \n", 
                "\n", 
                "# PROPERTY VALUE: \n", 
                "# Set as follows: DOC.set_value(value)  \n", 
                "# TODO - please enter value(s)", 
                "\n"
            ], 
            "outputs": [], 
            "metadata": {
                "collapsed": true
            }
        }, 
        {
            "source": [
                "# 5. Key Properties --&gt; Resolution  \n", 
                "*Resolution in the aersosol model grid*"
            ], 
            "cell_type": "markdown", 
            "metadata": {}
        }, 
        {
            "source": [
                "### 5.1. Name\n", 
                "**Is Required:** TRUE&nbsp;&nbsp;&nbsp;&nbsp;**Type:** STRING&nbsp;&nbsp;&nbsp;&nbsp;**Cardinality:** 1.1\n", 
                "### *This is a string usually used by the modelling group to describe the resolution of this grid, e.g. ORCA025, N512L180, T512L70 etc.*"
            ], 
            "cell_type": "markdown", 
            "metadata": {}
        }, 
        {
            "execution_count": null, 
            "cell_type": "code", 
            "source": [
                "# PROPERTY ID - DO NOT EDIT !  \n", 
                "DOC.set_id('cmip6.aerosol.key_properties.resolution.name')  \n", 
                "\n", 
                "# PROPERTY VALUE: \n", 
                "# Set as follows: DOC.set_value(\"value\")  \n", 
                "# TODO - please enter value(s)", 
                "\n"
            ], 
            "outputs": [], 
            "metadata": {
                "collapsed": true
            }
        }, 
        {
            "source": [
                "### 5.2. Canonical Horizontal Resolution\n", 
                "**Is Required:** FALSE&nbsp;&nbsp;&nbsp;&nbsp;**Type:** STRING&nbsp;&nbsp;&nbsp;&nbsp;**Cardinality:** 0.1\n", 
                "### *Expression quoted for gross comparisons of resolution, eg. 50km or 0.1 degrees etc.*"
            ], 
            "cell_type": "markdown", 
            "metadata": {}
        }, 
        {
            "execution_count": null, 
            "cell_type": "code", 
            "source": [
                "# PROPERTY ID - DO NOT EDIT !  \n", 
                "DOC.set_id('cmip6.aerosol.key_properties.resolution.canonical_horizontal_resolution')  \n", 
                "\n", 
                "# PROPERTY VALUE: \n", 
                "# Set as follows: DOC.set_value(\"value\")  \n", 
                "# TODO - please enter value(s)", 
                "\n"
            ], 
            "outputs": [], 
            "metadata": {
                "collapsed": true
            }
        }, 
        {
            "source": [
                "### 5.3. Number Of Horizontal Gridpoints\n", 
                "**Is Required:** FALSE&nbsp;&nbsp;&nbsp;&nbsp;**Type:** INTEGER&nbsp;&nbsp;&nbsp;&nbsp;**Cardinality:** 0.1\n", 
                "### *Total number of horizontal (XY) points (or degrees of freedom) on computational grid.*"
            ], 
            "cell_type": "markdown", 
            "metadata": {}
        }, 
        {
            "execution_count": null, 
            "cell_type": "code", 
            "source": [
                "# PROPERTY ID - DO NOT EDIT !  \n", 
                "DOC.set_id('cmip6.aerosol.key_properties.resolution.number_of_horizontal_gridpoints')  \n", 
                "\n", 
                "# PROPERTY VALUE: \n", 
                "# Set as follows: DOC.set_value(value)  \n", 
                "# TODO - please enter value(s)", 
                "\n"
            ], 
            "outputs": [], 
            "metadata": {
                "collapsed": true
            }
        }, 
        {
            "source": [
                "### 5.4. Number Of Vertical Levels\n", 
                "**Is Required:** FALSE&nbsp;&nbsp;&nbsp;&nbsp;**Type:** INTEGER&nbsp;&nbsp;&nbsp;&nbsp;**Cardinality:** 0.1\n", 
                "### *Number of vertical levels resolved on computational grid.*"
            ], 
            "cell_type": "markdown", 
            "metadata": {}
        }, 
        {
            "execution_count": null, 
            "cell_type": "code", 
            "source": [
                "# PROPERTY ID - DO NOT EDIT !  \n", 
                "DOC.set_id('cmip6.aerosol.key_properties.resolution.number_of_vertical_levels')  \n", 
                "\n", 
                "# PROPERTY VALUE: \n", 
                "# Set as follows: DOC.set_value(value)  \n", 
                "# TODO - please enter value(s)", 
                "\n"
            ], 
            "outputs": [], 
            "metadata": {
                "collapsed": true
            }
        }, 
        {
            "source": [
                "### 5.5. Is Adaptive Grid\n", 
                "**Is Required:** FALSE&nbsp;&nbsp;&nbsp;&nbsp;**Type:** BOOLEAN&nbsp;&nbsp;&nbsp;&nbsp;**Cardinality:** 0.1\n", 
                "### *Default is False. Set true if grid resolution changes during execution.*"
            ], 
            "cell_type": "markdown", 
            "metadata": {}
        }, 
        {
            "execution_count": null, 
            "cell_type": "code", 
            "source": [
                "# PROPERTY ID - DO NOT EDIT !  \n", 
                "DOC.set_id('cmip6.aerosol.key_properties.resolution.is_adaptive_grid')  \n", 
                "\n", 
                "# PROPERTY VALUE: \n", 
                "# Set as follows: DOC.set_value(value)  \n", 
                "# Valid Choices: \n", 
                "#     True  \n", 
                "#     False  \n", 
                "# TODO - please enter value(s)", 
                "\n"
            ], 
            "outputs": [], 
            "metadata": {
                "collapsed": true
            }
        }, 
        {
            "source": [
                "# 6. Key Properties --&gt; Tuning Applied  \n", 
                "*Tuning methodology for aerosol model*"
            ], 
            "cell_type": "markdown", 
            "metadata": {}
        }, 
        {
            "source": [
                "### 6.1. Description\n", 
                "**Is Required:** TRUE&nbsp;&nbsp;&nbsp;&nbsp;**Type:** STRING&nbsp;&nbsp;&nbsp;&nbsp;**Cardinality:** 1.1\n", 
                "### *General overview description of tuning: explain and motivate the main targets and metrics retained. &amp;Document the relative weight given to climate performance metrics versus process oriented metrics, &amp;and on the possible conflicts with parameterization level tuning. In particular describe any struggle &amp;with a parameter value that required pushing it to its limits to solve a particular model deficiency.*"
            ], 
            "cell_type": "markdown", 
            "metadata": {}
        }, 
        {
            "execution_count": null, 
            "cell_type": "code", 
            "source": [
                "# PROPERTY ID - DO NOT EDIT !  \n", 
                "DOC.set_id('cmip6.aerosol.key_properties.tuning_applied.description')  \n", 
                "\n", 
                "# PROPERTY VALUE: \n", 
                "# Set as follows: DOC.set_value(\"value\")  \n", 
                "# TODO - please enter value(s)", 
                "\n"
            ], 
            "outputs": [], 
            "metadata": {
                "collapsed": true
            }
        }, 
        {
            "source": [
                "### 6.2. Global Mean Metrics Used\n", 
                "**Is Required:** FALSE&nbsp;&nbsp;&nbsp;&nbsp;**Type:** STRING&nbsp;&nbsp;&nbsp;&nbsp;**Cardinality:** 0.N\n", 
                "### *List set of metrics of the global mean state used in tuning model/component*"
            ], 
            "cell_type": "markdown", 
            "metadata": {}
        }, 
        {
            "execution_count": null, 
            "cell_type": "code", 
            "source": [
                "# PROPERTY ID - DO NOT EDIT !  \n", 
                "DOC.set_id('cmip6.aerosol.key_properties.tuning_applied.global_mean_metrics_used')  \n", 
                "\n", 
                "# PROPERTY VALUE(S): \n", 
                "# Set as follows: DOC.set_value(\"value\")  \n", 
                "# TODO - please enter value(s)", 
                "\n"
            ], 
            "outputs": [], 
            "metadata": {
                "collapsed": true
            }
        }, 
        {
            "source": [
                "### 6.3. Regional Metrics Used\n", 
                "**Is Required:** FALSE&nbsp;&nbsp;&nbsp;&nbsp;**Type:** STRING&nbsp;&nbsp;&nbsp;&nbsp;**Cardinality:** 0.N\n", 
                "### *List of regional metrics of mean state used in tuning model/component*"
            ], 
            "cell_type": "markdown", 
            "metadata": {}
        }, 
        {
            "execution_count": null, 
            "cell_type": "code", 
            "source": [
                "# PROPERTY ID - DO NOT EDIT !  \n", 
                "DOC.set_id('cmip6.aerosol.key_properties.tuning_applied.regional_metrics_used')  \n", 
                "\n", 
                "# PROPERTY VALUE(S): \n", 
                "# Set as follows: DOC.set_value(\"value\")  \n", 
                "# TODO - please enter value(s)", 
                "\n"
            ], 
            "outputs": [], 
            "metadata": {
                "collapsed": true
            }
        }, 
        {
            "source": [
                "### 6.4. Trend Metrics Used\n", 
                "**Is Required:** FALSE&nbsp;&nbsp;&nbsp;&nbsp;**Type:** STRING&nbsp;&nbsp;&nbsp;&nbsp;**Cardinality:** 0.N\n", 
                "### *List observed trend metrics used in tuning model/component*"
            ], 
            "cell_type": "markdown", 
            "metadata": {}
        }, 
        {
            "execution_count": null, 
            "cell_type": "code", 
            "source": [
                "# PROPERTY ID - DO NOT EDIT !  \n", 
                "DOC.set_id('cmip6.aerosol.key_properties.tuning_applied.trend_metrics_used')  \n", 
                "\n", 
                "# PROPERTY VALUE(S): \n", 
                "# Set as follows: DOC.set_value(\"value\")  \n", 
                "# TODO - please enter value(s)", 
                "\n"
            ], 
            "outputs": [], 
            "metadata": {
                "collapsed": true
            }
        }, 
        {
            "source": [
                "# 7. Transport  \n", 
                "*Aerosol transport*"
            ], 
            "cell_type": "markdown", 
            "metadata": {}
        }, 
        {
            "source": [
                "### 7.1. Overview\n", 
                "**Is Required:** TRUE&nbsp;&nbsp;&nbsp;&nbsp;**Type:** STRING&nbsp;&nbsp;&nbsp;&nbsp;**Cardinality:** 1.1\n", 
                "### *Overview of transport in atmosperic aerosol model*"
            ], 
            "cell_type": "markdown", 
            "metadata": {}
        }, 
        {
            "execution_count": null, 
            "cell_type": "code", 
            "source": [
                "# PROPERTY ID - DO NOT EDIT !  \n", 
                "DOC.set_id('cmip6.aerosol.transport.overview')  \n", 
                "\n", 
                "# PROPERTY VALUE: \n", 
                "# Set as follows: DOC.set_value(\"value\")  \n", 
                "# TODO - please enter value(s)", 
                "\n"
            ], 
            "outputs": [], 
            "metadata": {
                "collapsed": true
            }
        }, 
        {
            "source": [
                "### 7.2. Scheme\n", 
                "**Is Required:** TRUE&nbsp;&nbsp;&nbsp;&nbsp;**Type:** ENUM&nbsp;&nbsp;&nbsp;&nbsp;**Cardinality:** 1.1\n", 
                "### *Method for aerosol transport modeling*"
            ], 
            "cell_type": "markdown", 
            "metadata": {}
        }, 
        {
            "execution_count": null, 
            "cell_type": "code", 
            "source": [
                "# PROPERTY ID - DO NOT EDIT !  \n", 
                "DOC.set_id('cmip6.aerosol.transport.scheme')  \n", 
                "\n", 
                "# PROPERTY VALUE: \n", 
                "# Set as follows: DOC.set_value(\"value\")  \n", 
                "# Valid Choices: \n", 
                "#      \"Uses Atmospheric chemistry transport scheme\"  \n", 
                "#      \"Specific transport scheme (eulerian)\"  \n", 
                "#      \"Specific transport scheme (semi-lagrangian)\"  \n", 
                "#      \"Specific transport scheme (eulerian and semi-lagrangian)\"  \n", 
                "#      \"Specific transport scheme (lagrangian)\"  \n", 
                "# TODO - please enter value(s)", 
                "\n"
            ], 
            "outputs": [], 
            "metadata": {
                "collapsed": true
            }
        }, 
        {
            "source": [
                "### 7.3. Mass Conservation Scheme\n", 
                "**Is Required:** TRUE&nbsp;&nbsp;&nbsp;&nbsp;**Type:** ENUM&nbsp;&nbsp;&nbsp;&nbsp;**Cardinality:** 1.N\n", 
                "### *Method used to ensure mass conservation.*"
            ], 
            "cell_type": "markdown", 
            "metadata": {}
        }, 
        {
            "execution_count": null, 
            "cell_type": "code", 
            "source": [
                "# PROPERTY ID - DO NOT EDIT !  \n", 
                "DOC.set_id('cmip6.aerosol.transport.mass_conservation_scheme')  \n", 
                "\n", 
                "# PROPERTY VALUE(S): \n", 
                "# Set as follows: DOC.set_value(\"value\")  \n", 
                "# Valid Choices: \n", 
                "#      \"Uses Atmospheric chemistry transport scheme\"  \n", 
                "#      \"Mass adjustment\"  \n", 
                "#      \"Concentrations positivity\"  \n", 
                "#      \"Gradients monotonicity\"  \n", 
                "#      \"Other: [Please specify]\"  \n", 
                "# TODO - please enter value(s)", 
                "\n"
            ], 
            "outputs": [], 
            "metadata": {
                "collapsed": true
            }
        }, 
        {
            "source": [
                "### 7.4. Convention\n", 
                "**Is Required:** TRUE&nbsp;&nbsp;&nbsp;&nbsp;**Type:** ENUM&nbsp;&nbsp;&nbsp;&nbsp;**Cardinality:** 1.N\n", 
                "### *Transport by convention*"
            ], 
            "cell_type": "markdown", 
            "metadata": {}
        }, 
        {
            "execution_count": null, 
            "cell_type": "code", 
            "source": [
                "# PROPERTY ID - DO NOT EDIT !  \n", 
                "DOC.set_id('cmip6.aerosol.transport.convention')  \n", 
                "\n", 
                "# PROPERTY VALUE(S): \n", 
                "# Set as follows: DOC.set_value(\"value\")  \n", 
                "# Valid Choices: \n", 
                "#      \"Uses Atmospheric chemistry transport scheme\"  \n", 
                "#      \"Convective fluxes connected to tracers\"  \n", 
                "#      \"Vertical velocities connected to tracers\"  \n", 
                "#      \"Other: [Please specify]\"  \n", 
                "# TODO - please enter value(s)", 
                "\n"
            ], 
            "outputs": [], 
            "metadata": {
                "collapsed": true
            }
        }, 
        {
            "source": [
                "# 8. Emissions  \n", 
                "*Atmospheric aerosol emissions*"
            ], 
            "cell_type": "markdown", 
            "metadata": {}
        }, 
        {
            "source": [
                "### 8.1. Overview\n", 
                "**Is Required:** TRUE&nbsp;&nbsp;&nbsp;&nbsp;**Type:** STRING&nbsp;&nbsp;&nbsp;&nbsp;**Cardinality:** 1.1\n", 
                "### *Overview of emissions in atmosperic aerosol model*"
            ], 
            "cell_type": "markdown", 
            "metadata": {}
        }, 
        {
            "execution_count": null, 
            "cell_type": "code", 
            "source": [
                "# PROPERTY ID - DO NOT EDIT !  \n", 
                "DOC.set_id('cmip6.aerosol.emissions.overview')  \n", 
                "\n", 
                "# PROPERTY VALUE: \n", 
                "# Set as follows: DOC.set_value(\"value\")  \n", 
                "# TODO - please enter value(s)", 
                "\n"
            ], 
            "outputs": [], 
            "metadata": {
                "collapsed": true
            }
        }, 
        {
            "source": [
                "### 8.2. Method\n", 
                "**Is Required:** TRUE&nbsp;&nbsp;&nbsp;&nbsp;**Type:** ENUM&nbsp;&nbsp;&nbsp;&nbsp;**Cardinality:** 1.N\n", 
                "### *Method used to define aerosol species (several methods allowed because the different species may not use the same method).*"
            ], 
            "cell_type": "markdown", 
            "metadata": {}
        }, 
        {
            "execution_count": null, 
            "cell_type": "code", 
            "source": [
                "# PROPERTY ID - DO NOT EDIT !  \n", 
                "DOC.set_id('cmip6.aerosol.emissions.method')  \n", 
                "\n", 
                "# PROPERTY VALUE(S): \n", 
                "# Set as follows: DOC.set_value(\"value\")  \n", 
                "# Valid Choices: \n", 
                "#      \"None\"  \n", 
                "#      \"Prescribed (climatology)\"  \n", 
                "#      \"Prescribed CMIP6\"  \n", 
                "#      \"Prescribed above surface\"  \n", 
                "#      \"Interactive\"  \n", 
                "#      \"Interactive above surface\"  \n", 
                "#      \"Other: [Please specify]\"  \n", 
                "# TODO - please enter value(s)", 
                "\n"
            ], 
            "outputs": [], 
            "metadata": {
                "collapsed": true
            }
        }, 
        {
            "source": [
                "### 8.3. Sources\n", 
                "**Is Required:** FALSE&nbsp;&nbsp;&nbsp;&nbsp;**Type:** ENUM&nbsp;&nbsp;&nbsp;&nbsp;**Cardinality:** 0.N\n", 
                "### *Sources of the aerosol species are taken into account in the emissions scheme*"
            ], 
            "cell_type": "markdown", 
            "metadata": {}
        }, 
        {
            "execution_count": null, 
            "cell_type": "code", 
            "source": [
                "# PROPERTY ID - DO NOT EDIT !  \n", 
                "DOC.set_id('cmip6.aerosol.emissions.sources')  \n", 
                "\n", 
                "# PROPERTY VALUE(S): \n", 
                "# Set as follows: DOC.set_value(\"value\")  \n", 
                "# Valid Choices: \n", 
                "#      \"Vegetation\"  \n", 
                "#      \"Volcanos\"  \n", 
                "#      \"Bare ground\"  \n", 
                "#      \"Sea surface\"  \n", 
                "#      \"Lightning\"  \n", 
                "#      \"Fires\"  \n", 
                "#      \"Aircraft\"  \n", 
                "#      \"Anthropogenic\"  \n", 
                "#      \"Other: [Please specify]\"  \n", 
                "# TODO - please enter value(s)", 
                "\n"
            ], 
            "outputs": [], 
            "metadata": {
                "collapsed": true
            }
        }, 
        {
            "source": [
                "### 8.4. Prescribed Climatology\n", 
                "**Is Required:** FALSE&nbsp;&nbsp;&nbsp;&nbsp;**Type:** ENUM&nbsp;&nbsp;&nbsp;&nbsp;**Cardinality:** 0.1\n", 
                "### *Specify the climatology type for aerosol emissions*"
            ], 
            "cell_type": "markdown", 
            "metadata": {}
        }, 
        {
            "execution_count": null, 
            "cell_type": "code", 
            "source": [
                "# PROPERTY ID - DO NOT EDIT !  \n", 
                "DOC.set_id('cmip6.aerosol.emissions.prescribed_climatology')  \n", 
                "\n", 
                "# PROPERTY VALUE: \n", 
                "# Set as follows: DOC.set_value(\"value\")  \n", 
                "# Valid Choices: \n", 
                "#      \"Constant\"  \n", 
                "#      \"Interannual\"  \n", 
                "#      \"Annual\"  \n", 
                "#      \"Monthly\"  \n", 
                "#      \"Daily\"  \n", 
                "# TODO - please enter value(s)", 
                "\n"
            ], 
            "outputs": [], 
            "metadata": {
                "collapsed": true
            }
        }, 
        {
            "source": [
                "### 8.5. Prescribed Climatology Emitted Species\n", 
                "**Is Required:** FALSE&nbsp;&nbsp;&nbsp;&nbsp;**Type:** STRING&nbsp;&nbsp;&nbsp;&nbsp;**Cardinality:** 0.1\n", 
                "### *List of aerosol species emitted and prescribed via a climatology*"
            ], 
            "cell_type": "markdown", 
            "metadata": {}
        }, 
        {
            "execution_count": null, 
            "cell_type": "code", 
            "source": [
                "# PROPERTY ID - DO NOT EDIT !  \n", 
                "DOC.set_id('cmip6.aerosol.emissions.prescribed_climatology_emitted_species')  \n", 
                "\n", 
                "# PROPERTY VALUE: \n", 
                "# Set as follows: DOC.set_value(\"value\")  \n", 
                "# TODO - please enter value(s)", 
                "\n"
            ], 
            "outputs": [], 
            "metadata": {
                "collapsed": true
            }
        }, 
        {
            "source": [
                "### 8.6. Prescribed Spatially Uniform Emitted Species\n", 
                "**Is Required:** FALSE&nbsp;&nbsp;&nbsp;&nbsp;**Type:** STRING&nbsp;&nbsp;&nbsp;&nbsp;**Cardinality:** 0.1\n", 
                "### *List of aerosol species emitted  and prescribed as spatially uniform*"
            ], 
            "cell_type": "markdown", 
            "metadata": {}
        }, 
        {
            "execution_count": null, 
            "cell_type": "code", 
            "source": [
                "# PROPERTY ID - DO NOT EDIT !  \n", 
                "DOC.set_id('cmip6.aerosol.emissions.prescribed_spatially_uniform_emitted_species')  \n", 
                "\n", 
                "# PROPERTY VALUE: \n", 
                "# Set as follows: DOC.set_value(\"value\")  \n", 
                "# TODO - please enter value(s)", 
                "\n"
            ], 
            "outputs": [], 
            "metadata": {
                "collapsed": true
            }
        }, 
        {
            "source": [
                "### 8.7. Interactive Emitted Species\n", 
                "**Is Required:** FALSE&nbsp;&nbsp;&nbsp;&nbsp;**Type:** STRING&nbsp;&nbsp;&nbsp;&nbsp;**Cardinality:** 0.1\n", 
                "### *List of aerosol species emitted and specified via an interactive method*"
            ], 
            "cell_type": "markdown", 
            "metadata": {}
        }, 
        {
            "execution_count": null, 
            "cell_type": "code", 
            "source": [
                "# PROPERTY ID - DO NOT EDIT !  \n", 
                "DOC.set_id('cmip6.aerosol.emissions.interactive_emitted_species')  \n", 
                "\n", 
                "# PROPERTY VALUE: \n", 
                "# Set as follows: DOC.set_value(\"value\")  \n", 
                "# TODO - please enter value(s)", 
                "\n"
            ], 
            "outputs": [], 
            "metadata": {
                "collapsed": true
            }
        }, 
        {
            "source": [
                "### 8.8. Other Emitted Species\n", 
                "**Is Required:** FALSE&nbsp;&nbsp;&nbsp;&nbsp;**Type:** STRING&nbsp;&nbsp;&nbsp;&nbsp;**Cardinality:** 0.1\n", 
                "### *List of aerosol species emitted and specified via an &quot;other method&quot;*"
            ], 
            "cell_type": "markdown", 
            "metadata": {}
        }, 
        {
            "execution_count": null, 
            "cell_type": "code", 
            "source": [
                "# PROPERTY ID - DO NOT EDIT !  \n", 
                "DOC.set_id('cmip6.aerosol.emissions.other_emitted_species')  \n", 
                "\n", 
                "# PROPERTY VALUE: \n", 
                "# Set as follows: DOC.set_value(\"value\")  \n", 
                "# TODO - please enter value(s)", 
                "\n"
            ], 
            "outputs": [], 
            "metadata": {
                "collapsed": true
            }
        }, 
        {
            "source": [
                "### 8.9. Other Method Characteristics\n", 
                "**Is Required:** FALSE&nbsp;&nbsp;&nbsp;&nbsp;**Type:** STRING&nbsp;&nbsp;&nbsp;&nbsp;**Cardinality:** 0.1\n", 
                "### *Characteristics of the &quot;other method&quot; used for aerosol emissions*"
            ], 
            "cell_type": "markdown", 
            "metadata": {}
        }, 
        {
            "execution_count": null, 
            "cell_type": "code", 
            "source": [
                "# PROPERTY ID - DO NOT EDIT !  \n", 
                "DOC.set_id('cmip6.aerosol.emissions.other_method_characteristics')  \n", 
                "\n", 
                "# PROPERTY VALUE: \n", 
                "# Set as follows: DOC.set_value(\"value\")  \n", 
                "# TODO - please enter value(s)", 
                "\n"
            ], 
            "outputs": [], 
            "metadata": {
                "collapsed": true
            }
        }, 
        {
            "source": [
                "# 9. Concentrations  \n", 
                "*Atmospheric aerosol concentrations*"
            ], 
            "cell_type": "markdown", 
            "metadata": {}
        }, 
        {
            "source": [
                "### 9.1. Overview\n", 
                "**Is Required:** TRUE&nbsp;&nbsp;&nbsp;&nbsp;**Type:** STRING&nbsp;&nbsp;&nbsp;&nbsp;**Cardinality:** 1.1\n", 
                "### *Overview of concentrations in atmosperic aerosol model*"
            ], 
            "cell_type": "markdown", 
            "metadata": {}
        }, 
        {
            "execution_count": null, 
            "cell_type": "code", 
            "source": [
                "# PROPERTY ID - DO NOT EDIT !  \n", 
                "DOC.set_id('cmip6.aerosol.concentrations.overview')  \n", 
                "\n", 
                "# PROPERTY VALUE: \n", 
                "# Set as follows: DOC.set_value(\"value\")  \n", 
                "# TODO - please enter value(s)", 
                "\n"
            ], 
            "outputs": [], 
            "metadata": {
                "collapsed": true
            }
        }, 
        {
            "source": [
                "### 9.2. Prescribed Lower Boundary\n", 
                "**Is Required:** FALSE&nbsp;&nbsp;&nbsp;&nbsp;**Type:** STRING&nbsp;&nbsp;&nbsp;&nbsp;**Cardinality:** 0.1\n", 
                "### *List of species prescribed at the lower boundary.*"
            ], 
            "cell_type": "markdown", 
            "metadata": {}
        }, 
        {
            "execution_count": null, 
            "cell_type": "code", 
            "source": [
                "# PROPERTY ID - DO NOT EDIT !  \n", 
                "DOC.set_id('cmip6.aerosol.concentrations.prescribed_lower_boundary')  \n", 
                "\n", 
                "# PROPERTY VALUE: \n", 
                "# Set as follows: DOC.set_value(\"value\")  \n", 
                "# TODO - please enter value(s)", 
                "\n"
            ], 
            "outputs": [], 
            "metadata": {
                "collapsed": true
            }
        }, 
        {
            "source": [
                "### 9.3. Prescribed Upper Boundary\n", 
                "**Is Required:** FALSE&nbsp;&nbsp;&nbsp;&nbsp;**Type:** STRING&nbsp;&nbsp;&nbsp;&nbsp;**Cardinality:** 0.1\n", 
                "### *List of species prescribed at the upper boundary.*"
            ], 
            "cell_type": "markdown", 
            "metadata": {}
        }, 
        {
            "execution_count": null, 
            "cell_type": "code", 
            "source": [
                "# PROPERTY ID - DO NOT EDIT !  \n", 
                "DOC.set_id('cmip6.aerosol.concentrations.prescribed_upper_boundary')  \n", 
                "\n", 
                "# PROPERTY VALUE: \n", 
                "# Set as follows: DOC.set_value(\"value\")  \n", 
                "# TODO - please enter value(s)", 
                "\n"
            ], 
            "outputs": [], 
            "metadata": {
                "collapsed": true
            }
        }, 
        {
            "source": [
                "### 9.4. Prescribed Fields Mmr\n", 
                "**Is Required:** FALSE&nbsp;&nbsp;&nbsp;&nbsp;**Type:** STRING&nbsp;&nbsp;&nbsp;&nbsp;**Cardinality:** 0.1\n", 
                "### *List of species prescribed as mass mixing ratios.*"
            ], 
            "cell_type": "markdown", 
            "metadata": {}
        }, 
        {
            "execution_count": null, 
            "cell_type": "code", 
            "source": [
                "# PROPERTY ID - DO NOT EDIT !  \n", 
                "DOC.set_id('cmip6.aerosol.concentrations.prescribed_fields_mmr')  \n", 
                "\n", 
                "# PROPERTY VALUE: \n", 
                "# Set as follows: DOC.set_value(\"value\")  \n", 
                "# TODO - please enter value(s)", 
                "\n"
            ], 
            "outputs": [], 
            "metadata": {
                "collapsed": true
            }
        }, 
        {
            "source": [
                "### 9.5. Prescribed Fields Mmr\n", 
                "**Is Required:** FALSE&nbsp;&nbsp;&nbsp;&nbsp;**Type:** STRING&nbsp;&nbsp;&nbsp;&nbsp;**Cardinality:** 0.1\n", 
                "### *List of species prescribed as AOD plus CCNs.*"
            ], 
            "cell_type": "markdown", 
            "metadata": {}
        }, 
        {
            "execution_count": null, 
            "cell_type": "code", 
            "source": [
                "# PROPERTY ID - DO NOT EDIT !  \n", 
                "DOC.set_id('cmip6.aerosol.concentrations.prescribed_fields_mmr')  \n", 
                "\n", 
                "# PROPERTY VALUE: \n", 
                "# Set as follows: DOC.set_value(\"value\")  \n", 
                "# TODO - please enter value(s)", 
                "\n"
            ], 
            "outputs": [], 
            "metadata": {
                "collapsed": true
            }
        }, 
        {
            "source": [
                "# 10. Optical Radiative Properties  \n", 
                "*Aerosol optical and radiative properties*"
            ], 
            "cell_type": "markdown", 
            "metadata": {}
        }, 
        {
            "source": [
                "### 10.1. Overview\n", 
                "**Is Required:** TRUE&nbsp;&nbsp;&nbsp;&nbsp;**Type:** STRING&nbsp;&nbsp;&nbsp;&nbsp;**Cardinality:** 1.1\n", 
                "### *Overview of optical and radiative properties*"
            ], 
            "cell_type": "markdown", 
            "metadata": {}
        }, 
        {
            "execution_count": null, 
            "cell_type": "code", 
            "source": [
                "# PROPERTY ID - DO NOT EDIT !  \n", 
                "DOC.set_id('cmip6.aerosol.optical_radiative_properties.overview')  \n", 
                "\n", 
                "# PROPERTY VALUE: \n", 
                "# Set as follows: DOC.set_value(\"value\")  \n", 
                "# TODO - please enter value(s)", 
                "\n"
            ], 
            "outputs": [], 
            "metadata": {
                "collapsed": true
            }
        }, 
        {
            "source": [
                "# 11. Optical Radiative Properties --&gt; Absorption  \n", 
                "*Absortion properties in aerosol scheme*"
            ], 
            "cell_type": "markdown", 
            "metadata": {}
        }, 
        {
            "source": [
                "### 11.1. Black Carbon\n", 
                "**Is Required:** FALSE&nbsp;&nbsp;&nbsp;&nbsp;**Type:** FLOAT&nbsp;&nbsp;&nbsp;&nbsp;**Cardinality:** 0.1\n", 
                "### *Absorption mass coefficient of black carbon at 550nm (if non-absorbing enter 0)*"
            ], 
            "cell_type": "markdown", 
            "metadata": {}
        }, 
        {
            "execution_count": null, 
            "cell_type": "code", 
            "source": [
                "# PROPERTY ID - DO NOT EDIT !  \n", 
                "DOC.set_id('cmip6.aerosol.optical_radiative_properties.absorption.black_carbon')  \n", 
                "\n", 
                "# PROPERTY VALUE: \n", 
                "# Set as follows: DOC.set_value(value)  \n", 
                "# TODO - please enter value(s)", 
                "\n"
            ], 
            "outputs": [], 
            "metadata": {
                "collapsed": true
            }
        }, 
        {
            "source": [
                "### 11.2. Dust\n", 
                "**Is Required:** FALSE&nbsp;&nbsp;&nbsp;&nbsp;**Type:** FLOAT&nbsp;&nbsp;&nbsp;&nbsp;**Cardinality:** 0.1\n", 
                "### *Absorption mass coefficient of dust at 550nm (if non-absorbing enter 0)*"
            ], 
            "cell_type": "markdown", 
            "metadata": {}
        }, 
        {
            "execution_count": null, 
            "cell_type": "code", 
            "source": [
                "# PROPERTY ID - DO NOT EDIT !  \n", 
                "DOC.set_id('cmip6.aerosol.optical_radiative_properties.absorption.dust')  \n", 
                "\n", 
                "# PROPERTY VALUE: \n", 
                "# Set as follows: DOC.set_value(value)  \n", 
                "# TODO - please enter value(s)", 
                "\n"
            ], 
            "outputs": [], 
            "metadata": {
                "collapsed": true
            }
        }, 
        {
            "source": [
                "### 11.3. Organics\n", 
                "**Is Required:** FALSE&nbsp;&nbsp;&nbsp;&nbsp;**Type:** FLOAT&nbsp;&nbsp;&nbsp;&nbsp;**Cardinality:** 0.1\n", 
                "### *Absorption mass coefficient of organics at 550nm (if non-absorbing enter 0)*"
            ], 
            "cell_type": "markdown", 
            "metadata": {}
        }, 
        {
            "execution_count": null, 
            "cell_type": "code", 
            "source": [
                "# PROPERTY ID - DO NOT EDIT !  \n", 
                "DOC.set_id('cmip6.aerosol.optical_radiative_properties.absorption.organics')  \n", 
                "\n", 
                "# PROPERTY VALUE: \n", 
                "# Set as follows: DOC.set_value(value)  \n", 
                "# TODO - please enter value(s)", 
                "\n"
            ], 
            "outputs": [], 
            "metadata": {
                "collapsed": true
            }
        }, 
        {
            "source": [
                "# 12. Optical Radiative Properties --&gt; Mixtures  \n", 
                "**"
            ], 
            "cell_type": "markdown", 
            "metadata": {}
        }, 
        {
            "source": [
                "### 12.1. External\n", 
                "**Is Required:** TRUE&nbsp;&nbsp;&nbsp;&nbsp;**Type:** BOOLEAN&nbsp;&nbsp;&nbsp;&nbsp;**Cardinality:** 1.1\n", 
                "### *Is there external mixing with respect to chemical composition?*"
            ], 
            "cell_type": "markdown", 
            "metadata": {}
        }, 
        {
            "execution_count": null, 
            "cell_type": "code", 
            "source": [
                "# PROPERTY ID - DO NOT EDIT !  \n", 
                "DOC.set_id('cmip6.aerosol.optical_radiative_properties.mixtures.external')  \n", 
                "\n", 
                "# PROPERTY VALUE: \n", 
                "# Set as follows: DOC.set_value(value)  \n", 
                "# Valid Choices: \n", 
                "#     True  \n", 
                "#     False  \n", 
                "# TODO - please enter value(s)", 
                "\n"
            ], 
            "outputs": [], 
            "metadata": {
                "collapsed": true
            }
        }, 
        {
            "source": [
                "### 12.2. Internal\n", 
                "**Is Required:** TRUE&nbsp;&nbsp;&nbsp;&nbsp;**Type:** BOOLEAN&nbsp;&nbsp;&nbsp;&nbsp;**Cardinality:** 1.1\n", 
                "### *Is there internal mixing with respect to chemical composition?*"
            ], 
            "cell_type": "markdown", 
            "metadata": {}
        }, 
        {
            "execution_count": null, 
            "cell_type": "code", 
            "source": [
                "# PROPERTY ID - DO NOT EDIT !  \n", 
                "DOC.set_id('cmip6.aerosol.optical_radiative_properties.mixtures.internal')  \n", 
                "\n", 
                "# PROPERTY VALUE: \n", 
                "# Set as follows: DOC.set_value(value)  \n", 
                "# Valid Choices: \n", 
                "#     True  \n", 
                "#     False  \n", 
                "# TODO - please enter value(s)", 
                "\n"
            ], 
            "outputs": [], 
            "metadata": {
                "collapsed": true
            }
        }, 
        {
            "source": [
                "### 12.3. Mixing Rule\n", 
                "**Is Required:** FALSE&nbsp;&nbsp;&nbsp;&nbsp;**Type:** STRING&nbsp;&nbsp;&nbsp;&nbsp;**Cardinality:** 0.1\n", 
                "### *If there is internal mixing with respect to chemical composition then indicate the mixinrg rule*"
            ], 
            "cell_type": "markdown", 
            "metadata": {}
        }, 
        {
            "execution_count": null, 
            "cell_type": "code", 
            "source": [
                "# PROPERTY ID - DO NOT EDIT !  \n", 
                "DOC.set_id('cmip6.aerosol.optical_radiative_properties.mixtures.mixing_rule')  \n", 
                "\n", 
                "# PROPERTY VALUE: \n", 
                "# Set as follows: DOC.set_value(\"value\")  \n", 
                "# TODO - please enter value(s)", 
                "\n"
            ], 
            "outputs": [], 
            "metadata": {
                "collapsed": true
            }
        }, 
        {
            "source": [
                "# 13. Optical Radiative Properties --&gt; Impact Of H2o  \n", 
                "**"
            ], 
            "cell_type": "markdown", 
            "metadata": {}
        }, 
        {
            "source": [
                "### 13.1. Size\n", 
                "**Is Required:** TRUE&nbsp;&nbsp;&nbsp;&nbsp;**Type:** BOOLEAN&nbsp;&nbsp;&nbsp;&nbsp;**Cardinality:** 1.1\n", 
                "### *Does H2O impact size?*"
            ], 
            "cell_type": "markdown", 
            "metadata": {}
        }, 
        {
            "execution_count": null, 
            "cell_type": "code", 
            "source": [
                "# PROPERTY ID - DO NOT EDIT !  \n", 
                "DOC.set_id('cmip6.aerosol.optical_radiative_properties.impact_of_h2o.size')  \n", 
                "\n", 
                "# PROPERTY VALUE: \n", 
                "# Set as follows: DOC.set_value(value)  \n", 
                "# Valid Choices: \n", 
                "#     True  \n", 
                "#     False  \n", 
                "# TODO - please enter value(s)", 
                "\n"
            ], 
            "outputs": [], 
            "metadata": {
                "collapsed": true
            }
        }, 
        {
            "source": [
                "### 13.2. Internal Mixture\n", 
                "**Is Required:** TRUE&nbsp;&nbsp;&nbsp;&nbsp;**Type:** BOOLEAN&nbsp;&nbsp;&nbsp;&nbsp;**Cardinality:** 1.1\n", 
                "### *Does H2O impact internal mixture?*"
            ], 
            "cell_type": "markdown", 
            "metadata": {}
        }, 
        {
            "execution_count": null, 
            "cell_type": "code", 
            "source": [
                "# PROPERTY ID - DO NOT EDIT !  \n", 
                "DOC.set_id('cmip6.aerosol.optical_radiative_properties.impact_of_h2o.internal_mixture')  \n", 
                "\n", 
                "# PROPERTY VALUE: \n", 
                "# Set as follows: DOC.set_value(value)  \n", 
                "# Valid Choices: \n", 
                "#     True  \n", 
                "#     False  \n", 
                "# TODO - please enter value(s)", 
                "\n"
            ], 
            "outputs": [], 
            "metadata": {
                "collapsed": true
            }
        }, 
        {
            "source": [
                "# 14. Optical Radiative Properties --&gt; Radiative Scheme  \n", 
                "*Radiative scheme for aerosol*"
            ], 
            "cell_type": "markdown", 
            "metadata": {}
        }, 
        {
            "source": [
                "### 14.1. Overview\n", 
                "**Is Required:** TRUE&nbsp;&nbsp;&nbsp;&nbsp;**Type:** STRING&nbsp;&nbsp;&nbsp;&nbsp;**Cardinality:** 1.1\n", 
                "### *Overview of radiative scheme*"
            ], 
            "cell_type": "markdown", 
            "metadata": {}
        }, 
        {
            "execution_count": null, 
            "cell_type": "code", 
            "source": [
                "# PROPERTY ID - DO NOT EDIT !  \n", 
                "DOC.set_id('cmip6.aerosol.optical_radiative_properties.radiative_scheme.overview')  \n", 
                "\n", 
                "# PROPERTY VALUE: \n", 
                "# Set as follows: DOC.set_value(\"value\")  \n", 
                "# TODO - please enter value(s)", 
                "\n"
            ], 
            "outputs": [], 
            "metadata": {
                "collapsed": true
            }
        }, 
        {
            "source": [
                "### 14.2. Shortwave Bands\n", 
                "**Is Required:** TRUE&nbsp;&nbsp;&nbsp;&nbsp;**Type:** INTEGER&nbsp;&nbsp;&nbsp;&nbsp;**Cardinality:** 1.1\n", 
                "### *Number of shortwave bands*"
            ], 
            "cell_type": "markdown", 
            "metadata": {}
        }, 
        {
            "execution_count": null, 
            "cell_type": "code", 
            "source": [
                "# PROPERTY ID - DO NOT EDIT !  \n", 
                "DOC.set_id('cmip6.aerosol.optical_radiative_properties.radiative_scheme.shortwave_bands')  \n", 
                "\n", 
                "# PROPERTY VALUE: \n", 
                "# Set as follows: DOC.set_value(value)  \n", 
                "# TODO - please enter value(s)", 
                "\n"
            ], 
            "outputs": [], 
            "metadata": {
                "collapsed": true
            }
        }, 
        {
            "source": [
                "### 14.3. Longwave Bands\n", 
                "**Is Required:** TRUE&nbsp;&nbsp;&nbsp;&nbsp;**Type:** INTEGER&nbsp;&nbsp;&nbsp;&nbsp;**Cardinality:** 1.1\n", 
                "### *Number of longwave bands*"
            ], 
            "cell_type": "markdown", 
            "metadata": {}
        }, 
        {
            "execution_count": null, 
            "cell_type": "code", 
            "source": [
                "# PROPERTY ID - DO NOT EDIT !  \n", 
                "DOC.set_id('cmip6.aerosol.optical_radiative_properties.radiative_scheme.longwave_bands')  \n", 
                "\n", 
                "# PROPERTY VALUE: \n", 
                "# Set as follows: DOC.set_value(value)  \n", 
                "# TODO - please enter value(s)", 
                "\n"
            ], 
            "outputs": [], 
            "metadata": {
                "collapsed": true
            }
        }, 
        {
            "source": [
                "# 15. Optical Radiative Properties --&gt; Cloud Interactions  \n", 
                "*Aerosol-cloud interactions*"
            ], 
            "cell_type": "markdown", 
            "metadata": {}
        }, 
        {
            "source": [
                "### 15.1. Overview\n", 
                "**Is Required:** TRUE&nbsp;&nbsp;&nbsp;&nbsp;**Type:** STRING&nbsp;&nbsp;&nbsp;&nbsp;**Cardinality:** 1.1\n", 
                "### *Overview of aerosol-cloud interactions*"
            ], 
            "cell_type": "markdown", 
            "metadata": {}
        }, 
        {
            "execution_count": null, 
            "cell_type": "code", 
            "source": [
                "# PROPERTY ID - DO NOT EDIT !  \n", 
                "DOC.set_id('cmip6.aerosol.optical_radiative_properties.cloud_interactions.overview')  \n", 
                "\n", 
                "# PROPERTY VALUE: \n", 
                "# Set as follows: DOC.set_value(\"value\")  \n", 
                "# TODO - please enter value(s)", 
                "\n"
            ], 
            "outputs": [], 
            "metadata": {
                "collapsed": true
            }
        }, 
        {
            "source": [
                "### 15.2. Twomey\n", 
                "**Is Required:** TRUE&nbsp;&nbsp;&nbsp;&nbsp;**Type:** BOOLEAN&nbsp;&nbsp;&nbsp;&nbsp;**Cardinality:** 1.1\n", 
                "### *Is the Twomey effect included?*"
            ], 
            "cell_type": "markdown", 
            "metadata": {}
        }, 
        {
            "execution_count": null, 
            "cell_type": "code", 
            "source": [
                "# PROPERTY ID - DO NOT EDIT !  \n", 
                "DOC.set_id('cmip6.aerosol.optical_radiative_properties.cloud_interactions.twomey')  \n", 
                "\n", 
                "# PROPERTY VALUE: \n", 
                "# Set as follows: DOC.set_value(value)  \n", 
                "# Valid Choices: \n", 
                "#     True  \n", 
                "#     False  \n", 
                "# TODO - please enter value(s)", 
                "\n"
            ], 
            "outputs": [], 
            "metadata": {
                "collapsed": true
            }
        }, 
        {
            "source": [
                "### 15.3. Twomey Minimum Ccn\n", 
                "**Is Required:** FALSE&nbsp;&nbsp;&nbsp;&nbsp;**Type:** INTEGER&nbsp;&nbsp;&nbsp;&nbsp;**Cardinality:** 0.1\n", 
                "### *If the Twomey effect is included, then what is the minimum CCN number?*"
            ], 
            "cell_type": "markdown", 
            "metadata": {}
        }, 
        {
            "execution_count": null, 
            "cell_type": "code", 
            "source": [
                "# PROPERTY ID - DO NOT EDIT !  \n", 
                "DOC.set_id('cmip6.aerosol.optical_radiative_properties.cloud_interactions.twomey_minimum_ccn')  \n", 
                "\n", 
                "# PROPERTY VALUE: \n", 
                "# Set as follows: DOC.set_value(value)  \n", 
                "# TODO - please enter value(s)", 
                "\n"
            ], 
            "outputs": [], 
            "metadata": {
                "collapsed": true
            }
        }, 
        {
            "source": [
                "### 15.4. Drizzle\n", 
                "**Is Required:** TRUE&nbsp;&nbsp;&nbsp;&nbsp;**Type:** BOOLEAN&nbsp;&nbsp;&nbsp;&nbsp;**Cardinality:** 1.1\n", 
                "### *Does the scheme affect drizzle?*"
            ], 
            "cell_type": "markdown", 
            "metadata": {}
        }, 
        {
            "execution_count": null, 
            "cell_type": "code", 
            "source": [
                "# PROPERTY ID - DO NOT EDIT !  \n", 
                "DOC.set_id('cmip6.aerosol.optical_radiative_properties.cloud_interactions.drizzle')  \n", 
                "\n", 
                "# PROPERTY VALUE: \n", 
                "# Set as follows: DOC.set_value(value)  \n", 
                "# Valid Choices: \n", 
                "#     True  \n", 
                "#     False  \n", 
                "# TODO - please enter value(s)", 
                "\n"
            ], 
            "outputs": [], 
            "metadata": {
                "collapsed": true
            }
        }, 
        {
            "source": [
                "### 15.5. Cloud Lifetime\n", 
                "**Is Required:** TRUE&nbsp;&nbsp;&nbsp;&nbsp;**Type:** BOOLEAN&nbsp;&nbsp;&nbsp;&nbsp;**Cardinality:** 1.1\n", 
                "### *Does the scheme affect cloud lifetime?*"
            ], 
            "cell_type": "markdown", 
            "metadata": {}
        }, 
        {
            "execution_count": null, 
            "cell_type": "code", 
            "source": [
                "# PROPERTY ID - DO NOT EDIT !  \n", 
                "DOC.set_id('cmip6.aerosol.optical_radiative_properties.cloud_interactions.cloud_lifetime')  \n", 
                "\n", 
                "# PROPERTY VALUE: \n", 
                "# Set as follows: DOC.set_value(value)  \n", 
                "# Valid Choices: \n", 
                "#     True  \n", 
                "#     False  \n", 
                "# TODO - please enter value(s)", 
                "\n"
            ], 
            "outputs": [], 
            "metadata": {
                "collapsed": true
            }
        }, 
        {
            "source": [
                "### 15.6. Longwave Bands\n", 
                "**Is Required:** TRUE&nbsp;&nbsp;&nbsp;&nbsp;**Type:** INTEGER&nbsp;&nbsp;&nbsp;&nbsp;**Cardinality:** 1.1\n", 
                "### *Number of longwave bands*"
            ], 
            "cell_type": "markdown", 
            "metadata": {}
        }, 
        {
            "execution_count": null, 
            "cell_type": "code", 
            "source": [
                "# PROPERTY ID - DO NOT EDIT !  \n", 
                "DOC.set_id('cmip6.aerosol.optical_radiative_properties.cloud_interactions.longwave_bands')  \n", 
                "\n", 
                "# PROPERTY VALUE: \n", 
                "# Set as follows: DOC.set_value(value)  \n", 
                "# TODO - please enter value(s)", 
                "\n"
            ], 
            "outputs": [], 
            "metadata": {
                "collapsed": true
            }
        }, 
        {
            "source": [
                "# 16. Model  \n", 
                "*Aerosol model*"
            ], 
            "cell_type": "markdown", 
            "metadata": {}
        }, 
        {
            "source": [
                "### 16.1. Overview\n", 
                "**Is Required:** TRUE&nbsp;&nbsp;&nbsp;&nbsp;**Type:** STRING&nbsp;&nbsp;&nbsp;&nbsp;**Cardinality:** 1.1\n", 
                "### *Overview of atmosperic aerosol model*"
            ], 
            "cell_type": "markdown", 
            "metadata": {}
        }, 
        {
            "execution_count": null, 
            "cell_type": "code", 
            "source": [
                "# PROPERTY ID - DO NOT EDIT !  \n", 
                "DOC.set_id('cmip6.aerosol.model.overview')  \n", 
                "\n", 
                "# PROPERTY VALUE: \n", 
                "# Set as follows: DOC.set_value(\"value\")  \n", 
                "# TODO - please enter value(s)", 
                "\n"
            ], 
            "outputs": [], 
            "metadata": {
                "collapsed": true
            }
        }, 
        {
            "source": [
                "### 16.2. Processes\n", 
                "**Is Required:** TRUE&nbsp;&nbsp;&nbsp;&nbsp;**Type:** ENUM&nbsp;&nbsp;&nbsp;&nbsp;**Cardinality:** 1.N\n", 
                "### *Processes included in the Aerosol model.*"
            ], 
            "cell_type": "markdown", 
            "metadata": {}
        }, 
        {
            "execution_count": null, 
            "cell_type": "code", 
            "source": [
                "# PROPERTY ID - DO NOT EDIT !  \n", 
                "DOC.set_id('cmip6.aerosol.model.processes')  \n", 
                "\n", 
                "# PROPERTY VALUE(S): \n", 
                "# Set as follows: DOC.set_value(\"value\")  \n", 
                "# Valid Choices: \n", 
                "#      \"Dry deposition\"  \n", 
                "#      \"Sedimentation\"  \n", 
                "#      \"Wet deposition (impaction scavenging)\"  \n", 
                "#      \"Wet deposition (nucleation scavenging)\"  \n", 
                "#      \"Coagulation\"  \n", 
                "#      \"Oxidation (gas phase)\"  \n", 
                "#      \"Oxidation (in cloud)\"  \n", 
                "#      \"Condensation\"  \n", 
                "#      \"Ageing\"  \n", 
                "#      \"Advection (horizontal)\"  \n", 
                "#      \"Advection (vertical)\"  \n", 
                "#      \"Heterogeneous chemistry\"  \n", 
                "#      \"Nucleation\"  \n", 
                "# TODO - please enter value(s)", 
                "\n"
            ], 
            "outputs": [], 
            "metadata": {
                "collapsed": true
            }
        }, 
        {
            "source": [
                "### 16.3. Coupling\n", 
                "**Is Required:** FALSE&nbsp;&nbsp;&nbsp;&nbsp;**Type:** ENUM&nbsp;&nbsp;&nbsp;&nbsp;**Cardinality:** 0.N\n", 
                "### *Other model components coupled to the Aerosol model*"
            ], 
            "cell_type": "markdown", 
            "metadata": {}
        }, 
        {
            "execution_count": null, 
            "cell_type": "code", 
            "source": [
                "# PROPERTY ID - DO NOT EDIT !  \n", 
                "DOC.set_id('cmip6.aerosol.model.coupling')  \n", 
                "\n", 
                "# PROPERTY VALUE(S): \n", 
                "# Set as follows: DOC.set_value(\"value\")  \n", 
                "# Valid Choices: \n", 
                "#      \"Radiation\"  \n", 
                "#      \"Land surface\"  \n", 
                "#      \"Heterogeneous chemistry\"  \n", 
                "#      \"Clouds\"  \n", 
                "#      \"Ocean\"  \n", 
                "#      \"Cryosphere\"  \n", 
                "#      \"Gas phase chemistry\"  \n", 
                "#      \"Other: [Please specify]\"  \n", 
                "# TODO - please enter value(s)", 
                "\n"
            ], 
            "outputs": [], 
            "metadata": {
                "collapsed": true
            }
        }, 
        {
            "source": [
                "### 16.4. Gas Phase Precursors\n", 
                "**Is Required:** TRUE&nbsp;&nbsp;&nbsp;&nbsp;**Type:** ENUM&nbsp;&nbsp;&nbsp;&nbsp;**Cardinality:** 1.N\n", 
                "### *List of gas phase aerosol precursors.*"
            ], 
            "cell_type": "markdown", 
            "metadata": {}
        }, 
        {
            "execution_count": null, 
            "cell_type": "code", 
            "source": [
                "# PROPERTY ID - DO NOT EDIT !  \n", 
                "DOC.set_id('cmip6.aerosol.model.gas_phase_precursors')  \n", 
                "\n", 
                "# PROPERTY VALUE(S): \n", 
                "# Set as follows: DOC.set_value(\"value\")  \n", 
                "# Valid Choices: \n", 
                "#      \"DMS\"  \n", 
                "#      \"SO2\"  \n", 
                "#      \"Ammonia\"  \n", 
                "#      \"Iodine\"  \n", 
                "#      \"Terpene\"  \n", 
                "#      \"Isoprene\"  \n", 
                "#      \"VOC\"  \n", 
                "#      \"NOx\"  \n", 
                "#      \"Other: [Please specify]\"  \n", 
                "# TODO - please enter value(s)", 
                "\n"
            ], 
            "outputs": [], 
            "metadata": {
                "collapsed": true
            }
        }, 
        {
            "source": [
                "### 16.5. Scheme Type\n", 
                "**Is Required:** TRUE&nbsp;&nbsp;&nbsp;&nbsp;**Type:** ENUM&nbsp;&nbsp;&nbsp;&nbsp;**Cardinality:** 1.N\n", 
                "### *Type(s) of aerosol scheme used by the aerosols model (potentially multiple: some species may be covered by one type of aerosol scheme and other species covered by another type).*"
            ], 
            "cell_type": "markdown", 
            "metadata": {}
        }, 
        {
            "execution_count": null, 
            "cell_type": "code", 
            "source": [
                "# PROPERTY ID - DO NOT EDIT !  \n", 
                "DOC.set_id('cmip6.aerosol.model.scheme_type')  \n", 
                "\n", 
                "# PROPERTY VALUE(S): \n", 
                "# Set as follows: DOC.set_value(\"value\")  \n", 
                "# Valid Choices: \n", 
                "#      \"Bulk\"  \n", 
                "#      \"Modal\"  \n", 
                "#      \"Bin\"  \n", 
                "#      \"Other: [Please specify]\"  \n", 
                "# TODO - please enter value(s)", 
                "\n"
            ], 
            "outputs": [], 
            "metadata": {
                "collapsed": true
            }
        }, 
        {
            "source": [
                "### 16.6. Bulk Scheme Species\n", 
                "**Is Required:** TRUE&nbsp;&nbsp;&nbsp;&nbsp;**Type:** ENUM&nbsp;&nbsp;&nbsp;&nbsp;**Cardinality:** 1.N\n", 
                "### *List of species covered by the bulk scheme.*"
            ], 
            "cell_type": "markdown", 
            "metadata": {}
        }, 
        {
            "execution_count": null, 
            "cell_type": "code", 
            "source": [
                "# PROPERTY ID - DO NOT EDIT !  \n", 
                "DOC.set_id('cmip6.aerosol.model.bulk_scheme_species')  \n", 
                "\n", 
                "# PROPERTY VALUE(S): \n", 
                "# Set as follows: DOC.set_value(\"value\")  \n", 
                "# Valid Choices: \n", 
                "#      \"Sulphate\"  \n", 
                "#      \"Nitrate\"  \n", 
                "#      \"Sea salt\"  \n", 
                "#      \"Dust\"  \n", 
                "#      \"Ice\"  \n", 
                "#      \"Organic\"  \n", 
                "#      \"Black carbon / soot\"  \n", 
                "#      \"SOA (secondary organic aerosols)\"  \n", 
                "#      \"POM (particulate organic matter)\"  \n", 
                "#      \"Polar stratospheric ice\"  \n", 
                "#      \"NAT (Nitric acid trihydrate)\"  \n", 
                "#      \"NAD (Nitric acid dihydrate)\"  \n", 
                "#      \"STS (supercooled ternary solution aerosol particule)\"  \n", 
                "#      \"Other: [Please specify]\"  \n", 
                "# TODO - please enter value(s)", 
                "\n"
            ], 
            "outputs": [], 
            "metadata": {
                "collapsed": true
            }
        }, 
        {
            "source": [
                "### \u00a92017 [ES-DOC](https://es-doc.org)  \n"
            ], 
            "cell_type": "markdown", 
            "metadata": {}
        }
    ], 
    "metadata": {
        "kernelspec": {
            "display_name": "Python 2", 
            "name": "python2", 
            "language": "python"
        }, 
        "language_info": {
            "mimetype": "text/x-python", 
            "nbconvert_exporter": "python", 
            "name": "python", 
            "file_extension": ".py", 
            "version": "2.7.10", 
            "pygments_lexer": "ipython2", 
            "codemirror_mode": {
                "version": 2, 
                "name": "ipython"
            }
        }
    }
}