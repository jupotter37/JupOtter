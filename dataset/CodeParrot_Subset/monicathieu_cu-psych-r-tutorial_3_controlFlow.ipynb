{
 "cells": [
  {
   "cell_type": "markdown",
   "metadata": {},
   "source": [
    "# Control Flow\n",
    "\n",
    "## Goals of this lesson\n",
    "\n",
    "#### Students will learn:\n",
    "- How to use if/else and for loops in python\n",
    "- How to indent code correctly in python"
   ]
  },
  {
   "cell_type": "markdown",
   "metadata": {},
   "source": [
    "# Indenting in python\n",
    "\n",
    "- Python, unlike R, is *strict* about indentation! \n",
    "- Indentations in python often have bearing on the *order* in which they are executed, and switching indentation can change how code runs (or break it)\n",
    "- Coming from R, indentation might seem annoying at first, but eventually this can help with code readability \n",
    "- Ultimately, python is trying to help us stay organized\n",
    "\n",
    "\n",
    "\n"
   ]
  },
  {
   "cell_type": "markdown",
   "metadata": {},
   "source": [
    "![Indentation](https://www.python-course.eu/images/blocks.png)\n",
    "\n",
    "    "
   ]
  },
  {
   "cell_type": "markdown",
   "metadata": {},
   "source": [
    "# If statements\n",
    "\n",
    "- If statements in python are the equivalent of the following English: \"If condition X is met, then do action Y\"\n",
    "- If statements in python consist of the following syntax\n",
    "\n",
    "`if (condition X):\n",
    "    actions...`"
   ]
  },
  {
   "cell_type": "code",
   "execution_count": 12,
   "metadata": {},
   "outputs": [
    {
     "name": "stdout",
     "output_type": "stream",
     "text": [
      "Above 10!\n"
     ]
    }
   ],
   "source": [
    "myVar = 25\n",
    "if myVar > 10:\n",
    "    print('Above 10!')"
   ]
  },
  {
   "cell_type": "markdown",
   "metadata": {},
   "source": [
    "## Nesting If Statements\n",
    "\n",
    "Any conditional statements within others are called 'nested'"
   ]
  },
  {
   "cell_type": "code",
   "execution_count": 13,
   "metadata": {},
   "outputs": [
    {
     "name": "stdout",
     "output_type": "stream",
     "text": [
      "Above 10!\n",
      "Above 20!\n"
     ]
    }
   ],
   "source": [
    "if myVar > 5:\n",
    "    print('Above 10!')\n",
    "    if myVar > 20:\n",
    "        print('Above 20!')"
   ]
  },
  {
   "cell_type": "markdown",
   "metadata": {},
   "source": [
    "# Else Statements\n",
    "\n",
    "- It is also very helpful to specify code that we want to run if a condition is NOT met\n",
    "- Else statements in python always follow if statements, and consist of the following syntax\n",
    "\n",
    "`if (condition X):\n",
    "    actions...\n",
    " else:\n",
    "    actions...`"
   ]
  },
  {
   "cell_type": "code",
   "execution_count": 14,
   "metadata": {},
   "outputs": [
    {
     "name": "stdout",
     "output_type": "stream",
     "text": [
      "woof\n"
     ]
    }
   ],
   "source": [
    "myVar2 = 'dog'\n",
    "if myVar2 == 'cat':\n",
    "    print('meow')\n",
    "else:\n",
    "    print('woof')"
   ]
  },
  {
   "cell_type": "markdown",
   "metadata": {},
   "source": [
    "## Else If & Sequential If Statements\n",
    "\n",
    "- We may also want to specify a series of conditions\n",
    "- Python always evaluates conditions on the same nest level in order, from top to bottom \n",
    "- Elif means 'else if' -- only run this statement if the previous if statement condition was not met, and the condition following is met\n",
    "- Sequential if statements on the same level will run if the statement condition is met, regardless of the previous"
   ]
  },
  {
   "cell_type": "code",
   "execution_count": 15,
   "metadata": {},
   "outputs": [
    {
     "name": "stdout",
     "output_type": "stream",
     "text": [
      "3 letters long\n"
     ]
    }
   ],
   "source": [
    "myVar2 = 'dog'\n",
    "if len(myVar2) == 3:\n",
    "    print('3 letters long')\n",
    "elif myVar2 == 'dog':\n",
    "    print('woof')\n",
    "else:\n",
    "    print('unknown animal')"
   ]
  },
  {
   "cell_type": "code",
   "execution_count": 16,
   "metadata": {},
   "outputs": [
    {
     "name": "stdout",
     "output_type": "stream",
     "text": [
      "3 letters long\n",
      "woof\n"
     ]
    }
   ],
   "source": [
    "myVar2 = 'dog'\n",
    "if len(myVar2) == 3:\n",
    "    print('3 letters long')\n",
    "if myVar2 == 'dog':\n",
    "    print('woof')\n",
    "else:\n",
    "    print('unknown animal')"
   ]
  },
  {
   "cell_type": "markdown",
   "metadata": {},
   "source": [
    "# Loops\n",
    "\n",
    "- Looping is a great way to apply the same operation to many pieces of data"
   ]
  },
  {
   "cell_type": "markdown",
   "metadata": {},
   "source": [
    "### Looping through a list"
   ]
  },
  {
   "cell_type": "code",
   "execution_count": 17,
   "metadata": {},
   "outputs": [
    {
     "name": "stdout",
     "output_type": "stream",
     "text": [
      "2\n",
      "3\n",
      "4\n",
      "-1\n",
      "7\n"
     ]
    }
   ],
   "source": [
    "nums = [2,3,4,-1,7]\n",
    "for number in nums:\n",
    "    print(number)"
   ]
  },
  {
   "cell_type": "markdown",
   "metadata": {},
   "source": [
    "### Looping a certain number of times\n"
   ]
  },
  {
   "cell_type": "code",
   "execution_count": 18,
   "metadata": {},
   "outputs": [
    {
     "name": "stdout",
     "output_type": "stream",
     "text": [
      "0\n",
      "1\n",
      "2\n",
      "3\n",
      "4\n",
      "5\n",
      "6\n",
      "7\n",
      "8\n",
      "9\n"
     ]
    }
   ],
   "source": [
    "for i in range(10):\n",
    "    print(i)"
   ]
  },
  {
   "cell_type": "markdown",
   "metadata": {},
   "source": [
    "### Fancly looping with enumerate"
   ]
  },
  {
   "cell_type": "code",
   "execution_count": 19,
   "metadata": {},
   "outputs": [
    {
     "name": "stdout",
     "output_type": "stream",
     "text": [
      "0 banana\n",
      "1 mango\n",
      "2 kiwi\n",
      "3 blackberry\n"
     ]
    }
   ],
   "source": [
    "stringList = ['banana', 'mango', 'kiwi', 'blackberry']\n",
    "# fancy looping with enumerate()\n",
    "for index, item in enumerate(stringList):\n",
    "    print(index, item)"
   ]
  },
  {
   "cell_type": "markdown",
   "metadata": {},
   "source": [
    "# Nested loops"
   ]
  },
  {
   "cell_type": "markdown",
   "metadata": {},
   "source": [
    "![nested loops](https://javatutoring.com/wp-content/uploads/2016/12/loops-in-java.jpg)"
   ]
  },
  {
   "cell_type": "code",
   "execution_count": 20,
   "metadata": {},
   "outputs": [
    {
     "name": "stdout",
     "output_type": "stream",
     "text": [
      "banana 0\n",
      "banana 1\n",
      "banana 2\n",
      "banana 3\n",
      "mango 0\n",
      "mango 1\n",
      "mango 2\n",
      "mango 3\n",
      "kiwi 0\n",
      "kiwi 1\n",
      "kiwi 2\n",
      "kiwi 3\n",
      "blackberry 0\n",
      "blackberry 1\n",
      "blackberry 2\n",
      "blackberry 3\n"
     ]
    }
   ],
   "source": [
    "for i in stringList:\n",
    "    for j in range(4):\n",
    "        print(i, j)"
   ]
  }
 ],
 "metadata": {
  "kernelspec": {
   "display_name": "Python 3",
   "language": "python",
   "name": "python3"
  },
  "language_info": {
   "codemirror_mode": {
    "name": "ipython",
    "version": 3
   },
   "file_extension": ".py",
   "mimetype": "text/x-python",
   "name": "python",
   "nbconvert_exporter": "python",
   "pygments_lexer": "ipython3",
   "version": "3.6.5"
  }
 },
 "nbformat": 4,
 "nbformat_minor": 2
}
