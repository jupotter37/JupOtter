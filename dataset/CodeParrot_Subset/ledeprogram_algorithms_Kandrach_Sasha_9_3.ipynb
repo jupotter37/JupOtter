{
 "cells": [
  {
   "cell_type": "code",
   "execution_count": null,
   "metadata": {
    "collapsed": true
   },
   "outputs": [],
   "source": [
    "from sklearn import preprocessing\n",
    "from sklearn import cross_validation\n",
    "from sklearn.tree import DecisionTreeClassifier\n",
    "from sklearn.feature_extraction.text import CountVectorizer"
   ]
  },
  {
   "cell_type": "code",
   "execution_count": null,
   "metadata": {
    "collapsed": true
   },
   "outputs": [],
   "source": [
    "########## STEP 1: DATA IMPORT AND PREPROCESSING ##########\n",
    "\n",
    "# Here we're taking in the training data and splitting it into two lists: One with the text of\n",
    "# each bill title, and the second with each bill title's corresponding category. Order is important.\n",
    "# The first bill in list 1 should also be the first category in list 2.\n",
    "training = [line.strip().split('|') for line in open('../data/bills_training.txt', 'r').readlines()]\n",
    "text = [t[0] for t in training if len(t) > 1]\n",
    "labels = [t[1] for t in training if len(t) > 1]\n",
    "\n",
    "# A little bit of cleanup for scikit-learn's benefit. Scikit-learn models wants our categories to\n",
    "# be numbers, not strings. The LabelEncoder performs this transformation.\n",
    "encoder = preprocessing.LabelEncoder()\n",
    "correct_labels = encoder.fit_transform(labels)"
   ]
  },
  {
   "cell_type": "code",
   "execution_count": null,
   "metadata": {
    "collapsed": false
   },
   "outputs": [],
   "source": [
    "########## STEP 2: FEATURE EXTRACTION ##########\n",
    "vectorizer = CountVectorizer(stop_words='english')\n",
    "data = vectorizer.fit_transform(text)\n"
   ]
  },
  {
   "cell_type": "code",
   "execution_count": null,
   "metadata": {
    "collapsed": true
   },
   "outputs": [],
   "source": [
    "########## STEP 3: MODEL BUILDING ##########\n",
    "model = DecisionTreeClassifier()\n",
    "fit_model = model.fit(data, correct_labels)\n"
   ]
  },
  {
   "cell_type": "code",
   "execution_count": null,
   "metadata": {
    "collapsed": false
   },
   "outputs": [],
   "source": [
    "# ########## STEP 4: EVALUATION ##########\n",
    "# Evaluate our model with 10-fold cross-validation\n",
    "scores = cross_validation.cross_val_score(model, data, correct_labels, cv=5)\n",
    "print(\"Accuracy: %0.2f (+/- %0.2f)\" % (scores.mean(), scores.std() * 2))\n"
   ]
  },
  {
   "cell_type": "code",
   "execution_count": null,
   "metadata": {
    "collapsed": false
   },
   "outputs": [],
   "source": [
    "# ########## STEP 5: APPLYING THE MODEL ##########\n",
    "docs_new = [\"Public postsecondary education: executive officer compensation.\",\n",
    "            \"An act to add Section 236.3 to the Education code, related to the pricing of college textbooks.\",\n",
    "            \"Political Reform Act of 1974: campaign disclosures.\",\n",
    "            \"An act to add Section 236.3 to the Penal Code, relating to human trafficking.\"\n",
    "        ]\n",
    "\n",
    "test_data = vectorizer.transform(docs_new)\n",
    "\n",
    "for i in range(len(docs_new)):\n",
    "    print('%s -> %s' % (docs_new[i], encoder.classes_[model.predict(test_data.toarray()[i])]))\n",
    "   "
   ]
  },
  {
   "cell_type": "markdown",
   "metadata": {
    "collapsed": true
   },
   "source": [
    "Overall, this model make a good amount of sense to me. The concept of keeping the information in order while separating it by title and corresponding category is something that I think could be useful in a variety of ways. \n",
    "\n",
    "The code seems pretty straight forward, however, the last step gets a bit confusing. I understand everything prior to the for loop and then the for loop I understand to an extent. If we could maybe go over the last step in more detail I think that would be helpful.\n"
   ]
  },
  {
   "cell_type": "code",
   "execution_count": null,
   "metadata": {
    "collapsed": true
   },
   "outputs": [],
   "source": []
  }
 ],
 "metadata": {
  "kernelspec": {
   "display_name": "Python 3",
   "language": "python",
   "name": "python3"
  },
  "language_info": {
   "codemirror_mode": {
    "name": "ipython",
    "version": 3
   },
   "file_extension": ".py",
   "mimetype": "text/x-python",
   "name": "python",
   "nbconvert_exporter": "python",
   "pygments_lexer": "ipython3",
   "version": "3.5.1"
  }
 },
 "nbformat": 4,
 "nbformat_minor": 0
}
