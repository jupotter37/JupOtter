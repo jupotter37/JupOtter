{
 "cells": [
  {
   "cell_type": "markdown",
   "metadata": {},
   "source": [
    "# Excercises Electric Machinery Fundamentals\n",
    "## Chapter 5"
   ]
  },
  {
   "cell_type": "markdown",
   "metadata": {},
   "source": [
    "## Problem 5-10"
   ]
  },
  {
   "cell_type": "code",
   "execution_count": 1,
   "metadata": {
    "collapsed": false,
    "slideshow": {
     "slide_type": "skip"
    }
   },
   "outputs": [
    {
     "name": "stdout",
     "output_type": "stream",
     "text": [
      "Populating the interactive namespace from numpy and matplotlib\n"
     ]
    }
   ],
   "source": [
    "%pylab notebook"
   ]
  },
  {
   "cell_type": "markdown",
   "metadata": {},
   "source": [
    "### Description"
   ]
  },
  {
   "cell_type": "markdown",
   "metadata": {},
   "source": [
    "A synchronous machine has a synchronous reactance of $1.0\\,\\Omega$ per phase and an armature resistance of $0.1\\,\\Omega$ per phase. \n",
    "\n",
    "* If $\\vec{E}_A = 460\\,V\\angle-10°$ and $\\vec{V}_\\phi = 480\\,V\\angle0°$, is this machine a motor or a generator? \n",
    "* How much power P is this machine consuming from or supplying to the electrical system?\n",
    "* How much reactive power Q is this machine consuming from or supplying to the electrical system?"
   ]
  },
  {
   "cell_type": "code",
   "execution_count": 2,
   "metadata": {
    "collapsed": false
   },
   "outputs": [],
   "source": [
    "Ea         = 460         # [V]\n",
    "EA_angle   = -10/180*pi  # [rad]\n",
    "EA         = Ea * (cos(EA_angle) + 1j*sin(EA_angle))\n",
    "Vphi       = 480         # [V]\n",
    "VPhi_angle =   0/180*pi  # [rad]\n",
    "VPhi       = Vphi*exp(1j*VPhi_angle)\n",
    "Ra         =   0.1       # [Ohm]\n",
    "Xs         =   1.0       # [Ohm]"
   ]
  },
  {
   "cell_type": "markdown",
   "metadata": {},
   "source": [
    "### SOLUTION"
   ]
  },
  {
   "cell_type": "markdown",
   "metadata": {},
   "source": [
    "**This machine is a motor, consuming power from the power system, because $\\vec{E}_A$ is lagging $\\vec{V}_\\phi$**"
   ]
  },
  {
   "cell_type": "markdown",
   "metadata": {},
   "source": [
    "It is also consuming reactive power, because $E_A \\cos{\\delta} < V_\\phi$ . The current flowing in this machine is:\n",
    "\n",
    "$$\\vec{I}_A = \\frac{\\vec{V}_\\phi - \\vec{E}_A}{R_A + jX_s}$$"
   ]
  },
  {
   "cell_type": "code",
   "execution_count": 3,
   "metadata": {
    "collapsed": false
   },
   "outputs": [
    {
     "name": "stdout",
     "output_type": "stream",
     "text": [
      "IA = 83.9 A ∠ -12.96°\n"
     ]
    }
   ],
   "source": [
    "IA = (VPhi - EA) / (Ra + Xs*1j)\n",
    "IA_angle = arctan(IA.imag/IA.real)\n",
    "print('IA = {:.1f} A ∠ {:.2f}°'.format(abs(IA), IA_angle/pi*180))"
   ]
  },
  {
   "cell_type": "markdown",
   "metadata": {},
   "source": [
    "Therefore the real power consumed by this motor is:\n",
    "\n",
    "$$P =3V_\\phi I_A \\cos{\\theta}$$"
   ]
  },
  {
   "cell_type": "code",
   "execution_count": 4,
   "metadata": {
    "collapsed": false
   },
   "outputs": [
    {
     "name": "stdout",
     "output_type": "stream",
     "text": [
      "\n",
      "P = 117.7 kW\n",
      "============\n"
     ]
    }
   ],
   "source": [
    "theta = abs(IA_angle)\n",
    "P = 3* abs(VPhi)* abs(IA)* cos(theta)\n",
    "print('''\n",
    "P = {:.1f} kW\n",
    "============'''.format(P/1e3))"
   ]
  },
  {
   "cell_type": "markdown",
   "metadata": {},
   "source": [
    "and the reactive power consumed by this motor is:\n",
    "\n",
    "$$Q = 3V_\\phi I_A \\sin{\\theta}$$"
   ]
  },
  {
   "cell_type": "code",
   "execution_count": 5,
   "metadata": {
    "collapsed": false
   },
   "outputs": [
    {
     "name": "stdout",
     "output_type": "stream",
     "text": [
      "\n",
      "Q = 27.1 kvar\n",
      "=============\n"
     ]
    }
   ],
   "source": [
    "Q = 3* abs(VPhi)* abs(IA)* sin(theta)\n",
    "print('''\n",
    "Q = {:.1f} kvar\n",
    "============='''.format(Q/1e3))"
   ]
  }
 ],
 "metadata": {
  "kernelspec": {
   "display_name": "Python 3",
   "language": "python",
   "name": "python3"
  },
  "language_info": {
   "codemirror_mode": {
    "name": "ipython",
    "version": 3
   },
   "file_extension": ".py",
   "mimetype": "text/x-python",
   "name": "python",
   "nbconvert_exporter": "python",
   "pygments_lexer": "ipython3",
   "version": "3.5.2"
  }
 },
 "nbformat": 4,
 "nbformat_minor": 0
}
