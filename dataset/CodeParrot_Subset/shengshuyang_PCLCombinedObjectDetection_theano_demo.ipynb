{
 "cells": [
  {
   "cell_type": "markdown",
   "metadata": {},
   "source": [
    "# Basics about Theano"
   ]
  },
  {
   "cell_type": "markdown",
   "metadata": {},
   "source": [
    "First let's do the standard import"
   ]
  },
  {
   "cell_type": "code",
   "execution_count": 70,
   "metadata": {
    "collapsed": true
   },
   "outputs": [],
   "source": [
    "import time\n",
    "import numpy as np\n",
    "#import matplotlib.pyplot as plt\n",
    "import theano\n",
    "# By convention, the tensor submodule is loaded as T\n",
    "import theano.tensor as T"
   ]
  },
  {
   "cell_type": "markdown",
   "metadata": {},
   "source": [
    "The following are all Theano defined types:"
   ]
  },
  {
   "cell_type": "code",
   "execution_count": 71,
   "metadata": {
    "collapsed": false
   },
   "outputs": [
    {
     "name": "stdout",
     "output_type": "stream",
     "text": [
      "TensorType(float32, matrix)\n",
      "TensorType(float32, scalar)\n",
      "TensorType(float32, vector)\n"
     ]
    }
   ],
   "source": [
    "A = T.matrix('A')\n",
    "b = T.scalar('b')\n",
    "v = T.vector('v')\n",
    "\n",
    "print A.type\n",
    "print b.type\n",
    "print v.type"
   ]
  },
  {
   "cell_type": "markdown",
   "metadata": {},
   "source": [
    "All those types are symbolic, meaning they don't have values at all. Theano variables can be defined with simple relations, such as "
   ]
  },
  {
   "cell_type": "code",
   "execution_count": 72,
   "metadata": {
    "collapsed": false
   },
   "outputs": [
    {
     "name": "stdout",
     "output_type": "stream",
     "text": [
      "TensorType(float32, scalar)\n",
      "TensorType(float32, scalar)\n"
     ]
    }
   ],
   "source": [
    "a = T.scalar('a')\n",
    "c = a**2\n",
    "\n",
    "print a.type\n",
    "print c.type"
   ]
  },
  {
   "cell_type": "markdown",
   "metadata": {},
   "source": [
    "note that `c` is also a symbolic scalar here.\n",
    "\n",
    "We can also define a function:"
   ]
  },
  {
   "cell_type": "code",
   "execution_count": 73,
   "metadata": {
    "collapsed": false
   },
   "outputs": [
    {
     "name": "stdout",
     "output_type": "stream",
     "text": [
      "<theano.compile.function_module.Function object at 0x0000000029FEBC88>\n"
     ]
    }
   ],
   "source": [
    "f = theano.function([a],a**2)\n",
    "print f"
   ]
  },
  {
   "cell_type": "markdown",
   "metadata": {},
   "source": [
    " Again, Theano functions are symbolic as well. We must evaluate the function with some input to check its output. For example:"
   ]
  },
  {
   "cell_type": "code",
   "execution_count": 74,
   "metadata": {
    "collapsed": false
   },
   "outputs": [
    {
     "name": "stdout",
     "output_type": "stream",
     "text": [
      "4.0\n"
     ]
    }
   ],
   "source": [
    "print f(2)"
   ]
  },
  {
   "cell_type": "markdown",
   "metadata": {},
   "source": [
    "Shared variable is also a Theano type"
   ]
  },
  {
   "cell_type": "code",
   "execution_count": 75,
   "metadata": {
    "collapsed": false
   },
   "outputs": [
    {
     "name": "stdout",
     "output_type": "stream",
     "text": [
      "variable type:\n",
      "TensorType(float32, matrix)\n",
      "\n",
      "variable value:\n",
      "[[ 1.  2.]\n",
      " [ 3.  4.]]\n",
      "\n",
      "values changed:\n",
      "[[ 4.  5.]\n",
      " [ 6.  7.]]\n"
     ]
    }
   ],
   "source": [
    "shared_var = theano.shared(np.array([[1, 2], [3, 4]], \n",
    "                                    dtype=theano.config.floatX))\n",
    "print 'variable type:'\n",
    "print shared_var.type\n",
    "print '\\nvariable value:'\n",
    "print shared_var.get_value()\n",
    "\n",
    "shared_var.set_value(np.array([[4, 5], [6, 7]], \n",
    "                                    dtype=theano.config.floatX))\n",
    "print '\\nvalues changed:'\n",
    "print shared_var.get_value()"
   ]
  },
  {
   "cell_type": "markdown",
   "metadata": {},
   "source": [
    "They have a fixed value, but are still treated as symbolic (can be input to functions etc.).\n",
    "\n",
    "Shared variables are perfect to use as state variables or parameters. Fore example, in CNN each layer has a parameter matrix 'W', we need to store its value so we can perform testing against thousands of images, yet we also need to update their values during training.\n",
    "\n",
    "As a side note, since they have fixed value, they don't need to be explicitly specified as input to a function:"
   ]
  },
  {
   "cell_type": "code",
   "execution_count": 76,
   "metadata": {
    "collapsed": false
   },
   "outputs": [
    {
     "name": "stdout",
     "output_type": "stream",
     "text": [
      "[[ 17.  26.]\n",
      " [ 37.  50.]]\n",
      "\n",
      "\n",
      "[[ 17.  26.]\n",
      " [ 37.  50.]]\n"
     ]
    }
   ],
   "source": [
    "bias = T.matrix('bias')\n",
    "shared_squared = shared_var**2 + bias\n",
    "\n",
    "bias_value = np.array([[1,1],[1,1]], \n",
    "                  dtype=theano.config.floatX)\n",
    "\n",
    "f1 = theano.function([bias],shared_squared)\n",
    "print f1(bias_value)\n",
    "print '\\n'\n",
    "print shared_squared.eval({bias:bias_value})"
   ]
  },
  {
   "cell_type": "markdown",
   "metadata": {},
   "source": [
    "The example above defines a function that takes square of a shared_var and add by a bias. When evaluating the function we only provide value for bias because we know that the shared variable is fixed value."
   ]
  },
  {
   "cell_type": "markdown",
   "metadata": {},
   "source": [
    "#Gradients"
   ]
  },
  {
   "cell_type": "markdown",
   "metadata": {},
   "source": [
    "To calculate gradient we can use a `T.grad()` function to return a tensor variable. We first define some variable:"
   ]
  },
  {
   "cell_type": "code",
   "execution_count": 77,
   "metadata": {
    "collapsed": false
   },
   "outputs": [],
   "source": [
    "def square(a):\n",
    "    return a**2\n",
    "\n",
    "a = T.scalar('a')\n",
    "b = square(a)\n",
    "c = square(b)"
   ]
  },
  {
   "cell_type": "markdown",
   "metadata": {},
   "source": [
    "Then we define two ways to evaluate gradient:"
   ]
  },
  {
   "cell_type": "code",
   "execution_count": 78,
   "metadata": {
    "collapsed": true
   },
   "outputs": [],
   "source": [
    "grad = T.grad(c,a)\n",
    "f_grad = theano.function([a],grad)"
   ]
  },
  {
   "cell_type": "markdown",
   "metadata": {},
   "source": [
    "The TensorVariable **grad** calculates gradient of **b** w.r.t. **a**. \n",
    "The function **f_grad** takes **a** as input and **grad** as output, so it should be equivalent. However, evaluating them have different formats:"
   ]
  },
  {
   "cell_type": "code",
   "execution_count": 79,
   "metadata": {
    "collapsed": false
   },
   "outputs": [
    {
     "name": "stdout",
     "output_type": "stream",
     "text": [
      "4000.0\n",
      "4000.0\n"
     ]
    }
   ],
   "source": [
    "print grad.eval({a:10})\n",
    "print f_grad(10)"
   ]
  },
  {
   "cell_type": "markdown",
   "metadata": {},
   "source": [
    "# MLP Demo with Theano"
   ]
  },
  {
   "cell_type": "code",
   "execution_count": 80,
   "metadata": {
    "collapsed": false
   },
   "outputs": [
    {
     "name": "stdout",
     "output_type": "stream",
     "text": [
      "[[ 7.5  7.5  7.5]\n",
      " [ 9.5  9.5  9.5]\n",
      " [ 9.   9.   9. ]]\n",
      "time: 1.14300012589\n"
     ]
    }
   ],
   "source": [
    "class layer(object):\n",
    "    def __init__(self, W_init, b_init, activation):\n",
    "\n",
    "        [n_output, n_input] = W_init.shape\n",
    "        assert b_init.shape == (n_output,1) or b_init.shape == (n_output,)\n",
    "        self.W = theano.shared(value = W_init.astype(theano.config.floatX),\n",
    "                               name = 'W',\n",
    "                               borrow = True)\n",
    "        self.b = theano.shared(value = b_init.reshape(n_output,1).astype(theano.config.floatX),\n",
    "                               name = 'b',\n",
    "                               borrow = True,\n",
    "                               broadcastable=(False, True))\n",
    "        self.activation = activation\n",
    "        self.params = [self.W, self.b]\n",
    "        #return super(layer, self).__init__(*args, **kwargs)\n",
    "    def output(self, x):\n",
    "        lin_output = T.dot(self.W, x) + self.b\n",
    "        if self.activation is not None:\n",
    "            non_lin_output = self.activation(lin_output)\n",
    "        return ( lin_output if self.activation is None else non_lin_output )\n",
    "\n",
    "t1 = time.time()\n",
    "W_init = np.ones([3,3])\n",
    "b_init = np.array([1,3,2.5]).transpose()\n",
    "activation = None #T.nnet.sigmoid\n",
    "L = layer(W_init,b_init,activation)\n",
    "x = T.vector('x')\n",
    "out = L.output(x)\n",
    "print out.eval({x:np.array([1.0,2,3.5]).astype(theano.config.floatX)})\n",
    "t2 = time.time()\n",
    "print 'time:', t2-t1"
   ]
  },
  {
   "cell_type": "markdown",
   "metadata": {
    "collapsed": true
   },
   "source": [
    "# Plotting Flowchart (or Theano Graph)"
   ]
  },
  {
   "cell_type": "markdown",
   "metadata": {},
   "source": [
    "The code snippet below can plot a flowchart that shows what happens inside our mlp layer. Note that the input **`out`** is the output of layer, as defined above."
   ]
  },
  {
   "cell_type": "code",
   "execution_count": 81,
   "metadata": {
    "collapsed": false
   },
   "outputs": [
    {
     "data": {
      "image/svg+xml": [
       "<svg height=\"392pt\" viewBox=\"0.00 0.00 464.00 392.00\" width=\"464pt\" xmlns=\"http://www.w3.org/2000/svg\" xmlns:xlink=\"http://www.w3.org/1999/xlink\">\n",
       "<g class=\"graph\" id=\"graph0\" transform=\"scale(1 1) rotate(0) translate(4 388)\">\n",
       "<title>G</title>\n",
       "<polygon fill=\"white\" points=\"-4,4 -4,-388 460,-388 460,4 -4,4\" stroke=\"none\"/>\n",
       "<!-- dot -->\n",
       "<g class=\"node\" id=\"node1\"><title>dot</title>\n",
       "<ellipse cx=\"202\" cy=\"-279\" fill=\"none\" rx=\"27\" ry=\"18\" stroke=\"black\"/>\n",
       "<text font-family=\"Times New Roman,serif\" font-size=\"14.00\" text-anchor=\"middle\" x=\"202\" y=\"-275.3\">dot</text>\n",
       "</g>\n",
       "<!-- DimShuffle{x,0} -->\n",
       "<g class=\"node\" id=\"node4\"><title>DimShuffle{x,0}</title>\n",
       "<ellipse cx=\"202\" cy=\"-192\" fill=\"none\" rx=\"71.4873\" ry=\"18\" stroke=\"black\"/>\n",
       "<text font-family=\"Times New Roman,serif\" font-size=\"14.00\" text-anchor=\"middle\" x=\"202\" y=\"-188.3\">DimShuffle{x,0}</text>\n",
       "</g>\n",
       "<!-- dot&#45;&gt;DimShuffle{x,0} -->\n",
       "<g class=\"edge\" id=\"edge3\"><title>dot-&gt;DimShuffle{x,0}</title>\n",
       "<path d=\"M202,-260.799C202,-249.163 202,-233.548 202,-220.237\" fill=\"none\" stroke=\"black\"/>\n",
       "<polygon fill=\"black\" points=\"205.5,-220.175 202,-210.175 198.5,-220.175 205.5,-220.175\" stroke=\"black\"/>\n",
       "<text font-family=\"Times New Roman,serif\" font-size=\"14.00\" text-anchor=\"middle\" x=\"282\" y=\"-231.8\">TensorType(float32, vector)</text>\n",
       "</g>\n",
       "<!-- W -->\n",
       "<g class=\"node\" id=\"node2\"><title>W</title>\n",
       "<polygon fill=\"green\" points=\"133,-384 79,-384 79,-348 133,-348 133,-384\" stroke=\"black\"/>\n",
       "<text font-family=\"Times New Roman,serif\" font-size=\"14.00\" text-anchor=\"middle\" x=\"106\" y=\"-362.3\">W</text>\n",
       "</g>\n",
       "<!-- W&#45;&gt;dot -->\n",
       "<g class=\"edge\" id=\"edge1\"><title>W-&gt;dot</title>\n",
       "<path d=\"M101.797,-347.742C100.293,-337.337 100.351,-324.335 107,-315 120.172,-296.506 144.239,-287.765 164.853,-283.642\" fill=\"none\" stroke=\"black\"/>\n",
       "<polygon fill=\"black\" points=\"165.666,-287.054 174.936,-281.924 164.49,-280.154 165.666,-287.054\" stroke=\"black\"/>\n",
       "<text font-family=\"Times New Roman,serif\" font-size=\"14.00\" text-anchor=\"middle\" x=\"191.5\" y=\"-318.8\">0 TensorType(float32, matrix)</text>\n",
       "</g>\n",
       "<!-- x -->\n",
       "<g class=\"node\" id=\"node3\"><title>x</title>\n",
       "<polygon fill=\"green\" points=\"325,-384 271,-384 271,-348 325,-348 325,-384\" stroke=\"black\"/>\n",
       "<text font-family=\"Times New Roman,serif\" font-size=\"14.00\" text-anchor=\"middle\" x=\"298\" y=\"-362.3\">x</text>\n",
       "</g>\n",
       "<!-- x&#45;&gt;dot -->\n",
       "<g class=\"edge\" id=\"edge2\"><title>x-&gt;dot</title>\n",
       "<path d=\"M293.811,-347.962C290.475,-337.38 284.863,-324.108 276,-315 265.153,-303.853 250.057,-295.841 236.327,-290.32\" fill=\"none\" stroke=\"black\"/>\n",
       "<polygon fill=\"black\" points=\"237.244,-286.927 226.651,-286.73 234.809,-293.49 237.244,-286.927\" stroke=\"black\"/>\n",
       "<text font-family=\"Times New Roman,serif\" font-size=\"14.00\" text-anchor=\"middle\" x=\"371\" y=\"-318.8\">1 TensorType(float32, vector)</text>\n",
       "</g>\n",
       "<!-- Elemwise{add,no_inplace} -->\n",
       "<g class=\"node\" id=\"node5\"><title>Elemwise{add,no_inplace}</title>\n",
       "<ellipse cx=\"114\" cy=\"-105\" fill=\"#ffaabb\" rx=\"109.381\" ry=\"18\" stroke=\"black\"/>\n",
       "<text font-family=\"Times New Roman,serif\" font-size=\"14.00\" text-anchor=\"middle\" x=\"114\" y=\"-101.3\">Elemwise{add,no_inplace}</text>\n",
       "</g>\n",
       "<!-- DimShuffle{x,0}&#45;&gt;Elemwise{add,no_inplace} -->\n",
       "<g class=\"edge\" id=\"edge4\"><title>DimShuffle{x,0}-&gt;Elemwise{add,no_inplace}</title>\n",
       "<path d=\"M197.514,-173.625C194.105,-163.176 188.523,-150.169 180,-141 175.083,-135.71 169.182,-131.065 162.958,-127.035\" fill=\"none\" stroke=\"black\"/>\n",
       "<polygon fill=\"black\" points=\"164.719,-124.01 154.332,-121.918 161.147,-130.03 164.719,-124.01\" stroke=\"black\"/>\n",
       "<text font-family=\"Times New Roman,serif\" font-size=\"14.00\" text-anchor=\"middle\" x=\"268.5\" y=\"-144.8\">0 TensorType(float32, row)</text>\n",
       "</g>\n",
       "<!-- TensorType(float32, matrix) -->\n",
       "<g class=\"node\" id=\"node7\"><title>TensorType(float32, matrix)</title>\n",
       "<polygon fill=\"blue\" points=\"201.5,-36 26.5,-36 26.5,-0 201.5,-0 201.5,-36\" stroke=\"black\"/>\n",
       "<text font-family=\"Times New Roman,serif\" font-size=\"14.00\" text-anchor=\"middle\" x=\"114\" y=\"-14.3\">TensorType(float32, matrix)</text>\n",
       "</g>\n",
       "<!-- Elemwise{add,no_inplace}&#45;&gt;TensorType(float32, matrix) -->\n",
       "<g class=\"edge\" id=\"edge6\"><title>Elemwise{add,no_inplace}-&gt;TensorType(float32, matrix)</title>\n",
       "<path d=\"M114,-86.799C114,-75.1626 114,-59.5479 114,-46.2368\" fill=\"none\" stroke=\"black\"/>\n",
       "<polygon fill=\"black\" points=\"117.5,-46.1754 114,-36.1754 110.5,-46.1755 117.5,-46.1754\" stroke=\"black\"/>\n",
       "<text font-family=\"Times New Roman,serif\" font-size=\"14.00\" text-anchor=\"middle\" x=\"193.5\" y=\"-57.8\">TensorType(float32, matrix)</text>\n",
       "</g>\n",
       "<!-- b -->\n",
       "<g class=\"node\" id=\"node6\"><title>b</title>\n",
       "<polygon fill=\"green\" points=\"54,-210 0,-210 0,-174 54,-174 54,-210\" stroke=\"black\"/>\n",
       "<text font-family=\"Times New Roman,serif\" font-size=\"14.00\" text-anchor=\"middle\" x=\"27\" y=\"-188.3\">b</text>\n",
       "</g>\n",
       "<!-- b&#45;&gt;Elemwise{add,no_inplace} -->\n",
       "<g class=\"edge\" id=\"edge5\"><title>b-&gt;Elemwise{add,no_inplace}</title>\n",
       "<path d=\"M22.9075,-173.819C21.4456,-163.443 21.5086,-150.445 28,-141 32.3312,-134.698 38.0102,-129.53 44.3889,-125.292\" fill=\"none\" stroke=\"black\"/>\n",
       "<polygon fill=\"black\" points=\"46.5396,-128.092 53.4597,-120.07 43.047,-122.026 46.5396,-128.092\" stroke=\"black\"/>\n",
       "<text font-family=\"Times New Roman,serif\" font-size=\"14.00\" text-anchor=\"middle\" x=\"104\" y=\"-144.8\">1 TensorType(float32, col)</text>\n",
       "</g>\n",
       "</g>\n",
       "</svg>"
      ],
      "text/plain": [
       "<IPython.core.display.SVG object>"
      ]
     },
     "execution_count": 81,
     "metadata": {},
     "output_type": "execute_result"
    }
   ],
   "source": [
    "from IPython.display import SVG\n",
    "SVG(theano.printing.pydotprint(out, return_image=True,\n",
    "                               compact = True, \n",
    "                               var_with_name_simple = True,\n",
    "                               format='svg'))"
   ]
  },
  {
   "cell_type": "code",
   "execution_count": null,
   "metadata": {
    "collapsed": true
   },
   "outputs": [],
   "source": []
  }
 ],
 "metadata": {
  "kernelspec": {
   "display_name": "Python 2",
   "language": "python",
   "name": "python2"
  },
  "language_info": {
   "codemirror_mode": {
    "name": "ipython",
    "version": 2
   },
   "file_extension": ".py",
   "mimetype": "text/x-python",
   "name": "python",
   "nbconvert_exporter": "python",
   "pygments_lexer": "ipython2",
   "version": "2.7.9"
  }
 },
 "nbformat": 4,
 "nbformat_minor": 0
}
