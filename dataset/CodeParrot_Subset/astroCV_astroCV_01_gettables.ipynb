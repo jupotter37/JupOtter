{
 "cells": [
  {
   "cell_type": "code",
   "execution_count": null,
   "metadata": {},
   "outputs": [],
   "source": [
    "#Download Galaxy zoo tables and SDSS spec objects and cross-match\n",
    "from astroquery.sdss import SDSS\n",
    "from astropy import coordinates as coords\n",
    "from astropy.io import fits\n",
    "import numpy as np\n",
    "from PIL import Image\n",
    "import matplotlib.patches as patches\n",
    "import matplotlib.pyplot as plt\n",
    "from astropy.table import Table,vstack,Column,unique\n",
    "import copy\n",
    "import os.path"
   ]
  },
  {
   "cell_type": "code",
   "execution_count": null,
   "metadata": {},
   "outputs": [],
   "source": [
    "xid = SDSS.query_sql('select count(*) from zooSPec')\n",
    "print('total galaxies =',xid.field('Column1')) #hay 667944 galaxias\n",
    "ngal=xid\n",
    "xid = SDSS.query_sql('select objid,p_el,p_cw,p_acw,p_edge,p_dk,p_mg,p_cs from zooSpec where p_el < 0.5 and objid>0')\n",
    "ngal1=len(xid)\n",
    "xid2 = SDSS.query_sql('select objid,p_el,p_cw,p_acw,p_edge,p_dk,p_mg,p_cs from zooSpec where p_el >= 0.5 and objid>0')\n",
    "ngal2=len(xid2)\n",
    "print('ngal1 ngal2 ntot',ngal1,ngal2,ngal1+ngal2)\n",
    "xid3=vstack([xid,xid2])\n",
    "xid3.write('zoospecnew.data',format='ascii')\n",
    "print('xid3 nrows=',len(xid3))"
   ]
  },
  {
   "cell_type": "code",
   "execution_count": null,
   "metadata": {},
   "outputs": [],
   "source": [
    "xid = Table.read('zoospecnew.data',format='ascii')\n",
    "xid.sort(['objid'])"
   ]
  },
  {
   "cell_type": "code",
   "execution_count": null,
   "metadata": {},
   "outputs": [],
   "source": [
    "ngal=len(xid)\n",
    "nbuf=300\n",
    "niter=int(ngal/nbuf)-1\n",
    "print('niter=%d tot=%d'%(niter,niter*nbuf))\n",
    "for i in range(niter):\n",
    "    objid=xid['objid'][i*nbuf:((i+1)*nbuf)]\n",
    "    p_el=xid['p_el'][i*nbuf:((i+1)*nbuf)]\n",
    "    p_cw=xid['p_cw'][i*nbuf:((i+1)*nbuf)]\n",
    "    p_acw=xid['p_acw'][i*nbuf:((i+1)*nbuf)]\n",
    "    p_edge=xid['p_edge'][i*nbuf:((i+1)*nbuf)]\n",
    "    p_dk=xid['p_dk'][i*nbuf:((i+1)*nbuf)]\n",
    "    p_mg=xid['p_mg'][i*nbuf:((i+1)*nbuf)]\n",
    "    p_cs=xid['p_cs'][i*nbuf:((i+1)*nbuf)]\n",
    "    #print(len(objid))\n",
    "    for k in range(nbuf):\n",
    "        if k==0:\n",
    "            stobj='''%s'''%objid[0]\n",
    "        if k>0:\n",
    "            stobj=stobj + ',''%s'''%objid[k]\n",
    "    xid2 = SDSS.query_sql('select objid,run,rerun,camcol,field,rowc,colc,petrorad_r,rowc_g,rowc_i,colc_g,colc_i from Galaxy where objid in (%s) order by objid asc'%(stobj))\n",
    "    nres=len(xid2)\n",
    "    \n",
    "    c1=Column(name='p_el',data=np.zeros(nres,dtype=np.float32))\n",
    "    c2=Column(name='p_cw',data=np.zeros(nres,dtype=np.float32))\n",
    "    c3=Column(name='p_acw',data=np.zeros(nres,dtype=np.float32))\n",
    "    c4=Column(name='p_edge',data=np.zeros(nres,dtype=np.float32))\n",
    "    c5=Column(name='p_dk',data=np.zeros(nres,dtype=np.float32))\n",
    "    c6=Column(name='p_mg',data=np.zeros(nres,dtype=np.float32))\n",
    "    c7=Column(name='p_cs',data=np.zeros(nres,dtype=np.float32))                \n",
    "    xid2.add_columns([c1,c2,c3,c4,c5,c6,c7])\n",
    "    \n",
    "    #if nres<nbuf:\n",
    "    #    print('no galactic elements i=%d nres=%d nbuf=%d\\n'%(i,nres,nbuf))\n",
    "\n",
    "    i1=0\n",
    "    i2=0\n",
    "    for k in range(nres):\n",
    "        objref=xid2['objid'][i2]\n",
    "        oid=objid[i1]\n",
    "        if (oid==objref):\n",
    "            xid2['p_el'][i2]=p_el[i1]\n",
    "            xid2['p_cw'][i2]=p_cw[i1]\n",
    "            xid2['p_acw'][i2]=p_acw[i1]\n",
    "            xid2['p_edge'][i2]=p_edge[i1]\n",
    "            xid2['p_dk'][i2]=p_dk[i1]\n",
    "            xid2['p_mg'][i2]=p_mg[i1]\n",
    "            xid2['p_cs'][i2]=p_cs[i1]\n",
    "            i1=i1+1\n",
    "            i2=i2+1\n",
    "        if (oid!=objref):\n",
    "            #print('prev line %d %d %d\\n'%(i2-1,objid[i1-1],xid2['objid'][i2-1]))\n",
    "            #print('No galaxy in i=%d id=%d p_el=%f'%(i2,objid[i1],p_el[i1]))\n",
    "            #print('next line %d %d\\n'%(i2+1,objid[i1+1]))\n",
    "            i1=i1+1\n",
    "    #print(xid2)\n",
    "            \n",
    "    if i==0:\n",
    "        xid3=copy.deepcopy(xid2)\n",
    "    if i>0:\n",
    "        xid4=vstack([xid3,xid2])\n",
    "        xid3=copy.deepcopy(xid4)\n",
    "    if i%50==0:\n",
    "        print('i=%d niter=%d len(xid3)=%d ngal=%d'%(i,niter,len(xid3),ngal))\n",
    "\n",
    "\n",
    "print(len(xid3))\n",
    "xid3.write('zoospecnewall.data',format='ascii',overwrite=True)"
   ]
  },
  {
   "cell_type": "code",
   "execution_count": null,
   "metadata": {},
   "outputs": [],
   "source": [
    "xid3.show_in_notebook()"
   ]
  },
  {
   "cell_type": "code",
   "execution_count": null,
   "metadata": {},
   "outputs": [],
   "source": [
    "#READ FULL CATALOG - CREATE IMAGE LIST TO DOWNLOAD\n",
    "xid = Table.read('zoospecnewall.data',format='ascii')\n",
    "ngal=len(xid)\n",
    "col=Column(name='imagename',data=[\"                  \" for x in range(ngal)])                \n",
    "xid.add_column(col)\n",
    "for i in range(ngal):\n",
    "    v1=xid['run'][i]\n",
    "    v2=xid['rerun'][i]\n",
    "    v3=xid['camcol'][i]\n",
    "    v4=xid['field'][i]\n",
    "    ss='%d_%d_%d_%d'%(v1,v2,v3,v4)\n",
    "    xid['imagename'][i] =ss\n",
    "\n",
    "xuniq=unique(xid,keys=['imagename'])\n",
    "nuniq=len(xuniq)\n",
    "print('uniq images =%d'%nuniq)\n",
    "xid.write('zoospecnewall2.data',format='ascii')\n",
    "xuniq.write('unique.data',format='ascii')"
   ]
  },
  {
   "cell_type": "code",
   "execution_count": null,
   "metadata": {},
   "outputs": [],
   "source": []
  }
 ],
 "metadata": {
  "kernelspec": {
   "display_name": "Python 2",
   "language": "python",
   "name": "python2"
  },
  "language_info": {
   "codemirror_mode": {
    "name": "ipython",
    "version": 2
   },
   "file_extension": ".py",
   "mimetype": "text/x-python",
   "name": "python",
   "nbconvert_exporter": "python",
   "pygments_lexer": "ipython2",
   "version": "2.7.12"
  }
 },
 "nbformat": 4,
 "nbformat_minor": 2
}
