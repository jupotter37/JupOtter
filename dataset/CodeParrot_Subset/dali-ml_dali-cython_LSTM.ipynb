{
 "cells": [
  {
   "cell_type": "code",
   "execution_count": 1,
   "metadata": {
    "collapsed": false
   },
   "outputs": [],
   "source": [
    "import sys\n",
    "sys.path.append('..')"
   ]
  },
  {
   "cell_type": "code",
   "execution_count": 2,
   "metadata": {
    "collapsed": false
   },
   "outputs": [],
   "source": [
    "from dali.core import LSTM, Mat, LSTMState, StackedLSTM\n",
    "\n",
    "import pickle\n",
    "import random\n",
    "import matplotlib.pyplot as plt\n",
    "%matplotlib inline"
   ]
  },
  {
   "cell_type": "code",
   "execution_count": 3,
   "metadata": {
    "collapsed": false
   },
   "outputs": [
    {
     "name": "stdout",
     "output_type": "stream",
     "text": [
      "float32\n",
      "[[ 1.  2.  3.]]\n",
      "[[ 4.  2.  1.]]\n"
     ]
    }
   ],
   "source": [
    "s = LSTMState(Mat([1,2,3]), Mat([4,2,1]))\n",
    "print(s.dtype)\n",
    "print(s.memory.w)\n",
    "print(s.hidden.w)"
   ]
  },
  {
   "cell_type": "code",
   "execution_count": 4,
   "metadata": {
    "collapsed": false
   },
   "outputs": [],
   "source": [
    "l = LSTM(2, 5)"
   ]
  },
  {
   "cell_type": "code",
   "execution_count": 5,
   "metadata": {
    "collapsed": false,
    "scrolled": true
   },
   "outputs": [
    {
     "name": "stdout",
     "output_type": "stream",
     "text": [
      "[\n",
      "    [  1.000   2.000]\n",
      "]\n",
      "\n",
      "[\n",
      "    [  0.000   0.000   0.000   0.000   0.000]\n",
      "]\n",
      "\n",
      "[\n",
      "    [  0.000   0.000   0.000   0.000   0.000]\n",
      "]\n",
      "\n",
      "[\n",
      "    [  0.150   0.075   0.142  -0.004  -0.001]\n",
      "]\n",
      "\n",
      "[\n",
      "    [  0.212   0.312   0.254  -0.008  -0.002]\n",
      "]\n",
      "\n"
     ]
    }
   ],
   "source": [
    "i = Mat([[1, 2]])\n",
    "h = l.initial_states()\n",
    "print(i.__repr__())\n",
    "print(h.hidden.__repr__())\n",
    "print(h.memory.__repr__())\n",
    "h = l.activate(i, h)\n",
    "print(h.hidden.__repr__())\n",
    "print(h.memory.__repr__())"
   ]
  },
  {
   "cell_type": "code",
   "execution_count": 8,
   "metadata": {
    "collapsed": false
   },
   "outputs": [
    {
     "name": "stdout",
     "output_type": "stream",
     "text": [
      "Activate sequence for 3 different inputs states and one hidden states\n",
      "[[ 0.31556997 -0.05376546 -0.0430177  -0.00521236 -0.29317772]\n",
      " [ 0.31556997 -0.05376546 -0.0430177  -0.00521236 -0.29317772]\n",
      " [ 0.31556997 -0.05376546 -0.0430177  -0.00521236 -0.29317772]]\n",
      "Activate sequence for 3 different hidden states and three different inputs\n",
      "[[ 0.31556997 -0.05376546 -0.0430177  -0.00521236 -0.29317772]\n",
      " [ 0.31556997 -0.05376546 -0.0430177  -0.00521236 -0.29317772]\n",
      " [ 0.31556997 -0.05376546 -0.0430177  -0.00521236 -0.29317772]]\n",
      "Activate sequence for 3 different hidden states and one input (!)\n",
      "[[ 0.31556997 -0.05376546 -0.0430177  -0.00521236 -0.29317772]\n",
      " [ 0.31556997 -0.05376546 -0.0430177  -0.00521236 -0.29317772]\n",
      " [ 0.31556997 -0.05376546 -0.0430177  -0.00521236 -0.29317772]]\n"
     ]
    }
   ],
   "source": [
    "print(\"Activate sequence for 3 different inputs states and one hidden states\")\n",
    "r1 = l.activate_sequence([Mat(3, 2) for i in range(10)], l.initial_states()).memory\n",
    "print(r1.w)\n",
    "print(\"Activate sequence for 3 different hidden states and three different inputs\")\n",
    "r2 = l.activate_sequence([Mat(3, 2) for i in range(10)], LSTMState(Mat(3,5), Mat(3,5))).memory\n",
    "print(r2.w)\n",
    "print(\"Activate sequence for 3 different hidden states and one input (!)\")\n",
    "r3 = l.activate_sequence([Mat(1, 2) for i in range(10)], LSTMState(Mat(3,5), Mat(3,5))).memory\n",
    "print(r3.w)"
   ]
  },
  {
   "cell_type": "code",
   "execution_count": 9,
   "metadata": {
    "collapsed": false
   },
   "outputs": [],
   "source": [
    "INPUTS = [2,3]\n",
    "HIDDEN_SIZE = 5\n",
    "NUM_CHILDREN = 3"
   ]
  },
  {
   "cell_type": "code",
   "execution_count": 10,
   "metadata": {
    "collapsed": true
   },
   "outputs": [],
   "source": [
    "l = LSTM(INPUTS, HIDDEN_SIZE, NUM_CHILDREN, memory_feeds_gates=True)"
   ]
  },
  {
   "cell_type": "code",
   "execution_count": 11,
   "metadata": {
    "collapsed": false
   },
   "outputs": [
    {
     "name": "stdout",
     "output_type": "stream",
     "text": [
      "<StackedInputLayer in=[2, 3, 5, 5, 5], out=5>\n",
      "[<StackedInputLayer in=[2, 3, 5, 5, 5], out=5>, <StackedInputLayer in=[2, 3, 5, 5, 5], out=5>, <StackedInputLayer in=[2, 3, 5, 5, 5], out=5>]\n",
      "5\n",
      "[2, 3]\n",
      "<StackedInputLayer in=[2, 3, 5, 5, 5], out=5>\n",
      "3\n",
      "True\n",
      "[[ 0.36870342 -0.03744119 -0.00326931  0.09401595 -0.29351875]]\n"
     ]
    }
   ],
   "source": [
    "idx = random.randint(0, len(l.parameters()) - 1)\n",
    "print(l.cell_layer)\n",
    "print(l.forget_layers)\n",
    "print(l.hidden_size)\n",
    "print(l.input_sizes)\n",
    "print(l.input_layer)\n",
    "print(l.num_children)\n",
    "print(l.memory_feeds_gates)\n",
    "print(l.parameters()[3].w)\n",
    "with open(\"/tmp/lstm_test_dali.dali\", \"wb\") as f:\n",
    "    pickle.dump(l,f)"
   ]
  },
  {
   "cell_type": "code",
   "execution_count": 4,
   "metadata": {
    "collapsed": false
   },
   "outputs": [
    {
     "ename": "ImportError",
     "evalue": "No module named 'test_dali'",
     "output_type": "error",
     "traceback": [
      "\u001b[1;31m---------------------------------------------------------------------------\u001b[0m",
      "\u001b[1;31mImportError\u001b[0m                               Traceback (most recent call last)",
      "\u001b[1;32m<ipython-input-4-780854079d07>\u001b[0m in \u001b[0;36m<module>\u001b[1;34m()\u001b[0m\n\u001b[0;32m      1\u001b[0m \u001b[1;32mimport\u001b[0m \u001b[0mpickle\u001b[0m\u001b[1;33m\u001b[0m\u001b[0m\n\u001b[1;32m----> 2\u001b[1;33m \u001b[1;32mfrom\u001b[0m \u001b[0mtest_dali\u001b[0m \u001b[1;32mimport\u001b[0m \u001b[0mLSTM\u001b[0m\u001b[1;33m,\u001b[0m \u001b[0mMat\u001b[0m\u001b[1;33m\u001b[0m\u001b[0m\n\u001b[0m\u001b[0;32m      3\u001b[0m \u001b[1;33m\u001b[0m\u001b[0m\n\u001b[0;32m      4\u001b[0m \u001b[1;33m\u001b[0m\u001b[0m\n\u001b[0;32m      5\u001b[0m \u001b[1;32mwith\u001b[0m \u001b[0mopen\u001b[0m\u001b[1;33m(\u001b[0m\u001b[1;34m\"/tmp/lstm_test_dali.dali\"\u001b[0m\u001b[1;33m,\u001b[0m \u001b[1;34m\"rb\"\u001b[0m\u001b[1;33m)\u001b[0m \u001b[1;32mas\u001b[0m \u001b[0mf\u001b[0m\u001b[1;33m:\u001b[0m\u001b[1;33m\u001b[0m\u001b[0m\n",
      "\u001b[1;31mImportError\u001b[0m: No module named 'test_dali'"
     ]
    }
   ],
   "source": [
    "import pickle\n",
    "from test_dali import LSTM, Mat\n",
    "\n",
    "\n",
    "with open(\"/tmp/lstm_test_dali.dali\", \"rb\") as f:\n",
    "    l_pickled = pickle.load(f)\n",
    "print(\"==== PICKLED ====\")\n",
    "print(l_pickled.cell_layer)\n",
    "print(l_pickled.forget_layers)\n",
    "print(l_pickled.hidden_size)\n",
    "print(l_pickled.input_sizes)\n",
    "print(l_pickled.input_layer)\n",
    "print(l_pickled.num_children)\n",
    "print(l_pickled.memory_feeds_gates)\n",
    "print(l_pickled.parameters()[3].w)"
   ]
  },
  {
   "cell_type": "code",
   "execution_count": 13,
   "metadata": {
    "collapsed": false
   },
   "outputs": [
    {
     "name": "stdout",
     "output_type": "stream",
     "text": [
      "[\n",
      "    [  0.028  -0.025  -0.020  -0.008  -0.049]\n",
      "]\n",
      "\n",
      "[\n",
      "    [  0.060  -0.047  -0.039  -0.014  -0.102]\n",
      "]\n",
      "\n"
     ]
    }
   ],
   "source": [
    "hs = [l_pickled.initial_states() for _ in range(l_pickled.num_children)]\n",
    "i = [Mat(1, ipt) for ipt in l_pickled.input_sizes]\n",
    "\n",
    "h_combined = l_pickled.activate(i, hs)\n",
    "print(h_combined.hidden.__repr__())\n",
    "print(h_combined.memory.__repr__())"
   ]
  },
  {
   "cell_type": "code",
   "execution_count": 7,
   "metadata": {
    "collapsed": false
   },
   "outputs": [
    {
     "ename": "NameError",
     "evalue": "name 'l' is not defined",
     "output_type": "error",
     "traceback": [
      "\u001b[1;31m---------------------------------------------------------------------------\u001b[0m",
      "\u001b[1;31mNameError\u001b[0m                                 Traceback (most recent call last)",
      "\u001b[1;32m<ipython-input-7-90842db0b0b3>\u001b[0m in \u001b[0;36m<module>\u001b[1;34m()\u001b[0m\n\u001b[1;32m----> 1\u001b[1;33m \u001b[0ml\u001b[0m\u001b[1;33m.\u001b[0m\u001b[0mWcells_to_forgets\u001b[0m\u001b[1;33m[\u001b[0m\u001b[1;36m0\u001b[0m\u001b[1;33m]\u001b[0m\u001b[1;33m\u001b[0m\u001b[0m\n\u001b[0m",
      "\u001b[1;31mNameError\u001b[0m: name 'l' is not defined"
     ]
    }
   ],
   "source": [
    "l.Wcells_to_forgets[0]"
   ]
  },
  {
   "cell_type": "code",
   "execution_count": 8,
   "metadata": {
    "collapsed": false
   },
   "outputs": [],
   "source": [
    "l = StackedLSTM([1,2], [5,4], shortcut=True)"
   ]
  },
  {
   "cell_type": "code",
   "execution_count": 9,
   "metadata": {
    "collapsed": false
   },
   "outputs": [
    {
     "data": {
      "text/plain": [
       "[<dali.core.LSTMState at 0x7f564c946f80>,\n",
       " <dali.core.LSTMState at 0x7f564c946da0>]"
      ]
     },
     "execution_count": 9,
     "metadata": {},
     "output_type": "execute_result"
    }
   ],
   "source": [
    "l.activate(\n",
    "    [\n",
    "        Mat(5,1),\n",
    "        Mat(5,2),\n",
    "    ], l.initial_states()\n",
    ")"
   ]
  },
  {
   "cell_type": "code",
   "execution_count": 10,
   "metadata": {
    "collapsed": false
   },
   "outputs": [
    {
     "name": "stdout",
     "output_type": "stream",
     "text": [
      "<StackedInputLayer in=[1, 2, 5], out=5>\n",
      "[<StackedInputLayer in=[1, 2, 5], out=5>]\n",
      "5\n",
      "[1, 2]\n",
      "<StackedInputLayer in=[1, 2, 5], out=5>\n",
      "1\n",
      "False\n",
      "[[-0.16443005  0.22159122  0.24860647  0.32551721  0.01914411]\n",
      " [ 0.19727443  0.26258233  0.17914623 -0.17491819  0.1341583 ]]\n",
      "True\n"
     ]
    }
   ],
   "source": [
    "print(l.cells[0].cell_layer)\n",
    "print(l.cells[0].forget_layers)\n",
    "print(l.cells[0].hidden_size)\n",
    "print(l.cells[0].input_sizes)\n",
    "print(l.cells[0].input_layer)\n",
    "print(l.cells[0].num_children)\n",
    "print(l.cells[0].memory_feeds_gates)\n",
    "print(l.cells[0].parameters()[5].w)\n",
    "print(l.shortcut)\n",
    "with open(\"/tmp/stacked_lstm_test_lol.dali\", \"wb\") as f:\n",
    "    pickle.dump(l,f)"
   ]
  },
  {
   "cell_type": "code",
   "execution_count": 12,
   "metadata": {
    "collapsed": false
   },
   "outputs": [
    {
     "name": "stdout",
     "output_type": "stream",
     "text": [
      "==== PICKLED ====\n",
      "<StackedInputLayer in=[1, 2, 5], out=5>\n",
      "[<StackedInputLayer in=[1, 2, 5], out=5>]\n",
      "5\n",
      "[1, 2]\n",
      "<StackedInputLayer in=[1, 2, 5], out=5>\n",
      "1\n",
      "False\n",
      "[[-0.16443005  0.22159122  0.24860647  0.32551721  0.01914411]\n",
      " [ 0.19727443  0.26258233  0.17914623 -0.17491819  0.1341583 ]]\n",
      "True\n"
     ]
    }
   ],
   "source": [
    "import pickle\n",
    "from dali.core import StackedLSTM, Mat\n",
    "\n",
    "with open(\"/tmp/stacked_lstm_test_lol.dali\", \"rb\") as f:\n",
    "    l_pickled = pickle.load(f)\n",
    "print(\"==== PICKLED ====\")\n",
    "\n",
    "print(l_pickled.cells[0].cell_layer)\n",
    "print(l_pickled.cells[0].forget_layers)\n",
    "print(l_pickled.cells[0].hidden_size)\n",
    "print(l_pickled.cells[0].input_sizes)\n",
    "print(l_pickled.cells[0].input_layer)\n",
    "print(l_pickled.cells[0].num_children)\n",
    "print(l_pickled.cells[0].memory_feeds_gates)\n",
    "print(l_pickled.cells[0].parameters()[5].w)\n",
    "print(l.shortcut)"
   ]
  },
  {
   "cell_type": "code",
   "execution_count": 10,
   "metadata": {
    "collapsed": false
   },
   "outputs": [
    {
     "ename": "NameError",
     "evalue": "name 'l_pickled' is not defined",
     "output_type": "error",
     "traceback": [
      "\u001b[1;31m---------------------------------------------------------------------------\u001b[0m",
      "\u001b[1;31mNameError\u001b[0m                                 Traceback (most recent call last)",
      "\u001b[1;32m<ipython-input-10-f70ba0ce9ad1>\u001b[0m in \u001b[0;36m<module>\u001b[1;34m()\u001b[0m\n\u001b[1;32m----> 1\u001b[1;33m \u001b[0ml_pickled\u001b[0m\u001b[1;33m.\u001b[0m\u001b[0minitial_states\u001b[0m\u001b[1;33m(\u001b[0m\u001b[1;33m)\u001b[0m\u001b[1;33m\u001b[0m\u001b[0m\n\u001b[0m",
      "\u001b[1;31mNameError\u001b[0m: name 'l_pickled' is not defined"
     ]
    }
   ],
   "source": [
    "l_pickled.initial_states()"
   ]
  },
  {
   "cell_type": "code",
   "execution_count": 21,
   "metadata": {
    "collapsed": false
   },
   "outputs": [
    {
     "data": {
      "text/plain": [
       "[<LSTM inputs=[1, 2], hidden_size=5>, <LSTM inputs=[5], hidden_size=4>]"
      ]
     },
     "execution_count": 21,
     "metadata": {},
     "output_type": "execute_result"
    }
   ],
   "source": [
    "l_pickled.cells"
   ]
  },
  {
   "cell_type": "code",
   "execution_count": 5,
   "metadata": {
    "collapsed": false
   },
   "outputs": [
    {
     "data": {
      "text/plain": [
       "[<test_dali.LSTMState at 0x7f72e743a968>,\n",
       " <test_dali.LSTMState at 0x7f72e743ad00>]"
      ]
     },
     "execution_count": 5,
     "metadata": {},
     "output_type": "execute_result"
    }
   ],
   "source": [
    "l_pickled.activate([\n",
    "    Mat([[1]]),\n",
    "    Mat([[1, 2]])\n",
    "], l_pickled.initial_states())"
   ]
  },
  {
   "cell_type": "code",
   "execution_count": 4,
   "metadata": {
    "collapsed": false
   },
   "outputs": [
    {
     "ename": "RuntimeError",
     "evalue": "Activating LSTM stack of size 2 with different number of states 0",
     "output_type": "error",
     "traceback": [
      "\u001b[1;31m---------------------------------------------------------------------------\u001b[0m",
      "\u001b[1;31mRuntimeError\u001b[0m                              Traceback (most recent call last)",
      "\u001b[1;32m<ipython-input-4-e0b9f00b5030>\u001b[0m in \u001b[0;36m<module>\u001b[1;34m()\u001b[0m\n\u001b[0;32m      2\u001b[0m     \u001b[0mMat\u001b[0m\u001b[1;33m(\u001b[0m\u001b[1;33m[\u001b[0m\u001b[1;33m[\u001b[0m\u001b[1;36m1\u001b[0m\u001b[1;33m]\u001b[0m\u001b[1;33m]\u001b[0m\u001b[1;33m)\u001b[0m\u001b[1;33m,\u001b[0m\u001b[1;33m\u001b[0m\u001b[0m\n\u001b[0;32m      3\u001b[0m     \u001b[0mMat\u001b[0m\u001b[1;33m(\u001b[0m\u001b[1;33m[\u001b[0m\u001b[1;33m[\u001b[0m\u001b[1;36m1\u001b[0m\u001b[1;33m,\u001b[0m \u001b[1;36m2\u001b[0m\u001b[1;33m]\u001b[0m\u001b[1;33m]\u001b[0m\u001b[1;33m)\u001b[0m\u001b[1;33m\u001b[0m\u001b[0m\n\u001b[1;32m----> 4\u001b[1;33m ], [])\n\u001b[0m",
      "\u001b[1;32m/home/sidor/projects/less_important/dali-cython-stub/dali/layers/LSTM.pyx\u001b[0m in \u001b[0;36mtest_dali.StackedLSTM.activate (test_dali.cpp:68105)\u001b[1;34m()\u001b[0m\n\u001b[0;32m    808\u001b[0m                 \u001b[0minputs_vector_float\u001b[0m \u001b[1;33m=\u001b[0m \u001b[0mmats_to_vec_float\u001b[0m\u001b[1;33m(\u001b[0m\u001b[0minputs\u001b[0m\u001b[1;33m)\u001b[0m\u001b[1;33m\u001b[0m\u001b[0m\n\u001b[0;32m    809\u001b[0m                 return WrapLSTMStates_float(\n\u001b[1;32m--> 810\u001b[1;33m                     \u001b[1;33m(\u001b[0m\u001b[1;33m<\u001b[0m\u001b[0mCStackedLSTM\u001b[0m\u001b[1;33m[\u001b[0m\u001b[0mfloat\u001b[0m\u001b[1;33m]\u001b[0m\u001b[1;33m*\u001b[0m\u001b[1;33m>\u001b[0m\u001b[1;33m(\u001b[0m\u001b[1;33m(\u001b[0m\u001b[1;33m<\u001b[0m\u001b[0mStackedLSTM\u001b[0m\u001b[1;33m>\u001b[0m\u001b[1;33m(\u001b[0m\u001b[0mself\u001b[0m\u001b[1;33m)\u001b[0m\u001b[1;33m)\u001b[0m\u001b[1;33m.\u001b[0m\u001b[0mlayerinternal\u001b[0m\u001b[1;33m)\u001b[0m\u001b[1;33m)\u001b[0m\u001b[1;33m[\u001b[0m\u001b[1;36m0\u001b[0m\u001b[1;33m]\u001b[0m\u001b[1;33m.\u001b[0m\u001b[0mactivate\u001b[0m\u001b[1;33m(\u001b[0m\u001b[0mhiddens_vector_float\u001b[0m\u001b[1;33m,\u001b[0m \u001b[0minputs_vector_float\u001b[0m\u001b[1;33m,\u001b[0m \u001b[1;33m<\u001b[0m\u001b[0mfloat\u001b[0m\u001b[1;33m>\u001b[0m \u001b[0mdrop_prob\u001b[0m\u001b[1;33m)\u001b[0m\u001b[1;33m\u001b[0m\u001b[0m\n\u001b[0m\u001b[0;32m    811\u001b[0m                 )\n\u001b[0;32m    812\u001b[0m             \u001b[1;32melif\u001b[0m \u001b[0mtype\u001b[0m\u001b[1;33m(\u001b[0m\u001b[0minputs\u001b[0m\u001b[1;33m)\u001b[0m \u001b[1;33m==\u001b[0m \u001b[0mMat\u001b[0m\u001b[1;33m:\u001b[0m\u001b[1;33m\u001b[0m\u001b[0m\n",
      "\u001b[1;31mRuntimeError\u001b[0m: Activating LSTM stack of size 2 with different number of states 0"
     ]
    }
   ],
   "source": [
    "l_pickled.activate([\n",
    "    Mat([[1]]),\n",
    "    Mat([[1, 2]])\n",
    "], [])"
   ]
  },
  {
   "cell_type": "code",
   "execution_count": 23,
   "metadata": {
    "collapsed": false
   },
   "outputs": [],
   "source": [
    "h1 = l_pickled.cells[0].activate(\n",
    "    [Mat([[1]]),\n",
    "    Mat([[1, 2]])],\n",
    "    l_pickled.cells[0].initial_states()\n",
    ")\n",
    "h2 = l_pickled.cells[1].activate(\n",
    "    h1.hidden,\n",
    "    l_pickled.cells[1].initial_states()\n",
    ")"
   ]
  },
  {
   "cell_type": "code",
   "execution_count": 24,
   "metadata": {
    "collapsed": false
   },
   "outputs": [
    {
     "data": {
      "text/plain": [
       "[\n",
       "    [ -0.007  -0.068  -0.095   0.145  -0.057]\n",
       "]"
      ]
     },
     "execution_count": 24,
     "metadata": {},
     "output_type": "execute_result"
    }
   ],
   "source": [
    "h1.hidden"
   ]
  },
  {
   "cell_type": "code",
   "execution_count": null,
   "metadata": {
    "collapsed": false
   },
   "outputs": [],
   "source": [
    "new_state = l_pickled.activate([\n",
    "    Mat([[1]]),\n",
    "    Mat([[1, 2]])\n",
    "],\n",
    "l_pickled.initial_states(),\n",
    "0.5\n",
    ")\n",
    "new_state[0].memory"
   ]
  },
  {
   "cell_type": "code",
   "execution_count": 13,
   "metadata": {
    "collapsed": false
   },
   "outputs": [
    {
     "data": {
      "text/plain": [
       "<matplotlib.image.AxesImage at 0x7f4b6440f748>"
      ]
     },
     "execution_count": 13,
     "metadata": {},
     "output_type": "execute_result"
    },
    {
     "data": {
      "image/png": "[encoded data removed]",
      "text/plain": [
       "<matplotlib.figure.Figure at 0x7f4b6651c1d0>"
      ]
     },
     "metadata": {},
     "output_type": "display_data"
    }
   ],
   "source": [
    "plt.matshow(l_pickled.cells[0].forget_layers[0].matrices[0].w)"
   ]
  },
  {
   "cell_type": "code",
   "execution_count": 33,
   "metadata": {
    "collapsed": true
   },
   "outputs": [],
   "source": [
    "?l.activate_sequence"
   ]
  },
  {
   "cell_type": "code",
   "execution_count": null,
   "metadata": {
    "collapsed": true
   },
   "outputs": [],
   "source": []
  }
 ],
 "metadata": {
  "kernelspec": {
   "display_name": "Python 3",
   "language": "python",
   "name": "python3"
  },
  "language_info": {
   "codemirror_mode": {
    "name": "ipython",
    "version": 3
   },
   "file_extension": ".py",
   "mimetype": "text/x-python",
   "name": "python",
   "nbconvert_exporter": "python",
   "pygments_lexer": "ipython3",
   "version": "3.4.1"
  }
 },
 "nbformat": 4,
 "nbformat_minor": 0
}
