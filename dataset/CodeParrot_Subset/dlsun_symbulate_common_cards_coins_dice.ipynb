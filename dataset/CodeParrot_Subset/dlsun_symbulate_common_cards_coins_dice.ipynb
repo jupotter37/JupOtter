{
 "cells": [
  {
   "cell_type": "markdown",
   "metadata": {},
   "source": [
    "# Symbulate Documentation\n",
    "\n",
    "# Cards, coins, and dice"
   ]
  },
  {
   "cell_type": "markdown",
   "metadata": {},
   "source": [
    "Many probabilistic situations involving physical objects like cards, coins, and dice can be specified with [BoxModel](probspace.html#boxmodel)."
   ]
  },
  {
   "cell_type": "markdown",
   "metadata": {},
   "source": [
    "< [Common probability models](common.html) | [Contents](index.html) | [Common discrete distributions](common_discrete.html) >"
   ]
  },
  {
   "cell_type": "markdown",
   "metadata": {},
   "source": [
    "Be sure to import Symbulate using the following commands."
   ]
  },
  {
   "cell_type": "code",
   "execution_count": 1,
   "metadata": {},
   "outputs": [],
   "source": [
    "from symbulate import *\n",
    "%matplotlib inline"
   ]
  },
  {
   "cell_type": "markdown",
   "metadata": {},
   "source": [
    "*Example*.  Rolling a fair n-sided die (with n=6)."
   ]
  },
  {
   "cell_type": "code",
   "execution_count": 2,
   "metadata": {},
   "outputs": [
    {
     "data": {
      "image/png": "[encoded data removed]",
      "text/plain": [
       "<matplotlib.figure.Figure at 0x514a6d8>"
      ]
     },
     "metadata": {},
     "output_type": "display_data"
    }
   ],
   "source": [
    "n = 6\n",
    "die = list(range(1, n+1))\n",
    "P = BoxModel(die)\n",
    "RV(P).sim(10000).plot()"
   ]
  },
  {
   "cell_type": "markdown",
   "metadata": {},
   "source": [
    "*Example.* Flipping a fair coin twice and recording the results in sequence."
   ]
  },
  {
   "cell_type": "code",
   "execution_count": 3,
   "metadata": {},
   "outputs": [
    {
     "data": {
      "text/html": [
       "\n",
       "    <table>\n",
       "      <thead>\n",
       "        <th width=\"80%\">Outcome</th>\n",
       "        <th width=\"20%\">Value</th>\n",
       "      </thead>\n",
       "      <tbody>\n",
       "        <tr><td>('H', 'H')</td><td>0.2518</td></tr><tr><td>('H', 'T')</td><td>0.2457</td></tr><tr><td>('T', 'H')</td><td>0.2503</td></tr><tr><td>('T', 'T')</td><td>0.2522</td></tr><tr><td><b>Total</b></td><td><b>1.0</b></td></tr>\n",
       "      </tbody>\n",
       "    </table>\n",
       "    "
      ],
      "text/plain": [
       "{('H', 'H'): 0.2518,\n",
       " ('H', 'T'): 0.2457,\n",
       " ('T', 'H'): 0.2503,\n",
       " ('T', 'T'): 0.2522}"
      ]
     },
     "execution_count": 3,
     "metadata": {},
     "output_type": "execute_result"
    }
   ],
   "source": [
    "P = BoxModel(['H', 'T'], size=2, order_matters=True)\n",
    "P.sim(10000).tabulate(normalize=True)"
   ]
  },
  {
   "cell_type": "markdown",
   "metadata": {},
   "source": [
    "*Example.* Unequally likely outcomes on a colored \"spinner\"."
   ]
  },
  {
   "cell_type": "code",
   "execution_count": 4,
   "metadata": {},
   "outputs": [
    {
     "data": {
      "text/html": [
       "\n",
       "    <table>\n",
       "      <thead>\n",
       "        <th width=\"80%\">Outcome</th>\n",
       "        <th width=\"20%\">Value</th>\n",
       "      </thead>\n",
       "      <tbody>\n",
       "        <tr><td>brown</td><td>0.2458</td></tr><tr><td>orange</td><td>0.5065</td></tr><tr><td>yellow</td><td>0.2477</td></tr><tr><td><b>Total</b></td><td><b>1.0</b></td></tr>\n",
       "      </tbody>\n",
       "    </table>\n",
       "    "
      ],
      "text/plain": [
       "{'brown': 0.2458, 'orange': 0.5065, 'yellow': 0.2477}"
      ]
     },
     "execution_count": 4,
     "metadata": {},
     "output_type": "execute_result"
    }
   ],
   "source": [
    "P = BoxModel(['orange', 'brown', 'yellow'], probs=[0.5, 0.25, 0.25])\n",
    "P.sim(10000).tabulate(normalize = True)"
   ]
  },
  {
   "cell_type": "markdown",
   "metadata": {},
   "source": [
    "`DeckOfCards()` is a special case of BoxModel for drawing from a standard deck of 52 cards.  By default `replace=False`.\n",
    "\n",
    "*Example.* Simulated hands of 5 cards each."
   ]
  },
  {
   "cell_type": "code",
   "execution_count": 5,
   "metadata": {
    "scrolled": true
   },
   "outputs": [
    {
     "data": {
      "text/html": [
       "\n",
       "    <table>\n",
       "      <thead>\n",
       "        <th width=\"10%\">Index</th>\n",
       "        <th width=\"90%\">Result</th>\n",
       "      </thead>\n",
       "      <tbody>\n",
       "        \n",
       "        <tr>\n",
       "          <td>0</td><td>((2, 'Clubs'), (4, 'Clubs'), ('A', 'Diamonds'), ('Q', 'Spades'), (3, 'Hearts'))</td>\n",
       "        </tr>\n",
       "        \n",
       "        <tr>\n",
       "          <td>1</td><td>((7, 'Hearts'), ('J', 'Spades'), (5, 'Hearts'), ('A', 'Diamonds'), (5, 'Spades'))</td>\n",
       "        </tr>\n",
       "        \n",
       "        <tr>\n",
       "          <td>2</td><td>((2, 'Clubs'), ('Q', 'Spades'), ('A', 'Diamonds'), ('K', 'Spades'), (2, 'Hearts'))</td>\n",
       "        </tr>\n",
       "        \n",
       "      </tbody>\n",
       "    </table>\n",
       "    "
      ],
      "text/plain": [
       "[((2, 'Clubs'),\n",
       "  (4, 'Clubs'),\n",
       "  ('A', 'Diamonds'),\n",
       "  ('Q', 'Spades'),\n",
       "  (3, 'Hearts')),\n",
       " ((7, 'Hearts'),\n",
       "  ('J', 'Spades'),\n",
       "  (5, 'Hearts'),\n",
       "  ('A', 'Diamonds'),\n",
       "  (5, 'Spades')),\n",
       " ((2, 'Clubs'),\n",
       "  ('Q', 'Spades'),\n",
       "  ('A', 'Diamonds'),\n",
       "  ('K', 'Spades'),\n",
       "  (2, 'Hearts'))]"
      ]
     },
     "execution_count": 5,
     "metadata": {},
     "output_type": "execute_result"
    }
   ],
   "source": [
    "DeckOfCards(size=5).sim(3)"
   ]
  },
  {
   "cell_type": "markdown",
   "metadata": {},
   "source": [
    "< [Common probability models](common.html) | [Contents](index.html) | [Common discrete distributions](common_discrete.html) >"
   ]
  },
  {
   "cell_type": "code",
   "execution_count": null,
   "metadata": {
    "collapsed": true
   },
   "outputs": [],
   "source": []
  }
 ],
 "metadata": {
  "kernelspec": {
   "display_name": "Python 3",
   "language": "python",
   "name": "python3"
  },
  "language_info": {
   "codemirror_mode": {
    "name": "ipython",
    "version": 3
   },
   "file_extension": ".py",
   "mimetype": "text/x-python",
   "name": "python",
   "nbconvert_exporter": "python",
   "pygments_lexer": "ipython3",
   "version": "3.6.1"
  }
 },
 "nbformat": 4,
 "nbformat_minor": 2
}
