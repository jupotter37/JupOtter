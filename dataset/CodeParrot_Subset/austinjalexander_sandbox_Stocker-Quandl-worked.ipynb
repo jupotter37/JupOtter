{
 "cells": [
  {
   "cell_type": "code",
   "execution_count": 1,
   "metadata": {
    "collapsed": false
   },
   "outputs": [],
   "source": [
    "import requests\n",
    "import csv\n",
    "import re\n",
    "import numpy as np\n",
    "import pandas as pd\n",
    "from scipy import stats\n",
    "import datetime\n",
    "from time import time\n",
    "import Quandl\n",
    "from matplotlib import pyplot as plt\n",
    "from mpl_toolkits.mplot3d import Axes3D\n",
    "import seaborn as sns\n",
    "%matplotlib inline\n",
    "\n",
    "import tickers\n",
    "\n",
    "from sklearn.cross_validation import train_test_split\n",
    "from sklearn.cross_validation import StratifiedShuffleSplit\n",
    "from sklearn.metrics import accuracy_score\n",
    "\n",
    "from sklearn.pipeline import make_pipeline\n",
    "\n",
    "from sklearn.preprocessing import MinMaxScaler\n",
    "from sklearn.preprocessing import StandardScaler\n",
    "\n",
    "from sklearn.feature_selection import SelectKBest\n",
    "from sklearn.decomposition import RandomizedPCA \n",
    "\n",
    "from sklearn.preprocessing import PolynomialFeatures\n",
    " \n",
    "from sklearn.naive_bayes import GaussianNB\n",
    "from sklearn.tree import DecisionTreeClassifier\n",
    "from sklearn.ensemble import RandomForestClassifier \n",
    "from sklearn.svm import SVC\n",
    "from sklearn.linear_model import LogisticRegression\n",
    "\n",
    "from sklearn.linear_model import LinearRegression\n",
    "from sklearn.linear_model import Ridge\n",
    "from sklearn.linear_model import Lasso\n",
    "from sklearn.linear_model import BayesianRidge\n",
    "from sklearn.linear_model import SGDRegressor \n",
    "from sklearn.svm import SVR\n",
    "from sklearn.tree import DecisionTreeRegressor \n",
    "from sklearn.ensemble import GradientBoostingRegressor\n",
    "\n",
    "from sklearn.grid_search import GridSearchCV\n",
    "\n",
    "from sklearn.metrics import precision_score\n",
    "from sklearn.metrics import recall_score\n",
    "from sklearn.metrics import classification_report\n",
    "from sklearn.metrics import confusion_matrix"
   ]
  },
  {
   "cell_type": "markdown",
   "metadata": {},
   "source": [
    "---"
   ]
  },
  {
   "cell_type": "code",
   "execution_count": 2,
   "metadata": {
    "collapsed": false
   },
   "outputs": [
    {
     "name": "stdout",
     "output_type": "stream",
     "text": [
      "32 tickers\n"
     ]
    }
   ],
   "source": [
    "download = False\n",
    "\n",
    "print len(tickers.tickers), \"tickers\"\n",
    "\n",
    "if download == True:\n",
    "    # download data\n",
    "    for ticker in tickers.tickers:\n",
    "        stock_df = Quandl.get(\"YAHOO/{}\".format(ticker), authtoken='DVhizWXNTePyzzy1eHWR')\n",
    "        stock_df.to_csv(\"quandl_data/{}.csv\".format(ticker), index=False)"
   ]
  },
  {
   "cell_type": "markdown",
   "metadata": {},
   "source": [
    "---"
   ]
  },
  {
   "cell_type": "code",
   "execution_count": 3,
   "metadata": {
    "collapsed": true
   },
   "outputs": [],
   "source": [
    "def modify_columns(ticker, normalize):\n",
    "    df = pd.read_csv(\"quandl_data/{}.csv\".format(ticker))\n",
    "    df = df.drop('Adjusted Close', axis=1)\n",
    "    \n",
    "    df['50dravg'] = pd.rolling_mean(df['Close'], window=50)\n",
    "    df['200dravg'] = pd.rolling_mean(df['Close'], window=200)\n",
    "\n",
    "    if normalize == True:\n",
    "        temp_df = df['Volume']\n",
    "        df = df.drop('Volume', axis=1)\n",
    "        df = df.std(axis=1, ddof=0)\n",
    "        \n",
    "        df['mean'] = df.mean(axis=1)\n",
    "        df['std'] = std_df\n",
    "\n",
    "        df['Open'] = (df['Open'] - df['mean']) / df['std']\n",
    "        df['High'] = (df['High'] - df['mean']) / df['std']\n",
    "        df['Low'] = (df['Low'] - df['mean']) / df['std']\n",
    "        df['Close'] = (df['Close'] - df['mean']) / df['std']\n",
    "        \n",
    "        df['50dravg'] = (df['50dravg'] - df['mean']) / df['std']\n",
    "        df['200dravg'] = (df['200dravg'] - df['mean']) / df['std']\n",
    "\n",
    "        df = df.drop(['mean', 'std'], axis=1)\n",
    "\n",
    "        df['Volume'] = temp_df\n",
    "\n",
    "    df['OC%'] = (df['Close'] / df['Open']) - 1\n",
    "    df['HL%'] = (df['High'] / df['Low']) - 1\n",
    "\n",
    "    df['label'] = df['OC%'].shift(-1)\n",
    "    \n",
    "    return df #df.loc[1000:]"
   ]
  },
  {
   "cell_type": "markdown",
   "metadata": {},
   "source": [
    "---"
   ]
  },
  {
   "cell_type": "code",
   "execution_count": 4,
   "metadata": {
    "collapsed": false
   },
   "outputs": [
    {
     "name": "stdout",
     "output_type": "stream",
     "text": [
      "(104714, 10)\n"
     ]
    },
    {
     "data": {
      "text/html": [
       "<div style=\"max-height:1000px;max-width:1500px;overflow:auto;\">\n",
       "<table border=\"1\" class=\"dataframe\">\n",
       "  <thead>\n",
       "    <tr style=\"text-align: right;\">\n",
       "      <th></th>\n",
       "      <th>Open</th>\n",
       "      <th>High</th>\n",
       "      <th>Low</th>\n",
       "      <th>Close</th>\n",
       "      <th>Volume</th>\n",
       "      <th>50dravg</th>\n",
       "      <th>200dravg</th>\n",
       "      <th>OC%</th>\n",
       "      <th>HL%</th>\n",
       "      <th>label</th>\n",
       "    </tr>\n",
       "  </thead>\n",
       "  <tbody>\n",
       "    <tr>\n",
       "      <th>813</th>\n",
       "      <td>8.23</td>\n",
       "      <td>8.48</td>\n",
       "      <td>8.10</td>\n",
       "      <td>8.13</td>\n",
       "      <td>207100</td>\n",
       "      <td>8.5674</td>\n",
       "      <td>7.01590</td>\n",
       "      <td>-0.012151</td>\n",
       "      <td>0.046914</td>\n",
       "      <td>0</td>\n",
       "    </tr>\n",
       "    <tr>\n",
       "      <th>814</th>\n",
       "      <td>8.13</td>\n",
       "      <td>8.26</td>\n",
       "      <td>7.77</td>\n",
       "      <td>7.81</td>\n",
       "      <td>294600</td>\n",
       "      <td>8.5800</td>\n",
       "      <td>7.02790</td>\n",
       "      <td>-0.039360</td>\n",
       "      <td>0.063063</td>\n",
       "      <td>0</td>\n",
       "    </tr>\n",
       "    <tr>\n",
       "      <th>815</th>\n",
       "      <td>7.82</td>\n",
       "      <td>7.85</td>\n",
       "      <td>7.13</td>\n",
       "      <td>7.55</td>\n",
       "      <td>529700</td>\n",
       "      <td>8.5870</td>\n",
       "      <td>7.03685</td>\n",
       "      <td>-0.034527</td>\n",
       "      <td>0.100982</td>\n",
       "      <td>0</td>\n",
       "    </tr>\n",
       "    <tr>\n",
       "      <th>816</th>\n",
       "      <td>7.50</td>\n",
       "      <td>7.54</td>\n",
       "      <td>7.20</td>\n",
       "      <td>7.27</td>\n",
       "      <td>301100</td>\n",
       "      <td>8.5874</td>\n",
       "      <td>7.04200</td>\n",
       "      <td>-0.030667</td>\n",
       "      <td>0.047222</td>\n",
       "      <td>1</td>\n",
       "    </tr>\n",
       "    <tr>\n",
       "      <th>817</th>\n",
       "      <td>7.12</td>\n",
       "      <td>7.74</td>\n",
       "      <td>7.12</td>\n",
       "      <td>7.58</td>\n",
       "      <td>245600</td>\n",
       "      <td>8.5992</td>\n",
       "      <td>7.04825</td>\n",
       "      <td>0.064607</td>\n",
       "      <td>0.087079</td>\n",
       "      <td>0</td>\n",
       "    </tr>\n",
       "  </tbody>\n",
       "</table>\n",
       "</div>"
      ],
      "text/plain": [
       "     Open  High   Low  Close  Volume  50dravg  200dravg       OC%       HL%  \\\n",
       "813  8.23  8.48  8.10   8.13  207100   8.5674   7.01590 -0.012151  0.046914   \n",
       "814  8.13  8.26  7.77   7.81  294600   8.5800   7.02790 -0.039360  0.063063   \n",
       "815  7.82  7.85  7.13   7.55  529700   8.5870   7.03685 -0.034527  0.100982   \n",
       "816  7.50  7.54  7.20   7.27  301100   8.5874   7.04200 -0.030667  0.047222   \n",
       "817  7.12  7.74  7.12   7.58  245600   8.5992   7.04825  0.064607  0.087079   \n",
       "\n",
       "     label  \n",
       "813      0  \n",
       "814      0  \n",
       "815      0  \n",
       "816      1  \n",
       "817      0  "
      ]
     },
     "execution_count": 4,
     "metadata": {},
     "output_type": "execute_result"
    }
   ],
   "source": [
    "normalize = False\n",
    "\n",
    "scale_volume = False\n",
    "\n",
    "binarize = True\n",
    "\n",
    "# import data\n",
    "stock_df = pd.DataFrame()\n",
    "for ticker in tickers.tickers:\n",
    "    if stock_df.empty:\n",
    "        stock_df = modify_columns(ticker, normalize)\n",
    "    else:\n",
    "        stock_df = stock_df.append(modify_columns(ticker, normalize))\n",
    "        #stock_df = pd.concat([stock_df, modify_columns(ticker, normalize)])\n",
    "        #stock_df = pd.concat([stock_df, modify_columns(ticker, normalize)], verify_integrity=True)\n",
    "        \n",
    "# scale volume\n",
    "if scale_volume == True:     \n",
    "    stock_df['Volume'] = (stock_df['Volume'] - stock_df['Volume'].min()) / (stock_df['Volume'].max() - stock_df['Volume'].min())\n",
    "    \n",
    "    # log volume\n",
    "    #stock_df['Volume'] = stock_df['Volume'].map(lambda x: np.log(x))\n",
    "\n",
    "#stock_df = stock_df.drop(['Open', 'High', 'Low', 'Close'], axis=1)\n",
    "\n",
    "stock_df = stock_df.replace([np.inf, -np.inf], np.nan)\n",
    "prediction_df = stock_df.copy()\n",
    "stock_df = stock_df.dropna()\n",
    "\n",
    "# binarize labels\n",
    "if binarize == True:\n",
    "    stock_df['label'] = stock_df['label'].map(lambda x: 1 if x >= 0.05 else 0)\n",
    "\n",
    "print stock_df.shape\n",
    "stock_df.tail()"
   ]
  },
  {
   "cell_type": "code",
   "execution_count": 5,
   "metadata": {
    "collapsed": false
   },
   "outputs": [
    {
     "data": {
      "text/html": [
       "<div style=\"max-height:1000px;max-width:1500px;overflow:auto;\">\n",
       "<table border=\"1\" class=\"dataframe\">\n",
       "  <thead>\n",
       "    <tr style=\"text-align: right;\">\n",
       "      <th></th>\n",
       "      <th>Open</th>\n",
       "      <th>High</th>\n",
       "      <th>Low</th>\n",
       "      <th>Close</th>\n",
       "      <th>Volume</th>\n",
       "      <th>50dravg</th>\n",
       "      <th>200dravg</th>\n",
       "      <th>OC%</th>\n",
       "      <th>HL%</th>\n",
       "      <th>label</th>\n",
       "    </tr>\n",
       "  </thead>\n",
       "  <tbody>\n",
       "    <tr>\n",
       "      <th>count</th>\n",
       "      <td>104714.000000</td>\n",
       "      <td>104714.000000</td>\n",
       "      <td>104714.000000</td>\n",
       "      <td>104714.000000</td>\n",
       "      <td>1.047140e+05</td>\n",
       "      <td>104714.000000</td>\n",
       "      <td>104714.000000</td>\n",
       "      <td>104714.000000</td>\n",
       "      <td>104714.000000</td>\n",
       "      <td>104714.000000</td>\n",
       "    </tr>\n",
       "    <tr>\n",
       "      <th>mean</th>\n",
       "      <td>7.283012</td>\n",
       "      <td>7.487771</td>\n",
       "      <td>7.060714</td>\n",
       "      <td>7.271420</td>\n",
       "      <td>5.324266e+05</td>\n",
       "      <td>7.269978</td>\n",
       "      <td>7.278219</td>\n",
       "      <td>-0.000276</td>\n",
       "      <td>0.069054</td>\n",
       "      <td>0.095068</td>\n",
       "    </tr>\n",
       "    <tr>\n",
       "      <th>std</th>\n",
       "      <td>11.555737</td>\n",
       "      <td>11.987762</td>\n",
       "      <td>11.095547</td>\n",
       "      <td>11.525830</td>\n",
       "      <td>2.295534e+06</td>\n",
       "      <td>11.240197</td>\n",
       "      <td>10.610181</td>\n",
       "      <td>0.057314</td>\n",
       "      <td>0.087658</td>\n",
       "      <td>0.293311</td>\n",
       "    </tr>\n",
       "    <tr>\n",
       "      <th>min</th>\n",
       "      <td>0.003003</td>\n",
       "      <td>0.003003</td>\n",
       "      <td>0.003003</td>\n",
       "      <td>0.003003</td>\n",
       "      <td>0.000000e+00</td>\n",
       "      <td>0.004985</td>\n",
       "      <td>0.008659</td>\n",
       "      <td>-0.900000</td>\n",
       "      <td>0.000000</td>\n",
       "      <td>0.000000</td>\n",
       "    </tr>\n",
       "    <tr>\n",
       "      <th>25%</th>\n",
       "      <td>1.870000</td>\n",
       "      <td>1.930000</td>\n",
       "      <td>1.800000</td>\n",
       "      <td>1.860000</td>\n",
       "      <td>4.400000e+03</td>\n",
       "      <td>1.903860</td>\n",
       "      <td>1.974890</td>\n",
       "      <td>-0.022621</td>\n",
       "      <td>0.031746</td>\n",
       "      <td>0.000000</td>\n",
       "    </tr>\n",
       "    <tr>\n",
       "      <th>50%</th>\n",
       "      <td>4.250000</td>\n",
       "      <td>4.390000</td>\n",
       "      <td>4.125000</td>\n",
       "      <td>4.250000</td>\n",
       "      <td>4.520000e+04</td>\n",
       "      <td>4.287600</td>\n",
       "      <td>4.429769</td>\n",
       "      <td>0.000000</td>\n",
       "      <td>0.051095</td>\n",
       "      <td>0.000000</td>\n",
       "    </tr>\n",
       "    <tr>\n",
       "      <th>75%</th>\n",
       "      <td>8.250000</td>\n",
       "      <td>8.456616</td>\n",
       "      <td>8.020000</td>\n",
       "      <td>8.240000</td>\n",
       "      <td>3.703000e+05</td>\n",
       "      <td>8.269100</td>\n",
       "      <td>8.357363</td>\n",
       "      <td>0.017751</td>\n",
       "      <td>0.082105</td>\n",
       "      <td>0.000000</td>\n",
       "    </tr>\n",
       "    <tr>\n",
       "      <th>max</th>\n",
       "      <td>320.750000</td>\n",
       "      <td>327.000000</td>\n",
       "      <td>305.187500</td>\n",
       "      <td>320.500000</td>\n",
       "      <td>1.878141e+08</td>\n",
       "      <td>244.954375</td>\n",
       "      <td>165.755703</td>\n",
       "      <td>2.714286</td>\n",
       "      <td>9.000000</td>\n",
       "      <td>1.000000</td>\n",
       "    </tr>\n",
       "  </tbody>\n",
       "</table>\n",
       "</div>"
      ],
      "text/plain": [
       "                Open           High            Low          Close  \\\n",
       "count  104714.000000  104714.000000  104714.000000  104714.000000   \n",
       "mean        7.283012       7.487771       7.060714       7.271420   \n",
       "std        11.555737      11.987762      11.095547      11.525830   \n",
       "min         0.003003       0.003003       0.003003       0.003003   \n",
       "25%         1.870000       1.930000       1.800000       1.860000   \n",
       "50%         4.250000       4.390000       4.125000       4.250000   \n",
       "75%         8.250000       8.456616       8.020000       8.240000   \n",
       "max       320.750000     327.000000     305.187500     320.500000   \n",
       "\n",
       "             Volume        50dravg       200dravg            OC%  \\\n",
       "count  1.047140e+05  104714.000000  104714.000000  104714.000000   \n",
       "mean   5.324266e+05       7.269978       7.278219      -0.000276   \n",
       "std    2.295534e+06      11.240197      10.610181       0.057314   \n",
       "min    0.000000e+00       0.004985       0.008659      -0.900000   \n",
       "25%    4.400000e+03       1.903860       1.974890      -0.022621   \n",
       "50%    4.520000e+04       4.287600       4.429769       0.000000   \n",
       "75%    3.703000e+05       8.269100       8.357363       0.017751   \n",
       "max    1.878141e+08     244.954375     165.755703       2.714286   \n",
       "\n",
       "                 HL%          label  \n",
       "count  104714.000000  104714.000000  \n",
       "mean        0.069054       0.095068  \n",
       "std         0.087658       0.293311  \n",
       "min         0.000000       0.000000  \n",
       "25%         0.031746       0.000000  \n",
       "50%         0.051095       0.000000  \n",
       "75%         0.082105       0.000000  \n",
       "max         9.000000       1.000000  "
      ]
     },
     "execution_count": 5,
     "metadata": {},
     "output_type": "execute_result"
    }
   ],
   "source": [
    "stock_df.describe()"
   ]
  },
  {
   "cell_type": "code",
   "execution_count": 6,
   "metadata": {
    "collapsed": false
   },
   "outputs": [
    {
     "data": {
      "text/plain": [
       "<matplotlib.axes._subplots.AxesSubplot at 0x10bd75d10>"
      ]
     },
     "execution_count": 6,
     "metadata": {},
     "output_type": "execute_result"
    },
    {
     "data": {
      "image/png": "[encoded data removed]",
      "text/plain": [
       "<matplotlib.figure.Figure at 0x10bd75810>"
      ]
     },
     "metadata": {},
     "output_type": "display_data"
    }
   ],
   "source": [
    "stock_df.Volume.hist(bins=50)"
   ]
  },
  {
   "cell_type": "code",
   "execution_count": 7,
   "metadata": {
    "collapsed": false
   },
   "outputs": [
    {
     "name": "stdout",
     "output_type": "stream",
     "text": [
      "0 Open -0.0321878917803\n",
      "1 High -0.0296240747405\n",
      "2 Low -0.0346285810253\n",
      "3 Close -0.0316624260364\n",
      "4 Volume -0.000265422723524\n",
      "5 50dravg -0.0279879123707\n",
      "6 200dravg -0.0221498308317\n",
      "7 OC% 0.0259721671047\n",
      "8 HL% 0.117350632044\n",
      "9 label 1.0\n"
     ]
    }
   ],
   "source": [
    "for i in xrange(len(stock_df.columns)):\n",
    "    print i, stock_df.columns[i], stock_df.corr()['label'].values[i]"
   ]
  },
  {
   "cell_type": "code",
   "execution_count": 8,
   "metadata": {
    "collapsed": false
   },
   "outputs": [
    {
     "data": {
      "image/png": "[encoded data removed]",
      "text/plain": [
       "<matplotlib.figure.Figure at 0x111208550>"
      ]
     },
     "metadata": {},
     "output_type": "display_data"
    }
   ],
   "source": [
    "negative_df = stock_df[stock_df['label'] == 0]\n",
    "positive_df = stock_df[stock_df['label'] == 1]\n",
    "\n",
    "plt.scatter(negative_df['200dravg'], negative_df['Volume'])\n",
    "plt.scatter(positive_df['200dravg'], positive_df['Volume'], color='r')\n",
    "plt.show()"
   ]
  },
  {
   "cell_type": "code",
   "execution_count": 9,
   "metadata": {
    "collapsed": false
   },
   "outputs": [
    {
     "data": {
      "image/png": "[encoded data removed]",
      "text/plain": [
       "<matplotlib.figure.Figure at 0x1112c0d10>"
      ]
     },
     "metadata": {},
     "output_type": "display_data"
    }
   ],
   "source": [
    "x, y, z = '200dravg', '50dravg', 'Close'\n",
    "\n",
    "fig = plt.figure()\n",
    "ax = fig.gca(projection='3d')\n",
    "ax.scatter(negative_df[x], negative_df[y], negative_df[z], alpha=0.1, color='y')\n",
    "ax.scatter(positive_df[x], positive_df[y], positive_df[z], color='r')\n",
    "ax.set_xlabel(x)\n",
    "ax.set_ylabel(y)\n",
    "ax.set_zlabel(z)\n",
    "ax.view_init(azim=260)\n",
    "plt.show()"
   ]
  },
  {
   "cell_type": "code",
   "execution_count": 10,
   "metadata": {
    "collapsed": false
   },
   "outputs": [
    {
     "name": "stdout",
     "output_type": "stream",
     "text": [
      "(104714, 9) (104714,)\n"
     ]
    }
   ],
   "source": [
    "y = stock_df['label'].values\n",
    "stock_df = stock_df.drop('label', axis=1)\n",
    "X = stock_df.values\n",
    "\n",
    "print X.shape, y.shape"
   ]
  },
  {
   "cell_type": "code",
   "execution_count": 11,
   "metadata": {
    "collapsed": false
   },
   "outputs": [
    {
     "data": {
      "image/png": "[encoded data removed]",
      "text/plain": [
       "<matplotlib.figure.Figure at 0x110eee190>"
      ]
     },
     "metadata": {},
     "output_type": "display_data"
    }
   ],
   "source": [
    "plt.hist(y, bins=50, alpha=0.7, color='r')\n",
    "plt.show()"
   ]
  },
  {
   "cell_type": "code",
   "execution_count": 12,
   "metadata": {
    "collapsed": false
   },
   "outputs": [
    {
     "name": "stdout",
     "output_type": "stream",
     "text": [
      "(2,) \n",
      "\n",
      "[0 1]\n"
     ]
    }
   ],
   "source": [
    "y_values = np.unique(y, return_counts=True)[0]\n",
    "print y_values.shape, \"\\n\"\n",
    "print y_values"
   ]
  },
  {
   "cell_type": "code",
   "execution_count": 13,
   "metadata": {
    "collapsed": false
   },
   "outputs": [
    {
     "name": "stdout",
     "output_type": "stream",
     "text": [
      "[94759  9955]\n",
      "percent 1:  0.0950684722196\n"
     ]
    }
   ],
   "source": [
    "num_of_classes = np.unique(y, return_counts=True)[1]\n",
    "print num_of_classes\n",
    "print \"percent 1: \", np.true_divide(num_of_classes[1],np.sum(num_of_classes))"
   ]
  },
  {
   "cell_type": "code",
   "execution_count": 14,
   "metadata": {
    "collapsed": false
   },
   "outputs": [
    {
     "name": "stdout",
     "output_type": "stream",
     "text": [
      "0\n",
      "[]\n",
      "[]\n"
     ]
    }
   ],
   "source": [
    "classes_to_remove = []\n",
    "for i in np.where(num_of_classes == 1)[0]:\n",
    "    classes_to_remove.append(y_values[i])\n",
    "\n",
    "print len(classes_to_remove)\n",
    "print classes_to_remove[:5]\n",
    "print classes_to_remove[-5:]"
   ]
  },
  {
   "cell_type": "code",
   "execution_count": 15,
   "metadata": {
    "collapsed": false
   },
   "outputs": [
    {
     "name": "stdout",
     "output_type": "stream",
     "text": [
      "number of labels:  2\n"
     ]
    }
   ],
   "source": [
    "print \"number of labels: \", np.unique(y, return_counts=True)[0].shape[0]"
   ]
  },
  {
   "cell_type": "code",
   "execution_count": 16,
   "metadata": {
    "collapsed": false
   },
   "outputs": [],
   "source": [
    "#for i in xrange(X.shape[1]):\n",
    "#    plt.scatter(X[:,i], y)\n",
    "#    plt.show()"
   ]
  },
  {
   "cell_type": "code",
   "execution_count": 17,
   "metadata": {
    "collapsed": false
   },
   "outputs": [],
   "source": [
    "#for i in xrange(X.shape[1]):\n",
    "#    plt.hist(X[:,i])\n",
    "#    plt.show()"
   ]
  },
  {
   "cell_type": "markdown",
   "metadata": {},
   "source": [
    "---"
   ]
  },
  {
   "cell_type": "code",
   "execution_count": 18,
   "metadata": {
    "collapsed": false,
    "scrolled": false
   },
   "outputs": [
    {
     "name": "stdout",
     "output_type": "stream",
     "text": [
      "\n",
      "################################################## \n",
      "\n",
      "Pipeline(steps=[('decisiontreeclassifier', DecisionTreeClassifier(class_weight=None, criterion='gini', max_depth=None,\n",
      "            max_features=None, max_leaf_nodes=None, min_samples_leaf=1,\n",
      "            min_samples_split=2, min_weight_fraction_leaf=0.0,\n",
      "            random_state=None, splitter='best'))])\n",
      "\n",
      "score:  0.830329943179\n",
      "\n",
      "confusion matrix:\n",
      "     FALSE   TRUE\n",
      "FALSE [94758     1] \n",
      "TRUE  [   4 9951]\n",
      "\n",
      "             precision    recall  f1-score   support\n",
      "\n",
      "          0       1.00      1.00      1.00     94759\n",
      "          1       1.00      1.00      1.00      9955\n",
      "\n",
      "avg / total       1.00      1.00      1.00    104714\n",
      "\n",
      "\n",
      "price data normalized: False\n",
      "\n",
      "volume scaled: False\n",
      "\n",
      "binarized: True\n",
      "\n",
      "k = 8\n",
      "\n",
      "PCA: False\n",
      "\n",
      "minutes for learner to run: 0.398\n",
      "\n"
     ]
    }
   ],
   "source": [
    "skb = []\n",
    "best_learner = []\n",
    "\n",
    "#for k in xrange(1,X.shape[1]+1):\n",
    "for k in xrange(8,9):\n",
    "    \n",
    "    print \"\\n\", \"#\"*50, \"\\n\"\n",
    "\n",
    "    skb = SelectKBest(k=k)\n",
    "    skb = skb.fit(X,y)\n",
    "    new_X = skb.transform(X)\n",
    "\n",
    "    t0 = time()\n",
    "\n",
    "    clf_or_regr = \"clf\"\n",
    "    pca = False\n",
    "\n",
    "    ############################################################################\n",
    "\n",
    "    if clf_or_regr == \"regr\":\n",
    "        # add bias\n",
    "        new_X = np.hstack((new_X, np.ones((new_X.shape[0], 1))))\n",
    "\n",
    "        # single-class removal\n",
    "        rows_to_remove = []\n",
    "        for i in xrange(len(y)):\n",
    "            if y[i] in classes_to_remove:\n",
    "                rows_to_remove.append(i)\n",
    "\n",
    "        new_X = np.delete(new_X, rows_to_remove, axis=0)\n",
    "        y = np.delete(y, rows_to_remove)\n",
    "\n",
    "    ############################################################################\n",
    "\n",
    "    learner = []\n",
    "\n",
    "    pipeline = []\n",
    "\n",
    "    ############################################################################\n",
    "\n",
    "    if clf_or_regr == \"clf\":\n",
    "        #learner = GaussianNB()\n",
    "        learner = DecisionTreeClassifier()\n",
    "        #learner = RandomForestClassifier()\n",
    "        #learner = SVC()\n",
    "        #learner = LogisticRegression()\n",
    "\n",
    "    if clf_or_regr == \"regr\":\n",
    "        learner = LinearRegression()\n",
    "        #learner = Ridge()\n",
    "        #learner = Lasso()\n",
    "        #learner = BayesianRidge()\n",
    "        #learner = SGDRegressor()\n",
    "        #learner = SVR()\n",
    "        #learner = DecisionTreeRegressor()\n",
    "        #learner = GradientBoostingRegressor()\n",
    "\n",
    "    ############################################################################\n",
    "\n",
    "    if pca == False:\n",
    "        pipeline = make_pipeline(learner)\n",
    "    elif pca == True:\n",
    "        pipeline = make_pipeline(RandomizedPCA(), learner)\n",
    "\n",
    "    # cross validation    \n",
    "    cv = StratifiedShuffleSplit(y, test_size=0.2, random_state=42)\n",
    "\n",
    "    # tune parameters\n",
    "    params = dict()\n",
    "\n",
    "    # for PCA\n",
    "    if pca == True:\n",
    "        #params['randomizedpca__iterated_power'] = [1, 2, 3]\n",
    "        #params['randomizedpca__n_components'] = [2, 4, 6, 8, 10]\n",
    "        params['randomizedpca__random_state'] = [42]\n",
    "        #params['randomizedpca__whiten'] = [True, False]\n",
    "\n",
    "    ############################################################################\n",
    "\n",
    "    if clf_or_regr == \"clf\":\n",
    "        if str(learner)[0] == 'X':\n",
    "            params['decisiontreeclassifier__criterion'] = ['gini', 'entropy']\n",
    "            params['decisiontreeclassifier__max_features'] = ['auto', 'sqrt', 'log2', None]\n",
    "            params['decisiontreeclassifier__class_weight'] = ['auto', None]\n",
    "            params['decisiontreeclassifier__random_state'] = [42]\n",
    "\n",
    "        if str(learner)[0] == 'S':\n",
    "            # [2**x for x in np.arange(-15, 15+1, 3)]\n",
    "            params['svc__C'] = np.logspace(-2, 10, 13)\n",
    "            params['svc__gamma'] = np.logspace(-9, 3, 13)\n",
    "            params['svc__random_state'] = [42]\n",
    "\n",
    "    ############################################################################        \n",
    "\n",
    "    grid_search = GridSearchCV(pipeline, param_grid=params, n_jobs=1, cv=cv)\n",
    "\n",
    "    grid_search.fit(new_X, y)\n",
    "\n",
    "    best_learner = grid_search.best_estimator_\n",
    "    print best_learner\n",
    "    print \"\\nscore: \", grid_search.best_score_\n",
    "\n",
    "    best_learner = best_learner.fit(new_X,y)\n",
    "    y_pred = best_learner.predict(new_X)\n",
    "\n",
    "    ############################################################################\n",
    "\n",
    "    if clf_or_regr == \"clf\":\n",
    "        print \"\\nconfusion matrix:\\n\", \"     FALSE   TRUE\\n\", \"FALSE\", confusion_matrix(y, y_pred)[0], \"\\nTRUE \", confusion_matrix(y, y_pred)[1]\n",
    "        print \"\\n\", classification_report(y, y_pred)\n",
    "\n",
    "    print \"\\nprice data normalized:\", normalize\n",
    "    print \"\\nvolume scaled:\", scale_volume\n",
    "    print \"\\nbinarized:\", binarize\n",
    "    print \"\\nk =\", k\n",
    "    print \"\\nPCA:\", pca\n",
    "    print \"\\nminutes for learner to run:\", round((time()-t0)/60.0, 3)\n",
    "    print\n",
    "\n",
    "    if k == 1:\n",
    "        for i in xrange(len(stock_df.columns)):\n",
    "            print stock_df.columns[i], np.round(skb.scores_[i], 2)"
   ]
  },
  {
   "cell_type": "markdown",
   "metadata": {},
   "source": [
    "---"
   ]
  },
  {
   "cell_type": "code",
   "execution_count": 19,
   "metadata": {
    "collapsed": false
   },
   "outputs": [],
   "source": [
    "#X_df = pd.DataFrame(X[:,:4])\n",
    "#X_df = pd.DataFrame(X)\n",
    "#X_df['labels'] = y\n",
    "#sns.pairplot(X_df, hue='labels')\n",
    "#plt.show()"
   ]
  },
  {
   "cell_type": "code",
   "execution_count": 20,
   "metadata": {
    "collapsed": false
   },
   "outputs": [],
   "source": [
    "#plt.hist(y, color='b', alpha=0.7)\n",
    "#plt.hist(y_pred, color='y', alpha=0.7)\n",
    "#plt.show()"
   ]
  },
  {
   "cell_type": "code",
   "execution_count": 21,
   "metadata": {
    "collapsed": false
   },
   "outputs": [],
   "source": [
    "#plt.scatter(np.arange(y.shape[0]), y, color='b', alpha=0.7)\n",
    "#plt.scatter(np.arange(y_pred.shape[0]), y_pred, color='y', alpha=0.7)\n",
    "#plt.show()"
   ]
  },
  {
   "cell_type": "code",
   "execution_count": 22,
   "metadata": {
    "collapsed": false
   },
   "outputs": [],
   "source": [
    "#y_pred - y"
   ]
  },
  {
   "cell_type": "code",
   "execution_count": 23,
   "metadata": {
    "collapsed": false
   },
   "outputs": [],
   "source": [
    "#np.sum(y)"
   ]
  },
  {
   "cell_type": "code",
   "execution_count": 24,
   "metadata": {
    "collapsed": false
   },
   "outputs": [],
   "source": [
    "#error_count = 0\n",
    "#for i in xrange(len(y)):\n",
    "#    if y_pred[i] != y[i]:\n",
    "#        error_count += 1\n",
    "#        \n",
    "#print error_count, \" / \", len(y) "
   ]
  },
  {
   "cell_type": "markdown",
   "metadata": {},
   "source": [
    "---"
   ]
  },
  {
   "cell_type": "code",
   "execution_count": 25,
   "metadata": {
    "collapsed": false
   },
   "outputs": [
    {
     "data": {
      "text/plain": [
       "(32, 10)"
      ]
     },
     "execution_count": 25,
     "metadata": {},
     "output_type": "execute_result"
    }
   ],
   "source": [
    "prediction_df[prediction_df['label'].apply(np.isnan) == True].shape"
   ]
  },
  {
   "cell_type": "code",
   "execution_count": 26,
   "metadata": {
    "collapsed": false
   },
   "outputs": [
    {
     "name": "stdout",
     "output_type": "stream",
     "text": [
      "(32, 9) \n",
      "\n",
      "0 ABIO 0\n",
      "1 ACOR 0\n",
      "2 ADMA 0\n",
      "3 AERI 0\n",
      "4 AFFX 0\n",
      "5 AGEN 0\n",
      "6 APPY 0\n",
      "7 ARDM 0\n",
      "8 ARIA 0\n",
      "9 ARNA 0\n",
      "10 ARWR 0\n",
      "11 AXDX 0\n",
      "12 AXGN 0\n",
      "13 BOTA 0\n",
      "14 CBLI 0\n",
      "15 CPRX 0\n",
      "16 DARA 0\n",
      "17 ECYT 0\n",
      "18 EXAS 0\n",
      "19 HALO 1\n",
      "20 IDRA 0\n",
      "21 INO 0\n",
      "22 LPCN 0\n",
      "23 MEIP 0\n",
      "24 MNKD 0\n",
      "25 OREX 0\n",
      "26 PGNX 0\n",
      "27 QLTI 0\n",
      "28 RMTI 0\n",
      "29 SGYP 0\n",
      "30 THLD 0\n",
      "31 TNXP 0\n"
     ]
    }
   ],
   "source": [
    "prediction_X = prediction_df[prediction_df['label'].apply(np.isnan) == True].drop('label', axis=1).values\n",
    "print prediction_X.shape, \"\\n\"\n",
    "prediction_X = skb.transform(prediction_X)\n",
    "y_pred = best_learner.predict(prediction_X)\n",
    "\n",
    "for i in xrange(len(tickers.tickers)):\n",
    "    print i, tickers.tickers[i], y_pred[i]"
   ]
  },
  {
   "cell_type": "code",
   "execution_count": 27,
   "metadata": {
    "collapsed": false
   },
   "outputs": [
    {
     "data": {
      "text/plain": [
       "'\\nnew_X = stock_df.values\\nnew_pred = learner.predict(new_X)\\nfor i in xrange(len(tickers)):\\n    print \"[{}]\".format(i), tickers[i], new_pred[i]\\n'"
      ]
     },
     "execution_count": 27,
     "metadata": {},
     "output_type": "execute_result"
    }
   ],
   "source": [
    "'''\n",
    "new_X = stock_df.values\n",
    "new_pred = learner.predict(new_X)\n",
    "for i in xrange(len(tickers)):\n",
    "    print \"[{}]\".format(i), tickers[i], new_pred[i]\n",
    "'''"
   ]
  },
  {
   "cell_type": "code",
   "execution_count": 28,
   "metadata": {
    "collapsed": true
   },
   "outputs": [],
   "source": [
    "# http://scikit-learn.org/stable/auto_examples/svm/plot_rbf_parameters.html\n",
    "# http://scikit-learn.org/stable/auto_examples/semi_supervised/plot_label_propagation_versus_svm_iris.html"
   ]
  }
 ],
 "metadata": {
  "kernelspec": {
   "display_name": "Python 2",
   "language": "python",
   "name": "python2"
  },
  "language_info": {
   "codemirror_mode": {
    "name": "ipython",
    "version": 2
   },
   "file_extension": ".py",
   "mimetype": "text/x-python",
   "name": "python",
   "nbconvert_exporter": "python",
   "pygments_lexer": "ipython2",
   "version": "2.7.10"
  }
 },
 "nbformat": 4,
 "nbformat_minor": 0
}
