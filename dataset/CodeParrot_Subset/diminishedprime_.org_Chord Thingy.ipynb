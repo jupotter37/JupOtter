{
 "cells": [
  {
   "cell_type": "code",
   "execution_count": 1,
   "metadata": {},
   "outputs": [
    {
     "data": {
      "text/plain": [
       "2"
      ]
     },
     "execution_count": 1,
     "metadata": {},
     "output_type": "execute_result"
    }
   ],
   "source": [
    "def modBase1(num, base):\n",
    "    return ((num - 1) % base) + 1\n",
    "modBase1(13, 12)\n",
    "modBase1(15, 12)\n",
    "modBase1(14, 12)"
   ]
  },
  {
   "cell_type": "code",
   "execution_count": 2,
   "metadata": {},
   "outputs": [
    {
     "data": {
      "text/plain": [
       "{'A': 10,\n",
       " 'A#': 11,\n",
       " 'Ab': 9,\n",
       " 'B': 12,\n",
       " 'B#': 1,\n",
       " 'Bb': 11,\n",
       " 'C': 1,\n",
       " 'C#': 2,\n",
       " 'Cb': 12,\n",
       " 'D': 3,\n",
       " 'D#': 4,\n",
       " 'Db': 2,\n",
       " 'E': 5,\n",
       " 'E#': 6,\n",
       " 'Eb': 4,\n",
       " 'F': 6,\n",
       " 'F#': 7,\n",
       " 'Fb': 5,\n",
       " 'G': 8,\n",
       " 'G#': 9,\n",
       " 'Gb': 7}"
      ]
     },
     "execution_count": 2,
     "metadata": {},
     "output_type": "execute_result"
    }
   ],
   "source": [
    "notes = [1, 2, 3, 4, 5, 6, 7, 8, 9, 10, 11, 12]\n",
    "\n",
    "note_to_num_hash = {}\n",
    "num_to_note_hash = {}\n",
    "num_to_note_hash['normal'] = {}\n",
    "num_to_note_hash['flat'] = {}\n",
    "num_to_note_hash['sharp'] = {}\n",
    "#normals \n",
    "note_to_num_hash['C'] = 1\n",
    "num_to_note_hash['normal'][1] = 'C'\n",
    "note_to_num_hash['D'] = 3\n",
    "num_to_note_hash['normal'][3] = 'D'\n",
    "note_to_num_hash['E'] = 5\n",
    "num_to_note_hash['normal'][5] = 'E'\n",
    "note_to_num_hash['F'] = 6\n",
    "num_to_note_hash['normal'][6] = 'F'\n",
    "note_to_num_hash['G'] = 8\n",
    "num_to_note_hash['normal'][8] = 'G'\n",
    "note_to_num_hash['A'] = 10\n",
    "num_to_note_hash['normal'][10] = 'A'\n",
    "note_to_num_hash['B'] = 12\n",
    "num_to_note_hash['normal'][12] = 'B'\n",
    "\n",
    "#sharps                      # zero index for the mod\n",
    "note_to_num_hash['C#'] = modBase1(note_to_num_hash['C'] + 1, 12)\n",
    "num_to_note_hash['sharp'][ modBase1(note_to_num_hash['C'] + 1, 12)] = 'C#'\n",
    "note_to_num_hash['D#'] = modBase1(note_to_num_hash['D'] + 1, 12)\n",
    "num_to_note_hash['sharp'][modBase1(note_to_num_hash['D'] + 1, 12)] = 'D#'\n",
    "note_to_num_hash['E#'] = modBase1(note_to_num_hash['E'] + 1, 12)\n",
    "num_to_note_hash['sharp'][modBase1(note_to_num_hash['E'] + 1, 12)] = 'E#'\n",
    "note_to_num_hash['F#'] = modBase1(note_to_num_hash['F'] + 1, 12)\n",
    "num_to_note_hash['sharp'][modBase1(note_to_num_hash['F'] + 1, 12)] = 'F#'\n",
    "note_to_num_hash['G#'] = modBase1(note_to_num_hash['G'] + 1, 12)\n",
    "num_to_note_hash['sharp'][modBase1(note_to_num_hash['G'] + 1, 12)] = 'G#'\n",
    "note_to_num_hash['A#'] = modBase1(note_to_num_hash['A'] + 1, 12)\n",
    "num_to_note_hash['sharp'][modBase1(note_to_num_hash['A'] + 1, 12)] = 'A#'\n",
    "note_to_num_hash['B#'] = modBase1(note_to_num_hash['B'] + 1, 12)\n",
    "num_to_note_hash['sharp'][modBase1(note_to_num_hash['B'] + 1, 12)] = 'B#'\n",
    "\n",
    "#flats\n",
    "note_to_num_hash['Cb'] = modBase1(note_to_num_hash['C'] - 1, 12)\n",
    "num_to_note_hash['flat'][modBase1(note_to_num_hash['C'] - 1, 12)] = 'Cb'\n",
    "note_to_num_hash['Db'] = modBase1(note_to_num_hash['D'] - 1, 12)\n",
    "num_to_note_hash['flat'][modBase1(note_to_num_hash['D'] - 1, 12)] = 'Db'\n",
    "note_to_num_hash['Eb'] = modBase1(note_to_num_hash['E'] - 1, 12)\n",
    "num_to_note_hash['flat'][modBase1(note_to_num_hash['E'] - 1, 12)] = 'Eb'\n",
    "note_to_num_hash['Fb'] = modBase1(note_to_num_hash['F'] - 1, 12)\n",
    "num_to_note_hash['flat'][modBase1(note_to_num_hash['F'] - 1, 12)] = 'Fb'\n",
    "note_to_num_hash['Gb'] = modBase1(note_to_num_hash['G'] - 1, 12)\n",
    "num_to_note_hash['flat'][modBase1(note_to_num_hash['G'] - 1, 12)] = 'Gb'\n",
    "note_to_num_hash['Ab'] = modBase1(note_to_num_hash['A'] - 1, 12)\n",
    "num_to_note_hash['flat'][modBase1(note_to_num_hash['A'] - 1, 12)] = 'Ab'\n",
    "note_to_num_hash['Bb'] = modBase1(note_to_num_hash['B'] - 1, 12)\n",
    "num_to_note_hash['flat'][modBase1(note_to_num_hash['B'] - 1, 12)] = 'Bb'\n",
    "\n",
    "note_to_num_hash"
   ]
  },
  {
   "cell_type": "code",
   "execution_count": 3,
   "metadata": {},
   "outputs": [
    {
     "name": "stdout",
     "output_type": "stream",
     "text": [
      "2\n",
      "5\n"
     ]
    }
   ],
   "source": [
    "def note_to_num(note):\n",
    "    return note_to_num_hash[note]\n",
    "\n",
    "print(note_to_num('C#'))\n",
    "print(note_to_num('Fb'))"
   ]
  },
  {
   "cell_type": "code",
   "execution_count": 4,
   "metadata": {},
   "outputs": [
    {
     "name": "stdout",
     "output_type": "stream",
     "text": [
      "D#\n",
      "Eb\n",
      "E#\n"
     ]
    }
   ],
   "source": [
    "def num_to_note(num, kind='normal'):\n",
    "    normalized_num = ((num - 1) % 12) + 1\n",
    "    normal = num_to_note_hash['normal'].get(normalized_num)\n",
    "    sharp = num_to_note_hash['sharp'].get(normalized_num)\n",
    "    flat = num_to_note_hash['flat'].get(normalized_num)\n",
    "    if (kind == 'sharp' and sharp != None):\n",
    "        return sharp\n",
    "    elif (kind == 'flat' and flat != None):\n",
    "        return flat\n",
    "    # We default to sharp if it's not a normal note\n",
    "    elif (normal == None):\n",
    "        return sharp\n",
    "    else:\n",
    "        return normal\n",
    "    \n",
    "print(num_to_note(4, 'sharp'))\n",
    "print(num_to_note(4, 'flat'))\n",
    "print(num_to_note(6, 'sharp'))\n",
    "#print(num_to_note(4))"
   ]
  },
  {
   "cell_type": "code",
   "execution_count": 5,
   "metadata": {},
   "outputs": [
    {
     "data": {
      "text/plain": [
       "['C', 'E', 'G']"
      ]
     },
     "execution_count": 5,
     "metadata": {},
     "output_type": "execute_result"
    }
   ],
   "source": [
    "def notes_for_nums(nums, kind='normal'):\n",
    "    return list(map(\n",
    "        lambda num: num_to_note(num, kind),\n",
    "        nums\n",
    "    ))\n",
    "notes_for_nums([1, 5, 8])"
   ]
  },
  {
   "cell_type": "code",
   "execution_count": 6,
   "metadata": {
    "collapsed": true
   },
   "outputs": [],
   "source": [
    "intervals = {}\n",
    "# returns the number of halfsteps between the base note and the other note of the interval\n",
    "intervals['prime'] = 0\n",
    "intervals['minor 2'] = 1\n",
    "intervals['major 2'] = 2\n",
    "intervals['minor 3'] = 3\n",
    "intervals['major 3'] = 4\n",
    "intervals['perfect 4'] = 5\n",
    "intervals['tritone'] = 6\n",
    "intervals['perfect 5'] = 7\n",
    "intervals['minor 6'] = 8\n",
    "intervals['major 6'] = 9\n",
    "intervals['minor 7'] = 10\n",
    "intervals['major 7'] = 11\n",
    "intervals['octave'] = 12\n",
    "intervals['minor 9'] = 13\n",
    "intervals['major 9'] = 14\n",
    "# min 10 - 14\n",
    "# maj 10- 15\n",
    "intervals['minor 11'] = 16\n",
    "intervals['major 11'] = 17\n",
    "# min 12 "
   ]
  },
  {
   "cell_type": "code",
   "execution_count": 7,
   "metadata": {
    "collapsed": true
   },
   "outputs": [],
   "source": [
    "scales = {}\n",
    "scales['Major'] = ['major 2', 'major 2', 'minor 2', 'major 2', 'major 2', 'major 2', 'major 2', 'minor 2']"
   ]
  },
  {
   "cell_type": "code",
   "execution_count": 8,
   "metadata": {},
   "outputs": [],
   "source": [
    "chord_quality = {}\n",
    "chord_quality[''] = ['prime', 'major 3', 'perfect 5']\n",
    "chord_quality['maj7'] = ['prime', 'major 3', 'perfect 5', 'major 7']\n",
    "chord_quality['-7'] = ['prime', 'minor 3', 'perfect 5', 'minor 7']\n",
    "chord_quality['7'] = ['prime', 'major 3', 'perfect 5', 'minor 7']\n",
    "chord_quality['7b9'] = ['prime', 'major 3','minor 7', 'minor 9']\n",
    "chord_quality['6'] = ['prime', 'major 3', 'perfect 5', 'major 6']"
   ]
  },
  {
   "cell_type": "code",
   "execution_count": 9,
   "metadata": {},
   "outputs": [
    {
     "name": "stdout",
     "output_type": "stream",
     "text": [
      "[1, 2, 3, 4, 5, 6, 7, 8, 9, 10, 11, 12]\n",
      "[3, 4, 5, 6, 7, 8, 9, 10, 11, 12, 1, 2]\n",
      "[6, 7, 8, 9, 10, 11, 12, 1, 2, 3, 4, 5]\n"
     ]
    }
   ],
   "source": [
    "def chromatic_scale_from(note=1):\n",
    "    return list(map(lambda x: modBase1(x, 12), range(note, note+12)))\n",
    "\n",
    "print(chromatic_scale_from(1))\n",
    "print(chromatic_scale_from(3))\n",
    "print(chromatic_scale_from(30))"
   ]
  },
  {
   "cell_type": "code",
   "execution_count": 10,
   "metadata": {
    "collapsed": true
   },
   "outputs": [],
   "source": [
    "def lookup_multi(keys, lookupable):\n",
    "    return list(map(\n",
    "        lambda key: lookupable[key]\n",
    "        , keys\n",
    "    ))"
   ]
  },
  {
   "cell_type": "code",
   "execution_count": 11,
   "metadata": {},
   "outputs": [
    {
     "name": "stdout",
     "output_type": "stream",
     "text": [
      "[3, 7, 10]\n",
      "['D', 'F#', 'A']\n",
      "[4, 8, 11, 15]\n",
      "['Eb', 'G', 'Bb', 'D']\n",
      "[12, 15, 19, 22]\n"
     ]
    }
   ],
   "source": [
    "def nums_for_quality(quality='', base_note='C'):\n",
    "    quality_intervals = chord_quality[quality]\n",
    "    nums = lookup_multi(quality_intervals, intervals)\n",
    "    adjusted = list(map(lambda x: x + note_to_num(base_note)\n",
    "                       , nums))\n",
    "    return adjusted\n",
    "\n",
    "print(nums_for_quality(base_note='D'))\n",
    "print(notes_for_nums(nums_for_quality(base_note='D')))\n",
    "print(nums_for_quality(base_note='Eb', quality='maj7'))\n",
    "print(notes_for_nums(nums_for_quality(base_note='Eb', quality='maj7'), kind='flat'))\n",
    "print(nums_for_quality(base_note='Cb', quality='-7'))"
   ]
  },
  {
   "cell_type": "code",
   "execution_count": 12,
   "metadata": {},
   "outputs": [
    {
     "name": "stdout",
     "output_type": "stream",
     "text": [
      " - [1, 5, 8]\n",
      "maj7 - [1, 5, 8, 12]\n",
      "-7 - [1, 4, 8, 11]\n",
      "7 - [1, 5, 8, 11]\n",
      "7b9 - [1, 5, 11, 14]\n",
      "6 - [1, 5, 8, 10]\n"
     ]
    }
   ],
   "source": [
    "for quality in chord_quality:\n",
    "    print(quality + ' - ' + str(nums_for_quality(quality=quality)))"
   ]
  },
  {
   "cell_type": "code",
   "execution_count": 13,
   "metadata": {},
   "outputs": [
    {
     "data": {
      "text/plain": [
       "[4, 8, 11, 15]"
      ]
     },
     "execution_count": 13,
     "metadata": {},
     "output_type": "execute_result"
    }
   ],
   "source": [
    "nums_for_quality(base_note='Eb', quality='maj7')"
   ]
  },
  {
   "cell_type": "code",
   "execution_count": 14,
   "metadata": {},
   "outputs": [
    {
     "name": "stdout",
     "output_type": "stream",
     "text": [
      "[5, 6, 7, 8, 9, 10, 11, 12, 13, 14, 15, 16, 17, 18, 19, 20, 21, 22]\n",
      "[12, 13, 14, 15, 16, 17, 18, 19, 20, 21, 22, 23, 24, 25, 26, 27, 28, 29]\n",
      "[8, 9, 10, 11, 12, 13, 14, 15, 16, 17, 18, 19, 20, 21, 22, 23, 24, 25]\n",
      "[3, 4, 5, 6, 7, 8, 9, 10, 11, 12, 13, 14, 15, 16, 17, 18, 19, 20]\n",
      "[10, 11, 12, 13, 14, 15, 16, 17, 18, 19, 20, 21, 22, 23, 24, 25, 26, 27]\n",
      "[5, 6, 7, 8, 9, 10, 11, 12, 13, 14, 15, 16, 17, 18, 19, 20, 21, 22]\n"
     ]
    }
   ],
   "source": [
    "def string_for(note='E', frets=18):\n",
    "    baseNum = note_to_num(note)\n",
    "    nums = list(range(baseNum, baseNum + frets))\n",
    "    return nums\n",
    "\n",
    "print(string_for(note='E'))\n",
    "print(string_for(note='B'))\n",
    "print(string_for(note='G'))\n",
    "print(string_for(note='D'))\n",
    "print(string_for(note='A'))\n",
    "print(string_for(note='E'))"
   ]
  },
  {
   "cell_type": "code",
   "execution_count": 15,
   "metadata": {
    "collapsed": true
   },
   "outputs": [],
   "source": [
    "def contains(my_list, val):\n",
    "    if val in my_list:\n",
    "        return True\n",
    "    return False"
   ]
  },
  {
   "cell_type": "code",
   "execution_count": 16,
   "metadata": {},
   "outputs": [
    {
     "name": "stdout",
     "output_type": "stream",
     "text": [
      "E|-----|-F#--|-----|-----|--A--|-----|-----|-----|-----|-----|-D#--|-----|-----|-----|--G--|-----|-----\n"
     ]
    }
   ],
   "source": [
    "def print_string(nums, lookup_fn, formatter_fn):\n",
    "    base_print = str(num_to_note(nums[0]))\n",
    "    # first string gets printed a bit differntly\n",
    "    firstString = True\n",
    "    for num in nums[1:]:\n",
    "        base_print = base_print + '|'\n",
    "        for_num = lookup_fn(num)\n",
    "        base_print = base_print + formatter_fn(for_num)\n",
    "    return base_print\n",
    "\n",
    "c7nums = nums_for_quality('maj7', base_note='D')\n",
    "\n",
    "print(print_string(string_for('E')\n",
    "             , lambda num: num_to_note(num) if contains(c7nums, num % 13) else ''\n",
    "             , lambda val: '{:-^5}'.format(val)\n",
    "            ))"
   ]
  },
  {
   "cell_type": "code",
   "execution_count": 17,
   "metadata": {},
   "outputs": [
    {
     "name": "stdout",
     "output_type": "stream",
     "text": [
      "['C', 'E', 'G', 'B']\n"
     ]
    },
    {
     "data": {
      "text/plain": [
       "['E|-----|-----|--G--|-----|-----|-----|--B--|--C--|-----|-----|-----|--E--|-----|-----|--G--|-----|-----',\n",
       " 'B|--C--|-----|-----|-----|--E--|-----|-----|--G--|-----|-----|-----|--B--|--C--|-----|-----|-----|--E--',\n",
       " 'G|-----|-----|-----|--B--|--C--|-----|-----|-----|--E--|-----|-----|--G--|-----|-----|-----|--B--|--C--',\n",
       " 'D|-----|--E--|-----|-----|--G--|-----|-----|-----|--B--|--C--|-----|-----|-----|--E--|-----|-----|--G--',\n",
       " 'A|-----|--B--|--C--|-----|-----|-----|--E--|-----|-----|--G--|-----|-----|-----|--B--|--C--|-----|-----',\n",
       " 'E|-----|-----|--G--|-----|-----|-----|--B--|--C--|-----|-----|-----|--E--|-----|-----|--G--|-----|-----']"
      ]
     },
     "execution_count": 17,
     "metadata": {},
     "output_type": "execute_result"
    }
   ],
   "source": [
    "def strings_for_chord(base_note='C', quality='', kind='normal', tuning=['E', 'A', 'D', 'G', 'B', 'E']):\n",
    "    chord_nums = [modBase1(num, 12) for num in nums_for_quality(quality=quality, base_note=base_note)]\n",
    "    print(notes_for_nums(chord_nums, kind=kind))\n",
    "    lookup_fn = lambda num: num_to_note(num, kind=kind) if contains(chord_nums, modBase1(num, 12)) else ''\n",
    "    formatter_fn = lambda val: '{:-^5}'.format(val)\n",
    "    strings = []\n",
    "    for note in reversed(tuning):\n",
    "        strings.append(print_string(string_for(note), lookup_fn, formatter_fn))\n",
    "    return strings\n",
    "\n",
    "strings_for_chord(quality='maj7')"
   ]
  },
  {
   "cell_type": "code",
   "execution_count": 18,
   "metadata": {},
   "outputs": [
    {
     "name": "stdout",
     "output_type": "stream",
     "text": [
      "                            o           o                            oo                 o               \n"
     ]
    }
   ],
   "source": [
    "space = '{: ^5}'.format('')\n",
    "dot = '{: ^5}'.format('o')\n",
    "doubleDot = '{: ^5}'.format('oo')\n",
    "\n",
    "def dotsFor(frets=18):\n",
    "    acc = '  '\n",
    "    for i in range(1, frets):\n",
    "        if (\n",
    "            False\n",
    "            #or i == 3\n",
    "            or i == 5\n",
    "            or i == 7\n",
    "            or i == 15\n",
    "        ):\n",
    "            acc = acc + dot\n",
    "        elif (i == 12):\n",
    "            acc = acc + doubleDot\n",
    "        else:\n",
    "            acc = acc + space\n",
    "        acc = acc + ' '\n",
    "    return acc\n",
    "print(dotsFor())"
   ]
  },
  {
   "cell_type": "code",
   "execution_count": 19,
   "metadata": {},
   "outputs": [
    {
     "name": "stdout",
     "output_type": "stream",
     "text": [
      "    1     2     3     4     5     6     7     8     9     10    11    12    13    14    15    16    17  \n"
     ]
    }
   ],
   "source": [
    "def numsFor(frets=18):\n",
    "    acc = '  '\n",
    "    for i in range(1, frets):\n",
    "        acc = acc + '{: ^6}'.format(i)\n",
    "    return acc\n",
    "print(numsFor())"
   ]
  },
  {
   "cell_type": "code",
   "execution_count": 20,
   "metadata": {},
   "outputs": [
    {
     "name": "stdout",
     "output_type": "stream",
     "text": [
      "['C', 'E', 'G']\n"
     ]
    },
    {
     "data": {
      "text/plain": [
       "['E|-----|-----|--G--|-----|-----|-----|-----|--C--|-----|-----|-----|--E--|-----|-----|--G--|-----|-----',\n",
       " 'B|--C--|-----|-----|-----|--E--|-----|-----|--G--|-----|-----|-----|-----|--C--|-----|-----|-----|--E--',\n",
       " 'G|-----|-----|-----|-----|--C--|-----|-----|-----|--E--|-----|-----|--G--|-----|-----|-----|-----|--C--',\n",
       " 'D|-----|--E--|-----|-----|--G--|-----|-----|-----|-----|--C--|-----|-----|-----|--E--|-----|-----|--G--',\n",
       " 'A|-----|-----|--C--|-----|-----|-----|--E--|-----|-----|--G--|-----|-----|-----|-----|--C--|-----|-----',\n",
       " 'E|-----|-----|--G--|-----|-----|-----|-----|--C--|-----|-----|-----|--E--|-----|-----|--G--|-----|-----']"
      ]
     },
     "execution_count": 20,
     "metadata": {},
     "output_type": "execute_result"
    }
   ],
   "source": [
    "c7nums = nums_for_quality('maj7', base_note='D')\n",
    "\n",
    "\n",
    "def print_fretboard(strings, frets=18, dots=True, numbers=True):\n",
    "    guitar = ''\n",
    "    if (dots):\n",
    "        strings.append(dotsFor(frets))\n",
    "    if (numbers):\n",
    "        strings.insert(0, numsFor(frets))\n",
    "    for string in strings:\n",
    "        guitar = guitar + string + '\\n'\n",
    "    return guitar\n",
    "strings_for_chord()\n",
    "#print(print_fretboard(strings_for_chord()))"
   ]
  },
  {
   "cell_type": "code",
   "execution_count": 21,
   "metadata": {},
   "outputs": [
    {
     "name": "stdout",
     "output_type": "stream",
     "text": [
      "['D', 'F#', 'A', 'C#']\n",
      "    1     2     3     4     5     6     7     8     9     10    11    12    13    14    15    16    17  \n",
      "E|-----|-F#--|-----|-----|--A--|-----|-----|-----|-C#--|--D--|-----|-----|-----|-F#--|-----|-----|--A--\n",
      "B|-----|-C#--|--D--|-----|-----|-----|-F#--|-----|-----|--A--|-----|-----|-----|-C#--|--D--|-----|-----\n",
      "G|-----|--A--|-----|-----|-----|-C#--|--D--|-----|-----|-----|-F#--|-----|-----|--A--|-----|-----|-----\n",
      "D|-----|-----|-----|-F#--|-----|-----|--A--|-----|-----|-----|-C#--|--D--|-----|-----|-----|-F#--|-----\n",
      "A|-----|-----|-----|-C#--|--D--|-----|-----|-----|-F#--|-----|-----|--A--|-----|-----|-----|-C#--|--D--\n",
      "E|-----|-F#--|-----|-----|--A--|-----|-----|-----|-C#--|--D--|-----|-----|-----|-F#--|-----|-----|--A--\n",
      "                            o           o                            oo                 o               \n",
      "\n"
     ]
    }
   ],
   "source": [
    "print(print_fretboard(strings_for_chord(base_note='D', quality='maj7')))"
   ]
  },
  {
   "cell_type": "code",
   "execution_count": 22,
   "metadata": {},
   "outputs": [
    {
     "name": "stdout",
     "output_type": "stream",
     "text": [
      "['Eb', 'G', 'Db', 'Fb']\n",
      "    1     2     3     4     5     6     7     8     9     10    11    12    13    14    15    16    17  \n",
      "E|-----|-----|--G--|-----|-----|-----|-----|-----|-Db--|-----|-Eb--|-Fb--|-----|-----|--G--|-----|-----\n",
      "B|-----|-Db--|-----|-Eb--|-Fb--|-----|-----|--G--|-----|-----|-----|-----|-----|-Db--|-----|-Eb--|-Fb--\n",
      "G|-----|-----|-----|-----|-----|-Db--|-----|-Eb--|-Fb--|-----|-----|--G--|-----|-----|-----|-----|-----\n",
      "D|-Eb--|-Fb--|-----|-----|--G--|-----|-----|-----|-----|-----|-Db--|-----|-Eb--|-Fb--|-----|-----|--G--\n",
      "A|-----|-----|-----|-Db--|-----|-Eb--|-Fb--|-----|-----|--G--|-----|-----|-----|-----|-----|-Db--|-----\n",
      "E|-----|-----|--G--|-----|-----|-----|-----|-----|-Db--|-----|-Eb--|-Fb--|-----|-----|--G--|-----|-----\n",
      "                            o           o                            oo                 o               \n",
      "\n"
     ]
    }
   ],
   "source": [
    "print(print_fretboard(strings_for_chord(base_note='Eb', quality='7b9', kind='flat')))"
   ]
  },
  {
   "cell_type": "code",
   "execution_count": 23,
   "metadata": {},
   "outputs": [
    {
     "name": "stdout",
     "output_type": "stream",
     "text": [
      "['C', 'Fb', 'Bb', 'Db']\n",
      "    1     2     3     4     5     6     7     8     9     10    11    12    13    14    15    16    17  \n",
      "E|-----|-----|-----|-----|-----|-Bb--|-----|--C--|-Db--|-----|-----|-Fb--|-----|-----|-----|-----|-----\n",
      "B|--C--|-Db--|-----|-----|-Fb--|-----|-----|-----|-----|-----|-Bb--|-----|--C--|-Db--|-----|-----|-Fb--\n",
      "G|-----|-----|-Bb--|-----|--C--|-Db--|-----|-----|-Fb--|-----|-----|-----|-----|-----|-Bb--|-----|--C--\n",
      "D|-----|-Fb--|-----|-----|-----|-----|-----|-Bb--|-----|--C--|-Db--|-----|-----|-Fb--|-----|-----|-----\n",
      "A|-Bb--|-----|--C--|-Db--|-----|-----|-Fb--|-----|-----|-----|-----|-----|-Bb--|-----|--C--|-Db--|-----\n",
      "E|-----|-----|-----|-----|-----|-Bb--|-----|--C--|-Db--|-----|-----|-Fb--|-----|-----|-----|-----|-----\n",
      "                            o           o                            oo                 o               \n",
      "\n"
     ]
    }
   ],
   "source": [
    "print(print_fretboard(strings_for_chord(base_note='C', quality='7b9', kind='flat')))"
   ]
  },
  {
   "cell_type": "code",
   "execution_count": 27,
   "metadata": {},
   "outputs": [
    {
     "name": "stdout",
     "output_type": "stream",
     "text": [
      "['F', 'A', 'C', 'D']\n",
      "    1     2     3     4     5     6     7     8     9     10    11    12    13    14    15    16    17  \n",
      "E|--F--|-----|-----|-----|--A--|-----|-----|--C--|-----|--D--|-----|-----|--F--|-----|-----|-----|--A--\n",
      "B|--C--|-----|--D--|-----|-----|--F--|-----|-----|-----|--A--|-----|-----|--C--|-----|--D--|-----|-----\n",
      "G|-----|--A--|-----|-----|--C--|-----|--D--|-----|-----|--F--|-----|-----|-----|--A--|-----|-----|--C--\n",
      "D|-----|-----|--F--|-----|-----|-----|--A--|-----|-----|--C--|-----|--D--|-----|-----|--F--|-----|-----\n",
      "A|-----|-----|--C--|-----|--D--|-----|-----|--F--|-----|-----|-----|--A--|-----|-----|--C--|-----|--D--\n",
      "E|--F--|-----|-----|-----|--A--|-----|-----|--C--|-----|--D--|-----|-----|--F--|-----|-----|-----|--A--\n",
      "                            o           o                            oo                 o               \n",
      "\n"
     ]
    }
   ],
   "source": [
    "print(print_fretboard(strings_for_chord(base_note='F', quality='6', kind='flat')))"
   ]
  },
  {
   "cell_type": "code",
   "execution_count": 25,
   "metadata": {},
   "outputs": [
    {
     "data": {
      "text/plain": [
       "{1: {'chord-part': 'root'}, 5: {'chord-part': '3rd'}, 8: {'chord-part': '5th'}}"
      ]
     },
     "execution_count": 25,
     "metadata": {},
     "output_type": "execute_result"
    }
   ],
   "source": []
  },
  {
   "cell_type": "code",
   "execution_count": 26,
   "metadata": {},
   "outputs": [
    {
     "data": {
      "text/plain": [
       "[1, 5, 8]"
      ]
     },
     "execution_count": 26,
     "metadata": {},
     "output_type": "execute_result"
    }
   ],
   "source": [
    "nums_for_quality(base_note='C', quality='')"
   ]
  },
  {
   "cell_type": "code",
   "execution_count": null,
   "metadata": {
    "collapsed": true
   },
   "outputs": [],
   "source": []
  }
 ],
 "metadata": {
  "kernelspec": {
   "display_name": "Python 3",
   "language": "python",
   "name": "python3"
  },
  "language_info": {
   "codemirror_mode": {
    "name": "ipython",
    "version": 3
   },
   "file_extension": ".py",
   "mimetype": "text/x-python",
   "name": "python",
   "nbconvert_exporter": "python",
   "pygments_lexer": "ipython3",
   "version": "3.6.1"
  }
 },
 "nbformat": 4,
 "nbformat_minor": 2
}
