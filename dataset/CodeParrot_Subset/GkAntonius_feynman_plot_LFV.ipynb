{
  "nbformat_minor": 0, 
  "nbformat": 4, 
  "cells": [
    {
      "execution_count": null, 
      "cell_type": "code", 
      "source": [
        "%matplotlib inline"
      ], 
      "outputs": [], 
      "metadata": {
        "collapsed": false
      }
    }, 
    {
      "source": [
        "\nLFV\n===\n\nThe LFV diagram.\n\n"
      ], 
      "cell_type": "markdown", 
      "metadata": {}
    }, 
    {
      "execution_count": null, 
      "cell_type": "code", 
      "source": [
        "import matplotlib.pyplot as plt\nfrom feynman import Diagram\n\nfig = plt.figure(figsize=(10.,10.))\nax = fig.add_axes([0,0,1,1], frameon=False)\n\ndiagram = Diagram(ax)\nin1 = diagram.vertex(xy=(.1,.5))\nin2= diagram.vertex(xy=(.4,.5))\nv1 = diagram.vertex(xy=(.65,.65))\nv2 = diagram.vertex(xy=(.65,.35))\nout1 = diagram.vertex(xy=(.9,.65),marker='')\nout2 = diagram.vertex(xy=(.9,.35),marker='')\n\nhiggs = diagram.line(in1, in2, arrow=False, style='dashed')\nnu1 = diagram.line(v1, in2)\nnu2 = diagram.line(in2, v2)\nw = diagram.line(v1, v2, style='wiggly')\nlep = diagram.line(out1, v1)\ntau = diagram.line(v2, out2)\n\nnu1.text(r\"$\\nu_\\ell$\",fontsize=40)\nnu2.text(r\"$\\nu_\\tau$\",fontsize=40)\nlep.text(r\"$\\ell^+$\",fontsize=40)\ntau.text(r\"$\\tau^-$\",fontsize=40)\ndiagram.text(0.72,0.5,\"$W^\\pm$\",fontsize=40)\nhiggs.text(\"H\",fontsize=40)\n\ndiagram.plot()\nplt.show()"
      ], 
      "outputs": [], 
      "metadata": {
        "collapsed": false
      }
    }
  ], 
  "metadata": {
    "kernelspec": {
      "display_name": "Python 2", 
      "name": "python2", 
      "language": "python"
    }, 
    "language_info": {
      "mimetype": "text/x-python", 
      "nbconvert_exporter": "python", 
      "name": "python", 
      "file_extension": ".py", 
      "version": "2.7.10", 
      "pygments_lexer": "ipython2", 
      "codemirror_mode": {
        "version": 2, 
        "name": "ipython"
      }
    }
  }
}