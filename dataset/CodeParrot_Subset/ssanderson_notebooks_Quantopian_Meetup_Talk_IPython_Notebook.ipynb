{
 "metadata": {
  "kernelspec": {
   "codemirror_mode": {
    "name": "ipython",
    "version": 2
   },
   "display_name": "IPython (Python 2)",
   "language": "python",
   "name": "python2"
  },
  "name": "",
  "signature": "sha256:4c39b0f7509ced2c0a6f0beb3aafe86071b5cf2821358800807e15f39f7f9aef"
 },
 "nbformat": 3,
 "nbformat_minor": 0,
 "worksheets": [
  {
   "cells": [
    {
     "cell_type": "markdown",
     "metadata": {},
     "source": [
      "#IPython Notebook"
     ]
    },
    {
     "cell_type": "code",
     "collapsed": true,
     "input": [
      "# This is a python execution cell.\n",
      "# Anything you could do in a python shell or script, you can do here.\n",
      "\n",
      "# To execute a cell, type CTRL-Enter.\n",
      "# You can also type SHIFT-Enter to execute and move to the next cell,\n",
      "# and you can type OPTION-Enter to execute and insert a new cell below.\n",
      "\n",
      "def foo():\n",
      "    print \"IPython Notebook is Awesome!\"\n",
      "\n",
      "foo()\n",
      "\n",
      "# The last expression in a cell is always displayed as the cell's output when\n",
      "# it's executed.\n",
      "[1,2,3,4]"
     ],
     "language": "python",
     "metadata": {},
     "outputs": [
      {
       "output_type": "stream",
       "stream": "stdout",
       "text": [
        "IPython Notebook is Awesome!\n"
       ]
      },
      {
       "metadata": {},
       "output_type": "pyout",
       "prompt_number": 24,
       "text": [
        "[1, 2, 3, 4]"
       ]
      }
     ],
     "prompt_number": 24
    },
    {
     "cell_type": "raw",
     "metadata": {},
     "source": [
      "IPython Notebook supports more than just Python cells.  This is a raw text\n",
      "cell.  Use it to insert unformatted text between cells."
     ]
    },
    {
     "cell_type": "heading",
     "level": 1,
     "metadata": {},
     "source": [
      "This is a level 1 header cell."
     ]
    },
    {
     "cell_type": "heading",
     "level": 2,
     "metadata": {},
     "source": [
      "This is a level 2 header cell."
     ]
    },
    {
     "cell_type": "heading",
     "level": 3,
     "metadata": {},
     "source": [
      "This is a level 3 header cell."
     ]
    },
    {
     "cell_type": "heading",
     "level": 4,
     "metadata": {},
     "source": [
      "This is a level 4 header cell."
     ]
    },
    {
     "cell_type": "heading",
     "level": 5,
     "metadata": {},
     "source": [
      "This is a level 5 header cell."
     ]
    },
    {
     "cell_type": "heading",
     "level": 6,
     "metadata": {},
     "source": [
      "This is a level 6 header cell."
     ]
    },
    {
     "cell_type": "markdown",
     "metadata": {},
     "source": [
      "###This is a [Markdown](http://daringfireball.net/projects/markdown/) cell.\n",
      "\n",
      "> Markdown is a text-to-HTML conversion tool for web writers. Markdown allows\n",
      "  you to write using an easy-to-read, easy-to-write plain text format, then\n",
      "  convert it to structurally valid XHTML (or HTML). \n",
      "\n",
      "- Markdown supports bulleted lists.\n",
      "  - You can nest lists as deep as you want.\n",
      "    - List elements don't have to be text either.\n",
      "      - ![So much deeper!](http://static3.wikia.nocookie.net/__cb20130123200725/glee/images/6/6f/We-need-to-go-deeper_inception.jpg)\n",
      "  - Reasons to like Markdown:\n",
      "    1. It also supports numbered lists.\n",
      "    2. It has support for `code()` formatting.\n",
      "    3. You can embed arbitrary HTML\n",
      "       <table>\n",
      "         <tr><td>Such as,</td><td>for example,</td></tr>\n",
      "         <tr><td>a table.</td><td></td></tr>\n",
      "       </table>\n",
      "\n",
      "    4. It even has support for code blocks:\n",
      "\n",
      "            class  Monad m  where\n",
      "                (>>=)            :: m a -> (a -> m b) -> m b\n",
      "                (>>)             :: m a -> m b -> m b\n",
      "                return           :: a -> m a\n",
      "                fail             :: String -> m a\n",
      "                m >> k           =  m >>= \\_ -> k"
     ]
    },
    {
     "cell_type": "markdown",
     "metadata": {},
     "source": [
      "##Notebook Magics:\n",
      "**Most** of the magics that work in the `IPython` shell also work in the notebook.  Additionally, there are some magics that **only** work in the notebook.\n",
      "###Autocomplete and Inline Documentation\n",
      "  * Pressing the `TAB` key part of the way through a variable name autocompletes that name.\n",
      "  * Autocomplete also works on attributes (e.g. `pandas.DataF<TAB> -> pandas.DataFrame`).\n",
      "  * You can bring up documentation for a function or class inline with SHIFT+TAB"
     ]
    },
    {
     "cell_type": "markdown",
     "metadata": {},
     "source": [
      "####Execute this cell before trying the autocomplete examples in the next cell."
     ]
    },
    {
     "cell_type": "code",
     "collapsed": false,
     "input": [
      "import pandas\n",
      "class Point(object):\n",
      "    \"\"\"\n",
      "    A class-level docstring.\n",
      "    \"\"\"\n",
      "    def __init__(self, x, y=3):\n",
      "        \"\"\"\n",
      "        Constructor docstring. SHIFT+TAB will show you this first line.\n",
      "        \n",
      "        SHIFT + two TABs will show you the entire docstring.\n",
      "        \"\"\"\n",
      "        self.x, self.y = x, y\n",
      "        \n",
      "long_variable_name = Point(3,4)"
     ],
     "language": "python",
     "metadata": {},
     "outputs": [],
     "prompt_number": 25
    },
    {
     "cell_type": "markdown",
     "metadata": {},
     "source": [
      "####Try it out!"
     ]
    },
    {
     "cell_type": "code",
     "collapsed": false,
     "input": [
      "pan              # Pressing TAB here will autocomplete pandas.\n",
      "pandas.           # Pressing TAB here will show you the top-level attributes of pandas.\n",
      "pandas.D          # Pressing TAB here will show you DataFrame, DatetimeIndex, and DateOffset.\n",
      "pandas.DataFrame # Pressing TAB here will show you methods and attributes of DataFrame.\n",
      "\n",
      "long_variable_name             # Pressing TAB here will autocomplete long_variable_name\n",
      "\n",
      "                  # Hold SHIFT and press TAB with your cursor in \n",
      "x = Point(1,2)       # the parentheses to see info on how to make a Point object."
     ],
     "language": "python",
     "metadata": {},
     "outputs": [],
     "prompt_number": 26
    },
    {
     "cell_type": "markdown",
     "metadata": {},
     "source": [
      "###Documentation:\n",
      "  * Typing `<expression>?` shows the function signature and documentation for that expression.\n",
      "  * Typing `<expression>??` takes you to the source code for the expression.\n",
      "  * You can also use the `pinfo` and `pinfo2` magics to get the same info.\n",
      "  * **Notebook Only:** Press `SHIFT+TAB` while hovering over an object to open in-line documentation for that callable."
     ]
    },
    {
     "cell_type": "code",
     "collapsed": false,
     "input": [
      "pandas.DataFrame?"
     ],
     "language": "python",
     "metadata": {},
     "outputs": [],
     "prompt_number": 27
    },
    {
     "cell_type": "code",
     "collapsed": false,
     "input": [
      "pandas.DataFrame.plot??"
     ],
     "language": "python",
     "metadata": {},
     "outputs": [],
     "prompt_number": 29
    },
    {
     "cell_type": "code",
     "collapsed": false,
     "input": [
      "pandas.DataFrame.|plot"
     ],
     "language": "python",
     "metadata": {},
     "outputs": []
    },
    {
     "cell_type": "markdown",
     "metadata": {},
     "source": [
      "##Cell Magics\n",
      "In addition to all the magics we saw above, there are additional magics that operate at the cell level.  Many of these are focused around interoperation with other languages."
     ]
    },
    {
     "cell_type": "markdown",
     "metadata": {},
     "source": [
      "###Javascript"
     ]
    },
    {
     "cell_type": "code",
     "collapsed": false,
     "input": [
      "%%javascript\n",
      "alert('foo')"
     ],
     "language": "python",
     "metadata": {},
     "outputs": []
    },
    {
     "cell_type": "markdown",
     "metadata": {},
     "source": [
      "###R\n",
      "Some cell magics are provided by **extensions**.  Here we load the `rpy2`'s cell magic for interacting with `R`."
     ]
    },
    {
     "cell_type": "code",
     "collapsed": false,
     "input": [
      "%load_ext rpy2.ipython"
     ],
     "language": "python",
     "metadata": {},
     "outputs": [
      {
       "output_type": "stream",
       "stream": "stdout",
       "text": [
        "The rpy2.ipython extension is already loaded. To reload it, use:\n",
        "  %reload_ext rpy2.ipython\n"
       ]
      }
     ],
     "prompt_number": 31
    },
    {
     "cell_type": "code",
     "collapsed": false,
     "input": [
      "import pandas as pd\n",
      "import numpy as np\n",
      "\n",
      "df = pd.DataFrame(np.random.randn(10,5), columns=['A','B','C','D','E'])\n",
      "df"
     ],
     "language": "python",
     "metadata": {},
     "outputs": [
      {
       "html": [
        "<div style=\"max-height:1000px;max-width:1500px;overflow:auto;\">\n",
        "<table border=\"1\" class=\"dataframe\">\n",
        "  <thead>\n",
        "    <tr style=\"text-align: right;\">\n",
        "      <th></th>\n",
        "      <th>A</th>\n",
        "      <th>B</th>\n",
        "      <th>C</th>\n",
        "      <th>D</th>\n",
        "      <th>E</th>\n",
        "    </tr>\n",
        "  </thead>\n",
        "  <tbody>\n",
        "    <tr>\n",
        "      <th>0</th>\n",
        "      <td>-0.289653</td>\n",
        "      <td> 0.035397</td>\n",
        "      <td> 0.269596</td>\n",
        "      <td>-0.123346</td>\n",
        "      <td>-0.226254</td>\n",
        "    </tr>\n",
        "    <tr>\n",
        "      <th>1</th>\n",
        "      <td> 1.610621</td>\n",
        "      <td>-0.213442</td>\n",
        "      <td> 0.646168</td>\n",
        "      <td> 0.170514</td>\n",
        "      <td> 1.779766</td>\n",
        "    </tr>\n",
        "    <tr>\n",
        "      <th>2</th>\n",
        "      <td> 1.135251</td>\n",
        "      <td>-1.238080</td>\n",
        "      <td> 0.576340</td>\n",
        "      <td>-0.603030</td>\n",
        "      <td>-0.595476</td>\n",
        "    </tr>\n",
        "    <tr>\n",
        "      <th>3</th>\n",
        "      <td>-0.819130</td>\n",
        "      <td>-1.518475</td>\n",
        "      <td> 1.292778</td>\n",
        "      <td> 1.065084</td>\n",
        "      <td>-1.714239</td>\n",
        "    </tr>\n",
        "    <tr>\n",
        "      <th>4</th>\n",
        "      <td> 0.669536</td>\n",
        "      <td>-1.068135</td>\n",
        "      <td>-2.177952</td>\n",
        "      <td> 0.287773</td>\n",
        "      <td>-0.768615</td>\n",
        "    </tr>\n",
        "    <tr>\n",
        "      <th>5</th>\n",
        "      <td>-0.182392</td>\n",
        "      <td>-0.012740</td>\n",
        "      <td>-0.427951</td>\n",
        "      <td> 0.485842</td>\n",
        "      <td> 1.201008</td>\n",
        "    </tr>\n",
        "    <tr>\n",
        "      <th>6</th>\n",
        "      <td>-0.543909</td>\n",
        "      <td>-0.123381</td>\n",
        "      <td>-0.130659</td>\n",
        "      <td>-0.614535</td>\n",
        "      <td> 2.536462</td>\n",
        "    </tr>\n",
        "    <tr>\n",
        "      <th>7</th>\n",
        "      <td> 0.658801</td>\n",
        "      <td>-0.033578</td>\n",
        "      <td> 0.587168</td>\n",
        "      <td>-0.076015</td>\n",
        "      <td> 0.998674</td>\n",
        "    </tr>\n",
        "    <tr>\n",
        "      <th>8</th>\n",
        "      <td> 0.711228</td>\n",
        "      <td>-1.877669</td>\n",
        "      <td>-1.090271</td>\n",
        "      <td>-1.858527</td>\n",
        "      <td> 0.112624</td>\n",
        "    </tr>\n",
        "    <tr>\n",
        "      <th>9</th>\n",
        "      <td> 1.879868</td>\n",
        "      <td> 0.527192</td>\n",
        "      <td> 0.837595</td>\n",
        "      <td>-0.416209</td>\n",
        "      <td> 1.090820</td>\n",
        "    </tr>\n",
        "  </tbody>\n",
        "</table>\n",
        "</div>"
       ],
       "metadata": {},
       "output_type": "pyout",
       "prompt_number": 32,
       "text": [
        "          A         B         C         D         E\n",
        "0 -0.289653  0.035397  0.269596 -0.123346 -0.226254\n",
        "1  1.610621 -0.213442  0.646168  0.170514  1.779766\n",
        "2  1.135251 -1.238080  0.576340 -0.603030 -0.595476\n",
        "3 -0.819130 -1.518475  1.292778  1.065084 -1.714239\n",
        "4  0.669536 -1.068135 -2.177952  0.287773 -0.768615\n",
        "5 -0.182392 -0.012740 -0.427951  0.485842  1.201008\n",
        "6 -0.543909 -0.123381 -0.130659 -0.614535  2.536462\n",
        "7  0.658801 -0.033578  0.587168 -0.076015  0.998674\n",
        "8  0.711228 -1.877669 -1.090271 -1.858527  0.112624\n",
        "9  1.879868  0.527192  0.837595 -0.416209  1.090820"
       ]
      }
     ],
     "prompt_number": 32
    },
    {
     "cell_type": "code",
     "collapsed": false,
     "input": [
      "# Push our DataFrame into R.\n",
      "%Rpush df"
     ],
     "language": "python",
     "metadata": {},
     "outputs": [],
     "prompt_number": 33
    },
    {
     "cell_type": "code",
     "collapsed": false,
     "input": [
      "%%R\n",
      "# Despite also being valid python, this is actually R code!\n",
      "col_A = df['A']\n",
      "plot(col_A)"
     ],
     "language": "python",
     "metadata": {},
     "outputs": [
      {
       "metadata": {},
       "output_type": "display_data",
       "png": "[encoded data removed]"
      }
     ],
     "prompt_number": 34
    },
    {
     "cell_type": "code",
     "collapsed": false,
     "input": [
      "# We can also pull values back out of R!\n",
      "%Rpull col_A\n",
      "col_A"
     ],
     "language": "python",
     "metadata": {},
     "outputs": [
      {
       "html": [
        "<div style=\"max-height:1000px;max-width:1500px;overflow:auto;\">\n",
        "<table border=\"1\" class=\"dataframe\">\n",
        "  <thead>\n",
        "    <tr style=\"text-align: right;\">\n",
        "      <th></th>\n",
        "      <th>A</th>\n",
        "    </tr>\n",
        "  </thead>\n",
        "  <tbody>\n",
        "    <tr>\n",
        "      <th>0</th>\n",
        "      <td>-0.289653</td>\n",
        "    </tr>\n",
        "    <tr>\n",
        "      <th>1</th>\n",
        "      <td> 1.610621</td>\n",
        "    </tr>\n",
        "    <tr>\n",
        "      <th>2</th>\n",
        "      <td> 1.135251</td>\n",
        "    </tr>\n",
        "    <tr>\n",
        "      <th>3</th>\n",
        "      <td>-0.819130</td>\n",
        "    </tr>\n",
        "    <tr>\n",
        "      <th>4</th>\n",
        "      <td> 0.669536</td>\n",
        "    </tr>\n",
        "    <tr>\n",
        "      <th>5</th>\n",
        "      <td>-0.182392</td>\n",
        "    </tr>\n",
        "    <tr>\n",
        "      <th>6</th>\n",
        "      <td>-0.543909</td>\n",
        "    </tr>\n",
        "    <tr>\n",
        "      <th>7</th>\n",
        "      <td> 0.658801</td>\n",
        "    </tr>\n",
        "    <tr>\n",
        "      <th>8</th>\n",
        "      <td> 0.711228</td>\n",
        "    </tr>\n",
        "    <tr>\n",
        "      <th>9</th>\n",
        "      <td> 1.879868</td>\n",
        "    </tr>\n",
        "  </tbody>\n",
        "</table>\n",
        "</div>"
       ],
       "metadata": {},
       "output_type": "pyout",
       "prompt_number": 35,
       "text": [
        "          A\n",
        "0 -0.289653\n",
        "1  1.610621\n",
        "2  1.135251\n",
        "3 -0.819130\n",
        "4  0.669536\n",
        "5 -0.182392\n",
        "6 -0.543909\n",
        "7  0.658801\n",
        "8  0.711228\n",
        "9  1.879868"
       ]
      }
     ],
     "prompt_number": 35
    },
    {
     "cell_type": "markdown",
     "metadata": {},
     "source": [
      "##Builtin Rich Display Formats\n",
      "IPython supports a wide array of rich display formats, including:\n",
      "* LaTeX\n",
      "* Markdown\n",
      "* HTML\n",
      "* SVG\n",
      "* PNG\n",
      "\n",
      "...and more"
     ]
    },
    {
     "cell_type": "code",
     "collapsed": false,
     "input": [
      "import IPython.display\n",
      "dir(IPython.display)[:18]"
     ],
     "language": "python",
     "metadata": {},
     "outputs": [
      {
       "metadata": {},
       "output_type": "pyout",
       "prompt_number": 36,
       "text": [
        "['Audio',\n",
        " 'DisplayObject',\n",
        " 'FileLink',\n",
        " 'FileLinks',\n",
        " 'HTML',\n",
        " 'IFrame',\n",
        " 'Image',\n",
        " 'JSON',\n",
        " 'Javascript',\n",
        " 'Latex',\n",
        " 'Markdown',\n",
        " 'Math',\n",
        " 'Pretty',\n",
        " 'SVG',\n",
        " 'ScribdDocument',\n",
        " 'TextDisplayObject',\n",
        " 'VimeoVideo',\n",
        " 'YouTubeVideo']"
       ]
      }
     ],
     "prompt_number": 36
    },
    {
     "cell_type": "markdown",
     "metadata": {},
     "source": [
      "###LaTeX"
     ]
    },
    {
     "cell_type": "code",
     "collapsed": false,
     "input": [
      "from IPython.display import Math\n",
      "Math(r'w_A = \\frac{\\sigma_B - Cov(r_A, r_B)}{\\sigma_B^2 + \\sigma_A^2 - 2 Cov(r_A, r_B)}')"
     ],
     "language": "python",
     "metadata": {},
     "outputs": [
      {
       "latex": [
        "$$w_A = \\frac{\\sigma_B - Cov(r_A, r_B)}{\\sigma_B^2 + \\sigma_A^2 - 2 Cov(r_A, r_B)}$$"
       ],
       "metadata": {},
       "output_type": "pyout",
       "prompt_number": 37,
       "text": [
        "<IPython.core.display.Math object>"
       ]
      }
     ],
     "prompt_number": 37
    },
    {
     "cell_type": "markdown",
     "metadata": {},
     "source": [
      "###HTML"
     ]
    },
    {
     "cell_type": "code",
     "collapsed": false,
     "input": [
      "from IPython.display import HTML\n",
      "HTML('''\\\n",
      "To learn more about IPython's rich display capabilities, click\n",
      "<a href=\"http://ipython.org/ipython-doc/dev/config/integrating.html\">here</a>.\n",
      "''')"
     ],
     "language": "python",
     "metadata": {},
     "outputs": [
      {
       "html": [
        "To learn more about IPython's rich display capabilities, click\n",
        "<a href=\"http://ipython.org/ipython-doc/dev/config/integrating.html\">here</a>.\n"
       ],
       "metadata": {},
       "output_type": "pyout",
       "prompt_number": 38,
       "text": [
        "<IPython.core.display.HTML object>"
       ]
      }
     ],
     "prompt_number": 38
    },
    {
     "cell_type": "markdown",
     "metadata": {},
     "source": [
      "###YouTube Video"
     ]
    },
    {
     "cell_type": "code",
     "collapsed": false,
     "input": [
      "from IPython.display import YouTubeVideo\n",
      "YouTubeVideo(\"https://www.youtube.com/watch?v=B_XiSozs-SE\")"
     ],
     "language": "python",
     "metadata": {},
     "outputs": [
      {
       "html": [
        "\n",
        "        <iframe\n",
        "            width=\"400\"\n",
        "            height=300\"\n",
        "            src=\"https://www.youtube.com/embed/https://www.youtube.com/watch?v=B_XiSozs-SE\"\n",
        "            frameborder=\"0\"\n",
        "            allowfullscreen\n",
        "        ></iframe>\n",
        "        "
       ],
       "metadata": {},
       "output_type": "pyout",
       "prompt_number": 39,
       "text": [
        "<IPython.lib.display.YouTubeVideo at 0x10b1ec950>"
       ]
      }
     ],
     "prompt_number": 39
    },
    {
     "cell_type": "markdown",
     "metadata": {},
     "source": [
      "### Customizing Object Display\n",
      "If a class implements one of many `_repr_` methods, IPython will use that method to display the object."
     ]
    },
    {
     "cell_type": "code",
     "collapsed": false,
     "input": [
      "class Table(object):\n",
      "    \"\"\"\n",
      "    A simple table represented as a list of lists.\n",
      "    \"\"\"\n",
      "\n",
      "    def __init__(self, lists):\n",
      "        self.lists = lists\n",
      "        \n",
      "    def make_row(self, l):\n",
      "        columns = ''.join('<td>{value}</td>'.format(value=value) for value in l)\n",
      "        return '<tr>{columns}</tr>'.format(columns=columns)\n",
      "        \n",
      "    def _repr_html_(self):\n",
      "        rows = ''.join(self.make_row(l) for l in self.lists)\n",
      "        return \"<table>{rows}</table>\".format(rows=rows)"
     ],
     "language": "python",
     "metadata": {},
     "outputs": []
    },
    {
     "cell_type": "code",
     "collapsed": false,
     "input": [
      "Table(\n",
      "    [\n",
      "        [1,2,3], \n",
      "        [4,5,6]\n",
      "    ]\n",
      ")"
     ],
     "language": "python",
     "metadata": {},
     "outputs": []
    },
    {
     "cell_type": "markdown",
     "metadata": {},
     "source": [
      "##Further Reading:\n",
      "   * [UI Widgets](http://nbviewer.ipython.org/github/ipython/ipython/blob/2.x/examples/Interactive%20Widgets/Index.ipynb)\n",
      "   * [IPython Parallel](http://ipython.org/ipython-doc/dev/parallel)\n",
      "   * [IPython Extensions](http://ipython.org/ipython-doc/dev/config/extensions)\n",
      "   * [Custom Language Kernels](http://ipython.org/ipython-doc/dev/development/kernels.html)"
     ]
    }
   ],
   "metadata": {}
  }
 ]
}