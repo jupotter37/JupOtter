{
 "cells": [
  {
   "cell_type": "markdown",
   "metadata": {},
   "source": [
    "# Numpy\n",
    "\n",
    "The best part about Numpy is that, not only do we get massive speedups because numpy can perform many of its operations at the C-level, the vectorized api makes the code simpler and (to some extent more pythonic). The only *\"downside\"* is that we have to learn to write our code using *Numpy* idioms rather than *Python* idioms."
   ]
  },
  {
   "cell_type": "code",
   "execution_count": null,
   "metadata": {
    "ExecuteTime": {
     "end_time": "2017-08-30T00:15:32.545486Z",
     "start_time": "2017-08-30T00:15:30.003394Z"
    },
    "collapsed": true
   },
   "outputs": [],
   "source": [
    "%load_ext memory_profiler\n",
    "%load_ext snakeviz\n",
    "%load_ext cython\n",
    "import holoviews as hv\n",
    "hv.extension('bokeh','matplotlib')\n",
    "from IPython.core import debugger\n",
    "ist = debugger.set_trace"
   ]
  },
  {
   "cell_type": "markdown",
   "metadata": {},
   "source": [
    "We load in the position and box information created in the *intro* notebook. If you haven't run that notebook, this line will not work! (You don't have to read the wall of text, just run the cells...)"
   ]
  },
  {
   "cell_type": "code",
   "execution_count": null,
   "metadata": {
    "ExecuteTime": {
     "end_time": "2017-08-30T00:15:32.656785Z",
     "start_time": "2017-08-30T00:15:32.550680Z"
    },
    "collapsed": true
   },
   "outputs": [],
   "source": [
    "import numpy as np\n",
    "pos = np.loadtxt('data/positions.dat')\n",
    "box = np.loadtxt('data/box.dat')\n",
    "\n",
    "print('Read {:d} positions.'.format(pos.shape[0]))\n",
    "print('x min/max: {:+4.2f}/{:+4.2f}'.format(pos.min(0)[0],pos.max(0)[0]))\n",
    "print('y min/max: {:+4.2f}/{:+4.2f}'.format(pos.min(0)[1],pos.max(0)[1]))\n",
    "print('z min/max: {:+4.2f}/{:+4.2f}'.format(pos.min(0)[2],pos.max(0)[2]))"
   ]
  },
  {
   "cell_type": "markdown",
   "metadata": {},
   "source": [
    "## Round 1: Vectorized Operations\n",
    "\n",
    "We need to re-implement the potential energy function in numpy."
   ]
  },
  {
   "cell_type": "code",
   "execution_count": null,
   "metadata": {
    "ExecuteTime": {
     "end_time": "2017-08-30T00:15:33.160602Z",
     "start_time": "2017-08-30T00:15:33.150074Z"
    },
    "collapsed": true
   },
   "outputs": [],
   "source": [
    "import numpy as np\n",
    "\n",
    "def potentialEnergyFunk(r,width=1.0,height=10.0):\n",
    "    '''\n",
    "    Calculates the (soft) potential energy between two atoms\n",
    "    \n",
    "    Parameters\n",
    "    ----------\n",
    "    r: ndarray (float)\n",
    "        separation distances between two atoms\n",
    "    height: float\n",
    "        breadth of the potential i.e. where the potential goes to zero\n",
    "    width: float\n",
    "        strength/height of the potential\n",
    "    '''\n",
    "    U = np.zeros_like(r)\n",
    "    mask = (r<width) #only do calculation below the cutoff width\n",
    "    U[mask] = 0.5 * height * (1 + np.cos(np.pi*r[mask]/width))\n",
    "    return U"
   ]
  },
  {
   "cell_type": "markdown",
   "metadata": {},
   "source": [
    "We can plot the potential energy again just to make sure this function behaves as expected."
   ]
  },
  {
   "cell_type": "code",
   "execution_count": null,
   "metadata": {
    "ExecuteTime": {
     "end_time": "2017-08-30T00:15:35.030189Z",
     "start_time": "2017-08-30T00:15:34.699667Z"
    },
    "collapsed": true
   },
   "outputs": [],
   "source": [
    "%%opts Curve [width=600,show_grid=True,height=350]\n",
    "\n",
    "dr = 0.05          # spacing of r points\n",
    "rmax = 10.0        # maximum r value\n",
    "pts = int(rmax/dr) # number of r points\n",
    "r = np.arange(dr,rmax,dr)\n",
    "\n",
    "def plotFunk(width,height,label='dynamic'):\n",
    "    U = potentialEnergyFunk(r,width,height)\n",
    "    return hv.Curve((r,U),kdims=['Separation Distance'],vdims=['Potential Energy'],label=label)\n",
    "    \n",
    "dmap = hv.DynamicMap(plotFunk,kdims=['width','height'])\n",
    "dmap = dmap.redim.range(width=((1.0,10.0)),height=((1.0,5.0)))\n",
    "dmap*plotFunk(10.0,5.0,label='width: 10., height: 5.')*plotFunk(1.0,1.0,label='width: 1., height: 1.')"
   ]
  },
  {
   "cell_type": "code",
   "execution_count": null,
   "metadata": {
    "ExecuteTime": {
     "end_time": "2017-08-30T00:15:51.532633Z",
     "start_time": "2017-08-30T00:15:51.492086Z"
    },
    "collapsed": true
   },
   "outputs": [],
   "source": [
    "from math import sqrt\n",
    "\n",
    "def calcTotalEnergy1(pos,box):\n",
    "    '''\n",
    "    Parameters\n",
    "    ----------\n",
    "    pos: ndarray, size (N,3), (float)\n",
    "        array of cartesian coordinate positions\n",
    "    \n",
    "    box: ndarray, size (3), (float)\n",
    "        simulation box dimensions\n",
    "    '''\n",
    "    \n",
    "    #sanity check\n",
    "    assert box.shape[0] == 3\n",
    "    \n",
    "    # This next line is rather unpythonic but essentially it convinces\n",
    "    # numpy to perform a subtraction between the full Cartesian Product\n",
    "    # of the positions array\n",
    "    dr = np.abs(pos - pos[:,np.newaxis,:])\n",
    "    \n",
    "    #still need to apply periodic boundary conditions\n",
    "    dr = np.where(dr>box/2.0,dr-box,dr)\n",
    "        \n",
    "    dist = np.sqrt(np.sum(np.square(dr),axis=-1))\n",
    "    \n",
    "    # calculate the full N x N distance matrix\n",
    "    U = potentialEnergyFunk(dist)\n",
    "\n",
    "    # extract the upper triangle from U\n",
    "    U = np.triu(U,k=1) \n",
    "    \n",
    "    return U.sum()  "
   ]
  },
  {
   "cell_type": "markdown",
   "metadata": {},
   "source": [
    "Runtime profiling!"
   ]
  },
  {
   "cell_type": "code",
   "execution_count": null,
   "metadata": {
    "ExecuteTime": {
     "end_time": "2017-08-30T00:15:56.572902Z",
     "start_time": "2017-08-30T00:15:52.428708Z"
    },
    "collapsed": true,
    "scrolled": true
   },
   "outputs": [],
   "source": [
    "%%prun -D prof/numpy1.prof\n",
    "energy = calcTotalEnergy1(pos,box)"
   ]
  },
  {
   "cell_type": "code",
   "execution_count": null,
   "metadata": {
    "ExecuteTime": {
     "end_time": "2017-08-30T00:15:56.582627Z",
     "start_time": "2017-08-30T00:15:56.576481Z"
    },
    "collapsed": true
   },
   "outputs": [],
   "source": [
    "with open('energy/numpy1.dat','w') as f:\n",
    "    f.write('{}\\n'.format(energy))"
   ]
  },
  {
   "cell_type": "markdown",
   "metadata": {},
   "source": [
    "Memory profiling!"
   ]
  },
  {
   "cell_type": "code",
   "execution_count": null,
   "metadata": {
    "ExecuteTime": {
     "end_time": "2017-08-30T00:16:01.209853Z",
     "start_time": "2017-08-30T00:15:56.586241Z"
    },
    "collapsed": true
   },
   "outputs": [],
   "source": [
    "memprof = %memit -o calcTotalEnergy1(pos,box)\n",
    "\n",
    "usage = memprof.mem_usage[0]\n",
    "incr = memprof.mem_usage[0] - memprof.baseline\n",
    "with open('prof/numpy1.memprof','w') as f:\n",
    "    f.write('{}\\n{}\\n'.format(usage,incr))"
   ]
  },
  {
   "cell_type": "markdown",
   "metadata": {},
   "source": [
    "## Round 2: Less is More\n",
    "\n",
    "This is good, but can we do better? With this implementation, we are actually calculating twice as potential energies as we need to! Let's reimplement the above to see if we can speed up this function (and possible reduce the memory usage)."
   ]
  },
  {
   "cell_type": "code",
   "execution_count": null,
   "metadata": {
    "ExecuteTime": {
     "end_time": "2017-08-30T00:16:24.193335Z",
     "start_time": "2017-08-30T00:16:24.160733Z"
    },
    "collapsed": true
   },
   "outputs": [],
   "source": [
    "from math import sqrt\n",
    "\n",
    "def calcTotalEnergy2(pos,box):\n",
    "    '''\n",
    "    Parameters\n",
    "    ----------\n",
    "    pos: ndarray, size (N,3), (float)\n",
    "        array of cartesian coordinate positions\n",
    "    \n",
    "    box: ndarray, size (3), (float)\n",
    "        simulation box dimensions\n",
    "    '''\n",
    "    \n",
    "    #sanity check\n",
    "    assert box.shape[0] == 3\n",
    "    \n",
    "    # This next line is rather unpythonic but essentially it convinces\n",
    "    # numpy to perform a subtraction between the full Cartesian Product\n",
    "    # of the positions array\n",
    "    dr = np.abs(pos - pos[:,np.newaxis,:])\n",
    "    \n",
    "    #extract out upper triangle\n",
    "    dr = dr[np.triu_indices(dr.shape[0],k=1)]  #<<<<<<<\n",
    "    \n",
    "    #still need to apply periodic boundary conditions\n",
    "    dr = np.where(dr>box/2.0,dr-box,dr)\n",
    "        \n",
    "    dist = np.sqrt(np.sum(np.square(dr),axis=-1))\n",
    "    \n",
    "    # calculate the full N x N distance matrix\n",
    "    U = potentialEnergyFunk(dist)\n",
    "    \n",
    "    return U.sum()  "
   ]
  },
  {
   "cell_type": "code",
   "execution_count": null,
   "metadata": {
    "ExecuteTime": {
     "end_time": "2017-08-30T00:16:28.747268Z",
     "start_time": "2017-08-30T00:16:25.443587Z"
    },
    "collapsed": true,
    "scrolled": true
   },
   "outputs": [],
   "source": [
    "%%prun -D prof/numpy2.prof\n",
    "energy = calcTotalEnergy2(pos,box)"
   ]
  },
  {
   "cell_type": "code",
   "execution_count": null,
   "metadata": {
    "ExecuteTime": {
     "end_time": "2017-08-30T00:16:28.756777Z",
     "start_time": "2017-08-30T00:16:28.750706Z"
    },
    "collapsed": true
   },
   "outputs": [],
   "source": [
    "with open('energy/numpy2.dat','w') as f:\n",
    "    f.write('{}\\n'.format(energy))"
   ]
  },
  {
   "cell_type": "markdown",
   "metadata": {},
   "source": [
    "Memory profiling!"
   ]
  },
  {
   "cell_type": "code",
   "execution_count": null,
   "metadata": {
    "ExecuteTime": {
     "end_time": "2017-08-30T00:16:32.765765Z",
     "start_time": "2017-08-30T00:16:28.760516Z"
    },
    "collapsed": true
   },
   "outputs": [],
   "source": [
    "memprof = %memit -o calcTotalEnergy2(pos,box)\n",
    "\n",
    "usage = memprof.mem_usage[0]\n",
    "incr = memprof.mem_usage[0] - memprof.baseline\n",
    "with open('prof/numpy2.memprof','w') as f:\n",
    "    f.write('{}\\n{}\\n'.format(usage,incr))"
   ]
  },
  {
   "cell_type": "code",
   "execution_count": null,
   "metadata": {
    "collapsed": true
   },
   "outputs": [],
   "source": []
  }
 ],
 "metadata": {
  "kernelspec": {
   "display_name": "Python 3",
   "language": "python",
   "name": "python3"
  },
  "language_info": {
   "codemirror_mode": {
    "name": "ipython",
    "version": 3
   },
   "file_extension": ".py",
   "mimetype": "text/x-python",
   "name": "python",
   "nbconvert_exporter": "python",
   "pygments_lexer": "ipython3",
   "version": "3.5.3"
  }
 },
 "nbformat": 4,
 "nbformat_minor": 2
}
