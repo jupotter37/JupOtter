{
 "cells": [
  {
   "cell_type": "markdown",
   "metadata": {},
   "source": [
    "# Paillier Encrypted Linear Classification Example\n",
    "\n",
    "DISCLAIMER: This is a proof-of-concept implementation. It does not represent a remotely product ready implementation or follow proper conventions for security, convenience, or scalability. It is part of a broader proof-of-concept demonstrating the vision of the OpenMined project, its major moving parts, and how they might work together.\n"
   ]
  },
  {
   "cell_type": "code",
   "execution_count": 1,
   "metadata": {
    "collapsed": true
   },
   "outputs": [],
   "source": [
    "from syft.he.Paillier import KeyPair\n",
    "from syft.nn.linear import LinearClassifier\n",
    "import numpy as np"
   ]
  },
  {
   "cell_type": "code",
   "execution_count": 2,
   "metadata": {
    "collapsed": true
   },
   "outputs": [],
   "source": [
    "pubkey,prikey = KeyPair().generate(n_length=1024)"
   ]
  },
  {
   "cell_type": "code",
   "execution_count": 3,
   "metadata": {
    "collapsed": true
   },
   "outputs": [],
   "source": [
    "model = LinearClassifier(n_inputs=4,n_labels=2).encrypt(pubkey)"
   ]
  },
  {
   "cell_type": "code",
   "execution_count": 4,
   "metadata": {
    "collapsed": true
   },
   "outputs": [],
   "source": [
    "input = np.array([[0,0,1,1],[0,0,1,0],[1,0,1,1],[0,0,1,0]])\n",
    "target = np.array([[0,1],[0,0],[1,1],[0,0]])"
   ]
  },
  {
   "cell_type": "code",
   "execution_count": 5,
   "metadata": {},
   "outputs": [
    {
     "name": "stdout",
     "output_type": "stream",
     "text": [
      "Grads:[[e e]\n",
      " [e e]\n",
      " [e e]\n",
      " [e e]]\n",
      "Grads:[[e e]\n",
      " [e e]\n",
      " [e e]\n",
      " [e e]]\n",
      "Grads:[[e e]\n",
      " [e e]\n",
      " [e e]\n",
      " [e e]]\n",
      "Grads:[[e e]\n",
      " [e e]\n",
      " [e e]\n",
      " [e e]]\n",
      "Grads:[[e e]\n",
      " [e e]\n",
      " [e e]\n",
      " [e e]]\n",
      "Grads:[[e e]\n",
      " [e e]\n",
      " [e e]\n",
      " [e e]]\n",
      "Grads:[[e e]\n",
      " [e e]\n",
      " [e e]\n",
      " [e e]]\n",
      "Grads:[[e e]\n",
      " [e e]\n",
      " [e e]\n",
      " [e e]]\n",
      "Grads:[[e e]\n",
      " [e e]\n",
      " [e e]\n",
      " [e e]]\n",
      "Grads:[[e e]\n",
      " [e e]\n",
      " [e e]\n",
      " [e e]]\n",
      "Grads:[[e e]\n",
      " [e e]\n",
      " [e e]\n",
      " [e e]]\n",
      "Grads:[[e e]\n",
      " [e e]\n",
      " [e e]\n",
      " [e e]]\n",
      "Grads:[[e e]\n",
      " [e e]\n",
      " [e e]\n",
      " [e e]]\n",
      "Grads:[[e e]\n",
      " [e e]\n",
      " [e e]\n",
      " [e e]]\n",
      "Grads:[[e e]\n",
      " [e e]\n",
      " [e e]\n",
      " [e e]]\n",
      "Grads:[[e e]\n",
      " [e e]\n",
      " [e e]\n",
      " [e e]]\n"
     ]
    }
   ],
   "source": [
    "for iter in range(4):\n",
    "    for i in range(len(input)):\n",
    "        print(\"Grads:\" + str((model.learn(input=input[i],target=target[i],alpha=0.5))))"
   ]
  },
  {
   "cell_type": "code",
   "execution_count": 6,
   "metadata": {
    "collapsed": true
   },
   "outputs": [],
   "source": [
    "model = model.decrypt(prikey)"
   ]
  },
  {
   "cell_type": "code",
   "execution_count": 7,
   "metadata": {},
   "outputs": [
    {
     "name": "stdout",
     "output_type": "stream",
     "text": [
      "[0.17156982421875 0.8747100830078125]\n",
      "[0.00225830078125 0.0154266357421875]\n",
      "[1.05718994140625 0.9582366943359375]\n",
      "[0.00225830078125 0.0154266357421875]\n"
     ]
    }
   ],
   "source": [
    "for i in range(len(input)):\n",
    "    print(model.forward(input[i]))"
   ]
  },
  {
   "cell_type": "code",
   "execution_count": null,
   "metadata": {
    "collapsed": true
   },
   "outputs": [],
   "source": []
  },
  {
   "cell_type": "code",
   "execution_count": null,
   "metadata": {
    "collapsed": true
   },
   "outputs": [],
   "source": []
  }
 ],
 "metadata": {
  "kernelspec": {
   "display_name": "Python 3",
   "language": "python",
   "name": "python3"
  },
  "language_info": {
   "codemirror_mode": {
    "name": "ipython",
    "version": 3
   },
   "file_extension": ".py",
   "mimetype": "text/x-python",
   "name": "python",
   "nbconvert_exporter": "python",
   "pygments_lexer": "ipython3",
   "version": "3.6.1"
  }
 },
 "nbformat": 4,
 "nbformat_minor": 2
}
