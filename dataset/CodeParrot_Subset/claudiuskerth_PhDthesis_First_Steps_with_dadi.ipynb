{
 "cells": [
  {
   "cell_type": "code",
   "execution_count": 1,
   "metadata": {
    "collapsed": true
   },
   "outputs": [],
   "source": [
    "import sys"
   ]
  },
  {
   "cell_type": "code",
   "execution_count": 2,
   "metadata": {
    "collapsed": false
   },
   "outputs": [
    {
     "data": {
      "text/plain": [
       "['',\n",
       " '/usr/local/anaconda2/lib/python27.zip',\n",
       " '/usr/local/anaconda2/lib/python2.7',\n",
       " '/usr/local/anaconda2/lib/python2.7/plat-linux2',\n",
       " '/usr/local/anaconda2/lib/python2.7/lib-tk',\n",
       " '/usr/local/anaconda2/lib/python2.7/lib-old',\n",
       " '/usr/local/anaconda2/lib/python2.7/lib-dynload',\n",
       " '/usr/local/anaconda2/lib/python2.7/site-packages/Sphinx-1.3.5-py2.7.egg',\n",
       " '/usr/local/anaconda2/lib/python2.7/site-packages/setuptools-20.3-py2.7.egg',\n",
       " '/usr/local/anaconda2/lib/python2.7/site-packages',\n",
       " '/usr/local/anaconda2/lib/python2.7/site-packages/IPython/extensions',\n",
       " '/home/claudius/.ipython']"
      ]
     },
     "execution_count": 2,
     "metadata": {},
     "output_type": "execute_result"
    }
   ],
   "source": [
    "sys.path"
   ]
  },
  {
   "cell_type": "code",
   "execution_count": 3,
   "metadata": {
    "collapsed": true
   },
   "outputs": [],
   "source": [
    "import os"
   ]
  },
  {
   "cell_type": "code",
   "execution_count": 4,
   "metadata": {
    "collapsed": false
   },
   "outputs": [
    {
     "data": {
      "text/plain": [
       "'/data3/claudius/Big_Data/DADI/dadiExercises'"
      ]
     },
     "execution_count": 4,
     "metadata": {},
     "output_type": "execute_result"
    }
   ],
   "source": [
    "os.getcwd()"
   ]
  },
  {
   "cell_type": "markdown",
   "metadata": {},
   "source": [
    "I have cloned the $\\delta$a$\\delta$i repository into '/home/claudius/Downloads/dadi' and have compiled the code. Now I need to add that directory to the PYTHONPATH variable:"
   ]
  },
  {
   "cell_type": "code",
   "execution_count": 5,
   "metadata": {
    "collapsed": true
   },
   "outputs": [],
   "source": [
    "sys.path.insert(0, '/home/claudius/Downloads/dadi')"
   ]
  },
  {
   "cell_type": "code",
   "execution_count": 6,
   "metadata": {
    "collapsed": false
   },
   "outputs": [
    {
     "data": {
      "text/plain": [
       "['/home/claudius/Downloads/dadi',\n",
       " '',\n",
       " '/usr/local/anaconda2/lib/python27.zip',\n",
       " '/usr/local/anaconda2/lib/python2.7',\n",
       " '/usr/local/anaconda2/lib/python2.7/plat-linux2',\n",
       " '/usr/local/anaconda2/lib/python2.7/lib-tk',\n",
       " '/usr/local/anaconda2/lib/python2.7/lib-old',\n",
       " '/usr/local/anaconda2/lib/python2.7/lib-dynload',\n",
       " '/usr/local/anaconda2/lib/python2.7/site-packages/Sphinx-1.3.5-py2.7.egg',\n",
       " '/usr/local/anaconda2/lib/python2.7/site-packages/setuptools-20.3-py2.7.egg',\n",
       " '/usr/local/anaconda2/lib/python2.7/site-packages',\n",
       " '/usr/local/anaconda2/lib/python2.7/site-packages/IPython/extensions',\n",
       " '/home/claudius/.ipython']"
      ]
     },
     "execution_count": 6,
     "metadata": {},
     "output_type": "execute_result"
    }
   ],
   "source": [
    "sys.path"
   ]
  },
  {
   "cell_type": "markdown",
   "metadata": {},
   "source": [
    "Now, I should be able to import $\\delta$a$\\delta$i"
   ]
  },
  {
   "cell_type": "code",
   "execution_count": 7,
   "metadata": {
    "collapsed": false
   },
   "outputs": [],
   "source": [
    "import dadi"
   ]
  },
  {
   "cell_type": "code",
   "execution_count": 8,
   "metadata": {
    "collapsed": false
   },
   "outputs": [
    {
     "data": {
      "text/plain": [
       "['Demographics1D',\n",
       " 'Demographics2D',\n",
       " 'Godambe',\n",
       " 'Inference',\n",
       " 'Integration',\n",
       " 'Misc',\n",
       " 'Numerics',\n",
       " 'PhiManip',\n",
       " 'Plotting',\n",
       " 'Spectrum',\n",
       " 'Spectrum_mod',\n",
       " 'Triallele',\n",
       " '__builtins__',\n",
       " '__doc__',\n",
       " '__file__',\n",
       " '__name__',\n",
       " '__package__',\n",
       " '__path__',\n",
       " 'integration_c',\n",
       " 'logging',\n",
       " 'numpy',\n",
       " 'tridiag']"
      ]
     },
     "execution_count": 8,
     "metadata": {},
     "output_type": "execute_result"
    }
   ],
   "source": [
    "dir(dadi)"
   ]
  },
  {
   "cell_type": "code",
   "execution_count": 9,
   "metadata": {
    "collapsed": true
   },
   "outputs": [],
   "source": [
    "import pylab"
   ]
  },
  {
   "cell_type": "code",
   "execution_count": 10,
   "metadata": {
    "collapsed": true
   },
   "outputs": [],
   "source": [
    "%matplotlib inline"
   ]
  },
  {
   "cell_type": "code",
   "execution_count": 11,
   "metadata": {
    "collapsed": true
   },
   "outputs": [],
   "source": [
    "x = pylab.linspace(0, 4*pylab.pi, 1000)"
   ]
  },
  {
   "cell_type": "code",
   "execution_count": 12,
   "metadata": {
    "collapsed": false
   },
   "outputs": [
    {
     "data": {
      "text/plain": [
       "[<matplotlib.lines.Line2D at 0x7fe7ae0b8a50>]"
      ]
     },
     "execution_count": 12,
     "metadata": {},
     "output_type": "execute_result"
    },
    {
     "data": {
      "image/png": "[encoded data removed]",
      "text/plain": [
       "<matplotlib.figure.Figure at 0x7fe7d4ecd5d0>"
      ]
     },
     "metadata": {},
     "output_type": "display_data"
    }
   ],
   "source": [
    "pylab.plot(x, pylab.sin(x), '-r')"
   ]
  },
  {
   "cell_type": "code",
   "execution_count": 13,
   "metadata": {
    "collapsed": false
   },
   "outputs": [
    {
     "name": "stdout",
     "output_type": "stream",
     "text": [
      "ERY.FOLDED.sfs\n",
      "ERY.FOLDED.sfs.dadi_format\n",
      "ERY.FOLDED.sfs.dadi_format~\n",
      "EryPar.unfolded.2dsfs\n",
      "EryPar.unfolded.2dsfs.dadi_format\n",
      "EryPar.unfolded.2dsfs.dadi_format~\n",
      "examples\n",
      "example_YRI_CEU.ipynb\n",
      "First_Steps_with_dadi.ipynb\n",
      "new.bib\n",
      "PAR.FOLDED.sfs\n",
      "PAR.FOLDED.sfs.dadi_format\n",
      "PAR.FOLDED.sfs.dadi_format~\n"
     ]
    }
   ],
   "source": [
    "%%sh \n",
    "# this allows me to execute a shell command\n",
    "\n",
    "ls"
   ]
  },
  {
   "cell_type": "markdown",
   "metadata": {},
   "source": [
    "I have turned the 1D folded SFS's from `realSFS` into $\\delta$d$\\delta$i format by hand according to the description in section 3.1 of the manual. I have left out the masking line from the input file."
   ]
  },
  {
   "cell_type": "code",
   "execution_count": 14,
   "metadata": {
    "collapsed": false
   },
   "outputs": [],
   "source": [
    "fs_ery = dadi.Spectrum.from_file('ERY.FOLDED.sfs.dadi_format')"
   ]
  },
  {
   "cell_type": "code",
   "execution_count": 15,
   "metadata": {
    "collapsed": false
   },
   "outputs": [
    {
     "data": {
      "text/plain": [
       "Spectrum([-- 7833.03869 7414.699839 4109.279415 3614.717256 3095.973324 2031.460887\n",
       " 1584.656928 2583.652317 1142.075255 1052.346021 1765.773415 1255.138799\n",
       " 1072.516527 1417.916128 395.75047 1947.087637 367.072082 --], folded=True, pop_ids=None)"
      ]
     },
     "execution_count": 15,
     "metadata": {},
     "output_type": "execute_result"
    }
   ],
   "source": [
    "fs_ery"
   ]
  },
  {
   "cell_type": "markdown",
   "metadata": {},
   "source": [
    "$\\delta$a$\\delta$i is detecting that the spectrum is folded (as given in the input file), but it is also automatically masking the 0th and 18th count category. This is a not a good behaviour."
   ]
  },
  {
   "cell_type": "code",
   "execution_count": 16,
   "metadata": {
    "collapsed": false
   },
   "outputs": [
    {
     "data": {
      "text/plain": [
       "43649.777914000006"
      ]
     },
     "execution_count": 16,
     "metadata": {},
     "output_type": "execute_result"
    }
   ],
   "source": [
    "# number of segregating sites\n",
    "\n",
    "fs_ery.data[1:].sum()"
   ]
  },
  {
   "cell_type": "markdown",
   "metadata": {},
   "source": [
    "## Single population statistics"
   ]
  },
  {
   "cell_type": "markdown",
   "metadata": {},
   "source": [
    "### $\\pi$"
   ]
  },
  {
   "cell_type": "code",
   "execution_count": 17,
   "metadata": {
    "collapsed": false
   },
   "outputs": [
    {
     "data": {
      "text/plain": [
       "13545.692898679737"
      ]
     },
     "execution_count": 17,
     "metadata": {},
     "output_type": "execute_result"
    }
   ],
   "source": [
    "fs_ery.pi()"
   ]
  },
  {
   "cell_type": "markdown",
   "metadata": {},
   "source": [
    "I have next added a masking line to the input file, setting it to '1' for the first position, i. e. the 0-count category."
   ]
  },
  {
   "cell_type": "code",
   "execution_count": 18,
   "metadata": {
    "collapsed": true
   },
   "outputs": [],
   "source": [
    "fs_ery = dadi.Spectrum.from_file('ERY.FOLDED.sfs.dadi_format', mask_corners=False)"
   ]
  },
  {
   "cell_type": "markdown",
   "metadata": {},
   "source": [
    "$\\delta$a$\\delta$i is issuing the following message when executing the above command:\n",
    "\n",
    "`WARNING:Spectrum_mod:Creating Spectrum with data_folded = True, but mask is not True for all entries which are nonsensical for a folded Spectrum.`"
   ]
  },
  {
   "cell_type": "code",
   "execution_count": 19,
   "metadata": {
    "collapsed": false
   },
   "outputs": [
    {
     "data": {
      "text/plain": [
       "Spectrum([-- 7833.03869 7414.699839 4109.279415 3614.717256 3095.973324 2031.460887\n",
       " 1584.656928 2583.652317 1142.075255 1052.346021 1765.773415 1255.138799\n",
       " 1072.516527 1417.916128 395.75047 1947.087637 367.072082 966.622924], folded=True, pop_ids=None)"
      ]
     },
     "execution_count": 19,
     "metadata": {},
     "output_type": "execute_result"
    }
   ],
   "source": [
    "fs_ery"
   ]
  },
  {
   "cell_type": "markdown",
   "metadata": {},
   "source": [
    "I do not understand this warning from $\\delta$a$\\delta$i. The 18-count category is sensical for a folded spectrum with even sample size, so should not be masked. Anyway, I do not understand why $\\delta$a$\\delta$i is so reluctant to keep all positions, including the non-variable one."
   ]
  },
  {
   "cell_type": "code",
   "execution_count": 20,
   "metadata": {
    "collapsed": false
   },
   "outputs": [
    {
     "data": {
      "text/plain": [
       "13545.692898679737"
      ]
     },
     "execution_count": 20,
     "metadata": {},
     "output_type": "execute_result"
    }
   ],
   "source": [
    "fs_ery.pi()"
   ]
  },
  {
   "cell_type": "markdown",
   "metadata": {},
   "source": [
    "The function that returns $\\pi$ produces the same output with or without the last count category masked ?! I think that is because even if the last count class (966.62...) is masked, it is still included in the calculation of $\\pi$. However, there is no obvious unmasking in the `pi` function. Strange!"
   ]
  },
  {
   "cell_type": "markdown",
   "metadata": {},
   "source": [
    "There are (at least) two formulas that allow the calculation of $\\pi$ from a folded sample allele frequency spectrum. One is given in Wakeley2009, p.16, equation (1.4):\n",
    "$$\n",
    "\\pi = \\frac{1}{n \\choose 2} \\sum_{i=1}^{n/2} i(n-i)\\eta_{i}\n",
    "$$\n",
    "Here, $n$ is the number of sequences and $\\eta_{i}$ is the SNP count in the i'th minor sample allele frequency class.\n",
    "\n",
    "The other formula is on p. 45 in Gillespie \"Population Genetics - A concise guide\":\n",
    "$$\n",
    "\\hat{\\pi} = \\frac{n}{n-1} \\sum_{i=1}^{S_{n}} 2 \\hat{p_{i}}(1-\\hat{p_{i}})\n",
    "$$\n",
    "This is the formula that $\\delta$a$\\delta$i's `pi` function uses, with the modification that it multiplies each $\\hat{p_{i}}$ by the count in the i'th class of the SFS, i. e. the sum is not over all SNP's but over all SNP frequency classes."
   ]
  },
  {
   "cell_type": "code",
   "execution_count": 21,
   "metadata": {
    "collapsed": false
   },
   "outputs": [
    {
     "data": {
      "text/plain": [
       "0.0065187712427359126"
      ]
     },
     "execution_count": 21,
     "metadata": {},
     "output_type": "execute_result"
    }
   ],
   "source": [
    "# Calcualting pi with the formula from Wakeley2009\n",
    "\n",
    "n = 36 # 36 sequences sampled from 18 diploid individuals\n",
    "pi_Wakeley = (sum( [i*(n-i)*fs_ery[i] for i in range(1, n/2+1)] ) * 2.0 / (n*(n-1)))/pylab.sum(fs_ery.data)\n",
    "# note fs_ery.data gets the whole fs_ery list, including masked entries\n",
    "pi_Wakeley"
   ]
  },
  {
   "cell_type": "markdown",
   "metadata": {},
   "source": [
    "This is the value of $\\pi_{site}$ that I calculated previously and included in the first draft of the thesis."
   ]
  },
  {
   "cell_type": "code",
   "execution_count": 22,
   "metadata": {
    "collapsed": false
   },
   "outputs": [
    {
     "data": {
      "text/plain": [
       "array([ True, False, False, False, False, False, False, False, False,\n",
       "       False, False, False, False, False, False, False, False, False, False], dtype=bool)"
      ]
     },
     "execution_count": 22,
     "metadata": {},
     "output_type": "execute_result"
    }
   ],
   "source": [
    "fs_ery.mask"
   ]
  },
  {
   "cell_type": "code",
   "execution_count": 23,
   "metadata": {
    "collapsed": false
   },
   "outputs": [
    {
     "data": {
      "text/plain": [
       "array([  1.59481822e+06,   7.83303869e+03,   7.41469984e+03,\n",
       "         4.10927941e+03,   3.61471726e+03,   3.09597332e+03,\n",
       "         2.03146089e+03,   1.58465693e+03,   2.58365232e+03,\n",
       "         1.14207525e+03,   1.05234602e+03,   1.76577342e+03,\n",
       "         1.25513880e+03,   1.07251653e+03,   1.41791613e+03,\n",
       "         3.95750470e+02,   1.94708764e+03,   3.67072082e+02,\n",
       "         9.66622924e+02])"
      ]
     },
     "execution_count": 23,
     "metadata": {},
     "output_type": "execute_result"
    }
   ],
   "source": [
    "fs_ery.data # gets all data, including the masked one"
   ]
  },
  {
   "cell_type": "code",
   "execution_count": 24,
   "metadata": {
    "collapsed": false
   },
   "outputs": [
    {
     "data": {
      "text/plain": [
       "array([ 0.        ,  0.05555556,  0.11111111,  0.16666667,  0.22222222,\n",
       "        0.27777778,  0.33333333,  0.38888889,  0.44444444,  0.5       ,\n",
       "        0.55555556,  0.61111111,  0.66666667,  0.72222222,  0.77777778,\n",
       "        0.83333333,  0.88888889,  0.94444444,  1.        ])"
      ]
     },
     "execution_count": 24,
     "metadata": {},
     "output_type": "execute_result"
    }
   ],
   "source": [
    "# Calculating pi with the formula from Gillespie:\n",
    "\n",
    "n = 18 \n",
    "p = pylab.arange(0, n+1)/float(n)\n",
    "p"
   ]
  },
  {
   "cell_type": "code",
   "execution_count": 25,
   "metadata": {
    "collapsed": false
   },
   "outputs": [
    {
     "data": {
      "text/plain": [
       "13545.692898679737"
      ]
     },
     "execution_count": 25,
     "metadata": {},
     "output_type": "execute_result"
    }
   ],
   "source": [
    "# Calculating pi with the formula from Gillespie:\n",
    "\n",
    "n / (n-1.0) * 2 * pylab.sum(fs_ery * p*(1-p))"
   ]
  },
  {
   "cell_type": "markdown",
   "metadata": {},
   "source": [
    "This is the same as the output of dadi's `pi` function on the same SFS. "
   ]
  },
  {
   "cell_type": "code",
   "execution_count": 26,
   "metadata": {
    "collapsed": false
   },
   "outputs": [
    {
     "data": {
      "text/plain": [
       "18"
      ]
     },
     "execution_count": 26,
     "metadata": {},
     "output_type": "execute_result"
    }
   ],
   "source": [
    "# the sample size (n) that dadi stores in this spectrum object and uses as n in the pi function\n",
    "fs_ery.sample_sizes[0]"
   ]
  },
  {
   "cell_type": "code",
   "execution_count": 27,
   "metadata": {
    "collapsed": false
   },
   "outputs": [
    {
     "data": {
      "text/plain": [
       "1638467.9999990002"
      ]
     },
     "execution_count": 27,
     "metadata": {},
     "output_type": "execute_result"
    }
   ],
   "source": [
    "# what is the total number of sites in the spectrum\n",
    "pylab.sum(fs_ery.data)"
   ]
  },
  {
   "cell_type": "markdown",
   "metadata": {},
   "source": [
    "So, 1.6 million sites went into the ery spectrum."
   ]
  },
  {
   "cell_type": "code",
   "execution_count": 28,
   "metadata": {
    "collapsed": false
   },
   "outputs": [
    {
     "data": {
      "text/plain": [
       "0.0082672917009596787"
      ]
     },
     "execution_count": 28,
     "metadata": {},
     "output_type": "execute_result"
    }
   ],
   "source": [
    "# pi per site\n",
    "n / (n-1.0) * 2 * pylab.sum(fs_ery * p*(1-p)) / pylab.sum(fs_ery.data)"
   ]
  },
  {
   "cell_type": "markdown",
   "metadata": {},
   "source": [
    "Apart from the incorrect small sample size correction by $\\delta$a$\\delta$i in case of folded spectra ($n$ refers to sampled sequences, not individuals), Gillespie's formula leads to a much higher estimate of $\\pi_{site}$ than Wakeley's. Why is that?"
   ]
  },
  {
   "cell_type": "code",
   "execution_count": 29,
   "metadata": {
    "collapsed": false
   },
   "outputs": [
    {
     "data": {
      "text/plain": [
       "0.0080310833666465443"
      ]
     },
     "execution_count": 29,
     "metadata": {},
     "output_type": "execute_result"
    }
   ],
   "source": [
    "# with correct small sample size correction\n",
    "2 * n / (2* n-1.0) * 2 * pylab.sum(fs_ery * p*(1-p)) / pylab.sum(fs_ery.data)"
   ]
  },
  {
   "cell_type": "code",
   "execution_count": 30,
   "metadata": {
    "collapsed": false
   },
   "outputs": [
    {
     "data": {
      "text/plain": [
       "0.0065187712427359117"
      ]
     },
     "execution_count": 30,
     "metadata": {},
     "output_type": "execute_result"
    }
   ],
   "source": [
    "# Calculating pi with the formula from Gillespie:\n",
    "\n",
    "n = 18 \n",
    "p = pylab.arange(0, n+1)/float(n)\n",
    "p = p/2 # with a folded spectrum, we are summing over minor allele freqs only\n",
    "pi_Gillespie = 2*n / (2*n-1.0) * 2 * pylab.sum(fs_ery * p*(1-p)) / pylab.sum(fs_ery.data)\n",
    "pi_Gillespie"
   ]
  },
  {
   "cell_type": "code",
   "execution_count": 31,
   "metadata": {
    "collapsed": false
   },
   "outputs": [
    {
     "data": {
      "text/plain": [
       "8.6736173798840355e-19"
      ]
     },
     "execution_count": 31,
     "metadata": {},
     "output_type": "execute_result"
    }
   ],
   "source": [
    "pi_Wakeley - pi_Gillespie"
   ]
  },
  {
   "cell_type": "markdown",
   "metadata": {},
   "source": [
    "As can be seen from the insignificant difference (must be due to numerical inaccuracies) between the $\\pi_{Wakeley}$ and the $\\pi_{Gillespie}$ estimates, they are equivalent with the calculation for folded spectra given above as well as the correct small sample size correction. **Beware: $\\delta$a$\\delta$i does not handle folded spectra correctly**."
   ]
  },
  {
   "cell_type": "markdown",
   "metadata": {},
   "source": [
    "It should be a relatively easy to fix the `pi` function to work correctly with folded spectra. Care should be taken to also correctly handle uneven sample sizes."
   ]
  },
  {
   "cell_type": "code",
   "execution_count": 32,
   "metadata": {
    "collapsed": false
   },
   "outputs": [
    {
     "data": {
      "text/plain": [
       "True"
      ]
     },
     "execution_count": 32,
     "metadata": {},
     "output_type": "execute_result"
    }
   ],
   "source": [
    "fs_ery.folded"
   ]
  },
  {
   "cell_type": "markdown",
   "metadata": {},
   "source": [
    "I think for now it would be best to import unfolded spectra from `realSFS` and fold them if necessary in dadi."
   ]
  },
  {
   "cell_type": "code",
   "execution_count": 33,
   "metadata": {
    "collapsed": true
   },
   "outputs": [],
   "source": [
    "fs_par = dadi.Spectrum.from_file('PAR.FOLDED.sfs.dadi_format')"
   ]
  },
  {
   "cell_type": "code",
   "execution_count": 34,
   "metadata": {
    "collapsed": false
   },
   "outputs": [
    {
     "data": {
      "text/plain": [
       "<matplotlib.legend.Legend at 0x7fe7ae160c50>"
      ]
     },
     "execution_count": 34,
     "metadata": {},
     "output_type": "execute_result"
    },
    {
     "data": {
      "image/png": "[encoded data removed]",
      "text/plain": [
       "<matplotlib.figure.Figure at 0x7fe7af8d8c50>"
      ]
     },
     "metadata": {},
     "output_type": "display_data"
    }
   ],
   "source": [
    "pylab.plot(fs_ery, 'r', label='ery')\n",
    "pylab.plot(fs_par, 'g', label='par')\n",
    "pylab.legend()"
   ]
  },
  {
   "cell_type": "markdown",
   "metadata": {},
   "source": [
    "---"
   ]
  },
  {
   "cell_type": "markdown",
   "metadata": {},
   "source": [
    "### ML estimate of $\\theta$ from 1D folded spectrum"
   ]
  },
  {
   "cell_type": "markdown",
   "metadata": {},
   "source": [
    "I am trying to fit eq. 4.21 of Wakeley2009 to the oberseved 1D folded spectra."
   ]
  },
  {
   "cell_type": "markdown",
   "metadata": {},
   "source": [
    "$$\n",
    "E[\\eta_i] = \\theta \\frac{\\frac{1}{i} + \\frac{1}{n-i}}{1+\\delta_{i,n-i}} \\qquad 1 \\le i \\le \\big[n/2\\big]\n",
    "$$"
   ]
  },
  {
   "cell_type": "markdown",
   "metadata": {},
   "source": [
    "Each frequency class, $\\eta_i$, provides an estimate of $\\theta$. However, I would like to find the value of $\\theta$ that minimizes the deviation of the above equation from all observed counts $\\eta_i$."
   ]
  },
  {
   "cell_type": "markdown",
   "metadata": {},
   "source": [
    "I am following the example given here: https://docs.scipy.org/doc/scipy/reference/tutorial/optimize.html#example-of-solving-a-fitting-problem"
   ]
  },
  {
   "cell_type": "markdown",
   "metadata": {},
   "source": [
    "$$\n",
    "\\frac{\\delta E}{\\delta \\theta} = \\frac{\\frac{1}{i} + \\frac{1}{n-i}}{1+\\delta_{i,n-i}} \\qquad 1 \\le i \\le \\big[n/2\\big]\n",
    "$$"
   ]
  },
  {
   "cell_type": "markdown",
   "metadata": {},
   "source": [
    "I have just one parameter to optimize."
   ]
  },
  {
   "cell_type": "code",
   "execution_count": 35,
   "metadata": {
    "collapsed": true
   },
   "outputs": [],
   "source": [
    "from scipy.optimize import least_squares"
   ]
  },
  {
   "cell_type": "code",
   "execution_count": 36,
   "metadata": {
    "collapsed": true
   },
   "outputs": [],
   "source": [
    "def model(theta, eta, n):\n",
    "    \"\"\"\n",
    "    theta: scaled population mutation rate parameter [scalar]\n",
    "    eta: the folded 1D spectrum, including 0-count cat. [list] \n",
    "    n: number of sampled gene copies, i. e. 2*num_ind [scalar]\n",
    "    \n",
    "    returns a numpy array\n",
    "    \"\"\"\n",
    "    i = pylab.arange(1, eta.size)\n",
    "    delta = pylab.where(i == n-i, 1, 0)\n",
    "    return theta * 1/i + 1/(n-i) / (1 + delta)"
   ]
  },
  {
   "cell_type": "code",
   "execution_count": 37,
   "metadata": {
    "collapsed": true
   },
   "outputs": [],
   "source": [
    "?pylab.where"
   ]
  },
  {
   "cell_type": "code",
   "execution_count": 38,
   "metadata": {
    "collapsed": false
   },
   "outputs": [
    {
     "name": "stdout",
     "output_type": "stream",
     "text": [
      "[False False False False False False False False False False False False\n",
      " False False False False False  True]\n",
      "[0 0 0 0 0 0 0 0 0 0 0 0 0 0 0 0 0 1]\n",
      "10680.7980805\n",
      "19\n"
     ]
    },
    {
     "data": {
      "text/plain": [
       "array([ 10680.79808054,   5340.39904027,   3560.26602685,   2670.19952013,\n",
       "         2136.15961611,   1780.13301342,   1525.82829722,   1335.09976007,\n",
       "         1186.75534228,   1068.07980805,    970.98164369,    890.06650671,\n",
       "          821.59985235,    762.91414861,    712.05320537,    667.54988003,\n",
       "          628.28224003,    593.37767114])"
      ]
     },
     "execution_count": 38,
     "metadata": {},
     "output_type": "execute_result"
    }
   ],
   "source": [
    "# test\n",
    "i = pylab.arange(1, 19)\n",
    "n = 36\n",
    "print i == n-i\n",
    "#\n",
    "print pylab.where(i == n-i, 1, 0)\n",
    "# get a theta estimate from pi:\n",
    "theta = pi_Wakeley * fs_ery.data.sum() \n",
    "print theta\n",
    "#\n",
    "print len(fs_ery)\n",
    "#\n",
    "model(theta, fs_ery, 36)"
   ]
  },
  {
   "cell_type": "code",
   "execution_count": 39,
   "metadata": {
    "collapsed": true
   },
   "outputs": [],
   "source": [
    "def fun(theta, eta, n):\n",
    "    \"\"\"\n",
    "    return residuals between model and data\n",
    "    \"\"\"\n",
    "    return model(theta, eta, n) - eta[1:]"
   ]
  },
  {
   "cell_type": "code",
   "execution_count": 40,
   "metadata": {
    "collapsed": true
   },
   "outputs": [],
   "source": [
    "def jac(theta, eta, n, test=False):\n",
    "    \"\"\"\n",
    "    creates a Jacobian matrix\n",
    "    \"\"\"\n",
    "    J = pylab.empty((eta.size-1, theta.size))\n",
    "    i = pylab.arange(1, eta.size, dtype=float)\n",
    "    delta = pylab.where(i == n-i, 1, 0)\n",
    "    num = 1/i + 1/(n-i)\n",
    "    den = 1 + delta\n",
    "    if test:\n",
    "        print i\n",
    "        print num\n",
    "        print den\n",
    "    J[:,0] = num / den\n",
    "    return J"
   ]
  },
  {
   "cell_type": "code",
   "execution_count": 41,
   "metadata": {
    "collapsed": false
   },
   "outputs": [
    {
     "name": "stdout",
     "output_type": "stream",
     "text": [
      "[  1.   2.   3.   4.   5.   6.   7.   8.   9.  10.  11.  12.  13.  14.  15.\n",
      "  16.  17.  18.]\n",
      "[ 1.02857143  0.52941176  0.36363636  0.28125     0.23225806  0.2\n",
      "  0.1773399   0.16071429  0.14814815  0.13846154  0.13090909  0.125\n",
      "  0.12040134  0.11688312  0.11428571  0.1125      0.11145511  0.11111111]\n",
      "[1 1 1 1 1 1 1 1 1 1 1 1 1 1 1 1 1 2]\n"
     ]
    },
    {
     "data": {
      "text/plain": [
       "array([[ 1.02857143],\n",
       "       [ 0.52941176],\n",
       "       [ 0.36363636],\n",
       "       [ 0.28125   ],\n",
       "       [ 0.23225806],\n",
       "       [ 0.2       ],\n",
       "       [ 0.1773399 ],\n",
       "       [ 0.16071429],\n",
       "       [ 0.14814815],\n",
       "       [ 0.13846154],\n",
       "       [ 0.13090909],\n",
       "       [ 0.125     ],\n",
       "       [ 0.12040134],\n",
       "       [ 0.11688312],\n",
       "       [ 0.11428571],\n",
       "       [ 0.1125    ],\n",
       "       [ 0.11145511],\n",
       "       [ 0.05555556]])"
      ]
     },
     "execution_count": 41,
     "metadata": {},
     "output_type": "execute_result"
    }
   ],
   "source": [
    "# test\n",
    "jac(theta, fs_ery, 36, test=True)"
   ]
  },
  {
   "cell_type": "code",
   "execution_count": 42,
   "metadata": {
    "collapsed": false
   },
   "outputs": [],
   "source": [
    "# starting value\n",
    "theta0 = theta # pi_Wakeley from above"
   ]
  },
  {
   "cell_type": "code",
   "execution_count": 43,
   "metadata": {
    "collapsed": false
   },
   "outputs": [
    {
     "data": {
      "text/plain": [
       "43649.777914000006"
      ]
     },
     "execution_count": 43,
     "metadata": {},
     "output_type": "execute_result"
    }
   ],
   "source": [
    "# sum over unmasked entries, i. e. without 0-count category, i. e. returns number of variable sites\n",
    "fs_ery.sum()"
   ]
  },
  {
   "cell_type": "code",
   "execution_count": 44,
   "metadata": {
    "collapsed": false
   },
   "outputs": [
    {
     "name": "stdout",
     "output_type": "stream",
     "text": [
      "Both `ftol` and `xtol` termination conditions are satisfied.\n",
      "Function evaluations: 8, initial cost: 9.6784e+06, final cost 9.5162e+06, first-order optimality 1.08e-01.\n"
     ]
    }
   ],
   "source": [
    "# optimize\n",
    "res = least_squares(fun, x0=theta0, jac=jac, bounds=(0,fs_ery.sum()), \n",
    "                    kwargs={'eta': fs_ery, 'n': 36}, verbose=1)"
   ]
  },
  {
   "cell_type": "code",
   "execution_count": 45,
   "metadata": {
    "collapsed": false
   },
   "outputs": [
    {
     "data": {
      "text/plain": [
       "True"
      ]
     },
     "execution_count": 45,
     "metadata": {},
     "output_type": "execute_result"
    }
   ],
   "source": [
    "res.success"
   ]
  },
  {
   "cell_type": "code",
   "execution_count": 46,
   "metadata": {
    "collapsed": true
   },
   "outputs": [],
   "source": [
    "?least_squares"
   ]
  },
  {
   "cell_type": "code",
   "execution_count": 47,
   "metadata": {
    "collapsed": false
   },
   "outputs": [
    {
     "name": "stdout",
     "output_type": "stream",
     "text": [
      "[ 10367.32782801]\n",
      "10680.7980805\n"
     ]
    }
   ],
   "source": [
    "print res.x\n",
    "print theta"
   ]
  },
  {
   "cell_type": "code",
   "execution_count": 48,
   "metadata": {
    "collapsed": true
   },
   "outputs": [],
   "source": [
    "pylab.rcParams['figure.figsize'] = [12.0, 8.0]"
   ]
  },
  {
   "cell_type": "code",
   "execution_count": 49,
   "metadata": {
    "collapsed": false,
    "scrolled": true
   },
   "outputs": [
    {
     "data": {
      "text/plain": [
       "<matplotlib.legend.Legend at 0x7fe7a6ac27d0>"
      ]
     },
     "execution_count": 49,
     "metadata": {},
     "output_type": "execute_result"
    },
    {
     "data": {
      "image/png": "[encoded data removed]",
      "text/plain": [
       "<matplotlib.figure.Figure at 0x7fe7ae05d0d0>"
      ]
     },
     "metadata": {},
     "output_type": "display_data"
    }
   ],
   "source": [
    "import matplotlib.pyplot as plt\n",
    "\n",
    "plt.rcParams['font.size'] = 14.0\n",
    "\n",
    "i = range(1, len(fs_ery))\n",
    "eta_model = model(res.x, eta=fs_ery, n=36) # get predicted values with optimal theta\n",
    "\n",
    "plt.plot(i, fs_ery[1:], \"bo\", label=\"data from ery\") # plot observed spectrum\n",
    "\n",
    "ymax = max( fs_ery[1:].max(), eta_model.max() )\n",
    "plt.axis([0, 19, 0, ymax*1.1]) # set axis range\n",
    "\n",
    "plt.xlabel(\"minor allele frequency (i)\")\n",
    "plt.ylabel(r'$\\eta_i$', fontsize='large', rotation='horizontal')\n",
    "plt.title(\"folded SFS of ery\")\n",
    "\n",
    "plt.plot(i, eta_model, \"go-\", \n",
    "         label=\"\\nneutral model\" \n",
    "         + \"\\n\"\n",
    "         + r'$\\theta_{opt} = $' + str(round(res.x, 1))\n",
    "        ) # plot model prediction with optimal theta\n",
    "\n",
    "plt.legend()"
   ]
  },
  {
   "cell_type": "markdown",
   "metadata": {},
   "source": [
    "The counts in each frequency class should be Poisson distributed with rate equal to $E[\\eta_i]$ as given above. The lowest frequency class has the highest rate and therefore also the highest variance"
   ]
  },
  {
   "cell_type": "code",
   "execution_count": 50,
   "metadata": {
    "collapsed": true
   },
   "outputs": [],
   "source": [
    "#?plt.ylabel"
   ]
  },
  {
   "cell_type": "code",
   "execution_count": 51,
   "metadata": {
    "collapsed": false
   },
   "outputs": [],
   "source": [
    "#print plt.rcParams"
   ]
  },
  {
   "cell_type": "code",
   "execution_count": 52,
   "metadata": {
    "collapsed": false
   },
   "outputs": [
    {
     "data": {
      "text/plain": [
       "7833.0386900000003"
      ]
     },
     "execution_count": 52,
     "metadata": {},
     "output_type": "execute_result"
    }
   ],
   "source": [
    "fs_ery[1:].max()"
   ]
  },
  {
   "cell_type": "code",
   "execution_count": 53,
   "metadata": {
    "collapsed": false
   },
   "outputs": [],
   "source": [
    "#?pylab"
   ]
  },
  {
   "cell_type": "code",
   "execution_count": 54,
   "metadata": {
    "collapsed": false
   },
   "outputs": [
    {
     "data": {
      "text/plain": [
       "'/data3/claudius/Big_Data/DADI/dadiExercises'"
      ]
     },
     "execution_count": 54,
     "metadata": {},
     "output_type": "execute_result"
    }
   ],
   "source": [
    "os.getcwd()"
   ]
  },
  {
   "cell_type": "code",
   "execution_count": 55,
   "metadata": {
    "collapsed": false
   },
   "outputs": [
    {
     "name": "stdout",
     "output_type": "stream",
     "text": [
      "ERY.FOLDED.sfs\n",
      "ERY.FOLDED.sfs.dadi_format\n",
      "ERY.FOLDED.sfs.dadi_format~\n",
      "EryPar.unfolded.2dsfs\n",
      "EryPar.unfolded.2dsfs.dadi_format\n",
      "EryPar.unfolded.2dsfs.dadi_format~\n",
      "examples\n",
      "example_YRI_CEU.ipynb\n",
      "First_Steps_with_dadi.ipynb\n",
      "new.bib\n",
      "PAR.FOLDED.sfs\n",
      "PAR.FOLDED.sfs.dadi_format\n",
      "PAR.FOLDED.sfs.dadi_format~\n"
     ]
    }
   ],
   "source": [
    "%%sh\n",
    "\n",
    "ls"
   ]
  },
  {
   "cell_type": "markdown",
   "metadata": {},
   "source": [
    "The following function will take the file name of a file containing the flat 1D folded frequency spectrum of one population and plots it together with the best fitting neutral expectation."
   ]
  },
  {
   "cell_type": "code",
   "execution_count": 56,
   "metadata": {
    "collapsed": false
   },
   "outputs": [],
   "source": [
    "def plot_folded_sfs(filename, n, pop = ''):\n",
    "    # read in spectrum from file\n",
    "    data = open(filename, 'r')\n",
    "    sfs = pylab.array( data.readline().split(), dtype=float )\n",
    "    data.close() # should close connection to file\n",
    "    #return sfs\n",
    "    \n",
    "    # get starting value for theta from Watterson's theta\n",
    "    S = sfs[1:].sum()\n",
    "    T_total = sum([1.0/i for i in range(1, n)]) # onhe half the expected total length of the genealogy\n",
    "    theta0 = S / T_total # see eq. 4.7 in Wakeley2009\n",
    "    \n",
    "    # optimize\n",
    "    res = least_squares(fun, x0=theta0, jac=jac, bounds=(0, sfs.sum()), \n",
    "                   kwargs={'eta': sfs, 'n': 36}, verbose=1)\n",
    "    #print \"Optimal theta per site is {0:.4f}\".format(res.x[0]/sfs.sum())\n",
    "    #print res.x[0]/sfs.sum()\n",
    "    \n",
    "    #return theta0, res\n",
    "    \n",
    "    # plot\n",
    "    plt.rcParams['font.size'] = 14.0\n",
    "\n",
    "    i = range(1, len(sfs))\n",
    "    eta_model = model(res.x, eta=sfs, n=36) # get predicted values with optimal theta\n",
    "\n",
    "    plt.plot(i, sfs[1:], \"rs\", label=\"data of \" + pop) # plot observed spectrum\n",
    "\n",
    "    ymax = max( sfs[1:].max(), eta_model.max() )\n",
    "    plt.axis([0, 19, 0, ymax*1.1]) # set axis range\n",
    "\n",
    "    plt.xlabel(\"minor allele frequency (i)\")\n",
    "    plt.ylabel(r'$\\eta_i$', fontsize='large', rotation='horizontal')\n",
    "    plt.title(\"folded SFS\")\n",
    "    plt.text(5, 10000, \n",
    "             r\"Optimal neutral $\\theta$ per site is {0:.4f}\".format(res.x[0]/sfs.sum()))\n",
    "\n",
    "    plt.plot(i, eta_model, \"go-\", \n",
    "         label=\"\\nneutral model\" \n",
    "         + \"\\n\"\n",
    "         + r'$\\theta_{opt} = $' + str(round(res.x, 1))\n",
    "        ) # plot model prediction with optimal theta\n",
    "\n",
    "    plt.legend()"
   ]
  },
  {
   "cell_type": "code",
   "execution_count": 57,
   "metadata": {
    "collapsed": false,
    "scrolled": true
   },
   "outputs": [
    {
     "name": "stdout",
     "output_type": "stream",
     "text": [
      "`xtol` termination condition is satisfied.\n",
      "Function evaluations: 12, initial cost: 3.1360e+07, final cost 3.0064e+07, first-order optimality 1.56e+07.\n"
     ]
    },
    {
     "data": {
      "image/png": "[encoded data removed]",
      "text/plain": [
       "<matplotlib.figure.Figure at 0x7fe7af479c10>"
      ]
     },
     "metadata": {},
     "output_type": "display_data"
    }
   ],
   "source": [
    "plot_folded_sfs('PAR.FOLDED.sfs', n=36, pop='par')"
   ]
  },
  {
   "cell_type": "code",
   "execution_count": 58,
   "metadata": {
    "collapsed": false
   },
   "outputs": [
    {
     "name": "stdout",
     "output_type": "stream",
     "text": [
      "`ftol` termination condition is satisfied.\n",
      "Function evaluations: 7, initial cost: 9.5789e+06, final cost 9.5162e+06, first-order optimality 6.25e-01.\n"
     ]
    },
    {
     "data": {
      "image/png": "[encoded data removed]",
      "text/plain": [
       "<matplotlib.figure.Figure at 0x7fe7ae11fed0>"
      ]
     },
     "metadata": {},
     "output_type": "display_data"
    }
   ],
   "source": [
    "plot_folded_sfs('ERY.FOLDED.sfs', n=36, pop='ery')"
   ]
  },
  {
   "cell_type": "markdown",
   "metadata": {
    "collapsed": false
   },
   "source": [
    "### Univariate function minimizers or 1D scalar minimisation"
   ]
  },
  {
   "cell_type": "markdown",
   "metadata": {},
   "source": [
    "Since I only have one value to optimize, I can use a slightly simpler approach than used above:"
   ]
  },
  {
   "cell_type": "code",
   "execution_count": 59,
   "metadata": {
    "collapsed": true
   },
   "outputs": [],
   "source": [
    "from scipy.optimize import minimize_scalar"
   ]
  },
  {
   "cell_type": "code",
   "execution_count": 60,
   "metadata": {
    "collapsed": true
   },
   "outputs": [],
   "source": [
    "?minimize_scalar"
   ]
  },
  {
   "cell_type": "code",
   "execution_count": 61,
   "metadata": {
    "collapsed": true
   },
   "outputs": [],
   "source": [
    "# define cost function\n",
    "def f(theta, eta, n):\n",
    "    \"\"\"\n",
    "    return sum of squared deviations between model and data\n",
    "    \"\"\"\n",
    "    return sum( (model(theta, eta, n) - eta[1:])**2 ) # see above for definition of the 'model' function"
   ]
  },
  {
   "cell_type": "markdown",
   "metadata": {},
   "source": [
    "It would be interesting to know whether the cost function is convex or not."
   ]
  },
  {
   "cell_type": "code",
   "execution_count": 62,
   "metadata": {
    "collapsed": false
   },
   "outputs": [
    {
     "data": {
      "text/plain": [
       "<matplotlib.legend.Legend at 0x7fe7a674d6d0>"
      ]
     },
     "execution_count": 62,
     "metadata": {},
     "output_type": "execute_result"
    },
    {
     "data": {
      "image/png": "[encoded data removed]",
      "text/plain": [
       "<matplotlib.figure.Figure at 0x7fe7aeefae50>"
      ]
     },
     "metadata": {},
     "output_type": "display_data"
    }
   ],
   "source": [
    "theta = pylab.arange(0, fs_ery.data[1:].sum()) # specify range of theta\n",
    "cost = [f(t, fs_ery.data, 36) for t in theta]\n",
    "plt.plot(theta, cost, 'b-', label='ery')\n",
    "plt.xlabel(r'$\\theta$')\n",
    "plt.ylabel('cost')\n",
    "plt.title(\"cost function for ery\")\n",
    "plt.legend(loc='best')"
   ]
  },
  {
   "cell_type": "code",
   "execution_count": 63,
   "metadata": {
    "collapsed": true
   },
   "outputs": [],
   "source": [
    "?plt.legend"
   ]
  },
  {
   "cell_type": "markdown",
   "metadata": {},
   "source": [
    "Within the specified bounds (the observed $\\theta$, i. e. derived from the data, cannot lie outside these bounds), the cost function is convex. This is therefore an easy optimisation problem. See [here](http://www.scipy-lectures.org/advanced/mathematical_optimization/index.html) for more details."
   ]
  },
  {
   "cell_type": "code",
   "execution_count": 64,
   "metadata": {
    "collapsed": false
   },
   "outputs": [],
   "source": [
    "res = minimize_scalar(f, bounds = (0, fs_ery.data[1:].sum()), method = 'bounded', args = (fs_ery.data, 36))"
   ]
  },
  {
   "cell_type": "code",
   "execution_count": 65,
   "metadata": {
    "collapsed": false
   },
   "outputs": [
    {
     "data": {
      "text/plain": [
       "     fun: 18987280.758395974\n",
       " message: 'Solution found.'\n",
       "    nfev: 6\n",
       "  status: 0\n",
       " success: True\n",
       "       x: 10198.886010965949"
      ]
     },
     "execution_count": 65,
     "metadata": {},
     "output_type": "execute_result"
    }
   ],
   "source": [
    "res"
   ]
  },
  {
   "cell_type": "code",
   "execution_count": 66,
   "metadata": {
    "collapsed": false
   },
   "outputs": [
    {
     "data": {
      "text/plain": [
       "43755.705189"
      ]
     },
     "execution_count": 66,
     "metadata": {},
     "output_type": "execute_result"
    }
   ],
   "source": [
    "# number of segregating sites\n",
    "\n",
    "fs_par.data[1:].sum()"
   ]
  },
  {
   "cell_type": "code",
   "execution_count": 67,
   "metadata": {
    "collapsed": true
   },
   "outputs": [],
   "source": [
    "res = minimize_scalar(f, bounds = (0, fs_par.data[1:].sum()), method = 'bounded', args = (fs_par.data, 36))"
   ]
  },
  {
   "cell_type": "code",
   "execution_count": 68,
   "metadata": {
    "collapsed": false
   },
   "outputs": [
    {
     "data": {
      "text/plain": [
       "     fun: 60127046.281448714\n",
       " message: 'Solution found.'\n",
       "    nfev: 6\n",
       "  status: 0\n",
       " success: True\n",
       "       x: 11828.17091399114"
      ]
     },
     "execution_count": 68,
     "metadata": {},
     "output_type": "execute_result"
    }
   ],
   "source": [
    "res"
   ]
  },
  {
   "cell_type": "markdown",
   "metadata": {},
   "source": [
    "The fitted values of $\\theta$ are similar to the ones obtained above with the `least_squares` function. The estimates for ery deviate more than for par."
   ]
  },
  {
   "cell_type": "code",
   "execution_count": 69,
   "metadata": {
    "collapsed": false
   },
   "outputs": [],
   "source": [
    "from sympy import *"
   ]
  },
  {
   "cell_type": "code",
   "execution_count": 70,
   "metadata": {
    "collapsed": true
   },
   "outputs": [],
   "source": [
    "x0 , x1 = symbols('x0 x1')"
   ]
  },
  {
   "cell_type": "code",
   "execution_count": 71,
   "metadata": {
    "collapsed": true
   },
   "outputs": [],
   "source": [
    "init_printing(use_unicode=True)"
   ]
  },
  {
   "cell_type": "code",
   "execution_count": 72,
   "metadata": {
    "collapsed": false
   },
   "outputs": [
    {
     "data": {
      "image/png": "[encoded data removed]",
      "text/latex": [
       "$$- 4 x_{0} \\left(- x_{0}^{2} + x_{1}\\right) + 1.0 x_{0} - 1.0$$"
      ],
      "text/plain": [
       "       ⎛    2     ⎞               \n",
       "- 4⋅x₀⋅⎝- x₀  + x₁⎠ + 1.0⋅x₀ - 1.0"
      ]
     },
     "execution_count": 72,
     "metadata": {},
     "output_type": "execute_result"
    }
   ],
   "source": [
    "diff(0.5*(1-x0)**2 + (x1-x0**2)**2, x0)"
   ]
  },
  {
   "cell_type": "code",
   "execution_count": 73,
   "metadata": {
    "collapsed": false
   },
   "outputs": [
    {
     "data": {
      "image/png": "[encoded data removed]",
      "text/latex": [
       "$$- 2 x_{0}^{2} + 2 x_{1}$$"
      ],
      "text/plain": [
       "      2       \n",
       "- 2⋅x₀  + 2⋅x₁"
      ]
     },
     "execution_count": 73,
     "metadata": {},
     "output_type": "execute_result"
    }
   ],
   "source": [
    "diff(0.5*(1-x0)**2 + (x1-x0**2)**2, x1)"
   ]
  },
  {
   "cell_type": "markdown",
   "metadata": {},
   "source": [
    "Wow! Sympy is a replacement for Mathematica. There is also Sage, which may include even more functionality."
   ]
  },
  {
   "cell_type": "code",
   "execution_count": 74,
   "metadata": {
    "collapsed": true
   },
   "outputs": [],
   "source": [
    "from scipy.optimize import curve_fit"
   ]
  },
  {
   "cell_type": "markdown",
   "metadata": {},
   "source": [
    "`Curve_fit` is another function that can be used for optimization."
   ]
  },
  {
   "cell_type": "code",
   "execution_count": 75,
   "metadata": {
    "collapsed": true
   },
   "outputs": [],
   "source": [
    "?curve_fit"
   ]
  },
  {
   "cell_type": "code",
   "execution_count": 76,
   "metadata": {
    "collapsed": true
   },
   "outputs": [],
   "source": [
    "def model(i, theta):\n",
    "    \"\"\"\n",
    "    i: indpendent variable, here minor SNP frequency classes\n",
    "    theta: scaled population mutation rate parameter [scalar]\n",
    "    \n",
    "    returns a numpy array\n",
    "    \"\"\"\n",
    "    n = len(i)\n",
    "    delta = pylab.where(i == n-i, 1, 0)\n",
    "    return theta * 1/i + 1/(n-i) / (1 + delta)"
   ]
  },
  {
   "cell_type": "code",
   "execution_count": 77,
   "metadata": {
    "collapsed": false
   },
   "outputs": [],
   "source": [
    "i = pylab.arange(1, fs_ery.size)\n",
    "\n",
    "popt, pcov = curve_fit(model, i, fs_ery.data[1:])"
   ]
  },
  {
   "cell_type": "code",
   "execution_count": 78,
   "metadata": {
    "collapsed": false
   },
   "outputs": [
    {
     "name": "stdout",
     "output_type": "stream",
     "text": [
      "[ 10198.84901849]\n"
     ]
    }
   ],
   "source": [
    "# optimal theta\n",
    "print popt"
   ]
  },
  {
   "cell_type": "code",
   "execution_count": 79,
   "metadata": {
    "collapsed": false
   },
   "outputs": [
    {
     "data": {
      "text/plain": [
       "array([[ 837.89916279]])"
      ]
     },
     "execution_count": 79,
     "metadata": {},
     "output_type": "execute_result"
    }
   ],
   "source": [
    "perr = pylab.sqrt(pcov)\n",
    "perr"
   ]
  },
  {
   "cell_type": "code",
   "execution_count": 80,
   "metadata": {
    "collapsed": false
   },
   "outputs": [
    {
     "name": "stdout",
     "output_type": "stream",
     "text": [
      "8556 < 10198 < 11841\n"
     ]
    }
   ],
   "source": [
    "print str(int(popt[0] - 1.96*perr[0])) + ' < ' + str(int(popt[0])) + ' < ' + str(int(popt[0] + 1.96*perr[0]))"
   ]
  },
  {
   "cell_type": "code",
   "execution_count": 81,
   "metadata": {
    "collapsed": false
   },
   "outputs": [
    {
     "name": "stdout",
     "output_type": "stream",
     "text": [
      "8905 < 11828 < 14750\n"
     ]
    }
   ],
   "source": [
    "popt, pcov = curve_fit(model, i, fs_par.data[1:])\n",
    "perr = pylab.sqrt(pcov)\n",
    "print str(int(popt[0] - 1.96*perr[0])) + ' < ' + str(int(popt[0])) + ' < ' + str(int(popt[0] + 1.96*perr[0]))"
   ]
  },
  {
   "cell_type": "markdown",
   "metadata": {},
   "source": [
    "I am not sure whether these standard errors (perr) are correct. It may be that it is assumed that errors are normally distributed, which they are not exactly in this case. They should be close to Poisson distributed (see Fu1995), which should be fairly similar to normal with such high expected values as here."
   ]
  },
  {
   "cell_type": "markdown",
   "metadata": {},
   "source": [
    "If the standard errors are correct, then the large overlap of the 95% confidence intervals would indicate that the data do not provide significant support for a difference in $\\theta$ between par and ery."
   ]
  },
  {
   "cell_type": "markdown",
   "metadata": {},
   "source": [
    "## Parametric bootstrap from the observed SFS"
   ]
  },
  {
   "cell_type": "code",
   "execution_count": 82,
   "metadata": {
    "collapsed": false
   },
   "outputs": [
    {
     "data": {
      "text/plain": [
       "u'/data3/claudius/Big_Data/DADI/dadiExercises'"
      ]
     },
     "execution_count": 82,
     "metadata": {},
     "output_type": "execute_result"
    }
   ],
   "source": [
    "%pwd"
   ]
  },
  {
   "cell_type": "code",
   "execution_count": 83,
   "metadata": {
    "collapsed": false
   },
   "outputs": [
    {
     "name": "stdout",
     "output_type": "stream",
     "text": [
      "total 660\r\n",
      "lrwxrwxrwx 1 claudius     53 Feb 17 15:37 \u001b[0m\u001b[01;36mERY.FOLDED.sfs\u001b[0m -> /data3/claudius/Big_Data/ANGSD/SFS/ERY/ERY.FOLDED.sfs\r\n",
      "-rw-rw-r-- 1 claudius    462 Mar 15 12:48 ERY.FOLDED.sfs.dadi_format\r\n",
      "-rw-rw-r-- 1 claudius    462 Mar 15 12:45 ERY.FOLDED.sfs.dadi_format~\r\n",
      "lrwxrwxrwx 1 claudius     37 Feb 18 17:46 \u001b[01;36mEryPar.unfolded.2dsfs\u001b[0m -> ../../ANGSD/FST/EryPar.unfolded.2dsfs\r\n",
      "-rw-rw-r-- 1 claudius  13051 Feb 18 19:00 EryPar.unfolded.2dsfs.dadi_format\r\n",
      "-rw-rw-r-- 1 claudius  13051 Feb 18 18:31 EryPar.unfolded.2dsfs.dadi_format~\r\n",
      "drwxrwxr-x 5 claudius   4096 Feb 17 13:45 \u001b[01;34mexamples\u001b[0m/\r\n",
      "-rw-rw-r-- 1 claudius  18014 Mar 15 21:39 example_YRI_CEU.ipynb\r\n",
      "-rw-rw-r-- 1 claudius 596246 Mar 17 15:45 First_Steps_with_dadi.ipynb\r\n",
      "-rw-rw-r-- 1 claudius   1012 Mar 16 09:54 new.bib\r\n",
      "lrwxrwxrwx 1 claudius     53 Feb 17 15:37 \u001b[01;36mPAR.FOLDED.sfs\u001b[0m -> /data3/claudius/Big_Data/ANGSD/SFS/PAR/PAR.FOLDED.sfs\r\n",
      "-rw-rw-r-- 1 claudius    412 Feb 17 16:29 PAR.FOLDED.sfs.dadi_format\r\n",
      "-rw-rw-r-- 1 claudius    218 Feb 17 15:51 PAR.FOLDED.sfs.dadi_format~\r\n"
     ]
    }
   ],
   "source": [
    "% ll"
   ]
  },
  {
   "cell_type": "code",
   "execution_count": 84,
   "metadata": {
    "collapsed": false
   },
   "outputs": [
    {
     "name": "stdout",
     "output_type": "stream",
     "text": [
      "# this is the ML estimate of the folded sample frequency spectrum for erythropus, estimated with realSFS of ANGSD\r\n",
      "# this is the spectrum in dadi format (see section 3.1 of the manual)\r\n",
      "19 folded\r\n",
      "1594818.222085 7833.038690 7414.699839 4109.279415 3614.717256 3095.973324 2031.460887 1584.656928 2583.652317 1142.075255 1052.346021 1765.773415 1255.138799 1072.516527 1417.916128 395.750470 1947.087637 367.072082 966.622924 \r\n",
      "1 0 0 0 0 0 0 0 0 0 0 0 0 0 0 0 0 0 0 \r\n"
     ]
    }
   ],
   "source": [
    "! cat ERY.FOLDED.sfs.dadi_format"
   ]
  },
  {
   "cell_type": "code",
   "execution_count": 85,
   "metadata": {
    "collapsed": true
   },
   "outputs": [],
   "source": [
    "fs_ery = dadi.Spectrum.from_file('ERY.FOLDED.sfs.dadi_format', mask_corners=False)"
   ]
  },
  {
   "cell_type": "code",
   "execution_count": 86,
   "metadata": {
    "collapsed": false
   },
   "outputs": [
    {
     "data": {
      "text/plain": [
       "Spectrum([-- 7833.03869 7414.699839 4109.279415 3614.717256 3095.973324 2031.460887\n",
       " 1584.656928 2583.652317 1142.075255 1052.346021 1765.773415 1255.138799\n",
       " 1072.516527 1417.916128 395.75047 1947.087637 367.072082 966.622924], folded=True, pop_ids=None)"
      ]
     },
     "execution_count": 86,
     "metadata": {},
     "output_type": "execute_result"
    }
   ],
   "source": [
    "fs_ery"
   ]
  },
  {
   "cell_type": "code",
   "execution_count": 87,
   "metadata": {
    "collapsed": true
   },
   "outputs": [],
   "source": [
    "fs_ery.pop_ids = ['ery']"
   ]
  },
  {
   "cell_type": "code",
   "execution_count": 88,
   "metadata": {
    "collapsed": false
   },
   "outputs": [],
   "source": [
    "# get a Poisson sample from the observed spectrum\n",
    "\n",
    "fs_ery_param_boot = fs_ery.sample()"
   ]
  },
  {
   "cell_type": "code",
   "execution_count": 89,
   "metadata": {
    "collapsed": false
   },
   "outputs": [
    {
     "data": {
      "text/plain": [
       "Spectrum([-- 7727.0 7286.0 4114.0 3578.0 3064.0 2051.0 1574.0 2532.0 1177.0 1083.0\n",
       " 1722.0 1219.0 1025.0 1382.0 403.0 1910.0 377.0 --], folded=True, pop_ids=['ery'])"
      ]
     },
     "execution_count": 89,
     "metadata": {},
     "output_type": "execute_result"
    }
   ],
   "source": [
    "fs_ery_param_boot"
   ]
  },
  {
   "cell_type": "code",
   "execution_count": 90,
   "metadata": {
    "collapsed": false
   },
   "outputs": [
    {
     "data": {
      "text/plain": [
       "array([    0.,  7727.,  7286.,  4114.,  3578.,  3064.,  2051.,  1574.,\n",
       "        2532.,  1177.,  1083.,  1722.,  1219.,  1025.,  1382.,   403.,\n",
       "        1910.,   377.,   933.])"
      ]
     },
     "execution_count": 90,
     "metadata": {},
     "output_type": "execute_result"
    }
   ],
   "source": [
    "fs_ery_param_boot.data"
   ]
  },
  {
   "cell_type": "code",
   "execution_count": 91,
   "metadata": {
    "collapsed": true
   },
   "outputs": [],
   "source": [
    "%psource fs_ery.sample"
   ]
  },
  {
   "cell_type": "markdown",
   "metadata": {
    "collapsed": true
   },
   "source": [
    "**There must be a way to get more than one bootstrap sample per call.**"
   ]
  },
  {
   "cell_type": "code",
   "execution_count": 92,
   "metadata": {
    "collapsed": true
   },
   "outputs": [],
   "source": [
    "fs_ery_param_boot = pylab.array([fs_ery.sample() for i in range(100)])"
   ]
  },
  {
   "cell_type": "code",
   "execution_count": 93,
   "metadata": {
    "collapsed": false
   },
   "outputs": [
    {
     "data": {
      "text/plain": [
       "array([ 7274.,  7463.,  7430.])"
      ]
     },
     "execution_count": 93,
     "metadata": {},
     "output_type": "execute_result"
    }
   ],
   "source": [
    "# get the first 3 boostrap samples from the doubleton class\n",
    "\n",
    "fs_ery_param_boot[:3, 2]"
   ]
  },
  {
   "cell_type": "markdown",
   "metadata": {},
   "source": [
    "It would be good to get the 5% and 95% quantiles from the bootstrap samples of each frequency class and add those intervals to the plot of the observed frequency spectrum and the fitted neutral spectrum. This would require to find a quantile function and to find out how to add lines to a plot with matplotlib."
   ]
  },
  {
   "cell_type": "markdown",
   "metadata": {},
   "source": [
    "It would also be good to use the predicted counts from the neutral model above with the fitted $\\theta$ as parameters for the bootstrap with `sample()` and add 95% confidence intervals to the predicted neutral SFS. I have done this in R instead (see `/data3/claudius/Big_Data/ANGSD/SFS/SFS.Rmd`)"
   ]
  },
  {
   "cell_type": "markdown",
   "metadata": {},
   "source": [
    "---"
   ]
  },
  {
   "cell_type": "markdown",
   "metadata": {},
   "source": [
    "### Using unfolded spectra"
   ]
  },
  {
   "cell_type": "markdown",
   "metadata": {},
   "source": [
    "I edited the 2D SFS created for estimating $F_{ST}$ by `realSFS`. I have convinced myself that `realSFS` outputs a flattened 2D matrix as expected by $\\delta$a$\\delta$i's `Spectrum.from_file` function (see section 3.1 of the manual with my comments). Note, that in the manual, \"samples\" stands for number of allele copies, so that the correct specification of dimensions for this 2D unfolded SFS of 18 diploid individuals in each of 2 populations is 37 x 37."
   ]
  },
  {
   "cell_type": "code",
   "execution_count": 94,
   "metadata": {
    "collapsed": true
   },
   "outputs": [],
   "source": [
    "# read in the flattened 2D SFS\n",
    "EryPar_unfolded_2dsfs = dadi.Spectrum.from_file('EryPar.unfolded.2dsfs.dadi_format', mask_corners=True)"
   ]
  },
  {
   "cell_type": "code",
   "execution_count": 95,
   "metadata": {
    "collapsed": false
   },
   "outputs": [
    {
     "data": {
      "image/png": "[encoded data removed]",
      "text/latex": [
       "$$37$$"
      ],
      "text/plain": [
       "37"
      ]
     },
     "execution_count": 95,
     "metadata": {},
     "output_type": "execute_result"
    }
   ],
   "source": [
    "# check dimension\n",
    "len(EryPar_unfolded_2dsfs[0,])"
   ]
  },
  {
   "cell_type": "code",
   "execution_count": 96,
   "metadata": {
    "collapsed": false
   },
   "outputs": [
    {
     "data": {
      "text/plain": [
       "array([36, 36])"
      ]
     },
     "execution_count": 96,
     "metadata": {},
     "output_type": "execute_result"
    }
   ],
   "source": [
    "EryPar_unfolded_2dsfs.sample_sizes"
   ]
  },
  {
   "cell_type": "code",
   "execution_count": 97,
   "metadata": {
    "collapsed": true
   },
   "outputs": [],
   "source": [
    "# add population labels\n",
    "EryPar_unfolded_2dsfs.pop_ids = [\"ery\", \"par\"]"
   ]
  },
  {
   "cell_type": "code",
   "execution_count": 98,
   "metadata": {
    "collapsed": false
   },
   "outputs": [
    {
     "data": {
      "text/plain": [
       "['ery', 'par']"
      ]
     },
     "execution_count": 98,
     "metadata": {},
     "output_type": "execute_result"
    }
   ],
   "source": [
    "EryPar_unfolded_2dsfs.pop_ids"
   ]
  },
  {
   "cell_type": "markdown",
   "metadata": {},
   "source": [
    "### Marginalizing"
   ]
  },
  {
   "cell_type": "markdown",
   "metadata": {},
   "source": [
    "$\\delta$a$\\delta$i offers a function to get the marginal spectra from multidimensional spectra. Note, that this marginalisation is nothing fancy. In `R` it would be taking either the `rowSums` or the `colSums` of the matrix."
   ]
  },
  {
   "cell_type": "code",
   "execution_count": 99,
   "metadata": {
    "collapsed": false
   },
   "outputs": [],
   "source": [
    "# marginalise over par to get 1D SFS for ery\n",
    "\n",
    "fs_ery = EryPar_unfolded_2dsfs.marginalize([1]) \n",
    "# note the argument is an array with dimensions, one can marginalise over more than one dimension at the same time,\n",
    "# but that is only interesting for 3-dimensional spectra, which I don't have here"
   ]
  },
  {
   "cell_type": "code",
   "execution_count": 100,
   "metadata": {
    "collapsed": false
   },
   "outputs": [
    {
     "data": {
      "text/plain": [
       "Spectrum([-- 5504.293033999999 4934.276604000001 2566.124531 2396.011968\n",
       " 1553.2582019999998 1297.416363 841.8906099999998 1361.1500360000002\n",
       " 488.49162899999993 610.185385 845.894307 475.48793400000005 845.864915\n",
       " 171.41514700000002 661.7809339999999 260.92126999999994 332.462328\n",
       " 577.679207 212.03316999999998 469.402014 197.154764 399.04286399999995\n",
       " 113.996089 335.46549500000003 260.04657000000003 223.011465 236.792219\n",
       " 329.313785 346.363423 120.226742 505.32778799999994 230.19171200000002\n",
       " 451.244682 407.265961 600.9017859999999 --], folded=False, pop_ids=['ery'])"
      ]
     },
     "execution_count": 100,
     "metadata": {},
     "output_type": "execute_result"
    }
   ],
   "source": [
    "fs_ery"
   ]
  },
  {
   "cell_type": "code",
   "execution_count": 101,
   "metadata": {
    "collapsed": true
   },
   "outputs": [],
   "source": [
    "# marginalise over ery to get 1D SFS for par\n",
    "fs_par = EryPar_unfolded_2dsfs.marginalize([0])"
   ]
  },
  {
   "cell_type": "code",
   "execution_count": 102,
   "metadata": {
    "collapsed": false
   },
   "outputs": [
    {
     "data": {
      "text/plain": [
       "Spectrum([-- 7797.888484000002 10825.498380000005 4798.473355000001 2640.397539\n",
       " 2157.0349559999995 1011.531934 726.7379290000001 1698.623407 493.287427\n",
       " 453.03942799999993 816.1893790000003 677.1919899999999 266.613834\n",
       " 327.9128799999999 449.9266600000001 452.58292199999994 123.233246\n",
       " 385.56443 478.09934499999997 216.15979699999997 269.61825899999997\n",
       " 169.752214 219.371672 467.7375149999999 234.94620899999998\n",
       " 230.09612900000002 244.87403099999997 160.987576 226.845337\n",
       " 466.00908100000004 505.19249 273.09656199999995 269.669384 549.555371\n",
       " 336.129774 --], folded=False, pop_ids=['par'])"
      ]
     },
     "execution_count": 102,
     "metadata": {},
     "output_type": "execute_result"
    }
   ],
   "source": [
    "fs_par"
   ]
  },
  {
   "cell_type": "markdown",
   "metadata": {},
   "source": [
    "Note, that these marginalised 1D SFS's are not identical to the 1D SFS estimated directly with `realSFS`. This is because, for the estimation of the 2D SFS, `realSFS` has only taken sites that had data from at least 9 individuals in *each* population (see `assembly.sh`, lines 1423 onwards)."
   ]
  },
  {
   "cell_type": "markdown",
   "metadata": {},
   "source": [
    "The SFS's of par and ery had conspicuous shape differences. It would therefore be good to plot them to see, whether the above commands have done the correct thing."
   ]
  },
  {
   "cell_type": "code",
   "execution_count": 103,
   "metadata": {
    "collapsed": false
   },
   "outputs": [
    {
     "data": {
      "text/plain": [
       "<matplotlib.legend.Legend at 0x7fe7a5474bd0>"
      ]
     },
     "execution_count": 103,
     "metadata": {},
     "output_type": "execute_result"
    },
    {
     "data": {
      "image/png": "[encoded data removed]",
      "text/plain": [
       "<matplotlib.figure.Figure at 0x7fe7a55dd590>"
      ]
     },
     "metadata": {},
     "output_type": "display_data"
    }
   ],
   "source": [
    "# plot 1D spectra for each population\n",
    "pylab.plot(fs_par, 'g', label=\"par\")\n",
    "pylab.plot(fs_ery, 'r', label=\"ery\")\n",
    "pylab.legend()"
   ]
  },
  {
   "cell_type": "markdown",
   "metadata": {},
   "source": [
    "These marginal unfolded spectra look similar in shape to the 1D folded spectra of each subspecies (see above)."
   ]
  },
  {
   "cell_type": "code",
   "execution_count": 104,
   "metadata": {
    "collapsed": false
   },
   "outputs": [
    {
     "data": {
      "image/png": "[encoded data removed]",
      "text/latex": [
       "$$0.122283060844$$"
      ],
      "text/plain": [
       "0.122283060844"
      ]
     },
     "execution_count": 104,
     "metadata": {},
     "output_type": "execute_result"
    }
   ],
   "source": [
    "fs_ery.pi() / pylab.sum(fs_ery.data)"
   ]
  },
  {
   "cell_type": "code",
   "execution_count": 105,
   "metadata": {
    "collapsed": false
   },
   "outputs": [
    {
     "data": {
      "text/plain": [
       "array([ 27952.979034,   5504.293034,   4934.276604,   2566.124531,\n",
       "         2396.011968,   1553.258202,   1297.416363,    841.89061 ,\n",
       "         1361.150036,    488.491629,    610.185385,    845.894307,\n",
       "          475.487934,    845.864915,    171.415147,    661.780934,\n",
       "          260.92127 ,    332.462328,    577.679207,    212.03317 ,\n",
       "          469.402014,    197.154764,    399.042864,    113.996089,\n",
       "          335.465495,    260.04657 ,    223.011465,    236.792219,\n",
       "          329.313785,    346.363423,    120.226742,    505.327788,\n",
       "          230.191712,    451.244682,    407.265961,    600.901786,\n",
       "         1458.220459])"
      ]
     },
     "execution_count": 105,
     "metadata": {},
     "output_type": "execute_result"
    }
   ],
   "source": [
    "fs_ery.data"
   ]
  },
  {
   "cell_type": "code",
   "execution_count": 106,
   "metadata": {
    "collapsed": false
   },
   "outputs": [
    {
     "data": {
      "image/png": "[encoded data removed]",
      "text/latex": [
       "$$0.122283060844$$"
      ],
      "text/plain": [
       "0.122283060844"
      ]
     },
     "execution_count": 106,
     "metadata": {},
     "output_type": "execute_result"
    }
   ],
   "source": [
    "n = 36 # 36 sequences sampled from 18 diploid individuals\n",
    "pi_Wakeley = (sum( [i*(n-i)*fs_ery[i] for i in range(1, n)] ) * 2.0 / (n*(n-1)))\n",
    "pi_Wakeley = pi_Wakeley / pylab.sum(fs_ery.data)\n",
    "pi_Wakeley"
   ]
  },
  {
   "cell_type": "markdown",
   "metadata": {},
   "source": [
    "$\\delta$a$\\delta$i's `pi` function seems to calculate the correct value of $\\pi$ for this unfolded spectrum. However, it is worrying that $\\pi$ from this marginal spectrum is about 20 times larger than the one calculated from the directly estimated 1D folded spectrum (see above the $\\pi$ calculated from the folded 1D spectrum).  "
   ]
  },
  {
   "cell_type": "code",
   "execution_count": 107,
   "metadata": {
    "collapsed": false
   },
   "outputs": [
    {
     "data": {
      "image/png": "[encoded data removed]",
      "text/latex": [
       "$$0.137725422259$$"
      ],
      "text/plain": [
       "0.137725422259"
      ]
     },
     "execution_count": 107,
     "metadata": {},
     "output_type": "execute_result"
    }
   ],
   "source": [
    "fs_par.pi() / pylab.sum(fs_par.data)"
   ]
  },
  {
   "cell_type": "code",
   "execution_count": 108,
   "metadata": {
    "collapsed": false
   },
   "outputs": [
    {
     "data": {
      "image/png": "[encoded data removed]",
      "text/latex": [
       "$$60573.584426$$"
      ],
      "text/plain": [
       "60573.584426"
      ]
     },
     "execution_count": 108,
     "metadata": {},
     "output_type": "execute_result"
    }
   ],
   "source": [
    "pylab.sum(fs_par.data)"
   ]
  },
  {
   "cell_type": "code",
   "execution_count": 109,
   "metadata": {
    "collapsed": false
   },
   "outputs": [
    {
     "data": {
      "image/png": "[encoded data removed]",
      "text/latex": [
       "$$1130775.0$$"
      ],
      "text/plain": [
       "1130775.0"
      ]
     },
     "execution_count": 109,
     "metadata": {},
     "output_type": "execute_result"
    }
   ],
   "source": [
    "pylab.sum(EryPar_unfolded_2dsfs.data)"
   ]
  },
  {
   "cell_type": "markdown",
   "metadata": {
    "collapsed": true
   },
   "source": [
    "<font color=\"red\">The sum over the marginalised 1D spectra should be the same as the sum over the 2D spectrum !</font>"
   ]
  },
  {
   "cell_type": "code",
   "execution_count": 110,
   "metadata": {
    "collapsed": false
   },
   "outputs": [
    {
     "data": {
      "text/plain": [
       "array([ 27952.979034,   5504.293034,   4934.276604,   2566.124531,\n",
       "         2396.011968,   1553.258202,   1297.416363,    841.89061 ,\n",
       "         1361.150036,    488.491629,    610.185385,    845.894307,\n",
       "          475.487934,    845.864915,    171.415147,    661.780934,\n",
       "          260.92127 ,    332.462328,    577.679207,    212.03317 ,\n",
       "          469.402014,    197.154764,    399.042864,    113.996089,\n",
       "          335.465495,    260.04657 ,    223.011465,    236.792219,\n",
       "          329.313785,    346.363423,    120.226742,    505.327788,\n",
       "          230.191712,    451.244682,    407.265961,    600.901786,\n",
       "         1458.220459])"
      ]
     },
     "execution_count": 110,
     "metadata": {},
     "output_type": "execute_result"
    }
   ],
   "source": [
    "# from dadi's marginalise function:\n",
    "fs_ery.data"
   ]
  },
  {
   "cell_type": "code",
   "execution_count": 111,
   "metadata": {
    "collapsed": false
   },
   "outputs": [],
   "source": [
    "sfs2d = EryPar_unfolded_2dsfs.copy()"
   ]
  },
  {
   "cell_type": "code",
   "execution_count": 112,
   "metadata": {
    "collapsed": false
   },
   "outputs": [
    {
     "data": {
      "image/png": "[encoded data removed]",
      "text/latex": [
       "$$\\left [ 1097866.64302, \\quad 5504.293034, \\quad 4934.276604, \\quad 2566.124531, \\quad 2396.011968, \\quad 1553.258202, \\quad 1297.416363, \\quad 841.89061, \\quad 1361.150036, \\quad 488.491629, \\quad 610.185385, \\quad 845.894307, \\quad 475.487934, \\quad 845.864915, \\quad 171.415147, \\quad 661.780934, \\quad 260.92127, \\quad 332.462328, \\quad 577.679207, \\quad 212.03317, \\quad 469.402014, \\quad 197.154764, \\quad 399.042864, \\quad 113.996089, \\quad 335.465495, \\quad 260.04657, \\quad 223.011465, \\quad 236.792219, \\quad 329.313785, \\quad 346.363423, \\quad 120.226742, \\quad 505.327788, \\quad 230.191712, \\quad 451.244682, \\quad 407.265961, \\quad 600.901786, \\quad 1745.972054\\right ]$$"
      ],
      "text/plain": [
       "[1097866.64302, 5504.293034, 4934.276604, 2566.124531, 2396.011968, 1553.25820\n",
       "2, 1297.416363, 841.89061, 1361.150036, 488.491629, 610.185385, 845.894307, 47\n",
       "5.487934, 845.864915, 171.415147, 661.780934, 260.92127, 332.462328, 577.67920\n",
       "7, 212.03317, 469.402014, 197.154764, 399.042864, 113.996089, 335.465495, 260.\n",
       "04657, 223.011465, 236.792219, 329.313785, 346.363423, 120.226742, 505.327788,\n",
       " 230.191712, 451.244682, 407.265961, 600.901786, 1745.972054]"
      ]
     },
     "execution_count": 112,
     "metadata": {},
     "output_type": "execute_result"
    }
   ],
   "source": [
    "# this should get the marginal spectrum for ery\n",
    "ery_mar = [pylab.sum(sfs2d.data[i]) for i in range(0, len(sfs2d))]\n",
    "ery_mar"
   ]
  },
  {
   "cell_type": "code",
   "execution_count": 113,
   "metadata": {
    "collapsed": false
   },
   "outputs": [
    {
     "data": {
      "image/png": "[encoded data removed]",
      "text/latex": [
       "$$1130775.0$$"
      ],
      "text/plain": [
       "1130775.0"
      ]
     },
     "execution_count": 113,
     "metadata": {},
     "output_type": "execute_result"
    }
   ],
   "source": [
    "# this should get the marginal spectrum for ery and then take the sum over it\n",
    "sum([pylab.sum(sfs2d.data[i]) for i in range(0, len(sfs2d))])"
   ]
  },
  {
   "cell_type": "code",
   "execution_count": 114,
   "metadata": {
    "collapsed": false
   },
   "outputs": [
    {
     "data": {
      "image/png": "[encoded data removed]",
      "text/latex": [
       "$$60573.584426$$"
      ],
      "text/plain": [
       "60573.584426"
      ]
     },
     "execution_count": 114,
     "metadata": {},
     "output_type": "execute_result"
    }
   ],
   "source": [
    "# look what happens if I include masking\n",
    "sum([pylab.sum(sfs2d[i]) for i in range(0, len(sfs2d))])"
   ]
  },
  {
   "cell_type": "code",
   "execution_count": 115,
   "metadata": {
    "collapsed": false
   },
   "outputs": [
    {
     "data": {
      "text/plain": [
       "array([ -1.06991366e+06,   0.00000000e+00,   0.00000000e+00,\n",
       "         0.00000000e+00,   0.00000000e+00,   0.00000000e+00,\n",
       "         0.00000000e+00,   0.00000000e+00,   0.00000000e+00,\n",
       "         0.00000000e+00,   0.00000000e+00,   0.00000000e+00,\n",
       "         0.00000000e+00,   0.00000000e+00,   0.00000000e+00,\n",
       "         0.00000000e+00,   0.00000000e+00,   0.00000000e+00,\n",
       "         0.00000000e+00,   0.00000000e+00,   0.00000000e+00,\n",
       "         0.00000000e+00,   0.00000000e+00,   0.00000000e+00,\n",
       "         0.00000000e+00,   0.00000000e+00,   0.00000000e+00,\n",
       "         0.00000000e+00,   0.00000000e+00,   0.00000000e+00,\n",
       "         0.00000000e+00,   0.00000000e+00,   0.00000000e+00,\n",
       "         0.00000000e+00,   0.00000000e+00,   0.00000000e+00,\n",
       "        -2.87751595e+02])"
      ]
     },
     "execution_count": 115,
     "metadata": {},
     "output_type": "execute_result"
    }
   ],
   "source": [
    "fs_ery.data - ery_mar"
   ]
  },
  {
   "cell_type": "markdown",
   "metadata": {
    "collapsed": true
   },
   "source": [
    "So, during the marginalisation the masking of data in the fixed categories (0, 36) is the problem, producing incorrectly marginalised counts in those masked categories. This is shown in the following:"
   ]
  },
  {
   "cell_type": "code",
   "execution_count": 116,
   "metadata": {
    "collapsed": false
   },
   "outputs": [
    {
     "data": {
      "text/plain": [
       "Spectrum([-- 6546.449601 9367.767974 3791.122626 1749.224237 1598.038967 656.869675\n",
       " 412.970591 974.236078 142.404132 211.95951 521.906868 156.263585 5.346426\n",
       " 159.363508 220.258071 175.985792 19.108475 57.580136 167.053354 34.227901\n",
       " 87.965634 46.427042 86.934511 141.736163 52.391344 3.808952 47.21001\n",
       " 11.204495 38.908948 74.130926 0.03966 46.362627 39.973018 59.216701\n",
       " 1.520393 247.011103], folded=False, pop_ids=['ery', 'par'])"
      ]
     },
     "execution_count": 116,
     "metadata": {},
     "output_type": "execute_result"
    }
   ],
   "source": [
    "sfs2d[0]"
   ]
  },
  {
   "cell_type": "code",
   "execution_count": 117,
   "metadata": {
    "collapsed": false
   },
   "outputs": [
    {
     "data": {
      "image/png": "[encoded data removed]",
      "text/latex": [
       "$$27952.979034$$"
      ],
      "text/plain": [
       "27952.979034"
      ]
     },
     "execution_count": 117,
     "metadata": {},
     "output_type": "execute_result"
    }
   ],
   "source": [
    "pylab.sum(sfs2d[0])"
   ]
  },
  {
   "cell_type": "code",
   "execution_count": 118,
   "metadata": {
    "collapsed": false
   },
   "outputs": [
    {
     "data": {
      "text/plain": [
       "array([ 27952.979034,   5504.293034,   4934.276604,   2566.124531,\n",
       "         2396.011968,   1553.258202,   1297.416363,    841.89061 ,\n",
       "         1361.150036,    488.491629,    610.185385,    845.894307,\n",
       "          475.487934,    845.864915,    171.415147,    661.780934,\n",
       "          260.92127 ,    332.462328,    577.679207,    212.03317 ,\n",
       "          469.402014,    197.154764,    399.042864,    113.996089,\n",
       "          335.465495,    260.04657 ,    223.011465,    236.792219,\n",
       "          329.313785,    346.363423,    120.226742,    505.327788,\n",
       "          230.191712,    451.244682,    407.265961,    600.901786,\n",
       "         1458.220459])"
      ]
     },
     "execution_count": 118,
     "metadata": {},
     "output_type": "execute_result"
    }
   ],
   "source": [
    "# from dadi's marginalise function:\n",
    "fs_ery.data"
   ]
  },
  {
   "cell_type": "code",
   "execution_count": 119,
   "metadata": {
    "collapsed": false
   },
   "outputs": [
    {
     "data": {
      "image/png": "[encoded data removed]",
      "text/latex": [
       "$$0.006550483792$$"
      ],
      "text/plain": [
       "0.006550483792"
      ]
     },
     "execution_count": 119,
     "metadata": {},
     "output_type": "execute_result"
    }
   ],
   "source": [
    "# dividing by the correct number of sites to get pi per site:\n",
    "fs_ery.pi() / pylab.sum(sfs2d.data)"
   ]
  },
  {
   "cell_type": "markdown",
   "metadata": {},
   "source": [
    "This is very close to the estimate of $\\pi$ derived from the folded 1D spectrum of ery! (see above)"
   ]
  },
  {
   "cell_type": "code",
   "execution_count": 120,
   "metadata": {
    "collapsed": false
   },
   "outputs": [
    {
     "data": {
      "image/png": "[encoded data removed]",
      "text/latex": [
       "$$0.00737770333869$$"
      ],
      "text/plain": [
       "0.00737770333869"
      ]
     },
     "execution_count": 120,
     "metadata": {},
     "output_type": "execute_result"
    }
   ],
   "source": [
    "fs_par.pi() / pylab.sum(sfs2d.data)"
   ]
  },
  {
   "cell_type": "markdown",
   "metadata": {},
   "source": [
    "This is also nicely close to the estimate of $\\pi_{site}$ of par from its folded 1D spectrum."
   ]
  },
  {
   "cell_type": "markdown",
   "metadata": {},
   "source": [
    "---"
   ]
  },
  {
   "cell_type": "markdown",
   "metadata": {},
   "source": [
    "### Tajima's D"
   ]
  },
  {
   "cell_type": "code",
   "execution_count": 121,
   "metadata": {
    "collapsed": false
   },
   "outputs": [
    {
     "data": {
      "image/png": "[encoded data removed]",
      "text/latex": [
       "$$0.00664573998976$$"
      ],
      "text/plain": [
       "0.00664573998976"
      ]
     },
     "execution_count": 121,
     "metadata": {},
     "output_type": "execute_result"
    }
   ],
   "source": [
    "fs_ery.Watterson_theta() / pylab.sum(sfs2d.data)"
   ]
  },
  {
   "cell_type": "code",
   "execution_count": 122,
   "metadata": {
    "collapsed": false
   },
   "outputs": [
    {
     "data": {
      "image/png": "[encoded data removed]",
      "text/latex": [
       "$$-0.0547666589845$$"
      ],
      "text/plain": [
       "-0.0547666589845"
      ]
     },
     "execution_count": 122,
     "metadata": {},
     "output_type": "execute_result"
    }
   ],
   "source": [
    "fs_ery.Tajima_D()"
   ]
  },
  {
   "cell_type": "code",
   "execution_count": 123,
   "metadata": {
    "collapsed": false
   },
   "outputs": [
    {
     "data": {
      "image/png": "[encoded data removed]",
      "text/latex": [
       "$$-0.629631135625$$"
      ],
      "text/plain": [
       "-0.629631135625"
      ]
     },
     "execution_count": 123,
     "metadata": {},
     "output_type": "execute_result"
    }
   ],
   "source": [
    "fs_par.Tajima_D()"
   ]
  },
  {
   "cell_type": "markdown",
   "metadata": {},
   "source": [
    "Now, I am calculating Tajima's D from the ery marginal spectrum by hand in order to check whether $\\delta$a$\\delta$i is doing the right thing."
   ]
  },
  {
   "cell_type": "code",
   "execution_count": 124,
   "metadata": {
    "collapsed": false
   },
   "outputs": [
    {
     "data": {
      "image/png": "[encoded data removed]",
      "text/latex": [
       "$$7407.12330992$$"
      ],
      "text/plain": [
       "7407.12330992"
      ]
     },
     "execution_count": 124,
     "metadata": {},
     "output_type": "execute_result"
    }
   ],
   "source": [
    "n = 36\n",
    "pi_Wakeley = (sum( [i*(n-i)*fs_ery.data[i] for i in range(1, n+1)] ) \n",
    "              * 2.0 / (n*(n-1)))\n",
    "                #/ pylab.sum(sfs2d.data)\n",
    "pi_Wakeley"
   ]
  },
  {
   "cell_type": "code",
   "execution_count": 125,
   "metadata": {
    "collapsed": false
   },
   "outputs": [
    {
     "data": {
      "image/png": "[encoded data removed]",
      "text/latex": [
       "$$31162.384933$$"
      ],
      "text/plain": [
       "31162.384933"
      ]
     },
     "execution_count": 125,
     "metadata": {},
     "output_type": "execute_result"
    }
   ],
   "source": [
    "# number of segregating sites\n",
    "# this sums over all unmasked positions in the array\n",
    "pylab.sum(fs_ery)"
   ]
  },
  {
   "cell_type": "code",
   "execution_count": 126,
   "metadata": {
    "collapsed": false
   },
   "outputs": [
    {
     "data": {
      "image/png": "[encoded data removed]",
      "text/latex": [
       "$$31162.384933$$"
      ],
      "text/plain": [
       "31162.384933"
      ]
     },
     "execution_count": 126,
     "metadata": {},
     "output_type": "execute_result"
    }
   ],
   "source": [
    "fs_ery.S()"
   ]
  },
  {
   "cell_type": "code",
   "execution_count": 127,
   "metadata": {
    "collapsed": false
   },
   "outputs": [
    {
     "data": {
      "image/png": "[encoded data removed]",
      "text/latex": [
       "$$7514.83663694$$"
      ],
      "text/plain": [
       "7514.83663694"
      ]
     },
     "execution_count": 127,
     "metadata": {},
     "output_type": "execute_result"
    }
   ],
   "source": [
    "S = pylab.sum(fs_ery)\n",
    "theta_Watterson = S / pylab.sum(1.0 / (pylab.arange(1, n)))\n",
    "theta_Watterson"
   ]
  },
  {
   "cell_type": "code",
   "execution_count": 128,
   "metadata": {
    "collapsed": false
   },
   "outputs": [],
   "source": [
    "# normalizing constant, see page 45 in Gillespie\n",
    "a1 = pylab.sum(1.0 / pylab.arange(1, n))\n",
    "#print a1\n",
    "a2 = pylab.sum(1.0 / pylab.arange(1, n)**2.0)\n",
    "#print a2\n",
    "b1 = (n+1.0)/(3.0*(n-1))\n",
    "#print b1\n",
    "b2 = 2.0*(n**2 + n + 3)/(9.0*n*(n-1))\n",
    "#print b2\n",
    "c1 = b1 - (1.0/a1)\n",
    "#print c1\n",
    "c2 = b2 - (n+2.0)/(a1*n) + a2/a1**2\n",
    "#print c2\n",
    "C = ((c1/a1)*S + (c2/(a1**2.0 + a2))*S*(S-1))\n",
    "C = C**(1/2.0)"
   ]
  },
  {
   "cell_type": "code",
   "execution_count": 129,
   "metadata": {
    "collapsed": false
   },
   "outputs": [
    {
     "name": "stdout",
     "output_type": "stream",
     "text": [
      "-0.054767\n"
     ]
    }
   ],
   "source": [
    "ery_Tajimas_D = (pi_Wakeley - theta_Watterson) / C\n",
    "print '{0:.6f}'.format(ery_Tajimas_D)"
   ]
  },
  {
   "cell_type": "code",
   "execution_count": 130,
   "metadata": {
    "collapsed": false
   },
   "outputs": [
    {
     "data": {
      "image/png": "[encoded data removed]",
      "text/latex": [
       "$$-4.64905891562e-16$$"
      ],
      "text/plain": [
       "-4.64905891562e-16"
      ]
     },
     "execution_count": 130,
     "metadata": {},
     "output_type": "execute_result"
    }
   ],
   "source": [
    "ery_Tajimas_D - fs_ery.Tajima_D()"
   ]
  },
  {
   "cell_type": "markdown",
   "metadata": {},
   "source": [
    "$\\delta$a$\\delta$i seems to do the right thing. Note, that the estimate of Tajima's D from this marginal spectrum of ery is slightly different from the estimate derived from the folded 1D spectrum of ery (see /data3/claudius/Big_Data/ANGSD/SFS/SFS.Rmd). The folded 1D spectrum resulted in a Tajima's D estimate of $\\sim$0.05, i. e. a difference of almost 0.1. Again, the 2D spectrum is based on only those sites for which there were at least 9 individiuals with data in *both* populations, whereas the 1D folded spectrum of ery included all sites for which there were 9 ery individuals with data (see line 1571 onwards in `assembly.sh`)."
   ]
  },
  {
   "cell_type": "code",
   "execution_count": 131,
   "metadata": {
    "collapsed": false
   },
   "outputs": [
    {
     "data": {
      "image/png": "[encoded data removed]",
      "text/latex": [
       "$$-0.629631135625$$"
      ],
      "text/plain": [
       "-0.629631135625"
      ]
     },
     "execution_count": 131,
     "metadata": {},
     "output_type": "execute_result"
    }
   ],
   "source": [
    "fs_par.Tajima_D()"
   ]
  },
  {
   "cell_type": "markdown",
   "metadata": {},
   "source": [
    "My estimate from the folded 1D spectrum of par was -0.6142268 (see /data3/claudius/Big_Data/ANGSD/SFS/SFS.Rmd). "
   ]
  },
  {
   "cell_type": "markdown",
   "metadata": {},
   "source": [
    "### Multi-population statistics"
   ]
  },
  {
   "cell_type": "code",
   "execution_count": 134,
   "metadata": {
    "collapsed": false
   },
   "outputs": [
    {
     "data": {
      "image/png": "[encoded data removed]",
      "text/latex": [
       "$$60573.584426$$"
      ],
      "text/plain": [
       "60573.584426"
      ]
     },
     "execution_count": 134,
     "metadata": {},
     "output_type": "execute_result"
    }
   ],
   "source": [
    "EryPar_unfolded_2dsfs.S()"
   ]
  },
  {
   "cell_type": "markdown",
   "metadata": {},
   "source": [
    "The 2D spectrum contains counts from 60k sites that are variable in *par* or *ery* or both."
   ]
  },
  {
   "cell_type": "code",
   "execution_count": 136,
   "metadata": {
    "collapsed": false
   },
   "outputs": [
    {
     "data": {
      "image/png": "[encoded data removed]",
      "text/latex": [
       "$$0.265279440857$$"
      ],
      "text/plain": [
       "0.265279440857"
      ]
     },
     "execution_count": 136,
     "metadata": {},
     "output_type": "execute_result"
    }
   ],
   "source": [
    "EryPar_unfolded_2dsfs.Fst()"
   ]
  },
  {
   "cell_type": "markdown",
   "metadata": {},
   "source": [
    "This estimate of $F_{ST}$ according to Weir and Cockerham (1984) is well below the estimate of $\\sim$0.3 from ANGSD according to Bhatia/Hudson (2013). Note, however, that this estimate showed a positive bias of around 0.025 in 100 permutations of population labels of individuals. Taking the positive bias into account, both estimates of $F_{ST}$ are quite similar."
   ]
  },
  {
   "cell_type": "markdown",
   "metadata": {},
   "source": [
    "The following function `scramble_pop_ids` should generate a 2D SFS with counts as if individuals were assigned to populations randomly. Theoretically, the $F_{ST}$ calculated from this SFS should be 0."
   ]
  },
  {
   "cell_type": "code",
   "execution_count": 145,
   "metadata": {
    "collapsed": false
   },
   "outputs": [],
   "source": [
    "%psource EryPar_unfolded_2dsfs.scramble_pop_ids"
   ]
  },
  {
   "cell_type": "code",
   "execution_count": 153,
   "metadata": {
    "collapsed": false
   },
   "outputs": [
    {
     "data": {
      "text/plain": [
       "<matplotlib.colorbar.Colorbar at 0x7fe7a3801290>"
      ]
     },
     "execution_count": 153,
     "metadata": {},
     "output_type": "execute_result"
    },
    {
     "data": {
      "image/png": "[encoded data removed]",
      "text/plain": [
       "<matplotlib.figure.Figure at 0x7fe7ae1608d0>"
      ]
     },
     "metadata": {},
     "output_type": "display_data"
    }
   ],
   "source": [
    "# plot the scrambled 2D SFS\n",
    "\n",
    "dadi.Plotting.plot_single_2d_sfs(EryPar_unfolded_2dsfs.scramble_pop_ids(), vmin=1)"
   ]
  },
  {
   "cell_type": "markdown",
   "metadata": {},
   "source": [
    "So, this is how the 2D SFS would look like if _ery_ and _par_ were not genetically differentiated."
   ]
  },
  {
   "cell_type": "code",
   "execution_count": 154,
   "metadata": {
    "collapsed": false
   },
   "outputs": [
    {
     "data": {
      "image/png": "[encoded data removed]",
      "text/latex": [
       "$$0.013698630137$$"
      ],
      "text/plain": [
       "0.013698630137"
      ]
     },
     "execution_count": 154,
     "metadata": {},
     "output_type": "execute_result"
    }
   ],
   "source": [
    "# get Fst for scrambled SFS\n",
    "\n",
    "EryPar_unfolded_2dsfs.scramble_pop_ids().Fst()"
   ]
  },
  {
   "cell_type": "markdown",
   "metadata": {},
   "source": [
    "The $F_{ST}$ from the scrambled SFS is much lower than the $F_{ST}$ of the observed SFS. That should mean that there is significant population structure. However, the $F_{ST}$ from the scrambled SFS is not 0. I don't know why that is."
   ]
  },
  {
   "cell_type": "code",
   "execution_count": null,
   "metadata": {
    "collapsed": true
   },
   "outputs": [],
   "source": []
  },
  {
   "cell_type": "markdown",
   "metadata": {},
   "source": [
    "---"
   ]
  },
  {
   "cell_type": "code",
   "execution_count": 138,
   "metadata": {
    "collapsed": true
   },
   "outputs": [],
   "source": [
    "# folding\n",
    "\n",
    "EryPar_folded_2dsfs = EryPar_unfolded_2dsfs.fold()"
   ]
  },
  {
   "cell_type": "code",
   "execution_count": 139,
   "metadata": {
    "collapsed": false
   },
   "outputs": [
    {
     "data": {
      "text/plain": [
       "Spectrum([[-- 6651.315570000001 9534.20133 ..., 59.216701 19.075761999999997\n",
       "  208.9562905]\n",
       " [4407.352191 453.932731 409.549382 ..., 3.9669600000000003\n",
       "  4.851331999999999 --]\n",
       " [3746.5561820000003 295.73506799999996 261.799583 ..., 1e-06 -- --]\n",
       " ..., \n",
       " [26.699661 1.593931 1e-06 ..., -- -- --]\n",
       " [78.253372 4.851332 -- ..., -- -- --]\n",
       " [208.9562905 -- -- ..., -- -- --]], folded=True, pop_ids=['ery', 'par'])"
      ]
     },
     "execution_count": 139,
     "metadata": {},
     "output_type": "execute_result"
    }
   ],
   "source": [
    "EryPar_folded_2dsfs"
   ]
  },
  {
   "cell_type": "code",
   "execution_count": 140,
   "metadata": {
    "collapsed": false
   },
   "outputs": [
    {
     "data": {
      "text/plain": [
       "array([[ True, False, False, ..., False, False, False],\n",
       "       [False, False, False, ..., False, False,  True],\n",
       "       [False, False, False, ..., False,  True,  True],\n",
       "       ..., \n",
       "       [False, False, False, ...,  True,  True,  True],\n",
       "       [False, False,  True, ...,  True,  True,  True],\n",
       "       [False,  True,  True, ...,  True,  True,  True]], dtype=bool)"
      ]
     },
     "execution_count": 140,
     "metadata": {},
     "output_type": "execute_result"
    }
   ],
   "source": [
    "EryPar_folded_2dsfs.mask"
   ]
  },
  {
   "cell_type": "markdown",
   "metadata": {},
   "source": [
    "### Plotting"
   ]
  },
  {
   "cell_type": "code",
   "execution_count": 141,
   "metadata": {
    "collapsed": false
   },
   "outputs": [
    {
     "data": {
      "text/plain": [
       "<matplotlib.colorbar.Colorbar at 0x7f84b8600990>"
      ]
     },
     "execution_count": 141,
     "metadata": {},
     "output_type": "execute_result"
    },
    {
     "data": {
      "image/png": "[encoded data removed]",
      "text/plain": [
       "<matplotlib.figure.Figure at 0x7f84b989b310>"
      ]
     },
     "metadata": {},
     "output_type": "display_data"
    }
   ],
   "source": [
    "dadi.Plotting.plot_single_2d_sfs(EryPar_unfolded_2dsfs, vmin=1)"
   ]
  },
  {
   "cell_type": "code",
   "execution_count": 142,
   "metadata": {
    "collapsed": false
   },
   "outputs": [
    {
     "data": {
      "text/plain": [
       "<matplotlib.colorbar.Colorbar at 0x7f84b8181110>"
      ]
     },
     "execution_count": 142,
     "metadata": {},
     "output_type": "execute_result"
    },
    {
     "data": {
      "image/png": "[encoded data removed]",
      "text/plain": [
       "<matplotlib.figure.Figure at 0x7f84b861cbd0>"
      ]
     },
     "metadata": {},
     "output_type": "display_data"
    }
   ],
   "source": [
    "dadi.Plotting.plot_single_2d_sfs(EryPar_folded_2dsfs, vmin=1)"
   ]
  },
  {
   "cell_type": "markdown",
   "metadata": {},
   "source": [
    "The folded 2D spectrum is *not* a minor allele frequency spectrum as are the 1D folded spectra of ery and par. This is because an allele that is minor in one population can be the major allele in the other. What is not counted are the alleles that are major in *both* populations, i. e. the upper right corner."
   ]
  },
  {
   "cell_type": "markdown",
   "metadata": {},
   "source": [
    "For the 2D spectrum to make sense it is crucial that allele frequencies are polarised the same way in both populations, either with an outgroup sequence or arbitrarily with respect to the reference sequence (as I did here)."
   ]
  },
  {
   "cell_type": "markdown",
   "metadata": {},
   "source": [
    "#### How to fold a 1D spectrum"
   ]
  },
  {
   "cell_type": "code",
   "execution_count": 143,
   "metadata": {
    "collapsed": false
   },
   "outputs": [
    {
     "data": {
      "text/plain": [
       "Spectrum([-- 5504.293033999999 4934.276604000001 2566.124531 2396.011968\n",
       " 1553.2582019999998 1297.416363 841.8906099999998 1361.1500360000002\n",
       " 488.49162899999993 610.185385 845.894307 475.48793400000005 845.864915\n",
       " 171.41514700000002 661.7809339999999 260.92126999999994 332.462328\n",
       " 577.679207 212.03316999999998 469.402014 197.154764 399.04286399999995\n",
       " 113.996089 335.46549500000003 260.04657000000003 223.011465 236.792219\n",
       " 329.313785 346.363423 120.226742 505.32778799999994 230.19171200000002\n",
       " 451.244682 407.265961 600.9017859999999 --], folded=False, pop_ids=['ery'])"
      ]
     },
     "execution_count": 143,
     "metadata": {},
     "output_type": "execute_result"
    }
   ],
   "source": [
    "# unfolded spectrum from marginalisation of 2D unfolded spectrum\n",
    "fs_ery"
   ]
  },
  {
   "cell_type": "code",
   "execution_count": 144,
   "metadata": {
    "collapsed": false
   },
   "outputs": [
    {
     "data": {
      "image/png": "[encoded data removed]",
      "text/latex": [
       "$$37$$"
      ],
      "text/plain": [
       "37"
      ]
     },
     "execution_count": 144,
     "metadata": {},
     "output_type": "execute_result"
    }
   ],
   "source": [
    "len(fs_ery)"
   ]
  },
  {
   "cell_type": "code",
   "execution_count": 145,
   "metadata": {
    "collapsed": false
   },
   "outputs": [
    {
     "data": {
      "text/plain": [
       "Spectrum([-- 6105.194819999999 5341.542565000001 3017.369213 2626.2036799999996\n",
       " 2058.5859899999996 1417.643105 1188.2540329999997 1690.4638210000003\n",
       " 725.2838479999999 833.19685 1105.940877 810.9534290000001 959.861004\n",
       " 570.4580109999999 858.9356979999999 730.323284 544.495498 577.679207 -- --\n",
       " -- -- -- -- -- -- -- -- -- -- -- -- -- -- -- --], folded=True, pop_ids=['ery'])"
      ]
     },
     "execution_count": 145,
     "metadata": {},
     "output_type": "execute_result"
    }
   ],
   "source": [
    "fs_ery.fold()"
   ]
  },
  {
   "cell_type": "markdown",
   "metadata": {},
   "source": [
    "Let's use the formula (1.2) from Wakeley2009 to fold the 1D spectrum manually:\n",
    "$$\n",
    "\\eta_{i} = \\frac{\\zeta_{i} + \\zeta_{n-i}}{1 + \\delta_{i, n-i}} \\qquad 1 \\le i \\le [n/2]\n",
    "$$\n",
    "$n$ is the number of gene copies sampled, i. e. haploid sample size. $[n/2]$ is the largest integer less than or equal to n/2 (to handle uneven sample sizes). $\\zeta_{i}$ are the unfolded frequencies and $\\delta_{i, n-i}$ is Kronecker's $\\delta$ which is 1 if $i = n-i$ and zero otherwise (to avoid counting the unfolded n/2 frequency class twice with even sample sizes)."
   ]
  },
  {
   "cell_type": "code",
   "execution_count": 146,
   "metadata": {
    "collapsed": false
   },
   "outputs": [
    {
     "data": {
      "text/plain": [
       "Spectrum([-- 6105.194819999999 5341.542565000001 3017.369213 2626.2036799999996\n",
       " 2058.5859899999996 1417.643105 1188.2540329999997 1690.4638210000003\n",
       " 725.2838479999999 833.19685 1105.940877 810.9534290000001 959.861004\n",
       " 570.4580109999999 858.9356979999999 730.323284 544.495498 577.679207], folded=False, pop_ids=['ery'])"
      ]
     },
     "execution_count": 146,
     "metadata": {},
     "output_type": "execute_result"
    }
   ],
   "source": [
    "fs_ery_folded = fs_ery.copy() # make a copy of the UNfolded spectrum\n",
    "n = len(fs_ery)-1\n",
    "for i in range(len(fs_ery)):\n",
    "    fs_ery_folded[i] += fs_ery[n-i]\n",
    "    if i == n/2.0:\n",
    "        fs_ery_folded[i] /= 2\n",
    "fs_ery_folded[0:19]"
   ]
  },
  {
   "cell_type": "code",
   "execution_count": 147,
   "metadata": {
    "collapsed": false
   },
   "outputs": [
    {
     "data": {
      "text/plain": [
       "True"
      ]
     },
     "execution_count": 147,
     "metadata": {},
     "output_type": "execute_result"
    }
   ],
   "source": [
    "isinstance(fs_ery_folded, pylab.ndarray)"
   ]
  },
  {
   "cell_type": "code",
   "execution_count": 148,
   "metadata": {
    "collapsed": false
   },
   "outputs": [
    {
     "name": "stdout",
     "output_type": "stream",
     "text": [
      "[True, False, False, False, False, False, False, False, False, False, False, False, False, False, False, False, False, False, False, True, True, True, True, True, True, True, True, True, True, True, True, True, True, True, True, True, True]\n",
      "19\n"
     ]
    }
   ],
   "source": [
    "mask = [True] \n",
    "mask.extend([False] * 18)\n",
    "mask.extend([True] * 18)\n",
    "print mask\n",
    "print sum(mask)"
   ]
  },
  {
   "cell_type": "code",
   "execution_count": 149,
   "metadata": {
    "collapsed": false
   },
   "outputs": [
    {
     "name": "stdout",
     "output_type": "stream",
     "text": [
      "[True, False, False, False, False, False, False, False, False, False, False, False, False, False, False, False, False, False, False, True, True, True, True, True, True, True, True, True, True, True, True, True, True, True, True, True, True]\n",
      "19\n"
     ]
    }
   ],
   "source": [
    "mask = [True] * 37\n",
    "for i in range(len(mask)):\n",
    "    if i > 0 and i < 19:\n",
    "        mask[i] = False\n",
    "print mask\n",
    "print sum(mask)"
   ]
  },
  {
   "cell_type": "markdown",
   "metadata": {},
   "source": [
    "Here is how to flatten an array of arrays with list comprehension:"
   ]
  },
  {
   "cell_type": "code",
   "execution_count": 150,
   "metadata": {
    "collapsed": false
   },
   "outputs": [
    {
     "name": "stdout",
     "output_type": "stream",
     "text": [
      "[[True], [False, False, False, False, False, False, False, False, False, False, False, False, False, False, False, False, False, False], [True, True, True, True, True, True, True, True, True, True, True, True, True, True, True, True, True, True]]\n"
     ]
    }
   ],
   "source": [
    "mask = [[True], [False] * 18, [True] * 18]\n",
    "print mask"
   ]
  },
  {
   "cell_type": "code",
   "execution_count": 151,
   "metadata": {
    "collapsed": false
   },
   "outputs": [
    {
     "name": "stdout",
     "output_type": "stream",
     "text": [
      "[True, False, False, False, False, False, False, False, False, False, False, False, False, False, False, False, False, False, False, True, True, True, True, True, True, True, True, True, True, True, True, True, True, True, True, True, True]\n"
     ]
    }
   ],
   "source": [
    "print [elem for a in mask for elem in a]"
   ]
  },
  {
   "cell_type": "markdown",
   "metadata": {},
   "source": [
    "Set new mask for the folded spectrum:"
   ]
  },
  {
   "cell_type": "code",
   "execution_count": 152,
   "metadata": {
    "collapsed": true
   },
   "outputs": [],
   "source": [
    "fs_ery_folded.mask = mask"
   ]
  },
  {
   "cell_type": "code",
   "execution_count": 153,
   "metadata": {
    "collapsed": false
   },
   "outputs": [],
   "source": [
    "fs_ery_folded.folded = True"
   ]
  },
  {
   "cell_type": "code",
   "execution_count": 154,
   "metadata": {
    "collapsed": false
   },
   "outputs": [
    {
     "data": {
      "text/plain": [
       "Spectrum([-- -- -- -- -- -- -- -- -- -- -- -- -- -- -- -- -- -- -- -- -- -- -- -- --\n",
       " -- -- -- -- -- -- -- -- -- -- -- --], folded=True, pop_ids=['ery'])"
      ]
     },
     "execution_count": 154,
     "metadata": {},
     "output_type": "execute_result"
    }
   ],
   "source": [
    "fs_ery_folded - fs_ery.fold()"
   ]
  },
  {
   "cell_type": "markdown",
   "metadata": {},
   "source": [
    "The `fold()` function works correctly for 1D spectra, at least. How about 2D spectra?"
   ]
  },
  {
   "cell_type": "markdown",
   "metadata": {},
   "source": [
    "$$\n",
    "\\eta_{i,j} = \\frac{\\zeta_{i,j} + \\zeta_{n-i, m-j}}{1 + \\delta_{i, n-i; j, m-j}} \n",
    "            \\qquad 1 \\le i+j \\le \\Big[\\frac{n+m}{2}\\Big]\n",
    "$$"
   ]
  },
  {
   "cell_type": "code",
   "execution_count": 155,
   "metadata": {
    "collapsed": false
   },
   "outputs": [
    {
     "data": {
      "text/plain": [
       "array([36, 36])"
      ]
     },
     "execution_count": 155,
     "metadata": {},
     "output_type": "execute_result"
    }
   ],
   "source": [
    "EryPar_unfolded_2dsfs.sample_sizes"
   ]
  },
  {
   "cell_type": "code",
   "execution_count": 156,
   "metadata": {
    "collapsed": false
   },
   "outputs": [
    {
     "data": {
      "text/plain": [
       "array([[ 0,  1,  2, ..., 34, 35, 36],\n",
       "       [ 1,  2,  3, ..., 35, 36, 37],\n",
       "       [ 2,  3,  4, ..., 36, 37, 38],\n",
       "       ..., \n",
       "       [34, 35, 36, ..., 68, 69, 70],\n",
       "       [35, 36, 37, ..., 69, 70, 71],\n",
       "       [36, 37, 38, ..., 70, 71, 72]])"
      ]
     },
     "execution_count": 156,
     "metadata": {},
     "output_type": "execute_result"
    }
   ],
   "source": [
    "EryPar_unfolded_2dsfs._total_per_entry()"
   ]
  },
  {
   "cell_type": "code",
   "execution_count": 157,
   "metadata": {
    "collapsed": false
   },
   "outputs": [],
   "source": [
    "# copy the unfolded 2D spectrum for folding\n",
    "import copy\n",
    "sfs2d_folded = copy.deepcopy(EryPar_unfolded_2dsfs)"
   ]
  },
  {
   "cell_type": "code",
   "execution_count": 158,
   "metadata": {
    "collapsed": false
   },
   "outputs": [],
   "source": [
    "n = len(sfs2d_folded)-1\n",
    "m = len(sfs2d_folded[0])-1\n",
    "for i in range(n+1):\n",
    "    for j in range(m+1):\n",
    "        sfs2d_folded[i,j] += sfs2d_folded[n-i, m-j]\n",
    "        if i == n/2.0 and j == m/2.0:\n",
    "            sfs2d_folded[i,j] /= 2"
   ]
  },
  {
   "cell_type": "code",
   "execution_count": 159,
   "metadata": {
    "collapsed": false
   },
   "outputs": [
    {
     "data": {
      "text/plain": [
       "array([[False, False, False, ..., False, False, False],\n",
       "       [False, False, False, ..., False, False,  True],\n",
       "       [False, False, False, ..., False,  True,  True],\n",
       "       ..., \n",
       "       [False, False, False, ...,  True,  True,  True],\n",
       "       [False, False,  True, ...,  True,  True,  True],\n",
       "       [False,  True,  True, ...,  True,  True,  True]], dtype=bool)"
      ]
     },
     "execution_count": 159,
     "metadata": {},
     "output_type": "execute_result"
    }
   ],
   "source": [
    "mask = sfs2d_folded._total_per_entry() > (n+m)/2\n",
    "mask"
   ]
  },
  {
   "cell_type": "code",
   "execution_count": 160,
   "metadata": {
    "collapsed": true
   },
   "outputs": [],
   "source": [
    "sfs2d_folded.mask = mask\n",
    "sfs2d_folded.fold = True"
   ]
  },
  {
   "cell_type": "code",
   "execution_count": 161,
   "metadata": {
    "collapsed": false
   },
   "outputs": [
    {
     "data": {
      "text/plain": [
       "<matplotlib.colorbar.Colorbar at 0x7f84b809d790>"
      ]
     },
     "execution_count": 161,
     "metadata": {},
     "output_type": "execute_result"
    },
    {
     "data": {
      "image/png": "[encoded data removed]",
      "text/plain": [
       "<matplotlib.figure.Figure at 0x7f84b7ac3dd0>"
      ]
     },
     "metadata": {},
     "output_type": "display_data"
    }
   ],
   "source": [
    "dadi.Plotting.plot_single_2d_sfs(sfs2d_folded, vmin=1)"
   ]
  },
  {
   "cell_type": "markdown",
   "metadata": {},
   "source": [
    "I am going to go through every step in the `fold` function of dadi:"
   ]
  },
  {
   "cell_type": "code",
   "execution_count": 162,
   "metadata": {
    "collapsed": true
   },
   "outputs": [],
   "source": [
    "# copy the unfolded 2D spectrum for folding\n",
    "import copy\n",
    "sfs2d_unfolded = copy.deepcopy(EryPar_unfolded_2dsfs)"
   ]
  },
  {
   "cell_type": "code",
   "execution_count": 163,
   "metadata": {
    "collapsed": false
   },
   "outputs": [
    {
     "data": {
      "image/png": "[encoded data removed]",
      "text/latex": [
       "$$72$$"
      ],
      "text/plain": [
       "72"
      ]
     },
     "execution_count": 163,
     "metadata": {},
     "output_type": "execute_result"
    }
   ],
   "source": [
    "total_samples = pylab.sum(sfs2d_unfolded.sample_sizes)\n",
    "total_samples"
   ]
  },
  {
   "cell_type": "code",
   "execution_count": 164,
   "metadata": {
    "collapsed": false
   },
   "outputs": [
    {
     "data": {
      "text/plain": [
       "<matplotlib.colorbar.Colorbar at 0x7f84b7c5e810>"
      ]
     },
     "execution_count": 164,
     "metadata": {},
     "output_type": "execute_result"
    },
    {
     "data": {
      "image/png": "[encoded data removed]",
      "text/plain": [
       "<matplotlib.figure.Figure at 0x7f84b8624390>"
      ]
     },
     "metadata": {},
     "output_type": "display_data"
    }
   ],
   "source": [
    "total_per_entry = dadi.Spectrum(sfs2d_unfolded._total_per_entry(), pop_ids=['ery', 'par'])\n",
    "#total_per_entry.pop_ids = ['ery', 'par']\n",
    "dadi.Plotting.plot_single_2d_sfs(total_per_entry, vmin=1)"
   ]
  },
  {
   "cell_type": "code",
   "execution_count": 165,
   "metadata": {
    "collapsed": false
   },
   "outputs": [
    {
     "data": {
      "text/plain": [
       "array([[ 0,  1,  2, ..., 34, 35, 36],\n",
       "       [ 1,  2,  3, ..., 35, 36, 37],\n",
       "       [ 2,  3,  4, ..., 36, 37, 38],\n",
       "       ..., \n",
       "       [34, 35, 36, ..., 68, 69, 70],\n",
       "       [35, 36, 37, ..., 69, 70, 71],\n",
       "       [36, 37, 38, ..., 70, 71, 72]])"
      ]
     },
     "execution_count": 165,
     "metadata": {},
     "output_type": "execute_result"
    }
   ],
   "source": [
    "total_per_entry = sfs2d_unfolded._total_per_entry()\n",
    "total_per_entry"
   ]
  },
  {
   "cell_type": "code",
   "execution_count": 166,
   "metadata": {
    "collapsed": false
   },
   "outputs": [
    {
     "data": {
      "text/plain": [
       "array([[False, False, False, ..., False, False, False],\n",
       "       [False, False, False, ..., False, False,  True],\n",
       "       [False, False, False, ..., False,  True,  True],\n",
       "       ..., \n",
       "       [False, False, False, ...,  True,  True,  True],\n",
       "       [False, False,  True, ...,  True,  True,  True],\n",
       "       [False,  True,  True, ...,  True,  True,  True]], dtype=bool)"
      ]
     },
     "execution_count": 166,
     "metadata": {},
     "output_type": "execute_result"
    }
   ],
   "source": [
    "where_folded_out = total_per_entry > total_samples/2\n",
    "where_folded_out"
   ]
  },
  {
   "cell_type": "code",
   "execution_count": 167,
   "metadata": {
    "collapsed": false
   },
   "outputs": [
    {
     "data": {
      "text/plain": [
       "array([[ True, False, False, ..., False, False, False],\n",
       "       [False, False, False, ..., False, False, False],\n",
       "       [False, False, False, ..., False, False, False],\n",
       "       ..., \n",
       "       [False, False, False, ..., False, False, False],\n",
       "       [False, False, False, ..., False, False, False],\n",
       "       [False, False, False, ..., False, False,  True]], dtype=bool)"
      ]
     },
     "execution_count": 167,
     "metadata": {},
     "output_type": "execute_result"
    }
   ],
   "source": [
    "original_mask = sfs2d_unfolded.mask\n",
    "original_mask"
   ]
  },
  {
   "cell_type": "code",
   "execution_count": 168,
   "metadata": {
    "collapsed": false
   },
   "outputs": [
    {
     "data": {
      "text/plain": [
       "array([ True, False,  True], dtype=bool)"
      ]
     },
     "execution_count": 168,
     "metadata": {},
     "output_type": "execute_result"
    }
   ],
   "source": [
    "pylab.logical_or([True, False, True], [False, False, True])"
   ]
  },
  {
   "cell_type": "code",
   "execution_count": 169,
   "metadata": {
    "collapsed": false
   },
   "outputs": [
    {
     "data": {
      "image/png": "[encoded data removed]",
      "text/latex": [
       "$$\\left ( 37, \\quad 37\\right )$$"
      ],
      "text/plain": [
       "(37, 37)"
      ]
     },
     "execution_count": 169,
     "metadata": {},
     "output_type": "execute_result"
    }
   ],
   "source": [
    "# get the number of elements along each axis\n",
    "sfs2d_unfolded.shape"
   ]
  },
  {
   "cell_type": "code",
   "execution_count": 170,
   "metadata": {
    "collapsed": false
   },
   "outputs": [
    {
     "data": {
      "text/plain": [
       "[slice(None, None, -1), slice(None, None, -1)]"
      ]
     },
     "execution_count": 170,
     "metadata": {},
     "output_type": "execute_result"
    }
   ],
   "source": [
    "[slice(None, None, -1) for i in sfs2d_unfolded.shape]"
   ]
  },
  {
   "cell_type": "code",
   "execution_count": 171,
   "metadata": {
    "collapsed": false
   },
   "outputs": [
    {
     "data": {
      "text/plain": [
       "[slice(None, None, -1), slice(None, None, -1)]"
      ]
     },
     "execution_count": 171,
     "metadata": {},
     "output_type": "execute_result"
    }
   ],
   "source": [
    "matrix = pylab.array([\n",
    "    [1, 2, 3, 4],\n",
    "    [5, 6, 7, 8],\n",
    "    [9, 10, 11, 12]\n",
    "])\n",
    "reverse_slice = [slice(None, None, -1) for i in matrix.shape]\n",
    "reverse_slice"
   ]
  },
  {
   "cell_type": "code",
   "execution_count": 172,
   "metadata": {
    "collapsed": false
   },
   "outputs": [
    {
     "data": {
      "text/plain": [
       "array([[12, 11, 10,  9],\n",
       "       [ 8,  7,  6,  5],\n",
       "       [ 4,  3,  2,  1]])"
      ]
     },
     "execution_count": 172,
     "metadata": {},
     "output_type": "execute_result"
    }
   ],
   "source": [
    "matrix[reverse_slice]"
   ]
  },
  {
   "cell_type": "code",
   "execution_count": 173,
   "metadata": {
    "collapsed": false
   },
   "outputs": [
    {
     "data": {
      "text/plain": [
       "array([[12, 11, 10,  9],\n",
       "       [ 8,  7,  6,  5],\n",
       "       [ 4,  3,  2,  1]])"
      ]
     },
     "execution_count": 173,
     "metadata": {},
     "output_type": "execute_result"
    }
   ],
   "source": [
    "matrix[::-1,::-1]"
   ]
  },
  {
   "cell_type": "markdown",
   "metadata": {},
   "source": [
    "With the variable length list of slice objects, one can generalise the reverse of arrays with any dimensions."
   ]
  },
  {
   "cell_type": "code",
   "execution_count": 174,
   "metadata": {
    "collapsed": false
   },
   "outputs": [
    {
     "data": {
      "text/plain": [
       "array([[ True, False, False, ..., False, False, False],\n",
       "       [False, False, False, ..., False, False, False],\n",
       "       [False, False, False, ..., False, False, False],\n",
       "       ..., \n",
       "       [False, False, False, ..., False, False, False],\n",
       "       [False, False, False, ..., False, False, False],\n",
       "       [False, False, False, ..., False, False,  True]], dtype=bool)"
      ]
     },
     "execution_count": 174,
     "metadata": {},
     "output_type": "execute_result"
    }
   ],
   "source": [
    "final_mask = pylab.logical_or(original_mask, dadi.Numerics.reverse_array(original_mask))\n",
    "final_mask"
   ]
  },
  {
   "cell_type": "markdown",
   "metadata": {},
   "source": [
    "Here, folding doesn't mask new cells."
   ]
  },
  {
   "cell_type": "code",
   "execution_count": 175,
   "metadata": {
    "collapsed": true
   },
   "outputs": [],
   "source": [
    "?pylab.where"
   ]
  },
  {
   "cell_type": "code",
   "execution_count": 176,
   "metadata": {
    "collapsed": false
   },
   "outputs": [
    {
     "data": {
      "text/plain": [
       "array([[1, 2, 3, 4],\n",
       "       [5, 0, 0, 0],\n",
       "       [0, 0, 0, 0]])"
      ]
     },
     "execution_count": 176,
     "metadata": {},
     "output_type": "execute_result"
    }
   ],
   "source": [
    "pylab.where(matrix < 6, matrix, 0)"
   ]
  },
  {
   "cell_type": "code",
   "execution_count": 177,
   "metadata": {
    "collapsed": false
   },
   "outputs": [
    {
     "name": "stdout",
     "output_type": "stream",
     "text": [
      "[[   0.          0.          0.       ...,    0.          0.          0.      ]\n",
      " [   0.          0.          0.       ...,    0.          0.         33.96861 ]\n",
      " [   0.          0.          0.       ...,    0.          1.593931\n",
      "    26.499772]\n",
      " ..., \n",
      " [   0.          0.          0.       ...,   21.754621   30.856007\n",
      "   232.64872 ]\n",
      " [   0.          0.          3.966959 ...,   16.189377   19.283053\n",
      "   298.187262]\n",
      " [   0.         17.555369    0.       ...,  166.433356  104.865969\n",
      "   287.751595]]\n"
     ]
    }
   ],
   "source": [
    "# this takes the part of the spectrum that is non-sensical if the derived allele is not known\n",
    "# and sets the rest to 0\n",
    "print pylab.where(where_folded_out, sfs2d_unfolded, 0)"
   ]
  },
  {
   "cell_type": "code",
   "execution_count": 178,
   "metadata": {
    "collapsed": false
   },
   "outputs": [
    {
     "data": {
      "text/plain": [
       "<matplotlib.colorbar.Colorbar at 0x7f84b7f2a4d0>"
      ]
     },
     "execution_count": 178,
     "metadata": {},
     "output_type": "execute_result"
    },
    {
     "data": {
      "image/png": "[encoded data removed]",
      "text/plain": [
       "<matplotlib.figure.Figure at 0x7f84b7fb6390>"
      ]
     },
     "metadata": {},
     "output_type": "display_data"
    }
   ],
   "source": [
    "# let's plot the bit of the spectrum that we are going to fold onto the rest:\n",
    "dadi.Plotting.plot_single_2d_sfs(dadi.Spectrum(pylab.where(where_folded_out, sfs2d_unfolded, 0)), vmin=1)"
   ]
  },
  {
   "cell_type": "code",
   "execution_count": 179,
   "metadata": {
    "collapsed": false
   },
   "outputs": [
    {
     "data": {
      "text/plain": [
       "array([[ 287.751595,  104.865969,  166.433356, ...,    0.      ,\n",
       "          17.555369,    0.      ],\n",
       "       [ 298.187262,   19.283053,   16.189377, ...,    3.966959,\n",
       "           0.      ,    0.      ],\n",
       "       [ 232.64872 ,   30.856007,   21.754621, ...,    0.      ,\n",
       "           0.      ,    0.      ],\n",
       "       ..., \n",
       "       [  26.499772,    1.593931,    0.      , ...,    0.      ,\n",
       "           0.      ,    0.      ],\n",
       "       [  33.96861 ,    0.      ,    0.      , ...,    0.      ,\n",
       "           0.      ,    0.      ],\n",
       "       [   0.      ,    0.      ,    0.      , ...,    0.      ,\n",
       "           0.      ,    0.      ]])"
      ]
     },
     "execution_count": 179,
     "metadata": {},
     "output_type": "execute_result"
    }
   ],
   "source": [
    "# now let's reverse this 2D array, i. e. last row first and last element of each row first:\n",
    "_reversed = dadi.Numerics.reverse_array(pylab.where(where_folded_out, sfs2d_unfolded, 0))\n",
    "_reversed"
   ]
  },
  {
   "cell_type": "code",
   "execution_count": 180,
   "metadata": {
    "collapsed": false
   },
   "outputs": [
    {
     "data": {
      "text/plain": [
       "<matplotlib.colorbar.Colorbar at 0x7f84b852b890>"
      ]
     },
     "execution_count": 180,
     "metadata": {},
     "output_type": "execute_result"
    },
    {
     "data": {
      "image/png": "[encoded data removed]",
      "text/plain": [
       "<matplotlib.figure.Figure at 0x7f84b840dd10>"
      ]
     },
     "metadata": {},
     "output_type": "display_data"
    }
   ],
   "source": [
    "dadi.Plotting.plot_single_2d_sfs(dadi.Spectrum(_reversed), vmin=1)"
   ]
  },
  {
   "cell_type": "markdown",
   "metadata": {},
   "source": [
    "The transformation we have done with the upper-right diagonal 2D array above should be identical to projecting it across a vertical center line (creating an upper left triangular matrix) and then projecting it across a horizontal center line (creating the final lower left triangular matrix). Note, that this is not like mirroring the upper-right triangular 2D array across the 36-36 diagonal!"
   ]
  },
  {
   "cell_type": "code",
   "execution_count": 181,
   "metadata": {
    "collapsed": true
   },
   "outputs": [],
   "source": [
    "# This shall now be added to the original unfolded 2D spectrum.\n",
    "sfs2d_folded = pylab.ma.masked_array(sfs2d_unfolded.data + _reversed) "
   ]
  },
  {
   "cell_type": "code",
   "execution_count": 182,
   "metadata": {
    "collapsed": false
   },
   "outputs": [
    {
     "data": {
      "text/plain": [
       "<matplotlib.colorbar.Colorbar at 0x7f84b7a0a3d0>"
      ]
     },
     "execution_count": 182,
     "metadata": {},
     "output_type": "execute_result"
    },
    {
     "data": {
      "image/png": "[encoded data removed]",
      "text/plain": [
       "<matplotlib.figure.Figure at 0x7f84b822da10>"
      ]
     },
     "metadata": {},
     "output_type": "display_data"
    }
   ],
   "source": [
    "dadi.Plotting.plot_single_2d_sfs(dadi.Spectrum(sfs2d_folded), vmin=1)"
   ]
  },
  {
   "cell_type": "code",
   "execution_count": 183,
   "metadata": {
    "collapsed": false
   },
   "outputs": [
    {
     "data": {
      "text/plain": [
       "array([[  1.07020142e+06,   6.65131557e+03,   9.53420133e+03, ...,\n",
       "          5.92167010e+01,   1.90757620e+01,   2.47011103e+02],\n",
       "       [  4.40735219e+03,   4.53932731e+02,   4.09549382e+02, ...,\n",
       "          3.96696000e+00,   9.70266300e+00,   3.39686100e+01],\n",
       "       [  3.74655618e+03,   2.95735068e+02,   2.61799583e+02, ...,\n",
       "          2.00000000e-06,   1.59393100e+00,   2.64997720e+01],\n",
       "       ..., \n",
       "       [  2.66996610e+01,   1.59393100e+00,   0.00000000e+00, ...,\n",
       "          2.17546210e+01,   3.08560070e+01,   2.32648720e+02],\n",
       "       [  7.82533720e+01,   1.00000000e-06,   3.96695900e+00, ...,\n",
       "          1.61893770e+01,   1.92830530e+01,   2.98187262e+02],\n",
       "       [  1.70901478e+02,   1.75553690e+01,   0.00000000e+00, ...,\n",
       "          1.66433356e+02,   1.04865969e+02,   2.87751595e+02]])"
      ]
     },
     "execution_count": 183,
     "metadata": {},
     "output_type": "execute_result"
    }
   ],
   "source": [
    "sfs2d_folded.data"
   ]
  },
  {
   "cell_type": "code",
   "execution_count": 184,
   "metadata": {
    "collapsed": false
   },
   "outputs": [
    {
     "data": {
      "text/plain": [
       "array([[  1.07020142e+06,   6.65131557e+03,   9.53420133e+03, ...,\n",
       "          5.92167010e+01,   1.90757620e+01,   2.47011103e+02],\n",
       "       [  4.40735219e+03,   4.53932731e+02,   4.09549382e+02, ...,\n",
       "          3.96696000e+00,   9.70266300e+00,   0.00000000e+00],\n",
       "       [  3.74655618e+03,   2.95735068e+02,   2.61799583e+02, ...,\n",
       "          2.00000000e-06,   0.00000000e+00,   0.00000000e+00],\n",
       "       ..., \n",
       "       [  2.66996610e+01,   1.59393100e+00,   0.00000000e+00, ...,\n",
       "          0.00000000e+00,   0.00000000e+00,   0.00000000e+00],\n",
       "       [  7.82533720e+01,   1.00000000e-06,   0.00000000e+00, ...,\n",
       "          0.00000000e+00,   0.00000000e+00,   0.00000000e+00],\n",
       "       [  1.70901478e+02,   0.00000000e+00,   0.00000000e+00, ...,\n",
       "          0.00000000e+00,   0.00000000e+00,   0.00000000e+00]])"
      ]
     },
     "execution_count": 184,
     "metadata": {},
     "output_type": "execute_result"
    }
   ],
   "source": [
    "sfs2d_folded.data[where_folded_out] = 0\n",
    "sfs2d_folded.data"
   ]
  },
  {
   "cell_type": "code",
   "execution_count": 185,
   "metadata": {
    "collapsed": false
   },
   "outputs": [
    {
     "data": {
      "text/plain": [
       "<matplotlib.colorbar.Colorbar at 0x7f84b783b110>"
      ]
     },
     "execution_count": 185,
     "metadata": {},
     "output_type": "execute_result"
    },
    {
     "data": {
      "image/png": "[encoded data removed]",
      "text/plain": [
       "<matplotlib.figure.Figure at 0x7f84b7d9eed0>"
      ]
     },
     "metadata": {},
     "output_type": "display_data"
    }
   ],
   "source": [
    "dadi.Plotting.plot_single_2d_sfs(dadi.Spectrum(sfs2d_folded), vmin=1)"
   ]
  },
  {
   "cell_type": "code",
   "execution_count": 186,
   "metadata": {
    "collapsed": false
   },
   "outputs": [
    {
     "data": {
      "image/png": "[encoded data removed]",
      "text/latex": [
       "$$\\left ( 37, \\quad 37\\right )$$"
      ],
      "text/plain": [
       "(37, 37)"
      ]
     },
     "execution_count": 186,
     "metadata": {},
     "output_type": "execute_result"
    }
   ],
   "source": [
    "sfs2d_folded.shape"
   ]
  },
  {
   "cell_type": "code",
   "execution_count": 187,
   "metadata": {
    "collapsed": false
   },
   "outputs": [
    {
     "data": {
      "text/plain": [
       "array([[False, False, False, ..., False, False,  True],\n",
       "       [False, False, False, ..., False,  True, False],\n",
       "       [False, False, False, ...,  True, False, False],\n",
       "       ..., \n",
       "       [False, False,  True, ..., False, False, False],\n",
       "       [False,  True, False, ..., False, False, False],\n",
       "       [ True, False, False, ..., False, False, False]], dtype=bool)"
      ]
     },
     "execution_count": 187,
     "metadata": {},
     "output_type": "execute_result"
    }
   ],
   "source": [
    "where_ambiguous = (total_per_entry == total_samples/2.0)\n",
    "where_ambiguous"
   ]
  },
  {
   "cell_type": "markdown",
   "metadata": {},
   "source": [
    "SNP's with joint frequencies in the True cells are counted twice at the moment due to the folding and the fact that the sample sizes are even."
   ]
  },
  {
   "cell_type": "code",
   "execution_count": 188,
   "metadata": {
    "collapsed": false
   },
   "outputs": [
    {
     "data": {
      "text/plain": [
       "<matplotlib.colorbar.Colorbar at 0x7f84b782ca90>"
      ]
     },
     "execution_count": 188,
     "metadata": {},
     "output_type": "execute_result"
    },
    {
     "data": {
      "image/png": "[encoded data removed]",
      "text/plain": [
       "<matplotlib.figure.Figure at 0x7f84b783b8d0>"
      ]
     },
     "metadata": {},
     "output_type": "display_data"
    }
   ],
   "source": [
    "# this extracts the diagonal values from the UNfolded spectrum and sets the rest to 0\n",
    "ambiguous = pylab.where(where_ambiguous, sfs2d_unfolded, 0)\n",
    "dadi.Plotting.plot_single_2d_sfs(dadi.Spectrum(ambiguous), vmin=1)"
   ]
  },
  {
   "cell_type": "markdown",
   "metadata": {},
   "source": [
    "These are the values in the diagonal before folding."
   ]
  },
  {
   "cell_type": "code",
   "execution_count": 189,
   "metadata": {
    "collapsed": false
   },
   "outputs": [
    {
     "data": {
      "text/plain": [
       "<matplotlib.colorbar.Colorbar at 0x7f84b76b2750>"
      ]
     },
     "execution_count": 189,
     "metadata": {},
     "output_type": "execute_result"
    },
    {
     "data": {
      "image/png": "[encoded data removed]",
      "text/plain": [
       "<matplotlib.figure.Figure at 0x7f84b8569810>"
      ]
     },
     "metadata": {},
     "output_type": "display_data"
    }
   ],
   "source": [
    "reversed_ambiguous = dadi.Numerics.reverse_array(ambiguous)\n",
    "dadi.Plotting.plot_single_2d_sfs(dadi.Spectrum(reversed_ambiguous), vmin=1)"
   ]
  },
  {
   "cell_type": "markdown",
   "metadata": {},
   "source": [
    "These are the values that got added to the diagonal during folding. Comparing with the previous plot, one can see for instance that the value in the (0, 36) class got added to the value in the (36, 0) class and vice versa. The two frequency classes are equivalent, since it is arbitrary which allele we call minor in the total sample (of 72 gene copies). These SNP's are therefore counted twice."
   ]
  },
  {
   "cell_type": "code",
   "execution_count": 190,
   "metadata": {
    "collapsed": false
   },
   "outputs": [
    {
     "data": {
      "text/plain": [
       "array([[ True,  True,  True, ...,  True,  True,  True],\n",
       "       [ True,  True,  True, ...,  True,  True,  True],\n",
       "       [ True,  True,  True, ...,  True,  True,  True],\n",
       "       ..., \n",
       "       [ True,  True,  True, ...,  True,  True,  True],\n",
       "       [ True,  True,  True, ...,  True,  True,  True],\n",
       "       [ True,  True,  True, ...,  True,  True,  True]], dtype=bool)"
      ]
     },
     "execution_count": 190,
     "metadata": {},
     "output_type": "execute_result"
    }
   ],
   "source": [
    "a = -1.0*ambiguous + 0.5*ambiguous + 0.5*reversed_ambiguous\n",
    "b = -0.5*ambiguous + 0.5*reversed_ambiguous\n",
    "a == b"
   ]
  },
  {
   "cell_type": "code",
   "execution_count": 191,
   "metadata": {
    "collapsed": true
   },
   "outputs": [],
   "source": [
    "sfs2d_folded += -0.5*ambiguous + 0.5*reversed_ambiguous"
   ]
  },
  {
   "cell_type": "code",
   "execution_count": 192,
   "metadata": {
    "collapsed": false
   },
   "outputs": [
    {
     "data": {
      "text/plain": [
       "array([[ True, False, False, ..., False, False, False],\n",
       "       [False, False, False, ..., False, False,  True],\n",
       "       [False, False, False, ..., False,  True,  True],\n",
       "       ..., \n",
       "       [False, False, False, ...,  True,  True,  True],\n",
       "       [False, False,  True, ...,  True,  True,  True],\n",
       "       [False,  True,  True, ...,  True,  True,  True]], dtype=bool)"
      ]
     },
     "execution_count": 192,
     "metadata": {},
     "output_type": "execute_result"
    }
   ],
   "source": [
    "final_mask = pylab.logical_or(final_mask, where_folded_out)\n",
    "final_mask"
   ]
  },
  {
   "cell_type": "code",
   "execution_count": 193,
   "metadata": {
    "collapsed": false
   },
   "outputs": [],
   "source": [
    "sfs2d_folded = dadi.Spectrum(sfs2d_folded, mask=final_mask, data_folded=True, pop_ids=['ery', 'par'])"
   ]
  },
  {
   "cell_type": "code",
   "execution_count": 194,
   "metadata": {
    "collapsed": true
   },
   "outputs": [],
   "source": [
    "pylab.rcParams['figure.figsize'] = [12.0, 8.0]"
   ]
  },
  {
   "cell_type": "code",
   "execution_count": 195,
   "metadata": {
    "collapsed": false
   },
   "outputs": [
    {
     "data": {
      "text/plain": [
       "<matplotlib.colorbar.Colorbar at 0x7f84b756f1d0>"
      ]
     },
     "execution_count": 195,
     "metadata": {},
     "output_type": "execute_result"
    },
    {
     "data": {
      "image/png": "[encoded data removed]",
      "text/plain": [
       "<matplotlib.figure.Figure at 0x7f84b8262fd0>"
      ]
     },
     "metadata": {},
     "output_type": "display_data"
    }
   ],
   "source": [
    "dadi.Plotting.plot_single_2d_sfs(sfs2d_folded, vmin=1)"
   ]
  },
  {
   "cell_type": "code",
   "execution_count": null,
   "metadata": {
    "collapsed": true
   },
   "outputs": [],
   "source": []
  },
  {
   "cell_type": "code",
   "execution_count": null,
   "metadata": {
    "collapsed": true
   },
   "outputs": [],
   "source": []
  },
  {
   "cell_type": "markdown",
   "metadata": {
    "collapsed": true
   },
   "source": [
    "---"
   ]
  },
  {
   "cell_type": "markdown",
   "metadata": {},
   "source": [
    "### Model specification"
   ]
  },
  {
   "cell_type": "code",
   "execution_count": null,
   "metadata": {
    "collapsed": true
   },
   "outputs": [],
   "source": []
  }
 ],
 "metadata": {
  "anaconda-cloud": {},
  "kernelspec": {
   "display_name": "Python [default]",
   "language": "python",
   "name": "python2"
  },
  "language_info": {
   "codemirror_mode": {
    "name": "ipython",
    "version": 2
   },
   "file_extension": ".py",
   "mimetype": "text/x-python",
   "name": "python",
   "nbconvert_exporter": "python",
   "pygments_lexer": "ipython2",
   "version": "2.7.12"
  },
  "toc": {
   "colors": {
    "hover_highlight": "#DAA520",
    "running_highlight": "#FF0000",
    "selected_highlight": "#FFD700"
   },
   "moveMenuLeft": true,
   "nav_menu": {
    "height": "248px",
    "width": "252px"
   },
   "navigate_menu": true,
   "number_sections": true,
   "sideBar": true,
   "threshold": 4,
   "toc_cell": false,
   "toc_section_display": "block",
   "toc_window_display": true
  }
 },
 "nbformat": 4,
 "nbformat_minor": 0
}
