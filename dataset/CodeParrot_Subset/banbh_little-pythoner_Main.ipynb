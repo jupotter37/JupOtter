{
 "cells": [
  {
   "cell_type": "markdown",
   "metadata": {},
   "source": [
    "On this page you'll find a series of exercises.  We'll be using Python for all the code, but not really.  You barely need to know any Python at all.  In fact here is all you need to know (at least about Python).\n",
    "\n",
    "## All You Need to Know\n",
    "Numbers: 0, 1, 2, 3, ... (i.e., no negative numbers or decimals)\n",
    "\n",
    "Strings: things like `'hello'` and `'the cat on the mat'` and the empty string `''`\n",
    "\n",
    "Booleans: `True`, `False`\n",
    "\n",
    "Lists: `[]`, but you can make lists (see `cons` below)\n",
    "\n",
    "#### Functions\n",
    "`is_eq_str(x, y)`: `x` and `y` must both be strings; returns whether `x` equals `y`\n",
    "\n",
    "`is_empty(xx)` : `xx` must be a list; returns whether the `xx` is the empty list\n",
    "\n",
    "`head(xx)`: `xx` must be a non-empty list; returns the first item of `xx`\n",
    "\n",
    "`tail(xx)`: `xx` must be a non-empty list; returns a list with everything after the head\n",
    "\n",
    "`cons(h, tl)`: returns a list whose first item is `h` and whose remaining items are the items of `tl` (i.e. it put backs a list taken apart by `head` and `tail`)\n",
    "\n",
    "`add1(n)`: `n` must be a number; returns a number one bigger than `n`\n",
    "\n",
    "`sub1(n)`: `n` must be a number greater than zero; returns a number one less than `n`\n",
    "\n",
    "`is_zero(n)`: `n` must be a number; returns whether `n` is zero\n",
    "\n",
    "`is_str(x)`: returns whether `x` is a string\n",
    "\n",
    "`is_num(x)`: returns whether `x` is a number\n",
    "\n",
    "## Getting Started\n",
    "The above functions, simple though they are, are not built into Python, so you must download a file that defins them.  Download [basic_functions.py](../../raw/master/basic_functions.py)."
   ]
  },
  {
   "cell_type": "code",
   "execution_count": 1,
   "metadata": {
    "collapsed": true
   },
   "outputs": [],
   "source": [
    "from basic_functions import *"
   ]
  },
  {
   "cell_type": "code",
   "execution_count": 2,
   "metadata": {
    "collapsed": false
   },
   "outputs": [
    {
     "data": {
      "text/plain": [
       "False"
      ]
     },
     "execution_count": 2,
     "metadata": {},
     "output_type": "execute_result"
    }
   ],
   "source": [
    "is_empty([1,2])"
   ]
  },
  {
   "cell_type": "code",
   "execution_count": 3,
   "metadata": {
    "collapsed": false
   },
   "outputs": [
    {
     "data": {
      "text/plain": [
       "True"
      ]
     },
     "execution_count": 3,
     "metadata": {},
     "output_type": "execute_result"
    }
   ],
   "source": [
    "is_empty([])"
   ]
  },
  {
   "cell_type": "code",
   "execution_count": 4,
   "metadata": {
    "collapsed": false
   },
   "outputs": [
    {
     "data": {
      "text/plain": [
       "1"
      ]
     },
     "execution_count": 4,
     "metadata": {},
     "output_type": "execute_result"
    }
   ],
   "source": [
    "head([1,2])"
   ]
  },
  {
   "cell_type": "code",
   "execution_count": 5,
   "metadata": {
    "collapsed": false
   },
   "outputs": [
    {
     "data": {
      "text/plain": [
       "1"
      ]
     },
     "execution_count": 5,
     "metadata": {},
     "output_type": "execute_result"
    }
   ],
   "source": [
    "head([1])"
   ]
  },
  {
   "cell_type": "markdown",
   "metadata": {},
   "source": [
    "Note that `head([])` is an error since you can't find the first item in an empty list."
   ]
  },
  {
   "cell_type": "code",
   "execution_count": 6,
   "metadata": {
    "collapsed": false
   },
   "outputs": [
    {
     "data": {
      "text/plain": [
       "[2]"
      ]
     },
     "execution_count": 6,
     "metadata": {},
     "output_type": "execute_result"
    }
   ],
   "source": [
    "tail([1,2])"
   ]
  },
  {
   "cell_type": "code",
   "execution_count": 7,
   "metadata": {
    "collapsed": false
   },
   "outputs": [
    {
     "data": {
      "text/plain": [
       "[]"
      ]
     },
     "execution_count": 7,
     "metadata": {},
     "output_type": "execute_result"
    }
   ],
   "source": [
    "tail([1])"
   ]
  },
  {
   "cell_type": "markdown",
   "metadata": {},
   "source": [
    "Note that `tail([])` is an error since the tail of a list is what's left over when you remove the head, and the empty list has no head."
   ]
  },
  {
   "cell_type": "code",
   "execution_count": 8,
   "metadata": {
    "collapsed": false
   },
   "outputs": [
    {
     "data": {
      "text/plain": [
       "[1, 2, 3]"
      ]
     },
     "execution_count": 8,
     "metadata": {},
     "output_type": "execute_result"
    }
   ],
   "source": [
    "cons(1, [2,3])"
   ]
  },
  {
   "cell_type": "code",
   "execution_count": 9,
   "metadata": {
    "collapsed": false
   },
   "outputs": [
    {
     "data": {
      "text/plain": [
       "[1]"
      ]
     },
     "execution_count": 9,
     "metadata": {},
     "output_type": "execute_result"
    }
   ],
   "source": [
    "cons(1, [])"
   ]
  },
  {
   "cell_type": "code",
   "execution_count": 10,
   "metadata": {
    "collapsed": false
   },
   "outputs": [
    {
     "data": {
      "text/plain": [
       "True"
      ]
     },
     "execution_count": 10,
     "metadata": {},
     "output_type": "execute_result"
    }
   ],
   "source": [
    "is_num(99)"
   ]
  },
  {
   "cell_type": "code",
   "execution_count": 11,
   "metadata": {
    "collapsed": false
   },
   "outputs": [
    {
     "data": {
      "text/plain": [
       "False"
      ]
     },
     "execution_count": 11,
     "metadata": {},
     "output_type": "execute_result"
    }
   ],
   "source": [
    "is_num('hello')"
   ]
  },
  {
   "cell_type": "code",
   "execution_count": 12,
   "metadata": {
    "collapsed": false
   },
   "outputs": [
    {
     "data": {
      "text/plain": [
       "False"
      ]
     },
     "execution_count": 12,
     "metadata": {},
     "output_type": "execute_result"
    }
   ],
   "source": [
    "is_str(99)"
   ]
  },
  {
   "cell_type": "code",
   "execution_count": 13,
   "metadata": {
    "collapsed": false
   },
   "outputs": [
    {
     "data": {
      "text/plain": [
       "True"
      ]
     },
     "execution_count": 13,
     "metadata": {},
     "output_type": "execute_result"
    }
   ],
   "source": [
    "is_str('hello')"
   ]
  },
  {
   "cell_type": "code",
   "execution_count": 14,
   "metadata": {
    "collapsed": false
   },
   "outputs": [
    {
     "data": {
      "text/plain": [
       "True"
      ]
     },
     "execution_count": 14,
     "metadata": {},
     "output_type": "execute_result"
    }
   ],
   "source": [
    "is_str_eq('hello', 'hello')"
   ]
  },
  {
   "cell_type": "code",
   "execution_count": 15,
   "metadata": {
    "collapsed": false
   },
   "outputs": [
    {
     "data": {
      "text/plain": [
       "False"
      ]
     },
     "execution_count": 15,
     "metadata": {},
     "output_type": "execute_result"
    }
   ],
   "source": [
    "is_str_eq('hello', 'goodbye')"
   ]
  },
  {
   "cell_type": "code",
   "execution_count": 16,
   "metadata": {
    "collapsed": false
   },
   "outputs": [
    {
     "data": {
      "text/plain": [
       "100"
      ]
     },
     "execution_count": 16,
     "metadata": {},
     "output_type": "execute_result"
    }
   ],
   "source": [
    "add1(99)"
   ]
  },
  {
   "cell_type": "code",
   "execution_count": 17,
   "metadata": {
    "collapsed": false
   },
   "outputs": [
    {
     "data": {
      "text/plain": [
       "98"
      ]
     },
     "execution_count": 17,
     "metadata": {},
     "output_type": "execute_result"
    }
   ],
   "source": [
    "sub1(99)"
   ]
  },
  {
   "cell_type": "markdown",
   "metadata": {},
   "source": [
    "Note that `sub1(0)` is an error because you can't subtract 1 from 0.  (Actually it is possible if you allow negative numbers, but in these exercises we will not allow such numbers.)"
   ]
  },
  {
   "cell_type": "markdown",
   "metadata": {},
   "source": [
    "# All Strings\n",
    "Write a function, `is_list_of_strings`, that determines whether a list contains only strings.  Below are some examples of how it should behave."
   ]
  },
  {
   "cell_type": "code",
   "execution_count": 24,
   "metadata": {
    "collapsed": true
   },
   "outputs": [],
   "source": [
    "from solutions import is_list_of_strings"
   ]
  },
  {
   "cell_type": "code",
   "execution_count": 25,
   "metadata": {
    "collapsed": false
   },
   "outputs": [
    {
     "data": {
      "text/plain": [
       "True"
      ]
     },
     "execution_count": 25,
     "metadata": {},
     "output_type": "execute_result"
    }
   ],
   "source": [
    "is_list_of_strings(['hello', 'goodbye'])"
   ]
  },
  {
   "cell_type": "code",
   "execution_count": 27,
   "metadata": {
    "collapsed": false
   },
   "outputs": [
    {
     "data": {
      "text/plain": [
       "False"
      ]
     },
     "execution_count": 27,
     "metadata": {},
     "output_type": "execute_result"
    }
   ],
   "source": [
    "is_list_of_strings([1, 'aa'])"
   ]
  },
  {
   "cell_type": "code",
   "execution_count": 29,
   "metadata": {
    "collapsed": false
   },
   "outputs": [
    {
     "data": {
      "text/plain": [
       "True"
      ]
     },
     "execution_count": 29,
     "metadata": {},
     "output_type": "execute_result"
    }
   ],
   "source": [
    "is_list_of_strings([])"
   ]
  },
  {
   "cell_type": "markdown",
   "metadata": {},
   "source": [
    "The last example, `is_list_of_strings([])`, might seem puzzling at first, but really it's not.  Suppose you are flying into a strange island and at customs there is a sign that says \"all food in your suitcase must be cooked\".  Then if you have a ham sanswich in your suitcase then you are ok, since ham is cooked.  What about if you have no food in your suitcase?  Then clearly you are also ok.  This because in normal language (and in more mathematical language too) when we say \"every X must be (say) big\", then if there are no X's then the statment is true.  In normal language it may be less clear what to do with slightly sillier examples; for example, say someone asks you \"Are all the coins in your pocket quarters?\" and you have *no* coins in your pocket.  Out of politeness you might say \"I have no coins in my pocket\", but if they forced you to say \"yes\" or \"no\", I think you would say \"yes\"."
   ]
  },
  {
   "cell_type": "markdown",
   "metadata": {},
   "source": [
    "Follow the pattern below:\n",
    "    # fill in the blanks\n",
    "    def is_list_of_strings(l):\n",
    "        if is_empty(l):\n",
    "            pass\n",
    "        else:\n",
    "            # do something with head(l), tail(l)\n",
    "            pass\n",
    "Before you try it, here is a hint.  You can do something magical in a function: you call yourself!  For example when filling in the blanks above, a good place to try this is in the `else` block.  In fact what you want to think about in the `else` block is this: assuming I've broken the list apart into it's first item (`head(l)`) and a list with all the other items (`tail(l)`) how can I figure out the answer in terms of these pieces?  If the first item is not a string then we are done (the answer if false).  However if the first item *is* a list then we know we have a list of strings if the rest of the items are all strings.  So maybe we can 'cheat' and just call `is_list_of_strings` on the tail to answer that!  And in fact you can, and it's not even cheating.  In fact it's called *recursion*."
   ]
  },
  {
   "cell_type": "code",
   "execution_count": null,
   "metadata": {
    "collapsed": true
   },
   "outputs": [],
   "source": []
  }
 ],
 "metadata": {
  "kernelspec": {
   "display_name": "Python 2",
   "language": "python",
   "name": "python2"
  },
  "language_info": {
   "codemirror_mode": {
    "name": "ipython",
    "version": 2
   },
   "file_extension": ".py",
   "mimetype": "text/x-python",
   "name": "python",
   "nbconvert_exporter": "python",
   "pygments_lexer": "ipython2",
   "version": "2.7.4"
  }
 },
 "nbformat": 4,
 "nbformat_minor": 0
}
