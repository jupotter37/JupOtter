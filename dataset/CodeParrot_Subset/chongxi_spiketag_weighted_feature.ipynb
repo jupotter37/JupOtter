{
 "cells": [
  {
   "cell_type": "code",
   "execution_count": 1,
   "metadata": {
    "ExecuteTime": {
     "end_time": "2016-06-29T12:50:47.110000",
     "start_time": "2016-06-29T12:50:47.042000"
    },
    "collapsed": true
   },
   "outputs": [],
   "source": [
    "%load_ext autoreload"
   ]
  },
  {
   "cell_type": "code",
   "execution_count": 2,
   "metadata": {
    "ExecuteTime": {
     "end_time": "2016-06-29T12:50:50.771000",
     "start_time": "2016-06-29T12:50:50.767000"
    },
    "collapsed": true
   },
   "outputs": [],
   "source": [
    "%autoreload 2"
   ]
  },
  {
   "cell_type": "code",
   "execution_count": 3,
   "metadata": {
    "ExecuteTime": {
     "end_time": "2016-06-29T12:50:54.557000",
     "start_time": "2016-06-29T12:50:54.495000"
    },
    "collapsed": true
   },
   "outputs": [],
   "source": [
    "%gui qt"
   ]
  },
  {
   "cell_type": "code",
   "execution_count": 5,
   "metadata": {
    "ExecuteTime": {
     "end_time": "2016-06-29T12:51:15.099000",
     "start_time": "2016-06-29T12:51:13.799000"
    },
    "collapsed": true
   },
   "outputs": [],
   "source": [
    "import numpy as np\n",
    "from spiketag.base import *\n",
    "from spiketag.view import *\n",
    "from hdbscan import HDBSCAN"
   ]
  },
  {
   "cell_type": "code",
   "execution_count": 6,
   "metadata": {
    "ExecuteTime": {
     "end_time": "2016-06-29T12:51:19.572000",
     "start_time": "2016-06-29T12:51:19.400000"
    },
    "collapsed": true
   },
   "outputs": [],
   "source": [
    "import phy\n",
    "from phy.gui import GUI"
   ]
  },
  {
   "cell_type": "code",
   "execution_count": 7,
   "metadata": {
    "ExecuteTime": {
     "end_time": "2016-06-29T12:51:23.734000",
     "start_time": "2016-06-29T12:51:23.551000"
    },
    "collapsed": true
   },
   "outputs": [],
   "source": [
    "filename  = 'S:/pcie.bin'\n",
    "nCh       = 32\n",
    "fs        = 25000\n",
    "numbyte   = 4\n",
    "time_span = 1 # 1 seconds\n",
    "global time_slice\n",
    "time_slice = 0\n",
    "span = time_span * fs\n",
    "highlight = True"
   ]
  },
  {
   "cell_type": "code",
   "execution_count": 8,
   "metadata": {
    "ExecuteTime": {
     "end_time": "2016-06-29T12:51:31.857000",
     "start_time": "2016-06-29T12:51:28.208000"
    },
    "collapsed": true
   },
   "outputs": [],
   "source": [
    "mua = MUA(filename=filename, nCh=nCh, fs=fs, numbytes=numbyte)\n",
    "spk = mua.tospk(ch_span=2)\n",
    "fet = spk.tofet('pca')"
   ]
  },
  {
   "cell_type": "code",
   "execution_count": 10,
   "metadata": {
    "ExecuteTime": {
     "end_time": "2016-06-29T12:51:35.913000",
     "start_time": "2016-06-29T12:51:35.712000"
    },
    "collapsed": false
   },
   "outputs": [
    {
     "data": {
      "text/plain": [
       "(2566L, 6L)"
      ]
     },
     "execution_count": 10,
     "metadata": {},
     "output_type": "execute_result"
    }
   ],
   "source": [
    "fet[26].shape"
   ]
  },
  {
   "cell_type": "code",
   "execution_count": 11,
   "metadata": {
    "ExecuteTime": {
     "end_time": "2016-06-29T12:51:44.797000",
     "start_time": "2016-06-29T12:51:44.591000"
    },
    "collapsed": true
   },
   "outputs": [],
   "source": [
    "spk.tofet?"
   ]
  },
  {
   "cell_type": "code",
   "execution_count": 12,
   "metadata": {
    "ExecuteTime": {
     "end_time": "2016-06-29T12:55:07.428000",
     "start_time": "2016-06-29T12:55:07.217000"
    },
    "collapsed": true
   },
   "outputs": [],
   "source": [
    "spk = spk[26]"
   ]
  },
  {
   "cell_type": "code",
   "execution_count": 14,
   "metadata": {
    "ExecuteTime": {
     "end_time": "2016-06-29T12:55:12.213000",
     "start_time": "2016-06-29T12:55:11.976000"
    },
    "collapsed": false
   },
   "outputs": [
    {
     "data": {
      "text/plain": [
       "(2566L, 20L, 5L)"
      ]
     },
     "execution_count": 14,
     "metadata": {},
     "output_type": "execute_result"
    }
   ],
   "source": [
    "spk.shape"
   ]
  },
  {
   "cell_type": "code",
   "execution_count": 59,
   "metadata": {
    "ExecuteTime": {
     "end_time": "2016-06-29T12:59:58.714000",
     "start_time": "2016-06-29T12:59:58.496000"
    },
    "collapsed": true
   },
   "outputs": [],
   "source": [
    "X = np.concatenate((spk[:,4:14,:].transpose(2,1,0)),axis=0).T"
   ]
  },
  {
   "cell_type": "code",
   "execution_count": null,
   "metadata": {
    "collapsed": true
   },
   "outputs": [],
   "source": []
  },
  {
   "cell_type": "code",
   "execution_count": 60,
   "metadata": {
    "ExecuteTime": {
     "end_time": "2016-06-29T12:59:59.352000",
     "start_time": "2016-06-29T12:59:59.128000"
    },
    "collapsed": false
   },
   "outputs": [
    {
     "data": {
      "text/plain": [
       "(2566L, 50L)"
      ]
     },
     "execution_count": 60,
     "metadata": {},
     "output_type": "execute_result"
    }
   ],
   "source": [
    "X.shape"
   ]
  },
  {
   "cell_type": "code",
   "execution_count": 61,
   "metadata": {
    "ExecuteTime": {
     "end_time": "2016-06-29T12:59:59.727000",
     "start_time": "2016-06-29T12:59:59.529000"
    },
    "collapsed": false
   },
   "outputs": [
    {
     "name": "stdout",
     "output_type": "stream",
     "text": [
      "Populating the interactive namespace from numpy and matplotlib\n"
     ]
    }
   ],
   "source": [
    "%pylab inline"
   ]
  },
  {
   "cell_type": "code",
   "execution_count": 74,
   "metadata": {
    "ExecuteTime": {
     "end_time": "2016-06-29T13:01:54.453000",
     "start_time": "2016-06-29T13:01:54.080000"
    },
    "collapsed": false,
    "scrolled": false
   },
   "outputs": [
    {
     "data": {
      "image/png": "[encoded data removed]",
      "text/plain": [
       "<matplotlib.figure.Figure at 0x4e836278>"
      ]
     },
     "metadata": {},
     "output_type": "display_data"
    }
   ],
   "source": [
    "plt.plot(X[2000,:],'.--');"
   ]
  },
  {
   "cell_type": "code",
   "execution_count": 76,
   "metadata": {
    "ExecuteTime": {
     "end_time": "2016-06-29T13:03:38.871000",
     "start_time": "2016-06-29T13:03:38.409000"
    },
    "collapsed": false
   },
   "outputs": [
    {
     "data": {
      "text/plain": [
       "[<matplotlib.lines.Line2D at 0x4a71b780>,\n",
       " <matplotlib.lines.Line2D at 0x4a71b940>,\n",
       " <matplotlib.lines.Line2D at 0x4a71ba58>,\n",
       " <matplotlib.lines.Line2D at 0x4a71bb70>,\n",
       " <matplotlib.lines.Line2D at 0x4a71bc88>]"
      ]
     },
     "execution_count": 76,
     "metadata": {},
     "output_type": "execute_result"
    },
    {
     "data": {
      "image/png": "[encoded data removed]",
      "text/plain": [
       "<matplotlib.figure.Figure at 0x4ea1a5c0>"
      ]
     },
     "metadata": {},
     "output_type": "display_data"
    }
   ],
   "source": [
    "plot(spk[15,4:14,:].squeeze())"
   ]
  },
  {
   "cell_type": "code",
   "execution_count": 81,
   "metadata": {
    "ExecuteTime": {
     "end_time": "2016-06-29T13:23:15.342000",
     "start_time": "2016-06-29T13:23:15.004000"
    },
    "collapsed": false
   },
   "outputs": [
    {
     "data": {
      "text/plain": [
       "[<matplotlib.lines.Line2D at 0x4d9e50b8>]"
      ]
     },
     "execution_count": 81,
     "metadata": {},
     "output_type": "execute_result"
    },
    {
     "data": {
      "image/png": "[encoded data removed]",
      "text/plain": [
       "<matplotlib.figure.Figure at 0x4dc132e8>"
      ]
     },
     "metadata": {},
     "output_type": "display_data"
    }
   ],
   "source": [
    "weight_vector = abs(spk[15,:,2].squeeze())\n",
    "plot(weight_vector,'.')"
   ]
  },
  {
   "cell_type": "code",
   "execution_count": 86,
   "metadata": {
    "ExecuteTime": {
     "end_time": "2016-06-29T13:24:27.342000",
     "start_time": "2016-06-29T13:24:27.156000"
    },
    "collapsed": false
   },
   "outputs": [],
   "source": [
    "weight_vector = weight_vector/numpy.linalg.norm(weight_vector)"
   ]
  },
  {
   "cell_type": "code",
   "execution_count": 95,
   "metadata": {
    "ExecuteTime": {
     "end_time": "2016-06-29T13:26:32.778000",
     "start_time": "2016-06-29T13:26:32.596000"
    },
    "collapsed": false
   },
   "outputs": [
    {
     "data": {
      "text/plain": [
       "array([ 0.0849471 ,  0.06968062,  0.04670614,  0.00711128,  0.05453867,\n",
       "        0.14115332,  0.24235712,  0.33697289,  0.40319541,  0.41603884,\n",
       "        0.36650273,  0.2593981 ,  0.1175777 ,  0.02762537,  0.14709981,\n",
       "        0.22136538,  0.2443735 ,  0.22796471,  0.18808866,  0.1447459 ], dtype=float32)"
      ]
     },
     "execution_count": 95,
     "metadata": {},
     "output_type": "execute_result"
    }
   ],
   "source": [
    "weight_vector"
   ]
  },
  {
   "cell_type": "code",
   "execution_count": 90,
   "metadata": {
    "ExecuteTime": {
     "end_time": "2016-06-29T13:26:06.293000",
     "start_time": "2016-06-29T13:26:05.884000"
    },
    "collapsed": false
   },
   "outputs": [
    {
     "data": {
      "text/plain": [
       "[<matplotlib.lines.Line2D at 0x4c0e5668>]"
      ]
     },
     "execution_count": 90,
     "metadata": {},
     "output_type": "execute_result"
    },
    {
     "data": {
      "image/png": "[encoded data removed]",
      "text/plain": [
       "<matplotlib.figure.Figure at 0x4d9ecda0>"
      ]
     },
     "metadata": {},
     "output_type": "display_data"
    }
   ],
   "source": [
    "plot(weight_vector)"
   ]
  },
  {
   "cell_type": "code",
   "execution_count": 106,
   "metadata": {
    "ExecuteTime": {
     "end_time": "2016-06-29T13:31:06.508000",
     "start_time": "2016-06-29T13:31:06.172000"
    },
    "collapsed": false
   },
   "outputs": [
    {
     "data": {
      "text/plain": [
       "[<matplotlib.lines.Line2D at 0x4d5574a8>]"
      ]
     },
     "execution_count": 106,
     "metadata": {},
     "output_type": "execute_result"
    },
    {
     "data": {
      "image/png": "[encoded data removed]",
      "text/plain": [
       "<matplotlib.figure.Figure at 0x4cbb9c88>"
      ]
     },
     "metadata": {},
     "output_type": "display_data"
    }
   ],
   "source": [
    "plt.plot(2.5 * weight_vector * spk[40,:,2].squeeze(),'r-o')\n",
    "plt.plot(spk[15,:,2].squeeze(),'g-o')"
   ]
  },
  {
   "cell_type": "code",
   "execution_count": 118,
   "metadata": {
    "ExecuteTime": {
     "end_time": "2016-06-29T13:37:35.887000",
     "start_time": "2016-06-29T13:37:35.682000"
    },
    "collapsed": false
   },
   "outputs": [
    {
     "data": {
      "text/plain": [
       "5L"
      ]
     },
     "execution_count": 118,
     "metadata": {},
     "output_type": "execute_result"
    }
   ],
   "source": [
    "spk.shape[-1]"
   ]
  },
  {
   "cell_type": "code",
   "execution_count": 126,
   "metadata": {
    "ExecuteTime": {
     "end_time": "2016-06-29T13:41:15.199000",
     "start_time": "2016-06-29T13:41:15.005000"
    },
    "collapsed": false
   },
   "outputs": [
    {
     "data": {
      "text/plain": [
       "3"
      ]
     },
     "execution_count": 126,
     "metadata": {},
     "output_type": "execute_result"
    }
   ],
   "source": [
    "7/2"
   ]
  },
  {
   "cell_type": "code",
   "execution_count": 142,
   "metadata": {
    "ExecuteTime": {
     "end_time": "2016-06-29T13:44:46.634000",
     "start_time": "2016-06-29T13:44:46.452000"
    },
    "collapsed": false
   },
   "outputs": [],
   "source": [
    "u = arange(5/2+1)+1"
   ]
  },
  {
   "cell_type": "code",
   "execution_count": 186,
   "metadata": {
    "ExecuteTime": {
     "end_time": "2016-06-29T13:55:10.990000",
     "start_time": "2016-06-29T13:55:10.817000"
    },
    "collapsed": false
   },
   "outputs": [],
   "source": [
    "def f(x, a=None, p=None):\n",
    "    n = len(x)\n",
    "    if a is None:\n",
    "        a = float(n)/2 - 1\n",
    "    if p is None:\n",
    "        p = n/2\n",
    "    return (a/p) * (p - abs(x % (2*p) - p) ) + 1"
   ]
  },
  {
   "cell_type": "code",
   "execution_count": 192,
   "metadata": {
    "ExecuteTime": {
     "end_time": "2016-06-29T13:57:12.641000",
     "start_time": "2016-06-29T13:57:12.453000"
    },
    "collapsed": false
   },
   "outputs": [],
   "source": [
    "weight_channel = f(np.arange(5))"
   ]
  },
  {
   "cell_type": "code",
   "execution_count": 193,
   "metadata": {
    "ExecuteTime": {
     "end_time": "2016-06-29T13:57:15.413000",
     "start_time": "2016-06-29T13:57:15.230000"
    },
    "collapsed": false
   },
   "outputs": [
    {
     "data": {
      "text/plain": [
       "array([ 1.  ,  1.75,  2.5 ,  1.75,  1.  ])"
      ]
     },
     "execution_count": 193,
     "metadata": {},
     "output_type": "execute_result"
    }
   ],
   "source": [
    "weight_channel"
   ]
  },
  {
   "cell_type": "code",
   "execution_count": 195,
   "metadata": {
    "ExecuteTime": {
     "end_time": "2016-06-29T13:57:25.427000",
     "start_time": "2016-06-29T13:57:25.245000"
    },
    "collapsed": false
   },
   "outputs": [
    {
     "data": {
      "text/plain": [
       "(20L,)"
      ]
     },
     "execution_count": 195,
     "metadata": {},
     "output_type": "execute_result"
    }
   ],
   "source": [
    "weight_vector"
   ]
  },
  {
   "cell_type": "code",
   "execution_count": 201,
   "metadata": {
    "ExecuteTime": {
     "end_time": "2016-06-29T13:59:06.983000",
     "start_time": "2016-06-29T13:59:06.786000"
    },
    "collapsed": false
   },
   "outputs": [],
   "source": [
    "W = weight_channel * weight_vector.reshape(-1,1)"
   ]
  },
  {
   "cell_type": "code",
   "execution_count": 202,
   "metadata": {
    "ExecuteTime": {
     "end_time": "2016-06-29T13:59:07.333000",
     "start_time": "2016-06-29T13:59:07.143000"
    },
    "collapsed": false
   },
   "outputs": [
    {
     "data": {
      "text/plain": [
       "(20L, 5L)"
      ]
     },
     "execution_count": 202,
     "metadata": {},
     "output_type": "execute_result"
    }
   ],
   "source": [
    "W.shape"
   ]
  },
  {
   "cell_type": "code",
   "execution_count": 209,
   "metadata": {
    "ExecuteTime": {
     "end_time": "2016-06-29T14:00:44.718000",
     "start_time": "2016-06-29T14:00:44.328000"
    },
    "collapsed": false
   },
   "outputs": [
    {
     "data": {
      "text/plain": [
       "[<matplotlib.lines.Line2D at 0x4e5f8198>]"
      ]
     },
     "execution_count": 209,
     "metadata": {},
     "output_type": "execute_result"
    },
    {
     "data": {
      "image/png": "[encoded data removed]",
      "text/plain": [
       "<matplotlib.figure.Figure at 0x49038f60>"
      ]
     },
     "metadata": {},
     "output_type": "display_data"
    }
   ],
   "source": [
    "plot(W.T.ravel())"
   ]
  },
  {
   "cell_type": "code",
   "execution_count": 218,
   "metadata": {
    "ExecuteTime": {
     "end_time": "2016-06-29T15:13:57.919000",
     "start_time": "2016-06-29T15:13:57.680000"
    },
    "collapsed": true
   },
   "outputs": [],
   "source": [
    "        weight_vector = np.array([ 0.0149471 ,  0.02968062,  0.03670614,  0.04711128,  0.05453867,\n",
    "                                   0.14115332,  0.24235712,  0.33697289,  0.40319541,  0.41603884,\n",
    "                                   0.36650273,  0.2593981 ,  0.1175777 ,  0.04762537,  0.18709981,\n",
    "                                   0.22136538,  0.2443735 ,  0.22796471,  0.18808866,  0.1447459 ],\n",
    "                                   dtype=np.float32)"
   ]
  },
  {
   "cell_type": "code",
   "execution_count": 219,
   "metadata": {
    "ExecuteTime": {
     "end_time": "2016-06-29T15:13:58.432000",
     "start_time": "2016-06-29T15:13:58.025000"
    },
    "collapsed": false
   },
   "outputs": [
    {
     "data": {
      "text/plain": [
       "[<matplotlib.lines.Line2D at 0x45a9c2e8>]"
      ]
     },
     "execution_count": 219,
     "metadata": {},
     "output_type": "execute_result"
    },
    {
     "data": {
      "image/png": "[encoded data removed]",
      "text/plain": [
       "<matplotlib.figure.Figure at 0x4ca82748>"
      ]
     },
     "metadata": {},
     "output_type": "display_data"
    }
   ],
   "source": [
    "plot(weight_vector)"
   ]
  },
  {
   "cell_type": "code",
   "execution_count": 220,
   "metadata": {
    "ExecuteTime": {
     "end_time": "2016-06-29T15:13:59.684000",
     "start_time": "2016-06-29T15:13:59.488000"
    },
    "collapsed": false
   },
   "outputs": [
    {
     "data": {
      "text/plain": [
       "0.04762537"
      ]
     },
     "execution_count": 220,
     "metadata": {},
     "output_type": "execute_result"
    }
   ],
   "source": [
    "weight_vector[13]"
   ]
  },
  {
   "cell_type": "code",
   "execution_count": null,
   "metadata": {
    "collapsed": true
   },
   "outputs": [],
   "source": []
  }
 ],
 "metadata": {
  "kernelspec": {
   "display_name": "Python 2",
   "language": "python",
   "name": "python2"
  },
  "language_info": {
   "codemirror_mode": {
    "name": "ipython",
    "version": 2
   },
   "file_extension": ".py",
   "mimetype": "text/x-python",
   "name": "python",
   "nbconvert_exporter": "python",
   "pygments_lexer": "ipython2",
   "version": "2.7.11"
  }
 },
 "nbformat": 4,
 "nbformat_minor": 0
}
