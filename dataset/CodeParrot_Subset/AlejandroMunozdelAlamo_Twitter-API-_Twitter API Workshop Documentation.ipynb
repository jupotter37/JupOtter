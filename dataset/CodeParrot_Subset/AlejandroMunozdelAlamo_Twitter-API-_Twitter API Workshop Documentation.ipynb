{
 "cells": [
  {
   "cell_type": "markdown",
   "metadata": {},
   "source": [
    "# Twitter Api Workshop Documentation\n",
    "# Castilla Rodríguez, Abel;  Muñoz del Álamo, Alejandro"
   ]
  },
  {
   "cell_type": "markdown",
   "metadata": {},
   "source": [
    "## 1. Objective/Objetivo"
   ]
  },
  {
   "cell_type": "raw",
   "metadata": {},
   "source": [
    "This workshop consists on creating an app in Python using the Twitter API for data mining, and after show some adquired data in graphic plots\n",
    "\n",
    "Este trabajo consiste en crear una aplicación en Python usando la API de Twitter para realizar minería de datos,y despues mostrar algunos de estos datos en gráficas."
   ]
  },
  {
   "cell_type": "markdown",
   "metadata": {},
   "source": [
    "## 2. Issues/Problemas"
   ]
  },
  {
   "cell_type": "raw",
   "metadata": {},
   "source": [
    "In first place, we couldn't access to the Twitter API, because we didn't know we need a token from Twitter for login ourselves to have access to the API functions\n",
    "\n",
    "Another problem we had was the library to access the API. We have tried to use some libraries, but the only one that allowed us to work properly was Tweepy. That's why we use this library instead of the one we first chose, python-twitter.\n",
    "\n",
    "After those issues, we couldn't print in the standard output the attribute text from the  objects which type was Status, because we could't print the objects of type Unicode.\n",
    "\n",
    "Once we solved this matter, we feared our last concern: Our program couldn't print special characters like accents, using UTF-8 codification.\n",
    "\n",
    "\n",
    "\n",
    "En primer lugar, no pudimos acceder a la API de Twitter, ya que no sabíamos que requeríamos de un token de Twitter para identificarnos para acceder a las funciones de la API.\n",
    "\n",
    "Otro problema que tuvimos fue la biblioteca para acceder a la API. Tratamos de usar varias bibliotecas, pero la única que nos permitió trabajar de forma apropiada fue Tweepy. Por ello hemos utilizado esta librería en lugar de la que escogimos en primer lugar, python-twitter\n",
    "\n",
    "Después de estos incidentes, no podíamos mostrar por la salida estandar el atributo text de los objeto de la clase Status, porque no podíamos imprimir objetos de tipo Unicode.\n",
    "\n",
    "Una vez resueltos estos problemas, nos enfrentamos a nuestro última traba: Nuestro programa no podía imprimir caracteres especiales como acentos, usando la codificación UTF-8"
   ]
  },
  {
   "cell_type": "markdown",
   "metadata": {},
   "source": [
    "## 3. Libraries Definition/Definición de Bibliotecas"
   ]
  },
  {
   "cell_type": "markdown",
   "metadata": {},
   "source": [
    "     → Tweepy: Library for access to the Twitter API\n",
    "     → re: Library for using regular expressions\n",
    "     → numpy: Library for using arrays\n",
    "     → matplotlib: Library for creating graphic plots\n",
    "     \n",
    "     → Tweepy: Biblioteca para acceder a la API de Twitter\n",
    "     → re: Biblioteca para usar expresiones regulares\n",
    "     → numpy: Biblioteca para usar arrays\n",
    "     → matplotlib: Biblioteca para crear graficas\n",
    "\n"
   ]
  },
  {
   "cell_type": "markdown",
   "metadata": {},
   "source": [
    "## 4. User Manual/Manual del Usuario"
   ]
  },
  {
   "cell_type": "raw",
   "metadata": {},
   "source": [
    "At the beginning of the app, you will see a Main Menu, with some posibilities. In that menu, you can choose an option with the number which goes with the description of the function. Then, the app gives you the info requested as soon as posible.\n",
    "\n",
    "Al comienzo de la aplicación, se puede observar un menú principal, con algunas posibilidades. En dicho menú, puede escoger una opción con el núomero que acompaña a la descripción de la funcion. Entonces, la aplicación le devuelve la información que pidió tan pronto como sea posible."
   ]
  }
 ],
 "metadata": {
  "kernelspec": {
   "display_name": "Python 2",
   "language": "python",
   "name": "python2"
  },
  "language_info": {
   "codemirror_mode": {
    "name": "ipython",
    "version": 2
   },
   "file_extension": ".py",
   "mimetype": "text/x-python",
   "name": "python",
   "nbconvert_exporter": "python",
   "pygments_lexer": "ipython2",
   "version": "2.7.11"
  }
 },
 "nbformat": 4,
 "nbformat_minor": 0
}
