{
 "cells": [
  {
   "cell_type": "code",
   "execution_count": 2,
   "metadata": {
    "collapsed": false
   },
   "outputs": [
    {
     "name": "stdout",
     "output_type": "stream",
     "text": [
      "Populating the interactive namespace from numpy and matplotlib\n"
     ]
    }
   ],
   "source": [
    "%pylab inline\n",
    "\n",
    "from sklearn.dummy import DummyRegressor\n",
    "from sklearn.ensemble import RandomForestRegressor\n",
    "from sklearn.metrics import mean_squared_error\n",
    "import xgboost as xgb\n",
    "\n",
    "from soln.dataset import AllCategoricalsFeaturizer\n",
    "from soln.dataset import featurize_and_to_numpy\n",
    "from soln.dataset import generate_xv_splits\n",
    "from soln.dataset import get_augmented_train_and_test_set\n",
    "from soln.utils import eval_regressor"
   ]
  },
  {
   "cell_type": "code",
   "execution_count": 4,
   "metadata": {
    "collapsed": false
   },
   "outputs": [
    {
     "name": "stdout",
     "output_type": "stream",
     "text": [
      "CPU times: user 7.48 s, sys: 144 ms, total: 7.63 s\n",
      "Wall time: 7.72 s\n"
     ]
    }
   ],
   "source": [
    "%time aug_train_set, aug_test_set = get_augmented_train_and_test_set()"
   ]
  },
  {
   "cell_type": "code",
   "execution_count": 5,
   "metadata": {
    "collapsed": true
   },
   "outputs": [],
   "source": [
    "params = {\n",
    "    'objective': 'reg:linear',\n",
    "    'eta': 0.02,\n",
    "    'min_child_weight': 6,\n",
    "    'subsample': 0.7,\n",
    "    'colsample_bytree': 0.6,\n",
    "    'scale_pos_weight': 0.8,  # undocumented?!\n",
    "    'silent': 1,\n",
    "    'max_depth': 8,\n",
    "    'max_delta_step': 2,\n",
    "}"
   ]
  },
  {
   "cell_type": "code",
   "execution_count": 9,
   "metadata": {
    "collapsed": false
   },
   "outputs": [
    {
     "name": "stdout",
     "output_type": "stream",
     "text": [
      "---------------------- split 0\n",
      "CPU times: user 2.44 s, sys: 392 ms, total: 2.84 s\n",
      "Wall time: 2.87 s\n",
      "CPU times: user 2min 9s, sys: 248 ms, total: 2min 10s\n",
      "Wall time: 1min 17s\n",
      "CPU times: user 8 ms, sys: 4 ms, total: 12 ms\n",
      "Wall time: 5.34 ms\n",
      "CPU times: user 700 ms, sys: 0 ns, total: 700 ms\n",
      "Wall time: 476 ms\n",
      "train_rmsle 0.131497068386; test_rmsle 0.224741115394\n",
      "---------------------- split 1\n",
      "CPU times: user 2.36 s, sys: 520 ms, total: 2.88 s\n",
      "Wall time: 2.89 s\n",
      "CPU times: user 2min 7s, sys: 340 ms, total: 2min 8s\n",
      "Wall time: 1min 15s\n",
      "CPU times: user 12 ms, sys: 0 ns, total: 12 ms\n",
      "Wall time: 8.45 ms\n",
      "CPU times: user 720 ms, sys: 0 ns, total: 720 ms\n",
      "Wall time: 417 ms\n",
      "train_rmsle 0.129737217496; test_rmsle 0.210744142982\n",
      "---------------------- split 2\n",
      "CPU times: user 2.43 s, sys: 428 ms, total: 2.86 s\n",
      "Wall time: 2.89 s\n",
      "CPU times: user 2min 17s, sys: 424 ms, total: 2min 17s\n",
      "Wall time: 1min 29s\n",
      "CPU times: user 16 ms, sys: 0 ns, total: 16 ms\n",
      "Wall time: 14.5 ms\n",
      "CPU times: user 728 ms, sys: 0 ns, total: 728 ms\n",
      "Wall time: 501 ms\n",
      "train_rmsle 0.128698215106; test_rmsle 0.235402625192\n",
      "---------------------- split 3\n",
      "CPU times: user 2.38 s, sys: 532 ms, total: 2.91 s\n",
      "Wall time: 2.98 s\n",
      "CPU times: user 2min 9s, sys: 408 ms, total: 2min 10s\n",
      "Wall time: 1min 17s\n",
      "CPU times: user 12 ms, sys: 0 ns, total: 12 ms\n",
      "Wall time: 10.1 ms\n",
      "CPU times: user 736 ms, sys: 4 ms, total: 740 ms\n",
      "Wall time: 464 ms\n",
      "train_rmsle 0.129471366875; test_rmsle 0.212931804071\n",
      "---------------------- split 4\n",
      "CPU times: user 2.44 s, sys: 320 ms, total: 2.76 s\n",
      "Wall time: 2.77 s\n",
      "CPU times: user 2min 8s, sys: 376 ms, total: 2min 9s\n",
      "Wall time: 1min 15s\n",
      "CPU times: user 20 ms, sys: 0 ns, total: 20 ms\n",
      "Wall time: 25.1 ms\n",
      "CPU times: user 700 ms, sys: 4 ms, total: 704 ms\n",
      "Wall time: 403 ms\n",
      "train_rmsle 0.129757517941; test_rmsle 0.22167281356\n",
      "---------------------- split 5\n",
      "CPU times: user 2.39 s, sys: 484 ms, total: 2.88 s\n",
      "Wall time: 2.9 s\n",
      "CPU times: user 2min 11s, sys: 348 ms, total: 2min 11s\n",
      "Wall time: 1min 21s\n",
      "CPU times: user 20 ms, sys: 0 ns, total: 20 ms\n",
      "Wall time: 19.1 ms\n",
      "CPU times: user 688 ms, sys: 0 ns, total: 688 ms\n",
      "Wall time: 410 ms\n",
      "train_rmsle 0.131557352301; test_rmsle 0.196064770099\n",
      "---------------------- split 6\n",
      "CPU times: user 2.4 s, sys: 428 ms, total: 2.82 s\n",
      "Wall time: 2.85 s\n",
      "CPU times: user 2min 11s, sys: 248 ms, total: 2min 11s\n",
      "Wall time: 1min 19s\n",
      "CPU times: user 20 ms, sys: 0 ns, total: 20 ms\n",
      "Wall time: 33.1 ms\n",
      "CPU times: user 720 ms, sys: 4 ms, total: 724 ms\n",
      "Wall time: 451 ms\n",
      "train_rmsle 0.129510982744; test_rmsle 0.250619980426\n",
      "---------------------- split 7\n",
      "CPU times: user 2.54 s, sys: 460 ms, total: 3 s\n",
      "Wall time: 3.03 s\n",
      "CPU times: user 2min 20s, sys: 508 ms, total: 2min 20s\n",
      "Wall time: 1min 36s\n",
      "CPU times: user 8 ms, sys: 0 ns, total: 8 ms\n",
      "Wall time: 6.17 ms\n",
      "CPU times: user 792 ms, sys: 4 ms, total: 796 ms\n",
      "Wall time: 946 ms\n",
      "train_rmsle 0.129149378055; test_rmsle 0.237027722482\n",
      "---------------------- split 8\n",
      "CPU times: user 2.51 s, sys: 464 ms, total: 2.97 s\n",
      "Wall time: 3.31 s\n",
      "CPU times: user 2min 16s, sys: 504 ms, total: 2min 16s\n",
      "Wall time: 1min 27s\n",
      "CPU times: user 16 ms, sys: 0 ns, total: 16 ms\n",
      "Wall time: 14.1 ms\n",
      "CPU times: user 704 ms, sys: 0 ns, total: 704 ms\n",
      "Wall time: 410 ms\n",
      "train_rmsle 0.129724331773; test_rmsle 0.21963796411\n",
      "---------------------- split 9\n",
      "CPU times: user 2.38 s, sys: 496 ms, total: 2.88 s\n",
      "Wall time: 2.91 s\n",
      "CPU times: user 2min 8s, sys: 328 ms, total: 2min 8s\n",
      "Wall time: 1min 14s\n",
      "CPU times: user 28 ms, sys: 0 ns, total: 28 ms\n",
      "Wall time: 41.7 ms\n",
      "CPU times: user 788 ms, sys: 16 ms, total: 804 ms\n",
      "Wall time: 692 ms\n",
      "train_rmsle 0.13132345535; test_rmsle 0.223434909418\n",
      "\n",
      "------------------------------ averages:\n",
      "    train RMSLE avg 0.130042688603 std 0.00097675526429\n",
      "    test RMSLE avg 0.223227784773 std 0.0145131427263\n",
      "\n"
     ]
    }
   ],
   "source": [
    "featurizer = AllCategoricalsFeaturizer()\n",
    "num_rounds = 1000\n",
    "\n",
    "train_rmsles = []\n",
    "test_rmsles = []\n",
    "\n",
    "for i, split in enumerate(generate_xv_splits(aug_train_set)):\n",
    "    print \"---------------------- split {}\".format(i)\n",
    "    %time split_np = featurize_and_to_numpy(featurizer, *split)\n",
    "    X_train_np, y_train_np, X_test_np, y_test_np = split_np\n",
    "    xgtrain = xgb.DMatrix(X_train_np, label=y_train_np)\n",
    "    xgtest = xgb.DMatrix(X_test_np)\n",
    "\n",
    "    %time model = xgb.train(params.items(), xgtrain, num_rounds)\n",
    "    %time y_train_pred = model.predict(xgtrain)\n",
    "    train_rmsle = np.sqrt(mean_squared_error(y_train_np, y_train_pred))\n",
    "    %time y_test_pred = model.predict(xgtest)\n",
    "    test_rmsle = np.sqrt(mean_squared_error(y_test_np, y_test_pred))\n",
    "\n",
    "    print \"train_rmsle {}; test_rmsle {}\".format(train_rmsle, test_rmsle)\n",
    "    train_rmsles.append(train_rmsle)\n",
    "    test_rmsles.append(test_rmsle)\n",
    "\n",
    "print\n",
    "print \"------------------------------ averages:\".format(i)\n",
    "print \"    train RMSLE avg {} std {}\".format(np.mean(train_rmsles), np.std(train_rmsles))\n",
    "# print \"    train RMSLEs: {}\".format(train_rmsles)\n",
    "print \"    test RMSLE avg {} std {}\".format(np.mean(test_rmsles), np.std(test_rmsles))\n",
    "# print \"    test RMSLEs: {}\".format(test_rmsles)\n",
    "print"
   ]
  },
  {
   "cell_type": "code",
   "execution_count": null,
   "metadata": {
    "collapsed": true
   },
   "outputs": [],
   "source": []
  }
 ],
 "metadata": {
  "kernelspec": {
   "display_name": "Python 2",
   "language": "python",
   "name": "python2"
  },
  "language_info": {
   "codemirror_mode": {
    "name": "ipython",
    "version": 2
   },
   "file_extension": ".py",
   "mimetype": "text/x-python",
   "name": "python",
   "nbconvert_exporter": "python",
   "pygments_lexer": "ipython2",
   "version": "2.7.3"
  }
 },
 "nbformat": 4,
 "nbformat_minor": 0
}
