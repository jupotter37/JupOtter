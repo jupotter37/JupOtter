{
  "cells": [
    {
      "metadata": {
        "_cell_guid": "b1076dfc-b9ad-4769-8c92-a6c4dae69d19",
        "_uuid": "8f2839f25d086af736a60e9eeb907d3b93b6e0e5",
        "trusted": false,
        "collapsed": true
      },
      "cell_type": "code",
      "source": "# This Python 3 environment comes with many helpful analytics libraries installed\n# It is defined by the kaggle/python docker image: https://github.com/kaggle/docker-python\n# For example, here's several helpful packages to load in \n\nimport numpy as np # linear algebra\nimport pandas as pd # data processing, CSV file I/O (e.g. pd.read_csv)\n\n# Input data files are available in the \"../input/\" directory.\n# For example, running this (by clicking run or pressing Shift+Enter) will list the files in the input directory\n\nimport os\nprint(os.listdir(\"../input\"))\n\n# Any results you write to the current directory are saved as output.",
      "execution_count": null,
      "outputs": []
    },
    {
      "metadata": {
        "_cell_guid": "24d70ace-2774-4e74-81c8-f8ae991a6111",
        "_uuid": "f4e672bf05a8350d1a1a8143940cf537d5c6c798",
        "trusted": false,
        "collapsed": true
      },
      "cell_type": "code",
      "source": "%%bash\nls -lh ../input",
      "execution_count": null,
      "outputs": []
    },
    {
      "metadata": {
        "_cell_guid": "f6afde22-b309-4592-be16-57203c02e943",
        "_uuid": "3f98618108095a33c169cda1c6a9a36cfa3d79ef",
        "trusted": false,
        "collapsed": true
      },
      "cell_type": "code",
      "source": "%%bash\nwc -l ../input/*",
      "execution_count": null,
      "outputs": []
    },
    {
      "metadata": {
        "_cell_guid": "5507e31e-3742-480e-bd76-38b53011531c",
        "_uuid": "19b3e6fa625311d9faec7d4cdf02391ab6f9a631",
        "trusted": false,
        "collapsed": true
      },
      "cell_type": "code",
      "source": "40000000*100/184903891",
      "execution_count": null,
      "outputs": []
    },
    {
      "metadata": {
        "_cell_guid": "19d7f9d4-f441-4539-9650-042a4f278a3a",
        "_uuid": "113268912ee6cf7e5f5388f689c86dead72ad331",
        "trusted": false,
        "collapsed": true
      },
      "cell_type": "code",
      "source": "%%bash\nhead ../input/sample_submission.csv",
      "execution_count": null,
      "outputs": []
    },
    {
      "metadata": {
        "_cell_guid": "79c7e3d0-c299-4dcb-8224-4455121ee9b0",
        "_uuid": "d629ff2d2480ee46fbb7e2d37f6b5fab8052498a",
        "trusted": false,
        "collapsed": true
      },
      "cell_type": "code",
      "source": "#train = pd.read_csv(\"../input/train.csv\")\n#test = pd.read_csv(\"../input/test.csv\")\n\npath = \"../input/\"\n\ndtypes = {\n        'ip'            : 'uint32',\n        'app'           : 'uint16',\n        'device'        : 'uint16',\n        'os'            : 'uint16',\n        'channel'       : 'uint16',\n        'is_attributed' : 'uint8',\n        'click_id'      : 'uint32'\n        }\n\nprint('loading train data...')\ntrain_df = pd.read_csv(path+\"train.csv\", nrows=40000000, dtype=dtypes, usecols=['ip','app','device','os', 'channel', 'click_time', 'is_attributed'])\n\nprint('loading test data...')\ntest_df = pd.read_csv(path+\"test.csv\", dtype=dtypes, usecols=['ip','app','device','os', 'channel', 'click_time', 'click_id'])\n\nsub = pd.read_csv(\"../input/sample_submission.csv\")\n",
      "execution_count": null,
      "outputs": []
    },
    {
      "metadata": {
        "_cell_guid": "016da536-95f0-46ec-a1a3-d70bf00831a0",
        "_uuid": "65205b7fe693b7732d8e26962d1985f02a8bbc0a",
        "trusted": false,
        "collapsed": true
      },
      "cell_type": "code",
      "source": "import gc\ngc.collect()",
      "execution_count": null,
      "outputs": []
    },
    {
      "metadata": {
        "_cell_guid": "3bbac495-74f5-46da-9f07-cd3a7d3085d0",
        "_uuid": "01fb2f91d2d207e5372dc05d26ba88e079961d35",
        "trusted": false,
        "collapsed": true
      },
      "cell_type": "code",
      "source": "print(test_df.shape)\ntest_df.head()",
      "execution_count": null,
      "outputs": []
    },
    {
      "metadata": {
        "collapsed": true,
        "_cell_guid": "24832bd1-ac3e-4fea-a692-ca9797ea94c7",
        "_uuid": "7c15281dd83a8b507d1fd244839e9e3576df4a0e",
        "trusted": false
      },
      "cell_type": "code",
      "source": "len_train = len(train_df)\ntrain_df=train_df.append(test_df)",
      "execution_count": null,
      "outputs": []
    },
    {
      "metadata": {
        "_cell_guid": "f6d65848-4b85-4873-bc4c-5dafdefa2213",
        "_uuid": "4bad0e7f86a5e46fe86ae1e2c5a6a48411b5d2e9",
        "trusted": false,
        "collapsed": true
      },
      "cell_type": "code",
      "source": "del test_df\ngc.collect()\n\nprint('Extracting new features...')\ntrain_df['hour'] = pd.to_datetime(train_df.click_time).dt.hour.astype('uint8')\ntrain_df['day'] = pd.to_datetime(train_df.click_time).dt.day.astype('uint8')\ntrain_df['wday']  = pd.to_datetime(train_df.click_time).dt.dayofweek.astype('uint8')\n\ngc.collect()",
      "execution_count": null,
      "outputs": []
    },
    {
      "metadata": {
        "_cell_guid": "77c2a323-d2a7-4063-aaa5-1772f83a88ef",
        "_uuid": "38c43880da75ffdde32cc44f71dc67e68ec96c5e",
        "trusted": false,
        "collapsed": true
      },
      "cell_type": "code",
      "source": "print('grouping by ip-day-hour combination...')\ngp = train_df[['ip','day','hour','channel']].groupby(by=['ip','day','hour'])[['channel']].count().reset_index().rename(index=str, columns={'channel': 'qty'})\ntrain_df = train_df.merge(gp, on=['ip','day','hour'], how='left')\ndel gp\ngc.collect()",
      "execution_count": null,
      "outputs": []
    },
    {
      "metadata": {
        "_cell_guid": "fcd3213a-ae7e-4d79-9288-31658eaf165a",
        "_uuid": "e8bf74e7bb60e7bb12b742608978835797cab014",
        "trusted": false,
        "collapsed": true
      },
      "cell_type": "code",
      "source": "print('group by ip-app combination...')\ngp = train_df[['ip', 'app', 'channel']].groupby(by=['ip', 'app'])[['channel']].count().reset_index().rename(index=str, columns={'channel': 'ip_app_count'})\ntrain_df = train_df.merge(gp, on=['ip','app'], how='left')\ndel gp\ngc.collect()",
      "execution_count": null,
      "outputs": []
    },
    {
      "metadata": {
        "_cell_guid": "07f41fb6-67f6-4099-b08f-6d48cf845c9d",
        "_uuid": "7e3473fea4c6a8b87e5b967312277f21af7da6c3",
        "trusted": false,
        "collapsed": true
      },
      "cell_type": "code",
      "source": "print('group by ip-app-os combination...')\ngp = train_df[['ip','app', 'os', 'channel']].groupby(by=['ip', 'app', 'os'])[['channel']].count().reset_index().rename(index=str, columns={'channel': 'ip_app_os_count'})\nprint(\"merging...\")\ntrain_df = train_df.merge(gp, on=['ip','app', 'os'], how='left')\ndel gp\ngc.collect()",
      "execution_count": null,
      "outputs": []
    },
    {
      "metadata": {
        "_cell_guid": "f429ef85-155b-4f5b-9444-d786f8aabb13",
        "_uuid": "5fa3659283942f76af13bed53d19a00e1bd5f7e2",
        "trusted": false,
        "collapsed": true
      },
      "cell_type": "code",
      "source": "print(\"vars and data type: \")\ntrain_df.info()\ntrain_df['qty'] = train_df['qty'].astype('uint16')\ntrain_df['ip_app_count'] = train_df['ip_app_count'].astype('uint16')\ntrain_df['ip_app_os_count'] = train_df['ip_app_os_count'].astype('uint16')\n",
      "execution_count": null,
      "outputs": []
    },
    {
      "metadata": {
        "collapsed": true,
        "_cell_guid": "f72eecc7-a36d-4412-8611-8a3843442005",
        "_uuid": "6b521ed0f7e31446d715ab163577f6678d2edd44",
        "trusted": false
      },
      "cell_type": "code",
      "source": "test_df = train_df[len_train:]\ntrain_df = train_df[:len_train]\n",
      "execution_count": null,
      "outputs": []
    },
    {
      "metadata": {
        "_cell_guid": "8c5270bd-a1ac-45aa-94ea-ceb50a64a2b5",
        "_uuid": "6d417bf111dfe18a3bad52af60572ea14e9c7605",
        "trusted": false,
        "collapsed": true
      },
      "cell_type": "code",
      "source": "train_df.head()",
      "execution_count": null,
      "outputs": []
    },
    {
      "metadata": {
        "collapsed": true,
        "_cell_guid": "02808831-d2f5-4594-9b18-32a39a58c5a9",
        "_uuid": "8001869a044f4864e2bf346d427e9d3dacdc9733",
        "trusted": false
      },
      "cell_type": "code",
      "source": "train_df = train_df.sample(frac=1).reset_index(drop=True)",
      "execution_count": null,
      "outputs": []
    },
    {
      "metadata": {
        "_cell_guid": "83ca6243-b508-444e-bd15-70dcb508cc55",
        "_uuid": "7cc51110b2573827dcf4ee3638f1eee617cea8aa",
        "trusted": false,
        "collapsed": true
      },
      "cell_type": "code",
      "source": "train_df.head()",
      "execution_count": null,
      "outputs": []
    },
    {
      "metadata": {
        "collapsed": true,
        "_cell_guid": "1cec11bb-aa0c-4412-9970-eaf34d9cdd49",
        "_uuid": "8102de6620618b9a86acca8c753b0f1c6af168ec",
        "trusted": false
      },
      "cell_type": "code",
      "source": "val_df = train_df[(len_train-3000000):len_train]\ntrain_df = train_df[:(len_train-3000000)]",
      "execution_count": null,
      "outputs": []
    },
    {
      "metadata": {
        "_cell_guid": "fabf1cb8-294e-486e-b91e-14e948deb285",
        "_uuid": "6f79dc377a72544c61a4e722bd5e69bb97554a83",
        "trusted": false,
        "collapsed": true
      },
      "cell_type": "code",
      "source": "print(\"train size: \", len(train_df))\nprint(\"valid size: \", len(val_df))\nprint(\"test size : \", len(test_df))\n\ntarget = 'is_attributed'\npredictors = ['app','device','os', 'channel', 'hour', 'day', 'wday', 'qty', 'ip_app_count', 'ip_app_os_count']\ncategorical = ['app', 'device', 'os', 'channel', 'hour', 'day', 'wday']\n\nsub = pd.DataFrame()\nsub['click_id'] = test_df['click_id'].astype('int')",
      "execution_count": null,
      "outputs": []
    },
    {
      "metadata": {
        "_cell_guid": "59f80c05-7618-4894-acc8-483c5259a7fc",
        "_uuid": "2e2f83566fb53159e91d40b826b6194864959372",
        "trusted": false,
        "collapsed": true
      },
      "cell_type": "code",
      "source": "from sklearn.linear_model import LogisticRegressionCV\nmodel = LogisticRegressionCV(cv=5,scoring=\"neg_log_loss\",random_state=1\n                             #,penalty=\"l1\"\n                             #,Cs= Cs_#list(np.arange(1e-7,1e-9,-0.5e-9)) # [0.5,0.1,0.01,0.001] #list(np.power(1, np.arange(-10, 10)))\n                             #,max_iter=1000, tol=1e-11\n                             #,solver=\"liblinear\"\n                             ,n_jobs=4\n                            )\nmodel.fit(train_df[predictors], train_df[target])\n\n#---\nCs = model.Cs_\nlist(np.power(10.0, np.arange(-10, 10)))\ndir(model)\nsco = model.scores_[1].mean(axis=0)\n#---\nimport matplotlib.pyplot as plt\nplt.plot(Cs\n    #np.log10(Cs)\n    ,sco)\n# plt.ylabel('some numbers')\nplt.show()\nsco.min()",
      "execution_count": null,
      "outputs": []
    },
    {
      "metadata": {
        "collapsed": true,
        "_cell_guid": "b909244c-9cfa-41f4-9260-da4acfface26",
        "_uuid": "0ddac85a951aae16a0d33ce4c1d063892904f84f",
        "trusted": false
      },
      "cell_type": "code",
      "source": "",
      "execution_count": null,
      "outputs": []
    },
    {
      "metadata": {
        "_cell_guid": "10f54298-ffec-48ae-8543-13a924153aed",
        "_uuid": "2e21cd33416340eda73d0e122f7eba12992844b9",
        "trusted": false,
        "collapsed": true
      },
      "cell_type": "code",
      "source": "from sklearn.metrics import roc_auc_score\ny_pred=model.predict(val_df[predictors],verbose=1,batch_size=10000)\ny_test=val_df[target]\nroc_auc_score(y_test, y_pred)",
      "execution_count": null,
      "outputs": []
    },
    {
      "metadata": {
        "_cell_guid": "fc3896a2-9cff-417f-917b-9711df0b31b7",
        "_uuid": "b0129083bc6b534115a59d1f3b5be1e4c77691cd",
        "trusted": false,
        "collapsed": true
      },
      "cell_type": "code",
      "source": "y_test.hist()",
      "execution_count": null,
      "outputs": []
    },
    {
      "metadata": {
        "_cell_guid": "a752c700-4c54-433e-9ada-b291c7bcef58",
        "_uuid": "567000c607a161e6e39f7a8354d887fea558616b",
        "trusted": false,
        "collapsed": true
      },
      "cell_type": "code",
      "source": "y_pred[:6]\nnumpy.histogram(y_pred)",
      "execution_count": null,
      "outputs": []
    },
    {
      "metadata": {
        "collapsed": true,
        "_cell_guid": "8bc33895-4ffb-4937-80b0-82c1a35b5452",
        "_uuid": "51859da9355aeed4c1e8581c42dad158d192ba3d",
        "trusted": false
      },
      "cell_type": "code",
      "source": "almost1 = y_pred >= 0.96\ny_pred[almost1] = 1",
      "execution_count": null,
      "outputs": []
    },
    {
      "metadata": {
        "_cell_guid": "38eeaef7-ed5a-44ea-8d1e-a42b5ac56e31",
        "_uuid": "0c8348ce4bb8a9e2372defe6bfa8856d3ec583ea",
        "trusted": false,
        "collapsed": true
      },
      "cell_type": "code",
      "source": "y_pred[almost1]",
      "execution_count": null,
      "outputs": []
    },
    {
      "metadata": {
        "_cell_guid": "ecb594e9-a1e7-49de-b226-0fe0750f12cc",
        "_uuid": "49babe8d611bd29210b37783042b192e28b4f7ff",
        "trusted": false,
        "collapsed": true
      },
      "cell_type": "code",
      "source": "roc_auc_score(y_test, y_pred) - 0.9235889250504977\n",
      "execution_count": null,
      "outputs": []
    },
    {
      "metadata": {
        "collapsed": true,
        "_cell_guid": "5b898502-7640-4094-812a-afaab1d92130",
        "_uuid": "9ebf5fd8000e5ead831faa4e2020685f8a417603",
        "trusted": false
      },
      "cell_type": "code",
      "source": "gc.collect()\n\nprint(\"Training...\")\nstart_time = time.time()\n\n\nparams = {\n    'learning_rate': 0.19,\n    #'is_unbalance': 'true', # replaced with scale_pos_weight argument\n    'num_leaves': 15,  # 2^max_depth - 1\n    'max_depth': 4,  # -1 means no limit\n    'min_child_samples': 100,  # Minimum number of data need in a child(min_data_in_leaf)\n    'max_bin': 100,  # Number of bucketed bin for feature values\n    'subsample': .7,  # Subsample ratio of the training instance.\n    'subsample_freq': 1,  # frequence of subsample, <=0 means no enable\n    'colsample_bytree': 0.7,  # Subsample ratio of columns when constructing each tree.\n    'min_child_weight': 0,  # Minimum sum of instance weight(hessian) needed in a child(leaf)\n    'scale_pos_weight':99 # because training data is extremely unbalanced \n}\nbst = lgb_modelfit_nocv(params, \n                        train_df, \n                        val_df, \n                        predictors, \n                        target, \n                        objective='binary', \n                        metrics='auc',\n                        early_stopping_rounds=50, \n                        verbose_eval=True, \n                        num_boost_round=350, \n                        categorical_features=categorical)\n\nprint('[{}]: model training time'.format(time.time() - start_time))\n",
      "execution_count": null,
      "outputs": []
    },
    {
      "metadata": {
        "collapsed": true,
        "_cell_guid": "08cc486d-d7f0-4758-81bb-fa4c8e5a97e0",
        "_uuid": "9804bc8e0aeca5855f013b4597a0b045012e21f7",
        "trusted": false
      },
      "cell_type": "code",
      "source": "print(\"Predicting...\")\nsub['is_attributed'] = bst.predict(test_df[predictors])\nprint(\"writing...\")\nsub.to_csv('sub_lgb_balanced99.csv',index=False)\nprint(\"done...\")",
      "execution_count": null,
      "outputs": []
    },
    {
      "metadata": {
        "collapsed": true,
        "_cell_guid": "f876763a-2d7a-4c09-aaea-9e0e1d084902",
        "_uuid": "49789db1bc9c10ec0be9107bffe536d115f5fbcf",
        "trusted": false
      },
      "cell_type": "code",
      "source": "",
      "execution_count": null,
      "outputs": []
    }
  ],
  "metadata": {
    "kernelspec": {
      "display_name": "Python 3",
      "language": "python",
      "name": "python3"
    },
    "language_info": {
      "version": "3.6.4",
      "file_extension": ".py",
      "nbconvert_exporter": "python",
      "name": "python",
      "pygments_lexer": "ipython3",
      "codemirror_mode": {
        "version": 3,
        "name": "ipython"
      },
      "mimetype": "text/x-python"
    }
  },
  "nbformat": 4,
  "nbformat_minor": 1
}