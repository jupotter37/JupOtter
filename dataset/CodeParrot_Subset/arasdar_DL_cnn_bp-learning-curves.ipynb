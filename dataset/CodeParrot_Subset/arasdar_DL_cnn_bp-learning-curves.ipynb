{
 "cells": [
  {
   "cell_type": "markdown",
   "metadata": {
    "collapsed": true
   },
   "source": [
    "# Image Classification\n",
    "In this project, you'll classify images from the [CIFAR-10 dataset](https://www.cs.toronto.edu/~kriz/cifar.html).  The dataset consists of airplanes, dogs, cats, and other objects. You'll preprocess the images, then train a convolutional neural network on all the samples. The images need to be normalized and the labels need to be one-hot encoded.  You'll get to apply what you learned and build a convolutional, max pooling, dropout, and fully connected layers.  At the end, you'll get to see your neural network's predictions on the sample images.\n",
    "## Get the Data\n",
    "Run the following cell to download the [CIFAR-10 dataset for python](https://www.cs.toronto.edu/~kriz/cifar-10-python.tar.gz)."
   ]
  },
  {
   "cell_type": "code",
   "execution_count": 23,
   "metadata": {
    "scrolled": true
   },
   "outputs": [
    {
     "name": "stdout",
     "output_type": "stream",
     "text": [
      "All files found!\n"
     ]
    }
   ],
   "source": [
    "\"\"\"\n",
    "DON'T MODIFY ANYTHING IN THIS CELL THAT IS BELOW THIS LINE\n",
    "\"\"\"\n",
    "from urllib.request import urlretrieve\n",
    "from os.path import isfile, isdir\n",
    "from tqdm import tqdm\n",
    "import problem_unittests as tests\n",
    "import tarfile\n",
    "\n",
    "cifar10_dataset_folder_path = 'cifar-10-batches-py'\n",
    "\n",
    "class DLProgress(tqdm):\n",
    "    last_block = 0\n",
    "\n",
    "    def hook(self, block_num=1, block_size=1, total_size=None):\n",
    "        self.total = total_size\n",
    "        self.update((block_num - self.last_block) * block_size)\n",
    "        self.last_block = block_num\n",
    "\n",
    "if not isfile('cifar-10-python.tar.gz'):\n",
    "    with DLProgress(unit='B', unit_scale=True, miniters=1, desc='CIFAR-10 Dataset') as pbar:\n",
    "        urlretrieve(\n",
    "            'https://www.cs.toronto.edu/~kriz/cifar-10-python.tar.gz',\n",
    "            'cifar-10-python.tar.gz',\n",
    "            pbar.hook)\n",
    "\n",
    "if not isdir(cifar10_dataset_folder_path):\n",
    "    with tarfile.open('cifar-10-python.tar.gz') as tar:\n",
    "        tar.extractall()\n",
    "        tar.close()\n",
    "\n",
    "\n",
    "tests.test_folder_path(cifar10_dataset_folder_path)"
   ]
  },
  {
   "cell_type": "markdown",
   "metadata": {},
   "source": [
    "## Explore the Data\n",
    "The dataset is broken into batches to prevent your machine from running out of memory.  The CIFAR-10 dataset consists of 5 batches, named `data_batch_1`, `data_batch_2`, etc.. Each batch contains the labels and images that are one of the following:\n",
    "* airplane 1\n",
    "* automobile 2\n",
    "* bird 3\n",
    "* cat 4\n",
    "* deer 5\n",
    "* dog 6\n",
    "* frog 7\n",
    "* horse 8\n",
    "* ship 9\n",
    "* truck 10\n",
    "\n",
    "* Total 10 classes (Aras changed above/this section a bit)\n",
    "\n",
    "Understanding a dataset is part of making predictions on the data.  Play around with the code cell below by changing the `batch_id` and `sample_id`. The `batch_id` is the id for a batch (1-5). The `sample_id` is the id for a image and label pair in the batch.\n",
    "\n",
    "Ask yourself \"What are all possible labels?\", \"What is the range of values for the image data?\", \"Are the labels in order or random?\".  Answers to questions like these will help you preprocess the data and end up with better predictions."
   ]
  },
  {
   "cell_type": "code",
   "execution_count": 24,
   "metadata": {
    "scrolled": true
   },
   "outputs": [
    {
     "name": "stdout",
     "output_type": "stream",
     "text": [
      "\n",
      "Stats of batch 1:\n",
      "Samples: 10000\n",
      "Label Counts: {0: 1005, 1: 974, 2: 1032, 3: 1016, 4: 999, 5: 937, 6: 1030, 7: 1001, 8: 1025, 9: 981}\n",
      "First 20 Labels: [6, 9, 9, 4, 1, 1, 2, 7, 8, 3, 4, 7, 7, 2, 9, 9, 9, 3, 2, 6]\n",
      "\n",
      "Example of Image 5:\n",
      "Image - Min Value: 0 Max Value: 252\n",
      "Image - Shape: (32, 32, 3)\n",
      "Label - Label Id: 1 Name: automobile\n"
     ]
    },
    {
     "data": {
      "image/png": "[encoded data removed]",
      "text/plain": [
       "<matplotlib.figure.Figure at 0x11bb93358>"
      ]
     },
     "metadata": {
      "image/png": {
       "height": 250,
       "width": 253
      }
     },
     "output_type": "display_data"
    }
   ],
   "source": [
    "%matplotlib inline\n",
    "%config InlineBackend.figure_format = 'retina'\n",
    "\n",
    "import helper\n",
    "import numpy as np\n",
    "\n",
    "# Explore the dataset\n",
    "batch_id = 1\n",
    "sample_id = 5\n",
    "helper.display_stats(cifar10_dataset_folder_path, batch_id, sample_id)"
   ]
  },
  {
   "cell_type": "markdown",
   "metadata": {},
   "source": [
    "## Implement Preprocess Functions\n",
    "### Normalize\n",
    "In the cell below, implement the `normalize` function to take in image data, `x`, and return it as a normalized Numpy array. The values should be in the range of 0 to 1, inclusive.  The return object should be the same shape as `x`."
   ]
  },
  {
   "cell_type": "code",
   "execution_count": 25,
   "metadata": {
    "scrolled": true
   },
   "outputs": [
    {
     "name": "stdout",
     "output_type": "stream",
     "text": [
      "Tests Passed\n"
     ]
    }
   ],
   "source": [
    "def normalize(x):\n",
    "    \"\"\"\n",
    "    Normalize a list of sample image data in the range of 0 to 1\n",
    "    : x: List of image data.  The image shape is (32, 32, 3)\n",
    "    : return: Numpy array of normalize data\n",
    "    \"\"\"\n",
    "    # TODO: Implement Function\n",
    "    ## image data shape = [t, i,j,k], t= num_img_per_batch (basically the list of images), i,j,k=height,width, and depth/channel\n",
    "    return x/255\n",
    "\n",
    "\n",
    "\"\"\"\n",
    "DON'T MODIFY ANYTHING IN THIS CELL THAT IS BELOW THIS LINE\n",
    "\"\"\"\n",
    "tests.test_normalize(normalize)"
   ]
  },
  {
   "cell_type": "markdown",
   "metadata": {},
   "source": [
    "### One-hot encode\n",
    "Just like the previous code cell, you'll be implementing a function for preprocessing.  This time, you'll implement the `one_hot_encode` function. The input, `x`, are a list of labels.  Implement the function to return the list of labels as One-Hot encoded Numpy array.  The possible values for labels are 0 to 9. The one-hot encoding function should return the same encoding for each value between each call to `one_hot_encode`.  Make sure to save the map of encodings outside the function.\n",
    "\n",
    "Hint: Don't reinvent the wheel."
   ]
  },
  {
   "cell_type": "code",
   "execution_count": 26,
   "metadata": {
    "scrolled": true
   },
   "outputs": [
    {
     "name": "stdout",
     "output_type": "stream",
     "text": [
      "Tests Passed\n"
     ]
    }
   ],
   "source": [
    "# import helper ## I did this because sklearn.preprocessing was defined in there\n",
    "from sklearn import preprocessing  ## from sklearn lib import preprocessing lib/sublib/functionality/class\n",
    "\n",
    "def one_hot_encode(x):\n",
    "    \"\"\"\n",
    "    One hot encode a list of sample labels. Return a one-hot encoded vector for each label.\n",
    "    : x: List of sample Labels\n",
    "    : return: Numpy array of one-hot encoded labels\n",
    "    \"\"\"\n",
    "    # TODO: Implement Function\n",
    "\n",
    "    ## This was in the helper.py which belongs to the generic helper functions\n",
    "    #     def display_image_predictions(features, labels, predictions):\n",
    "    #     n_classes = 10\n",
    "    #     label_names = _load_label_names()\n",
    "    #     label_binarizer = LabelBinarizer()\n",
    "    #     label_binarizer.fit(range(n_classes))\n",
    "    #     label_ids = label_binarizer.inverse_transform(np.array(labels))\n",
    "    label_binarizer = preprocessing.LabelBinarizer() ## instantiate and initialized the one-hot encoder from class to one-hot\n",
    "    n_class = 10 ## total num_classes\n",
    "    label_binarizer.fit(range(n_class)) ## fit the one-vec to the range of number of classes, 10 in this case (dataset)\n",
    "    return label_binarizer.transform(x) ## transform the class labels to one-hot vec\n",
    "\n",
    "\n",
    "\"\"\"\n",
    "DON'T MODIFY ANYTHING IN THIS CELL THAT IS BELOW THIS LINE\n",
    "\"\"\"\n",
    "tests.test_one_hot_encode(one_hot_encode)"
   ]
  },
  {
   "cell_type": "markdown",
   "metadata": {},
   "source": [
    "## Preprocess all the data and save it\n",
    "Running the code cell below will preprocess all the CIFAR-10 data and save it to file. The code below also uses 10% of the training data for validation."
   ]
  },
  {
   "cell_type": "code",
   "execution_count": 27,
   "metadata": {
    "collapsed": true,
    "scrolled": true
   },
   "outputs": [],
   "source": [
    "\"\"\"\n",
    "DON'T MODIFY ANYTHING IN THIS CELL\n",
    "\"\"\"\n",
    "# Preprocess Training, Validation, and Testing Data\n",
    "helper.preprocess_and_save_data(cifar10_dataset_folder_path, normalize, one_hot_encode)"
   ]
  },
  {
   "cell_type": "markdown",
   "metadata": {},
   "source": [
    "# Implementation of CNN with backprop in NumPy"
   ]
  },
  {
   "cell_type": "code",
   "execution_count": 28,
   "metadata": {
    "collapsed": true,
    "scrolled": true
   },
   "outputs": [],
   "source": [
    "def get_im2col_indices(x_shape, field_height, field_width, padding=1, stride=1):\n",
    "    # First figure out what the size of the output should be\n",
    "    N, C, H, W = x_shape\n",
    "    assert (H + 2 * padding - field_height) % stride == 0\n",
    "    assert (W + 2 * padding - field_height) % stride == 0\n",
    "    out_height = int((H + 2 * padding - field_height) / stride + 1)\n",
    "    out_width = int((W + 2 * padding - field_width) / stride + 1)\n",
    "\n",
    "    i0 = np.repeat(np.arange(field_height), field_width)\n",
    "    i0 = np.tile(i0, C)\n",
    "    i1 = stride * np.repeat(np.arange(out_height), out_width)\n",
    "    j0 = np.tile(np.arange(field_width), field_height * C)\n",
    "    j1 = stride * np.tile(np.arange(out_width), out_height)\n",
    "    i = i0.reshape(-1, 1) + i1.reshape(1, -1)\n",
    "    j = j0.reshape(-1, 1) + j1.reshape(1, -1)\n",
    "\n",
    "    k = np.repeat(np.arange(C), field_height * field_width).reshape(-1, 1)\n",
    "\n",
    "    return (k.astype(int), i.astype(int), j.astype(int))"
   ]
  },
  {
   "cell_type": "code",
   "execution_count": 29,
   "metadata": {
    "collapsed": true,
    "scrolled": true
   },
   "outputs": [],
   "source": [
    "def im2col_indices(x, field_height, field_width, padding=1, stride=1):\n",
    "    \"\"\" An implementation of im2col based on some fancy indexing \"\"\"\n",
    "    # Zero-pad the input\n",
    "    p = padding\n",
    "    x_padded = np.pad(x, ((0, 0), (0, 0), (p, p), (p, p)), mode='constant')\n",
    "\n",
    "    k, i, j = get_im2col_indices(x.shape, field_height, field_width, padding, stride)\n",
    "\n",
    "    cols = x_padded[:, k, i, j]\n",
    "    C = x.shape[1]\n",
    "    cols = cols.transpose(1, 2, 0).reshape(field_height * field_width * C, -1)\n",
    "    return cols"
   ]
  },
  {
   "cell_type": "code",
   "execution_count": 30,
   "metadata": {
    "collapsed": true,
    "scrolled": true
   },
   "outputs": [],
   "source": [
    "def col2im_indices(cols, x_shape, field_height=3, field_width=3, padding=1,\n",
    "                   stride=1):\n",
    "    \"\"\" An implementation of col2im based on fancy indexing and np.add.at \"\"\"\n",
    "    N, C, H, W = x_shape\n",
    "    H_padded, W_padded = H + 2 * padding, W + 2 * padding\n",
    "    x_padded = np.zeros((N, C, H_padded, W_padded), dtype=cols.dtype)\n",
    "    k, i, j = get_im2col_indices(x_shape, field_height, field_width, padding, stride)\n",
    "    cols_reshaped = cols.reshape(C * field_height * field_width, -1, N)\n",
    "    cols_reshaped = cols_reshaped.transpose(2, 0, 1)\n",
    "    np.add.at(x_padded, (slice(None), k, i, j), cols_reshaped)\n",
    "    if padding == 0:\n",
    "        return x_padded\n",
    "    return x_padded[:, :, padding:-padding, padding:-padding]"
   ]
  },
  {
   "cell_type": "code",
   "execution_count": 31,
   "metadata": {
    "collapsed": true,
    "scrolled": true
   },
   "outputs": [],
   "source": [
    "def conv_forward(X, W, b, stride=1, padding=1):\n",
    "    cache = W, b, stride, padding\n",
    "    n_filters, d_filter, h_filter, w_filter = W.shape\n",
    "    n_x, d_x, h_x, w_x = X.shape\n",
    "    h_out = (h_x - h_filter + 2 * padding) / stride + 1\n",
    "    w_out = (w_x - w_filter + 2 * padding) / stride + 1\n",
    "\n",
    "    if not h_out.is_integer() or not w_out.is_integer():\n",
    "        raise Exception('Invalid output dimension!')\n",
    "\n",
    "    h_out, w_out = int(h_out), int(w_out)\n",
    "\n",
    "    X_col = im2col_indices(X, h_filter, w_filter, padding=padding, stride=stride)\n",
    "    W_col = W.reshape(n_filters, -1)\n",
    "\n",
    "    out = W_col @ X_col + b\n",
    "    out = out.reshape(n_filters, h_out, w_out, n_x)\n",
    "    out = out.transpose(3, 0, 1, 2)\n",
    "\n",
    "    cache = (X, W, b, stride, padding, X_col)\n",
    "\n",
    "    return out, cache"
   ]
  },
  {
   "cell_type": "code",
   "execution_count": 32,
   "metadata": {
    "collapsed": true,
    "scrolled": true
   },
   "outputs": [],
   "source": [
    "def conv_backward(dout, cache):\n",
    "    X, W, b, stride, padding, X_col = cache\n",
    "    n_filter, d_filter, h_filter, w_filter = W.shape\n",
    "\n",
    "    db = np.sum(dout, axis=(0, 2, 3))\n",
    "    db = db.reshape(n_filter, -1)\n",
    "\n",
    "    dout_reshaped = dout.transpose(1, 2, 3, 0).reshape(n_filter, -1)\n",
    "    dW = dout_reshaped @ X_col.T\n",
    "    dW = dW.reshape(W.shape)\n",
    "\n",
    "    W_reshape = W.reshape(n_filter, -1)\n",
    "    dX_col = W_reshape.T @ dout_reshaped\n",
    "    dX = col2im_indices(dX_col, X.shape, h_filter, w_filter, padding=padding, stride=stride)\n",
    "\n",
    "    return dX, dW, db"
   ]
  },
  {
   "cell_type": "code",
   "execution_count": 33,
   "metadata": {
    "collapsed": true,
    "scrolled": true
   },
   "outputs": [],
   "source": [
    "# Now it is time to calculate the error using cross entropy\n",
    "def cross_entropy(y_pred, y_train):\n",
    "    m = y_pred.shape[0]\n",
    "\n",
    "    prob = softmax(y_pred)\n",
    "    log_like = -np.log(prob[range(m), y_train])\n",
    "\n",
    "    data_loss = np.sum(log_like) / m\n",
    "    #     reg_loss = regularization(model, reg_type='l2', lam=lam)\n",
    "\n",
    "    return data_loss # + reg_loss\n",
    "\n",
    "def dcross_entropy(y_pred, y_train):\n",
    "    m = y_pred.shape[0]\n",
    "\n",
    "    grad_y = softmax(y_pred)\n",
    "    grad_y[range(m), y_train] -= 1.\n",
    "    grad_y /= m\n",
    "\n",
    "    return grad_y"
   ]
  },
  {
   "cell_type": "code",
   "execution_count": 74,
   "metadata": {
    "collapsed": true,
    "scrolled": true
   },
   "outputs": [],
   "source": [
    "# Softmax and sidmoid are equally based on Bayesian NBC/ Naiive Bayesian Classifer as a probability-based classifier\n",
    "def softmax(X):\n",
    "    eX = np.exp((X.T - np.max(X, axis=1)).T)\n",
    "    return (eX.T / eX.sum(axis=1)).T\n",
    "\n",
    "def dsoftmax(X, sX): # derivative of the softmax which is the same as sigmoid as softmax is sigmoid and bayesian function for probabilistic classfication\n",
    "    # X is the input to the softmax and sX is the sX=softmax(X)\n",
    "    grad = np.zeros(shape=(len(sX[0]), len(X[0])))\n",
    "    \n",
    "    # Start filling up the gradient\n",
    "    for i in range(len(sX[0])): # mat_1xn, n=num_claess, 10 in  this case\n",
    "        for j in range(len(X[0])):\n",
    "            if i==j: \n",
    "                grad[i, j] = (sX[0, i] * (1-sX[0, i]))\n",
    "            else: \n",
    "                grad[i, j] = (-sX[0, i]* sX[0, j])\n",
    "    # return the gradient as the derivative of softmax/bwd softmax layer\n",
    "    return grad\n",
    "\n",
    "def sigmoid(X):\n",
    "    return 1. / (1 + np.exp(-X))\n",
    "\n",
    "def dsigmoid(X):\n",
    "    return sigmoid(X) * (1-sigmoid(X))"
   ]
  },
  {
   "cell_type": "code",
   "execution_count": 75,
   "metadata": {
    "collapsed": true,
    "scrolled": true
   },
   "outputs": [],
   "source": [
    "def squared_loss(y_pred, y_train):\n",
    "    m = y_pred.shape[0]\n",
    "    data_loss = (0.5/m) * np.sum(y_pred - y_train)**2 # This is now convex error surface x^2 \n",
    "    return data_loss #+ reg_loss\n",
    "\n",
    "def dsquared_loss(y_pred, y_train):\n",
    "    m = y_pred.shape[0]\n",
    "    grad_y = (y_pred - y_train)/m # f(x)-y is the convex surface for descending/minimizing\n",
    "    return grad_y"
   ]
  },
  {
   "cell_type": "code",
   "execution_count": 60,
   "metadata": {
    "collapsed": true
   },
   "outputs": [],
   "source": [
    "from sklearn.utils import shuffle as sklearn_shuffle\n",
    "\n",
    "def get_minibatch(X, y, minibatch_size, shuffle=True):\n",
    "    minibatches = []\n",
    "\n",
    "    if shuffle:\n",
    "        X, y = sklearn_shuffle(X, y)\n",
    "\n",
    "    for i in range(0, X.shape[0], minibatch_size):\n",
    "        X_mini = X[i:i + minibatch_size]\n",
    "        y_mini = y[i:i + minibatch_size]\n",
    "\n",
    "        minibatches.append((X_mini, y_mini))\n",
    "\n",
    "    return minibatches"
   ]
  },
  {
   "cell_type": "markdown",
   "metadata": {},
   "source": [
    "# Check Point\n",
    "This is your first checkpoint.  If you ever decide to come back to this notebook or have to restart the notebook, you can start from here.  The preprocessed data has been saved to disk."
   ]
  },
  {
   "cell_type": "code",
   "execution_count": 37,
   "metadata": {
    "collapsed": true,
    "scrolled": true
   },
   "outputs": [],
   "source": [
    "\"\"\"\n",
    "DON'T MODIFY ANYTHING IN THIS CELL\n",
    "\"\"\"\n",
    "import pickle\n",
    "import problem_unittests as tests\n",
    "import helper\n",
    "\n",
    "# Load the Preprocessed Validation data\n",
    "valid_features, valid_labels = pickle.load(open('preprocess_validation.p', mode='rb'))"
   ]
  },
  {
   "cell_type": "markdown",
   "metadata": {},
   "source": [
    "# This is where the CNN imllementation in NumPy starts!"
   ]
  },
  {
   "cell_type": "code",
   "execution_count": 38,
   "metadata": {
    "scrolled": true
   },
   "outputs": [
    {
     "data": {
      "text/plain": [
       "<matplotlib.image.AxesImage at 0x114084128>"
      ]
     },
     "execution_count": 38,
     "metadata": {},
     "output_type": "execute_result"
    },
    {
     "data": {
      "image/png": "[encoded data removed]",
      "text/plain": [
       "<matplotlib.figure.Figure at 0x11bb90080>"
      ]
     },
     "metadata": {
      "image/png": {
       "height": 250,
       "width": 253
      }
     },
     "output_type": "display_data"
    }
   ],
   "source": [
    "# Displaying an image using matplotlib\n",
    "# importing the library/package\n",
    "import matplotlib.pyplot as plot\n",
    "\n",
    "# Using plot with imshow to show the image (N=5000, H=32, W=32, C=3)\n",
    "plot.imshow(valid_features[0, :, :, :])"
   ]
  },
  {
   "cell_type": "code",
   "execution_count": 39,
   "metadata": {
    "collapsed": true
   },
   "outputs": [],
   "source": [
    "# # Training cycle\n",
    "#     for epoch in range(num_):\n",
    "#         # Loop over all batches\n",
    "#         n_batches = 5\n",
    "#         for batch_i in range(1, n_batches + 1):\n",
    "#             for batch_features, batch_labels in helper.load_preprocess_training_batch(batch_i, batch_size):\n",
    "#                 train_neural_network(sess, optimizer, keep_probability, batch_features, batch_labels)\n",
    "#             print('Epoch {:>2}, CIFAR-10 Batch {}:  '.format(epoch + 1, batch_i), end='')\n",
    "#             print_stats(sess, batch_features, batch_labels, cost, accuracy)\n"
   ]
  },
  {
   "cell_type": "code",
   "execution_count": 84,
   "metadata": {
    "scrolled": true
   },
   "outputs": [
    {
     "name": "stdout",
     "output_type": "stream",
     "text": [
      "Epoch: 0 Error: 0.45008646682\n",
      "Epoch: 1 Error: 0.449997899769\n",
      "Epoch: 2 Error: 0.449996336761\n",
      "Epoch: 3 Error: 0.449994805444\n",
      "Epoch: 4 Error: 0.449993304455\n",
      "Epoch: 5 Error: 0.449991833198\n",
      "Epoch: 6 Error: 0.449990391089\n",
      "Epoch: 7 Error: 0.449988977555\n",
      "Epoch: 8 Error: 0.449987592032\n",
      "Epoch: 9 Error: 0.449986233971\n",
      "Epoch: 10 Error: 0.449984902832\n",
      "Epoch: 11 Error: 0.449983598083\n",
      "Epoch: 12 Error: 0.449982319207\n",
      "Epoch: 13 Error: 0.449981065693\n",
      "Epoch: 14 Error: 0.449979837043\n",
      "Epoch: 15 Error: 0.449978632767\n",
      "Epoch: 16 Error: 0.449977452386\n",
      "Epoch: 17 Error: 0.449976295428\n",
      "Epoch: 18 Error: 0.449975161432\n",
      "Epoch: 19 Error: 0.449974049946\n",
      "Epoch: 20 Error: 0.449972960526\n",
      "Epoch: 21 Error: 0.449971892738\n",
      "Epoch: 22 Error: 0.449970846154\n",
      "Epoch: 23 Error: 0.449969820358\n",
      "Epoch: 24 Error: 0.449968814939\n",
      "Epoch: 25 Error: 0.449967829495\n",
      "Epoch: 26 Error: 0.449966863632\n",
      "Epoch: 27 Error: 0.449965916964\n",
      "Epoch: 28 Error: 0.449964989113\n",
      "Epoch: 29 Error: 0.449964079705\n",
      "Epoch: 30 Error: 0.449963188379\n",
      "Epoch: 31 Error: 0.449962314776\n",
      "Epoch: 32 Error: 0.449961458547\n",
      "Epoch: 33 Error: 0.449960619348\n",
      "Epoch: 34 Error: 0.449959796844\n",
      "Epoch: 35 Error: 0.449958990703\n",
      "Epoch: 36 Error: 0.449958200603\n",
      "Epoch: 37 Error: 0.449957426227\n",
      "Epoch: 38 Error: 0.449956667263\n",
      "Epoch: 39 Error: 0.449955923408\n",
      "Epoch: 40 Error: 0.449955194361\n",
      "Epoch: 41 Error: 0.449954479831\n",
      "Epoch: 42 Error: 0.44995377953\n",
      "Epoch: 43 Error: 0.449953093176\n",
      "Epoch: 44 Error: 0.449952420493\n",
      "Epoch: 45 Error: 0.44995176121\n",
      "Epoch: 46 Error: 0.449951115063\n",
      "Epoch: 47 Error: 0.449950481791\n",
      "Epoch: 48 Error: 0.449949861139\n",
      "Epoch: 49 Error: 0.449949252857\n",
      "Epoch: 50 Error: 0.449948656699\n",
      "Epoch: 51 Error: 0.449948072426\n",
      "Epoch: 52 Error: 0.449947499802\n",
      "Epoch: 53 Error: 0.449946938596\n",
      "Epoch: 54 Error: 0.44994638858\n",
      "Epoch: 55 Error: 0.449945849535\n",
      "Epoch: 56 Error: 0.449945321241\n",
      "Epoch: 57 Error: 0.449944803485\n",
      "Epoch: 58 Error: 0.449944296058\n",
      "Epoch: 59 Error: 0.449943798756\n",
      "Epoch: 60 Error: 0.449943311377\n",
      "Epoch: 61 Error: 0.449942833723\n",
      "Epoch: 62 Error: 0.449942365603\n",
      "Epoch: 63 Error: 0.449941906826\n",
      "Epoch: 64 Error: 0.449941457207\n",
      "Epoch: 65 Error: 0.449941016563\n",
      "Epoch: 66 Error: 0.449940584718\n",
      "Epoch: 67 Error: 0.449940161494\n",
      "Epoch: 68 Error: 0.449939746722\n",
      "Epoch: 69 Error: 0.449939340232\n",
      "Epoch: 70 Error: 0.449938941861\n",
      "Epoch: 71 Error: 0.449938551447\n",
      "Epoch: 72 Error: 0.449938168831\n",
      "Epoch: 73 Error: 0.449937793858\n",
      "Epoch: 74 Error: 0.449937426377\n",
      "Epoch: 75 Error: 0.449937066237\n",
      "Epoch: 76 Error: 0.449936713293\n",
      "Epoch: 77 Error: 0.449936367402\n",
      "Epoch: 78 Error: 0.449936028423\n",
      "Epoch: 79 Error: 0.449935696218\n",
      "Epoch: 80 Error: 0.449935370652\n",
      "Epoch: 81 Error: 0.449935051594\n",
      "Epoch: 82 Error: 0.449934738913\n",
      "Epoch: 83 Error: 0.449934432483\n",
      "Epoch: 84 Error: 0.449934132178\n",
      "Epoch: 85 Error: 0.449933837877\n",
      "Epoch: 86 Error: 0.44993354946\n",
      "Epoch: 87 Error: 0.449933266809\n",
      "Epoch: 88 Error: 0.44993298981\n",
      "Epoch: 89 Error: 0.44993271835\n",
      "Epoch: 90 Error: 0.449932452318\n",
      "Epoch: 91 Error: 0.449932191607\n",
      "Epoch: 92 Error: 0.449931936109\n",
      "Epoch: 93 Error: 0.449931685721\n",
      "Epoch: 94 Error: 0.44993144034\n",
      "Epoch: 95 Error: 0.449931199868\n",
      "Epoch: 96 Error: 0.449930964206\n",
      "Epoch: 97 Error: 0.449930733257\n",
      "Epoch: 98 Error: 0.449930506928\n",
      "Epoch: 99 Error: 0.449930285127\n",
      "Epoch: 100 Error: 0.449930067762\n",
      "Epoch: 101 Error: 0.449929854746\n",
      "Epoch: 102 Error: 0.449929645991\n",
      "Epoch: 103 Error: 0.449929441413\n",
      "Epoch: 104 Error: 0.449929240928\n",
      "Epoch: 105 Error: 0.449929044454\n",
      "Epoch: 106 Error: 0.44992885191\n",
      "Epoch: 107 Error: 0.44992866322\n",
      "Epoch: 108 Error: 0.449928478304\n",
      "Epoch: 109 Error: 0.449928297088\n",
      "Epoch: 110 Error: 0.449928119499\n",
      "Epoch: 111 Error: 0.449927945462\n",
      "Epoch: 112 Error: 0.449927774909\n",
      "Epoch: 113 Error: 0.449927607767\n",
      "Epoch: 114 Error: 0.449927443971\n",
      "Epoch: 115 Error: 0.449927283451\n",
      "Epoch: 116 Error: 0.449927126144\n",
      "Epoch: 117 Error: 0.449926971985\n",
      "Epoch: 118 Error: 0.44992682091\n",
      "Epoch: 119 Error: 0.449926672859\n",
      "Epoch: 120 Error: 0.44992652777\n",
      "Epoch: 121 Error: 0.449926385584\n",
      "Epoch: 122 Error: 0.449926246243\n",
      "Epoch: 123 Error: 0.449926109691\n",
      "Epoch: 124 Error: 0.449925975871\n",
      "Epoch: 125 Error: 0.449925844729\n",
      "Epoch: 126 Error: 0.449925716211\n",
      "Epoch: 127 Error: 0.449925590264\n",
      "Epoch: 128 Error: 0.449925466838\n",
      "Epoch: 129 Error: 0.449925345881\n",
      "Epoch: 130 Error: 0.449925227345\n",
      "Epoch: 131 Error: 0.44992511118\n",
      "Epoch: 132 Error: 0.44992499734\n",
      "Epoch: 133 Error: 0.449924885777\n",
      "Epoch: 134 Error: 0.449924776446\n",
      "Epoch: 135 Error: 0.449924669303\n",
      "Epoch: 136 Error: 0.449924564304\n",
      "Epoch: 137 Error: 0.449924461405\n",
      "Epoch: 138 Error: 0.449924360565\n",
      "Epoch: 139 Error: 0.449924261742\n",
      "Epoch: 140 Error: 0.449924164896\n",
      "Epoch: 141 Error: 0.449924069987\n",
      "Epoch: 142 Error: 0.449923976977\n",
      "Epoch: 143 Error: 0.449923885828\n",
      "Epoch: 144 Error: 0.449923796501\n",
      "Epoch: 145 Error: 0.449923708962\n",
      "Epoch: 146 Error: 0.449923623173\n",
      "Epoch: 147 Error: 0.4499235391\n",
      "Epoch: 148 Error: 0.449923456709\n",
      "Epoch: 149 Error: 0.449923375966\n",
      "Epoch: 150 Error: 0.449923296837\n",
      "Epoch: 151 Error: 0.449923219291\n",
      "Epoch: 152 Error: 0.449923143295\n",
      "Epoch: 153 Error: 0.449923068819\n",
      "Epoch: 154 Error: 0.449922995833\n",
      "Epoch: 155 Error: 0.449922924305\n",
      "Epoch: 156 Error: 0.449922854208\n",
      "Epoch: 157 Error: 0.449922785512\n",
      "Epoch: 158 Error: 0.44992271819\n",
      "Epoch: 159 Error: 0.449922652214\n",
      "Epoch: 160 Error: 0.449922587556\n",
      "Epoch: 161 Error: 0.449922524191\n",
      "Epoch: 162 Error: 0.449922462092\n",
      "Epoch: 163 Error: 0.449922401235\n",
      "Epoch: 164 Error: 0.449922341594\n",
      "Epoch: 165 Error: 0.449922283145\n",
      "Epoch: 166 Error: 0.449922225864\n",
      "Epoch: 167 Error: 0.449922169728\n",
      "Epoch: 168 Error: 0.449922114714\n",
      "Epoch: 169 Error: 0.449922060798\n",
      "Epoch: 170 Error: 0.44992200796\n",
      "Epoch: 171 Error: 0.449921956178\n",
      "Epoch: 172 Error: 0.44992190543\n",
      "Epoch: 173 Error: 0.449921855696\n",
      "Epoch: 174 Error: 0.449921806956\n",
      "Epoch: 175 Error: 0.449921759189\n",
      "Epoch: 176 Error: 0.449921712376\n",
      "Epoch: 177 Error: 0.449921666498\n",
      "Epoch: 178 Error: 0.449921621536\n",
      "Epoch: 179 Error: 0.449921577472\n",
      "Epoch: 180 Error: 0.449921534288\n",
      "Epoch: 181 Error: 0.449921491966\n",
      "Epoch: 182 Error: 0.44992145049\n",
      "Epoch: 183 Error: 0.449921409841\n",
      "Epoch: 184 Error: 0.449921370004\n",
      "Epoch: 185 Error: 0.449921330962\n",
      "Epoch: 186 Error: 0.449921292699\n",
      "Epoch: 187 Error: 0.4499212552\n",
      "Epoch: 188 Error: 0.449921218449\n",
      "Epoch: 189 Error: 0.449921182432\n",
      "Epoch: 190 Error: 0.449921147134\n",
      "Epoch: 191 Error: 0.449921112539\n",
      "Epoch: 192 Error: 0.449921078635\n",
      "Epoch: 193 Error: 0.449921045408\n",
      "Epoch: 194 Error: 0.449921012843\n",
      "Epoch: 195 Error: 0.449920980928\n",
      "Epoch: 196 Error: 0.44992094965\n",
      "Epoch: 197 Error: 0.449920918995\n",
      "Epoch: 198 Error: 0.449920888952\n",
      "Epoch: 199 Error: 0.449920859508\n"
     ]
    },
    {
     "data": {
      "text/plain": [
       "[<matplotlib.lines.Line2D at 0x11587bfd0>]"
      ]
     },
     "execution_count": 84,
     "metadata": {},
     "output_type": "execute_result"
    },
    {
     "data": {
      "image/png": "[encoded data removed]",
      "text/plain": [
       "<matplotlib.figure.Figure at 0x115643828>"
      ]
     },
     "metadata": {
      "image/png": {
       "height": 258,
       "width": 414
      }
     },
     "output_type": "display_data"
    }
   ],
   "source": [
    "# # input and output dataset\n",
    "X=valid_features.transpose(0, 3, 1, 2) # NCHW == mat_txn\n",
    "Y=valid_labels #NH= num_classes=10 = mat_txn\n",
    "#for batch_features, batch_labels in helper.load_preprocess_training_batch(batch_i, batch_size):\n",
    "# train_features, train_labels = helper.load_preprocess_training_batch(batch_id=, batch_size=)\n",
    "\n",
    "\n",
    "\n",
    "# Initilizting the parameters\n",
    "# Convolutional layer\n",
    "# Suppose we have 20 of 3x3 filter: 20x1x3x3. W_col will be 20x9 matrix\n",
    "# Let this be 3x3 convolution with stride = 1 and padding = 1\n",
    "h_filter=3 \n",
    "w_filter=3 \n",
    "c_filter=3\n",
    "padding=1 \n",
    "stride=1\n",
    "num_filters = 20\n",
    "w1 = np.random.normal(loc=0.0, scale=1.0, size=(num_filters, c_filter, h_filter, w_filter))# NCHW 20x9 x 9x500 = 20x500\n",
    "w1 = w1/(c_filter* h_filter* w_filter) # taking average from them or average running for initialization.\n",
    "b1 = np.zeros(shape=(num_filters, 1), dtype=float)\n",
    "\n",
    "# FC layer to the output layer -- This is really hard to have a final size for the FC to the output layer\n",
    "# num_classes = y[0, 1] # txn\n",
    "w2 = np.random.normal(loc=0.0, scale=1.0, size=Y[0:1].shape) # This will be resized though\n",
    "b2 = np.zeros(shape=Y[0:1].shape) # number of output nodes/units/neurons are equal to the number of classes\n",
    "\n",
    "# Initializing hyper parameters\n",
    "num_epochs = 200\n",
    "## minibatch_size = 512 # This will eventually used for stochstic or random minibatch from the whole batch\n",
    "batch_size = X.shape[0]//1 #NCHW, N= number of samples or t\n",
    "error_list = [] # to display the plot or plot the error curve/ learning rate\n",
    "\n",
    "# Training loops for epochs and updating params\n",
    "for epoch in range(num_epochs): # start=0, stop=num_epochs, step=1\n",
    "\n",
    "    # Initializing/reseting the gradients\n",
    "    dw1 = np.zeros(shape=w1.shape)\n",
    "    db1 = np.zeros(shape=b1.shape)\n",
    "    dw2 = np.zeros(shape=w2.shape)\n",
    "    db2 = np.zeros(shape=b2.shape)\n",
    "    err = 0\n",
    "    \n",
    "    #     # Shuffling the entire batch for a minibatch\n",
    "    #     # Stochastic part for randomizing/shuffling through the dataset in every single epoch\n",
    "    #     minibatches = get_minibatch(X=X, y=Y, minibatch_size=batch_size, shuffle=True)\n",
    "    #     X_mini, Y_mini = minibatches[0]\n",
    "    \n",
    "    \n",
    "    # The loop for learning the gradients\n",
    "    for t in range(batch_size): # start=0, stop=mini_batch_size/batch_size, step=1\n",
    "        \n",
    "        # input and output each sample in the batch/minibatch for updating the gradients/d_params/delta_params\n",
    "        x= X[t:t+1] # mat_nxcxhxw\n",
    "        y= Y[t:t+1] # mat_txm\n",
    "        #         print(\"inputs:\", x.shape, y.shape)\n",
    "        \n",
    "        # Forward pass\n",
    "        # start with the convolution layer forward\n",
    "        h1_in, h1_cache = conv_forward(X=x, W=w1, b=b1, stride=1, padding=1)\n",
    "        h1_out = h1_in * 1 # activation func. = LU\n",
    "        #h1_out = np.maximum(h1_in, 0) # ReLU for avoiding the very high ERROR in classification\n",
    "        #         print(\"Convolution layer:\", h1_out)\n",
    "\n",
    "        # Connect the flattened layer to the output layer/visible layer FC layer\n",
    "        h1_fc = h1_out.reshape(1, -1)\n",
    "        # initializing w2 knowing the size/given the size of fc layer\n",
    "        if t==0: w2 = (1/h1_fc.shape[1]) * np.resize(a=w2, new_shape=(h1_fc.shape[1], y.shape[1])) # mat_hxm # initialization\n",
    "        out = h1_fc @ w2 + b2\n",
    "        y_prob = softmax(X=out) # can also be sigmoid/logistic function/Bayesina/ NBC\n",
    "        #         print(\"Output layer: \", out, y_prob, y)\n",
    "\n",
    "        # Mean Square Error: Calculate the error one by one sample from the batch -- Euclidean distance\n",
    "        err += 0.5 * (1/ batch_size) * np.sum((y_prob - y)**2) # convex surface ax2+b\n",
    "        dy = (1/ batch_size) * (y_prob - y) # convex surface this way # ignoring the constant coefficies\n",
    "        #         print(\"error:\", dy, err)\n",
    "        \n",
    "        #         # Mean Cross Entropy Error: np.log is np.log(exp(x))=x equals to ln in math\n",
    "        #         err += (1/batch_size) * -(np.sum(y* np.log(y_prob))) \n",
    "        #         dy = (1/batch_size) * -(y/ y_prob) # y_prop= 0-1, log(y_prob)==-inf-0\n",
    "        #         #         print(\"Error:\", dy, err)\n",
    "\n",
    "        # Backward pass\n",
    "        # output layer gradient\n",
    "        dout = dy @ dsoftmax(X=out, sX=y_prob).T\n",
    "        if t==0: dw2 = np.resize(a=dw2, new_shape=w2.shape)\n",
    "        dw2 += h1_fc.T @ dout # mat_hx1 @ mat_1xm = mat_hxm\n",
    "        db2 += dout # mat_1xm\n",
    "        dh1_fc = dout @ w2.T # mat_1xm @ mat_mxh\n",
    "\n",
    "        # convolution layer back\n",
    "        dh1_out = dh1_fc.reshape(h1_out.shape)\n",
    "        #         dh1[h1_out<=0] = 0 #drelu\n",
    "        dh1 = dh1_out * 1 # derivative of the LU in bwd pass/prop\n",
    "        dX_conv, dW_conv, db_conv = conv_backward(cache=h1_cache, dout=dh1)\n",
    "        dw1 += dW_conv\n",
    "        db1 += db_conv\n",
    "\n",
    "    # Updating the params in the model/cnn in ech epoch \n",
    "    w1 -= dw1\n",
    "    b1 -= db1\n",
    "    w2 -= dw2\n",
    "    b2 -= db2\n",
    "\n",
    "    # displaying the total error and accuracy\n",
    "    print(\"Epoch:\", epoch, \"Error:\", err)\n",
    "    error_list.append(err)\n",
    "\n",
    "# Ploting the error list for the learning rate\n",
    "\n",
    "plot.plot(error_list)"
   ]
  },
  {
   "cell_type": "code",
   "execution_count": 82,
   "metadata": {
    "collapsed": true
   },
   "outputs": [],
   "source": [
    "error_list_MCE = error_list"
   ]
  },
  {
   "cell_type": "code",
   "execution_count": 83,
   "metadata": {},
   "outputs": [
    {
     "data": {
      "text/plain": [
       "[<matplotlib.lines.Line2D at 0x11bb93780>]"
      ]
     },
     "execution_count": 83,
     "metadata": {},
     "output_type": "execute_result"
    },
    {
     "data": {
      "image/png": "[encoded data removed]",
      "text/plain": [
       "<matplotlib.figure.Figure at 0x115649358>"
      ]
     },
     "metadata": {
      "image/png": {
       "height": 250,
       "width": 392
      }
     },
     "output_type": "display_data"
    }
   ],
   "source": [
    "plot.plot(error_list_MCE)"
   ]
  },
  {
   "cell_type": "code",
   "execution_count": 85,
   "metadata": {
    "collapsed": true
   },
   "outputs": [],
   "source": [
    "error_list_MSE = error_list"
   ]
  },
  {
   "cell_type": "code",
   "execution_count": 86,
   "metadata": {},
   "outputs": [
    {
     "data": {
      "text/plain": [
       "[<matplotlib.lines.Line2D at 0x115a9ef98>]"
      ]
     },
     "execution_count": 86,
     "metadata": {},
     "output_type": "execute_result"
    },
    {
     "data": {
      "image/png": "[encoded data removed]",
      "text/plain": [
       "<matplotlib.figure.Figure at 0x11519fcf8>"
      ]
     },
     "metadata": {
      "image/png": {
       "height": 258,
       "width": 414
      }
     },
     "output_type": "display_data"
    }
   ],
   "source": [
    "plot.plot(error_list_MSE)"
   ]
  },
  {
   "cell_type": "code",
   "execution_count": null,
   "metadata": {
    "collapsed": true
   },
   "outputs": [],
   "source": []
  }
 ],
 "metadata": {
  "kernelspec": {
   "display_name": "Python 3",
   "language": "python",
   "name": "python3"
  },
  "language_info": {
   "codemirror_mode": {
    "name": "ipython",
    "version": 3
   },
   "file_extension": ".py",
   "mimetype": "text/x-python",
   "name": "python",
   "nbconvert_exporter": "python",
   "pygments_lexer": "ipython3",
   "version": "3.5.3"
  }
 },
 "nbformat": 4,
 "nbformat_minor": 1
}
