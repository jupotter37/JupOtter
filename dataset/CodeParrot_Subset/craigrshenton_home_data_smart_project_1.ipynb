{
 "cells": [
  {
   "cell_type": "markdown",
   "metadata": {},
   "source": [
    "#"
   ]
  },
  {
   "cell_type": "markdown",
   "metadata": {},
   "source": [
    "## 1. Prepare Problem\n",
    "#### a) Load libraries"
   ]
  },
  {
   "cell_type": "code",
   "execution_count": 86,
   "metadata": {
    "collapsed": true
   },
   "outputs": [],
   "source": [
    "import pandas as pd\n",
    "import numpy as np\n",
    "from pandas.tools.plotting import scatter_matrix\n",
    "from matplotlib import pyplot as plt\n",
    "from sklearn.model_selection import train_test_split\n",
    "from sklearn.model_selection import KFold\n",
    "from sklearn.model_selection import cross_val_score\n",
    "from sklearn.metrics import classification_report\n",
    "from sklearn.metrics import confusion_matrix\n",
    "from sklearn.metrics import accuracy_score\n",
    "from sklearn.linear_model import LogisticRegression\n",
    "from sklearn.tree import DecisionTreeClassifier\n",
    "from sklearn.neighbors import KNeighborsClassifier\n",
    "from sklearn.discriminant_analysis import LinearDiscriminantAnalysis\n",
    "from sklearn.naive_bayes import GaussianNB\n",
    "from sklearn.svm import SVC\n",
    "from sklearn import metrics"
   ]
  },
  {
   "cell_type": "markdown",
   "metadata": {},
   "source": [
    "#### b) Load dataset\n",
    "\n",
    "Download customer account data from [Wiley's website](http://media.wiley.com/product_ancillary/6X/11186614/DOWNLOAD/ch06.zip), RetailMart.xlsx"
   ]
  },
  {
   "cell_type": "code",
   "execution_count": 17,
   "metadata": {
    "collapsed": false
   },
   "outputs": [],
   "source": [
    "# find path to your RetailMart.xlsx\n",
    "dataset = pd.read_excel(open('C:/Users/craigrshenton/Desktop/Dropbox/excel_data_sci/ch06/RetailMart.xlsx','rb'), sheetname=0)\n",
    "dataset = dataset.drop('Unnamed: 17', 1) # drop empty col\n",
    "dataset.rename(columns={'PREGNANT':'Pregnant'}, inplace=True)\n",
    "dataset.rename(columns={'Home/Apt/ PO Box':'Residency'}, inplace=True) # add simpler col name\n",
    "dataset.columns = [x.strip().replace(' ', '_') for x in dataset.columns] # python does not like spaces in var names"
   ]
  },
  {
   "cell_type": "markdown",
   "metadata": {},
   "source": [
    "The 'Pregnant' column can only take on one of two (in this case) possabilities. Here 1 = pregnant, and 0 = not pregnant"
   ]
  },
  {
   "cell_type": "markdown",
   "metadata": {},
   "source": [
    "##  2. Summarize Data\n",
    "#### a) Descriptive statistics"
   ]
  },
  {
   "cell_type": "code",
   "execution_count": 18,
   "metadata": {
    "collapsed": false
   },
   "outputs": [
    {
     "name": "stdout",
     "output_type": "stream",
     "text": [
      "(1000, 18)\n"
     ]
    }
   ],
   "source": [
    "# shape\n",
    "print(dataset.shape)"
   ]
  },
  {
   "cell_type": "code",
   "execution_count": 36,
   "metadata": {
    "collapsed": false
   },
   "outputs": [
    {
     "name": "stdout",
     "output_type": "stream",
     "text": [
      "Gender_M                  uint8\n",
      "Gender_U                  uint8\n",
      "Resident_H                uint8\n",
      "Resident_P                uint8\n",
      "Pregnancy_Test            int64\n",
      "Birth_Control             int64\n",
      "Feminine_Hygiene          int64\n",
      "Folic_Acid                int64\n",
      "Prenatal_Vitamins         int64\n",
      "Prenatal_Yoga             int64\n",
      "Body_Pillow               int64\n",
      "Ginger_Ale                int64\n",
      "Sea_Bands                 int64\n",
      "Stopped_buying_ciggies    int64\n",
      "Cigarettes                int64\n",
      "Smoking_Cessation         int64\n",
      "Stopped_buying_wine       int64\n",
      "Wine                      int64\n",
      "Maternity_Clothes         int64\n",
      "Pregnant                  int64\n",
      "dtype: object\n"
     ]
    }
   ],
   "source": [
    "# types\n",
    "print(dataset.dtypes)"
   ]
  },
  {
   "cell_type": "code",
   "execution_count": 19,
   "metadata": {
    "collapsed": false
   },
   "outputs": [
    {
     "data": {
      "text/html": [
       "<div>\n",
       "<table border=\"1\" class=\"dataframe\">\n",
       "  <thead>\n",
       "    <tr style=\"text-align: right;\">\n",
       "      <th></th>\n",
       "      <th>Implied_Gender</th>\n",
       "      <th>Residency</th>\n",
       "      <th>Pregnancy_Test</th>\n",
       "      <th>Birth_Control</th>\n",
       "      <th>Feminine_Hygiene</th>\n",
       "      <th>Folic_Acid</th>\n",
       "      <th>Prenatal_Vitamins</th>\n",
       "      <th>Prenatal_Yoga</th>\n",
       "      <th>Body_Pillow</th>\n",
       "      <th>Ginger_Ale</th>\n",
       "      <th>Sea_Bands</th>\n",
       "      <th>Stopped_buying_ciggies</th>\n",
       "      <th>Cigarettes</th>\n",
       "      <th>Smoking_Cessation</th>\n",
       "      <th>Stopped_buying_wine</th>\n",
       "      <th>Wine</th>\n",
       "      <th>Maternity_Clothes</th>\n",
       "      <th>Pregnant</th>\n",
       "    </tr>\n",
       "  </thead>\n",
       "  <tbody>\n",
       "    <tr>\n",
       "      <th>0</th>\n",
       "      <td>M</td>\n",
       "      <td>A</td>\n",
       "      <td>1</td>\n",
       "      <td>0</td>\n",
       "      <td>0</td>\n",
       "      <td>0</td>\n",
       "      <td>1</td>\n",
       "      <td>0</td>\n",
       "      <td>0</td>\n",
       "      <td>0</td>\n",
       "      <td>0</td>\n",
       "      <td>0</td>\n",
       "      <td>0</td>\n",
       "      <td>0</td>\n",
       "      <td>0</td>\n",
       "      <td>0</td>\n",
       "      <td>0</td>\n",
       "      <td>1</td>\n",
       "    </tr>\n",
       "    <tr>\n",
       "      <th>1</th>\n",
       "      <td>M</td>\n",
       "      <td>H</td>\n",
       "      <td>1</td>\n",
       "      <td>0</td>\n",
       "      <td>0</td>\n",
       "      <td>0</td>\n",
       "      <td>1</td>\n",
       "      <td>0</td>\n",
       "      <td>0</td>\n",
       "      <td>0</td>\n",
       "      <td>0</td>\n",
       "      <td>0</td>\n",
       "      <td>0</td>\n",
       "      <td>0</td>\n",
       "      <td>0</td>\n",
       "      <td>0</td>\n",
       "      <td>0</td>\n",
       "      <td>1</td>\n",
       "    </tr>\n",
       "    <tr>\n",
       "      <th>2</th>\n",
       "      <td>M</td>\n",
       "      <td>H</td>\n",
       "      <td>1</td>\n",
       "      <td>0</td>\n",
       "      <td>0</td>\n",
       "      <td>0</td>\n",
       "      <td>0</td>\n",
       "      <td>0</td>\n",
       "      <td>0</td>\n",
       "      <td>0</td>\n",
       "      <td>1</td>\n",
       "      <td>0</td>\n",
       "      <td>0</td>\n",
       "      <td>0</td>\n",
       "      <td>0</td>\n",
       "      <td>0</td>\n",
       "      <td>0</td>\n",
       "      <td>1</td>\n",
       "    </tr>\n",
       "    <tr>\n",
       "      <th>3</th>\n",
       "      <td>U</td>\n",
       "      <td>H</td>\n",
       "      <td>0</td>\n",
       "      <td>0</td>\n",
       "      <td>0</td>\n",
       "      <td>0</td>\n",
       "      <td>0</td>\n",
       "      <td>0</td>\n",
       "      <td>0</td>\n",
       "      <td>1</td>\n",
       "      <td>0</td>\n",
       "      <td>0</td>\n",
       "      <td>0</td>\n",
       "      <td>0</td>\n",
       "      <td>0</td>\n",
       "      <td>0</td>\n",
       "      <td>0</td>\n",
       "      <td>1</td>\n",
       "    </tr>\n",
       "    <tr>\n",
       "      <th>4</th>\n",
       "      <td>F</td>\n",
       "      <td>A</td>\n",
       "      <td>0</td>\n",
       "      <td>0</td>\n",
       "      <td>0</td>\n",
       "      <td>0</td>\n",
       "      <td>0</td>\n",
       "      <td>1</td>\n",
       "      <td>0</td>\n",
       "      <td>0</td>\n",
       "      <td>0</td>\n",
       "      <td>0</td>\n",
       "      <td>0</td>\n",
       "      <td>0</td>\n",
       "      <td>1</td>\n",
       "      <td>0</td>\n",
       "      <td>0</td>\n",
       "      <td>1</td>\n",
       "    </tr>\n",
       "  </tbody>\n",
       "</table>\n",
       "</div>"
      ],
      "text/plain": [
       "  Implied_Gender Residency  Pregnancy_Test  Birth_Control  Feminine_Hygiene  \\\n",
       "0              M         A               1              0                 0   \n",
       "1              M         H               1              0                 0   \n",
       "2              M         H               1              0                 0   \n",
       "3              U         H               0              0                 0   \n",
       "4              F         A               0              0                 0   \n",
       "\n",
       "   Folic_Acid  Prenatal_Vitamins  Prenatal_Yoga  Body_Pillow  Ginger_Ale  \\\n",
       "0           0                  1              0            0           0   \n",
       "1           0                  1              0            0           0   \n",
       "2           0                  0              0            0           0   \n",
       "3           0                  0              0            0           1   \n",
       "4           0                  0              1            0           0   \n",
       "\n",
       "   Sea_Bands  Stopped_buying_ciggies  Cigarettes  Smoking_Cessation  \\\n",
       "0          0                       0           0                  0   \n",
       "1          0                       0           0                  0   \n",
       "2          1                       0           0                  0   \n",
       "3          0                       0           0                  0   \n",
       "4          0                       0           0                  0   \n",
       "\n",
       "   Stopped_buying_wine  Wine  Maternity_Clothes  Pregnant  \n",
       "0                    0     0                  0         1  \n",
       "1                    0     0                  0         1  \n",
       "2                    0     0                  0         1  \n",
       "3                    0     0                  0         1  \n",
       "4                    1     0                  0         1  "
      ]
     },
     "execution_count": 19,
     "metadata": {},
     "output_type": "execute_result"
    }
   ],
   "source": [
    "# head\n",
    "dataset.head()"
   ]
  },
  {
   "cell_type": "code",
   "execution_count": 20,
   "metadata": {
    "collapsed": false
   },
   "outputs": [
    {
     "name": "stdout",
     "output_type": "stream",
     "text": [
      "Implied_Gender\n",
      "F    495\n",
      "M    401\n",
      "U    104\n",
      "dtype: int64\n"
     ]
    }
   ],
   "source": [
    "# feature distribution\n",
    "print(dataset.groupby('Implied_Gender').size())"
   ]
  },
  {
   "cell_type": "code",
   "execution_count": 21,
   "metadata": {
    "collapsed": false
   },
   "outputs": [
    {
     "name": "stdout",
     "output_type": "stream",
     "text": [
      "Pregnant\n",
      "0    500\n",
      "1    500\n",
      "dtype: int64\n"
     ]
    }
   ],
   "source": [
    "# target distribution\n",
    "print(dataset.groupby('Pregnant').size())"
   ]
  },
  {
   "cell_type": "code",
   "execution_count": 82,
   "metadata": {
    "collapsed": false
   },
   "outputs": [
    {
     "data": {
      "text/plain": [
       "(array([], dtype=int64), array([], dtype=int64))"
      ]
     },
     "execution_count": 82,
     "metadata": {},
     "output_type": "execute_result"
    }
   ],
   "source": [
    "# correlation\n",
    "r = dataset.corr(method='pearson')\n",
    "id_matrix = np.identity(r.shape[0]) # create identity matrix\n",
    "r = r-id_matrix # remove same-feature correlations\n",
    "np.where( r > 0.7 )"
   ]
  },
  {
   "cell_type": "markdown",
   "metadata": {},
   "source": [
    "We can see no features with significant correlation coefficents (i.e., $r$ values > 0.7)"
   ]
  },
  {
   "cell_type": "markdown",
   "metadata": {},
   "source": [
    "## 3. Prepare Data\n",
    "#### a) Data Transforms\n",
    "\n",
    "We need to 'dummify' (i.e., separate out) the catagorical variables: implied gender and residency"
   ]
  },
  {
   "cell_type": "code",
   "execution_count": 22,
   "metadata": {
    "collapsed": false
   },
   "outputs": [
    {
     "name": "stdout",
     "output_type": "stream",
     "text": [
      "   Gender_F  Gender_M  Gender_U\n",
      "0         0         1         0\n",
      "1         0         1         0\n",
      "2         0         1         0\n",
      "3         0         0         1\n",
      "4         1         0         0\n"
     ]
    }
   ],
   "source": [
    "# dummify gender variable\n",
    "dummy_gender = pd.get_dummies(dataset['Implied_Gender'], prefix='Gender')\n",
    "print(dummy_gender.head())"
   ]
  },
  {
   "cell_type": "code",
   "execution_count": 23,
   "metadata": {
    "collapsed": false
   },
   "outputs": [
    {
     "name": "stdout",
     "output_type": "stream",
     "text": [
      "   Resident_A  Resident_H  Resident_P\n",
      "0           1           0           0\n",
      "1           0           1           0\n",
      "2           0           1           0\n",
      "3           0           1           0\n",
      "4           1           0           0\n"
     ]
    }
   ],
   "source": [
    "# dummify residency variable\n",
    "dummy_resident = pd.get_dummies(dataset['Residency'], prefix='Resident')\n",
    "print(dummy_resident.head())"
   ]
  },
  {
   "cell_type": "code",
   "execution_count": 24,
   "metadata": {
    "collapsed": false
   },
   "outputs": [
    {
     "data": {
      "text/html": [
       "<div>\n",
       "<table border=\"1\" class=\"dataframe\">\n",
       "  <thead>\n",
       "    <tr style=\"text-align: right;\">\n",
       "      <th></th>\n",
       "      <th>Gender_M</th>\n",
       "      <th>Gender_U</th>\n",
       "      <th>Resident_H</th>\n",
       "      <th>Resident_P</th>\n",
       "      <th>Pregnancy_Test</th>\n",
       "      <th>Birth_Control</th>\n",
       "      <th>Feminine_Hygiene</th>\n",
       "      <th>Folic_Acid</th>\n",
       "      <th>Prenatal_Vitamins</th>\n",
       "      <th>Prenatal_Yoga</th>\n",
       "      <th>Body_Pillow</th>\n",
       "      <th>Ginger_Ale</th>\n",
       "      <th>Sea_Bands</th>\n",
       "      <th>Stopped_buying_ciggies</th>\n",
       "      <th>Cigarettes</th>\n",
       "      <th>Smoking_Cessation</th>\n",
       "      <th>Stopped_buying_wine</th>\n",
       "      <th>Wine</th>\n",
       "      <th>Maternity_Clothes</th>\n",
       "      <th>Pregnant</th>\n",
       "    </tr>\n",
       "  </thead>\n",
       "  <tbody>\n",
       "    <tr>\n",
       "      <th>0</th>\n",
       "      <td>1</td>\n",
       "      <td>0</td>\n",
       "      <td>0</td>\n",
       "      <td>0</td>\n",
       "      <td>1</td>\n",
       "      <td>0</td>\n",
       "      <td>0</td>\n",
       "      <td>0</td>\n",
       "      <td>1</td>\n",
       "      <td>0</td>\n",
       "      <td>0</td>\n",
       "      <td>0</td>\n",
       "      <td>0</td>\n",
       "      <td>0</td>\n",
       "      <td>0</td>\n",
       "      <td>0</td>\n",
       "      <td>0</td>\n",
       "      <td>0</td>\n",
       "      <td>0</td>\n",
       "      <td>1</td>\n",
       "    </tr>\n",
       "    <tr>\n",
       "      <th>1</th>\n",
       "      <td>1</td>\n",
       "      <td>0</td>\n",
       "      <td>1</td>\n",
       "      <td>0</td>\n",
       "      <td>1</td>\n",
       "      <td>0</td>\n",
       "      <td>0</td>\n",
       "      <td>0</td>\n",
       "      <td>1</td>\n",
       "      <td>0</td>\n",
       "      <td>0</td>\n",
       "      <td>0</td>\n",
       "      <td>0</td>\n",
       "      <td>0</td>\n",
       "      <td>0</td>\n",
       "      <td>0</td>\n",
       "      <td>0</td>\n",
       "      <td>0</td>\n",
       "      <td>0</td>\n",
       "      <td>1</td>\n",
       "    </tr>\n",
       "    <tr>\n",
       "      <th>2</th>\n",
       "      <td>1</td>\n",
       "      <td>0</td>\n",
       "      <td>1</td>\n",
       "      <td>0</td>\n",
       "      <td>1</td>\n",
       "      <td>0</td>\n",
       "      <td>0</td>\n",
       "      <td>0</td>\n",
       "      <td>0</td>\n",
       "      <td>0</td>\n",
       "      <td>0</td>\n",
       "      <td>0</td>\n",
       "      <td>1</td>\n",
       "      <td>0</td>\n",
       "      <td>0</td>\n",
       "      <td>0</td>\n",
       "      <td>0</td>\n",
       "      <td>0</td>\n",
       "      <td>0</td>\n",
       "      <td>1</td>\n",
       "    </tr>\n",
       "    <tr>\n",
       "      <th>3</th>\n",
       "      <td>0</td>\n",
       "      <td>1</td>\n",
       "      <td>1</td>\n",
       "      <td>0</td>\n",
       "      <td>0</td>\n",
       "      <td>0</td>\n",
       "      <td>0</td>\n",
       "      <td>0</td>\n",
       "      <td>0</td>\n",
       "      <td>0</td>\n",
       "      <td>0</td>\n",
       "      <td>1</td>\n",
       "      <td>0</td>\n",
       "      <td>0</td>\n",
       "      <td>0</td>\n",
       "      <td>0</td>\n",
       "      <td>0</td>\n",
       "      <td>0</td>\n",
       "      <td>0</td>\n",
       "      <td>1</td>\n",
       "    </tr>\n",
       "    <tr>\n",
       "      <th>4</th>\n",
       "      <td>0</td>\n",
       "      <td>0</td>\n",
       "      <td>0</td>\n",
       "      <td>0</td>\n",
       "      <td>0</td>\n",
       "      <td>0</td>\n",
       "      <td>0</td>\n",
       "      <td>0</td>\n",
       "      <td>0</td>\n",
       "      <td>1</td>\n",
       "      <td>0</td>\n",
       "      <td>0</td>\n",
       "      <td>0</td>\n",
       "      <td>0</td>\n",
       "      <td>0</td>\n",
       "      <td>0</td>\n",
       "      <td>1</td>\n",
       "      <td>0</td>\n",
       "      <td>0</td>\n",
       "      <td>1</td>\n",
       "    </tr>\n",
       "  </tbody>\n",
       "</table>\n",
       "</div>"
      ],
      "text/plain": [
       "   Gender_M  Gender_U  Resident_H  Resident_P  Pregnancy_Test  Birth_Control  \\\n",
       "0         1         0           0           0               1              0   \n",
       "1         1         0           1           0               1              0   \n",
       "2         1         0           1           0               1              0   \n",
       "3         0         1           1           0               0              0   \n",
       "4         0         0           0           0               0              0   \n",
       "\n",
       "   Feminine_Hygiene  Folic_Acid  Prenatal_Vitamins  Prenatal_Yoga  \\\n",
       "0                 0           0                  1              0   \n",
       "1                 0           0                  1              0   \n",
       "2                 0           0                  0              0   \n",
       "3                 0           0                  0              0   \n",
       "4                 0           0                  0              1   \n",
       "\n",
       "   Body_Pillow  Ginger_Ale  Sea_Bands  Stopped_buying_ciggies  Cigarettes  \\\n",
       "0            0           0          0                       0           0   \n",
       "1            0           0          0                       0           0   \n",
       "2            0           0          1                       0           0   \n",
       "3            0           1          0                       0           0   \n",
       "4            0           0          0                       0           0   \n",
       "\n",
       "   Smoking_Cessation  Stopped_buying_wine  Wine  Maternity_Clothes  Pregnant  \n",
       "0                  0                    0     0                  0         1  \n",
       "1                  0                    0     0                  0         1  \n",
       "2                  0                    0     0                  0         1  \n",
       "3                  0                    0     0                  0         1  \n",
       "4                  0                    1     0                  0         1  "
      ]
     },
     "execution_count": 24,
     "metadata": {},
     "output_type": "execute_result"
    }
   ],
   "source": [
    "# Drop catagorical variables\n",
    "dataset = dataset.drop('Implied_Gender', 1)\n",
    "dataset = dataset.drop('Residency', 1)\n",
    "\n",
    "# Add dummy variables\n",
    "dataset = pd.concat([dummy_gender.ix[:, 'Gender_M':],dummy_resident.ix[:, 'Resident_H':],dataset], axis=1)\n",
    "dataset.head()"
   ]
  },
  {
   "cell_type": "code",
   "execution_count": 31,
   "metadata": {
    "collapsed": false
   },
   "outputs": [],
   "source": [
    "# Make clean dataframe for regression model\n",
    "array = dataset.values\n",
    "n_features = len(array[0]) \n",
    "X = array[:,0:n_features-1] # features\n",
    "y = array[:,n_features-1] # target"
   ]
  },
  {
   "cell_type": "markdown",
   "metadata": {},
   "source": [
    "## 4. Evaluate Algorithms\n",
    "#### a) Split-out validation dataset"
   ]
  },
  {
   "cell_type": "code",
   "execution_count": 32,
   "metadata": {
    "collapsed": true
   },
   "outputs": [],
   "source": [
    "# Split-out validation dataset\n",
    "validation_size = 0.20\n",
    "seed = 7\n",
    "X_train, X_validation, Y_train, Y_validation = train_test_split(X, y,\n",
    "test_size=validation_size, random_state=seed)"
   ]
  },
  {
   "cell_type": "markdown",
   "metadata": {},
   "source": [
    "#### b) Spot Check Algorithms"
   ]
  },
  {
   "cell_type": "code",
   "execution_count": 33,
   "metadata": {
    "collapsed": false
   },
   "outputs": [
    {
     "name": "stdout",
     "output_type": "stream",
     "text": [
      "LR: 0.826250 (0.049513)\n",
      "LDA: 0.832500 (0.049749)\n",
      "KNN: 0.757500 (0.044088)\n",
      "CART: 0.778750 (0.035816)\n",
      "NB: 0.810000 (0.061186)\n",
      "SVM: 0.831250 (0.048170)\n"
     ]
    }
   ],
   "source": [
    "# Spot-Check Algorithms\n",
    "models = []\n",
    "models.append(('LR', LogisticRegression()))\n",
    "models.append(('LDA', LinearDiscriminantAnalysis()))\n",
    "models.append(('KNN', KNeighborsClassifier()))\n",
    "models.append(('CART', DecisionTreeClassifier()))\n",
    "models.append(('NB', GaussianNB()))\n",
    "models.append(('SVM', SVC()))\n",
    "\n",
    "# evaluate each model in turn\n",
    "results = []\n",
    "names = []\n",
    "for name, model in models:\n",
    "    kfold = KFold(n_splits=10, random_state=seed)\n",
    "    cv_results = cross_val_score(model, X_train, Y_train, cv=kfold, scoring='accuracy')\n",
    "    results.append(cv_results)\n",
    "    names.append(name)\n",
    "    msg = \"%s: %f (%f)\" % (name, cv_results.mean(), cv_results.std())\n",
    "    print(msg)"
   ]
  },
  {
   "cell_type": "markdown",
   "metadata": {},
   "source": [
    "#### c) Select The Best Model"
   ]
  },
  {
   "cell_type": "code",
   "execution_count": 34,
   "metadata": {
    "collapsed": false
   },
   "outputs": [
    {
     "data": {
      "image/png": "[encoded data removed]",
      "text/plain": [
       "<matplotlib.figure.Figure at 0x2ba232a7fd0>"
      ]
     },
     "metadata": {},
     "output_type": "display_data"
    }
   ],
   "source": [
    "# Compare Algorithms\n",
    "fig = plt.figure()\n",
    "fig.suptitle('Algorithm Comparison')\n",
    "ax = fig.add_subplot(111)\n",
    "plt.boxplot(results)\n",
    "ax.set_xticklabels(names)\n",
    "plt.show()"
   ]
  },
  {
   "cell_type": "markdown",
   "metadata": {},
   "source": [
    "## 5. Make predictions on validation dataset\n",
    "\n",
    "Linear Discriminant Analysis is just about the most accurate model. Now test the accuracy of the model on the validation dataset."
   ]
  },
  {
   "cell_type": "code",
   "execution_count": 83,
   "metadata": {
    "collapsed": false
   },
   "outputs": [
    {
     "name": "stdout",
     "output_type": "stream",
     "text": [
      "0.79\n",
      "[[95 11]\n",
      " [31 63]]\n",
      "             precision    recall  f1-score   support\n",
      "\n",
      "          0       0.75      0.90      0.82       106\n",
      "          1       0.85      0.67      0.75        94\n",
      "\n",
      "avg / total       0.80      0.79      0.79       200\n",
      "\n"
     ]
    }
   ],
   "source": [
    "lda = LinearDiscriminantAnalysis()\n",
    "lda.fit(X_train, Y_train)\n",
    "predictions = lda.predict(X_validation)\n",
    "print(accuracy_score(Y_validation, predictions))\n",
    "print(confusion_matrix(Y_validation, predictions))\n",
    "print(classification_report(Y_validation, predictions))"
   ]
  },
  {
   "cell_type": "code",
   "execution_count": 91,
   "metadata": {
    "collapsed": false
   },
   "outputs": [
    {
     "data": {
      "image/png": "[encoded data removed]",
      "text/plain": [
       "<matplotlib.figure.Figure at 0x2ba2345b9e8>"
      ]
     },
     "metadata": {},
     "output_type": "display_data"
    }
   ],
   "source": [
    "# predict probability of survival\n",
    "y_pred_prob = lda.predict_proba(X_validation)[:, 1]\n",
    "\n",
    "# plot ROC curve\n",
    "fpr, tpr, thresholds = metrics.roc_curve(Y_validation, y_pred_prob)\n",
    "plt.plot(fpr, tpr)\n",
    "plt.plot([0, 1], [0, 1], color='navy', linestyle='--')\n",
    "plt.xlim([-0.05, 1.0])\n",
    "plt.ylim([0.0, 1.05])\n",
    "plt.gca().set_aspect('equal', adjustable='box')\n",
    "plt.xlabel('False Positive Rate (1 - Specificity)')\n",
    "plt.ylabel('True Positive Rate (Sensitivity)')\n",
    "plt.show()"
   ]
  },
  {
   "cell_type": "code",
   "execution_count": 89,
   "metadata": {
    "collapsed": false
   },
   "outputs": [
    {
     "name": "stdout",
     "output_type": "stream",
     "text": [
      "0.870784825371\n"
     ]
    }
   ],
   "source": [
    "# calculate AUC\n",
    "print(metrics.roc_auc_score(Y_validation, y_pred_prob))"
   ]
  },
  {
   "cell_type": "code",
   "execution_count": null,
   "metadata": {
    "collapsed": true
   },
   "outputs": [],
   "source": []
  }
 ],
 "metadata": {
  "anaconda-cloud": {},
  "kernelspec": {
   "display_name": "Python [conda root]",
   "language": "python",
   "name": "conda-root-py"
  },
  "language_info": {
   "codemirror_mode": {
    "name": "ipython",
    "version": 3
   },
   "file_extension": ".py",
   "mimetype": "text/x-python",
   "name": "python",
   "nbconvert_exporter": "python",
   "pygments_lexer": "ipython3",
   "version": "3.5.2"
  }
 },
 "nbformat": 4,
 "nbformat_minor": 1
}
