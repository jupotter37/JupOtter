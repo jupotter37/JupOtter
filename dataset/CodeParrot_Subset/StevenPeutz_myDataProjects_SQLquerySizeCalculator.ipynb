{
  "cells": [
    {
      "metadata": {
        "_uuid": "329fd2edb2c3f8594612645c31d1770ac0f2d297"
      },
      "cell_type": "markdown",
      "source": "Kaggle works great with Google Big Query. Especially when using the 'bq_helper' package (python). <br>\n*// Credits and a big thanks to Rachael Tatman e.a. *<br>\n\nHowever, there is a caveat. There is a 5TB query limit. This refers to the scanning of the dataset not the size of the 'response'.\n\n**This kernel uses the openAQ dataset and the bq_helper package (python) to demonstrate how to see the 'scan' size of your SQL query before actually sending it.**"
    },
    {
      "metadata": {
        "_cell_guid": "79c7e3d0-c299-4dcb-8224-4455121ee9b0",
        "collapsed": true,
        "_uuid": "d629ff2d2480ee46fbb7e2d37f6b5fab8052498a",
        "trusted": true
      },
      "cell_type": "code",
      "source": "# import the python helper package for bigqueey (thank you Rachael Tatman e.a.)\nimport bq_helper",
      "execution_count": 47,
      "outputs": []
    },
    {
      "metadata": {
        "trusted": true,
        "collapsed": true,
        "_uuid": "5b97b40955cadc7e0a9bc09001e1403c51e8492d"
      },
      "cell_type": "code",
      "source": "# create the helper object\nopen_aq = bq_helper.BigQueryHelper(active_project=\"bigquery-public-data\", dataset_name=\"openaq\")",
      "execution_count": 48,
      "outputs": []
    },
    {
      "metadata": {
        "trusted": true,
        "_uuid": "df36ddc23f61ba7db9492c389b0e6b456c5796ed"
      },
      "cell_type": "code",
      "source": "#print the tables in the dataset to check everthing went ok so far\nopen_aq.list_tables()",
      "execution_count": 49,
      "outputs": [
        {
          "output_type": "execute_result",
          "execution_count": 49,
          "data": {
            "text/plain": "['global_air_quality']"
          },
          "metadata": {}
        }
      ]
    },
    {
      "metadata": {
        "trusted": true,
        "_uuid": "738a2d8c27657e876f76d62e9a8354c4e6230d9a"
      },
      "cell_type": "code",
      "source": "# print the first couple of rows to look at the structure of the dataset\n# not this is somewhat different from the usual way with dataframes; datafram_name.head(number_of_rows_to_show) ...\n# you can still only show e.g. 3 rows by tpying: open_aq.head(\"global_air_quality\", num_rows=3)\nopen_aq.head(\"global_air_quality\")",
      "execution_count": 50,
      "outputs": [
        {
          "output_type": "execute_result",
          "execution_count": 50,
          "data": {
            "text/plain": "             location          ...           averaged_over_in_hours\n0     Mobile_Cle Elum          ...                              1.0\n1  Mobile_WhiteSalmon          ...                              1.0\n2      Mobile_Newport          ...                              1.0\n3             FR33305          ...                              1.0\n4             FR33305          ...                              1.0\n\n[5 rows x 11 columns]",
            "text/html": "<div>\n<style scoped>\n    .dataframe tbody tr th:only-of-type {\n        vertical-align: middle;\n    }\n\n    .dataframe tbody tr th {\n        vertical-align: top;\n    }\n\n    .dataframe thead th {\n        text-align: right;\n    }\n</style>\n<table border=\"1\" class=\"dataframe\">\n  <thead>\n    <tr style=\"text-align: right;\">\n      <th></th>\n      <th>location</th>\n      <th>city</th>\n      <th>country</th>\n      <th>pollutant</th>\n      <th>value</th>\n      <th>timestamp</th>\n      <th>unit</th>\n      <th>source_name</th>\n      <th>latitude</th>\n      <th>longitude</th>\n      <th>averaged_over_in_hours</th>\n    </tr>\n  </thead>\n  <tbody>\n    <tr>\n      <th>0</th>\n      <td>Mobile_Cle Elum</td>\n      <td>037</td>\n      <td>US</td>\n      <td>pm25</td>\n      <td>0.00</td>\n      <td>2017-09-26 20:00:00+00:00</td>\n      <td>µg/m³</td>\n      <td>AirNow</td>\n      <td>47.197630</td>\n      <td>-120.958230</td>\n      <td>1.0</td>\n    </tr>\n    <tr>\n      <th>1</th>\n      <td>Mobile_WhiteSalmon</td>\n      <td>039</td>\n      <td>US</td>\n      <td>pm25</td>\n      <td>0.00</td>\n      <td>2017-09-26 20:00:00+00:00</td>\n      <td>µg/m³</td>\n      <td>AirNow</td>\n      <td>45.732414</td>\n      <td>-121.492330</td>\n      <td>1.0</td>\n    </tr>\n    <tr>\n      <th>2</th>\n      <td>Mobile_Newport</td>\n      <td>051</td>\n      <td>US</td>\n      <td>pm25</td>\n      <td>0.00</td>\n      <td>2017-09-21 18:00:00+00:00</td>\n      <td>µg/m³</td>\n      <td>AirNow</td>\n      <td>48.186485</td>\n      <td>-117.049160</td>\n      <td>1.0</td>\n    </tr>\n    <tr>\n      <th>3</th>\n      <td>FR33305</td>\n      <td>Ain</td>\n      <td>FR</td>\n      <td>no2</td>\n      <td>37.95</td>\n      <td>2018-07-13 06:00:00+00:00</td>\n      <td>µg/m³</td>\n      <td>EEA France</td>\n      <td>46.211666</td>\n      <td>5.226389</td>\n      <td>1.0</td>\n    </tr>\n    <tr>\n      <th>4</th>\n      <td>FR33305</td>\n      <td>Ain</td>\n      <td>FR</td>\n      <td>o3</td>\n      <td>14.38</td>\n      <td>2018-07-13 06:00:00+00:00</td>\n      <td>µg/m³</td>\n      <td>EEA France</td>\n      <td>46.211666</td>\n      <td>5.226389</td>\n      <td>1.0</td>\n    </tr>\n  </tbody>\n</table>\n</div>"
          },
          "metadata": {}
        }
      ]
    },
    {
      "metadata": {
        "_uuid": "d39f7df90f13654e349ff375d4f5839d734d9df5"
      },
      "cell_type": "markdown",
      "source": "Measuring SQL bigquery size before acrtually executing it with the bq_helper package;\n"
    },
    {
      "metadata": {
        "trusted": true,
        "collapsed": true,
        "_uuid": "0036e3dca8a1b8520c2fba38b1d26ef8ab572dd6"
      },
      "cell_type": "code",
      "source": "query = \"\"\"SELECT value\n           FROM `bigquery-public-data.openaq.global_air_quality`\n           WHERE value > 0\"\"\"\n# ! the quotations marks around 'bigquery..._quality' are NOT quotation marks, they are and have to be 'backticks': ` !",
      "execution_count": 55,
      "outputs": []
    },
    {
      "metadata": {
        "trusted": true,
        "_uuid": "e07c0e3e125cb1117c8ee4d560b50fbef61dbc95"
      },
      "cell_type": "code",
      "source": "open_aq.estimate_query_size(query)",
      "execution_count": 56,
      "outputs": [
        {
          "output_type": "execute_result",
          "execution_count": 56,
          "data": {
            "text/plain": "0.00012377649545669556"
          },
          "metadata": {}
        }
      ]
    },
    {
      "metadata": {
        "trusted": true,
        "collapsed": true,
        "_uuid": "c9c75af5fd6d5819aeffdc9ac92c2be214b44f62"
      },
      "cell_type": "markdown",
      "source": "this means the SQL query above would take 0.000124 TB to run.\n"
    },
    {
      "metadata": {
        "trusted": true,
        "collapsed": true,
        "_uuid": "d4cdfd6d0dce038c03f259ef0343abd8cb48add1"
      },
      "cell_type": "code",
      "source": "query2 = \"\"\"SELECT value\n            FROM `bigquery-public-data.openaq.global_air_quality`\n            WHERE country = 'NL'\"\"\"\n# ! the quotations marks around 'bigquery..._quality' are NOT quotation marks, they are and have to be 'backticks': ` !",
      "execution_count": 66,
      "outputs": []
    },
    {
      "metadata": {
        "trusted": true,
        "_uuid": "3167713d1f455e8f8969cfbc2e0e4455b787bffa"
      },
      "cell_type": "code",
      "source": "open_aq.estimate_query_size(query2)",
      "execution_count": 67,
      "outputs": [
        {
          "output_type": "execute_result",
          "execution_count": 67,
          "data": {
            "text/plain": "0.00018566474318504333"
          },
          "metadata": {}
        }
      ]
    },
    {
      "metadata": {
        "_uuid": "ebb55a98560308bfce323694d5404c05513c9c78"
      },
      "cell_type": "markdown",
      "source": "and this one would cost 0.000186TB"
    },
    {
      "metadata": {
        "trusted": true,
        "_uuid": "91a2d22910e1161abaa6d362b0c323bb48de7ee9"
      },
      "cell_type": "code",
      "source": "#or in megabyte;\nopen_aq.estimate_query_size(query2) * 1000",
      "execution_count": 70,
      "outputs": [
        {
          "output_type": "execute_result",
          "execution_count": 70,
          "data": {
            "text/plain": "0.18566474318504333"
          },
          "metadata": {}
        }
      ]
    },
    {
      "metadata": {
        "trusted": true,
        "collapsed": true,
        "_uuid": "a67b71550097d9e7518ab5c8ecd35843067e51ef"
      },
      "cell_type": "code",
      "source": "",
      "execution_count": null,
      "outputs": []
    }
  ],
  "metadata": {
    "kernelspec": {
      "display_name": "Python 3",
      "language": "python",
      "name": "python3"
    },
    "language_info": {
      "name": "python",
      "version": "3.6.6",
      "mimetype": "text/x-python",
      "codemirror_mode": {
        "name": "ipython",
        "version": 3
      },
      "pygments_lexer": "ipython3",
      "nbconvert_exporter": "python",
      "file_extension": ".py"
    }
  },
  "nbformat": 4,
  "nbformat_minor": 1
}