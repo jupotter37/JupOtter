{
 "cells": [
  {
   "cell_type": "code",
   "execution_count": 1,
   "metadata": {},
   "outputs": [
    {
     "name": "stderr",
     "output_type": "stream",
     "text": [
      "WARNING: UnitsWarning: 'km/s/Mpc' contains multiple slashes, which is discouraged by the FITS standard [astropy.units.format.generic]\n"
     ]
    }
   ],
   "source": [
    "import numpy as np\n",
    "from astropy import units as u\n",
    "from astropy.coordinates import SkyCoord\n",
    "from astropy.table import Table\n",
    "\n",
    "import matplotlib.pyplot as plt\n",
    "\n",
    "from frb.frb import FRB\n",
    "from frb.surveys.survey_utils import load_survey_by_name\n",
    "from frb.surveys.catalog_utils import convert_mags_to_flux\n",
    "from frb.analysis import cigale"
   ]
  },
  {
   "cell_type": "markdown",
   "metadata": {},
   "source": [
    "## Testing flux conversion "
   ]
  },
  {
   "cell_type": "markdown",
   "metadata": {},
   "source": [
    "### DES "
   ]
  },
  {
   "cell_type": "code",
   "execution_count": 13,
   "metadata": {},
   "outputs": [
    {
     "data": {
      "text/html": [
       "<i>Table length=2</i>\n",
       "<table id=\"table139671973127120\" class=\"table-striped table-bordered table-condensed\">\n",
       "<thead><tr><th>DES_g</th><th>DES_g_err</th><th>DES_r</th><th>DES_r_err</th><th>DES_i</th><th>DES_i_err</th><th>DES_z</th><th>DES_z_err</th><th>DES_Y</th><th>DES_Y_err</th><th>DES_ID</th><th>ra</th><th>dec</th><th>DES_tile</th><th>WISE_W1</th><th>WISE_W1_err</th><th>WISE_W2</th><th>WISE_W2_err</th><th>WISE_W3</th><th>WISE_W3_err</th><th>WISE_W4</th><th>WISE_W4_err</th></tr></thead>\n",
       "<thead><tr><th>float64</th><th>float64</th><th>float64</th><th>float64</th><th>float64</th><th>float64</th><th>float64</th><th>float64</th><th>float64</th><th>float64</th><th>int64</th><th>float64</th><th>float64</th><th>str12</th><th>float64</th><th>float64</th><th>float64</th><th>float64</th><th>float64</th><th>float64</th><th>float64</th><th>float64</th></tr></thead>\n",
       "<tr><td>25.0468</td><td>0.305723</td><td>24.5441</td><td>0.301756</td><td>23.923</td><td>0.293647</td><td>23.463</td><td>0.271636</td><td>24.7709</td><td>2.66629</td><td>209914542</td><td>326.101627</td><td>-40.899805</td><td>DES2143-4040</td><td>-999.0</td><td>-999.0</td><td>-999.0</td><td>-999.0</td><td>-999.0</td><td>-999.0</td><td>-999.0</td><td>-999.0</td></tr>\n",
       "<tr><td>21.6222</td><td>0.0269829</td><td>20.5415</td><td>0.0156388</td><td>20.1379</td><td>0.0186293</td><td>19.8547</td><td>0.0200389</td><td>19.8083</td><td>0.0564316</td><td>209914488</td><td>326.105209</td><td>-40.900226</td><td>DES2143-4040</td><td>16.846</td><td>0.102</td><td>16.062</td><td>0.185</td><td>11.691</td><td>-999.0</td><td>8.501</td><td>-999.0</td></tr>\n",
       "</table>"
      ],
      "text/plain": [
       "<Table length=2>\n",
       " DES_g  DES_g_err  DES_r  DES_r_err ... WISE_W3 WISE_W3_err WISE_W4 WISE_W4_err\n",
       "float64  float64  float64  float64  ... float64   float64   float64   float64  \n",
       "------- --------- ------- --------- ... ------- ----------- ------- -----------\n",
       "25.0468  0.305723 24.5441  0.301756 ...  -999.0      -999.0  -999.0      -999.0\n",
       "21.6222 0.0269829 20.5415 0.0156388 ...  11.691      -999.0   8.501      -999.0"
      ]
     },
     "execution_count": 13,
     "metadata": {},
     "output_type": "execute_result"
    }
   ],
   "source": [
    "frb180924 = FRB.by_name(\"FRB180924\")\n",
    "survey = load_survey_by_name(\"DES\",frb180924.coord,15*u.arcsec)\n",
    "survey.get_catalog()"
   ]
  },
  {
   "cell_type": "code",
   "execution_count": 3,
   "metadata": {},
   "outputs": [
    {
     "data": {
      "text/html": [
       "<i>Table length=2</i>\n",
       "<table id=\"table139633015540880\" class=\"table-striped table-bordered table-condensed\">\n",
       "<thead><tr><th>DES_g</th><th>DES_g_err</th><th>DES_r</th><th>DES_r_err</th><th>DES_i</th><th>DES_i_err</th><th>DES_z</th><th>DES_z_err</th><th>DES_Y</th><th>DES_Y_err</th><th>DES_ID</th><th>ra</th><th>dec</th><th>DES_tile</th><th>WISE_W1</th><th>WISE_W1_err</th><th>WISE_W2</th><th>WISE_W2_err</th><th>WISE_W3</th><th>WISE_W3_err</th><th>WISE_W4</th><th>WISE_W4_err</th></tr></thead>\n",
       "<thead><tr><th>float64</th><th>float64</th><th>float64</th><th>float64</th><th>float64</th><th>float64</th><th>float64</th><th>float64</th><th>float64</th><th>float64</th><th>int64</th><th>float64</th><th>float64</th><th>str12</th><th>float64</th><th>float64</th><th>float64</th><th>float64</th><th>float64</th><th>float64</th><th>float64</th><th>float64</th></tr></thead>\n",
       "<tr><td>0.34776029396353764</td><td>0.11309989577324552</td><td>0.5525352556488469</td><td>0.1770270619612232</td><td>0.9790390045854888</td><td>0.3040559413046528</td><td>1.495546753095973</td><td>0.4251305057911406</td><td>0.4483735593717958</td><td>4.7774650632357805</td><td>209914542</td><td>326.101627</td><td>-40.899805</td><td>DES2143-4040</td><td>-99.0</td><td>-99.0</td><td>-99.0</td><td>-99.0</td><td>-99.0</td><td>-99.0</td><td>-99.0</td><td>-99.0</td></tr>\n",
       "<tr><td>8.149294155302018</td><td>0.20506524182685903</td><td>22.049563390010288</td><td>0.3198973292351718</td><td>31.97716768233088</td><td>0.5534054072117228</td><td>41.50687090621285</td><td>0.7731851361138282</td><td>43.31915677274319</td><td>2.3110707525906546</td><td>209914488</td><td>326.105209</td><td>-40.900226</td><td>DES2143-4040</td><td>56.53491951856131</td><td>5.568680812966024</td><td>64.59371982943986</td><td>11.999494472175313</td><td>667.2720168587022</td><td>-99.0</td><td>3326.3052157253505</td><td>-99.0</td></tr>\n",
       "</table>"
      ],
      "text/plain": [
       "<Table length=2>\n",
       "       DES_g             DES_g_err      ...      WISE_W4       WISE_W4_err\n",
       "      float64             float64       ...      float64         float64  \n",
       "------------------- ------------------- ... ------------------ -----------\n",
       "0.34776029396353764 0.11309989577324552 ...              -99.0       -99.0\n",
       "  8.149294155302018 0.20506524182685903 ... 3326.3052157253505       -99.0"
      ]
     },
     "execution_count": 3,
     "metadata": {},
     "output_type": "execute_result"
    }
   ],
   "source": [
    "convert_mags_to_flux(survey.catalog,fluxunits=u.microjansky)"
   ]
  },
  {
   "cell_type": "markdown",
   "metadata": {},
   "source": [
    "### SDSS "
   ]
  },
  {
   "cell_type": "code",
   "execution_count": 6,
   "metadata": {},
   "outputs": [
    {
     "data": {
      "text/html": [
       "<i>Table length=1</i>\n",
       "<table id=\"table140374151903696\" class=\"table-striped table-bordered table-condensed\">\n",
       "<thead><tr><th>ra</th><th>dec</th><th>SDSS_ID</th><th>run</th><th>rerun</th><th>camcol</th><th>SDSS_field</th><th>type</th><th>SDSS_u</th><th>SDSS_g</th><th>SDSS_r</th><th>SDSS_i</th><th>SDSS_z</th><th>SDSS_u_err</th><th>SDSS_g_err</th><th>SDSS_r_err</th><th>SDSS_i_err</th><th>SDSS_z_err</th><th>extinction_u</th><th>extinction_g</th><th>extinction_r</th><th>extinction_i</th><th>extinction_z</th><th>photo_z</th><th>photo_zerr</th><th>z_spec</th><th>separation</th></tr></thead>\n",
       "<thead><tr><th></th><th></th><th></th><th></th><th></th><th></th><th></th><th></th><th></th><th></th><th></th><th></th><th></th><th></th><th></th><th></th><th></th><th></th><th></th><th></th><th></th><th></th><th></th><th></th><th></th><th></th><th>arcmin</th></tr></thead>\n",
       "<thead><tr><th>float64</th><th>float64</th><th>int64</th><th>int64</th><th>int64</th><th>int64</th><th>int64</th><th>int64</th><th>float64</th><th>float64</th><th>float64</th><th>float64</th><th>float64</th><th>float64</th><th>float64</th><th>float64</th><th>float64</th><th>float64</th><th>float64</th><th>float64</th><th>float64</th><th>float64</th><th>float64</th><th>float64</th><th>float64</th><th>float64</th><th>float64</th></tr></thead>\n",
       "<tr><td>334.020419873775</td><td>-7.89888531358588</td><td>1237652600644436162</td><td>1659</td><td>301</td><td>5</td><td>192</td><td>3</td><td>19.03135</td><td>18.06515</td><td>17.63091</td><td>17.26474</td><td>17.08397</td><td>0.04294281</td><td>0.008970303</td><td>0.007262514</td><td>0.007621691</td><td>0.01935624</td><td>0.1975715</td><td>0.1539464</td><td>0.1064994</td><td>0.07914045</td><td>0.05886595</td><td>-9999.0</td><td>-9999.0</td><td>0.1177805</td><td>0.05628329857046733</td></tr>\n",
       "</table>"
      ],
      "text/plain": [
       "<Table length=1>\n",
       "       ra               dec        ...   z_spec       separation    \n",
       "                                   ...                  arcmin      \n",
       "    float64           float64      ...  float64        float64      \n",
       "---------------- ----------------- ... --------- -------------------\n",
       "334.020419873775 -7.89888531358588 ... 0.1177805 0.05628329857046733"
      ]
     },
     "execution_count": 6,
     "metadata": {},
     "output_type": "execute_result"
    }
   ],
   "source": [
    "frb190608 = FRB.by_name(\"FRB190608\")\n",
    "survey = load_survey_by_name(\"SDSS\",frb190608.coord,15*u.arcsec)\n",
    "survey.get_catalog()"
   ]
  },
  {
   "cell_type": "code",
   "execution_count": 7,
   "metadata": {},
   "outputs": [
    {
     "data": {
      "text/html": [
       "<i>Table length=1</i>\n",
       "<table id=\"table140374152285264\" class=\"table-striped table-bordered table-condensed\">\n",
       "<thead><tr><th>ra</th><th>dec</th><th>SDSS_ID</th><th>run</th><th>rerun</th><th>camcol</th><th>SDSS_field</th><th>type</th><th>SDSS_u</th><th>SDSS_g</th><th>SDSS_r</th><th>SDSS_i</th><th>SDSS_z</th><th>SDSS_u_err</th><th>SDSS_g_err</th><th>SDSS_r_err</th><th>SDSS_i_err</th><th>SDSS_z_err</th><th>extinction_u</th><th>extinction_g</th><th>extinction_r</th><th>extinction_i</th><th>extinction_z</th><th>photo_z</th><th>photo_zerr</th><th>z_spec</th><th>separation</th></tr></thead>\n",
       "<thead><tr><th></th><th></th><th></th><th></th><th></th><th></th><th></th><th></th><th></th><th></th><th></th><th></th><th></th><th></th><th></th><th></th><th></th><th></th><th></th><th></th><th></th><th></th><th></th><th></th><th></th><th></th><th>arcmin</th></tr></thead>\n",
       "<thead><tr><th>float64</th><th>float64</th><th>int64</th><th>int64</th><th>int64</th><th>int64</th><th>int64</th><th>int64</th><th>float64</th><th>float64</th><th>float64</th><th>float64</th><th>float64</th><th>float64</th><th>float64</th><th>float64</th><th>float64</th><th>float64</th><th>float64</th><th>float64</th><th>float64</th><th>float64</th><th>float64</th><th>float64</th><th>float64</th><th>float64</th><th>float64</th></tr></thead>\n",
       "<tr><td>334.020419873775</td><td>-7.89888531358588</td><td>1237652600644436162</td><td>1659</td><td>301</td><td>5</td><td>192</td><td>3</td><td>0.08860535997067599</td><td>0.21574462979928918</td><td>0.32183701703197415</td><td>0.4509246681020314</td><td>0.5326132842973963</td><td>0.0035747280091641743</td><td>0.001789855963532317</td><td>0.0021599911381572647</td><td>0.0031765539944286023</td><td>0.009580444778228149</td><td>0.1975715</td><td>0.1539464</td><td>0.1064994</td><td>0.07914045</td><td>0.05886595</td><td>-9999.0</td><td>-9999.0</td><td>0.1177805</td><td>0.05628329857046733</td></tr>\n",
       "</table>"
      ],
      "text/plain": [
       "<Table length=1>\n",
       "       ra               dec        ...   z_spec       separation    \n",
       "                                   ...                  arcmin      \n",
       "    float64           float64      ...  float64        float64      \n",
       "---------------- ----------------- ... --------- -------------------\n",
       "334.020419873775 -7.89888531358588 ... 0.1177805 0.05628329857046733"
      ]
     },
     "execution_count": 7,
     "metadata": {},
     "output_type": "execute_result"
    }
   ],
   "source": [
    "convert_mags_to_flux(survey.catalog)"
   ]
  },
  {
   "cell_type": "markdown",
   "metadata": {},
   "source": [
    "### DECaLS "
   ]
  },
  {
   "cell_type": "code",
   "execution_count": 2,
   "metadata": {},
   "outputs": [
    {
     "data": {
      "text/html": [
       "<i>Table length=6</i>\n",
       "<table id=\"table140270132132560\" class=\"table-striped table-bordered table-condensed\">\n",
       "<thead><tr><th>DECaL_ID</th><th>brick_primary</th><th>DECaL_brick</th><th>ra</th><th>dec</th><th>gaia_pointsource</th><th>DECaL_g</th><th>DECaL_r</th><th>DECaL_z</th><th>WISE_W1</th><th>WISE_W2</th><th>WISE_W3</th><th>WISE_W4</th><th>DECaL_g_err</th><th>DECaL_r_err</th><th>DECaL_z_err</th><th>WISE_W1_err</th><th>WISE_W2_err</th><th>WISE_W3_err</th><th>WISE_W4_err</th></tr></thead>\n",
       "<thead><tr><th>int64</th><th>int64</th><th>int64</th><th>float64</th><th>float64</th><th>int64</th><th>float64</th><th>float64</th><th>float64</th><th>float64</th><th>float64</th><th>float64</th><th>float64</th><th>float64</th><th>float64</th><th>float64</th><th>float64</th><th>float64</th><th>float64</th><th>float64</th></tr></thead>\n",
       "<tr><td>7696603045628958</td><td>1</td><td>330371</td><td>0.997871222025512</td><td>-0.003181800279689</td><td>0</td><td>25.825</td><td>24.9819</td><td>23.5421</td><td>21.0602</td><td>20.8248</td><td>-99.0</td><td>-99.0</td><td>-99.0</td><td>-99.0</td><td>-99.0</td><td>-99.0</td><td>-99.0</td><td>-1.19283</td><td>-1.54654</td></tr>\n",
       "<tr><td>7696603045628959</td><td>1</td><td>330371</td><td>0.998236420651554</td><td>-0.0033006206513122</td><td>0</td><td>24.2206</td><td>24.3073</td><td>23.7538</td><td>25.0001</td><td>-99.0</td><td>16.9868</td><td>14.4753</td><td>-99.0</td><td>-99.0</td><td>-99.0</td><td>-99.0</td><td>-2.78168</td><td>-99.0</td><td>-99.0</td></tr>\n",
       "<tr><td>7696603045694624</td><td>1</td><td>330372</td><td>1.00202546888956</td><td>-0.0009794773389576</td><td>0</td><td>24.7342</td><td>25.1195</td><td>23.9565</td><td>-99.0</td><td>-99.0</td><td>17.6525</td><td>17.2043</td><td>-99.0</td><td>-99.0</td><td>-99.0</td><td>-2.6537</td><td>-1.92639</td><td>-99.0</td><td>-99.0</td></tr>\n",
       "<tr><td>7696603045629090</td><td>1</td><td>330371</td><td>0.996710980408447</td><td>0.0011405432351369</td><td>0</td><td>24.4385</td><td>23.8904</td><td>23.4821</td><td>-99.0</td><td>-99.0</td><td>18.2956</td><td>-99.0</td><td>-99.0</td><td>-99.0</td><td>-99.0</td><td>-2.69137</td><td>-0.311491</td><td>-99.0</td><td>-1.8065</td></tr>\n",
       "<tr><td>7696603045629094</td><td>1</td><td>330371</td><td>0.999330927183485</td><td>0.001700881614525</td><td>0</td><td>22.9443</td><td>22.2224</td><td>21.2398</td><td>20.8062</td><td>21.169</td><td>17.6742</td><td>-99.0</td><td>-99.0</td><td>-99.0</td><td>-99.0</td><td>-99.0</td><td>-99.0</td><td>-99.0</td><td>-0.184622</td></tr>\n",
       "<tr><td>7696603045694684</td><td>0</td><td>330372</td><td>0.999330886306945</td><td>0.0017009239077483</td><td>0</td><td>22.9455</td><td>22.2238</td><td>21.2402</td><td>20.7923</td><td>21.1589</td><td>17.5228</td><td>-99.0</td><td>-99.0</td><td>-99.0</td><td>-99.0</td><td>-99.0</td><td>-99.0</td><td>-99.0</td><td>-0.324041</td></tr>\n",
       "</table>"
      ],
      "text/plain": [
       "<Table length=6>\n",
       "    DECaL_ID     brick_primary DECaL_brick ... WISE_W3_err WISE_W4_err\n",
       "     int64           int64        int64    ...   float64     float64  \n",
       "---------------- ------------- ----------- ... ----------- -----------\n",
       "7696603045628958             1      330371 ...    -1.19283    -1.54654\n",
       "7696603045628959             1      330371 ...       -99.0       -99.0\n",
       "7696603045694624             1      330372 ...       -99.0       -99.0\n",
       "7696603045629090             1      330371 ...       -99.0     -1.8065\n",
       "7696603045629094             1      330371 ...       -99.0   -0.184622\n",
       "7696603045694684             0      330372 ...       -99.0   -0.324041"
      ]
     },
     "execution_count": 2,
     "metadata": {},
     "output_type": "execute_result"
    }
   ],
   "source": [
    "survey = load_survey_by_name(\"DECaL\",SkyCoord(1,0,unit=\"deg\"),15*u.arcsec)\n",
    "survey.get_catalog()"
   ]
  },
  {
   "cell_type": "code",
   "execution_count": 5,
   "metadata": {},
   "outputs": [
    {
     "data": {
      "text/html": [
       "<i>Table length=6</i>\n",
       "<table id=\"table140269932810896\" class=\"table-striped table-bordered table-condensed\">\n",
       "<thead><tr><th>DECaL_ID</th><th>brick_primary</th><th>DECaL_brick</th><th>ra</th><th>dec</th><th>gaia_pointsource</th><th>DECaL_g</th><th>DECaL_r</th><th>DECaL_z</th><th>WISE_W1</th><th>WISE_W2</th><th>WISE_W3</th><th>WISE_W4</th><th>DECaL_g_err</th><th>DECaL_r_err</th><th>DECaL_z_err</th><th>WISE_W1_err</th><th>WISE_W2_err</th><th>WISE_W3_err</th><th>WISE_W4_err</th><th>z</th></tr></thead>\n",
       "<thead><tr><th>int64</th><th>int64</th><th>int64</th><th>float64</th><th>float64</th><th>int64</th><th>float64</th><th>float64</th><th>float64</th><th>float64</th><th>float64</th><th>float64</th><th>float64</th><th>float64</th><th>float64</th><th>float64</th><th>float64</th><th>float64</th><th>float64</th><th>float64</th><th>float64</th></tr></thead>\n",
       "<tr><td>7696603045628958</td><td>1</td><td>330371</td><td>0.997871222025512</td><td>-0.003181800279689</td><td>0</td><td>0.00016982436301503037</td><td>0.0003691815546274997</td><td>0.001390464784758612</td><td>0.001165834165004409</td><td>0.0008036561924704808</td><td>-99.0</td><td>-99.0</td><td>-99.0</td><td>-99.0</td><td>-99.0</td><td>-99.0</td><td>-99.0</td><td>-99.0</td><td>-99.0</td><td>0.1</td></tr>\n",
       "<tr><td>7696603045628959</td><td>1</td><td>330371</td><td>0.998236420651554</td><td>-0.0033006206513122</td><td>0</td><td>0.0007443205237248634</td><td>0.0006871950053272952</td><td>0.0011441421738770923</td><td>3.095114916252917e-05</td><td>-99.0</td><td>0.005081394490707617</td><td>0.01355945071186171</td><td>-99.0</td><td>-99.0</td><td>-99.0</td><td>-99.0</td><td>-99.0</td><td>-99.0</td><td>-99.0</td><td>0.1</td></tr>\n",
       "<tr><td>7696603045694624</td><td>1</td><td>330372</td><td>1.00202546888956</td><td>-0.0009794773389576</td><td>0</td><td>0.00046378851978996717</td><td>0.0003252370358223504</td><td>0.000949292378912325</td><td>-99.0</td><td>-99.0</td><td>0.0027523452637214325</td><td>0.0010981005189436787</td><td>-99.0</td><td>-99.0</td><td>-99.0</td><td>-99.0</td><td>-99.0</td><td>-99.0</td><td>-99.0</td><td>0.1</td></tr>\n",
       "<tr><td>7696603045629090</td><td>1</td><td>330371</td><td>0.996710980408447</td><td>0.0011405432351369</td><td>0</td><td>0.000608975743467035</td><td>0.0010088811188017934</td><td>0.001469467530477905</td><td>-99.0</td><td>-99.0</td><td>0.0015221691380578274</td><td>-99.0</td><td>-99.0</td><td>-99.0</td><td>-99.0</td><td>-99.0</td><td>-99.0</td><td>-99.0</td><td>-99.0</td><td>0.1</td></tr>\n",
       "<tr><td>7696603045629094</td><td>1</td><td>330371</td><td>0.999330927183485</td><td>0.001700881614525</td><td>0</td><td>0.0024114596214222564</td><td>0.004688565572821968</td><td>0.011589908152667827</td><td>0.0014731154291372922</td><td>0.000585315864488759</td><td>0.00269788176276814</td><td>-99.0</td><td>-99.0</td><td>-99.0</td><td>-99.0</td><td>-99.0</td><td>-99.0</td><td>-99.0</td><td>-99.0</td><td>0.1</td></tr>\n",
       "<tr><td>7696603045694684</td><td>0</td><td>330372</td><td>0.999330886306945</td><td>0.0017009239077483</td><td>0</td><td>0.002408795850079067</td><td>0.004682523809058658</td><td>0.011585639059153531</td><td>0.0014920960417035985</td><td>0.0005907861364100322</td><td>0.0031015794632975146</td><td>-99.0</td><td>-99.0</td><td>-99.0</td><td>-99.0</td><td>-99.0</td><td>-99.0</td><td>-99.0</td><td>-99.0</td><td>0.1</td></tr>\n",
       "</table>"
      ],
      "text/plain": [
       "<Table length=6>\n",
       "    DECaL_ID     brick_primary DECaL_brick ... WISE_W3_err WISE_W4_err    z   \n",
       "     int64           int64        int64    ...   float64     float64   float64\n",
       "---------------- ------------- ----------- ... ----------- ----------- -------\n",
       "7696603045628958             1      330371 ...       -99.0       -99.0     0.1\n",
       "7696603045628959             1      330371 ...       -99.0       -99.0     0.1\n",
       "7696603045694624             1      330372 ...       -99.0       -99.0     0.1\n",
       "7696603045629090             1      330371 ...       -99.0       -99.0     0.1\n",
       "7696603045629094             1      330371 ...       -99.0       -99.0     0.1\n",
       "7696603045694684             0      330372 ...       -99.0       -99.0     0.1"
      ]
     },
     "execution_count": 5,
     "metadata": {},
     "output_type": "execute_result"
    }
   ],
   "source": [
    "convert_mags_to_flux(survey.catalog)"
   ]
  },
  {
   "cell_type": "markdown",
   "metadata": {},
   "source": [
    "### Pan-STARRS"
   ]
  },
  {
   "cell_type": "code",
   "execution_count": 2,
   "metadata": {},
   "outputs": [
    {
     "data": {
      "text/html": [
       "<i>Table length=10</i>\n",
       "<table id=\"table139673324110544\" class=\"table-striped table-bordered table-condensed\">\n",
       "<thead><tr><th>Pan-STARRS_ID</th><th>ra</th><th>dec</th><th>objInfoFlag</th><th>qualityFlag</th><th>Pan-STARRS_g</th><th>Pan-STARRS_r</th><th>Pan-STARRS_i</th><th>Pan-STARRS_z</th><th>Pan-STARRS_y</th><th>Pan-STARRS_g_err</th><th>Pan-STARRS_r_err</th><th>Pan-STARRS_i_err</th><th>Pan-STARRS_z_err</th><th>Pan-STARRS_y_err</th><th>separation</th></tr></thead>\n",
       "<thead><tr><th></th><th></th><th></th><th></th><th></th><th></th><th></th><th></th><th></th><th></th><th></th><th></th><th></th><th></th><th></th><th>arcmin</th></tr></thead>\n",
       "<thead><tr><th>int64</th><th>float64</th><th>float64</th><th>int64</th><th>int64</th><th>float64</th><th>float64</th><th>float64</th><th>float64</th><th>float64</th><th>float64</th><th>float64</th><th>float64</th><th>float64</th><th>float64</th><th>float64</th></tr></thead>\n",
       "<tr><td>194962070641515671</td><td>207.06427429</td><td>72.47072443</td><td>436527104</td><td>52</td><td>22.978200912475586</td><td>22.056699752807617</td><td>21.171199798583984</td><td>20.81879997253418</td><td>20.604700088500977</td><td>0.16809199750423431</td><td>0.1003049984574318</td><td>0.058139000087976456</td><td>0.06288400292396545</td><td>0.10481999814510345</td><td>0.06154607375773434</td></tr>\n",
       "<tr><td>194962070655432752</td><td>207.06557723</td><td>72.46824989</td><td>436285440</td><td>52</td><td>23.081499099731445</td><td>22.094100952148438</td><td>22.37849998474121</td><td>22.177499771118164</td><td>21.631799697875977</td><td>0.18480700254440308</td><td>0.1328050047159195</td><td>0.13767799735069275</td><td>0.23336200416088104</td><td>0.4830789864063263</td><td>0.08895380876505755</td></tr>\n",
       "<tr><td>194962070589123840</td><td>207.05893867</td><td>72.46923579</td><td>444915712</td><td>53</td><td>21.392000198364258</td><td>20.566099166870117</td><td>20.111099243164062</td><td>19.763399124145508</td><td>19.794300079345703</td><td>0.0412990003824234</td><td>0.027608999982476234</td><td>0.013101000338792801</td><td>0.0261049997061491</td><td>0.05897799879312515</td><td>0.11336669396811025</td></tr>\n",
       "<tr><td>194962070629201005</td><td>207.06294605</td><td>72.46679517</td><td>444674048</td><td>53</td><td>22.12299919128418</td><td>21.675800323486328</td><td>21.502899169921875</td><td>21.707399368286133</td><td>21.247299194335938</td><td>0.07845800369977951</td><td>0.0917619988322258</td><td>0.054104000329971313</td><td>0.15350599586963654</td><td>0.2990039885044098</td><td>0.1795038049154313</td></tr>\n",
       "<tr><td>194962070583121611</td><td>207.05858533</td><td>72.46731982</td><td>436527104</td><td>52</td><td>22.945899963378906</td><td>21.594600677490234</td><td>21.271499633789062</td><td>21.334400177001953</td><td>20.82659912109375</td><td>0.1651419997215271</td><td>0.0853549987077713</td><td>0.037769000977277756</td><td>0.11157699674367905</td><td>0.1906830072402954</td><td>0.18498379095408174</td></tr>\n",
       "<tr><td>194962070604421049</td><td>207.06062466</td><td>72.46692391</td><td>436527104</td><td>52</td><td>23.347900390625</td><td>22.50279998779297</td><td>20.951099395751953</td><td>19.76099967956543</td><td>19.138399124145508</td><td>0.2384369969367981</td><td>0.1957859992980957</td><td>0.03649500012397766</td><td>0.02630399912595749</td><td>0.04225499927997589</td><td>0.18558987558276424</td></tr>\n",
       "<tr><td>194962070693028149</td><td>207.06930036</td><td>72.47280774</td><td>404226048</td><td>48</td><td>24.794200897216797</td><td>24.502300262451172</td><td>22.69540023803711</td><td>21.702800750732422</td><td>22.039600372314453</td><td>0.9575219750404358</td><td>0.9948269724845886</td><td>0.16877900063991547</td><td>0.15884999930858612</td><td>0.43328800797462463</td><td>0.2007801436413031</td></tr>\n",
       "<tr><td>194962070530925676</td><td>207.05309167</td><td>72.47076983</td><td>436527248</td><td>52</td><td>20.09040069580078</td><td>19.989700317382812</td><td>19.926700592041016</td><td>19.86090087890625</td><td>19.970199584960938</td><td>0.01399100013077259</td><td>0.01583999954164028</td><td>0.009170999750494957</td><td>0.028929000720381737</td><td>0.06363300234079361</td><td>0.22419957775476</td></tr>\n",
       "<tr><td>194962070764472218</td><td>207.07633366</td><td>72.46786126</td><td>1384198144</td><td>165</td><td>25.91510009765625</td><td>23.059200286865234</td><td>22.314300537109375</td><td>27.924800872802734</td><td>21.937000274658203</td><td>2.4253599643707275</td><td>0.25383898615837097</td><td>0.08086299896240234</td><td>44.88589859008789</td><td>0.44850799441337585</td><td>0.23329485719850837</td></tr>\n",
       "<tr><td>194962070569838430</td><td>207.0578546</td><td>72.47301528</td><td>1343750144</td><td>160</td><td>-999.0</td><td>28.999500274658203</td><td>23.214399337768555</td><td>23.06220054626465</td><td>23.11590003967285</td><td>1.1896799802780151</td><td>59.30379867553711</td><td>0.17835399508476257</td><td>0.5811989903450012</td><td>1.0535999536514282</td><td>0.23603444468990473</td></tr>\n",
       "</table>"
      ],
      "text/plain": [
       "<Table length=10>\n",
       "  Pan-STARRS_ID         ra      ...   Pan-STARRS_y_err       separation    \n",
       "                                ...                            arcmin      \n",
       "      int64          float64    ...       float64             float64      \n",
       "------------------ ------------ ... ------------------- -------------------\n",
       "194962070641515671 207.06427429 ... 0.10481999814510345 0.06154607375773434\n",
       "194962070655432752 207.06557723 ...  0.4830789864063263 0.08895380876505755\n",
       "194962070589123840 207.05893867 ... 0.05897799879312515 0.11336669396811025\n",
       "194962070629201005 207.06294605 ...  0.2990039885044098  0.1795038049154313\n",
       "194962070583121611 207.05858533 ...  0.1906830072402954 0.18498379095408174\n",
       "194962070604421049 207.06062466 ... 0.04225499927997589 0.18558987558276424\n",
       "194962070693028149 207.06930036 ... 0.43328800797462463  0.2007801436413031\n",
       "194962070530925676 207.05309167 ... 0.06363300234079361    0.22419957775476\n",
       "194962070764472218 207.07633366 ... 0.44850799441337585 0.23329485719850837\n",
       "194962070569838430  207.0578546 ...  1.0535999536514282 0.23603444468990473"
      ]
     },
     "execution_count": 2,
     "metadata": {},
     "output_type": "execute_result"
    }
   ],
   "source": [
    "frb190523 = FRB.by_name(\"FRB190523\")\n",
    "survey = load_survey_by_name(\"Pan-STARRS\",frb190523.coord,15*u.arcsec)\n",
    "survey.get_catalog()"
   ]
  },
  {
   "cell_type": "code",
   "execution_count": 7,
   "metadata": {},
   "outputs": [
    {
     "data": {
      "text/html": [
       "<i>Table length=10</i>\n",
       "<table id=\"table140269887884880\" class=\"table-striped table-bordered table-condensed\">\n",
       "<thead><tr><th>Pan-STARRS_ID</th><th>ra</th><th>dec</th><th>objInfoFlag</th><th>qualityFlag</th><th>Pan-STARRS_g</th><th>Pan-STARRS_r</th><th>Pan-STARRS_i</th><th>Pan-STARRS_z</th><th>Pan-STARRS_y</th><th>Pan-STARRS_g_err</th><th>Pan-STARRS_r_err</th><th>Pan-STARRS_i_err</th><th>Pan-STARRS_z_err</th><th>Pan-STARRS_y_err</th><th>separation</th></tr></thead>\n",
       "<thead><tr><th></th><th></th><th></th><th></th><th></th><th></th><th></th><th></th><th></th><th></th><th></th><th></th><th></th><th></th><th></th><th>arcmin</th></tr></thead>\n",
       "<thead><tr><th>int64</th><th>float64</th><th>float64</th><th>int64</th><th>int64</th><th>float64</th><th>float64</th><th>float64</th><th>float64</th><th>float64</th><th>float64</th><th>float64</th><th>float64</th><th>float64</th><th>float64</th><th>float64</th></tr></thead>\n",
       "<tr><td>194962070641515671</td><td>207.06427429</td><td>72.47072443</td><td>436527104</td><td>52</td><td>0.0023373278255046587</td><td>0.005461602557007481</td><td>0.012345823812802456</td><td>0.01707969084133699</td><td>0.020802712110329864</td><td>0.00039137617942680016</td><td>0.0005286080602107476</td><td>0.0006791144932347553</td><td>0.0010184351163233295</td><td>0.0021084943100777337</td><td>0.06154607375773434</td></tr>\n",
       "<tr><td>194962070655432752</td><td>207.06557723</td><td>72.46824989</td><td>436285440</td><td>52</td><td>0.002125202677523379</td><td>0.005276666099168051</td><td>0.004060691537375596</td><td>0.004886524559347609</td><td>0.008077558558724435</td><td>0.0003943483327991366</td><td>0.000686564656632898</td><td>0.0005489929338442965</td><td>0.001171693308173678</td><td>0.00452653765478498</td><td>0.08895380876505755</td></tr>\n",
       "<tr><td>194962070589123840</td><td>207.05893867</td><td>72.46923579</td><td>444915712</td><td>53</td><td>0.010073952875247701</td><td>0.021555610502656475</td><td>0.03277632799851968</td><td>0.045148190061386526</td><td>0.043881348229200604</td><td>0.00039057200999074564</td><td>0.000555162579572353</td><td>0.00039789022479336114</td><td>0.0010986798971418805</td><td>0.002449597153820731</td><td>0.11336669396811025</td></tr>\n",
       "<tr><td>194962070629201005</td><td>207.06294605</td><td>72.46679517</td><td>444674048</td><td>53</td><td>0.0051380735619370515</td><td>0.007756751259852961</td><td>0.009095787933875017</td><td>0.007534253820077024</td><td>0.011510132327160793</td><td>0.0003850342303793361</td><td>0.00068406923321122</td><td>0.00046474113831356575</td><td>0.0011442057649592144</td><td>0.0036492641627717056</td><td>0.1795038049154313</td></tr>\n",
       "<tr><td>194962070583121611</td><td>207.05858533</td><td>72.46731982</td><td>436527104</td><td>52</td><td>0.0024079086615606065</td><td>0.008359103898910219</td><td>0.011256416154581709</td><td>0.010622822468564289</td><td>0.01695744221656394</td><td>0.000395567120829929</td><td>0.000683671055472669</td><td>0.0003984620966658142</td><td>0.0011497323714599874</td><td>0.003255686833876511</td><td>0.18498379095408174</td></tr>\n",
       "<tr><td>194962070604421049</td><td>207.06062466</td><td>72.46692391</td><td>436527104</td><td>52</td><td>0.0016627993192890455</td><td>0.003621429201179749</td><td>0.015120294010286847</td><td>0.04524807654520275</td><td>0.08028609678668759</td><td>0.0004083653866674257</td><td>0.0007156204984565379</td><td>0.0005168788127853664</td><td>0.0011096065322449065</td><td>0.003186196315121414</td><td>0.18558987558276424</td></tr>\n",
       "<tr><td>194962070693028149</td><td>207.06930036</td><td>72.47280774</td><td>404226048</td><td>48</td><td>0.0004388535697857522</td><td>0.000574222081760238</td><td>0.003032772958493059</td><td>0.007566232701444514</td><td>0.0055482988471717695</td><td>0.000621201495131282</td><td>0.0008613026474280501</td><td>0.000510066714819344</td><td>0.0011920648105509587</td><td>0.0027211211233817674</td><td>0.2007801436413031</td></tr>\n",
       "<tr><td>194962070530925676</td><td>207.05309167</td><td>72.47076983</td><td>436527248</td><td>52</td><td>0.033407172221944476</td><td>0.0366538727118693</td><td>0.03884362542279461</td><td>0.041270491662338836</td><td>0.037318154665939435</td><td>0.00043327672652524493</td><td>0.0005386697200853883</td><td>0.0003294940755397376</td><td>0.0011144161618132158</td><td>0.0022525114671399357</td><td>0.22419957775476</td></tr>\n",
       "<tr><td>194962070764472218</td><td>207.07633366</td><td>72.46786126</td><td>1384198144</td><td>165</td><td>0.00015630035169338639</td><td>0.002169301315156495</td><td>0.004308040519757273</td><td>2.4551591255144958e-05</td><td>0.0060981750172174965</td><td>0.0013028630926881155</td><td>0.0005713606582244242</td><td>0.00033310279229122443</td><td>22102382028907.805</td><td>0.003119111384398808</td><td>0.23329485719850837</td></tr>\n",
       "<tr><td>194962070569838430</td><td>207.0578546</td><td>72.47301528</td><td>1343750144</td><td>160</td><td>-99.0</td><td>9.124306897865119e-06</td><td>0.0018803567748668791</td><td>0.002163315070658567</td><td>0.0020589223994881053</td><td>-197.14689714024465</td><td>4.805287257207698e+18</td><td>0.00033570497253016446</td><td>0.001531556708379542</td><td>0.003374581209827869</td><td>0.23603444468990473</td></tr>\n",
       "</table>"
      ],
      "text/plain": [
       "<Table length=10>\n",
       "  Pan-STARRS_ID         ra      ...    Pan-STARRS_y_err        separation    \n",
       "                                ...                              arcmin      \n",
       "      int64          float64    ...        float64              float64      \n",
       "------------------ ------------ ... --------------------- -------------------\n",
       "194962070641515671 207.06427429 ... 0.0021084943100777337 0.06154607375773434\n",
       "194962070655432752 207.06557723 ...   0.00452653765478498 0.08895380876505755\n",
       "194962070589123840 207.05893867 ...  0.002449597153820731 0.11336669396811025\n",
       "194962070629201005 207.06294605 ... 0.0036492641627717056  0.1795038049154313\n",
       "194962070583121611 207.05858533 ...  0.003255686833876511 0.18498379095408174\n",
       "194962070604421049 207.06062466 ...  0.003186196315121414 0.18558987558276424\n",
       "194962070693028149 207.06930036 ... 0.0027211211233817674  0.2007801436413031\n",
       "194962070530925676 207.05309167 ... 0.0022525114671399357    0.22419957775476\n",
       "194962070764472218 207.07633366 ...  0.003119111384398808 0.23329485719850837\n",
       "194962070569838430  207.0578546 ...  0.003374581209827869 0.23603444468990473"
      ]
     },
     "execution_count": 7,
     "metadata": {},
     "output_type": "execute_result"
    }
   ],
   "source": [
    "convert_mags_to_flux(survey.catalog)"
   ]
  },
  {
   "cell_type": "markdown",
   "metadata": {},
   "source": [
    "### WISE"
   ]
  },
  {
   "cell_type": "code",
   "execution_count": 6,
   "metadata": {},
   "outputs": [
    {
     "data": {
      "text/html": [
       "<i>Table length=1</i>\n",
       "<table id=\"table139671937665296\" class=\"table-striped table-bordered table-condensed\">\n",
       "<thead><tr><th>source_id</th><th>ra</th><th>dec</th><th>tmass_key</th><th>WISE_W1</th><th>WISE_W2</th><th>WISE_W3</th><th>WISE_W4</th><th>WISE_W1_err</th><th>WISE_W2_err</th><th>WISE_W3_err</th><th>WISE_W4_err</th><th>ph_qual</th><th>moon_lev</th></tr></thead>\n",
       "<thead><tr><th>str20</th><th>float64</th><th>float64</th><th>int64</th><th>float64</th><th>float64</th><th>float64</th><th>float64</th><th>float64</th><th>float64</th><th>int64</th><th>int64</th><th>str4</th><th>int64</th></tr></thead>\n",
       "<tr><td>3263m409_ac51-031287</td><td>326.1052734</td><td>-40.9002904</td><td>-999</td><td>16.846</td><td>16.062</td><td>11.691</td><td>8.501</td><td>0.102</td><td>0.185</td><td>-999</td><td>-999</td><td>ABUU</td><td>22</td></tr>\n",
       "</table>"
      ],
      "text/plain": [
       "<Table length=1>\n",
       "     source_id            ra         dec     ... WISE_W4_err ph_qual moon_lev\n",
       "       str20           float64     float64   ...    int64      str4   int64  \n",
       "-------------------- ----------- ----------- ... ----------- ------- --------\n",
       "3263m409_ac51-031287 326.1052734 -40.9002904 ...        -999    ABUU       22"
      ]
     },
     "execution_count": 6,
     "metadata": {},
     "output_type": "execute_result"
    }
   ],
   "source": [
    "frb180924 = FRB.by_name(\"FRB180924\")\n",
    "survey = load_survey_by_name(\"WISE\",frb180924.coord,15*u.arcsec)\n",
    "survey.get_catalog()"
   ]
  },
  {
   "cell_type": "code",
   "execution_count": 11,
   "metadata": {},
   "outputs": [
    {
     "data": {
      "text/html": [
       "<i>Table length=1</i>\n",
       "<table id=\"table139671936431888\" class=\"table-striped table-bordered table-condensed\">\n",
       "<thead><tr><th>source_id</th><th>ra</th><th>dec</th><th>tmass_key</th><th>WISE_W1</th><th>WISE_W2</th><th>WISE_W3</th><th>WISE_W4</th><th>WISE_W1_err</th><th>WISE_W2_err</th><th>WISE_W3_err</th><th>WISE_W4_err</th><th>ph_qual</th><th>moon_lev</th><th>z</th></tr></thead>\n",
       "<thead><tr><th>str20</th><th>float64</th><th>float64</th><th>int64</th><th>float64</th><th>float64</th><th>float64</th><th>float64</th><th>float64</th><th>float64</th><th>int64</th><th>int64</th><th>str4</th><th>int64</th><th>float64</th></tr></thead>\n",
       "<tr><td>3263m409_ac51-031287</td><td>326.1052734</td><td>-40.9002904</td><td>-999</td><td>0.05653491951856131</td><td>0.06459371982943986</td><td>0.6672720168587022</td><td>3.3263052157253505</td><td>0.005568680812966024</td><td>0.011999494472175312</td><td>-99</td><td>-99</td><td>ABUU</td><td>22</td><td>0.1</td></tr>\n",
       "</table>"
      ],
      "text/plain": [
       "<Table length=1>\n",
       "     source_id            ra         dec     ... ph_qual moon_lev    z   \n",
       "       str20           float64     float64   ...   str4   int64   float64\n",
       "-------------------- ----------- ----------- ... ------- -------- -------\n",
       "3263m409_ac51-031287 326.1052734 -40.9002904 ...    ABUU       22     0.1"
      ]
     },
     "execution_count": 11,
     "metadata": {},
     "output_type": "execute_result"
    }
   ],
   "source": [
    "convert_mags_to_flux(survey.catalog)"
   ]
  },
  {
   "cell_type": "markdown",
   "metadata": {},
   "source": [
    "## Testing the CIGALE `run` command "
   ]
  },
  {
   "cell_type": "markdown",
   "metadata": {},
   "source": [
    "To run CIGALE, you need photometries and redshifts of each galaxy in your catalog. In addition to this, it is recommended to have a column with unique object IDs (preferably containing \"ID\" in the name). "
   ]
  },
  {
   "cell_type": "code",
   "execution_count": 3,
   "metadata": {},
   "outputs": [
    {
     "name": "stdout",
     "output_type": "stream",
     "text": [
      "Help on function run in module frb.analysis.cigale:\n",
      "\n",
      "run(photometry_table, zcol, data_file='cigale_in.fits', config_file='pcigale.ini', wait_for_input=False, plot=True, outdir=None, compare_obs_model=False, **kwargs)\n",
      "    Input parameters and then run CIGALE.\n",
      "    \n",
      "    Args:\n",
      "        photometry_table (astropy Table):\n",
      "            A table from some photometric catalog with magnitudes and\n",
      "            error measurements. Currently supports\n",
      "            DES, DECaLS, SDSS, Pan-STARRS and WISE\n",
      "        zcol (str):\n",
      "            Name of the column with redshift estimates.\n",
      "        data_file (str, optional):\n",
      "            Path to the photometry data file generated used as input to CIGALE\n",
      "        config_file (str, optional):\n",
      "            Path to the file where CIGALE's configuration generated\n",
      "        wait_for_input (bool, optional):\n",
      "            If true, waits for the user to finish editing the auto-generated config file\n",
      "            before running.\n",
      "        plot (bool, optional):\n",
      "            Plots the best fit SED if true\n",
      "        cores (int, optional):\n",
      "            Number of CPU cores to be used. Defaults\n",
      "            to all cores on the system.\n",
      "        outdir (str, optional):\n",
      "            Path to the many outputs of CIGALE\n",
      "            If not supplied, the outputs will appear in a folder named out/\n",
      "        compare_obs_model (bool, optional):\n",
      "            If True compare the input observed fluxes with the model fluxes\n",
      "            This writes a Table to outdir named 'photo_observed_model.dat'\n",
      "    \n",
      "    kwargs:  These are passed into _initialise()\n",
      "        sed_modules (list of 'str', optional):\n",
      "            A list of SED modules to be used in the \n",
      "            PDF analysis. If this is being input, there\n",
      "            should be a corresponding correct dict\n",
      "            for sed_modules_params.\n",
      "        sed_module_params (dict, optional):\n",
      "            A dict containing parameter values for\n",
      "            the input SED modules. Better not use this\n",
      "            unless you know exactly what you're doing.\n",
      "\n"
     ]
    }
   ],
   "source": [
    "help(cigale.run)"
   ]
  },
  {
   "cell_type": "code",
   "execution_count": 2,
   "metadata": {},
   "outputs": [],
   "source": [
    "frb180924 = FRB.by_name(\"FRB180924\")\n",
    "survey = load_survey_by_name(\"DES\",frb180924.coord,15*u.arcsec)\n",
    "survey.get_catalog()\n",
    "cat = survey.catalog\n",
    "cat['z'] = 0.1*np.ones(len(cat)) # Add redshifts"
   ]
  },
  {
   "cell_type": "code",
   "execution_count": 3,
   "metadata": {},
   "outputs": [
    {
     "data": {
      "text/html": [
       "<i>Table length=2</i>\n",
       "<table id=\"table140569840963536\" class=\"table-striped table-bordered table-condensed\">\n",
       "<thead><tr><th>DES_g</th><th>DES_g_err</th><th>DES_r</th><th>DES_r_err</th><th>DES_i</th><th>DES_i_err</th><th>DES_z</th><th>DES_z_err</th><th>DES_Y</th><th>DES_Y_err</th><th>DES_ID</th><th>ra</th><th>dec</th><th>DES_tile</th><th>WISE_W1</th><th>WISE_W1_err</th><th>WISE_W2</th><th>WISE_W2_err</th><th>WISE_W3</th><th>WISE_W3_err</th><th>WISE_W4</th><th>WISE_W4_err</th><th>z</th></tr></thead>\n",
       "<thead><tr><th>float64</th><th>float64</th><th>float64</th><th>float64</th><th>float64</th><th>float64</th><th>float64</th><th>float64</th><th>float64</th><th>float64</th><th>int64</th><th>float64</th><th>float64</th><th>str12</th><th>float64</th><th>float64</th><th>float64</th><th>float64</th><th>float64</th><th>float64</th><th>float64</th><th>float64</th><th>float64</th></tr></thead>\n",
       "<tr><td>25.0468</td><td>0.305723</td><td>24.5441</td><td>0.301756</td><td>23.923</td><td>0.293647</td><td>23.463</td><td>0.271636</td><td>24.7709</td><td>2.66629</td><td>209914542</td><td>326.101627</td><td>-40.899805</td><td>DES2143-4040</td><td>-999.0</td><td>-999.0</td><td>-999.0</td><td>-999.0</td><td>-999.0</td><td>-999.0</td><td>-999.0</td><td>-999.0</td><td>0.1</td></tr>\n",
       "<tr><td>21.6222</td><td>0.0269829</td><td>20.5415</td><td>0.0156388</td><td>20.1379</td><td>0.0186293</td><td>19.8547</td><td>0.0200389</td><td>19.8083</td><td>0.0564316</td><td>209914488</td><td>326.105209</td><td>-40.900226</td><td>DES2143-4040</td><td>16.846</td><td>0.102</td><td>16.062</td><td>0.185</td><td>11.691</td><td>-999.0</td><td>8.501</td><td>-999.0</td><td>0.1</td></tr>\n",
       "</table>"
      ],
      "text/plain": [
       "<Table length=2>\n",
       " DES_g  DES_g_err  DES_r  DES_r_err ... WISE_W3_err WISE_W4 WISE_W4_err    z   \n",
       "float64  float64  float64  float64  ...   float64   float64   float64   float64\n",
       "------- --------- ------- --------- ... ----------- ------- ----------- -------\n",
       "25.0468  0.305723 24.5441  0.301756 ...      -999.0  -999.0      -999.0     0.1\n",
       "21.6222 0.0269829 20.5415 0.0156388 ...      -999.0   8.501      -999.0     0.1"
      ]
     },
     "execution_count": 3,
     "metadata": {},
     "output_type": "execute_result"
    }
   ],
   "source": [
    "cat"
   ]
  },
  {
   "cell_type": "code",
   "execution_count": 4,
   "metadata": {},
   "outputs": [
    {
     "name": "stdout",
     "output_type": "stream",
     "text": [
      "No radio module found. Options are: radio.\n",
      "Initialising the analysis module... \n",
      "The out/ directory was renamed to 2020-01-07_12:05:12_out/\n",
      "\n",
      "Processing block 1/1...\n",
      "\n",
      "Computing models ...\n",
      "16800/16800 computed in 19.0 seconds (884.5/s)\n",
      "\n",
      "Estimating the physical properties ...\n",
      "2/2 computed in 3.5 seconds (0.6/s)\n",
      "\n",
      "Block processed.\n",
      "\n",
      "Estimating physical properties on all blocks\n",
      "\n",
      "Computing the best fit spectra\n",
      "2/2 computed in 0.5 seconds (4.3/s)\n",
      "1/2 computed in 0.5 seconds (2.2/s)\n",
      "0.0% of the objects have chi^2_red~0 and 0.0% chi^2_red<0.5\n",
      "\n",
      "Saving the analysis results...\n",
      "Run completed!\n"
     ]
    }
   ],
   "source": [
    "cigale.run(survey.catalog,\"z\",compare_obs_model=True,plot=True)"
   ]
  },
  {
   "cell_type": "markdown",
   "metadata": {},
   "source": [
    "## Outputs"
   ]
  },
  {
   "cell_type": "code",
   "execution_count": 5,
   "metadata": {},
   "outputs": [
    {
     "name": "stdout",
     "output_type": "stream",
     "text": [
      "209914488_best_model.fits  209914542_SFH.fits  photo_observed_model.dat\r\n",
      "209914488_best_model.pdf   observations.fits   results.fits\r\n",
      "209914488_SFH.fits         observations.txt    results.txt\r\n",
      "209914542_best_model.fits  \u001b[0m\u001b[01;32mpcigale.ini\u001b[0m*\r\n",
      "209914542_best_model.pdf   \u001b[01;32mpcigale.ini.spec\u001b[0m*\r\n"
     ]
    }
   ],
   "source": [
    "ls out/"
   ]
  },
  {
   "cell_type": "code",
   "execution_count": 7,
   "metadata": {},
   "outputs": [
    {
     "data": {
      "text/html": [
       "<i>Table length=2</i>\n",
       "<table id=\"table140569026039888\" class=\"table-striped table-bordered table-condensed\">\n",
       "<thead><tr><th>id</th><th>bayes.agn.fracAGN_dale2014</th><th>bayes.agn.fracAGN_dale2014_err</th><th>bayes.attenuation.B_B90</th><th>bayes.attenuation.B_B90_err</th><th>bayes.attenuation.E_BVs.nebular.continuum_old</th><th>bayes.attenuation.E_BVs.nebular.continuum_old_err</th><th>bayes.attenuation.E_BVs.nebular.continuum_young</th><th>bayes.attenuation.E_BVs.nebular.continuum_young_err</th><th>bayes.attenuation.E_BVs.nebular.lines_old</th><th>bayes.attenuation.E_BVs.nebular.lines_old_err</th><th>bayes.attenuation.E_BVs.nebular.lines_young</th><th>bayes.attenuation.E_BVs.nebular.lines_young_err</th><th>bayes.attenuation.E_BVs.stellar.old</th><th>bayes.attenuation.E_BVs.stellar.old_err</th><th>bayes.attenuation.E_BVs.stellar.young</th><th>bayes.attenuation.E_BVs.stellar.young_err</th><th>bayes.attenuation.FUV</th><th>bayes.attenuation.FUV_err</th><th>bayes.attenuation.V_B90</th><th>bayes.attenuation.V_B90_err</th><th>bayes.attenuation.ebvs_old_factor</th><th>bayes.attenuation.ebvs_old_factor_err</th><th>bayes.attenuation.powerlaw_slope</th><th>bayes.attenuation.powerlaw_slope_err</th><th>bayes.attenuation.uv_bump_amplitude</th><th>bayes.attenuation.uv_bump_amplitude_err</th><th>bayes.attenuation.uv_bump_wavelength</th><th>bayes.attenuation.uv_bump_wavelength_err</th><th>bayes.attenuation.uv_bump_width</th><th>bayes.attenuation.uv_bump_width_err</th><th>bayes.dust.alpha</th><th>bayes.dust.alpha_err</th><th>bayes.nebular.f_dust</th><th>bayes.nebular.f_dust_err</th><th>bayes.nebular.f_esc</th><th>bayes.nebular.f_esc_err</th><th>bayes.nebular.lines_width</th><th>bayes.nebular.lines_width_err</th><th>bayes.nebular.logU</th><th>bayes.nebular.logU_err</th><th>bayes.param.EW(500.7/1.0)</th><th>bayes.param.EW(500.7/1.0)_err</th><th>bayes.param.EW(656.3/1.0)</th><th>bayes.param.EW(656.3/1.0)_err</th><th>bayes.param.restframe_u_prime-r_prime</th><th>bayes.param.restframe_u_prime-r_prime_err</th><th>bayes.sfh.age</th><th>bayes.sfh.age_err</th><th>bayes.sfh.age_burst</th><th>bayes.sfh.age_burst_err</th><th>bayes.sfh.age_main</th><th>bayes.sfh.age_main_err</th><th>bayes.sfh.f_burst</th><th>bayes.sfh.f_burst_err</th><th>bayes.sfh.tau_burst</th><th>bayes.sfh.tau_burst_err</th><th>bayes.sfh.tau_main</th><th>bayes.sfh.tau_main_err</th><th>bayes.stellar.age_m_star</th><th>bayes.stellar.age_m_star_err</th><th>bayes.stellar.imf</th><th>bayes.stellar.imf_err</th><th>bayes.stellar.metallicity</th><th>bayes.stellar.metallicity_err</th><th>bayes.stellar.old_young_separation_age</th><th>bayes.stellar.old_young_separation_age_err</th><th>bayes.universe.age</th><th>bayes.universe.age_err</th><th>bayes.universe.luminosity_distance</th><th>bayes.universe.luminosity_distance_err</th><th>bayes.universe.redshift</th><th>bayes.universe.redshift_err</th><th>bayes.attenuation.nebular.continuum_old</th><th>bayes.attenuation.nebular.continuum_old_err</th><th>bayes.attenuation.nebular.continuum_young</th><th>bayes.attenuation.nebular.continuum_young_err</th><th>bayes.attenuation.nebular.lines_old</th><th>bayes.attenuation.nebular.lines_old_err</th><th>bayes.attenuation.nebular.lines_young</th><th>bayes.attenuation.nebular.lines_young_err</th><th>bayes.attenuation.stellar.old</th><th>bayes.attenuation.stellar.old_err</th><th>bayes.attenuation.stellar.young</th><th>bayes.attenuation.stellar.young_err</th><th>bayes.dust.luminosity</th><th>bayes.dust.luminosity_err</th><th>bayes.param.restframe_Lnu(r_prime)</th><th>bayes.param.restframe_Lnu(r_prime)_err</th><th>bayes.param.restframe_Lnu(u_prime)</th><th>bayes.param.restframe_Lnu(u_prime)_err</th><th>bayes.sfh.integrated</th><th>bayes.sfh.integrated_err</th><th>bayes.sfh.sfr</th><th>bayes.sfh.sfr_err</th><th>bayes.sfh.sfr100Myrs</th><th>bayes.sfh.sfr100Myrs_err</th><th>bayes.sfh.sfr10Myrs</th><th>bayes.sfh.sfr10Myrs_err</th><th>bayes.stellar.lum</th><th>bayes.stellar.lum_err</th><th>bayes.stellar.lum_ly</th><th>bayes.stellar.lum_ly_err</th><th>bayes.stellar.lum_ly_old</th><th>bayes.stellar.lum_ly_old_err</th><th>bayes.stellar.lum_ly_young</th><th>bayes.stellar.lum_ly_young_err</th><th>bayes.stellar.lum_old</th><th>bayes.stellar.lum_old_err</th><th>bayes.stellar.lum_young</th><th>bayes.stellar.lum_young_err</th><th>bayes.stellar.m_gas</th><th>bayes.stellar.m_gas_err</th><th>bayes.stellar.m_gas_old</th><th>bayes.stellar.m_gas_old_err</th><th>bayes.stellar.m_gas_young</th><th>bayes.stellar.m_gas_young_err</th><th>bayes.stellar.m_star</th><th>bayes.stellar.m_star_err</th><th>bayes.stellar.m_star_old</th><th>bayes.stellar.m_star_old_err</th><th>bayes.stellar.m_star_young</th><th>bayes.stellar.m_star_young_err</th><th>bayes.stellar.n_ly</th><th>bayes.stellar.n_ly_err</th><th>bayes.stellar.n_ly_old</th><th>bayes.stellar.n_ly_old_err</th><th>bayes.stellar.n_ly_young</th><th>bayes.stellar.n_ly_young_err</th><th>bayes.DES_Y</th><th>bayes.DES_Y_err</th><th>bayes.DES_g</th><th>bayes.DES_g_err</th><th>bayes.DES_i</th><th>bayes.DES_i_err</th><th>bayes.DES_r</th><th>bayes.DES_r_err</th><th>bayes.DES_z</th><th>bayes.DES_z_err</th><th>bayes.WISE1</th><th>bayes.WISE1_err</th><th>bayes.WISE2</th><th>bayes.WISE2_err</th><th>bayes.WISE3</th><th>bayes.WISE3_err</th><th>bayes.WISE4</th><th>bayes.WISE4_err</th><th>best.chi_square</th><th>best.reduced_chi_square</th><th>best.agn.fracAGN_dale2014</th><th>best.attenuation.B_B90</th><th>best.attenuation.E_BVs.nebular.continuum_old</th><th>best.attenuation.E_BVs.nebular.continuum_young</th><th>best.attenuation.E_BVs.nebular.lines_old</th><th>best.attenuation.E_BVs.nebular.lines_young</th><th>best.attenuation.E_BVs.stellar.old</th><th>best.attenuation.E_BVs.stellar.young</th><th>best.attenuation.FUV</th><th>best.attenuation.V_B90</th><th>best.attenuation.ebvs_old_factor</th><th>best.attenuation.powerlaw_slope</th><th>best.attenuation.uv_bump_amplitude</th><th>best.attenuation.uv_bump_wavelength</th><th>best.attenuation.uv_bump_width</th><th>best.dust.alpha</th><th>best.nebular.f_dust</th><th>best.nebular.f_esc</th><th>best.nebular.lines_width</th><th>best.nebular.logU</th><th>best.param.EW(500.7/1.0)</th><th>best.param.EW(656.3/1.0)</th><th>best.param.restframe_u_prime-r_prime</th><th>best.sfh.age</th><th>best.sfh.age_burst</th><th>best.sfh.age_main</th><th>best.sfh.f_burst</th><th>best.sfh.tau_burst</th><th>best.sfh.tau_main</th><th>best.stellar.age_m_star</th><th>best.stellar.imf</th><th>best.stellar.metallicity</th><th>best.stellar.old_young_separation_age</th><th>best.universe.age</th><th>best.universe.luminosity_distance</th><th>best.universe.redshift</th><th>best.attenuation.nebular.continuum_old</th><th>best.attenuation.nebular.continuum_young</th><th>best.attenuation.nebular.lines_old</th><th>best.attenuation.nebular.lines_young</th><th>best.attenuation.stellar.old</th><th>best.attenuation.stellar.young</th><th>best.dust.luminosity</th><th>best.param.restframe_Lnu(r_prime)</th><th>best.param.restframe_Lnu(u_prime)</th><th>best.sfh.integrated</th><th>best.sfh.sfr</th><th>best.sfh.sfr100Myrs</th><th>best.sfh.sfr10Myrs</th><th>best.stellar.lum</th><th>best.stellar.lum_ly</th><th>best.stellar.lum_ly_old</th><th>best.stellar.lum_ly_young</th><th>best.stellar.lum_old</th><th>best.stellar.lum_young</th><th>best.stellar.m_gas</th><th>best.stellar.m_gas_old</th><th>best.stellar.m_gas_young</th><th>best.stellar.m_star</th><th>best.stellar.m_star_old</th><th>best.stellar.m_star_young</th><th>best.stellar.n_ly</th><th>best.stellar.n_ly_old</th><th>best.stellar.n_ly_young</th><th>best.DES_g</th><th>best.DES_r</th><th>best.DES_i</th><th>best.DES_z</th><th>best.DES_Y</th><th>best.WISE1</th><th>best.WISE2</th><th>best.WISE3</th><th>best.WISE4</th></tr></thead>\n",
       "<thead><tr><th></th><th></th><th></th><th></th><th></th><th></th><th></th><th></th><th></th><th></th><th></th><th></th><th></th><th></th><th></th><th></th><th></th><th></th><th></th><th></th><th></th><th></th><th></th><th></th><th></th><th></th><th></th><th></th><th></th><th></th><th></th><th></th><th></th><th></th><th></th><th></th><th></th><th></th><th></th><th></th><th></th><th></th><th></th><th></th><th></th><th></th><th></th><th></th><th></th><th></th><th></th><th></th><th></th><th></th><th></th><th></th><th></th><th></th><th></th><th></th><th></th><th></th><th></th><th></th><th></th><th></th><th></th><th></th><th></th><th></th><th></th><th></th><th></th><th></th><th></th><th></th><th></th><th></th><th></th><th></th><th></th><th></th><th></th><th></th><th></th><th></th><th></th><th></th><th></th><th></th><th></th><th></th><th></th><th></th><th></th><th></th><th></th><th></th><th></th><th></th><th></th><th></th><th></th><th></th><th></th><th></th><th></th><th></th><th></th><th></th><th></th><th></th><th></th><th></th><th></th><th></th><th></th><th></th><th></th><th></th><th></th><th></th><th></th><th></th><th></th><th></th><th></th><th></th><th></th><th></th><th></th><th></th><th></th><th></th><th></th><th></th><th></th><th></th><th></th><th></th><th></th><th></th><th></th><th></th><th></th><th></th><th></th><th></th><th></th><th></th><th></th><th></th><th></th><th></th><th></th><th></th><th></th><th></th><th></th><th></th><th></th><th></th><th></th><th></th><th></th><th></th><th></th><th></th><th></th><th></th><th></th><th></th><th></th><th></th><th></th><th></th><th></th><th></th><th></th><th></th><th></th><th></th><th></th><th></th><th></th><th></th><th></th><th></th><th></th><th></th><th></th><th></th><th></th><th></th><th></th><th></th><th></th><th></th><th></th><th></th><th></th><th></th><th></th><th></th><th></th><th></th><th></th><th></th><th></th><th></th><th></th><th></th><th></th><th>mJy</th><th>mJy</th><th>mJy</th><th>mJy</th><th>mJy</th><th>mJy</th><th>mJy</th><th>mJy</th><th>mJy</th></tr></thead>\n",
       "<thead><tr><th>int64</th><th>float64</th><th>float64</th><th>float64</th><th>float64</th><th>float64</th><th>float64</th><th>float64</th><th>float64</th><th>float64</th><th>float64</th><th>float64</th><th>float64</th><th>float64</th><th>float64</th><th>float64</th><th>float64</th><th>float64</th><th>float64</th><th>float64</th><th>float64</th><th>float64</th><th>float64</th><th>float64</th><th>float64</th><th>float64</th><th>float64</th><th>float64</th><th>float64</th><th>float64</th><th>float64</th><th>float64</th><th>float64</th><th>float64</th><th>float64</th><th>float64</th><th>float64</th><th>float64</th><th>float64</th><th>float64</th><th>float64</th><th>float64</th><th>float64</th><th>float64</th><th>float64</th><th>float64</th><th>float64</th><th>float64</th><th>float64</th><th>float64</th><th>float64</th><th>float64</th><th>float64</th><th>float64</th><th>float64</th><th>float64</th><th>float64</th><th>float64</th><th>float64</th><th>float64</th><th>float64</th><th>float64</th><th>float64</th><th>float64</th><th>float64</th><th>float64</th><th>float64</th><th>float64</th><th>float64</th><th>float64</th><th>float64</th><th>float64</th><th>float64</th><th>float64</th><th>float64</th><th>float64</th><th>float64</th><th>float64</th><th>float64</th><th>float64</th><th>float64</th><th>float64</th><th>float64</th><th>float64</th><th>float64</th><th>float64</th><th>float64</th><th>float64</th><th>float64</th><th>float64</th><th>float64</th><th>float64</th><th>float64</th><th>float64</th><th>float64</th><th>float64</th><th>float64</th><th>float64</th><th>float64</th><th>float64</th><th>float64</th><th>float64</th><th>float64</th><th>float64</th><th>float64</th><th>float64</th><th>float64</th><th>float64</th><th>float64</th><th>float64</th><th>float64</th><th>float64</th><th>float64</th><th>float64</th><th>float64</th><th>float64</th><th>float64</th><th>float64</th><th>float64</th><th>float64</th><th>float64</th><th>float64</th><th>float64</th><th>float64</th><th>float64</th><th>float64</th><th>float64</th><th>float64</th><th>float64</th><th>float64</th><th>float64</th><th>float64</th><th>float64</th><th>float64</th><th>float64</th><th>float64</th><th>float64</th><th>float64</th><th>float64</th><th>float64</th><th>float64</th><th>float64</th><th>float64</th><th>float64</th><th>float64</th><th>float64</th><th>float64</th><th>float64</th><th>float64</th><th>float64</th><th>float64</th><th>float64</th><th>float64</th><th>float64</th><th>float64</th><th>float64</th><th>float64</th><th>float64</th><th>float64</th><th>float64</th><th>float64</th><th>float64</th><th>float64</th><th>float64</th><th>float64</th><th>float64</th><th>float64</th><th>float64</th><th>float64</th><th>float64</th><th>float64</th><th>float64</th><th>float64</th><th>float64</th><th>float64</th><th>float64</th><th>float64</th><th>float64</th><th>float64</th><th>float64</th><th>float64</th><th>float64</th><th>float64</th><th>float64</th><th>float64</th><th>float64</th><th>float64</th><th>float64</th><th>float64</th><th>float64</th><th>float64</th><th>float64</th><th>float64</th><th>float64</th><th>float64</th><th>float64</th><th>float64</th><th>float64</th><th>float64</th><th>float64</th><th>float64</th><th>float64</th><th>float64</th><th>float64</th><th>float64</th><th>float64</th><th>float64</th><th>float64</th><th>float64</th><th>float64</th><th>float64</th><th>float64</th><th>float64</th><th>float64</th><th>float64</th><th>float64</th><th>float64</th><th>float64</th><th>float64</th><th>float64</th><th>float64</th><th>float64</th></tr></thead>\n",
       "<tr><td>209914542</td><td>0.10265319651287422</td><td>0.07558696186473438</td><td>2.3601855019348417</td><td>1.1991384422542277</td><td>0.47113336322627936</td><td>0.2400208063480193</td><td>0.47113336322627936</td><td>0.2400208063480193</td><td>0.47113336322627936</td><td>0.2400208063480193</td><td>0.47113336322627936</td><td>0.2400208063480193</td><td>0.47113336322627936</td><td>0.2400208063480193</td><td>0.47113336322627936</td><td>0.2400208063480193</td><td>4.765506260357607</td><td>2.424206426785208</td><td>1.9048457355260133</td><td>0.9682151748581753</td><td>1.0</td><td>0.0</td><td>0.0</td><td>0.0</td><td>0.0</td><td>0.0</td><td>217.49999999999994</td><td>5.684341886080802e-14</td><td>35.0</td><td>0.0</td><td>2.0</td><td>0.0</td><td>0.0</td><td>0.0</td><td>0.0</td><td>0.0</td><td>300.0</td><td>0.0</td><td>-2.0</td><td>0.0</td><td>0.864718205606048</td><td>2.3504809959980264</td><td>1.6916225922343964</td><td>3.7800988418786727</td><td>2.016250649173815</td><td>0.6295081436287228</td><td>3777.9207891521737</td><td>2718.265787781422</td><td>19.999999999999996</td><td>3.552713678800501e-15</td><td>3777.9207891521737</td><td>2718.265787781422</td><td>0.0</td><td>0.0</td><td>49.99999999999999</td><td>7.105427357601002e-15</td><td>262.2539014342263</td><td>315.7882004072654</td><td>3335.397259224269</td><td>2691.3128324705394</td><td>1.0</td><td>0.0</td><td>0.011766005663766487</td><td>0.016338026679084933</td><td>9.999999999999998</td><td>1.7763568394002505e-15</td><td>12457.063649431224</td><td>3.637978807091713e-12</td><td>1.4152197720423436e+25</td><td>0.0</td><td>0.09999999999999999</td><td>1.3877787807814457e-17</td><td>4.13426412373824e+31</td><td>5.711555748362575e+31</td><td>7.704555895124209e+32</td><td>2.248763864416448e+33</td><td>8.355266247523453e+31</td><td>1.0806330121435372e+32</td><td>1.5718443442817492e+33</td><td>4.459791766769753e+33</td><td>4.988598799521011e+34</td><td>4.381512483721603e+34</td><td>8.81070376429965e+33</td><td>2.3330200324832096e+34</td><td>6.116388699701656e+34</td><td>6.635915386981173e+34</td><td>1.6754859052657902e+19</td><td>1.0383630298357458e+18</td><td>3.0327442585447926e+18</td><td>1.63923460771547e+18</td><td>200320790.46922413</td><td>200403187.39880314</td><td>0.004617207467043068</td><td>0.01205363185212251</td><td>0.004878257512396643</td><td>0.01249546760874372</td><td>0.004639800259529555</td><td>0.012092416712201936</td><td>8.580453530723594e+34</td><td>7.068802560948031e+34</td><td>3.1474874697110587e+33</td><td>8.347740817589051e+33</td><td>1.879386050230585e+32</td><td>1.7786393664668247e+32</td><td>2.959548864688e+33</td><td>8.252235160081458e+33</td><td>7.371279871661663e+34</td><td>4.8314641737698435e+34</td><td>1.2091736590619347e+34</td><td>3.155378330758284e+34</td><td>93175917.96081553</td><td>98647570.39938815</td><td>93173296.08716904</td><td>98649102.15421802</td><td>2621.8736464920707</td><td>7081.2375448304565</td><td>107144872.50711876</td><td>102111650.19467898</td><td>107101096.37945978</td><td>102134363.10539143</td><td>43776.12765897059</td><td>114027.49933420256</td><td>8.97277440143654e+50</td><td>2.379798504395509e+51</td><td>4.5844452752761247e+49</td><td>5.543709824248255e+49</td><td>8.514329873908927e+50</td><td>2.3420233400665662e+51</td><td>0.0016876812312570282</td><td>0.0003453857000871282</td><td>0.00027386696825404985</td><td>7.140059524219485e-05</td><td>0.0009984464088849273</td><td>5.578835662735609e-05</td><td>0.0006068881306418539</td><td>5.581787086077655e-05</td><td>0.0014214280245434074</td><td>0.00021725178843803866</td><td>0.003274884415732941</td><td>0.0022733980651738405</td><td>0.002612434894435459</td><td>0.0019629505574720253</td><td>0.0140208428688698</td><td>0.014397311615078155</td><td>0.020362273455207556</td><td>0.0211718291893867</td><td>14.827479478388398</td><td>1.8534349347985497</td><td>0.2</td><td>4.311640596085016</td><td>0.86</td><td>0.86</td><td>0.86</td><td>0.86</td><td>0.86</td><td>0.86</td><td>8.739493331806761</td><td>3.4682551991753305</td><td>1.0</td><td>0.0</td><td>0.0</td><td>217.5</td><td>35.0</td><td>2.0</td><td>0.0</td><td>0.0</td><td>300.0</td><td>-2.0</td><td>0.16741457224336737</td><td>1.0634455091388613</td><td>0.9283719552240394</td><td>5994.0</td><td>20.0</td><td>5994.0</td><td>0.0</td><td>50.0</td><td>1000.0</td><td>4042.8078011627285</td><td>1.0</td><td>0.0004</td><td>10.0</td><td>12457.063649431228</td><td>1.4152197720423436e+25</td><td>0.1</td><td>1.0254262419766055e+32</td><td>1.2000148900203676e+33</td><td>1.9074696459617044e+32</td><td>2.232234639327815e+33</td><td>9.963410733140913e+34</td><td>9.316735323123057e+33</td><td>1.126763817726742e+35</td><td>1.5754060157622184e+19</td><td>6.699520454596563e+18</td><td>336535272.65539944</td><td>0.005123805293130329</td><td>0.00534082351260652</td><td>0.005143063808608143</td><td>1.3652595829323425e+35</td><td>4.54179367931597e+33</td><td>4.069398773295658e+32</td><td>4.134853801986404e+33</td><td>1.2299411821705769e+35</td><td>1.3531840076176567e+34</td><td>159815190.54415193</td><td>159812727.3010247</td><td>2463.243127235421</td><td>176720082.12974292</td><td>176671114.71628854</td><td>48967.41345441174</td><td>1.268999521607654e+51</td><td>9.990080256021887e+49</td><td>1.1690987190474353e+51</td><td>0.00033772342492053214</td><td>0.0005723457207743572</td><td>0.0009787705949424758</td><td>0.0014697231093382186</td><td>0.0017561661720113322</td><td>0.0053807610232084685</td><td>0.004914311863908245</td><td>0.028279899441657454</td><td>0.042158682692117665</td></tr>\n",
       "<tr><td>209914488</td><td>0.11215194827232314</td><td>0.07506467623828443</td><td>1.7070522991750041</td><td>0.6452443466180182</td><td>0.33951113294371904</td><td>0.12678722316548507</td><td>0.33951113294371904</td><td>0.12678722316548507</td><td>0.33951113294371904</td><td>0.12678722316548507</td><td>0.33951113294371904</td><td>0.12678722316548507</td><td>0.33951113294371904</td><td>0.12678722316548507</td><td>0.33951113294371904</td><td>0.12678722316548507</td><td>3.4266720255116407</td><td>1.2795164764419253</td><td>1.374469255964486</td><td>0.5143598358218114</td><td>1.0</td><td>0.0</td><td>0.0</td><td>0.0</td><td>0.0</td><td>0.0</td><td>217.49999999999994</td><td>5.684341886080802e-14</td><td>34.99999999999999</td><td>7.105427357601002e-15</td><td>2.0</td><td>0.0</td><td>0.0</td><td>0.0</td><td>0.0</td><td>0.0</td><td>299.99999999999994</td><td>5.684341886080802e-14</td><td>-2.0</td><td>0.0</td><td>0.23221382456476306</td><td>0.7807965366187042</td><td>0.4399093860825536</td><td>1.2040027666873618</td><td>2.2602681625495475</td><td>0.3113502918154861</td><td>2854.19854671248</td><td>2190.567364684557</td><td>20.0</td><td>0.0</td><td>2854.19854671248</td><td>2190.567364684557</td><td>0.0</td><td>0.0</td><td>49.99999999999999</td><td>7.105427357601002e-15</td><td>160.3123857873963</td><td>236.07772960286454</td><td>2541.4362044964055</td><td>2046.6838810370577</td><td>1.0</td><td>0.0</td><td>0.015353400159681153</td><td>0.019589110791680586</td><td>10.0</td><td>0.0</td><td>12457.063649431226</td><td>1.8189894035458565e-12</td><td>1.4152197720423433e+25</td><td>2147483648.0</td><td>0.09999999999999999</td><td>1.3877787807814457e-17</td><td>6.030542124834723e+32</td><td>5.1309925921282685e+32</td><td>3.380565642182492e+33</td><td>1.316539032362994e+34</td><td>1.2265621562961726e+33</td><td>9.67773864079419e+32</td><td>6.767163312104114e+33</td><td>2.575971292084682e+34</td><td>7.760234423512716e+35</td><td>5.507208163228158e+35</td><td>3.120806115036157e+34</td><td>1.0664355356868621e+35</td><td>8.192088488246995e+35</td><td>6.273675330256983e+35</td><td>5.3912904077554215e+20</td><td>2.695645203877711e+19</td><td>6.9678121947883405e+19</td><td>1.877004646642677e+19</td><td>3197978162.0497746</td><td>1708628483.0710962</td><td>0.01733288619545301</td><td>0.058902558728381016</td><td>0.01912550976594111</td><td>0.06345557765277582</td><td>0.01748131522306582</td><td>0.05928316568083837</td><td>1.4352488454292888e+36</td><td>6.062352339392986e+35</td><td>1.6245373720076263e+34</td><td>4.9835443724464e+34</td><td>3.143876342402215e+33</td><td>1.774697595149254e+33</td><td>1.3101497377674044e+34</td><td>4.89316830804086e+34</td><td>1.3888793499974562e+36</td><td>5.2124705883061515e+35</td><td>4.636949543183276e+34</td><td>1.587892873328625e+35</td><td>1453543152.5251331</td><td>905731623.6354024</td><td>1453534106.5760274</td><td>905734775.7658544</td><td>9045.949106081496</td><td>29449.09136639557</td><td>1744435009.518047</td><td>805192962.4886996</td><td>1744269242.3215163</td><td>805242506.4187628</td><td>165767.19653082747</td><td>563677.3205908604</td><td>4.4145897259623696e+51</td><td>1.4043216522946123e+52</td><td>7.044471551328524e+50</td><td>4.838769311284798e+50</td><td>3.710142570829518e+51</td><td>1.3719016145371455e+52</td><td>0.04794339209333121</td><td>0.0019856129091145387</td><td>0.008375106355913304</td><td>0.0006417236595443007</td><td>0.031029175063760583</td><td>0.0007992312694040495</td><td>0.019895928793779584</td><td>0.0008220387803533175</td><td>0.04172623887333794</td><td>0.0014688920110146578</td><td>0.05835900710719939</td><td>0.006987469122698057</td><td>0.04467159054177852</td><td>0.00739418571357555</td><td>0.18940721183720738</td><td>0.12985691543426883</td><td>0.27093938678755647</td><td>0.1902777448225148</td><td>5.892080458133542</td><td>0.7365100572666927</td><td>0.05</td><td>1.2491939785928596</td><td>0.25</td><td>0.25</td><td>0.25</td><td>0.25</td><td>0.25</td><td>0.25</td><td>2.5494274321608996</td><td>1.0110417179789262</td><td>1.0</td><td>0.0</td><td>0.0</td><td>217.5</td><td>35.0</td><td>2.0</td><td>0.0</td><td>0.0</td><td>300.0</td><td>-2.0</td><td>0.005690998305157191</td><td>0.1635071870089905</td><td>2.584307063318549</td><td>1291.0</td><td>20.0</td><td>1291.0</td><td>0.0</td><td>50.0</td><td>129.1549665014884</td><td>1030.2009172503535</td><td>1.0</td><td>0.05</td><td>10.0</td><td>12457.063649431228</td><td>1.4152197720423436e+25</td><td>0.1</td><td>1.6531326350969224e+32</td><td>3.963727171171442e+32</td><td>3.743458464338709e+32</td><td>8.975715386794185e+32</td><td>4.0557875795024284e+35</td><td>1.156713970906643e+34</td><td>4.189795010250494e+35</td><td>5.509691853740429e+20</td><td>5.098054629662822e+19</td><td>1750775427.6292913</td><td>0.006224216793337007</td><td>0.00895551920970949</td><td>0.00642368924578031</td><td>1.123235052700782e+36</td><td>3.370104864462389e+33</td><td>1.3161153850564838e+33</td><td>2.0539894794059047e+33</td><td>1.1074763814371366e+36</td><td>1.575867126364549e+34</td><td>694218705.2392335</td><td>694213685.9894239</td><td>5019.2498096636355</td><td>1056556722.4000013</td><td>1056497504.7474086</td><td>59217.6525925848</td><td>9.212478845825407e+50</td><td>2.711381440066936e+50</td><td>6.501097405758471e+50</td><td>0.008350853521867865</td><td>0.020504360549851032</td><td>0.03067039203930872</td><td>0.04019102800657864</td><td>0.04729413025152934</td><td>0.06323571021756548</td><td>0.05087646070163933</td><td>0.09962104574289546</td><td>0.13191570009051434</td></tr>\n",
       "</table>"
      ],
      "text/plain": [
       "<Table length=2>\n",
       "    id    bayes.agn.fracAGN_dale2014 ...      best.WISE4     \n",
       "                                     ...         mJy         \n",
       "  int64            float64           ...       float64       \n",
       "--------- -------------------------- ... --------------------\n",
       "209914542        0.10265319651287422 ... 0.042158682692117665\n",
       "209914488        0.11215194827232314 ...  0.13191570009051434"
      ]
     },
     "execution_count": 7,
     "metadata": {},
     "output_type": "execute_result"
    }
   ],
   "source": [
    "results = Table.read(\"out/results.fits\")\n",
    "results"
   ]
  }
 ],
 "metadata": {
  "kernelspec": {
   "display_name": "Python 3",
   "language": "python",
   "name": "python3"
  },
  "language_info": {
   "codemirror_mode": {
    "name": "ipython",
    "version": 3
   },
   "file_extension": ".py",
   "mimetype": "text/x-python",
   "name": "python",
   "nbconvert_exporter": "python",
   "pygments_lexer": "ipython3",
   "version": "3.7.4"
  }
 },
 "nbformat": 4,
 "nbformat_minor": 2
}
