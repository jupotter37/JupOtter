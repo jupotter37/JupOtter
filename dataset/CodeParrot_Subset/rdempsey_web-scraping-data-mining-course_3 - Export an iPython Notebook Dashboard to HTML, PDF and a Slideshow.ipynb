{
 "cells": [
  {
   "cell_type": "markdown",
   "metadata": {},
   "source": [
    "# Export an iPython Notebook Dashboard to HTML, PDF and a Slideshow"
   ]
  },
  {
   "cell_type": "markdown",
   "metadata": {},
   "source": [
    "## HTML"
   ]
  },
  {
   "cell_type": "markdown",
   "metadata": {},
   "source": [
    "By default, nbconvert will produce an HTML file. To do that, run the following command:\n",
    "\n",
    "    jupyter nbconvert --to html --execute 'name_of_notebook.ipynb'"
   ]
  },
  {
   "cell_type": "markdown",
   "metadata": {},
   "source": [
    "## PDF"
   ]
  },
  {
   "cell_type": "markdown",
   "metadata": {},
   "source": [
    "To convert a Jupyter (iPython) notebook to a PDF file, you need to first install [Pandoc](http://pandoc.org/installing.html). Pandoc can be installed on Windows, Mac OS X and Linux.\n",
    "\n",
    "Once Pandoc is installed, add the following line to your *~/.jupyter/jupyter_nbconvert_config.py* file. This will ensure a PDF can be generated and it won't timeout while running the notebook. Depending on how much data your notebook needs to import before running, you may need to increase or decrease the timeout value.\n",
    "\n",
    "    c.ExecutePreprocessor.timeout = 300\n",
    "\n",
    "Next you need to install Latex. On the Mac, you can [download MacTeX](http://tug.org/mactex/mactex-download.html). For other operating systems visit the [LaTeX website](https://latex-project.org/ftp.html).\n",
    "\n",
    "If you get an error when trying to convert your notebook to a PDF, I suggest using [wkhtmltopdf](http://wkhtmltopdf.org/downloads.html)."
   ]
  },
  {
   "cell_type": "markdown",
   "metadata": {},
   "source": [
    "To convert a notebook to PDF using LaTeX, use the following command:\n",
    "\n",
    "    jupyter nbconvert --to pdf --execute 'name_of_notebook.ipynb'"
   ]
  },
  {
   "cell_type": "markdown",
   "metadata": {},
   "source": [
    "To convert a notebook to PDF using wkhtmltopdf, do the following:\n",
    "    \n",
    "First, convert the notebook to HTML\n",
    "\n",
    "    jupyter nbconvert --to html --execute 'name_of_notebook.ipynb'\n",
    "\n",
    "Next use wkhtmltopdf to convert the HTML to a PDF\n",
    "\n",
    "    wkhtmltopdf name_of_notebook.html name_of_notebook.pdf"
   ]
  },
  {
   "cell_type": "markdown",
   "metadata": {},
   "source": [
    "## Slideshow"
   ]
  },
  {
   "cell_type": "markdown",
   "metadata": {},
   "source": [
    "Converting a notebook to slides generates a reveal.js HTML slideshow. In order to work correctly, it must be served by a web server.\n",
    "\n",
    "If you produce actual slides from your notebook, [download the reveal.js library](https://github.com/hakimel/reveal.js) to make them interactive.\n",
    "\n",
    "Creating even a single-page slideshow is my preference as I believe it looks the best of all the exported formats."
   ]
  },
  {
   "cell_type": "markdown",
   "metadata": {},
   "source": [
    "To convert the notebook to slides, run the following command:\n",
    "\n",
    "    jupyter nbconvert --to slides --execute 'name_of_notebook.ipynb'"
   ]
  },
  {
   "cell_type": "code",
   "execution_count": null,
   "metadata": {
    "collapsed": true
   },
   "outputs": [],
   "source": []
  }
 ],
 "metadata": {
  "kernelspec": {
   "display_name": "Python 3",
   "language": "python",
   "name": "python3"
  },
  "language_info": {
   "codemirror_mode": {
    "name": "ipython",
    "version": 3
   },
   "file_extension": ".py",
   "mimetype": "text/x-python",
   "name": "python",
   "nbconvert_exporter": "python",
   "pygments_lexer": "ipython3",
   "version": "3.5.1"
  }
 },
 "nbformat": 4,
 "nbformat_minor": 0
}
