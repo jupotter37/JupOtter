{
 "cells": [
  {
   "cell_type": "markdown",
   "metadata": {},
   "source": [
    "# The Halting Problem"
   ]
  },
  {
   "cell_type": "code",
   "execution_count": 75,
   "metadata": {
    "ExecuteTime": {
     "end_time": "2017-12-25T16:53:15.767035",
     "start_time": "2017-12-25T16:53:15.743504"
    }
   },
   "outputs": [],
   "source": [
    "import re\n",
    "\n",
    "def parse_blueprint(input_path):\n",
    "    blueprint = {}\n",
    "    p = re.compile('Begin in state (?P<initial_state>.*).\\nPerform a diagnostic checksum after (?P<steps>.*) steps.')\n",
    "    q = re.compile('In state (?P<state>.*):\\n  If the current value is 0:\\n    - Write the value (?P<write_value_0>.*).\\n    - Move one slot to the (?P<move_0>.*).\\n    - Continue with state (?P<new_state_0>.*).\\n  If the current value is 1:\\n    - Write the value (?P<write_value_1>.*).\\n    - Move one slot to the (?P<move_1>.*).\\n    - Continue with state (?P<new_state_1>.*).')\n",
    "    with open(input_path, 'rt') as f_input:\n",
    "        data = f_input.read()\n",
    "    lines = data.split('\\n\\n')\n",
    "    m = p.search(lines[0])\n",
    "    initial_state = m.group(\"initial_state\")\n",
    "    steps = int(m.group(\"steps\"))\n",
    "    for paragraph in lines[1:]:\n",
    "        m = q.search(paragraph)\n",
    "        blueprint[m.group(\"state\")] = {0: {'write': int(m.group(\"write_value_0\")), 'move': m.group(\"move_0\"), 'continue': m.group(\"new_state_0\")},\n",
    "                                       1: {'write': int(m.group(\"write_value_1\")), 'move': m.group(\"move_1\"), 'continue': m.group(\"new_state_1\")}}\n",
    "    return initial_state, steps, blueprint"
   ]
  },
  {
   "cell_type": "markdown",
   "metadata": {},
   "source": [
    "## Part 1"
   ]
  },
  {
   "cell_type": "code",
   "execution_count": 146,
   "metadata": {
    "ExecuteTime": {
     "end_time": "2017-12-25T18:10:54.631748",
     "start_time": "2017-12-25T18:10:54.586960"
    },
    "collapsed": true
   },
   "outputs": [],
   "source": [
    "class TuringMachine(object):\n",
    "    \n",
    "    def __init__(self, initial_state, blueprint):\n",
    "        self.state = initial_state\n",
    "        self.blueprint = blueprint\n",
    "        self.tape = [0]\n",
    "        self.head = 0\n",
    "        \n",
    "    def update(self):\n",
    "        action = self.blueprint[self.state][self.tape[self.head]]\n",
    "        write, move = action['write'], action['move']\n",
    "        self.tape[self.head] = write\n",
    "        self.head += 1*(move == 'right') - 1*(move == 'left')\n",
    "        if self.head >= len(self.tape): self.tape.append(0)    \n",
    "        if self.head < 0: \n",
    "            self.tape = [0] + self.tape[:]\n",
    "            self.head = 0\n",
    "        self.state = action['continue']\n",
    "\n",
    "def checksum(input_path):\n",
    "    initial_state, steps, blueprint_test = parse_blueprint(input_path)\n",
    "    tm = TuringMachine(initial_state, blueprint_test)\n",
    "    for _ in range(steps):\n",
    "        tm.update()\n",
    "    return sum(tm.tape)"
   ]
  },
  {
   "cell_type": "markdown",
   "metadata": {
    "ExecuteTime": {
     "end_time": "2017-12-24T09:56:31.236291",
     "start_time": "2017-12-24T09:56:04.218824"
    }
   },
   "source": [
    "### Test"
   ]
  },
  {
   "cell_type": "code",
   "execution_count": 147,
   "metadata": {
    "ExecuteTime": {
     "end_time": "2017-12-25T18:11:09.155593",
     "start_time": "2017-12-25T18:11:09.144134"
    }
   },
   "outputs": [],
   "source": [
    "assert(checksum('input.test1.txt') == 3)"
   ]
  },
  {
   "cell_type": "markdown",
   "metadata": {},
   "source": [
    "### Solution"
   ]
  },
  {
   "cell_type": "code",
   "execution_count": 148,
   "metadata": {
    "ExecuteTime": {
     "end_time": "2017-12-25T18:11:49.066730",
     "start_time": "2017-12-25T18:11:36.658715"
    }
   },
   "outputs": [
    {
     "data": {
      "text/plain": [
       "4217"
      ]
     },
     "execution_count": 148,
     "metadata": {},
     "output_type": "execute_result"
    }
   ],
   "source": [
    "checksum('input.txt')"
   ]
  }
 ],
 "metadata": {
  "kernelspec": {
   "display_name": "Python [conda env:adventofcode]",
   "language": "python",
   "name": "conda-env-adventofcode-py"
  },
  "language_info": {
   "codemirror_mode": {
    "name": "ipython",
    "version": 3
   },
   "file_extension": ".py",
   "mimetype": "text/x-python",
   "name": "python",
   "nbconvert_exporter": "python",
   "pygments_lexer": "ipython3",
   "version": "3.5.2"
  },
  "toc": {
   "colors": {
    "hover_highlight": "#DAA520",
    "running_highlight": "#FF0000",
    "selected_highlight": "#FFD700"
   },
   "moveMenuLeft": true,
   "nav_menu": {
    "height": "66px",
    "width": "252px"
   },
   "navigate_menu": true,
   "number_sections": true,
   "sideBar": true,
   "threshold": 4,
   "toc_cell": false,
   "toc_section_display": "block",
   "toc_window_display": false
  }
 },
 "nbformat": 4,
 "nbformat_minor": 2
}
