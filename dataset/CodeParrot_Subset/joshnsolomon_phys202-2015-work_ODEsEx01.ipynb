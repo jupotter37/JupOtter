{
 "cells": [
  {
   "cell_type": "markdown",
   "metadata": {
    "nbgrader": {}
   },
   "source": [
    "# Ordinary Differential Equations Exercise 1"
   ]
  },
  {
   "cell_type": "markdown",
   "metadata": {
    "nbgrader": {}
   },
   "source": [
    "## Imports"
   ]
  },
  {
   "cell_type": "code",
   "execution_count": 88,
   "metadata": {
    "collapsed": false,
    "nbgrader": {}
   },
   "outputs": [],
   "source": [
    "%matplotlib inline\n",
    "import matplotlib.pyplot as plt\n",
    "import numpy as np\n",
    "import seaborn as sns\n",
    "from scipy.integrate import odeint\n",
    "from IPython.html.widgets import interact, fixed"
   ]
  },
  {
   "cell_type": "markdown",
   "metadata": {
    "nbgrader": {}
   },
   "source": [
    "## Euler's method"
   ]
  },
  {
   "cell_type": "markdown",
   "metadata": {
    "nbgrader": {}
   },
   "source": [
    "[Euler's method](http://en.wikipedia.org/wiki/Euler_method) is the simplest numerical approach for solving a first order ODE numerically. Given the differential equation\n",
    "\n",
    "$$ \\frac{dy}{dx} = f(y(x), x) $$\n",
    "\n",
    "with the initial condition:\n",
    "\n",
    "$$ y(x_0)=y_0 $$\n",
    "\n",
    "Euler's method performs updates using the equations:\n",
    "\n",
    "$$ y_{n+1} = y_n + h f(y_n,x_n) $$\n",
    "\n",
    "$$ h = x_{n+1} - x_n $$\n",
    "\n",
    "Write a function `solve_euler` that implements the Euler method for a 1d ODE and follows the specification described in the docstring:"
   ]
  },
  {
   "cell_type": "code",
   "execution_count": 89,
   "metadata": {
    "collapsed": false,
    "nbgrader": {
     "checksum": "970f9fafed818a7c2b3202d7c5f42f7f",
     "solution": true
    }
   },
   "outputs": [],
   "source": [
    "def solve_euler(derivs, y0, x):\n",
    "    \"\"\"Solve a 1d ODE using Euler's method.\n",
    "    \n",
    "    Parameters\n",
    "    ----------\n",
    "    derivs : function\n",
    "        The derivative of the diff-eq with the signature deriv(y,x) where\n",
    "        y and x are floats.\n",
    "    y0 : float\n",
    "        The initial condition y[0] = y(x[0]).\n",
    "    x : np.ndarray, list, tuple\n",
    "        The array of times at which of solve the diff-eq.\n",
    "    \n",
    "    Returns\n",
    "    -------\n",
    "    y : np.ndarray\n",
    "        Array of solutions y[i] = y(x[i])\n",
    "    \"\"\"\n",
    "    y = np.zeros(len(x))\n",
    "    y[0] = y0\n",
    "    h = (x[1]-x[0])\n",
    "    for a in range(1,len(x)):\n",
    "        y[a]=y[a-1]+h*derivs(y[a-1],x[a-1])\n",
    "    return y\n",
    "    \n",
    "    \n",
    "    "
   ]
  },
  {
   "cell_type": "code",
   "execution_count": 90,
   "metadata": {
    "collapsed": false,
    "deletable": false,
    "nbgrader": {
     "checksum": "dde39b8046d2099cf0618eb75d9d49a2",
     "grade": true,
     "grade_id": "odesex01a",
     "points": 2
    }
   },
   "outputs": [],
   "source": [
    "assert np.allclose(solve_euler(lambda y, x: 1, 0, [0,1,2]), [0,1,2])"
   ]
  },
  {
   "cell_type": "markdown",
   "metadata": {
    "nbgrader": {}
   },
   "source": [
    "The [midpoint method]() is another numerical method for solving the above differential equation. In general it is more accurate than the Euler method. It uses the update equation:\n",
    "\n",
    "$$ y_{n+1} = y_n + h f\\left(y_n+\\frac{h}{2}f(y_n,x_n),x_n+\\frac{h}{2}\\right) $$\n",
    "\n",
    "Write a function `solve_midpoint` that implements the midpoint method for a 1d ODE and follows the specification described in the docstring:"
   ]
  },
  {
   "cell_type": "code",
   "execution_count": 91,
   "metadata": {
    "collapsed": true,
    "nbgrader": {
     "checksum": "caba5256e19921e2282330d0b0b85337",
     "solution": true
    }
   },
   "outputs": [],
   "source": [
    "def solve_midpoint(derivs, y0, x):\n",
    "    \"\"\"Solve a 1d ODE using the Midpoint method.\n",
    "    \n",
    "    Parameters\n",
    "    ----------\n",
    "    derivs : function\n",
    "        The derivative of the diff-eq with the signature deriv(y,x) where y\n",
    "        and x are floats.\n",
    "    y0 : float\n",
    "        The initial condition y[0] = y(x[0]).\n",
    "    x : np.ndarray, list, tuple\n",
    "        The array of times at which of solve the diff-eq.\n",
    "    \n",
    "    Returns\n",
    "    -------\n",
    "    y : np.ndarray\n",
    "        Array of solutions y[i] = y(x[i])\n",
    "    \"\"\"\n",
    "    y = np.zeros(len(x))\n",
    "    y[0] = y0\n",
    "    for a in range(1,len(x)):\n",
    "        h = x[a]-x[a-1]\n",
    "        y[a]=y[a-1]+h*derivs(y[a-1]+(h/2)*derivs(y[a-1],x[a-1]),x[a-1]+(h/2))\n",
    "    return y"
   ]
  },
  {
   "cell_type": "code",
   "execution_count": 92,
   "metadata": {
    "collapsed": true,
    "deletable": false,
    "nbgrader": {
     "checksum": "f4e0baef0e112c92e614a6d4101b0045",
     "grade": true,
     "grade_id": "odesex01b",
     "points": 2
    }
   },
   "outputs": [],
   "source": [
    "assert np.allclose(solve_midpoint(lambda y, x: 1, 0, [0,1,2]), [0,1,2])"
   ]
  },
  {
   "cell_type": "markdown",
   "metadata": {
    "nbgrader": {}
   },
   "source": [
    "You are now going to solve the following differential equation:\n",
    "\n",
    "$$\n",
    "\\frac{dy}{dx} = x + 2y\n",
    "$$\n",
    "\n",
    "which has the analytical solution:\n",
    "\n",
    "$$\n",
    "y(x) = 0.25 e^{2x} - 0.5 x - 0.25\n",
    "$$\n",
    "\n",
    "First, write a `solve_exact` function that compute the exact solution and follows the specification described in the docstring:"
   ]
  },
  {
   "cell_type": "code",
   "execution_count": 93,
   "metadata": {
    "collapsed": false,
    "nbgrader": {
     "checksum": "8abaa12752f4606d727cbe599443dc6b",
     "grade": false,
     "grade_id": "",
     "points": 0,
     "solution": true
    }
   },
   "outputs": [],
   "source": [
    "def solve_exact(x):\n",
    "    \"\"\"compute the exact solution to dy/dx = x + 2y.\n",
    "    \n",
    "    Parameters\n",
    "    ----------\n",
    "    x : np.ndarray\n",
    "        Array of x values to compute the solution at.\n",
    "    \n",
    "    Returns\n",
    "    -------\n",
    "    y : np.ndarray\n",
    "        Array of solutions at y[i] = y(x[i]).\n",
    "    \"\"\"\n",
    "    y = (.25)*np.exp(2*x) - (.5*x)-(.25)\n",
    "    return y"
   ]
  },
  {
   "cell_type": "code",
   "execution_count": 94,
   "metadata": {
    "collapsed": false,
    "deletable": false,
    "nbgrader": {
     "checksum": "1234041305bef6ff5b2f7daf4ae33597",
     "grade": true,
     "grade_id": "odesex01c",
     "points": 2
    }
   },
   "outputs": [],
   "source": [
    "assert np.allclose(solve_exact(np.array([0,1,2])),np.array([0., 1.09726402, 12.39953751]))"
   ]
  },
  {
   "cell_type": "markdown",
   "metadata": {
    "nbgrader": {}
   },
   "source": [
    "In the following cell you are going to solve the above ODE using four different algorithms:\n",
    "\n",
    "1. Euler's method\n",
    "2. Midpoint method\n",
    "3. `odeint`\n",
    "4. Exact\n",
    "\n",
    "Here are the details:\n",
    "\n",
    "* Generate an array of x values with $N=11$ points over the interval $[0,1]$ ($h=0.1$).\n",
    "* Define the `derivs` function for the above differential equation.\n",
    "* Using the `solve_euler`, `solve_midpoint`, `odeint` and `solve_exact` functions to compute\n",
    "  the solutions using the 4 approaches.\n",
    "\n",
    "Visualize the solutions on a sigle figure with two subplots:\n",
    "\n",
    "1. Plot the $y(x)$ versus $x$ for each of the 4 approaches.\n",
    "2. Plot $\\left|y(x)-y_{exact}(x)\\right|$ versus $x$ for each of the 3 numerical approaches.\n",
    "\n",
    "Your visualization should have legends, labeled axes, titles and be customized for beauty and effectiveness.\n",
    "\n",
    "While your final plot will use $N=10$ points, first try making $N$ larger and smaller to see how that affects the errors of the different approaches."
   ]
  },
  {
   "cell_type": "code",
   "execution_count": 95,
   "metadata": {
    "collapsed": false,
    "deletable": false,
    "nbgrader": {
     "checksum": "6cff4e8e53b15273846c3aecaea84a3d",
     "solution": true
    }
   },
   "outputs": [],
   "source": [
    "x = np.linspace(0,1,11)\n",
    "def derivs(y,x):\n",
    "    return x + 2*y\n",
    "    "
   ]
  },
  {
   "cell_type": "code",
   "execution_count": 96,
   "metadata": {
    "collapsed": false
   },
   "outputs": [],
   "source": [
    "y1 = solve_euler(derivs, 0, x)\n",
    "y2 = solve_midpoint(derivs, 0, x)\n",
    "y3 = odeint(derivs,0,x)\n",
    "y4 = solve_exact(x)"
   ]
  },
  {
   "cell_type": "code",
   "execution_count": 97,
   "metadata": {
    "collapsed": false
   },
   "outputs": [
    {
     "data": {
      "image/png": "[encoded data removed]",
      "text/plain": [
       "<matplotlib.figure.Figure at 0x7f665e3c7198>"
      ]
     },
     "metadata": {},
     "output_type": "display_data"
    }
   ],
   "source": [
    "plt.subplot(2,2,1) # 2 rows x 1 col, plot 1\n",
    "plt.plot(x,y1) \n",
    "plt.ylabel('Euler\\'s Method')\n",
    "\n",
    "plt.subplot(2,2,2) \n",
    "plt.plot(x,y2) \n",
    "plt.ylabel('Midpoint Method')\n",
    "\n",
    "plt.subplot(2,2,3) \n",
    "plt.plot(x,y3) \n",
    "plt.ylabel('ODE int')\n",
    "plt.xlabel('x')\n",
    "\n",
    "plt.subplot(2,2,4) \n",
    "plt.plot(x,y4) \n",
    "plt.ylabel('Analytic Solution')\n",
    "plt.xlabel('x')\n",
    "\n",
    "plt.tight_layout()"
   ]
  },
  {
   "cell_type": "code",
   "execution_count": 98,
   "metadata": {
    "collapsed": true
   },
   "outputs": [],
   "source": [
    "why3 = []\n",
    "for a in y3:\n",
    "    why3.append(a[0])\n",
    "    "
   ]
  },
  {
   "cell_type": "code",
   "execution_count": 99,
   "metadata": {
    "collapsed": false
   },
   "outputs": [
    {
     "data": {
      "image/png": "[encoded data removed]",
      "text/plain": [
       "<matplotlib.figure.Figure at 0x7f665e2212b0>"
      ]
     },
     "metadata": {},
     "output_type": "display_data"
    }
   ],
   "source": [
    "plt.subplot(3,1,1) \n",
    "plt.plot(x,np.abs(y1-y4)) \n",
    "plt.ylabel('Euler Error')\n",
    "\n",
    "plt.subplot(3,1,2) \n",
    "plt.plot(x,np.abs(y2-y4)) \n",
    "plt.ylabel('Midpoint Error')\n",
    "\n",
    "plt.subplot(3,1,3) \n",
    "plt.plot(x,np.abs(why3-y4)) \n",
    "plt.ylabel('ODE Error')\n",
    "\n",
    "\n",
    "plt.tight_layout()"
   ]
  },
  {
   "cell_type": "code",
   "execution_count": null,
   "metadata": {
    "collapsed": false
   },
   "outputs": [],
   "source": []
  },
  {
   "cell_type": "code",
   "execution_count": 100,
   "metadata": {
    "collapsed": true,
    "deletable": false,
    "nbgrader": {
     "checksum": "7d29baed01ce53d19fe14792b77ab230",
     "grade": true,
     "grade_id": "odesex01d",
     "points": 4
    }
   },
   "outputs": [],
   "source": [
    "assert True # leave this for grading the plots"
   ]
  }
 ],
 "metadata": {
  "kernelspec": {
   "display_name": "Python 3",
   "language": "python",
   "name": "python3"
  },
  "language_info": {
   "codemirror_mode": {
    "name": "ipython",
    "version": 3
   },
   "file_extension": ".py",
   "mimetype": "text/x-python",
   "name": "python",
   "nbconvert_exporter": "python",
   "pygments_lexer": "ipython3",
   "version": "3.4.0"
  }
 },
 "nbformat": 4,
 "nbformat_minor": 0
}
