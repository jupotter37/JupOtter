{
 "cells": [
  {
   "cell_type": "code",
   "execution_count": 1,
   "metadata": {},
   "outputs": [
    {
     "name": "stdout",
     "output_type": "stream",
     "text": [
      "Populating the interactive namespace from numpy and matplotlib\n"
     ]
    }
   ],
   "source": [
    "import numpy as np\n",
    "import os,sys, re\n",
    "import pandas as pd\n",
    "from IPython.display import Markdown\n",
    "import matplotlib\n",
    "matplotlib.rcParams.update({'font.size': 20})\n",
    "%pylab inline\n",
    "sys.path.append(os.path.abspath('../libraries/'))\n",
    "from summary_utils import *"
   ]
  },
  {
   "cell_type": "markdown",
   "metadata": {},
   "source": [
    "#### I have generated iupred results for the whole proteome since we didn't have the scores."
   ]
  },
  {
   "cell_type": "code",
   "execution_count": 2,
   "metadata": {},
   "outputs": [],
   "source": [
    "def read_iupred_results(fileName):\n",
    "    '''\n",
    "        function read files containing the scores from iupred into \n",
    "        the hash results\n",
    "        INPUT:  fileName\n",
    "                results (hash)\n",
    "    '''\n",
    "    results = {}\n",
    "    f = open(fileName, \"r\")\n",
    "    while True:\n",
    "        try:\n",
    "            k,v = next(f), next(f)\n",
    "            k = k.strip()[1:]\n",
    "            results[k] = v.strip().split(',')[:-1]\n",
    "        except StopIteration:\n",
    "            break\n",
    "    f.close()\n",
    "    return results\n",
    "\n",
    "\n",
    "import os,re\n",
    "files = [i for i in os.listdir('../scripts/iupred/') if re.search(\".results$\",i)]\n",
    "\n",
    "disorders = {}\n",
    "for i in files:\n",
    "    d = read_iupred_results('../scripts/iupred/'+i)\n",
    "    disorders.update(d)"
   ]
  },
  {
   "cell_type": "markdown",
   "metadata": {},
   "source": [
    "#### These are old predictions that include sequences and scores from our deep learning model"
   ]
  },
  {
   "cell_type": "code",
   "execution_count": 3,
   "metadata": {},
   "outputs": [],
   "source": [
    "# forgot to add the confidence of secondary_structure_oredictions...\n",
    "path = '../scripts/fastas/'\n",
    "tmp, tnp = [], []\n",
    "for f in [i for i in os.listdir(path) if i[-11:]==\".output.csv\"]:\n",
    "    predsName = f + \".predictions.npz\"\n",
    "\n",
    "    df = pd.read_csv(path + f, index_col=0)\n",
    "    tmp.append(df[['sequence','secondStruct','disorder']])\n",
    "    nf = np.load(path + predsName)\n",
    "    tnp.append(nf[nf.files[0]])\n",
    "\n",
    "predictions = np.hstack(tnp)\n",
    "df = pd.concat(tmp)\n",
    "\n",
    "# finally join all fields into a single data structure to facilitate further analysis\n",
    "df['predictions'] = predictions"
   ]
  },
  {
   "cell_type": "markdown",
   "metadata": {},
   "source": [
    "#### Here I joined both datasets"
   ]
  },
  {
   "cell_type": "code",
   "execution_count": 4,
   "metadata": {},
   "outputs": [],
   "source": [
    "df2 = pd.DataFrame([disorders]).T\n",
    "idx = df2.index.intersection(df.index)\n",
    "df2 = df2.loc[idx]\n",
    "\n",
    "df = pd.concat([df.loc[idx],df2], axis=1)\n",
    "df.columns = ['sequence', 'secondStruct', 'disorder', 'predictions', 'iupred']\n",
    "\n",
    "del(df2)"
   ]
  },
  {
   "cell_type": "markdown",
   "metadata": {},
   "source": [
    "#### Have to define the set of Transcription factors or Nuclear proteins"
   ]
  },
  {
   "cell_type": "code",
   "execution_count": 5,
   "metadata": {},
   "outputs": [
    {
     "name": "stdout",
     "output_type": "stream",
     "text": [
      "175 in tf_full\n",
      "132 in tf_short\n",
      "4802 in total\n",
      "812 in nuclear\n",
      "\n"
     ]
    }
   ],
   "source": [
    "                                        ## SGD ##\n",
    "# collect data from SGD \n",
    "SGD = pd.read_csv('https://downloads.yeastgenome.org/curation/chromosomal_feature/SGD_features.tab', index_col=3, sep='\\t', header=None)\n",
    "SGD = SGD[SGD[1]=='ORF'][4]\n",
    "\n",
    "                                        ## TF ##\n",
    "# Steve's list of TFs\n",
    "# long list including potential NON-TF\n",
    "tf_full = pd.read_csv('../data/TFs.csv')\n",
    "tf_full = tf_full['Systematic name'].values\n",
    "\n",
    "# short list excluding potential False TF\n",
    "tf_short = pd.read_csv('../data/TFs_small.csv')\n",
    "tf_short = tf_short['Systematic name'].values\n",
    "\n",
    "                                        ## Nuclear ##\n",
    "# Are tf enriched in the Nucleus?\n",
    "localization = pd.read_csv('../data/localization/proteomesummarylatestversion_localisation.csv', index_col=0)\n",
    "X = localization.iloc[:,1] \n",
    "nuclear = [i for i in set(X) if re.search(\"nucl\",i)]\n",
    "X = pd.DataFrame([1 if i in nuclear else 0 for i in X], index=localization.index, columns=['loc'])\n",
    "nuclear = X[X['loc']==1].index\n",
    "\n",
    "\n",
    "total_idx = df.index.intersection(X.index)\n",
    "nuclear_idx = nuclear.intersection(total_idx)\n",
    "tf_full_idx = set(tf_full).intersection(total_idx)\n",
    "tf_short_idx = set(tf_short).intersection(total_idx)\n",
    "\n",
    "print('{} in tf_full\\n{} in tf_short\\n{} in total\\n{} in nuclear\\n'.format(\n",
    "    len(tf_full_idx), len(tf_short_idx), len(total_idx), len(nuclear_idx)))"
   ]
  },
  {
   "cell_type": "markdown",
   "metadata": {},
   "source": [
    "#### Predict TADs from the proteome"
   ]
  },
  {
   "cell_type": "code",
   "execution_count": 6,
   "metadata": {},
   "outputs": [
    {
     "name": "stderr",
     "output_type": "stream",
     "text": [
      "/app/easybuild/software/Python/3.6.5-foss-2016b-fh3/lib/python3.6/site-packages/h5py-2.7.1-py3.6-linux-x86_64.egg/h5py/__init__.py:36: FutureWarning: Conversion of the second argument of issubdtype from `float` to `np.floating` is deprecated. In future, it will be treated as `np.float64 == np.dtype(float).type`.\n",
      "  from ._conv import register_converters as _register_converters\n",
      "Using TensorFlow backend.\n"
     ]
    }
   ],
   "source": [
    "# load NN model and weights\n",
    "from keras.models import model_from_json\n",
    "\n",
    "# open json model and weights\n",
    "with open(\"../models/deep_model.json\", \"r\") as json_file:\n",
    "    json_model = json_file.read()\n",
    "\n",
    "deep_model = model_from_json(json_model)\n",
    "deep_model.load_weights(\"../models/deep_model.h5\")\n",
    "\n",
    "# set cutoff to predict TADs in the proteome\n",
    "cutoff=0.8 \n",
    "\n",
    "results = np.zeros(shape=(df.shape[0],4))\n",
    "for n,prot in enumerate(df.predictions):\n",
    "    results[n] = predict_motif_statistics(prot, cutoff)\n",
    "    \n",
    "results = pd.DataFrame(results, index=df.index, columns = ['length', 'start_position', 'gral_mean', 'mean_longest_region'])"
   ]
  },
  {
   "cell_type": "markdown",
   "metadata": {},
   "source": [
    "#### In parsed disorder scores there are null values that have to be excluded"
   ]
  },
  {
   "cell_type": "code",
   "execution_count": 7,
   "metadata": {},
   "outputs": [],
   "source": [
    "fixed_disorder = []\n",
    "for n,i in enumerate(df.iupred.values):\n",
    "    i = [t for t in i if t!=\"\"]\n",
    "    fixed_disorder.append(np.array(i).astype(float))\n",
    "    \n",
    "df.iupred = fixed_disorder"
   ]
  },
  {
   "cell_type": "code",
   "execution_count": 9,
   "metadata": {},
   "outputs": [],
   "source": [
    "lenCutoff = 5  # Threshold for defining a potential TAD (more than 5 contiguous residues with score.0.8)\n",
    "flanking = 100 # How many points to consider\n",
    "bins_tad = 20  # Pure legacy now. It's to show more clearly the TAD in the figure\n",
    "\n",
    "\n",
    "# Build distribution of lengths to use building the null hypothesis\n",
    "TADs_idx = results[results.length>lenCutoff].index.dropna().intersection(df.index)\n",
    "lengths = np.array([len(i) for i in df.loc[TADs_idx].sequence.values])\n",
    "lengths = np.hstack([lengths]*10) # allow for a bigger sampling to build null hypothesis\n",
    "np.random.shuffle(lengths)\n",
    "\n",
    "# build disorder and helicity vectors\n",
    "dis_vector = np.hstack(df.loc[TADs_idx].iupred.values)\n",
    "dis_vector = np.hstack([np.ones(flanking), dis_vector, np.ones(flanking)]) # fix \"N\" and \"C\" terminal errors\n",
    "\n",
    "result_dis_pre = np.zeros(shape=(len(lengths), flanking))\n",
    "result_dis_tad = np.zeros(shape=(len(lengths), bins_tad))\n",
    "result_dis_post = np.zeros(shape=(len(lengths), flanking))\n",
    "\n",
    "##########################################\n",
    "### Build null hypothesis distributions ##\n",
    "##########################################\n",
    "\n",
    "\n",
    "# random start sites\n",
    "np.random.seed(42) # set random seed for reproducibility\n",
    "rand_starts = np.random.uniform(low=101,high=len(dis_vector)-1000, size=len(lengths)).astype(int)\n",
    "\n",
    "# Null Hypothesis disOrder and helIcity\n",
    "for n,(i,j) in enumerate(zip(rand_starts, lengths)):\n",
    "    result_dis_pre[n] = dis_vector[i-flanking:i]\n",
    "    result_dis_tad[n] = np.median(dis_vector[i-flanking:i+j-flanking]) \n",
    "    result_dis_post[n] = dis_vector[i+j-flanking:i+j]\n",
    "\n",
    "dis = np.hstack([result_dis_pre, result_dis_tad, result_dis_post]).T\n",
    "medians_dis_random = np.array([np.percentile(i,50) for i in dis])\n",
    "_25_dis_random = np.array([np.percentile(i,25) for i in dis])\n",
    "_75_dis_random = np.array([np.percentile(i,75) for i in dis])"
   ]
  },
  {
   "cell_type": "code",
   "execution_count": 10,
   "metadata": {},
   "outputs": [],
   "source": [
    "lenCutoff = 5  # Threshold for defining a potential TAD (more than 5 contiguous residues with score.0.8)\n",
    "flanking = 100 # How many points to consider\n",
    "bins_tad = 20  # Pure legacy now. It's to show more clearly the TAD in the figure\n",
    "\n",
    "\n",
    "TADs = results[results.length>lenCutoff]\n",
    "\n",
    "# use only the nuclear TADs\n",
    "TADs = TADs.loc[TADs.index.intersection(tf_short_idx)]\n",
    "\n",
    "result_dis_pre = np.zeros(shape=(len(TADs), flanking))\n",
    "result_dis_tad = np.zeros(shape=(len(TADs), bins_tad))\n",
    "result_dis_post = np.zeros(shape=(len(TADs), flanking))\n",
    "\n",
    "# Null Hypothesis disOrder and helIcity\n",
    "for n,(i,j,k) in enumerate(zip(TADs.start_position.values.astype(int), \n",
    "                               TADs.length.values.astype(int), \n",
    "                               TADs.index.dropna())):\n",
    "    \n",
    "    dis = np.array(df.iupred.loc[k]).astype(float)\n",
    "    dis = np.hstack([np.ones(flanking), dis, np.ones(flanking)]) # fix \"N\" and \"C\" terminal errors\n",
    "    hel = df.secondStruct.loc[k]\n",
    "    \n",
    "    i +=100 # part of fixing the \"N\" terminal\n",
    "    \n",
    "    result_dis_pre[n] = dis[i-flanking:i]\n",
    "    result_dis_tad[n] = np.median(dis[i:i+j])\n",
    "    result_dis_post[n] = dis[i+j:i+j+flanking]\n",
    "\n",
    "dis = np.hstack([result_dis_pre, result_dis_tad, result_dis_post]).T\n",
    "medians_dis_tad = np.array([np.percentile(i,50) for i in dis])\n",
    "_25_dis_tad = np.array([np.percentile(i,25) for i in dis])\n",
    "_75_dis_tad = np.array([np.percentile(i,75) for i in dis])"
   ]
  },
  {
   "cell_type": "code",
   "execution_count": 11,
   "metadata": {},
   "outputs": [],
   "source": [
    "def plotit(ax, medians, _25, _75, title):\n",
    "    ax.fill_between( np.arange(len(_25)),_75,_25, alpha=0.3, color='gray')\n",
    "    ax.plot(medians, label=\"50%\", lw=3, c='k')\n",
    "    ax.set_xticks([100,120])\n",
    "    ax.set_xticklabels([\"\", \"\"])\n",
    "    ax.text(40, -0.1, \"pre-tad\")\n",
    "    ax.text(100, -0.1, \"TAD\")\n",
    "    ax.text(150, -0.1, \"post-TAD\")\n",
    "    ax.set_title(title)\n",
    "    #ax.set_ylim(-0.01,1)"
   ]
  },
  {
   "cell_type": "code",
   "execution_count": 12,
   "metadata": {},
   "outputs": [
    {
     "data": {
      "text/plain": [
       "(0, 1)"
      ]
     },
     "execution_count": 12,
     "metadata": {},
     "output_type": "execute_result"
    },
    {
     "data": {
      "image/png": "[encoded data removed]",
      "text/plain": [
       "<Figure size 792x360 with 2 Axes>"
      ]
     },
     "metadata": {},
     "output_type": "display_data"
    }
   ],
   "source": [
    "plt.figure(figsize=(11,5))\n",
    "ax = plt.subplot(1,2,1)\n",
    "plotit(ax,medians_dis_tad, _25_dis_tad, _75_dis_tad, 'tads')\n",
    "plt.ylim(0,1)\n",
    "ax = plt.subplot(1,2,2)\n",
    "plotit(ax,medians_dis_random, _25_dis_random, _75_dis_random, 'random')\n",
    "plt.ylim(0,1)"
   ]
  },
  {
   "cell_type": "code",
   "execution_count": null,
   "metadata": {},
   "outputs": [],
   "source": []
  }
 ],
 "metadata": {
  "kernelspec": {
   "display_name": "Python 3",
   "language": "python",
   "name": "python3"
  },
  "language_info": {
   "codemirror_mode": {
    "name": "ipython",
    "version": 3
   },
   "file_extension": ".py",
   "mimetype": "text/x-python",
   "name": "python",
   "nbconvert_exporter": "python",
   "pygments_lexer": "ipython3",
   "version": "3.6.5"
  }
 },
 "nbformat": 4,
 "nbformat_minor": 2
}
