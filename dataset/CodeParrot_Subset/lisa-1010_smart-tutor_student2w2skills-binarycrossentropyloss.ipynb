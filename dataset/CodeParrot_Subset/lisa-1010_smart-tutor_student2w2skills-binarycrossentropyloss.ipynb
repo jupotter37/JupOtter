{
 "cells": [
  {
   "cell_type": "code",
   "execution_count": 1,
   "metadata": {
    "collapsed": true
   },
   "outputs": [],
   "source": [
    "%load_ext autoreload\n",
    "%autoreload 2\n",
    "%matplotlib inline\n",
    "\n",
    "import numpy as np\n",
    "import scipy as sp\n",
    "import six\n",
    "from matplotlib.pyplot import *"
   ]
  },
  {
   "cell_type": "code",
   "execution_count": 10,
   "metadata": {},
   "outputs": [
    {
     "name": "stdout",
     "output_type": "stream",
     "text": [
      "(20, 61)\n",
      "last 0.636635112441 threshold 0.6369\n"
     ]
    },
    {
     "data": {
      "text/plain": [
       "(0.63, 0.64)"
      ]
     },
     "execution_count": 10,
     "metadata": {},
     "output_type": "execute_result"
    },
    {
     "data": {
      "image/png": "[encoded data removed]",
      "text/plain": [
       "<matplotlib.figure.Figure at 0x7f2e9fb11690>"
      ]
     },
     "metadata": {},
     "output_type": "display_data"
    }
   ],
   "source": [
    "'''\n",
    "Analyzing results of student2 with 2 skills, with training length 2 and testing length 2.\n",
    "Trying to find an epoch to stop training when the loss has converged enough\n",
    "'''\n",
    "data11 = np.load('experiments/test2_model2_tiny-dropout10-shuffle0-data-test2-n10000-l2-random.pickle/stats-runBinCE-A.npz')\n",
    "\n",
    "vloss = data11['vloss']\n",
    "#scores = data21['scores'][:,0]\n",
    "#initialq = data51['qvals'][:,0]\n",
    "#opts = data61['opts']\n",
    "#qfuncs = data61['qs'][:,0,:,:]\n",
    "\n",
    "six.print_(vloss.shape)\n",
    "figure()\n",
    "x_avg = np.mean(vloss,axis=0)\n",
    "x_serr = np.std(vloss,axis=0) / vloss.shape[0] * 1.98\n",
    "plot(x_avg, color='#0000ff')\n",
    "plot(x_avg + x_serr, color='#ddddff')\n",
    "plot(x_avg - x_serr, color='#ddddff')\n",
    "\n",
    "x_end = np.mean(x_avg[-2:])\n",
    "x_thres = 0.6369\n",
    "six.print_('last {} threshold {}'.format(x_end, x_thres))\n",
    "plot([0,60],[x_end,x_end],color='#ff0000')\n",
    "plot([0,60],[x_thres,x_thres],color='#ff0000')\n",
    "\n",
    "#xlim(30,40)\n",
    "ylim(0.63,0.64)\n",
    "\n",
    "# looks like epoch 40 for 3 significant digits"
   ]
  },
  {
   "cell_type": "code",
   "execution_count": 17,
   "metadata": {},
   "outputs": [
    {
     "name": "stdout",
     "output_type": "stream",
     "text": [
      "(20, 61)\n",
      "last 0.621537292945 threshold 0.6219\n"
     ]
    },
    {
     "data": {
      "text/plain": [
       "(0.62, 0.63)"
      ]
     },
     "execution_count": 17,
     "metadata": {},
     "output_type": "execute_result"
    },
    {
     "data": {
      "image/png": "[encoded data removed]",
      "text/plain": [
       "<matplotlib.figure.Figure at 0x7f2e9fc0c2d0>"
      ]
     },
     "metadata": {},
     "output_type": "display_data"
    }
   ],
   "source": [
    "'''\n",
    "Analyzing results of student2 with 2 skills, with training length 2 and testing length 2. Simpler model.\n",
    "Trying to find an epoch to stop training when the loss has converged enough\n",
    "'''\n",
    "data11 = np.load('experiments/test2_model2simple_tiny-dropout10-shuffle0-data-test2-n10000-l2-random.pickle/stats-runBinCE-A.npz')\n",
    "\n",
    "vloss = data11['vloss']\n",
    "#scores = data21['scores'][:,0]\n",
    "#initialq = data51['qvals'][:,0]\n",
    "#opts = data61['opts']\n",
    "#qfuncs = data61['qs'][:,0,:,:]\n",
    "\n",
    "six.print_(vloss.shape)\n",
    "figure()\n",
    "x_avg = np.mean(vloss,axis=0)\n",
    "x_serr = np.std(vloss,axis=0) / vloss.shape[0] * 1.98\n",
    "plot(x_avg, color='#0000ff')\n",
    "plot(x_avg + x_serr, color='#ddddff')\n",
    "plot(x_avg - x_serr, color='#ddddff')\n",
    "\n",
    "x_end = np.mean(x_avg[-2:])\n",
    "x_thres = 0.6219\n",
    "six.print_('last {} threshold {}'.format(x_end, x_thres))\n",
    "plot([0,60],[x_end,x_end],color='#ff0000')\n",
    "plot([0,60],[x_thres,x_thres],color='#ff0000')\n",
    "\n",
    "#xlim(30,40)\n",
    "ylim(0.62,0.63)\n",
    "\n",
    "# looks like epoch 40 for 3 significant digits"
   ]
  },
  {
   "cell_type": "code",
   "execution_count": 18,
   "metadata": {},
   "outputs": [
    {
     "name": "stdout",
     "output_type": "stream",
     "text": [
      "(20, 61)\n",
      "last 0.621395924532 threshold 0.6219\n"
     ]
    },
    {
     "data": {
      "text/plain": [
       "(0.62, 0.63)"
      ]
     },
     "execution_count": 18,
     "metadata": {},
     "output_type": "execute_result"
    },
    {
     "data": {
      "image/png": "[encoded data removed]",
      "text/plain": [
       "<matplotlib.figure.Figure at 0x7f2e9f8d4050>"
      ]
     },
     "metadata": {},
     "output_type": "display_data"
    }
   ],
   "source": [
    "'''\n",
    "Analyzing results of student2 with 2 skills, with training length 2 and testing length 2. Simpler model.\n",
    "Trying to find an epoch to stop training when the loss has converged enough\n",
    "'''\n",
    "data11 = np.load('experiments/test2_model2gru_tiny-dropout10-shuffle0-data-test2-n10000-l2-random.pickle/stats-runBinCE-A.npz')\n",
    "\n",
    "vloss = data11['vloss']\n",
    "#scores = data21['scores'][:,0]\n",
    "#initialq = data51['qvals'][:,0]\n",
    "#opts = data61['opts']\n",
    "#qfuncs = data61['qs'][:,0,:,:]\n",
    "\n",
    "six.print_(vloss.shape)\n",
    "figure()\n",
    "x_avg = np.mean(vloss,axis=0)\n",
    "x_serr = np.std(vloss,axis=0) / vloss.shape[0] * 1.98\n",
    "plot(x_avg, color='#0000ff')\n",
    "plot(x_avg + x_serr, color='#ddddff')\n",
    "plot(x_avg - x_serr, color='#ddddff')\n",
    "\n",
    "x_end = np.mean(x_avg[-2:])\n",
    "x_thres = 0.6219\n",
    "six.print_('last {} threshold {}'.format(x_end, x_thres))\n",
    "plot([0,60],[x_end,x_end],color='#ff0000')\n",
    "plot([0,60],[x_thres,x_thres],color='#ff0000')\n",
    "\n",
    "#xlim(30,40)\n",
    "ylim(0.62,0.63)\n",
    "\n",
    "# looks like epoch 30 for 3 significant digits, but might as well also do 40 like the other two"
   ]
  },
  {
   "cell_type": "code",
   "execution_count": 2,
   "metadata": {},
   "outputs": [
    {
     "name": "stdout",
     "output_type": "stream",
     "text": [
      "vloss shape (50, 41)\n",
      "[[ 0.67407734  0.66894965  0.66343291 ...,  0.6365536   0.63652802\n",
      "   0.6365045 ]\n",
      " [ 0.67436367  0.67085226  0.66578435 ...,  0.63603909  0.63599071\n",
      "   0.63594544]\n",
      " [ 0.67316109  0.66793626  0.66199043 ...,  0.63624413  0.63621942\n",
      "   0.63619648]\n",
      " ..., \n",
      " [ 0.67376198  0.66887597  0.6628058  ...,  0.63614569  0.63611762\n",
      "   0.63609161]\n",
      " [ 0.67392006  0.66944854  0.66446097 ...,  0.6367788   0.63675328\n",
      "   0.6367298 ]\n",
      " [ 0.67392599  0.67044951  0.66568042 ...,  0.63619179  0.63616461\n",
      "   0.6361396 ]]\n",
      "scores shape (50,)\n",
      "[ 1.  0.  1.  1.  1.  1.  1.  1.  0.  0.  1.  1.  1.  1.  1.  1.  1.  1.\n",
      "  0.  1.  1.  1.  1.  1.  1.  1.  1.  1.  1.  1.  1.  1.  1.  1.  1.  1.\n",
      "  1.  1.  1.  1.  1.  1.  1.  1.  1.  1.  1.  1.  1.  1.]\n"
     ]
    },
    {
     "data": {
      "text/plain": [
       "[<matplotlib.lines.Line2D at 0x7f1ff39e24d0>]"
      ]
     },
     "execution_count": 2,
     "metadata": {},
     "output_type": "execute_result"
    },
    {
     "data": {
      "image/png": "[encoded data removed]",
      "text/plain": [
       "<matplotlib.figure.Figure at 0x7f1ff3717950>"
      ]
     },
     "metadata": {},
     "output_type": "display_data"
    }
   ],
   "source": [
    "'''\n",
    "Analyzing results of student2 with 2 skills, with training length 2 and testing length 2.\n",
    "Looking at how many good models there are and the correlation between good and training loss.\n",
    "'''\n",
    "data11 = np.load('experiments/test2_model2_tiny-dropout10-shuffle0-data-test2-n10000-l2-random.pickle/stats-runBinCE-A.npz')\n",
    "data21 = np.load('experiments/test2_model2_tiny-dropout10-shuffle0-data-test2-n10000-l2-random.pickle/mcts-rtype2-rollouts1000-trajectories100-real1-runBinCE-A.npz')\n",
    "\n",
    "vloss = data11['vloss']\n",
    "scores = data21['scores'][:,0]\n",
    "#initialq = data51['qvals'][:,0]\n",
    "#opts = data61['opts']\n",
    "#qfuncs = data61['qs'][:,0,:,:]\n",
    "\n",
    "six.print_('vloss shape {}'.format(vloss.shape))\n",
    "six.print_(vloss)\n",
    "six.print_('scores shape {}'.format(scores.shape))\n",
    "six.print_(scores)\n",
    "\n",
    "xs = np.sum(vloss,axis=1)\n",
    "ys = scores\n",
    "title('Training Loss AUC versus Actual Performance')\n",
    "xlabel('Training Loss AUC')\n",
    "ylabel('Posttest Score')\n",
    "plot(xs,ys,'.')"
   ]
  },
  {
   "cell_type": "code",
   "execution_count": 3,
   "metadata": {},
   "outputs": [
    {
     "name": "stdout",
     "output_type": "stream",
     "text": [
      "vloss shape (50, 41)\n",
      "[[ 0.66700402  0.66126542  0.65437583 ...,  0.62300508  0.62296323\n",
      "   0.62292442]\n",
      " [ 0.66624928  0.66060119  0.65471595 ...,  0.62232728  0.62229263\n",
      "   0.62226048]\n",
      " [ 0.66670695  0.66104252  0.65410985 ...,  0.62262051  0.62258415\n",
      "   0.6225506 ]\n",
      " ..., \n",
      " [ 0.6673677   0.66197756  0.6548337  ...,  0.62298346  0.62294698\n",
      "   0.6229134 ]\n",
      " [ 0.6650513   0.65889188  0.65234705 ...,  0.62163594  0.62160195\n",
      "   0.62157054]\n",
      " [ 0.66468184  0.65906393  0.65269753 ...,  0.62107692  0.62104259\n",
      "   0.62101103]]\n",
      "scores shape (50,)\n",
      "[ 0.  1.  1.  1.  1.  0.  1.  0.  1.  1.  1.  1.  0.  1.  1.  1.  1.  1.\n",
      "  1.  1.  0.  1.  1.  1.  1.  1.  1.  1.  1.  1.  1.  1.  1.  1.  1.  1.\n",
      "  1.  1.  1.  1.  1.  1.  1.  1.  1.  1.  1.  1.  0.  1.]\n"
     ]
    },
    {
     "data": {
      "text/plain": [
       "[<matplotlib.lines.Line2D at 0x7f20243aef10>]"
      ]
     },
     "execution_count": 3,
     "metadata": {},
     "output_type": "execute_result"
    },
    {
     "data": {
      "image/png": "[encoded data removed]",
      "text/plain": [
       "<matplotlib.figure.Figure at 0x7f20243aec10>"
      ]
     },
     "metadata": {},
     "output_type": "display_data"
    }
   ],
   "source": [
    "'''\n",
    "Analyzing results of student2 with 2 skills, with training length 2 and testing length 2. Simple model.\n",
    "Looking at how many good models there are and the correlation between good and training loss.\n",
    "'''\n",
    "data11 = np.load('experiments/test2_model2simple_tiny-dropout10-shuffle0-data-test2-n10000-l2-random.pickle/stats-runBinCE-A.npz')\n",
    "data21 = np.load('experiments/test2_model2simple_tiny-dropout10-shuffle0-data-test2-n10000-l2-random.pickle/mcts-rtype2-rollouts1000-trajectories100-real1-runBinCE-A.npz')\n",
    "\n",
    "vloss = data11['vloss']\n",
    "scores = data21['scores'][:,0]\n",
    "#initialq = data51['qvals'][:,0]\n",
    "#opts = data61['opts']\n",
    "#qfuncs = data61['qs'][:,0,:,:]\n",
    "\n",
    "six.print_('vloss shape {}'.format(vloss.shape))\n",
    "six.print_(vloss)\n",
    "six.print_('scores shape {}'.format(scores.shape))\n",
    "six.print_(scores)\n",
    "\n",
    "xs = np.sum(vloss,axis=1)\n",
    "ys = scores\n",
    "title('Training Loss AUC versus Actual Performance')\n",
    "xlabel('Training Loss AUC')\n",
    "ylabel('Posttest Score')\n",
    "plot(xs,ys,'.')"
   ]
  },
  {
   "cell_type": "code",
   "execution_count": 4,
   "metadata": {},
   "outputs": [
    {
     "name": "stdout",
     "output_type": "stream",
     "text": [
      "vloss shape (50, 41)\n",
      "[[ 0.68070579  0.67257297  0.66053288 ...,  0.61944172  0.61942222\n",
      "   0.61940429]\n",
      " [ 0.67973758  0.67140121  0.65936619 ...,  0.62112499  0.62110046\n",
      "   0.62107779]\n",
      " [ 0.6812563   0.67503448  0.66561952 ...,  0.62021855  0.62019815\n",
      "   0.62017929]\n",
      " ..., \n",
      " [ 0.68376007  0.67952596  0.6708486  ...,  0.62358532  0.6235608\n",
      "   0.62353831]\n",
      " [ 0.68218984  0.67619533  0.6661753  ...,  0.62239964  0.62236932\n",
      "   0.62234169]\n",
      " [ 0.68251205  0.67672956  0.66678548 ...,  0.62304584  0.62302122\n",
      "   0.6229983 ]]\n",
      "scores shape (50,)\n",
      "[ 0.02083333  0.          1.          0.          0.          0.          0.\n",
      "  0.          0.          1.          0.          0.          0.          0.\n",
      "  0.          0.1875      0.          0.          0.          0.          0.\n",
      "  0.          0.          0.          0.          0.          0.          1.\n",
      "  0.          0.          0.          0.          0.          0.          0.\n",
      "  0.          0.          1.          0.          0.          0.          0.\n",
      "  1.          0.          0.          1.          0.          0.          1.\n",
      "  0.        ]\n"
     ]
    },
    {
     "data": {
      "text/plain": [
       "[<matplotlib.lines.Line2D at 0x7f20243aeb90>]"
      ]
     },
     "execution_count": 4,
     "metadata": {},
     "output_type": "execute_result"
    },
    {
     "data": {
      "image/png": "[encoded data removed]",
      "text/plain": [
       "<matplotlib.figure.Figure at 0x7f1ff146ec50>"
      ]
     },
     "metadata": {},
     "output_type": "display_data"
    }
   ],
   "source": [
    "'''\n",
    "Analyzing results of student2 with 2 skills, with training length 2 and testing length 2. GRU\n",
    "Looking at how many good models there are and the correlation between good and training loss.\n",
    "'''\n",
    "data11 = np.load('experiments/test2_model2gru_tiny-dropout10-shuffle0-data-test2-n10000-l2-random.pickle/stats-runBinCE-A.npz')\n",
    "data21 = np.load('experiments/test2_model2gru_tiny-dropout10-shuffle0-data-test2-n10000-l2-random.pickle/mcts-rtype2-rollouts1000-trajectories100-real1-runBinCE-A.npz')\n",
    "\n",
    "vloss = data11['vloss']\n",
    "scores = data21['scores'][:,0]\n",
    "#initialq = data51['qvals'][:,0]\n",
    "#opts = data61['opts']\n",
    "#qfuncs = data61['qs'][:,0,:,:]\n",
    "\n",
    "six.print_('vloss shape {}'.format(vloss.shape))\n",
    "six.print_(vloss)\n",
    "six.print_('scores shape {}'.format(scores.shape))\n",
    "six.print_(scores)\n",
    "\n",
    "xs = np.sum(vloss,axis=1)\n",
    "ys = scores\n",
    "title('Training Loss AUC versus Actual Performance')\n",
    "xlabel('Training Loss AUC')\n",
    "ylabel('Posttest Score')\n",
    "plot(xs,ys,'.')"
   ]
  },
  {
   "cell_type": "code",
   "execution_count": null,
   "metadata": {
    "collapsed": true
   },
   "outputs": [],
   "source": []
  }
 ],
 "metadata": {
  "kernelspec": {
   "display_name": "Python 2",
   "language": "python",
   "name": "python2"
  },
  "language_info": {
   "codemirror_mode": {
    "name": "ipython",
    "version": 2
   },
   "file_extension": ".py",
   "mimetype": "text/x-python",
   "name": "python",
   "nbconvert_exporter": "python",
   "pygments_lexer": "ipython2",
   "version": "2.7.6"
  }
 },
 "nbformat": 4,
 "nbformat_minor": 2
}
