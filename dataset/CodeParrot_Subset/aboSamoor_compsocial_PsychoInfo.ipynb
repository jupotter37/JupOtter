{
 "cells": [
  {
   "cell_type": "code",
   "execution_count": 71,
   "metadata": {
    "collapsed": true
   },
   "outputs": [],
   "source": [
    "import glob\n",
    "from io import open\n",
    "import pandas as pd\n",
    "from pandas import DataFrame as df\n",
    "from os import path\n",
    "import re"
   ]
  },
  {
   "cell_type": "code",
   "execution_count": 72,
   "metadata": {
    "collapsed": false
   },
   "outputs": [],
   "source": [
    "import matplotlib.pyplot as plt\n",
    "%matplotlib inline"
   ]
  },
  {
   "cell_type": "markdown",
   "metadata": {},
   "source": [
    "## Merge CSV databases"
   ]
  },
  {
   "cell_type": "code",
   "execution_count": null,
   "metadata": {
    "collapsed": true
   },
   "outputs": [],
   "source": [
    "from tools import get_psycinfo_database"
   ]
  },
  {
   "cell_type": "code",
   "execution_count": null,
   "metadata": {
    "collapsed": true
   },
   "outputs": [],
   "source": [
    "words_df = get_psycinfo_database()"
   ]
  },
  {
   "cell_type": "code",
   "execution_count": 77,
   "metadata": {
    "collapsed": false
   },
   "outputs": [
    {
     "data": {
      "text/html": [
       "<div>\n",
       "<table border=\"1\" class=\"dataframe\">\n",
       "  <thead>\n",
       "    <tr style=\"text-align: right;\">\n",
       "      <th></th>\n",
       "      <th>Abstract</th>\n",
       "      <th>Accession Number</th>\n",
       "      <th>Author(s)</th>\n",
       "      <th>Type of Book</th>\n",
       "      <th>PsycINFO Classification Code</th>\n",
       "      <th>Conference</th>\n",
       "      <th>Document Type</th>\n",
       "      <th>Grant/Sponsorship</th>\n",
       "      <th>Key Concepts</th>\n",
       "      <th>Institution</th>\n",
       "      <th>...</th>\n",
       "      <th>Population Group</th>\n",
       "      <th>Publication Status</th>\n",
       "      <th>Publication Type</th>\n",
       "      <th>Publisher</th>\n",
       "      <th>Cited References</th>\n",
       "      <th>Title</th>\n",
       "      <th>Tests &amp; Measures</th>\n",
       "      <th>Volume</th>\n",
       "      <th>Date</th>\n",
       "      <th>Term</th>\n",
       "    </tr>\n",
       "  </thead>\n",
       "  <tbody>\n",
       "    <tr>\n",
       "      <th>0</th>\n",
       "      <td>PURPOSE: Rates of alcohol use may be increasin...</td>\n",
       "      <td>Peer Reviewed Journal: 2015-52719-001.</td>\n",
       "      <td>Kane, Jeremy C\\n\\nJohnson, Renee M\\n\\nRobinson...</td>\n",
       "      <td>NaN</td>\n",
       "      <td>Health &amp; Mental Health Treatment &amp; Prevention ...</td>\n",
       "      <td>NaN</td>\n",
       "      <td>NaN</td>\n",
       "      <td>NaN</td>\n",
       "      <td>Acculturation, Intergenerational cultural diss...</td>\n",
       "      <td>NaN</td>\n",
       "      <td>...</td>\n",
       "      <td>NaN</td>\n",
       "      <td>First Posting</td>\n",
       "      <td>Journal\\n\\nPeer Reviewed Journal</td>\n",
       "      <td>Elsevier Science; Netherlands</td>\n",
       "      <td>NaN</td>\n",
       "      <td>The impact of intergenerational cultural disso...</td>\n",
       "      <td>NaN</td>\n",
       "      <td>NaN</td>\n",
       "      <td>2015</td>\n",
       "      <td>bicultural</td>\n",
       "    </tr>\n",
       "    <tr>\n",
       "      <th>1</th>\n",
       "      <td>Given the negative developmental risks associa...</td>\n",
       "      <td>Peer Reviewed Journal: 2015-52548-001.</td>\n",
       "      <td>Killoren, Sarah E\\n\\nZeiders, Katharine H\\n\\nU...</td>\n",
       "      <td>NaN</td>\n",
       "      <td>Developmental Psychology [2800].</td>\n",
       "      <td>NaN</td>\n",
       "      <td>NaN</td>\n",
       "      <td>NaN</td>\n",
       "      <td>Adolescence, Cultural context, Mexican-America...</td>\n",
       "      <td>Killoren, Sarah E.: Department of Human Develo...</td>\n",
       "      <td>...</td>\n",
       "      <td>NaN</td>\n",
       "      <td>First Posting</td>\n",
       "      <td>Journal\\n\\nPeer Reviewed Journal</td>\n",
       "      <td>Springer; Germany</td>\n",
       "      <td>NaN</td>\n",
       "      <td>The sociocultural context of mexican-origin pr...</td>\n",
       "      <td>NaN</td>\n",
       "      <td>NaN</td>\n",
       "      <td>2015</td>\n",
       "      <td>bicultural</td>\n",
       "    </tr>\n",
       "    <tr>\n",
       "      <th>2</th>\n",
       "      <td>(from the chapter) Assessment science is an es...</td>\n",
       "      <td>Book: 2013-02670-011.</td>\n",
       "      <td>Dana, Richard H</td>\n",
       "      <td>Handbook/Manual</td>\n",
       "      <td>Personality Scales &amp; Inventories [2223].</td>\n",
       "      <td>NaN</td>\n",
       "      <td>Chapter</td>\n",
       "      <td>NaN</td>\n",
       "      <td>personality tests, psychology, assessment, cul...</td>\n",
       "      <td>NaN</td>\n",
       "      <td>...</td>\n",
       "      <td>Human</td>\n",
       "      <td>NaN</td>\n",
       "      <td>Book\\n\\nEdited Book</td>\n",
       "      <td>American Psychological Association; US</td>\n",
       "      <td>Aiken, L. S., West, S. G., &amp; Millsap, R. E. (2...</td>\n",
       "      <td>Personality tests and psychological science: I...</td>\n",
       "      <td>California Brief Multicultural Competency Scal...</td>\n",
       "      <td>NaN</td>\n",
       "      <td>2014</td>\n",
       "      <td>bicultural</td>\n",
       "    </tr>\n",
       "    <tr>\n",
       "      <th>3</th>\n",
       "      <td>Objective: The aim of the study was to explore...</td>\n",
       "      <td>Peer Reviewed Journal: 2015-46649-006.</td>\n",
       "      <td>Goutaudier, N\\n\\nChauchard, E\\n\\nMelioli, T\\n\\...</td>\n",
       "      <td>NaN</td>\n",
       "      <td>Psychosocial &amp; Personality Development [2840].</td>\n",
       "      <td>NaN</td>\n",
       "      <td>Journal Article</td>\n",
       "      <td>NaN</td>\n",
       "      <td>Acculturation, Adolescence, Cluster analysis, ...</td>\n",
       "      <td>Goutaudier, N.: Laboratoire CERPP-OCTOGONE, UF...</td>\n",
       "      <td>...</td>\n",
       "      <td>Human.  Male.  Female. Adolescence (13-17 yrs)</td>\n",
       "      <td>NaN</td>\n",
       "      <td>Journal\\n\\nPeer Reviewed Journal</td>\n",
       "      <td>Elsevier Masson SAS; France</td>\n",
       "      <td>Aubry, B., &amp; Tribalat, M. (2009). Les jeunes d...</td>\n",
       "      <td>Acculturation orientations and psychosocial ad...</td>\n",
       "      <td>Immigrant Acculturation Scale\\nRosenberg Self-...</td>\n",
       "      <td>41</td>\n",
       "      <td>2015</td>\n",
       "      <td>bicultural</td>\n",
       "    </tr>\n",
       "    <tr>\n",
       "      <th>4</th>\n",
       "      <td>(from the chapter) In Germany, the visit of th...</td>\n",
       "      <td>Book: 2014-27297-015.</td>\n",
       "      <td>Leyendecker, Birgit\\n\\nWillard, Jessica\\n\\nAga...</td>\n",
       "      <td>NaN</td>\n",
       "      <td>Cognitive &amp; Perceptual Development [2820].</td>\n",
       "      <td>NaN</td>\n",
       "      <td>Chapter</td>\n",
       "      <td>&lt;b&gt;Sponsor: &lt;/b&gt;NORFACE. ERA-NET\\n&lt;b&gt;Grant: &lt;/...</td>\n",
       "      <td>children's bilingual development, parents, imm...</td>\n",
       "      <td>Leyendecker, Birgit: Ruhr University Bochum, B...</td>\n",
       "      <td>...</td>\n",
       "      <td>Human. Childhood (birth-12 yrs)</td>\n",
       "      <td>NaN</td>\n",
       "      <td>Book\\n\\nEdited Book</td>\n",
       "      <td>Ashgate Publishing Co; US</td>\n",
       "      <td>Adesope, O. O., Lavin, T., Thompson, T., &amp; Ung...</td>\n",
       "      <td>Learning a host country: A plea to strengthen ...</td>\n",
       "      <td>NaN</td>\n",
       "      <td>NaN</td>\n",
       "      <td>2014</td>\n",
       "      <td>bicultural</td>\n",
       "    </tr>\n",
       "  </tbody>\n",
       "</table>\n",
       "<p>5 rows × 29 columns</p>\n",
       "</div>"
      ],
      "text/plain": [
       "                                            Abstract  \\\n",
       "0  PURPOSE: Rates of alcohol use may be increasin...   \n",
       "1  Given the negative developmental risks associa...   \n",
       "2  (from the chapter) Assessment science is an es...   \n",
       "3  Objective: The aim of the study was to explore...   \n",
       "4  (from the chapter) In Germany, the visit of th...   \n",
       "\n",
       "                         Accession Number  \\\n",
       "0  Peer Reviewed Journal: 2015-52719-001.   \n",
       "1  Peer Reviewed Journal: 2015-52548-001.   \n",
       "2                   Book: 2013-02670-011.   \n",
       "3  Peer Reviewed Journal: 2015-46649-006.   \n",
       "4                   Book: 2014-27297-015.   \n",
       "\n",
       "                                           Author(s)     Type of Book  \\\n",
       "0  Kane, Jeremy C\\n\\nJohnson, Renee M\\n\\nRobinson...              NaN   \n",
       "1  Killoren, Sarah E\\n\\nZeiders, Katharine H\\n\\nU...              NaN   \n",
       "2                                    Dana, Richard H  Handbook/Manual   \n",
       "3  Goutaudier, N\\n\\nChauchard, E\\n\\nMelioli, T\\n\\...              NaN   \n",
       "4  Leyendecker, Birgit\\n\\nWillard, Jessica\\n\\nAga...              NaN   \n",
       "\n",
       "                        PsycINFO Classification Code Conference  \\\n",
       "0  Health & Mental Health Treatment & Prevention ...        NaN   \n",
       "1                   Developmental Psychology [2800].        NaN   \n",
       "2           Personality Scales & Inventories [2223].        NaN   \n",
       "3     Psychosocial & Personality Development [2840].        NaN   \n",
       "4         Cognitive & Perceptual Development [2820].        NaN   \n",
       "\n",
       "     Document Type                                  Grant/Sponsorship  \\\n",
       "0              NaN                                                NaN   \n",
       "1              NaN                                                NaN   \n",
       "2          Chapter                                                NaN   \n",
       "3  Journal Article                                                NaN   \n",
       "4          Chapter  <b>Sponsor: </b>NORFACE. ERA-NET\\n<b>Grant: </...   \n",
       "\n",
       "                                        Key Concepts  \\\n",
       "0  Acculturation, Intergenerational cultural diss...   \n",
       "1  Adolescence, Cultural context, Mexican-America...   \n",
       "2  personality tests, psychology, assessment, cul...   \n",
       "3  Acculturation, Adolescence, Cluster analysis, ...   \n",
       "4  children's bilingual development, parents, imm...   \n",
       "\n",
       "                                         Institution     ...      \\\n",
       "0                                                NaN     ...       \n",
       "1  Killoren, Sarah E.: Department of Human Develo...     ...       \n",
       "2                                                NaN     ...       \n",
       "3  Goutaudier, N.: Laboratoire CERPP-OCTOGONE, UF...     ...       \n",
       "4  Leyendecker, Birgit: Ruhr University Bochum, B...     ...       \n",
       "\n",
       "                                 Population Group Publication Status  \\\n",
       "0                                             NaN      First Posting   \n",
       "1                                             NaN      First Posting   \n",
       "2                                           Human                NaN   \n",
       "3  Human.  Male.  Female. Adolescence (13-17 yrs)                NaN   \n",
       "4                 Human. Childhood (birth-12 yrs)                NaN   \n",
       "\n",
       "                   Publication Type                               Publisher  \\\n",
       "0  Journal\\n\\nPeer Reviewed Journal           Elsevier Science; Netherlands   \n",
       "1  Journal\\n\\nPeer Reviewed Journal                       Springer; Germany   \n",
       "2               Book\\n\\nEdited Book  American Psychological Association; US   \n",
       "3  Journal\\n\\nPeer Reviewed Journal             Elsevier Masson SAS; France   \n",
       "4               Book\\n\\nEdited Book               Ashgate Publishing Co; US   \n",
       "\n",
       "                                    Cited References  \\\n",
       "0                                                NaN   \n",
       "1                                                NaN   \n",
       "2  Aiken, L. S., West, S. G., & Millsap, R. E. (2...   \n",
       "3  Aubry, B., & Tribalat, M. (2009). Les jeunes d...   \n",
       "4  Adesope, O. O., Lavin, T., Thompson, T., & Ung...   \n",
       "\n",
       "                                               Title  \\\n",
       "0  The impact of intergenerational cultural disso...   \n",
       "1  The sociocultural context of mexican-origin pr...   \n",
       "2  Personality tests and psychological science: I...   \n",
       "3  Acculturation orientations and psychosocial ad...   \n",
       "4  Learning a host country: A plea to strengthen ...   \n",
       "\n",
       "                                    Tests & Measures  Volume  Date        Term  \n",
       "0                                                NaN     NaN  2015  bicultural  \n",
       "1                                                NaN     NaN  2015  bicultural  \n",
       "2  California Brief Multicultural Competency Scal...     NaN  2014  bicultural  \n",
       "3  Immigrant Acculturation Scale\\nRosenberg Self-...      41  2015  bicultural  \n",
       "4                                                NaN     NaN  2014  bicultural  \n",
       "\n",
       "[5 rows x 29 columns]"
      ]
     },
     "execution_count": 77,
     "metadata": {},
     "output_type": "execute_result"
    }
   ],
   "source": [
    "words_df.head()"
   ]
  },
  {
   "cell_type": "code",
   "execution_count": 78,
   "metadata": {
    "collapsed": false
   },
   "outputs": [],
   "source": [
    "#words_df.to_csv(\"data/PsycInfo/processed/psychinfo_combined.csv.bz2\", encoding='utf-8',compression='bz2')"
   ]
  },
  {
   "cell_type": "markdown",
   "metadata": {},
   "source": [
    "## Load PsychINFO unified database"
   ]
  },
  {
   "cell_type": "code",
   "execution_count": 79,
   "metadata": {
    "collapsed": false
   },
   "outputs": [],
   "source": [
    "#psychinfo = pd.read_csv(\"data/PsycInfo/processed/psychinfo_combined.csv.bz2\", encoding='utf-8', compression='bz2')\n",
    "psychinfo = words_df"
   ]
  },
  {
   "cell_type": "markdown",
   "metadata": {},
   "source": [
    "### Term appearance in abstract and title"
   ]
  },
  {
   "cell_type": "code",
   "execution_count": 80,
   "metadata": {
    "collapsed": false
   },
   "outputs": [],
   "source": [
    "abstract_occurrence = []\n",
    "for x,y in psychinfo[[\"Term\", \"Abstract\"]].fillna(\"\").values:\n",
    "  if x.lower() in y.lower():\n",
    "    abstract_occurrence.append(1)\n",
    "  else:\n",
    "    abstract_occurrence.append(0)\n",
    "psychinfo[\"term_in_abstract\"] = abstract_occurrence"
   ]
  },
  {
   "cell_type": "code",
   "execution_count": 81,
   "metadata": {
    "collapsed": false
   },
   "outputs": [],
   "source": [
    "title_occurrence = []\n",
    "for x,y in psychinfo[[\"Term\", \"Title\"]].fillna(\"\").values:\n",
    "  if x.lower() in y.lower():\n",
    "    title_occurrence.append(1)\n",
    "  else:\n",
    "    title_occurrence.append(0)\n",
    "psychinfo[\"term_in_title\"] = title_occurrence"
   ]
  },
  {
   "cell_type": "code",
   "execution_count": 82,
   "metadata": {
    "collapsed": false
   },
   "outputs": [],
   "source": [
    "psychinfo_search = psychinfo.drop('Abstract', 1)\n",
    "psychinfo_search = psychinfo_search.drop('Title', 1)"
   ]
  },
  {
   "cell_type": "code",
   "execution_count": 83,
   "metadata": {
    "collapsed": true
   },
   "outputs": [],
   "source": [
    "term_ID = {\"multiculturalism\": 1, \"polyculturalism\": 2, \"cultural pluralism\": 3, \n",
    "           \"monocultural\": 4, \"monoracial\": 5, \"bicultural\": 6, \n",
    "           \"biracial\": 7, \"biethnic\": 8, \"interracial\": 9, \n",
    "           \"multicultural\": 10, \"multiracial\": 11, \"polycultural\": 12, \n",
    "           \"polyracial\": 13, \"polyethnic\": 14, \"mixed race\": 15, \n",
    "           \"mixed ethnicity\": 16, \"other race\": 17, \"other ethnicity\": 18}"
   ]
  },
  {
   "cell_type": "code",
   "execution_count": 84,
   "metadata": {
    "collapsed": false
   },
   "outputs": [],
   "source": [
    "psychinfo_search[\"term_ID\"] = psychinfo_search.Term.map(term_ID)"
   ]
  },
  {
   "cell_type": "code",
   "execution_count": 85,
   "metadata": {
    "collapsed": false
   },
   "outputs": [
    {
     "data": {
      "text/plain": [
       "Handbook/Manual                                   1395\n",
       "Textbook/Study Guide                               533\n",
       "Conference Proceedings                              53\n",
       "Reference Book                                      45\n",
       "Classic Book                                        25\n",
       "Handbook/Manual\\n\\nTextbook/Study Guide             16\n",
       "Reference Book\\n\\nTextbook/Study Guide               6\n",
       "Classic Book\\n\\nTextbook/Study Guide                 2\n",
       "Reference Book\\r\\rTextbook/Study Guide               1\n",
       "Conference Proceedings\\n\\nTextbook/Study Guide       1\n",
       "Handbook/Manual\\n\\nReference Book                    1\n",
       "Conference Proceedings\\r\\rTextbook/Study Guide       1\n",
       "Name: Type of Book, dtype: int64"
      ]
     },
     "execution_count": 85,
     "metadata": {},
     "output_type": "execute_result"
    }
   ],
   "source": [
    "psychinfo_search[\"Type of Book\"].value_counts()"
   ]
  },
  {
   "cell_type": "code",
   "execution_count": 86,
   "metadata": {
    "collapsed": true
   },
   "outputs": [],
   "source": [
    "type_of_book = { 'Handbook/Manual': 1, 'Textbook/Study Guide': 2, 'Conference Proceedings': 3,\n",
    "       'Reference Book': 2, 'Classic Book': 4,'Handbook/Manual\\n\\nTextbook/Study Guide': 5,\n",
    "       'Reference Book\\n\\nTextbook/Study Guide': 5,'Classic Book\\n\\nTextbook/Study Guide': 5,\n",
    "       'Handbook/Manual\\n\\nReference Book': 5,'Conference Proceedings\\n\\nTextbook/Study Guide': 5,\n",
    "       'Reference Book\\r\\rTextbook/Study Guide': 5,'Conference Proceedings\\r\\rTextbook/Study Guide': 5}"
   ]
  },
  {
   "cell_type": "code",
   "execution_count": 87,
   "metadata": {
    "collapsed": true
   },
   "outputs": [],
   "source": [
    "psychinfo_search[\"type_of_book\"] = psychinfo_search[\"Type of Book\"].map(type_of_book)"
   ]
  },
  {
   "cell_type": "code",
   "execution_count": 88,
   "metadata": {
    "collapsed": false
   },
   "outputs": [],
   "source": [
    "psychinfo_search[\"cited_references\"] = psychinfo_search['Cited References'].map(lambda text:len(text.strip().split(\"\\n\")),\"ignore\")"
   ]
  },
  {
   "cell_type": "code",
   "execution_count": 89,
   "metadata": {
    "collapsed": false
   },
   "outputs": [
    {
     "data": {
      "text/plain": [
       "Journal Article                          14369\n",
       "Dissertation                              4919\n",
       "Chapter                                   4558\n",
       "Review-Book                               1444\n",
       "Comment/Reply                              548\n",
       "Editorial                                  228\n",
       "Chapter\\n\\nReprint                          78\n",
       "Erratum/Correction                          66\n",
       "Review-Media                                35\n",
       "Abstract Collection                         29\n",
       "Letter                                      18\n",
       "Obituary                                    13\n",
       "Chapter\\n\\nComment/Reply                    10\n",
       "Reprint                                      9\n",
       "Column/Opinion                               9\n",
       "Bibliography                                 8\n",
       "Journal Article\\n\\nReprint                   7\n",
       "Chapter\\r\\rReprint                           6\n",
       "Chapter\\n\\nJournal Article\\n\\nReprint        5\n",
       "Encyclopedia Entry                           5\n",
       "Bibliography\\n\\nChapter                      5\n",
       "Chapter\\r\\rJournal Article\\r\\rReprint        2\n",
       "Reprint\\n\\nReview-Book                       1\n",
       "Publication Information                      1\n",
       "Review-Software & Other                      1\n",
       "Journal Article\\r\\rReprint                   1\n",
       "Name: Document Type, dtype: int64"
      ]
     },
     "execution_count": 89,
     "metadata": {},
     "output_type": "execute_result"
    }
   ],
   "source": [
    "psychinfo_search['Document Type'].value_counts()"
   ]
  },
  {
   "cell_type": "code",
   "execution_count": 95,
   "metadata": {
    "collapsed": true
   },
   "outputs": [],
   "source": [
    "document_type = {'Journal Article': 1, 'Dissertation': 2, 'Chapter': 3, 'Review-Book': 4,\n",
    "       'Comment/Reply': 6, 'Editorial': 6, 'Chapter\\n\\nReprint': 3,\n",
    "       'Erratum/Correction': 6, 'Review-Media': 6, 'Abstract Collection': 6,\n",
    "       'Letter': 6, 'Obituary': 6, 'Chapter\\n\\nComment/Reply': 3, 'Column/Opinion': 6,\n",
    "       'Reprint': 5, 'Bibliography': 5, 'Journal Article\\n\\nReprint': 1,\n",
    "       'Chapter\\r\\rReprint': 3, 'Chapter\\n\\nJournal Article\\n\\nReprint': 3,\n",
    "       'Bibliography\\n\\nChapter': 3, 'Encyclopedia Entry': 5,\n",
    "       'Chapter\\r\\rJournal Article\\r\\rReprint': 3, 'Review-Software & Other': 6,\n",
    "       'Publication Information': 6, 'Journal Article\\r\\rReprint': 1,\n",
    "       'Reprint\\n\\nReview-Book': 4}"
   ]
  },
  {
   "cell_type": "code",
   "execution_count": 96,
   "metadata": {
    "collapsed": false
   },
   "outputs": [],
   "source": [
    "psychinfo_search['document_type'] = psychinfo_search['Document Type'].map(document_type)"
   ]
  },
  {
   "cell_type": "code",
   "execution_count": 97,
   "metadata": {
    "collapsed": true
   },
   "outputs": [],
   "source": [
    "psychinfo_search[\"conference_dich\"] = psychinfo_search[\"Conference\"].fillna(\"\").map(lambda x: int((len(x) > 0)))\n"
   ]
  },
  {
   "cell_type": "code",
   "execution_count": 98,
   "metadata": {
    "collapsed": false
   },
   "outputs": [
    {
     "data": {
      "text/plain": [
       "Journal\\n\\nPeer Reviewed Journal           15714\n",
       "Book\\n\\nEdited Book                         5402\n",
       "Dissertation Abstract                       4919\n",
       "Book\\n\\nAuthored Book                        890\n",
       "Journal\\r\\rPeer Reviewed Journal             468\n",
       "Electronic Collection                        454\n",
       "Journal\\n\\nPeer-Reviewed Status-Unknown      234\n",
       "Book\\r\\rEdited Book                          155\n",
       "Book                                          30\n",
       "Journal\\r\\rPeer-Reviewed Status-Unknown       14\n",
       "Book\\r\\rAuthored Book                         13\n",
       "Encyclopedia                                  11\n",
       "Name: Publication Type, dtype: int64"
      ]
     },
     "execution_count": 98,
     "metadata": {},
     "output_type": "execute_result"
    }
   ],
   "source": [
    "psychinfo_search['Publication Type'].value_counts()"
   ]
  },
  {
   "cell_type": "code",
   "execution_count": 99,
   "metadata": {
    "collapsed": true
   },
   "outputs": [],
   "source": [
    "publication_type = {'Journal\\n\\nPeer Reviewed Journal': 1, 'Book\\n\\nEdited Book': 3,\n",
    "       'Dissertation Abstract': 2, 'Book\\n\\nAuthored Book': 3,\n",
    "       'Journal\\r\\rPeer Reviewed Journal': 1, 'Electronic Collection': 1,\n",
    "       'Journal\\n\\nPeer-Reviewed Status-Unknown': 1, 'Book\\r\\rEdited Book': 3,\n",
    "       'Book': 3, 'Journal\\r\\rPeer-Reviewed Status-Unknown': 1,\n",
    "       'Book\\r\\rAuthored Book': 3, 'Encyclopedia': 4}"
   ]
  },
  {
   "cell_type": "code",
   "execution_count": 100,
   "metadata": {
    "collapsed": false
   },
   "outputs": [],
   "source": [
    "psychinfo_search['publication_type'] = psychinfo_search['Publication Type'].map(publication_type)"
   ]
  },
  {
   "cell_type": "code",
   "execution_count": 111,
   "metadata": {
    "collapsed": false
   },
   "outputs": [
    {
     "data": {
      "text/plain": [
       "0    27380\n",
       "1      773\n",
       "3      151\n",
       "dtype: int64"
      ]
     },
     "execution_count": 111,
     "metadata": {},
     "output_type": "execute_result"
    }
   ],
   "source": [
    "(psychinfo_search[\"publication_type\"] * psychinfo_search[\"conference_dich\"]).value_counts()\n"
   ]
  },
  {
   "cell_type": "code",
   "execution_count": 116,
   "metadata": {
    "collapsed": false
   },
   "outputs": [
    {
     "name": "stderr",
     "output_type": "stream",
     "text": [
      "//anaconda/lib/python3.5/site-packages/pandas/computation/expressions.py:190: UserWarning: evaluating in Python space because the '*' operator is not supported by numexpr for the bool dtype, use '&' instead\n",
      "  unsupported[op_str]))\n"
     ]
    },
    {
     "data": {
      "text/html": [
       "<div>\n",
       "<table border=\"1\" class=\"dataframe\">\n",
       "  <thead>\n",
       "    <tr style=\"text-align: right;\">\n",
       "      <th></th>\n",
       "      <th>Publication Type</th>\n",
       "      <th>Conference</th>\n",
       "    </tr>\n",
       "  </thead>\n",
       "  <tbody>\n",
       "    <tr>\n",
       "      <th>707</th>\n",
       "      <td>Book\\n\\nEdited Book</td>\n",
       "      <td>2005 IEEE International Professional Communica...</td>\n",
       "    </tr>\n",
       "    <tr>\n",
       "      <th>800</th>\n",
       "      <td>Book\\n\\nEdited Book</td>\n",
       "      <td>2006 ACA Annual Convention. 2006. US. The arti...</td>\n",
       "    </tr>\n",
       "    <tr>\n",
       "      <th>801</th>\n",
       "      <td>Book\\n\\nEdited Book</td>\n",
       "      <td>2006 ACA Annual Convention. 2006. US. The arti...</td>\n",
       "    </tr>\n",
       "    <tr>\n",
       "      <th>1027</th>\n",
       "      <td>Book\\n\\nEdited Book</td>\n",
       "      <td>Ontario Symposium on Personality and Social Ps...</td>\n",
       "    </tr>\n",
       "    <tr>\n",
       "      <th>1501</th>\n",
       "      <td>Book\\n\\nEdited Book</td>\n",
       "      <td>Bienneial Meeting of the International Society...</td>\n",
       "    </tr>\n",
       "    <tr>\n",
       "      <th>1553</th>\n",
       "      <td>Book\\n\\nAuthored Book</td>\n",
       "      <td>Earlier versions of several parts of this book...</td>\n",
       "    </tr>\n",
       "    <tr>\n",
       "      <th>1591</th>\n",
       "      <td>Book\\n\\nEdited Book</td>\n",
       "      <td>Mental Health of Immigrants and Refugees. Mar,...</td>\n",
       "    </tr>\n",
       "    <tr>\n",
       "      <th>1607</th>\n",
       "      <td>Book\\n\\nEdited Book</td>\n",
       "      <td>International Conference of the International ...</td>\n",
       "    </tr>\n",
       "    <tr>\n",
       "      <th>1638</th>\n",
       "      <td>Book\\n\\nEdited Book</td>\n",
       "      <td>Conference on Childhood Bilingualism. Jun, 198...</td>\n",
       "    </tr>\n",
       "    <tr>\n",
       "      <th>410</th>\n",
       "      <td>Book\\r\\rEdited Book</td>\n",
       "      <td>24th Spring Meeting, Division 39, APA. Apr, 20...</td>\n",
       "    </tr>\n",
       "    <tr>\n",
       "      <th>439</th>\n",
       "      <td>Book\\r\\rEdited Book</td>\n",
       "      <td>The annual meeting of the Association for Wome...</td>\n",
       "    </tr>\n",
       "    <tr>\n",
       "      <th>727</th>\n",
       "      <td>Book\\r\\rEdited Book</td>\n",
       "      <td>The chapters contained in this book emerged fr...</td>\n",
       "    </tr>\n",
       "    <tr>\n",
       "      <th>750</th>\n",
       "      <td>Book\\r\\rAuthored Book</td>\n",
       "      <td>Based on the Interactive Forum on Transference...</td>\n",
       "    </tr>\n",
       "    <tr>\n",
       "      <th>808</th>\n",
       "      <td>Book\\r\\rEdited Book</td>\n",
       "      <td>An earlier version of this paper was presented...</td>\n",
       "    </tr>\n",
       "    <tr>\n",
       "      <th>152</th>\n",
       "      <td>Book\\n\\nEdited Book</td>\n",
       "      <td>A major portion of the works in this volume or...</td>\n",
       "    </tr>\n",
       "    <tr>\n",
       "      <th>739</th>\n",
       "      <td>Book\\n\\nEdited Book</td>\n",
       "      <td>First Universal Races Conference. 1. Jul, 1911...</td>\n",
       "    </tr>\n",
       "    <tr>\n",
       "      <th>897</th>\n",
       "      <td>Book\\n\\nEdited Book</td>\n",
       "      <td>Gender &amp; Empire. Oct, 2004. Otago University. ...</td>\n",
       "    </tr>\n",
       "    <tr>\n",
       "      <th>900</th>\n",
       "      <td>Book\\n\\nEdited Book</td>\n",
       "      <td>Gender &amp; Empire. Oct, 2004. University of Otag...</td>\n",
       "    </tr>\n",
       "    <tr>\n",
       "      <th>984</th>\n",
       "      <td>Book\\n\\nEdited Book</td>\n",
       "      <td>Nebraska Symposium on Motivation. 53. The afor...</td>\n",
       "    </tr>\n",
       "    <tr>\n",
       "      <th>1180</th>\n",
       "      <td>Book\\n\\nEdited Book</td>\n",
       "      <td>24th Spring Meeting, Division 39, APA. Apr, 20...</td>\n",
       "    </tr>\n",
       "    <tr>\n",
       "      <th>1225</th>\n",
       "      <td>Book\\n\\nEdited Book</td>\n",
       "      <td>The annual meeting of the Association for Wome...</td>\n",
       "    </tr>\n",
       "    <tr>\n",
       "      <th>1229</th>\n",
       "      <td>Book\\n\\nEdited Book</td>\n",
       "      <td>The annual meeting of the Midwestern Conferenc...</td>\n",
       "    </tr>\n",
       "    <tr>\n",
       "      <th>1302</th>\n",
       "      <td>Book\\n\\nEdited Book</td>\n",
       "      <td>Annual Meeting of the Society for the Study of...</td>\n",
       "    </tr>\n",
       "    <tr>\n",
       "      <th>1461</th>\n",
       "      <td>Book\\n\\nEdited Book</td>\n",
       "      <td>Annual Conference of the American Association ...</td>\n",
       "    </tr>\n",
       "    <tr>\n",
       "      <th>34</th>\n",
       "      <td>Book\\n\\nEdited Book</td>\n",
       "      <td>Joint Conference of the Internataional Society...</td>\n",
       "    </tr>\n",
       "    <tr>\n",
       "      <th>548</th>\n",
       "      <td>Book\\n\\nEdited Book</td>\n",
       "      <td>A portion of the chapter by D. Byrne was read ...</td>\n",
       "    </tr>\n",
       "    <tr>\n",
       "      <th>585</th>\n",
       "      <td>Book\\n\\nEdited Book</td>\n",
       "      <td>International Conference of the American Couns...</td>\n",
       "    </tr>\n",
       "    <tr>\n",
       "      <th>276</th>\n",
       "      <td>Book\\n\\nEdited Book</td>\n",
       "      <td>Gender &amp; Empire. Oct, 2004. Otago University. ...</td>\n",
       "    </tr>\n",
       "    <tr>\n",
       "      <th>438</th>\n",
       "      <td>Book\\n\\nEdited Book</td>\n",
       "      <td>Gender and Power in Families. 1987. London. Un...</td>\n",
       "    </tr>\n",
       "    <tr>\n",
       "      <th>163</th>\n",
       "      <td>Book\\n\\nEdited Book</td>\n",
       "      <td>Rutgers Invitational Symposium on Education. 1...</td>\n",
       "    </tr>\n",
       "    <tr>\n",
       "      <th>...</th>\n",
       "      <td>...</td>\n",
       "      <td>...</td>\n",
       "    </tr>\n",
       "    <tr>\n",
       "      <th>368</th>\n",
       "      <td>Book\\n\\nEdited Book</td>\n",
       "      <td>National Conference on Education &amp; Training in...</td>\n",
       "    </tr>\n",
       "    <tr>\n",
       "      <th>517</th>\n",
       "      <td>Book\\n\\nEdited Book</td>\n",
       "      <td>Annual Convention of the American Psychologica...</td>\n",
       "    </tr>\n",
       "    <tr>\n",
       "      <th>640</th>\n",
       "      <td>Book\\n\\nEdited Book</td>\n",
       "      <td>Rutgers Invitational Symposium on Education. 1...</td>\n",
       "    </tr>\n",
       "    <tr>\n",
       "      <th>942</th>\n",
       "      <td>Book\\n\\nEdited Book</td>\n",
       "      <td>International Congress of the International As...</td>\n",
       "    </tr>\n",
       "    <tr>\n",
       "      <th>1026</th>\n",
       "      <td>Book\\n\\nEdited Book</td>\n",
       "      <td>Minnesota Symposium on Child Psychology.. 29th...</td>\n",
       "    </tr>\n",
       "    <tr>\n",
       "      <th>1068</th>\n",
       "      <td>Book\\n\\nEdited Book</td>\n",
       "      <td>International Interdisciplinary Conference on ...</td>\n",
       "    </tr>\n",
       "    <tr>\n",
       "      <th>1455</th>\n",
       "      <td>Book\\n\\nEdited Book</td>\n",
       "      <td>International Conference on Computer Support f...</td>\n",
       "    </tr>\n",
       "    <tr>\n",
       "      <th>1498</th>\n",
       "      <td>Book\\n\\nEdited Book</td>\n",
       "      <td>Annual Meeting of the National Reading Confere...</td>\n",
       "    </tr>\n",
       "    <tr>\n",
       "      <th>1520</th>\n",
       "      <td>Book\\n\\nEdited Book</td>\n",
       "      <td>This volume grew out of a conference entitled ...</td>\n",
       "    </tr>\n",
       "    <tr>\n",
       "      <th>1568</th>\n",
       "      <td>Book\\n\\nEdited Book</td>\n",
       "      <td>The papers in this volume are expansions of ta...</td>\n",
       "    </tr>\n",
       "    <tr>\n",
       "      <th>1578</th>\n",
       "      <td>Book\\n\\nEdited Book</td>\n",
       "      <td>International Conference of the International ...</td>\n",
       "    </tr>\n",
       "    <tr>\n",
       "      <th>372</th>\n",
       "      <td>Book\\n\\nEdited Book</td>\n",
       "      <td>European Conference on Traumatic Stress. 10th....</td>\n",
       "    </tr>\n",
       "    <tr>\n",
       "      <th>825</th>\n",
       "      <td>Book\\n\\nEdited Book</td>\n",
       "      <td>2006 ACA Annual Convention. 2006. US. The arti...</td>\n",
       "    </tr>\n",
       "    <tr>\n",
       "      <th>175</th>\n",
       "      <td>Book\\n\\nEdited Book</td>\n",
       "      <td>Symposium XXI of the Association for the Advan...</td>\n",
       "    </tr>\n",
       "    <tr>\n",
       "      <th>177</th>\n",
       "      <td>Book\\n\\nEdited Book</td>\n",
       "      <td>Youth in Cities: Successful Mediators of Norma...</td>\n",
       "    </tr>\n",
       "    <tr>\n",
       "      <th>228</th>\n",
       "      <td>Book\\n\\nEdited Book</td>\n",
       "      <td>Symposium on the Psychosocial Consequences of ...</td>\n",
       "    </tr>\n",
       "    <tr>\n",
       "      <th>229</th>\n",
       "      <td>Book\\n\\nEdited Book</td>\n",
       "      <td>Symposium on the Psychosocial Consequences of ...</td>\n",
       "    </tr>\n",
       "    <tr>\n",
       "      <th>335</th>\n",
       "      <td>Book\\n\\nEdited Book</td>\n",
       "      <td>27th Interamerican Congress of Psychology. Jun...</td>\n",
       "    </tr>\n",
       "    <tr>\n",
       "      <th>336</th>\n",
       "      <td>Book\\n\\nEdited Book</td>\n",
       "      <td>International Congress of the International As...</td>\n",
       "    </tr>\n",
       "    <tr>\n",
       "      <th>381</th>\n",
       "      <td>Book\\n\\nEdited Book</td>\n",
       "      <td>Conference on Sexual Orientation and the Law.....</td>\n",
       "    </tr>\n",
       "    <tr>\n",
       "      <th>453</th>\n",
       "      <td>Book\\n\\nEdited Book</td>\n",
       "      <td>Annual Meeting of the National Reading Confere...</td>\n",
       "    </tr>\n",
       "    <tr>\n",
       "      <th>477</th>\n",
       "      <td>Book\\n\\nEdited Book</td>\n",
       "      <td>An earlier version of this chapter was present...</td>\n",
       "    </tr>\n",
       "    <tr>\n",
       "      <th>478</th>\n",
       "      <td>Book\\n\\nEdited Book</td>\n",
       "      <td>Portions of this chapter were presented at the...</td>\n",
       "    </tr>\n",
       "    <tr>\n",
       "      <th>488</th>\n",
       "      <td>Book\\n\\nEdited Book</td>\n",
       "      <td>The collection presented here stems from a con...</td>\n",
       "    </tr>\n",
       "    <tr>\n",
       "      <th>509</th>\n",
       "      <td>Book\\n\\nEdited Book</td>\n",
       "      <td>The Future of Literacy in a Changing World. Ma...</td>\n",
       "    </tr>\n",
       "    <tr>\n",
       "      <th>180</th>\n",
       "      <td>Book\\n\\nEdited Book</td>\n",
       "      <td>8th annual consumer culture theory conference....</td>\n",
       "    </tr>\n",
       "    <tr>\n",
       "      <th>674</th>\n",
       "      <td>Book\\n\\nEdited Book</td>\n",
       "      <td>2006 ACA Annual Convention. 2006. US. The arti...</td>\n",
       "    </tr>\n",
       "    <tr>\n",
       "      <th>779</th>\n",
       "      <td>Book\\n\\nEdited Book</td>\n",
       "      <td>The annual meeting of the Midwestern Conferenc...</td>\n",
       "    </tr>\n",
       "    <tr>\n",
       "      <th>393</th>\n",
       "      <td>Book\\n\\nEdited Book</td>\n",
       "      <td>Midwestern Psychological Association conventio...</td>\n",
       "    </tr>\n",
       "    <tr>\n",
       "      <th>670</th>\n",
       "      <td>Book\\n\\nEdited Book</td>\n",
       "      <td>International Conference on Practical Aspects ...</td>\n",
       "    </tr>\n",
       "  </tbody>\n",
       "</table>\n",
       "<p>151 rows × 2 columns</p>\n",
       "</div>"
      ],
      "text/plain": [
       "           Publication Type                                         Conference\n",
       "707     Book\\n\\nEdited Book  2005 IEEE International Professional Communica...\n",
       "800     Book\\n\\nEdited Book  2006 ACA Annual Convention. 2006. US. The arti...\n",
       "801     Book\\n\\nEdited Book  2006 ACA Annual Convention. 2006. US. The arti...\n",
       "1027    Book\\n\\nEdited Book  Ontario Symposium on Personality and Social Ps...\n",
       "1501    Book\\n\\nEdited Book  Bienneial Meeting of the International Society...\n",
       "1553  Book\\n\\nAuthored Book  Earlier versions of several parts of this book...\n",
       "1591    Book\\n\\nEdited Book  Mental Health of Immigrants and Refugees. Mar,...\n",
       "1607    Book\\n\\nEdited Book  International Conference of the International ...\n",
       "1638    Book\\n\\nEdited Book  Conference on Childhood Bilingualism. Jun, 198...\n",
       "410     Book\\r\\rEdited Book  24th Spring Meeting, Division 39, APA. Apr, 20...\n",
       "439     Book\\r\\rEdited Book  The annual meeting of the Association for Wome...\n",
       "727     Book\\r\\rEdited Book  The chapters contained in this book emerged fr...\n",
       "750   Book\\r\\rAuthored Book  Based on the Interactive Forum on Transference...\n",
       "808     Book\\r\\rEdited Book  An earlier version of this paper was presented...\n",
       "152     Book\\n\\nEdited Book  A major portion of the works in this volume or...\n",
       "739     Book\\n\\nEdited Book  First Universal Races Conference. 1. Jul, 1911...\n",
       "897     Book\\n\\nEdited Book  Gender & Empire. Oct, 2004. Otago University. ...\n",
       "900     Book\\n\\nEdited Book  Gender & Empire. Oct, 2004. University of Otag...\n",
       "984     Book\\n\\nEdited Book  Nebraska Symposium on Motivation. 53. The afor...\n",
       "1180    Book\\n\\nEdited Book  24th Spring Meeting, Division 39, APA. Apr, 20...\n",
       "1225    Book\\n\\nEdited Book  The annual meeting of the Association for Wome...\n",
       "1229    Book\\n\\nEdited Book  The annual meeting of the Midwestern Conferenc...\n",
       "1302    Book\\n\\nEdited Book  Annual Meeting of the Society for the Study of...\n",
       "1461    Book\\n\\nEdited Book  Annual Conference of the American Association ...\n",
       "34      Book\\n\\nEdited Book  Joint Conference of the Internataional Society...\n",
       "548     Book\\n\\nEdited Book  A portion of the chapter by D. Byrne was read ...\n",
       "585     Book\\n\\nEdited Book  International Conference of the American Couns...\n",
       "276     Book\\n\\nEdited Book  Gender & Empire. Oct, 2004. Otago University. ...\n",
       "438     Book\\n\\nEdited Book  Gender and Power in Families. 1987. London. Un...\n",
       "163     Book\\n\\nEdited Book  Rutgers Invitational Symposium on Education. 1...\n",
       "...                     ...                                                ...\n",
       "368     Book\\n\\nEdited Book  National Conference on Education & Training in...\n",
       "517     Book\\n\\nEdited Book  Annual Convention of the American Psychologica...\n",
       "640     Book\\n\\nEdited Book  Rutgers Invitational Symposium on Education. 1...\n",
       "942     Book\\n\\nEdited Book  International Congress of the International As...\n",
       "1026    Book\\n\\nEdited Book  Minnesota Symposium on Child Psychology.. 29th...\n",
       "1068    Book\\n\\nEdited Book  International Interdisciplinary Conference on ...\n",
       "1455    Book\\n\\nEdited Book  International Conference on Computer Support f...\n",
       "1498    Book\\n\\nEdited Book  Annual Meeting of the National Reading Confere...\n",
       "1520    Book\\n\\nEdited Book  This volume grew out of a conference entitled ...\n",
       "1568    Book\\n\\nEdited Book  The papers in this volume are expansions of ta...\n",
       "1578    Book\\n\\nEdited Book  International Conference of the International ...\n",
       "372     Book\\n\\nEdited Book  European Conference on Traumatic Stress. 10th....\n",
       "825     Book\\n\\nEdited Book  2006 ACA Annual Convention. 2006. US. The arti...\n",
       "175     Book\\n\\nEdited Book  Symposium XXI of the Association for the Advan...\n",
       "177     Book\\n\\nEdited Book  Youth in Cities: Successful Mediators of Norma...\n",
       "228     Book\\n\\nEdited Book  Symposium on the Psychosocial Consequences of ...\n",
       "229     Book\\n\\nEdited Book  Symposium on the Psychosocial Consequences of ...\n",
       "335     Book\\n\\nEdited Book  27th Interamerican Congress of Psychology. Jun...\n",
       "336     Book\\n\\nEdited Book  International Congress of the International As...\n",
       "381     Book\\n\\nEdited Book  Conference on Sexual Orientation and the Law.....\n",
       "453     Book\\n\\nEdited Book  Annual Meeting of the National Reading Confere...\n",
       "477     Book\\n\\nEdited Book  An earlier version of this chapter was present...\n",
       "478     Book\\n\\nEdited Book  Portions of this chapter were presented at the...\n",
       "488     Book\\n\\nEdited Book  The collection presented here stems from a con...\n",
       "509     Book\\n\\nEdited Book  The Future of Literacy in a Changing World. Ma...\n",
       "180     Book\\n\\nEdited Book  8th annual consumer culture theory conference....\n",
       "674     Book\\n\\nEdited Book  2006 ACA Annual Convention. 2006. US. The arti...\n",
       "779     Book\\n\\nEdited Book  The annual meeting of the Midwestern Conferenc...\n",
       "393     Book\\n\\nEdited Book  Midwestern Psychological Association conventio...\n",
       "670     Book\\n\\nEdited Book  International Conference on Practical Aspects ...\n",
       "\n",
       "[151 rows x 2 columns]"
      ]
     },
     "execution_count": 116,
     "metadata": {},
     "output_type": "execute_result"
    }
   ],
   "source": [
    "selection = (psychinfo_search[\"publication_type\"] == 3) * (psychinfo_search[\"conference_dich\"] == 1)\n",
    "psychinfo_search[selection][[\"Publication Type\", \"Conference\"]]"
   ]
  },
  {
   "cell_type": "code",
   "execution_count": 25,
   "metadata": {
    "collapsed": false
   },
   "outputs": [
    {
     "data": {
      "text/plain": [
       "English           27823\n",
       "French               83\n",
       "Spanish              78\n",
       "Italian              42\n",
       "German               41\n",
       "Portuguese           31\n",
       "Dutch                29\n",
       "Chinese              22\n",
       "Greek                10\n",
       "Hebrew                7\n",
       "Turkish               6\n",
       "Serbo-Croatian        5\n",
       "Russian               5\n",
       "Slovak                4\n",
       "Japanese              3\n",
       "Hungarian             3\n",
       "Czech                 2\n",
       "Polish                2\n",
       "Danish                2\n",
       "Norwegian             2\n",
       "Romanian              2\n",
       "Afrikaans             1\n",
       "NonEnglish            1\n",
       "Swedish               1\n",
       "Finnish               1\n",
       "Arabic                1\n",
       "Name: Language, dtype: int64"
      ]
     },
     "execution_count": 25,
     "metadata": {},
     "output_type": "execute_result"
    }
   ],
   "source": [
    "psychinfo_search['Language'].value_counts()"
   ]
  },
  {
   "cell_type": "code",
   "execution_count": 38,
   "metadata": {
    "collapsed": true
   },
   "outputs": [],
   "source": [
    "language = {'English': 1, 'French': 2, 'Spanish': 3, 'Italian': 4, 'German': 5, 'Portuguese': 6,\n",
    "       'Dutch': 7, 'Chinese': 8, 'Greek': 9, 'Hebrew': 10, 'Turkish': 10, 'Russian': 10,\n",
    "       'Serbo-Croatian': 10, 'Slovak': 10, 'Japanese': 10, 'Hungarian': 10, 'Czech': 10,\n",
    "       'Danish': 10, 'Romanian': 10, 'Polish': 10, 'Norwegian': 10, 'Swedish': 10, 'Finnish': 10,\n",
    "       'NonEnglish': 10, 'Arabic': 10, 'Afrikaans': 10}"
   ]
  },
  {
   "cell_type": "code",
   "execution_count": 39,
   "metadata": {
    "collapsed": false
   },
   "outputs": [],
   "source": [
    "psychinfo_search['language'] = psychinfo_search['Language'].map(language)"
   ]
  },
  {
   "cell_type": "code",
   "execution_count": 40,
   "metadata": {
    "collapsed": false
   },
   "outputs": [],
   "source": [
    "#psychinfo_search[\"PsycINFO Classification Code\"].value_counts().to_csv(\"data/PsycInfo/processed/PsycINFO_Classification_Code.csv\")"
   ]
  },
  {
   "cell_type": "code",
   "execution_count": 41,
   "metadata": {
    "collapsed": true
   },
   "outputs": [],
   "source": [
    "#psychinfo_search[\"Tests & Measures\"].value_counts().to_csv(\"data/PsycInfo/processed/Tests_&_Measures.csv\")"
   ]
  },
  {
   "cell_type": "code",
   "execution_count": 42,
   "metadata": {
    "collapsed": true
   },
   "outputs": [],
   "source": [
    "#psychinfo_search[\"Key Concepts\"].value_counts().to_csv(\"data/PsycInfo/processed/Key_Concepts.csv\")"
   ]
  },
  {
   "cell_type": "code",
   "execution_count": 43,
   "metadata": {
    "collapsed": true
   },
   "outputs": [],
   "source": [
    "#psychinfo_search[\"Location\"].value_counts().to_csv(\"data/PsycInfo/processed/Location.csv\")"
   ]
  },
  {
   "cell_type": "code",
   "execution_count": 44,
   "metadata": {
    "collapsed": true
   },
   "outputs": [],
   "source": [
    "#psychinfo_search[\"MeSH Subject Headings\"].value_counts().to_csv(\"data/PsycInfo/processed/MeSH_Subject_Headings.csv\")"
   ]
  },
  {
   "cell_type": "code",
   "execution_count": 45,
   "metadata": {
    "collapsed": true
   },
   "outputs": [],
   "source": [
    "#psychinfo_search[\"Journal Name\"].value_counts().to_csv(\"data/PsycInfo/processed/Journal_Name.csv\")"
   ]
  },
  {
   "cell_type": "code",
   "execution_count": 46,
   "metadata": {
    "collapsed": true
   },
   "outputs": [],
   "source": [
    "#psychinfo_search[\"Institution\"].value_counts().to_csv(\"data/PsycInfo/processed/Institution.csv\")"
   ]
  },
  {
   "cell_type": "code",
   "execution_count": 118,
   "metadata": {
    "collapsed": false
   },
   "outputs": [
    {
     "data": {
      "text/plain": [
       "349"
      ]
     },
     "execution_count": 118,
     "metadata": {},
     "output_type": "execute_result"
    }
   ],
   "source": [
    "len(psychinfo_search[\"Population Group\"].value_counts())"
   ]
  },
  {
   "cell_type": "code",
   "execution_count": 117,
   "metadata": {
    "collapsed": false
   },
   "outputs": [],
   "source": [
    "#psychinfo_search[\"Methodology\"].value_counts()"
   ]
  },
  {
   "cell_type": "code",
   "execution_count": 48,
   "metadata": {
    "collapsed": true
   },
   "outputs": [],
   "source": [
    "def GetCats(text):\n",
    "  pattern = re.compile(\"([0-9]+)\")\n",
    "  results = [100*(int(x)//100) for x in pattern.findall(text)]\n",
    "  if len(set(results))>1:\n",
    "    return 4300 \n",
    "  else:\n",
    "    return results[0] "
   ]
  },
  {
   "cell_type": "code",
   "execution_count": 49,
   "metadata": {
    "collapsed": false
   },
   "outputs": [],
   "source": [
    "psychinfo_search[\"PsycINFO_Classification_Code\"] = psychinfo_search[\"PsycINFO Classification Code\"].map(GetCats, \"ignore\")"
   ]
  },
  {
   "cell_type": "code",
   "execution_count": 52,
   "metadata": {
    "collapsed": false
   },
   "outputs": [
    {
     "data": {
      "text/plain": [
       "23"
      ]
     },
     "execution_count": 52,
     "metadata": {},
     "output_type": "execute_result"
    }
   ],
   "source": [
    "lists = psychinfo[\"PsycINFO Classification Code\"].map(GetCats, \"ignore\")\n",
    "len(set([x for x in lists.dropna()]))\n",
    "#Number of unique categories"
   ]
  },
  {
   "cell_type": "code",
   "execution_count": 64,
   "metadata": {
    "collapsed": false
   },
   "outputs": [],
   "source": [
    "psychinfo_search[\"grants_sponsorship\"] = psychinfo_search[\"Grant/Sponsorship\"].fillna(\"\").map(lambda x: int(len(x) > 0))"
   ]
  },
  {
   "cell_type": "code",
   "execution_count": 41,
   "metadata": {
    "collapsed": true
   },
   "outputs": [],
   "source": [
    "#psychinfo_search.to_csv(\"data/PsycInfo/processed/psychinfo_term_search.csv.bz2\", encoding='utf-8', compression='bz2')"
   ]
  },
  {
   "cell_type": "code",
   "execution_count": 42,
   "metadata": {
    "collapsed": true
   },
   "outputs": [],
   "source": [
    "#psychinfo_search = psychinfo_search.drop('Title', 1)"
   ]
  },
  {
   "cell_type": "code",
   "execution_count": 126,
   "metadata": {
    "collapsed": false
   },
   "outputs": [],
   "source": [
    "#psychinfo_search[\"Methodology\"].value_counts().to_csv(\"data/PsycInfo/Manual_Mapping/Methodology.csv\")"
   ]
  },
  {
   "cell_type": "code",
   "execution_count": 127,
   "metadata": {
    "collapsed": false
   },
   "outputs": [],
   "source": [
    "#psychinfo_search[\"Population Group\"].value_counts().to_csv(\"data/PsycInfo/Manual_Mapping/Population_Group.csv\")"
   ]
  },
  {
   "cell_type": "markdown",
   "metadata": {},
   "source": [
    "# PsycINFO Tasks"
   ]
  },
  {
   "cell_type": "markdown",
   "metadata": {},
   "source": [
    "Keep the current spreadsheet and add the following: \n",
    "1. ~~Add Term in Abstract to spreadsheet~~ (word co-occurrence and control for the length of the abstract--lambda(len(abstract)) )**do this for NSF/NIH data as well**\n",
    "1. ~~Add Term in Title to spreadsheet~~\n",
    "1. ~~Copy the word data into a new column (title it 'terms')--> code them as the following: 1 = multiculturalism, 2 = polyculturalism, 3 = cultural pluralism, 4 = monocultural, 5 = monoracial, 6 = bicultural, 7 = biracial, 8 = biethnic, 9 = interracial, 10 = multicultural, 11 = multiracial, 12 = polycultural, 13 = polyracial, 14 = polyethnic, 15 = mixed race, 16 = mixed ethnicity, 17 = other race, 18 = other ethnicity~~\n",
    "1. Search all options in set for the following categories: -- I will manually categorize them once you give all options in each set\n",
    "    1. ~~\"Type of Book\"~~\n",
    "    1. ~~\"PsycINFO Classification Code\"~~\n",
    "       ~~1. (used the classification codes[recoded to most basic category levels] -- subcategories \n",
    "       created by PsycInfo (22)-- multiple categories = 4300)~~\n",
    "    1. ~~\"Document Type\"~~\n",
    "    1. ~~\"Grant/Scholarship\"~~ \n",
    "        1. ~~(create a dichotomized variable 0/1)~~\n",
    "    1. ~~\"Tests & Measures\"--> csv (no longer necessary)~~\n",
    "        1. ~~(Too many categories---needs to be reviewed manually/carefully in excel)~~\n",
    "    1. ~~\"Publication Type\"~~\n",
    "    1. ~~\"Publication Status\"~~\n",
    "    1. \"Population Group\" \n",
    "        1. (Need to be mapped manually and then recategorized)\n",
    "        1. We need: gender, age (abstract, years)\n",
    "    1. \"Methodology\"\n",
    "        1. (can make specific methods dichotomous--may remove if unnecessary)\n",
    "    1. \"Conference\" \n",
    "        1. ~~Right now, this is text (~699 entries)--> dichotomize variable.~~ \n",
    "           ~~If it is a conference ie there is a text = 1, if there is NaN = 0.~~\n",
    "        1. Then, I will incorporate this as a new category in \"Publication Type\" and remove this column).??? [not currently included as a category--overlaps with category 3 in Publication Type = Books]\n",
    "    1. \"Key Concepts\"--> csv \n",
    "        1. (word co-occurrence)\n",
    "    1. \"Location\"-->csv--> sent to Barbara\n",
    "        1. (categorized by region--multiple regions)\n",
    "    1. ~~\"Language\"~~\n",
    "        ~~1. I am not sure about my \"other\" language (10) category -- I put everything with less \n",
    "        than 10 entries into one category.~~\n",
    "    1. \"MeSH Subject Headings\"--> csv (may no longer be necessary?)\n",
    "        1. (word co-occurrence)\n",
    "    1. \"Journal Name\"-->csv--> sent to Jian Xin\n",
    "        1. (categorized by H-index in 2014)\n",
    "    1. \"Institution\"-->csv --> sent to Barbara\n",
    "        1. (categorized by state, region & country)\n",
    "1. ~~Count the number of cited references for each entry~~\n",
    "\n",
    "***Once we extract the csv files for these columns, I will categorize them. \n",
    "\n",
    "Once all of these corrections have been made, make a new spreadsheet and delete the following information: \n",
    "1. Volume\n",
    "1. Publisher\n",
    "1. Accession Number\n",
    "1. Author(s) \n",
    "1. Issue\n",
    "1. Cited References\n",
    "1. Publication Status (had no variance)--only first posting\n",
    "1. Document Type???\n"
   ]
  },
  {
   "cell_type": "code",
   "execution_count": 121,
   "metadata": {
    "collapsed": false
   },
   "outputs": [
    {
     "data": {
      "text/plain": [
       "349"
      ]
     },
     "execution_count": 121,
     "metadata": {},
     "output_type": "execute_result"
    }
   ],
   "source": [
    "len(psychinfo_search[\"Population Group\"].value_counts())"
   ]
  }
 ],
 "metadata": {
  "kernelspec": {
   "display_name": "Python 3",
   "language": "python",
   "name": "python3"
  },
  "language_info": {
   "codemirror_mode": {
    "name": "ipython",
    "version": 3
   },
   "file_extension": ".py",
   "mimetype": "text/x-python",
   "name": "python",
   "nbconvert_exporter": "python",
   "pygments_lexer": "ipython3",
   "version": "3.4.3"
  }
 },
 "nbformat": 4,
 "nbformat_minor": 0
}
