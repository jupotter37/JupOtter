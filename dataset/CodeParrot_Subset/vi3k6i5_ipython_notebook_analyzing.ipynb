{
 "cells": [
  {
   "cell_type": "code",
   "execution_count": 31,
   "metadata": {
    "collapsed": true
   },
   "outputs": [],
   "source": [
    "import pandas as pd\n",
    "import numpy as np\n",
    "import matplotlib.pyplot as plt\n",
    "names = pd.read_csv(\"names_prop_by_year.csv\")\n",
    "boy_names = names[names[\"Sex\"]=='M']\n",
    "girl_names = names[names[\"Sex\"]=='F']\n",
    "girl_names.head()\n",
    "boy_names.columns\n",
    "john_occurnace = boy_names[boy_names[\"Name\"]==\"John\"]\n",
    "mary_occurnace = girl_names[girl_names[\"Name\"]==\"Mary\"]"
   ]
  },
  {
   "cell_type": "code",
   "execution_count": 52,
   "metadata": {
    "collapsed": false
   },
   "outputs": [
    {
     "data": {
      "text/html": [
       "<div style=\"max-height:1000px;max-width:1500px;overflow:auto;\">\n",
       "<table border=\"1\" class=\"dataframe\">\n",
       "  <thead>\n",
       "    <tr style=\"text-align: right;\">\n",
       "      <th></th>\n",
       "      <th>Name</th>\n",
       "      <th>Sex</th>\n",
       "      <th>Count</th>\n",
       "      <th>Prop</th>\n",
       "      <th>Year</th>\n",
       "    </tr>\n",
       "  </thead>\n",
       "  <tbody>\n",
       "    <tr>\n",
       "      <th>0</th>\n",
       "      <td>Mary</td>\n",
       "      <td>F</td>\n",
       "      <td>7065</td>\n",
       "      <td>0.035065</td>\n",
       "      <td>1880</td>\n",
       "    </tr>\n",
       "    <tr>\n",
       "      <th>2000</th>\n",
       "      <td>Mary</td>\n",
       "      <td>F</td>\n",
       "      <td>6919</td>\n",
       "      <td>0.035906</td>\n",
       "      <td>1881</td>\n",
       "    </tr>\n",
       "    <tr>\n",
       "      <th>3935</th>\n",
       "      <td>Mary</td>\n",
       "      <td>F</td>\n",
       "      <td>8148</td>\n",
       "      <td>0.036779</td>\n",
       "      <td>1882</td>\n",
       "    </tr>\n",
       "    <tr>\n",
       "      <th>6062</th>\n",
       "      <td>Mary</td>\n",
       "      <td>F</td>\n",
       "      <td>8012</td>\n",
       "      <td>0.036930</td>\n",
       "      <td>1883</td>\n",
       "    </tr>\n",
       "    <tr>\n",
       "      <th>8146</th>\n",
       "      <td>Mary</td>\n",
       "      <td>F</td>\n",
       "      <td>9217</td>\n",
       "      <td>0.037857</td>\n",
       "      <td>1884</td>\n",
       "    </tr>\n",
       "  </tbody>\n",
       "</table>\n",
       "</div>"
      ],
      "text/plain": [
       "      Name Sex  Count      Prop  Year\n",
       "0     Mary   F   7065  0.035065  1880\n",
       "2000  Mary   F   6919  0.035906  1881\n",
       "3935  Mary   F   8148  0.036779  1882\n",
       "6062  Mary   F   8012  0.036930  1883\n",
       "8146  Mary   F   9217  0.037857  1884"
      ]
     },
     "execution_count": 52,
     "metadata": {},
     "output_type": "execute_result"
    }
   ],
   "source": [
    "chloe_occurnace = girl_names[girl_names[\"Name\"]==\"Chloe\"]\n",
    "# john_occurnace = john_occurnace.sort([\"Year\"])\n",
    "john_occurnace.head()\n",
    "mary_occurnace.head()\n",
    "# mary_occurnace[['Prop']] = mary_occurnace[['Prop']].astype(float)\n",
    "# mary = mary_occurnace.ix[0:,['Year','Prop']]\n",
    "# john = john_occurnace.ix[0:,['Year','Prop']]"
   ]
  },
  {
   "cell_type": "code",
   "execution_count": 58,
   "metadata": {
    "collapsed": false
   },
   "outputs": [],
   "source": [
    "# mary.head()\n",
    "# mary.to_csv('file.csv', index=False)\n",
    "# john = john_occurnace.ix[0:,['Year','Prop']]\n",
    "# mary.plot()\n",
    "# john.plot(color='Blue')\n",
    "# plt.show()\n",
    "plt.figure();\n",
    "john_occurnace.plot(x=\"Year\",y=\"Prop\",color=\"Red\",title='John')\n",
    "plt.legend( ('John',), loc=0 )\n",
    "mary_occurnace.plot(x=\"Year\",y=\"Prop\",color=\"Blue\",title='Mary')\n",
    "plt.legend( ('Mary',), loc=0 )\n",
    "chloe_occurnace.plot(x=\"Year\",y=\"Prop\",color=\"Green\",title='Chloe')\n",
    "plt.legend( ('Chloe',), loc=0 )\n",
    "plt.show()"
   ]
  },
  {
   "cell_type": "code",
   "execution_count": 102,
   "metadata": {
    "collapsed": false
   },
   "outputs": [],
   "source": [
    "mix = pd.merge(john_occurnace.loc[:,['Year','Prop']], mary_occurnace.loc[:,['Year','Prop']], on='Year')\n",
    "mix = pd.merge(mix, chloe_occurnace.loc[:,['Year','Prop']], on='Year')\n",
    "mix.columns = ['Year', 'john', 'mary','chloe']"
   ]
  },
  {
   "cell_type": "code",
   "execution_count": 108,
   "metadata": {
    "collapsed": false
   },
   "outputs": [],
   "source": [
    "mix.plot(x=\"Year\")\n",
    "plt.show()"
   ]
  },
  {
   "cell_type": "code",
   "execution_count": 105,
   "metadata": {
    "collapsed": false
   },
   "outputs": [
    {
     "data": {
      "text/html": [
       "<div style=\"max-height:1000px;max-width:1500px;overflow:auto;\">\n",
       "<table border=\"1\" class=\"dataframe\">\n",
       "  <thead>\n",
       "    <tr style=\"text-align: right;\">\n",
       "      <th></th>\n",
       "      <th>Year</th>\n",
       "      <th>john</th>\n",
       "      <th>mary</th>\n",
       "      <th>chloe</th>\n",
       "    </tr>\n",
       "  </thead>\n",
       "  <tbody>\n",
       "    <tr>\n",
       "      <th>129</th>\n",
       "      <td>2009</td>\n",
       "      <td>0.003175</td>\n",
       "      <td>0.000827</td>\n",
       "      <td>0.003120</td>\n",
       "    </tr>\n",
       "    <tr>\n",
       "      <th>130</th>\n",
       "      <td>2010</td>\n",
       "      <td>0.003130</td>\n",
       "      <td>0.000776</td>\n",
       "      <td>0.003185</td>\n",
       "    </tr>\n",
       "    <tr>\n",
       "      <th>131</th>\n",
       "      <td>2011</td>\n",
       "      <td>0.003023</td>\n",
       "      <td>0.000741</td>\n",
       "      <td>0.003009</td>\n",
       "    </tr>\n",
       "    <tr>\n",
       "      <th>132</th>\n",
       "      <td>2012</td>\n",
       "      <td>0.002906</td>\n",
       "      <td>0.000703</td>\n",
       "      <td>0.002646</td>\n",
       "    </tr>\n",
       "    <tr>\n",
       "      <th>133</th>\n",
       "      <td>2013</td>\n",
       "      <td>0.002935</td>\n",
       "      <td>0.000721</td>\n",
       "      <td>0.002415</td>\n",
       "    </tr>\n",
       "  </tbody>\n",
       "</table>\n",
       "</div>"
      ],
      "text/plain": [
       "     Year      john      mary     chloe\n",
       "129  2009  0.003175  0.000827  0.003120\n",
       "130  2010  0.003130  0.000776  0.003185\n",
       "131  2011  0.003023  0.000741  0.003009\n",
       "132  2012  0.002906  0.000703  0.002646\n",
       "133  2013  0.002935  0.000721  0.002415"
      ]
     },
     "execution_count": 105,
     "metadata": {},
     "output_type": "execute_result"
    }
   ],
   "source": [
    "mix.tail()"
   ]
  },
  {
   "cell_type": "code",
   "execution_count": null,
   "metadata": {
    "collapsed": true
   },
   "outputs": [],
   "source": []
  }
 ],
 "metadata": {
  "kernelspec": {
   "display_name": "Python 2",
   "language": "python",
   "name": "python2"
  },
  "language_info": {
   "codemirror_mode": {
    "name": "ipython",
    "version": 2
   },
   "file_extension": ".py",
   "mimetype": "text/x-python",
   "name": "python",
   "nbconvert_exporter": "python",
   "pygments_lexer": "ipython2",
   "version": "2.7.8"
  }
 },
 "nbformat": 4,
 "nbformat_minor": 0
}
