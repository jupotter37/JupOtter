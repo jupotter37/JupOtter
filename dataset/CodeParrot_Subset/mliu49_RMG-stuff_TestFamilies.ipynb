{
 "cells": [
  {
   "cell_type": "code",
   "execution_count": null,
   "metadata": {
    "collapsed": false
   },
   "outputs": [],
   "source": [
    "import rmgpy\n",
    "from rmgpy.data.rmg import RMGDatabase\n",
    "from rmgpy.rmg.react import *\n",
    "from rmgpy.reaction import Reaction\n",
    "from rmgpy.molecule.molecule import Molecule\n",
    "from rmgpy.molecule.resonance import *\n",
    "from rmgpy.species import Species\n",
    "\n",
    "from base64 import b64encode\n",
    "from IPython.display import display, HTML, Image"
   ]
  },
  {
   "cell_type": "code",
   "execution_count": null,
   "metadata": {
    "collapsed": true
   },
   "outputs": [],
   "source": [
    "families = ['Intra_R_Add_Endocyclic', 'Intra_R_Add_Exocyclic', 'Intra_R_Add_Polycyclic']"
   ]
  },
  {
   "cell_type": "code",
   "execution_count": null,
   "metadata": {
    "collapsed": false
   },
   "outputs": [],
   "source": [
    "databasePath = rmgpy.settings['database.directory']\n",
    "\n",
    "database = RMGDatabase()\n",
    "database.load(\n",
    "    path = databasePath,\n",
    "    thermoLibraries = [],\n",
    "    reactionLibraries = [],\n",
    "    seedMechanisms = [],\n",
    "    kineticsFamilies = families,\n",
    "    )"
   ]
  },
  {
   "cell_type": "code",
   "execution_count": null,
   "metadata": {
    "collapsed": false
   },
   "outputs": [],
   "source": [
    "spc = Species().fromSMILES('C1=CC=CC=C1C[CH2]')\n",
    "spc.generateResonanceIsomers()\n",
    "display(spc)\n",
    "\n",
    "reactants = (spc,)"
   ]
  },
  {
   "cell_type": "code",
   "execution_count": null,
   "metadata": {
    "collapsed": false,
    "scrolled": false
   },
   "outputs": [],
   "source": [
    "# html settings\n",
    "full = 24\n",
    "half = full / 2\n",
    "quarter = full / 4\n",
    "eighth = full / 8\n",
    "\n",
    "combos = getMoleculeTuples(reactants)\n",
    "\n",
    "reactionList = []\n",
    "for combo in combos:\n",
    "    reactionList.extend(reactMolecules(combo))\n",
    "\n",
    "reactionList = findDegeneracies(reactionList)\n",
    "correctDegeneracyOfReverseReactions(reactionList, list(reactants))\n",
    "reduceSameReactantDegeneracy(reactionList)\n",
    "\n",
    "for reaction in reactionList:\n",
    "    template = database.kinetics.families[reaction.family].retrieveTemplate(reaction.template)\n",
    "\n",
    "    html = ['<table style=\"width:100%;table-layout:fixed;\"><tr>']\n",
    "    html += ['<td colspan=\"{0}\" rowspan=\"3\"><img style=\"display: block; margin: auto;\" src=\"data:image/png;base64,{1}\"></td>'.format(3*eighth, b64encode(reaction._repr_png_()))]\n",
    "    html += ['<th colspan=\"{0}\">Family</th>'.format(eighth)]\n",
    "    html += ['<td colspan=\"{0}\">{1}</td>'.format(half, reaction.family)]\n",
    "    html += ['</tr><tr>']\n",
    "    html += ['<th colspan=\"{0}\">Template</th>'.format(eighth)]\n",
    "    html += ['<td colspan=\"{0}\">{1}</td>'.format(half, reaction.template)]\n",
    "    html += ['</tr><tr>']\n",
    "    html += ['<th colspan=\"{0}\">Degeneracy</th>'.format(eighth)]\n",
    "    html += ['<td colspan=\"{0}\">{1}</td>'.format(half, reaction.degeneracy)]\n",
    "    html += ['</tr><tr>']\n",
    "    for entry in template:\n",
    "        html += ['<td colspan=\"{0}\" style=\"text-align: center;\">{1}</td>'.format(full/len(template), entry.label)]\n",
    "    html += ['</tr><tr>']\n",
    "    for entry in template:\n",
    "        html += ['<td colspan=\"{0}\"><img style=\"display: block; margin: auto;\" src=\"data:image/png;base64,{1}\"></td>'.format(full/len(template), b64encode(entry.item._repr_png_()))]\n",
    "    html += ['</tr></table>']\n",
    "\n",
    "    display(HTML(''.join(html)))"
   ]
  },
  {
   "cell_type": "code",
   "execution_count": null,
   "metadata": {
    "collapsed": true
   },
   "outputs": [],
   "source": []
  },
  {
   "cell_type": "code",
   "execution_count": null,
   "metadata": {
    "collapsed": true
   },
   "outputs": [],
   "source": []
  }
 ],
 "metadata": {
  "anaconda-cloud": {},
  "kernelspec": {
   "display_name": "Python [conda env:rmg_env]",
   "language": "python",
   "name": "conda-env-rmg_env-py"
  },
  "language_info": {
   "codemirror_mode": {
    "name": "ipython",
    "version": 2
   },
   "file_extension": ".py",
   "mimetype": "text/x-python",
   "name": "python",
   "nbconvert_exporter": "python",
   "pygments_lexer": "ipython2",
   "version": "2.7.12"
  }
 },
 "nbformat": 4,
 "nbformat_minor": 1
}
