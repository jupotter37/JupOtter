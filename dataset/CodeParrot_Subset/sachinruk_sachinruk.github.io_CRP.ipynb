{
 "cells": [
  {
   "cell_type": "code",
   "execution_count": 153,
   "metadata": {
    "collapsed": true
   },
   "outputs": [],
   "source": [
    "%matplotlib inline\n",
    "import numpy as np\n",
    "import matplotlib.pyplot as plt\n",
    "\n",
    "alpha=0.4\n",
    "np.random.seed(1)"
   ]
  },
  {
   "cell_type": "code",
   "execution_count": 154,
   "metadata": {
    "collapsed": false,
    "scrolled": true
   },
   "outputs": [],
   "source": [
    "cov0 = np.matrix([[1,0],[0,1]]) # diagonal covariance, points lie on x or y-axis\n",
    "mean0 = [0,0]\n",
    "N=100\n",
    "x=np.zeros((N+1,2))\n",
    "theta=[np.random.multivariate_normal(mean0,3*cov0,1)] # $\\times 3$ to spread out thetas\n",
    "x[0,]=np.random.multivariate_normal(theta[0][0],0.1*cov0,1)\n",
    "table_picked=np.zeros((N+1,1))\n",
    "table_picked[0]=1"
   ]
  },
  {
   "cell_type": "code",
   "execution_count": 155,
   "metadata": {
    "collapsed": false
   },
   "outputs": [],
   "source": [
    "n_k=[1.0]\n",
    "for i in range(N):\n",
    "    norm_const=(alpha+i+1.);\n",
    "    p_new_table=alpha/norm_const #note that it should be alpha+n-1 but due to python indexing...\n",
    "    p_existing_table=np.array(n_k)/norm_const\n",
    "    p=np.append(p_existing_table, p_new_table)\n",
    "    table=np.random.multinomial(1,p,1)\n",
    "    table_id=np.flatnonzero(table)[0]\n",
    "    if np.nonzero(table)[1]==(len(table[0])-1): #if new table chosen\n",
    "        n_k.append(1.0) #add new table\n",
    "        theta.append(np.random.multivariate_normal(mean0,cov0,1)) #choose new dish\n",
    "    else:\n",
    "        n_k[table_id]=n_k[table_id]+1.0\n",
    "    x[i+1,]=np.random.multivariate_normal(theta[table_id][0],0.1*cov0,1) #choose x\n",
    "    table_picked[i+1]=table_id\n",
    "        "
   ]
  },
  {
   "cell_type": "code",
   "execution_count": 156,
   "metadata": {
    "collapsed": false
   },
   "outputs": [
    {
     "data": {
      "image/png": "[encoded data removed]",
      "text/plain": [
       "<matplotlib.figure.Figure at 0x7fb28a555090>"
      ]
     },
     "metadata": {},
     "output_type": "display_data"
    }
   ],
   "source": [
    "plt.figure()\n",
    "plt.plot(x[:,0],x[:,1],'.')\n",
    "for i in range(len(theta)):\n",
    "    plt.plot(theta[i][0][0],theta[i][0][1],'rx')\n",
    "plt.show()"
   ]
  },
  {
   "cell_type": "code",
   "execution_count": 157,
   "metadata": {
    "collapsed": false
   },
   "outputs": [
    {
     "data": {
      "text/plain": [
       "[array([[ 2.8134487 , -1.05959319]]),\n",
       " array([[ 1.91382039,  0.33079713]]),\n",
       " array([[-0.78191168, -0.43750898]])]"
      ]
     },
     "execution_count": 157,
     "metadata": {},
     "output_type": "execute_result"
    }
   ],
   "source": [
    "theta"
   ]
  }
 ],
 "metadata": {
  "kernelspec": {
   "display_name": "Python 2",
   "language": "python",
   "name": "python2"
  },
  "language_info": {
   "codemirror_mode": {
    "name": "ipython",
    "version": 2
   },
   "file_extension": ".py",
   "mimetype": "text/x-python",
   "name": "python",
   "nbconvert_exporter": "python",
   "pygments_lexer": "ipython2",
   "version": "2.7.6"
  }
 },
 "nbformat": 4,
 "nbformat_minor": 0
}
