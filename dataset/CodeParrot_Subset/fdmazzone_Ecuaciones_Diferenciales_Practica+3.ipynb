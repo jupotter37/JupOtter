{
 "cells": [
  {
   "cell_type": "code",
   "execution_count": 1,
   "metadata": {
    "collapsed": true
   },
   "outputs": [],
   "source": [
    "from sympy import *\n",
    "init_printing()\n",
    "t,x0,x1,x2,C=symbols('t,x0,x1,x2,C',real=true)"
   ]
  },
  {
   "cell_type": "code",
   "execution_count": 2,
   "metadata": {
    "collapsed": false
   },
   "outputs": [
    {
     "data": {
      "image/png": "[encoded data removed]",
      "text/latex": [
       "$$\\left ( x_{2}, \\quad - C x_{1}\\right )$$"
      ],
      "text/plain": [
       "(x₂, -C⋅x₁)"
      ]
     },
     "execution_count": 2,
     "metadata": {},
     "output_type": "execute_result"
    }
   ],
   "source": [
    "# defino la función F\n",
    "def F(x):\n",
    "    F=(x[1],-x[0]*C)\n",
    "    return F\n",
    "\n",
    "F((x1,x2))\n",
    "\n"
   ]
  },
  {
   "cell_type": "markdown",
   "metadata": {
    "collapsed": false
   },
   "source": [
    "<h1>  Ejercicio resorte  <h1>"
   ]
  },
  {
   "cell_type": "code",
   "execution_count": 3,
   "metadata": {
    "collapsed": false
   },
   "outputs": [
    {
     "data": {
      "image/png": "[encoded data removed]",
      "text/latex": [
       "$$\\left ( \\frac{C^{4} t^{9}}{362880} - \\frac{C^{3} t^{7}}{5040} + \\frac{C^{2} t^{5}}{120} - \\frac{C t^{3}}{6} + t, \\quad - \\frac{C^{6} t^{10}}{3628800} + \\frac{C^{4} t^{8}}{40320} - \\frac{C^{3} t^{6}}{720} + \\frac{C^{2} t^{4}}{24} - \\frac{C t^{2}}{2} + 1\\right )$$"
      ],
      "text/plain": [
       "⎛ 4  9     3  7    2  5      3          6  10    4  8    3  6    2  4      2  \n",
       "⎜C ⋅t     C ⋅t    C ⋅t    C⋅t          C ⋅t     C ⋅t    C ⋅t    C ⋅t    C⋅t   \n",
       "⎜────── - ───── + ───── - ──── + t, - ─────── + ───── - ───── + ───── - ──── +\n",
       "⎝362880    5040    120     6          3628800   40320    720      24     2    \n",
       "\n",
       "  ⎞\n",
       "  ⎟\n",
       " 1⎟\n",
       "  ⎠"
      ]
     },
     "execution_count": 3,
     "metadata": {},
     "output_type": "execute_result"
    }
   ],
   "source": [
    "#calculo la phi_n por el método de Picard\n",
    "x0=(0,1)\n",
    "a=(0,C)\n",
    "for j in range(10):\n",
    "    a=((x0[0]+integrate(F(a)[0],t),x0[1]+integrate(F(a)[1],t)))\n",
    "\n",
    "a\n"
   ]
  },
  {
   "cell_type": "code",
   "execution_count": 4,
   "metadata": {
    "collapsed": false
   },
   "outputs": [
    {
     "data": {
      "image/png": "[encoded data removed]",
      "text/latex": [
       "$$\\frac{C^{4} t^{9}}{362880} - \\frac{C^{3} t^{7}}{5040} + \\frac{C^{2} t^{5}}{120} - \\frac{C t^{3}}{6} + t$$"
      ],
      "text/plain": [
       " 4  9     3  7    2  5      3    \n",
       "C ⋅t     C ⋅t    C ⋅t    C⋅t     \n",
       "────── - ───── + ───── - ──── + t\n",
       "362880    5040    120     6      "
      ]
     },
     "execution_count": 4,
     "metadata": {},
     "output_type": "execute_result"
    }
   ],
   "source": [
    "#calculo el polinomio de Taylor de la solución\n",
    "serietaylor=0\n",
    "f=1/sqrt(C)*sin(sqrt(C)*t)\n",
    "b=f.subs(t,0)\n",
    "j=0\n",
    "for j in range(10):\n",
    "    serietaylor=serietaylor+b/(factorial(j))*t**j\n",
    "    f=f.diff(t)\n",
    "    b=f.subs(t,0)\n",
    "    j=j+1\n",
    "serietaylor"
   ]
  },
  {
   "cell_type": "markdown",
   "metadata": {
    "collapsed": false
   },
   "source": [
    "\n",
    "<h1>  Ejercicio $X'=AX$   <h4>"
   ]
  },
  {
   "cell_type": "code",
   "execution_count": 5,
   "metadata": {
    "collapsed": false
   },
   "outputs": [
    {
     "data": {
      "image/png": "[encoded data removed]",
      "text/latex": [
       "$$\\left ( x_{2}, \\quad - x_{1} - 2 x_{2}\\right )$$"
      ],
      "text/plain": [
       "(x₂, -x₁ - 2⋅x₂)"
      ]
     },
     "execution_count": 5,
     "metadata": {},
     "output_type": "execute_result"
    }
   ],
   "source": [
    "#defino G\n",
    "def G(x):\n",
    "    G=(x[1],-x[0]-2*x[1])\n",
    "    return G\n",
    "\n",
    "G((x1,x2))"
   ]
  },
  {
   "cell_type": "code",
   "execution_count": 6,
   "metadata": {
    "collapsed": false
   },
   "outputs": [
    {
     "data": {
      "image/png": "[encoded data removed]",
      "text/latex": [
       "$$\\frac{11 t^{10}}{3628800} - \\frac{t^{9}}{36288} + \\frac{t^{8}}{4480} - \\frac{t^{7}}{630} + \\frac{7 t^{6}}{720} - \\frac{t^{5}}{20} + \\frac{5 t^{4}}{24} - \\frac{2 t^{3}}{3} + \\frac{3 t^{2}}{2} - 2 t + 1$$"
      ],
      "text/plain": [
       "     10      9      8      7      6    5      4      3      2          \n",
       " 11⋅t       t      t      t    7⋅t    t    5⋅t    2⋅t    3⋅t           \n",
       "─────── - ───── + ──── - ─── + ──── - ── + ──── - ──── + ──── - 2⋅t + 1\n",
       "3628800   36288   4480   630   720    20    24     3      2            "
      ]
     },
     "execution_count": 6,
     "metadata": {},
     "output_type": "execute_result"
    }
   ],
   "source": [
    "x0=(0,1)\n",
    "a=x0\n",
    "for j in range(10):\n",
    "    a=((x0[0]+integrate(G(a)[0],t),x0[1]+integrate(G(a)[1],t)))\n",
    "\n",
    "a[1].simplify()"
   ]
  },
  {
   "cell_type": "markdown",
   "metadata": {},
   "source": [
    "<h1>  Pasar de sistema de ecuaciones a ecuación sola <h1>"
   ]
  },
  {
   "cell_type": "code",
   "execution_count": 7,
   "metadata": {
    "collapsed": true
   },
   "outputs": [],
   "source": [
    "X=Function('X',positive=true)(t)\n",
    "Y=Function('Y',positive=true)(t)\n",
    "Z=Function('Z',positive=true)(t)"
   ]
  },
  {
   "cell_type": "code",
   "execution_count": 8,
   "metadata": {
    "collapsed": false
   },
   "outputs": [
    {
     "data": {
      "image/png": "[encoded data removed]",
      "text/latex": [
       "$$\\left ( \\frac{d}{d t} X{\\left (t \\right )} = X{\\left (t \\right )} + Z{\\left (t \\right )}, \\quad \\frac{d}{d t} Y{\\left (t \\right )} = t X{\\left (t \\right )} - Z{\\left (t \\right )}, \\quad \\frac{d}{d t} Z{\\left (t \\right )} = - t^{2} X{\\left (t \\right )} + Y{\\left (t \\right )}\\right )$$"
      ],
      "text/plain": [
       "⎛d                       d                         d             2            \n",
       "⎜──(X(t)) = X(t) + Z(t), ──(Y(t)) = t⋅X(t) - Z(t), ──(Z(t)) = - t ⋅X(t) + Y(t)\n",
       "⎝dt                      dt                        dt                         \n",
       "\n",
       "⎞\n",
       "⎟\n",
       "⎠"
      ]
     },
     "execution_count": 8,
     "metadata": {},
     "output_type": "execute_result"
    }
   ],
   "source": [
    "ec1=Eq(X.diff(t),X+Z)\n",
    "ec2=Eq(Y.diff(t),t*X-Z)\n",
    "ec3=Eq(Z.diff(t),-t**2*X+Y)\n",
    "ec1, ec2, ec3"
   ]
  },
  {
   "cell_type": "code",
   "execution_count": 9,
   "metadata": {
    "collapsed": false
   },
   "outputs": [
    {
     "data": {
      "image/png": "[encoded data removed]",
      "text/latex": [
       "$$\\left ( \\frac{d}{d t} X{\\left (t \\right )} = X{\\left (t \\right )} + Z{\\left (t \\right )}, \\quad \\frac{d^{2}}{d t^{2}}  X{\\left (t \\right )} = - t^{2} X{\\left (t \\right )} + Y{\\left (t \\right )} + \\frac{d}{d t} X{\\left (t \\right )}, \\quad \\frac{d^{3}}{d t^{3}}  X{\\left (t \\right )} = - t^{2} \\frac{d}{d t} X{\\left (t \\right )} - t X{\\left (t \\right )} - Z{\\left (t \\right )} + \\frac{d^{2}}{d t^{2}}  X{\\left (t \\right )}\\right )$$"
      ],
      "text/plain": [
       "⎛                          2                                        3         \n",
       "⎜d                        d             2               d          d          \n",
       "⎜──(X(t)) = X(t) + Z(t), ───(X(t)) = - t ⋅X(t) + Y(t) + ──(X(t)), ───(X(t)) = \n",
       "⎜dt                        2                            dt          3         \n",
       "⎝                        dt                                       dt          \n",
       "\n",
       "                                  2      ⎞\n",
       "   2 d                           d       ⎟\n",
       "- t ⋅──(X(t)) - t⋅X(t) - Z(t) + ───(X(t))⎟\n",
       "     dt                           2      ⎟\n",
       "                                dt       ⎠"
      ]
     },
     "execution_count": 9,
     "metadata": {},
     "output_type": "execute_result"
    }
   ],
   "source": [
    "ec4=Eq(ec1.lhs.diff(t),ec1.rhs.diff(t).subs(Y.diff(t),ec2.rhs).subs(Z.diff(t),ec3.rhs))\n",
    "ec5=Eq(ec4.lhs.diff(t),ec4.rhs.diff(t).subs(Y.diff(t),ec2.rhs).subs(Z.diff(t),ec3.rhs))\n",
    "ec1, ec4, ec5\n"
   ]
  },
  {
   "cell_type": "code",
   "execution_count": 10,
   "metadata": {
    "collapsed": false
   },
   "outputs": [
    {
     "data": {
      "image/png": "[encoded data removed]",
      "text/latex": [
       "$$\\left \\{ X{\\left (t \\right )} : \\frac{1}{t - 1} \\left(- t^{2} \\frac{d}{d t} X{\\left (t \\right )} - \\frac{d}{d t} X{\\left (t \\right )} + \\frac{d^{2}}{d t^{2}}  X{\\left (t \\right )} - \\frac{d^{3}}{d t^{3}}  X{\\left (t \\right )}\\right), \\quad Y{\\left (t \\right )} : \\frac{1}{t - 1} \\left(t^{2} \\left(- t^{2} \\frac{d}{d t} X{\\left (t \\right )} + \\frac{d^{2}}{d t^{2}}  X{\\left (t \\right )} - \\frac{d^{3}}{d t^{3}}  X{\\left (t \\right )}\\right) - t^{2} \\frac{d}{d t} X{\\left (t \\right )} + \\left(t - 1\\right) \\left(- \\frac{d}{d t} X{\\left (t \\right )} + \\frac{d^{2}}{d t^{2}}  X{\\left (t \\right )}\\right)\\right), \\quad Z{\\left (t \\right )} : \\frac{1}{t - 1} \\left(t^{2} \\frac{d}{d t} X{\\left (t \\right )} + t \\frac{d}{d t} X{\\left (t \\right )} - \\frac{d^{2}}{d t^{2}}  X{\\left (t \\right )} + \\frac{d^{3}}{d t^{3}}  X{\\left (t \\right )}\\right)\\right \\}$$"
      ],
      "text/plain": [
       "⎧                                   2           3                 ⎛           \n",
       "⎪         2 d          d           d           d                2 ⎜   2 d     \n",
       "⎪      - t ⋅──(X(t)) - ──(X(t)) + ───(X(t)) - ───(X(t))        t ⋅⎜- t ⋅──(X(t\n",
       "⎨           dt         dt           2           3                 ⎜     dt    \n",
       "⎪                                 dt          dt                  ⎝           \n",
       "⎪X(t): ────────────────────────────────────────────────, Y(t): ───────────────\n",
       "⎩                           t - 1                                             \n",
       "\n",
       "       2           3      ⎞                         ⎛               2      ⎞  \n",
       "      d           d       ⎟    2 d                  ⎜  d           d       ⎟  \n",
       ")) + ───(X(t)) - ───(X(t))⎟ - t ⋅──(X(t)) + (t - 1)⋅⎜- ──(X(t)) + ───(X(t))⎟  \n",
       "       2           3      ⎟      dt                 ⎜  dt           2      ⎟  \n",
       "     dt          dt       ⎠                         ⎝             dt       ⎠  \n",
       "────────────────────────────────────────────────────────────────────────────, \n",
       "                            t - 1                                             \n",
       "\n",
       "                                   2           3      ⎫\n",
       "       2 d            d           d           d       ⎪\n",
       "      t ⋅──(X(t)) + t⋅──(X(t)) - ───(X(t)) + ───(X(t))⎪\n",
       "         dt           dt           2           3      ⎬\n",
       "                                 dt          dt       ⎪\n",
       "Z(t): ────────────────────────────────────────────────⎪\n",
       "                           t - 1                      ⎭"
      ]
     },
     "execution_count": 10,
     "metadata": {},
     "output_type": "execute_result"
    }
   ],
   "source": [
    "solve([ec1,ec4,ec5], [X,Y,Z])"
   ]
  },
  {
   "cell_type": "code",
   "execution_count": 11,
   "metadata": {
    "collapsed": false
   },
   "outputs": [
    {
     "data": {
      "image/png": "[encoded data removed]",
      "text/latex": [
       "$$\\left [ \\left ( 0, \\quad a\\right ), \\quad \\left ( \\frac{1}{2}, \\quad a - \\frac{1}{4}\\right )\\right ]$$"
      ],
      "text/plain": [
       "[(0, a), (1/2, a - 1/4)]"
      ]
     },
     "execution_count": 11,
     "metadata": {},
     "output_type": "execute_result"
    }
   ],
   "source": [
    "a,x,y=symbols('a,x,y')\n",
    "solve([Eq(x**2+y,a), Eq(x+2*y,2*a)],[x,y])"
   ]
  },
  {
   "cell_type": "markdown",
   "metadata": {},
   "source": [
    "<h1> Ejercicio de iteracion de Picard, $\\varphi'(x)=\\varphi(x)^2$  <h1>"
   ]
  },
  {
   "cell_type": "code",
   "execution_count": 110,
   "metadata": {
    "collapsed": false
   },
   "outputs": [
    {
     "data": {
      "image/png": "[encoded data removed]",
      "text/latex": [
       "$$\\frac{x^{15}}{59535} + \\frac{x^{14}}{3969} + \\frac{x^{13}}{567} + \\frac{x^{12}}{126} + \\frac{5 x^{11}}{189} + \\frac{22 x^{10}}{315} + \\frac{86 x^{9}}{567} + \\frac{71 x^{8}}{252} + \\frac{29 x^{7}}{63} + \\frac{2 x^{6}}{3} + \\frac{13 x^{5}}{15} + x^{4} + x^{3} + x^{2} + x + 1$$"
      ],
      "text/plain": [
       "  15     14     13    12      11       10       9       8       7      6      \n",
       " x      x      x     x     5⋅x     22⋅x     86⋅x    71⋅x    29⋅x    2⋅x    13⋅\n",
       "───── + ──── + ─── + ─── + ───── + ────── + ───── + ───── + ───── + ──── + ───\n",
       "59535   3969   567   126    189     315      567     252      63     3       1\n",
       "\n",
       " 5                       \n",
       "x     4    3    2        \n",
       "── + x  + x  + x  + x + 1\n",
       "5                        "
      ]
     },
     "execution_count": 110,
     "metadata": {},
     "output_type": "execute_result"
    }
   ],
   "source": [
    "f=Function('f')(x)\n",
    "f=1+0*x\n",
    "p=1\n",
    "n=4\n",
    "\n",
    "for i in range(n):\n",
    "    f=f.subs(x,t)\n",
    "    f=1+integrate(f**2,(t,0,x))\n",
    "    p=p+x**(i+1)\n",
    "f.expand()"
   ]
  },
  {
   "cell_type": "code",
   "execution_count": null,
   "metadata": {
    "collapsed": false
   },
   "outputs": [],
   "source": []
  },
  {
   "cell_type": "code",
   "execution_count": null,
   "metadata": {
    "collapsed": false
   },
   "outputs": [],
   "source": []
  }
 ],
 "metadata": {
  "kernelspec": {
   "display_name": "Python 3",
   "language": "python",
   "name": "python3"
  },
  "language_info": {
   "codemirror_mode": {
    "name": "ipython",
    "version": 3
   },
   "file_extension": ".py",
   "mimetype": "text/x-python",
   "name": "python",
   "nbconvert_exporter": "python",
   "pygments_lexer": "ipython3",
   "version": "3.6.0"
  }
 },
 "nbformat": 4,
 "nbformat_minor": 2
}
