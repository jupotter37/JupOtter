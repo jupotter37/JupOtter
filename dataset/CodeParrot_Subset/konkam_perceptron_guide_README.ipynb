{
 "cells": [
  {
   "cell_type": "markdown",
   "metadata": {},
   "source": [
    "# Guide: quelques étapes pour programmer un perceptron\n",
    "\n",
    "\n",
    "## Préliminaire: charger des images en Python et les mettre sous forme de vecteur\n",
    "\n",
    "### Les images\n",
    "\n",
    "Avec votre éditeur d'images préféré, vous pouvez créer une image et la sauvegarder sous un certain format, c'est à dire une manière d'encoder l'image. Ici on prendra l'exemple du format **.png**\n",
    "\n",
    "Lorsque que vous sauvegardez, faites-attention au nombre de pixels de l'image, on veut ici des images qui ont toutes la meme taille (dans notre exemple 50x50).\n",
    "\n",
    "Voici un exemple d'image:\n",
    "![Un A en noir sur blanc d'une taille 50x50 pixels](training_set_perceptron/A1.png \"Logo Title Text 1\")\n",
    "\n",
    "\n",
    "Vous trouverez 8 exemples d'images dans le dossier [training_set_perceptron](training_set_perceptron), que vous pouvez télécharger. Je vous encourage à créer les votres.\n",
    "\n",
    "### Chargement des packages préalables"
   ]
  },
  {
   "cell_type": "code",
   "execution_count": 3,
   "metadata": {
    "ExecuteTime": {
     "end_time": "2016-12-01T17:51:36.913523",
     "start_time": "2016-12-01T17:51:36.255360"
    },
    "collapsed": true
   },
   "outputs": [],
   "source": [
    "from pylab import * #Pour tranformer python en une calculette scientifique\n",
    "from scipy import misc #Pour lire les images"
   ]
  },
  {
   "cell_type": "markdown",
   "metadata": {},
   "source": [
    "### Chargement des images dans python\n"
   ]
  },
  {
   "cell_type": "code",
   "execution_count": 9,
   "metadata": {
    "ExecuteTime": {
     "end_time": "2016-12-01T17:53:33.230000",
     "start_time": "2016-12-01T17:53:33.223855"
    },
    "collapsed": true
   },
   "outputs": [],
   "source": [
    "def cv_image_vers_vecteur(image): #Pour convertir une image en vecteur, cela servira pour les opérations suivantes\n",
    "    return ravel(image)\n",
    "\n",
    "def charge_l_image(nom_de_fichier):\n",
    "    return misc.imread(nom_de_fichier, flatten=True, mode = \"L\")/255. #avec cela on convertit l'image en suite de 0 et de 1\n",
    "\n",
    "def charge_l_image_sous_forme_de_vecteur(nom_de_fichier):\n",
    "    return cv_image_vers_vecteur(charge_l_image(nom_de_fichier))\n",
    "\n",
    "def charge_l_image_et_trace(nom_de_fichier_complet):\n",
    "    imshow(charge_l_image(nom_de_fichier_complet))\n",
    "    show()\n"
   ]
  },
  {
   "cell_type": "code",
   "execution_count": 5,
   "metadata": {
    "ExecuteTime": {
     "end_time": "2016-12-01T17:51:38.427888",
     "start_time": "2016-12-01T17:51:38.388633"
    },
    "collapsed": false
   },
   "outputs": [
    {
     "data": {
      "text/plain": [
       "array([[ 1.,  1.,  1., ...,  1.,  1.,  1.],\n",
       "       [ 1.,  1.,  1., ...,  1.,  1.,  1.],\n",
       "       [ 1.,  1.,  1., ...,  1.,  1.,  1.],\n",
       "       ..., \n",
       "       [ 1.,  1.,  1., ...,  1.,  1.,  1.],\n",
       "       [ 1.,  1.,  1., ...,  1.,  1.,  1.],\n",
       "       [ 1.,  1.,  1., ...,  1.,  1.,  1.]], dtype=float32)"
      ]
     },
     "execution_count": 5,
     "metadata": {},
     "output_type": "execute_result"
    }
   ],
   "source": [
    "charge_l_image(\"training_set_perceptron/A1.png\")"
   ]
  },
  {
   "cell_type": "code",
   "execution_count": 11,
   "metadata": {
    "ExecuteTime": {
     "end_time": "2016-12-01T17:54:07.608295",
     "start_time": "2016-12-01T17:54:07.603403"
    },
    "collapsed": false
   },
   "outputs": [
    {
     "data": {
      "text/plain": [
       "(50, 50)"
      ]
     },
     "execution_count": 11,
     "metadata": {},
     "output_type": "execute_result"
    }
   ],
   "source": [
    "shape(charge_l_image(\"training_set_perceptron/A1.png\"))"
   ]
  },
  {
   "cell_type": "markdown",
   "metadata": {},
   "source": [
    "On voit qu'une image est constituée de 50x50 = 2500 valeurs qui peuvent etre égales à 0 ou à 1."
   ]
  },
  {
   "cell_type": "code",
   "execution_count": 12,
   "metadata": {
    "ExecuteTime": {
     "end_time": "2016-12-01T18:01:27.605470",
     "start_time": "2016-12-01T18:01:27.593237"
    },
    "collapsed": false
   },
   "outputs": [
    {
     "data": {
      "text/plain": [
       "array([ 1.,  1.,  1., ...,  1.,  1.,  1.], dtype=float32)"
      ]
     },
     "execution_count": 12,
     "metadata": {},
     "output_type": "execute_result"
    }
   ],
   "source": [
    "charge_l_image_sous_forme_de_vecteur(\"training_set_perceptron/A1.png\")"
   ]
  },
  {
   "cell_type": "code",
   "execution_count": 13,
   "metadata": {
    "ExecuteTime": {
     "end_time": "2016-12-01T18:01:42.496877",
     "start_time": "2016-12-01T18:01:42.491398"
    },
    "collapsed": false
   },
   "outputs": [
    {
     "data": {
      "text/plain": [
       "(2500,)"
      ]
     },
     "execution_count": 13,
     "metadata": {},
     "output_type": "execute_result"
    }
   ],
   "source": [
    "shape(charge_l_image_sous_forme_de_vecteur(\"training_set_perceptron/A1.png\"))"
   ]
  },
  {
   "cell_type": "code",
   "execution_count": 10,
   "metadata": {
    "ExecuteTime": {
     "end_time": "2016-12-01T17:53:54.184045",
     "start_time": "2016-12-01T17:53:53.987757"
    },
    "collapsed": false
   },
   "outputs": [
    {
     "data": {
      "image/png": "[encoded data removed]",
      "text/plain": [
       "<matplotlib.figure.Figure at 0x7fb9c89767b8>"
      ]
     },
     "metadata": {},
     "output_type": "display_data"
    }
   ],
   "source": [
    "charge_l_image_et_trace(\"training_set_perceptron/A1.png\")"
   ]
  },
  {
   "cell_type": "markdown",
   "metadata": {},
   "source": [
    "## Suite: liste des étapes pour programmer le perceptron:\n",
    "\n",
    "1. Constituer un **ensemble d'entrainement** qui contient des exemples et ce qui doit etre appris sur ces exemples. Dans le cas que je vous propose, ce serait tous les A avec le score +1 et tous les B avec le score -1. Encore une fois, n'hésitez pas à faire vos propres exemples.  \n",
    "1. **Traitement de l'image par le neurone**\n",
    "Le neurone prend l'image sous la forme d'un vecteur en entrée, le multiplie par ses poids et regarde le signe du résultat.\n",
    "L'image d'entrée est bicolore, formée de 50 pixels. On peut donc représenter l'image par des 0 et des 1 pour chacune des couleurs, on peut la transformer en un vecteur de taille 2500 contenant des 0 et des 1.\n",
    "Si on appelle xi le vecteur de l'exemple, wi les poids du neurone, et $y$ le résultat du traitement, alors le traitement de l'image par le neurone peut s'écrire en équations:\n",
    "<img src=\"eq1.png\" width=\"200\">\n",
    "1.  **Entrainement du neurone**\n",
    "On rappelle les étapes principales:\n",
    "    - On commence par choisir des poids initiaux au hasard (ou bien tous à 0, qu'est-ce qui vous parait le plus cohérent ?) \n",
    "    - Pour chaque exemple de notre ensemble d'entrainement:\n",
    "        - on calcule le score prédit étant donné les poids actuels, le score qu'on aurait du trouver et l'erreur qui est la différence entre ces deux grandeurs\n",
    "        - On met à jour les poids: nouveaux poids = poids actuels + erreur * entrée, \n",
    "    - Et on recommence\n",
    "Soit en équations:\n",
    "Si les poids actuels sont wi(t), les poids mis à jour wi(t+1), le score de l'exemple k est sk, la prédiction du neurone yk et l'exemple k vectorisé est sous la forme  xi,k, alors:\n",
    "<img src=\"eq2.png\" width=\"200\">\n",
    "Quand s'arreter ?\n",
    "Un critère peut etre de regarder quand le neurone cesse de progresser, c'est à dire que les erreurs qu'il fait cessent de diminuer.  \n",
    "1. Une fois le neurone entrainé, on le **teste** sur quelques images"
   ]
  }
 ],
 "metadata": {
  "anaconda-cloud": {},
  "kernelspec": {
   "display_name": "Python [default]",
   "language": "python",
   "name": "python3"
  },
  "language_info": {
   "codemirror_mode": {
    "name": "ipython",
    "version": 3
   },
   "file_extension": ".py",
   "mimetype": "text/x-python",
   "name": "python",
   "nbconvert_exporter": "python",
   "pygments_lexer": "ipython3",
   "version": "3.5.2"
  },
  "toc": {
   "nav_menu": {
    "height": "96px",
    "width": "252px"
   },
   "navigate_menu": true,
   "number_sections": true,
   "sideBar": true,
   "threshold": 4,
   "toc_cell": false,
   "toc_section_display": "block",
   "toc_window_display": false
  }
 },
 "nbformat": 4,
 "nbformat_minor": 1
}
