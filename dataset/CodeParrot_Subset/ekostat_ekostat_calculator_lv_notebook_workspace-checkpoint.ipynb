{
 "cells": [
  {
   "cell_type": "code",
   "execution_count": 1,
   "metadata": {
    "collapsed": false
   },
   "outputs": [
    {
     "data": {
      "text/plain": [
       "'D:\\\\Utveckling\\\\GitHub\\\\ekostat_calculator'"
      ]
     },
     "execution_count": 1,
     "metadata": {},
     "output_type": "execute_result"
    }
   ],
   "source": [
    "# Reload when code changed:\n",
    "%load_ext autoreload\n",
    "%autoreload 2\n",
    "%pwd"
   ]
  },
  {
   "cell_type": "code",
   "execution_count": 2,
   "metadata": {
    "collapsed": false
   },
   "outputs": [
    {
     "data": {
      "text/plain": [
       "'0.19.2'"
      ]
     },
     "execution_count": 2,
     "metadata": {},
     "output_type": "execute_result"
    }
   ],
   "source": [
    "import os \n",
    "import core\n",
    "import importlib\n",
    "importlib.reload(core) \n",
    "import pandas as pd\n",
    "pd.__version__"
   ]
  },
  {
   "cell_type": "markdown",
   "metadata": {},
   "source": [
    "### Load directories"
   ]
  },
  {
   "cell_type": "code",
   "execution_count": 3,
   "metadata": {
    "collapsed": true
   },
   "outputs": [],
   "source": [
    "root_directory = os.getcwd()\n",
    "workspace_directory = root_directory + '/workspaces' \n",
    "resource_directory = root_directory + '/resources'"
   ]
  },
  {
   "cell_type": "markdown",
   "metadata": {},
   "source": [
    "# LOAD WORKSPACES"
   ]
  },
  {
   "cell_type": "markdown",
   "metadata": {},
   "source": [
    "### Load default workspace"
   ]
  },
  {
   "cell_type": "code",
   "execution_count": 4,
   "metadata": {
    "collapsed": false
   },
   "outputs": [
    {
     "name": "stdout",
     "output_type": "stream",
     "text": [
      "\n",
      "====================================================================================================\n",
      "Initiating WorkSpace: D:/Utveckling/GitHub/ekostat_calculator/workspaces/default\n",
      "----------------------------------------------------------------------------------------------------\n",
      "Initiating Subset: D:/Utveckling/GitHub/ekostat_calculator/workspaces/default/subsets/A\n",
      "step_list ['step_1']\n",
      "Initiating WorkStep: D:/Utveckling/GitHub/ekostat_calculator/workspaces/default/subsets/A/step_1\n",
      "Initiating WorkStep: D:/Utveckling/GitHub/ekostat_calculator/workspaces/default/step_0\n"
     ]
    }
   ],
   "source": [
    "\n",
    "\n",
    "default_workspace = core.WorkSpace(name='default', \n",
    "                                   parent_directory=workspace_directory, \n",
    "                                   resource_directory=resource_directory) "
   ]
  },
  {
   "cell_type": "markdown",
   "metadata": {},
   "source": [
    "### Add new workspace"
   ]
  },
  {
   "cell_type": "code",
   "execution_count": 5,
   "metadata": {
    "collapsed": false
   },
   "outputs": [
    {
     "name": "stdout",
     "output_type": "stream",
     "text": [
      "\n",
      "====================================================================================================\n",
      "Initiating WorkSpace: D:/Utveckling/GitHub/ekostat_calculator/workspaces/lv\n",
      "----------------------------------------------------------------------------------------------------\n",
      "Initiating Subset: D:/Utveckling/GitHub/ekostat_calculator/workspaces/lv/subsets/A\n",
      "step_list []\n",
      "Initiating WorkStep: D:/Utveckling/GitHub/ekostat_calculator/workspaces/lv/step_0\n"
     ]
    }
   ],
   "source": [
    "lv_workspace = core.WorkSpace(name='lv', \n",
    "                              parent_directory=workspace_directory, \n",
    "                              resource_directory=resource_directory) "
   ]
  },
  {
   "cell_type": "markdown",
   "metadata": {},
   "source": [
    "### Copy files from default workspace to make a clone"
   ]
  },
  {
   "cell_type": "code",
   "execution_count": 6,
   "metadata": {
    "collapsed": false
   },
   "outputs": [
    {
     "name": "stdout",
     "output_type": "stream",
     "text": [
      "Initiating WorkStep: D:/Utveckling/GitHub/ekostat_calculator/workspaces/lv/step_0\n",
      "Given subset is already present!\n",
      "step: step_1\n",
      "Initiating WorkStep: D:/Utveckling/GitHub/ekostat_calculator/workspaces/lv/subsets/A/step_1\n"
     ]
    }
   ],
   "source": [
    "lv_workspace.add_files_from_workspace(default_workspace, overwrite=True)"
   ]
  },
  {
   "cell_type": "markdown",
   "metadata": {},
   "source": [
    "### Load all data in lv_workspace"
   ]
  },
  {
   "cell_type": "code",
   "execution_count": 7,
   "metadata": {
    "collapsed": false
   },
   "outputs": [
    {
     "name": "stderr",
     "output_type": "stream",
     "text": [
      "C:\\Continuum\\Anaconda3\\lib\\site-packages\\IPython\\core\\interactiveshell.py:2881: DtypeWarning: Columns (8,34,35,37,42,44,45,49,51,52,54,55,56) have mixed types. Specify dtype option on import or set low_memory=False.\n",
      "  exec(code_obj, self.user_global_ns, self.user_ns)\n"
     ]
    },
    {
     "name": "stdout",
     "output_type": "stream",
     "text": [
      "Sorting..\n",
      "Reseting and Droping INDEX\n",
      "Saving data to: D:/Utveckling/GitHub/ekostat_calculator/workspaces/lv/input_data/exports/Column_format_PhysicalChemical_data.txt\n"
     ]
    },
    {
     "name": "stderr",
     "output_type": "stream",
     "text": [
      "C:\\Continuum\\Anaconda3\\lib\\site-packages\\IPython\\core\\interactiveshell.py:2881: DtypeWarning: Columns (13,37,41,43,50,53,59,79,81,82,83) have mixed types. Specify dtype option on import or set low_memory=False.\n",
      "  exec(code_obj, self.user_global_ns, self.user_ns)\n"
     ]
    },
    {
     "name": "stdout",
     "output_type": "stream",
     "text": [
      "Saving data to: D:/Utveckling/GitHub/ekostat_calculator/workspaces/lv/input_data/exports/Column_format_Zoobenthos_data.txt\n",
      "Saving data to: D:/Utveckling/GitHub/ekostat_calculator/workspaces/lv/input_data/exports/all_data.txt\n"
     ]
    }
   ],
   "source": [
    "lv_workspace.load_all_data()"
   ]
  },
  {
   "cell_type": "markdown",
   "metadata": {},
   "source": [
    "# Set first filter and load filtered data"
   ]
  },
  {
   "cell_type": "markdown",
   "metadata": {},
   "source": [
    "### Set first data filter "
   ]
  },
  {
   "cell_type": "code",
   "execution_count": 8,
   "metadata": {
    "collapsed": false
   },
   "outputs": [
    {
     "name": "stdout",
     "output_type": "stream",
     "text": [
      "Type Areas in dataset:\n",
      "04 - Västkustens yttre kustvatten. Kattegatt\n",
      "01s - Västkustens inre kustvatten\n",
      "03 - Västkustens yttre kustvatten. Skagerrak\n",
      "01n - Västkustens inre kustvatten\n",
      "02 - Västkustens fjordar\n",
      "25 - Göta älvs- och Nordre älvs estuarie\n",
      "\n",
      "21 - Norra Kvarkens yttre kustvatten\n",
      "20 - Norra Kvarkens inre kustvatten\n",
      "23 - Norra Bottenviken. Yttre kustvatten\n",
      "22 - Norra Bottenviken. Inre kustvatten\n",
      "05 - Södra Hallands och norra Öresunds kustvatten\n",
      "12n - Östergötlands och Stockholms skärgård. Mellankustvatten\n",
      "06 - Öresunds kustvatten\n",
      "18 - Norra Bottenhavet. Höga kusten. Inre kustvatten\n",
      "17 - Södra Bottenhavet. Yttre kustvatten\n",
      "15 - Stockholms skärgård. Yttre kustvatten\n",
      "16 - Södra Bottenhavet. Inre kustvatten\n",
      "14 - Östergötlands yttre kustvatten\n",
      "19 - Norra Bottenhavet. Höga kusten. Yttre kustvatten\n",
      "10 - Ölands och Gotlands kustvatten\n",
      "07 - Skånes kustvatten\n",
      "11 - Gotlands nordvästra kustvatten\n"
     ]
    }
   ],
   "source": [
    "# show available waterbodies\n",
    "workspace_data = lv_workspace.data_handler.get_all_column_data_df()\n",
    "lst = workspace_data.WATER_TYPE_AREA.unique()\n",
    "print('Type Areas in dataset:\\n{}'.format('\\n'.join(lst)))"
   ]
  },
  {
   "cell_type": "code",
   "execution_count": 9,
   "metadata": {
    "collapsed": false
   },
   "outputs": [
    {
     "name": "stdout",
     "output_type": "stream",
     "text": [
      "Waterbodies in dataset:\n",
      "Onsala kustvatten\n",
      "Dana fjord\n",
      "Marstrandsfjorden\n",
      "Älgöfjorden\n",
      "Yttre Brofjorden\n",
      "Kungshamn s skärgård\n",
      "S Kosterfjorden\n",
      "Gullmarn centralbassäng\n",
      "Koljö fjord\n",
      "Havstensfjorden\n",
      "Byfjorden\n",
      "Halsefjorden\n",
      "Rivö fjord\n",
      "\n",
      "Del av n Kattegatts utsjövatten\n",
      "Del av Skagerraks utsjövatten\n",
      "N m Hallands kustvatten\n",
      "Del av s Kattegatts utsjövatten\n",
      "Färlevfjorden\n",
      "Kalvöfjorden\n",
      "Stigfjorden\n",
      "Askeröfjorden\n",
      "Ellösefjorden\n",
      "Snäckedjupet\n",
      "Brofjorden\n",
      "Fjällbacka inre skärgård\n",
      "Hunnebostrand skärgård\n",
      "Bottnefjorden\n",
      "Trälebergskile\n",
      "Åbyfjorden\n",
      "Göteborgs n n skärgårds kustvatten\n",
      "S n Kvarkens kustvatten\n",
      "N n Kvarkens kustvatten\n",
      "Saltkällefjorden\n",
      "Yttre Täftefjärden\n",
      "Täftefjärden\n",
      "Skelleftebukten\n",
      "Simpan\n",
      "Singlefjorden\n",
      "Lindöfjorden sek namn\n",
      "Norrbottens skärgårds kustvatten\n",
      "Kinnbäcksfjärden\n",
      "Strömstadsfjorden\n",
      "Sörbrändöfjärden\n",
      "Laholmsbukten\n",
      "Skälderviken\n",
      "Gussöfjärden\n",
      "Rånefjärden\n",
      "Bodöfjärden\n",
      "Dragviksfjärden\n",
      "Seskaröfjärden\n",
      "Kråkfjärden\n",
      "Helsingborgsområdet\n",
      "Gaviksfjärden\n",
      "Öregrunds kustvatten\n",
      "Björkskärsfjärden\n",
      "Laholmsbuktens kustvatten\n",
      "Balgöarkipelagen\n",
      "Klosterfjorden\n",
      "S m Hallands kustvatten\n",
      "Kasfjärden sek namn\n",
      "Ängsfjärden sek namn\n",
      "Inre Kungsbackafjorden\n",
      "Yttre Kungsbackafjorden\n",
      "Långvindsfjärden\n",
      "Varren\n",
      "Vändelsöarkipelagen\n",
      "Skärsåfjärden sek namn\n",
      "Krabbfjärden\n",
      "N Höga kustens kustvatten\n",
      "Kräklingeområdet\n",
      "Kyrkefjälls sund\n",
      "Risö-Säröarkipelagen\n",
      "Öckerösund\n",
      "Mysingen\n",
      "M Bohusläns skärgårds kustvatten\n",
      "Ö Gotlands n kustvatten\n",
      "V Hanöbuktens kustvatten\n",
      "M n Bohusläns skärgårds kustvatten\n",
      "Örefjärden\n",
      "n Långebyområdet\n",
      "Ö Gotlands s kustvatten\n",
      "Sotefjorden\n",
      "Fjällbacka yttre skärgård\n",
      "Hake fjord\n",
      "Göteborgs n skärgårds kustvatten\n",
      "Göteborgs s skärgårds kustvatten\n",
      "V Gotlands m kustvatten\n",
      "Askims fjord\n",
      "Klintehamnsviken sek namn\n",
      "Bråvikens kustvatten\n"
     ]
    }
   ],
   "source": [
    "lst = workspace_data.SEA_AREA_NAME.unique()\n",
    "print('Waterbodies in dataset:\\n{}'.format('\\n'.join(lst)))"
   ]
  },
  {
   "cell_type": "code",
   "execution_count": 10,
   "metadata": {
    "collapsed": false
   },
   "outputs": [
    {
     "name": "stdout",
     "output_type": "stream",
     "text": [
      "sdfs\n",
      "dict_keys(['SEA_AREA_NAME', 'STATN', 'WATER_TYPE_AREA'])\n",
      "Save: \"SEA_AREA_NAME\" to file: \"D:/github/ekostat_calculator/workspaces/lv/step_0/data_filters/list_exclude_sea_area_name.fil\"\n",
      "Save: \"STATN\" to file: \"D:/github/ekostat_calculator/workspaces/lv/step_0/data_filters/list_exclude_statn.fil\"\n",
      "Save: \"WATER_TYPE_AREA\" to file: \"D:/github/ekostat_calculator/workspaces/lv/step_0/data_filters/list_exclude_water_type_area.fil\"\n",
      "dict_keys(['MYEAR', 'SEA_AREA_NAME', 'STATN', 'WATER_TYPE_AREA'])\n",
      "Save: \"MYEAR\" to file: \"D:/github/ekostat_calculator/workspaces/lv/step_0/data_filters/list_include_myear.fil\"\n",
      "2015\n",
      "2016\n",
      "Save: \"SEA_AREA_NAME\" to file: \"D:/github/ekostat_calculator/workspaces/lv/step_0/data_filters/list_include_sea_area_name.fil\"\n",
      "Byfjorden\n",
      "Gullmarn centralbassäng\n",
      "Havstensfjorden\n",
      "Rivö fjord\n",
      "Save: \"STATN\" to file: \"D:/github/ekostat_calculator/workspaces/lv/step_0/data_filters/list_include_statn.fil\"\n",
      "SK36\n",
      "Save: \"WATER_TYPE_AREA\" to file: \"D:/github/ekostat_calculator/workspaces/lv/step_0/data_filters/list_include_water_type_area.fil\"\n",
      "sdfs\n",
      "dict_keys(['SEA_AREA_NAME', 'STATN', 'WATER_TYPE_AREA'])\n",
      "Save: \"SEA_AREA_NAME\" to file: \"D:/github/ekostat_calculator/workspaces/lv/step_0/data_filters/list_exclude_sea_area_name.fil\"\n",
      "Save: \"STATN\" to file: \"D:/github/ekostat_calculator/workspaces/lv/step_0/data_filters/list_exclude_statn.fil\"\n",
      "Save: \"WATER_TYPE_AREA\" to file: \"D:/github/ekostat_calculator/workspaces/lv/step_0/data_filters/list_exclude_water_type_area.fil\"\n",
      "dict_keys(['MYEAR', 'SEA_AREA_NAME', 'STATN', 'WATER_TYPE_AREA'])\n",
      "Save: \"MYEAR\" to file: \"D:/github/ekostat_calculator/workspaces/lv/step_0/data_filters/list_include_myear.fil\"\n",
      "2015\n",
      "2016\n",
      "Save: \"SEA_AREA_NAME\" to file: \"D:/github/ekostat_calculator/workspaces/lv/step_0/data_filters/list_include_sea_area_name.fil\"\n",
      "Byfjorden\n",
      "Gullmarn centralbassäng\n",
      "Havstensfjorden\n",
      "Rivö fjord\n",
      "Save: \"STATN\" to file: \"D:/github/ekostat_calculator/workspaces/lv/step_0/data_filters/list_include_statn.fil\"\n",
      "Save: \"WATER_TYPE_AREA\" to file: \"D:/github/ekostat_calculator/workspaces/lv/step_0/data_filters/list_include_water_type_area.fil\"\n",
      "sdfs\n",
      "dict_keys(['SEA_AREA_NAME', 'STATN', 'WATER_TYPE_AREA'])\n",
      "Save: \"SEA_AREA_NAME\" to file: \"D:/github/ekostat_calculator/workspaces/lv/step_0/data_filters/list_exclude_sea_area_name.fil\"\n",
      "Save: \"STATN\" to file: \"D:/github/ekostat_calculator/workspaces/lv/step_0/data_filters/list_exclude_statn.fil\"\n",
      "Save: \"WATER_TYPE_AREA\" to file: \"D:/github/ekostat_calculator/workspaces/lv/step_0/data_filters/list_exclude_water_type_area.fil\"\n",
      "dict_keys(['MYEAR', 'SEA_AREA_NAME', 'STATN', 'WATER_TYPE_AREA'])\n",
      "Save: \"MYEAR\" to file: \"D:/github/ekostat_calculator/workspaces/lv/step_0/data_filters/list_include_myear.fil\"\n",
      "2015\n",
      "2016\n",
      "Save: \"SEA_AREA_NAME\" to file: \"D:/github/ekostat_calculator/workspaces/lv/step_0/data_filters/list_include_sea_area_name.fil\"\n",
      "Byfjorden\n",
      "Gullmarn centralbassäng\n",
      "Havstensfjorden\n",
      "Rivö fjord\n",
      "Save: \"STATN\" to file: \"D:/github/ekostat_calculator/workspaces/lv/step_0/data_filters/list_include_statn.fil\"\n",
      "Save: \"WATER_TYPE_AREA\" to file: \"D:/github/ekostat_calculator/workspaces/lv/step_0/data_filters/list_include_water_type_area.fil\"\n",
      "sdfs\n",
      "dict_keys(['SEA_AREA_NAME', 'STATN', 'WATER_TYPE_AREA'])\n",
      "Save: \"SEA_AREA_NAME\" to file: \"D:/github/ekostat_calculator/workspaces/lv/step_0/data_filters/list_exclude_sea_area_name.fil\"\n",
      "Save: \"STATN\" to file: \"D:/github/ekostat_calculator/workspaces/lv/step_0/data_filters/list_exclude_statn.fil\"\n",
      "Save: \"WATER_TYPE_AREA\" to file: \"D:/github/ekostat_calculator/workspaces/lv/step_0/data_filters/list_exclude_water_type_area.fil\"\n",
      "dict_keys(['MYEAR', 'SEA_AREA_NAME', 'STATN', 'WATER_TYPE_AREA'])\n",
      "Save: \"MYEAR\" to file: \"D:/github/ekostat_calculator/workspaces/lv/step_0/data_filters/list_include_myear.fil\"\n",
      "2015\n",
      "2017\n",
      "Save: \"SEA_AREA_NAME\" to file: \"D:/github/ekostat_calculator/workspaces/lv/step_0/data_filters/list_include_sea_area_name.fil\"\n",
      "Byfjorden\n",
      "Gullmarn centralbassäng\n",
      "Havstensfjorden\n",
      "Rivö fjord\n",
      "Save: \"STATN\" to file: \"D:/github/ekostat_calculator/workspaces/lv/step_0/data_filters/list_include_statn.fil\"\n",
      "Save: \"WATER_TYPE_AREA\" to file: \"D:/github/ekostat_calculator/workspaces/lv/step_0/data_filters/list_include_water_type_area.fil\"\n"
     ]
    }
   ],
   "source": [
    "include_WB = ['Gullmarn centralbassäng', 'Rivö fjord', 'Byfjorden', 'Havstensfjorden']\n",
    "include_stations = [] \n",
    "exclude_stations = []\n",
    "include_years = ['2015', '2017'] \n",
    "\n",
    "lv_workspace.set_data_filter(step=0, filter_type='include_list', filter_name='SEA_AREA_NAME', data=include_WB)\n",
    "lv_workspace.set_data_filter(step=0, filter_type='include_list', filter_name='STATN', data=include_stations) \n",
    "lv_workspace.set_data_filter(step=0, filter_type='exclude_list', filter_name='STATN', data=exclude_stations) \n",
    "lv_workspace.set_data_filter(step=0, filter_type='include_list', filter_name='MYEAR', data=include_years) "
   ]
  },
  {
   "cell_type": "markdown",
   "metadata": {},
   "source": [
    "### Apply first data filter "
   ]
  },
  {
   "cell_type": "code",
   "execution_count": 11,
   "metadata": {
    "collapsed": false
   },
   "outputs": [
    {
     "data": {
      "text/plain": [
       "True"
      ]
     },
     "execution_count": 11,
     "metadata": {},
     "output_type": "execute_result"
    }
   ],
   "source": [
    "lv_workspace.apply_first_filter() # This sets the first level of data filter in the IndexHandler "
   ]
  },
  {
   "cell_type": "markdown",
   "metadata": {},
   "source": [
    "### Extract filtered data "
   ]
  },
  {
   "cell_type": "code",
   "execution_count": 12,
   "metadata": {
    "collapsed": false
   },
   "outputs": [
    {
     "name": "stdout",
     "output_type": "stream",
     "text": [
      "1055 rows mathing the filter criteria\n"
     ]
    },
    {
     "data": {
      "text/html": [
       "<div>\n",
       "<table border=\"1\" class=\"dataframe\">\n",
       "  <thead>\n",
       "    <tr style=\"text-align: right;\">\n",
       "      <th></th>\n",
       "      <th>AMON</th>\n",
       "      <th>CPHL</th>\n",
       "      <th>DEPH</th>\n",
       "      <th>DOXY_BTL</th>\n",
       "      <th>DOXY_CTD</th>\n",
       "      <th>LATIT_DD</th>\n",
       "      <th>LONGI_DD</th>\n",
       "      <th>MNDEP</th>\n",
       "      <th>MXDEP</th>\n",
       "      <th>MYEAR</th>\n",
       "      <th>...</th>\n",
       "      <th>SERNO</th>\n",
       "      <th>SHARKID_MD5</th>\n",
       "      <th>SHIPC</th>\n",
       "      <th>STATN</th>\n",
       "      <th>STIME</th>\n",
       "      <th>TEMP_BTL</th>\n",
       "      <th>TEMP_CTD</th>\n",
       "      <th>WATER_DISTRICT</th>\n",
       "      <th>WATER_TYPE_AREA</th>\n",
       "      <th>WLTYP</th>\n",
       "    </tr>\n",
       "  </thead>\n",
       "  <tbody>\n",
       "    <tr>\n",
       "      <th>55</th>\n",
       "      <td>1.14</td>\n",
       "      <td>0.8</td>\n",
       "      <td>0.5</td>\n",
       "      <td>7.0</td>\n",
       "      <td></td>\n",
       "      <td>58.39333</td>\n",
       "      <td>11.62667</td>\n",
       "      <td>NaN</td>\n",
       "      <td>NaN</td>\n",
       "      <td>2015</td>\n",
       "      <td>...</td>\n",
       "      <td>8.0</td>\n",
       "      <td>NaN</td>\n",
       "      <td>7719</td>\n",
       "      <td>BJÖRKHOLMEN</td>\n",
       "      <td>08:45</td>\n",
       "      <td></td>\n",
       "      <td>4.6</td>\n",
       "      <td>Västerhavets vattendistrikt</td>\n",
       "      <td>02 - Västkustens fjordar</td>\n",
       "      <td>2 - Havsområde innanför 1 NM</td>\n",
       "    </tr>\n",
       "    <tr>\n",
       "      <th>56</th>\n",
       "      <td>1.21</td>\n",
       "      <td>1.0</td>\n",
       "      <td>2.0</td>\n",
       "      <td>7.3</td>\n",
       "      <td></td>\n",
       "      <td>58.39333</td>\n",
       "      <td>11.62667</td>\n",
       "      <td>NaN</td>\n",
       "      <td>NaN</td>\n",
       "      <td>2015</td>\n",
       "      <td>...</td>\n",
       "      <td>8.0</td>\n",
       "      <td>NaN</td>\n",
       "      <td>7719</td>\n",
       "      <td>BJÖRKHOLMEN</td>\n",
       "      <td>08:45</td>\n",
       "      <td></td>\n",
       "      <td>4.6</td>\n",
       "      <td>Västerhavets vattendistrikt</td>\n",
       "      <td>02 - Västkustens fjordar</td>\n",
       "      <td>2 - Havsområde innanför 1 NM</td>\n",
       "    </tr>\n",
       "    <tr>\n",
       "      <th>57</th>\n",
       "      <td>1.07</td>\n",
       "      <td>0.75</td>\n",
       "      <td>5.0</td>\n",
       "      <td>7.6</td>\n",
       "      <td></td>\n",
       "      <td>58.39333</td>\n",
       "      <td>11.62667</td>\n",
       "      <td>NaN</td>\n",
       "      <td>NaN</td>\n",
       "      <td>2015</td>\n",
       "      <td>...</td>\n",
       "      <td>8.0</td>\n",
       "      <td>NaN</td>\n",
       "      <td>7719</td>\n",
       "      <td>BJÖRKHOLMEN</td>\n",
       "      <td>08:45</td>\n",
       "      <td></td>\n",
       "      <td>4.9</td>\n",
       "      <td>Västerhavets vattendistrikt</td>\n",
       "      <td>02 - Västkustens fjordar</td>\n",
       "      <td>2 - Havsområde innanför 1 NM</td>\n",
       "    </tr>\n",
       "    <tr>\n",
       "      <th>58</th>\n",
       "      <td>0.93</td>\n",
       "      <td>0.91</td>\n",
       "      <td>10.0</td>\n",
       "      <td>6.7</td>\n",
       "      <td></td>\n",
       "      <td>58.39333</td>\n",
       "      <td>11.62667</td>\n",
       "      <td>NaN</td>\n",
       "      <td>NaN</td>\n",
       "      <td>2015</td>\n",
       "      <td>...</td>\n",
       "      <td>8.0</td>\n",
       "      <td>NaN</td>\n",
       "      <td>7719</td>\n",
       "      <td>BJÖRKHOLMEN</td>\n",
       "      <td>08:45</td>\n",
       "      <td></td>\n",
       "      <td>5.5</td>\n",
       "      <td>Västerhavets vattendistrikt</td>\n",
       "      <td>02 - Västkustens fjordar</td>\n",
       "      <td>2 - Havsområde innanför 1 NM</td>\n",
       "    </tr>\n",
       "    <tr>\n",
       "      <th>59</th>\n",
       "      <td>0.47</td>\n",
       "      <td>0.27</td>\n",
       "      <td>15.0</td>\n",
       "      <td>6.4</td>\n",
       "      <td></td>\n",
       "      <td>58.39333</td>\n",
       "      <td>11.62667</td>\n",
       "      <td>NaN</td>\n",
       "      <td>NaN</td>\n",
       "      <td>2015</td>\n",
       "      <td>...</td>\n",
       "      <td>8.0</td>\n",
       "      <td>NaN</td>\n",
       "      <td>7719</td>\n",
       "      <td>BJÖRKHOLMEN</td>\n",
       "      <td>08:45</td>\n",
       "      <td></td>\n",
       "      <td>7.0</td>\n",
       "      <td>Västerhavets vattendistrikt</td>\n",
       "      <td>02 - Västkustens fjordar</td>\n",
       "      <td>2 - Havsområde innanför 1 NM</td>\n",
       "    </tr>\n",
       "  </tbody>\n",
       "</table>\n",
       "<p>5 rows × 44 columns</p>\n",
       "</div>"
      ],
      "text/plain": [
       "    AMON  CPHL  DEPH DOXY_BTL DOXY_CTD  LATIT_DD  LONGI_DD MNDEP MXDEP  MYEAR  \\\n",
       "55  1.14   0.8   0.5      7.0           58.39333  11.62667   NaN   NaN   2015   \n",
       "56  1.21   1.0   2.0      7.3           58.39333  11.62667   NaN   NaN   2015   \n",
       "57  1.07  0.75   5.0      7.6           58.39333  11.62667   NaN   NaN   2015   \n",
       "58  0.93  0.91  10.0      6.7           58.39333  11.62667   NaN   NaN   2015   \n",
       "59  0.47  0.27  15.0      6.4           58.39333  11.62667   NaN   NaN   2015   \n",
       "\n",
       "                ...              SERNO SHARKID_MD5 SHIPC        STATN  STIME  \\\n",
       "55              ...                8.0         NaN  7719  BJÖRKHOLMEN  08:45   \n",
       "56              ...                8.0         NaN  7719  BJÖRKHOLMEN  08:45   \n",
       "57              ...                8.0         NaN  7719  BJÖRKHOLMEN  08:45   \n",
       "58              ...                8.0         NaN  7719  BJÖRKHOLMEN  08:45   \n",
       "59              ...                8.0         NaN  7719  BJÖRKHOLMEN  08:45   \n",
       "\n",
       "   TEMP_BTL TEMP_CTD               WATER_DISTRICT           WATER_TYPE_AREA  \\\n",
       "55               4.6  Västerhavets vattendistrikt  02 - Västkustens fjordar   \n",
       "56               4.6  Västerhavets vattendistrikt  02 - Västkustens fjordar   \n",
       "57               4.9  Västerhavets vattendistrikt  02 - Västkustens fjordar   \n",
       "58               5.5  Västerhavets vattendistrikt  02 - Västkustens fjordar   \n",
       "59               7.0  Västerhavets vattendistrikt  02 - Västkustens fjordar   \n",
       "\n",
       "                           WLTYP  \n",
       "55  2 - Havsområde innanför 1 NM  \n",
       "56  2 - Havsområde innanför 1 NM  \n",
       "57  2 - Havsområde innanför 1 NM  \n",
       "58  2 - Havsområde innanför 1 NM  \n",
       "59  2 - Havsområde innanför 1 NM  \n",
       "\n",
       "[5 rows x 44 columns]"
      ]
     },
     "execution_count": 12,
     "metadata": {},
     "output_type": "execute_result"
    }
   ],
   "source": [
    "data_after_first_filter = lv_workspace.get_filtered_data(level=0) # level=0 means first filter \n",
    "print('{} rows mathing the filter criteria'.format(len(data_after_first_filter)))\n",
    "data_after_first_filter.head()\n"
   ]
  },
  {
   "cell_type": "markdown",
   "metadata": {},
   "source": [
    "# Set subset filter and load subset data "
   ]
  },
  {
   "cell_type": "markdown",
   "metadata": {},
   "source": [
    "### Set subset filter "
   ]
  },
  {
   "cell_type": "code",
   "execution_count": 13,
   "metadata": {
    "collapsed": false
   },
   "outputs": [
    {
     "name": "stdout",
     "output_type": "stream",
     "text": [
      "sdfs\n",
      "dict_keys(['SEA_AREA_NAME', 'STATN', 'WATER_TYPE_AREA'])\n",
      "Save: \"SEA_AREA_NAME\" to file: \"D:/github/ekostat_calculator/workspaces/lv/subsets/A/step_1/data_filters/list_exclude_sea_area_name.fil\"\n",
      "Save: \"STATN\" to file: \"D:/github/ekostat_calculator/workspaces/lv/subsets/A/step_1/data_filters/list_exclude_statn.fil\"\n",
      "Save: \"WATER_TYPE_AREA\" to file: \"D:/github/ekostat_calculator/workspaces/lv/subsets/A/step_1/data_filters/list_exclude_water_type_area.fil\"\n",
      "dict_keys(['MYEAR', 'SEA_AREA_NAME', 'STATN', 'WATER_TYPE_AREA'])\n",
      "Save: \"MYEAR\" to file: \"D:/github/ekostat_calculator/workspaces/lv/subsets/A/step_1/data_filters/list_include_myear.fil\"\n",
      "2015\n",
      "2016\n",
      "Save: \"SEA_AREA_NAME\" to file: \"D:/github/ekostat_calculator/workspaces/lv/subsets/A/step_1/data_filters/list_include_sea_area_name.fil\"\n",
      "Gullmarn centralbassäng\n",
      "Rivö fjord\n",
      "Save: \"STATN\" to file: \"D:/github/ekostat_calculator/workspaces/lv/subsets/A/step_1/data_filters/list_include_statn.fil\"\n",
      "BJÖRKHOLMEN\n",
      "Save: \"WATER_TYPE_AREA\" to file: \"D:/github/ekostat_calculator/workspaces/lv/subsets/A/step_1/data_filters/list_include_water_type_area.fil\"\n",
      "sdfs\n",
      "dict_keys(['SEA_AREA_NAME', 'STATN', 'WATER_TYPE_AREA'])\n",
      "Save: \"SEA_AREA_NAME\" to file: \"D:/github/ekostat_calculator/workspaces/lv/subsets/A/step_1/data_filters/list_exclude_sea_area_name.fil\"\n",
      "Save: \"STATN\" to file: \"D:/github/ekostat_calculator/workspaces/lv/subsets/A/step_1/data_filters/list_exclude_statn.fil\"\n",
      "Save: \"WATER_TYPE_AREA\" to file: \"D:/github/ekostat_calculator/workspaces/lv/subsets/A/step_1/data_filters/list_exclude_water_type_area.fil\"\n",
      "dict_keys(['MYEAR', 'SEA_AREA_NAME', 'STATN', 'WATER_TYPE_AREA'])\n",
      "Save: \"MYEAR\" to file: \"D:/github/ekostat_calculator/workspaces/lv/subsets/A/step_1/data_filters/list_include_myear.fil\"\n",
      "2015\n",
      "2016\n",
      "Save: \"SEA_AREA_NAME\" to file: \"D:/github/ekostat_calculator/workspaces/lv/subsets/A/step_1/data_filters/list_include_sea_area_name.fil\"\n",
      "Gullmarn centralbassäng\n",
      "Rivö fjord\n",
      "Save: \"STATN\" to file: \"D:/github/ekostat_calculator/workspaces/lv/subsets/A/step_1/data_filters/list_include_statn.fil\"\n",
      "BJÖRKHOLMEN\n",
      "Save: \"WATER_TYPE_AREA\" to file: \"D:/github/ekostat_calculator/workspaces/lv/subsets/A/step_1/data_filters/list_include_water_type_area.fil\"\n",
      "sdfs\n",
      "dict_keys(['SEA_AREA_NAME', 'STATN', 'WATER_TYPE_AREA'])\n",
      "Save: \"SEA_AREA_NAME\" to file: \"D:/github/ekostat_calculator/workspaces/lv/subsets/A/step_1/data_filters/list_exclude_sea_area_name.fil\"\n",
      "Save: \"STATN\" to file: \"D:/github/ekostat_calculator/workspaces/lv/subsets/A/step_1/data_filters/list_exclude_statn.fil\"\n",
      "Save: \"WATER_TYPE_AREA\" to file: \"D:/github/ekostat_calculator/workspaces/lv/subsets/A/step_1/data_filters/list_exclude_water_type_area.fil\"\n",
      "dict_keys(['MYEAR', 'SEA_AREA_NAME', 'STATN', 'WATER_TYPE_AREA'])\n",
      "Save: \"MYEAR\" to file: \"D:/github/ekostat_calculator/workspaces/lv/subsets/A/step_1/data_filters/list_include_myear.fil\"\n",
      "2015\n",
      "2016\n",
      "Save: \"SEA_AREA_NAME\" to file: \"D:/github/ekostat_calculator/workspaces/lv/subsets/A/step_1/data_filters/list_include_sea_area_name.fil\"\n",
      "Gullmarn centralbassäng\n",
      "Rivö fjord\n",
      "Save: \"STATN\" to file: \"D:/github/ekostat_calculator/workspaces/lv/subsets/A/step_1/data_filters/list_include_statn.fil\"\n",
      "BJÖRKHOLMEN\n",
      "Save: \"WATER_TYPE_AREA\" to file: \"D:/github/ekostat_calculator/workspaces/lv/subsets/A/step_1/data_filters/list_include_water_type_area.fil\"\n",
      "sdfs\n",
      "dict_keys(['SEA_AREA_NAME', 'STATN', 'WATER_TYPE_AREA'])\n",
      "Save: \"SEA_AREA_NAME\" to file: \"D:/github/ekostat_calculator/workspaces/lv/subsets/A/step_1/data_filters/list_exclude_sea_area_name.fil\"\n",
      "Save: \"STATN\" to file: \"D:/github/ekostat_calculator/workspaces/lv/subsets/A/step_1/data_filters/list_exclude_statn.fil\"\n",
      "Save: \"WATER_TYPE_AREA\" to file: \"D:/github/ekostat_calculator/workspaces/lv/subsets/A/step_1/data_filters/list_exclude_water_type_area.fil\"\n",
      "dict_keys(['MYEAR', 'SEA_AREA_NAME', 'STATN', 'WATER_TYPE_AREA'])\n",
      "Save: \"MYEAR\" to file: \"D:/github/ekostat_calculator/workspaces/lv/subsets/A/step_1/data_filters/list_include_myear.fil\"\n",
      "2016\n",
      "2017\n",
      "Save: \"SEA_AREA_NAME\" to file: \"D:/github/ekostat_calculator/workspaces/lv/subsets/A/step_1/data_filters/list_include_sea_area_name.fil\"\n",
      "Gullmarn centralbassäng\n",
      "Rivö fjord\n",
      "Save: \"STATN\" to file: \"D:/github/ekostat_calculator/workspaces/lv/subsets/A/step_1/data_filters/list_include_statn.fil\"\n",
      "BJÖRKHOLMEN\n",
      "Save: \"WATER_TYPE_AREA\" to file: \"D:/github/ekostat_calculator/workspaces/lv/subsets/A/step_1/data_filters/list_include_water_type_area.fil\"\n"
     ]
    }
   ],
   "source": [
    "include_WB = ['Gullmarn centralbassäng', 'Rivö fjord']\n",
    "include_stations = ['BJÖRKHOLMEN'] \n",
    "# Lägg till något som kan plocka in stationer öven ifrån närliggande WB?\n",
    "exclude_stations = ['SLÄGGÖ'] # Example that both include and exclude are possible \n",
    "include_years = ['2016', '2017']  \n",
    "\n",
    "lv_workspace.set_data_filter(step=1, subset='A', filter_type='include_list', filter_name='SEA_AREA_NAME', data=include_WB)\n",
    "lv_workspace.set_data_filter(step=1, subset='A', filter_type='include_list', filter_name='STATN', data=include_stations)\n",
    "lv_workspace.set_data_filter(step=1, subset='A', filter_type='exclude_list', filter_name='STATN', data=exclude_stations)\n",
    "lv_workspace.set_data_filter(step=1, subset='A', filter_type='include_list', filter_name='MYEAR', data=include_years)"
   ]
  },
  {
   "cell_type": "code",
   "execution_count": null,
   "metadata": {
    "collapsed": true
   },
   "outputs": [],
   "source": []
  },
  {
   "cell_type": "markdown",
   "metadata": {},
   "source": [
    "### Apply subset filter "
   ]
  },
  {
   "cell_type": "code",
   "execution_count": 15,
   "metadata": {
    "collapsed": false
   },
   "outputs": [
    {
     "data": {
      "text/plain": [
       "True"
      ]
     },
     "execution_count": 15,
     "metadata": {},
     "output_type": "execute_result"
    }
   ],
   "source": [
    "lv_workspace.apply_subset_filter(subset='A') # Not handled properly by the IndexHandler"
   ]
  },
  {
   "cell_type": "markdown",
   "metadata": {},
   "source": [
    "### Extract filtered data "
   ]
  },
  {
   "cell_type": "code",
   "execution_count": 16,
   "metadata": {
    "collapsed": false
   },
   "outputs": [
    {
     "name": "stdout",
     "output_type": "stream",
     "text": [
      "198 rows mathing the filter criteria\n"
     ]
    },
    {
     "data": {
      "text/html": [
       "<div>\n",
       "<table border=\"1\" class=\"dataframe\">\n",
       "  <thead>\n",
       "    <tr style=\"text-align: right;\">\n",
       "      <th></th>\n",
       "      <th>AMON</th>\n",
       "      <th>CPHL</th>\n",
       "      <th>DEPH</th>\n",
       "      <th>DOXY_BTL</th>\n",
       "      <th>DOXY_CTD</th>\n",
       "      <th>LATIT_DD</th>\n",
       "      <th>LONGI_DD</th>\n",
       "      <th>MNDEP</th>\n",
       "      <th>MXDEP</th>\n",
       "      <th>MYEAR</th>\n",
       "      <th>...</th>\n",
       "      <th>SERNO</th>\n",
       "      <th>SHARKID_MD5</th>\n",
       "      <th>SHIPC</th>\n",
       "      <th>STATN</th>\n",
       "      <th>STIME</th>\n",
       "      <th>TEMP_BTL</th>\n",
       "      <th>TEMP_CTD</th>\n",
       "      <th>WATER_DISTRICT</th>\n",
       "      <th>WATER_TYPE_AREA</th>\n",
       "      <th>WLTYP</th>\n",
       "    </tr>\n",
       "  </thead>\n",
       "  <tbody>\n",
       "    <tr>\n",
       "      <th>2629</th>\n",
       "      <td>0.76</td>\n",
       "      <td>0.6</td>\n",
       "      <td>0.0</td>\n",
       "      <td>7.05</td>\n",
       "      <td></td>\n",
       "      <td>58.38767</td>\n",
       "      <td>11.62667</td>\n",
       "      <td>NaN</td>\n",
       "      <td>NaN</td>\n",
       "      <td>2017</td>\n",
       "      <td>...</td>\n",
       "      <td>8.0</td>\n",
       "      <td>NaN</td>\n",
       "      <td>77SN</td>\n",
       "      <td>BJÖRKHOLMEN</td>\n",
       "      <td>17:30</td>\n",
       "      <td>4.96</td>\n",
       "      <td>4.84</td>\n",
       "      <td>Västerhavets vattendistrikt</td>\n",
       "      <td>02 - Västkustens fjordar</td>\n",
       "      <td>2 - Havsområde innanför 1 NM</td>\n",
       "    </tr>\n",
       "    <tr>\n",
       "      <th>2630</th>\n",
       "      <td>0.72</td>\n",
       "      <td>0.5</td>\n",
       "      <td>2.0</td>\n",
       "      <td>7.12</td>\n",
       "      <td></td>\n",
       "      <td>58.38767</td>\n",
       "      <td>11.62667</td>\n",
       "      <td>NaN</td>\n",
       "      <td>NaN</td>\n",
       "      <td>2017</td>\n",
       "      <td>...</td>\n",
       "      <td>8.0</td>\n",
       "      <td>NaN</td>\n",
       "      <td>77SN</td>\n",
       "      <td>BJÖRKHOLMEN</td>\n",
       "      <td>17:30</td>\n",
       "      <td>4.93</td>\n",
       "      <td>4.84</td>\n",
       "      <td>Västerhavets vattendistrikt</td>\n",
       "      <td>02 - Västkustens fjordar</td>\n",
       "      <td>2 - Havsområde innanför 1 NM</td>\n",
       "    </tr>\n",
       "    <tr>\n",
       "      <th>2631</th>\n",
       "      <td>0.74</td>\n",
       "      <td>0.6</td>\n",
       "      <td>5.0</td>\n",
       "      <td>7.16</td>\n",
       "      <td></td>\n",
       "      <td>58.38767</td>\n",
       "      <td>11.62667</td>\n",
       "      <td>NaN</td>\n",
       "      <td>NaN</td>\n",
       "      <td>2017</td>\n",
       "      <td>...</td>\n",
       "      <td>8.0</td>\n",
       "      <td>NaN</td>\n",
       "      <td>77SN</td>\n",
       "      <td>BJÖRKHOLMEN</td>\n",
       "      <td>17:30</td>\n",
       "      <td>4.88</td>\n",
       "      <td>4.84</td>\n",
       "      <td>Västerhavets vattendistrikt</td>\n",
       "      <td>02 - Västkustens fjordar</td>\n",
       "      <td>2 - Havsområde innanför 1 NM</td>\n",
       "    </tr>\n",
       "    <tr>\n",
       "      <th>2632</th>\n",
       "      <td>0.65</td>\n",
       "      <td>0.5</td>\n",
       "      <td>10.0</td>\n",
       "      <td>7.11</td>\n",
       "      <td></td>\n",
       "      <td>58.38767</td>\n",
       "      <td>11.62667</td>\n",
       "      <td>NaN</td>\n",
       "      <td>NaN</td>\n",
       "      <td>2017</td>\n",
       "      <td>...</td>\n",
       "      <td>8.0</td>\n",
       "      <td>NaN</td>\n",
       "      <td>77SN</td>\n",
       "      <td>BJÖRKHOLMEN</td>\n",
       "      <td>17:30</td>\n",
       "      <td>5.12</td>\n",
       "      <td>4.86</td>\n",
       "      <td>Västerhavets vattendistrikt</td>\n",
       "      <td>02 - Västkustens fjordar</td>\n",
       "      <td>2 - Havsområde innanför 1 NM</td>\n",
       "    </tr>\n",
       "    <tr>\n",
       "      <th>2633</th>\n",
       "      <td>0.46</td>\n",
       "      <td>0.3</td>\n",
       "      <td>15.0</td>\n",
       "      <td>6.86</td>\n",
       "      <td></td>\n",
       "      <td>58.38767</td>\n",
       "      <td>11.62667</td>\n",
       "      <td>NaN</td>\n",
       "      <td>NaN</td>\n",
       "      <td>2017</td>\n",
       "      <td>...</td>\n",
       "      <td>8.0</td>\n",
       "      <td>NaN</td>\n",
       "      <td>77SN</td>\n",
       "      <td>BJÖRKHOLMEN</td>\n",
       "      <td>17:30</td>\n",
       "      <td>5.52</td>\n",
       "      <td>5.1</td>\n",
       "      <td>Västerhavets vattendistrikt</td>\n",
       "      <td>02 - Västkustens fjordar</td>\n",
       "      <td>2 - Havsområde innanför 1 NM</td>\n",
       "    </tr>\n",
       "  </tbody>\n",
       "</table>\n",
       "<p>5 rows × 44 columns</p>\n",
       "</div>"
      ],
      "text/plain": [
       "      AMON CPHL  DEPH DOXY_BTL DOXY_CTD  LATIT_DD  LONGI_DD MNDEP MXDEP  \\\n",
       "2629  0.76  0.6   0.0     7.05           58.38767  11.62667   NaN   NaN   \n",
       "2630  0.72  0.5   2.0     7.12           58.38767  11.62667   NaN   NaN   \n",
       "2631  0.74  0.6   5.0     7.16           58.38767  11.62667   NaN   NaN   \n",
       "2632  0.65  0.5  10.0     7.11           58.38767  11.62667   NaN   NaN   \n",
       "2633  0.46  0.3  15.0     6.86           58.38767  11.62667   NaN   NaN   \n",
       "\n",
       "      MYEAR              ...              SERNO SHARKID_MD5 SHIPC  \\\n",
       "2629   2017              ...                8.0         NaN  77SN   \n",
       "2630   2017              ...                8.0         NaN  77SN   \n",
       "2631   2017              ...                8.0         NaN  77SN   \n",
       "2632   2017              ...                8.0         NaN  77SN   \n",
       "2633   2017              ...                8.0         NaN  77SN   \n",
       "\n",
       "            STATN  STIME TEMP_BTL TEMP_CTD               WATER_DISTRICT  \\\n",
       "2629  BJÖRKHOLMEN  17:30     4.96     4.84  Västerhavets vattendistrikt   \n",
       "2630  BJÖRKHOLMEN  17:30     4.93     4.84  Västerhavets vattendistrikt   \n",
       "2631  BJÖRKHOLMEN  17:30     4.88     4.84  Västerhavets vattendistrikt   \n",
       "2632  BJÖRKHOLMEN  17:30     5.12     4.86  Västerhavets vattendistrikt   \n",
       "2633  BJÖRKHOLMEN  17:30     5.52      5.1  Västerhavets vattendistrikt   \n",
       "\n",
       "               WATER_TYPE_AREA                         WLTYP  \n",
       "2629  02 - Västkustens fjordar  2 - Havsområde innanför 1 NM  \n",
       "2630  02 - Västkustens fjordar  2 - Havsområde innanför 1 NM  \n",
       "2631  02 - Västkustens fjordar  2 - Havsområde innanför 1 NM  \n",
       "2632  02 - Västkustens fjordar  2 - Havsområde innanför 1 NM  \n",
       "2633  02 - Västkustens fjordar  2 - Havsområde innanför 1 NM  \n",
       "\n",
       "[5 rows x 44 columns]"
      ]
     },
     "execution_count": 16,
     "metadata": {},
     "output_type": "execute_result"
    }
   ],
   "source": [
    "data_after_subset_filter = lv_workspace.get_filtered_data(level=1, subset='A') # level=0 means first filter \n",
    "print('{} rows mathing the filter criteria'.format(len(data_after_subset_filter)))\n",
    "data_after_subset_filter.head()"
   ]
  },
  {
   "cell_type": "code",
   "execution_count": null,
   "metadata": {
    "collapsed": true
   },
   "outputs": [],
   "source": []
  },
  {
   "cell_type": "code",
   "execution_count": 17,
   "metadata": {
    "collapsed": false
   },
   "outputs": [
    {
     "data": {
      "text/plain": [
       "(array([1378, 1379, 1380, 1381, 1382, 1383, 1384, 1385, 1386, 1387, 1388,\n",
       "        1478, 1479, 1480, 1481, 1482, 1483, 1484, 1485, 1486, 1487, 1488,\n",
       "        1707, 1708, 1709, 1710, 1711, 1712, 1713, 1714, 1715, 1716, 1717,\n",
       "        1815, 1816, 1817, 1818, 1819, 1820, 1821, 1822, 1823, 1824, 1825,\n",
       "        1895, 1896, 1897, 1898, 1899, 1900, 1901, 1902, 1903, 1904, 1905,\n",
       "        1987, 1988, 1989, 1990, 1991, 1992, 1993, 1994, 1995, 1996, 1997,\n",
       "        2106, 2107, 2108, 2109, 2110, 2111, 2112, 2113, 2114, 2115, 2116,\n",
       "        2214, 2215, 2216, 2217, 2218, 2219, 2220, 2221, 2222, 2223, 2224,\n",
       "        2311, 2312, 2313, 2314, 2315, 2316, 2317, 2318, 2319, 2320, 2321,\n",
       "        2419, 2420, 2421, 2422, 2423, 2424, 2425, 2426, 2427, 2428, 2429,\n",
       "        2527, 2528, 2529, 2530, 2531, 2532, 2533, 2534, 2535, 2536, 2537,\n",
       "        2629, 2630, 2631, 2632, 2633, 2634, 2635, 2636, 2637, 2638, 2639,\n",
       "        2754, 2755, 2756, 2757, 2758, 2759, 2760, 2761, 2762, 2763, 2764,\n",
       "        2870, 2871, 2872, 2873, 2874, 2875, 2876, 2877, 2878, 2879, 2880,\n",
       "        2952, 2953, 2954, 2955, 2956, 2957, 2958, 2959, 2960, 2961, 2962,\n",
       "        3077, 3078, 3079, 3080, 3081, 3082, 3083, 3084, 3085, 3086, 3087,\n",
       "        3185, 3186, 3187, 3188, 3189, 3190, 3191, 3192, 3193, 3194, 3195,\n",
       "        3282, 3283, 3284, 3285, 3286, 3287, 3288, 3289, 3290, 3291, 3292,\n",
       "        3409, 3410, 3411, 3412, 3413, 3414, 3415, 3416, 3417, 3418, 3419,\n",
       "        3493, 3494, 3495, 3496, 3497, 3498, 3499, 3500, 3501, 3502, 3503,\n",
       "        3624, 3625, 3626, 3627, 3628, 3629, 3630, 3631, 3632, 3633, 3634,\n",
       "        3717, 3718, 3719, 3720, 3721, 3722, 3723, 3724, 3725, 3726, 3727,\n",
       "        3859, 3860, 3861, 3862, 3863, 3864, 3865, 3866, 3867, 3868, 3869,\n",
       "        3979, 3980, 3981, 3982, 3983, 3984, 3985, 3986, 3987, 3988, 3989,\n",
       "        4110, 4111, 4112, 4113, 4114, 4115, 4116, 4117, 4118, 4119, 4120,\n",
       "        4265, 4266, 4267, 4268, 4269, 4270, 4271, 4272, 4273, 4274, 4275,\n",
       "        4354, 4355, 4356, 4357, 4358, 4359, 4360, 4361, 4362, 4363, 4364,\n",
       "        4502, 4503, 4504, 4505, 4506, 4507, 4508, 4509, 4510, 4511, 4512,\n",
       "        4806, 4807, 4808, 4809, 4810, 4811, 4812, 4813, 4814, 4815, 4816,\n",
       "        4933, 4934, 4935, 4936, 4937, 4938, 4939, 4940, 4941, 4942, 4943,\n",
       "        5073, 5074, 5075, 5076, 5077, 5078, 5079, 5080, 5081, 5082, 5083,\n",
       "        5214, 5215, 5216, 5217, 5218, 5219, 5220, 5221, 5222, 5223, 5224,\n",
       "        5343, 5344, 5345, 5346, 5347, 5348, 5349, 5350, 5351, 5352, 5353,\n",
       "        5599, 5600, 5601, 5602, 5603, 5604, 5605, 5606, 5607, 5608, 5609,\n",
       "        5780, 5781, 5782, 5783, 5784, 5785, 5786, 5787, 5788, 5789, 5790,\n",
       "        5958, 5959, 5960, 5961, 5962, 5963, 5964, 5965, 5966, 5967, 5968,\n",
       "        6076, 6077, 6078, 6079, 6080, 6081, 6082, 6083, 6084, 6085, 6086,\n",
       "        6216, 6217, 6218, 6219, 6220, 6221, 6222, 6223, 6224, 6225, 6226,\n",
       "        6530, 6531, 6532, 6533, 6534, 6535, 6536, 6537, 6538, 6539, 6540,\n",
       "        6781, 6782, 6783, 6784, 6785, 6786, 6787, 6788, 6789, 6790, 6791], dtype=int64),)"
      ]
     },
     "execution_count": 17,
     "metadata": {},
     "output_type": "execute_result"
    }
   ],
   "source": [
    "import numpy as np\n",
    "np.where(lv_workspace.index_handler.subset_filter)"
   ]
  },
  {
   "cell_type": "code",
   "execution_count": 18,
   "metadata": {
    "collapsed": true
   },
   "outputs": [],
   "source": [
    "f = lv_workspace.get_data_filter_object(step=1, subset='A') \n"
   ]
  },
  {
   "cell_type": "code",
   "execution_count": 19,
   "metadata": {
    "collapsed": false
   },
   "outputs": [
    {
     "data": {
      "text/plain": [
       "{'exclude_list': ['SEA_AREA_NAME', 'STATN', 'WATER_TYPE_AREA'],\n",
       " 'include_list': ['MYEAR', 'SEA_AREA_NAME', 'STATN', 'WATER_TYPE_AREA']}"
      ]
     },
     "execution_count": 19,
     "metadata": {},
     "output_type": "execute_result"
    }
   ],
   "source": [
    "f.all_filters"
   ]
  },
  {
   "cell_type": "code",
   "execution_count": 20,
   "metadata": {
    "collapsed": false
   },
   "outputs": [
    {
     "data": {
      "text/plain": [
       "{'SEA_AREA_NAME': [], 'STATN': ['SLÄGGÖ'], 'WATER_TYPE_AREA': []}"
      ]
     },
     "execution_count": 20,
     "metadata": {},
     "output_type": "execute_result"
    }
   ],
   "source": [
    "f.exclude_list_filter"
   ]
  },
  {
   "cell_type": "code",
   "execution_count": 21,
   "metadata": {
    "collapsed": false
   },
   "outputs": [
    {
     "data": {
      "text/plain": [
       "{'MYEAR': ['2016', '2017'],\n",
       " 'SEA_AREA_NAME': ['Gullmarn centralbassäng', 'Rivö fjord'],\n",
       " 'STATN': ['BJÖRKHOLMEN'],\n",
       " 'WATER_TYPE_AREA': []}"
      ]
     },
     "execution_count": 21,
     "metadata": {},
     "output_type": "execute_result"
    }
   ],
   "source": [
    "f.include_list_filter"
   ]
  },
  {
   "cell_type": "code",
   "execution_count": 22,
   "metadata": {
    "collapsed": true
   },
   "outputs": [],
   "source": [
    "s = lv_workspace.get_step_1_object('A')"
   ]
  },
  {
   "cell_type": "code",
   "execution_count": 23,
   "metadata": {
    "collapsed": false
   },
   "outputs": [
    {
     "data": {
      "text/plain": [
       "{'exclude_list': ['SEA_AREA_NAME', 'STATN', 'WATER_TYPE_AREA'],\n",
       " 'include_list': ['MYEAR', 'SEA_AREA_NAME', 'STATN', 'WATER_TYPE_AREA']}"
      ]
     },
     "execution_count": 23,
     "metadata": {},
     "output_type": "execute_result"
    }
   ],
   "source": [
    "s.data_filter.all_filters"
   ]
  },
  {
   "cell_type": "code",
   "execution_count": 24,
   "metadata": {
    "collapsed": true
   },
   "outputs": [],
   "source": [
    "f0 = lv_workspace.get_data_filter_object(step=0) "
   ]
  },
  {
   "cell_type": "code",
   "execution_count": 25,
   "metadata": {
    "collapsed": false
   },
   "outputs": [
    {
     "data": {
      "text/plain": [
       "{'SEA_AREA_NAME': [], 'STATN': [], 'WATER_TYPE_AREA': []}"
      ]
     },
     "execution_count": 25,
     "metadata": {},
     "output_type": "execute_result"
    }
   ],
   "source": [
    "f0.exclude_list_filter"
   ]
  },
  {
   "cell_type": "code",
   "execution_count": 26,
   "metadata": {
    "collapsed": false
   },
   "outputs": [
    {
     "data": {
      "text/plain": [
       "{'MYEAR': ['2015', '2017'],\n",
       " 'SEA_AREA_NAME': ['Byfjorden',\n",
       "  'Gullmarn centralbassäng',\n",
       "  'Havstensfjorden',\n",
       "  'Rivö fjord'],\n",
       " 'STATN': [],\n",
       " 'WATER_TYPE_AREA': []}"
      ]
     },
     "execution_count": 26,
     "metadata": {},
     "output_type": "execute_result"
    }
   ],
   "source": [
    "f0.include_list_filter"
   ]
  },
  {
   "cell_type": "code",
   "execution_count": null,
   "metadata": {
    "collapsed": true
   },
   "outputs": [],
   "source": []
  },
  {
   "cell_type": "code",
   "execution_count": null,
   "metadata": {
    "collapsed": true
   },
   "outputs": [],
   "source": []
  },
  {
   "cell_type": "code",
   "execution_count": null,
   "metadata": {
    "collapsed": true
   },
   "outputs": [],
   "source": []
  },
  {
   "cell_type": "code",
   "execution_count": null,
   "metadata": {
    "collapsed": true
   },
   "outputs": [],
   "source": []
  },
  {
   "cell_type": "code",
   "execution_count": null,
   "metadata": {
    "collapsed": true
   },
   "outputs": [],
   "source": []
  },
  {
   "cell_type": "code",
   "execution_count": null,
   "metadata": {
    "collapsed": true
   },
   "outputs": [],
   "source": []
  },
  {
   "cell_type": "code",
   "execution_count": null,
   "metadata": {
    "collapsed": true
   },
   "outputs": [],
   "source": []
  },
  {
   "cell_type": "code",
   "execution_count": null,
   "metadata": {
    "collapsed": true
   },
   "outputs": [],
   "source": []
  },
  {
   "cell_type": "code",
   "execution_count": null,
   "metadata": {
    "collapsed": true
   },
   "outputs": [],
   "source": []
  },
  {
   "cell_type": "code",
   "execution_count": null,
   "metadata": {
    "collapsed": true
   },
   "outputs": [],
   "source": []
  },
  {
   "cell_type": "code",
   "execution_count": null,
   "metadata": {
    "collapsed": true
   },
   "outputs": [],
   "source": []
  },
  {
   "cell_type": "code",
   "execution_count": null,
   "metadata": {
    "collapsed": true
   },
   "outputs": [],
   "source": []
  },
  {
   "cell_type": "code",
   "execution_count": null,
   "metadata": {
    "collapsed": true
   },
   "outputs": [],
   "source": []
  },
  {
   "cell_type": "code",
   "execution_count": null,
   "metadata": {
    "collapsed": true
   },
   "outputs": [],
   "source": []
  },
  {
   "cell_type": "code",
   "execution_count": null,
   "metadata": {
    "collapsed": true
   },
   "outputs": [],
   "source": []
  },
  {
   "cell_type": "code",
   "execution_count": null,
   "metadata": {
    "collapsed": true
   },
   "outputs": [],
   "source": []
  },
  {
   "cell_type": "code",
   "execution_count": null,
   "metadata": {
    "collapsed": true
   },
   "outputs": [],
   "source": []
  },
  {
   "cell_type": "code",
   "execution_count": null,
   "metadata": {
    "collapsed": true
   },
   "outputs": [],
   "source": []
  },
  {
   "cell_type": "code",
   "execution_count": null,
   "metadata": {
    "collapsed": true
   },
   "outputs": [],
   "source": []
  },
  {
   "cell_type": "code",
   "execution_count": null,
   "metadata": {
    "collapsed": true
   },
   "outputs": [],
   "source": []
  },
  {
   "cell_type": "code",
   "execution_count": null,
   "metadata": {
    "collapsed": true
   },
   "outputs": [],
   "source": []
  },
  {
   "cell_type": "code",
   "execution_count": null,
   "metadata": {
    "collapsed": true
   },
   "outputs": [],
   "source": []
  },
  {
   "cell_type": "code",
   "execution_count": null,
   "metadata": {
    "collapsed": true
   },
   "outputs": [],
   "source": []
  },
  {
   "cell_type": "code",
   "execution_count": null,
   "metadata": {
    "collapsed": true
   },
   "outputs": [],
   "source": []
  },
  {
   "cell_type": "code",
   "execution_count": null,
   "metadata": {
    "collapsed": true
   },
   "outputs": [],
   "source": []
  },
  {
   "cell_type": "code",
   "execution_count": null,
   "metadata": {
    "collapsed": true
   },
   "outputs": [],
   "source": []
  },
  {
   "cell_type": "code",
   "execution_count": null,
   "metadata": {
    "collapsed": true
   },
   "outputs": [],
   "source": []
  },
  {
   "cell_type": "code",
   "execution_count": null,
   "metadata": {
    "collapsed": true
   },
   "outputs": [],
   "source": []
  },
  {
   "cell_type": "code",
   "execution_count": null,
   "metadata": {
    "collapsed": true
   },
   "outputs": [],
   "source": []
  },
  {
   "cell_type": "code",
   "execution_count": null,
   "metadata": {
    "collapsed": true
   },
   "outputs": [],
   "source": []
  },
  {
   "cell_type": "code",
   "execution_count": null,
   "metadata": {
    "collapsed": true
   },
   "outputs": [],
   "source": []
  },
  {
   "cell_type": "code",
   "execution_count": null,
   "metadata": {
    "collapsed": true
   },
   "outputs": [],
   "source": []
  }
 ],
 "metadata": {
  "kernelspec": {
   "display_name": "Python 3",
   "language": "python",
   "name": "python3"
  },
  "language_info": {
   "codemirror_mode": {
    "name": "ipython",
    "version": 3
   },
   "file_extension": ".py",
   "mimetype": "text/x-python",
   "name": "python",
   "nbconvert_exporter": "python",
   "pygments_lexer": "ipython3",
   "version": "3.6.0"
  }
 },
 "nbformat": 4,
 "nbformat_minor": 2
}
