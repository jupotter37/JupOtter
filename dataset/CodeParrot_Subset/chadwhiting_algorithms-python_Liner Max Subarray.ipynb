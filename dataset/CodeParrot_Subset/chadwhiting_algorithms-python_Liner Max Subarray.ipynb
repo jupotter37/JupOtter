{
 "cells": [
  {
   "cell_type": "code",
   "execution_count": 30,
   "metadata": {
    "collapsed": true
   },
   "outputs": [],
   "source": [
    "import sys\n",
    "\n",
    "def find_maximum_subarray(arr):\n",
    "    max_sum = -sys.maxsize\n",
    "    max_left, max_right = -1, -1\n",
    "    sum = 0\n",
    "    last_left = 0\n",
    "    for i in range(len(arr)):\n",
    "        sum += arr[i]\n",
    "        if sum > max_sum:\n",
    "            max_sum = sum\n",
    "            max_left = last_left\n",
    "            max_right = i\n",
    "        if sum < 0:\n",
    "            sum = 0\n",
    "            last_left = i + 1\n",
    "    return max_left, max_right, max_sum"
   ]
  },
  {
   "cell_type": "code",
   "execution_count": 31,
   "metadata": {
    "collapsed": false
   },
   "outputs": [
    {
     "name": "stdout",
     "output_type": "stream",
     "text": [
      "maxFromLeft 1 indexOfMaxFromLeft 0 maxFromRight 1 indexOfMaxFromRight 0\n",
      "maxFromLeft 3 indexOfMaxFromLeft 1 maxFromRight 2 indexOfMaxFromRight 1\n",
      "maxFromLeft 3 indexOfMaxFromLeft 1 maxFromRight 0 indexOfMaxFromRight 2\n",
      "maxFromLeft 3 indexOfMaxFromLeft 1 maxFromRight 2 indexOfMaxFromRight 3\n",
      "maxFromLeft 3 indexOfMaxFromLeft 1 maxFromRight 4 indexOfMaxFromRight 3\n",
      "(4, 3, 5)\n"
     ]
    }
   ],
   "source": [
    "print(solve([1, 2, -4, 2, 2]))"
   ]
  },
  {
   "cell_type": "code",
   "execution_count": null,
   "metadata": {
    "collapsed": true
   },
   "outputs": [],
   "source": []
  }
 ],
 "metadata": {
  "kernelspec": {
   "display_name": "Python 3",
   "language": "python",
   "name": "python3"
  },
  "language_info": {
   "codemirror_mode": {
    "name": "ipython",
    "version": 3
   },
   "file_extension": ".py",
   "mimetype": "text/x-python",
   "name": "python",
   "nbconvert_exporter": "python",
   "pygments_lexer": "ipython3",
   "version": "3.6.1"
  }
 },
 "nbformat": 4,
 "nbformat_minor": 2
}
