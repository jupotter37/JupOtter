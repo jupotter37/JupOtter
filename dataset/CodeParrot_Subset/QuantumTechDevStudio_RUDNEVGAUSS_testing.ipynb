{
 "cells": [
  {
   "cell_type": "code",
   "execution_count": 1,
   "metadata": {},
   "outputs": [
    {
     "name": "stderr",
     "output_type": "stream",
     "text": [
      "D:\\Anaconda\\lib\\site-packages\\h5py\\__init__.py:36: FutureWarning: Conversion of the second argument of issubdtype from `float` to `np.floating` is deprecated. In future, it will be treated as `np.float64 == np.dtype(float).type`.\n",
      "  from ._conv import register_converters as _register_converters\n"
     ]
    }
   ],
   "source": [
    "# Необходмые команды импорта.\n",
    "import sys\n",
    "#import os\n",
    "sys.path.append('../physlearn/')\n",
    "sys.path.append('../source')\n",
    "import numpy as np\n",
    "from numpy import linalg as LA\n",
    "import tensorflow as tf\n",
    "from matplotlib import pylab as plt\n",
    "from IPython.display import clear_output\n",
    "from physlearn.NeuralNet.NeuralNet import NeuralNet\n",
    "from physlearn.Optimizer.NelderMead.NelderMead import NelderMead\n",
    "from CostFunction import CostFunction\n",
    "import d1_osc\n",
    "import ann_constructor\n",
    "import math_util\n",
    "from visualiser import Visualiser"
   ]
  },
  {
   "cell_type": "code",
   "execution_count": 8,
   "metadata": {},
   "outputs": [
    {
     "name": "stdout",
     "output_type": "stream",
     "text": [
      "(8,)  ;  8\n",
      "[1 2 3 4 5 6]\n"
     ]
    }
   ],
   "source": [
    "a = np.array([1,2,3,4,5,6,7,8])\n",
    "print(a.shape, ' ; ', a[a.size-1])\n",
    "print(a[:a.size-2])"
   ]
  }
 ],
 "metadata": {
  "kernelspec": {
   "display_name": "Python 3",
   "language": "python",
   "name": "python3"
  },
  "language_info": {
   "codemirror_mode": {
    "name": "ipython",
    "version": 3
   },
   "file_extension": ".py",
   "mimetype": "text/x-python",
   "name": "python",
   "nbconvert_exporter": "python",
   "pygments_lexer": "ipython3",
   "version": "3.6.5"
  }
 },
 "nbformat": 4,
 "nbformat_minor": 2
}
