{
 "cells": [
  {
   "cell_type": "code",
   "execution_count": 29,
   "metadata": {
    "collapsed": true
   },
   "outputs": [],
   "source": [
    "#!/usr/bin/python\n",
    "\n",
    "import psycopg2 as pg2\n",
    "import csv\n",
    "import re\n",
    "from datetime import datetime"
   ]
  },
  {
   "cell_type": "code",
   "execution_count": 30,
   "metadata": {
    "collapsed": false
   },
   "outputs": [],
   "source": [
    "cfg = { 'host' : '192.168.0.20',\n",
    "        'user' : 'testuser',\n",
    "        'pw' : 'testpass',\n",
    "        'db' : 'dbs'}\n",
    "\n",
    "def extract_hashtags(s):\n",
    "    # Extract Hashtags from a string with regular expression and\n",
    "    # return a list of those\n",
    "    #source :https://stackoverflow.com/questions/2527892/parsing-a-tweet-to-extract-hashtags-into-an-array-in-python\n",
    "    return re.findall(r\"#(\\w+)\", s)\n",
    "\n",
    "def string_to_bool(s):\n",
    "    #Convert True and False from string to Boolean\n",
    "    return s == 'True'\n",
    "\n",
    "def make_timestamp(s):\n",
    "    #Convert a string in a datetime object:\n",
    "    # https://www.postgresql.org/docs/8.0/static/datatype-datetime.html\n",
    "    return datetime.strptime(s, '%Y-%m-%dT%H:%M:%S')\n",
    "\n",
    "def rm_non_ascii_chars(s):\n",
    "    # Source: https://stackoverflow.com/questions/36598136/remove-all-hex-characters-from-string-in-python\n",
    "    # interesting: http://farmdev.com/talks/unicode/\n",
    "    return s.encode('ascii', errors='ignore')"
   ]
  },
  {
   "cell_type": "code",
   "execution_count": 36,
   "metadata": {
    "collapsed": false
   },
   "outputs": [],
   "source": [
    "\n",
    "csv_file_name = 'american-election-tweets2.csv'\n",
    "\n",
    "data=[]\n",
    "with open(csv_file_name, 'r', newline='') as f:\n",
    "    #dialect = csv.Sniffer().sniff(f.read(1024))\n",
    "    datareader = csv.reader(f, delimiter=';') #quotechar=''\n",
    "    #['handle', 'text', 'is_retweet', 'original_author', 'time', \n",
    "    #'in_reply_to_screen_name', 'is_quote_status', 'retweet_count', \n",
    "    #'favorite_count', 'source_url', 'truncated']\n",
    "    next(datareader) # skip the header\n",
    "    for row in datareader:\n",
    "        # Format the data and put everything in a nice-looking JSON format\n",
    "        d = dict()\n",
    "        d['handle'] = row[0]\n",
    "        d['text'] = rm_non_ascii_chars(row[1])\n",
    "        d['hashtags'] = extract_hashtags(row[1])\n",
    "        d['is_retweet'] = string_to_bool(row[2])\n",
    "        d['original_author'] = row[3]\n",
    "        d['time'] = make_timestamp(row[4])\n",
    "        d['in_reply_to_screen_name'] = row[5]\n",
    "        d['is_quote_status'] = string_to_bool(row[6])\n",
    "        d['retweet_count'] = int(row[7])\n",
    "        d['favorite_count'] = int(row[8])\n",
    "        d['source_url'] = row[9]\n",
    "        d['truncated'] = string_to_bool(row[10])\n",
    "        data.append(d)\n",
    "#print(data)"
   ]
  },
  {
   "cell_type": "code",
   "execution_count": 15,
   "metadata": {
    "collapsed": true
   },
   "outputs": [],
   "source": [
    "#make hashtags set\n",
    "hashtags = set()\n",
    "for tweet in data:\n",
    "    for h in tweet['hashtags']:\n",
    "        hashtags.add(h)"
   ]
  },
  {
   "cell_type": "raw",
   "metadata": {},
   "source": []
  },
  {
   "cell_type": "code",
   "execution_count": 41,
   "metadata": {
    "collapsed": false
   },
   "outputs": [],
   "source": []
  },
  {
   "cell_type": "code",
   "execution_count": 42,
   "metadata": {
    "collapsed": true
   },
   "outputs": [],
   "source": []
  },
  {
   "cell_type": "code",
   "execution_count": 45,
   "metadata": {
    "collapsed": false
   },
   "outputs": [
    {
     "ename": "UnicodeDecodeError",
     "evalue": "'utf-8' codec can't decode byte 0x85 in position 1392: invalid start byte",
     "output_type": "error",
     "traceback": [
      "\u001b[0;31m---------------------------------------------------------------------------\u001b[0m",
      "\u001b[0;31mUnicodeDecodeError\u001b[0m                        Traceback (most recent call last)",
      "\u001b[0;32m<ipython-input-45-7590dea24ee5>\u001b[0m in \u001b[0;36m<module>\u001b[0;34m()\u001b[0m\n\u001b[0;32m----> 1\u001b[0;31m \u001b[0mdata\u001b[0m \u001b[0;34m=\u001b[0m \u001b[0mchardet\u001b[0m\u001b[0;34m.\u001b[0m\u001b[0mdetect\u001b[0m\u001b[0;34m(\u001b[0m\u001b[0mopen\u001b[0m\u001b[0;34m(\u001b[0m\u001b[0mcsv_file_name\u001b[0m\u001b[0;34m,\u001b[0m \u001b[0;34m'r'\u001b[0m\u001b[0;34m)\u001b[0m\u001b[0;34m.\u001b[0m\u001b[0mread\u001b[0m\u001b[0;34m(\u001b[0m\u001b[0;34m)\u001b[0m\u001b[0;34m)\u001b[0m\u001b[0;34m\u001b[0m\u001b[0m\n\u001b[0m",
      "\u001b[0;32m/usr/lib/python3.5/codecs.py\u001b[0m in \u001b[0;36mdecode\u001b[0;34m(self, input, final)\u001b[0m\n\u001b[1;32m    319\u001b[0m         \u001b[0;31m# decode input (taking the buffer into account)\u001b[0m\u001b[0;34m\u001b[0m\u001b[0;34m\u001b[0m\u001b[0m\n\u001b[1;32m    320\u001b[0m         \u001b[0mdata\u001b[0m \u001b[0;34m=\u001b[0m \u001b[0mself\u001b[0m\u001b[0;34m.\u001b[0m\u001b[0mbuffer\u001b[0m \u001b[0;34m+\u001b[0m \u001b[0minput\u001b[0m\u001b[0;34m\u001b[0m\u001b[0m\n\u001b[0;32m--> 321\u001b[0;31m         \u001b[0;34m(\u001b[0m\u001b[0mresult\u001b[0m\u001b[0;34m,\u001b[0m \u001b[0mconsumed\u001b[0m\u001b[0;34m)\u001b[0m \u001b[0;34m=\u001b[0m \u001b[0mself\u001b[0m\u001b[0;34m.\u001b[0m\u001b[0m_buffer_decode\u001b[0m\u001b[0;34m(\u001b[0m\u001b[0mdata\u001b[0m\u001b[0;34m,\u001b[0m \u001b[0mself\u001b[0m\u001b[0;34m.\u001b[0m\u001b[0merrors\u001b[0m\u001b[0;34m,\u001b[0m \u001b[0mfinal\u001b[0m\u001b[0;34m)\u001b[0m\u001b[0;34m\u001b[0m\u001b[0m\n\u001b[0m\u001b[1;32m    322\u001b[0m         \u001b[0;31m# keep undecoded input until the next call\u001b[0m\u001b[0;34m\u001b[0m\u001b[0;34m\u001b[0m\u001b[0m\n\u001b[1;32m    323\u001b[0m         \u001b[0mself\u001b[0m\u001b[0;34m.\u001b[0m\u001b[0mbuffer\u001b[0m \u001b[0;34m=\u001b[0m \u001b[0mdata\u001b[0m\u001b[0;34m[\u001b[0m\u001b[0mconsumed\u001b[0m\u001b[0;34m:\u001b[0m\u001b[0;34m]\u001b[0m\u001b[0;34m\u001b[0m\u001b[0m\n",
      "\u001b[0;31mUnicodeDecodeError\u001b[0m: 'utf-8' codec can't decode byte 0x85 in position 1392: invalid start byte"
     ]
    }
   ],
   "source": []
  },
  {
   "cell_type": "code",
   "execution_count": null,
   "metadata": {
    "collapsed": true
   },
   "outputs": [],
   "source": []
  }
 ],
 "metadata": {
  "kernelspec": {
   "display_name": "Python 3",
   "language": "python",
   "name": "python3"
  },
  "language_info": {
   "codemirror_mode": {
    "name": "ipython",
    "version": 3
   },
   "file_extension": ".py",
   "mimetype": "text/x-python",
   "name": "python",
   "nbconvert_exporter": "python",
   "pygments_lexer": "ipython3",
   "version": "3.5.3"
  }
 },
 "nbformat": 4,
 "nbformat_minor": 2
}
