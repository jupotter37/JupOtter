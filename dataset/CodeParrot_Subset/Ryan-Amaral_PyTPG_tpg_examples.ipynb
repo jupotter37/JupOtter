{
 "cells": [
  {
   "cell_type": "markdown",
   "metadata": {},
   "source": [
    "# TPG Examples\n",
    "This document shows how to use the PyTPG API. We make use of OpenAI Gym to run examples, and we assume you already have PyTPG installed, see the readme for installation instructions for PyTPG."
   ]
  },
  {
   "cell_type": "markdown",
   "metadata": {},
   "source": [
    "## General Setup"
   ]
  },
  {
   "cell_type": "code",
   "execution_count": 2,
   "metadata": {},
   "outputs": [],
   "source": [
    "from __future__ import division\n",
    "from IPython.display import clear_output\n",
    "import numpy as np\n",
    "import gym\n",
    "import matplotlib.pyplot as plt\n",
    "from IPython import display\n",
    "import random\n",
    "\n",
    "# how to render in Jupyter: \n",
    "# https://stackoverflow.com/questions/40195740/how-to-run-openai-gym-render-over-a-server\n",
    "# https://www.youtube.com/watch?v=O84KgRt6AJI\n",
    "def show_state(env, step=0, name='', info=''):\n",
    "    plt.figure(3)\n",
    "    plt.clf()\n",
    "    plt.imshow(env.render(mode='rgb_array'))\n",
    "    plt.title(\"%s | Step: %d %s\" % (name, step, info))\n",
    "    plt.axis('off')\n",
    "\n",
    "    display.clear_output(wait=True)\n",
    "    display.display(plt.gcf())\n",
    "    \n",
    "# To transform pixel matrix to a single vector.\n",
    "def getState(inState):\n",
    "    # each row is all 1 color\n",
    "    rgbRows = np.reshape(inState,(len(inState[0])*len(inState), 3)).T\n",
    "\n",
    "    # add each with appropriate shifting\n",
    "    # get RRRRRRRR GGGGGGGG BBBBBBBB\n",
    "    return np.add(np.left_shift(rgbRows[0], 16),\n",
    "        np.add(np.left_shift(rgbRows[1], 8), rgbRows[2]))"
   ]
  },
  {
   "cell_type": "code",
   "execution_count": 3,
   "metadata": {
    "scrolled": true
   },
   "outputs": [],
   "source": [
    "env = gym.make('Assault-v0') # make the environment"
   ]
  },
  {
   "cell_type": "code",
   "execution_count": 4,
   "metadata": {},
   "outputs": [
    {
     "name": "stdout",
     "output_type": "stream",
     "text": [
      "Discrete(7)\n"
     ]
    }
   ],
   "source": [
    "print(env.action_space) # learn size of action space"
   ]
  },
  {
   "cell_type": "code",
   "execution_count": 5,
   "metadata": {},
   "outputs": [],
   "source": [
    "# import to do training\n",
    "from tpg.trainer import Trainer\n",
    "# import to run an agent (always needed)\n",
    "from tpg.agent import Agent"
   ]
  },
  {
   "cell_type": "markdown",
   "metadata": {},
   "source": [
    "## Example: Basic Generational Selection (with graphics)"
   ]
  },
  {
   "cell_type": "code",
   "execution_count": 5,
   "metadata": {
    "scrolled": false
   },
   "outputs": [
    {
     "data": {
      "image/png": "[encoded data removed]",
      "text/plain": [
       "<Figure size 432x288 with 1 Axes>"
      ]
     },
     "metadata": {},
     "output_type": "display_data"
    },
    {
     "name": "stdout",
     "output_type": "stream",
     "text": [
      "Time Taken (Hours): 0.6057909552256266\n",
      "Results:\n",
      "Min, Max, Avg\n",
      "0.0 210.0 10.5\n",
      "0.0 210.0 10.5\n",
      "0.0 357.0 27.0\n",
      "0.0 399.0 51.45\n",
      "0.0 378.0 74.55\n"
     ]
    },
    {
     "data": {
      "image/png": "[encoded data removed]",
      "text/plain": [
       "<Figure size 432x288 with 1 Axes>"
      ]
     },
     "metadata": {
      "needs_background": "light"
     },
     "output_type": "display_data"
    }
   ],
   "source": [
    "%matplotlib inline\n",
    "import time # for tracking time\n",
    "\n",
    "tStart = time.time()\n",
    "\n",
    "# first create an instance of the TpgTrainer\n",
    "# this creates the whole population and everything\n",
    "# teamPopSize should realistically be at-least 100\n",
    "trainer = Trainer(actions=env.action_space.n, teamPopSize=20) \n",
    "\n",
    "curScores = [] # hold scores in a generation\n",
    "summaryScores = [] # record score summaries for each gen (min, max, avg)\n",
    "\n",
    "# 5 generations isn't much (not even close), but some improvements\n",
    "# should be seen.\n",
    "for gen in range(5): # generation loop\n",
    "    curScores = [] # new list per gen\n",
    "    \n",
    "    agents = trainer.getAgents()\n",
    "    \n",
    "    while True: # loop to go through agents\n",
    "        teamNum = len(agents)\n",
    "        agent = agents.pop()\n",
    "        if agent is None:\n",
    "            break # no more agents, so proceed to next gen\n",
    "        \n",
    "        state = env.reset() # get initial state and prep environment\n",
    "        score = 0\n",
    "        for i in range(500): # run episodes that last 500 frames\n",
    "            show_state(env, i, 'Assault', 'Gen #' + str(gen) + \n",
    "                       ', Team #' + str(teamNum) +\n",
    "                       ', Score: ' + str(score)) # render env\n",
    "            \n",
    "            # get action from agent\n",
    "            # must transform to at-least int-32 (for my getState to bitshift correctly)\n",
    "            act = agent.act(getState(np.array(state, dtype=np.int32))) \n",
    "\n",
    "            # feedback from env\n",
    "            state, reward, isDone, debug = env.step(act)\n",
    "            score += reward # accumulate reward in score\n",
    "            if isDone:\n",
    "                break # end early if losing state\n",
    "\n",
    "        agent.reward(score) # must reward agent (if didn't already score)\n",
    "            \n",
    "        curScores.append(score) # store score\n",
    "        \n",
    "        if len(agents) == 0:\n",
    "            break\n",
    "            \n",
    "    # at end of generation, make summary of scores\n",
    "    summaryScores.append((min(curScores), max(curScores),\n",
    "                    sum(curScores)/len(curScores))) # min, max, avg\n",
    "    trainer.evolve()\n",
    "    \n",
    "#clear_output(wait=True)\n",
    "print('Time Taken (Hours): ' + str((time.time() - tStart)/3600))\n",
    "print('Results:\\nMin, Max, Avg')\n",
    "for result in summaryScores:\n",
    "    print(result[0],result[1],result[2])"
   ]
  },
  {
   "cell_type": "markdown",
   "metadata": {},
   "source": [
    "## Example: Generational Selection with Multiprocessing (no graphics)"
   ]
  },
  {
   "cell_type": "markdown",
   "metadata": {},
   "source": [
    "This example is just to show a different way to run the API, a far superior way. It uses a different method to get the agents, doesn't use graphics (but can), and uses multiprocessing."
   ]
  },
  {
   "cell_type": "code",
   "execution_count": 6,
   "metadata": {},
   "outputs": [],
   "source": [
    "\"\"\"\n",
    "Run each agent in this method for parallization.\n",
    "Args:\n",
    "    args: (TpgAgent, envName, scoreList, numEpisodes, numFrames)\n",
    "\"\"\"\n",
    "def runAgent(args):\n",
    "    agent = args[0]\n",
    "    envName = args[1]\n",
    "    scoreList = args[2]\n",
    "    numEpisodes = args[3] # number of times to repeat game\n",
    "    numFrames = args[4] \n",
    "    \n",
    "    # skip if task already done by agent\n",
    "    if agent.taskDone(envName):\n",
    "        print('Agent #' + str(agent.agentNum) + ' can skip.')\n",
    "        scoreList.append((agent.team.id, agent.team.outcomes))\n",
    "        return\n",
    "    \n",
    "    env = gym.make(envName)\n",
    "    valActs = range(env.action_space.n) # valid actions, some envs are less\n",
    "    \n",
    "    scoreTotal = 0 # score accumulates over all episodes\n",
    "    for ep in range(numEpisodes): # episode loop\n",
    "        state = env.reset()\n",
    "        scoreEp = 0\n",
    "        numRandFrames = 0\n",
    "        if numEpisodes > 1:\n",
    "            numRandFrames = random.randint(0,30)\n",
    "        for i in range(numFrames): # frame loop\n",
    "            if i < numRandFrames:\n",
    "                env.step(env.action_space.sample())\n",
    "                continue\n",
    "\n",
    "            act = agent.act(getState(np.array(state, dtype=np.int32)))\n",
    "\n",
    "            # feedback from env\n",
    "            state, reward, isDone, debug = env.step(act)\n",
    "            scoreEp += reward # accumulate reward in score\n",
    "            if isDone:\n",
    "                break # end early if losing state\n",
    "                \n",
    "        print('Agent #' + str(agent.agentNum) + \n",
    "              ' | Ep #' + str(ep) + ' | Score: ' + str(scoreEp))\n",
    "        scoreTotal += scoreEp\n",
    "       \n",
    "    scoreTotal /= numEpisodes\n",
    "    env.close()\n",
    "    agent.reward(scoreTotal, envName)\n",
    "    scoreList.append((agent.team.id, agent.team.outcomes))"
   ]
  },
  {
   "cell_type": "code",
   "execution_count": 7,
   "metadata": {
    "scrolled": true
   },
   "outputs": [
    {
     "name": "stdout",
     "output_type": "stream",
     "text": [
      "Time Taken (Hours): 0.6896040613121457\n",
      "Results:\n",
      "Min, Max, Avg\n",
      "-100.0 3.0 -45.52777777777778\n",
      "-100.0 15.0 -29.719444444444445\n",
      "-100.0 21.0 -25.533333333333335\n",
      "-100.0 36.0 -25.680555555555557\n",
      "-100.0 36.0 -21.508333333333333\n",
      "-100.0 36.0 -20.358333333333334\n",
      "-100.0 36.0 -18.81388888888889\n",
      "-100.0 36.0 -18.332409972299168\n",
      "-100.0 36.0 -14.911357340720222\n",
      "-100.0 36.0 -16.28808864265928\n",
      "-100.0 36.0 -14.376731301939058\n",
      "-100.0 36.0 -13.520775623268698\n",
      "-100.0 36.0 -15.57617728531856\n",
      "-100.0 36.0 -12.426592797783934\n",
      "-100.0 36.0 -13.578947368421053\n",
      "-100.0 36.0 -11.520775623268698\n",
      "-100.0 36.0 -9.986149584487535\n",
      "-100.0 36.0 -12.354570637119114\n",
      "-100.0 36.0 -13.861495844875346\n",
      "-100.0 36.0 -11.357340720221607\n",
      "-100.0 37.0 -11.734072022160666\n",
      "-100.0 37.0 -9.847222222222221\n",
      "-100.0 37.0 -11.986149584487535\n",
      "-100.0 37.0 -8.13888888888889\n",
      "-100.0 42.0 -8.894736842105264\n",
      "-100.0 42.0 -11.602777777777778\n",
      "-100.0 42.0 -7.044444444444444\n",
      "-100.0 42.0 -8.502777777777778\n",
      "-100.0 42.0 -7.719444444444444\n",
      "-100.0 42.0 -7.124653739612189\n",
      "-100.0 42.0 -6.719444444444444\n",
      "-100.0 42.0 -5.914127423822714\n",
      "-100.0 42.0 -8.355555555555556\n",
      "-100.0 42.0 -2.6\n",
      "-100.0 42.0 -3.1305555555555555\n",
      "-100.0 42.0 -7.230555555555555\n",
      "-100.0 52.0 -6.538888888888889\n",
      "-100.0 52.0 -3.3666666666666667\n",
      "-100.0 52.0 -5.663888888888889\n",
      "-100.0 52.0 -2.221606648199446\n",
      "-100.0 52.0 -2.352777777777778\n",
      "-100.0 52.0 -3.736842105263158\n",
      "-100.0 52.0 -1.2694444444444444\n",
      "-100.0 52.0 -3.2416666666666667\n",
      "-100.0 52.0 -1.6888888888888889\n",
      "-100.0 52.0 -5.263888888888889\n",
      "-100.0 52.0 3.9113573407202216\n",
      "-100.0 52.0 -6.102777777777778\n",
      "-100.0 52.0 -0.26944444444444443\n",
      "-100.0 52.0 2.9058171745152355\n",
      "-100.0 52.0 0.43213296398891965\n",
      "-100.0 52.0 -2.013888888888889\n",
      "-100.0 64.0 0.2638888888888889\n",
      "-100.0 64.0 0.9916666666666667\n",
      "-100.0 64.0 2.7416666666666667\n",
      "-100.0 64.0 0.044444444444444446\n",
      "-100.0 64.0 1.4805555555555556\n",
      "-100.0 64.0 0.28888888888888886\n",
      "-100.0 64.0 3.6777777777777776\n",
      "-100.0 64.0 -0.6398891966759003\n",
      "-100.0 64.0 2.763888888888889\n",
      "-100.0 64.0 1.9388888888888889\n",
      "-100.0 64.0 3.713888888888889\n",
      "-100.0 64.0 -1.0858725761772854\n",
      "-100.0 64.0 3.3583333333333334\n",
      "-100.0 67.0 3.561111111111111\n",
      "-100.0 67.0 5.413888888888889\n",
      "-100.0 67.0 4.2444444444444445\n",
      "-100.0 67.0 3.2666666666666666\n",
      "-100.0 67.0 2.0027777777777778\n",
      "-100.0 67.0 9.294444444444444\n",
      "-100.0 67.0 0.08888888888888889\n",
      "-100.0 67.0 9.277777777777779\n",
      "-100.0 67.0 0.019444444444444445\n",
      "-100.0 67.0 0.5611111111111111\n",
      "-100.0 67.0 7.3\n",
      "-100.0 67.0 7.308333333333334\n",
      "-100.0 67.0 0.7361111111111112\n",
      "-100.0 67.0 8.33611111111111\n",
      "-100.0 67.0 4.980555555555555\n",
      "-100.0 67.0 5.222222222222222\n",
      "-100.0 67.0 8.027777777777779\n",
      "-100.0 67.0 4.902777777777778\n",
      "-100.0 67.0 7.706371191135734\n",
      "-100.0 67.0 9.587257617728532\n",
      "-100.0 67.0 5.680555555555555\n",
      "-100.0 67.0 7.705555555555556\n",
      "-100.0 67.0 7.238888888888889\n",
      "-100.0 67.0 9.816666666666666\n",
      "-100.0 67.0 9.430555555555555\n",
      "-100.0 67.0 9.863888888888889\n",
      "-100.0 69.0 2.581717451523546\n",
      "-100.0 69.0 12.730555555555556\n",
      "-100.0 69.0 7.697222222222222\n",
      "-100.0 69.0 10.734072022160666\n",
      "-100.0 69.0 9.481994459833794\n",
      "-100.0 69.0 8.966666666666667\n",
      "-100.0 70.0 11.744444444444444\n",
      "-100.0 70.0 9.058333333333334\n",
      "-100.0 70.0 10.683333333333334\n"
     ]
    }
   ],
   "source": [
    "import multiprocessing as mp\n",
    "import time\n",
    "\n",
    "tStart = time.time()\n",
    "\n",
    "envName = 'Boxing-v0'\n",
    "# get num actions\n",
    "env = gym.make(envName)\n",
    "acts = env.action_space.n\n",
    "del env\n",
    "\n",
    "trainer = Trainer(actions=acts, teamPopSize=360)\n",
    "\n",
    "processes = 23\n",
    "man = mp.Manager()\n",
    "pool = mp.Pool(processes=processes, maxtasksperchild=1)\n",
    "    \n",
    "allScores = [] # track all scores each generation\n",
    "\n",
    "for gen in range(100): # do 100 generations of training\n",
    "    scoreList = man.list()\n",
    "    \n",
    "    # get agents, noRef to not hold reference to trainer in each one\n",
    "    # don't need reference to trainer in multiprocessing\n",
    "    agents = trainer.getAgents() # swap out agents only at start of generation\n",
    "\n",
    "    # run the agents\n",
    "    pool.map(runAgent, \n",
    "        [(agent, envName, scoreList, 1, 18000)\n",
    "        for agent in agents])\n",
    "    \n",
    "    # apply scores, must do this when multiprocessing\n",
    "    # because agents can't refer to trainer\n",
    "    teams = trainer.applyScores(scoreList)\n",
    "    # important to remember to set tasks right, unless not using task names\n",
    "    # task name set in runAgent()\n",
    "    trainer.evolve(tasks=[envName]) # go into next gen\n",
    "    \n",
    "    # an easier way to track stats than the above example\n",
    "    scoreStats = trainer.fitnessStats\n",
    "    allScores.append((scoreStats['min'], scoreStats['max'], scoreStats['average']))\n",
    "    \n",
    "    clear_output()\n",
    "    print('Time Taken (Hours): ' + str((time.time() - tStart)/3600))\n",
    "    print('Gen: ' + str(gen))\n",
    "    print('Results so far: ' + str(allScores))\n",
    "    \n",
    "clear_output()\n",
    "print('Time Taken (Hours): ' + str((time.time() - tStart)/3600))\n",
    "print('Results:\\nMin, Max, Avg')\n",
    "for score in allScores:\n",
    "    print(score[0],score[1],score[2])"
   ]
  },
  {
   "cell_type": "code",
   "execution_count": null,
   "metadata": {},
   "outputs": [],
   "source": []
  }
 ],
 "metadata": {
  "kernelspec": {
   "display_name": "Python [conda env:oaigym]",
   "language": "python",
   "name": "conda-env-oaigym-py"
  },
  "language_info": {
   "codemirror_mode": {
    "name": "ipython",
    "version": 3
   },
   "file_extension": ".py",
   "mimetype": "text/x-python",
   "name": "python",
   "nbconvert_exporter": "python",
   "pygments_lexer": "ipython3",
   "version": "3.7.4"
  }
 },
 "nbformat": 4,
 "nbformat_minor": 2
}
