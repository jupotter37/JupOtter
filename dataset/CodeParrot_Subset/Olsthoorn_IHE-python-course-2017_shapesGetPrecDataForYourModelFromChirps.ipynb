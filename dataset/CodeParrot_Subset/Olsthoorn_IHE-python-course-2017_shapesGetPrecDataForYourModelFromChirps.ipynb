{
 "cells": [
  {
   "cell_type": "markdown",
   "metadata": {},
   "source": [
    "<figure>\n",
    "  <IMG SRC=\"../../logo/logo.png\" WIDTH=250 ALIGN=\"right\">\n",
    "</figure>\n",
    "\n",
    "# IHE Python course, 2017\n",
    "\n",
    "## CHIRPS data for precipitation (worldwide between 50S and 50N latitude)\n",
    "\n",
    "## Never again find yourself without appropriate precipitation data\n",
    "\n",
    "Thisi is what we've leaned from the presentation by Tim Hessels on March 14.\n",
    "\n",
    "To put this in practice, we'll download precipitaion data for a groundwater model in Morocco in the Tafilat area near Erfoud (find it in GoogleMaps."
   ]
  },
  {
   "cell_type": "code",
   "execution_count": 17,
   "metadata": {
    "collapsed": false
   },
   "outputs": [],
   "source": [
    "import numpy as np\n",
    "from pprint import pprint \n",
    "\n",
    "\n",
    "def prar(A, ncol=8, maxsize=1000):\n",
    "    \"\"\"prints 2D arrays the Matlab 2 (more readable)\"\"\"\n",
    "    if A.size>1000:   # don't try to print a million values, or your pc will hang.      \n",
    "        print(A)\n",
    "        return\n",
    "    n = A.shape[1]\n",
    "    # print columns in formatted chunks that fit on on line\n",
    "    for i, Asub in enumerate(np.split(A, range(ncol, n, ncol), axis=1)):\n",
    "        if Asub.size == 0: Asub=A\n",
    "        print(\"columns[{}:{}]\".format(i * ncol, i * ncol +Asub.shape[1]))\n",
    "        for L in Asub:\n",
    "            print((\" {:10.5g}\" * len(L)).format(*L))\n",
    "        print()\n"
   ]
  },
  {
   "cell_type": "markdown",
   "metadata": {},
   "source": [
    "# CHIRPS (Climate Hazards group Infrared Precipitation with Stations\n",
    "\n",
    "Download the data files for the desired periods for the whole of Africa from CHIRPS. You can do this with FileZilla a free app for this purpose.\n",
    "\n",
    "For access to the CHIRPTS data see\n",
    "\n",
    "http://chg.ucsb.edu/data/chirps/\n",
    "\n",
    "Next to tiff files one can find png (images) on the sight that can be directly viewed in your browser or imported into any application, whithout any processing. But of course a pictures does not have the original data."
   ]
  },
  {
   "cell_type": "markdown",
   "metadata": {},
   "source": [
    "## glob (unix-like file handling for python)\n",
    "\n",
    "Assuming that you have downloaded some files, use glob to get a list of them on your computer."
   ]
  },
  {
   "cell_type": "code",
   "execution_count": 18,
   "metadata": {
    "collapsed": false
   },
   "outputs": [
    {
     "name": "stdout",
     "output_type": "stream",
     "text": [
      "['../Mar14/chirps/chirps-v2.0.2017.01.1.tif',\n",
      " '../Mar14/chirps/chirps-v2.0.2017.01.2.tif',\n",
      " '../Mar14/chirps/chirps-v2.0.2017.01.3.tif']\n"
     ]
    }
   ],
   "source": [
    "import glob \n",
    "\n",
    "chirps_files = glob.glob('../**/*/*.tif')\n",
    "pprint(chirps_files)\n",
    "fname = chirps_files[0]"
   ]
  },
  {
   "cell_type": "markdown",
   "metadata": {},
   "source": [
    "# gdal (working with tiff files among others, GIS)\n",
    "\n",
    "import gdal and check if the file is present by opening it."
   ]
  },
  {
   "cell_type": "code",
   "execution_count": 19,
   "metadata": {
    "collapsed": false
   },
   "outputs": [],
   "source": [
    "import gdal\n",
    "\n",
    "try: # is the file present?\n",
    "    g = gdal.Open(fname)\n",
    "except:\n",
    "    exception(FileExistsError(\"Can't open file <{}>\".fname))"
   ]
  },
  {
   "cell_type": "markdown",
   "metadata": {},
   "source": [
    "## Get some basic information from the tiff file\n",
    "\n",
    "Ok, now with g the successfully opended CHIRPS file, get some basic information from that file."
   ]
  },
  {
   "cell_type": "code",
   "execution_count": 20,
   "metadata": {
    "collapsed": false
   },
   "outputs": [
    {
     "name": "stdout",
     "output_type": "stream",
     "text": [
      "\n",
      "Basic information on file <../Mar14/chirps/chirps-v2.0.2017.01.1.tif>\n",
      "\n",
      "Driver:  GTiff / GeoTIFF\n",
      "Size :  1500 x 1600 x 1\n",
      "Projection :\n",
      " GEOGCS[\"WGS 84\",DATUM[\"WGS_1984\",SPHEROID[\"WGS 84\",6378137,298.257223563,AUTHORITY[\"EPSG\",\"7030\"]],AUTHORITY[\"EPSG\",\"6326\"]],PRIMEM[\"Greenwich\",0],UNIT[\"degree\",0.0174532925199433],AUTHORITY[\"EPSG\",\"4326\"]]\n",
      "\n",
      "\n",
      "Geotransform information:\n",
      "\n",
      "Geotransform : (-20.0, 0.05000000074505806, 0.0, 40.0, 0.0, -0.05000000074505806)\n",
      "Nx = 1500\n",
      "Ny = 1600\n",
      "xUL = -20.0\n",
      "yUL = 40.0\n",
      "dx  = 0.05000000074505806\n",
      "dy  = -0.05000000074505806 <--- Negative !\n"
     ]
    }
   ],
   "source": [
    "print(\"\\nBasic information on file <{}>\\n\".format(fname))\n",
    "print(\"Driver: \", g.GetDriver().ShortName, '/', g.GetDriver().LongName)\n",
    "print(\"Size : \", g.RasterXSize, 'x', g.RasterYSize, 'x', g.RasterCount)\n",
    "print(\"Projection :\\n\", g.GetProjection())\n",
    "print()\n",
    "print(\"\\nGeotransform information:\\n\")\n",
    "gt = g.GetGeoTransform()\n",
    "print(\"Geotransform :\", gt)\n",
    "\n",
    "# assign the individual fields to more recognizable variables\n",
    "xUL, dx, xRot, yUL, yRot, dy = gt\n",
    "\n",
    "# get the size of the data and the number of bands in the tiff file (is 1)\n",
    "Nx, Ny, Nband = g.RasterXSize, g.RasterYSize, g.RasterCount\n",
    "\n",
    "# show what we've got:\n",
    "print('Nx = {}\\nNy = {}\\nxUL = {}\\nyUL = {}\\ndx  = {}\\ndy  = {} <--- Negative !'.format(Nx, Ny, xUL, yUL, dx, dy))"
   ]
  },
  {
   "cell_type": "markdown",
   "metadata": {},
   "source": [
    "This projection says that it's WGS1984 (same as GoogleEarth and GoogleMaps. Therefore it is in longitude (x) and latitute (y) coordinates. This allows to immediately compute the WGS coordinates (lat/lon) from it, for instance for each pixel/cell center. It's also straightforward to compute the bounding box of this array and plot it in QGIS for instance:"
   ]
  },
  {
   "cell_type": "code",
   "execution_count": 21,
   "metadata": {
    "collapsed": false
   },
   "outputs": [
    {
     "name": "stdout",
     "output_type": "stream",
     "text": [
      "Boudning box of data in tiff file : [-20.0, -40.000001192092896, 55.00000111758709, 40.0]\n"
     ]
    }
   ],
   "source": [
    "# Bounding box around the tiff data set\n",
    "tbb = [xUL, yUL + Ny * dy, xUL + Nx * dx, yUL]\n",
    "print(\"Boudning box of data in tiff file :\", tbb)"
   ]
  },
  {
   "cell_type": "code",
   "execution_count": 22,
   "metadata": {
    "collapsed": true
   },
   "outputs": [],
   "source": [
    "# Generate coordinates for tiff pixel centers\n",
    "xm = 0.5 * dx + np.linspace(xUL, xUL + Nx * dx, Nx) \n",
    "ym = 0.5 * dy + np.linspace(yUL, yUL + Ny * dy, Ny)"
   ]
  },
  {
   "cell_type": "markdown",
   "metadata": {},
   "source": [
    "# Generate a shapefile with a polyline that represents the model boundary\n",
    "\n",
    "The contour coordinates of the Erfoud/Tafilalet groundwater model happen to be the file ErfoudModelContour.kml. Kml files come from GoogleEarth and are in WGS84 coordinates. It was obtained by digitizing the line directly in Google Earth.\n",
    "\n",
    "We extract the coordinates from that HTML file and put them in a list of lists, the form needed to inject the coordinates into the shapefile.\n",
    "\n",
    "Extraction can be done in several ways, for instance with one of the HTML parsers that are available on the internet. However if you look at this file in the internet, it's clear that we may do this in a simple way. Read the file line by line until we find the word \"coordinates\". Then read the next line, which contains all the coordinates. Then clean that line form tabs, put a comma between each tripple of coordinate values and turn it into a list of lists with each list the x, y an z values of one vertice of the model boundary:"
   ]
  },
  {
   "cell_type": "code",
   "execution_count": 23,
   "metadata": {
    "collapsed": false
   },
   "outputs": [],
   "source": [
    "with open('ErfoudModelContour.kml', 'r') as f:\n",
    "    for s in f:  # read lines from this file\n",
    "        if s.find('coord') > 0:  # word \"coord\" bound?\n",
    "            \n",
    "            # Then the next line has all coordinates. Read it and clean up.\n",
    "            pnts_as_str = f.readline().replace(' ',',').replace('\\t','').split(',')\n",
    "            \n",
    "            # Use a comprehension to put these coordinates in a list, where list[i] has\n",
    "            # a sublist of the three x, y and z coordinates.\n",
    "            points = [ [float(p) for p in p3]\n",
    "                          for p3 in [pnts_as_str[i:i+3]\n",
    "                                         for i in range(0, len(pnts_as_str), 3)] ]\n",
    "            break;\n",
    "\n",
    "# The points\n",
    "pnts = np.array(points)\n",
    "\n",
    "# The bounding box\n",
    "mbb = [np.min(pnts[:,0]), np.min(pnts[:,1]), np.max(pnts[:,0]), np.max(pnts[:,1])]\n",
    "\n",
    "#pprint(points)\n",
    "#print(mbb)"
   ]
  },
  {
   "cell_type": "markdown",
   "metadata": {},
   "source": [
    "Generate the shapefile holding a 3 polygons a) The bonding box around the data in the tiff file, b)  the bounding box of around the model contour. 3) the model contour"
   ]
  },
  {
   "cell_type": "code",
   "execution_count": 24,
   "metadata": {
    "collapsed": false
   },
   "outputs": [],
   "source": [
    "import shapefile as shp\n",
    "\n",
    "tb = lambda indices: [tbb[i] for i in indices] # convenience for selecting from tiff bounding box\n",
    "mb = lambda indices: [mbb[i] for i in indices] # same for selecting from model bounding box\n",
    "\n",
    "# open a shape file writer objetc\n",
    "w = shp.Writer(shapeType=shp.POLYGON)\n",
    "\n",
    "# add the three polylines to w.shapes\n",
    "# each shape has parts of of which can contain a polyline. We have one polyline, i.e. one part\n",
    "# in each chape. Therfore parts is a list of one item, which is a list of points of the polyline.\n",
    "w.poly(parts=[points]) # only one part, therefore, put points inbetween brackets.\n",
    "w.poly(parts=[[ tb([0, 1]), tb([2, 1]), tb([2, 3]), tb([0, 3]), tb([0, 1])]]) # bbox of tiff file\n",
    "w.poly(parts=[[ mb([0, 1]), mb([2, 1]), mb([2, 3]), mb([0, 3]), mb([0, 1])]]) # bbox of model\n",
    "\n",
    "w.field(\"Id\",\"C\", 20)      # Add one field\n",
    "w.field(\"Id2\", \"N\")        # Add another field, just to see if it works and how\n",
    "\n",
    "# Aadd three records to w.records (one for eache shape\n",
    "w.record(\"model contour\", 1) # each record has two values, a string and a nuber, see fields\n",
    "w.record(\"model bbox\", 2)\n",
    "w.record(\"Tiff bbox\", 3)\n",
    "\n",
    "# save this to a new shapefile\n",
    "w.save(\"ErfoudModelContour\")\n",
    "\n",
    "# Change False to True so see the coordinates and the records\n",
    "if False:\n",
    "    print()\n",
    "    for i, sh in enumerate(w.shapes()):\n",
    "        pprint(sh.points)\n",
    "        print()\n",
    "    #w.shapes()[0].points   # check if w knows about these points\n",
    "\n",
    "    for r in w.records:\n",
    "        print(r)\n",
    "\n",
    "# To verify what's been saved read the saved file and show what's in it:\n",
    "if False:\n",
    "    s = shp.Reader(\"ErfoudModelContour\")\n",
    "\n",
    "    for sh in s.shapeRecords():\n",
    "        pprint(sh.shape.points)\n",
    "        print(sh.record)"
   ]
  },
  {
   "cell_type": "markdown",
   "metadata": {},
   "source": [
    "# Show shapefile in QGIS\n",
    "\n",
    "Fire up QGIS and load the shape file. Set its CRS to WGS84 (same coordinates as GoogleMaps, most general LatLon)\n",
    "\n",
    "Here are the pictures taken van de screen of QGIS after the shapefile was loaded and the label under properties was set tot transparent with solid contour line.\n",
    "\n",
    "To get the GoogleMaps image, look for it it under web in the main menu.\n",
    "\n",
    "The first image is zoomed out, so that the location of the model can be seen in the south east of this image. It's in Morocco.\n",
    "\n",
    "<figure>\n",
    "  <IMG SRC=\"./EfoudModelContour2.png\" WIDTH=750 ALIGN=\"center\">\n",
    "</figure>\n",
    "\n",
    "The more detailed image shows the contour of the model and its bounding box. It proves that it works.\n",
    "\n",
    "<figure>\n",
    "  <IMG SRC=\"./EfoudModelContour1.png\" WIDTH=750 ALIGN=\"center\">\n",
    "</figure>\n",
    "\n",
    "The next step is to select the appropriage precipitation data from the CHIRPS file."
   ]
  },
  {
   "cell_type": "markdown",
   "metadata": {},
   "source": [
    "# Get the precipitation data from the CHIRPS tiff file\n",
    "\n",
    "The actual data are stored in rasterbands. We saw from the size above, that this file has only one rasterband. Rasterband information is obtained one band at a time. So here we pass band number 1."
   ]
  },
  {
   "cell_type": "code",
   "execution_count": 25,
   "metadata": {
    "collapsed": false
   },
   "outputs": [
    {
     "name": "stdout",
     "output_type": "stream",
     "text": [
      "\n",
      "min precipitation in mm  0.0\n",
      "max precipitation in mm  541.912\n"
     ]
    }
   ],
   "source": [
    "A = g.GetRasterBand(1).ReadAsArray()\n",
    "\n",
    "A[A <- 9000] = 0.  # replace no-dta values by 0\n",
    "\n",
    "print()\n",
    "print(\"min precipitation in mm \", np.min(A))\n",
    "print(\"max precipitation in mm \", np.max(A))"
   ]
  },
  {
   "cell_type": "markdown",
   "metadata": {},
   "source": [
    "Select a subarea equal to the bbox of the model contour."
   ]
  },
  {
   "cell_type": "code",
   "execution_count": 26,
   "metadata": {
    "collapsed": false
   },
   "outputs": [
    {
     "name": "stdout",
     "output_type": "stream",
     "text": [
      "[307, 308, 309, 310, 311, 312]\n",
      "[168, 169, 170, 171]\n"
     ]
    }
   ],
   "source": [
    "# define a function to get the indices of the center points between the bounding box extents of the model\n",
    "\n",
    "def between(x, a, b):\n",
    "    \"\"\"returns indices of ponts between a and b\"\"\"\n",
    "    I = np.argwhere(np.logical_and(min(a, b) < x, x < max(a, b)))\n",
    "    return [i[0] for i in I] \n",
    "\n",
    "ix = between(xm, mbb[0], mbb[2])\n",
    "iy = between(ym, mbb[1], mbb[3])\n",
    "\n",
    "print(ix)\n",
    "print(iy)"
   ]
  },
  {
   "cell_type": "markdown",
   "metadata": {},
   "source": [
    "Read the data again, but now only the part that covers the model in Marocco:"
   ]
  },
  {
   "cell_type": "code",
   "execution_count": 27,
   "metadata": {
    "collapsed": false
   },
   "outputs": [
    {
     "name": "stdout",
     "output_type": "stream",
     "text": [
      "Preciptation on the Erfoud model area in Marocco from file\n",
      "../Mar14/chirps/chirps-v2.0.2017.01.1.tif:\n",
      "\n",
      "columns[0:6]\n",
      "     3.2983     3.2105      3.275     3.2667     3.3076     3.5025\n",
      "      3.544     3.4894     3.5061     3.4976     3.5473     3.7107\n",
      "     3.9205     4.0261     3.9009     3.6915     3.8585     3.8236\n",
      "     4.0787     4.2196     4.1013     3.9311     4.0262     3.9142\n",
      "\n"
     ]
    }
   ],
   "source": [
    "A = g.GetRasterBand(1).ReadAsArray(xoff=int(ix[0]), yoff=int(iy[0]), win_xsize=len(ix), win_ysize=len(iy))\n",
    "\n",
    "print(\"Preciptation on the Erfoud model area in Marocco from file\\n{}:\\n\".format(fname))\n",
    "prar(A)"
   ]
  },
  {
   "cell_type": "markdown",
   "metadata": {},
   "source": [
    "Just for curiosity, show the size of the area covered and the size resolution of the precipitation data."
   ]
  },
  {
   "cell_type": "code",
   "execution_count": 28,
   "metadata": {
    "collapsed": false
   },
   "outputs": [
    {
     "name": "stdout",
     "output_type": "stream",
     "text": [
      "The size of the bounding box in km:\n",
      "EW along the north boundary :  31.9000522861\n",
      "EW along the south boundary :  31.8330523883\n",
      "NS                          :  21.8543936582\n",
      "Size of each tile (the resolution) = 5.317 x 5.464 km: \n"
     ]
    }
   ],
   "source": [
    "# The extent of this area can be obtained from the latiture and longitude together with the radius of the earth.\n",
    "R = 6371  # km\n",
    "EWN = R * np.cos(np.pi/180 * mbb[1]) * np.pi/180. *(mbb[2] - mbb[0])\n",
    "EWS = R * np.cos(np.pi/180 * mbb[3]) * np.pi/180. *(mbb[2] - mbb[0])\n",
    "NS  = R * np.pi/180 * (mbb[3] - mbb[1])\n",
    "\n",
    "print(\"The size of the bounding box in km:\")\n",
    "print(\"EW along the north boundary : \",EWN)\n",
    "print(\"EW along the south boundary : \",EWS)\n",
    "print(\"NS                          : \",NS)\n",
    "print(\"Size of each tile (the resolution) = {:.3f} x {:.3f} km: \".format(EWN/A.shape[1], NS/A.shape[0]))"
   ]
  },
  {
   "cell_type": "markdown",
   "metadata": {},
   "source": [
    "It should be clear that the EW resolution depends on the latitude while the NS resolution is constant."
   ]
  },
  {
   "cell_type": "markdown",
   "metadata": {},
   "source": [
    "# Conclusion\n",
    "\n",
    "It is now straightforward to get the data of an arbitrary number of periods from the CHIRPS website for the model, in fact for any location covered by CHIRPS on a 5 by b km resolution."
   ]
  }
 ],
 "metadata": {
  "anaconda-cloud": {},
  "kernelspec": {
   "display_name": "Python [default]",
   "language": "python",
   "name": "python3"
  },
  "language_info": {
   "codemirror_mode": {
    "name": "ipython",
    "version": 3
   },
   "file_extension": ".py",
   "mimetype": "text/x-python",
   "name": "python",
   "nbconvert_exporter": "python",
   "pygments_lexer": "ipython3",
   "version": "3.5.2"
  }
 },
 "nbformat": 4,
 "nbformat_minor": 1
}
