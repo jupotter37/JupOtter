{
  "nbformat": 4,
  "nbformat_minor": 5,
  "metadata": {
    "kernelspec": {
      "display_name": "Python 3",
      "language": "python",
      "name": "python3"
    },
    "language_info": {
      "codemirror_mode": {
        "name": "ipython",
        "version": 3
      },
      "file_extension": ".py",
      "mimetype": "text/x-python",
      "name": "python",
      "nbconvert_exporter": "python",
      "pygments_lexer": "ipython3",
      "version": "3.8.0"
    },
    "toc": {
      "base_numbering": 1,
      "nav_menu": {},
      "number_sections": true,
      "sideBar": true,
      "skip_h1_title": false,
      "title_cell": "Table of Contents",
      "title_sidebar": "Contents",
      "toc_cell": false,
      "toc_position": {},
      "toc_section_display": true,
      "toc_window_display": false
    },
    "colab": {
      "name": "2021_06_26_Lira_Samanta_Assignment2_Dr_Kasaran_class.ipynb",
      "provenance": [],
      "include_colab_link": true
    }
  },
  "cells": [
    {
      "cell_type": "markdown",
      "metadata": {
        "id": "view-in-github",
        "colab_type": "text"
      },
      "source": [
        "<a href=\"https://colab.research.google.com/github/gaargly/gaargly.github.io/blob/master/2021_06_26_Lira_Samanta_Assignment2_Dr_Kasaran_class.ipynb\" target=\"_parent\"><img src=\"https://colab.research.google.com/assets/colab-badge.svg\" alt=\"Open In Colab\"/></a>"
      ]
    },
    {
      "cell_type": "markdown",
      "metadata": {
        "id": "absent-christianity"
      },
      "source": [
        "# Assignment"
      ],
      "id": "absent-christianity"
    },
    {
      "cell_type": "markdown",
      "metadata": {
        "id": "temporal-deputy"
      },
      "source": [
        "1. If a list of people has 24 women and 21 men, then the probability of choosing a man from the list is 21/45.\n",
        "\n",
        "What is the probability of not choosing a man?\n",
        "\n",
        "a) 24/45\n",
        "\n",
        "b) 1-(21/24)\n",
        "\n",
        "c) 21/24\n",
        "\n",
        "d) 24/21"
      ],
      "id": "temporal-deputy"
    },
    {
      "cell_type": "markdown",
      "metadata": {
        "id": "y1q4kc0azc3u"
      },
      "source": [
        "# The answer is a) 24/45"
      ],
      "id": "y1q4kc0azc3u"
    },
    {
      "cell_type": "markdown",
      "metadata": {
        "id": "infinite-decimal"
      },
      "source": [
        "2. The probability that Bernice will travel by plane sometime in the next year is 10%. The probability of a plane crash at any time is 0.005%.\n",
        "\n",
        "What is the probability that Bernice will be in a plane crash sometime in the next year?\n",
        "\n",
        "\n",
        "a) 50%\n",
        "\n",
        "b) 0.0010%\n",
        "\n",
        "c) 10%\n",
        "\n",
        "d) 0.0005%"
      ],
      "id": "infinite-decimal"
    },
    {
      "cell_type": "markdown",
      "metadata": {
        "id": "BEV3iwEszqpf"
      },
      "source": [
        "#  The answer is d) (0.0005%)\n",
        "# P(Travel ∩ Crash)= 0.1*0.00005 = 0.000005 (0.0005%)\n",
        "with Travel and Crash being independent events"
      ],
      "id": "BEV3iwEszqpf"
    },
    {
      "cell_type": "markdown",
      "metadata": {
        "id": "normal-theta"
      },
      "source": [
        "3. A data scientist wants to study the behavior of users on the company website. Each time a user clicks on a link on the website, there is a 5% chance that the user will be asked to complete a short survey about their behavior on the website.\n",
        "\n",
        "The data scientist uses the survey data to conclude that, on average, users spend 15 minutes surfing the company website before moving on to other things. What is wrong with this conclusion?\n",
        "\n",
        "\n",
        "a) Customers should be asked to complete surveys 25% of the time.\n",
        "\n",
        "b) People who surf longer are likely to click more links, increasing the odds of getting a survey.\n",
        "\n",
        "c) The average internet user only surfs a site for 12 minutes, on average.\n",
        "\n",
        "d) The data scientist is not considering mobile applications."
      ],
      "id": "normal-theta"
    },
    {
      "cell_type": "markdown",
      "metadata": {
        "id": "8G2w3HTB0BBj"
      },
      "source": [
        "# The data scientist is only considering users who finished the survey, missing the 95% of the visitors who never get the survey. Their conclusion is only representative of 5% of the users, and thus does not reflect the population average."
      ],
      "id": "8G2w3HTB0BBj"
    },
    {
      "cell_type": "markdown",
      "metadata": {
        "id": "palestinian-flower"
      },
      "source": [
        "4. A diagnostic test has a 98% probability of giving a positive result when applied to a person suffering from Thripshaw's disease and a 10% probability of giving a (false) positive when applied to a nonsufferer. It is estimated that 0.5% of the population has the disease.\n",
        "\n",
        "Suppose that the test is now administered to a person whose disease status is unknown. Calculate the probability that the test will be positive.\n",
        "\n",
        "\n",
        "a) 0.0049\n",
        "\n",
        "b) 0.0995\n",
        "\n",
        "c) 0.1044\n",
        "\n",
        "d) 0.995"
      ],
      "id": "palestinian-flower"
    },
    {
      "cell_type": "markdown",
      "metadata": {
        "id": "U-fFG9G90cWI"
      },
      "source": [
        "* P(Positive | Disease) = 0.98\n",
        "* P(Positive | Not Disease) = 0.10\n",
        "* P(Disease) = 0.05\n",
        "\n",
        "* **What is P(Positive)?**\n",
        "\n",
        "# Answer: P(Positive) = (0.1 x 0.995) + (0.98 x 0.005) = 0.1044 i.e. a 10.44% chance of the result being positive"
      ],
      "id": "U-fFG9G90cWI"
    }
  ]
}