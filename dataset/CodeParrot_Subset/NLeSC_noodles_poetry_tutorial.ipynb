{
 "cells": [
  {
   "cell_type": "markdown",
   "metadata": {},
   "source": [
    "Real World Tutorial 1: Translating Poetry\n",
    "=========================================\n",
    "\n",
    "First example\n",
    "-------------\n",
    "\n",
    "We build workflows by calling functions. The simplest example of this\n",
    "is the \"diamond workflow\":"
   ]
  },
  {
   "cell_type": "code",
   "execution_count": 1,
   "metadata": {},
   "outputs": [
    {
     "name": "stdout",
     "output_type": "stream",
     "text": [
      "The answer is 42.\n"
     ]
    }
   ],
   "source": [
    "from noodles import run_single\n",
    "from noodles.tutorial import (add, sub, mul)\n",
    "\n",
    "u = add(5, 4)\n",
    "v = sub(u, 3)\n",
    "w = sub(u, 2)\n",
    "x = mul(v, w)\n",
    "\n",
    "answer = run_single(x)\n",
    "\n",
    "print(\"The answer is {0}.\".format(answer))"
   ]
  },
  {
   "cell_type": "markdown",
   "metadata": {},
   "source": [
    "That looks like any other Python code! But this example is a bit silly.\n",
    "How do we leverage Noodles to earn an honest living? Here's a slightly less\n",
    "silly example (but only just!). We will build a small translation engine\n",
    "that translates sentences by submitting each word to an online dictionary\n",
    "over a Rest API. To do this we make loops (\"For thou shalt make loops of \n",
    "blue\"). First we build the program as you would do in Python, then we\n",
    "sprinkle some Noodles magic and make it work parallel! Furthermore, we'll\n",
    "see how to:\n",
    "\n",
    "* make more loops\n",
    "* cache results for reuse"
   ]
  },
  {
   "cell_type": "markdown",
   "metadata": {},
   "source": [
    "## Making loops\n",
    "\n",
    "Thats all swell, but how do we make a parallel loop? Let's look at a `map` operation; in Python there are several ways to perform a function on all elements in an array. For this example, we will translate some words using the Glosbe service, which has a nice REST interface. We first build some functionality to use this interface."
   ]
  },
  {
   "cell_type": "code",
   "execution_count": 2,
   "metadata": {
    "collapsed": true
   },
   "outputs": [],
   "source": [
    "import urllib.request\n",
    "import json\n",
    "import re\n",
    "\n",
    "\n",
    "class Translate:\n",
    "    \"\"\"Translate words and sentences in the worst possible way. The Glosbe dictionary\n",
    "    has a nice REST interface that we query for a phrase. We then take the first result.\n",
    "    To translate a sentence, we cut it in pieces, translate it and paste it back into\n",
    "    a Frankenstein monster.\"\"\"\n",
    "    def __init__(self, src_lang='en', tgt_lang='fy'):\n",
    "        self.src = src_lang\n",
    "        self.tgt = tgt_lang\n",
    "        self.url = 'https://glosbe.com/gapi/translate?' \\\n",
    "                   'from={src}&dest={tgt}&' \\\n",
    "                   'phrase={{phrase}}&format=json'.format(\n",
    "                        src=src_lang, tgt=tgt_lang)\n",
    "    \n",
    "    def query_phrase(self, phrase):\n",
    "        with urllib.request.urlopen(self.url.format(phrase=phrase.lower())) as response:\n",
    "            translation = json.loads(response.read().decode())\n",
    "        return translation\n",
    "\n",
    "    def word(self, phrase):\n",
    "        translation = self.query_phrase(phrase)\n",
    "        #translation = {'tuc': [{'phrase': {'text': phrase.lower()[::-1]}}]}\n",
    "        if len(translation['tuc']) > 0 and 'phrase' in translation['tuc'][0]:\n",
    "            result = translation['tuc'][0]['phrase']['text']\n",
    "            if phrase[0].isupper():\n",
    "                return result.title()\n",
    "            else:\n",
    "                return result            \n",
    "        else:\n",
    "            return \"<\" + phrase + \">\"\n",
    "    \n",
    "    def sentence(self, phrase):\n",
    "        words = re.sub(\"[^\\w]\", \" \", phrase).split()\n",
    "        space = re.sub(\"[\\w]+\", \"{}\", phrase)\n",
    "        return space.format(*map(self.word, words))"
   ]
  },
  {
   "cell_type": "markdown",
   "metadata": {},
   "source": [
    "We start with a list of strings that desparately need translation. And add a little\n",
    "routine to print it in a gracious manner."
   ]
  },
  {
   "cell_type": "code",
   "execution_count": 3,
   "metadata": {},
   "outputs": [
    {
     "name": "stdout",
     "output_type": "stream",
     "text": [
      "Original:\n",
      "      If music be the food of love, play on,\n",
      "      Give me excess of it; that surfeiting,\n",
      "      The appetite may sicken, and so die.\n",
      "\n"
     ]
    }
   ],
   "source": [
    "shakespeare = [\n",
    "    \"If music be the food of love, play on,\",\n",
    "    \"Give me excess of it; that surfeiting,\",\n",
    "    \"The appetite may sicken, and so die.\"]\n",
    "\n",
    "def print_poem(intro, poem):\n",
    "    print(intro)\n",
    "    for line in poem:\n",
    "        print(\"     \", line)\n",
    "    print()\n",
    "\n",
    "print_poem(\"Original:\", shakespeare)"
   ]
  },
  {
   "cell_type": "markdown",
   "metadata": {},
   "source": [
    "Beginning Python programmers like to append things; this is not how you are\n",
    "supposed to program in Python; if you do, please go and read Jeff Knupp's *Writing Idiomatic Python*."
   ]
  },
  {
   "cell_type": "code",
   "execution_count": 4,
   "metadata": {},
   "outputs": [
    {
     "name": "stdout",
     "output_type": "stream",
     "text": [
      "Auf Deutsch:\n",
      "      Wenn Musik sein der Essen von Minne, spielen an,\n",
      "      Geben ich Übermaß von es; das übersättigend,\n",
      "      Der Appetit dürfen erkranken, und so sterben.\n",
      "\n"
     ]
    }
   ],
   "source": [
    "shakespeare_auf_deutsch = []\n",
    "for line in shakespeare:\n",
    "    shakespeare_auf_deutsch.append(\n",
    "        Translate('en', 'de').sentence(line))\n",
    "print_poem(\"Auf Deutsch:\", shakespeare_auf_deutsch)"
   ]
  },
  {
   "cell_type": "markdown",
   "metadata": {},
   "source": [
    "Rather use a comprehension like so:"
   ]
  },
  {
   "cell_type": "code",
   "execution_count": 5,
   "metadata": {},
   "outputs": [
    {
     "name": "stdout",
     "output_type": "stream",
     "text": [
      "Yn it Frysk:\n",
      "      At muzyk wêze de fiedsel fan leafde, boartsje oan,\n",
      "      Jaan <me> by fersin fan it; dat <surfeiting>,\n",
      "      De <appetite> maaie <sicken>, en dus deagean.\n",
      "\n"
     ]
    }
   ],
   "source": [
    "shakespeare_ynt_frysk = \\\n",
    "    (Translate('en', 'fy').sentence(line) for line in shakespeare)\n",
    "print_poem(\"Yn it Frysk:\", shakespeare_ynt_frysk)"
   ]
  },
  {
   "cell_type": "markdown",
   "metadata": {},
   "source": [
    "Or use `map`:"
   ]
  },
  {
   "cell_type": "code",
   "execution_count": 6,
   "metadata": {},
   "outputs": [
    {
     "name": "stdout",
     "output_type": "stream",
     "text": [
      "På Dansk:\n",
      "      Hvis musik være de mad af kærlighed, spil på,\n",
      "      Give mig udskejelser af det; som <surfeiting>,\n",
      "      De appetit må <sicken>, og så dø.\n",
      "\n"
     ]
    }
   ],
   "source": [
    "shakespeare_pa_dansk = \\\n",
    "    map(Translate('en', 'da').sentence, shakespeare)\n",
    "print_poem(\"På Dansk:\", shakespeare_pa_dansk)"
   ]
  },
  {
   "cell_type": "markdown",
   "metadata": {},
   "source": [
    "## Noodlify!\n",
    "If your connection is a bit slow, you may find that the translations take a while to process. Wouldn't it be nice to do it in parallel? How much code would we have to change to get there in Noodles? Let's take the slow part of the program and add a `@schedule` decorator, and run! Sadly, it is not that simple. We can add `@schedule` to the `word` method. This means that it will return a promise. \n",
    "\n",
    "* Rule: *Functions that take promises need to be scheduled functions, or refer to a scheduled function at some level.* \n",
    "\n",
    "We could write\n",
    "\n",
    "    return schedule(space.format)(*(self.word(w) for w in words))\n",
    "    \n",
    "in the last line of the `sentence` method, but the string format method doesn't support wrapping. We rely on getting the signature of a function by calling `inspect.signature`. In some cases of build-in function this raises an exception. We may find a work around for these cases in future versions of Noodles. For the moment we'll have to define a little wrapper function."
   ]
  },
  {
   "cell_type": "code",
   "execution_count": 7,
   "metadata": {
    "collapsed": true
   },
   "outputs": [],
   "source": [
    "from noodles import schedule\n",
    "\n",
    "\n",
    "@schedule\n",
    "def format_string(s, *args, **kwargs):\n",
    "    return s.format(*args, **kwargs)\n",
    "\n",
    "\n",
    "import urllib.request\n",
    "import json\n",
    "import re\n",
    "\n",
    "\n",
    "class Translate:\n",
    "    \"\"\"Translate words and sentences in the worst possible way. The Glosbe dictionary\n",
    "    has a nice REST interface that we query for a phrase. We then take the first result.\n",
    "    To translate a sentence, we cut it in pieces, translate it and paste it back into\n",
    "    a Frankenstein monster.\"\"\"\n",
    "    def __init__(self, src_lang='en', tgt_lang='fy'):\n",
    "        self.src = src_lang\n",
    "        self.tgt = tgt_lang\n",
    "        self.url = 'https://glosbe.com/gapi/translate?' \\\n",
    "                   'from={src}&dest={tgt}&' \\\n",
    "                   'phrase={{phrase}}&format=json'.format(\n",
    "                        src=src_lang, tgt=tgt_lang)\n",
    "    \n",
    "    def query_phrase(self, phrase):\n",
    "        with urllib.request.urlopen(self.url.format(phrase=phrase.lower())) as response:\n",
    "            translation = json.loads(response.read().decode())\n",
    "        return translation\n",
    "    \n",
    "    @schedule\n",
    "    def word(self, phrase):\n",
    "        #translation = {'tuc': [{'phrase': {'text': phrase.lower()[::-1]}}]}\n",
    "        translation = self.query_phrase(phrase)\n",
    "        \n",
    "        if len(translation['tuc']) > 0 and 'phrase' in translation['tuc'][0]:\n",
    "            result = translation['tuc'][0]['phrase']['text']\n",
    "            if phrase[0].isupper():\n",
    "                return result.title()\n",
    "            else:\n",
    "                return result            \n",
    "        else:\n",
    "            return \"<\" + phrase + \">\"\n",
    "        \n",
    "    def sentence(self, phrase):\n",
    "        words = re.sub(\"[^\\w]\", \" \", phrase).split()\n",
    "        space = re.sub(\"[\\w]+\", \"{}\", phrase)\n",
    "        return format_string(space, *map(self.word, words))\n",
    "    \n",
    "    def __str__(self):\n",
    "        return \"[{} -> {}]\".format(self.src, self.tgt)\n",
    "    \n",
    "    def __serialize__(self, pack):\n",
    "        return pack({'src_lang': self.src,\n",
    "                     'tgt_lang': self.tgt})\n",
    "\n",
    "    @classmethod\n",
    "    def __construct__(cls, msg):\n",
    "        return cls(**msg)"
   ]
  },
  {
   "cell_type": "markdown",
   "metadata": {},
   "source": [
    "Let's take stock of the mutations to the original. We've added a `@schedule` decorator to `word`, and changed a function call in `sentence`. Also we added the `__str__` method; this is only needed to plot the workflow graph. Let's run the new script."
   ]
  },
  {
   "cell_type": "code",
   "execution_count": 8,
   "metadata": {},
   "outputs": [
    {
     "name": "stdout",
     "output_type": "stream",
     "text": [
      "Shakespeare en Esperanto:\n",
      "      Se muziko esti la manĝaĵo de ami, ludi sur,\n",
      "      Doni mi eksceso de ĝi; ke <surfeiting>,\n",
      "      La apetito povi naŭzi, kaj tiel morti.\n",
      "\n"
     ]
    }
   ],
   "source": [
    "from noodles import gather, run_parallel\n",
    "from noodles.tutorial import get_workflow_graph\n",
    "\n",
    "shakespeare_en_esperanto = \\\n",
    "    map(Translate('en', 'eo').sentence, shakespeare)\n",
    "\n",
    "wf = gather(*shakespeare_en_esperanto)\n",
    "workflow_graph = get_workflow_graph(wf._workflow)\n",
    "result = run_parallel(wf, n_threads=8)\n",
    "print_poem(\"Shakespeare en Esperanto:\", result)"
   ]
  },
  {
   "cell_type": "markdown",
   "metadata": {},
   "source": [
    "The last peculiar thing that you may notice, is the `gather` function. It collects the promises that `map` generates and creates a single new promise. The definition of `gather` is very simple:\n",
    "    \n",
    "    @schedule\n",
    "    def gather(*lst):\n",
    "        return lst\n",
    "\n",
    "The workflow graph of the Esperanto translator script looks like this:"
   ]
  },
  {
   "cell_type": "code",
   "execution_count": 9,
   "metadata": {},
   "outputs": [
    {
     "data": {
      "image/svg+xml": [
       "<?xml version=\"1.0\" encoding=\"UTF-8\" standalone=\"no\"?>\n",
       "<!DOCTYPE svg PUBLIC \"-//W3C//DTD SVG 1.1//EN\"\n",
       " \"http://www.w3.org/Graphics/SVG/1.1/DTD/svg11.dtd\">\n",
       "<!-- Generated by graphviz version 2.40.1 (20161225.0304)\n",
       " -->\n",
       "<!-- Title: %3 Pages: 1 -->\n",
       "<svg width=\"720pt\" height=\"38pt\"\n",
       " viewBox=\"0.00 0.00 720.00 37.68\" xmlns=\"http://www.w3.org/2000/svg\" xmlns:xlink=\"http://www.w3.org/1999/xlink\">\n",
       "<g id=\"graph0\" class=\"graph\" transform=\"scale(.1389 .1389) rotate(0) translate(4 267.2203)\">\n",
       "<title>%3</title>\n",
       "<polygon fill=\"#ffffff\" stroke=\"transparent\" points=\"-4,4 -4,-267.2203 5178.2117,-267.2203 5178.2117,4 -4,4\"/>\n",
       "<!-- 140064055447280 -->\n",
       "<g id=\"node1\" class=\"node\">\n",
       "<title>140064055447280</title>\n",
       "<ellipse fill=\"none\" stroke=\"#000000\" cx=\"2758.2168\" cy=\"-26.8701\" rx=\"65.1077\" ry=\"26.7407\"/>\n",
       "<text text-anchor=\"middle\" x=\"2758.2168\" y=\"-30.6701\" font-family=\"Times,serif\" font-size=\"14.00\" fill=\"#000000\">gather </text>\n",
       "<text text-anchor=\"middle\" x=\"2758.2168\" y=\"-15.6701\" font-family=\"Times,serif\" font-size=\"14.00\" fill=\"#000000\"> (—, —, —)</text>\n",
       "</g>\n",
       "<!-- 140064064878016 -->\n",
       "<g id=\"node2\" class=\"node\">\n",
       "<title>140064064878016</title>\n",
       "<ellipse fill=\"none\" stroke=\"#000000\" cx=\"1085.2168\" cy=\"-131.6102\" rx=\"436.0699\" ry=\"26.7407\"/>\n",
       "<text text-anchor=\"middle\" x=\"1085.2168\" y=\"-135.4102\" font-family=\"Times,serif\" font-size=\"14.00\" fill=\"#000000\">format_string </text>\n",
       "<text text-anchor=\"middle\" x=\"1085.2168\" y=\"-120.4102\" font-family=\"Times,serif\" font-size=\"14.00\" fill=\"#000000\"> (&#39;{{}} {{}} {{}} {{}} {{}} {{}} {{}}, {{}} {{}},&#39;, —, —, —, —, —, —, —, —, —)</text>\n",
       "</g>\n",
       "<!-- 140064064878016&#45;&gt;140064055447280 -->\n",
       "<g id=\"edge1\" class=\"edge\">\n",
       "<title>140064064878016&#45;&gt;140064055447280</title>\n",
       "<path fill=\"none\" stroke=\"#000000\" d=\"M1391.584,-112.4297C1789.6257,-87.5098 2460.0686,-45.536 2683.353,-31.557\"/>\n",
       "<polygon fill=\"#000000\" stroke=\"#000000\" points=\"2683.883,-35.0308 2693.6447,-30.9127 2683.4455,-28.0444 2683.883,-35.0308\"/>\n",
       "<text text-anchor=\"middle\" x=\"2026.7168\" y=\"-75.5401\" font-family=\"Times,serif\" font-size=\"14.00\" fill=\"#000000\">a</text>\n",
       "</g>\n",
       "<!-- 140064064877288 -->\n",
       "<g id=\"node3\" class=\"node\">\n",
       "<title>140064064877288</title>\n",
       "<ellipse fill=\"none\" stroke=\"#000000\" cx=\"91.2168\" cy=\"-236.3503\" rx=\"91.4341\" ry=\"26.7407\"/>\n",
       "<text text-anchor=\"middle\" x=\"91.2168\" y=\"-240.1503\" font-family=\"Times,serif\" font-size=\"14.00\" fill=\"#000000\">word </text>\n",
       "<text text-anchor=\"middle\" x=\"91.2168\" y=\"-225.1503\" font-family=\"Times,serif\" font-size=\"14.00\" fill=\"#000000\"> ([en &#45;&gt; eo], &#39;If&#39;)</text>\n",
       "</g>\n",
       "<!-- 140064064877288&#45;&gt;140064064878016 -->\n",
       "<g id=\"edge2\" class=\"edge\">\n",
       "<title>140064064877288&#45;&gt;140064064878016</title>\n",
       "<path fill=\"none\" stroke=\"#000000\" d=\"M155.9535,-217.3003C167.617,-214.3425 179.7216,-211.5778 191.2168,-209.4802 363.5757,-178.0286 557.0232,-159.1828 719.7706,-147.9369\"/>\n",
       "<polygon fill=\"#000000\" stroke=\"#000000\" points=\"720.2143,-151.4148 729.9521,-147.2404 719.7366,-144.4311 720.2143,-151.4148\"/>\n",
       "<text text-anchor=\"middle\" x=\"426.2168\" y=\"-180.2802\" font-family=\"Times,serif\" font-size=\"14.00\" fill=\"#000000\">args</text>\n",
       "</g>\n",
       "<!-- 140064052063368 -->\n",
       "<g id=\"node4\" class=\"node\">\n",
       "<title>140064052063368</title>\n",
       "<ellipse fill=\"none\" stroke=\"#000000\" cx=\"314.2168\" cy=\"-236.3503\" rx=\"113.6886\" ry=\"26.7407\"/>\n",
       "<text text-anchor=\"middle\" x=\"314.2168\" y=\"-240.1503\" font-family=\"Times,serif\" font-size=\"14.00\" fill=\"#000000\">word </text>\n",
       "<text text-anchor=\"middle\" x=\"314.2168\" y=\"-225.1503\" font-family=\"Times,serif\" font-size=\"14.00\" fill=\"#000000\"> ([en &#45;&gt; eo], &#39;music&#39;)</text>\n",
       "</g>\n",
       "<!-- 140064052063368&#45;&gt;140064064878016 -->\n",
       "<g id=\"edge3\" class=\"edge\">\n",
       "<title>140064052063368&#45;&gt;140064064878016</title>\n",
       "<path fill=\"none\" stroke=\"#000000\" d=\"M395.3892,-217.5058C409.2996,-214.5957 423.6421,-211.7936 437.2168,-209.4802 569.4917,-186.9381 718.0509,-168.5883 839.5244,-155.3759\"/>\n",
       "<polygon fill=\"#000000\" stroke=\"#000000\" points=\"840.1388,-158.83 849.7039,-154.2738 839.3853,-151.8706 840.1388,-158.83\"/>\n",
       "<text text-anchor=\"middle\" x=\"666.2168\" y=\"-180.2802\" font-family=\"Times,serif\" font-size=\"14.00\" fill=\"#000000\">args</text>\n",
       "</g>\n",
       "<!-- 140064052060400 -->\n",
       "<g id=\"node5\" class=\"node\">\n",
       "<title>140064052060400</title>\n",
       "<ellipse fill=\"none\" stroke=\"#000000\" cx=\"541.2168\" cy=\"-236.3503\" rx=\"95.4188\" ry=\"26.7407\"/>\n",
       "<text text-anchor=\"middle\" x=\"541.2168\" y=\"-240.1503\" font-family=\"Times,serif\" font-size=\"14.00\" fill=\"#000000\">word </text>\n",
       "<text text-anchor=\"middle\" x=\"541.2168\" y=\"-225.1503\" font-family=\"Times,serif\" font-size=\"14.00\" fill=\"#000000\"> ([en &#45;&gt; eo], &#39;be&#39;)</text>\n",
       "</g>\n",
       "<!-- 140064052060400&#45;&gt;140064064878016 -->\n",
       "<g id=\"edge4\" class=\"edge\">\n",
       "<title>140064052060400&#45;&gt;140064064878016</title>\n",
       "<path fill=\"none\" stroke=\"#000000\" d=\"M610.1258,-217.7454C621.8003,-214.8237 633.8274,-211.9555 645.2168,-209.4802 734.27,-190.1265 834.2461,-172.1375 916.3679,-158.3361\"/>\n",
       "<polygon fill=\"#000000\" stroke=\"#000000\" points=\"917.0079,-161.7778 926.2924,-156.674 915.8516,-154.874 917.0079,-161.7778\"/>\n",
       "<text text-anchor=\"middle\" x=\"818.2168\" y=\"-180.2802\" font-family=\"Times,serif\" font-size=\"14.00\" fill=\"#000000\">args</text>\n",
       "</g>\n",
       "<!-- 140064052062920 -->\n",
       "<g id=\"node6\" class=\"node\">\n",
       "<title>140064052062920</title>\n",
       "<ellipse fill=\"none\" stroke=\"#000000\" cx=\"754.2168\" cy=\"-236.3503\" rx=\"99.9045\" ry=\"26.7407\"/>\n",
       "<text text-anchor=\"middle\" x=\"754.2168\" y=\"-240.1503\" font-family=\"Times,serif\" font-size=\"14.00\" fill=\"#000000\">word </text>\n",
       "<text text-anchor=\"middle\" x=\"754.2168\" y=\"-225.1503\" font-family=\"Times,serif\" font-size=\"14.00\" fill=\"#000000\"> ([en &#45;&gt; eo], &#39;the&#39;)</text>\n",
       "</g>\n",
       "<!-- 140064052062920&#45;&gt;140064064878016 -->\n",
       "<g id=\"edge5\" class=\"edge\">\n",
       "<title>140064052062920&#45;&gt;140064064878016</title>\n",
       "<path fill=\"none\" stroke=\"#000000\" d=\"M819.2168,-215.782C868.5034,-200.1859 936.9282,-178.5339 992.0361,-161.0958\"/>\n",
       "<polygon fill=\"#000000\" stroke=\"#000000\" points=\"993.3332,-164.3565 1001.8113,-158.0026 991.2213,-157.6827 993.3332,-164.3565\"/>\n",
       "<text text-anchor=\"middle\" x=\"956.2168\" y=\"-180.2802\" font-family=\"Times,serif\" font-size=\"14.00\" fill=\"#000000\">args</text>\n",
       "</g>\n",
       "<!-- 140064052062976 -->\n",
       "<g id=\"node7\" class=\"node\">\n",
       "<title>140064052062976</title>\n",
       "<ellipse fill=\"none\" stroke=\"#000000\" cx=\"977.2168\" cy=\"-236.3503\" rx=\"105.218\" ry=\"26.7407\"/>\n",
       "<text text-anchor=\"middle\" x=\"977.2168\" y=\"-240.1503\" font-family=\"Times,serif\" font-size=\"14.00\" fill=\"#000000\">word </text>\n",
       "<text text-anchor=\"middle\" x=\"977.2168\" y=\"-225.1503\" font-family=\"Times,serif\" font-size=\"14.00\" fill=\"#000000\"> ([en &#45;&gt; eo], &#39;food&#39;)</text>\n",
       "</g>\n",
       "<!-- 140064052062976&#45;&gt;140064064878016 -->\n",
       "<g id=\"edge6\" class=\"edge\">\n",
       "<title>140064052062976&#45;&gt;140064064878016</title>\n",
       "<path fill=\"none\" stroke=\"#000000\" d=\"M1004.1911,-210.1901C1018.0242,-196.7746 1035.0452,-180.2673 1049.9103,-165.851\"/>\n",
       "<polygon fill=\"#000000\" stroke=\"#000000\" points=\"1052.717,-168.0046 1057.4589,-158.5302 1047.8436,-162.9796 1052.717,-168.0046\"/>\n",
       "<text text-anchor=\"middle\" x=\"1054.2168\" y=\"-180.2802\" font-family=\"Times,serif\" font-size=\"14.00\" fill=\"#000000\">args</text>\n",
       "</g>\n",
       "<!-- 140064052062136 -->\n",
       "<g id=\"node8\" class=\"node\">\n",
       "<title>140064052062136</title>\n",
       "<ellipse fill=\"none\" stroke=\"#000000\" cx=\"1193.2168\" cy=\"-236.3503\" rx=\"92.7622\" ry=\"26.7407\"/>\n",
       "<text text-anchor=\"middle\" x=\"1193.2168\" y=\"-240.1503\" font-family=\"Times,serif\" font-size=\"14.00\" fill=\"#000000\">word </text>\n",
       "<text text-anchor=\"middle\" x=\"1193.2168\" y=\"-225.1503\" font-family=\"Times,serif\" font-size=\"14.00\" fill=\"#000000\"> ([en &#45;&gt; eo], &#39;of&#39;)</text>\n",
       "</g>\n",
       "<!-- 140064052062136&#45;&gt;140064064878016 -->\n",
       "<g id=\"edge7\" class=\"edge\">\n",
       "<title>140064052062136&#45;&gt;140064064878016</title>\n",
       "<path fill=\"none\" stroke=\"#000000\" d=\"M1166.5201,-210.4595C1152.6901,-197.0469 1135.6175,-180.4896 1120.693,-166.0156\"/>\n",
       "<polygon fill=\"#000000\" stroke=\"#000000\" points=\"1122.7281,-163.1136 1113.1128,-158.6642 1117.8548,-168.1386 1122.7281,-163.1136\"/>\n",
       "<text text-anchor=\"middle\" x=\"1162.2168\" y=\"-180.2802\" font-family=\"Times,serif\" font-size=\"14.00\" fill=\"#000000\">args</text>\n",
       "</g>\n",
       "<!-- 140064052063424 -->\n",
       "<g id=\"node9\" class=\"node\">\n",
       "<title>140064052063424</title>\n",
       "<ellipse fill=\"none\" stroke=\"#000000\" cx=\"1408.2168\" cy=\"-236.3503\" rx=\"103.8894\" ry=\"26.7407\"/>\n",
       "<text text-anchor=\"middle\" x=\"1408.2168\" y=\"-240.1503\" font-family=\"Times,serif\" font-size=\"14.00\" fill=\"#000000\">word </text>\n",
       "<text text-anchor=\"middle\" x=\"1408.2168\" y=\"-225.1503\" font-family=\"Times,serif\" font-size=\"14.00\" fill=\"#000000\"> ([en &#45;&gt; eo], &#39;love&#39;)</text>\n",
       "</g>\n",
       "<!-- 140064052063424&#45;&gt;140064064878016 -->\n",
       "<g id=\"edge8\" class=\"edge\">\n",
       "<title>140064052063424&#45;&gt;140064064878016</title>\n",
       "<path fill=\"none\" stroke=\"#000000\" d=\"M1343.2414,-215.2806C1295.3756,-199.759 1229.6416,-178.4432 1176.5018,-161.2114\"/>\n",
       "<polygon fill=\"#000000\" stroke=\"#000000\" points=\"1177.3251,-157.799 1166.7331,-158.0437 1175.1658,-164.4577 1177.3251,-157.799\"/>\n",
       "<text text-anchor=\"middle\" x=\"1282.2168\" y=\"-180.2802\" font-family=\"Times,serif\" font-size=\"14.00\" fill=\"#000000\">args</text>\n",
       "</g>\n",
       "<!-- 140064052060736 -->\n",
       "<g id=\"node10\" class=\"node\">\n",
       "<title>140064052060736</title>\n",
       "<ellipse fill=\"none\" stroke=\"#000000\" cx=\"1635.2168\" cy=\"-236.3503\" rx=\"104.8038\" ry=\"26.7407\"/>\n",
       "<text text-anchor=\"middle\" x=\"1635.2168\" y=\"-240.1503\" font-family=\"Times,serif\" font-size=\"14.00\" fill=\"#000000\">word </text>\n",
       "<text text-anchor=\"middle\" x=\"1635.2168\" y=\"-225.1503\" font-family=\"Times,serif\" font-size=\"14.00\" fill=\"#000000\"> ([en &#45;&gt; eo], &#39;play&#39;)</text>\n",
       "</g>\n",
       "<!-- 140064052060736&#45;&gt;140064064878016 -->\n",
       "<g id=\"edge9\" class=\"edge\">\n",
       "<title>140064052060736&#45;&gt;140064064878016</title>\n",
       "<path fill=\"none\" stroke=\"#000000\" d=\"M1559.307,-217.8475C1546.6144,-214.9293 1533.5622,-212.0356 1521.2168,-209.4802 1431.135,-190.8342 1330.0276,-172.6092 1247.8735,-158.484\"/>\n",
       "<polygon fill=\"#000000\" stroke=\"#000000\" points=\"1248.3985,-155.023 1237.9507,-156.782 1247.215,-161.9223 1248.3985,-155.023\"/>\n",
       "<text text-anchor=\"middle\" x=\"1442.2168\" y=\"-180.2802\" font-family=\"Times,serif\" font-size=\"14.00\" fill=\"#000000\">args</text>\n",
       "</g>\n",
       "<!-- 140064052061856 -->\n",
       "<g id=\"node11\" class=\"node\">\n",
       "<title>140064052061856</title>\n",
       "<ellipse fill=\"none\" stroke=\"#000000\" cx=\"1853.2168\" cy=\"-236.3503\" rx=\"95.4188\" ry=\"26.7407\"/>\n",
       "<text text-anchor=\"middle\" x=\"1853.2168\" y=\"-240.1503\" font-family=\"Times,serif\" font-size=\"14.00\" fill=\"#000000\">word </text>\n",
       "<text text-anchor=\"middle\" x=\"1853.2168\" y=\"-225.1503\" font-family=\"Times,serif\" font-size=\"14.00\" fill=\"#000000\"> ([en &#45;&gt; eo], &#39;on&#39;)</text>\n",
       "</g>\n",
       "<!-- 140064052061856&#45;&gt;140064064878016 -->\n",
       "<g id=\"edge10\" class=\"edge\">\n",
       "<title>140064052061856&#45;&gt;140064064878016</title>\n",
       "<path fill=\"none\" stroke=\"#000000\" d=\"M1785.2642,-217.3792C1773.3145,-214.449 1760.9486,-211.6732 1749.2168,-209.4802 1619.102,-185.159 1473.1405,-167.0534 1351.2733,-154.4523\"/>\n",
       "<polygon fill=\"#000000\" stroke=\"#000000\" points=\"1351.3587,-150.9427 1341.0534,-153.4025 1350.6434,-157.9061 1351.3587,-150.9427\"/>\n",
       "<text text-anchor=\"middle\" x=\"1658.2168\" y=\"-180.2802\" font-family=\"Times,serif\" font-size=\"14.00\" fill=\"#000000\">args</text>\n",
       "</g>\n",
       "<!-- 140064052061520 -->\n",
       "<g id=\"node12\" class=\"node\">\n",
       "<title>140064052061520</title>\n",
       "<ellipse fill=\"none\" stroke=\"#000000\" cx=\"2758.2168\" cy=\"-131.6102\" rx=\"346.4646\" ry=\"26.7407\"/>\n",
       "<text text-anchor=\"middle\" x=\"2758.2168\" y=\"-135.4102\" font-family=\"Times,serif\" font-size=\"14.00\" fill=\"#000000\">format_string </text>\n",
       "<text text-anchor=\"middle\" x=\"2758.2168\" y=\"-120.4102\" font-family=\"Times,serif\" font-size=\"14.00\" fill=\"#000000\"> (&#39;{{}} {{}} {{}} {{}} {{}}; {{}} {{}},&#39;, —, —, —, —, —, —, —)</text>\n",
       "</g>\n",
       "<!-- 140064052061520&#45;&gt;140064055447280 -->\n",
       "<g id=\"edge11\" class=\"edge\">\n",
       "<title>140064052061520&#45;&gt;140064055447280</title>\n",
       "<path fill=\"none\" stroke=\"#000000\" d=\"M2758.2168,-104.637C2758.2168,-92.2976 2758.2168,-77.4761 2758.2168,-64.0972\"/>\n",
       "<polygon fill=\"#000000\" stroke=\"#000000\" points=\"2761.7169,-63.7518 2758.2168,-53.7518 2754.7169,-63.7519 2761.7169,-63.7518\"/>\n",
       "<text text-anchor=\"middle\" x=\"2762.7168\" y=\"-75.5401\" font-family=\"Times,serif\" font-size=\"14.00\" fill=\"#000000\">a</text>\n",
       "</g>\n",
       "<!-- 140064052060344 -->\n",
       "<g id=\"node13\" class=\"node\">\n",
       "<title>140064052060344</title>\n",
       "<ellipse fill=\"none\" stroke=\"#000000\" cx=\"2073.2168\" cy=\"-236.3503\" rx=\"106.1321\" ry=\"26.7407\"/>\n",
       "<text text-anchor=\"middle\" x=\"2073.2168\" y=\"-240.1503\" font-family=\"Times,serif\" font-size=\"14.00\" fill=\"#000000\">word </text>\n",
       "<text text-anchor=\"middle\" x=\"2073.2168\" y=\"-225.1503\" font-family=\"Times,serif\" font-size=\"14.00\" fill=\"#000000\"> ([en &#45;&gt; eo], &#39;Give&#39;)</text>\n",
       "</g>\n",
       "<!-- 140064052060344&#45;&gt;140064052061520 -->\n",
       "<g id=\"edge12\" class=\"edge\">\n",
       "<title>140064052060344&#45;&gt;140064052061520</title>\n",
       "<path fill=\"none\" stroke=\"#000000\" d=\"M2149.0922,-217.5618C2162.0998,-214.6452 2175.5147,-211.8265 2188.2168,-209.4802 2308.2226,-187.3136 2443.5217,-168.5676 2552.1778,-155.0267\"/>\n",
       "<polygon fill=\"#000000\" stroke=\"#000000\" points=\"2552.782,-158.4786 2562.2749,-153.7738 2551.92,-151.5319 2552.782,-158.4786\"/>\n",
       "<text text-anchor=\"middle\" x=\"2407.2168\" y=\"-180.2802\" font-family=\"Times,serif\" font-size=\"14.00\" fill=\"#000000\">args</text>\n",
       "</g>\n",
       "<!-- 140064052063704 -->\n",
       "<g id=\"node14\" class=\"node\">\n",
       "<title>140064052063704</title>\n",
       "<ellipse fill=\"none\" stroke=\"#000000\" cx=\"2296.2168\" cy=\"-236.3503\" rx=\"98.9899\" ry=\"26.7407\"/>\n",
       "<text text-anchor=\"middle\" x=\"2296.2168\" y=\"-240.1503\" font-family=\"Times,serif\" font-size=\"14.00\" fill=\"#000000\">word </text>\n",
       "<text text-anchor=\"middle\" x=\"2296.2168\" y=\"-225.1503\" font-family=\"Times,serif\" font-size=\"14.00\" fill=\"#000000\"> ([en &#45;&gt; eo], &#39;me&#39;)</text>\n",
       "</g>\n",
       "<!-- 140064052063704&#45;&gt;140064052061520 -->\n",
       "<g id=\"edge13\" class=\"edge\">\n",
       "<title>140064052063704&#45;&gt;140064052061520</title>\n",
       "<path fill=\"none\" stroke=\"#000000\" d=\"M2368.7686,-218.0108C2380.6028,-215.1025 2392.7415,-212.1693 2404.2168,-209.4802 2478.6717,-192.0326 2562.2096,-173.6025 2629.4295,-159.0543\"/>\n",
       "<polygon fill=\"#000000\" stroke=\"#000000\" points=\"2630.1911,-162.4706 2639.2257,-156.9366 2628.7119,-155.6286 2630.1911,-162.4706\"/>\n",
       "<text text-anchor=\"middle\" x=\"2557.2168\" y=\"-180.2802\" font-family=\"Times,serif\" font-size=\"14.00\" fill=\"#000000\">args</text>\n",
       "</g>\n",
       "<!-- 140064052061576 -->\n",
       "<g id=\"node15\" class=\"node\">\n",
       "<title>140064052061576</title>\n",
       "<ellipse fill=\"none\" stroke=\"#000000\" cx=\"2530.2168\" cy=\"-236.3503\" rx=\"117.2596\" ry=\"26.7407\"/>\n",
       "<text text-anchor=\"middle\" x=\"2530.2168\" y=\"-240.1503\" font-family=\"Times,serif\" font-size=\"14.00\" fill=\"#000000\">word </text>\n",
       "<text text-anchor=\"middle\" x=\"2530.2168\" y=\"-225.1503\" font-family=\"Times,serif\" font-size=\"14.00\" fill=\"#000000\"> ([en &#45;&gt; eo], &#39;excess&#39;)</text>\n",
       "</g>\n",
       "<!-- 140064052061576&#45;&gt;140064052061520 -->\n",
       "<g id=\"edge14\" class=\"edge\">\n",
       "<title>140064052061576&#45;&gt;140064052061520</title>\n",
       "<path fill=\"none\" stroke=\"#000000\" d=\"M2582.8109,-212.1893C2615.044,-197.3818 2656.6127,-178.2857 2691.1925,-162.4002\"/>\n",
       "<polygon fill=\"#000000\" stroke=\"#000000\" points=\"2692.6578,-165.5788 2700.2837,-158.2238 2689.7356,-159.2179 2692.6578,-165.5788\"/>\n",
       "<text text-anchor=\"middle\" x=\"2674.2168\" y=\"-180.2802\" font-family=\"Times,serif\" font-size=\"14.00\" fill=\"#000000\">args</text>\n",
       "</g>\n",
       "<!-- 140064052060792 -->\n",
       "<g id=\"node16\" class=\"node\">\n",
       "<title>140064052060792</title>\n",
       "<ellipse fill=\"none\" stroke=\"#000000\" cx=\"2758.2168\" cy=\"-236.3503\" rx=\"92.7622\" ry=\"26.7407\"/>\n",
       "<text text-anchor=\"middle\" x=\"2758.2168\" y=\"-240.1503\" font-family=\"Times,serif\" font-size=\"14.00\" fill=\"#000000\">word </text>\n",
       "<text text-anchor=\"middle\" x=\"2758.2168\" y=\"-225.1503\" font-family=\"Times,serif\" font-size=\"14.00\" fill=\"#000000\"> ([en &#45;&gt; eo], &#39;of&#39;)</text>\n",
       "</g>\n",
       "<!-- 140064052060792&#45;&gt;140064052061520 -->\n",
       "<g id=\"edge15\" class=\"edge\">\n",
       "<title>140064052060792&#45;&gt;140064052061520</title>\n",
       "<path fill=\"none\" stroke=\"#000000\" d=\"M2758.2168,-209.3771C2758.2168,-197.0377 2758.2168,-182.2162 2758.2168,-168.8373\"/>\n",
       "<polygon fill=\"#000000\" stroke=\"#000000\" points=\"2761.7169,-168.4919 2758.2168,-158.4919 2754.7169,-168.492 2761.7169,-168.4919\"/>\n",
       "<text text-anchor=\"middle\" x=\"2774.2168\" y=\"-180.2802\" font-family=\"Times,serif\" font-size=\"14.00\" fill=\"#000000\">args</text>\n",
       "</g>\n",
       "<!-- 140064052062416 -->\n",
       "<g id=\"node17\" class=\"node\">\n",
       "<title>140064052062416</title>\n",
       "<ellipse fill=\"none\" stroke=\"#000000\" cx=\"2959.2168\" cy=\"-236.3503\" rx=\"90.5193\" ry=\"26.7407\"/>\n",
       "<text text-anchor=\"middle\" x=\"2959.2168\" y=\"-240.1503\" font-family=\"Times,serif\" font-size=\"14.00\" fill=\"#000000\">word </text>\n",
       "<text text-anchor=\"middle\" x=\"2959.2168\" y=\"-225.1503\" font-family=\"Times,serif\" font-size=\"14.00\" fill=\"#000000\"> ([en &#45;&gt; eo], &#39;it&#39;)</text>\n",
       "</g>\n",
       "<!-- 140064052062416&#45;&gt;140064052061520 -->\n",
       "<g id=\"edge16\" class=\"edge\">\n",
       "<title>140064052062416&#45;&gt;140064052061520</title>\n",
       "<path fill=\"none\" stroke=\"#000000\" d=\"M2914.3586,-212.9749C2886.0311,-198.2136 2849.0914,-178.9645 2818.2535,-162.895\"/>\n",
       "<polygon fill=\"#000000\" stroke=\"#000000\" points=\"2819.7994,-159.7539 2809.3137,-158.2366 2816.5645,-165.9616 2819.7994,-159.7539\"/>\n",
       "<text text-anchor=\"middle\" x=\"2887.2168\" y=\"-180.2802\" font-family=\"Times,serif\" font-size=\"14.00\" fill=\"#000000\">args</text>\n",
       "</g>\n",
       "<!-- 140064055444872 -->\n",
       "<g id=\"node18\" class=\"node\">\n",
       "<title>140064055444872</title>\n",
       "<ellipse fill=\"none\" stroke=\"#000000\" cx=\"3171.2168\" cy=\"-236.3503\" rx=\"103.8894\" ry=\"26.7407\"/>\n",
       "<text text-anchor=\"middle\" x=\"3171.2168\" y=\"-240.1503\" font-family=\"Times,serif\" font-size=\"14.00\" fill=\"#000000\">word </text>\n",
       "<text text-anchor=\"middle\" x=\"3171.2168\" y=\"-225.1503\" font-family=\"Times,serif\" font-size=\"14.00\" fill=\"#000000\"> ([en &#45;&gt; eo], &#39;that&#39;)</text>\n",
       "</g>\n",
       "<!-- 140064055444872&#45;&gt;140064052061520 -->\n",
       "<g id=\"edge17\" class=\"edge\">\n",
       "<title>140064055444872&#45;&gt;140064052061520</title>\n",
       "<path fill=\"none\" stroke=\"#000000\" d=\"M3096.9037,-217.5039C3033.6894,-201.4722 2941.9639,-178.2099 2869.9089,-159.9362\"/>\n",
       "<polygon fill=\"#000000\" stroke=\"#000000\" points=\"2870.4308,-156.4578 2859.8772,-157.3921 2868.7099,-163.243 2870.4308,-156.4578\"/>\n",
       "<text text-anchor=\"middle\" x=\"3006.2168\" y=\"-180.2802\" font-family=\"Times,serif\" font-size=\"14.00\" fill=\"#000000\">args</text>\n",
       "</g>\n",
       "<!-- 140064055445040 -->\n",
       "<g id=\"node19\" class=\"node\">\n",
       "<title>140064055445040</title>\n",
       "<ellipse fill=\"none\" stroke=\"#000000\" cx=\"3426.2168\" cy=\"-236.3503\" rx=\"132.8722\" ry=\"26.7407\"/>\n",
       "<text text-anchor=\"middle\" x=\"3426.2168\" y=\"-240.1503\" font-family=\"Times,serif\" font-size=\"14.00\" fill=\"#000000\">word </text>\n",
       "<text text-anchor=\"middle\" x=\"3426.2168\" y=\"-225.1503\" font-family=\"Times,serif\" font-size=\"14.00\" fill=\"#000000\"> ([en &#45;&gt; eo], &#39;surfeiting&#39;)</text>\n",
       "</g>\n",
       "<!-- 140064055445040&#45;&gt;140064052061520 -->\n",
       "<g id=\"edge18\" class=\"edge\">\n",
       "<title>140064055445040&#45;&gt;140064052061520</title>\n",
       "<path fill=\"none\" stroke=\"#000000\" d=\"M3330.4493,-217.6875C3315.0096,-214.8347 3299.1852,-212.0034 3284.2168,-209.4802 3169.4706,-190.1381 3040.1958,-170.9642 2938.5202,-156.4823\"/>\n",
       "<polygon fill=\"#000000\" stroke=\"#000000\" points=\"2938.8494,-152.994 2928.4563,-155.0514 2937.864,-159.9243 2938.8494,-152.994\"/>\n",
       "<text text-anchor=\"middle\" x=\"3185.2168\" y=\"-180.2802\" font-family=\"Times,serif\" font-size=\"14.00\" fill=\"#000000\">args</text>\n",
       "</g>\n",
       "<!-- 140064052061296 -->\n",
       "<g id=\"node20\" class=\"node\">\n",
       "<title>140064052061296</title>\n",
       "<ellipse fill=\"none\" stroke=\"#000000\" cx=\"4293.2168\" cy=\"-131.6102\" rx=\"346.4646\" ry=\"26.7407\"/>\n",
       "<text text-anchor=\"middle\" x=\"4293.2168\" y=\"-135.4102\" font-family=\"Times,serif\" font-size=\"14.00\" fill=\"#000000\">format_string </text>\n",
       "<text text-anchor=\"middle\" x=\"4293.2168\" y=\"-120.4102\" font-family=\"Times,serif\" font-size=\"14.00\" fill=\"#000000\"> (&#39;{{}} {{}} {{}} {{}}, {{}} {{}} {{}}.&#39;, —, —, —, —, —, —, —)</text>\n",
       "</g>\n",
       "<!-- 140064052061296&#45;&gt;140064055447280 -->\n",
       "<g id=\"edge19\" class=\"edge\">\n",
       "<title>140064052061296&#45;&gt;140064055447280</title>\n",
       "<path fill=\"none\" stroke=\"#000000\" d=\"M4032.8249,-113.8424C3673.8939,-89.3509 3047.1321,-46.5841 2832.6611,-31.9497\"/>\n",
       "<polygon fill=\"#000000\" stroke=\"#000000\" points=\"2832.6737,-28.4425 2822.4586,-31.2536 2832.1971,-35.4263 2832.6737,-28.4425\"/>\n",
       "<text text-anchor=\"middle\" x=\"3622.7168\" y=\"-75.5401\" font-family=\"Times,serif\" font-size=\"14.00\" fill=\"#000000\">a</text>\n",
       "</g>\n",
       "<!-- 140064055444536 -->\n",
       "<g id=\"node21\" class=\"node\">\n",
       "<title>140064055444536</title>\n",
       "<ellipse fill=\"none\" stroke=\"#000000\" cx=\"3679.2168\" cy=\"-236.3503\" rx=\"102.561\" ry=\"26.7407\"/>\n",
       "<text text-anchor=\"middle\" x=\"3679.2168\" y=\"-240.1503\" font-family=\"Times,serif\" font-size=\"14.00\" fill=\"#000000\">word </text>\n",
       "<text text-anchor=\"middle\" x=\"3679.2168\" y=\"-225.1503\" font-family=\"Times,serif\" font-size=\"14.00\" fill=\"#000000\"> ([en &#45;&gt; eo], &#39;The&#39;)</text>\n",
       "</g>\n",
       "<!-- 140064055444536&#45;&gt;140064052061296 -->\n",
       "<g id=\"edge20\" class=\"edge\">\n",
       "<title>140064055444536&#45;&gt;140064052061296</title>\n",
       "<path fill=\"none\" stroke=\"#000000\" d=\"M3753.1317,-217.7166C3765.7978,-214.7821 3778.8571,-211.9172 3791.2168,-209.4802 3896.308,-188.7589 4014.6722,-170.1722 4110.0619,-156.3586\"/>\n",
       "<polygon fill=\"#000000\" stroke=\"#000000\" points=\"4110.7036,-159.8023 4120.1013,-154.9101 4109.7039,-152.8741 4110.7036,-159.8023\"/>\n",
       "<text text-anchor=\"middle\" x=\"3986.2168\" y=\"-180.2802\" font-family=\"Times,serif\" font-size=\"14.00\" fill=\"#000000\">args</text>\n",
       "</g>\n",
       "<!-- 140064055444312 -->\n",
       "<g id=\"node22\" class=\"node\">\n",
       "<title>140064055444312</title>\n",
       "<ellipse fill=\"none\" stroke=\"#000000\" cx=\"3925.2168\" cy=\"-236.3503\" rx=\"125.316\" ry=\"26.7407\"/>\n",
       "<text text-anchor=\"middle\" x=\"3925.2168\" y=\"-240.1503\" font-family=\"Times,serif\" font-size=\"14.00\" fill=\"#000000\">word </text>\n",
       "<text text-anchor=\"middle\" x=\"3925.2168\" y=\"-225.1503\" font-family=\"Times,serif\" font-size=\"14.00\" fill=\"#000000\"> ([en &#45;&gt; eo], &#39;appetite&#39;)</text>\n",
       "</g>\n",
       "<!-- 140064055444312&#45;&gt;140064052061296 -->\n",
       "<g id=\"edge21\" class=\"edge\">\n",
       "<title>140064055444312&#45;&gt;140064052061296</title>\n",
       "<path fill=\"none\" stroke=\"#000000\" d=\"M4001.0204,-214.7751C4056.229,-199.0616 4131.5933,-177.6114 4191.9541,-160.4315\"/>\n",
       "<polygon fill=\"#000000\" stroke=\"#000000\" points=\"4193.2296,-163.7076 4201.8895,-157.6037 4191.3133,-156.975 4193.2296,-163.7076\"/>\n",
       "<text text-anchor=\"middle\" x=\"4148.2168\" y=\"-180.2802\" font-family=\"Times,serif\" font-size=\"14.00\" fill=\"#000000\">args</text>\n",
       "</g>\n",
       "<!-- 140064052156680 -->\n",
       "<g id=\"node23\" class=\"node\">\n",
       "<title>140064052156680</title>\n",
       "<ellipse fill=\"none\" stroke=\"#000000\" cx=\"4173.2168\" cy=\"-236.3503\" rx=\"104.8038\" ry=\"26.7407\"/>\n",
       "<text text-anchor=\"middle\" x=\"4173.2168\" y=\"-240.1503\" font-family=\"Times,serif\" font-size=\"14.00\" fill=\"#000000\">word </text>\n",
       "<text text-anchor=\"middle\" x=\"4173.2168\" y=\"-225.1503\" font-family=\"Times,serif\" font-size=\"14.00\" fill=\"#000000\"> ([en &#45;&gt; eo], &#39;may&#39;)</text>\n",
       "</g>\n",
       "<!-- 140064052156680&#45;&gt;140064052061296 -->\n",
       "<g id=\"edge22\" class=\"edge\">\n",
       "<title>140064052156680&#45;&gt;140064052061296</title>\n",
       "<path fill=\"none\" stroke=\"#000000\" d=\"M4202.8797,-210.4595C4218.3874,-196.9238 4237.5643,-180.1856 4254.2545,-165.6178\"/>\n",
       "<polygon fill=\"#000000\" stroke=\"#000000\" points=\"4256.9888,-167.8769 4262.2212,-158.6642 4252.3857,-162.6032 4256.9888,-167.8769\"/>\n",
       "<text text-anchor=\"middle\" x=\"4257.2168\" y=\"-180.2802\" font-family=\"Times,serif\" font-size=\"14.00\" fill=\"#000000\">args</text>\n",
       "</g>\n",
       "<!-- 140064052156120 -->\n",
       "<g id=\"node24\" class=\"node\">\n",
       "<title>140064052156120</title>\n",
       "<ellipse fill=\"none\" stroke=\"#000000\" cx=\"4412.2168\" cy=\"-236.3503\" rx=\"115.931\" ry=\"26.7407\"/>\n",
       "<text text-anchor=\"middle\" x=\"4412.2168\" y=\"-240.1503\" font-family=\"Times,serif\" font-size=\"14.00\" fill=\"#000000\">word </text>\n",
       "<text text-anchor=\"middle\" x=\"4412.2168\" y=\"-225.1503\" font-family=\"Times,serif\" font-size=\"14.00\" fill=\"#000000\"> ([en &#45;&gt; eo], &#39;sicken&#39;)</text>\n",
       "</g>\n",
       "<!-- 140064052156120&#45;&gt;140064052061296 -->\n",
       "<g id=\"edge23\" class=\"edge\">\n",
       "<title>140064052156120&#45;&gt;140064052061296</title>\n",
       "<path fill=\"none\" stroke=\"#000000\" d=\"M4382.495,-210.1901C4367.1132,-196.6515 4348.154,-179.9642 4331.6691,-165.4547\"/>\n",
       "<polygon fill=\"#000000\" stroke=\"#000000\" points=\"4333.6208,-162.5099 4323.8018,-158.5302 4328.9959,-167.7645 4333.6208,-162.5099\"/>\n",
       "<text text-anchor=\"middle\" x=\"4376.2168\" y=\"-180.2802\" font-family=\"Times,serif\" font-size=\"14.00\" fill=\"#000000\">args</text>\n",
       "</g>\n",
       "<!-- 140064052154944 -->\n",
       "<g id=\"node25\" class=\"node\">\n",
       "<title>140064052154944</title>\n",
       "<ellipse fill=\"none\" stroke=\"#000000\" cx=\"4648.2168\" cy=\"-236.3503\" rx=\"101.6471\" ry=\"26.7407\"/>\n",
       "<text text-anchor=\"middle\" x=\"4648.2168\" y=\"-240.1503\" font-family=\"Times,serif\" font-size=\"14.00\" fill=\"#000000\">word </text>\n",
       "<text text-anchor=\"middle\" x=\"4648.2168\" y=\"-225.1503\" font-family=\"Times,serif\" font-size=\"14.00\" fill=\"#000000\"> ([en &#45;&gt; eo], &#39;and&#39;)</text>\n",
       "</g>\n",
       "<!-- 140064052154944&#45;&gt;140064052061296 -->\n",
       "<g id=\"edge24\" class=\"edge\">\n",
       "<title>140064052154944&#45;&gt;140064052061296</title>\n",
       "<path fill=\"none\" stroke=\"#000000\" d=\"M4580.1892,-216.2793C4526.6946,-200.4961 4451.4357,-178.2915 4391.4093,-160.5811\"/>\n",
       "<polygon fill=\"#000000\" stroke=\"#000000\" points=\"4392.114,-157.14 4381.5323,-157.667 4390.1331,-163.8538 4392.114,-157.14\"/>\n",
       "<text text-anchor=\"middle\" x=\"4508.2168\" y=\"-180.2802\" font-family=\"Times,serif\" font-size=\"14.00\" fill=\"#000000\">args</text>\n",
       "</g>\n",
       "<!-- 140064052154496 -->\n",
       "<g id=\"node26\" class=\"node\">\n",
       "<title>140064052154496</title>\n",
       "<ellipse fill=\"none\" stroke=\"#000000\" cx=\"4863.2168\" cy=\"-236.3503\" rx=\"94.5053\" ry=\"26.7407\"/>\n",
       "<text text-anchor=\"middle\" x=\"4863.2168\" y=\"-240.1503\" font-family=\"Times,serif\" font-size=\"14.00\" fill=\"#000000\">word </text>\n",
       "<text text-anchor=\"middle\" x=\"4863.2168\" y=\"-225.1503\" font-family=\"Times,serif\" font-size=\"14.00\" fill=\"#000000\"> ([en &#45;&gt; eo], &#39;so&#39;)</text>\n",
       "</g>\n",
       "<!-- 140064052154496&#45;&gt;140064052061296 -->\n",
       "<g id=\"edge25\" class=\"edge\">\n",
       "<title>140064052154496&#45;&gt;140064052061296</title>\n",
       "<path fill=\"none\" stroke=\"#000000\" d=\"M4794.608,-217.7217C4782.8436,-214.7865 4770.7091,-211.9202 4759.2168,-209.4802 4663.0298,-189.0586 4554.7402,-170.6872 4466.7753,-156.9241\"/>\n",
       "<polygon fill=\"#000000\" stroke=\"#000000\" points=\"4467.1171,-153.4352 4456.6973,-155.3535 4466.0391,-160.3517 4467.1171,-153.4352\"/>\n",
       "<text text-anchor=\"middle\" x=\"4674.2168\" y=\"-180.2802\" font-family=\"Times,serif\" font-size=\"14.00\" fill=\"#000000\">args</text>\n",
       "</g>\n",
       "<!-- 140064052156904 -->\n",
       "<g id=\"node27\" class=\"node\">\n",
       "<title>140064052156904</title>\n",
       "<ellipse fill=\"none\" stroke=\"#000000\" cx=\"5075.2168\" cy=\"-236.3503\" rx=\"98.9899\" ry=\"26.7407\"/>\n",
       "<text text-anchor=\"middle\" x=\"5075.2168\" y=\"-240.1503\" font-family=\"Times,serif\" font-size=\"14.00\" fill=\"#000000\">word </text>\n",
       "<text text-anchor=\"middle\" x=\"5075.2168\" y=\"-225.1503\" font-family=\"Times,serif\" font-size=\"14.00\" fill=\"#000000\"> ([en &#45;&gt; eo], &#39;die&#39;)</text>\n",
       "</g>\n",
       "<!-- 140064052156904&#45;&gt;140064052061296 -->\n",
       "<g id=\"edge26\" class=\"edge\">\n",
       "<title>140064052156904&#45;&gt;140064052061296</title>\n",
       "<path fill=\"none\" stroke=\"#000000\" d=\"M5004.6142,-217.457C4992.2089,-214.5182 4979.3782,-211.7193 4967.2168,-209.4802 4827.0743,-183.6786 4668.8724,-164.8734 4540.9741,-152.2139\"/>\n",
       "<polygon fill=\"#000000\" stroke=\"#000000\" points=\"4540.9453,-148.6942 4530.6508,-151.1989 4540.2603,-155.6606 4540.9453,-148.6942\"/>\n",
       "<text text-anchor=\"middle\" x=\"4874.2168\" y=\"-180.2802\" font-family=\"Times,serif\" font-size=\"14.00\" fill=\"#000000\">args</text>\n",
       "</g>\n",
       "</g>\n",
       "</svg>\n"
      ],
      "text/plain": [
       "<graphviz.dot.Digraph at 0x7f6334421160>"
      ]
     },
     "execution_count": 9,
     "metadata": {},
     "output_type": "execute_result"
    }
   ],
   "source": [
    "workflow_graph.attr(size='10')\n",
    "workflow_graph"
   ]
  },
  {
   "cell_type": "markdown",
   "metadata": {},
   "source": [
    "## Dealing with repetition\n",
    "In the following example we have a line with some repetition."
   ]
  },
  {
   "cell_type": "code",
   "execution_count": 1,
   "metadata": {
    "collapsed": true
   },
   "outputs": [],
   "source": [
    "from noodles import (schedule, gather_all)\n",
    "import re\n",
    "\n",
    "@schedule\n",
    "def word_size(word):\n",
    "    return len(word)\n",
    "\n",
    "@schedule\n",
    "def format_string(s, *args, **kwargs):\n",
    "    return s.format(*args, **kwargs)\n",
    "\n",
    "def word_size_phrase(phrase):\n",
    "    words = re.sub(\"[^\\w]\", \" \", phrase).split()\n",
    "    space = re.sub(\"[\\w]+\", \"{}\", phrase)\n",
    "    word_lengths = map(word_size, words)\n",
    "    return format_string(space, *word_lengths)"
   ]
  },
  {
   "cell_type": "code",
   "execution_count": 2,
   "metadata": {},
   "outputs": [
    {
     "data": {
      "text/markdown": [
       "| sizes |\n",
       "| --- |\n",
       "| ![workflow sizes](poetry-sizes.svg) |"
      ],
      "text/plain": [
       "<IPython.core.display.Markdown object>"
      ]
     },
     "metadata": {},
     "output_type": "display_data"
    }
   ],
   "source": [
    "from noodles.tutorial import display_workflows, run_and_print_log\n",
    "\n",
    "display_workflows(\n",
    "    prefix='poetry',\n",
    "    sizes=word_size_phrase(\"Oote oote oote, Boe\"))"
   ]
  },
  {
   "cell_type": "markdown",
   "metadata": {},
   "source": [
    "Let's run the example workflows now, but focus on the actions taken, looking at the logs. The function ``run_and_print_log`` in the tutorial module runs our workflow with four parallel threads and caches results in a Sqlite3 database.\n",
    "\n",
    "To see how this program is being run, we monitor the job submission, retrieval and result storage. First, should you have run this tutorial before, remove the database file."
   ]
  },
  {
   "cell_type": "code",
   "execution_count": 3,
   "metadata": {
    "collapsed": true
   },
   "outputs": [],
   "source": [
    "# remove the database if it already exists\n",
    "!rm -f tutorial.db"
   ]
  },
  {
   "cell_type": "markdown",
   "metadata": {},
   "source": [
    "Running the workflow, we can now see that at the second occurence of the word 'oote', the function call is attached to the first job that asked for the same result. The job `word_size('oote')` is run only once."
   ]
  },
  {
   "cell_type": "code",
   "execution_count": 4,
   "metadata": {},
   "outputs": [
    {
     "data": {
      "text/html": [
       "<pre style=\"font-size: 9pt; margin: 0pt\">2018-02-08 11:27:49,767 - job             1: word_size(&#x27;Oote&#x27;)</pre>\n",
       "<pre style=\"font-size: 9pt; margin: 0pt\">2018-02-08 11:27:49,767 - job             2: word_size(&#x27;oote&#x27;)</pre>\n",
       "<pre style=\"font-size: 9pt; margin: 0pt\">2018-02-08 11:27:49,768 - job             3: word_size(&#x27;oote&#x27;)</pre>\n",
       "<pre style=\"font-size: 9pt; margin: 0pt\">2018-02-08 11:27:49,768 - job             4: word_size(&#x27;Boe&#x27;)</pre>\n",
       "<pre style=\"background: #eeeeee; color: black;font-weight: bold; font-size: 9pt; margin: 0pt\">2018-02-08 11:27:49,772 - result          1 [word_size(&#x27;Oote&#x27;)]: done -&gt; 4</pre>\n",
       "<pre style=\"background: #eeeeee; color: black;font-weight: bold; font-size: 9pt; margin: 0pt\">2018-02-08 11:27:49,772 - result          2 [word_size(&#x27;oote&#x27;)]: done -&gt; 4</pre>\n",
       "<pre style=\"background: #eeeeee; color: black;font-weight: bold; font-size: 9pt; margin: 0pt\">2018-02-08 11:27:49,773 - result          3 [word_size(&#x27;oote&#x27;)]: attached -&gt; 4</pre>\n",
       "<pre style=\"background: #eeeeee; color: black;font-weight: bold; font-size: 9pt; margin: 0pt\">2018-02-08 11:27:49,773 - result          4 [word_size(&#x27;Boe&#x27;)]: done -&gt; 3</pre>\n",
       "<pre style=\"font-size: 9pt; margin: 0pt\">2018-02-08 11:27:49,773 - job            … at_string(&#x27;{} {} {}, {}&#x27;, 4, 4, 4, 3)</pre>\n",
       "<pre style=\"font-size: 9pt; margin: 0pt\">2018-02-08 11:27:49,775 - result         … {}&#x27;, 4, 4, 4, 3)]: done -&gt; &#x27;4 4 4, 3&#x27;</pre>\n",
       "<pre style=\"font-size: 9pt; margin: 0pt\">2018-02-08 11:27:49,775 - -end-of-queue-</pre>"
      ],
      "text/plain": [
       "<IPython.core.display.HTML object>"
      ]
     },
     "metadata": {},
     "output_type": "display_data"
    },
    {
     "data": {
      "text/plain": [
       "'4 4 4, 3'"
      ]
     },
     "execution_count": 4,
     "metadata": {},
     "output_type": "execute_result"
    }
   ],
   "source": [
    "run_and_print_log(word_size_phrase(\"Oote oote oote, Boe\"), highlight=range(4, 8))"
   ]
  },
  {
   "cell_type": "markdown",
   "metadata": {},
   "source": [
    "Now, running a similar workflow again, notice that previous results are retrieved from the database."
   ]
  },
  {
   "cell_type": "code",
   "execution_count": 5,
   "metadata": {},
   "outputs": [
    {
     "data": {
      "text/html": [
       "<pre style=\"font-size: 9pt; margin: 0pt\">2018-02-08 11:28:02,608 - job             6: word_size(&#x27;Oe&#x27;)</pre>\n",
       "<pre style=\"font-size: 9pt; margin: 0pt\">2018-02-08 11:28:02,609 - job             7: word_size(&#x27;oe&#x27;)</pre>\n",
       "<pre style=\"font-size: 9pt; margin: 0pt\">2018-02-08 11:28:02,609 - job             8: word_size(&#x27;oote&#x27;)</pre>\n",
       "<pre style=\"font-size: 9pt; margin: 0pt\">2018-02-08 11:28:02,609 - job             9: word_size(&#x27;oote&#x27;)</pre>\n",
       "<pre style=\"font-size: 9pt; margin: 0pt\">2018-02-08 11:28:02,609 - job            10: word_size(&#x27;oote&#x27;)</pre>\n",
       "<pre style=\"background: #eeeeee; color: black;font-weight: bold; font-size: 9pt; margin: 0pt\">2018-02-08 11:28:02,618 - result          6 [word_size(&#x27;Oe&#x27;)]: done -&gt; 2</pre>\n",
       "<pre style=\"background: #eeeeee; color: black;font-weight: bold; font-size: 9pt; margin: 0pt\">2018-02-08 11:28:02,619 - result          7 [word_size(&#x27;oe&#x27;)]: done -&gt; 2</pre>\n",
       "<pre style=\"background: #eeeeee; color: black;font-weight: bold; font-size: 9pt; margin: 0pt\">2018-02-08 11:28:02,620 - result          8 [word_size(&#x27;oote&#x27;)]: retrieved -&gt; 4</pre>\n",
       "<pre style=\"background: #eeeeee; color: black;font-weight: bold; font-size: 9pt; margin: 0pt\">2018-02-08 11:28:02,620 - result          9 [word_size(&#x27;oote&#x27;)]: retrieved -&gt; 4</pre>\n",
       "<pre style=\"background: #eeeeee; color: black;font-weight: bold; font-size: 9pt; margin: 0pt\">2018-02-08 11:28:02,621 - result         10 [word_size(&#x27;oote&#x27;)]: retrieved -&gt; 4</pre>\n",
       "<pre style=\"font-size: 9pt; margin: 0pt\">2018-02-08 11:28:02,621 - job            … ring(&#x27;{} {} {} {} {}&#x27;, 2, 2, 4, 4, 4)</pre>\n",
       "<pre style=\"font-size: 9pt; margin: 0pt\">2018-02-08 11:28:02,624 - result         …  2, 2, 4, 4, 4)]: done -&gt; &#x27;2 2 4 4 4&#x27;</pre>\n",
       "<pre style=\"font-size: 9pt; margin: 0pt\">2018-02-08 11:28:02,624 - -end-of-queue-</pre>"
      ],
      "text/plain": [
       "<IPython.core.display.HTML object>"
      ]
     },
     "metadata": {},
     "output_type": "display_data"
    },
    {
     "data": {
      "text/plain": [
       "'2 2 4 4 4'"
      ]
     },
     "execution_count": 5,
     "metadata": {},
     "output_type": "execute_result"
    }
   ],
   "source": [
    "run_and_print_log(word_size_phrase(\"Oe oe oote oote oote\"), highlight=range(5, 10))"
   ]
  },
  {
   "cell_type": "markdown",
   "metadata": {},
   "source": [
    "Although the result of every single job is retrieved we still had to go through the trouble of looking up the results of `word_size('Oote')`, `word_size('oote')`, and `word_size('Boe')` to find out that we wanted the result from the `format_string`. If you want to cache the result of an entire workflow, pack the workflow in another scheduled function!"
   ]
  },
  {
   "cell_type": "markdown",
   "metadata": {},
   "source": [
    "## Versioning\n",
    "We may add a version string to a function. This version is taken into account when looking up results in the database."
   ]
  },
  {
   "cell_type": "code",
   "execution_count": 6,
   "metadata": {},
   "outputs": [
    {
     "data": {
      "text/html": [
       "<pre style=\"font-size: 9pt; margin: 0pt\">2018-02-08 11:28:04,517 - job            … ize_phrase(&#x27;Kneu kneu ...  kneu eur&#x27;)</pre>\n",
       "<pre style=\"background: #eeeeee; color: black;font-weight: bold; font-size: 9pt; margin: 0pt\">2018-02-08 11:28:04,530 - result         … eur&#x27;)]: done -&gt; workflow 7f1164b07198</pre>\n",
       "<pre style=\"font-size: 9pt; margin: 0pt\">2018-02-08 11:28:04,531 - job            13: word_size(&#x27;Kneu&#x27;)</pre>\n",
       "<pre style=\"font-size: 9pt; margin: 0pt\">2018-02-08 11:28:04,532 - job            14: word_size(&#x27;kneu&#x27;)</pre>\n",
       "<pre style=\"font-size: 9pt; margin: 0pt\">2018-02-08 11:28:04,533 - job            15: word_size(&#x27;kneu&#x27;)</pre>\n",
       "<pre style=\"font-size: 9pt; margin: 0pt\">2018-02-08 11:28:04,535 - job            16: word_size(&#x27;kneu&#x27;)</pre>\n",
       "<pre style=\"font-size: 9pt; margin: 0pt\">2018-02-08 11:28:04,536 - job            17: word_size(&#x27;ote&#x27;)</pre>\n",
       "<pre style=\"font-size: 9pt; margin: 0pt\">2018-02-08 11:28:04,537 - job            18: word_size(&#x27;kneu&#x27;)</pre>\n",
       "<pre style=\"font-size: 9pt; margin: 0pt\">2018-02-08 11:28:04,538 - job            19: word_size(&#x27;eur&#x27;)</pre>\n",
       "<pre style=\"font-size: 9pt; margin: 0pt\">2018-02-08 11:28:04,540 - result         13 [word_size(&#x27;Kneu&#x27;)]: done -&gt; 4</pre>\n",
       "<pre style=\"font-size: 9pt; margin: 0pt\">2018-02-08 11:28:04,540 - result         14 [word_size(&#x27;kneu&#x27;)]: done -&gt; 4</pre>\n",
       "<pre style=\"font-size: 9pt; margin: 0pt\">2018-02-08 11:28:04,541 - result         15 [word_size(&#x27;kneu&#x27;)]: attached -&gt; 4</pre>\n",
       "<pre style=\"font-size: 9pt; margin: 0pt\">2018-02-08 11:28:04,541 - result         16 [word_size(&#x27;kneu&#x27;)]: attached -&gt; 4</pre>\n",
       "<pre style=\"font-size: 9pt; margin: 0pt\">2018-02-08 11:28:04,541 - result         18 [word_size(&#x27;kneu&#x27;)]: attached -&gt; 4</pre>\n",
       "<pre style=\"font-size: 9pt; margin: 0pt\">2018-02-08 11:28:04,541 - result         17 [word_size(&#x27;ote&#x27;)]: done -&gt; 3</pre>\n",
       "<pre style=\"font-size: 9pt; margin: 0pt\">2018-02-08 11:28:04,541 - result         19 [word_size(&#x27;eur&#x27;)]: done -&gt; 3</pre>\n",
       "<pre style=\"font-size: 9pt; margin: 0pt\">2018-02-08 11:28:04,542 - job            … {} {} {} {} {}&#x27;, 4, 4, 4, 4, 3, 4, 3)</pre>\n",
       "<pre style=\"background: #eeeeee; color: black;font-weight: bold; font-size: 9pt; margin: 0pt\">2018-02-08 11:28:04,545 - result         … 4, 3, 4, 3)]: done -&gt; &#x27;4 4 4 4 3 4 3&#x27;</pre>\n",
       "<pre style=\"font-size: 9pt; margin: 0pt\">2018-02-08 11:28:04,546 - -end-of-queue-</pre>"
      ],
      "text/plain": [
       "<IPython.core.display.HTML object>"
      ]
     },
     "metadata": {},
     "output_type": "display_data"
    },
    {
     "data": {
      "text/plain": [
       "'4 4 4 4 3 4 3'"
      ]
     },
     "execution_count": 6,
     "metadata": {},
     "output_type": "execute_result"
    }
   ],
   "source": [
    "@schedule(version='1.0')\n",
    "def word_size_phrase(phrase):\n",
    "    words = re.sub(\"[^\\w]\", \" \", phrase).split()\n",
    "    space = re.sub(\"[\\w]+\", \"{}\", phrase)\n",
    "    word_lengths = map(word_size, words)\n",
    "    return format_string(space, *word_lengths)\n",
    "\n",
    "run_and_print_log(\n",
    "    word_size_phrase(\"Kneu kneu kneu kneu ote kneu eur\"),\n",
    "    highlight=[1, 17])"
   ]
  },
  {
   "cell_type": "markdown",
   "metadata": {},
   "source": [
    "See how the first job is evaluated to return a new workflow. Note that if the version is omitted, it is automatically generated from the source of the function. For example, let's say we decided the function `word_size_phrase` should return a dictionary of all word sizes in stead of a string. Here we use the function called `lift` to transform a dictionary containing promises to a promise of a dictionary. `lift` can handle lists, dictionaries, sets, tuples and objects that are constructable from their `__dict__` member."
   ]
  },
  {
   "cell_type": "code",
   "execution_count": 7,
   "metadata": {},
   "outputs": [
    {
     "data": {
      "text/markdown": [
       "| lift |\n",
       "| --- |\n",
       "| ![workflow lift](poetry-lift.svg) |"
      ],
      "text/plain": [
       "<IPython.core.display.Markdown object>"
      ]
     },
     "metadata": {},
     "output_type": "display_data"
    }
   ],
   "source": [
    "from noodles import lift\n",
    "\n",
    "def word_size_phrase(phrase):\n",
    "    words = re.sub(\"[^\\w]\", \" \", phrase).split()\n",
    "    return lift({word: word_size(word) for word in words})\n",
    "\n",
    "display_workflows(prefix='poetry', lift=word_size_phrase(\"Kneu kneu kneu kneu ote kneu eur\"))"
   ]
  },
  {
   "cell_type": "code",
   "execution_count": 8,
   "metadata": {},
   "outputs": [
    {
     "data": {
      "text/html": [
       "<pre style=\"font-size: 9pt; margin: 0pt\">2018-02-08 11:28:19,992 - job            21: word_size(&#x27;Kneu&#x27;)</pre>\n",
       "<pre style=\"font-size: 9pt; margin: 0pt\">2018-02-08 11:28:19,992 - job            22: word_size(&#x27;kneu&#x27;)</pre>\n",
       "<pre style=\"font-size: 9pt; margin: 0pt\">2018-02-08 11:28:19,992 - job            23: word_size(&#x27;ote&#x27;)</pre>\n",
       "<pre style=\"font-size: 9pt; margin: 0pt\">2018-02-08 11:28:19,992 - job            24: word_size(&#x27;eur&#x27;)</pre>\n",
       "<pre style=\"font-size: 9pt; margin: 0pt\">2018-02-08 11:28:19,997 - result         21 [word_size(&#x27;Kneu&#x27;)]: retrieved -&gt; 4</pre>\n",
       "<pre style=\"font-size: 9pt; margin: 0pt\">2018-02-08 11:28:19,998 - job            25: make_tuple(&#x27;Kneu&#x27;, 4)</pre>\n",
       "<pre style=\"font-size: 9pt; margin: 0pt\">2018-02-08 11:28:19,999 - result         22 [word_size(&#x27;kneu&#x27;)]: retrieved -&gt; 4</pre>\n",
       "<pre style=\"font-size: 9pt; margin: 0pt\">2018-02-08 11:28:20,000 - job            26: make_tuple(&#x27;kneu&#x27;, 4)</pre>\n",
       "<pre style=\"font-size: 9pt; margin: 0pt\">2018-02-08 11:28:20,001 - result         23 [word_size(&#x27;ote&#x27;)]: retrieved -&gt; 3</pre>\n",
       "<pre style=\"font-size: 9pt; margin: 0pt\">2018-02-08 11:28:20,002 - job            27: make_tuple(&#x27;ote&#x27;, 3)</pre>\n",
       "<pre style=\"font-size: 9pt; margin: 0pt\">2018-02-08 11:28:20,003 - result         24 [word_size(&#x27;eur&#x27;)]: retrieved -&gt; 3</pre>\n",
       "<pre style=\"font-size: 9pt; margin: 0pt\">2018-02-08 11:28:20,004 - job            28: make_tuple(&#x27;eur&#x27;, 3)</pre>\n",
       "<pre style=\"font-size: 9pt; margin: 0pt\">2018-02-08 11:28:20,005 - result         … uple(&#x27;Kneu&#x27;, 4)]: done -&gt; (&#x27;Kneu&#x27;, 4)</pre>\n",
       "<pre style=\"font-size: 9pt; margin: 0pt\">2018-02-08 11:28:20,005 - result         … uple(&#x27;kneu&#x27;, 4)]: done -&gt; (&#x27;kneu&#x27;, 4)</pre>\n",
       "<pre style=\"font-size: 9pt; margin: 0pt\">2018-02-08 11:28:20,006 - result         … _tuple(&#x27;ote&#x27;, 3)]: done -&gt; (&#x27;ote&#x27;, 3)</pre>\n",
       "<pre style=\"font-size: 9pt; margin: 0pt\">2018-02-08 11:28:20,006 - result         … _tuple(&#x27;eur&#x27;, 3)]: done -&gt; (&#x27;eur&#x27;, 3)</pre>\n",
       "<pre style=\"font-size: 9pt; margin: 0pt\">2018-02-08 11:28:20,006 - job            …  (&#x27;kneu&#x27;, 4), (&#x27;ote&#x27;, 3), (&#x27;eur&#x27;, 3))</pre>\n",
       "<pre style=\"font-size: 9pt; margin: 0pt\">2018-02-08 11:28:20,008 - result         … u&#x27;: 4, &#x27;kneu&#x27;: 4, &#x27;ote&#x27;: 3, &#x27;eur&#x27;: 3}</pre>\n",
       "<pre style=\"font-size: 9pt; margin: 0pt\">2018-02-08 11:28:20,008 - -end-of-queue-</pre>"
      ],
      "text/plain": [
       "<IPython.core.display.HTML object>"
      ]
     },
     "metadata": {},
     "output_type": "display_data"
    },
    {
     "data": {
      "text/plain": [
       "{'Kneu': 4, 'eur': 3, 'kneu': 4, 'ote': 3}"
      ]
     },
     "execution_count": 8,
     "metadata": {},
     "output_type": "execute_result"
    }
   ],
   "source": [
    "run_and_print_log(word_size_phrase(\"Kneu kneu kneu kneu ote kneu eur\"))"
   ]
  },
  {
   "cell_type": "markdown",
   "metadata": {},
   "source": [
    "**Be careful with versions!** Noodles will believe you upon your word! If we lie about the version, it will go ahead and retrieve the result belonging to the old function:"
   ]
  },
  {
   "cell_type": "code",
   "execution_count": 9,
   "metadata": {},
   "outputs": [
    {
     "data": {
      "text/html": [
       "<pre style=\"font-size: 9pt; margin: 0pt\">2018-02-08 11:28:29,728 - job            … ize_phrase(&#x27;Kneu kneu ...  kneu eur&#x27;)</pre>\n",
       "<pre style=\"background: #eeeeee; color: black;font-weight: bold; font-size: 9pt; margin: 0pt\">2018-02-08 11:28:29,734 - result         …  eur&#x27;)]: retrieved -&gt; &#x27;4 4 4 4 3 4 3&#x27;</pre>\n",
       "<pre style=\"font-size: 9pt; margin: 0pt\">2018-02-08 11:28:29,734 - -end-of-queue-</pre>"
      ],
      "text/plain": [
       "<IPython.core.display.HTML object>"
      ]
     },
     "metadata": {},
     "output_type": "display_data"
    },
    {
     "data": {
      "text/plain": [
       "'4 4 4 4 3 4 3'"
      ]
     },
     "execution_count": 9,
     "metadata": {},
     "output_type": "execute_result"
    }
   ],
   "source": [
    "@schedule(version='1.0')\n",
    "def word_size_phrase(phrase):\n",
    "    words = re.sub(\"[^\\w]\", \" \", phrase).split()\n",
    "    return lift({word: word_size(word) for word in words})\n",
    "\n",
    "run_and_print_log(\n",
    "    word_size_phrase(\"Kneu kneu kneu kneu ote kneu eur\"),\n",
    "    highlight=[1])"
   ]
  }
 ],
 "metadata": {
  "kernelspec": {
   "display_name": "Python 3",
   "language": "python",
   "name": "python3"
  },
  "language_info": {
   "codemirror_mode": {
    "name": "ipython",
    "version": 3
   },
   "file_extension": ".py",
   "mimetype": "text/x-python",
   "name": "python",
   "nbconvert_exporter": "python",
   "pygments_lexer": "ipython3",
   "version": "3.6.4"
  }
 },
 "nbformat": 4,
 "nbformat_minor": 2
}
