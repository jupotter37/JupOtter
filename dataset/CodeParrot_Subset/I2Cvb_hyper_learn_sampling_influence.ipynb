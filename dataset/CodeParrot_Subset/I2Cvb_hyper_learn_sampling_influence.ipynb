{
 "cells": [
  {
   "cell_type": "code",
   "execution_count": null,
   "metadata": {
    "collapsed": true
   },
   "outputs": [],
   "source": [
    "from data_base import *\n",
    "from data_base_creator import *\n",
    "from i_data_model import *\n",
    "import matplotlib.pyplot as plt\n",
    "\n",
    "d = DataSimulation()\n",
    "myDataBaseExample = d.generate_default2MVGM_testcase()\n",
    "print myDataBaseExample\n",
    "\n",
    "xx1 = myDataBaseExample['blue'].dbeSamples\n",
    "mm1 = myDataBaseExample['blue'].dbeModel\n",
    "xx2 = myDataBaseExample['red'].dbeSamples\n",
    "mm2 = myDataBaseExample['red'].dbeModel\n",
    "\n",
    "fig, (ax1, ax2, ax3)  = plt.subplots(ncols=3)\n",
    "for aa in [ax1, ax2, ax3]:\n",
    "    aa.axis([-3, 3, -3, 3])\n",
    "\n",
    "scatterPlot_realData_nparray_in_dbSpace(ax1, xx1, {'marker': 'x'})\n",
    "scatterPlot_realData_nparray_in_dbSpace(ax1, xx2)\n",
    "\n",
    "plot_realData_model_isolines_in_dbSpace(ax1, mm1)\n",
    "plot_realData_model_isolines_in_dbSpace(ax1, mm2, {'colors': 'g'})\n",
    "\n",
    "plot_DBElement_in_dbSpace(ax2, myDataBaseExample['blue'])\n",
    "plot_DBElement_in_dbSpace(ax2, myDataBaseExample['red'])\n",
    "\n",
    "plot_DataBase_in_dbSpace(ax3, myDataBaseExample)\n",
    "\n",
    "plt.show()"
   ]
  }
 ],
 "metadata": {
  "kernelspec": {
   "display_name": "Python 2",
   "language": "python",
   "name": "python2"
  },
  "language_info": {
   "codemirror_mode": {
    "name": "ipython",
    "version": 2
   },
   "file_extension": ".py",
   "mimetype": "text/x-python",
   "name": "python",
   "nbconvert_exporter": "python",
   "pygments_lexer": "ipython2",
   "version": "2.7.9"
  }
 },
 "nbformat": 4,
 "nbformat_minor": 0
}
