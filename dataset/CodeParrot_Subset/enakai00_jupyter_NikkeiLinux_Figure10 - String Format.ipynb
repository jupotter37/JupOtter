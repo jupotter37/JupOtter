{
 "cells": [
  {
   "cell_type": "code",
   "execution_count": 1,
   "metadata": {
    "collapsed": false
   },
   "outputs": [
    {
     "name": "stdout",
     "output_type": "stream",
     "text": [
      "整数 123 を埋め込みます\n",
      "浮動小数点 3.140000 を埋め込みます\n",
      "文字列 Hello, World! を埋め込みます\n",
      "複数の変数 123, 3.140000, Hello, World! を埋め込みます\n"
     ]
    }
   ],
   "source": [
    "a = 123\n",
    "b = 3.14\n",
    "c = 'Hello, World!'\n",
    "\n",
    "print '整数 %d を埋め込みます' % a\n",
    "print '浮動小数点 %f を埋め込みます' % b\n",
    "print '文字列 %s を埋め込みます' % c\n",
    "print '複数の変数 %d, %f, %s を埋め込みます' % (a, b, c)"
   ]
  }
 ],
 "metadata": {
  "kernelspec": {
   "display_name": "Python 2",
   "language": "python",
   "name": "python2"
  },
  "language_info": {
   "codemirror_mode": {
    "name": "ipython",
    "version": 2
   },
   "file_extension": ".py",
   "mimetype": "text/x-python",
   "name": "python",
   "nbconvert_exporter": "python",
   "pygments_lexer": "ipython2",
   "version": "2.7.5"
  }
 },
 "nbformat": 4,
 "nbformat_minor": 0
}
