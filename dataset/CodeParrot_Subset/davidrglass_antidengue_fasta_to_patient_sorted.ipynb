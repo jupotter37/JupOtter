{
 "cells": [
  {
   "cell_type": "code",
   "execution_count": 3,
   "metadata": {
    "collapsed": true
   },
   "outputs": [],
   "source": [
    "%matplotlib inline\n",
    "from Bio import SeqIO    \n",
    "import numpy as np\n",
    "import pandas as pd    \n",
    "import matplotlib.pyplot as plt\n",
    "import os\n",
    "import sys\n",
    "from subprocess import call"
   ]
  },
  {
   "cell_type": "code",
   "execution_count": 3,
   "metadata": {
    "collapsed": true
   },
   "outputs": [],
   "source": [
    "def run_igblast(filename):\n",
    "    '''Takes a file from antidengue/data/fasta/ and runs it through igblast\n",
    "    \n",
    "    Parameters:\n",
    "        filename - the name of the fasta\n",
    "    '''\n",
    "    if filename.endswith('.fasta'):\n",
    "        outfile = filename[:-6] + '_out'\n",
    "    else:\n",
    "        outfile = filename + '_out'\n",
    "    \n",
    "    fasta_path = '/Users/davidglass/antidengue/data/fasta/'\n",
    "    ncbi_path = '/Users/davidglass/Documents/resources/ncbi-igblast-1.4.0/'\n",
    "    blast = '/Users/davidglass/Documents/resources/ncbi-igblast-1.4.0/bin/igblastn'\n",
    "    igblast_dump = '/Users/davidglass/antidengue/data/ig_parse_dump/' + outfile[:-4]\n",
    "\n",
    "    call(['cp', fasta_path + filename, ncbi_path])\n",
    "    os.chdir(ncbi_path)\n",
    "    call([blast, '-out', outfile, '-query', ncbi_path+filename, '-num_alignments_V=1', '-num_alignments_D=1',\n",
    "          '-num_alignments_J=1', '-evalue=1e-20', '-germline_db_V', ncbi_path+'database/IGHV_imgt.fasta', \n",
    "          '-germline_db_D', ncbi_path+'database/IGHD_imgt.fasta', '-germline_db_J',\n",
    "          ncbi_path+'database/IGHJ_imgt.fasta', '-domain_system', 'imgt', '-auxiliary_data',\n",
    "          ncbi_path+'optional_file/human_gl.aux'])\n",
    "    call(['mkdir', igblast_dump])\n",
    "    call(['mv', filename, igblast_dump])\n",
    "    call(['mv', outfile, igblast_dump])\n",
    "    \n",
    "    return outfile"
   ]
  },
  {
   "cell_type": "code",
   "execution_count": 4,
   "metadata": {
    "collapsed": true
   },
   "outputs": [],
   "source": [
    "def get_sample_info_from_csv(csv):\n",
    "    '''Puts the info from the sample_info csv into a pandas dataframe and returns it\n",
    "     \n",
    "    Parameters:\n",
    "        csv - the csv file\n",
    "    '''\n",
    "    \n",
    "    sample_info = pd.DataFrame().from_csv(csv)\n",
    "    \n",
    "    return sample_info"
   ]
  },
  {
   "cell_type": "code",
   "execution_count": 5,
   "metadata": {
    "collapsed": false
   },
   "outputs": [],
   "source": [
    "def run_parse(fasta, blast_out, sample_info):\n",
    "    '''Runs parse_igblast.py in the igblast_dump folder and sends the parsedfile to the by_patient directory\n",
    "    \n",
    "    Parameters:\n",
    "        fasta - the fasta file\n",
    "        blast_out - the output of igblast\n",
    "        dataframe - the pandas dataframe containing patient info\n",
    "    '''\n",
    "    accession_num = blast_out[:-4]\n",
    "    igblast_dump = '/Users/davidglass/antidengue/data/ig_parse_dump/' + accession_num\n",
    "    destination_directory = '/Users/davidglass/antidengue/data/by_sample'\n",
    "    patient_id = \"\"\n",
    "    time_point = \"\"\n",
    "    \n",
    "    call(['cp', '/Users/davidglass/antidengue/src/parse_igblast.py', igblast_dump])\n",
    "    os.chdir(igblast_dump)\n",
    "    call(['python', 'parse_igblast.py', fasta, blast_out])\n",
    "    \n",
    "    # find the ID from the sample_info DataFrame\n",
    "    patient_id = str(sample_info.loc[accession_num][0])\n",
    "    time_point = str(sample_info.loc[accession_num][4])\n",
    "    new_filename = patient_id + \"_\" + time_point + \"_\" + accession_num\n",
    "    \n",
    "    call(['mv', 'parsed_igblast.txt', new_filename])\n",
    "    call(['mv', new_filename, destination_directory])\n",
    "    call(['rm', fasta])\n",
    "    call(['rm', 'parse_igblast.py'])\n",
    "    "
   ]
  },
  {
   "cell_type": "code",
   "execution_count": 6,
   "metadata": {
    "collapsed": true
   },
   "outputs": [],
   "source": [
    "def pipeline(filename, sample_info):\n",
    "    '''Runs a fasta through igblast and then parses the output and properly sorts files\n",
    "    \n",
    "    Parameters:\n",
    "        filename - the name of the fasta\n",
    "        sample_info - the pandas dataframe containing patient info\n",
    "    '''\n",
    "\n",
    "    blast_out = run_igblast(filename)\n",
    "    run_parse(filename, blast_out, sample_info)"
   ]
  },
  {
   "cell_type": "code",
   "execution_count": 7,
   "metadata": {
    "collapsed": false
   },
   "outputs": [],
   "source": [
    "sample_info = get_sample_info_from_csv('/Users/davidglass/antidengue/data/sample_info.csv')"
   ]
  },
  {
   "cell_type": "code",
   "execution_count": 12,
   "metadata": {
    "collapsed": false
   },
   "outputs": [],
   "source": [
    "# Runs the pipeline on all the files\n",
    "\n",
    "dirs = os.listdir('/Users/davidglass/antidengue/data/fasta/')\n",
    "    \n",
    "for file in dirs:\n",
    "    if file.endswith('.fasta'):\n",
    "        pipeline(file, sample_info)"
   ]
  },
  {
   "cell_type": "code",
   "execution_count": 7,
   "metadata": {
    "collapsed": false
   },
   "outputs": [],
   "source": [
    "# Renames the files with proper labels\n",
    "\n",
    "dirs = os.listdir('/Users/davidglass/antidengue/data/by_sample/')\n",
    "os.chdir('/Users/davidglass/antidengue/data/by_sample/')\n",
    "    \n",
    "for file in dirs:\n",
    "    name = file\n",
    "    first = name.find('_')\n",
    "    sec = name.find('_', first + 1)\n",
    "    name = \"patient_\" + name[:first] + \"_time\" + name[first:sec] + \"_sample\" + name[sec:]\n",
    "    call(['mv', file, name])"
   ]
  },
  {
   "cell_type": "code",
   "execution_count": 11,
   "metadata": {
    "collapsed": true
   },
   "outputs": [],
   "source": [
    "# Replaces header with amended header.\n",
    "\n",
    "header = \"###sequence_id\tabundance\tV-gene\tD-gene\tJ-gene\tV_E-value\tD_E-value\t\" + \\\n",
    "        \"J_E-value\tFR3_seq\tCDR3_seq\tFR4_seq\tconst_seq\tlen_FR3\tlen_CDR3\tlen_FR4\t\" + \\\n",
    "        \"len_const\tsequence_boundary_indices:FR1_CDR1_FR2_CDR2_FR3_CDR3_FR4\tlen_boundary\t\" + \\\n",
    "        \"stop_codon_present\tproductive_sequence\tAA_seq_whole_read\tmutation_positions\t\" + \\\n",
    "        \"germline_bases\tderived_bases\tmutation_density\tV_germline_identity\tleader_seq\t\" + \\\n",
    "        \"reads_per_molecule\tprimer_isotype\tsequence_reversed\tseq\tquality###\\n\"\n",
    "\n",
    "dirs = os.listdir('/Users/davidglass/antidengue/data/by_sample/')\n",
    "lines = []\n",
    "for file in dirs:\n",
    "    if (file.startswith('patient')):\n",
    "        with open (file, 'r') as f:\n",
    "            lines = f.readlines()\n",
    "        lines[0] = header\n",
    "        with open (file, 'w') as f:\n",
    "            f.writelines(lines)\n"
   ]
  },
  {
   "cell_type": "code",
   "execution_count": 39,
   "metadata": {
    "collapsed": true
   },
   "outputs": [],
   "source": [
    "def write_seq_and_quality(filename):\n",
    "    '''Takes a filename from a parsed_ig file, finds the corresponding fastq, and appends the\n",
    "    input file with sequence and quality information for each sequence.\n",
    "    \n",
    "    Parameters:\n",
    "        filename - the name of the parsed_igfile\n",
    "    '''\n",
    "    fastq_directory = '/Users/davidglass/antidengue/data/fastq/'\n",
    "    by_samples_directory = '/Users/davidglass/antidengue/data/by_sample/'\n",
    "    \n",
    "    last_underscore = filename.rfind('_')\n",
    "    fastq_file = filename[last_underscore + 1:] + '.fastq'\n",
    "    fastq_lines = []\n",
    "    parsed_lines = []\n",
    "    \n",
    "    with open (by_samples_directory + filename, 'r') as fi:\n",
    "        parsed_lines = fi.readlines()\n",
    "    with open (fastq_directory + fastq_file, 'r') as fi:\n",
    "        fastq_lines = fi.readlines()\n",
    "    for i in range(len(parsed_lines)):\n",
    "        if i != 0:\n",
    "            parsed_lines[i] = parsed_lines[i].strip('\\n') + \"\\t\" + \\\n",
    "                                fastq_lines[(i*4)-3].strip('\\n') + \"\\t\" + fastq_lines[(i*4)-1]\n",
    "    with open (by_samples_directory + filename, 'w') as fo:\n",
    "        for line in parsed_lines:\n",
    "            fo.write(line)"
   ]
  },
  {
   "cell_type": "code",
   "execution_count": 40,
   "metadata": {
    "collapsed": true
   },
   "outputs": [],
   "source": [
    "write_seq_and_quality('patient_148_time_ACUTE_sample_SRR2150126')"
   ]
  },
  {
   "cell_type": "code",
   "execution_count": 43,
   "metadata": {
    "collapsed": false
   },
   "outputs": [],
   "source": [
    "dirs = os.listdir('/Users/davidglass/antidengue/data/by_sample/')\n",
    "for file in dirs:\n",
    "    if (file.startswith('patient')):\n",
    "        write_seq_and_quality(file)"
   ]
  },
  {
   "cell_type": "code",
   "execution_count": null,
   "metadata": {
    "collapsed": true
   },
   "outputs": [],
   "source": []
  }
 ],
 "metadata": {
  "kernelspec": {
   "display_name": "Python 3",
   "language": "python",
   "name": "python3"
  },
  "language_info": {
   "codemirror_mode": {
    "name": "ipython",
    "version": 3
   },
   "file_extension": ".py",
   "mimetype": "text/x-python",
   "name": "python",
   "nbconvert_exporter": "python",
   "pygments_lexer": "ipython3",
   "version": "3.5.1"
  }
 },
 "nbformat": 4,
 "nbformat_minor": 0
}
