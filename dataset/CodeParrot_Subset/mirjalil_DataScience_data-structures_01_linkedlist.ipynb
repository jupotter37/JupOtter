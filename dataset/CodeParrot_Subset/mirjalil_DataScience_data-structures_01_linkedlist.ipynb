{
 "cells": [
  {
   "cell_type": "markdown",
   "metadata": {},
   "source": [
    "Linked List\n",
    "===========\n",
    "\n",
    "* Linear data structure (like an array)\n",
    "* Linked list is used when there is a memory issue (capacity limit)\n",
    "* Dynamically grows\n",
    "\n"
   ]
  },
  {
   "cell_type": "markdown",
   "metadata": {},
   "source": []
  },
  {
   "cell_type": "markdown",
   "metadata": {},
   "source": [
    "<img src=\"figs/linked-list.png\" width=400></img>"
   ]
  },
  {
   "cell_type": "markdown",
   "metadata": {},
   "source": [
    "## Class Node\n",
    "\n",
    "```c++\n",
    "class Node {\n",
    "    private:\n",
    "        int element;\n",
    "        Node *next_node;\n",
    "        \n",
    "    public:\n",
    "        Node(int = 0, Node * = nullptr);\n",
    "        int retrieve() const;\n",
    "        Node *next() const;\n",
    "}\n",
    "\n",
    "```\n",
    "\n",
    "**Constructor:**\n",
    "```c++\n",
    "Node:Node(int e, Node * n) {\n",
    "    element = e;\n",
    "    next_node = n;\n",
    "}\n",
    "```\n",
    "or\n",
    "```c++\n",
    "Node:Node(int e, Node * n):\n",
    "    element (e),\n",
    "    next_node (n) {\n",
    "    // empty constructor\n",
    "}\n",
    "\n",
    "```"
   ]
  },
  {
   "cell_type": "markdown",
   "metadata": {},
   "source": [
    "### Accessors\n",
    "\n",
    "```c++\n",
    "int Node::retrieve() const {\n",
    "    return element;\n",
    "}\n",
    "\n",
    "int *Node::next() const {\n",
    "    return next_node;\n",
    "}\n",
    "```"
   ]
  },
  {
   "cell_type": "markdown",
   "metadata": {},
   "source": [
    "## Class List\n",
    "\n",
    "```c++\n",
    "class List {\n",
    "    private:\n",
    "        Node *\n",
    "        \n",
    "    public:\n",
    "        \n",
    "        // Accessros \n",
    "        bool empty() const;\n",
    "        int get_front() const;\n",
    "        Node *head() const;\n",
    "        int size() const;\n",
    "        int count(int) const;\n",
    "        \n",
    "        // mutators\n",
    "        void push_front(int);\n",
    "        int pop_front();\n",
    "        void erase(int);\n",
    "        \n",
    "}\n",
    "```"
   ]
  },
  {
   "cell_type": "markdown",
   "metadata": {},
   "source": [
    "### Operations\n",
    "\n",
    "* insert  \n",
    "* "
   ]
  },
  {
   "cell_type": "markdown",
   "metadata": {},
   "source": [
    "#### empty()\n",
    "\n",
    "```c++\n",
    "bool List::empty() const {\n",
    "   return(list_head == nullptr);\n",
    "}\n",
    "```\n",
    "\n",
    "#### head()\n",
    "\n",
    "```c++\n",
    "Node *List::head() const {\n",
    "    if (list_head == nullptr) {\n",
    "        // throw exception;\n",
    "    }\n",
    "    return(list_head);\n",
    "}\n",
    "```\n",
    "\n",
    "#### get_front()\n",
    "\n",
    "```c++\n",
    "int List::get_front() const {\n",
    "    return head()->retrieve();\n",
    "}\n",
    "```"
   ]
  },
  {
   "cell_type": "markdown",
   "metadata": {},
   "source": [
    "### push_front(int)\n",
    "\n",
    "**Adding an element to the front**\n",
    "\n",
    "* Create a new node\n",
    "* Store the value in the new node\n",
    "* From the new node, point to the front of the existing list\n",
    "\n",
    "```c++\n",
    "void List::push_front(int n) {\n",
    "    if (empty()) {\n",
    "        list_head = new Node(n, nullptr);\n",
    "    }else{\n",
    "        list_head = new Node(n, head());\n",
    "    }\n",
    "}\n",
    "```\n",
    "\n",
    "* Shorter version \n",
    " \n",
    "```c++\n",
    "void List::push_front(int n) {\n",
    "    list_head = new Node(n, head());\n",
    "}\n",
    "```"
   ]
  },
  {
   "cell_type": "markdown",
   "metadata": {},
   "source": [
    "### pop_front()\n",
    "\n",
    "**Pop the first element of the list and remove it**\n",
    "\n",
    "```c++\n",
    "int List::pop_front() {\n",
    "    int e = front();\n",
    "    Node *ptr = list_head;\n",
    "    \n",
    "    list_head = head()->next();\n",
    "    delete(ptr);\n",
    "    return(e);\n",
    "}\n",
    "```"
   ]
  },
  {
   "cell_type": "markdown",
   "metadata": {},
   "source": [
    "### Stepping through a linked list\n",
    "\n",
    "```c++\n",
    "for (Node *ptr = head(); ptr != nullptr; ptr = ptr->next()) {\n",
    "    // so something\n",
    "}\n",
    "```"
   ]
  },
  {
   "cell_type": "markdown",
   "metadata": {},
   "source": [
    "### Counting instances\n",
    "\n",
    "* We need to step through the linked list\n",
    "\n",
    "```c++\n",
    "int List::count(int n) const {\n",
    "    int node_count = 0;\n",
    "    \n",
    "    for(Node *ptr=head(); ptr != nullptr; ptr=ptr->next()) {\n",
    "        if(ptr->retrieve() == n){\n",
    "            node_count++;\n",
    "        }\n",
    "    }\n",
    "    return(node_count);\n",
    "}\n",
    "```"
   ]
  },
  {
   "cell_type": "markdown",
   "metadata": {},
   "source": [
    "### Erasing matching elements\n",
    "\n",
    "```c++\n",
    "void List::erase(int n) {\n",
    "    Node *prev_ptr, *ptr;\n",
    "    for (Node *ptr=head(); ptr != nullptr; prev_ptr=ptr, ptr=ptr->next()) {\n",
    "        if (ptr->retrieve() == n) {\n",
    "            // ...\n",
    "            \n",
    "        }\n",
    "        Node *prev_ptr = ptr;\n",
    "    }\n",
    "}\n",
    "```"
   ]
  },
  {
   "cell_type": "markdown",
   "metadata": {},
   "source": [
    "## Example\n",
    "\n",
    "\n",
    "### Static allocation\n",
    "\n",
    "```c++\n",
    "int f() {\n",
    "    List mylist;\n",
    "\n",
    "    ls.push_front(3);\n",
    "    cout << ls.front() << endl;\n",
    "\n",
    "}\n",
    "```\n",
    "\n",
    "### Dynamic allocation\n",
    "\n",
    "```C++\n",
    "List *f() {\n",
    "    List *pls;\n",
    "\n",
    "    pls->\n",
    "\n",
    "}\n",
    "```\n"
   ]
  },
  {
   "cell_type": "markdown",
   "metadata": {
    "collapsed": true
   },
   "source": [
    "# Exceptions\n",
    "\n",
    "```c++\n",
    "class underflow {\n",
    "    // empty\n",
    "};\n",
    "\n",
    "...\n",
    "\n",
    "throw underflow();\n",
    "```"
   ]
  },
  {
   "cell_type": "code",
   "execution_count": null,
   "metadata": {
    "collapsed": true
   },
   "outputs": [],
   "source": []
  }
 ],
 "metadata": {
  "kernelspec": {
   "display_name": "Python 3",
   "language": "python",
   "name": "python3"
  },
  "language_info": {
   "codemirror_mode": {
    "name": "ipython",
    "version": 3
   },
   "file_extension": ".py",
   "mimetype": "text/x-python",
   "name": "python",
   "nbconvert_exporter": "python",
   "pygments_lexer": "ipython3",
   "version": "3.5.1"
  }
 },
 "nbformat": 4,
 "nbformat_minor": 0
}
