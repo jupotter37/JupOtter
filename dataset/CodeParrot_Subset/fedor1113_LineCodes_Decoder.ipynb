{
 "cells": [
  {
   "cell_type": "markdown",
   "metadata": {},
   "source": [
    "# Decode line codes in png graphs"
   ]
  },
  {
   "cell_type": "markdown",
   "metadata": {},
   "source": [
    "## Assumptions (format):\n",
    "* The clock is given and it is a red line on the top.\n",
    "* The signal line is black\n",
    "* ..."
   ]
  },
  {
   "cell_type": "code",
   "execution_count": 2,
   "metadata": {},
   "outputs": [
    {
     "name": "stdout",
     "output_type": "stream",
     "text": [
      "Requirement already satisfied: pypng in /home/fedor1113/anaconda3/lib/python3.6/site-packages\r\n"
     ]
    }
   ],
   "source": [
    "# Makes sure to install PyPNG image handling module\n",
    "import sys\n",
    "!{sys.executable} -m pip install pypng"
   ]
  },
  {
   "cell_type": "code",
   "execution_count": 3,
   "metadata": {},
   "outputs": [],
   "source": [
    "import png"
   ]
  },
  {
   "cell_type": "code",
   "execution_count": null,
   "metadata": {},
   "outputs": [],
   "source": []
  },
  {
   "cell_type": "code",
   "execution_count": 4,
   "metadata": {},
   "outputs": [],
   "source": [
    "r = png.Reader(\"ex.png\")\n",
    "t = r.asRGB()\n",
    "\n",
    "img = list(t[2])\n",
    "# print(img)"
   ]
  },
  {
   "cell_type": "markdown",
   "metadata": {},
   "source": [
    "## Outline\n",
    "The outline of the idea is:\n",
    "\n",
    "1. Find the red lines that represent parallel synchronization signal above\n",
    "2. Calculate their size\n",
    "3. \"Synchromize with rows below\" (according to the rules of the code)\n",
    "4. ...\n",
    "5. PROFIT!\n"
   ]
  },
  {
   "cell_type": "markdown",
   "metadata": {},
   "source": [
    "## !!! Things to keep in mind:\n",
    "1. deviations of red\n",
    "2. deviations of black\n",
    "3. noise - it might just break everything!\n",
    "4. beginning and end of image...\n",
    "5. ..."
   ]
  },
  {
   "cell_type": "markdown",
   "metadata": {},
   "source": [
    "A rather simple PNG we'll work with first:\n",
    "\n",
    "![PNG example - Manchester](ex.png)"
   ]
  },
  {
   "cell_type": "code",
   "execution_count": 5,
   "metadata": {},
   "outputs": [],
   "source": [
    "# Let us first define colour red\n",
    "# We'll work with RGB for colours\n",
    "# So for accepted variants we'll make a list of 3-lists.\n",
    "\n",
    "class colourlist(list):\n",
    "    \"\"\"Just lists of 3-lists with some fancy methods to work with RGB colours\n",
    "    \"\"\"\n",
    "    \n",
    "    def add_deviations(self, d=8): # Magical numbers are so magical!\n",
    "        \"\"\"Adds deviations for RGB colours to a given list.\n",
    "           Warning! Too huge - it takes forever.\n",
    "           \n",
    "           Input: list of 3-lists\n",
    "           Output: None (side-effects - changes the list)\n",
    "        \"\"\"\n",
    "    \n",
    "        #l = l[:] Nah, let's make it a method\n",
    "        l = self\n",
    "    \n",
    "        v = len(l)\n",
    "        max_deviation = d\n",
    "    \n",
    "        for i in range(v): # Iterate through the list of colours\n",
    "        \n",
    "            for j in range(-max_deviation, max_deviation+1): \n",
    "                # Actually it is the deviation.\n",
    "                \n",
    "                #for k in range(3): # RGB! (no \"a\"s here)\n",
    "                    \n",
    "                newcolour = self[i][:] # Take one of the original colours\n",
    "                newcolour[0] = abs(newcolour[0]+j) # Create a deviation\n",
    "                l.append(newcolour) \n",
    "                # Append new colour to the end of the list. \n",
    "                # <- Here it is changed!\n",
    "                for j in range(-max_deviation, max_deviation+1): \n",
    "                    # Work with all the possibilities with this d\n",
    "                    newcolour1 = newcolour[:]\n",
    "                    newcolour1[1] = abs(newcolour1[1]+j)\n",
    "                    l.append(newcolour1) \n",
    "                    # Append new colour to the end of the list. Yeah! \n",
    "                    # <- Here it is changed!\n",
    "                \n",
    "                    for j in range(-max_deviation, max_deviation+1): \n",
    "                        # Work with all the possibilities with this d\n",
    "                        newcolour2 = newcolour1[:]\n",
    "                        newcolour2[2] = abs(newcolour2[2]+j)\n",
    "                        l.append(newcolour2) # Append new colour to the end of the list. Yeah! \n",
    "                        # <- Here it is changed!\n",
    "    \n",
    "        return None\n",
    "\n",
    "def withinDeviation(colour, cl, d=20):\n",
    "    \"\"\"This is much more efficient!\n",
    "       Input: 3-list (colour), colourlist, int\n",
    "       Output: bool\n",
    "    \"\"\"\n",
    "    for el in cl:\n",
    "        if (abs(colour[0] - el[0]) <= d and \n",
    "            abs(colour[1] - el[1]) <= d and \n",
    "            abs(colour[2] - el[2]) <= d):\n",
    "            return True\n",
    "    return False\n",
    "\n",
    "\n",
    "\n",
    "accepted_colours = colourlist([[118, 58, 57], [97, 71, 36], [132, 56, 46], [132, 46, 47], [141, 51, 53]]) # ...\n",
    "\n",
    "#accepted_colours.add_deviations()\n",
    "\n",
    "# print(accepted_colours) # -check it! - or better don't - it is a biiiig list....\n",
    "\n",
    "# print(len(accepted_colours)) # That will take a while... Heh.."
   ]
  },
  {
   "cell_type": "code",
   "execution_count": 6,
   "metadata": {},
   "outputs": [
    {
     "name": "stdout",
     "output_type": "stream",
     "text": [
      "(1, 3)\n",
      "118 58 57\n",
      "array('B', [255, 245, 243, 118, 58, 57, 132, 46, 47, 133, 56, 46, 97, 71, 36, 141, 165, 105, 113, 186, 105, 103, 178, 96, 138, 168, 106, 95, 76, 36, 131, 55, 41, 130, 52, 40, 96, 72, 36, 140, 165, 108, 116, 184, 107, 107, 175, 98, 144, 165, 109, 98, 74, 38, 129, 55, 44, 127, 53, 40, 97, 71, 34, 141, 165, 105, 113, 186, 105, 103, 178, 96, 138, 168, 106, 95, 76, 36, 131, 55, 41, 130, 52, 40, 96, 72, 36, 144, 169, 112, 112, 180, 103, 111, 179, 102, 141, 162, 106, 98, 74, 38, 127, 53, 42, 131, 57, 44, 98, 72, 35, 140, 164, 104, 114, 187, 106, 103, 178, 96, 135, 165, 103, 94, 75, 35, 131, 55, 41, 132, 54, 42, 98, 74, 38, 134, 159, 102, 110, 178, 101, 110, 178, 101, 145, 166, 110, 98, 74, 38, 132, 58, 47, 127, 53, 40, 97, 71, 34, 145, 169, 109, 109, 182, 101, 107, 182, 100, 135, 165, 103, 95, 76, 36, 129, 53, 39, 134, 56, 44, 98, 74, 38, 134, 159, 102, 110, 178, 101, 110, 178, 101, 145, 166, 110, 98, 74, 38, 132, 58, 47, 127, 53, 40, 97, 71, 34, 141, 165, 105, 113, 186, 105, 103, 178, 96, 138, 168, 106, 95, 76, 36, 131, 55, 41, 130, 52, 40, 96, 72, 36, 140, 165, 108, 116, 184, 107, 107, 175, 98, 144, 165, 109, 98, 74, 38, 129, 55, 44, 127, 53, 40, 97, 71, 34, 145, 169, 109, 109, 182, 101, 107, 182, 100, 135, 165, 103, 95, 76, 36, 129, 53, 39, 134, 56, 44, 97, 73, 37, 139, 164, 107, 117, 185, 108, 107, 175, 98, 141, 162, 106, 97, 73, 37, 129, 55, 44, 129, 55, 42, 98, 72, 35, 140, 164, 104, 114, 187, 106, 103, 178, 96, 135, 165, 103, 94, 75, 35, 131, 55, 41, 132, 54, 42, 97, 73, 37, 139, 164, 107, 117, 185, 108, 107, 175, 98, 141, 162, 106, 97, 73, 37, 129, 55, 44, 129, 55, 42, 98, 72, 35, 140, 164, 104, 114, 187, 106, 103, 178, 96, 135, 165, 103, 94, 75, 35, 131, 55, 41, 132, 54, 42, 98, 74, 38, 134, 159, 102, 110, 178, 101, 110, 178, 101, 145, 166, 110, 98, 74, 38, 132, 58, 47, 127, 53, 40, 97, 71, 34, 141, 165, 105, 113, 186, 105, 103, 178, 96, 138, 168, 106, 95, 76, 36, 131, 55, 41, 130, 52, 40, 96, 72, 36, 140, 165, 108, 116, 184, 107, 107, 175, 98, 144, 165, 109, 98, 74, 38, 129, 55, 44, 127, 53, 40, 97, 71, 34, 145, 169, 109, 109, 182, 101, 107, 182, 100, 135, 165, 103, 95, 76, 36, 129, 53, 39, 134, 56, 44, 98, 74, 38, 134, 159, 102, 110, 178, 101, 110, 178, 101, 145, 166, 110, 98, 74, 38, 132, 58, 47, 127, 53, 40, 97, 71, 34, 141, 165, 105, 113, 186, 105, 103, 178, 96, 138, 168, 106, 95, 76, 36, 131, 55, 41, 130, 52, 40, 96, 72, 36, 144, 169, 112, 112, 180, 103, 111, 179, 102, 141, 162, 106, 98, 74, 38, 127, 53, 42, 131, 57, 44, 97, 73, 37, 140, 164, 106, 117, 186, 106, 107, 176, 96, 141, 162, 103, 98, 73, 33, 131, 55, 39, 129, 56, 39, 97, 75, 36, 133, 161, 103, 109, 181, 107, 99, 181, 107, 113, 170, 115, 234, 255, 232, 245, 255, 241])\n"
     ]
    }
   ],
   "source": [
    "def find_first_pixel_of_colour(pixellist, accepted_deviations):\n",
    "    \"\"\"Returns the row and column of the pixel \n",
    "       in a converted to list with RGB colours PNG\n",
    "       \n",
    "       Input: ..., colourlist\n",
    "       Output: 2-tuple of int (or None)\n",
    "    \"\"\"\n",
    "    \n",
    "    accepted_deviations = accepted_deviations[:]\n",
    "    rows = len(pixellist)\n",
    "    cols = len(pixellist[0])\n",
    "    \n",
    "    for j in range(rows):\n",
    "        for i in range(0, cols, 3):\n",
    "            # if [pixellist[j][i], pixellist[j][i+1], pixellist[j][i+2]] in accepted_deviations:\n",
    "            if withinDeviation([pixellist[j][i], pixellist[j][i+1], pixellist[j][i+2]], accepted_deviations):\n",
    "                return (j, i)\n",
    "    \n",
    "    return None\n",
    "\n",
    "\n",
    "\n",
    "fr = find_first_pixel_of_colour(img, accepted_colours)\n",
    "\n",
    "if fr is None:\n",
    "    print(\"Warning a corrupt file or a wrong format!!!\")\n",
    "\n",
    "print(fr)\n",
    "print(img[fr[0]][fr[1]], img[fr[0]][fr[1]+1], img[fr[0]][fr[1]+2])\n",
    "print(img[fr[0]])"
   ]
  },
  {
   "cell_type": "code",
   "execution_count": 7,
   "metadata": {},
   "outputs": [],
   "source": [
    "# [133, 56, 46] in accepted_colours"
   ]
  },
  {
   "cell_type": "code",
   "execution_count": 8,
   "metadata": {},
   "outputs": [
    {
     "name": "stdout",
     "output_type": "stream",
     "text": [
      "5\n"
     ]
    }
   ],
   "source": [
    "# Let us now find the length of the red lines that represent the sync signal\n",
    "\n",
    "def find_next_pixel_in_row(pixel, row, accepted_deviations):\n",
    "    \"\"\"Returns the column of the next pixel of a given colour\n",
    "       (with deviations) in a row from a converted to list with RGB \n",
    "       colours PNG\n",
    "       \n",
    "       Input: 2-tuple of int, list of int with len%3==0, colourlist\n",
    "       Output: int (returns -1 specifically if none are found)\n",
    "    \"\"\"\n",
    "    \n",
    "    l = len(row)\n",
    "    \n",
    "    if pixel[1] >= l-1:\n",
    "        return -1\n",
    "    \n",
    "    for i in range(pixel[1]+3, l, 3):\n",
    "        # if [row[i], row[i+1], row[i+2]] in accepted_deviations:\n",
    "        if withinDeviation([row[i], row[i+1], row[i+2]], accepted_deviations):\n",
    "            return i\n",
    "    \n",
    "    return -1\n",
    "\n",
    "\n",
    "\n",
    "def colour_line_length(pixels, start, colour, deviations=20):\n",
    "\n",
    "    line_length = 1\n",
    "    pr = start[:]\n",
    "    r = (pr[0], \n",
    "         find_next_pixel_in_row(pr, pixels[pr[0]], colour[:]))\n",
    "    # print(pr, r)\n",
    "    if not(r[1] == pr[1]+3):\n",
    "        print(\"Ooops! Something went wrong!\")\n",
    "    else:\n",
    "        line_length += 1\n",
    "        while (r[1] == pr[1]+3):\n",
    "            pr = r\n",
    "            r = (pr[0], \n",
    "                 find_next_pixel_in_row(pr, \n",
    "                                        pixels[pr[0]], colour[:]))\n",
    "            line_length += 1\n",
    "    \n",
    "    return line_length\n",
    "\n",
    "\n",
    "\n",
    "line_length = colour_line_length(img, fr, accepted_colours, deviations=20)\n",
    "            \n",
    "print(line_length) # !!!"
   ]
  },
  {
   "cell_type": "markdown",
   "metadata": {},
   "source": [
    "**We found the sync (clock) line length in our graph!**"
   ]
  },
  {
   "cell_type": "code",
   "execution_count": 9,
   "metadata": {},
   "outputs": [
    {
     "name": "stdout",
     "output_type": "stream",
     "text": [
      "It is 5\n"
     ]
    }
   ],
   "source": [
    "print(\"It is\", line_length)"
   ]
  },
  {
   "cell_type": "markdown",
   "metadata": {},
   "source": [
    "Now the information transfer signal itself is ~\"black\", so we need to find the black colour range as well!"
   ]
  },
  {
   "cell_type": "code",
   "execution_count": 10,
   "metadata": {},
   "outputs": [
    {
     "name": "stdout",
     "output_type": "stream",
     "text": [
      "[[0, 0, 0], [0, 1, 0], [7, 2, 8]]\n"
     ]
    }
   ],
   "source": [
    "# Let's do just that\n",
    "\n",
    "black = colourlist([[0, 0, 0], [0, 1, 0], [7, 2, 8]])\n",
    "# black.add_deviations(60) # experimentally it is somewhere around that\n",
    "# experimentally the max deviation is somewhere around 60\n",
    "print(black)"
   ]
  },
  {
   "cell_type": "markdown",
   "metadata": {},
   "source": [
    "The signal we are currently interested in is *Manchester code* __(as per G.E. Thomas)__."
   ]
  },
  {
   "cell_type": "markdown",
   "metadata": {},
   "source": [
    "It is a self-clocking signal, but since we *do* have a clock with it - we use it)"
   ]
  },
  {
   "cell_type": "markdown",
   "metadata": {},
   "source": [
    "Let us find the height of the Manchester signal in our PNG - just because..."
   ]
  },
  {
   "cell_type": "code",
   "execution_count": 11,
   "metadata": {},
   "outputs": [],
   "source": [
    "fb = find_first_pixel_of_colour(img, black)"
   ]
  },
  {
   "cell_type": "code",
   "execution_count": 12,
   "metadata": {},
   "outputs": [],
   "source": [
    "def signal_height(pxls, fib):\n",
    "    signal_height = 1\n",
    "    # if ([img[fb[0]+1][fb[1]], img[fb[0]+1][fb[1]+1], img[fb[0]+1][fb[1]+2]] in black):\n",
    "    if withinDeviation([pxls[fib[0]+1][fib[1]], pxls[fib[0]+1][fib[1]+1]\n",
    "                        , pxls[fib[0]+1][fib[1]+2]], black, 60):\n",
    "        signal_height += 1\n",
    "        i = 2\n",
    "        rows = len(pxls)\n",
    "        # while([img[fb[0]+i][fb[1]], img[fb[0]+i][fb[1]+1], img[fb[0]+i][fb[1]+2]] in black):\n",
    "        while(withinDeviation([pxls[fib[0]+i][fib[1]]\n",
    "                               , pxls[fib[0]+i][fib[1]+1]\n",
    "                               , pxls[fib[0]+i][fib[1]+2]], black, 60)):\n",
    "            signal_height += 1\n",
    "            i += 1\n",
    "            if (i >= rows):\n",
    "                break\n",
    "    else:\n",
    "        print(\"\") # TO DO\n",
    "    return signal_height\n",
    "\n",
    "sheight = signal_height(img, fb)-1"
   ]
  },
  {
   "cell_type": "code",
   "execution_count": 13,
   "metadata": {},
   "outputs": [
    {
     "name": "stdout",
     "output_type": "stream",
     "text": [
      "8\n"
     ]
    }
   ],
   "source": [
    "print(sheight)"
   ]
  },
  {
   "cell_type": "code",
   "execution_count": 14,
   "metadata": {},
   "outputs": [],
   "source": [
    "# Let's quickly find the last red line\n",
    "..."
   ]
  },
  {
   "cell_type": "code",
   "execution_count": 15,
   "metadata": {
    "inputHidden": false,
    "outputHidden": false
   },
   "outputs": [],
   "source": [
    "def manchester(pixels, start, clock, \n",
    "               line_colour, d=60, inv=False):\n",
    "    \"\"\"Decodes Manchester code (as per G. E. Thomas) \n",
    "       (or with inv=True Manchester code\n",
    "       (as per IEEE 802.4)).\n",
    "       \n",
    "       Input: array of int with len%3==0 (- PNG pixels),\n",
    "             int, int, colourlist, int, bool (optional)\n",
    "       Output: str (of '1' and '0') or None\n",
    "    \"\"\"\n",
    "    \n",
    "    res = \"\"\n",
    "    \n",
    "    cols = len(pixels[0])\n",
    "    fb = find_first_pixel_of_colour(pixels, line_colour)\n",
    "    m = 2*clock*3-2*3 # Here be dragons!\n",
    "    # Hack: only check it using the upper line \n",
    "    # (or lack thereof)\n",
    "    \n",
    "    if not(inv):\n",
    "        for i in range(start, cols-2*3, m):\n",
    "            fromUP = withinDeviation([pixels[fb[0]][i-6], \n",
    "                              pixels[fb[0]][i-5], \n",
    "                              pixels[fb[0]][i-4]], \n",
    "                             line_colour, d)\n",
    "            if fromUP:\n",
    "                res = res + \"1\"\n",
    "            else:\n",
    "                res = res + \"0\"\n",
    "    else:\n",
    "        for i in range(start, cols-2*3, m):\n",
    "            fromUP = withinDeviation([pixels[fb[0]][i-6], \n",
    "                              pixels[fb[0]][i-5], \n",
    "                              pixels[fb[0]][i-4]], \n",
    "                             line_colour, d)\n",
    "            if cond:\n",
    "                res = res + \"0\"\n",
    "            else:\n",
    "                res = res + \"1\"\n",
    "    \n",
    "    return res"
   ]
  },
  {
   "cell_type": "code",
   "execution_count": 16,
   "metadata": {
    "inputHidden": false,
    "outputHidden": false
   },
   "outputs": [],
   "source": [
    "def nrz(pixels, start, clock, \n",
    "               line_colour, d=60, inv=False):\n",
    "    \"\"\"Decodes NRZ code\n",
    "       (or with inv=True its inversed version).\n",
    "       It is assumed that there is indeed a valid\n",
    "       NRZ code with a valid message.\n",
    "       \n",
    "       Input: array of int with len%3==0 (- PNG pixels),\n",
    "             int, int, colourlist, int, bool (optional)\n",
    "       Output: str (of '1' and '0') or (maybe?) None\n",
    "    \"\"\"\n",
    "    \n",
    "    res = \"\"\n",
    "    \n",
    "    cols = len(pixels[0])\n",
    "    fb = find_first_pixel_of_colour(pixels, line_colour)\n",
    "    m = 2*clock*3-2*3 # Here be dragons!\n",
    "    # Hack: only check it using the upper line \n",
    "    # (or lack thereof)\n",
    "    \n",
    "    if not(inv):\n",
    "        for i in range(start, cols, m):\n",
    "            UP = withinDeviation([pixels[fb[0]][i], \n",
    "                              pixels[fb[0]][i+1], \n",
    "                              pixels[fb[0]][i+2]], \n",
    "                             line_colour, d)\n",
    "            if UP:\n",
    "                res = res + \"1\"\n",
    "            else:\n",
    "                res = res + \"0\"\n",
    "    else:\n",
    "        for i in range(start, cols-2*3, m):\n",
    "            UP = withinDeviation([pixels[fb[0]][i], \n",
    "                              pixels[fb[0]][i+1], \n",
    "                              pixels[fb[0]][i+2]], \n",
    "                             line_colour, d)\n",
    "            if cond:\n",
    "                res = res + \"0\"\n",
    "            else:\n",
    "                res = res + \"1\"\n",
    "    \n",
    "    return res"
   ]
  },
  {
   "cell_type": "code",
   "execution_count": 41,
   "metadata": {
    "inputHidden": false,
    "outputHidden": false
   },
   "outputs": [],
   "source": [
    "def code2B1Q(pixels, start, clock=None, \n",
    "               line_colour=[[0, 0, 0]], d=60, inv=False):\n",
    "    \"\"\"Decodes 2B1Q code. The clock is not used - it\n",
    "       is for compatibility only - really, so put \n",
    "       anything there. Does _NOT_ always work!\n",
    "       \n",
    "       WARNING! Right now does not work AT ALL \n",
    "       (apart from one specific case)\n",
    "       \n",
    "       Input: array of int with len%3==0 (- PNG pixels),\n",
    "             int, *, colourlist, int\n",
    "       Output: str (of '1' and '0') or None\n",
    "    \"\"\"\n",
    "    \n",
    "    res = \"\"\n",
    "    \n",
    "    cols = len(pixels[0])\n",
    "    fb = find_first_pixel_of_colour(pixels, line_colour) # (11, 33)\n",
    "    # will only work if the first or second dibit is 0b11\n",
    "    ll = colour_line_length(pixels, fb, line_colour, deviations=20) # 10\n",
    "    sh = signal_height(pixels, fb) - 1 # 17 -1?\n",
    "    m = ll*3-2*3 # will only work if there is a transition\n",
    "    # (after the first dibit)\n",
    "    # We only need to check if the line is\n",
    "    # on the upper, middle upper or middle lower rows...\n",
    "    \n",
    "    for i in range(start, cols, m):\n",
    "        UP = withinDeviation([pixels[fb[0]][i], \n",
    "                              pixels[fb[0]][i+1], \n",
    "                              pixels[fb[0]][i+2]], \n",
    "                             line_colour, d)\n",
    "        DOWN = withinDeviation([pixels[fb[0]+sh][i], \n",
    "                              pixels[fb[0]+sh][i+1], \n",
    "                              pixels[fb[0]+sh][i+2]], \n",
    "                             line_colour, d)\n",
    "        almostUP = UP\n",
    "        # if UP:\n",
    "        #     res = res + \"10\"\n",
    "        if DOWN: # elif DOWN:\n",
    "            res = res + \"00\"\n",
    "            # print(\"00\")\n",
    "        elif almostUP:\n",
    "            res = res + \"11\"\n",
    "            # print(\"11\")\n",
    "        else:\n",
    "            res = res + \"01\"\n",
    "            # print(\"01\")\n",
    "    \n",
    "    return res"
   ]
  },
  {
   "cell_type": "code",
   "execution_count": 18,
   "metadata": {
    "scrolled": true
   },
   "outputs": [],
   "source": [
    "# A-a-and... here is magic!\n",
    "\n",
    "res = manchester(img, fr[1]+5*3, line_length, black, d=60, inv=False)"
   ]
  },
  {
   "cell_type": "code",
   "execution_count": 19,
   "metadata": {},
   "outputs": [],
   "source": [
    "ans = []\n",
    "for i in range(0, len(res), 8):\n",
    "    ans.append(int('0b'+res[i:i+8], 2))\n",
    "# print(ans)"
   ]
  },
  {
   "cell_type": "code",
   "execution_count": 20,
   "metadata": {},
   "outputs": [
    {
     "name": "stdout",
     "output_type": "stream",
     "text": [
      "242\n",
      "224\n",
      "236\n"
     ]
    }
   ],
   "source": [
    "for i in range(0, len(ans)):\n",
    "    print(ans[i])"
   ]
  },
  {
   "cell_type": "markdown",
   "metadata": {},
   "source": [
    "Huzzah!"
   ]
  },
  {
   "cell_type": "markdown",
   "metadata": {},
   "source": [
    "And _that_ is how we decode it."
   ]
  },
  {
   "cell_type": "markdown",
   "metadata": {},
   "source": [
    "Let us now look at some specific examples."
   ]
  },
  {
   "cell_type": "code",
   "execution_count": 21,
   "metadata": {
    "inputHidden": false,
    "outputHidden": false
   },
   "outputs": [],
   "source": [
    "# Here is a helper function to automate all that\n",
    "\n",
    "def parse_code(path_to_file, code, inv=False):\n",
    "    \"\"\"Guess what... Parses a line code PNG\n",
    "    \n",
    "       Input: str, function \n",
    "       (~coinsides with the name of the code)\n",
    "       Output: str (of '1' and '0') or (maybe?) None\n",
    "    \"\"\"\n",
    "    \n",
    "    r1 = png.Reader(path_to_file)\n",
    "    t1 = r1.asRGB()\n",
    "    img1 = list(t1[2])\n",
    "    fr1 = find_first_pixel_of_colour(img1, accepted_colours)\n",
    "    line_length1 = colour_line_length(img1, \n",
    "                                  fr1, accepted_colours, deviations=20)\n",
    "    \n",
    "    res1 = code(img1, fr1[1]+5*3, line_length1, black, d=60, inv=inv)\n",
    "    \n",
    "    return res1"
   ]
  },
  {
   "cell_type": "code",
   "execution_count": 22,
   "metadata": {
    "inputHidden": false,
    "outputHidden": false
   },
   "outputs": [],
   "source": [
    "def print_nums(bitesstr):\n",
    "    \"\"\"I hope you get the gist...\n",
    "       \n",
    "       Input: str\n",
    "       Output: list (side effects - prints...)\n",
    "    \"\"\"\n",
    "    \n",
    "    ans1 = []\n",
    "    for i in range(0, len(bitesstr), 8):\n",
    "        ans1.append(int('0b'+bitesstr[i:i+8], 2))\n",
    "    \n",
    "    for i in range(0, len(ans1)):\n",
    "        print(ans1[i])\n",
    "    \n",
    "    return ans1"
   ]
  },
  {
   "cell_type": "code",
   "execution_count": null,
   "metadata": {},
   "outputs": [],
   "source": []
  },
  {
   "cell_type": "markdown",
   "metadata": {},
   "source": [
    "## Manchester Code\n",
    "#### _(a rather tricky example)_"
   ]
  },
  {
   "cell_type": "markdown",
   "metadata": {},
   "source": [
    "Here is a tricky example of Manchester code - where we have ASCII '0's and '1's with which a 3-letter \"word\" is encoded."
   ]
  },
  {
   "cell_type": "markdown",
   "metadata": {},
   "source": [
    "![PNG - Manchester Tricky](Line_Code_PNGs/Manchester.png)"
   ]
  },
  {
   "cell_type": "code",
   "execution_count": 37,
   "metadata": {
    "inputHidden": false,
    "outputHidden": false
   },
   "outputs": [
    {
     "name": "stdout",
     "output_type": "stream",
     "text": [
      "49\n",
      "49\n",
      "49\n",
      "48\n",
      "49\n",
      "49\n",
      "49\n",
      "49\n",
      "49\n",
      "49\n",
      "49\n",
      "48\n",
      "49\n",
      "49\n",
      "48\n",
      "49\n",
      "49\n",
      "49\n",
      "49\n",
      "48\n",
      "49\n",
      "48\n",
      "49\n",
      "49\n"
     ]
    }
   ],
   "source": [
    "ans1 = print_nums(parse_code(\"Line_Code_PNGs/Manchester.png\", manchester))"
   ]
  },
  {
   "cell_type": "code",
   "execution_count": 24,
   "metadata": {
    "inputHidden": false,
    "outputHidden": false
   },
   "outputs": [
    {
     "name": "stdout",
     "output_type": "stream",
     "text": [
      "239\n",
      "237\n",
      "235\n"
     ]
    }
   ],
   "source": [
    "res2d = \"\"\n",
    "for i in range(0, len(ans1)):\n",
    "    res2d += chr(ans1[i])\n",
    "\n",
    "ans2d = []\n",
    "for i in range(0, len(res2d), 8):\n",
    "    print(int('0b'+res2d[i:i+8], 2))"
   ]
  },
  {
   "cell_type": "code",
   "execution_count": null,
   "metadata": {
    "inputHidden": false,
    "outputHidden": false
   },
   "outputs": [],
   "source": []
  },
  {
   "cell_type": "markdown",
   "metadata": {},
   "source": [
    "## NRZ"
   ]
  },
  {
   "cell_type": "markdown",
   "metadata": {},
   "source": [
    "![PNG - NRZ](Line_Code_PNGs/NRZ.png)"
   ]
  },
  {
   "cell_type": "code",
   "execution_count": 25,
   "metadata": {
    "inputHidden": false,
    "outputHidden": false
   },
   "outputs": [
    {
     "name": "stdout",
     "output_type": "stream",
     "text": [
      "237\n",
      "243\n",
      "241\n"
     ]
    }
   ],
   "source": [
    "ans2 = print_nums(parse_code(\"Line_Code_PNGs/NRZ.png\", nrz))\n"
   ]
  },
  {
   "cell_type": "code",
   "execution_count": null,
   "metadata": {
    "inputHidden": false,
    "outputHidden": false
   },
   "outputs": [],
   "source": []
  },
  {
   "cell_type": "markdown",
   "metadata": {},
   "source": [
    "## 2B1Q"
   ]
  },
  {
   "cell_type": "markdown",
   "metadata": {},
   "source": [
    "__Warning! 2B1Q is currently almost completely broken.__ Pull requests with correct solutions are welcome :)"
   ]
  },
  {
   "cell_type": "markdown",
   "metadata": {},
   "source": [
    "![PNG - 2B1Q](Line_Code_PNGs/2B1Q.png)"
   ]
  },
  {
   "cell_type": "code",
   "execution_count": 42,
   "metadata": {
    "inputHidden": false,
    "outputHidden": false,
    "scrolled": true
   },
   "outputs": [
    {
     "name": "stdout",
     "output_type": "stream",
     "text": [
      "49\n",
      "49\n",
      "49\n",
      "48\n",
      "49\n",
      "49\n",
      "48\n",
      "49\n",
      "49\n",
      "49\n",
      "49\n",
      "49\n",
      "48\n",
      "48\n",
      "48\n",
      "48\n",
      "49\n",
      "49\n",
      "49\n",
      "48\n",
      "49\n",
      "49\n",
      "48\n",
      "48\n"
     ]
    }
   ],
   "source": [
    "ans3 = print_nums(parse_code(\"Line_Code_PNGs/2B1Q.png\", code2B1Q))"
   ]
  },
  {
   "cell_type": "code",
   "execution_count": 43,
   "metadata": {
    "inputHidden": false,
    "outputHidden": false
   },
   "outputs": [
    {
     "name": "stdout",
     "output_type": "stream",
     "text": [
      "237\n",
      "240\n",
      "236\n"
     ]
    }
   ],
   "source": [
    "res2d3 = \"\"\n",
    "for i in range(0, len(ans3)):\n",
    "    res2d3 += chr(ans3[i])\n",
    "\n",
    "ans2d3 = []\n",
    "for i in range(0, len(res2d3), 8):\n",
    "    print(int('0b'+res2d3[i:i+8], 2))"
   ]
  },
  {
   "cell_type": "code",
   "execution_count": null,
   "metadata": {
    "inputHidden": false,
    "outputHidden": false
   },
   "outputs": [],
   "source": []
  }
 ],
 "metadata": {
  "kernel_info": {
   "name": "python3"
  },
  "kernelspec": {
   "display_name": "Python 3",
   "language": "python",
   "name": "python3"
  },
  "language_info": {
   "codemirror_mode": {
    "name": "ipython",
    "version": 3
   },
   "file_extension": ".py",
   "mimetype": "text/x-python",
   "name": "python",
   "nbconvert_exporter": "python",
   "pygments_lexer": "ipython3",
   "version": "3.6.3"
  },
  "nteract": {
   "version": "0.3.4"
  }
 },
 "nbformat": 4,
 "nbformat_minor": 2
}
