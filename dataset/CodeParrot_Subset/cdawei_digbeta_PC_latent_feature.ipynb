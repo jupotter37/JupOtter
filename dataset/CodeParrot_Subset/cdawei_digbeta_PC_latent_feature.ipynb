{
 "cells": [
  {
   "cell_type": "markdown",
   "metadata": {},
   "source": [
    "# Multi-label classification -- p-classification loss"
   ]
  },
  {
   "cell_type": "code",
   "execution_count": 1,
   "metadata": {},
   "outputs": [],
   "source": [
    "%matplotlib inline\n",
    "%load_ext line_profiler\n",
    "%load_ext autoreload\n",
    "%autoreload 2\n",
    "\n",
    "import os, sys, time\n",
    "import pickle as pkl\n",
    "import numpy as np\n",
    "import pandas as pd\n",
    "\n",
    "from scipy.optimize import minimize\n",
    "from scipy.optimize import check_grad\n",
    "from scipy.special import expit as sigmoid\n",
    "\n",
    "from sklearn.base import BaseEstimator\n",
    "from sklearn.pipeline import make_pipeline\n",
    "from sklearn.model_selection import train_test_split\n",
    "from sklearn.model_selection import GridSearchCV\n",
    "from sklearn.metrics import classification_report, make_scorer, label_ranking_loss\n",
    "\n",
    "import matplotlib.pyplot as plt\n",
    "import seaborn as sns\n",
    "from joblib import Parallel, delayed"
   ]
  },
  {
   "cell_type": "code",
   "execution_count": 14,
   "metadata": {},
   "outputs": [],
   "source": [
    "sys.path.append('src')\n",
    "from evaluate import avgPrecisionK, evaluatePrecision, evaluateF1, evaluateRankingLoss, f1_score_nowarn, calcLoss\n",
    "from datasets import create_dataset, dataset_names, nLabels_dict\n",
    "from PC import MLC_pclassification, obj_pclassification"
   ]
  },
  {
   "cell_type": "code",
   "execution_count": 3,
   "metadata": {},
   "outputs": [],
   "source": [
    "data_ix = 2"
   ]
  },
  {
   "cell_type": "code",
   "execution_count": 4,
   "metadata": {},
   "outputs": [
    {
     "name": "stdout",
     "output_type": "stream",
     "text": [
      "bibtex 159\n"
     ]
    }
   ],
   "source": [
    "dataset_name = dataset_names[data_ix]\n",
    "nLabels = nLabels_dict[dataset_name]\n",
    "print(dataset_name, nLabels)"
   ]
  },
  {
   "cell_type": "code",
   "execution_count": 5,
   "metadata": {},
   "outputs": [],
   "source": [
    "data_dir = 'data'\n",
    "SEED = 918273645\n",
    "fmodel_base = os.path.join(data_dir, 'pc-' + dataset_name + '-base.pkl')\n",
    "fmodel_prec = os.path.join(data_dir, 'pc-' + dataset_name + '-prec.pkl')\n",
    "fmodel_f1 = os.path.join(data_dir, 'pc-' + dataset_name + '-f1.pkl')"
   ]
  },
  {
   "cell_type": "markdown",
   "metadata": {},
   "source": [
    "Load data."
   ]
  },
  {
   "cell_type": "code",
   "execution_count": 6,
   "metadata": {},
   "outputs": [],
   "source": [
    "X_train, Y_train = create_dataset(dataset_name, train_data=True, shuffle=True, random_state=SEED)\n",
    "X_test,  Y_test  = create_dataset(dataset_name, train_data=False)"
   ]
  },
  {
   "cell_type": "markdown",
   "metadata": {},
   "source": [
    "Feature normalisation."
   ]
  },
  {
   "cell_type": "code",
   "execution_count": 7,
   "metadata": {},
   "outputs": [],
   "source": [
    "X_train_mean = np.mean(X_train, axis=0).reshape((1, -1))\n",
    "X_train_std = np.std(X_train, axis=0).reshape((1, -1)) + 10 ** (-6)\n",
    "X_train -= X_train_mean\n",
    "X_train /= X_train_std\n",
    "X_test  -= X_train_mean\n",
    "X_test  /= X_train_std"
   ]
  },
  {
   "cell_type": "code",
   "execution_count": 8,
   "metadata": {},
   "outputs": [],
   "source": [
    "def print_dataset_info(X_train, Y_train, X_test, Y_test):\n",
    "    N_train, D = X_train.shape\n",
    "    K = Y_train.shape[1]\n",
    "    N_test = X_test.shape[0]\n",
    "    print('%-45s %s' % ('Number of training examples:', '{:,}'.format(N_train)))\n",
    "    print('%-45s %s' % ('Number of test examples:', '{:,}'.format(N_test)))\n",
    "    print('%-45s %s' % ('Number of features:', '{:,}'.format(D)))\n",
    "    print('%-45s %s' % ('Number of labels:', '{:,}'.format(K)))\n",
    "    avgK_train = np.mean(np.sum(Y_train, axis=1))\n",
    "    avgK_test  = np.mean(np.sum(Y_test, axis=1))\n",
    "    print('%-45s %.3f (%.2f%%)' % ('Average number of positive labels (train):', avgK_train, 100*avgK_train / K))\n",
    "    print('%-45s %.3f (%.2f%%)' % ('Average number of positive labels (test):', avgK_test, 100*avgK_test / K))\n",
    "    #print('%-45s %.4f%%' % ('Average label occurrence (train):', np.mean(np.sum(Y_train, axis=0)) / N_train))\n",
    "    #print('%-45s %.4f%%' % ('Average label occurrence (test):', np.mean(np.sum(Y_test, axis=0)) / N_test))\n",
    "    print('%-45s %.3f%%' % ('Sparsity (percent) (train):', 100 * np.sum(Y_train) / np.prod(Y_train.shape)))\n",
    "    print('%-45s %.3f%%' % ('Sparsity (percent) (test):', 100 * np.sum(Y_test) / np.prod(Y_test.shape)))"
   ]
  },
  {
   "cell_type": "code",
   "execution_count": 9,
   "metadata": {},
   "outputs": [
    {
     "name": "stdout",
     "output_type": "stream",
     "text": [
      "Dataset:                                      bibtex\n",
      "Number of training examples:                  4,880\n",
      "Number of test examples:                      2,515\n",
      "Number of features:                           1,836\n",
      "Number of labels:                             159\n",
      "Average number of positive labels (train):    2.380 (1.50%)\n",
      "Average number of positive labels (test):     2.444 (1.54%)\n",
      "Sparsity (percent) (train):                   1.497%\n",
      "Sparsity (percent) (test):                    1.537%\n"
     ]
    }
   ],
   "source": [
    "print('%-45s %s' % ('Dataset:', dataset_name))\n",
    "print_dataset_info(X_train, Y_train, X_test, Y_test)"
   ]
  },
  {
   "cell_type": "markdown",
   "metadata": {},
   "source": [
    "## p-classification loss"
   ]
  },
  {
   "cell_type": "markdown",
   "metadata": {},
   "source": [
    "Multi-label learning with p-classification loss."
   ]
  },
  {
   "cell_type": "code",
   "execution_count": 10,
   "metadata": {},
   "outputs": [],
   "source": [
    "def obj_pc_latent(mu, Phi, Y, C, p, weighting=True):\n",
    "    \"\"\"\n",
    "        Objective with L2 regularisation and p-classification loss\n",
    "        \n",
    "        Input:\n",
    "            - mu: current latent features, flattened K x D\n",
    "            - Phi: label embeddings, K x D\n",
    "            - Y: label matrix, N x K\n",
    "            - C: regularisation constant, C = 1 / \\lambda\n",
    "            - p: constant for p-classification loss\n",
    "    \"\"\"\n",
    "    K, D = Phi.shape\n",
    "    N = Y.shape[0]\n",
    "    assert(mu.shape[0] == N * D)\n",
    "    assert(p >= 1)\n",
    "    assert(C > 0)\n",
    "    \n",
    "    Mu = mu.reshape(N, D)\n",
    "    \n",
    "    if weighting is True:\n",
    "        KPosAll = np.sum(Y, axis=1)  # number of positive labels for each example, N by 1\n",
    "        KNegAll = K - KPosAll        # number of negative labels for each example, N by 1\n",
    "    else:\n",
    "        KPosAll = np.ones(N)\n",
    "        KNegAll = np.ones(N)\n",
    "        \n",
    "    T1 = np.dot(Mu, Phi.T)  # N by K\n",
    "    OneN = np.ones(N)\n",
    "    OneK = np.ones(K)\n",
    "    P_diag = np.divide(1, KPosAll)  # N by 1\n",
    "    Q_diag = np.divide(1, KNegAll)  # N by 1\n",
    "    \n",
    "    T1p = np.multiply(Y, T1)\n",
    "    T2 = np.multiply(Y, np.exp(-T1p))\n",
    "    T3 = T2 * P_diag[:, None]  # N by K\n",
    "    \n",
    "    T1n = np.multiply(1-Y, T1)\n",
    "    T4 = np.multiply(1-Y, np.exp(p * T1n))\n",
    "    T5 = T4 * Q_diag[:, None]  # N by K\n",
    "    \n",
    "    J = np.dot(mu, mu) * 0.5 / C + np.dot(OneN, np.dot(T3 + T5/p, OneK)) / N\n",
    "    G = Mu / C + np.dot(T5 - T3, Phi) / N\n",
    "    \n",
    "    return (J, G.ravel())"
   ]
  },
  {
   "cell_type": "code",
   "execution_count": 11,
   "metadata": {},
   "outputs": [],
   "source": [
    "def obj_pc_latent_loop(mu, Phi, Y, C, p, weighting=True):\n",
    "    \"\"\"\n",
    "        Objective with L2 regularisation and p-classification loss\n",
    "        \n",
    "        Input:\n",
    "            - mu: current latent features, flattened K x D\n",
    "            - Phi: label embeddings, K x D\n",
    "            - Y: label matrix, N x K\n",
    "            - C: regularisation constant, C = 1 / \\lambda\n",
    "            - p: constant for p-classification loss\n",
    "    \"\"\"\n",
    "    K, D = Phi.shape\n",
    "    N = Y.shape[0]\n",
    "    assert(mu.shape[0] == N * D)\n",
    "    assert(p >= 1)\n",
    "    assert(C > 0)\n",
    "    \n",
    "    Mu = mu.reshape(N, D)\n",
    "    \n",
    "    J = 0.0  # cost\n",
    "    G = np.zeros_like(Mu)  # gradient matrix\n",
    "    if weighting is True:\n",
    "        KPosAll = np.sum(Y, axis=1)  # number of positive labels for each example, N by 1\n",
    "        KNegAll = K - KPosAll        # number of negative labels for each example, N by 1\n",
    "    else:\n",
    "        KPosAll = np.ones(N)\n",
    "        KNegAll = np.ones(N)\n",
    "        \n",
    "    for n in range(N):\n",
    "        for k in range(K):\n",
    "            if Y[n, k] == 1:\n",
    "                t1 = np.exp(-np.dot(Phi[k, :], Mu[n, :])) / KPosAll[n]\n",
    "                J += t1\n",
    "                G[n, :] = G[n, :] - Phi[k, :] * t1\n",
    "            else:\n",
    "                t2 = np.exp(p * np.dot(Phi[k, :], Mu[n, :])) / (p * KNegAll[n])\n",
    "                J += t2\n",
    "                G[n, :] = G[n, :] + Phi[k, :] * p * t2\n",
    "                \n",
    "    J = np.dot(mu, mu) * 0.5 / C + J / N\n",
    "    G = Mu / C + G / N\n",
    "    \n",
    "    return (J, G.ravel())"
   ]
  },
  {
   "cell_type": "markdown",
   "metadata": {},
   "source": [
    "Check gradient"
   ]
  },
  {
   "cell_type": "code",
   "execution_count": 12,
   "metadata": {},
   "outputs": [],
   "source": [
    "def avgF1(Y_true, Y_pred):\n",
    "    #THs = [0, 0.05, 0.10, 0.15, 0.2, 0.25, 0.30, 0.35, 0.4, 0.45, 0.5, 0.55, 0.60, 0.65, 0.70, 0.75]  # SPEN THs\n",
    "    THs = [0, 0.1, 0.2, 0.3, 0.4, 0.5, 0.6, 0.7, 0.8, 0.9]\n",
    "    F1 = Parallel(n_jobs=-1)(delayed(f1_score_nowarn)(Y_true, Y_pred >= th, average='samples') for th in THs)\n",
    "    bestix = np.argmax(F1)\n",
    "    print('\\nbest threshold: %g, best F1: %g, #examples: %g' % (THs[bestix], F1[bestix], Y_true.shape[0]))\n",
    "    return F1[bestix]"
   ]
  },
  {
   "cell_type": "code",
   "execution_count": 15,
   "metadata": {},
   "outputs": [],
   "source": [
    "clf = pkl.load(open(fmodel_f1, 'rb'))"
   ]
  },
  {
   "cell_type": "code",
   "execution_count": 19,
   "metadata": {},
   "outputs": [],
   "source": [
    "Phi = clf.best_estimator_.W"
   ]
  },
  {
   "cell_type": "code",
   "execution_count": null,
   "metadata": {},
   "outputs": [],
   "source": [
    "mu0 = 0.001 * np.random.randn(Y_train.shape[0] * Phi.shape[1])\n",
    "check_grad(lambda mu: obj_pc_latent(mu, Phi, Y_train, C=1, p=2)[0], \n",
    "           lambda mu: obj_pc_latent(mu, Phi, Y_train, C=1, p=2)[1], mu0)"
   ]
  },
  {
   "cell_type": "code",
   "execution_count": 21,
   "metadata": {},
   "outputs": [],
   "source": [
    "def cmp_loop_vec(func_loop, func_vec, Phi, Y, p=2):\n",
    "    print('%15s %15s %15s %15s %15s' % ('C','J_Diff', 'J_loop', 'J_vec', 'G_Diff'))\n",
    "    mu0 = 0.001 * np.random.randn(Y.shape[0] * Phi.shape[1])\n",
    "    for e in range(-6, 10):\n",
    "        C = 10**(e)\n",
    "        J,  G  = func_loop(mu0, Phi, Y, C, p=p)\n",
    "        J1, G1 = func_vec( mu0, Phi, Y, C, p=p)\n",
    "        Gdiff = G1 - G\n",
    "        print('%15g %15g %15g %15g %15g' % (C, J1 - J, J, J1, np.dot(Gdiff, Gdiff)))"
   ]
  },
  {
   "cell_type": "code",
   "execution_count": 22,
   "metadata": {},
   "outputs": [
    {
     "name": "stdout",
     "output_type": "stream",
     "text": [
      "              C          J_Diff          J_loop           J_vec          G_Diff\n",
      "          1e-06               0     4.47725e+06     4.47725e+06               0\n",
      "          1e-05               0          447726          447726     1.26218e-29\n",
      "         0.0001               0         44773.9         44773.9     1.92593e-34\n",
      "          0.001               0         4478.74         4478.74     7.30658e-32\n",
      "           0.01               0         449.224         449.224     4.72832e-33\n",
      "            0.1     1.42109e-14         46.2724         46.2724     6.14838e-34\n",
      "              1     1.15463e-14         5.97724         5.97724      5.4617e-35\n",
      "             10     1.19904e-14         1.94772         1.94772     5.67198e-36\n",
      "            100     1.19904e-14         1.54477         1.54477     5.97112e-37\n",
      "           1000     1.19904e-14         1.50448         1.50448     1.45938e-37\n",
      "          10000     1.19904e-14         1.50045         1.50045     1.16612e-37\n",
      "         100000     1.19904e-14         1.50004         1.50004     1.13834e-37\n",
      "          1e+06     1.19904e-14             1.5             1.5     1.13478e-37\n",
      "          1e+07     1.19904e-14             1.5             1.5     1.13446e-37\n",
      "          1e+08     1.19904e-14             1.5             1.5     1.13443e-37\n",
      "          1e+09     1.19904e-14             1.5             1.5     1.13443e-37\n"
     ]
    }
   ],
   "source": [
    "cmp_loop_vec(obj_pc_latent_loop, obj_pc_latent, Phi, Y_train, p=2)"
   ]
  },
  {
   "cell_type": "code",
   "execution_count": null,
   "metadata": {},
   "outputs": [],
   "source": [
    "class PC_latent(BaseEstimator):\n",
    "    \"\"\"All methods are necessary for a scikit-learn estimator\"\"\"\n",
    "    \n",
    "    def __init__(self, C=1, p=1, weighting=True):\n",
    "        \"\"\"Initialisation\"\"\"\n",
    "        \n",
    "        assert C >  0\n",
    "        assert p >= 1\n",
    "        self.C = C\n",
    "        self.p = p\n",
    "        self.weighting = weighting\n",
    "        self.obj_func = obj_pc_latent\n",
    "        self.trained = False\n",
    "        \n",
    "    def fit(self, Phi_train, Y_train):\n",
    "        \"\"\"Model fitting by optimising the objective\"\"\"\n",
    "        opt_method = 'L-BFGS-B' #'BFGS' #'Newton-CG'\n",
    "        options = {'disp': 1, 'maxiter': 10**5, 'maxfun': 10**5} # , 'iprint': 99}\n",
    "        sys.stdout.write('\\nC: %g, p: %g, weighting: %s' % (self.C, self.p, self.weighting))\n",
    "        sys.stdout.flush()\n",
    "        \n",
    "        K, D = Phi_train.shape\n",
    "        N = Y_train.shape[0]\n",
    "        mu0 = 0.001 * np.random.randn(K * D)\n",
    "        opt = minimize(self.obj_func, mu0, args=(Phi_train, Y_train, self.C, self.p, self.weighting), \\\n",
    "                       method=opt_method, jac=True, options=options)\n",
    "        if opt.success is True:\n",
    "            self.Mu = np.reshape(opt.x, (N, D))\n",
    "            self.trained = True\n",
    "        else:\n",
    "            sys.stderr.write('Optimisation failed')\n",
    "            print(opt.items())\n",
    "            self.trained = False\n",
    "            \n",
    "            \n",
    "    def decision_function(self, Phi_test):\n",
    "        \"\"\"Make predictions (score is real number)\"\"\"\n",
    "        \n",
    "        assert self.trained is True, \"Can't make prediction before training\"\n",
    "        return np.dot(self.Mu, Phi_test.T)  # log of prediction score\n",
    "        \n",
    "    \n",
    "    def predict(self, Phi_test):\n",
    "        return self.decision_function(Phi_test)\n",
    "    #    \"\"\"Make predictions (score is boolean)\"\"\"   \n",
    "    #    preds = sigmoid(self.decision_function(X_test))\n",
    "    #    #return (preds >= 0)\n",
    "    #    assert self.TH is not None\n",
    "    #    return preds >= self.TH        \n",
    "        \n",
    "    # inherit from BaseEstimator instead of re-implement\n",
    "    #\n",
    "    #def get_params(self, deep = True):\n",
    "    #def set_params(self, **params):"
   ]
  },
  {
   "cell_type": "code",
   "execution_count": null,
   "metadata": {},
   "outputs": [],
   "source": [
    "def dump_results(predictor, X_train, Y_train, X_test, Y_test, rankingLoss=False):\n",
    "    \"\"\"\n",
    "        Compute and save performance results\n",
    "    \"\"\"\n",
    "    preds_train = predictor.decision_function(X_train)\n",
    "    preds_test  = predictor.decision_function(X_test)\n",
    "    \n",
    "    print('Training set:')\n",
    "    perf_dict_train = evaluatePrecision(Y_train, preds_train, verbose=1)\n",
    "    print()\n",
    "    print('Test set:')\n",
    "    perf_dict_test = evaluatePrecision(Y_test, preds_test, verbose=1)\n",
    "    \n",
    "    if rankingLoss is True:\n",
    "        print()\n",
    "        print('Training set:')\n",
    "        perf_dict_train.update(evaluateRankingLoss(Y_train, preds_train))\n",
    "        print(label_ranking_loss(Y_train, preds_train))\n",
    "        print()\n",
    "        print('Test set:')\n",
    "        perf_dict_test.update(evaluateRankingLoss(Y_test, preds_test))\n",
    "        print(label_ranking_loss(Y_test, preds_test))"
   ]
  },
  {
   "cell_type": "code",
   "execution_count": null,
   "metadata": {
    "scrolled": true
   },
   "outputs": [],
   "source": [
    "#C_set = [1e-3, 3e-3, 0.01, 0.03, 0.1, 0.3, 1, 3, 10, 30, 100, 300]\n",
    "#C_set = [0.01, 0.03, 0.1, 0.3, 1, 3, 10, 30, 100]\n",
    "C_set = [0.01, 0.1, 1, 10, 30, 60, 90, 120, 150]\n",
    "p_set = [1, 2, 3]\n",
    "parameters = [{'C': C_set, 'p': p_set, 'weighting': [True]}]\n",
    "#scorer = {'Prec': make_scorer(avgPrecisionK)}\n",
    "scorer = {'F1': make_scorer(avgF1)}"
   ]
  },
  {
   "cell_type": "code",
   "execution_count": null,
   "metadata": {
    "scrolled": true
   },
   "outputs": [],
   "source": [
    "if not os.path.exists(fmodel_f1):\n",
    "    clf = GridSearchCV(MLC_pclassification(), parameters, scoring=scorer, cv=5, n_jobs=1, refit='F1')\n",
    "    clf.fit(X_train, Y_train)\n",
    "    pkl.dump(clf, open(fmodel_f1, 'wb'))\n",
    "else:\n",
    "    clf = pkl.load(open(fmodel_f1, 'rb'))"
   ]
  }
 ],
 "metadata": {
  "kernelspec": {
   "display_name": "Python 3",
   "language": "python",
   "name": "python3"
  },
  "language_info": {
   "codemirror_mode": {
    "name": "ipython",
    "version": 3
   },
   "file_extension": ".py",
   "mimetype": "text/x-python",
   "name": "python",
   "nbconvert_exporter": "python",
   "pygments_lexer": "ipython3",
   "version": "3.6.3"
  }
 },
 "nbformat": 4,
 "nbformat_minor": 2
}
