{
 "cells": [
  {
   "cell_type": "markdown",
   "metadata": {},
   "source": [
    "# Playing with MMAX2 coreference data in DiscourseGraphs"
   ]
  },
  {
   "cell_type": "code",
   "execution_count": 1,
   "metadata": {
    "collapsed": false
   },
   "outputs": [],
   "source": [
    "from discoursegraphs.readwrite import MMAXDocumentGraph\n",
    "from discoursegraphs import get_pointing_chains\n",
    "\n",
    "MMAX_FILE = '/home/arne/repos/pcc-annis-merged/maz176/coreference/maz-1423.mmax'"
   ]
  },
  {
   "cell_type": "code",
   "execution_count": 2,
   "metadata": {
    "collapsed": false
   },
   "outputs": [],
   "source": [
    "mdg = MMAXDocumentGraph(MMAX_FILE)"
   ]
  },
  {
   "cell_type": "markdown",
   "metadata": {},
   "source": [
    "## Extracting coreference chains"
   ]
  },
  {
   "cell_type": "code",
   "execution_count": 3,
   "metadata": {
    "collapsed": false
   },
   "outputs": [
    {
     "data": {
      "text/plain": [
       "[['markable_22',\n",
       "  'markable_19',\n",
       "  'markable_17',\n",
       "  'markable_14',\n",
       "  'markable_12',\n",
       "  'markable_11'],\n",
       " ['markable_21', 'markable_10', 'markable_8', 'markable_7', 'markable_2']]"
      ]
     },
     "execution_count": 3,
     "metadata": {},
     "output_type": "execute_result"
    }
   ],
   "source": [
    "get_pointing_chains(mdg)"
   ]
  },
  {
   "cell_type": "code",
   "execution_count": 4,
   "metadata": {
    "collapsed": false
   },
   "outputs": [
    {
     "name": "stdout",
     "output_type": "stream",
     "text": [
      "markable_22 {'mmax:dir_speech': 'text_level', 'mmax:np_form': 'ne', 'layers': set(['mmax', 'mmax:markable', 'mmax:primmark']), 'mmax:type': 'anaphoric', 'mmax:id': 'markable_22', 'mmax:anaphor_type': 'anaphor_nominal', 'mmax:grammatical_role': 'sbj', 'mmax:phrase_type': 'np', 'mmax:ambiguity': 'not_ambig', 'label': 'markable_22:primmark', 'mmax:span': 'word_180', 'mmax:anaphor_antecedent': 'markable_19', 'mmax:referentiality': 'referring', 'mmax:complex_np': 'no'} \n",
      "\n",
      "markable_19 {'mmax:dir_speech': 'text_level', 'mmax:np_form': 'ne', 'layers': set(['mmax', 'mmax:markable', 'mmax:primmark']), 'mmax:type': 'anaphoric', 'mmax:id': 'markable_19', 'mmax:anaphor_type': 'anaphor_nominal', 'mmax:grammatical_role': 'sbj', 'mmax:phrase_type': 'np', 'mmax:ambiguity': 'not_ambig', 'label': 'markable_19:primmark', 'mmax:span': 'word_160..word_161', 'mmax:anaphor_antecedent': 'markable_17', 'mmax:referentiality': 'referring', 'mmax:complex_np': 'no'} \n",
      "\n",
      "markable_17 {'mmax:dir_speech': 'text_level', 'mmax:np_form': 'ne', 'layers': set(['mmax', 'mmax:markable', 'mmax:primmark']), 'mmax:type': 'anaphoric', 'mmax:id': 'markable_17', 'mmax:anaphor_type': 'anaphor_nominal', 'mmax:grammatical_role': 'indir-obj', 'mmax:phrase_type': 'np', 'mmax:ambiguity': 'not_ambig', 'label': 'markable_17:primmark', 'mmax:span': 'word_149', 'mmax:anaphor_antecedent': 'markable_14', 'mmax:referentiality': 'referring', 'mmax:complex_np': 'no'} \n",
      "\n",
      "markable_14 {'layers': set(['mmax', 'mmax:primmark', 'mmax:markable']), 'mmax:dir_speech': 'text_level', 'mmax:type': 'anaphoric', 'mmax:id': 'markable_14', 'mmax:anaphor_type': 'anaphor_nominal', 'mmax:grammatical_role': 'sbj', 'mmax:ambiguity': 'not_ambig', 'label': 'markable_14:primmark', 'mmax:span': 'word_116', 'mmax:anaphor_antecedent': 'markable_12', 'mmax:phrase_type': 'np', 'mmax:np_form': 'ne', 'mmax:referentiality': 'referring', 'mmax:complex_np': 'no'} \n",
      "\n",
      "markable_12 {'mmax:dir_speech': 'text_level', 'mmax:np_form': 'defnp', 'layers': set(['mmax', 'mmax:markable', 'mmax:primmark']), 'mmax:type': 'anaphoric', 'mmax:id': 'markable_12', 'mmax:anaphor_type': 'anaphor_nominal', 'mmax:grammatical_role': 'other', 'mmax:phrase_type': 'pp', 'mmax:ambiguity': 'not_ambig', 'label': 'markable_12:primmark', 'mmax:span': 'word_101..word_103', 'mmax:anaphor_antecedent': 'markable_11', 'mmax:referentiality': 'referring', 'mmax:complex_np': 'no'} \n",
      "\n",
      "markable_11 {'layers': set(['mmax', 'mmax:primmark', 'mmax:markable']), 'mmax:dir_speech': 'text_level', 'mmax:type': 'none', 'mmax:id': 'markable_11', 'mmax:grammatical_role': 'other', 'mmax:ambiguity': 'not_ambig', 'label': 'markable_11:primmark', 'mmax:span': 'word_10', 'mmax:anaphor_antecedent': 'empty', 'mmax:phrase_type': 'np', 'mmax:np_form': 'ne', 'mmax:referentiality': 'discourse-new', 'mmax:complex_np': 'no'} \n",
      "\n",
      "markable_21 {'mmax:dir_speech': 'text_level', 'mmax:np_form': 'defnp', 'layers': set(['mmax', 'mmax:markable', 'mmax:primmark']), 'mmax:type': 'anaphoric', 'mmax:id': 'markable_21', 'mmax:anaphor_type': 'anaphor_nominal', 'mmax:grammatical_role': 'dir-obj', 'mmax:phrase_type': 'np', 'mmax:ambiguity': 'not_ambig', 'label': 'markable_21:primmark', 'mmax:span': 'word_177..word_178', 'mmax:anaphor_antecedent': 'markable_10', 'mmax:referentiality': 'referring', 'mmax:complex_np': 'no'} \n",
      "\n",
      "markable_10 {'layers': set(['mmax', 'mmax:primmark', 'mmax:markable']), 'mmax:dir_speech': 'text_level', 'mmax:type': 'anaphoric', 'mmax:id': 'markable_10', 'mmax:anaphor_type': 'anaphor_nominal', 'mmax:grammatical_role': 'sbj', 'mmax:ambiguity': 'not_ambig', 'label': 'markable_10:primmark', 'mmax:span': 'word_94..word_95', 'mmax:anaphor_antecedent': 'markable_8', 'mmax:phrase_type': 'np', 'mmax:np_form': 'defnp', 'mmax:referentiality': 'referring', 'mmax:complex_np': 'no'} \n",
      "\n",
      "markable_8 {'mmax:dir_speech': 'text_level', 'mmax:np_form': 'defnp', 'layers': set(['mmax', 'mmax:markable', 'mmax:primmark']), 'mmax:type': 'anaphoric', 'mmax:id': 'markable_8', 'mmax:anaphor_type': 'anaphor_nominal', 'mmax:grammatical_role': 'dir-obj', 'mmax:phrase_type': 'np', 'mmax:ambiguity': 'not_ambig', 'label': 'markable_8:primmark', 'mmax:span': 'word_73..word_74', 'mmax:anaphor_antecedent': 'markable_7', 'mmax:referentiality': 'referring', 'mmax:complex_np': 'no'} \n",
      "\n",
      "markable_7 {'layers': set(['mmax', 'mmax:primmark', 'mmax:markable']), 'mmax:dir_speech': 'text_level', 'mmax:type': 'anaphoric', 'mmax:id': 'markable_7', 'mmax:anaphor_type': 'anaphor_nominal', 'mmax:grammatical_role': 'other', 'mmax:ambiguity': 'not_ambig', 'label': 'markable_7:primmark', 'mmax:span': 'word_60..word_63', 'mmax:anaphor_antecedent': 'markable_2', 'mmax:phrase_type': 'pp', 'mmax:np_form': 'defnp', 'mmax:referentiality': 'referring', 'mmax:complex_np': 'no'} \n",
      "\n",
      "markable_2 {'layers': set(['mmax', 'mmax:primmark', 'mmax:markable']), 'mmax:dir_speech': 'text_level', 'mmax:type': 'none', 'mmax:id': 'markable_2', 'mmax:grammatical_role': 'sbj', 'mmax:ambiguity': 'not_ambig', 'label': 'markable_2:primmark', 'mmax:span': 'word_8..word_11', 'mmax:anaphor_antecedent': 'empty', 'mmax:phrase_type': 'np', 'mmax:np_form': 'defnp', 'mmax:referentiality': 'discourse-new', 'mmax:complex_np': 'no'} \n",
      "\n"
     ]
    }
   ],
   "source": [
    "for chain in get_pointing_chains(mdg):\n",
    "    for node_id in chain:\n",
    "        print node_id, mdg.node[node_id], '\\n'"
   ]
  },
  {
   "cell_type": "code",
   "execution_count": 5,
   "metadata": {
    "collapsed": false
   },
   "outputs": [
    {
     "name": "stdout",
     "output_type": "stream",
     "text": [
      "markable_22 Wittstock\n",
      "markable_19 die Dosse-Stadt\n",
      "markable_17 Wittstock\n",
      "markable_14 Wittstock\n",
      "markable_12 in der Region\n",
      "markable_11 Wittstocker\n",
      "\n",
      "\n",
      "markable_21 die Halle\n",
      "markable_10 Die Halle\n",
      "markable_8 die Halle\n",
      "markable_7 für den schmucken Veranstaltungsort\n",
      "markable_2 die neue Wittstocker Stadthalle\n",
      "\n",
      "\n"
     ]
    }
   ],
   "source": [
    "from discoursegraphs.readwrite.mmax2 import spanstring2text\n",
    "\n",
    "for chain in get_pointing_chains(mdg):\n",
    "    for node_id in chain:\n",
    "        print node_id, spanstring2text(mdg, mdg.node[node_id]['mmax:span'])\n",
    "    print '\\n'"
   ]
  },
  {
   "cell_type": "code",
   "execution_count": 6,
   "metadata": {
    "collapsed": false
   },
   "outputs": [
    {
     "name": "stdout",
     "output_type": "stream",
     "text": [
      "[]\n",
      "[('markable_22', 'markable_19', {'layers': set(['mmax', 'mmax:markable', 'mmax:primmark']), 'edge_type': 'points_to', 'label': 'mmax:antecedent'}), ('markable_22', 'word_180', {'layers': set(['mmax', 'mmax:markable', 'mmax:primmark']), 'edge_type': 'spans', 'label': 'mmax:primmark'})]\n",
      "[('markable_22', 'markable_19', {'layers': set(['mmax', 'mmax:markable', 'mmax:primmark']), 'edge_type': 'points_to', 'label': 'mmax:antecedent'})]\n",
      "[('markable_19', 'markable_17', {'layers': set(['mmax', 'mmax:markable', 'mmax:primmark']), 'edge_type': 'points_to', 'label': 'mmax:antecedent'}), ('markable_19', 'word_160', {'layers': set(['mmax', 'mmax:markable', 'mmax:primmark']), 'edge_type': 'spans', 'label': 'mmax:primmark'}), ('markable_19', 'word_161', {'layers': set(['mmax', 'mmax:markable', 'mmax:primmark']), 'edge_type': 'spans', 'label': 'mmax:primmark'})]\n",
      "[('markable_19', 'markable_17', {'layers': set(['mmax', 'mmax:markable', 'mmax:primmark']), 'edge_type': 'points_to', 'label': 'mmax:antecedent'})]\n",
      "[('markable_17', 'word_149', {'layers': set(['mmax', 'mmax:markable', 'mmax:primmark']), 'edge_type': 'spans', 'label': 'mmax:primmark'}), ('markable_17', 'markable_14', {'layers': set(['mmax', 'mmax:markable', 'mmax:primmark']), 'edge_type': 'points_to', 'label': 'mmax:antecedent'})]\n",
      "[('markable_17', 'markable_14', {'layers': set(['mmax', 'mmax:markable', 'mmax:primmark']), 'edge_type': 'points_to', 'label': 'mmax:antecedent'})]\n",
      "[('markable_14', 'markable_12', {'layers': set(['mmax', 'mmax:markable', 'mmax:primmark']), 'edge_type': 'points_to', 'label': 'mmax:antecedent'}), ('markable_14', 'word_116', {'layers': set(['mmax', 'mmax:markable', 'mmax:primmark']), 'edge_type': 'spans', 'label': 'mmax:primmark'})]\n",
      "[('markable_14', 'markable_12', {'layers': set(['mmax', 'mmax:markable', 'mmax:primmark']), 'edge_type': 'points_to', 'label': 'mmax:antecedent'})]\n",
      "[('markable_12', 'markable_11', {'layers': set(['mmax', 'mmax:markable', 'mmax:primmark']), 'edge_type': 'points_to', 'label': 'mmax:antecedent'}), ('markable_12', 'word_101', {'layers': set(['mmax', 'mmax:markable', 'mmax:primmark']), 'edge_type': 'spans', 'label': 'mmax:primmark'}), ('markable_12', 'word_102', {'layers': set(['mmax', 'mmax:markable', 'mmax:primmark']), 'edge_type': 'spans', 'label': 'mmax:primmark'}), ('markable_12', 'word_103', {'layers': set(['mmax', 'mmax:markable', 'mmax:primmark']), 'edge_type': 'spans', 'label': 'mmax:primmark'})]\n",
      "[('markable_12', 'markable_11', {'layers': set(['mmax', 'mmax:markable', 'mmax:primmark']), 'edge_type': 'points_to', 'label': 'mmax:antecedent'})]\n",
      "[('markable_11', 'word_10', {'layers': set(['mmax', 'mmax:markable', 'mmax:primmark']), 'edge_type': 'spans', 'label': 'mmax:primmark'})]\n",
      "[]\n",
      "[('markable_21', 'word_178', {'layers': set(['mmax', 'mmax:markable', 'mmax:primmark']), 'edge_type': 'spans', 'label': 'mmax:primmark'}), ('markable_21', 'markable_10', {'layers': set(['mmax', 'mmax:markable', 'mmax:primmark']), 'edge_type': 'points_to', 'label': 'mmax:antecedent'}), ('markable_21', 'word_177', {'layers': set(['mmax', 'mmax:markable', 'mmax:primmark']), 'edge_type': 'spans', 'label': 'mmax:primmark'})]\n",
      "[('markable_21', 'markable_10', {'layers': set(['mmax', 'mmax:markable', 'mmax:primmark']), 'edge_type': 'points_to', 'label': 'mmax:antecedent'})]\n",
      "[('markable_10', 'markable_8', {'layers': set(['mmax', 'mmax:markable', 'mmax:primmark']), 'edge_type': 'points_to', 'label': 'mmax:antecedent'}), ('markable_10', 'word_95', {'layers': set(['mmax', 'mmax:markable', 'mmax:primmark']), 'edge_type': 'spans', 'label': 'mmax:primmark'}), ('markable_10', 'word_94', {'layers': set(['mmax', 'mmax:markable', 'mmax:primmark']), 'edge_type': 'spans', 'label': 'mmax:primmark'})]\n",
      "[('markable_10', 'markable_8', {'layers': set(['mmax', 'mmax:markable', 'mmax:primmark']), 'edge_type': 'points_to', 'label': 'mmax:antecedent'})]\n",
      "[('markable_8', 'word_73', {'layers': set(['mmax', 'mmax:markable', 'mmax:primmark']), 'edge_type': 'spans', 'label': 'mmax:primmark'}), ('markable_8', 'word_74', {'layers': set(['mmax', 'mmax:markable', 'mmax:primmark']), 'edge_type': 'spans', 'label': 'mmax:primmark'}), ('markable_8', 'markable_7', {'layers': set(['mmax', 'mmax:markable', 'mmax:primmark']), 'edge_type': 'points_to', 'label': 'mmax:antecedent'})]\n",
      "[('markable_8', 'markable_7', {'layers': set(['mmax', 'mmax:markable', 'mmax:primmark']), 'edge_type': 'points_to', 'label': 'mmax:antecedent'})]\n",
      "[('markable_7', 'markable_2', {'layers': set(['mmax', 'mmax:markable', 'mmax:primmark']), 'edge_type': 'points_to', 'label': 'mmax:antecedent'}), ('markable_7', 'word_62', {'layers': set(['mmax', 'mmax:markable', 'mmax:primmark']), 'edge_type': 'spans', 'label': 'mmax:primmark'}), ('markable_7', 'word_63', {'layers': set(['mmax', 'mmax:markable', 'mmax:primmark']), 'edge_type': 'spans', 'label': 'mmax:primmark'}), ('markable_7', 'word_60', {'layers': set(['mmax', 'mmax:markable', 'mmax:primmark']), 'edge_type': 'spans', 'label': 'mmax:primmark'}), ('markable_7', 'word_61', {'layers': set(['mmax', 'mmax:markable', 'mmax:primmark']), 'edge_type': 'spans', 'label': 'mmax:primmark'})]\n",
      "[('markable_7', 'markable_2', {'layers': set(['mmax', 'mmax:markable', 'mmax:primmark']), 'edge_type': 'points_to', 'label': 'mmax:antecedent'})]\n",
      "[('markable_2', 'word_10', {'layers': set(['mmax', 'mmax:markable', 'mmax:primmark']), 'edge_type': 'spans', 'label': 'mmax:primmark'}), ('markable_2', 'word_9', {'layers': set(['mmax', 'mmax:markable', 'mmax:primmark']), 'edge_type': 'spans', 'label': 'mmax:primmark'}), ('markable_2', 'word_8', {'layers': set(['mmax', 'mmax:markable', 'mmax:primmark']), 'edge_type': 'spans', 'label': 'mmax:primmark'}), ('markable_2', 'word_11', {'layers': set(['mmax', 'mmax:markable', 'mmax:primmark']), 'edge_type': 'spans', 'label': 'mmax:primmark'})]\n"
     ]
    }
   ],
   "source": [
    "for chain in get_pointing_chains(mdg):\n",
    "    for node_id in chain:\n",
    "            print mdg.in_edges(node_id, data=True)\n",
    "            print mdg.out_edges(node_id, data=True)"
   ]
  },
  {
   "cell_type": "markdown",
   "metadata": {},
   "source": [
    "## Handling sentence annotatations"
   ]
  },
  {
   "cell_type": "code",
   "execution_count": 9,
   "metadata": {
    "collapsed": false
   },
   "outputs": [
    {
     "name": "stdout",
     "output_type": "stream",
     "text": [
      "markable_50012 {'mmax:span': 'word_125..word_135', 'mmax:id': 'markable_50012', 'label': 'markable_50012:sentence', 'tokens': ['word_125', 'word_126', 'word_127', 'word_128', 'word_129', 'word_130', 'word_131', 'word_132', 'word_133', 'word_134', 'word_135'], 'layers': set(['mmax', 'mmax:markable', 'mmax:sentence'])}\n",
      "markable_50013 {'mmax:span': 'word_136..word_155', 'mmax:id': 'markable_50013', 'label': 'markable_50013:sentence', 'tokens': ['word_136', 'word_137', 'word_138', 'word_139', 'word_140', 'word_141', 'word_142', 'word_143', 'word_144', 'word_145', 'word_146', 'word_147', 'word_148', 'word_149', 'word_150', 'word_151', 'word_152', 'word_153', 'word_154', 'word_155'], 'layers': set(['mmax', 'mmax:markable', 'mmax:sentence'])}\n",
      "markable_50010 {'mmax:span': 'word_108..word_115', 'mmax:id': 'markable_50010', 'label': 'markable_50010:sentence', 'tokens': ['word_108', 'word_109', 'word_110', 'word_111', 'word_112', 'word_113', 'word_114', 'word_115'], 'layers': set(['mmax', 'mmax:markable', 'mmax:sentence'])}\n",
      "markable_50011 {'mmax:span': 'word_116..word_124', 'mmax:id': 'markable_50011', 'label': 'markable_50011:sentence', 'tokens': ['word_116', 'word_117', 'word_118', 'word_119', 'word_120', 'word_121', 'word_122', 'word_123', 'word_124'], 'layers': set(['mmax', 'mmax:markable', 'mmax:sentence'])}\n",
      "markable_5008 {'mmax:span': 'word_94..word_99', 'mmax:id': 'markable_5008', 'label': 'markable_5008:sentence', 'tokens': ['word_94', 'word_95', 'word_96', 'word_97', 'word_98', 'word_99'], 'layers': set(['mmax', 'mmax:markable', 'mmax:sentence'])}\n",
      "markable_5009 {'mmax:span': 'word_100..word_107', 'mmax:id': 'markable_5009', 'label': 'markable_5009:sentence', 'tokens': ['word_100', 'word_101', 'word_102', 'word_103', 'word_104', 'word_105', 'word_106', 'word_107'], 'layers': set(['mmax', 'mmax:markable', 'mmax:sentence'])}\n",
      "markable_50015 {'mmax:span': 'word_176..word_185', 'mmax:id': 'markable_50015', 'label': 'markable_50015:sentence', 'tokens': ['word_176', 'word_177', 'word_178', 'word_179', 'word_180', 'word_181', 'word_182', 'word_183', 'word_184', 'word_185'], 'layers': set(['mmax', 'mmax:markable', 'mmax:sentence'])}\n",
      "markable_5005 {'mmax:span': 'word_58..word_66', 'mmax:id': 'markable_5005', 'label': 'markable_5005:sentence', 'tokens': ['word_58', 'word_59', 'word_60', 'word_61', 'word_62', 'word_63', 'word_64', 'word_65', 'word_66'], 'layers': set(['mmax', 'mmax:markable', 'mmax:sentence'])}\n",
      "markable_50014 {'mmax:span': 'word_156..word_175', 'mmax:id': 'markable_50014', 'label': 'markable_50014:sentence', 'tokens': ['word_156', 'word_157', 'word_158', 'word_159', 'word_160', 'word_161', 'word_162', 'word_163', 'word_164', 'word_165', 'word_166', 'word_167', 'word_168', 'word_169', 'word_170', 'word_171', 'word_172', 'word_173', 'word_174', 'word_175'], 'layers': set(['mmax', 'mmax:markable', 'mmax:sentence'])}\n",
      "markable_5000 {'mmax:span': 'word_1..word_2', 'mmax:id': 'markable_5000', 'label': 'markable_5000:sentence', 'tokens': ['word_1', 'word_2'], 'layers': set(['mmax', 'mmax:markable', 'mmax:sentence'])}\n",
      "markable_5001 {'mmax:span': 'word_3..word_24', 'mmax:id': 'markable_5001', 'label': 'markable_5001:sentence', 'tokens': ['word_3', 'word_4', 'word_5', 'word_6', 'word_7', 'word_8', 'word_9', 'word_10', 'word_11', 'word_12', 'word_13', 'word_14', 'word_15', 'word_16', 'word_17', 'word_18', 'word_19', 'word_20', 'word_21', 'word_22', 'word_23', 'word_24'], 'layers': set(['mmax', 'mmax:markable', 'mmax:sentence'])}\n",
      "markable_5002 {'mmax:span': 'word_25..word_33', 'mmax:id': 'markable_5002', 'label': 'markable_5002:sentence', 'tokens': ['word_25', 'word_26', 'word_27', 'word_28', 'word_29', 'word_30', 'word_31', 'word_32', 'word_33'], 'layers': set(['mmax', 'mmax:markable', 'mmax:sentence'])}\n",
      "markable_5003 {'mmax:span': 'word_34..word_45', 'mmax:id': 'markable_5003', 'label': 'markable_5003:sentence', 'tokens': ['word_34', 'word_35', 'word_36', 'word_37', 'word_38', 'word_39', 'word_40', 'word_41', 'word_42', 'word_43', 'word_44', 'word_45'], 'layers': set(['mmax', 'mmax:markable', 'mmax:sentence'])}\n",
      "markable_5006 {'mmax:span': 'word_67..word_81', 'mmax:id': 'markable_5006', 'label': 'markable_5006:sentence', 'tokens': ['word_67', 'word_68', 'word_69', 'word_70', 'word_71', 'word_72', 'word_73', 'word_74', 'word_75', 'word_76', 'word_77', 'word_78', 'word_79', 'word_80', 'word_81'], 'layers': set(['mmax', 'mmax:markable', 'mmax:sentence'])}\n",
      "markable_5007 {'mmax:span': 'word_82..word_93', 'mmax:id': 'markable_5007', 'label': 'markable_5007:sentence', 'tokens': ['word_82', 'word_83', 'word_84', 'word_85', 'word_86', 'word_87', 'word_88', 'word_89', 'word_90', 'word_91', 'word_92', 'word_93'], 'layers': set(['mmax', 'mmax:markable', 'mmax:sentence'])}\n",
      "markable_5004 {'mmax:span': 'word_46..word_57', 'mmax:id': 'markable_5004', 'label': 'markable_5004:sentence', 'tokens': ['word_46', 'word_47', 'word_48', 'word_49', 'word_50', 'word_51', 'word_52', 'word_53', 'word_54', 'word_55', 'word_56', 'word_57'], 'layers': set(['mmax', 'mmax:markable', 'mmax:sentence'])}\n"
     ]
    }
   ],
   "source": [
    "# only nodes that represent a sentence are part of the 'mmax:sentence' layer\n",
    "\n",
    "for node_id, node_attr in mdg_with_sents.nodes(data=True):\n",
    "    if 'mmax:sentence' in node_attr['layers']:\n",
    "        print node_id, node_attr"
   ]
  },
  {
   "cell_type": "markdown",
   "metadata": {},
   "source": [
    "# Test if ignore_sentence_annotations=True/False produces the same CoNLL output"
   ]
  },
  {
   "cell_type": "code",
   "execution_count": 11,
   "metadata": {
    "collapsed": false
   },
   "outputs": [],
   "source": [
    "import os\n",
    "\n",
    "MAZ_ROOTDIR = os.path.expanduser('~/repos/pcc-annis-merged/maz176/')\n",
    "COREF_DIR = os.path.join(MAZ_ROOTDIR, 'coreference')\n",
    "coref_files = !ls $COREF_DIR/*.mmax"
   ]
  },
  {
   "cell_type": "code",
   "execution_count": 17,
   "metadata": {
    "collapsed": false
   },
   "outputs": [],
   "source": [
    "from discoursegraphs.readwrite.conll import write_conll\n",
    "\n",
    "for coref_file in coref_files:\n",
    "    mdg_true = MMAXDocumentGraph(coref_file, ignore_sentence_annotations=True)\n",
    "    mdg_false = MMAXDocumentGraph(coref_file, ignore_sentence_annotations=False)\n",
    "    write_conll(mdg_true, os.path.join('/tmp/dg', os.path.basename(coref_file)+'.true'))\n",
    "    write_conll(mdg_false, os.path.join('/tmp/dg', os.path.basename(coref_file)+'.false'))"
   ]
  },
  {
   "cell_type": "code",
   "execution_count": null,
   "metadata": {
    "collapsed": false
   },
   "outputs": [],
   "source": [
    "If ignore_sentence_annotations=False, all sentence annotations are interpreted as coreferences by the CoNLL exporter!"
   ]
  }
 ],
 "metadata": {
  "kernelspec": {
   "display_name": "Python 2",
   "language": "python",
   "name": "python2"
  },
  "language_info": {
   "codemirror_mode": {
    "name": "ipython",
    "version": 2
   },
   "file_extension": ".py",
   "mimetype": "text/x-python",
   "name": "python",
   "nbconvert_exporter": "python",
   "pygments_lexer": "ipython2",
   "version": "2.7.6"
  }
 },
 "nbformat": 4,
 "nbformat_minor": 0
}
