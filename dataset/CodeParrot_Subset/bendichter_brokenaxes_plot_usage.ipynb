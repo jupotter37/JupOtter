{
  "nbformat": 4,
  "metadata": {
    "language_info": {
      "mimetype": "text/x-python",
      "name": "python",
      "nbconvert_exporter": "python",
      "version": "3.5.3",
      "pygments_lexer": "ipython3",
      "file_extension": ".py",
      "codemirror_mode": {
        "name": "ipython",
        "version": 3
      }
    },
    "kernelspec": {
      "language": "python",
      "name": "python3",
      "display_name": "Python 3"
    }
  },
  "nbformat_minor": 0,
  "cells": [
    {
      "cell_type": "code",
      "execution_count": null,
      "source": [
        "%matplotlib inline"
      ],
      "outputs": [],
      "metadata": {
        "collapsed": false
      }
    },
    {
      "cell_type": "markdown",
      "source": [
        "\nBasic usage\n===========\n\nThis example presents the basic usage of brokenaxes\n\n\n"
      ],
      "metadata": {}
    },
    {
      "cell_type": "code",
      "execution_count": null,
      "source": [
        "import matplotlib.pyplot as plt\nfrom brokenaxes import brokenaxes\nimport numpy as np\n\nfig = plt.figure(figsize=(5,2))\nbax = brokenaxes(xlims=((0, .1), (.4, .7)), ylims=((-1, .7), (.79, 1)), hspace=.05)\nx = np.linspace(0, 1, 100)\nbax.plot(x, np.sin(10 * x), label='sin')\nbax.plot(x, np.cos(10 * x), label='cos')\nbax.legend(loc=3)\nbax.set_xlabel('time')\nbax.set_ylabel('value')"
      ],
      "outputs": [],
      "metadata": {
        "collapsed": false
      }
    }
  ]
}