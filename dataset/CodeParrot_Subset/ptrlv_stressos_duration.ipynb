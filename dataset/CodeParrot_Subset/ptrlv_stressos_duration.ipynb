{
 "cells": [
  {
   "cell_type": "code",
   "execution_count": 14,
   "metadata": {
    "collapsed": true
   },
   "outputs": [],
   "source": [
    "import numpy as np\n",
    "import pandas as pd\n",
    "import matplotlib.pyplot as plt\n",
    "from matplotlib.ticker import FuncFormatter\n",
    "%matplotlib inline\n",
    "#plt.style.use('seaborn')\n",
    "\n",
    "from pandas import *\n",
    "from pandas.io.parsers import read_csv"
   ]
  },
  {
   "cell_type": "code",
   "execution_count": 18,
   "metadata": {},
   "outputs": [
    {
     "data": {
      "text/plain": [
       "0      0.316320\n",
       "1      0.241416\n",
       "2      0.298700\n",
       "3      0.270291\n",
       "4      0.258126\n",
       "5      0.290675\n",
       "6      0.273076\n",
       "7      0.259662\n",
       "8      0.267440\n",
       "9      0.252434\n",
       "10     0.266827\n",
       "11     0.340353\n",
       "12     0.253039\n",
       "13     0.270602\n",
       "14     0.279930\n",
       "15     0.245711\n",
       "16     0.279081\n",
       "17     0.253243\n",
       "18     0.262261\n",
       "19     0.274074\n",
       "20     0.273719\n",
       "21     0.245640\n",
       "22     0.268391\n",
       "23     0.239929\n",
       "24     0.304220\n",
       "25     0.275171\n",
       "26     0.267007\n",
       "27     0.291379\n",
       "28     0.313308\n",
       "29     0.239300\n",
       "         ...   \n",
       "970    0.259843\n",
       "971    0.226745\n",
       "972    0.458301\n",
       "973    0.248372\n",
       "974    0.180495\n",
       "975    0.230690\n",
       "976    0.197432\n",
       "977    0.225759\n",
       "978    0.236757\n",
       "979    0.263461\n",
       "980    0.241500\n",
       "981    0.257842\n",
       "982    0.263334\n",
       "983    0.332928\n",
       "984    0.297329\n",
       "985    0.273926\n",
       "986    0.288765\n",
       "987    0.238403\n",
       "988    0.260196\n",
       "989    0.237109\n",
       "990    0.239216\n",
       "991    0.196457\n",
       "992    0.240534\n",
       "993    0.226508\n",
       "994    0.227612\n",
       "995    0.229715\n",
       "996    0.267567\n",
       "997    0.245277\n",
       "998    0.274496\n",
       "999    0.183536\n",
       "Name: Duration, dtype: float64"
      ]
     },
     "execution_count": 18,
     "metadata": {},
     "output_type": "execute_result"
    }
   ],
   "source": [
    "lancs = read_csv('lancs-mar6.csv', index_col=False, header=0)\n",
    "mwt2 = read_csv('mwt2-mar6.csv', index_col=False, header=0)\n",
    "cern = read_csv('cern-mar6.csv', index_col=False, header=0)\n",
    "#lancs.describe().loc[['count','sum','mean','std']]\n",
    "#mwt2.describe().loc[['count','sum','mean','std']]\n",
    "#cern.describe().loc[['count','sum','mean','std']]\n",
    "len(lancs)\n",
    "len(mwt2)\n",
    "len(cern)\n",
    "lancs['Duration']"
   ]
  },
  {
   "cell_type": "code",
   "execution_count": 20,
   "metadata": {},
   "outputs": [
    {
     "data": {
      "text/plain": [
       "<matplotlib.axes._subplots.AxesSubplot at 0x7fdde8e6df60>"
      ]
     },
     "execution_count": 20,
     "metadata": {},
     "output_type": "execute_result"
    },
    {
     "data": {
      "image/png": "[encoded data removed]",
      "text/plain": [
       "<matplotlib.figure.Figure at 0x7fdde8e29e48>"
      ]
     },
     "metadata": {},
     "output_type": "display_data"
    }
   ],
   "source": [
    "#cs=cern[(cern<5e6)].dropna()\n",
    "#cs.sum()/1e9\n",
    "mwt2['Duration'].hist(label=['mwt2'], alpha=0.5)"
   ]
  },
  {
   "cell_type": "code",
   "execution_count": 34,
   "metadata": {},
   "outputs": [
    {
     "data": {
      "text/plain": [
       "range(0, 15)"
      ]
     },
     "execution_count": 34,
     "metadata": {},
     "output_type": "execute_result"
    }
   ],
   "source": [
    "range(0, 15)"
   ]
  },
  {
   "cell_type": "code",
   "execution_count": 42,
   "metadata": {},
   "outputs": [
    {
     "data": {
      "image/png": "[encoded data removed]",
      "text/plain": [
       "<matplotlib.figure.Figure at 0x7fdde9528048>"
      ]
     },
     "metadata": {},
     "output_type": "display_data"
    }
   ],
   "source": [
    "def objsize(x, pos):\n",
    "    'The two args are the value and tick position'\n",
    "    return '{:1.0f}'.format(x)\n",
    "fig, ax = plt.subplots(figsize=(9, 6))\n",
    "bins=100\n",
    "myrange=(0, 5)\n",
    "mwt2['Duration'].hist(ax=ax, bins=bins, label=['mwt2'], alpha=0.5, range=myrange)\n",
    "cern['Duration'].hist(ax=ax, bins=bins, label=['cern'], alpha=0.5, range=myrange)\n",
    "lancs['Duration'].hist(ax=ax, bins=bins, label=['lancs'], alpha=0.5, range=myrange)\n",
    "ax.set(title='Distribution of transfer duration', xlabel='Duration (s)', ylabel='Count')\n",
    "formatter = FuncFormatter(objsize)\n",
    "ax.set_xlim(myrange)\n",
    "#ax.set_yscale('log')\n",
    "ax.xaxis.set_major_formatter(formatter)\n",
    "ax.legend().set_visible(True)\n"
   ]
  },
  {
   "cell_type": "code",
   "execution_count": null,
   "metadata": {
    "collapsed": true
   },
   "outputs": [],
   "source": []
  }
 ],
 "metadata": {
  "kernelspec": {
   "display_name": "Python 3",
   "language": "python",
   "name": "python3"
  },
  "language_info": {
   "codemirror_mode": {
    "name": "ipython",
    "version": 3
   },
   "file_extension": ".py",
   "mimetype": "text/x-python",
   "name": "python",
   "nbconvert_exporter": "python",
   "pygments_lexer": "ipython3",
   "version": "3.6.1"
  }
 },
 "nbformat": 4,
 "nbformat_minor": 2
}
