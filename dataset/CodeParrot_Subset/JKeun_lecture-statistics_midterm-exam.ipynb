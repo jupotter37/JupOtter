{
 "cells": [
  {
   "cell_type": "markdown",
   "metadata": {},
   "source": [
    "## TEST 문제지\n",
    "- 시험시간 50분\n",
    "- 계산기 사용가능\n",
    "\n",
    "---"
   ]
  },
  {
   "cell_type": "markdown",
   "metadata": {},
   "source": [
    "### 문제1\n",
    "아래의 행렬의 곱셈을 계산하시오.\n",
    "\n",
    "$\\begin{bmatrix} 1 & 2 \\end{bmatrix} \\cdot \\begin{bmatrix} 1 & 2 \\\\ 3 & 4 \\end{bmatrix} \\cdot \\begin{bmatrix} 5 \\\\ 6 \\end{bmatrix} = $"
   ]
  },
  {
   "cell_type": "markdown",
   "metadata": {},
   "source": [
    "<br /><br /><br />"
   ]
  },
  {
   "cell_type": "markdown",
   "metadata": {},
   "source": [
    "### 문제2\n",
    "아래의 식을 미분하시오.\n",
    "\n",
    "$\\frac{d}{dx} ( 2x^2 + x + 7) = $"
   ]
  },
  {
   "cell_type": "markdown",
   "metadata": {},
   "source": [
    "<br /><br /><br />"
   ]
  },
  {
   "cell_type": "markdown",
   "metadata": {},
   "source": [
    "### 문제3\n",
    "각각 15, 20, 10, 18명으로 구성된 4개의 학급이 있다. 각 학급의 체중 평균이 63, 62, 66, 64kg 이라면 전체학생들의 평균 체중은 얼마인가 ?"
   ]
  },
  {
   "cell_type": "markdown",
   "metadata": {},
   "source": [
    "<br /><br /><br />"
   ]
  },
  {
   "cell_type": "markdown",
   "metadata": {},
   "source": [
    "### 문제4\n",
    "다음 자료에서 평균, 분산, 표준편차를 구하라. (모집단이라 가정)\n",
    "- 12, 6, 7, 3, 15, 10, 18, 5"
   ]
  },
  {
   "cell_type": "markdown",
   "metadata": {},
   "source": [
    "<br /><br /><br />"
   ]
  },
  {
   "cell_type": "markdown",
   "metadata": {},
   "source": [
    "### 문제5\n",
    "100명의 학생이 시험을 본 결과, 영어시험에서 60점 이상 받은 학생은 40명이었으며, 국어시험에서 60점 이상 받은 학생이 50명이었다. 영어시험과 국어시험 모두 60점 이상 받은 학생이 15명이라면, 최소한 한 과목에서 60점 이상을 받은 학생은 몇 명인가?"
   ]
  },
  {
   "cell_type": "markdown",
   "metadata": {},
   "source": [
    "<br /><br /><br /><br />"
   ]
  },
  {
   "cell_type": "markdown",
   "metadata": {},
   "source": [
    "### 문제6\n",
    "어느 대학 1학년에 입학한 한 학생이 경영과목에서 합격점수를 받을 확률은 2/3고, 경영학과 통계학 두 과목에서 모두 합격점수를 받을 확률은 1/2이다. 만일 그가 경영과목에 합격했음을 알고 있다면, 통계학과목에서 합격점수를 받았을 확률은 얼마인가? (단, 두 과목의 합격가능성은 서로 독립적이라고 하자.)"
   ]
  },
  {
   "cell_type": "markdown",
   "metadata": {},
   "source": [
    "<br /><br /><br /><br />"
   ]
  },
  {
   "cell_type": "markdown",
   "metadata": {},
   "source": [
    "### 문제7\n",
    "어느 사람이 밤중에 머리가 아파서 불을 켜지 않은 채 서랍에서 상비약을 꺼내 먹었다. 얼마 후 심한 두통 때문에 병원에 갔더니 의사가 약물중독이라고 한다. 그 서랍에는 아스피린이 든 병이 2개, 페니실린이 든 병이 1개 있었는데, 사람이 일반적으로 아스피린을 먹어서 그와 같은 증세가 일어날 확률이 5%이고, 페니실린을 먹어서 그러한 증세가 생길 가능성은 80%라한다. 그러면 그가 페니실린을 먹었을 확률은 얼마인가? (베이즈정리를 사용하라.)"
   ]
  },
  {
   "cell_type": "markdown",
   "metadata": {},
   "source": [
    "<br /><br /><br />"
   ]
  },
  {
   "cell_type": "markdown",
   "metadata": {},
   "source": [
    "### 문제8\n",
    "동전을 세 번 던질 때 앞면이 나올 확률변수의 확률분포는 다음의 표와 같다. 이 확률변수의 기댓값과 분산을 구하라.\n",
    "\n",
    "| 확률변수$(X_{i})$ | 확률 $P(X_{i})$ |\n",
    "|:---:|:---:|\n",
    "| 0 | 1/8 |\n",
    "| 1 | 3/8 |\n",
    "| 2 | 3/8 |\n",
    "| 3 | 1/8 |"
   ]
  },
  {
   "cell_type": "markdown",
   "metadata": {},
   "source": [
    "<br /><br /><br />"
   ]
  },
  {
   "cell_type": "markdown",
   "metadata": {},
   "source": [
    "### 문제9\n",
    "어느 변수의 확률분포에서 기댓값 $E(X)=50$, 표준편차 $\\sigma_X = 30$ 을 구하였다. 이 확률변수를 2배하여 새로운 확률변수를 만들 때, 기댓값과 표준편차는 어떻게 될까?"
   ]
  },
  {
   "cell_type": "markdown",
   "metadata": {},
   "source": [
    "<br /><br /><br />"
   ]
  },
  {
   "cell_type": "markdown",
   "metadata": {},
   "source": [
    "### 문제10\n",
    "문제8의 답을 이용하여 다음 확률분포의 기댓값과 분산을 구하라. (문제8 처럼 풀지 말고, 기대값의 특성을 이용할 것)\n",
    "\n",
    "| 확률변수$(X_{i})$ | 확률 $P(X_{i})$ |\n",
    "|:---:|:---:|\n",
    "| 5 | 1/8 |\n",
    "| 6 | 3/8 |\n",
    "| 7 | 3/8 |\n",
    "| 8 | 1/8 |"
   ]
  },
  {
   "cell_type": "markdown",
   "metadata": {},
   "source": [
    "<br />"
   ]
  },
  {
   "cell_type": "markdown",
   "metadata": {},
   "source": [
    "### 문제11\n",
    "동전을 네 번 던져서 앞면이 세 번 이하로 나올 확률은 얼마인가?"
   ]
  },
  {
   "cell_type": "markdown",
   "metadata": {},
   "source": [
    "<br /><br /><br />"
   ]
  },
  {
   "cell_type": "markdown",
   "metadata": {},
   "source": [
    "### 문제12\n",
    "A 공장의 제품은 70%만이 우량품이고, 30%는 불량품이라고 한다. 검사원이 임의로 100개를 선택했을 때 몇 개가 우량품일까? 기댓값과 분산을 구하라. ( 제품의 우량/불량 여부는 이항분포를 따른다. )"
   ]
  },
  {
   "cell_type": "markdown",
   "metadata": {},
   "source": [
    "<br /><br /><br />"
   ]
  },
  {
   "cell_type": "markdown",
   "metadata": {},
   "source": [
    "### 문제13\n",
    "A 초등학교 전교생의 IQ를 측정해 본 결과 평균 $\\mu = 100$, 표준편차 $\\sigma=10$ 이었다. 이 초등학교 학생들의 IQ분포가 정규분포를 이룬다고 가정할 때, IQ가 100에서 110 사이인 학생의 비율은 얼마나 될까? ( 표준정규분포표를 이용하여 답하세요. )"
   ]
  },
  {
   "cell_type": "markdown",
   "metadata": {},
   "source": [
    "<br /><br /><br />"
   ]
  },
  {
   "cell_type": "markdown",
   "metadata": {},
   "source": [
    "### 문제14\n",
    "우리나라 대학생들의 월평균 용돈이 얼마인지 알아보려고 한다. 100명을 임의로 선택한 결과, 그들의 평균이 282,000원이라는 것을 알았다. 모집단의 표준편차가 10만원이고, 모집단이 정규분포를 이룬다고 가정할 때 우리나라 대학생들의 평균 용돈의 95% 신뢰구간을 구하라."
   ]
  },
  {
   "cell_type": "markdown",
   "metadata": {},
   "source": [
    "<br /><br /><br />"
   ]
  },
  {
   "cell_type": "markdown",
   "metadata": {},
   "source": [
    "### 문제15\n",
    "다음은 가설검정의 과정을 풀어쓴 것이다. 가설검정의 결과를 해석하여 아래 ④번, ⑤번에서의 올바른 답에 체크하라.\n",
    "\n",
    "- 국내 아이돌그룹 멤버들의 평균 키를 알기 위하여, 16명의 아이돌그룹 멤버의 키를 표본조사하였더니 평균 키가 175cm 였다. 국내 아이돌그룹 전체의 평균 키에 대한 표준편차가 5cm 라고 하면, 국내 아이돌그룹 멤버의 평균 키가 180cm 이상이라고 할 수 있을까? 유의수준 ($\\alpha$) 을 5%로 하여 검정하라.\n",
    "\n",
    "$$\n",
    "\\begin{align}\n",
    "①&\\quad H_{0} : \\mu \\ge 180cm \\\\ \n",
    "&\\quad H_{a} : \\mu < 180cm \\\\\n",
    "②&\\quad \\alpha = 0.05 ( 5\\% ) \\\\\n",
    "③&\\quad 채택영역 : Z \\ge -1.64 \\\\\n",
    "&\\quad 기각영역 : Z < -1.64 \\\\\n",
    "④&\\quad 175cm에 대응하는 Z 값\\\\\n",
    "&\\quad Z = \\frac{\\bar{X}-\\mu_{\\bar{X}}}{\\sigma_{\\bar{X}}} = \\frac{175-180}{5/\\sqrt{16}} = \\frac{-5}{1.25} = -4 \\\\\n",
    "&\\quad Z = -4 는 -1.64보다 작아서 H_{0}를 ~ (~채택~ / ~기각~) ~ 한다. \\\\\n",
    "⑤& \\quad 위의 결과로부터 \\\\\n",
    "& \\quad 국내 아이돌그룹 멤버들의 평균 키가 180cm 이상이라고 할 수 ~(~있다~ / ~없다~ ) .\n",
    "\\end{align}\n",
    "$$"
   ]
  },
  {
   "cell_type": "markdown",
   "metadata": {},
   "source": [
    "### 문제16\n",
    "10명의 기능공이 일하는 공장에서 그들에게 생산성을 높이는 훈련을 실시하였다. 훈련시간의 정도에 따른 생산성을 예측하기 위해 회귀식을 구하고자 한다. 생산성은 하루에 만들 수 있는 제품의 수로 측정하였다.\n",
    "\n",
    "| 기능공 | 1 | 2 | 3 | 4 | 5 | 6 | 7 | 8 | 9 | 10 |\n",
    "| :---: | :---: | :---: | :---: | :---: | :---: | :---: | :---: | :---: | :---: | :---: |\n",
    "| 훈련시간 | 2 | 4 | 6 | 8 | 10 | 12 | 14 | 16 | 18 | 20 |\n",
    "| 생산성 | 10 | 14 | 17 | 19 | 21 | 22 | 24 | 26 | 24 | 23 |\n",
    "\n",
    "이를 통해 회귀식을 구한 결과가 아래와 같았다. 그렇다면 만일 기능공이 30시간의 훈련을 받는다면 그 사람의 예상 생산량은 얼마일까? \n",
    "\n",
    "$$\\hat{Y} = 11.75 + 0.75 X_i$$\n"
   ]
  }
 ],
 "metadata": {
  "kernelspec": {
   "display_name": "Python 3",
   "language": "python",
   "name": "python3"
  },
  "language_info": {
   "codemirror_mode": {
    "name": "ipython",
    "version": 3
   },
   "file_extension": ".py",
   "mimetype": "text/x-python",
   "name": "python",
   "nbconvert_exporter": "python",
   "pygments_lexer": "ipython3",
   "version": "3.5.1"
  }
 },
 "nbformat": 4,
 "nbformat_minor": 0
}
