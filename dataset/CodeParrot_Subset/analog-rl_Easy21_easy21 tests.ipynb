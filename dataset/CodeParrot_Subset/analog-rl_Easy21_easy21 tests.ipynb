{
 "cells": [
  {
   "cell_type": "code",
   "execution_count": 2,
   "metadata": {
    "collapsed": true
   },
   "outputs": [],
   "source": [
    "from easy21 import *"
   ]
  },
  {
   "cell_type": "markdown",
   "metadata": {},
   "source": [
    "# from 1st module"
   ]
  },
  {
   "cell_type": "heading",
   "metadata": {},
   "level": 2,
   "source": [
    "Test; Each draw from the deck results in a value between 1 and 10 (uniformly distributed)"
   ]
  },
  {
   "cell_type": "code",
   "execution_count": 4,
   "metadata": {},
   "outputs": [
    {
     "data": {
      "text/plain": [
       "<IPython.core.display.Javascript object>"
      ]
     },
     "execution_count": 0,
     "metadata": {},
     "output_type": "execute_result"
    },
    {
     "data": {
      "text/html": [
       "<div id='0bc29fc2-cc0b-439f-b3ee-faeb847160e7'></div>"
      ],
      "text/plain": [
       "<div id='0bc29fc2-cc0b-439f-b3ee-faeb847160e7'></div>"
      ]
     },
     "execution_count": 0,
     "metadata": {},
     "output_type": "execute_result"
    }
   ],
   "source": [
    "import matplotlib.pyplot as plt\n",
    "%matplotlib notebook\n",
    "plt.figure(1)\n",
    "\n",
    "values = []\n",
    "for i in xrange(0,100000):\n",
    "    values.append(Card().absolute_value)\n",
    "    # values.append(random.randint(1,10))\n",
    "\n",
    "plt.title('Test; Each draw from the deck results in a value between 1 and 10 (uniformly distributed)')\n",
    "plt.hist(values)\n",
    "  \n",
    "         # , c='g', s=20, alpha=0.25, label='true positive')\n",
    "plt.show()\n",
    "plt.savefig(\"#1-test1.png\")"
   ]
  },
  {
   "cell_type": "heading",
   "metadata": {},
   "level": 2,
   "source": [
    "Each draw from the deck results in a colour of red (probability 1/3) or black (probability 2/3)."
   ]
  },
  {
   "cell_type": "code",
   "execution_count": 6,
   "metadata": {},
   "outputs": [
    {
     "data": {
      "text/plain": [
       "<IPython.core.display.Javascript object>"
      ]
     },
     "execution_count": 0,
     "metadata": {},
     "output_type": "execute_result"
    },
    {
     "data": {
      "text/html": [
       "<div id='a761293b-97d0-49f0-b128-d42bbf37845f'></div>"
      ],
      "text/plain": [
       "<div id='a761293b-97d0-49f0-b128-d42bbf37845f'></div>"
      ]
     },
     "execution_count": 0,
     "metadata": {},
     "output_type": "execute_result"
    }
   ],
   "source": [
    "import matplotlib.pyplot as plt\n",
    "%matplotlib notebook\n",
    "plt.figure(2)\n",
    "\n",
    "values = []\n",
    "for i in xrange(0,100000):\n",
    "    if (Card().is_black):\n",
    "        values.append(0.6666666)\n",
    "    else:\n",
    "        values.append(0.3333333)\n",
    "\n",
    "plt.title('Test; red (probability 1/3) or black (probability 2/3)')\n",
    "plt.hist(values)\n",
    "  \n",
    "         # , c='g', s=20, alpha=0.25, label='true positive')\n",
    "plt.show()\n",
    "plt.savefig(\"#1-test2.png\")"
   ]
  },
  {
   "cell_type": "heading",
   "metadata": {},
   "level": 2,
   "source": [
    "Test: If the player’s sum exceeds 21, or becomes less than 1, then she “goes bust” and loses the game (reward -1)"
   ]
  },
  {
   "cell_type": "code",
   "execution_count": 14,
   "metadata": {},
   "outputs": [],
   "source": [
    "def play_test_player_bust():\n",
    "    s = State(Card(True),Card(True))\n",
    "    a = Actions.hit\n",
    "    e = Environment()\n",
    "    \n",
    "    while not s.term:\n",
    "        s, r = e.step(s, a)\n",
    "        # print (\"state = %s, %s, %s\" % (s.player, s.dealer, s.term))\n",
    "    return s, r"
   ]
  },
  {
   "cell_type": "code",
   "execution_count": 16,
   "metadata": {},
   "outputs": [
    {
     "data": {
      "text/plain": [
       "<IPython.core.display.Javascript object>"
      ]
     },
     "execution_count": 0,
     "metadata": {},
     "output_type": "execute_result"
    },
    {
     "data": {
      "text/html": [
       "<div id='d047ee47-4a93-4cf2-b5d5-f602f4684588'></div>"
      ],
      "text/plain": [
       "<div id='d047ee47-4a93-4cf2-b5d5-f602f4684588'></div>"
      ]
     },
     "execution_count": 0,
     "metadata": {},
     "output_type": "execute_result"
    }
   ],
   "source": [
    "import matplotlib.pyplot as plt\n",
    "%matplotlib notebook\n",
    "plt.figure(3)\n",
    "\n",
    "values = []\n",
    "for i in xrange(0,100000):\n",
    "    s, r = play_test_player_bust()\n",
    "    if s.player > 21:\n",
    "        values.append(1)\n",
    "    elif s.player < 1:\n",
    "        values.append(1)\n",
    "    else:\n",
    "        values.append(-1)\n",
    "        print \"error!!!!\"\n",
    "    \n",
    "\n",
    "plt.title('Test; player busts > 21 or <1')\n",
    "plt.hist(values)\n",
    "  \n",
    "         # , c='g', s=20, alpha=0.25, label='true positive')\n",
    "plt.show()\n",
    "plt.savefig(\"#1-test3.png\")"
   ]
  },
  {
   "cell_type": "heading",
   "metadata": {},
   "level": 2,
   "source": [
    "Test: If the player sticks then the dealer starts taking turns. The dealer always sticks on any sum of 17 or greater, and hits otherwise. If the dealer goes bust, then the player wins; otherwise, the outcome – win (reward +1), lose (reward -1), or draw (reward 0) – is the player with the largest sum."
   ]
  },
  {
   "cell_type": "code",
   "execution_count": 18,
   "metadata": {},
   "outputs": [],
   "source": [
    "def play_test_player_stick():\n",
    "    s = State(Card(True),Card(True))\n",
    "    a = Actions.hit\n",
    "    e = Environment()\n",
    "    \n",
    "    a = Actions.stick\n",
    "    while not s.term:\n",
    "        s, r = e.step(s, a)\n",
    "        # print (\"state = %s, %s, %s\" % (s.player, s.dealer, s.term))\n",
    "    return s, r"
   ]
  },
  {
   "cell_type": "code",
   "execution_count": 19,
   "metadata": {},
   "outputs": [
    {
     "data": {
      "text/plain": [
       "<IPython.core.display.Javascript object>"
      ]
     },
     "execution_count": 0,
     "metadata": {},
     "output_type": "execute_result"
    },
    {
     "data": {
      "text/html": [
       "<div id='97bbdd47-f142-425c-a63d-1a85de251679'></div>"
      ],
      "text/plain": [
       "<div id='97bbdd47-f142-425c-a63d-1a85de251679'></div>"
      ]
     },
     "execution_count": 0,
     "metadata": {},
     "output_type": "execute_result"
    }
   ],
   "source": [
    "import matplotlib.pyplot as plt\n",
    "%matplotlib notebook\n",
    "plt.figure(4)\n",
    "\n",
    "values = []\n",
    "for i in xrange(0,100000):\n",
    "    s, r = play_test_player_stick()\n",
    "    if s.dealer > 21 or s.dealer < 1:\n",
    "        if r == 1:\n",
    "            values.append(1)\n",
    "        else:\n",
    "            print \"error, player should have won\"\n",
    "            print (\"state = %s, %s, %s. result = %s\" % (s.player, s.dealer, s.term, r))\n",
    "            values.append(-1)\n",
    "    elif s.player == s.dealer:\n",
    "        if r == 0:\n",
    "            values.append(1)\n",
    "        else:\n",
    "            print \"error, player should have drawn\"\n",
    "            print (\"state = %s, %s, %s. result = %s\" % (s.player, s.dealer, s.term, r))\n",
    "            values.append(-2)\n",
    "    elif s.player > s.dealer:\n",
    "        if r == 1:\n",
    "            values.append(1)\n",
    "        else:\n",
    "            print \"error, player should have won\"\n",
    "            print (\"state = %s, %s, %s. result = %s\" % (s.player, s.dealer, s.term, r))\n",
    "            values.append(-3)\n",
    "    elif s.player < s.dealer:\n",
    "        if r == -1:\n",
    "            values.append(1)\n",
    "        else:\n",
    "            print \"error, player should have lost\"\n",
    "            print (\"state = %s, %s, %s. result = %s\" % (s.player, s.dealer, s.term, r))\n",
    "            values.append(-4)\n",
    "    else:\n",
    "        print \"all cases should have been dealt with\"\n",
    "        print (\"state = %s, %s, %s. result = %s\" % (s.player, s.dealer, s.term, r))\n",
    "        values.append(-5)\n",
    "\n",
    "    \n",
    "\n",
    "plt.title('Test; player sticks')\n",
    "plt.hist(values)\n",
    "plt.show()\n",
    "plt.savefig(\"#1-test4.png\")"
   ]
  },
  {
   "cell_type": "code",
   "execution_count": null,
   "metadata": {},
   "outputs": [],
   "source": [
    ""
   ]
  }
 ],
 "metadata": {
  "kernelspec": {
   "display_name": "Python 2",
   "language": "python",
   "name": "python2"
  },
  "language_info": {
   "codemirror_mode": {
    "name": "ipython",
    "version": 2.0
   },
   "file_extension": ".py",
   "mimetype": "text/x-python",
   "name": "python",
   "nbconvert_exporter": "python",
   "pygments_lexer": "ipython2",
   "version": "2.7.6"
  }
 },
 "nbformat": 4,
 "nbformat_minor": 0
}