{
 "cells": [
  {
   "cell_type": "code",
   "execution_count": 26,
   "metadata": {
    "collapsed": false,
    "deletable": true,
    "editable": true
   },
   "outputs": [
    {
     "name": "stdout",
     "output_type": "stream",
     "text": [
      "Using matplotlib backend: MacOSX\n",
      "Populating the interactive namespace from numpy and matplotlib\n"
     ]
    }
   ],
   "source": [
    "%pylab"
   ]
  },
  {
   "cell_type": "code",
   "execution_count": 27,
   "metadata": {
    "collapsed": true,
    "deletable": true,
    "editable": true
   },
   "outputs": [],
   "source": [
    "%matplotlib inline"
   ]
  },
  {
   "cell_type": "code",
   "execution_count": 28,
   "metadata": {
    "collapsed": true,
    "deletable": true,
    "editable": true
   },
   "outputs": [],
   "source": [
    "import pandas as pd\n",
    "\n",
    "import statsmodels.api as sm\n",
    "from statsmodels.formula.api import ols"
   ]
  },
  {
   "cell_type": "code",
   "execution_count": 29,
   "metadata": {
    "collapsed": false,
    "deletable": true,
    "editable": true
   },
   "outputs": [
    {
     "data": {
      "text/html": [
       "<div>\n",
       "<table border=\"1\" class=\"dataframe\">\n",
       "  <thead>\n",
       "    <tr style=\"text-align: right;\">\n",
       "      <th></th>\n",
       "      <th>expression</th>\n",
       "      <th>gene</th>\n",
       "      <th>strain</th>\n",
       "      <th>time</th>\n",
       "      <th>Bio</th>\n",
       "    </tr>\n",
       "  </thead>\n",
       "  <tbody>\n",
       "    <tr>\n",
       "      <th>0</th>\n",
       "      <td>0.036195</td>\n",
       "      <td>idr2</td>\n",
       "      <td>ura3</td>\n",
       "      <td>0</td>\n",
       "      <td>A</td>\n",
       "    </tr>\n",
       "    <tr>\n",
       "      <th>1</th>\n",
       "      <td>0.010887</td>\n",
       "      <td>idr2</td>\n",
       "      <td>ura3</td>\n",
       "      <td>5</td>\n",
       "      <td>A</td>\n",
       "    </tr>\n",
       "    <tr>\n",
       "      <th>2</th>\n",
       "      <td>0.005983</td>\n",
       "      <td>idr2</td>\n",
       "      <td>ura3</td>\n",
       "      <td>20</td>\n",
       "      <td>A</td>\n",
       "    </tr>\n",
       "    <tr>\n",
       "      <th>3</th>\n",
       "      <td>0.003750</td>\n",
       "      <td>idr2</td>\n",
       "      <td>ura3</td>\n",
       "      <td>60</td>\n",
       "      <td>A</td>\n",
       "    </tr>\n",
       "    <tr>\n",
       "      <th>4</th>\n",
       "      <td>0.042606</td>\n",
       "      <td>idr2</td>\n",
       "      <td>ura3</td>\n",
       "      <td>0</td>\n",
       "      <td>B</td>\n",
       "    </tr>\n",
       "  </tbody>\n",
       "</table>\n",
       "</div>"
      ],
      "text/plain": [
       "   expression  gene strain  time Bio\n",
       "0    0.036195  idr2   ura3     0   A\n",
       "1    0.010887  idr2   ura3     5   A\n",
       "2    0.005983  idr2   ura3    20   A\n",
       "3    0.003750  idr2   ura3    60   A\n",
       "4    0.042606  idr2   ura3     0   B"
      ]
     },
     "execution_count": 29,
     "metadata": {},
     "output_type": "execute_result"
    }
   ],
   "source": [
    "data = pd.read_csv(\"~/datamodified.csv\")\n",
    "data.head()"
   ]
  },
  {
   "cell_type": "code",
   "execution_count": 30,
   "metadata": {
    "collapsed": false,
    "deletable": true,
    "editable": true
   },
   "outputs": [
    {
     "data": {
      "text/html": [
       "<div>\n",
       "<table border=\"1\" class=\"dataframe\">\n",
       "  <thead>\n",
       "    <tr style=\"text-align: right;\">\n",
       "      <th></th>\n",
       "      <th>expression</th>\n",
       "      <th>gene</th>\n",
       "      <th>strain</th>\n",
       "      <th>time</th>\n",
       "      <th>Bio</th>\n",
       "      <th>dtror</th>\n",
       "      <th>didr1</th>\n",
       "      <th>didr2</th>\n",
       "      <th>dsirr</th>\n",
       "    </tr>\n",
       "  </thead>\n",
       "  <tbody>\n",
       "    <tr>\n",
       "      <th>0</th>\n",
       "      <td>0.036195</td>\n",
       "      <td>idr2</td>\n",
       "      <td>ura3</td>\n",
       "      <td>0</td>\n",
       "      <td>A</td>\n",
       "      <td>False</td>\n",
       "      <td>False</td>\n",
       "      <td>False</td>\n",
       "      <td>False</td>\n",
       "    </tr>\n",
       "    <tr>\n",
       "      <th>1</th>\n",
       "      <td>0.010887</td>\n",
       "      <td>idr2</td>\n",
       "      <td>ura3</td>\n",
       "      <td>5</td>\n",
       "      <td>A</td>\n",
       "      <td>False</td>\n",
       "      <td>False</td>\n",
       "      <td>False</td>\n",
       "      <td>False</td>\n",
       "    </tr>\n",
       "    <tr>\n",
       "      <th>2</th>\n",
       "      <td>0.005983</td>\n",
       "      <td>idr2</td>\n",
       "      <td>ura3</td>\n",
       "      <td>20</td>\n",
       "      <td>A</td>\n",
       "      <td>False</td>\n",
       "      <td>False</td>\n",
       "      <td>False</td>\n",
       "      <td>False</td>\n",
       "    </tr>\n",
       "    <tr>\n",
       "      <th>3</th>\n",
       "      <td>0.003750</td>\n",
       "      <td>idr2</td>\n",
       "      <td>ura3</td>\n",
       "      <td>60</td>\n",
       "      <td>A</td>\n",
       "      <td>False</td>\n",
       "      <td>False</td>\n",
       "      <td>False</td>\n",
       "      <td>False</td>\n",
       "    </tr>\n",
       "    <tr>\n",
       "      <th>4</th>\n",
       "      <td>0.042606</td>\n",
       "      <td>idr2</td>\n",
       "      <td>ura3</td>\n",
       "      <td>0</td>\n",
       "      <td>B</td>\n",
       "      <td>False</td>\n",
       "      <td>False</td>\n",
       "      <td>False</td>\n",
       "      <td>False</td>\n",
       "    </tr>\n",
       "  </tbody>\n",
       "</table>\n",
       "</div>"
      ],
      "text/plain": [
       "   expression  gene strain  time Bio  dtror  didr1  didr2  dsirr\n",
       "0    0.036195  idr2   ura3     0   A  False  False  False  False\n",
       "1    0.010887  idr2   ura3     5   A  False  False  False  False\n",
       "2    0.005983  idr2   ura3    20   A  False  False  False  False\n",
       "3    0.003750  idr2   ura3    60   A  False  False  False  False\n",
       "4    0.042606  idr2   ura3     0   B  False  False  False  False"
      ]
     },
     "execution_count": 30,
     "metadata": {},
     "output_type": "execute_result"
    }
   ],
   "source": [
    "data['dtror'] = data.strain == 'tror'\n",
    "data['didr1'] = data.strain == 'idr1'\n",
    "data['didr2'] = data.strain == 'idr2'\n",
    "data['dsirr'] = data.strain == 'sirr'\n",
    "\n",
    "data.head()"
   ]
  },
  {
   "cell_type": "code",
   "execution_count": 31,
   "metadata": {
    "collapsed": false,
    "deletable": true,
    "editable": true
   },
   "outputs": [
    {
     "data": {
      "text/plain": [
       "36"
      ]
     },
     "execution_count": 31,
     "metadata": {},
     "output_type": "execute_result"
    }
   ],
   "source": [
    "sum(data.gene=='tror')"
   ]
  },
  {
   "cell_type": "code",
   "execution_count": 32,
   "metadata": {
    "collapsed": false,
    "deletable": true,
    "editable": true
   },
   "outputs": [
    {
     "data": {
      "text/html": [
       "<div>\n",
       "<table border=\"1\" class=\"dataframe\">\n",
       "  <thead>\n",
       "    <tr style=\"text-align: right;\">\n",
       "      <th></th>\n",
       "      <th>expression</th>\n",
       "      <th>gene</th>\n",
       "      <th>strain</th>\n",
       "      <th>time</th>\n",
       "      <th>Bio</th>\n",
       "      <th>dtror</th>\n",
       "      <th>didr1</th>\n",
       "      <th>didr2</th>\n",
       "      <th>dsirr</th>\n",
       "      <th>normexpression</th>\n",
       "    </tr>\n",
       "  </thead>\n",
       "  <tbody>\n",
       "    <tr>\n",
       "      <th>0</th>\n",
       "      <td>0.036195</td>\n",
       "      <td>idr2</td>\n",
       "      <td>ura3</td>\n",
       "      <td>0</td>\n",
       "      <td>A</td>\n",
       "      <td>False</td>\n",
       "      <td>False</td>\n",
       "      <td>False</td>\n",
       "      <td>False</td>\n",
       "      <td>0.575864</td>\n",
       "    </tr>\n",
       "    <tr>\n",
       "      <th>1</th>\n",
       "      <td>0.010887</td>\n",
       "      <td>idr2</td>\n",
       "      <td>ura3</td>\n",
       "      <td>5</td>\n",
       "      <td>A</td>\n",
       "      <td>False</td>\n",
       "      <td>False</td>\n",
       "      <td>False</td>\n",
       "      <td>False</td>\n",
       "      <td>0.037007</td>\n",
       "    </tr>\n",
       "    <tr>\n",
       "      <th>2</th>\n",
       "      <td>0.005983</td>\n",
       "      <td>idr2</td>\n",
       "      <td>ura3</td>\n",
       "      <td>20</td>\n",
       "      <td>A</td>\n",
       "      <td>False</td>\n",
       "      <td>False</td>\n",
       "      <td>False</td>\n",
       "      <td>False</td>\n",
       "      <td>-0.231570</td>\n",
       "    </tr>\n",
       "    <tr>\n",
       "      <th>3</th>\n",
       "      <td>0.003750</td>\n",
       "      <td>idr2</td>\n",
       "      <td>ura3</td>\n",
       "      <td>60</td>\n",
       "      <td>A</td>\n",
       "      <td>False</td>\n",
       "      <td>False</td>\n",
       "      <td>False</td>\n",
       "      <td>False</td>\n",
       "      <td>-0.441094</td>\n",
       "    </tr>\n",
       "    <tr>\n",
       "      <th>4</th>\n",
       "      <td>0.042606</td>\n",
       "      <td>idr2</td>\n",
       "      <td>ura3</td>\n",
       "      <td>0</td>\n",
       "      <td>B</td>\n",
       "      <td>False</td>\n",
       "      <td>False</td>\n",
       "      <td>False</td>\n",
       "      <td>False</td>\n",
       "      <td>0.649012</td>\n",
       "    </tr>\n",
       "  </tbody>\n",
       "</table>\n",
       "</div>"
      ],
      "text/plain": [
       "   expression  gene strain  time Bio  dtror  didr1  didr2  dsirr  \\\n",
       "0    0.036195  idr2   ura3     0   A  False  False  False  False   \n",
       "1    0.010887  idr2   ura3     5   A  False  False  False  False   \n",
       "2    0.005983  idr2   ura3    20   A  False  False  False  False   \n",
       "3    0.003750  idr2   ura3    60   A  False  False  False  False   \n",
       "4    0.042606  idr2   ura3     0   B  False  False  False  False   \n",
       "\n",
       "   normexpression  \n",
       "0        0.575864  \n",
       "1        0.037007  \n",
       "2       -0.231570  \n",
       "3       -0.441094  \n",
       "4        0.649012  "
      ]
     },
     "execution_count": 32,
     "metadata": {},
     "output_type": "execute_result"
    }
   ],
   "source": [
    "data['normexpression'] = np.log2(data.expression)\n",
    "data['normexpression'] = (data['normexpression']-data['normexpression'].mean())/data['normexpression'].std()\n",
    "\n",
    "data.head()"
   ]
  },
  {
   "cell_type": "code",
   "execution_count": 33,
   "metadata": {
    "collapsed": false
   },
   "outputs": [],
   "source": [
    "g = data.groupby(['gene', 'time'])\n",
    "\n",
    "def scale(x):\n",
    "    x.normexpression = (x.normexpression - x.normexpression.mean())/x.normexpression.std()\n",
    "    return x\n",
    "\n",
    "data = g.apply(scale)"
   ]
  },
  {
   "cell_type": "code",
   "execution_count": 34,
   "metadata": {
    "collapsed": true,
    "deletable": true,
    "editable": true
   },
   "outputs": [],
   "source": [
    "def plotGene(g,time=None):\n",
    "    temp = data[data.gene==g]\n",
    "    \n",
    "    if not time is None:\n",
    "        temp = temp[temp.time==time]\n",
    "    \n",
    "    for i,d in enumerate(['dtror', 'didr1', 'didr2', 'dsirr']):\n",
    "        if d[1:] == g:\n",
    "            continue\n",
    "        \n",
    "        plt.subplot(1,4,i+1)\n",
    "        plt.title(d)\n",
    "        plt.boxplot([temp[temp[d]].normexpression, temp[~temp[d]].normexpression], labels=[d,'dura3'])\n",
    "        \n",
    "        \n",
    "    plt.tight_layout()"
   ]
  },
  {
   "cell_type": "code",
   "execution_count": 35,
   "metadata": {
    "collapsed": false,
    "deletable": true,
    "editable": true
   },
   "outputs": [
    {
     "data": {
      "image/png": "[encoded data removed]",
      "text/plain": [
       "<matplotlib.figure.Figure at 0x116920850>"
      ]
     },
     "metadata": {},
     "output_type": "display_data"
    }
   ],
   "source": [
    "plotGene('idr1',0)"
   ]
  },
  {
   "cell_type": "code",
   "execution_count": 36,
   "metadata": {
    "collapsed": false,
    "deletable": true,
    "editable": true
   },
   "outputs": [
    {
     "data": {
      "image/png": "[encoded data removed]",
      "text/plain": [
       "<matplotlib.figure.Figure at 0x11607e910>"
      ]
     },
     "metadata": {},
     "output_type": "display_data"
    }
   ],
   "source": [
    "plotGene('idr2',0)"
   ]
  },
  {
   "cell_type": "code",
   "execution_count": 37,
   "metadata": {
    "collapsed": false,
    "deletable": true,
    "editable": true
   },
   "outputs": [
    {
     "data": {
      "image/png": "[encoded data removed]",
      "text/plain": [
       "<matplotlib.figure.Figure at 0x116668610>"
      ]
     },
     "metadata": {},
     "output_type": "display_data"
    }
   ],
   "source": [
    "plotGene('sirr',0)"
   ]
  },
  {
   "cell_type": "code",
   "execution_count": 38,
   "metadata": {
    "collapsed": false,
    "deletable": true,
    "editable": true
   },
   "outputs": [
    {
     "data": {
      "image/png": "[encoded data removed]",
      "text/plain": [
       "<matplotlib.figure.Figure at 0x1167dd4d0>"
      ]
     },
     "metadata": {},
     "output_type": "display_data"
    }
   ],
   "source": [
    "plotGene('tror',0)"
   ]
  },
  {
   "cell_type": "code",
   "execution_count": 39,
   "metadata": {
    "collapsed": false,
    "deletable": true,
    "editable": true
   },
   "outputs": [],
   "source": [
    "# eq = 'expression ~ C(condition, Sum)*C(dsirr, Sum)' + \\\n",
    "#         '+ C(condition, Sum)*C(dtror, Sum) + ' + \\\n",
    "#         '+ C(condition, Sum)*C(didr1, Sum) + ' + \\\n",
    "#         '+ C(condition, Sum)*C(didr2, Sum) + '\n",
    "\n",
    "def eq(s):\n",
    "    e = 'normexpression ~'\n",
    "    \n",
    "    for d in ['dtror', 'didr1', 'didr2', 'dsirr']:\n",
    "        if d[1:] == s:\n",
    "            continue\n",
    "        e += 'C(%s, Sum) + '%d\n",
    "    return e[:-2]\n",
    "\n",
    "# eq = 'normexpression ~ C(dsirr, Sum)' + \\\n",
    "#         '+ C(dtror, Sum) + ' + \\\n",
    "#         '+ C(didr1, Sum) + ' + \\\n",
    "#         '+ C(didr2, Sum)'\n",
    "\n",
    "lm_idr1 = ols(eq('idr1'), data=data[(data.gene=='idr1') & (data.time==0)]).fit()\n",
    "lm_idr2 = ols(eq('idr2'), data=data[(data.gene=='idr2') & (data.time==0)]).fit()\n",
    "lm_sirr = ols(eq('sirr'), data=data[(data.gene=='sirr') & (data.time==0)]).fit()\n",
    "lm_tror = ols(eq('tror'), data=data[(data.gene=='tror') & (data.time==0)]).fit()"
   ]
  },
  {
   "cell_type": "code",
   "execution_count": 40,
   "metadata": {
    "collapsed": false,
    "deletable": true,
    "editable": true
   },
   "outputs": [
    {
     "data": {
      "text/html": [
       "<div>\n",
       "<table border=\"1\" class=\"dataframe\">\n",
       "  <thead>\n",
       "    <tr style=\"text-align: right;\">\n",
       "      <th></th>\n",
       "      <th>sum_sq</th>\n",
       "      <th>df</th>\n",
       "      <th>F</th>\n",
       "      <th>PR(&gt;F)</th>\n",
       "    </tr>\n",
       "  </thead>\n",
       "  <tbody>\n",
       "    <tr>\n",
       "      <th>C(dtror, Sum)</th>\n",
       "      <td>5.671535</td>\n",
       "      <td>1.0</td>\n",
       "      <td>30.886299</td>\n",
       "      <td>0.000536</td>\n",
       "    </tr>\n",
       "    <tr>\n",
       "      <th>C(didr2, Sum)</th>\n",
       "      <td>1.772915</td>\n",
       "      <td>1.0</td>\n",
       "      <td>9.655021</td>\n",
       "      <td>0.014506</td>\n",
       "    </tr>\n",
       "    <tr>\n",
       "      <th>C(dsirr, Sum)</th>\n",
       "      <td>0.130234</td>\n",
       "      <td>1.0</td>\n",
       "      <td>0.709236</td>\n",
       "      <td>0.424157</td>\n",
       "    </tr>\n",
       "    <tr>\n",
       "      <th>Residual</th>\n",
       "      <td>1.469010</td>\n",
       "      <td>8.0</td>\n",
       "      <td>NaN</td>\n",
       "      <td>NaN</td>\n",
       "    </tr>\n",
       "  </tbody>\n",
       "</table>\n",
       "</div>"
      ],
      "text/plain": [
       "                 sum_sq   df          F    PR(>F)\n",
       "C(dtror, Sum)  5.671535  1.0  30.886299  0.000536\n",
       "C(didr2, Sum)  1.772915  1.0   9.655021  0.014506\n",
       "C(dsirr, Sum)  0.130234  1.0   0.709236  0.424157\n",
       "Residual       1.469010  8.0        NaN       NaN"
      ]
     },
     "execution_count": 40,
     "metadata": {},
     "output_type": "execute_result"
    }
   ],
   "source": [
    "sm.stats.anova_lm(lm_idr1, typ=2)"
   ]
  },
  {
   "cell_type": "code",
   "execution_count": 41,
   "metadata": {
    "collapsed": false,
    "deletable": true,
    "editable": true
   },
   "outputs": [
    {
     "data": {
      "text/html": [
       "<table class=\"simpletable\">\n",
       "<caption>OLS Regression Results</caption>\n",
       "<tr>\n",
       "  <th>Dep. Variable:</th>     <td>normexpression</td>  <th>  R-squared:         </th> <td>   0.866</td>\n",
       "</tr>\n",
       "<tr>\n",
       "  <th>Model:</th>                   <td>OLS</td>       <th>  Adj. R-squared:    </th> <td>   0.816</td>\n",
       "</tr>\n",
       "<tr>\n",
       "  <th>Method:</th>             <td>Least Squares</td>  <th>  F-statistic:       </th> <td>   17.30</td>\n",
       "</tr>\n",
       "<tr>\n",
       "  <th>Date:</th>             <td>Mon, 15 May 2017</td> <th>  Prob (F-statistic):</th> <td>0.000740</td>\n",
       "</tr>\n",
       "<tr>\n",
       "  <th>Time:</th>                 <td>22:19:10</td>     <th>  Log-Likelihood:    </th> <td> -4.4254</td>\n",
       "</tr>\n",
       "<tr>\n",
       "  <th>No. Observations:</th>      <td>    12</td>      <th>  AIC:               </th> <td>   16.85</td>\n",
       "</tr>\n",
       "<tr>\n",
       "  <th>Df Residuals:</th>          <td>     8</td>      <th>  BIC:               </th> <td>   18.79</td>\n",
       "</tr>\n",
       "<tr>\n",
       "  <th>Df Model:</th>              <td>     3</td>      <th>                     </th>     <td> </td>   \n",
       "</tr>\n",
       "<tr>\n",
       "  <th>Covariance Type:</th>      <td>nonrobust</td>    <th>                     </th>     <td> </td>   \n",
       "</tr>\n",
       "</table>\n",
       "<table class=\"simpletable\">\n",
       "<tr>\n",
       "             <td></td>               <th>coef</th>     <th>std err</th>      <th>t</th>      <th>P>|t|</th> <th>[95.0% Conf. Int.]</th> \n",
       "</tr>\n",
       "<tr>\n",
       "  <th>Intercept</th>              <td>    0.6843</td> <td>    0.247</td> <td>    2.766</td> <td> 0.024</td> <td>    0.114     1.255</td>\n",
       "</tr>\n",
       "<tr>\n",
       "  <th>C(dtror, Sum)[S.False]</th> <td>   -0.9722</td> <td>    0.175</td> <td>   -5.558</td> <td> 0.001</td> <td>   -1.376    -0.569</td>\n",
       "</tr>\n",
       "<tr>\n",
       "  <th>C(didr2, Sum)[S.False]</th> <td>   -0.5436</td> <td>    0.175</td> <td>   -3.107</td> <td> 0.015</td> <td>   -0.947    -0.140</td>\n",
       "</tr>\n",
       "<tr>\n",
       "  <th>C(dsirr, Sum)[S.False]</th> <td>    0.1473</td> <td>    0.175</td> <td>    0.842</td> <td> 0.424</td> <td>   -0.256     0.551</td>\n",
       "</tr>\n",
       "</table>\n",
       "<table class=\"simpletable\">\n",
       "<tr>\n",
       "  <th>Omnibus:</th>       <td> 2.129</td> <th>  Durbin-Watson:     </th> <td>   2.631</td>\n",
       "</tr>\n",
       "<tr>\n",
       "  <th>Prob(Omnibus):</th> <td> 0.345</td> <th>  Jarque-Bera (JB):  </th> <td>   0.915</td>\n",
       "</tr>\n",
       "<tr>\n",
       "  <th>Skew:</th>          <td>-0.100</td> <th>  Prob(JB):          </th> <td>   0.633</td>\n",
       "</tr>\n",
       "<tr>\n",
       "  <th>Kurtosis:</th>      <td> 1.663</td> <th>  Cond. No.          </th> <td>    3.73</td>\n",
       "</tr>\n",
       "</table>"
      ],
      "text/plain": [
       "<class 'statsmodels.iolib.summary.Summary'>\n",
       "\"\"\"\n",
       "                            OLS Regression Results                            \n",
       "==============================================================================\n",
       "Dep. Variable:         normexpression   R-squared:                       0.866\n",
       "Model:                            OLS   Adj. R-squared:                  0.816\n",
       "Method:                 Least Squares   F-statistic:                     17.30\n",
       "Date:                Mon, 15 May 2017   Prob (F-statistic):           0.000740\n",
       "Time:                        22:19:10   Log-Likelihood:                -4.4254\n",
       "No. Observations:                  12   AIC:                             16.85\n",
       "Df Residuals:                       8   BIC:                             18.79\n",
       "Df Model:                           3                                         \n",
       "Covariance Type:            nonrobust                                         \n",
       "==========================================================================================\n",
       "                             coef    std err          t      P>|t|      [95.0% Conf. Int.]\n",
       "------------------------------------------------------------------------------------------\n",
       "Intercept                  0.6843      0.247      2.766      0.024         0.114     1.255\n",
       "C(dtror, Sum)[S.False]    -0.9722      0.175     -5.558      0.001        -1.376    -0.569\n",
       "C(didr2, Sum)[S.False]    -0.5436      0.175     -3.107      0.015        -0.947    -0.140\n",
       "C(dsirr, Sum)[S.False]     0.1473      0.175      0.842      0.424        -0.256     0.551\n",
       "==============================================================================\n",
       "Omnibus:                        2.129   Durbin-Watson:                   2.631\n",
       "Prob(Omnibus):                  0.345   Jarque-Bera (JB):                0.915\n",
       "Skew:                          -0.100   Prob(JB):                        0.633\n",
       "Kurtosis:                       1.663   Cond. No.                         3.73\n",
       "==============================================================================\n",
       "\n",
       "Warnings:\n",
       "[1] Standard Errors assume that the covariance matrix of the errors is correctly specified.\n",
       "\"\"\""
      ]
     },
     "execution_count": 41,
     "metadata": {},
     "output_type": "execute_result"
    }
   ],
   "source": [
    "lm_idr1.summary()"
   ]
  },
  {
   "cell_type": "code",
   "execution_count": 42,
   "metadata": {
    "collapsed": false,
    "deletable": true,
    "editable": true
   },
   "outputs": [
    {
     "data": {
      "text/html": [
       "<div>\n",
       "<table border=\"1\" class=\"dataframe\">\n",
       "  <thead>\n",
       "    <tr style=\"text-align: right;\">\n",
       "      <th></th>\n",
       "      <th>sum_sq</th>\n",
       "      <th>df</th>\n",
       "      <th>F</th>\n",
       "      <th>PR(&gt;F)</th>\n",
       "    </tr>\n",
       "  </thead>\n",
       "  <tbody>\n",
       "    <tr>\n",
       "      <th>C(dtror, Sum)</th>\n",
       "      <td>4.258075</td>\n",
       "      <td>1.0</td>\n",
       "      <td>21.892869</td>\n",
       "      <td>0.001584</td>\n",
       "    </tr>\n",
       "    <tr>\n",
       "      <th>C(didr1, Sum)</th>\n",
       "      <td>0.062492</td>\n",
       "      <td>1.0</td>\n",
       "      <td>0.321305</td>\n",
       "      <td>0.586372</td>\n",
       "    </tr>\n",
       "    <tr>\n",
       "      <th>C(dsirr, Sum)</th>\n",
       "      <td>0.875896</td>\n",
       "      <td>1.0</td>\n",
       "      <td>4.503413</td>\n",
       "      <td>0.066605</td>\n",
       "    </tr>\n",
       "    <tr>\n",
       "      <th>Residual</th>\n",
       "      <td>1.555968</td>\n",
       "      <td>8.0</td>\n",
       "      <td>NaN</td>\n",
       "      <td>NaN</td>\n",
       "    </tr>\n",
       "  </tbody>\n",
       "</table>\n",
       "</div>"
      ],
      "text/plain": [
       "                 sum_sq   df          F    PR(>F)\n",
       "C(dtror, Sum)  4.258075  1.0  21.892869  0.001584\n",
       "C(didr1, Sum)  0.062492  1.0   0.321305  0.586372\n",
       "C(dsirr, Sum)  0.875896  1.0   4.503413  0.066605\n",
       "Residual       1.555968  8.0        NaN       NaN"
      ]
     },
     "execution_count": 42,
     "metadata": {},
     "output_type": "execute_result"
    }
   ],
   "source": [
    "sm.stats.anova_lm(lm_idr2, typ=2)"
   ]
  },
  {
   "cell_type": "code",
   "execution_count": 43,
   "metadata": {
    "collapsed": false,
    "deletable": true,
    "editable": true
   },
   "outputs": [
    {
     "data": {
      "text/html": [
       "<table class=\"simpletable\">\n",
       "<caption>OLS Regression Results</caption>\n",
       "<tr>\n",
       "  <th>Dep. Variable:</th>     <td>normexpression</td>  <th>  R-squared:         </th> <td>   0.859</td>\n",
       "</tr>\n",
       "<tr>\n",
       "  <th>Model:</th>                   <td>OLS</td>       <th>  Adj. R-squared:    </th> <td>   0.806</td>\n",
       "</tr>\n",
       "<tr>\n",
       "  <th>Method:</th>             <td>Least Squares</td>  <th>  F-statistic:       </th> <td>   16.19</td>\n",
       "</tr>\n",
       "<tr>\n",
       "  <th>Date:</th>             <td>Mon, 15 May 2017</td> <th>  Prob (F-statistic):</th> <td>0.000928</td>\n",
       "</tr>\n",
       "<tr>\n",
       "  <th>Time:</th>                 <td>22:19:17</td>     <th>  Log-Likelihood:    </th> <td> -4.7704</td>\n",
       "</tr>\n",
       "<tr>\n",
       "  <th>No. Observations:</th>      <td>    12</td>      <th>  AIC:               </th> <td>   17.54</td>\n",
       "</tr>\n",
       "<tr>\n",
       "  <th>Df Residuals:</th>          <td>     8</td>      <th>  BIC:               </th> <td>   19.48</td>\n",
       "</tr>\n",
       "<tr>\n",
       "  <th>Df Model:</th>              <td>     3</td>      <th>                     </th>     <td> </td>   \n",
       "</tr>\n",
       "<tr>\n",
       "  <th>Covariance Type:</th>      <td>nonrobust</td>    <th>                     </th>     <td> </td>   \n",
       "</tr>\n",
       "</table>\n",
       "<table class=\"simpletable\">\n",
       "<tr>\n",
       "             <td></td>               <th>coef</th>     <th>std err</th>      <th>t</th>      <th>P>|t|</th> <th>[95.0% Conf. Int.]</th> \n",
       "</tr>\n",
       "<tr>\n",
       "  <th>Intercept</th>              <td>   -0.2812</td> <td>    0.255</td> <td>   -1.104</td> <td> 0.302</td> <td>   -0.868     0.306</td>\n",
       "</tr>\n",
       "<tr>\n",
       "  <th>C(dtror, Sum)[S.False]</th> <td>    0.8424</td> <td>    0.180</td> <td>    4.679</td> <td> 0.002</td> <td>    0.427     1.258</td>\n",
       "</tr>\n",
       "<tr>\n",
       "  <th>C(didr1, Sum)[S.False]</th> <td>    0.1021</td> <td>    0.180</td> <td>    0.567</td> <td> 0.586</td> <td>   -0.313     0.517</td>\n",
       "</tr>\n",
       "<tr>\n",
       "  <th>C(dsirr, Sum)[S.False]</th> <td>   -0.3821</td> <td>    0.180</td> <td>   -2.122</td> <td> 0.067</td> <td>   -0.797     0.033</td>\n",
       "</tr>\n",
       "</table>\n",
       "<table class=\"simpletable\">\n",
       "<tr>\n",
       "  <th>Omnibus:</th>       <td> 2.559</td> <th>  Durbin-Watson:     </th> <td>   1.599</td>\n",
       "</tr>\n",
       "<tr>\n",
       "  <th>Prob(Omnibus):</th> <td> 0.278</td> <th>  Jarque-Bera (JB):  </th> <td>   0.440</td>\n",
       "</tr>\n",
       "<tr>\n",
       "  <th>Skew:</th>          <td>-0.152</td> <th>  Prob(JB):          </th> <td>   0.803</td>\n",
       "</tr>\n",
       "<tr>\n",
       "  <th>Kurtosis:</th>      <td> 3.887</td> <th>  Cond. No.          </th> <td>    3.73</td>\n",
       "</tr>\n",
       "</table>"
      ],
      "text/plain": [
       "<class 'statsmodels.iolib.summary.Summary'>\n",
       "\"\"\"\n",
       "                            OLS Regression Results                            \n",
       "==============================================================================\n",
       "Dep. Variable:         normexpression   R-squared:                       0.859\n",
       "Model:                            OLS   Adj. R-squared:                  0.806\n",
       "Method:                 Least Squares   F-statistic:                     16.19\n",
       "Date:                Mon, 15 May 2017   Prob (F-statistic):           0.000928\n",
       "Time:                        22:19:17   Log-Likelihood:                -4.7704\n",
       "No. Observations:                  12   AIC:                             17.54\n",
       "Df Residuals:                       8   BIC:                             19.48\n",
       "Df Model:                           3                                         \n",
       "Covariance Type:            nonrobust                                         \n",
       "==========================================================================================\n",
       "                             coef    std err          t      P>|t|      [95.0% Conf. Int.]\n",
       "------------------------------------------------------------------------------------------\n",
       "Intercept                 -0.2812      0.255     -1.104      0.302        -0.868     0.306\n",
       "C(dtror, Sum)[S.False]     0.8424      0.180      4.679      0.002         0.427     1.258\n",
       "C(didr1, Sum)[S.False]     0.1021      0.180      0.567      0.586        -0.313     0.517\n",
       "C(dsirr, Sum)[S.False]    -0.3821      0.180     -2.122      0.067        -0.797     0.033\n",
       "==============================================================================\n",
       "Omnibus:                        2.559   Durbin-Watson:                   1.599\n",
       "Prob(Omnibus):                  0.278   Jarque-Bera (JB):                0.440\n",
       "Skew:                          -0.152   Prob(JB):                        0.803\n",
       "Kurtosis:                       3.887   Cond. No.                         3.73\n",
       "==============================================================================\n",
       "\n",
       "Warnings:\n",
       "[1] Standard Errors assume that the covariance matrix of the errors is correctly specified.\n",
       "\"\"\""
      ]
     },
     "execution_count": 43,
     "metadata": {},
     "output_type": "execute_result"
    }
   ],
   "source": [
    "lm_idr2.summary()"
   ]
  },
  {
   "cell_type": "code",
   "execution_count": 44,
   "metadata": {
    "collapsed": false,
    "deletable": true,
    "editable": true
   },
   "outputs": [
    {
     "data": {
      "text/html": [
       "<div>\n",
       "<table border=\"1\" class=\"dataframe\">\n",
       "  <thead>\n",
       "    <tr style=\"text-align: right;\">\n",
       "      <th></th>\n",
       "      <th>sum_sq</th>\n",
       "      <th>df</th>\n",
       "      <th>F</th>\n",
       "      <th>PR(&gt;F)</th>\n",
       "    </tr>\n",
       "  </thead>\n",
       "  <tbody>\n",
       "    <tr>\n",
       "      <th>C(dtror, Sum)</th>\n",
       "      <td>1.457169</td>\n",
       "      <td>1.0</td>\n",
       "      <td>3.893876</td>\n",
       "      <td>0.083915</td>\n",
       "    </tr>\n",
       "    <tr>\n",
       "      <th>C(didr1, Sum)</th>\n",
       "      <td>1.532508</td>\n",
       "      <td>1.0</td>\n",
       "      <td>4.095201</td>\n",
       "      <td>0.077617</td>\n",
       "    </tr>\n",
       "    <tr>\n",
       "      <th>C(didr2, Sum)</th>\n",
       "      <td>7.936084</td>\n",
       "      <td>1.0</td>\n",
       "      <td>21.206969</td>\n",
       "      <td>0.001744</td>\n",
       "    </tr>\n",
       "    <tr>\n",
       "      <th>Residual</th>\n",
       "      <td>2.993765</td>\n",
       "      <td>8.0</td>\n",
       "      <td>NaN</td>\n",
       "      <td>NaN</td>\n",
       "    </tr>\n",
       "  </tbody>\n",
       "</table>\n",
       "</div>"
      ],
      "text/plain": [
       "                 sum_sq   df          F    PR(>F)\n",
       "C(dtror, Sum)  1.457169  1.0   3.893876  0.083915\n",
       "C(didr1, Sum)  1.532508  1.0   4.095201  0.077617\n",
       "C(didr2, Sum)  7.936084  1.0  21.206969  0.001744\n",
       "Residual       2.993765  8.0        NaN       NaN"
      ]
     },
     "execution_count": 44,
     "metadata": {},
     "output_type": "execute_result"
    }
   ],
   "source": [
    "sm.stats.anova_lm(lm_sirr, typ=2)"
   ]
  },
  {
   "cell_type": "code",
   "execution_count": 45,
   "metadata": {
    "collapsed": false,
    "deletable": true,
    "editable": true
   },
   "outputs": [
    {
     "data": {
      "text/html": [
       "<div>\n",
       "<table border=\"1\" class=\"dataframe\">\n",
       "  <thead>\n",
       "    <tr style=\"text-align: right;\">\n",
       "      <th></th>\n",
       "      <th>sum_sq</th>\n",
       "      <th>df</th>\n",
       "      <th>F</th>\n",
       "      <th>PR(&gt;F)</th>\n",
       "    </tr>\n",
       "  </thead>\n",
       "  <tbody>\n",
       "    <tr>\n",
       "      <th>C(didr1, Sum)</th>\n",
       "      <td>2.811780</td>\n",
       "      <td>1.0</td>\n",
       "      <td>23.388621</td>\n",
       "      <td>0.002892</td>\n",
       "    </tr>\n",
       "    <tr>\n",
       "      <th>C(didr2, Sum)</th>\n",
       "      <td>6.224053</td>\n",
       "      <td>1.0</td>\n",
       "      <td>51.772194</td>\n",
       "      <td>0.000365</td>\n",
       "    </tr>\n",
       "    <tr>\n",
       "      <th>C(dsirr, Sum)</th>\n",
       "      <td>0.669073</td>\n",
       "      <td>1.0</td>\n",
       "      <td>5.565407</td>\n",
       "      <td>0.056352</td>\n",
       "    </tr>\n",
       "    <tr>\n",
       "      <th>Residual</th>\n",
       "      <td>0.721320</td>\n",
       "      <td>6.0</td>\n",
       "      <td>NaN</td>\n",
       "      <td>NaN</td>\n",
       "    </tr>\n",
       "  </tbody>\n",
       "</table>\n",
       "</div>"
      ],
      "text/plain": [
       "                 sum_sq   df          F    PR(>F)\n",
       "C(didr1, Sum)  2.811780  1.0  23.388621  0.002892\n",
       "C(didr2, Sum)  6.224053  1.0  51.772194  0.000365\n",
       "C(dsirr, Sum)  0.669073  1.0   5.565407  0.056352\n",
       "Residual       0.721320  6.0        NaN       NaN"
      ]
     },
     "execution_count": 45,
     "metadata": {},
     "output_type": "execute_result"
    }
   ],
   "source": [
    "sm.stats.anova_lm(lm_tror, typ=2)"
   ]
  },
  {
   "cell_type": "code",
   "execution_count": 46,
   "metadata": {
    "collapsed": false,
    "deletable": true,
    "editable": true
   },
   "outputs": [
    {
     "data": {
      "text/plain": [
       "Intercept                 0.684250\n",
       "C(dtror, Sum)[S.False]   -0.972243\n",
       "C(didr2, Sum)[S.False]   -0.543586\n",
       "C(dsirr, Sum)[S.False]    0.147329\n",
       "dtype: float64"
      ]
     },
     "execution_count": 46,
     "metadata": {},
     "output_type": "execute_result"
    }
   ],
   "source": [
    "lm_idr1.params"
   ]
  },
  {
   "cell_type": "code",
   "execution_count": 47,
   "metadata": {
    "collapsed": false,
    "deletable": true,
    "editable": true
   },
   "outputs": [
    {
     "data": {
      "text/plain": [
       "Intercept                -0.281202\n",
       "C(dtror, Sum)[S.False]    0.842425\n",
       "C(didr1, Sum)[S.False]    0.102056\n",
       "C(dsirr, Sum)[S.False]   -0.382077\n",
       "dtype: float64"
      ]
     },
     "execution_count": 47,
     "metadata": {},
     "output_type": "execute_result"
    }
   ],
   "source": [
    "lm_idr2.params"
   ]
  },
  {
   "cell_type": "code",
   "execution_count": 48,
   "metadata": {
    "collapsed": false,
    "deletable": true,
    "editable": true
   },
   "outputs": [
    {
     "data": {
      "text/plain": [
       "Intercept                 1.074139\n",
       "C(dtror, Sum)[S.False]   -0.492810\n",
       "C(didr1, Sum)[S.False]   -0.505389\n",
       "C(didr2, Sum)[S.False]   -1.150079\n",
       "dtype: float64"
      ]
     },
     "execution_count": 48,
     "metadata": {},
     "output_type": "execute_result"
    }
   ],
   "source": [
    "lm_sirr.params"
   ]
  },
  {
   "cell_type": "code",
   "execution_count": 49,
   "metadata": {
    "collapsed": false
   },
   "outputs": [
    {
     "ename": "NameError",
     "evalue": "name 'd' is not defined",
     "output_type": "error",
     "traceback": [
      "\u001b[0;31m---------------------------------------------------------------------------\u001b[0m",
      "\u001b[0;31mNameError\u001b[0m                                 Traceback (most recent call last)",
      "\u001b[0;32m<ipython-input-49-59db28077f6e>\u001b[0m in \u001b[0;36m<module>\u001b[0;34m()\u001b[0m\n\u001b[0;32m----> 1\u001b[0;31m \u001b[0mlm_sirr\u001b[0m\u001b[0;34m.\u001b[0m\u001b[0mconf_int\u001b[0m\u001b[0;34m(\u001b[0m\u001b[0;34m)\u001b[0m\u001b[0;34m.\u001b[0m\u001b[0mloc\u001b[0m\u001b[0;34m[\u001b[0m\u001b[0;34m\"C(%s, Sum)[S.False]\"\u001b[0m\u001b[0;34m%\u001b[0m\u001b[0md\u001b[0m\u001b[0;34m,\u001b[0m\u001b[0;34m:\u001b[0m\u001b[0;34m]\u001b[0m\u001b[0;34m\u001b[0m\u001b[0m\n\u001b[0m",
      "\u001b[0;31mNameError\u001b[0m: name 'd' is not defined"
     ]
    }
   ],
   "source": [
    "lm_sirr.conf_int().loc[\"C(%s, Sum)[S.False]\"%d,:]"
   ]
  },
  {
   "cell_type": "code",
   "execution_count": 50,
   "metadata": {
    "collapsed": false,
    "deletable": true,
    "editable": true
   },
   "outputs": [
    {
     "data": {
      "text/plain": [
       "Intercept                -2.081668e-17\n",
       "C(didr1, Sum)[S.False]   -4.192091e-01\n",
       "C(didr2, Sum)[S.False]    6.237013e-01\n",
       "C(dsirr, Sum)[S.False]   -2.044922e-01\n",
       "dtype: float64"
      ]
     },
     "execution_count": 50,
     "metadata": {},
     "output_type": "execute_result"
    }
   ],
   "source": [
    "lm_tror.params"
   ]
  },
  {
   "cell_type": "code",
   "execution_count": 51,
   "metadata": {
    "collapsed": false,
    "deletable": true,
    "editable": true
   },
   "outputs": [
    {
     "data": {
      "text/plain": [
       "Intercept                 1.000000\n",
       "C(didr1, Sum)[S.False]    0.002892\n",
       "C(didr2, Sum)[S.False]    0.000365\n",
       "C(dsirr, Sum)[S.False]    0.056352\n",
       "dtype: float64"
      ]
     },
     "execution_count": 51,
     "metadata": {},
     "output_type": "execute_result"
    }
   ],
   "source": [
    "lm_tror.pvalues"
   ]
  },
  {
   "cell_type": "code",
   "execution_count": 52,
   "metadata": {
    "collapsed": false,
    "deletable": true,
    "editable": true
   },
   "outputs": [],
   "source": [
    "coeff = []\n",
    "sig = []\n",
    "conf = []\n",
    "\n",
    "for t in [0, 5, 20, 60]:\n",
    "    \n",
    "    lm_idr1 = ols(eq('idr1'), data=data[(data.gene=='idr1') & (data.time==t)]).fit()\n",
    "    lm_idr2 = ols(eq('idr2'), data=data[(data.gene=='idr2') & (data.time==t)]).fit()\n",
    "    lm_sirr = ols(eq('sirr'), data=data[(data.gene=='sirr') & (data.time==t)]).fit()\n",
    "    lm_tror = ols(eq('tror'), data=data[(data.gene=='tror') & (data.time==t)]).fit()\n",
    "    \n",
    "    coeff.append([])\n",
    "    sig.append([])\n",
    "    conf.append([])\n",
    "    for lm in [lm_idr1, lm_idr2, lm_sirr, lm_tror]:\n",
    "        coeff[-1].append([])\n",
    "        sig[-1].append([])\n",
    "        conf[-1].append([])\n",
    "        \n",
    "        for d in ['didr1', 'didr2', 'dsirr', 'dtror']:\n",
    "            try:\n",
    "                coeff[-1][-1].append(lm.params[\"C(%s, Sum)[S.False]\"%d])\n",
    "                sig[-1][-1].append(lm.pvalues[\"C(%s, Sum)[S.False]\"%d])\n",
    "                conf[-1][-1].append(lm.conf_int().loc[\"C(%s, Sum)[S.False]\"%d,:])\n",
    "            except:\n",
    "                coeff[-1][-1].append(np.nan)\n",
    "                sig[-1][-1].append(np.nan)\n",
    "                conf[-1][-1].append([np.nan]*2)\n",
    "\n",
    "coeff = np.array(coeff)\n",
    "sig = np.array(sig)\n",
    "conf = np.array(conf)"
   ]
  },
  {
   "cell_type": "code",
   "execution_count": 53,
   "metadata": {
    "collapsed": false
   },
   "outputs": [
    {
     "data": {
      "text/plain": [
       "array([-0.94700089, -0.2560862 , -1.37565746])"
      ]
     },
     "execution_count": 53,
     "metadata": {},
     "output_type": "execute_result"
    }
   ],
   "source": [
    "conf[0,0,1:,0]"
   ]
  },
  {
   "cell_type": "code",
   "execution_count": 54,
   "metadata": {
    "collapsed": false
   },
   "outputs": [
    {
     "data": {
      "text/plain": [
       "array([-0.94700089, -0.2560862 , -1.37565746])"
      ]
     },
     "execution_count": 54,
     "metadata": {},
     "output_type": "execute_result"
    }
   ],
   "source": [
    "conf[0,0,1:,0]"
   ]
  },
  {
   "cell_type": "code",
   "execution_count": 65,
   "metadata": {
    "collapsed": false
   },
   "outputs": [
    {
     "data": {
      "text/plain": [
       "<matplotlib.text.Text at 0x117f93890>"
      ]
     },
     "execution_count": 65,
     "metadata": {},
     "output_type": "execute_result"
    },
    {
     "data": {
      "image/png": "[encoded data removed]",
      "text/plain": [
       "<matplotlib.figure.Figure at 0x117b0e190>"
      ]
     },
     "metadata": {},
     "output_type": "display_data"
    }
   ],
   "source": [
    "i = 0\n",
    "j = 0\n",
    "\n",
    "ind = range(4)\n",
    "ind.remove(i)\n",
    "\n",
    "plt.errorbar(range(3), coeff[0,0,ind], yerr=coeff[0,0,ind]-conf[0,0,ind,0])\n",
    "plt.plot([0,2], [0,0], lw=2, c='k')\n",
    "plt.xticks(range(3), [order[z] for z in ind])\n",
    "plt.title('%s, %s min' % (order[i], [0,5,20,60][j]))"
   ]
  },
  {
   "cell_type": "code",
   "execution_count": 66,
   "metadata": {
    "collapsed": false,
    "deletable": true,
    "editable": true
   },
   "outputs": [],
   "source": [
    "order = ['idr1', 'idr2', 'sirr', 'tror']"
   ]
  },
  {
   "cell_type": "code",
   "execution_count": 67,
   "metadata": {
    "collapsed": false,
    "scrolled": true
   },
   "outputs": [
    {
     "data": {
      "image/png": "[encoded data removed]",
      "text/plain": [
       "<matplotlib.figure.Figure at 0x117e52790>"
      ]
     },
     "metadata": {},
     "output_type": "display_data"
    },
    {
     "data": {
      "image/png": "[encoded data removed]",
      "text/plain": [
       "<matplotlib.figure.Figure at 0x117d76290>"
      ]
     },
     "metadata": {},
     "output_type": "display_data"
    },
    {
     "data": {
      "image/png": "[encoded data removed]",
      "text/plain": [
       "<matplotlib.figure.Figure at 0x116a5e050>"
      ]
     },
     "metadata": {},
     "output_type": "display_data"
    },
    {
     "data": {
      "image/png": "[encoded data removed]",
      "text/plain": [
       "<matplotlib.figure.Figure at 0x11760ef50>"
      ]
     },
     "metadata": {},
     "output_type": "display_data"
    }
   ],
   "source": [
    "##Preliminary visualization of node activities.\n",
    "for i in range(4):\n",
    "    plt.figure()\n",
    "    \n",
    "    for j in range(4):\n",
    "        ind = range(4)\n",
    "        ind.remove(i)\n",
    "        \n",
    "        plt.subplot(2,2,j+1)\n",
    "        \n",
    "        plt.errorbar(range(3), coeff[j,i,ind], yerr=coeff[j,i,ind]-conf[j,i,ind,0])\n",
    "        plt.plot([0,2], [0,0], lw=2, c='k')\n",
    "        plt.xticks(range(3), [order[z] for z in ind])\n",
    "        plt.title('%s, %s min' % (order[i], [0,5,20,60][j]))\n",
    "        \n",
    "    plt.tight_layout()\n",
    "    plt.savefig('%s.pdf'% (order[i]),bbox_inches='tight')"
   ]
  },
  {
   "cell_type": "code",
   "execution_count": 68,
   "metadata": {
    "collapsed": false,
    "deletable": true,
    "editable": true
   },
   "outputs": [
    {
     "name": "stderr",
     "output_type": "stream",
     "text": [
      "/Users/as305/anaconda/lib/python2.7/site-packages/ipykernel/__main__.py:2: RuntimeWarning: invalid value encountered in greater\n",
      "  from ipykernel import kernelapp as app\n"
     ]
    },
    {
     "data": {
      "text/html": [
       "<div>\n",
       "<table border=\"1\" class=\"dataframe\">\n",
       "  <thead>\n",
       "    <tr style=\"text-align: right;\">\n",
       "      <th></th>\n",
       "      <th>idr1</th>\n",
       "      <th>idr2</th>\n",
       "      <th>sirr</th>\n",
       "      <th>tror</th>\n",
       "    </tr>\n",
       "  </thead>\n",
       "  <tbody>\n",
       "    <tr>\n",
       "      <th>idr1</th>\n",
       "      <td>NaN</td>\n",
       "      <td>-0.543586</td>\n",
       "      <td>0.0</td>\n",
       "      <td>-0.972243</td>\n",
       "    </tr>\n",
       "    <tr>\n",
       "      <th>idr2</th>\n",
       "      <td>0.000000</td>\n",
       "      <td>NaN</td>\n",
       "      <td>0.0</td>\n",
       "      <td>0.842425</td>\n",
       "    </tr>\n",
       "    <tr>\n",
       "      <th>sirr</th>\n",
       "      <td>0.000000</td>\n",
       "      <td>-1.150079</td>\n",
       "      <td>NaN</td>\n",
       "      <td>0.000000</td>\n",
       "    </tr>\n",
       "    <tr>\n",
       "      <th>tror</th>\n",
       "      <td>-0.419209</td>\n",
       "      <td>0.623701</td>\n",
       "      <td>0.0</td>\n",
       "      <td>NaN</td>\n",
       "    </tr>\n",
       "  </tbody>\n",
       "</table>\n",
       "</div>"
      ],
      "text/plain": [
       "          idr1      idr2  sirr      tror\n",
       "idr1       NaN -0.543586   0.0 -0.972243\n",
       "idr2  0.000000       NaN   0.0  0.842425\n",
       "sirr  0.000000 -1.150079   NaN  0.000000\n",
       "tror -0.419209  0.623701   0.0       NaN"
      ]
     },
     "execution_count": 68,
     "metadata": {},
     "output_type": "execute_result"
    }
   ],
   "source": [
    "#final networks used to generate topologies for paper Figure 4. \n",
    "net0 = pd.DataFrame(coeff[0,:,:], columns=order, index=order)\n",
    "net0.values[sig[0,:,:] > 5e-2] = 0\n",
    "net0.to_csv(\"net0.csv\")\n",
    "\n",
    "net0"
   ]
  },
  {
   "cell_type": "code",
   "execution_count": 69,
   "metadata": {
    "collapsed": false,
    "deletable": true,
    "editable": true
   },
   "outputs": [
    {
     "name": "stderr",
     "output_type": "stream",
     "text": [
      "/Users/as305/anaconda/lib/python2.7/site-packages/ipykernel/__main__.py:2: RuntimeWarning: invalid value encountered in greater\n",
      "  from ipykernel import kernelapp as app\n"
     ]
    },
    {
     "data": {
      "text/html": [
       "<div>\n",
       "<table border=\"1\" class=\"dataframe\">\n",
       "  <thead>\n",
       "    <tr style=\"text-align: right;\">\n",
       "      <th></th>\n",
       "      <th>idr1</th>\n",
       "      <th>idr2</th>\n",
       "      <th>sirr</th>\n",
       "      <th>tror</th>\n",
       "    </tr>\n",
       "  </thead>\n",
       "  <tbody>\n",
       "    <tr>\n",
       "      <th>idr1</th>\n",
       "      <td>NaN</td>\n",
       "      <td>0.00000</td>\n",
       "      <td>0.000000</td>\n",
       "      <td>0.0</td>\n",
       "    </tr>\n",
       "    <tr>\n",
       "      <th>idr2</th>\n",
       "      <td>0.0</td>\n",
       "      <td>NaN</td>\n",
       "      <td>0.000000</td>\n",
       "      <td>0.0</td>\n",
       "    </tr>\n",
       "    <tr>\n",
       "      <th>sirr</th>\n",
       "      <td>0.0</td>\n",
       "      <td>-0.96638</td>\n",
       "      <td>NaN</td>\n",
       "      <td>0.0</td>\n",
       "    </tr>\n",
       "    <tr>\n",
       "      <th>tror</th>\n",
       "      <td>0.0</td>\n",
       "      <td>0.00000</td>\n",
       "      <td>-0.512084</td>\n",
       "      <td>NaN</td>\n",
       "    </tr>\n",
       "  </tbody>\n",
       "</table>\n",
       "</div>"
      ],
      "text/plain": [
       "      idr1     idr2      sirr  tror\n",
       "idr1   NaN  0.00000  0.000000   0.0\n",
       "idr2   0.0      NaN  0.000000   0.0\n",
       "sirr   0.0 -0.96638       NaN   0.0\n",
       "tror   0.0  0.00000 -0.512084   NaN"
      ]
     },
     "execution_count": 69,
     "metadata": {},
     "output_type": "execute_result"
    }
   ],
   "source": [
    "net5 = pd.DataFrame(coeff[1,:,:], columns=order, index=order)\n",
    "net5.values[sig[1,:,:] > 5e-2] = 0\n",
    "net5.to_csv(\"net5.csv\")\n",
    "net5"
   ]
  },
  {
   "cell_type": "code",
   "execution_count": 60,
   "metadata": {
    "collapsed": false,
    "deletable": true,
    "editable": true
   },
   "outputs": [
    {
     "name": "stderr",
     "output_type": "stream",
     "text": [
      "/Users/as305/anaconda/lib/python2.7/site-packages/ipykernel/__main__.py:2: RuntimeWarning: invalid value encountered in greater\n",
      "  from ipykernel import kernelapp as app\n"
     ]
    },
    {
     "data": {
      "text/html": [
       "<div>\n",
       "<table border=\"1\" class=\"dataframe\">\n",
       "  <thead>\n",
       "    <tr style=\"text-align: right;\">\n",
       "      <th></th>\n",
       "      <th>idr1</th>\n",
       "      <th>idr2</th>\n",
       "      <th>sirr</th>\n",
       "      <th>tror</th>\n",
       "    </tr>\n",
       "  </thead>\n",
       "  <tbody>\n",
       "    <tr>\n",
       "      <th>idr1</th>\n",
       "      <td>NaN</td>\n",
       "      <td>0.0</td>\n",
       "      <td>0.789413</td>\n",
       "      <td>0.0</td>\n",
       "    </tr>\n",
       "    <tr>\n",
       "      <th>idr2</th>\n",
       "      <td>0.0</td>\n",
       "      <td>NaN</td>\n",
       "      <td>0.000000</td>\n",
       "      <td>0.0</td>\n",
       "    </tr>\n",
       "    <tr>\n",
       "      <th>sirr</th>\n",
       "      <td>0.0</td>\n",
       "      <td>0.0</td>\n",
       "      <td>NaN</td>\n",
       "      <td>0.0</td>\n",
       "    </tr>\n",
       "    <tr>\n",
       "      <th>tror</th>\n",
       "      <td>0.0</td>\n",
       "      <td>0.0</td>\n",
       "      <td>0.000000</td>\n",
       "      <td>NaN</td>\n",
       "    </tr>\n",
       "  </tbody>\n",
       "</table>\n",
       "</div>"
      ],
      "text/plain": [
       "      idr1  idr2      sirr  tror\n",
       "idr1   NaN   0.0  0.789413   0.0\n",
       "idr2   0.0   NaN  0.000000   0.0\n",
       "sirr   0.0   0.0       NaN   0.0\n",
       "tror   0.0   0.0  0.000000   NaN"
      ]
     },
     "execution_count": 60,
     "metadata": {},
     "output_type": "execute_result"
    }
   ],
   "source": [
    "net20 = pd.DataFrame(coeff[2,:,:], columns=order, index=order)\n",
    "net20.values[sig[2,:,:] > 5e-2] = 0\n",
    "net20.to_csv(\"net20.csv\")\n",
    "net20"
   ]
  },
  {
   "cell_type": "code",
   "execution_count": 61,
   "metadata": {
    "collapsed": false,
    "deletable": true,
    "editable": true
   },
   "outputs": [
    {
     "name": "stderr",
     "output_type": "stream",
     "text": [
      "/Users/as305/anaconda/lib/python2.7/site-packages/ipykernel/__main__.py:2: RuntimeWarning: invalid value encountered in greater\n",
      "  from ipykernel import kernelapp as app\n"
     ]
    },
    {
     "data": {
      "text/html": [
       "<div>\n",
       "<table border=\"1\" class=\"dataframe\">\n",
       "  <thead>\n",
       "    <tr style=\"text-align: right;\">\n",
       "      <th></th>\n",
       "      <th>idr1</th>\n",
       "      <th>idr2</th>\n",
       "      <th>sirr</th>\n",
       "      <th>tror</th>\n",
       "    </tr>\n",
       "  </thead>\n",
       "  <tbody>\n",
       "    <tr>\n",
       "      <th>idr1</th>\n",
       "      <td>NaN</td>\n",
       "      <td>0.000000</td>\n",
       "      <td>0.000000</td>\n",
       "      <td>0.0</td>\n",
       "    </tr>\n",
       "    <tr>\n",
       "      <th>idr2</th>\n",
       "      <td>0.000000</td>\n",
       "      <td>NaN</td>\n",
       "      <td>-0.906313</td>\n",
       "      <td>0.0</td>\n",
       "    </tr>\n",
       "    <tr>\n",
       "      <th>sirr</th>\n",
       "      <td>0.639498</td>\n",
       "      <td>-0.562464</td>\n",
       "      <td>NaN</td>\n",
       "      <td>0.0</td>\n",
       "    </tr>\n",
       "    <tr>\n",
       "      <th>tror</th>\n",
       "      <td>0.000000</td>\n",
       "      <td>0.000000</td>\n",
       "      <td>0.000000</td>\n",
       "      <td>NaN</td>\n",
       "    </tr>\n",
       "  </tbody>\n",
       "</table>\n",
       "</div>"
      ],
      "text/plain": [
       "          idr1      idr2      sirr  tror\n",
       "idr1       NaN  0.000000  0.000000   0.0\n",
       "idr2  0.000000       NaN -0.906313   0.0\n",
       "sirr  0.639498 -0.562464       NaN   0.0\n",
       "tror  0.000000  0.000000  0.000000   NaN"
      ]
     },
     "execution_count": 61,
     "metadata": {},
     "output_type": "execute_result"
    }
   ],
   "source": [
    "net60 = pd.DataFrame(coeff[3,:,:], columns=order, index=order)\n",
    "net60.values[sig[3,:,:] > 5e-2] = 0\n",
    "\n",
    "net60.to_csv(\"net60.csv\")\n",
    "net60"
   ]
  },
  {
   "cell_type": "code",
   "execution_count": 62,
   "metadata": {
    "collapsed": true
   },
   "outputs": [],
   "source": [
    "pd.DataFrame(sig[0,:,:], columns=order, index=order).to_csv(\"sig0.csv\")\n",
    "pd.DataFrame(sig[1,:,:], columns=order, index=order).to_csv(\"sig5.csv\")\n",
    "pd.DataFrame(sig[2,:,:], columns=order, index=order).to_csv(\"sig20.csv\")\n",
    "pd.DataFrame(sig[3,:,:], columns=order, index=order).to_csv(\"sig60.csv\")"
   ]
  },
  {
   "cell_type": "code",
   "execution_count": 63,
   "metadata": {
    "collapsed": true,
    "deletable": true,
    "editable": true
   },
   "outputs": [],
   "source": [
    "import networkx as nx"
   ]
  },
  {
   "cell_type": "code",
   "execution_count": 64,
   "metadata": {
    "collapsed": false,
    "deletable": true,
    "editable": true
   },
   "outputs": [
    {
     "name": "stderr",
     "output_type": "stream",
     "text": [
      "/Users/as305/anaconda/lib/python2.7/site-packages/networkx/drawing/nx_pylab.py:126: MatplotlibDeprecationWarning: pyplot.hold is deprecated.\n",
      "    Future behavior will be consistent with the long-time default:\n",
      "    plot commands add elements without first clearing the\n",
      "    Axes and/or Figure.\n",
      "  b = plt.ishold()\n",
      "/Users/as305/anaconda/lib/python2.7/site-packages/networkx/drawing/nx_pylab.py:138: MatplotlibDeprecationWarning: pyplot.hold is deprecated.\n",
      "    Future behavior will be consistent with the long-time default:\n",
      "    plot commands add elements without first clearing the\n",
      "    Axes and/or Figure.\n",
      "  plt.hold(b)\n",
      "/Users/as305/anaconda/lib/python2.7/site-packages/matplotlib/__init__.py:917: UserWarning: axes.hold is deprecated. Please remove it from your matplotlibrc and/or style files.\n",
      "  warnings.warn(self.msg_depr_set % key)\n",
      "/Users/as305/anaconda/lib/python2.7/site-packages/matplotlib/rcsetup.py:152: UserWarning: axes.hold is deprecated, will be removed in 3.0\n",
      "  warnings.warn(\"axes.hold is deprecated, will be removed in 3.0\")\n"
     ]
    },
    {
     "data": {
      "image/png": "[encoded data removed]",
      "text/plain": [
       "<matplotlib.figure.Figure at 0x1170fa3d0>"
      ]
     },
     "metadata": {},
     "output_type": "display_data"
    },
    {
     "data": {
      "image/png": "[encoded data removed]",
      "text/plain": [
       "<matplotlib.figure.Figure at 0x117882690>"
      ]
     },
     "metadata": {},
     "output_type": "display_data"
    },
    {
     "data": {
      "image/png": "[encoded data removed]",
      "text/plain": [
       "<matplotlib.figure.Figure at 0x117932e90>"
      ]
     },
     "metadata": {},
     "output_type": "display_data"
    },
    {
     "data": {
      "image/png": "[encoded data removed]",
      "text/plain": [
       "<matplotlib.figure.Figure at 0x1179320d0>"
      ]
     },
     "metadata": {},
     "output_type": "display_data"
    }
   ],
   "source": [
    "##Preliminary visulization of resultant network graphs at each time point.\n",
    "##Cytoscape used in final paper Figure 5. \n",
    "\n",
    "for t in range(4):\n",
    "    G=nx.DiGraph()\n",
    "\n",
    "    colors = []\n",
    "    for i, g in enumerate(['idr1', 'idr2', 'sirr', 'tror']):    \n",
    "        for j, d in enumerate(['didr1', 'didr2', 'dsirr', 'dtror']):\n",
    "            if i==j:\n",
    "                continue\n",
    "\n",
    "            if sig[t,i,j] < 5e-2:\n",
    "                G.add_edge(d[1:],g,{\"value\":coeff[t,i,j]})\n",
    "                colors.append(coeff[t,i,j])\n",
    "\n",
    "    pos=nx.spring_layout(G)\n",
    "    \n",
    "    plt.figure()\n",
    "    \n",
    "    nx.draw(G,pos,node_color='#A0CBE2',edge_color=colors,width=5,\n",
    "            edge_cmap=plt.cm.RdBu,with_labels=True,arrows=True,\n",
    "            edge_vmin=-1,edge_vmax=1)\n",
    "    plt.title('time=%d'%[0,5,20,60][t])\n",
    "    "
   ]
  },
  {
   "cell_type": "code",
   "execution_count": null,
   "metadata": {
    "collapsed": true,
    "deletable": true,
    "editable": true
   },
   "outputs": [],
   "source": []
  },
  {
   "cell_type": "code",
   "execution_count": null,
   "metadata": {
    "collapsed": true,
    "deletable": true,
    "editable": true
   },
   "outputs": [],
   "source": []
  }
 ],
 "metadata": {
  "anaconda-cloud": {},
  "kernelspec": {
   "display_name": "Python [default]",
   "language": "python",
   "name": "python2"
  },
  "language_info": {
   "codemirror_mode": {
    "name": "ipython",
    "version": 2
   },
   "file_extension": ".py",
   "mimetype": "text/x-python",
   "name": "python",
   "nbconvert_exporter": "python",
   "pygments_lexer": "ipython2",
   "version": "2.7.13"
  }
 },
 "nbformat": 4,
 "nbformat_minor": 2
}
