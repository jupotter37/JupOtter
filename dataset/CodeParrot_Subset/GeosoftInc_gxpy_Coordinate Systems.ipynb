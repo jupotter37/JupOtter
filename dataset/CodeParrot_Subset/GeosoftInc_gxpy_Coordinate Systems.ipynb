{
 "cells": [
  {
   "cell_type": "markdown",
   "metadata": {},
   "source": [
    "Copyright (c) 2017 [Geosoft Inc.](geosoft.com)\n",
    "\n",
    "https://github.com/GeosoftInc/gxpy\n",
    "\n",
    "[BSD 2-clause License](https://github.com/GeosoftInc/gxpy/blob/master/LICENSE)"
   ]
  },
  {
   "cell_type": "markdown",
   "metadata": {},
   "source": [
    "\n",
    "### Lessons\n",
    "\n",
    "<!--- # Run this from a code cell to create TOC markdown: -->\n",
    "<!--- import geosoft.gxpy.utility; print(geosoft.gxpy.utility.jupyter_markdown_toc('Coordinate Systems')) -->\n",
    " 1. [Understanding Coordinate Systems](#Understanding-Coordinate-Systems)\n",
    " 2. [How to describe a coordinate system](#How-to-describe-a-coordinate-system)\n",
    " 3. [Coordinate System instance](#Coordinate-System-instance)\n",
    " 4. [Coordinate systems and spatial data](#Coordinate-systems-and-spatial-data)\n",
    "\n",
    "__See Also:__ [Tutorial page](https://geosoftgxdev.atlassian.net/wiki/spaces/GXD93/pages/102957255/Coordinate+Systems)\n",
    "\n",
    "## Understanding Coordinate Systems\n",
    "\n",
    "Refer to [Understanding Coordinate Systems](https://geosoftgxdev.atlassian.net/wiki/spaces/GXD93/pages/102957255/Coordinate+Systems#CoordinateSystems-UnderstandingCoordinateSystems) on the Tutorial page for general information about coordinate systems.\n",
    "\n",
    "## How to describe a coordinate system\n",
    "\n",
    "The simplest way to describe a coordinate system is by using a coordinate system string, which in Geosoft as the following form:\n",
    "\n",
    "```\n",
    "\"horizontal_datum / map_projection [vertical_datum]\"\n",
    "```\n",
    "\n",
    "Horizontal datum names recognized by Geosoft are listed in reference table: `C:\\Program Files\\Geosoft\\Desktop Applications 9\\csv\\datum.csv`. The horizontal_datum, map_projection and vertical_datum should use the well-known names defined by the EPSG Geodetic Parameter Registry.\n",
    "\n",
    "Map projections recognized by Geosoft are listed in reference table: `C:\\Program Files\\Geosoft\\Desktop Applications 9\\csv\\transform.csv`\n",
    "\n",
    "The vertical_datum string can currently be any descriptive string, including \"_geoid_\" or \"_geodetic_\", though to future-proof your code we recommend that you use the common short name for a known vertical datum.  For example, the \"North American Vertical Datum of 1988\" is commonly called \"NAVD88\"."
   ]
  },
  {
   "cell_type": "markdown",
   "metadata": {},
   "source": [
    "## Coordinate System instance\n",
    "\n",
    "To create an instance of a coordinate system you can provide the coordinate system string to `<geosoft.gxpy.coordinate_system.Coordinate_system()>` to create a Coordinate_system instance.  For example, the following code defines the \"UTM zone 15N\" projection on the \"NAD83\" datum, and the \"NAD27\" geographic coordinate system. These defined systems are then used to translate spatial coordinates from one system to the other."
   ]
  },
  {
   "cell_type": "code",
   "execution_count": 1,
   "metadata": {},
   "outputs": [
    {
     "name": "stdout",
     "output_type": "stream",
     "text": [
      "(lon, lat): [89, -38]\n",
      "(lon, lat, elevation): [89, -38, 50]\n",
      "Geographic: NAD27\n",
      "[ 88.77724221 -38.49899848  50.        ]\n",
      "[ 88.77151111 -38.49908532  60.        ]\n",
      "[ 88.76577999 -38.49917188  70.        ]\n",
      "[ 8.87772422e+01 -3.84989985e+01  5.00000000e+01  5.50000000e+04]\n",
      "[ 8.87715111e+01 -3.84990853e+01  6.00000000e+01  5.51500000e+04]\n",
      "[ 8.87657800e+01 -3.84991719e+01  7.00000000e+01  5.60000000e+04]\n",
      "False\n",
      "True\n",
      "False\n"
     ]
    }
   ],
   "source": [
    "import geosoft.gxpy.gx as gx\n",
    "import geosoft.gxpy.coordinate_system as gxcs\n",
    "import numpy as np\n",
    " \n",
    "# create context\n",
    "gxc = gx.GXpy()\n",
    " \n",
    "# define coordinate systems and a transformer\n",
    "cs_utm = gxcs.Coordinate_system('NAD83 / UTM zone 15N')\n",
    "cs_nad27 = gxcs.Coordinate_system('NAD27')\n",
    "cs_transform = gxcs.Coordinate_translate(cs_utm, cs_nad27)\n",
    " \n",
    "# example transform a single (x, y) coordinate\n",
    "lon_lat = cs_transform.convert((345000, 64250000))\n",
    "print('(lon, lat): {}'.format(lon_lat))\n",
    " \n",
    "# example transform a single (x, y, elevation) coordinate\n",
    "print('(lon, lat, elevation): {}'.format(cs_transform.convert((345000, 64250000, 50))))\n",
    " \n",
    "# example translate a list of (x, y, z) tuples\n",
    "locations = [(345000., 64250000, 50), (345500, 64250000, 60), (346000, 64250000, 70)]\n",
    "nad27_locations = cs_transform.convert(locations)\n",
    "\n",
    "print('Geographic: {}'.format(cs_nad27))\n",
    "for xyz in nad27_locations:\n",
    "    print(xyz)\n",
    "    \n",
    "# example transform a numpy array in-place\n",
    "data = np.array([[345000, 64250000, 50, 55000],\n",
    "                 [345500, 64250000, 60, 55150],\n",
    "                 [346000, 64250000, 70, 56000]],\n",
    "                dtype=float)\n",
    "nad27_locations = cs_transform.convert(data, in_place=True)\n",
    "for xyz in data:\n",
    "    print(xyz)\n",
    "    \n",
    "# compare coordinate systems\n",
    "print(cs_utm == cs_nad27)\n",
    "print(gxcs.Coordinate_system('WGS 84') == gxcs.Coordinate_system('WGS 84'))\n",
    "print(gxcs.Coordinate_system('GDA94 [geodetic]') == gxcs.Coordinate_system('GDA94 [geoid]'))"
   ]
  },
  {
   "cell_type": "markdown",
   "metadata": {},
   "source": [
    "## Coordinate systems and spatial data\n",
    "\n",
    "All spatial information in the Geosoft environment will have a defined coordinate system, which if not explicitly set or inherited will be named \"\\*unknown\". Geosoft functions that mix spatial data from different coordinate systems will automatically transform coordinates to be in the coordinate system required by the context. Spatial locations that have an \"\\*unknown\" coordinate system are generally assumed to match the context in which the coordinates are used.\n",
    "\n",
    "When data is imported into Geosoft it is good practice to define the coordinate system my assigning the known coordinate system to the coordinate_system property of the data.. If you import data via one of the Geosoft import functions, and the data has a way of describing its coordinate system, the Geosoft import function will make a best effort to set the the coordinate_system property from the data.  For example, ESRI data files often have a well defined coordinate system which is recognized when the data is imported.\n",
    "\n",
    "The `geosoft.gxpy` module exposes various spatial data structures via classes, such as the `Geosoft_database` class, the `Grid` class, the `Geometry` class, and the `View` class.  All spatial classes in the Geosoft environment will have a property named `coordinate_system`, which is an instance of the `geosoft.gxpy.coordinate_system.Coordinate_system` class. The `coordinate_system` property can be used get or set the instance coordinate systems using any form supported by the `Coordinate_system` class constructor.  The following script demonstrated the versatility of how to establish a coordinate systems using various forms. These examples are shown applied to a `geosoft.gxpy.grid.Grid` instance, but may be equally applied to any spatial class instance."
   ]
  },
  {
   "cell_type": "code",
   "execution_count": 2,
   "metadata": {},
   "outputs": [
    {
     "name": "stdout",
     "output_type": "stream",
     "text": [
      "Initially: *unknown\n",
      "\n",
      "From name: NAD83 / UTM zone 17N\n",
      "['NAD83 / UTM zone 17N', 'NAD83,6378137,0.0818191910428158,0', '\"Transverse Mercator\",0,-81,0.9996,500000,0', 'm,1', '\"NAD83 to WGS 84 (1)\",0,0,0,0,0,0,0']\n",
      "{'type': 'Geosoft', 'name': 'NAD83 / UTM zone 17N', 'datum': 'NAD83,6378137,0.0818191910428158,0', 'projection': '\"Transverse Mercator\",0,-81,0.9996,500000,0', 'units': 'm,1', 'local_datum': '\"NAD83 to WGS 84 (1)\",0,0,0,0,0,0,0', 'orientation': '', 'vcs': ''}\n",
      "\n",
      "From gxf: ['NAD27 / UTM zone 17N', 'NAD27,6378206.4,0.0822718542230039,0', '\"Transverse Mercator\",0,-81,0.9996,500000,0', 'm,1', '\"NAD27 to WGS 84 (4)\",-8,160,176,0,0,0,0']\n",
      "\n",
      "From gxf: ['NAD27 / UTM zone 16N', 'NAD27,6378206.4,0.0822718542230039,0', '\"Transverse Mercator\",0,-87,0.9996,500000,0', 'm,1', '*local_datum,-8,160,176,0,0,0,0']\n",
      "\n",
      "From json: ['NAD27 / UTM zone 16N', 'NAD27,6378206.4,0.0822718542230039,0', '\"Transverse Mercator\",0,-87,0.9996,500000,0', 'm,1', '\"NAD27 to WGS 84 (4)\",-8,160,176,0,0,0,0']\n",
      "\n",
      "From wkt: PROJCS[\"NAD_1927_UTM_Zone_16N\",GEOGCS[\"GCS_North_American_1927\",DATUM[\"D_North_American_1927\",SPHEROID[\"Clarke_1866\",6378206.4,294.9786982]],PRIMEM[\"Greenwich\",0.0],UNIT[\"Degree\",0.0174532925199433]],PROJECTION[\"Transverse_Mercator\"],PARAMETER[\"False_Easting\",500000.0],PARAMETER[\"False_Northing\",0.0],PARAMETER[\"Central_Meridian\",-87.0],PARAMETER[\"Scale_Factor\",0.9996],PARAMETER[\"Latitude_Of_Origin\",0.0],UNIT[\"Meter\",1.0],AUTHORITY[\"EPSG\",26716]]\n"
     ]
    }
   ],
   "source": [
    "import geosoft.gxpy.gx as gx\n",
    "import geosoft.gxpy.grid as gxgrd\n",
    " \n",
    "gxc = gx.GXpy()\n",
    "\n",
    "# create a memory grid as an example of a spatial object\n",
    "grid = gxgrd.Grid.new(properties=({'nx': 10, 'ny': 10}))\n",
    "print('Initially:', grid.coordinate_system) # initially '*unknown\"\n",
    " \n",
    "# define by a Geosoft-style coordinate system name. Parameters are derived from internal Geosoft tables.\n",
    "grid.coordinate_system = \"NAD83 / UTM zone 17N\"\n",
    "\n",
    "print('\\nFrom name:', grid.coordinate_system)\n",
    "print(grid.coordinate_system.gxf)\n",
    "print(grid.coordinate_system.coordinate_dict())\n",
    " \n",
    "# example use of GXF strings to change the datum to NAD27. Here we remove the name and local datum transform\n",
    "# and allow the Coordinate_system class to complete parameters for NAD27 from the tables.\n",
    "gxf = grid.coordinate_system.gxf\n",
    "gxf[0] = ''\n",
    "gxf[1] = \"NAD27\"\n",
    "gxf[4] = ''\n",
    "grid.coordinate_system = gxf\n",
    "print('\\nFrom gxf:', grid.coordinate_system.gxf)\n",
    " \n",
    "# fully explicit definition of UTM zone 17N on NAD27 datum using GXF strings.\n",
    "grid.coordinate_system = ['',\n",
    "                          'NAD27',\n",
    "                          '\"Transverse Mercator\",0,-87,0.9996,500000,0',\n",
    "                          'm,1',\n",
    "                          '\"*local_datum\",-8,160,176,0,0,0,0']\n",
    "print('\\nFrom gxf:', grid.coordinate_system.gxf)\n",
    " \n",
    "# ... from a json string. Note how to properly escape the string embedded in a string.\n",
    "js = '{\"units\": \"m,1\", \"datum\": \"NAD27\", \"projection\": \"\\\\\"Transverse Mercator\\\\\",0,-87,0.9996,500000,0\"}'\n",
    "grid.coordinate_system = js\n",
    "print('\\nFrom json:', grid.coordinate_system.gxf)\n",
    " \n",
    "# ... from an ESRI WKT string\n",
    "wkt = 'PROJCS[\"NAD_1927_UTM_Zone_16N\",' + \\\n",
    "          'GEOGCS[\"GCS_North_American_1927\",' + \\\n",
    "          'DATUM[\"D_North_American_1927\",' + \\\n",
    "          'SPHEROID[\"Clarke_1866\",6378206.4,294.9786982]],' + \\\n",
    "          'PRIMEM[\"Greenwich\",0.0],' + \\\n",
    "          'UNIT[\"Degree\",0.0174532925199433]],' + \\\n",
    "          'PROJECTION[\"Transverse_Mercator\"],' + \\\n",
    "          'PARAMETER[\"False_Easting\",500000.0],' + \\\n",
    "          'PARAMETER[\"False_Northing\",0.0],' + \\\n",
    "          'PARAMETER[\"Central_Meridian\",-87.0],' + \\\n",
    "          'PARAMETER[\"Scale_Factor\",0.9996],' + \\\n",
    "          'PARAMETER[\"Latitude_Of_Origin\",0.0],' + \\\n",
    "          'UNIT[\"Meter\",1.0],' + \\\n",
    "          'AUTHORITY[\"EPSG\",26716]]'\n",
    "grid.coordinate_system = wkt\n",
    "print('\\nFrom wkt:', grid.coordinate_system.esri_wkt)"
   ]
  }
 ],
 "metadata": {
  "anaconda-cloud": {},
  "kernelspec": {
   "display_name": "Python 3",
   "language": "python",
   "name": "python3"
  },
  "language_info": {
   "codemirror_mode": {
    "name": "ipython",
    "version": 3
   },
   "file_extension": ".py",
   "mimetype": "text/x-python",
   "name": "python",
   "nbconvert_exporter": "python",
   "pygments_lexer": "ipython3",
   "version": "3.7.3"
  }
 },
 "nbformat": 4,
 "nbformat_minor": 1
}
