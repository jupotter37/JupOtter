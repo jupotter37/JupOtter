{
 "cells": [
  {
   "cell_type": "code",
   "execution_count": null,
   "metadata": {
    "collapsed": false
   },
   "outputs": [],
   "source": [
    "%matplotlib inline\n",
    "import yt\n",
    "import logging\n",
    "logging.getLogger('yt').setLevel(logging.ERROR)\n",
    "import numpy as np\n",
    "import matplotlib\n",
    "matplotlib.rcParams['figure.dpi'] = 150\n",
    "import matplotlib.pyplot as plt\n",
    "\n",
    "from tools import setup_cl"
   ]
  },
  {
   "cell_type": "code",
   "execution_count": null,
   "metadata": {
    "scrolled": false
   },
   "outputs": [],
   "source": [
    "\n",
    "print(matplotlib.rcParams['figure.dpi'])\n",
    "dirs = ['/home/ychen/data/0only_0330_h0_nojiggle/',\\\n",
    "        '/home/ychen/data/0only_0518_hydro_nojiggle/',\\\n",
    "        '/home/ychen/data/0only_0314_h1_nojiggle/',\\\n",
    "        '/home/ychen/data/0only_0525_hinf_nojiggle/',\\\n",
    "        ]\n",
    "\n",
    "colors, labels = setup_cl(dirs)\n",
    "\n",
    "tt = np.linspace(0, 5, 10)\n",
    "\n",
    "for dir in dirs:\n",
    "    data = np.loadtxt(dir+'GridAnalysis_LobeSize.txt')\n",
    "    label = labels[dir]\n",
    "    plt.fill_between(data[:,1], data[:,2], -data[:,3],\\\n",
    "                     facecolor=colors[dir], lw=1, edgecolor=colors[dir], alpha=0.7, label=label)\n",
    "\n",
    "    #plt.fill_between(data[:,1], data[:,4], -data[:,5],\\\n",
    "    #                 facecolor=colors[dir], lw=1, linestyle=':', edgecolor=colors[dir], alpha=0.3)\n",
    "plt.plot(tt, 10*tt, ':', c='orange', label='10 kpc / Myr')\n",
    "plt.plot(tt, 8*tt, '--', c='cyan', label='8 kpc / Myr')\n",
    "plt.legend(loc=2)\n",
    "\n",
    "handles, labels = plt.axes().get_legend_handles_labels()\n",
    "# reverse the order\n",
    "plt.legend(handles[::-1], labels[::-1])\n",
    "plt.grid(ls='--', alpha=0.5)\n",
    "plt.ylabel('z (kpc)')\n",
    "plt.xlabel('t (Myr)')\n",
    "plt.xlim(0,5)\n",
    "plt.ylim(0,60)\n",
    "plt.savefig('LobeSize_nojiggle.pdf')\n",
    "#plt.show()\n",
    "#plt.semilogx()"
   ]
  },
  {
   "cell_type": "code",
   "execution_count": null,
   "metadata": {
    "collapsed": false
   },
   "outputs": [],
   "source": []
  },
  {
   "cell_type": "code",
   "execution_count": null,
   "metadata": {
    "collapsed": false
   },
   "outputs": [],
   "source": [
    "def cal_vel(locations, times):\n",
    "    loc_c = (locations[:-1] + locations[1:])/2\n",
    "    vel = (locations[:-1] - locations[1:])/(times[:-1]-times[1:])\n",
    "    return loc_c, vel"
   ]
  },
  {
   "cell_type": "code",
   "execution_count": null,
   "metadata": {},
   "outputs": [],
   "source": [
    "for zEdge in [zEdgep, zEdgem]:\n",
    "    zEdge_c, vEdge = cal_vel(zEdge, time)\n",
    "    plt.plot(np.abs(zEdge_c), np.abs(vEdge))\n",
    "plt.xlabel('z (kpc)')\n",
    "plt.ylabel('velocity (kpc/Myr)')"
   ]
  },
  {
   "cell_type": "code",
   "execution_count": null,
   "metadata": {
    "collapsed": false
   },
   "outputs": [],
   "source": [
    "sim_Tcore\t\t= 3.48E7\n",
    "sim_Tout\t\t= 7.42E7\n",
    "sim_rhoCore\t\t= 9.6E-26\t\t# g/cm3 = N particles/cm3 * 1.67E-24 = 1.91 * N electrons/cm3 * 1.67E-24\n",
    "sim_mu\t\t\t= 0.61\t\t\t# mean molecular weight\n",
    "sim_windVel     = 0.0\n",
    "sim_gammaICM\t= 1.66666\n",
    "sim_bzAmbient\t= 0.0 #1.8623E-6\n",
    "sim_densityProfile = \"betacore\"\n",
    "sim_densityBeta = 0.53\t\t\t# for the beta-model density profile\n",
    "sim_rCore\t\t= 8.1E22\t\t# 1.26 arcmin *20.81 kpc/arcmin\n",
    "sim_rCoreT\t\t= 1.85E23\t\t# 60kpc\n",
    "\n",
    "kpc = 3.086e+21\n",
    "kB = 1.38E-16\n",
    "R = 8.3144725E7\n",
    "\n",
    "distance = np.linspace(0.1*kpc, 60*kpc, 150)\n",
    "\n",
    "densityBG = sim_rhoCore*(1.0 + (distance/sim_rCore)**2)**(-1.5*sim_densityBeta)\n",
    "tempBG = sim_Tout*(1.0+(distance/sim_rCoreT)**3)/(sim_Tout/sim_Tcore+(distance/sim_rCoreT)**3)\n",
    "pressureBG = densityBG*tempBG*R\n",
    "\n",
    "Myr = 3.155760e+13\n",
    "\n",
    "sim_velJet = 3.0E9\n",
    "rhoJet = 1.27E-26"
   ]
  },
  {
   "cell_type": "code",
   "execution_count": null,
   "metadata": {},
   "outputs": [],
   "source": []
  },
  {
   "cell_type": "code",
   "execution_count": null,
   "metadata": {},
   "outputs": [],
   "source": [
    "eta = rhoJet*2/densityBG\n",
    "velHead = np.sqrt(eta)/(1+np.sqrt(eta))*sim_velJet\n",
    "plt.plot(distance/kpc, velHead/kpc*Myr, ls='--', c='grey', label=r'$2\\rho_j$')\n",
    "\n",
    "eta = rhoJet/densityBG\n",
    "velHead = np.sqrt(eta)/(1+np.sqrt(eta))*sim_velJet\n",
    "plt.plot(distance/kpc, velHead/kpc*Myr, ls='-', c='grey', label=r'$\\rho_j$')\n",
    "\n",
    "eta = rhoJet*0.5/densityBG\n",
    "velHead = np.sqrt(eta)/(1+np.sqrt(eta))*sim_velJet\n",
    "plt.plot(distance/kpc, velHead/kpc*Myr, ls='-.', c='grey', label=r'$\\frac{1}{2}\\rho_j$')\n",
    "\n",
    "eta = rhoJet/4/densityBG\n",
    "velHead = np.sqrt(eta)/(1+np.sqrt(eta))*sim_velJet\n",
    "plt.plot(distance/kpc, velHead/kpc*Myr, ls=':', c='grey', label=r'$\\frac{1}{4}\\rho_j$')\n",
    "\n",
    "\n",
    "for dir in dirs:\n",
    "    data = np.loadtxt(dir+'GridAnalysis_LobeSize.txt')\n",
    "    fnumber = data[:,0]\n",
    "    time = data[:,1]\n",
    "    zEdgep = data[:,2]\n",
    "    zEdgem = data[:,3]\n",
    "    zCenterp = data[:,4]\n",
    "    zCenterm = data[:,5]\n",
    "    rEdgep = data[:,6]\n",
    "    rEdgem = data[:,7]\n",
    "\n",
    "    zEdge_c, vEdge = cal_vel(zEdgem, time)\n",
    "    plt.plot(np.abs(zEdge_c), np.abs(vEdge), color=colors[dir], label=labels[dir])\n",
    "\n",
    "    #zEdge_c, vEdge = cal_vel(zEdgem, time)\n",
    "    #plt.plot(np.abs(zEdge_c), np.abs(vEdge), color=colors[dir])\n",
    "\n",
    "#plt.xlim(0, 60)\n",
    "plt.xlabel('distance (kpc)')\n",
    "plt.ylim(0, 16)\n",
    "plt.ylabel('Jet head velocity (kpc/Myr)')\n",
    "plt.legend(loc=4)"
   ]
  },
  {
   "cell_type": "code",
   "execution_count": null,
   "metadata": {
    "collapsed": false
   },
   "outputs": [],
   "source": []
  }
 ],
 "metadata": {
  "kernelspec": {
   "display_name": "Python 3",
   "language": "python",
   "name": "python3"
  },
  "language_info": {
   "codemirror_mode": {
    "name": "ipython",
    "version": 3
   },
   "file_extension": ".py",
   "mimetype": "text/x-python",
   "name": "python",
   "nbconvert_exporter": "python",
   "pygments_lexer": "ipython3",
   "version": "3.6.1"
  }
 },
 "nbformat": 4,
 "nbformat_minor": 1
}
