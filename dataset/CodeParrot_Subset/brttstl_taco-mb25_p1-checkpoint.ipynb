{
 "cells": [
  {
   "cell_type": "code",
   "execution_count": 1,
   "metadata": {
    "collapsed": true
   },
   "outputs": [],
   "source": [
    "import matplotlib.pyplot as plt\n",
    "import pandas as pd\n",
    "import numpy as np\n",
    "import random\n",
    "import timeit"
   ]
  },
  {
   "cell_type": "code",
   "execution_count": 2,
   "metadata": {
    "collapsed": true
   },
   "outputs": [],
   "source": [
    "## BUBBLESORT(A)\n",
    "def bubbleSort(A):\n",
    "    # 1 for i = 1 to A.length - 1\n",
    "    for i in range(len(A) - 1):\n",
    "        # 2 for j = A.length downto i + 1\n",
    "        for j in range(len(A) - 1, i, -1):\n",
    "            # 3 if A[j] < A[j - 1]\n",
    "            if (A[j] < A[j - 1]):\n",
    "                # 4 exchange A[j] with A[j - 1]\u0002\n",
    "                A[j], A[j - 1] = A[j - 1], A[j]"
   ]
  },
  {
   "cell_type": "code",
   "execution_count": 3,
   "metadata": {
    "collapsed": true
   },
   "outputs": [],
   "source": [
    "## INSERTION-SORT(A)\n",
    "def insertSort(A):\n",
    "    # 1 for j = 2 to A.length\n",
    "    for j in range(len(A)):\n",
    "        # 2 key = A[j]\n",
    "        temp = A[j]\n",
    "        # 3 // Insert A[j] into the sorted sequence A[1 .. j - 1].\n",
    "        # 4 i = j - 1\n",
    "        i = j - 1\n",
    "        # 5 while i > 0 and A[i]\u0002 > key\n",
    "        while ((i > 0) & (A[i] > temp)):\n",
    "            # 6 A[i + 1] = A[i]\n",
    "            A[i + 1] = A[i]\n",
    "            # 7 i = i - 1\n",
    "            i = i - 1\n",
    "            # 8 A[i + 1] = key\n",
    "            A[i + 1] = temp"
   ]
  },
  {
   "cell_type": "code",
   "execution_count": 4,
   "metadata": {
    "collapsed": true
   },
   "outputs": [],
   "source": [
    "# This is just a wrapper function for the timings\n",
    "def wrapper(func, *args, **kwargs):\n",
    "    def wrap():\n",
    "        return func(*args, **kwargs)\n",
    "    return wrap"
   ]
  },
  {
   "cell_type": "code",
   "execution_count": null,
   "metadata": {},
   "outputs": [],
   "source": [
    "#### For plot 1\n",
    "## Create 3 lists of 10 sublists of n random numbers to avoid skewing timing:\n",
    "listsBubble5001 = [[] for _ in range(25)]\n",
    "listsInsert5001 = [[] for _ in range(25)]\n",
    "\n",
    "n = 0\n",
    "for i in range(25):\n",
    "    n += 2000 \n",
    "    listsBubble5001[i] = random.sample(range(1, 200001), n)\n",
    "    listsInsert5001[i] = random.sample(range(1, 200001), n)\n",
    "    \n",
    "listLen = [len(listsBubble5001[i]) for i in range(len(listsBubble5001))]"
   ]
  },
  {
   "cell_type": "code",
   "execution_count": null,
   "metadata": {},
   "outputs": [],
   "source": [
    "# Create empty lists to store timings\n",
    "# bubbleSort timings\n",
    "bubble5001 = []\n",
    "insert5001 = []\n",
    "\n",
    "# Loop through and time the 25 random lists * 10 times for each of the three lengths\n",
    "for i in range(len(listsBubble5001)):\n",
    "    bubble5001.append(timeit.timeit(wrapper(bubbleSort, listsBubble5001[i]), number=10))\n",
    "    insert5001.append(timeit.timeit(wrapper(insertSort, listsInsert5001[i]), number=10))\n",
    "    \n",
    "bubble1 = [np.mean(bubble5001)]\n",
    "insert1 = [np.mean(insert5001)]"
   ]
  },
  {
   "cell_type": "code",
   "execution_count": null,
   "metadata": {},
   "outputs": [],
   "source": [
    "graph = pd.DataFrame({'n': listLen, \n",
    "                      'bubble time (random)': bubble5001,\n",
    "                      'insert time (random)': insert5001})\n",
    "graph = graph[['n', 'bubble time (random)', 'insert time (random)']]"
   ]
  },
  {
   "cell_type": "code",
   "execution_count": null,
   "metadata": {},
   "outputs": [],
   "source": [
    "# red dashes, blue squares and green triangles\n",
    "plt.plot(graph['n'], graph['bubble time (random)'], 'r--')\n",
    "plt.plot(graph['n'], graph['insert time (random)'], 'b--')\n",
    "plt.show()"
   ]
  },
  {
   "cell_type": "code",
   "execution_count": null,
   "metadata": {
    "collapsed": true
   },
   "outputs": [],
   "source": [
    "#### Plot 2\n",
    "## Create 3 lists of 10 sublists of n random numbers to avoid skewing timing:\n",
    "listsBubble5002 = [[] for _ in range(25)]\n",
    "listsInsert5002 = [[] for _ in range(25)]\n",
    "\n",
    "# Create data, store in list, and sort in increasing order\n",
    "n = 0\n",
    "for i in range(25):\n",
    "    n += 2000 \n",
    "    listsBubble5002[i] = np.sort(random.sample(range(1, 200001), n), axis=None)\n",
    "    listsInsert5002[i] = np.sort(random.sample(range(1, 200001), n), axis=None)\n",
    "\n",
    "# Create empty lists to store timings\n",
    "# bubbleSort timings\n",
    "bubble5002 = []\n",
    "insert5002 = []\n",
    "\n",
    "# Loop through and time the 25 sorted random lists * 1 times\n",
    "for i in range(len(lists5002)):\n",
    "    bubble5002.append(timeit.timeit(wrapper(bubbleSort, listsBubble5002[i]), number=1))\n",
    "    insert5002.append(timeit.timeit(wrapper(insertSort, listsInsert5002[i]), number=1))"
   ]
  },
  {
   "cell_type": "code",
   "execution_count": null,
   "metadata": {},
   "outputs": [],
   "source": [
    "# Add results to dataframe\n",
    "graph['bubble time (random asc.)'] = bubble5002\n",
    "graph['insert time (random asc.)'] = insert5002"
   ]
  },
  {
   "cell_type": "code",
   "execution_count": null,
   "metadata": {},
   "outputs": [],
   "source": [
    "plt.plot(graph['n'], graph['bubble time (random asc.)'], 'r--')\n",
    "plt.plot(graph['n'], graph['insert time (random asc.)'], 'b--')\n",
    "plt.show()"
   ]
  },
  {
   "cell_type": "code",
   "execution_count": null,
   "metadata": {
    "collapsed": true
   },
   "outputs": [],
   "source": [
    "#### Plot 3\n",
    "## Create a list of 25 sublists of n random numbers to avoid skewing timing:\n",
    "listsBubble5003 = [[] for _ in range(25)]\n",
    "listsInsert5003 = [[] for _ in range(25)]\n",
    "\n",
    "# Create data, store in list, and sort in increasing order\n",
    "n = 0\n",
    "for i in range(25):\n",
    "    n += 2000 \n",
    "    listsBubble5003[i] = np.sort(random.sample(range(1, 200001), n), axis=None)\n",
    "    listsInsert5003[i] = np.sort(random.sample(range(1, 200001), n), axis=None)\n",
    "\n",
    "for i in range(25):\n",
    "    listsBubble5003[i][::-1].sort()\n",
    "    listsInsert5003[i][::-1].sort()\n",
    "    \n",
    "# Create empty lists to store timings\n",
    "# bubbleSort timings\n",
    "bubble5003 = []\n",
    "insert5003 = []\n",
    "\n",
    "# Loop through and time the 25 sorted random lists * 1 times\n",
    "for i in range(len(lists5003)):\n",
    "    bubble5003.append(timeit.timeit(wrapper(bubbleSort, listsBubble5003[i]), number=1))\n",
    "    insert5003.append(timeit.timeit(wrapper(insertSort, listsInsert5003[i]), number=1))"
   ]
  },
  {
   "cell_type": "code",
   "execution_count": null,
   "metadata": {},
   "outputs": [],
   "source": [
    "# Add results to dataframe\n",
    "graph['bubble time (random desc.)'] = bubble5003\n",
    "graph['insert time (random desc.)'] = insert5003\n",
    "graph"
   ]
  },
  {
   "cell_type": "code",
   "execution_count": null,
   "metadata": {},
   "outputs": [],
   "source": [
    "plt.plot(graph['n'], graph['bubble time (random desc.)'], 'r--')\n",
    "plt.plot(graph['n'], graph['insert time (random desc.)'], 'b--')\n",
    "plt.show()"
   ]
  },
  {
   "cell_type": "markdown",
   "metadata": {},
   "source": [
    "## Explain Your Choices: "
   ]
  },
  {
   "cell_type": "markdown",
   "metadata": {},
   "source": [
    "+ Explain any platform/language choices that you made for your code/plots. \n",
    "    - I chose python since I am most comfortable in python. For the code, I adapted the psuedo code from the book and used that psuedo code as comments in-line to highlight how I adapted the steps."
   ]
  },
  {
   "cell_type": "markdown",
   "metadata": {},
   "source": [
    "+ How did you create/store your data that you used to make the plots? \n",
    "    - I used a for loop and numpy's random sample function to create a list with 25 randomly sampled sublists of size with increasing n from 2000 - 50000 for plot 1. For plots 2 and 3 I used similar approach but sorted in ascending and descending order, respectively to meet the constraints instructed. I took the 10 timings for each of the 25 sets of data for plot 1 and plotted in matplotlib. I only took one timing for the purposes of plots 2 & 3 per the faq posted on piazza: https://piazza.com/class/j63o8j0x6m3123?cid=18 \n",
    "    - For these graphs, Red represents the bubbleSort algorithm timing; whereas blue represents the insertSort algorithm."
   ]
  },
  {
   "cell_type": "markdown",
   "metadata": {},
   "source": [
    "+ If you ran into any special difficulties or made any interesting observations, feel free to mention them here.\n",
    "    - I originally ran into some difficulty with the nested for loop with bubble sort (step 2) and getting it to iterate through the entire list but eventually got it work."
   ]
  },
  {
   "cell_type": "markdown",
   "metadata": {},
   "source": [
    "## Conclusions: \n",
    "+ These two algorithms are supposed to have quadratic running time. \n",
    "+ Does the first plot reflect this? \n",
    "+ How do the two algorithms compare in terms of running time? \n",
    "+ How about the second plot? \n",
    "+ Do you think this one is quadratic? Why do you think it looks the way it does?\n",
    "+ How does the third compare to the first and the second? \n",
    "+ What kind of functions do you think you’re observing in the three plots (linear, logarithmic, quadratic, exponential, etc etc)? \n",
    "+ Would you use these algorithms for real life data, and why?"
   ]
  },
  {
   "cell_type": "code",
   "execution_count": null,
   "metadata": {
    "collapsed": true
   },
   "outputs": [],
   "source": []
  }
 ],
 "metadata": {
  "kernelspec": {
   "display_name": "Python 3",
   "language": "python",
   "name": "python3"
  },
  "language_info": {
   "codemirror_mode": {
    "name": "ipython",
    "version": 3
   },
   "file_extension": ".py",
   "mimetype": "text/x-python",
   "name": "python",
   "nbconvert_exporter": "python",
   "pygments_lexer": "ipython3",
   "version": "3.6.1"
  }
 },
 "nbformat": 4,
 "nbformat_minor": 2
}
