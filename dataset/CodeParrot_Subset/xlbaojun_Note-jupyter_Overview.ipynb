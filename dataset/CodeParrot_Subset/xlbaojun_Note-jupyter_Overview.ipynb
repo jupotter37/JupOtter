{
 "cells": [
  {
   "cell_type": "markdown",
   "metadata": {},
   "source": [
    "pandas库的优点：\n",
    "* 含有三个好用的数据结构：Series、DataFrame、Panel\n",
    "* 支持普通的坐标index和层次化index\n",
    "* 含有大量方法，方便地处理数据\n",
    "* 含有方便的I/O读写数据方法，支持csv、excel、HDFS等多种常用数据格式\n",
    "* 内存占用少"
   ]
  },
  {
   "cell_type": "markdown",
   "metadata": {},
   "source": [
    "  \n",
    "\n"
   ]
  },
  {
   "cell_type": "markdown",
   "metadata": {},
   "source": [
    "## 数据结构"
   ]
  },
  {
   "cell_type": "markdown",
   "metadata": {},
   "source": [
    "![](https://c1.staticflickr.com/3/2864/33450400012_13d1327ef2.jpg)"
   ]
  },
  {
   "cell_type": "markdown",
   "metadata": {},
   "source": [
    "### 为什么要有多个数据结构？"
   ]
  },
  {
   "cell_type": "markdown",
   "metadata": {},
   "source": [
    "pandas内置了三个数据结构，一维的Series，二维的DataFrame，三维的Panel。你可以把DataFrame看做容器，容器元素是Series，同样，你可以把Panel看做容器，容器元素是DataFrame。\n",
    "\n",
    "\n",
    "我们可以对容器进行插入、删除操作，操作方式和python中的字典很相似。"
   ]
  },
  {
   "cell_type": "markdown",
   "metadata": {},
   "source": [
    "最常用的数据结构是DataFrame,你完全可以把它看做一个数据库表，DataFrame的index就是每一行的id，column就是数据库表的列名。这样理解的好处是可以避免用用axis=0，axis=1来操作数据，更加直观。\n",
    "\n",
    "    \n",
    "\n"
   ]
  },
  {
   "cell_type": "code",
   "execution_count": null,
   "metadata": {
    "collapsed": true
   },
   "outputs": [],
   "source": [
    "for col in df.columns:\n",
    "    series = df[col]\n",
    "    # do something with series"
   ]
  },
  {
   "cell_type": "markdown",
   "metadata": {},
   "source": [
    "## 可变性与数据复制"
   ]
  },
  {
   "cell_type": "markdown",
   "metadata": {},
   "source": [
    "Python的数据类型可以分为可变类型和不可变类型。比如，string、tuple就是不可变类型，list、dictionary是可变类型。\n",
    "\n",
    "所有的pandas数据结构都是值可变的，你可以修改他们的值，但不是所有的数据结构都是大小可变的。\n",
    "\n",
    "Series的长度就不可变，一旦创建，长度就不能修改。\n",
    "\n",
    "和Series不同，DataFrame可以增加、删除列。\n",
    "\n",
    "pandas中的大多数方法不会直接在传入的参数上进行操作，而是返回一个新的结果对象。"
   ]
  },
  {
   "cell_type": "code",
   "execution_count": null,
   "metadata": {
    "collapsed": true
   },
   "outputs": [],
   "source": []
  },
  {
   "cell_type": "code",
   "execution_count": null,
   "metadata": {
    "collapsed": true
   },
   "outputs": [],
   "source": []
  },
  {
   "cell_type": "code",
   "execution_count": null,
   "metadata": {
    "collapsed": true
   },
   "outputs": [],
   "source": []
  }
 ],
 "metadata": {
  "kernelspec": {
   "display_name": "Python 2",
   "language": "python",
   "name": "python2"
  },
  "language_info": {
   "codemirror_mode": {
    "name": "ipython",
    "version": 2
   },
   "file_extension": ".py",
   "mimetype": "text/x-python",
   "name": "python",
   "nbconvert_exporter": "python",
   "pygments_lexer": "ipython2",
   "version": "2.7.12"
  }
 },
 "nbformat": 4,
 "nbformat_minor": 2
}
