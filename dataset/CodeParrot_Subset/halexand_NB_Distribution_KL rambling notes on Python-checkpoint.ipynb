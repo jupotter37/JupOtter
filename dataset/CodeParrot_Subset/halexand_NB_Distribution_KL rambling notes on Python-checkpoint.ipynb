{
 "cells": [
  {
   "cell_type": "markdown",
   "metadata": {},
   "source": [
    "Use this to keep track of useful code bits as I learn Python\n",
    "Krista, August 19, 2015"
   ]
  },
  {
   "cell_type": "markdown",
   "metadata": {},
   "source": [
    "\n",
    "\n",
    "Shortcut \tAction\n",
    "Shift-Enter \trun cell\n",
    "Ctrl-Enter \trun cell in-place\n",
    "Alt-Enter \trun cell, insert below\n",
    "\n",
    "***\n",
    "Ctrl / (Ctrl and then the slash)...will comment out any selected text within a block of code"
   ]
  },
  {
   "cell_type": "code",
   "execution_count": null,
   "metadata": {
    "collapsed": true
   },
   "outputs": [],
   "source": [
    "#First up...list the files in a directory\n",
    "import os,sys\n",
    "os.listdir(os.getcwd())"
   ]
  },
  {
   "cell_type": "code",
   "execution_count": null,
   "metadata": {
    "collapsed": true
   },
   "outputs": [],
   "source": [
    "#read the CSV file into a data frame and use the pandas head tool to show me the first five rows. \n",
    "#note that this doesn't seem to work: pd.head(CO_RawData)\n",
    "CO_RawData=pd.read_csv(mtabFile, index_col='RInumber')\n",
    "CO_RawData.head(n=5)"
   ]
  },
  {
   "cell_type": "code",
   "execution_count": null,
   "metadata": {
    "collapsed": true
   },
   "outputs": [],
   "source": [
    "#insert an image...the gif file here would be in the folder\n",
    "from IPython.display import Image\n",
    "Image(url=\"R02485.gif\")"
   ]
  },
  {
   "cell_type": "code",
   "execution_count": null,
   "metadata": {
    "collapsed": true
   },
   "outputs": [],
   "source": [
    "for x in range(0, 3):\n",
    "    print(\"hello\")"
   ]
  },
  {
   "cell_type": "code",
   "execution_count": null,
   "metadata": {
    "collapsed": true
   },
   "outputs": [],
   "source": [
    "fig.suptitle(CO + ' working') #use the plus sign to concatenate strings for the title"
   ]
  },
  {
   "cell_type": "code",
   "execution_count": null,
   "metadata": {
    "collapsed": true
   },
   "outputs": [],
   "source": [
    "from IPython.core.debugger import Tracer #used this to step into the function and debug it, also need line with Tracer()() \n",
    "for i, CO in enumerate(CO_withKO):\n",
    "    #if i==2:\n",
    "         #break\n",
    "    kos=CO_withKO[CO]['Related KO']\n",
    "    cos=CO_withKO[CO]['Related CO']\n",
    "    for k in kos: \n",
    "        if k in KO_RawData.index: \n",
    "            kData=KO_RawData.loc[kos].dropna()\n",
    "            kData=(kData.T/kData.sum(axis=1)).T\n",
    "            cData=CO_RawData.loc[cos].dropna()\n",
    "            cData=(cData.T/cData.sum(axis=1)).T\n",
    "            \n",
    "            fig, ax=plt.subplots(1)\n",
    "            kData.T.plot(color='r', ax=ax)\n",
    "            cData.T.plot(color='k', ax=ax)\n",
    "            \n",
    "            Tracer()()\n",
    "            \n",
    "            getKmeans = CcoClust.loc['C01909']['kmeans']\n",
    "            makeStringLabel = CO + '_kmeansCluster_' + str(getKmeans)\n",
    "            #fig.suptitle(CO)\n",
    "            fig.suptitle(makeStringLabel)\n",
    "            \n",
    "            #fig.savefig(CO+'.png') #stop saving all the images for now...\n",
    "            break"
   ]
  },
  {
   "cell_type": "code",
   "execution_count": 7,
   "metadata": {
    "collapsed": false
   },
   "outputs": [
    {
     "data": {
      "image/png": "[encoded data removed]",
      "text/plain": [
       "<IPython.core.display.Image object>"
      ]
     },
     "execution_count": 7,
     "metadata": {},
     "output_type": "execute_result"
    }
   ],
   "source": [
    "#here, tData is a pandas data frame that I want to plot into a bar graph\n",
    "#tData.plot(kind = \"bar\") ##this would be the code to run if tData existed...\n",
    "#instead I am reading in the file saved and present in my working directory using this:\n",
    "from IPython.display import Image\n",
    "Image(filename=\"SampleBarGraph.png\")"
   ]
  },
  {
   "cell_type": "code",
   "execution_count": null,
   "metadata": {
    "collapsed": true
   },
   "outputs": [],
   "source": [
    "#indexing in Python is a bit bizarre, or at least takes some getting used to.\n",
    "# df.ix[0,'cNumber'] #this will allow me to mix index from integers with index by label\n",
    "#other way apparently uses iloc and loc, to use integers and labels respectively\n",
    "# this would be df.iloc[0].loc['cNumber] {can't get that to work in the if statement}"
   ]
  },
  {
   "cell_type": "code",
   "execution_count": 8,
   "metadata": {
    "collapsed": false
   },
   "outputs": [
    {
     "ename": "NameError",
     "evalue": "name 'CcoClust' is not defined",
     "output_type": "error",
     "traceback": [
      "\u001b[1;31m---------------------------------------------------------------------------\u001b[0m",
      "\u001b[1;31mNameError\u001b[0m                                 Traceback (most recent call last)",
      "\u001b[1;32m<ipython-input-8-73c35b442f8f>\u001b[0m in \u001b[0;36m<module>\u001b[1;34m()\u001b[0m\n\u001b[1;32m----> 1\u001b[1;33m \u001b[0mCcoClust\u001b[0m\u001b[1;33m.\u001b[0m\u001b[0mloc\u001b[0m\u001b[1;33m[\u001b[0m\u001b[1;34m'C05356'\u001b[0m\u001b[1;33m]\u001b[0m\u001b[1;33m[\u001b[0m\u001b[1;34m'kmeans'\u001b[0m\u001b[1;33m]\u001b[0m\u001b[1;33m\u001b[0m\u001b[0m\n\u001b[0m",
      "\u001b[1;31mNameError\u001b[0m: name 'CcoClust' is not defined"
     ]
    }
   ],
   "source": [
    "#ways to subset data...\n",
    "CcoClust.loc['C05356']['kmeans']\n",
    "tData = CcoClust.loc['C05356']\n",
    "type(tData)\n",
    "\n",
    "#want to select only the first group in the kmeans clusters \n",
    "#(baby steps, eventually do this for each cluster)\n",
    "CcoClust[CcoClust.kmeans==1]"
   ]
  },
  {
   "cell_type": "markdown",
   "metadata": {},
   "source": [
    "/...this is where I learned to not use pip install with scikit-learn...\n",
    "To upgrade scikit-learn:\n",
    "conda update scikit-learn\n"
   ]
  },
  {
   "cell_type": "code",
   "execution_count": 1,
   "metadata": {
    "collapsed": false
   },
   "outputs": [],
   "source": [
    "import sklearn.cluster\n",
    "#from sklearn.cluster import KMeans"
   ]
  },
  {
   "cell_type": "code",
   "execution_count": 1,
   "metadata": {
    "collapsed": true
   },
   "outputs": [],
   "source": [
    "silAverage = [0.4227, 0.33299, 0.354, 0.3768, 0.3362, 0.3014, 0.3041, 0.307, 0.313, 0.325,\n",
    "0.3109, 0.2999, 0.293, 0.289, 0.2938, 0.29, 0.288, 0.3, 0.287]"
   ]
  },
  {
   "cell_type": "code",
   "execution_count": 3,
   "metadata": {
    "collapsed": true
   },
   "outputs": [],
   "source": [
    "import matplotlib.pyplot as plt\n",
    "%matplotlib inline"
   ]
  },
  {
   "cell_type": "markdown",
   "metadata": {
    "collapsed": true
   },
   "source": [
    "OK...can I get a simple scatter plot?"
   ]
  },
  {
   "cell_type": "code",
   "execution_count": 15,
   "metadata": {
    "collapsed": false
   },
   "outputs": [
    {
     "data": {
      "text/plain": [
       "(-1, 20)"
      ]
     },
     "execution_count": 15,
     "metadata": {},
     "output_type": "execute_result"
    },
    {
     "data": {
      "image/png": "[encoded data removed]",
      "text/plain": [
       "<matplotlib.figure.Figure at 0xbea20b8>"
      ]
     },
     "metadata": {},
     "output_type": "display_data"
    }
   ],
   "source": [
    "plt.scatter(range(0,len(silAverage)), silAverage)\n",
    "plt.grid() #put on a grid\n",
    "\n",
    "plt.xlim(-1,20)"
   ]
  },
  {
   "cell_type": "code",
   "execution_count": null,
   "metadata": {
    "collapsed": true
   },
   "outputs": [],
   "source": [
    "#get list of column names in pandas data frame\n",
    "list(my_dataframe.columns.values)"
   ]
  },
  {
   "cell_type": "code",
   "execution_count": null,
   "metadata": {
    "collapsed": true
   },
   "outputs": [],
   "source": [
    "for i in range(0,len(ut)):\n",
    "    if i == 10:\n",
    "        break\n",
    "    p = ut.iloc[i,:]\n",
    "    n = p.name\n",
    "    if n[0] == 'R':\n",
    "        #do the plotting, \n",
    "        #print 'yes'\n",
    "        CO = p.KEGG\n",
    "        kos = CO_withKO[CO]['Related KO']\n",
    "        cos = CO_withKO[CO]['Related CO']\n",
    "        #Tracer()()\n",
    "        for k in kos: \n",
    "            if k in KO_RawData.index: \n",
    "                kData=KO_RawData.loc[kos].dropna()\n",
    "                kData=(kData.T/kData.sum(axis=1)).T\n",
    "                #? why RawData, the output from the K-means will have the normalized data, use that for CO \n",
    "                #bc easier since that is the file I am working with right now.\n",
    "                #cData=CO_RawData.loc[cos].dropna()\n",
    "                #cData=(cData.T/cData.sum(axis=1)).T\n",
    "                cData = pd.DataFrame(p[dayList]).T\n",
    "                \n",
    "                #go back and check, but I think this next step is already done\n",
    "                #cData=(cData.T/cData.sum(axis=1)).T\n",
    "\n",
    "                fig, ax=plt.subplots(1)\n",
    "                kData.T.plot(color='r', ax=ax)\n",
    "                cData.T.plot(color='k', ax=ax)\n",
    "                \n",
    "    else:\n",
    "        #skip over the KO plotting, so effectively doing nothing\n",
    "        #print 'no'"
   ]
  },
  {
   "cell_type": "markdown",
   "metadata": {},
   "source": [
    "Write a function to match RI number and cNumbers"
   ]
  },
  {
   "cell_type": "code",
   "execution_count": null,
   "metadata": {
    "collapsed": true
   },
   "outputs": [],
   "source": [
    "def findRInumber(dataIn,KEGGin):\n",
    "    #find possible RI numbers for a given KEGG number. \n",
    "    for i,KEGG in enumerate(dataIn['KEGG']):\n",
    "        if KEGG == KEGGin:\n",
    "            t = dataIn.index[i]\n",
    "            print t\n",
    "\n",
    "#For example: this will give back one row, C18028 will be multiple\n",
    "m = findRInumber(forRelatedness,'C00031') \n",
    "m"
   ]
  },
  {
   "cell_type": "code",
   "execution_count": null,
   "metadata": {
    "collapsed": true
   },
   "outputs": [],
   "source": [
    "#to copy a matrix I would think this works: NOPE\n",
    "#forRelatedness = CcoClust# this is NOT making a new copy...\n",
    "#instead it makes a new pointing to an existing data frame. So you now have two ways to \n",
    "#reference the same data frame. Make a change with one term and you can see the same change\n",
    "#using the other name. Odd. No idea why you would want that.\n"
   ]
  },
  {
   "cell_type": "code",
   "execution_count": null,
   "metadata": {
    "collapsed": true
   },
   "outputs": [],
   "source": [
    "##this is the test that finally let me understand enumerate\n",
    "\n",
    "# for index, KEGG in enumerate(useSmall['KEGG']):\n",
    "#     print index,KEGG"
   ]
  },
  {
   "cell_type": "code",
   "execution_count": null,
   "metadata": {
    "collapsed": true
   },
   "outputs": [],
   "source": [
    "# Windows\n",
    "chrome_path = 'C:/Program Files (x86)/Google/Chrome/Application/chrome.exe %s'\n",
    "\n",
    "url = \"http://www.genome.jp/dbget-bin/www_bget?cpd:C00019\"\n",
    "webbrowser.get(chrome_path).open_new(url)\n",
    "#while a nice idea, this stays open until you close the web browser window."
   ]
  },
  {
   "cell_type": "code",
   "execution_count": 1,
   "metadata": {
    "collapsed": false
   },
   "outputs": [
    {
     "name": "stdout",
     "output_type": "stream",
     "text": [
      "<iframe src = http://www.genome.jp/dbget-bin/www_bget?cpd:C02265 width=700 height=350></iframe>\n",
      "<iframe src = http://www.genome.jp/dbget-bin/www_bget?cpd:C00001 width=700 height=350></iframe>\n"
     ]
    }
   ],
   "source": [
    "from IPython.display import HTML\n",
    "tList = ['C02265','C00001']\n",
    "for i in tList:\n",
    "    ml = '<iframe src = http://www.genome.jp/dbget-bin/www_bget?cpd:' + i + ' width=700 height=350></iframe>'\n",
    "    print ml"
   ]
  },
  {
   "cell_type": "code",
   "execution_count": 3,
   "metadata": {
    "collapsed": false
   },
   "outputs": [
    {
     "data": {
      "text/html": [
       "<iframe src = http://www.genome.jp/dbget-bin/www_bget?cpd:C02265 width=700 height=350></iframe>"
      ],
      "text/plain": [
       "<IPython.core.display.HTML object>"
      ]
     },
     "execution_count": 3,
     "metadata": {},
     "output_type": "execute_result"
    }
   ],
   "source": [
    "from IPython.display import HTML\n",
    "CO='C02265'\n",
    "HTML('<iframe src = http://www.genome.jp/dbget-bin/www_bget?cpd:' + CO + ' width=700 height=350></iframe>')\n"
   ]
  },
  {
   "cell_type": "code",
   "execution_count": null,
   "metadata": {
    "collapsed": true
   },
   "outputs": [],
   "source": []
  }
 ],
 "metadata": {
  "kernelspec": {
   "display_name": "Python 2",
   "language": "python",
   "name": "python2"
  },
  "language_info": {
   "codemirror_mode": {
    "name": "ipython",
    "version": 2
   },
   "file_extension": ".py",
   "mimetype": "text/x-python",
   "name": "python",
   "nbconvert_exporter": "python",
   "pygments_lexer": "ipython2",
   "version": "2.7.9"
  }
 },
 "nbformat": 4,
 "nbformat_minor": 0
}
