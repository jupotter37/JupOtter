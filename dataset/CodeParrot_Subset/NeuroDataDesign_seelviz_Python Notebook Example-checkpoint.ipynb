{
 "cells": [
  {
   "cell_type": "code",
   "execution_count": 1,
   "metadata": {
    "collapsed": true
   },
   "outputs": [],
   "source": [
    "import os\n",
    "os.chdir('/Users/Tony/Documents/Git Folder/seelviz/Jupyter/DownsampleGraphML')\n",
    "\n",
    "from argparse import ArgumentParser\n",
    "from collections import OrderedDict\n",
    "from subprocess import Popen\n",
    "from scipy.stats import gaussian_kde\n",
    "from matplotlib.backends.backend_pdf import PdfPages\n",
    "\n",
    "import numpy as np\n",
    "import nibabel as nb\n",
    "import networkx as nx\n",
    "import os\n",
    "import pickle\n",
    "import matplotlib.pyplot as plt\n",
    "import matplotlib.mlab as mlab\n",
    "\n",
    "import random"
   ]
  },
  {
   "cell_type": "code",
   "execution_count": 2,
   "metadata": {
    "collapsed": false
   },
   "outputs": [
    {
     "name": "stdout",
     "output_type": "stream",
     "text": [
      "0.458981151759\n"
     ]
    }
   ],
   "source": [
    "x = random.uniform(0, 1)\n",
    "print x"
   ]
  },
  {
   "cell_type": "code",
   "execution_count": 7,
   "metadata": {
    "collapsed": false
   },
   "outputs": [
    {
     "name": "stdout",
     "output_type": "stream",
     "text": [
      "[[ 0.58984995]\n",
      " [ 0.95935512]\n",
      " [ 0.33090203]\n",
      " ..., \n",
      " [ 0.35773899]\n",
      " [ 0.28649891]\n",
      " [ 0.10661699]]\n"
     ]
    }
   ],
   "source": [
    "xhist = (np.random.rand(5000, 1))\n",
    "print xhist"
   ]
  },
  {
   "cell_type": "code",
   "execution_count": 14,
   "metadata": {
    "collapsed": false
   },
   "outputs": [],
   "source": [
    "pp = PdfPages('test.pdf')\n",
    "\n",
    "num_bins = 50\n",
    "# the histogram of the data\n",
    "n, bins, patches = plt.hist(xhist, num_bins, facecolor='green', alpha=0.5)\n",
    "\n",
    "plt.axis([0, 1, 0, 1000])\n",
    "plt.xlabel('Values')\n",
    "plt.ylabel('Counts')\n",
    "plt.title(r'Histogram of Values vs Counts')\n",
    "\n",
    "# Tweak spacing to prevent clipping of ylabel\n",
    "plt.subplots_adjust(left=0.15)\n",
    "pp.savefig()\n",
    "pp.close()"
   ]
  },
  {
   "cell_type": "code",
   "execution_count": null,
   "metadata": {
    "collapsed": true
   },
   "outputs": [],
   "source": []
  }
 ],
 "metadata": {
  "anaconda-cloud": {},
  "kernelspec": {
   "display_name": "Python [Root]",
   "language": "python",
   "name": "Python [Root]"
  },
  "language_info": {
   "codemirror_mode": {
    "name": "ipython",
    "version": 2
   },
   "file_extension": ".py",
   "mimetype": "text/x-python",
   "name": "python",
   "nbconvert_exporter": "python",
   "pygments_lexer": "ipython2",
   "version": "2.7.12"
  }
 },
 "nbformat": 4,
 "nbformat_minor": 0
}
